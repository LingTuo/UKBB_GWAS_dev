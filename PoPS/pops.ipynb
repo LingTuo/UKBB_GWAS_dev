{
 "cells": [
  {
   "cell_type": "markdown",
   "id": "dba9a037-724d-4d12-8fee-61cc6b5e3297",
   "metadata": {
    "kernel": "SoS",
    "tags": []
   },
   "source": [
    "# PoPS Workflow"
   ]
  },
  {
   "cell_type": "markdown",
   "id": "619e080a-82cd-45c0-a6b0-993a28177770",
   "metadata": {
    "kernel": "SoS"
   },
   "source": [
    "This pipeline is modified from the [FinucaneLab's code](https://github.com/FinucaneLab/gene_features/tree/master/code). \n",
    "\n",
    "> [Weeks, E. M., Ulirsch, J. C., Cheng, N. Y., Trippe, B. L., Fine, R. S., Miao, J., ... & Finucane, H. K. (2020). Leveraging polygenic enrichments of gene features to predict genes underlying complex traits and diseases. medRxiv.](https://doi.org/10.1101/2020.09.08.20190561;)"
   ]
  },
  {
   "cell_type": "markdown",
   "id": "3ed8ca13-6c65-4399-ac07-db6fe6a8cc52",
   "metadata": {
    "kernel": "SoS"
   },
   "source": [
    "## Overview\n",
    "\n",
    "### 1. MAGMA\n",
    "\n",
    "### 2. Gene features\n",
    "\n",
    "* Read in, QC, filter, scale, and normalize data\n",
    "\n",
    "* Perform PCA and independent component analysis (ICA) across all cells or meta-cells or tissues\n",
    "\n",
    "* Perform clustering and UMAP and plot features on projection\n",
    "\n",
    "* Perform differential expression analysis\n",
    "\n",
    "### 3. Feature selection\n",
    "\n",
    "### 4. Predict scores"
   ]
  },
  {
   "cell_type": "markdown",
   "id": "d5e462d0-c299-4051-bc5f-d4055e3d666f",
   "metadata": {
    "kernel": "SoS"
   },
   "source": [
    "## A working example"
   ]
  },
  {
   "cell_type": "code",
   "execution_count": null,
   "id": "ebe8141d-1846-4ea8-a868-3f07eee2e5cc",
   "metadata": {
    "kernel": "SoS"
   },
   "outputs": [],
   "source": []
  },
  {
   "cell_type": "code",
   "execution_count": 3,
   "id": "262abf00-8b9e-4a5d-be38-4b5a7a92aee2",
   "metadata": {
    "kernel": "Bash",
    "tags": []
   },
   "outputs": [
    {
     "name": "stdout",
     "output_type": "stream",
     "text": [
      "usage: sos run pops.ipynb [workflow_name | -t targets] [options] [workflow_options]\n",
      "  workflow_name:        Single or combined workflows defined in this script\n",
      "  targets:              One or more targets to generate\n",
      "  options:              Single-hyphen sos parameters (see \"sos run -h\" for details)\n",
      "  workflow_options:     Double-hyphen workflow-specific parameters\n",
      "\n",
      "Workflows:\n",
      "  qc\n",
      "  pca\n",
      "  umap\n",
      "  deg\n",
      "\n",
      "Global Workflow Options:\n",
      "  --cwd VAL (as path, required)\n",
      "                        the output directory for generated files\n",
      "  --name VAL (as str, required)\n",
      "                        A string to identify your analysis run\n",
      "  --job-size 1 (as int)\n",
      "                        For cluster jobs, number commands to run per job\n",
      "  --walltime 5h\n",
      "                        Wall clock time expected\n",
      "  --mem 16G\n",
      "                        Memory expected\n",
      "  --numThreads 20 (as int)\n",
      "                        Number of threads\n",
      "  --container-pops 'guangyou/pops:1.0.0'\n",
      "                        Software container option\n",
      "  --number-pcs 35 (as int)\n",
      "                        Number of PCs applied\n",
      "  --vargenes 1500 (as int)\n",
      "                        Number of features to select as top variable features\n",
      "  --clus-res 0.6 (as float)\n",
      "                        Value of the resolution parameter, use a value above\n",
      "                        (below) 1.0 if you want to obtain a larger (smaller)\n",
      "                        number of communities\n",
      "\n",
      "Sections\n",
      "  qc:                   Read in, QC, filter, scale, and normalize data\n",
      "    Workflow Options:\n",
      "      --expr-matrix VAL (as path, required)\n",
      "                        Path to expression matrix file\n",
      "      --tsv VAL (as path, required)\n",
      "                        Path to the tsv file\n",
      "      --anno-file VAL (as path, required)\n",
      "                        Path to the annotation file\n",
      "      --symbol VAL (as path, required)\n",
      "                        Path to the symbol file\n",
      "  pca:                  Perform PCA and independent component analysis (ICA)\n",
      "                        across all cells or meta-cells or tissues\n",
      "    Workflow Options:\n",
      "      --so VAL (as path, required)\n",
      "                        The seurat object produced by [qc]\n",
      "  umap:                 Perform clustering and UMAP and plot features on\n",
      "                        projection\n",
      "    Workflow Options:\n",
      "      --so VAL (as path, required)\n",
      "                        The seurat object produced by [pca]\n",
      "  deg:                  Perform differential expression analysis\n",
      "    Workflow Options:\n",
      "      --so VAL (as path, required)\n",
      "                        The seurat object produced by [pca]\n",
      "\n"
     ]
    }
   ],
   "source": [
    "sos run pops.ipynb -h"
   ]
  },
  {
   "cell_type": "code",
   "execution_count": 11,
   "id": "f5987c8a-00d2-454e-b760-2ecca9de3c6d",
   "metadata": {
    "kernel": "Bash",
    "tags": []
   },
   "outputs": [
    {
     "name": "stdout",
     "output_type": "stream",
     "text": [
      "INFO: Running \u001b[32mpops\u001b[0m: \n",
      "HINT: Pulling docker image guangyou/pops:1.0.0\n",
      "HINT: Docker image guangyou/pops:1.0.0 is now up to date\n",
      "INFO: \u001b[32mpops\u001b[0m is \u001b[32mcompleted\u001b[0m.\n",
      "\u001b[91mERROR\u001b[0m: \u001b[91m[pops]: [pops]: Output target /home/lg/pops/code/features/human_airway_ does not exist after the completion of step pops\u001b[0m\n",
      "\n"
     ]
    }
   ],
   "source": [
    "sos run pops.ipynb genefeature\\\n",
    "    --cwd ~/pops/code/ \\\n",
    "    --expr_matrix ../data/human_airway/Raw_exprMatrix.tsv.gz \\\n",
    "    --tsv ../data/human_airway/meta.tsv \\\n",
    "    --anno_file ../resources/gene_annot_jun10.txt \\\n",
    "    --symbol ../resources/ensg2symbol.txt \\\n",
    "    --container_pops guangyou/pops:1.0.0 \\\n",
    "    --name human_airway "
   ]
  },
  {
   "cell_type": "code",
   "execution_count": null,
   "id": "382a22ee-d8ee-4ab9-a693-d99182314df6",
   "metadata": {
    "kernel": "Bash"
   },
   "outputs": [],
   "source": [
    "sos run pops.ipynb magma\\\n",
    "    --cwd ~/pops/code/ \\\n",
    "    --bfile ~/pops/data/data/1000G.EUR\\\n",
    "    --gene-annot ~/pops/data/data/magma_0kb.genes.annot\\\n",
    "    --pval  ~/pops/data/AFib-gwas-summary-statistics.tbl ncol=N\\\n",
    "    --gene-model snp-wise=mean\\\n",
    "    --out AFib"
   ]
  },
  {
   "cell_type": "code",
   "execution_count": null,
   "id": "358f48c5-bd7d-4f0b-b1ab-3928a2775ff0",
   "metadata": {
    "kernel": "Bash"
   },
   "outputs": [],
   "source": [
    "sos run pops.ipynb feature_selection\\\n",
    "    --cwd ~/pops/code/ \\\n",
    "    --features ~/pops/data/data/PoPS.features.txt.gz\\\n",
    "    --gene_results AFib\\\n",
    "    --out AFib"
   ]
  },
  {
   "cell_type": "code",
   "execution_count": null,
   "id": "02626e4a-886d-46f7-9dfc-55973e659d77",
   "metadata": {
    "kernel": "Bash"
   },
   "outputs": [],
   "source": [
    "sos run pops.ipynb predict_scores\\\n",
    "    --cwd ~/pops/code/ \\\n",
    "    --gene_loc ~/pops/data/data/gene_loc.txt\\\n",
    "    --gene_results AFib\\\n",
    "    --features ~/pops/data/data/PoPS.features.txt.gz\\\n",
    "    --selected_features AFib.features\\\n",
    "    --control_features ~/pops/data/data/control.features\\\n",
    "    --chromosome 1\\\n",
    "    --out AFib"
   ]
  },
  {
   "cell_type": "code",
   "execution_count": 10,
   "id": "e4855736-5eda-4d6d-b6e8-b1e7f94242be",
   "metadata": {
    "kernel": "SoS"
   },
   "outputs": [],
   "source": [
    "[global]\n",
    "# the output directory for generated files\n",
    "parameter: cwd = path\n",
    "# For cluster jobs, number commands to run per job\n",
    "parameter: job_size = 1\n",
    "# Wall clock time expected\n",
    "parameter: walltime = \"5h\"\n",
    "# Memory expected\n",
    "parameter: mem = \"16G\"\n",
    "# Number of threads\n",
    "parameter: numThreads = 20\n",
    "# Software container option\n",
    "parameter: container_pops = 'guangyou/pops:1.0.0'\n",
    "cwd = f\"{cwd:a}\""
   ]
  },
  {
   "cell_type": "code",
   "execution_count": 13,
   "id": "b0cd9daa-2906-4a46-bd62-874f0c8ae227",
   "metadata": {
    "kernel": "SoS"
   },
   "outputs": [],
   "source": [
    "[genefeature]\n",
    "# Path to expression matrix file\n",
    "parameter: expr_matrix = path\n",
    "# Path to the tsv file \n",
    "parameter: tsv = path\n",
    "# Path to the annotation file \n",
    "parameter: anno_file = path\n",
    "# Path to the symbol file \n",
    "parameter: symbol = path\n",
    "# A string to identify your analysis run\n",
    "parameter: name = str\n",
    "# Number of PCs applied\n",
    "parameter: number_pcs = 35\n",
    "# Number of features to select as top variable features\n",
    "parameter: vargenes = 1500\n",
    "# Value of the resolution parameter, use a value above (below) 1.0 if you want to obtain a larger (smaller) number of communities\n",
    "parameter: clus_res = 0.6\n",
    "input: expr_matrix, tsv, anno_file, symbol\n",
    "output: f'{cwd}/plots/{name}_variablegenes.pdf',\n",
    "        f'{cwd}/plots/{name}_pcaelbow.pdf',\n",
    "        f'{cwd}/plots/{name}_umap_clusters.pdf',\n",
    "        f'{cwd}/plots/{name}_umap_clusters_pre_def.pdf',\n",
    "        f'{cwd}/plots/{name}_umap_pcs.pdf',\n",
    "        f'{cwd}/plots/{name}_umap_ics.pdf',\n",
    "        f'{cwd}/plots/{name}_umap_knownmarkers.pdf',\n",
    "        f'{cwd}/features/{name}_',\n",
    "        f'{cwd}/plots/{name}_umap_degenes.pdf',\n",
    "        f'{cwd}/plots/{name}_umap_degenes_pre_def.pdf',\n",
    "        f'{cwd}/features/{name}_so.rds'\n",
    "task: trunk_workers = 1, walltime = walltime, mem = mem, cores = numThreads, tags = f'{step_name}_{name}'\n",
    "R:  container=container_pops, expand= \"${ }\", stderr = f'{name}.stderr', stdout = f'{name}.stdout'\n",
    "    library(tidyverse)\n",
    "    library(data.table)\n",
    "    library(BuenColors)\n",
    "    library(Seurat)\n",
    "    library(irlba)\n",
    "    library(Matrix)\n",
    "    library(future)\n",
    "    library(reticulate)\n",
    "    library(ggrastr)\n",
    "    library(tidytext)\n",
    "    library(matrixTests)\n",
    "    # Need a function source file, or the code would be too long\n",
    "    source(\"utils.R\")\n",
    "    # Set up parallelization\n",
    "    # Remember to use htop to delete forgotten forks\n",
    "    Sys.setenv(R_FUTURE_FORK_ENABLE = T)\n",
    "    options(future.globals.maxSize = 6 * 2048 * 1024^2)\n",
    "    plan(strategy = \"multicore\", workers = 32)\n",
    "    name <- \"${name}\"\n",
    "    # Setup dictionary\n",
    "    dir.create(\"./plots/\")\n",
    "    dir.create(\"./features/\")\n",
    "    # Notes on data:\n",
    "    # Annotations provided. There is a mild batch effeect by method, but correcting it breaks the clustering.\n",
    "    # So we ignore it. Looking at pre-defined clusters, we are clearly still capturing biology.\n",
    "    ### Assumes a sparse dgCMatrix as input\n",
    "    ### Accepts row_id_type = ENSG, ENSMUSG, human_symbol, mouse_symbol\n",
    "    #------------------------------------------------LOAD AND FORMAT DATA-----------------------------------------------#\n",
    "    # Read in data and annotations\n",
    "    mat <- data.frame(fread(${_input[0]:r}), row.names=1)[1:10000,1:10000] %>%\n",
    "      data.matrix() %>%\n",
    "      Matrix(sparse = TRUE)\n",
    "    mat.annot <- data.frame(fread(${_input[1]:r}), row.names=1, header=T)\n",
    "    colnames(mat) <-  gsub(\"[.]\", \"-\", colnames(mat))\n",
    "\n",
    "    # Convert to ENSG, drop duplicates, and fill in missing genes\n",
    "    mat <- ConvertToENSGAndProcessMatrix(mat, \"human_symbol\")\n",
    "\n",
    "    # Load this in in case we need it later\n",
    "    keep <- read.table(${_input[2]:r}, sep = \"\\t\", header = T, stringsAsFactors = F, col.names = c(\"ENSG\", \"symbol\", \"chr\", \"start\", \"end\", \"TSS\"))\n",
    "\n",
    "    #--------------------------------------------------COMPUTE FEATURES-------------------------------------------------#\n",
    "\n",
    "    # Create Seurat object\n",
    "    # min.features determined for each dataset\n",
    "    so <- CreateSeuratObject(counts = mat, project = name, min.features = 200, meta.data = mat.annot)\n",
    "\n",
    "    # Clean up\n",
    "    rm(mat)\n",
    "\n",
    "    # QC\n",
    "    so <- subset(so, \n",
    "                 subset = nFeature_RNA > quantile(so$nFeature_RNA, 0.05) & \n",
    "                   nFeature_RNA < quantile(so$nFeature_RNA, 0.95))\n",
    "    so <- NormalizeData(so, normalization.method = \"LogNormalize\", scale.factor = 1000000)\n",
    "    so <- ScaleData(so, min.cells.to.block = 1, block.size = 500)\n",
    "\n",
    "    # Identify variable genes\n",
    "    so <- FindVariableFeatures(so, nfeatures = ${vargenes})\n",
    "\n",
    "    # Plot variable genes with and without labels\n",
    "    PlotAndSaveHVG(so, ${_output[0]:r})\n",
    "    \n",
    "    # Run PCA\n",
    "    so <- RunPCA(so, npcs = 100)\n",
    "    # Project PCA to all genes\n",
    "    so <- ProjectDim(so, do.center = T)\n",
    "    # Plot Elbow\n",
    "    PlotAndSavePCAElbow(so, 100, ${_output[1]:r})\n",
    "\n",
    "    # Run ICA\n",
    "    so <- RunICA(so, nics = ${number_pcs})\n",
    "    # Project ICA to all genes\n",
    "    so <- ProjectDim(so, reduction = \"ica\", do.center = T)\n",
    "\n",
    "    # Cluster cells\n",
    "    so <- FindNeighbors(so, dims = 1:${number_pcs}, nn.eps = 0)\n",
    "    so <- FindClusters(so, resolution = ${clus_res}, n.start = 100)\n",
    "\n",
    "    # UMAP dim reduction\n",
    "    so <- RunUMAP(so, dims = 1:${number_pcs}, min.dist = 0.4, n.epochs = 500,\n",
    "                  n.neighbors = 10, learning.rate = 0.1, spread = 2)\n",
    "\n",
    "    # Plot UMAP clusters\n",
    "    PlotAndSaveUMAPClusters(so, so@meta.data$seurat_clusters, ${_output[2]:r})\n",
    "    # Plot known clusters on UMAP (if applicable)\n",
    "    PlotAndSaveUMAPClusters(so, so@meta.data$CellType, ${_output[3]:r})\n",
    "\n",
    "    # Plot PCs on UMAP\n",
    "    PlotAndSavePCsOnUMAP(so, ${_output[4]:r})\n",
    "    # Plot ICs on UMAP\n",
    "    PlotAndSaveICsOnUMAP(so, ${_output[5]:r})\n",
    "    # Plot known marker genes on UMAP \n",
    "    marker_genes <- c(\"CCDC67\", \"DEUP1\", \"FOXN4\", \"CDC20B\", \"RERGL\", \"MCAM\", \"PDGFRB\", \"ACTA2\", \"MYL9\", \"ASCL3\", \"CFTR\", \"FOXJ1\", \"MUC5AC\", \"SFTPA2\", \"CA2\", \"CAV1\", \"ANXA3\", \"CAV2\")\n",
    "    PlotAndSaveKnownMarkerGenesOnUMAP(so, keep, marker_genes, ${_output[6]:r})\n",
    "  \n",
    "    # Save global features\n",
    "    SaveGlobalFeatures(so, ${_output[7]:r})\n",
    "    \n",
    "    # Compute any cluster dependent features (DE genes, within-cluster PCs, etc.) and save them\n",
    "    # Seurat clusters\n",
    "    Idents(object=so) <- \"seurat_clusters\"\n",
    "    clus <- levels(so@meta.data$seurat_clusters)\n",
    "    demarkers <- WithinClusterFeatures(so, \"seurat_clusters\", clus, ${_output[7]:r})\n",
    "    \n",
    "    # Pre-defined cluster dependent features (if applicable)\n",
    "    Idents(object=so) <- \"CellType\"\n",
    "    clus <- unique(so@meta.data$CellType)\n",
    "    demarkers_pre_def <- WithinClusterFeatures(so, \"CellType\", clus, ${_output[7]:r}, suffix = \"_pre_def\")\n",
    "    \n",
    "    # Plot DE genes on UMAP\n",
    "    PlotAndSaveDEGenesOnUMAP(so, demarkers, ${_output[8]:r}, height = 30, rank_by_tstat = TRUE)\n",
    "    # Plot DE genes from pre-defined clusters on UMAP (if applicable)\n",
    "    PlotAndSaveDEGenesOnUMAP(so, demarkers_pre_def, ${_output[9]:r}, height = 30, rank_by_tstat = TRUE)\n",
    "\n",
    "    # Save Seurat object\n",
    "    saveRDS(so, ${_output[10]:r})"
   ]
  },
  {
   "cell_type": "code",
   "execution_count": null,
   "id": "2244f5bc-8050-4a7e-9468-f7fb4d6ef394",
   "metadata": {
    "kernel": "SoS"
   },
   "outputs": [],
   "source": [
    "# Get gene-level z scores\n",
    "[magma]\n",
    "input: bedfiles, gene-annot, pval\n",
    "output: f'{cwd}'\n",
    "task: trunk_workers = 1, walltime = '10h', mem = '30G', cores = numThreads, tags = f'{step_name}_{_output:bn}'\n",
    "bash: container=container_pops, expand= \"${ }\", stderr = f'{_output:n}.stderr', stdout = f'{_output:n}.stdout' \n",
    "    magma\\\n",
    "    --bfile ${_input[0]:n}\\\n",
    "    --gene-annot ~/pops/data/data/magma_0kb.genes.annot\\\n",
    "    --pval  ~/pops/data/AFib-gwas-summary-statistics.tbl ncol=N\\\n",
    "    --gene-model snp-wise=mean\\\n",
    "    --out ${_output:n} "
   ]
  },
  {
   "cell_type": "code",
   "execution_count": null,
   "id": "c4bd609c-4b37-49e7-96fe-8bbb1fef43af",
   "metadata": {
    "kernel": "SoS"
   },
   "outputs": [],
   "source": [
    "# Feature selection by the GLS model\n",
    "[feature_selection]\n",
    "input: features, gene_results\n",
    "output: f'{cwd}'\n",
    "task: trunk_workers = 1, walltime = '10h', mem = '30G', cores = numThreads, tags = f'{step_name}_{_output:bn}'\n",
    "python: container=container_pops, expand= \"${ }\", stderr = f'{_output:n}.stderr', stdout = f'{_output:n}.stdout'\n",
    "    pops.feature_selection.py\\\n",
    "    --features ${_input[0]:n}\\\n",
    "    --gene_results ${_input[1]:n}\\\n",
    "    --out ${_output:n}"
   ]
  },
  {
   "cell_type": "code",
   "execution_count": null,
   "id": "8110a419-5f13-482e-834b-56965e672bd9",
   "metadata": {
    "kernel": "Bash"
   },
   "outputs": [],
   "source": [
    "# Polygenic Priority Score calculation\n",
    "[predict_scores]\n",
    "# Chromosome\n",
    "parameter: chromosome = int\n",
    "input: gene_loc, gene_results, features, selected_features, control_features\n",
    "output: f'{cwd}'\n",
    "task: trunk_workers = 1, walltime = '10h', mem = '30G', cores = numThreads, tags = f'{step_name}_{_output:bn}'\n",
    "python: container=container_pops, expand= \"${ }\", stderr = f'{_output:n}.stderr', stdout = f'{_output:n}.stdout'\n",
    "    pops.predict_scores.py\\\n",
    "    --gene_loc ${_input[0]:n}\\\n",
    "    --gene_results ${_input[1]:n}\\\n",
    "    --features ${_input[2]:n}\\\n",
    "    --selected_features ${_input[3]:n}\\\n",
    "    --control_features ${_input[4]:n}\\\n",
    "    --chromosome ${chromosome}\\\n",
    "    --out ${_output:n}"
   ]
  }
 ],
 "metadata": {
  "kernelspec": {
   "display_name": "SoS",
   "language": "sos",
   "name": "sos"
  },
  "language_info": {
   "codemirror_mode": "sos",
   "file_extension": ".sos",
   "mimetype": "text/x-sos",
   "name": "sos",
   "nbconvert_exporter": "sos_notebook.converter.SoS_Exporter",
   "pygments_lexer": "sos"
  },
  "sos": {
   "kernels": [
    [
     "Bash",
     "calysto_bash",
     "Bash",
     "#E6EEFF",
     ""
    ],
    [
     "SoS",
     "sos",
     "",
     "",
     "sos"
    ]
   ],
   "version": "0.22.3"
  }
 },
 "nbformat": 4,
 "nbformat_minor": 5
}
