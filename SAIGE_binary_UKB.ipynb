{
 "cells": [
  {
   "cell_type": "markdown",
   "metadata": {
    "kernel": "SoS"
   },
   "source": [
    "# SAIGE analysis for UK Biobank data: binary phenotypes"
   ]
  },
  {
   "cell_type": "markdown",
   "metadata": {
    "kernel": "SoS"
   },
   "source": [
    "## Aim"
   ]
  },
  {
   "cell_type": "markdown",
   "metadata": {
    "kernel": "SoS"
   },
   "source": [
    "To perfom genetic association analysis for binary traits (asthma and diabetes) using SAIGE software and UK Biobank imputed data of ~500K invidivuals"
   ]
  },
  {
   "cell_type": "markdown",
   "metadata": {
    "kernel": "SoS"
   },
   "source": [
    "## Method and workflow overview"
   ]
  },
  {
   "cell_type": "markdown",
   "metadata": {
    "kernel": "SoS"
   },
   "source": [
    "1. Download data from UKB: phenotype, genotypes files (`.fam`,`.bed`, `.bim`) and imputed genotypes (`.bgen`, `.bgi`, `.sample`)\n",
    "2. Create a conda enviroment for the installation of SAIGE in Yale's HRC cluster. Instructions in https://github.com/weizhouUMICH/SAIGE\n",
    "3. Run SAIGE analysis to obtain summary statistics for association analysis"
   ]
  },
  {
   "cell_type": "markdown",
   "metadata": {
    "kernel": "SoS"
   },
   "source": [
    "## Input data"
   ]
  },
  {
   "cell_type": "markdown",
   "metadata": {
    "kernel": "SoS"
   },
   "source": [
    "1. Genotype file for constructing the GRM (genetic relationship matrix) formated as a plink binary file\n",
    "2. Phenotype file (contains non-genetic covariates). Format is space or tab delimited with a header (one column for sample IDs and one column for each phenotype)"
   ]
  },
  {
   "cell_type": "markdown",
   "metadata": {
    "kernel": "SoS"
   },
   "source": [
    "### Global parameter setting"
   ]
  },
  {
   "cell_type": "code",
   "execution_count": null,
   "metadata": {
    "kernel": "SoS"
   },
   "outputs": [],
   "source": [
    "[global]\n",
    "# Genotype file in plink binary format\n",
    "parameter: geno_file = path('/SAY/dbgapstg/scratch/UKBiobank/genotype_files/pleiotropy_geneticfiles/UKB_Caucasians_phenotypeindepqc120319_updated020720removedwithdrawnindiv')\n",
    "# Phenotype file for binary trait 1 (asthma)\n",
    "parameter: pheno_file1 = path('/SAY/dbgapstg/scratch/UKBiobank/phenotype_files/pleiotropy_R01/phenotypesforanalysis/Asthma_casesbyICD10codesANDselfreport_controlsbyselfreportandicd10_noautoimmuneincontrols_forbolt030720')\n",
    "# Phenotype file for binary trait 2 (diabetes)\n",
    "parameter: pheno_file2 = path('/SAY/dbgapstg/scratch/UKBiobank/phenotype_files/pleiotropy_R01/phenotypesforanalysis/diabetes_casesbyICD10andselfreport_controlswithoutautoiummune_030720')\n",
    "# Path to bgen files\n",
    "parameter: bgen_file = path('/SAY/dbgapstg/scratch/UKBiobank/genotype_files/ukb39554_imputeddataset/ukb_imp_chr{1:22}_v3.bgen')\n",
    "# Path to bgen file index\n",
    "parameter: bgen_index_file = path('/SAY/dbgapstg/scratch/UKBiobank/genotype_files/ukb39554_imputeddataset/ukb_imp_chr{1:22}_v3.bgen.bgi')\n",
    "# Path to sample file\n",
    "parameter: sample_files = path('/SAY/dbgapstg/scratch/UKBiobank/genotype_files/ukb39554_imputeddataset/ukb32285_imputedindiv.sample')\n",
    "#Name of the output files for trait 1 and step 1 of SAIGE\n",
    "parameter: out_file_pheno1 = 'asthma_UKB_controlsnoautoimmune'\n",
    "# the output directory for generated files\n",
    "parameter: out_dir = path('output')\n"
   ]
  },
  {
   "cell_type": "markdown",
   "metadata": {
    "kernel": "SoS"
   },
   "source": [
    "### Step 1: fitting the null"
   ]
  },
  {
   "cell_type": "code",
   "execution_count": null,
   "metadata": {
    "kernel": "bash"
   },
   "outputs": [],
   "source": [
    "Rscript step1_fitNULLGLMM.R     \\\n",
    "        --plinkFile=${geno_file} \\\n",
    "        --phenoFile=${pheno_file1} \\\n",
    "        --phenoCol=y_binary \\\n",
    "        --covarColList=x1,x2 \\\n",
    "        --sampleIDColinphenoFile=IID \\\n",
    "        --traitType=binary        \\\n",
    "        --outputPrefix=${out_dir}/${out_file_pheno1} \\\n",
    "        --nThreads=4 \\\n",
    "        --LOCO=FALSE"
   ]
  },
  {
   "cell_type": "markdown",
   "metadata": {
    "kernel": "bash"
   },
   "source": [
    "### Step 2: perform single variant association test"
   ]
  },
  {
   "cell_type": "code",
   "execution_count": null,
   "metadata": {
    "kernel": "bash"
   },
   "outputs": [],
   "source": [
    "Rscript step2_SPAtests.R \\\n",
    "        --bgenFile=${bgen_file} \\\n",
    "        --bgenFileIndex=${bgen_index_file} \\\n",
    "        --minMAF=0.0001 \\\n",
    "        --minMAC=1 \\\n",
    "        --sampleFile=${sample_file} \\\n",
    "        --GMMATmodelFile=${out_dir}/${out_file_pheno1}.rda \\\n",
    "        --varianceRatioFile=${out_dir}/${out_file_pheno1}.varianceRatio.txt \\\n",
    "        --SAIGEOutputFile=${out_dir}/${out_file_pheno1}.SAIGE.bgen.txt \\\n",
    "        --numLinesOutput=2 \\\n",
    "        --IsOutputAFinCaseCtrl=TRUE"
   ]
  },
  {
   "cell_type": "markdown",
   "metadata": {
    "kernel": "bash"
   },
   "source": [
    "### Results"
   ]
  },
  {
   "cell_type": "markdown",
   "metadata": {
    "kernel": "bash"
   },
   "source": [
    "Results for the single variant association analyses can be found in file with the suffix `.SAIGE.bgen.txt`"
   ]
  },
  {
   "cell_type": "code",
   "execution_count": null,
   "metadata": {
    "kernel": "bash"
   },
   "outputs": [],
   "source": []
  }
 ],
 "metadata": {
  "kernelspec": {
   "display_name": "SoS",
   "language": "sos",
   "name": "sos"
  },
  "language_info": {
   "codemirror_mode": "sos",
   "file_extension": ".sos",
   "mimetype": "text/x-sos",
   "name": "sos",
   "nbconvert_exporter": "sos_notebook.converter.SoS_Exporter",
   "pygments_lexer": "sos"
  },
  "sos": {
   "kernels": [
    [
     "SoS",
     "sos",
     "",
     "",
     "sos"
    ],
    [
     "bash",
     "bash",
     "bash",
     "",
     ""
    ]
   ],
   "version": "0.21.7"
  }
 },
 "nbformat": 4,
 "nbformat_minor": 4
}
