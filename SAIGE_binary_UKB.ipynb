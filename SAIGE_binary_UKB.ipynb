{
 "cells": [
  {
   "cell_type": "markdown",
   "metadata": {
    "kernel": "SoS"
   },
   "source": [
    "# SAIGE analysis for UK Biobank data: binary phenotypes"
   ]
  },
  {
   "cell_type": "markdown",
   "metadata": {
    "kernel": "SoS"
   },
   "source": [
    "## Aim"
   ]
  },
  {
   "cell_type": "markdown",
   "metadata": {
    "kernel": "SoS"
   },
   "source": [
    "To perfom genetic association analysis for binary traits (asthma and diabetes) using SAIGE software and UK Biobank imputed data of ~500K invidivuals"
   ]
  },
  {
   "cell_type": "markdown",
   "metadata": {
    "kernel": "SoS"
   },
   "source": [
    "## Method and workflow overview"
   ]
  },
  {
   "cell_type": "markdown",
   "metadata": {
    "kernel": "SoS"
   },
   "source": [
    "1. Download data from UKB: phenotype, genotypes files (`.fam`,`.bed`, `.bim`) and imputed genotypes (`.bgen`, `.bgi`, `.sample`)\n",
    "2. Create a conda enviroment for the installation of SAIGE in Yale's HRC cluster. Instructions in https://github.com/weizhouUMICH/SAIGE\n",
    "3. Run SAIGE analysis to obtain summary statistics for association analysis"
   ]
  },
  {
   "cell_type": "markdown",
   "metadata": {
    "kernel": "SoS"
   },
   "source": [
    "## Input data"
   ]
  },
  {
   "cell_type": "markdown",
   "metadata": {
    "kernel": "SoS"
   },
   "source": [
    "1. Genotype file for constructing the GRM (genetic relationship matrix) formated as a plink binary file `(.bed, .bim, .fam)`\n",
    "2. Phenotype file (contains non-genetic covariates). Format is space or tab delimited with a header (one column for sample IDs and one column for each phenotype)"
   ]
  },
  {
   "cell_type": "markdown",
   "metadata": {
    "kernel": "SoS"
   },
   "source": [
    "## Ouput files"
   ]
  },
  {
   "cell_type": "markdown",
   "metadata": {
    "kernel": "SoS"
   },
   "source": [
    "**From step 1**\n",
    "\n",
    "1. Model file: `${_output}.rda`\n",
    "\n",
    "2. Association result file for the subset of randomly selected markers: `${_output}.results.txt`\n",
    "\n",
    "3. Variance ratio file: `${_output}.varianceRatio.txt`\n",
    "\n",
    "**From step 2**\n",
    "\n",
    "1. A file with association results for each chromosome (Note: this are given in regard to Allele 2)"
   ]
  },
  {
   "cell_type": "markdown",
   "metadata": {
    "kernel": "SoS"
   },
   "source": [
    "## Global parameter setting"
   ]
  },
  {
   "cell_type": "code",
   "execution_count": null,
   "metadata": {
    "kernel": "SoS"
   },
   "outputs": [],
   "source": [
    "[global]\n",
    "# Genotype file in plink binary format\n",
    "parameter: genoFile = path('/SAY/dbgapstg/scratch/UKBiobank/genotype_files/pleiotropy_geneticfiles/UKB_Caucasians_phenotypeindepqc120319_updated020720removedwithdrawnindiv')\n",
    "# Phenotype file for binary trait 1 (asthma)\n",
    "parameter: phenoFile = path('/SAY/dbgapstg/scratch/UKBiobank/phenotype_files/pleiotropy_R01/phenotypesforanalysis/Asthma_casesbyICD10codesANDselfreport_controlsbyselfreportandicd10_noautoimmuneincontrols_forbolt030720')\n",
    "# Phenotype file for binary trait 2 (diabetes)\n",
    "#parameter: phenoFile2 = path('/SAY/dbgapstg/scratch/UKBiobank/phenotype_files/pleiotropy_R01/phenotypesforanalysis/diabetes_casesbyICD10andselfreport_controlswithoutautoiummune_030720')\n",
    "# Path to bgen files\n",
    "parameter: bgenFile = paths([f'/SAY/dbgapstg/scratch/UKBiobank/genotype_files/ukb39554_imputeddataset/ukb_imp_chr{x+1}_v3.bgen' for x in range(22)])\n",
    "# Path to bgen file index\n",
    "parameter: bgenIndexFile = paths([f'/SAY/dbgapstg/scratch/UKBiobank/genotype_files/ukb39554_imputeddataset/ukb_imp_chr{x+1}_v3.bgen.bgi' for x in range (22)])\n",
    "# Path to sample file\n",
    "parameter: sampleFile = path('/SAY/dbgapstg/scratch/UKBiobank/genotype_files/ukb39554_imputeddataset/ukb32285_imputedindiv.sample')\n",
    "# Minimum MAF to be used\n",
    "parameter: minMAF = 0.001\n",
    "# Mimimum info score to be used\n",
    "parameter: minInfo = 0.8\n",
    "# Mimimum allele count to be sued\n",
    "parameter: minMAC = 4\n",
    "# the output directory for generated files\n",
    "parameter: cwd = path('~/results/pleiotropy/2020-04_saige/asthma/')\n",
    "# Specific number of threads to use\n",
    "parameter: numThreads = 20\n",
    "# For cluster jobs, number commands to run per job\n",
    "parameter: job_size = 1\n",
    "# Path to SAIGE\n",
    "parameter: saige_path = path('/gpfs/ysm/project/dewan/dc2325/conda_envs/RSAIGE/bin')\n",
    "# Output name for .rda, .varianceRatio.txt and results.txt\n",
    "parameter: outfile = f'{genoFile:bn}.{phenoFile:b}.SAIGE'"
   ]
  },
  {
   "cell_type": "markdown",
   "metadata": {
    "kernel": "SoS"
   },
   "source": [
    "## Running SAIGE"
   ]
  },
  {
   "cell_type": "markdown",
   "metadata": {
    "kernel": "Markdown"
   },
   "source": [
    "On Yale's Farnam cluster,\n",
    "\n",
    "```\n",
    "sos run pleiotropy_UKB/SAIGE_binary_UKB.ipynb -c pleiotropy_UKB/farnam.yml -q farnam -J 40\n",
    "\n",
    "```\n",
    "\n",
    "In your local machine, for a test run\n",
    "\n",
    "```\n",
    "sos dryrun pleiotropy_UKB/SAIGE_binary_UKB.ipynb\n",
    "```\n",
    "\n",
    "To try the steps \n",
    "\n",
    "```\n",
    "sos run pleiotropy_UKB/SAIGE_binary_UKB.ipynb step1 -q none\n",
    "```\n",
    "\n",
    "If using the sos-submit-template.sh `sbatch saige_asthma.sh`\n",
    "\n",
    "```\n",
    "sos run pleiotropy_UKB/SAIGE_binary_UKB.ipynb -c pleiotropy_UKB/farnam.yml -q farnam -J 40 \\\n",
    "-s build & > sos-submission-saige-asthma.log\n",
    "```"
   ]
  },
  {
   "cell_type": "markdown",
   "metadata": {
    "kernel": "SoS"
   },
   "source": [
    "### Step 1: fitting the null"
   ]
  },
  {
   "cell_type": "code",
   "execution_count": null,
   "metadata": {
    "kernel": "SoS"
   },
   "outputs": [],
   "source": [
    "[step1]\n",
    "import os\n",
    "output: outfile\n",
    "task: trunk_workers = 1, trunk_size = job_size, walltime = '48h', mem = '60G', cores = numThreads, tags = f'{step_name}_{_output:bn}'\n",
    "bash: expand = \"${ }\", workdir = cwd, stderr = f'{_output:n}.stderr', stdout = f'{_output:n}.stdout', env={'PATH': f\"{saige_path}:{os.environ['PATH']}\"}\n",
    "Rscript ~/software/bin/step1_fitNULLGLMM.R \\\n",
    "        --plinkFile=${genoFile} \\\n",
    "        --phenoFile=${phenoFile} \\\n",
    "        --phenoCol=ASTHMA \\\n",
    "        --covarColList=AGE,SEX \\\n",
    "        --sampleIDColinphenoFile=IID \\\n",
    "        --traitType=binary \\\n",
    "        --outputPrefix=${_output} \\\n",
    "        --nThreads=20 \\\n",
    "        --LOCO=TRUE"
   ]
  },
  {
   "cell_type": "markdown",
   "metadata": {
    "kernel": "bash"
   },
   "source": [
    "### Step 2: perform single variant association test"
   ]
  },
  {
   "cell_type": "code",
   "execution_count": null,
   "metadata": {
    "kernel": "SoS"
   },
   "outputs": [],
   "source": [
    "[step2]\n",
    "import os\n",
    "input: bgenFile, group_by = 1\n",
    "output: f'{_input:bn}.{phenoFile:b}.SAIGE'\n",
    "task: trunk_workers = 1, trunk_size = job_size, walltime = '48h', mem = '60G', cores = numThreads, tags = f'{step_name}_{_output:bn}'\n",
    "bash: expand = \"${ }\", workdir = cwd, stderr = f'{_output:n}.stderr', stdout = f'{_output:n}.stdout', env={'PATH': f\"{saige_path}:{os.environ['PATH']}\"}\n",
    "\n",
    "Rscript ~/software/bin/step2_SPAtests.R \\\n",
    "        --bgenFile=${_input} \\\n",
    "        --bgenFileIndex=${_input}.bgi \\\n",
    "        --minMAF=${minMAF} \\\n",
    "        --minMAC=${minMAC} \\\n",
    "        --minInfo=${minInfo} \\\n",
    "        --sampleFile=${sampleFile} \\\n",
    "        --GMMATmodelFile=${outfile}.rda \\\n",
    "        --varianceRatioFile=${outfile}.varianceRatio.txt \\\n",
    "        --SAIGEOutputFile=${_output}.bgen.genotype.dropmissing.txt \\\n",
    "        --numLinesOutput=2 \\\n",
    "        --IsOutputAFinCaseCtrl=TRUE \\\n",
    "        --IsOutputNinCaseCtrl=TRUE \\\n",
    "        --IsDropMissingDosages=TRUE \\\n",
    "        --IsOutputHetHomCountsinCaseCtrl=TRUE"
   ]
  },
  {
   "cell_type": "markdown",
   "metadata": {
    "kernel": "bash"
   },
   "source": [
    "### Results"
   ]
  },
  {
   "cell_type": "markdown",
   "metadata": {
    "kernel": "bash"
   },
   "source": [
    "Results for the single variant association analyses can be found in file with the suffix `.SAIGE.bgen.txt`"
   ]
  },
  {
   "cell_type": "code",
   "execution_count": null,
   "metadata": {
    "kernel": "bash"
   },
   "outputs": [],
   "source": []
  }
 ],
 "metadata": {
  "kernelspec": {
   "display_name": "SoS",
   "language": "sos",
   "name": "sos"
  },
  "language_info": {
   "codemirror_mode": "sos",
   "file_extension": ".sos",
   "mimetype": "text/x-sos",
   "name": "sos",
   "nbconvert_exporter": "sos_notebook.converter.SoS_Exporter",
   "pygments_lexer": "sos"
  },
  "sos": {
   "kernels": [
    [
     "Markdown",
     "markdown",
     "markdown",
     "",
     ""
    ],
    [
     "SoS",
     "sos",
     "",
     "",
     "sos"
    ],
    [
     "Bash",
     "bash",
     "bash",
     "",
     ""
    ]
   ],
   "version": "0.21.7"
  }
 },
 "nbformat": 4,
 "nbformat_minor": 4
}
