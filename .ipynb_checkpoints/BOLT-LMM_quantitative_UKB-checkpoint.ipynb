{
 "cells": [
  {
   "cell_type": "markdown",
   "metadata": {
    "kernel": "SoS"
   },
   "source": [
    "# BOLT-LMM analyses for UK Biobank data: quantitative traits"
   ]
  },
  {
   "cell_type": "markdown",
   "metadata": {
    "kernel": "SoS"
   },
   "source": [
    "## Aim"
   ]
  },
  {
   "cell_type": "markdown",
   "metadata": {
    "kernel": "SoS"
   },
   "source": [
    "To perfom genetic association analysis for quantitative traits (waist-to-hip ratio, waist circumference, BMI, blood lipids) using BOLT-LMM software and UK Biobank imputed data of ~500K invidivuals"
   ]
  },
  {
   "cell_type": "markdown",
   "metadata": {
    "kernel": "SoS"
   },
   "source": [
    "## Method and workflow overview"
   ]
  },
  {
   "cell_type": "markdown",
   "metadata": {
    "kernel": "SoS"
   },
   "source": [
    "1. Download data from UKB: phenotype, genotypes files (`.fam`,`.bed`, `.bim`) and imputed genotypes (`.bgen`, `.bgi`, `.sample`)\n",
    "2. Install BOLT-LMM in Yale's Farnam cluster. To install for source code follow instructions here: https://data.broadinstitute.org/alkesgroup/BOLT-LMM/#x1-70002.2\n",
    "3. Run BOLT-LMM analysis to obtain summary statistics for association analysis"
   ]
  },
  {
   "cell_type": "markdown",
   "metadata": {
    "kernel": "SoS"
   },
   "source": [
    "## Bolt-LMM installation in Yale's cluster"
   ]
  },
  {
   "cell_type": "markdown",
   "metadata": {
    "kernel": "SoS"
   },
   "source": [
    "For local installs add these lines to your .bash_profile\n",
    "```\n",
    "# local installs\n",
    "export MY_PREFIX=~/software\n",
    "export PATH=$MY_PREFIX/bin:$PATH\n",
    "export LD_LIBRARY_PATH=$MY_PREFIX/lib:$LD_LIBRARY_PATH\n",
    "```"
   ]
  },
  {
   "cell_type": "code",
   "execution_count": null,
   "metadata": {
    "kernel": "Bash"
   },
   "outputs": [],
   "source": [
    "module load miniconda\n",
    "module load R"
   ]
  },
  {
   "cell_type": "code",
   "execution_count": null,
   "metadata": {
    "kernel": "bash"
   },
   "outputs": [],
   "source": [
    "cd ~/software && mkdir bin lib && \\\n",
    "wget https://data.broadinstitute.org/alkesgroup/BOLT-LMM/downloads/BOLT-LMM_v2.3.4.tar.gz && \\\n",
    "tar -zxvf BOLT-LMM_v2.3.4.tar.gz && \\\n",
    "rm -rf BOLT-LMM_v2.3.4.tar.gz && \\\n",
    "cp BOLT-LMM_v2.3.4/bolt ~/software/bin/ && \\\n",
    "cp BOLT-LMM_v2.3.4/lib/* ~/software/lib/"
   ]
  },
  {
   "cell_type": "code",
   "execution_count": null,
   "metadata": {
    "kernel": "bash"
   },
   "outputs": [],
   "source": []
  },
  {
   "cell_type": "markdown",
   "metadata": {
    "kernel": "SoS"
   },
   "source": [
    "## Input data"
   ]
  },
  {
   "cell_type": "markdown",
   "metadata": {
    "kernel": "SoS"
   },
   "source": [
    "1. Genotype file for constructing the GRM (genetic relationship matrix) formated as a plink binary file `--bfile=prefix`\n",
    "2. Reference genetic maps `--geneticMapFile=tables/genetic_map_hg##.txt.gz`\n",
    "3. Imputed genotype dosages in `.bgen` format specify the options with  `--bgenFile` and ` --sampleFile`\n",
    "4. Phenotype file (white space delimited file with column headers, first two columns should be FID and IID) specify files by options `--phenoFile` and the phenotype to be analized by `--phenoCol`\n",
    "5. Covariates file (same format as phenoFile) specify them by `--covarFile` for qualitative covariates use `--covarCol` and for quantitative `--qCovarCol`. Use `--covarMaxLevels` to specify the number of categories of a qualitative covariate. To specify an array of quantitative covariates use `--qCovarCol=PC{1:20}`\n",
    "\n",
    "Note: reference genome used **GRCh37/hg19**"
   ]
  },
  {
   "cell_type": "markdown",
   "metadata": {
    "kernel": "SoS"
   },
   "source": [
    "## Global parameter setting"
   ]
  },
  {
   "cell_type": "code",
   "execution_count": null,
   "metadata": {
    "kernel": "SoS"
   },
   "outputs": [],
   "source": [
    "[global]\n",
    "# Genotype files in plink binary format\n",
    "parameter: bfile = path('/SAY/dbgapstg/scratch/UKBiobank/genotype_files/pleiotropy_geneticfiles/UKB_Caucasians_phenotypeindepqc120319_updated020720removedwithdrawnindiv') \n",
    "# Phenotype file for quantitative trait (BMI)\n",
    "parameter: phenoFile = path('/SAY/dbgapstg/scratch/UKBiobank/phenotype_files/pleiotropy_R01/phenotypesforanalysis/UKB_caucasians_BMI_nopreg_adjagesex_residuals_andstandardized_022720') \n",
    "# Phenotype to be analyzed (specify the column)\n",
    "parameter: phenoCol = 'residual'\n",
    "# Covariate file path\n",
    "parameter: covarFile = path('/SAY/dbgapstg/scratch/UKBiobank/phenotype_files/pleiotropy_R01/phenotypesforanalysis/UKB_caucasians_BMIwaisthip_AsthmaAndT2D_withagesex_033120') # path to covariates file\n",
    "# Qualitative covariates to be used in the analysis\n",
    "parameter: covarCol1 = 'SEX'\n",
    "# Maximum categories of covariates allowed \n",
    "parameter: covarMaxLevels = '10'\n",
    "# Quantitative covariates to be used in the analysis\n",
    "parameter: qCovarCol2 = 'AGE'\n",
    "#parameter: qCovarCol3 = 'PC{1:10}' # if we are going to use PC as covariates uncomment\n",
    "# Path to LDscore file for european population\n",
    "parameter: LDscoresFile = path('~/software/BOLT-LMM_v2.3.4/tables/LDSCORE.1000G_EUR.tab.gz')\n",
    "# Path to genetic map file used to interpolate genetic map coordinates from SNP physical (base pair) positions\n",
    "parameter: geneticMapFile = path('~/software/BOLT-LMM_v2.3.4/tables/genetic_map_hg19.txt.gz')\n",
    "# Specific number of threads to use\n",
    "parameter: numThreads = '8'\n",
    "#Name of the output files of BOLT-LMM association stats\n",
    "parameter: statsFile = 'bolt_500UKB_selfRepWhite.BMI.stats.gz'\n",
    "# Path to bgen files\n",
    "parameter: bgenFile = path('/SAY/dbgapstg/scratch/UKBiobank/genotype_files/ukb39554_imputeddataset/ukb_imp_chr{1:22}_v3.bgen')\n",
    "# Minimum MAF to be used\n",
    "parameter: bgenMinMAF = '0.001'\n",
    "# Mimimun info score to be used\n",
    "parameter: bgenMinINFO = '0.8'\n",
    "# Path to sample file\n",
    "parameter: sampleFile = path('/SAY/dbgapstg/scratch/UKBiobank/genotype_files/ukb39554_imputeddataset/ukb32285_imputedindiv.sample')\n",
    "# The name of the output file where the association results are stored\n",
    "parameter: statsFileBgenSnps = 'bolt_500K_selfRepWhite.BMI.bgen.stats.gz'\n",
    "# the output directory for generated files\n",
    "parameter: out_dir = path('~/results/pleiotropy/2020-04_bolt')"
   ]
  },
  {
   "cell_type": "markdown",
   "metadata": {
    "kernel": "SoS"
   },
   "source": [
    "## Running BOLT-LMM"
   ]
  },
  {
   "cell_type": "code",
   "execution_count": null,
   "metadata": {
    "kernel": "bash"
   },
   "outputs": [],
   "source": [
    "./bolt \\\n",
    "    --bfile=${bfile} \\\n",
    "    --phenoFile=${phenoFile} \\\n",
    "    --phenoCol=${phenoCol} \\\n",
    "    --covarFile=${covarFile} \\\n",
    "    --covarCol=${covarCol1} \\\n",
    "    --covarMaxLevels=${covarMaxLevels} \\\n",
    "    --qCovarCol=${qCovarCol2} \\\n",
    "    --LDscoresFile=${LDscoresFile} \\\n",
    "    --geneticMapFile=${geneticMapFile} \\\n",
    "    --lmmForceNonInf \\\n",
    "    --numThreads=${numThreads} \\\n",
    "    --statsFile=${out_dir}/${statsFile} \\\n",
    "    --bgenFile=${bgenFile} \\\n",
    "    --bgenMinMAF=${bgenMinMAF} \\\n",
    "    --bgenMinINFO=${bgenMinINFO} \\\n",
    "    --sampleFile=${sampleFile} \\\n",
    "    --statsFileBgenSnps=${out_dir}/${statsFileBgenSnps} \\\n",
    "    --verboseStats"
   ]
  },
  {
   "cell_type": "markdown",
   "metadata": {
    "kernel": "bash"
   },
   "source": [
    "## Results"
   ]
  },
  {
   "cell_type": "code",
   "execution_count": null,
   "metadata": {
    "kernel": "bash"
   },
   "outputs": [],
   "source": []
  }
 ],
 "metadata": {
  "kernelspec": {
   "display_name": "SoS",
   "language": "sos",
   "name": "sos"
  },
  "language_info": {
   "codemirror_mode": "sos",
   "file_extension": ".sos",
   "mimetype": "text/x-sos",
   "name": "sos",
   "nbconvert_exporter": "sos_notebook.converter.SoS_Exporter",
   "pygments_lexer": "sos"
  },
  "sos": {
   "kernels": [
    [
     "Bash",
     "bash",
     "bash",
     "",
     "shell"
    ],
    [
     "SoS",
     "sos",
     "",
     "",
     "sos"
    ],
    [
     "Bash",
     "bash",
     "bash",
     "",
     ""
    ]
   ],
   "version": "0.21.7"
  }
 },
 "nbformat": 4,
 "nbformat_minor": 4
}
