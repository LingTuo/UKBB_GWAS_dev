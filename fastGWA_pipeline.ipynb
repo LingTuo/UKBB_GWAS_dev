{
 "cells": [
  {
   "cell_type": "markdown",
   "metadata": {
    "kernel": "SoS"
   },
   "source": [
    "# fastGWA analyses for UK Biobank data: qualitative traits"
   ]
  },
  {
   "cell_type": "markdown",
   "metadata": {
    "kernel": "SoS"
   },
   "source": [
    "### Aim"
   ]
  },
  {
   "cell_type": "markdown",
   "metadata": {
    "kernel": "SoS"
   },
   "source": [
    "To perfom genetic association analysis for binary traits (asthma and diabetes) using fastGWA software and UK Biobank imputed data of ~500K invidivuals"
   ]
  },
  {
   "cell_type": "markdown",
   "metadata": {
    "kernel": "SoS"
   },
   "source": [
    "### Method and worflow overview"
   ]
  },
  {
   "cell_type": "markdown",
   "metadata": {
    "kernel": "SoS"
   },
   "source": [
    "1. Data from UKB: phenotype, genotypes files (`.fam`,`.bed`, `.bim`) and imputed genotypes (`.bgen`, `.bgi`, `.sample`)\n",
    "2. Install fastGWA part of the GCTA software in Yale's HRC cluster (in this case binary file is being used). Instructions in https://cnsgenomics.com/software/gcta/#Download\n",
    "3. Run fastGWA analysis to obtain summary statistics for association analysis of binary traits"
   ]
  },
  {
   "cell_type": "markdown",
   "metadata": {
    "kernel": "SoS"
   },
   "source": [
    "### Input data"
   ]
  },
  {
   "cell_type": "markdown",
   "metadata": {
    "kernel": "SoS"
   },
   "source": [
    "Step 1: Create the Genetic Relationship Matrix\n",
    "1. genotypic file in PLINK binary format: `.bin`, `.fam`, `.bed`\n",
    "2. phenotypic file: apparently is needed in plink format `.phe`\n",
    "3. covariates file:\n",
    "\n",
    "\n",
    "```\n",
    "--make-grm\n",
    "--make-grm-bin\n",
    "--make-grm-part m i\n",
    "```"
   ]
  },
  {
   "cell_type": "code",
   "execution_count": null,
   "metadata": {
    "kernel": "SoS"
   },
   "outputs": [],
   "source": [
    "[global]\n",
    "# the output directory for generated files\n",
    "parameter: cwd = path('~/results/pleiotropy/2020-04_fastGWA/asthma/')\n",
    "# Genotype file in plink binary format\n",
    "parameter: genoFile = path('/SAY/dbgapstg/scratch/UKBiobank/genotype_files/pleiotropy_geneticfiles/UKB_Caucasians_phenotypeindepqc120319_updated020720removedwithdrawnindiv.bed')\n",
    "# Phenotype file for binary trait 1 (asthma)\n",
    "parameter: phenoFile = path('/SAY/dbgapstg/scratch/UKBiobank/phenotype_files/pleiotropy_R01/phenotypesforanalysis/Asthma_casesbyICD10codesANDselfreport_controlsbyselfreportandicd10_noautoimmuneincontrols_forbolt030720')\n",
    "# Number of parts the GRM calculation is to be partitioned\n",
    "parameter: parts = 100\n",
    "# Number of partition for the current run\n",
    "parameter: part_number = [f'{x+1}' for x in range(100)]\n",
    "# Specific number of threads to use\n",
    "parameter: numThreads = 6\n",
    "# For cluster jobs, number commands to run per job\n",
    "parameter: job_size = 1"
   ]
  },
  {
   "cell_type": "code",
   "execution_count": null,
   "metadata": {
    "kernel": "SoS"
   },
   "outputs": [],
   "source": [
    "[gcta]\n",
    "depends: executable(\"gcta64\")\n",
    "input: genoFile, phenoFile\n",
    "output: f'{cwd}/{genoFile:bn}.fastGWA.grm.bin', f'{cwd}/{genoFile:bn}.fastGWA.grm.N.bin', f'{cwd}/{genoFile:bn}.fastGWA.grm.id', f'{cwd}/{genoFile:bn}.fastGWA.grm.sp'\n",
    "task: trunk_workers = 1, trunk_size = job_size, walltime = '48h', mem = '48G', cores = numThreads, tags = f'{step_name}_{_output:bn}'\n",
    "bash: expand = \"${ }\", workdir = cwd, stderr = f'{_output[0]:n}.stderr', stdout = f'{_output[0]:n}.stdout'\n",
    "# Partition the GRM into 100 parts and allocate 8GB memory to each job\n",
    "    gcta64 \\\n",
    "    --bfile ${_input[0]:n} \\\n",
    "    --make-grm-part ${parts} ${part_number} \\\n",
    "    --thread-num ${numThreads} \\\n",
    "    --out ${_output[0]:nn}\n",
    "\n",
    "# Merge all the parts together (Linux, Mac)\n",
    "    cat ${_output[0]:nn}.part_${parts}_*.grm.id > ${_output[2]}\n",
    "    cat ${_output[0]:nn}.part_${parts}_*.grm.bin > ${_output[0]}\n",
    "    cat ${_output[0]:nn}.part_${parts}_*.grm.N.bin > ${_output[1]}\n",
    "    \n",
    "# Make a sparse GRM from the merged full-dense GRM\n",
    "    gcta64 --grm ${_output[0]} --make-bK-sparse 0.05 --out ${_output[3]:nn}\n",
    "    \n",
    "# fastGWA mixed model (based on the sparse GRM generated above)\n",
    "    gcta64 \\\n",
    "    --bfile ${_input[0]:n} \\\n",
    "    --grm-sparse ${_output[3]:nn} \\\n",
    "    --fastGWA-mlm \\\n",
    "    --pheno ${_input[1]} \\\n",
    "    --qcovar pc.txt \\\n",
    "    --covar fixed.txt \\\n",
    "    --threads ${numThreads} \\\n",
    "    --out geno_assoc"
   ]
  },
  {
   "cell_type": "markdown",
   "metadata": {
    "kernel": "SoS"
   },
   "source": [
    "### Output files"
   ]
  },
  {
   "cell_type": "markdown",
   "metadata": {
    "kernel": "SoS"
   },
   "source": [
    "1. test.grm.bin (it is a binary file which contains the lower triangle elements of the GRM)\n",
    "2. test.grm.N.bin (it is a binary file which contains the number of SNPs used to calculate the GRM)\n",
    "3. test.grm.id (no header line; columns are family ID and individual ID, see above)\n",
    "4. test.grm.sp (sparse GRM made from the dense GRM)"
   ]
  },
  {
   "cell_type": "code",
   "execution_count": null,
   "metadata": {
    "kernel": "SoS"
   },
   "outputs": [],
   "source": []
  }
 ],
 "metadata": {
  "kernelspec": {
   "display_name": "SoS",
   "language": "sos",
   "name": "sos"
  },
  "language_info": {
   "codemirror_mode": "sos",
   "file_extension": ".sos",
   "mimetype": "text/x-sos",
   "name": "sos",
   "nbconvert_exporter": "sos_notebook.converter.SoS_Exporter",
   "pygments_lexer": "sos"
  },
  "sos": {
   "kernels": [
    [
     "SoS",
     "sos",
     "",
     ""
    ]
   ],
   "version": "0.21.7"
  }
 },
 "nbformat": 4,
 "nbformat_minor": 4
}
