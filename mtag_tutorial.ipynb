{
 "cells": [
  {
   "cell_type": "markdown",
   "id": "d8618711-cf71-45be-9f07-393088d98975",
   "metadata": {
    "kernel": "SoS"
   },
   "source": [
    "## Do liftover hg38 to hg19 to be able to match reference panel"
   ]
  },
  {
   "cell_type": "code",
   "execution_count": 13,
   "id": "bcb567e4-4bb8-45bc-a6ec-88b7cbd1d52c",
   "metadata": {
    "kernel": "Bash",
    "tags": []
   },
   "outputs": [
    {
     "name": "stdout",
     "output_type": "stream",
     "text": [
      "INFO: Running \u001b[32mexport utils script\u001b[0m: \n",
      "INFO: \u001b[32mexport utils script\u001b[0m is \u001b[32mcompleted\u001b[0m.\n",
      "INFO: \u001b[32mexport utils script\u001b[0m output:   \u001b[32m/home/dmc2245/output/utils.py\u001b[0m\n",
      "INFO: Running \u001b[32mdo liftover\u001b[0m: \n",
      "INFO: \u001b[32mdo liftover\u001b[0m is \u001b[32mcompleted\u001b[0m.\n",
      "INFO: \u001b[32mdo liftover\u001b[0m output:   \u001b[32m/home/dmc2245/output/090321_UKBB_Hearing_difficulty_f2247_expandedwhite_45502cases_96601ctrl_PC1_2_f2247.regenie.hg19.snp_stats_original_columns.gz\u001b[0m\n",
      "INFO: Workflow default (ID=wa7a7ba33f2b079ad) is executed successfully with 2 completed steps.\n"
     ]
    }
   ],
   "source": [
    "sos run ~/project/bioworkflows/GWAS/liftover.ipynb \\\n",
    "--cwd ~/output \\\n",
    "--yml_file ~/project/UKBB_GWAS_dev/workflow/regenie_template.yml \\\n",
    "--input_file ~/output/090321_UKBB_Hearing_difficulty_f2247_expandedwhite_45502cases_96601ctrl_PC1_2_f2247.regenie.snp_stats_original_columns.gz \\\n",
    "--output_file 090321_UKBB_Hearing_difficulty_f2247_expandedwhite_45502cases_96601ctrl_PC1_2_f2247.regenie.hg19.snp_stats_original_columns.gz \\\n",
    "--fr 'hg38' --to 'hg19' \\\n",
    "--no-rename \\\n",
    "--container ''"
   ]
  },
  {
   "cell_type": "code",
   "execution_count": 11,
   "id": "2f58ad63-4576-4629-a13c-b53a4bd6e56a",
   "metadata": {
    "kernel": "Bash",
    "tags": []
   },
   "outputs": [
    {
     "name": "stdout",
     "output_type": "stream",
     "text": [
      "INFO: Running \u001b[32mexport utils script\u001b[0m: \n",
      "INFO: \u001b[32mdefault_1\u001b[0m (index=0) is \u001b[32mignored\u001b[0m due to saved signature\n",
      "INFO: \u001b[32mexport utils script\u001b[0m output:   \u001b[32m/home/dmc2245/output/utils.py\u001b[0m\n",
      "INFO: Running \u001b[32mdo liftover\u001b[0m: \n",
      "INFO: \u001b[32mdo liftover\u001b[0m is \u001b[32mcompleted\u001b[0m.\n",
      "INFO: \u001b[32mdo liftover\u001b[0m output:   \u001b[32m/home/dmc2245/output/090321_UKBB_Hearing_noise_f2257_expandedwhite_65660cases_96601ctrl_PC1_2_f2257.regenie.hg19.snp_stats_original_columns.gz\u001b[0m\n",
      "INFO: Workflow default (ID=w6771b9442a859600) is executed successfully with 1 completed step and 1 ignored step.\n"
     ]
    }
   ],
   "source": [
    "sos run ~/project/bioworkflows/GWAS/liftover.ipynb \\\n",
    "--cwd ~/output \\\n",
    "--yml_file ~/project/UKBB_GWAS_dev/workflow/regenie_template.yml \\\n",
    "--input_file ~/output/090321_UKBB_Hearing_noise_f2257_expandedwhite_65660cases_96601ctrl_PC1_2_f2257.regenie.snp_stats_original_columns.gz \\\n",
    "--output_file 090321_UKBB_Hearing_noise_f2257_expandedwhite_65660cases_96601ctrl_PC1_2_f2257.regenie.hg19.snp_stats_original_columns.gz \\\n",
    "--fr 'hg38' --to 'hg19' \\\n",
    "--no-rename \\\n",
    "--container ''"
   ]
  },
  {
   "cell_type": "code",
   "execution_count": 12,
   "id": "c266b772-c111-49ba-b9e6-5c05c19fa213",
   "metadata": {
    "kernel": "Bash",
    "tags": []
   },
   "outputs": [
    {
     "name": "stdout",
     "output_type": "stream",
     "text": [
      "INFO: Running \u001b[32mexport utils script\u001b[0m: \n",
      "INFO: \u001b[32mexport utils script\u001b[0m is \u001b[32mcompleted\u001b[0m.\n",
      "INFO: \u001b[32mexport utils script\u001b[0m output:   \u001b[32m/home/dmc2245/output/utils.py\u001b[0m\n",
      "INFO: Running \u001b[32mdo liftover\u001b[0m: \n",
      "INFO: \u001b[32mdo liftover\u001b[0m is \u001b[32mcompleted\u001b[0m.\n",
      "INFO: \u001b[32mdo liftover\u001b[0m output:   \u001b[32m/home/dmc2245/output/090321_UKBB_Combined_f2247_f2257_expandedwhite_38410cases_96601ctrl_PC1_2_f2247_f2257.regenie.hg19.snp_stats_original_columns.gz\u001b[0m\n",
      "INFO: Workflow default (ID=w8c0c15169254dc37) is executed successfully with 2 completed steps.\n"
     ]
    }
   ],
   "source": [
    "sos run ~/project/bioworkflows/GWAS/liftover.ipynb \\\n",
    "--cwd ~/output \\\n",
    "--yml_file ~/project/UKBB_GWAS_dev/workflow/regenie_template.yml \\\n",
    "--input_file ~/output/090321_UKBB_Combined_f2247_f2257_expandedwhite_38410cases_96601ctrl_PC1_2_f2247_f2257.regenie.snp_stats_original_columns.gz \\\n",
    "--output_file  090321_UKBB_Combined_f2247_f2257_expandedwhite_38410cases_96601ctrl_PC1_2_f2247_f2257.regenie.hg19.snp_stats_original_columns.gz \\\n",
    "--fr 'hg38' --to 'hg19' \\\n",
    "--no-rename \\\n",
    "--container ''"
   ]
  },
  {
   "cell_type": "markdown",
   "id": "84cb227e-508c-430a-9e46-bbaae90e541d",
   "metadata": {
    "kernel": "SoS"
   },
   "source": [
    " ## Use python to add N and a1freq to sumstats"
   ]
  },
  {
   "cell_type": "code",
   "execution_count": 35,
   "id": "7e369d11-6a9d-4d99-a9f4-1894df508146",
   "metadata": {
    "kernel": "SoS"
   },
   "outputs": [],
   "source": [
    "statshg19= pd.read_csv('~/output/090321_UKBB_Hearing_difficulty_f2247_expandedwhite_45502cases_96601ctrl_PC1_2_f2247.regenie.hg19.snp_stats_original_columns.gz', compression='gzip', header=0, delim_whitespace=True, quotechar='\"')"
   ]
  },
  {
   "cell_type": "code",
   "execution_count": 36,
   "id": "32154a41-eb9b-449a-8e94-dfca72b37ccf",
   "metadata": {
    "kernel": "SoS"
   },
   "outputs": [],
   "source": [
    "statshg38 = pd.read_csv('~/output/090321_UKBB_Hearing_difficulty_f2247_expandedwhite_45502cases_96601ctrl_PC1_2_f2247.regenie.snp_stats_original_columns.gz', compression='gzip', header=0, delim_whitespace=True, quotechar='\"')"
   ]
  },
  {
   "cell_type": "code",
   "execution_count": 37,
   "id": "8ddd03c4-4efe-4967-80f8-88dbc5ed0673",
   "metadata": {
    "kernel": "SoS"
   },
   "outputs": [
    {
     "data": {
      "text/html": [
       "<div>\n",
       "<style scoped>\n",
       "    .dataframe tbody tr th:only-of-type {\n",
       "        vertical-align: middle;\n",
       "    }\n",
       "\n",
       "    .dataframe tbody tr th {\n",
       "        vertical-align: top;\n",
       "    }\n",
       "\n",
       "    .dataframe thead th {\n",
       "        text-align: right;\n",
       "    }\n",
       "</style>\n",
       "<table border=\"1\" class=\"dataframe\">\n",
       "  <thead>\n",
       "    <tr style=\"text-align: right;\">\n",
       "      <th></th>\n",
       "      <th>CHR</th>\n",
       "      <th>POS</th>\n",
       "      <th>REF</th>\n",
       "      <th>ALT</th>\n",
       "      <th>SNP</th>\n",
       "      <th>BETA</th>\n",
       "      <th>SE</th>\n",
       "      <th>P</th>\n",
       "    </tr>\n",
       "  </thead>\n",
       "  <tbody>\n",
       "    <tr>\n",
       "      <th>0</th>\n",
       "      <td>1</td>\n",
       "      <td>861242</td>\n",
       "      <td>G</td>\n",
       "      <td>A</td>\n",
       "      <td>chr1:861242:G:A</td>\n",
       "      <td>-2.339630</td>\n",
       "      <td>1.650710</td>\n",
       "      <td>0.037294</td>\n",
       "    </tr>\n",
       "    <tr>\n",
       "      <th>1</th>\n",
       "      <td>1</td>\n",
       "      <td>861261</td>\n",
       "      <td>G</td>\n",
       "      <td>A</td>\n",
       "      <td>chr1:861261:G:A</td>\n",
       "      <td>-0.114660</td>\n",
       "      <td>0.062227</td>\n",
       "      <td>0.065387</td>\n",
       "    </tr>\n",
       "    <tr>\n",
       "      <th>2</th>\n",
       "      <td>1</td>\n",
       "      <td>861265</td>\n",
       "      <td>C</td>\n",
       "      <td>T</td>\n",
       "      <td>chr1:861265:C:T</td>\n",
       "      <td>-0.708778</td>\n",
       "      <td>0.836337</td>\n",
       "      <td>0.396728</td>\n",
       "    </tr>\n",
       "    <tr>\n",
       "      <th>3</th>\n",
       "      <td>1</td>\n",
       "      <td>861288</td>\n",
       "      <td>G</td>\n",
       "      <td>GGCTCT</td>\n",
       "      <td>chr1:861288:G:GGCTCT</td>\n",
       "      <td>0.579427</td>\n",
       "      <td>0.712331</td>\n",
       "      <td>0.415975</td>\n",
       "    </tr>\n",
       "    <tr>\n",
       "      <th>4</th>\n",
       "      <td>1</td>\n",
       "      <td>861292</td>\n",
       "      <td>C</td>\n",
       "      <td>G</td>\n",
       "      <td>chr1:861292:C:G</td>\n",
       "      <td>-0.253633</td>\n",
       "      <td>1.115350</td>\n",
       "      <td>0.820111</td>\n",
       "    </tr>\n",
       "    <tr>\n",
       "      <th>...</th>\n",
       "      <td>...</td>\n",
       "      <td>...</td>\n",
       "      <td>...</td>\n",
       "      <td>...</td>\n",
       "      <td>...</td>\n",
       "      <td>...</td>\n",
       "      <td>...</td>\n",
       "      <td>...</td>\n",
       "    </tr>\n",
       "    <tr>\n",
       "      <th>3732740</th>\n",
       "      <td>22</td>\n",
       "      <td>51220671</td>\n",
       "      <td>C</td>\n",
       "      <td>T</td>\n",
       "      <td>chr22:51220671:C:T</td>\n",
       "      <td>-0.245217</td>\n",
       "      <td>0.129395</td>\n",
       "      <td>0.058079</td>\n",
       "    </tr>\n",
       "    <tr>\n",
       "      <th>3732741</th>\n",
       "      <td>22</td>\n",
       "      <td>51220699</td>\n",
       "      <td>C</td>\n",
       "      <td>T</td>\n",
       "      <td>chr22:51220699:C:T</td>\n",
       "      <td>-0.483093</td>\n",
       "      <td>0.388400</td>\n",
       "      <td>0.213572</td>\n",
       "    </tr>\n",
       "    <tr>\n",
       "      <th>3732742</th>\n",
       "      <td>22</td>\n",
       "      <td>51220734</td>\n",
       "      <td>T</td>\n",
       "      <td>C</td>\n",
       "      <td>chr22:51220734:T:C</td>\n",
       "      <td>0.069862</td>\n",
       "      <td>0.049575</td>\n",
       "      <td>0.158774</td>\n",
       "    </tr>\n",
       "    <tr>\n",
       "      <th>3732743</th>\n",
       "      <td>22</td>\n",
       "      <td>51220757</td>\n",
       "      <td>G</td>\n",
       "      <td>A</td>\n",
       "      <td>chr22:51220757:G:A</td>\n",
       "      <td>0.161382</td>\n",
       "      <td>0.411172</td>\n",
       "      <td>0.694695</td>\n",
       "    </tr>\n",
       "    <tr>\n",
       "      <th>3732744</th>\n",
       "      <td>22</td>\n",
       "      <td>51220824</td>\n",
       "      <td>A</td>\n",
       "      <td>C</td>\n",
       "      <td>chr22:51220824:A:C</td>\n",
       "      <td>1.784520</td>\n",
       "      <td>1.113010</td>\n",
       "      <td>0.059024</td>\n",
       "    </tr>\n",
       "  </tbody>\n",
       "</table>\n",
       "<p>3732745 rows × 8 columns</p>\n",
       "</div>"
      ],
      "text/plain": [
       "         CHR       POS REF     ALT                   SNP      BETA        SE  \\\n",
       "0          1    861242   G       A       chr1:861242:G:A -2.339630  1.650710   \n",
       "1          1    861261   G       A       chr1:861261:G:A -0.114660  0.062227   \n",
       "2          1    861265   C       T       chr1:861265:C:T -0.708778  0.836337   \n",
       "3          1    861288   G  GGCTCT  chr1:861288:G:GGCTCT  0.579427  0.712331   \n",
       "4          1    861292   C       G       chr1:861292:C:G -0.253633  1.115350   \n",
       "...      ...       ...  ..     ...                   ...       ...       ...   \n",
       "3732740   22  51220671   C       T    chr22:51220671:C:T -0.245217  0.129395   \n",
       "3732741   22  51220699   C       T    chr22:51220699:C:T -0.483093  0.388400   \n",
       "3732742   22  51220734   T       C    chr22:51220734:T:C  0.069862  0.049575   \n",
       "3732743   22  51220757   G       A    chr22:51220757:G:A  0.161382  0.411172   \n",
       "3732744   22  51220824   A       C    chr22:51220824:A:C  1.784520  1.113010   \n",
       "\n",
       "                P  \n",
       "0        0.037294  \n",
       "1        0.065387  \n",
       "2        0.396728  \n",
       "3        0.415975  \n",
       "4        0.820111  \n",
       "...           ...  \n",
       "3732740  0.058079  \n",
       "3732741  0.213572  \n",
       "3732742  0.158774  \n",
       "3732743  0.694695  \n",
       "3732744  0.059024  \n",
       "\n",
       "[3732745 rows x 8 columns]"
      ]
     },
     "execution_count": 37,
     "metadata": {},
     "output_type": "execute_result"
    }
   ],
   "source": [
    "statshg19"
   ]
  },
  {
   "cell_type": "code",
   "execution_count": 38,
   "id": "48f2c457-35e1-4d4d-b4de-9d3b7761353b",
   "metadata": {
    "kernel": "SoS"
   },
   "outputs": [
    {
     "data": {
      "text/html": [
       "<div>\n",
       "<style scoped>\n",
       "    .dataframe tbody tr th:only-of-type {\n",
       "        vertical-align: middle;\n",
       "    }\n",
       "\n",
       "    .dataframe tbody tr th {\n",
       "        vertical-align: top;\n",
       "    }\n",
       "\n",
       "    .dataframe thead th {\n",
       "        text-align: right;\n",
       "    }\n",
       "</style>\n",
       "<table border=\"1\" class=\"dataframe\">\n",
       "  <thead>\n",
       "    <tr style=\"text-align: right;\">\n",
       "      <th></th>\n",
       "      <th>CHROM</th>\n",
       "      <th>GENPOS</th>\n",
       "      <th>ID</th>\n",
       "      <th>ALLELE0</th>\n",
       "      <th>ALLELE1</th>\n",
       "      <th>A1FREQ</th>\n",
       "      <th>N</th>\n",
       "      <th>TEST</th>\n",
       "      <th>BETA</th>\n",
       "      <th>SE</th>\n",
       "      <th>CHISQ</th>\n",
       "      <th>LOG10P</th>\n",
       "      <th>EXTRA</th>\n",
       "    </tr>\n",
       "  </thead>\n",
       "  <tbody>\n",
       "    <tr>\n",
       "      <th>0</th>\n",
       "      <td>1</td>\n",
       "      <td>925862</td>\n",
       "      <td>chr1:925862:G:A</td>\n",
       "      <td>G</td>\n",
       "      <td>A</td>\n",
       "      <td>0.000019</td>\n",
       "      <td>128651</td>\n",
       "      <td>ADD</td>\n",
       "      <td>-2.339630</td>\n",
       "      <td>1.650710</td>\n",
       "      <td>4.336920</td>\n",
       "      <td>1.428360</td>\n",
       "      <td>NaN</td>\n",
       "    </tr>\n",
       "    <tr>\n",
       "      <th>1</th>\n",
       "      <td>1</td>\n",
       "      <td>925881</td>\n",
       "      <td>chr1:925881:G:A</td>\n",
       "      <td>G</td>\n",
       "      <td>A</td>\n",
       "      <td>0.004589</td>\n",
       "      <td>138254</td>\n",
       "      <td>ADD</td>\n",
       "      <td>-0.114660</td>\n",
       "      <td>0.062227</td>\n",
       "      <td>3.395180</td>\n",
       "      <td>1.184510</td>\n",
       "      <td>NaN</td>\n",
       "    </tr>\n",
       "    <tr>\n",
       "      <th>2</th>\n",
       "      <td>1</td>\n",
       "      <td>925885</td>\n",
       "      <td>chr1:925885:C:T</td>\n",
       "      <td>C</td>\n",
       "      <td>T</td>\n",
       "      <td>0.000029</td>\n",
       "      <td>139153</td>\n",
       "      <td>ADD</td>\n",
       "      <td>-0.708778</td>\n",
       "      <td>0.836337</td>\n",
       "      <td>0.718221</td>\n",
       "      <td>0.401507</td>\n",
       "      <td>NaN</td>\n",
       "    </tr>\n",
       "    <tr>\n",
       "      <th>3</th>\n",
       "      <td>1</td>\n",
       "      <td>925908</td>\n",
       "      <td>chr1:925908:G:GGCTCT</td>\n",
       "      <td>G</td>\n",
       "      <td>GGCTCT</td>\n",
       "      <td>0.000035</td>\n",
       "      <td>141856</td>\n",
       "      <td>ADD</td>\n",
       "      <td>0.579427</td>\n",
       "      <td>0.712331</td>\n",
       "      <td>0.661660</td>\n",
       "      <td>0.380933</td>\n",
       "      <td>NaN</td>\n",
       "    </tr>\n",
       "    <tr>\n",
       "      <th>4</th>\n",
       "      <td>1</td>\n",
       "      <td>925912</td>\n",
       "      <td>chr1:925912:C:G</td>\n",
       "      <td>C</td>\n",
       "      <td>G</td>\n",
       "      <td>0.000014</td>\n",
       "      <td>142007</td>\n",
       "      <td>ADD</td>\n",
       "      <td>-0.253633</td>\n",
       "      <td>1.115350</td>\n",
       "      <td>0.051712</td>\n",
       "      <td>0.086127</td>\n",
       "      <td>NaN</td>\n",
       "    </tr>\n",
       "    <tr>\n",
       "      <th>...</th>\n",
       "      <td>...</td>\n",
       "      <td>...</td>\n",
       "      <td>...</td>\n",
       "      <td>...</td>\n",
       "      <td>...</td>\n",
       "      <td>...</td>\n",
       "      <td>...</td>\n",
       "      <td>...</td>\n",
       "      <td>...</td>\n",
       "      <td>...</td>\n",
       "      <td>...</td>\n",
       "      <td>...</td>\n",
       "      <td>...</td>\n",
       "    </tr>\n",
       "    <tr>\n",
       "      <th>3732740</th>\n",
       "      <td>22</td>\n",
       "      <td>50782243</td>\n",
       "      <td>chr22:50782243:C:T</td>\n",
       "      <td>C</td>\n",
       "      <td>T</td>\n",
       "      <td>0.001023</td>\n",
       "      <td>141687</td>\n",
       "      <td>ADD</td>\n",
       "      <td>-0.245217</td>\n",
       "      <td>0.129395</td>\n",
       "      <td>3.591420</td>\n",
       "      <td>1.235980</td>\n",
       "      <td>NaN</td>\n",
       "    </tr>\n",
       "    <tr>\n",
       "      <th>3732741</th>\n",
       "      <td>22</td>\n",
       "      <td>50782271</td>\n",
       "      <td>chr22:50782271:C:T</td>\n",
       "      <td>C</td>\n",
       "      <td>T</td>\n",
       "      <td>0.000116</td>\n",
       "      <td>141694</td>\n",
       "      <td>ADD</td>\n",
       "      <td>-0.483093</td>\n",
       "      <td>0.388400</td>\n",
       "      <td>1.547040</td>\n",
       "      <td>0.670455</td>\n",
       "      <td>NaN</td>\n",
       "    </tr>\n",
       "    <tr>\n",
       "      <th>3732742</th>\n",
       "      <td>22</td>\n",
       "      <td>50782306</td>\n",
       "      <td>chr22:50782306:T:C</td>\n",
       "      <td>T</td>\n",
       "      <td>C</td>\n",
       "      <td>0.007858</td>\n",
       "      <td>129105</td>\n",
       "      <td>ADD</td>\n",
       "      <td>0.069862</td>\n",
       "      <td>0.049575</td>\n",
       "      <td>1.985870</td>\n",
       "      <td>0.799221</td>\n",
       "      <td>NaN</td>\n",
       "    </tr>\n",
       "    <tr>\n",
       "      <th>3732743</th>\n",
       "      <td>22</td>\n",
       "      <td>50782329</td>\n",
       "      <td>chr22:50782329:G:A</td>\n",
       "      <td>G</td>\n",
       "      <td>A</td>\n",
       "      <td>0.000106</td>\n",
       "      <td>131815</td>\n",
       "      <td>ADD</td>\n",
       "      <td>0.161382</td>\n",
       "      <td>0.411172</td>\n",
       "      <td>0.154050</td>\n",
       "      <td>0.158206</td>\n",
       "      <td>NaN</td>\n",
       "    </tr>\n",
       "    <tr>\n",
       "      <th>3732744</th>\n",
       "      <td>22</td>\n",
       "      <td>50782396</td>\n",
       "      <td>chr22:50782396:A:C</td>\n",
       "      <td>A</td>\n",
       "      <td>C</td>\n",
       "      <td>0.000015</td>\n",
       "      <td>136976</td>\n",
       "      <td>ADD</td>\n",
       "      <td>1.784520</td>\n",
       "      <td>1.113010</td>\n",
       "      <td>3.564600</td>\n",
       "      <td>1.228970</td>\n",
       "      <td>NaN</td>\n",
       "    </tr>\n",
       "  </tbody>\n",
       "</table>\n",
       "<p>3732745 rows × 13 columns</p>\n",
       "</div>"
      ],
      "text/plain": [
       "         CHROM    GENPOS                    ID ALLELE0 ALLELE1    A1FREQ  \\\n",
       "0            1    925862       chr1:925862:G:A       G       A  0.000019   \n",
       "1            1    925881       chr1:925881:G:A       G       A  0.004589   \n",
       "2            1    925885       chr1:925885:C:T       C       T  0.000029   \n",
       "3            1    925908  chr1:925908:G:GGCTCT       G  GGCTCT  0.000035   \n",
       "4            1    925912       chr1:925912:C:G       C       G  0.000014   \n",
       "...        ...       ...                   ...     ...     ...       ...   \n",
       "3732740     22  50782243    chr22:50782243:C:T       C       T  0.001023   \n",
       "3732741     22  50782271    chr22:50782271:C:T       C       T  0.000116   \n",
       "3732742     22  50782306    chr22:50782306:T:C       T       C  0.007858   \n",
       "3732743     22  50782329    chr22:50782329:G:A       G       A  0.000106   \n",
       "3732744     22  50782396    chr22:50782396:A:C       A       C  0.000015   \n",
       "\n",
       "              N TEST      BETA        SE     CHISQ    LOG10P  EXTRA  \n",
       "0        128651  ADD -2.339630  1.650710  4.336920  1.428360    NaN  \n",
       "1        138254  ADD -0.114660  0.062227  3.395180  1.184510    NaN  \n",
       "2        139153  ADD -0.708778  0.836337  0.718221  0.401507    NaN  \n",
       "3        141856  ADD  0.579427  0.712331  0.661660  0.380933    NaN  \n",
       "4        142007  ADD -0.253633  1.115350  0.051712  0.086127    NaN  \n",
       "...         ...  ...       ...       ...       ...       ...    ...  \n",
       "3732740  141687  ADD -0.245217  0.129395  3.591420  1.235980    NaN  \n",
       "3732741  141694  ADD -0.483093  0.388400  1.547040  0.670455    NaN  \n",
       "3732742  129105  ADD  0.069862  0.049575  1.985870  0.799221    NaN  \n",
       "3732743  131815  ADD  0.161382  0.411172  0.154050  0.158206    NaN  \n",
       "3732744  136976  ADD  1.784520  1.113010  3.564600  1.228970    NaN  \n",
       "\n",
       "[3732745 rows x 13 columns]"
      ]
     },
     "execution_count": 38,
     "metadata": {},
     "output_type": "execute_result"
    }
   ],
   "source": [
    "statshg38"
   ]
  },
  {
   "cell_type": "code",
   "execution_count": 37,
   "id": "23b4e694-166f-4ea9-886c-28690b54db36",
   "metadata": {
    "kernel": "SoS"
   },
   "outputs": [],
   "source": [
    "statshg38_chi_mean = statshg38[\"CHISQ\"].mean()"
   ]
  },
  {
   "cell_type": "code",
   "execution_count": 38,
   "id": "91124784-fac8-4b3a-9b08-2ff8866a8bb9",
   "metadata": {
    "kernel": "SoS"
   },
   "outputs": [
    {
     "data": {
      "text/plain": [
       "1.0072195029711348"
      ]
     },
     "execution_count": 38,
     "metadata": {},
     "output_type": "execute_result"
    }
   ],
   "source": [
    "statshg38_chi_mean"
   ]
  },
  {
   "cell_type": "code",
   "execution_count": 41,
   "id": "a9825f56-38ac-41ce-84d5-7700b924eb3b",
   "metadata": {
    "kernel": "SoS"
   },
   "outputs": [],
   "source": [
    "df = pd.concat([statshg19,statshg38], axis=1)"
   ]
  },
  {
   "cell_type": "code",
   "execution_count": 44,
   "id": "6aea7c1d-8edb-4b4a-9ec8-792fb6950020",
   "metadata": {
    "kernel": "SoS"
   },
   "outputs": [
    {
     "data": {
      "text/html": [
       "<div>\n",
       "<style scoped>\n",
       "    .dataframe tbody tr th:only-of-type {\n",
       "        vertical-align: middle;\n",
       "    }\n",
       "\n",
       "    .dataframe tbody tr th {\n",
       "        vertical-align: top;\n",
       "    }\n",
       "\n",
       "    .dataframe thead th {\n",
       "        text-align: right;\n",
       "    }\n",
       "</style>\n",
       "<table border=\"1\" class=\"dataframe\">\n",
       "  <thead>\n",
       "    <tr style=\"text-align: right;\">\n",
       "      <th></th>\n",
       "      <th>CHR</th>\n",
       "      <th>POS</th>\n",
       "      <th>REF</th>\n",
       "      <th>ALT</th>\n",
       "      <th>SNP</th>\n",
       "      <th>BETA</th>\n",
       "      <th>SE</th>\n",
       "      <th>P</th>\n",
       "      <th>CHROM</th>\n",
       "      <th>GENPOS</th>\n",
       "      <th>...</th>\n",
       "      <th>ALLELE0</th>\n",
       "      <th>ALLELE1</th>\n",
       "      <th>A1FREQ</th>\n",
       "      <th>N</th>\n",
       "      <th>TEST</th>\n",
       "      <th>BETA</th>\n",
       "      <th>SE</th>\n",
       "      <th>CHISQ</th>\n",
       "      <th>LOG10P</th>\n",
       "      <th>EXTRA</th>\n",
       "    </tr>\n",
       "  </thead>\n",
       "  <tbody>\n",
       "    <tr>\n",
       "      <th>0</th>\n",
       "      <td>1</td>\n",
       "      <td>861242</td>\n",
       "      <td>G</td>\n",
       "      <td>A</td>\n",
       "      <td>chr1:861242:G:A</td>\n",
       "      <td>-2.339630</td>\n",
       "      <td>1.650710</td>\n",
       "      <td>0.037294</td>\n",
       "      <td>1</td>\n",
       "      <td>925862</td>\n",
       "      <td>...</td>\n",
       "      <td>G</td>\n",
       "      <td>A</td>\n",
       "      <td>0.000019</td>\n",
       "      <td>128651</td>\n",
       "      <td>ADD</td>\n",
       "      <td>-2.339630</td>\n",
       "      <td>1.650710</td>\n",
       "      <td>4.336920</td>\n",
       "      <td>1.428360</td>\n",
       "      <td>NaN</td>\n",
       "    </tr>\n",
       "    <tr>\n",
       "      <th>1</th>\n",
       "      <td>1</td>\n",
       "      <td>861261</td>\n",
       "      <td>G</td>\n",
       "      <td>A</td>\n",
       "      <td>chr1:861261:G:A</td>\n",
       "      <td>-0.114660</td>\n",
       "      <td>0.062227</td>\n",
       "      <td>0.065387</td>\n",
       "      <td>1</td>\n",
       "      <td>925881</td>\n",
       "      <td>...</td>\n",
       "      <td>G</td>\n",
       "      <td>A</td>\n",
       "      <td>0.004589</td>\n",
       "      <td>138254</td>\n",
       "      <td>ADD</td>\n",
       "      <td>-0.114660</td>\n",
       "      <td>0.062227</td>\n",
       "      <td>3.395180</td>\n",
       "      <td>1.184510</td>\n",
       "      <td>NaN</td>\n",
       "    </tr>\n",
       "    <tr>\n",
       "      <th>2</th>\n",
       "      <td>1</td>\n",
       "      <td>861265</td>\n",
       "      <td>C</td>\n",
       "      <td>T</td>\n",
       "      <td>chr1:861265:C:T</td>\n",
       "      <td>-0.708778</td>\n",
       "      <td>0.836337</td>\n",
       "      <td>0.396728</td>\n",
       "      <td>1</td>\n",
       "      <td>925885</td>\n",
       "      <td>...</td>\n",
       "      <td>C</td>\n",
       "      <td>T</td>\n",
       "      <td>0.000029</td>\n",
       "      <td>139153</td>\n",
       "      <td>ADD</td>\n",
       "      <td>-0.708778</td>\n",
       "      <td>0.836337</td>\n",
       "      <td>0.718221</td>\n",
       "      <td>0.401507</td>\n",
       "      <td>NaN</td>\n",
       "    </tr>\n",
       "    <tr>\n",
       "      <th>3</th>\n",
       "      <td>1</td>\n",
       "      <td>861288</td>\n",
       "      <td>G</td>\n",
       "      <td>GGCTCT</td>\n",
       "      <td>chr1:861288:G:GGCTCT</td>\n",
       "      <td>0.579427</td>\n",
       "      <td>0.712331</td>\n",
       "      <td>0.415975</td>\n",
       "      <td>1</td>\n",
       "      <td>925908</td>\n",
       "      <td>...</td>\n",
       "      <td>G</td>\n",
       "      <td>GGCTCT</td>\n",
       "      <td>0.000035</td>\n",
       "      <td>141856</td>\n",
       "      <td>ADD</td>\n",
       "      <td>0.579427</td>\n",
       "      <td>0.712331</td>\n",
       "      <td>0.661660</td>\n",
       "      <td>0.380933</td>\n",
       "      <td>NaN</td>\n",
       "    </tr>\n",
       "    <tr>\n",
       "      <th>4</th>\n",
       "      <td>1</td>\n",
       "      <td>861292</td>\n",
       "      <td>C</td>\n",
       "      <td>G</td>\n",
       "      <td>chr1:861292:C:G</td>\n",
       "      <td>-0.253633</td>\n",
       "      <td>1.115350</td>\n",
       "      <td>0.820111</td>\n",
       "      <td>1</td>\n",
       "      <td>925912</td>\n",
       "      <td>...</td>\n",
       "      <td>C</td>\n",
       "      <td>G</td>\n",
       "      <td>0.000014</td>\n",
       "      <td>142007</td>\n",
       "      <td>ADD</td>\n",
       "      <td>-0.253633</td>\n",
       "      <td>1.115350</td>\n",
       "      <td>0.051712</td>\n",
       "      <td>0.086127</td>\n",
       "      <td>NaN</td>\n",
       "    </tr>\n",
       "    <tr>\n",
       "      <th>...</th>\n",
       "      <td>...</td>\n",
       "      <td>...</td>\n",
       "      <td>...</td>\n",
       "      <td>...</td>\n",
       "      <td>...</td>\n",
       "      <td>...</td>\n",
       "      <td>...</td>\n",
       "      <td>...</td>\n",
       "      <td>...</td>\n",
       "      <td>...</td>\n",
       "      <td>...</td>\n",
       "      <td>...</td>\n",
       "      <td>...</td>\n",
       "      <td>...</td>\n",
       "      <td>...</td>\n",
       "      <td>...</td>\n",
       "      <td>...</td>\n",
       "      <td>...</td>\n",
       "      <td>...</td>\n",
       "      <td>...</td>\n",
       "      <td>...</td>\n",
       "    </tr>\n",
       "    <tr>\n",
       "      <th>3732740</th>\n",
       "      <td>22</td>\n",
       "      <td>51220671</td>\n",
       "      <td>C</td>\n",
       "      <td>T</td>\n",
       "      <td>chr22:51220671:C:T</td>\n",
       "      <td>-0.245217</td>\n",
       "      <td>0.129395</td>\n",
       "      <td>0.058079</td>\n",
       "      <td>22</td>\n",
       "      <td>50782243</td>\n",
       "      <td>...</td>\n",
       "      <td>C</td>\n",
       "      <td>T</td>\n",
       "      <td>0.001023</td>\n",
       "      <td>141687</td>\n",
       "      <td>ADD</td>\n",
       "      <td>-0.245217</td>\n",
       "      <td>0.129395</td>\n",
       "      <td>3.591420</td>\n",
       "      <td>1.235980</td>\n",
       "      <td>NaN</td>\n",
       "    </tr>\n",
       "    <tr>\n",
       "      <th>3732741</th>\n",
       "      <td>22</td>\n",
       "      <td>51220699</td>\n",
       "      <td>C</td>\n",
       "      <td>T</td>\n",
       "      <td>chr22:51220699:C:T</td>\n",
       "      <td>-0.483093</td>\n",
       "      <td>0.388400</td>\n",
       "      <td>0.213572</td>\n",
       "      <td>22</td>\n",
       "      <td>50782271</td>\n",
       "      <td>...</td>\n",
       "      <td>C</td>\n",
       "      <td>T</td>\n",
       "      <td>0.000116</td>\n",
       "      <td>141694</td>\n",
       "      <td>ADD</td>\n",
       "      <td>-0.483093</td>\n",
       "      <td>0.388400</td>\n",
       "      <td>1.547040</td>\n",
       "      <td>0.670455</td>\n",
       "      <td>NaN</td>\n",
       "    </tr>\n",
       "    <tr>\n",
       "      <th>3732742</th>\n",
       "      <td>22</td>\n",
       "      <td>51220734</td>\n",
       "      <td>T</td>\n",
       "      <td>C</td>\n",
       "      <td>chr22:51220734:T:C</td>\n",
       "      <td>0.069862</td>\n",
       "      <td>0.049575</td>\n",
       "      <td>0.158774</td>\n",
       "      <td>22</td>\n",
       "      <td>50782306</td>\n",
       "      <td>...</td>\n",
       "      <td>T</td>\n",
       "      <td>C</td>\n",
       "      <td>0.007858</td>\n",
       "      <td>129105</td>\n",
       "      <td>ADD</td>\n",
       "      <td>0.069862</td>\n",
       "      <td>0.049575</td>\n",
       "      <td>1.985870</td>\n",
       "      <td>0.799221</td>\n",
       "      <td>NaN</td>\n",
       "    </tr>\n",
       "    <tr>\n",
       "      <th>3732743</th>\n",
       "      <td>22</td>\n",
       "      <td>51220757</td>\n",
       "      <td>G</td>\n",
       "      <td>A</td>\n",
       "      <td>chr22:51220757:G:A</td>\n",
       "      <td>0.161382</td>\n",
       "      <td>0.411172</td>\n",
       "      <td>0.694695</td>\n",
       "      <td>22</td>\n",
       "      <td>50782329</td>\n",
       "      <td>...</td>\n",
       "      <td>G</td>\n",
       "      <td>A</td>\n",
       "      <td>0.000106</td>\n",
       "      <td>131815</td>\n",
       "      <td>ADD</td>\n",
       "      <td>0.161382</td>\n",
       "      <td>0.411172</td>\n",
       "      <td>0.154050</td>\n",
       "      <td>0.158206</td>\n",
       "      <td>NaN</td>\n",
       "    </tr>\n",
       "    <tr>\n",
       "      <th>3732744</th>\n",
       "      <td>22</td>\n",
       "      <td>51220824</td>\n",
       "      <td>A</td>\n",
       "      <td>C</td>\n",
       "      <td>chr22:51220824:A:C</td>\n",
       "      <td>1.784520</td>\n",
       "      <td>1.113010</td>\n",
       "      <td>0.059024</td>\n",
       "      <td>22</td>\n",
       "      <td>50782396</td>\n",
       "      <td>...</td>\n",
       "      <td>A</td>\n",
       "      <td>C</td>\n",
       "      <td>0.000015</td>\n",
       "      <td>136976</td>\n",
       "      <td>ADD</td>\n",
       "      <td>1.784520</td>\n",
       "      <td>1.113010</td>\n",
       "      <td>3.564600</td>\n",
       "      <td>1.228970</td>\n",
       "      <td>NaN</td>\n",
       "    </tr>\n",
       "  </tbody>\n",
       "</table>\n",
       "<p>3732745 rows × 21 columns</p>\n",
       "</div>"
      ],
      "text/plain": [
       "         CHR       POS REF     ALT                   SNP      BETA        SE  \\\n",
       "0          1    861242   G       A       chr1:861242:G:A -2.339630  1.650710   \n",
       "1          1    861261   G       A       chr1:861261:G:A -0.114660  0.062227   \n",
       "2          1    861265   C       T       chr1:861265:C:T -0.708778  0.836337   \n",
       "3          1    861288   G  GGCTCT  chr1:861288:G:GGCTCT  0.579427  0.712331   \n",
       "4          1    861292   C       G       chr1:861292:C:G -0.253633  1.115350   \n",
       "...      ...       ...  ..     ...                   ...       ...       ...   \n",
       "3732740   22  51220671   C       T    chr22:51220671:C:T -0.245217  0.129395   \n",
       "3732741   22  51220699   C       T    chr22:51220699:C:T -0.483093  0.388400   \n",
       "3732742   22  51220734   T       C    chr22:51220734:T:C  0.069862  0.049575   \n",
       "3732743   22  51220757   G       A    chr22:51220757:G:A  0.161382  0.411172   \n",
       "3732744   22  51220824   A       C    chr22:51220824:A:C  1.784520  1.113010   \n",
       "\n",
       "                P  CHROM    GENPOS  ... ALLELE0 ALLELE1    A1FREQ       N  \\\n",
       "0        0.037294      1    925862  ...       G       A  0.000019  128651   \n",
       "1        0.065387      1    925881  ...       G       A  0.004589  138254   \n",
       "2        0.396728      1    925885  ...       C       T  0.000029  139153   \n",
       "3        0.415975      1    925908  ...       G  GGCTCT  0.000035  141856   \n",
       "4        0.820111      1    925912  ...       C       G  0.000014  142007   \n",
       "...           ...    ...       ...  ...     ...     ...       ...     ...   \n",
       "3732740  0.058079     22  50782243  ...       C       T  0.001023  141687   \n",
       "3732741  0.213572     22  50782271  ...       C       T  0.000116  141694   \n",
       "3732742  0.158774     22  50782306  ...       T       C  0.007858  129105   \n",
       "3732743  0.694695     22  50782329  ...       G       A  0.000106  131815   \n",
       "3732744  0.059024     22  50782396  ...       A       C  0.000015  136976   \n",
       "\n",
       "         TEST      BETA        SE     CHISQ    LOG10P  EXTRA  \n",
       "0         ADD -2.339630  1.650710  4.336920  1.428360    NaN  \n",
       "1         ADD -0.114660  0.062227  3.395180  1.184510    NaN  \n",
       "2         ADD -0.708778  0.836337  0.718221  0.401507    NaN  \n",
       "3         ADD  0.579427  0.712331  0.661660  0.380933    NaN  \n",
       "4         ADD -0.253633  1.115350  0.051712  0.086127    NaN  \n",
       "...       ...       ...       ...       ...       ...    ...  \n",
       "3732740   ADD -0.245217  0.129395  3.591420  1.235980    NaN  \n",
       "3732741   ADD -0.483093  0.388400  1.547040  0.670455    NaN  \n",
       "3732742   ADD  0.069862  0.049575  1.985870  0.799221    NaN  \n",
       "3732743   ADD  0.161382  0.411172  0.154050  0.158206    NaN  \n",
       "3732744   ADD  1.784520  1.113010  3.564600  1.228970    NaN  \n",
       "\n",
       "[3732745 rows x 21 columns]"
      ]
     },
     "execution_count": 44,
     "metadata": {},
     "output_type": "execute_result"
    }
   ],
   "source": [
    "df"
   ]
  },
  {
   "cell_type": "code",
   "execution_count": 46,
   "id": "ff91fd78-ec4d-45ad-bdce-deb4174d166c",
   "metadata": {
    "kernel": "SoS"
   },
   "outputs": [],
   "source": [
    "df = df.loc[:,~df.columns.duplicated()]"
   ]
  },
  {
   "cell_type": "code",
   "execution_count": 48,
   "id": "7c15342e-8757-4fc5-b068-d0b0253a0f02",
   "metadata": {
    "kernel": "SoS"
   },
   "outputs": [
    {
     "name": "stderr",
     "output_type": "stream",
     "text": [
      "/home/dmc2245/miniconda3/lib/python3.8/site-packages/pandas/core/frame.py:3607: SettingWithCopyWarning: \n",
      "A value is trying to be set on a copy of a slice from a DataFrame.\n",
      "Try using .loc[row_indexer,col_indexer] = value instead\n",
      "\n",
      "See the caveats in the documentation: https://pandas.pydata.org/pandas-docs/stable/user_guide/indexing.html#returning-a-view-versus-a-copy\n",
      "  self._set_item(key, value)\n"
     ]
    }
   ],
   "source": [
    "df['SNP'] = df['SNP'].str.replace('chr', '')"
   ]
  },
  {
   "cell_type": "code",
   "execution_count": 49,
   "id": "103adcef-5b44-4b1b-b459-c9d4217248a2",
   "metadata": {
    "kernel": "SoS"
   },
   "outputs": [
    {
     "data": {
      "text/html": [
       "<div>\n",
       "<style scoped>\n",
       "    .dataframe tbody tr th:only-of-type {\n",
       "        vertical-align: middle;\n",
       "    }\n",
       "\n",
       "    .dataframe tbody tr th {\n",
       "        vertical-align: top;\n",
       "    }\n",
       "\n",
       "    .dataframe thead th {\n",
       "        text-align: right;\n",
       "    }\n",
       "</style>\n",
       "<table border=\"1\" class=\"dataframe\">\n",
       "  <thead>\n",
       "    <tr style=\"text-align: right;\">\n",
       "      <th></th>\n",
       "      <th>CHR</th>\n",
       "      <th>POS</th>\n",
       "      <th>REF</th>\n",
       "      <th>ALT</th>\n",
       "      <th>SNP</th>\n",
       "      <th>BETA</th>\n",
       "      <th>SE</th>\n",
       "      <th>P</th>\n",
       "      <th>CHROM</th>\n",
       "      <th>GENPOS</th>\n",
       "      <th>ID</th>\n",
       "      <th>ALLELE0</th>\n",
       "      <th>ALLELE1</th>\n",
       "      <th>A1FREQ</th>\n",
       "      <th>N</th>\n",
       "      <th>TEST</th>\n",
       "      <th>CHISQ</th>\n",
       "      <th>LOG10P</th>\n",
       "      <th>EXTRA</th>\n",
       "    </tr>\n",
       "  </thead>\n",
       "  <tbody>\n",
       "    <tr>\n",
       "      <th>0</th>\n",
       "      <td>1</td>\n",
       "      <td>861242</td>\n",
       "      <td>G</td>\n",
       "      <td>A</td>\n",
       "      <td>1:861242:G:A</td>\n",
       "      <td>-2.339630</td>\n",
       "      <td>1.650710</td>\n",
       "      <td>0.037294</td>\n",
       "      <td>1</td>\n",
       "      <td>925862</td>\n",
       "      <td>chr1:925862:G:A</td>\n",
       "      <td>G</td>\n",
       "      <td>A</td>\n",
       "      <td>0.000019</td>\n",
       "      <td>128651</td>\n",
       "      <td>ADD</td>\n",
       "      <td>4.336920</td>\n",
       "      <td>1.428360</td>\n",
       "      <td>NaN</td>\n",
       "    </tr>\n",
       "    <tr>\n",
       "      <th>1</th>\n",
       "      <td>1</td>\n",
       "      <td>861261</td>\n",
       "      <td>G</td>\n",
       "      <td>A</td>\n",
       "      <td>1:861261:G:A</td>\n",
       "      <td>-0.114660</td>\n",
       "      <td>0.062227</td>\n",
       "      <td>0.065387</td>\n",
       "      <td>1</td>\n",
       "      <td>925881</td>\n",
       "      <td>chr1:925881:G:A</td>\n",
       "      <td>G</td>\n",
       "      <td>A</td>\n",
       "      <td>0.004589</td>\n",
       "      <td>138254</td>\n",
       "      <td>ADD</td>\n",
       "      <td>3.395180</td>\n",
       "      <td>1.184510</td>\n",
       "      <td>NaN</td>\n",
       "    </tr>\n",
       "    <tr>\n",
       "      <th>2</th>\n",
       "      <td>1</td>\n",
       "      <td>861265</td>\n",
       "      <td>C</td>\n",
       "      <td>T</td>\n",
       "      <td>1:861265:C:T</td>\n",
       "      <td>-0.708778</td>\n",
       "      <td>0.836337</td>\n",
       "      <td>0.396728</td>\n",
       "      <td>1</td>\n",
       "      <td>925885</td>\n",
       "      <td>chr1:925885:C:T</td>\n",
       "      <td>C</td>\n",
       "      <td>T</td>\n",
       "      <td>0.000029</td>\n",
       "      <td>139153</td>\n",
       "      <td>ADD</td>\n",
       "      <td>0.718221</td>\n",
       "      <td>0.401507</td>\n",
       "      <td>NaN</td>\n",
       "    </tr>\n",
       "    <tr>\n",
       "      <th>3</th>\n",
       "      <td>1</td>\n",
       "      <td>861288</td>\n",
       "      <td>G</td>\n",
       "      <td>GGCTCT</td>\n",
       "      <td>1:861288:G:GGCTCT</td>\n",
       "      <td>0.579427</td>\n",
       "      <td>0.712331</td>\n",
       "      <td>0.415975</td>\n",
       "      <td>1</td>\n",
       "      <td>925908</td>\n",
       "      <td>chr1:925908:G:GGCTCT</td>\n",
       "      <td>G</td>\n",
       "      <td>GGCTCT</td>\n",
       "      <td>0.000035</td>\n",
       "      <td>141856</td>\n",
       "      <td>ADD</td>\n",
       "      <td>0.661660</td>\n",
       "      <td>0.380933</td>\n",
       "      <td>NaN</td>\n",
       "    </tr>\n",
       "    <tr>\n",
       "      <th>4</th>\n",
       "      <td>1</td>\n",
       "      <td>861292</td>\n",
       "      <td>C</td>\n",
       "      <td>G</td>\n",
       "      <td>1:861292:C:G</td>\n",
       "      <td>-0.253633</td>\n",
       "      <td>1.115350</td>\n",
       "      <td>0.820111</td>\n",
       "      <td>1</td>\n",
       "      <td>925912</td>\n",
       "      <td>chr1:925912:C:G</td>\n",
       "      <td>C</td>\n",
       "      <td>G</td>\n",
       "      <td>0.000014</td>\n",
       "      <td>142007</td>\n",
       "      <td>ADD</td>\n",
       "      <td>0.051712</td>\n",
       "      <td>0.086127</td>\n",
       "      <td>NaN</td>\n",
       "    </tr>\n",
       "    <tr>\n",
       "      <th>...</th>\n",
       "      <td>...</td>\n",
       "      <td>...</td>\n",
       "      <td>...</td>\n",
       "      <td>...</td>\n",
       "      <td>...</td>\n",
       "      <td>...</td>\n",
       "      <td>...</td>\n",
       "      <td>...</td>\n",
       "      <td>...</td>\n",
       "      <td>...</td>\n",
       "      <td>...</td>\n",
       "      <td>...</td>\n",
       "      <td>...</td>\n",
       "      <td>...</td>\n",
       "      <td>...</td>\n",
       "      <td>...</td>\n",
       "      <td>...</td>\n",
       "      <td>...</td>\n",
       "      <td>...</td>\n",
       "    </tr>\n",
       "    <tr>\n",
       "      <th>3732740</th>\n",
       "      <td>22</td>\n",
       "      <td>51220671</td>\n",
       "      <td>C</td>\n",
       "      <td>T</td>\n",
       "      <td>22:51220671:C:T</td>\n",
       "      <td>-0.245217</td>\n",
       "      <td>0.129395</td>\n",
       "      <td>0.058079</td>\n",
       "      <td>22</td>\n",
       "      <td>50782243</td>\n",
       "      <td>chr22:50782243:C:T</td>\n",
       "      <td>C</td>\n",
       "      <td>T</td>\n",
       "      <td>0.001023</td>\n",
       "      <td>141687</td>\n",
       "      <td>ADD</td>\n",
       "      <td>3.591420</td>\n",
       "      <td>1.235980</td>\n",
       "      <td>NaN</td>\n",
       "    </tr>\n",
       "    <tr>\n",
       "      <th>3732741</th>\n",
       "      <td>22</td>\n",
       "      <td>51220699</td>\n",
       "      <td>C</td>\n",
       "      <td>T</td>\n",
       "      <td>22:51220699:C:T</td>\n",
       "      <td>-0.483093</td>\n",
       "      <td>0.388400</td>\n",
       "      <td>0.213572</td>\n",
       "      <td>22</td>\n",
       "      <td>50782271</td>\n",
       "      <td>chr22:50782271:C:T</td>\n",
       "      <td>C</td>\n",
       "      <td>T</td>\n",
       "      <td>0.000116</td>\n",
       "      <td>141694</td>\n",
       "      <td>ADD</td>\n",
       "      <td>1.547040</td>\n",
       "      <td>0.670455</td>\n",
       "      <td>NaN</td>\n",
       "    </tr>\n",
       "    <tr>\n",
       "      <th>3732742</th>\n",
       "      <td>22</td>\n",
       "      <td>51220734</td>\n",
       "      <td>T</td>\n",
       "      <td>C</td>\n",
       "      <td>22:51220734:T:C</td>\n",
       "      <td>0.069862</td>\n",
       "      <td>0.049575</td>\n",
       "      <td>0.158774</td>\n",
       "      <td>22</td>\n",
       "      <td>50782306</td>\n",
       "      <td>chr22:50782306:T:C</td>\n",
       "      <td>T</td>\n",
       "      <td>C</td>\n",
       "      <td>0.007858</td>\n",
       "      <td>129105</td>\n",
       "      <td>ADD</td>\n",
       "      <td>1.985870</td>\n",
       "      <td>0.799221</td>\n",
       "      <td>NaN</td>\n",
       "    </tr>\n",
       "    <tr>\n",
       "      <th>3732743</th>\n",
       "      <td>22</td>\n",
       "      <td>51220757</td>\n",
       "      <td>G</td>\n",
       "      <td>A</td>\n",
       "      <td>22:51220757:G:A</td>\n",
       "      <td>0.161382</td>\n",
       "      <td>0.411172</td>\n",
       "      <td>0.694695</td>\n",
       "      <td>22</td>\n",
       "      <td>50782329</td>\n",
       "      <td>chr22:50782329:G:A</td>\n",
       "      <td>G</td>\n",
       "      <td>A</td>\n",
       "      <td>0.000106</td>\n",
       "      <td>131815</td>\n",
       "      <td>ADD</td>\n",
       "      <td>0.154050</td>\n",
       "      <td>0.158206</td>\n",
       "      <td>NaN</td>\n",
       "    </tr>\n",
       "    <tr>\n",
       "      <th>3732744</th>\n",
       "      <td>22</td>\n",
       "      <td>51220824</td>\n",
       "      <td>A</td>\n",
       "      <td>C</td>\n",
       "      <td>22:51220824:A:C</td>\n",
       "      <td>1.784520</td>\n",
       "      <td>1.113010</td>\n",
       "      <td>0.059024</td>\n",
       "      <td>22</td>\n",
       "      <td>50782396</td>\n",
       "      <td>chr22:50782396:A:C</td>\n",
       "      <td>A</td>\n",
       "      <td>C</td>\n",
       "      <td>0.000015</td>\n",
       "      <td>136976</td>\n",
       "      <td>ADD</td>\n",
       "      <td>3.564600</td>\n",
       "      <td>1.228970</td>\n",
       "      <td>NaN</td>\n",
       "    </tr>\n",
       "  </tbody>\n",
       "</table>\n",
       "<p>3732745 rows × 19 columns</p>\n",
       "</div>"
      ],
      "text/plain": [
       "         CHR       POS REF     ALT                SNP      BETA        SE  \\\n",
       "0          1    861242   G       A       1:861242:G:A -2.339630  1.650710   \n",
       "1          1    861261   G       A       1:861261:G:A -0.114660  0.062227   \n",
       "2          1    861265   C       T       1:861265:C:T -0.708778  0.836337   \n",
       "3          1    861288   G  GGCTCT  1:861288:G:GGCTCT  0.579427  0.712331   \n",
       "4          1    861292   C       G       1:861292:C:G -0.253633  1.115350   \n",
       "...      ...       ...  ..     ...                ...       ...       ...   \n",
       "3732740   22  51220671   C       T    22:51220671:C:T -0.245217  0.129395   \n",
       "3732741   22  51220699   C       T    22:51220699:C:T -0.483093  0.388400   \n",
       "3732742   22  51220734   T       C    22:51220734:T:C  0.069862  0.049575   \n",
       "3732743   22  51220757   G       A    22:51220757:G:A  0.161382  0.411172   \n",
       "3732744   22  51220824   A       C    22:51220824:A:C  1.784520  1.113010   \n",
       "\n",
       "                P  CHROM    GENPOS                    ID ALLELE0 ALLELE1  \\\n",
       "0        0.037294      1    925862       chr1:925862:G:A       G       A   \n",
       "1        0.065387      1    925881       chr1:925881:G:A       G       A   \n",
       "2        0.396728      1    925885       chr1:925885:C:T       C       T   \n",
       "3        0.415975      1    925908  chr1:925908:G:GGCTCT       G  GGCTCT   \n",
       "4        0.820111      1    925912       chr1:925912:C:G       C       G   \n",
       "...           ...    ...       ...                   ...     ...     ...   \n",
       "3732740  0.058079     22  50782243    chr22:50782243:C:T       C       T   \n",
       "3732741  0.213572     22  50782271    chr22:50782271:C:T       C       T   \n",
       "3732742  0.158774     22  50782306    chr22:50782306:T:C       T       C   \n",
       "3732743  0.694695     22  50782329    chr22:50782329:G:A       G       A   \n",
       "3732744  0.059024     22  50782396    chr22:50782396:A:C       A       C   \n",
       "\n",
       "           A1FREQ       N TEST     CHISQ    LOG10P  EXTRA  \n",
       "0        0.000019  128651  ADD  4.336920  1.428360    NaN  \n",
       "1        0.004589  138254  ADD  3.395180  1.184510    NaN  \n",
       "2        0.000029  139153  ADD  0.718221  0.401507    NaN  \n",
       "3        0.000035  141856  ADD  0.661660  0.380933    NaN  \n",
       "4        0.000014  142007  ADD  0.051712  0.086127    NaN  \n",
       "...           ...     ...  ...       ...       ...    ...  \n",
       "3732740  0.001023  141687  ADD  3.591420  1.235980    NaN  \n",
       "3732741  0.000116  141694  ADD  1.547040  0.670455    NaN  \n",
       "3732742  0.007858  129105  ADD  1.985870  0.799221    NaN  \n",
       "3732743  0.000106  131815  ADD  0.154050  0.158206    NaN  \n",
       "3732744  0.000015  136976  ADD  3.564600  1.228970    NaN  \n",
       "\n",
       "[3732745 rows x 19 columns]"
      ]
     },
     "execution_count": 49,
     "metadata": {},
     "output_type": "execute_result"
    }
   ],
   "source": [
    "df"
   ]
  },
  {
   "cell_type": "code",
   "execution_count": 50,
   "id": "9d33c058-6af6-4dd4-9882-538b2e76d61c",
   "metadata": {
    "kernel": "SoS"
   },
   "outputs": [],
   "source": [
    "\n",
    "df.to_csv('~/output/090321_UKBB_Hearing_difficulty_f2247_expandedwhite_45502cases_96601ctrl_PC1_2_f2247.regenie.hg19.snp_stats_n_afreq.gz', columns=['CHR','POS','REF','ALT','SNP','BETA','SE','P','N','A1FREQ'],compression='gzip', sep = \"\\t\", header = True, index = False)"
   ]
  },
  {
   "cell_type": "code",
   "execution_count": 15,
   "id": "f7b2119e-290a-4324-a776-3fda02e9a38e",
   "metadata": {
    "kernel": "SoS"
   },
   "outputs": [],
   "source": [
    "import pandas as pd\n",
    "df = pd.read_csv('~/output/090321_UKBB_Hearing_noise_f2257_expandedwhite_65660cases_96601ctrl_PC1_2_f2257.regenie.hg19.snp_stats_original_columns.gz', compression='gzip', header=0, delim_whitespace=True, quotechar='\"')"
   ]
  },
  {
   "cell_type": "code",
   "execution_count": 19,
   "id": "604ea199-1d41-4962-83ed-bccd8c945eca",
   "metadata": {
    "kernel": "SoS"
   },
   "outputs": [],
   "source": [
    "df['CHR'] = df['CHR'].astype(str)\n",
    "df['POS'] = df['POS'].astype(str)"
   ]
  },
  {
   "cell_type": "code",
   "execution_count": 20,
   "id": "54719d67-a0be-4099-be1f-e0a0bbf365f8",
   "metadata": {
    "kernel": "SoS"
   },
   "outputs": [],
   "source": [
    "df[\"snpid\"] = df.CHR.str.cat(others=[df.POS, df.A0, df.A1], sep=':')"
   ]
  },
  {
   "cell_type": "code",
   "execution_count": 21,
   "id": "26be7be7-0c39-4d10-a059-b6a74e9c84b3",
   "metadata": {
    "kernel": "SoS"
   },
   "outputs": [
    {
     "data": {
      "text/html": [
       "<div>\n",
       "<style scoped>\n",
       "    .dataframe tbody tr th:only-of-type {\n",
       "        vertical-align: middle;\n",
       "    }\n",
       "\n",
       "    .dataframe tbody tr th {\n",
       "        vertical-align: top;\n",
       "    }\n",
       "\n",
       "    .dataframe thead th {\n",
       "        text-align: right;\n",
       "    }\n",
       "</style>\n",
       "<table border=\"1\" class=\"dataframe\">\n",
       "  <thead>\n",
       "    <tr style=\"text-align: right;\">\n",
       "      <th></th>\n",
       "      <th>CHR</th>\n",
       "      <th>POS</th>\n",
       "      <th>A0</th>\n",
       "      <th>A1</th>\n",
       "      <th>freq</th>\n",
       "      <th>n</th>\n",
       "      <th>BETA</th>\n",
       "      <th>SE</th>\n",
       "      <th>P</th>\n",
       "      <th>snpid</th>\n",
       "    </tr>\n",
       "  </thead>\n",
       "  <tbody>\n",
       "    <tr>\n",
       "      <th>0</th>\n",
       "      <td>1</td>\n",
       "      <td>861242</td>\n",
       "      <td>G</td>\n",
       "      <td>A</td>\n",
       "      <td>0.000017</td>\n",
       "      <td>146900</td>\n",
       "      <td>-2.510420</td>\n",
       "      <td>1.637960</td>\n",
       "      <td>1.662760</td>\n",
       "      <td>1:861242:G:A</td>\n",
       "    </tr>\n",
       "    <tr>\n",
       "      <th>1</th>\n",
       "      <td>1</td>\n",
       "      <td>861254</td>\n",
       "      <td>C</td>\n",
       "      <td>G</td>\n",
       "      <td>0.000016</td>\n",
       "      <td>154972</td>\n",
       "      <td>0.816281</td>\n",
       "      <td>0.916400</td>\n",
       "      <td>0.428216</td>\n",
       "      <td>1:861254:C:G</td>\n",
       "    </tr>\n",
       "    <tr>\n",
       "      <th>2</th>\n",
       "      <td>1</td>\n",
       "      <td>861261</td>\n",
       "      <td>G</td>\n",
       "      <td>A</td>\n",
       "      <td>0.004564</td>\n",
       "      <td>157858</td>\n",
       "      <td>-0.105527</td>\n",
       "      <td>0.054996</td>\n",
       "      <td>1.259590</td>\n",
       "      <td>1:861261:G:A</td>\n",
       "    </tr>\n",
       "    <tr>\n",
       "      <th>3</th>\n",
       "      <td>1</td>\n",
       "      <td>861265</td>\n",
       "      <td>C</td>\n",
       "      <td>T</td>\n",
       "      <td>0.000028</td>\n",
       "      <td>158874</td>\n",
       "      <td>-0.679864</td>\n",
       "      <td>0.696577</td>\n",
       "      <td>0.482724</td>\n",
       "      <td>1:861265:C:T</td>\n",
       "    </tr>\n",
       "    <tr>\n",
       "      <th>4</th>\n",
       "      <td>1</td>\n",
       "      <td>861288</td>\n",
       "      <td>G</td>\n",
       "      <td>GGCTCT</td>\n",
       "      <td>0.000031</td>\n",
       "      <td>161993</td>\n",
       "      <td>0.022990</td>\n",
       "      <td>0.658008</td>\n",
       "      <td>0.012276</td>\n",
       "      <td>1:861288:G:GGCTCT</td>\n",
       "    </tr>\n",
       "    <tr>\n",
       "      <th>...</th>\n",
       "      <td>...</td>\n",
       "      <td>...</td>\n",
       "      <td>...</td>\n",
       "      <td>...</td>\n",
       "      <td>...</td>\n",
       "      <td>...</td>\n",
       "      <td>...</td>\n",
       "      <td>...</td>\n",
       "      <td>...</td>\n",
       "      <td>...</td>\n",
       "    </tr>\n",
       "    <tr>\n",
       "      <th>4062966</th>\n",
       "      <td>22</td>\n",
       "      <td>51220671</td>\n",
       "      <td>C</td>\n",
       "      <td>T</td>\n",
       "      <td>0.001026</td>\n",
       "      <td>161767</td>\n",
       "      <td>-0.203794</td>\n",
       "      <td>0.114274</td>\n",
       "      <td>1.127700</td>\n",
       "      <td>22:51220671:C:T</td>\n",
       "    </tr>\n",
       "    <tr>\n",
       "      <th>4062967</th>\n",
       "      <td>22</td>\n",
       "      <td>51220671</td>\n",
       "      <td>C</td>\n",
       "      <td>A</td>\n",
       "      <td>0.000012</td>\n",
       "      <td>161767</td>\n",
       "      <td>-0.566228</td>\n",
       "      <td>1.030930</td>\n",
       "      <td>0.234449</td>\n",
       "      <td>22:51220671:C:A</td>\n",
       "    </tr>\n",
       "    <tr>\n",
       "      <th>4062968</th>\n",
       "      <td>22</td>\n",
       "      <td>51220699</td>\n",
       "      <td>C</td>\n",
       "      <td>T</td>\n",
       "      <td>0.000136</td>\n",
       "      <td>161788</td>\n",
       "      <td>0.057325</td>\n",
       "      <td>0.317255</td>\n",
       "      <td>0.067216</td>\n",
       "      <td>22:51220699:C:T</td>\n",
       "    </tr>\n",
       "    <tr>\n",
       "      <th>4062969</th>\n",
       "      <td>22</td>\n",
       "      <td>51220734</td>\n",
       "      <td>T</td>\n",
       "      <td>C</td>\n",
       "      <td>0.007782</td>\n",
       "      <td>147389</td>\n",
       "      <td>0.034356</td>\n",
       "      <td>0.043954</td>\n",
       "      <td>0.362078</td>\n",
       "      <td>22:51220734:T:C</td>\n",
       "    </tr>\n",
       "    <tr>\n",
       "      <th>4062970</th>\n",
       "      <td>22</td>\n",
       "      <td>51220757</td>\n",
       "      <td>G</td>\n",
       "      <td>A</td>\n",
       "      <td>0.000096</td>\n",
       "      <td>150660</td>\n",
       "      <td>-0.159239</td>\n",
       "      <td>0.382833</td>\n",
       "      <td>0.169124</td>\n",
       "      <td>22:51220757:G:A</td>\n",
       "    </tr>\n",
       "  </tbody>\n",
       "</table>\n",
       "<p>4062971 rows × 10 columns</p>\n",
       "</div>"
      ],
      "text/plain": [
       "        CHR       POS A0  ...        SE         P              snpid\n",
       "0         1    861242  G  ...  1.637960  1.662760       1:861242:G:A\n",
       "1         1    861254  C  ...  0.916400  0.428216       1:861254:C:G\n",
       "2         1    861261  G  ...  0.054996  1.259590       1:861261:G:A\n",
       "3         1    861265  C  ...  0.696577  0.482724       1:861265:C:T\n",
       "4         1    861288  G  ...  0.658008  0.012276  1:861288:G:GGCTCT\n",
       "...      ..       ... ..  ...       ...       ...                ...\n",
       "4062966  22  51220671  C  ...  0.114274  1.127700    22:51220671:C:T\n",
       "4062967  22  51220671  C  ...  1.030930  0.234449    22:51220671:C:A\n",
       "4062968  22  51220699  C  ...  0.317255  0.067216    22:51220699:C:T\n",
       "4062969  22  51220734  T  ...  0.043954  0.362078    22:51220734:T:C\n",
       "4062970  22  51220757  G  ...  0.382833  0.169124    22:51220757:G:A\n",
       "\n",
       "[4062971 rows x 10 columns]"
      ]
     },
     "execution_count": 21,
     "metadata": {},
     "output_type": "execute_result"
    }
   ],
   "source": [
    "df"
   ]
  },
  {
   "cell_type": "code",
   "execution_count": 3,
   "id": "e4ac6700-48ba-41f3-84d1-7171e50616da",
   "metadata": {
    "kernel": "SoS"
   },
   "outputs": [],
   "source": [
    "import pandas as pd\n",
    "df = pd.read_csv('~/UKBB.ALL.ldscore.hg19/UKBB.EUR.l2.ldscore.gz', compression='gzip', header=0, delim_whitespace=True, quotechar='\"')"
   ]
  },
  {
   "cell_type": "code",
   "execution_count": 4,
   "id": "a513648b-ade6-4e73-beb6-1f9c84f04f64",
   "metadata": {
    "kernel": "SoS"
   },
   "outputs": [],
   "source": [
    "groupdf = df.groupby('CHR')"
   ]
  },
  {
   "cell_type": "code",
   "execution_count": 5,
   "id": "491ff692-2624-4eea-8869-dbaaada7a514",
   "metadata": {
    "kernel": "SoS"
   },
   "outputs": [
    {
     "data": {
      "text/html": [
       "<div>\n",
       "<style scoped>\n",
       "    .dataframe tbody tr th:only-of-type {\n",
       "        vertical-align: middle;\n",
       "    }\n",
       "\n",
       "    .dataframe tbody tr th {\n",
       "        vertical-align: top;\n",
       "    }\n",
       "\n",
       "    .dataframe thead th {\n",
       "        text-align: right;\n",
       "    }\n",
       "</style>\n",
       "<table border=\"1\" class=\"dataframe\">\n",
       "  <thead>\n",
       "    <tr style=\"text-align: right;\">\n",
       "      <th></th>\n",
       "      <th>CHR</th>\n",
       "      <th>SNP</th>\n",
       "      <th>BP</th>\n",
       "      <th>L2</th>\n",
       "    </tr>\n",
       "  </thead>\n",
       "  <tbody>\n",
       "    <tr>\n",
       "      <th>0</th>\n",
       "      <td>1</td>\n",
       "      <td>1:752721:A:G</td>\n",
       "      <td>752721</td>\n",
       "      <td>82.309</td>\n",
       "    </tr>\n",
       "    <tr>\n",
       "      <th>1</th>\n",
       "      <td>1</td>\n",
       "      <td>1:754182:A:G</td>\n",
       "      <td>754182</td>\n",
       "      <td>90.886</td>\n",
       "    </tr>\n",
       "    <tr>\n",
       "      <th>2</th>\n",
       "      <td>1</td>\n",
       "      <td>1:760912:C:T</td>\n",
       "      <td>760912</td>\n",
       "      <td>82.443</td>\n",
       "    </tr>\n",
       "    <tr>\n",
       "      <th>3</th>\n",
       "      <td>1</td>\n",
       "      <td>1:768448:G:A</td>\n",
       "      <td>768448</td>\n",
       "      <td>39.035</td>\n",
       "    </tr>\n",
       "    <tr>\n",
       "      <th>4</th>\n",
       "      <td>1</td>\n",
       "      <td>1:779322:A:G</td>\n",
       "      <td>779322</td>\n",
       "      <td>89.559</td>\n",
       "    </tr>\n",
       "    <tr>\n",
       "      <th>...</th>\n",
       "      <td>...</td>\n",
       "      <td>...</td>\n",
       "      <td>...</td>\n",
       "      <td>...</td>\n",
       "    </tr>\n",
       "    <tr>\n",
       "      <th>1078862</th>\n",
       "      <td>22</td>\n",
       "      <td>22:16886873:G:A</td>\n",
       "      <td>16886873</td>\n",
       "      <td>71.900</td>\n",
       "    </tr>\n",
       "    <tr>\n",
       "      <th>1078863</th>\n",
       "      <td>22</td>\n",
       "      <td>22:17054720:T:C</td>\n",
       "      <td>17054720</td>\n",
       "      <td>47.680</td>\n",
       "    </tr>\n",
       "    <tr>\n",
       "      <th>1078864</th>\n",
       "      <td>22</td>\n",
       "      <td>22:17055569:T:G</td>\n",
       "      <td>17055569</td>\n",
       "      <td>58.115</td>\n",
       "    </tr>\n",
       "    <tr>\n",
       "      <th>1078865</th>\n",
       "      <td>22</td>\n",
       "      <td>22:17057138:G:T</td>\n",
       "      <td>17057138</td>\n",
       "      <td>49.066</td>\n",
       "    </tr>\n",
       "    <tr>\n",
       "      <th>1078866</th>\n",
       "      <td>22</td>\n",
       "      <td>22:17058616:C:T</td>\n",
       "      <td>17058616</td>\n",
       "      <td>38.924</td>\n",
       "    </tr>\n",
       "  </tbody>\n",
       "</table>\n",
       "<p>110 rows × 4 columns</p>\n",
       "</div>"
      ],
      "text/plain": [
       "         CHR              SNP        BP      L2\n",
       "0          1     1:752721:A:G    752721  82.309\n",
       "1          1     1:754182:A:G    754182  90.886\n",
       "2          1     1:760912:C:T    760912  82.443\n",
       "3          1     1:768448:G:A    768448  39.035\n",
       "4          1     1:779322:A:G    779322  89.559\n",
       "...      ...              ...       ...     ...\n",
       "1078862   22  22:16886873:G:A  16886873  71.900\n",
       "1078863   22  22:17054720:T:C  17054720  47.680\n",
       "1078864   22  22:17055569:T:G  17055569  58.115\n",
       "1078865   22  22:17057138:G:T  17057138  49.066\n",
       "1078866   22  22:17058616:C:T  17058616  38.924\n",
       "\n",
       "[110 rows x 4 columns]"
      ]
     },
     "execution_count": 5,
     "metadata": {},
     "output_type": "execute_result"
    }
   ],
   "source": [
    "groupdf.head()"
   ]
  },
  {
   "cell_type": "code",
   "execution_count": 6,
   "id": "50841fde-8c41-4b4c-bd38-84462f0610a0",
   "metadata": {
    "kernel": "SoS"
   },
   "outputs": [],
   "source": [
    "chr_dfs = {k:v for k,v in df.groupby('CHR')}"
   ]
  },
  {
   "cell_type": "code",
   "execution_count": 7,
   "id": "8c3af4d0-52c3-4e34-a052-370841f89061",
   "metadata": {
    "kernel": "SoS",
    "scrolled": true,
    "tags": []
   },
   "outputs": [
    {
     "data": {
      "text/plain": [
       "{1:        CHR              SNP         BP      L2\n",
       " 0        1     1:752721:A:G     752721  82.309\n",
       " 1        1     1:754182:A:G     754182  90.886\n",
       " 2        1     1:760912:C:T     760912  82.443\n",
       " 3        1     1:768448:G:A     768448  39.035\n",
       " 4        1     1:779322:A:G     779322  89.559\n",
       " ...    ...              ...        ...     ...\n",
       " 90708    1  1:249191732:T:C  249191732  86.321\n",
       " 90709    1  1:249202567:C:T  249202567  73.944\n",
       " 90710    1  1:249209140:A:G  249209140  11.808\n",
       " 90711    1  1:249210707:G:A  249210707  74.577\n",
       " 90712    1  1:249211350:T:C  249211350  63.148\n",
       " \n",
       " [90713 rows x 4 columns],\n",
       " 2:         CHR              SNP         BP       L2\n",
       " 90713     2      2:15703:A:G      15703   81.058\n",
       " 90714     2      2:18856:G:A      18856   59.291\n",
       " 90715     2      2:27572:C:T      27572   93.343\n",
       " 90716     2      2:28228:G:A      28228   84.192\n",
       " 90717     2      2:29443:T:C      29443   82.950\n",
       " ...     ...              ...        ...      ...\n",
       " 182636    2  2:242996589:T:C  242996589  152.230\n",
       " 182637    2  2:243005277:G:A  243005277  170.040\n",
       " 182638    2  2:243007368:T:G  243007368  169.990\n",
       " 182639    2  2:243020723:G:A  243020723  140.480\n",
       " 182640    2  2:243044147:G:A  243044147  165.270\n",
       " \n",
       " [91928 rows x 4 columns],\n",
       " 3:         CHR              SNP         BP       L2\n",
       " 182641    3      3:61044:T:C      61044  103.880\n",
       " 182642    3      3:61495:A:G      61495  120.100\n",
       " 182643    3      3:63411:A:C      63411  126.260\n",
       " 182644    3      3:66083:T:C      66083  127.350\n",
       " 182645    3      3:66866:C:T      66866  105.850\n",
       " ...     ...              ...        ...      ...\n",
       " 259011    3  3:197821753:T:C  197821753  226.630\n",
       " 259012    3  3:197823871:A:C  197823871  108.490\n",
       " 259013    3  3:197833082:T:C  197833082  106.930\n",
       " 259014    3  3:197834191:C:A  197834191   90.882\n",
       " 259015    3  3:197838262:C:A  197838262   60.325\n",
       " \n",
       " [76375 rows x 4 columns],\n",
       " 4:         CHR              SNP         BP       L2\n",
       " 259016    4      4:69713:G:A      69713   64.016\n",
       " 259017    4      4:71566:T:C      71566   62.430\n",
       " 259018    4      4:73508:C:T      73508   48.421\n",
       " 259019    4      4:74238:G:A      74238   62.613\n",
       " 259020    4      4:74508:G:A      74508   64.174\n",
       " ...     ...              ...        ...      ...\n",
       " 327219    4  4:190793847:G:A  190793847  233.330\n",
       " 327220    4  4:190838050:C:T  190838050   29.395\n",
       " 327221    4  4:190862182:C:T  190862182  280.750\n",
       " 327222    4  4:190869273:G:T  190869273  280.040\n",
       " 327223    4  4:190895386:A:C  190895386  263.840\n",
       " \n",
       " [68208 rows x 4 columns],\n",
       " 5:         CHR              SNP         BP       L2\n",
       " 327224    5      5:36344:C:T      36344  134.800\n",
       " 327225    5      5:38139:C:T      38139  137.350\n",
       " 327226    5      5:40975:T:C      40975  137.430\n",
       " 327227    5      5:48534:T:C      48534  135.130\n",
       " 327228    5      5:58298:G:A      58298  135.020\n",
       " ...     ...              ...        ...      ...\n",
       " 397673    5  5:180686958:C:T  180686958   92.849\n",
       " 397674    5  5:180687212:C:T  180687212   92.485\n",
       " 397675    5  5:180690937:G:A  180690937  106.600\n",
       " 397676    5  5:180693127:T:C  180693127   95.671\n",
       " 397677    5  5:180709915:G:A  180709915   85.230\n",
       " \n",
       " [70454 rows x 4 columns],\n",
       " 6:         CHR              SNP         BP        L2\n",
       " 397678    6     6:202452:C:T     202452   21.2840\n",
       " 397679    6     6:203397:C:T     203397    7.4581\n",
       " 397680    6     6:203878:C:T     203878   20.8380\n",
       " 397681    6     6:203909:A:G     203909   20.8310\n",
       " 397682    6     6:204072:G:T     204072   20.8130\n",
       " ...     ...              ...        ...       ...\n",
       " 466269    6  6:170894018:G:T  170894018  199.3900\n",
       " 466270    6  6:170896644:T:C  170896644  229.4700\n",
       " 466271    6  6:170902109:G:A  170902109  132.5100\n",
       " 466272    6  6:170907734:G:A  170907734  231.0200\n",
       " 466273    6  6:170909002:A:G  170909002  132.2200\n",
       " \n",
       " [68596 rows x 4 columns],\n",
       " 7:         CHR              SNP         BP       L2\n",
       " 466274    7      7:44935:C:T      44935   74.727\n",
       " 466275    7      7:45653:C:T      45653   74.724\n",
       " 466276    7      7:46239:G:A      46239   74.749\n",
       " 466277    7      7:53998:C:T      53998   58.490\n",
       " 466278    7      7:54183:C:T      54183   34.384\n",
       " ...     ...              ...        ...      ...\n",
       " 526754    7  7:159105577:C:T  159105577  280.890\n",
       " 526755    7  7:159110468:G:T  159110468  281.660\n",
       " 526756    7  7:159116575:G:A  159116575  281.440\n",
       " 526757    7  7:159119220:A:G  159119220  110.960\n",
       " 526758    7  7:159119486:C:T  159119486  181.580\n",
       " \n",
       " [60485 rows x 4 columns],\n",
       " 8:         CHR              SNP         BP       L2\n",
       " 526759    8     8:176818:G:A     176818  115.420\n",
       " 526760    8     8:179693:G:T     179693   53.989\n",
       " 526761    8     8:182340:A:G     182340   51.573\n",
       " 526762    8     8:184319:T:C     184319  117.430\n",
       " 526763    8     8:184976:T:C     184976  115.230\n",
       " ...     ...              ...        ...      ...\n",
       " 586339    8  8:146276844:C:T  146276844  234.750\n",
       " 586340    8  8:146285083:C:T  146285083  210.490\n",
       " 586341    8  8:146288066:T:C  146288066  234.350\n",
       " 586342    8  8:146292734:A:G  146292734  216.360\n",
       " 586343    8  8:146293414:C:T  146293414  232.220\n",
       " \n",
       " [59585 rows x 4 columns],\n",
       " 9:         CHR              SNP         BP       L2\n",
       " 586344    9     9:185632:C:A     185632  196.850\n",
       " 586345    9     9:188894:G:A     188894  127.990\n",
       " 586346    9     9:191843:G:A     191843  184.900\n",
       " 586347    9     9:203310:A:C     203310  147.900\n",
       " 586348    9     9:204201:G:A     204201  147.840\n",
       " ...     ...              ...        ...      ...\n",
       " 636960    9  9:141017343:C:T  141017343  123.910\n",
       " 636961    9  9:141017352:C:T  141017352   61.778\n",
       " 636962    9  9:141017562:A:G  141017562   88.798\n",
       " 636963    9  9:141018423:C:T  141018423   88.916\n",
       " 636964    9  9:141022295:A:G  141022295   36.163\n",
       " \n",
       " [50621 rows x 4 columns],\n",
       " 10:         CHR               SNP         BP       L2\n",
       " 636965   10      10:98481:A:C      98481   91.333\n",
       " 636966   10     10:104427:T:C     104427  189.450\n",
       " 636967   10     10:111955:A:G     111955   91.235\n",
       " 636968   10     10:126070:C:T     126070   81.216\n",
       " 636969   10     10:131636:T:C     131636  118.530\n",
       " ...     ...               ...        ...      ...\n",
       " 695681   10  10:135433091:A:G  135433091  163.920\n",
       " 695682   10  10:135433160:T:G  135433160  247.620\n",
       " 695683   10  10:135433765:C:T  135433765  164.120\n",
       " 695684   10  10:135434303:G:A  135434303   43.458\n",
       " 695685   10  10:135434988:G:A  135434988  169.020\n",
       " \n",
       " [58721 rows x 4 columns],\n",
       " 11:         CHR               SNP         BP       L2\n",
       " 695686   11     11:198510:C:T     198510   26.250\n",
       " 695687   11     11:199256:G:A     199256   55.742\n",
       " 695688   11     11:202856:G:A     202856  100.550\n",
       " 695689   11     11:203788:C:T     203788   40.919\n",
       " 695690   11     11:204062:T:C     204062   67.455\n",
       " ...     ...               ...        ...      ...\n",
       " 751943   11  11:134930689:G:A  134930689  175.400\n",
       " 751944   11  11:134934063:A:G  134934063  174.490\n",
       " 751945   11  11:134938470:G:A  134938470  174.480\n",
       " 751946   11  11:134938847:C:T  134938847  195.830\n",
       " 751947   11  11:134940416:C:T  134940416  174.500\n",
       " \n",
       " [56262 rows x 4 columns],\n",
       " 12:         CHR               SNP         BP       L2\n",
       " 751948   12     12:191619:G:A     191619   50.040\n",
       " 751949   12     12:192220:G:A     192220   49.987\n",
       " 751950   12     12:192990:T:C     192990   52.009\n",
       " 751951   12     12:193818:C:T     193818   49.933\n",
       " 751952   12     12:195309:A:G     195309   52.951\n",
       " ...     ...               ...        ...      ...\n",
       " 806517   12  12:133763352:T:C  133763352  291.190\n",
       " 806518   12  12:133770975:G:A  133770975  273.430\n",
       " 806519   12  12:133777645:G:T  133777645  290.460\n",
       " 806520   12  12:133778166:G:A  133778166  290.100\n",
       " 806521   12  12:133778684:G:A  133778684  290.110\n",
       " \n",
       " [54574 rows x 4 columns],\n",
       " 13:         CHR               SNP         BP       L2\n",
       " 806522   13   13:19175279:G:A   19175279  178.350\n",
       " 806523   13   13:19212262:T:C   19212262  146.650\n",
       " 806524   13   13:19213878:T:C   19213878  147.980\n",
       " 806525   13   13:19226222:C:T   19226222   74.101\n",
       " 806526   13   13:19234747:T:C   19234747  148.340\n",
       " ...     ...               ...        ...      ...\n",
       " 848237   13  13:115087913:A:G  115087913  124.250\n",
       " 848238   13  13:115090019:G:A  115090019  124.180\n",
       " 848239   13  13:115090193:G:A  115090193  123.150\n",
       " 848240   13  13:115091399:T:C  115091399  123.130\n",
       " 848241   13  13:115103150:G:A  115103150   32.702\n",
       " \n",
       " [41720 rows x 4 columns],\n",
       " 14:         CHR               SNP         BP       L2\n",
       " 848242   14   14:20397367:A:G   20397367   32.260\n",
       " 848243   14   14:20425051:T:C   20425051  136.880\n",
       " 848244   14   14:20426704:G:A   20426704  137.090\n",
       " 848245   14   14:20426742:G:A   20426742  122.990\n",
       " 848246   14   14:20432664:A:G   20432664  137.090\n",
       " ...     ...               ...        ...      ...\n",
       " 884605   14  14:107276627:A:G  107276627  113.570\n",
       " 884606   14  14:107281980:A:G  107281980  108.660\n",
       " 884607   14  14:107282437:C:T  107282437   57.192\n",
       " 884608   14  14:107283905:G:T  107283905   85.476\n",
       " 884609   14  14:107285437:G:A  107285437   98.650\n",
       " \n",
       " [36368 rows x 4 columns],\n",
       " 15:         CHR               SNP         BP       L2\n",
       " 884610   15   15:20034919:T:C   20034919   49.836\n",
       " 884611   15   15:20151610:C:T   20151610   86.296\n",
       " 884612   15   15:20176300:C:T   20176300   65.730\n",
       " 884613   15   15:20177092:G:A   20177092   48.014\n",
       " 884614   15   15:20184600:G:A   20184600   49.445\n",
       " ...     ...               ...        ...      ...\n",
       " 917659   15  15:102385234:C:T  102385234  119.640\n",
       " 917660   15  15:102388692:G:A  102388692  149.840\n",
       " 917661   15  15:102395843:A:G  102395843  116.980\n",
       " 917662   15  15:102398060:A:G  102398060   93.369\n",
       " 917663   15  15:102400037:A:G  102400037  116.880\n",
       " \n",
       " [33054 rows x 4 columns],\n",
       " 16:         CHR              SNP        BP       L2\n",
       " 917664   16     16:86671:T:C     86671   42.341\n",
       " 917665   16     16:97354:A:G     97354   59.196\n",
       " 917666   16    16:101263:G:A    101263   69.020\n",
       " 917667   16    16:103423:C:A    103423   69.369\n",
       " 917668   16    16:105320:A:G    105320   76.281\n",
       " ...     ...              ...       ...      ...\n",
       " 951469   16  16:90138740:C:T  90138740  117.350\n",
       " 951470   16  16:90141355:A:C  90141355  153.790\n",
       " 951471   16  16:90141477:T:G  90141477  122.940\n",
       " 951472   16  16:90148979:G:A  90148979  121.710\n",
       " 951473   16  16:90149922:A:G  90149922  203.220\n",
       " \n",
       " [33810 rows x 4 columns],\n",
       " 17:         CHR              SNP        BP       L2\n",
       " 951474   17      17:3587:G:A      3587   59.245\n",
       " 951475   17      17:6689:G:A      6689   53.227\n",
       " 951476   17      17:6888:G:A      6888   61.229\n",
       " 951477   17      17:7242:G:T      7242   61.245\n",
       " 951478   17      17:8547:T:C      8547   36.920\n",
       " ...     ...              ...       ...      ...\n",
       " 981320   17  17:81041077:C:T  81041077   43.467\n",
       " 981321   17  17:81041338:A:G  81041338   62.377\n",
       " 981322   17  17:81043039:A:G  81043039   55.998\n",
       " 981323   17  17:81046413:C:T  81046413   54.746\n",
       " 981324   17  17:81047708:A:G  81047708  103.880\n",
       " \n",
       " [29851 rows x 4 columns],\n",
       " 18:          CHR              SNP        BP       L2\n",
       " 981325    18     18:69836:A:G     69836  158.420\n",
       " 981326    18    18:112535:G:A    112535  234.680\n",
       " 981327    18    18:113671:G:A    113671  153.980\n",
       " 981328    18    18:132301:T:C    132301   78.260\n",
       " 981329    18    18:136305:T:C    136305   75.289\n",
       " ...      ...              ...       ...      ...\n",
       " 1013950   18  18:77997052:A:G  77997052  102.890\n",
       " 1013951   18  18:77998375:A:G  77998375  245.130\n",
       " 1013952   18  18:78002239:T:C  78002239  123.080\n",
       " 1013953   18  18:78007784:T:C  78007784  210.520\n",
       " 1013954   18  18:78015180:C:T  78015180  200.970\n",
       " \n",
       " [32630 rows x 4 columns],\n",
       " 19:          CHR              SNP        BP       L2\n",
       " 1013955   19    19:260912:G:A    260912   89.234\n",
       " 1013956   19    19:261033:A:G    261033   89.230\n",
       " 1013957   19    19:266034:T:C    266034   20.308\n",
       " 1013958   19    19:267039:C:T    267039   85.202\n",
       " 1013959   19    19:276245:T:C    276245   82.842\n",
       " ...      ...              ...       ...      ...\n",
       " 1034505   19  19:59089792:C:T  59089792   74.753\n",
       " 1034506   19  19:59090227:C:T  59090227  118.110\n",
       " 1034507   19  19:59093239:T:C  59093239  116.510\n",
       " 1034508   19  19:59093464:C:T  59093464  116.970\n",
       " 1034509   19  19:59094136:A:G  59094136   77.201\n",
       " \n",
       " [20555 rows x 4 columns],\n",
       " 20:          CHR              SNP        BP      L2\n",
       " 1034510   20     20:61795:G:T     61795  30.370\n",
       " 1034511   20     20:63244:A:C     63244  15.950\n",
       " 1034512   20     20:63799:C:T     63799  30.369\n",
       " 1034513   20     20:69094:G:A     69094  16.973\n",
       " 1034514   20     20:74347:G:A     74347  19.176\n",
       " ...      ...              ...       ...     ...\n",
       " 1063225   20  20:62906433:T:C  62906433  61.163\n",
       " 1063226   20  20:62906514:G:A  62906514  61.174\n",
       " 1063227   20  20:62911229:A:G  62911229  68.714\n",
       " 1063228   20  20:62911343:C:A  62911343  69.203\n",
       " 1063229   20  20:62912463:G:A  62912463  65.487\n",
       " \n",
       " [28720 rows x 4 columns],\n",
       " 21:          CHR              SNP        BP      L2\n",
       " 1063230   21  21:14620054:G:T  14620054  240.54\n",
       " 1063231   21  21:14640400:G:A  14640400  242.67\n",
       " 1063232   21  21:14642464:A:G  14642464  244.12\n",
       " 1063233   21  21:14649798:C:A  14649798  235.10\n",
       " 1063234   21  21:14665973:C:T  14665973  251.17\n",
       " ...      ...              ...       ...     ...\n",
       " 1078857   21  21:48075536:A:G  48075536  166.46\n",
       " 1078858   21  21:48077812:C:T  48077812  145.49\n",
       " 1078859   21  21:48084628:A:G  48084628  107.90\n",
       " 1078860   21  21:48084747:T:C  48084747  108.03\n",
       " 1078861   21  21:48090629:C:T  48090629  135.54\n",
       " \n",
       " [15632 rows x 4 columns],\n",
       " 22:          CHR              SNP        BP      L2\n",
       " 1078862   22  22:16886873:G:A  16886873  71.900\n",
       " 1078863   22  22:17054720:T:C  17054720  47.680\n",
       " 1078864   22  22:17055569:T:G  17055569  58.115\n",
       " 1078865   22  22:17057138:G:T  17057138  49.066\n",
       " 1078866   22  22:17058616:C:T  17058616  38.924\n",
       " ...      ...              ...       ...     ...\n",
       " 1094839   22  22:51175626:A:G  51175626  42.448\n",
       " 1094840   22  22:51178090:G:A  51178090  44.243\n",
       " 1094841   22  22:51181759:A:G  51181759  26.472\n",
       " 1094842   22  22:51186228:C:T  51186228  49.641\n",
       " 1094843   22  22:51219006:G:A  51219006  53.954\n",
       " \n",
       " [15982 rows x 4 columns]}"
      ]
     },
     "execution_count": 7,
     "metadata": {},
     "output_type": "execute_result"
    }
   ],
   "source": [
    "chr_dfs"
   ]
  },
  {
   "cell_type": "code",
   "execution_count": 67,
   "id": "7e833826-a60a-48f5-8740-c87e42776d94",
   "metadata": {
    "kernel": "SoS"
   },
   "outputs": [],
   "source": [
    "for k, v in df.groupby('CHR'):\n",
    "    v.to_csv(f'~/output/{k}.l2.ldscore.gz',compression='gzip', sep = \"\\t\", header = True, index = False)"
   ]
  },
  {
   "cell_type": "code",
   "execution_count": 8,
   "id": "7b1130d2-707e-43a0-8c68-4f27d3754cd8",
   "metadata": {
    "kernel": "SoS"
   },
   "outputs": [
    {
     "name": "stdout",
     "output_type": "stream",
     "text": [
      "90713\n",
      "91928\n",
      "76375\n",
      "68208\n",
      "70454\n",
      "68596\n",
      "60485\n",
      "59585\n",
      "50621\n",
      "58721\n",
      "56262\n",
      "54574\n",
      "41720\n",
      "36368\n",
      "33054\n",
      "33810\n",
      "29851\n",
      "32630\n",
      "20555\n",
      "28720\n",
      "15632\n",
      "15982\n"
     ]
    }
   ],
   "source": [
    "for k, v in df.groupby('CHR'):\n",
    "    row = v.shape[0]\n",
    "    print(row)"
   ]
  },
  {
   "cell_type": "code",
   "execution_count": 68,
   "id": "48ee1f42-a45e-4557-aa77-d13382b0f5d6",
   "metadata": {
    "kernel": "SoS"
   },
   "outputs": [],
   "source": [
    "for k, v in df.groupby('CHR'):\n",
    "    file = open(\"\" + str(k)+ \".l2.M\", \"w\")\n",
    "    n = file.write(str(v.shape[0]))\n",
    "    file.close()"
   ]
  },
  {
   "cell_type": "code",
   "execution_count": 9,
   "id": "a04e3718-1867-4951-ba69-3289fb4e9ed5",
   "metadata": {
    "kernel": "SoS"
   },
   "outputs": [],
   "source": [
    "# these are going to be biased because they are the full number of variants and not those with MAF>5%\n",
    "for k, v in df.groupby('CHR'):\n",
    "    file = open(\"\" + str(k)+ \".l2.M_5_50\", \"w\")\n",
    "    n = file.write(str(v.shape[0]))\n",
    "    file.close()"
   ]
  },
  {
   "cell_type": "code",
   "execution_count": 26,
   "id": "4426b151-f3d4-4f66-abf3-1f52cbb3a6dd",
   "metadata": {
    "kernel": "Python3",
    "tags": []
   },
   "outputs": [],
   "source": [
    "import pandas as pd\n",
    "combined = pd.read_csv('/home/dmc2245/output/090321_UKBB_Combined_f2247_f2257_expandedwhite_38410cases_96601ctrl_PC1_2_f2247_f2257.regenie.mtag.snp_stats', header=0, delim_whitespace=True, quotechar='\"')"
   ]
  },
  {
   "cell_type": "code",
   "execution_count": 18,
   "id": "ad7ba2b4-795d-45db-aff4-8f876919216f",
   "metadata": {
    "kernel": "Python3"
   },
   "outputs": [],
   "source": [
    "f3393 = pd.read_csv('/home/dmc2245/output/090321_UKBB_Hearing_aid_f3393_expandedwhite_6436cases_96601ctrl_PC1_2_f3393.regenie.mtag.snp_stats', header=0, delim_whitespace=True, quotechar='\"')"
   ]
  },
  {
   "cell_type": "code",
   "execution_count": 20,
   "id": "c5ba1e82-ffe5-4e60-bc88-fb060e736900",
   "metadata": {
    "kernel": "Python3"
   },
   "outputs": [],
   "source": [
    "f2247 = pd.read_csv('/home/dmc2245/output/090321_UKBB_Hearing_difficulty_f2247_expandedwhite_45502cases_96601ctrl_PC1_2_f2247.regenie.mtag.snp_stats', header=0, delim_whitespace=True, quotechar='\"')"
   ]
  },
  {
   "cell_type": "code",
   "execution_count": 23,
   "id": "8d2ecf13-ce9a-4d98-8741-821692fbc20d",
   "metadata": {
    "kernel": "Python3"
   },
   "outputs": [],
   "source": [
    "f2257 = pd.read_csv('/home/dmc2245/output/090321_UKBB_Hearing_noise_f2257_expandedwhite_65660cases_96601ctrl_PC1_2_f2257.regenie.mtag.snp_stats', header=0, delim_whitespace=True, quotechar='\"')"
   ]
  },
  {
   "cell_type": "code",
   "execution_count": 11,
   "id": "a0d224e6-a1fd-44b4-85b3-c9adbbeb25f5",
   "metadata": {
    "kernel": "Python3",
    "tags": []
   },
   "outputs": [
    {
     "data": {
      "text/html": [
       "<div>\n",
       "<style scoped>\n",
       "    .dataframe tbody tr th:only-of-type {\n",
       "        vertical-align: middle;\n",
       "    }\n",
       "\n",
       "    .dataframe tbody tr th {\n",
       "        vertical-align: top;\n",
       "    }\n",
       "\n",
       "    .dataframe thead th {\n",
       "        text-align: right;\n",
       "    }\n",
       "</style>\n",
       "<table border=\"1\" class=\"dataframe\">\n",
       "  <thead>\n",
       "    <tr style=\"text-align: right;\">\n",
       "      <th></th>\n",
       "      <th>snpid</th>\n",
       "      <th>chr</th>\n",
       "      <th>bpos</th>\n",
       "      <th>a1</th>\n",
       "      <th>a2</th>\n",
       "      <th>freq</th>\n",
       "      <th>beta</th>\n",
       "      <th>se</th>\n",
       "      <th>pval</th>\n",
       "      <th>n</th>\n",
       "      <th>z</th>\n",
       "    </tr>\n",
       "  </thead>\n",
       "  <tbody>\n",
       "    <tr>\n",
       "      <th>0</th>\n",
       "      <td>chr1:925862:G:A</td>\n",
       "      <td>1</td>\n",
       "      <td>925862</td>\n",
       "      <td>A</td>\n",
       "      <td>G</td>\n",
       "      <td>0.000020</td>\n",
       "      <td>-1.835250</td>\n",
       "      <td>0.942524</td>\n",
       "      <td>0.051516</td>\n",
       "      <td>122197.0</td>\n",
       "      <td>-1.947165</td>\n",
       "    </tr>\n",
       "    <tr>\n",
       "      <th>1</th>\n",
       "      <td>chr1:925881:G:A</td>\n",
       "      <td>1</td>\n",
       "      <td>925881</td>\n",
       "      <td>A</td>\n",
       "      <td>G</td>\n",
       "      <td>0.004602</td>\n",
       "      <td>-0.115103</td>\n",
       "      <td>0.066009</td>\n",
       "      <td>0.081206</td>\n",
       "      <td>131346.0</td>\n",
       "      <td>-1.743736</td>\n",
       "    </tr>\n",
       "    <tr>\n",
       "      <th>2</th>\n",
       "      <td>chr1:925885:C:T</td>\n",
       "      <td>1</td>\n",
       "      <td>925885</td>\n",
       "      <td>T</td>\n",
       "      <td>C</td>\n",
       "      <td>0.000030</td>\n",
       "      <td>-0.617699</td>\n",
       "      <td>0.866059</td>\n",
       "      <td>0.475703</td>\n",
       "      <td>132193.0</td>\n",
       "      <td>-0.713230</td>\n",
       "    </tr>\n",
       "    <tr>\n",
       "      <th>3</th>\n",
       "      <td>chr1:925908:G:GGCTCT</td>\n",
       "      <td>1</td>\n",
       "      <td>925908</td>\n",
       "      <td>GGCTCT</td>\n",
       "      <td>G</td>\n",
       "      <td>0.000037</td>\n",
       "      <td>0.770775</td>\n",
       "      <td>0.740245</td>\n",
       "      <td>0.297763</td>\n",
       "      <td>134780.0</td>\n",
       "      <td>1.041243</td>\n",
       "    </tr>\n",
       "    <tr>\n",
       "      <th>4</th>\n",
       "      <td>chr1:925912:C:G</td>\n",
       "      <td>1</td>\n",
       "      <td>925912</td>\n",
       "      <td>G</td>\n",
       "      <td>C</td>\n",
       "      <td>0.000015</td>\n",
       "      <td>-0.099465</td>\n",
       "      <td>1.158640</td>\n",
       "      <td>0.931589</td>\n",
       "      <td>134921.0</td>\n",
       "      <td>-0.085846</td>\n",
       "    </tr>\n",
       "  </tbody>\n",
       "</table>\n",
       "</div>"
      ],
      "text/plain": [
       "                  snpid  chr    bpos      a1 a2      freq      beta        se  \\\n",
       "0       chr1:925862:G:A    1  925862       A  G  0.000020 -1.835250  0.942524   \n",
       "1       chr1:925881:G:A    1  925881       A  G  0.004602 -0.115103  0.066009   \n",
       "2       chr1:925885:C:T    1  925885       T  C  0.000030 -0.617699  0.866059   \n",
       "3  chr1:925908:G:GGCTCT    1  925908  GGCTCT  G  0.000037  0.770775  0.740245   \n",
       "4       chr1:925912:C:G    1  925912       G  C  0.000015 -0.099465  1.158640   \n",
       "\n",
       "       pval         n         z  \n",
       "0  0.051516  122197.0 -1.947165  \n",
       "1  0.081206  131346.0 -1.743736  \n",
       "2  0.475703  132193.0 -0.713230  \n",
       "3  0.297763  134780.0  1.041243  \n",
       "4  0.931589  134921.0 -0.085846  "
      ]
     },
     "execution_count": 11,
     "metadata": {},
     "output_type": "execute_result"
    }
   ],
   "source": [
    "combined.head()"
   ]
  },
  {
   "cell_type": "code",
   "execution_count": 27,
   "id": "e17e304d-5f8c-4f86-97c9-e39fa450c0aa",
   "metadata": {
    "kernel": "Python3",
    "tags": []
   },
   "outputs": [
    {
     "data": {
      "text/plain": [
       "-0.2208010720641732"
      ]
     },
     "execution_count": 27,
     "metadata": {},
     "output_type": "execute_result"
    }
   ],
   "source": [
    "import statistics\n",
    "statistics.median(combined['z'])"
   ]
  },
  {
   "cell_type": "code",
   "execution_count": 21,
   "id": "caecfbcb-d622-424a-9e84-b4381d373a9a",
   "metadata": {
    "kernel": "Python3",
    "tags": []
   },
   "outputs": [
    {
     "data": {
      "text/plain": [
       "-0.378544586124299"
      ]
     },
     "execution_count": 21,
     "metadata": {},
     "output_type": "execute_result"
    }
   ],
   "source": [
    "statistics.median(f3393['z'])"
   ]
  },
  {
   "cell_type": "code",
   "execution_count": 22,
   "id": "9a51fde7-0821-4d64-afde-8c2467cfa5cd",
   "metadata": {
    "kernel": "Python3",
    "tags": []
   },
   "outputs": [
    {
     "data": {
      "text/plain": [
       "-0.0559850399478232"
      ]
     },
     "execution_count": 22,
     "metadata": {},
     "output_type": "execute_result"
    }
   ],
   "source": [
    "statistics.median(f2247['z'])"
   ]
  },
  {
   "cell_type": "code",
   "execution_count": 25,
   "id": "e1eac3df-2a02-410f-be92-3a8a539b48a3",
   "metadata": {
    "kernel": "Python3",
    "tags": []
   },
   "outputs": [
    {
     "data": {
      "text/plain": [
       "-0.0121906054218671"
      ]
     },
     "execution_count": 25,
     "metadata": {},
     "output_type": "execute_result"
    }
   ],
   "source": [
    "statistics.median(f2257['z'])"
   ]
  },
  {
   "cell_type": "code",
   "execution_count": 28,
   "id": "c2392475-0e6f-4774-bb03-06a60e28c334",
   "metadata": {
    "kernel": "Python3"
   },
   "outputs": [],
   "source": [
    "import matplotlib.pyplot as plt\n",
    "import numpy as np"
   ]
  },
  {
   "cell_type": "code",
   "execution_count": 32,
   "id": "0b4c7e99-ad6c-4d69-ac45-18fe89c3baad",
   "metadata": {
    "kernel": "Python3"
   },
   "outputs": [
    {
     "data": {
      "text/plain": [
       "(array([1.000000e+00, 0.000000e+00, 0.000000e+00, 0.000000e+00,\n",
       "        0.000000e+00, 0.000000e+00, 0.000000e+00, 0.000000e+00,\n",
       "        0.000000e+00, 1.000000e+00, 5.200000e+01, 9.130000e+02,\n",
       "        8.489000e+03, 6.382000e+03, 1.208620e+05, 2.179360e+05,\n",
       "        2.169220e+05, 5.368600e+05, 1.040829e+06, 6.397990e+05,\n",
       "        3.594020e+05, 2.209580e+05, 1.284020e+05, 7.529500e+04,\n",
       "        2.943400e+04, 4.656000e+03, 1.966000e+03, 1.866000e+03,\n",
       "        6.290000e+02, 7.200000e+01]),\n",
       " array([-7.19016   , -6.80817667, -6.42619333, -6.04421   , -5.66222667,\n",
       "        -5.28024333, -4.89826   , -4.51627667, -4.13429333, -3.75231   ,\n",
       "        -3.37032667, -2.98834333, -2.60636   , -2.22437667, -1.84239333,\n",
       "        -1.46041   , -1.07842667, -0.69644333, -0.31446   ,  0.06752333,\n",
       "         0.44950667,  0.83149   ,  1.21347333,  1.59545667,  1.97744   ,\n",
       "         2.35942333,  2.74140667,  3.12339   ,  3.50537333,  3.88735667,\n",
       "         4.26934   ]),\n",
       " <BarContainer object of 30 artists>)"
      ]
     },
     "execution_count": 32,
     "metadata": {},
     "output_type": "execute_result"
    },
    {
     "data": {
      "image/png": "[encoded data removed]",
      "text/plain": [
       "<Figure size 432x288 with 1 Axes>"
      ]
     },
     "metadata": {
      "needs_background": "light"
     },
     "output_type": "display_data"
    }
   ],
   "source": [
    "plt.hist(combined['beta'], density=False, bins=30) "
   ]
  },
  {
   "cell_type": "code",
   "execution_count": 37,
   "id": "68095971-a205-4af3-8756-c4b68bb46024",
   "metadata": {
    "kernel": "Python3"
   },
   "outputs": [
    {
     "data": {
      "text/plain": [
       "(array([3.600000e+01, 1.399000e+03, 1.943310e+05, 1.460752e+06,\n",
       "        7.781020e+05, 3.071350e+05, 2.009080e+05, 6.467800e+04,\n",
       "        2.178200e+04, 3.000000e+01]),\n",
       " array([-4.29659 , -3.270142, -2.243694, -1.217246, -0.190798,  0.83565 ,\n",
       "         1.862098,  2.888546,  3.914994,  4.941442,  5.96789 ]),\n",
       " <BarContainer object of 10 artists>)"
      ]
     },
     "execution_count": 37,
     "metadata": {},
     "output_type": "execute_result"
    },
    {
     "data": {
      "image/png": "[encoded data removed]",
      "text/plain": [
       "<Figure size 432x288 with 1 Axes>"
      ]
     },
     "metadata": {
      "needs_background": "light"
     },
     "output_type": "display_data"
    }
   ],
   "source": [
    "plt.hist(f3393['beta'], density=False, bins=10) "
   ]
  },
  {
   "cell_type": "code",
   "execution_count": 34,
   "id": "c36f6354-9130-462d-a224-2386ed6f5fbb",
   "metadata": {
    "kernel": "Python3"
   },
   "outputs": [
    {
     "data": {
      "text/plain": [
       "(array([1.00000e+00, 0.00000e+00, 0.00000e+00, 0.00000e+00, 4.00000e+00,\n",
       "        5.20000e+01, 5.37000e+02, 3.72900e+03, 1.34950e+04, 4.19800e+03,\n",
       "        9.02220e+04, 1.60015e+05, 8.97230e+04, 2.71984e+05, 4.66497e+05,\n",
       "        6.71447e+05, 8.38566e+05, 4.13013e+05, 2.79203e+05, 1.80045e+05,\n",
       "        1.09627e+05, 6.97380e+04, 4.65620e+04, 1.43390e+04, 2.66800e+03,\n",
       "        2.65500e+03, 2.72300e+03, 1.37100e+03, 2.97000e+02, 3.40000e+01]),\n",
       " array([-4.81448 , -4.515766, -4.217052, -3.918338, -3.619624, -3.32091 ,\n",
       "        -3.022196, -2.723482, -2.424768, -2.126054, -1.82734 , -1.528626,\n",
       "        -1.229912, -0.931198, -0.632484, -0.33377 , -0.035056,  0.263658,\n",
       "         0.562372,  0.861086,  1.1598  ,  1.458514,  1.757228,  2.055942,\n",
       "         2.354656,  2.65337 ,  2.952084,  3.250798,  3.549512,  3.848226,\n",
       "         4.14694 ]),\n",
       " <BarContainer object of 30 artists>)"
      ]
     },
     "execution_count": 34,
     "metadata": {},
     "output_type": "execute_result"
    },
    {
     "data": {
      "image/png": "[encoded data removed]",
      "text/plain": [
       "<Figure size 432x288 with 1 Axes>"
      ]
     },
     "metadata": {
      "needs_background": "light"
     },
     "output_type": "display_data"
    }
   ],
   "source": [
    "plt.hist(f2247['beta'], density=False, bins=30) "
   ]
  },
  {
   "cell_type": "code",
   "execution_count": 35,
   "id": "2ccc2fbe-55b7-4c5d-90d5-0722c75ab27f",
   "metadata": {
    "kernel": "Python3"
   },
   "outputs": [
    {
     "data": {
      "text/plain": [
       "(array([1.00000e+00, 1.90000e+01, 1.88000e+02, 1.44700e+03, 6.58000e+03,\n",
       "        1.98580e+04, 6.83300e+03, 5.06780e+04, 7.05850e+04, 4.73230e+04,\n",
       "        1.58044e+05, 2.86663e+05, 3.81508e+05, 5.05978e+05, 9.23762e+05,\n",
       "        5.67875e+05, 3.86797e+05, 2.41365e+05, 1.47302e+05, 1.02915e+05,\n",
       "        7.42650e+04, 4.64150e+04, 1.18120e+04, 4.43200e+03, 8.19300e+03,\n",
       "        7.93800e+03, 3.39500e+03, 7.19000e+02, 7.50000e+01, 6.00000e+00]),\n",
       " array([-3.71332 , -3.458673, -3.204026, -2.949379, -2.694732, -2.440085,\n",
       "        -2.185438, -1.930791, -1.676144, -1.421497, -1.16685 , -0.912203,\n",
       "        -0.657556, -0.402909, -0.148262,  0.106385,  0.361032,  0.615679,\n",
       "         0.870326,  1.124973,  1.37962 ,  1.634267,  1.888914,  2.143561,\n",
       "         2.398208,  2.652855,  2.907502,  3.162149,  3.416796,  3.671443,\n",
       "         3.92609 ]),\n",
       " <BarContainer object of 30 artists>)"
      ]
     },
     "execution_count": 35,
     "metadata": {},
     "output_type": "execute_result"
    },
    {
     "data": {
      "image/png": "[encoded data removed]",
      "text/plain": [
       "<Figure size 432x288 with 1 Axes>"
      ]
     },
     "metadata": {
      "needs_background": "light"
     },
     "output_type": "display_data"
    }
   ],
   "source": [
    "plt.hist(f2257['beta'], density=False, bins=30) "
   ]
  },
  {
   "cell_type": "code",
   "execution_count": 48,
   "id": "d96a91ff-f3d8-41d6-8c07-80ebc5138a3a",
   "metadata": {
    "kernel": "Python3"
   },
   "outputs": [
    {
     "data": {
      "text/html": [
       "<div>\n",
       "<style scoped>\n",
       "    .dataframe tbody tr th:only-of-type {\n",
       "        vertical-align: middle;\n",
       "    }\n",
       "\n",
       "    .dataframe tbody tr th {\n",
       "        vertical-align: top;\n",
       "    }\n",
       "\n",
       "    .dataframe thead th {\n",
       "        text-align: right;\n",
       "    }\n",
       "</style>\n",
       "<table border=\"1\" class=\"dataframe\">\n",
       "  <thead>\n",
       "    <tr style=\"text-align: right;\">\n",
       "      <th></th>\n",
       "      <th>snpid</th>\n",
       "      <th>chr</th>\n",
       "      <th>bpos</th>\n",
       "      <th>a1</th>\n",
       "      <th>a2</th>\n",
       "      <th>freq</th>\n",
       "      <th>beta</th>\n",
       "      <th>se</th>\n",
       "      <th>pval</th>\n",
       "      <th>n</th>\n",
       "      <th>z</th>\n",
       "    </tr>\n",
       "  </thead>\n",
       "  <tbody>\n",
       "    <tr>\n",
       "      <th>5</th>\n",
       "      <td>chr1:925928:G:A</td>\n",
       "      <td>1</td>\n",
       "      <td>925928</td>\n",
       "      <td>A</td>\n",
       "      <td>G</td>\n",
       "      <td>0.000024</td>\n",
       "      <td>4.24760</td>\n",
       "      <td>2.31902</td>\n",
       "      <td>0.067007</td>\n",
       "      <td>103021</td>\n",
       "      <td>1.831636</td>\n",
       "    </tr>\n",
       "    <tr>\n",
       "      <th>25</th>\n",
       "      <td>chr1:930148:C:T</td>\n",
       "      <td>1</td>\n",
       "      <td>930148</td>\n",
       "      <td>T</td>\n",
       "      <td>C</td>\n",
       "      <td>0.000024</td>\n",
       "      <td>4.28693</td>\n",
       "      <td>2.32211</td>\n",
       "      <td>0.064872</td>\n",
       "      <td>103037</td>\n",
       "      <td>1.846136</td>\n",
       "    </tr>\n",
       "    <tr>\n",
       "      <th>62</th>\n",
       "      <td>chr1:931024:C:T</td>\n",
       "      <td>1</td>\n",
       "      <td>931024</td>\n",
       "      <td>T</td>\n",
       "      <td>C</td>\n",
       "      <td>0.000034</td>\n",
       "      <td>4.20049</td>\n",
       "      <td>2.29292</td>\n",
       "      <td>0.066961</td>\n",
       "      <td>103036</td>\n",
       "      <td>1.831939</td>\n",
       "    </tr>\n",
       "    <tr>\n",
       "      <th>218</th>\n",
       "      <td>chr1:942508:C:T</td>\n",
       "      <td>1</td>\n",
       "      <td>942508</td>\n",
       "      <td>T</td>\n",
       "      <td>C</td>\n",
       "      <td>0.000024</td>\n",
       "      <td>4.03451</td>\n",
       "      <td>2.28288</td>\n",
       "      <td>0.077179</td>\n",
       "      <td>102986</td>\n",
       "      <td>1.767290</td>\n",
       "    </tr>\n",
       "    <tr>\n",
       "      <th>359</th>\n",
       "      <td>chr1:943986:G:A</td>\n",
       "      <td>1</td>\n",
       "      <td>943986</td>\n",
       "      <td>A</td>\n",
       "      <td>G</td>\n",
       "      <td>0.000024</td>\n",
       "      <td>4.08939</td>\n",
       "      <td>2.27953</td>\n",
       "      <td>0.072818</td>\n",
       "      <td>103037</td>\n",
       "      <td>1.793962</td>\n",
       "    </tr>\n",
       "    <tr>\n",
       "      <th>...</th>\n",
       "      <td>...</td>\n",
       "      <td>...</td>\n",
       "      <td>...</td>\n",
       "      <td>...</td>\n",
       "      <td>...</td>\n",
       "      <td>...</td>\n",
       "      <td>...</td>\n",
       "      <td>...</td>\n",
       "      <td>...</td>\n",
       "      <td>...</td>\n",
       "      <td>...</td>\n",
       "    </tr>\n",
       "    <tr>\n",
       "      <th>3028446</th>\n",
       "      <td>chr22:50675291:G:A</td>\n",
       "      <td>22</td>\n",
       "      <td>50675291</td>\n",
       "      <td>A</td>\n",
       "      <td>G</td>\n",
       "      <td>0.000034</td>\n",
       "      <td>4.39664</td>\n",
       "      <td>2.33361</td>\n",
       "      <td>0.059558</td>\n",
       "      <td>103037</td>\n",
       "      <td>1.884051</td>\n",
       "    </tr>\n",
       "    <tr>\n",
       "      <th>3028548</th>\n",
       "      <td>chr22:50684631:C:T</td>\n",
       "      <td>22</td>\n",
       "      <td>50684631</td>\n",
       "      <td>T</td>\n",
       "      <td>C</td>\n",
       "      <td>0.000024</td>\n",
       "      <td>4.35745</td>\n",
       "      <td>2.33816</td>\n",
       "      <td>0.062375</td>\n",
       "      <td>103037</td>\n",
       "      <td>1.863624</td>\n",
       "    </tr>\n",
       "    <tr>\n",
       "      <th>3028632</th>\n",
       "      <td>chr22:50704096:G:A</td>\n",
       "      <td>22</td>\n",
       "      <td>50704096</td>\n",
       "      <td>A</td>\n",
       "      <td>G</td>\n",
       "      <td>0.000025</td>\n",
       "      <td>4.03828</td>\n",
       "      <td>2.25597</td>\n",
       "      <td>0.073448</td>\n",
       "      <td>101856</td>\n",
       "      <td>1.790042</td>\n",
       "    </tr>\n",
       "    <tr>\n",
       "      <th>3028756</th>\n",
       "      <td>chr22:50720166:C:T</td>\n",
       "      <td>22</td>\n",
       "      <td>50720166</td>\n",
       "      <td>T</td>\n",
       "      <td>C</td>\n",
       "      <td>0.000019</td>\n",
       "      <td>4.07340</td>\n",
       "      <td>2.26914</td>\n",
       "      <td>0.072632</td>\n",
       "      <td>103036</td>\n",
       "      <td>1.795129</td>\n",
       "    </tr>\n",
       "    <tr>\n",
       "      <th>3028966</th>\n",
       "      <td>chr22:50739465:T:C</td>\n",
       "      <td>22</td>\n",
       "      <td>50739465</td>\n",
       "      <td>C</td>\n",
       "      <td>T</td>\n",
       "      <td>0.000019</td>\n",
       "      <td>4.17747</td>\n",
       "      <td>2.29019</td>\n",
       "      <td>0.068141</td>\n",
       "      <td>103037</td>\n",
       "      <td>1.824071</td>\n",
       "    </tr>\n",
       "  </tbody>\n",
       "</table>\n",
       "<p>18791 rows × 11 columns</p>\n",
       "</div>"
      ],
      "text/plain": [
       "                      snpid  chr      bpos a1 a2      freq     beta       se  \\\n",
       "5           chr1:925928:G:A    1    925928  A  G  0.000024  4.24760  2.31902   \n",
       "25          chr1:930148:C:T    1    930148  T  C  0.000024  4.28693  2.32211   \n",
       "62          chr1:931024:C:T    1    931024  T  C  0.000034  4.20049  2.29292   \n",
       "218         chr1:942508:C:T    1    942508  T  C  0.000024  4.03451  2.28288   \n",
       "359         chr1:943986:G:A    1    943986  A  G  0.000024  4.08939  2.27953   \n",
       "...                     ...  ...       ... .. ..       ...      ...      ...   \n",
       "3028446  chr22:50675291:G:A   22  50675291  A  G  0.000034  4.39664  2.33361   \n",
       "3028548  chr22:50684631:C:T   22  50684631  T  C  0.000024  4.35745  2.33816   \n",
       "3028632  chr22:50704096:G:A   22  50704096  A  G  0.000025  4.03828  2.25597   \n",
       "3028756  chr22:50720166:C:T   22  50720166  T  C  0.000019  4.07340  2.26914   \n",
       "3028966  chr22:50739465:T:C   22  50739465  C  T  0.000019  4.17747  2.29019   \n",
       "\n",
       "             pval       n         z  \n",
       "5        0.067007  103021  1.831636  \n",
       "25       0.064872  103037  1.846136  \n",
       "62       0.066961  103036  1.831939  \n",
       "218      0.077179  102986  1.767290  \n",
       "359      0.072818  103037  1.793962  \n",
       "...           ...     ...       ...  \n",
       "3028446  0.059558  103037  1.884051  \n",
       "3028548  0.062375  103037  1.863624  \n",
       "3028632  0.073448  101856  1.790042  \n",
       "3028756  0.072632  103036  1.795129  \n",
       "3028966  0.068141  103037  1.824071  \n",
       "\n",
       "[18791 rows x 11 columns]"
      ]
     },
     "execution_count": 48,
     "metadata": {},
     "output_type": "execute_result"
    }
   ],
   "source": [
    "f3393[(f3393['beta'] > 4) & (f3393['freq'] < 0.0002)]"
   ]
  },
  {
   "cell_type": "code",
   "execution_count": 57,
   "id": "c20c6699-7f5d-4c7a-aae9-4db34809dff4",
   "metadata": {
    "kernel": "Python3"
   },
   "outputs": [
    {
     "data": {
      "text/html": [
       "<div>\n",
       "<style scoped>\n",
       "    .dataframe tbody tr th:only-of-type {\n",
       "        vertical-align: middle;\n",
       "    }\n",
       "\n",
       "    .dataframe tbody tr th {\n",
       "        vertical-align: top;\n",
       "    }\n",
       "\n",
       "    .dataframe thead th {\n",
       "        text-align: right;\n",
       "    }\n",
       "</style>\n",
       "<table border=\"1\" class=\"dataframe\">\n",
       "  <thead>\n",
       "    <tr style=\"text-align: right;\">\n",
       "      <th></th>\n",
       "      <th>snpid</th>\n",
       "      <th>chr</th>\n",
       "      <th>bpos</th>\n",
       "      <th>a1</th>\n",
       "      <th>a2</th>\n",
       "      <th>freq</th>\n",
       "      <th>beta</th>\n",
       "      <th>se</th>\n",
       "      <th>pval</th>\n",
       "      <th>n</th>\n",
       "      <th>z</th>\n",
       "    </tr>\n",
       "  </thead>\n",
       "  <tbody>\n",
       "    <tr>\n",
       "      <th>111</th>\n",
       "      <td>chr1:935954:G:T</td>\n",
       "      <td>1</td>\n",
       "      <td>935954</td>\n",
       "      <td>T</td>\n",
       "      <td>G</td>\n",
       "      <td>0.718850</td>\n",
       "      <td>0.006622</td>\n",
       "      <td>0.021419</td>\n",
       "      <td>0.757211</td>\n",
       "      <td>102938</td>\n",
       "      <td>0.309145</td>\n",
       "    </tr>\n",
       "    <tr>\n",
       "      <th>539</th>\n",
       "      <td>chr1:946247:G:A</td>\n",
       "      <td>1</td>\n",
       "      <td>946247</td>\n",
       "      <td>A</td>\n",
       "      <td>G</td>\n",
       "      <td>0.651975</td>\n",
       "      <td>0.003033</td>\n",
       "      <td>0.020293</td>\n",
       "      <td>0.881207</td>\n",
       "      <td>103030</td>\n",
       "      <td>0.149439</td>\n",
       "    </tr>\n",
       "    <tr>\n",
       "      <th>661</th>\n",
       "      <td>chr1:952180:A:C</td>\n",
       "      <td>1</td>\n",
       "      <td>952180</td>\n",
       "      <td>C</td>\n",
       "      <td>A</td>\n",
       "      <td>0.940987</td>\n",
       "      <td>0.004582</td>\n",
       "      <td>0.040718</td>\n",
       "      <td>0.910411</td>\n",
       "      <td>103002</td>\n",
       "      <td>0.112520</td>\n",
       "    </tr>\n",
       "    <tr>\n",
       "      <th>883</th>\n",
       "      <td>chr1:960891:C:T</td>\n",
       "      <td>1</td>\n",
       "      <td>960891</td>\n",
       "      <td>T</td>\n",
       "      <td>C</td>\n",
       "      <td>0.639319</td>\n",
       "      <td>0.009653</td>\n",
       "      <td>0.020265</td>\n",
       "      <td>0.633849</td>\n",
       "      <td>101996</td>\n",
       "      <td>0.476315</td>\n",
       "    </tr>\n",
       "    <tr>\n",
       "      <th>948</th>\n",
       "      <td>chr1:961945:G:C</td>\n",
       "      <td>1</td>\n",
       "      <td>961945</td>\n",
       "      <td>C</td>\n",
       "      <td>G</td>\n",
       "      <td>0.935498</td>\n",
       "      <td>0.002553</td>\n",
       "      <td>0.039165</td>\n",
       "      <td>0.948022</td>\n",
       "      <td>103036</td>\n",
       "      <td>0.065191</td>\n",
       "    </tr>\n",
       "    <tr>\n",
       "      <th>...</th>\n",
       "      <td>...</td>\n",
       "      <td>...</td>\n",
       "      <td>...</td>\n",
       "      <td>...</td>\n",
       "      <td>...</td>\n",
       "      <td>...</td>\n",
       "      <td>...</td>\n",
       "      <td>...</td>\n",
       "      <td>...</td>\n",
       "      <td>...</td>\n",
       "      <td>...</td>\n",
       "    </tr>\n",
       "    <tr>\n",
       "      <th>3028231</th>\n",
       "      <td>chr22:50610353:T:G</td>\n",
       "      <td>22</td>\n",
       "      <td>50610353</td>\n",
       "      <td>G</td>\n",
       "      <td>T</td>\n",
       "      <td>0.718746</td>\n",
       "      <td>0.000509</td>\n",
       "      <td>0.021578</td>\n",
       "      <td>0.981164</td>\n",
       "      <td>102276</td>\n",
       "      <td>0.023610</td>\n",
       "    </tr>\n",
       "    <tr>\n",
       "      <th>3028490</th>\n",
       "      <td>chr22:50679152:T:C</td>\n",
       "      <td>22</td>\n",
       "      <td>50679152</td>\n",
       "      <td>C</td>\n",
       "      <td>T</td>\n",
       "      <td>0.515077</td>\n",
       "      <td>0.005260</td>\n",
       "      <td>0.019236</td>\n",
       "      <td>0.784520</td>\n",
       "      <td>103036</td>\n",
       "      <td>0.273435</td>\n",
       "    </tr>\n",
       "    <tr>\n",
       "      <th>3028569</th>\n",
       "      <td>chr22:50695090:G:A</td>\n",
       "      <td>22</td>\n",
       "      <td>50695090</td>\n",
       "      <td>A</td>\n",
       "      <td>G</td>\n",
       "      <td>0.571927</td>\n",
       "      <td>0.028791</td>\n",
       "      <td>0.020166</td>\n",
       "      <td>0.153382</td>\n",
       "      <td>96695</td>\n",
       "      <td>1.427689</td>\n",
       "    </tr>\n",
       "    <tr>\n",
       "      <th>3029005</th>\n",
       "      <td>chr22:50744057:A:G</td>\n",
       "      <td>22</td>\n",
       "      <td>50744057</td>\n",
       "      <td>G</td>\n",
       "      <td>A</td>\n",
       "      <td>0.730827</td>\n",
       "      <td>0.024418</td>\n",
       "      <td>0.021401</td>\n",
       "      <td>0.253874</td>\n",
       "      <td>93180</td>\n",
       "      <td>1.140988</td>\n",
       "    </tr>\n",
       "    <tr>\n",
       "      <th>3029040</th>\n",
       "      <td>chr22:50744827:A:G</td>\n",
       "      <td>22</td>\n",
       "      <td>50744827</td>\n",
       "      <td>G</td>\n",
       "      <td>A</td>\n",
       "      <td>0.664561</td>\n",
       "      <td>0.010372</td>\n",
       "      <td>0.020368</td>\n",
       "      <td>0.610568</td>\n",
       "      <td>103035</td>\n",
       "      <td>0.509262</td>\n",
       "    </tr>\n",
       "  </tbody>\n",
       "</table>\n",
       "<p>15251 rows × 11 columns</p>\n",
       "</div>"
      ],
      "text/plain": [
       "                      snpid  chr      bpos a1 a2      freq      beta  \\\n",
       "111         chr1:935954:G:T    1    935954  T  G  0.718850  0.006622   \n",
       "539         chr1:946247:G:A    1    946247  A  G  0.651975  0.003033   \n",
       "661         chr1:952180:A:C    1    952180  C  A  0.940987  0.004582   \n",
       "883         chr1:960891:C:T    1    960891  T  C  0.639319  0.009653   \n",
       "948         chr1:961945:G:C    1    961945  C  G  0.935498  0.002553   \n",
       "...                     ...  ...       ... .. ..       ...       ...   \n",
       "3028231  chr22:50610353:T:G   22  50610353  G  T  0.718746  0.000509   \n",
       "3028490  chr22:50679152:T:C   22  50679152  C  T  0.515077  0.005260   \n",
       "3028569  chr22:50695090:G:A   22  50695090  A  G  0.571927  0.028791   \n",
       "3029005  chr22:50744057:A:G   22  50744057  G  A  0.730827  0.024418   \n",
       "3029040  chr22:50744827:A:G   22  50744827  G  A  0.664561  0.010372   \n",
       "\n",
       "               se      pval       n         z  \n",
       "111      0.021419  0.757211  102938  0.309145  \n",
       "539      0.020293  0.881207  103030  0.149439  \n",
       "661      0.040718  0.910411  103002  0.112520  \n",
       "883      0.020265  0.633849  101996  0.476315  \n",
       "948      0.039165  0.948022  103036  0.065191  \n",
       "...           ...       ...     ...       ...  \n",
       "3028231  0.021578  0.981164  102276  0.023610  \n",
       "3028490  0.019236  0.784520  103036  0.273435  \n",
       "3028569  0.020166  0.153382   96695  1.427689  \n",
       "3029005  0.021401  0.253874   93180  1.140988  \n",
       "3029040  0.020368  0.610568  103035  0.509262  \n",
       "\n",
       "[15251 rows x 11 columns]"
      ]
     },
     "execution_count": 57,
     "metadata": {},
     "output_type": "execute_result"
    }
   ],
   "source": [
    "f3393[(f3393['freq'] > 0.5) & (f3393['beta'] > 0)]"
   ]
  },
  {
   "cell_type": "code",
   "execution_count": null,
   "id": "22168f49-764e-4f36-ba11-d8f23ca4ed7a",
   "metadata": {
    "kernel": "Python3"
   },
   "outputs": [],
   "source": [
    "if f3393['freq'] > 0.5:\n",
    "            f3393['a1_new'] == f3393['a2'] \n",
    "            f3393['a2_new'] == f3393['a1']\n",
    "            f3393['beta_new'] = f3393['beta'].apply(lambda row: -row)"
   ]
  },
  {
   "cell_type": "code",
   "execution_count": 52,
   "id": "2291b60a-7372-43d4-8a19-d83c69a6809e",
   "metadata": {
    "kernel": "Python3"
   },
   "outputs": [
    {
     "data": {
      "text/html": [
       "<div>\n",
       "<style scoped>\n",
       "    .dataframe tbody tr th:only-of-type {\n",
       "        vertical-align: middle;\n",
       "    }\n",
       "\n",
       "    .dataframe tbody tr th {\n",
       "        vertical-align: top;\n",
       "    }\n",
       "\n",
       "    .dataframe thead th {\n",
       "        text-align: right;\n",
       "    }\n",
       "</style>\n",
       "<table border=\"1\" class=\"dataframe\">\n",
       "  <thead>\n",
       "    <tr style=\"text-align: right;\">\n",
       "      <th></th>\n",
       "      <th>snpid</th>\n",
       "      <th>chr</th>\n",
       "      <th>bpos</th>\n",
       "      <th>a1</th>\n",
       "      <th>a2</th>\n",
       "      <th>freq</th>\n",
       "      <th>beta</th>\n",
       "      <th>se</th>\n",
       "      <th>pval</th>\n",
       "      <th>n</th>\n",
       "      <th>z</th>\n",
       "    </tr>\n",
       "  </thead>\n",
       "  <tbody>\n",
       "    <tr>\n",
       "      <th>88</th>\n",
       "      <td>chr1:931131:C:CCCCT</td>\n",
       "      <td>1</td>\n",
       "      <td>931131</td>\n",
       "      <td>CCCCT</td>\n",
       "      <td>C</td>\n",
       "      <td>0.760384</td>\n",
       "      <td>0.006984</td>\n",
       "      <td>0.010019</td>\n",
       "      <td>0.485780</td>\n",
       "      <td>139392</td>\n",
       "      <td>0.697036</td>\n",
       "    </tr>\n",
       "    <tr>\n",
       "      <th>134</th>\n",
       "      <td>chr1:935954:G:T</td>\n",
       "      <td>1</td>\n",
       "      <td>935954</td>\n",
       "      <td>T</td>\n",
       "      <td>G</td>\n",
       "      <td>0.719012</td>\n",
       "      <td>0.003528</td>\n",
       "      <td>0.009234</td>\n",
       "      <td>0.702422</td>\n",
       "      <td>141956</td>\n",
       "      <td>0.382054</td>\n",
       "    </tr>\n",
       "    <tr>\n",
       "      <th>205</th>\n",
       "      <td>chr1:941119:A:G</td>\n",
       "      <td>1</td>\n",
       "      <td>941119</td>\n",
       "      <td>G</td>\n",
       "      <td>A</td>\n",
       "      <td>0.945805</td>\n",
       "      <td>0.015101</td>\n",
       "      <td>0.018324</td>\n",
       "      <td>0.409881</td>\n",
       "      <td>142043</td>\n",
       "      <td>0.824103</td>\n",
       "    </tr>\n",
       "    <tr>\n",
       "      <th>265</th>\n",
       "      <td>chr1:942451:T:C</td>\n",
       "      <td>1</td>\n",
       "      <td>942451</td>\n",
       "      <td>C</td>\n",
       "      <td>T</td>\n",
       "      <td>0.999916</td>\n",
       "      <td>-0.652989</td>\n",
       "      <td>0.465599</td>\n",
       "      <td>0.160774</td>\n",
       "      <td>142022</td>\n",
       "      <td>-1.402471</td>\n",
       "    </tr>\n",
       "    <tr>\n",
       "      <th>517</th>\n",
       "      <td>chr1:944296:G:A</td>\n",
       "      <td>1</td>\n",
       "      <td>944296</td>\n",
       "      <td>A</td>\n",
       "      <td>G</td>\n",
       "      <td>0.945704</td>\n",
       "      <td>0.013957</td>\n",
       "      <td>0.018302</td>\n",
       "      <td>0.445690</td>\n",
       "      <td>142101</td>\n",
       "      <td>0.762623</td>\n",
       "    </tr>\n",
       "    <tr>\n",
       "      <th>...</th>\n",
       "      <td>...</td>\n",
       "      <td>...</td>\n",
       "      <td>...</td>\n",
       "      <td>...</td>\n",
       "      <td>...</td>\n",
       "      <td>...</td>\n",
       "      <td>...</td>\n",
       "      <td>...</td>\n",
       "      <td>...</td>\n",
       "      <td>...</td>\n",
       "      <td>...</td>\n",
       "    </tr>\n",
       "    <tr>\n",
       "      <th>3731957</th>\n",
       "      <td>chr22:50679152:T:C</td>\n",
       "      <td>22</td>\n",
       "      <td>50679152</td>\n",
       "      <td>C</td>\n",
       "      <td>T</td>\n",
       "      <td>0.515577</td>\n",
       "      <td>0.010883</td>\n",
       "      <td>0.008291</td>\n",
       "      <td>0.189324</td>\n",
       "      <td>142102</td>\n",
       "      <td>1.312582</td>\n",
       "    </tr>\n",
       "    <tr>\n",
       "      <th>3732046</th>\n",
       "      <td>chr22:50695090:G:A</td>\n",
       "      <td>22</td>\n",
       "      <td>50695090</td>\n",
       "      <td>A</td>\n",
       "      <td>G</td>\n",
       "      <td>0.572528</td>\n",
       "      <td>0.014330</td>\n",
       "      <td>0.008685</td>\n",
       "      <td>0.098949</td>\n",
       "      <td>133370</td>\n",
       "      <td>1.649973</td>\n",
       "    </tr>\n",
       "    <tr>\n",
       "      <th>3732089</th>\n",
       "      <td>chr22:50698821:T:C</td>\n",
       "      <td>22</td>\n",
       "      <td>50698821</td>\n",
       "      <td>C</td>\n",
       "      <td>T</td>\n",
       "      <td>0.799602</td>\n",
       "      <td>-0.011417</td>\n",
       "      <td>0.010340</td>\n",
       "      <td>0.269510</td>\n",
       "      <td>142010</td>\n",
       "      <td>-1.104190</td>\n",
       "    </tr>\n",
       "    <tr>\n",
       "      <th>3732567</th>\n",
       "      <td>chr22:50744057:A:G</td>\n",
       "      <td>22</td>\n",
       "      <td>50744057</td>\n",
       "      <td>G</td>\n",
       "      <td>A</td>\n",
       "      <td>0.730697</td>\n",
       "      <td>0.001397</td>\n",
       "      <td>0.009210</td>\n",
       "      <td>0.879442</td>\n",
       "      <td>128558</td>\n",
       "      <td>0.151677</td>\n",
       "    </tr>\n",
       "    <tr>\n",
       "      <th>3732607</th>\n",
       "      <td>chr22:50744827:A:G</td>\n",
       "      <td>22</td>\n",
       "      <td>50744827</td>\n",
       "      <td>G</td>\n",
       "      <td>A</td>\n",
       "      <td>0.664995</td>\n",
       "      <td>0.009442</td>\n",
       "      <td>0.008808</td>\n",
       "      <td>0.283727</td>\n",
       "      <td>142101</td>\n",
       "      <td>1.071984</td>\n",
       "    </tr>\n",
       "  </tbody>\n",
       "</table>\n",
       "<p>30246 rows × 11 columns</p>\n",
       "</div>"
      ],
      "text/plain": [
       "                       snpid  chr      bpos     a1 a2      freq      beta  \\\n",
       "88       chr1:931131:C:CCCCT    1    931131  CCCCT  C  0.760384  0.006984   \n",
       "134          chr1:935954:G:T    1    935954      T  G  0.719012  0.003528   \n",
       "205          chr1:941119:A:G    1    941119      G  A  0.945805  0.015101   \n",
       "265          chr1:942451:T:C    1    942451      C  T  0.999916 -0.652989   \n",
       "517          chr1:944296:G:A    1    944296      A  G  0.945704  0.013957   \n",
       "...                      ...  ...       ...    ... ..       ...       ...   \n",
       "3731957   chr22:50679152:T:C   22  50679152      C  T  0.515577  0.010883   \n",
       "3732046   chr22:50695090:G:A   22  50695090      A  G  0.572528  0.014330   \n",
       "3732089   chr22:50698821:T:C   22  50698821      C  T  0.799602 -0.011417   \n",
       "3732567   chr22:50744057:A:G   22  50744057      G  A  0.730697  0.001397   \n",
       "3732607   chr22:50744827:A:G   22  50744827      G  A  0.664995  0.009442   \n",
       "\n",
       "               se      pval       n         z  \n",
       "88       0.010019  0.485780  139392  0.697036  \n",
       "134      0.009234  0.702422  141956  0.382054  \n",
       "205      0.018324  0.409881  142043  0.824103  \n",
       "265      0.465599  0.160774  142022 -1.402471  \n",
       "517      0.018302  0.445690  142101  0.762623  \n",
       "...           ...       ...     ...       ...  \n",
       "3731957  0.008291  0.189324  142102  1.312582  \n",
       "3732046  0.008685  0.098949  133370  1.649973  \n",
       "3732089  0.010340  0.269510  142010 -1.104190  \n",
       "3732567  0.009210  0.879442  128558  0.151677  \n",
       "3732607  0.008808  0.283727  142101  1.071984  \n",
       "\n",
       "[30246 rows x 11 columns]"
      ]
     },
     "execution_count": 52,
     "metadata": {},
     "output_type": "execute_result"
    }
   ],
   "source": [
    "f2247[(f2247['freq'] > 0.5)]"
   ]
  },
  {
   "cell_type": "code",
   "execution_count": 61,
   "id": "10d0fa3f-4681-4b35-b1fc-236cfb03c9fa",
   "metadata": {
    "kernel": "Bash",
    "tags": []
   },
   "outputs": [
    {
     "name": "stdout",
     "output_type": "stream",
     "text": [
      "\n"
     ]
    }
   ],
   "source": [
    "~/conda/my-envs/py27/bin/python2.7 ~/project/mtag/mtag.py --force  \\\n",
    "--n_min 0.0 \\\n",
    "--sumstats /home/dmc2245/output/090321_UKBB_Combined_f2247_f2257_expandedwhite_38410cases_96601ctrl_PC1_2_f2247_f2257.regenie.mtag.snp_stats,/home/dmc2245/output/090321_UKBB_Hearing_difficulty_f2247_expandedwhite_45502cases_96601ctrl_PC1_2_f2247.regenie.mtag.snp_stats,/home/dmc2245/output/090321_UKBB_Hearing_noise_f2257_expandedwhite_65660cases_96601ctrl_PC1_2_f2257.regenie.mtag.snp_stats \\\n",
    "--out /home/dmc2245/output/f3393_f2247_f2257_combined"
   ]
  },
  {
   "cell_type": "markdown",
   "id": "0a01ec50-2f97-4919-940d-a05452b7bc9c",
   "metadata": {
    "kernel": "Bash"
   },
   "source": [
    "Identify error\n",
    "\n",
    "```\n",
    "2022/02/25/05:33:03 PM can't multiply sequence by non-int of type 'str'\n",
    "Traceback (most recent call last):\n",
    "  File \"/home/dmc2245/project/mtag/mtag.py\", line 1577, in <module>\n",
    "    mtag(args)\n",
    "  File \"/home/dmc2245/project/mtag/mtag.py\", line 1343, in mtag\n",
    "    DATA_U, DATA, args = load_and_merge_data(args)\n",
    "  File \"/home/dmc2245/project/mtag/mtag.py\", line 280, in load_and_merge_data\n",
    "    z_checker = np.mean(np.square(GWAS_d[p][args.z_name]))\n",
    "TypeError: can't multiply sequence by non-int of type 'str'\n",
    "2022/02/25/05:33:03 PM Analysis terminated from error at Fri Feb 25 17:33:03 2022\n",
    "2022/02/25/05:33:03 PM Total time elapsed: 1.0m:35.57s\n",
    "```"
   ]
  },
  {
   "cell_type": "code",
   "execution_count": 15,
   "id": "dcea77a6-7c9c-4c7b-8167-bdaedb077b55",
   "metadata": {
    "kernel": "SoS",
    "tags": []
   },
   "outputs": [],
   "source": [
    "import pandas as pd\n",
    "f2247 = pd.read_csv('/home/dmc2245/output/090321_UKBB_Hearing_difficulty_f2247_expandedwhite_45502cases_96601ctrl_PC1_2_f2247.regenie.hg19.mtag.snp_stats', header=0, delim_whitespace=True, quotechar='\"')"
   ]
  },
  {
   "cell_type": "code",
   "execution_count": 3,
   "id": "3737a11c-05b6-42a0-88ae-bf254986cd6a",
   "metadata": {
    "kernel": "SoS",
    "tags": []
   },
   "outputs": [
    {
     "data": {
      "text/plain": [
       "chr        int64\n",
       "bpos       int64\n",
       "a2        object\n",
       "a1        object\n",
       "freq     float64\n",
       "beta     float64\n",
       "se       float64\n",
       "pval     float64\n",
       "n          int64\n",
       "z        float64\n",
       "snpid     object\n",
       "dtype: object"
      ]
     },
     "execution_count": 3,
     "metadata": {},
     "output_type": "execute_result"
    }
   ],
   "source": [
    "f2247.dtypes"
   ]
  },
  {
   "cell_type": "code",
   "execution_count": 10,
   "id": "7389d52f-3fb0-4bff-a54a-6f503bdbc36b",
   "metadata": {
    "kernel": "SoS",
    "tags": []
   },
   "outputs": [],
   "source": [
    "import numpy as np\n",
    "z_checker = np.mean(np.square(f2247['z']))"
   ]
  },
  {
   "cell_type": "code",
   "execution_count": 11,
   "id": "f491c15f-7f43-4b09-ae9d-8cab512c20a9",
   "metadata": {
    "kernel": "SoS"
   },
   "outputs": [
    {
     "data": {
      "text/plain": [
       "0.9543864935515738"
      ]
     },
     "execution_count": 11,
     "metadata": {},
     "output_type": "execute_result"
    }
   ],
   "source": [
    "z_checker"
   ]
  },
  {
   "cell_type": "code",
   "execution_count": 13,
   "id": "e4078660-1481-49d0-b758-2034458c2a65",
   "metadata": {
    "kernel": "SoS"
   },
   "outputs": [],
   "source": [
    "f2257 = pd.read_csv('/home/dmc2245/output/090321_UKBB_Hearing_noise_f2257_expandedwhite_65660cases_96601ctrl_PC1_2_f2257.regenie.hg19.mtag.snp_stats', header=0, delim_whitespace=True, quotechar='\"')"
   ]
  },
  {
   "cell_type": "code",
   "execution_count": 52,
   "id": "ed2b6cb8-3a5d-4246-b1ab-90649b17c473",
   "metadata": {
    "kernel": "SoS"
   },
   "outputs": [],
   "source": [
    "comb = pd.read_csv('/home/dmc2245/output/090321_UKBB_Combined_f2247_f2257_expandedwhite_38410cases_96601ctrl_PC1_2_f2247_f2257.regenie.hg19.mtag.snp_stats', header=0, sep='\\t', quotechar='\"')"
   ]
  },
  {
   "cell_type": "code",
   "execution_count": 16,
   "id": "134e27d2-4944-4816-a54e-330c6a879696",
   "metadata": {
    "kernel": "SoS"
   },
   "outputs": [
    {
     "data": {
      "text/plain": [
       "chr        int64\n",
       "bpos       int64\n",
       "a2        object\n",
       "a1        object\n",
       "freq     float64\n",
       "beta     float64\n",
       "se       float64\n",
       "pval     float64\n",
       "n          int64\n",
       "z        float64\n",
       "snpid     object\n",
       "dtype: object"
      ]
     },
     "execution_count": 16,
     "metadata": {},
     "output_type": "execute_result"
    }
   ],
   "source": [
    "f2257.dtypes"
   ]
  },
  {
   "cell_type": "code",
   "execution_count": 53,
   "id": "58004629-fe43-4188-bd85-46cb74789390",
   "metadata": {
    "kernel": "SoS"
   },
   "outputs": [
    {
     "data": {
      "text/plain": [
       "chr        int64\n",
       "bpos       int64\n",
       "a2        object\n",
       "a1        object\n",
       "freq     float64\n",
       "beta     float64\n",
       "se       float64\n",
       "pval     float64\n",
       "n          int64\n",
       "z        float64\n",
       "snpid     object\n",
       "dtype: object"
      ]
     },
     "execution_count": 53,
     "metadata": {},
     "output_type": "execute_result"
    }
   ],
   "source": [
    "comb.dtypes"
   ]
  },
  {
   "cell_type": "code",
   "execution_count": 54,
   "id": "31260509-3d04-4b80-ad13-4ef85df008e5",
   "metadata": {
    "kernel": "SoS"
   },
   "outputs": [
    {
     "data": {
      "text/html": [
       "<div>\n",
       "<style scoped>\n",
       "    .dataframe tbody tr th:only-of-type {\n",
       "        vertical-align: middle;\n",
       "    }\n",
       "\n",
       "    .dataframe tbody tr th {\n",
       "        vertical-align: top;\n",
       "    }\n",
       "\n",
       "    .dataframe thead th {\n",
       "        text-align: right;\n",
       "    }\n",
       "</style>\n",
       "<table border=\"1\" class=\"dataframe\">\n",
       "  <thead>\n",
       "    <tr style=\"text-align: right;\">\n",
       "      <th></th>\n",
       "      <th>chr</th>\n",
       "      <th>bpos</th>\n",
       "      <th>a2</th>\n",
       "      <th>a1</th>\n",
       "      <th>freq</th>\n",
       "      <th>beta</th>\n",
       "      <th>se</th>\n",
       "      <th>pval</th>\n",
       "      <th>n</th>\n",
       "      <th>z</th>\n",
       "      <th>snpid</th>\n",
       "    </tr>\n",
       "  </thead>\n",
       "  <tbody>\n",
       "    <tr>\n",
       "      <th>0</th>\n",
       "      <td>1</td>\n",
       "      <td>861242</td>\n",
       "      <td>G</td>\n",
       "      <td>A</td>\n",
       "      <td>0.000020</td>\n",
       "      <td>-1.835250</td>\n",
       "      <td>0.942524</td>\n",
       "      <td>0.051516</td>\n",
       "      <td>122197</td>\n",
       "      <td>-1.947165</td>\n",
       "      <td>1:861242:G:A</td>\n",
       "    </tr>\n",
       "    <tr>\n",
       "      <th>1</th>\n",
       "      <td>1</td>\n",
       "      <td>861261</td>\n",
       "      <td>G</td>\n",
       "      <td>A</td>\n",
       "      <td>0.004602</td>\n",
       "      <td>-0.115103</td>\n",
       "      <td>0.066009</td>\n",
       "      <td>0.081206</td>\n",
       "      <td>131346</td>\n",
       "      <td>-1.743736</td>\n",
       "      <td>1:861261:G:A</td>\n",
       "    </tr>\n",
       "    <tr>\n",
       "      <th>2</th>\n",
       "      <td>1</td>\n",
       "      <td>861265</td>\n",
       "      <td>C</td>\n",
       "      <td>T</td>\n",
       "      <td>0.000030</td>\n",
       "      <td>-0.617699</td>\n",
       "      <td>0.866059</td>\n",
       "      <td>0.475703</td>\n",
       "      <td>132193</td>\n",
       "      <td>-0.713230</td>\n",
       "      <td>1:861265:C:T</td>\n",
       "    </tr>\n",
       "    <tr>\n",
       "      <th>3</th>\n",
       "      <td>1</td>\n",
       "      <td>861288</td>\n",
       "      <td>G</td>\n",
       "      <td>GGCTCT</td>\n",
       "      <td>0.000037</td>\n",
       "      <td>0.770775</td>\n",
       "      <td>0.740245</td>\n",
       "      <td>0.297763</td>\n",
       "      <td>134780</td>\n",
       "      <td>1.041243</td>\n",
       "      <td>1:861288:G:GGCTCT</td>\n",
       "    </tr>\n",
       "    <tr>\n",
       "      <th>4</th>\n",
       "      <td>1</td>\n",
       "      <td>861292</td>\n",
       "      <td>C</td>\n",
       "      <td>G</td>\n",
       "      <td>0.000015</td>\n",
       "      <td>-0.099465</td>\n",
       "      <td>1.158640</td>\n",
       "      <td>0.931589</td>\n",
       "      <td>134921</td>\n",
       "      <td>-0.085846</td>\n",
       "      <td>1:861292:C:G</td>\n",
       "    </tr>\n",
       "    <tr>\n",
       "      <th>...</th>\n",
       "      <td>...</td>\n",
       "      <td>...</td>\n",
       "      <td>...</td>\n",
       "      <td>...</td>\n",
       "      <td>...</td>\n",
       "      <td>...</td>\n",
       "      <td>...</td>\n",
       "      <td>...</td>\n",
       "      <td>...</td>\n",
       "      <td>...</td>\n",
       "      <td>...</td>\n",
       "    </tr>\n",
       "    <tr>\n",
       "      <th>3611721</th>\n",
       "      <td>22</td>\n",
       "      <td>51220663</td>\n",
       "      <td>G</td>\n",
       "      <td>A</td>\n",
       "      <td>0.000085</td>\n",
       "      <td>-0.095770</td>\n",
       "      <td>0.479395</td>\n",
       "      <td>0.841658</td>\n",
       "      <td>134571</td>\n",
       "      <td>-0.199773</td>\n",
       "      <td>22:51220663:G:A</td>\n",
       "    </tr>\n",
       "    <tr>\n",
       "      <th>3611722</th>\n",
       "      <td>22</td>\n",
       "      <td>51220671</td>\n",
       "      <td>C</td>\n",
       "      <td>T</td>\n",
       "      <td>0.001044</td>\n",
       "      <td>-0.217495</td>\n",
       "      <td>0.135785</td>\n",
       "      <td>0.109209</td>\n",
       "      <td>134616</td>\n",
       "      <td>-1.601760</td>\n",
       "      <td>22:51220671:C:T</td>\n",
       "    </tr>\n",
       "    <tr>\n",
       "      <th>3611723</th>\n",
       "      <td>22</td>\n",
       "      <td>51220699</td>\n",
       "      <td>C</td>\n",
       "      <td>T</td>\n",
       "      <td>0.000123</td>\n",
       "      <td>-0.301791</td>\n",
       "      <td>0.407232</td>\n",
       "      <td>0.458645</td>\n",
       "      <td>134626</td>\n",
       "      <td>-0.741079</td>\n",
       "      <td>22:51220699:C:T</td>\n",
       "    </tr>\n",
       "    <tr>\n",
       "      <th>3611724</th>\n",
       "      <td>22</td>\n",
       "      <td>51220734</td>\n",
       "      <td>T</td>\n",
       "      <td>C</td>\n",
       "      <td>0.007777</td>\n",
       "      <td>0.046669</td>\n",
       "      <td>0.053147</td>\n",
       "      <td>0.379878</td>\n",
       "      <td>122666</td>\n",
       "      <td>0.878122</td>\n",
       "      <td>22:51220734:T:C</td>\n",
       "    </tr>\n",
       "    <tr>\n",
       "      <th>3611725</th>\n",
       "      <td>22</td>\n",
       "      <td>51220757</td>\n",
       "      <td>G</td>\n",
       "      <td>A</td>\n",
       "      <td>0.000104</td>\n",
       "      <td>0.108575</td>\n",
       "      <td>0.442887</td>\n",
       "      <td>0.806338</td>\n",
       "      <td>125234</td>\n",
       "      <td>0.245153</td>\n",
       "      <td>22:51220757:G:A</td>\n",
       "    </tr>\n",
       "  </tbody>\n",
       "</table>\n",
       "<p>3611726 rows × 11 columns</p>\n",
       "</div>"
      ],
      "text/plain": [
       "         chr      bpos a2  ...       n         z              snpid\n",
       "0          1    861242  G  ...  122197 -1.947165       1:861242:G:A\n",
       "1          1    861261  G  ...  131346 -1.743736       1:861261:G:A\n",
       "2          1    861265  C  ...  132193 -0.713230       1:861265:C:T\n",
       "3          1    861288  G  ...  134780  1.041243  1:861288:G:GGCTCT\n",
       "4          1    861292  C  ...  134921 -0.085846       1:861292:C:G\n",
       "...      ...       ... ..  ...     ...       ...                ...\n",
       "3611721   22  51220663  G  ...  134571 -0.199773    22:51220663:G:A\n",
       "3611722   22  51220671  C  ...  134616 -1.601760    22:51220671:C:T\n",
       "3611723   22  51220699  C  ...  134626 -0.741079    22:51220699:C:T\n",
       "3611724   22  51220734  T  ...  122666  0.878122    22:51220734:T:C\n",
       "3611725   22  51220757  G  ...  125234  0.245153    22:51220757:G:A\n",
       "\n",
       "[3611726 rows x 11 columns]"
      ]
     },
     "execution_count": 54,
     "metadata": {},
     "output_type": "execute_result"
    }
   ],
   "source": [
    "comb"
   ]
  },
  {
   "cell_type": "code",
   "execution_count": 51,
   "id": "9fef7144-34d3-49e1-9dbe-06a4ffcc5b0e",
   "metadata": {
    "kernel": "SoS"
   },
   "outputs": [
    {
     "data": {
      "text/plain": [
       "False"
      ]
     },
     "execution_count": 51,
     "metadata": {},
     "output_type": "execute_result"
    }
   ],
   "source": [
    "comb['pval'].isnull().values.any()"
   ]
  },
  {
   "cell_type": "code",
   "execution_count": 58,
   "id": "4b3f60e4-0e82-4186-a41b-4b6fa641b58e",
   "metadata": {
    "kernel": "SoS"
   },
   "outputs": [],
   "source": [
    "ids = comb[\"snpid\"]"
   ]
  },
  {
   "cell_type": "code",
   "execution_count": 61,
   "id": "434e1775-d3e5-4f0c-8a90-bc4a51ad46ab",
   "metadata": {
    "kernel": "SoS"
   },
   "outputs": [
    {
     "data": {
      "text/html": [
       "<div>\n",
       "<style scoped>\n",
       "    .dataframe tbody tr th:only-of-type {\n",
       "        vertical-align: middle;\n",
       "    }\n",
       "\n",
       "    .dataframe tbody tr th {\n",
       "        vertical-align: top;\n",
       "    }\n",
       "\n",
       "    .dataframe thead th {\n",
       "        text-align: right;\n",
       "    }\n",
       "</style>\n",
       "<table border=\"1\" class=\"dataframe\">\n",
       "  <thead>\n",
       "    <tr style=\"text-align: right;\">\n",
       "      <th></th>\n",
       "      <th>chr</th>\n",
       "      <th>bpos</th>\n",
       "      <th>a2</th>\n",
       "      <th>a1</th>\n",
       "      <th>freq</th>\n",
       "      <th>beta</th>\n",
       "      <th>se</th>\n",
       "      <th>pval</th>\n",
       "      <th>n</th>\n",
       "      <th>z</th>\n",
       "      <th>snpid</th>\n",
       "    </tr>\n",
       "  </thead>\n",
       "  <tbody>\n",
       "    <tr>\n",
       "      <th>1362257</th>\n",
       "      <td>0</td>\n",
       "      <td>0</td>\n",
       "      <td>A</td>\n",
       "      <td>C</td>\n",
       "      <td>0.908158</td>\n",
       "      <td>-0.019599</td>\n",
       "      <td>0.015249</td>\n",
       "      <td>0.198696</td>\n",
       "      <td>134982</td>\n",
       "      <td>-1.285275</td>\n",
       "      <td>0:0:A:C</td>\n",
       "    </tr>\n",
       "    <tr>\n",
       "      <th>1474971</th>\n",
       "      <td>0</td>\n",
       "      <td>0</td>\n",
       "      <td>A</td>\n",
       "      <td>C</td>\n",
       "      <td>0.459144</td>\n",
       "      <td>0.020981</td>\n",
       "      <td>0.008827</td>\n",
       "      <td>0.017472</td>\n",
       "      <td>133090</td>\n",
       "      <td>2.376846</td>\n",
       "      <td>0:0:A:C</td>\n",
       "    </tr>\n",
       "    <tr>\n",
       "      <th>1524963</th>\n",
       "      <td>0</td>\n",
       "      <td>0</td>\n",
       "      <td>A</td>\n",
       "      <td>C</td>\n",
       "      <td>0.000041</td>\n",
       "      <td>0.004923</td>\n",
       "      <td>0.694515</td>\n",
       "      <td>0.994344</td>\n",
       "      <td>135011</td>\n",
       "      <td>0.007088</td>\n",
       "      <td>0:0:A:C</td>\n",
       "    </tr>\n",
       "    <tr>\n",
       "      <th>1641139</th>\n",
       "      <td>0</td>\n",
       "      <td>0</td>\n",
       "      <td>A</td>\n",
       "      <td>C</td>\n",
       "      <td>0.000343</td>\n",
       "      <td>-0.224539</td>\n",
       "      <td>0.241114</td>\n",
       "      <td>0.351720</td>\n",
       "      <td>134134</td>\n",
       "      <td>-0.931257</td>\n",
       "      <td>0:0:A:C</td>\n",
       "    </tr>\n",
       "    <tr>\n",
       "      <th>1641200</th>\n",
       "      <td>0</td>\n",
       "      <td>0</td>\n",
       "      <td>A</td>\n",
       "      <td>C</td>\n",
       "      <td>0.642554</td>\n",
       "      <td>0.011944</td>\n",
       "      <td>0.013899</td>\n",
       "      <td>0.390146</td>\n",
       "      <td>130821</td>\n",
       "      <td>0.859349</td>\n",
       "      <td>0:0:A:C</td>\n",
       "    </tr>\n",
       "    <tr>\n",
       "      <th>...</th>\n",
       "      <td>...</td>\n",
       "      <td>...</td>\n",
       "      <td>...</td>\n",
       "      <td>...</td>\n",
       "      <td>...</td>\n",
       "      <td>...</td>\n",
       "      <td>...</td>\n",
       "      <td>...</td>\n",
       "      <td>...</td>\n",
       "      <td>...</td>\n",
       "      <td>...</td>\n",
       "    </tr>\n",
       "    <tr>\n",
       "      <th>1624394</th>\n",
       "      <td>9</td>\n",
       "      <td>27217783</td>\n",
       "      <td>A</td>\n",
       "      <td>AT</td>\n",
       "      <td>0.000242</td>\n",
       "      <td>-0.093607</td>\n",
       "      <td>0.280351</td>\n",
       "      <td>0.738460</td>\n",
       "      <td>134437</td>\n",
       "      <td>-0.333893</td>\n",
       "      <td>9:27217783:A:AT</td>\n",
       "    </tr>\n",
       "    <tr>\n",
       "      <th>1641551</th>\n",
       "      <td>9</td>\n",
       "      <td>40705900</td>\n",
       "      <td>C</td>\n",
       "      <td>T</td>\n",
       "      <td>0.000049</td>\n",
       "      <td>0.405866</td>\n",
       "      <td>0.662547</td>\n",
       "      <td>0.540151</td>\n",
       "      <td>133226</td>\n",
       "      <td>0.612584</td>\n",
       "      <td>9:40705900:C:T</td>\n",
       "    </tr>\n",
       "    <tr>\n",
       "      <th>1642411</th>\n",
       "      <td>9</td>\n",
       "      <td>40705900</td>\n",
       "      <td>C</td>\n",
       "      <td>T</td>\n",
       "      <td>0.000015</td>\n",
       "      <td>0.602387</td>\n",
       "      <td>1.086580</td>\n",
       "      <td>0.579313</td>\n",
       "      <td>135011</td>\n",
       "      <td>0.554388</td>\n",
       "      <td>9:40705900:C:T</td>\n",
       "    </tr>\n",
       "    <tr>\n",
       "      <th>1661991</th>\n",
       "      <td>9</td>\n",
       "      <td>95237021</td>\n",
       "      <td>G</td>\n",
       "      <td>GTCC</td>\n",
       "      <td>0.000287</td>\n",
       "      <td>0.038311</td>\n",
       "      <td>0.259214</td>\n",
       "      <td>0.882502</td>\n",
       "      <td>134374</td>\n",
       "      <td>0.147798</td>\n",
       "      <td>9:95237021:G:GTCC</td>\n",
       "    </tr>\n",
       "    <tr>\n",
       "      <th>1661992</th>\n",
       "      <td>9</td>\n",
       "      <td>95237021</td>\n",
       "      <td>G</td>\n",
       "      <td>GTCC</td>\n",
       "      <td>0.000833</td>\n",
       "      <td>-0.141438</td>\n",
       "      <td>0.153613</td>\n",
       "      <td>0.357186</td>\n",
       "      <td>132677</td>\n",
       "      <td>-0.920742</td>\n",
       "      <td>9:95237021:G:GTCC</td>\n",
       "    </tr>\n",
       "  </tbody>\n",
       "</table>\n",
       "<p>444 rows × 11 columns</p>\n",
       "</div>"
      ],
      "text/plain": [
       "         chr      bpos a2    a1  ...      pval       n         z              snpid\n",
       "1362257    0         0  A     C  ...  0.198696  134982 -1.285275            0:0:A:C\n",
       "1474971    0         0  A     C  ...  0.017472  133090  2.376846            0:0:A:C\n",
       "1524963    0         0  A     C  ...  0.994344  135011  0.007088            0:0:A:C\n",
       "1641139    0         0  A     C  ...  0.351720  134134 -0.931257            0:0:A:C\n",
       "1641200    0         0  A     C  ...  0.390146  130821  0.859349            0:0:A:C\n",
       "...      ...       ... ..   ...  ...       ...     ...       ...                ...\n",
       "1624394    9  27217783  A    AT  ...  0.738460  134437 -0.333893    9:27217783:A:AT\n",
       "1641551    9  40705900  C     T  ...  0.540151  133226  0.612584     9:40705900:C:T\n",
       "1642411    9  40705900  C     T  ...  0.579313  135011  0.554388     9:40705900:C:T\n",
       "1661991    9  95237021  G  GTCC  ...  0.882502  134374  0.147798  9:95237021:G:GTCC\n",
       "1661992    9  95237021  G  GTCC  ...  0.357186  132677 -0.920742  9:95237021:G:GTCC\n",
       "\n",
       "[444 rows x 11 columns]"
      ]
     },
     "execution_count": 61,
     "metadata": {},
     "output_type": "execute_result"
    }
   ],
   "source": [
    "pd.concat(g for _, g in comb.groupby(\"snpid\") if len(g) > 1)"
   ]
  },
  {
   "cell_type": "code",
   "execution_count": 50,
   "id": "17aebc29-8efd-424b-9e87-507dd10330ba",
   "metadata": {
    "kernel": "SoS"
   },
   "outputs": [
    {
     "ename": "ExecuteError",
     "evalue": "[0]: \n---------------------------------------------------------------------------\nTypeError                                 Traceback (most recent call last)\nscript_6882709920752043147 in <module>\n      import statistics\n----> statistics.median(comb['z'])\n      \n\nTypeError: '<' not supported between instances of 'str' and 'float'",
     "execution_count": 50,
     "output_type": "error",
     "status": "error",
     "traceback": [
      "\u001b[91m[0]: \n---------------------------------------------------------------------------\nTypeError                                 Traceback (most recent call last)\nscript_6882709920752043147 in <module>\n      import statistics\n----> statistics.median(comb['z'])\n      \n\nTypeError: '<' not supported between instances of 'str' and 'float'\u001b[0m"
     ]
    }
   ],
   "source": [
    "import statistics\n",
    "statistics.median(comb['z'])"
   ]
  },
  {
   "cell_type": "code",
   "execution_count": 45,
   "id": "4fe304fd-e951-40a0-8cac-dbdc07d7dfed",
   "metadata": {
    "kernel": "SoS"
   },
   "outputs": [],
   "source": [
    "sumstats = pd.read_csv('~/output/090321_UKBB_Combined_f2247_f2257_expandedwhite_38410cases_96601ctrl_PC1_2_f2247_f2257.regenie.hg19.snp_stats_original_columns.gz', compression='gzip', header=0, sep='\\t', quotechar='\"')"
   ]
  },
  {
   "cell_type": "code",
   "execution_count": 46,
   "id": "77385b17-556f-4b4e-950f-266a29af914b",
   "metadata": {
    "kernel": "SoS"
   },
   "outputs": [
    {
     "data": {
      "text/html": [
       "<div>\n",
       "<style scoped>\n",
       "    .dataframe tbody tr th:only-of-type {\n",
       "        vertical-align: middle;\n",
       "    }\n",
       "\n",
       "    .dataframe tbody tr th {\n",
       "        vertical-align: top;\n",
       "    }\n",
       "\n",
       "    .dataframe thead th {\n",
       "        text-align: right;\n",
       "    }\n",
       "</style>\n",
       "<table border=\"1\" class=\"dataframe\">\n",
       "  <thead>\n",
       "    <tr style=\"text-align: right;\">\n",
       "      <th></th>\n",
       "      <th>CHR</th>\n",
       "      <th>POS</th>\n",
       "      <th>A0</th>\n",
       "      <th>A1</th>\n",
       "      <th>freq</th>\n",
       "      <th>n</th>\n",
       "      <th>BETA</th>\n",
       "      <th>SE</th>\n",
       "      <th>P</th>\n",
       "    </tr>\n",
       "  </thead>\n",
       "  <tbody>\n",
       "    <tr>\n",
       "      <th>0</th>\n",
       "      <td>1</td>\n",
       "      <td>861242</td>\n",
       "      <td>G</td>\n",
       "      <td>A</td>\n",
       "      <td>0.000020</td>\n",
       "      <td>122197</td>\n",
       "      <td>-1.835250</td>\n",
       "      <td>0.942524</td>\n",
       "      <td>1.288060</td>\n",
       "    </tr>\n",
       "    <tr>\n",
       "      <th>1</th>\n",
       "      <td>1</td>\n",
       "      <td>861261</td>\n",
       "      <td>G</td>\n",
       "      <td>A</td>\n",
       "      <td>0.004602</td>\n",
       "      <td>131346</td>\n",
       "      <td>-0.115103</td>\n",
       "      <td>0.066009</td>\n",
       "      <td>1.090410</td>\n",
       "    </tr>\n",
       "    <tr>\n",
       "      <th>2</th>\n",
       "      <td>1</td>\n",
       "      <td>861265</td>\n",
       "      <td>C</td>\n",
       "      <td>T</td>\n",
       "      <td>0.000030</td>\n",
       "      <td>132193</td>\n",
       "      <td>-0.617699</td>\n",
       "      <td>0.866059</td>\n",
       "      <td>0.322664</td>\n",
       "    </tr>\n",
       "    <tr>\n",
       "      <th>3</th>\n",
       "      <td>1</td>\n",
       "      <td>861288</td>\n",
       "      <td>G</td>\n",
       "      <td>GGCTCT</td>\n",
       "      <td>0.000037</td>\n",
       "      <td>134780</td>\n",
       "      <td>0.770775</td>\n",
       "      <td>0.740245</td>\n",
       "      <td>0.526129</td>\n",
       "    </tr>\n",
       "    <tr>\n",
       "      <th>4</th>\n",
       "      <td>1</td>\n",
       "      <td>861292</td>\n",
       "      <td>C</td>\n",
       "      <td>G</td>\n",
       "      <td>0.000015</td>\n",
       "      <td>134921</td>\n",
       "      <td>-0.099465</td>\n",
       "      <td>1.158640</td>\n",
       "      <td>0.030776</td>\n",
       "    </tr>\n",
       "    <tr>\n",
       "      <th>...</th>\n",
       "      <td>...</td>\n",
       "      <td>...</td>\n",
       "      <td>...</td>\n",
       "      <td>...</td>\n",
       "      <td>...</td>\n",
       "      <td>...</td>\n",
       "      <td>...</td>\n",
       "      <td>...</td>\n",
       "      <td>...</td>\n",
       "    </tr>\n",
       "    <tr>\n",
       "      <th>3611721</th>\n",
       "      <td>22</td>\n",
       "      <td>51220663</td>\n",
       "      <td>G</td>\n",
       "      <td>A</td>\n",
       "      <td>0.000085</td>\n",
       "      <td>134571</td>\n",
       "      <td>-0.095770</td>\n",
       "      <td>0.479395</td>\n",
       "      <td>0.074865</td>\n",
       "    </tr>\n",
       "    <tr>\n",
       "      <th>3611722</th>\n",
       "      <td>22</td>\n",
       "      <td>51220671</td>\n",
       "      <td>C</td>\n",
       "      <td>T</td>\n",
       "      <td>0.001044</td>\n",
       "      <td>134616</td>\n",
       "      <td>-0.217495</td>\n",
       "      <td>0.135785</td>\n",
       "      <td>0.961741</td>\n",
       "    </tr>\n",
       "    <tr>\n",
       "      <th>3611723</th>\n",
       "      <td>22</td>\n",
       "      <td>51220699</td>\n",
       "      <td>C</td>\n",
       "      <td>T</td>\n",
       "      <td>0.000123</td>\n",
       "      <td>134626</td>\n",
       "      <td>-0.301791</td>\n",
       "      <td>0.407232</td>\n",
       "      <td>0.338523</td>\n",
       "    </tr>\n",
       "    <tr>\n",
       "      <th>3611724</th>\n",
       "      <td>22</td>\n",
       "      <td>51220734</td>\n",
       "      <td>T</td>\n",
       "      <td>C</td>\n",
       "      <td>0.007777</td>\n",
       "      <td>122666</td>\n",
       "      <td>0.046669</td>\n",
       "      <td>0.053147</td>\n",
       "      <td>0.420356</td>\n",
       "    </tr>\n",
       "    <tr>\n",
       "      <th>3611725</th>\n",
       "      <td>22</td>\n",
       "      <td>51220757</td>\n",
       "      <td>G</td>\n",
       "      <td>A</td>\n",
       "      <td>0.000104</td>\n",
       "      <td>125234</td>\n",
       "      <td>0.108575</td>\n",
       "      <td>0.442887</td>\n",
       "      <td>0.093483</td>\n",
       "    </tr>\n",
       "  </tbody>\n",
       "</table>\n",
       "<p>3611726 rows × 9 columns</p>\n",
       "</div>"
      ],
      "text/plain": [
       "         CHR       POS A0      A1  ...       n      BETA        SE         P\n",
       "0          1    861242  G       A  ...  122197 -1.835250  0.942524  1.288060\n",
       "1          1    861261  G       A  ...  131346 -0.115103  0.066009  1.090410\n",
       "2          1    861265  C       T  ...  132193 -0.617699  0.866059  0.322664\n",
       "3          1    861288  G  GGCTCT  ...  134780  0.770775  0.740245  0.526129\n",
       "4          1    861292  C       G  ...  134921 -0.099465  1.158640  0.030776\n",
       "...      ...       ... ..     ...  ...     ...       ...       ...       ...\n",
       "3611721   22  51220663  G       A  ...  134571 -0.095770  0.479395  0.074865\n",
       "3611722   22  51220671  C       T  ...  134616 -0.217495  0.135785  0.961741\n",
       "3611723   22  51220699  C       T  ...  134626 -0.301791  0.407232  0.338523\n",
       "3611724   22  51220734  T       C  ...  122666  0.046669  0.053147  0.420356\n",
       "3611725   22  51220757  G       A  ...  125234  0.108575  0.442887  0.093483\n",
       "\n",
       "[3611726 rows x 9 columns]"
      ]
     },
     "execution_count": 46,
     "metadata": {},
     "output_type": "execute_result"
    }
   ],
   "source": [
    "sumstats"
   ]
  },
  {
   "cell_type": "code",
   "execution_count": 47,
   "id": "1081038b-21d0-46db-a9a4-1822db5989c9",
   "metadata": {
    "kernel": "SoS"
   },
   "outputs": [
    {
     "data": {
      "text/html": [
       "<div>\n",
       "<style scoped>\n",
       "    .dataframe tbody tr th:only-of-type {\n",
       "        vertical-align: middle;\n",
       "    }\n",
       "\n",
       "    .dataframe tbody tr th {\n",
       "        vertical-align: top;\n",
       "    }\n",
       "\n",
       "    .dataframe thead th {\n",
       "        text-align: right;\n",
       "    }\n",
       "</style>\n",
       "<table border=\"1\" class=\"dataframe\">\n",
       "  <thead>\n",
       "    <tr style=\"text-align: right;\">\n",
       "      <th></th>\n",
       "      <th>CHR</th>\n",
       "      <th>POS</th>\n",
       "      <th>A0</th>\n",
       "      <th>A1</th>\n",
       "      <th>freq</th>\n",
       "      <th>n</th>\n",
       "      <th>BETA</th>\n",
       "      <th>SE</th>\n",
       "      <th>P</th>\n",
       "    </tr>\n",
       "  </thead>\n",
       "  <tbody>\n",
       "    <tr>\n",
       "      <th>2889943</th>\n",
       "      <td>17</td>\n",
       "      <td>21201719</td>\n",
       "      <td>T</td>\n",
       "      <td>C</td>\n",
       "      <td>0.499996</td>\n",
       "      <td>135005</td>\n",
       "      <td>-7.19016</td>\n",
       "      <td>2.88993</td>\n",
       "      <td>NaN</td>\n",
       "    </tr>\n",
       "  </tbody>\n",
       "</table>\n",
       "</div>"
      ],
      "text/plain": [
       "         CHR       POS A0 A1      freq       n     BETA       SE   P\n",
       "2889943   17  21201719  T  C  0.499996  135005 -7.19016  2.88993 NaN"
      ]
     },
     "execution_count": 47,
     "metadata": {},
     "output_type": "execute_result"
    }
   ],
   "source": [
    "sumstats[sumstats['POS']==21201719]"
   ]
  },
  {
   "cell_type": "markdown",
   "id": "64ce661a-42cf-494b-8e0f-5dc637860d7a",
   "metadata": {
    "kernel": "SoS"
   },
   "source": [
    "## Using perfect_genecov = False"
   ]
  },
  {
   "cell_type": "code",
   "execution_count": null,
   "id": "0f9220d8-07e0-4f57-9eec-bdb4dba94bb1",
   "metadata": {
    "kernel": "Bash",
    "tags": []
   },
   "outputs": [],
   "source": [
    "sumstatsFiles=`echo ~/output/*hg19.snp_stats_original_columns.gz`\n",
    "sos run ~/project/UKBB_GWAS_dev/workflow/MTAG.ipynb mtag \\\n",
    "--cwd ~/output \\\n",
    "--sumstatsFiles $sumstatsFiles \\\n",
    "--formatFile ~/project/bioworkflows/GWAS/data/mtag_template.yml \\\n",
    "--ld_ref_panel ~/output/ldscores_ukbb_per_chrom \\\n",
    "--job_name 'f2247_f2257_combined'"
   ]
  },
  {
   "cell_type": "markdown",
   "id": "c55f677f-5720-4f1b-85da-3cee16b4c1ee",
   "metadata": {
    "kernel": "SoS"
   },
   "source": [
    "## Using perfect_genecov = True (use only 2 traits)"
   ]
  },
  {
   "cell_type": "code",
   "execution_count": null,
   "id": "f5b93bb8-e454-4118-a5c1-ccbf22f40c6e",
   "metadata": {
    "kernel": "Bash"
   },
   "outputs": [],
   "source": [
    "sumstatsFiles=`echo ~/output/*hg19.snp_stats_original_columns.gz`\n",
    "sos run ~/project/UKBB_GWAS_dev/workflow/MTAG.ipynb mtag \\\n",
    "--cwd ~/output \\\n",
    "--sumstatsFiles $sumstatsFiles \\\n",
    "--formatFile ~/project/bioworkflows/GWAS/data/mtag_template.yml \\\n",
    "--ld_ref_panel ~/output/ldscores_ukbb_per_chrom \\\n",
    "--job_name 'combined_f2247' \\\n",
    "-s build"
   ]
  },
  {
   "cell_type": "markdown",
   "id": "3bc3c96b-16af-4b89-8d2f-7ce88bf6eab0",
   "metadata": {
    "kernel": "SoS"
   },
   "source": [
    "## Create manhattan and q-q plots for MTAG analysis"
   ]
  },
  {
   "cell_type": "code",
   "execution_count": 1,
   "id": "b85f5838-1a01-4b4a-8b46-f9d2b4201870",
   "metadata": {
    "kernel": "R",
    "tags": []
   },
   "outputs": [
    {
     "name": "stderr",
     "output_type": "stream",
     "text": [
      "/home/dmc2245/miniconda3/lib/python3.8/site-packages/sos_notebook/kernel.py:1334: DeprecationWarning: Kernel._parent_header is deprecated in ipykernel 6. Use .get_parent()\n",
      "  msg['msg_id'] = self._parent_header['header']['msg_id']\n"
     ]
    }
   ],
   "source": [
    "library('qqman')"
   ]
  },
  {
   "cell_type": "code",
   "execution_count": 13,
   "id": "7938950f-466b-47d9-8ff4-264b0f7db41b",
   "metadata": {
    "kernel": "R",
    "tags": []
   },
   "outputs": [
    {
     "name": "stderr",
     "output_type": "stream",
     "text": [
      "\n",
      "\n",
      "For example usage please run: vignette('qqman')\n",
      "\n",
      "\n",
      "\n",
      "Citation appreciated but not required:\n",
      "\n",
      "Turner, (2018). qqman: an R package for visualizing GWAS results using Q-Q and manhattan plots. Journal of Open Source Software, 3(25), 731, https://doi.org/10.21105/joss.00731.\n",
      "\n",
      "\n",
      "\n"
     ]
    }
   ],
   "source": [
    "data <- read.table('~/output/f2247_f2257_combined_trait_1.txt', sep='\\t', header=T)"
   ]
  },
  {
   "cell_type": "code",
   "execution_count": 14,
   "id": "7d0ae020-8d41-459b-9f88-4a888fc19c71",
   "metadata": {
    "kernel": "R"
   },
   "outputs": [
    {
     "data": {
      "text/html": [
       "<table class=\"dataframe\">\n",
       "<caption>A data.frame: 6 x 12</caption>\n",
       "<thead>\n",
       "\t<tr><th></th><th scope=col>SNP</th><th scope=col>CHR</th><th scope=col>BP</th><th scope=col>A1</th><th scope=col>A2</th><th scope=col>Z</th><th scope=col>N</th><th scope=col>FRQ</th><th scope=col>mtag_beta</th><th scope=col>mtag_se</th><th scope=col>mtag_z</th><th scope=col>mtag_pval</th></tr>\n",
       "\t<tr><th></th><th scope=col>&lt;fct&gt;</th><th scope=col>&lt;int&gt;</th><th scope=col>&lt;int&gt;</th><th scope=col>&lt;fct&gt;</th><th scope=col>&lt;fct&gt;</th><th scope=col>&lt;dbl&gt;</th><th scope=col>&lt;int&gt;</th><th scope=col>&lt;dbl&gt;</th><th scope=col>&lt;dbl&gt;</th><th scope=col>&lt;dbl&gt;</th><th scope=col>&lt;dbl&gt;</th><th scope=col>&lt;dbl&gt;</th></tr>\n",
       "</thead>\n",
       "<tbody>\n",
       "\t<tr><th scope=row>1</th><td>1:861242:G:A</td><td>1</td><td>861242</td><td>A</td><td>G</td><td>-1.9471653</td><td>122197</td><td>2.04588e-05</td><td>-0.220578963</td><td>0.096539681</td><td>-2.2848528</td><td>0.02232146</td></tr>\n",
       "\t<tr><th scope=row>2</th><td>1:861261:G:A</td><td>1</td><td>861261</td><td>A</td><td>G</td><td>-1.7437365</td><td>131346</td><td>4.60235e-03</td><td> 0.004223367</td><td>0.005838763</td><td> 0.7233324</td><td>0.46947569</td></tr>\n",
       "\t<tr><th scope=row>3</th><td>1:861265:C:T</td><td>1</td><td>861265</td><td>T</td><td>C</td><td>-0.7132297</td><td>132193</td><td>3.02588e-05</td><td> 0.056833573</td><td>0.071146345</td><td> 0.7988263</td><td>0.42439113</td></tr>\n",
       "\t<tr><th scope=row>4</th><td>1:861293:T:G</td><td>1</td><td>861293</td><td>G</td><td>T</td><td> 0.3144757</td><td>134922</td><td>1.48234e-05</td><td>-0.066796219</td><td>0.098471697</td><td>-0.6783291</td><td>0.49756304</td></tr>\n",
       "\t<tr><th scope=row>5</th><td>1:861295:C:T</td><td>1</td><td>861295</td><td>T</td><td>C</td><td> 1.3215217</td><td>134942</td><td>5.92847e-05</td><td>-0.063072407</td><td>0.049228586</td><td>-1.2812151</td><td>0.20011812</td></tr>\n",
       "\t<tr><th scope=row>6</th><td>1:861297:C:T</td><td>1</td><td>861297</td><td>T</td><td>C</td><td> 0.4621964</td><td>134968</td><td>1.85229e-05</td><td> 0.056632386</td><td>0.088042519</td><td> 0.6432390</td><td>0.52006900</td></tr>\n",
       "</tbody>\n",
       "</table>\n"
      ],
      "text/latex": [
       "A data.frame: 6 x 12\n",
       "\\begin{tabular}{r|llllllllllll}\n",
       "  & SNP & CHR & BP & A1 & A2 & Z & N & FRQ & mtag\\_beta & mtag\\_se & mtag\\_z & mtag\\_pval\\\\\n",
       "  & <fct> & <int> & <int> & <fct> & <fct> & <dbl> & <int> & <dbl> & <dbl> & <dbl> & <dbl> & <dbl>\\\\\n",
       "\\hline\n",
       "\t1 & 1:861242:G:A & 1 & 861242 & A & G & -1.9471653 & 122197 & 2.04588e-05 & -0.220578963 & 0.096539681 & -2.2848528 & 0.02232146\\\\\n",
       "\t2 & 1:861261:G:A & 1 & 861261 & A & G & -1.7437365 & 131346 & 4.60235e-03 &  0.004223367 & 0.005838763 &  0.7233324 & 0.46947569\\\\\n",
       "\t3 & 1:861265:C:T & 1 & 861265 & T & C & -0.7132297 & 132193 & 3.02588e-05 &  0.056833573 & 0.071146345 &  0.7988263 & 0.42439113\\\\\n",
       "\t4 & 1:861293:T:G & 1 & 861293 & G & T &  0.3144757 & 134922 & 1.48234e-05 & -0.066796219 & 0.098471697 & -0.6783291 & 0.49756304\\\\\n",
       "\t5 & 1:861295:C:T & 1 & 861295 & T & C &  1.3215217 & 134942 & 5.92847e-05 & -0.063072407 & 0.049228586 & -1.2812151 & 0.20011812\\\\\n",
       "\t6 & 1:861297:C:T & 1 & 861297 & T & C &  0.4621964 & 134968 & 1.85229e-05 &  0.056632386 & 0.088042519 &  0.6432390 & 0.52006900\\\\\n",
       "\\end{tabular}\n"
      ],
      "text/markdown": [
       "\n",
       "A data.frame: 6 x 12\n",
       "\n",
       "| <!--/--> | SNP &lt;fct&gt; | CHR &lt;int&gt; | BP &lt;int&gt; | A1 &lt;fct&gt; | A2 &lt;fct&gt; | Z &lt;dbl&gt; | N &lt;int&gt; | FRQ &lt;dbl&gt; | mtag_beta &lt;dbl&gt; | mtag_se &lt;dbl&gt; | mtag_z &lt;dbl&gt; | mtag_pval &lt;dbl&gt; |\n",
       "|---|---|---|---|---|---|---|---|---|---|---|---|---|\n",
       "| 1 | 1:861242:G:A | 1 | 861242 | A | G | -1.9471653 | 122197 | 2.04588e-05 | -0.220578963 | 0.096539681 | -2.2848528 | 0.02232146 |\n",
       "| 2 | 1:861261:G:A | 1 | 861261 | A | G | -1.7437365 | 131346 | 4.60235e-03 |  0.004223367 | 0.005838763 |  0.7233324 | 0.46947569 |\n",
       "| 3 | 1:861265:C:T | 1 | 861265 | T | C | -0.7132297 | 132193 | 3.02588e-05 |  0.056833573 | 0.071146345 |  0.7988263 | 0.42439113 |\n",
       "| 4 | 1:861293:T:G | 1 | 861293 | G | T |  0.3144757 | 134922 | 1.48234e-05 | -0.066796219 | 0.098471697 | -0.6783291 | 0.49756304 |\n",
       "| 5 | 1:861295:C:T | 1 | 861295 | T | C |  1.3215217 | 134942 | 5.92847e-05 | -0.063072407 | 0.049228586 | -1.2812151 | 0.20011812 |\n",
       "| 6 | 1:861297:C:T | 1 | 861297 | T | C |  0.4621964 | 134968 | 1.85229e-05 |  0.056632386 | 0.088042519 |  0.6432390 | 0.52006900 |\n",
       "\n"
      ],
      "text/plain": [
       "  SNP          CHR BP     A1 A2 Z          N      FRQ         mtag_beta   \n",
       "1 1:861242:G:A 1   861242 A  G  -1.9471653 122197 2.04588e-05 -0.220578963\n",
       "2 1:861261:G:A 1   861261 A  G  -1.7437365 131346 4.60235e-03  0.004223367\n",
       "3 1:861265:C:T 1   861265 T  C  -0.7132297 132193 3.02588e-05  0.056833573\n",
       "4 1:861293:T:G 1   861293 G  T   0.3144757 134922 1.48234e-05 -0.066796219\n",
       "5 1:861295:C:T 1   861295 T  C   1.3215217 134942 5.92847e-05 -0.063072407\n",
       "6 1:861297:C:T 1   861297 T  C   0.4621964 134968 1.85229e-05  0.056632386\n",
       "  mtag_se     mtag_z     mtag_pval \n",
       "1 0.096539681 -2.2848528 0.02232146\n",
       "2 0.005838763  0.7233324 0.46947569\n",
       "3 0.071146345  0.7988263 0.42439113\n",
       "4 0.098471697 -0.6783291 0.49756304\n",
       "5 0.049228586 -1.2812151 0.20011812\n",
       "6 0.088042519  0.6432390 0.52006900"
      ]
     },
     "metadata": {},
     "output_type": "display_data"
    }
   ],
   "source": [
    "head(data)"
   ]
  },
  {
   "cell_type": "code",
   "execution_count": 23,
   "id": "fd99fca8-4fbd-4612-80d7-ddb0b68ae0f9",
   "metadata": {
    "kernel": "R"
   },
   "outputs": [
    {
     "name": "stderr",
     "output_type": "stream",
     "text": [
      "\n",
      "Attaching package: ‘dplyr’\n",
      "\n",
      "\n",
      "The following objects are masked from ‘package:stats’:\n",
      "\n",
      "    filter, lag\n",
      "\n",
      "\n",
      "The following objects are masked from ‘package:base’:\n",
      "\n",
      "    intersect, setdiff, setequal, union\n",
      "\n",
      "\n"
     ]
    }
   ],
   "source": [
    "library(dplyr)\n",
    "by_chr <- data%>% group_by(CHR)"
   ]
  },
  {
   "cell_type": "code",
   "execution_count": 25,
   "id": "c8445004-00d8-4304-bc25-e6a69a7f6087",
   "metadata": {
    "kernel": "R"
   },
   "outputs": [
    {
     "data": {
      "text/html": [
       "<table class=\"dataframe\">\n",
       "<caption>A tibble: 23 x 2</caption>\n",
       "<thead>\n",
       "\t<tr><th scope=col>CHR</th><th scope=col>n</th></tr>\n",
       "\t<tr><th scope=col>&lt;int&gt;</th><th scope=col>&lt;int&gt;</th></tr>\n",
       "</thead>\n",
       "<tbody>\n",
       "\t<tr><td> 0</td><td>     8</td></tr>\n",
       "\t<tr><td> 1</td><td>296515</td></tr>\n",
       "\t<tr><td> 2</td><td>205691</td></tr>\n",
       "\t<tr><td> 3</td><td>164166</td></tr>\n",
       "\t<tr><td> 4</td><td>109176</td></tr>\n",
       "\t<tr><td> 5</td><td>122594</td></tr>\n",
       "\t<tr><td> 6</td><td>139051</td></tr>\n",
       "\t<tr><td> 7</td><td>141927</td></tr>\n",
       "\t<tr><td> 8</td><td>104810</td></tr>\n",
       "\t<tr><td> 9</td><td>131128</td></tr>\n",
       "\t<tr><td>10</td><td>119402</td></tr>\n",
       "\t<tr><td>11</td><td>180254</td></tr>\n",
       "\t<tr><td>12</td><td>152740</td></tr>\n",
       "\t<tr><td>13</td><td> 49311</td></tr>\n",
       "\t<tr><td>14</td><td> 89930</td></tr>\n",
       "\t<tr><td>15</td><td> 98923</td></tr>\n",
       "\t<tr><td>16</td><td>156587</td></tr>\n",
       "\t<tr><td>17</td><td>183243</td></tr>\n",
       "\t<tr><td>18</td><td> 44873</td></tr>\n",
       "\t<tr><td>19</td><td>224413</td></tr>\n",
       "\t<tr><td>20</td><td> 80136</td></tr>\n",
       "\t<tr><td>21</td><td> 35687</td></tr>\n",
       "\t<tr><td>22</td><td> 76310</td></tr>\n",
       "</tbody>\n",
       "</table>\n"
      ],
      "text/latex": [
       "A tibble: 23 x 2\n",
       "\\begin{tabular}{ll}\n",
       " CHR & n\\\\\n",
       " <int> & <int>\\\\\n",
       "\\hline\n",
       "\t  0 &      8\\\\\n",
       "\t  1 & 296515\\\\\n",
       "\t  2 & 205691\\\\\n",
       "\t  3 & 164166\\\\\n",
       "\t  4 & 109176\\\\\n",
       "\t  5 & 122594\\\\\n",
       "\t  6 & 139051\\\\\n",
       "\t  7 & 141927\\\\\n",
       "\t  8 & 104810\\\\\n",
       "\t  9 & 131128\\\\\n",
       "\t 10 & 119402\\\\\n",
       "\t 11 & 180254\\\\\n",
       "\t 12 & 152740\\\\\n",
       "\t 13 &  49311\\\\\n",
       "\t 14 &  89930\\\\\n",
       "\t 15 &  98923\\\\\n",
       "\t 16 & 156587\\\\\n",
       "\t 17 & 183243\\\\\n",
       "\t 18 &  44873\\\\\n",
       "\t 19 & 224413\\\\\n",
       "\t 20 &  80136\\\\\n",
       "\t 21 &  35687\\\\\n",
       "\t 22 &  76310\\\\\n",
       "\\end{tabular}\n"
      ],
      "text/markdown": [
       "\n",
       "A tibble: 23 x 2\n",
       "\n",
       "| CHR &lt;int&gt; | n &lt;int&gt; |\n",
       "|---|---|\n",
       "|  0 |      8 |\n",
       "|  1 | 296515 |\n",
       "|  2 | 205691 |\n",
       "|  3 | 164166 |\n",
       "|  4 | 109176 |\n",
       "|  5 | 122594 |\n",
       "|  6 | 139051 |\n",
       "|  7 | 141927 |\n",
       "|  8 | 104810 |\n",
       "|  9 | 131128 |\n",
       "| 10 | 119402 |\n",
       "| 11 | 180254 |\n",
       "| 12 | 152740 |\n",
       "| 13 |  49311 |\n",
       "| 14 |  89930 |\n",
       "| 15 |  98923 |\n",
       "| 16 | 156587 |\n",
       "| 17 | 183243 |\n",
       "| 18 |  44873 |\n",
       "| 19 | 224413 |\n",
       "| 20 |  80136 |\n",
       "| 21 |  35687 |\n",
       "| 22 |  76310 |\n",
       "\n"
      ],
      "text/plain": [
       "   CHR n     \n",
       "1   0       8\n",
       "2   1  296515\n",
       "3   2  205691\n",
       "4   3  164166\n",
       "5   4  109176\n",
       "6   5  122594\n",
       "7   6  139051\n",
       "8   7  141927\n",
       "9   8  104810\n",
       "10  9  131128\n",
       "11 10  119402\n",
       "12 11  180254\n",
       "13 12  152740\n",
       "14 13   49311\n",
       "15 14   89930\n",
       "16 15   98923\n",
       "17 16  156587\n",
       "18 17  183243\n",
       "19 18   44873\n",
       "20 19  224413\n",
       "21 20   80136\n",
       "22 21   35687\n",
       "23 22   76310"
      ]
     },
     "metadata": {},
     "output_type": "display_data"
    }
   ],
   "source": [
    "by_chr %>% summarise(n = n())"
   ]
  },
  {
   "cell_type": "code",
   "execution_count": 26,
   "id": "fb0e81e6-7454-4c16-b779-d55c4c8f7d40",
   "metadata": {
    "kernel": "R"
   },
   "outputs": [],
   "source": [
    "data2<-subset(data, CHR!=0)"
   ]
  },
  {
   "cell_type": "code",
   "execution_count": 27,
   "id": "43650f32-abb9-404b-a9a9-22ef578d25b5",
   "metadata": {
    "kernel": "R",
    "tags": []
   },
   "outputs": [
    {
     "data": {
      "text/html": [
       "<strong>png:</strong> 2"
      ],
      "text/latex": [
       "\\textbf{png:} 2"
      ],
      "text/markdown": [
       "**png:** 2"
      ],
      "text/plain": [
       "png \n",
       "  2 "
      ]
     },
     "metadata": {},
     "output_type": "display_data"
    }
   ],
   "source": [
    "lambda <- median(qchisq(1-data2$mtag_pval,1), na.rm=TRUE)/qchisq(0.5,1)\n",
    "# Creating manhattan plot\n",
    "png('~/output/combined_trait_1.manh_plot.png', width = 6, height = 4, unit='in', res=300)\n",
    "manhattan_plot <- manhattan(data2, chr='CHR', bp='BP', snp='SNP', p='mtag_pval', main = 'Manhattan plot for combined_trait_1.txt', cex = 0.6, \n",
    "cex.axis = 0.9, col = c(\"blue4\", \"orange3\"), chrlabs = as.character(c(1:22)))\n",
    "dev.off()"
   ]
  },
  {
   "cell_type": "code",
   "execution_count": 28,
   "id": "5ec8de38-dd24-4f06-bf65-7ff705944d45",
   "metadata": {
    "kernel": "R"
   },
   "outputs": [
    {
     "data": {
      "text/html": [
       "2.59431182262323"
      ],
      "text/latex": [
       "2.59431182262323"
      ],
      "text/markdown": [
       "2.59431182262323"
      ],
      "text/plain": [
       "[1] 2.594312"
      ]
     },
     "metadata": {},
     "output_type": "display_data"
    }
   ],
   "source": [
    "lambda"
   ]
  },
  {
   "cell_type": "code",
   "execution_count": 20,
   "id": "0e02701e-c4dc-49b0-85fe-a3ede47ed074",
   "metadata": {
    "kernel": "R"
   },
   "outputs": [
    {
     "data": {
      "text/html": [
       "<strong>$xpd</strong> = FALSE"
      ],
      "text/latex": [
       "\\textbf{\\$xpd} = FALSE"
      ],
      "text/markdown": [
       "**$xpd** = FALSE"
      ],
      "text/plain": [
       "$xpd\n",
       "[1] FALSE\n"
      ]
     },
     "metadata": {},
     "output_type": "display_data"
    }
   ],
   "source": [
    "manhattan_plot"
   ]
  },
  {
   "cell_type": "code",
   "execution_count": 30,
   "id": "77786d30-dc73-4058-9120-0ce490a62071",
   "metadata": {
    "kernel": "R",
    "tags": []
   },
   "outputs": [
    {
     "data": {
      "text/html": [
       "<strong>png:</strong> 2"
      ],
      "text/latex": [
       "\\textbf{png:} 2"
      ],
      "text/markdown": [
       "**png:** 2"
      ],
      "text/plain": [
       "png \n",
       "  2 "
      ]
     },
     "metadata": {},
     "output_type": "display_data"
    }
   ],
   "source": [
    "# Creating qqplot\n",
    "png('~/output/combined_trait_1.qqplot.png', width = 5, height = 5, unit='in', res=300)\n",
    "qq_plot <- qq(data2$mtag_pval, main = 'QQ Plot for combined_trait_1', xlim = c(0, 8), pch = 18, col = \"blue4\", cex = 1.5, las = 1)\n",
    "dev.off()"
   ]
  },
  {
   "cell_type": "code",
   "execution_count": 31,
   "id": "9451b0b1-7e60-4f80-a901-2139b74b4534",
   "metadata": {
    "kernel": "R"
   },
   "outputs": [],
   "source": [
    "f2247 <- read.table('~/output/f2247_f2257_combined_trait_2.txt', sep='\\t', header=T)"
   ]
  },
  {
   "cell_type": "code",
   "execution_count": 32,
   "id": "823bf2aa-48e5-4690-9553-3acbadf77e32",
   "metadata": {
    "kernel": "R"
   },
   "outputs": [
    {
     "data": {
      "text/html": [
       "<strong>png:</strong> 2"
      ],
      "text/latex": [
       "\\textbf{png:} 2"
      ],
      "text/markdown": [
       "**png:** 2"
      ],
      "text/plain": [
       "png \n",
       "  2 "
      ]
     },
     "metadata": {},
     "output_type": "display_data"
    },
    {
     "data": {
      "text/html": [
       "<strong>png:</strong> 2"
      ],
      "text/latex": [
       "\\textbf{png:} 2"
      ],
      "text/markdown": [
       "**png:** 2"
      ],
      "text/plain": [
       "png \n",
       "  2 "
      ]
     },
     "metadata": {},
     "output_type": "display_data"
    }
   ],
   "source": [
    "f2247_2<-subset(f2247, CHR!=0)\n",
    "lambda <- median(qchisq(1-f2247_2$mtag_pval,1), na.rm=TRUE)/qchisq(0.5,1)\n",
    "# Creating manhattan plot\n",
    "png('~/output/f2247_trait_2.txt.manh_plot.png', width = 6, height = 4, unit='in', res=300)\n",
    "manhattan_plot <- manhattan(f2247_2, chr='CHR', bp='BP', snp='SNP', p='mtag_pval', main = 'Manhattan plot for f2247_trait_2.txt', cex = 0.6, \n",
    "cex.axis = 0.9, col = c(\"blue4\", \"orange3\"), chrlabs = as.character(c(1:22)))\n",
    "dev.off()\n",
    "# Creating qqplot\n",
    "png('~/output/f2247_trait_2.qqplot.png', width = 5, height = 5, unit='in', res=300)\n",
    "qq_plot <- qq(f2247_2$mtag_pval, main = 'QQ Plot for f2247_trait_2', xlim = c(0, 8), pch = 18, col = \"blue4\", cex = 1.5, las = 1)\n",
    "dev.off()"
   ]
  },
  {
   "cell_type": "code",
   "execution_count": 33,
   "id": "276d7914-dad8-4d0f-8a31-3c1399f4d294",
   "metadata": {
    "kernel": "R"
   },
   "outputs": [
    {
     "data": {
      "text/html": [
       "2.04303443008984"
      ],
      "text/latex": [
       "2.04303443008984"
      ],
      "text/markdown": [
       "2.04303443008984"
      ],
      "text/plain": [
       "[1] 2.043034"
      ]
     },
     "metadata": {},
     "output_type": "display_data"
    }
   ],
   "source": [
    "lambda"
   ]
  },
  {
   "cell_type": "code",
   "execution_count": 34,
   "id": "6f8f6cce-00ee-4643-aaab-89e8d61d9be0",
   "metadata": {
    "kernel": "R"
   },
   "outputs": [],
   "source": [
    "f2257 <- read.table('~/output/f2247_f2257_combined_trait_3.txt', sep='\\t', header=T)"
   ]
  },
  {
   "cell_type": "code",
   "execution_count": 35,
   "id": "68d3174d-7ff8-46bf-871d-1407bb4f807c",
   "metadata": {
    "kernel": "R"
   },
   "outputs": [
    {
     "data": {
      "text/html": [
       "<strong>png:</strong> 2"
      ],
      "text/latex": [
       "\\textbf{png:} 2"
      ],
      "text/markdown": [
       "**png:** 2"
      ],
      "text/plain": [
       "png \n",
       "  2 "
      ]
     },
     "metadata": {},
     "output_type": "display_data"
    },
    {
     "data": {
      "text/html": [
       "<strong>png:</strong> 2"
      ],
      "text/latex": [
       "\\textbf{png:} 2"
      ],
      "text/markdown": [
       "**png:** 2"
      ],
      "text/plain": [
       "png \n",
       "  2 "
      ]
     },
     "metadata": {},
     "output_type": "display_data"
    }
   ],
   "source": [
    "f2257_2<-subset(f2257, CHR!=0)\n",
    "lambda <- median(qchisq(1-f2257_2$mtag_pval,1), na.rm=TRUE)/qchisq(0.5,1)\n",
    "# Creating manhattan plot\n",
    "png('~/output/f2257_trait_3.txt.manh_plot.png', width = 6, height = 4, unit='in', res=300)\n",
    "manhattan_plot <- manhattan(f2257_2, chr='CHR', bp='BP', snp='SNP', p='mtag_pval', main = 'Manhattan plot for f2257_trait_3.txt', cex = 0.6, \n",
    "cex.axis = 0.9, col = c(\"blue4\", \"orange3\"), chrlabs = as.character(c(1:22)))\n",
    "dev.off()\n",
    "# Creating qqplot\n",
    "png('~/output/f2257_trait_3.qqplot.png', width = 5, height = 5, unit='in', res=300)\n",
    "qq_plot <- qq(f2257_2$mtag_pval, main = 'QQ Plot for f2257_trait_3', xlim = c(0, 8), pch = 18, col = \"blue4\", cex = 1.5, las = 1)\n",
    "dev.off()"
   ]
  },
  {
   "cell_type": "markdown",
   "id": "f70c45fb-29ae-4ddc-a859-b36a5af5d658",
   "metadata": {
    "kernel": "R"
   },
   "source": [
    "# Using perfect_genecov =True"
   ]
  },
  {
   "cell_type": "code",
   "execution_count": 14,
   "id": "35348ff0-ad99-4a9e-9e0c-89102104ec13",
   "metadata": {
    "kernel": "R"
   },
   "outputs": [
    {
     "name": "stderr",
     "output_type": "stream",
     "text": [
      "\n",
      "Attaching package: ‘dplyr’\n",
      "\n",
      "\n",
      "The following objects are masked from ‘package:stats’:\n",
      "\n",
      "    filter, lag\n",
      "\n",
      "\n",
      "The following objects are masked from ‘package:base’:\n",
      "\n",
      "    intersect, setdiff, setequal, union\n",
      "\n",
      "\n"
     ]
    }
   ],
   "source": [
    "library(dplyr)"
   ]
  },
  {
   "cell_type": "code",
   "execution_count": 10,
   "id": "7da4de8d-5dde-4725-83b5-b7844dd998af",
   "metadata": {
    "kernel": "R"
   },
   "outputs": [],
   "source": [
    "comb <- read.table('~/output/combined_f2247_f2257_trait_1.txt', sep='\\t', header=T)"
   ]
  },
  {
   "cell_type": "code",
   "execution_count": 11,
   "id": "d71056ab-4dfe-44c0-8adc-31115401eefd",
   "metadata": {
    "kernel": "R"
   },
   "outputs": [],
   "source": [
    "f2247 <- read.table('~/output/combined_f2247_f2257_trait_2.txt', sep='\\t', header=T)"
   ]
  },
  {
   "cell_type": "code",
   "execution_count": 12,
   "id": "1b979a3c-1cbd-49af-96a0-aa9e6463abac",
   "metadata": {
    "kernel": "R"
   },
   "outputs": [],
   "source": [
    "f2257 <- read.table('~/output/combined_f2247_f2257_trait_3.txt', sep='\\t', header=T)"
   ]
  },
  {
   "cell_type": "code",
   "execution_count": 7,
   "id": "f1195e2a-c8db-4c72-bf06-29ca05adfb38",
   "metadata": {
    "kernel": "R"
   },
   "outputs": [
    {
     "data": {
      "text/html": [
       "0.993556767634667"
      ],
      "text/latex": [
       "0.993556767634667"
      ],
      "text/markdown": [
       "0.993556767634667"
      ],
      "text/plain": [
       "[1] 0.9935568"
      ]
     },
     "metadata": {},
     "output_type": "display_data"
    },
    {
     "data": {
      "text/html": [
       "<strong>png:</strong> 2"
      ],
      "text/latex": [
       "\\textbf{png:} 2"
      ],
      "text/markdown": [
       "**png:** 2"
      ],
      "text/plain": [
       "png \n",
       "  2 "
      ]
     },
     "metadata": {},
     "output_type": "display_data"
    },
    {
     "data": {
      "text/html": [
       "<strong>png:</strong> 2"
      ],
      "text/latex": [
       "\\textbf{png:} 2"
      ],
      "text/markdown": [
       "**png:** 2"
      ],
      "text/plain": [
       "png \n",
       "  2 "
      ]
     },
     "metadata": {},
     "output_type": "display_data"
    }
   ],
   "source": [
    "comb2<-subset(comb, CHR!=0)\n",
    "lambda <- median(qchisq(1-comb2$mtag_pval,1), na.rm=TRUE)/qchisq(0.5,1)\n",
    "lambda\n",
    "# Creating manhattan plot\n",
    "png('~/output/combined_trait_1.manh_plot.png', width = 6, height = 4, unit='in', res=300)\n",
    "manhattan_plot <- manhattan(comb2, chr='CHR', bp='BP', snp='SNP', p='mtag_pval', main = 'Manhattan plot for combined_trait_1.txt', cex = 0.6, \n",
    "cex.axis = 0.9, col = c(\"blue4\", \"orange3\"), chrlabs = as.character(c(1:22)))\n",
    "dev.off()\n",
    "# Creating qqplot\n",
    "png('~/output/combined_trait_1.qqplot.png', width = 5, height = 5, unit='in', res=300)\n",
    "qq_plot <- qq(comb2$mtag_pval, main = 'QQ Plot for combined_trait_1', xlim = c(0, 8), pch = 18, col = \"blue4\", cex = 1.5, las = 1)\n",
    "dev.off()"
   ]
  },
  {
   "cell_type": "code",
   "execution_count": 15,
   "id": "05790f4e-2c20-42a4-888e-5d415d1adb64",
   "metadata": {
    "kernel": "R"
   },
   "outputs": [
    {
     "data": {
      "text/html": [
       "<table class=\"dataframe\">\n",
       "<caption>A data.frame: 7 x 12</caption>\n",
       "<thead>\n",
       "\t<tr><th scope=col>SNP</th><th scope=col>CHR</th><th scope=col>BP</th><th scope=col>A1</th><th scope=col>A2</th><th scope=col>Z</th><th scope=col>N</th><th scope=col>FRQ</th><th scope=col>mtag_beta</th><th scope=col>mtag_se</th><th scope=col>mtag_z</th><th scope=col>mtag_pval</th></tr>\n",
       "\t<tr><th scope=col>&lt;fct&gt;</th><th scope=col>&lt;int&gt;</th><th scope=col>&lt;int&gt;</th><th scope=col>&lt;fct&gt;</th><th scope=col>&lt;fct&gt;</th><th scope=col>&lt;dbl&gt;</th><th scope=col>&lt;int&gt;</th><th scope=col>&lt;dbl&gt;</th><th scope=col>&lt;dbl&gt;</th><th scope=col>&lt;dbl&gt;</th><th scope=col>&lt;dbl&gt;</th><th scope=col>&lt;dbl&gt;</th></tr>\n",
       "</thead>\n",
       "<tbody>\n",
       "\t<tr><td>5:272856:A:G  </td><td>5</td><td>  272856</td><td>G</td><td>A</td><td>8.751879</td><td>134993</td><td>0.000733371</td><td>0.54012150</td><td>0.060157920</td><td>8.978394</td><td>2.747480e-19</td></tr>\n",
       "\t<tr><td>5:272870:A:G  </td><td>5</td><td>  272870</td><td>G</td><td>A</td><td>8.809751</td><td>135001</td><td>0.000781476</td><td>0.52164023</td><td>0.058276629</td><td>8.951105</td><td>3.519413e-19</td></tr>\n",
       "\t<tr><td>5:73072354:T:C</td><td>5</td><td>73072354</td><td>C</td><td>T</td><td>5.721042</td><td>135002</td><td>0.467656000</td><td>0.01856597</td><td>0.003263771</td><td>5.688501</td><td>1.281591e-08</td></tr>\n",
       "\t<tr><td>5:73076511:C:A</td><td>5</td><td>73076511</td><td>A</td><td>C</td><td>6.248464</td><td>134977</td><td>0.502056000</td><td>0.01862337</td><td>0.003257259</td><td>5.717496</td><td>1.081049e-08</td></tr>\n",
       "\t<tr><td>5:73090261:T:C</td><td>5</td><td>73090261</td><td>C</td><td>T</td><td>5.594817</td><td>134575</td><td>0.524492000</td><td>0.01781597</td><td>0.003266061</td><td>5.454880</td><td>4.900596e-08</td></tr>\n",
       "\t<tr><td>6:43269029:A:C</td><td>6</td><td>43269029</td><td>C</td><td>A</td><td>6.830937</td><td>134976</td><td>0.608086000</td><td>0.01891800</td><td>0.003336156</td><td>5.670600</td><td>1.422985e-08</td></tr>\n",
       "\t<tr><td>6:43273604:A:G</td><td>6</td><td>43273604</td><td>G</td><td>A</td><td>6.829615</td><td>135010</td><td>0.608107000</td><td>0.01887795</td><td>0.003335753</td><td>5.659277</td><td>1.520118e-08</td></tr>\n",
       "</tbody>\n",
       "</table>\n"
      ],
      "text/latex": [
       "A data.frame: 7 x 12\n",
       "\\begin{tabular}{llllllllllll}\n",
       " SNP & CHR & BP & A1 & A2 & Z & N & FRQ & mtag\\_beta & mtag\\_se & mtag\\_z & mtag\\_pval\\\\\n",
       " <fct> & <int> & <int> & <fct> & <fct> & <dbl> & <int> & <dbl> & <dbl> & <dbl> & <dbl> & <dbl>\\\\\n",
       "\\hline\n",
       "\t 5:272856:A:G   & 5 &   272856 & G & A & 8.751879 & 134993 & 0.000733371 & 0.54012150 & 0.060157920 & 8.978394 & 2.747480e-19\\\\\n",
       "\t 5:272870:A:G   & 5 &   272870 & G & A & 8.809751 & 135001 & 0.000781476 & 0.52164023 & 0.058276629 & 8.951105 & 3.519413e-19\\\\\n",
       "\t 5:73072354:T:C & 5 & 73072354 & C & T & 5.721042 & 135002 & 0.467656000 & 0.01856597 & 0.003263771 & 5.688501 & 1.281591e-08\\\\\n",
       "\t 5:73076511:C:A & 5 & 73076511 & A & C & 6.248464 & 134977 & 0.502056000 & 0.01862337 & 0.003257259 & 5.717496 & 1.081049e-08\\\\\n",
       "\t 5:73090261:T:C & 5 & 73090261 & C & T & 5.594817 & 134575 & 0.524492000 & 0.01781597 & 0.003266061 & 5.454880 & 4.900596e-08\\\\\n",
       "\t 6:43269029:A:C & 6 & 43269029 & C & A & 6.830937 & 134976 & 0.608086000 & 0.01891800 & 0.003336156 & 5.670600 & 1.422985e-08\\\\\n",
       "\t 6:43273604:A:G & 6 & 43273604 & G & A & 6.829615 & 135010 & 0.608107000 & 0.01887795 & 0.003335753 & 5.659277 & 1.520118e-08\\\\\n",
       "\\end{tabular}\n"
      ],
      "text/markdown": [
       "\n",
       "A data.frame: 7 x 12\n",
       "\n",
       "| SNP &lt;fct&gt; | CHR &lt;int&gt; | BP &lt;int&gt; | A1 &lt;fct&gt; | A2 &lt;fct&gt; | Z &lt;dbl&gt; | N &lt;int&gt; | FRQ &lt;dbl&gt; | mtag_beta &lt;dbl&gt; | mtag_se &lt;dbl&gt; | mtag_z &lt;dbl&gt; | mtag_pval &lt;dbl&gt; |\n",
       "|---|---|---|---|---|---|---|---|---|---|---|---|\n",
       "| 5:272856:A:G   | 5 |   272856 | G | A | 8.751879 | 134993 | 0.000733371 | 0.54012150 | 0.060157920 | 8.978394 | 2.747480e-19 |\n",
       "| 5:272870:A:G   | 5 |   272870 | G | A | 8.809751 | 135001 | 0.000781476 | 0.52164023 | 0.058276629 | 8.951105 | 3.519413e-19 |\n",
       "| 5:73072354:T:C | 5 | 73072354 | C | T | 5.721042 | 135002 | 0.467656000 | 0.01856597 | 0.003263771 | 5.688501 | 1.281591e-08 |\n",
       "| 5:73076511:C:A | 5 | 73076511 | A | C | 6.248464 | 134977 | 0.502056000 | 0.01862337 | 0.003257259 | 5.717496 | 1.081049e-08 |\n",
       "| 5:73090261:T:C | 5 | 73090261 | C | T | 5.594817 | 134575 | 0.524492000 | 0.01781597 | 0.003266061 | 5.454880 | 4.900596e-08 |\n",
       "| 6:43269029:A:C | 6 | 43269029 | C | A | 6.830937 | 134976 | 0.608086000 | 0.01891800 | 0.003336156 | 5.670600 | 1.422985e-08 |\n",
       "| 6:43273604:A:G | 6 | 43273604 | G | A | 6.829615 | 135010 | 0.608107000 | 0.01887795 | 0.003335753 | 5.659277 | 1.520118e-08 |\n",
       "\n"
      ],
      "text/plain": [
       "  SNP            CHR BP       A1 A2 Z        N      FRQ         mtag_beta \n",
       "1 5:272856:A:G   5     272856 G  A  8.751879 134993 0.000733371 0.54012150\n",
       "2 5:272870:A:G   5     272870 G  A  8.809751 135001 0.000781476 0.52164023\n",
       "3 5:73072354:T:C 5   73072354 C  T  5.721042 135002 0.467656000 0.01856597\n",
       "4 5:73076511:C:A 5   73076511 A  C  6.248464 134977 0.502056000 0.01862337\n",
       "5 5:73090261:T:C 5   73090261 C  T  5.594817 134575 0.524492000 0.01781597\n",
       "6 6:43269029:A:C 6   43269029 C  A  6.830937 134976 0.608086000 0.01891800\n",
       "7 6:43273604:A:G 6   43273604 G  A  6.829615 135010 0.608107000 0.01887795\n",
       "  mtag_se     mtag_z   mtag_pval   \n",
       "1 0.060157920 8.978394 2.747480e-19\n",
       "2 0.058276629 8.951105 3.519413e-19\n",
       "3 0.003263771 5.688501 1.281591e-08\n",
       "4 0.003257259 5.717496 1.081049e-08\n",
       "5 0.003266061 5.454880 4.900596e-08\n",
       "6 0.003336156 5.670600 1.422985e-08\n",
       "7 0.003335753 5.659277 1.520118e-08"
      ]
     },
     "metadata": {},
     "output_type": "display_data"
    }
   ],
   "source": [
    "comb %>% filter(mtag_pval < 5e-08)"
   ]
  },
  {
   "cell_type": "code",
   "execution_count": 16,
   "id": "ba0474db-440a-40a8-8f26-b3096fa4cb12",
   "metadata": {
    "kernel": "R"
   },
   "outputs": [
    {
     "data": {
      "text/html": [
       "<table class=\"dataframe\">\n",
       "<caption>A data.frame: 7 x 12</caption>\n",
       "<thead>\n",
       "\t<tr><th scope=col>SNP</th><th scope=col>CHR</th><th scope=col>BP</th><th scope=col>A1</th><th scope=col>A2</th><th scope=col>Z</th><th scope=col>N</th><th scope=col>FRQ</th><th scope=col>mtag_beta</th><th scope=col>mtag_se</th><th scope=col>mtag_z</th><th scope=col>mtag_pval</th></tr>\n",
       "\t<tr><th scope=col>&lt;fct&gt;</th><th scope=col>&lt;int&gt;</th><th scope=col>&lt;int&gt;</th><th scope=col>&lt;fct&gt;</th><th scope=col>&lt;fct&gt;</th><th scope=col>&lt;dbl&gt;</th><th scope=col>&lt;int&gt;</th><th scope=col>&lt;dbl&gt;</th><th scope=col>&lt;dbl&gt;</th><th scope=col>&lt;dbl&gt;</th><th scope=col>&lt;dbl&gt;</th><th scope=col>&lt;dbl&gt;</th></tr>\n",
       "</thead>\n",
       "<tbody>\n",
       "\t<tr><td>5:272856:A:G  </td><td>5</td><td>  272856</td><td>G</td><td>A</td><td>9.336668</td><td>142084</td><td>0.000781228</td><td>0.59435263</td><td>0.066198102</td><td>8.978394</td><td>2.747480e-19</td></tr>\n",
       "\t<tr><td>5:272870:A:G  </td><td>5</td><td>  272870</td><td>G</td><td>A</td><td>9.369614</td><td>142093</td><td>0.000830442</td><td>0.57471728</td><td>0.064206294</td><td>8.951105</td><td>3.519413e-19</td></tr>\n",
       "\t<tr><td>5:73072354:T:C</td><td>5</td><td>73072354</td><td>C</td><td>T</td><td>6.031705</td><td>142094</td><td>0.468014000</td><td>0.02108467</td><td>0.003706542</td><td>5.688501</td><td>1.281591e-08</td></tr>\n",
       "\t<tr><td>5:73076511:C:A</td><td>5</td><td>73076511</td><td>A</td><td>C</td><td>6.311546</td><td>142068</td><td>0.502263000</td><td>0.02115088</td><td>0.003699325</td><td>5.717496</td><td>1.081049e-08</td></tr>\n",
       "\t<tr><td>5:73090261:T:C</td><td>5</td><td>73090261</td><td>C</td><td>T</td><td>5.807738</td><td>141641</td><td>0.524788000</td><td>0.02023446</td><td>0.003709423</td><td>5.454880</td><td>4.900596e-08</td></tr>\n",
       "\t<tr><td>6:43269029:A:C</td><td>6</td><td>43269029</td><td>C</td><td>A</td><td>6.349151</td><td>142066</td><td>0.608010000</td><td>0.02148472</td><td>0.003788792</td><td>5.670600</td><td>1.422985e-08</td></tr>\n",
       "\t<tr><td>6:43273604:A:G</td><td>6</td><td>43273604</td><td>G</td><td>A</td><td>6.338498</td><td>142102</td><td>0.608028000</td><td>0.02143920</td><td>0.003788329</td><td>5.659277</td><td>1.520118e-08</td></tr>\n",
       "</tbody>\n",
       "</table>\n"
      ],
      "text/latex": [
       "A data.frame: 7 x 12\n",
       "\\begin{tabular}{llllllllllll}\n",
       " SNP & CHR & BP & A1 & A2 & Z & N & FRQ & mtag\\_beta & mtag\\_se & mtag\\_z & mtag\\_pval\\\\\n",
       " <fct> & <int> & <int> & <fct> & <fct> & <dbl> & <int> & <dbl> & <dbl> & <dbl> & <dbl> & <dbl>\\\\\n",
       "\\hline\n",
       "\t 5:272856:A:G   & 5 &   272856 & G & A & 9.336668 & 142084 & 0.000781228 & 0.59435263 & 0.066198102 & 8.978394 & 2.747480e-19\\\\\n",
       "\t 5:272870:A:G   & 5 &   272870 & G & A & 9.369614 & 142093 & 0.000830442 & 0.57471728 & 0.064206294 & 8.951105 & 3.519413e-19\\\\\n",
       "\t 5:73072354:T:C & 5 & 73072354 & C & T & 6.031705 & 142094 & 0.468014000 & 0.02108467 & 0.003706542 & 5.688501 & 1.281591e-08\\\\\n",
       "\t 5:73076511:C:A & 5 & 73076511 & A & C & 6.311546 & 142068 & 0.502263000 & 0.02115088 & 0.003699325 & 5.717496 & 1.081049e-08\\\\\n",
       "\t 5:73090261:T:C & 5 & 73090261 & C & T & 5.807738 & 141641 & 0.524788000 & 0.02023446 & 0.003709423 & 5.454880 & 4.900596e-08\\\\\n",
       "\t 6:43269029:A:C & 6 & 43269029 & C & A & 6.349151 & 142066 & 0.608010000 & 0.02148472 & 0.003788792 & 5.670600 & 1.422985e-08\\\\\n",
       "\t 6:43273604:A:G & 6 & 43273604 & G & A & 6.338498 & 142102 & 0.608028000 & 0.02143920 & 0.003788329 & 5.659277 & 1.520118e-08\\\\\n",
       "\\end{tabular}\n"
      ],
      "text/markdown": [
       "\n",
       "A data.frame: 7 x 12\n",
       "\n",
       "| SNP &lt;fct&gt; | CHR &lt;int&gt; | BP &lt;int&gt; | A1 &lt;fct&gt; | A2 &lt;fct&gt; | Z &lt;dbl&gt; | N &lt;int&gt; | FRQ &lt;dbl&gt; | mtag_beta &lt;dbl&gt; | mtag_se &lt;dbl&gt; | mtag_z &lt;dbl&gt; | mtag_pval &lt;dbl&gt; |\n",
       "|---|---|---|---|---|---|---|---|---|---|---|---|\n",
       "| 5:272856:A:G   | 5 |   272856 | G | A | 9.336668 | 142084 | 0.000781228 | 0.59435263 | 0.066198102 | 8.978394 | 2.747480e-19 |\n",
       "| 5:272870:A:G   | 5 |   272870 | G | A | 9.369614 | 142093 | 0.000830442 | 0.57471728 | 0.064206294 | 8.951105 | 3.519413e-19 |\n",
       "| 5:73072354:T:C | 5 | 73072354 | C | T | 6.031705 | 142094 | 0.468014000 | 0.02108467 | 0.003706542 | 5.688501 | 1.281591e-08 |\n",
       "| 5:73076511:C:A | 5 | 73076511 | A | C | 6.311546 | 142068 | 0.502263000 | 0.02115088 | 0.003699325 | 5.717496 | 1.081049e-08 |\n",
       "| 5:73090261:T:C | 5 | 73090261 | C | T | 5.807738 | 141641 | 0.524788000 | 0.02023446 | 0.003709423 | 5.454880 | 4.900596e-08 |\n",
       "| 6:43269029:A:C | 6 | 43269029 | C | A | 6.349151 | 142066 | 0.608010000 | 0.02148472 | 0.003788792 | 5.670600 | 1.422985e-08 |\n",
       "| 6:43273604:A:G | 6 | 43273604 | G | A | 6.338498 | 142102 | 0.608028000 | 0.02143920 | 0.003788329 | 5.659277 | 1.520118e-08 |\n",
       "\n"
      ],
      "text/plain": [
       "  SNP            CHR BP       A1 A2 Z        N      FRQ         mtag_beta \n",
       "1 5:272856:A:G   5     272856 G  A  9.336668 142084 0.000781228 0.59435263\n",
       "2 5:272870:A:G   5     272870 G  A  9.369614 142093 0.000830442 0.57471728\n",
       "3 5:73072354:T:C 5   73072354 C  T  6.031705 142094 0.468014000 0.02108467\n",
       "4 5:73076511:C:A 5   73076511 A  C  6.311546 142068 0.502263000 0.02115088\n",
       "5 5:73090261:T:C 5   73090261 C  T  5.807738 141641 0.524788000 0.02023446\n",
       "6 6:43269029:A:C 6   43269029 C  A  6.349151 142066 0.608010000 0.02148472\n",
       "7 6:43273604:A:G 6   43273604 G  A  6.338498 142102 0.608028000 0.02143920\n",
       "  mtag_se     mtag_z   mtag_pval   \n",
       "1 0.066198102 8.978394 2.747480e-19\n",
       "2 0.064206294 8.951105 3.519413e-19\n",
       "3 0.003706542 5.688501 1.281591e-08\n",
       "4 0.003699325 5.717496 1.081049e-08\n",
       "5 0.003709423 5.454880 4.900596e-08\n",
       "6 0.003788792 5.670600 1.422985e-08\n",
       "7 0.003788329 5.659277 1.520118e-08"
      ]
     },
     "metadata": {},
     "output_type": "display_data"
    }
   ],
   "source": [
    "f2247 %>% filter(mtag_pval < 5e-08)"
   ]
  },
  {
   "cell_type": "code",
   "execution_count": 17,
   "id": "3c9bfa72-fc85-4baa-b65e-5a56cae8e91c",
   "metadata": {
    "kernel": "R"
   },
   "outputs": [
    {
     "data": {
      "text/html": [
       "<table class=\"dataframe\">\n",
       "<caption>A data.frame: 7 x 12</caption>\n",
       "<thead>\n",
       "\t<tr><th scope=col>SNP</th><th scope=col>CHR</th><th scope=col>BP</th><th scope=col>A1</th><th scope=col>A2</th><th scope=col>Z</th><th scope=col>N</th><th scope=col>FRQ</th><th scope=col>mtag_beta</th><th scope=col>mtag_se</th><th scope=col>mtag_z</th><th scope=col>mtag_pval</th></tr>\n",
       "\t<tr><th scope=col>&lt;fct&gt;</th><th scope=col>&lt;int&gt;</th><th scope=col>&lt;int&gt;</th><th scope=col>&lt;fct&gt;</th><th scope=col>&lt;fct&gt;</th><th scope=col>&lt;dbl&gt;</th><th scope=col>&lt;int&gt;</th><th scope=col>&lt;dbl&gt;</th><th scope=col>&lt;dbl&gt;</th><th scope=col>&lt;dbl&gt;</th><th scope=col>&lt;dbl&gt;</th><th scope=col>&lt;dbl&gt;</th></tr>\n",
       "</thead>\n",
       "<tbody>\n",
       "\t<tr><td>5:272856:A:G  </td><td>5</td><td>  272856</td><td>G</td><td>A</td><td>7.835887</td><td>162239</td><td>0.000733486</td><td>0.46480136</td><td>0.051768876</td><td>8.978394</td><td>2.747480e-19</td></tr>\n",
       "\t<tr><td>5:272870:A:G  </td><td>5</td><td>  272870</td><td>G</td><td>A</td><td>7.713361</td><td>162244</td><td>0.000773526</td><td>0.45123177</td><td>0.050410733</td><td>8.951105</td><td>3.519413e-19</td></tr>\n",
       "\t<tr><td>5:73072354:T:C</td><td>5</td><td>73072354</td><td>C</td><td>T</td><td>4.825131</td><td>162252</td><td>0.467628000</td><td>0.01597825</td><td>0.002808867</td><td>5.688501</td><td>1.281591e-08</td></tr>\n",
       "\t<tr><td>5:73076511:C:A</td><td>5</td><td>73076511</td><td>A</td><td>C</td><td>4.909892</td><td>162222</td><td>0.501818000</td><td>0.01602756</td><td>0.002803248</td><td>5.717496</td><td>1.081049e-08</td></tr>\n",
       "\t<tr><td>5:73090261:T:C</td><td>5</td><td>73090261</td><td>C</td><td>T</td><td>4.814528</td><td>161747</td><td>0.524591000</td><td>0.01533288</td><td>0.002810855</td><td>5.454880</td><td>4.900596e-08</td></tr>\n",
       "\t<tr><td>6:43269029:A:C</td><td>6</td><td>43269029</td><td>C</td><td>A</td><td>6.243137</td><td>162214</td><td>0.608391000</td><td>0.01628341</td><td>0.002871550</td><td>5.670600</td><td>1.422985e-08</td></tr>\n",
       "\t<tr><td>6:43273604:A:G</td><td>6</td><td>43273604</td><td>G</td><td>A</td><td>6.255720</td><td>162260</td><td>0.608419000</td><td>0.01624899</td><td>0.002871213</td><td>5.659277</td><td>1.520118e-08</td></tr>\n",
       "</tbody>\n",
       "</table>\n"
      ],
      "text/latex": [
       "A data.frame: 7 x 12\n",
       "\\begin{tabular}{llllllllllll}\n",
       " SNP & CHR & BP & A1 & A2 & Z & N & FRQ & mtag\\_beta & mtag\\_se & mtag\\_z & mtag\\_pval\\\\\n",
       " <fct> & <int> & <int> & <fct> & <fct> & <dbl> & <int> & <dbl> & <dbl> & <dbl> & <dbl> & <dbl>\\\\\n",
       "\\hline\n",
       "\t 5:272856:A:G   & 5 &   272856 & G & A & 7.835887 & 162239 & 0.000733486 & 0.46480136 & 0.051768876 & 8.978394 & 2.747480e-19\\\\\n",
       "\t 5:272870:A:G   & 5 &   272870 & G & A & 7.713361 & 162244 & 0.000773526 & 0.45123177 & 0.050410733 & 8.951105 & 3.519413e-19\\\\\n",
       "\t 5:73072354:T:C & 5 & 73072354 & C & T & 4.825131 & 162252 & 0.467628000 & 0.01597825 & 0.002808867 & 5.688501 & 1.281591e-08\\\\\n",
       "\t 5:73076511:C:A & 5 & 73076511 & A & C & 4.909892 & 162222 & 0.501818000 & 0.01602756 & 0.002803248 & 5.717496 & 1.081049e-08\\\\\n",
       "\t 5:73090261:T:C & 5 & 73090261 & C & T & 4.814528 & 161747 & 0.524591000 & 0.01533288 & 0.002810855 & 5.454880 & 4.900596e-08\\\\\n",
       "\t 6:43269029:A:C & 6 & 43269029 & C & A & 6.243137 & 162214 & 0.608391000 & 0.01628341 & 0.002871550 & 5.670600 & 1.422985e-08\\\\\n",
       "\t 6:43273604:A:G & 6 & 43273604 & G & A & 6.255720 & 162260 & 0.608419000 & 0.01624899 & 0.002871213 & 5.659277 & 1.520118e-08\\\\\n",
       "\\end{tabular}\n"
      ],
      "text/markdown": [
       "\n",
       "A data.frame: 7 x 12\n",
       "\n",
       "| SNP &lt;fct&gt; | CHR &lt;int&gt; | BP &lt;int&gt; | A1 &lt;fct&gt; | A2 &lt;fct&gt; | Z &lt;dbl&gt; | N &lt;int&gt; | FRQ &lt;dbl&gt; | mtag_beta &lt;dbl&gt; | mtag_se &lt;dbl&gt; | mtag_z &lt;dbl&gt; | mtag_pval &lt;dbl&gt; |\n",
       "|---|---|---|---|---|---|---|---|---|---|---|---|\n",
       "| 5:272856:A:G   | 5 |   272856 | G | A | 7.835887 | 162239 | 0.000733486 | 0.46480136 | 0.051768876 | 8.978394 | 2.747480e-19 |\n",
       "| 5:272870:A:G   | 5 |   272870 | G | A | 7.713361 | 162244 | 0.000773526 | 0.45123177 | 0.050410733 | 8.951105 | 3.519413e-19 |\n",
       "| 5:73072354:T:C | 5 | 73072354 | C | T | 4.825131 | 162252 | 0.467628000 | 0.01597825 | 0.002808867 | 5.688501 | 1.281591e-08 |\n",
       "| 5:73076511:C:A | 5 | 73076511 | A | C | 4.909892 | 162222 | 0.501818000 | 0.01602756 | 0.002803248 | 5.717496 | 1.081049e-08 |\n",
       "| 5:73090261:T:C | 5 | 73090261 | C | T | 4.814528 | 161747 | 0.524591000 | 0.01533288 | 0.002810855 | 5.454880 | 4.900596e-08 |\n",
       "| 6:43269029:A:C | 6 | 43269029 | C | A | 6.243137 | 162214 | 0.608391000 | 0.01628341 | 0.002871550 | 5.670600 | 1.422985e-08 |\n",
       "| 6:43273604:A:G | 6 | 43273604 | G | A | 6.255720 | 162260 | 0.608419000 | 0.01624899 | 0.002871213 | 5.659277 | 1.520118e-08 |\n",
       "\n"
      ],
      "text/plain": [
       "  SNP            CHR BP       A1 A2 Z        N      FRQ         mtag_beta \n",
       "1 5:272856:A:G   5     272856 G  A  7.835887 162239 0.000733486 0.46480136\n",
       "2 5:272870:A:G   5     272870 G  A  7.713361 162244 0.000773526 0.45123177\n",
       "3 5:73072354:T:C 5   73072354 C  T  4.825131 162252 0.467628000 0.01597825\n",
       "4 5:73076511:C:A 5   73076511 A  C  4.909892 162222 0.501818000 0.01602756\n",
       "5 5:73090261:T:C 5   73090261 C  T  4.814528 161747 0.524591000 0.01533288\n",
       "6 6:43269029:A:C 6   43269029 C  A  6.243137 162214 0.608391000 0.01628341\n",
       "7 6:43273604:A:G 6   43273604 G  A  6.255720 162260 0.608419000 0.01624899\n",
       "  mtag_se     mtag_z   mtag_pval   \n",
       "1 0.051768876 8.978394 2.747480e-19\n",
       "2 0.050410733 8.951105 3.519413e-19\n",
       "3 0.002808867 5.688501 1.281591e-08\n",
       "4 0.002803248 5.717496 1.081049e-08\n",
       "5 0.002810855 5.454880 4.900596e-08\n",
       "6 0.002871550 5.670600 1.422985e-08\n",
       "7 0.002871213 5.659277 1.520118e-08"
      ]
     },
     "metadata": {},
     "output_type": "display_data"
    }
   ],
   "source": [
    "f2257 %>% filter(mtag_pval < 5e-08)"
   ]
  },
  {
   "cell_type": "code",
   "execution_count": 8,
   "id": "6de98840-7828-4c6c-a5e6-20a3024fc1ca",
   "metadata": {
    "kernel": "R"
   },
   "outputs": [
    {
     "data": {
      "text/html": [
       "0.993556767634668"
      ],
      "text/latex": [
       "0.993556767634668"
      ],
      "text/markdown": [
       "0.993556767634668"
      ],
      "text/plain": [
       "[1] 0.9935568"
      ]
     },
     "metadata": {},
     "output_type": "display_data"
    },
    {
     "data": {
      "text/html": [
       "<strong>png:</strong> 2"
      ],
      "text/latex": [
       "\\textbf{png:} 2"
      ],
      "text/markdown": [
       "**png:** 2"
      ],
      "text/plain": [
       "png \n",
       "  2 "
      ]
     },
     "metadata": {},
     "output_type": "display_data"
    },
    {
     "data": {
      "text/html": [
       "<strong>png:</strong> 2"
      ],
      "text/latex": [
       "\\textbf{png:} 2"
      ],
      "text/markdown": [
       "**png:** 2"
      ],
      "text/plain": [
       "png \n",
       "  2 "
      ]
     },
     "metadata": {},
     "output_type": "display_data"
    }
   ],
   "source": [
    "f2247_2<-subset(f2247, CHR!=0)\n",
    "lambda <- median(qchisq(1-f2247_2$mtag_pval,1), na.rm=TRUE)/qchisq(0.5,1)\n",
    "lambda\n",
    "# Creating manhattan plot\n",
    "png('~/output/f2247_trait_2.txt.manh_plot.png', width = 6, height = 4, unit='in', res=300)\n",
    "manhattan_plot <- manhattan(f2247_2, chr='CHR', bp='BP', snp='SNP', p='mtag_pval', main = 'Manhattan plot for f2247_trait_2.txt', cex = 0.6, \n",
    "cex.axis = 0.9, col = c(\"blue4\", \"orange3\"), chrlabs = as.character(c(1:22)))\n",
    "dev.off()\n",
    "# Creating qqplot\n",
    "png('~/output/f2247_trait_2.qqplot.png', width = 5, height = 5, unit='in', res=300)\n",
    "qq_plot <- qq(f2247_2$mtag_pval, main = 'QQ Plot for f2247_trait_2', xlim = c(0, 8), pch = 18, col = \"blue4\", cex = 1.5, las = 1)\n",
    "dev.off()"
   ]
  },
  {
   "cell_type": "code",
   "execution_count": 9,
   "id": "88765d80-effc-44af-9d77-f143e36f44da",
   "metadata": {
    "kernel": "R"
   },
   "outputs": [
    {
     "data": {
      "text/html": [
       "0.993556767634667"
      ],
      "text/latex": [
       "0.993556767634667"
      ],
      "text/markdown": [
       "0.993556767634667"
      ],
      "text/plain": [
       "[1] 0.9935568"
      ]
     },
     "metadata": {},
     "output_type": "display_data"
    },
    {
     "data": {
      "text/html": [
       "<strong>png:</strong> 2"
      ],
      "text/latex": [
       "\\textbf{png:} 2"
      ],
      "text/markdown": [
       "**png:** 2"
      ],
      "text/plain": [
       "png \n",
       "  2 "
      ]
     },
     "metadata": {},
     "output_type": "display_data"
    }
   ],
   "source": [
    "f2257_2<-subset(f2257, CHR!=0)\n",
    "lambda <- median(qchisq(1-f2257_2$mtag_pval,1), na.rm=TRUE)/qchisq(0.5,1)\n",
    "lambda\n",
    "# Creating manhattan plot\n",
    "png('~/output/f2257_trait_3.txt.manh_plot.png', width = 6, height = 4, unit='in', res=300)\n",
    "manhattan_plot <- manhattan(f2257_2, chr='CHR', bp='BP', snp='SNP', p='mtag_pval', main = 'Manhattan plot for f2257_trait_3.txt', cex = 0.6, \n",
    "cex.axis = 0.9, col = c(\"blue4\", \"orange3\"), chrlabs = as.character(c(1:22)))\n",
    "dev.off()\n",
    "# Creating qqplot\n",
    "png('~/output/f2257_trait_3.qqplot.png', width = 5, height = 5, unit='in', res=300)\n",
    "qq_plot <- qq(f2257_2$mtag_pval, main = 'QQ Plot for f2257_trait_3', xlim = c(0, 8), pch = 18, col = \"blue4\", cex = 1.5, las = 1)\n",
    "dev.off()"
   ]
  },
  {
   "cell_type": "code",
   "execution_count": null,
   "id": "c5f04d3c-2515-4d9e-8850-21edd2da9981",
   "metadata": {
    "kernel": "R"
   },
   "outputs": [],
   "source": []
  }
 ],
 "metadata": {
  "kernelspec": {
   "display_name": "SoS",
   "language": "sos",
   "name": "sos"
  },
  "language_info": {
   "codemirror_mode": "sos",
   "file_extension": ".sos",
   "mimetype": "text/x-sos",
   "name": "sos",
   "nbconvert_exporter": "sos_notebook.converter.SoS_Exporter",
   "pygments_lexer": "sos"
  },
  "sos": {
   "kernels": [
    [
     "Bash",
     "calysto_bash",
     "Bash",
     "#E6EEFF",
     ""
    ],
    [
     "Python3",
     "python3",
     "Python3",
     "#FFD91A",
     ""
    ],
    [
     "R",
     "ir",
     "R",
     "#DCDCDA",
     ""
    ],
    [
     "SoS",
     "sos",
     "",
     "",
     "sos"
    ]
   ],
   "version": "0.22.6"
  }
 },
 "nbformat": 4,
 "nbformat_minor": 5
}
