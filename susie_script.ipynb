{
 "cells": [
  {
   "cell_type": "code",
   "execution_count": 2,
   "metadata": {},
   "outputs": [],
   "source": [
    "import os\n",
    "import glob\n",
    "path='/gpfs/gibbs/pi/dewan/data/UKBiobank/results/region_extraction/f3393_hearing_aid/'\n",
    "for filename in os.listdir(path):\n",
    "    subpath=path+filename\n",
    "    #print(subpath)\n",
    "    for sumstatFile in glob.glob(os.path.join(subpath, '*.sumstats.gz')):\n",
    "        #print(sumstatFile)\n",
    "        sumline=\"    --sumstatFile \"+sumstatFile\n",
    "        ldFile=sumstatFile.replace('sumstats.gz','sample_ld.gz')\n",
    "        ldline=\"    --ldFile \"+ldFile\n",
    "        sbuildline=\"    -s build \"\n",
    "        #file1 = open(path+\"susie.txt\",\"a\")  \n",
    "        file1 = open(\"/home/dc2325/project/UKBB_GWAS_dev/output/f3393_hearing_aid_susie.sbatch\",\"a\")    \n",
    "        # \\n is placed to indicate EOL (End of Line) \n",
    "        file1.write(\"\\n\")\n",
    "        file1.write(\"sos run ~/project/UKBB_GWAS_dev/analysis/SuSiE_RSS.ipynb\") \n",
    "        file1.write(sumline) \n",
    "        file1.write(ldline) \n",
    "        file1.write(sbuildline) \n",
    "file1.close() #to change file access modes "
   ]
  }
 ],
 "metadata": {
  "kernelspec": {
   "display_name": "Python 3",
   "language": "python",
   "name": "python3"
  },
  "language_info": {
   "codemirror_mode": {
    "name": "ipython",
    "version": 3
   },
   "file_extension": ".py",
   "mimetype": "text/x-python",
   "name": "python",
   "nbconvert_exporter": "python",
   "pygments_lexer": "ipython3",
   "version": "3.7.6"
  }
 },
 "nbformat": 4,
 "nbformat_minor": 4
}
