{
 "cells": [
  {
   "cell_type": "code",
   "execution_count": 1,
   "metadata": {},
   "outputs": [
    {
     "name": "stdout",
     "output_type": "stream",
     "text": [
      "/gpfs/gibbs/pi/dewan/data/UKBiobank/results/region_extraction/f3393_hearing_aid/5_73034307_73177355/200828_UKBB_Hearing_aid_f3393_hearing_aid_cat.fastGWA.snp_stats_5_73034307_73177355.sumstats.gz\n",
      "/gpfs/gibbs/pi/dewan/data/UKBiobank/results/region_extraction/f3393_hearing_aid/2_54686740_55051155/200828_UKBB_Hearing_aid_f3393_hearing_aid_cat.fastGWA.snp_stats_2_54686740_55051155.sumstats.gz\n",
      "/gpfs/gibbs/pi/dewan/data/UKBiobank/results/region_extraction/f3393_hearing_aid/22_50950570_50956117/200828_UKBB_Hearing_aid_f3393_hearing_aid_cat.fastGWA.snp_stats_22_50950570_50956117.sumstats.gz\n",
      "/gpfs/gibbs/pi/dewan/data/UKBiobank/results/region_extraction/f3393_hearing_aid/14_52457777_52518683/200828_UKBB_Hearing_aid_f3393_hearing_aid_cat.fastGWA.snp_stats_14_52457777_52518683.sumstats.gz\n",
      "/gpfs/gibbs/pi/dewan/data/UKBiobank/results/region_extraction/f3393_hearing_aid/11_63843945_64018872/200828_UKBB_Hearing_aid_f3393_hearing_aid_cat.fastGWA.snp_stats_11_63843945_64018872.sumstats.gz\n",
      "/gpfs/gibbs/pi/dewan/data/UKBiobank/results/region_extraction/f3393_hearing_aid/10_126783170_126813028/200828_UKBB_Hearing_aid_f3393_hearing_aid_cat.fastGWA.snp_stats_10_126783170_126813028.sumstats.gz\n",
      "/gpfs/gibbs/pi/dewan/data/UKBiobank/results/region_extraction/f3393_hearing_aid/5_73090089_73202480/200828_UKBB_Hearing_aid_f3393_hearing_aid_cat.fastGWA.snp_stats_5_73090089_73202480.sumstats.gz\n",
      "/gpfs/gibbs/pi/dewan/data/UKBiobank/results/region_extraction/f3393_hearing_aid/5_72826654_73069581/200828_UKBB_Hearing_aid_f3393_hearing_aid_cat.fastGWA.snp_stats_5_72826654_73069581.sumstats.gz\n",
      "/gpfs/gibbs/pi/dewan/data/UKBiobank/results/region_extraction/f3393_hearing_aid/3_121350573_121729262/200828_UKBB_Hearing_aid_f3393_hearing_aid_cat.fastGWA.snp_stats_3_121350573_121729262.sumstats.gz\n",
      "/gpfs/gibbs/pi/dewan/data/UKBiobank/results/region_extraction/f3393_hearing_aid/22_38046695_38503972/200828_UKBB_Hearing_aid_f3393_hearing_aid_cat.fastGWA.snp_stats_22_38046695_38503972.sumstats.gz\n",
      "/gpfs/gibbs/pi/dewan/data/UKBiobank/results/region_extraction/f3393_hearing_aid/15_89193497_89274382/200828_UKBB_Hearing_aid_f3393_hearing_aid_cat.fastGWA.snp_stats_15_89193497_89274382.sumstats.gz\n",
      "/gpfs/gibbs/pi/dewan/data/UKBiobank/results/region_extraction/f3393_hearing_aid/2_54686740_55024762/200828_UKBB_Hearing_aid_f3393_hearing_aid_cat.fastGWA.snp_stats_2_54686740_55024762.sumstats.gz\n"
     ]
    }
   ],
   "source": [
    "import os\n",
    "import glob\n",
    "path='/gpfs/gibbs/pi/dewan/data/UKBiobank/results/region_extraction/f3393_hearing_aid/'\n",
    "for filename in os.listdir(path):\n",
    "    subpath=path+filename\n",
    "    #print(subpath)\n",
    "    for sumstatFile in glob.glob(os.path.join(subpath, '*.sumstats.gz')):\n",
    "        #print(sumstatFile)\n",
    "        sumline=\"    --sumstatFile \"+sumstatFile\n",
    "        ldFile=sumstatFile.replace('sumstats.gz','sample_ld.gz')\n",
    "        ldline=\"    --ldFile \"+ldFile\n",
    "        sbuildline=\"    -s build \"\n",
    "        #file1 = open(path+\"susie.txt\",\"a\")  \n",
    "        file1 = open(\"/home/hs863/susie_bash.txt\",\"a\")    \n",
    "        # \\n is placed to indicate EOL (End of Line) \n",
    "        file1.write(\"\\n\")\n",
    "        file1.write(\"sos run ~/project/fine_mapping/SuSiE_RSS.ipynb\") \n",
    "        file1.write(sumline) \n",
    "        file1.write(ldline) \n",
    "        file1.write(sbuildline) \n",
    "file1.close() #to change file access modes "
   ]
  }
 ],
 "metadata": {
  "kernelspec": {
   "display_name": "Python 3",
   "language": "python",
   "name": "python3"
  },
  "language_info": {
   "codemirror_mode": {
    "name": "ipython",
    "version": 3
   },
   "file_extension": ".py",
   "mimetype": "text/x-python",
   "name": "python",
   "nbconvert_exporter": "python",
   "pygments_lexer": "ipython3",
   "version": "3.8.2"
  }
 },
 "nbformat": 4,
 "nbformat_minor": 4
}
