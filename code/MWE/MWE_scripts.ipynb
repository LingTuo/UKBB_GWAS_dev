{
 "cells": [
  {
   "cell_type": "markdown",
   "metadata": {
    "kernel": "SoS"
   },
   "source": [
    "# Minimal working example scripts (made to be tested in Yale's cluster)"
   ]
  },
  {
   "cell_type": "markdown",
   "metadata": {
    "kernel": "SoS"
   },
   "source": [
    "Here you can find a set of scripts oriented to test the MWE with different pipelines (e.g `LMM.ipynb`, `Hudson_plot.ipynb`, etc).\n",
    "\n",
    "If you have a local copy of the MWE please make sure to change the paths before running the script. \n",
    "\n",
    "Also, it is very important to select the appopiate kernel, in this case you would need to select bash on the drop-down menu to the right of the script\n",
    "\n",
    "*Note:* to test the LD-clumping and Hudson_plot pipelines you would need to have run the LMM.ipynb beforehand and obtain the summary statistics file (pre-requisite for the mentioned pipelines). \n",
    "\n",
    "These scripts are designed to run in Yale's cluster. If you need to run them in your local computer make sure you add the correct paths and remove both --container_lmm and --container_marp options\n",
    "\n",
    "For more information on each pipeline please take a look at each notebook\n",
    "\n",
    "If you find that instructions are confusing, please take note on how to improve and send them Diana Cornejo. Thanks for your suggestions.\n",
    "\n",
    "Update: 02-11-2020 Added scripts for PLINK binary files (FIXME: manhattan plot complaining about non-existent ylim object)"
   ]
  },
  {
   "cell_type": "code",
   "execution_count": null,
   "metadata": {
    "kernel": "Bash"
   },
   "outputs": [],
   "source": [
    "# Global\n",
    "MWE_PATH=/gpfs/gibbs/pi/dewan/data/UKBiobank/MWE\n",
    "UKBB_PATH=/gpfs/gibbs/pi/dewan/data/UKBiobank\n",
    "container_lmm=/gpfs/gibbs/pi/dewan/data/UKBiobank/lmm.sif\n",
    "container_marp=/gpfs/gibbs/pi/dewan/data/UKBiobank/marp.sif \n",
    "bfile=$MWE_PATH/genotypes.bed\n",
    "formatFile_fastGWA=$MWE_PATH/fastGWA_template.yml\n",
    "formatFile_regenie=$MWE_PATH/regenie_template.yml\n",
    "formatFile_boltlmm=$MWE_PATH/boltLMM_template.yml\n",
    "\n",
    "# Inputed data\n",
    "cwd=$MWE_PATH/output\n",
    "sampleFile=$MWE_PATH/imputed_genotypes.sample\n",
    "genoFile=$MWE_PATH/imputed_genotypes_chr*.bgen\n",
    "phenoFile=$MWE_PATH/phenotypes.txt\n",
    "sumstatsFiles=$MWE_PATH/output/phenotypes_BMI.fastGWA.snp_stats.gz\n",
    "region_file=$MWE_PATH/regions.txt\n",
    "bgen_sample_path=$MWE_PATH/imputed_genotypes.sample\n",
    "\n",
    "\n",
    "# Exome data\n",
    "#cwd=$MWE_PATH/output\n",
    "#sampleFile=$MWE_PATH/burden/ukb23155_c21_b0_v1.plink.exome.filtered.fam\n",
    "#genoFile=$MWE_PATH/burden/ukb23155_c2*_b0_v1.plink.exome.filtered.bed\n",
    "#phenoFile=$MWE_PATH/burden/phenotype_burden.txt\n",
    "#sumstatsFiles=$MWE_PATH/output/burden/phenotype_burden_BMI.fastGWA.snp_stats.gz\n",
    "#sumstatsFiles=$MWE_PATH/output/burden/phenotype_burden_ASTHMA.regenie.snp_stats.gz\n",
    "unrelated_samples=$MWE_PATH/burden/unrelated_ind_burden.txt\n",
    "region_file=$MWE_PATH/regions_plink.txt\n",
    "geno_path=$MWE_PATH/burden/genotype_inventory_bed.txt\n",
    "bgen_sample_path=$MWE_PATH/"
   ]
  },
  {
   "cell_type": "markdown",
   "metadata": {
    "kernel": "SoS"
   },
   "source": [
    "## Create MWE for regenie_burden and region_extraction"
   ]
  },
  {
   "cell_type": "code",
   "execution_count": null,
   "metadata": {
    "kernel": "Bash"
   },
   "outputs": [],
   "source": [
    "sos run ~/project/UKBB_GWAS_dev/workflow/MWE.ipynb plink_mwe\\\n",
    "    --cwd $MWE_PATH/burden \\\n",
    "    --bfile $UKBB_PATH/genotype_files/pleiotropy_geneticfiles/UKB_Caucasians_phenotypeindepqc120319_updated020720removedwithdrawnindivs.bed \\\n",
    "    --genoFile `echo $UKBB_PATH/genotype_files/ukb28374_exomedata/exome_data_OCT2020/ukb23155_c{21..22}_b0_v1.bed` \\\n",
    "    --sampleFile $MWE_PATH/imputed_genotypes.sample \\\n",
    "    --phenoFile $MWE_PATH/burden/phenotype_burden.txt \\\n",
    "    --samplesPlink $MWE_PATH/burden/phenotype_burden_IID.txt \\\n",
    "    --unrelated_samples $MWE_PATH/burden/unrelated_ind_burden.txt \\\n",
    "    --rsid `echo ~/scratch60/plink-clumping/chr{21..22}_filter_snps.txt`"
   ]
  },
  {
   "cell_type": "code",
   "execution_count": null,
   "metadata": {
    "kernel": "Bash"
   },
   "outputs": [],
   "source": [
    "sos dryrun ~/project/UKBB_GWAS_dev/workflow/MWE.ipynb plink_mwe \\\n",
    "    --cwd ~/scratch60/plink-clumping/MWE \\\n",
    "    --bfile /gpfs/gibbs/pi/dewan/data/UKBiobank/genotype_files/pleiotropy_geneticfiles/UKB_Caucasians_phenotypeindepqc120319_updated082020removedwithdrawnindiv.bed \\\n",
    "    --genoFile `echo /gpfs/gibbs/pi/dewan/data/UKBiobank/genotype_files/ukb28374_exomedata/exome_data_OCT2020/ukb23155_c{21..22}_b0_v1.bed` \\\n",
    "    --sampleFile /gpfs/gibbs/pi/dewan/data/UKBiobank/genotype_files/ukb39554_imputeddataset/ukb32285_imputedindiv.sample \\\n",
    "    --samplesPlink /gpfs/gibbs/pi/dewan/data/UKBiobank/MWE/burden/phenotype_burden_IID.txt \\\n",
    "    --phenoFile /gpfs/gibbs/pi/dewan/data/UKBiobank/MWE/burden/phenotype_burden.txt \\\n",
    "    --unrelated_samples /gpfs/gibbs/pi/dewan/data/UKBiobank/genotype_files/pleiotropy_geneticfiles/unrelated_n307259/UKB_unrelatedcauc_phenotypes_asthmat2dbmiwaisthip_agesex_waisthipratio_040620 \\\n",
    "    -s build "
   ]
  },
  {
   "cell_type": "markdown",
   "metadata": {
    "kernel": "Bash"
   },
   "source": [
    "## 1. MWE for BOLT-LMM"
   ]
  },
  {
   "cell_type": "code",
   "execution_count": null,
   "metadata": {
    "kernel": "Bash"
   },
   "outputs": [],
   "source": [
    "sos run ~/project/bioworkflows/GWAS/LMM.ipynb boltlmm \\\n",
    "    --cwd $cwd \\\n",
    "    --bfile $bfile\\\n",
    "    --sampleFile $sampleFile \\\n",
    "    --genoFile $genoFile \\\n",
    "    --phenoFile $phenoFile\\\n",
    "    --formatFile $formatFile_boltlmm \\\n",
    "    --LDscoresFile $UKBB_PATH/LDSCORE.1000G_EUR.tab.gz \\\n",
    "    --geneticMapFile $UKBB_PATH/genetic_map_hg19_withX.txt.gz \\\n",
    "    --phenoCol BMI \\\n",
    "    --covarCol SEX \\\n",
    "    --covarMaxLevels 10 \\\n",
    "    --qCovarCol AGE \\\n",
    "    --numThreads 5 \\\n",
    "    --bgenMinMAF 0.001 \\\n",
    "    --bgenMinINFO 0.1 \\\n",
    "    --lmm-option \\\n",
    "    --p_filter 1 \\\n",
    "    --container_lmm $container_lmm \\\n",
    "    --container_marp $container_marp"
   ]
  },
  {
   "cell_type": "markdown",
   "metadata": {
    "kernel": "Bash"
   },
   "source": [
    "## 2. MWE for FastGWA"
   ]
  },
  {
   "cell_type": "code",
   "execution_count": null,
   "metadata": {
    "kernel": "Bash"
   },
   "outputs": [],
   "source": [
    "sos run ~/project/bioworkflows/GWAS/LMM.ipynb fastGWA \\\n",
    "    --cwd $cwd \\\n",
    "    --bfile $bfile \\\n",
    "    --sampleFile $sampleFile \\\n",
    "    --genoFile $genoFile \\\n",
    "    --phenoFile $phenoFile \\\n",
    "    --formatFile $formatFile_fastGWA \\\n",
    "    --phenoCol BMI \\\n",
    "    --covarCol SEX \\\n",
    "    --qCovarCol AGE \\\n",
    "    --numThreads 1 \\\n",
    "    --bgenMinMAF 0.1 \\\n",
    "    --bgenMinINFO 0.1 \\\n",
    "    --parts 2 \\\n",
    "    --p_filter 1 \\\n",
    "    --container_lmm $container_lmm \\\n",
    "    --container_marp $container_marp"
   ]
  },
  {
   "cell_type": "markdown",
   "metadata": {
    "kernel": "SoS"
   },
   "source": [
    "## 3. MWE for REGENIE"
   ]
  },
  {
   "cell_type": "code",
   "execution_count": null,
   "metadata": {
    "kernel": "Bash"
   },
   "outputs": [],
   "source": [
    "sos run ~/project/bioworkflows/GWAS/LMM.ipynb regenie \\\n",
    "    --cwd $MWE_PATH/output/\\\n",
    "    --bfile $MWE_PATH/genotypes21_22.bed \\\n",
    "    --sampleFile $sampleFile \\\n",
    "    --genoFile $genoFile \\\n",
    "    --phenoFile $phenoFile\\\n",
    "    --formatFile $formatFile_regenie\\\n",
    "    --phenoCol ASTHMA \\\n",
    "    --covarCol SEX \\\n",
    "    --qCovarCol AGE \\\n",
    "    --numThreads 8 \\\n",
    "    --bsize 1000 \\\n",
    "    --lowmem_prefix $cwd\\\n",
    "    --trait bt \\\n",
    "    --minMAC 4 \\\n",
    "    --bgenMinMAF 0.05 \\\n",
    "    --bgenMinINFO 0.8 \\\n",
    "    --maf_filter  0.5 \\\n",
    "    --geno_filter  0.1 \\\n",
    "    --mind_filter  0.1 \\\n",
    "    --reverse_log_p \\\n",
    "    --p_filter 1\\\n",
    "    --container_lmm $container_lmm\\\n",
    "    --container_marp $container_marp"
   ]
  },
  {
   "cell_type": "markdown",
   "metadata": {
    "kernel": "Bash"
   },
   "source": [
    "### Regenie burden"
   ]
  },
  {
   "cell_type": "code",
   "execution_count": null,
   "metadata": {
    "kernel": "Bash"
   },
   "outputs": [],
   "source": [
    "anno_file = path\n",
    "set_list = path\n",
    "keep_gene = path\n",
    "aaf_file = path\n",
    "mask_file = path\n",
    "aaf_bins = 0.001\n",
    "\n",
    "sos run ~/project/bioworkflows/GWAS/LMM.ipynb regenie_burden \\\n",
    "    --cwd $cwd \\\n",
    "    --bfile $bfile\\\n",
    "    --sampleFile $sampleFile \\\n",
    "    --genoFile $genoFile\\\n",
    "    --phenoFile $phenoFile \\\n",
    "    --formatFile $formatFile_regenie\\\n",
    "    --phenoCol ASTHMA \\\n",
    "    --covarCol SEX \\\n",
    "    --qCovarCol AGE \\\n",
    "    --numThreads 8 \\\n",
    "    --bsize 1000 \\\n",
    "    --lowmem_prefix $cwd \\\n",
    "    --trait bt \\\n",
    "    --anno_file \\\n",
    "    --set_list $set_list \\\n",
    "    --keep_gene $keep_gene \\\n",
    "    --aaf_file $aaf_file \\\n",
    "    --mask_file $mask_file \\\n",
    "    --aaf_bins 0.1 \\\n",
    "    --container_lmm $container_lmm\n"
   ]
  },
  {
   "cell_type": "markdown",
   "metadata": {
    "kernel": "SoS"
   },
   "source": [
    "## 4. MWE LD Clumping"
   ]
  },
  {
   "cell_type": "code",
   "execution_count": null,
   "metadata": {
    "kernel": "Bash"
   },
   "outputs": [],
   "source": [
    "#%save MWE_ldclump.sh -f\n",
    "\n",
    "# Defining bash variables for the different paths,\n",
    "\n",
    "ld_sample_size=100\n",
    "clump_field=P\n",
    "clump_p1=0.001\n",
    "clump_p2=1\n",
    "clump_r2=0.2\n",
    "clump_kb=1000\n",
    "clump_annotate=OR\n",
    "numThreads=20\n",
    "job_size=1\n",
    "\n",
    "#Running the workflow for BMI trait\n",
    "\n",
    "sos run ~/project/bioworkflows/GWAS/LD_Clumping.ipynb \\\n",
    "    --cwd $cwd \\\n",
    "    --bfile $bfile \\\n",
    "    --genoFile $genoFile \\\n",
    "    --sampleFile $sampleFile \\\n",
    "    --sumstatsFiles $sumstatsFiles \\\n",
    "    --unrelated_samples $unrelated_samples \\\n",
    "    --ld_sample_size $ld_sample_size \\\n",
    "    --clump_field $clump_field \\\n",
    "    --clump_p1 $clump_p1 \\\n",
    "    --clump_p2 $clump_p2 \\\n",
    "    --clump_r2 $clump_r2 \\\n",
    "    --clump_kb $clump_kb \\\n",
    "    --clump_annotate $clump_annotate \\\n",
    "    --numThreads $numThreads \\\n",
    "    --job_size $job_size \\\n",
    "    --container_lmm $container_lmm"
   ]
  },
  {
   "cell_type": "markdown",
   "metadata": {
    "kernel": "SoS"
   },
   "source": [
    "## 5. MWE for Hudson plot"
   ]
  },
  {
   "cell_type": "code",
   "execution_count": null,
   "metadata": {
    "kernel": "SoS"
   },
   "outputs": [],
   "source": [
    "sos run ~/bioworkflows/GWAS/Hudson_plot.ipynb hudson  \\\n",
    "    --cwd $cwd \\\n",
    "    --sumstats_1 $cwd/phenotypes_WAIST.fastGWA.snp_stats.gz \\\n",
    "    --sumstats_2 $cwd/phenotypes_BMI.fastGWA.snp_stats.gz \\\n",
    "    --toptitle Waist \\\n",
    "    --bottomtitle BMI \\\n",
    "    --highlight_p_top 0.1 \\\n",
    "    --highlight_p_bottom 0.1 \\\n",
    "    --pval_filter 1 \\\n",
    "    --container_lmm  $container_lmm"
   ]
  },
  {
   "cell_type": "markdown",
   "metadata": {
    "kernel": "SoS"
   },
   "source": [
    "## Example of the Hudson_plot.ipynb in real UK Biobank data"
   ]
  },
  {
   "cell_type": "code",
   "execution_count": null,
   "metadata": {
    "kernel": "Bash"
   },
   "outputs": [],
   "source": [
    "sos run ~/bioworkflows/GWAS/Hudson_plot.ipynb hudson \\\n",
    "    --cwd $cwd \\\n",
    "    --sumstats_1 $UKBB_PATH/results/FastGWA_results/results_imputed_data/tinnitus_082720/200811_UKBB_Tinnitus_plan1_2_3_f4803_tinnitus.fastGWA.snp_stats.gz \\\n",
    "    --sumstats_2 $UKBB_PATH/results/FastGWA_results/results_imputed_data/tinnitus_p2_082720/200811_UKBB_Tinnitus_plan1_2_3_f4803_tinnitus_p2.fastGWA.snp_stats.gz \\\n",
    "    --toptitle Tinnitus plan1 \\\n",
    "    --bottomtitle Tinnitus plan2 \\\n",
    "    --highlight_p_top 5e-08 \\\n",
    "    --highlight_p_bottom 5e-08 \\\n",
    "    --pval_filter 5e-08 \\\n",
    "    --container_lmm $container_lmm"
   ]
  },
  {
   "cell_type": "code",
   "execution_count": null,
   "metadata": {
    "kernel": "SoS"
   },
   "outputs": [],
   "source": [
    "%preview -s png ~/output/200811_UKBB_Tinnitus_plan1_2_3_f4803_tinnitus.fastGWA_200811_UKBB_Tinnitus_plan1_2_3_f4803_tinnitus_p2.fastGWA.hudson.png"
   ]
  },
  {
   "cell_type": "markdown",
   "metadata": {
    "kernel": "SoS"
   },
   "source": [
    "## 6. MWE annotation"
   ]
  },
  {
   "cell_type": "markdown",
   "metadata": {
    "kernel": "Bash"
   },
   "source": [
    "### Merge bim files"
   ]
  },
  {
   "cell_type": "code",
   "execution_count": null,
   "metadata": {
    "kernel": "Bash"
   },
   "outputs": [],
   "source": [
    "bedfiles=`echo /gpfs/gibbs/pi/dewan/data/UKBiobank/genotype_files/ukb28374_exomedata/exome_data_OCT2020/ukb23155_c{1..22}_b0_v1.bed`\n",
    "bimfiles=`echo /gpfs/gibbs/pi/dewan/data/UKBiobank/genotype_files/ukb28374_exomedata/exome_data_OCT2020/ukb23155_c{1..22}_b0_v1.bim`\n",
    "bim_name=~/scratch60/output/ukb23155_chr1_chr22.bim\n",
    "humandb=/gpfs/ysm/datasets/db/annovar/humandb\n",
    "name_prefix=rare_variants\n",
    "maf_filter=0.0\n",
    "max_maf_filter=0.001\n",
    "geno_filter=0.0\n",
    "hwe_filter=0.0\n",
    "mind_filter=0.0\n",
    "\n",
    "sos run ~/project/UKBB_GWAS_dev/workflow/QC_Exome_UKBB.ipynb bim_merge \\\n",
    "    --cwd ~/output \\\n",
    "    --bedfiles $bedfiles\\\n",
    "    --bimfiles $bimfiles \\\n",
    "    --bim_name $bim_name \\\n",
    "    --name_prefix $name_prefix\\\n",
    "    --maf_filter  $maf_filter \\\n",
    "    --max_maf_filter $max_maf_filter\\\n",
    "    --geno_filter $geno_filter \\\n",
    "    --mind_filter  $mind_filter \\\n",
    "    --humandb $humandb\\\n",
    "    --container_lmm $container_lmm"
   ]
  },
  {
   "cell_type": "markdown",
   "metadata": {
    "kernel": "Bash"
   },
   "source": [
    "### Filter variants to annotate"
   ]
  },
  {
   "cell_type": "code",
   "execution_count": null,
   "metadata": {
    "kernel": "Bash"
   },
   "outputs": [],
   "source": [
    "bedfiles=`echo /gpfs/gibbs/pi/dewan/data/UKBiobank/genotype_files/ukb28374_exomedata/exome_data_OCT2020/ukb23155_c22_b0_v1.bed`\n",
    "bimfiles=`echo /gpfs/gibbs/pi/dewan/data/UKBiobank/genotype_files/ukb28374_exomedata/exome_data_OCT2020/ukb23155_c{1..22}_b0_v1.bim`\n",
    "bim_name=/home/dc2325/scratch60/output/ukb23155_chr1_chr3.bim\n",
    "name_prefix=rare_variants\n",
    "maf_filter=0.0\n",
    "max_maf_filter=0.001\n",
    "geno_filter=0.0\n",
    "hwe_filter=0.0\n",
    "mind_filter=0.0\n",
    "sos run ~/project/UKBB_GWAS_dev/workflow/QC_Exome_UKBB.ipynb get_snps \\\n",
    "    --cwd /home/dc2325/scratch60/output/ \\\n",
    "    --bedfiles $bedfiles\\\n",
    "    --bimfiles $bimfiles \\\n",
    "    --bim_name $bim_name \\\n",
    "    --name_prefix $name_prefix\\\n",
    "    --maf_filter  $maf_filter \\\n",
    "    --max_maf_filter $max_maf_filter\\\n",
    "    --geno_filter $geno_filter \\\n",
    "    --mind_filter  $mind_filter \\\n",
    "    --container_lmm /gpfs/gibbs/pi/dewan/data/UKBiobank/lmm.sif"
   ]
  },
  {
   "cell_type": "markdown",
   "metadata": {
    "kernel": "Bash"
   },
   "source": [
    "### Convert to vcf if needed"
   ]
  },
  {
   "cell_type": "code",
   "execution_count": null,
   "metadata": {
    "kernel": "Bash"
   },
   "outputs": [],
   "source": [
    "bedfiles=`echo /gpfs/gibbs/pi/dewan/data/UKBiobank/genotype_files/ukb28374_exomedata/exome_data_OCT2020/ukb23155_c22_b0_v1.bed`\n",
    "bimfiles=`echo /gpfs/gibbs/pi/dewan/data/UKBiobank/genotype_files/ukb28374_exomedata/exome_data_OCT2020/ukb23155_c{1..22}_b0_v1.bim`\n",
    "bim_name=/home/dc2325/scratch60/output/ukb23155_chr1_chr3.bim\n",
    "name_prefix=rare_variants\n",
    "maf_filter=0.0\n",
    "max_maf_filter=0.001\n",
    "geno_filter=0.0\n",
    "hwe_filter=0.0\n",
    "mind_filter=0.0\n",
    "sos run ~/project/UKBB_GWAS_dev/workflow/QC_Exome_UKBB.ipynb convert_to_vcf \\\n",
    "    --cwd /home/dc2325/scratch60/output/ \\\n",
    "    --bedfiles $bedfiles\\\n",
    "    --bimfiles $bimfiles \\\n",
    "    --bim_name $bim_name \\\n",
    "    --name_prefix $name_prefix\\\n",
    "    --maf_filter  $maf_filter \\\n",
    "    --max_maf_filter $max_maf_filter\\\n",
    "    --geno_filter $geno_filter \\\n",
    "    --mind_filter  $mind_filter \\\n",
    "    --container_lmm /gpfs/gibbs/pi/dewan/data/UKBiobank/lmm.sif"
   ]
  },
  {
   "cell_type": "markdown",
   "metadata": {
    "kernel": "Bash"
   },
   "source": [
    "### Annotate functional variation"
   ]
  },
  {
   "cell_type": "code",
   "execution_count": null,
   "metadata": {
    "kernel": "Bash"
   },
   "outputs": [],
   "source": [
    "bedfiles=`echo /gpfs/gibbs/pi/dewan/data/UKBiobank/genotype_files/ukb28374_exomedata/exome_data_OCT2020/ukb23155_c{1..3}_b0_v1.bed`\n",
    "bimfiles=`echo /gpfs/gibbs/pi/dewan/data/UKBiobank/genotype_files/ukb28374_exomedata/exome_data_OCT2020/ukb23155_c{1..3}_b0_v1.bim`\n",
    "bim_name=~/output/ukb23155_chr1_chr3.bim\n",
    "humandb=/gpfs/ysm/datasets/db/annovar/humandb\n",
    "name_prefix=rare_variants\n",
    "maf_filter=0.0\n",
    "max_maf_filter=0.001\n",
    "geno_filter=0.0\n",
    "hwe_filter=0.0\n",
    "mind_filter=0.0\n",
    "\n",
    "sos run ~/project/UKBB_GWAS_dev/workflow/QC_Exome_UKBB.ipynb annovar \\\n",
    "    --cwd /home/dc2325/scratch60/output/ \\\n",
    "    --bedfiles $bedfiles\\\n",
    "    --bimfiles $bimfiles \\\n",
    "    --bim_name $bim_name \\\n",
    "    --name_prefix $name_prefix\\\n",
    "    --maf_filter  $maf_filter \\\n",
    "    --max_maf_filter $max_maf_filter\\\n",
    "    --geno_filter $geno_filter \\\n",
    "    --mind_filter  $mind_filter \\\n",
    "    --humandb $humandb\\\n",
    "    --container_lmm /gpfs/gibbs/pi/dewan/data/UKBiobank/lmm.sif\\\n",
    "    --container_annovar /home/dc2325/scratch60/annovar.sif"
   ]
  },
  {
   "cell_type": "markdown",
   "metadata": {
    "kernel": "Bash"
   },
   "source": [
    "## 7. Region extraction"
   ]
  },
  {
   "cell_type": "code",
   "execution_count": null,
   "metadata": {
    "kernel": "Bash"
   },
   "outputs": [],
   "source": [
    "sos run ~/project/bioworkflows/GWAS/LMM.ipynb fastGWA \\\n",
    "    --cwd $MWE_PATH/output \\\n",
    "    --bfile $MWE_PATH/genotypes.bed \\\n",
    "    --genoFile $MWE_PATH/genotypes21_22.bed \\\n",
    "    --phenoFile $MWE_PATH/phenotypes.txt \\\n",
    "    --formatFile $MWE_PATH/fastGWA_template.yml \\\n",
    "    --phenoCol BMI \\\n",
    "    --covarCol SEX \\\n",
    "    --qCovarCol AGE \\\n",
    "    --numThreads 1 \\\n",
    "    --bgenMinMAF 0.001 \\\n",
    "    --bgenMinINFO 0.1 \\\n",
    "    --parts 2 \\\n",
    "    --p-filter 1\\\n",
    "    --container_lmm /gpfs/gibbs/pi/dewan/data/UKBiobank/lmm.sif"
   ]
  },
  {
   "cell_type": "code",
   "execution_count": null,
   "metadata": {
    "kernel": "Bash"
   },
   "outputs": [],
   "source": [
    "sos run ~/project/bioworkflows/GWAS/Region_Extraction.ipynb \\\n",
    "    --cwd $MWE_PATH/candidate_loci \\\n",
    "    --region-file $MWE_PATH/regions_plink.txt \\\n",
    "    --pheno-path $MWE_PATH/phenotypes.txt  \\\n",
    "    --geno-path $MWE_PATH/genotype_inventory_plink.txt\\\n",
    "    --bgen-sample-path $MWE_PATH/imputed_genotypes.sample \\\n",
    "    --sumstats-path $MWE_PATH/output/phenotypes_BMI.fastGWA.snp_stats.gz \\\n",
    "    --unrelated-samples $MWE_PATH/unrelated_samples.txt  \\\n",
    "    --job-size 1"
   ]
  },
  {
   "cell_type": "markdown",
   "metadata": {
    "kernel": "Bash"
   },
   "source": [
    "## 8. PCA analysis"
   ]
  },
  {
   "cell_type": "code",
   "execution_count": null,
   "metadata": {
    "kernel": "Bash"
   },
   "outputs": [],
   "source": [
    "MWE_PATH=/gpfs/gibbs/pi/dewan/data/UKBiobank/MWE\n",
    "sos run ~/project/bioworkflows/GWAS/PCA.ipynb flashpca\\\n",
    "    --cwd ~/output \\\n",
    "    --bfile $MWE_PATH/burden/genotypes_21_22_plink.exome.bed \\\n",
    "    --genoFile $MWE_PATH/burden/ukb23155_c2?_b0_v1.plink.exome.filtered.bed \\\n",
    "    --phenoFile $MWE_PATH/burden/phenotype_burden_pca.txt \\\n",
    "    --keep_samples $MWE_PATH/burden/unrelated_ind_burden.txt \\\n",
    "    --k 10 \\\n",
    "    --window 50 \\\n",
    "    --shift 10 \\\n",
    "    --r2 0.5 \\\n",
    "    --maf_filter 0.5 \\\n",
    "    --geno_filter 0.2 \\\n",
    "    --mind_filter 0.1 \\\n",
    "    --hwe_filter 0.0\\\n",
    "    --trait_name ethnicity \\\n",
    "    --numThreads 1 \\\n",
    "    --job_size 1 \\\n",
    "    --prob 0.1 \\\n",
    "    --kinship 0.05 \\\n",
    "    --container_lmm /gpfs/gibbs/pi/dewan/data/UKBiobank/lmm.sif"
   ]
  },
  {
   "cell_type": "markdown",
   "metadata": {
    "kernel": "Bash"
   },
   "source": [
    "## QC MWE-AD"
   ]
  },
  {
   "cell_type": "markdown",
   "metadata": {
    "kernel": "Bash"
   },
   "source": [
    "### Step 1. Estimate kinship"
   ]
  },
  {
   "cell_type": "code",
   "execution_count": 12,
   "metadata": {
    "kernel": "Bash"
   },
   "outputs": [
    {
     "name": "stdout",
     "output_type": "stream",
     "text": [
      "INFO: Running \u001b[32mking\u001b[0m: Inference of relationships in the sample to remove closely related individuals\n",
      "INFO: \u001b[32mking\u001b[0m is \u001b[32mcompleted\u001b[0m.\n",
      "INFO: \u001b[32mking\u001b[0m output:   \u001b[32m/home/dmc2245/output/rename_chr22.kin0 /home/dmc2245/output/rename_chr22.related_id\u001b[0m\n",
      "INFO: Workflow king (ID=89f2db75efa2c255) is executed successfully with 1 completed step.\n",
      "\n"
     ]
    }
   ],
   "source": [
    "module load Singularity/3.5.3\n",
    "sos run ~/project/bioworkflows/GWAS/GWAS_QC.ipynb king \\\n",
    "    --cwd ~/output \\\n",
    "    --genoFile ~/project/MWE_AD/rename_chr22.bed \\\n",
    "    --kinship 0.11 \\\n",
    "    --container_lmm /mnt/mfs/statgen/containers/lmm.sif"
   ]
  },
  {
   "cell_type": "markdown",
   "metadata": {
    "kernel": "Bash"
   },
   "source": [
    "### Step 2. QC get unrelated individuals"
   ]
  },
  {
   "cell_type": "code",
   "execution_count": 13,
   "metadata": {
    "kernel": "Bash"
   },
   "outputs": [
    {
     "name": "stdout",
     "output_type": "stream",
     "text": [
      "INFO: Running \u001b[32mbasic QC filters\u001b[0m: Filter SNPs and select individuals\n",
      "INFO: \u001b[32mbasic QC filters\u001b[0m is \u001b[32mcompleted\u001b[0m.\n",
      "INFO: \u001b[32mbasic QC filters\u001b[0m output:   \u001b[32m/home/dmc2245/output/cache/rename_chr22.filtered.bed\u001b[0m\n",
      "INFO: Running \u001b[32mLD pruning\u001b[0m: LD prunning and remove related individuals (both ind of a pair)\n",
      "INFO: \u001b[32mLD pruning\u001b[0m is \u001b[32mcompleted\u001b[0m.\n",
      "INFO: \u001b[32mLD pruning\u001b[0m output:   \u001b[32m/home/dmc2245/output/cache/rename_chr22.filtered.prune.bed /home/dmc2245/output/cache/rename_chr22.filtered.prune.in\u001b[0m\n",
      "INFO: Running \u001b[32mmerge all files\u001b[0m: Merge all the .bed files into one bed file\n",
      "INFO: \u001b[32mmerge all files\u001b[0m is \u001b[32mcompleted\u001b[0m (pending nested workflow).\n",
      "INFO: Running \u001b[32mmerge_plink\u001b[0m: \n",
      "INFO: Workflow qc (ID=8de01e9f2f173846) is executed successfully with 3 completed steps.\n",
      "\n"
     ]
    }
   ],
   "source": [
    "module load Singularity/3.5.3\n",
    "sos run ~/project/bioworkflows/GWAS/GWAS_QC.ipynb qc \\\n",
    "    --cwd ~/output \\\n",
    "    --genoFile ~/project/MWE_AD/rename_chr22.bed \\\n",
    "    --remove_samples ~/output/rename_chr22.related_id \\\n",
    "    --maf_filter 0.05 \\\n",
    "    --mind_filter 0.1 \\\n",
    "    --geno_filter 0.1 \\\n",
    "    --hwe_filter 0 \\\n",
    "    --window 50 \\\n",
    "    --shift 10 \\\n",
    "    --r2 0.5 \\\n",
    "    --container_lmm /mnt/mfs/statgen/containers/lmm.sif"
   ]
  },
  {
   "cell_type": "markdown",
   "metadata": {
    "kernel": "Bash"
   },
   "source": [
    "### Step 3: QC get related individuals"
   ]
  },
  {
   "cell_type": "code",
   "execution_count": 16,
   "metadata": {
    "kernel": "Bash"
   },
   "outputs": [
    {
     "name": "stdout",
     "output_type": "stream",
     "text": [
      "INFO: Running \u001b[32mbasic QC filters\u001b[0m: Filter SNPs and select individuals\n",
      "INFO: \u001b[32mbasic QC filters\u001b[0m is \u001b[32mcompleted\u001b[0m.\n",
      "INFO: \u001b[32mbasic QC filters\u001b[0m output:   \u001b[32m/home/dmc2245/output/cache/rename_chr22.filtered.bed\u001b[0m\n",
      "INFO: Workflow qc (ID=3cc18be2c025acb1) is executed successfully with 1 completed step.\n",
      "\n"
     ]
    }
   ],
   "source": [
    "module load Singularity/3.5.3\n",
    "sos run ~/project/bioworkflows/GWAS/GWAS_QC.ipynb qc:1 \\\n",
    "    --cwd ~/output \\\n",
    "    --genoFile ~/project/MWE_AD/rename_chr22.bed \\\n",
    "    --keep-samples  ~/output/rename_chr22.related_id\\\n",
    "    --keep-variants ~/output/cache/rename_chr22.filtered.prune.in \\\n",
    "    --maf-filter 0 --geno-filter 0 --mind-filter 0 --hwe-filter 0 \\\n",
    "    --container_lmm /mnt/mfs/statgen/containers/lmm.sif"
   ]
  },
  {
   "cell_type": "markdown",
   "metadata": {
    "kernel": "Bash"
   },
   "source": [
    "## PCA MWE-AD"
   ]
  },
  {
   "cell_type": "markdown",
   "metadata": {
    "kernel": "Bash"
   },
   "source": [
    "### Step 1: PCA for the whole sample"
   ]
  },
  {
   "cell_type": "code",
   "execution_count": 40,
   "metadata": {
    "kernel": "Bash"
   },
   "outputs": [
    {
     "name": "stdout",
     "output_type": "stream",
     "text": [
      "INFO: Running \u001b[32mflashpca_1\u001b[0m: Run PCA analysis using flashpca\n",
      "INFO: \u001b[32mflashpca_1\u001b[0m is \u001b[32mcompleted\u001b[0m.\n",
      "INFO: \u001b[32mflashpca_1\u001b[0m output:   \u001b[32m/home/dmc2245/output/MWE_pheno.pca.rds\u001b[0m\n",
      "INFO: Running \u001b[32mflashpca_2\u001b[0m: \n",
      "INFO: \u001b[32mflashpca_2\u001b[0m is \u001b[32mcompleted\u001b[0m (pending nested workflow).\n",
      "INFO: Running \u001b[32mplot_pca\u001b[0m: Plot PCA results. Can be used as: \"flashpca + plot_pca\" or as \"project_samples + plot_pca\"\n",
      "INFO: \u001b[32mplot_pca\u001b[0m is \u001b[32mcompleted\u001b[0m.\n",
      "INFO: \u001b[32mplot_pca\u001b[0m output:   \u001b[32m/home/dmc2245/output/MWE_pheno.pca.pc.png /home/dmc2245/output/MWE_pheno.pca.scree.png\u001b[0m\n",
      "INFO: \u001b[32mflashpca_2\u001b[0m output:   \u001b[32m/home/dmc2245/output/MWE_pheno.pca.pc.png /home/dmc2245/output/MWE_pheno.pca.scree.png\u001b[0m\n",
      "INFO: Workflow flashpca (ID=444e9a652d3aea89) is executed successfully with 3 completed steps.\n",
      "\n"
     ]
    }
   ],
   "source": [
    "module load Singularity/3.5.3\n",
    "#Use filtered and pruned bed file\n",
    "sos run ~/project/bioworkflows/GWAS/PCA.ipynb flashpca \\\n",
    "    --cwd ~/output \\\n",
    "    --genoFile ~/output/cache/rename_chr22.filtered.prune.bed \\\n",
    "    --phenoFile ~/project/MWE_AD/MWE_pheno.txt \\\n",
    "    --pop_col 'RACE' \\\n",
    "    --label_col 'RACE'\\\n",
    "    --pops \\\n",
    "    --k 4 \\\n",
    "    --plot_data /home/dmc2245/output/MWE_pheno.pca.rds\\\n",
    "    --container_lmm /mnt/mfs/statgen/containers/lmm.sif"
   ]
  },
  {
   "cell_type": "markdown",
   "metadata": {
    "kernel": "Bash"
   },
   "source": [
    "### Step 2: PCA projection of the rest of individuals and outlier detection"
   ]
  },
  {
   "cell_type": "code",
   "execution_count": null,
   "metadata": {
    "kernel": "Bash"
   },
   "outputs": [],
   "source": [
    "module load Singularity/3.5.3\n",
    "sos run PCA.ipynb project_samples \\\n",
    "    --pca-model /home/dmc2245/output/MWE_pheno.pca.rds \\\n",
    "    --genoFile <related_samples.bed> \\\n",
    "    --phenoFile <phenotypes.txt>"
   ]
  },
  {
   "cell_type": "code",
   "execution_count": null,
   "metadata": {
    "kernel": "Bash"
   },
   "outputs": [],
   "source": [
    "%preview -s png /home/dc2325/output/phenotype_burden_pca.filtered.merged.prune.pc.png"
   ]
  },
  {
   "cell_type": "code",
   "execution_count": null,
   "metadata": {
    "kernel": "Bash"
   },
   "outputs": [],
   "source": [
    "%preview -s png /home/dc2325/output/phenotype_burden_pca.filtered.merged.prune.scree_cumPVE.png"
   ]
  },
  {
   "cell_type": "code",
   "execution_count": null,
   "metadata": {
    "kernel": "Bash"
   },
   "outputs": [],
   "source": [
    "%preview -s png /home/dc2325/output/phenotype_burden_pca.filtered.merged.prune.pca.maha_hist.png"
   ]
  },
  {
   "cell_type": "code",
   "execution_count": null,
   "metadata": {
    "kernel": "Bash"
   },
   "outputs": [],
   "source": []
  }
 ],
 "metadata": {
  "kernelspec": {
   "display_name": "SoS",
   "language": "sos",
   "name": "sos"
  },
  "language_info": {
   "codemirror_mode": "sos",
   "file_extension": ".sos",
   "mimetype": "text/x-sos",
   "name": "sos",
   "nbconvert_exporter": "sos_notebook.converter.SoS_Exporter",
   "pygments_lexer": "sos"
  },
  "sos": {
   "kernels": [
    [
     "Bash",
     "calysto_bash",
     "Bash",
     "#E6EEFF",
     "shell"
    ],
    [
     "SoS",
     "sos",
     "",
     "",
     "sos"
    ]
   ],
   "version": "0.20.1"
  }
 },
 "nbformat": 4,
 "nbformat_minor": 4
}
