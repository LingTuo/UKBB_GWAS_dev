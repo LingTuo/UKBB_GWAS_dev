{
 "cells": [
  {
   "cell_type": "markdown",
   "metadata": {
    "kernel": "Bash"
   },
   "source": [
    "## Create reference file for GCTA and run gcta-cojo on MWE"
   ]
  },
  {
   "cell_type": "markdown",
   "metadata": {
    "kernel": "SoS"
   },
   "source": [
    "## Create refere file from the imputed genotyope data"
   ]
  },
  {
   "cell_type": "code",
   "execution_count": 7,
   "metadata": {
    "kernel": "Bash"
   },
   "outputs": [
    {
     "name": "stdout",
     "output_type": "stream",
     "text": [
      "INFO: Running \u001b[32mfarnam\u001b[0m: Configuration for Yale `farnam` cluster\n",
      "INFO: \u001b[32mfarnam\u001b[0m is \u001b[32mcompleted\u001b[0m.\n",
      "INFO: \u001b[32mfarnam\u001b[0m output:   \u001b[32m../output/2020-11-05_qctool_ref.sbatch\u001b[0m\n",
      "INFO: Workflow farnam (ID=234ce5fa57e27fd6) is executed successfully with 1 completed step.\n",
      "\n"
     ]
    }
   ],
   "source": [
    "cwd=/home/dc2325/scratch60/refence_samples\n",
    "sampleFile=/gpfs/gibbs/pi/dewan/data/UKBiobank/genotype_files/ukb39554_imputeddataset/ukb32285_imputedindiv.sample\n",
    "bgenFile=`echo /gpfs/gibbs/pi/dewan/data/UKBiobank/genotype_files/ukb39554_imputeddataset/ukb_imp_chr{1..22}_v3.bgen`\n",
    "famFile=/gpfs/gibbs/pi/dewan/data/UKBiobank/genotype_files/pleiotropy_geneticfiles/UKB_Caucasians_phenotypeindepqc120319_updated082020removedwithdrawnindiv.fam\n",
    "job_size=1\n",
    "numThreads=22\n",
    "qctool_ukbb=../output/$(date +\"%Y-%m-%d\")_qctool_ref.sbatch\n",
    "qctool_sos=/home/dc2325/project/UKBB_GWAS_dev/workflow/Reference_sampleUKBB.ipynb\n",
    "tpl_file=../farnam.yml\n",
    "container_lmm=/gpfs/gibbs/pi/dewan/data/UKBiobank/lmm.sif\n",
    "\n",
    "qctool_args=\"\"\"default\n",
    "    --cwd $cwd \n",
    "    --sampleFile $sampleFile\n",
    "    --bgenFile $bgenFile \n",
    "    --famFile $famFile \n",
    "    --numThreads $numThreads \n",
    "    --job_size $job_size\n",
    "    --container_lmm $container_lmm\n",
    "\"\"\"\n",
    "\n",
    "sos run ~/project/bioworkflows/GWAS/Get_Job_Script.ipynb farnam \\\n",
    "    --template-file $tpl_file \\\n",
    "    --workflow-file $qctool_sos \\\n",
    "    --to-script $qctool_ukbb \\\n",
    "    --args \"$qctool_args\""
   ]
  },
  {
   "cell_type": "markdown",
   "metadata": {
    "kernel": "Bash"
   },
   "source": [
    "## Running gcta-cojo"
   ]
  },
  {
   "cell_type": "code",
   "execution_count": null,
   "metadata": {
    "kernel": "Bash"
   },
   "outputs": [],
   "source": [
    "sos run ~/project/UKBB_GWAS_dev/workflow/GCTA-COJO gcta_cojo \\\n",
    "    --cwd output \\\n",
    "    --bfile /gpfs/gibbs/pi/dewan/data/UKBiobank/MWE/genotypes.bed \\\n",
    "    --formatFile ~/project/UKBB_GWAS_dev/data/gcta-cojo_template.yml \\\n",
    "    --sumstatsFile /gpfs/gibbs/pi/dewan/data/UKBiobank/MWE/phenotypes_BMI.fastGWA.snp_stats_original_columns.gz \\\n",
    "    --numThreads 2 \\\n",
    "    --maf 0.1 \\\n",
    "    --job-size 1 \\\n",
    "    --container_lmm /gpfs/gibbs/pi/dewan/data/UKBiobank/lmm.sif"
   ]
  }
 ],
 "metadata": {
  "kernelspec": {
   "display_name": "SoS",
   "language": "sos",
   "name": "sos"
  },
  "language_info": {
   "codemirror_mode": "sos",
   "file_extension": ".sos",
   "mimetype": "text/x-sos",
   "name": "sos",
   "nbconvert_exporter": "sos_notebook.converter.SoS_Exporter",
   "pygments_lexer": "sos"
  },
  "sos": {
   "kernels": [
    [
     "Bash",
     "calysto_bash",
     "Bash",
     "#E6EEFF",
     "shell"
    ],
    [
     "R",
     "ir",
     "R",
     "#DCDCDA",
     ""
    ]
   ],
   "version": "0.21.21"
  }
 },
 "nbformat": 4,
 "nbformat_minor": 4
}
