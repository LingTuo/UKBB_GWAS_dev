{
 "cells": [
  {
   "cell_type": "code",
   "execution_count": 21,
   "id": "26c2205e-fc90-436e-b8c1-5fe4cac7dcc5",
   "metadata": {
    "kernel": "Bash"
   },
   "outputs": [
    {
     "name": "stdout",
     "output_type": "stream",
     "text": [
      "INFO: Running \u001b[32mgcta_cond_1\u001b[0m: Create sumstats file\n",
      "INFO: \u001b[32mgcta_cond_1\u001b[0m is \u001b[32mcompleted\u001b[0m.\n",
      "INFO: \u001b[32mgcta_cond_1\u001b[0m output:   \u001b[32m/home/dmc2245/test/gcta_cojo/090321_UKBB_Hearing_aid_f3393_expandedwhite_6436cases_96601ctrl_PC1_2_f3393.regenie.gcta_cojo.snp_stats\u001b[0m\n",
      "INFO: Running \u001b[32mgcta_cond_2\u001b[0m: Perform association analysis of the included SNPs conditional on the given list of SNPs without model selection. Results will be saved in a *.cma. The conditional SNP effects (i.e. bC) will be labelled as \"NA\" if the multivariate correlation between the SNP in question and all the covariate SNPs is > 0.9\n",
      "\u001b[91mERROR\u001b[0m: \u001b[91mgcta_cond_2 (id=e9706090e1a20771) returns an error.\u001b[0m\n",
      "\u001b[91mERROR\u001b[0m: \u001b[91m[gcta_cond_2]: [0]: Executing script in Singularity returns an error (exitcode=1, stdout=/home/dmc2245/test/gcta_cojo/090321_UKBB_Hearing_aid_f3393_expandedwhite_6436cases_96601ctrl_PC1_2_f3393.regenie.cojo_cond.cma.stdout).\n",
      "The script has been saved to /home/dmc2245/.sos/0b950de0317aa3d9/singularity_run_38546.sh. To reproduce the error please run:\n",
      "\u001b[0m\u001b[32msingularity exec  /home/dmc2245/containers/lmm.sif /bin/bash /home/dmc2245/.sos/0b950de0317aa3d9/singularity_run_38546.sh\u001b[0m\u001b[91m\u001b[0m\n",
      "\n"
     ]
    }
   ],
   "source": [
    "bfile=`echo $UKBB_PATH/data/exome_files/project_VCF/072721_run/plink/ukb23156_c{1..22}.merged.filtered.bed`\n",
    "module load Singularity\n",
    "sos run ~/project/UKBB_GWAS_dev/workflow/GCTA-COJO.ipynb gcta_cond \\\n",
    "    --cwd ~/test/gcta_cojo \\\n",
    "    --bfile $bfile\\\n",
    "    --sumstatsFile ~/UKBiobank/results/REGENIE_results/results_exome_data/090921_f3393_hearing_aid_200K/090321_UKBB_Hearing_aid_f3393_expandedwhite_6436cases_96601ctrl_PC1_2_f3393.regenie.snp_stats_original_columns.gz \\\n",
    "    --snp_list ~/test/gcta_cojo/snp.list \\\n",
    "    --formatFile ~/project/UKBB_GWAS_dev/data/gcta-cojo_template.yml \\\n",
    "    --numThreads 5 \\\n",
    "    --maf 0.001 \\\n",
    "    --job_size 1 \\\n",
    "    --container_lmm ~/containers/lmm.sif"
   ]
  },
  {
   "cell_type": "code",
   "execution_count": 34,
   "id": "4d6cc1b9-20b7-4092-818b-7efd93cb649c",
   "metadata": {
    "kernel": "Bash"
   },
   "outputs": [
    {
     "name": "stdout",
     "output_type": "stream",
     "text": [
      "\n"
     ]
    }
   ],
   "source": [
    "for file in ~/UKBiobank/results/REGENIE_results/results_exome_data/091421*/*snp_stats_original_columns.gz; do\n",
    "    echo \"${file##*/}\"   >> ~/test/afreq_all.txt\n",
    "    zcat $file |  grep \"chr5:272741:A:G\\|chr5:272748:G:C\\|chr5:272755:A:G\\|chr6:75841299:A:G\\|chr6:43301291:A:C\\|chr6:43305866:A:G\" >> ~/test/afreq_all.txt;\n",
    "    done"
   ]
  },
  {
   "cell_type": "code",
   "execution_count": 2,
   "id": "bedeb8d8-fdfd-42d9-a0eb-022817e44ef5",
   "metadata": {
    "kernel": "Bash"
   },
   "outputs": [
    {
     "name": "stdout",
     "output_type": "stream",
     "text": [
      "\n"
     ]
    }
   ],
   "source": [
    "\n",
    "for file in ~/UKBiobank/results/REGENIE_results/results_exome_data/090921*/*snp_stats_original_columns.gz; do\n",
    "    echo \"${file##*/}\"   >> ~/test/090921_afreq_all_mega_analysis.txt\n",
    "    zcat $file |  grep -Ff ~/test/snp_search.txt >> ~/test/090921_afreq_all_mega_analysis.txt;\n",
    "    done"
   ]
  },
  {
   "cell_type": "code",
   "execution_count": null,
   "id": "6f8a8657-6cd4-4e03-9952-d33a78c1b135",
   "metadata": {
    "kernel": "Bash"
   },
   "outputs": [],
   "source": [
    "for file in ~/UKBiobank/results/REGENIE_results/results_imputed_data/2021_10_13_*_300K/*snp_stats_original_columns.gz; do\n",
    "    echo \"${file##*/}\"   >> ~/test/2021_10_13_replication_imputed_data_info.txt\n",
    "    zcat $file |  grep -Ff ~/UKBiobank/results/REGENIE_results/results_imputed_data/snps_to_replicate.txt >> ~/test/2021_10_13_replication_imputed_data_info.txt;\n",
    "    done"
   ]
  },
  {
   "cell_type": "code",
   "execution_count": 4,
   "id": "8d43982c-ef87-4ec5-9378-90acefea2377",
   "metadata": {
    "kernel": "Bash"
   },
   "outputs": [
    {
     "name": "stdout",
     "output_type": "stream",
     "text": [
      "\n"
     ]
    }
   ],
   "source": [
    "for file in /home/dmc2245/UKBiobank/results/LD_clumping/cache/ukb_imp_chr{1..22}_v3.2000; do\n",
    "     mv $file ${file%%}.sample; done;"
   ]
  },
  {
   "cell_type": "code",
   "execution_count": 2,
   "id": "c5ce90ac-a70f-4a90-aaa6-f772880d1741",
   "metadata": {
    "kernel": "Bash"
   },
   "outputs": [
    {
     "name": "stdout",
     "output_type": "stream",
     "text": [
      "\n"
     ]
    }
   ],
   "source": [
    "# using ref-first in regenie \n",
    "zcat ~/test/100521_UKBB_Combined_f2247_f2257_expandedwhite_93258cases_237318ctrl_500k_PC1_PC2_f2247_f2257.regenie.hg38.sumstats_mapped.gz |  grep -Ff ~/test/snp_search.txt >> ~/test/2021_11_11_replication_imputed_data_info.txt"
   ]
  },
  {
   "cell_type": "code",
   "execution_count": null,
   "id": "b2c748f0-c9b7-4f80-a307-93a2444edc9d",
   "metadata": {
    "kernel": "Bash"
   },
   "outputs": [],
   "source": [
    "for file in ~/UKBiobank/results/REGENIE_results/results_imputed_data/2021_10_13_*_300K/*sumstats_mapped.gz; do\n",
    "    echo \"${file##*/}\"   >> ~/test/2021_11_17_results_imp_data_hg38_info0.3.txt\n",
    "    zcat $file |  grep -Ff  ~/test/snp_search.txt >> ~/test/2021_11_17_results_imp_data_hg38_info0.3.txt ;\n",
    "    done"
   ]
  },
  {
   "cell_type": "code",
   "execution_count": null,
   "id": "ba17063f-0fd9-4499-b2ca-851bb30a225e",
   "metadata": {
    "kernel": "Bash"
   },
   "outputs": [],
   "source": [
    "for file in ~/UKBiobank/results/REGENIE_results/results_imputed_data/2021_10_13_f2247_300K/*sumstats_mapped.gz; do\n",
    "    echo \"${file##*/}\"   >> ~/test/2021_11_17_results_imp_data_hg38_info0.3_f2247.txt\n",
    "    zcat $file |  grep -Ff  ~/test/snp_search.txt >> ~/test/2021_11_17_results_imp_data_hg38_info0.3_f2247.txt ;\n",
    "    done"
   ]
  },
  {
   "cell_type": "code",
   "execution_count": null,
   "id": "12182ebc-b18f-4d3d-80ab-8b126f6ac999",
   "metadata": {
    "kernel": "Bash"
   },
   "outputs": [],
   "source": [
    "for file in  ~/UKBiobank/results/region_extraction/111921_f2247_200Kexomes_500Kimp/*_*_* ; do\n",
    "    echo \"${file##*/}\" >> ~/UKBiobank/results/region_extraction/111921_f2247_200Kexomes_500Kimp/f2247_region_file.txt; done\n"
   ]
  }
 ],
 "metadata": {
  "kernelspec": {
   "display_name": "SoS",
   "language": "sos",
   "name": "sos"
  },
  "language_info": {
   "codemirror_mode": "sos",
   "file_extension": ".sos",
   "mimetype": "text/x-sos",
   "name": "sos",
   "nbconvert_exporter": "sos_notebook.converter.SoS_Exporter",
   "pygments_lexer": "sos"
  },
  "sos": {
   "kernels": [
    [
     "Bash",
     "calysto_bash",
     "Bash",
     "#E6EEFF",
     "shell"
    ],
    [
     "Python3",
     "python3",
     "Python3",
     "#FFD91A",
     ""
    ]
   ],
   "version": "0.22.6"
  }
 },
 "nbformat": 4,
 "nbformat_minor": 5
}
