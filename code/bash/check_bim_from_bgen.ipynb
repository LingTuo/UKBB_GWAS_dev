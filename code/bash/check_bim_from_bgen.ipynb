{
 "cells": [
  {
   "cell_type": "markdown",
   "id": "982a55f9-8661-44b2-93fc-7032c8f6a26d",
   "metadata": {
    "kernel": "SoS"
   },
   "source": [
    "## Test the code for the creation of the bim file to annotate"
   ]
  },
  {
   "cell_type": "code",
   "execution_count": null,
   "id": "cddd4020-21f9-4866-8b4f-9a149d0eb270",
   "metadata": {
    "kernel": "SoS",
    "tags": []
   },
   "outputs": [],
   "source": [
    "bgenix -g ${_input} -list | awk 'NR>2 { gsub(\"_\",\":\",$1); print $3, $1, $4, $7, $6 }' | awk 'BEGIN{FS=OFS=\" \"}{$2 = $2 OFS 0}1'  > ${_output}"
   ]
  },
  {
   "cell_type": "code",
   "execution_count": 2,
   "id": "e8e02dd2-7a0a-4b1b-8d92-9583cb0466c2",
   "metadata": {
    "kernel": "Bash",
    "tags": []
   },
   "outputs": [],
   "source": [
    "cd $HOME/test"
   ]
  },
  {
   "cell_type": "code",
   "execution_count": 3,
   "id": "26cfb6f9-f1c8-44c3-ad2d-c41fbf484bd0",
   "metadata": {
    "kernel": "Bash"
   },
   "outputs": [
    {
     "name": "stdout",
     "output_type": "stream",
     "text": [
      "/home/dmc2245/test\n"
     ]
    }
   ],
   "source": [
    "pwd"
   ]
  },
  {
   "cell_type": "markdown",
   "id": "eb0da9bc-353c-4b5c-86a2-9305bc7de40b",
   "metadata": {
    "kernel": "Bash"
   },
   "source": [
    "## Install bgenix"
   ]
  },
  {
   "cell_type": "code",
   "execution_count": null,
   "id": "4c5f154d-7297-468a-b8d8-02b51e323a7f",
   "metadata": {
    "kernel": "Bash"
   },
   "outputs": [],
   "source": [
    "## Had to install bgenix first\n",
    "# get it\n",
    "wget http://code.enkre.net/bgen/tarball/release/bgen.tgz\n",
    "cd bgen\n",
    "# compile it\n",
    "./waf configure\n",
    "./waf\n",
    "# test it\n",
    "./build/test/unit/test_bgen\n",
    "./build/apps/bgenix -g example/example.16bits.bgen -list"
   ]
  },
  {
   "cell_type": "markdown",
   "id": "f90758d7-1213-4e79-ad59-443fcef7389f",
   "metadata": {
    "kernel": "Bash"
   },
   "source": [
    "## Or load from the cluster"
   ]
  },
  {
   "cell_type": "code",
   "execution_count": null,
   "id": "d6e791d5-67ce-41f6-9106-6d16d7cbcc7c",
   "metadata": {
    "kernel": "Bash"
   },
   "outputs": [],
   "source": [
    "module load Bgenix/1.1.8"
   ]
  },
  {
   "cell_type": "markdown",
   "id": "f67421dc-2e5e-4b30-8e65-075bb690586a",
   "metadata": {
    "kernel": "Bash"
   },
   "source": [
    "## The files need to be indexed first (*.bgi)"
   ]
  },
  {
   "cell_type": "code",
   "execution_count": 6,
   "id": "592d7d9d-c171-453d-ad72-adda06a56cd5",
   "metadata": {
    "kernel": "Bash",
    "tags": []
   },
   "outputs": [
    {
     "name": "stdout",
     "output_type": "stream",
     "text": [
      "\n",
      "Welcome to bgenix\n",
      "(version: 1.1.8, revision )\n",
      "\n",
      "(C) 2009-2017 University of Oxford\n",
      "\n",
      "Building query                                              :  (1255683/?,1.7s,743648.5/s)\n",
      "\n",
      "Thank you for using bgenix.\n"
     ]
    }
   ],
   "source": [
    "## The  number of alleles is 2 for every variant\n",
    "bgenix -g /mnt/mfs/statgen/archive/UKBiobank_Yale_transfer/ukb39554_imputeddataset/ukb_imp_chr22_v3.bgen -list > ukb_imp_chr22_v3.list"
   ]
  },
  {
   "cell_type": "code",
   "execution_count": 11,
   "id": "b8a2b2fe-c95b-47cc-9d33-c36884187c33",
   "metadata": {
    "kernel": "Bash"
   },
   "outputs": [
    {
     "name": "stdout",
     "output_type": "stream",
     "text": [
      "# bgenix: started 2021-08-03 13:57:05\n",
      "alternate_ids\trsid\tchromosome\tposition\tnumber_of_alleles\tfirst_allele\talternative_alleles\n",
      "22:16050075_A_G\trs587697622\t22\t16050075\t2\tA\tG\n",
      "22:16050115_G_A\trs587755077\t22\t16050115\t2\tG\tA\n",
      "22:16050213_C_T\trs587654921\t22\t16050213\t2\tC\tT\n",
      "22:16050319_C_T\trs587712275\t22\t16050319\t2\tC\tT\n",
      "22:16050435_T_C\t22:16050435_T_C\t22\t16050435\t2\tT\tC\n",
      "22:16050527_C_A\trs587769434\t22\t16050527\t2\tC\tA\n",
      "22:16050568_C_A\trs587638893\t22\t16050568\t2\tC\tA\n",
      "22:16050607_G_A\trs587720402\t22\t16050607\t2\tG\tA\n",
      "cat: write error: Broken pipe\n"
     ]
    }
   ],
   "source": [
    "cat ukb_imp_chr22_v3.list | head"
   ]
  },
  {
   "cell_type": "code",
   "execution_count": 13,
   "id": "3ef3cc32-47ed-4f48-a716-7cb31b7e9f62",
   "metadata": {
    "kernel": "SoS"
   },
   "outputs": [
    {
     "name": "stdout",
     "output_type": "stream",
     "text": [
      "22 22:16050075:A:G 16050075 G A\n",
      "22 22:16050115:G:A 16050115 A G\n",
      "22 22:16050213:C:T 16050213 T C\n",
      "22 22:16050319:C:T 16050319 T C\n",
      "22 22:16050435:T:C 16050435 C T\n",
      "22 22:16050527:C:A 16050527 A C\n",
      "22 22:16050568:C:A 16050568 A C\n",
      "22 22:16050607:G:A 16050607 A G\n",
      "22 22:16050627:G:T 16050627 T G\n",
      "22 22:16050646:G:T 16050646 T G\n",
      "cat: write error: Broken pipe\n"
     ]
    }
   ],
   "source": [
    "cat ukb_imp_chr22_v3.list | awk 'NR>2 { gsub(\"_\",\":\",$1); print $3, $1, $4, $7, $6 }'  | head"
   ]
  },
  {
   "cell_type": "code",
   "execution_count": 18,
   "id": "9418462c-218d-4a8e-bb9d-58bd78412396",
   "metadata": {
    "kernel": "SoS"
   },
   "outputs": [
    {
     "name": "stdout",
     "output_type": "stream",
     "text": [
      "22 22:16050075:A:G 0 16050075 G A\n",
      "22 22:16050115:G:A 0 16050115 A G\n",
      "22 22:16050213:C:T 0 16050213 T C\n",
      "22 22:16050319:C:T 0 16050319 T C\n",
      "22 22:16050435:T:C 0 16050435 C T\n",
      "22 22:16050527:C:A 0 16050527 A C\n",
      "22 22:16050568:C:A 0 16050568 A C\n",
      "22 22:16050607:G:A 0 16050607 A G\n",
      "22 22:16050627:G:T 0 16050627 T G\n",
      "22 22:16050646:G:T 0 16050646 T G\n",
      "cat: write error: Broken pipe\n"
     ]
    }
   ],
   "source": [
    "cat ukb_imp_chr22_v3.list | awk 'NR>2 { gsub(\"_\",\":\",$1); print $3, $1, $4, $7, $6 }'| awk 'BEGIN{FS=OFS=\" \"}{$2 = $2 OFS 0}1' | head #> ukb_imp_chr22_v3.bim"
   ]
  },
  {
   "cell_type": "code",
   "execution_count": 17,
   "id": "23ee5118-03f1-4517-9a6d-1fd57898b1bf",
   "metadata": {
    "kernel": "SoS"
   },
   "outputs": [
    {
     "name": "stdout",
     "output_type": "stream",
     "text": [
      "22 22:16050075:A:G 0 16050075 G A\n",
      "22 22:16050115:G:A 0 16050115 A G\n",
      "22 22:16050213:C:T 0 16050213 T C\n",
      "22 22:16050319:C:T 0 16050319 T C\n",
      "22 22:16050435:T:C 0 16050435 C T\n",
      "22 22:16050527:C:A 0 16050527 A C\n",
      "22 22:16050568:C:A 0 16050568 A C\n",
      "22 22:16050607:G:A 0 16050607 A G\n",
      "22 22:16050627:G:T 0 16050627 T G\n",
      "22 22:16050646:G:T 0 16050646 T G\n",
      "cat: write error: Broken pipe\n"
     ]
    }
   ],
   "source": [
    "cat ukb_imp_chr22_v3.bim | awk '{x=$1+0;print x,$2,$3,$4,$5,$6}' | head"
   ]
  },
  {
   "cell_type": "code",
   "execution_count": 20,
   "id": "73f557d8-4597-4431-b2b6-9c42b497e5a1",
   "metadata": {
    "kernel": "SoS"
   },
   "outputs": [],
   "source": [
    "awk -F\"\\t\" 'NR==FNR{a[$1]=$1\" \"$2\" \"$3\" \"$4; next} ($2 in a){print $1,$2,$3,$4,$5,$6,a[$2]}' \\\n",
    "/home/dmc2245/scratch60/EOHI_thashi/exome_data/mendelian_like/full_mendilian-like_pheno_file_mendilian-like.regenie.snp_annotate \\\n",
    "/mnt/mfs/statgen/UKBiobank/data/exome_bim_merge/ukb23155_chr1_chr22.bim"
   ]
  },
  {
   "cell_type": "code",
   "execution_count": 5,
   "id": "bbabd257-f630-4dea-82a9-dc827130a67a",
   "metadata": {
    "kernel": "SoS"
   },
   "outputs": [
    {
     "name": "stdout",
     "output_type": "stream",
     "text": [
      "1\t1:69081:G:C\t0\t69081\tC\tG\n",
      "1\t1:69134:A:G\t0\t69134\tG\tA\n",
      "1\t1:69149:T:A\t0\t69149\tA\tT\n",
      "1\t1:69217:G:A\t0\t69217\tA\tG\n",
      "1\t1:69224:A:T\t0\t69224\tT\tA\n",
      "1\t1:69231:C:T\t0\t69231\tT\tC\n",
      "1\t1:69270:A:G\t0\t69270\tG\tA\n",
      "1\t1:69281:T:C\t0\t69281\tC\tT\n",
      "1\t1:69314:T:C\t0\t69314\tC\tT\n",
      "1\t1:69315:T:C\t0\t69315\tC\tT\n",
      "cat: write error: Broken pipe\n"
     ]
    }
   ],
   "source": [
    "cat /mnt/mfs/statgen/UKBiobank/data/exome_bim_merge/ukb23155_chr1_chr22.bim | head"
   ]
  },
  {
   "cell_type": "code",
   "execution_count": 21,
   "id": "c690ff35-4cfe-4ae8-9913-eff95420c06f",
   "metadata": {
    "kernel": "SoS"
   },
   "outputs": [
    {
     "name": "stdout",
     "output_type": "stream",
     "text": [
      "chr1:926055:C:T 4.16672 1.18382 0.00333004421550869\n",
      "chr1:942846:C:T 3.91914 0.840537 0.000311021205258155\n",
      "chr1:943961:G:A -2.60346 1.34662 0.00145140962910374\n",
      "chr1:944824:A:G 4.01543 1.11106 0.00388275511055086\n",
      "chr1:948167:G:A 2.78527 0.779088 0.00378451298779958\n",
      "chr1:952197:G:A 4.04284 1.26172 0.00435361479187048\n",
      "chr1:957293:C:T 2.53312 0.625058 0.00122472899577964\n",
      "chr1:961640:G:GA 3.91813 1.09278 0.00444303771712748\n",
      "chr1:963405:A:C 3.5675 0.905609 0.00081752303794365\n",
      "chr1:963524:C:T 4.19848 1.21585 0.00323660723052291\n",
      "cat: write error: Broken pipe\n"
     ]
    }
   ],
   "source": [
    "cat /home/dmc2245/scratch60/EOHI_thashi/exome_data/mendelian_like/full_mendilian-like_pheno_file_mendilian-like.regenie.snp_annotate | head"
   ]
  },
  {
   "cell_type": "code",
   "execution_count": 1,
   "id": "c041897e-8413-4239-b46a-43c3d1bc12c1",
   "metadata": {
    "kernel": "SoS"
   },
   "outputs": [],
   "source": [
    "cat /home/dmc2245/scratch60/EOHI_thashi/exome_data/mendelian_like/full_mendilian-like_pheno_file_mendilian-like.regenie.snp_annotate  | sed 's/chr//' > \\\n",
    "/home/dmc2245/scratch60/EOHI_thashi/exome_data/mendelian_like/full_mendilian-like_pheno_file_mendilian-like.regenie.snp_annotate_new\n"
   ]
  },
  {
   "cell_type": "code",
   "execution_count": 4,
   "id": "f3a18afb-083d-4b52-b872-107d51748910",
   "metadata": {
    "kernel": "Bash",
    "tags": []
   },
   "outputs": [],
   "source": [
    "awk -F\"\\t\" 'NR==FNR{a[$1]=$1\" \"$2\" \"$3\" \"$4; next} ($2 in a){print $1,$2,$3,$4,$5,$6,a[$2]}' \\\n",
    "/home/dmc2245/scratch60/EOHI_thashi/exome_data/mendelian_like/full_mendilian-like_pheno_file_mendilian-like.regenie.snp_annotate_new \\\n",
    "/mnt/mfs/statgen/UKBiobank/data/exome_bim_merge/ukb23155_chr1_chr22.bim"
   ]
  },
  {
   "cell_type": "code",
   "execution_count": 22,
   "id": "b83f4132-5c2d-4389-a57e-50e6ded01279",
   "metadata": {
    "kernel": "SoS"
   },
   "outputs": [
    {
     "name": "stdout",
     "output_type": "stream",
     "text": [
      "1\t1:69081:G:C\t0\t69081\tC\tG\n",
      "1\t1:69134:A:G\t0\t69134\tG\tA\n",
      "1\t1:69149:T:A\t0\t69149\tA\tT\n",
      "1\t1:69217:G:A\t0\t69217\tA\tG\n",
      "1\t1:69224:A:T\t0\t69224\tT\tA\n",
      "1\t1:69231:C:T\t0\t69231\tT\tC\n",
      "1\t1:69270:A:G\t0\t69270\tG\tA\n",
      "1\t1:69281:T:C\t0\t69281\tC\tT\n",
      "1\t1:69314:T:C\t0\t69314\tC\tT\n",
      "1\t1:69315:T:C\t0\t69315\tC\tT\n",
      "cat: write error: Broken pipe\n"
     ]
    }
   ],
   "source": [
    "cat /mnt/mfs/statgen/UKBiobank/data/exome_bim_merge/ukb23155_chr1_chr22.bim | head"
   ]
  },
  {
   "cell_type": "markdown",
   "id": "58ce9f50-b8cd-4468-b7ef-d897172669db",
   "metadata": {
    "kernel": "SoS"
   },
   "source": [
    "## Generalize annotation pipeline for both exome bim input and imputed data input"
   ]
  },
  {
   "cell_type": "code",
   "execution_count": 6,
   "id": "333d18d8-7152-4356-b42f-16201db7c376",
   "metadata": {
    "kernel": "SoS"
   },
   "outputs": [
    {
     "name": "stdout",
     "output_type": "stream",
     "text": [
      "1\t1:69465:D:3\t0\t69465\tC\tCACT\n",
      "1\t1:69469:D:5\t0\t69469\tA\tACAATT\n",
      "1\t1:69476:D:1\t0\t69476\tT\tTG\n",
      "1\t1:69555:D:1\t0\t69555\tT\tTG\n",
      "1\t1:69702:D:1\t0\t69702\tT\tTG\n",
      "1\t1:925849:D:16\t0\t925849\tT\tTACTGGCCCTGCCGCTG\n",
      "1\t1:926005:D:1\t0\t926005\tT\tTC\n",
      "1\t1:926073:D:9\t0\t926073\tC\tCGGTTTTCAG\n",
      "1\t1:926094:D:1\t0\t926094\tT\tTC\n",
      "1\t1:930081:D:21\t0\t930081\tA\tAGCCCCACCTTCCTCTCCTCCT\n",
      "grep: write error: Broken pipe\n",
      "cat: write error: Broken pipe\n"
     ]
    }
   ],
   "source": [
    "cat /mnt/mfs/statgen/UKBiobank/data/exome_bim_merge/ukb23155_chr1_chr22.bim | grep \"D\" | head"
   ]
  },
  {
   "cell_type": "code",
   "execution_count": 9,
   "id": "0e5165fb-aa36-4648-8c49-c905581810c5",
   "metadata": {
    "kernel": "SoS"
   },
   "outputs": [
    {
     "name": "stdout",
     "output_type": "stream",
     "text": [
      "1 1:10177:A:AC 0 10177 AC A\n",
      "1 1:10235:T:TA 0 10235 TA T\n",
      "1 1:10352:T:TA 0 10352 TA T\n",
      "1 1:10505:A:T 0 10505 T A\n",
      "1 1:10506:C:G 0 10506 G C\n",
      "1 1:10511:G:A 0 10511 A G\n",
      "1 1:10539:C:A 0 10539 A C\n",
      "1 1:10542:C:T 0 10542 T C\n",
      "1 1:10579:C:A 0 10579 A C\n",
      "1 1:10616:CCGCCGTTGCAAAGGCGCGCCG:C 0 10616 C CCGCCGTTGCAAAGGCGCGCCG\n",
      "cat: write error: Broken pipe\n"
     ]
    }
   ],
   "source": [
    "# grep D produces no result\n",
    "cat /mnt/mfs/statgen/UKBiobank/data/bgen_bim_merge/ukb39554_imputed_variants.merged.bim | head"
   ]
  },
  {
   "cell_type": "code",
   "execution_count": 12,
   "id": "cdddfd6e-8290-4eec-aeb5-83788fc5a84c",
   "metadata": {
    "kernel": "SoS"
   },
   "outputs": [
    {
     "name": "stdout",
     "output_type": "stream",
     "text": [
      "1 69465 69468 CACT C 1:69465:D:3\n",
      "1 69469 69474 ACAATT A 1:69469:D:5\n",
      "1 69476 69477 TG T 1:69476:D:1\n",
      "1 69555 69556 TG T 1:69555:D:1\n",
      "1 69702 69703 TG T 1:69702:D:1\n",
      "1 925849 925865 TACTGGCCCTGCCGCTG T 1:925849:D:16\n",
      "1 926005 926006 TC T 1:926005:D:1\n",
      "1 926073 926082 CGGTTTTCAG C 1:926073:D:9\n",
      "1 926094 926095 TC T 1:926094:D:1\n",
      "1 930081 930102 AGCCCCACCTTCCTCTCCTCCT A 1:930081:D:21\n",
      "grep: write error: Broken pipe\n",
      "cat: write error: Broken pipe\n"
     ]
    }
   ],
   "source": [
    "cat /mnt/mfs/statgen/UKBiobank/data/exome_bim_merge/ukb23155_chr1_chr22.bim | grep \"D\" |\\\n",
    "awk '{if ($2 ~ /D/) {print $1, $4, $4 + (length ($6) - length ($5)), $6, $5, $2} else {print $1, $4, $4, $6, $5, $2}}' | \\\n",
    "head"
   ]
  },
  {
   "cell_type": "code",
   "execution_count": 15,
   "id": "a45a7de3-d63a-40e0-bafb-032bf6b46cc2",
   "metadata": {
    "kernel": "SoS"
   },
   "outputs": [
    {
     "name": "stdout",
     "output_type": "stream",
     "text": [
      "1 69465 69468 CACT C 1:69465:D:3\n",
      "1 69469 69474 ACAATT A 1:69469:D:5\n",
      "1 69476 69477 TG T 1:69476:D:1\n",
      "1 69555 69556 TG T 1:69555:D:1\n",
      "1 69702 69703 TG T 1:69702:D:1\n",
      "1 925849 925865 TACTGGCCCTGCCGCTG T 1:925849:D:16\n",
      "1 926005 926006 TC T 1:926005:D:1\n",
      "1 926073 926082 CGGTTTTCAG C 1:926073:D:9\n",
      "1 926094 926095 TC T 1:926094:D:1\n",
      "1 930081 930102 AGCCCCACCTTCCTCTCCTCCT A 1:930081:D:21\n",
      "grep: write error: Broken pipe\n",
      "cat: write error: Broken pipe\n"
     ]
    }
   ],
   "source": [
    "cat /mnt/mfs/statgen/UKBiobank/data/exome_bim_merge/ukb23155_chr1_chr22.bim | grep \"D\" |\\\n",
    "awk '{if ($6 > $5) {print $1, $4, $4 + (length ($6) - length ($5)), $6, $5, $2} else {print $1, $4, $4, $6, $5, $2}}' | \\\n",
    "head"
   ]
  },
  {
   "cell_type": "code",
   "execution_count": 6,
   "id": "bb72c8ed-cfef-4c56-b8a7-f203385de2f9",
   "metadata": {},
   "outputs": [
    {
     "name": "stdout",
     "output_type": "stream",
     "text": [
      "1 1:10177:A:AC 0 10177 AC A\n",
      "1 1:10235:T:TA 0 10235 TA T\n",
      "1 1:10352:T:TA 0 10352 TA T\n",
      "1 1:10505:A:T 0 10505 T A\n",
      "1 1:10506:C:G 0 10506 G C\n",
      "1 1:10511:G:A 0 10511 A G\n",
      "1 1:10539:C:A 0 10539 A C\n",
      "1 1:10542:C:T 0 10542 T C\n",
      "1 1:10579:C:A 0 10579 A C\n",
      "1 1:10616:CCGCCGTTGCAAAGGCGCGCCG:C 0 10616 C CCGCCGTTGCAAAGGCGCGCCG\n",
      "1 1:10642:G:A 0 10642 A G\n",
      "1 1:11008:C:G 0 11008 G C\n",
      "1 1:11012:C:G 0 11012 G C\n",
      "1 1:11063:T:G 0 11063 G T\n",
      "1 1:13011:T:G 0 13011 G T\n",
      "1 1:13110:G:A 0 13110 A G\n",
      "1 1:13116:T:G 0 13116 G T\n",
      "1 1:13118:A:G 0 13118 G A\n",
      "1 1:13156:G:C 0 13156 C G\n",
      "1 1:13259:G:A 0 13259 A G\n",
      "1 1:13273:G:C 0 13273 C G\n",
      "1 1:13284:G:A 0 13284 A G\n",
      "1 1:13289:CCT:C 0 13289 C CCT\n",
      "1 1:13289:C:T 0 13289 T C\n",
      "1 1:13313:T:G 0 13313 G T\n",
      "1 1:13365:C:T 0 13365 T C\n",
      "1 1:13380:C:G 0 13380 G C\n",
      "1 1:13382:C:G 0 13382 G C\n",
      "1 1:13445:C:G 0 13445 G C\n",
      "1 1:13453:T:C 0 13453 C T\n",
      "1 1:13482:G:C 0 13482 C G\n",
      "1 1:13483:G:C 0 13483 C G\n",
      "1 1:13494:A:G 0 13494 G A\n",
      "1 1:13543:T:G 0 13543 G T\n",
      "1 1:13550:G:A 0 13550 A G\n",
      "1 1:14462:A:G 0 14462 G A\n",
      "1 1:14464:A:T 0 14464 T A\n",
      "1 1:14564:G:A 0 14564 A G\n",
      "1 1:14599:T:A 0 14599 A T\n",
      "1 1:14604:A:G 0 14604 G A\n",
      "1 1:14674:G:A 0 14674 A G\n",
      "1 1:14719:C:A 0 14719 A C\n",
      "1 1:14728:C:A 0 14728 A C\n",
      "1 1:14775:C:T 0 14775 T C\n",
      "1 1:14860:G:A 0 14860 A G\n",
      "1 1:14874:G:C 0 14874 C G\n",
      "1 1:14930:A:G 0 14930 G A\n",
      "1 1:14933:G:A 0 14933 A G\n",
      "1 1:14975:C:T 0 14975 T C\n",
      "1 1:15031:G:A 0 15031 A G\n",
      "1 1:15089:C:T 0 15089 T C\n",
      "1 1:15117:C:T 0 15117 T C\n",
      "1 1:15179:G:T 0 15179 T G\n",
      "1 1:15211:T:G 0 15211 G T\n",
      "1 1:15241:G:T 0 15241 T G\n",
      "1 1:15245:C:T 0 15245 T C\n",
      "1 1:15255:G:C 0 15255 C G\n",
      "1 1:15260:C:T 0 15260 T C\n",
      "1 1:15418:G:A 0 15418 A G\n",
      "1 1:15585:G:A 0 15585 A G\n",
      "1 1:15627:T:C 0 15627 C T\n",
      "1 1:15644:G:A 0 15644 A G\n",
      "1 1:15774:G:A 0 15774 A G\n",
      "1 1:15776:A:T 0 15776 T A\n",
      "1 1:15777:A:G 0 15777 G A\n",
      "1 1:15790:G:A 0 15790 A G\n",
      "1 1:15791:C:T 0 15791 T C\n",
      "1 1:15820:G:T 0 15820 T G\n",
      "1 1:15833:T:C 0 15833 C T\n",
      "1 1:15849:C:T 0 15849 T C\n",
      "1 1:15850:G:A 0 15850 A G\n",
      "1 1:15886:T:C 0 15886 C T\n",
      "1 1:15893:T:C 0 15893 C T\n",
      "1 1:15903:G:GC 0 15903 GC G\n",
      "1 1:16042:G:C 0 16042 C G\n",
      "1 1:16071:G:A 0 16071 A G\n",
      "1 1:16091:G:A 0 16091 A G\n",
      "1 1:16109:C:A 0 16109 A C\n",
      "1 1:16127:C:A 0 16127 A C\n",
      "1 1:16140:G:A 0 16140 A G\n",
      "1 1:16141:C:T 0 16141 T C\n",
      "1 1:16142:G:A 0 16142 A G\n",
      "1 1:16280:T:C 0 16280 C T\n",
      "1 1:16365:G:C 0 16365 C G\n",
      "1 1:16485:T:C 0 16485 C T\n",
      "1 1:16489:T:A 0 16489 A T\n",
      "1 1:16515:A:C 0 16515 C A\n",
      "1 1:16542:C:A 0 16542 A C\n",
      "1 1:16738:G:A 0 16738 A G\n",
      "1 1:16834:C:T 0 16834 T C\n",
      "1 1:16911:CA:C 0 16911 C CA\n",
      "1 1:16949:A:C 0 16949 C A\n",
      "1 1:17272:G:A 0 17272 A G\n",
      "1 1:17462:G:A 0 17462 A G\n",
      "1 1:17569:C:A 0 17569 A C\n",
      "1 1:17571:C:T 0 17571 T C\n",
      "1 1:17641:G:A 0 17641 A G\n",
      "1 1:17654:T:C 0 17654 C T\n",
      "1 1:17694:C:T 0 17694 T C\n",
      "1 1:17695:G:A 0 17695 A G\n",
      "cat: write error: Broken pipe\n"
     ]
    }
   ],
   "source": [
    "cat /home/dmc2245/UKBiobank/results/ukb39554_imputeddataset_bim_files/ukb_mfi_chr1_v3.bim | head -n 100"
   ]
  },
  {
   "cell_type": "code",
   "execution_count": 7,
   "id": "17e652e3-45ad-4c98-bb88-494f2de65b34",
   "metadata": {
    "kernel": "SoS",
    "scrolled": true,
    "tags": []
   },
   "outputs": [
    {
     "name": "stdout",
     "output_type": "stream",
     "text": [
      "1 10177 10177 A AC 1:10177:A:AC\n",
      "1 10235 10235 T TA 1:10235:T:TA\n",
      "1 10352 10352 T TA 1:10352:T:TA\n",
      "1 10505 10505 A T 1:10505:A:T\n",
      "1 10506 10506 C G 1:10506:C:G\n",
      "1 10511 10511 G A 1:10511:G:A\n",
      "1 10539 10539 C A 1:10539:C:A\n",
      "1 10542 10542 C T 1:10542:C:T\n",
      "1 10579 10579 C A 1:10579:C:A\n",
      "1 10616 10637 CCGCCGTTGCAAAGGCGCGCCG C 1:10616:CCGCCGTTGCAAAGGCGCGCCG:C\n",
      "1 10642 10642 G A 1:10642:G:A\n",
      "1 11008 11008 C G 1:11008:C:G\n",
      "1 11012 11012 C G 1:11012:C:G\n",
      "1 11063 11063 T G 1:11063:T:G\n",
      "1 13011 13011 T G 1:13011:T:G\n",
      "1 13110 13110 G A 1:13110:G:A\n",
      "1 13116 13116 T G 1:13116:T:G\n",
      "1 13118 13118 A G 1:13118:A:G\n",
      "1 13156 13156 G C 1:13156:G:C\n",
      "1 13259 13259 G A 1:13259:G:A\n",
      "1 13273 13273 G C 1:13273:G:C\n",
      "1 13284 13284 G A 1:13284:G:A\n",
      "1 13289 13291 CCT C 1:13289:CCT:C\n",
      "1 13289 13289 C T 1:13289:C:T\n",
      "1 13313 13313 T G 1:13313:T:G\n",
      "1 13365 13365 C T 1:13365:C:T\n",
      "1 13380 13380 C G 1:13380:C:G\n",
      "1 13382 13382 C G 1:13382:C:G\n",
      "1 13445 13445 C G 1:13445:C:G\n",
      "1 13453 13453 T C 1:13453:T:C\n",
      "1 13482 13482 G C 1:13482:G:C\n",
      "1 13483 13483 G C 1:13483:G:C\n",
      "1 13494 13494 A G 1:13494:A:G\n",
      "1 13543 13543 T G 1:13543:T:G\n",
      "1 13550 13550 G A 1:13550:G:A\n",
      "1 14462 14462 A G 1:14462:A:G\n",
      "1 14464 14464 A T 1:14464:A:T\n",
      "1 14564 14564 G A 1:14564:G:A\n",
      "1 14599 14599 T A 1:14599:T:A\n",
      "1 14604 14604 A G 1:14604:A:G\n",
      "1 14674 14674 G A 1:14674:G:A\n",
      "1 14719 14719 C A 1:14719:C:A\n",
      "1 14728 14728 C A 1:14728:C:A\n",
      "1 14775 14775 C T 1:14775:C:T\n",
      "1 14860 14860 G A 1:14860:G:A\n",
      "1 14874 14874 G C 1:14874:G:C\n",
      "1 14930 14930 A G 1:14930:A:G\n",
      "1 14933 14933 G A 1:14933:G:A\n",
      "1 14975 14975 C T 1:14975:C:T\n",
      "1 15031 15031 G A 1:15031:G:A\n",
      "1 15089 15089 C T 1:15089:C:T\n",
      "1 15117 15117 C T 1:15117:C:T\n",
      "1 15179 15179 G T 1:15179:G:T\n",
      "1 15211 15211 T G 1:15211:T:G\n",
      "1 15241 15241 G T 1:15241:G:T\n",
      "1 15245 15245 C T 1:15245:C:T\n",
      "1 15255 15255 G C 1:15255:G:C\n",
      "1 15260 15260 C T 1:15260:C:T\n",
      "1 15418 15418 G A 1:15418:G:A\n",
      "1 15585 15585 G A 1:15585:G:A\n",
      "1 15627 15627 T C 1:15627:T:C\n",
      "1 15644 15644 G A 1:15644:G:A\n",
      "1 15774 15774 G A 1:15774:G:A\n",
      "1 15776 15776 A T 1:15776:A:T\n",
      "1 15777 15777 A G 1:15777:A:G\n",
      "1 15790 15790 G A 1:15790:G:A\n",
      "1 15791 15791 C T 1:15791:C:T\n",
      "1 15820 15820 G T 1:15820:G:T\n",
      "1 15833 15833 T C 1:15833:T:C\n",
      "1 15849 15849 C T 1:15849:C:T\n",
      "1 15850 15850 G A 1:15850:G:A\n",
      "1 15886 15886 T C 1:15886:T:C\n",
      "1 15893 15893 T C 1:15893:T:C\n",
      "1 15903 15903 G GC 1:15903:G:GC\n",
      "1 16042 16042 G C 1:16042:G:C\n",
      "1 16071 16071 G A 1:16071:G:A\n",
      "1 16091 16091 G A 1:16091:G:A\n",
      "1 16109 16109 C A 1:16109:C:A\n",
      "1 16127 16127 C A 1:16127:C:A\n",
      "1 16140 16140 G A 1:16140:G:A\n",
      "1 16141 16141 C T 1:16141:C:T\n",
      "1 16142 16142 G A 1:16142:G:A\n",
      "1 16280 16280 T C 1:16280:T:C\n",
      "1 16365 16365 G C 1:16365:G:C\n",
      "1 16485 16485 T C 1:16485:T:C\n",
      "1 16489 16489 T A 1:16489:T:A\n",
      "1 16515 16515 A C 1:16515:A:C\n",
      "1 16542 16542 C A 1:16542:C:A\n",
      "1 16738 16738 G A 1:16738:G:A\n",
      "1 16834 16834 C T 1:16834:C:T\n",
      "1 16911 16912 CA C 1:16911:CA:C\n",
      "1 16949 16949 A C 1:16949:A:C\n",
      "1 17272 17272 G A 1:17272:G:A\n",
      "1 17462 17462 G A 1:17462:G:A\n",
      "1 17569 17569 C A 1:17569:C:A\n",
      "1 17571 17571 C T 1:17571:C:T\n",
      "1 17641 17641 G A 1:17641:G:A\n",
      "1 17654 17654 T C 1:17654:T:C\n",
      "1 17694 17694 C T 1:17694:C:T\n",
      "1 17695 17695 G A 1:17695:G:A\n",
      "cat: write error: Broken pipe\n"
     ]
    }
   ],
   "source": [
    "cat /home/dmc2245/UKBiobank/results/ukb39554_imputeddataset_bim_files/ukb_mfi_chr1_v3.bim | \\\n",
    "awk '{if ($6 > $5) {print $1, $4, $4 + (length ($6) - 1), $6, $5, $2} else {print $1, $4, $4, $6, $5, $2}}' | head -n 100"
   ]
  },
  {
   "cell_type": "code",
   "execution_count": 3,
   "id": "b930cb19-e8df-400e-a3ed-466ea9e970f6",
   "metadata": {
    "kernel": "SoS",
    "scrolled": true,
    "tags": []
   },
   "outputs": [
    {
     "name": "stdout",
     "output_type": "stream",
     "text": [
      "1 1:10616:CCGCCGTTGCAAAGGCGCGCCG:C 0 10616 C CCGCCGTTGCAAAGGCGCGCCG\n",
      "1 1:13289:CCT:C 0 13289 C CCT\n",
      "1 1:16911:CA:C 0 16911 C CA\n",
      "1 1:46285:ATAT:A 0 46285 A ATAT\n",
      "1 1:51714:AAGTT:A 0 51714 A AAGTT\n",
      "1 1:51972:GGAC:G 0 51972 G GGAC\n",
      "1 1:52152:ATAAT:A 0 52152 A ATAAT\n",
      "1 1:52185:TTAA:T 0 52185 T TTAA\n",
      "1 1:53234:CAT:C 0 53234 C CAT\n",
      "1 1:62094:CT:C 0 62094 C CT\n",
      "1 1:62838:TTAA:T 0 62838 T TTAA\n",
      "1 1:62863:CACTT:C 0 62863 C CACTT\n",
      "1 1:63735:CCTA:C 0 63735 C CCTA\n",
      "1 1:64512:TG:T 0 64512 T TG\n",
      "1 1:65024:CT:C 0 65024 C CT\n",
      "1 1:66231:TAATA:T 0 66231 T TAATA\n",
      "1 1:66435:ATT:A 0 66435 A ATT\n",
      "1 1:70351:TA:T 0 70351 T TA\n",
      "1 1:74003:AC:A 0 74003 A AC\n",
      "1 1:81590:AC:A 0 81590 A AC\n",
      "cat: write error: Broken pipe\n"
     ]
    }
   ],
   "source": [
    "cat /home/dmc2245/UKBiobank/results/ukb39554_imputeddataset_bim_files/ukb_mfi_chr1_v3.bim | \\\n",
    "awk 'length($6) > length($5)' | head -n 20"
   ]
  },
  {
   "cell_type": "code",
   "execution_count": 2,
   "id": "cf38171a-ac85-457d-b5ae-894c4bf6832a",
   "metadata": {},
   "outputs": [
    {
     "name": "stdout",
     "output_type": "stream",
     "text": [
      "1 10177 10177 A AC 1:10177:A:AC\n",
      "1 10235 10235 T TA 1:10235:T:TA\n",
      "1 10352 10352 T TA 1:10352:T:TA\n",
      "1 10505 10505 A T 1:10505:A:T\n",
      "1 10506 10506 C G 1:10506:C:G\n",
      "1 10511 10511 G A 1:10511:G:A\n",
      "1 10539 10539 C A 1:10539:C:A\n",
      "1 10542 10542 C T 1:10542:C:T\n",
      "1 10579 10579 C A 1:10579:C:A\n",
      "1 10616 10637 CCGCCGTTGCAAAGGCGCGCCG C 1:10616:CCGCCGTTGCAAAGGCGCGCCG:C\n",
      "1 10642 10642 G A 1:10642:G:A\n",
      "1 11008 11008 C G 1:11008:C:G\n",
      "1 11012 11012 C G 1:11012:C:G\n",
      "1 11063 11063 T G 1:11063:T:G\n",
      "1 13011 13011 T G 1:13011:T:G\n",
      "1 13110 13110 G A 1:13110:G:A\n",
      "1 13116 13116 T G 1:13116:T:G\n",
      "1 13118 13118 A G 1:13118:A:G\n",
      "1 13156 13156 G C 1:13156:G:C\n",
      "1 13259 13259 G A 1:13259:G:A\n",
      "cat: write error: Broken pipe\n"
     ]
    }
   ],
   "source": [
    " cat /home/dmc2245/UKBiobank/results/ukb39554_imputeddataset_bim_files/ukb_mfi_chr1_v3.bim | \\\n",
    " awk '{{print $1, $4, $4 + (length($6) - 1), $6, $5, $2}}' | head -n 20"
   ]
  },
  {
   "cell_type": "code",
   "execution_count": null,
   "id": "c04de7f6-cc16-4fc1-a757-25686980d340",
   "metadata": {},
   "outputs": [],
   "source": []
  }
 ],
 "metadata": {
  "kernelspec": {
   "display_name": "Bash",
   "language": "bash",
   "name": "bash"
  },
  "language_info": {
   "codemirror_mode": "shell",
   "file_extension": ".sh",
   "mimetype": "text/x-sh",
   "name": "bash"
  },
  "sos": {
   "kernels": [
    [
     "Bash",
     "calysto_bash",
     "Bash",
     "#E6EEFF",
     ""
    ],
    [
     "SoS",
     "sos",
     "",
     "",
     "sos"
    ]
   ],
   "version": "0.22.6"
  }
 },
 "nbformat": 4,
 "nbformat_minor": 5
}
