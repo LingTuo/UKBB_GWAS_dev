{
 "cells": [
  {
   "cell_type": "markdown",
   "id": "0febaec8-2c91-44d4-9604-9c45642738c3",
   "metadata": {
    "kernel": "SoS",
    "tags": []
   },
   "source": [
    "## Learn about TAF4 variant missingness and statistics of variant quality"
   ]
  },
  {
   "cell_type": "code",
   "execution_count": null,
   "id": "21263137-d33c-411d-b023-bdeccf34531b",
   "metadata": {
    "kernel": "Bash",
    "tags": []
   },
   "outputs": [],
   "source": [
    "module load PLINK/2.0"
   ]
  },
  {
   "cell_type": "code",
   "execution_count": 3,
   "id": "e8728ca7-fdd4-4adb-a3a0-526e30b72ee2",
   "metadata": {
    "kernel": "Bash"
   },
   "outputs": [
    {
     "name": "stdout",
     "output_type": "stream",
     "text": [
      "PLINK v2.00a3LM 64-bit Intel (12 Dec 2020)     www.cog-genomics.org/plink/2.0/\n",
      "(C) 2005-2020 Shaun Purcell, Christopher Chang   GNU General Public License v3\n",
      "Logging to /home/dmc2245/test/TAF4/rs185656881.log.\n",
      "Options in effect:\n",
      "  --bfile /home/dmc2245/UKBiobank/data/exome_files/project_VCF/072721_run/plink/ukb23156_c20.merged.filtered\n",
      "  --make-bed\n",
      "  --out /home/dmc2245/test/TAF4/rs185656881\n",
      "  --snp chr20:62065259:A:G\n",
      "\n",
      "Start time: Fri Mar 11 12:50:14 2022\n",
      "515677 MiB RAM detected; reserving 257838 MiB for main workspace.\n",
      "Allocated 81580 MiB successfully, after larger attempt(s) failed.\n",
      "Using up to 48 threads (change this with --threads).\n",
      "200643 samples (0 females, 0 males, 200643 ambiguous; 200643 founders) loaded\n",
      "from\n",
      "/home/dmc2245/UKBiobank/data/exome_files/project_VCF/072721_run/plink/ukb23156_c20.merged.filtered.fam.\n",
      "416879 variants loaded from\n",
      "/home/dmc2245/UKBiobank/data/exome_files/project_VCF/072721_run/plink/ukb23156_c20.merged.filtered.bim.\n",
      "Note: No phenotype data present.\n",
      "--snp: 1 variant remaining.\n",
      "1 variant remaining after main filters.\n",
      "Writing /home/dmc2245/test/TAF4/rs185656881.fam ... done.\n",
      "Writing /home/dmc2245/test/TAF4/rs185656881.bim ... done.\n",
      "Writing /home/dmc2245/test/TAF4/rs185656881.bed ... done.\n",
      "End time: Fri Mar 11 12:50:16 2022\n"
     ]
    }
   ],
   "source": [
    "#Extract TAF4 variant only\n",
    "plink2 --bfile ~/UKBiobank/data/exome_files/project_VCF/072721_run/plink/ukb23156_c20.merged.filtered --snp chr20:62065259:A:G --make-bed --out ~/test/TAF4/rs185656881"
   ]
  },
  {
   "cell_type": "code",
   "execution_count": 5,
   "id": "e2acc65d-3c25-48b1-83ab-c542119ba559",
   "metadata": {
    "kernel": "Bash"
   },
   "outputs": [
    {
     "name": "stdout",
     "output_type": "stream",
     "text": [
      "PLINK v2.00a3LM 64-bit Intel (12 Dec 2020)     www.cog-genomics.org/plink/2.0/\n",
      "(C) 2005-2020 Shaun Purcell, Christopher Chang   GNU General Public License v3\n",
      "Logging to /home/dmc2245/test/TAF4/rs185656881_missing.log.\n",
      "Options in effect:\n",
      "  --bfile /home/dmc2245/test/TAF4/rs185656881\n",
      "  --missing\n",
      "  --out /home/dmc2245/test/TAF4/rs185656881_missing\n",
      "\n",
      "Start time: Fri Mar 11 12:51:35 2022\n",
      "515677 MiB RAM detected; reserving 257838 MiB for main workspace.\n",
      "Allocated 81580 MiB successfully, after larger attempt(s) failed.\n",
      "Using up to 48 threads (change this with --threads).\n",
      "200643 samples (0 females, 0 males, 200643 ambiguous; 200643 founders) loaded\n",
      "from /home/dmc2245/test/TAF4/rs185656881.fam.\n",
      "1 variant loaded from /home/dmc2245/test/TAF4/rs185656881.bim.\n",
      "Note: No phenotype data present.\n",
      "Calculating sample missingness rates... done.\n",
      "Calculating allele frequencies... done.\n",
      "--missing: Sample missing data report written to\n",
      "/home/dmc2245/test/TAF4/rs185656881_missing.smiss .\n",
      "--missing: Variant missing data report written to\n",
      "/home/dmc2245/test/TAF4/rs185656881_missing.vmiss .\n",
      "End time: Fri Mar 11 12:51:36 2022\n"
     ]
    }
   ],
   "source": [
    "plink2 --bfile ~/test/TAF4/rs185656881 --missing -out ~/test/TAF4/rs185656881_missing"
   ]
  },
  {
   "cell_type": "code",
   "execution_count": 23,
   "id": "4304589c-9e5a-416f-960a-bcfc811d744e",
   "metadata": {
    "kernel": "Bash"
   },
   "outputs": [
    {
     "name": "stdout",
     "output_type": "stream",
     "text": [
      "PLINK v2.00a3LM 64-bit Intel (12 Dec 2020)     www.cog-genomics.org/plink/2.0/\n",
      "(C) 2005-2020 Shaun Purcell, Christopher Chang   GNU General Public License v3\n",
      "Logging to /home/dmc2245/test/TAF4/rs185656881_freq.log.\n",
      "Options in effect:\n",
      "  --bfile /home/dmc2245/test/TAF4/rs185656881\n",
      "  --freq\n",
      "  --out /home/dmc2245/test/TAF4/rs185656881_freq\n",
      "\n",
      "Start time: Fri Mar 11 13:46:38 2022\n",
      "515677 MiB RAM detected; reserving 257838 MiB for main workspace.\n",
      "Allocated 81580 MiB successfully, after larger attempt(s) failed.\n",
      "Using up to 48 threads (change this with --threads).\n",
      "200643 samples (0 females, 0 males, 200643 ambiguous; 200643 founders) loaded\n",
      "from /home/dmc2245/test/TAF4/rs185656881.fam.\n",
      "1 variant loaded from /home/dmc2245/test/TAF4/rs185656881.bim.\n",
      "Note: No phenotype data present.\n",
      "Calculating allele frequencies... done.\n",
      "--freq: Allele frequencies (founders only) written to\n",
      "/home/dmc2245/test/TAF4/rs185656881_freq.afreq .\n",
      "End time: Fri Mar 11 13:46:38 2022\n"
     ]
    }
   ],
   "source": [
    "plink2 --bfile ~/test/TAF4/rs185656881 --freq -out ~/test/TAF4/rs185656881_freq"
   ]
  },
  {
   "cell_type": "markdown",
   "id": "2517f4ca-4925-4762-a8fd-4af16bc83b86",
   "metadata": {
    "kernel": "Bash"
   },
   "source": [
    "### Find missingness for chromosome 6"
   ]
  },
  {
   "cell_type": "code",
   "execution_count": 6,
   "id": "01945334-8d7a-4a77-bcde-a07918bdfef1",
   "metadata": {
    "kernel": "Bash"
   },
   "outputs": [
    {
     "name": "stdout",
     "output_type": "stream",
     "text": [
      "PLINK v2.00a3LM 64-bit Intel (12 Dec 2020)     www.cog-genomics.org/plink/2.0/\n",
      "(C) 2005-2020 Shaun Purcell, Christopher Chang   GNU General Public License v3\n",
      "Logging to /home/dmc2245/test/TAF4/chr6_missingness.log.\n",
      "Options in effect:\n",
      "  --bfile /home/dmc2245/UKBiobank/data/exome_files/project_VCF/072721_run/plink/ukb23156_c6.merged.filtered\n",
      "  --missing\n",
      "  --out /home/dmc2245/test/TAF4/chr6_missingness\n",
      "\n",
      "Start time: Fri Mar 11 13:02:12 2022\n",
      "515677 MiB RAM detected; reserving 257838 MiB for main workspace.\n",
      "Allocated 81580 MiB successfully, after larger attempt(s) failed.\n",
      "Using up to 48 threads (change this with --threads).\n",
      "200643 samples (0 females, 0 males, 200643 ambiguous; 200643 founders) loaded\n",
      "from\n",
      "/home/dmc2245/UKBiobank/data/exome_files/project_VCF/072721_run/plink/ukb23156_c6.merged.filtered.fam.\n",
      "774293 variants loaded from\n",
      "/home/dmc2245/UKBiobank/data/exome_files/project_VCF/072721_run/plink/ukb23156_c6.merged.filtered.bim.\n",
      "Note: No phenotype data present.\n",
      "Calculating sample missingness rates... 1625%\n"
     ]
    }
   ],
   "source": [
    "plink2 --bfile ~/UKBiobank/data/exome_files/project_VCF/072721_run/plink/ukb23156_c6.merged.filtered --missing -out ~/test/TAF4/chr6_missingness"
   ]
  },
  {
   "cell_type": "code",
   "execution_count": 16,
   "id": "c1e88f16-1d49-4c7f-a81f-05c5750dbc3a",
   "metadata": {
    "kernel": "Bash"
   },
   "outputs": [
    {
     "name": "stdout",
     "output_type": "stream",
     "text": [
      "PLINK v2.00a3LM 64-bit Intel (12 Dec 2020)     www.cog-genomics.org/plink/2.0/\n",
      "(C) 2005-2020 Shaun Purcell, Christopher Chang   GNU General Public License v3\n",
      "Logging to /home/dmc2245/test/TAF4/chr5_genes.log.\n",
      "Options in effect:\n",
      "  --bfile /home/dmc2245/UKBiobank/data/exome_files/project_VCF/072721_run/plink/ukb23156_c5.merged.filtered\n",
      "  --make-bed\n",
      "  --out /home/dmc2245/test/TAF4/chr5_genes\n",
      "  --snps chr5:272741:A:G,chr5:272748:G:C,chr5:272755:A:G,chr5:73776529:T:C,chr5:73780632:G:A,chr5:73780649:GT:G,chr5:73780686:C:A,chr5:73794436:T:C,chr5:73795301:T:A,chr5:73795403:C:T\n",
      "\n",
      "Start time: Fri Mar 11 13:36:56 2022\n",
      "515677 MiB RAM detected; reserving 257838 MiB for main workspace.\n",
      "Allocated 81580 MiB successfully, after larger attempt(s) failed.\n",
      "Using up to 48 threads (change this with --threads).\n",
      "200643 samples (0 females, 0 males, 200643 ambiguous; 200643 founders) loaded\n",
      "from\n",
      "/home/dmc2245/UKBiobank/data/exome_files/project_VCF/072721_run/plink/ukb23156_c5.merged.filtered.fam.\n",
      "688207 variants loaded from\n",
      "/home/dmc2245/UKBiobank/data/exome_files/project_VCF/072721_run/plink/ukb23156_c5.merged.filtered.bim.\n",
      "Note: No phenotype data present.\n",
      "--snps: 10 variants remaining.\n",
      "10 variants remaining after main filters.\n",
      "Writing /home/dmc2245/test/TAF4/chr5_genes.fam ... done.\n",
      "Writing /home/dmc2245/test/TAF4/chr5_genes.bim ... done.\n",
      "Writing /home/dmc2245/test/TAF4/chr5_genes.bed ... 30done.\n",
      "End time: Fri Mar 11 13:36:57 2022\n"
     ]
    }
   ],
   "source": [
    "plink2 --bfile ~/UKBiobank/data/exome_files/project_VCF/072721_run/plink/ukb23156_c5.merged.filtered --snps chr5:272741:A:G,chr5:272748:G:C,chr5:272755:A:G,chr5:73776529:T:C,chr5:73780632:G:A,chr5:73780649:GT:G,chr5:73780686:C:A,chr5:73794436:T:C,chr5:73795301:T:A,chr5:73795403:C:T \\\n",
    "--make-bed --out ~/test/TAF4/chr5_genes"
   ]
  },
  {
   "cell_type": "code",
   "execution_count": 17,
   "id": "76f7ddef-174a-49a1-9bf0-3f501a8455f3",
   "metadata": {
    "kernel": "Bash"
   },
   "outputs": [
    {
     "name": "stdout",
     "output_type": "stream",
     "text": [
      "PLINK v2.00a3LM 64-bit Intel (12 Dec 2020)     www.cog-genomics.org/plink/2.0/\n",
      "(C) 2005-2020 Shaun Purcell, Christopher Chang   GNU General Public License v3\n",
      "Logging to /home/dmc2245/test/TAF4/chr5_genes_missing.log.\n",
      "Options in effect:\n",
      "  --bfile /home/dmc2245/test/TAF4/chr5_genes\n",
      "  --missing\n",
      "  --out /home/dmc2245/test/TAF4/chr5_genes_missing\n",
      "\n",
      "Start time: Fri Mar 11 13:37:17 2022\n",
      "515677 MiB RAM detected; reserving 257838 MiB for main workspace.\n",
      "Allocated 81580 MiB successfully, after larger attempt(s) failed.\n",
      "Using up to 48 threads (change this with --threads).\n",
      "200643 samples (0 females, 0 males, 200643 ambiguous; 200643 founders) loaded\n",
      "from /home/dmc2245/test/TAF4/chr5_genes.fam.\n",
      "10 variants loaded from /home/dmc2245/test/TAF4/chr5_genes.bim.\n",
      "Note: No phenotype data present.\n",
      "Calculating sample missingness rates... done.\n",
      "Calculating allele frequencies... done.\n",
      "--missing: Sample missing data report written to\n",
      "/home/dmc2245/test/TAF4/chr5_genes_missing.smiss .\n",
      "--missing: Variant missing data report written to\n",
      "/home/dmc2245/test/TAF4/chr5_genes_missing.vmiss .\n",
      "End time: Fri Mar 11 13:37:17 2022\n"
     ]
    }
   ],
   "source": [
    "plink2 --bfile ~/test/TAF4/chr5_genes --missing -out ~/test/TAF4/chr5_genes_missing"
   ]
  },
  {
   "cell_type": "code",
   "execution_count": 10,
   "id": "8dfe0745-552a-4aaf-9054-5f580c3ee8c8",
   "metadata": {
    "kernel": "Bash"
   },
   "outputs": [
    {
     "name": "stdout",
     "output_type": "stream",
     "text": [
      "PLINK v2.00a3LM 64-bit Intel (12 Dec 2020)     www.cog-genomics.org/plink/2.0/\n",
      "(C) 2005-2020 Shaun Purcell, Christopher Chang   GNU General Public License v3\n",
      "Logging to /home/dmc2245/test/TAF4/chr1_missing.log.\n",
      "Options in effect:\n",
      "  --bfile /home/dmc2245/UKBiobank/data/exome_files/project_VCF/072721_run/plink/ukb23156_c1.merged.filtered\n",
      "  --make-bed\n",
      "  --out /home/dmc2245/test/TAF4/chr1_missing\n",
      "  --snps chr1:46001049:T:C,chr1:46021880:G:A,chr1:46027788:T:G,chr1:46132597:C:A\n",
      "\n",
      "Start time: Fri Mar 11 13:25:22 2022\n",
      "515677 MiB RAM detected; reserving 257838 MiB for main workspace.\n",
      "Allocated 81580 MiB successfully, after larger attempt(s) failed.\n",
      "Using up to 48 threads (change this with --threads).\n",
      "200643 samples (0 females, 0 males, 200643 ambiguous; 200643 founders) loaded\n",
      "from\n",
      "/home/dmc2245/UKBiobank/data/exome_files/project_VCF/072721_run/plink/ukb23156_c1.merged.filtered.fam.\n",
      "1587094 variants loaded from\n",
      "/home/dmc2245/UKBiobank/data/exome_files/project_VCF/072721_run/plink/ukb23156_c1.merged.filtered.bim.\n",
      "Note: No phenotype data present.\n",
      "--snps: 4 variants remaining.\n",
      "4 variants remaining after main filters.\n",
      "Writing /home/dmc2245/test/TAF4/chr1_missing.fam ... done.\n",
      "Writing /home/dmc2245/test/TAF4/chr1_missing.bim ... done.\n",
      "Writing /home/dmc2245/test/TAF4/chr1_missing.bed ... done.\n",
      "End time: Fri Mar 11 13:25:27 2022\n"
     ]
    }
   ],
   "source": [
    "plink2 --bfile ~/UKBiobank/data/exome_files/project_VCF/072721_run/plink/ukb23156_c1.merged.filtered --snps chr1:46001049:T:C,chr1:46021880:G:A,chr1:46027788:T:G,chr1:46132597:C:A -make-bed --out ~/test/TAF4/chr1_missing"
   ]
  },
  {
   "cell_type": "code",
   "execution_count": 11,
   "id": "f08310ae-8a1e-42ef-acb4-a74d27bc3078",
   "metadata": {
    "kernel": "Bash"
   },
   "outputs": [
    {
     "name": "stdout",
     "output_type": "stream",
     "text": [
      "PLINK v2.00a3LM 64-bit Intel (12 Dec 2020)     www.cog-genomics.org/plink/2.0/\n",
      "(C) 2005-2020 Shaun Purcell, Christopher Chang   GNU General Public License v3\n",
      "Logging to /home/dmc2245/test/TAF4/MST2_PIK3R3.log.\n",
      "Options in effect:\n",
      "  --bfile /home/dmc2245/test/TAF4/chr1_missing\n",
      "  --missing\n",
      "  --out /home/dmc2245/test/TAF4/MST2_PIK3R3\n",
      "\n",
      "Start time: Fri Mar 11 13:25:57 2022\n",
      "515677 MiB RAM detected; reserving 257838 MiB for main workspace.\n",
      "Allocated 81580 MiB successfully, after larger attempt(s) failed.\n",
      "Using up to 48 threads (change this with --threads).\n",
      "200643 samples (0 females, 0 males, 200643 ambiguous; 200643 founders) loaded\n",
      "from /home/dmc2245/test/TAF4/chr1_missing.fam.\n",
      "4 variants loaded from /home/dmc2245/test/TAF4/chr1_missing.bim.\n",
      "Note: No phenotype data present.\n",
      "Calculating sample missingness rates... done.\n",
      "Calculating allele frequencies... done.\n",
      "--missing: Sample missing data report written to\n",
      "/home/dmc2245/test/TAF4/MST2_PIK3R3.smiss .\n",
      "--missing: Variant missing data report written to\n",
      "/home/dmc2245/test/TAF4/MST2_PIK3R3.vmiss .\n",
      "End time: Fri Mar 11 13:25:57 2022\n"
     ]
    }
   ],
   "source": [
    "plink2 --bfile ~/test/TAF4/chr1_missing --missing -out ~/test/TAF4/MST2_PIK3R3"
   ]
  },
  {
   "cell_type": "code",
   "execution_count": 14,
   "id": "99921082-009e-4bee-87d5-02cb6071be1e",
   "metadata": {
    "kernel": "Bash"
   },
   "outputs": [
    {
     "name": "stdout",
     "output_type": "stream",
     "text": [
      "PLINK v2.00a3LM 64-bit Intel (12 Dec 2020)     www.cog-genomics.org/plink/2.0/\n",
      "(C) 2005-2020 Shaun Purcell, Christopher Chang   GNU General Public License v3\n",
      "Logging to /home/dmc2245/test/TAF4/chr6_missing.log.\n",
      "Options in effect:\n",
      "  --bfile /home/dmc2245/UKBiobank/data/exome_files/project_VCF/072721_run/plink/ukb23156_c6.merged.filtered\n",
      "  --make-bed\n",
      "  --out /home/dmc2245/test/TAF4/chr6_missing\n",
      "  --snps chr6:158071628:C:T,chr6:43301291:A:C,chr6:43305866:A:G,chr6:43308652:G:A,chr6:75362956:T:C,chr6:75841299:A:G\n",
      "\n",
      "Start time: Fri Mar 11 13:34:34 2022\n",
      "515677 MiB RAM detected; reserving 257838 MiB for main workspace.\n",
      "Allocated 81580 MiB successfully, after larger attempt(s) failed.\n",
      "Using up to 48 threads (change this with --threads).\n",
      "200643 samples (0 females, 0 males, 200643 ambiguous; 200643 founders) loaded\n",
      "from\n",
      "/home/dmc2245/UKBiobank/data/exome_files/project_VCF/072721_run/plink/ukb23156_c6.merged.filtered.fam.\n",
      "774293 variants loaded from\n",
      "/home/dmc2245/UKBiobank/data/exome_files/project_VCF/072721_run/plink/ukb23156_c6.merged.filtered.bim.\n",
      "Note: No phenotype data present.\n",
      "--snps: 6 variants remaining.\n",
      "6 variants remaining after main filters.\n",
      "Writing /home/dmc2245/test/TAF4/chr6_missing.fam ... done.\n",
      "Writing /home/dmc2245/test/TAF4/chr6_missing.bim ... done.\n",
      "Writing /home/dmc2245/test/TAF4/chr6_missing.bed ... 5083done.\n",
      "End time: Fri Mar 11 13:34:35 2022\n"
     ]
    }
   ],
   "source": [
    "plink2 --bfile ~/UKBiobank/data/exome_files/project_VCF/072721_run/plink/ukb23156_c6.merged.filtered --snps chr6:158071628:C:T,chr6:43301291:A:C,chr6:43305866:A:G,chr6:43308652:G:A,chr6:75362956:T:C,chr6:75841299:A:G \\\n",
    "-make-bed --out ~/test/TAF4/chr6_missing                                                          "
   ]
  },
  {
   "cell_type": "code",
   "execution_count": 15,
   "id": "076c6dcc-1cd7-4fc7-8be2-5ddc64c3cc0e",
   "metadata": {
    "kernel": "Bash"
   },
   "outputs": [
    {
     "name": "stdout",
     "output_type": "stream",
     "text": [
      "PLINK v2.00a3LM 64-bit Intel (12 Dec 2020)     www.cog-genomics.org/plink/2.0/\n",
      "(C) 2005-2020 Shaun Purcell, Christopher Chang   GNU General Public License v3\n",
      "Logging to /home/dmc2245/test/TAF4/chr6_genes.log.\n",
      "Options in effect:\n",
      "  --bfile /home/dmc2245/test/TAF4/chr6_missing\n",
      "  --missing\n",
      "  --out /home/dmc2245/test/TAF4/chr6_genes\n",
      "\n",
      "Start time: Fri Mar 11 13:34:43 2022\n",
      "515677 MiB RAM detected; reserving 257838 MiB for main workspace.\n",
      "Allocated 81580 MiB successfully, after larger attempt(s) failed.\n",
      "Using up to 48 threads (change this with --threads).\n",
      "200643 samples (0 females, 0 males, 200643 ambiguous; 200643 founders) loaded\n",
      "from /home/dmc2245/test/TAF4/chr6_missing.fam.\n",
      "6 variants loaded from /home/dmc2245/test/TAF4/chr6_missing.bim.\n",
      "Note: No phenotype data present.\n",
      "Calculating sample missingness rates... done.\n",
      "Calculating allele frequencies... done.\n",
      "--missing: Sample missing data report written to\n",
      "/home/dmc2245/test/TAF4/chr6_genes.smiss .\n",
      "--missing: Variant missing data report written to\n",
      "/home/dmc2245/test/TAF4/chr6_genes.vmiss .\n",
      "End time: Fri Mar 11 13:34:44 2022\n"
     ]
    }
   ],
   "source": [
    "plink2 --bfile ~/test/TAF4/chr6_missing  --missing -out ~/test/TAF4/chr6_genes"
   ]
  },
  {
   "cell_type": "code",
   "execution_count": 18,
   "id": "796cc6da-a4f1-4272-9e88-1deee9ee8cba",
   "metadata": {
    "kernel": "Bash"
   },
   "outputs": [
    {
     "name": "stdout",
     "output_type": "stream",
     "text": [
      "PLINK v2.00a3LM 64-bit Intel (12 Dec 2020)     www.cog-genomics.org/plink/2.0/\n",
      "(C) 2005-2020 Shaun Purcell, Christopher Chang   GNU General Public License v3\n",
      "Logging to /home/dmc2245/test/TAF4/chr7_genes.log.\n",
      "Options in effect:\n",
      "  --bfile /home/dmc2245/UKBiobank/data/exome_files/project_VCF/072721_run/plink/ukb23156_c7.merged.filtered\n",
      "  --make-bed\n",
      "  --out /home/dmc2245/test/TAF4/chr7_genes\n",
      "  --snps chr7:73573024:C:T,chr7:73605645:A:G\n",
      "\n",
      "Start time: Fri Mar 11 13:38:46 2022\n",
      "515677 MiB RAM detected; reserving 257838 MiB for main workspace.\n",
      "Allocated 81580 MiB successfully, after larger attempt(s) failed.\n",
      "Using up to 48 threads (change this with --threads).\n",
      "200643 samples (0 females, 0 males, 200643 ambiguous; 200643 founders) loaded\n",
      "from\n",
      "/home/dmc2245/UKBiobank/data/exome_files/project_VCF/072721_run/plink/ukb23156_c7.merged.filtered.fam.\n",
      "755366 variants loaded from\n",
      "/home/dmc2245/UKBiobank/data/exome_files/project_VCF/072721_run/plink/ukb23156_c7.merged.filtered.bim.\n",
      "Note: No phenotype data present.\n",
      "--snps: 2 variants remaining.\n",
      "2 variants remaining after main filters.\n",
      "Writing /home/dmc2245/test/TAF4/chr7_genes.fam ... done.\n",
      "Writing /home/dmc2245/test/TAF4/chr7_genes.bim ... done.\n",
      "Writing /home/dmc2245/test/TAF4/chr7_genes.bed ... done.\n",
      "End time: Fri Mar 11 13:38:47 2022\n"
     ]
    }
   ],
   "source": [
    "plink2 --bfile ~/UKBiobank/data/exome_files/project_VCF/072721_run/plink/ukb23156_c7.merged.filtered --snps chr7:73573024:C:T,chr7:73605645:A:G \\\n",
    "-make-bed --out ~/test/TAF4/chr7_genes                                                        "
   ]
  },
  {
   "cell_type": "code",
   "execution_count": 20,
   "id": "bf1b51a0-a767-4306-9c1c-026f1a6d62c9",
   "metadata": {
    "kernel": "Bash"
   },
   "outputs": [
    {
     "name": "stdout",
     "output_type": "stream",
     "text": [
      "PLINK v2.00a3LM 64-bit Intel (12 Dec 2020)     www.cog-genomics.org/plink/2.0/\n",
      "(C) 2005-2020 Shaun Purcell, Christopher Chang   GNU General Public License v3\n",
      "Logging to /home/dmc2245/test/TAF4/chr7_genes_missing.log.\n",
      "Options in effect:\n",
      "  --bfile /home/dmc2245/test/TAF4/chr7_genes\n",
      "  --missing\n",
      "  --out /home/dmc2245/test/TAF4/chr7_genes_missing\n",
      "\n",
      "Start time: Fri Mar 11 13:39:18 2022\n",
      "515677 MiB RAM detected; reserving 257838 MiB for main workspace.\n",
      "Allocated 81580 MiB successfully, after larger attempt(s) failed.\n",
      "Using up to 48 threads (change this with --threads).\n",
      "200643 samples (0 females, 0 males, 200643 ambiguous; 200643 founders) loaded\n",
      "from /home/dmc2245/test/TAF4/chr7_genes.fam.\n",
      "2 variants loaded from /home/dmc2245/test/TAF4/chr7_genes.bim.\n",
      "Note: No phenotype data present.\n",
      "Calculating sample missingness rates... done.\n",
      "Calculating allele frequencies... done.\n",
      "--missing: Sample missing data report written to\n",
      "/home/dmc2245/test/TAF4/chr7_genes_missing.smiss .\n",
      "--missing: Variant missing data report written to\n",
      "/home/dmc2245/test/TAF4/chr7_genes_missing.vmiss .\n",
      "End time: Fri Mar 11 13:39:18 2022\n"
     ]
    }
   ],
   "source": [
    "plink2 --bfile ~/test/TAF4/chr7_genes   --missing -out ~/test/TAF4/chr7_genes_missing"
   ]
  },
  {
   "cell_type": "code",
   "execution_count": 21,
   "id": "178dd7d7-e65c-4922-afef-14b7a608982c",
   "metadata": {
    "kernel": "Bash"
   },
   "outputs": [
    {
     "name": "stdout",
     "output_type": "stream",
     "text": [
      "PLINK v2.00a3LM 64-bit Intel (12 Dec 2020)     www.cog-genomics.org/plink/2.0/\n",
      "(C) 2005-2020 Shaun Purcell, Christopher Chang   GNU General Public License v3\n",
      "Logging to /home/dmc2245/test/TAF4/chr22_genes.log.\n",
      "Options in effect:\n",
      "  --bfile /home/dmc2245/UKBiobank/data/exome_files/project_VCF/072721_run/plink/ukb23156_c22.merged.filtered\n",
      "  --make-bed\n",
      "  --out /home/dmc2245/test/TAF4/chr22_genes\n",
      "  --snps chr22:38086345:GTGCGGGAGCGGGACTGGCCATCCCAGTACTCCGAGGGTGCTA:G,chr22:50549676:G:A\n",
      "\n",
      "Start time: Fri Mar 11 13:42:29 2022\n",
      "515677 MiB RAM detected; reserving 257838 MiB for main workspace.\n",
      "Allocated 81580 MiB successfully, after larger attempt(s) failed.\n",
      "Using up to 48 threads (change this with --threads).\n",
      "200643 samples (0 females, 0 males, 200643 ambiguous; 200643 founders) loaded\n",
      "from\n",
      "/home/dmc2245/UKBiobank/data/exome_files/project_VCF/072721_run/plink/ukb23156_c22.merged.filtered.fam.\n",
      "379886 variants loaded from\n",
      "/home/dmc2245/UKBiobank/data/exome_files/project_VCF/072721_run/plink/ukb23156_c22.merged.filtered.bim.\n",
      "Note: No phenotype data present.\n",
      "--snps: 2 variants remaining.\n",
      "2 variants remaining after main filters.\n",
      "Writing /home/dmc2245/test/TAF4/chr22_genes.fam ... done.\n",
      "Writing /home/dmc2245/test/TAF4/chr22_genes.bim ... done.\n",
      "Writing /home/dmc2245/test/TAF4/chr22_genes.bed ... 50done.\n",
      "End time: Fri Mar 11 13:42:33 2022\n"
     ]
    }
   ],
   "source": [
    "plink2 --bfile ~/UKBiobank/data/exome_files/project_VCF/072721_run/plink/ukb23156_c22.merged.filtered --snps chr22:38086345:GTGCGGGAGCGGGACTGGCCATCCCAGTACTCCGAGGGTGCTA:G,chr22:50549676:G:A \\\n",
    "-make-bed --out ~/test/TAF4/chr22_genes                   "
   ]
  },
  {
   "cell_type": "code",
   "execution_count": 22,
   "id": "ec71f14f-14bc-4861-a093-3e22f3ec92d3",
   "metadata": {
    "kernel": "Bash"
   },
   "outputs": [
    {
     "name": "stdout",
     "output_type": "stream",
     "text": [
      "PLINK v2.00a3LM 64-bit Intel (12 Dec 2020)     www.cog-genomics.org/plink/2.0/\n",
      "(C) 2005-2020 Shaun Purcell, Christopher Chang   GNU General Public License v3\n",
      "Logging to /home/dmc2245/test/TAF4/chr22_genes_missing.log.\n",
      "Options in effect:\n",
      "  --bfile /home/dmc2245/test/TAF4/chr22_genes\n",
      "  --missing\n",
      "  --out /home/dmc2245/test/TAF4/chr22_genes_missing\n",
      "\n",
      "Start time: Fri Mar 11 13:42:41 2022\n",
      "515677 MiB RAM detected; reserving 257838 MiB for main workspace.\n",
      "Allocated 81580 MiB successfully, after larger attempt(s) failed.\n",
      "Using up to 48 threads (change this with --threads).\n",
      "200643 samples (0 females, 0 males, 200643 ambiguous; 200643 founders) loaded\n",
      "from /home/dmc2245/test/TAF4/chr22_genes.fam.\n",
      "2 variants loaded from /home/dmc2245/test/TAF4/chr22_genes.bim.\n",
      "Note: No phenotype data present.\n",
      "Calculating sample missingness rates... done.\n",
      "Calculating allele frequencies... done.\n",
      "--missing: Sample missing data report written to\n",
      "/home/dmc2245/test/TAF4/chr22_genes_missing.smiss .\n",
      "--missing: Variant missing data report written to\n",
      "/home/dmc2245/test/TAF4/chr22_genes_missing.vmiss .\n",
      "End time: Fri Mar 11 13:42:41 2022\n"
     ]
    }
   ],
   "source": [
    "plink2 --bfile ~/test/TAF4/chr22_genes   --missing -out ~/test/TAF4/chr22_genes_missing"
   ]
  },
  {
   "cell_type": "code",
   "execution_count": null,
   "id": "dc285c5f-8da0-4a95-a264-2318bb9245f6",
   "metadata": {
    "kernel": "Bash"
   },
   "outputs": [],
   "source": []
  }
 ],
 "metadata": {
  "kernelspec": {
   "display_name": "SoS",
   "language": "sos",
   "name": "sos"
  },
  "language_info": {
   "codemirror_mode": "sos",
   "file_extension": ".sos",
   "mimetype": "text/x-sos",
   "name": "sos",
   "nbconvert_exporter": "sos_notebook.converter.SoS_Exporter",
   "pygments_lexer": "sos"
  },
  "sos": {
   "kernels": [
    [
     "Bash",
     "calysto_bash",
     "Bash",
     "#E6EEFF",
     ""
    ]
   ],
   "version": "0.22.6"
  }
 },
 "nbformat": 4,
 "nbformat_minor": 5
}
