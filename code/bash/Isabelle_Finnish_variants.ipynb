{
 "cells": [
  {
   "cell_type": "markdown",
   "id": "19c4cd1b-c359-40d4-a2d2-987f2d87570c",
   "metadata": {
    "kernel": "SoS",
    "tags": []
   },
   "source": [
    "## Variant checks for Isabelle's finnish families"
   ]
  },
  {
   "cell_type": "code",
   "execution_count": 1,
   "id": "bab59190-234e-402d-b197-d156e2d39bb7",
   "metadata": {
    "kernel": "R"
   },
   "outputs": [
    {
     "data": {
      "text/html": [
       "2"
      ],
      "text/latex": [
       "2"
      ],
      "text/markdown": [
       "2"
      ],
      "text/plain": [
       "[1] 2"
      ]
     },
     "metadata": {},
     "output_type": "display_data"
    }
   ],
   "source": [
    "# Now check if those individuals have mental retardation\n",
    "setwd(\"/home/dc2325/scratch60/plink_extract\")\n",
    "pheno <- read.csv(\"individuals_test.csv\", sep=\",\", header=TRUE)\n",
    "nrow(pheno)"
   ]
  },
  {
   "cell_type": "code",
   "execution_count": 52,
   "id": "5752cf8e-edfa-46e1-8840-d6c786fe22d6",
   "metadata": {
    "kernel": "R"
   },
   "outputs": [
    {
     "data": {
      "text/html": [
       "<table>\n",
       "<caption>A data.frame: 2 × 20</caption>\n",
       "<thead>\n",
       "\t<tr><th></th><th scope=col>eid</th><th scope=col>X4689.0.0.x</th><th scope=col>X4689.1.0.x</th><th scope=col>X4689.2.0.x</th><th scope=col>X4689.3.0.x</th><th scope=col>X5194.0.0.x</th><th scope=col>X5194.1.0.x</th><th scope=col>X5196.0.0.x</th><th scope=col>X5196.1.0.x</th><th scope=col>X5253.0.0.x</th><th scope=col>X5254.0.0.x</th><th scope=col>X5254.1.0.x</th><th scope=col>X5255.0.0.x</th><th scope=col>X5255.1.0.x</th><th scope=col>X5256.0.0.x</th><th scope=col>X5256.1.0.x</th><th scope=col>X5257.0.0.x</th><th scope=col>X5257.1.0.x</th><th scope=col>X5258.0.0.x</th><th scope=col>X5258.1.0.x</th></tr>\n",
       "\t<tr><th></th><th scope=col>&lt;int&gt;</th><th scope=col>&lt;lgl&gt;</th><th scope=col>&lt;lgl&gt;</th><th scope=col>&lt;lgl&gt;</th><th scope=col>&lt;lgl&gt;</th><th scope=col>&lt;lgl&gt;</th><th scope=col>&lt;lgl&gt;</th><th scope=col>&lt;lgl&gt;</th><th scope=col>&lt;lgl&gt;</th><th scope=col>&lt;lgl&gt;</th><th scope=col>&lt;lgl&gt;</th><th scope=col>&lt;lgl&gt;</th><th scope=col>&lt;lgl&gt;</th><th scope=col>&lt;lgl&gt;</th><th scope=col>&lt;lgl&gt;</th><th scope=col>&lt;lgl&gt;</th><th scope=col>&lt;lgl&gt;</th><th scope=col>&lt;lgl&gt;</th><th scope=col>&lt;lgl&gt;</th><th scope=col>&lt;lgl&gt;</th></tr>\n",
       "</thead>\n",
       "<tbody>\n",
       "\t<tr><th scope=row>1</th><td>2237835</td><td>NA</td><td>NA</td><td>NA</td><td>NA</td><td>NA</td><td>NA</td><td>NA</td><td>NA</td><td>NA</td><td>NA</td><td>NA</td><td>NA</td><td>NA</td><td>NA</td><td>NA</td><td>NA</td><td>NA</td><td>NA</td><td>NA</td></tr>\n",
       "\t<tr><th scope=row>2</th><td>3927542</td><td>NA</td><td>NA</td><td>NA</td><td>NA</td><td>NA</td><td>NA</td><td>NA</td><td>NA</td><td>NA</td><td>NA</td><td>NA</td><td>NA</td><td>NA</td><td>NA</td><td>NA</td><td>NA</td><td>NA</td><td>NA</td><td>NA</td></tr>\n",
       "</tbody>\n",
       "</table>\n"
      ],
      "text/latex": [
       "A data.frame: 2 × 20\n",
       "\\begin{tabular}{r|llllllllllllllllllll}\n",
       "  & eid & X4689.0.0.x & X4689.1.0.x & X4689.2.0.x & X4689.3.0.x & X5194.0.0.x & X5194.1.0.x & X5196.0.0.x & X5196.1.0.x & X5253.0.0.x & X5254.0.0.x & X5254.1.0.x & X5255.0.0.x & X5255.1.0.x & X5256.0.0.x & X5256.1.0.x & X5257.0.0.x & X5257.1.0.x & X5258.0.0.x & X5258.1.0.x\\\\\n",
       "  & <int> & <lgl> & <lgl> & <lgl> & <lgl> & <lgl> & <lgl> & <lgl> & <lgl> & <lgl> & <lgl> & <lgl> & <lgl> & <lgl> & <lgl> & <lgl> & <lgl> & <lgl> & <lgl> & <lgl>\\\\\n",
       "\\hline\n",
       "\t1 & 2237835 & NA & NA & NA & NA & NA & NA & NA & NA & NA & NA & NA & NA & NA & NA & NA & NA & NA & NA & NA\\\\\n",
       "\t2 & 3927542 & NA & NA & NA & NA & NA & NA & NA & NA & NA & NA & NA & NA & NA & NA & NA & NA & NA & NA & NA\\\\\n",
       "\\end{tabular}\n"
      ],
      "text/markdown": [
       "\n",
       "A data.frame: 2 × 20\n",
       "\n",
       "| <!--/--> | eid &lt;int&gt; | X4689.0.0.x &lt;lgl&gt; | X4689.1.0.x &lt;lgl&gt; | X4689.2.0.x &lt;lgl&gt; | X4689.3.0.x &lt;lgl&gt; | X5194.0.0.x &lt;lgl&gt; | X5194.1.0.x &lt;lgl&gt; | X5196.0.0.x &lt;lgl&gt; | X5196.1.0.x &lt;lgl&gt; | X5253.0.0.x &lt;lgl&gt; | X5254.0.0.x &lt;lgl&gt; | X5254.1.0.x &lt;lgl&gt; | X5255.0.0.x &lt;lgl&gt; | X5255.1.0.x &lt;lgl&gt; | X5256.0.0.x &lt;lgl&gt; | X5256.1.0.x &lt;lgl&gt; | X5257.0.0.x &lt;lgl&gt; | X5257.1.0.x &lt;lgl&gt; | X5258.0.0.x &lt;lgl&gt; | X5258.1.0.x &lt;lgl&gt; |\n",
       "|---|---|---|---|---|---|---|---|---|---|---|---|---|---|---|---|---|---|---|---|---|\n",
       "| 1 | 2237835 | NA | NA | NA | NA | NA | NA | NA | NA | NA | NA | NA | NA | NA | NA | NA | NA | NA | NA | NA |\n",
       "| 2 | 3927542 | NA | NA | NA | NA | NA | NA | NA | NA | NA | NA | NA | NA | NA | NA | NA | NA | NA | NA | NA |\n",
       "\n"
      ],
      "text/plain": [
       "  eid     X4689.0.0.x X4689.1.0.x X4689.2.0.x X4689.3.0.x X5194.0.0.x\n",
       "1 2237835 NA          NA          NA          NA          NA         \n",
       "2 3927542 NA          NA          NA          NA          NA         \n",
       "  X5194.1.0.x X5196.0.0.x X5196.1.0.x X5253.0.0.x X5254.0.0.x X5254.1.0.x\n",
       "1 NA          NA          NA          NA          NA          NA         \n",
       "2 NA          NA          NA          NA          NA          NA         \n",
       "  X5255.0.0.x X5255.1.0.x X5256.0.0.x X5256.1.0.x X5257.0.0.x X5257.1.0.x\n",
       "1 NA          NA          NA          NA          NA          NA         \n",
       "2 NA          NA          NA          NA          NA          NA         \n",
       "  X5258.0.0.x X5258.1.0.x\n",
       "1 NA          NA         \n",
       "2 NA          NA         "
      ]
     },
     "metadata": {},
     "output_type": "display_data"
    }
   ],
   "source": [
    "head(pheno[,1:20])"
   ]
  },
  {
   "cell_type": "code",
   "execution_count": 12,
   "id": "d0f401d8-41d1-4f9a-953a-f2c49b6b6f42",
   "metadata": {
    "kernel": "R"
   },
   "outputs": [
    {
     "data": {
      "text/html": [
       "<style>\n",
       ".list-inline {list-style: none; margin:0; padding: 0}\n",
       ".list-inline>li {display: inline-block}\n",
       ".list-inline>li:not(:last-child)::after {content: \"\\00b7\"; padding: 0 .5ex}\n",
       "</style>\n",
       "<ol class=list-inline><li>2</li><li>214</li></ol>\n"
      ],
      "text/latex": [
       "\\begin{enumerate*}\n",
       "\\item 2\n",
       "\\item 214\n",
       "\\end{enumerate*}\n"
      ],
      "text/markdown": [
       "1. 2\n",
       "2. 214\n",
       "\n",
       "\n"
      ],
      "text/plain": [
       "[1]   2 214"
      ]
     },
     "metadata": {},
     "output_type": "display_data"
    }
   ],
   "source": [
    "library(dplyr)\n",
    "icd10 <- pheno %>%\n",
    "    select(\"eid\", starts_with(\"X41270\"))\n",
    "dim(icd10)"
   ]
  },
  {
   "cell_type": "code",
   "execution_count": 46,
   "id": "c6dbf8ba-c6b7-4cc2-885f-cf1744eb1d7c",
   "metadata": {
    "kernel": "R"
   },
   "outputs": [
    {
     "data": {
      "text/html": [
       "<table>\n",
       "<caption>A data.frame: 2 × 13</caption>\n",
       "<thead>\n",
       "\t<tr><th></th><th scope=col>eid</th><th scope=col>X41270.0.0.x</th><th scope=col>X41270.0.1.x</th><th scope=col>X41270.0.2.x</th><th scope=col>X41270.0.3.x</th><th scope=col>X41270.0.4.x</th><th scope=col>X41270.0.5.x</th><th scope=col>X41270.0.6.x</th><th scope=col>X41270.0.7.x</th><th scope=col>X41270.0.8.x</th><th scope=col>X41270.0.9.x</th><th scope=col>X41270.0.10.x</th><th scope=col>X41270.0.11.x</th></tr>\n",
       "\t<tr><th></th><th scope=col>&lt;int&gt;</th><th scope=col>&lt;fct&gt;</th><th scope=col>&lt;fct&gt;</th><th scope=col>&lt;fct&gt;</th><th scope=col>&lt;fct&gt;</th><th scope=col>&lt;fct&gt;</th><th scope=col>&lt;fct&gt;</th><th scope=col>&lt;fct&gt;</th><th scope=col>&lt;fct&gt;</th><th scope=col>&lt;fct&gt;</th><th scope=col>&lt;lgl&gt;</th><th scope=col>&lt;lgl&gt;</th><th scope=col>&lt;lgl&gt;</th></tr>\n",
       "</thead>\n",
       "<tbody>\n",
       "\t<tr><th scope=row>1</th><td>2237835</td><td>H118</td><td>    </td><td>    </td><td>     </td><td>     </td><td>    </td><td>    </td><td>    </td><td>    </td><td>NA</td><td>NA</td><td>NA</td></tr>\n",
       "\t<tr><th scope=row>2</th><td>3927542</td><td>D649</td><td>E059</td><td>L030</td><td>M8195</td><td>S7210</td><td>T920</td><td>W010</td><td>Y831</td><td>Z896</td><td>NA</td><td>NA</td><td>NA</td></tr>\n",
       "</tbody>\n",
       "</table>\n"
      ],
      "text/latex": [
       "A data.frame: 2 × 13\n",
       "\\begin{tabular}{r|lllllllllllll}\n",
       "  & eid & X41270.0.0.x & X41270.0.1.x & X41270.0.2.x & X41270.0.3.x & X41270.0.4.x & X41270.0.5.x & X41270.0.6.x & X41270.0.7.x & X41270.0.8.x & X41270.0.9.x & X41270.0.10.x & X41270.0.11.x\\\\\n",
       "  & <int> & <fct> & <fct> & <fct> & <fct> & <fct> & <fct> & <fct> & <fct> & <fct> & <lgl> & <lgl> & <lgl>\\\\\n",
       "\\hline\n",
       "\t1 & 2237835 & H118 &      &      &       &       &      &      &      &      & NA & NA & NA\\\\\n",
       "\t2 & 3927542 & D649 & E059 & L030 & M8195 & S7210 & T920 & W010 & Y831 & Z896 & NA & NA & NA\\\\\n",
       "\\end{tabular}\n"
      ],
      "text/markdown": [
       "\n",
       "A data.frame: 2 × 13\n",
       "\n",
       "| <!--/--> | eid &lt;int&gt; | X41270.0.0.x &lt;fct&gt; | X41270.0.1.x &lt;fct&gt; | X41270.0.2.x &lt;fct&gt; | X41270.0.3.x &lt;fct&gt; | X41270.0.4.x &lt;fct&gt; | X41270.0.5.x &lt;fct&gt; | X41270.0.6.x &lt;fct&gt; | X41270.0.7.x &lt;fct&gt; | X41270.0.8.x &lt;fct&gt; | X41270.0.9.x &lt;lgl&gt; | X41270.0.10.x &lt;lgl&gt; | X41270.0.11.x &lt;lgl&gt; |\n",
       "|---|---|---|---|---|---|---|---|---|---|---|---|---|---|\n",
       "| 1 | 2237835 | H118 | <!----> | <!----> | <!----> | <!----> | <!----> | <!----> | <!----> | <!----> | NA | NA | NA |\n",
       "| 2 | 3927542 | D649 | E059 | L030 | M8195 | S7210 | T920 | W010 | Y831 | Z896 | NA | NA | NA |\n",
       "\n"
      ],
      "text/plain": [
       "  eid     X41270.0.0.x X41270.0.1.x X41270.0.2.x X41270.0.3.x X41270.0.4.x\n",
       "1 2237835 H118                                                            \n",
       "2 3927542 D649         E059         L030         M8195        S7210       \n",
       "  X41270.0.5.x X41270.0.6.x X41270.0.7.x X41270.0.8.x X41270.0.9.x\n",
       "1                                                     NA          \n",
       "2 T920         W010         Y831         Z896         NA          \n",
       "  X41270.0.10.x X41270.0.11.x\n",
       "1 NA            NA           \n",
       "2 NA            NA           "
      ]
     },
     "metadata": {},
     "output_type": "display_data"
    }
   ],
   "source": [
    "head(icd10[,1:13])"
   ]
  },
  {
   "cell_type": "code",
   "execution_count": 49,
   "id": "20dbcc2b-1e2b-42be-858f-8c2cf15c2354",
   "metadata": {
    "kernel": "R"
   },
   "outputs": [],
   "source": [
    "icd10$present <- !!rowSums(sapply(icd10[1:2,], grepl, pattern = \"H11\"))"
   ]
  },
  {
   "cell_type": "code",
   "execution_count": 50,
   "id": "899b5332-2895-49ed-a2e1-e5493bb1d97e",
   "metadata": {
    "kernel": "R"
   },
   "outputs": [
    {
     "data": {
      "text/html": [
       "<style>\n",
       ".list-inline {list-style: none; margin:0; padding: 0}\n",
       ".list-inline>li {display: inline-block}\n",
       ".list-inline>li:not(:last-child)::after {content: \"\\00b7\"; padding: 0 .5ex}\n",
       "</style>\n",
       "<ol class=list-inline><li>TRUE</li><li>FALSE</li></ol>\n"
      ],
      "text/latex": [
       "\\begin{enumerate*}\n",
       "\\item TRUE\n",
       "\\item FALSE\n",
       "\\end{enumerate*}\n"
      ],
      "text/markdown": [
       "1. TRUE\n",
       "2. FALSE\n",
       "\n",
       "\n"
      ],
      "text/plain": [
       "[1]  TRUE FALSE"
      ]
     },
     "metadata": {},
     "output_type": "display_data"
    }
   ],
   "source": [
    "head(icd10$present)"
   ]
  },
  {
   "cell_type": "code",
   "execution_count": 42,
   "id": "53799502-350f-4937-9836-8be5565429e1",
   "metadata": {
    "kernel": "R"
   },
   "outputs": [
    {
     "data": {
      "text/html": [
       "<table>\n",
       "<caption>A data.frame: 2 × 3</caption>\n",
       "<thead>\n",
       "\t<tr><th></th><th scope=col>X41270.0.211.x</th><th scope=col>X41270.0.212.x</th><th scope=col>present</th></tr>\n",
       "\t<tr><th></th><th scope=col>&lt;lgl&gt;</th><th scope=col>&lt;lgl&gt;</th><th scope=col>&lt;lgl&gt;</th></tr>\n",
       "</thead>\n",
       "<tbody>\n",
       "\t<tr><th scope=row>1</th><td>NA</td><td>NA</td><td>FALSE</td></tr>\n",
       "\t<tr><th scope=row>2</th><td>NA</td><td>NA</td><td>FALSE</td></tr>\n",
       "</tbody>\n",
       "</table>\n"
      ],
      "text/latex": [
       "A data.frame: 2 × 3\n",
       "\\begin{tabular}{r|lll}\n",
       "  & X41270.0.211.x & X41270.0.212.x & present\\\\\n",
       "  & <lgl> & <lgl> & <lgl>\\\\\n",
       "\\hline\n",
       "\t1 & NA & NA & FALSE\\\\\n",
       "\t2 & NA & NA & FALSE\\\\\n",
       "\\end{tabular}\n"
      ],
      "text/markdown": [
       "\n",
       "A data.frame: 2 × 3\n",
       "\n",
       "| <!--/--> | X41270.0.211.x &lt;lgl&gt; | X41270.0.212.x &lt;lgl&gt; | present &lt;lgl&gt; |\n",
       "|---|---|---|---|\n",
       "| 1 | NA | NA | FALSE |\n",
       "| 2 | NA | NA | FALSE |\n",
       "\n"
      ],
      "text/plain": [
       "  X41270.0.211.x X41270.0.212.x present\n",
       "1 NA             NA             FALSE  \n",
       "2 NA             NA             FALSE  "
      ]
     },
     "metadata": {},
     "output_type": "display_data"
    }
   ],
   "source": [
    "head(icd10[,213:215])"
   ]
  },
  {
   "cell_type": "markdown",
   "id": "9b773755-7544-4da3-a38e-6cf814657c8b",
   "metadata": {
    "kernel": "R"
   },
   "source": [
    "## Check variants for Finnish study Isabelle"
   ]
  },
  {
   "cell_type": "code",
   "execution_count": 9,
   "id": "94118f11-9629-4230-9719-3313f8cdffec",
   "metadata": {
    "kernel": "Bash"
   },
   "outputs": [
    {
     "name": "stdout",
     "output_type": "stream",
     "text": [
      "INFO: Running \u001b[32mdefault\u001b[0m: select individuals and filter specific snps\n",
      "INFO: \u001b[32mdefault\u001b[0m is \u001b[32mcompleted\u001b[0m.\n",
      "INFO: \u001b[32mdefault\u001b[0m output:   \u001b[32m/home/dc2325/scratch60/isabelle_finnish/ukb23155_c3_b0_v1.extract.raw\u001b[0m\n",
      "INFO: Workflow default (ID=w41d699249e2b581d) is executed successfully with 1 completed step.\n"
     ]
    }
   ],
   "source": [
    "#bedfiles=`echo /gpfs/gibbs/pi/dewan/data/UKBiobank/genotype_files/ukb28374_exomedata/exome_data_OCT2020/ukb23155_c{1..22}_b0_v1.bed`\n",
    "cwd=/home/dc2325/scratch60/isabelle_finnish\n",
    "snp_list=/home/dc2325/scratch60/isabelle_finnish/snps_extract.txt\n",
    "\n",
    "sos run ~/project/UKBB_GWAS_dev/workflow/plink_extract.ipynb  \\\n",
    "    --cwd $cwd \\\n",
    "    --bedfiles /gpfs/gibbs/pi/dewan/data/UKBiobank/genotype_files/ukb28374_exomedata/exome_data_OCT2020/ukb23155_c3_b0_v1.bed\\\n",
    "    --snp_list $snp_list"
   ]
  },
  {
   "cell_type": "code",
   "execution_count": 16,
   "id": "0b93d6ed-758a-49e2-a316-95492efb23ca",
   "metadata": {
    "kernel": "Bash"
   },
   "outputs": [
    {
     "name": "stdout",
     "output_type": "stream",
     "text": [
      "FID IID PAT MAT SEX PHENOTYPE 3:49006137:C:T_T\n",
      "1434748 1434748 0 0 2 -9 0\n",
      "5523981 5523981 0 0 1 -9 0\n",
      "5023838 5023838 0 0 2 -9 0\n",
      "4023729 4023729 0 0 1 -9 0\n",
      "4442146 4442146 0 0 2 -9 0\n",
      "5654789 5654789 0 0 2 -9 0\n",
      "4515669 4515669 0 0 2 -9 0\n",
      "1129683 1129683 0 0 1 -9 0\n",
      "5327043 5327043 0 0 2 -9 0\n",
      "cat: write error: Broken pipe\n"
     ]
    }
   ],
   "source": [
    "cat /home/dc2325/scratch60/isabelle_finnish/ukb23155_c3_b0_v1.extract.raw | head"
   ]
  },
  {
   "cell_type": "code",
   "execution_count": 19,
   "id": "a82853cc-9d9c-4f59-a8f6-72b4ce7f0239",
   "metadata": {
    "kernel": "Bash"
   },
   "outputs": [],
   "source": [
    "awk '$7==2 {print}' /home/dc2325/scratch60/isabelle_finnish/ukb23155_c3_b0_v1.extract.raw"
   ]
  },
  {
   "cell_type": "code",
   "execution_count": 11,
   "id": "d0f8466e-f390-4f85-ad12-72821ebfd1c3",
   "metadata": {
    "kernel": "Bash"
   },
   "outputs": [
    {
     "name": "stdout",
     "output_type": "stream",
     "text": [
      "INFO: Running \u001b[32mdefault\u001b[0m: select individuals and filter specific snps\n",
      "INFO: \u001b[32mdefault\u001b[0m is \u001b[32mcompleted\u001b[0m.\n",
      "INFO: \u001b[32mdefault\u001b[0m output:   \u001b[32m/home/dc2325/scratch60/isabelle_finnish/ukb23155_c7_b0_v1.extract.raw\u001b[0m\n",
      "INFO: Workflow default (ID=wf05336cfa9ceef9c) is executed successfully with 1 completed step.\n"
     ]
    }
   ],
   "source": [
    "#bedfiles=`echo /gpfs/gibbs/pi/dewan/data/UKBiobank/genotype_files/ukb28374_exomedata/exome_data_OCT2020/ukb23155_c{1..22}_b0_v1.bed`\n",
    "cwd=/home/dc2325/scratch60/isabelle_finnish\n",
    "snp_list=/home/dc2325/scratch60/isabelle_finnish/snps_extract.txt\n",
    "\n",
    "sos run ~/project/UKBB_GWAS_dev/workflow/plink_extract.ipynb  \\\n",
    "    --cwd $cwd \\\n",
    "    --bedfiles /gpfs/gibbs/pi/dewan/data/UKBiobank/genotype_files/ukb28374_exomedata/exome_data_OCT2020/ukb23155_c7_b0_v1.bed\\\n",
    "    --snp_list $snp_list"
   ]
  },
  {
   "cell_type": "code",
   "execution_count": 17,
   "id": "d90b1379-c0c5-4b95-b105-d52ff44496dd",
   "metadata": {
    "kernel": "Bash"
   },
   "outputs": [
    {
     "name": "stdout",
     "output_type": "stream",
     "text": [
      "FID IID PAT MAT SEX PHENOTYPE 7:106099254:C:T_T\n",
      "1434748 1434748 0 0 2 -9 0\n",
      "5523981 5523981 0 0 1 -9 0\n",
      "5023838 5023838 0 0 2 -9 0\n",
      "4023729 4023729 0 0 1 -9 0\n",
      "4442146 4442146 0 0 2 -9 0\n",
      "5654789 5654789 0 0 2 -9 0\n",
      "4515669 4515669 0 0 2 -9 0\n",
      "1129683 1129683 0 0 1 -9 0\n",
      "5327043 5327043 0 0 2 -9 0\n",
      "cat: write error: Broken pipe\n"
     ]
    }
   ],
   "source": [
    "cat /home/dc2325/scratch60/isabelle_finnish/ukb23155_c7_b0_v1.extract.raw | head"
   ]
  },
  {
   "cell_type": "code",
   "execution_count": 21,
   "id": "45571358-7db4-4d52-966d-94f732da8cc3",
   "metadata": {
    "kernel": "Bash"
   },
   "outputs": [],
   "source": [
    "awk '$7==2 {print}' /home/dc2325/scratch60/isabelle_finnish/ukb23155_c7_b0_v1.extract.raw"
   ]
  },
  {
   "cell_type": "code",
   "execution_count": null,
   "id": "96d9a9b8-ecb8-45ca-8d9d-9e0c096084a7",
   "metadata": {
    "kernel": "Bash"
   },
   "outputs": [],
   "source": [
    "#bedfiles=`echo /gpfs/gibbs/pi/dewan/data/UKBiobank/genotype_files/ukb28374_exomedata/exome_data_OCT2020/ukb23155_c{1..22}_b0_v1.bed`\n",
    "cwd=/home/dc2325/scratch60/isabelle_finnish\n",
    "snp_list=/home/dc2325/scratch60/isabelle_finnish/snps_extract.txt\n",
    "\n",
    "sos run ~/project/UKBB_GWAS_dev/workflow/plink_extract.ipynb  \\\n",
    "    --cwd $cwd \\\n",
    "    --bedfiles /gpfs/gibbs/pi/dewan/data/UKBiobank/genotype_files/ukb28374_exomedata/exome_data_OCT2020/ukb23155_c20_b0_v1.bed\\\n",
    "    --snp_list $snp_list"
   ]
  },
  {
   "cell_type": "code",
   "execution_count": 14,
   "id": "6884d222-5f9d-489f-aaf7-8d2c2fc58a62",
   "metadata": {
    "kernel": "Bash"
   },
   "outputs": [
    {
     "name": "stdout",
     "output_type": "stream",
     "text": [
      "INFO: Running \u001b[32mdefault\u001b[0m: select individuals and filter specific snps\n",
      "INFO: \u001b[32mdefault\u001b[0m is \u001b[32mcompleted\u001b[0m.\n",
      "INFO: \u001b[32mdefault\u001b[0m output:   \u001b[32m/home/dc2325/scratch60/isabelle_finnish/ukb23155_c14_b0_v1.extract.raw\u001b[0m\n",
      "INFO: Workflow default (ID=w3a79d953ba363d47) is executed successfully with 1 completed step.\n"
     ]
    }
   ],
   "source": [
    "#bedfiles=`echo /gpfs/gibbs/pi/dewan/data/UKBiobank/genotype_files/ukb28374_exomedata/exome_data_OCT2020/ukb23155_c{1..22}_b0_v1.bed`\n",
    "cwd=/home/dc2325/scratch60/isabelle_finnish\n",
    "snp_list=/home/dc2325/scratch60/isabelle_finnish/snps_extract.txt\n",
    "\n",
    "sos run ~/project/UKBB_GWAS_dev/workflow/plink_extract.ipynb  \\\n",
    "    --cwd $cwd \\\n",
    "    --bedfiles /gpfs/gibbs/pi/dewan/data/UKBiobank/genotype_files/ukb28374_exomedata/exome_data_OCT2020/ukb23155_c14_b0_v1.bed\\\n",
    "    --snp_list $snp_list"
   ]
  },
  {
   "cell_type": "code",
   "execution_count": 18,
   "id": "9a42866d-c0a1-432b-96b5-f077b4ddc16c",
   "metadata": {
    "kernel": "Bash"
   },
   "outputs": [
    {
     "name": "stdout",
     "output_type": "stream",
     "text": [
      "FID IID PAT MAT SEX PHENOTYPE 14:88578149:T:C_C\n",
      "1434748 1434748 0 0 2 -9 0\n",
      "5523981 5523981 0 0 1 -9 0\n",
      "5023838 5023838 0 0 2 -9 0\n",
      "4023729 4023729 0 0 1 -9 0\n",
      "4442146 4442146 0 0 2 -9 0\n",
      "5654789 5654789 0 0 2 -9 0\n",
      "4515669 4515669 0 0 2 -9 0\n",
      "1129683 1129683 0 0 1 -9 0\n",
      "5327043 5327043 0 0 2 -9 0\n",
      "cat: write error: Broken pipe\n"
     ]
    }
   ],
   "source": [
    "cat /home/dc2325/scratch60/isabelle_finnish/ukb23155_c14_b0_v1.extract.raw | head"
   ]
  },
  {
   "cell_type": "code",
   "execution_count": 22,
   "id": "bfc524b8-a876-4942-85f8-c20d292d0f79",
   "metadata": {
    "kernel": "Bash"
   },
   "outputs": [],
   "source": [
    "awk '$7==2 {print}' /home/dc2325/scratch60/isabelle_finnish/ukb23155_c14_b0_v1.extract.raw"
   ]
  },
  {
   "cell_type": "markdown",
   "id": "e57ff152-eb86-496d-bb53-802fd11650e7",
   "metadata": {
    "kernel": "Bash"
   },
   "source": [
    "# Check variants HI"
   ]
  },
  {
   "cell_type": "code",
   "execution_count": 5,
   "id": "1dd5a65a-488c-4b76-95a6-aa3cad7f9bc5",
   "metadata": {
    "kernel": "Bash"
   },
   "outputs": [
    {
     "name": "stdout",
     "output_type": "stream",
     "text": [
      "INFO: Running \u001b[32mdefault\u001b[0m: select individuals and filter specific snps\n",
      "INFO: \u001b[32mdefault\u001b[0m is \u001b[32mcompleted\u001b[0m.\n",
      "INFO: \u001b[32mdefault\u001b[0m output:   \u001b[32m/home/dc2325/scratch60/output/ukb23155_c6_b0_v1.extract.raw\u001b[0m\n",
      "INFO: Workflow default (ID=w4b130b0fe2c619d6) is executed successfully with 1 completed step.\n",
      "\n"
     ]
    }
   ],
   "source": [
    "#bedfiles=`echo /gpfs/gibbs/pi/dewan/data/UKBiobank/genotype_files/ukb28374_exomedata/exome_data_OCT2020/ukb23155_c{1..22}_b0_v1.bed`\n",
    "cwd=/home/dc2325/scratch60/output\n",
    "snp_list=/home/dc2325/scratch60/output/snps_extract.txt\n",
    "\n",
    "sos run ~/project/UKBB_GWAS_dev/workflow/plink_extract.ipynb  \\\n",
    "    --cwd $cwd \\\n",
    "    --bedfiles /gpfs/gibbs/pi/dewan/data/UKBiobank/genotype_files/ukb28374_exomedata/exome_data_OCT2020/ukb23155_c6_b0_v1.bed\\\n",
    "    --snp_list $snp_list"
   ]
  },
  {
   "cell_type": "code",
   "execution_count": 3,
   "id": "e8267f9c-f971-432b-b57d-317c346b69c0",
   "metadata": {
    "kernel": "Bash"
   },
   "outputs": [
    {
     "name": "stdout",
     "output_type": "stream",
     "text": [
      "\n"
     ]
    }
   ],
   "source": [
    "touch /home/dc2325/scratch60/output/snps_extract.txt\n",
    "echo '6 75841299 75841299 rs121912560' > /home/dc2325/scratch60/output/snps_extract.txt"
   ]
  },
  {
   "cell_type": "code",
   "execution_count": 5,
   "id": "ef29fe0f-2342-478a-8a8b-d9e9a2c5ab9d",
   "metadata": {
    "kernel": "Bash"
   },
   "outputs": [
    {
     "name": "stdout",
     "output_type": "stream",
     "text": [
      "INFO: Running \u001b[32mdefault\u001b[0m: select individuals and filter specific snps\n",
      "INFO: \u001b[32mdefault\u001b[0m is \u001b[32mcompleted\u001b[0m.\n",
      "INFO: \u001b[32mdefault\u001b[0m output:   \u001b[32m/home/dc2325/scratch60/output/ukb23155_c6_b0_v1.extract.raw\u001b[0m\n",
      "INFO: Workflow default (ID=w4b130b0fe2c619d6) is executed successfully with 1 completed step.\n",
      "\n"
     ]
    }
   ],
   "source": [
    "#bedfiles=`echo /gpfs/gibbs/pi/dewan/data/UKBiobank/genotype_files/ukb28374_exomedata/exome_data_OCT2020/ukb23155_c{1..22}_b0_v1.bed`\n",
    "cwd=/home/dc2325/scratch60/output\n",
    "snp_list=/home/dc2325/scratch60/output/snps_extract.txt\n",
    "\n",
    "sos run ~/project/UKBB_GWAS_dev/workflow/plink_extract.ipynb  \\\n",
    "    --cwd $cwd \\\n",
    "    --bedfiles /gpfs/gibbs/pi/dewan/data/UKBiobank/genotype_files/ukb28374_exomedata/exome_data_OCT2020/ukb23155_c6_b0_v1.bed\\\n",
    "    --snp_list $snp_list"
   ]
  }
 ],
 "metadata": {
  "kernelspec": {
   "display_name": "SoS",
   "language": "sos",
   "name": "sos"
  },
  "language_info": {
   "codemirror_mode": "sos",
   "file_extension": ".sos",
   "mimetype": "text/x-sos",
   "name": "sos",
   "nbconvert_exporter": "sos_notebook.converter.SoS_Exporter",
   "pygments_lexer": "sos"
  },
  "sos": {
   "kernels": [
    [
     "SoS",
     "sos",
     "",
     ""
    ]
   ],
   "version": "0.22.6"
  }
 },
 "nbformat": 4,
 "nbformat_minor": 5
}
