{
 "cells": [
  {
   "cell_type": "markdown",
   "id": "dc0a6901-cfca-478b-b761-f0604ef9b6ee",
   "metadata": {
    "kernel": "SoS",
    "tags": []
   },
   "source": [
    "# The aim of this notebook is to provide a count for cases and controls that are male and female for each HI trait and sample"
   ]
  },
  {
   "cell_type": "markdown",
   "id": "46a98f38-60c6-46cc-a119-cf6a5381d867",
   "metadata": {
    "kernel": "SoS"
   },
   "source": [
    "male=0\n",
    "\n",
    "female=1"
   ]
  },
  {
   "cell_type": "markdown",
   "id": "105a0500-3654-45e1-a172-5d37cf23d67f",
   "metadata": {
    "kernel": "SoS"
   },
   "source": [
    "## 1. f.3393 \n",
    "## mega-analysis"
   ]
  },
  {
   "cell_type": "code",
   "execution_count": 5,
   "id": "c7303008-ae45-492b-b40a-fa4d89d94253",
   "metadata": {
    "kernel": "Bash",
    "tags": []
   },
   "outputs": [],
   "source": [
    "cd ~/UKBiobank/phenotype_files/hearing_impairment"
   ]
  },
  {
   "cell_type": "code",
   "execution_count": 7,
   "id": "9170e94b-3eb9-4a3a-8543-da4b495fe578",
   "metadata": {
    "kernel": "Bash",
    "tags": []
   },
   "outputs": [
    {
     "name": "stdout",
     "output_type": "stream",
     "text": [
      "2823\n",
      "3613\n"
     ]
    }
   ],
   "source": [
    "cat 090321_UKBB_Hearing_aid_f3393_expandedwhite_6436cases_96601ctrl_PC1_2.tsv |  awk '{if ($3==1 && $4==1) print}' | wc -l\n",
    "cat 090321_UKBB_Hearing_aid_f3393_expandedwhite_6436cases_96601ctrl_PC1_2.tsv |  awk '{if ($3==0 && $4==1) print}' | wc -l"
   ]
  },
  {
   "cell_type": "code",
   "execution_count": 10,
   "id": "1c2e889c-f7e3-4d85-9d1f-3996bda284c5",
   "metadata": {
    "kernel": "Bash"
   },
   "outputs": [
    {
     "name": "stdout",
     "output_type": "stream",
     "text": [
      "58528\n",
      "38073\n"
     ]
    }
   ],
   "source": [
    "cat 090321_UKBB_Hearing_aid_f3393_expandedwhite_6436cases_96601ctrl_PC1_2.tsv |  awk '{if ($3==1 && $4==0) print}' | wc -l\n",
    "cat 090321_UKBB_Hearing_aid_f3393_expandedwhite_6436cases_96601ctrl_PC1_2.tsv |  awk '{if ($3==0 && $4==0) print}' | wc -l"
   ]
  },
  {
   "cell_type": "markdown",
   "id": "ec7f026b-66f5-4298-b143-86fbf8905660",
   "metadata": {
    "kernel": "SoS"
   },
   "source": [
    "## discovery"
   ]
  },
  {
   "cell_type": "code",
   "execution_count": 8,
   "id": "4c8240e9-f3b0-46d0-a896-605aeba8174d",
   "metadata": {
    "kernel": "Bash"
   },
   "outputs": [
    {
     "name": "stdout",
     "output_type": "stream",
     "text": [
      "2079\n",
      "2570\n"
     ]
    }
   ],
   "source": [
    "#cases\n",
    "cat 090321_UKBB_Hearing_aid_f3393_expandedwhite_78848ind_150K.tsv |  awk '{if ($3==1 && $4==1) print}' | wc -l\n",
    "cat 090321_UKBB_Hearing_aid_f3393_expandedwhite_78848ind_150K.tsv |  awk '{if ($3==0 && $4==1) print}' | wc -l"
   ]
  },
  {
   "cell_type": "code",
   "execution_count": 9,
   "id": "ad1f1e77-9bca-4ab2-b26e-02638a2619f8",
   "metadata": {
    "kernel": "Bash"
   },
   "outputs": [
    {
     "name": "stdout",
     "output_type": "stream",
     "text": [
      "44966\n",
      "29233\n"
     ]
    }
   ],
   "source": [
    "#controls\n",
    "cat 090321_UKBB_Hearing_aid_f3393_expandedwhite_78848ind_150K.tsv |  awk '{if ($3==1 && $4==0) print}' | wc -l\n",
    "cat 090321_UKBB_Hearing_aid_f3393_expandedwhite_78848ind_150K.tsv |  awk '{if ($3==0 && $4==0) print}' | wc -l"
   ]
  },
  {
   "cell_type": "markdown",
   "id": "53077d73-5689-445e-a5e9-12c40accc687",
   "metadata": {
    "kernel": "Bash"
   },
   "source": [
    "## replication 50K"
   ]
  },
  {
   "cell_type": "code",
   "execution_count": 11,
   "id": "de559ff5-c7c3-4489-a720-cc3f84595769",
   "metadata": {
    "kernel": "Bash"
   },
   "outputs": [
    {
     "name": "stdout",
     "output_type": "stream",
     "text": [
      "744\n",
      "1043\n"
     ]
    }
   ],
   "source": [
    "cat 090321_UKBB_Hearing_aid_f3393_expandedwhite_24189ind_50K.tsv |  awk '{if ($3==1 && $4==1) print}' | wc -l\n",
    "cat 090321_UKBB_Hearing_aid_f3393_expandedwhite_24189ind_50K.tsv |  awk '{if ($3==0 && $4==1) print}' | wc -l"
   ]
  },
  {
   "cell_type": "code",
   "execution_count": 13,
   "id": "bff4eba4-0d91-4865-9990-bd4dcbd2f252",
   "metadata": {
    "kernel": "Bash"
   },
   "outputs": [
    {
     "name": "stdout",
     "output_type": "stream",
     "text": [
      "13562\n",
      "8840\n"
     ]
    }
   ],
   "source": [
    "cat 090321_UKBB_Hearing_aid_f3393_expandedwhite_24189ind_50K.tsv |  awk '{if ($3==1 && $4==0) print}' | wc -l\n",
    "cat 090321_UKBB_Hearing_aid_f3393_expandedwhite_24189ind_50K.tsv |  awk '{if ($3==0 && $4==0) print}' | wc -l"
   ]
  },
  {
   "cell_type": "markdown",
   "id": "6500b34b-21a4-4099-a435-e86818f60451",
   "metadata": {
    "kernel": "Bash"
   },
   "source": [
    "## Pending secondary replication 300K (I need to know how were the files generated)"
   ]
  },
  {
   "cell_type": "markdown",
   "id": "f532ca62-b67a-4587-92af-9d05117f4575",
   "metadata": {
    "kernel": "Bash"
   },
   "source": [
    "# f.2247\n",
    "## Mega-analysis"
   ]
  },
  {
   "cell_type": "code",
   "execution_count": 14,
   "id": "e19808f1-7bbf-4fcd-8a53-85a9220b89c7",
   "metadata": {
    "kernel": "Bash"
   },
   "outputs": [
    {
     "name": "stdout",
     "output_type": "stream",
     "text": [
      "20721\n",
      "24781\n"
     ]
    }
   ],
   "source": [
    "#cases\n",
    "cat 090321_UKBB_Hearing_difficulty_f2247_expandedwhite_45502cases_96601ctrl_PC1_2.tsv | awk '{if ($3==1 && $4==1) print}' | wc -l\n",
    "cat 090321_UKBB_Hearing_difficulty_f2247_expandedwhite_45502cases_96601ctrl_PC1_2.tsv | awk '{if ($3==0 && $4==1) print}' | wc -l"
   ]
  },
  {
   "cell_type": "markdown",
   "id": "e53e5fbd-f260-4c9a-8323-b0bfed41a31d",
   "metadata": {
    "kernel": "Bash"
   },
   "source": [
    "## Discovery 150K"
   ]
  },
  {
   "cell_type": "code",
   "execution_count": 15,
   "id": "24f4c15b-dd42-4fc7-8156-1d0f77683b08",
   "metadata": {
    "kernel": "Bash"
   },
   "outputs": [
    {
     "name": "stdout",
     "output_type": "stream",
     "text": [
      "15313\n",
      "17995\n"
     ]
    }
   ],
   "source": [
    "cat 090321_UKBB_Hearing_difficulty_f2247_expandedwhite_107507ind_150K.tsv | awk '{if ($3==1 && $4==1) print}' | wc -l\n",
    "cat 090321_UKBB_Hearing_difficulty_f2247_expandedwhite_107507ind_150K.tsv | awk '{if ($3==0 && $4==1) print}' | wc -l"
   ]
  },
  {
   "cell_type": "markdown",
   "id": "d3fb1662-8938-4a98-8ef9-8ef462d8a998",
   "metadata": {
    "kernel": "Bash"
   },
   "source": [
    "## Replication 50K"
   ]
  },
  {
   "cell_type": "code",
   "execution_count": 16,
   "id": "d2dd275d-f38a-4798-a545-ede88f188ed6",
   "metadata": {
    "kernel": "Bash"
   },
   "outputs": [
    {
     "name": "stdout",
     "output_type": "stream",
     "text": [
      "5408\n",
      "6786\n"
     ]
    }
   ],
   "source": [
    "cat 090321_UKBB_Hearing_difficulty_f2247_expandedwhite_34596ind_50K.tsv | awk '{if ($3==1 && $4==1) print}' | wc -l\n",
    "cat 090321_UKBB_Hearing_difficulty_f2247_expandedwhite_34596ind_50K.tsv | awk '{if ($3==0 && $4==1) print}' | wc -l"
   ]
  },
  {
   "cell_type": "markdown",
   "id": "a81a3a91-9cb8-4e0b-a8a2-938dd6a8995e",
   "metadata": {
    "kernel": "Bash"
   },
   "source": [
    "# f.2257\n",
    "## Mega-analysis"
   ]
  },
  {
   "cell_type": "code",
   "execution_count": 17,
   "id": "38b53d9c-bc41-4fc0-98a8-9d85fbca71a2",
   "metadata": {
    "kernel": "Bash"
   },
   "outputs": [
    {
     "name": "stdout",
     "output_type": "stream",
     "text": [
      "31260\n",
      "34400\n"
     ]
    }
   ],
   "source": [
    "cat 090321_UKBB_Hearing_noise_f2257_expandedwhite_65660cases_96601ctrl_PC1_2.tsv | awk '{if ($3==1 && $4==1) print}' | wc -l\n",
    "cat 090321_UKBB_Hearing_noise_f2257_expandedwhite_65660cases_96601ctrl_PC1_2.tsv | awk '{if ($3==0 && $4==1) print}' | wc -l"
   ]
  },
  {
   "cell_type": "code",
   "execution_count": 18,
   "id": "5b39ece6-75e8-4c5a-8636-36d282c3e0ea",
   "metadata": {
    "kernel": "Bash"
   },
   "outputs": [
    {
     "name": "stdout",
     "output_type": "stream",
     "text": [
      "23699\n",
      "25640\n"
     ]
    }
   ],
   "source": [
    "cat 090321_UKBB_Hearing_noise_f2257_expandedwhite_123538ind_150K.tsv | awk '{if ($3==1 && $4==1) print}' | wc -l\n",
    "cat 090321_UKBB_Hearing_noise_f2257_expandedwhite_123538ind_150K.tsv | awk '{if ($3==0 && $4==1) print}' | wc -l"
   ]
  },
  {
   "cell_type": "code",
   "execution_count": 19,
   "id": "c61e2edc-1b52-42dd-8d1c-e452aca1ace3",
   "metadata": {
    "kernel": "Bash"
   },
   "outputs": [
    {
     "name": "stdout",
     "output_type": "stream",
     "text": [
      "7561\n",
      "8760\n"
     ]
    }
   ],
   "source": [
    "cat 090321_UKBB_Hearing_noise_f2257_expandedwhite_38723ind_50K.tsv  | awk '{if ($3==1 && $4==1) print}' | wc -l\n",
    "cat 090321_UKBB_Hearing_noise_f2257_expandedwhite_38723ind_50K.tsv  | awk '{if ($3==0 && $4==1) print}' | wc -l"
   ]
  },
  {
   "cell_type": "markdown",
   "id": "a1f44bf4-6142-4efd-8b7b-62342fb54237",
   "metadata": {
    "kernel": "Bash"
   },
   "source": [
    "# combined"
   ]
  },
  {
   "cell_type": "code",
   "execution_count": 21,
   "id": "f40343af-4355-4a0a-a5a0-c7ab3a613896",
   "metadata": {
    "kernel": "Bash"
   },
   "outputs": [
    {
     "name": "stdout",
     "output_type": "stream",
     "text": [
      "17203\n",
      "21207\n"
     ]
    }
   ],
   "source": [
    "cat 090321_UKBB_Combined_f2247_f2257_expandedwhite_38410cases_96601ctrl_PC1_2.tsv | awk '{if ($3==1 && $4==1) print}' | wc -l\n",
    "cat 090321_UKBB_Combined_f2247_f2257_expandedwhite_38410cases_96601ctrl_PC1_2.tsv | awk '{if ($3==0 && $4==1) print}' | wc -l"
   ]
  },
  {
   "cell_type": "code",
   "execution_count": 22,
   "id": "01eeeee0-8241-4977-b64f-b1d93c862cfc",
   "metadata": {
    "kernel": "Bash"
   },
   "outputs": [
    {
     "name": "stdout",
     "output_type": "stream",
     "text": [
      "12652\n",
      "15282\n"
     ]
    }
   ],
   "source": [
    "cat 090321_UKBB_Combined_f2247_f2257_expandedwhite_102133ind_150K.tsv |awk '{if ($3==1 && $4==1) print}' | wc -l\n",
    "cat 090321_UKBB_Combined_f2247_f2257_expandedwhite_102133ind_150K.tsv |awk '{if ($3==0 && $4==1) print}' | wc -l"
   ]
  },
  {
   "cell_type": "code",
   "execution_count": 23,
   "id": "ef8785b7-50c6-4473-a6c7-ee767cdd275b",
   "metadata": {
    "kernel": "Bash"
   },
   "outputs": [
    {
     "name": "stdout",
     "output_type": "stream",
     "text": [
      "4551\n",
      "5925\n"
     ]
    }
   ],
   "source": [
    "cat 090321_UKBB_Combined_f2247_f2257_expandedwhite_32878ind_50K.tsv | awk '{if ($3==1 && $4==1) print}' | wc -l\n",
    "cat 090321_UKBB_Combined_f2247_f2257_expandedwhite_32878ind_50K.tsv | awk '{if ($3==0 && $4==1) print}' | wc -l"
   ]
  },
  {
   "cell_type": "code",
   "execution_count": null,
   "id": "9504aa9c-8c11-4e75-b00b-b0bf00e49b49",
   "metadata": {
    "kernel": "Bash"
   },
   "outputs": [],
   "source": []
  }
 ],
 "metadata": {
  "kernelspec": {
   "display_name": "SoS",
   "language": "sos",
   "name": "sos"
  },
  "language_info": {
   "codemirror_mode": "sos",
   "file_extension": ".sos",
   "mimetype": "text/x-sos",
   "name": "sos",
   "nbconvert_exporter": "sos_notebook.converter.SoS_Exporter",
   "pygments_lexer": "sos"
  },
  "sos": {
   "kernels": [
    [
     "Bash",
     "calysto_bash",
     "Bash",
     "#E6EEFF",
     "shell"
    ],
    [
     "SoS",
     "sos",
     "",
     "",
     "sos"
    ]
   ],
   "version": "0.22.6"
  },
  "toc-autonumbering": false
 },
 "nbformat": 4,
 "nbformat_minor": 5
}
