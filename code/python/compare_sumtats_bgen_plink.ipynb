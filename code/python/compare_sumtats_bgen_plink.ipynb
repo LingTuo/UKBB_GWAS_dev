{
 "cells": [
  {
   "cell_type": "code",
   "execution_count": 1,
   "id": "2da8c64f-e1b4-4814-a811-2fe9218684ae",
   "metadata": {
    "kernel": "SoS",
    "tags": []
   },
   "outputs": [],
   "source": [
    "import pandas as pd"
   ]
  },
  {
   "cell_type": "code",
   "execution_count": 6,
   "id": "1755d084-61b6-4f59-8752-6643d00596b6",
   "metadata": {
    "kernel": "SoS"
   },
   "outputs": [],
   "source": [
    "exome_sumstats= pd.read_csv('/home/dmc2245/UKBiobank/results/REGENIE_results/results_exome_data/090921_f2247_hearing_difficulty_200K/090321_UKBB_Hearing_difficulty_f2247_expandedwhite_45502cases_96601ctrl_PC1_2_f2247.regenie.snp_stats.gz', sep=\"\\t\",compression='gzip', header=0)"
   ]
  },
  {
   "cell_type": "code",
   "execution_count": 7,
   "id": "77797fcb-6753-4b7b-bd22-71a4fa28f779",
   "metadata": {
    "kernel": "SoS"
   },
   "outputs": [
    {
     "data": {
      "text/html": [
       "<div>\n",
       "<style scoped>\n",
       "    .dataframe tbody tr th:only-of-type {\n",
       "        vertical-align: middle;\n",
       "    }\n",
       "\n",
       "    .dataframe tbody tr th {\n",
       "        vertical-align: top;\n",
       "    }\n",
       "\n",
       "    .dataframe thead th {\n",
       "        text-align: right;\n",
       "    }\n",
       "</style>\n",
       "<table border=\"1\" class=\"dataframe\">\n",
       "  <thead>\n",
       "    <tr style=\"text-align: right;\">\n",
       "      <th></th>\n",
       "      <th>CHR</th>\n",
       "      <th>POS</th>\n",
       "      <th>REF</th>\n",
       "      <th>ALT</th>\n",
       "      <th>SNP</th>\n",
       "      <th>BETA</th>\n",
       "      <th>SE</th>\n",
       "      <th>P</th>\n",
       "    </tr>\n",
       "  </thead>\n",
       "  <tbody>\n",
       "    <tr>\n",
       "      <th>0</th>\n",
       "      <td>1</td>\n",
       "      <td>925862</td>\n",
       "      <td>G</td>\n",
       "      <td>A</td>\n",
       "      <td>chr1:925862:G:A</td>\n",
       "      <td>-2.339630</td>\n",
       "      <td>1.650710</td>\n",
       "      <td>0.037294</td>\n",
       "    </tr>\n",
       "    <tr>\n",
       "      <th>1</th>\n",
       "      <td>1</td>\n",
       "      <td>925881</td>\n",
       "      <td>G</td>\n",
       "      <td>A</td>\n",
       "      <td>chr1:925881:G:A</td>\n",
       "      <td>-0.114660</td>\n",
       "      <td>0.062227</td>\n",
       "      <td>0.065387</td>\n",
       "    </tr>\n",
       "    <tr>\n",
       "      <th>2</th>\n",
       "      <td>1</td>\n",
       "      <td>925885</td>\n",
       "      <td>C</td>\n",
       "      <td>T</td>\n",
       "      <td>chr1:925885:C:T</td>\n",
       "      <td>-0.708778</td>\n",
       "      <td>0.836337</td>\n",
       "      <td>0.396728</td>\n",
       "    </tr>\n",
       "    <tr>\n",
       "      <th>3</th>\n",
       "      <td>1</td>\n",
       "      <td>925908</td>\n",
       "      <td>G</td>\n",
       "      <td>GGCTCT</td>\n",
       "      <td>chr1:925908:G:GGCTCT</td>\n",
       "      <td>0.579427</td>\n",
       "      <td>0.712331</td>\n",
       "      <td>0.415975</td>\n",
       "    </tr>\n",
       "    <tr>\n",
       "      <th>4</th>\n",
       "      <td>1</td>\n",
       "      <td>925912</td>\n",
       "      <td>C</td>\n",
       "      <td>G</td>\n",
       "      <td>chr1:925912:C:G</td>\n",
       "      <td>-0.253633</td>\n",
       "      <td>1.115350</td>\n",
       "      <td>0.820111</td>\n",
       "    </tr>\n",
       "    <tr>\n",
       "      <th>...</th>\n",
       "      <td>...</td>\n",
       "      <td>...</td>\n",
       "      <td>...</td>\n",
       "      <td>...</td>\n",
       "      <td>...</td>\n",
       "      <td>...</td>\n",
       "      <td>...</td>\n",
       "      <td>...</td>\n",
       "    </tr>\n",
       "    <tr>\n",
       "      <th>3732740</th>\n",
       "      <td>22</td>\n",
       "      <td>50782243</td>\n",
       "      <td>C</td>\n",
       "      <td>T</td>\n",
       "      <td>chr22:50782243:C:T</td>\n",
       "      <td>-0.245217</td>\n",
       "      <td>0.129395</td>\n",
       "      <td>0.058079</td>\n",
       "    </tr>\n",
       "    <tr>\n",
       "      <th>3732741</th>\n",
       "      <td>22</td>\n",
       "      <td>50782271</td>\n",
       "      <td>C</td>\n",
       "      <td>T</td>\n",
       "      <td>chr22:50782271:C:T</td>\n",
       "      <td>-0.483093</td>\n",
       "      <td>0.388400</td>\n",
       "      <td>0.213572</td>\n",
       "    </tr>\n",
       "    <tr>\n",
       "      <th>3732742</th>\n",
       "      <td>22</td>\n",
       "      <td>50782306</td>\n",
       "      <td>T</td>\n",
       "      <td>C</td>\n",
       "      <td>chr22:50782306:T:C</td>\n",
       "      <td>0.069862</td>\n",
       "      <td>0.049575</td>\n",
       "      <td>0.158774</td>\n",
       "    </tr>\n",
       "    <tr>\n",
       "      <th>3732743</th>\n",
       "      <td>22</td>\n",
       "      <td>50782329</td>\n",
       "      <td>G</td>\n",
       "      <td>A</td>\n",
       "      <td>chr22:50782329:G:A</td>\n",
       "      <td>0.161382</td>\n",
       "      <td>0.411172</td>\n",
       "      <td>0.694695</td>\n",
       "    </tr>\n",
       "    <tr>\n",
       "      <th>3732744</th>\n",
       "      <td>22</td>\n",
       "      <td>50782396</td>\n",
       "      <td>A</td>\n",
       "      <td>C</td>\n",
       "      <td>chr22:50782396:A:C</td>\n",
       "      <td>1.784520</td>\n",
       "      <td>1.113010</td>\n",
       "      <td>0.059024</td>\n",
       "    </tr>\n",
       "  </tbody>\n",
       "</table>\n",
       "<p>3732745 rows × 8 columns</p>\n",
       "</div>"
      ],
      "text/plain": [
       "         CHR       POS REF  ...      BETA        SE         P\n",
       "0          1    925862   G  ... -2.339630  1.650710  0.037294\n",
       "1          1    925881   G  ... -0.114660  0.062227  0.065387\n",
       "2          1    925885   C  ... -0.708778  0.836337  0.396728\n",
       "3          1    925908   G  ...  0.579427  0.712331  0.415975\n",
       "4          1    925912   C  ... -0.253633  1.115350  0.820111\n",
       "...      ...       ...  ..  ...       ...       ...       ...\n",
       "3732740   22  50782243   C  ... -0.245217  0.129395  0.058079\n",
       "3732741   22  50782271   C  ... -0.483093  0.388400  0.213572\n",
       "3732742   22  50782306   T  ...  0.069862  0.049575  0.158774\n",
       "3732743   22  50782329   G  ...  0.161382  0.411172  0.694695\n",
       "3732744   22  50782396   A  ...  1.784520  1.113010  0.059024\n",
       "\n",
       "[3732745 rows x 8 columns]"
      ]
     },
     "execution_count": 7,
     "metadata": {},
     "output_type": "execute_result"
    }
   ],
   "source": [
    "exome_sumstats"
   ]
  },
  {
   "cell_type": "code",
   "execution_count": 8,
   "id": "08d347e7-364b-4af3-9ef1-a03ec784aec3",
   "metadata": {
    "kernel": "SoS"
   },
   "outputs": [],
   "source": [
    "impute_sumstats_hg19 = pd.read_csv(\"/home/dmc2245/UKBiobank/results/REGENIE_results/results_imputed_data/2021_10_13_f2247_300K/100521_UKBB_Hearing_difficulty_f2247_expandedwhite_64953cases_141007ctrl_300k_PC1_PC2_f2247.regenie.snp_stats.gz\",sep=\"\\t\",compression='gzip', header=0)"
   ]
  },
  {
   "cell_type": "code",
   "execution_count": null,
   "id": "adeb914f-7a20-4c2b-ab83-9c9205e60c6a",
   "metadata": {
    "kernel": "SoS"
   },
   "outputs": [],
   "source": [
    "# alternatively create a converter directly from a chainfile\n",
    "from liftover import ChainFile\n",
    "converter = ChainFile('/home/user/hg18ToHg38.over.chain.gz', 'hg18', 'hg38')\n",
    "converter[chrom][pos]"
   ]
  }
 ],
 "metadata": {
  "kernelspec": {
   "display_name": "SoS",
   "language": "sos",
   "name": "sos"
  },
  "language_info": {
   "codemirror_mode": "sos",
   "file_extension": ".sos",
   "mimetype": "text/x-sos",
   "name": "sos",
   "nbconvert_exporter": "sos_notebook.converter.SoS_Exporter",
   "pygments_lexer": "sos"
  },
  "sos": {
   "kernels": [
    [
     "SoS",
     "sos",
     "",
     ""
    ]
   ],
   "version": "0.22.6"
  }
 },
 "nbformat": 4,
 "nbformat_minor": 5
}
