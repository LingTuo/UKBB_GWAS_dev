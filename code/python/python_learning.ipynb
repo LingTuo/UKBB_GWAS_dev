{
 "cells": [
  {
   "cell_type": "code",
   "execution_count": null,
   "metadata": {
    "kernel": "SoS"
   },
   "outputs": [],
   "source": [
    "!touch phenotype.BMI.regenie_pred.list"
   ]
  },
  {
   "cell_type": "code",
   "execution_count": null,
   "metadata": {
    "kernel": "SoS"
   },
   "outputs": [],
   "source": [
    "_output.touch()\n",
    "print(f'_output is {_output}')"
   ]
  },
  {
   "cell_type": "code",
   "execution_count": null,
   "metadata": {
    "kernel": "SoS"
   },
   "outputs": [],
   "source": [
    "'.regenie_pred.list'.split(\"_pred\",1)"
   ]
  },
  {
   "cell_type": "code",
   "execution_count": null,
   "metadata": {
    "kernel": "SoS"
   },
   "outputs": [],
   "source": [
    "''.join('.regenie_pred_pred'.split(\"_pred\",1)) "
   ]
  },
  {
   "cell_type": "code",
   "execution_count": null,
   "metadata": {
    "kernel": "SoS"
   },
   "outputs": [],
   "source": [
    "'ukb23155_c2_b0_v1.missing.md'.rsplit(\"_\",3)"
   ]
  },
  {
   "cell_type": "code",
   "execution_count": null,
   "metadata": {
    "kernel": "SoS"
   },
   "outputs": [],
   "source": [
    "phenoCol=[\"BMI\", \"T2D\"]\n",
    "for i in range(len(phenoCol)):\n",
    "    print('%s' % (phenoCol[i]))"
   ]
  },
  {
   "cell_type": "code",
   "execution_count": null,
   "metadata": {
    "kernel": "SoS"
   },
   "outputs": [],
   "source": [
    "phenoCol=[\"BMI\", \"T2D\"]\n",
    "('%s' % (phenoCol[i]) for i in range(len(phenoCol)))"
   ]
  },
  {
   "cell_type": "code",
   "execution_count": null,
   "metadata": {
    "kernel": "SoS"
   },
   "outputs": [],
   "source": [
    "phenoCol=[\"BMI\", \"T2D\"]\n",
    "output = [print(str(phenoCol[i])+'.regenie.gz') for i in range(len(phenoCol))]"
   ]
  },
  {
   "cell_type": "code",
   "execution_count": null,
   "metadata": {
    "kernel": "SoS"
   },
   "outputs": [],
   "source": [
    "['%s' % i for i in phenoCol if i is not None]"
   ]
  },
  {
   "cell_type": "code",
   "execution_count": null,
   "metadata": {
    "kernel": "SoS"
   },
   "outputs": [],
   "source": [
    "phenoCol=[\"BMI\", \"T2D\"]\n",
    "' '.join(phenoCol)"
   ]
  },
  {
   "cell_type": "code",
   "execution_count": null,
   "metadata": {
    "kernel": "SoS"
   },
   "outputs": [],
   "source": [
    "${' '.join(['--covarColList %s ' % x for x in covarCol if x is not None])} "
   ]
  },
  {
   "cell_type": "code",
   "execution_count": null,
   "metadata": {
    "kernel": "SoS"
   },
   "outputs": [],
   "source": [
    "${str(_output).rsplit('_',1)[0]}"
   ]
  },
  {
   "cell_type": "code",
   "execution_count": null,
   "metadata": {
    "kernel": "SoS"
   },
   "outputs": [],
   "source": [
    "${str(_output).rsplit('_',1)[0]}"
   ]
  },
  {
   "cell_type": "code",
   "execution_count": null,
   "metadata": {
    "kernel": "SoS"
   },
   "outputs": [],
   "source": [
    "cwd=path('.')\n",
    "name=\"ukb23155_c17_b0_v1\"\n",
    "phenoCol=[\"BMI_int\", \"T2D\"]\n",
    "output=[f'{cwd}/{name}_'+ str(phenoCol[i]) + '.regenie.gz' for i in range(len(phenoCol))]\n",
    "output\n",
    "output[0].rsplit('_',)[0]\n"
   ]
  },
  {
   "cell_type": "code",
   "execution_count": null,
   "metadata": {
    "kernel": "SoS"
   },
   "outputs": [],
   "source": [
    "name1=\"ukb23155_c1_b0_v1\"\n",
    "name1.rsplit('_',3)[0]"
   ]
  },
  {
   "cell_type": "code",
   "execution_count": null,
   "metadata": {
    "kernel": "SoS"
   },
   "outputs": [],
   "source": [
    "name1=\"ukb23155_c1_b0_v1_hearing_aid_cat.regenie\"\n",
    "name1.rsplit('_',3)[0]"
   ]
  },
  {
   "cell_type": "code",
   "execution_count": null,
   "metadata": {
    "kernel": "Bash"
   },
   "outputs": [],
   "source": [
    "tpl_file=/home/dc2325/project/bioworkflows/GWAS/farnam.yml\n",
    "bfile=/gpfs/gibbs/pi/dewan/data/UKBiobank/genotype_files/pleiotropy_geneticfiles/UKB_Caucasians_phenotypeindepqc120319_updated082020removedwithdrawnindiv.bed\n",
    "sampleFile=/gpfs/gibbs/pi/dewan/data/UKBiobank/genotype_files/ukb39554_imputeddataset/ukb32285_imputedindiv.sample\n",
    "bgenFile=`echo /gpfs/gibbs/pi/dewan/data/UKBiobank/genotype_files/ukb39554_imputeddataset/ukb_imp_chr{1..22}_v3.bgen`\n",
    "unrelated_samples=/gpfs/gibbs/pi/dewan/data/UKBiobank/genotype_files/pleiotropy_geneticfiles/unrelated_n307259/UKB_unrelatedcauc_phenotypes_asthmat2dbmiwaisthip_agesex_waisthipratio_040620\n",
    "formatFile_regenie=~/project/UKBB_GWAS_dev/data/regenie_template.yml\n",
    "#Container\n",
    "container_lmm=/gpfs/gibbs/pi/dewan/data/UKBiobank/lmm.sif\n",
    "container_marp=/gpfs/gibbs/pi/dewan/data/UKBiobank/marp.sif\n",
    "# Directories\n",
    "lmm_sos=~/project/bioworkflows/GWAS/LMM.ipynb\n",
    "lmm_dir_regenie=/gpfs/gibbs/pi/dewan/data/UKBiobank/results/REGENIE\n",
    "lmm_sbatch_regenie=../output/$(date +%Y-%m-%d)_lipids_imp-regenie.sbatch\n",
    "phenoFile=/gpfs/gibbs/pi/dewan/data/UKBiobank/phenotype_files/pleiotropy_R01/phenotypesforanalysis/UKB_CAUC_lipidsforanalysis_apolipoproteinAandB,Hba1c_continuousandcategorical,egfrbyCKDEPI,serumcreatinine,UACR_inverseranknorm_110320\n",
    "covarFile=/gpfs/gibbs/pi/dewan/data/UKBiobank/phenotype_files/pleiotropy_R01/phenotypesforanalysis/UKB_CAUC_lipidsforanalysis_apolipoproteinAandB,Hba1c_continuousandcategorical,egfrbyCKDEPI,serumcreatinine,UACR_inverseranknorm_110320\n",
    "phenoCol=\"ApoA_int ApoB_int Creatinine_int Hba1c_int eGFR_int UACR_int\"\n",
    "covarCol=\"SEX Packyrs_smoking alcohol1 alcohol2 alcohol3 alcohol4\" \n",
    "qCovarCol=AGE\n",
    "maf_filter=0.001\n",
    "geno_filter=0.0\n",
    "hwe_filter=0.0\n",
    "mind_filter=0.0\n",
    "trait=\n",
    "minMAC=4\n",
    "bsize=1000\n",
    "ylim=0\n",
    "job_size=1\n",
    "numThreads=22\n",
    "reverse_log_p=True\n",
    "lowmem_prefix=~/scratch60\n",
    "\n",
    "sos dryrun ~/project/bioworkflows/GWAS/LMM.ipynb regenie \\\n",
    "    --cwd $lmm_dir_regenie \\\n",
    "    --bfile $bfile \\\n",
    "    --sampleFile $sampleFile \\\n",
    "    --bgenFile $bgenFile \\\n",
    "    --phenoFile $phenoFile \\\n",
    "    --formatFile $formatFile_regenie \\\n",
    "    --covarFile $covarFile \\\n",
    "    --phenoCol $phenoCol \\\n",
    "    --covarCol $covarCol \\\n",
    "    --qCovarCol $qCovarCol \\\n",
    "    --maf_filter $maf_filter \\\n",
    "    --geno_filter $geno_filter \\\n",
    "    --hwe_filter $hwe_filter \\\n",
    "    --mind_filter $mind_filter \\\n",
    "    --trait $trait \\\n",
    "    --minMAC $minMAC \\\n",
    "    --bsize $bsize \\\n",
    "    --numThreads $numThreads \\\n",
    "    --job_size $job_size \\\n",
    "    --ylim $ylim \\\n",
    "    --p-filter 1 \\\n",
    "    --reverse_log_p $reverse_log_p \\\n",
    "    --lowmem_prefix $lowmem_prefix \\\n",
    "    --container_lmm $container_lmm \\\n",
    "    --container_marp $container_marp"
   ]
  },
  {
   "cell_type": "code",
   "execution_count": null,
   "metadata": {
    "kernel": "SoS"
   },
   "outputs": [],
   "source": [
    "phenoCol=[\"BMI\", \"T2D\"]\n",
    "output= [str(phenoCol[i]) + '.regenie.gz' for i in range(len(phenoCol))]\n",
    "print(output[i]) for i in range(len(output))"
   ]
  },
  {
   "cell_type": "code",
   "execution_count": null,
   "metadata": {
    "kernel": "Bash"
   },
   "outputs": [],
   "source": [
    "phenoCol=\"BMI T2D\"\n",
    "for i in $phenoCol; do echo $i; done"
   ]
  },
  {
   "cell_type": "code",
   "execution_count": null,
   "metadata": {
    "kernel": "SoS"
   },
   "outputs": [],
   "source": [
    "!touch c1_BMI c2_BMI c3_T2D c4_T2D\n",
    "input: 'c1_BMI', 'c2_BMI', 'c3_T2D', 'c4_T2D', group_by=2\n",
    "print(f\"{_index}: {_input}\")"
   ]
  },
  {
   "cell_type": "code",
   "execution_count": null,
   "metadata": {
    "kernel": "SoS"
   },
   "outputs": [],
   "source": [
    "{str(output).rsplit('_',1)[0]}"
   ]
  },
  {
   "cell_type": "code",
   "execution_count": null,
   "metadata": {
    "kernel": "SoS"
   },
   "outputs": [],
   "source": [
    "animals = ['bear' , 'python' , 'peacock', 'kangaroo' , 'whale' , 'platypus']\n",
    "\n",
    "# print \"The first (1st) animal is at 0 and is a bear.\" \n",
    "\n",
    "for i in range(len(animals)):\n",
    "    print (\"The %d animal is at %d and is a %s\" % (i+1 ,i, animals[i]))"
   ]
  },
  {
   "cell_type": "code",
   "execution_count": null,
   "metadata": {
    "kernel": "SoS"
   },
   "outputs": [],
   "source": [
    "letters = ['a', 'b']\n",
    "status = [print(letters[i]) for i in range(len(letters))]"
   ]
  },
  {
   "cell_type": "code",
   "execution_count": null,
   "metadata": {
    "kernel": "SoS"
   },
   "outputs": [],
   "source": [
    "'/home/dc2325/output/cache/imputed_genotypes_chr21_BMI.regenie.Pval'.split('_',0)"
   ]
  },
  {
   "cell_type": "code",
   "execution_count": null,
   "metadata": {
    "kernel": "SoS"
   },
   "outputs": [],
   "source": [
    "'/home/dc2325/output/cache/imputed_genotypes_chr21_BMI.regenie.Pval'.rsplit('_', 1)"
   ]
  },
  {
   "cell_type": "code",
   "execution_count": null,
   "metadata": {
    "kernel": "SoS"
   },
   "outputs": [],
   "source": [
    "import pandas as pd\n",
    "df = pd.read_csv('/home/dc2325/output/cache/imputed_genotypes_chr21_BMI.regenie', header=0, delim_whitespace=True)"
   ]
  },
  {
   "cell_type": "code",
   "execution_count": null,
   "metadata": {
    "kernel": "SoS"
   },
   "outputs": [],
   "source": [
    "  ${''.join(['--out ${str(_output).rsplit('_',1)[0]}_%s ' % x for x in phenoCol if x is not None])}"
   ]
  },
  {
   "cell_type": "code",
   "execution_count": null,
   "metadata": {
    "kernel": "SoS"
   },
   "outputs": [],
   "source": [
    "df"
   ]
  },
  {
   "cell_type": "code",
   "execution_count": null,
   "metadata": {
    "kernel": "SoS"
   },
   "outputs": [],
   "source": [
    "df['P'] = df.apply(lambda row: 10**-row.LOG10P , axis = 1) "
   ]
  },
  {
   "cell_type": "code",
   "execution_count": null,
   "metadata": {
    "kernel": "SoS"
   },
   "outputs": [],
   "source": [
    "df"
   ]
  },
  {
   "cell_type": "code",
   "execution_count": null,
   "metadata": {
    "kernel": "SoS"
   },
   "outputs": [],
   "source": [
    "df.to_csv('test.csv', sep=' ', index=False, columns = ('CHROM', 'GENPOS', 'ID','ALLELE0','ALLELE1','BETA','SE','P'))"
   ]
  },
  {
   "cell_type": "code",
   "execution_count": null,
   "metadata": {
    "kernel": "SoS"
   },
   "outputs": [],
   "source": [
    "var1= 'hola'\n",
    "print(var1)"
   ]
  },
  {
   "cell_type": "code",
   "execution_count": null,
   "metadata": {
    "kernel": "SoS"
   },
   "outputs": [],
   "source": [
    "python:expand = \"{ }\", stderr = f'{_output:n}.stderr', stdout = f'{_output:n}.stdout'\n",
    "    import pandas as pd\n",
    "    df = pd.read_csv('{_output:nn}' , header=0, delim_whitespace=True)\n",
    "    df['P'] = df.apply(lambda row: 10**-row.LOG10P , axis = 1) \n",
    "    df.to_csv('{_output:n}', sep=' ', index=False, columns = ('CHR', 'POS', 'SNP','REF','ALT','BETA','SE','P'))"
   ]
  },
  {
   "cell_type": "code",
   "execution_count": null,
   "metadata": {
    "kernel": "SoS"
   },
   "outputs": [],
   "source": [
    "    if {reverse_log_p}:\n",
    "        sumstats['P'] = sumstats['P'].apply(lambda row: 10**-row.LOG10P , axis = 1)"
   ]
  },
  {
   "cell_type": "code",
   "execution_count": null,
   "metadata": {
    "kernel": "SoS"
   },
   "outputs": [],
   "source": [
    "f'{cwd}/{phenoFile:bn}_' + '_'.join(['%s' % x for x in phenoCol if x is not None]).{step_name.rsplit(\"_\",1)[0]} + '.snp_stats.gz'"
   ]
  },
  {
   "cell_type": "code",
   "execution_count": null,
   "metadata": {
    "kernel": "SoS"
   },
   "outputs": [],
   "source": [
    "parameter: formatFile = path(\"/home/dc2325/project/UKBB_GWAS_DEV/data/regenie_template.yml\")\n",
    "python: expand= '${ }'\n",
    "        if ${formatFile.is_file()}:\n",
    "        import yaml\n",
    "        import pandas as pd\n",
    "        sumstats = pd.read_csv(output, compression='gzip', header=0, sep='\\t', quotechar='\"')  \n",
    "        config = yaml.safe_load(open(${formatFile:r}, 'r'))\n",
    "        try:\n",
    "            sumstats = sumstats.loc[:,list(config.values())]\n",
    "        except:\n",
    "            raise ValueError(f'According to {${formatFile}}, input summary statistics should have the following columns: {${list(config.values())}}.')\n",
    "        sumstats.columns = {list(config.keys())}\n",
    "        sumstats.to_csv('${_output[0]}', compression='gzip', sep='\\t', header = True, index = False)"
   ]
  },
  {
   "cell_type": "code",
   "execution_count": null,
   "metadata": {
    "kernel": "SoS"
   },
   "outputs": [],
   "source": [
    "parameter: formatFile = path(\"/home/dc2325/project/UKBB_GWAS_DEV/data/regenie_template.yml\")\n",
    "parameter: sumfile = path(\"/home/dc2325/output/phenotypes_BMI.regenie.snp_stats_original_columns.gz\")\n",
    "parameter: reverse_log_p = True\n",
    "python: expand= '${ }'\n",
    "    if ${formatFile.is_file()}:\n",
    "        import yaml\n",
    "        import pandas as pd\n",
    "        sumstats = pd.read_csv(${sumfile:r}, compression='gzip', header=0, delim_whitespace=True)\n",
    "        config = yaml.safe_load(open(${formatFile:r}, 'r'))\n",
    "    try:\n",
    "        sumstats = sumstats.loc[:,list(config.values())]\n",
    "    except:\n",
    "        raise ValueError(f'According to ${formatFile}, input summary statistics should have the following columns: {list(config.values())}.')\n",
    "    sumstats.columns = list(config.keys())\n",
    "    if ${reverse_log_p}:\n",
    "        sumstats['P'] = sumstats['P'].apply(lambda row: 10**-row)\n",
    "    print(sumstats.head())"
   ]
  },
  {
   "cell_type": "code",
   "execution_count": null,
   "metadata": {
    "kernel": "SoS"
   },
   "outputs": [],
   "source": [
    "       try:\n",
    "            sumstats = sumstats.loc[:,list(config.values())]\n",
    "        except:\n",
    "            raise ValueError(f'According to ${formatFile}, input summary statistics should have the following columns: {list(config.values())}.')\n",
    "        sumstats.columns = list(config.keys())\n",
    "    if ${reverse_log_p}:\n",
    "        sumstats['P'] = sumstats['P'].apply(lambda row: 10**-row)\n",
    "        print(sumstats.head())\n",
    "        #sumstats.to_csv('test', compression='gzip', sep='\\t', header = True, index = False)"
   ]
  },
  {
   "cell_type": "code",
   "execution_count": null,
   "metadata": {
    "kernel": "Bash"
   },
   "outputs": [],
   "source": [
    "cd ~/project/HI_UKBB\n",
    "pwd"
   ]
  },
  {
   "cell_type": "code",
   "execution_count": null,
   "metadata": {
    "kernel": "SoS"
   },
   "outputs": [],
   "source": [
    "import pandas as pd\n",
    "dat = pd.read_csv(\"/home/dc2325/project/HI_UKBB/200811_UKBB_Tinnitus_plan1_2_3_f4803\", header=0, delim_whitespace=True, quotechar='\"',dtype=str)"
   ]
  },
  {
   "cell_type": "code",
   "execution_count": null,
   "metadata": {
    "kernel": "SoS"
   },
   "outputs": [],
   "source": [
    "%preview dat"
   ]
  },
  {
   "cell_type": "code",
   "execution_count": null,
   "metadata": {
    "kernel": "SoS"
   },
   "outputs": [],
   "source": [
    "dat.dtypes"
   ]
  },
  {
   "cell_type": "code",
   "execution_count": null,
   "metadata": {
    "kernel": "SoS"
   },
   "outputs": [],
   "source": [
    "df2 = dat.replace(to_replace =np.nan, value =\"NA\")\n",
    "df2"
   ]
  },
  {
   "cell_type": "code",
   "execution_count": null,
   "metadata": {
    "kernel": "SoS"
   },
   "outputs": [],
   "source": [
    "dat.columns = dat.astype(\"int64\").dtypes"
   ]
  },
  {
   "cell_type": "code",
   "execution_count": null,
   "metadata": {
    "kernel": "SoS"
   },
   "outputs": [],
   "source": [
    "cols = [ 'tinnitus_p2','tinnitus_p3']\n",
    "for col in cols:\n",
    "   dat[col] = dat[col].fillna(10000)\n",
    "   dat[col] = dat[col].apply(lambda x: int(x) if x != \"\" else \"\")\n",
    "dat=dat.replace(10000,np.nan)\n",
    "dat"
   ]
  },
  {
   "cell_type": "code",
   "execution_count": null,
   "metadata": {
    "kernel": "SoS"
   },
   "outputs": [],
   "source": [
    "import numpy as np\n",
    "dat['tinnitus_p2'] = dat['tinnitus_p2'].fillna(-1)\n",
    "dat['tinnitus_p2'] = dat['tinnitus_p2'].astype(int)\n",
    "dat['tinnitus_p2'] = dat['tinnitus_p2'].astype(str)\n",
    "dat['tinnitus_p2'] = dat['tinnitus_p2'].replace('-1', np.nan)"
   ]
  },
  {
   "cell_type": "code",
   "execution_count": null,
   "metadata": {
    "kernel": "SoS"
   },
   "outputs": [],
   "source": [
    "dat = pd.read_csv(filename, dtype={'id':str})"
   ]
  },
  {
   "cell_type": "code",
   "execution_count": null,
   "metadata": {
    "kernel": "SoS"
   },
   "outputs": [],
   "source": [
    "dat['tinnitus_p2'] = dat['tinnitus_p2'].apply()"
   ]
  },
  {
   "cell_type": "code",
   "execution_count": null,
   "metadata": {
    "kernel": "SoS"
   },
   "outputs": [],
   "source": [
    "dat['tinnitus_p3'] = dat['tinnitus_p3'].astype('Int64')"
   ]
  },
  {
   "cell_type": "code",
   "execution_count": null,
   "metadata": {
    "kernel": "SoS"
   },
   "outputs": [],
   "source": [
    "import pandas as pd\n",
    "import numpy as np\n",
    "phenoCol = [\"tinnitus\", \"tinnitus_p2\", \"tinnitus_p3\"]\n",
    "dat = pd.read_csv(\"/home/dc2325/project/HI_UKBB/200811_UKBB_Tinnitus_plan1_2_3_f4803\", header=0, delim_whitespace=True, dtype=str)\n",
    "dat = dat.replace(to_replace =np.nan, value =\"NA\")\n",
    "#if len(phenoCol) > 0:\n",
    "    #dat.to_csv(f\"{cwd}/{phenoFile:bn}.regenie_phenotype\", sep=' ', index=False, columns = ['FID', 'IID'] + phenoCol)"
   ]
  },
  {
   "cell_type": "code",
   "execution_count": null,
   "metadata": {
    "kernel": "SoS"
   },
   "outputs": [],
   "source": [
    "%preview dat"
   ]
  },
  {
   "cell_type": "code",
   "execution_count": null,
   "metadata": {
    "kernel": "SoS"
   },
   "outputs": [],
   "source": [
    "import pandas as pd\n",
    "import numpy as np\n",
    "phenoCol = [\"BMI\"]\n",
    "dat = pd.read_csv(\"/SAY/dbgapstg/scratch/UKBiobank/MWE/phenotypes.txt\", header=0, delim_whitespace=True, dtype=str)\n",
    "dat = dat.replace(to_replace =np.nan, value =\"NA\")\n",
    "if len(phenoCol) > 0:    \n",
    "    dat.to_csv(f\"~/output/phenotypes.regenie_phenotype\", sep=' ', index=False, columns = ['FID', 'IID'] + phenoCol)"
   ]
  },
  {
   "cell_type": "code",
   "execution_count": null,
   "metadata": {
    "kernel": "SoS"
   },
   "outputs": [],
   "source": [
    "[plink: provides = f'{cwd}/cache/{bfile:bn}.regenie.keep']\n",
    "parameter: plink2_module = '''\n",
    "module load PLINK/2_x86_64_20180428\n",
    "echo \"Module plink2 loaded\"\n",
    "{cmd}\n",
    "'''\n",
    "input: bfile\n",
    "output: f'{cwd}/cache/{bfile:bn}.qc_pass.id', f'{cwd}/cache/{bfile:bn}.qc_pass.snplist', f'{cwd}/cache/{bfile:bn}.regenie.keep' \n",
    "task: trunk_workers = 1, walltime = '10h', mem = '30G', cores = numThreads, tags = f'{step_name}_{_output[0]:bn}'\n",
    "bash: expand= \"${ }\", stderr = f'{_output[0]:n}.stderr', stdout = f'{_output[0]:n}.stdout', template = '{cmd}' if executable('plink2').target_exists() else plink2_module    \n",
    "    plink2 \\\n",
    "      --bfile ${bfile:n} \\\n",
    "      --maf 0.001 \\\n",
    "      --geno 0.01 \\\n",
    "      --hwe 5e-08 \\\n",
    "      --mind 0.01 \\\n",
    "      --write-snplist --write-samples --no-id-header \\\n",
    "      --threads ${numThreads} \\\n",
    "      --out ${_output[0]:n} \n",
    "      \n",
    "bash: expand = \"${ }\"\n",
    "    # create qc_pass space delimited and create keep file\n",
    "    expand -t 1 ${_output[0]} > ${_output[0]:n}_space.id \\\n",
    "    && grep -wFf  ${_output[0]:n}_space.id  ${sampleFile} > ${_output[2]}"
   ]
  },
  {
   "cell_type": "code",
   "execution_count": null,
   "metadata": {
    "kernel": "R"
   },
   "outputs": [],
   "source": [
    "library('dplyr')\n",
    "library('ggrepel')\n",
    "setwd(\"~\")\n",
    "getwd()"
   ]
  },
  {
   "cell_type": "code",
   "execution_count": null,
   "metadata": {
    "kernel": "R"
   },
   "outputs": [],
   "source": [
    "#Load your data\n",
    "data <- read.table(gzfile('output/phenotypes_T2D.regenie.snp_stats.gz'), header=T)"
   ]
  },
  {
   "cell_type": "code",
   "execution_count": null,
   "metadata": {
    "kernel": "R"
   },
   "outputs": [],
   "source": [
    "# Create a subset of the data with variants with P< 0.05 and arrange by chromosome number\n",
    "# https://danielroelfs.com/blog/how-i-create-manhattan-plots-using-ggplot/\n",
    "sig.dat <- data %>%\n",
    "  subset(P < 0.08) "
   ]
  },
  {
   "cell_type": "code",
   "execution_count": null,
   "metadata": {
    "kernel": "R"
   },
   "outputs": [],
   "source": [
    "head(sig.dat)"
   ]
  },
  {
   "cell_type": "code",
   "execution_count": null,
   "metadata": {
    "kernel": "SoS"
   },
   "outputs": [],
   "source": [
    "%cd /SAY/dbgapstg/scratch/UKBiobank/results/FastGWA_results/results_imputed_data/f2247_f2257_combined/cache"
   ]
  },
  {
   "cell_type": "code",
   "execution_count": null,
   "metadata": {
    "kernel": "SoS"
   },
   "outputs": [],
   "source": [
    "heritability =  open('ukb_imp_chr1_v3.200828_UKBB_f2247_f2257.log', 'r')\n",
    "for line in heritability:\n",
    "    if line.startswith('Heritability'):\n",
    "        print (line)"
   ]
  },
  {
   "cell_type": "code",
   "execution_count": null,
   "metadata": {
    "kernel": "SoS"
   },
   "outputs": [],
   "source": [
    "%cd ~\n",
    "%run \n",
    "[fastGWA_1]\n",
    "output: 'test1.log'\n",
    "_output.touch('Heritability=1')\n",
    "[default_1]\n",
    "if any(['fastGWA_1' in x for x in {step_name}]):\n",
    "    heritability = get_output(f'grep Heritability {_input:n}.log | head -1').strip()\n",
    "    print(heritability)\n",
    "else:\n",
    "    heritability = None\n",
    "    print(\"nothing\")\n",
    "[default_2]\n",
    "output: 'report.md'    \n",
    "R: expand =\"${ }\"\n",
    "    write('${(\" Heritability is %s\" % heritability) if heritability is not None else ''}', ${_output:r}, append = T) "
   ]
  },
  {
   "cell_type": "code",
   "execution_count": null,
   "metadata": {
    "kernel": "SoS"
   },
   "outputs": [],
   "source": [
    "else:\n",
    "    heritability = None\n",
    "    print(\"nothing\")\n",
    "output: 'report.md'    \n",
    "R: expand =\"${ }\"\n",
    "    write('${(\" Heritability is %s\" % heritability) if heritability is not None else ''}', ${_output:r}, append = T)"
   ]
  },
  {
   "cell_type": "code",
   "execution_count": null,
   "metadata": {
    "kernel": "SoS"
   },
   "outputs": [],
   "source": [
    "    with open(_output, 'r') as f:\n",
    "                        for line in f:\n",
    "                            if line.startswith('Heritability'[0]):\n",
    "                                print (line)"
   ]
  },
  {
   "cell_type": "code",
   "execution_count": null,
   "metadata": {
    "kernel": "SoS"
   },
   "outputs": [],
   "source": [
    "%cd ~\n",
    "%run\n",
    "[step_1]\n",
    "input: 'test1.log'\n",
    "heritability =  get_output(f'grep Heritability {_input} | head -1').strip()\n",
    "print(heritability)\n",
    "[step_2]\n",
    "output: 'result.md'\n",
    "R: expand=\"${ }\"\n",
    "   write(paste(${heritability}), ${_output:r}, append = T)"
   ]
  },
  {
   "cell_type": "code",
   "execution_count": null,
   "metadata": {
    "kernel": "SoS"
   },
   "outputs": [],
   "source": []
  },
  {
   "cell_type": "code",
   "execution_count": null,
   "metadata": {
    "kernel": "SoS"
   },
   "outputs": [],
   "source": [
    "import pandas as pd\n",
    "covarCol = [\"sex\", \"loud_music\"]\n",
    "qCovarCol = ['age']\n",
    "dat = pd.read_csv('/home/dc2325/project/HI_UKBB/200904_UKBB_SRT_cat_cc', header=0, delim_whitespace=True)\n",
    "if len(covarCol) > 0:\n",
    "    dat.to_csv(f\"test.fastGWA_covar\", sep=' ', index=False, columns = ['FID', 'IID'] + covarCol)\n",
    "if len(qCovarCol) > 0:\n",
    "    dat.to_csv(f\"test.fastGWA_qcovar\", sep=' ', index=False, columns = ['FID', 'IID'] + qCovarCol)\n",
    "dat.head()"
   ]
  },
  {
   "cell_type": "code",
   "execution_count": null,
   "metadata": {
    "kernel": "R"
   },
   "outputs": [],
   "source": [
    "library('qqman')\n",
    "ylim=0\n",
    "data <- read.table(gzfile('/SAY/dbgapstg/scratch/UKBiobank/results/FastGWA_results/results_imputed_data/triglycerides/UKB_Caucasiansubset_cholesterolfields_adjbymedstatus_062420_foranalysis_triglycerides.fastGWA.snp_stats.gz'), header=T)\n",
    "ifelse((ylim == 0 && min(data$P)!=0), ylim <- abs(floor(log10(min(data$P)))), ylim <- log10(2.225074e-308))\n",
    "print(ylim)"
   ]
  },
  {
   "cell_type": "code",
   "execution_count": null,
   "metadata": {
    "kernel": "R"
   },
   "outputs": [],
   "source": [
    "ifelse((ylim == 0 && min(data$P)!=0), ylim <- abs(floor(log10(min(data$P)))), ylim <- abs(floor(log10(2.225074e-308))))\n",
    "ylim"
   ]
  },
  {
   "cell_type": "code",
   "execution_count": null,
   "metadata": {
    "kernel": "SoS"
   },
   "outputs": [],
   "source": [
    "[global]\n",
    "#The directory for output files\n",
    "parameter: cwd = f'/home/dc2325/output/'\n",
    "#The region file\n",
    "parameter: regions_file = f'/gpfs/gibbs/pi/dewan/data/UKBiobank/results/region_extraction/f3393_hearing_aid/regions.txt'\n",
    "regions = [x.strip() for x in open(regions_file).readlines()]\n",
    "[extract_regions]\n",
    "input: for_each = 'regions', group_by=1\n",
    "output: f'{cwd}/{_regions}.out'\n",
    "bash: expand = '${ }'\n",
    "    echo ${_regions} > ${_output}"
   ]
  },
  {
   "cell_type": "code",
   "execution_count": null,
   "metadata": {
    "kernel": "SoS"
   },
   "outputs": [],
   "source": [
    "import pandas as pd\n",
    "import numpy as np\n",
    "region_file=path(\"/gpfs/gibbs/pi/dewan/data/UKBiobank/results/LD_clumping/f3393_hearing_aid/200828_UKBB_Hearing_aid_f3393_hearing_aid_cat.fastGWA.snp_stats.clumped_region\") "
   ]
  },
  {
   "cell_type": "code",
   "execution_count": null,
   "metadata": {
    "kernel": "SoS"
   },
   "outputs": [],
   "source": [
    "region_file"
   ]
  },
  {
   "cell_type": "code",
   "execution_count": null,
   "metadata": {
    "kernel": "SoS"
   },
   "outputs": [],
   "source": [
    "regions = ([x.strip() for x in open(region_file).readlines()])"
   ]
  },
  {
   "cell_type": "code",
   "execution_count": null,
   "metadata": {
    "kernel": "SoS"
   },
   "outputs": [],
   "source": [
    "regions1 = [x.replace(' ', '_' ) for x in regions]"
   ]
  },
  {
   "cell_type": "code",
   "execution_count": null,
   "metadata": {
    "kernel": "SoS"
   },
   "outputs": [],
   "source": [
    "regions1"
   ]
  },
  {
   "cell_type": "code",
   "execution_count": null,
   "metadata": {
    "kernel": "SoS"
   },
   "outputs": [],
   "source": [
    "import pandas as pd\n",
    "import numpy as np\n",
    "dat = pd.read_csv('/gpfs/gibbs/pi/dewan/data/UKBiobank/phenotype_files/pleiotropy_R01/phenotypesforanalysis/UKB_CAUC_lipidsforanalysis_apolipoproteinAandB,Hba1c_continuousandcategorical,egfrbyCKDEPI,serumcreatinine,UACR_inverseranknorm_110320', header=0, delim_whitespace=True, dtype=str)"
   ]
  },
  {
   "cell_type": "code",
   "execution_count": null,
   "metadata": {
    "kernel": "SoS"
   },
   "outputs": [],
   "source": [
    "phenoCol=['ApoA_int', 'ApoB_int', 'Creatinine_int', 'Hba1c_int', 'eGFR_int', 'UACR_int']\n",
    "dat = dat.replace(to_replace =np.nan, value =\"NA\")\n",
    "if len(phenoCol) > 0:    \n",
    "    dat.to_csv(\"test.regenie_phenotype\", sep=' ', index=False, columns = ['FID', 'IID'] + phenoCol)"
   ]
  },
  {
   "cell_type": "code",
   "execution_count": null,
   "metadata": {
    "kernel": "SoS"
   },
   "outputs": [],
   "source": [
    "dat = pd.read_csv('/gpfs/gibbs/pi/dewan/data/UKBiobank/phenotype_files/pleiotropy_R01/phenotypesforanalysis/UKB_CAUC_lipidsforanalysis_apolipoproteinAandB,Hba1c_continuousandcategorical,egfrbyCKDEPI,serumcreatinine,UACR_inverseranknorm_110320', header=0, delim_whitespace=True)\n",
    "covarCol=[\"SEX\",\"alcohol1\" ,\"alcohol2\" ,\"alcohol3\", \"alcohol4\"] \n",
    "qCovarCol=[\"AGE\", \"Packyrs_smoking\"]\n",
    "if len(covarCol) > 0 or len(qCovarCol) > 0:\n",
    "    dat = dat.dropna(subset=covarCol)\n",
    "    dat = dat.dropna(subset=qCovarCol)\n",
    "    dat.replace(to_replace =np.nan, value =\"NA\")\n",
    "    dat1 = pd.DataFrame(dat, columns = ['FID','IID'] + covarCol)\n",
    "    dat1 = dat1.astype(int)\n",
    "    dat2 = pd.DataFrame(dat, columns = ['IID'] + qCovarCol)\n",
    "    merged_left = pd.merge(left=dat1, right=dat2, how='left', left_on='IID', right_on='IID')\n",
    "    dat.to_csv(f\"{cwd}/{phenoFile:bn}.regenie_covar\", sep=' ', index=False, columns = ['FID', 'IID'] + covarCol + qCovarCol)"
   ]
  },
  {
   "cell_type": "code",
   "execution_count": null,
   "metadata": {
    "kernel": "SoS"
   },
   "outputs": [],
   "source": [
    "dat1 = pd.DataFrame(dat, columns = ['IID'] + covarCol)\n",
    "dat1 = dat1.astype(int)\n",
    "dat1.head()"
   ]
  },
  {
   "cell_type": "code",
   "execution_count": null,
   "metadata": {
    "kernel": "SoS"
   },
   "outputs": [],
   "source": [
    "dat2 = pd.DataFrame(dat, columns = ['FID', 'IID'] + qCovarCol)\n",
    "dat2.head()"
   ]
  },
  {
   "cell_type": "code",
   "execution_count": null,
   "metadata": {
    "kernel": "SoS"
   },
   "outputs": [],
   "source": [
    "merged_left = pd.merge(left=dat1, right=dat2, how='left', left_on='IID', right_on='IID')\n",
    "merged_left.head()"
   ]
  },
  {
   "cell_type": "code",
   "execution_count": null,
   "metadata": {
    "kernel": "SoS"
   },
   "outputs": [],
   "source": [
    "dat.info()"
   ]
  },
  {
   "cell_type": "code",
   "execution_count": null,
   "metadata": {
    "kernel": "SoS"
   },
   "outputs": [],
   "source": [
    "mask = dat['alcohol1'].isnull() | dat['alcohol2'].isnull() | dat['alcohol3'].isnull() | dat['alcohol4'].isnull()\n",
    "print (dat[mask])"
   ]
  },
  {
   "cell_type": "code",
   "execution_count": null,
   "metadata": {
    "kernel": "SoS"
   },
   "outputs": [],
   "source": [
    "mask2 = dat['SEX'].isnull()\n",
    "print (dat[mask2])"
   ]
  },
  {
   "cell_type": "code",
   "execution_count": null,
   "metadata": {
    "kernel": "SoS"
   },
   "outputs": [],
   "source": [
    "is_NaN = dat.isnull()\n",
    "row_has_NaN = is_NaN.any(axis=1)\n",
    "rows_with_NaN = dat[row_has_NaN]\n",
    "print(rows_with_NaN)"
   ]
  },
  {
   "cell_type": "code",
   "execution_count": null,
   "metadata": {
    "kernel": "SoS"
   },
   "outputs": [],
   "source": [
    "test = dat.dropna(subset=covarCol)\n",
    "test.head(100)\n",
    "test.shape[0]"
   ]
  },
  {
   "cell_type": "code",
   "execution_count": null,
   "metadata": {
    "kernel": "SoS"
   },
   "outputs": [],
   "source": [
    "dat.shape[0]"
   ]
  },
  {
   "cell_type": "code",
   "execution_count": null,
   "metadata": {
    "kernel": "SoS"
   },
   "outputs": [],
   "source": [
    "mask = test['alcohol1'].isnull() | test['alcohol2'].isnull() | test['alcohol3'].isnull() | test['alcohol4'].isnull()\n",
    "print (test[mask])"
   ]
  },
  {
   "cell_type": "code",
   "execution_count": null,
   "metadata": {
    "kernel": "SoS"
   },
   "outputs": [],
   "source": [
    "dat[dat.isnull().any(axis=1)]"
   ]
  },
  {
   "cell_type": "code",
   "execution_count": null,
   "metadata": {
    "kernel": "R"
   },
   "outputs": [],
   "source": [
    "bd = read.table('/gpfs/gibbs/pi/dewan/data/UKBiobank/phenotype_files/pleiotropy_R01/phenotypesforanalysis/UKB_CAUC_lipidsforanalysis_apolipoproteinAandB,Hba1c_continuousandcategorical,egfrbyCKDEPI,serumcreatinine,UACR_inverseranknorm_110320', header=T)"
   ]
  },
  {
   "cell_type": "code",
   "execution_count": null,
   "metadata": {
    "kernel": "R"
   },
   "outputs": [],
   "source": [
    "head(bd)"
   ]
  },
  {
   "cell_type": "code",
   "execution_count": null,
   "metadata": {
    "kernel": "R"
   },
   "outputs": [],
   "source": [
    "summary(bd$alcohol1)"
   ]
  },
  {
   "cell_type": "code",
   "execution_count": null,
   "metadata": {
    "kernel": "R"
   },
   "outputs": [],
   "source": [
    "summary(bd$alcohol2)"
   ]
  },
  {
   "cell_type": "code",
   "execution_count": null,
   "metadata": {
    "kernel": "R"
   },
   "outputs": [],
   "source": [
    "summary(bd$alcohol3)"
   ]
  },
  {
   "cell_type": "code",
   "execution_count": null,
   "metadata": {
    "kernel": "R"
   },
   "outputs": [],
   "source": [
    "summary(bd$alcohol4)"
   ]
  },
  {
   "cell_type": "code",
   "execution_count": null,
   "metadata": {
    "kernel": "SoS"
   },
   "outputs": [],
   "source": [
    "dat.head(100)\n",
    "check_for_nan = dat['alcohol1'].isnull()\n",
    "print (check_for_nan)"
   ]
  },
  {
   "cell_type": "code",
   "execution_count": null,
   "metadata": {
    "kernel": "SoS"
   },
   "outputs": [],
   "source": [
    "dat1= pd.DataFrame(dat, columns = ['FID', 'IID'] + covarCol)\n",
    "dat = dat1.astype(int)\n",
    "dat1.head()"
   ]
  },
  {
   "cell_type": "code",
   "execution_count": null,
   "metadata": {
    "kernel": "SoS"
   },
   "outputs": [],
   "source": [
    "import pandas\n",
    "    df = pandas.DataFrame(data, columns = ['FID', 'IID'] + covarCol, index=False)\n",
    "    df = df.astype(int)\n",
    "    "
   ]
  },
  {
   "cell_type": "code",
   "execution_count": null,
   "metadata": {
    "kernel": "SoS"
   },
   "outputs": [],
   "source": [
    "dat['alcohol4'].isnull().values.any()"
   ]
  },
  {
   "cell_type": "code",
   "execution_count": null,
   "metadata": {
    "kernel": "SoS"
   },
   "outputs": [],
   "source": [
    "dat.to_csv(f\"{cwd}/{phenoFile:bn}.regenie_covar\", sep=' ', index=False, columns = ['FID', 'IID'] + covarCol + qCovarCol)"
   ]
  },
  {
   "cell_type": "code",
   "execution_count": null,
   "metadata": {
    "kernel": "SoS"
   },
   "outputs": [],
   "source": [
    "dat.to_csv(f\"{cwd}/{phenoFile:bn}.regenie_covar\", sep=' ', index=False, columns = ['FID', 'IID'] + covarCol + qCovarCol)"
   ]
  },
  {
   "cell_type": "code",
   "execution_count": null,
   "metadata": {
    "kernel": "SoS"
   },
   "outputs": [],
   "source": [
    "dat[[covarCol]] = dat[[covarCol]].apply(pd.to_numeric)\n",
    "                              #df[[\"a\", \"b\"]] = df[[\"a\", \"b\"]].apply(pd.to_numeric)"
   ]
  },
  {
   "cell_type": "code",
   "execution_count": null,
   "metadata": {
    "kernel": "SoS"
   },
   "outputs": [],
   "source": [
    "merged_data = pd.merge(left=survey_sub, right=species_sub, how='left', left_on='species_id', right_on='species_id')"
   ]
  },
  {
   "cell_type": "code",
   "execution_count": null,
   "metadata": {
    "kernel": "SoS"
   },
   "outputs": [],
   "source": [
    "import pandas as pd\n",
    "dtypes={'CHR': int,'POS': int,'REF': str,'ALT':str,'SNP':str,'BETA':float,'SE':float,'P':float}\n",
    "sumstats_1 = pd.read_csv('/gpfs/gibbs/pi/dewan/data/UKBiobank/results/FastGWA_results/results_imputed_data/HDL/UKB_Caucasiansubset_cholesterolfields_adjbymedstatus_062420_foranalysis_HDL.fastGWA.snp_stats.gz', compression='gzip', header=0, sep='\\t', quotechar='\"')\n",
    "sumstats_2 = pd.read_csv('/gpfs/gibbs/pi/dewan/data/UKBiobank/results/BOLTLMM_results/results_imputed_data/HDL/UKB_Caucasiansubset_cholesterolfields_adjbymedstatus_062420_foranalysis_HDL.boltlmm.snp_stats.gz', compression='gzip', header=0, sep='\\t', quotechar='\"')"
   ]
  },
  {
   "cell_type": "code",
   "execution_count": null,
   "metadata": {
    "kernel": "SoS"
   },
   "outputs": [],
   "source": [
    "sumstats_1.head()"
   ]
  },
  {
   "cell_type": "code",
   "execution_count": null,
   "metadata": {
    "kernel": "SoS"
   },
   "outputs": [],
   "source": [
    "sumstats_2.head()"
   ]
  },
  {
   "cell_type": "code",
   "execution_count": null,
   "metadata": {
    "kernel": "SoS"
   },
   "outputs": [],
   "source": [
    "sumstats_1.info()"
   ]
  },
  {
   "cell_type": "code",
   "execution_count": null,
   "metadata": {
    "kernel": "SoS"
   },
   "outputs": [],
   "source": [
    "sumstats_2.info()"
   ]
  },
  {
   "cell_type": "code",
   "execution_count": null,
   "metadata": {
    "kernel": "SoS"
   },
   "outputs": [],
   "source": [
    "sumstats_2[\"P\"] = sumstats_2[\"P\"].astype('float')"
   ]
  },
  {
   "cell_type": "code",
   "execution_count": null,
   "metadata": {
    "kernel": "SoS"
   },
   "outputs": [],
   "source": [
    "sig_1=sumstats_1[sumstats_1.P<5e-08]\n",
    "sig_2=sumstats_2[sumstats_2.P<5e-08]"
   ]
  },
  {
   "cell_type": "code",
   "execution_count": null,
   "metadata": {
    "kernel": "SoS"
   },
   "outputs": [],
   "source": [
    "difference = set(sig_1.SNP) ^ set(sig_2.SNP)"
   ]
  },
  {
   "cell_type": "code",
   "execution_count": null,
   "metadata": {
    "kernel": "SoS",
    "scrolled": true
   },
   "outputs": [],
   "source": [
    "difference"
   ]
  },
  {
   "cell_type": "code",
   "execution_count": null,
   "metadata": {
    "kernel": "SoS"
   },
   "outputs": [],
   "source": [
    "s = list(difference)"
   ]
  },
  {
   "cell_type": "code",
   "execution_count": null,
   "metadata": {
    "kernel": "SoS"
   },
   "outputs": [],
   "source": [
    "res1 = sig_1[sig_1.SNP.isin(s)]\n",
    "res1.columns = ['CHR', 'POS', 'REF', 'ALT', 'SNP', 'BETA_pheno1', 'SE_pheno1', 'P_pheno1']\n",
    "res2 = sig_2[sig_2.SNP.isin(s)]\n",
    "res2.columns = ['CHR', 'POS', 'REF', 'ALT', 'SNP', 'BETA_pheno1', 'SE_pheno2', 'P_pheno2']\n",
    "res3 = pd.merge(res1, res2, on=['SNP', 'CHR', 'POS', 'REF', 'ALT'])\n",
    "s.to_csv(\"test.differ.snps\", sep=' ', header = False, index = False)\n",
    "res3.to_csv(\"test.differ.sum\", sep='\\t', header = True, index = False)"
   ]
  },
  {
   "cell_type": "code",
   "execution_count": null,
   "metadata": {
    "kernel": "SoS"
   },
   "outputs": [],
   "source": [
    "import pandas as pd\n",
    "phenoCol = [\"hearing_aid_cat\"]\n",
    "dat = pd.read_csv('/gpfs/gibbs/pi/dewan/data/UKBiobank/phenotype_files/hearing_impairment/phenotypes_exome_data/010421_UKBB_Hearing_aid_f3393_exomes', header=0, delim_whitespace=True)"
   ]
  },
  {
   "cell_type": "code",
   "execution_count": null,
   "metadata": {
    "kernel": "SoS"
   },
   "outputs": [],
   "source": [
    "if len(phenoCol) > 0:\n",
    "    dat.to_csv(f\"test.fastGWA_phenotype\", sep=' ', index=False, columns = ['FID', 'IID'] + phenoCol)"
   ]
  },
  {
   "cell_type": "code",
   "execution_count": null,
   "metadata": {
    "kernel": "SoS"
   },
   "outputs": [],
   "source": [
    "import pandas as pd\n",
    "import numpy as np\n",
    "common = pd.read_csv(\"/home/dc2325/output/cache/ukb23155_c1_b0_v1.common_var.snplist\", header=None, delim_whitespace=True, dtype=str)\n",
    "common.columns = ['SNPid']\n",
    "common.head()\n"
   ]
  },
  {
   "cell_type": "code",
   "execution_count": null,
   "metadata": {
    "kernel": "SoS"
   },
   "outputs": [],
   "source": [
    "count_row = common.shape[0]\n",
    "count_row"
   ]
  },
  {
   "cell_type": "code",
   "execution_count": null,
   "metadata": {
    "kernel": "SoS"
   },
   "outputs": [],
   "source": [
    "rare = pd.read_csv(\"/home/dc2325/output/cache/ukb23155_c1_b0_v1.rare_var.snplist\", header=None, delim_whitespace=True, dtype=str)\n",
    "rare.columns=['SNPid']\n",
    "rare.head()"
   ]
  },
  {
   "cell_type": "code",
   "execution_count": null,
   "metadata": {
    "kernel": "SoS"
   },
   "outputs": [],
   "source": [
    "count_row2 =rare.shape[0]\n",
    "count_row2"
   ]
  },
  {
   "cell_type": "code",
   "execution_count": null,
   "metadata": {
    "kernel": "SoS"
   },
   "outputs": [],
   "source": [
    "all_var = pd.read_csv (\"/gpfs/gibbs/pi/dewan/data/UKBiobank/genotype_files/ukb28374_exomedata/exome_data_OCT2020/ukb23155_c1_b0_v1.bim\", header=None, delim_whitespace=True, dtype=str)\n",
    "all_var.head()"
   ]
  },
  {
   "cell_type": "code",
   "execution_count": null,
   "metadata": {
    "kernel": "SoS"
   },
   "outputs": [],
   "source": [
    "count_row3 =all_var.shape[0]\n",
    "count_row3"
   ]
  },
  {
   "cell_type": "code",
   "execution_count": null,
   "metadata": {
    "kernel": "SoS"
   },
   "outputs": [],
   "source": [
    "int_df = pd.merge(common, rare, how ='inner', on =['SNPid', 'SNPid']) \n",
    "print(int_df) "
   ]
  },
  {
   "cell_type": "code",
   "execution_count": null,
   "metadata": {
    "kernel": "Bash"
   },
   "outputs": [],
   "source": [
    "awk -F\"[, ]\" 'NR==FNR{a[$1]=$1\",\"$2; next} ($2 in a){print a[$2]\",\"$1}' file1 file2 \n",
    "awk -F, 'FNR==NR {lines[$2]; next} $2 in lines' file1 file2"
   ]
  },
  {
   "cell_type": "code",
   "execution_count": null,
   "metadata": {
    "kernel": "Bash"
   },
   "outputs": [],
   "source": [
    "\n",
    "awk -F\" \" 'FNR==NR {lines[$1]; next} $2 in lines ' /home/dc2325/output/cache/test_del_awk.txt /home/dc2325/output/cache/ukb23155.allchr.bim > /home/dc2325/output/cache/out_file "
   ]
  },
  {
   "cell_type": "code",
   "execution_count": null,
   "metadata": {
    "kernel": "Bash",
    "scrolled": true
   },
   "outputs": [],
   "source": [
    "awk -F\" \" 'FNR==NR {lines[$1]; next} $2 in lines ' /home/dc2325/output/cache/test_ins_awk.txt /home/dc2325/output/cache/ukb23155.allchr.bim > /home/dc2325/output/cache/out_ins_awk.txt"
   ]
  },
  {
   "cell_type": "code",
   "execution_count": null,
   "metadata": {
    "kernel": "Bash"
   },
   "outputs": [],
   "source": [
    "cat /home/dc2325/output/cache/out_ins_awk.txt | head "
   ]
  },
  {
   "cell_type": "code",
   "execution_count": null,
   "metadata": {
    "kernel": "Bash"
   },
   "outputs": [],
   "source": [
    "awk -F\"\\t\" 'length ($6)>1 {print}' /home/dc2325/output/cache/ukb23155.allchr.bim | wc -l"
   ]
  },
  {
   "cell_type": "code",
   "execution_count": null,
   "metadata": {
    "kernel": "Bash"
   },
   "outputs": [],
   "source": [
    "grep \"D\"  /home/dc2325/output/cache/ukb23155.allchr.bim | wc -l"
   ]
  },
  {
   "cell_type": "code",
   "execution_count": null,
   "metadata": {
    "kernel": "Bash"
   },
   "outputs": [],
   "source": [
    "awk -F\" \" 'FNR==NR {lines[$1]; next} $2 in lines {print $1, $4, $6, $5}' /home/dc2325/output/cache/test_awk.txt /home/dc2325/output/cache/ukb23155.allchr.bim"
   ]
  },
  {
   "cell_type": "code",
   "execution_count": null,
   "metadata": {
    "kernel": "Bash"
   },
   "outputs": [],
   "source": [
    "awk -F\" \" '{print $1, $4, $4 + (length ($6) - length ($5)), $6, $5  } ' /home/dc2325/output/cache/out1.txt"
   ]
  },
  {
   "cell_type": "code",
   "execution_count": null,
   "metadata": {
    "kernel": "Bash"
   },
   "outputs": [],
   "source": [
    "awk -F\" \" '{print $1, $4, $4 , $6, $5  } ' /home/dc2325/output/cache/out_ins_awk.txt | head"
   ]
  },
  {
   "cell_type": "code",
   "execution_count": null,
   "metadata": {
    "kernel": "Bash"
   },
   "outputs": [],
   "source": [
    "cat /home/dc2325/output/cache/test_awk.txt"
   ]
  },
  {
   "cell_type": "code",
   "execution_count": null,
   "metadata": {
    "kernel": "Bash"
   },
   "outputs": [],
   "source": [
    "awk '{if ($2 ~ /D/) {print $1, $4, $4 + (length ($6) - length ($5)), $6, $5, $3 } else {print $1, $4, $4, $6, $5,$3 }}'  /home/dc2325/output/cache/test_del_ins_awk.txt"
   ]
  },
  {
   "cell_type": "code",
   "execution_count": null,
   "metadata": {
    "kernel": "Bash"
   },
   "outputs": [],
   "source": [
    "awk '{if ($2 ~ /D/) {print $1, $4, $4 + (length ($6) - length ($5)), $6, $5, $3 } else {print $1, $4, $4, $6, $5,$3 }}'  /home/dc2325/scratch60/output/ukb23155_chr1_chr3.bim"
   ]
  },
  {
   "cell_type": "code",
   "execution_count": null,
   "metadata": {
    "kernel": "Bash"
   },
   "outputs": [],
   "source": [
    "cat /home/dc2325/output/cache/test_del_ins_awk.txt"
   ]
  },
  {
   "cell_type": "code",
   "execution_count": null,
   "metadata": {
    "kernel": "R"
   },
   "outputs": [],
   "source": [
    "avail_samples = read.table('/gpfs/gibbs/pi/dewan/data/UKBiobank/genotype_files/ukb28374_exomedata/exome_data_OCT2020/ukb23155_c10_b0_v1.fam', header=F)"
   ]
  },
  {
   "cell_type": "code",
   "execution_count": null,
   "metadata": {
    "kernel": "R"
   },
   "outputs": [],
   "source": [
    "head(avail_samples)"
   ]
  },
  {
   "cell_type": "code",
   "execution_count": null,
   "metadata": {
    "kernel": "R"
   },
   "outputs": [],
   "source": [
    "avail_samples = read.table('/gpfs/gibbs/pi/dewan/data/UKBiobank/genotype_files/ukb39554_imputeddataset/ukb32285_imputedindiv.sample', header=T)"
   ]
  },
  {
   "cell_type": "code",
   "execution_count": null,
   "metadata": {
    "kernel": "R"
   },
   "outputs": [],
   "source": [
    "head(avail_samples)"
   ]
  },
  {
   "cell_type": "code",
   "execution_count": null,
   "metadata": {
    "kernel": "R"
   },
   "outputs": [],
   "source": [
    "all_unrelated = read.table('/gpfs/gibbs/pi/dewan/data/UKBiobank/genotype_files/pleiotropy_geneticfiles/unrelated_n307259/UKB_unrelatedcauc_phenotypes_asthmat2dbmiwaisthip_agesex_waisthipratio_040620', header=T)"
   ]
  },
  {
   "cell_type": "code",
   "execution_count": null,
   "metadata": {
    "kernel": "R"
   },
   "outputs": [],
   "source": [
    "head(all_unrelated)"
   ]
  },
  {
   "cell_type": "code",
   "execution_count": null,
   "metadata": {
    "kernel": "R"
   },
   "outputs": [],
   "source": [
    "library(dplyr)\n",
    "unrelated_samples = which(avail_samples[,1] %in% all_unrelated$IID)"
   ]
  },
  {
   "cell_type": "code",
   "execution_count": null,
   "metadata": {
    "kernel": "R"
   },
   "outputs": [],
   "source": [
    "dat = avail_samples[unrelated_samples,]\n",
    "if (100 < nrow(dat)) {\n",
    "      dat = dat[sample(1:nrow(dat), 100), 1, drop=F]\n",
    "    } else {\n",
    "      dat = dat[, 1, drop=F]\n",
    "    }"
   ]
  },
  {
   "cell_type": "code",
   "execution_count": null,
   "metadata": {
    "kernel": "R"
   },
   "outputs": [],
   "source": [
    "head(dat)"
   ]
  },
  {
   "cell_type": "code",
   "execution_count": null,
   "metadata": {
    "kernel": "R"
   },
   "outputs": [],
   "source": [
    "annovar_out = read.csv('/home/dc2325/output/annovar/genotypes_1_2.hg38_multianno.csv', header=T)"
   ]
  },
  {
   "cell_type": "code",
   "execution_count": null,
   "metadata": {
    "kernel": "R"
   },
   "outputs": [],
   "source": [
    "head(annovar_out[1:144])"
   ]
  },
  {
   "cell_type": "code",
   "execution_count": null,
   "metadata": {
    "kernel": "R"
   },
   "outputs": [],
   "source": [
    "awk '{if ($2 ~ /D/) {print $1, $4, $4 + (length ($6) - length ($5)), $6, $5, $2} else {print $1, $4, $4, $6, $5, $2}}' "
   ]
  },
  {
   "cell_type": "code",
   "execution_count": null,
   "metadata": {
    "kernel": "SoS",
    "tags": []
   },
   "outputs": [],
   "source": [
    "name = 'ukb23156_c1_b57_v1.vcf.gz'\n",
    "blocks = [int(s) for s in name.split('_') if s.isdigit()]"
   ]
  },
  {
   "cell_type": "code",
   "execution_count": null,
   "metadata": {
    "kernel": "Python3"
   },
   "outputs": [],
   "source": [
    "blocks"
   ]
  },
  {
   "cell_type": "code",
   "execution_count": null,
   "metadata": {
    "kernel": "Python3"
   },
   "outputs": [],
   "source": [
    "s.split('_')"
   ]
  },
  {
   "cell_type": "code",
   "execution_count": null,
   "metadata": {
    "kernel": "Python3"
   },
   "outputs": [],
   "source": [
    "int(list(filter(str.isdigit, name))[4])"
   ]
  },
  {
   "cell_type": "code",
   "execution_count": null,
   "metadata": {
    "kernel": "Python3",
    "tags": []
   },
   "outputs": [],
   "source": [
    "s = 'ukb23156_c1_b57_v1.vcf.gz,ukb23156_c1_b58_v1.vcf.gz'\n",
    "nums = list(map(int, ''.join([x if x.isdigit() else ' ' for x in s]).split()))\n",
    "nums"
   ]
  },
  {
   "cell_type": "code",
   "execution_count": null,
   "metadata": {
    "kernel": "Python3"
   },
   "outputs": [],
   "source": [
    "from itertools import groupby\n",
    "test_list = ['ukb23156_c1_b57_v1.vcf.gz','ukb23156_c1_b56_v1.vcf.gz', 'ukb23156_c22_b56_v1.vcf.gz']\n",
    "test_list.sort()\n",
    "res = [list(i) for j, i in groupby(test_list,\n",
    "                  lambda a: a.split('_')[1])]"
   ]
  },
  {
   "cell_type": "code",
   "execution_count": null,
   "metadata": {
    "kernel": "Python3"
   },
   "outputs": [],
   "source": [
    "res"
   ]
  },
  {
   "cell_type": "code",
   "execution_count": null,
   "metadata": {
    "kernel": "Python3"
   },
   "outputs": [],
   "source": [
    "test_list[0].rsplit(\"_\")[0]"
   ]
  },
  {
   "cell_type": "code",
   "execution_count": null,
   "metadata": {
    "kernel": "SoS",
    "tags": []
   },
   "outputs": [],
   "source": [
    "# importing the itertools module\n",
    "import itertools\n",
    "# initializing the strings\n",
    "strings = ['tutorials-python', 'tutorials-c', 'tutorials-java', 'tutorials-javascript', 'python-1', 'python-2', 'javascript-1']\n",
    "# empty list\n",
    "result = []\n",
    "# iterator\n",
    "# lambda function will return first part from the string\n",
    "iterator = itertools.groupby(strings, lambda string: string.split('-')[0])\n",
    "# iterating over the result\n",
    "# element and its group\n",
    "for element, group in iterator:\n",
    "   # appending the group by converting it into a list\n",
    "   result.append(list(group))\n",
    "# printing the result\n",
    "print(result)"
   ]
  },
  {
   "cell_type": "code",
   "execution_count": null,
   "metadata": {
    "kernel": "SoS"
   },
   "outputs": [],
   "source": [
    "my_list = ['ukb23156_c1_b57_v1.vcf.gz','ukb23156_c1_b56_v1.vcf.gz', 'ukb23156_c22_b56_v1.vcf.gz']\n",
    "result = []\n",
    "iterator = itertools.groupby(my_list, lambda my_list: my_list.split('_')[0])\n",
    "for element, group in iterator:\n",
    "   # appending the group by converting it into a list\n",
    "   result.append(list(group))\n",
    "# printing the result\n",
    "print(result)"
   ]
  },
  {
   "cell_type": "code",
   "execution_count": null,
   "metadata": {
    "kernel": "SoS"
   },
   "outputs": [],
   "source": [
    "[my_list.split('_')[1]]"
   ]
  },
  {
   "cell_type": "code",
   "execution_count": null,
   "metadata": {
    "kernel": "SoS"
   },
   "outputs": [],
   "source": [
    "from itertools import groupby\n",
    "list1 = ['ukb23156_c1_b57_v1.vcf.gz','ukb23156_c1_b56_v1.vcf.gz', 'ukb23156_c22_b56_v1.vcf.gz',  'ukb23156_c22_b57_v1.vcf.gz', 'ukb23156_c2_b1_v1.vcf.gz']\n",
    "list1.sort()\n",
    "[list(g) for k, g in groupby(list1, key=lambda x: x[10:13])]"
   ]
  },
  {
   "cell_type": "code",
   "execution_count": null,
   "metadata": {
    "kernel": "SoS"
   },
   "outputs": [],
   "source": [
    "input=['ukb23156_c1_b57_v1.vcf.gz','ukb23156_c1_b56_v1.vcf.gz', 'ukb23156_c22_b56_v1.vcf.gz',  'ukb23156_c22_b57_v1.vcf.gz', 'ukb23156_c2_b1_v1.vcf.gz']"
   ]
  },
  {
   "cell_type": "code",
   "execution_count": null,
   "metadata": {
    "kernel": "SoS"
   },
   "outputs": [],
   "source": [
    "lambda x: [list(g) for g in groupby(_input, key=lambda x: x[10:13])]"
   ]
  },
  {
   "cell_type": "code",
   "execution_count": null,
   "metadata": {
    "kernel": "SoS"
   },
   "outputs": [],
   "source": []
  },
  {
   "cell_type": "code",
   "execution_count": null,
   "metadata": {
    "kernel": "Bash",
    "tags": []
   },
   "outputs": [],
   "source": [
    "touch ukb23156_c1_b57_v1.vcf.gz ukb23156_c1_b56_v1.vcf.gz ukb23156_c22_b56_v1.vcf.gz ukb23156_c22_b57_v1.vcf.gz ukb23156_c2_b1_v1.vcf.gz"
   ]
  },
  {
   "cell_type": "code",
   "execution_count": null,
   "metadata": {
    "kernel": "SoS"
   },
   "outputs": [],
   "source": [
    "list1=['ukb23156_c1_b57_v1.vcf.gz','ukb23156_c1_b56_v1.vcf.gz', 'ukb23156_c22_b56_v1.vcf.gz',  'ukb23156_c22_b57_v1.vcf.gz', 'ukb23156_c2_b1_v1.vcf.gz']\n",
    "input: list, group_by=1"
   ]
  },
  {
   "cell_type": "code",
   "execution_count": null,
   "metadata": {
    "kernel": "SoS"
   },
   "outputs": [],
   "source": [
    "!touch a.txt b.txt c.txt d.txt"
   ]
  },
  {
   "cell_type": "code",
   "execution_count": null,
   "metadata": {
    "kernel": "SoS"
   },
   "outputs": [],
   "source": [
    "input: 'ukb23156_c1_b57_v1.vcf.gz','ukb23156_c1_b56_v1.vcf.gz', 'ukb23156_c22_b56_v1.vcf.gz',  'ukb23156_c22_b57_v1.vcf.gz', group_by = lambda x:[x.split('_', 3)[1] for x in _input]\n",
    "print(f'Input of substep is {_input}')"
   ]
  },
  {
   "cell_type": "code",
   "execution_count": null,
   "metadata": {
    "kernel": "SoS"
   },
   "outputs": [],
   "source": [
    "lambda x: x.split(' ')[0] + ' ' + x.split(' ')[1])"
   ]
  },
  {
   "cell_type": "code",
   "execution_count": null,
   "metadata": {
    "kernel": "SoS"
   },
   "outputs": [],
   "source": [
    "'ukb23156_c22_b57_v1.vcf.gz'.split('_', 3)[1]"
   ]
  },
  {
   "cell_type": "code",
   "execution_count": null,
   "metadata": {
    "kernel": "SoS"
   },
   "outputs": [],
   "source": [
    "from itertools import groupby\n",
    "list1=['ukb23156_c1_b57_v1.vcf.gz','ukb23156_c1_b56_v1.vcf.gz', 'ukb23156_c22_b56_v1.vcf.gz',  'ukb23156_c22_b57_v1.vcf.gz', 'ukb23156_c2_b1_v1.vcf.gz'] \n",
    "list1.sort()\n",
    "keyf= lambda x:[x.split('_', 3)[1] for x in list1]\n",
    "res = [list(items) for gr, items in groupby(list1, key=keyf)]"
   ]
  },
  {
   "cell_type": "code",
   "execution_count": null,
   "metadata": {
    "kernel": "SoS"
   },
   "outputs": [],
   "source": [
    "from itertools import groupby\n",
    "list1=['ukb23156_c1_b57_v1.vcf.gz','ukb23156_c1_b56_v1.vcf.gz', 'ukb23156_c22_b56_v1.vcf.gz',  'ukb23156_c22_b57_v1.vcf.gz', 'ukb23156_c2_b1_v1.vcf.gz'] \n",
    "list1.sort()\n",
    "[list(g) for _, g in itertools.groupby(list1, lambda x: x.partition('_')[0])]"
   ]
  },
  {
   "cell_type": "code",
   "execution_count": null,
   "metadata": {
    "kernel": "Bash",
    "tags": []
   },
   "outputs": [],
   "source": [
    "cd /mnt/mfs/statgen/UKBiobank/data/exome_files/project_VCF/plink_files/"
   ]
  },
  {
   "cell_type": "code",
   "execution_count": null,
   "metadata": {
    "kernel": "SoS"
   },
   "outputs": [],
   "source": [
    "from glob import glob\n",
    "glob(\"/mnt/mfs/statgen/UKBiobank/data/exome_files/project_VCF/plink_files/cache/*.filtered2.vcf.gz\")"
   ]
  },
  {
   "cell_type": "code",
   "execution_count": null,
   "metadata": {
    "kernel": "SoS"
   },
   "outputs": [],
   "source": [
    "%run\n",
    "[global]\n",
    "vcfs=/mnt/mfs/statgen/UKBiobank/data/exome_files/project_VCF/ukb23156_c22_b*.vcf.gz\n",
    "[qc_1]\n",
    "input: glob({vcfs:d}\"/cache/*.filtered2.vcf.gz\")\n",
    "print(f'Input of substep is {_input}')"
   ]
  },
  {
   "cell_type": "code",
   "execution_count": null,
   "metadata": {
    "kernel": "SoS"
   },
   "outputs": [],
   "source": [
    "import itertools as itertools\n",
    "from itertools import groupby\n",
    "vcfs=['/mnt/mfs/statgen/UKBiobank/data/exome_files/project_VCF/plink_files/ukb23156_c1_b57_v1.vcf.gz',\n",
    "      '/mnt/mfs/statgen/UKBiobank/data/exome_files/project_VCF/plink_files/ukb23156_c1_b56_v1.vcf.gz', \n",
    "      '/mnt/mfs/statgen/UKBiobank/data/exome_files/project_VCF/plink_files/ukb23156_c22_b56_v1.vcf.gz',  \n",
    "      '/mnt/mfs/statgen/UKBiobank/data/exome_files/project_VCF/plink_files/ukb23156_c22_b57_v1.vcf.gz', \n",
    "      '/mnt/mfs/statgen/UKBiobank/data/exome_files/project_VCF/plink_files/ukb23156_c2_b1_v1.vcf.gz']\n",
    "temp=sorted(vcfs, key = lambda x: ([int(y[1:]) for y in str(x).split('_')[4:6]]))"
   ]
  },
  {
   "cell_type": "code",
   "execution_count": null,
   "metadata": {
    "kernel": "SoS"
   },
   "outputs": [],
   "source": [
    "[list(ele) for i, ele in groupby(temp, lambda x: str(x).split('_')[4])]"
   ]
  },
  {
   "cell_type": "code",
   "execution_count": null,
   "metadata": {
    "kernel": "SoS"
   },
   "outputs": [],
   "source": [
    "from glob import glob\n",
    "vcfs= glob(f\"/mnt/mfs/statgen/UKBiobank/data/exome_files/project_VCF/plink_files/cache/ukb23156_c+([[0-9]])_b[0-9]+_v1.leftnorm.filtered.vcf.gz\")"
   ]
  },
  {
   "cell_type": "code",
   "execution_count": null,
   "metadata": {
    "kernel": "SoS",
    "scrolled": true,
    "tags": []
   },
   "outputs": [],
   "source": [
    "vcfs"
   ]
  },
  {
   "cell_type": "code",
   "execution_count": null,
   "metadata": {
    "kernel": "SoS"
   },
   "outputs": [],
   "source": [
    "def group_chrom(vcfs):\n",
    "  from itertools import groupby\n",
    "  # First, order by chr and blk\n",
    "  temp = sorted(vcfs, key = lambda x: ([int(y[1:]) for y in str(x).split('_')[4:6]]))\n",
    "  # Then group by chrom\n",
    "  return [list(ele) for i, ele in groupby(temp, lambda x: str(x).split('_')[4])]"
   ]
  },
  {
   "cell_type": "code",
   "execution_count": null,
   "metadata": {
    "kernel": "SoS"
   },
   "outputs": [],
   "source": [
    "group_chrom(vcfs)"
   ]
  },
  {
   "cell_type": "code",
   "execution_count": null,
   "metadata": {
    "kernel": "SoS"
   },
   "outputs": [],
   "source": [
    "len(group_chrom(vcfs))"
   ]
  },
  {
   "cell_type": "code",
   "execution_count": null,
   "metadata": {
    "kernel": "SoS",
    "scrolled": true,
    "tags": []
   },
   "outputs": [],
   "source": [
    "str(group_chrom(vcfs))"
   ]
  },
  {
   "cell_type": "code",
   "execution_count": null,
   "metadata": {
    "kernel": "SoS"
   },
   "outputs": [],
   "source": [
    "##Getting only the base name does not work \n",
    "def group_chrom(vcfs):\n",
    "  from itertools import groupby\n",
    "  # First, order by chr and blk\n",
    "  temp = sorted(vcfs, key = lambda x: ([int(y[1:]) for y in f'{x:b}'.split('_')[1:3]]))\n",
    "  # Then group by chrom\n",
    "  return [list(ele) for i, ele in groupby(temp, lambda x: f'{x:b}'.split('_',3)[1])]"
   ]
  },
  {
   "cell_type": "markdown",
   "metadata": {
    "kernel": "SoS"
   },
   "source": [
    "### Creating the anno_file for burden testing"
   ]
  },
  {
   "cell_type": "code",
   "execution_count": 2,
   "metadata": {
    "kernel": "SoS",
    "tags": []
   },
   "outputs": [],
   "source": [
    "import pandas as pd\n",
    "import numpy as np\n",
    "import os, psutil\n",
    "#process = psutil.Process(os.getpid())\n",
    "#anno = pd.read_csv('/gpfs/gibbs/pi/dewan/data/UKBiobank/results/annovar_exome/ukb23155_chr1_chr22_exomedata.hg38.hg38_multianno.csv', header=0)\n",
    "#print(process.memory_info().rss)\n",
    "##Full dataset\n",
    "#anno = pd.read_csv('/mnt/mfs/statgen/UKBiobank/results/annovar_exome/ukb32285_exomespb_chr1_22.hg38.hg38_multianno.csv', header=0)\n",
    "##Subset of the dataset\n",
    "anno = pd.read_csv('/mnt/mfs/statgen/UKBiobank/results/annovar_exome/ukb32285_exomespb_chr1_22.hg38.hg38_multianno_python.txt', sep=' ', header=0)"
   ]
  },
  {
   "cell_type": "code",
   "execution_count": 3,
   "metadata": {
    "kernel": "SoS"
   },
   "outputs": [
    {
     "data": {
      "text/html": [
       "<div>\n",
       "<style scoped>\n",
       "    .dataframe tbody tr th:only-of-type {\n",
       "        vertical-align: middle;\n",
       "    }\n",
       "\n",
       "    .dataframe tbody tr th {\n",
       "        vertical-align: top;\n",
       "    }\n",
       "\n",
       "    .dataframe thead th {\n",
       "        text-align: right;\n",
       "    }\n",
       "</style>\n",
       "<table border=\"1\" class=\"dataframe\">\n",
       "  <thead>\n",
       "    <tr style=\"text-align: right;\">\n",
       "      <th></th>\n",
       "      <th>Chr</th>\n",
       "      <th>Start</th>\n",
       "      <th>Ref</th>\n",
       "      <th>Alt</th>\n",
       "      <th>Gene.refGene</th>\n",
       "      <th>ExonicFunc.refGene</th>\n",
       "    </tr>\n",
       "  </thead>\n",
       "  <tbody>\n",
       "    <tr>\n",
       "      <th>0</th>\n",
       "      <td>1</td>\n",
       "      <td>69134</td>\n",
       "      <td>A</td>\n",
       "      <td>G</td>\n",
       "      <td>OR4F5</td>\n",
       "      <td>nonsynonymous SNV</td>\n",
       "    </tr>\n",
       "    <tr>\n",
       "      <th>1</th>\n",
       "      <td>1</td>\n",
       "      <td>69149</td>\n",
       "      <td>T</td>\n",
       "      <td>A</td>\n",
       "      <td>OR4F5</td>\n",
       "      <td>nonsynonymous SNV</td>\n",
       "    </tr>\n",
       "    <tr>\n",
       "      <th>2</th>\n",
       "      <td>1</td>\n",
       "      <td>69195</td>\n",
       "      <td>CCTT</td>\n",
       "      <td>C</td>\n",
       "      <td>OR4F5</td>\n",
       "      <td>nonframeshift substitution</td>\n",
       "    </tr>\n",
       "    <tr>\n",
       "      <th>3</th>\n",
       "      <td>1</td>\n",
       "      <td>69224</td>\n",
       "      <td>A</td>\n",
       "      <td>T</td>\n",
       "      <td>OR4F5</td>\n",
       "      <td>nonsynonymous SNV</td>\n",
       "    </tr>\n",
       "    <tr>\n",
       "      <th>4</th>\n",
       "      <td>1</td>\n",
       "      <td>69232</td>\n",
       "      <td>C</td>\n",
       "      <td>A</td>\n",
       "      <td>OR4F5</td>\n",
       "      <td>nonsynonymous SNV</td>\n",
       "    </tr>\n",
       "  </tbody>\n",
       "</table>\n",
       "</div>"
      ],
      "text/plain": [
       "   Chr  Start   Ref Alt Gene.refGene          ExonicFunc.refGene\n",
       "0    1  69134     A   G        OR4F5           nonsynonymous SNV\n",
       "1    1  69149     T   A        OR4F5           nonsynonymous SNV\n",
       "2    1  69195  CCTT   C        OR4F5  nonframeshift substitution\n",
       "3    1  69224     A   T        OR4F5           nonsynonymous SNV\n",
       "4    1  69232     C   A        OR4F5           nonsynonymous SNV"
      ]
     },
     "execution_count": 3,
     "metadata": {},
     "output_type": "execute_result"
    }
   ],
   "source": [
    "anno.head()"
   ]
  },
  {
   "cell_type": "markdown",
   "metadata": {
    "kernel": "SoS"
   },
   "source": [
    "## Subset dataframe using pandas"
   ]
  },
  {
   "cell_type": "code",
   "execution_count": null,
   "metadata": {
    "kernel": "SoS"
   },
   "outputs": [],
   "source": [
    "#anno1 = anno[[\"Chr\", \"Start\", \"Ref\", \"Alt\", \"Gene.refGene\", \"ExonicFunc.refGene\"]]"
   ]
  },
  {
   "cell_type": "code",
   "execution_count": null,
   "metadata": {
    "kernel": "SoS"
   },
   "outputs": [],
   "source": [
    "#anno1.head()"
   ]
  },
  {
   "cell_type": "code",
   "execution_count": null,
   "metadata": {
    "kernel": "SoS"
   },
   "outputs": [],
   "source": [
    "#anno.dtypes"
   ]
  },
  {
   "cell_type": "code",
   "execution_count": 4,
   "metadata": {
    "kernel": "SoS"
   },
   "outputs": [],
   "source": [
    "anno[\"Chr\"] = anno['Chr'].astype('str')\n",
    "anno[\"Start\"] = anno['Start'].astype('str')\n",
    "anno[\"Ref\"] = anno['Ref'].astype('str')\n",
    "anno[\"Alt\"] = anno['Alt'].astype('str')\n",
    "anno[\"Gene.refGene\"] = anno['Gene.refGene'].astype('str')\n",
    "anno[\"ExonicFunc.refGene\"] = anno['ExonicFunc.refGene'].astype('str')"
   ]
  },
  {
   "cell_type": "code",
   "execution_count": 5,
   "metadata": {
    "kernel": "SoS"
   },
   "outputs": [],
   "source": [
    "df = anno[\"Gene.refGene\"].str.split(\";\", n = 1, expand = True)\n",
    "anno[\"Gene\"]= df[0]"
   ]
  },
  {
   "cell_type": "code",
   "execution_count": 6,
   "metadata": {
    "kernel": "SoS"
   },
   "outputs": [
    {
     "data": {
      "text/html": [
       "<div>\n",
       "<style scoped>\n",
       "    .dataframe tbody tr th:only-of-type {\n",
       "        vertical-align: middle;\n",
       "    }\n",
       "\n",
       "    .dataframe tbody tr th {\n",
       "        vertical-align: top;\n",
       "    }\n",
       "\n",
       "    .dataframe thead th {\n",
       "        text-align: right;\n",
       "    }\n",
       "</style>\n",
       "<table border=\"1\" class=\"dataframe\">\n",
       "  <thead>\n",
       "    <tr style=\"text-align: right;\">\n",
       "      <th></th>\n",
       "      <th>Chr</th>\n",
       "      <th>Start</th>\n",
       "      <th>Ref</th>\n",
       "      <th>Alt</th>\n",
       "      <th>Gene.refGene</th>\n",
       "      <th>ExonicFunc.refGene</th>\n",
       "      <th>Gene</th>\n",
       "    </tr>\n",
       "  </thead>\n",
       "  <tbody>\n",
       "    <tr>\n",
       "      <th>0</th>\n",
       "      <td>1</td>\n",
       "      <td>69134</td>\n",
       "      <td>A</td>\n",
       "      <td>G</td>\n",
       "      <td>OR4F5</td>\n",
       "      <td>nonsynonymous SNV</td>\n",
       "      <td>OR4F5</td>\n",
       "    </tr>\n",
       "    <tr>\n",
       "      <th>1</th>\n",
       "      <td>1</td>\n",
       "      <td>69149</td>\n",
       "      <td>T</td>\n",
       "      <td>A</td>\n",
       "      <td>OR4F5</td>\n",
       "      <td>nonsynonymous SNV</td>\n",
       "      <td>OR4F5</td>\n",
       "    </tr>\n",
       "    <tr>\n",
       "      <th>2</th>\n",
       "      <td>1</td>\n",
       "      <td>69195</td>\n",
       "      <td>CCTT</td>\n",
       "      <td>C</td>\n",
       "      <td>OR4F5</td>\n",
       "      <td>nonframeshift substitution</td>\n",
       "      <td>OR4F5</td>\n",
       "    </tr>\n",
       "    <tr>\n",
       "      <th>3</th>\n",
       "      <td>1</td>\n",
       "      <td>69224</td>\n",
       "      <td>A</td>\n",
       "      <td>T</td>\n",
       "      <td>OR4F5</td>\n",
       "      <td>nonsynonymous SNV</td>\n",
       "      <td>OR4F5</td>\n",
       "    </tr>\n",
       "    <tr>\n",
       "      <th>4</th>\n",
       "      <td>1</td>\n",
       "      <td>69232</td>\n",
       "      <td>C</td>\n",
       "      <td>A</td>\n",
       "      <td>OR4F5</td>\n",
       "      <td>nonsynonymous SNV</td>\n",
       "      <td>OR4F5</td>\n",
       "    </tr>\n",
       "  </tbody>\n",
       "</table>\n",
       "</div>"
      ],
      "text/plain": [
       "  Chr  Start   Ref Alt Gene.refGene          ExonicFunc.refGene   Gene\n",
       "0   1  69134     A   G        OR4F5           nonsynonymous SNV  OR4F5\n",
       "1   1  69149     T   A        OR4F5           nonsynonymous SNV  OR4F5\n",
       "2   1  69195  CCTT   C        OR4F5  nonframeshift substitution  OR4F5\n",
       "3   1  69224     A   T        OR4F5           nonsynonymous SNV  OR4F5\n",
       "4   1  69232     C   A        OR4F5           nonsynonymous SNV  OR4F5"
      ]
     },
     "execution_count": 6,
     "metadata": {},
     "output_type": "execute_result"
    }
   ],
   "source": [
    "anno.head()"
   ]
  },
  {
   "cell_type": "code",
   "execution_count": 7,
   "metadata": {
    "kernel": "SoS"
   },
   "outputs": [],
   "source": [
    "annotation_mappings = {\"nonsynonymous\":'missense', \"frameshift\":'LoF', \"stopgain\":'LoF', \"stoploss\":'LoF', \"synonymous\":'synonymous'}\n",
    "def annotation(x):\n",
    "    x = x.strip().split()\n",
    "    for i in x:\n",
    "        if i in annotation_mappings.keys():\n",
    "            return annotation_mappings[i]\n",
    "    return 'other'\n",
    "anno[\"anno_cat\"] = anno[\"ExonicFunc.refGene\"].apply(annotation)\n",
    "import csv\n",
    "with open('/home/dmc2245/annotation.txt', 'w') as output:\n",
    "    for row in anno[[\"Chr\", \"Start\", \"Ref\", \"Alt\", \"Gene\", \"anno_cat\"]].to_numpy():\n",
    "        output.write(f'{row[0]}:{row[1]}:{row[2]}:{row[3]} {row[4]} {row[5]}\\n')"
   ]
  },
  {
   "cell_type": "code",
   "execution_count": null,
   "metadata": {
    "kernel": "SoS"
   },
   "outputs": [],
   "source": [
    "anno.head(150)"
   ]
  },
  {
   "cell_type": "code",
   "execution_count": 14,
   "metadata": {
    "kernel": "SoS"
   },
   "outputs": [],
   "source": [
    "anno_file = pd.read_csv('/home/dmc2245/annotation.txt', sep=' ', header=None, names=[\"varid\", \"gene\", \"anno_cat\"])"
   ]
  },
  {
   "cell_type": "code",
   "execution_count": 15,
   "metadata": {
    "kernel": "SoS"
   },
   "outputs": [
    {
     "data": {
      "text/html": [
       "<div>\n",
       "<style scoped>\n",
       "    .dataframe tbody tr th:only-of-type {\n",
       "        vertical-align: middle;\n",
       "    }\n",
       "\n",
       "    .dataframe tbody tr th {\n",
       "        vertical-align: top;\n",
       "    }\n",
       "\n",
       "    .dataframe thead th {\n",
       "        text-align: right;\n",
       "    }\n",
       "</style>\n",
       "<table border=\"1\" class=\"dataframe\">\n",
       "  <thead>\n",
       "    <tr style=\"text-align: right;\">\n",
       "      <th></th>\n",
       "      <th>varid</th>\n",
       "      <th>Gene</th>\n",
       "      <th>anno_cat</th>\n",
       "    </tr>\n",
       "  </thead>\n",
       "  <tbody>\n",
       "    <tr>\n",
       "      <th>0</th>\n",
       "      <td>1:69134:A:G</td>\n",
       "      <td>OR4F5</td>\n",
       "      <td>missense</td>\n",
       "    </tr>\n",
       "    <tr>\n",
       "      <th>1</th>\n",
       "      <td>1:69149:T:A</td>\n",
       "      <td>OR4F5</td>\n",
       "      <td>missense</td>\n",
       "    </tr>\n",
       "    <tr>\n",
       "      <th>2</th>\n",
       "      <td>1:69195:CCTT:C</td>\n",
       "      <td>OR4F5</td>\n",
       "      <td>other</td>\n",
       "    </tr>\n",
       "    <tr>\n",
       "      <th>3</th>\n",
       "      <td>1:69224:A:T</td>\n",
       "      <td>OR4F5</td>\n",
       "      <td>missense</td>\n",
       "    </tr>\n",
       "    <tr>\n",
       "      <th>4</th>\n",
       "      <td>1:69232:C:A</td>\n",
       "      <td>OR4F5</td>\n",
       "      <td>missense</td>\n",
       "    </tr>\n",
       "    <tr>\n",
       "      <th>...</th>\n",
       "      <td>...</td>\n",
       "      <td>...</td>\n",
       "      <td>...</td>\n",
       "    </tr>\n",
       "    <tr>\n",
       "      <th>95</th>\n",
       "      <td>1:69920:C:A</td>\n",
       "      <td>OR4F5</td>\n",
       "      <td>missense</td>\n",
       "    </tr>\n",
       "    <tr>\n",
       "      <th>96</th>\n",
       "      <td>1:69942:C:G</td>\n",
       "      <td>OR4F5</td>\n",
       "      <td>missense</td>\n",
       "    </tr>\n",
       "    <tr>\n",
       "      <th>97</th>\n",
       "      <td>1:69962:T:A</td>\n",
       "      <td>OR4F5</td>\n",
       "      <td>missense</td>\n",
       "    </tr>\n",
       "    <tr>\n",
       "      <th>98</th>\n",
       "      <td>1:69968:A:G</td>\n",
       "      <td>OR4F5</td>\n",
       "      <td>missense</td>\n",
       "    </tr>\n",
       "    <tr>\n",
       "      <th>99</th>\n",
       "      <td>1:69995:G:C</td>\n",
       "      <td>OR4F5</td>\n",
       "      <td>missense</td>\n",
       "    </tr>\n",
       "  </tbody>\n",
       "</table>\n",
       "<p>100 rows × 3 columns</p>\n",
       "</div>"
      ],
      "text/plain": [
       "             varid   Gene  anno_cat\n",
       "0      1:69134:A:G  OR4F5  missense\n",
       "1      1:69149:T:A  OR4F5  missense\n",
       "2   1:69195:CCTT:C  OR4F5     other\n",
       "3      1:69224:A:T  OR4F5  missense\n",
       "4      1:69232:C:A  OR4F5  missense\n",
       "..             ...    ...       ...\n",
       "95     1:69920:C:A  OR4F5  missense\n",
       "96     1:69942:C:G  OR4F5  missense\n",
       "97     1:69962:T:A  OR4F5  missense\n",
       "98     1:69968:A:G  OR4F5  missense\n",
       "99     1:69995:G:C  OR4F5  missense\n",
       "\n",
       "[100 rows x 3 columns]"
      ]
     },
     "execution_count": 15,
     "metadata": {},
     "output_type": "execute_result"
    }
   ],
   "source": [
    "anno_file.head(100)"
   ]
  },
  {
   "cell_type": "markdown",
   "metadata": {
    "kernel": "SoS"
   },
   "source": [
    "## Creating the set-list file for burden testing"
   ]
  },
  {
   "cell_type": "code",
   "execution_count": 18,
   "metadata": {
    "kernel": "SoS"
   },
   "outputs": [],
   "source": [
    "df = anno_file[\"varid\"].str.split(\":\", n = 3, expand = True)"
   ]
  },
  {
   "cell_type": "code",
   "execution_count": 19,
   "metadata": {
    "kernel": "SoS"
   },
   "outputs": [
    {
     "data": {
      "text/html": [
       "<div>\n",
       "<style scoped>\n",
       "    .dataframe tbody tr th:only-of-type {\n",
       "        vertical-align: middle;\n",
       "    }\n",
       "\n",
       "    .dataframe tbody tr th {\n",
       "        vertical-align: top;\n",
       "    }\n",
       "\n",
       "    .dataframe thead th {\n",
       "        text-align: right;\n",
       "    }\n",
       "</style>\n",
       "<table border=\"1\" class=\"dataframe\">\n",
       "  <thead>\n",
       "    <tr style=\"text-align: right;\">\n",
       "      <th></th>\n",
       "      <th>0</th>\n",
       "      <th>1</th>\n",
       "      <th>2</th>\n",
       "      <th>3</th>\n",
       "    </tr>\n",
       "  </thead>\n",
       "  <tbody>\n",
       "    <tr>\n",
       "      <th>0</th>\n",
       "      <td>1</td>\n",
       "      <td>69134</td>\n",
       "      <td>A</td>\n",
       "      <td>G</td>\n",
       "    </tr>\n",
       "    <tr>\n",
       "      <th>1</th>\n",
       "      <td>1</td>\n",
       "      <td>69149</td>\n",
       "      <td>T</td>\n",
       "      <td>A</td>\n",
       "    </tr>\n",
       "    <tr>\n",
       "      <th>2</th>\n",
       "      <td>1</td>\n",
       "      <td>69195</td>\n",
       "      <td>CCTT</td>\n",
       "      <td>C</td>\n",
       "    </tr>\n",
       "    <tr>\n",
       "      <th>3</th>\n",
       "      <td>1</td>\n",
       "      <td>69224</td>\n",
       "      <td>A</td>\n",
       "      <td>T</td>\n",
       "    </tr>\n",
       "    <tr>\n",
       "      <th>4</th>\n",
       "      <td>1</td>\n",
       "      <td>69232</td>\n",
       "      <td>C</td>\n",
       "      <td>A</td>\n",
       "    </tr>\n",
       "  </tbody>\n",
       "</table>\n",
       "</div>"
      ],
      "text/plain": [
       "   0      1     2  3\n",
       "0  1  69134     A  G\n",
       "1  1  69149     T  A\n",
       "2  1  69195  CCTT  C\n",
       "3  1  69224     A  T\n",
       "4  1  69232     C  A"
      ]
     },
     "execution_count": 19,
     "metadata": {},
     "output_type": "execute_result"
    }
   ],
   "source": [
    "df.head()"
   ]
  },
  {
   "cell_type": "code",
   "execution_count": 20,
   "metadata": {
    "kernel": "SoS"
   },
   "outputs": [],
   "source": [
    "anno_file[\"chr\"]= df[0]\n",
    "anno_file[\"start\"]= df[1]\n",
    "anno_file[\"ref\"]= df[2]\n",
    "anno_file[\"alt\"]= df[3]"
   ]
  },
  {
   "cell_type": "code",
   "execution_count": 22,
   "metadata": {
    "kernel": "SoS"
   },
   "outputs": [],
   "source": [
    "group = anno_file.groupby('Gene')\n",
    "df2 = group.apply(lambda x: x['start'].min())"
   ]
  },
  {
   "cell_type": "code",
   "execution_count": 25,
   "metadata": {
    "kernel": "SoS"
   },
   "outputs": [
    {
     "data": {
      "text/plain": [
       "Gene\n",
       "A1BG        58346924\n",
       "A1BG-AS1    58352001\n",
       "A1CF        50806636\n",
       "A2M          9068094\n",
       "A2M-AS1      9067739\n",
       "              ...   \n",
       "ABHD2       89116236\n",
       "ABHD3       21651499\n",
       "ABHD4       22598207\n",
       "ABHD5       43690895\n",
       "ABHD6       58256489\n",
       "Length: 100, dtype: object"
      ]
     },
     "execution_count": 25,
     "metadata": {},
     "output_type": "execute_result"
    }
   ],
   "source": [
    "df2.head()"
   ]
  },
  {
   "cell_type": "code",
   "execution_count": null,
   "metadata": {
    "kernel": "SoS"
   },
   "outputs": [],
   "source": [
    "test = anno_file.groupby('Gene', as_index=True).apply(lambda x: x['start'].min())"
   ]
  },
  {
   "cell_type": "code",
   "execution_count": 44,
   "metadata": {
    "kernel": "SoS"
   },
   "outputs": [],
   "source": [
    "test = anno_file.groupby(\n",
    "   ['Gene']\n",
    ").agg(\n",
    "    {\n",
    "         'start':min,    \n",
    "         'chr': min \n",
    "    }\n",
    ")"
   ]
  },
  {
   "cell_type": "code",
   "execution_count": 51,
   "metadata": {
    "kernel": "SoS"
   },
   "outputs": [],
   "source": [
    "test = anno_file.groupby('Gene').agg(\n",
    "    # Get min start position for each group\n",
    "    start=('start', min),\n",
    "    # Get the chromosome for each group\n",
    "    chrom=('chr', min),\n",
    "    # Apply a lambda to join variants column\n",
    "    variants=(\"varid\", lambda x: ','.join(x))    \n",
    ")"
   ]
  },
  {
   "cell_type": "code",
   "execution_count": null,
   "metadata": {
    "kernel": "SoS"
   },
   "outputs": [],
   "source": [
    "test.dtypes()"
   ]
  },
  {
   "cell_type": "code",
   "execution_count": null,
   "metadata": {
    "kernel": "SoS"
   },
   "outputs": [],
   "source": [
    "#Fabiha's code\n",
    "grouped = anno_file.groupby([\"Gene\"])\n",
    "import csv\n",
    "with open('test.txt', 'w') as output:\n",
    "    for key, values in grouped:\n",
    "        s = []\n",
    "        start = values[\"start\"].min()\n",
    "        chrom = values[\"chr\"].min()\n",
    "        def addToS(x, s):\n",
    "            s.append(str(x[\"chr\"]) + \":\" + str(x[\"start\"]) + \":\" + x[\"ref\"] + \":\" + x[\"alt\"])\n",
    "        fxn = lambda x: addToS(x, s)\n",
    "        values.apply(fxn, axis=1)\n",
    "        output.write(key + \" \" + chrom + \" \" + start + \" \" + \",\".join(s) + \"\\n\")"
   ]
  },
  {
   "cell_type": "code",
   "execution_count": null,
   "metadata": {
    "kernel": "SoS"
   },
   "outputs": [],
   "source": [
    "import csv\n",
    "with open('test.txt', 'w') as output:\n",
    "    for key, values in grouped:\n",
    "        s = []\n",
    "        start = values[\"Start\"].min()\n",
    "        chrom = values[\"Chr\"].min()\n",
    "        def addToS(x, s):\n",
    "            s.append(str(x[\"Chr\"]) + \":\" + str(x[\"Start\"]) + \":\" + x[\"Ref\"] + \":\" + x[\"Alt\"])\n",
    "        fxn = lambda x: addToS(x, s)\n",
    "        values.apply(fxn, axis=1)\n",
    "        output.write(key + \" \" + chrom + \" \" + start + \" \" + \", \".join(s) + \"\\n\")"
   ]
  },
  {
   "cell_type": "code",
   "execution_count": 40,
   "metadata": {
    "kernel": "SoS"
   },
   "outputs": [],
   "source": [
    "grouped_multiple = anno_file.groupby(['Gene'], as_index=True)['start'].min()"
   ]
  },
  {
   "cell_type": "code",
   "execution_count": 41,
   "metadata": {
    "kernel": "SoS"
   },
   "outputs": [
    {
     "data": {
      "text/plain": [
       "Gene\n",
       "A1BG        58346924\n",
       "A1BG-AS1    58352001\n",
       "A1CF        50806636\n",
       "A2M          9068094\n",
       "A2M-AS1      9067739\n",
       "Name: start, dtype: object"
      ]
     },
     "execution_count": 41,
     "metadata": {},
     "output_type": "execute_result"
    }
   ],
   "source": [
    "grouped_multiple.head()"
   ]
  },
  {
   "cell_type": "code",
   "execution_count": 52,
   "metadata": {
    "kernel": "SoS"
   },
   "outputs": [
    {
     "data": {
      "text/html": [
       "<div>\n",
       "<style scoped>\n",
       "    .dataframe tbody tr th:only-of-type {\n",
       "        vertical-align: middle;\n",
       "    }\n",
       "\n",
       "    .dataframe tbody tr th {\n",
       "        vertical-align: top;\n",
       "    }\n",
       "\n",
       "    .dataframe thead th {\n",
       "        text-align: right;\n",
       "    }\n",
       "</style>\n",
       "<table border=\"1\" class=\"dataframe\">\n",
       "  <thead>\n",
       "    <tr style=\"text-align: right;\">\n",
       "      <th></th>\n",
       "      <th>start</th>\n",
       "      <th>chrom</th>\n",
       "      <th>variants</th>\n",
       "    </tr>\n",
       "    <tr>\n",
       "      <th>Gene</th>\n",
       "      <th></th>\n",
       "      <th></th>\n",
       "      <th></th>\n",
       "    </tr>\n",
       "  </thead>\n",
       "  <tbody>\n",
       "    <tr>\n",
       "      <th>A1BG</th>\n",
       "      <td>58346924</td>\n",
       "      <td>19</td>\n",
       "      <td>19:58346924:G:A,19:58346926:G:A,19:58346928:C:...</td>\n",
       "    </tr>\n",
       "    <tr>\n",
       "      <th>A1BG-AS1</th>\n",
       "      <td>58352001</td>\n",
       "      <td>19</td>\n",
       "      <td>19:58352001:G:T,19:58352002:G:C,19:58352003:G:...</td>\n",
       "    </tr>\n",
       "    <tr>\n",
       "      <th>A1CF</th>\n",
       "      <td>50806636</td>\n",
       "      <td>10</td>\n",
       "      <td>10:50806636:T:C,10:50806654:C:A,10:50806654:C:...</td>\n",
       "    </tr>\n",
       "    <tr>\n",
       "      <th>A2M</th>\n",
       "      <td>9068094</td>\n",
       "      <td>12</td>\n",
       "      <td>12:9068094:A:C,12:9068101:C:T,12:9068104:A:C,1...</td>\n",
       "    </tr>\n",
       "    <tr>\n",
       "      <th>A2M-AS1</th>\n",
       "      <td>9067739</td>\n",
       "      <td>12</td>\n",
       "      <td>12:9067739:A:T,12:9067746:A:C,12:9067749:G:T,1...</td>\n",
       "    </tr>\n",
       "  </tbody>\n",
       "</table>\n",
       "</div>"
      ],
      "text/plain": [
       "             start chrom                                           variants\n",
       "Gene                                                                       \n",
       "A1BG      58346924    19  19:58346924:G:A,19:58346926:G:A,19:58346928:C:...\n",
       "A1BG-AS1  58352001    19  19:58352001:G:T,19:58352002:G:C,19:58352003:G:...\n",
       "A1CF      50806636    10  10:50806636:T:C,10:50806654:C:A,10:50806654:C:...\n",
       "A2M        9068094    12  12:9068094:A:C,12:9068101:C:T,12:9068104:A:C,1...\n",
       "A2M-AS1    9067739    12  12:9067739:A:T,12:9067746:A:C,12:9067749:G:T,1..."
      ]
     },
     "execution_count": 52,
     "metadata": {},
     "output_type": "execute_result"
    }
   ],
   "source": [
    "test.head()"
   ]
  },
  {
   "cell_type": "markdown",
   "metadata": {
    "kernel": "SoS"
   },
   "source": [
    "## Test covariate and pheno file regenie"
   ]
  },
  {
   "cell_type": "code",
   "execution_count": 1,
   "metadata": {
    "kernel": "SoS"
   },
   "outputs": [],
   "source": [
    "import pandas as pd\n",
    "import numpy as np\n",
    "dat = pd.read_csv('/mnt/mfs/statgen/UKBiobank/data/phenotype_files/hearing_impairment/041521_UKBB_Hearing_aid_f3393_expandedwhite_z974included_ctrl_na_228760ind', header=0, delim_whitespace=True, dtype=str)"
   ]
  },
  {
   "cell_type": "code",
   "execution_count": 2,
   "metadata": {
    "kernel": "SoS"
   },
   "outputs": [
    {
     "data": {
      "text/html": [
       "<div>\n",
       "<style scoped>\n",
       "    .dataframe tbody tr th:only-of-type {\n",
       "        vertical-align: middle;\n",
       "    }\n",
       "\n",
       "    .dataframe tbody tr th {\n",
       "        vertical-align: top;\n",
       "    }\n",
       "\n",
       "    .dataframe thead th {\n",
       "        text-align: right;\n",
       "    }\n",
       "</style>\n",
       "<table border=\"1\" class=\"dataframe\">\n",
       "  <thead>\n",
       "    <tr style=\"text-align: right;\">\n",
       "      <th></th>\n",
       "      <th>FID</th>\n",
       "      <th>IID</th>\n",
       "      <th>sex</th>\n",
       "      <th>f3393_ctrl_na</th>\n",
       "      <th>age_final_aid</th>\n",
       "    </tr>\n",
       "  </thead>\n",
       "  <tbody>\n",
       "    <tr>\n",
       "      <th>0</th>\n",
       "      <td>1000063</td>\n",
       "      <td>1000063</td>\n",
       "      <td>0</td>\n",
       "      <td>0</td>\n",
       "      <td>43</td>\n",
       "    </tr>\n",
       "    <tr>\n",
       "      <th>1</th>\n",
       "      <td>1000078</td>\n",
       "      <td>1000078</td>\n",
       "      <td>1</td>\n",
       "      <td>0</td>\n",
       "      <td>60</td>\n",
       "    </tr>\n",
       "    <tr>\n",
       "      <th>2</th>\n",
       "      <td>1000081</td>\n",
       "      <td>1000081</td>\n",
       "      <td>0</td>\n",
       "      <td>0</td>\n",
       "      <td>67</td>\n",
       "    </tr>\n",
       "    <tr>\n",
       "      <th>3</th>\n",
       "      <td>1000112</td>\n",
       "      <td>1000112</td>\n",
       "      <td>0</td>\n",
       "      <td>1</td>\n",
       "      <td>68</td>\n",
       "    </tr>\n",
       "    <tr>\n",
       "      <th>4</th>\n",
       "      <td>1000129</td>\n",
       "      <td>1000129</td>\n",
       "      <td>0</td>\n",
       "      <td>0</td>\n",
       "      <td>NaN</td>\n",
       "    </tr>\n",
       "  </tbody>\n",
       "</table>\n",
       "</div>"
      ],
      "text/plain": [
       "       FID      IID sex f3393_ctrl_na age_final_aid\n",
       "0  1000063  1000063   0             0            43\n",
       "1  1000078  1000078   1             0            60\n",
       "2  1000081  1000081   0             0            67\n",
       "3  1000112  1000112   0             1            68\n",
       "4  1000129  1000129   0             0           NaN"
      ]
     },
     "execution_count": 2,
     "metadata": {},
     "output_type": "execute_result"
    }
   ],
   "source": [
    "dat.head()"
   ]
  },
  {
   "cell_type": "code",
   "execution_count": null,
   "metadata": {
    "kernel": "SoS"
   },
   "outputs": [],
   "source": [
    "dat = dat.replace(to_replace =np.nan, value =\"NA\")\n",
    "if len(phenoCol) > 0:    \n",
    "    dat.to_csv(f\"{cwd}/{phenoFile:bn}.regenie_phenotype\", sep=' ', index=False, columns = ['FID', 'IID'] + phenoCol)"
   ]
  },
  {
   "cell_type": "markdown",
   "metadata": {
    "kernel": "SoS"
   },
   "source": [
    "## Expand.size function"
   ]
  },
  {
   "cell_type": "code",
   "execution_count": 15,
   "metadata": {
    "kernel": "SoS"
   },
   "outputs": [
    {
     "data": {
      "text/plain": [
       "30000.0"
      ]
     },
     "execution_count": 15,
     "metadata": {},
     "output_type": "execute_result"
    }
   ],
   "source": [
    "from sos.utils import expand_size #bytes to Mb\n",
    "expand_size('30G')*0.9/1e6"
   ]
  },
  {
   "cell_type": "code",
   "execution_count": null,
   "metadata": {
    "kernel": "SoS"
   },
   "outputs": [],
   "source": [
    "${int(expand_size(mem) * 0.9)/10^6}"
   ]
  }
 ],
 "metadata": {
  "kernelspec": {
   "display_name": "SoS",
   "language": "sos",
   "name": "sos"
  },
  "language_info": {
   "codemirror_mode": "sos",
   "file_extension": ".sos",
   "mimetype": "text/x-sos",
   "name": "sos",
   "nbconvert_exporter": "sos_notebook.converter.SoS_Exporter",
   "pygments_lexer": "sos"
  },
  "sos": {
   "kernels": [
    [
     "Bash",
     "calysto_bash",
     "Bash",
     "#E6EEFF",
     ""
    ],
    [
     "Python3",
     "python3",
     "Python3",
     "#FFD91A",
     {
      "name": "ipython",
      "version": 3
     }
    ],
    [
     "R",
     "ir",
     "R",
     "#DCDCDA",
     "r"
    ],
    [
     "SoS",
     "sos",
     "",
     "",
     "sos"
    ]
   ],
   "version": "0.21.21"
  }
 },
 "nbformat": 4,
 "nbformat_minor": 4
}
