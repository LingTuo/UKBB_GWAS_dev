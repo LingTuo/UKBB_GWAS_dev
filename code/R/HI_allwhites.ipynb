{
 "cells": [
  {
   "cell_type": "markdown",
   "metadata": {
    "kernel": "Bash"
   },
   "source": [
    "# Selection of other white participants for association analysis\n",
    "\n",
    "This notebook is intended to show the process of selection of new participans using the database from JUNE2020. \n",
    "\n",
    "First of all, the database needs to be filtered in order to facilitate working with it in jupyter notebooks"
   ]
  },
  {
   "cell_type": "code",
   "execution_count": null,
   "metadata": {
    "kernel": "Bash"
   },
   "outputs": [],
   "source": [
    "# I could not work with the oct2020 database since it does not have many of the variables I need\n",
    "# Also the merged version (including all previous requests) has some problems and only 70K individuals\n",
    "cd /gpfs/gibbs/pi/dewan/data/UKBiobank/phenotype_files/pleiotropy_R01/ukb43978_OCT2020\n",
    "./ukbconv ukb43978.enc_ukb r -i/home/dc2325/project/HI_UKBB/selectvars_101120.txt -o/home/dc2325/project/HI_UKBB/ukb42495_subset101120"
   ]
  },
  {
   "cell_type": "code",
   "execution_count": 8,
   "metadata": {
    "kernel": "R"
   },
   "outputs": [
    {
     "data": {
      "text/html": [
       "'/gpfs/ysm/project/dewan/dc2325/HI_UKBB/ukb42495_updatedJune2020'"
      ],
      "text/latex": [
       "'/gpfs/ysm/project/dewan/dc2325/HI\\_UKBB/ukb42495\\_updatedJune2020'"
      ],
      "text/markdown": [
       "'/gpfs/ysm/project/dewan/dc2325/HI_UKBB/ukb42495_updatedJune2020'"
      ],
      "text/plain": [
       "[1] \"/gpfs/ysm/project/dewan/dc2325/HI_UKBB/ukb42495_updatedJune2020\""
      ]
     },
     "metadata": {},
     "output_type": "display_data"
    }
   ],
   "source": [
    "#Load libraries\n",
    "library(plyr)\n",
    "library(tidyverse)\n",
    "library(pander)\n",
    "library(ggpubr)\n",
    "library(rapportools)\n",
    "library(ggplot2)\n",
    "#Get working directory\n",
    "getwd()\n",
    "#Set working directory\n",
    "setwd('/home/dc2325/project/HI_UKBB/ukb42495_updatedJune2020')"
   ]
  },
  {
   "cell_type": "code",
   "execution_count": 14,
   "metadata": {
    "kernel": "R"
   },
   "outputs": [],
   "source": [
    "# Clean workspace\n",
    "rm(list=ls())"
   ]
  },
  {
   "cell_type": "code",
   "execution_count": 15,
   "metadata": {
    "kernel": "R"
   },
   "outputs": [
    {
     "data": {
      "text/html": [
       "502505"
      ],
      "text/latex": [
       "502505"
      ],
      "text/markdown": [
       "502505"
      ],
      "text/plain": [
       "[1] 502505"
      ]
     },
     "metadata": {},
     "output_type": "display_data"
    }
   ],
   "source": [
    "# Therefore the filtering is going to be made using the June2020 version\n",
    "# Run script to import data to R\n",
    "source(\"ukb42495_subset080420.r\")\n",
    "nrow(bd)"
   ]
  },
  {
   "cell_type": "code",
   "execution_count": 16,
   "metadata": {
    "kernel": "R"
   },
   "outputs": [
    {
     "data": {
      "text/html": [
       "410905"
      ],
      "text/latex": [
       "410905"
      ],
      "text/markdown": [
       "410905"
      ],
      "text/plain": [
       "[1] 410905"
      ]
     },
     "metadata": {},
     "output_type": "display_data"
    }
   ],
   "source": [
    "# List of individuals with qc'ed genotypic files\n",
    "df.geno <- read.table(\"/gpfs/gibbs/pi/dewan/data/UKBiobank/genotype_files/pleiotropy_geneticfiles/UKB_expandedwhite_qcgenotypefiles/UKB_expandedwhiteonly_phenotypeindepqc_410905indiv_528206snps_102720.fam\", header= FALSE, stringsAsFactors = FALSE)\n",
    "names(df.geno) <-c(\"FID\",\"IID\",\"ignore1\", \"ignore2\", \"ignore3\", \"ignore4\")\n",
    "nrow(df.geno)"
   ]
  },
  {
   "cell_type": "code",
   "execution_count": 17,
   "metadata": {
    "kernel": "R"
   },
   "outputs": [
    {
     "data": {
      "text/html": [
       "<table>\n",
       "<caption>A data.frame: 6 × 1</caption>\n",
       "<thead>\n",
       "\t<tr><th></th><th scope=col>f.eid</th></tr>\n",
       "\t<tr><th></th><th scope=col>&lt;int&gt;</th></tr>\n",
       "</thead>\n",
       "<tbody>\n",
       "\t<tr><th scope=row>1</th><td>6025442</td></tr>\n",
       "\t<tr><th scope=row>2</th><td>1000019</td></tr>\n",
       "\t<tr><th scope=row>3</th><td>1000022</td></tr>\n",
       "\t<tr><th scope=row>4</th><td>1000035</td></tr>\n",
       "\t<tr><th scope=row>5</th><td>1000046</td></tr>\n",
       "\t<tr><th scope=row>6</th><td>1000054</td></tr>\n",
       "</tbody>\n",
       "</table>\n"
      ],
      "text/latex": [
       "A data.frame: 6 × 1\n",
       "\\begin{tabular}{r|l}\n",
       "  & f.eid\\\\\n",
       "  & <int>\\\\\n",
       "\\hline\n",
       "\t1 & 6025442\\\\\n",
       "\t2 & 1000019\\\\\n",
       "\t3 & 1000022\\\\\n",
       "\t4 & 1000035\\\\\n",
       "\t5 & 1000046\\\\\n",
       "\t6 & 1000054\\\\\n",
       "\\end{tabular}\n"
      ],
      "text/markdown": [
       "\n",
       "A data.frame: 6 × 1\n",
       "\n",
       "| <!--/--> | f.eid &lt;int&gt; |\n",
       "|---|---|\n",
       "| 1 | 6025442 |\n",
       "| 2 | 1000019 |\n",
       "| 3 | 1000022 |\n",
       "| 4 | 1000035 |\n",
       "| 5 | 1000046 |\n",
       "| 6 | 1000054 |\n",
       "\n"
      ],
      "text/plain": [
       "  f.eid  \n",
       "1 6025442\n",
       "2 1000019\n",
       "3 1000022\n",
       "4 1000035\n",
       "5 1000046\n",
       "6 1000054"
      ]
     },
     "metadata": {},
     "output_type": "display_data"
    }
   ],
   "source": [
    "head(bd[,1, drop=FALSE])"
   ]
  },
  {
   "cell_type": "code",
   "execution_count": 18,
   "metadata": {
    "kernel": "R"
   },
   "outputs": [
    {
     "data": {
      "text/html": [
       "<table>\n",
       "<caption>A data.frame: 6 × 1</caption>\n",
       "<thead>\n",
       "\t<tr><th></th><th scope=col>IID</th></tr>\n",
       "\t<tr><th></th><th scope=col>&lt;int&gt;</th></tr>\n",
       "</thead>\n",
       "<tbody>\n",
       "\t<tr><th scope=row>1</th><td>6025442</td></tr>\n",
       "\t<tr><th scope=row>2</th><td>1000019</td></tr>\n",
       "\t<tr><th scope=row>3</th><td>1000022</td></tr>\n",
       "\t<tr><th scope=row>4</th><td>1000035</td></tr>\n",
       "\t<tr><th scope=row>5</th><td>1000046</td></tr>\n",
       "\t<tr><th scope=row>6</th><td>1000054</td></tr>\n",
       "</tbody>\n",
       "</table>\n"
      ],
      "text/latex": [
       "A data.frame: 6 × 1\n",
       "\\begin{tabular}{r|l}\n",
       "  & IID\\\\\n",
       "  & <int>\\\\\n",
       "\\hline\n",
       "\t1 & 6025442\\\\\n",
       "\t2 & 1000019\\\\\n",
       "\t3 & 1000022\\\\\n",
       "\t4 & 1000035\\\\\n",
       "\t5 & 1000046\\\\\n",
       "\t6 & 1000054\\\\\n",
       "\\end{tabular}\n"
      ],
      "text/markdown": [
       "\n",
       "A data.frame: 6 × 1\n",
       "\n",
       "| <!--/--> | IID &lt;int&gt; |\n",
       "|---|---|\n",
       "| 1 | 6025442 |\n",
       "| 2 | 1000019 |\n",
       "| 3 | 1000022 |\n",
       "| 4 | 1000035 |\n",
       "| 5 | 1000046 |\n",
       "| 6 | 1000054 |\n",
       "\n"
      ],
      "text/plain": [
       "  IID    \n",
       "1 6025442\n",
       "2 1000019\n",
       "3 1000022\n",
       "4 1000035\n",
       "5 1000046\n",
       "6 1000054"
      ]
     },
     "metadata": {},
     "output_type": "display_data"
    }
   ],
   "source": [
    "# Assign individual ID column to bd f.eid\n",
    "names(bd)[1] <- \"IID\"\n",
    "head(bd[,1, drop=FALSE])"
   ]
  },
  {
   "cell_type": "code",
   "execution_count": 19,
   "metadata": {
    "kernel": "R"
   },
   "outputs": [
    {
     "data": {
      "text/html": [
       "410905"
      ],
      "text/latex": [
       "410905"
      ],
      "text/markdown": [
       "410905"
      ],
      "text/plain": [
       "[1] 410905"
      ]
     },
     "metadata": {},
     "output_type": "display_data"
    }
   ],
   "source": [
    "# Merge the two data frames\n",
    "df.gen.phen <-merge(df.geno, bd, by=\"IID\", all=FALSE)\n",
    "nrow(df.gen.phen)"
   ]
  },
  {
   "cell_type": "code",
   "execution_count": 20,
   "metadata": {
    "kernel": "R"
   },
   "outputs": [],
   "source": [
    "# Step 5 Save as csv file\n",
    "write.csv(df.gen.phen,'120120_UKBB_HI_expandedwhite_genotypeqc.csv', row.names = FALSE)"
   ]
  },
  {
   "cell_type": "markdown",
   "metadata": {
    "kernel": "R"
   },
   "source": [
    "## Exclusion criteria based on ICD10, ICD9 codes and self-report\n",
    "Apply the exclusion criteria defined by the group to remove unwanted individuals. This takes into account ICD10 codes, ICD9 codes (not present in the june2020 db) and f.20002 (self-report). Please find a list of removed codes [here](https://docs.google.com/spreadsheets/d/12L7Cx4Ov8FppGVmG0DxL9uG-lVRHM5QJSea0nORyirQ/edit#gid=0)."
   ]
  },
  {
   "cell_type": "code",
   "execution_count": 21,
   "metadata": {
    "kernel": "Bash"
   },
   "outputs": [
    {
     "name": "stdout",
     "output_type": "stream",
     "text": [
      "\n"
     ]
    }
   ],
   "source": [
    "# To get a list of removed individuals. Make sure the list with the strings each line has \\bstring\\b so it can be recognized by -w\n",
    "cd /home/dc2325/project/HI_UKBB/ukb42495_updatedJune2020"
   ]
  },
  {
   "cell_type": "code",
   "execution_count": 22,
   "metadata": {
    "kernel": "Bash"
   },
   "outputs": [
    {
     "name": "stdout",
     "output_type": "stream",
     "text": [
      "396977\n",
      "\n"
     ]
    }
   ],
   "source": [
    "# To get the clean db with the included individuals\n",
    "grep -wv -f 200713_ICDcodes_exclusion.txt 120120_UKBB_HI_expandedwhite_genotypeqc.csv > 120120_UKBB_HI_expandedwhite_genotypeqc_excr.csv\n",
    "cat 120120_UKBB_HI_expandedwhite_genotypeqc_excr.csv | wc -l "
   ]
  },
  {
   "cell_type": "markdown",
   "metadata": {
    "kernel": "Bash"
   },
   "source": [
    "## Using dask to filter huge UKBB database"
   ]
  },
  {
   "cell_type": "code",
   "execution_count": 46,
   "metadata": {
    "kernel": "Python3"
   },
   "outputs": [],
   "source": [
    "import dask.dataframe as dd\n",
    "df = dd.read_csv(\"/gpfs/gibbs/pi/dewan/data/UKBiobank/phenotype_files/pleiotropy_R01/UKB_combinedreqs_101920/combinedUKB_120320_43978.csv\", sep=',', sample=1000000, dtype={'eid':int})"
   ]
  },
  {
   "cell_type": "code",
   "execution_count": null,
   "metadata": {
    "kernel": "Python3"
   },
   "outputs": [],
   "source": [
    "#df.iloc[:, [1, 0]]\n",
    "df = df.set_index('eid')"
   ]
  },
  {
   "cell_type": "code",
   "execution_count": null,
   "metadata": {
    "kernel": "Python3"
   },
   "outputs": [],
   "source": [
    "import pandas as pd\n",
    "\n",
    "# Create a list of individual IDs to be selected\n",
    "colnames=['FID', 'IID'] \n",
    "ind_to_select = pd.read_csv(\"/home/dc2325/scratch60/pca/exome_IID_188448_outliers_removed.txt\", sep=' ', names=colnames, header=None, dtype='object')\n",
    "ind_to_select.head()\n",
    "IID = ind_to_select['IID'].tolist()\n",
    "IID[0]"
   ]
  },
  {
   "cell_type": "code",
   "execution_count": 25,
   "metadata": {
    "kernel": "Python3"
   },
   "outputs": [
    {
     "data": {
      "text/plain": [
       "31"
      ]
     },
     "execution_count": 25,
     "metadata": {},
     "output_type": "execute_result"
    }
   ],
   "source": [
    "# Create a list of variables to select\n",
    "columns_to_select = pd.read_csv(\"/home/dc2325/scratch60/pca/selectvars_101120.txt\", header=None)\n",
    "columns_to_select \n",
    "columns_to_select = columns_to_select[0].tolist()\n",
    "columns_to_select[0]"
   ]
  },
  {
   "cell_type": "code",
   "execution_count": null,
   "metadata": {
    "kernel": "Python3"
   },
   "outputs": [],
   "source": [
    "#Generate a new dask dataframe containing only the selected indices\n",
    "df_id = df.loc[IID]\n",
    "\n",
    "#df_id_vars = df_id[df_id.str.contains('|'.join(columns_to_select))]"
   ]
  }
 ],
 "metadata": {
  "kernelspec": {
   "display_name": "SoS",
   "language": "sos",
   "name": "sos"
  },
  "language_info": {
   "codemirror_mode": "sos",
   "file_extension": ".sos",
   "mimetype": "text/x-sos",
   "name": "sos",
   "nbconvert_exporter": "sos_notebook.converter.SoS_Exporter",
   "pygments_lexer": "sos"
  },
  "sos": {
   "kernels": [
    [
     "Bash",
     "calysto_bash",
     "Bash",
     "#E6EEFF",
     ""
    ],
    [
     "Python3",
     "python3",
     "Python3",
     "#FFD91A",
     {
      "name": "ipython",
      "version": 3
     }
    ],
    [
     "R",
     "ir",
     "R",
     "#DCDCDA",
     "r"
    ]
   ],
   "version": "0.21.21"
  }
 },
 "nbformat": 4,
 "nbformat_minor": 4
}
