{
 "cells": [
  {
   "cell_type": "markdown",
   "id": "e2d75c1b-10bf-4087-a678-daedb327011f",
   "metadata": {},
   "source": [
    "#　Find significant variants of 200k exome in 500k exome"
   ]
  },
  {
   "cell_type": "code",
   "execution_count": 1,
   "id": "a1ea64ce-1d10-4bf7-8b3f-292b7e721fd2",
   "metadata": {},
   "outputs": [],
   "source": [
    "import pandas as pd\n",
    "import numpy as np"
   ]
  },
  {
   "cell_type": "code",
   "execution_count": 13,
   "id": "21ad425c-197a-47f8-bbd5-25195b70b471",
   "metadata": {},
   "outputs": [],
   "source": [
    "columns= ['Chr', \"Start\", \"Ref\", \"Alt\", \"avsnp150\"]\n",
    "anno = pd.read_csv('~/UKBiobank/results/ukb23155_200Kexomes_annovar/091321_exome_bim_merge/ukb23155_chr1_chr22_091321.hg38.hg38_multianno.csv', header=0, dtype='string', usecols=columns, index_col=False)"
   ]
  },
  {
   "cell_type": "code",
   "execution_count": 17,
   "id": "7235379a-f6b5-40b0-b3ca-91704a4dcc65",
   "metadata": {},
   "outputs": [],
   "source": [
    "anno[\"SNP\"] = 'chr' + anno.Chr.str.cat(others=[anno.Start, anno.Ref, anno.Alt], sep=':')"
   ]
  },
  {
   "cell_type": "code",
   "execution_count": 18,
   "id": "022c50e0-a97c-445d-8799-d7c43f22fb65",
   "metadata": {},
   "outputs": [
    {
     "data": {
      "text/plain": [
       "0    chr1:925862:G:A\n",
       "1    chr1:925869:G:A\n",
       "2    chr1:925870:C:T\n",
       "3    chr1:925874:C:G\n",
       "4    chr1:925874:C:T\n",
       "Name: SNP, dtype: string"
      ]
     },
     "execution_count": 18,
     "metadata": {},
     "output_type": "execute_result"
    }
   ],
   "source": [
    "anno[\"SNP\"].head()"
   ]
  },
  {
   "cell_type": "code",
   "execution_count": 21,
   "id": "1c51b834-1d65-489a-b98a-d1475025b9e6",
   "metadata": {},
   "outputs": [],
   "source": [
    "# f3393\n",
    "file500k=\"~/UKBiobank/results/REGENIE_results/results_imputed_data/2021_10_07_f3393_500K/100521_UKBB_Hearing_aid_f3393_expandedwhite_15601cases_237318ctrl_500k_PC1_PC2_f3393.regenie.snp_stats.gz\"\n",
    "file200k=\"~/UKBiobank/results/REGENIE_results/results_exome_data/090921_f3393_hearing_aid_200K/090321_UKBB_Hearing_aid_f3393_expandedwhite_6436cases_96601ctrl_PC1_2_f3393.regenie.snp_stats.gz\"\n",
    "k500 = pd.read_csv(file500k, compression='gzip', sep = \"\\t\",header=0)\n",
    "k200=pd.read_csv(file200k, compression='gzip', sep = \"\\t\",header=0)\n",
    "tmp=k200[k200['P'] < 0.005]\n",
    "df=pd.merge(tmp,anno[[\"SNP\",\"avsnp150\"]],on=[\"SNP\"],how=\"inner\")"
   ]
  },
  {
   "cell_type": "code",
   "execution_count": 23,
   "id": "5d7a0380-2afc-4d76-b953-cfb1f5d2e289",
   "metadata": {},
   "outputs": [
    {
     "data": {
      "text/plain": [
       "(15071, 9)"
      ]
     },
     "execution_count": 23,
     "metadata": {},
     "output_type": "execute_result"
    }
   ],
   "source": [
    "df.shape"
   ]
  },
  {
   "cell_type": "code",
   "execution_count": 27,
   "id": "3a14809b-bc48-44c7-8e79-0e5a8d853bd8",
   "metadata": {},
   "outputs": [
    {
     "data": {
      "text/plain": [
       "(2393, 9)"
      ]
     },
     "execution_count": 27,
     "metadata": {},
     "output_type": "execute_result"
    }
   ],
   "source": [
    "df2=df[df[\"avsnp150\"].isin(k500[\"SNP\"])]\n",
    "outfile= \"~/working/Ghana/\"+\"090921_f3393_hearing_aid_200K\"+\"_p0.005_in500k.txt\"\n",
    "df2.to_csv(outfile,sep=\"\\t\",index=False)\n",
    "df2.shape"
   ]
  },
  {
   "cell_type": "code",
   "execution_count": 28,
   "id": "6c7d2499-ab08-4521-8f5c-f7c4a0dcdc8a",
   "metadata": {},
   "outputs": [],
   "source": [
    "# f2257\n",
    "file500k=\"~/UKBiobank/results/REGENIE_results/results_imputed_data/2021_10_07_f2257_500K/100521_UKBB_Hearing_noise_f2257_expandedwhite_161443cases_237318ctrl_500k_PC1_PC2_f2257.regenie.snp_stats.gz\"\n",
    "file200k=\"~/UKBiobank/results/REGENIE_results/results_exome_data/090921_f2257_hearing_noise_200K/090321_UKBB_Hearing_noise_f2257_expandedwhite_65660cases_96601ctrl_PC1_2_f2257.regenie.snp_stats.gz\"\n",
    "outfile=\"~/working/Ghana/\"+\"090921_f2257_hearing_noise_200K\"+\"_p0.005_in500k.txt\"\n",
    "k500 = pd.read_csv(file500k, compression='gzip', sep = \"\\t\",header=0)\n",
    "k200=pd.read_csv(file200k, compression='gzip', sep = \"\\t\",header=0)\n",
    "tmp=k200[k200['P'] < 0.005]\n",
    "df=pd.merge(tmp,anno[[\"SNP\",\"avsnp150\"]],on=[\"SNP\"],how=\"inner\")\n",
    "df2=df[df[\"avsnp150\"].isin(k500[\"SNP\"])]\n",
    "df2.to_csv(outfile,sep=\"\\t\",index=False)"
   ]
  },
  {
   "cell_type": "code",
   "execution_count": 29,
   "id": "77800e81-67a1-4987-ad9c-bcf057ba5b6d",
   "metadata": {},
   "outputs": [],
   "source": [
    "# f2247\n",
    "file500k=\"~/UKBiobank/results/REGENIE_results/results_imputed_data/2021_10_07_f2247_500K/100521_UKBB_Hearing_difficulty_f2247_expandedwhite_110453cases_237318ctrl_500k_PC1_PC2_f2247.regenie.snp_stats.gz\"\n",
    "file200k=\"~/UKBiobank/results/REGENIE_results/results_exome_data/090921_f2247_hearing_difficulty_200K/090321_UKBB_Hearing_difficulty_f2247_expandedwhite_45502cases_96601ctrl_PC1_2_f2247.regenie.snp_stats.gz\"\n",
    "outfile=\"~/working/Ghana/\"+\"090921_f2247_hearing_difficulty_200K\"+\"_p0.005_in500k.txt\"\n",
    "k500 = pd.read_csv(file500k, compression='gzip', sep = \"\\t\",header=0)\n",
    "k200=pd.read_csv(file200k, compression='gzip', sep = \"\\t\",header=0)\n",
    "tmp=k200[k200['P'] < 0.005]\n",
    "df=pd.merge(tmp,anno[[\"SNP\",\"avsnp150\"]],on=[\"SNP\"],how=\"inner\")\n",
    "df2=df[df[\"avsnp150\"].isin(k500[\"SNP\"])]\n",
    "df2.to_csv(outfile,sep=\"\\t\",index=False)"
   ]
  },
  {
   "cell_type": "code",
   "execution_count": 30,
   "id": "e9f4c386-bfba-475d-877c-88fbfda974f1",
   "metadata": {},
   "outputs": [],
   "source": [
    "# f2247_f2257\n",
    "file500k=\"~/UKBiobank/results/REGENIE_results/results_imputed_data/2021_10_07_combined_500K/100521_UKBB_Combined_f2247_f2257_expandedwhite_93258cases_237318ctrl_500k_PC1_PC2_f2247_f2257.regenie.snp_stats.gz\"\n",
    "file200k=\"~/UKBiobank/results/REGENIE_results/results_exome_data/090921_combined_f2247_f2257_200K/090321_UKBB_Combined_f2247_f2257_expandedwhite_38410cases_96601ctrl_PC1_2_f2247_f2257.regenie.snp_stats.gz\"\n",
    "outfile=\"~/working/Ghana/\"+\"090921_combined_f2247_f2257_200K\"+\"_p0.005_in500k.txt\"\n",
    "k500 = pd.read_csv(file500k, compression='gzip', sep = \"\\t\",header=0)\n",
    "k200=pd.read_csv(file200k, compression='gzip', sep = \"\\t\",header=0)\n",
    "tmp=k200[k200['P'] < 0.005]\n",
    "df=pd.merge(tmp,anno[[\"SNP\",\"avsnp150\"]],on=[\"SNP\"],how=\"inner\")\n",
    "df2=df[df[\"avsnp150\"].isin(k500[\"SNP\"])]\n",
    "df2.to_csv(outfile,sep=\"\\t\",index=False)"
   ]
  },
  {
   "cell_type": "code",
   "execution_count": null,
   "id": "45a1acd2-b0e8-4c0f-b6a3-928383315aa4",
   "metadata": {},
   "outputs": [],
   "source": []
  }
 ],
 "metadata": {
  "kernelspec": {
   "display_name": "Python 3",
   "language": "python",
   "name": "python3"
  },
  "language_info": {
   "codemirror_mode": {
    "name": "ipython",
    "version": 3
   },
   "file_extension": ".py",
   "mimetype": "text/x-python",
   "name": "python",
   "nbconvert_exporter": "python",
   "pygments_lexer": "ipython3",
   "version": "3.8.5"
  }
 },
 "nbformat": 4,
 "nbformat_minor": 5
}
