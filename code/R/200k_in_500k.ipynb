{
 "cells": [
  {
   "cell_type": "markdown",
   "id": "61d10c46-bd01-4c4e-a6f0-9bfd5d9e27b1",
   "metadata": {
    "kernel": "SoS",
    "tags": []
   },
   "source": [
    "# Find significant variants of 200k exome in 500k exome"
   ]
  },
  {
   "cell_type": "code",
   "execution_count": null,
   "id": "0475c6e1-bfad-4cd9-8065-33f4e414c4cd",
   "metadata": {
    "kernel": "Bash",
    "tags": []
   },
   "outputs": [],
   "source": [
    "awk -F, '{ OFS=\":\"}{print $1,$2,$4,$5}' ~/UKBiobank/results/ukb23155_200Kexomes_annovar/091321_exome_bim_merge/ukb23155_chr1_chr22_091321.hg38.hg38_multianno.csv > ~/working/Ghana/snpid.txt\n",
    "awk -F, '{print $74}' ~/UKBiobank/results/ukb23155_200Kexomes_annovar/091321_exome_bim_merge/ukb23155_chr1_chr22_091321.hg38.hg38_multianno.csv > ~/working/Ghana/rsid.txt\n",
    "paste ~/working/Ghana/snpid.txt ~/working/Ghana/rsid.txt | column -s $'\\t' -t > ~/working/Ghana/id.txt"
   ]
  },
  {
   "cell_type": "code",
   "execution_count": 1,
   "id": "4db192eb-9cfe-4235-9855-e5e163982083",
   "metadata": {
    "kernel": "R",
    "tags": []
   },
   "outputs": [],
   "source": [
    "id<-read.csv(\"~/working/Ghana/id.txt\",sep=\"\",header=TRUE,quote=\"\\\"\")\n",
    "names(id)<-c(\"SNP\",\"rs\")\n",
    "id$SNP <- sub(\"^\", \"chr\", id$SNP )"
   ]
  },
  {
   "cell_type": "code",
   "execution_count": 9,
   "id": "f3b91aae-4552-4b29-b2c8-e49dca248061",
   "metadata": {
    "kernel": "R"
   },
   "outputs": [
    {
     "data": {
      "text/html": [
       "<table class=\"dataframe\">\n",
       "<caption>A data.frame: 6 × 9</caption>\n",
       "<thead>\n",
       "\t<tr><th></th><th scope=col>SNP</th><th scope=col>CHR</th><th scope=col>POS</th><th scope=col>REF</th><th scope=col>ALT</th><th scope=col>BETA</th><th scope=col>SE</th><th scope=col>P</th><th scope=col>rs</th></tr>\n",
       "\t<tr><th></th><th scope=col>&lt;chr&gt;</th><th scope=col>&lt;int&gt;</th><th scope=col>&lt;int&gt;</th><th scope=col>&lt;chr&gt;</th><th scope=col>&lt;chr&gt;</th><th scope=col>&lt;dbl&gt;</th><th scope=col>&lt;dbl&gt;</th><th scope=col>&lt;dbl&gt;</th><th scope=col>&lt;chr&gt;</th></tr>\n",
       "</thead>\n",
       "<tbody>\n",
       "\t<tr><th scope=row>1</th><td>chr1:100038336:G:C</td><td>1</td><td>100038336</td><td>G</td><td>C</td><td> 0.145141</td><td>0.0446200</td><td>0.0013612253</td><td>NFIC       </td></tr>\n",
       "\t<tr><th scope=row>2</th><td>chr1:100043099:C:T</td><td>1</td><td>100043099</td><td>C</td><td>T</td><td> 0.139861</td><td>0.0447831</td><td>0.0020929073</td><td>.          </td></tr>\n",
       "\t<tr><th scope=row>3</th><td>chr1:100123227:A:G</td><td>1</td><td>100123227</td><td>A</td><td>G</td><td> 1.829680</td><td>0.4708260</td><td>0.0003902743</td><td>rs375769139</td></tr>\n",
       "\t<tr><th scope=row>4</th><td>chr1:100132743:A:G</td><td>1</td><td>100132743</td><td>A</td><td>G</td><td> 0.150009</td><td>0.0445373</td><td>0.0009174660</td><td>CBX1       </td></tr>\n",
       "\t<tr><th scope=row>5</th><td>chr1:100152331:C:T</td><td>1</td><td>100152331</td><td>C</td><td>T</td><td>-0.105256</td><td>0.0321065</td><td>0.0011740322</td><td>.          </td></tr>\n",
       "\t<tr><th scope=row>6</th><td>chr1:100152615:A:G</td><td>1</td><td>100152615</td><td>A</td><td>G</td><td> 1.558210</td><td>0.4676940</td><td>0.0027603872</td><td>.          </td></tr>\n",
       "</tbody>\n",
       "</table>\n"
      ],
      "text/latex": [
       "A data.frame: 6 × 9\n",
       "\\begin{tabular}{r|lllllllll}\n",
       "  & SNP & CHR & POS & REF & ALT & BETA & SE & P & rs\\\\\n",
       "  & <chr> & <int> & <int> & <chr> & <chr> & <dbl> & <dbl> & <dbl> & <chr>\\\\\n",
       "\\hline\n",
       "\t1 & chr1:100038336:G:C & 1 & 100038336 & G & C &  0.145141 & 0.0446200 & 0.0013612253 & NFIC       \\\\\n",
       "\t2 & chr1:100043099:C:T & 1 & 100043099 & C & T &  0.139861 & 0.0447831 & 0.0020929073 & .          \\\\\n",
       "\t3 & chr1:100123227:A:G & 1 & 100123227 & A & G &  1.829680 & 0.4708260 & 0.0003902743 & rs375769139\\\\\n",
       "\t4 & chr1:100132743:A:G & 1 & 100132743 & A & G &  0.150009 & 0.0445373 & 0.0009174660 & CBX1       \\\\\n",
       "\t5 & chr1:100152331:C:T & 1 & 100152331 & C & T & -0.105256 & 0.0321065 & 0.0011740322 & .          \\\\\n",
       "\t6 & chr1:100152615:A:G & 1 & 100152615 & A & G &  1.558210 & 0.4676940 & 0.0027603872 & .          \\\\\n",
       "\\end{tabular}\n"
      ],
      "text/markdown": [
       "\n",
       "A data.frame: 6 × 9\n",
       "\n",
       "| <!--/--> | SNP &lt;chr&gt; | CHR &lt;int&gt; | POS &lt;int&gt; | REF &lt;chr&gt; | ALT &lt;chr&gt; | BETA &lt;dbl&gt; | SE &lt;dbl&gt; | P &lt;dbl&gt; | rs &lt;chr&gt; |\n",
       "|---|---|---|---|---|---|---|---|---|---|\n",
       "| 1 | chr1:100038336:G:C | 1 | 100038336 | G | C |  0.145141 | 0.0446200 | 0.0013612253 | NFIC        |\n",
       "| 2 | chr1:100043099:C:T | 1 | 100043099 | C | T |  0.139861 | 0.0447831 | 0.0020929073 | .           |\n",
       "| 3 | chr1:100123227:A:G | 1 | 100123227 | A | G |  1.829680 | 0.4708260 | 0.0003902743 | rs375769139 |\n",
       "| 4 | chr1:100132743:A:G | 1 | 100132743 | A | G |  0.150009 | 0.0445373 | 0.0009174660 | CBX1        |\n",
       "| 5 | chr1:100152331:C:T | 1 | 100152331 | C | T | -0.105256 | 0.0321065 | 0.0011740322 | .           |\n",
       "| 6 | chr1:100152615:A:G | 1 | 100152615 | A | G |  1.558210 | 0.4676940 | 0.0027603872 | .           |\n",
       "\n"
      ],
      "text/plain": [
       "  SNP                CHR POS       REF ALT BETA      SE        P           \n",
       "1 chr1:100038336:G:C 1   100038336 G   C    0.145141 0.0446200 0.0013612253\n",
       "2 chr1:100043099:C:T 1   100043099 C   T    0.139861 0.0447831 0.0020929073\n",
       "3 chr1:100123227:A:G 1   100123227 A   G    1.829680 0.4708260 0.0003902743\n",
       "4 chr1:100132743:A:G 1   100132743 A   G    0.150009 0.0445373 0.0009174660\n",
       "5 chr1:100152331:C:T 1   100152331 C   T   -0.105256 0.0321065 0.0011740322\n",
       "6 chr1:100152615:A:G 1   100152615 A   G    1.558210 0.4676940 0.0027603872\n",
       "  rs         \n",
       "1 NFIC       \n",
       "2 .          \n",
       "3 rs375769139\n",
       "4 CBX1       \n",
       "5 .          \n",
       "6 .          "
      ]
     },
     "metadata": {},
     "output_type": "display_data"
    }
   ],
   "source": [
    "# f3393\n",
    "file<-\"~/UKBiobank/results/REGENIE_results/results_imputed_data/2021_10_07_f3393_500K/100521_UKBB_Hearing_aid_f3393_expandedwhite_15601cases_237318ctrl_500k_PC1_PC2_f3393.regenie.snp_stats.gz\"\n",
    "statfile=\"~/UKBiobank/results/REGENIE_results/results_exome_data/090921_f3393_hearing_aid_200K/090321_UKBB_Hearing_aid_f3393_expandedwhite_6436cases_96601ctrl_PC1_2_f3393.regenie.snp_stats.gz\"\n",
    "outfile=paste0(\"~/working/Ghana/\",\"090921_f3393_hearing_aid_200K\",\"_p0.005_in500k.txt\")\n",
    "k500<-read.table(gzfile(file),sep='\\t', header=T)\n",
    "data<-read.table(gzfile(statfile),sep='\\t', header=T)\n",
    "tmp<-data[data$P < 0.005,]\n",
    "df<-merge(x=tmp,y=id,by=c(\"SNP\",\"SNP\"))\n",
    "head(df)"
   ]
  },
  {
   "cell_type": "code",
   "execution_count": 3,
   "id": "dcd94345-ef8b-4cda-a3a2-8ef20cd7be6d",
   "metadata": {
    "kernel": "R"
   },
   "outputs": [
    {
     "data": {
      "text/html": [
       "<style>\n",
       ".list-inline {list-style: none; margin:0; padding: 0}\n",
       ".list-inline>li {display: inline-block}\n",
       ".list-inline>li:not(:last-child)::after {content: \"\\00b7\"; padding: 0 .5ex}\n",
       "</style>\n",
       "<ol class=list-inline><li>15066</li><li>9</li></ol>\n"
      ],
      "text/latex": [
       "\\begin{enumerate*}\n",
       "\\item 15066\n",
       "\\item 9\n",
       "\\end{enumerate*}\n"
      ],
      "text/markdown": [
       "1. 15066\n",
       "2. 9\n",
       "\n",
       "\n"
      ],
      "text/plain": [
       "[1] 15066     9"
      ]
     },
     "metadata": {},
     "output_type": "display_data"
    }
   ],
   "source": [
    "dim(df)"
   ]
  },
  {
   "cell_type": "code",
   "execution_count": 10,
   "id": "b052d859-192f-40a0-b8b5-80ad6ec5fbde",
   "metadata": {
    "kernel": "R"
   },
   "outputs": [
    {
     "data": {
      "text/html": [
       "<style>\n",
       ".list-inline {list-style: none; margin:0; padding: 0}\n",
       ".list-inline>li {display: inline-block}\n",
       ".list-inline>li:not(:last-child)::after {content: \"\\00b7\"; padding: 0 .5ex}\n",
       "</style>\n",
       "<ol class=list-inline><li>992</li><li>9</li></ol>\n"
      ],
      "text/latex": [
       "\\begin{enumerate*}\n",
       "\\item 992\n",
       "\\item 9\n",
       "\\end{enumerate*}\n"
      ],
      "text/markdown": [
       "1. 992\n",
       "2. 9\n",
       "\n",
       "\n"
      ],
      "text/plain": [
       "[1] 992   9"
      ]
     },
     "metadata": {},
     "output_type": "display_data"
    }
   ],
   "source": [
    "df2<-df[df$rs%in%k500$SNP,]\n",
    "write.table(df2,outfile,sep=\"\\t\")\n",
    "dim(df2)"
   ]
  },
  {
   "cell_type": "code",
   "execution_count": null,
   "id": "dbc96fb6-920a-4d43-839d-aa503e54ee4a",
   "metadata": {
    "kernel": "R"
   },
   "outputs": [],
   "source": []
  },
  {
   "cell_type": "code",
   "execution_count": 6,
   "id": "d5b5488e-f5fe-4bb5-bd58-525e41ed4949",
   "metadata": {
    "kernel": "R"
   },
   "outputs": [],
   "source": [
    "# f2257\n",
    "file<-\"~/UKBiobank/results/REGENIE_results/results_imputed_data/2021_10_07_f2257_500K/100521_UKBB_Hearing_noise_f2257_expandedwhite_161443cases_237318ctrl_500k_PC1_PC2_f2257.regenie.snp_stats.gz\"\n",
    "statfile=\"~/UKBiobank/results/REGENIE_results/results_exome_data/090921_f2257_hearing_noise_200K/090321_UKBB_Hearing_noise_f2257_expandedwhite_65660cases_96601ctrl_PC1_2_f2257.regenie.snp_stats.gz\"\n",
    "outfile=paste0(\"~/working/Ghana/\",\"090921_f2257_hearing_noise_200K\",\"_p0.005_in500k.txt\")\n",
    "k500<-read.table(gzfile(file),sep='\\t', header=T)\n",
    "data<-read.table(gzfile(statfile),sep='\\t', header=T)\n",
    "tmp<-data[data$P < 0.005,]\n",
    "df<-merge(x=tmp,y=id,by=c(\"SNP\",\"SNP\"))\n",
    "df2<-df[df$rs%in%k500$SNP,]\n",
    "write.table(df2,outfile,sep=\"\\t\")"
   ]
  },
  {
   "cell_type": "code",
   "execution_count": 7,
   "id": "39310491-aab5-436f-85e7-5006a977f714",
   "metadata": {
    "kernel": "R"
   },
   "outputs": [],
   "source": [
    "# f2247\n",
    "file<-\"~/UKBiobank/results/REGENIE_results/results_imputed_data/2021_10_07_f2247_500K/100521_UKBB_Hearing_difficulty_f2247_expandedwhite_110453cases_237318ctrl_500k_PC1_PC2_f2247.regenie.snp_stats.gz\"\n",
    "statfile=\"~/UKBiobank/results/REGENIE_results/results_exome_data/090921_f2247_hearing_difficulty_200K/090321_UKBB_Hearing_difficulty_f2247_expandedwhite_45502cases_96601ctrl_PC1_2_f2247.regenie.snp_stats.gz\"\n",
    "outfile=paste0(\"~/working/Ghana/\",\"090921_f2247_hearing_difficulty_200K\",\"_p0.005_in500k.txt\")\n",
    "k500<-read.table(gzfile(file),sep='\\t', header=T)\n",
    "data<-read.table(gzfile(statfile),sep='\\t', header=T)\n",
    "tmp<-data[data$P < 0.005,]\n",
    "df<-merge(x=tmp,y=id,by=c(\"SNP\",\"SNP\"))\n",
    "df2<-df[df$rs%in%k500$SNP,]\n",
    "write.table(df2,outfile,sep=\"\\t\")"
   ]
  },
  {
   "cell_type": "code",
   "execution_count": 8,
   "id": "b46a856a-073f-4762-93ca-82e577185d4e",
   "metadata": {
    "kernel": "R"
   },
   "outputs": [],
   "source": [
    "# f2247_f2257\n",
    "file<-\"~/UKBiobank/results/REGENIE_results/results_imputed_data/2021_10_07_combined_500K/100521_UKBB_Combined_f2247_f2257_expandedwhite_93258cases_237318ctrl_500k_PC1_PC2_f2247_f2257.regenie.snp_stats.gz\"\n",
    "statfile=\"~/UKBiobank/results/REGENIE_results/results_exome_data/090921_combined_f2247_f2257_200K/090321_UKBB_Combined_f2247_f2257_expandedwhite_38410cases_96601ctrl_PC1_2_f2247_f2257.regenie.snp_stats.gz\"\n",
    "outfile=paste0(\"~/working/Ghana/\",\"090921_combined_f2247_f2257_200K\",\"_p0.005_in500k.txt\")\n",
    "k500<-read.table(gzfile(file),sep='\\t', header=T)\n",
    "data<-read.table(gzfile(statfile),sep='\\t', header=T)\n",
    "tmp<-data[data$P < 0.005,]\n",
    "df<-merge(x=tmp,y=id,by=c(\"SNP\",\"SNP\"))\n",
    "df2<-df[df$rs%in%k500$SNP,]\n",
    "write.table(df2,outfile,sep=\"\\t\")"
   ]
  },
  {
   "cell_type": "code",
   "execution_count": null,
   "id": "2a326ade-1eee-4bbd-94db-ca6bd46b97e0",
   "metadata": {
    "kernel": "R"
   },
   "outputs": [],
   "source": []
  }
 ],
 "metadata": {
  "kernelspec": {
   "display_name": "SoS",
   "language": "sos",
   "name": "sos"
  },
  "language_info": {
   "codemirror_mode": "sos",
   "file_extension": ".sos",
   "mimetype": "text/x-sos",
   "name": "sos",
   "nbconvert_exporter": "sos_notebook.converter.SoS_Exporter",
   "pygments_lexer": "sos"
  },
  "sos": {
   "kernels": [
    [
     "Bash",
     "calysto_bash",
     "Bash",
     "#E6EEFF",
     ""
    ],
    [
     "R",
     "ir",
     "R",
     "#DCDCDA",
     ""
    ]
   ],
   "version": "0.22.3"
  }
 },
 "nbformat": 4,
 "nbformat_minor": 5
}
