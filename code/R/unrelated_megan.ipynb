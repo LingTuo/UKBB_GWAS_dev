{
 "cells": [
  {
   "cell_type": "markdown",
   "metadata": {
    "kernel": "SoS"
   },
   "source": [
    "## Run the king_2 code independently"
   ]
  },
  {
   "cell_type": "code",
   "execution_count": 4,
   "metadata": {
    "kernel": "R"
   },
   "outputs": [],
   "source": [
    "unrelated_megan <- read.table('/gpfs/gibbs/pi/dewan/data/UKBiobank/genotype_files/pleiotropy_geneticfiles/unrelated_n307259/UKB_genotypedatadownloaded0830_unrelatedCAUConly_307259indiv_529024snps_120319_withdrawnsubjects021820.fam_IDonly', header=F, stringsAsFactor=F)\n",
    "colnames(unrelated_megan) <- c(\"FID\")"
   ]
  },
  {
   "cell_type": "code",
   "execution_count": 10,
   "metadata": {
    "kernel": "R"
   },
   "outputs": [
    {
     "data": {
      "text/html": [
       "<table>\n",
       "<caption>A data.frame: 6 × 1</caption>\n",
       "<thead>\n",
       "\t<tr><th></th><th scope=col>FID</th></tr>\n",
       "\t<tr><th></th><th scope=col>&lt;int&gt;</th></tr>\n",
       "</thead>\n",
       "<tbody>\n",
       "\t<tr><th scope=row>1</th><td>1000019</td></tr>\n",
       "\t<tr><th scope=row>2</th><td>1000022</td></tr>\n",
       "\t<tr><th scope=row>3</th><td>1000035</td></tr>\n",
       "\t<tr><th scope=row>4</th><td>1000046</td></tr>\n",
       "\t<tr><th scope=row>5</th><td>1000054</td></tr>\n",
       "\t<tr><th scope=row>6</th><td>1000063</td></tr>\n",
       "</tbody>\n",
       "</table>\n"
      ],
      "text/latex": [
       "A data.frame: 6 × 1\n",
       "\\begin{tabular}{r|l}\n",
       "  & FID\\\\\n",
       "  & <int>\\\\\n",
       "\\hline\n",
       "\t1 & 1000019\\\\\n",
       "\t2 & 1000022\\\\\n",
       "\t3 & 1000035\\\\\n",
       "\t4 & 1000046\\\\\n",
       "\t5 & 1000054\\\\\n",
       "\t6 & 1000063\\\\\n",
       "\\end{tabular}\n"
      ],
      "text/markdown": [
       "\n",
       "A data.frame: 6 × 1\n",
       "\n",
       "| <!--/--> | FID &lt;int&gt; |\n",
       "|---|---|\n",
       "| 1 | 1000019 |\n",
       "| 2 | 1000022 |\n",
       "| 3 | 1000035 |\n",
       "| 4 | 1000046 |\n",
       "| 5 | 1000054 |\n",
       "| 6 | 1000063 |\n",
       "\n"
      ],
      "text/plain": [
       "  FID    \n",
       "1 1000019\n",
       "2 1000022\n",
       "3 1000035\n",
       "4 1000046\n",
       "5 1000054\n",
       "6 1000063"
      ]
     },
     "metadata": {},
     "output_type": "display_data"
    }
   ],
   "source": [
    "head(unrelated_megan)"
   ]
  },
  {
   "cell_type": "code",
   "execution_count": 14,
   "metadata": {
    "kernel": "R"
   },
   "outputs": [],
   "source": [
    "\n",
    "white_sample_ext <- read.table('/gpfs/gibbs/pi/dewan/data/UKBiobank/phenotype_files/pleiotropy_R01/ukb43978_OCT2020/dc2325_phenotypes/030121_ukb42495_exomed_white_189228ind.pheno', sep='\\t', header=T)"
   ]
  },
  {
   "cell_type": "code",
   "execution_count": 15,
   "metadata": {
    "kernel": "R"
   },
   "outputs": [
    {
     "data": {
      "text/html": [
       "<table>\n",
       "<caption>A data.frame: 6 × 3</caption>\n",
       "<thead>\n",
       "\t<tr><th></th><th scope=col>FID</th><th scope=col>IID</th><th scope=col>ethnicity</th></tr>\n",
       "\t<tr><th></th><th scope=col>&lt;int&gt;</th><th scope=col>&lt;int&gt;</th><th scope=col>&lt;fct&gt;</th></tr>\n",
       "</thead>\n",
       "<tbody>\n",
       "\t<tr><th scope=row>1</th><td>1000019</td><td>1000019</td><td>British</td></tr>\n",
       "\t<tr><th scope=row>2</th><td>1000035</td><td>1000035</td><td>British</td></tr>\n",
       "\t<tr><th scope=row>3</th><td>1000078</td><td>1000078</td><td>British</td></tr>\n",
       "\t<tr><th scope=row>4</th><td>1000081</td><td>1000081</td><td>British</td></tr>\n",
       "\t<tr><th scope=row>5</th><td>1000198</td><td>1000198</td><td>British</td></tr>\n",
       "\t<tr><th scope=row>6</th><td>1000210</td><td>1000210</td><td>British</td></tr>\n",
       "</tbody>\n",
       "</table>\n"
      ],
      "text/latex": [
       "A data.frame: 6 × 3\n",
       "\\begin{tabular}{r|lll}\n",
       "  & FID & IID & ethnicity\\\\\n",
       "  & <int> & <int> & <fct>\\\\\n",
       "\\hline\n",
       "\t1 & 1000019 & 1000019 & British\\\\\n",
       "\t2 & 1000035 & 1000035 & British\\\\\n",
       "\t3 & 1000078 & 1000078 & British\\\\\n",
       "\t4 & 1000081 & 1000081 & British\\\\\n",
       "\t5 & 1000198 & 1000198 & British\\\\\n",
       "\t6 & 1000210 & 1000210 & British\\\\\n",
       "\\end{tabular}\n"
      ],
      "text/markdown": [
       "\n",
       "A data.frame: 6 × 3\n",
       "\n",
       "| <!--/--> | FID &lt;int&gt; | IID &lt;int&gt; | ethnicity &lt;fct&gt; |\n",
       "|---|---|---|---|\n",
       "| 1 | 1000019 | 1000019 | British |\n",
       "| 2 | 1000035 | 1000035 | British |\n",
       "| 3 | 1000078 | 1000078 | British |\n",
       "| 4 | 1000081 | 1000081 | British |\n",
       "| 5 | 1000198 | 1000198 | British |\n",
       "| 6 | 1000210 | 1000210 | British |\n",
       "\n"
      ],
      "text/plain": [
       "  FID     IID     ethnicity\n",
       "1 1000019 1000019 British  \n",
       "2 1000035 1000035 British  \n",
       "3 1000078 1000078 British  \n",
       "4 1000081 1000081 British  \n",
       "5 1000198 1000198 British  \n",
       "6 1000210 1000210 British  "
      ]
     },
     "metadata": {},
     "output_type": "display_data"
    }
   ],
   "source": [
    "head(white_sample_ext)"
   ]
  },
  {
   "cell_type": "code",
   "execution_count": 17,
   "metadata": {
    "kernel": "R"
   },
   "outputs": [
    {
     "name": "stderr",
     "output_type": "stream",
     "text": [
      "\n",
      "Attaching package: ‘dplyr’\n",
      "\n",
      "\n",
      "The following objects are masked from ‘package:stats’:\n",
      "\n",
      "    filter, lag\n",
      "\n",
      "\n",
      "The following objects are masked from ‘package:base’:\n",
      "\n",
      "    intersect, setdiff, setequal, union\n",
      "\n",
      "\n"
     ]
    }
   ],
   "source": [
    "library(dplyr)\n",
    "shared <- white_sample_ext %>%\n",
    "    filter(FID %in% unrelated_megan$FID)"
   ]
  },
  {
   "cell_type": "code",
   "execution_count": 19,
   "metadata": {
    "kernel": "R"
   },
   "outputs": [],
   "source": [
    "shared_2 <- unrelated_megan %>%\n",
    "    filter(FID %in% white_sample_ext$FID)"
   ]
  },
  {
   "cell_type": "code",
   "execution_count": 18,
   "metadata": {
    "kernel": "R"
   },
   "outputs": [
    {
     "data": {
      "text/html": [
       "125230"
      ],
      "text/latex": [
       "125230"
      ],
      "text/markdown": [
       "125230"
      ],
      "text/plain": [
       "[1] 125230"
      ]
     },
     "metadata": {},
     "output_type": "display_data"
    }
   ],
   "source": [
    "nrow(shared)"
   ]
  },
  {
   "cell_type": "code",
   "execution_count": 20,
   "metadata": {
    "kernel": "R"
   },
   "outputs": [
    {
     "data": {
      "text/html": [
       "125230"
      ],
      "text/latex": [
       "125230"
      ],
      "text/markdown": [
       "125230"
      ],
      "text/plain": [
       "[1] 125230"
      ]
     },
     "metadata": {},
     "output_type": "display_data"
    }
   ],
   "source": [
    "nrow(shared_2)"
   ]
  },
  {
   "cell_type": "code",
   "execution_count": null,
   "metadata": {
    "kernel": "R"
   },
   "outputs": [],
   "source": [
    "kin0 <- read.table('/home/dc2325/scratch60/pca/king_05_28_21/UKB_genotypedatadownloaded083019.plinkqc_05_28_21.filtered.king_05_28_21.kin0', header=F, stringsAsFactor=F)\n",
    "colnames(kin0) <- c(\"FID1\",\"ID1\",\"FID2\",\"ID2\",\"NSNP\",\"HETHET\",\"IBS0\",\"KINSHIP\")"
   ]
  },
  {
   "cell_type": "code",
   "execution_count": null,
   "metadata": {
    "kernel": "R"
   },
   "outputs": [],
   "source": [
    "rel <- kin0 %>% filter(KINSHIP >= 0.0625)\n",
    "IID <- sort(unique(unlist(rel[, c(\"ID1\", \"ID2\")])))\n",
    "dat <- data.frame(IID)\n",
    "dat <- dat %>%\n",
    "    mutate(FID = IID) %>%\n",
    "    select(FID, IID)\n",
    "cat(\"There are\", nrow(dat),\"related individuals using a kinship threshold of 0.0625\\n\")\n",
    "write.table(dat,'/home/dc2325/scratch60/pca/king_05_28_21/UKB_genotypedatadownloaded083019.plinkqc_05_28_21.filtered.king_05_28_21.related_id', quote=FALSE, row.names=FALSE, col.names=FALSE)"
   ]
  }
 ],
 "metadata": {
  "kernelspec": {
   "display_name": "SoS",
   "language": "sos",
   "name": "sos"
  },
  "language_info": {
   "codemirror_mode": "sos",
   "file_extension": ".sos",
   "mimetype": "text/x-sos",
   "name": "sos",
   "nbconvert_exporter": "sos_notebook.converter.SoS_Exporter",
   "pygments_lexer": "sos"
  },
  "sos": {
   "kernels": [
    [
     "R",
     "ir",
     "R",
     "#DCDCDA",
     "r"
    ]
   ],
   "version": "0.21.21"
  }
 },
 "nbformat": 4,
 "nbformat_minor": 4
}
