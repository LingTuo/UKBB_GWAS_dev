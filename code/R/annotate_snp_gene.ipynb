{
 "cells": [
  {
   "cell_type": "markdown",
   "metadata": {},
   "source": [
    "# Testing annotation with snpGeneSets R package\n",
    "\n",
    "This is a utility script to test the usage of snpGeneSets before creating a dedicated workflow for it"
   ]
  },
  {
   "cell_type": "code",
   "execution_count": null,
   "metadata": {},
   "outputs": [],
   "source": [
    "library('snpGeneSets')\n",
    "library('dplyr')"
   ]
  },
  {
   "cell_type": "code",
   "execution_count": 35,
   "metadata": {},
   "outputs": [
    {
     "data": {
      "text/html": [
       "<table>\n",
       "<caption>A data.frame: 6 × 11</caption>\n",
       "<thead>\n",
       "\t<tr><th></th><th scope=col>CHR</th><th scope=col>SNP</th><th scope=col>POS</th><th scope=col>A1</th><th scope=col>A2</th><th scope=col>N</th><th scope=col>AF1</th><th scope=col>BETA</th><th scope=col>SE</th><th scope=col>P</th><th scope=col>INFO</th></tr>\n",
       "\t<tr><th></th><th scope=col>&lt;int&gt;</th><th scope=col>&lt;fct&gt;</th><th scope=col>&lt;int&gt;</th><th scope=col>&lt;fct&gt;</th><th scope=col>&lt;fct&gt;</th><th scope=col>&lt;int&gt;</th><th scope=col>&lt;dbl&gt;</th><th scope=col>&lt;dbl&gt;</th><th scope=col>&lt;dbl&gt;</th><th scope=col>&lt;dbl&gt;</th><th scope=col>&lt;dbl&gt;</th></tr>\n",
       "</thead>\n",
       "<tbody>\n",
       "\t<tr><th scope=row>1</th><td>1</td><td>1:692794_CA_C</td><td>692794</td><td>CA</td><td>C</td><td>135829</td><td>0.888284</td><td>-0.00924490</td><td>0.00608260</td><td>0.128538</td><td>0.827370</td></tr>\n",
       "\t<tr><th scope=row>2</th><td>1</td><td>rs12238997   </td><td>693731</td><td>A </td><td>G</td><td>135829</td><td>0.883261</td><td>-0.00425031</td><td>0.00575698</td><td>0.460339</td><td>0.882547</td></tr>\n",
       "\t<tr><th scope=row>3</th><td>1</td><td>rs371890604  </td><td>707522</td><td>G </td><td>C</td><td>135829</td><td>0.901952</td><td>-0.00915078</td><td>0.00647343</td><td>0.157482</td><td>0.813483</td></tr>\n",
       "\t<tr><th scope=row>4</th><td>1</td><td>rs149887893  </td><td>714596</td><td>T </td><td>C</td><td>135829</td><td>0.968106</td><td> 0.00414519</td><td>0.01091840</td><td>0.704205</td><td>0.849730</td></tr>\n",
       "\t<tr><th scope=row>5</th><td>1</td><td>rs12184267   </td><td>715265</td><td>C </td><td>T</td><td>135829</td><td>0.964543</td><td> 0.00322700</td><td>0.00991155</td><td>0.744742</td><td>0.931906</td></tr>\n",
       "\t<tr><th scope=row>6</th><td>1</td><td>rs12184277   </td><td>715367</td><td>A </td><td>G</td><td>135829</td><td>0.964459</td><td> 0.00326852</td><td>0.00987841</td><td>0.740739</td><td>0.936044</td></tr>\n",
       "</tbody>\n",
       "</table>\n"
      ],
      "text/latex": [
       "A data.frame: 6 × 11\n",
       "\\begin{tabular}{r|lllllllllll}\n",
       "  & CHR & SNP & POS & A1 & A2 & N & AF1 & BETA & SE & P & INFO\\\\\n",
       "  & <int> & <fct> & <int> & <fct> & <fct> & <int> & <dbl> & <dbl> & <dbl> & <dbl> & <dbl>\\\\\n",
       "\\hline\n",
       "\t1 & 1 & 1:692794\\_CA\\_C & 692794 & CA & C & 135829 & 0.888284 & -0.00924490 & 0.00608260 & 0.128538 & 0.827370\\\\\n",
       "\t2 & 1 & rs12238997    & 693731 & A  & G & 135829 & 0.883261 & -0.00425031 & 0.00575698 & 0.460339 & 0.882547\\\\\n",
       "\t3 & 1 & rs371890604   & 707522 & G  & C & 135829 & 0.901952 & -0.00915078 & 0.00647343 & 0.157482 & 0.813483\\\\\n",
       "\t4 & 1 & rs149887893   & 714596 & T  & C & 135829 & 0.968106 &  0.00414519 & 0.01091840 & 0.704205 & 0.849730\\\\\n",
       "\t5 & 1 & rs12184267    & 715265 & C  & T & 135829 & 0.964543 &  0.00322700 & 0.00991155 & 0.744742 & 0.931906\\\\\n",
       "\t6 & 1 & rs12184277    & 715367 & A  & G & 135829 & 0.964459 &  0.00326852 & 0.00987841 & 0.740739 & 0.936044\\\\\n",
       "\\end{tabular}\n"
      ],
      "text/markdown": [
       "\n",
       "A data.frame: 6 × 11\n",
       "\n",
       "| <!--/--> | CHR &lt;int&gt; | SNP &lt;fct&gt; | POS &lt;int&gt; | A1 &lt;fct&gt; | A2 &lt;fct&gt; | N &lt;int&gt; | AF1 &lt;dbl&gt; | BETA &lt;dbl&gt; | SE &lt;dbl&gt; | P &lt;dbl&gt; | INFO &lt;dbl&gt; |\n",
       "|---|---|---|---|---|---|---|---|---|---|---|---|\n",
       "| 1 | 1 | 1:692794_CA_C | 692794 | CA | C | 135829 | 0.888284 | -0.00924490 | 0.00608260 | 0.128538 | 0.827370 |\n",
       "| 2 | 1 | rs12238997    | 693731 | A  | G | 135829 | 0.883261 | -0.00425031 | 0.00575698 | 0.460339 | 0.882547 |\n",
       "| 3 | 1 | rs371890604   | 707522 | G  | C | 135829 | 0.901952 | -0.00915078 | 0.00647343 | 0.157482 | 0.813483 |\n",
       "| 4 | 1 | rs149887893   | 714596 | T  | C | 135829 | 0.968106 |  0.00414519 | 0.01091840 | 0.704205 | 0.849730 |\n",
       "| 5 | 1 | rs12184267    | 715265 | C  | T | 135829 | 0.964543 |  0.00322700 | 0.00991155 | 0.744742 | 0.931906 |\n",
       "| 6 | 1 | rs12184277    | 715367 | A  | G | 135829 | 0.964459 |  0.00326852 | 0.00987841 | 0.740739 | 0.936044 |\n",
       "\n"
      ],
      "text/plain": [
       "  CHR SNP           POS    A1 A2 N      AF1      BETA        SE        \n",
       "1 1   1:692794_CA_C 692794 CA C  135829 0.888284 -0.00924490 0.00608260\n",
       "2 1   rs12238997    693731 A  G  135829 0.883261 -0.00425031 0.00575698\n",
       "3 1   rs371890604   707522 G  C  135829 0.901952 -0.00915078 0.00647343\n",
       "4 1   rs149887893   714596 T  C  135829 0.968106  0.00414519 0.01091840\n",
       "5 1   rs12184267    715265 C  T  135829 0.964543  0.00322700 0.00991155\n",
       "6 1   rs12184277    715367 A  G  135829 0.964459  0.00326852 0.00987841\n",
       "  P        INFO    \n",
       "1 0.128538 0.827370\n",
       "2 0.460339 0.882547\n",
       "3 0.157482 0.813483\n",
       "4 0.704205 0.849730\n",
       "5 0.744742 0.931906\n",
       "6 0.740739 0.936044"
      ]
     },
     "metadata": {},
     "output_type": "display_data"
    }
   ],
   "source": [
    "# Clean workspace\n",
    "rm(list=ls())\n",
    "setwd('/gpfs/gibbs/pi/dewan/data/UKBiobank/results/FastGWA_results/results_imputed_data/srt_int_worst')\n",
    "# Import the sumstats file as dataframe\n",
    "data <- read.table(gzfile('200904_UKBB_SRT_int_worst_cc_srt_int_worst.fastGWA.snp_stats_original_columns.gz'), header=T)\n",
    "head(data)"
   ]
  },
  {
   "cell_type": "code",
   "execution_count": 36,
   "metadata": {},
   "outputs": [
    {
     "data": {
      "text/html": [
       "<table>\n",
       "<caption>A data.frame: 6 × 3</caption>\n",
       "<thead>\n",
       "\t<tr><th></th><th scope=col>chr</th><th scope=col>pos</th><th scope=col>snp</th></tr>\n",
       "\t<tr><th></th><th scope=col>&lt;int&gt;</th><th scope=col>&lt;int&gt;</th><th scope=col>&lt;chr&gt;</th></tr>\n",
       "</thead>\n",
       "<tbody>\n",
       "\t<tr><th scope=row>1</th><td>1</td><td>26489360</td><td>rs183594486</td></tr>\n",
       "\t<tr><th scope=row>2</th><td>1</td><td>26560636</td><td>rs565353716</td></tr>\n",
       "\t<tr><th scope=row>3</th><td>1</td><td>26597672</td><td>rs189266207</td></tr>\n",
       "\t<tr><th scope=row>4</th><td>1</td><td>26659329</td><td>rs571629135</td></tr>\n",
       "\t<tr><th scope=row>5</th><td>1</td><td>26673095</td><td>rs181557677</td></tr>\n",
       "\t<tr><th scope=row>6</th><td>1</td><td>26722812</td><td>rs558456184</td></tr>\n",
       "</tbody>\n",
       "</table>\n"
      ],
      "text/latex": [
       "A data.frame: 6 × 3\n",
       "\\begin{tabular}{r|lll}\n",
       "  & chr & pos & snp\\\\\n",
       "  & <int> & <int> & <chr>\\\\\n",
       "\\hline\n",
       "\t1 & 1 & 26489360 & rs183594486\\\\\n",
       "\t2 & 1 & 26560636 & rs565353716\\\\\n",
       "\t3 & 1 & 26597672 & rs189266207\\\\\n",
       "\t4 & 1 & 26659329 & rs571629135\\\\\n",
       "\t5 & 1 & 26673095 & rs181557677\\\\\n",
       "\t6 & 1 & 26722812 & rs558456184\\\\\n",
       "\\end{tabular}\n"
      ],
      "text/markdown": [
       "\n",
       "A data.frame: 6 × 3\n",
       "\n",
       "| <!--/--> | chr &lt;int&gt; | pos &lt;int&gt; | snp &lt;chr&gt; |\n",
       "|---|---|---|---|\n",
       "| 1 | 1 | 26489360 | rs183594486 |\n",
       "| 2 | 1 | 26560636 | rs565353716 |\n",
       "| 3 | 1 | 26597672 | rs189266207 |\n",
       "| 4 | 1 | 26659329 | rs571629135 |\n",
       "| 5 | 1 | 26673095 | rs181557677 |\n",
       "| 6 | 1 | 26722812 | rs558456184 |\n",
       "\n"
      ],
      "text/plain": [
       "  chr pos      snp        \n",
       "1 1   26489360 rs183594486\n",
       "2 1   26560636 rs565353716\n",
       "3 1   26597672 rs189266207\n",
       "4 1   26659329 rs571629135\n",
       "5 1   26673095 rs181557677\n",
       "6 1   26722812 rs558456184"
      ]
     },
     "metadata": {},
     "output_type": "display_data"
    }
   ],
   "source": [
    "# Filter SNPs with p-val <5e-06\n",
    "# Subset data to obtain only chr, pos and snp for gene mapping\n",
    "sig.p <- data %>%\n",
    "    filter(P < 1e-5) %>%\n",
    "    mutate(chr = CHR,\n",
    "        pos = POS,\n",
    "        snp = as.character(SNP)) %>%\n",
    "      select(chr, pos, snp)\n",
    "head(sig.p)"
   ]
  },
  {
   "cell_type": "code",
   "execution_count": 37,
   "metadata": {},
   "outputs": [],
   "source": [
    "# Get the annotation of SNPs with different genome assemblies\n",
    "snpMapAnn37<- getSNPMap(sig.p$snp, GRCh=37)"
   ]
  },
  {
   "cell_type": "code",
   "execution_count": 38,
   "metadata": {},
   "outputs": [
    {
     "data": {
      "text/html": [
       "<table>\n",
       "<caption>A data.frame: 6 × 3</caption>\n",
       "<thead>\n",
       "\t<tr><th></th><th scope=col>chr</th><th scope=col>pos</th><th scope=col>snp</th></tr>\n",
       "\t<tr><th></th><th scope=col>&lt;chr&gt;</th><th scope=col>&lt;int&gt;</th><th scope=col>&lt;chr&gt;</th></tr>\n",
       "</thead>\n",
       "<tbody>\n",
       "\t<tr><th scope=row>1</th><td>4</td><td>88770819</td><td>rs10017912</td></tr>\n",
       "\t<tr><th scope=row>2</th><td>4</td><td>88770890</td><td>rs10018094</td></tr>\n",
       "\t<tr><th scope=row>3</th><td>4</td><td>88771879</td><td>rs10021236</td></tr>\n",
       "\t<tr><th scope=row>4</th><td>4</td><td>88772779</td><td>rs10024086</td></tr>\n",
       "\t<tr><th scope=row>5</th><td>4</td><td>88804039</td><td>rs10222708</td></tr>\n",
       "\t<tr><th scope=row>6</th><td>4</td><td>88804315</td><td>rs10222816</td></tr>\n",
       "</tbody>\n",
       "</table>\n"
      ],
      "text/latex": [
       "A data.frame: 6 × 3\n",
       "\\begin{tabular}{r|lll}\n",
       "  & chr & pos & snp\\\\\n",
       "  & <chr> & <int> & <chr>\\\\\n",
       "\\hline\n",
       "\t1 & 4 & 88770819 & rs10017912\\\\\n",
       "\t2 & 4 & 88770890 & rs10018094\\\\\n",
       "\t3 & 4 & 88771879 & rs10021236\\\\\n",
       "\t4 & 4 & 88772779 & rs10024086\\\\\n",
       "\t5 & 4 & 88804039 & rs10222708\\\\\n",
       "\t6 & 4 & 88804315 & rs10222816\\\\\n",
       "\\end{tabular}\n"
      ],
      "text/markdown": [
       "\n",
       "A data.frame: 6 × 3\n",
       "\n",
       "| <!--/--> | chr &lt;chr&gt; | pos &lt;int&gt; | snp &lt;chr&gt; |\n",
       "|---|---|---|---|\n",
       "| 1 | 4 | 88770819 | rs10017912 |\n",
       "| 2 | 4 | 88770890 | rs10018094 |\n",
       "| 3 | 4 | 88771879 | rs10021236 |\n",
       "| 4 | 4 | 88772779 | rs10024086 |\n",
       "| 5 | 4 | 88804039 | rs10222708 |\n",
       "| 6 | 4 | 88804315 | rs10222816 |\n",
       "\n"
      ],
      "text/plain": [
       "  chr pos      snp       \n",
       "1 4   88770819 rs10017912\n",
       "2 4   88770890 rs10018094\n",
       "3 4   88771879 rs10021236\n",
       "4 4   88772779 rs10024086\n",
       "5 4   88804039 rs10222708\n",
       "6 4   88804315 rs10222816"
      ]
     },
     "metadata": {},
     "output_type": "display_data"
    },
    {
     "data": {
      "text/html": [
       "56"
      ],
      "text/latex": [
       "56"
      ],
      "text/markdown": [
       "56"
      ],
      "text/plain": [
       "[1] 56"
      ]
     },
     "metadata": {},
     "output_type": "display_data"
    }
   ],
   "source": [
    "head(snpMapAnn37$rsid_map)\n",
    "length(snpMapAnn37$other)"
   ]
  },
  {
   "cell_type": "code",
   "execution_count": 39,
   "metadata": {},
   "outputs": [
    {
     "name": "stdout",
     "output_type": "stream",
     "text": [
      "The unique number of genes is 41 \n",
      "The number of variants that could not be mapped to a gene is: 142 \n"
     ]
    }
   ],
   "source": [
    "# Mapping SNPs to genes (define gene boundary ‘up’ for the upstream region and ‘down’ for the downstream region with default value of 2,000 bp for both)\n",
    "snpGeneMapAnn<- snp2Gene(snpMapAnn37$rsid_map$snp)\n",
    "cat(\"The unique number of genes is\",length(unique(snpGeneMapAnn$map$gene_id)),\"\\n\")\n",
    "cat(\"The number of variants that could not be mapped to a gene is:\",length(snpGeneMapAnn$other),\"\\n\")"
   ]
  },
  {
   "cell_type": "code",
   "execution_count": 40,
   "metadata": {},
   "outputs": [
    {
     "data": {
      "text/html": [
       "<table>\n",
       "<caption>A data.frame: 6 × 6</caption>\n",
       "<thead>\n",
       "\t<tr><th></th><th scope=col>chr</th><th scope=col>start</th><th scope=col>end</th><th scope=col>strand</th><th scope=col>gene_name</th><th scope=col>gene_id</th></tr>\n",
       "\t<tr><th></th><th scope=col>&lt;chr&gt;</th><th scope=col>&lt;int&gt;</th><th scope=col>&lt;int&gt;</th><th scope=col>&lt;chr&gt;</th><th scope=col>&lt;chr&gt;</th><th scope=col>&lt;int&gt;</th></tr>\n",
       "</thead>\n",
       "<tbody>\n",
       "\t<tr><th scope=row>1</th><td>22</td><td> 23522402</td><td> 23660224</td><td>+</td><td>BCR     </td><td> 613</td></tr>\n",
       "\t<tr><th scope=row>2</th><td>10</td><td>126676418</td><td>126849624</td><td>-</td><td>CTBP2   </td><td>1488</td></tr>\n",
       "\t<tr><th scope=row>3</th><td>11</td><td> 57520756</td><td> 57586652</td><td>+</td><td>CTNND1  </td><td>1500</td></tr>\n",
       "\t<tr><th scope=row>4</th><td>6 </td><td> 32605169</td><td> 32612152</td><td>+</td><td>HLA-DQA1</td><td>3117</td></tr>\n",
       "\t<tr><th scope=row>5</th><td>2 </td><td>183004762</td><td>183387572</td><td>-</td><td>PDE1A   </td><td>5136</td></tr>\n",
       "\t<tr><th scope=row>6</th><td>22</td><td> 19744226</td><td> 19771116</td><td>+</td><td>TBX1    </td><td>6899</td></tr>\n",
       "</tbody>\n",
       "</table>\n"
      ],
      "text/latex": [
       "A data.frame: 6 × 6\n",
       "\\begin{tabular}{r|llllll}\n",
       "  & chr & start & end & strand & gene\\_name & gene\\_id\\\\\n",
       "  & <chr> & <int> & <int> & <chr> & <chr> & <int>\\\\\n",
       "\\hline\n",
       "\t1 & 22 &  23522402 &  23660224 & + & BCR      &  613\\\\\n",
       "\t2 & 10 & 126676418 & 126849624 & - & CTBP2    & 1488\\\\\n",
       "\t3 & 11 &  57520756 &  57586652 & + & CTNND1   & 1500\\\\\n",
       "\t4 & 6  &  32605169 &  32612152 & + & HLA-DQA1 & 3117\\\\\n",
       "\t5 & 2  & 183004762 & 183387572 & - & PDE1A    & 5136\\\\\n",
       "\t6 & 22 &  19744226 &  19771116 & + & TBX1     & 6899\\\\\n",
       "\\end{tabular}\n"
      ],
      "text/markdown": [
       "\n",
       "A data.frame: 6 × 6\n",
       "\n",
       "| <!--/--> | chr &lt;chr&gt; | start &lt;int&gt; | end &lt;int&gt; | strand &lt;chr&gt; | gene_name &lt;chr&gt; | gene_id &lt;int&gt; |\n",
       "|---|---|---|---|---|---|---|\n",
       "| 1 | 22 |  23522402 |  23660224 | + | BCR      |  613 |\n",
       "| 2 | 10 | 126676418 | 126849624 | - | CTBP2    | 1488 |\n",
       "| 3 | 11 |  57520756 |  57586652 | + | CTNND1   | 1500 |\n",
       "| 4 | 6  |  32605169 |  32612152 | + | HLA-DQA1 | 3117 |\n",
       "| 5 | 2  | 183004762 | 183387572 | - | PDE1A    | 5136 |\n",
       "| 6 | 22 |  19744226 |  19771116 | + | TBX1     | 6899 |\n",
       "\n"
      ],
      "text/plain": [
       "  chr start     end       strand gene_name gene_id\n",
       "1 22   23522402  23660224 +      BCR        613   \n",
       "2 10  126676418 126849624 -      CTBP2     1488   \n",
       "3 11   57520756  57586652 +      CTNND1    1500   \n",
       "4 6    32605169  32612152 +      HLA-DQA1  3117   \n",
       "5 2   183004762 183387572 -      PDE1A     5136   \n",
       "6 22   19744226  19771116 +      TBX1      6899   "
      ]
     },
     "metadata": {},
     "output_type": "display_data"
    }
   ],
   "source": [
    "#Get the gene-name and gene-id for the mapped variants\n",
    "gene_mapped <- getGeneMap(snpGeneMapAnn$map$gene_id)$gene_map\n",
    "head(gene_mapped)"
   ]
  },
  {
   "cell_type": "code",
   "execution_count": 41,
   "metadata": {},
   "outputs": [
    {
     "data": {
      "text/html": [
       "<table>\n",
       "<caption>A data.frame: 6 × 4</caption>\n",
       "<thead>\n",
       "\t<tr><th></th><th scope=col>snp</th><th scope=col>chr</th><th scope=col>pos</th><th scope=col>gene_id</th></tr>\n",
       "\t<tr><th></th><th scope=col>&lt;chr&gt;</th><th scope=col>&lt;chr&gt;</th><th scope=col>&lt;int&gt;</th><th scope=col>&lt;int&gt;</th></tr>\n",
       "</thead>\n",
       "<tbody>\n",
       "\t<tr><th scope=row>1</th><td>rs10017912</td><td>4</td><td>88770819</td><td>NA</td></tr>\n",
       "\t<tr><th scope=row>2</th><td>rs10018094</td><td>4</td><td>88770890</td><td>NA</td></tr>\n",
       "\t<tr><th scope=row>3</th><td>rs10021236</td><td>4</td><td>88771879</td><td>NA</td></tr>\n",
       "\t<tr><th scope=row>4</th><td>rs10024086</td><td>4</td><td>88772779</td><td>NA</td></tr>\n",
       "\t<tr><th scope=row>5</th><td>rs10222708</td><td>4</td><td>88804039</td><td>NA</td></tr>\n",
       "\t<tr><th scope=row>6</th><td>rs10222816</td><td>4</td><td>88804315</td><td>NA</td></tr>\n",
       "</tbody>\n",
       "</table>\n"
      ],
      "text/latex": [
       "A data.frame: 6 × 4\n",
       "\\begin{tabular}{r|llll}\n",
       "  & snp & chr & pos & gene\\_id\\\\\n",
       "  & <chr> & <chr> & <int> & <int>\\\\\n",
       "\\hline\n",
       "\t1 & rs10017912 & 4 & 88770819 & NA\\\\\n",
       "\t2 & rs10018094 & 4 & 88770890 & NA\\\\\n",
       "\t3 & rs10021236 & 4 & 88771879 & NA\\\\\n",
       "\t4 & rs10024086 & 4 & 88772779 & NA\\\\\n",
       "\t5 & rs10222708 & 4 & 88804039 & NA\\\\\n",
       "\t6 & rs10222816 & 4 & 88804315 & NA\\\\\n",
       "\\end{tabular}\n"
      ],
      "text/markdown": [
       "\n",
       "A data.frame: 6 × 4\n",
       "\n",
       "| <!--/--> | snp &lt;chr&gt; | chr &lt;chr&gt; | pos &lt;int&gt; | gene_id &lt;int&gt; |\n",
       "|---|---|---|---|---|\n",
       "| 1 | rs10017912 | 4 | 88770819 | NA |\n",
       "| 2 | rs10018094 | 4 | 88770890 | NA |\n",
       "| 3 | rs10021236 | 4 | 88771879 | NA |\n",
       "| 4 | rs10024086 | 4 | 88772779 | NA |\n",
       "| 5 | rs10222708 | 4 | 88804039 | NA |\n",
       "| 6 | rs10222816 | 4 | 88804315 | NA |\n",
       "\n"
      ],
      "text/plain": [
       "  snp        chr pos      gene_id\n",
       "1 rs10017912 4   88770819 NA     \n",
       "2 rs10018094 4   88770890 NA     \n",
       "3 rs10021236 4   88771879 NA     \n",
       "4 rs10024086 4   88772779 NA     \n",
       "5 rs10222708 4   88804039 NA     \n",
       "6 rs10222816 4   88804315 NA     "
      ]
     },
     "metadata": {},
     "output_type": "display_data"
    }
   ],
   "source": [
    "# Merge the datasets\n",
    "snp_gene = merge(x = snpMapAnn37$rsid_map,y = snpGeneMapAnn$map[,c(\"snp\", \"gene_id\")],by=\"snp\", all.x=TRUE)\n",
    "head(snp_gene)"
   ]
  },
  {
   "cell_type": "code",
   "execution_count": 42,
   "metadata": {},
   "outputs": [
    {
     "data": {
      "text/html": [
       "<table>\n",
       "<caption>A data.frame: 6 × 5</caption>\n",
       "<thead>\n",
       "\t<tr><th></th><th scope=col>gene_id</th><th scope=col>snp</th><th scope=col>chr</th><th scope=col>pos</th><th scope=col>gene_name</th></tr>\n",
       "\t<tr><th></th><th scope=col>&lt;int&gt;</th><th scope=col>&lt;chr&gt;</th><th scope=col>&lt;chr&gt;</th><th scope=col>&lt;int&gt;</th><th scope=col>&lt;chr&gt;</th></tr>\n",
       "</thead>\n",
       "<tbody>\n",
       "\t<tr><th scope=row>1</th><td> 613</td><td>rs138263187</td><td>22</td><td> 23585867</td><td>BCR  </td></tr>\n",
       "\t<tr><th scope=row>2</th><td>1488</td><td>rs17711828 </td><td>10</td><td>126814086</td><td>CTBP2</td></tr>\n",
       "\t<tr><th scope=row>3</th><td>1488</td><td>rs17644414 </td><td>10</td><td>126822676</td><td>CTBP2</td></tr>\n",
       "\t<tr><th scope=row>4</th><td>1488</td><td>rs75979600 </td><td>10</td><td>126819764</td><td>CTBP2</td></tr>\n",
       "\t<tr><th scope=row>5</th><td>1488</td><td>rs10510140 </td><td>10</td><td>126816124</td><td>CTBP2</td></tr>\n",
       "\t<tr><th scope=row>6</th><td>1488</td><td>rs17644332 </td><td>10</td><td>126820093</td><td>CTBP2</td></tr>\n",
       "</tbody>\n",
       "</table>\n"
      ],
      "text/latex": [
       "A data.frame: 6 × 5\n",
       "\\begin{tabular}{r|lllll}\n",
       "  & gene\\_id & snp & chr & pos & gene\\_name\\\\\n",
       "  & <int> & <chr> & <chr> & <int> & <chr>\\\\\n",
       "\\hline\n",
       "\t1 &  613 & rs138263187 & 22 &  23585867 & BCR  \\\\\n",
       "\t2 & 1488 & rs17711828  & 10 & 126814086 & CTBP2\\\\\n",
       "\t3 & 1488 & rs17644414  & 10 & 126822676 & CTBP2\\\\\n",
       "\t4 & 1488 & rs75979600  & 10 & 126819764 & CTBP2\\\\\n",
       "\t5 & 1488 & rs10510140  & 10 & 126816124 & CTBP2\\\\\n",
       "\t6 & 1488 & rs17644332  & 10 & 126820093 & CTBP2\\\\\n",
       "\\end{tabular}\n"
      ],
      "text/markdown": [
       "\n",
       "A data.frame: 6 × 5\n",
       "\n",
       "| <!--/--> | gene_id &lt;int&gt; | snp &lt;chr&gt; | chr &lt;chr&gt; | pos &lt;int&gt; | gene_name &lt;chr&gt; |\n",
       "|---|---|---|---|---|---|\n",
       "| 1 |  613 | rs138263187 | 22 |  23585867 | BCR   |\n",
       "| 2 | 1488 | rs17711828  | 10 | 126814086 | CTBP2 |\n",
       "| 3 | 1488 | rs17644414  | 10 | 126822676 | CTBP2 |\n",
       "| 4 | 1488 | rs75979600  | 10 | 126819764 | CTBP2 |\n",
       "| 5 | 1488 | rs10510140  | 10 | 126816124 | CTBP2 |\n",
       "| 6 | 1488 | rs17644332  | 10 | 126820093 | CTBP2 |\n",
       "\n"
      ],
      "text/plain": [
       "  gene_id snp         chr pos       gene_name\n",
       "1  613    rs138263187 22   23585867 BCR      \n",
       "2 1488    rs17711828  10  126814086 CTBP2    \n",
       "3 1488    rs17644414  10  126822676 CTBP2    \n",
       "4 1488    rs75979600  10  126819764 CTBP2    \n",
       "5 1488    rs10510140  10  126816124 CTBP2    \n",
       "6 1488    rs17644332  10  126820093 CTBP2    "
      ]
     },
     "metadata": {},
     "output_type": "display_data"
    }
   ],
   "source": [
    "snp_gene_2 = merge(x = snp_gene,y = gene_mapped[,c(\"gene_id\", \"gene_name\")],by=\"gene_id\", all.x=TRUE)\n",
    "head(snp_gene_2)"
   ]
  },
  {
   "cell_type": "code",
   "execution_count": 43,
   "metadata": {},
   "outputs": [
    {
     "data": {
      "text/html": [
       "<table>\n",
       "<caption>A data.frame: 6 × 13</caption>\n",
       "<thead>\n",
       "\t<tr><th></th><th scope=col>SNP</th><th scope=col>gene_id</th><th scope=col>chr</th><th scope=col>pos</th><th scope=col>gene_name</th><th scope=col>A1</th><th scope=col>A2</th><th scope=col>N</th><th scope=col>AF1</th><th scope=col>P</th><th scope=col>BETA</th><th scope=col>SE</th><th scope=col>INFO</th></tr>\n",
       "\t<tr><th></th><th scope=col>&lt;chr&gt;</th><th scope=col>&lt;int&gt;</th><th scope=col>&lt;chr&gt;</th><th scope=col>&lt;int&gt;</th><th scope=col>&lt;chr&gt;</th><th scope=col>&lt;fct&gt;</th><th scope=col>&lt;fct&gt;</th><th scope=col>&lt;int&gt;</th><th scope=col>&lt;dbl&gt;</th><th scope=col>&lt;dbl&gt;</th><th scope=col>&lt;dbl&gt;</th><th scope=col>&lt;dbl&gt;</th><th scope=col>&lt;dbl&gt;</th></tr>\n",
       "</thead>\n",
       "<tbody>\n",
       "\t<tr><th scope=row>1</th><td>rs10017912</td><td>NA</td><td>4</td><td>88770819</td><td>NA</td><td>C</td><td>T</td><td>135829</td><td>0.687338</td><td>6.72998e-06</td><td>0.0169046</td><td>0.00375487</td><td>0.994450</td></tr>\n",
       "\t<tr><th scope=row>2</th><td>rs10018094</td><td>NA</td><td>4</td><td>88770890</td><td>NA</td><td>G</td><td>A</td><td>135829</td><td>0.686101</td><td>6.10159e-06</td><td>0.0169590</td><td>0.00374963</td><td>0.995276</td></tr>\n",
       "\t<tr><th scope=row>3</th><td>rs10021236</td><td>NA</td><td>4</td><td>88771879</td><td>NA</td><td>G</td><td>C</td><td>135829</td><td>0.691783</td><td>3.26023e-06</td><td>0.0175132</td><td>0.00376329</td><td>0.997103</td></tr>\n",
       "\t<tr><th scope=row>4</th><td>rs10024086</td><td>NA</td><td>4</td><td>88772779</td><td>NA</td><td>C</td><td>T</td><td>135829</td><td>0.694296</td><td>2.40336e-06</td><td>0.0178419</td><td>0.00378313</td><td>0.991256</td></tr>\n",
       "\t<tr><th scope=row>5</th><td>rs10222708</td><td>NA</td><td>4</td><td>88804039</td><td>NA</td><td>T</td><td>C</td><td>135829</td><td>0.690659</td><td>1.16324e-06</td><td>0.0182764</td><td>0.00375919</td><td>0.997218</td></tr>\n",
       "\t<tr><th scope=row>6</th><td>rs10222816</td><td>NA</td><td>4</td><td>88804315</td><td>NA</td><td>A</td><td>G</td><td>135829</td><td>0.691428</td><td>1.38434e-06</td><td>0.0181838</td><td>0.00376690</td><td>0.994396</td></tr>\n",
       "</tbody>\n",
       "</table>\n"
      ],
      "text/latex": [
       "A data.frame: 6 × 13\n",
       "\\begin{tabular}{r|lllllllllllll}\n",
       "  & SNP & gene\\_id & chr & pos & gene\\_name & A1 & A2 & N & AF1 & P & BETA & SE & INFO\\\\\n",
       "  & <chr> & <int> & <chr> & <int> & <chr> & <fct> & <fct> & <int> & <dbl> & <dbl> & <dbl> & <dbl> & <dbl>\\\\\n",
       "\\hline\n",
       "\t1 & rs10017912 & NA & 4 & 88770819 & NA & C & T & 135829 & 0.687338 & 6.72998e-06 & 0.0169046 & 0.00375487 & 0.994450\\\\\n",
       "\t2 & rs10018094 & NA & 4 & 88770890 & NA & G & A & 135829 & 0.686101 & 6.10159e-06 & 0.0169590 & 0.00374963 & 0.995276\\\\\n",
       "\t3 & rs10021236 & NA & 4 & 88771879 & NA & G & C & 135829 & 0.691783 & 3.26023e-06 & 0.0175132 & 0.00376329 & 0.997103\\\\\n",
       "\t4 & rs10024086 & NA & 4 & 88772779 & NA & C & T & 135829 & 0.694296 & 2.40336e-06 & 0.0178419 & 0.00378313 & 0.991256\\\\\n",
       "\t5 & rs10222708 & NA & 4 & 88804039 & NA & T & C & 135829 & 0.690659 & 1.16324e-06 & 0.0182764 & 0.00375919 & 0.997218\\\\\n",
       "\t6 & rs10222816 & NA & 4 & 88804315 & NA & A & G & 135829 & 0.691428 & 1.38434e-06 & 0.0181838 & 0.00376690 & 0.994396\\\\\n",
       "\\end{tabular}\n"
      ],
      "text/markdown": [
       "\n",
       "A data.frame: 6 × 13\n",
       "\n",
       "| <!--/--> | SNP &lt;chr&gt; | gene_id &lt;int&gt; | chr &lt;chr&gt; | pos &lt;int&gt; | gene_name &lt;chr&gt; | A1 &lt;fct&gt; | A2 &lt;fct&gt; | N &lt;int&gt; | AF1 &lt;dbl&gt; | P &lt;dbl&gt; | BETA &lt;dbl&gt; | SE &lt;dbl&gt; | INFO &lt;dbl&gt; |\n",
       "|---|---|---|---|---|---|---|---|---|---|---|---|---|---|\n",
       "| 1 | rs10017912 | NA | 4 | 88770819 | NA | C | T | 135829 | 0.687338 | 6.72998e-06 | 0.0169046 | 0.00375487 | 0.994450 |\n",
       "| 2 | rs10018094 | NA | 4 | 88770890 | NA | G | A | 135829 | 0.686101 | 6.10159e-06 | 0.0169590 | 0.00374963 | 0.995276 |\n",
       "| 3 | rs10021236 | NA | 4 | 88771879 | NA | G | C | 135829 | 0.691783 | 3.26023e-06 | 0.0175132 | 0.00376329 | 0.997103 |\n",
       "| 4 | rs10024086 | NA | 4 | 88772779 | NA | C | T | 135829 | 0.694296 | 2.40336e-06 | 0.0178419 | 0.00378313 | 0.991256 |\n",
       "| 5 | rs10222708 | NA | 4 | 88804039 | NA | T | C | 135829 | 0.690659 | 1.16324e-06 | 0.0182764 | 0.00375919 | 0.997218 |\n",
       "| 6 | rs10222816 | NA | 4 | 88804315 | NA | A | G | 135829 | 0.691428 | 1.38434e-06 | 0.0181838 | 0.00376690 | 0.994396 |\n",
       "\n"
      ],
      "text/plain": [
       "  SNP        gene_id chr pos      gene_name A1 A2 N      AF1      P          \n",
       "1 rs10017912 NA      4   88770819 NA        C  T  135829 0.687338 6.72998e-06\n",
       "2 rs10018094 NA      4   88770890 NA        G  A  135829 0.686101 6.10159e-06\n",
       "3 rs10021236 NA      4   88771879 NA        G  C  135829 0.691783 3.26023e-06\n",
       "4 rs10024086 NA      4   88772779 NA        C  T  135829 0.694296 2.40336e-06\n",
       "5 rs10222708 NA      4   88804039 NA        T  C  135829 0.690659 1.16324e-06\n",
       "6 rs10222816 NA      4   88804315 NA        A  G  135829 0.691428 1.38434e-06\n",
       "  BETA      SE         INFO    \n",
       "1 0.0169046 0.00375487 0.994450\n",
       "2 0.0169590 0.00374963 0.995276\n",
       "3 0.0175132 0.00376329 0.997103\n",
       "4 0.0178419 0.00378313 0.991256\n",
       "5 0.0182764 0.00375919 0.997218\n",
       "6 0.0181838 0.00376690 0.994396"
      ]
     },
     "metadata": {},
     "output_type": "display_data"
    }
   ],
   "source": [
    "names(snp_gene_2)[names(snp_gene_2) == 'snp'] <- 'SNP'\n",
    "snp_gene_3 = merge(x = snp_gene_2, y = data[,c(\"A1\", \"A2\", \"N\", \"AF1\",\"P\",\"BETA\", \"SE\", \"INFO\",\"SNP\")],by=\"SNP\", all.x=TRUE)\n",
    "head(snp_gene_3)"
   ]
  },
  {
   "cell_type": "code",
   "execution_count": 44,
   "metadata": {},
   "outputs": [
    {
     "data": {
      "text/html": [
       "<table>\n",
       "<caption>A data.frame: 6 × 13</caption>\n",
       "<thead>\n",
       "\t<tr><th></th><th scope=col>CHR</th><th scope=col>SNP</th><th scope=col>POS</th><th scope=col>A1</th><th scope=col>A2</th><th scope=col>N</th><th scope=col>AF1</th><th scope=col>BETA</th><th scope=col>SE</th><th scope=col>P</th><th scope=col>INFO</th><th scope=col>gene_id</th><th scope=col>gene_name</th></tr>\n",
       "\t<tr><th></th><th scope=col>&lt;chr&gt;</th><th scope=col>&lt;chr&gt;</th><th scope=col>&lt;int&gt;</th><th scope=col>&lt;fct&gt;</th><th scope=col>&lt;fct&gt;</th><th scope=col>&lt;int&gt;</th><th scope=col>&lt;dbl&gt;</th><th scope=col>&lt;dbl&gt;</th><th scope=col>&lt;dbl&gt;</th><th scope=col>&lt;dbl&gt;</th><th scope=col>&lt;dbl&gt;</th><th scope=col>&lt;int&gt;</th><th scope=col>&lt;chr&gt;</th></tr>\n",
       "</thead>\n",
       "<tbody>\n",
       "\t<tr><th scope=row>1</th><td>11</td><td>rs150558458</td><td> 95313570</td><td>G</td><td>T    </td><td>135829</td><td>0.955400</td><td>-0.0445585</td><td>0.00859721</td><td>2.18453e-07</td><td>0.959707</td><td>   NA</td><td>NA   </td></tr>\n",
       "\t<tr><th scope=row>2</th><td>6 </td><td>rs79251081 </td><td> 13999543</td><td>G</td><td>T    </td><td>135829</td><td>0.983423</td><td>-0.0708902</td><td>0.01382850</td><td>2.95346e-07</td><td>0.965011</td><td>   NA</td><td>NA   </td></tr>\n",
       "\t<tr><th scope=row>3</th><td>22</td><td>rs1978060  </td><td> 19749525</td><td>A</td><td>G    </td><td>135829</td><td>0.383189</td><td> 0.0185151</td><td>0.00362548</td><td>3.27433e-07</td><td>0.971673</td><td> 6899</td><td>TBX1 </td></tr>\n",
       "\t<tr><th scope=row>4</th><td>22</td><td>rs200354114</td><td> 19764608</td><td>T</td><td>TGTAA</td><td>135829</td><td>0.621157</td><td>-0.0186359</td><td>0.00365535</td><td>3.42804e-07</td><td>0.961533</td><td> 6899</td><td>TBX1 </td></tr>\n",
       "\t<tr><th scope=row>5</th><td>1 </td><td>rs181557677</td><td> 26673095</td><td>G</td><td>A    </td><td>135829</td><td>0.986702</td><td>-0.0791200</td><td>0.01557210</td><td>3.75704e-07</td><td>0.945189</td><td>55057</td><td>AIM1L</td></tr>\n",
       "\t<tr><th scope=row>6</th><td>3 </td><td>rs148779301</td><td>153007429</td><td>G</td><td>A    </td><td>135829</td><td>0.988620</td><td>-0.0840440</td><td>0.01667750</td><td>4.67093e-07</td><td>0.966573</td><td>   NA</td><td>NA   </td></tr>\n",
       "</tbody>\n",
       "</table>\n"
      ],
      "text/latex": [
       "A data.frame: 6 × 13\n",
       "\\begin{tabular}{r|lllllllllllll}\n",
       "  & CHR & SNP & POS & A1 & A2 & N & AF1 & BETA & SE & P & INFO & gene\\_id & gene\\_name\\\\\n",
       "  & <chr> & <chr> & <int> & <fct> & <fct> & <int> & <dbl> & <dbl> & <dbl> & <dbl> & <dbl> & <int> & <chr>\\\\\n",
       "\\hline\n",
       "\t1 & 11 & rs150558458 &  95313570 & G & T     & 135829 & 0.955400 & -0.0445585 & 0.00859721 & 2.18453e-07 & 0.959707 &    NA & NA   \\\\\n",
       "\t2 & 6  & rs79251081  &  13999543 & G & T     & 135829 & 0.983423 & -0.0708902 & 0.01382850 & 2.95346e-07 & 0.965011 &    NA & NA   \\\\\n",
       "\t3 & 22 & rs1978060   &  19749525 & A & G     & 135829 & 0.383189 &  0.0185151 & 0.00362548 & 3.27433e-07 & 0.971673 &  6899 & TBX1 \\\\\n",
       "\t4 & 22 & rs200354114 &  19764608 & T & TGTAA & 135829 & 0.621157 & -0.0186359 & 0.00365535 & 3.42804e-07 & 0.961533 &  6899 & TBX1 \\\\\n",
       "\t5 & 1  & rs181557677 &  26673095 & G & A     & 135829 & 0.986702 & -0.0791200 & 0.01557210 & 3.75704e-07 & 0.945189 & 55057 & AIM1L\\\\\n",
       "\t6 & 3  & rs148779301 & 153007429 & G & A     & 135829 & 0.988620 & -0.0840440 & 0.01667750 & 4.67093e-07 & 0.966573 &    NA & NA   \\\\\n",
       "\\end{tabular}\n"
      ],
      "text/markdown": [
       "\n",
       "A data.frame: 6 × 13\n",
       "\n",
       "| <!--/--> | CHR &lt;chr&gt; | SNP &lt;chr&gt; | POS &lt;int&gt; | A1 &lt;fct&gt; | A2 &lt;fct&gt; | N &lt;int&gt; | AF1 &lt;dbl&gt; | BETA &lt;dbl&gt; | SE &lt;dbl&gt; | P &lt;dbl&gt; | INFO &lt;dbl&gt; | gene_id &lt;int&gt; | gene_name &lt;chr&gt; |\n",
       "|---|---|---|---|---|---|---|---|---|---|---|---|---|---|\n",
       "| 1 | 11 | rs150558458 |  95313570 | G | T     | 135829 | 0.955400 | -0.0445585 | 0.00859721 | 2.18453e-07 | 0.959707 |    NA | NA    |\n",
       "| 2 | 6  | rs79251081  |  13999543 | G | T     | 135829 | 0.983423 | -0.0708902 | 0.01382850 | 2.95346e-07 | 0.965011 |    NA | NA    |\n",
       "| 3 | 22 | rs1978060   |  19749525 | A | G     | 135829 | 0.383189 |  0.0185151 | 0.00362548 | 3.27433e-07 | 0.971673 |  6899 | TBX1  |\n",
       "| 4 | 22 | rs200354114 |  19764608 | T | TGTAA | 135829 | 0.621157 | -0.0186359 | 0.00365535 | 3.42804e-07 | 0.961533 |  6899 | TBX1  |\n",
       "| 5 | 1  | rs181557677 |  26673095 | G | A     | 135829 | 0.986702 | -0.0791200 | 0.01557210 | 3.75704e-07 | 0.945189 | 55057 | AIM1L |\n",
       "| 6 | 3  | rs148779301 | 153007429 | G | A     | 135829 | 0.988620 | -0.0840440 | 0.01667750 | 4.67093e-07 | 0.966573 |    NA | NA    |\n",
       "\n"
      ],
      "text/plain": [
       "  CHR SNP         POS       A1 A2    N      AF1      BETA       SE        \n",
       "1 11  rs150558458  95313570 G  T     135829 0.955400 -0.0445585 0.00859721\n",
       "2 6   rs79251081   13999543 G  T     135829 0.983423 -0.0708902 0.01382850\n",
       "3 22  rs1978060    19749525 A  G     135829 0.383189  0.0185151 0.00362548\n",
       "4 22  rs200354114  19764608 T  TGTAA 135829 0.621157 -0.0186359 0.00365535\n",
       "5 1   rs181557677  26673095 G  A     135829 0.986702 -0.0791200 0.01557210\n",
       "6 3   rs148779301 153007429 G  A     135829 0.988620 -0.0840440 0.01667750\n",
       "  P           INFO     gene_id gene_name\n",
       "1 2.18453e-07 0.959707    NA   NA       \n",
       "2 2.95346e-07 0.965011    NA   NA       \n",
       "3 3.27433e-07 0.971673  6899   TBX1     \n",
       "4 3.42804e-07 0.961533  6899   TBX1     \n",
       "5 3.75704e-07 0.945189 55057   AIM1L    \n",
       "6 4.67093e-07 0.966573    NA   NA       "
      ]
     },
     "metadata": {},
     "output_type": "display_data"
    },
    {
     "data": {
      "text/html": [
       "<style>\n",
       ".list-inline {list-style: none; margin:0; padding: 0}\n",
       ".list-inline>li {display: inline-block}\n",
       ".list-inline>li:not(:last-child)::after {content: \"\\00b7\"; padding: 0 .5ex}\n",
       "</style>\n",
       "<ol class=list-inline><li>270</li><li>13</li></ol>\n"
      ],
      "text/latex": [
       "\\begin{enumerate*}\n",
       "\\item 270\n",
       "\\item 13\n",
       "\\end{enumerate*}\n"
      ],
      "text/markdown": [
       "1. 270\n",
       "2. 13\n",
       "\n",
       "\n"
      ],
      "text/plain": [
       "[1] 270  13"
      ]
     },
     "metadata": {},
     "output_type": "display_data"
    }
   ],
   "source": [
    "# Get the final table with ordered pval\n",
    "final_gene_set <- snp_gene_3 %>%\n",
    "    select(chr, SNP, pos, A1, A2, N, AF1, BETA, SE, P, INFO, gene_id, gene_name) %>%\n",
    "    arrange(P)\n",
    "names(final_gene_set)[names(final_gene_set) == 'chr'] <- 'CHR'\n",
    "names(final_gene_set)[names(final_gene_set) == 'pos'] <- 'POS'\n",
    "head(final_gene_set)\n",
    "dim(final_gene_set)\n",
    "#select(CHR, SNP, POS, A1, A2, N, AF1, BETA, SE, P, INFO, gene_id, gene_name)"
   ]
  },
  {
   "cell_type": "code",
   "execution_count": 45,
   "metadata": {},
   "outputs": [],
   "source": [
    "# Write results to a table\n",
    "write.table(final_gene_set, '200904_UKBB_SRT_int_worst_cc_srt_int_worst.fastGWA.geneann', sep = \"\\t\", quote=FALSE, row.names=FALSE)"
   ]
  }
 ],
 "metadata": {
  "kernelspec": {
   "display_name": "R",
   "language": "R",
   "name": "ir"
  },
  "language_info": {
   "codemirror_mode": "r",
   "file_extension": ".r",
   "mimetype": "text/x-r-source",
   "name": "R",
   "pygments_lexer": "r",
   "version": "3.6.3"
  }
 },
 "nbformat": 4,
 "nbformat_minor": 4
}
