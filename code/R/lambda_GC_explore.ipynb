{
 "cells": [
  {
   "cell_type": "markdown",
   "id": "db4562d5-d2fb-45f2-8517-1440939361f7",
   "metadata": {},
   "source": [
    "# Lambda GC exploration"
   ]
  },
  {
   "cell_type": "code",
   "execution_count": 1,
   "id": "6253df2b-78cb-4601-bf1f-10c54cfb9f46",
   "metadata": {},
   "outputs": [],
   "source": [
    "data <- read.table(gzfile(\"~/UKBiobank/results/REGENIE_results/results_imputed_data/2021_10_13_f2257_300K/100521_UKBB_Hearing_noise_f2257_expandedwhite_95794cases_141007ctrl_300k_PC1_PC2_f2257.regenie.snp_stats_original_columns.gz\"), sep='\\t', header=T)"
   ]
  },
  {
   "cell_type": "code",
   "execution_count": 3,
   "id": "b93d0a05-e341-42bc-9f7a-b252fc55c323",
   "metadata": {},
   "outputs": [
    {
     "data": {
      "text/html": [
       "<table class=\"dataframe\">\n",
       "<caption>A data.frame: 6 x 14</caption>\n",
       "<thead>\n",
       "\t<tr><th></th><th scope=col>CHROM</th><th scope=col>GENPOS</th><th scope=col>ID</th><th scope=col>ALLELE0</th><th scope=col>ALLELE1</th><th scope=col>A1FREQ</th><th scope=col>INFO</th><th scope=col>N</th><th scope=col>TEST</th><th scope=col>BETA</th><th scope=col>SE</th><th scope=col>CHISQ</th><th scope=col>LOG10P</th><th scope=col>EXTRA</th></tr>\n",
       "\t<tr><th></th><th scope=col>&lt;int&gt;</th><th scope=col>&lt;int&gt;</th><th scope=col>&lt;fct&gt;</th><th scope=col>&lt;fct&gt;</th><th scope=col>&lt;fct&gt;</th><th scope=col>&lt;dbl&gt;</th><th scope=col>&lt;dbl&gt;</th><th scope=col>&lt;int&gt;</th><th scope=col>&lt;fct&gt;</th><th scope=col>&lt;dbl&gt;</th><th scope=col>&lt;dbl&gt;</th><th scope=col>&lt;dbl&gt;</th><th scope=col>&lt;dbl&gt;</th><th scope=col>&lt;lgl&gt;</th></tr>\n",
       "</thead>\n",
       "<tbody>\n",
       "\t<tr><th scope=row>1</th><td>1</td><td>13259</td><td>rs562993331</td><td>A</td><td>G</td><td>0.999763</td><td>0.838834</td><td>236801</td><td>ADD</td><td>-0.1158700</td><td>0.214576</td><td>0.2915960</td><td>0.229738</td><td>NA</td></tr>\n",
       "\t<tr><th scope=row>2</th><td>1</td><td>17569</td><td>rs535086049</td><td>A</td><td>C</td><td>0.999990</td><td>0.848208</td><td>236801</td><td>ADD</td><td>-0.3124920</td><td>1.012530</td><td>0.0952505</td><td>0.120557</td><td>NA</td></tr>\n",
       "\t<tr><th scope=row>3</th><td>1</td><td>17641</td><td>rs578081284</td><td>A</td><td>G</td><td>0.999187</td><td>0.853282</td><td>236801</td><td>ADD</td><td> 0.0363263</td><td>0.115344</td><td>0.0991857</td><td>0.123315</td><td>NA</td></tr>\n",
       "\t<tr><th scope=row>4</th><td>1</td><td>30741</td><td>rs558169846</td><td>A</td><td>C</td><td>0.999972</td><td>0.905336</td><td>236801</td><td>ADD</td><td> 0.2097840</td><td>0.616039</td><td>0.1159660</td><td>0.134629</td><td>NA</td></tr>\n",
       "\t<tr><th scope=row>5</th><td>1</td><td>57222</td><td>rs576081345</td><td>C</td><td>T</td><td>0.999394</td><td>0.836319</td><td>236801</td><td>ADD</td><td> 0.0391127</td><td>0.134304</td><td>0.0848117</td><td>0.113013</td><td>NA</td></tr>\n",
       "\t<tr><th scope=row>6</th><td>1</td><td>58396</td><td>rs570371753</td><td>C</td><td>T</td><td>0.999751</td><td>0.989304</td><td>236801</td><td>ADD</td><td>-0.2297670</td><td>0.191321</td><td>1.4422900</td><td>0.638707</td><td>NA</td></tr>\n",
       "</tbody>\n",
       "</table>\n"
      ],
      "text/latex": [
       "A data.frame: 6 x 14\n",
       "\\begin{tabular}{r|llllllllllllll}\n",
       "  & CHROM & GENPOS & ID & ALLELE0 & ALLELE1 & A1FREQ & INFO & N & TEST & BETA & SE & CHISQ & LOG10P & EXTRA\\\\\n",
       "  & <int> & <int> & <fct> & <fct> & <fct> & <dbl> & <dbl> & <int> & <fct> & <dbl> & <dbl> & <dbl> & <dbl> & <lgl>\\\\\n",
       "\\hline\n",
       "\t1 & 1 & 13259 & rs562993331 & A & G & 0.999763 & 0.838834 & 236801 & ADD & -0.1158700 & 0.214576 & 0.2915960 & 0.229738 & NA\\\\\n",
       "\t2 & 1 & 17569 & rs535086049 & A & C & 0.999990 & 0.848208 & 236801 & ADD & -0.3124920 & 1.012530 & 0.0952505 & 0.120557 & NA\\\\\n",
       "\t3 & 1 & 17641 & rs578081284 & A & G & 0.999187 & 0.853282 & 236801 & ADD &  0.0363263 & 0.115344 & 0.0991857 & 0.123315 & NA\\\\\n",
       "\t4 & 1 & 30741 & rs558169846 & A & C & 0.999972 & 0.905336 & 236801 & ADD &  0.2097840 & 0.616039 & 0.1159660 & 0.134629 & NA\\\\\n",
       "\t5 & 1 & 57222 & rs576081345 & C & T & 0.999394 & 0.836319 & 236801 & ADD &  0.0391127 & 0.134304 & 0.0848117 & 0.113013 & NA\\\\\n",
       "\t6 & 1 & 58396 & rs570371753 & C & T & 0.999751 & 0.989304 & 236801 & ADD & -0.2297670 & 0.191321 & 1.4422900 & 0.638707 & NA\\\\\n",
       "\\end{tabular}\n"
      ],
      "text/markdown": [
       "\n",
       "A data.frame: 6 x 14\n",
       "\n",
       "| <!--/--> | CHROM &lt;int&gt; | GENPOS &lt;int&gt; | ID &lt;fct&gt; | ALLELE0 &lt;fct&gt; | ALLELE1 &lt;fct&gt; | A1FREQ &lt;dbl&gt; | INFO &lt;dbl&gt; | N &lt;int&gt; | TEST &lt;fct&gt; | BETA &lt;dbl&gt; | SE &lt;dbl&gt; | CHISQ &lt;dbl&gt; | LOG10P &lt;dbl&gt; | EXTRA &lt;lgl&gt; |\n",
       "|---|---|---|---|---|---|---|---|---|---|---|---|---|---|---|\n",
       "| 1 | 1 | 13259 | rs562993331 | A | G | 0.999763 | 0.838834 | 236801 | ADD | -0.1158700 | 0.214576 | 0.2915960 | 0.229738 | NA |\n",
       "| 2 | 1 | 17569 | rs535086049 | A | C | 0.999990 | 0.848208 | 236801 | ADD | -0.3124920 | 1.012530 | 0.0952505 | 0.120557 | NA |\n",
       "| 3 | 1 | 17641 | rs578081284 | A | G | 0.999187 | 0.853282 | 236801 | ADD |  0.0363263 | 0.115344 | 0.0991857 | 0.123315 | NA |\n",
       "| 4 | 1 | 30741 | rs558169846 | A | C | 0.999972 | 0.905336 | 236801 | ADD |  0.2097840 | 0.616039 | 0.1159660 | 0.134629 | NA |\n",
       "| 5 | 1 | 57222 | rs576081345 | C | T | 0.999394 | 0.836319 | 236801 | ADD |  0.0391127 | 0.134304 | 0.0848117 | 0.113013 | NA |\n",
       "| 6 | 1 | 58396 | rs570371753 | C | T | 0.999751 | 0.989304 | 236801 | ADD | -0.2297670 | 0.191321 | 1.4422900 | 0.638707 | NA |\n",
       "\n"
      ],
      "text/plain": [
       "  CHROM GENPOS ID          ALLELE0 ALLELE1 A1FREQ   INFO     N      TEST\n",
       "1 1     13259  rs562993331 A       G       0.999763 0.838834 236801 ADD \n",
       "2 1     17569  rs535086049 A       C       0.999990 0.848208 236801 ADD \n",
       "3 1     17641  rs578081284 A       G       0.999187 0.853282 236801 ADD \n",
       "4 1     30741  rs558169846 A       C       0.999972 0.905336 236801 ADD \n",
       "5 1     57222  rs576081345 C       T       0.999394 0.836319 236801 ADD \n",
       "6 1     58396  rs570371753 C       T       0.999751 0.989304 236801 ADD \n",
       "  BETA       SE       CHISQ     LOG10P   EXTRA\n",
       "1 -0.1158700 0.214576 0.2915960 0.229738 NA   \n",
       "2 -0.3124920 1.012530 0.0952505 0.120557 NA   \n",
       "3  0.0363263 0.115344 0.0991857 0.123315 NA   \n",
       "4  0.2097840 0.616039 0.1159660 0.134629 NA   \n",
       "5  0.0391127 0.134304 0.0848117 0.113013 NA   \n",
       "6 -0.2297670 0.191321 1.4422900 0.638707 NA   "
      ]
     },
     "metadata": {},
     "output_type": "display_data"
    }
   ],
   "source": [
    "head(sumstat)"
   ]
  },
  {
   "cell_type": "code",
   "execution_count": 5,
   "id": "0274b2cb-6ef5-4f31-9ce2-620e114c2510",
   "metadata": {},
   "outputs": [],
   "source": [
    "counts <- table(sumstat$A1FREQ)"
   ]
  },
  {
   "cell_type": "code",
   "execution_count": 7,
   "id": "5108dc75-746b-4188-bdfb-159595b055de",
   "metadata": {},
   "outputs": [
    {
     "data": {
      "image/png": "[encoded data removed]",
      "text/plain": [
       "plot without title"
      ]
     },
     "metadata": {
      "image/png": {
       "height": 420,
       "width": 420
      }
     },
     "output_type": "display_data"
    }
   ],
   "source": [
    "barplot(log(counts))"
   ]
  },
  {
   "cell_type": "code",
   "execution_count": 15,
   "id": "8bde4316-6677-4d6d-a7fb-9df30f5eac3b",
   "metadata": {},
   "outputs": [
    {
     "name": "stderr",
     "output_type": "stream",
     "text": [
      "── \u001b[1mAttaching packages\u001b[22m ─────────────────────────────────────── tidyverse 1.3.1 ──\n",
      "\n",
      "\u001b[32m✔\u001b[39m \u001b[34mtibble \u001b[39m 3.1.5     \u001b[32m✔\u001b[39m \u001b[34mdplyr  \u001b[39m 1.0.7\n",
      "\u001b[32m✔\u001b[39m \u001b[34mtidyr  \u001b[39m 1.1.3     \u001b[32m✔\u001b[39m \u001b[34mstringr\u001b[39m 1.4.0\n",
      "\u001b[32m✔\u001b[39m \u001b[34mreadr  \u001b[39m 1.4.0     \u001b[32m✔\u001b[39m \u001b[34mforcats\u001b[39m 0.5.1\n",
      "\u001b[32m✔\u001b[39m \u001b[34mpurrr  \u001b[39m 0.3.4     \n",
      "\n",
      "── \u001b[1mConflicts\u001b[22m ────────────────────────────────────────── tidyverse_conflicts() ──\n",
      "\u001b[31m✖\u001b[39m \u001b[34mdplyr\u001b[39m::\u001b[32mfilter()\u001b[39m masks \u001b[34mstats\u001b[39m::filter()\n",
      "\u001b[31m✖\u001b[39m \u001b[34mdplyr\u001b[39m::\u001b[32mlag()\u001b[39m    masks \u001b[34mstats\u001b[39m::lag()\n",
      "\n"
     ]
    }
   ],
   "source": [
    "library(ggplot2)\n",
    "library(tidyverse)"
   ]
  },
  {
   "cell_type": "code",
   "execution_count": 14,
   "id": "3cec5f6f-61a1-4d03-b3ad-e06736044ce7",
   "metadata": {},
   "outputs": [],
   "source": [
    "d<-data.frame(sumstat)\n",
    "ggplot(data=d, aes(x=A1FREQ,y=N)) + \n",
    "    geom_bar(stat=\"identity\") +\n",
    "    scale_y_log10()"
   ]
  },
  {
   "cell_type": "code",
   "execution_count": 37,
   "id": "f0efac24-2a06-4d02-9231-02fc67441464",
   "metadata": {},
   "outputs": [],
   "source": [
    "df <- sumstat %>% \n",
    "  mutate(MAF = if_else(A1FREQ > 0.5 , 1 - A1FREQ, A1FREQ)) %>%\n",
    "  mutate(P= 10^-LOG10P ) %>%\n",
    "  mutate(logMAF = round(log10(MAF),2))"
   ]
  },
  {
   "cell_type": "code",
   "execution_count": 38,
   "id": "bc7c0d9a-3597-413b-842f-dc360e738d00",
   "metadata": {},
   "outputs": [
    {
     "data": {
      "text/html": [
       "<table class=\"dataframe\">\n",
       "<caption>A data.frame: 6 x 17</caption>\n",
       "<thead>\n",
       "\t<tr><th></th><th scope=col>CHROM</th><th scope=col>GENPOS</th><th scope=col>ID</th><th scope=col>ALLELE0</th><th scope=col>ALLELE1</th><th scope=col>A1FREQ</th><th scope=col>INFO</th><th scope=col>N</th><th scope=col>TEST</th><th scope=col>BETA</th><th scope=col>SE</th><th scope=col>CHISQ</th><th scope=col>LOG10P</th><th scope=col>EXTRA</th><th scope=col>MAF</th><th scope=col>P</th><th scope=col>logMAF</th></tr>\n",
       "\t<tr><th></th><th scope=col>&lt;int&gt;</th><th scope=col>&lt;int&gt;</th><th scope=col>&lt;fct&gt;</th><th scope=col>&lt;fct&gt;</th><th scope=col>&lt;fct&gt;</th><th scope=col>&lt;dbl&gt;</th><th scope=col>&lt;dbl&gt;</th><th scope=col>&lt;int&gt;</th><th scope=col>&lt;fct&gt;</th><th scope=col>&lt;dbl&gt;</th><th scope=col>&lt;dbl&gt;</th><th scope=col>&lt;dbl&gt;</th><th scope=col>&lt;dbl&gt;</th><th scope=col>&lt;lgl&gt;</th><th scope=col>&lt;dbl&gt;</th><th scope=col>&lt;dbl&gt;</th><th scope=col>&lt;dbl&gt;</th></tr>\n",
       "</thead>\n",
       "<tbody>\n",
       "\t<tr><th scope=row>1</th><td>1</td><td>13259</td><td>rs562993331</td><td>A</td><td>G</td><td>0.999763</td><td>0.838834</td><td>236801</td><td>ADD</td><td>-0.1158700</td><td>0.214576</td><td>0.2915960</td><td>0.229738</td><td>NA</td><td>0.000237</td><td>0.5891990</td><td>-3.63</td></tr>\n",
       "\t<tr><th scope=row>2</th><td>1</td><td>17569</td><td>rs535086049</td><td>A</td><td>C</td><td>0.999990</td><td>0.848208</td><td>236801</td><td>ADD</td><td>-0.3124920</td><td>1.012530</td><td>0.0952505</td><td>0.120557</td><td>NA</td><td>0.000010</td><td>0.7576053</td><td>-5.00</td></tr>\n",
       "\t<tr><th scope=row>3</th><td>1</td><td>17641</td><td>rs578081284</td><td>A</td><td>G</td><td>0.999187</td><td>0.853282</td><td>236801</td><td>ADD</td><td> 0.0363263</td><td>0.115344</td><td>0.0991857</td><td>0.123315</td><td>NA</td><td>0.000813</td><td>0.7528093</td><td>-3.09</td></tr>\n",
       "\t<tr><th scope=row>4</th><td>1</td><td>30741</td><td>rs558169846</td><td>A</td><td>C</td><td>0.999972</td><td>0.905336</td><td>236801</td><td>ADD</td><td> 0.2097840</td><td>0.616039</td><td>0.1159660</td><td>0.134629</td><td>NA</td><td>0.000028</td><td>0.7334508</td><td>-4.55</td></tr>\n",
       "\t<tr><th scope=row>5</th><td>1</td><td>57222</td><td>rs576081345</td><td>C</td><td>T</td><td>0.999394</td><td>0.836319</td><td>236801</td><td>ADD</td><td> 0.0391127</td><td>0.134304</td><td>0.0848117</td><td>0.113013</td><td>NA</td><td>0.000606</td><td>0.7708804</td><td>-3.22</td></tr>\n",
       "\t<tr><th scope=row>6</th><td>1</td><td>58396</td><td>rs570371753</td><td>C</td><td>T</td><td>0.999751</td><td>0.989304</td><td>236801</td><td>ADD</td><td>-0.2297670</td><td>0.191321</td><td>1.4422900</td><td>0.638707</td><td>NA</td><td>0.000249</td><td>0.2297698</td><td>-3.60</td></tr>\n",
       "</tbody>\n",
       "</table>\n"
      ],
      "text/latex": [
       "A data.frame: 6 x 17\n",
       "\\begin{tabular}{r|lllllllllllllllll}\n",
       "  & CHROM & GENPOS & ID & ALLELE0 & ALLELE1 & A1FREQ & INFO & N & TEST & BETA & SE & CHISQ & LOG10P & EXTRA & MAF & P & logMAF\\\\\n",
       "  & <int> & <int> & <fct> & <fct> & <fct> & <dbl> & <dbl> & <int> & <fct> & <dbl> & <dbl> & <dbl> & <dbl> & <lgl> & <dbl> & <dbl> & <dbl>\\\\\n",
       "\\hline\n",
       "\t1 & 1 & 13259 & rs562993331 & A & G & 0.999763 & 0.838834 & 236801 & ADD & -0.1158700 & 0.214576 & 0.2915960 & 0.229738 & NA & 0.000237 & 0.5891990 & -3.63\\\\\n",
       "\t2 & 1 & 17569 & rs535086049 & A & C & 0.999990 & 0.848208 & 236801 & ADD & -0.3124920 & 1.012530 & 0.0952505 & 0.120557 & NA & 0.000010 & 0.7576053 & -5.00\\\\\n",
       "\t3 & 1 & 17641 & rs578081284 & A & G & 0.999187 & 0.853282 & 236801 & ADD &  0.0363263 & 0.115344 & 0.0991857 & 0.123315 & NA & 0.000813 & 0.7528093 & -3.09\\\\\n",
       "\t4 & 1 & 30741 & rs558169846 & A & C & 0.999972 & 0.905336 & 236801 & ADD &  0.2097840 & 0.616039 & 0.1159660 & 0.134629 & NA & 0.000028 & 0.7334508 & -4.55\\\\\n",
       "\t5 & 1 & 57222 & rs576081345 & C & T & 0.999394 & 0.836319 & 236801 & ADD &  0.0391127 & 0.134304 & 0.0848117 & 0.113013 & NA & 0.000606 & 0.7708804 & -3.22\\\\\n",
       "\t6 & 1 & 58396 & rs570371753 & C & T & 0.999751 & 0.989304 & 236801 & ADD & -0.2297670 & 0.191321 & 1.4422900 & 0.638707 & NA & 0.000249 & 0.2297698 & -3.60\\\\\n",
       "\\end{tabular}\n"
      ],
      "text/markdown": [
       "\n",
       "A data.frame: 6 x 17\n",
       "\n",
       "| <!--/--> | CHROM &lt;int&gt; | GENPOS &lt;int&gt; | ID &lt;fct&gt; | ALLELE0 &lt;fct&gt; | ALLELE1 &lt;fct&gt; | A1FREQ &lt;dbl&gt; | INFO &lt;dbl&gt; | N &lt;int&gt; | TEST &lt;fct&gt; | BETA &lt;dbl&gt; | SE &lt;dbl&gt; | CHISQ &lt;dbl&gt; | LOG10P &lt;dbl&gt; | EXTRA &lt;lgl&gt; | MAF &lt;dbl&gt; | P &lt;dbl&gt; | logMAF &lt;dbl&gt; |\n",
       "|---|---|---|---|---|---|---|---|---|---|---|---|---|---|---|---|---|---|\n",
       "| 1 | 1 | 13259 | rs562993331 | A | G | 0.999763 | 0.838834 | 236801 | ADD | -0.1158700 | 0.214576 | 0.2915960 | 0.229738 | NA | 0.000237 | 0.5891990 | -3.63 |\n",
       "| 2 | 1 | 17569 | rs535086049 | A | C | 0.999990 | 0.848208 | 236801 | ADD | -0.3124920 | 1.012530 | 0.0952505 | 0.120557 | NA | 0.000010 | 0.7576053 | -5.00 |\n",
       "| 3 | 1 | 17641 | rs578081284 | A | G | 0.999187 | 0.853282 | 236801 | ADD |  0.0363263 | 0.115344 | 0.0991857 | 0.123315 | NA | 0.000813 | 0.7528093 | -3.09 |\n",
       "| 4 | 1 | 30741 | rs558169846 | A | C | 0.999972 | 0.905336 | 236801 | ADD |  0.2097840 | 0.616039 | 0.1159660 | 0.134629 | NA | 0.000028 | 0.7334508 | -4.55 |\n",
       "| 5 | 1 | 57222 | rs576081345 | C | T | 0.999394 | 0.836319 | 236801 | ADD |  0.0391127 | 0.134304 | 0.0848117 | 0.113013 | NA | 0.000606 | 0.7708804 | -3.22 |\n",
       "| 6 | 1 | 58396 | rs570371753 | C | T | 0.999751 | 0.989304 | 236801 | ADD | -0.2297670 | 0.191321 | 1.4422900 | 0.638707 | NA | 0.000249 | 0.2297698 | -3.60 |\n",
       "\n"
      ],
      "text/plain": [
       "  CHROM GENPOS ID          ALLELE0 ALLELE1 A1FREQ   INFO     N      TEST\n",
       "1 1     13259  rs562993331 A       G       0.999763 0.838834 236801 ADD \n",
       "2 1     17569  rs535086049 A       C       0.999990 0.848208 236801 ADD \n",
       "3 1     17641  rs578081284 A       G       0.999187 0.853282 236801 ADD \n",
       "4 1     30741  rs558169846 A       C       0.999972 0.905336 236801 ADD \n",
       "5 1     57222  rs576081345 C       T       0.999394 0.836319 236801 ADD \n",
       "6 1     58396  rs570371753 C       T       0.999751 0.989304 236801 ADD \n",
       "  BETA       SE       CHISQ     LOG10P   EXTRA MAF      P         logMAF\n",
       "1 -0.1158700 0.214576 0.2915960 0.229738 NA    0.000237 0.5891990 -3.63 \n",
       "2 -0.3124920 1.012530 0.0952505 0.120557 NA    0.000010 0.7576053 -5.00 \n",
       "3  0.0363263 0.115344 0.0991857 0.123315 NA    0.000813 0.7528093 -3.09 \n",
       "4  0.2097840 0.616039 0.1159660 0.134629 NA    0.000028 0.7334508 -4.55 \n",
       "5  0.0391127 0.134304 0.0848117 0.113013 NA    0.000606 0.7708804 -3.22 \n",
       "6 -0.2297670 0.191321 1.4422900 0.638707 NA    0.000249 0.2297698 -3.60 "
      ]
     },
     "metadata": {},
     "output_type": "display_data"
    }
   ],
   "source": [
    "head(df)"
   ]
  },
  {
   "cell_type": "code",
   "execution_count": 40,
   "id": "ece7bce9-76be-4219-b4f8-89b8aa0a72cd",
   "metadata": {},
   "outputs": [],
   "source": [
    "MAF_count  <- table(df$logMAF)"
   ]
  },
  {
   "cell_type": "code",
   "execution_count": 41,
   "id": "54ffac64-db74-4637-b6f0-5f154b095d68",
   "metadata": {
    "scrolled": true,
    "tags": []
   },
   "outputs": [
    {
     "data": {
      "text/plain": [
       "\n",
       "  -5.1  -5.07  -5.06  -5.05  -5.04  -5.03  -5.02  -5.01     -5  -4.99  -4.98 \n",
       "  6001     19     28  77549     29     45     31     24  63646     29     58 \n",
       " -4.97  -4.96  -4.95  -4.94  -4.93  -4.92  -4.91   -4.9  -4.89  -4.88  -4.87 \n",
       "    50  69045     45     41     54  55364     41     93  65215     69     63 \n",
       " -4.86  -4.85  -4.84  -4.83  -4.82  -4.81   -4.8  -4.79  -4.78  -4.77  -4.76 \n",
       "    78  50010     58    701  55349     89  49238     99     88  50531     72 \n",
       " -4.75  -4.74  -4.73  -4.72  -4.71   -4.7  -4.69  -4.68  -4.67  -4.66  -4.65 \n",
       "    86  45717     79  45718    118  43237     80  43275     91  41534     82 \n",
       " -4.64  -4.63  -4.62  -4.61   -4.6  -4.59  -4.58  -4.57  -4.56  -4.55  -4.54 \n",
       " 40293     90  40327    122  39113  40051     59  37321    113  37869  35705 \n",
       " -4.53  -4.52  -4.51   -4.5  -4.49  -4.48  -4.47  -4.46  -4.45  -4.44  -4.43 \n",
       "   174  36782  34439    146  36076  33723  34782  32909    132  33191  31770 \n",
       " -4.42  -4.41   -4.4  -4.39  -4.38  -4.37  -4.36  -4.35  -4.34  -4.33  -4.32 \n",
       " 32480  31545  31754  30684  30972  30937  30097  29714  29343  29132  28427 \n",
       " -4.31   -4.3  -4.29  -4.28  -4.27  -4.26  -4.25  -4.24  -4.23  -4.22  -4.21 \n",
       " 29312  27876  28824  54512  27147  27848  26522  52746  25971  25634  51676 \n",
       "  -4.2  -4.19  -4.18  -4.17  -4.16  -4.15  -4.14  -4.13  -4.12  -4.11   -4.1 \n",
       " 25509  50324  25384  48930  24472  47829  47340  23638  46635  46571  46164 \n",
       " -4.09  -4.08  -4.07  -4.06  -4.05  -4.04  -4.03  -4.02  -4.01     -4  -3.99 \n",
       " 45259  45133  44337  44134  43092  43676  42478  41476  40948  60453  39898 \n",
       " -3.98  -3.97  -3.96  -3.95  -3.94  -3.93  -3.92  -3.91   -3.9  -3.89  -3.88 \n",
       " 39727  58765  39236  58014  56786  37633  55309  54736  53301  51811  52145 \n",
       " -3.87  -3.86  -3.85  -3.84  -3.83  -3.82  -3.81   -3.8  -3.79  -3.78  -3.77 \n",
       " 51640  50526  50139  65533  48359  63619  46858  61159  60163  44784  59459 \n",
       " -3.76  -3.75  -3.74  -3.73  -3.72  -3.71   -3.7  -3.69  -3.68  -3.67  -3.66 \n",
       " 58664  57639  69833  55449  54194  65886  52568  63931  62141  60330  59522 \n",
       " -3.65  -3.64  -3.63  -3.62  -3.61   -3.6  -3.59  -3.58  -3.57  -3.56  -3.55 \n",
       " 58971  57599  67523  54791  64588  63330  61043  60015  57638  56666  64717 \n",
       " -3.54  -3.53  -3.52  -3.51   -3.5  -3.49  -3.48  -3.47  -3.46  -3.45  -3.44 \n",
       " 54839  62397  60301  58664  57724  63570  55132  61177  58330  57037  62175 \n",
       " -3.43  -3.42  -3.41   -3.4  -3.39  -3.38  -3.37  -3.36  -3.35  -3.34  -3.33 \n",
       " 54772  59257  56876  55649  59481  52500  56653  54716  53450  57329  54833 \n",
       " -3.32  -3.31   -3.3  -3.29  -3.28  -3.27  -3.26  -3.25  -3.24  -3.23  -3.22 \n",
       " 53872  52168  49985  53623  51780  53668  48057  50617  52904  48018  50083 \n",
       " -3.21   -3.2  -3.19  -3.18  -3.17  -3.16  -3.15  -3.14  -3.13  -3.12  -3.11 \n",
       " 48486  50251  49099  47007  45685  47419  48612  44575  45940  47338  46796 \n",
       "  -3.1  -3.09  -3.08  -3.07  -3.06  -3.05  -3.04  -3.03  -3.02  -3.01     -3 \n",
       " 45670  46301  44838  43458  47016  43476  43997  44188  43739  42518  43939 \n",
       " -2.99  -2.98  -2.97  -2.96  -2.95  -2.94  -2.93  -2.92  -2.91   -2.9  -2.89 \n",
       " 43898  43220  41339  43434  42488  41618  42192  42797  42012  41733  42202 \n",
       " -2.88  -2.87  -2.86  -2.85  -2.84  -2.83  -2.82  -2.81   -2.8  -2.79  -2.78 \n",
       " 40916  41328  41657  41006  42758  40832  41402  40238  41174  40784  40957 \n",
       " -2.77  -2.76  -2.75  -2.74  -2.73  -2.72  -2.71   -2.7  -2.69  -2.68  -2.67 \n",
       " 41217  41799  41445  41888  41037  41594  41004  41081  41158  40529  40132 \n",
       " -2.66  -2.65  -2.64  -2.63  -2.62  -2.61   -2.6  -2.59  -2.58  -2.57  -2.56 \n",
       " 41020  39877  40582  40212  39864  41321  39685  40797  39720  39877  40033 \n",
       " -2.55  -2.54  -2.53  -2.52  -2.51   -2.5  -2.49  -2.48  -2.47  -2.46  -2.45 \n",
       " 39534  39707  40295  39464  40496  39634  39468  39113  39451  39484  39903 \n",
       " -2.44  -2.43  -2.42  -2.41   -2.4  -2.39  -2.38  -2.37  -2.36  -2.35  -2.34 \n",
       " 39151  39147  38890  39151  39167  38292  38177  39926  38838  38718  39415 \n",
       " -2.33  -2.32  -2.31   -2.3  -2.29  -2.28  -2.27  -2.26  -2.25  -2.24  -2.23 \n",
       " 38925  38885  38626  38181  39347  39308  39404  38848  38585  38650  38469 \n",
       " -2.22  -2.21   -2.2  -2.19  -2.18  -2.17  -2.16  -2.15  -2.14  -2.13  -2.12 \n",
       " 37942  37600  37875  38160  37794  38344  37289  37848  38217  37212  36725 \n",
       " -2.11   -2.1  -2.09  -2.08  -2.07  -2.06  -2.05  -2.04  -2.03  -2.02  -2.01 \n",
       " 36990  37524  37454  37032  36818  36774  37030  37707  37889  36238  36883 \n",
       "    -2  -1.99  -1.98  -1.97  -1.96  -1.95  -1.94  -1.93  -1.92  -1.91   -1.9 \n",
       " 37591  36923  37572  36905  36648  36540  37345  36928  36057  37837  36032 \n",
       " -1.89  -1.88  -1.87  -1.86  -1.85  -1.84  -1.83  -1.82  -1.81   -1.8  -1.79 \n",
       " 36428  37271  35746  36176  36839  36962  38045  37032  37632  37964  37319 \n",
       " -1.78  -1.77  -1.76  -1.75  -1.74  -1.73  -1.72  -1.71   -1.7  -1.69  -1.68 \n",
       " 36662  37037  38065  36740  37747  37801  38145  38568  36998  36522  36931 \n",
       " -1.67  -1.66  -1.65  -1.64  -1.63  -1.62  -1.61   -1.6  -1.59  -1.58  -1.57 \n",
       " 37145  37153  36959  36874  36652  38118  39180  38229  37721  36841  36633 \n",
       " -1.56  -1.55  -1.54  -1.53  -1.52  -1.51   -1.5  -1.49  -1.48  -1.47  -1.46 \n",
       " 37020  35961  38299  38352  38636  38427  38616  39272  38207  39747  39753 \n",
       " -1.45  -1.44  -1.43  -1.42  -1.41   -1.4  -1.39  -1.38  -1.37  -1.36  -1.35 \n",
       " 39183  40223  39604  39814  39200  39515  39702  39487  38886  39557  40460 \n",
       " -1.34  -1.33  -1.32  -1.31   -1.3  -1.29  -1.28  -1.27  -1.26  -1.25  -1.24 \n",
       " 40283  39363  39605  42298  41234  41913  41246  42296  41314  43181  43076 \n",
       " -1.23  -1.22  -1.21   -1.2  -1.19  -1.18  -1.17  -1.16  -1.15  -1.14  -1.13 \n",
       " 40115  44056  44410  44038  43849  43710  43717  43985  43878  44179  44510 \n",
       " -1.12  -1.11   -1.1  -1.09  -1.08  -1.07  -1.06  -1.05  -1.04  -1.03  -1.02 \n",
       " 45746  44398  45451  47315  46143  47490  49900  45968  47142  48384  48013 \n",
       " -1.01     -1  -0.99  -0.98  -0.97  -0.96  -0.95  -0.94  -0.93  -0.92  -0.91 \n",
       " 50160  49170  50492  51064  52019  52086  52309  53881  54015  54651  54894 \n",
       "  -0.9  -0.89  -0.88  -0.87  -0.86  -0.85  -0.84  -0.83  -0.82  -0.81   -0.8 \n",
       " 56608  59075  57058  55587  58186  57619  56932  59298  59376  59138  62096 \n",
       " -0.79  -0.78  -0.77  -0.76  -0.75  -0.74  -0.73  -0.72  -0.71   -0.7  -0.69 \n",
       " 62362  62710  63840  65278  64731  66606  66095  66735  68144  68789  69813 \n",
       " -0.68  -0.67  -0.66  -0.65  -0.64  -0.63  -0.62  -0.61   -0.6  -0.59  -0.58 \n",
       " 70848  70549  72593  75834  74138  72350  76461  78043  76223  77937  80952 \n",
       " -0.57  -0.56  -0.55  -0.54  -0.53  -0.52  -0.51   -0.5  -0.49  -0.48  -0.47 \n",
       " 82535  82143  81637  83063  85866  87211  89847  90089  92036  93129  92687 \n",
       " -0.46  -0.45  -0.44  -0.43  -0.42  -0.41   -0.4  -0.39  -0.38  -0.37  -0.36 \n",
       " 95868  96954 100158 101163 103031 105897 105804 109172 107604 110154 111777 \n",
       " -0.35  -0.34  -0.33  -0.32  -0.31   -0.3 \n",
       "119949 119493 120200 124548 126381  52056 "
      ]
     },
     "metadata": {},
     "output_type": "display_data"
    }
   ],
   "source": [
    "MAF_count"
   ]
  },
  {
   "cell_type": "code",
   "execution_count": 42,
   "id": "10d75cfa-57ef-4010-baa4-b8ab31f6d594",
   "metadata": {},
   "outputs": [
    {
     "data": {
      "image/png": "[encoded data removed]",
      "text/plain": [
       "Plot with title “Histogram of df$logMAF”"
      ]
     },
     "metadata": {
      "image/png": {
       "height": 420,
       "width": 420
      }
     },
     "output_type": "display_data"
    }
   ],
   "source": [
    "hist(df$logMAF)"
   ]
  },
  {
   "cell_type": "code",
   "execution_count": null,
   "id": "169dc803-5404-4679-b296-a13beb7e864d",
   "metadata": {},
   "outputs": [],
   "source": [
    "lambda <- median(qchisq(1-data$${pval},1), na.rm=TRUE)/qchisq(0.5,1)"
   ]
  },
  {
   "cell_type": "code",
   "execution_count": 45,
   "id": "c0755982-9ce4-4f02-8260-52314799175f",
   "metadata": {},
   "outputs": [],
   "source": [
    "df1 <- transform(df, group=cut(logMAF,  breaks=seq(0,-6,-0.5)))"
   ]
  },
  {
   "cell_type": "code",
   "execution_count": 46,
   "id": "6f566eb9-af90-4ecc-bf68-5dfd46cd6abf",
   "metadata": {},
   "outputs": [
    {
     "data": {
      "text/html": [
       "<table class=\"dataframe\">\n",
       "<caption>A data.frame: 6 x 18</caption>\n",
       "<thead>\n",
       "\t<tr><th></th><th scope=col>CHROM</th><th scope=col>GENPOS</th><th scope=col>ID</th><th scope=col>ALLELE0</th><th scope=col>ALLELE1</th><th scope=col>A1FREQ</th><th scope=col>INFO</th><th scope=col>N</th><th scope=col>TEST</th><th scope=col>BETA</th><th scope=col>SE</th><th scope=col>CHISQ</th><th scope=col>LOG10P</th><th scope=col>EXTRA</th><th scope=col>MAF</th><th scope=col>P</th><th scope=col>logMAF</th><th scope=col>group</th></tr>\n",
       "\t<tr><th></th><th scope=col>&lt;int&gt;</th><th scope=col>&lt;int&gt;</th><th scope=col>&lt;fct&gt;</th><th scope=col>&lt;fct&gt;</th><th scope=col>&lt;fct&gt;</th><th scope=col>&lt;dbl&gt;</th><th scope=col>&lt;dbl&gt;</th><th scope=col>&lt;int&gt;</th><th scope=col>&lt;fct&gt;</th><th scope=col>&lt;dbl&gt;</th><th scope=col>&lt;dbl&gt;</th><th scope=col>&lt;dbl&gt;</th><th scope=col>&lt;dbl&gt;</th><th scope=col>&lt;lgl&gt;</th><th scope=col>&lt;dbl&gt;</th><th scope=col>&lt;dbl&gt;</th><th scope=col>&lt;dbl&gt;</th><th scope=col>&lt;fct&gt;</th></tr>\n",
       "</thead>\n",
       "<tbody>\n",
       "\t<tr><th scope=row>1</th><td>1</td><td>13259</td><td>rs562993331</td><td>A</td><td>G</td><td>0.999763</td><td>0.838834</td><td>236801</td><td>ADD</td><td>-0.1158700</td><td>0.214576</td><td>0.2915960</td><td>0.229738</td><td>NA</td><td>0.000237</td><td>0.5891990</td><td>-3.63</td><td>(-4,-3.5]</td></tr>\n",
       "\t<tr><th scope=row>2</th><td>1</td><td>17569</td><td>rs535086049</td><td>A</td><td>C</td><td>0.999990</td><td>0.848208</td><td>236801</td><td>ADD</td><td>-0.3124920</td><td>1.012530</td><td>0.0952505</td><td>0.120557</td><td>NA</td><td>0.000010</td><td>0.7576053</td><td>-5.00</td><td>(-5.5,-5]</td></tr>\n",
       "\t<tr><th scope=row>3</th><td>1</td><td>17641</td><td>rs578081284</td><td>A</td><td>G</td><td>0.999187</td><td>0.853282</td><td>236801</td><td>ADD</td><td> 0.0363263</td><td>0.115344</td><td>0.0991857</td><td>0.123315</td><td>NA</td><td>0.000813</td><td>0.7528093</td><td>-3.09</td><td>(-3.5,-3]</td></tr>\n",
       "\t<tr><th scope=row>4</th><td>1</td><td>30741</td><td>rs558169846</td><td>A</td><td>C</td><td>0.999972</td><td>0.905336</td><td>236801</td><td>ADD</td><td> 0.2097840</td><td>0.616039</td><td>0.1159660</td><td>0.134629</td><td>NA</td><td>0.000028</td><td>0.7334508</td><td>-4.55</td><td>(-5,-4.5]</td></tr>\n",
       "\t<tr><th scope=row>5</th><td>1</td><td>57222</td><td>rs576081345</td><td>C</td><td>T</td><td>0.999394</td><td>0.836319</td><td>236801</td><td>ADD</td><td> 0.0391127</td><td>0.134304</td><td>0.0848117</td><td>0.113013</td><td>NA</td><td>0.000606</td><td>0.7708804</td><td>-3.22</td><td>(-3.5,-3]</td></tr>\n",
       "\t<tr><th scope=row>6</th><td>1</td><td>58396</td><td>rs570371753</td><td>C</td><td>T</td><td>0.999751</td><td>0.989304</td><td>236801</td><td>ADD</td><td>-0.2297670</td><td>0.191321</td><td>1.4422900</td><td>0.638707</td><td>NA</td><td>0.000249</td><td>0.2297698</td><td>-3.60</td><td>(-4,-3.5]</td></tr>\n",
       "</tbody>\n",
       "</table>\n"
      ],
      "text/latex": [
       "A data.frame: 6 x 18\n",
       "\\begin{tabular}{r|llllllllllllllllll}\n",
       "  & CHROM & GENPOS & ID & ALLELE0 & ALLELE1 & A1FREQ & INFO & N & TEST & BETA & SE & CHISQ & LOG10P & EXTRA & MAF & P & logMAF & group\\\\\n",
       "  & <int> & <int> & <fct> & <fct> & <fct> & <dbl> & <dbl> & <int> & <fct> & <dbl> & <dbl> & <dbl> & <dbl> & <lgl> & <dbl> & <dbl> & <dbl> & <fct>\\\\\n",
       "\\hline\n",
       "\t1 & 1 & 13259 & rs562993331 & A & G & 0.999763 & 0.838834 & 236801 & ADD & -0.1158700 & 0.214576 & 0.2915960 & 0.229738 & NA & 0.000237 & 0.5891990 & -3.63 & (-4,-3.5{]}\\\\\n",
       "\t2 & 1 & 17569 & rs535086049 & A & C & 0.999990 & 0.848208 & 236801 & ADD & -0.3124920 & 1.012530 & 0.0952505 & 0.120557 & NA & 0.000010 & 0.7576053 & -5.00 & (-5.5,-5{]}\\\\\n",
       "\t3 & 1 & 17641 & rs578081284 & A & G & 0.999187 & 0.853282 & 236801 & ADD &  0.0363263 & 0.115344 & 0.0991857 & 0.123315 & NA & 0.000813 & 0.7528093 & -3.09 & (-3.5,-3{]}\\\\\n",
       "\t4 & 1 & 30741 & rs558169846 & A & C & 0.999972 & 0.905336 & 236801 & ADD &  0.2097840 & 0.616039 & 0.1159660 & 0.134629 & NA & 0.000028 & 0.7334508 & -4.55 & (-5,-4.5{]}\\\\\n",
       "\t5 & 1 & 57222 & rs576081345 & C & T & 0.999394 & 0.836319 & 236801 & ADD &  0.0391127 & 0.134304 & 0.0848117 & 0.113013 & NA & 0.000606 & 0.7708804 & -3.22 & (-3.5,-3{]}\\\\\n",
       "\t6 & 1 & 58396 & rs570371753 & C & T & 0.999751 & 0.989304 & 236801 & ADD & -0.2297670 & 0.191321 & 1.4422900 & 0.638707 & NA & 0.000249 & 0.2297698 & -3.60 & (-4,-3.5{]}\\\\\n",
       "\\end{tabular}\n"
      ],
      "text/markdown": [
       "\n",
       "A data.frame: 6 x 18\n",
       "\n",
       "| <!--/--> | CHROM &lt;int&gt; | GENPOS &lt;int&gt; | ID &lt;fct&gt; | ALLELE0 &lt;fct&gt; | ALLELE1 &lt;fct&gt; | A1FREQ &lt;dbl&gt; | INFO &lt;dbl&gt; | N &lt;int&gt; | TEST &lt;fct&gt; | BETA &lt;dbl&gt; | SE &lt;dbl&gt; | CHISQ &lt;dbl&gt; | LOG10P &lt;dbl&gt; | EXTRA &lt;lgl&gt; | MAF &lt;dbl&gt; | P &lt;dbl&gt; | logMAF &lt;dbl&gt; | group &lt;fct&gt; |\n",
       "|---|---|---|---|---|---|---|---|---|---|---|---|---|---|---|---|---|---|---|\n",
       "| 1 | 1 | 13259 | rs562993331 | A | G | 0.999763 | 0.838834 | 236801 | ADD | -0.1158700 | 0.214576 | 0.2915960 | 0.229738 | NA | 0.000237 | 0.5891990 | -3.63 | (-4,-3.5] |\n",
       "| 2 | 1 | 17569 | rs535086049 | A | C | 0.999990 | 0.848208 | 236801 | ADD | -0.3124920 | 1.012530 | 0.0952505 | 0.120557 | NA | 0.000010 | 0.7576053 | -5.00 | (-5.5,-5] |\n",
       "| 3 | 1 | 17641 | rs578081284 | A | G | 0.999187 | 0.853282 | 236801 | ADD |  0.0363263 | 0.115344 | 0.0991857 | 0.123315 | NA | 0.000813 | 0.7528093 | -3.09 | (-3.5,-3] |\n",
       "| 4 | 1 | 30741 | rs558169846 | A | C | 0.999972 | 0.905336 | 236801 | ADD |  0.2097840 | 0.616039 | 0.1159660 | 0.134629 | NA | 0.000028 | 0.7334508 | -4.55 | (-5,-4.5] |\n",
       "| 5 | 1 | 57222 | rs576081345 | C | T | 0.999394 | 0.836319 | 236801 | ADD |  0.0391127 | 0.134304 | 0.0848117 | 0.113013 | NA | 0.000606 | 0.7708804 | -3.22 | (-3.5,-3] |\n",
       "| 6 | 1 | 58396 | rs570371753 | C | T | 0.999751 | 0.989304 | 236801 | ADD | -0.2297670 | 0.191321 | 1.4422900 | 0.638707 | NA | 0.000249 | 0.2297698 | -3.60 | (-4,-3.5] |\n",
       "\n"
      ],
      "text/plain": [
       "  CHROM GENPOS ID          ALLELE0 ALLELE1 A1FREQ   INFO     N      TEST\n",
       "1 1     13259  rs562993331 A       G       0.999763 0.838834 236801 ADD \n",
       "2 1     17569  rs535086049 A       C       0.999990 0.848208 236801 ADD \n",
       "3 1     17641  rs578081284 A       G       0.999187 0.853282 236801 ADD \n",
       "4 1     30741  rs558169846 A       C       0.999972 0.905336 236801 ADD \n",
       "5 1     57222  rs576081345 C       T       0.999394 0.836319 236801 ADD \n",
       "6 1     58396  rs570371753 C       T       0.999751 0.989304 236801 ADD \n",
       "  BETA       SE       CHISQ     LOG10P   EXTRA MAF      P         logMAF\n",
       "1 -0.1158700 0.214576 0.2915960 0.229738 NA    0.000237 0.5891990 -3.63 \n",
       "2 -0.3124920 1.012530 0.0952505 0.120557 NA    0.000010 0.7576053 -5.00 \n",
       "3  0.0363263 0.115344 0.0991857 0.123315 NA    0.000813 0.7528093 -3.09 \n",
       "4  0.2097840 0.616039 0.1159660 0.134629 NA    0.000028 0.7334508 -4.55 \n",
       "5  0.0391127 0.134304 0.0848117 0.113013 NA    0.000606 0.7708804 -3.22 \n",
       "6 -0.2297670 0.191321 1.4422900 0.638707 NA    0.000249 0.2297698 -3.60 \n",
       "  group    \n",
       "1 (-4,-3.5]\n",
       "2 (-5.5,-5]\n",
       "3 (-3.5,-3]\n",
       "4 (-5,-4.5]\n",
       "5 (-3.5,-3]\n",
       "6 (-4,-3.5]"
      ]
     },
     "metadata": {},
     "output_type": "display_data"
    }
   ],
   "source": [
    "head(df1)"
   ]
  },
  {
   "cell_type": "code",
   "execution_count": 47,
   "id": "9d6a2f73-cf54-4e3b-9c5b-2a2fd5654a9b",
   "metadata": {},
   "outputs": [],
   "source": [
    "res <- do.call(data.frame,aggregate(cbind(P)~group, df1, \n",
    "       FUN=function(x) c(Count=length(x), lambda=(median(qchisq(1-df$P,1), na.rm=TRUE)/qchisq(0.5,1)))))"
   ]
  },
  {
   "cell_type": "code",
   "execution_count": 50,
   "id": "e00a5165-30cd-4e49-b27d-4403dc78d3f5",
   "metadata": {},
   "outputs": [
    {
     "data": {
      "text/html": [
       "<table class=\"dataframe\">\n",
       "<caption>A data.frame: 11 x 3</caption>\n",
       "<thead>\n",
       "\t<tr><th scope=col>group</th><th scope=col>P.Count</th><th scope=col>P.lambda</th></tr>\n",
       "\t<tr><th scope=col>&lt;fct&gt;</th><th scope=col>&lt;dbl&gt;</th><th scope=col>&lt;dbl&gt;</th></tr>\n",
       "</thead>\n",
       "<tbody>\n",
       "\t<tr><td>(-5.5,-5]</td><td> 147372</td><td>0.9613574</td></tr>\n",
       "\t<tr><td>(-5,-4.5]</td><td> 959101</td><td>1.0842357</td></tr>\n",
       "\t<tr><td>(-4.5,-4]</td><td>1799518</td><td>1.0175133</td></tr>\n",
       "\t<tr><td>(-4,-3.5]</td><td>2820563</td><td>1.0042085</td></tr>\n",
       "\t<tr><td>(-3.5,-3]</td><td>2548060</td><td>1.0166009</td></tr>\n",
       "\t<tr><td>(-3,-2.5]</td><td>2054987</td><td>1.0205652</td></tr>\n",
       "\t<tr><td>(-2.5,-2]</td><td>1914455</td><td>1.0446483</td></tr>\n",
       "\t<tr><td>(-2,-1.5]</td><td>1864233</td><td>1.0671056</td></tr>\n",
       "\t<tr><td>(-1.5,-1]</td><td>2144146</td><td>1.1665156</td></tr>\n",
       "\t<tr><td>(-1,-0.5]</td><td>3349806</td><td>1.2778082</td></tr>\n",
       "\t<tr><td>(-0.5,0] </td><td>2088061</td><td>1.3372265</td></tr>\n",
       "</tbody>\n",
       "</table>\n"
      ],
      "text/latex": [
       "A data.frame: 11 x 3\n",
       "\\begin{tabular}{lll}\n",
       " group & P.Count & P.lambda\\\\\n",
       " <fct> & <dbl> & <dbl>\\\\\n",
       "\\hline\n",
       "\t (-5.5,-5{]} &  147372 & 0.9613574\\\\\n",
       "\t (-5,-4.5{]} &  959101 & 1.0842357\\\\\n",
       "\t (-4.5,-4{]} & 1799518 & 1.0175133\\\\\n",
       "\t (-4,-3.5{]} & 2820563 & 1.0042085\\\\\n",
       "\t (-3.5,-3{]} & 2548060 & 1.0166009\\\\\n",
       "\t (-3,-2.5{]} & 2054987 & 1.0205652\\\\\n",
       "\t (-2.5,-2{]} & 1914455 & 1.0446483\\\\\n",
       "\t (-2,-1.5{]} & 1864233 & 1.0671056\\\\\n",
       "\t (-1.5,-1{]} & 2144146 & 1.1665156\\\\\n",
       "\t (-1,-0.5{]} & 3349806 & 1.2778082\\\\\n",
       "\t (-0.5,0{]}  & 2088061 & 1.3372265\\\\\n",
       "\\end{tabular}\n"
      ],
      "text/markdown": [
       "\n",
       "A data.frame: 11 x 3\n",
       "\n",
       "| group &lt;fct&gt; | P.Count &lt;dbl&gt; | P.lambda &lt;dbl&gt; |\n",
       "|---|---|---|\n",
       "| (-5.5,-5] |  147372 | 0.9613574 |\n",
       "| (-5,-4.5] |  959101 | 1.0842357 |\n",
       "| (-4.5,-4] | 1799518 | 1.0175133 |\n",
       "| (-4,-3.5] | 2820563 | 1.0042085 |\n",
       "| (-3.5,-3] | 2548060 | 1.0166009 |\n",
       "| (-3,-2.5] | 2054987 | 1.0205652 |\n",
       "| (-2.5,-2] | 1914455 | 1.0446483 |\n",
       "| (-2,-1.5] | 1864233 | 1.0671056 |\n",
       "| (-1.5,-1] | 2144146 | 1.1665156 |\n",
       "| (-1,-0.5] | 3349806 | 1.2778082 |\n",
       "| (-0.5,0]  | 2088061 | 1.3372265 |\n",
       "\n"
      ],
      "text/plain": [
       "   group     P.Count P.lambda \n",
       "1  (-5.5,-5]  147372 0.9613574\n",
       "2  (-5,-4.5]  959101 1.0842357\n",
       "3  (-4.5,-4] 1799518 1.0175133\n",
       "4  (-4,-3.5] 2820563 1.0042085\n",
       "5  (-3.5,-3] 2548060 1.0166009\n",
       "6  (-3,-2.5] 2054987 1.0205652\n",
       "7  (-2.5,-2] 1914455 1.0446483\n",
       "8  (-2,-1.5] 1864233 1.0671056\n",
       "9  (-1.5,-1] 2144146 1.1665156\n",
       "10 (-1,-0.5] 3349806 1.2778082\n",
       "11 (-0.5,0]  2088061 1.3372265"
      ]
     },
     "metadata": {},
     "output_type": "display_data"
    }
   ],
   "source": [
    "res"
   ]
  },
  {
   "cell_type": "code",
   "execution_count": 49,
   "id": "3159bcca-db19-4fe4-8e32-dfff65864156",
   "metadata": {},
   "outputs": [],
   "source": [
    "lambda <- (median(qchisq(1-df$P,1), na.rm=TRUE)/qchisq(0.5,1))"
   ]
  },
  {
   "cell_type": "code",
   "execution_count": 2,
   "id": "29028e90-f84d-4d81-984c-69b329f623e7",
   "metadata": {},
   "outputs": [],
   "source": [
    "library('dplyr')\n",
    "#file<-\"~/UKBiobank/results/REGENIE_results/results_imputed_data/2021_10_13_f2257_300K/100521_UKBB_Hearing_noise_f2257_expandedwhite_95794cases_141007ctrl_300k_PC1_PC2_f2257.regenie.snp_stats_original_columns.gz\"\n",
    "data<-read.table(gzfile(\"~/UKBiobank/results/REGENIE_results/results_imputed_data/2021_10_13_f2257_300K/100521_UKBB_Hearing_noise_f2257_expandedwhite_95794cases_141007ctrl_300k_PC1_PC2_f2257.regenie.snp_stats_original_columns.gz\"),sep=\"\\t\",header=TRUE)"
   ]
  },
  {
   "cell_type": "code",
   "execution_count": 2,
   "id": "b91632ac-e06c-4a8a-992b-21843d4ae53f",
   "metadata": {},
   "outputs": [
    {
     "ename": "ERROR",
     "evalue": "Error in UseMethod(\"mutate\"): no applicable method for 'mutate' applied to an object of class \"function\"\n",
     "output_type": "error",
     "traceback": [
      "Error in UseMethod(\"mutate\"): no applicable method for 'mutate' applied to an object of class \"function\"\nTraceback:\n",
      "1. data %>% mutate(MAF = if_else(A1FREQ > 0.5, 1 - A1FREQ, A1FREQ)) %>% \n .     mutate(P = 10^-LOG10P) %>% mutate(logMAF = round(log10(MAF), \n .     2))",
      "2. mutate(., logMAF = round(log10(MAF), 2))",
      "3. mutate(., P = 10^-LOG10P)",
      "4. mutate(., MAF = if_else(A1FREQ > 0.5, 1 - A1FREQ, A1FREQ))"
     ]
    }
   ],
   "source": [
    "df <- data %>% \n",
    "  mutate(MAF = if_else(A1FREQ > 0.5 , 1 - A1FREQ, A1FREQ)) %>%\n",
    "  mutate(P= 10^-LOG10P ) %>%\n",
    "  mutate(logMAF = round(log10(MAF),2))\n",
    "df1 <- transform(df, group=cut(logMAF,  breaks=seq(round(min(df$logMAF))-0.5,0,0.5)))\n",
    "res <- do.call(data.frame,aggregate(cbind(P)~group, df1, \n",
    "       FUN=function(x) c(Count=length(x), lambda=(median(qchisq(1-x,1), na.rm=TRUE)/qchisq(0.5,1)))))\n",
    "res$pos<-seq(round(min(df$logMAF))-0.25,0,0.5)\n",
    "                                    "
   ]
  },
  {
   "cell_type": "code",
   "execution_count": null,
   "id": "1c77596e-3705-4d39-8f9e-34034be3684d",
   "metadata": {},
   "outputs": [],
   "source": [
    "# Plot\n",
    "hist(df$logMAF,breaks=seq(round(min(df$logMAF))-0.5,0,0.5),xaxt=\"n\",xlab=\"logMAF\",ylab=\"variant count\",main=\"\")\n",
    "axis(1, at=seq(round(min(df$logMAF))-0.5,0,0.5),labels=seq(round(min(df$logMAF))-0.5,0,0.5))\n",
    "par(new = TRUE)\n",
    "plot(res$pos,res$P.lambda,type=\"l\",axes = FALSE, xlab = \"\", ylab = \"\",yaxt=\"n\",ylim=c(0,1.5))\n",
    "axis(side = 4, at = seq(0,1.5,0.5))\n",
    "mtext(\"lambda gc\", side = 4, cex.lab=2,line=1) \n",
    "abline(h=1,lty=2,col=\"red\")"
   ]
  }
 ],
 "metadata": {
  "kernelspec": {
   "display_name": "R",
   "language": "R",
   "name": "ir"
  },
  "language_info": {
   "codemirror_mode": "r",
   "file_extension": ".r",
   "mimetype": "text/x-r-source",
   "name": "R",
   "pygments_lexer": "r",
   "version": "3.6.3"
  }
 },
 "nbformat": 4,
 "nbformat_minor": 5
}
