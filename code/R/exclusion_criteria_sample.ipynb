{
 "cells": [
  {
   "cell_type": "code",
   "execution_count": null,
   "metadata": {
    "kernel": "R"
   },
   "outputs": [],
   "source": [
    "#Load libraries\n",
    "library(plyr)\n",
    "library(tidyverse)\n",
    "library(pander)\n",
    "library(ggpubr)\n",
    "library(rapportools)\n",
    "library(ggplot2)\n",
    "#Get working directory\n",
    "getwd()\n",
    "#Set working directory\n",
    "setwd('/gpfs/gibbs/pi/dewan/data/UKBiobank/phenotype_files/hearing_impairment')"
   ]
  },
  {
   "cell_type": "code",
   "execution_count": 7,
   "metadata": {
    "kernel": "Bash"
   },
   "outputs": [
    {
     "name": "stdout",
     "output_type": "stream",
     "text": [
      "\n"
     ]
    }
   ],
   "source": [
    "cd /gpfs/gibbs/pi/dewan/data/UKBiobank/phenotype_files/hearing_impairment\n",
    "head -n1 200804_UKBB_HI_genotypeqc.csv > header.txt\n",
    "cat 200713_UKBB_excluded_individuals.csv >> header.txt"
   ]
  },
  {
   "cell_type": "code",
   "execution_count": null,
   "metadata": {
    "kernel": "Bash"
   },
   "outputs": [],
   "source": [
    "cat 200713_UKBB_excluded_individuals.csv | head "
   ]
  },
  {
   "cell_type": "code",
   "execution_count": 3,
   "metadata": {
    "kernel": "R"
   },
   "outputs": [
    {
     "data": {
      "text/html": [
       "<style>\n",
       ".list-inline {list-style: none; margin:0; padding: 0}\n",
       ".list-inline>li {display: inline-block}\n",
       ".list-inline>li:not(:last-child)::after {content: \"\\00b7\"; padding: 0 .5ex}\n",
       "</style>\n",
       "<ol class=list-inline><li>12397</li><li>1074</li></ol>\n"
      ],
      "text/latex": [
       "\\begin{enumerate*}\n",
       "\\item 12397\n",
       "\\item 1074\n",
       "\\end{enumerate*}\n"
      ],
      "text/markdown": [
       "1. 12397\n",
       "2. 1074\n",
       "\n",
       "\n"
      ],
      "text/plain": [
       "[1] 12397  1074"
      ]
     },
     "metadata": {},
     "output_type": "display_data"
    }
   ],
   "source": [
    "df_excluded <- read.csv(file = '200713_UKBB_excluded_individuals_new.csv', header=TRUE)\n",
    "dim(df_excluded)"
   ]
  },
  {
   "cell_type": "code",
   "execution_count": 4,
   "metadata": {
    "kernel": "R"
   },
   "outputs": [
    {
     "data": {
      "text/html": [
       "<table>\n",
       "<caption>A data.frame: 6 × 1074</caption>\n",
       "<thead>\n",
       "\t<tr><th></th><th scope=col>IID</th><th scope=col>FID</th><th scope=col>ignore1</th><th scope=col>ignore2</th><th scope=col>ignore3</th><th scope=col>ignore4</th><th scope=col>f.31.0.0</th><th scope=col>f.34.0.0</th><th scope=col>f.53.0.0</th><th scope=col>f.53.1.0</th><th scope=col>⋯</th><th scope=col>f.41281.0.37</th><th scope=col>f.41281.0.38</th><th scope=col>f.41281.0.39</th><th scope=col>f.41281.0.40</th><th scope=col>f.41281.0.41</th><th scope=col>f.41281.0.42</th><th scope=col>f.41281.0.43</th><th scope=col>f.41281.0.44</th><th scope=col>f.41281.0.45</th><th scope=col>f.41281.0.46</th></tr>\n",
       "\t<tr><th></th><th scope=col>&lt;int&gt;</th><th scope=col>&lt;int&gt;</th><th scope=col>&lt;int&gt;</th><th scope=col>&lt;int&gt;</th><th scope=col>&lt;int&gt;</th><th scope=col>&lt;int&gt;</th><th scope=col>&lt;lgl&gt;</th><th scope=col>&lt;int&gt;</th><th scope=col>&lt;fct&gt;</th><th scope=col>&lt;fct&gt;</th><th scope=col>⋯</th><th scope=col>&lt;lgl&gt;</th><th scope=col>&lt;lgl&gt;</th><th scope=col>&lt;lgl&gt;</th><th scope=col>&lt;lgl&gt;</th><th scope=col>&lt;lgl&gt;</th><th scope=col>&lt;lgl&gt;</th><th scope=col>&lt;lgl&gt;</th><th scope=col>&lt;lgl&gt;</th><th scope=col>&lt;lgl&gt;</th><th scope=col>&lt;lgl&gt;</th></tr>\n",
       "</thead>\n",
       "<tbody>\n",
       "\t<tr><th scope=row>1</th><td>1000947</td><td>1000947</td><td>0</td><td>0</td><td>2</td><td>-9</td><td>NA</td><td>1941</td><td>2008-06-04</td><td>NA</td><td>⋯</td><td>NA</td><td>NA</td><td>NA</td><td>NA</td><td>NA</td><td>NA</td><td>NA</td><td>NA</td><td>NA</td><td>NA</td></tr>\n",
       "\t<tr><th scope=row>2</th><td>1002216</td><td>1002216</td><td>0</td><td>0</td><td>1</td><td>-9</td><td>NA</td><td>1945</td><td>2008-05-16</td><td>NA</td><td>⋯</td><td>NA</td><td>NA</td><td>NA</td><td>NA</td><td>NA</td><td>NA</td><td>NA</td><td>NA</td><td>NA</td><td>NA</td></tr>\n",
       "\t<tr><th scope=row>3</th><td>1002460</td><td>1002460</td><td>0</td><td>0</td><td>1</td><td>-9</td><td>NA</td><td>1947</td><td>2010-05-05</td><td>NA</td><td>⋯</td><td>NA</td><td>NA</td><td>NA</td><td>NA</td><td>NA</td><td>NA</td><td>NA</td><td>NA</td><td>NA</td><td>NA</td></tr>\n",
       "\t<tr><th scope=row>4</th><td>1002510</td><td>1002510</td><td>0</td><td>0</td><td>1</td><td>-9</td><td>NA</td><td>1956</td><td>2009-02-04</td><td>NA</td><td>⋯</td><td>NA</td><td>NA</td><td>NA</td><td>NA</td><td>NA</td><td>NA</td><td>NA</td><td>NA</td><td>NA</td><td>NA</td></tr>\n",
       "\t<tr><th scope=row>5</th><td>1002569</td><td>1002569</td><td>0</td><td>0</td><td>2</td><td>-9</td><td>NA</td><td>1949</td><td>2009-10-24</td><td>NA</td><td>⋯</td><td>NA</td><td>NA</td><td>NA</td><td>NA</td><td>NA</td><td>NA</td><td>NA</td><td>NA</td><td>NA</td><td>NA</td></tr>\n",
       "\t<tr><th scope=row>6</th><td>1002587</td><td>1002587</td><td>0</td><td>0</td><td>1</td><td>-9</td><td>NA</td><td>1954</td><td>2009-03-16</td><td>NA</td><td>⋯</td><td>NA</td><td>NA</td><td>NA</td><td>NA</td><td>NA</td><td>NA</td><td>NA</td><td>NA</td><td>NA</td><td>NA</td></tr>\n",
       "</tbody>\n",
       "</table>\n"
      ],
      "text/latex": [
       "A data.frame: 6 × 1074\n",
       "\\begin{tabular}{r|lllllllllllllllllllll}\n",
       "  & IID & FID & ignore1 & ignore2 & ignore3 & ignore4 & f.31.0.0 & f.34.0.0 & f.53.0.0 & f.53.1.0 & ⋯ & f.41281.0.37 & f.41281.0.38 & f.41281.0.39 & f.41281.0.40 & f.41281.0.41 & f.41281.0.42 & f.41281.0.43 & f.41281.0.44 & f.41281.0.45 & f.41281.0.46\\\\\n",
       "  & <int> & <int> & <int> & <int> & <int> & <int> & <lgl> & <int> & <fct> & <fct> & ⋯ & <lgl> & <lgl> & <lgl> & <lgl> & <lgl> & <lgl> & <lgl> & <lgl> & <lgl> & <lgl>\\\\\n",
       "\\hline\n",
       "\t1 & 1000947 & 1000947 & 0 & 0 & 2 & -9 & NA & 1941 & 2008-06-04 & NA & ⋯ & NA & NA & NA & NA & NA & NA & NA & NA & NA & NA\\\\\n",
       "\t2 & 1002216 & 1002216 & 0 & 0 & 1 & -9 & NA & 1945 & 2008-05-16 & NA & ⋯ & NA & NA & NA & NA & NA & NA & NA & NA & NA & NA\\\\\n",
       "\t3 & 1002460 & 1002460 & 0 & 0 & 1 & -9 & NA & 1947 & 2010-05-05 & NA & ⋯ & NA & NA & NA & NA & NA & NA & NA & NA & NA & NA\\\\\n",
       "\t4 & 1002510 & 1002510 & 0 & 0 & 1 & -9 & NA & 1956 & 2009-02-04 & NA & ⋯ & NA & NA & NA & NA & NA & NA & NA & NA & NA & NA\\\\\n",
       "\t5 & 1002569 & 1002569 & 0 & 0 & 2 & -9 & NA & 1949 & 2009-10-24 & NA & ⋯ & NA & NA & NA & NA & NA & NA & NA & NA & NA & NA\\\\\n",
       "\t6 & 1002587 & 1002587 & 0 & 0 & 1 & -9 & NA & 1954 & 2009-03-16 & NA & ⋯ & NA & NA & NA & NA & NA & NA & NA & NA & NA & NA\\\\\n",
       "\\end{tabular}\n"
      ],
      "text/markdown": [
       "\n",
       "A data.frame: 6 × 1074\n",
       "\n",
       "| <!--/--> | IID &lt;int&gt; | FID &lt;int&gt; | ignore1 &lt;int&gt; | ignore2 &lt;int&gt; | ignore3 &lt;int&gt; | ignore4 &lt;int&gt; | f.31.0.0 &lt;lgl&gt; | f.34.0.0 &lt;int&gt; | f.53.0.0 &lt;fct&gt; | f.53.1.0 &lt;fct&gt; | ⋯ ⋯ | f.41281.0.37 &lt;lgl&gt; | f.41281.0.38 &lt;lgl&gt; | f.41281.0.39 &lt;lgl&gt; | f.41281.0.40 &lt;lgl&gt; | f.41281.0.41 &lt;lgl&gt; | f.41281.0.42 &lt;lgl&gt; | f.41281.0.43 &lt;lgl&gt; | f.41281.0.44 &lt;lgl&gt; | f.41281.0.45 &lt;lgl&gt; | f.41281.0.46 &lt;lgl&gt; |\n",
       "|---|---|---|---|---|---|---|---|---|---|---|---|---|---|---|---|---|---|---|---|---|---|\n",
       "| 1 | 1000947 | 1000947 | 0 | 0 | 2 | -9 | NA | 1941 | 2008-06-04 | NA | ⋯ | NA | NA | NA | NA | NA | NA | NA | NA | NA | NA |\n",
       "| 2 | 1002216 | 1002216 | 0 | 0 | 1 | -9 | NA | 1945 | 2008-05-16 | NA | ⋯ | NA | NA | NA | NA | NA | NA | NA | NA | NA | NA |\n",
       "| 3 | 1002460 | 1002460 | 0 | 0 | 1 | -9 | NA | 1947 | 2010-05-05 | NA | ⋯ | NA | NA | NA | NA | NA | NA | NA | NA | NA | NA |\n",
       "| 4 | 1002510 | 1002510 | 0 | 0 | 1 | -9 | NA | 1956 | 2009-02-04 | NA | ⋯ | NA | NA | NA | NA | NA | NA | NA | NA | NA | NA |\n",
       "| 5 | 1002569 | 1002569 | 0 | 0 | 2 | -9 | NA | 1949 | 2009-10-24 | NA | ⋯ | NA | NA | NA | NA | NA | NA | NA | NA | NA | NA |\n",
       "| 6 | 1002587 | 1002587 | 0 | 0 | 1 | -9 | NA | 1954 | 2009-03-16 | NA | ⋯ | NA | NA | NA | NA | NA | NA | NA | NA | NA | NA |\n",
       "\n"
      ],
      "text/plain": [
       "  IID     FID     ignore1 ignore2 ignore3 ignore4 f.31.0.0 f.34.0.0 f.53.0.0  \n",
       "1 1000947 1000947 0       0       2       -9      NA       1941     2008-06-04\n",
       "2 1002216 1002216 0       0       1       -9      NA       1945     2008-05-16\n",
       "3 1002460 1002460 0       0       1       -9      NA       1947     2010-05-05\n",
       "4 1002510 1002510 0       0       1       -9      NA       1956     2009-02-04\n",
       "5 1002569 1002569 0       0       2       -9      NA       1949     2009-10-24\n",
       "6 1002587 1002587 0       0       1       -9      NA       1954     2009-03-16\n",
       "  f.53.1.0 ⋯ f.41281.0.37 f.41281.0.38 f.41281.0.39 f.41281.0.40 f.41281.0.41\n",
       "1 NA       ⋯ NA           NA           NA           NA           NA          \n",
       "2 NA       ⋯ NA           NA           NA           NA           NA          \n",
       "3 NA       ⋯ NA           NA           NA           NA           NA          \n",
       "4 NA       ⋯ NA           NA           NA           NA           NA          \n",
       "5 NA       ⋯ NA           NA           NA           NA           NA          \n",
       "6 NA       ⋯ NA           NA           NA           NA           NA          \n",
       "  f.41281.0.42 f.41281.0.43 f.41281.0.44 f.41281.0.45 f.41281.0.46\n",
       "1 NA           NA           NA           NA           NA          \n",
       "2 NA           NA           NA           NA           NA          \n",
       "3 NA           NA           NA           NA           NA          \n",
       "4 NA           NA           NA           NA           NA          \n",
       "5 NA           NA           NA           NA           NA          \n",
       "6 NA           NA           NA           NA           NA          "
      ]
     },
     "metadata": {},
     "output_type": "display_data"
    }
   ],
   "source": [
    "head(df_excluded)"
   ]
  },
  {
   "cell_type": "code",
   "execution_count": 5,
   "metadata": {
    "kernel": "R"
   },
   "outputs": [
    {
     "data": {
      "text/plain": [
       "\n",
       "         Do not know           Moderately           Not at all \n",
       "                   9                  423                  498 \n",
       "Prefer not to answer             Severely             Slightly \n",
       "                   1                  126                  794 "
      ]
     },
     "metadata": {},
     "output_type": "display_data"
    }
   ],
   "source": [
    "table(df_excluded$f.3393.0.0)"
   ]
  },
  {
   "cell_type": "code",
   "execution_count": 6,
   "metadata": {
    "kernel": "R"
   },
   "outputs": [
    {
     "name": "stderr",
     "output_type": "stream",
     "text": [
      "The following `from` values were not present in `x`: I am completely deaf\n",
      "\n",
      "The following `from` values were not present in `x`: Prefer not to answer, I am completely deaf\n",
      "\n",
      "The following `from` values were not present in `x`: Prefer not to answer, I am completely deaf\n",
      "\n",
      "The following `from` values were not present in `x`: Prefer not to answer, I am completely deaf\n",
      "\n",
      "The following `from` values were not present in `x`: I am completely deaf\n",
      "\n",
      "The following `from` values were not present in `x`: Prefer not to answer, I am completely deaf\n",
      "\n",
      "The following `from` values were not present in `x`: Prefer not to answer, I am completely deaf\n",
      "\n",
      "The following `from` values were not present in `x`: Prefer not to answer, I am completely deaf\n",
      "\n"
     ]
    },
    {
     "name": "stdout",
     "output_type": "stream",
     "text": [
      "f.2247.0.0_recode summary:\n",
      "   9    0    1 \n",
      " 190 5594 6576 \n",
      "\n",
      "f.2247.1.0_recode summary:\n",
      "  9   0   1 \n",
      " 21 286 358 \n",
      "\n",
      "f.2247.2.0_recode summary:\n",
      "  9   0   1 \n",
      " 22 498 656 \n",
      "\n",
      "f.2247.3.0_recode summary:\n",
      " 9  0  1 \n",
      " 2 33 57 \n",
      "\n"
     ]
    }
   ],
   "source": [
    "## Obtain the number of individuals with f.2247\n",
    "\n",
    "# Recode function:\n",
    "recode<-function(df,column_name){\n",
    "  new_names<-c()\n",
    "  for (i in column_name){\n",
    "    new_column_name<-paste0(i,\"_recode\")\n",
    "    new_names<-c(new_names,new_column_name)\n",
    "    df[,new_column_name] <- revalue(df[,i], c(\"No\"= 0, \n",
    "                                            \"Yes\" =1,\n",
    "                                            \"Prefer not to answer\"= NA,\n",
    "                                             \"Do not know\"=9,\n",
    "                                             \"I am completely deaf\"=NA))\n",
    "  }\n",
    "  return (list(df=df,new_column_names=new_names))\n",
    "}\n",
    "\n",
    "# columns needs to be recoded:\n",
    "column_name<-c(\"f.2247.0.0\",\"f.2247.1.0\",\"f.2247.2.0\",\"f.2247.3.0\")\n",
    "\n",
    "# get a new data.frame with recoded columns added:\n",
    "df_excluded<-recode(df=df_excluded,column_name)$df\n",
    "\n",
    "# get names of recoded columns:\n",
    "new_column_names<-recode(df=df_excluded,column_name)$new_column_names\n",
    "\n",
    "# show recode summary:\n",
    "for (i in new_column_names)\n",
    "{cat(i,\"summary:\");print(table(df_excluded[,i]));cat(\"\\n\")}"
   ]
  },
  {
   "cell_type": "code",
   "execution_count": 7,
   "metadata": {
    "kernel": "R"
   },
   "outputs": [
    {
     "data": {
      "text/html": [
       "<style>\n",
       ".list-inline {list-style: none; margin:0; padding: 0}\n",
       ".list-inline>li {display: inline-block}\n",
       ".list-inline>li:not(:last-child)::after {content: \"\\00b7\"; padding: 0 .5ex}\n",
       "</style>\n",
       "<ol class=list-inline><li>''</li><li>'0'</li><li>'00'</li><li>'000'</li><li>'0000'</li><li>'001'</li><li>'0011'</li><li>'009'</li><li>'01'</li><li>'010'</li><li>'0100'</li><li>'011'</li><li>'0111'</li><li>'09'</li><li>'090'</li><li>'099'</li><li>'1'</li><li>'10'</li><li>'100'</li><li>'101'</li><li>'109'</li><li>'1091'</li><li>'11'</li><li>'110'</li><li>'1101'</li><li>'111'</li><li>'1111'</li><li>'19'</li><li>'191'</li><li>'1990'</li><li>'9'</li><li>'90'</li><li>'91'</li><li>'911'</li><li>'99'</li></ol>\n"
      ],
      "text/latex": [
       "\\begin{enumerate*}\n",
       "\\item ''\n",
       "\\item '0'\n",
       "\\item '00'\n",
       "\\item '000'\n",
       "\\item '0000'\n",
       "\\item '001'\n",
       "\\item '0011'\n",
       "\\item '009'\n",
       "\\item '01'\n",
       "\\item '010'\n",
       "\\item '0100'\n",
       "\\item '011'\n",
       "\\item '0111'\n",
       "\\item '09'\n",
       "\\item '090'\n",
       "\\item '099'\n",
       "\\item '1'\n",
       "\\item '10'\n",
       "\\item '100'\n",
       "\\item '101'\n",
       "\\item '109'\n",
       "\\item '1091'\n",
       "\\item '11'\n",
       "\\item '110'\n",
       "\\item '1101'\n",
       "\\item '111'\n",
       "\\item '1111'\n",
       "\\item '19'\n",
       "\\item '191'\n",
       "\\item '1990'\n",
       "\\item '9'\n",
       "\\item '90'\n",
       "\\item '91'\n",
       "\\item '911'\n",
       "\\item '99'\n",
       "\\end{enumerate*}\n"
      ],
      "text/markdown": [
       "1. ''\n",
       "2. '0'\n",
       "3. '00'\n",
       "4. '000'\n",
       "5. '0000'\n",
       "6. '001'\n",
       "7. '0011'\n",
       "8. '009'\n",
       "9. '01'\n",
       "10. '010'\n",
       "11. '0100'\n",
       "12. '011'\n",
       "13. '0111'\n",
       "14. '09'\n",
       "15. '090'\n",
       "16. '099'\n",
       "17. '1'\n",
       "18. '10'\n",
       "19. '100'\n",
       "20. '101'\n",
       "21. '109'\n",
       "22. '1091'\n",
       "23. '11'\n",
       "24. '110'\n",
       "25. '1101'\n",
       "26. '111'\n",
       "27. '1111'\n",
       "28. '19'\n",
       "29. '191'\n",
       "30. '1990'\n",
       "31. '9'\n",
       "32. '90'\n",
       "33. '91'\n",
       "34. '911'\n",
       "35. '99'\n",
       "\n",
       "\n"
      ],
      "text/plain": [
       " [1] \"\"     \"0\"    \"00\"   \"000\"  \"0000\" \"001\"  \"0011\" \"009\"  \"01\"   \"010\" \n",
       "[11] \"0100\" \"011\"  \"0111\" \"09\"   \"090\"  \"099\"  \"1\"    \"10\"   \"100\"  \"101\" \n",
       "[21] \"109\"  \"1091\" \"11\"   \"110\"  \"1101\" \"111\"  \"1111\" \"19\"   \"191\"  \"1990\"\n",
       "[31] \"9\"    \"90\"   \"91\"   \"911\"  \"99\"  "
      ]
     },
     "metadata": {},
     "output_type": "display_data"
    }
   ],
   "source": [
    "# Extract subset of data only with the recode columns of tinnitus\n",
    "data_sub <- df_excluded %>%\n",
    "  select(\"IID\",all_of(new_column_names)) \n",
    "\n",
    "# Function to extract all the available answers for 4 visits\n",
    "# and put them in one string as \"0000\", \"111\", \"991\", etc\n",
    "\n",
    "f2<-function(x){\n",
    "  visit<-''\n",
    "  for (i in 2:5){ # do not take the first column (i.e. IID)\n",
    "    if (!is.na(x[i]))\n",
    "    {visit<-paste0(visit,x[i])}\n",
    "  }\n",
    "  if(is.null(visit)){visit=NA}\n",
    "  else{visit=visit}\n",
    "  return (visit)\n",
    "}\n",
    "\n",
    "# Apply the above function and remove NAs\n",
    "data_sub$visit<-apply(data_sub, 1, f2)\n",
    "\n",
    "names(table(data_sub$visit))"
   ]
  },
  {
   "cell_type": "code",
   "execution_count": 8,
   "metadata": {
    "kernel": "R"
   },
   "outputs": [
    {
     "data": {
      "text/plain": [
       "\n",
       "        0   00  000 0000  001 0011  009   01  010 0100  011 0111   09  090  099 \n",
       "  36 4823  423   95    8   13    2    3  164   10    1   29    1   20    1    1 \n",
       "   1   10  100  101  109 1091   11  110 1101  111 1111   19  191 1990    9   90 \n",
       "5792   93   15   10    1    1  520    5    1  119    7   10    2    1  166    7 \n",
       "  91  911   99 \n",
       "  10    4    3 "
      ]
     },
     "metadata": {},
     "output_type": "display_data"
    }
   ],
   "source": [
    "table(data_sub$visit)\n",
    "all_pattern<-unique(data_sub$visit)"
   ]
  },
  {
   "cell_type": "code",
   "execution_count": 9,
   "metadata": {
    "kernel": "R"
   },
   "outputs": [
    {
     "data": {
      "text/plain": [
       "\n",
       "   0   00  000 0000    1   11  111 1111    9   99 \n",
       "4823  423   95    8 5792  520  119    7  166    3 "
      ]
     },
     "metadata": {},
     "output_type": "display_data"
    }
   ],
   "source": [
    "all_no<-all_pattern[which(grepl(\"0\",all_pattern) & !grepl(\"9\",all_pattern) & !grepl(\"1\",all_pattern))]\n",
    "all_yes<-all_pattern[which(!grepl(\"0\",all_pattern) & !grepl(\"9\",all_pattern) & grepl(\"1\",all_pattern))]\n",
    "all_do_not_know<-all_pattern[which(!grepl(\"0\",all_pattern) & grepl(\"9\",all_pattern) & !grepl(\"1\",all_pattern))]\n",
    "table(data_sub[data_sub$visit%in%union(union(all_no,all_yes),all_do_not_know),\"visit\"])"
   ]
  },
  {
   "cell_type": "code",
   "execution_count": 10,
   "metadata": {
    "kernel": "R"
   },
   "outputs": [
    {
     "data": {
      "text/plain": [
       "\n",
       "009  09 090 099  90 \n",
       "  3  20   1   1   7 "
      ]
     },
     "metadata": {},
     "output_type": "display_data"
    }
   ],
   "source": [
    "consistent_1<-c(all_no,all_yes,all_do_not_know)\n",
    "\n",
    "# might be inconsistent cases:\n",
    "do_not_know_no<-all_pattern[which(grepl(\"0\",all_pattern) & grepl(\"9\",all_pattern) & !grepl(\"1\",all_pattern))]\n",
    "table(data_sub[data_sub$visit%in%do_not_know_no,\"visit\"])"
   ]
  },
  {
   "cell_type": "code",
   "execution_count": 11,
   "metadata": {
    "kernel": "R"
   },
   "outputs": [
    {
     "data": {
      "text/plain": [
       "\n",
       " 19 191  91 911 \n",
       " 10   2  10   4 "
      ]
     },
     "metadata": {},
     "output_type": "display_data"
    }
   ],
   "source": [
    "do_not_know_yes<-all_pattern[which(!grepl(\"0\",all_pattern) & grepl(\"9\",all_pattern) & grepl(\"1\",all_pattern))]\n",
    "table(data_sub[data_sub$visit%in%do_not_know_yes,\"visit\"])"
   ]
  },
  {
   "cell_type": "code",
   "execution_count": 12,
   "metadata": {
    "kernel": "R"
   },
   "outputs": [
    {
     "data": {
      "text/plain": [
       "\n",
       " 001 0011   01  010 0100  011 0111   10  100  101  110 1101 \n",
       "  13    2  164   10    1   29    1   93   15   10    5    1 "
      ]
     },
     "metadata": {},
     "output_type": "display_data"
    }
   ],
   "source": [
    "yes_no<-all_pattern[which(grepl(\"0\",all_pattern) & !grepl(\"9\",all_pattern) & grepl(\"1\",all_pattern))]\n",
    "table(data_sub[data_sub$visit%in%yes_no,\"visit\"])"
   ]
  },
  {
   "cell_type": "code",
   "execution_count": 13,
   "metadata": {
    "kernel": "R"
   },
   "outputs": [
    {
     "data": {
      "text/plain": [
       "\n",
       " 109 1091 1990 \n",
       "   1    1    1 "
      ]
     },
     "metadata": {},
     "output_type": "display_data"
    }
   ],
   "source": [
    "with_all_three<-all_pattern[which(grepl(\"0\",all_pattern) & grepl(\"9\",all_pattern) & grepl(\"1\",all_pattern))]\n",
    "table(data_sub[data_sub$visit%in%with_all_three,\"visit\"])"
   ]
  },
  {
   "cell_type": "code",
   "execution_count": 14,
   "metadata": {
    "kernel": "R"
   },
   "outputs": [],
   "source": [
    "might_inconsistent<-c(do_not_know_no,do_not_know_yes,yes_no,with_all_three)"
   ]
  },
  {
   "cell_type": "code",
   "execution_count": 17,
   "metadata": {
    "kernel": "R"
   },
   "outputs": [
    {
     "name": "stdout",
     "output_type": "stream",
     "text": [
      "There are 36 NAs, removed"
     ]
    }
   ],
   "source": [
    "# get all the inconsistent cases:\n",
    "exceptions<-c(\"91\",\"911\",\"9111\",\"991\",\"0001\",\"001\",\"0011\",\"01\",\"011\",\"0111\", \"0091\", \"091\",\"0911\",\"0991\",\"9001\",\"901\",\"9011\")\n",
    "inconsistent<-setdiff(might_inconsistent,exceptions)\n",
    "\n",
    "cat(\"There are\",length(which(is.empty(data_sub$visit))),\"NAs, removed\")"
   ]
  },
  {
   "cell_type": "code",
   "execution_count": 18,
   "metadata": {
    "kernel": "R"
   },
   "outputs": [
    {
     "name": "stdout",
     "output_type": "stream",
     "text": [
      "There are 182 inconsistent cases, removed"
     ]
    }
   ],
   "source": [
    "cat(\"There are\",length(which(data_sub$visit%in%inconsistent)),\"inconsistent cases, removed\")"
   ]
  },
  {
   "cell_type": "code",
   "execution_count": 19,
   "metadata": {
    "kernel": "R"
   },
   "outputs": [
    {
     "data": {
      "text/html": [
       "<style>\n",
       ".list-inline {list-style: none; margin:0; padding: 0}\n",
       ".list-inline>li {display: inline-block}\n",
       ".list-inline>li:not(:last-child)::after {content: \"\\00b7\"; padding: 0 .5ex}\n",
       "</style>\n",
       "<ol class=list-inline><li>12010</li><li>1</li></ol>\n"
      ],
      "text/latex": [
       "\\begin{enumerate*}\n",
       "\\item 12010\n",
       "\\item 1\n",
       "\\end{enumerate*}\n"
      ],
      "text/markdown": [
       "1. 12010\n",
       "2. 1\n",
       "\n",
       "\n"
      ],
      "text/plain": [
       "[1] 12010     1"
      ]
     },
     "metadata": {},
     "output_type": "display_data"
    }
   ],
   "source": [
    "# removed those NAs, consistent for do not know - 9 and inconsistent cases: \n",
    "IID_hearing_diff<-data_sub %>%\n",
    "  filter(!is.empty(visit)) %>%\n",
    "  filter((!visit%in%inconsistent)) %>%\n",
    "  filter((!visit%in%all_do_not_know)) %>%\n",
    "  select(IID)\n",
    "\n",
    "dim(IID_hearing_diff)"
   ]
  },
  {
   "cell_type": "code",
   "execution_count": 20,
   "metadata": {
    "kernel": "R"
   },
   "outputs": [
    {
     "name": "stdout",
     "output_type": "stream",
     "text": [
      "After removing all the NAs and inconsistent cases, there are 12010 cases left"
     ]
    }
   ],
   "source": [
    "IID_hearing_diff<-IID_hearing_diff[,1]\n",
    "cat(\"After removing all the NAs and inconsistent cases, there are\",length(IID_hearing_diff),\"cases left\")"
   ]
  },
  {
   "cell_type": "code",
   "execution_count": 22,
   "metadata": {
    "kernel": "R"
   },
   "outputs": [
    {
     "data": {
      "text/html": [
       "<style>\n",
       ".list-inline {list-style: none; margin:0; padding: 0}\n",
       ".list-inline>li {display: inline-block}\n",
       ".list-inline>li:not(:last-child)::after {content: \"\\00b7\"; padding: 0 .5ex}\n",
       "</style>\n",
       "<ol class=list-inline><li>12010</li><li>1078</li></ol>\n"
      ],
      "text/latex": [
       "\\begin{enumerate*}\n",
       "\\item 12010\n",
       "\\item 1078\n",
       "\\end{enumerate*}\n"
      ],
      "text/markdown": [
       "1. 12010\n",
       "2. 1078\n",
       "\n",
       "\n"
      ],
      "text/plain": [
       "[1] 12010  1078"
      ]
     },
     "metadata": {},
     "output_type": "display_data"
    }
   ],
   "source": [
    "# get the dataset after cleansing: \n",
    "df.hearing.diff<-df_excluded %>%\n",
    "  filter(IID%in%IID_hearing_diff)\n",
    "\n",
    "dim(df.hearing.diff)"
   ]
  },
  {
   "cell_type": "code",
   "execution_count": 23,
   "metadata": {
    "kernel": "R"
   },
   "outputs": [
    {
     "data": {
      "text/html": [
       "<table>\n",
       "<caption>A data.frame: 6 × 11</caption>\n",
       "<thead>\n",
       "\t<tr><th></th><th scope=col>IID</th><th scope=col>FID</th><th scope=col>f.22001.0.0</th><th scope=col>f.21003.0.0</th><th scope=col>f.21003.1.0</th><th scope=col>f.21003.2.0</th><th scope=col>f.21003.3.0</th><th scope=col>f.2247.0.0_recode</th><th scope=col>f.2247.1.0_recode</th><th scope=col>f.2247.2.0_recode</th><th scope=col>f.2247.3.0_recode</th></tr>\n",
       "\t<tr><th></th><th scope=col>&lt;int&gt;</th><th scope=col>&lt;int&gt;</th><th scope=col>&lt;fct&gt;</th><th scope=col>&lt;fct&gt;</th><th scope=col>&lt;fct&gt;</th><th scope=col>&lt;fct&gt;</th><th scope=col>&lt;fct&gt;</th><th scope=col>&lt;fct&gt;</th><th scope=col>&lt;fct&gt;</th><th scope=col>&lt;fct&gt;</th><th scope=col>&lt;fct&gt;</th></tr>\n",
       "</thead>\n",
       "<tbody>\n",
       "\t<tr><th scope=row>1</th><td>1000947</td><td>1000947</td><td>NA</td><td>NA</td><td>NA</td><td>NA</td><td>NA</td><td>0</td><td>NA</td><td>NA</td><td>NA</td></tr>\n",
       "\t<tr><th scope=row>2</th><td>1002216</td><td>1002216</td><td>NA</td><td>NA</td><td>NA</td><td>NA</td><td>NA</td><td>1</td><td>NA</td><td>NA</td><td>NA</td></tr>\n",
       "\t<tr><th scope=row>3</th><td>1002460</td><td>1002460</td><td>NA</td><td>NA</td><td>NA</td><td>NA</td><td>NA</td><td>1</td><td>NA</td><td>NA</td><td>NA</td></tr>\n",
       "\t<tr><th scope=row>4</th><td>1002510</td><td>1002510</td><td>NA</td><td>NA</td><td>NA</td><td>NA</td><td>NA</td><td>0</td><td>NA</td><td>NA</td><td>NA</td></tr>\n",
       "\t<tr><th scope=row>5</th><td>1002569</td><td>1002569</td><td>NA</td><td>NA</td><td>NA</td><td>NA</td><td>NA</td><td>1</td><td>NA</td><td>NA</td><td>NA</td></tr>\n",
       "\t<tr><th scope=row>6</th><td>1002587</td><td>1002587</td><td>NA</td><td>NA</td><td>NA</td><td>NA</td><td>NA</td><td>0</td><td>NA</td><td>0 </td><td>NA</td></tr>\n",
       "</tbody>\n",
       "</table>\n"
      ],
      "text/latex": [
       "A data.frame: 6 × 11\n",
       "\\begin{tabular}{r|lllllllllll}\n",
       "  & IID & FID & f.22001.0.0 & f.21003.0.0 & f.21003.1.0 & f.21003.2.0 & f.21003.3.0 & f.2247.0.0\\_recode & f.2247.1.0\\_recode & f.2247.2.0\\_recode & f.2247.3.0\\_recode\\\\\n",
       "  & <int> & <int> & <fct> & <fct> & <fct> & <fct> & <fct> & <fct> & <fct> & <fct> & <fct>\\\\\n",
       "\\hline\n",
       "\t1 & 1000947 & 1000947 & NA & NA & NA & NA & NA & 0 & NA & NA & NA\\\\\n",
       "\t2 & 1002216 & 1002216 & NA & NA & NA & NA & NA & 1 & NA & NA & NA\\\\\n",
       "\t3 & 1002460 & 1002460 & NA & NA & NA & NA & NA & 1 & NA & NA & NA\\\\\n",
       "\t4 & 1002510 & 1002510 & NA & NA & NA & NA & NA & 0 & NA & NA & NA\\\\\n",
       "\t5 & 1002569 & 1002569 & NA & NA & NA & NA & NA & 1 & NA & NA & NA\\\\\n",
       "\t6 & 1002587 & 1002587 & NA & NA & NA & NA & NA & 0 & NA & 0  & NA\\\\\n",
       "\\end{tabular}\n"
      ],
      "text/markdown": [
       "\n",
       "A data.frame: 6 × 11\n",
       "\n",
       "| <!--/--> | IID &lt;int&gt; | FID &lt;int&gt; | f.22001.0.0 &lt;fct&gt; | f.21003.0.0 &lt;fct&gt; | f.21003.1.0 &lt;fct&gt; | f.21003.2.0 &lt;fct&gt; | f.21003.3.0 &lt;fct&gt; | f.2247.0.0_recode &lt;fct&gt; | f.2247.1.0_recode &lt;fct&gt; | f.2247.2.0_recode &lt;fct&gt; | f.2247.3.0_recode &lt;fct&gt; |\n",
       "|---|---|---|---|---|---|---|---|---|---|---|---|\n",
       "| 1 | 1000947 | 1000947 | NA | NA | NA | NA | NA | 0 | NA | NA | NA |\n",
       "| 2 | 1002216 | 1002216 | NA | NA | NA | NA | NA | 1 | NA | NA | NA |\n",
       "| 3 | 1002460 | 1002460 | NA | NA | NA | NA | NA | 1 | NA | NA | NA |\n",
       "| 4 | 1002510 | 1002510 | NA | NA | NA | NA | NA | 0 | NA | NA | NA |\n",
       "| 5 | 1002569 | 1002569 | NA | NA | NA | NA | NA | 1 | NA | NA | NA |\n",
       "| 6 | 1002587 | 1002587 | NA | NA | NA | NA | NA | 0 | NA | 0  | NA |\n",
       "\n"
      ],
      "text/plain": [
       "  IID     FID     f.22001.0.0 f.21003.0.0 f.21003.1.0 f.21003.2.0 f.21003.3.0\n",
       "1 1000947 1000947 NA          NA          NA          NA          NA         \n",
       "2 1002216 1002216 NA          NA          NA          NA          NA         \n",
       "3 1002460 1002460 NA          NA          NA          NA          NA         \n",
       "4 1002510 1002510 NA          NA          NA          NA          NA         \n",
       "5 1002569 1002569 NA          NA          NA          NA          NA         \n",
       "6 1002587 1002587 NA          NA          NA          NA          NA         \n",
       "  f.2247.0.0_recode f.2247.1.0_recode f.2247.2.0_recode f.2247.3.0_recode\n",
       "1 0                 NA                NA                NA               \n",
       "2 1                 NA                NA                NA               \n",
       "3 1                 NA                NA                NA               \n",
       "4 0                 NA                NA                NA               \n",
       "5 1                 NA                NA                NA               \n",
       "6 0                 NA                0                 NA               "
      ]
     },
     "metadata": {},
     "output_type": "display_data"
    }
   ],
   "source": [
    "hearing_diff <- df.hearing.diff %>% \n",
    "  select(IID,FID,f.22001.0.0, f.21003.0.0,f.21003.1.0,f.21003.2.0,f.21003.3.0,f.2247.0.0_recode,f.2247.1.0_recode,f.2247.2.0_recode,f.2247.3.0_recode)\n",
    "head(hearing_diff)"
   ]
  },
  {
   "cell_type": "code",
   "execution_count": 25,
   "metadata": {
    "kernel": "R"
   },
   "outputs": [
    {
     "data": {
      "text/html": [
       "<table>\n",
       "<caption>A data.frame: 10 × 12</caption>\n",
       "<thead>\n",
       "\t<tr><th></th><th scope=col>IID</th><th scope=col>FID</th><th scope=col>f.22001.0.0</th><th scope=col>f.21003.0.0</th><th scope=col>f.21003.1.0</th><th scope=col>f.21003.2.0</th><th scope=col>f.21003.3.0</th><th scope=col>f.2247.0.0_recode</th><th scope=col>f.2247.1.0_recode</th><th scope=col>f.2247.2.0_recode</th><th scope=col>f.2247.3.0_recode</th><th scope=col>cases</th></tr>\n",
       "\t<tr><th></th><th scope=col>&lt;int&gt;</th><th scope=col>&lt;int&gt;</th><th scope=col>&lt;fct&gt;</th><th scope=col>&lt;fct&gt;</th><th scope=col>&lt;fct&gt;</th><th scope=col>&lt;fct&gt;</th><th scope=col>&lt;fct&gt;</th><th scope=col>&lt;fct&gt;</th><th scope=col>&lt;fct&gt;</th><th scope=col>&lt;fct&gt;</th><th scope=col>&lt;fct&gt;</th><th scope=col>&lt;lgl&gt;</th></tr>\n",
       "</thead>\n",
       "<tbody>\n",
       "\t<tr><th scope=row>1</th><td>1000947</td><td>1000947</td><td>NA  </td><td>NA   </td><td>NA  </td><td>NA </td><td>NA </td><td>0</td><td>NA</td><td>NA</td><td>NA</td><td>FALSE</td></tr>\n",
       "\t<tr><th scope=row>2</th><td>1002216</td><td>1002216</td><td>NA  </td><td>NA   </td><td>NA  </td><td>NA </td><td>NA </td><td>1</td><td>NA</td><td>NA</td><td>NA</td><td> TRUE</td></tr>\n",
       "\t<tr><th scope=row>3</th><td>1002460</td><td>1002460</td><td>NA  </td><td>NA   </td><td>NA  </td><td>NA </td><td>NA </td><td>1</td><td>NA</td><td>NA</td><td>NA</td><td> TRUE</td></tr>\n",
       "\t<tr><th scope=row>4</th><td>1002510</td><td>1002510</td><td>NA  </td><td>NA   </td><td>NA  </td><td>NA </td><td>NA </td><td>0</td><td>NA</td><td>NA</td><td>NA</td><td>FALSE</td></tr>\n",
       "\t<tr><th scope=row>5</th><td>1002569</td><td>1002569</td><td>NA  </td><td>NA   </td><td>NA  </td><td>NA </td><td>NA </td><td>1</td><td>NA</td><td>NA</td><td>NA</td><td> TRUE</td></tr>\n",
       "\t<tr><th scope=row>6</th><td>1002587</td><td>1002587</td><td>NA  </td><td>NA   </td><td>NA  </td><td>NA </td><td>NA </td><td>0</td><td>NA</td><td>0 </td><td>NA</td><td>FALSE</td></tr>\n",
       "\t<tr><th scope=row>7</th><td>1002621</td><td>1002621</td><td>NA  </td><td>NA   </td><td>NA  </td><td>NA </td><td>NA </td><td>0</td><td>NA</td><td>NA</td><td>NA</td><td>FALSE</td></tr>\n",
       "\t<tr><th scope=row>8</th><td>1003440</td><td>1003440</td><td>S018</td><td>M5459</td><td>N390</td><td>R13</td><td>R15</td><td>1</td><td>NA</td><td>NA</td><td>NA</td><td> TRUE</td></tr>\n",
       "\t<tr><th scope=row>9</th><td>1003529</td><td>1003529</td><td>NA  </td><td>NA   </td><td>NA  </td><td>NA </td><td>NA </td><td>0</td><td>NA</td><td>NA</td><td>NA</td><td>FALSE</td></tr>\n",
       "\t<tr><th scope=row>10</th><td>1004098</td><td>1004098</td><td>NA  </td><td>S3270</td><td>NA  </td><td>NA </td><td>NA </td><td>0</td><td>NA</td><td>NA</td><td>NA</td><td>FALSE</td></tr>\n",
       "</tbody>\n",
       "</table>\n"
      ],
      "text/latex": [
       "A data.frame: 10 × 12\n",
       "\\begin{tabular}{r|llllllllllll}\n",
       "  & IID & FID & f.22001.0.0 & f.21003.0.0 & f.21003.1.0 & f.21003.2.0 & f.21003.3.0 & f.2247.0.0\\_recode & f.2247.1.0\\_recode & f.2247.2.0\\_recode & f.2247.3.0\\_recode & cases\\\\\n",
       "  & <int> & <int> & <fct> & <fct> & <fct> & <fct> & <fct> & <fct> & <fct> & <fct> & <fct> & <lgl>\\\\\n",
       "\\hline\n",
       "\t1 & 1000947 & 1000947 & NA   & NA    & NA   & NA  & NA  & 0 & NA & NA & NA & FALSE\\\\\n",
       "\t2 & 1002216 & 1002216 & NA   & NA    & NA   & NA  & NA  & 1 & NA & NA & NA &  TRUE\\\\\n",
       "\t3 & 1002460 & 1002460 & NA   & NA    & NA   & NA  & NA  & 1 & NA & NA & NA &  TRUE\\\\\n",
       "\t4 & 1002510 & 1002510 & NA   & NA    & NA   & NA  & NA  & 0 & NA & NA & NA & FALSE\\\\\n",
       "\t5 & 1002569 & 1002569 & NA   & NA    & NA   & NA  & NA  & 1 & NA & NA & NA &  TRUE\\\\\n",
       "\t6 & 1002587 & 1002587 & NA   & NA    & NA   & NA  & NA  & 0 & NA & 0  & NA & FALSE\\\\\n",
       "\t7 & 1002621 & 1002621 & NA   & NA    & NA   & NA  & NA  & 0 & NA & NA & NA & FALSE\\\\\n",
       "\t8 & 1003440 & 1003440 & S018 & M5459 & N390 & R13 & R15 & 1 & NA & NA & NA &  TRUE\\\\\n",
       "\t9 & 1003529 & 1003529 & NA   & NA    & NA   & NA  & NA  & 0 & NA & NA & NA & FALSE\\\\\n",
       "\t10 & 1004098 & 1004098 & NA   & S3270 & NA   & NA  & NA  & 0 & NA & NA & NA & FALSE\\\\\n",
       "\\end{tabular}\n"
      ],
      "text/markdown": [
       "\n",
       "A data.frame: 10 × 12\n",
       "\n",
       "| <!--/--> | IID &lt;int&gt; | FID &lt;int&gt; | f.22001.0.0 &lt;fct&gt; | f.21003.0.0 &lt;fct&gt; | f.21003.1.0 &lt;fct&gt; | f.21003.2.0 &lt;fct&gt; | f.21003.3.0 &lt;fct&gt; | f.2247.0.0_recode &lt;fct&gt; | f.2247.1.0_recode &lt;fct&gt; | f.2247.2.0_recode &lt;fct&gt; | f.2247.3.0_recode &lt;fct&gt; | cases &lt;lgl&gt; |\n",
       "|---|---|---|---|---|---|---|---|---|---|---|---|---|\n",
       "| 1 | 1000947 | 1000947 | NA   | NA    | NA   | NA  | NA  | 0 | NA | NA | NA | FALSE |\n",
       "| 2 | 1002216 | 1002216 | NA   | NA    | NA   | NA  | NA  | 1 | NA | NA | NA |  TRUE |\n",
       "| 3 | 1002460 | 1002460 | NA   | NA    | NA   | NA  | NA  | 1 | NA | NA | NA |  TRUE |\n",
       "| 4 | 1002510 | 1002510 | NA   | NA    | NA   | NA  | NA  | 0 | NA | NA | NA | FALSE |\n",
       "| 5 | 1002569 | 1002569 | NA   | NA    | NA   | NA  | NA  | 1 | NA | NA | NA |  TRUE |\n",
       "| 6 | 1002587 | 1002587 | NA   | NA    | NA   | NA  | NA  | 0 | NA | 0  | NA | FALSE |\n",
       "| 7 | 1002621 | 1002621 | NA   | NA    | NA   | NA  | NA  | 0 | NA | NA | NA | FALSE |\n",
       "| 8 | 1003440 | 1003440 | S018 | M5459 | N390 | R13 | R15 | 1 | NA | NA | NA |  TRUE |\n",
       "| 9 | 1003529 | 1003529 | NA   | NA    | NA   | NA  | NA  | 0 | NA | NA | NA | FALSE |\n",
       "| 10 | 1004098 | 1004098 | NA   | S3270 | NA   | NA  | NA  | 0 | NA | NA | NA | FALSE |\n",
       "\n"
      ],
      "text/plain": [
       "   IID     FID     f.22001.0.0 f.21003.0.0 f.21003.1.0 f.21003.2.0 f.21003.3.0\n",
       "1  1000947 1000947 NA          NA          NA          NA          NA         \n",
       "2  1002216 1002216 NA          NA          NA          NA          NA         \n",
       "3  1002460 1002460 NA          NA          NA          NA          NA         \n",
       "4  1002510 1002510 NA          NA          NA          NA          NA         \n",
       "5  1002569 1002569 NA          NA          NA          NA          NA         \n",
       "6  1002587 1002587 NA          NA          NA          NA          NA         \n",
       "7  1002621 1002621 NA          NA          NA          NA          NA         \n",
       "8  1003440 1003440 S018        M5459       N390        R13         R15        \n",
       "9  1003529 1003529 NA          NA          NA          NA          NA         \n",
       "10 1004098 1004098 NA          S3270       NA          NA          NA         \n",
       "   f.2247.0.0_recode f.2247.1.0_recode f.2247.2.0_recode f.2247.3.0_recode\n",
       "1  0                 NA                NA                NA               \n",
       "2  1                 NA                NA                NA               \n",
       "3  1                 NA                NA                NA               \n",
       "4  0                 NA                NA                NA               \n",
       "5  1                 NA                NA                NA               \n",
       "6  0                 NA                0                 NA               \n",
       "7  0                 NA                NA                NA               \n",
       "8  1                 NA                NA                NA               \n",
       "9  0                 NA                NA                NA               \n",
       "10 0                 NA                NA                NA               \n",
       "   cases\n",
       "1  FALSE\n",
       "2   TRUE\n",
       "3   TRUE\n",
       "4  FALSE\n",
       "5   TRUE\n",
       "6  FALSE\n",
       "7  FALSE\n",
       "8   TRUE\n",
       "9  FALSE\n",
       "10 FALSE"
      ]
     },
     "metadata": {},
     "output_type": "display_data"
    }
   ],
   "source": [
    "data_sub <- select(hearing_diff,starts_with(\"f.2247\"))\n",
    "\n",
    "# Function to define cases\n",
    "f<-function(x){\n",
    "  visit<-c()\n",
    "  for (i in 1:4){\n",
    "    if (!is.na(x[i]))\n",
    "    {visit<-c(visit,x[i])}\n",
    "  }\n",
    "  if (\"1\" %in% visit){result= TRUE}\n",
    "  else{result=FALSE}\n",
    "  return (result)\n",
    "}\n",
    "\n",
    "# Apply the above function\n",
    "hearing_diff$cases<-apply(data_sub, 1, f)\n",
    "head(hearing_diff,10)"
   ]
  },
  {
   "cell_type": "code",
   "execution_count": 26,
   "metadata": {
    "kernel": "R"
   },
   "outputs": [
    {
     "data": {
      "text/html": [
       "<table>\n",
       "<caption>A data.frame: 6 × 12</caption>\n",
       "<thead>\n",
       "\t<tr><th></th><th scope=col>IID</th><th scope=col>FID</th><th scope=col>f.22001.0.0</th><th scope=col>f.21003.0.0</th><th scope=col>f.21003.1.0</th><th scope=col>f.21003.2.0</th><th scope=col>f.21003.3.0</th><th scope=col>f.2247.0.0_recode</th><th scope=col>f.2247.1.0_recode</th><th scope=col>f.2247.2.0_recode</th><th scope=col>f.2247.3.0_recode</th><th scope=col>cases</th></tr>\n",
       "\t<tr><th></th><th scope=col>&lt;int&gt;</th><th scope=col>&lt;int&gt;</th><th scope=col>&lt;fct&gt;</th><th scope=col>&lt;fct&gt;</th><th scope=col>&lt;fct&gt;</th><th scope=col>&lt;fct&gt;</th><th scope=col>&lt;fct&gt;</th><th scope=col>&lt;fct&gt;</th><th scope=col>&lt;fct&gt;</th><th scope=col>&lt;fct&gt;</th><th scope=col>&lt;fct&gt;</th><th scope=col>&lt;lgl&gt;</th></tr>\n",
       "</thead>\n",
       "<tbody>\n",
       "\t<tr><th scope=row>1</th><td>1002216</td><td>1002216</td><td>NA  </td><td>NA   </td><td>NA  </td><td>NA </td><td>NA </td><td>1</td><td>NA</td><td>NA</td><td>NA</td><td>TRUE</td></tr>\n",
       "\t<tr><th scope=row>2</th><td>1002460</td><td>1002460</td><td>NA  </td><td>NA   </td><td>NA  </td><td>NA </td><td>NA </td><td>1</td><td>NA</td><td>NA</td><td>NA</td><td>TRUE</td></tr>\n",
       "\t<tr><th scope=row>3</th><td>1002569</td><td>1002569</td><td>NA  </td><td>NA   </td><td>NA  </td><td>NA </td><td>NA </td><td>1</td><td>NA</td><td>NA</td><td>NA</td><td>TRUE</td></tr>\n",
       "\t<tr><th scope=row>4</th><td>1003440</td><td>1003440</td><td>S018</td><td>M5459</td><td>N390</td><td>R13</td><td>R15</td><td>1</td><td>NA</td><td>NA</td><td>NA</td><td>TRUE</td></tr>\n",
       "\t<tr><th scope=row>5</th><td>1004303</td><td>1004303</td><td>NA  </td><td>NA   </td><td>NA  </td><td>NA </td><td>NA </td><td>1</td><td>NA</td><td>NA</td><td>NA</td><td>TRUE</td></tr>\n",
       "\t<tr><th scope=row>6</th><td>1004509</td><td>1004509</td><td>NA  </td><td>NA   </td><td>NA  </td><td>NA </td><td>NA </td><td>1</td><td>NA</td><td>NA</td><td>NA</td><td>TRUE</td></tr>\n",
       "</tbody>\n",
       "</table>\n"
      ],
      "text/latex": [
       "A data.frame: 6 × 12\n",
       "\\begin{tabular}{r|llllllllllll}\n",
       "  & IID & FID & f.22001.0.0 & f.21003.0.0 & f.21003.1.0 & f.21003.2.0 & f.21003.3.0 & f.2247.0.0\\_recode & f.2247.1.0\\_recode & f.2247.2.0\\_recode & f.2247.3.0\\_recode & cases\\\\\n",
       "  & <int> & <int> & <fct> & <fct> & <fct> & <fct> & <fct> & <fct> & <fct> & <fct> & <fct> & <lgl>\\\\\n",
       "\\hline\n",
       "\t1 & 1002216 & 1002216 & NA   & NA    & NA   & NA  & NA  & 1 & NA & NA & NA & TRUE\\\\\n",
       "\t2 & 1002460 & 1002460 & NA   & NA    & NA   & NA  & NA  & 1 & NA & NA & NA & TRUE\\\\\n",
       "\t3 & 1002569 & 1002569 & NA   & NA    & NA   & NA  & NA  & 1 & NA & NA & NA & TRUE\\\\\n",
       "\t4 & 1003440 & 1003440 & S018 & M5459 & N390 & R13 & R15 & 1 & NA & NA & NA & TRUE\\\\\n",
       "\t5 & 1004303 & 1004303 & NA   & NA    & NA   & NA  & NA  & 1 & NA & NA & NA & TRUE\\\\\n",
       "\t6 & 1004509 & 1004509 & NA   & NA    & NA   & NA  & NA  & 1 & NA & NA & NA & TRUE\\\\\n",
       "\\end{tabular}\n"
      ],
      "text/markdown": [
       "\n",
       "A data.frame: 6 × 12\n",
       "\n",
       "| <!--/--> | IID &lt;int&gt; | FID &lt;int&gt; | f.22001.0.0 &lt;fct&gt; | f.21003.0.0 &lt;fct&gt; | f.21003.1.0 &lt;fct&gt; | f.21003.2.0 &lt;fct&gt; | f.21003.3.0 &lt;fct&gt; | f.2247.0.0_recode &lt;fct&gt; | f.2247.1.0_recode &lt;fct&gt; | f.2247.2.0_recode &lt;fct&gt; | f.2247.3.0_recode &lt;fct&gt; | cases &lt;lgl&gt; |\n",
       "|---|---|---|---|---|---|---|---|---|---|---|---|---|\n",
       "| 1 | 1002216 | 1002216 | NA   | NA    | NA   | NA  | NA  | 1 | NA | NA | NA | TRUE |\n",
       "| 2 | 1002460 | 1002460 | NA   | NA    | NA   | NA  | NA  | 1 | NA | NA | NA | TRUE |\n",
       "| 3 | 1002569 | 1002569 | NA   | NA    | NA   | NA  | NA  | 1 | NA | NA | NA | TRUE |\n",
       "| 4 | 1003440 | 1003440 | S018 | M5459 | N390 | R13 | R15 | 1 | NA | NA | NA | TRUE |\n",
       "| 5 | 1004303 | 1004303 | NA   | NA    | NA   | NA  | NA  | 1 | NA | NA | NA | TRUE |\n",
       "| 6 | 1004509 | 1004509 | NA   | NA    | NA   | NA  | NA  | 1 | NA | NA | NA | TRUE |\n",
       "\n"
      ],
      "text/plain": [
       "  IID     FID     f.22001.0.0 f.21003.0.0 f.21003.1.0 f.21003.2.0 f.21003.3.0\n",
       "1 1002216 1002216 NA          NA          NA          NA          NA         \n",
       "2 1002460 1002460 NA          NA          NA          NA          NA         \n",
       "3 1002569 1002569 NA          NA          NA          NA          NA         \n",
       "4 1003440 1003440 S018        M5459       N390        R13         R15        \n",
       "5 1004303 1004303 NA          NA          NA          NA          NA         \n",
       "6 1004509 1004509 NA          NA          NA          NA          NA         \n",
       "  f.2247.0.0_recode f.2247.1.0_recode f.2247.2.0_recode f.2247.3.0_recode cases\n",
       "1 1                 NA                NA                NA                TRUE \n",
       "2 1                 NA                NA                NA                TRUE \n",
       "3 1                 NA                NA                NA                TRUE \n",
       "4 1                 NA                NA                NA                TRUE \n",
       "5 1                 NA                NA                NA                TRUE \n",
       "6 1                 NA                NA                NA                TRUE "
      ]
     },
     "metadata": {},
     "output_type": "display_data"
    },
    {
     "name": "stdout",
     "output_type": "stream",
     "text": [
      "6661 individuals are cases for f.2247"
     ]
    }
   ],
   "source": [
    "hearing_diff_cases <- hearing_diff %>% \n",
    "  filter(cases == TRUE)\n",
    "head(hearing_diff_cases)\n",
    "cat(dim(hearing_diff_cases)[1], \"individuals are cases for f.2247\")"
   ]
  },
  {
   "cell_type": "code",
   "execution_count": 44,
   "metadata": {
    "kernel": "R"
   },
   "outputs": [
    {
     "data": {
      "text/html": [
       "<table>\n",
       "<caption>A data.frame: 6 × 12</caption>\n",
       "<thead>\n",
       "\t<tr><th></th><th scope=col>IID</th><th scope=col>FID</th><th scope=col>f.22001.0.0</th><th scope=col>f.21003.0.0</th><th scope=col>f.21003.1.0</th><th scope=col>f.21003.2.0</th><th scope=col>f.21003.3.0</th><th scope=col>f.2247.0.0_recode</th><th scope=col>f.2247.1.0_recode</th><th scope=col>f.2247.2.0_recode</th><th scope=col>f.2247.3.0_recode</th><th scope=col>cases</th></tr>\n",
       "\t<tr><th></th><th scope=col>&lt;int&gt;</th><th scope=col>&lt;int&gt;</th><th scope=col>&lt;fct&gt;</th><th scope=col>&lt;fct&gt;</th><th scope=col>&lt;fct&gt;</th><th scope=col>&lt;fct&gt;</th><th scope=col>&lt;fct&gt;</th><th scope=col>&lt;fct&gt;</th><th scope=col>&lt;fct&gt;</th><th scope=col>&lt;fct&gt;</th><th scope=col>&lt;fct&gt;</th><th scope=col>&lt;lgl&gt;</th></tr>\n",
       "</thead>\n",
       "<tbody>\n",
       "\t<tr><th scope=row>1</th><td>1000947</td><td>1000947</td><td>NA</td><td>NA   </td><td>NA</td><td>NA</td><td>NA</td><td>0</td><td>NA</td><td>NA</td><td>NA</td><td>FALSE</td></tr>\n",
       "\t<tr><th scope=row>2</th><td>1002510</td><td>1002510</td><td>NA</td><td>NA   </td><td>NA</td><td>NA</td><td>NA</td><td>0</td><td>NA</td><td>NA</td><td>NA</td><td>FALSE</td></tr>\n",
       "\t<tr><th scope=row>3</th><td>1002587</td><td>1002587</td><td>NA</td><td>NA   </td><td>NA</td><td>NA</td><td>NA</td><td>0</td><td>NA</td><td>0 </td><td>NA</td><td>FALSE</td></tr>\n",
       "\t<tr><th scope=row>4</th><td>1002621</td><td>1002621</td><td>NA</td><td>NA   </td><td>NA</td><td>NA</td><td>NA</td><td>0</td><td>NA</td><td>NA</td><td>NA</td><td>FALSE</td></tr>\n",
       "\t<tr><th scope=row>5</th><td>1003529</td><td>1003529</td><td>NA</td><td>NA   </td><td>NA</td><td>NA</td><td>NA</td><td>0</td><td>NA</td><td>NA</td><td>NA</td><td>FALSE</td></tr>\n",
       "\t<tr><th scope=row>6</th><td>1004098</td><td>1004098</td><td>NA</td><td>S3270</td><td>NA</td><td>NA</td><td>NA</td><td>0</td><td>NA</td><td>NA</td><td>NA</td><td>FALSE</td></tr>\n",
       "</tbody>\n",
       "</table>\n"
      ],
      "text/latex": [
       "A data.frame: 6 × 12\n",
       "\\begin{tabular}{r|llllllllllll}\n",
       "  & IID & FID & f.22001.0.0 & f.21003.0.0 & f.21003.1.0 & f.21003.2.0 & f.21003.3.0 & f.2247.0.0\\_recode & f.2247.1.0\\_recode & f.2247.2.0\\_recode & f.2247.3.0\\_recode & cases\\\\\n",
       "  & <int> & <int> & <fct> & <fct> & <fct> & <fct> & <fct> & <fct> & <fct> & <fct> & <fct> & <lgl>\\\\\n",
       "\\hline\n",
       "\t1 & 1000947 & 1000947 & NA & NA    & NA & NA & NA & 0 & NA & NA & NA & FALSE\\\\\n",
       "\t2 & 1002510 & 1002510 & NA & NA    & NA & NA & NA & 0 & NA & NA & NA & FALSE\\\\\n",
       "\t3 & 1002587 & 1002587 & NA & NA    & NA & NA & NA & 0 & NA & 0  & NA & FALSE\\\\\n",
       "\t4 & 1002621 & 1002621 & NA & NA    & NA & NA & NA & 0 & NA & NA & NA & FALSE\\\\\n",
       "\t5 & 1003529 & 1003529 & NA & NA    & NA & NA & NA & 0 & NA & NA & NA & FALSE\\\\\n",
       "\t6 & 1004098 & 1004098 & NA & S3270 & NA & NA & NA & 0 & NA & NA & NA & FALSE\\\\\n",
       "\\end{tabular}\n"
      ],
      "text/markdown": [
       "\n",
       "A data.frame: 6 × 12\n",
       "\n",
       "| <!--/--> | IID &lt;int&gt; | FID &lt;int&gt; | f.22001.0.0 &lt;fct&gt; | f.21003.0.0 &lt;fct&gt; | f.21003.1.0 &lt;fct&gt; | f.21003.2.0 &lt;fct&gt; | f.21003.3.0 &lt;fct&gt; | f.2247.0.0_recode &lt;fct&gt; | f.2247.1.0_recode &lt;fct&gt; | f.2247.2.0_recode &lt;fct&gt; | f.2247.3.0_recode &lt;fct&gt; | cases &lt;lgl&gt; |\n",
       "|---|---|---|---|---|---|---|---|---|---|---|---|---|\n",
       "| 1 | 1000947 | 1000947 | NA | NA    | NA | NA | NA | 0 | NA | NA | NA | FALSE |\n",
       "| 2 | 1002510 | 1002510 | NA | NA    | NA | NA | NA | 0 | NA | NA | NA | FALSE |\n",
       "| 3 | 1002587 | 1002587 | NA | NA    | NA | NA | NA | 0 | NA | 0  | NA | FALSE |\n",
       "| 4 | 1002621 | 1002621 | NA | NA    | NA | NA | NA | 0 | NA | NA | NA | FALSE |\n",
       "| 5 | 1003529 | 1003529 | NA | NA    | NA | NA | NA | 0 | NA | NA | NA | FALSE |\n",
       "| 6 | 1004098 | 1004098 | NA | S3270 | NA | NA | NA | 0 | NA | NA | NA | FALSE |\n",
       "\n"
      ],
      "text/plain": [
       "  IID     FID     f.22001.0.0 f.21003.0.0 f.21003.1.0 f.21003.2.0 f.21003.3.0\n",
       "1 1000947 1000947 NA          NA          NA          NA          NA         \n",
       "2 1002510 1002510 NA          NA          NA          NA          NA         \n",
       "3 1002587 1002587 NA          NA          NA          NA          NA         \n",
       "4 1002621 1002621 NA          NA          NA          NA          NA         \n",
       "5 1003529 1003529 NA          NA          NA          NA          NA         \n",
       "6 1004098 1004098 NA          S3270       NA          NA          NA         \n",
       "  f.2247.0.0_recode f.2247.1.0_recode f.2247.2.0_recode f.2247.3.0_recode cases\n",
       "1 0                 NA                NA                NA                FALSE\n",
       "2 0                 NA                NA                NA                FALSE\n",
       "3 0                 NA                0                 NA                FALSE\n",
       "4 0                 NA                NA                NA                FALSE\n",
       "5 0                 NA                NA                NA                FALSE\n",
       "6 0                 NA                NA                NA                FALSE"
      ]
     },
     "metadata": {},
     "output_type": "display_data"
    },
    {
     "name": "stdout",
     "output_type": "stream",
     "text": [
      "5349 individuals are controls for f.2247"
     ]
    }
   ],
   "source": [
    "hearing_diff_controls <- hearing_diff %>% \n",
    "  filter(cases == FALSE)\n",
    "head(hearing_diff_controls)\n",
    "cat(dim(hearing_diff_controls)[1], \"individuals are controls for f.2247\")"
   ]
  },
  {
   "cell_type": "code",
   "execution_count": 28,
   "metadata": {
    "kernel": "R"
   },
   "outputs": [
    {
     "data": {
      "text/html": [
       "TRUE"
      ],
      "text/latex": [
       "TRUE"
      ],
      "text/markdown": [
       "TRUE"
      ],
      "text/plain": [
       "[1] TRUE"
      ]
     },
     "metadata": {},
     "output_type": "display_data"
    }
   ],
   "source": [
    "any(apply(df_excluded, 2, function(x) grepl(\"H809\", x)))"
   ]
  },
  {
   "cell_type": "code",
   "execution_count": null,
   "metadata": {
    "kernel": "R"
   },
   "outputs": [],
   "source": [
    "H809 <- grep(df_excluded,(\"H809\"))"
   ]
  },
  {
   "cell_type": "code",
   "execution_count": null,
   "metadata": {
    "kernel": "R"
   },
   "outputs": [],
   "source": [
    "table(H809)"
   ]
  }
 ],
 "metadata": {
  "kernelspec": {
   "display_name": "SoS",
   "language": "sos",
   "name": "sos"
  },
  "language_info": {
   "codemirror_mode": "sos",
   "file_extension": ".sos",
   "mimetype": "text/x-sos",
   "name": "sos",
   "nbconvert_exporter": "sos_notebook.converter.SoS_Exporter",
   "pygments_lexer": "sos"
  },
  "sos": {
   "kernels": [
    [
     "Bash",
     "calysto_bash",
     "Bash",
     "#E6EEFF",
     ""
    ],
    [
     "R",
     "ir",
     "R",
     "#DCDCDA",
     "r"
    ]
   ],
   "version": "0.21.21"
  }
 },
 "nbformat": 4,
 "nbformat_minor": 4
}
