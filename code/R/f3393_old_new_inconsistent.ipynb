{
 "cells": [
  {
   "cell_type": "markdown",
   "metadata": {
    "kernel": "SoS"
   },
   "source": [
    "## Analyze difference in variants between f.3393 old pheno and new pheno"
   ]
  },
  {
   "cell_type": "code",
   "execution_count": 1,
   "metadata": {
    "kernel": "Bash"
   },
   "outputs": [
    {
     "name": "stdout",
     "output_type": "stream",
     "text": [
      "\n"
     ]
    }
   ],
   "source": [
    "cd /gpfs/gibbs/pi/dewan/data/UKBiobank/results/REGENIE_results/results_exome_data/f3393_hearing_aid_exomes_bfile"
   ]
  },
  {
   "cell_type": "code",
   "execution_count": 2,
   "metadata": {
    "kernel": "Bash"
   },
   "outputs": [
    {
     "name": "stdout",
     "output_type": "stream",
     "text": [
      "010421_UKBB_Hearing_aid_f3393_128254ind_exomes_hearing_aid_cat.regenie_1.loco\n",
      "010421_UKBB_Hearing_aid_f3393_128254ind_exomes_hearing_aid_cat.regenie.analysis_summary.html\n",
      "010421_UKBB_Hearing_aid_f3393_128254ind_exomes_hearing_aid_cat.regenie.analysis_summary.md\n",
      "010421_UKBB_Hearing_aid_f3393_128254ind_exomes_hearing_aid_cat.regenie.analysis_summary.pptx\n",
      "010421_UKBB_Hearing_aid_f3393_128254ind_exomes_hearing_aid_cat.regenie.analysis_summary.stderr\n",
      "010421_UKBB_Hearing_aid_f3393_128254ind_exomes_hearing_aid_cat.regenie.analysis_summary.stdout\n",
      "010421_UKBB_Hearing_aid_f3393_128254ind_exomes_hearing_aid_cat.regenie.log\n",
      "010421_UKBB_Hearing_aid_f3393_128254ind_exomes_hearing_aid_cat.regenie.manhattan_annotated.png\n",
      "010421_UKBB_Hearing_aid_f3393_128254ind_exomes_hearing_aid_cat.regenie.manhattan_annotated.stderr\n",
      "010421_UKBB_Hearing_aid_f3393_128254ind_exomes_hearing_aid_cat.regenie.manhattan_annotated.stdout\n",
      "010421_UKBB_Hearing_aid_f3393_128254ind_exomes_hearing_aid_cat.regenie.manhattan.png\n",
      "010421_UKBB_Hearing_aid_f3393_128254ind_exomes_hearing_aid_cat.regenie.manhattan.stderr\n",
      "010421_UKBB_Hearing_aid_f3393_128254ind_exomes_hearing_aid_cat.regenie.manhattan.stdout\n",
      "010421_UKBB_Hearing_aid_f3393_128254ind_exomes_hearing_aid_cat.regenie.plot_data.rds\n",
      "010421_UKBB_Hearing_aid_f3393_128254ind_exomes_hearing_aid_cat.regenie_pred.list\n",
      "010421_UKBB_Hearing_aid_f3393_128254ind_exomes_hearing_aid_cat.regenie_pred.stderr\n",
      "010421_UKBB_Hearing_aid_f3393_128254ind_exomes_hearing_aid_cat.regenie_pred.stdout\n",
      "010421_UKBB_Hearing_aid_f3393_128254ind_exomes_hearing_aid_cat.regenie.qq.png\n",
      "010421_UKBB_Hearing_aid_f3393_128254ind_exomes_hearing_aid_cat.regenie.snp_counts.txt\n",
      "010421_UKBB_Hearing_aid_f3393_128254ind_exomes_hearing_aid_cat.regenie.snp_stats.gz\n",
      "010421_UKBB_Hearing_aid_f3393_128254ind_exomes_hearing_aid_cat.regenie.snp_stats.log\n",
      "010421_UKBB_Hearing_aid_f3393_128254ind_exomes_hearing_aid_cat.regenie.snp_stats_original_columns.gz\n",
      "010421_UKBB_Hearing_aid_f3393_128254ind_exomes.regenie_covar\n",
      "010421_UKBB_Hearing_aid_f3393_128254ind_exomes.regenie_phenotype\n",
      "cache\n",
      "\n"
     ]
    }
   ],
   "source": [
    "ls"
   ]
  },
  {
   "cell_type": "code",
   "execution_count": 3,
   "metadata": {
    "kernel": "Bash"
   },
   "outputs": [
    {
     "name": "stdout",
     "output_type": "stream",
     "text": [
      "\n"
     ]
    }
   ],
   "source": [
    "zcat 010421_UKBB_Hearing_aid_f3393_128254ind_exomes_hearing_aid_cat.regenie.snp_stats.gz | sort -k 8 -g | awk -F, '{if($8<5e-08)print $0}' > 010421_UKBB_Hearing_aid_f3393_128254ind_exomes_hearing_aid_cat.regenie.sig_hits"
   ]
  },
  {
   "cell_type": "markdown",
   "metadata": {
    "kernel": "Bash"
   },
   "source": [
    "## New pheno"
   ]
  },
  {
   "cell_type": "code",
   "execution_count": null,
   "metadata": {
    "kernel": "Bash"
   },
   "outputs": [],
   "source": [
    "cd /gpfs/gibbs/pi/dewan/data/UKBiobank/results/REGENIE_results/results_exome_data/f2247_hearing_difficulty_exomes200K_noqc_ctrl_na"
   ]
  },
  {
   "cell_type": "code",
   "execution_count": null,
   "metadata": {
    "kernel": "Bash"
   },
   "outputs": [],
   "source": [
    "zcat 062421_UKBB_Hearing_difficulty_f2247_expandedwhite_z974included_ctrl_na_144952ind_f2247_ctrl_na.regenie.snp_stats.gz | sort -k 8 -g | awk -F '\\t' '{if($8<5e-08)print $0}'\\\n",
    "> 062421_UKBB_Hearing_difficulty_f2247_expandedwhite_z974included_ctrl_na_144952ind_f2247_ctrl_na.regenie.sig_hits"
   ]
  },
  {
   "cell_type": "code",
   "execution_count": null,
   "metadata": {
    "kernel": "Bash"
   },
   "outputs": [],
   "source": [
    "cd /gpfs/gibbs/pi/dewan/data/UKBiobank/results/REGENIE_results/results_exome_data/f2257_hearing_difficulty_exomes200K_noqc_ctrl_na "
   ]
  },
  {
   "cell_type": "code",
   "execution_count": null,
   "metadata": {
    "kernel": "Bash"
   },
   "outputs": [],
   "source": [
    "zcat 062421_UKBB_Hearing_background_noise_f2257_expandedwhite_z974included_ctrl_na_166199ind_f2257_ctrl_na.regenie.snp_stats.gz |  sort -k 8 -g | awk -F '\\t' '{if($8<5e-08)print $0}'\\\n",
    "> 062421_UKBB_Hearing_background_noise_f2257_expandedwhite_z974included_ctrl_na_166199ind_f2257_ctrl_na.regenie.sig_hits"
   ]
  },
  {
   "cell_type": "code",
   "execution_count": null,
   "metadata": {
    "kernel": "Bash"
   },
   "outputs": [],
   "source": [
    "cd /gpfs/gibbs/pi/dewan/data/UKBiobank/results/REGENIE_results/results_exome_data/f2247_f2257_exomes200K_noqc_ctrl_na"
   ]
  },
  {
   "cell_type": "code",
   "execution_count": null,
   "metadata": {
    "kernel": "Bash"
   },
   "outputs": [],
   "source": [
    "zcat 062421_UKBB_f2247_f2257_expandedwhite_z974included_ctrl_na_137245ind_f2247_f2257_ctrl_na.regenie.snp_stats.gz |  sort -k 8 -g | awk -F '\\t' '{if($8<5e-08)print $0}'\\\n",
    "> 062421_UKBB_f2247_f2257_expandedwhite_z974included_ctrl_na_137245ind_f2247_f2257_ctrl_na.regenie.sig_hits"
   ]
  },
  {
   "cell_type": "code",
   "execution_count": null,
   "metadata": {
    "kernel": "Bash"
   },
   "outputs": [],
   "source": [
    "cd /gpfs/gibbs/pi/dewan/data/UKBiobank/results/REGENIE_results/results_exome_data/f3393_hearing_aid_exomes200K_noqc_ctrl_na"
   ]
  },
  {
   "cell_type": "code",
   "execution_count": null,
   "metadata": {
    "kernel": "Bash"
   },
   "outputs": [],
   "source": [
    "zcat 062421_UKBB_Hearing_aid_f3393_expandedwhite_z974included_ctrl_na_104402ind_f3393_ctrl_na.regenie.snp_stats.gz |  sort -k 8 -g | awk -F '\\t' '{if($8<5e-08)print $0}'\\\n",
    "> 062421_UKBB_Hearing_aid_f3393_expandedwhite_z974included_ctrl_na_104402ind_f3393_ctrl_na.regenie.sig_hits"
   ]
  }
 ],
 "metadata": {
  "kernelspec": {
   "display_name": "SoS",
   "language": "sos",
   "name": "sos"
  },
  "language_info": {
   "codemirror_mode": "sos",
   "file_extension": ".sos",
   "mimetype": "text/x-sos",
   "name": "sos",
   "nbconvert_exporter": "sos_notebook.converter.SoS_Exporter",
   "pygments_lexer": "sos"
  },
  "sos": {
   "kernels": [
    [
     "Bash",
     "calysto_bash",
     "Bash",
     "#E6EEFF",
     ""
    ]
   ],
   "version": "0.21.21"
  }
 },
 "nbformat": 4,
 "nbformat_minor": 4
}
