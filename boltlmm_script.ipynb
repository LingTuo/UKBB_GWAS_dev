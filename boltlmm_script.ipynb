{
 "cells": [
  {
   "cell_type": "markdown",
   "metadata": {},
   "source": [
    "## Submit jobs via Slum - Yale cluster"
   ]
  },
  {
   "cell_type": "code",
   "execution_count": null,
   "metadata": {},
   "outputs": [],
   "source": [
    "#!/bin/bash\n",
    "#SBATCH --job-name=BMI_bolt\n",
    "#SBATCH --ntasks=1 --nodes=1\n",
    "#SBATCH --mem-per-cpu=5G\n",
    "#SBATCH --time=12:00:00\n",
    "#SBATCH --mail-type=ALL\n",
    "#SBATCH --mail-user=<dmc2245@cumc.columbia.edu>\n"
   ]
  }
 ],
 "metadata": {
  "kernelspec": {
   "display_name": "Bash",
   "language": "bash",
   "name": "bash"
  },
  "language_info": {
   "codemirror_mode": "shell",
   "file_extension": ".sh",
   "mimetype": "text/x-sh",
   "name": "bash"
  }
 },
 "nbformat": 4,
 "nbformat_minor": 4
}
