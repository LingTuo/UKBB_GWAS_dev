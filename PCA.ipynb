{
 "cells": [
  {
   "cell_type": "markdown",
   "metadata": {
    "kernel": "SoS"
   },
   "source": [
    "# PCA plot generation UKBB data\n",
    "\n",
    "The intention of this notebook is to generate the PCA plots for the exome samples.\n",
    "\n",
    "Steps to generate a PCA include removing related individuals, pruning variants in linkage disequilibrium (LD), and excluding outlier samples that can suggest poor genotyping quality or distant relatedness (also restrict to individuals of homogeneous ancestry).\n",
    "\n",
    "Pitfalls\n",
    "1. Some of the PCs may capture LD structure rather than population structure (decrease in power to detect associations in these regions of high LD)\n",
    "2. When projecting a new study dataset to the PCA space computed from a reference dataset: projected PCs are shrunk toward 0 in the new dataset \n",
    "3.  PC scores may capture outliers that are due to family structure, population structure or other reasons; it might be beneficial to detect and remove these individuals to maximize the population structure captured by PCA (in the case of removing a few outliers) or to restrict analyses to genetically homogeneous samples\n"
   ]
  },
  {
   "cell_type": "markdown",
   "metadata": {
    "kernel": "SoS"
   },
   "source": [
    "## Identify and select the 200K individuals from exome sequencing"
   ]
  },
  {
   "cell_type": "code",
   "execution_count": 7,
   "metadata": {
    "kernel": "R"
   },
   "outputs": [
    {
     "name": "stderr",
     "output_type": "stream",
     "text": [
      "── \u001b[1mAttaching packages\u001b[22m ─────────────────────────────────────── tidyverse 1.3.0 ──\n",
      "\n",
      "\u001b[32m✔\u001b[39m \u001b[34mggplot2\u001b[39m 3.3.2     \u001b[32m✔\u001b[39m \u001b[34mpurrr  \u001b[39m 0.3.4\n",
      "\u001b[32m✔\u001b[39m \u001b[34mtibble \u001b[39m 3.0.4     \u001b[32m✔\u001b[39m \u001b[34mdplyr  \u001b[39m 1.0.2\n",
      "\u001b[32m✔\u001b[39m \u001b[34mtidyr  \u001b[39m 1.0.2     \u001b[32m✔\u001b[39m \u001b[34mstringr\u001b[39m 1.4.0\n",
      "\u001b[32m✔\u001b[39m \u001b[34mreadr  \u001b[39m 1.3.1     \u001b[32m✔\u001b[39m \u001b[34mforcats\u001b[39m 0.5.0\n",
      "\n",
      "── \u001b[1mConflicts\u001b[22m ────────────────────────────────────────── tidyverse_conflicts() ──\n",
      "\u001b[31m✖\u001b[39m \u001b[34mdplyr\u001b[39m::\u001b[32marrange()\u001b[39m   masks \u001b[34mplyr\u001b[39m::arrange()\n",
      "\u001b[31m✖\u001b[39m \u001b[34mpurrr\u001b[39m::\u001b[32mcompact()\u001b[39m   masks \u001b[34mplyr\u001b[39m::compact()\n",
      "\u001b[31m✖\u001b[39m \u001b[34mdplyr\u001b[39m::\u001b[32mcount()\u001b[39m     masks \u001b[34mplyr\u001b[39m::count()\n",
      "\u001b[31m✖\u001b[39m \u001b[34mdplyr\u001b[39m::\u001b[32mfailwith()\u001b[39m  masks \u001b[34mplyr\u001b[39m::failwith()\n",
      "\u001b[31m✖\u001b[39m \u001b[34mdplyr\u001b[39m::\u001b[32mfilter()\u001b[39m    masks \u001b[34mstats\u001b[39m::filter()\n",
      "\u001b[31m✖\u001b[39m \u001b[34mdplyr\u001b[39m::\u001b[32mid()\u001b[39m        masks \u001b[34mplyr\u001b[39m::id()\n",
      "\u001b[31m✖\u001b[39m \u001b[34mdplyr\u001b[39m::\u001b[32mlag()\u001b[39m       masks \u001b[34mstats\u001b[39m::lag()\n",
      "\u001b[31m✖\u001b[39m \u001b[34mdplyr\u001b[39m::\u001b[32mmutate()\u001b[39m    masks \u001b[34mplyr\u001b[39m::mutate()\n",
      "\u001b[31m✖\u001b[39m \u001b[34mdplyr\u001b[39m::\u001b[32mrename()\u001b[39m    masks \u001b[34mplyr\u001b[39m::rename()\n",
      "\u001b[31m✖\u001b[39m \u001b[34mdplyr\u001b[39m::\u001b[32msummarise()\u001b[39m masks \u001b[34mplyr\u001b[39m::summarise()\n",
      "\u001b[31m✖\u001b[39m \u001b[34mdplyr\u001b[39m::\u001b[32msummarize()\u001b[39m masks \u001b[34mplyr\u001b[39m::summarize()\n",
      "\n",
      "Loading required package: magrittr\n",
      "\n",
      "Warning message:\n",
      "“package ‘magrittr’ was built under R version 3.6.3”\n",
      "\n",
      "Attaching package: ‘magrittr’\n",
      "\n",
      "\n",
      "The following object is masked from ‘package:purrr’:\n",
      "\n",
      "    set_names\n",
      "\n",
      "\n",
      "The following object is masked from ‘package:tidyr’:\n",
      "\n",
      "    extract\n",
      "\n",
      "\n",
      "\n",
      "Attaching package: ‘ggpubr’\n",
      "\n",
      "\n",
      "The following object is masked from ‘package:plyr’:\n",
      "\n",
      "    mutate\n",
      "\n",
      "\n",
      "Loading required package: reshape\n",
      "\n",
      "\n",
      "Attaching package: ‘reshape’\n",
      "\n",
      "\n",
      "The following object is masked from ‘package:dplyr’:\n",
      "\n",
      "    rename\n",
      "\n",
      "\n",
      "The following objects are masked from ‘package:tidyr’:\n",
      "\n",
      "    expand, smiths\n",
      "\n",
      "\n",
      "The following objects are masked from ‘package:plyr’:\n",
      "\n",
      "    rename, round_any\n",
      "\n",
      "\n",
      "\n",
      "Attaching package: ‘rapportools’\n",
      "\n",
      "\n",
      "The following object is masked from ‘package:dplyr’:\n",
      "\n",
      "    n\n",
      "\n",
      "\n",
      "The following objects are masked from ‘package:stats’:\n",
      "\n",
      "    IQR, median, sd, var\n",
      "\n",
      "\n",
      "The following objects are masked from ‘package:base’:\n",
      "\n",
      "    max, mean, min, range, sum\n",
      "\n",
      "\n"
     ]
    },
    {
     "data": {
      "text/html": [
       "'/gpfs/ysm/project/dewan/dc2325/UKBB_GWAS_dev'"
      ],
      "text/latex": [
       "'/gpfs/ysm/project/dewan/dc2325/UKBB\\_GWAS\\_dev'"
      ],
      "text/markdown": [
       "'/gpfs/ysm/project/dewan/dc2325/UKBB_GWAS_dev'"
      ],
      "text/plain": [
       "[1] \"/gpfs/ysm/project/dewan/dc2325/UKBB_GWAS_dev\""
      ]
     },
     "metadata": {},
     "output_type": "display_data"
    }
   ],
   "source": [
    "#Load libraries\n",
    "library(plyr)\n",
    "library(tidyverse)\n",
    "library(pander)\n",
    "library(ggpubr)\n",
    "library(rapportools)\n",
    "library(ggplot2)\n",
    "#Get working directory\n",
    "getwd()\n",
    "#Set working directory\n",
    "setwd('/gpfs/gibbs/pi/dewan/data/UKBiobank/phenotype_files/pleiotropy_R01/ukb43978_OCT2020/dc2325_phenotypes')"
   ]
  },
  {
   "cell_type": "code",
   "execution_count": 2,
   "metadata": {
    "kernel": "R"
   },
   "outputs": [],
   "source": [
    "# Clean workspace\n",
    "rm(list=ls())"
   ]
  },
  {
   "cell_type": "code",
   "execution_count": 2,
   "metadata": {
    "kernel": "R"
   },
   "outputs": [
    {
     "data": {
      "text/html": [
       "<table>\n",
       "<caption>A data.frame: 6 × 6</caption>\n",
       "<thead>\n",
       "\t<tr><th></th><th scope=col>FID</th><th scope=col>IID</th><th scope=col>fatherID</th><th scope=col>motherID</th><th scope=col>sex</th><th scope=col>phenotype</th></tr>\n",
       "\t<tr><th></th><th scope=col>&lt;int&gt;</th><th scope=col>&lt;int&gt;</th><th scope=col>&lt;int&gt;</th><th scope=col>&lt;int&gt;</th><th scope=col>&lt;int&gt;</th><th scope=col>&lt;int&gt;</th></tr>\n",
       "</thead>\n",
       "<tbody>\n",
       "\t<tr><th scope=row>1</th><td>1434748</td><td>1434748</td><td>0</td><td>0</td><td>2</td><td>-9</td></tr>\n",
       "\t<tr><th scope=row>2</th><td>5523981</td><td>5523981</td><td>0</td><td>0</td><td>1</td><td>-9</td></tr>\n",
       "\t<tr><th scope=row>3</th><td>5023838</td><td>5023838</td><td>0</td><td>0</td><td>2</td><td>-9</td></tr>\n",
       "\t<tr><th scope=row>4</th><td>4023729</td><td>4023729</td><td>0</td><td>0</td><td>1</td><td>-9</td></tr>\n",
       "\t<tr><th scope=row>5</th><td>4442146</td><td>4442146</td><td>0</td><td>0</td><td>2</td><td>-9</td></tr>\n",
       "\t<tr><th scope=row>6</th><td>5654789</td><td>5654789</td><td>0</td><td>0</td><td>2</td><td>-9</td></tr>\n",
       "</tbody>\n",
       "</table>\n"
      ],
      "text/latex": [
       "A data.frame: 6 × 6\n",
       "\\begin{tabular}{r|llllll}\n",
       "  & FID & IID & fatherID & motherID & sex & phenotype\\\\\n",
       "  & <int> & <int> & <int> & <int> & <int> & <int>\\\\\n",
       "\\hline\n",
       "\t1 & 1434748 & 1434748 & 0 & 0 & 2 & -9\\\\\n",
       "\t2 & 5523981 & 5523981 & 0 & 0 & 1 & -9\\\\\n",
       "\t3 & 5023838 & 5023838 & 0 & 0 & 2 & -9\\\\\n",
       "\t4 & 4023729 & 4023729 & 0 & 0 & 1 & -9\\\\\n",
       "\t5 & 4442146 & 4442146 & 0 & 0 & 2 & -9\\\\\n",
       "\t6 & 5654789 & 5654789 & 0 & 0 & 2 & -9\\\\\n",
       "\\end{tabular}\n"
      ],
      "text/markdown": [
       "\n",
       "A data.frame: 6 × 6\n",
       "\n",
       "| <!--/--> | FID &lt;int&gt; | IID &lt;int&gt; | fatherID &lt;int&gt; | motherID &lt;int&gt; | sex &lt;int&gt; | phenotype &lt;int&gt; |\n",
       "|---|---|---|---|---|---|---|\n",
       "| 1 | 1434748 | 1434748 | 0 | 0 | 2 | -9 |\n",
       "| 2 | 5523981 | 5523981 | 0 | 0 | 1 | -9 |\n",
       "| 3 | 5023838 | 5023838 | 0 | 0 | 2 | -9 |\n",
       "| 4 | 4023729 | 4023729 | 0 | 0 | 1 | -9 |\n",
       "| 5 | 4442146 | 4442146 | 0 | 0 | 2 | -9 |\n",
       "| 6 | 5654789 | 5654789 | 0 | 0 | 2 | -9 |\n",
       "\n"
      ],
      "text/plain": [
       "  FID     IID     fatherID motherID sex phenotype\n",
       "1 1434748 1434748 0        0        2   -9       \n",
       "2 5523981 5523981 0        0        1   -9       \n",
       "3 5023838 5023838 0        0        2   -9       \n",
       "4 4023729 4023729 0        0        1   -9       \n",
       "5 4442146 4442146 0        0        2   -9       \n",
       "6 5654789 5654789 0        0        2   -9       "
      ]
     },
     "metadata": {},
     "output_type": "display_data"
    },
    {
     "data": {
      "text/html": [
       "<style>\n",
       ".list-inline {list-style: none; margin:0; padding: 0}\n",
       ".list-inline>li {display: inline-block}\n",
       ".list-inline>li:not(:last-child)::after {content: \"\\00b7\"; padding: 0 .5ex}\n",
       "</style>\n",
       "<ol class=list-inline><li>200643</li><li>6</li></ol>\n"
      ],
      "text/latex": [
       "\\begin{enumerate*}\n",
       "\\item 200643\n",
       "\\item 6\n",
       "\\end{enumerate*}\n"
      ],
      "text/markdown": [
       "1. 200643\n",
       "2. 6\n",
       "\n",
       "\n"
      ],
      "text/plain": [
       "[1] 200643      6"
      ]
     },
     "metadata": {},
     "output_type": "display_data"
    }
   ],
   "source": [
    "fam <- read.table(\"/gpfs/gibbs/pi/dewan/data/UKBiobank/genotype_files/ukb28374_exomedata/exome_data_OCT2020/ukb23155_s200631.fam\", sep=' ', header=F)\n",
    "colnames(fam) <- c(\"FID\",\"IID\",\"fatherID\", \"motherID\", \"sex\", \"phenotype\")\n",
    "head(fam)\n",
    "dim(fam)"
   ]
  },
  {
   "cell_type": "code",
   "execution_count": 1,
   "metadata": {
    "kernel": "R"
   },
   "outputs": [],
   "source": [
    "# Import the database to R with all the variable codings\n",
    "bd <- read.table(\"/gpfs/gibbs/pi/dewan/data/UKBiobank/phenotype_files/pleiotropy_R01/ukb42495_updatedJune2020/ukb42495.tab\", sep=\"\\t\", header=T)"
   ]
  },
  {
   "cell_type": "code",
   "execution_count": 3,
   "metadata": {
    "kernel": "R"
   },
   "outputs": [
    {
     "data": {
      "text/html": [
       "<style>\n",
       ".list-inline {list-style: none; margin:0; padding: 0}\n",
       ".list-inline>li {display: inline-block}\n",
       ".list-inline>li:not(:last-child)::after {content: \"\\00b7\"; padding: 0 .5ex}\n",
       "</style>\n",
       "<ol class=list-inline><li>502505</li><li>6613</li></ol>\n"
      ],
      "text/latex": [
       "\\begin{enumerate*}\n",
       "\\item 502505\n",
       "\\item 6613\n",
       "\\end{enumerate*}\n"
      ],
      "text/markdown": [
       "1. 502505\n",
       "2. 6613\n",
       "\n",
       "\n"
      ],
      "text/plain": [
       "[1] 502505   6613"
      ]
     },
     "metadata": {},
     "output_type": "display_data"
    },
    {
     "data": {
      "text/html": [
       "<table>\n",
       "<caption>A data.frame: 6 × 1</caption>\n",
       "<thead>\n",
       "\t<tr><th></th><th scope=col>f.eid</th></tr>\n",
       "\t<tr><th></th><th scope=col>&lt;int&gt;</th></tr>\n",
       "</thead>\n",
       "<tbody>\n",
       "\t<tr><th scope=row>1</th><td>6025442</td></tr>\n",
       "\t<tr><th scope=row>2</th><td>1000019</td></tr>\n",
       "\t<tr><th scope=row>3</th><td>1000022</td></tr>\n",
       "\t<tr><th scope=row>4</th><td>1000035</td></tr>\n",
       "\t<tr><th scope=row>5</th><td>1000046</td></tr>\n",
       "\t<tr><th scope=row>6</th><td>1000054</td></tr>\n",
       "</tbody>\n",
       "</table>\n"
      ],
      "text/latex": [
       "A data.frame: 6 × 1\n",
       "\\begin{tabular}{r|l}\n",
       "  & f.eid\\\\\n",
       "  & <int>\\\\\n",
       "\\hline\n",
       "\t1 & 6025442\\\\\n",
       "\t2 & 1000019\\\\\n",
       "\t3 & 1000022\\\\\n",
       "\t4 & 1000035\\\\\n",
       "\t5 & 1000046\\\\\n",
       "\t6 & 1000054\\\\\n",
       "\\end{tabular}\n"
      ],
      "text/markdown": [
       "\n",
       "A data.frame: 6 × 1\n",
       "\n",
       "| <!--/--> | f.eid &lt;int&gt; |\n",
       "|---|---|\n",
       "| 1 | 6025442 |\n",
       "| 2 | 1000019 |\n",
       "| 3 | 1000022 |\n",
       "| 4 | 1000035 |\n",
       "| 5 | 1000046 |\n",
       "| 6 | 1000054 |\n",
       "\n"
      ],
      "text/plain": [
       "  f.eid  \n",
       "1 6025442\n",
       "2 1000019\n",
       "3 1000022\n",
       "4 1000035\n",
       "5 1000046\n",
       "6 1000054"
      ]
     },
     "metadata": {},
     "output_type": "display_data"
    }
   ],
   "source": [
    "#Number or rows in bd\n",
    "dim(bd)\n",
    "head(bd[,1, drop=FALSE])"
   ]
  },
  {
   "cell_type": "code",
   "execution_count": 4,
   "metadata": {
    "kernel": "R"
   },
   "outputs": [
    {
     "data": {
      "text/html": [
       "<table>\n",
       "<caption>A data.frame: 6 × 1</caption>\n",
       "<thead>\n",
       "\t<tr><th></th><th scope=col>IID</th></tr>\n",
       "\t<tr><th></th><th scope=col>&lt;int&gt;</th></tr>\n",
       "</thead>\n",
       "<tbody>\n",
       "\t<tr><th scope=row>1</th><td>6025442</td></tr>\n",
       "\t<tr><th scope=row>2</th><td>1000019</td></tr>\n",
       "\t<tr><th scope=row>3</th><td>1000022</td></tr>\n",
       "\t<tr><th scope=row>4</th><td>1000035</td></tr>\n",
       "\t<tr><th scope=row>5</th><td>1000046</td></tr>\n",
       "\t<tr><th scope=row>6</th><td>1000054</td></tr>\n",
       "</tbody>\n",
       "</table>\n"
      ],
      "text/latex": [
       "A data.frame: 6 × 1\n",
       "\\begin{tabular}{r|l}\n",
       "  & IID\\\\\n",
       "  & <int>\\\\\n",
       "\\hline\n",
       "\t1 & 6025442\\\\\n",
       "\t2 & 1000019\\\\\n",
       "\t3 & 1000022\\\\\n",
       "\t4 & 1000035\\\\\n",
       "\t5 & 1000046\\\\\n",
       "\t6 & 1000054\\\\\n",
       "\\end{tabular}\n"
      ],
      "text/markdown": [
       "\n",
       "A data.frame: 6 × 1\n",
       "\n",
       "| <!--/--> | IID &lt;int&gt; |\n",
       "|---|---|\n",
       "| 1 | 6025442 |\n",
       "| 2 | 1000019 |\n",
       "| 3 | 1000022 |\n",
       "| 4 | 1000035 |\n",
       "| 5 | 1000046 |\n",
       "| 6 | 1000054 |\n",
       "\n"
      ],
      "text/plain": [
       "  IID    \n",
       "1 6025442\n",
       "2 1000019\n",
       "3 1000022\n",
       "4 1000035\n",
       "5 1000046\n",
       "6 1000054"
      ]
     },
     "metadata": {},
     "output_type": "display_data"
    }
   ],
   "source": [
    "# Assign individual ID column to bd f.eid\n",
    "names(bd)[1] <- \"IID\"\n",
    "head(bd[,1, drop=FALSE])"
   ]
  },
  {
   "cell_type": "code",
   "execution_count": 39,
   "metadata": {
    "kernel": "R"
   },
   "outputs": [],
   "source": [
    "bd_pca <- bd %>%  \n",
    "    select(IID,\n",
    "           starts_with(\"f.22009\"),\n",
    "           starts_with(\"f.22006\"),\n",
    "           starts_with(\"f.21000\")) %>%\n",
    "    mutate(WES=if_else(IID%in%exomed_IID,\"1\",\"0\"))"
   ]
  },
  {
   "cell_type": "code",
   "execution_count": 40,
   "metadata": {
    "kernel": "R"
   },
   "outputs": [
    {
     "data": {
      "text/html": [
       "<table>\n",
       "<caption>A data.frame: 6 × 46</caption>\n",
       "<thead>\n",
       "\t<tr><th></th><th scope=col>IID</th><th scope=col>f.22009.0.1</th><th scope=col>f.22009.0.2</th><th scope=col>f.22009.0.3</th><th scope=col>f.22009.0.4</th><th scope=col>f.22009.0.5</th><th scope=col>f.22009.0.6</th><th scope=col>f.22009.0.7</th><th scope=col>f.22009.0.8</th><th scope=col>f.22009.0.9</th><th scope=col>⋯</th><th scope=col>f.22009.0.36</th><th scope=col>f.22009.0.37</th><th scope=col>f.22009.0.38</th><th scope=col>f.22009.0.39</th><th scope=col>f.22009.0.40</th><th scope=col>f.22006.0.0</th><th scope=col>f.21000.0.0</th><th scope=col>f.21000.1.0</th><th scope=col>f.21000.2.0</th><th scope=col>WES</th></tr>\n",
       "\t<tr><th></th><th scope=col>&lt;int&gt;</th><th scope=col>&lt;dbl&gt;</th><th scope=col>&lt;dbl&gt;</th><th scope=col>&lt;dbl&gt;</th><th scope=col>&lt;dbl&gt;</th><th scope=col>&lt;dbl&gt;</th><th scope=col>&lt;dbl&gt;</th><th scope=col>&lt;dbl&gt;</th><th scope=col>&lt;dbl&gt;</th><th scope=col>&lt;dbl&gt;</th><th scope=col>⋯</th><th scope=col>&lt;dbl&gt;</th><th scope=col>&lt;dbl&gt;</th><th scope=col>&lt;dbl&gt;</th><th scope=col>&lt;dbl&gt;</th><th scope=col>&lt;dbl&gt;</th><th scope=col>&lt;int&gt;</th><th scope=col>&lt;int&gt;</th><th scope=col>&lt;int&gt;</th><th scope=col>&lt;int&gt;</th><th scope=col>&lt;chr&gt;</th></tr>\n",
       "</thead>\n",
       "<tbody>\n",
       "\t<tr><th scope=row>1</th><td>6025442</td><td>      NA</td><td>     NA</td><td>      NA</td><td>      NA</td><td>       NA</td><td>       NA</td><td>      NA</td><td>       NA</td><td>      NA</td><td>⋯</td><td>      NA</td><td>      NA</td><td>       NA</td><td>      NA</td><td>        NA</td><td>NA</td><td>  NA</td><td>NA</td><td>NA</td><td>0</td></tr>\n",
       "\t<tr><th scope=row>2</th><td>1000019</td><td>-12.2053</td><td>4.76174</td><td>-4.25570</td><td> 3.40438</td><td>-0.658608</td><td> 0.782260</td><td> 2.46875</td><td> 0.870685</td><td>-8.79311</td><td>⋯</td><td> 3.41345</td><td>-3.65638</td><td>-0.146136</td><td>-1.74808</td><td> 0.0766507</td><td> 1</td><td>1001</td><td>NA</td><td>NA</td><td>1</td></tr>\n",
       "\t<tr><th scope=row>3</th><td>1000022</td><td>-11.0907</td><td>2.93694</td><td>-2.83272</td><td>-1.16121</td><td>-7.517080</td><td>-3.193180</td><td>-1.38290</td><td>-1.901870</td><td> 1.65703</td><td>⋯</td><td>-3.98978</td><td> 3.35086</td><td>-0.226358</td><td>-1.64457</td><td>-2.7941000</td><td> 1</td><td>1001</td><td>NA</td><td>NA</td><td>0</td></tr>\n",
       "\t<tr><th scope=row>4</th><td>1000035</td><td>-15.2753</td><td>1.34975</td><td>-2.99361</td><td> 8.39502</td><td>17.040800</td><td> 1.702570</td><td>-1.47434</td><td> 0.977063</td><td> 4.29165</td><td>⋯</td><td> 1.29770</td><td>-1.60734</td><td> 1.774000</td><td>-2.62669</td><td> 1.6079300</td><td> 1</td><td>1001</td><td>NA</td><td>NA</td><td>1</td></tr>\n",
       "\t<tr><th scope=row>5</th><td>1000046</td><td>-13.8809</td><td>5.01353</td><td>-1.77091</td><td> 3.73010</td><td> 6.774160</td><td>-2.293770</td><td> 1.76893</td><td>-0.409260</td><td> 2.27147</td><td>⋯</td><td> 2.52143</td><td> 1.84519</td><td> 0.518179</td><td>-1.97682</td><td> 3.8931000</td><td> 1</td><td>1001</td><td>NA</td><td>NA</td><td>0</td></tr>\n",
       "\t<tr><th scope=row>6</th><td>1000054</td><td>-13.4765</td><td>6.71309</td><td>-3.98852</td><td> 4.35470</td><td> 8.732250</td><td>-0.496887</td><td> 3.40731</td><td> 0.491270</td><td> 1.17219</td><td>⋯</td><td> 1.24627</td><td>-1.84256</td><td>-2.977780</td><td>-2.09987</td><td> 0.2277160</td><td> 1</td><td>1001</td><td>NA</td><td>NA</td><td>0</td></tr>\n",
       "</tbody>\n",
       "</table>\n"
      ],
      "text/latex": [
       "A data.frame: 6 × 46\n",
       "\\begin{tabular}{r|lllllllllllllllllllll}\n",
       "  & IID & f.22009.0.1 & f.22009.0.2 & f.22009.0.3 & f.22009.0.4 & f.22009.0.5 & f.22009.0.6 & f.22009.0.7 & f.22009.0.8 & f.22009.0.9 & ⋯ & f.22009.0.36 & f.22009.0.37 & f.22009.0.38 & f.22009.0.39 & f.22009.0.40 & f.22006.0.0 & f.21000.0.0 & f.21000.1.0 & f.21000.2.0 & WES\\\\\n",
       "  & <int> & <dbl> & <dbl> & <dbl> & <dbl> & <dbl> & <dbl> & <dbl> & <dbl> & <dbl> & ⋯ & <dbl> & <dbl> & <dbl> & <dbl> & <dbl> & <int> & <int> & <int> & <int> & <chr>\\\\\n",
       "\\hline\n",
       "\t1 & 6025442 &       NA &      NA &       NA &       NA &        NA &        NA &       NA &        NA &       NA & ⋯ &       NA &       NA &        NA &       NA &         NA & NA &   NA & NA & NA & 0\\\\\n",
       "\t2 & 1000019 & -12.2053 & 4.76174 & -4.25570 &  3.40438 & -0.658608 &  0.782260 &  2.46875 &  0.870685 & -8.79311 & ⋯ &  3.41345 & -3.65638 & -0.146136 & -1.74808 &  0.0766507 &  1 & 1001 & NA & NA & 1\\\\\n",
       "\t3 & 1000022 & -11.0907 & 2.93694 & -2.83272 & -1.16121 & -7.517080 & -3.193180 & -1.38290 & -1.901870 &  1.65703 & ⋯ & -3.98978 &  3.35086 & -0.226358 & -1.64457 & -2.7941000 &  1 & 1001 & NA & NA & 0\\\\\n",
       "\t4 & 1000035 & -15.2753 & 1.34975 & -2.99361 &  8.39502 & 17.040800 &  1.702570 & -1.47434 &  0.977063 &  4.29165 & ⋯ &  1.29770 & -1.60734 &  1.774000 & -2.62669 &  1.6079300 &  1 & 1001 & NA & NA & 1\\\\\n",
       "\t5 & 1000046 & -13.8809 & 5.01353 & -1.77091 &  3.73010 &  6.774160 & -2.293770 &  1.76893 & -0.409260 &  2.27147 & ⋯ &  2.52143 &  1.84519 &  0.518179 & -1.97682 &  3.8931000 &  1 & 1001 & NA & NA & 0\\\\\n",
       "\t6 & 1000054 & -13.4765 & 6.71309 & -3.98852 &  4.35470 &  8.732250 & -0.496887 &  3.40731 &  0.491270 &  1.17219 & ⋯ &  1.24627 & -1.84256 & -2.977780 & -2.09987 &  0.2277160 &  1 & 1001 & NA & NA & 0\\\\\n",
       "\\end{tabular}\n"
      ],
      "text/markdown": [
       "\n",
       "A data.frame: 6 × 46\n",
       "\n",
       "| <!--/--> | IID &lt;int&gt; | f.22009.0.1 &lt;dbl&gt; | f.22009.0.2 &lt;dbl&gt; | f.22009.0.3 &lt;dbl&gt; | f.22009.0.4 &lt;dbl&gt; | f.22009.0.5 &lt;dbl&gt; | f.22009.0.6 &lt;dbl&gt; | f.22009.0.7 &lt;dbl&gt; | f.22009.0.8 &lt;dbl&gt; | f.22009.0.9 &lt;dbl&gt; | ⋯ ⋯ | f.22009.0.36 &lt;dbl&gt; | f.22009.0.37 &lt;dbl&gt; | f.22009.0.38 &lt;dbl&gt; | f.22009.0.39 &lt;dbl&gt; | f.22009.0.40 &lt;dbl&gt; | f.22006.0.0 &lt;int&gt; | f.21000.0.0 &lt;int&gt; | f.21000.1.0 &lt;int&gt; | f.21000.2.0 &lt;int&gt; | WES &lt;chr&gt; |\n",
       "|---|---|---|---|---|---|---|---|---|---|---|---|---|---|---|---|---|---|---|---|---|---|\n",
       "| 1 | 6025442 |       NA |      NA |       NA |       NA |        NA |        NA |       NA |        NA |       NA | ⋯ |       NA |       NA |        NA |       NA |         NA | NA |   NA | NA | NA | 0 |\n",
       "| 2 | 1000019 | -12.2053 | 4.76174 | -4.25570 |  3.40438 | -0.658608 |  0.782260 |  2.46875 |  0.870685 | -8.79311 | ⋯ |  3.41345 | -3.65638 | -0.146136 | -1.74808 |  0.0766507 |  1 | 1001 | NA | NA | 1 |\n",
       "| 3 | 1000022 | -11.0907 | 2.93694 | -2.83272 | -1.16121 | -7.517080 | -3.193180 | -1.38290 | -1.901870 |  1.65703 | ⋯ | -3.98978 |  3.35086 | -0.226358 | -1.64457 | -2.7941000 |  1 | 1001 | NA | NA | 0 |\n",
       "| 4 | 1000035 | -15.2753 | 1.34975 | -2.99361 |  8.39502 | 17.040800 |  1.702570 | -1.47434 |  0.977063 |  4.29165 | ⋯ |  1.29770 | -1.60734 |  1.774000 | -2.62669 |  1.6079300 |  1 | 1001 | NA | NA | 1 |\n",
       "| 5 | 1000046 | -13.8809 | 5.01353 | -1.77091 |  3.73010 |  6.774160 | -2.293770 |  1.76893 | -0.409260 |  2.27147 | ⋯ |  2.52143 |  1.84519 |  0.518179 | -1.97682 |  3.8931000 |  1 | 1001 | NA | NA | 0 |\n",
       "| 6 | 1000054 | -13.4765 | 6.71309 | -3.98852 |  4.35470 |  8.732250 | -0.496887 |  3.40731 |  0.491270 |  1.17219 | ⋯ |  1.24627 | -1.84256 | -2.977780 | -2.09987 |  0.2277160 |  1 | 1001 | NA | NA | 0 |\n",
       "\n"
      ],
      "text/plain": [
       "  IID     f.22009.0.1 f.22009.0.2 f.22009.0.3 f.22009.0.4 f.22009.0.5\n",
       "1 6025442       NA         NA           NA          NA           NA  \n",
       "2 1000019 -12.2053    4.76174     -4.25570     3.40438    -0.658608  \n",
       "3 1000022 -11.0907    2.93694     -2.83272    -1.16121    -7.517080  \n",
       "4 1000035 -15.2753    1.34975     -2.99361     8.39502    17.040800  \n",
       "5 1000046 -13.8809    5.01353     -1.77091     3.73010     6.774160  \n",
       "6 1000054 -13.4765    6.71309     -3.98852     4.35470     8.732250  \n",
       "  f.22009.0.6 f.22009.0.7 f.22009.0.8 f.22009.0.9 ⋯ f.22009.0.36 f.22009.0.37\n",
       "1        NA         NA           NA         NA    ⋯       NA           NA    \n",
       "2  0.782260    2.46875     0.870685   -8.79311    ⋯  3.41345     -3.65638    \n",
       "3 -3.193180   -1.38290    -1.901870    1.65703    ⋯ -3.98978      3.35086    \n",
       "4  1.702570   -1.47434     0.977063    4.29165    ⋯  1.29770     -1.60734    \n",
       "5 -2.293770    1.76893    -0.409260    2.27147    ⋯  2.52143      1.84519    \n",
       "6 -0.496887    3.40731     0.491270    1.17219    ⋯  1.24627     -1.84256    \n",
       "  f.22009.0.38 f.22009.0.39 f.22009.0.40 f.22006.0.0 f.21000.0.0 f.21000.1.0\n",
       "1        NA          NA             NA   NA            NA        NA         \n",
       "2 -0.146136    -1.74808      0.0766507    1          1001        NA         \n",
       "3 -0.226358    -1.64457     -2.7941000    1          1001        NA         \n",
       "4  1.774000    -2.62669      1.6079300    1          1001        NA         \n",
       "5  0.518179    -1.97682      3.8931000    1          1001        NA         \n",
       "6 -2.977780    -2.09987      0.2277160    1          1001        NA         \n",
       "  f.21000.2.0 WES\n",
       "1 NA          0  \n",
       "2 NA          1  \n",
       "3 NA          0  \n",
       "4 NA          1  \n",
       "5 NA          0  \n",
       "6 NA          0  "
      ]
     },
     "metadata": {},
     "output_type": "display_data"
    },
    {
     "data": {
      "text/html": [
       "<style>\n",
       ".list-inline {list-style: none; margin:0; padding: 0}\n",
       ".list-inline>li {display: inline-block}\n",
       ".list-inline>li:not(:last-child)::after {content: \"\\00b7\"; padding: 0 .5ex}\n",
       "</style>\n",
       "<ol class=list-inline><li>502505</li><li>46</li></ol>\n"
      ],
      "text/latex": [
       "\\begin{enumerate*}\n",
       "\\item 502505\n",
       "\\item 46\n",
       "\\end{enumerate*}\n"
      ],
      "text/markdown": [
       "1. 502505\n",
       "2. 46\n",
       "\n",
       "\n"
      ],
      "text/plain": [
       "[1] 502505     46"
      ]
     },
     "metadata": {},
     "output_type": "display_data"
    }
   ],
   "source": [
    "head(bd_pca)\n",
    "dim(bd_pca)"
   ]
  },
  {
   "cell_type": "code",
   "execution_count": 5,
   "metadata": {
    "kernel": "R"
   },
   "outputs": [],
   "source": [
    "# Select the 200K individuals from the full db\n",
    "exomed_ind <- bd[bd$IID %in% fam$IID,]\n",
    "# Save as csv file\n",
    "#write.csv(exomed_ind,'112420_ukb42495_exomed_ind.csv', row.names = FALSE)"
   ]
  },
  {
   "cell_type": "code",
   "execution_count": 32,
   "metadata": {
    "kernel": "R"
   },
   "outputs": [],
   "source": [
    "exomed_IID <- exomed_ind[, \"IID\"]"
   ]
  },
  {
   "cell_type": "code",
   "execution_count": 17,
   "metadata": {
    "kernel": "R"
   },
   "outputs": [],
   "source": [
    "ethnicity <- exomed_ind %>%\n",
    "    select(IID, starts_with(\"f.21000\"))"
   ]
  },
  {
   "cell_type": "code",
   "execution_count": 18,
   "metadata": {
    "kernel": "R"
   },
   "outputs": [
    {
     "data": {
      "text/html": [
       "<table>\n",
       "<caption>A data.frame: 6 × 4</caption>\n",
       "<thead>\n",
       "\t<tr><th></th><th scope=col>IID</th><th scope=col>f.21000.0.0</th><th scope=col>f.21000.1.0</th><th scope=col>f.21000.2.0</th></tr>\n",
       "\t<tr><th></th><th scope=col>&lt;int&gt;</th><th scope=col>&lt;int&gt;</th><th scope=col>&lt;int&gt;</th><th scope=col>&lt;int&gt;</th></tr>\n",
       "</thead>\n",
       "<tbody>\n",
       "\t<tr><th scope=row>2</th><td>1000019</td><td>1001</td><td>  NA</td><td>  NA</td></tr>\n",
       "\t<tr><th scope=row>4</th><td>1000035</td><td>1001</td><td>  NA</td><td>  NA</td></tr>\n",
       "\t<tr><th scope=row>8</th><td>1000078</td><td>1001</td><td>1001</td><td>1001</td></tr>\n",
       "\t<tr><th scope=row>9</th><td>1000081</td><td>1001</td><td>  NA</td><td>  NA</td></tr>\n",
       "\t<tr><th scope=row>20</th><td>1000198</td><td>1001</td><td>  NA</td><td>  NA</td></tr>\n",
       "\t<tr><th scope=row>22</th><td>1000210</td><td>1001</td><td>  NA</td><td>  NA</td></tr>\n",
       "</tbody>\n",
       "</table>\n"
      ],
      "text/latex": [
       "A data.frame: 6 × 4\n",
       "\\begin{tabular}{r|llll}\n",
       "  & IID & f.21000.0.0 & f.21000.1.0 & f.21000.2.0\\\\\n",
       "  & <int> & <int> & <int> & <int>\\\\\n",
       "\\hline\n",
       "\t2 & 1000019 & 1001 &   NA &   NA\\\\\n",
       "\t4 & 1000035 & 1001 &   NA &   NA\\\\\n",
       "\t8 & 1000078 & 1001 & 1001 & 1001\\\\\n",
       "\t9 & 1000081 & 1001 &   NA &   NA\\\\\n",
       "\t20 & 1000198 & 1001 &   NA &   NA\\\\\n",
       "\t22 & 1000210 & 1001 &   NA &   NA\\\\\n",
       "\\end{tabular}\n"
      ],
      "text/markdown": [
       "\n",
       "A data.frame: 6 × 4\n",
       "\n",
       "| <!--/--> | IID &lt;int&gt; | f.21000.0.0 &lt;int&gt; | f.21000.1.0 &lt;int&gt; | f.21000.2.0 &lt;int&gt; |\n",
       "|---|---|---|---|---|\n",
       "| 2 | 1000019 | 1001 |   NA |   NA |\n",
       "| 4 | 1000035 | 1001 |   NA |   NA |\n",
       "| 8 | 1000078 | 1001 | 1001 | 1001 |\n",
       "| 9 | 1000081 | 1001 |   NA |   NA |\n",
       "| 20 | 1000198 | 1001 |   NA |   NA |\n",
       "| 22 | 1000210 | 1001 |   NA |   NA |\n",
       "\n"
      ],
      "text/plain": [
       "   IID     f.21000.0.0 f.21000.1.0 f.21000.2.0\n",
       "2  1000019 1001          NA          NA       \n",
       "4  1000035 1001          NA          NA       \n",
       "8  1000078 1001        1001        1001       \n",
       "9  1000081 1001          NA          NA       \n",
       "20 1000198 1001          NA          NA       \n",
       "22 1000210 1001          NA          NA       "
      ]
     },
     "metadata": {},
     "output_type": "display_data"
    },
    {
     "data": {
      "text/html": [
       "<style>\n",
       ".list-inline {list-style: none; margin:0; padding: 0}\n",
       ".list-inline>li {display: inline-block}\n",
       ".list-inline>li:not(:last-child)::after {content: \"\\00b7\"; padding: 0 .5ex}\n",
       "</style>\n",
       "<ol class=list-inline><li>200631</li><li>4</li></ol>\n"
      ],
      "text/latex": [
       "\\begin{enumerate*}\n",
       "\\item 200631\n",
       "\\item 4\n",
       "\\end{enumerate*}\n"
      ],
      "text/markdown": [
       "1. 200631\n",
       "2. 4\n",
       "\n",
       "\n"
      ],
      "text/plain": [
       "[1] 200631      4"
      ]
     },
     "metadata": {},
     "output_type": "display_data"
    }
   ],
   "source": [
    "head(ethnicity)\n",
    "dim(ethnicity)"
   ]
  },
  {
   "cell_type": "code",
   "execution_count": 19,
   "metadata": {
    "kernel": "R"
   },
   "outputs": [],
   "source": [
    "# Function to extract all the available answers for 4 visits\n",
    "# and put them in one list\n",
    "f<-function(x){\n",
    "  visit<-c()\n",
    "  for (i in 2:4){\n",
    "    if (!is.na(x[i]))\n",
    "    {visit<-c(visit,x[i])}\n",
    "  }\n",
    "  if(is.null(visit)){visit=NA}\n",
    "  else{visit=as.numeric(visit)}\n",
    "  return (visit)\n",
    "}\n",
    "\n",
    "# Apply the above function and remove NAs\n",
    "ethnicity$visit<-apply(ethnicity, 1, f)"
   ]
  },
  {
   "cell_type": "code",
   "execution_count": 20,
   "metadata": {
    "kernel": "R"
   },
   "outputs": [
    {
     "data": {
      "text/html": [
       "<table>\n",
       "<caption>A data.frame: 6 × 5</caption>\n",
       "<thead>\n",
       "\t<tr><th></th><th scope=col>IID</th><th scope=col>f.21000.0.0</th><th scope=col>f.21000.1.0</th><th scope=col>f.21000.2.0</th><th scope=col>visit</th></tr>\n",
       "\t<tr><th></th><th scope=col>&lt;int&gt;</th><th scope=col>&lt;int&gt;</th><th scope=col>&lt;int&gt;</th><th scope=col>&lt;int&gt;</th><th scope=col>&lt;named list&gt;</th></tr>\n",
       "</thead>\n",
       "<tbody>\n",
       "\t<tr><th scope=row>2</th><td>1000019</td><td>1001</td><td>  NA</td><td>  NA</td><td>1001</td></tr>\n",
       "\t<tr><th scope=row>4</th><td>1000035</td><td>1001</td><td>  NA</td><td>  NA</td><td>1001</td></tr>\n",
       "\t<tr><th scope=row>8</th><td>1000078</td><td>1001</td><td>1001</td><td>1001</td><td>1001, 1001, 1001</td></tr>\n",
       "\t<tr><th scope=row>9</th><td>1000081</td><td>1001</td><td>  NA</td><td>  NA</td><td>1001</td></tr>\n",
       "\t<tr><th scope=row>20</th><td>1000198</td><td>1001</td><td>  NA</td><td>  NA</td><td>1001</td></tr>\n",
       "\t<tr><th scope=row>22</th><td>1000210</td><td>1001</td><td>  NA</td><td>  NA</td><td>1001</td></tr>\n",
       "</tbody>\n",
       "</table>\n"
      ],
      "text/latex": [
       "A data.frame: 6 × 5\n",
       "\\begin{tabular}{r|lllll}\n",
       "  & IID & f.21000.0.0 & f.21000.1.0 & f.21000.2.0 & visit\\\\\n",
       "  & <int> & <int> & <int> & <int> & <named list>\\\\\n",
       "\\hline\n",
       "\t2 & 1000019 & 1001 &   NA &   NA & 1001\\\\\n",
       "\t4 & 1000035 & 1001 &   NA &   NA & 1001\\\\\n",
       "\t8 & 1000078 & 1001 & 1001 & 1001 & 1001, 1001, 1001\\\\\n",
       "\t9 & 1000081 & 1001 &   NA &   NA & 1001\\\\\n",
       "\t20 & 1000198 & 1001 &   NA &   NA & 1001\\\\\n",
       "\t22 & 1000210 & 1001 &   NA &   NA & 1001\\\\\n",
       "\\end{tabular}\n"
      ],
      "text/markdown": [
       "\n",
       "A data.frame: 6 × 5\n",
       "\n",
       "| <!--/--> | IID &lt;int&gt; | f.21000.0.0 &lt;int&gt; | f.21000.1.0 &lt;int&gt; | f.21000.2.0 &lt;int&gt; | visit &lt;named list&gt; |\n",
       "|---|---|---|---|---|---|\n",
       "| 2 | 1000019 | 1001 |   NA |   NA | 1001 |\n",
       "| 4 | 1000035 | 1001 |   NA |   NA | 1001 |\n",
       "| 8 | 1000078 | 1001 | 1001 | 1001 | 1001, 1001, 1001 |\n",
       "| 9 | 1000081 | 1001 |   NA |   NA | 1001 |\n",
       "| 20 | 1000198 | 1001 |   NA |   NA | 1001 |\n",
       "| 22 | 1000210 | 1001 |   NA |   NA | 1001 |\n",
       "\n"
      ],
      "text/plain": [
       "   IID     f.21000.0.0 f.21000.1.0 f.21000.2.0 visit           \n",
       "2  1000019 1001          NA          NA        1001            \n",
       "4  1000035 1001          NA          NA        1001            \n",
       "8  1000078 1001        1001        1001        1001, 1001, 1001\n",
       "9  1000081 1001          NA          NA        1001            \n",
       "20 1000198 1001          NA          NA        1001            \n",
       "22 1000210 1001          NA          NA        1001            "
      ]
     },
     "metadata": {},
     "output_type": "display_data"
    },
    {
     "data": {
      "text/html": [
       "<style>\n",
       ".list-inline {list-style: none; margin:0; padding: 0}\n",
       ".list-inline>li {display: inline-block}\n",
       ".list-inline>li:not(:last-child)::after {content: \"\\00b7\"; padding: 0 .5ex}\n",
       "</style>\n",
       "<ol class=list-inline><li>200631</li><li>5</li></ol>\n"
      ],
      "text/latex": [
       "\\begin{enumerate*}\n",
       "\\item 200631\n",
       "\\item 5\n",
       "\\end{enumerate*}\n"
      ],
      "text/markdown": [
       "1. 200631\n",
       "2. 5\n",
       "\n",
       "\n"
      ],
      "text/plain": [
       "[1] 200631      5"
      ]
     },
     "metadata": {},
     "output_type": "display_data"
    }
   ],
   "source": [
    "head(ethnicity)\n",
    "dim(ethnicity)"
   ]
  },
  {
   "cell_type": "code",
   "execution_count": 21,
   "metadata": {
    "kernel": "R"
   },
   "outputs": [
    {
     "data": {
      "text/html": [
       "<style>\n",
       ".list-inline {list-style: none; margin:0; padding: 0}\n",
       ".list-inline>li {display: inline-block}\n",
       ".list-inline>li:not(:last-child)::after {content: \"\\00b7\"; padding: 0 .5ex}\n",
       "</style>\n",
       "<ol class=list-inline><li>200419</li><li>5</li></ol>\n"
      ],
      "text/latex": [
       "\\begin{enumerate*}\n",
       "\\item 200419\n",
       "\\item 5\n",
       "\\end{enumerate*}\n"
      ],
      "text/markdown": [
       "1. 200419\n",
       "2. 5\n",
       "\n",
       "\n"
      ],
      "text/plain": [
       "[1] 200419      5"
      ]
     },
     "metadata": {},
     "output_type": "display_data"
    }
   ],
   "source": [
    "ethnicity <- ethnicity %>%\n",
    "  filter(!is.na(visit))\n",
    "dim(ethnicity)"
   ]
  },
  {
   "cell_type": "code",
   "execution_count": 29,
   "metadata": {
    "kernel": "R"
   },
   "outputs": [
    {
     "data": {
      "text/html": [
       "<table>\n",
       "<caption>A data.frame: 1000 × 6</caption>\n",
       "<thead>\n",
       "\t<tr><th></th><th scope=col>IID</th><th scope=col>f.21000.0.0</th><th scope=col>f.21000.1.0</th><th scope=col>f.21000.2.0</th><th scope=col>visit</th><th scope=col>new_ethnicity</th></tr>\n",
       "\t<tr><th></th><th scope=col>&lt;int&gt;</th><th scope=col>&lt;int&gt;</th><th scope=col>&lt;int&gt;</th><th scope=col>&lt;int&gt;</th><th scope=col>&lt;named list&gt;</th><th scope=col>&lt;dbl&gt;</th></tr>\n",
       "</thead>\n",
       "<tbody>\n",
       "\t<tr><th scope=row>1</th><td>1000019</td><td>1001</td><td>  NA</td><td>  NA</td><td>1001</td><td>1001</td></tr>\n",
       "\t<tr><th scope=row>2</th><td>1000035</td><td>1001</td><td>  NA</td><td>  NA</td><td>1001</td><td>1001</td></tr>\n",
       "\t<tr><th scope=row>3</th><td>1000078</td><td>1001</td><td>1001</td><td>1001</td><td>1001, 1001, 1001</td><td>1001</td></tr>\n",
       "\t<tr><th scope=row>4</th><td>1000081</td><td>1001</td><td>  NA</td><td>  NA</td><td>1001</td><td>1001</td></tr>\n",
       "\t<tr><th scope=row>5</th><td>1000198</td><td>1001</td><td>  NA</td><td>  NA</td><td>1001</td><td>1001</td></tr>\n",
       "\t<tr><th scope=row>6</th><td>1000210</td><td>1001</td><td>  NA</td><td>  NA</td><td>1001</td><td>1001</td></tr>\n",
       "\t<tr><th scope=row>7</th><td>1000224</td><td>1001</td><td>  NA</td><td>  NA</td><td>1001</td><td>1001</td></tr>\n",
       "\t<tr><th scope=row>8</th><td>1000236</td><td>1001</td><td>  NA</td><td>  NA</td><td>1001</td><td>1001</td></tr>\n",
       "\t<tr><th scope=row>9</th><td>1000255</td><td>1001</td><td>  NA</td><td>  NA</td><td>1001</td><td>1001</td></tr>\n",
       "\t<tr><th scope=row>10</th><td>1000272</td><td>   6</td><td>  NA</td><td>  NA</td><td>6</td><td>   6</td></tr>\n",
       "\t<tr><th scope=row>11</th><td>1000291</td><td>1001</td><td>  NA</td><td>  NA</td><td>1001</td><td>1001</td></tr>\n",
       "\t<tr><th scope=row>12</th><td>1000304</td><td>1001</td><td>  NA</td><td>  NA</td><td>1001</td><td>1001</td></tr>\n",
       "\t<tr><th scope=row>13</th><td>1000331</td><td>1003</td><td>  NA</td><td>  NA</td><td>1003</td><td>1003</td></tr>\n",
       "\t<tr><th scope=row>14</th><td>1000340</td><td>1001</td><td>  NA</td><td>  NA</td><td>1001</td><td>1001</td></tr>\n",
       "\t<tr><th scope=row>15</th><td>1000357</td><td>1001</td><td>  NA</td><td>  NA</td><td>1001</td><td>1001</td></tr>\n",
       "\t<tr><th scope=row>16</th><td>1000396</td><td>1001</td><td>  NA</td><td>  NA</td><td>1001</td><td>1001</td></tr>\n",
       "\t<tr><th scope=row>17</th><td>1000415</td><td>1002</td><td>  NA</td><td>  NA</td><td>1002</td><td>1002</td></tr>\n",
       "\t<tr><th scope=row>18</th><td>1000421</td><td>1001</td><td>  NA</td><td>  NA</td><td>1001</td><td>1001</td></tr>\n",
       "\t<tr><th scope=row>19</th><td>1000439</td><td>1001</td><td>  NA</td><td>  NA</td><td>1001</td><td>1001</td></tr>\n",
       "\t<tr><th scope=row>20</th><td>1000443</td><td>1001</td><td>  NA</td><td>1001</td><td>1001, 1001</td><td>1001</td></tr>\n",
       "\t<tr><th scope=row>21</th><td>1000477</td><td>1001</td><td>  NA</td><td>  NA</td><td>1001</td><td>1001</td></tr>\n",
       "\t<tr><th scope=row>22</th><td>1000494</td><td>1001</td><td>  NA</td><td>  NA</td><td>1001</td><td>1001</td></tr>\n",
       "\t<tr><th scope=row>23</th><td>1000516</td><td>1001</td><td>  NA</td><td>  NA</td><td>1001</td><td>1001</td></tr>\n",
       "\t<tr><th scope=row>24</th><td>1000530</td><td>1001</td><td>  NA</td><td>  NA</td><td>1001</td><td>1001</td></tr>\n",
       "\t<tr><th scope=row>25</th><td>1000551</td><td>1001</td><td>  NA</td><td>  NA</td><td>1001</td><td>1001</td></tr>\n",
       "\t<tr><th scope=row>26</th><td>1000609</td><td>1001</td><td>1001</td><td>  NA</td><td>1001, 1001</td><td>1001</td></tr>\n",
       "\t<tr><th scope=row>27</th><td>1000611</td><td>1001</td><td>  NA</td><td>  NA</td><td>1001</td><td>1001</td></tr>\n",
       "\t<tr><th scope=row>28</th><td>1000625</td><td>1001</td><td>  NA</td><td>  NA</td><td>1001</td><td>1001</td></tr>\n",
       "\t<tr><th scope=row>29</th><td>1000642</td><td>1001</td><td>  NA</td><td>  NA</td><td>1001</td><td>1001</td></tr>\n",
       "\t<tr><th scope=row>30</th><td>1000660</td><td>   6</td><td>  NA</td><td>  NA</td><td>6</td><td>   6</td></tr>\n",
       "\t<tr><th scope=row>⋮</th><td>⋮</td><td>⋮</td><td>⋮</td><td>⋮</td><td>⋮</td><td>⋮</td></tr>\n",
       "\t<tr><th scope=row>971</th><td>1023452</td><td>1002</td><td>  NA</td><td>  NA</td><td>1002</td><td>1002</td></tr>\n",
       "\t<tr><th scope=row>972</th><td>1023480</td><td>1001</td><td>  NA</td><td>  NA</td><td>1001</td><td>1001</td></tr>\n",
       "\t<tr><th scope=row>973</th><td>1023500</td><td>1001</td><td>  NA</td><td>  NA</td><td>1001</td><td>1001</td></tr>\n",
       "\t<tr><th scope=row>974</th><td>1023558</td><td>1001</td><td>  NA</td><td>  NA</td><td>1001</td><td>1001</td></tr>\n",
       "\t<tr><th scope=row>975</th><td>1023561</td><td>1001</td><td>  NA</td><td>  NA</td><td>1001</td><td>1001</td></tr>\n",
       "\t<tr><th scope=row>976</th><td>1023604</td><td>1001</td><td>  NA</td><td>  NA</td><td>1001</td><td>1001</td></tr>\n",
       "\t<tr><th scope=row>977</th><td>1023715</td><td>1001</td><td>  NA</td><td>  NA</td><td>1001</td><td>1001</td></tr>\n",
       "\t<tr><th scope=row>978</th><td>1023743</td><td>   5</td><td>  NA</td><td>  NA</td><td>5</td><td>   5</td></tr>\n",
       "\t<tr><th scope=row>979</th><td>1023750</td><td>1001</td><td>1001</td><td>  NA</td><td>1001, 1001</td><td>1001</td></tr>\n",
       "\t<tr><th scope=row>980</th><td>1023766</td><td>3001</td><td>  NA</td><td>  NA</td><td>3001</td><td>3001</td></tr>\n",
       "\t<tr><th scope=row>981</th><td>1023777</td><td>1001</td><td>  NA</td><td>  NA</td><td>1001</td><td>1001</td></tr>\n",
       "\t<tr><th scope=row>982</th><td>1023830</td><td>1001</td><td>  NA</td><td>  NA</td><td>1001</td><td>1001</td></tr>\n",
       "\t<tr><th scope=row>983</th><td>1023849</td><td>1001</td><td>  NA</td><td>  NA</td><td>1001</td><td>1001</td></tr>\n",
       "\t<tr><th scope=row>984</th><td>1023851</td><td>1001</td><td>1001</td><td>  NA</td><td>1001, 1001</td><td>1001</td></tr>\n",
       "\t<tr><th scope=row>985</th><td>1023873</td><td>1001</td><td>  NA</td><td>  NA</td><td>1001</td><td>1001</td></tr>\n",
       "\t<tr><th scope=row>986</th><td>1023884</td><td>1001</td><td>  NA</td><td>  NA</td><td>1001</td><td>1001</td></tr>\n",
       "\t<tr><th scope=row>987</th><td>1023919</td><td>   6</td><td>  NA</td><td>  NA</td><td>6</td><td>   6</td></tr>\n",
       "\t<tr><th scope=row>988</th><td>1023963</td><td>1001</td><td>  NA</td><td>  NA</td><td>1001</td><td>1001</td></tr>\n",
       "\t<tr><th scope=row>989</th><td>1023981</td><td>1001</td><td>  NA</td><td>  NA</td><td>1001</td><td>1001</td></tr>\n",
       "\t<tr><th scope=row>990</th><td>1024000</td><td>1001</td><td>  NA</td><td>  NA</td><td>1001</td><td>1001</td></tr>\n",
       "\t<tr><th scope=row>991</th><td>1024017</td><td>1001</td><td>  NA</td><td>  NA</td><td>1001</td><td>1001</td></tr>\n",
       "\t<tr><th scope=row>992</th><td>1024075</td><td>1001</td><td>  NA</td><td>  NA</td><td>1001</td><td>1001</td></tr>\n",
       "\t<tr><th scope=row>993</th><td>1024149</td><td>1001</td><td>  NA</td><td>  NA</td><td>1001</td><td>1001</td></tr>\n",
       "\t<tr><th scope=row>994</th><td>1024195</td><td>1001</td><td>  NA</td><td>  NA</td><td>1001</td><td>1001</td></tr>\n",
       "\t<tr><th scope=row>995</th><td>1024228</td><td>1001</td><td>  NA</td><td>1001</td><td>1001, 1001</td><td>1001</td></tr>\n",
       "\t<tr><th scope=row>996</th><td>1024245</td><td>1001</td><td>  NA</td><td>  NA</td><td>1001</td><td>1001</td></tr>\n",
       "\t<tr><th scope=row>997</th><td>1024276</td><td>1001</td><td>  NA</td><td>  NA</td><td>1001</td><td>1001</td></tr>\n",
       "\t<tr><th scope=row>998</th><td>1024280</td><td>1001</td><td>  NA</td><td>  NA</td><td>1001</td><td>1001</td></tr>\n",
       "\t<tr><th scope=row>999</th><td>1024321</td><td>1001</td><td>  NA</td><td>  NA</td><td>1001</td><td>1001</td></tr>\n",
       "\t<tr><th scope=row>1000</th><td>1024339</td><td>1001</td><td>  NA</td><td>  NA</td><td>1001</td><td>1001</td></tr>\n",
       "</tbody>\n",
       "</table>\n"
      ],
      "text/latex": [
       "A data.frame: 1000 × 6\n",
       "\\begin{tabular}{r|llllll}\n",
       "  & IID & f.21000.0.0 & f.21000.1.0 & f.21000.2.0 & visit & new\\_ethnicity\\\\\n",
       "  & <int> & <int> & <int> & <int> & <named list> & <dbl>\\\\\n",
       "\\hline\n",
       "\t1 & 1000019 & 1001 &   NA &   NA & 1001 & 1001\\\\\n",
       "\t2 & 1000035 & 1001 &   NA &   NA & 1001 & 1001\\\\\n",
       "\t3 & 1000078 & 1001 & 1001 & 1001 & 1001, 1001, 1001 & 1001\\\\\n",
       "\t4 & 1000081 & 1001 &   NA &   NA & 1001 & 1001\\\\\n",
       "\t5 & 1000198 & 1001 &   NA &   NA & 1001 & 1001\\\\\n",
       "\t6 & 1000210 & 1001 &   NA &   NA & 1001 & 1001\\\\\n",
       "\t7 & 1000224 & 1001 &   NA &   NA & 1001 & 1001\\\\\n",
       "\t8 & 1000236 & 1001 &   NA &   NA & 1001 & 1001\\\\\n",
       "\t9 & 1000255 & 1001 &   NA &   NA & 1001 & 1001\\\\\n",
       "\t10 & 1000272 &    6 &   NA &   NA & 6 &    6\\\\\n",
       "\t11 & 1000291 & 1001 &   NA &   NA & 1001 & 1001\\\\\n",
       "\t12 & 1000304 & 1001 &   NA &   NA & 1001 & 1001\\\\\n",
       "\t13 & 1000331 & 1003 &   NA &   NA & 1003 & 1003\\\\\n",
       "\t14 & 1000340 & 1001 &   NA &   NA & 1001 & 1001\\\\\n",
       "\t15 & 1000357 & 1001 &   NA &   NA & 1001 & 1001\\\\\n",
       "\t16 & 1000396 & 1001 &   NA &   NA & 1001 & 1001\\\\\n",
       "\t17 & 1000415 & 1002 &   NA &   NA & 1002 & 1002\\\\\n",
       "\t18 & 1000421 & 1001 &   NA &   NA & 1001 & 1001\\\\\n",
       "\t19 & 1000439 & 1001 &   NA &   NA & 1001 & 1001\\\\\n",
       "\t20 & 1000443 & 1001 &   NA & 1001 & 1001, 1001 & 1001\\\\\n",
       "\t21 & 1000477 & 1001 &   NA &   NA & 1001 & 1001\\\\\n",
       "\t22 & 1000494 & 1001 &   NA &   NA & 1001 & 1001\\\\\n",
       "\t23 & 1000516 & 1001 &   NA &   NA & 1001 & 1001\\\\\n",
       "\t24 & 1000530 & 1001 &   NA &   NA & 1001 & 1001\\\\\n",
       "\t25 & 1000551 & 1001 &   NA &   NA & 1001 & 1001\\\\\n",
       "\t26 & 1000609 & 1001 & 1001 &   NA & 1001, 1001 & 1001\\\\\n",
       "\t27 & 1000611 & 1001 &   NA &   NA & 1001 & 1001\\\\\n",
       "\t28 & 1000625 & 1001 &   NA &   NA & 1001 & 1001\\\\\n",
       "\t29 & 1000642 & 1001 &   NA &   NA & 1001 & 1001\\\\\n",
       "\t30 & 1000660 &    6 &   NA &   NA & 6 &    6\\\\\n",
       "\t⋮ & ⋮ & ⋮ & ⋮ & ⋮ & ⋮ & ⋮\\\\\n",
       "\t971 & 1023452 & 1002 &   NA &   NA & 1002 & 1002\\\\\n",
       "\t972 & 1023480 & 1001 &   NA &   NA & 1001 & 1001\\\\\n",
       "\t973 & 1023500 & 1001 &   NA &   NA & 1001 & 1001\\\\\n",
       "\t974 & 1023558 & 1001 &   NA &   NA & 1001 & 1001\\\\\n",
       "\t975 & 1023561 & 1001 &   NA &   NA & 1001 & 1001\\\\\n",
       "\t976 & 1023604 & 1001 &   NA &   NA & 1001 & 1001\\\\\n",
       "\t977 & 1023715 & 1001 &   NA &   NA & 1001 & 1001\\\\\n",
       "\t978 & 1023743 &    5 &   NA &   NA & 5 &    5\\\\\n",
       "\t979 & 1023750 & 1001 & 1001 &   NA & 1001, 1001 & 1001\\\\\n",
       "\t980 & 1023766 & 3001 &   NA &   NA & 3001 & 3001\\\\\n",
       "\t981 & 1023777 & 1001 &   NA &   NA & 1001 & 1001\\\\\n",
       "\t982 & 1023830 & 1001 &   NA &   NA & 1001 & 1001\\\\\n",
       "\t983 & 1023849 & 1001 &   NA &   NA & 1001 & 1001\\\\\n",
       "\t984 & 1023851 & 1001 & 1001 &   NA & 1001, 1001 & 1001\\\\\n",
       "\t985 & 1023873 & 1001 &   NA &   NA & 1001 & 1001\\\\\n",
       "\t986 & 1023884 & 1001 &   NA &   NA & 1001 & 1001\\\\\n",
       "\t987 & 1023919 &    6 &   NA &   NA & 6 &    6\\\\\n",
       "\t988 & 1023963 & 1001 &   NA &   NA & 1001 & 1001\\\\\n",
       "\t989 & 1023981 & 1001 &   NA &   NA & 1001 & 1001\\\\\n",
       "\t990 & 1024000 & 1001 &   NA &   NA & 1001 & 1001\\\\\n",
       "\t991 & 1024017 & 1001 &   NA &   NA & 1001 & 1001\\\\\n",
       "\t992 & 1024075 & 1001 &   NA &   NA & 1001 & 1001\\\\\n",
       "\t993 & 1024149 & 1001 &   NA &   NA & 1001 & 1001\\\\\n",
       "\t994 & 1024195 & 1001 &   NA &   NA & 1001 & 1001\\\\\n",
       "\t995 & 1024228 & 1001 &   NA & 1001 & 1001, 1001 & 1001\\\\\n",
       "\t996 & 1024245 & 1001 &   NA &   NA & 1001 & 1001\\\\\n",
       "\t997 & 1024276 & 1001 &   NA &   NA & 1001 & 1001\\\\\n",
       "\t998 & 1024280 & 1001 &   NA &   NA & 1001 & 1001\\\\\n",
       "\t999 & 1024321 & 1001 &   NA &   NA & 1001 & 1001\\\\\n",
       "\t1000 & 1024339 & 1001 &   NA &   NA & 1001 & 1001\\\\\n",
       "\\end{tabular}\n"
      ],
      "text/markdown": [
       "\n",
       "A data.frame: 1000 × 6\n",
       "\n",
       "| <!--/--> | IID &lt;int&gt; | f.21000.0.0 &lt;int&gt; | f.21000.1.0 &lt;int&gt; | f.21000.2.0 &lt;int&gt; | visit &lt;named list&gt; | new_ethnicity &lt;dbl&gt; |\n",
       "|---|---|---|---|---|---|---|\n",
       "| 1 | 1000019 | 1001 |   NA |   NA | 1001 | 1001 |\n",
       "| 2 | 1000035 | 1001 |   NA |   NA | 1001 | 1001 |\n",
       "| 3 | 1000078 | 1001 | 1001 | 1001 | 1001, 1001, 1001 | 1001 |\n",
       "| 4 | 1000081 | 1001 |   NA |   NA | 1001 | 1001 |\n",
       "| 5 | 1000198 | 1001 |   NA |   NA | 1001 | 1001 |\n",
       "| 6 | 1000210 | 1001 |   NA |   NA | 1001 | 1001 |\n",
       "| 7 | 1000224 | 1001 |   NA |   NA | 1001 | 1001 |\n",
       "| 8 | 1000236 | 1001 |   NA |   NA | 1001 | 1001 |\n",
       "| 9 | 1000255 | 1001 |   NA |   NA | 1001 | 1001 |\n",
       "| 10 | 1000272 |    6 |   NA |   NA | 6 |    6 |\n",
       "| 11 | 1000291 | 1001 |   NA |   NA | 1001 | 1001 |\n",
       "| 12 | 1000304 | 1001 |   NA |   NA | 1001 | 1001 |\n",
       "| 13 | 1000331 | 1003 |   NA |   NA | 1003 | 1003 |\n",
       "| 14 | 1000340 | 1001 |   NA |   NA | 1001 | 1001 |\n",
       "| 15 | 1000357 | 1001 |   NA |   NA | 1001 | 1001 |\n",
       "| 16 | 1000396 | 1001 |   NA |   NA | 1001 | 1001 |\n",
       "| 17 | 1000415 | 1002 |   NA |   NA | 1002 | 1002 |\n",
       "| 18 | 1000421 | 1001 |   NA |   NA | 1001 | 1001 |\n",
       "| 19 | 1000439 | 1001 |   NA |   NA | 1001 | 1001 |\n",
       "| 20 | 1000443 | 1001 |   NA | 1001 | 1001, 1001 | 1001 |\n",
       "| 21 | 1000477 | 1001 |   NA |   NA | 1001 | 1001 |\n",
       "| 22 | 1000494 | 1001 |   NA |   NA | 1001 | 1001 |\n",
       "| 23 | 1000516 | 1001 |   NA |   NA | 1001 | 1001 |\n",
       "| 24 | 1000530 | 1001 |   NA |   NA | 1001 | 1001 |\n",
       "| 25 | 1000551 | 1001 |   NA |   NA | 1001 | 1001 |\n",
       "| 26 | 1000609 | 1001 | 1001 |   NA | 1001, 1001 | 1001 |\n",
       "| 27 | 1000611 | 1001 |   NA |   NA | 1001 | 1001 |\n",
       "| 28 | 1000625 | 1001 |   NA |   NA | 1001 | 1001 |\n",
       "| 29 | 1000642 | 1001 |   NA |   NA | 1001 | 1001 |\n",
       "| 30 | 1000660 |    6 |   NA |   NA | 6 |    6 |\n",
       "| ⋮ | ⋮ | ⋮ | ⋮ | ⋮ | ⋮ | ⋮ |\n",
       "| 971 | 1023452 | 1002 |   NA |   NA | 1002 | 1002 |\n",
       "| 972 | 1023480 | 1001 |   NA |   NA | 1001 | 1001 |\n",
       "| 973 | 1023500 | 1001 |   NA |   NA | 1001 | 1001 |\n",
       "| 974 | 1023558 | 1001 |   NA |   NA | 1001 | 1001 |\n",
       "| 975 | 1023561 | 1001 |   NA |   NA | 1001 | 1001 |\n",
       "| 976 | 1023604 | 1001 |   NA |   NA | 1001 | 1001 |\n",
       "| 977 | 1023715 | 1001 |   NA |   NA | 1001 | 1001 |\n",
       "| 978 | 1023743 |    5 |   NA |   NA | 5 |    5 |\n",
       "| 979 | 1023750 | 1001 | 1001 |   NA | 1001, 1001 | 1001 |\n",
       "| 980 | 1023766 | 3001 |   NA |   NA | 3001 | 3001 |\n",
       "| 981 | 1023777 | 1001 |   NA |   NA | 1001 | 1001 |\n",
       "| 982 | 1023830 | 1001 |   NA |   NA | 1001 | 1001 |\n",
       "| 983 | 1023849 | 1001 |   NA |   NA | 1001 | 1001 |\n",
       "| 984 | 1023851 | 1001 | 1001 |   NA | 1001, 1001 | 1001 |\n",
       "| 985 | 1023873 | 1001 |   NA |   NA | 1001 | 1001 |\n",
       "| 986 | 1023884 | 1001 |   NA |   NA | 1001 | 1001 |\n",
       "| 987 | 1023919 |    6 |   NA |   NA | 6 |    6 |\n",
       "| 988 | 1023963 | 1001 |   NA |   NA | 1001 | 1001 |\n",
       "| 989 | 1023981 | 1001 |   NA |   NA | 1001 | 1001 |\n",
       "| 990 | 1024000 | 1001 |   NA |   NA | 1001 | 1001 |\n",
       "| 991 | 1024017 | 1001 |   NA |   NA | 1001 | 1001 |\n",
       "| 992 | 1024075 | 1001 |   NA |   NA | 1001 | 1001 |\n",
       "| 993 | 1024149 | 1001 |   NA |   NA | 1001 | 1001 |\n",
       "| 994 | 1024195 | 1001 |   NA |   NA | 1001 | 1001 |\n",
       "| 995 | 1024228 | 1001 |   NA | 1001 | 1001, 1001 | 1001 |\n",
       "| 996 | 1024245 | 1001 |   NA |   NA | 1001 | 1001 |\n",
       "| 997 | 1024276 | 1001 |   NA |   NA | 1001 | 1001 |\n",
       "| 998 | 1024280 | 1001 |   NA |   NA | 1001 | 1001 |\n",
       "| 999 | 1024321 | 1001 |   NA |   NA | 1001 | 1001 |\n",
       "| 1000 | 1024339 | 1001 |   NA |   NA | 1001 | 1001 |\n",
       "\n"
      ],
      "text/plain": [
       "     IID     f.21000.0.0 f.21000.1.0 f.21000.2.0 visit            new_ethnicity\n",
       "1    1000019 1001          NA          NA        1001             1001         \n",
       "2    1000035 1001          NA          NA        1001             1001         \n",
       "3    1000078 1001        1001        1001        1001, 1001, 1001 1001         \n",
       "4    1000081 1001          NA          NA        1001             1001         \n",
       "5    1000198 1001          NA          NA        1001             1001         \n",
       "6    1000210 1001          NA          NA        1001             1001         \n",
       "7    1000224 1001          NA          NA        1001             1001         \n",
       "8    1000236 1001          NA          NA        1001             1001         \n",
       "9    1000255 1001          NA          NA        1001             1001         \n",
       "10   1000272    6          NA          NA        6                   6         \n",
       "11   1000291 1001          NA          NA        1001             1001         \n",
       "12   1000304 1001          NA          NA        1001             1001         \n",
       "13   1000331 1003          NA          NA        1003             1003         \n",
       "14   1000340 1001          NA          NA        1001             1001         \n",
       "15   1000357 1001          NA          NA        1001             1001         \n",
       "16   1000396 1001          NA          NA        1001             1001         \n",
       "17   1000415 1002          NA          NA        1002             1002         \n",
       "18   1000421 1001          NA          NA        1001             1001         \n",
       "19   1000439 1001          NA          NA        1001             1001         \n",
       "20   1000443 1001          NA        1001        1001, 1001       1001         \n",
       "21   1000477 1001          NA          NA        1001             1001         \n",
       "22   1000494 1001          NA          NA        1001             1001         \n",
       "23   1000516 1001          NA          NA        1001             1001         \n",
       "24   1000530 1001          NA          NA        1001             1001         \n",
       "25   1000551 1001          NA          NA        1001             1001         \n",
       "26   1000609 1001        1001          NA        1001, 1001       1001         \n",
       "27   1000611 1001          NA          NA        1001             1001         \n",
       "28   1000625 1001          NA          NA        1001             1001         \n",
       "29   1000642 1001          NA          NA        1001             1001         \n",
       "30   1000660    6          NA          NA        6                   6         \n",
       "⋮    ⋮       ⋮           ⋮           ⋮           ⋮                ⋮            \n",
       "971  1023452 1002          NA          NA        1002             1002         \n",
       "972  1023480 1001          NA          NA        1001             1001         \n",
       "973  1023500 1001          NA          NA        1001             1001         \n",
       "974  1023558 1001          NA          NA        1001             1001         \n",
       "975  1023561 1001          NA          NA        1001             1001         \n",
       "976  1023604 1001          NA          NA        1001             1001         \n",
       "977  1023715 1001          NA          NA        1001             1001         \n",
       "978  1023743    5          NA          NA        5                   5         \n",
       "979  1023750 1001        1001          NA        1001, 1001       1001         \n",
       "980  1023766 3001          NA          NA        3001             3001         \n",
       "981  1023777 1001          NA          NA        1001             1001         \n",
       "982  1023830 1001          NA          NA        1001             1001         \n",
       "983  1023849 1001          NA          NA        1001             1001         \n",
       "984  1023851 1001        1001          NA        1001, 1001       1001         \n",
       "985  1023873 1001          NA          NA        1001             1001         \n",
       "986  1023884 1001          NA          NA        1001             1001         \n",
       "987  1023919    6          NA          NA        6                   6         \n",
       "988  1023963 1001          NA          NA        1001             1001         \n",
       "989  1023981 1001          NA          NA        1001             1001         \n",
       "990  1024000 1001          NA          NA        1001             1001         \n",
       "991  1024017 1001          NA          NA        1001             1001         \n",
       "992  1024075 1001          NA          NA        1001             1001         \n",
       "993  1024149 1001          NA          NA        1001             1001         \n",
       "994  1024195 1001          NA          NA        1001             1001         \n",
       "995  1024228 1001          NA        1001        1001, 1001       1001         \n",
       "996  1024245 1001          NA          NA        1001             1001         \n",
       "997  1024276 1001          NA          NA        1001             1001         \n",
       "998  1024280 1001          NA          NA        1001             1001         \n",
       "999  1024321 1001          NA          NA        1001             1001         \n",
       "1000 1024339 1001          NA          NA        1001             1001         "
      ]
     },
     "metadata": {},
     "output_type": "display_data"
    },
    {
     "data": {
      "text/html": [
       "<style>\n",
       ".list-inline {list-style: none; margin:0; padding: 0}\n",
       ".list-inline>li {display: inline-block}\n",
       ".list-inline>li:not(:last-child)::after {content: \"\\00b7\"; padding: 0 .5ex}\n",
       "</style>\n",
       "<ol class=list-inline><li>199865</li><li>6</li></ol>\n"
      ],
      "text/latex": [
       "\\begin{enumerate*}\n",
       "\\item 199865\n",
       "\\item 6\n",
       "\\end{enumerate*}\n"
      ],
      "text/markdown": [
       "1. 199865\n",
       "2. 6\n",
       "\n",
       "\n"
      ],
      "text/plain": [
       "[1] 199865      6"
      ]
     },
     "metadata": {},
     "output_type": "display_data"
    },
    {
     "data": {
      "text/html": [
       "<style>\n",
       ".list-inline {list-style: none; margin:0; padding: 0}\n",
       ".list-inline>li {display: inline-block}\n",
       ".list-inline>li:not(:last-child)::after {content: \"\\00b7\"; padding: 0 .5ex}\n",
       "</style>\n",
       "<ol class=list-inline><li>200419</li><li>6</li></ol>\n"
      ],
      "text/latex": [
       "\\begin{enumerate*}\n",
       "\\item 200419\n",
       "\\item 6\n",
       "\\end{enumerate*}\n"
      ],
      "text/markdown": [
       "1. 200419\n",
       "2. 6\n",
       "\n",
       "\n"
      ],
      "text/plain": [
       "[1] 200419      6"
      ]
     },
     "metadata": {},
     "output_type": "display_data"
    }
   ],
   "source": [
    "# Function to get the final code for ethnicity\n",
    "f<-function(x){\n",
    "  l=length(x$visit)\n",
    "  if (l==1){ # only one answer available\n",
    "    result=x$visit\n",
    "  }\n",
    "  else{ # more then one answer available\n",
    "    result=x$visit[1]\n",
    "    for (i in 2:l){\n",
    "      if (x$visit[i] == x$visit[i-1]){result=x$visit[i]} # consistent ones\n",
    "      else {result=NA; break} # inconsistent ones\n",
    "    }\n",
    "  }\n",
    "  return(result)\n",
    "}\n",
    "\n",
    "# Apply the above function and remove NAs\n",
    "ethnicity$new_ethnicity<-apply(ethnicity, 1, f)\n",
    "ethnicity_noNA<-ethnicity %>%\n",
    "  filter(!is.na(new_ethnicity))\n",
    "ethnicity_isNA <- ethnicity %>%\n",
    "  filter(is.na(new_ethnicity))\n",
    "head(ethnicity_noNA, 1000) # note: noise_wp code generated here is numeric, not factor\n",
    "dim(ethnicity_noNA)\n",
    "dim(ethnicity)"
   ]
  },
  {
   "cell_type": "code",
   "execution_count": 30,
   "metadata": {
    "kernel": "R"
   },
   "outputs": [
    {
     "data": {
      "text/html": [
       "<table>\n",
       "<caption>A data.frame: 50 × 6</caption>\n",
       "<thead>\n",
       "\t<tr><th></th><th scope=col>IID</th><th scope=col>f.21000.0.0</th><th scope=col>f.21000.1.0</th><th scope=col>f.21000.2.0</th><th scope=col>visit</th><th scope=col>new_ethnicity</th></tr>\n",
       "\t<tr><th></th><th scope=col>&lt;int&gt;</th><th scope=col>&lt;int&gt;</th><th scope=col>&lt;int&gt;</th><th scope=col>&lt;int&gt;</th><th scope=col>&lt;named list&gt;</th><th scope=col>&lt;dbl&gt;</th></tr>\n",
       "</thead>\n",
       "<tbody>\n",
       "\t<tr><th scope=row>1</th><td>1007061</td><td>1002</td><td>  NA</td><td>1001</td><td>1002, 1001</td><td>NA</td></tr>\n",
       "\t<tr><th scope=row>2</th><td>1057984</td><td>  -3</td><td>  NA</td><td>1001</td><td>-3, 1001</td><td>NA</td></tr>\n",
       "\t<tr><th scope=row>3</th><td>1059988</td><td>1001</td><td>1002</td><td>1001</td><td>1001, 1002, 1001</td><td>NA</td></tr>\n",
       "\t<tr><th scope=row>4</th><td>1077383</td><td>1001</td><td>1002</td><td>  NA</td><td>1001, 1002</td><td>NA</td></tr>\n",
       "\t<tr><th scope=row>5</th><td>1108028</td><td>1001</td><td>1002</td><td>  NA</td><td>1001, 1002</td><td>NA</td></tr>\n",
       "\t<tr><th scope=row>6</th><td>1109575</td><td>1001</td><td>  NA</td><td>   6</td><td>1001, 6</td><td>NA</td></tr>\n",
       "\t<tr><th scope=row>7</th><td>1110004</td><td>1001</td><td>  -3</td><td>  NA</td><td>1001, -3</td><td>NA</td></tr>\n",
       "\t<tr><th scope=row>8</th><td>1111668</td><td>1003</td><td>1001</td><td>  NA</td><td>1003, 1001</td><td>NA</td></tr>\n",
       "\t<tr><th scope=row>9</th><td>1133245</td><td>1003</td><td>1001</td><td>  NA</td><td>1003, 1001</td><td>NA</td></tr>\n",
       "\t<tr><th scope=row>10</th><td>1139512</td><td>1001</td><td>1003</td><td>1001</td><td>1001, 1003, 1001</td><td>NA</td></tr>\n",
       "\t<tr><th scope=row>11</th><td>1147612</td><td>1002</td><td>  NA</td><td>1001</td><td>1002, 1001</td><td>NA</td></tr>\n",
       "\t<tr><th scope=row>12</th><td>1177069</td><td>1001</td><td>  NA</td><td>1003</td><td>1001, 1003</td><td>NA</td></tr>\n",
       "\t<tr><th scope=row>13</th><td>1184372</td><td>3001</td><td>3002</td><td>  NA</td><td>3001, 3002</td><td>NA</td></tr>\n",
       "\t<tr><th scope=row>14</th><td>1187923</td><td>1001</td><td>1003</td><td>  NA</td><td>1001, 1003</td><td>NA</td></tr>\n",
       "\t<tr><th scope=row>15</th><td>1191120</td><td>2002</td><td>2002</td><td>2004</td><td>2002, 2002, 2004</td><td>NA</td></tr>\n",
       "\t<tr><th scope=row>16</th><td>1194419</td><td>   6</td><td>1001</td><td>  NA</td><td>6, 1001</td><td>NA</td></tr>\n",
       "\t<tr><th scope=row>17</th><td>1198980</td><td>1003</td><td>  NA</td><td>   6</td><td>1003, 6</td><td>NA</td></tr>\n",
       "\t<tr><th scope=row>18</th><td>1222336</td><td>1003</td><td>  NA</td><td>1001</td><td>1003, 1001</td><td>NA</td></tr>\n",
       "\t<tr><th scope=row>19</th><td>1254019</td><td>1001</td><td>  NA</td><td>  -3</td><td>1001, -3</td><td>NA</td></tr>\n",
       "\t<tr><th scope=row>20</th><td>1255856</td><td>1001</td><td>1003</td><td>1001</td><td>1001, 1003, 1001</td><td>NA</td></tr>\n",
       "\t<tr><th scope=row>21</th><td>1260535</td><td>1001</td><td>1003</td><td>1001</td><td>1001, 1003, 1001</td><td>NA</td></tr>\n",
       "\t<tr><th scope=row>22</th><td>1274597</td><td>1003</td><td>1001</td><td>1003</td><td>1003, 1001, 1003</td><td>NA</td></tr>\n",
       "\t<tr><th scope=row>23</th><td>1289547</td><td>1001</td><td>1002</td><td>1001</td><td>1001, 1002, 1001</td><td>NA</td></tr>\n",
       "\t<tr><th scope=row>24</th><td>1293966</td><td>1003</td><td>  NA</td><td>1001</td><td>1003, 1001</td><td>NA</td></tr>\n",
       "\t<tr><th scope=row>25</th><td>1298050</td><td>4003</td><td>  NA</td><td>2002</td><td>4003, 2002</td><td>NA</td></tr>\n",
       "\t<tr><th scope=row>26</th><td>1312632</td><td>1001</td><td>  -3</td><td>  NA</td><td>1001, -3</td><td>NA</td></tr>\n",
       "\t<tr><th scope=row>27</th><td>1328519</td><td>4002</td><td>  -3</td><td>  NA</td><td>4002, -3</td><td>NA</td></tr>\n",
       "\t<tr><th scope=row>28</th><td>1335239</td><td>1003</td><td>  NA</td><td>1001</td><td>1003, 1001</td><td>NA</td></tr>\n",
       "\t<tr><th scope=row>29</th><td>1349714</td><td>  -3</td><td>  NA</td><td>1001</td><td>-3, 1001</td><td>NA</td></tr>\n",
       "\t<tr><th scope=row>30</th><td>1353653</td><td>   1</td><td>1001</td><td>  NA</td><td>1, 1001</td><td>NA</td></tr>\n",
       "\t<tr><th scope=row>31</th><td>1357544</td><td>   6</td><td>  -3</td><td>  NA</td><td>6, -3</td><td>NA</td></tr>\n",
       "\t<tr><th scope=row>32</th><td>1404631</td><td>1002</td><td>  NA</td><td>1001</td><td>1002, 1001</td><td>NA</td></tr>\n",
       "\t<tr><th scope=row>33</th><td>1405332</td><td>   1</td><td>1001</td><td>1001</td><td>1, 1001, 1001</td><td>NA</td></tr>\n",
       "\t<tr><th scope=row>34</th><td>1411280</td><td>1003</td><td>1001</td><td>  NA</td><td>1003, 1001</td><td>NA</td></tr>\n",
       "\t<tr><th scope=row>35</th><td>1449162</td><td>   6</td><td>  -3</td><td>  NA</td><td>6, -3</td><td>NA</td></tr>\n",
       "\t<tr><th scope=row>36</th><td>1450255</td><td>4002</td><td>   6</td><td>  NA</td><td>4002, 6</td><td>NA</td></tr>\n",
       "\t<tr><th scope=row>37</th><td>1450642</td><td>1002</td><td>  NA</td><td>1001</td><td>1002, 1001</td><td>NA</td></tr>\n",
       "\t<tr><th scope=row>38</th><td>1462802</td><td>1002</td><td>  NA</td><td>1001</td><td>1002, 1001</td><td>NA</td></tr>\n",
       "\t<tr><th scope=row>39</th><td>1466621</td><td>2002</td><td>2002</td><td>  -1</td><td>2002, 2002, -1</td><td>NA</td></tr>\n",
       "\t<tr><th scope=row>40</th><td>1468053</td><td>1001</td><td>1002</td><td>1001</td><td>1001, 1002, 1001</td><td>NA</td></tr>\n",
       "\t<tr><th scope=row>41</th><td>1477612</td><td>  -3</td><td>  NA</td><td>1001</td><td>-3, 1001</td><td>NA</td></tr>\n",
       "\t<tr><th scope=row>42</th><td>1481227</td><td>1002</td><td>1001</td><td>1002</td><td>1002, 1001, 1002</td><td>NA</td></tr>\n",
       "\t<tr><th scope=row>43</th><td>1485418</td><td>2001</td><td>2004</td><td>  NA</td><td>2001, 2004</td><td>NA</td></tr>\n",
       "\t<tr><th scope=row>44</th><td>1498887</td><td>1001</td><td>  NA</td><td>1003</td><td>1001, 1003</td><td>NA</td></tr>\n",
       "\t<tr><th scope=row>45</th><td>1507446</td><td>1003</td><td>1001</td><td>  NA</td><td>1003, 1001</td><td>NA</td></tr>\n",
       "\t<tr><th scope=row>46</th><td>1507823</td><td>1002</td><td>1001</td><td>  NA</td><td>1002, 1001</td><td>NA</td></tr>\n",
       "\t<tr><th scope=row>47</th><td>1517989</td><td>1003</td><td>1001</td><td>  NA</td><td>1003, 1001</td><td>NA</td></tr>\n",
       "\t<tr><th scope=row>48</th><td>1531437</td><td>1002</td><td>1001</td><td>  NA</td><td>1002, 1001</td><td>NA</td></tr>\n",
       "\t<tr><th scope=row>49</th><td>1542717</td><td>2003</td><td>  NA</td><td>   2</td><td>2003, 2</td><td>NA</td></tr>\n",
       "\t<tr><th scope=row>50</th><td>1548875</td><td>1001</td><td>  NA</td><td>1003</td><td>1001, 1003</td><td>NA</td></tr>\n",
       "</tbody>\n",
       "</table>\n"
      ],
      "text/latex": [
       "A data.frame: 50 × 6\n",
       "\\begin{tabular}{r|llllll}\n",
       "  & IID & f.21000.0.0 & f.21000.1.0 & f.21000.2.0 & visit & new\\_ethnicity\\\\\n",
       "  & <int> & <int> & <int> & <int> & <named list> & <dbl>\\\\\n",
       "\\hline\n",
       "\t1 & 1007061 & 1002 &   NA & 1001 & 1002, 1001 & NA\\\\\n",
       "\t2 & 1057984 &   -3 &   NA & 1001 & -3, 1001 & NA\\\\\n",
       "\t3 & 1059988 & 1001 & 1002 & 1001 & 1001, 1002, 1001 & NA\\\\\n",
       "\t4 & 1077383 & 1001 & 1002 &   NA & 1001, 1002 & NA\\\\\n",
       "\t5 & 1108028 & 1001 & 1002 &   NA & 1001, 1002 & NA\\\\\n",
       "\t6 & 1109575 & 1001 &   NA &    6 & 1001, 6 & NA\\\\\n",
       "\t7 & 1110004 & 1001 &   -3 &   NA & 1001, -3 & NA\\\\\n",
       "\t8 & 1111668 & 1003 & 1001 &   NA & 1003, 1001 & NA\\\\\n",
       "\t9 & 1133245 & 1003 & 1001 &   NA & 1003, 1001 & NA\\\\\n",
       "\t10 & 1139512 & 1001 & 1003 & 1001 & 1001, 1003, 1001 & NA\\\\\n",
       "\t11 & 1147612 & 1002 &   NA & 1001 & 1002, 1001 & NA\\\\\n",
       "\t12 & 1177069 & 1001 &   NA & 1003 & 1001, 1003 & NA\\\\\n",
       "\t13 & 1184372 & 3001 & 3002 &   NA & 3001, 3002 & NA\\\\\n",
       "\t14 & 1187923 & 1001 & 1003 &   NA & 1001, 1003 & NA\\\\\n",
       "\t15 & 1191120 & 2002 & 2002 & 2004 & 2002, 2002, 2004 & NA\\\\\n",
       "\t16 & 1194419 &    6 & 1001 &   NA & 6, 1001 & NA\\\\\n",
       "\t17 & 1198980 & 1003 &   NA &    6 & 1003, 6 & NA\\\\\n",
       "\t18 & 1222336 & 1003 &   NA & 1001 & 1003, 1001 & NA\\\\\n",
       "\t19 & 1254019 & 1001 &   NA &   -3 & 1001, -3 & NA\\\\\n",
       "\t20 & 1255856 & 1001 & 1003 & 1001 & 1001, 1003, 1001 & NA\\\\\n",
       "\t21 & 1260535 & 1001 & 1003 & 1001 & 1001, 1003, 1001 & NA\\\\\n",
       "\t22 & 1274597 & 1003 & 1001 & 1003 & 1003, 1001, 1003 & NA\\\\\n",
       "\t23 & 1289547 & 1001 & 1002 & 1001 & 1001, 1002, 1001 & NA\\\\\n",
       "\t24 & 1293966 & 1003 &   NA & 1001 & 1003, 1001 & NA\\\\\n",
       "\t25 & 1298050 & 4003 &   NA & 2002 & 4003, 2002 & NA\\\\\n",
       "\t26 & 1312632 & 1001 &   -3 &   NA & 1001, -3 & NA\\\\\n",
       "\t27 & 1328519 & 4002 &   -3 &   NA & 4002, -3 & NA\\\\\n",
       "\t28 & 1335239 & 1003 &   NA & 1001 & 1003, 1001 & NA\\\\\n",
       "\t29 & 1349714 &   -3 &   NA & 1001 & -3, 1001 & NA\\\\\n",
       "\t30 & 1353653 &    1 & 1001 &   NA & 1, 1001 & NA\\\\\n",
       "\t31 & 1357544 &    6 &   -3 &   NA & 6, -3 & NA\\\\\n",
       "\t32 & 1404631 & 1002 &   NA & 1001 & 1002, 1001 & NA\\\\\n",
       "\t33 & 1405332 &    1 & 1001 & 1001 & 1, 1001, 1001 & NA\\\\\n",
       "\t34 & 1411280 & 1003 & 1001 &   NA & 1003, 1001 & NA\\\\\n",
       "\t35 & 1449162 &    6 &   -3 &   NA & 6, -3 & NA\\\\\n",
       "\t36 & 1450255 & 4002 &    6 &   NA & 4002, 6 & NA\\\\\n",
       "\t37 & 1450642 & 1002 &   NA & 1001 & 1002, 1001 & NA\\\\\n",
       "\t38 & 1462802 & 1002 &   NA & 1001 & 1002, 1001 & NA\\\\\n",
       "\t39 & 1466621 & 2002 & 2002 &   -1 & 2002, 2002, -1 & NA\\\\\n",
       "\t40 & 1468053 & 1001 & 1002 & 1001 & 1001, 1002, 1001 & NA\\\\\n",
       "\t41 & 1477612 &   -3 &   NA & 1001 & -3, 1001 & NA\\\\\n",
       "\t42 & 1481227 & 1002 & 1001 & 1002 & 1002, 1001, 1002 & NA\\\\\n",
       "\t43 & 1485418 & 2001 & 2004 &   NA & 2001, 2004 & NA\\\\\n",
       "\t44 & 1498887 & 1001 &   NA & 1003 & 1001, 1003 & NA\\\\\n",
       "\t45 & 1507446 & 1003 & 1001 &   NA & 1003, 1001 & NA\\\\\n",
       "\t46 & 1507823 & 1002 & 1001 &   NA & 1002, 1001 & NA\\\\\n",
       "\t47 & 1517989 & 1003 & 1001 &   NA & 1003, 1001 & NA\\\\\n",
       "\t48 & 1531437 & 1002 & 1001 &   NA & 1002, 1001 & NA\\\\\n",
       "\t49 & 1542717 & 2003 &   NA &    2 & 2003, 2 & NA\\\\\n",
       "\t50 & 1548875 & 1001 &   NA & 1003 & 1001, 1003 & NA\\\\\n",
       "\\end{tabular}\n"
      ],
      "text/markdown": [
       "\n",
       "A data.frame: 50 × 6\n",
       "\n",
       "| <!--/--> | IID &lt;int&gt; | f.21000.0.0 &lt;int&gt; | f.21000.1.0 &lt;int&gt; | f.21000.2.0 &lt;int&gt; | visit &lt;named list&gt; | new_ethnicity &lt;dbl&gt; |\n",
       "|---|---|---|---|---|---|---|\n",
       "| 1 | 1007061 | 1002 |   NA | 1001 | 1002, 1001 | NA |\n",
       "| 2 | 1057984 |   -3 |   NA | 1001 | -3, 1001 | NA |\n",
       "| 3 | 1059988 | 1001 | 1002 | 1001 | 1001, 1002, 1001 | NA |\n",
       "| 4 | 1077383 | 1001 | 1002 |   NA | 1001, 1002 | NA |\n",
       "| 5 | 1108028 | 1001 | 1002 |   NA | 1001, 1002 | NA |\n",
       "| 6 | 1109575 | 1001 |   NA |    6 | 1001, 6 | NA |\n",
       "| 7 | 1110004 | 1001 |   -3 |   NA | 1001, -3 | NA |\n",
       "| 8 | 1111668 | 1003 | 1001 |   NA | 1003, 1001 | NA |\n",
       "| 9 | 1133245 | 1003 | 1001 |   NA | 1003, 1001 | NA |\n",
       "| 10 | 1139512 | 1001 | 1003 | 1001 | 1001, 1003, 1001 | NA |\n",
       "| 11 | 1147612 | 1002 |   NA | 1001 | 1002, 1001 | NA |\n",
       "| 12 | 1177069 | 1001 |   NA | 1003 | 1001, 1003 | NA |\n",
       "| 13 | 1184372 | 3001 | 3002 |   NA | 3001, 3002 | NA |\n",
       "| 14 | 1187923 | 1001 | 1003 |   NA | 1001, 1003 | NA |\n",
       "| 15 | 1191120 | 2002 | 2002 | 2004 | 2002, 2002, 2004 | NA |\n",
       "| 16 | 1194419 |    6 | 1001 |   NA | 6, 1001 | NA |\n",
       "| 17 | 1198980 | 1003 |   NA |    6 | 1003, 6 | NA |\n",
       "| 18 | 1222336 | 1003 |   NA | 1001 | 1003, 1001 | NA |\n",
       "| 19 | 1254019 | 1001 |   NA |   -3 | 1001, -3 | NA |\n",
       "| 20 | 1255856 | 1001 | 1003 | 1001 | 1001, 1003, 1001 | NA |\n",
       "| 21 | 1260535 | 1001 | 1003 | 1001 | 1001, 1003, 1001 | NA |\n",
       "| 22 | 1274597 | 1003 | 1001 | 1003 | 1003, 1001, 1003 | NA |\n",
       "| 23 | 1289547 | 1001 | 1002 | 1001 | 1001, 1002, 1001 | NA |\n",
       "| 24 | 1293966 | 1003 |   NA | 1001 | 1003, 1001 | NA |\n",
       "| 25 | 1298050 | 4003 |   NA | 2002 | 4003, 2002 | NA |\n",
       "| 26 | 1312632 | 1001 |   -3 |   NA | 1001, -3 | NA |\n",
       "| 27 | 1328519 | 4002 |   -3 |   NA | 4002, -3 | NA |\n",
       "| 28 | 1335239 | 1003 |   NA | 1001 | 1003, 1001 | NA |\n",
       "| 29 | 1349714 |   -3 |   NA | 1001 | -3, 1001 | NA |\n",
       "| 30 | 1353653 |    1 | 1001 |   NA | 1, 1001 | NA |\n",
       "| 31 | 1357544 |    6 |   -3 |   NA | 6, -3 | NA |\n",
       "| 32 | 1404631 | 1002 |   NA | 1001 | 1002, 1001 | NA |\n",
       "| 33 | 1405332 |    1 | 1001 | 1001 | 1, 1001, 1001 | NA |\n",
       "| 34 | 1411280 | 1003 | 1001 |   NA | 1003, 1001 | NA |\n",
       "| 35 | 1449162 |    6 |   -3 |   NA | 6, -3 | NA |\n",
       "| 36 | 1450255 | 4002 |    6 |   NA | 4002, 6 | NA |\n",
       "| 37 | 1450642 | 1002 |   NA | 1001 | 1002, 1001 | NA |\n",
       "| 38 | 1462802 | 1002 |   NA | 1001 | 1002, 1001 | NA |\n",
       "| 39 | 1466621 | 2002 | 2002 |   -1 | 2002, 2002, -1 | NA |\n",
       "| 40 | 1468053 | 1001 | 1002 | 1001 | 1001, 1002, 1001 | NA |\n",
       "| 41 | 1477612 |   -3 |   NA | 1001 | -3, 1001 | NA |\n",
       "| 42 | 1481227 | 1002 | 1001 | 1002 | 1002, 1001, 1002 | NA |\n",
       "| 43 | 1485418 | 2001 | 2004 |   NA | 2001, 2004 | NA |\n",
       "| 44 | 1498887 | 1001 |   NA | 1003 | 1001, 1003 | NA |\n",
       "| 45 | 1507446 | 1003 | 1001 |   NA | 1003, 1001 | NA |\n",
       "| 46 | 1507823 | 1002 | 1001 |   NA | 1002, 1001 | NA |\n",
       "| 47 | 1517989 | 1003 | 1001 |   NA | 1003, 1001 | NA |\n",
       "| 48 | 1531437 | 1002 | 1001 |   NA | 1002, 1001 | NA |\n",
       "| 49 | 1542717 | 2003 |   NA |    2 | 2003, 2 | NA |\n",
       "| 50 | 1548875 | 1001 |   NA | 1003 | 1001, 1003 | NA |\n",
       "\n"
      ],
      "text/plain": [
       "   IID     f.21000.0.0 f.21000.1.0 f.21000.2.0 visit            new_ethnicity\n",
       "1  1007061 1002          NA        1001        1002, 1001       NA           \n",
       "2  1057984   -3          NA        1001        -3, 1001         NA           \n",
       "3  1059988 1001        1002        1001        1001, 1002, 1001 NA           \n",
       "4  1077383 1001        1002          NA        1001, 1002       NA           \n",
       "5  1108028 1001        1002          NA        1001, 1002       NA           \n",
       "6  1109575 1001          NA           6        1001, 6          NA           \n",
       "7  1110004 1001          -3          NA        1001, -3         NA           \n",
       "8  1111668 1003        1001          NA        1003, 1001       NA           \n",
       "9  1133245 1003        1001          NA        1003, 1001       NA           \n",
       "10 1139512 1001        1003        1001        1001, 1003, 1001 NA           \n",
       "11 1147612 1002          NA        1001        1002, 1001       NA           \n",
       "12 1177069 1001          NA        1003        1001, 1003       NA           \n",
       "13 1184372 3001        3002          NA        3001, 3002       NA           \n",
       "14 1187923 1001        1003          NA        1001, 1003       NA           \n",
       "15 1191120 2002        2002        2004        2002, 2002, 2004 NA           \n",
       "16 1194419    6        1001          NA        6, 1001          NA           \n",
       "17 1198980 1003          NA           6        1003, 6          NA           \n",
       "18 1222336 1003          NA        1001        1003, 1001       NA           \n",
       "19 1254019 1001          NA          -3        1001, -3         NA           \n",
       "20 1255856 1001        1003        1001        1001, 1003, 1001 NA           \n",
       "21 1260535 1001        1003        1001        1001, 1003, 1001 NA           \n",
       "22 1274597 1003        1001        1003        1003, 1001, 1003 NA           \n",
       "23 1289547 1001        1002        1001        1001, 1002, 1001 NA           \n",
       "24 1293966 1003          NA        1001        1003, 1001       NA           \n",
       "25 1298050 4003          NA        2002        4003, 2002       NA           \n",
       "26 1312632 1001          -3          NA        1001, -3         NA           \n",
       "27 1328519 4002          -3          NA        4002, -3         NA           \n",
       "28 1335239 1003          NA        1001        1003, 1001       NA           \n",
       "29 1349714   -3          NA        1001        -3, 1001         NA           \n",
       "30 1353653    1        1001          NA        1, 1001          NA           \n",
       "31 1357544    6          -3          NA        6, -3            NA           \n",
       "32 1404631 1002          NA        1001        1002, 1001       NA           \n",
       "33 1405332    1        1001        1001        1, 1001, 1001    NA           \n",
       "34 1411280 1003        1001          NA        1003, 1001       NA           \n",
       "35 1449162    6          -3          NA        6, -3            NA           \n",
       "36 1450255 4002           6          NA        4002, 6          NA           \n",
       "37 1450642 1002          NA        1001        1002, 1001       NA           \n",
       "38 1462802 1002          NA        1001        1002, 1001       NA           \n",
       "39 1466621 2002        2002          -1        2002, 2002, -1   NA           \n",
       "40 1468053 1001        1002        1001        1001, 1002, 1001 NA           \n",
       "41 1477612   -3          NA        1001        -3, 1001         NA           \n",
       "42 1481227 1002        1001        1002        1002, 1001, 1002 NA           \n",
       "43 1485418 2001        2004          NA        2001, 2004       NA           \n",
       "44 1498887 1001          NA        1003        1001, 1003       NA           \n",
       "45 1507446 1003        1001          NA        1003, 1001       NA           \n",
       "46 1507823 1002        1001          NA        1002, 1001       NA           \n",
       "47 1517989 1003        1001          NA        1003, 1001       NA           \n",
       "48 1531437 1002        1001          NA        1002, 1001       NA           \n",
       "49 1542717 2003          NA           2        2003, 2          NA           \n",
       "50 1548875 1001          NA        1003        1001, 1003       NA           "
      ]
     },
     "metadata": {},
     "output_type": "display_data"
    },
    {
     "data": {
      "text/html": [
       "554"
      ],
      "text/latex": [
       "554"
      ],
      "text/markdown": [
       "554"
      ],
      "text/plain": [
       "[1] 554"
      ]
     },
     "metadata": {},
     "output_type": "display_data"
    }
   ],
   "source": [
    "head(ethnicity_isNA, 50)\n",
    "nrow(ethnicity_isNA)"
   ]
  },
  {
   "cell_type": "code",
   "execution_count": null,
   "metadata": {
    "kernel": "R"
   },
   "outputs": [],
   "source": []
  },
  {
   "cell_type": "code",
   "execution_count": 8,
   "metadata": {
    "kernel": "R"
   },
   "outputs": [
    {
     "data": {
      "text/html": [
       "<style>\n",
       ".list-inline {list-style: none; margin:0; padding: 0}\n",
       ".list-inline>li {display: inline-block}\n",
       ".list-inline>li:not(:last-child)::after {content: \"\\00b7\"; padding: 0 .5ex}\n",
       "</style>\n",
       "<ol class=list-inline><li>200631</li><li>6613</li></ol>\n"
      ],
      "text/latex": [
       "\\begin{enumerate*}\n",
       "\\item 200631\n",
       "\\item 6613\n",
       "\\end{enumerate*}\n"
      ],
      "text/markdown": [
       "1. 200631\n",
       "2. 6613\n",
       "\n",
       "\n"
      ],
      "text/plain": [
       "[1] 200631   6613"
      ]
     },
     "metadata": {},
     "output_type": "display_data"
    }
   ],
   "source": [
    "dim(exomed_ind)"
   ]
  },
  {
   "cell_type": "code",
   "execution_count": 20,
   "metadata": {
    "kernel": "R"
   },
   "outputs": [
    {
     "data": {
      "text/html": [
       "<table>\n",
       "<caption>A data.frame: 20 × 45</caption>\n",
       "<thead>\n",
       "\t<tr><th></th><th scope=col>f.22009.0.1</th><th scope=col>f.22009.0.2</th><th scope=col>f.22009.0.3</th><th scope=col>f.22009.0.4</th><th scope=col>f.22009.0.5</th><th scope=col>f.22009.0.6</th><th scope=col>f.22009.0.7</th><th scope=col>f.22009.0.8</th><th scope=col>f.22009.0.9</th><th scope=col>f.22009.0.10</th><th scope=col>⋯</th><th scope=col>f.22009.0.36</th><th scope=col>f.22009.0.37</th><th scope=col>f.22009.0.38</th><th scope=col>f.22009.0.39</th><th scope=col>f.22009.0.40</th><th scope=col>f.22006.0.0</th><th scope=col>f.21000.0.0</th><th scope=col>f.21000.1.0</th><th scope=col>f.21000.2.0</th><th scope=col>ethnicity</th></tr>\n",
       "\t<tr><th></th><th scope=col>&lt;dbl&gt;</th><th scope=col>&lt;dbl&gt;</th><th scope=col>&lt;dbl&gt;</th><th scope=col>&lt;dbl&gt;</th><th scope=col>&lt;dbl&gt;</th><th scope=col>&lt;dbl&gt;</th><th scope=col>&lt;dbl&gt;</th><th scope=col>&lt;dbl&gt;</th><th scope=col>&lt;dbl&gt;</th><th scope=col>&lt;dbl&gt;</th><th scope=col>⋯</th><th scope=col>&lt;dbl&gt;</th><th scope=col>&lt;dbl&gt;</th><th scope=col>&lt;dbl&gt;</th><th scope=col>&lt;dbl&gt;</th><th scope=col>&lt;dbl&gt;</th><th scope=col>&lt;int&gt;</th><th scope=col>&lt;int&gt;</th><th scope=col>&lt;int&gt;</th><th scope=col>&lt;int&gt;</th><th scope=col>&lt;chr&gt;</th></tr>\n",
       "</thead>\n",
       "<tbody>\n",
       "\t<tr><th scope=row>1</th><td>-12.20530</td><td> 4.761740</td><td>-4.255700</td><td>  3.4043800</td><td>-0.658608</td><td> 0.78226000</td><td> 2.468750</td><td> 0.870685</td><td>-8.793110</td><td>-3.1999600</td><td>⋯</td><td> 3.413450</td><td>-3.65638000</td><td>-0.146136</td><td>-1.748080</td><td> 0.0766507</td><td> 1</td><td>1001</td><td>  NA</td><td>  NA</td><td>British                   </td></tr>\n",
       "\t<tr><th scope=row>2</th><td>-15.27530</td><td> 1.349750</td><td>-2.993610</td><td>  8.3950200</td><td>17.040800</td><td> 1.70257000</td><td>-1.474340</td><td> 0.977063</td><td> 4.291650</td><td>-1.3963400</td><td>⋯</td><td> 1.297700</td><td>-1.60734000</td><td> 1.774000</td><td>-2.626690</td><td> 1.6079300</td><td> 1</td><td>1001</td><td>  NA</td><td>  NA</td><td>British                   </td></tr>\n",
       "\t<tr><th scope=row>3</th><td>-14.57510</td><td> 1.273820</td><td>-0.340971</td><td>  2.3926800</td><td>-6.357220</td><td>-1.90924000</td><td>-1.600680</td><td>-1.232460</td><td> 3.727050</td><td> 1.1607600</td><td>⋯</td><td>-0.156930</td><td> 1.41995000</td><td> 3.883190</td><td>-1.411200</td><td> 3.9230900</td><td> 1</td><td>1001</td><td>1001</td><td>1001</td><td>British                   </td></tr>\n",
       "\t<tr><th scope=row>4</th><td> 24.35170</td><td>-4.644310</td><td>24.033900</td><td>-56.1452000</td><td> 0.190955</td><td> 3.15749000</td><td>27.519800</td><td>14.322100</td><td> 1.408310</td><td>-6.3385700</td><td>⋯</td><td>-2.511610</td><td> 0.00500915</td><td> 1.827430</td><td>-1.563660</td><td> 0.4964910</td><td>NA</td><td>1001</td><td>  NA</td><td>  NA</td><td>British                   </td></tr>\n",
       "\t<tr><th scope=row>5</th><td>-15.78040</td><td> 3.962180</td><td>-1.457960</td><td>  5.2719400</td><td> 9.916450</td><td> 4.23839000</td><td>-0.722502</td><td>-1.284130</td><td> 0.322347</td><td> 0.1692190</td><td>⋯</td><td> 2.831490</td><td>-1.05011000</td><td> 2.835350</td><td>-1.409780</td><td> 0.3667280</td><td> 1</td><td>1001</td><td>  NA</td><td>  NA</td><td>British                   </td></tr>\n",
       "\t<tr><th scope=row>6</th><td>-12.56780</td><td> 6.088840</td><td>-2.566460</td><td>  2.9077400</td><td> 2.502850</td><td> 0.10934700</td><td> 0.326844</td><td> 1.261680</td><td> 3.922510</td><td>-2.5773800</td><td>⋯</td><td> 0.659752</td><td>-2.89490000</td><td>-0.507303</td><td>-1.371300</td><td> 0.5078900</td><td> 1</td><td>1001</td><td>  NA</td><td>  NA</td><td>British                   </td></tr>\n",
       "\t<tr><th scope=row>7</th><td>-12.55110</td><td> 2.150950</td><td>-3.043000</td><td>  1.4999500</td><td> 5.775890</td><td> 1.18588000</td><td> 0.545663</td><td> 1.865930</td><td> 1.835150</td><td>-4.5444600</td><td>⋯</td><td> 0.913506</td><td>-2.10550000</td><td>-1.862260</td><td>-0.127049</td><td>-0.6747940</td><td> 1</td><td>1001</td><td>  NA</td><td>  NA</td><td>British                   </td></tr>\n",
       "\t<tr><th scope=row>8</th><td>-12.87260</td><td> 1.699260</td><td> 0.921848</td><td> -0.5668110</td><td>-8.891500</td><td> 3.32152000</td><td>-6.305480</td><td> 6.955560</td><td> 0.995671</td><td> 0.4382940</td><td>⋯</td><td> 1.429630</td><td>-0.75117800</td><td> 4.445330</td><td>-0.584504</td><td>-0.7488080</td><td> 1</td><td>1001</td><td>  NA</td><td>  NA</td><td>British                   </td></tr>\n",
       "\t<tr><th scope=row>9</th><td>-10.13260</td><td> 4.426480</td><td>-2.594010</td><td>  3.8819100</td><td> 0.707248</td><td> 0.07102270</td><td>-1.011700</td><td>-2.050420</td><td>-1.547130</td><td> 0.3264850</td><td>⋯</td><td> 3.218210</td><td>-1.33985000</td><td>-2.037830</td><td> 3.560450</td><td> 4.6788000</td><td> 1</td><td>1001</td><td>  NA</td><td>  NA</td><td>British                   </td></tr>\n",
       "\t<tr><th scope=row>10</th><td>-14.25820</td><td> 4.708510</td><td>-0.664848</td><td>  9.9000300</td><td>17.904900</td><td>-0.89391600</td><td> 3.590440</td><td> 1.551800</td><td> 4.418370</td><td>-0.7560430</td><td>⋯</td><td> 1.377200</td><td>-1.96706000</td><td> 3.556060</td><td>-0.462569</td><td> 3.2768200</td><td>NA</td><td>   6</td><td>  NA</td><td>  NA</td><td>                          </td></tr>\n",
       "\t<tr><th scope=row>11</th><td>-11.62970</td><td> 4.224330</td><td>-3.877780</td><td> -0.8684200</td><td>-2.337880</td><td> 0.10116500</td><td>-0.795938</td><td>-3.290010</td><td> 3.920540</td><td>-1.6213700</td><td>⋯</td><td> 2.061700</td><td>-1.02391000</td><td> 1.218490</td><td> 0.885614</td><td> 1.1038100</td><td> 1</td><td>1001</td><td>  NA</td><td>  NA</td><td>British                   </td></tr>\n",
       "\t<tr><th scope=row>12</th><td>-13.90700</td><td> 3.315890</td><td>-2.833470</td><td>  8.8485900</td><td>26.642600</td><td>-1.74403000</td><td> 0.558426</td><td> 0.736647</td><td> 2.467310</td><td>-2.2922100</td><td>⋯</td><td>-3.539050</td><td> 1.62472000</td><td> 0.880039</td><td> 4.926350</td><td> 3.8043300</td><td>NA</td><td>1001</td><td>  NA</td><td>  NA</td><td>British                   </td></tr>\n",
       "\t<tr><th scope=row>13</th><td>  6.20988</td><td>-5.638200</td><td>17.310600</td><td>-41.2607000</td><td>-1.559130</td><td> 8.11047000</td><td> 5.843850</td><td>22.900900</td><td>-1.195220</td><td>-4.0656800</td><td>⋯</td><td> 2.994390</td><td> 1.28045000</td><td>-0.566019</td><td> 3.169100</td><td>-0.1205420</td><td>NA</td><td>1003</td><td>  NA</td><td>  NA</td><td>Any other white background</td></tr>\n",
       "\t<tr><th scope=row>14</th><td>-13.25710</td><td> 6.185500</td><td> 0.429938</td><td>  3.2404700</td><td>-3.358070</td><td>-0.88543700</td><td> 0.912688</td><td>-1.061150</td><td>-2.384460</td><td> 4.9200900</td><td>⋯</td><td>-4.971920</td><td> 0.66534600</td><td> 6.426830</td><td> 5.727590</td><td> 1.4515300</td><td> 1</td><td>1001</td><td>  NA</td><td>  NA</td><td>British                   </td></tr>\n",
       "\t<tr><th scope=row>15</th><td>-12.58240</td><td> 4.460010</td><td>-2.717810</td><td> -1.7916800</td><td> 1.444630</td><td>-1.88650000</td><td>-0.850581</td><td>-1.552970</td><td>-5.340680</td><td> 4.0038300</td><td>⋯</td><td> 0.311058</td><td>-0.13436200</td><td> 0.417465</td><td>-4.813060</td><td> 1.1648500</td><td> 1</td><td>1001</td><td>  NA</td><td>  NA</td><td>British                   </td></tr>\n",
       "\t<tr><th scope=row>16</th><td>-12.93460</td><td> 6.250410</td><td>-3.747710</td><td>  9.0021600</td><td>18.642100</td><td>-0.00472066</td><td>-1.524110</td><td> 3.600950</td><td> 4.676430</td><td>-4.8154300</td><td>⋯</td><td> 2.480090</td><td> 2.29073000</td><td>-0.412370</td><td>-5.195330</td><td>-1.6749500</td><td> 1</td><td>1001</td><td>  NA</td><td>  NA</td><td>British                   </td></tr>\n",
       "\t<tr><th scope=row>17</th><td>-12.63980</td><td> 0.352705</td><td> 0.763495</td><td> 10.0018000</td><td>25.769000</td><td> 1.33185000</td><td>-2.620680</td><td> 1.378710</td><td> 1.914020</td><td>-2.0445700</td><td>⋯</td><td>-1.546960</td><td> 3.86521000</td><td> 3.965110</td><td> 3.198750</td><td> 0.8250830</td><td>NA</td><td>1002</td><td>  NA</td><td>  NA</td><td>Irish                     </td></tr>\n",
       "\t<tr><th scope=row>18</th><td>-14.80570</td><td> 2.905950</td><td>-1.665110</td><td> -0.0812029</td><td>10.364200</td><td>-0.41135100</td><td> 1.257890</td><td> 0.192485</td><td> 1.812310</td><td> 0.0845229</td><td>⋯</td><td>-2.356280</td><td> 0.19087600</td><td>-3.627000</td><td>-2.369930</td><td> 2.1838400</td><td> 1</td><td>1001</td><td>  NA</td><td>  NA</td><td>British                   </td></tr>\n",
       "\t<tr><th scope=row>19</th><td>-13.02910</td><td> 3.171150</td><td>-2.781750</td><td>  1.5160400</td><td>-5.033900</td><td> 0.09788900</td><td> 1.203310</td><td> 2.295820</td><td>-4.248700</td><td>-1.9440200</td><td>⋯</td><td>-3.489400</td><td> 2.39087000</td><td>-0.075963</td><td> 1.232650</td><td> 1.2099000</td><td> 1</td><td>1001</td><td>  NA</td><td>  NA</td><td>British                   </td></tr>\n",
       "\t<tr><th scope=row>20</th><td>-12.01180</td><td> 4.241980</td><td>-2.218850</td><td> -2.4774000</td><td>-6.606600</td><td> 0.33291900</td><td> 2.183560</td><td>-3.955430</td><td>-4.346580</td><td> 2.6329300</td><td>⋯</td><td>-0.717328</td><td> 4.28775000</td><td>-1.549070</td><td>-1.239290</td><td> 2.0906800</td><td> 1</td><td>1001</td><td>  NA</td><td>1001</td><td>British                   </td></tr>\n",
       "</tbody>\n",
       "</table>\n"
      ],
      "text/latex": [
       "A data.frame: 20 × 45\n",
       "\\begin{tabular}{r|lllllllllllllllllllll}\n",
       "  & f.22009.0.1 & f.22009.0.2 & f.22009.0.3 & f.22009.0.4 & f.22009.0.5 & f.22009.0.6 & f.22009.0.7 & f.22009.0.8 & f.22009.0.9 & f.22009.0.10 & ⋯ & f.22009.0.36 & f.22009.0.37 & f.22009.0.38 & f.22009.0.39 & f.22009.0.40 & f.22006.0.0 & f.21000.0.0 & f.21000.1.0 & f.21000.2.0 & ethnicity\\\\\n",
       "  & <dbl> & <dbl> & <dbl> & <dbl> & <dbl> & <dbl> & <dbl> & <dbl> & <dbl> & <dbl> & ⋯ & <dbl> & <dbl> & <dbl> & <dbl> & <dbl> & <int> & <int> & <int> & <int> & <chr>\\\\\n",
       "\\hline\n",
       "\t1 & -12.20530 &  4.761740 & -4.255700 &   3.4043800 & -0.658608 &  0.78226000 &  2.468750 &  0.870685 & -8.793110 & -3.1999600 & ⋯ &  3.413450 & -3.65638000 & -0.146136 & -1.748080 &  0.0766507 &  1 & 1001 &   NA &   NA & British                   \\\\\n",
       "\t2 & -15.27530 &  1.349750 & -2.993610 &   8.3950200 & 17.040800 &  1.70257000 & -1.474340 &  0.977063 &  4.291650 & -1.3963400 & ⋯ &  1.297700 & -1.60734000 &  1.774000 & -2.626690 &  1.6079300 &  1 & 1001 &   NA &   NA & British                   \\\\\n",
       "\t3 & -14.57510 &  1.273820 & -0.340971 &   2.3926800 & -6.357220 & -1.90924000 & -1.600680 & -1.232460 &  3.727050 &  1.1607600 & ⋯ & -0.156930 &  1.41995000 &  3.883190 & -1.411200 &  3.9230900 &  1 & 1001 & 1001 & 1001 & British                   \\\\\n",
       "\t4 &  24.35170 & -4.644310 & 24.033900 & -56.1452000 &  0.190955 &  3.15749000 & 27.519800 & 14.322100 &  1.408310 & -6.3385700 & ⋯ & -2.511610 &  0.00500915 &  1.827430 & -1.563660 &  0.4964910 & NA & 1001 &   NA &   NA & British                   \\\\\n",
       "\t5 & -15.78040 &  3.962180 & -1.457960 &   5.2719400 &  9.916450 &  4.23839000 & -0.722502 & -1.284130 &  0.322347 &  0.1692190 & ⋯ &  2.831490 & -1.05011000 &  2.835350 & -1.409780 &  0.3667280 &  1 & 1001 &   NA &   NA & British                   \\\\\n",
       "\t6 & -12.56780 &  6.088840 & -2.566460 &   2.9077400 &  2.502850 &  0.10934700 &  0.326844 &  1.261680 &  3.922510 & -2.5773800 & ⋯ &  0.659752 & -2.89490000 & -0.507303 & -1.371300 &  0.5078900 &  1 & 1001 &   NA &   NA & British                   \\\\\n",
       "\t7 & -12.55110 &  2.150950 & -3.043000 &   1.4999500 &  5.775890 &  1.18588000 &  0.545663 &  1.865930 &  1.835150 & -4.5444600 & ⋯ &  0.913506 & -2.10550000 & -1.862260 & -0.127049 & -0.6747940 &  1 & 1001 &   NA &   NA & British                   \\\\\n",
       "\t8 & -12.87260 &  1.699260 &  0.921848 &  -0.5668110 & -8.891500 &  3.32152000 & -6.305480 &  6.955560 &  0.995671 &  0.4382940 & ⋯ &  1.429630 & -0.75117800 &  4.445330 & -0.584504 & -0.7488080 &  1 & 1001 &   NA &   NA & British                   \\\\\n",
       "\t9 & -10.13260 &  4.426480 & -2.594010 &   3.8819100 &  0.707248 &  0.07102270 & -1.011700 & -2.050420 & -1.547130 &  0.3264850 & ⋯ &  3.218210 & -1.33985000 & -2.037830 &  3.560450 &  4.6788000 &  1 & 1001 &   NA &   NA & British                   \\\\\n",
       "\t10 & -14.25820 &  4.708510 & -0.664848 &   9.9000300 & 17.904900 & -0.89391600 &  3.590440 &  1.551800 &  4.418370 & -0.7560430 & ⋯ &  1.377200 & -1.96706000 &  3.556060 & -0.462569 &  3.2768200 & NA &    6 &   NA &   NA &                           \\\\\n",
       "\t11 & -11.62970 &  4.224330 & -3.877780 &  -0.8684200 & -2.337880 &  0.10116500 & -0.795938 & -3.290010 &  3.920540 & -1.6213700 & ⋯ &  2.061700 & -1.02391000 &  1.218490 &  0.885614 &  1.1038100 &  1 & 1001 &   NA &   NA & British                   \\\\\n",
       "\t12 & -13.90700 &  3.315890 & -2.833470 &   8.8485900 & 26.642600 & -1.74403000 &  0.558426 &  0.736647 &  2.467310 & -2.2922100 & ⋯ & -3.539050 &  1.62472000 &  0.880039 &  4.926350 &  3.8043300 & NA & 1001 &   NA &   NA & British                   \\\\\n",
       "\t13 &   6.20988 & -5.638200 & 17.310600 & -41.2607000 & -1.559130 &  8.11047000 &  5.843850 & 22.900900 & -1.195220 & -4.0656800 & ⋯ &  2.994390 &  1.28045000 & -0.566019 &  3.169100 & -0.1205420 & NA & 1003 &   NA &   NA & Any other white background\\\\\n",
       "\t14 & -13.25710 &  6.185500 &  0.429938 &   3.2404700 & -3.358070 & -0.88543700 &  0.912688 & -1.061150 & -2.384460 &  4.9200900 & ⋯ & -4.971920 &  0.66534600 &  6.426830 &  5.727590 &  1.4515300 &  1 & 1001 &   NA &   NA & British                   \\\\\n",
       "\t15 & -12.58240 &  4.460010 & -2.717810 &  -1.7916800 &  1.444630 & -1.88650000 & -0.850581 & -1.552970 & -5.340680 &  4.0038300 & ⋯ &  0.311058 & -0.13436200 &  0.417465 & -4.813060 &  1.1648500 &  1 & 1001 &   NA &   NA & British                   \\\\\n",
       "\t16 & -12.93460 &  6.250410 & -3.747710 &   9.0021600 & 18.642100 & -0.00472066 & -1.524110 &  3.600950 &  4.676430 & -4.8154300 & ⋯ &  2.480090 &  2.29073000 & -0.412370 & -5.195330 & -1.6749500 &  1 & 1001 &   NA &   NA & British                   \\\\\n",
       "\t17 & -12.63980 &  0.352705 &  0.763495 &  10.0018000 & 25.769000 &  1.33185000 & -2.620680 &  1.378710 &  1.914020 & -2.0445700 & ⋯ & -1.546960 &  3.86521000 &  3.965110 &  3.198750 &  0.8250830 & NA & 1002 &   NA &   NA & Irish                     \\\\\n",
       "\t18 & -14.80570 &  2.905950 & -1.665110 &  -0.0812029 & 10.364200 & -0.41135100 &  1.257890 &  0.192485 &  1.812310 &  0.0845229 & ⋯ & -2.356280 &  0.19087600 & -3.627000 & -2.369930 &  2.1838400 &  1 & 1001 &   NA &   NA & British                   \\\\\n",
       "\t19 & -13.02910 &  3.171150 & -2.781750 &   1.5160400 & -5.033900 &  0.09788900 &  1.203310 &  2.295820 & -4.248700 & -1.9440200 & ⋯ & -3.489400 &  2.39087000 & -0.075963 &  1.232650 &  1.2099000 &  1 & 1001 &   NA &   NA & British                   \\\\\n",
       "\t20 & -12.01180 &  4.241980 & -2.218850 &  -2.4774000 & -6.606600 &  0.33291900 &  2.183560 & -3.955430 & -4.346580 &  2.6329300 & ⋯ & -0.717328 &  4.28775000 & -1.549070 & -1.239290 &  2.0906800 &  1 & 1001 &   NA & 1001 & British                   \\\\\n",
       "\\end{tabular}\n"
      ],
      "text/markdown": [
       "\n",
       "A data.frame: 20 × 45\n",
       "\n",
       "| <!--/--> | f.22009.0.1 &lt;dbl&gt; | f.22009.0.2 &lt;dbl&gt; | f.22009.0.3 &lt;dbl&gt; | f.22009.0.4 &lt;dbl&gt; | f.22009.0.5 &lt;dbl&gt; | f.22009.0.6 &lt;dbl&gt; | f.22009.0.7 &lt;dbl&gt; | f.22009.0.8 &lt;dbl&gt; | f.22009.0.9 &lt;dbl&gt; | f.22009.0.10 &lt;dbl&gt; | ⋯ ⋯ | f.22009.0.36 &lt;dbl&gt; | f.22009.0.37 &lt;dbl&gt; | f.22009.0.38 &lt;dbl&gt; | f.22009.0.39 &lt;dbl&gt; | f.22009.0.40 &lt;dbl&gt; | f.22006.0.0 &lt;int&gt; | f.21000.0.0 &lt;int&gt; | f.21000.1.0 &lt;int&gt; | f.21000.2.0 &lt;int&gt; | ethnicity &lt;chr&gt; |\n",
       "|---|---|---|---|---|---|---|---|---|---|---|---|---|---|---|---|---|---|---|---|---|---|\n",
       "| 1 | -12.20530 |  4.761740 | -4.255700 |   3.4043800 | -0.658608 |  0.78226000 |  2.468750 |  0.870685 | -8.793110 | -3.1999600 | ⋯ |  3.413450 | -3.65638000 | -0.146136 | -1.748080 |  0.0766507 |  1 | 1001 |   NA |   NA | British                    |\n",
       "| 2 | -15.27530 |  1.349750 | -2.993610 |   8.3950200 | 17.040800 |  1.70257000 | -1.474340 |  0.977063 |  4.291650 | -1.3963400 | ⋯ |  1.297700 | -1.60734000 |  1.774000 | -2.626690 |  1.6079300 |  1 | 1001 |   NA |   NA | British                    |\n",
       "| 3 | -14.57510 |  1.273820 | -0.340971 |   2.3926800 | -6.357220 | -1.90924000 | -1.600680 | -1.232460 |  3.727050 |  1.1607600 | ⋯ | -0.156930 |  1.41995000 |  3.883190 | -1.411200 |  3.9230900 |  1 | 1001 | 1001 | 1001 | British                    |\n",
       "| 4 |  24.35170 | -4.644310 | 24.033900 | -56.1452000 |  0.190955 |  3.15749000 | 27.519800 | 14.322100 |  1.408310 | -6.3385700 | ⋯ | -2.511610 |  0.00500915 |  1.827430 | -1.563660 |  0.4964910 | NA | 1001 |   NA |   NA | British                    |\n",
       "| 5 | -15.78040 |  3.962180 | -1.457960 |   5.2719400 |  9.916450 |  4.23839000 | -0.722502 | -1.284130 |  0.322347 |  0.1692190 | ⋯ |  2.831490 | -1.05011000 |  2.835350 | -1.409780 |  0.3667280 |  1 | 1001 |   NA |   NA | British                    |\n",
       "| 6 | -12.56780 |  6.088840 | -2.566460 |   2.9077400 |  2.502850 |  0.10934700 |  0.326844 |  1.261680 |  3.922510 | -2.5773800 | ⋯ |  0.659752 | -2.89490000 | -0.507303 | -1.371300 |  0.5078900 |  1 | 1001 |   NA |   NA | British                    |\n",
       "| 7 | -12.55110 |  2.150950 | -3.043000 |   1.4999500 |  5.775890 |  1.18588000 |  0.545663 |  1.865930 |  1.835150 | -4.5444600 | ⋯ |  0.913506 | -2.10550000 | -1.862260 | -0.127049 | -0.6747940 |  1 | 1001 |   NA |   NA | British                    |\n",
       "| 8 | -12.87260 |  1.699260 |  0.921848 |  -0.5668110 | -8.891500 |  3.32152000 | -6.305480 |  6.955560 |  0.995671 |  0.4382940 | ⋯ |  1.429630 | -0.75117800 |  4.445330 | -0.584504 | -0.7488080 |  1 | 1001 |   NA |   NA | British                    |\n",
       "| 9 | -10.13260 |  4.426480 | -2.594010 |   3.8819100 |  0.707248 |  0.07102270 | -1.011700 | -2.050420 | -1.547130 |  0.3264850 | ⋯ |  3.218210 | -1.33985000 | -2.037830 |  3.560450 |  4.6788000 |  1 | 1001 |   NA |   NA | British                    |\n",
       "| 10 | -14.25820 |  4.708510 | -0.664848 |   9.9000300 | 17.904900 | -0.89391600 |  3.590440 |  1.551800 |  4.418370 | -0.7560430 | ⋯ |  1.377200 | -1.96706000 |  3.556060 | -0.462569 |  3.2768200 | NA |    6 |   NA |   NA | <!----> |\n",
       "| 11 | -11.62970 |  4.224330 | -3.877780 |  -0.8684200 | -2.337880 |  0.10116500 | -0.795938 | -3.290010 |  3.920540 | -1.6213700 | ⋯ |  2.061700 | -1.02391000 |  1.218490 |  0.885614 |  1.1038100 |  1 | 1001 |   NA |   NA | British                    |\n",
       "| 12 | -13.90700 |  3.315890 | -2.833470 |   8.8485900 | 26.642600 | -1.74403000 |  0.558426 |  0.736647 |  2.467310 | -2.2922100 | ⋯ | -3.539050 |  1.62472000 |  0.880039 |  4.926350 |  3.8043300 | NA | 1001 |   NA |   NA | British                    |\n",
       "| 13 |   6.20988 | -5.638200 | 17.310600 | -41.2607000 | -1.559130 |  8.11047000 |  5.843850 | 22.900900 | -1.195220 | -4.0656800 | ⋯ |  2.994390 |  1.28045000 | -0.566019 |  3.169100 | -0.1205420 | NA | 1003 |   NA |   NA | Any other white background |\n",
       "| 14 | -13.25710 |  6.185500 |  0.429938 |   3.2404700 | -3.358070 | -0.88543700 |  0.912688 | -1.061150 | -2.384460 |  4.9200900 | ⋯ | -4.971920 |  0.66534600 |  6.426830 |  5.727590 |  1.4515300 |  1 | 1001 |   NA |   NA | British                    |\n",
       "| 15 | -12.58240 |  4.460010 | -2.717810 |  -1.7916800 |  1.444630 | -1.88650000 | -0.850581 | -1.552970 | -5.340680 |  4.0038300 | ⋯ |  0.311058 | -0.13436200 |  0.417465 | -4.813060 |  1.1648500 |  1 | 1001 |   NA |   NA | British                    |\n",
       "| 16 | -12.93460 |  6.250410 | -3.747710 |   9.0021600 | 18.642100 | -0.00472066 | -1.524110 |  3.600950 |  4.676430 | -4.8154300 | ⋯ |  2.480090 |  2.29073000 | -0.412370 | -5.195330 | -1.6749500 |  1 | 1001 |   NA |   NA | British                    |\n",
       "| 17 | -12.63980 |  0.352705 |  0.763495 |  10.0018000 | 25.769000 |  1.33185000 | -2.620680 |  1.378710 |  1.914020 | -2.0445700 | ⋯ | -1.546960 |  3.86521000 |  3.965110 |  3.198750 |  0.8250830 | NA | 1002 |   NA |   NA | Irish                      |\n",
       "| 18 | -14.80570 |  2.905950 | -1.665110 |  -0.0812029 | 10.364200 | -0.41135100 |  1.257890 |  0.192485 |  1.812310 |  0.0845229 | ⋯ | -2.356280 |  0.19087600 | -3.627000 | -2.369930 |  2.1838400 |  1 | 1001 |   NA |   NA | British                    |\n",
       "| 19 | -13.02910 |  3.171150 | -2.781750 |   1.5160400 | -5.033900 |  0.09788900 |  1.203310 |  2.295820 | -4.248700 | -1.9440200 | ⋯ | -3.489400 |  2.39087000 | -0.075963 |  1.232650 |  1.2099000 |  1 | 1001 |   NA |   NA | British                    |\n",
       "| 20 | -12.01180 |  4.241980 | -2.218850 |  -2.4774000 | -6.606600 |  0.33291900 |  2.183560 | -3.955430 | -4.346580 |  2.6329300 | ⋯ | -0.717328 |  4.28775000 | -1.549070 | -1.239290 |  2.0906800 |  1 | 1001 |   NA | 1001 | British                    |\n",
       "\n"
      ],
      "text/plain": [
       "   f.22009.0.1 f.22009.0.2 f.22009.0.3 f.22009.0.4 f.22009.0.5 f.22009.0.6\n",
       "1  -12.20530    4.761740   -4.255700     3.4043800 -0.658608    0.78226000\n",
       "2  -15.27530    1.349750   -2.993610     8.3950200 17.040800    1.70257000\n",
       "3  -14.57510    1.273820   -0.340971     2.3926800 -6.357220   -1.90924000\n",
       "4   24.35170   -4.644310   24.033900   -56.1452000  0.190955    3.15749000\n",
       "5  -15.78040    3.962180   -1.457960     5.2719400  9.916450    4.23839000\n",
       "6  -12.56780    6.088840   -2.566460     2.9077400  2.502850    0.10934700\n",
       "7  -12.55110    2.150950   -3.043000     1.4999500  5.775890    1.18588000\n",
       "8  -12.87260    1.699260    0.921848    -0.5668110 -8.891500    3.32152000\n",
       "9  -10.13260    4.426480   -2.594010     3.8819100  0.707248    0.07102270\n",
       "10 -14.25820    4.708510   -0.664848     9.9000300 17.904900   -0.89391600\n",
       "11 -11.62970    4.224330   -3.877780    -0.8684200 -2.337880    0.10116500\n",
       "12 -13.90700    3.315890   -2.833470     8.8485900 26.642600   -1.74403000\n",
       "13   6.20988   -5.638200   17.310600   -41.2607000 -1.559130    8.11047000\n",
       "14 -13.25710    6.185500    0.429938     3.2404700 -3.358070   -0.88543700\n",
       "15 -12.58240    4.460010   -2.717810    -1.7916800  1.444630   -1.88650000\n",
       "16 -12.93460    6.250410   -3.747710     9.0021600 18.642100   -0.00472066\n",
       "17 -12.63980    0.352705    0.763495    10.0018000 25.769000    1.33185000\n",
       "18 -14.80570    2.905950   -1.665110    -0.0812029 10.364200   -0.41135100\n",
       "19 -13.02910    3.171150   -2.781750     1.5160400 -5.033900    0.09788900\n",
       "20 -12.01180    4.241980   -2.218850    -2.4774000 -6.606600    0.33291900\n",
       "   f.22009.0.7 f.22009.0.8 f.22009.0.9 f.22009.0.10 ⋯ f.22009.0.36 f.22009.0.37\n",
       "1   2.468750    0.870685   -8.793110   -3.1999600   ⋯  3.413450    -3.65638000 \n",
       "2  -1.474340    0.977063    4.291650   -1.3963400   ⋯  1.297700    -1.60734000 \n",
       "3  -1.600680   -1.232460    3.727050    1.1607600   ⋯ -0.156930     1.41995000 \n",
       "4  27.519800   14.322100    1.408310   -6.3385700   ⋯ -2.511610     0.00500915 \n",
       "5  -0.722502   -1.284130    0.322347    0.1692190   ⋯  2.831490    -1.05011000 \n",
       "6   0.326844    1.261680    3.922510   -2.5773800   ⋯  0.659752    -2.89490000 \n",
       "7   0.545663    1.865930    1.835150   -4.5444600   ⋯  0.913506    -2.10550000 \n",
       "8  -6.305480    6.955560    0.995671    0.4382940   ⋯  1.429630    -0.75117800 \n",
       "9  -1.011700   -2.050420   -1.547130    0.3264850   ⋯  3.218210    -1.33985000 \n",
       "10  3.590440    1.551800    4.418370   -0.7560430   ⋯  1.377200    -1.96706000 \n",
       "11 -0.795938   -3.290010    3.920540   -1.6213700   ⋯  2.061700    -1.02391000 \n",
       "12  0.558426    0.736647    2.467310   -2.2922100   ⋯ -3.539050     1.62472000 \n",
       "13  5.843850   22.900900   -1.195220   -4.0656800   ⋯  2.994390     1.28045000 \n",
       "14  0.912688   -1.061150   -2.384460    4.9200900   ⋯ -4.971920     0.66534600 \n",
       "15 -0.850581   -1.552970   -5.340680    4.0038300   ⋯  0.311058    -0.13436200 \n",
       "16 -1.524110    3.600950    4.676430   -4.8154300   ⋯  2.480090     2.29073000 \n",
       "17 -2.620680    1.378710    1.914020   -2.0445700   ⋯ -1.546960     3.86521000 \n",
       "18  1.257890    0.192485    1.812310    0.0845229   ⋯ -2.356280     0.19087600 \n",
       "19  1.203310    2.295820   -4.248700   -1.9440200   ⋯ -3.489400     2.39087000 \n",
       "20  2.183560   -3.955430   -4.346580    2.6329300   ⋯ -0.717328     4.28775000 \n",
       "   f.22009.0.38 f.22009.0.39 f.22009.0.40 f.22006.0.0 f.21000.0.0 f.21000.1.0\n",
       "1  -0.146136    -1.748080     0.0766507    1          1001          NA       \n",
       "2   1.774000    -2.626690     1.6079300    1          1001          NA       \n",
       "3   3.883190    -1.411200     3.9230900    1          1001        1001       \n",
       "4   1.827430    -1.563660     0.4964910   NA          1001          NA       \n",
       "5   2.835350    -1.409780     0.3667280    1          1001          NA       \n",
       "6  -0.507303    -1.371300     0.5078900    1          1001          NA       \n",
       "7  -1.862260    -0.127049    -0.6747940    1          1001          NA       \n",
       "8   4.445330    -0.584504    -0.7488080    1          1001          NA       \n",
       "9  -2.037830     3.560450     4.6788000    1          1001          NA       \n",
       "10  3.556060    -0.462569     3.2768200   NA             6          NA       \n",
       "11  1.218490     0.885614     1.1038100    1          1001          NA       \n",
       "12  0.880039     4.926350     3.8043300   NA          1001          NA       \n",
       "13 -0.566019     3.169100    -0.1205420   NA          1003          NA       \n",
       "14  6.426830     5.727590     1.4515300    1          1001          NA       \n",
       "15  0.417465    -4.813060     1.1648500    1          1001          NA       \n",
       "16 -0.412370    -5.195330    -1.6749500    1          1001          NA       \n",
       "17  3.965110     3.198750     0.8250830   NA          1002          NA       \n",
       "18 -3.627000    -2.369930     2.1838400    1          1001          NA       \n",
       "19 -0.075963     1.232650     1.2099000    1          1001          NA       \n",
       "20 -1.549070    -1.239290     2.0906800    1          1001          NA       \n",
       "   f.21000.2.0 ethnicity                 \n",
       "1    NA        British                   \n",
       "2    NA        British                   \n",
       "3  1001        British                   \n",
       "4    NA        British                   \n",
       "5    NA        British                   \n",
       "6    NA        British                   \n",
       "7    NA        British                   \n",
       "8    NA        British                   \n",
       "9    NA        British                   \n",
       "10   NA                                  \n",
       "11   NA        British                   \n",
       "12   NA        British                   \n",
       "13   NA        Any other white background\n",
       "14   NA        British                   \n",
       "15   NA        British                   \n",
       "16   NA        British                   \n",
       "17   NA        Irish                     \n",
       "18   NA        British                   \n",
       "19   NA        British                   \n",
       "20 1001        British                   "
      ]
     },
     "metadata": {},
     "output_type": "display_data"
    },
    {
     "data": {
      "text/html": [
       "<style>\n",
       ".list-inline {list-style: none; margin:0; padding: 0}\n",
       ".list-inline>li {display: inline-block}\n",
       ".list-inline>li:not(:last-child)::after {content: \"\\00b7\"; padding: 0 .5ex}\n",
       "</style>\n",
       "<ol class=list-inline><li>200631</li><li>45</li></ol>\n"
      ],
      "text/latex": [
       "\\begin{enumerate*}\n",
       "\\item 200631\n",
       "\\item 45\n",
       "\\end{enumerate*}\n"
      ],
      "text/markdown": [
       "1. 200631\n",
       "2. 45\n",
       "\n",
       "\n"
      ],
      "text/plain": [
       "[1] 200631     45"
      ]
     },
     "metadata": {},
     "output_type": "display_data"
    }
   ],
   "source": [
    "cols_pca <- exomed_ind %>% \n",
    "    select(starts_with(\"f.22009\"),\n",
    "           starts_with(\"f.22006\"),\n",
    "          starts_with(\"f.21000\")) %>%\n",
    "    mutate(ethnicity = case_when(\n",
    "         f.21000.0.0 == 1001 ~  \"British\",\n",
    "         f.21000.0.0 == 2001 ~ \"White and Black Caribbean\",\n",
    "         f.21000.0.0 == 3001 ~  \"Indian\",\n",
    "         f.21000.0.0 == 4001 ~ \"Caribbean\",\n",
    "         f.21000.0.0 == 1002 ~ \"Irish\",\n",
    "         f.21000.0.0 == 2002 ~ \"White and Black African\",\n",
    "         f.21000.0.0 == 3002 ~ \"Pakistani\",\n",
    "         f.21000.0.0 == 4002 ~ \"African\",\n",
    "         f.21000.0.0 == 1003 ~ \"Any other white background\",\n",
    "         f.21000.0.0 == 2003 ~ \"White and Asian\",\n",
    "         f.21000.0.0 == 3003 ~ \"Bangladeshi\",\n",
    "         f.21000.0.0 == 4003 ~ \"Any other Black background\",\n",
    "         TRUE  ~ \"\"))\n",
    "head(cols_pca, 20)\n",
    "dim(cols_pca)"
   ]
  },
  {
   "cell_type": "code",
   "execution_count": 10,
   "metadata": {
    "kernel": "R"
   },
   "outputs": [
    {
     "data": {
      "text/html": [
       "167248"
      ],
      "text/latex": [
       "167248"
      ],
      "text/markdown": [
       "167248"
      ],
      "text/plain": [
       "[1] 167248"
      ]
     },
     "metadata": {},
     "output_type": "display_data"
    }
   ],
   "source": [
    "white_brit <- cols_pca %>%\n",
    "        filter(f.22006.0.0==1)\n",
    "nrow(white_brit)"
   ]
  },
  {
   "cell_type": "code",
   "execution_count": 65,
   "metadata": {
    "kernel": "R"
   },
   "outputs": [
    {
     "name": "stderr",
     "output_type": "stream",
     "text": [
      "Warning message:\n",
      "“Removed 174 rows containing missing values (geom_point).”\n"
     ]
    },
    {
     "data": {
      "text/html": [
       "<strong>png:</strong> 2"
      ],
      "text/latex": [
       "\\textbf{png:} 2"
      ],
      "text/markdown": [
       "**png:** 2"
      ],
      "text/plain": [
       "png \n",
       "  2 "
      ]
     },
     "metadata": {},
     "output_type": "display_data"
    }
   ],
   "source": [
    "png(file=\"PC1vPC2_exomed_ind.png\",  width = 5, height = 5, unit='in', res=300)\n",
    "ggplot(cols_pca, aes(x=f.22009.0.1, y=f.22009.0.2))+ geom_point(aes(color=f.22006.0.0)) +\n",
    "    labs(title=\"PC1 vs PC2 exomed subset\",\n",
    "       x=\"PC1\", y = \"PC2\") +\n",
    "    theme_classic()\n",
    "dev.off()"
   ]
  },
  {
   "cell_type": "code",
   "execution_count": 66,
   "metadata": {
    "kernel": "R"
   },
   "outputs": [
    {
     "name": "stderr",
     "output_type": "stream",
     "text": [
      "Warning message:\n",
      "“Removed 174 rows containing missing values (geom_point).”\n"
     ]
    },
    {
     "data": {
      "text/html": [
       "<strong>png:</strong> 2"
      ],
      "text/latex": [
       "\\textbf{png:} 2"
      ],
      "text/markdown": [
       "**png:** 2"
      ],
      "text/plain": [
       "png \n",
       "  2 "
      ]
     },
     "metadata": {},
     "output_type": "display_data"
    }
   ],
   "source": [
    "png(file=\"PC3vPC4_exomed_ind.png\",  width = 5, height = 5, unit='in', res=300)\n",
    "ggplot(cols_pca, aes(x=f.22009.0.3, y=f.22009.0.4))+ geom_point(aes(color=f.22006.0.0)) +\n",
    "    labs(title=\"PC3 vs PC4 exomed subset\",\n",
    "       x=\"PC3\", y = \"PC4\") +\n",
    "    theme_classic()\n",
    "dev.off()"
   ]
  },
  {
   "cell_type": "code",
   "execution_count": 67,
   "metadata": {
    "kernel": "R"
   },
   "outputs": [
    {
     "name": "stderr",
     "output_type": "stream",
     "text": [
      "Warning message:\n",
      "“Removed 174 rows containing missing values (geom_point).”\n"
     ]
    },
    {
     "data": {
      "text/html": [
       "<strong>png:</strong> 2"
      ],
      "text/latex": [
       "\\textbf{png:} 2"
      ],
      "text/markdown": [
       "**png:** 2"
      ],
      "text/plain": [
       "png \n",
       "  2 "
      ]
     },
     "metadata": {},
     "output_type": "display_data"
    }
   ],
   "source": [
    "png(file=\"PC5vPC6_exomed_ind.png\", width = 5, height = 5, unit='in', res=300)\n",
    "ggplot(cols_pca, aes(x=f.22009.0.5, y=f.22009.0.6))+ geom_point(aes(color=f.22006.0.0)) +\n",
    "    labs(title=\"PC5 vs PC6 exomed subset\",\n",
    "       x=\"PC5\", y = \"PC6\") +\n",
    "    theme_classic()\n",
    "dev.off()"
   ]
  },
  {
   "cell_type": "code",
   "execution_count": 26,
   "metadata": {
    "kernel": "R"
   },
   "outputs": [
    {
     "name": "stderr",
     "output_type": "stream",
     "text": [
      "Warning message:\n",
      "“Removed 174 rows containing missing values (geom_point).”\n"
     ]
    },
    {
     "data": {
      "image/png": "[encoded data removed]",
      "text/plain": [
       "plot without title"
      ]
     },
     "metadata": {
      "image/png": {
       "height": 420,
       "width": 420
      },
      "text/plain": {
       "height": 420,
       "width": 420
      }
     },
     "output_type": "display_data"
    }
   ],
   "source": [
    "ggplot(cols_pca, aes(x=f.22009.0.1, y=f.22009.0.4))+ geom_point(aes(color=f.22006.0.0))"
   ]
  },
  {
   "cell_type": "code",
   "execution_count": 68,
   "metadata": {
    "kernel": "R"
   },
   "outputs": [
    {
     "name": "stderr",
     "output_type": "stream",
     "text": [
      "Warning message:\n",
      "“Removed 14242 rows containing missing values (geom_point).”\n"
     ]
    },
    {
     "data": {
      "text/html": [
       "<strong>png:</strong> 2"
      ],
      "text/latex": [
       "\\textbf{png:} 2"
      ],
      "text/markdown": [
       "**png:** 2"
      ],
      "text/plain": [
       "png \n",
       "  2 "
      ]
     },
     "metadata": {},
     "output_type": "display_data"
    }
   ],
   "source": [
    "png(file=\"PC1vPC2_fulldb_byWES.png\", width = 5, height = 5, unit='in', res=300)\n",
    "ggplot(bd_pca, aes(x=f.22009.0.1, y=f.22009.0.2))+ geom_point(aes(color=WES, shape=WES))+\n",
    "    labs(title=\"PC1 vs PC2 total sample by WES\",\n",
    "       x=\"PC1\", y = \"PC2\") +\n",
    "    theme_classic()\n",
    "dev.off()"
   ]
  },
  {
   "cell_type": "code",
   "execution_count": 45,
   "metadata": {
    "kernel": "R"
   },
   "outputs": [
    {
     "data": {
      "text/html": [
       "200631"
      ],
      "text/latex": [
       "200631"
      ],
      "text/markdown": [
       "200631"
      ],
      "text/plain": [
       "[1] 200631"
      ]
     },
     "metadata": {},
     "output_type": "display_data"
    }
   ],
   "source": [
    "length(which(bd_pca$WES == 1))"
   ]
  },
  {
   "cell_type": "code",
   "execution_count": null,
   "metadata": {
    "kernel": "SoS"
   },
   "outputs": [],
   "source": [
    "[global]\n",
    "# the output directory for generated files\n",
    "parameter: cwd = path\n",
    "# Plink files for exome data\n",
    "parameter: bfiles = paths\n",
    "# The fam file associated to the bed files\n",
    "parameter: famFile = path \n",
    "# The database to extract info from\n",
    "parameter: database = path\n",
    "# For cluster jobs, number commands to run per job\n",
    "parameter: job_size = 1\n",
    "# Number of threads\n",
    "parameter: numThreads = 1\n",
    "# Load Plink module from cluster\n",
    "parameter: plink2_module = '''\n",
    "module load PLINK/2_x86_64_20180428\n",
    "echo \"Module PLINK2 loaded\"\n",
    "{cmd}\n",
    "'''\n",
    "# Load Eigensoft module from cluster\n",
    "parameter: eigensoft_module = '''\n",
    "module load EIGENSOFT/7.2.1-foss-2018b\n",
    "echo \"Module Eigensoft v.7.2.1 loaded\"\n",
    "{cmd}\n",
    "'''\n",
    "# Software container option\n",
    "parameter: container_lmm = 'statisticalgenetics/lmm:1.4'"
   ]
  },
  {
   "cell_type": "code",
   "execution_count": null,
   "metadata": {
    "kernel": "SoS"
   },
   "outputs": [],
   "source": [
    "# Filter individuals from ancestries different than British, Irish, Other white background, prefer not to answer, do not know\n",
    "[filter_1]\n",
    "input: bfiles\n",
    "output: f'{cwd}/cache/{famFile:bn}.white_ind'\n",
    "task: trunk_workers = 1, walltime = '10h', mem = '30G', cores = numThreads, tags = f'{step_name}_{_output:bn}'\n",
    "R: container=container_lmm, expand= \"${ }\", stderr = f'{_output:nn}.stderr', stdout = f'{_output:nn}.stdout'\n",
    "    # This database is the one from June 2020 and contains a subset of variables with the PCs\n",
    "    fam <- read.table(\"/gpfs/gibbs/pi/dewan/data/UKBiobank/genotype_files/ukb28374_exomedata/exome_data_OCT2020/ukb23155_s200631.fam\", sep=' ', header=F)\n",
    "    colnames(fam) <- c(\"FID\",\"IID\",\"fatherID\", \"motherID\", \"sex\", \"phenotype\")\n",
    "    cat(\"There are\",nrow(fam),\"individuals with exomes.\\n\")\n",
    "    bd <- read.table(\"/gpfs/gibbs/pi/dewan/data/UKBiobank/phenotype_files/pleiotropy_R01/ukb42495_updatedJune2020/ukb42495.tab\", sep=\"\\t\", header=T)\n",
    "    cat(\"The size of the full database is\",dim(bd),\".\\n\")\n",
    "    # Assign individual ID column to bd f.eid\n",
    "    names(bd)[1] <- \"IID\"\n",
    "    # Select the 200K individuals with exomes from the full db\n",
    "    exomed_ind <- bd[bd$IID %in% fam$IID,]\n",
    "    cat(\"The number or individuals selected is\",nrow(exomed_in),\".\\n\")"
   ]
  },
  {
   "cell_type": "code",
   "execution_count": null,
   "metadata": {
    "kernel": "SoS"
   },
   "outputs": [],
   "source": [
    "# Filter SNPs with MAF>1% for PCA analysis, select individuals and merge bed into one file\n",
    "[filter_2]\n",
    "parameter: maf_filter = 0.1\n",
    "parameter: geno_filter = 0.1\n",
    "parameter: hwe_filter = 0.0\n",
    "parameter: mind_filter = 0.1\n",
    "input: bfile\n",
    "output: f'{cwd}/cache/{bfile:bn}.filtered.bed'\n",
    "task: trunk_workers = 1, walltime = '10h', mem = '30G', cores = numThreads, tags = f'{step_name}_{_output:bn}'\n",
    "bash: container=container_lmm, expand= \"${ }\", stderr = f'{_output:n}.stderr', stdout = f'{_output:n}.stdout', template = '{cmd}' if executable('plink2').target_exists() else plink2_module\n",
    "    plink2 \\\n",
    "      --bfile ${bfile:n} ${('--maf %s' % maf_filter) if maf_filter > 0 else ''} ${('--geno %s' % geno_filter) if geno_filter > 0 else ''} ${('--hwe %s' % hwe_filter) if hwe_filter > 0 else ''} ${('--mind %s' % mind_filter) if mind_filter > 0 else ''} \\\n",
    "      --threads ${numThreads} \\\n",
    "      --out ${_output:n} "
   ]
  },
  {
   "cell_type": "code",
   "execution_count": null,
   "metadata": {
    "kernel": "SoS"
   },
   "outputs": [],
   "source": [
    "# Merge all the .bed files into one bed file for input to eigensoft\n",
    "[filter_3]\n",
    "input: group_by = 'all'\n",
    "output: bfile_merge = f'{cwd}/{famFile:bn}.filtered.merged.bed'\n",
    "task: trunk_workers = 1, trunk_size = job_size, walltime = '48h', mem = '60G', cores = numThreads, tags = f'{step_name}_{_output:bn}'\n",
    "bash: expand= \"${ }\", stderr = f'{_output:n}.stderr', stdout = f'{_output:n}.stdout', template = '{cmd}' if executable('plink2').target_exists() else plink2_module\n",
    "    echo -e ${' '.join([str(x)[:-4] for x in _input[1:]])} | sed 's/ /\\n/g' > ${_output:n}.merge_list\n",
    "    plink2 \\\n",
    "    --bfile ${_input[0]:n} \\\n",
    "    --merge-list ${_output:n}.merge_list \\\n",
    "    --make-bed \\\n",
    "    --out ${_output:n} \\\n",
    "    --threads ${numThreads} \\\n",
    "    --memory 48000"
   ]
  },
  {
   "cell_type": "code",
   "execution_count": null,
   "metadata": {
    "kernel": "SoS"
   },
   "outputs": [],
   "source": [
    "# Run pca analysis using Eigenstrat: the program suports plink files here called PACKEDPED format\n",
    "# smartpca.perl: run PCA on input genotype data (calls smartpca)\n",
    "[pca_1]\n",
    "# Number of Principal Components to output\n",
    "parameter: k = int\n",
    "# Maximum number of iterations for outlier removal. Default 0 turns off outlier removal\n",
    "parameter: maxiter = 0\n",
    "# Number of principal components along which to remove outliers during each outlier removal iteration. Default is 10\n",
    "parameter: topk = 10\n",
    "# Number of standard deviations which an individual must exceed, along one of topk top principal components, in order to be removed as an outlier. Default is 6\n",
    "parameter: sigma = 6\n",
    "input: bfile_merge\n",
    "output: f'{cwd}/{_input:bn}.pca'\n",
    "task: trunk_workers = 1, walltime = '10h', mem = '30G', cores = numThreads, tags = f'{step_name}_{_output:bn}'\n",
    "bash: expand= \"${ }\", stderr = f'{_output:n}.stderr', stdout = f'{_output:n}.stdout',  template = '{cmd}' if executable('smartpca.perl').target_exists() else eigensoft_module\n",
    "    smartpca.perl \\\n",
    "    -i ${bfile_merged}.bed \\ \n",
    "    -a ${bfile_merged}.map \\\n",
    "    -b ${bfile_merged}.fam \\\n",
    "    -k ${k} \\\n",
    "    -o ${_output} \\\n",
    "    -p ${_output:n}.plot \\\n",
    "    -e ${_output:n}.eval \\\n",
    "    -l ${_output:n}.log \\\n",
    "    -m ${maxiter} \\\n",
    "    -t ${topk} \\\n",
    "    -s ${sigma}"
   ]
  }
 ],
 "metadata": {
  "kernelspec": {
   "display_name": "SoS",
   "language": "sos",
   "name": "sos"
  },
  "language_info": {
   "codemirror_mode": "sos",
   "file_extension": ".sos",
   "mimetype": "text/x-sos",
   "name": "sos",
   "nbconvert_exporter": "sos_notebook.converter.SoS_Exporter",
   "pygments_lexer": "sos"
  },
  "sos": {
   "kernels": [
    [
     "R",
     "ir",
     "R",
     "#DCDCDA",
     ""
    ],
    [
     "SoS",
     "sos",
     "",
     "",
     "sos"
    ]
   ],
   "version": "0.21.21"
  }
 },
 "nbformat": 4,
 "nbformat_minor": 4
}
