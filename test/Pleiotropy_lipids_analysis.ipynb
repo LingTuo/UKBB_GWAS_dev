{
 "cells": [
  {
   "cell_type": "code",
   "execution_count": 3,
   "metadata": {
    "kernel": "R"
   },
   "outputs": [],
   "source": [
    "blood <- read.table(\"/gpfs/gibbs/pi/dewan/data/UKBiobank/phenotype_files/pleiotropy_R01/phenotypesforanalysis/UKB_CAUC_lipidsforanalysis_apolipoproteinAandB,Hba1c_continuousandcategorical,egfrbyCKDEPI,serumcreatinine,UACR_inverseranknorm_110320\", header=T)"
   ]
  },
  {
   "cell_type": "code",
   "execution_count": 8,
   "metadata": {
    "kernel": "R"
   },
   "outputs": [
    {
     "data": {
      "text/html": [
       "<table>\n",
       "<caption>A data.frame: 20 × 16</caption>\n",
       "<thead>\n",
       "\t<tr><th></th><th scope=col>FID</th><th scope=col>IID</th><th scope=col>AGE</th><th scope=col>SEX</th><th scope=col>ApoA_int</th><th scope=col>ApoB_int</th><th scope=col>Creatinine_int</th><th scope=col>Hba1c_int</th><th scope=col>hba1c_categorical</th><th scope=col>eGFR_int</th><th scope=col>UACR_int</th><th scope=col>Packyrs_smoking</th><th scope=col>alcohol1</th><th scope=col>alcohol2</th><th scope=col>alcohol3</th><th scope=col>alcohol4</th></tr>\n",
       "\t<tr><th></th><th scope=col>&lt;int&gt;</th><th scope=col>&lt;int&gt;</th><th scope=col>&lt;int&gt;</th><th scope=col>&lt;int&gt;</th><th scope=col>&lt;dbl&gt;</th><th scope=col>&lt;dbl&gt;</th><th scope=col>&lt;dbl&gt;</th><th scope=col>&lt;dbl&gt;</th><th scope=col>&lt;int&gt;</th><th scope=col>&lt;dbl&gt;</th><th scope=col>&lt;dbl&gt;</th><th scope=col>&lt;dbl&gt;</th><th scope=col>&lt;int&gt;</th><th scope=col>&lt;int&gt;</th><th scope=col>&lt;int&gt;</th><th scope=col>&lt;int&gt;</th></tr>\n",
       "</thead>\n",
       "<tbody>\n",
       "\t<tr><th scope=row>1</th><td>1000019</td><td>1000019</td><td>47</td><td>0</td><td>-0.65999524</td><td>-0.12005983</td><td> 0.17606320</td><td>-1.46860841</td><td>1</td><td> 0.08939050</td><td>-1.0696021</td><td> 0.000</td><td>0</td><td>0</td><td>1</td><td>0</td></tr>\n",
       "\t<tr><th scope=row>2</th><td>1000035</td><td>1000035</td><td>63</td><td>1</td><td>-2.36409966</td><td> 0.56595199</td><td> 0.74479725</td><td> 0.17160026</td><td>1</td><td>-0.89549730</td><td> 0.8709094</td><td> 0.000</td><td>0</td><td>0</td><td>0</td><td>0</td></tr>\n",
       "\t<tr><th scope=row>3</th><td>1000112</td><td>1000112</td><td>58</td><td>1</td><td>-1.48293162</td><td> 0.16563162</td><td> 1.40865813</td><td>-0.23965064</td><td>1</td><td>-1.37209866</td><td> 1.5428153</td><td> 0.000</td><td>0</td><td>0</td><td>0</td><td>0</td></tr>\n",
       "\t<tr><th scope=row>4</th><td>1000129</td><td>1000129</td><td>62</td><td>1</td><td>-0.56072224</td><td>-1.65589467</td><td> 1.11086965</td><td>-0.43359400</td><td>1</td><td>-1.20784016</td><td>-1.1518977</td><td>39.500</td><td>1</td><td>0</td><td>0</td><td>0</td></tr>\n",
       "\t<tr><th scope=row>5</th><td>1000141</td><td>1000141</td><td>49</td><td>0</td><td> 0.06206429</td><td>-0.05733873</td><td>-0.64054270</td><td> 0.38843116</td><td>1</td><td> 1.21734776</td><td>-0.7219475</td><td> 0.000</td><td>0</td><td>0</td><td>0</td><td>1</td></tr>\n",
       "\t<tr><th scope=row>6</th><td>1000170</td><td>1000170</td><td>51</td><td>0</td><td> 0.11105926</td><td> 0.62576062</td><td>-2.02158680</td><td> 0.06764851</td><td>1</td><td> 1.91096217</td><td> 0.2501756</td><td>32.500</td><td>0</td><td>1</td><td>0</td><td>0</td></tr>\n",
       "\t<tr><th scope=row>7</th><td>1000203</td><td>1000203</td><td>49</td><td>0</td><td> 0.84909934</td><td>-0.52588668</td><td>-0.84925117</td><td>-0.15483849</td><td>1</td><td> 1.33260070</td><td>-0.3167938</td><td>16.500</td><td>1</td><td>0</td><td>0</td><td>0</td></tr>\n",
       "\t<tr><th scope=row>8</th><td>1000494</td><td>1000494</td><td>61</td><td>1</td><td>-0.37529690</td><td>-1.13409105</td><td> 1.85049913</td><td>-0.15483849</td><td>1</td><td>-1.85766031</td><td>-0.4167630</td><td> 0.000</td><td>0</td><td>1</td><td>0</td><td>0</td></tr>\n",
       "\t<tr><th scope=row>9</th><td>1000516</td><td>1000516</td><td>46</td><td>1</td><td>-0.47878679</td><td>-1.76591805</td><td> 2.38374349</td><td> 2.12809786</td><td>3</td><td>-2.09680059</td><td>-0.4999326</td><td> 0.000</td><td>0</td><td>1</td><td>0</td><td>0</td></tr>\n",
       "\t<tr><th scope=row>10</th><td>1000595</td><td>1000595</td><td>59</td><td>1</td><td>-0.62605010</td><td>-1.38551129</td><td>-0.03107954</td><td> 1.41591341</td><td>1</td><td>-0.03226717</td><td>-0.3005531</td><td> 0.000</td><td>0</td><td>0</td><td>0</td><td>1</td></tr>\n",
       "\t<tr><th scope=row>11</th><td>1000611</td><td>1000611</td><td>56</td><td>0</td><td>         NA</td><td> 0.16145602</td><td>-1.03541610</td><td> 0.21792027</td><td>1</td><td> 1.01056751</td><td>-0.1520856</td><td> 0.000</td><td>0</td><td>0</td><td>0</td><td>0</td></tr>\n",
       "\t<tr><th scope=row>12</th><td>1000683</td><td>1000683</td><td>65</td><td>1</td><td> 0.01535218</td><td>-1.19866463</td><td> 2.98555698</td><td> 0.99701721</td><td>1</td><td>-3.00595343</td><td> 0.8831169</td><td> 4.000</td><td>0</td><td>1</td><td>0</td><td>0</td></tr>\n",
       "\t<tr><th scope=row>13</th><td>1000817</td><td>1000817</td><td>58</td><td>1</td><td>-0.53471118</td><td>-2.54754016</td><td>-0.09320777</td><td> 2.18080310</td><td>3</td><td> 0.05293570</td><td>-0.3302519</td><td> 0.000</td><td>0</td><td>0</td><td>0</td><td>0</td></tr>\n",
       "\t<tr><th scope=row>14</th><td>1000826</td><td>1000826</td><td>54</td><td>0</td><td>-0.19195475</td><td> 1.17270473</td><td>-0.20774940</td><td> 0.14910038</td><td>1</td><td> 0.27428903</td><td>-1.1086971</td><td> 0.000</td><td>0</td><td>0</td><td>1</td><td>0</td></tr>\n",
       "\t<tr><th scope=row>15</th><td>1000875</td><td>1000875</td><td>59</td><td>1</td><td>-0.90484991</td><td>-0.30992490</td><td> 1.13478229</td><td>-1.20864625</td><td>1</td><td>-1.14408952</td><td>-0.4071484</td><td> 0.000</td><td>0</td><td>1</td><td>0</td><td>0</td></tr>\n",
       "\t<tr><th scope=row>16</th><td>1000933</td><td>1000933</td><td>58</td><td>1</td><td> 0.39563260</td><td>-1.15747562</td><td>-1.92251051</td><td>-0.15483849</td><td>1</td><td> 1.33229575</td><td> 0.7192982</td><td> 0.000</td><td>1</td><td>0</td><td>0</td><td>0</td></tr>\n",
       "\t<tr><th scope=row>17</th><td>1000959</td><td>1000959</td><td>60</td><td>0</td><td> 0.07382071</td><td> 0.53823039</td><td>-0.34508390</td><td>-0.23965064</td><td>1</td><td> 0.24360391</td><td>-0.8937298</td><td>18.375</td><td>1</td><td>0</td><td>0</td><td>0</td></tr>\n",
       "\t<tr><th scope=row>18</th><td>1001013</td><td>1001013</td><td>54</td><td>1</td><td>-1.71919467</td><td> 0.96274253</td><td> 1.56583980</td><td>-1.33692736</td><td>1</td><td>-1.40792343</td><td> 1.4293199</td><td> 0.000</td><td>0</td><td>0</td><td>1</td><td>0</td></tr>\n",
       "\t<tr><th scope=row>19</th><td>1001045</td><td>1001045</td><td>61</td><td>1</td><td>-0.03435980</td><td>-0.36207909</td><td> 0.39038394</td><td> 0.30652240</td><td>1</td><td>-0.49548591</td><td>-0.2152743</td><td> 0.000</td><td>0</td><td>1</td><td>0</td><td>0</td></tr>\n",
       "\t<tr><th scope=row>20</th><td>1001076</td><td>1001076</td><td>69</td><td>1</td><td>-0.51793806</td><td>-0.47684421</td><td>-0.08630523</td><td> 0.06764851</td><td>1</td><td>-0.24757712</td><td> 1.5121944</td><td> 0.000</td><td>0</td><td>1</td><td>0</td><td>0</td></tr>\n",
       "</tbody>\n",
       "</table>\n"
      ],
      "text/latex": [
       "A data.frame: 20 × 16\n",
       "\\begin{tabular}{r|llllllllllllllll}\n",
       "  & FID & IID & AGE & SEX & ApoA\\_int & ApoB\\_int & Creatinine\\_int & Hba1c\\_int & hba1c\\_categorical & eGFR\\_int & UACR\\_int & Packyrs\\_smoking & alcohol1 & alcohol2 & alcohol3 & alcohol4\\\\\n",
       "  & <int> & <int> & <int> & <int> & <dbl> & <dbl> & <dbl> & <dbl> & <int> & <dbl> & <dbl> & <dbl> & <int> & <int> & <int> & <int>\\\\\n",
       "\\hline\n",
       "\t1 & 1000019 & 1000019 & 47 & 0 & -0.65999524 & -0.12005983 &  0.17606320 & -1.46860841 & 1 &  0.08939050 & -1.0696021 &  0.000 & 0 & 0 & 1 & 0\\\\\n",
       "\t2 & 1000035 & 1000035 & 63 & 1 & -2.36409966 &  0.56595199 &  0.74479725 &  0.17160026 & 1 & -0.89549730 &  0.8709094 &  0.000 & 0 & 0 & 0 & 0\\\\\n",
       "\t3 & 1000112 & 1000112 & 58 & 1 & -1.48293162 &  0.16563162 &  1.40865813 & -0.23965064 & 1 & -1.37209866 &  1.5428153 &  0.000 & 0 & 0 & 0 & 0\\\\\n",
       "\t4 & 1000129 & 1000129 & 62 & 1 & -0.56072224 & -1.65589467 &  1.11086965 & -0.43359400 & 1 & -1.20784016 & -1.1518977 & 39.500 & 1 & 0 & 0 & 0\\\\\n",
       "\t5 & 1000141 & 1000141 & 49 & 0 &  0.06206429 & -0.05733873 & -0.64054270 &  0.38843116 & 1 &  1.21734776 & -0.7219475 &  0.000 & 0 & 0 & 0 & 1\\\\\n",
       "\t6 & 1000170 & 1000170 & 51 & 0 &  0.11105926 &  0.62576062 & -2.02158680 &  0.06764851 & 1 &  1.91096217 &  0.2501756 & 32.500 & 0 & 1 & 0 & 0\\\\\n",
       "\t7 & 1000203 & 1000203 & 49 & 0 &  0.84909934 & -0.52588668 & -0.84925117 & -0.15483849 & 1 &  1.33260070 & -0.3167938 & 16.500 & 1 & 0 & 0 & 0\\\\\n",
       "\t8 & 1000494 & 1000494 & 61 & 1 & -0.37529690 & -1.13409105 &  1.85049913 & -0.15483849 & 1 & -1.85766031 & -0.4167630 &  0.000 & 0 & 1 & 0 & 0\\\\\n",
       "\t9 & 1000516 & 1000516 & 46 & 1 & -0.47878679 & -1.76591805 &  2.38374349 &  2.12809786 & 3 & -2.09680059 & -0.4999326 &  0.000 & 0 & 1 & 0 & 0\\\\\n",
       "\t10 & 1000595 & 1000595 & 59 & 1 & -0.62605010 & -1.38551129 & -0.03107954 &  1.41591341 & 1 & -0.03226717 & -0.3005531 &  0.000 & 0 & 0 & 0 & 1\\\\\n",
       "\t11 & 1000611 & 1000611 & 56 & 0 &          NA &  0.16145602 & -1.03541610 &  0.21792027 & 1 &  1.01056751 & -0.1520856 &  0.000 & 0 & 0 & 0 & 0\\\\\n",
       "\t12 & 1000683 & 1000683 & 65 & 1 &  0.01535218 & -1.19866463 &  2.98555698 &  0.99701721 & 1 & -3.00595343 &  0.8831169 &  4.000 & 0 & 1 & 0 & 0\\\\\n",
       "\t13 & 1000817 & 1000817 & 58 & 1 & -0.53471118 & -2.54754016 & -0.09320777 &  2.18080310 & 3 &  0.05293570 & -0.3302519 &  0.000 & 0 & 0 & 0 & 0\\\\\n",
       "\t14 & 1000826 & 1000826 & 54 & 0 & -0.19195475 &  1.17270473 & -0.20774940 &  0.14910038 & 1 &  0.27428903 & -1.1086971 &  0.000 & 0 & 0 & 1 & 0\\\\\n",
       "\t15 & 1000875 & 1000875 & 59 & 1 & -0.90484991 & -0.30992490 &  1.13478229 & -1.20864625 & 1 & -1.14408952 & -0.4071484 &  0.000 & 0 & 1 & 0 & 0\\\\\n",
       "\t16 & 1000933 & 1000933 & 58 & 1 &  0.39563260 & -1.15747562 & -1.92251051 & -0.15483849 & 1 &  1.33229575 &  0.7192982 &  0.000 & 1 & 0 & 0 & 0\\\\\n",
       "\t17 & 1000959 & 1000959 & 60 & 0 &  0.07382071 &  0.53823039 & -0.34508390 & -0.23965064 & 1 &  0.24360391 & -0.8937298 & 18.375 & 1 & 0 & 0 & 0\\\\\n",
       "\t18 & 1001013 & 1001013 & 54 & 1 & -1.71919467 &  0.96274253 &  1.56583980 & -1.33692736 & 1 & -1.40792343 &  1.4293199 &  0.000 & 0 & 0 & 1 & 0\\\\\n",
       "\t19 & 1001045 & 1001045 & 61 & 1 & -0.03435980 & -0.36207909 &  0.39038394 &  0.30652240 & 1 & -0.49548591 & -0.2152743 &  0.000 & 0 & 1 & 0 & 0\\\\\n",
       "\t20 & 1001076 & 1001076 & 69 & 1 & -0.51793806 & -0.47684421 & -0.08630523 &  0.06764851 & 1 & -0.24757712 &  1.5121944 &  0.000 & 0 & 1 & 0 & 0\\\\\n",
       "\\end{tabular}\n"
      ],
      "text/markdown": [
       "\n",
       "A data.frame: 20 × 16\n",
       "\n",
       "| <!--/--> | FID &lt;int&gt; | IID &lt;int&gt; | AGE &lt;int&gt; | SEX &lt;int&gt; | ApoA_int &lt;dbl&gt; | ApoB_int &lt;dbl&gt; | Creatinine_int &lt;dbl&gt; | Hba1c_int &lt;dbl&gt; | hba1c_categorical &lt;int&gt; | eGFR_int &lt;dbl&gt; | UACR_int &lt;dbl&gt; | Packyrs_smoking &lt;dbl&gt; | alcohol1 &lt;int&gt; | alcohol2 &lt;int&gt; | alcohol3 &lt;int&gt; | alcohol4 &lt;int&gt; |\n",
       "|---|---|---|---|---|---|---|---|---|---|---|---|---|---|---|---|---|\n",
       "| 1 | 1000019 | 1000019 | 47 | 0 | -0.65999524 | -0.12005983 |  0.17606320 | -1.46860841 | 1 |  0.08939050 | -1.0696021 |  0.000 | 0 | 0 | 1 | 0 |\n",
       "| 2 | 1000035 | 1000035 | 63 | 1 | -2.36409966 |  0.56595199 |  0.74479725 |  0.17160026 | 1 | -0.89549730 |  0.8709094 |  0.000 | 0 | 0 | 0 | 0 |\n",
       "| 3 | 1000112 | 1000112 | 58 | 1 | -1.48293162 |  0.16563162 |  1.40865813 | -0.23965064 | 1 | -1.37209866 |  1.5428153 |  0.000 | 0 | 0 | 0 | 0 |\n",
       "| 4 | 1000129 | 1000129 | 62 | 1 | -0.56072224 | -1.65589467 |  1.11086965 | -0.43359400 | 1 | -1.20784016 | -1.1518977 | 39.500 | 1 | 0 | 0 | 0 |\n",
       "| 5 | 1000141 | 1000141 | 49 | 0 |  0.06206429 | -0.05733873 | -0.64054270 |  0.38843116 | 1 |  1.21734776 | -0.7219475 |  0.000 | 0 | 0 | 0 | 1 |\n",
       "| 6 | 1000170 | 1000170 | 51 | 0 |  0.11105926 |  0.62576062 | -2.02158680 |  0.06764851 | 1 |  1.91096217 |  0.2501756 | 32.500 | 0 | 1 | 0 | 0 |\n",
       "| 7 | 1000203 | 1000203 | 49 | 0 |  0.84909934 | -0.52588668 | -0.84925117 | -0.15483849 | 1 |  1.33260070 | -0.3167938 | 16.500 | 1 | 0 | 0 | 0 |\n",
       "| 8 | 1000494 | 1000494 | 61 | 1 | -0.37529690 | -1.13409105 |  1.85049913 | -0.15483849 | 1 | -1.85766031 | -0.4167630 |  0.000 | 0 | 1 | 0 | 0 |\n",
       "| 9 | 1000516 | 1000516 | 46 | 1 | -0.47878679 | -1.76591805 |  2.38374349 |  2.12809786 | 3 | -2.09680059 | -0.4999326 |  0.000 | 0 | 1 | 0 | 0 |\n",
       "| 10 | 1000595 | 1000595 | 59 | 1 | -0.62605010 | -1.38551129 | -0.03107954 |  1.41591341 | 1 | -0.03226717 | -0.3005531 |  0.000 | 0 | 0 | 0 | 1 |\n",
       "| 11 | 1000611 | 1000611 | 56 | 0 |          NA |  0.16145602 | -1.03541610 |  0.21792027 | 1 |  1.01056751 | -0.1520856 |  0.000 | 0 | 0 | 0 | 0 |\n",
       "| 12 | 1000683 | 1000683 | 65 | 1 |  0.01535218 | -1.19866463 |  2.98555698 |  0.99701721 | 1 | -3.00595343 |  0.8831169 |  4.000 | 0 | 1 | 0 | 0 |\n",
       "| 13 | 1000817 | 1000817 | 58 | 1 | -0.53471118 | -2.54754016 | -0.09320777 |  2.18080310 | 3 |  0.05293570 | -0.3302519 |  0.000 | 0 | 0 | 0 | 0 |\n",
       "| 14 | 1000826 | 1000826 | 54 | 0 | -0.19195475 |  1.17270473 | -0.20774940 |  0.14910038 | 1 |  0.27428903 | -1.1086971 |  0.000 | 0 | 0 | 1 | 0 |\n",
       "| 15 | 1000875 | 1000875 | 59 | 1 | -0.90484991 | -0.30992490 |  1.13478229 | -1.20864625 | 1 | -1.14408952 | -0.4071484 |  0.000 | 0 | 1 | 0 | 0 |\n",
       "| 16 | 1000933 | 1000933 | 58 | 1 |  0.39563260 | -1.15747562 | -1.92251051 | -0.15483849 | 1 |  1.33229575 |  0.7192982 |  0.000 | 1 | 0 | 0 | 0 |\n",
       "| 17 | 1000959 | 1000959 | 60 | 0 |  0.07382071 |  0.53823039 | -0.34508390 | -0.23965064 | 1 |  0.24360391 | -0.8937298 | 18.375 | 1 | 0 | 0 | 0 |\n",
       "| 18 | 1001013 | 1001013 | 54 | 1 | -1.71919467 |  0.96274253 |  1.56583980 | -1.33692736 | 1 | -1.40792343 |  1.4293199 |  0.000 | 0 | 0 | 1 | 0 |\n",
       "| 19 | 1001045 | 1001045 | 61 | 1 | -0.03435980 | -0.36207909 |  0.39038394 |  0.30652240 | 1 | -0.49548591 | -0.2152743 |  0.000 | 0 | 1 | 0 | 0 |\n",
       "| 20 | 1001076 | 1001076 | 69 | 1 | -0.51793806 | -0.47684421 | -0.08630523 |  0.06764851 | 1 | -0.24757712 |  1.5121944 |  0.000 | 0 | 1 | 0 | 0 |\n",
       "\n"
      ],
      "text/plain": [
       "   FID     IID     AGE SEX ApoA_int    ApoB_int    Creatinine_int Hba1c_int  \n",
       "1  1000019 1000019 47  0   -0.65999524 -0.12005983  0.17606320    -1.46860841\n",
       "2  1000035 1000035 63  1   -2.36409966  0.56595199  0.74479725     0.17160026\n",
       "3  1000112 1000112 58  1   -1.48293162  0.16563162  1.40865813    -0.23965064\n",
       "4  1000129 1000129 62  1   -0.56072224 -1.65589467  1.11086965    -0.43359400\n",
       "5  1000141 1000141 49  0    0.06206429 -0.05733873 -0.64054270     0.38843116\n",
       "6  1000170 1000170 51  0    0.11105926  0.62576062 -2.02158680     0.06764851\n",
       "7  1000203 1000203 49  0    0.84909934 -0.52588668 -0.84925117    -0.15483849\n",
       "8  1000494 1000494 61  1   -0.37529690 -1.13409105  1.85049913    -0.15483849\n",
       "9  1000516 1000516 46  1   -0.47878679 -1.76591805  2.38374349     2.12809786\n",
       "10 1000595 1000595 59  1   -0.62605010 -1.38551129 -0.03107954     1.41591341\n",
       "11 1000611 1000611 56  0            NA  0.16145602 -1.03541610     0.21792027\n",
       "12 1000683 1000683 65  1    0.01535218 -1.19866463  2.98555698     0.99701721\n",
       "13 1000817 1000817 58  1   -0.53471118 -2.54754016 -0.09320777     2.18080310\n",
       "14 1000826 1000826 54  0   -0.19195475  1.17270473 -0.20774940     0.14910038\n",
       "15 1000875 1000875 59  1   -0.90484991 -0.30992490  1.13478229    -1.20864625\n",
       "16 1000933 1000933 58  1    0.39563260 -1.15747562 -1.92251051    -0.15483849\n",
       "17 1000959 1000959 60  0    0.07382071  0.53823039 -0.34508390    -0.23965064\n",
       "18 1001013 1001013 54  1   -1.71919467  0.96274253  1.56583980    -1.33692736\n",
       "19 1001045 1001045 61  1   -0.03435980 -0.36207909  0.39038394     0.30652240\n",
       "20 1001076 1001076 69  1   -0.51793806 -0.47684421 -0.08630523     0.06764851\n",
       "   hba1c_categorical eGFR_int    UACR_int   Packyrs_smoking alcohol1 alcohol2\n",
       "1  1                  0.08939050 -1.0696021  0.000          0        0       \n",
       "2  1                 -0.89549730  0.8709094  0.000          0        0       \n",
       "3  1                 -1.37209866  1.5428153  0.000          0        0       \n",
       "4  1                 -1.20784016 -1.1518977 39.500          1        0       \n",
       "5  1                  1.21734776 -0.7219475  0.000          0        0       \n",
       "6  1                  1.91096217  0.2501756 32.500          0        1       \n",
       "7  1                  1.33260070 -0.3167938 16.500          1        0       \n",
       "8  1                 -1.85766031 -0.4167630  0.000          0        1       \n",
       "9  3                 -2.09680059 -0.4999326  0.000          0        1       \n",
       "10 1                 -0.03226717 -0.3005531  0.000          0        0       \n",
       "11 1                  1.01056751 -0.1520856  0.000          0        0       \n",
       "12 1                 -3.00595343  0.8831169  4.000          0        1       \n",
       "13 3                  0.05293570 -0.3302519  0.000          0        0       \n",
       "14 1                  0.27428903 -1.1086971  0.000          0        0       \n",
       "15 1                 -1.14408952 -0.4071484  0.000          0        1       \n",
       "16 1                  1.33229575  0.7192982  0.000          1        0       \n",
       "17 1                  0.24360391 -0.8937298 18.375          1        0       \n",
       "18 1                 -1.40792343  1.4293199  0.000          0        0       \n",
       "19 1                 -0.49548591 -0.2152743  0.000          0        1       \n",
       "20 1                 -0.24757712  1.5121944  0.000          0        1       \n",
       "   alcohol3 alcohol4\n",
       "1  1        0       \n",
       "2  0        0       \n",
       "3  0        0       \n",
       "4  0        0       \n",
       "5  0        1       \n",
       "6  0        0       \n",
       "7  0        0       \n",
       "8  0        0       \n",
       "9  0        0       \n",
       "10 0        1       \n",
       "11 0        0       \n",
       "12 0        0       \n",
       "13 0        0       \n",
       "14 1        0       \n",
       "15 0        0       \n",
       "16 0        0       \n",
       "17 0        0       \n",
       "18 1        0       \n",
       "19 0        0       \n",
       "20 0        0       "
      ]
     },
     "metadata": {},
     "output_type": "display_data"
    }
   ],
   "source": [
    "head(blood, 20)"
   ]
  },
  {
   "cell_type": "code",
   "execution_count": 19,
   "metadata": {
    "kernel": "R"
   },
   "outputs": [
    {
     "data": {
      "image/png": "[encoded data removed]",
      "text/plain": [
       "Plot with title “Histogram of blood$Packyrs_smoking”"
      ]
     },
     "metadata": {
      "image/png": {
       "height": 420,
       "width": 420
      },
      "text/plain": {
       "height": 420,
       "width": 420
      }
     },
     "output_type": "display_data"
    }
   ],
   "source": [
    "hist(blood$Packyrs_smoking)"
   ]
  },
  {
   "cell_type": "code",
   "execution_count": 18,
   "metadata": {
    "kernel": "R"
   },
   "outputs": [
    {
     "data": {
      "text/html": [
       "<table>\n",
       "<caption>A data.frame: 0 × 16</caption>\n",
       "<thead>\n",
       "\t<tr><th scope=col>FID</th><th scope=col>IID</th><th scope=col>AGE</th><th scope=col>SEX</th><th scope=col>ApoA_int</th><th scope=col>ApoB_int</th><th scope=col>Creatinine_int</th><th scope=col>Hba1c_int</th><th scope=col>hba1c_categorical</th><th scope=col>eGFR_int</th><th scope=col>UACR_int</th><th scope=col>Packyrs_smoking</th><th scope=col>alcohol1</th><th scope=col>alcohol2</th><th scope=col>alcohol3</th><th scope=col>alcohol4</th></tr>\n",
       "\t<tr><th scope=col>&lt;int&gt;</th><th scope=col>&lt;int&gt;</th><th scope=col>&lt;int&gt;</th><th scope=col>&lt;int&gt;</th><th scope=col>&lt;dbl&gt;</th><th scope=col>&lt;dbl&gt;</th><th scope=col>&lt;dbl&gt;</th><th scope=col>&lt;dbl&gt;</th><th scope=col>&lt;int&gt;</th><th scope=col>&lt;dbl&gt;</th><th scope=col>&lt;dbl&gt;</th><th scope=col>&lt;dbl&gt;</th><th scope=col>&lt;int&gt;</th><th scope=col>&lt;int&gt;</th><th scope=col>&lt;int&gt;</th><th scope=col>&lt;int&gt;</th></tr>\n",
       "</thead>\n",
       "<tbody>\n",
       "</tbody>\n",
       "</table>\n"
      ],
      "text/latex": [
       "A data.frame: 0 × 16\n",
       "\\begin{tabular}{llllllllllllllll}\n",
       " FID & IID & AGE & SEX & ApoA\\_int & ApoB\\_int & Creatinine\\_int & Hba1c\\_int & hba1c\\_categorical & eGFR\\_int & UACR\\_int & Packyrs\\_smoking & alcohol1 & alcohol2 & alcohol3 & alcohol4\\\\\n",
       " <int> & <int> & <int> & <int> & <dbl> & <dbl> & <dbl> & <dbl> & <int> & <dbl> & <dbl> & <dbl> & <int> & <int> & <int> & <int>\\\\\n",
       "\\hline\n",
       "\\end{tabular}\n"
      ],
      "text/markdown": [
       "\n",
       "A data.frame: 0 × 16\n",
       "\n",
       "| FID &lt;int&gt; | IID &lt;int&gt; | AGE &lt;int&gt; | SEX &lt;int&gt; | ApoA_int &lt;dbl&gt; | ApoB_int &lt;dbl&gt; | Creatinine_int &lt;dbl&gt; | Hba1c_int &lt;dbl&gt; | hba1c_categorical &lt;int&gt; | eGFR_int &lt;dbl&gt; | UACR_int &lt;dbl&gt; | Packyrs_smoking &lt;dbl&gt; | alcohol1 &lt;int&gt; | alcohol2 &lt;int&gt; | alcohol3 &lt;int&gt; | alcohol4 &lt;int&gt; |\n",
       "|---|---|---|---|---|---|---|---|---|---|---|---|---|---|---|---|\n",
       "\n"
      ],
      "text/plain": [
       "     FID IID AGE SEX ApoA_int ApoB_int Creatinine_int Hba1c_int\n",
       "     hba1c_categorical eGFR_int UACR_int Packyrs_smoking alcohol1 alcohol2\n",
       "     alcohol3 alcohol4"
      ]
     },
     "metadata": {},
     "output_type": "display_data"
    },
    {
     "data": {
      "text/html": [
       "0"
      ],
      "text/latex": [
       "0"
      ],
      "text/markdown": [
       "0"
      ],
      "text/plain": [
       "[1] 0"
      ]
     },
     "metadata": {},
     "output_type": "display_data"
    }
   ],
   "source": [
    "library(dplyr)\n",
    "missing_pckyrs_smok <- blood %>%\n",
    "    filter(is.na(Packyrs_smoking))\n",
    "head(missing_pckyrs_smok)   \n",
    "    \n",
    "length(which(is.na(blood$Packyrs_smoking)))"
   ]
  },
  {
   "cell_type": "code",
   "execution_count": 17,
   "metadata": {
    "kernel": "R"
   },
   "outputs": [
    {
     "data": {
      "text/html": [
       "9206"
      ],
      "text/latex": [
       "9206"
      ],
      "text/markdown": [
       "9206"
      ],
      "text/plain": [
       "[1] 9206"
      ]
     },
     "metadata": {},
     "output_type": "display_data"
    }
   ],
   "source": [
    "length(which(is.na(blood$ApoA_int)))"
   ]
  },
  {
   "cell_type": "code",
   "execution_count": 20,
   "metadata": {
    "kernel": "R"
   },
   "outputs": [
    {
     "data": {
      "text/html": [
       "105121"
      ],
      "text/latex": [
       "105121"
      ],
      "text/markdown": [
       "105121"
      ],
      "text/plain": [
       "[1] 105121"
      ]
     },
     "metadata": {},
     "output_type": "display_data"
    }
   ],
   "source": [
    "nrow(blood)"
   ]
  },
  {
   "cell_type": "code",
   "execution_count": null,
   "metadata": {
    "kernel": "R"
   },
   "outputs": [],
   "source": []
  }
 ],
 "metadata": {
  "kernelspec": {
   "display_name": "SoS",
   "language": "sos",
   "name": "sos"
  },
  "language_info": {
   "codemirror_mode": "sos",
   "file_extension": ".sos",
   "mimetype": "text/x-sos",
   "name": "sos",
   "nbconvert_exporter": "sos_notebook.converter.SoS_Exporter",
   "pygments_lexer": "sos"
  },
  "sos": {
   "kernels": [
    [
     "R",
     "ir",
     "R",
     "#DCDCDA",
     ""
    ]
   ],
   "version": "0.21.21"
  }
 },
 "nbformat": 4,
 "nbformat_minor": 4
}
