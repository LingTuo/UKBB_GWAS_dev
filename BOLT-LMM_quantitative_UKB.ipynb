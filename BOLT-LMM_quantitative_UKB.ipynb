{
 "cells": [
  {
   "cell_type": "markdown",
   "metadata": {
    "kernel": "SoS"
   },
   "source": [
    "# BOLT-LMM analyses for UK Biobank data: quantitative traits"
   ]
  },
  {
   "cell_type": "markdown",
   "metadata": {
    "kernel": "SoS"
   },
   "source": [
    "## Aim"
   ]
  },
  {
   "cell_type": "markdown",
   "metadata": {
    "kernel": "SoS"
   },
   "source": [
    "To perfom genetic association analysis for quantitative traits (waist-to-hip ratio, waist circumference, BMI, blood lipids) using BOLT-LMM software and UK Biobank imputed data of ~500K invidivuals"
   ]
  },
  {
   "cell_type": "markdown",
   "metadata": {
    "kernel": "SoS"
   },
   "source": [
    "## Method and workflow overview"
   ]
  },
  {
   "cell_type": "markdown",
   "metadata": {
    "kernel": "SoS"
   },
   "source": [
    "1. Download data from UKB: phenotype, genotypes files (`.fam`,`.bed`, `.bim`) and imputed genotypes (`.bgen`, `.bgi`, `.sample`)\n",
    "2. Install BOLT-LMM in Yale's Farnam cluster. To install for source code follow instructions here: https://data.broadinstitute.org/alkesgroup/BOLT-LMM/#x1-70002.2\n",
    "3. Run BOLT-LMM analysis to obtain summary statistics for association analysis"
   ]
  },
  {
   "cell_type": "markdown",
   "metadata": {
    "kernel": "SoS"
   },
   "source": [
    "## Input data"
   ]
  },
  {
   "cell_type": "markdown",
   "metadata": {
    "kernel": "SoS"
   },
   "source": [
    "1. Genotype file for constructing the GRM (genetic relationship matrix) formated as a plink binary file `--bfile=prefix`\n",
    "2. Reference genetic maps `--geneticMapFile=tables/genetic_map_hg##.txt.gz`\n",
    "3. Imputed genotype dosages in `.bgen` format specify the options with  `--bgenFile` and ` --sampleFile`\n",
    "4. Phenotype file (white space delimited file with column headers, first two columns should be FID and IID) specify files by options `--phenoFile` and the phenotype to be analized by `--phenoCol`\n",
    "5. Covariates file (same format as phenoFile) specify them by `--covarFile` for qualitative covariates use `--covarCol` and for quantitative `--qCovarCol`. Use `--covarMaxLevels` to specify the number of categories of a qualitative covariate. To specify an array of quantitative covariates use `--qCovarCol=PC{1:20}`\n",
    "\n",
    "Note: reference genome used **GRCh37/hg19**"
   ]
  },
  {
   "cell_type": "markdown",
   "metadata": {
    "kernel": "SoS"
   },
   "source": [
    "## Global parameter setting"
   ]
  },
  {
   "cell_type": "code",
   "execution_count": null,
   "metadata": {
    "kernel": "SoS"
   },
   "outputs": [],
   "source": [
    "[global]\n",
    "# the output directory for generated files\n",
    "parameter: cwd = path('~/results/pleiotropy/2020-04_bolt/INT-BMI/')\n",
    "# Path to sample file\n",
    "parameter: sampleFile = path('/SAY/dbgapstg/scratch/UKBiobank/genotype_files/ukb39554_imputeddataset/ukb32285_imputedindiv.sample')\n",
    "# Genotype files in plink binary this is used for computing the GRM\n",
    "parameter: bfile = path('/SAY/dbgapstg/scratch/UKBiobank/genotype_files/pleiotropy_geneticfiles/UKB_Caucasians_phenotypeindepqc120319_updated020720removedwithdrawnindiv')\n",
    "# Path to bgen files \n",
    "parameter: bgenFile = paths([f'/SAY/dbgapstg/scratch/UKBiobank/genotype_files/ukb39554_imputeddataset/ukb_imp_chr{x+1}_v3.bgen' for x in range(22)])\n",
    "# Phenotype file for quantitative trait (BMI)\n",
    "parameter: phenoFile = path('/SAY/dbgapstg/scratch/UKBiobank/phenotype_files/pleiotropy_R01/phenotypesforanalysis/') \n",
    "# Phenotype to be analyzed (specify the column)\n",
    "parameter: phenoCol = 'rankNorm_BMI'\n",
    "# Covariate file path\n",
    "parameter: covarFile = path('/SAY/dbgapstg/scratch/UKBiobank/phenotype_files/pleiotropy_R01/phenotypesforanalysis/UKB_caucasians_BMIwaisthip_AsthmaAndT2D_withagesex_033120')\n",
    "# Qualitative covariates to be used in the analysis\n",
    "parameter: covarCol1 = 'SEX'\n",
    "# Maximum categories of covariates allowed \n",
    "parameter: covarMaxLevels = 10\n",
    "# Quantitative covariates to be used in the analysis\n",
    "parameter: qCovarCol2 = 'AGE'\n",
    "#parameter: qCovarCol3 = 'PC{1:10}' # if we are going to use PC as covariates uncomment\n",
    "# Path to LDscore file for european population\n",
    "parameter: LDscoresFile = path('~/software/BOLT-LMM_v2.3.4/tables/LDSCORE.1000G_EUR.tab.gz')\n",
    "# Path to genetic map file used to interpolate genetic map coordinates from SNP physical (base pair) positions\n",
    "parameter: geneticMapFile = path('~/software/BOLT-LMM_v2.3.4/tables/genetic_map_hg19_withX.txt.gz')\n",
    "# Specific number of threads to use\n",
    "parameter: numThreads = 20\n",
    "# Minimum MAF to be used\n",
    "parameter: bgenMinMAF = 0.001\n",
    "# Mimimum info score to be used\n",
    "parameter: bgenMinINFO = 0.8\n",
    "# For cluster jobs, number commands to run per job\n",
    "parameter: job_size = 1"
   ]
  },
  {
   "cell_type": "markdown",
   "metadata": {
    "kernel": "SoS"
   },
   "source": [
    "## Running BOLT-LMM\n",
    "\n",
    "On Yale Farnam cluster,\n",
    "\n",
    "```\n",
    "PHEN_DIR=/home/dc2325/phenotypes_UKB/\n",
    "sos run pleiotropy_UKB/BOLT-LMM_quantitative_UKB.ipynb bolt -c pleiotropy_UKB/farnam.yml -q farnam -J 40 \\\n",
    "   --phenoFile $PHEN_DIR/UKB_caucasians_BMIwaisthip_AsthmaAndT2D_INT-BMI_withagesex_041720\n",
    "```\n",
    "\n",
    "```\n",
    "PHEN_DIR=/SAY/dbgapstg/scratch/UKBiobank/phenotype_files/pleiotropy_R01/phenotypesforanalysis/\n",
    "sos run pleiotropy_UKB/BOLT-LMM_quantitative_UKB.ipynb bolt -c pleiotropy_UKB/farnam.yml -q farnam -J 40 \\\n",
    "   --phenoFile $PHEN_DIR/UKB_caucasians_BMI_nopreg_adjagesex_residuals_andstandardized_022720\n",
    "```\n",
    "\n",
    "```\n",
    "PHEN_DIR=/SAY/dbgapstg/scratch/UKBiobank/phenotype_files/pleiotropy_R01/phenotypesforanalysis/\n",
    "sos run pleiotropy_UKB/BOLT-LMM_quantitative_UKB.ipynb bolt -c pleiotropy_UKB/farnam.yml -q farnam -J 40 \\\n",
    "   --phenoFile $PHEN_DIR/UKB_caucasians_waistcircumference_adjbmiagesex_nopreg_residuals_022720\n",
    "```\n",
    "\n",
    "```\n",
    "PHEN_DIR=/home/dc2325/phenotypes_UKB/\n",
    "sos run pleiotropy_UKB/BOLT-LMM_quantitative_UKB.ipynb bolt -c pleiotropy_UKB/farnam.yml -q farnam -J 40 \\\n",
    "   --phenoFile $PHEN_DIR/UKB_caucasians_BMIwaisthip_AsthmaAndT2D_INT-WHR_withagesex_042020\n",
    "```\n",
    "\n",
    "On a local computer with for example 8 threads,\n",
    "\n",
    "```\n",
    "sos run BOLT-LMM_quantitative_UKB.ipynb bolt -q none -j 8\n",
    "```"
   ]
  },
  {
   "cell_type": "markdown",
   "metadata": {
    "kernel": "SoS"
   },
   "source": [
    "## Workflow implementation details\n",
    "\n",
    "**A note for developers**: it is important to have input and output for each step. Input files and output files are best derived from one another."
   ]
  },
  {
   "cell_type": "code",
   "execution_count": 1,
   "metadata": {
    "kernel": "SoS"
   },
   "outputs": [],
   "source": [
    "[bolt]\n",
    "depends: executable(\"bolt\")\n",
    "input: bgenFile, group_by = 1\n",
    "output: f'{cwd}/{_input:bn}.{phenoFile:b}.BoltLMM.stats.gz'\n",
    "task: trunk_workers = 1, trunk_size = job_size, walltime = '48h', mem = '60G', cores = numThreads, tags = f'{step_name}_{_output:bn}'\n",
    "bash: expand = \"${ }\", workdir = cwd, stderr = f'{_output:n}.stderr', stdout = f'{_output:n}.stdout'\n",
    "  bolt \\\n",
    "    --bfile=${bfile} \\\n",
    "    --phenoFile=${phenoFile} \\\n",
    "    --phenoCol=${phenoCol} \\\n",
    "    --covarFile=${covarFile} \\\n",
    "    --covarCol=${covarCol1} \\\n",
    "    --covarMaxLevels=${covarMaxLevels} \\\n",
    "    --qCovarCol=${qCovarCol2} \\\n",
    "    --LDscoresFile=${LDscoresFile} \\\n",
    "    --geneticMapFile=${geneticMapFile} \\\n",
    "    --lmm \\\n",
    "    --numThreads=${numThreads} \\\n",
    "    --statsFile=${_output} \\\n",
    "    --bgenFile=${_input} \\\n",
    "    --bgenMinMAF=${bgenMinMAF} \\\n",
    "    --bgenMinINFO=${bgenMinINFO} \\\n",
    "    --sampleFile=${sampleFile} \\\n",
    "    --statsFileBgenSnps=${_output:nn}.snp_stats.gz \\\n",
    "    --verboseStats"
   ]
  },
  {
   "cell_type": "markdown",
   "metadata": {
    "kernel": "bash"
   },
   "source": [
    "## Results"
   ]
  },
  {
   "cell_type": "code",
   "execution_count": null,
   "metadata": {
    "kernel": "SoS"
   },
   "outputs": [],
   "source": [
    "%cd ~/results/pleiotropy/2020-04_bolt"
   ]
  }
 ],
 "metadata": {
  "kernelspec": {
   "display_name": "SoS",
   "language": "sos",
   "name": "sos"
  },
  "language_info": {
   "codemirror_mode": "sos",
   "file_extension": ".sos",
   "mimetype": "text/x-sos",
   "name": "sos",
   "nbconvert_exporter": "sos_notebook.converter.SoS_Exporter",
   "pygments_lexer": "sos"
  },
  "sos": {
   "kernels": [
    [
     "R",
     "ir",
     "R",
     "#DCDCDA",
     ""
    ],
    [
     "SoS",
     "sos",
     "",
     "",
     "sos"
    ]
   ],
   "version": "0.21.7"
  }
 },
 "nbformat": 4,
 "nbformat_minor": 4
}
