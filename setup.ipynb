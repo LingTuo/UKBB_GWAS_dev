{
 "cells": [
  {
   "cell_type": "markdown",
   "metadata": {
    "kernel": "SoS"
   },
   "source": [
    "# Setting up the computer environment"
   ]
  },
  {
   "cell_type": "markdown",
   "metadata": {
    "kernel": "SoS"
   },
   "source": [
    "## Accessing Yale HPC cluster"
   ]
  },
  {
   "cell_type": "markdown",
   "metadata": {
    "kernel": "SoS"
   },
   "source": [
    "Using AnyConnect to establish connection:\n",
    "\n",
    "* VNP: access.yale.edu\n",
    "* username: dc2325\n",
    "* MFA: push # after this accept the access in the duo mobile app\n",
    "\n",
    "Using Linux terminal command:"
   ]
  },
  {
   "cell_type": "code",
   "execution_count": null,
   "metadata": {
    "kernel": "Bash"
   },
   "outputs": [],
   "source": [
    "sudo openconnect -u dc2325 access.yale.edu"
   ]
  },
  {
   "cell_type": "markdown",
   "metadata": {
    "kernel": "Bash"
   },
   "source": [
    "\n",
    "Then type password at first password prompt, and `push` at 2nd password prompt. After this accept the access in the duo mobile app.\n",
    "\n",
    "Before you can login you must provide the public key of your computer to the server. To do so, please visit: https://secure.its.yale.edu/cas/login to login, then provide the key at http://gold.hpc.yale.internal/cgi-bin/sshkeys.py\n",
    "\n",
    "To login from the terminal:"
   ]
  },
  {
   "cell_type": "code",
   "execution_count": null,
   "metadata": {
    "kernel": "Bash"
   },
   "outputs": [],
   "source": [
    "ssh dc2325@farnam.hpc.yale.edu"
   ]
  },
  {
   "cell_type": "markdown",
   "metadata": {
    "kernel": "Bash"
   },
   "source": [
    "## Loading and listing modules in your environment\n",
    "\n",
    "```\n",
    "$ module avail # For a list of modules available to use\n",
    "$ module list # Displays all of the module files that are currently loaded in your environment\n",
    "$ module avail python # To look for specific modules\n",
    "$ module spider # Displays a description of all available modules\n",
    "\n",
    "```"
   ]
  },
  {
   "cell_type": "markdown",
   "metadata": {
    "kernel": "Bash"
   },
   "source": [
    "## Installing software in your $HOME directory"
   ]
  },
  {
   "cell_type": "markdown",
   "metadata": {
    "kernel": "Bash"
   },
   "source": [
    "### BOLT-LMM installation"
   ]
  },
  {
   "cell_type": "markdown",
   "metadata": {
    "kernel": "Bash"
   },
   "source": [
    "For local installs add these lines to your ~/.bash_profile\n",
    "```\n",
    "# local installs\n",
    "export MY_PREFIX=~/software\n",
    "export PATH=$MY_PREFIX/bin:$PATH\n",
    "export LD_LIBRARY_PATH=$MY_PREFIX/lib:$LD_LIBRARY_PATH\n",
    "```"
   ]
  },
  {
   "cell_type": "markdown",
   "metadata": {
    "kernel": "Markdown"
   },
   "source": [
    "Then install the package:\n",
    "\n",
    "```\n",
    "cd ~/software && mkdir bin lib && \\\n",
    "wget https://data.broadinstitute.org/alkesgroup/BOLT-LMM/downloads/BOLT-LMM_v2.3.4.tar.gz && \\\n",
    "tar -zxvf BOLT-LMM_v2.3.4.tar.gz && \\\n",
    "rm -rf BOLT-LMM_v2.3.4.tar.gz && \\\n",
    "cp BOLT-LMM_v2.3.4/bolt ~/software/bin/ && \\\n",
    "cp BOLT-LMM_v2.3.4/lib/* ~/software/lib/\n",
    "```"
   ]
  },
  {
   "cell_type": "code",
   "execution_count": null,
   "metadata": {
    "kernel": "Bash"
   },
   "outputs": [],
   "source": []
  }
 ],
 "metadata": {
  "kernelspec": {
   "display_name": "SoS",
   "language": "sos",
   "name": "sos"
  },
  "language_info": {
   "codemirror_mode": "sos",
   "file_extension": ".sos",
   "mimetype": "text/x-sos",
   "name": "sos",
   "nbconvert_exporter": "sos_notebook.converter.SoS_Exporter",
   "pygments_lexer": "sos"
  },
  "sos": {
   "kernels": [
    [
     "Bash",
     "bash",
     "Bash",
     "#E6EEFF",
     "shell"
    ],
    [
     "Markdown",
     "markdown",
     "markdown",
     "",
     ""
    ]
   ],
   "version": "0.21.7"
  }
 },
 "nbformat": 4,
 "nbformat_minor": 4
}
