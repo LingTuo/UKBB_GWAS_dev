{
 "cells": [
  {
   "cell_type": "markdown",
   "id": "ec0f47d1-748b-4c41-9c4d-d128f53a72c9",
   "metadata": {
    "kernel": "SoS",
    "tags": []
   },
   "source": [
    "## Solve problem with sample names not matching for chr 2 and chr 22"
   ]
  },
  {
   "cell_type": "markdown",
   "id": "81fb49d0-626d-4f51-a044-eb925cf0f40f",
   "metadata": {
    "kernel": "SoS"
   },
   "source": [
    "Problem: some blocks of chr 2 (58 onwards) and chr20  (3 onwards) had different number of available samples. During the download of the first blocks and the last blocks 3 more individuals were set to missing (withdrew from study) by the UKBB. Therefore, here I describe the patch to solve this problem on the data\n",
    "\n",
    "samples_name.txt: format old_name new_name\\n\n",
    "```\n",
    "chr2_b57_v1_original chr2_b58_v1_original\n",
    "-000001 -000002\n",
    "-000002 -000003\n",
    "3081695 -000004\n",
    "-000003 -000005\n",
    "-000004 -000006\n",
    "-000005 -000007\n",
    "-000006 -000008\n",
    "-000007 -000009\n",
    "-000009 -000011\n",
    "-000010 -000012\n",
    "-000011 -000013\n",
    "2284688 -000014\n",
    "-000012 -000015\n",
    "-000013 -000016\n",
    "-000014 -000017\n",
    "-000015 -000018\n",
    "1533484 -000001\n",
    "```\n",
    "Note: between downloads on the UKBB the missing samples id are shuffled creating problems in the merge\n",
    "\n",
    "```\n",
    "diff -y ukb23156_c2_b57_v1.samples ukb23156_c2_b58_v1.samples > differentb57_b58\n",
    "diff -y ukb23156_c20_b0_v1.samples ukb23156_c20_b3_v1.samples > different_chr20_b0_b3\n",
    "comm <(sort ukb23156_c1.merged.filtered.bed.merged_allchr.fam) <(sort ukb23156_c1.merged.filtered.bed.keep_samples.id) -3\n",
    "```\n",
    "Find which plink files need to be replaced all but chr2 and chr20\n",
    "```\n",
    "egrep \"1533484|2284688|3081695\" *.fam\n",
    "\n",
    "for file in ukb23156_c*.merged.filtered.fam; do\n",
    "awk -v OFS=' ' 'NR==FNR{a[$1]=$2;next} $1 in a{$1=a[$1]} {print $1,$1,$3,$4,$5,$6}' samples_to_rename_vcf.txt $file > ${file%.*}.new.fam;\n",
    "done\n",
    "```"
   ]
  },
  {
   "cell_type": "markdown",
   "id": "c367dee5-2d88-4aa0-8a8c-fc5945a34451",
   "metadata": {
    "kernel": "SoS"
   },
   "source": [
    "## To run notebook"
   ]
  },
  {
   "cell_type": "markdown",
   "id": "e1d8a1ea-9033-41a3-b790-225b29c1c9db",
   "metadata": {
    "kernel": "SoS"
   },
   "source": [
    "```\n",
    "sos run /home/dmc2245/project/UKBB_GWAS_dev/workflow/patch_vcf_files.ipynb reheader \\\n",
    "    --cwd  /mnt/mfs/statgen/UKBiobank/data/exome_files/project_VCF/072721_run/ \\\n",
    "    --vcfs /mnt/mfs/statgen/UKBiobank/data/exome_files/project_VCF/072721_run/cache/ukb23156_c2_b{0..57}_v1.leftnorm.filtered.vcf.gz \\\n",
    "    --samples_name /mnt/mfs/statgen/UKBiobank/plink_files/samples_to_rename_vcf.txt \\\n",
    "    --container_lmm /mnt/mfs/statgen/containers/lmm.sif\n",
    "```"
   ]
  },
  {
   "cell_type": "code",
   "execution_count": null,
   "id": "0e241429-a5a8-4983-ac26-83b5edba6563",
   "metadata": {
    "kernel": "SoS"
   },
   "outputs": [],
   "source": [
    "[global]\n",
    "# the output directory for generated files\n",
    "parameter: cwd = path\n",
    "# pVCF files \n",
    "parameter: vcfs = paths\n",
    "# samples file which contains sample names to be changed\n",
    "parameter: samples_name = path\n",
    "# Container with bcftools\n",
    "parameter: container_lmm = 'statisticalgenetics/lmm:2.4'\n",
    "# Number of threads\n",
    "parameter: numThreads = 2\n",
    "# For cluster jobs, number commands to run per job\n",
    "parameter: job_size = 10"
   ]
  },
  {
   "cell_type": "code",
   "execution_count": null,
   "id": "a34e1ace-f163-4a4d-81fc-4b7a52be3add",
   "metadata": {
    "kernel": "SoS"
   },
   "outputs": [],
   "source": [
    "# Change names of problematic samples during merging\n",
    "[reheader]\n",
    "input: vcfs, group_by=1\n",
    "output: f'{cwd}/reheader/{_input:bnn}.vcf.gz'\n",
    "task: trunk_workers = 1, trunk_size=job_size, walltime = '12h', mem = '30G', cores = numThreads, tags = f'{step_name}_{_output:bn}'\n",
    "bash: container = container_lmm, expand= \"${ }\", stderr = f'{_output:n}.stderr', stdout = f'{_output:n}.stdout'\n",
    "\n",
    "    bcftools reheader -s ${samples_name} -o ${_output} ${_input}"
   ]
  },
  {
   "cell_type": "markdown",
   "id": "98f7a192-273e-4213-9f04-e91491616acd",
   "metadata": {
    "kernel": "SoS"
   },
   "source": [
    "### Script to merge and then patch plink files"
   ]
  },
  {
   "cell_type": "code",
   "execution_count": null,
   "id": "341d4e7f-f812-4b12-ac34-19f955e67eaa",
   "metadata": {
    "kernel": "SoS"
   },
   "outputs": [],
   "source": [
    "[]\n",
    "rm -f list_beds.txt\n",
    "for chr in {2..22}; do echo \"ukb23156_c${chr}.merged.filtered.bed ukb23156_c${chr}.merged.filtered.bim ukb23156_c${chr}.merged.filtered.bed\" >> list_beds.txt; done\n",
    "\n",
    "plink \\\n",
    "  --bed ukb_cal_chr1_v2.bed \\\n",
    "  --bim ukb_snp_chr1_v2.bim \\\n",
    "  --fam ukbXXX_int_chr1_v2_s488373.fam \\\n",
    "  --merge-list list_beds.txt \\\n",
    "  --make-bed --out ukb_cal_allChrs"
   ]
  }
 ],
 "metadata": {
  "kernelspec": {
   "display_name": "SoS",
   "language": "sos",
   "name": "sos"
  },
  "language_info": {
   "codemirror_mode": "sos",
   "file_extension": ".sos",
   "mimetype": "text/x-sos",
   "name": "sos",
   "nbconvert_exporter": "sos_notebook.converter.SoS_Exporter",
   "pygments_lexer": "sos"
  },
  "sos": {
   "kernels": [
    [
     "SoS",
     "sos",
     "",
     ""
    ]
   ],
   "version": "0.22.6"
  }
 },
 "nbformat": 4,
 "nbformat_minor": 5
}
