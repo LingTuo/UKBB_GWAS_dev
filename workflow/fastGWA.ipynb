{
 "cells": [
  {
   "cell_type": "markdown",
   "metadata": {
    "kernel": "SoS"
   },
   "source": [
    "# fastGWA analyses for UK Biobank data\n",
    "\n",
    "For binary and quantitative traits."
   ]
  },
  {
   "cell_type": "markdown",
   "metadata": {
    "kernel": "SoS"
   },
   "source": [
    "### Aim"
   ]
  },
  {
   "cell_type": "markdown",
   "metadata": {
    "kernel": "SoS"
   },
   "source": [
    "To perfom genetic association analysis for binary traits (asthma and type 2 diabetes) using fastGWA software and UK Biobank imputed data of ~500K invidivuals"
   ]
  },
  {
   "cell_type": "markdown",
   "metadata": {
    "kernel": "SoS"
   },
   "source": [
    "### Method and worflow overview"
   ]
  },
  {
   "cell_type": "markdown",
   "metadata": {
    "kernel": "SoS"
   },
   "source": [
    "1. Data from UKB: phenotype, genotypes files (`.fam`,`.bed`, `.bim`) and imputed genotypes (`.bgen`, `.bgi`, `.sample`)\n",
    "2. Install fastGWA part of the GCTA software in Yale's HRC cluster (in this case binary file is being used). Instructions can be found in https://cnsgenomics.com/software/gcta/#Download\n",
    "3. Run fastGWA analysis to obtain summary statistics for association analysis of binary traits"
   ]
  },
  {
   "cell_type": "markdown",
   "metadata": {
    "kernel": "SoS"
   },
   "source": [
    "### Input data"
   ]
  },
  {
   "cell_type": "markdown",
   "metadata": {
    "kernel": "SoS"
   },
   "source": [
    "Step 1: Create the Genetic Relationship Matrix\n",
    "1. genotypic file in PLINK binary format: `.bin`, `.fam`, `.bed`\n",
    "2. phenotypic file: is needed in plink format `.phe`\n",
    "\n",
    "Asthma:\n",
    "```\n",
    "~/project/phenotypes_UKB/Asthma_casesbyICD10codesANDselfreport_controlsbyselfreportandicd10_noautoimmuneincontrols_fastGWA.phe\n",
    "~/project/phenotypes_UKB/Asthma_casesbyICD10codesANDselfreport_controlsbyselfreportandicd10_noautoimmuneincontrols_fastGWA_covSEX.txt\n",
    "~/project/phenotypes_UKB/Asthma_casesbyICD10codesANDselfreport_controlsbyselfreportandicd10_noautoimmuneincontrols_fastGWA_covAGE.txt\n",
    "```\n",
    "\n",
    "Diabetes:\n",
    "\n",
    "```\n",
    "~/project/phenotypes_UKB/diabetes_casesbyICD10andselfreport_controlswithoutautoiummune_052820_fastGWA.phe\n",
    "~/project/phenotypes_UKB/diabetes_casesbyICD10andselfreport_controlswithoutautoiummune_052820_fastGWA_covSEX.txt\n",
    "~/project/phenotypes_UKB/diabetes_casesbyICD10andselfreport_controlswithoutautoiummune_052820_fastGWA_covAGE.txt\n",
    "```\n",
    "\n",
    "3. covariates file: is in PLINK format\n",
    "\n",
    "```\n",
    "--make-grm\n",
    "--make-grm-bin\n",
    "--make-grm-part m i\n",
    "```"
   ]
  },
  {
   "cell_type": "markdown",
   "metadata": {
    "kernel": "SoS"
   },
   "source": [
    "## Running fastGWA"
   ]
  },
  {
   "cell_type": "markdown",
   "metadata": {
    "kernel": "SoS"
   },
   "source": [
    "On Yale Farnam cluster,\n",
    "\n",
    "Asthma\n",
    "\n",
    "```\n",
    "sos run ~/project/pleiotropy_UKB/workflow/fastGWA.ipynb -c ~/project/pleiotropy_UKB/farnam.yml -q farnam -J 100 -s build &> sos-submission-fastGWA-asthma-051920.log\n",
    "```\n",
    "\n",
    "Diabetes\n",
    "```\n",
    "sos run ~/project/pleiotropy_UKB/workflow/fastGWA.ipynb -c ~/project/pleiotropy_UKB/farnam.yml -q farnam -J 100 -s build &> sos-submission-fastGWA-diabetes-052820.log\n",
    "```"
   ]
  },
  {
   "cell_type": "code",
   "execution_count": null,
   "metadata": {
    "kernel": "SoS"
   },
   "outputs": [],
   "source": [
    "[global]\n",
    "# the output directory for generated files\n",
    "parameter: cwd = path('~/scratch60/2020-04_fastGWA/asthma')\n",
    "# Genotype file in plink binary format\n",
    "parameter: genoFile = path('/SAY/dbgapstg/scratch/UKBiobank/genotype_files/pleiotropy_geneticfiles/UKB_Caucasians_phenotypeindepqc120319_updated020720removedwithdrawnindiv.bed')\n",
    "# Path to bgen files\n",
    "parameter: bgenFile = paths([f'/SAY/dbgapstg/scratch/UKBiobank/genotype_files/ukb39554_imputeddataset/ukb_imp_chr{x+1}_v3.bgen' for x in range(22)])\n",
    "# Path to sample file\n",
    "parameter: sampleFile = path('/SAY/dbgapstg/scratch/UKBiobank/genotype_files/ukb39554_imputeddataset/ukb32285_imputedindiv.sample')\n",
    "# Phenotype file for binary trait 1 (asthma) This is the original file\n",
    "#parameter: phenoFile = path('/SAY/dbgapstg/scratch/UKBiobank/phenotype_files/pleiotropy_R01/phenotypesforanalysis/Asthma_casesbyICD10codesANDselfreport_controlsbyselfreportandicd10_noautoimmuneincontrols_forbolt030720')\n",
    "# Phenotype file for binary trait 1 (asthma) This is the created file with fastGWA formatting\n",
    "parameter: phenoFile = path('~/project/phenotypes_UKB/diabetes_casesbyICD10andselfreport_controlswithoutautoiummune_052820_fastGWA.phe')\n",
    "# Qualitative (SEX) covariates file for binary trait=asthma. This is the created file with fastGWA formatting\n",
    "parameter: covarFile = path('~/project/phenotypes_UKB/diabetes_casesbyICD10andselfreport_controlswithoutautoiummune_052820_fastGWA_covSEX.txt')\n",
    "# Quantitative covariates (AGE) for binary trait=asthma. This is the created file with fastGWA formatting\n",
    "parameter: qcovarFile = path('~/project/phenotypes_UKB/diabetes_casesbyICD10andselfreport_controlswithoutautoiummune_052820_fastGWA_covAGE.txt')\n",
    "# Minimum MAF to be used\n",
    "parameter: bgenMinMAF = 0.001\n",
    "# Mimimum info score to be used\n",
    "parameter: bgenMinINFO = 0.8\n",
    "# Number of parts the GRM calculation is to be partitioned\n",
    "parameter: parts = 100\n",
    "# Specific number of threads to use\n",
    "parameter: numThreads = 6\n",
    "# For cluster jobs, number commands to run per job\n",
    "parameter: job_size = 1"
   ]
  },
  {
   "cell_type": "markdown",
   "metadata": {
    "kernel": "SoS"
   },
   "source": [
    "## Step 1: Creation of the GRM\n",
    "The GRM only needs to be created once for all the phenotypes to analyze with the same genotypic data. In this step the GRM calculation is divided into multiple parts for a faster computational time."
   ]
  },
  {
   "cell_type": "code",
   "execution_count": null,
   "metadata": {
    "kernel": "SoS"
   },
   "outputs": [],
   "source": [
    "# Partition the GRM into 100 parts and allocate 8GB memory to each job\n",
    "[gcta_1]\n",
    "depends: executable(\"gcta64\")\n",
    "# Number of partition for the current run\n",
    "part_number = [f'{parts}_{format(x+1, \"0\" + str(len(str(parts))))}' for x in range(parts)]\n",
    "input: genoFile, for_each = 'part_number'\n",
    "output: f'{cwd}/{_input:bn}.part_{_part_number}.grm.bin', \n",
    "        f'{cwd}/{_input:bn}.part_{_part_number}.grm.N.bin', \n",
    "        f'{cwd}/{_input:bn}.part_{_part_number}.grm.id'\n",
    "task: trunk_workers = 1, trunk_size = job_size, walltime = '48h', mem = '48G', cores = numThreads, tags = f'{step_name}_{_output[0]:bn}'\n",
    "bash: expand = \"${ }\", workdir = cwd, stderr = False , stdout = False\n",
    "    gcta64 \\\n",
    "    --bfile ${_input[0]:n} \\\n",
    "    --make-grm-part ${parts} ${_part_number} \\\n",
    "    --thread-num ${numThreads} \\\n",
    "    --out ${_output[0]:nnn}"
   ]
  },
  {
   "cell_type": "markdown",
   "metadata": {
    "kernel": "SoS"
   },
   "source": [
    "## Step 2: Combine all the GRM parts into one file"
   ]
  },
  {
   "cell_type": "code",
   "execution_count": null,
   "metadata": {
    "kernel": "SoS"
   },
   "outputs": [],
   "source": [
    "# Merge all the parts together (Linux, Mac)\n",
    "[gcta_2]\n",
    "input: group_by = 'all'\n",
    "output: f'{cwd}/{genoFile:bn}.grm.bin', \n",
    "        f'{cwd}/{genoFile:bn}.grm.N.bin', \n",
    "        f'{cwd}/{genoFile:bn}.grm.id' \n",
    "bash: expand = \"${ }\", workdir = cwd, stderr = f'{_output[0]:n}.stderr', stdout = f'{_output[0]:n}.stdout'\n",
    "    # here input is results all parts each having 3 items. We need to get the corresponding every other 3 items\n",
    "    cat ${paths(_input[::3])} > ${_output[0]}\n",
    "    cat ${paths(_input[1::3])} > ${_output[1]}\n",
    "    cat ${paths(_input[2::3])} > ${_output[2]}\n",
    "    #rm ${paths(_input)}"
   ]
  },
  {
   "cell_type": "markdown",
   "metadata": {
    "kernel": "SoS"
   },
   "source": [
    "## Step 3: Make a sparse GRM to be used in the association analyses"
   ]
  },
  {
   "cell_type": "code",
   "execution_count": null,
   "metadata": {
    "kernel": "SoS"
   },
   "outputs": [],
   "source": [
    "# Make a sparse GRM from the merged full-dense GRM\n",
    "[gcta_3]\n",
    "depends: executable(\"gcta64\")\n",
    "output: sparse_grm = f'{_input[0]:nn}.grm.sp' \n",
    "task: trunk_workers = 1, trunk_size = job_size, walltime = '48h', mem = '48G', cores = 1, tags = f'{step_name}_{_output:bn}'\n",
    "bash: expand = \"${ }\", workdir = cwd, stderr = f'{_output}.stderr', stdout = f'{_output}.stdout'\n",
    "    gcta64 --grm ${_output[0]:nn} --make-bK-sparse 0.05 --out ${_output[0]:nn}"
   ]
  },
  {
   "cell_type": "markdown",
   "metadata": {
    "kernel": "SoS"
   },
   "source": [
    "## Step 4: Run the single variant association analysis using FastGWA"
   ]
  },
  {
   "cell_type": "code",
   "execution_count": null,
   "metadata": {
    "kernel": "SoS"
   },
   "outputs": [],
   "source": [
    "# fastGWA mixed model (based on the sparse GRM generated above)\n",
    "[fastGWA]\n",
    "depends: executable(\"gcta64\")\n",
    "input: bgenFile, group_by = 1, group_with = dict(info=[(phenoFile, sampleFile, named_output('sparse_grm')[0], qcovarFile, covarFile)] * len(bgenFile))\n",
    "output: f'{cwd}/{_input[0]:nn}.{_input.info[0]:n}.fastGWA', f'{cwd}/{_input[0]:nn}.{_input.info[0]:n}.log'\n",
    "task: trunk_workers = 1, trunk_size = job_size, walltime = '48h', mem = '48G', cores = numThreads, tags = f'{step_name}_{_output[1]:bn}'\n",
    "bash: expand = \"${ }\", workdir = cwd, stderr = False, stdout = False\n",
    "    gcta64 \\\n",
    "    --bgen ${_input} \\\n",
    "    --sample  ${_input.info[1]} \\\n",
    "    --grm-sparse ${_input.info[2]:nn} \\\n",
    "    --maf ${bgenMinMAF} \\\n",
    "    --info ${bgenMinINFO} \\\n",
    "    --fastGWA-mlm \\\n",
    "    --pheno ${_input.info[0]} \\\n",
    "    --qcovar ${_input.info[3]} \\\n",
    "    --covar ${_input.info[4]} \\\n",
    "    --threads ${numThreads} \\\n",
    "    --out ${_output[0]:n}\n",
    "    \n",
    "    mv ${_output[1]} ${_output[1]:n}.fastGWA.log"
   ]
  },
  {
   "cell_type": "markdown",
   "metadata": {
    "kernel": "SoS"
   },
   "source": [
    "### Output files"
   ]
  },
  {
   "cell_type": "markdown",
   "metadata": {
    "kernel": "SoS"
   },
   "source": [
    "1. **gcta_1 for x number of parts (in the example above x=100, so this step will create 400 files):**\n",
    "* test.part_{_part_number}.grm.bin\n",
    "* test.part_{_part_number}.grm.N.bin \n",
    "* test.part_{_part_number}.grm.id\n",
    "* test.part_{_part_number}.log (the program creates the log file so there is no need for .stderr and .stdout)\n",
    "\n",
    "2. **gcta_2 this step creates 5 output files:**\n",
    "* test.grm.bin (it is a binary file which contains the lower triangle elements of the GRM)\n",
    "* test.grm.N.bin (it is a binary file which contains the number of SNPs used to calculate the GRM)\n",
    "* test.grm.id (no header line; columns are family ID and individual ID, see above)\n",
    "* test.grm.stderr\n",
    "* test.grm.stdout\n",
    "\n",
    "3. **gcta_3 this step creates 3 output files:**\n",
    "* test.grm.sp (sparse GRM made from the dense GRM)\n",
    "* test.grm.sp.stderr\n",
    "* test.grm.sp.stdout\n",
    "\n",
    "4. **fastGWA this step creates 2 output files per chromosome**\n",
    "* test{chr1:22}.fastGWA\n",
    "* test{chr1:22}.fastGWA.log"
   ]
  },
  {
   "cell_type": "code",
   "execution_count": null,
   "metadata": {
    "kernel": "SoS"
   },
   "outputs": [],
   "source": []
  }
 ],
 "metadata": {
  "kernelspec": {
   "display_name": "SoS",
   "language": "sos",
   "name": "sos"
  },
  "language_info": {
   "codemirror_mode": "sos",
   "file_extension": ".sos",
   "mimetype": "text/x-sos",
   "name": "sos",
   "nbconvert_exporter": "sos_notebook.converter.SoS_Exporter",
   "pygments_lexer": "sos"
  },
  "sos": {
   "kernels": [
    [
     "SoS",
     "sos",
     "",
     ""
    ]
   ],
   "version": "0.21.7"
  }
 },
 "nbformat": 4,
 "nbformat_minor": 4
}
