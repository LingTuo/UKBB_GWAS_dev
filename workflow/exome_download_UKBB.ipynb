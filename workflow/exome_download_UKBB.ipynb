{
 "cells": [
  {
   "cell_type": "markdown",
   "metadata": {
    "kernel": "SoS"
   },
   "source": [
    "# Download the exome data from UKBB"
   ]
  },
  {
   "cell_type": "markdown",
   "metadata": {
    "kernel": "SoS"
   },
   "source": [
    "This pipeline was generated to download the plink binary files for the exome sequence data from the UKBB.\n",
    "\n",
    "The bed, bim and fam files are stored here: `/gpfs/gibbs/pi/dewan/data/UKBiobank/genotype_files/ukb28374_exomedata/exome_data_OCT2020`"
   ]
  },
  {
   "cell_type": "markdown",
   "metadata": {
    "kernel": "SoS"
   },
   "source": [
    "To run this pipeline:\n",
    "\n",
    "```\n",
    "tpl_file=../farnam.yml\n",
    "jobid=23155\n",
    "cwd=/gpfs/gibbs/pi/dewan/data/UKBiobank/genotype_files/ukb28374_exomedata/exome_data_OCT2020\n",
    "job_size=1\n",
    "numThreads=20\n",
    "exome_UKBB=/home/dc2325/project/UKBB_GWAS_dev/workflow/exome_download_UKBB.ipynb\n",
    "exome_sbatch=../output/$(date +\"%Y-%m-%d\")_exome_download.sbatch\n",
    "\n",
    "cmd_args=\"\"\"default\n",
    "    --cwd $cwd\n",
    "    --jobid $jobid\n",
    "    --job_size $job_size\n",
    "    --numThreads $numThreads\n",
    "\"\"\"\n",
    "\n",
    "sos run ~/project/bioworkflows/GWAS/Get_Job_Script.ipynb dewan \\\n",
    "    --template-file $tpl_file \\\n",
    "    --workflow-file $exome_UKBB \\\n",
    "    --to-script $exome_sbatch \\\n",
    "    --args \"$cmd_args\"\n",
    "```"
   ]
  },
  {
   "cell_type": "code",
   "execution_count": null,
   "metadata": {
    "kernel": "SoS"
   },
   "outputs": [],
   "source": [
    "[global]\n",
    "# the output directory for generated files\n",
    "parameter: cwd = path\n",
    "# Job ID UKBB\n",
    "parameter: jobid = 23155\n",
    "# For cluster jobs, number commands to run per job\n",
    "parameter: job_size = 1\n",
    "# The container with the software. Can be either a dockerhub image or a singularity `sif` file.\n",
    "parameter: container_gfetch = '/home/dmc2245/gfetch.sif'\n",
    "# Number of threads\n",
    "parameter: numThreads = 1"
   ]
  },
  {
   "cell_type": "code",
   "execution_count": null,
   "metadata": {
    "kernel": "SoS"
   },
   "outputs": [],
   "source": [
    "[default]\n",
    "output: f'{cwd}/ukb{jobid}_c1_b0_vV.typ'\n",
    "task: trunk_workers = 1, trunk_size = job_size, walltime = '48h', mem = '48G', cores = numThreads, tags = f'{step_name}_{_output:bn}'\n",
    "bash: container=container_gfetch, expand = \"${ }\", stderr = f'{_output:n}.stderr', stdout = f'{_output:n}.stdout'\n",
    "  cd ${cwd}\n",
    "  ./gfetch 23155 -c1 -m "
   ]
  }
 ],
 "metadata": {
  "kernelspec": {
   "display_name": "SoS",
   "language": "sos",
   "name": "sos"
  },
  "language_info": {
   "codemirror_mode": "sos",
   "file_extension": ".sos",
   "mimetype": "text/x-sos",
   "name": "sos",
   "nbconvert_exporter": "sos_notebook.converter.SoS_Exporter",
   "pygments_lexer": "sos"
  },
  "sos": {
   "kernels": [
    [
     "SoS",
     "sos",
     "",
     ""
    ]
   ],
   "version": "0.21.21"
  }
 },
 "nbformat": 4,
 "nbformat_minor": 4
}
