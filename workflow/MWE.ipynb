{
 "cells": [
  {
   "cell_type": "markdown",
   "metadata": {
    "kernel": "SoS"
   },
   "source": [
    "## Create a minimal example from the UKB data"
   ]
  },
  {
   "cell_type": "markdown",
   "metadata": {
    "kernel": "SoS"
   },
   "source": [
    "Select 100 individuals from the bed files\n",
    "\n",
    "1. Individuals to select: `/home/dc2325/scratch60/plink-clumping/samplesID.txt`\n",
    "2. Filter bgen files from chr21 and chr22 to contain only those individuals:"
   ]
  },
  {
   "cell_type": "markdown",
   "metadata": {
    "kernel": "Markdown"
   },
   "source": [
    "## Running this notebook\n",
    "\n",
    "On Yale Farnam cluster,"
   ]
  },
  {
   "cell_type": "markdown",
   "metadata": {
    "kernel": "SoS"
   },
   "source": [
    "### Running example for bgen files\n",
    "\n",
    "```\n",
    "sos run ~/project/pleiotropy_UKB/workflow/MWE.ipynb qctool \\\n",
    "    --cwd ~/scratch60/plink-clumping/MWE \\\n",
    "    --bfile /gpfs/gibbs/pi/dewan/data/UKBiobank/genotype_files/pleiotropy_geneticfiles/UKB_Caucasians_phenotypeindepqc120319_updated020720removedwithdrawnindivs.bed \\\n",
    "    --genoFile `echo /gpfs/gibbs/pi/dewan/data/UKBiobank/genotype_files/ukb39554_imputeddataset/ukb_imp_chr{21..22}_v3.bgen` \\\n",
    "    --sampleFile /gpfs/gibbs/pi/dewan/data/UKBiobank/genotype_files/ukb39554_imputeddataset/ukb32285_imputedindiv.sample \\\n",
    "    --rsid `echo ~/scratch60/plink-clumping/chr{21..22}_filter_snps.txt` \\\n",
    "    --samplesPlink /home/dc2325/scratch60/plink-clumping/samples_plink.txt \\\n",
    "    --samplesID /home/dc2325/scratch60/plink-clumping/samplesID.txt \\\n",
    "    --samplesQctool /home/dc2325/scratch60/plink-clumping/samples_qctool.txt \\\n",
    "    --rawPheno2 /gpfs/gibbs/pi/dewan/data/UKBiobank/phenotype_files/pleiotropy_R01/phenotypesforanalysis/UKB_caucasians_BMIwaisthip_AsthmaAndT2D_withagesex_033120 \\\n",
    "    --rawPheno1 /gpfs/gibbs/pi/dewan/data/UKBiobank/phenotype_files/pleiotropy_R01/phenotypesforanalysis/Asthma_casesbyICD10codesANDselfreport_controlsbyselfreportandicd10_noautoimmuneincontrols_forbolt030720 \\\n",
    "    --phenoFile /home/dc2325/scratch60/plink-clumping/MWE/phenotypes.txt \\\n",
    "    --unrelated_samples /gpfs/gibbs/pi/dewan/data/UKBiobank/genotype_files/pleiotropy_geneticfiles/unrelated_n307259/UKB_unrelatedcauc_phenotypes_asthmat2dbmiwaisthip_agesex_waisthipratio_040620\\\n",
    "    --numThreads 20 \\\n",
    "    --job_size 1 \\\n",
    "    -c ~/project/UKBB_GWAS_dev/farnam.yml -q farnam -J 40 \\\n",
    "    &> sos-submission-MWE-061020.log\n",
    "\n",
    "```\n",
    "\n",
    "### Running example for plink files (e.g exome data)\n",
    "\n",
    "```\n",
    "sos run ~/project/UKBB_GWAS_dev/workflow/MWE.ipynb plink_mwe \\\n",
    "    --cwd ~/scratch60/plink-clumping/MWE \\\n",
    "    --bfile /gpfs/gibbs/pi/dewan/data/UKBiobank/genotype_files/pleiotropy_geneticfiles/UKB_Caucasians_phenotypeindepqc120319_updated082020removedwithdrawnindiv.bed \\\n",
    "    --genoFile `echo /gpfs/gibbs/pi/dewan/data/UKBiobank/genotype_files/ukb28374_exomedata/exome_data_OCT2020/ukb23155_c{21..22}_b0_v1.bed` \\\n",
    "    --sampleFile /gpfs/gibbs/pi/dewan/data/UKBiobank/genotype_files/ukb39554_imputeddataset/ukb32285_imputedindiv.sample \\\n",
    "    --samplesPlink /gpfs/gibbs/pi/dewan/data/UKBiobank/MWE/burden/phenotype_burden_IID.txt \\\n",
    "    --phenoFile /gpfs/gibbs/pi/dewan/data/UKBiobank/MWE/burden/phenotype_burden.txt \\\n",
    "    --unrelated_samples /gpfs/gibbs/pi/dewan/data/UKBiobank/genotype_files/pleiotropy_geneticfiles/unrelated_n307259/UKB_unrelatedcauc_phenotypes_asthmat2dbmiwaisthip_agesex_waisthipratio_040620 \\\n",
    "    -s build \n",
    "```\n"
   ]
  },
  {
   "cell_type": "code",
   "execution_count": null,
   "metadata": {
    "kernel": "SoS"
   },
   "outputs": [],
   "source": [
    "[global]\n",
    "# Working directory: change accordingly\n",
    "parameter: cwd = path\n",
    "# Genotype file in plink binary format for genotype array \n",
    "parameter: bfile = path\n",
    "# Path to bgen/exome files\n",
    "parameter: genoFile = paths\n",
    "# Path to sample file for bgen files\n",
    "parameter: sampleFile = path\n",
    "# Samples to select for plink format contains two columns FID and IID\n",
    "parameter: samplesPlink = path\n",
    "# Phenotype file for both quantitative (BMI) and qualitative (asthma) traits\n",
    "parameter: phenoFile = path\n",
    "# Unrelated samples from UKB\n",
    "parameter: unrelated_samples = path\n",
    "# Specify the nymber of threads to use\n",
    "parameter: numThreads = 20\n",
    "# For cluster jobs, number commands to run per job\n",
    "parameter: job_size = 1\n",
    "# Load specific modules\n",
    "parameter: plink_module = '''\n",
    "module load PLINK/1.90-beta5.3\n",
    "echo \"Module plink loaded\"\n",
    "{cmd}\n",
    "'''\n",
    "parameter: qctool_module = '''\n",
    "module load QCTOOL/2.0-foss-2016b-rc7-CentOS6.8\n",
    "echo \"Module qctool loaded\"\n",
    "{cmd}\n",
    "'''\n",
    "parameter: plink2_module = '''\n",
    "module load PLINK/2_x86_64_20180428\n",
    "echo \"Module plink2 loaded\"\n",
    "{cmd}\n",
    "'''"
   ]
  },
  {
   "cell_type": "code",
   "execution_count": null,
   "metadata": {
    "kernel": "SoS"
   },
   "outputs": [],
   "source": [
    "# Extract the 100 individuals from the phenotypic files\n",
    "[phenotypes]\n",
    "# Raw phenotype to extract individuals\n",
    "parameter: rawPheno2 = path\n",
    "# Raw phenotype to extract individuals\n",
    "parameter: rawPheno1 = path\n",
    "# Samples to select for awk contains only one column IID\n",
    "parameter: samplesID = path \n",
    "input: rawPheno1, rawPheno2, unrelated_samples\n",
    "output: f'{cwd}/phenotype_100samples.txt', f'{cwd}/samplesID.txt', f'{cwd}/samples_qctool.txt', f'{cwd}/samples_plink.txt'\n",
    "bash: expand= \"${ }\", workdir = cwd\n",
    "    awk 'FNR==NR{a[$1];next}($1 in a){print}' ${_input[0]} ${_input[1]} > common_IDs.txt\n",
    "    cat common_IDs.txt | awk 'NR==1; $5==1 {print}' | head -n 51 > 50_cases.txt\n",
    "    cat common_IDs.txt | awk 'NR==1; $5==0 {print}' | head -n 51 > 50_controls.txt\n",
    "    awk 'FNR>1 || NR==1' 50_* > ${_output[0]}\n",
    "    awk '{print $2}' ${_output[0]} | sort -k 1n > ${_output[1]}\n",
    "    cat ${_output[1]} | awk -F \" \" 'NR>1 {print}; {ORS= \" \"}' > ${_output[2]}\n",
    "    awk '{print $1,$2}' ${_output[0]} > ${_output[3]}\n",
    "    grep -w -F -f ${_output[1]} ${_input[2]}  > unrelated_samplesID.txt\n",
    "    rm 50_* common_IDs.txt"
   ]
  },
  {
   "cell_type": "code",
   "execution_count": null,
   "metadata": {
    "kernel": "SoS"
   },
   "outputs": [],
   "source": [
    "# Create .bed, .fam and .bim files\n",
    "[plink]\n",
    "input: bfile, samplesPlink\n",
    "output: f'{cwd}/{_input[0]:b}.MWE_data.bed'\n",
    "bash: expand= \"${ }\", workdir = cwd, template = plink_module\n",
    "    plink \\\n",
    "    --bfile ${_input[0]} \\\n",
    "    --keep ${_input[1]} \\\n",
    "    --make-bed \\\n",
    "    --out ${_output:bn}"
   ]
  },
  {
   "cell_type": "code",
   "execution_count": null,
   "metadata": {
    "kernel": "SoS"
   },
   "outputs": [],
   "source": [
    "#To filter snps with info score above 0.8 \n",
    "[snps]\n",
    "# Select snps for each chromosome \n",
    "parameter: select_snps= paths([f'/gpfs/gibbs/pi/dewan/data/UKBiobank/genotype_files/ukb39554_imputeddataset/ukb_mfi_chr{x+20}_v3.txt_infoabove0.8' for x in range (2)])\n",
    "input: for_each='select_snps'\n",
    "output: f'{cwd}/{_input:bn}.snps'\n",
    "bash: expand=\"${ }\", workdir=cwd\n",
    "    awk '$2 ~ /rs/ { print $2 }' ${_input} | tail -n 50 > ${_output}"
   ]
  },
  {
   "cell_type": "code",
   "execution_count": null,
   "metadata": {
    "kernel": "SoS"
   },
   "outputs": [],
   "source": [
    "# Filter bgen files chr21 and chr22 with only the 100 individuals\n",
    "# Cluster script mwe_chr2.sh\n",
    "[qctool_1]\n",
    "# Samples to select for qctool white-space delimited list of IID\n",
    "parameter: samplesQctool = path\n",
    "# Output the bgen file with 8bit formatting\n",
    "parameter: bgen_bits=8\n",
    "# Filter snps in bgenFiles\n",
    "parameter: rsid = paths\n",
    "input: genoFile, paired_with='rsid', group_by=1\n",
    "output: f'{cwd}/{_input:bn}.filtered.bgen'\n",
    "task: trunk_workers = 1, trunk_size = job_size, cores = numThreads, walltime = '48h', mem = '60G', tags = f'{step_name}_{_output[0]:bn}'\n",
    "bash: expand= \"${ }\", workdir = cwd, stderr = f'{_output:n}.stderr', stdout = f'{_output:n}.stdout', template = qctool_module\n",
    "    qctool \\\n",
    "    -g ${_input} \\\n",
    "    -s ${sampleFile} \\\n",
    "    -og ${_output} \\\n",
    "    -os ${_output:n}.sample \\\n",
    "    -incl-samples ${samplesQctool} \\\n",
    "    -incl-rsids ${_input._rsid} \\\n",
    "    -bgen-bits ${bgen_bits} \\\n",
    "    -threads ${numThreads}"
   ]
  },
  {
   "cell_type": "code",
   "execution_count": null,
   "metadata": {
    "kernel": "SoS"
   },
   "outputs": [],
   "source": [
    "[qctool_2]\n",
    "input: output_from=('qctool')\n",
    "output:f'{cwd}/{_input:bn}.filtered.bgen.bgi'\n",
    "bash: expand= \"${ }\", workdir = cwd, stderr = f'{_output:n}.stderr', stdout = f'{_output:n}.stdout'\n",
    "    bgenix \\\n",
    "    -g ${_input} \\\n",
    "    -index"
   ]
  },
  {
   "cell_type": "code",
   "execution_count": null,
   "metadata": {
    "kernel": "SoS"
   },
   "outputs": [],
   "source": [
    "# Filter bgen files chr21 and chr22 with only the 100 individuals and 8 bytes format\n",
    "[qctool_3]\n",
    "input: bgenFile, paired_with= 'rsid', group_by=1\n",
    "output: f'{cwd}/{_input:bn}.plink.filtered.bgen'\n",
    "task: trunk_workers = 1, trunk_size = job_size, cores = numThreads, walltime = '48h', mem = '60G', tags = f'{step_name}_{_output[0]:bn}'\n",
    "bash: expand= \"${ }\", workdir = cwd, stderr = f'{_output:n}.stderr', stdout = f'{_output:n}.stdout', template = plink2_module\n",
    "    plink2 \\\n",
    "      --bgen ${_input} ref-first \\\n",
    "      --sample ${sampleFile} \\\n",
    "      --keep ${samplesPlink} \\\n",
    "      --extract ${_input._rsid:n} \\\n",
    "      --export bgen-1.2 \"bits=8\" \\\n",
    "      --threads ${numThreads} \\\n",
    "      --out ${_output}"
   ]
  },
  {
   "cell_type": "markdown",
   "metadata": {
    "kernel": "SoS"
   },
   "source": [
    "## Generate MWE for plink exome data "
   ]
  },
  {
   "cell_type": "code",
   "execution_count": null,
   "metadata": {
    "kernel": "SoS"
   },
   "outputs": [],
   "source": [
    "# Filter the exome data for chr21 and chr22\n",
    "[plink_mwe_1]\n",
    "input: genoFile, group_by=1\n",
    "output: f'{cwd}/{_input:bn}.plink.exome.filtered.bed'\n",
    "task: trunk_workers = 1, trunk_size = job_size, cores = numThreads, walltime = '48h', mem = '60G', tags = f'{step_name}_{_output:bn}'\n",
    "bash: expand= \"${ }\", stderr = f'{_output:n}.stderr', stdout = f'{_output:n}.stdout', template = plink_module\n",
    "    plink \\\n",
    "      --bfile ${_input:n}  \\\n",
    "      --keep ${samplesPlink} \\\n",
    "      --make-bed \\\n",
    "      --threads ${numThreads} \\\n",
    "      --out ${_output:n}"
   ]
  },
  {
   "cell_type": "code",
   "execution_count": null,
   "metadata": {
    "kernel": "SoS"
   },
   "outputs": [],
   "source": [
    "# Filter the genotype array for chr21 and chr22\n",
    "[plink_mwe_2]\n",
    "input: bfile\n",
    "output: f'{cwd}/genotypes_21_plink.exome.bed', f'{cwd}/genotypes_22_plink.exome.bed'\n",
    "task: trunk_workers = 1, trunk_size = job_size, cores = numThreads, walltime = '48h', mem = '60G', tags = f'{step_name}_{_output[0]:bn}'\n",
    "bash: expand= \"${ }\", stderr = f'{_output[0]:n}.stderr', stdout = f'{_output[0]:n}.stdout', template = plink_module\n",
    "    plink \\\n",
    "      --bfile ${_input:n}  \\\n",
    "      --keep ${samplesPlink} \\\n",
    "      --chr 21 \\\n",
    "      --make-bed \\\n",
    "      --threads ${numThreads} \\\n",
    "      --out ${_output[0]:n}\n",
    "      \n",
    "    plink \\\n",
    "      --bfile ${_input:n}  \\\n",
    "      --keep ${samplesPlink} \\\n",
    "      --chr 22 \\\n",
    "      --make-bed \\\n",
    "      --threads ${numThreads} \\\n",
    "      --out ${_output[1]:n}"
   ]
  },
  {
   "cell_type": "code",
   "execution_count": null,
   "metadata": {
    "kernel": "SoS"
   },
   "outputs": [],
   "source": [
    "# Merge the genotype files for chr21 and chr22\n",
    "[plink_mwe_3]\n",
    "output: f'{cwd}/genotypes_21_22_plink.exome.bed'\n",
    "task: trunk_workers = 1, trunk_size = job_size, cores = numThreads, walltime = '48h', mem = '60G', tags = f'{step_name}_{_output:bn}'\n",
    "bash: expand= \"${ }\", stderr = f'{_output:n}.stderr', stdout = f'{_output:n}.stdout', template = plink_module\n",
    "    plink \\\n",
    "      --bfile ${_input[0]:n}  \\\n",
    "      --bmerge ${_input[1]} ${_input[1]:n}.bim ${_input[1]:n}.fam \\\n",
    "      --make-bed \\\n",
    "      --threads ${numThreads} \\\n",
    "      --out ${_output:n}"
   ]
  },
  {
   "cell_type": "markdown",
   "metadata": {
    "kernel": "Bash"
   },
   "source": [
    "```\n",
    "cat /gpfs/gibbs/pi/dewan/data/UKBiobank/phenotype_files/pleiotropy_R01/phenotypesforanalysis/Asthma_casesbyICD10codesANDselfreport_controlsbyselfreportandicd10_noautoimmuneincontrols_forbolt030720 \\\n",
    "| awk 'NR==1; $5==1 {print}' | head -n 51 > asthma_cases.txt\n",
    "cat /gpfs/gibbs/pi/dewan/data/UKBiobank/phenotype_files/pleiotropy_R01/phenotypesforanalysis/Asthma_casesbyICD10codesANDselfreport_controlsbyselfreportandicd10_noautoimmuneincontrols_forbolt030720 \\\n",
    "| awk 'NR==1; $5==0 {print}' | head -n 51 > asthma_controls.txt\n",
    "\n",
    "#This was to see which ID's were different between asthma and BMI\n",
    "diff -y <( awk '{print $1}' samples_asthma_sorted.txt) <( awk '{print $1}' BMI_samples_sorted.txt )\n",
    "\n",
    "# Look for common IDs in both files\n",
    "# One way to do it with awk\n",
    "awk 'FNR==NR{a[$1];next}($1 in a){print}' Asthma_casesbyICD10codesANDselfreport_controlsbyselfreportandicd10_noautoimmuneincontrols_forbolt030720 UKB_caucasians_BMIwaisthip_AsthmaAndT2D_withagesex_033120 > common_IDs.txt\n",
    "\n",
    "# Another way to do it but files need to be sorted firt\n",
    "sort -k 2n Asthma_casesbyICD10codesANDselfreport_controlsbyselfreportandicd10_noautoimmuneincontrols_forbolt030720\n",
    "sort -k 2n UKB_caucasians_BMIwaisthip_AsthmaAndT2D_withagesex_033120\n",
    "comm -12  <( awk '{print $1}' Asthma_casesbyICD10codesANDselfreport_controlsbyselfreportandicd10_noautoimmuneincontrols_forbolt030720) \\\n",
    "<( awk '{print $1}' UKB_caucasians_BMIwaisthip_AsthmaAndT2D_withagesex_033120) > common_IDs.txt\n",
    "\n",
    "#Now select 50 cases and 50 controls based on asthma \n",
    "cat common_IDs.txt | awk 'NR==1; $5==1 {print}' | head -n 51 > asthma_cases.txt\n",
    "cat common_IDs.txt | awk 'NR==1; $5==0 {print}' | head -n 51 > asthma_controls.txt\n",
    "\n",
    "#Join the cases and controls in one file \n",
    "awk 'FNR>1 || NR==1' asthma_c* > asthma_samples.txt\n",
    "\n",
    "# Create the samplesID file to be used \n",
    "awk '{print $2}' asthma_samples.txt | sort -k 1n > samplesID.txt #only 84 are unrelated\n",
    "\n",
    "# See if the samples are unrelated\n",
    "grep -w -F -f samplesID.txt /gpfs/gibbs/pi/dewan/data/UKBiobank/genotype_files/pleiotropy_geneticfiles/unrelated_n307259/UKB_unrelatedcauc_phenotypes_asthmat2dbmiwaisthip_agesex_waisthipratio_040620 > unrelated_samplesID.txt\n",
    "\n",
    "#Create the samples file for qctools\n",
    "cat samplesID.txt | awk -F \" \" 'NR>1 {print}; {ORS= \" \"}' > samples_qctool.txt\n",
    "\n",
    "#Create the sample file for plink\n",
    "awk '{print $1,$2}' asthma_samples.txt > samples_plink.txt\n",
    "\n",
    "#Select column with awk with partial matches\n",
    "\n",
    "awk '$2 ~ /rs/ { print $2 }' /gpfs/gibbs/pi/dewan/data/UKBiobank/genotype_files/ukb39554_imputeddataset/ukb_mfi_chr21_v3.txt_infoabove0.8 | tail -n 50 > ~/scratch60/plink-clumping/chr21_snps.txt\n",
    "\n",
    "cat chr21_snps.txt | awk 'BEGIN {ORS=\" \"}; $2 ~ /rs/ { print $2 }' > chr21_filter_snps.txt\n",
    "cat chr22_snps.txt | awk 'BEGIN {ORS=\" \"}; $2 ~ /rs/ { print $2 }' > chr22_filter_snps.txt\n",
    "\n",
    "#Extract the 1000 unrelated samples from phenotype file\n",
    "head -n 1 /gpfs/gibbs/pi/dewan/data/UKBiobank/genotype_files/pleiotropy_geneticfiles/unrelated_n307259/UKB_unrelatedcauc_phenotypes_asthmat2dbmiwaisthip_agesex_waisthipratio_040620 > phenotype_1000ind.txt\n",
    "\n",
    "grep -w -F -f  UKB_unrelatedcauc_phenotypes_asthmat2dbmiwaisthip_agesex_waisthipratio_040620.1000unrelatedindiv.sample   > unrelated_samplesID.txt /gpfs/gibbs/pi/dewan/data/UKBiobank/genotype_files/pleiotropy_geneticfiles/unrelated_n307259/UKB_unrelatedcauc_phenotypes_asthmat2dbmiwaisthip_agesex_waisthipratio_040620 >> phenotype_1000ind.txt\n",
    "```"
   ]
  },
  {
   "cell_type": "code",
   "execution_count": null,
   "metadata": {
    "kernel": "SoS"
   },
   "outputs": [],
   "source": []
  }
 ],
 "metadata": {
  "kernelspec": {
   "display_name": "SoS",
   "language": "sos",
   "name": "sos"
  },
  "language_info": {
   "codemirror_mode": "sos",
   "file_extension": ".sos",
   "mimetype": "text/x-sos",
   "name": "sos",
   "nbconvert_exporter": "sos_notebook.converter.SoS_Exporter",
   "pygments_lexer": "sos"
  },
  "sos": {
   "kernels": [
    [
     "Bash",
     "calysto_bash",
     "Bash",
     "#E6EEFF",
     ""
    ],
    [
     "SoS",
     "sos",
     "",
     "",
     "sos"
    ]
   ],
   "version": "0.21.21"
  }
 },
 "nbformat": 4,
 "nbformat_minor": 4
}
