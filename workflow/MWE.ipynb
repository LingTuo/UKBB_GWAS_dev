{
 "cells": [
  {
   "cell_type": "markdown",
   "metadata": {
    "kernel": "SoS"
   },
   "source": [
    "## Create a minimal example from the UKB data"
   ]
  },
  {
   "cell_type": "markdown",
   "metadata": {
    "kernel": "SoS"
   },
   "source": [
    "Select 100 individuals from the bed files\n",
    "\n",
    "1. Individuals to select: `/home/dc2325/scratch60/plink-clumping/samplesID.txt`\n",
    "2. Filter bgen files from chr1 and chr2 to contain only those individuals:"
   ]
  },
  {
   "cell_type": "markdown",
   "metadata": {
    "kernel": "Markdown"
   },
   "source": [
    "## Running this notebook\n",
    "\n",
    "On Yale Farnam cluster,\n",
    "\n",
    "```\n",
    "sos run ~/project/pleiotropy_UKB/workflow/MWE.ipynb plink2 -c ~/project/pleiotropy_UKB/farnam.yml -q farnam -J 40 \\\n",
    "-s build &> sos-submission-MWE-060920.log\n",
    "```"
   ]
  },
  {
   "cell_type": "code",
   "execution_count": null,
   "metadata": {
    "kernel": "SoS"
   },
   "outputs": [],
   "source": [
    "[global]\n",
    "# Working directory: change accordingly\n",
    "parameter: cwd = path('~/scratch60/plink-clumping')\n",
    "# Genotype file in plink binary format\n",
    "parameter: genoFile = path('/SAY/dbgapstg/scratch/UKBiobank/genotype_files/pleiotropy_geneticfiles/UKB_Caucasians_phenotypeindepqc120319_updated020720removedwithdrawnindivs.bed')\n",
    "# Path to bgen files\n",
    "parameter: bgenFile = paths([f'/SAY/dbgapstg/scratch/UKBiobank/genotype_files/ukb39554_imputeddataset/ukb_imp_chr{x+1}_v3.bgen' for x in range(2)])\n",
    "# Path to sample file\n",
    "parameter: sampleFile = path('/SAY/dbgapstg/scratch/UKBiobank/genotype_files/ukb39554_imputeddataset/ukb32285_imputedindiv.sample')\n",
    "# Samples to select for plink format contains two columns FID and IID\n",
    "parameter: samplesPlink = path('/home/dc2325/scratch60/plink-clumping/samples_plink.txt')\n",
    "# Samples to select for awk contains only one column IID\n",
    "parameter: samplesID = path('/home/dc2325/scratch60/plink-clumping/samplesID.txt')\n",
    "# Samples to select for qctool white-space delimited list of IID\n",
    "parameter: samplesQctool = path('/home/dc2325/scratch60/plink-clumping/samples_qctool.txt')\n",
    "# Covariate file\n",
    "parameter: covarFile = path('/home/dc2325/scratch60/plink-clumping/phenotypes.txt')\n",
    "# Raw phenotype to extract individuals\n",
    "parameter: rawPheno2 = path('/SAY/dbgapstg/scratch/UKBiobank/phenotype_files/pleiotropy_R01/phenotypesforanalysis/UKB_caucasians_BMIwaisthip_AsthmaAndT2D_withagesex_033120')\n",
    "# Raw phenotype to extract individuals\n",
    "parameter: rawPheno1 = path('/SAY/dbgapstg/scratch/UKBiobank/phenotype_files/pleiotropy_R01/phenotypesforanalysis/Asthma_casesbyICD10codesANDselfreport_controlsbyselfreportandicd10_noautoimmuneincontrols_forbolt030720')\n",
    "# Phenotype file for both quantitative (BMI) and qualitative (asthma) traits\n",
    "parameter: phenoFile = path('/home/dc2325/scratch60/plink-clumping/phenotypes.txt')\n",
    "# Unrelated samples from UKB\n",
    "parameter: unrelated_samples = path('/SAY/dbgapstg/scratch/UKBiobank/genotype_files/pleiotropy_geneticfiles/unrelated_n307259/UKB_unrelatedcauc_phenotypes_asthmat2dbmiwaisthip_agesex_waisthipratio_040620')\n",
    "# Filter snps in bgenFiles\n",
    "parameter: rsid = paths([f'{cwd}/chr{x+1}_filter_snps.txt' for x in range(2)])\n",
    "# For cluster jobs, number commands to run per job\n",
    "parameter: job_size = 1\n",
    "# Specific number of threads to use\n",
    "parameter: numThreads = 20\n",
    "# Load specific modules\n",
    "parameter: plink_module = '''\n",
    "module load PLINK/1.90-beta5.3\n",
    "echo \"Module plink loaded\"\n",
    "{cmd}\n",
    "'''\n",
    "parameter: qctool_module = '''\n",
    "module load QCTOOL/2.0-foss-2016b-rc7-CentOS6.8\n",
    "echo \"Module qctool loaded\"\n",
    "{cmd}\n",
    "'''\n",
    "parameter: plink2_module = '''\n",
    "module load PLINK/2_x86_64_20180428\n",
    "echo \"Module plink2 loaded\"\n",
    "{cmd}\n",
    "'''"
   ]
  },
  {
   "cell_type": "code",
   "execution_count": null,
   "metadata": {
    "kernel": "SoS"
   },
   "outputs": [],
   "source": [
    "# Create .bed, .fam and .bin files\n",
    "[plink]\n",
    "input: genoFile, samplesPlink\n",
    "output: f'{cwd}/{_input[0]:b}.MWE_data.bed'\n",
    "bash: expand= \"${ }\", workdir = cwd, template = plink_module\n",
    "    plink \\\n",
    "    --bfile ${_input[0]} \\\n",
    "    --keep ${_input[1]} \\\n",
    "    --make-bed \\\n",
    "    --out ${_output:bn}"
   ]
  },
  {
   "cell_type": "code",
   "execution_count": null,
   "metadata": {
    "kernel": "SoS"
   },
   "outputs": [],
   "source": [
    "# Extract the 100 individuals from the phenotypic files\n",
    "[phenotypes]\n",
    "input: rawPheno1, rawPheno2, unrelated_samples\n",
    "output: f'{cwd}/phenotype_100samples.txt', f'{cwd}/samplesID.txt', f'{cwd}/samples_qctool.txt', f'{cwd}/samples_plink.txt'\n",
    "bash: expand= \"${ }\", workdir = cwd\n",
    "    awk 'FNR==NR{a[$1];next}($1 in a){print}' ${_input[0]} ${_input[1]} > common_IDs.txt\n",
    "    cat common_IDs.txt | awk 'NR==1; $5==1 {print}' | head -n 51 > 50_cases.txt\n",
    "    cat common_IDs.txt | awk 'NR==1; $5==0 {print}' | head -n 51 > 50_controls.txt\n",
    "    awk 'FNR>1 || NR==1' 50_* > ${_output[0]}\n",
    "    awk '{print $2}' ${_output[0]} | sort -k 1n > ${_output[1]}\n",
    "    cat ${_output[1]} | awk -F \" \" 'NR>1 {print}; {ORS= \" \"}' > ${_output[2]}\n",
    "    awk '{print $1,$2}' ${_output[0]} > ${_output[3]}\n",
    "    grep -w -F -f ${_output[1]} ${_input[2]}  > unrelated_samplesID.txt\n",
    "    rm 50_* common_IDs.txt"
   ]
  },
  {
   "cell_type": "code",
   "execution_count": null,
   "metadata": {
    "kernel": "SoS"
   },
   "outputs": [],
   "source": [
    "# Filter bgen files chr1 and chr2 with only the 100 individuals\n",
    "[qctool]\n",
    "input: bgenFile\n",
    "output: f'{cwd}/{_input:bn}.filtered.bgen', f'{cwd}/{_input:bn}.filtered.sample'\n",
    "task: trunk_workers = 1, trunk_size = job_size, cores = numThreads, walltime = '12h', mem = '48G', tags = f'{step_name}_{_output[0]:bn}'\n",
    "bash: expand= \"${ }\", workdir = cwd, stderr = f'{_output:n}.stderr', stdout = f'{_output:n}.stdout', template = qctool_module\n",
    "    qctool \\\n",
    "    -g ${_input} \\\n",
    "    -s ${sampleFile} \\\n",
    "    -og ${_output[0]} \\\n",
    "    -os ${_output[1]} \\\n",
    "    -incl-samples ${samplesQctool} \\\n",
    "    -incl-rsids ${_input.info}"
   ]
  },
  {
   "cell_type": "code",
   "execution_count": null,
   "metadata": {
    "kernel": "SoS"
   },
   "outputs": [],
   "source": [
    "# Filter bgen files chr1 and chr2 with only the 100 individuals and 8 bytes format\n",
    "[plink2]\n",
    "input: bgenFile, group_by=1, paired_with= 'rsid'\n",
    "output: f'{cwd}/{_input:bn}.plink.filtered.bgen'\n",
    "task: trunk_workers = 1, trunk_size = job_size, cores = numThreads, walltime = '12h', mem = '48G', tags = f'{step_name}_{_output[0]:bn}'\n",
    "bash: expand= \"${ }\", workdir = cwd, stderr = f'{_output:bn}.stderr', stdout = f'{_output:bn}.stdout', template = plink2_module\n",
    "    plink2 \\\n",
    "      --bgen ${_input} ref-first \\\n",
    "      --sample ${sampleFile} \\\n",
    "      --keep ${samplesPlink} \\\n",
    "      --extract ${_rsid:n} \\\n",
    "      --export bgen-1.2 \"bits=8\" \\\n",
    "      --out ${_output:bn}"
   ]
  },
  {
   "cell_type": "markdown",
   "metadata": {
    "kernel": "Bash"
   },
   "source": [
    "```\n",
    "cat /SAY/dbgapstg/scratch/UKBiobank/phenotype_files/pleiotropy_R01/phenotypesforanalysis/Asthma_casesbyICD10codesANDselfreport_controlsbyselfreportandicd10_noautoimmuneincontrols_forbolt030720 \\\n",
    "| awk 'NR==1; $5==1 {print}' | head -n 51 > asthma_cases.txt\n",
    "cat /SAY/dbgapstg/scratch/UKBiobank/phenotype_files/pleiotropy_R01/phenotypesforanalysis/Asthma_casesbyICD10codesANDselfreport_controlsbyselfreportandicd10_noautoimmuneincontrols_forbolt030720 \\\n",
    "| awk 'NR==1; $5==0 {print}' | head -n 51 > asthma_controls.txt\n",
    "\n",
    "#This was to see which ID's were different between asthma and BMI\n",
    "diff -y <( awk '{print $1}' samples_asthma_sorted.txt) <( awk '{print $1}' BMI_samples_sorted.txt )\n",
    "\n",
    "# Look for common IDs in both files\n",
    "# One way to do it with awk\n",
    "awk 'FNR==NR{a[$1];next}($1 in a){print}' Asthma_casesbyICD10codesANDselfreport_controlsbyselfreportandicd10_noautoimmuneincontrols_forbolt030720 UKB_caucasians_BMIwaisthip_AsthmaAndT2D_withagesex_033120 > common_IDs.txt\n",
    "\n",
    "# Another way to do it but files need to be sorted firt\n",
    "sort -k 2n Asthma_casesbyICD10codesANDselfreport_controlsbyselfreportandicd10_noautoimmuneincontrols_forbolt030720\n",
    "sort -k 2n UKB_caucasians_BMIwaisthip_AsthmaAndT2D_withagesex_033120\n",
    "comm -12  <( awk '{print $1}' Asthma_casesbyICD10codesANDselfreport_controlsbyselfreportandicd10_noautoimmuneincontrols_forbolt030720) \\\n",
    "<( awk '{print $1}' UKB_caucasians_BMIwaisthip_AsthmaAndT2D_withagesex_033120) > common_IDs.txt\n",
    "\n",
    "#Now select 50 cases and 50 controls based on asthma \n",
    "cat common_IDs.txt | awk 'NR==1; $5==1 {print}' | head -n 51 > asthma_cases.txt\n",
    "cat common_IDs.txt | awk 'NR==1; $5==0 {print}' | head -n 51 > asthma_controls.txt\n",
    "\n",
    "#Join the cases and controls in one file \n",
    "awk 'FNR>1 || NR==1' asthma_c* > asthma_samples.txt\n",
    "\n",
    "# Create the samplesID file to be used \n",
    "awk '{print $2}' asthma_samples.txt | sort -k 1n > samplesID.txt #only 84 are unrelated\n",
    "\n",
    "# See if the samples are unrelated\n",
    "grep -w -F -f samplesID.txt /SAY/dbgapstg/scratch/UKBiobank/genotype_files/pleiotropy_geneticfiles/unrelated_n307259/UKB_unrelatedcauc_phenotypes_asthmat2dbmiwaisthip_agesex_waisthipratio_040620 > unrelated_samplesID.txt\n",
    "\n",
    "#Create the samples file for qctools\n",
    "cat samplesID.txt | awk -F \" \" 'NR>1 {print}; {ORS= \" \"}' > samples_qctool.txt\n",
    "\n",
    "#Create the sample file for plink\n",
    "awk '{print $1,$2}' asthma_samples.txt > samples_plink.txt\n",
    "\n",
    "#Select column with awk with partial matches\n",
    "\n",
    "awk '$2 ~ /rs/ { print $2 }' dummy_file \n",
    "\n",
    "cat chr1_snps.txt | awk 'BEGIN {ORS=\" \"}; $2 ~ /rs/ { print $2 }' > chr1_filter_snps.txt\n",
    "cat chr2_snps.txt | awk 'BEGIN {ORS=\" \"}; $2 ~ /rs/ { print $2 }' > chr2_filter_snps.txt\n",
    "```"
   ]
  },
  {
   "cell_type": "code",
   "execution_count": null,
   "metadata": {
    "kernel": "SoS"
   },
   "outputs": [],
   "source": []
  }
 ],
 "metadata": {
  "kernelspec": {
   "display_name": "SoS",
   "language": "sos",
   "name": "sos"
  },
  "language_info": {
   "codemirror_mode": "sos",
   "file_extension": ".sos",
   "mimetype": "text/x-sos",
   "name": "sos",
   "nbconvert_exporter": "sos_notebook.converter.SoS_Exporter",
   "pygments_lexer": "sos"
  },
  "sos": {
   "kernels": [
    [
     "Markdown",
     "markdown",
     "markdown",
     "",
     ""
    ],
    [
     "SoS",
     "sos",
     "",
     "",
     "sos"
    ]
   ],
   "version": "0.21.7"
  }
 },
 "nbformat": 4,
 "nbformat_minor": 4
}
