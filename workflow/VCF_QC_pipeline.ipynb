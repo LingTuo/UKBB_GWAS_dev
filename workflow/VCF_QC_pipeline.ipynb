{
 "cells": [
  {
   "cell_type": "markdown",
   "id": "ambient-price",
   "metadata": {
    "kernel": "SoS",
    "tags": []
   },
   "source": [
    "# Quality control on VCF files pipeline"
   ]
  },
  {
   "cell_type": "markdown",
   "id": "nervous-darwin",
   "metadata": {
    "kernel": "SoS"
   },
   "source": [
    "**Aim**\n",
    "\n",
    "To generate QC'ed files from the UKBB pVCF data"
   ]
  },
  {
   "cell_type": "markdown",
   "id": "occasional-fancy",
   "metadata": {
    "kernel": "SoS"
   },
   "source": [
    "## Filters applied\n",
    "\n",
    "1. Genotype depth filters: SNPs DP>7 and Indels DP>10 for indels\n",
    "    > Then only SNV variant sites that met at least one of the following two criteria were [retained](https://www.google.com/url?sa=t&rct=j&q=&esrc=s&source=web&cd=&ved=2ahUKEwjPw5r_s5fvAhUVUzUKHe7GD-kQFjAEegQIDRAD&url=https%3A%2F%2Fwww.biorxiv.org%2Fcontent%2Fbiorxiv%2Fearly%2F2019%2F03%2F09%2F572347%2FDC2%2Fembed%2Fmedia-2.pdf%3Fdownload%3Dtrue&usg=AOvVaw06fvt4jBTPq5VfepojT1mZ) according to filtering made on the ~50K exomes by the UKBB\n",
    "    \n",
    "    > 1) at least one heterozygous variant genotype with allele balance ratio greater than or equal to 15% (AB >= 0.15) \n",
    "    \n",
    "    > 2) at least one homozygous variant genotype\n",
    "    \n",
    "2. At least one sample per site passed the allele balance threshold > 0.15 for SNPs and 0.20 for indels (heterozygous variants).\n",
    "3. Genotype quality GQ>20\n",
    "\n",
    "More recent reference [here](https://www.medrxiv.org/content/10.1101/2020.11.02.20222232v1.full-text)"
   ]
  },
  {
   "cell_type": "markdown",
   "id": "occupational-ordinary",
   "metadata": {
    "kernel": "SoS"
   },
   "source": [
    "## Concepts\n",
    "\n",
    "Allele balance: is calculated for heterozygotes as the number of bases supporting the least-represented allele over the total number of base observations"
   ]
  },
  {
   "cell_type": "markdown",
   "id": "metallic-heading",
   "metadata": {
    "kernel": "SoS"
   },
   "source": [
    "## To run this notebook\n",
    "\n",
    "```\n",
    "sos run VCF_QC_pipeline.ipynb qc \\\n",
    "    --cwd output \\\n",
    "    --vcf_path /mnt/mfs/statgen/UKBiobank/data/exome_files/project_VCF/ \\\n",
    "    --DP_snp 7 \\\n",
    "    --DP_indel 10 \\\n",
    "    --GQ 20 \\\n",
    "    --AB_snp 0.15 \\\n",
    "    --AB_indel 0.2 \\\n",
    "    --geno 0.1 \\\n",
    "    --mind 0.1 \\\n",
    "    --maf 0.00000001\n",
    "```\n"
   ]
  },
  {
   "cell_type": "code",
   "execution_count": 1,
   "id": "alert-coordinate",
   "metadata": {
    "kernel": "SoS"
   },
   "outputs": [],
   "source": [
    "[global]\n",
    "# the output directory for generated files\n",
    "parameter: cwd = path\n",
    "# pVCF files\n",
    "parameter vcf_path = paths\n",
    "# reference genome hg38 path\n",
    "parameter: ref_hg38 = path(f'/home/dmc2245/software/GRCh38_reference_genome/GRCh38_full_analysis_set_plus_decoy_hla.fa')\n",
    "# Sample level QC - read depth (DP) to filter out SNPs below this value\n",
    "parameter: DP_snp = 7\n",
    "# Sample level QC - read depth (DP) to filter out indels below this value\n",
    "parameter: DP_indel = 10\n",
    "# Sample level QC - genotype quality (GQ) of specific sample. This measure tells you how confident we are that the genotype we assigned to a particular sample is correct\n",
    "parameter: GQ = 20\n",
    "# Allele balance for snps\n",
    "parameter: AB_snp = 0.15\n",
    "# Allele balance for indels\n",
    "parameter: AB_indel = 0.2\n",
    "# Variant missigness cut-off 10% default\n",
    "parameter: geno = 0.1\n",
    "# Sample missigness cut-off 10% default\n",
    "parameter: mind = 0.1\n",
    "# Minor allele frequency cut-off\n",
    "parameter: maf  = 0.00000001"
   ]
  },
  {
   "cell_type": "code",
   "execution_count": null,
   "id": "changed-traffic",
   "metadata": {
    "kernel": "SoS"
   },
   "outputs": [],
   "source": [
    "# Left normalize multiallelic sites\n",
    "# Exclude all sites where FILTER==\".\"\n",
    "[qc_1]\n",
    "input: vcf_path\n",
    "output: f'{cwd}/{_input:bn}.leftnorm.vcf.gz', f'{cwd}/{_input:bn}.nofiltered.tstv'\n",
    "task: trunk_workers = 1, walltime = '24h', mem = '30G', cores = numThreads, tags = f'{step_name}_{_output:bn}'\n",
    "bash: container = container_lmm, expand= \"${ }\", stderr = f'{_output:n}.stderr', stdout = f'{_output:n}.stdout'\n",
    "\n",
    "    bcftools norm -m-any ${_input} | \\\n",
    "    bcftools norm --check-ref w -f ${ref_hg38} -Oz | \\\n",
    "    bcftools annotate -Oz -x ID -I +'%CHROM:%POS:%REF:%ALT' |\n",
    "    bcftools filter -e 'FILTER==\".\"' -Oz > ${_output[0]}\n",
    "    \n",
    "    ##Calulate ts/tv ratio before filtering\n",
    "    bcftools stats ${_output[0]} | grep \"TSTV\" >> ${_output[1]}"
   ]
  },
  {
   "cell_type": "code",
   "execution_count": null,
   "id": "simple-listing",
   "metadata": {
    "kernel": "SoS"
   },
   "outputs": [],
   "source": [
    "# Filter out variants based on DP and QC for snps and indels, remove monomorphic sites\n",
    "# AC==0 sites at with no alternative alleles are called\n",
    "# AC==AN sites at which only alternative alleles are called \n",
    "[qc_2]\n",
    "input: f'{cwd}/{_input:bn}.leftnorm.vcf.gz'\n",
    "output: f'{cwd}/{_input:bn}.filtered.vcf.gz', f'{cwd}/{_input:bn}.filtered.tstv'\n",
    "task: trunk_workers = 1, walltime = '24h', mem = '30G', cores = numThreads, tags = f'{step_name}_{_output:bn}'\n",
    "bash: container = container_lmm, expand= \"${ }\", stderr = f'{_output:n}.stderr', stdout = f'{_output:n}.stdout'\n",
    "\n",
    "    bcftools filter  -S . -e '(TYPE=\"SNP\" & FMT/DP<${DP_snp} & FMT/GQ<${GQ}) | (TYPE=\"INDEL\"& FMT/DP<${DP_indel} & FMT/GQ<${GQ})' ${_input} |\n",
    "    bcftools filter -e 'AC==0 || AC==AN' -Oz |\n",
    "    bcftools filter -i 'GT=\"hom\" | (TYPE=\"snp\" & GT=\"het\" & (FMT/AD[*:1])/(FORMAT/AD[*:0] + FMT/AD[*:1]) >= ${AB_snp}) | (TYPE=\"indel\" & GT=\"het\" & (FMT/AD[*:1])/(FORMAT/AD[*:0] + FMT/AD[*:1]) >= ${AB_indel})' > ${_output[0]} \n",
    "    \n",
    "    ##Calulate ts/tv ratio after filtering\n",
    "    bcftools stats ${_output[0]} | grep \"TSTV\" >> ${_output[1]}"
   ]
  },
  {
   "cell_type": "code",
   "execution_count": null,
   "id": "stock-partnership",
   "metadata": {
    "kernel": "SoS"
   },
   "outputs": [],
   "source": [
    "# Create plink files for analysis\n",
    "#  individual and variant missingness <10% \n",
    "# --vcf-filter skip variants that failed one or more filters tracked by the FILTER field\n",
    "# --vcf-require-gt keep only variants with genotypes\n",
    "[qc_3]\n",
    "input: f'{cwd}/{_input:bn}.filtered.vcf.gz'\n",
    "output: f'{cwd}/{_input:bn}.filtered.bed'\n",
    "task: trunk_workers = 1, walltime = '24h', mem = '30G', cores = numThreads, tags = f'{step_name}_{_output:bn}'\n",
    "bash: container = container_lmm, expand= \"${ }\", stderr = f'{_output:n}.stderr', stdout = f'{_output:n}.stdout'\n",
    "    plink --vcf ${_input} \\\n",
    "    --keep-allele-order \\\n",
    "    --allow-extra-chr \\\n",
    "    --vcf-filter \\\n",
    "    --vcf-require-gt \\\n",
    "    --maf ${maf} \\\n",
    "    --geno ${geno} \\\n",
    "    --mind ${mind} \\\n",
    "    --make-bed --out ${_output:n}"
   ]
  },
  {
   "cell_type": "markdown",
   "id": "lonely-morrison",
   "metadata": {
    "kernel": "SoS"
   },
   "source": [
    "# Badri Script\n"
   ]
  },
  {
   "cell_type": "code",
   "execution_count": null,
   "id": "imperial-scanning",
   "metadata": {
    "kernel": "SoS"
   },
   "outputs": [],
   "source": [
    "#!/bin/bash\n",
    "input_gvcf=$1\n",
    "output_bcf=$2\n",
    "output_plink=$3\n",
    "source /mnt/mfs/hgrcgrid/homes/bnv2103/.bashrc\n",
    "#input_gvcf=\"MAY_Alzheimers_GRM_WGS_2019-08-12_chrY.recalibrated_variants.vcf.gz\"\n",
    "#output_bcf=\"EFIGA_NIALOAD_chrY.bcf\"\n",
    "#outputplink=\"EFIGA_NIALOAD_chrY\"\n",
    "#bcftools norm -Ou -m -any ${input_gvcf} | bcftools norm -Ou -f /mnt/mfs/hgrcgrid/shared/GATK_Resources/b38/Homo_sapiens_assembly38.fasta | bcftools annotate -Ob -x ID -I +'%CHROM:%POS:%REF:%ALT' >${output_bcf} \n",
    "/mnt/mfs/hgrcgrid/homes/bnv2103/softwares/plink --bcf ${output_bcf} \\\n",
    "\t--keep-allele-order \\\n",
    "\t--allow-extra-chr \\\n",
    " \t--vcf-filter \\\n",
    "\t--vcf-require-gt \\\n",
    "\t--maf 0.00000001 \\\n",
    "\t--make-bed --out ${output_plink}"
   ]
  }
 ],
 "metadata": {
  "kernelspec": {
   "display_name": "SoS",
   "language": "sos",
   "name": "sos"
  },
  "language_info": {
   "codemirror_mode": "sos",
   "file_extension": ".sos",
   "mimetype": "text/x-sos",
   "name": "sos",
   "nbconvert_exporter": "sos_notebook.converter.SoS_Exporter",
   "pygments_lexer": "sos"
  },
  "sos": {
   "kernels": [
    [
     "SoS",
     "sos",
     "",
     ""
    ]
   ],
   "version": "0.22.4"
  }
 },
 "nbformat": 4,
 "nbformat_minor": 5
}
