{
 "cells": [
  {
   "cell_type": "markdown",
   "id": "copyrighted-consumption",
   "metadata": {
    "kernel": "SoS",
    "tags": []
   },
   "source": [
    "# Quality control on VCF files pipeline"
   ]
  },
  {
   "cell_type": "markdown",
   "id": "absent-integral",
   "metadata": {
    "kernel": "SoS"
   },
   "source": [
    "**Aim**\n",
    "\n",
    "To generate QC'ed files from the UKBB pVCF data"
   ]
  },
  {
   "cell_type": "markdown",
   "id": "average-republican",
   "metadata": {
    "kernel": "SoS"
   },
   "source": [
    "## Filters applied\n",
    "\n",
    "1. Genotype depth filters: SNPs DP>7 and Indels DP>10 for indels\n",
    "    > Then only SNV variant sites that met at least one of the following two criteria were [retained](https://www.google.com/url?sa=t&rct=j&q=&esrc=s&source=web&cd=&ved=2ahUKEwjPw5r_s5fvAhUVUzUKHe7GD-kQFjAEegQIDRAD&url=https%3A%2F%2Fwww.biorxiv.org%2Fcontent%2Fbiorxiv%2Fearly%2F2019%2F03%2F09%2F572347%2FDC2%2Fembed%2Fmedia-2.pdf%3Fdownload%3Dtrue&usg=AOvVaw06fvt4jBTPq5VfepojT1mZ) according to filtering made on the ~50K exomes by the UKBB\n",
    "    \n",
    "    > 1) at least one heterozygous variant genotype with allele balance ratio greater than or equal to 15% (AB >= 0.15) \n",
    "    \n",
    "    > 2) at least one homozygous variant genotype\n",
    "    \n",
    "2. At least one sample per site passed the allele balance threshold >= 0.15 for SNPs and >=0.20 for indels (heterozygous variants).\n",
    "3. Genotype quality GQ>20\n",
    "\n",
    "More recent reference [here](https://www.medrxiv.org/content/10.1101/2020.11.02.20222232v1.full-text)"
   ]
  },
  {
   "cell_type": "markdown",
   "id": "loaded-doctrine",
   "metadata": {
    "kernel": "SoS"
   },
   "source": [
    "## Concepts\n",
    "\n",
    "Allele balance: is calculated for heterozygotes as the number of bases supporting the least-represented allele over the total number of base observations\n",
    "\n",
    "bcftools expression `bcftools filter -i '(FMT/DP)>10'`: includes sites for which at least one sample has DP>10"
   ]
  },
  {
   "cell_type": "markdown",
   "id": "willing-power",
   "metadata": {
    "kernel": "SoS"
   },
   "source": [
    "## To run this notebook\n",
    "\n",
    "```\n",
    "sos dryrun ~/project/UKBB_GWAS_dev/workflow/VCF_QC_pipeline.ipynb qc:3 \\\n",
    "    --cwd output \\\n",
    "    --vcfs /mnt/mfs/statgen/UKBiobank/data/exome_files/project_VCF/ukb23156_c13_b*_v1.vcf.gz \\\n",
    "    --DP_snp 7 \\\n",
    "    --DP_indel 10 \\\n",
    "    --GQ 20 \\\n",
    "    --AB_snp 0.15 \\\n",
    "    --AB_indel 0.2 \\\n",
    "    --geno 0.1 \\\n",
    "    --mind 0.1 \\\n",
    "    --container_lmm /mnt/mfs/statgen/containers/lmm.sif\n",
    "```\n"
   ]
  },
  {
   "cell_type": "code",
   "execution_count": 1,
   "id": "proprietary-majority",
   "metadata": {
    "kernel": "SoS"
   },
   "outputs": [],
   "source": [
    "[global]\n",
    "# the output directory for generated files\n",
    "parameter: cwd = path\n",
    "# pVCF files\n",
    "parameter: vcfs = paths\n",
    "# reference genome hg38 path\n",
    "parameter: ref_hg38 = path(f'/home/dmc2245/software/GRCh38_reference_genome/GRCh38_full_analysis_set_plus_decoy_hla.fa')\n",
    "# Sample level QC - read depth (DP) to filter out SNPs below this value\n",
    "parameter: DP_snp = 7\n",
    "# Sample level QC - read depth (DP) to filter out indels below this value\n",
    "parameter: DP_indel = 10\n",
    "# Sample level QC - genotype quality (GQ) of specific sample. This measure tells you how confident we are that the genotype we assigned to a particular sample is correct\n",
    "parameter: GQ = 20\n",
    "# Allele balance for snps\n",
    "parameter: AB_snp = 0.15\n",
    "# Allele balance for indels\n",
    "parameter: AB_indel = 0.2\n",
    "# Variant missigness cut-off 10% default\n",
    "parameter: geno = 0.1\n",
    "# Sample missigness cut-off 10% default\n",
    "parameter: mind = 0.1\n",
    "# Minor allele frequency cut-off\n",
    "parameter: maf  = 0.0 \n",
    "# Container with bcftools\n",
    "parameter: container_lmm = 'statisticalgenetics/lmm:1.9'\n",
    "# Number of threads\n",
    "parameter: numThreads = 2"
   ]
  },
  {
   "cell_type": "code",
   "execution_count": null,
   "id": "young-number",
   "metadata": {
    "kernel": "SoS"
   },
   "outputs": [],
   "source": [
    "# Left normalize multiallelic sites and create unique variant annotation\n",
    "[qc_1]\n",
    "input: vcfs, group_by=1\n",
    "output: f'{cwd}/{_input:bnn}.leftnorm.vcf.gz'\n",
    "task: trunk_workers = 1, walltime = '24h', mem = '30G', cores = numThreads, tags = f'{step_name}_{_output:bn}'\n",
    "bash: container = container_lmm, expand= \"${ }\", stderr = f'{_output:n}.stderr', stdout = f'{_output:n}.stdout'\n",
    "    \n",
    "    bcftools norm -m-any ${_input} | \\\n",
    "    bcftools norm --check-ref w -f ${ref_hg38} -Oz | \\\n",
    "    bcftools annotate -Oz -x ID -I +'%CHROM:%POS:%REF:%ALT' > ${_output}\n",
    "    \n",
    "    ##Calulate ts/tv ratio before filtering\n",
    "    bcftools stats ${_output} > ${_output:nn}.stats_bcftools \n",
    "    grep \"TSTV\" ${_output:nn}.stats_bcftools > ${_output:nn}.unfiltered.tstv"
   ]
  },
  {
   "cell_type": "code",
   "execution_count": null,
   "id": "lovely-luxembourg",
   "metadata": {
    "kernel": "SoS"
   },
   "outputs": [],
   "source": [
    "# Filter out variants based on DP and QC for snps and indels\n",
    "# Remove monomorphic sites -- using bcftools view -c1  will only keep sites with at least one nonref allele \n",
    "[qc_2]\n",
    "input: output_from('qc_1'), group_by=1\n",
    "output: f'{cwd}/{_input:bnn}.filtered.vcf.gz'\n",
    "task: trunk_workers = 1, walltime = '24h', mem = '60G', cores = numThreads, tags = f'{step_name}_{_output:bn}'\n",
    "bash: container = container_lmm, expand= \"${ }\", stderr = f'{_output:n}.stderr', stdout = f'{_output:n}.stdout'\n",
    "    \n",
    "    bcftools filter -S . -e '(TYPE=\"SNP\" & (FMT/DP)<${DP_snp} & (FMT/GQ)<${GQ}) | (TYPE=\"INDEL\" & (FMT/DP)<${DP_indel} & (FMT/GQ)<${GQ})' ${_input} | \\\n",
    "    bcftools view -c 1  | \\\n",
    "    bcftools filter -i 'GT=\"hom\" | (TYPE=\"snp\" & GT=\"het\" & (FMT/AD[*:1])/(FORMAT/AD[*:0] + FMT/AD[*:1]) >= ${AB_snp}) | (TYPE=\"indel\" & GT=\"het\" & (FMT/AD[*:1])/(FORMAT/AD[*:0] + FMT/AD[*:1]) >= ${AB_indel})' -Oz -o ${_output} \n",
    "    \n",
    "    ##Calulate ts/tv ratio after filtering\n",
    "    bcftools stats ${_output} > ${_output:nn}.stats_bcftools \n",
    "    grep \"TSTV\" ${_output:nn}.stats_bcftools  > ${_output:nn}.tstv"
   ]
  },
  {
   "cell_type": "code",
   "execution_count": null,
   "id": "plain-university",
   "metadata": {
    "kernel": "SoS"
   },
   "outputs": [],
   "source": [
    "# Merge all the pVCF blocks for each chromosome\n",
    "[qc_3]\n",
    "def group_chrom(vcfs):\n",
    "  from itertools import groupby\n",
    "  # First, order by chr and blk\n",
    "  temp = sorted(vcfs, key = lambda x: ([int(y[1:]) for y in str(x).split('_')[1:3]]))\n",
    "  # Then group by chrom\n",
    "  return [list(ele) for i, ele in groupby(temp, lambda x: str(x).split('_', 3)[1])]\n",
    "from glob import glob\n",
    "input: glob(\"**/*.filtered.vcf.gz\"), group_by = group_chrom\n",
    "output: [f'{cwd}/{_input[0].name.split(\"_b\")[0]}.merged.vcf']\n",
    "task: trunk_workers = 1, walltime = '24h', mem = '30G', cores = numThreads, tags = f'{step_name}_{_output:bn}'\n",
    "bash: container = container_lmm, expand= \"${ }\", stderr = f'{_output:n}.stderr', stdout = f'{_output:n}.stdout'\n",
    "     bcftools concat -Oz ${_input} > ${_output}\n",
    "     tabix -p vcf ${_output}"
   ]
  },
  {
   "cell_type": "code",
   "execution_count": null,
   "id": "desirable-millennium",
   "metadata": {
    "kernel": "SoS"
   },
   "outputs": [],
   "source": [
    "# Create plink files for analysis\n",
    "#  individual and variant missingness <10% \n",
    "# --vcf-filter skip variants that failed one or more filters tracked by the FILTER field\n",
    "# --vcf-require-gt keep only variants with genotypes\n",
    "[qc_4]\n",
    "input: group_by=1\n",
    "output: f'{cwd}/{vcfs:bnn}.filtered.bed'\n",
    "task: trunk_workers = 1, walltime = '24h', mem = '30G', cores = numThreads, tags = f'{step_name}_{_output:bn}'\n",
    "bash: container = container_lmm, expand= \"${ }\", stderr = f'{_output:n}.stderr', stdout = f'{_output:n}.stdout'\n",
    "    plink --vcf ${_input} \\\n",
    "    --keep-allele-order \\\n",
    "    --allow-extra-chr \\\n",
    "    --vcf-filter \\\n",
    "    --vcf-require-gt \\\n",
    "    --maf ${maf} \\\n",
    "    --geno ${geno} \\\n",
    "    --mind ${mind} \\\n",
    "    --make-bed --out ${_output:n}"
   ]
  },
  {
   "cell_type": "markdown",
   "id": "duplicate-dominican",
   "metadata": {
    "kernel": "SoS"
   },
   "source": [
    "# Badri Script\n"
   ]
  },
  {
   "cell_type": "code",
   "execution_count": null,
   "id": "advised-passenger",
   "metadata": {
    "kernel": "Markdown",
    "tags": []
   },
   "outputs": [],
   "source": [
    "#!/bin/bash\n",
    "input_gvcf=$1\n",
    "output_bcf=$2\n",
    "output_plink=$3\n",
    "source /mnt/mfs/hgrcgrid/homes/bnv2103/.bashrc\n",
    "#input_gvcf=\"MAY_Alzheimers_GRM_WGS_2019-08-12_chrY.recalibrated_variants.vcf.gz\"\n",
    "#output_bcf=\"EFIGA_NIALOAD_chrY.bcf\"\n",
    "#outputplink=\"EFIGA_NIALOAD_chrY\"\n",
    "#bcftools norm -Ou -m -any ${input_gvcf} | bcftools norm -Ou -f /mnt/mfs/hgrcgrid/shared/GATK_Resources/b38/Homo_sapiens_assembly38.fasta | bcftools annotate -Ob -x ID -I +'%CHROM:%POS:%REF:%ALT' >${output_bcf} \n",
    "/mnt/mfs/hgrcgrid/homes/bnv2103/softwares/plink --bcf ${output_bcf} \\\n",
    "\t--keep-allele-order \\\n",
    "\t--allow-extra-chr \\\n",
    " \t--vcf-filter \\\n",
    "\t--vcf-require-gt \\\n",
    "\t--maf 0.00000001 \\\n",
    "\t--make-bed --out ${output_plink}"
   ]
  }
 ],
 "metadata": {
  "kernelspec": {
   "display_name": "SoS",
   "language": "sos",
   "name": "sos"
  },
  "language_info": {
   "codemirror_mode": "sos",
   "file_extension": ".sos",
   "mimetype": "text/x-sos",
   "name": "sos",
   "nbconvert_exporter": "sos_notebook.converter.SoS_Exporter",
   "pygments_lexer": "sos"
  },
  "sos": {
   "kernels": [
    [
     "Bash",
     "bash",
     "Bash",
     "#E6EEFF",
     ""
    ],
    [
     "Markdown",
     "markdown",
     "markdown",
     "",
     ""
    ],
    [
     "SoS",
     "sos",
     "",
     "",
     "sos"
    ]
   ],
   "version": "0.22.4"
  }
 },
 "nbformat": 4,
 "nbformat_minor": 5
}
