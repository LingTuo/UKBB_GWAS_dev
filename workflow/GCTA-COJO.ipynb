{
 "cells": [
  {
   "cell_type": "markdown",
   "metadata": {
    "kernel": "SoS"
   },
   "source": [
    "# GCTA-COJO: multi-SNP-based conditional & joint association analysis using GWAS summary data"
   ]
  },
  {
   "cell_type": "markdown",
   "metadata": {
    "kernel": "SoS"
   },
   "source": [
    "## Aim\n",
    "\n",
    "The purpose of this pipeline is to analyze the GWAS results for the UKBB data to identify secondary association signals to different traits, using both conditional and joint association analyses.\n",
    "\n",
    "Normally, the top SNP in the region is reported to represent association to the region. However, some assumptions need to be made:\n",
    "1. The top SNP captures the maximum amount of variation in the region because of its LD with an unknow causal variant\n",
    "2. Neighbor SNPs show association because they are correlated to the top SNP\n",
    "\n",
    "These assumptions are not met if:\n",
    "1. Even if there is a single casual variant, it may not capture the overall variation at the locus.\n",
    "2. There can be multiple causal variants in a locus, therefore a single SNPs won't capture all the LD between the unkown causal variants and the genotyped/imputed SNPs at the locus\n",
    "\n",
    "Conditional analysis: perform association analysis conditioning on the primary associated SNP at the locus to test whether there are any other SNPs significantly associated"
   ]
  },
  {
   "cell_type": "markdown",
   "metadata": {
    "kernel": "SoS"
   },
   "source": [
    "## Method\n",
    "\n",
    "Genome-wide stepwise selection procedure to select SNPs based on their conditional P values, then estimate the joint effects of all selected SNPs after the model is optimized"
   ]
  },
  {
   "cell_type": "markdown",
   "metadata": {
    "kernel": "SoS"
   },
   "source": [
    "## Input files\n",
    "\n",
    "Summary statistics format\n",
    "```\n",
    "SNP A1 A2 freq b se p N\n",
    "rs1001 A G 0.8493 0.0024 0.0055 0.6653 129850 \n",
    "rs1002 C G 0.0306 0.0034 0.0115 0.7659 129799 \n",
    "rs1003 A C 0.5128 0.0045 0.0038 0.2319 129830\n",
    "```\n",
    "\n",
    "Columns are:\n",
    "* SNP\n",
    "* A1: the effect allele\n",
    "* A2: the other allele\n",
    "* freq: frequency of the effect allele A1\n",
    "* b: effect size\n",
    "* se: standard error\n",
    "* p: p-value\n",
    "* N: sample size."
   ]
  },
  {
   "cell_type": "markdown",
   "metadata": {
    "kernel": "SoS"
   },
   "source": [
    "## Software options: \n",
    "\n",
    "Dor more info refer to the [documentation](https://cnsgenomics.com/software/gcta/#COJO)\n",
    "\n",
    "--cojo-slct : stepwise model selection procedure to select independently associated SNPs\n",
    "\n",
    "--cojo-top-SNPs 10 : Perform a stepwise model selection procedure to select a fixed number of independently associated SNPs without a p-value threshold\n",
    "\n",
    "--cojo-joint: Fit all the included SNPs to estimate their joint effects without model selection\n",
    "\n",
    "--cojo-cond SNP_file : Perform association analysis of the included SNPs conditional on the given list of SNPs\n",
    "\n",
    "--cojo-p 5e-8: Threshold p-value to declare a genome-wide significant hit\n",
    "\n",
    "--cojo-wind 10000: Specify a distance d (in Kb unit). It is assumed that SNPs more than d Kb away from each other are in complete linkage equilibrium\n",
    "\n",
    "--cojo-collinear 0.9: During the model selection procedure, the program will check the collinearity between the SNPs that have already been selected and a SNP to be tested. The testing SNP will not be selected if its multiple regression R2 on the selected SNPs is greater than the cutoff value\n",
    "\n",
    "--diff-freq 0.2: To check the difference in allele frequency of each SNP between the GWAS summary datasets and the LD reference sample. SNPs with allele frequency differences greater than the specified threshold value will be excluded from the analysis\n",
    "\n",
    "--cojo-gc : If this option is specified, p-values will be adjusted by the genomic control method. By default, the genomic inflation factor will be calculated from the summary-level statistics of all the SNPs unless you specify a value\n",
    "\n"
   ]
  },
  {
   "cell_type": "markdown",
   "metadata": {
    "kernel": "SoS"
   },
   "source": [
    "## Global parameter setting"
   ]
  },
  {
   "cell_type": "code",
   "execution_count": null,
   "metadata": {
    "kernel": "SoS"
   },
   "outputs": [],
   "source": [
    "[global]\n",
    "# the output directory for generated files\n",
    "parameter: cwd = path\n",
    "# Path to summary stats file\n",
    "parameter: sumstatsFile = path\n",
    "# Genotype files in plink binary this is used for computing the GRM\n",
    "parameter: bfile = path\n",
    "# Path to bgen files \n",
    "parameter: bgenFile = paths\n",
    "# Path to sample file\n",
    "parameter: sampleFile = path\n",
    "# Summary statistics format file path used for unifying input column names. Will not unify names if empty\n",
    "parameter: formatFile = path('.')\n",
    "# Specific number of threads to use\n",
    "parameter: numThreads = 2\n",
    "# Minimum MAF to be used\n",
    "parameter: bgenMinMAF = 0.001\n",
    "# Mimimum info score to be used\n",
    "parameter: bgenMinINFO = 0.8\n",
    "# For cluster jobs, number commands to run per job\n",
    "parameter: job_size = 1\n",
    "# The container with the lmm software. Can be either a dockerhub image or a singularity `sif` file.\n",
    "parameter: container_lmm = 'statisticalgenetics/lmm:1.3'"
   ]
  },
  {
   "cell_type": "markdown",
   "metadata": {
    "kernel": "SoS"
   },
   "source": [
    "## Illustration with minimal working examples"
   ]
  },
  {
   "cell_type": "code",
   "execution_count": null,
   "metadata": {
    "kernel": "SoS"
   },
   "outputs": [],
   "source": []
  },
  {
   "cell_type": "markdown",
   "metadata": {
    "kernel": "SoS"
   },
   "source": [
    "```\n",
    "sos run ~/bioworkflows/GWAS/LMM.ipynb gcta_cojo \\\n",
    "    --cwd output \\\n",
    "    --bfile /gpfs/gibbs/pi/dewan/data/UKBiobank/MWE/genotypes.bed \\\n",
    "    --sampleFile /gpfs/gibbs/pi/dewan/data/UKBiobank/MWE/imputed_genotypes.sample \\\n",
    "    --bgenFile /gpfs/gibbs/pi/dewan/data/UKBiobank/MWE/imputed_genotypes_chr*.bgen \\\n",
    "    --formatFile /gpfs/gibbs/pi/dewan/data/UKBiobank/MWE/gcat-cojo_template \\\n",
    "    --numThreads 5 \\\n",
    "    --bgenMinMAF 0.001 \\\n",
    "    --bgenMinINFO 0.1 \\\n",
    "    --cojo-cond path_to_SNPS \\\n",
    "    --job-size 1 \\\n",
    "    --container_lmm /gpfs/gibbs/pi/dewan/data/UKBiobank/lmm.sif \\\n",
    "```"
   ]
  },
  {
   "cell_type": "code",
   "execution_count": null,
   "metadata": {
    "kernel": "SoS"
   },
   "outputs": [],
   "source": [
    "# Select multiple associated SNPs through a stepwise selection procedure or a fixed number of top associated SNPs\n",
    "[gcta_cojo_1: provides = [f'{cwd}/{sumstatsFile:bnn}.gcta_cojo.snp_stats.gz', f'{cwd}/{sumstatsFile:bnn}.cojo_slct.jma']]\n",
    "# If you want a fixed number of SNPs to be selected\n",
    "parameter: cojo_top_SNPs = 0\n",
    "input: bgenFile, group_by = 1\n",
    "output: f'{cwd}/{sumstatsFile:bnn}.gcta_cojo.snp_stats.gz', f'{cwd}/{sumstatsFile:bnn}.cojo_slct.jma'\n",
    "task: trunk_workers = 1, trunk_size = job_size, walltime = '48h', mem = '48G', cores = numThreads, tags = f'{step_name}_{_output[0]:bn}'\n",
    "python: container=container_lmm, expand = \"${ }\", stderr = f'{_output[0]:n}.stderr', stdout = f'{_output[0]:n}.stdout'\n",
    "        if ${formatFile.is_file()}:\n",
    "            import pandas as pd\n",
    "            sumstats = pd.read_csv(${sumstatsFile}, compression='gzip', header=0, delim_whitespace=True, quotechar='\"') \n",
    "            if ${formatFile.is_file()}:\n",
    "                import yaml\n",
    "                config = yaml.safe_load(open(${formatFile:r}, 'r'))\n",
    "            try:\n",
    "                sumstats = sumstats.loc[:,list(config.values())]\n",
    "            except:\n",
    "                raise ValueError(f'According to ${formatFile}, input summary statistics should have the following columns: {list(config.values())}.')\n",
    "            sumstats.columns = list(config.keys())\n",
    "            sumstats.to_csv(${_output[0]:r}, compression='gzip', sep='\\t', header = True, index = False)\n",
    "\n",
    "bash: container=container_lmm, expand = \"${ }\", stderr = f'{_output[1]:n}.stderr', stdout = f'{_output[1]:n}.stdout'\n",
    "    gcta64 \\\n",
    "    --bgen ${_input} \\\n",
    "    --sample ${sampleFile} \\\n",
    "    --autosome \\\n",
    "    --maf ${bgenMinMAF} \\\n",
    "    --info ${bgenMinINFO} \\\n",
    "    --cojo-file ${_output[0]}\\\n",
    "    --cojo-slct \\\n",
    "    ${('--cojo-top-SNPs %s' % cojo_top_SNPs) if cojo_top_SNPs > 0 else ''}\\\n",
    "    --out ${_output[1]:n}"
   ]
  },
  {
   "cell_type": "code",
   "execution_count": null,
   "metadata": {
    "kernel": "SoS"
   },
   "outputs": [],
   "source": [
    "# Perform single-SNP association analyses conditional on a set of SNPs without model selection\n",
    "[gcta_cojo_2]\n",
    "parameter: topSNPs = path\n",
    "input: bgenFile, group_by = 1\n",
    "output: f'{cwd}/{sumstatsFile:bnn}.cojo_cond.cma'\n",
    "depends: f'{cwd}/{sumstatsFile:bnn}.gcta_cojo.snp_stats.gz'\n",
    "task: trunk_workers = 1, trunk_size = job_size, walltime = '48h', mem = '48G', cores = numThreads, tags = f'{step_name}_{_output[0]:bn}'\n",
    "bash: container=container_lmm, expand = \"${ }\", stderr = f'{_output[0]:n}.stderr', stdout = f'{_output[0]:n}.stdout'\n",
    "    gcta64 \\\n",
    "    --bgen ${_input} \\\n",
    "    --sample ${sampleFile} \\\n",
    "    --autosome \\\n",
    "    --cojo-file ${_depends} \\\n",
    "    --cojo-p 5e-8 \\\n",
    "    --cojo-wind 10000 \\\n",
    "    --cojo-collinear 0.9 \\\n",
    "    --cojo-cond ${topSNPs} \\\n",
    "    --thread-num ${numThreads} \\\n",
    "    --out ${_output:n}"
   ]
  },
  {
   "cell_type": "code",
   "execution_count": null,
   "metadata": {
    "kernel": "SoS"
   },
   "outputs": [],
   "source": [
    "# Estimate the joint effects of a subset of SNPs (given in the file test.snplist) without model selection\n",
    "[gcta_cojo_3]\n",
    "input: bgenFile, group_by = 1\n",
    "output: snplist = f'{cwd}/{sumstatsFile:bnn}.cojo_slct.snplist',  f'{cwd}/{sumstatsFile:bnn}.cojo_joint.jma'\n",
    "depends: f'{cwd}/{sumstatsFile:bnn}.cojo_slct.jma'\n",
    "task: trunk_workers = 1, trunk_size = job_size, walltime = '48h', mem = '48G', cores = numThreads, tags = f'{step_name}_{_output[0]:bn}'\n",
    "python: container=container_lmm, expand = \"${ }\", stderr = f'{_output[0]:n}.stderr', stdout = f'{_output[0]:n}.stdout'\n",
    "    import pandas as pd\n",
    "    snplist = pd.read_csv(${_depends}, header=0, delim_whitespace=True, quotechar='\"')\n",
    "    snplist = snplist.SNP\n",
    "    snplist.to_csv(${_output[0]:r}, sep='\\t', header = False, index = False)\n",
    "\n",
    "bash: container=container_lmm, expand = \"${ }\", stderr = f'{_output[0]:n}.stderr', stdout = f'{_output[0]:n}.stdout'\n",
    "    gcta64 \\\n",
    "    --bgen ${_input} \\\n",
    "    --sample ${sampleFile} \\\n",
    "    --autosome \\\n",
    "    --extract ${_output[0]} \\\n",
    "    --cojo-file ${_depends} \\\n",
    "    --cojo-joint \\\n",
    "    --out ${_output[1]}"
   ]
  }
 ],
 "metadata": {
  "kernelspec": {
   "display_name": "SoS",
   "language": "sos",
   "name": "sos"
  },
  "language_info": {
   "codemirror_mode": "sos",
   "file_extension": ".sos",
   "mimetype": "text/x-sos",
   "name": "sos",
   "nbconvert_exporter": "sos_notebook.converter.SoS_Exporter",
   "pygments_lexer": "sos"
  },
  "sos": {
   "kernels": [
    [
     "SoS",
     "sos",
     "",
     ""
    ]
   ],
   "version": "0.21.12"
  }
 },
 "nbformat": 4,
 "nbformat_minor": 4
}
