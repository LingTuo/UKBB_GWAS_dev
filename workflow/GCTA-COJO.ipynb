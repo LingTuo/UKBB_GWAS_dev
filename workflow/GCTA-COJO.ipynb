{
 "cells": [
  {
   "cell_type": "markdown",
   "metadata": {
    "kernel": "SoS"
   },
   "source": [
    "# GCTA-COJO: multi-SNP-based conditional & joint association analysis using GWAS summary data"
   ]
  },
  {
   "cell_type": "markdown",
   "metadata": {
    "kernel": "SoS"
   },
   "source": [
    "## Aim\n",
    "\n",
    "The purpose of this pipeline is to analyze the GWAS results for the UKBB data to identify secondary association signals to different traits, using both conditional and joint association analyses.\n",
    "\n",
    "Normally, the top SNP in the region is reported to represent association to the region. However, some assumptions need to be made:\n",
    "1. The top SNP captures the maximum amount of variation in the region because of its LD with an unknow causal variant\n",
    "2. Neighbor SNPs show association because they are correlated to the top SNP\n",
    "\n",
    "These assumptions are not met if:\n",
    "1. Even if there is a single casual variant, it may not capture the overall variation at the locus.\n",
    "2. There can be multiple causal variants in a locus, therefore a single SNPs won't capture all the LD between the unkown causal variants and the genotyped/imputed SNPs at the locus\n",
    "\n",
    "Conditional analysis: perform association analysis conditioning on the primary associated SNP at the locus to test whether there are any other SNPs significantly associated"
   ]
  },
  {
   "cell_type": "markdown",
   "metadata": {
    "kernel": "SoS"
   },
   "source": [
    "## Method\n",
    "\n",
    "Genome-wide stepwise selection procedure to select SNPs based on their conditional P values, then estimate the joint effects of all selected SNPs after the model is optimized"
   ]
  },
  {
   "cell_type": "markdown",
   "metadata": {
    "kernel": "SoS"
   },
   "source": [
    "## Input files\n",
    "\n",
    "Summary statistics format\n",
    "```\n",
    "SNP A1 A2 freq b se p N\n",
    "rs1001 A G 0.8493 0.0024 0.0055 0.6653 129850 \n",
    "rs1002 C G 0.0306 0.0034 0.0115 0.7659 129799 \n",
    "rs1003 A C 0.5128 0.0045 0.0038 0.2319 129830\n",
    "```\n",
    "\n",
    "Columns are:\n",
    "* SNP\n",
    "* A1: the effect allele\n",
    "* A2: the other allele\n",
    "* freq: frequency of the effect allele A1\n",
    "* b: effect size\n",
    "* se: standard error\n",
    "* p: p-value\n",
    "* N: sample size."
   ]
  },
  {
   "cell_type": "markdown",
   "metadata": {
    "kernel": "SoS"
   },
   "source": [
    "## Software options: \n",
    "\n",
    "For more info refer to the [documentation](https://cnsgenomics.com/software/gcta/#COJO)\n",
    "\n",
    "--cojo-slct : stepwise model selection procedure to select independently associated SNPs\n",
    "\n",
    "--cojo-top-SNPs 10 : Perform a stepwise model selection procedure to select a fixed number of independently associated SNPs without a p-value threshold\n",
    "\n",
    "--cojo-joint: Fit all the included SNPs to estimate their joint effects without model selection\n",
    "\n",
    "--cojo-cond SNP_file : Perform association analysis of the included SNPs conditional on the given list of SNPs\n",
    "\n",
    "--cojo-p 5e-8: Threshold p-value to declare a genome-wide significant hit\n",
    "\n",
    "--cojo-wind 10000: Specify a distance d (in Kb unit). It is assumed that SNPs more than d Kb away from each other are in complete linkage equilibrium\n",
    "\n",
    "--cojo-collinear 0.9: During the model selection procedure, the program will check the collinearity between the SNPs that have already been selected and a SNP to be tested. The testing SNP will not be selected if its multiple regression R2 on the selected SNPs is greater than the cutoff value\n",
    "\n",
    "--diff-freq 0.2: To check the difference in allele frequency of each SNP between the GWAS summary datasets and the LD reference sample. SNPs with allele frequency differences greater than the specified threshold value will be excluded from the analysis\n",
    "\n",
    "--cojo-gc : If this option is specified, p-values will be adjusted by the genomic control method. By default, the genomic inflation factor will be calculated from the summary-level statistics of all the SNPs unless you specify a value\n",
    "\n"
   ]
  },
  {
   "cell_type": "markdown",
   "metadata": {
    "kernel": "SoS"
   },
   "source": [
    "## Illustration with minimal working examples\n",
    "\n",
    "```\n",
    "sos run ~/project/UKBB_GWAS_dev/workflow/GCTA-COJO gcta_cojo \\\n",
    "    --cwd output \\\n",
    "    --bfile MWE/genotypes.bed \\\n",
    "    --sampleFile MWE/imputed_genotypes.sample \\\n",
    "    --bgenFile MWE/imputed_genotypes_chr*.bgen \\\n",
    "    --formatFile MWE/gcat-cojo_template \\\n",
    "    --numThreads 5 \\\n",
    "    --bgenMinMAF 0.001 \\\n",
    "    --bgenMinINFO 0.1 \\\n",
    "    --cojo-cond MWE/phenotypes_BMI.fastGWA.snp_stats.gz \\\n",
    "    --job-size 1 \\\n",
    "    --container_lmm lmm.sif\n",
    "```"
   ]
  },
  {
   "cell_type": "markdown",
   "metadata": {
    "kernel": "SoS"
   },
   "source": [
    "## Global parameter setting"
   ]
  },
  {
   "cell_type": "code",
   "execution_count": 12,
   "metadata": {
    "kernel": "SoS"
   },
   "outputs": [],
   "source": [
    "[global]\n",
    "# the output directory for generated files\n",
    "parameter: cwd = path\n",
    "# Path to summary stats file\n",
    "parameter: sumstatsFile = path\n",
    "# Genotype files in plink binary this is used for computing the GRM\n",
    "parameter: bfile = path\n",
    "# Summary statistics format file path used for unifying input column names. Will not unify names if empty\n",
    "parameter: formatFile = path('.')\n",
    "# Specific number of threads to use\n",
    "parameter: numThreads = 2\n",
    "# Minimum MAF to be used\n",
    "parameter: maf = 0.001\n",
    "# Chromosome to be analyzed\n",
    "parameter: chrom = 0\n",
    "# For cluster jobs, number commands to run per job\n",
    "parameter: job_size = 1\n",
    "# If the sumstatsfile has logP instead of P-val\n",
    "parameter: reverse_log_p = True\n",
    "# The container with the lmm software. Can be either a dockerhub image or a singularity `sif` file.\n",
    "parameter: container_lmm = 'statisticalgenetics/lmm:3.0'"
   ]
  },
  {
   "cell_type": "code",
   "execution_count": 13,
   "metadata": {
    "kernel": "SoS"
   },
   "outputs": [],
   "source": [
    "[top_SNPs]\n",
    "input: sumstatsFile\n",
    "output: topSNPs = f'{cwd}/{sumstatsFile:bnn}.top_SNPs.txt'\n",
    "task: trunk_workers = 1, trunk_size = job_size, walltime = '48h', mem = '48G', cores = numThreads, tags = f'{step_name}_{_output[0]:bn}'\n",
    "R: container=container_lmm, expand = \"${ }\", stderr = f'{_output:n}.stderr', stdout = f'{_output:n}.stdout'\n",
    "  library(dplyr)\n",
    "  sumstat = read.table(${_input:r}, sep = '\\t', header=T)\n",
    "  sumstat_top <- sumstat %>%\n",
    "      top_n(-10) %>%\n",
    "      select(\"SNP\")\n",
    "  write.table(sumstat_top, ${_output:br}, append = T, quote = FALSE, row.names = FALSE, col.names = FALSE )"
   ]
  },
  {
   "cell_type": "code",
   "execution_count": null,
   "metadata": {
    "kernel": "SoS"
   },
   "outputs": [],
   "source": [
    "# Create sumstats file\n",
    "[gcta_slct_1, gcta_cond_1, gcta_joint_1]\n",
    "input: sumstatsFile\n",
    "output: f'{cwd}/{sumstatsFile:bnn}.gcta_cojo.snp_stats'\n",
    "depends: formatFile\n",
    "task: trunk_workers = 1, trunk_size = job_size, walltime = '48h', mem = '48G', cores = numThreads, tags = f'{step_name}_{_output[0]:bn}'\n",
    "python: container=container_lmm, expand = \"${ }\",  stderr = f'{_output:n}.stderr', stdout = f'{_output:n}.stdout'\n",
    "    import gzip\n",
    "    import pandas as pd\n",
    "  \n",
    "    # unify output format\n",
    "    if ${formatFile.is_file()} or ${reverse_log_p}:\n",
    "        sumstats = pd.read_csv(${_input:r}, compression='gzip', header=0, delim_whitespace=True, quotechar='\"')  \n",
    "        if ${formatFile.is_file()}:\n",
    "            import yaml\n",
    "            config = yaml.safe_load(open(${formatFile:r}, 'r'))\n",
    "        try:\n",
    "            sumstats = sumstats.loc[:,list(config.values())]\n",
    "        except:\n",
    "            raise ValueError(f'According to ${formatFile}, input summary statistics should have the following columns: {list(config.values())}.')\n",
    "        sumstats.columns = list(config.keys())\n",
    "        if ${reverse_log_p}:\n",
    "            sumstats['p'] = sumstats['p'].apply(lambda row: 10**-row)\n",
    "        sumstats.to_csv(${_output:r}, sep='\\t', header = True, index = False)"
   ]
  },
  {
   "cell_type": "code",
   "execution_count": 14,
   "metadata": {
    "kernel": "SoS"
   },
   "outputs": [],
   "source": [
    "# Perform a stepwise model selection procedure to select independently associated SNPs. Results will be saved in a *.jma file with additional file *.jma.ldr showing the LD correlations between the SNPs.\n",
    "# Perform a stepwise model selection procedure to select a fixed number of independently associated SNPs without a p-value threshold. If option cojo_top_SNPs is active\n",
    "[gcta_slct_2]\n",
    "# If you want a fixed number of SNPs to be selected\n",
    "parameter: cojo_top_SNPs = 0\n",
    "input: bfile, group_by=1\n",
    "output: f'{cwd}/{sumstatsFile:bnn}.cojo_slct.jma.cojo'\n",
    "task: trunk_workers = 1, trunk_size = job_size, walltime = '48h', mem = '48G', cores = numThreads, tags = f'{step_name}_{_output:bn}'\n",
    "bash: container=container_lmm, expand = \"${ }\", stderr = f'{_output:n}.stderr', stdout = f'{_output:n}.stdout'\n",
    "    gcta64 \\\n",
    "    --bfile ${_input:n} \\\n",
    "    --autosome \\\n",
    "    --maf ${maf} \\\n",
    "    --cojo-file ${cwd}/${sumstatsFile:bnn}.gcta_cojo.snp_stats \\\n",
    "    --cojo-slct \\\n",
    "    --cojo-p 5e-8 \\\n",
    "    --cojo-wind 10000 \\\n",
    "    --cojo-collinear 0.9 \\\n",
    "    --cojo-gc \\\n",
    "    ${('--chr %s' % chrom) if chrom > 0 else ''} \\\n",
    "    ${('--cojo-top-SNPs %s' % cojo_top_SNPs) if cojo_top_SNPs > 0 else ''} \\\n",
    "    --out ${_output:nn}"
   ]
  },
  {
   "cell_type": "code",
   "execution_count": 10,
   "metadata": {
    "kernel": "SoS"
   },
   "outputs": [],
   "source": [
    "# Perform association analysis of the included SNPs conditional on the given list of SNPs without model selection. \n",
    "# Results will be saved in a *.cma. The conditional SNP effects (i.e. bC) will be labelled as \"NA\" if the multivariate correlation between the SNP in question and all the covariate SNPs is > 0.9\n",
    "[gcta_cond_2]\n",
    "# Give a list of SNPs on which to condition analysis\n",
    "parameter: snp_list = path\n",
    "input: bfile, group_by = 1\n",
    "output: f'{cwd}/{sumstatsFile:bnn}.cojo_cond.cma.cojo'\n",
    "task: trunk_workers = 1, trunk_size = job_size, walltime = '48h', mem = '48G', cores = numThreads, tags = f'{step_name}_{_output:bn}'\n",
    "bash: container=container_lmm, expand = \"${ }\", stderr = f'{_output:n}.stderr', stdout = f'{_output:n}.stdout'\n",
    "    gcta64 \\\n",
    "    --bfile ${_input:n} \\\n",
    "    --autosome \\\n",
    "    --cojo-file ${cwd}/${sumstatsFile:bnn}.gcta_cojo.snp_stats \\\n",
    "    --cojo-cond ${snp_list} \\\n",
    "    --maf ${maf} \\\n",
    "    --thread-num ${numThreads} \\\n",
    "    --out ${_output:nn}"
   ]
  },
  {
   "cell_type": "code",
   "execution_count": 11,
   "metadata": {
    "kernel": "SoS"
   },
   "outputs": [],
   "source": [
    "# Estimate the joint effects of a subset of SNPs (given in the file test.snplist) without model selection\n",
    "[gcta_joint_2]\n",
    "# To estimate the joint effects of  SNPs given in this list\n",
    "parameter: snp_list = path\n",
    "input: bfile, group_by = 1\n",
    "output:  f'{cwd}/{sumstatsFile:bnn}.cojo_joint.jma.cojo'\n",
    "task: trunk_workers = 1, trunk_size = job_size, walltime = '48h', mem = '48G', cores = numThreads, tags = f'{step_name}_{_output:bn}'\n",
    "bash: container=container_lmm, expand = \"${ }\", stderr = f'{_output:n}.stderr', stdout = f'{_output:n}.stdout'\n",
    "    gcta64 \\\n",
    "    --bfile ${_input:n} \\\n",
    "    --autosome \\\n",
    "    --extract ${snp_list} \\\n",
    "    --cojo-file ${cwd}/${sumstatsFile:bnn}.gcta_cojo.snp_stats\\\n",
    "    --cojo-joint \\\n",
    "    --out ${_output:nn}"
   ]
  }
 ],
 "metadata": {
  "kernelspec": {
   "display_name": "SoS",
   "language": "sos",
   "name": "sos"
  },
  "language_info": {
   "codemirror_mode": "sos",
   "file_extension": ".sos",
   "mimetype": "text/x-sos",
   "name": "sos",
   "nbconvert_exporter": "sos_notebook.converter.SoS_Exporter",
   "pygments_lexer": "sos"
  },
  "sos": {
   "kernels": [
    [
     "Bash",
     "calysto_bash",
     "Bash",
     "#E6EEFF",
     "shell"
    ],
    [
     "SoS",
     "sos",
     "",
     "",
     "sos"
    ]
   ],
   "version": "0.22.6"
  }
 },
 "nbformat": 4,
 "nbformat_minor": 4
}
