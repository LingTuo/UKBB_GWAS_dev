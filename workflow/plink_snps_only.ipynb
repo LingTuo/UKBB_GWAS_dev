{
 "cells": [
  {
   "cell_type": "markdown",
   "metadata": {
    "kernel": "SoS"
   },
   "source": [
    "## Filter exome bed files so they contain only SNPs with 2 alleles and non-duplicated variants"
   ]
  },
  {
   "cell_type": "code",
   "execution_count": null,
   "metadata": {
    "kernel": "SoS"
   },
   "outputs": [],
   "source": [
    "[global]\n",
    "# the output directory for generated files\n",
    "parameter: cwd = path\n",
    "# BED Plink files for exome data\n",
    "parameter: bedfiles = paths\n",
    "# For cluster jobs, number commands to run per job\n",
    "parameter: job_size = 1\n",
    "# Number of threads\n",
    "parameter: numThreads = 1\n",
    "# Software container option\n",
    "parameter: container_lmm = 'statisticalgenetics/lmm:1.5'"
   ]
  },
  {
   "cell_type": "code",
   "execution_count": null,
   "metadata": {
    "kernel": "SoS"
   },
   "outputs": [],
   "source": [
    "#Filter snps and remove duplicates with Plink2\n",
    "[plink_1]\n",
    "input: bedfiles, group_by=1\n",
    "output: f'{cwd}/{_input:bn}.snps_nondups.bed'\n",
    "task: trunk_workers = 1, walltime = '6h', mem = '20G', cores = numThreads, tags = f'{step_name}_{_output:bn}'\n",
    "bash: container=container_lmm, expand= \"${ }\", stderr = f'{_output:n}.stderr', stdout = f'{_output:n}.stdout'\n",
    "    awk -F' ' '{print $4}' ${_input:n}.bim | sort |uniq -d > ${_output:nn}.dup_pos\n",
    "    awk 'NR==FNR{a[$1]; next} ($4 in a) {print $2}' ${_output:nn}.dup_pos ${_input:n}.bim  > ${_output:nn}.dup_vars  \n",
    "    plink2 \\\n",
    "      --bfile ${_input:n} \\\n",
    "      --snps-only just-acgt\\\n",
    "      --exclude ${_output:nn}.dup_vars\\\n",
    "      --threads ${numThreads} \\\n",
    "      --make-bed \\\n",
    "      --out ${_output:n} "
   ]
  },
  {
   "cell_type": "code",
   "execution_count": null,
   "metadata": {
    "kernel": "SoS"
   },
   "outputs": [],
   "source": [
    "#Merge all the filtered files with Plink1.9\n",
    "[plink_2]\n",
    "input: group_by = 'all'\n",
    "output: f'{cwd}/ukb23155.filtered.merged.bed'\n",
    "task: trunk_workers = 1, trunk_size = job_size, walltime = '48h', mem = '60G', cores = numThreads, tags = f'{step_name}_{_output:bn}'\n",
    "bash: container=container_lmm, expand= \"${ }\", stderr = f'{_output:n}.stderr', stdout = f'{_output:n}.stdout'\n",
    "    echo -e ${' '.join([str(x)[:-4] for x in _input[1:]])} | sed 's/ /\\n/g' > ${_output:n}.merge_list\n",
    "    plink \\\n",
    "    --bfile ${_input[0]:n} \\\n",
    "    --merge-list ${_output:n}.merge_list \\\n",
    "    --make-bed \\\n",
    "    --out ${_output:n} \\\n",
    "    --threads ${numThreads} \\\n",
    "    --memory 60000"
   ]
  },
  {
   "cell_type": "code",
   "execution_count": 2,
   "metadata": {
    "kernel": "Bash"
   },
   "outputs": [
    {
     "name": "stdout",
     "output_type": "stream",
     "text": [
      "INFO: Running \u001b[32mfarnam\u001b[0m: Configuration for Yale `farnam` cluster\n",
      "INFO: \u001b[32mfarnam\u001b[0m (index=0) is \u001b[32mignored\u001b[0m due to saved signature\n",
      "INFO: \u001b[32mfarnam\u001b[0m output:   \u001b[32m../output/2021-01-08_plink_snps_only.sbatch\u001b[0m\n",
      "INFO: Workflow farnam (ID=1333be6e8ff392a0) is ignored with 1 ignored step.\n",
      "\n"
     ]
    }
   ],
   "source": [
    "tpl_file=../farnam.yml\n",
    "bedfiles=`echo /gpfs/gibbs/pi/dewan/data/UKBiobank/genotype_files/ukb28374_exomedata/exome_data_OCT2020/ukb23155_c{1..22}_b0_v1.bed`\n",
    "plink_sos=~/project/UKBB_GWAS_dev/workflow/plink_snps_only.ipynb\n",
    "plink_sbatch=../output/$(date +\"%Y-%m-%d\")_plink_snps_only.sbatch\n",
    "cwd=/gpfs/gibbs/pi/dewan/data/UKBiobank/genotype_files/ukb28374_exomedata/exome_data_OCT2020/exome_files_snpsonly\n",
    "job_size=1\n",
    "numThreads=22\n",
    "container_lmm=/gpfs/gibbs/pi/dewan/data/UKBiobank/lmm_v1_5.sif\n",
    "plink_args=\"\"\"plink\n",
    "    --cwd $cwd \n",
    "    --bedfiles $bedfiles  \n",
    "    --job_size $job_size\n",
    "    --numThreads $numThreads\n",
    "    --container_lmm $container_lmm\n",
    "\"\"\"\n",
    "    \n",
    "sos run ~/project/bioworkflows/GWAS/Get_Job_Script.ipynb farnam \\\n",
    "    --template-file $tpl_file \\\n",
    "    --workflow-file $plink_sos \\\n",
    "    --to-script $plink_sbatch \\\n",
    "    --args \"$plink_args\""
   ]
  },
  {
   "cell_type": "code",
   "execution_count": null,
   "metadata": {
    "kernel": "Bash"
   },
   "outputs": [],
   "source": [
    "#!/bin/bash\n",
    "files=$(ls -v *.dups_pos)\n",
    "for i in $files; do\n",
    "   wc -l $i >> dups_pos_counts.txt\n",
    "done\n",
    "\n",
    "files=$(ls -v *.dup_vars)\n",
    "for i in $files; do\n",
    "   wc -l $i >> dups_vars_counts.txt\n",
    "done\n",
    "\n",
    "files=$(ls -v ukb23155_c{1..22}_b0_v1.bim)\n",
    "for i in $files; do\n",
    "   wc -l $i >> bim_counts.txt\n",
    "done\n",
    "\n",
    "files=$(ls -v ukb23155_c{1..22}_b0_v1.snps_nondups.bim)\n",
    "for i in $files; do\n",
    "   wc -l $i >> bim_counts_snps_nondups.txt\n",
    "done\n",
    "\n",
    "paste bim_counts.txt dups_pos_counts.txt dups_vars_counts.txt > stats_vars_removed.txt\n"
   ]
  }
 ],
 "metadata": {
  "kernelspec": {
   "display_name": "SoS",
   "language": "sos",
   "name": "sos"
  },
  "language_info": {
   "codemirror_mode": "sos",
   "file_extension": ".sos",
   "mimetype": "text/x-sos",
   "name": "sos",
   "nbconvert_exporter": "sos_notebook.converter.SoS_Exporter",
   "pygments_lexer": "sos"
  },
  "sos": {
   "kernels": [
    [
     "Bash",
     "calysto_bash",
     "Bash",
     "#E6EEFF",
     ""
    ],
    [
     "SoS",
     "sos",
     "",
     "",
     "sos"
    ]
   ],
   "version": "0.21.21"
  }
 },
 "nbformat": 4,
 "nbformat_minor": 4
}
