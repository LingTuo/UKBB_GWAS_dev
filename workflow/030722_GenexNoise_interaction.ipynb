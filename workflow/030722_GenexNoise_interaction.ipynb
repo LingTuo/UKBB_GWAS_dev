{
 "cells": [
  {
   "cell_type": "markdown",
   "id": "e66b50c5-be6f-4dbd-a641-a46009c4643d",
   "metadata": {
    "kernel": "SoS",
    "tags": []
   },
   "source": [
    "# Gene x Noise interaction analysis\n",
    "\n",
    "Using the recoding gene level dosage to do Gene x Noise interaction analysis"
   ]
  },
  {
   "cell_type": "code",
   "execution_count": 1,
   "id": "6fb403d0-269b-4e17-8728-3ddf13a71295",
   "metadata": {
    "kernel": "Bash",
    "tags": []
   },
   "outputs": [
    {
     "name": "stderr",
     "output_type": "stream",
     "text": [
      "Traceback (most recent call last):\n",
      "  File \"/home/gl2776/miniconda3/lib/python3.8/runpy.py\", line 194, in _run_module_as_main\n",
      "    return _run_code(code, main_globals, None,\n",
      "  File \"/home/gl2776/miniconda3/lib/python3.8/runpy.py\", line 87, in _run_code\n",
      "    exec(code, run_globals)\n",
      "  File \"/home/gl2776/miniconda3/lib/python3.8/site-packages/bash_kernel/__main__.py\", line 1, in <module>\n",
      "    from ipykernel.kernelapp import IPKernelApp\n",
      "  File \"/home/gl2776/miniconda3/lib/python3.8/site-packages/ipykernel/kernelapp.py\", line 42, in <module>\n",
      "    from .ipkernel import IPythonKernel\n",
      "  File \"/home/gl2776/miniconda3/lib/python3.8/site-packages/ipykernel/ipkernel.py\", line 18, in <module>\n",
      "    from .zmqshell import ZMQInteractiveShell\n",
      "  File \"/home/gl2776/miniconda3/lib/python3.8/site-packages/ipykernel/zmqshell.py\", line 43, in <module>\n",
      "    from ipykernel.displayhook import ZMQShellDisplayHook\n",
      "  File \"<frozen importlib._bootstrap>\", line 991, in _find_and_load\n",
      "  File \"<frozen importlib._bootstrap>\", line 975, in _find_and_load_unlocked\n",
      "  File \"<frozen importlib._bootstrap>\", line 671, in _load_unlocked\n",
      "  File \"<frozen importlib._bootstrap_external>\", line 779, in exec_module\n",
      "  File \"<frozen importlib._bootstrap_external>\", line 874, in get_code\n",
      "  File \"<frozen importlib._bootstrap_external>\", line 973, in get_data\n",
      "KeyboardInterrupt\n"
     ]
    }
   ],
   "source": [
    "# Common variables Columbia's cluster\n",
    "UKBB_PATH=$HOME/UKBiobank\n",
    "UKBB_yale=$HOME/UKBiobank_Yale_transfer\n",
    "USER_PATH=$HOME/working\n",
    "container_lmm=$HOME/containers/lmm.sif\n",
    "container_marp=$HOME/containers/marp.sif\n",
    "container_annovar=$HOME/containers/gatk4-annovar.sif\n",
    "hearing_pheno_path=$UKBB_PATH/phenotype_files/hearing_impairment\n",
    "tpl_file=$USER_PATH/bioworkflows/admin/csg.yml\n",
    "formatFile_fastgwa=$USER_PATH/UKBB_GWAS_dev/data/fastGWA_template.yml\n",
    "formatFile_bolt=$USER_PATH/UKBB_GWAS_dev/data/boltlmm_template.yml\n",
    "formatFile_saige=$USER_PATH/UKBB_GWAS_dev/data/saige_template.yml\n",
    "formatFile_regenie=$USER_PATH/UKBB_GWAS_dev/data/regenie_template.yml\n",
    "# Workflows\n",
    "lmm_sos=$USER_PATH/bioworkflows/GWAS/LMM.ipynb\n",
    "anno_sos=$USER_PATH/bioworkflows/variant-annotation/annovar.ipynb\n",
    "clumping_sos=$USER_PATH/bioworkflows/GWAS/LD_Clumping.ipynb\n",
    "extract_sos=$USER_PATH/bioworkflows/GWAS/Region_Extraction.ipynb\n",
    "snptogene_sos=$USER_PATH/UKBB_GWAS_dev/workflow/snptogene.ipynb\n",
    "\n",
    "# LMM directories for array data data\n",
    "lmm_imp_dir_fastgwa=$UKBB_PATH/results/FastGWA_results/results_array_data\n",
    "lmm_imp_dir_bolt=$UKBB_PATH/results/BOLTLMM_results/results_array_data\n",
    "lmm_imp_dir_saige=$UKBB_PATH/results/SAIGE_results/results_array_data\n",
    "lmm_imp_dir_regenie=$UKBB_PATH/results/REGENIE_results/results_array_data\n",
    "\n",
    "# LMM directories for exome data\n",
    "lmm_exome_dir_fastgwa=$UKBB_PATH/results/FastGWA_results/results_array_data\n",
    "lmm_exome_dir_bolt=$UKBB_PATH/results/BOLTLMM_results/results_array_data\n",
    "lmm_exome_dir_saige=$UKBB_PATH/results/SAIGE_results/results_array_data\n",
    "lmm_exome_dir_regenie=$UKBB_PATH/results/REGENIE_results/results_array_data\n",
    "### Specific to REGENIE\n",
    "bsize=1000\n",
    "lowmem=~/project/guangyou/interaction/scratch60/\n",
    "lowmem_dir=~/project/guangyou/interaction/scratch60/predictions\n",
    "trait=bt\n",
    "minMAC=4\n",
    "maf_filter=0\n",
    "geno_filter=0\n",
    "hwe_filter=0\n",
    "mind_filter=0\n",
    "reverse_log_p=True\n",
    "numThreads=2"
   ]
  },
  {
   "cell_type": "code",
   "execution_count": 2,
   "id": "4400ddb7-f1dc-42bc-9111-07f73c3e89dd",
   "metadata": {
    "kernel": "Bash"
   },
   "outputs": [
    {
     "name": "stdout",
     "output_type": "stream",
     "text": [
      "INFO: Running \u001b[32mcsg\u001b[0m: Configuration for Columbia csg partition cluster\n",
      "INFO: \u001b[32mcsg\u001b[0m is \u001b[32mcompleted\u001b[0m.\n",
      "INFO: \u001b[32mcsg\u001b[0m output:   \u001b[32m/home/gl2776/project/guangyou/epistasis/20220307_regenie_interaction_GenexNoise/20220307_f3393/f3393_noise_interaction-regenie_2022-03-07.sbatch\u001b[0m\n",
      "INFO: Workflow csg (ID=w6b6875d2b67ec92f) is executed successfully with 1 completed step.\n"
     ]
    }
   ],
   "source": [
    "## All filters set to 0 because the version of the bfile has already been QC'ed previously and there is not need to do it here\n",
    "maf_filter=0\n",
    "geno_filter=0\n",
    "hwe_filter=0\n",
    "mind_filter=0\n",
    "lmm_dir_regenie=/home/gl2776/project/guangyou/epistasis/20220307_regenie_interaction_GenexNoise/20220307_f3393\n",
    "lmm_sbatch_regenie=$lmm_dir_regenie/f3393_noise_interaction-regenie_$(date +\"%Y-%m-%d\").sbatch\n",
    "#Use the phenotype file for the 500K individuals\n",
    "phenoFile=~/UKBiobank/results/REGENIE_results/results_imputed_data/2022_02_15_regenie_interaction_noise/phenotypes/021522_UKBB_Hearing_aid_f3393_expandedwhite_15601cases_237318ctrl_500k_PC1_PC2_noise\n",
    "phenoCol=f3393\n",
    "covarCol=sex\n",
    "qCovarCol=\"age PC1 PC2\"\n",
    "#Use the original bed files that passed QC using Megan's parameters geno=0.01, mind=0.1, maf=0.01, hwe=5e-08\n",
    "bfile=$UKBB_PATH/genotype_files_processed/090221_sample_variant_qc_final_callrate90/cache/UKB_genotypedatadownloaded083019.090221_sample_variant_qc_final_callrate90.filtered.extracted.bed\n",
    "# Use the gene bfile here for the association\n",
    "genoFile=\"~/project/guangyou/epistasis/chr1/ukb23155_c1_b0_v1.filtered.gene.bed\"\n",
    "for i in {2..22}\n",
    "do\n",
    "genoFile=`echo \"${genoFile} ~/project/guangyou/epistasis/chr${i}/ukb23155_c${i}_b0_v1.filtered.gene.bed\"`\n",
    "done\n",
    "## After doing the annotation you can create the annotatted manhatan plot\n",
    "lmm_job_size=20\n",
    "bgenMinMAF=0.001\n",
    "bgenMinINFO=0.8\n",
    "regenie_sos=~/working/interaction/newv/Regenie_interaction_GxE.ipynb\n",
    "regenieFile=/mnt/mfs/statgen/guangyou/containers/regenie.v.2.3\n",
    "lowmem_dir=$lmm_dir_regenie/scratch60/\n",
    "covariates=\"f3393_f4825_1 f3393_f4836_1 f3393_f4825_f4836_1 f3393_f4825_2 f3393_f4836_2 f3393_f4825_f4836_2\"\n",
    "# If --annotate then it will add the label to the plot otherwise --no-annotate\n",
    "\n",
    "lmm_args=\"\"\"regenie\n",
    "    --cwd $lmm_dir_regenie \n",
    "    --bfile $bfile \n",
    "    --genoFile $genoFile\n",
    "    --phenoFile $phenoFile \n",
    "    --formatFile $formatFile_regenie \n",
    "    --regenieFile $regenieFile\n",
    "    --sampleFile $sampleFile\n",
    "    --phenoCol $phenoCol\n",
    "    --covarCol $covarCol  \n",
    "    --qCovarCol $qCovarCol\n",
    "    --bsize $bsize\n",
    "    --lowmem_dir $lowmem_dir\n",
    "    --trait $trait\n",
    "    --covariates $covariates\n",
    "    --bgenMinMAF $bgenMinMAF \n",
    "    --bgenMinINFO $bgenMinINFO\n",
    "    --maf_filter $maf_filter\n",
    "    --geno_filter $geno_filter\n",
    "    --hwe_filter $hwe_filter\n",
    "    --mind_filter $mind_filter\n",
    "    --minMAC $minMAC\n",
    "    --job_size $lmm_job_size\n",
    "    --container_lmm $container_lmm\n",
    "    --container_marp $container_marp\n",
    "\"\"\"\n",
    "\n",
    "sos run ~/working/UKBB_GWAS_dev/admin/Get_Job_Script.ipynb csg\\\n",
    "    --template-file $tpl_file \\\n",
    "    --workflow-file $regenie_sos \\\n",
    "    --to-script $lmm_sbatch_regenie \\\n",
    "    --args \"$lmm_args\" "
   ]
  },
  {
   "cell_type": "code",
   "execution_count": null,
   "id": "d3973379-1b5c-4ea9-acfe-932d0dcf5446",
   "metadata": {
    "kernel": "Bash"
   },
   "outputs": [],
   "source": []
  }
 ],
 "metadata": {
  "kernelspec": {
   "display_name": "SoS",
   "language": "sos",
   "name": "sos"
  },
  "language_info": {
   "codemirror_mode": "sos",
   "file_extension": ".sos",
   "mimetype": "text/x-sos",
   "name": "sos",
   "nbconvert_exporter": "sos_notebook.converter.SoS_Exporter",
   "pygments_lexer": "sos"
  },
  "sos": {
   "kernels": [
    [
     "Bash",
     "bash",
     "Bash",
     "#E6EEFF",
     ""
    ]
   ],
   "version": "0.22.9"
  }
 },
 "nbformat": 4,
 "nbformat_minor": 5
}
