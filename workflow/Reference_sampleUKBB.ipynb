{
 "cells": [
  {
   "cell_type": "markdown",
   "metadata": {
    "kernel": "SoS"
   },
   "source": [
    "# Select 10000 individuals white British from UKBB to create reference panel"
   ]
  },
  {
   "cell_type": "code",
   "execution_count": null,
   "metadata": {
    "kernel": "SoS"
   },
   "outputs": [],
   "source": [
    "[global]\n",
    "# Working directory: change accordingly\n",
    "parameter: cwd = path\n",
    "# The fam file to extract the individuals\n",
    "parameter: famFile = path\n",
    "# Path to bgen files\n",
    "parameter: bgenFile = paths\n",
    "# Path to sample file\n",
    "parameter: sampleFile = path\n",
    "# For cluster jobs, number commands to run per job\n",
    "parameter: job_size = int\n",
    "# Specific number of threads to use\n",
    "parameter: numThreads = int\n",
    "# Load specific modules for each step\n",
    "parameter: qctool_module = '''\n",
    "module load Qctool/2.0.8\n",
    "echo \"Module qctool loaded\"\n",
    "{cmd}\n",
    "'''\n",
    "# Load specific modules for each step\n",
    "parameter: bgenix_module = '''\n",
    "module load Bgenix/1.1.8\n",
    "echo \"Module qctool loaded\"\n",
    "{cmd}\n",
    "'''\n",
    "# The container with the lmm software. Can be either a dockerhub image or a singularity `sif` file.\n",
    "parameter: container_lmm = 'statisticalgenetics/lmm:2.9'"
   ]
  },
  {
   "cell_type": "code",
   "execution_count": null,
   "metadata": {
    "kernel": "SoS"
   },
   "outputs": [],
   "source": [
    "#Use the most recent genotype file to select 10,000 individuals at random\n",
    "[filter_samples_1: provides = [f'{cwd}/{famFile:bn}.10000ind_ref']]\n",
    "input: famFile\n",
    "output: f'{cwd}/{_input:bn}.10000ind_ref'\n",
    "task: trunk_workers = 1, trunk_size = job_size, walltime = '48h',  mem = '10G', tags = f'{step_name}_{_output:bn}'\n",
    "R: container=container_lmm, expand=\"${ }\", stderr=f'{_output:n}.stderr', stdout=f'{_output:n}.stdout'\n",
    "  library(dplyr)  \n",
    "  sample = read.table(${famFile:r}, header=F)\n",
    "  ref = sample %>%\n",
    "    sample_n(10000) %>%\n",
    "    select(\"V1\")\n",
    "  ref = t(ref)\n",
    "  write.table(ref, ${_output:r}, col.name = F, row.names = F)"
   ]
  },
  {
   "cell_type": "code",
   "execution_count": null,
   "metadata": {
    "kernel": "SoS"
   },
   "outputs": [],
   "source": [
    "# Filter samples from bgen files\n",
    "[filter_samples_2]\n",
    "input: bgenFile, group_by=1\n",
    "output: f'{cwd}/{_input:bn}.10000ind_ref.bim', f'{cwd}/{_input:bn}.10000ind_ref.sample'\n",
    "depends: f'{cwd}/{famFile:bn}.10000ind_ref'\n",
    "task: trunk_workers = 1, trunk_size = job_size, walltime = '48h',  mem = '10G', tags = f'{step_name}_{_output[0]:bn}'\n",
    "bash: expand= \"${ }\", stderr = f'{_output[0]:n}.stderr', stdout = f'{_output[0]:n}.stdout', template = '{cmd}' if executable('qctools').target_exists() else qctool_module\n",
    "    qctool \\\n",
    "    -g ${_input} \\\n",
    "    -s ${sampleFile} \\\n",
    "    -incl-samples ${_depends} \\\n",
    "    -og ${_output[0]} \\\n",
    "    -os ${_output[1]}"
   ]
  },
  {
   "cell_type": "code",
   "execution_count": null,
   "metadata": {
    "kernel": "SoS"
   },
   "outputs": [],
   "source": [
    "[filter_variants]\n",
    "# Give the region to extract in the format chr:start-end\n",
    "parameter: region = str\n",
    "input: bgenFile, group_by=1\n",
    "output: f'{cwd}/{_input:bn}.{region}.bgen'\n",
    "task: trunk_workers = 1, trunk_size = job_size, walltime = '48h',  mem = '10G', tags = f'{step_name}_{_output[0]:bn}'\n",
    "bash: expand= \"${ }\", stderr = f'{_output:n}.stderr', stdout = f'{_output:n}.stdout', template = '{cmd}' if executable('qctool').target_exists() else qctool_module\n",
    "    qctool \\\n",
    "    -g ${_input} \\\n",
    "    -s ${sampleFile} \\\n",
    "    -incl-range ${region} \\\n",
    "    -og ${_output}"
   ]
  },
  {
   "cell_type": "code",
   "execution_count": null,
   "metadata": {
    "kernel": "SoS"
   },
   "outputs": [],
   "source": [
    "# Filter a region from a bgen file using bgenix (the file needs to be indexed first)\n",
    "# Make sure the correct format of the chromosome chr5, 5, 05 if not the command will fail to produce output\n",
    "[filter_region_bgenix]\n",
    "parameter: region = str\n",
    "input: bgenFile, group_by=1\n",
    "output: f'{cwd}/{_input:bn}.{region}.bgen'\n",
    "task: trunk_workers = 1, trunk_size = job_size, walltime = '48h',  mem = '10G', tags = f'{step_name}_{_output[0]:bn}'\n",
    "bash: expand= \"${ }\", stderr = f'{_output:n}.stderr', stdout = f'{_output:n}.stdout', template = '{cmd}' if executable('bgenix').target_exists() else bgenix_module\n",
    "   bgenix \\\n",
    "    -g ${_input} \\\n",
    "    -incl-range ${region} > ${_output}"
   ]
  },
  {
   "cell_type": "code",
   "execution_count": null,
   "metadata": {
    "kernel": "Bash",
    "tags": []
   },
   "outputs": [],
   "source": [
    "sos run ~/project/UKBB_GWAS_dev/workflow/Reference_sampleUKBB.ipynb filter_variants\\\n",
    "    --cwd ~/test \\\n",
    "    --famFile \\\n",
    "    --sampleFile ~/UKBiobank_Yale_transfer/ukb39554_imputeddataset/ukb32285_imputedindiv.sample\\\n",
    "    --bgenFile ~/UKBiobank_Yale_transfer/ukb39554_imputeddataset/ukb_imp_chr5_v3.bgen\\\n",
    "    --region 5:272856-1213643 \\\n",
    "    --job_size 1 \\\n",
    "    --numThreads 2"
   ]
  },
  {
   "cell_type": "code",
   "execution_count": null,
   "metadata": {
    "kernel": "SoS"
   },
   "outputs": [],
   "source": [
    "qctool -g ~/UKBiobank_Yale_transfer/ukb39554_imputeddataset/ukb_imp_chr5_v3.bgen\\\n",
    "       -s ~/UKBiobank_Yale_transfer/ukb39554_imputeddataset/ukb32285_imputedindiv.sample\\\n",
    "       -incl-range 05:272856-1213643 \\\n",
    "       -assume-chromosome 05 \\\n",
    "       -og ~/ukb_imp_chr5_v3_subset.bgen"
   ]
  },
  {
   "cell_type": "markdown",
   "metadata": {
    "kernel": "SoS"
   },
   "source": [
    "## Using bgenix"
   ]
  },
  {
   "cell_type": "code",
   "execution_count": null,
   "metadata": {
    "kernel": "SoS"
   },
   "outputs": [],
   "source": [
    "bgenix -g ~/UKBiobank_Yale_transfer/ukb39554_imputeddataset/ukb_imp_chr5_v3.bgen -incl-range 05:272856-1213643 > ~/test/chr5_test.bgen"
   ]
  }
 ],
 "metadata": {
  "kernelspec": {
   "display_name": "SoS",
   "language": "sos",
   "name": "sos"
  },
  "language_info": {
   "codemirror_mode": "sos",
   "file_extension": ".sos",
   "mimetype": "text/x-sos",
   "name": "sos",
   "nbconvert_exporter": "sos_notebook.converter.SoS_Exporter",
   "pygments_lexer": "sos"
  },
  "sos": {
   "kernels": [
    [
     "Bash",
     "calysto_bash",
     "Bash",
     "#E6EEFF",
     ""
    ],
    [
     "SoS",
     "sos",
     "",
     "",
     "sos"
    ]
   ],
   "version": "0.22.6"
  }
 },
 "nbformat": 4,
 "nbformat_minor": 4
}
