{
 "cells": [
  {
   "cell_type": "markdown",
   "metadata": {
    "kernel": "SoS"
   },
   "source": [
    "# Hudson plot\n",
    "\n",
    "## Aim\n",
    "\n",
    "Create mirrored plots for the joint visualization of different phenotypes/LMM methods"
   ]
  },
  {
   "cell_type": "code",
   "execution_count": null,
   "metadata": {
    "kernel": "SoS"
   },
   "outputs": [],
   "source": [
    "[global]\n",
    "# the output directory for generated files\n",
    "parameter: cwd = path\n",
    "# GWAS summary statistic file for phenotype/method 1\n",
    "parameter: sumstats_1= path\n",
    "#  GWAS summary statistic file for phenotype/method 2\n",
    "parameter: sumstas_2 =path\n",
    "# Top Title for the plot\n",
    "parameter: toptitle=str\n",
    "# Bottom Title for the plot\n",
    "parameter: bottomtitle=str\n",
    "# For cluster jobs, number commands to run per job\n",
    "parameter: job_size = 1\n",
    "# Specific number of threads to use\n",
    "parameter: numThreads = 2\n",
    "# Column name for BP\n",
    "parameter: bp = 'POS'\n",
    "# Column name for p-value\n",
    "parameter: pval = 'P'\n",
    "# Column name for SNP\n",
    "parameter: snp = 'SNP'\n",
    "# P value use to highlight variants\n",
    "parameter: highlight_p_top = 0.0\n",
    "parameter: highlight_p_bottom = 0.0\n",
    "# SNP list to highlight\n",
    "parameter: highlight_snp = []\n",
    "# SNP list to annotate\n",
    "parameter: annotate_snp = []"
   ]
  },
  {
   "cell_type": "code",
   "execution_count": null,
   "metadata": {
    "kernel": "SoS"
   },
   "outputs": [],
   "source": [
    "# Hudson plots for two traits\n",
    "[hudson_plot]\n",
    "input: sumstats_1, sumstats_2\n",
    "output: f'{cwd}/{sumstats1:bnn}_{sumstats2:bnn}.hudson.png'\n",
    "task: trunk_workers = 1, walltime = '10h', mem = '30G', cores = numThreads, tags = f'{step_name}_{_output[0]:bn}'\n",
    "R: expand= \"${ }\", stderr = f'{_output[0]:n}.stderr', stdout = f'{_output[0]:n}.stdout'\n",
    "    library('hudson')\n",
    "    library('ggplot2')\n",
    "    library('ggrepel')\n",
    "    # Import relevant sumstats\n",
    "    gwas.1 <- read.table(gzfile('${_input1}'), header=T)\n",
    "    gwas.2 <- read.table(gzfile('${_input2}'), header=T)\n",
    "  \n",
    "    # Create the dataframes with useful info\n",
    "    qqdat1 <- data.frame(SNP=gwas.1$${snp},CHR=gwas.1$CHR,POS=gwas.1$${bp}, pvalue=gwas.1$${pval},length.out=nrow(gwas.1), each=1)\n",
    "    qqdat2 <- data.frame(SNP=gwas.2$${snp},CHR=gwas.2$CHR,POS=gwas.2$${bp}, pvalue=gwas.2$${pval},length.out=nrow(gwas.2), each=1)\n",
    "  \n",
    "    #Create mirrod plot\n",
    "    gmirror(top=qqdat1, bottom=qqdat2, tline=5e-08, bline=5e-08, \n",
    "            toptitle=\"${toptitle}\", bottomtitle = \"${bottomtitle}\", log10=TRUE,\n",
    "            highliht_snp = c(${','.join(['\"%s\"' % x for x in highlight_snp if x is not None])}),\n",
    "            annotate_snp = c(${','.join(['\"%s\"' % x for x in annotate_snp if x is not None])}),\n",
    "            highlight_p = c(${highlight_p_top},${highlight_p_bottom}), highlighter=\"green\",\n",
    "            file=${_output}, res=300)"
   ]
  }
 ],
 "metadata": {
  "kernelspec": {
   "display_name": "SoS",
   "language": "sos",
   "name": "sos"
  },
  "language_info": {
   "codemirror_mode": "sos",
   "file_extension": ".sos",
   "mimetype": "text/x-sos",
   "name": "sos",
   "nbconvert_exporter": "sos_notebook.converter.SoS_Exporter",
   "pygments_lexer": "sos"
  },
  "sos": {
   "kernels": [
    [
     "SoS",
     "sos",
     "",
     ""
    ]
   ],
   "version": "0.21.12"
  }
 },
 "nbformat": 4,
 "nbformat_minor": 4
}
