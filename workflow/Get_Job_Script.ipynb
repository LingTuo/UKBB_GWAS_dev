{
 "cells": [
  {
   "cell_type": "markdown",
   "metadata": {
    "kernel": "SoS"
   },
   "source": [
    "# Generate job submission script for various computing environments\n",
    "\n",
    "This workflow generates job scripts for cluster job submissions."
   ]
  },
  {
   "cell_type": "code",
   "execution_count": 23,
   "metadata": {
    "kernel": "SoS"
   },
   "outputs": [],
   "source": [
    "[global]\n",
    "# Job script file to be written to\n",
    "parameter: to_script = path\n",
    "# The workflow file to execute\n",
    "parameter: workflow_file = path\n",
    "# Path to job template\n",
    "parameter: template_file = path\n",
    "# Command arguments\n",
    "parameter: args = str\n",
    "\n",
    "args = '\\\\\\n'.join(args.strip().split('\\n'))"
   ]
  },
  {
   "cell_type": "code",
   "execution_count": 29,
   "metadata": {
    "kernel": "SoS"
   },
   "outputs": [],
   "source": [
    "[farnam]\n",
    "report: output = to_script, expand = True\n",
    "\n",
    "    #!/bin/bash\n",
    "    #SBATCH --partition general\n",
    "    #SBATCH --nodes 1\n",
    "    #SBATCH --ntasks-per-node 1\n",
    "    #SBATCH --cpus-per-task 4\n",
    "    #SBATCH --mem 16G\n",
    "    #SBATCH --time 3-0:00:00\n",
    "    #SBATCH --job-name {to_script:n}\n",
    "    #SBATCH --output {to_script:n}-%J.out\n",
    "    #SBATCH --error {to_script:n}-%J.log\n",
    "\n",
    "    sos run {workflow_file:a} \\\n",
    "        {args} \\\n",
    "        -c {template_file:a} -q farnam -J 40 \\\n",
    "        &> {to_script:n}.log"
   ]
  },
  {
   "cell_type": "markdown",
   "metadata": {
    "kernel": "SoS"
   },
   "source": [
    "## Example\n",
    "\n",
    "First, configure bash variables,"
   ]
  },
  {
   "cell_type": "code",
   "execution_count": 30,
   "metadata": {
    "kernel": "Bash"
   },
   "outputs": [],
   "source": [
    "# Set the bash variables\n",
    "cwd=~/scratch60/region_extract\n",
    "region_file=~/scratch60/plink-clumping/asthma.sumstats_INT_BMI.sumstats.clumped_region_modified\n",
    "pheno_path=/SAY/dbgapstg/scratch/UKBiobank/phenotype_files/pleiotropy_R01/phenotypesforanalysis/normalized_phenotypes/UKB_caucasians_BMIwaisthip_AsthmaAndT2D_INT-BMI_withagesex_041720\n",
    "geno_path=~/scratch60/plink-clumping/chr7_region/bgenfilepath.txt\n",
    "bgen_sample_file=/SAY/dbgapstg/scratch/UKBiobank/genotype_files/ukb39554_imputeddataset/ukb32285_imputedindiv.sample\n",
    "sumstats_path=/SAY/dbgapstg/scratch/UKBiobank/results/BOLTLMM_results/results_imputed_data/INT-BMI/ukb_imp_v3.UKB_caucasians_BMIwaisthip_AsthmaAndT2D_INT-BMI_withagesex_041720.BoltLMM.snp_stats.all_chr.gz\n",
    "unrelated_samples=/SAY/dbgapstg/scratch/UKBiobank/genotype_files/pleiotropy_geneticfiles/unrelated_n307259/UKB_unrelatedcauc_phenotypes_asthmat2dbmiwaisthip_agesex_waisthipratio_040620\n",
    "format_config_path=~/project/UKBB_GWAS_DEV/data/boltlmm_template.yml\n",
    "job_size=10"
   ]
  },
  {
   "cell_type": "markdown",
   "metadata": {
    "kernel": "Bash"
   },
   "source": [
    "Then using bash variables above, construct the command arguments for the pipeline,"
   ]
  },
  {
   "cell_type": "code",
   "execution_count": 31,
   "metadata": {
    "kernel": "Bash"
   },
   "outputs": [],
   "source": [
    "cmd_args=\"\"\"\n",
    "    --cwd $cwd \n",
    "    --region-file $region_file \n",
    "    --pheno-path $pheno_path \n",
    "    --geno-path $geno_path \n",
    "    --bgen-sample-path $bgen_sample_file \n",
    "    --sumstats-path $sumstats_path \n",
    "    --format-config-path $format_config_path \n",
    "    --unrelated-samples $unrelated_samples \n",
    "    --job-size $job_size\n",
    "    -s build\n",
    "\"\"\""
   ]
  },
  {
   "cell_type": "markdown",
   "metadata": {
    "kernel": "Bash"
   },
   "source": [
    "Finally, generate the pipeline submission script,"
   ]
  },
  {
   "cell_type": "code",
   "execution_count": 32,
   "metadata": {
    "kernel": "Bash"
   },
   "outputs": [
    {
     "name": "stdout",
     "output_type": "stream",
     "text": [
      "INFO: Running \u001b[32mfarnam\u001b[0m: \n",
      "INFO: \u001b[32mfarnam\u001b[0m is \u001b[32mcompleted\u001b[0m.\n",
      "INFO: Workflow farnam (ID=23148c69b66ef62a) is executed successfully with 1 completed step.\n"
     ]
    }
   ],
   "source": [
    "sos run Get_Job_Script.ipynb farnam \\\n",
    "    --workflow-file ~/project/UKBB_GWAS_DEV/workflow/Region_Extraction.ipynb \\\n",
    "    --to-script 070120-sos-INT-BMI-region.sbatch \\\n",
    "    --template-file ../farnam.yml \\\n",
    "    --args \"$cmd_args\""
   ]
  },
  {
   "cell_type": "markdown",
   "metadata": {
    "kernel": "Bash"
   },
   "source": [
    "## Result"
   ]
  },
  {
   "cell_type": "code",
   "execution_count": 33,
   "metadata": {
    "kernel": "SoS"
   },
   "outputs": [
    {
     "data": {
      "text/html": [
       "<div class=\"sos_hint\">> 070120-sos-INT-BMI-region.sbatch (1.5 KiB):</div>"
      ],
      "text/plain": [
       "\n",
       "> 070120-sos-INT-BMI-region.sbatch (1.5 KiB):"
      ]
     },
     "metadata": {},
     "output_type": "display_data"
    },
    {
     "data": {
      "text/html": [
       "<div class=\"sos_hint\">26 lines (-1 displayed, see --limit)</div>"
      ]
     },
     "metadata": {},
     "output_type": "display_data"
    },
    {
     "name": "stdout",
     "output_type": "stream",
     "text": [
      "\n",
      "#!/bin/bash\n",
      "#SBATCH --partition general\n",
      "#SBATCH --nodes 1\n",
      "#SBATCH --ntasks-per-node 1\n",
      "#SBATCH --cpus-per-task 4\n",
      "#SBATCH --mem 16G\n",
      "#SBATCH --time 3-0:00:00\n",
      "#SBATCH --job-name 070120-sos-INT-BMI-region\n",
      "#SBATCH --output 070120-sos-INT-BMI-region-%J.out\n",
      "#SBATCH --error 070120-sos-INT-BMI-region-%J.log\n",
      "\n",
      "sos run /home/gw/project/UKBB_GWAS_DEV/workflow/Region_Extraction.ipynb \\\n",
      "    --cwd /home/gw/scratch60/region_extract \\\n",
      "    --region-file /home/gw/scratch60/plink-clumping/asthma.sumstats_INT_BMI.sumstats.clumped_region_modified \\\n",
      "    --pheno-path /SAY/dbgapstg/scratch/UKBiobank/phenotype_files/pleiotropy_R01/phenotypesforanalysis/normalized_phenotypes/UKB_caucasians_BMIwaisthip_AsthmaAndT2D_INT-BMI_withagesex_041720 \\\n",
      "    --geno-path /home/gw/scratch60/plink-clumping/chr7_region/bgenfilepath.txt \\\n",
      "    --bgen-sample-path /SAY/dbgapstg/scratch/UKBiobank/genotype_files/ukb39554_imputeddataset/ukb32285_imputedindiv.sample \\\n",
      "    --sumstats-path /SAY/dbgapstg/scratch/UKBiobank/results/BOLTLMM_results/results_imputed_data/INT-BMI/ukb_imp_v3.UKB_caucasians_BMIwaisthip_AsthmaAndT2D_INT-BMI_withagesex_041720.BoltLMM.snp_stats.all_chr.gz \\\n",
      "    --format-config-path /home/gw/project/UKBB_GWAS_DEV/data/boltlmm_template.yml \\\n",
      "    --unrelated-samples /SAY/dbgapstg/scratch/UKBiobank/genotype_files/pleiotropy_geneticfiles/unrelated_n307259/UKB_unrelatedcauc_phenotypes_asthmat2dbmiwaisthip_agesex_waisthipratio_040620 \\\n",
      "    --job-size 10\\\n",
      "    -s build \\\n",
      "    -c /home/gw/GIT/github/UKBB_GWAS_dev/farnam.yml -q farnam -J 40 \\\n",
      "    &> 070120-sos-INT-BMI-region.log\n"
     ]
    }
   ],
   "source": [
    "%preview 070120-sos-INT-BMI-region.sbatch -l -1"
   ]
  }
 ],
 "metadata": {
  "kernelspec": {
   "display_name": "SoS",
   "language": "sos",
   "name": "sos"
  },
  "language_info": {
   "codemirror_mode": "sos",
   "file_extension": ".sos",
   "mimetype": "text/x-sos",
   "name": "sos",
   "nbconvert_exporter": "sos_notebook.converter.SoS_Exporter",
   "pygments_lexer": "sos"
  },
  "sos": {
   "kernels": [
    [
     "Bash",
     "bash",
     "Bash",
     "#E6EEFF",
     "shell"
    ],
    [
     "SoS",
     "sos",
     "",
     "",
     "sos"
    ]
   ],
   "version": "0.21.9"
  }
 },
 "nbformat": 4,
 "nbformat_minor": 4
}
