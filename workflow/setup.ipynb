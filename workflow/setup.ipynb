{
 "cells": [
  {
   "cell_type": "markdown",
   "metadata": {
    "kernel": "SoS"
   },
   "source": [
    "# Setting up the computer environment\n",
    "\n",
    "Notes and tips on software configuration and management on Yale HPC cluster."
   ]
  },
  {
   "cell_type": "markdown",
   "metadata": {
    "kernel": "SoS"
   },
   "source": [
    "## Accessing Yale HPC cluster"
   ]
  },
  {
   "cell_type": "markdown",
   "metadata": {
    "kernel": "SoS"
   },
   "source": [
    "Using AnyConnect to establish connection:\n",
    "\n",
    "* VNP: access.yale.edu\n",
    "* username: dc2325\n",
    "* MFA: push # after this accept the access in the duo mobile app\n",
    "\n",
    "Using Linux terminal command:\n",
    "```\n",
    "sudo openconnect -u dc2325 access.yale.edu\n",
    "```\n",
    "Then type password at first password prompt, and `push` at 2nd password prompt. After this accept the access in the duo mobile app.\n",
    "\n",
    "Before you can login you must provide the public key of your computer to the server. To do so, please visit: https://secure.its.yale.edu/cas/login to login, then provide the key at http://gold.hpc.yale.internal/cgi-bin/sshkeys.py\n",
    "\n",
    "To login from the terminal:\n",
    "\n",
    "```\n",
    "ssh dc2325@farnam.hpc.yale.edu\n",
    "```"
   ]
  },
  {
   "cell_type": "markdown",
   "metadata": {
    "kernel": "Bash"
   },
   "source": [
    "## Loading and listing modules in your environment on the cluster\n",
    "\n",
    "```\n",
    "$ module avail # For a list of modules available to use\n",
    "$ module list # Displays all of the module files that are currently loaded in your environment\n",
    "$ module avail python # To look for specific modules\n",
    "$ module spider # Displays a description of all available modules\n",
    "$ module load <name> # to load pre-installed software\n",
    "$ module unload <name> # to unload\n",
    "```"
   ]
  },
  {
   "cell_type": "markdown",
   "metadata": {
    "kernel": "Bash"
   },
   "source": [
    "## Copying files/directories from and to the cluster"
   ]
  },
  {
   "cell_type": "markdown",
   "metadata": {
    "kernel": "Bash"
   },
   "source": [
    "To copy from the cluster to your local machine\n",
    "\n",
    "In your local terminal and to copy to the current dir `.`:\n",
    "\n",
    "```\n",
    "scp dc2325@farnam.hpc.yale.edu:/home/dc2325/results/pleiotropy/2020-04_bolt/BMI/*.snp_stats.bgen.gz . \n",
    "scp dc2325@farnam.hpc.yale.edu:/home/dc2325/scratch60/INT-BMI/*.stats.gz . \n",
    "```\n",
    "\n",
    "From your local machine to the cluster:\n",
    "\n",
    "```\n",
    "scp Test_INT-BMI.txt.gz dc2325@farnam.hpc.yale.edu:/home/dc2325/results/pleiotropy/2020-04_bolt/INT-BMI/\n",
    "```\n"
   ]
  },
  {
   "cell_type": "markdown",
   "metadata": {
    "kernel": "Bash"
   },
   "source": [
    "# Installing software in your $HOME directory"
   ]
  },
  {
   "cell_type": "markdown",
   "metadata": {
    "kernel": "Bash"
   },
   "source": [
    "## BOLT-LMM installation"
   ]
  },
  {
   "cell_type": "markdown",
   "metadata": {
    "kernel": "Bash"
   },
   "source": [
    "For local installs add these lines to your ~/.bash_profile\n",
    "```\n",
    "# local installs\n",
    "export MY_PREFIX=~/software\n",
    "export PATH=$MY_PREFIX/bin:$PATH\n",
    "export LD_LIBRARY_PATH=$MY_PREFIX/lib:$LD_LIBRARY_PATH\n",
    "```"
   ]
  },
  {
   "cell_type": "markdown",
   "metadata": {
    "kernel": "Markdown"
   },
   "source": [
    "Then install the package:\n",
    "\n",
    "```\n",
    "cd ~/software && mkdir bin lib && \\\n",
    "wget https://data.broadinstitute.org/alkesgroup/BOLT-LMM/downloads/BOLT-LMM_v2.3.4.tar.gz && \\\n",
    "tar -zxvf BOLT-LMM_v2.3.4.tar.gz && \\\n",
    "rm -rf BOLT-LMM_v2.3.4.tar.gz && \\\n",
    "cp BOLT-LMM_v2.3.4/bolt ~/software/bin/ && \\\n",
    "cp BOLT-LMM_v2.3.4/lib/* ~/software/lib/\n",
    "```"
   ]
  },
  {
   "cell_type": "markdown",
   "metadata": {
    "kernel": "Bash"
   },
   "source": [
    "## SAIGE installation"
   ]
  },
  {
   "cell_type": "markdown",
   "metadata": {
    "kernel": "R"
   },
   "source": [
    "#### Creating a conda environment\n",
    "\n",
    "As per SAIGE tutorial\n",
    "\n",
    "```\n",
    "conda create -n RSAIGE r-essentials r-base=3.6.1 python=2.7\n",
    "conda activate RSAIGE\n",
    "conda install -c anaconda cmake\n",
    "conda install -c conda-forge gettext lapack r-matrix\n",
    "conda install -c r r-rcpp  r-rcpparmadillo r-data.table r-bh\n",
    "conda install -c conda-forge r-spatest r-rcppeigen r-devtools  r-skat r-rcppparallel r-optparse boost openblas\n",
    "pip3 install cget click\n",
    "conda env export > environment-RSAIGE.yml\n",
    "```\n",
    "\n",
    "Solving some error issues in the installation of SAIGE https://github.com/weizhouUMICH/SAIGE/issues/118\n",
    "\n",
    "```\n",
    "conda create -n RSAIGE r-essentials r-base=3.6.1 python=2.7\n",
    "conda activate RSAIGE\n",
    "conda install -c anaconda cmake boost zlib\n",
    "conda install -c conda-forge gettext lapack r-matrix \n",
    "conda install -c conda-forge r-spatest r-rcppeigen r-devtools r-skat\n",
    "conda install -c conda-forge r-rcpp  r-rcpparmadillo r-data.table r-bh\n",
    "conda install -c conda-forge r-rcppparallel r-optparse\n",
    "pip install cget click\n",
    "```\n",
    "\n",
    "\n",
    "#### Activate conda environment\n",
    "\n",
    "```\n",
    " conda activate RSAIGE\n",
    " FLAGPATH=`which python | sed 's|/bin/python$||'`\n",
    " export LDFLAGS=\"-L${FLAGPATH}/lib\"\n",
    " export CPPFLAGS=\"-I${FLAGPATH}/include\"\n",
    " export LDFLAGS=\"-L/gpfs/ysm/project/dewan/dc2325/conda_envs/RSAIGE/lib\"\n",
    " export CPPFLAGS='-I/gpfs/ysm/project/dewan/dc2325/conda_envs/RSAIGE/include'\n",
    "```\n",
    "\n",
    "#### Intall required R libraries\n",
    "\n",
    "\n",
    "For this part I had to install MetaSKAT using the remotes library otherwise I found an error\n",
    "```\n",
    "install.packages(\"remotes\")\n",
    "remotes::install_github(\"lin-lab/MetaSKAT\")\n",
    "```\n",
    "#### Install SAIGE\n",
    "\n",
    "Method 2: this method did not work for me, so I proceed to the next one\n",
    "\n",
    "```\n",
    "devtools::install_github(\"weizhouUMICH/SAIGE\")\n",
    "```\n",
    "\n",
    "Method 3\n",
    "\n",
    "```\n",
    "src_branch=master\n",
    "repo_src_url=https://github.com/weizhouUMICH/SAIGE\n",
    "git clone --depth 1 -b $src_branch $repo_src_url\n",
    "R CMD INSTALL SAIGE\n",
    "```\n",
    "\n",
    "#### SAIGE on Yale cluster\n",
    "\n",
    "To install SAIGE in the HRC cluster first load necessary modules to create aspecific environment\n",
    "\n",
    "Search and load modules\n",
    "\n",
    "* `module avail` for a list of all available modules\n",
    " \n",
    "* `module avail R` to see a list of all available R modules in Yale's HRC\n",
    "\n",
    "\tSelect R-3.6.1 version if available by typing `module load R-3.6.1`\n",
    "\n",
    "* `module avail gcc`\n",
    "\n",
    "\tSelect gcc >= 5.4.0: `module load gcc-5.4.1`\n",
    "\n",
    "* `module avail cmake`\n",
    "\n",
    "\tSelect cmake 3.14.1: `module load cmake-3.14.1`\n",
    "\n",
    "* `module avail cget`\n",
    "\n",
    "\tSelect the latest version of cget: `module load cget`\n",
    "\n",
    "* Install R packages using the `install_packages.R` script\n",
    "\n",
    "\n",
    "Install SAIGE R package\n",
    "\t\n",
    "```\n",
    "R \n",
    "devtools::install_github(\"weizhouUMICH/SAIGE\")`\n",
    "```\n",
    "\n",
    "\n",
    "Fixing problem with conda template: can't execute `conda activate` from bash script \n",
    "https://github.com/conda/conda/issues/7980\n",
    "\n",
    "Added these variables to `.bash_profile` apparently fixed the issue\n",
    "\n",
    "```\n",
    "export -f conda\n",
    "export -f __conda_activate\n",
    "export -f __conda_reactivate\n",
    "export -f __conda_hashr\n",
    "        \n",
    "```\n",
    "Then `source .bash_profile`"
   ]
  },
  {
   "cell_type": "markdown",
   "metadata": {
    "kernel": "Bash"
   },
   "source": [
    "## SoS installation and configuration\n",
    "\n",
    "The first step is to download miniconda3 to your local directory, then `ssh` to install.\n",
    "\n",
    "```\n",
    "wget https://repo.anaconda.com/miniconda/Miniconda3-latest-Linux-x86_64.sh\n",
    "ssh Miniconda3-latest-Linux-x86_64.sh\n",
    "```\n",
    "By default a .bashrc file adding miniconda to the `$PATH` will be created, you can then modify as needed.\n",
    "\n",
    "Then install sos, sos-pbs and sos-notebook as the minimum requirements\n",
    "\n",
    "```\n",
    "conda install sos sos-pbs sos-notebook jupyterlab-sos sos-papermill -c conda-forge\n",
    "```"
   ]
  },
  {
   "cell_type": "markdown",
   "metadata": {
    "kernel": "Bash"
   },
   "source": [
    "## SoS update to get the latest improvements\n",
    "\n",
    "For development versions\n",
    "\n",
    "```\n",
    "pip install git+https://github.com/vatlab/sos -U\n",
    "\n",
    "```\n",
    "\n",
    "For released versions (when is implemented)\n",
    "```\n",
    "pip install sos -U\n",
    "```\n",
    "\n",
    "When you don't get the full features of the update do:\n",
    "```\n",
    "pip uninstall sos\n",
    "pip install sos -U\n",
    "```"
   ]
  },
  {
   "cell_type": "markdown",
   "metadata": {
    "kernel": "Bash"
   },
   "source": [
    "## Test your code before running it\n",
    "\n",
    "To check if the code in your notebook is running \n",
    "\n",
    "```\n",
    "sos dryrun notebook.ipynb -q localhost\n",
    "```\n"
   ]
  },
  {
   "cell_type": "markdown",
   "metadata": {
    "kernel": "Bash"
   },
   "source": [
    "## SoS commands to create scripts from available notebooks\n",
    "\n"
   ]
  },
  {
   "cell_type": "markdown",
   "metadata": {
    "kernel": "Bash"
   },
   "source": [
    "## Creating and switching environments with conda\n",
    "\n",
    "Installing python 2.7 and creating a conda environment\n",
    "\n",
    "```\n",
    "conda create --name py2 python=2.7\n",
    "conda activate py2\n",
    "conda deactivate\n",
    "```"
   ]
  },
  {
   "cell_type": "markdown",
   "metadata": {
    "kernel": "Bash"
   },
   "source": [
    "## R installation using conda\n",
    "\n",
    "Intalling R with conda will allow you to manage your own packages. Refer to https://docs.ycrc.yale.edu/clusters-at-yale/guides/r/ for more information\n",
    "\n",
    "```\n",
    "conda install -c r r-base\n",
    "conda install -c r r=3.6\n",
    "```\n",
    "To install R packages using conda \n",
    "\n",
    "```\n",
    "conda install -c r package_name\n",
    "```"
   ]
  },
  {
   "cell_type": "markdown",
   "metadata": {
    "kernel": "Bash"
   },
   "source": [
    "## QCTOOL version 2 usage\n",
    "\n",
    "If installed from source it requires zlib to be installed and compilation needs to be done with python 2 \n",
    "\n",
    "```\n",
    "cd ~/software && \\\n",
    "hg clone -r beta https://gavinband@bitbucket.org/gavinband/qctool && cd qctool\\\n",
    "./waf-1.5.18 configure --prefix=$MY_PREFIX  && ./waf-1.5.18 \\\n",
    "\n",
    "```\n",
    "\n",
    "If loaded from HPC cluster just write\n",
    "\n",
    "```\n",
    "module load awk '(NR==1){Min=$3;Max=$3};(NR>=3){if(Min>$3) Min=$3;if(Max<$3) Max=$3} END {printf \"The Min is %d ,Max is %d\",Min,Max}' ukb_mfi_chr1_v3.txt\n",
    "```\n"
   ]
  },
  {
   "cell_type": "markdown",
   "metadata": {
    "kernel": "Bash"
   },
   "source": [
    "## SLURM commands on Yale's cluster\n",
    "\n",
    "Submit a submission script \n",
    "\n",
    "```\n",
    "$ sbatch <script>\n",
    "```\n",
    "\n",
    "List queued and running jobs\n",
    "\n",
    "```\n",
    "$ squeue -u$USER\n",
    "```\n",
    "\n",
    "Cancel a queued job or kill a running job\n",
    "\n",
    "```\n",
    "$ scancel <job_id>\n",
    "```\n",
    "\n",
    "Cancel all your jobs (running and pending)\n",
    "\n",
    "```\n",
    "$ scancel -u$USER\n",
    "```\n",
    "\n",
    "Check status of individual job (including failed or completed)\n",
    "\n",
    "```\n",
    "$ sacct -j <job_id>\n",
    "```\n",
    "\n",
    "To see all pending jobs sorted by priority (jobs with higher priority at the top)\n",
    "\n",
    "```\n",
    "squeue --sort=-p -t PD -p general\n",
    "```\n",
    "\n",
    "To see files that will be deleted from scratch60 (they purge every 30 days)\n",
    "\n",
    "```\n",
    "cat /gpfs/ysm/scratch60/todelete/${UID}\n",
    "```\n",
    "\n",
    "To see the last job submitted slurm\n",
    "\n",
    "```\n",
    "sacct\n",
    "sacct -S start-date -u user-name\n",
    "```"
   ]
  },
  {
   "cell_type": "markdown",
   "metadata": {
    "kernel": "Bash"
   },
   "source": [
    "## Starting a jupyter notebook server on Yale's cluster"
   ]
  },
  {
   "cell_type": "markdown",
   "metadata": {
    "kernel": "Bash"
   },
   "source": [
    "1. Start a jupyter notebook job\n",
    "2. Start a ssh tunnel\n",
    "3. Use local browser to connect\n",
    "\n",
    "### Submit jupyter-notebook server as a batch job. \n",
    "\n",
    "For more documentation see: https://docs.ycrc.yale.edu/clusters-at-yale/guides/jupyter/\n",
    "\n",
    "1. Start the server:`sbatch jupyter-tunnel.sh`\n",
    "\n",
    "2. Check if your job was submitted and is running with: `squeue -u$USER`  R: the job is running and PD: pending (you will have to wait for you job to start running)\n",
    "\n",
    "3. Start the tunnel: open the log file jupyter-notebook-[jobid].log that contains the information on how to connect. This will be located in the directory you submitted the script from.\n",
    "\n",
    "4. On a Mac or Linux machine, you can start the tunnel with an `SSH` command. You can check the output from the job you started to get the specifc info you need.\n",
    "\n",
    "Example: `ssh -N -L 8511:c14n03:8511 dc2325@farnam.hpc.yale.edu`\n",
    "\n",
    "5. Browse the notebook: open a browser in your local machine and enter the address `http://localhost:port`. \n",
    "\n",
    "In my case **localhost=127.0.0.1**\n",
    "\n",
    "**TIP:** \n",
    "* The address Jupyter creates by default (the one with the name of a compute node) will not work outside the cluster's network. \n",
    "* The notebook will automatically generate a token that allows you to authenticate when you connect: it will look like this and it is at the end of the url that jupyter generates \n",
    "`http://c14n06:9230/?token=ad0775eaff315e6f1d98b13ef10b919bc6b9ef7d0605cc20` copy the information after the `token=`\n",
    "\n",
    "\n",
    "\n",
    "\n",
    "\n",
    "\n"
   ]
  },
  {
   "cell_type": "markdown",
   "metadata": {
    "kernel": "Bash"
   },
   "source": [
    "## Accessing an interactive node\n",
    "\n",
    "Interactive jobs can be used for testing and troubleshooting code. By requesting an interactive job, you will be allocated resources and logged onto the node in a shell.\n",
    "\n",
    "```\n",
    "srun --pty -p interactive --mem-per-cpu=48G --cpus-per-task=1 --time=1-00:00:00 bash\n",
    "```"
   ]
  },
  {
   "cell_type": "markdown",
   "metadata": {
    "kernel": "Bash"
   },
   "source": [
    "## Copying results to shared folder"
   ]
  },
  {
   "cell_type": "markdown",
   "metadata": {
    "kernel": "Bash"
   },
   "source": [
    "After completing the runs of the association analysis you should copy the results to the project shared folder\n",
    "\n",
    "#### Path\n",
    "\n",
    "`/SAY/dbgapstg/scratch/UKBiobank/results/BOLTLMM_results/results_imputed_data/INT-BMI`\n",
    "\n",
    "* The combined association analyses for the imputed data in .snp_stats.gz\n",
    "\n",
    "cp ukb_imp_allchr_v3.UKB_caucasians_BMIwaisthip_AsthmaAndT2D_INT-BMI_withagesex_041720.BoltLMM.snp_stats.gz /SAY/dbgapstg/scratch/UKBiobank/results/BOLTLMM_results/results_imputed_data\n",
    "\n",
    "* The combined association analyses for the hard called genotypes in .stats.gz\n",
    "\n",
    "cp ukb_imp_allchr_v3.UKB_caucasians_BMIwaisthip_AsthmaAndT2D_INT-BMI_withagesex_041720.BoltLMM.stats.gz /SAY/dbgapstg/scratch/UKBiobank/results/BOLTLMM_results/results_imputed_data\n",
    "\n",
    "* The gziped .stderr files in .stats.stderr.gz\n",
    "\n",
    "cp ukb_imp_allchr_v3.UKB_caucasians_BMIwaisthip_AsthmaAndT2D_INT-BMI_withagesex_041720.BoltLMM.stats.stderr.gz /SAY/dbgapstg/scratch/UKBiobank/results/BOLTLMM_results/results_imputed_data\n",
    "\n",
    "* The gziped .stdout files in .stdout.gz\n",
    "\n",
    "cp ukb_imp_allchr_v3.UKB_caucasians_BMIwaisthip_AsthmaAndT2D_INT-BMI_withagesex_041720.BoltLMM.stdout.gz /SAY/dbgapstg/scratch/UKBiobank/results/BOLTLMM_results/results_imputed_data\n",
    "\n"
   ]
  },
  {
   "cell_type": "code",
   "execution_count": null,
   "metadata": {
    "kernel": "Bash"
   },
   "outputs": [],
   "source": []
  }
 ],
 "metadata": {
  "kernelspec": {
   "display_name": "SoS",
   "language": "sos",
   "name": "sos"
  },
  "language_info": {
   "codemirror_mode": "sos",
   "file_extension": ".sos",
   "mimetype": "text/x-sos",
   "name": "sos",
   "nbconvert_exporter": "sos_notebook.converter.SoS_Exporter",
   "pygments_lexer": "sos"
  },
  "sos": {
   "kernels": [
    [
     "Bash",
     "bash",
     "Bash",
     "#E6EEFF",
     "shell"
    ],
    [
     "Markdown",
     "markdown",
     "markdown",
     "",
     ""
    ]
   ],
   "version": "0.21.7"
  }
 },
 "nbformat": 4,
 "nbformat_minor": 4
}
