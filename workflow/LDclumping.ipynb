{
 "cells": [
  {
   "cell_type": "markdown",
   "metadata": {
    "kernel": "SoS"
   },
   "source": [
    "# Perform LD-clumping in PLINK v1.9\n",
    "\n",
    "In this procedure only the most significant SNP (i.e. that with the lowest p-value) in a LD block is identified and used for further analysis. Therefore, reducing the correlation between the remaining SNPs while retaining SNPs with the strongest statistical evidence. The output is a subset of independent SNPs in the dataset."
   ]
  },
  {
   "cell_type": "markdown",
   "metadata": {
    "kernel": "SoS"
   },
   "source": [
    "**Settings for clumping analysis:**\n",
    "\n",
    "1. Which reference dataset to use? Options are 1000G_CEU, hapmap_CEU_r23a_filtered, UK10K, HRC reference panel\n",
    "    \n",
    "    * FIXME: if the SNPs are not in the reference panel they won't be outputed as index SNPs\n",
    "    * FIX: use the bgen files with the genotype info for which we are going to extract 1000 individuals\n",
    "    \n",
    "    \n",
    "2. What is the significance threshold for the index variant (p1) we should use for the analyses? \n",
    "    \n",
    "    p=5e-08\n",
    "    \n",
    "3. What significance threshold to use for the SNPs to be clumped? \n",
    "   \n",
    "   p=1 (this will include all the SNPs)\n",
    "   \n",
    "4. What LD r2 to use? \n",
    "   \n",
    "   r2=0.3 or even lower to capture bigger LD blocks\n",
    "   \n",
    "5. What window size in kb to use (research about the average LD in the human genome for CEU population)? \n",
    "   \n",
    "   I decided to use 1Mb (1000Kb), however conversations with the team decided that 2Mb will be better\n",
    "\n",
    "Below are the default options used by PLINK\n",
    "\n",
    "```\n",
    "--clump-p1 0.0001: significance threshold for Index SNPs\n",
    "--clump-p2 0.01: Secondary significance threshold for clumped SNPs\n",
    "--clump-r2 0.50: LD threshold for clumping\n",
    "--clump-kb 250: Physical distance threshold for clumping\n",
    "--clump-field P_BOLT_LMM: To specify the name of the field for P-value\n",
    "--clump-verbose: to add a more detailed report of SNPs in each clump\n",
    "--clump-best: to select the single best proxy\n",
    "```"
   ]
  },
  {
   "cell_type": "markdown",
   "metadata": {
    "kernel": "SoS"
   },
   "source": [
    "## Running this workflow"
   ]
  },
  {
   "cell_type": "markdown",
   "metadata": {
    "kernel": "SoS"
   },
   "source": [
    "On Yale Farnam cluster,\n",
    "\n",
    "```\n",
    "sos run ~/project/pleiotropy_UKB/workflow/LDclumping.ipynb awk -c ~/project/pleiotropy_UKB/farnam.yml -q farnam -J 40 -s build &> sos-submission-LDclumping-date.log\n",
    "```\n",
    "\n",
    "On a local computer with for example 8 threads and for the workflow `filter_samples`\n",
    "\n",
    "```\n",
    "sos run ~/project/pleiotropy_UKB/workflow/LDclumping.ipynb filter_samples -q none -j 8\n",
    "```"
   ]
  },
  {
   "cell_type": "code",
   "execution_count": null,
   "metadata": {
    "kernel": "SoS"
   },
   "outputs": [],
   "source": [
    "[global]\n",
    "# Working directory: change accordingly\n",
    "parameter: cwd = path('~/scratch60/plink-clumping')\n",
    "# Genotype file in plink binary format\n",
    "parameter: genoFile = path('/SAY/dbgapstg/scratch/UKBiobank/genotype_files/pleiotropy_geneticfiles/UKB_Caucasians_phenotypeindepqc120319_updated020720removedwithdrawnindiv.bed')\n",
    "# Path to bgen files\n",
    "parameter: bgenFile = paths([f'/SAY/dbgapstg/scratch/UKBiobank/genotype_files/ukb39554_imputeddataset/ukb_imp_chr{x+1}_v3.bgen' for x in range(22)])\n",
    "# Path to sample file\n",
    "parameter: sampleFile = path('/SAY/dbgapstg/scratch/UKBiobank/genotype_files/ukb39554_imputeddataset/ukb32285_imputedindiv.sample')\n",
    "# Path to summary stats file\n",
    "parameter: sum_stats= path('/home/dc2325/project/results/pleiotropy/2020-04_bolt/INT-BMI/ukb_imp_v3.UKB_caucasians_BMIwaisthip_AsthmaAndT2D_INT-BMI_withagesex_041720.BoltLMM.snp_stats.all_chr.gz')\n",
    "# Path to samples of unrelated individuals\n",
    "parameter: unrelated_samples = path('/SAY/dbgapstg/scratch/UKBiobank/genotype_files/pleiotropy_geneticfiles/unrelated_n307259/UKB_unrelatedcauc_phenotypes_asthmat2dbmiwaisthip_agesex_waisthipratio_040620')\n",
    "# Clumping parameteres\n",
    "parameter: clump_field = 'P_BOLT_LMM'\n",
    "parameter: clump_p1 = 5e-08\n",
    "parameter: clump_p2 = 1\n",
    "parameter: clump_r2 = 0.3\n",
    "parameter: clump_kb = 2000\n",
    "parameter: clump_annotate = 'BP'\n",
    "# For cluster jobs, number commands to run per job\n",
    "parameter: job_size = 1\n",
    "# Specific number of threads to use\n",
    "parameter: numThreads = 20"
   ]
  },
  {
   "cell_type": "markdown",
   "metadata": {
    "kernel": "SoS"
   },
   "source": [
    "## Select 1000 random and unrelated samples from UKB\n",
    "\n",
    "The sample_file.txt should be a text file containing a white space separated list of identifiers"
   ]
  },
  {
   "cell_type": "code",
   "execution_count": null,
   "metadata": {
    "kernel": "SoS"
   },
   "outputs": [],
   "source": [
    "# Create a white-space delimited file with a list of 1000 unrelated samples\n",
    "[filter_samples]\n",
    "input: unrelated_samples\n",
    "output: f'{cwd}/{_input:bn}.1000unrelatedindiv' , f'{cwd}/{_input:bn}.1000unrelatedindiv.sample'\n",
    "task: trunk_workers = 1, trunk_size = job_size, walltime = '12h', mem = '8G', tags = f'{step_name}_{_output:bn}'\n",
    "bash: expand = \"${ }\", workdir = cwd, stderr = f'{_output:n}.stderr', stdout = f'{_output:n}.stdout'\n",
    "    cat ${_input} | awk -F \" \" 'NR>1 {print $1}' | awk 'BEGIN {srand()} !/^$/ { if (rand() <= .004 || NR==1) print} {ORS=\" \"}' > ${_output[0]} \\\n",
    "    cat ${_output[0]} | awk -F \" \" 'BEGIN {OFS=\"\\n\"; print \"ID\"} {print $1}' > ${_output[1]}\n",
    "    "
   ]
  },
  {
   "cell_type": "markdown",
   "metadata": {
    "kernel": "SoS"
   },
   "source": [
    "## Filter the BGEN files \n",
    "\n",
    "This step is based on the samples selected in the previously"
   ]
  },
  {
   "cell_type": "code",
   "execution_count": null,
   "metadata": {
    "kernel": "SoS"
   },
   "outputs": [],
   "source": [
    "# Select the 1000 samples from the BGEN files\n",
    "# Remember to load QCTOOL/2.0-foss-2016b-rc7-CentOS6.8\n",
    "# Script called qctool-ldclump.sh\n",
    "[clumping_1]\n",
    "input: bgenFile, group_by=1, group_with = dict(info=[(sampleFile, output_from('filter_samples')[0])] * len(bgenFile))\n",
    "output: f'{cwd}/{_input:bn}.filtered.bgen'\n",
    "task: trunk_workers = 1, trunk_size = job_size, walltime = '12h',  mem = '60G', cores = numThreads, tags = f'{step_name}_{_output:bn}'\n",
    "bash: expand= \"${ }\", workdir = cwd, stderr = f'{_output:n}.stderr', stdout = f'{_output:n}.stdout'\n",
    "    qctool \\\n",
    "    -g ${_input} \\\n",
    "    -s ${_input.info[0]} \\\n",
    "    -og ${_output} \\\n",
    "    -incl-samples ${_input.info[1]}"
   ]
  },
  {
   "cell_type": "markdown",
   "metadata": {
    "kernel": "SoS"
   },
   "source": [
    "## Make the binary files with the selected samples"
   ]
  },
  {
   "cell_type": "code",
   "execution_count": null,
   "metadata": {
    "kernel": "SoS"
   },
   "outputs": [],
   "source": [
    "# This step is done with PLINKv2.0\n",
    "# Remember to load PLINK/2_x86_64_20180428\n",
    "[clumping_2]\n",
    "output: f'{cwd}/{_input:bn}.1000samples.bed'\n",
    "task: trunk_workers = 1, trunk_size = job_size, walltime = '12h', mem = '20G', tags = f'{step_name}_{_output:bn}'\n",
    "bash: expand= \"${ }\", workdir = cwd, stderr = f'{_output:n}.stderr', stdout = f'{_output:n}.stdout'\n",
    "    plink2 \\\n",
    "    --bgen ${_input} \\\n",
    "    --sample ${_input} \\\n",
    "    --make-bed \\\n",
    "    --out ${_output:bn} \n",
    "    "
   ]
  },
  {
   "cell_type": "code",
   "execution_count": null,
   "metadata": {
    "kernel": "SoS"
   },
   "outputs": [],
   "source": [
    "# Perform LD-clumping in PLINKv1.9\n",
    "# Remember to load PLINK/1.90-beta5.3\n",
    "[clumping_3]\n",
    "input: bfile, sum_stats\n",
    "output: f'{cwd}/{_input[1]:bn}.clumped'\n",
    "task: trunk_workers = 1, trunk_size = job_size, walltime = '12h', mem = '20G', tags = f'{step_name}_{_output:bn}'\n",
    "bash: expand= \"${ }\", workdir = cwd, stderr = f'{_output:n}.stderr', stdout = f'{_output:n}.stdout'\n",
    "    plink \\\n",
    "    --bfile {_input[0]} \\\n",
    "    --clump {_input[1]} \\\n",
    "    --clump-field {clump_field} \\\n",
    "    --clump-p1 {clump_p1} \\\n",
    "    --clump-p2 {clump_p2} \\\n",
    "    --clump-r2 {clump_r2} \\\n",
    "    --clump-kb {clump_kb} \\\n",
    "    --clump-verbose \\\n",
    "    --clump-annotate {clump_annotate} \\\n",
    "    --out {_output:bn}"
   ]
  }
 ],
 "metadata": {
  "kernelspec": {
   "display_name": "SoS",
   "language": "sos",
   "name": "sos"
  },
  "language_info": {
   "codemirror_mode": "sos",
   "file_extension": ".sos",
   "mimetype": "text/x-sos",
   "name": "sos",
   "nbconvert_exporter": "sos_notebook.converter.SoS_Exporter",
   "pygments_lexer": "sos"
  },
  "sos": {
   "kernels": [
    [
     "SoS",
     "sos",
     "",
     ""
    ]
   ],
   "version": "0.21.7"
  }
 },
 "nbformat": 4,
 "nbformat_minor": 4
}
