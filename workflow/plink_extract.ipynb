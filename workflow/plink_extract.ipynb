{
 "cells": [
  {
   "cell_type": "markdown",
   "metadata": {
    "kernel": "SoS"
   },
   "source": [
    "# Filter specific individuals and SNPs from the exome data"
   ]
  },
  {
   "cell_type": "markdown",
   "metadata": {
    "kernel": "SoS"
   },
   "source": [
    "## How to run this notebook"
   ]
  },
  {
   "cell_type": "markdown",
   "metadata": {
    "kernel": "SoS"
   },
   "source": [
    "```\n",
    "sos run ~/project/UKBB_GWAS_dev/workflow/plink_extract.ipynb extract_region\\\n",
    "    --cwd ~/test \\\n",
    "    --bedfiles ~/UKBiobank/data/exome_files/project_VCF/072721_run/plink/ukb23156_c5.merged.filtered.bed\\\n",
    "    --region 5_272741_1213528 \\\n",
    "    --chrom 5\\\n",
    "    --start_pos 272741\\\n",
    "    --end_pos 1213528\\\n",
    "    --job_size 1 \\\n",
    "    --numThreads 2\n",
    "```"
   ]
  },
  {
   "cell_type": "code",
   "execution_count": null,
   "metadata": {
    "kernel": "SoS"
   },
   "outputs": [],
   "source": [
    "[global]\n",
    "# the output directory for generated files\n",
    "parameter: cwd = path\n",
    "# BED Plink files for exome data\n",
    "parameter: bedfiles = path\n",
    "# For cluster jobs, number commands to run per job\n",
    "parameter: job_size = 1\n",
    "# Number of threads\n",
    "parameter: numThreads = 1\n",
    "# Load Plink module from cluster\n",
    "parameter: plink2_module = '''\n",
    "module load PLINK/2_x86_64_20180428\n",
    "echo \"Module PLINK2 loaded\"\n",
    "{cmd}\n",
    "'''\n",
    "parameter: plink_module = '''\n",
    "module load PLINK/1.90-beta5.3\n",
    "echo \"Module plink loaded\"\n",
    "{cmd}\n",
    "'''\n",
    "\n",
    "# Software container option\n",
    "parameter: container_lmm = 'statisticalgenetics/lmm:2.9'\n",
    "parameter: container_marp = 'gaow/marp'"
   ]
  },
  {
   "cell_type": "code",
   "execution_count": null,
   "metadata": {
    "kernel": "SoS"
   },
   "outputs": [],
   "source": [
    "#select individuals and filter specific snps\n",
    "[extract_snps]\n",
    "# Snps to extract\n",
    "parameter: snp_list = path\n",
    "parameter: sample_list = path\n",
    "input: bedfiles\n",
    "output: f'{cwd}/{_input:bn}.extract.raw'\n",
    "task: trunk_workers = 1, walltime = '10h', mem = '30G', cores = numThreads, tags = f'{step_name}_{_output:bn}'\n",
    "bash: expand= \"${ }\", stderr = f'{_output:n}.stderr', stdout = f'{_output:n}.stdout', template = '{cmd}' if executable('plink').target_exists() else plink_module\n",
    "    plink \\\n",
    "      --bfile ${_input:n}  \\\n",
    "      --keep ${sample_list} \\\n",
    "      --extract ${snp_list} --range \\\n",
    "      --recodeA \\\n",
    "      --threads ${numThreads} \\\n",
    "      --out ${_output:n} "
   ]
  },
  {
   "cell_type": "code",
   "execution_count": null,
   "metadata": {
    "kernel": "SoS"
   },
   "outputs": [],
   "source": [
    "[extract_region]\n",
    "parameter: region = str\n",
    "parameter: chrom = int\n",
    "parameter: start_pos = int\n",
    "parameter: end_pos = int\n",
    "input: bedfiles\n",
    "output: f'{cwd}/{_input:bn}.{region}.bed'\n",
    "task: trunk_workers = 1, walltime = '10h', mem = '30G', cores = numThreads, tags = f'{step_name}_{_output:bn}'\n",
    "bash: container=container_lmm, expand= \"${ }\", stderr = f'{_output:n}.stderr', stdout = f'{_output:n}.stdout', template = '{cmd}' if executable('plink').target_exists() else plink_module\n",
    "    plink \\\n",
    "      --bfile ${_input:n}  \\\n",
    "      --chr ${chrom} \\\n",
    "      --from-bp ${start_pos}\\\n",
    "      --to-bp ${end_pos}\\\n",
    "      --make-bed \\\n",
    "      --threads ${numThreads} \\\n",
    "      --out ${_output:n} "
   ]
  },
  {
   "cell_type": "code",
   "execution_count": 4,
   "metadata": {
    "kernel": "Bash",
    "tags": []
   },
   "outputs": [
    {
     "name": "stdout",
     "output_type": "stream",
     "text": [
      "INFO: Running \u001b[32mextract_region\u001b[0m: \n",
      "INFO: \u001b[32mextract_region\u001b[0m is \u001b[32mcompleted\u001b[0m.\n",
      "INFO: \u001b[32mextract_region\u001b[0m output:   \u001b[32m/home/dmc2245/test/ukb23156_c5.merged.filtered.5_272741_1213528.bed\u001b[0m\n",
      "INFO: Workflow extract_region (ID=w7e6c22bb0452895c) is executed successfully with 1 completed step.\n",
      "\n"
     ]
    }
   ],
   "source": [
    "module load Singularity\n",
    "sos run ~/project/UKBB_GWAS_dev/workflow/plink_extract.ipynb extract_region\\\n",
    "    --cwd ~/test \\\n",
    "    --bedfiles ~/UKBiobank/data/exome_files/project_VCF/072721_run/plink/ukb23156_c5.merged.filtered.bed\\\n",
    "    --region 5_272741_1213528 \\\n",
    "    --chrom 5\\\n",
    "    --start_pos 272741\\\n",
    "    --end_pos 1213528\\\n",
    "    --job_size 1 \\\n",
    "    --numThreads 2\\\n",
    "    --container_lmm ~/containers/lmm.sif"
   ]
  },
  {
   "cell_type": "code",
   "execution_count": 1,
   "metadata": {
    "kernel": "R"
   },
   "outputs": [
    {
     "data": {
      "text/html": [
       "2"
      ],
      "text/latex": [
       "2"
      ],
      "text/markdown": [
       "2"
      ],
      "text/plain": [
       "[1] 2"
      ]
     },
     "metadata": {},
     "output_type": "display_data"
    }
   ],
   "source": [
    "# Now check if those individuals have mental retardation\n",
    "setwd(\"/home/dc2325/scratch60/plink_extract\")\n",
    "pheno <- read.csv(\"individuals_test.csv\", sep=\",\", header=TRUE)\n",
    "nrow(pheno)"
   ]
  },
  {
   "cell_type": "code",
   "execution_count": 52,
   "metadata": {
    "kernel": "R"
   },
   "outputs": [
    {
     "data": {
      "text/html": [
       "<table>\n",
       "<caption>A data.frame: 2 × 20</caption>\n",
       "<thead>\n",
       "\t<tr><th></th><th scope=col>eid</th><th scope=col>X4689.0.0.x</th><th scope=col>X4689.1.0.x</th><th scope=col>X4689.2.0.x</th><th scope=col>X4689.3.0.x</th><th scope=col>X5194.0.0.x</th><th scope=col>X5194.1.0.x</th><th scope=col>X5196.0.0.x</th><th scope=col>X5196.1.0.x</th><th scope=col>X5253.0.0.x</th><th scope=col>X5254.0.0.x</th><th scope=col>X5254.1.0.x</th><th scope=col>X5255.0.0.x</th><th scope=col>X5255.1.0.x</th><th scope=col>X5256.0.0.x</th><th scope=col>X5256.1.0.x</th><th scope=col>X5257.0.0.x</th><th scope=col>X5257.1.0.x</th><th scope=col>X5258.0.0.x</th><th scope=col>X5258.1.0.x</th></tr>\n",
       "\t<tr><th></th><th scope=col>&lt;int&gt;</th><th scope=col>&lt;lgl&gt;</th><th scope=col>&lt;lgl&gt;</th><th scope=col>&lt;lgl&gt;</th><th scope=col>&lt;lgl&gt;</th><th scope=col>&lt;lgl&gt;</th><th scope=col>&lt;lgl&gt;</th><th scope=col>&lt;lgl&gt;</th><th scope=col>&lt;lgl&gt;</th><th scope=col>&lt;lgl&gt;</th><th scope=col>&lt;lgl&gt;</th><th scope=col>&lt;lgl&gt;</th><th scope=col>&lt;lgl&gt;</th><th scope=col>&lt;lgl&gt;</th><th scope=col>&lt;lgl&gt;</th><th scope=col>&lt;lgl&gt;</th><th scope=col>&lt;lgl&gt;</th><th scope=col>&lt;lgl&gt;</th><th scope=col>&lt;lgl&gt;</th><th scope=col>&lt;lgl&gt;</th></tr>\n",
       "</thead>\n",
       "<tbody>\n",
       "\t<tr><th scope=row>1</th><td>2237835</td><td>NA</td><td>NA</td><td>NA</td><td>NA</td><td>NA</td><td>NA</td><td>NA</td><td>NA</td><td>NA</td><td>NA</td><td>NA</td><td>NA</td><td>NA</td><td>NA</td><td>NA</td><td>NA</td><td>NA</td><td>NA</td><td>NA</td></tr>\n",
       "\t<tr><th scope=row>2</th><td>3927542</td><td>NA</td><td>NA</td><td>NA</td><td>NA</td><td>NA</td><td>NA</td><td>NA</td><td>NA</td><td>NA</td><td>NA</td><td>NA</td><td>NA</td><td>NA</td><td>NA</td><td>NA</td><td>NA</td><td>NA</td><td>NA</td><td>NA</td></tr>\n",
       "</tbody>\n",
       "</table>\n"
      ],
      "text/latex": [
       "A data.frame: 2 × 20\n",
       "\\begin{tabular}{r|llllllllllllllllllll}\n",
       "  & eid & X4689.0.0.x & X4689.1.0.x & X4689.2.0.x & X4689.3.0.x & X5194.0.0.x & X5194.1.0.x & X5196.0.0.x & X5196.1.0.x & X5253.0.0.x & X5254.0.0.x & X5254.1.0.x & X5255.0.0.x & X5255.1.0.x & X5256.0.0.x & X5256.1.0.x & X5257.0.0.x & X5257.1.0.x & X5258.0.0.x & X5258.1.0.x\\\\\n",
       "  & <int> & <lgl> & <lgl> & <lgl> & <lgl> & <lgl> & <lgl> & <lgl> & <lgl> & <lgl> & <lgl> & <lgl> & <lgl> & <lgl> & <lgl> & <lgl> & <lgl> & <lgl> & <lgl> & <lgl>\\\\\n",
       "\\hline\n",
       "\t1 & 2237835 & NA & NA & NA & NA & NA & NA & NA & NA & NA & NA & NA & NA & NA & NA & NA & NA & NA & NA & NA\\\\\n",
       "\t2 & 3927542 & NA & NA & NA & NA & NA & NA & NA & NA & NA & NA & NA & NA & NA & NA & NA & NA & NA & NA & NA\\\\\n",
       "\\end{tabular}\n"
      ],
      "text/markdown": [
       "\n",
       "A data.frame: 2 × 20\n",
       "\n",
       "| <!--/--> | eid &lt;int&gt; | X4689.0.0.x &lt;lgl&gt; | X4689.1.0.x &lt;lgl&gt; | X4689.2.0.x &lt;lgl&gt; | X4689.3.0.x &lt;lgl&gt; | X5194.0.0.x &lt;lgl&gt; | X5194.1.0.x &lt;lgl&gt; | X5196.0.0.x &lt;lgl&gt; | X5196.1.0.x &lt;lgl&gt; | X5253.0.0.x &lt;lgl&gt; | X5254.0.0.x &lt;lgl&gt; | X5254.1.0.x &lt;lgl&gt; | X5255.0.0.x &lt;lgl&gt; | X5255.1.0.x &lt;lgl&gt; | X5256.0.0.x &lt;lgl&gt; | X5256.1.0.x &lt;lgl&gt; | X5257.0.0.x &lt;lgl&gt; | X5257.1.0.x &lt;lgl&gt; | X5258.0.0.x &lt;lgl&gt; | X5258.1.0.x &lt;lgl&gt; |\n",
       "|---|---|---|---|---|---|---|---|---|---|---|---|---|---|---|---|---|---|---|---|---|\n",
       "| 1 | 2237835 | NA | NA | NA | NA | NA | NA | NA | NA | NA | NA | NA | NA | NA | NA | NA | NA | NA | NA | NA |\n",
       "| 2 | 3927542 | NA | NA | NA | NA | NA | NA | NA | NA | NA | NA | NA | NA | NA | NA | NA | NA | NA | NA | NA |\n",
       "\n"
      ],
      "text/plain": [
       "  eid     X4689.0.0.x X4689.1.0.x X4689.2.0.x X4689.3.0.x X5194.0.0.x\n",
       "1 2237835 NA          NA          NA          NA          NA         \n",
       "2 3927542 NA          NA          NA          NA          NA         \n",
       "  X5194.1.0.x X5196.0.0.x X5196.1.0.x X5253.0.0.x X5254.0.0.x X5254.1.0.x\n",
       "1 NA          NA          NA          NA          NA          NA         \n",
       "2 NA          NA          NA          NA          NA          NA         \n",
       "  X5255.0.0.x X5255.1.0.x X5256.0.0.x X5256.1.0.x X5257.0.0.x X5257.1.0.x\n",
       "1 NA          NA          NA          NA          NA          NA         \n",
       "2 NA          NA          NA          NA          NA          NA         \n",
       "  X5258.0.0.x X5258.1.0.x\n",
       "1 NA          NA         \n",
       "2 NA          NA         "
      ]
     },
     "metadata": {},
     "output_type": "display_data"
    }
   ],
   "source": [
    "head(pheno[,1:20])"
   ]
  },
  {
   "cell_type": "code",
   "execution_count": 12,
   "metadata": {
    "kernel": "R"
   },
   "outputs": [
    {
     "data": {
      "text/html": [
       "<style>\n",
       ".list-inline {list-style: none; margin:0; padding: 0}\n",
       ".list-inline>li {display: inline-block}\n",
       ".list-inline>li:not(:last-child)::after {content: \"\\00b7\"; padding: 0 .5ex}\n",
       "</style>\n",
       "<ol class=list-inline><li>2</li><li>214</li></ol>\n"
      ],
      "text/latex": [
       "\\begin{enumerate*}\n",
       "\\item 2\n",
       "\\item 214\n",
       "\\end{enumerate*}\n"
      ],
      "text/markdown": [
       "1. 2\n",
       "2. 214\n",
       "\n",
       "\n"
      ],
      "text/plain": [
       "[1]   2 214"
      ]
     },
     "metadata": {},
     "output_type": "display_data"
    }
   ],
   "source": [
    "library(dplyr)\n",
    "icd10 <- pheno %>%\n",
    "    select(\"eid\", starts_with(\"X41270\"))\n",
    "dim(icd10)"
   ]
  },
  {
   "cell_type": "code",
   "execution_count": 46,
   "metadata": {
    "kernel": "R"
   },
   "outputs": [
    {
     "data": {
      "text/html": [
       "<table>\n",
       "<caption>A data.frame: 2 × 13</caption>\n",
       "<thead>\n",
       "\t<tr><th></th><th scope=col>eid</th><th scope=col>X41270.0.0.x</th><th scope=col>X41270.0.1.x</th><th scope=col>X41270.0.2.x</th><th scope=col>X41270.0.3.x</th><th scope=col>X41270.0.4.x</th><th scope=col>X41270.0.5.x</th><th scope=col>X41270.0.6.x</th><th scope=col>X41270.0.7.x</th><th scope=col>X41270.0.8.x</th><th scope=col>X41270.0.9.x</th><th scope=col>X41270.0.10.x</th><th scope=col>X41270.0.11.x</th></tr>\n",
       "\t<tr><th></th><th scope=col>&lt;int&gt;</th><th scope=col>&lt;fct&gt;</th><th scope=col>&lt;fct&gt;</th><th scope=col>&lt;fct&gt;</th><th scope=col>&lt;fct&gt;</th><th scope=col>&lt;fct&gt;</th><th scope=col>&lt;fct&gt;</th><th scope=col>&lt;fct&gt;</th><th scope=col>&lt;fct&gt;</th><th scope=col>&lt;fct&gt;</th><th scope=col>&lt;lgl&gt;</th><th scope=col>&lt;lgl&gt;</th><th scope=col>&lt;lgl&gt;</th></tr>\n",
       "</thead>\n",
       "<tbody>\n",
       "\t<tr><th scope=row>1</th><td>2237835</td><td>H118</td><td>    </td><td>    </td><td>     </td><td>     </td><td>    </td><td>    </td><td>    </td><td>    </td><td>NA</td><td>NA</td><td>NA</td></tr>\n",
       "\t<tr><th scope=row>2</th><td>3927542</td><td>D649</td><td>E059</td><td>L030</td><td>M8195</td><td>S7210</td><td>T920</td><td>W010</td><td>Y831</td><td>Z896</td><td>NA</td><td>NA</td><td>NA</td></tr>\n",
       "</tbody>\n",
       "</table>\n"
      ],
      "text/latex": [
       "A data.frame: 2 × 13\n",
       "\\begin{tabular}{r|lllllllllllll}\n",
       "  & eid & X41270.0.0.x & X41270.0.1.x & X41270.0.2.x & X41270.0.3.x & X41270.0.4.x & X41270.0.5.x & X41270.0.6.x & X41270.0.7.x & X41270.0.8.x & X41270.0.9.x & X41270.0.10.x & X41270.0.11.x\\\\\n",
       "  & <int> & <fct> & <fct> & <fct> & <fct> & <fct> & <fct> & <fct> & <fct> & <fct> & <lgl> & <lgl> & <lgl>\\\\\n",
       "\\hline\n",
       "\t1 & 2237835 & H118 &      &      &       &       &      &      &      &      & NA & NA & NA\\\\\n",
       "\t2 & 3927542 & D649 & E059 & L030 & M8195 & S7210 & T920 & W010 & Y831 & Z896 & NA & NA & NA\\\\\n",
       "\\end{tabular}\n"
      ],
      "text/markdown": [
       "\n",
       "A data.frame: 2 × 13\n",
       "\n",
       "| <!--/--> | eid &lt;int&gt; | X41270.0.0.x &lt;fct&gt; | X41270.0.1.x &lt;fct&gt; | X41270.0.2.x &lt;fct&gt; | X41270.0.3.x &lt;fct&gt; | X41270.0.4.x &lt;fct&gt; | X41270.0.5.x &lt;fct&gt; | X41270.0.6.x &lt;fct&gt; | X41270.0.7.x &lt;fct&gt; | X41270.0.8.x &lt;fct&gt; | X41270.0.9.x &lt;lgl&gt; | X41270.0.10.x &lt;lgl&gt; | X41270.0.11.x &lt;lgl&gt; |\n",
       "|---|---|---|---|---|---|---|---|---|---|---|---|---|---|\n",
       "| 1 | 2237835 | H118 | <!----> | <!----> | <!----> | <!----> | <!----> | <!----> | <!----> | <!----> | NA | NA | NA |\n",
       "| 2 | 3927542 | D649 | E059 | L030 | M8195 | S7210 | T920 | W010 | Y831 | Z896 | NA | NA | NA |\n",
       "\n"
      ],
      "text/plain": [
       "  eid     X41270.0.0.x X41270.0.1.x X41270.0.2.x X41270.0.3.x X41270.0.4.x\n",
       "1 2237835 H118                                                            \n",
       "2 3927542 D649         E059         L030         M8195        S7210       \n",
       "  X41270.0.5.x X41270.0.6.x X41270.0.7.x X41270.0.8.x X41270.0.9.x\n",
       "1                                                     NA          \n",
       "2 T920         W010         Y831         Z896         NA          \n",
       "  X41270.0.10.x X41270.0.11.x\n",
       "1 NA            NA           \n",
       "2 NA            NA           "
      ]
     },
     "metadata": {},
     "output_type": "display_data"
    }
   ],
   "source": [
    "head(icd10[,1:13])"
   ]
  },
  {
   "cell_type": "code",
   "execution_count": 49,
   "metadata": {
    "kernel": "R"
   },
   "outputs": [],
   "source": [
    "icd10$present <- !!rowSums(sapply(icd10[1:2,], grepl, pattern = \"H11\"))"
   ]
  },
  {
   "cell_type": "code",
   "execution_count": 50,
   "metadata": {
    "kernel": "R"
   },
   "outputs": [
    {
     "data": {
      "text/html": [
       "<style>\n",
       ".list-inline {list-style: none; margin:0; padding: 0}\n",
       ".list-inline>li {display: inline-block}\n",
       ".list-inline>li:not(:last-child)::after {content: \"\\00b7\"; padding: 0 .5ex}\n",
       "</style>\n",
       "<ol class=list-inline><li>TRUE</li><li>FALSE</li></ol>\n"
      ],
      "text/latex": [
       "\\begin{enumerate*}\n",
       "\\item TRUE\n",
       "\\item FALSE\n",
       "\\end{enumerate*}\n"
      ],
      "text/markdown": [
       "1. TRUE\n",
       "2. FALSE\n",
       "\n",
       "\n"
      ],
      "text/plain": [
       "[1]  TRUE FALSE"
      ]
     },
     "metadata": {},
     "output_type": "display_data"
    }
   ],
   "source": [
    "head(icd10$present)"
   ]
  },
  {
   "cell_type": "code",
   "execution_count": 42,
   "metadata": {
    "kernel": "R"
   },
   "outputs": [
    {
     "data": {
      "text/html": [
       "<table>\n",
       "<caption>A data.frame: 2 × 3</caption>\n",
       "<thead>\n",
       "\t<tr><th></th><th scope=col>X41270.0.211.x</th><th scope=col>X41270.0.212.x</th><th scope=col>present</th></tr>\n",
       "\t<tr><th></th><th scope=col>&lt;lgl&gt;</th><th scope=col>&lt;lgl&gt;</th><th scope=col>&lt;lgl&gt;</th></tr>\n",
       "</thead>\n",
       "<tbody>\n",
       "\t<tr><th scope=row>1</th><td>NA</td><td>NA</td><td>FALSE</td></tr>\n",
       "\t<tr><th scope=row>2</th><td>NA</td><td>NA</td><td>FALSE</td></tr>\n",
       "</tbody>\n",
       "</table>\n"
      ],
      "text/latex": [
       "A data.frame: 2 × 3\n",
       "\\begin{tabular}{r|lll}\n",
       "  & X41270.0.211.x & X41270.0.212.x & present\\\\\n",
       "  & <lgl> & <lgl> & <lgl>\\\\\n",
       "\\hline\n",
       "\t1 & NA & NA & FALSE\\\\\n",
       "\t2 & NA & NA & FALSE\\\\\n",
       "\\end{tabular}\n"
      ],
      "text/markdown": [
       "\n",
       "A data.frame: 2 × 3\n",
       "\n",
       "| <!--/--> | X41270.0.211.x &lt;lgl&gt; | X41270.0.212.x &lt;lgl&gt; | present &lt;lgl&gt; |\n",
       "|---|---|---|---|\n",
       "| 1 | NA | NA | FALSE |\n",
       "| 2 | NA | NA | FALSE |\n",
       "\n"
      ],
      "text/plain": [
       "  X41270.0.211.x X41270.0.212.x present\n",
       "1 NA             NA             FALSE  \n",
       "2 NA             NA             FALSE  "
      ]
     },
     "metadata": {},
     "output_type": "display_data"
    }
   ],
   "source": [
    "head(icd10[,213:215])"
   ]
  },
  {
   "cell_type": "markdown",
   "metadata": {
    "kernel": "R"
   },
   "source": [
    "## Check variants for Finnish study Isabelle"
   ]
  },
  {
   "cell_type": "code",
   "execution_count": 9,
   "metadata": {
    "kernel": "Bash"
   },
   "outputs": [
    {
     "name": "stdout",
     "output_type": "stream",
     "text": [
      "INFO: Running \u001b[32mdefault\u001b[0m: select individuals and filter specific snps\n",
      "INFO: \u001b[32mdefault\u001b[0m is \u001b[32mcompleted\u001b[0m.\n",
      "INFO: \u001b[32mdefault\u001b[0m output:   \u001b[32m/home/dc2325/scratch60/isabelle_finnish/ukb23155_c3_b0_v1.extract.raw\u001b[0m\n",
      "INFO: Workflow default (ID=w41d699249e2b581d) is executed successfully with 1 completed step.\n"
     ]
    }
   ],
   "source": [
    "#bedfiles=`echo /gpfs/gibbs/pi/dewan/data/UKBiobank/genotype_files/ukb28374_exomedata/exome_data_OCT2020/ukb23155_c{1..22}_b0_v1.bed`\n",
    "cwd=/home/dc2325/scratch60/isabelle_finnish\n",
    "snp_list=/home/dc2325/scratch60/isabelle_finnish/snps_extract.txt\n",
    "\n",
    "sos run ~/project/UKBB_GWAS_dev/workflow/plink_extract.ipynb  \\\n",
    "    --cwd $cwd \\\n",
    "    --bedfiles /gpfs/gibbs/pi/dewan/data/UKBiobank/genotype_files/ukb28374_exomedata/exome_data_OCT2020/ukb23155_c3_b0_v1.bed\\\n",
    "    --snp_list $snp_list"
   ]
  },
  {
   "cell_type": "code",
   "execution_count": 16,
   "metadata": {
    "kernel": "Bash"
   },
   "outputs": [
    {
     "name": "stdout",
     "output_type": "stream",
     "text": [
      "FID IID PAT MAT SEX PHENOTYPE 3:49006137:C:T_T\n",
      "1434748 1434748 0 0 2 -9 0\n",
      "5523981 5523981 0 0 1 -9 0\n",
      "5023838 5023838 0 0 2 -9 0\n",
      "4023729 4023729 0 0 1 -9 0\n",
      "4442146 4442146 0 0 2 -9 0\n",
      "5654789 5654789 0 0 2 -9 0\n",
      "4515669 4515669 0 0 2 -9 0\n",
      "1129683 1129683 0 0 1 -9 0\n",
      "5327043 5327043 0 0 2 -9 0\n",
      "cat: write error: Broken pipe\n"
     ]
    }
   ],
   "source": [
    "cat /home/dc2325/scratch60/isabelle_finnish/ukb23155_c3_b0_v1.extract.raw | head"
   ]
  },
  {
   "cell_type": "code",
   "execution_count": 19,
   "metadata": {
    "kernel": "Bash"
   },
   "outputs": [],
   "source": [
    "awk '$7==2 {print}' /home/dc2325/scratch60/isabelle_finnish/ukb23155_c3_b0_v1.extract.raw"
   ]
  },
  {
   "cell_type": "code",
   "execution_count": 11,
   "metadata": {
    "kernel": "Bash"
   },
   "outputs": [
    {
     "name": "stdout",
     "output_type": "stream",
     "text": [
      "INFO: Running \u001b[32mdefault\u001b[0m: select individuals and filter specific snps\n",
      "INFO: \u001b[32mdefault\u001b[0m is \u001b[32mcompleted\u001b[0m.\n",
      "INFO: \u001b[32mdefault\u001b[0m output:   \u001b[32m/home/dc2325/scratch60/isabelle_finnish/ukb23155_c7_b0_v1.extract.raw\u001b[0m\n",
      "INFO: Workflow default (ID=wf05336cfa9ceef9c) is executed successfully with 1 completed step.\n"
     ]
    }
   ],
   "source": [
    "#bedfiles=`echo /gpfs/gibbs/pi/dewan/data/UKBiobank/genotype_files/ukb28374_exomedata/exome_data_OCT2020/ukb23155_c{1..22}_b0_v1.bed`\n",
    "cwd=/home/dc2325/scratch60/isabelle_finnish\n",
    "snp_list=/home/dc2325/scratch60/isabelle_finnish/snps_extract.txt\n",
    "\n",
    "sos run ~/project/UKBB_GWAS_dev/workflow/plink_extract.ipynb  \\\n",
    "    --cwd $cwd \\\n",
    "    --bedfiles /gpfs/gibbs/pi/dewan/data/UKBiobank/genotype_files/ukb28374_exomedata/exome_data_OCT2020/ukb23155_c7_b0_v1.bed\\\n",
    "    --snp_list $snp_list"
   ]
  },
  {
   "cell_type": "code",
   "execution_count": 17,
   "metadata": {
    "kernel": "Bash"
   },
   "outputs": [
    {
     "name": "stdout",
     "output_type": "stream",
     "text": [
      "FID IID PAT MAT SEX PHENOTYPE 7:106099254:C:T_T\n",
      "1434748 1434748 0 0 2 -9 0\n",
      "5523981 5523981 0 0 1 -9 0\n",
      "5023838 5023838 0 0 2 -9 0\n",
      "4023729 4023729 0 0 1 -9 0\n",
      "4442146 4442146 0 0 2 -9 0\n",
      "5654789 5654789 0 0 2 -9 0\n",
      "4515669 4515669 0 0 2 -9 0\n",
      "1129683 1129683 0 0 1 -9 0\n",
      "5327043 5327043 0 0 2 -9 0\n",
      "cat: write error: Broken pipe\n"
     ]
    }
   ],
   "source": [
    "cat /home/dc2325/scratch60/isabelle_finnish/ukb23155_c7_b0_v1.extract.raw | head"
   ]
  },
  {
   "cell_type": "code",
   "execution_count": 21,
   "metadata": {
    "kernel": "Bash"
   },
   "outputs": [],
   "source": [
    "awk '$7==2 {print}' /home/dc2325/scratch60/isabelle_finnish/ukb23155_c7_b0_v1.extract.raw"
   ]
  },
  {
   "cell_type": "code",
   "execution_count": 13,
   "metadata": {
    "kernel": "Bash"
   },
   "outputs": [
    {
     "name": "stdout",
     "output_type": "stream",
     "text": [
      "INFO: Running \u001b[32mdefault\u001b[0m: select individuals and filter specific snps\n",
      "\u001b[91mERROR\u001b[0m: \u001b[91mdefault (id=b883a05498325d46) returns an error.\u001b[0m\n",
      "\u001b[91mERROR\u001b[0m: \u001b[91m[default]: [0]: \n",
      "---------------------------------------------------------------------------\n",
      "FileNotFoundError                         Traceback (most recent call last)\n",
      "script_4000695183850138131 in <module>\n",
      "        --out {_output:n}\n",
      "      \n",
      "----> \"\"\", stderr = f'{_output:n}.stderr', stdout = f'{_output:n}.stdout', template = '{cmd}' if executable('plink').target_exists() else plink_module)\n",
      "\n",
      "FileNotFoundError: 2\u001b[0m\n"
     ]
    },
    {
     "ename": "",
     "evalue": "1",
     "output_type": "error",
     "traceback": []
    }
   ],
   "source": [
    "#bedfiles=`echo /gpfs/gibbs/pi/dewan/data/UKBiobank/genotype_files/ukb28374_exomedata/exome_data_OCT2020/ukb23155_c{1..22}_b0_v1.bed`\n",
    "cwd=/home/dc2325/scratch60/isabelle_finnish\n",
    "snp_list=/home/dc2325/scratch60/isabelle_finnish/snps_extract.txt\n",
    "\n",
    "sos run ~/project/UKBB_GWAS_dev/workflow/plink_extract.ipynb  \\\n",
    "    --cwd $cwd \\\n",
    "    --bedfiles /gpfs/gibbs/pi/dewan/data/UKBiobank/genotype_files/ukb28374_exomedata/exome_data_OCT2020/ukb23155_c20_b0_v1.bed\\\n",
    "    --snp_list $snp_list"
   ]
  },
  {
   "cell_type": "code",
   "execution_count": 14,
   "metadata": {
    "kernel": "Bash"
   },
   "outputs": [
    {
     "name": "stdout",
     "output_type": "stream",
     "text": [
      "INFO: Running \u001b[32mdefault\u001b[0m: select individuals and filter specific snps\n",
      "INFO: \u001b[32mdefault\u001b[0m is \u001b[32mcompleted\u001b[0m.\n",
      "INFO: \u001b[32mdefault\u001b[0m output:   \u001b[32m/home/dc2325/scratch60/isabelle_finnish/ukb23155_c14_b0_v1.extract.raw\u001b[0m\n",
      "INFO: Workflow default (ID=w3a79d953ba363d47) is executed successfully with 1 completed step.\n"
     ]
    }
   ],
   "source": [
    "#bedfiles=`echo /gpfs/gibbs/pi/dewan/data/UKBiobank/genotype_files/ukb28374_exomedata/exome_data_OCT2020/ukb23155_c{1..22}_b0_v1.bed`\n",
    "cwd=/home/dc2325/scratch60/isabelle_finnish\n",
    "snp_list=/home/dc2325/scratch60/isabelle_finnish/snps_extract.txt\n",
    "\n",
    "sos run ~/project/UKBB_GWAS_dev/workflow/plink_extract.ipynb  \\\n",
    "    --cwd $cwd \\\n",
    "    --bedfiles /gpfs/gibbs/pi/dewan/data/UKBiobank/genotype_files/ukb28374_exomedata/exome_data_OCT2020/ukb23155_c14_b0_v1.bed\\\n",
    "    --snp_list $snp_list"
   ]
  },
  {
   "cell_type": "code",
   "execution_count": 18,
   "metadata": {
    "kernel": "Bash"
   },
   "outputs": [
    {
     "name": "stdout",
     "output_type": "stream",
     "text": [
      "FID IID PAT MAT SEX PHENOTYPE 14:88578149:T:C_C\n",
      "1434748 1434748 0 0 2 -9 0\n",
      "5523981 5523981 0 0 1 -9 0\n",
      "5023838 5023838 0 0 2 -9 0\n",
      "4023729 4023729 0 0 1 -9 0\n",
      "4442146 4442146 0 0 2 -9 0\n",
      "5654789 5654789 0 0 2 -9 0\n",
      "4515669 4515669 0 0 2 -9 0\n",
      "1129683 1129683 0 0 1 -9 0\n",
      "5327043 5327043 0 0 2 -9 0\n",
      "cat: write error: Broken pipe\n"
     ]
    }
   ],
   "source": [
    "cat /home/dc2325/scratch60/isabelle_finnish/ukb23155_c14_b0_v1.extract.raw | head"
   ]
  },
  {
   "cell_type": "code",
   "execution_count": 22,
   "metadata": {
    "kernel": "Bash"
   },
   "outputs": [],
   "source": [
    "awk '$7==2 {print}' /home/dc2325/scratch60/isabelle_finnish/ukb23155_c14_b0_v1.extract.raw"
   ]
  },
  {
   "cell_type": "markdown",
   "metadata": {
    "kernel": "Bash"
   },
   "source": [
    "# Check variants HI"
   ]
  },
  {
   "cell_type": "code",
   "execution_count": 5,
   "metadata": {
    "kernel": "Bash"
   },
   "outputs": [
    {
     "name": "stdout",
     "output_type": "stream",
     "text": [
      "INFO: Running \u001b[32mdefault\u001b[0m: select individuals and filter specific snps\n",
      "INFO: \u001b[32mdefault\u001b[0m is \u001b[32mcompleted\u001b[0m.\n",
      "INFO: \u001b[32mdefault\u001b[0m output:   \u001b[32m/home/dc2325/scratch60/output/ukb23155_c6_b0_v1.extract.raw\u001b[0m\n",
      "INFO: Workflow default (ID=w4b130b0fe2c619d6) is executed successfully with 1 completed step.\n",
      "\n"
     ]
    }
   ],
   "source": [
    "#bedfiles=`echo /gpfs/gibbs/pi/dewan/data/UKBiobank/genotype_files/ukb28374_exomedata/exome_data_OCT2020/ukb23155_c{1..22}_b0_v1.bed`\n",
    "cwd=/home/dc2325/scratch60/output\n",
    "snp_list=/home/dc2325/scratch60/output/snps_extract.txt\n",
    "\n",
    "sos run ~/project/UKBB_GWAS_dev/workflow/plink_extract.ipynb  \\\n",
    "    --cwd $cwd \\\n",
    "    --bedfiles /gpfs/gibbs/pi/dewan/data/UKBiobank/genotype_files/ukb28374_exomedata/exome_data_OCT2020/ukb23155_c6_b0_v1.bed\\\n",
    "    --snp_list $snp_list"
   ]
  },
  {
   "cell_type": "code",
   "execution_count": 3,
   "metadata": {
    "kernel": "Bash"
   },
   "outputs": [
    {
     "name": "stdout",
     "output_type": "stream",
     "text": [
      "\n"
     ]
    }
   ],
   "source": [
    "touch /home/dc2325/scratch60/output/snps_extract.txt\n",
    "echo '6 75841299 75841299 rs121912560' > /home/dc2325/scratch60/output/snps_extract.txt"
   ]
  },
  {
   "cell_type": "code",
   "execution_count": null,
   "metadata": {
    "kernel": "Bash"
   },
   "outputs": [],
   "source": []
  }
 ],
 "metadata": {
  "kernelspec": {
   "display_name": "SoS",
   "language": "sos",
   "name": "sos"
  },
  "language_info": {
   "codemirror_mode": "sos",
   "file_extension": ".sos",
   "mimetype": "text/x-sos",
   "name": "sos",
   "nbconvert_exporter": "sos_notebook.converter.SoS_Exporter",
   "pygments_lexer": "sos"
  },
  "sos": {
   "kernels": [
    [
     "Bash",
     "calysto_bash",
     "Bash",
     "#E6EEFF",
     ""
    ],
    [
     "R",
     "ir",
     "R",
     "#DCDCDA",
     ""
    ],
    [
     "SoS",
     "sos",
     "",
     "",
     "sos"
    ]
   ],
   "version": "0.22.6"
  }
 },
 "nbformat": 4,
 "nbformat_minor": 4
}
