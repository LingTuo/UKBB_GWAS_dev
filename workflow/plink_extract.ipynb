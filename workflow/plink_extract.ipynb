{
 "cells": [
  {
   "cell_type": "markdown",
   "metadata": {
    "kernel": "SoS"
   },
   "source": [
    "# Filter specific individuals and SNPs from the exome data"
   ]
  },
  {
   "cell_type": "markdown",
   "metadata": {
    "kernel": "SoS"
   },
   "source": [
    "## How to run this notebook"
   ]
  },
  {
   "cell_type": "markdown",
   "metadata": {
    "kernel": "SoS"
   },
   "source": [
    "```\n",
    "sos run ~/project/UKBB_GWAS_dev/workflow/plink_extract.ipynb extract_region\\\n",
    "    --cwd ~/test \\\n",
    "    --bedfiles ~/UKBiobank/data/exome_files/project_VCF/072721_run/plink/ukb23156_c5.merged.filtered.bed\\\n",
    "    --region 5_272741_1213528 \\\n",
    "    --chrom 5\\\n",
    "    --start_pos 272741\\\n",
    "    --end_pos 1213528\\\n",
    "    --job_size 1 \\\n",
    "    --numThreads 2 \\\n",
    "    --container_lmm ~/containers/lmm.sif\n",
    "```"
   ]
  },
  {
   "cell_type": "code",
   "execution_count": null,
   "metadata": {
    "kernel": "SoS"
   },
   "outputs": [],
   "source": [
    "[global]\n",
    "# the output directory for generated files\n",
    "parameter: cwd = path\n",
    "# BED Plink files for exome data\n",
    "parameter: bedfiles = path\n",
    "# For cluster jobs, number commands to run per job\n",
    "parameter: job_size = 1\n",
    "# Number of threads\n",
    "parameter: numThreads = 1\n",
    "# Load Plink module from cluster\n",
    "parameter: plink2_module = '''\n",
    "module load PLINK/2_x86_64_20180428\n",
    "echo \"Module PLINK2 loaded\"\n",
    "{cmd}\n",
    "'''\n",
    "parameter: plink_module = '''\n",
    "module load PLINK/1.90-beta5.3\n",
    "echo \"Module plink loaded\"\n",
    "{cmd}\n",
    "'''\n",
    "\n",
    "# Software container option\n",
    "parameter: container_lmm = 'statisticalgenetics/lmm:2.9'\n",
    "parameter: container_marp = 'gaow/marp'"
   ]
  },
  {
   "cell_type": "code",
   "execution_count": null,
   "metadata": {
    "kernel": "SoS"
   },
   "outputs": [],
   "source": [
    "#select individuals and filter specific snps\n",
    "[extract_snps]\n",
    "# snps to extract, you need to provide a file with a range per line e.g. 2 30000000 35000000  R1\n",
    "parameter: snp_list = path\n",
    "# samples to extract, you need to provide a file with FID and IID columns of individuals to keep\n",
    "parameter: sample_list = path\n",
    "input: bedfiles\n",
    "output: f'{cwd}/{_input:bn}.extract.raw'\n",
    "task: trunk_workers = 1, walltime = '10h', mem = '30G', cores = numThreads, tags = f'{step_name}_{_output:bn}'\n",
    "bash: expand= \"${ }\", stderr = f'{_output:n}.stderr', stdout = f'{_output:n}.stdout', template = '{cmd}' if executable('plink').target_exists() else plink_module\n",
    "    plink \\\n",
    "      --bfile ${_input:n}  \\\n",
    "      --keep ${sample_list} \\\n",
    "      --extract ${snp_list} --range \\\n",
    "      --recodeA \\\n",
    "      --threads ${numThreads} \\\n",
    "      --out ${_output:n} "
   ]
  },
  {
   "cell_type": "code",
   "execution_count": null,
   "metadata": {
    "kernel": "SoS"
   },
   "outputs": [],
   "source": [
    "[extract_region]\n",
    "parameter: region = str\n",
    "parameter: chrom = int\n",
    "parameter: start_pos = int\n",
    "parameter: end_pos = int\n",
    "input: bedfiles\n",
    "output: f'{cwd}/{_input:bn}.{region}.bed'\n",
    "task: trunk_workers = 1, walltime = '10h', mem = '30G', cores = numThreads, tags = f'{step_name}_{_output:bn}'\n",
    "bash: container=container_lmm, expand= \"${ }\", stderr = f'{_output:n}.stderr', stdout = f'{_output:n}.stdout', template = '{cmd}' if executable('plink').target_exists() else plink_module\n",
    "    plink \\\n",
    "      --bfile ${_input:n}  \\\n",
    "      --chr ${chrom} \\\n",
    "      --from-bp ${start_pos}\\\n",
    "      --to-bp ${end_pos}\\\n",
    "      --make-bed \\\n",
    "      --threads ${numThreads} \\\n",
    "      --out ${_output:n} "
   ]
  }
 ],
 "metadata": {
  "kernelspec": {
   "display_name": "SoS",
   "language": "sos",
   "name": "sos"
  },
  "language_info": {
   "codemirror_mode": "sos",
   "file_extension": ".sos",
   "mimetype": "text/x-sos",
   "name": "sos",
   "nbconvert_exporter": "sos_notebook.converter.SoS_Exporter",
   "pygments_lexer": "sos"
  },
  "sos": {
   "kernels": [
    [
     "Bash",
     "calysto_bash",
     "Bash",
     "#E6EEFF",
     ""
    ],
    [
     "R",
     "ir",
     "R",
     "#DCDCDA",
     ""
    ],
    [
     "SoS",
     "sos",
     "",
     "",
     "sos"
    ]
   ],
   "version": "0.22.6"
  }
 },
 "nbformat": 4,
 "nbformat_minor": 4
}
