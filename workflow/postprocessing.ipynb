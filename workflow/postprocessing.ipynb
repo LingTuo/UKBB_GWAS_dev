{
 "cells": [
  {
   "cell_type": "markdown",
   "metadata": {
    "kernel": "SoS"
   },
   "source": [
    "## Data analysis\n"
   ]
  },
  {
   "cell_type": "markdown",
   "metadata": {
    "kernel": "SoS"
   },
   "source": [
    "Pipeline to process the output files from the association results and analyze summary statistics"
   ]
  },
  {
   "cell_type": "markdown",
   "metadata": {
    "kernel": "SoS"
   },
   "source": [
    "## Running sos notebook\n",
    "\n",
    "On the Yale Farnam cluster,\n",
    "\n",
    "\n",
    "On a local computer with for example 8 threads,\n",
    "\n",
    "```\n",
    "sos run ~/project/pleiotropy_UKB/postprocessing.ipynb -q none -j 8\n",
    "```"
   ]
  },
  {
   "cell_type": "markdown",
   "metadata": {
    "kernel": "SoS"
   },
   "source": [
    "## Input files\n",
    "\n",
    "### BOLT-LMM\n",
    "\n",
    "The input files for this process are the files created after running the `BoltLMM.ipynb` notebook that should be the following (example for INT-BMI):\n",
    "\n",
    "* ukb_imp_chr{1-22}_v3.UKB_caucasians_BMIwaisthip_AsthmaAndT2D_INT-BMI_withagesex_041720.BoltLMM.snp_stats.gz (these are the association results for the bgen genotypes)\n",
    "* ukb_imp_chr{1-22}_v3.UKB_caucasians_BMIwaisthip_AsthmaAndT2D_INT-BMI_withagesex_041720.BoltLMM.stats.gz (take into account that the 22 files generated in this step will have the same information, that is the association results for the hard called genotypes - PLINK genotypes)\n",
    "* ukb_imp_chr{1-22}_v3.UKB_caucasians_BMIwaisthip_AsthmaAndT2D_INT-BMI_withagesex_041720.BoltLMM.snp_stats.stderr\n",
    "* ukb_imp_chr{1-22}_v3.UKB_caucasians_BMIwaisthip_AsthmaAndT2D_INT-BMI_withagesex_041720.BoltLMM.snp_stats.stdout\n"
   ]
  },
  {
   "cell_type": "code",
   "execution_count": 91,
   "metadata": {
    "kernel": "SoS"
   },
   "outputs": [],
   "source": [
    "[global]\n",
    "# Working directory: change accordingly\n",
    "parameter: cwd = path('~/scratch60/2020-04_bolt/INT-BMI')\n",
    "# Input individual bgen summary stats files\n",
    "parameter: input_pattern = '*.snp_stats.gz'\n",
    "import glob\n",
    "snp_stats_file = sorted(glob.glob(input_pattern))\n",
    "fail_if(len(snp_stats_file) == 0, msg = f\"Input pattern ``{input_pattern}`` failed to match any files.\")\n",
    "# Output merged summary stats file\n",
    "parameter: bgen_sumstats = 'ukb_imp_v3.UKB_caucasians_BMIwaisthip_AsthmaAndT2D_INT-BMI_withagesex_041720.BoltLMM.snp_stats.all_chr'\n",
    "# Input plink genotypes summary stats\n",
    "parameter: stats_file = path('~/scratch60/2020-04_bolt/INT-BMI/ukb_imp_chr1_v3.UKB_caucasians_BMIwaisthip_AsthmaAndT2D_INT-BMI_withagesex_041720.BoltLMM.stats.gz')\n",
    "# Output plink genotypes summary stats\n",
    "parameter: plink_sumstats = 'ukb_imp_v3.UKB_caucasians_BMIwaisthip_AsthmaAndT2D_INT-BMI_withagesex_041720.BoltLMM.stats.all_chr'\n",
    "# Title of the manhattan plot\n",
    "parameter: manplot= 'INT-BMI Manhattan Plot Bolt-LMM'\n",
    "# Title of the q-q plot\n",
    "parameter: qq_plot= 'INT-BMI Q-Q plot Bolt-LMM'\n",
    "# P-value from summary stats\n",
    "parameter: pval='P_BOLT_LMM'"
   ]
  },
  {
   "cell_type": "markdown",
   "metadata": {
    "kernel": "SoS"
   },
   "source": [
    "## Merging bgen summary stats for all chromosomes"
   ]
  },
  {
   "cell_type": "code",
   "execution_count": null,
   "metadata": {
    "kernel": "SoS"
   },
   "outputs": [],
   "source": [
    "# Create files with the counts of imputed and genotyped SNPs\n",
    "[step_0]\n",
    "output: f'{cwd}/{bgen_sumstats:n}.numimpsnps.txt', f'{cwd}/{plink_sumstats:n}.numgenosnps.txt'\n",
    "bash: expand=True \n",
    "    ls -v $(find ${cwd} -name \"*.snp_stats.gz\") | while read -r file; do echo \"$file: `zcat $file | wc -l`\"; done > ${_output[0]}\n",
    "    ls -v $(find ${cwd} -name \"*.stats.gz\") | while read -r file; do echo \"$file: `zcat $file | wc -l`\"; done > ${_output[1]}"
   ]
  },
  {
   "cell_type": "code",
   "execution_count": 92,
   "metadata": {
    "kernel": "SoS"
   },
   "outputs": [],
   "source": [
    "# Merge all the bgen summary statistics\n",
    "[step_1]\n",
    "input: snp_stats_file\n",
    "output: f'{cwd}/{bgen_sumstats}.gz'\n",
    "python: expand=True\n",
    "    import gzip\n",
    "    with gzip.open ('{_output}', 'wt') as outfile:\n",
    "        with gzip.open({_input[0]:r}) as f:\n",
    "            for line in f:\n",
    "                outfile.write(line.decode('utf-8'))\n",
    "            for files in [{_input:r,}][1:]:\n",
    "                with gzip.open(files) as f:\n",
    "                    for line in f:\n",
    "                        if not line.startswith(b'SNP'):\n",
    "                            outfile.write(line.decode('utf-8'))\n",
    "    sum(1 for i in gzip.open('{_output}', 'r'))"
   ]
  },
  {
   "cell_type": "code",
   "execution_count": null,
   "metadata": {
    "kernel": "SoS"
   },
   "outputs": [],
   "source": [
    "# Leave only one stats.gz file\n",
    "[step_2]\n",
    "input: stats_file\n",
    "output: f'{cwd}/{plink_sumstats}.gz'\n",
    "bash: expand=True \n",
    "    mv ${_input} ${_output} \\\n",
    "    echo File \"${_output}\" created"
   ]
  },
  {
   "cell_type": "code",
   "execution_count": null,
   "metadata": {
    "kernel": "SoS"
   },
   "outputs": [],
   "source": [
    "# Merge all the .snp_stats.stderr files and gzip\n",
    "[step_3]\n",
    "output: f'{cwd}/{bgen_sumstats}.stderr.gz'\n",
    "bash: expand=True \n",
    "    ls -v $(find ${cwd} -type f -name '*.stderr') | while read filename; do\n",
    "    echo \"$filename\"\n",
    "    cat \"$filename\"\n",
    "    done | gzip > ${_output} \\\n",
    "    echo File \"${_output}\" created"
   ]
  },
  {
   "cell_type": "code",
   "execution_count": null,
   "metadata": {
    "kernel": "SoS"
   },
   "outputs": [],
   "source": [
    "# Merge all the .snp_stats.stdout files, gziped them and remove unnecessary files\n",
    "[step_4]\n",
    "output: f'{cwd}/{bgen_sumstats}.stdout.gz'\n",
    "bash: expand=True \n",
    "    ls -v $(find ${cwd} -type f -name '*.stdout') | while read filename; do\n",
    "    echo \"$filename\"\n",
    "    cat \"$filename\"\n",
    "    done | gzip > ${_output} \\\n",
    "    echo File \"${_output}\" created \\\n",
    "    rm *.stats.gz *.snp_stats.gz *.stderr *.stdout"
   ]
  },
  {
   "cell_type": "markdown",
   "metadata": {
    "kernel": "SoS"
   },
   "source": [
    "## Creating the Manhattan and Q-Q plots"
   ]
  },
  {
   "cell_type": "markdown",
   "metadata": {
    "kernel": "SoS"
   },
   "source": [
    "Some options to making Manhattan Plots\n",
    "\n",
    "https://www.r-graph-gallery.com/101_Manhattan_plot.html"
   ]
  },
  {
   "cell_type": "code",
   "execution_count": 89,
   "metadata": {
    "kernel": "SoS"
   },
   "outputs": [],
   "source": [
    "[step_5]\n",
    "input: output_from('step_1')\n",
    "output: f'{cwd}/{_input:bnn}.manhattan.png', f'{cwd}/{_input:bnn}.qqplot.png'\n",
    "task: trunk_workers = 1, trunk_size = job_size, walltime = '12h', mem = '60G', tags = f'{step_name}_{_output:bn}'\n",
    "R: expand=True\n",
    "    if (!require('qqman')) install.packages('qqman'); library('qqman')\n",
    "    data <- read.table(gzfile('{_input}'), header=T)\n",
    "    png('{_output[0]}', width = 6, height = 4, unit='in', res=300)\n",
    "    manhattan_plot <- manhattan(data, chr='CHR', bp='BP', snp='SNP', p='P_BOLT_LMM', main = '{manplot}', ylim = c(0, 250), cex = 0.6, \n",
    "    cex.axis = 0.9, col = c(\"blue4\", \"orange3\"), suggestiveline = T, genomewideline = T, chrlabs = c(1:22))\n",
    "    dev.off()\n",
    "    png('{_output[1]}', width = 6, height = 4, unit='in', res=300)\n",
    "    qq_plot <- qq(data$P_BOLT_LMM, main = '{qq_plot}', xlim = c(0, 8), ylim = c(0, 300), pch = 18, col = \"blue4\", cex = 1.5, las = 1)\n",
    "    dev.off()"
   ]
  },
  {
   "cell_type": "code",
   "execution_count": null,
   "metadata": {
    "kernel": "SoS"
   },
   "outputs": [],
   "source": [
    "# For more flexibility when creating manhattan plots and adding highlighted SNPs\n",
    "[step_6]\n",
    "input: output_from('step_1')\n",
    "output: f'{cwd}/{_input:bnn}.manhattan.png'\n",
    "task: trunk_workers = 1, trunk_size = job_size, walltime = '12h', mem = '60G', tags = f'{step_name}_{_output:bn}'\n",
    "R: expand=True\n",
    "    if (!require('tidyverse')) install.packages('tidyverse'); library('tidyverse')\n",
    "    if (!require('ggrepel')) install.packages('ggrepel'); library('ggrepel')\n",
    "  #Load your data\n",
    "    data <- read.table(gzfile('{_input}'), header=T)\n",
    "  # Create a subset of the data with variants with P< 0.05 and arrange by chromosome number\n",
    "  # https://danielroelfs.com/blog/how-i-create-manhattan-plots-using-ggplot/\n",
    "\n",
    "    sig.dat <- data %>% \n",
    "      subset('{pval}' < 0.05) %>%\n",
    "      arrange (CHR, .by_group=TRUE)\n",
    "\n",
    "  # Add highlight and annotation information\n",
    "    #mutate( is_highlight=ifelse(SNP %in% index_snps, \"yes\", \"no\")) %>%\n",
    "    #mutate( is_annotate=ifelse(-log10(P_BOLT_LMM)>6, \"yes\", \"no\")) \n",
    "\n",
    "  # Check the list of chromosomes (make sure the sex chr are at the end of the list)\n",
    "\n",
    "    unique(sig.dat$CHR)\n",
    "\n",
    "    # Get the cumulative base pair position for each variant\n",
    "\n",
    "    nCHR <- length(unique(sig.dat$CHR))\n",
    "    sig.dat$BPcum <- NA\n",
    "    s <- 0\n",
    "    nbp <- c()\n",
    "    for (i in unique(sig.dat$CHR)){\n",
    "      nbp[i] <- max(sig.dat[sig.dat$CHR == i,]$BP)\n",
    "      sig.dat[sig.dat$CHR == i,\"BPcum\"] <- sig.dat[sig.dat$CHR == i,\"BP\"] + s\n",
    "      s <- s + nbp[i]\n",
    "    }\n",
    "\n",
    "    # Calculate the mid point for each chromosome for plotting the x-axis\n",
    "    # Calculate the y-lim \n",
    "\n",
    "    axis.set <- sig.dat %>% \n",
    "      group_by(CHR) %>% \n",
    "      summarize(center = (max(BPcum) + min(BPcum)) / 2)\n",
    "    ylim <- abs(floor(log10(min(sig.dat$'{pval}')))) + 2 \n",
    "    sig <- 5e-8\n",
    "\n",
    "    # Now time to draw the manhattan plot without filtering the most significant signals\n",
    "\n",
    "    manhplot <- ggplot(sig.dat, aes(x = BPcum, y = -log10('{pval}'), \n",
    "                                 color = as.factor(CHR), size = -log10('{pval}'))) +\n",
    "      geom_point(alpha = 0.75) +\n",
    "      geom_hline(yintercept = -log10(sig), color = \"red1\", linetype = \"dashed\") + \n",
    "      scale_x_continuous(label = axis.set$CHR, breaks = axis.set$center) +\n",
    "      scale_y_continuous(expand = c(0,0), limits = c(0, 50)) +\n",
    "      scale_color_manual(values = rep(c(\"#276FBF\", \"#183059\"), nCHR)) +\n",
    "      scale_size_continuous(range = c(0.5,3)) +\n",
    "      # Add highlighted points\n",
    "      # geom_point(data=subset(sig.dat, is_highlight==\"yes\"), color=\"orange\", alpha=0.75) +\n",
    "      labs(x = \"Chromosome\", \n",
    "           y = \"-log10(p)\",\n",
    "           title =\"{manplot}\") + \n",
    "      theme_classic() +\n",
    "      theme( \n",
    "        legend.position = \"none\",\n",
    "        panel.border = element_blank(),\n",
    "        panel.grid.major.x = element_blank(),\n",
    "        panel.grid.minor.x = element_blank(),\n",
    "        axis.text.x = element_text(angle = 90, size = 8, vjust = 0.5)\n",
    "      )\n",
    "\n",
    "    # To save a plot created with ggplot2 you have to use to print() function\n",
    "\n",
    "    png(filename = '{_output}', width = 6, height = 4, unit='in', res=300)\n",
    "    print(manhplot)\n",
    "    dev.off()\n"
   ]
  },
  {
   "cell_type": "markdown",
   "metadata": {
    "kernel": "SoS"
   },
   "source": [
    "Awk to find the minimum and maximum values in a specific column"
   ]
  },
  {
   "cell_type": "code",
   "execution_count": null,
   "metadata": {
    "kernel": "SoS"
   },
   "outputs": [],
   "source": [
    "#awk '(NR==1){Min=$3;Max=$3};(NR>=3){if(Min>$3) Min=$3;if(Max<$3) Max=$3} END {printf \"The Min is %d ,Max is %d\",Min,Max}' ukb_mfi_chr1_v3.txt"
   ]
  },
  {
   "cell_type": "markdown",
   "metadata": {
    "kernel": "SoS"
   },
   "source": [
    "Show the lowest p-values"
   ]
  },
  {
   "cell_type": "code",
   "execution_count": null,
   "metadata": {
    "kernel": "SoS"
   },
   "outputs": [],
   "source": [
    "#gzcat Test_INT-BMI.txt.gz | awk -F \"\\t\" '{ if ($16 <= 5e-8) { print } }'| sort -g | head -n 5"
   ]
  },
  {
   "cell_type": "markdown",
   "metadata": {
    "kernel": "SoS"
   },
   "source": [
    "To find the overlapping variants between dataset 1 and dataset 2"
   ]
  },
  {
   "cell_type": "code",
   "execution_count": null,
   "metadata": {
    "kernel": "Bash"
   },
   "outputs": [],
   "source": [
    "#awk 'NR==FNR {FILE1[$1]=$0; next} ($1 in FILE1) {print $0}' dataset2 dataset1 > dataset1_subset_overlapping_dataset2"
   ]
  },
  {
   "cell_type": "markdown",
   "metadata": {
    "kernel": "Bash"
   },
   "source": [
    "## Perform LD-clumping as implemented in PLINK v1.9\n",
    "\n",
    "In this procedure only the most significant SNP (i.e. that with the lowest p-value) in a LD block is identified and used for further analysis. Therefore, reducing the correlation between the remaining SNPs while retaining SNPs with the strongest statistical evidence. The output is a subset of independent SNPs in the dataset."
   ]
  },
  {
   "cell_type": "markdown",
   "metadata": {
    "kernel": "Bash"
   },
   "source": [
    "**Settings:**\n",
    "\n",
    "1. Which reference dataset to use? Options are 1000G_CEU, hapmap_CEU_r23a_filtered, UK10K, HRC reference panel\n",
    "    \n",
    "    * FIXME: if the SNPs are not in the reference panel they won't be outputed as index SNPs\n",
    "    * FIX: use the bgen files with the genotype info\n",
    "    \n",
    "    \n",
    "2. What is the significance threshold for the index variant (p1) we should use for the analyses? \n",
    "    \n",
    "    p=5e-10\n",
    "    \n",
    "3. What significance threshold to use for the SNPs to be clumped? \n",
    "   \n",
    "   p=1 (this will include all the SNPs)\n",
    "   \n",
    "4. What LD r2 to use? \n",
    "   \n",
    "   r2=0.5 or even lower to capture bigger LD blocks\n",
    "   \n",
    "5. What window size in kb to use (research about the average LD in the human genome for CEU population)? \n",
    "   \n",
    "   I decided to use 1Mb (1000Kb) conversations with the team decided that 2Mb will be better\n",
    "\n",
    "Below are the default options used by PLINK\n",
    "\n",
    "```\n",
    "--clump-p1 0.0001: significance threshold for Index SNPs\n",
    "--clump-p2 0.01: Secondary significance threshold for clumped SNPs\n",
    "--clump-r2 0.50: LD threshold for clumping\n",
    "--clump-kb 250: Physical distance threshold for clumping\n",
    "--clump-field P_BOLT_LMM: To specify the name of the field for P-value\n",
    "--clump-verbose: to add a more detailed report of SNPs in each clump\n",
    "--clump-best: to select the single best proxy\n",
    "```"
   ]
  },
  {
   "cell_type": "markdown",
   "metadata": {
    "kernel": "Bash"
   },
   "source": [
    "```\n",
    "plink \\\n",
    "--noweb \\\n",
    "--bgen  \\\n",
    "--clump ~/pleiotropy_UKB/data/Test_INT-BMI.txt.gz \\\n",
    "--clump-field P_BOLT_LMM \\\n",
    "--clump-p1 5e-08 \\\n",
    "--clump-p2 1 \\\n",
    "--clump-r2 0.5 \\\n",
    "--clump-kb 1000 \\\n",
    "--clump-allow-overlap \\\n",
    "--clump-best \\\n",
    "--out Test_INT-BMI.txt\n",
    "```"
   ]
  },
  {
   "cell_type": "markdown",
   "metadata": {
    "kernel": "Bash"
   },
   "source": [
    "```\n",
    "plink \\\n",
    "--noweb \\\n",
    "--bfile /SAY/dbgapstg/scratch/UKBiobank/genotype_files/pleiotropy_geneticfiles/UKB_Caucasians_phenotypeindepqc120319_updated020720removedwithdrawnindiv \\\n",
    "--clump /home/dc2325/results/pleiotropy/2020-04_bolt/INT-BMI/Test_INT-BMI.txt.gz \\\n",
    "--clump-field P_BOLT_LMM \\\n",
    "--clump-p1 5e-08 \\\n",
    "--clump-p2 1 \\\n",
    "--clump-r2 0.5 \\\n",
    "--clump-kb 1000 \\\n",
    "--clump-allow-overlap \\\n",
    "--clump-best \\\n",
    "--out Test_INT-BMI.txt\n",
    "```"
   ]
  },
  {
   "cell_type": "markdown",
   "metadata": {
    "kernel": "Bash"
   },
   "source": [
    "The output file .clumped will contain the index SNPs for each LD block in column 3. To extract this column and create a vector to use for highlighting in the Manhattan Plot"
   ]
  },
  {
   "cell_type": "markdown",
   "metadata": {
    "kernel": "Bash"
   },
   "source": [
    "```\n",
    "awk '{ print $3 }' \\\n",
    "Test_INT-BMI.txt.clumped \\\n",
    "> dataset1_subset_overlapping_dataset2_clump1.SNPs\n",
    "```"
   ]
  },
  {
   "cell_type": "markdown",
   "metadata": {
    "kernel": "SoS"
   },
   "source": [
    "Filtering `.bgen` files using qctool2"
   ]
  },
  {
   "cell_type": "markdown",
   "metadata": {
    "kernel": "SoS"
   },
   "source": [
    "```\n",
    "qctool -g ukb_imp_chr1_v3.bgen -og subset_ukb_imp_chr1_v3.bgen -s ukb32285_imputedindiv.sample -incl-range 1:10177-20000 -incl-samples samples.txt\n",
    "```"
   ]
  },
  {
   "cell_type": "markdown",
   "metadata": {
    "kernel": "SoS"
   },
   "source": [
    "Output some summary statistics from the phenotypic data\n",
    "* Number of cases\n",
    "* Number of controls"
   ]
  },
  {
   "cell_type": "code",
   "execution_count": null,
   "metadata": {
    "kernel": "Bash"
   },
   "outputs": [],
   "source": [
    "#Number of controls\n",
    "awk '{ if ($5 == 0) { print } }' Asthma_casesbyICD10codesANDselfreport_controlsbyselfreportandicd10_noautoimmuneincontrols_forbolt030720 \\\n",
    "wc -l \\\n",
    "\n",
    "# Number of cases\n",
    "awk '{ if ($5 == 1) { print } }' Asthma_casesbyICD10codesANDselfreport_controlsbyselfreportandicd10_noautoimmuneincontrols_forbolt030720 | wc -l"
   ]
  }
 ],
 "metadata": {
  "kernelspec": {
   "display_name": "SoS",
   "language": "sos",
   "name": "sos"
  },
  "language_info": {
   "codemirror_mode": "sos",
   "file_extension": ".sos",
   "mimetype": "text/x-sos",
   "name": "sos",
   "nbconvert_exporter": "sos_notebook.converter.SoS_Exporter",
   "pygments_lexer": "sos"
  },
  "sos": {
   "kernels": [
    [
     "Bash",
     "bash",
     "Bash",
     "#E6EEFF",
     ""
    ],
    [
     "SoS",
     "sos",
     "",
     "",
     "sos"
    ]
   ],
   "version": "0.21.7"
  }
 },
 "nbformat": 4,
 "nbformat_minor": 4
}
