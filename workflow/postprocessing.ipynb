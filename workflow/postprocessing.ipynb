{
 "cells": [
  {
   "cell_type": "markdown",
   "metadata": {
    "kernel": "SoS"
   },
   "source": [
    "## Data analysis\n"
   ]
  },
  {
   "cell_type": "markdown",
   "metadata": {
    "kernel": "SoS"
   },
   "source": [
    "Pipeline to process the output files from the association results and analyze summary statistics"
   ]
  },
  {
   "cell_type": "markdown",
   "metadata": {
    "kernel": "SoS"
   },
   "source": [
    "## Running sos notebook\n",
    "\n",
    "On the Yale Farnam cluster,\n",
    "\n",
    "\n",
    "On a local computer with for example 8 threads,\n",
    "\n",
    "```\n",
    "sos run ~/project/pleiotropy_UKB/postprocessing.ipynb -q none -j 8\n",
    "```"
   ]
  },
  {
   "cell_type": "markdown",
   "metadata": {
    "kernel": "SoS"
   },
   "source": [
    "## Input files\n",
    "\n",
    "### BOLT-LMM\n",
    "\n",
    "The input files for this process are the ones created after running the `BoltLMM.ipynb` notebook that should be the following (example for INT-BMI):\n",
    "\n",
    "* ukb_imp_chr{1:22}_v3.UKB_caucasians_BMIwaisthip_AsthmaAndT2D_INT-BMI_withagesex_041720.boltlmm.snp_stats.gz (these are the association results for the bgen genotypes)\n",
    "* ukb_imp_chr{1:22}_v3.UKB_caucasians_BMIwaisthip_AsthmaAndT2D_INT-BMI_withagesex_041720.boltlmm.stats.gz (take into account that the 22 files generated in this step will have the same information, that is the association results for the hard called genotypes - PLINK genotypes)\n",
    "* ukb_imp_chr{1:22}_v3.UKB_caucasians_BMIwaisthip_AsthmaAndT2D_INT-BMI_withagesex_041720.boltlmm.snp_stats.stderr\n",
    "* ukb_imp_chr{1:22}_v3.UKB_caucasians_BMIwaisthip_AsthmaAndT2D_INT-BMI_withagesex_041720.boltlmm.snp_stats.stdout\n",
    "\n",
    "### FastGWA\n",
    "\n",
    "The input files for this process are the ones created after running the `fastGWA.ipynb` notebook and should be the following:\n",
    "\n",
    "* bgenFile_chr{1:22}.TraitName.fastGWA (these are the association results for the bgen genotypes)\n",
    "* bgenFile_chr{1:22}.TraitName.log\n"
   ]
  },
  {
   "cell_type": "code",
   "execution_count": 91,
   "metadata": {
    "kernel": "SoS"
   },
   "outputs": [],
   "source": [
    "[global]\n",
    "# Working directory: change accordingly\n",
    "parameter: cwd = path('~/scratch60/')\n",
    "# Association files patterns\n",
    "parameter: pattern1 = ['fastGWA', 'boltlmm.snp_stats.gz','boltlmm.stats.gz']\n",
    "# Patterns for the log, stderr and stdout files\n",
    "parameter: pattern2 = ['fastGWA.log', 'boltlmm.snp_stats.stderr', 'boltlmm.snp_stats.stdout']\n",
    "# Association files for imputed data\n",
    "import glob\n",
    "snp_stats_file = sorted(glob.glob({_pattern1[0]}))\n",
    "fail_if(len(snp_stats_file) == 0, msg = f\"Input pattern ``{_pattern1[0]}`` failed to match any files.\")\n",
    "# Output name merged summary stats file for bgen files\n",
    "parameter: bgen_sumstats = 'ukb_imp_v3.Asthma_casesbyICD10codesANDselfreport_controlsbyselfreportandicd10_noautoimmuneincontrols.fastGWA.snp_stats.all_chr'\n",
    "# Input plink genotypes summary stats - this only applies to Bolt-LMM\n",
    "parameter: stats_file = path('~/scratch60/')\n",
    "# Output plink genotypes summary stats - this only applies for Bolt-LMM\n",
    "parameter: plink_sumstats = path('~/scratch60/')\n",
    "# Title of the manhattan plot\n",
    "parameter: manplot= 'Asthma Manhattan Plot fastGWA'\n",
    "# Title of the q-q plot\n",
    "parameter: qq_plot= 'Asthma Q-Q plot fastGWA'\n",
    "# P-value from summary stats\n",
    "parameter: pval='P'"
   ]
  },
  {
   "cell_type": "markdown",
   "metadata": {
    "kernel": "SoS"
   },
   "source": [
    "### Step 1: Merge the summary statistics generated during the association analysis of the imputed variants"
   ]
  },
  {
   "cell_type": "code",
   "execution_count": 92,
   "metadata": {
    "kernel": "SoS"
   },
   "outputs": [],
   "source": [
    "# Merge all the bgen summary statistics\n",
    "[merge_imputed]\n",
    "input: snp_stats_file\n",
    "output: f'{cwd}/{bgen_sumstats}.gz'\n",
    "python: expand=True\n",
    "    import gzip\n",
    "    with gzip.open ('{_output}', 'wt') as outfile:\n",
    "        with gzip.open({_input[0]:r}) as f:\n",
    "            for line in f:\n",
    "                outfile.write(line.decode('utf-8'))\n",
    "            for files in [{_input:r,}][1:]:\n",
    "                with gzip.open(files) as f:\n",
    "                    for line in f:\n",
    "                        if not line.startswith(b'SNP'):\n",
    "                            outfile.write(line.decode('utf-8'))\n",
    "    sum(1 for i in gzip.open('{_output}', 'r'))"
   ]
  },
  {
   "cell_type": "markdown",
   "metadata": {
    "kernel": "SoS"
   },
   "source": [
    "### Step 4: Creating the Manhattan and Q-Q plots"
   ]
  },
  {
   "cell_type": "markdown",
   "metadata": {
    "kernel": "SoS"
   },
   "source": [
    "The simplest way to create a manhattan plot is to use the qqman package from R: https://www.r-graph-gallery.com/101_Manhattan_plot.html"
   ]
  },
  {
   "cell_type": "code",
   "execution_count": 89,
   "metadata": {
    "kernel": "SoS"
   },
   "outputs": [],
   "source": [
    "[plot_1]\n",
    "input: output_from('merge_imputed')\n",
    "output: f'{cwd}/{_input:bnn}.manhattan.png', f'{cwd}/{_input:bnn}.qqplot.png'\n",
    "task: trunk_workers = 1, trunk_size = job_size, walltime = '12h', mem = '60G', tags = f'{step_name}_{_output[0]:bn}'\n",
    "R: expand=True\n",
    "    if (!require('qqman')) install.packages('qqman'); library('qqman')\n",
    "    data <- read.table(gzfile('{_input}'), header=T)\n",
    "    # Creating manhattan plot\n",
    "    png('{_output[0]}', width = 6, height = 4, unit='in', res=300)\n",
    "    manhattan_plot <- manhattan(data, chr='CHR', bp='BP', snp='SNP', p={pval}, main = '{manplot}', ylim = c(0, 250), cex = 0.6, \n",
    "    cex.axis = 0.9, col = c(\"blue4\", \"orange3\"), suggestiveline = T, genomewideline = T, chrlabs = c(1:22))\n",
    "    dev.off()\n",
    "    # Creating qqplot\n",
    "    png('{_output[1]}', width = 6, height = 4, unit='in', res=300)\n",
    "    qq_plot <- qq(data$P_BOLT_LMM, main = '{qq_plot}', xlim = c(0, 8), ylim = c(0, 300), pch = 18, col = \"blue4\", cex = 1.5, las = 1)\n",
    "    dev.off()"
   ]
  },
  {
   "cell_type": "markdown",
   "metadata": {
    "kernel": "SoS"
   },
   "source": [
    "### Step 5: Creating flexibility for Manhattan plots"
   ]
  },
  {
   "cell_type": "code",
   "execution_count": null,
   "metadata": {
    "kernel": "SoS"
   },
   "outputs": [],
   "source": [
    "# For more flexibility when creating manhattan plots and adding highlighted SNPs\n",
    "[plot_2]\n",
    "input: output_from('step_1')\n",
    "output: f'{cwd}/{_input:bnn}.manhattan.png'\n",
    "task: trunk_workers = 1, trunk_size = job_size, walltime = '12h', mem = '60G', tags = f'{step_name}_{_output:bn}'\n",
    "R: expand=\"${ }\"\n",
    "    if (!require('tidyverse')) install.packages('tidyverse'); library('tidyverse')\n",
    "    if (!require('ggrepel')) install.packages('ggrepel'); library('ggrepel')\n",
    "  #Load your data\n",
    "    data <- read.table(gzfile('${_input}'), header=T)\n",
    "  # Create a subset of the data with variants with P< 0.05 and arrange by chromosome number\n",
    "  # https://danielroelfs.com/blog/how-i-create-manhattan-plots-using-ggplot/\n",
    "\n",
    "    sig.dat <- data %>% \n",
    "      subset('${pval}' < 0.05) %>%\n",
    "      arrange (CHR, .by_group=TRUE)\n",
    "\n",
    "  # Add highlight and annotation information\n",
    "    #mutate( is_highlight=ifelse(SNP %in% index_snps, \"yes\", \"no\")) %>%\n",
    "    #mutate( is_annotate=ifelse(-log10(P_BOLT_LMM)>6, \"yes\", \"no\")) \n",
    "\n",
    "  # Check the list of chromosomes (make sure the sex chr are at the end of the list)\n",
    "\n",
    "    unique(sig.dat$CHR)\n",
    "\n",
    "    # Get the cumulative base pair position for each variant\n",
    "\n",
    "    nCHR <- length(unique(sig.dat$CHR))\n",
    "    sig.dat$BPcum <- NA\n",
    "    s <- 0\n",
    "    nbp <- c()\n",
    "    for (i in unique(sig.dat$CHR)){\n",
    "      nbp[i] <- max(sig.dat[sig.dat$CHR == i,]$BP)\n",
    "      sig.dat[sig.dat$CHR == i,\"BPcum\"] <- sig.dat[sig.dat$CHR == i,\"BP\"] + s\n",
    "      s <- s + nbp[i]\n",
    "    }\n",
    "\n",
    "    # Calculate the mid point for each chromosome for plotting the x-axis\n",
    "    # Calculate the y-lim \n",
    "\n",
    "    axis.set <- sig.dat %>% \n",
    "      group_by(CHR) %>% \n",
    "      summarize(center = (max(BPcum) + min(BPcum)) / 2)\n",
    "    ylim <- abs(floor(log10(min(sig.dat$'${pval}')))) + 2 \n",
    "    sig <- 5e-8\n",
    "\n",
    "    # Now time to draw the manhattan plot without filtering the most significant signals\n",
    "\n",
    "    manhplot <- ggplot(sig.dat, aes(x = BPcum, y = -log10('${pval}'), \n",
    "                                 color = as.factor(CHR), size = -log10('${pval}'))) +\n",
    "      geom_point(alpha = 0.75) +\n",
    "      geom_hline(yintercept = -log10(sig), color = \"red1\", linetype = \"dashed\") + \n",
    "      scale_x_continuous(label = axis.set$CHR, breaks = axis.set$center) +\n",
    "      scale_y_continuous(expand = c(0,0), limits = c(0, 50)) +\n",
    "      scale_color_manual(values = rep(c(\"#276FBF\", \"#183059\"), nCHR)) +\n",
    "      scale_size_continuous(range = c(0.5,3)) +\n",
    "      # Add highlighted points\n",
    "      # geom_point(data=subset(sig.dat, is_highlight==\"yes\"), color=\"orange\", alpha=0.75) +\n",
    "      labs(x = \"Chromosome\", \n",
    "           y = \"-log10(p)\",\n",
    "           title =\"{manplot}\") + \n",
    "      theme_classic() +\n",
    "      theme( \n",
    "        legend.position = \"none\",\n",
    "        panel.border = element_blank(),\n",
    "        panel.grid.major.x = element_blank(),\n",
    "        panel.grid.minor.x = element_blank(),\n",
    "        axis.text.x = element_text(angle = 90, size = 8, vjust = 0.5)\n",
    "      )\n",
    "\n",
    "    # To save a plot created with ggplot2 you have to use to print() function\n",
    "\n",
    "    png(filename = '${_output}', width = 6, height = 4, unit='in', res=300)\n",
    "    print(manhplot)\n",
    "    dev.off()\n"
   ]
  },
  {
   "cell_type": "markdown",
   "metadata": {
    "kernel": "SoS"
   },
   "source": [
    "Awk to find the minimum and maximum values in a specific column"
   ]
  },
  {
   "cell_type": "code",
   "execution_count": null,
   "metadata": {
    "kernel": "SoS"
   },
   "outputs": [],
   "source": [
    "#awk '(NR==1){Min=$3;Max=$3};(NR>=3){if(Min>$3) Min=$3;if(Max<$3) Max=$3} END {printf \"The Min is %d ,Max is %d\",Min,Max}' ukb_mfi_chr1_v3.txt"
   ]
  },
  {
   "cell_type": "markdown",
   "metadata": {
    "kernel": "SoS"
   },
   "source": [
    "Show the lowest p-values"
   ]
  },
  {
   "cell_type": "code",
   "execution_count": null,
   "metadata": {
    "kernel": "SoS"
   },
   "outputs": [],
   "source": [
    "#gzcat Test_INT-BMI.txt.gz | awk -F \"\\t\" '{ if ($16 <= 5e-8) { print } }'| sort -g | head -n 5"
   ]
  },
  {
   "cell_type": "markdown",
   "metadata": {
    "kernel": "SoS"
   },
   "source": [
    "To find the overlapping variants between dataset 1 and dataset 2"
   ]
  },
  {
   "cell_type": "code",
   "execution_count": null,
   "metadata": {
    "kernel": "Bash"
   },
   "outputs": [],
   "source": [
    "#awk 'NR==FNR {FILE1[$1]=$0; next} ($1 in FILE1) {print $0}' dataset2 dataset1 > dataset1_subset_overlapping_dataset2"
   ]
  },
  {
   "cell_type": "markdown",
   "metadata": {
    "kernel": "Bash"
   },
   "source": [
    "The output file .clumped will contain the index SNPs for each LD block in column 3. To extract this column and create a vector to use for highlighting in the Manhattan Plot"
   ]
  },
  {
   "cell_type": "markdown",
   "metadata": {
    "kernel": "Bash"
   },
   "source": [
    "```\n",
    "awk '{ print $3 }' \\\n",
    "Test_INT-BMI.txt.clumped \\\n",
    "> dataset1_subset_overlapping_dataset2_clump1.SNPs\n",
    "```"
   ]
  },
  {
   "cell_type": "markdown",
   "metadata": {
    "kernel": "SoS"
   },
   "source": [
    "### Output some summary statistics from the phenotypic data\n",
    "* Number of cases\n",
    "* Number of controls"
   ]
  },
  {
   "cell_type": "code",
   "execution_count": null,
   "metadata": {
    "kernel": "SoS"
   },
   "outputs": [],
   "source": [
    "[phenotype_summary]\n",
    "input: phenoFile\n",
    "output: None\n",
    "bash: expand=True\n",
    "    # Number of controls\n",
    "    awk '{ if ($5 == 0) { print }' {_input} | wc -l \n",
    "    # Number of cases\n",
    "    awk '{ if ($5 == 1) { print }' {_input} | wc -l"
   ]
  }
 ],
 "metadata": {
  "kernelspec": {
   "display_name": "SoS",
   "language": "sos",
   "name": "sos"
  },
  "language_info": {
   "codemirror_mode": "sos",
   "file_extension": ".sos",
   "mimetype": "text/x-sos",
   "name": "sos",
   "nbconvert_exporter": "sos_notebook.converter.SoS_Exporter",
   "pygments_lexer": "sos"
  },
  "sos": {
   "kernels": [
    [
     "Bash",
     "bash",
     "Bash",
     "#E6EEFF",
     ""
    ],
    [
     "SoS",
     "sos",
     "",
     "",
     "sos"
    ]
   ],
   "version": "0.21.9"
  }
 },
 "nbformat": 4,
 "nbformat_minor": 4
}
