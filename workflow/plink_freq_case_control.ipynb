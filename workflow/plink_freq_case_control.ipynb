{
 "cells": [
  {
   "cell_type": "markdown",
   "id": "65e0b35c-b1e4-4646-8f54-685b9ab512fb",
   "metadata": {
    "kernel": "SoS",
    "tags": []
   },
   "source": [
    "## Case control frequency\n",
    "\n",
    "Report case control frequency using plink"
   ]
  },
  {
   "cell_type": "code",
   "execution_count": null,
   "id": "d50520ed-7663-44be-84df-b0df32c77e50",
   "metadata": {
    "kernel": "SoS"
   },
   "outputs": [],
   "source": [
    "[global]\n",
    "# the output directory for generated files\n",
    "parameter: cwd = path\n",
    "# Specific number of threads to use\n",
    "parameter: numThreads = 2\n",
    "# For cluster jobs, number commands to run per job\n",
    "parameter: job_size = 1\n",
    "# Name for the merged bimfiles to use\n",
    "parameter: phenoFile = path\n",
    "# Wall clock time expected\n",
    "parameter: walltime = \"15h\"\n",
    "# Memory expected\n",
    "parameter: mem = \"30G\"\n",
    "# Software container option\n",
    "parameter: container_lmm = 'statisticalgenetics/lmm:2.4'"
   ]
  },
  {
   "cell_type": "code",
   "execution_count": null,
   "id": "8eb7b714-505d-483b-be7d-1a249a5d96fb",
   "metadata": {
    "kernel": "SoS"
   },
   "outputs": [],
   "source": [
    "[plink_stats]\n",
    "# bed files plink format\n",
    "parameter: bfiles = paths\n",
    "# Filter based on minor allele frequency \n",
    "parameter: maf_filter = 0.0\n",
    "# Filter out variants with missing call rate higher that this value\n",
    "parameter: geno_filter = 0.0\n",
    "# Filter according to Hardy Weiberg Equilibrium\n",
    "parameter: hwe_filter = 0.0\n",
    "# Fitler out samples with missing rate higher than this value\n",
    "parameter: mind_filter = 0.0\n",
    "input: bfiles, group_by=1\n",
    "output: f'{cwd}/{_input:bn}.afreq'\n",
    "task: trunk_workers = 1, walltime = walltime, mem = mem, cores = numThreads, tags = f'{step_name}_{_output:bn}'\n",
    "bash: container=container_lmm, expand= \"${ }\", stderr = f'{_output:n}.stderr', stdout = f'{_output:n}.stdout' \n",
    "    plink2 \\\n",
    "      --bfile ${_input:n}\\\n",
    "      --keep ${phenoFile}\\\n",
    "      ${('--maf %s' % maf_filter) if maf_filter > 0 else ''} \\\n",
    "      ${('--geno %s' % geno_filter) if geno_filter > 0 else ''} \\\n",
    "      ${('--hwe %s' % hwe_filter) if hwe_filter > 0 else ''} \\\n",
    "      ${('--mind %s' % mind_filter) if mind_filter > 0 else ''} \\\n",
    "      --freq 'case-control'\\\n",
    "      --threads ${numThreads} \\\n",
    "      --out ${_output:n} "
   ]
  },
  {
   "cell_type": "code",
   "execution_count": 4,
   "id": "38180869-d412-4d87-96e1-e90b07114234",
   "metadata": {
    "kernel": "Bash",
    "tags": []
   },
   "outputs": [],
   "source": [
    "UKBB_PATH=$HOME/UKBiobank\n",
    "UKBB_yale=$HOME/UKBiobank_Yale_transfer\n",
    "USER_PATH=$HOME/project\n",
    "container_lmm=$HOME/containers/lmm.sif\n",
    "container_marp=$HOME/containers/marp.sif\n",
    "container_annovar=$HOME/containers/gatk4-annovar.sif\n",
    "hearing_pheno_path=$UKBB_PATH/phenotype_files/hearing_impairment\n",
    "tpl_file=$USER_PATH/bioworkflows/admin/csg.yml\n",
    "formatFile_fastgwa=$USER_PATH/UKBB_GWAS_dev/data/fastGWA_template.yml\n",
    "formatFile_bolt=$USER_PATH/UKBB_GWAS_dev/data/boltlmm_template.yml\n",
    "formatFile_saige=$USER_PATH/UKBB_GWAS_dev/data/saige_template.yml\n",
    "formatFile_regenie=$USER_PATH/UKBB_GWAS_dev/data/regenie_template.yml\n",
    "bfiles=$UKBB_PATH/data/exome_files/project_VCF/072721_run/plink/ukb23156_c13.merged.filtered.bed\n",
    "phenoFile=$hearing_pheno_path/080421_UKBB_Mendelian_expandedwhite_1520cases_98082ctrl"
   ]
  },
  {
   "cell_type": "code",
   "execution_count": 12,
   "id": "7542e038-22f0-4fb1-99b2-3edc12906e85",
   "metadata": {
    "kernel": "Bash",
    "tags": []
   },
   "outputs": [
    {
     "name": "stdout",
     "output_type": "stream",
     "text": [
      "INFO: Running \u001b[32mplink_stats\u001b[0m: \n",
      "INFO: \u001b[32mplink_stats\u001b[0m is \u001b[32mcompleted\u001b[0m.\n",
      "\u001b[91mERROR\u001b[0m: \u001b[91m[plink_stats]: [plink_stats]: Output target /home/dmc2245/UKBiobank/results/REGENIE_results/results_exome_data/mendelian_like_qc_exomes200K/ukb23156_c13.merged.filtered.freq does not exist after the completion of step plink_stats\u001b[0m\n"
     ]
    },
    {
     "ename": "",
     "evalue": "1",
     "output_type": "error",
     "traceback": []
    }
   ],
   "source": [
    "module load Singularity\n",
    "cwd=/home/dmc2245/UKBiobank/results/REGENIE_results/results_exome_data/mendelian_like_qc_exomes200K\n",
    "sos run ~/project/UKBB_GWAS_dev/workflow/plink_freq_case_control.ipynb \\\n",
    "    plink_stats \\\n",
    "    --cwd $cwd \\\n",
    "    --bfiles $bfiles \\\n",
    "    --phenoFile $phenoFile \\\n",
    "    --numThreads 20 \\\n",
    "    --job_size 1  \\\n",
    "    --container_lmm $container_lmm"
   ]
  },
  {
   "cell_type": "code",
   "execution_count": null,
   "id": "cae30bfc-54e1-4826-a903-d5fb38ae2c80",
   "metadata": {
    "kernel": "Bash"
   },
   "outputs": [],
   "source": []
  }
 ],
 "metadata": {
  "kernelspec": {
   "display_name": "SoS",
   "language": "sos",
   "name": "sos"
  },
  "language_info": {
   "codemirror_mode": "sos",
   "file_extension": ".sos",
   "mimetype": "text/x-sos",
   "name": "sos",
   "nbconvert_exporter": "sos_notebook.converter.SoS_Exporter",
   "pygments_lexer": "sos"
  },
  "sos": {
   "kernels": [
    [
     "Bash",
     "calysto_bash",
     "Bash",
     "#E6EEFF",
     ""
    ],
    [
     "SoS",
     "sos",
     "",
     "",
     "sos"
    ]
   ],
   "version": "0.22.6"
  }
 },
 "nbformat": 4,
 "nbformat_minor": 5
}
