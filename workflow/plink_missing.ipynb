{
 "cells": [
  {
   "cell_type": "markdown",
   "metadata": {
    "kernel": "SoS"
   },
   "source": [
    "# Sample and variant missigness statistics\n",
    "\n",
    "Understand patterns of missing data PLINK exome files UKBB"
   ]
  },
  {
   "cell_type": "markdown",
   "metadata": {
    "kernel": "SoS"
   },
   "source": [
    "## Aim\n",
    "\n",
    "To generate missingness statistics for exome data of the UKBB and create a pptx/html report in order to decide the filtering parameters that will be used in other downstream analyses.\n",
    "\n",
    "FIXME: the report created using marp needs to be organized to fit in the graphs within one slide and to allow better visualization of the tables"
   ]
  },
  {
   "cell_type": "markdown",
   "metadata": {
    "kernel": "SoS"
   },
   "source": [
    "## Running the pipeline\n",
    "\n",
    "In the bash terminal, set the variables and then run:\n",
    "\n",
    "```\n",
    "sos run ~/project/UKBB_GWAS_dev/plink_missing.ipynb \\\n",
    "    --cwd $cwd \\\n",
    "    --bedfiles $bedfiles \\\n",
    "    --bimfiles $bimfiles \\\n",
    "    --famFile $famFile \\\n",
    "    --numThreads $numThreads \\\n",
    "    --job_size $job_size \\\n",
    "    --container_lmm $container_lmm \\\n",
    "    --container_marp $container_marp\n",
    "```"
   ]
  },
  {
   "cell_type": "markdown",
   "metadata": {
    "kernel": "Bash"
   },
   "source": [
    "# On Yale's cluster\n",
    "\n",
    "```\n",
    "UKBB_PATH=/gpfs/gibbs/pi/dewan/data/UKBiobank\n",
    "tpl_file=../farnam.yml\n",
    "pca_dir=$UKBB_PATH/results/pca_exomes\n",
    "famFile=$UKBB_PATH/genotype_files/ukb28374_exomedata/exome_data_OCT2020/ukb23155_s200631.fam\n",
    "bedfiles=`echo $UKBB_PATH/genotype_files/ukb28374_exomedata/exome_data_OCT2020/ukb23155_c{1..22}_b0_v1.bed`\n",
    "bimfiles=`echo $UKBB_PATH/genotype_files/ukb28374_exomedata/exome_data_OCT2020/UKBexomeOQFE_chr{1..22}.bim`\n",
    "# Container\n",
    "container_lmm=$UKBB_PATH/lmm.sif\n",
    "container_marp=$UKBB_PATH/marp.sif\n",
    "# Pipeline\n",
    "plink_sos=~/project/UKBB_GWAS_dev/workflow/plink_missing.ipynb\n",
    "# Name of bash script\n",
    "plink_sbatch=../output/$(date +\"%Y-%m-%d\")_plink_miss.sbatch\n",
    "numThreads=1\n",
    "job_size=1\n",
    "\n",
    "plink_args=\"\"\"missing \\\n",
    "    --cwd $pca_dir \\\n",
    "    --bedfiles $bedfiles \\\n",
    "    --bimfiles $bimfiles \\\n",
    "    --famFile $famFile \\\n",
    "    --numThreads $numThreads \\\n",
    "    --job_size $job_size \\\n",
    "    --container_lmm $container_lmm \\\n",
    "    --container_marp $container_marp \\\n",
    "    -s build\n",
    "\"\"\"\n",
    "\n",
    "sos run ~/project/bioworkflows/GWAS/Get_Job_Script.ipynb farnam \\\n",
    "    --template-file $tpl_file \\\n",
    "    --workflow-file $plink_sos \\\n",
    "    --to-script $plink_sbatch \\\n",
    "    --args \"$plink_args\"\n",
    "```"
   ]
  },
  {
   "cell_type": "markdown",
   "metadata": {
    "kernel": "SoS"
   },
   "source": [
    "## Command interface"
   ]
  },
  {
   "cell_type": "code",
   "execution_count": null,
   "metadata": {
    "kernel": "Bash"
   },
   "outputs": [],
   "source": [
    "sos run plink_missing.ipynb -h"
   ]
  },
  {
   "cell_type": "code",
   "execution_count": null,
   "metadata": {
    "kernel": "SoS"
   },
   "outputs": [],
   "source": [
    "[global]\n",
    "# the output directory for generated files\n",
    "parameter: cwd = path\n",
    "# BED Plink files for exome data\n",
    "parameter: genoFile = paths\n",
    "# For cluster jobs, number commands to run per job\n",
    "parameter: job_size = 1\n",
    "# Number of threads\n",
    "parameter: numThreads = 1\n",
    "# Software container option\n",
    "parameter: container_lmm = 'statisticalgenetics/lmm:1.8'\n",
    "parameter: container_marp = 'gaow/marp'"
   ]
  },
  {
   "cell_type": "code",
   "execution_count": null,
   "metadata": {
    "kernel": "SoS"
   },
   "outputs": [],
   "source": [
    "# Genotype and sample missingness for exome files\n",
    "[missing_1]\n",
    "input: genoFile, group_by=1\n",
    "output: f'{cwd}/{_input:bn}.imiss', f'{cwd}/{_input:bn}.lmiss', f'{cwd}/{_input:bn}.frq', f'{cwd}/{_input:bn}.log'\n",
    "task: trunk_workers = 1, walltime = '10h', mem = '30G', cores = numThreads, tags = f'{step_name}_{_output:bn}'\n",
    "bash: container=container_lmm, expand= \"${ }\", stderr = f'{_output[0]:n}.stderr', stdout = f'{_output[0]:n}.stdout'\n",
    "    plink \\\n",
    "      --bfile ${_input:n} \\\n",
    "      --missing \\\n",
    "      --freq \\\n",
    "      --threads ${numThreads} \\\n",
    "      --out ${_output[0]:n} "
   ]
  },
  {
   "cell_type": "code",
   "execution_count": null,
   "metadata": {
    "kernel": "SoS"
   },
   "outputs": [],
   "source": [
    "# Generate plots to understand patterns of missing data\n",
    "[missing_2]\n",
    "# Filter out variants with missing call rate higher that this value\n",
    "parameter: geno = 0.01\n",
    "# Filter out samples with missing rate higher than this value\n",
    "parameter: mind = 0.02\n",
    "# Filter based on minor allele frequency\n",
    "parameter: maf = 0.01\n",
    "sep = '\\n\\n---\\n'\n",
    "input: group_by=4\n",
    "output: analysis_summary = f'{cwd}/{_input[0]:bn}.missing.md', \n",
    "        sample_plot = f'{cwd}/{_input[0]:bn}.imiss.png',  \n",
    "        variant_plot = f'{cwd}/{_input[0]:bn}.lmiss.png',  \n",
    "        maf_plot = f'{cwd}/{_input[0]:bn}.maf.png'\n",
    "task: trunk_workers = 1, walltime = '10h', mem = '30G', cores = numThreads, tags = f'{step_name}_{_output[0]:bn}'   \n",
    "R: expand= \"${ }\", stderr = f'{_output[0]:n}.stderr', stdout = f'{_output[0]:n}.stdout'\n",
    "    #load libraries\n",
    "    library(ggplot2)\n",
    "    library(scales)\n",
    "    #read data sample missingness\n",
    "    smiss <- read.table(${_input[0]:r}, header=T)\n",
    "    #colnames(smiss) <- c(\"FID\",\"IID\",\"MISS_PHENO\", \"N_MISS\", \"N_GENO\",\"F_MISS\")\n",
    "    out = capture.output(as.array(summary(smiss$F_MISS)))\n",
    "    smiss_filter = length(which(smiss$F_MISS>${mind}))\n",
    "    #read data variant missingness\n",
    "    vmiss <- read.table(${_input[1]:r}, header=T)\n",
    "    #colnames(vmiss) <- c(\"CHR\",\"SNP\",\"N_MISS\", \"N_GENO\", \"F_MISS\")\n",
    "    out_1 = capture.output(as.array(summary(vmiss$F_MISS)))\n",
    "    vmiss_filter = length(which(vmiss$F_MISS>${geno}))\n",
    "    #look at the allele frequency\n",
    "    afreq <- read.table(${_input[2]:r}, header=T)\n",
    "    #colnames(afreq) <- c(\"CHR\",\"SNP\",\"A1\", \"A2\", \"MAF\", \"NCHROBS\")\n",
    "    out_2 = capture.output(as.array(summary(afreq$MAF)))\n",
    "    afreq_filter = length(which(afreq$MAF>${maf}))\n",
    "    # create plots\n",
    "    png('${_output[1]}', width = 4, height = 4, unit='in', res=300)\n",
    "    smiss_plot <- ggplot(smiss, aes(x=F_MISS)) + geom_histogram(aes(y = stat(count) / sum(count)),binwidth=0.001)  + labs(title=\"Histogram of sample missing call rate\\n for ${_input[0]:bn}\", x =\"Proportion of missing variants\", y = \"Frequency\") + scale_y_continuous(breaks=seq(0,1,by=0.2), labels = scales::percent) + theme(plot.title = element_text(size = 10)) + theme_classic()\n",
    "    print(smiss_plot)\n",
    "    dev.off()\n",
    "    \n",
    "    png('${_output[2]}', width = 4, height = 4, unit='in', res=300)\n",
    "    vmiss_plot <- ggplot(vmiss, aes(x=F_MISS)) + geom_histogram(aes(y = stat(count) / sum(count)), bins=100) + labs(title=\"Plot of variant missingness rate\\n for ${_input[0]:bn}\", x =\"SNP missing call rate\", y = \"Frequency\") + scale_y_continuous(breaks=seq(0,1,by=0.2), labels = scales::percent) + theme(plot.title = element_text(size = 10)) + theme_classic()\n",
    "    print(vmiss_plot)\n",
    "    dev.off()\n",
    "  \n",
    "    png('${_output[3]}', width = 4, height = 4, unit='in', res=300)\n",
    "    freq_plot <- ggplot(afreq, aes(MAF)) + geom_histogram(bins=100) + xlim(c(0,0.5))  + scale_y_log10(breaks = trans_breaks(\"log10\", function(x) 10^x),labels = trans_format(\"log10\", math_format(10^.x))) + labs(title=\"Minor allele frequency distribution\\n for ${_input[0]:bn}\", x =\"MAF\", y = \"Number of SNPs\") + theme(plot.title = element_text(size = 10)) + theme_classic()\n",
    "    print(freq_plot)\n",
    "    dev.off()\n",
    "  \n",
    "    write('# ${_input[0]:b} result summary\\n## Sample missingness summary:\\n```', ${_output[0]:r}, append = T)\n",
    "    cat('##The number of samples with a proportion of missing SNPs higher than ${mind} is:',smiss_filter,\".\\n\", file=${_output[0]:r}, append = T ) \n",
    "    write.table(out, ${_output[0]:r}, append = T) \n",
    "    cat('##The number of variants missing in more than ${geno} of the samples is:',vmiss_filter,\".\\n\", file=${_output[0]:r}, append = T )\n",
    "    write.table(out_1, ${_output[0]:r}, append = T) \n",
    "    cat('##The number of variants with maf>${maf} is:',afreq_filter,\".\\n\", file=${_output[0]:r}, append = T )\n",
    "    write.table(out_2, ${_output[0]:r}, append = T)\n",
    "    write(\"```${sep}\", ${_output[0]:r}, append = T)\n",
    "  \n",
    "bash: expand=True\n",
    "  set -e\n",
    "  echo -e \"### Number of analyzed variants for {_output[0]:bn}\\n\" >> {_output[0]}\n",
    "  cat  {_output[0]:nn}.log | grep -w \"variants\" && echo -e \"{sep}\" >> {_output[0]}\n",
    "  echo -e \"#\\n#\\n### Sample missingness rate plot for {_output[1]:bn}\\n\" >> {_output[0]}\n",
    "  echo -e \"![]({_output[1]:b}){sep}\" >> {_output[0]}\n",
    "  echo -e \"#\\n#\\n### Variant missingess rate plot for {_output[2]:bn}\\n\" >> {_output[0]}\n",
    "  echo -e \"![]({_output[2]:b}){sep}\" >> {_output[0]}\n",
    "  echo -e \"### Minor allele frequency plot for {_output[3]:bn}\\n\" >> {_output[0]}\n",
    "  echo -e \"![]({_output[3]:b}){sep}\" >> {_output[0]}\n",
    "  echo -e \"### Result files\\n\\`\\`\\`\" >> {_output[0]}\n",
    "  ls {_output[0]:nn}.* | grep -vP 'stderr|stdout'>> {_output[0]}\n",
    "  echo -e \"\\`\\`\\`\" >> {_output[0]}"
   ]
  },
  {
   "cell_type": "code",
   "execution_count": 35,
   "metadata": {
    "kernel": "SoS"
   },
   "outputs": [],
   "source": [
    "# Generate the merged markdown file\n",
    "[missing_3]\n",
    "output: f'{cwd}/{str(_input[0]).rsplit('_',3)[0]}.merged.md'\n",
    "bash:expand = \"${ }\"\n",
    "    echo '''---\n",
    "    theme: base-theme\n",
    "    style: |\n",
    "     img {\n",
    "       #display: block;\n",
    "       height: 60%;\n",
    "       width: 60%;\n",
    "       #margin-top: 22%;\n",
    "    }\n",
    "    ---    \n",
    "    ''' >  ${_output}\n",
    "    \n",
    "  for i in $(ls -rt ${_input[0]:nn}.* | grep \"missing.md\");do cat $i >> ${_output};done"
   ]
  },
  {
   "cell_type": "code",
   "execution_count": 1,
   "metadata": {
    "kernel": "SoS"
   },
   "outputs": [],
   "source": [
    "# Generate analysis report: HTML file, and optionally PPTX file\n",
    "[missing_4]\n",
    "output: f'{_input:n}.html'\n",
    "sh: container=container_marp, expand = True, stderr = f'{_output:n}.stderr', stdout = f'{_output:n}.stdout'\n",
    "    node /opt/marp/.cli/marp-cli.js {_output:n}.md -o {_output:a} \\\n",
    "        --title 'Sample and variant missingness UKBB {_output:bn}' \\\n",
    "        --allow-local-files\n",
    "    node /opt/marp/.cli/marp-cli.js {_output:n}.md -o {_output:an}.pptx \\\n",
    "        --title 'Sample and variant missingness UKBB {_output:bn}' \\\n",
    "        --allow-local-files "
   ]
  }
 ],
 "metadata": {
  "kernelspec": {
   "display_name": "SoS",
   "language": "sos",
   "name": "sos"
  },
  "language_info": {
   "codemirror_mode": "sos",
   "file_extension": ".sos",
   "mimetype": "text/x-sos",
   "name": "sos",
   "nbconvert_exporter": "sos_notebook.converter.SoS_Exporter",
   "pygments_lexer": "sos"
  },
  "sos": {
   "kernels": [
    [
     "Bash",
     "calysto_bash",
     "Bash",
     "#E6EEFF",
     "shell"
    ],
    [
     "SoS",
     "sos",
     "",
     "",
     "sos"
    ]
   ],
   "version": "0.21.21"
  }
 },
 "nbformat": 4,
 "nbformat_minor": 4
}
