{
 "cells": [
  {
   "cell_type": "markdown",
   "metadata": {
    "kernel": "SoS"
   },
   "source": [
    "# Extracting data for genomic regions of interest"
   ]
  },
  {
   "cell_type": "markdown",
   "metadata": {
    "kernel": "SoS"
   },
   "source": [
    "## Aim"
   ]
  },
  {
   "cell_type": "markdown",
   "metadata": {
    "kernel": "SoS"
   },
   "source": [
    "To extract the summary statistics and genotype on specific genomic regions and calculate their LD matrix."
   ]
  },
  {
   "cell_type": "markdown",
   "metadata": {
    "kernel": "SoS"
   },
   "source": [
    "## Input and Output"
   ]
  },
  {
   "cell_type": "markdown",
   "metadata": {
    "kernel": "SoS"
   },
   "source": [
    "### Input\n",
    "\n",
    "- list of regions e.g. SNP rs849335 is at chr 7:28223990; and we extract 1Mb radius around it.\n",
    "    - The locus will be represented by one line in the region list with 3 columns `7 27723990 28723990`\n",
    "- list of all genotypes, in `bgen` format and in `plink` format.\n",
    "    - The list is a file with 2 columns: `chr genotype_file_chr.ext`.\n",
    "    - The first column is chromosome ID, the 2nd file is genotype for that chromosome.\n",
    "    - When chromosome ID is 0, it implies that the genotype file contains all the genotypes.\n",
    "- all summary statistics (eg, $\\hat{\\beta}$, $SE(\\hat{\\beta})$ and p-values)\n",
    "    - These summary statistics should contain at least these columns: \n",
    "    - `chrom, pos, a0, a1, snp_id, bhat, sbhat, z, p`\n",
    "    - If SNP id is not available we make it up as `chrom_pos_a1_a2`"
   ]
  },
  {
   "cell_type": "markdown",
   "metadata": {
    "kernel": "SoS"
   },
   "source": [
    "- list of unrelated individuals (from which LD matrices will be computed)"
   ]
  },
  {
   "cell_type": "markdown",
   "metadata": {
    "kernel": "SoS"
   },
   "source": [
    "**FIXME: examplain format of summary stats file and format of unrelated individual list**\n",
    "\n",
    "### Output\n",
    "\n",
    "- regional genotype\n",
    "- regional LD accounting for related individuals\n",
    "- reginonal summary stats"
   ]
  },
  {
   "cell_type": "markdown",
   "metadata": {
    "kernel": "SoS"
   },
   "source": [
    "## Workflow usage"
   ]
  },
  {
   "cell_type": "markdown",
   "metadata": {
    "kernel": "SoS"
   },
   "source": [
    "Using our minimal working example data-set,\n",
    "\n",
    "```\n",
    "sos run Region_Extraction.ipynb \\\n",
    "    --cwd output \\\n",
    "    --region-file data/regions.txt \\\n",
    "    --pheno-path data/phenotypes.txt \\\n",
    "    --geno-path data/genotype_inventory.txt \\\n",
    "    --sumstats-path /SAY/dbgapstg/scratch/UKBiobank/results/BOLTLMM_results/results_imputed_data/INT-BMI/ukb_imp_v3.UKB_caucasians_BMIwaisthip_AsthmaAndT2D_INT-BMI_withagesex_041720.BoltLMM.stats.all_chr.gz \\\n",
    "    --unrelated-samples data/UKB_unrelatedcauc_phenotypes_asthmat2dbmiwaisthip_agesex_waisthipratio_040620 \n",
    "```"
   ]
  },
  {
   "cell_type": "markdown",
   "metadata": {
    "kernel": "SoS"
   },
   "source": [
    "## Workflow codes"
   ]
  },
  {
   "cell_type": "code",
   "execution_count": 2,
   "metadata": {
    "kernel": "SoS"
   },
   "outputs": [],
   "source": [
    "[global]\n",
    "# Work directory where output will be saved to\n",
    "parameter: cwd = path\n",
    "# Region specifications\n",
    "parameter: region_file = path\n",
    "# Genotype file inventory\n",
    "parameter: geno_path = path\n",
    "# Phenotype path\n",
    "parameter: pheno_path = path\n",
    "# Path to summary stats file\n",
    "parameter: sumstats_path = path\n",
    "# Path to samples of unrelated individuals\n",
    "parameter: unrelated_samples = path\n",
    "\n",
    "fail_if(not region_file.is_file(), msg = 'Cannot find regions to extract. Please specify them using ``--region-file`` option.')\n",
    "# Load all regions of interest. Each item in the list will be a region: (chr, start, end)\n",
    "regions = [x.strip().split() for x in open(region_file).readlines() if x.strip()]"
   ]
  },
  {
   "cell_type": "markdown",
   "metadata": {
    "kernel": "SoS"
   },
   "source": [
    "## Some utility functions\n",
    "\n",
    "- `plink_slice`: The function of extracting regional genotype\n",
    "   - p: list of bim, fam, bed\n",
    "   - pb: index of bim\n",
    "   - pf: index of fam"
   ]
  },
  {
   "cell_type": "code",
   "execution_count": 2,
   "metadata": {
    "kernel": "SoS"
   },
   "outputs": [],
   "source": [
    "[utils]\n",
    "output: f'{cwd:a}/utils.py'\n",
    "report: expand = '${ }', output=_output\n",
    "    import numpy as np\n",
    "    import pandas as pd\n",
    "\n",
    "    def read_sumstat(file):\n",
    "        try:\n",
    "            sumstats = pd.read_csv(file, compression='gzip', header=0, sep='\\t', quotechar='\"')\n",
    "            sumstats = sumstats.loc[:,['CHR','BP','SNP','ALLELE1','ALLELE0','BETA','SE','P_BOLT_LMM']]\n",
    "        except:\n",
    "            print(\"This is not a BOLT result.\")\n",
    "            try:\n",
    "                sumstats = pd.read_csv(file, header=0, sep='\\t', quotechar='\"')\n",
    "                sumstats = sumstats.loc[:,['CHR','POS','SNP','A1','A2','BETA','SE','P']]\n",
    "            except:\n",
    "                raise ValueError('Plesae provide the files from BOLT or fastGWA')\n",
    "        sumstats.columns = ['CHR','BP','SNP','ALT','REF','BETA','SE','P']\n",
    "        return sumstats\n",
    "\n",
    "    def region_index(bim,region, chrom_col=0, pos_col=3,allchrom=True):\n",
    "        chr_bool = bim.iloc[:,chrom_col].astype(int) == region[0]\n",
    "        chr_ind = chr_bool[chr_bool].index\n",
    "        reg_bool = (bim.iloc[:,pos_col][chr_ind]>region[1]) & (bim.iloc[:,pos_col][chr_ind]<region[2])\n",
    "        if allchrom:\n",
    "            return chr_ind[reg_bool]\n",
    "        else:\n",
    "            return reg_bool.index       \n",
    "\n",
    "    from scipy.stats import norm\n",
    "    def p2z(pval,beta,twoside=True):\n",
    "        if twoside:\n",
    "            pval = pval/2\n",
    "        z = [abs(norm.ppf(p)) if b>0 else -abs(norm.ppf(p)) for p,b in zip(pval,beta)]\n",
    "        return z\n",
    "\n",
    "    def regional_stat(ss,ind):\n",
    "        rg_ss = ss.iloc[ind,:]\n",
    "        rg_ss['Z'] = p2z(rg_ss.P,rg_ss.BETA)\n",
    "        return rg_ss\n",
    "\n",
    "    def plink_slice(p, pb=None,pf=None):\n",
    "        (bim,fam,bed)=p\n",
    "        if pb is not None:\n",
    "            bim = bim.iloc[pb]\n",
    "            bed = bed[pb,:]\n",
    "        if pf is not None:\n",
    "            fam = fam.iloc[pf]\n",
    "            bed = bed[:,pf]\n",
    "        return(bim,fam,bed)\n",
    "\n",
    "    def LD_matrix(bed):\n",
    "        snps = pd.DataFrame(bed.transpose())\n",
    "        ld = snps.corr()\n",
    "        return ld\n",
    "\n",
    "    def extract_region(region,gwas,geno,pheno,unr,chroms=True,plink=True):\n",
    "\n",
    "        # Extract the summary stat\n",
    "        ss_ind = region_index(gwas,region, chrom_col=0, pos_col=1,allchrom=chroms)\n",
    "        rg_stat = regional_stat(gwas,ss_ind)\n",
    "        if plink:\n",
    "            rg_geno = plink_slice(geno,pb=list(ss_ind))\n",
    "            if not np.alltrue(rg_stat.BP==rg_geno[0].pos):\n",
    "                raise ValueError('The regional genotype file and the regional result file do not match with each other 1')\n",
    "            rg_bed = rg_geno[2].compute(num_workers=1)\n",
    "        else:\n",
    "            print(\"This is bgen format\")\n",
    "            rg_geno=[i for i in geno[0].iter_variants_in_region(region[0],region[1],region[2])]\n",
    "            rg_pos = pd.Series([i[0].pos for i in rg_geno])\n",
    "            print(rg_pos,rg_stat,sum(gwas.CHR==16),geno[0].nb_variants)\n",
    "            if not np.alltrue(rg_stat.BP==rg_pos):\n",
    "                raise ValueError('The regional genotype file and the regional result file do not match with each other 2')\n",
    "            rg_bed=np.array([i[1] for i in rg_geno])\n",
    "\n",
    "        fid = geno[1].iloc[:,0].astype(int)\n",
    "        # Calculate the LD matrix based on unrelated individuals\n",
    "        # FIXME: can we have both versions of LD -- from unrelated in the population and from unrelated in the sample? \n",
    "        # https://github.com/dianacornejo/pleiotropy_UKB/issues/1#issuecomment-643251513\n",
    "        rg_ld = LD_matrix(rg_bed[:,fid.isin(unr.FID)])\n",
    "\n",
    "        # genotypes in the sample of a specific phenotype\n",
    "        # FIXME: do we have a guarantee that the sample ordering of genotypes and phenotypes match? \n",
    "        # I understand in PLINK format they do, but maybe BGEN also has that guarantee already? \n",
    "        # you can remove this comment if you are sure what you have done is correct about sample orders being consistent\n",
    "        rg_bed = rg_bed[:,fid.isin(pheno.FID)]\n",
    "        return dict(stats=rg_stat,geno=rg_bed,ld=rg_ld)"
   ]
  },
  {
   "cell_type": "markdown",
   "metadata": {
    "kernel": "SoS"
   },
   "source": [
    "## Extract data\n",
    "\n",
    "This step runs in parallel for all loci listed in the region file (via `for_each`)."
   ]
  },
  {
   "cell_type": "code",
   "execution_count": 1,
   "metadata": {
    "kernel": "SoS"
   },
   "outputs": [],
   "source": [
    "[default (extract genotypes)]\n",
    "depends: Py_Module('pandas_plink')\n",
    "input: geno_path, pheno_path, sumstats_path, unrelated_samples, output_from('utils'), for_each = 'regions'\n",
    "output: sumstats = f'{cwd:a}/{sumstats_path:bn}_{_regions[0]}_{_regions[1]}_{_regions[2]}.sumstats.gz',\n",
    "        genotype = f'{cwd:a}/{geno_path:bn}_{pheno_path:bn}_{_regions[0]}_{_regions[1]}_{_regions[2]}.genotype.gz',\n",
    "        ld = f'{cwd:a}/{geno_path:bn}_{pheno_path:bn}_{_regions[0]}_{_regions[1]}_{_regions[2]}.ld.gz'\n",
    "python: expand = '${ }', input = _input[4], stderr = f'{_output[0]:n}.stderr', stdout = f'{_output[0]:n}.stdout'\n",
    "    \n",
    "    # Load the file of summary statistics and standardize it.\n",
    "    sumstats = read_sumstat(${_input[2]:r})\n",
    "    # Load phenotype file\n",
    "    pheno=pd.read_csv(${_input[1]:r},header=0,sep=' ', quotechar='\"')\n",
    "    # Load unrelated sample file\n",
    "    unr = pd.read_csv(${_input[3]:r}, header=0, sep=' ', quotechar='\"')\n",
    "    \n",
    "    # Load genotype file for the region of interest\n",
    "    geno_inventory = dict([x.strip().split() for x in open(${_input[0]:r}).readlines() if x.strip()])\n",
    "    if \"${_regions[0]}\" not in geno_inventory:\n",
    "        geno_file = geno_inventory['0']\n",
    "    else:\n",
    "        geno_file = geno_inventory[\"${_regions[0]}\"]\n",
    "    import os\n",
    "    if not os.path.exists(geno_file):\n",
    "        # relative path\n",
    "        if not os.path.exists('${_input[0]:ad}/' + geno_file):\n",
    "            raise ValueError(f\"Cannot find genotype file {geno_file}\")\n",
    "        else:\n",
    "            geno_file = '${_input[0]:ad}/' + geno_file\n",
    "    if geno_file.endswith('.bed'):\n",
    "        plink = True\n",
    "        from pandas_plink import read_plink\n",
    "        geno = read_plink(geno_file)\n",
    "        if len(sumstats)==len(geno[0]):\n",
    "            # FIXME: why do we need `all_chrom`? \n",
    "            # a region is chr, start, end. It will have only one chrom to match\n",
    "            all_chrom=True\n",
    "        elif sum(sumstats.CHR==${_regions[0]})==len(geno[0]):\n",
    "            all_chrom=False\n",
    "        else:\n",
    "            # FIXME: they dont always have to match each other -- in many cases they don't, when we \n",
    "            # only have reference genotype panel not the original genotype that generates the summary stats.\n",
    "            # So, can we give a warning here instead, and only take the overlap between sumstats and \n",
    "            # genotype variants?\n",
    "            raise ValueError('The PLINK genotypes and the result file do not match with each other')\n",
    "    elif geno_file.endswith('.bgen'):\n",
    "        plink = False\n",
    "        from pybgen import PyBGEN\n",
    "        bgen = PyBGEN(geno_file)\n",
    "        bgen_fam = pd.read_csv(geno_file.split('.')+'.sample',header=0, sep='\\t', quotechar='\"')\n",
    "        geno = [bgen,bgen_fam]\n",
    "        if len(sumstats)==bgen.nb_variants:\n",
    "            all_chrom=True\n",
    "        elif sum(sumstats.CHR==${_regions[0]})==bgen.nb_variants:\n",
    "            all_chrom=False\n",
    "        else:\n",
    "            raise ValueError('The BGEN genotypes and the result file do not match with each other')\n",
    "    else:\n",
    "        raise ValueError('Plesae provide the genotype files with PLINK binary format or BGEN format')\n",
    "    \n",
    "    rg_info = extract_region((${_regions[0]}, ${_regions[1]}, ${_regions[2]}), sumstats, geno, pheno, unr, all_chrom, plink)\n",
    "    rg_info['stats'].to_csv(${_output[0]:r}, sep = \"\\t\", header = True, index = False)\n",
    "    np.savetxt(${_output[1]:r}, rg_info['geno'])\n",
    "    np.savetxt(${_output[2]:r}, rg_info['ld'])"
   ]
  }
 ],
 "metadata": {
  "kernelspec": {
   "display_name": "SoS",
   "language": "sos",
   "name": "sos"
  },
  "language_info": {
   "codemirror_mode": "sos",
   "file_extension": ".sos",
   "mimetype": "text/x-sos",
   "name": "sos",
   "nbconvert_exporter": "sos_notebook.converter.SoS_Exporter",
   "pygments_lexer": "sos"
  },
  "sos": {
   "kernels": [
    [
     "R",
     "ir",
     "R",
     "#DCDCDA",
     "r"
    ],
    [
     "SoS",
     "sos",
     "",
     "",
     "sos"
    ]
   ],
   "panel": {
    "displayed": true,
    "height": 0
   },
   "version": "0.21.9"
  }
 },
 "nbformat": 4,
 "nbformat_minor": 4
}
