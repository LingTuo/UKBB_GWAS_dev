{
 "cells": [
  {
   "cell_type": "markdown",
   "metadata": {
    "kernel": "SoS"
   },
   "source": [
    "# Extracting data for genomic regions of interest"
   ]
  },
  {
   "cell_type": "markdown",
   "metadata": {
    "kernel": "SoS"
   },
   "source": [
    "## Aim"
   ]
  },
  {
   "cell_type": "markdown",
   "metadata": {
    "kernel": "SoS"
   },
   "source": [
    "To extract the summary statistics and genotype on specific genomic regions and calculate their LD matrix."
   ]
  },
  {
   "cell_type": "markdown",
   "metadata": {
    "kernel": "SoS"
   },
   "source": [
    "## Pre-requisites\n",
    "\n",
    "Make sure you install the pre-requisited before running this notebook:\n",
    "\n",
    "```\n",
    "pip install pybgen\n",
    "pip install pandas_plink\n",
    "pip install scipy\n",
    "```"
   ]
  },
  {
   "cell_type": "markdown",
   "metadata": {
    "kernel": "SoS"
   },
   "source": [
    "## Input and Output"
   ]
  },
  {
   "cell_type": "markdown",
   "metadata": {
    "kernel": "SoS"
   },
   "source": [
    "### Input\n",
    "\n",
    "- `--region-file`, including a list of regions\n",
    "    - Each locus will be represented by one line in the region file with 3 columns chr, start, and end. e.g. `7 27723990 28723990`\n",
    "- `--geno-path`, the path of a genotype inventory, which lists the path of all genotype file in `bgen` format or in `plink` format.\n",
    "    - The list is a file with 2 columns: `chr genotype_file_chr.ext`. \n",
    "    - The first column is chromosome ID, the 2nd file is genotype for that chromosome.\n",
    "    - When chromosome ID is 0, it implies that the genotype file contains all the genotypes.\n",
    "- `--pheno-path`, the path of a phenotype.\n",
    "    - The phenotype file should have a column with the name `IID`, which is used to represent the sample ID.\n",
    "- `--bgen-sample-path`, the path of a file including the sample in the `bgen` files.\n",
    "    - If the genotype file is in `bgen` format, you should provide this path.\n",
    "- `--sumstats-path`, the path of the GWAS file, including all summary statistics (eg, $\\hat{\\beta}$, $SE(\\hat{\\beta})$ and p-values)\n",
    "    - These summary statistics should contain at least these columns: `chrom, pos, a0, a1, snp_id, bhat, sbhat, p`\n",
    "- `--unrelated-samples`, the file path of unrelated samples with a column named `IID`.   \n",
    "- `--cwd`, the path of output directory"
   ]
  },
  {
   "cell_type": "markdown",
   "metadata": {
    "kernel": "SoS"
   },
   "source": [
    "### Output\n",
    "- `rg_stat`, the reginonal summary stats\n",
    "    - The rowname is the variant ID.\n",
    "    - It should contain at least the following columns: `CHR, BP, SNP, ALT, REF, BETA, SE, Z, P`.\n",
    "- `rg_geno`,the regional genotypes\n",
    "    - The rowname is the variant ID, which should match with the rowname of `rg_stat`.\n",
    "    - The column name is the sample's IID, which is sorted by the sample in phenotype.\n",
    "- `pld`, the regional approximate population LD calculated by unrelated individuals\n",
    "- `sld`, the regional approximate sample LD calcualted by unrelated individuals in a phenotype."
   ]
  },
  {
   "cell_type": "markdown",
   "metadata": {
    "kernel": "SoS"
   },
   "source": [
    "## Workflow usage"
   ]
  },
  {
   "cell_type": "markdown",
   "metadata": {
    "kernel": "SoS"
   },
   "source": [
    "Using our minimal working example data-set where we have already generated results for fastGWA,\n",
    "\n",
    "```\n",
    "sos run Region_Extraction.ipynb \\\n",
    "    --cwd candidate_loci \\\n",
    "    --region-file data/regions.txt \\\n",
    "    --pheno-path data/phenotypes.txt \\\n",
    "    --geno-path data/genotype_inventory.txt \\\n",
    "    --bgen-sample-path data/imputed_genotypes.sample \\\n",
    "    --sumstats-path output/phenotypes_BMI.fastGWA.snp_stats.gz \\\n",
    "    --unrelated-samples data/unrelated_samples.txt\n",
    "```"
   ]
  },
  {
   "cell_type": "markdown",
   "metadata": {
    "kernel": "SoS"
   },
   "source": [
    "## Workflow codes"
   ]
  },
  {
   "cell_type": "code",
   "execution_count": 2,
   "metadata": {
    "kernel": "SoS"
   },
   "outputs": [],
   "source": [
    "[global]\n",
    "# Work directory where output will be saved to\n",
    "parameter: cwd = path\n",
    "# Region specifications\n",
    "parameter: region_file = path\n",
    "# Genotype file inventory\n",
    "parameter: geno_path = path\n",
    "# Phenotype path\n",
    "parameter: pheno_path = path\n",
    "# Sample file path, for bgen format\n",
    "parameter: bgen_sample_path = path('.')\n",
    "# Path to summary stats file\n",
    "parameter: sumstats_path = path\n",
    "# Path to summary stats format configuration\n",
    "parameter: format_config_path = path('.')\n",
    "# Path to samples of unrelated individuals\n",
    "parameter: unrelated_samples = path\n",
    "# Number of tasks to run in each job on cluster\n",
    "parameter: job_size = int\n",
    "\n",
    "fail_if(not region_file.is_file(), msg = 'Cannot find regions to extract. Please specify them using ``--region-file`` option.')\n",
    "# Load all regions of interest. Each item in the list will be a region: (chr, start, end)\n",
    "regions = [x.strip().split() for x in open(region_file).readlines() if x.strip()]"
   ]
  },
  {
   "cell_type": "markdown",
   "metadata": {
    "kernel": "SoS"
   },
   "source": [
    "## Some utility functions\n",
    "\n",
    "- `plink_slice`: The function of extracting regional genotype\n",
    "   - p: list of bim, fam, bed\n",
    "   - pb: index of bim\n",
    "   - pf: index of fam"
   ]
  },
  {
   "cell_type": "code",
   "execution_count": 2,
   "metadata": {
    "kernel": "SoS"
   },
   "outputs": [],
   "source": [
    "[utils]\n",
    "output: f'{cwd:a}/utils.py'\n",
    "report: expand = '${ }', output=_output\n",
    "    import numpy as np\n",
    "    import pandas as pd\n",
    "\n",
    "    def read_sumstat(file, config_file):\n",
    "        sumstats = pd.read_csv(file, compression='gzip', header=0, sep='\\t', quotechar='\"')\n",
    "        if config_file is not None:\n",
    "            import yaml\n",
    "            config = yaml.safe_load(open(config_file, 'r'))\n",
    "            try:\n",
    "                sumstats = sumstats.loc[:,list(config.values())]\n",
    "            except:\n",
    "                raise ValueError(f'According to {config_file}, input summary statistics should have the following columns: {list(config.values())}.')\n",
    "            sumstats.columns = list(config.keys())\n",
    "        return sumstats\n",
    "\n",
    "    def region_index(bim,region, chrom_col=0, pos_col=3):\n",
    "        chr_bool = bim.iloc[:,chrom_col].astype(int) == region[0]\n",
    "        chr_ind = chr_bool[chr_bool].index\n",
    "        reg_bool = (bim.iloc[:,pos_col][chr_ind]>region[1]) & (bim.iloc[:,pos_col][chr_ind]<region[2])\n",
    "        return chr_ind[reg_bool]     \n",
    "\n",
    "    from scipy.stats import norm\n",
    "    def p2z(pval,beta,twoside=True):\n",
    "        if twoside:\n",
    "            pval = pval/2\n",
    "        z = [abs(norm.ppf(p)) if b>0 else -abs(norm.ppf(p)) for p,b in zip(pval,beta)]\n",
    "        return z\n",
    "\n",
    "    def regional_stat(ss,ind):\n",
    "        ss['Z'] = p2z(ss.P,ss.BETA)\n",
    "        return ss.iloc[ind,:]\n",
    "\n",
    "    def plink_slice(p,pb=None,pf=None):\n",
    "        (bim,fam,bed)=p\n",
    "        if pb is not None:\n",
    "            bim = bim.iloc[pb]\n",
    "            bed = bed[pb,:]\n",
    "        if pf is not None:\n",
    "            fam = fam.iloc[pf]\n",
    "            bed = bed[:,pf]\n",
    "        bed = bed.compute(num_workers=1)\n",
    "        return(bim,fam,bed)\n",
    "\n",
    "    def LD_matrix(bed):\n",
    "        snps = pd.DataFrame(bed.transpose())\n",
    "        ld = snps.corr()\n",
    "        return ld\n",
    "\n",
    "    def bgen_region(region,geno,dtype='float16'):\n",
    "        snps,genos=[],[]\n",
    "        i=0\n",
    "        for t,g in geno[0].iter_variants_in_region('0'+str(region[0]) if region[0]<10 else str(region[0]),region[1],region[2]):\n",
    "            snps.append([int(t.chrom),t.name,0.0,t.pos,t.a1,t.a2,i])\n",
    "            genos.append(g.astype(dtype))\n",
    "            i+=1\n",
    "        return(pd.DataFrame(snps,columns=['chrom','snp','cm','pos','a0','a1','i']),np.array(genos))\n",
    "\n",
    "    def extract_region(region,gwas,geno,pheno,unr,plink=True):\n",
    "\n",
    "        # Extract the summary stat\n",
    "        print('Extracting summary statistics ...')\n",
    "        ss_ind = region_index(gwas,region, chrom_col=0, pos_col=1)\n",
    "        rg_stat = regional_stat(gwas,ss_ind)\n",
    "        rg_stat.index = rg_stat.SNP\n",
    "        #\n",
    "        print(\"Extracting genotypes ...\")\n",
    "        if plink:\n",
    "            print(\"The genotype is plink format\")\n",
    "            rg_bim,rg_fam,rg_bed = plink_slice(geno,pb=list(region_index(geno[0],region,chrom_col=0,pos_col=3)))\n",
    "        else:\n",
    "            print(\"The genotype is bgen format\")\n",
    "            rg_bim,rg_bed=bgen_region(region,geno,dtype='float16')\n",
    "            rg_fam = geno[1]\n",
    "        rg_bim.index = rg_bim.snp\n",
    "        rg_fam.index = rg_fam.iid.astype(str)\n",
    "        rg_bed = pd.DataFrame(rg_bed,index=rg_bim.index,columns=rg_fam.index)\n",
    "        if not list(rg_stat.index)==list(rg_bim.index):\n",
    "            print('The regional genotype file and the regional result file do not match with each other. The overlapping variants will be selected.')\n",
    "            #overlapping variants\n",
    "            com_row_idx = rg_stat.index.intersection(rg_bim.index,sort=False)\n",
    "            if len(com_row_idx) == 0:\n",
    "                raise ValueError(\"Variants ID do not match between summary statistics and reference genotype\")\n",
    "            rg_stat = rg_stat.loc[com_row_idx,:]\n",
    "            rg_bed = rg_bed.loc[com_row_idx,:]\n",
    "        \n",
    "        # Calculate the LD matrix based on unrelated individuals\n",
    "        print(\"Calculating LD matrix ...\")\n",
    "        iid_unr = rg_fam.index.intersection(pd.Index(unr.IID.astype(str))) #order based on rg_fam\n",
    "        pop_ld_approx = LD_matrix(rg_bed.loc[:,iid_unr])\n",
    "        pheno.index = pheno.IID.astype(str)\n",
    "        iid_ph = pheno.index.intersection(rg_fam.index) #order based on pheno\n",
    "        sample_ld_approx = LD_matrix(rg_bed.loc[:,iid_unr.intersection(iid_ph)])\n",
    "        \n",
    "        # genotypes in the sample of a specific phenotype with ordering match\n",
    "        if not list(iid_ph)==list(pheno.IID.astype(str)):\n",
    "            print('Warning: Some samples with phenotype do not have genotypes')\n",
    "        rg_bed = rg_bed.loc[:,iid_ph]\n",
    "        print(\"Data extraction complete!\")\n",
    "        return dict(stats=rg_stat,geno=rg_bed,pld=pop_ld_approx,sld=sample_ld_approx)"
   ]
  },
  {
   "cell_type": "markdown",
   "metadata": {
    "kernel": "SoS"
   },
   "source": [
    "## Extract data\n",
    "\n",
    "This step runs in parallel for all loci listed in the region file (via `for_each`)."
   ]
  },
  {
   "cell_type": "code",
   "execution_count": 1,
   "metadata": {
    "kernel": "SoS"
   },
   "outputs": [],
   "source": [
    "[default (extract genotypes)]\n",
    "depends: Py_Module('pandas_plink'), Py_Module('pybgen')\n",
    "input: geno_path, pheno_path, sumstats_path, unrelated_samples, output_from('utils'), for_each = 'regions'\n",
    "output: sumstats = f'{cwd:a}/{_regions[0]}_{_regions[1]}_{_regions[2]}/{sumstats_path:bn}_{_regions[0]}_{_regions[1]}_{_regions[2]}.sumstats.gz',\n",
    "        genotype = f'{cwd:a}/{_regions[0]}_{_regions[1]}_{_regions[2]}/{sumstats_path:bn}_{_regions[0]}_{_regions[1]}_{_regions[2]}.genotype.gz',\n",
    "        pld = f'{cwd:a}/{_regions[0]}_{_regions[1]}_{_regions[2]}/{sumstats_path:bn}_{_regions[0]}_{_regions[1]}_{_regions[2]}.population_ld.gz',\n",
    "        sld = f'{cwd:a}/{_regions[0]}_{_regions[1]}_{_regions[2]}/{sumstats_path:bn}_{_regions[0]}_{_regions[1]}_{_regions[2]}.sample_ld.gz'\n",
    "task: trunk_workers = 1, trunk_size = job_size, walltime = '48h', mem = '60G', cores = 1, tags = f'{step_name}_{_output[0]:bn}'\n",
    "python: expand = '${ }', input = _input[4], stderr = f'{_output[0]:n}.stderr', stdout = f'{_output[0]:n}.stdout'\n",
    "    \n",
    "    # Load the file of summary statistics and standardize it.\n",
    "    sumstats = read_sumstat(${_input[2]:r}, ${format_config_path:r} if ${format_config_path.is_file()} else None)\n",
    "\n",
    "    # Load phenotype file\n",
    "    pheno = pd.read_csv(${_input[1]:r}, header=0, delim_whitespace=True, quotechar='\"')\n",
    "    # Load unrelated sample file\n",
    "    unr = pd.read_csv(${_input[3]:r}, header=0, delim_whitespace=True, quotechar='\"')\n",
    "    \n",
    "    # Load genotype file for the region of interest\n",
    "    geno_inventory = dict([x.strip().split() for x in open(${_input[0]:r}).readlines() if x.strip()])\n",
    "    chrom = \"${_regions[0]}\"\n",
    "    if chrom.startswith('chr'):\n",
    "        chrom = chrom[3:]\n",
    "    if chrom not in geno_inventory:\n",
    "        geno_file = geno_inventory['0']\n",
    "    else:\n",
    "        geno_file = geno_inventory[chrom]\n",
    "    import os\n",
    "    if not os.path.isfile(geno_file):\n",
    "        # relative path\n",
    "        if not os.path.isfile('${_input[0]:ad}/' + geno_file):\n",
    "            raise ValueError(f\"Cannot find genotype file {geno_file}\")\n",
    "        else:\n",
    "            geno_file = '${_input[0]:ad}/' + geno_file\n",
    "    if geno_file.endswith('.bed'):\n",
    "        plink = True\n",
    "        from pandas_plink import read_plink\n",
    "        geno = read_plink(geno_file)\n",
    "    elif geno_file.endswith('.bgen'):\n",
    "        plink = False\n",
    "        from pybgen import PyBGEN\n",
    "        bgen = PyBGEN(geno_file)\n",
    "        sample_file = geno_file.replace('.bgen', '.sample')\n",
    "        if not os.path.isfile(sample_file):\n",
    "            if not os.path.isfile(${bgen_sample_path:r}):\n",
    "                raise ValueError(f\"Cannot find the matching sample file ``{sample_file}`` for ``{geno_file}``.\\nYou can specify path to sample file for all BGEN files using ``--bgen-sample-path``.\")\n",
    "            else:\n",
    "                sample_file = ${bgen_sample_path:r}\n",
    "        bgen_fam = pd.read_csv(sample_file, header=0, delim_whitespace=True, quotechar='\"',skiprows=1)\n",
    "        bgen_fam.columns = ['fid','iid','missing','sex']\n",
    "        geno = [bgen,bgen_fam]\n",
    "    else:\n",
    "        raise ValueError('Plesae provide the genotype files with PLINK binary format or BGEN format')\n",
    "    \n",
    "    rg_info = extract_region((${_regions[0]}, ${_regions[1]}, ${_regions[2]}), sumstats, geno, pheno, unr, plink)\n",
    "    rg_info['stats'].to_csv(${_output['sumstats']:r}, sep = \"\\t\", header = True, index = True)\n",
    "    rg_info['geno'].to_csv(${_output['genotype']:r}, sep = \"\\t\", header = True, index = True)\n",
    "    rg_info['pld'].to_csv(${_output['pld']:r}, sep = \"\\t\", header = True, index = True)\n",
    "    rg_info['sld'].to_csv(${_output['sld']:r}, sep = \"\\t\", header = True, index = True)"
   ]
  }
 ],
 "metadata": {
  "kernelspec": {
   "display_name": "SoS",
   "language": "sos",
   "name": "sos"
  },
  "language_info": {
   "codemirror_mode": "sos",
   "file_extension": ".sos",
   "mimetype": "text/x-sos",
   "name": "sos",
   "nbconvert_exporter": "sos_notebook.converter.SoS_Exporter",
   "pygments_lexer": "sos"
  },
  "sos": {
   "kernels": [
    [
     "R",
     "ir",
     "R",
     "#DCDCDA",
     "r"
    ],
    [
     "SoS",
     "sos",
     "",
     "",
     "sos"
    ]
   ],
   "panel": {
    "displayed": true,
    "height": 0
   },
   "version": "0.21.9"
  }
 },
 "nbformat": 4,
 "nbformat_minor": 4
}
