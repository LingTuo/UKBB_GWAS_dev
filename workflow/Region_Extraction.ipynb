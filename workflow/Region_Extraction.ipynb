{
 "cells": [
  {
   "cell_type": "markdown",
   "metadata": {
    "kernel": "SoS"
   },
   "source": [
    "# Region Extraction"
   ]
  },
  {
   "cell_type": "markdown",
   "metadata": {
    "kernel": "SoS"
   },
   "source": [
    "## Aim"
   ]
  },
  {
   "cell_type": "markdown",
   "metadata": {
    "kernel": "SoS"
   },
   "source": [
    "To extract the summary statistics and genotype on specific genomic regions and calculate their LD matrix."
   ]
  },
  {
   "cell_type": "markdown",
   "metadata": {
    "kernel": "SoS"
   },
   "source": [
    "## Input and Output"
   ]
  },
  {
   "cell_type": "markdown",
   "metadata": {
    "kernel": "SoS"
   },
   "source": [
    "Region extract input:\n",
    "\n",
    "- list of regions e.g. rs849335, Chr 7 at bp 28223990. > [7, 27723990,28723990]\n",
    "- all genotype\n",
    "- all summary stast (beta and se(beta))\n",
    "- list of unrelated individuals\n",
    "\n",
    "output:\n",
    "\n",
    "- regional genotype\n",
    "- regional LD accounting for reltaed individuals\n",
    "- reginonal summary stats"
   ]
  },
  {
   "cell_type": "markdown",
   "metadata": {
    "kernel": "SoS"
   },
   "source": [
    "- Genotype files:\n",
    "/SAY/dbgapstg/scratch/UKBiobank/genotype_files/pleiotropy_geneticfiles/UKB_Caucasians_phenotypeindepqc120319_updated020720removedwithdrawnindiv\n",
    "- Bgen files:\n",
    "SAY/dbgapstg/scratch/UKBiobank/genotype_files/ukb39554_imputeddataset/\n",
    "- Summary stats for imputed variants:\n",
    "/SAY/dbgapstg/scratch/UKBiobank/results/BOLTLMM_results/results_imputed_data\n",
    "- Phenotype files:\n",
    "/SAY/dbgapstg/scratch/UKBiobank/phenotype_files/pleiotropy_R01/phenotypesforanalysis\n",
    "- relationship file:\n",
    "/SAY/dbgapstg/scratch/UKBiobank/genotype_files/pleiotropy_geneticfiles/unrelated_n307259/UKB_unrelatedcauc_phenotypes_asthmat2dbmiwaisthip_agesex_waisthipratio_040620"
   ]
  },
  {
   "cell_type": "markdown",
   "metadata": {
    "kernel": "SoS"
   },
   "source": [
    "sos run Region_Extraction.ipynb -j 1"
   ]
  },
  {
   "cell_type": "markdown",
   "metadata": {
    "kernel": "SoS"
   },
   "source": [
    "## Main function"
   ]
  },
  {
   "cell_type": "code",
   "execution_count": null,
   "metadata": {
    "kernel": "SoS"
   },
   "outputs": [],
   "source": [
    "[global]\n",
    "parameter: regions = [7]\n",
    "# Genotype file in plink binary format\n",
    "parameter: ukb_geno_path = path('/SAY/dbgapstg/scratch/UKBiobank/genotype_files/pleiotropy_geneticfiles/UKB_Caucasians_phenotypeindepqc120319_updated020720removedwithdrawnindiv')\n",
    "# Path to summary stats file\n",
    "parameter: sumstat_path= path('/SAY/dbgapstg/scratch/UKBiobank/results/BOLTLMM_results/results_imputed_data/INT-BMI/ukb_imp_v3.UKB_caucasians_BMIwaisthip_AsthmaAndT2D_INT-BMI_withagesex_041720.BoltLMM.stats.all_chr.gz')\n",
    "# Path to samples of unrelated individuals\n",
    "parameter: unrelated_samples = path('/SAY/dbgapstg/scratch/UKBiobank/genotype_files/pleiotropy_geneticfiles/unrelated_n307259/UKB_unrelatedcauc_phenotypes_asthmat2dbmiwaisthip_agesex_waisthipratio_040620')\n"
   ]
  },
  {
   "cell_type": "markdown",
   "metadata": {
    "kernel": "SoS"
   },
   "source": [
    "## All in One"
   ]
  },
  {
   "cell_type": "code",
   "execution_count": 104,
   "metadata": {
    "kernel": "SoS"
   },
   "outputs": [],
   "source": [
    "#[global]\n",
    "sumstat_path = '/SAY/dbgapstg/scratch/UKBiobank/results/BOLTLMM_results/results_imputed_data/INT-BMI/ukb_imp_v3.UKB_caucasians_BMIwaisthip_AsthmaAndT2D_INT-BMI_withagesex_041720.BoltLMM.stats.all_chr.gz'\n",
    "#sumstat_path = '/SAY/dbgapstg/scratch/UKBiobank/results/BOLTLMM_results/results_imputed_data/asthma/UKB_Caucasians_phenotypeindepqc120319_updated020720removedwithdrawnindiv.Asthma_casesbyICD10codesANDselfreport_controlsbyselfreportandicd10_noautoimmuneincontrols.fastGWA.stats.all_chr'\n",
    "ukb_geno_path='/SAY/dbgapstg/scratch/UKBiobank/genotype_files/pleiotropy_geneticfiles/UKB_Caucasians_phenotypeindepqc120319_updated020720removedwithdrawnindiv'\n",
    "\n",
    "unrelated_samples='/SAY/dbgapstg/scratch/UKBiobank/genotype_files/pleiotropy_geneticfiles/unrelated_n307259/UKB_unrelatedcauc_phenotypes_asthmat2dbmiwaisthip_agesex_waisthipratio_040620'\n"
   ]
  },
  {
   "cell_type": "code",
   "execution_count": 97,
   "metadata": {
    "kernel": "SoS"
   },
   "outputs": [],
   "source": [
    "#[global]\n",
    "def extract_regions(regions,sumstat_path,geno_path,unr_path):\n",
    "    try:\n",
    "        gwas = pd.read_csv(sumstat_path, compression='gzip', header=0, sep='\\t', quotechar='\"')\n",
    "    except:\n",
    "        print(\"It is not BOLT result\")\n",
    "        gwas = pd.read_csv(sumstat_path, header=0, sep='\\t', quotechar='\"')\n",
    "    geno = read_plink(geno_path)\n",
    "    unr = pd.read_csv(unr_path, header=0, sep=' ', quotechar='\"')\n",
    "\n",
    "    fid = geno[1].fid.astype(int)\n",
    "    fid_bool = fid.isin(unr.FID)\n",
    "    fid_ind = fid_bool[fid_bool].index\n",
    "    rg_infos=[]\n",
    "    for region in regions:\n",
    "        rg_info=extract_region(region,gwas,geno,fid_ind)\n",
    "        rg_infos.append(rg_info)\n",
    "    return(rg_infos)"
   ]
  },
  {
   "cell_type": "code",
   "execution_count": 105,
   "metadata": {
    "kernel": "SoS"
   },
   "outputs": [
    {
     "name": "stderr",
     "output_type": "stream",
     "text": [
      "Mapping files: 100%|##########| 3/3 [00:42<00:00, 14.28s/it]\n"
     ]
    }
   ],
   "source": [
    "rg_infos= extract_regions([[16,53800754,53845487],[7,28223990-500000,28223990+500000]],\n",
    "                            sumstat_path,ukb_geno_path,unrelated_samples)"
   ]
  },
  {
   "cell_type": "markdown",
   "metadata": {
    "kernel": "SoS"
   },
   "source": [
    "## Import and Path"
   ]
  },
  {
   "cell_type": "code",
   "execution_count": 78,
   "metadata": {
    "kernel": "SoS"
   },
   "outputs": [
    {
     "name": "stdout",
     "output_type": "stream",
     "text": [
      "/SAY/dbgapstg/scratch/UKBiobank/results/BOLTLMM_results/results_imputed_data\n"
     ]
    }
   ],
   "source": [
    "#[global]\n",
    "from pathlib import Path\n",
    "import numpy as np\n",
    "import pandas as pd\n",
    "from pandas_plink import read_plink\n",
    "\n",
    "ukb_path = Path('/SAY/dbgapstg/scratch/UKBiobank/')\n",
    "ukb_geno_path = ukb_path/'genotype_files/pleiotropy_geneticfiles'\n",
    "ukb_phen_path = ukb_path/'phenotype_files/pleiotropy_R01/phenotypesforanalysis'\n",
    "ukb_gwas_path = ukb_path/'results/BOLTLMM_results/results_imputed_data'\n",
    "print(ukb_gwas_path)"
   ]
  },
  {
   "cell_type": "markdown",
   "metadata": {
    "kernel": "SoS"
   },
   "source": [
    "## Summary Stat"
   ]
  },
  {
   "cell_type": "markdown",
   "metadata": {
    "kernel": "SoS"
   },
   "source": [
    "### Read GWAS stat"
   ]
  },
  {
   "cell_type": "code",
   "execution_count": 21,
   "metadata": {
    "kernel": "SoS"
   },
   "outputs": [],
   "source": [
    "bmi_bolt_path = ukb_gwas_path/'INT-BMI/ukb_imp_v3.UKB_caucasians_BMIwaisthip_AsthmaAndT2D_INT-BMI_withagesex_041720.BoltLMM.stats.all_chr.gz'\n",
    "bmi_bolt = pd.read_csv(bmi_bolt_path, compression='gzip', header=0, sep='\\t', quotechar='\"')"
   ]
  },
  {
   "cell_type": "code",
   "execution_count": 37,
   "metadata": {
    "kernel": "SoS"
   },
   "outputs": [
    {
     "data": {
      "text/html": [
       "<div>\n",
       "<style scoped>\n",
       "    .dataframe tbody tr th:only-of-type {\n",
       "        vertical-align: middle;\n",
       "    }\n",
       "\n",
       "    .dataframe tbody tr th {\n",
       "        vertical-align: top;\n",
       "    }\n",
       "\n",
       "    .dataframe thead th {\n",
       "        text-align: right;\n",
       "    }\n",
       "</style>\n",
       "<table border=\"1\" class=\"dataframe\">\n",
       "  <thead>\n",
       "    <tr style=\"text-align: right;\">\n",
       "      <th></th>\n",
       "      <th>SNP</th>\n",
       "      <th>CHR</th>\n",
       "      <th>BP</th>\n",
       "      <th>GENPOS</th>\n",
       "      <th>ALLELE1</th>\n",
       "      <th>ALLELE0</th>\n",
       "      <th>A1FREQ</th>\n",
       "      <th>F_MISS</th>\n",
       "      <th>CHISQ_LINREG</th>\n",
       "      <th>P_LINREG</th>\n",
       "      <th>BETA</th>\n",
       "      <th>SE</th>\n",
       "      <th>CHISQ_BOLT_LMM_INF</th>\n",
       "      <th>P_BOLT_LMM_INF</th>\n",
       "      <th>CHISQ_BOLT_LMM</th>\n",
       "      <th>P_BOLT_LMM</th>\n",
       "    </tr>\n",
       "  </thead>\n",
       "  <tbody>\n",
       "    <tr>\n",
       "      <th>3</th>\n",
       "      <td>rs79373928</td>\n",
       "      <td>1</td>\n",
       "      <td>801536</td>\n",
       "      <td>0.005872</td>\n",
       "      <td>G</td>\n",
       "      <td>T</td>\n",
       "      <td>0.014871</td>\n",
       "      <td>0.000596</td>\n",
       "      <td>0.009184</td>\n",
       "      <td>0.9200</td>\n",
       "      <td>-0.005915</td>\n",
       "      <td>0.008938</td>\n",
       "      <td>0.43801</td>\n",
       "      <td>0.510</td>\n",
       "      <td>0.358727</td>\n",
       "      <td>0.550</td>\n",
       "    </tr>\n",
       "    <tr>\n",
       "      <th>4</th>\n",
       "      <td>rs11240779</td>\n",
       "      <td>1</td>\n",
       "      <td>808631</td>\n",
       "      <td>0.006208</td>\n",
       "      <td>G</td>\n",
       "      <td>A</td>\n",
       "      <td>0.224724</td>\n",
       "      <td>0.006986</td>\n",
       "      <td>1.305990</td>\n",
       "      <td>0.2500</td>\n",
       "      <td>0.003471</td>\n",
       "      <td>0.002604</td>\n",
       "      <td>1.77719</td>\n",
       "      <td>0.180</td>\n",
       "      <td>1.598230</td>\n",
       "      <td>0.210</td>\n",
       "    </tr>\n",
       "    <tr>\n",
       "      <th>5</th>\n",
       "      <td>rs57181708</td>\n",
       "      <td>1</td>\n",
       "      <td>809876</td>\n",
       "      <td>0.006208</td>\n",
       "      <td>G</td>\n",
       "      <td>A</td>\n",
       "      <td>0.100445</td>\n",
       "      <td>0.000874</td>\n",
       "      <td>6.646970</td>\n",
       "      <td>0.0099</td>\n",
       "      <td>0.008757</td>\n",
       "      <td>0.003594</td>\n",
       "      <td>5.93807</td>\n",
       "      <td>0.015</td>\n",
       "      <td>5.179680</td>\n",
       "      <td>0.023</td>\n",
       "    </tr>\n",
       "    <tr>\n",
       "      <th>6</th>\n",
       "      <td>rs4970383</td>\n",
       "      <td>1</td>\n",
       "      <td>838555</td>\n",
       "      <td>0.006208</td>\n",
       "      <td>A</td>\n",
       "      <td>C</td>\n",
       "      <td>0.245613</td>\n",
       "      <td>0.001787</td>\n",
       "      <td>0.433580</td>\n",
       "      <td>0.5100</td>\n",
       "      <td>0.000175</td>\n",
       "      <td>0.002512</td>\n",
       "      <td>0.00487</td>\n",
       "      <td>0.940</td>\n",
       "      <td>0.003883</td>\n",
       "      <td>0.950</td>\n",
       "    </tr>\n",
       "  </tbody>\n",
       "</table>\n",
       "</div>"
      ],
      "text/plain": [
       "          SNP  CHR      BP  ...  P_BOLT_LMM_INF CHISQ_BOLT_LMM P_BOLT_LMM\n",
       "3  rs79373928    1  801536  ...           0.510       0.358727      0.550\n",
       "4  rs11240779    1  808631  ...           0.180       1.598230      0.210\n",
       "5  rs57181708    1  809876  ...           0.015       5.179680      0.023\n",
       "6   rs4970383    1  838555  ...           0.940       0.003883      0.950\n",
       "\n",
       "[4 rows x 16 columns]"
      ]
     },
     "execution_count": 37,
     "metadata": {},
     "output_type": "execute_result"
    }
   ],
   "source": [
    "bmi_bolt.iloc[3:7,]"
   ]
  },
  {
   "cell_type": "code",
   "execution_count": 22,
   "metadata": {
    "kernel": "SoS",
    "scrolled": false
   },
   "outputs": [
    {
     "data": {
      "text/html": [
       "<div>\n",
       "<style scoped>\n",
       "    .dataframe tbody tr th:only-of-type {\n",
       "        vertical-align: middle;\n",
       "    }\n",
       "\n",
       "    .dataframe tbody tr th {\n",
       "        vertical-align: top;\n",
       "    }\n",
       "\n",
       "    .dataframe thead th {\n",
       "        text-align: right;\n",
       "    }\n",
       "</style>\n",
       "<table border=\"1\" class=\"dataframe\">\n",
       "  <thead>\n",
       "    <tr style=\"text-align: right;\">\n",
       "      <th></th>\n",
       "      <th>SNP</th>\n",
       "      <th>CHR</th>\n",
       "      <th>BP</th>\n",
       "      <th>GENPOS</th>\n",
       "      <th>ALLELE1</th>\n",
       "      <th>ALLELE0</th>\n",
       "      <th>A1FREQ</th>\n",
       "      <th>F_MISS</th>\n",
       "      <th>CHISQ_LINREG</th>\n",
       "      <th>P_LINREG</th>\n",
       "      <th>BETA</th>\n",
       "      <th>SE</th>\n",
       "      <th>CHISQ_BOLT_LMM_INF</th>\n",
       "      <th>P_BOLT_LMM_INF</th>\n",
       "      <th>CHISQ_BOLT_LMM</th>\n",
       "      <th>P_BOLT_LMM</th>\n",
       "    </tr>\n",
       "  </thead>\n",
       "  <tbody>\n",
       "    <tr>\n",
       "      <th>0</th>\n",
       "      <td>rs3131962</td>\n",
       "      <td>1</td>\n",
       "      <td>756604</td>\n",
       "      <td>0.004907</td>\n",
       "      <td>A</td>\n",
       "      <td>G</td>\n",
       "      <td>0.129619</td>\n",
       "      <td>0.001543</td>\n",
       "      <td>0.143797</td>\n",
       "      <td>0.700</td>\n",
       "      <td>-0.000596</td>\n",
       "      <td>0.003224</td>\n",
       "      <td>0.034136</td>\n",
       "      <td>0.850</td>\n",
       "      <td>0.008625</td>\n",
       "      <td>0.930</td>\n",
       "    </tr>\n",
       "    <tr>\n",
       "      <th>1</th>\n",
       "      <td>rs12562034</td>\n",
       "      <td>1</td>\n",
       "      <td>768448</td>\n",
       "      <td>0.004957</td>\n",
       "      <td>A</td>\n",
       "      <td>G</td>\n",
       "      <td>0.105098</td>\n",
       "      <td>0.001601</td>\n",
       "      <td>3.206650</td>\n",
       "      <td>0.073</td>\n",
       "      <td>0.006521</td>\n",
       "      <td>0.003525</td>\n",
       "      <td>3.423000</td>\n",
       "      <td>0.064</td>\n",
       "      <td>2.742840</td>\n",
       "      <td>0.098</td>\n",
       "    </tr>\n",
       "    <tr>\n",
       "      <th>2</th>\n",
       "      <td>rs4040617</td>\n",
       "      <td>1</td>\n",
       "      <td>779322</td>\n",
       "      <td>0.005007</td>\n",
       "      <td>G</td>\n",
       "      <td>A</td>\n",
       "      <td>0.127412</td>\n",
       "      <td>0.002416</td>\n",
       "      <td>0.681178</td>\n",
       "      <td>0.410</td>\n",
       "      <td>-0.001951</td>\n",
       "      <td>0.003249</td>\n",
       "      <td>0.360661</td>\n",
       "      <td>0.550</td>\n",
       "      <td>0.294739</td>\n",
       "      <td>0.590</td>\n",
       "    </tr>\n",
       "    <tr>\n",
       "      <th>3</th>\n",
       "      <td>rs79373928</td>\n",
       "      <td>1</td>\n",
       "      <td>801536</td>\n",
       "      <td>0.005872</td>\n",
       "      <td>G</td>\n",
       "      <td>T</td>\n",
       "      <td>0.014871</td>\n",
       "      <td>0.000596</td>\n",
       "      <td>0.009184</td>\n",
       "      <td>0.920</td>\n",
       "      <td>-0.005915</td>\n",
       "      <td>0.008938</td>\n",
       "      <td>0.438010</td>\n",
       "      <td>0.510</td>\n",
       "      <td>0.358727</td>\n",
       "      <td>0.550</td>\n",
       "    </tr>\n",
       "    <tr>\n",
       "      <th>4</th>\n",
       "      <td>rs11240779</td>\n",
       "      <td>1</td>\n",
       "      <td>808631</td>\n",
       "      <td>0.006208</td>\n",
       "      <td>G</td>\n",
       "      <td>A</td>\n",
       "      <td>0.224724</td>\n",
       "      <td>0.006986</td>\n",
       "      <td>1.305990</td>\n",
       "      <td>0.250</td>\n",
       "      <td>0.003471</td>\n",
       "      <td>0.002604</td>\n",
       "      <td>1.777190</td>\n",
       "      <td>0.180</td>\n",
       "      <td>1.598230</td>\n",
       "      <td>0.210</td>\n",
       "    </tr>\n",
       "    <tr>\n",
       "      <th>...</th>\n",
       "      <td>...</td>\n",
       "      <td>...</td>\n",
       "      <td>...</td>\n",
       "      <td>...</td>\n",
       "      <td>...</td>\n",
       "      <td>...</td>\n",
       "      <td>...</td>\n",
       "      <td>...</td>\n",
       "      <td>...</td>\n",
       "      <td>...</td>\n",
       "      <td>...</td>\n",
       "      <td>...</td>\n",
       "      <td>...</td>\n",
       "      <td>...</td>\n",
       "      <td>...</td>\n",
       "      <td>...</td>\n",
       "    </tr>\n",
       "    <tr>\n",
       "      <th>529019</th>\n",
       "      <td>rs4824147</td>\n",
       "      <td>22</td>\n",
       "      <td>51173542</td>\n",
       "      <td>0.750810</td>\n",
       "      <td>T</td>\n",
       "      <td>C</td>\n",
       "      <td>0.061359</td>\n",
       "      <td>0.000558</td>\n",
       "      <td>0.011819</td>\n",
       "      <td>0.910</td>\n",
       "      <td>-0.001627</td>\n",
       "      <td>0.004553</td>\n",
       "      <td>0.127749</td>\n",
       "      <td>0.720</td>\n",
       "      <td>0.211562</td>\n",
       "      <td>0.650</td>\n",
       "    </tr>\n",
       "    <tr>\n",
       "      <th>529020</th>\n",
       "      <td>rs73174435</td>\n",
       "      <td>22</td>\n",
       "      <td>51174939</td>\n",
       "      <td>0.750825</td>\n",
       "      <td>T</td>\n",
       "      <td>C</td>\n",
       "      <td>0.053825</td>\n",
       "      <td>0.001157</td>\n",
       "      <td>3.009070</td>\n",
       "      <td>0.083</td>\n",
       "      <td>0.009323</td>\n",
       "      <td>0.004843</td>\n",
       "      <td>3.705620</td>\n",
       "      <td>0.054</td>\n",
       "      <td>3.406890</td>\n",
       "      <td>0.065</td>\n",
       "    </tr>\n",
       "    <tr>\n",
       "      <th>529021</th>\n",
       "      <td>rs3810648</td>\n",
       "      <td>22</td>\n",
       "      <td>51175626</td>\n",
       "      <td>0.750832</td>\n",
       "      <td>G</td>\n",
       "      <td>A</td>\n",
       "      <td>0.061006</td>\n",
       "      <td>0.002949</td>\n",
       "      <td>0.137834</td>\n",
       "      <td>0.710</td>\n",
       "      <td>-0.000627</td>\n",
       "      <td>0.004571</td>\n",
       "      <td>0.018814</td>\n",
       "      <td>0.890</td>\n",
       "      <td>0.000217</td>\n",
       "      <td>0.990</td>\n",
       "    </tr>\n",
       "    <tr>\n",
       "      <th>529022</th>\n",
       "      <td>rs3865764</td>\n",
       "      <td>22</td>\n",
       "      <td>51185848</td>\n",
       "      <td>0.750911</td>\n",
       "      <td>G</td>\n",
       "      <td>A</td>\n",
       "      <td>0.050675</td>\n",
       "      <td>0.001809</td>\n",
       "      <td>1.385920</td>\n",
       "      <td>0.240</td>\n",
       "      <td>0.011019</td>\n",
       "      <td>0.004979</td>\n",
       "      <td>4.896610</td>\n",
       "      <td>0.027</td>\n",
       "      <td>4.455700</td>\n",
       "      <td>0.035</td>\n",
       "    </tr>\n",
       "    <tr>\n",
       "      <th>529023</th>\n",
       "      <td>rs142680588</td>\n",
       "      <td>22</td>\n",
       "      <td>51193629</td>\n",
       "      <td>0.750970</td>\n",
       "      <td>G</td>\n",
       "      <td>A</td>\n",
       "      <td>0.075823</td>\n",
       "      <td>0.001268</td>\n",
       "      <td>5.535070</td>\n",
       "      <td>0.019</td>\n",
       "      <td>0.008501</td>\n",
       "      <td>0.004133</td>\n",
       "      <td>4.229520</td>\n",
       "      <td>0.040</td>\n",
       "      <td>4.460670</td>\n",
       "      <td>0.035</td>\n",
       "    </tr>\n",
       "  </tbody>\n",
       "</table>\n",
       "<p>529024 rows × 16 columns</p>\n",
       "</div>"
      ],
      "text/plain": [
       "                SNP  CHR        BP  ...  P_BOLT_LMM_INF CHISQ_BOLT_LMM P_BOLT_LMM\n",
       "0         rs3131962    1    756604  ...           0.850       0.008625      0.930\n",
       "1        rs12562034    1    768448  ...           0.064       2.742840      0.098\n",
       "2         rs4040617    1    779322  ...           0.550       0.294739      0.590\n",
       "3        rs79373928    1    801536  ...           0.510       0.358727      0.550\n",
       "4        rs11240779    1    808631  ...           0.180       1.598230      0.210\n",
       "...             ...  ...       ...  ...             ...            ...        ...\n",
       "529019    rs4824147   22  51173542  ...           0.720       0.211562      0.650\n",
       "529020   rs73174435   22  51174939  ...           0.054       3.406890      0.065\n",
       "529021    rs3810648   22  51175626  ...           0.890       0.000217      0.990\n",
       "529022    rs3865764   22  51185848  ...           0.027       4.455700      0.035\n",
       "529023  rs142680588   22  51193629  ...           0.040       4.460670      0.035\n",
       "\n",
       "[529024 rows x 16 columns]"
      ]
     },
     "execution_count": 22,
     "metadata": {},
     "output_type": "execute_result"
    }
   ],
   "source": [
    "bmi_bolt"
   ]
  },
  {
   "cell_type": "code",
   "execution_count": 6,
   "metadata": {
    "kernel": "SoS"
   },
   "outputs": [],
   "source": [
    "asthma_fastgwa_path = ukb_gwas_path/'asthma/UKB_Caucasians_phenotypeindepqc120319_updated020720removedwithdrawnindiv.Asthma_casesbyICD10codesANDselfreport_controlsbyselfreportandicd10_noautoimmuneincontrols.fastGWA.stats.all_chr'"
   ]
  },
  {
   "cell_type": "code",
   "execution_count": 7,
   "metadata": {
    "kernel": "SoS"
   },
   "outputs": [],
   "source": [
    "asthma_fastgwa = pd.read_csv(asthma_fastgwa_path, header=0, sep='\\t', quotechar='\"')"
   ]
  },
  {
   "cell_type": "code",
   "execution_count": 8,
   "metadata": {
    "kernel": "SoS",
    "scrolled": true
   },
   "outputs": [
    {
     "data": {
      "text/html": [
       "<div>\n",
       "<style scoped>\n",
       "    .dataframe tbody tr th:only-of-type {\n",
       "        vertical-align: middle;\n",
       "    }\n",
       "\n",
       "    .dataframe tbody tr th {\n",
       "        vertical-align: top;\n",
       "    }\n",
       "\n",
       "    .dataframe thead th {\n",
       "        text-align: right;\n",
       "    }\n",
       "</style>\n",
       "<table border=\"1\" class=\"dataframe\">\n",
       "  <thead>\n",
       "    <tr style=\"text-align: right;\">\n",
       "      <th></th>\n",
       "      <th>CHR</th>\n",
       "      <th>SNP</th>\n",
       "      <th>POS</th>\n",
       "      <th>A1</th>\n",
       "      <th>A2</th>\n",
       "      <th>N</th>\n",
       "      <th>AF1</th>\n",
       "      <th>BETA</th>\n",
       "      <th>SE</th>\n",
       "      <th>P</th>\n",
       "    </tr>\n",
       "  </thead>\n",
       "  <tbody>\n",
       "    <tr>\n",
       "      <th>0</th>\n",
       "      <td>1</td>\n",
       "      <td>rs3131962</td>\n",
       "      <td>756604</td>\n",
       "      <td>A</td>\n",
       "      <td>G</td>\n",
       "      <td>338837</td>\n",
       "      <td>0.129612</td>\n",
       "      <td>-0.001497</td>\n",
       "      <td>0.001272</td>\n",
       "      <td>0.239246</td>\n",
       "    </tr>\n",
       "    <tr>\n",
       "      <th>1</th>\n",
       "      <td>1</td>\n",
       "      <td>rs12562034</td>\n",
       "      <td>768448</td>\n",
       "      <td>A</td>\n",
       "      <td>G</td>\n",
       "      <td>338815</td>\n",
       "      <td>0.105013</td>\n",
       "      <td>-0.000502</td>\n",
       "      <td>0.001391</td>\n",
       "      <td>0.718023</td>\n",
       "    </tr>\n",
       "    <tr>\n",
       "      <th>2</th>\n",
       "      <td>1</td>\n",
       "      <td>rs4040617</td>\n",
       "      <td>779322</td>\n",
       "      <td>G</td>\n",
       "      <td>A</td>\n",
       "      <td>338535</td>\n",
       "      <td>0.127406</td>\n",
       "      <td>-0.001131</td>\n",
       "      <td>0.001281</td>\n",
       "      <td>0.377623</td>\n",
       "    </tr>\n",
       "    <tr>\n",
       "      <th>3</th>\n",
       "      <td>1</td>\n",
       "      <td>rs79373928</td>\n",
       "      <td>801536</td>\n",
       "      <td>G</td>\n",
       "      <td>T</td>\n",
       "      <td>339152</td>\n",
       "      <td>0.014847</td>\n",
       "      <td>-0.002883</td>\n",
       "      <td>0.003529</td>\n",
       "      <td>0.413952</td>\n",
       "    </tr>\n",
       "    <tr>\n",
       "      <th>4</th>\n",
       "      <td>1</td>\n",
       "      <td>rs11240779</td>\n",
       "      <td>808631</td>\n",
       "      <td>G</td>\n",
       "      <td>A</td>\n",
       "      <td>336983</td>\n",
       "      <td>0.224707</td>\n",
       "      <td>-0.001378</td>\n",
       "      <td>0.001027</td>\n",
       "      <td>0.179785</td>\n",
       "    </tr>\n",
       "    <tr>\n",
       "      <th>...</th>\n",
       "      <td>...</td>\n",
       "      <td>...</td>\n",
       "      <td>...</td>\n",
       "      <td>...</td>\n",
       "      <td>...</td>\n",
       "      <td>...</td>\n",
       "      <td>...</td>\n",
       "      <td>...</td>\n",
       "      <td>...</td>\n",
       "      <td>...</td>\n",
       "    </tr>\n",
       "    <tr>\n",
       "      <th>529019</th>\n",
       "      <td>22</td>\n",
       "      <td>rs4824147</td>\n",
       "      <td>51173542</td>\n",
       "      <td>T</td>\n",
       "      <td>C</td>\n",
       "      <td>339168</td>\n",
       "      <td>0.061450</td>\n",
       "      <td>-0.000804</td>\n",
       "      <td>0.001775</td>\n",
       "      <td>0.650797</td>\n",
       "    </tr>\n",
       "    <tr>\n",
       "      <th>529020</th>\n",
       "      <td>22</td>\n",
       "      <td>rs73174435</td>\n",
       "      <td>51174939</td>\n",
       "      <td>T</td>\n",
       "      <td>C</td>\n",
       "      <td>338963</td>\n",
       "      <td>0.053767</td>\n",
       "      <td>-0.000395</td>\n",
       "      <td>0.001891</td>\n",
       "      <td>0.834663</td>\n",
       "    </tr>\n",
       "    <tr>\n",
       "      <th>529021</th>\n",
       "      <td>22</td>\n",
       "      <td>rs3810648</td>\n",
       "      <td>51175626</td>\n",
       "      <td>G</td>\n",
       "      <td>A</td>\n",
       "      <td>338362</td>\n",
       "      <td>0.060905</td>\n",
       "      <td>0.000996</td>\n",
       "      <td>0.001785</td>\n",
       "      <td>0.576889</td>\n",
       "    </tr>\n",
       "    <tr>\n",
       "      <th>529022</th>\n",
       "      <td>22</td>\n",
       "      <td>rs3865764</td>\n",
       "      <td>51185848</td>\n",
       "      <td>G</td>\n",
       "      <td>A</td>\n",
       "      <td>338737</td>\n",
       "      <td>0.050654</td>\n",
       "      <td>-0.001565</td>\n",
       "      <td>0.001944</td>\n",
       "      <td>0.420748</td>\n",
       "    </tr>\n",
       "    <tr>\n",
       "      <th>529023</th>\n",
       "      <td>22</td>\n",
       "      <td>rs142680588</td>\n",
       "      <td>51193629</td>\n",
       "      <td>G</td>\n",
       "      <td>A</td>\n",
       "      <td>338919</td>\n",
       "      <td>0.075940</td>\n",
       "      <td>0.000452</td>\n",
       "      <td>0.001613</td>\n",
       "      <td>0.779308</td>\n",
       "    </tr>\n",
       "  </tbody>\n",
       "</table>\n",
       "<p>529024 rows × 10 columns</p>\n",
       "</div>"
      ],
      "text/plain": [
       "        CHR          SNP       POS A1  ...       AF1      BETA        SE         P\n",
       "0         1    rs3131962    756604  A  ...  0.129612 -0.001497  0.001272  0.239246\n",
       "1         1   rs12562034    768448  A  ...  0.105013 -0.000502  0.001391  0.718023\n",
       "2         1    rs4040617    779322  G  ...  0.127406 -0.001131  0.001281  0.377623\n",
       "3         1   rs79373928    801536  G  ...  0.014847 -0.002883  0.003529  0.413952\n",
       "4         1   rs11240779    808631  G  ...  0.224707 -0.001378  0.001027  0.179785\n",
       "...     ...          ...       ... ..  ...       ...       ...       ...       ...\n",
       "529019   22    rs4824147  51173542  T  ...  0.061450 -0.000804  0.001775  0.650797\n",
       "529020   22   rs73174435  51174939  T  ...  0.053767 -0.000395  0.001891  0.834663\n",
       "529021   22    rs3810648  51175626  G  ...  0.060905  0.000996  0.001785  0.576889\n",
       "529022   22    rs3865764  51185848  G  ...  0.050654 -0.001565  0.001944  0.420748\n",
       "529023   22  rs142680588  51193629  G  ...  0.075940  0.000452  0.001613  0.779308\n",
       "\n",
       "[529024 rows x 10 columns]"
      ]
     },
     "execution_count": 8,
     "metadata": {},
     "output_type": "execute_result"
    }
   ],
   "source": [
    "asthma_fastgwa"
   ]
  },
  {
   "cell_type": "markdown",
   "metadata": {
    "kernel": "SoS"
   },
   "source": [
    "### Read genotype data"
   ]
  },
  {
   "cell_type": "code",
   "execution_count": 81,
   "metadata": {
    "kernel": "SoS",
    "scrolled": true
   },
   "outputs": [
    {
     "name": "stderr",
     "output_type": "stream",
     "text": [
      "Mapping files: 100%|##########| 3/3 [00:43<00:00, 14.66s/it]\n"
     ]
    }
   ],
   "source": [
    "#[global]\n",
    "ukb_geno_path1='/SAY/dbgapstg/scratch/UKBiobank/genotype_files/pleiotropy_geneticfiles/UKB_Caucasians_phenotypeindepqc120319_updated020720removedwithdrawnindiv'\n",
    "ukb_geno = read_plink(str(ukb_geno_path1))\n",
    "ukb_unrelatedcauc_path='/SAY/dbgapstg/scratch/UKBiobank/genotype_files/pleiotropy_geneticfiles/unrelated_n307259/UKB_unrelatedcauc_phenotypes_asthmat2dbmiwaisthip_agesex_waisthipratio_040620'\n",
    "ukb_unrelatedcauc = pd.read_csv(ukb_unrelatedcauc_path, header=0, sep=' ', quotechar='\"')\n",
    "\n",
    "#the index of unrelated individuals\n",
    "fid = ukb_geno[1].fid.astype(int)\n",
    "fid_bool = fid.isin(ukb_unrelatedcauc.FID)\n",
    "fid_ind = fid_bool[fid_bool].index"
   ]
  },
  {
   "cell_type": "markdown",
   "metadata": {
    "kernel": "SoS"
   },
   "source": [
    "## Extract regions"
   ]
  },
  {
   "cell_type": "markdown",
   "metadata": {
    "kernel": "SoS"
   },
   "source": [
    "The function of getting the index of a region"
   ]
  },
  {
   "cell_type": "code",
   "execution_count": 82,
   "metadata": {
    "kernel": "SoS"
   },
   "outputs": [],
   "source": [
    "#[global]\n",
    "def region_index(ss,chrom,start,end):\n",
    "    chr_bool = ss.CHR == chrom\n",
    "    chr_ind = chr_bool[chr_bool].index\n",
    "    try:\n",
    "        reg_bool = (ss.BP[chr_ind]>start) & (ss.BP[chr_ind]<end)\n",
    "    except:\n",
    "        print(\"There is no BP column,trying POS\")\n",
    "        reg_bool = (ss.POS[chr_ind]>start) & (ss.POS[chr_ind]<end)\n",
    "        \n",
    "    return chr_ind[reg_bool]"
   ]
  },
  {
   "cell_type": "markdown",
   "metadata": {
    "kernel": "SoS"
   },
   "source": [
    "The function of extracting reginonal summary stats"
   ]
  },
  {
   "cell_type": "code",
   "execution_count": 83,
   "metadata": {
    "kernel": "SoS"
   },
   "outputs": [],
   "source": [
    "#[global]\n",
    "def regional_stat(ss,ind):\n",
    "    return ss.iloc[ind,:]"
   ]
  },
  {
   "cell_type": "markdown",
   "metadata": {
    "kernel": "SoS"
   },
   "source": [
    "The function of extracting regional genotype\n",
    "   - p: list of bim, fam, bed\n",
    "   - pb: index of bim\n",
    "   - pf: index of fam"
   ]
  },
  {
   "cell_type": "code",
   "execution_count": 84,
   "metadata": {
    "kernel": "SoS"
   },
   "outputs": [],
   "source": [
    "#[global]\n",
    "def plink_slice(p,pb=None,pf=None):\n",
    "    (bim,fam,bed)=p\n",
    "    if pb is not None:\n",
    "        bim = bim.iloc[pb]\n",
    "        bed = bed[pb,:]\n",
    "    if pf is not None:\n",
    "        fam = fam.iloc[pf]\n",
    "        bed = bed[:,pf]\n",
    "    return(bim,fam,bed)"
   ]
  },
  {
   "cell_type": "markdown",
   "metadata": {
    "kernel": "SoS"
   },
   "source": [
    "regional LD accounting for unrelated individuals"
   ]
  },
  {
   "cell_type": "code",
   "execution_count": 86,
   "metadata": {
    "kernel": "SoS"
   },
   "outputs": [],
   "source": [
    "#[global]\n",
    "def LD_matrix(region,gwas,geno,iid):\n",
    "    rg_ind = region_index(gwas,region[0],region[1],region[2])\n",
    "    rg_stat = regional_stat(gwas,rg_ind)\n",
    "    rg_geno = plink_slice(geno,pb=list(rg_ind),pf=list(iid))\n",
    "    rg_bed = rg_geno[2].compute()\n",
    "    rg_bed=rg_bed[:,~np.any(np.isnan(rg_bed), axis=0)] #remove columns included nan\n",
    "    rg_ld = np.corrcoef(rg_bed)\n",
    "    return(rg_ind,rg_stat,rg_geno[0],rg_geno[1],rg_bed,rg_ld)"
   ]
  },
  {
   "cell_type": "code",
   "execution_count": 89,
   "metadata": {
    "kernel": "SoS"
   },
   "outputs": [],
   "source": [
    "#[global]\n",
    "def extract_region(region,gwas,geno,iid):\n",
    "    rg_ind = region_index(gwas,region[0],region[1],region[2])\n",
    "    rg_stat = regional_stat(gwas,rg_ind)\n",
    "    rg_geno = plink_slice(geno,pb=list(rg_ind),pf=list(iid))\n",
    "    rg_bed = rg_geno[2].compute()\n",
    "    rg_bed=rg_bed[:,~np.any(np.isnan(rg_bed), axis=0)] #remove columns included nan\n",
    "    rg_ld = np.corrcoef(rg_bed)\n",
    "    return(rg_stat.BETA,rg_stat.SE,rg_ld)"
   ]
  },
  {
   "cell_type": "code",
   "execution_count": 20,
   "metadata": {
    "kernel": "SoS"
   },
   "outputs": [
    {
     "name": "stdout",
     "output_type": "stream",
     "text": [
      "There is no BP column,trying POS\n"
     ]
    }
   ],
   "source": [
    "tmp1 = LD_matrix(asthma_fastgwa,ukb_geno,[7,28223990-500000,28223990+500000],fid_ind)"
   ]
  },
  {
   "cell_type": "markdown",
   "metadata": {
    "kernel": "SoS"
   },
   "source": [
    "the functions for multiple phenotypes or regions"
   ]
  },
  {
   "cell_type": "code",
   "execution_count": 22,
   "metadata": {
    "kernel": "SoS"
   },
   "outputs": [],
   "source": [
    "def extract_stats(gwass,geno,region,iid):\n",
    "    ld = LD_matrix(gwass[0],geno,region,iid)\n",
    "    rg_stats = [regional_stat(gwas,ld[0]) for gwas in gwass]\n",
    "    return(ld,rg_stats)\n",
    "  \n",
    "def extract_regions(gwas,geno,regions,iid):\n",
    "    return([LD_matrix(gwas,geno,region,iid) for region in regions])"
   ]
  },
  {
   "cell_type": "code",
   "execution_count": 23,
   "metadata": {
    "kernel": "SoS"
   },
   "outputs": [],
   "source": [
    "tmp2 = extract_regions(bmi_bolt,ukb_geno,[[16,53800754,53845487],[7,28223990-500000,28223990+500000]],fid_ind)"
   ]
  },
  {
   "cell_type": "markdown",
   "metadata": {
    "kernel": "SoS"
   },
   "source": [
    "## Other"
   ]
  },
  {
   "cell_type": "code",
   "execution_count": 2,
   "metadata": {
    "kernel": "SoS"
   },
   "outputs": [],
   "source": [
    "bmi_sr_path = \"/SAY/dbgapstg/scratch/UKBiobank/results/BOLTLMM_results/results_imputed_data/INT-BMI/ukb_imp_v3.UKB_caucasians_BMIwaisthip_AsthmaAndT2D_INT-BMI_withagesex_041720.BoltLMM.snp_stats.all_chr.gz\""
   ]
  },
  {
   "cell_type": "code",
   "execution_count": 3,
   "metadata": {
    "kernel": "SoS"
   },
   "outputs": [],
   "source": [
    "df = pd.read_csv(bmi_sr_path, compression='gzip', header=0, sep='\\t', quotechar='\"')"
   ]
  },
  {
   "cell_type": "code",
   "execution_count": 4,
   "metadata": {
    "kernel": "SoS"
   },
   "outputs": [
    {
     "data": {
      "text/html": [
       "<div>\n",
       "<style scoped>\n",
       "    .dataframe tbody tr th:only-of-type {\n",
       "        vertical-align: middle;\n",
       "    }\n",
       "\n",
       "    .dataframe tbody tr th {\n",
       "        vertical-align: top;\n",
       "    }\n",
       "\n",
       "    .dataframe thead th {\n",
       "        text-align: right;\n",
       "    }\n",
       "</style>\n",
       "<table border=\"1\" class=\"dataframe\">\n",
       "  <thead>\n",
       "    <tr style=\"text-align: right;\">\n",
       "      <th></th>\n",
       "      <th>SNP</th>\n",
       "      <th>CHR</th>\n",
       "      <th>BP</th>\n",
       "      <th>GENPOS</th>\n",
       "      <th>ALLELE1</th>\n",
       "      <th>ALLELE0</th>\n",
       "      <th>A1FREQ</th>\n",
       "      <th>INFO</th>\n",
       "      <th>CHISQ_LINREG</th>\n",
       "      <th>P_LINREG</th>\n",
       "      <th>BETA</th>\n",
       "      <th>SE</th>\n",
       "      <th>CHISQ_BOLT_LMM_INF</th>\n",
       "      <th>P_BOLT_LMM_INF</th>\n",
       "      <th>CHISQ_BOLT_LMM</th>\n",
       "      <th>P_BOLT_LMM</th>\n",
       "    </tr>\n",
       "  </thead>\n",
       "  <tbody>\n",
       "    <tr>\n",
       "      <th>0</th>\n",
       "      <td>1:692794_CA_C</td>\n",
       "      <td>1</td>\n",
       "      <td>692794</td>\n",
       "      <td>0.003338</td>\n",
       "      <td>CA</td>\n",
       "      <td>C</td>\n",
       "      <td>0.889360</td>\n",
       "      <td>0.824483</td>\n",
       "      <td>1.869460</td>\n",
       "      <td>0.17</td>\n",
       "      <td>0.003181</td>\n",
       "      <td>0.003795</td>\n",
       "      <td>0.702462</td>\n",
       "      <td>0.40</td>\n",
       "      <td>0.525906</td>\n",
       "      <td>0.47</td>\n",
       "    </tr>\n",
       "    <tr>\n",
       "      <th>1</th>\n",
       "      <td>rs12238997</td>\n",
       "      <td>1</td>\n",
       "      <td>693731</td>\n",
       "      <td>0.003363</td>\n",
       "      <td>A</td>\n",
       "      <td>G</td>\n",
       "      <td>0.884251</td>\n",
       "      <td>0.875969</td>\n",
       "      <td>0.314486</td>\n",
       "      <td>0.57</td>\n",
       "      <td>0.001202</td>\n",
       "      <td>0.003587</td>\n",
       "      <td>0.112243</td>\n",
       "      <td>0.74</td>\n",
       "      <td>0.070030</td>\n",
       "      <td>0.79</td>\n",
       "    </tr>\n",
       "    <tr>\n",
       "      <th>2</th>\n",
       "      <td>rs371890604</td>\n",
       "      <td>1</td>\n",
       "      <td>707522</td>\n",
       "      <td>0.003733</td>\n",
       "      <td>G</td>\n",
       "      <td>C</td>\n",
       "      <td>0.902904</td>\n",
       "      <td>0.803693</td>\n",
       "      <td>0.067607</td>\n",
       "      <td>0.79</td>\n",
       "      <td>-0.000160</td>\n",
       "      <td>0.004037</td>\n",
       "      <td>0.001580</td>\n",
       "      <td>0.97</td>\n",
       "      <td>0.018918</td>\n",
       "      <td>0.89</td>\n",
       "    </tr>\n",
       "    <tr>\n",
       "      <th>3</th>\n",
       "      <td>rs149887893</td>\n",
       "      <td>1</td>\n",
       "      <td>714596</td>\n",
       "      <td>0.003923</td>\n",
       "      <td>T</td>\n",
       "      <td>C</td>\n",
       "      <td>0.968095</td>\n",
       "      <td>0.844433</td>\n",
       "      <td>0.050703</td>\n",
       "      <td>0.82</td>\n",
       "      <td>-0.002333</td>\n",
       "      <td>0.006792</td>\n",
       "      <td>0.117972</td>\n",
       "      <td>0.73</td>\n",
       "      <td>0.145692</td>\n",
       "      <td>0.70</td>\n",
       "    </tr>\n",
       "    <tr>\n",
       "      <th>4</th>\n",
       "      <td>rs12184267</td>\n",
       "      <td>1</td>\n",
       "      <td>715265</td>\n",
       "      <td>0.003941</td>\n",
       "      <td>C</td>\n",
       "      <td>T</td>\n",
       "      <td>0.964573</td>\n",
       "      <td>0.926915</td>\n",
       "      <td>0.019258</td>\n",
       "      <td>0.89</td>\n",
       "      <td>-0.001602</td>\n",
       "      <td>0.006167</td>\n",
       "      <td>0.067493</td>\n",
       "      <td>0.80</td>\n",
       "      <td>0.105143</td>\n",
       "      <td>0.75</td>\n",
       "    </tr>\n",
       "  </tbody>\n",
       "</table>\n",
       "</div>"
      ],
      "text/plain": [
       "             SNP  CHR      BP    GENPOS ALLELE1 ALLELE0    A1FREQ      INFO  \\\n",
       "0  1:692794_CA_C    1  692794  0.003338      CA       C  0.889360  0.824483   \n",
       "1     rs12238997    1  693731  0.003363       A       G  0.884251  0.875969   \n",
       "2    rs371890604    1  707522  0.003733       G       C  0.902904  0.803693   \n",
       "3    rs149887893    1  714596  0.003923       T       C  0.968095  0.844433   \n",
       "4     rs12184267    1  715265  0.003941       C       T  0.964573  0.926915   \n",
       "\n",
       "   CHISQ_LINREG  P_LINREG      BETA        SE  CHISQ_BOLT_LMM_INF  \\\n",
       "0      1.869460      0.17  0.003181  0.003795            0.702462   \n",
       "1      0.314486      0.57  0.001202  0.003587            0.112243   \n",
       "2      0.067607      0.79 -0.000160  0.004037            0.001580   \n",
       "3      0.050703      0.82 -0.002333  0.006792            0.117972   \n",
       "4      0.019258      0.89 -0.001602  0.006167            0.067493   \n",
       "\n",
       "   P_BOLT_LMM_INF  CHISQ_BOLT_LMM  P_BOLT_LMM  \n",
       "0            0.40        0.525906        0.47  \n",
       "1            0.74        0.070030        0.79  \n",
       "2            0.97        0.018918        0.89  \n",
       "3            0.73        0.145692        0.70  \n",
       "4            0.80        0.105143        0.75  "
      ]
     },
     "execution_count": 4,
     "metadata": {},
     "output_type": "execute_result"
    }
   ],
   "source": [
    "df.head()"
   ]
  },
  {
   "cell_type": "markdown",
   "metadata": {
    "kernel": "SoS"
   },
   "source": [
    "## Check files"
   ]
  },
  {
   "cell_type": "markdown",
   "metadata": {
    "kernel": "SoS"
   },
   "source": [
    "#### GWAS results"
   ]
  },
  {
   "cell_type": "code",
   "execution_count": 1,
   "metadata": {
    "kernel": "SoS"
   },
   "outputs": [
    {
     "name": "stdout",
     "output_type": "stream",
     "text": [
      "\u001b[0m\u001b[01;34masthma\u001b[0m/  \u001b[01;34mINT-BMI\u001b[0m/  \u001b[01;34mINT-WAIST\u001b[0m/  \u001b[01;34mINT-WHR\u001b[0m/\r\n"
     ]
    }
   ],
   "source": [
    "ls /SAY/dbgapstg/scratch/UKBiobank/results/BOLTLMM_results/results_imputed_data"
   ]
  },
  {
   "cell_type": "code",
   "execution_count": 180,
   "metadata": {
    "kernel": "SoS"
   },
   "outputs": [
    {
     "name": "stdout",
     "output_type": "stream",
     "text": [
      "UKB_Caucasians_phenotypeindepqc120319_updated020720removedwithdrawnindiv.Asthma_casesbyICD10codesANDselfreport_controlsbyselfreportandicd10_noautoimmuneincontrols.fastGWA.stats.all_chr\r\n",
      "UKB_Caucasians_phenotypeindepqc120319_updated020720removedwithdrawnindiv.Asthma_casesbyICD10codesANDselfreport_controlsbyselfreportandicd10_noautoimmuneincontrols.fastGWA.stats.all_chr.numgenosnps.txt\r\n",
      "ukb_imp_v3.Asthma_casesbyICD10codesANDselfreport_controlsbyselfreportandicd10_noautoimmuneincontrols.fastGWA.log.all_chr\r\n",
      "ukb_imp_v3.Asthma_casesbyICD10codesANDselfreport_controlsbyselfreportandicd10_noautoimmuneincontrols.fastGWA.snp_stats.all_chr.gz\r\n",
      "ukb_imp_v3.Asthma_casesbyICD10codesANDselfreport_controlsbyselfreportandicd10_noautoimmuneincontrols.fastGWA.snp_stats.all_chr.numimpsnps.txt\r\n"
     ]
    }
   ],
   "source": [
    "ls /SAY/dbgapstg/scratch/UKBiobank/results/BOLTLMM_results/results_imputed_data/asthma/"
   ]
  },
  {
   "cell_type": "markdown",
   "metadata": {
    "kernel": "SoS"
   },
   "source": [
    "#### Genotype data and imputed data"
   ]
  },
  {
   "cell_type": "code",
   "execution_count": 11,
   "metadata": {
    "kernel": "SoS",
    "scrolled": true
   },
   "outputs": [
    {
     "name": "stdout",
     "output_type": "stream",
     "text": [
      "/SAY/dbgapstg/scratch/UKBiobank/genotype_files/pleiotropy_geneticfiles/UKB_Caucasians_phenotypeindepqc120319_updated020720removedwithdrawnindiv.bed\r\n",
      "/SAY/dbgapstg/scratch/UKBiobank/genotype_files/pleiotropy_geneticfiles/UKB_Caucasians_phenotypeindepqc120319_updated020720removedwithdrawnindiv.bim\r\n",
      "/SAY/dbgapstg/scratch/UKBiobank/genotype_files/pleiotropy_geneticfiles/UKB_Caucasians_phenotypeindepqc120319_updated020720removedwithdrawnindiv.fam\r\n",
      "/SAY/dbgapstg/scratch/UKBiobank/genotype_files/pleiotropy_geneticfiles/UKB_Caucasians_phenotypeindepqc120319_updated020720removedwithdrawnindiv.log\r\n"
     ]
    }
   ],
   "source": [
    "ls /SAY/dbgapstg/scratch/UKBiobank/genotype_files/pleiotropy_geneticfiles/UKB_Caucasians_phenotypeindepqc120319_updated020720removedwithdrawnindiv.*"
   ]
  },
  {
   "cell_type": "code",
   "execution_count": 129,
   "metadata": {
    "kernel": "SoS"
   },
   "outputs": [
    {
     "name": "stdout",
     "output_type": "stream",
     "text": [
      "/SAY/dbgapstg/scratch/UKBiobank/genotype_files/pleiotropy_geneticfiles/unrelated_n307259/UKB_unrelatedcauc_phenotypes_asthmat2dbmiwaisthip_agesex_waisthipratio_040620\r\n"
     ]
    }
   ],
   "source": [
    "ls /SAY/dbgapstg/scratch/UKBiobank/genotype_files/pleiotropy_geneticfiles/unrelated_n307259/UKB_unrelatedcauc_phenotypes_asthmat2dbmiwaisthip_agesex_waisthipratio_040620"
   ]
  },
  {
   "cell_type": "code",
   "execution_count": 3,
   "metadata": {
    "kernel": "SoS"
   },
   "outputs": [
    {
     "name": "stdout",
     "output_type": "stream",
     "text": [
      "\u001b[0m\u001b[01;34mdownloadscripts\u001b[0m/                            \u001b[01;32mukb_imp_chr18_v3.bgen\u001b[0m*\r\n",
      "\u001b[01;32mencoding.ukb\u001b[0m*                               \u001b[01;32mukb_imp_chr18_v3.bgen.bgi\u001b[0m*\r\n",
      "\u001b[01;32mfields.ukb\u001b[0m*                                 \u001b[01;32mukb_imp_chr19_v3.bgen\u001b[0m*\r\n",
      "README                                      \u001b[01;32mukb_imp_chr19_v3.bgen.bgi\u001b[0m*\r\n",
      "samples.txt                                 \u001b[01;32mukb_imp_chr1_v3.bgen\u001b[0m*\r\n",
      "subset_sample_variant_ukb_imp_chr1_v3.bgen  \u001b[01;32mukb_imp_chr1_v3.bgen.bgi\u001b[0m*\r\n",
      "subset_ukb_imp_chr1_v3.bgen                 \u001b[01;32mukb_imp_chr20_v3.bgen\u001b[0m*\r\n",
      "\u001b[01;32mukb1_1581369705_4814.tmp_bulk\u001b[0m*              \u001b[01;32mukb_imp_chr20_v3.bgen.bgi\u001b[0m*\r\n",
      "\u001b[01;32mukb1_1581570817_24750.tmp_bulk\u001b[0m*             \u001b[01;32mukb_imp_chr21_v3.bgen\u001b[0m*\r\n",
      "\u001b[01;32mukb1_1581572048_25854.tmp_bulk\u001b[0m*             \u001b[01;32mukb_imp_chr21_v3.bgen.bgi\u001b[0m*\r\n",
      "\u001b[01;32mukb32285_imp_chr22_v3_s487297.sample\u001b[0m*       \u001b[01;32mukb_imp_chr22_v3.bgen\u001b[0m*\r\n",
      "\u001b[01;32mukb32285_imputedindiv.sample\u001b[0m*               \u001b[01;32mukb_imp_chr22_v3.bgen.bgi\u001b[0m*\r\n",
      "\u001b[01;32mukb39554.enc_ukb\u001b[0m*                           \u001b[01;32mukb_imp_chr2_v3.bgen\u001b[0m*\r\n",
      "\u001b[01;32mukb39554.log\u001b[0m*                               \u001b[01;32mukb_imp_chr2_v3.bgen.bgi\u001b[0m*\r\n",
      "\u001b[01;32mukb39554.r\u001b[0m*                                 \u001b[01;32mukb_imp_chr3_v3.bgen\u001b[0m*\r\n",
      "\u001b[01;32mukb39554.tab\u001b[0m*                               \u001b[01;32mukb_imp_chr3_v3.bgen.bgi\u001b[0m*\r\n",
      "\u001b[01;32mukb_bgi.md5\u001b[0m*                                \u001b[01;32mukb_imp_chr4_v3.bgen\u001b[0m*\r\n",
      "\u001b[01;32mukbgene\u001b[0m*                                    \u001b[01;32mukb_imp_chr4_v3.bgen.bgi\u001b[0m*\r\n",
      "\u001b[01;32mukb_hap_bgi.md5\u001b[0m*                            \u001b[01;32mukb_imp_chr5_v3.bgen\u001b[0m*\r\n",
      "\u001b[01;32mukb_hap_bgi.tgz\u001b[0m*                            \u001b[01;32mukb_imp_chr5_v3.bgen.bgi\u001b[0m*\r\n",
      "\u001b[01;32mukb_hap_chr10_v2.bgen\u001b[0m*                      \u001b[01;32mukb_imp_chr6_v3.bgen\u001b[0m*\r\n",
      "\u001b[01;32mukb_hap_chr10_v2.bgen.bgi\u001b[0m*                  \u001b[01;32mukb_imp_chr6_v3.bgen.bgi\u001b[0m*\r\n",
      "\u001b[01;32mukb_hap_chr11_v2.bgen\u001b[0m*                      ukb_imp_chr7_v3.bgen\r\n",
      "\u001b[01;32mukb_hap_chr11_v2.bgen.bgi\u001b[0m*                  \u001b[01;32mukb_imp_chr7_v3.bgen.bgi\u001b[0m*\r\n",
      "\u001b[01;32mukb_hap_chr12_v2.bgen\u001b[0m*                      ukb_imp_chr8_v3.bgen\r\n",
      "\u001b[01;32mukb_hap_chr12_v2.bgen.bgi\u001b[0m*                  \u001b[01;32mukb_imp_chr8_v3.bgen.bgi\u001b[0m*\r\n",
      "\u001b[01;32mukb_hap_chr13_v2.bgen\u001b[0m*                      ukb_imp_chr9_v3.bgen\r\n",
      "\u001b[01;32mukb_hap_chr13_v2.bgen.bgi\u001b[0m*                  \u001b[01;32mukb_imp_chr9_v3.bgen.bgi\u001b[0m*\r\n",
      "\u001b[01;32mukb_hap_chr14_v2.bgen\u001b[0m*                      \u001b[01;32mukb_imp_chrX_v3.bgen\u001b[0m*\r\n",
      "\u001b[01;32mukb_hap_chr14_v2.bgen.bgi\u001b[0m*                  \u001b[01;32mukb_imp_chrX_v3.bgen.bgi\u001b[0m*\r\n",
      "\u001b[01;32mukb_hap_chr15_v2.bgen\u001b[0m*                      \u001b[01;32mukb_imp_chrXY_v3.bgen\u001b[0m*\r\n",
      "\u001b[01;32mukb_hap_chr15_v2.bgen.bgi\u001b[0m*                  \u001b[01;32mukb_imp_chrXY_v3.bgen.bgi\u001b[0m*\r\n",
      "\u001b[01;32mukb_hap_chr16_v2.bgen\u001b[0m*                      \u001b[01;32mukb_imp_mfi.tgz\u001b[0m*\r\n",
      "\u001b[01;32mukb_hap_chr16_v2.bgen.bgi\u001b[0m*                  \u001b[01;32mukbmd5\u001b[0m*\r\n",
      "\u001b[01;32mukb_hap_chr17_v2.bgen\u001b[0m*                      \u001b[01;32mukb_mfi_chr10_v3.txt\u001b[0m*\r\n",
      "\u001b[01;32mukb_hap_chr17_v2.bgen.bgi\u001b[0m*                  ukb_mfi_chr10_v3.txt_infoabove0.8\r\n",
      "\u001b[01;32mukb_hap_chr18_v2.bgen\u001b[0m*                      \u001b[01;32mukb_mfi_chr11_v3.txt\u001b[0m*\r\n",
      "\u001b[01;32mukb_hap_chr18_v2.bgen.bgi\u001b[0m*                  ukb_mfi_chr11_v3.txt_infoabove0.8\r\n",
      "\u001b[01;32mukb_hap_chr19_v2.bgen\u001b[0m*                      \u001b[01;32mukb_mfi_chr12_v3.txt\u001b[0m*\r\n",
      "\u001b[01;32mukb_hap_chr19_v2.bgen.bgi\u001b[0m*                  ukb_mfi_chr12_v3.txt_infoabove0.8\r\n",
      "\u001b[01;32mukb_hap_chr1_v2.bgen\u001b[0m*                       \u001b[01;32mukb_mfi_chr13_v3.txt\u001b[0m*\r\n",
      "\u001b[01;32mukb_hap_chr1_v2.bgen.bgi\u001b[0m*                   ukb_mfi_chr13_v3.txt_infoabove0.8\r\n",
      "\u001b[01;32mukb_hap_chr20_v2.bgen\u001b[0m*                      \u001b[01;32mukb_mfi_chr14_v3.txt\u001b[0m*\r\n",
      "\u001b[01;32mukb_hap_chr20_v2.bgen.bgi\u001b[0m*                  ukb_mfi_chr14_v3.txt_infoabove0.8\r\n",
      "\u001b[01;32mukb_hap_chr21_v2.bgen\u001b[0m*                      \u001b[01;32mukb_mfi_chr15_v3.txt\u001b[0m*\r\n",
      "\u001b[01;32mukb_hap_chr21_v2.bgen.bgi\u001b[0m*                  ukb_mfi_chr15_v3.txt_infoabove0.8\r\n",
      "\u001b[01;32mukb_hap_chr22_v2.bgen\u001b[0m*                      \u001b[01;32mukb_mfi_chr16_v3.txt\u001b[0m*\r\n",
      "\u001b[01;32mukb_hap_chr22_v2.bgen.bgi\u001b[0m*                  ukb_mfi_chr16_v3.txt_infoabove0.8\r\n",
      "\u001b[01;32mukb_hap_chr2_v2.bgen\u001b[0m*                       \u001b[01;32mukb_mfi_chr17_v3.txt\u001b[0m*\r\n",
      "\u001b[01;32mukb_hap_chr2_v2.bgen.bgi\u001b[0m*                   ukb_mfi_chr17_v3.txt_infoabove0.8\r\n",
      "\u001b[01;32mukb_hap_chr3_v2.bgen\u001b[0m*                       \u001b[01;32mukb_mfi_chr18_v3.txt\u001b[0m*\r\n",
      "\u001b[01;32mukb_hap_chr3_v2.bgen.bgi\u001b[0m*                   ukb_mfi_chr18_v3.txt_infoabove0.8\r\n",
      "\u001b[01;32mukb_hap_chr4_v2.bgen\u001b[0m*                       \u001b[01;32mukb_mfi_chr19_v3.txt\u001b[0m*\r\n",
      "\u001b[01;32mukb_hap_chr4_v2.bgen.bgi\u001b[0m*                   ukb_mfi_chr19_v3.txt_infoabove0.8\r\n",
      "\u001b[01;32mukb_hap_chr5_v2.bgen\u001b[0m*                       \u001b[01;32mukb_mfi_chr1_v3.txt\u001b[0m*\r\n",
      "\u001b[01;32mukb_hap_chr5_v2.bgen.bgi\u001b[0m*                   ukb_mfi_chr1_v3.txt_infoabove0.8\r\n",
      "\u001b[01;32mukb_hap_chr6_v2.bgen\u001b[0m*                       \u001b[01;32mukb_mfi_chr20_v3.txt\u001b[0m*\r\n",
      "\u001b[01;32mukb_hap_chr6_v2.bgen.bgi\u001b[0m*                   ukb_mfi_chr20_v3.txt_infoabove0.8\r\n",
      "\u001b[01;32mukb_hap_chr7_v2.bgen\u001b[0m*                       \u001b[01;32mukb_mfi_chr21_v3.txt\u001b[0m*\r\n",
      "\u001b[01;32mukb_hap_chr7_v2.bgen.bgi\u001b[0m*                   ukb_mfi_chr21_v3.txt_infoabove0.8\r\n",
      "\u001b[01;32mukb_hap_chr8_v2.bgen\u001b[0m*                       \u001b[01;32mukb_mfi_chr22_v3.txt\u001b[0m*\r\n",
      "\u001b[01;32mukb_hap_chr8_v2.bgen.bgi\u001b[0m*                   ukb_mfi_chr22_v3.txt_infoabove0.8\r\n",
      "\u001b[01;32mukb_hap_chr9_v2.bgen\u001b[0m*                       \u001b[01;32mukb_mfi_chr2_v3.txt\u001b[0m*\r\n",
      "\u001b[01;32mukb_hap_chr9_v2.bgen.bgi\u001b[0m*                   ukb_mfi_chr2_v3.txt_infoabove0.8\r\n",
      "\u001b[01;32mukb_imp_bgi.tgz\u001b[0m*                            \u001b[01;32mukb_mfi_chr3_v3.txt\u001b[0m*\r\n",
      "ukb_imp_chr10_v3.bgen                       ukb_mfi_chr3_v3.txt_infoabove0.8\r\n",
      "\u001b[01;32mukb_imp_chr10_v3.bgen.bgi\u001b[0m*                  \u001b[01;32mukb_mfi_chr4_v3.txt\u001b[0m*\r\n",
      "\u001b[01;32mukb_imp_chr11_v3.bgen\u001b[0m*                      ukb_mfi_chr4_v3.txt_infoabove0.8\r\n",
      "\u001b[01;32mukb_imp_chr11_v3.bgen.bgi\u001b[0m*                  \u001b[01;32mukb_mfi_chr5_v3.txt\u001b[0m*\r\n",
      "\u001b[01;32mukb_imp_chr12_v3.bgen\u001b[0m*                      ukb_mfi_chr5_v3.txt_infoabove0.8\r\n",
      "\u001b[01;32mukb_imp_chr12_v3.bgen.bgi\u001b[0m*                  \u001b[01;32mukb_mfi_chr6_v3.txt\u001b[0m*\r\n",
      "\u001b[01;32mukb_imp_chr13_v3.bgen\u001b[0m*                      ukb_mfi_chr6_v3.txt_infoabove0.8\r\n",
      "\u001b[01;32mukb_imp_chr13_v3.bgen.bgi\u001b[0m*                  \u001b[01;32mukb_mfi_chr7_v3.txt\u001b[0m*\r\n",
      "\u001b[01;32mukb_imp_chr14_v3.bgen\u001b[0m*                      ukb_mfi_chr7_v3.txt_infoabove0.8\r\n",
      "\u001b[01;32mukb_imp_chr14_v3.bgen.bgi\u001b[0m*                  \u001b[01;32mukb_mfi_chr8_v3.txt\u001b[0m*\r\n",
      "\u001b[01;32mukb_imp_chr15_v3.bgen\u001b[0m*                      ukb_mfi_chr8_v3.txt_infoabove0.8\r\n",
      "\u001b[01;32mukb_imp_chr15_v3.bgen.bgi\u001b[0m*                  \u001b[01;32mukb_mfi_chr9_v3.txt\u001b[0m*\r\n",
      "\u001b[01;32mukb_imp_chr16_v3.bgen\u001b[0m*                      ukb_mfi_chr9_v3.txt_infoabove0.8\r\n",
      "\u001b[01;32mukb_imp_chr16_v3.bgen.bgi\u001b[0m*                  \u001b[01;32mukb_mfi_chrX_v3.txt\u001b[0m*\r\n",
      "\u001b[01;32mukb_imp_chr17_v3.bgen\u001b[0m*                      \u001b[01;32mukb_mfi_chrXY_v3.txt\u001b[0m*\r\n",
      "\u001b[01;32mukb_imp_chr17_v3.bgen.bgi\u001b[0m*                  \u001b[01;32mukb_mfi.md5\u001b[0m*\r\n"
     ]
    }
   ],
   "source": [
    "ls /SAY/dbgapstg/scratch/UKBiobank/genotype_files/ukb39554_imputeddataset/"
   ]
  },
  {
   "cell_type": "markdown",
   "metadata": {
    "kernel": "SoS"
   },
   "source": [
    "#### Phenotype data"
   ]
  },
  {
   "cell_type": "code",
   "execution_count": 5,
   "metadata": {
    "kernel": "SoS",
    "scrolled": false
   },
   "outputs": [
    {
     "name": "stdout",
     "output_type": "stream",
     "text": [
      "Asthma_casesbyICD10codesANDselfreport_controlsbyselfreportandicd10_forbolt030720\r\n",
      "Asthma_casesbyICD10codesANDselfreport_controlsbyselfreportandicd10_noautoimmuneincontrols_forbolt030720\r\n",
      "diabetes_casesbyICD10andselfreport_controls_030620\r\n",
      "diabetes_casesbyICD10andselfreport_controlswithoutautoiummune_030720\r\n",
      "UKB_caucasians_BMI_nopreg_adjagesex_residuals_andstandardized_022720\r\n",
      "UKB_caucasians_BMIwaisthip_AsthmaAndT2D_withagesex_033120\r\n",
      "UKB_caucasians_waistcircumference_adjbmiagesex_nopreg_residuals_022720\r\n",
      "UKB_caucasians_waisthipratio_adjbmiagesex_nopreg_residuals_022720\r\n",
      "UKBrelated_AsthmaT2D_casesbyfieldoricd10_noautoincontrols_dataforbothphenotypes_040820\r\n"
     ]
    }
   ],
   "source": [
    "ls /SAY/dbgapstg/scratch/UKBiobank/phenotype_files/pleiotropy_R01/phenotypesforanalysis"
   ]
  },
  {
   "cell_type": "markdown",
   "metadata": {
    "kernel": "SoS"
   },
   "source": [
    "## Install pandas_plink"
   ]
  },
  {
   "cell_type": "markdown",
   "metadata": {
    "kernel": "SoS"
   },
   "source": [
    "a Python package for reading PLINK binary file format and PLINK and GCTA realized relationship matrices. The file reading is taken place via lazy loading, meaning that it saves up memory by actually reading only the genotypes that are actually accessed by the user.(https://pypi.org/project/pandas-plink/)"
   ]
  },
  {
   "cell_type": "code",
   "execution_count": null,
   "metadata": {
    "kernel": "SoS"
   },
   "outputs": [],
   "source": [
    "pip install pandas-plink"
   ]
  }
 ],
 "metadata": {
  "kernelspec": {
   "display_name": "SoS",
   "language": "sos",
   "name": "sos"
  },
  "language_info": {
   "codemirror_mode": "sos",
   "file_extension": ".sos",
   "mimetype": "text/x-sos",
   "name": "sos",
   "nbconvert_exporter": "sos_notebook.converter.SoS_Exporter",
   "pygments_lexer": "sos"
  },
  "sos": {
   "kernels": [
    [
     "R",
     "ir",
     "R",
     "#DCDCDA",
     "r"
    ],
    [
     "SoS",
     "sos",
     "",
     "",
     "sos"
    ]
   ],
   "panel": {
    "displayed": true,
    "height": 0
   },
   "version": "0.20.1"
  }
 },
 "nbformat": 4,
 "nbformat_minor": 4
}
