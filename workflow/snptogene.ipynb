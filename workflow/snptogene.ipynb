{
 "cells": [
  {
   "cell_type": "markdown",
   "metadata": {
    "kernel": "SoS"
   },
   "source": [
    "# Post-GWAS analyses"
   ]
  },
  {
   "cell_type": "markdown",
   "metadata": {
    "kernel": "SoS"
   },
   "source": [
    "# Aim\n",
    "\n",
    "The aim of this notebook is to be able to carry out post-GWAS analyses such as SNP annotation to genes, expression pathway and other.\n",
    "\n",
    "Here [spnGeneSets v1.12](https://www.umc.edu/SoPH/Departments-and-Faculty/Data-Science/Research/Services/Software.html) is used, however FUMA is a web-based resource that is also useful for this purpose \n"
   ]
  },
  {
   "cell_type": "markdown",
   "metadata": {
    "kernel": "SoS"
   },
   "source": [
    "## Usage\n",
    "\n"
   ]
  },
  {
   "cell_type": "code",
   "execution_count": 1,
   "metadata": {
    "kernel": "SoS"
   },
   "outputs": [],
   "source": [
    "[global]\n",
    "# the output directory for generated files\n",
    "parameter: cwd = path\n",
    "# Path sumstats file\n",
    "parameter: sumstatsFile = path\n",
    "# Genome assembly hg_37, hg_38\n",
    "parameter: hg = int\n",
    "#Job size\n",
    "parameter:job_size=1\n",
    "# Load annovar module from cluster\n",
    "parameter: annovar_module = '''\n",
    "module load ANNOVAR/2020Jun08-foss-2018b-Perl-5.28.0\n",
    "echo \"Module annovar loaded\"\n",
    "{cmd}\n",
    "'''\n",
    "# Software container option\n",
    "parameter: container_annovar = 'gaow/gatk4-annovar'"
   ]
  },
  {
   "cell_type": "code",
   "execution_count": 2,
   "metadata": {
    "kernel": "SoS"
   },
   "outputs": [],
   "source": [
    "# Annotate snps to gene\n",
    "[snp_to_gene]\n",
    "# Column name for BP\n",
    "parameter: bp = 'POS'\n",
    "# Column name for p-value\n",
    "parameter: pval = 'P'\n",
    "# Column name for SNP\n",
    "parameter: snp = 'SNP'\n",
    "input: sumstatsFile\n",
    "output: f'{_input:nn}.gene_ann'      \n",
    "task: trunk_workers = 1, trunk_size = job_size, walltime = '3h', mem = '10G', tags = f'{step_name}_{_output:bn}'\n",
    "R: expand='${ }', stderr = f'{_output:n}.stderr', stdout = f'{_output:n}.stdout'\n",
    "    library('snpGeneSets')\n",
    "    library('dplyr')\n",
    "    # Import the sumstats file as dataframe\n",
    "    data <- read.table(gzfile('${_input}'), header=T)\n",
    "    head(data)\n",
    "    # Filter SNPs with p-val <5e-06\n",
    "    # Subset data to obtain only chr, pos and snp for gene mapping\n",
    "    sig.p <- data %>%\n",
    "      filter(P < 5e-8) %>%\n",
    "      mutate(chr = CHR,\n",
    "             pos = ${bp},\n",
    "             snp = as.character(${snp})) %>%\n",
    "      select(chr, pos, snp)\n",
    "    head(sig.p)\n",
    "    # Get the annotation of SNPs with different genome assemblies\n",
    "    snpMapAnn<- getSNPMap(sig.p$snp, GRCh=${hg})\n",
    "    # Mapping SNPs to genes (define gene boundary ‘up’ for the upstream region and ‘down’ for the downstream region with default value of 2,000 bp for both)\n",
    "    snpGeneMapAnn<- snp2Gene(snpMapAnn$rsid_map$snp)\n",
    "    cat(\"The unique number of genes is\",length(unique(snpGeneMapAnn$map$gene_id),\"\\n\"))\n",
    "    cat(\"The number of variants that could not be mapped to a gene is:\",length(snpGeneMapAnn$other),\"\\n\")\n",
    "    #Get the gene-name and gene-id for the mapped variants\n",
    "    gene_mapped <- getGeneMap(snpGeneMapAnn$map$gene_id)$gene_map\n",
    "    # Merge the datasets\n",
    "    snp_gene = merge(x = snpMapAnn37$rsid_map,y = snpGeneMapAnn$map[,c(\"snp\", \"gene_id\")],by=\"snp\", all.x=TRUE)\n",
    "    snp_gene_2 = merge(x = snp_gene,y = gene_mapped[,c(\"gene_id\", \"gene_name\")],by=\"gene_id\", all.x=TRUE)\n",
    "    names(snp_gene_2)[names(snp_gene_2) == 'snp'] <- 'SNP'\n",
    "    snp_gene_3 = merge(x = snp_gene_2,y = data[,c(\"A1\", \"A2\", \"N\", \"AF1\",\"P\",\"BETA\", \"SE\", \"INFO\",\"SNP\")],by=\"SNP\", all.x=TRUE)\n",
    "    # Get the final table with ordered pval\n",
    "    final_gene_set <- snp_gene_3 %>%\n",
    "     select(chr, ${snp}, pos, A1, A2, N, AF1, BETA, SE, ${pval}, INFO, gene_id, gene_name) %>%\n",
    "     arrange(P)\n",
    "    names(final_gene_set)[names(final_gene_set) == 'chr'] <- 'CHR'\n",
    "    names(final_gene_set)[names(final_gene_set) == 'pos'] <- 'POS'\n",
    "    # Write results to a table\n",
    "    write.table(final_gene_set, '${_output}', sep = \"\\t\", quote=FALSE, row.names=FALSE)"
   ]
  },
  {
   "cell_type": "code",
   "execution_count": null,
   "metadata": {
    "kernel": "SoS"
   },
   "outputs": [],
   "source": [
    "# Merge all the bimfiles into a single file to use later with awk\n",
    "# Only need to run this cell once\n",
    "[bim_merge]\n",
    "# Path to the original bim files\n",
    "paremeter: bimfiles = path\n",
    "# Name for the merged bim files\n",
    "parameter: bim_name = path\n",
    "input: bimfiles\n",
    "output: bim_name\n",
    "task: trunk_workers = 1, walltime = '10h', mem = '10G', cores = numThreads, tags = f'{step_name}_{_output:bn}'\n",
    "bash: expand= \"${ }\", stderr = f'{_output:n}.stderr', stdout = f'{_output:n}.stdout' \n",
    "      cat ${_input} > ${_output}"
   ]
  },
  {
   "cell_type": "code",
   "execution_count": null,
   "metadata": {
    "kernel": "SoS"
   },
   "outputs": [],
   "source": [
    "# Get the list of significantly associated SNPs\n",
    "[annovar_1]\n",
    "# Column name for BP\n",
    "parameter: bp = 'POS'\n",
    "# Column name for p-value\n",
    "parameter: pval = 'P'\n",
    "# Column name for SNP\n",
    "parameter: snp = 'SNP'\n",
    "input: sumstatsFile\n",
    "output: f'{cwd}/{_input:bnn}.snp_annotate'\n",
    "task: trunk_workers = 1, trunk_size = job_size, walltime = '3h', mem = '10G', tags = f'{step_name}_{_output:bn}'\n",
    "R: expand='${ }', stderr = f'{_output}.stderr', stdout = f'{_output}.stdout'\n",
    "    library('dplyr')\n",
    "    # Import the sumstats file as dataframe\n",
    "    data <- read.table(gzfile('${_input}'), header=T)\n",
    "    # Filter SNPs with p-val <5e-06\n",
    "    # Subset data to obtain only chr, pos and snp for gene mapping\n",
    "    sig.p <- data %>%\n",
    "      filter(P < 5e-8) %>%\n",
    "      select(SNP)\n",
    "    write.table(sig.p, '${_output}', sep = \" \", quote=FALSE, row.names=FALSE, col.names=FALSE) "
   ]
  },
  {
   "cell_type": "code",
   "execution_count": null,
   "metadata": {
    "kernel": "SoS"
   },
   "outputs": [],
   "source": [
    "# Get chr, start, end, ref_allele, alt_allele format\n",
    "[annovar_2]\n",
    "parameter: bim_name = path\n",
    "output: f'{_input:n}.avinput'\n",
    "task: trunk_workers = 1, walltime = '10h', mem = '10G', cores = numThreads, tags = f'{step_name}_{_output:bn}'\n",
    "bash: expand= \"${ }\", stderr = f'{_output}.stderr', stdout = f'{_output}.stdout' \n",
    "    awk -F\" \" 'FNR==NR {lines[$1]; next} $2 in lines ' ${_input} ${bim_name} > ${_output:n}.tmp\n",
    "    awk '{if ($2 ~ /D/) {print $1, $4, $4 + (length ($6) - length ($5)), $6, $5 } else {print $1, $4, $4, $6, $5 }}'  ${_output:n}.tmp >  ${_output}\n",
    "    # remove temporary files\n",
    "    rm -f ${_output:n}.tmp "
   ]
  },
  {
   "cell_type": "code",
   "execution_count": null,
   "metadata": {
    "kernel": "SoS"
   },
   "outputs": [],
   "source": [
    "# Annotate variants file using ANNOVAR\n",
    "[annovar_3]\n",
    "# humandb path for ANNOVAR\n",
    "parameter: humandb = path\n",
    "# Human genome build\n",
    "parameter: build = 'hg38'\n",
    "#add xreffile to option without -exonicsplicing\n",
    "#mart_export_2019_LOFtools3.txt #xreffile latest option -> Phenotype description,HGNC symbol,MIM morbid description,CGD_CONDITION,CGD_inh,CGD_man,CGD_comm,LOF_tools\n",
    "#parameter: x_ref = path(f\"{humandb}/mart_export_2019_LOFtools3.txt\")\n",
    "# Annovar protocol\n",
    "parameter: protocol = ['refGene', 'refGeneWithVer', 'knownGene', 'ensGene', 'phastConsElements30way', 'encRegTfbsClustered', 'gwasCatalog', 'gnomad211_genome', 'gnomad211_exome', 'gme', 'kaviar_20150923', 'abraom', 'avsnp150', 'dbnsfp41a', 'dbscsnv11', 'regsnpintron', 'clinvar_20200316', 'gene4denovo201907']\n",
    "# Annovar operation\n",
    "parameter: operation = ['g', 'g', 'g', 'g', 'r', 'r', 'r', 'f', 'f', 'f', 'f', 'f', 'f', 'f', 'f', 'f', 'f', 'f']\n",
    "# Annovar args\n",
    "parameter: arg = ['\"-splicing 12 -exonicsplicing\"', '\"-splicing 30\"', '\"-splicing 12 -exonicsplicing\"', '\"-splicing 12\"', '', '', '', '', '', '', '', '', '', '', '', '', '', '']\n",
    "output: f'{cwd}/{_input:bn}.{build}_multianno.csv'\n",
    "task: trunk_workers = 1, walltime = '10h', mem = '30G', cores = numThreads, tags = f'{step_name}_{_output:bn}', template = '{cmd}' if executable('annotate_variation.pl').target_exists() else annovar_module\n",
    "bash: container=container_annovar, volumes=[f'{humandb:a}:{humandb:a}'], expand=\"${ }\", stderr=f'{_output}.stderr', stdout=f'{_output}.stdout'\n",
    "    #do not add -intronhgvs as option -> writes cDNA variants as HGVS but creates issues (+2 splice site reported only)\n",
    "    #-nastring . can only be . for VCF files\n",
    "    #regsnpintron might cause shifted lines (be carefull using)\n",
    "    table_annovar.pl \\\n",
    "        ${_input} \\\n",
    "        ${humandb} \\\n",
    "        -buildver ${build} \\\n",
    "        -out ${_output:nn}\\\n",
    "        -remove \\\n",
    "        -polish \\\n",
    "        -nastring . \\\n",
    "        -protocol ${\",\".join(protocol)} \\\n",
    "        -operation ${\",\".join(operation)} \\\n",
    "        -arg ${\",\".join(arg)} \\\n",
    "        -csvout "
   ]
  },
  {
   "cell_type": "markdown",
   "metadata": {
    "kernel": "SoS"
   },
   "source": [
    "## To run this notebook"
   ]
  },
  {
   "cell_type": "code",
   "execution_count": 6,
   "metadata": {
    "kernel": "Bash"
   },
   "outputs": [
    {
     "name": "stdout",
     "output_type": "stream",
     "text": [
      "INFO: Running \u001b[32mannovar_1\u001b[0m: Get the list of significantly associated SNPs\n",
      "INFO: \u001b[32mannovar_1\u001b[0m is \u001b[32mcompleted\u001b[0m.\n",
      "INFO: \u001b[32mannovar_1\u001b[0m output:   \u001b[32m/home/dc2325/scratch60/output/010421_UKBB_Hearing_aid_f3393_128254ind_exomes_hearing_aid_cat.regenie.snp_annotate\u001b[0m\n",
      "INFO: Running \u001b[32mannovar_2\u001b[0m: Get chr, start, end, ref_allele, alt_allele format\n",
      "INFO: \u001b[32mannovar_2\u001b[0m is \u001b[32mcompleted\u001b[0m.\n",
      "INFO: \u001b[32mannovar_2\u001b[0m output:   \u001b[32m/home/dc2325/scratch60/output/010421_UKBB_Hearing_aid_f3393_128254ind_exomes_hearing_aid_cat.regenie.avinput\u001b[0m\n",
      "INFO: Running \u001b[32mannovar_3\u001b[0m: Annotate variants file using ANNOVAR\n",
      "INFO: \u001b[32mannovar_3\u001b[0m is \u001b[32mcompleted\u001b[0m.\n",
      "INFO: \u001b[32mannovar_3\u001b[0m output:   \u001b[32m/home/dc2325/scratch60/output/010421_UKBB_Hearing_aid_f3393_128254ind_exomes_hearing_aid_cat.regenie.hg38_multianno.csv\u001b[0m\n",
      "INFO: Workflow annovar (ID=w85450d9626e3d7a0) is executed successfully with 3 completed steps.\n"
     ]
    }
   ],
   "source": [
    "cwd=/home/dc2325/scratch60/output/\n",
    "sumstatsFile=/gpfs/gibbs/pi/dewan/data/UKBiobank/results/REGENIE_results/results_exome_data/f3393_hearing_aid_exomes/010421_UKBB_Hearing_aid_f3393_128254ind_exomes_hearing_aid_cat.regenie.snp_stats.gz\n",
    "hg=38\n",
    "job_size=1\n",
    "container_annovar=/home/dc2325/scratch60/annovar.sif\n",
    "bimfiles=`echo /gpfs/gibbs/pi/dewan/data/UKBiobank/genotype_files/ukb28374_exomedata/exome_data_OCT2020/ukb23155_c{1..22}_b0_v1.bim`\n",
    "bim_name=/home/dc2325/scratch60/output/ukb23155_chr1_chr22.bim\n",
    "humandb=/gpfs/ysm/datasets/db/annovar/humandb\n",
    "\n",
    "sos run ~/project/UKBB_GWAS_dev/workflow/snptogene.ipynb annovar \\\n",
    "    --cwd $cwd \\\n",
    "    --sumstatsFile $sumstatsFile\\\n",
    "    --bim_name $bim_name \\\n",
    "    --hg $hg \\\n",
    "    --job_size $job_size \\\n",
    "    --humandb $humandb\\\n",
    "    --container_annovar $container_annovar\\\n",
    "    -s build"
   ]
  },
  {
   "cell_type": "code",
   "execution_count": 1,
   "metadata": {
    "kernel": "Bash"
   },
   "outputs": [
    {
     "name": "stdout",
     "output_type": "stream",
     "text": [
      "1 58468867 58468867 T C\n",
      "1 58468874 58468874 T C\n",
      "1 58468970 58468970 G T\n",
      "1 58506159 58506159 G A\n",
      "1 58506268 58506268 C A\n",
      "1 58539307 58539307 C T\n",
      "5 272741 272741 A G\n",
      "5 272748 272748 G C\n",
      "5 272755 272755 A G\n",
      "5 73773756 73773756 A G\n",
      "5 73776529 73776529 T C\n",
      "5 73780632 73780632 G A\n",
      "5 73780649 73780650 GT G\n",
      "5 73780686 73780686 C A\n",
      "5 73794340 73794340 A AGTT\n",
      "5 73794436 73794436 T C\n",
      "5 73795301 73795301 T A\n",
      "5 73795403 73795403 C T\n",
      "6 43301291 43301291 A C\n",
      "6 43302413 43302413 C T\n",
      "6 43305866 43305866 A G\n",
      "6 43308652 43308652 G A\n",
      "6 75841299 75841299 A G\n",
      "6 158071628 158071628 C T\n",
      "8 86556416 86556416 T G\n",
      "8 86558437 86558437 A C\n",
      "8 86558500 86558500 C T\n",
      "22 38086345 38086387 GTGCGGGAGCGGGACTGGCCATCCCAGTACTCCGAGGGTGCTA G\n",
      "22 50549676 50549676 G A\n",
      "\n"
     ]
    }
   ],
   "source": [
    "cd /home/dc2325/scratch60/output/\n",
    "awk 'NR==FNR{seen[$0]=1; next} seen[$0]' 010421_UKBB_f2247_f2257_136862ind_exomes_f2247_f2257.regenie.avinput 010421_UKBB_Hearing_difficulty_f2247_171970ind_exomes_hearing_diff_new.regenie.avinput"
   ]
  },
  {
   "cell_type": "code",
   "execution_count": 2,
   "metadata": {
    "kernel": "Bash"
   },
   "outputs": [
    {
     "name": "stdout",
     "output_type": "stream",
     "text": [
      "5 272741 272741 A G\n",
      "5 272748 272748 G C\n",
      "5 272755 272755 A G\n",
      "6 43301291 43301291 A C\n",
      "6 43305866 43305866 A G\n",
      "6 43308652 43308652 G A\n",
      "6 75841299 75841299 A G\n",
      "\n"
     ]
    }
   ],
   "source": [
    "awk 'NR==FNR{seen[$0]=1; next} seen[$0]' 010421_UKBB_Hearing_difficulty_f2247_171970ind_exomes_hearing_diff_new.regenie.avinput 010421_UKBB_Hearing_background_noise_f2257_175531ind_exomes_hearing_noise_cat.regenie.avinput"
   ]
  },
  {
   "cell_type": "code",
   "execution_count": 4,
   "metadata": {
    "kernel": "Bash"
   },
   "outputs": [
    {
     "name": "stdout",
     "output_type": "stream",
     "text": [
      "5 272741 272741 A G\n",
      "5 272748 272748 G C\n",
      "5 272755 272755 A G\n",
      "6 43301291 43301291 A C\n",
      "6 43305866 43305866 A G\n",
      "6 43308652 43308652 G A\n",
      "6 75841299 75841299 A G\n",
      "\n"
     ]
    }
   ],
   "source": [
    "awk 'NR==FNR{seen[$0]=1; next} seen[$0]' 010421_UKBB_Hearing_background_noise_f2257_175531ind_exomes_hearing_noise_cat.regenie.avinput 010421_UKBB_Hearing_difficulty_f2247_171970ind_exomes_hearing_diff_new.regenie.avinput "
   ]
  },
  {
   "cell_type": "code",
   "execution_count": 5,
   "metadata": {
    "kernel": "Bash"
   },
   "outputs": [
    {
     "name": "stdout",
     "output_type": "stream",
     "text": [
      "1 58468867 58468867 T C\n",
      "1 58468874 58468874 T C\n",
      "1 58468970 58468970 G T\n",
      "1 58539307 58539307 C T\n",
      "6 75841299 75841299 A G\n",
      "8 86556416 86556416 T G\n",
      "8 86558437 86558437 A C\n",
      "8 86558500 86558500 C T\n",
      "10 7292138 7292138 G A\n",
      "17 41827392 41827392 A C\n",
      "17 44848191 44848191 C T\n",
      "\n"
     ]
    }
   ],
   "source": [
    "awk 'NR==FNR{seen[$0]=1; next} seen[$0]' 010421_UKBB_Hearing_difficulty_f2247_171970ind_exomes_hearing_diff_new.regenie.avinput 010421_UKBB_Hearing_aid_f3393_128254ind_exomes_hearing_aid_cat.regenie.avinput"
   ]
  },
  {
   "cell_type": "code",
   "execution_count": 6,
   "metadata": {
    "kernel": "Bash"
   },
   "outputs": [
    {
     "name": "stdout",
     "output_type": "stream",
     "text": [
      "1 58468867 58468867 T C\n",
      "1 58468874 58468874 T C\n",
      "1 58468970 58468970 G T\n",
      "1 58539307 58539307 C T\n",
      "6 75362956 75362956 T C\n",
      "6 75841299 75841299 A G\n",
      "8 86556416 86556416 T G\n",
      "8 86558437 86558437 A C\n",
      "8 86558500 86558500 C T\n",
      "\n"
     ]
    }
   ],
   "source": [
    "awk 'NR==FNR{seen[$0]=1; next} seen[$0]' 010421_UKBB_f2247_f2257_136862ind_exomes_f2247_f2257.regenie.avinput 010421_UKBB_Hearing_aid_f3393_128254ind_exomes_hearing_aid_cat.regenie.avinput"
   ]
  },
  {
   "cell_type": "code",
   "execution_count": 8,
   "metadata": {
    "kernel": "Bash"
   },
   "outputs": [
    {
     "name": "stdout",
     "output_type": "stream",
     "text": [
      "1\t58468867\tT\tC\t1:58468867:T:C\t-0.168986\t0.021412099999999996\t7.055048440506522e-16\n",
      "1\t58468874\tT\tC\t1:58468874:T:C\t-0.168015\t0.0213657\t9.11381062129295e-16\n",
      "1\t58468970\tG\tT\t1:58468970:G:T\t-0.14103\t0.0156138\t6.13903345360935e-20\n",
      "1\t58539307\tC\tT\t1:58539307:C:T\t-0.13430799999999998\t0.0143388\t3.3853221281535305e-21\n",
      "2\t168834219\tT\tC\t2:168834219:T:C\t-0.130908\t0.021813\t1.029437536659268e-09\n",
      "6\t75362956\tT\tC\t6:75362956:T:C\t2.48143\t0.369753\t8.570575794832358e-09\n",
      "6\t75841299\tA\tG\t6:75841299:A:G\t2.9806\t0.407723\t1.2227847112296838e-10\n",
      "8\t86556416\tT\tG\t8:86556416:T:G\t-0.115771\t0.017346200000000003\t1.4047531026968791e-11\n",
      "8\t86558437\tA\tC\t8:86558437:A:C\t-0.114282\t0.0193435\t2.110425374828825e-09\n",
      "8\t86558500\tC\tT\t8:86558500:C:T\t-0.116954\t0.019379\t9.270219126904037e-10\n",
      "10\t7243670\tA\tG\t10:7243670:A:G\t-0.0980153\t0.0159944\t1.0312880846394044e-09\n",
      "10\t7276841\tT\tC\t10:7276841:T:C\t-0.133236\t0.0219836\t7.090877782620701e-10\n",
      "10\t7277326\tC\tA\t10:7277326:C:A\t-0.143172\t0.0223905\t7.409689339136985e-11\n",
      "10\t7292138\tG\tA\t10:7292138:G:A\t-0.11094100000000001\t0.0157167\t1.0779534330711129e-12\n",
      "17\t41827392\tA\tC\t17:41827392:A:C\t-0.14261600000000002\t0.0174949\t1.2563192085812206e-16\n",
      "17\t41827556\tG\tC\t17:41827556:G:C\t-0.14255299999999999\t0.0175112\t1.3893126817367537e-16\n",
      "17\t41827568\tG\tA\t17:41827568:G:A\t-0.142571\t0.0175149\t1.3816562311673272e-16\n",
      "17\t41827597\tG\tC\t17:41827597:G:C\t-0.136147\t0.0175178\t3.042986320313067e-15\n",
      "17\t44848191\tC\tT\t17:44848191:C:T\t-0.14491600000000002\t0.0193761\t2.745364414223407e-14\n",
      "\n"
     ]
    }
   ],
   "source": [
    "zcat /gpfs/gibbs/pi/dewan/data/UKBiobank/results/REGENIE_results/results_exome_data/f3393_hearing_aid_exomes/010421_UKBB_Hearing_aid_f3393_128254ind_exomes_hearing_aid_cat.regenie.snp_stats.gz | grep -w -f /home/dc2325/scratch60/output/010421_UKBB_Hearing_aid_f3393_128254ind_exomes_hearing_aid_cat.regenie.snp_annotate"
   ]
  },
  {
   "cell_type": "code",
   "execution_count": 9,
   "metadata": {
    "kernel": "Bash"
   },
   "outputs": [
    {
     "name": "stdout",
     "output_type": "stream",
     "text": [
      "5\t272741\tA\tG\t5:272741:A:G\t0.897546\t0.128497\t1.2220810223250552e-12\n",
      "5\t272748\tG\tC\t5:272748:G:C\t0.8718739999999999\t0.139898\t2.4925277377693566e-10\n",
      "5\t272755\tA\tG\t5:272755:A:G\t0.8530200000000001\t0.12476400000000001\t4.0766178334794515e-12\n",
      "6\t43301291\tA\tC\t6:43301291:A:C\t0.04535719999999999\t0.00720349\t2.987376772921112e-10\n",
      "6\t43305866\tA\tG\t6:43305866:A:G\t0.0454121\t0.00720402\t2.852462870044014e-10\n",
      "6\t43308652\tG\tA\t6:43308652:G:A\t0.044663800000000003\t0.00718951\t5.126842785315215e-10\n",
      "6\t75841299\tA\tG\t6:75841299:A:G\t2.93015\t0.673602\t3.333419717618388e-10\n",
      "\n"
     ]
    }
   ],
   "source": [
    "zcat /gpfs/gibbs/pi/dewan/data/UKBiobank/results/REGENIE_results/results_exome_data/f2257_hearing_noise_exomes/010421_UKBB_Hearing_background_noise_f2257_175531ind_exomes_hearing_noise_cat.regenie.snp_stats.gz  | grep -w -f /home/dc2325/scratch60/output/010421_UKBB_Hearing_background_noise_f2257_175531ind_exomes_hearing_noise_cat.regenie.snp_annotate"
   ]
  },
  {
   "cell_type": "code",
   "execution_count": 11,
   "metadata": {
    "kernel": "Bash"
   },
   "outputs": [
    {
     "name": "stdout",
     "output_type": "stream",
     "text": [
      "1\t58468867\tT\tC\t1:58468867:T:C\t0.0717153\t0.00923927\t1.1587773561551261e-14\n",
      "1\t58468874\tT\tC\t1:58468874:T:C\t0.0715995\t0.00922922\t1.1937132101928058e-14\n",
      "1\t58468970\tG\tT\t1:58468970:G:T\t0.0593697\t0.00684749\t5.851941823780803e-18\n",
      "1\t58506159\tG\tA\t1:58506159:G:A\t0.0802067\t0.013556499999999999\t4.0267994442394125e-09\n",
      "1\t58506268\tC\tA\t1:58506268:C:A\t0.08213530000000001\t0.013631799999999998\t2.092088248507645e-09\n",
      "1\t58539307\tC\tT\t1:58539307:C:T\t0.0580006\t0.00632463\t6.44465984741689e-20\n",
      "5\t272741\tA\tG\t5:272741:A:G\t1.19275\t0.125574\t4.1152857843551e-21\n",
      "5\t272748\tG\tC\t5:272748:G:C\t1.20544\t0.13772\t3.4268887043278663e-18\n",
      "5\t272755\tA\tG\t5:272755:A:G\t1.17113\t0.122546\t2.5409727055493115e-21\n",
      "5\t73773756\tA\tG\t5:73773756:A:G\t0.0452337\t0.00785184\t8.259999099997013e-09\n",
      "5\t73776529\tT\tC\t5:73776529:T:C\t0.04761169999999999\t0.0078087\t1.0857754055343505e-09\n",
      "5\t73780632\tG\tA\t5:73780632:G:A\t0.0471588\t0.00780284\t1.5153396952829279e-09\n",
      "5\t73780649\tGT\tG\t5:73780649:D:1\t0.04820119999999999\t0.00790071\t1.0603274386034904e-09\n",
      "5\t73780686\tC\tA\t5:73780686:C:A\t0.050593\t0.00779941\t8.741782564005269e-11\n",
      "5\t73794340\tA\tAGTT\t5:73794340:I:3\t0.04749930000000001\t0.00777282\t9.83105215281768e-10\n",
      "5\t73794436\tT\tC\t5:73794436:T:C\t0.0475961\t0.00780922\t1.0859254213126253e-09\n",
      "5\t73795301\tT\tA\t5:73795301:T:A\t0.0451906\t0.00779547\t6.77002075323486e-09\n",
      "5\t73795403\tC\tT\t5:73795403:C:T\t0.044505\t0.00779368\t1.1303944069211205e-08\n",
      "6\t43301291\tA\tC\t6:43301291:A:C\t0.05248730000000001\t0.007990899999999999\t4.892152651344186e-11\n",
      "6\t43302413\tC\tT\t6:43302413:C:T\t-0.0469717\t0.00858441\t4.261475539763847e-08\n",
      "6\t43305866\tA\tG\t6:43305866:A:G\t0.0523539\t0.00799111\t5.480245321768499e-11\n",
      "6\t43308652\tG\tA\t6:43308652:G:A\t0.05186\t0.00797626\t7.640116835170198e-11\n",
      "6\t75841299\tA\tG\t6:75841299:A:G\t2.87207\t0.5234880000000001\t2.826832007002004e-12\n",
      "6\t133468590\tG\tA\t6:133468590:G:A\t0.0478955\t0.00833092\t9.335336992792562e-09\n",
      "6\t158071628\tC\tT\t6:158071628:C:T\t0.287393\t0.0507519\t2.5065132226738672e-08\n",
      "8\t86556416\tT\tG\t8:86556416:T:G\t0.0503167\t0.00759627\t4.11149721104523e-11\n",
      "8\t86558437\tA\tC\t8:86558437:A:C\t0.057500199999999994\t0.00846386\t1.327700136790083e-11\n",
      "8\t86558500\tC\tT\t8:86558500:C:T\t0.057677599999999996\t0.00846839\t1.1827691816995279e-11\n",
      "10\t7292138\tG\tA\t10:7292138:G:A\t0.037897900000000005\t0.00689304\t4.150209307142593e-08\n",
      "11\t118375306\tT\tG\t11:118375306:T:G\t0.107055\t0.018939599999999997\t1.9533047222277816e-08\n",
      "17\t41827392\tA\tC\t17:41827392:A:C\t0.0427607\t0.00765119\t2.524236254343612e-08\n",
      "17\t44848191\tC\tT\t17:44848191:C:T\t0.0543679\t0.00841803\t1.250402979894237e-10\n",
      "22\t38086345\tGTGCGGGAGCGGGACTGGCCATCCCAGTACTCCGAGGGTGCTA\tG\t22:38086345:D:42\t0.048302199999999997\t0.00879307\t4.1099827584847344e-08\n",
      "22\t50549676\tG\tA\t22:50549676:G:A\t0.13020299999999999\t0.018768\t5.786287388179515e-12\n",
      "\n"
     ]
    }
   ],
   "source": [
    "zcat /gpfs/gibbs/pi/dewan/data/UKBiobank/results/REGENIE_results/results_exome_data/f2247_hearing_difficulty_exomes/010421_UKBB_Hearing_difficulty_f2247_171970ind_exomes_hearing_diff_new.regenie.snp_stats.gz | grep -w -f /home/dc2325/scratch60/output/010421_UKBB_Hearing_difficulty_f2247_171970ind_exomes_hearing_diff_new.regenie.snp_annotate"
   ]
  },
  {
   "cell_type": "code",
   "execution_count": 13,
   "metadata": {
    "kernel": "Bash"
   },
   "outputs": [
    {
     "name": "stdout",
     "output_type": "stream",
     "text": [
      "1\t46132597\tC\tA\t1:46132597:C:A\t-0.048425199999999995\t0.00873988\t2.9676316895317354e-08\n",
      "1\t58468867\tT\tC\t1:58468867:T:C\t0.0679535\t0.010248700000000001\t4.1133910615245514e-11\n",
      "1\t58468874\tT\tC\t1:58468874:T:C\t0.0689153\t0.0102364\t2.0682355559317648e-11\n",
      "1\t58468970\tG\tT\t1:58468970:G:T\t0.0606005\t0.00760586\t2.052579560952533e-15\n",
      "1\t58506159\tG\tA\t1:58506159:G:A\t0.0846227\t0.0150871\t2.4171299521044176e-08\n",
      "1\t58506268\tC\tA\t1:58506268:C:A\t0.0862086\t0.0151635\t1.5624999063995115e-08\n",
      "1\t58539307\tC\tT\t1:58539307:C:T\t0.0607587\t0.00701922\t6.366489102003704e-18\n",
      "5\t272741\tA\tG\t5:272741:A:G\t1.3423\t0.14832599999999999\t6.737518954705801e-20\n",
      "5\t272748\tG\tC\t5:272748:G:C\t1.33381\t0.162199\t1.0801896208818909e-16\n",
      "5\t272755\tA\tG\t5:272755:A:G\t1.30036\t0.143215\t6.297961479295158e-20\n",
      "5\t73773756\tA\tG\t5:73773756:A:G\t0.052482299999999996\t0.00871943\t1.727547510306292e-09\n",
      "5\t73776529\tT\tC\t5:73776529:T:C\t0.0514956\t0.00867282\t2.9077696549191336e-09\n",
      "5\t73780632\tG\tA\t5:73780632:G:A\t0.0511833\t0.00866646\t3.527361740282659e-09\n",
      "5\t73780649\tGT\tG\t5:73780649:D:1\t0.0524759\t0.00877407\t2.2297696506992548e-09\n",
      "5\t73780686\tC\tA\t5:73780686:C:A\t0.05612809999999999\t0.00866665\t9.356210840627022e-11\n",
      "5\t73794340\tA\tAGTT\t5:73794340:I:3\t0.053645500000000006\t0.00863391\t5.140318154262012e-10\n",
      "5\t73794436\tT\tC\t5:73794436:T:C\t0.052490499999999995\t0.00867174\t1.4078941357986643e-09\n",
      "5\t73795301\tT\tA\t5:73795301:T:A\t0.050319\t0.00865905\t6.219564843271939e-09\n",
      "5\t73795403\tC\tT\t5:73795403:C:T\t0.0494952\t0.00865717\t1.0851005909504758e-08\n",
      "6\t33189182\tA\tG\t6:33189182:A:G\t1.8974099999999998\t0.364168\t2.1426439059235436e-08\n",
      "6\t43301291\tA\tC\t6:43301291:A:C\t0.0642934\t0.00889483\t4.634469197362865e-13\n",
      "6\t43302413\tC\tT\t6:43302413:C:T\t-0.052045100000000004\t0.00955062\t4.8281416152936425e-08\n",
      "6\t43305866\tA\tG\t6:43305866:A:G\t0.06419580000000001\t0.00889485\t5.025739801095915e-13\n",
      "6\t43308652\tG\tA\t6:43308652:G:A\t0.0634645\t0.00887844\t8.336811846196331e-13\n",
      "6\t75362956\tT\tC\t6:75362956:T:C\t1.85378\t0.350327\t1.610015288290602e-08\n",
      "6\t75841299\tA\tG\t6:75841299:A:G\t3.8865\t0.8627049999999999\t7.549183812702828e-14\n",
      "6\t158071628\tC\tT\t6:158071628:C:T\t0.32104\t0.0559261\t1.592172065512453e-08\n",
      "8\t86556416\tT\tG\t8:86556416:T:G\t0.053445900000000005\t0.00842771\t2.6190874527768585e-10\n",
      "8\t86558437\tA\tC\t8:86558437:A:C\t0.0615681\t0.00938904\t6.514783683512204e-11\n",
      "8\t86558500\tC\tT\t8:86558500:C:T\t0.061608500000000004\t0.00939653\t6.573550444548967e-11\n",
      "22\t38086345\tGTGCGGGAGCGGGACTGGCCATCCCAGTACTCCGAGGGTGCTA\tG\t22:38086345:D:42\t0.0539385\t0.00977336\t3.5535301125693476e-08\n",
      "22\t50549676\tG\tA\t22:50549676:G:A\t0.117595\t0.020826400000000002\t2.0104811242075885e-08\n",
      "\n"
     ]
    }
   ],
   "source": [
    "zcat /gpfs/gibbs/pi/dewan/data/UKBiobank/results/REGENIE_results/results_exome_data/f2247_f2257_combined_exomes/010421_UKBB_f2247_f2257_136862ind_exomes_f2247_f2257.regenie.snp_stats.gz | grep -w -f /home/dc2325/scratch60/output/010421_UKBB_f2247_f2257_136862ind_exomes_f2247_f2257.regenie.snp_annotate"
   ]
  },
  {
   "cell_type": "code",
   "execution_count": 24,
   "metadata": {
    "kernel": "Bash"
   },
   "outputs": [
    {
     "name": "stdout",
     "output_type": "stream",
     "text": [
      "rs1707304\n",
      "rs697591\n",
      "rs822062\n",
      "rs338240\n",
      "rs3087585\n",
      "rs11207245\n",
      "rs4704097\n",
      "rs7714670\n",
      "rs11949860\n",
      "rs6453022\n",
      "rs10683146\n",
      "rs7716253\n",
      "rs2973549\n",
      "rs2973548\n",
      "rs1574430\n",
      "rs2270860\n",
      "rs2242416\n",
      "rs2254303\n",
      "rs146694394\n",
      "rs2304787\n",
      "rs1062850\n",
      "rs1062851\n",
      "rs36062310\n",
      "\n"
     ]
    }
   ],
   "source": [
    "zcat /gpfs/gibbs/pi/dewan/data/UKBiobank/results/FastGWA_results/results_imputed_data/f2247_f2257_combined/200828_UKBB_f2247_f2257_f2247_f2257.fastGWA.snp_stats.gz | awk '{print $5}' | grep -w -f /home/dc2325/scratch60/output/010421_UKBB_f2247_f2257_136862ind_exomes_f2247_f2257.regenie.hg38_multianno.csv.hg38_multianno.snplist"
   ]
  },
  {
   "cell_type": "code",
   "execution_count": 20,
   "metadata": {
    "kernel": "Bash"
   },
   "outputs": [
    {
     "name": "stdout",
     "output_type": "stream",
     "text": [
      "rs697591\n",
      "rs822062\n",
      "rs338240\n",
      "rs3087585\n",
      "rs11207245\n",
      "rs4704097\n",
      "rs7714670\n",
      "rs11949860\n",
      "rs6453022\n",
      "rs10683146\n",
      "rs7716253\n",
      "rs2973549\n",
      "rs2973548\n",
      "rs1574430\n",
      "rs2270860\n",
      "rs2242416\n",
      "rs2254303\n",
      "rs9493627\n",
      "rs146694394\n",
      "rs2304787\n",
      "rs1062850\n",
      "rs1062851\n",
      "rs749165\n",
      "rs112243842\n",
      "rs9896766\n",
      "rs12164\n",
      "rs36062310\n",
      "\n"
     ]
    }
   ],
   "source": [
    "zcat /gpfs/gibbs/pi/dewan/data/UKBiobank/results/FastGWA_results/results_imputed_data/f2247_hearing_difficulty/200828_UKBB_Hearing_difficulty_f2247_hearing_diff_new.fastGWA.snp_stats.gz | awk '{print $5}' | grep -w -f /home/dc2325/scratch60/output/010421_UKBB_Hearing_difficulty_f2247_171970ind_exomes_hearing_diff_new.regenie.hg38_multianno.snplist "
   ]
  },
  {
   "cell_type": "code",
   "execution_count": 21,
   "metadata": {
    "kernel": "Bash"
   },
   "outputs": [
    {
     "name": "stdout",
     "output_type": "stream",
     "text": [
      "rs1574430\n",
      "rs2242416\n",
      "rs2254303\n",
      "\n"
     ]
    }
   ],
   "source": [
    "zcat /gpfs/gibbs/pi/dewan/data/UKBiobank/results/FastGWA_results/results_imputed_data/f2257_hearing_background_noise/200828_UKBB_Hearing_background_noise_f2257_hearing_noise_cat.fastGWA.snp_stats.gz | awk '{print $5}' | grep -w -f /home/dc2325/scratch60/output/010421_UKBB_Hearing_background_noise_f2257_175531ind_exomes_hearing_noise_cat.regenie.hg38_multianno.snplist"
   ]
  },
  {
   "cell_type": "code",
   "execution_count": 25,
   "metadata": {
    "kernel": "Bash"
   },
   "outputs": [
    {
     "name": "stdout",
     "output_type": "stream",
     "text": [
      "\n"
     ]
    }
   ],
   "source": [
    "zcat /gpfs/gibbs/pi/dewan/data/UKBiobank/results/FastGWA_results/results_imputed_data/f3393_hearing_aid/200828_UKBB_Hearing_aid_f3393_hearing_aid_cat.fastGWA.snp_stats.gz | awk '{print $5}' | grep -w -f /home/dc2325/scratch60/output/010421_UKBB_Hearing_aid_f3393_128254ind_exomes_hearing_aid_cat.regenie.hg38_multianno.snplist"
   ]
  },
  {
   "cell_type": "code",
   "execution_count": null,
   "metadata": {
    "kernel": "Bash"
   },
   "outputs": [],
   "source": []
  },
  {
   "cell_type": "markdown",
   "metadata": {
    "kernel": "Bash"
   },
   "source": [
    "### To get the snps from the csv file"
   ]
  },
  {
   "cell_type": "code",
   "execution_count": null,
   "metadata": {
    "kernel": "Bash"
   },
   "outputs": [],
   "source": [
    "cat 010421_UKBB_Hearing_difficulty_f2247_171970ind_exomes_hearing_diff_new.regenie.hg38_multianno.csv | awk -vFPAT='([^,]*)|(\"[^\"]+\")' -vOFS=, '{print $77}' | sed 's/\"//g' > 010421_UKBB_Hearing_difficulty_f2247_171970ind_exomes_hearing_diff_new.regenie.hg38_multianno.snplist\n"
   ]
  },
  {
   "cell_type": "code",
   "execution_count": null,
   "metadata": {
    "kernel": "Bash"
   },
   "outputs": [],
   "source": [
    "cat 010421_UKBB_Hearing_background_noise_f2257_175531ind_exomes_hearing_noise_cat.regenie.hg38_multianno.csv | awk -vFPAT='([^,]*)|(\"[^\"]+\")' -vOFS=, '{print $77}' | sed 's/\"//g' > 010421_UKBB_Hearing_background_noise_f2257_175531ind_exomes_hearing_noise_cat.regenie.hg38_multianno.snplist\n"
   ]
  },
  {
   "cell_type": "code",
   "execution_count": null,
   "metadata": {
    "kernel": "Bash"
   },
   "outputs": [],
   "source": [
    "cat 010421_UKBB_Hearing_aid_f3393_128254ind_exomes_hearing_aid_cat.regenie.hg38_multianno.csv | awk -vFPAT='([^,]*)|(\"[^\"]+\")' -vOFS=, '{print $77}' | sed 's/\"//g' > 010421_UKBB_Hearing_aid_f3393_128254ind_exomes_hearing_aid_cat.regenie.hg38_multianno.snplist"
   ]
  }
 ],
 "metadata": {
  "kernelspec": {
   "display_name": "SoS",
   "language": "sos",
   "name": "sos"
  },
  "language_info": {
   "codemirror_mode": "sos",
   "file_extension": ".sos",
   "mimetype": "text/x-sos",
   "name": "sos",
   "nbconvert_exporter": "sos_notebook.converter.SoS_Exporter",
   "pygments_lexer": "sos"
  },
  "sos": {
   "kernels": [
    [
     "Bash",
     "calysto_bash",
     "Bash",
     "#E6EEFF",
     "shell"
    ],
    [
     "SoS",
     "sos",
     "",
     "",
     "sos"
    ]
   ],
   "version": "0.21.21"
  }
 },
 "nbformat": 4,
 "nbformat_minor": 4
}
