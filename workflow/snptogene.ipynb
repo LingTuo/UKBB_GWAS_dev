{
 "cells": [
  {
   "cell_type": "markdown",
   "metadata": {
    "kernel": "SoS"
   },
   "source": [
    "# Post-GWAS analyses"
   ]
  },
  {
   "cell_type": "markdown",
   "metadata": {
    "kernel": "SoS"
   },
   "source": [
    "# Aim\n",
    "\n",
    "The aim of this notebook is to be able to carry out post-GWAS analyses such as SNP annotation to genes, expression pathway and other.\n",
    "\n",
    "Here [spnGeneSets v1.12](https://www.umc.edu/SoPH/Departments-and-Faculty/Data-Science/Research/Services/Software.html) is used, however FUMA is a web-based resource that is also useful for this purpose \n"
   ]
  },
  {
   "cell_type": "code",
   "execution_count": 1,
   "metadata": {
    "kernel": "SoS"
   },
   "outputs": [],
   "source": [
    "[global]\n",
    "# the output directory for generated files\n",
    "parameter: cwd = path\n",
    "# Path sumstats file\n",
    "parameter: sumstatsFile = path\n",
    "#Job size\n",
    "parameter:job_size=1"
   ]
  },
  {
   "cell_type": "code",
   "execution_count": 2,
   "metadata": {
    "kernel": "SoS"
   },
   "outputs": [],
   "source": [
    "# Annotate snps to gene\n",
    "[default]\n",
    "# Column name for BP\n",
    "parameter: bp = 'POS'\n",
    "# Column name for p-value\n",
    "parameter: pval = 'P'\n",
    "# Column name for SNP\n",
    "parameter: snp = 'SNP'\n",
    "input: sumstatsFile\n",
    "output: f'{_input:nn}.gene_ann'      \n",
    "task: trunk_workers = 1, trunk_size = job_size, walltime = '3h', mem = '10G', tags = f'{step_name}_{_output:bn}'\n",
    "R: expand='${ }', stderr = f'{_output:n}.stderr', stdout = f'{_output:n}.stdout'\n",
    "    library('snpGeneSets')\n",
    "    library('dplyr')\n",
    "    # Import the sumstats file as dataframe\n",
    "    data <- read.table(gzfile('${_input}'), header=T)\n",
    "    head(data)\n",
    "    # Filter SNPs with p-val <5e-06\n",
    "    # Subset data to obtain only chr, pos and snp for gene mapping\n",
    "    sig.p <- data %>%\n",
    "      filter(P < 1e-5) %>%\n",
    "      mutate(chr = CHR,\n",
    "             pos = ${bp},\n",
    "             snp = as.character(${snp})) %>%\n",
    "      select(chr, pos, snp)\n",
    "    head(sig.p)\n",
    "    # Get the annotation of SNPs with different genome assemblies\n",
    "    snpMapAnn37<- getSNPMap(sig.p$snp, GRCh=37)\n",
    "    # Mapping SNPs to genes (define gene boundary ‘up’ for the upstream region and ‘down’ for the downstream region with default value of 2,000 bp for both)\n",
    "    snpGeneMapAnn<- snp2Gene(snpMapAnn37$rsid_map$snp)\n",
    "    cat(\"The unique number of genes is\",length(unique(snpGeneMapAnn$map$gene_id),\"\\n\"))\n",
    "    cat(\"The number of variants that could not be mapped to a gene is:\",length(snpGeneMapAnn$other),\"\\n\")\n",
    "    #Get the gene-name and gene-id for the mapped variants\n",
    "    gene_mapped <- getGeneMap(snpGeneMapAnn$map$gene_id)$gene_map\n",
    "    # Merge the datasets\n",
    "    snp_gene = merge(x = snpMapAnn37$rsid_map,y = snpGeneMapAnn$map[,c(\"snp\", \"gene_id\")],by=\"snp\", all.x=TRUE)\n",
    "    snp_gene_2 = merge(x = snp_gene,y = gene_mapped[,c(\"gene_id\", \"gene_name\")],by=\"gene_id\", all.x=TRUE)\n",
    "    names(snp_gene_2)[names(snp_gene_2) == 'snp'] <- 'SNP'\n",
    "    snp_gene_3 = merge(x = snp_gene_2,y = data[,c(\"A1\", \"A2\", \"N\", \"AF1\",\"P\",\"BETA\", \"SE\", \"INFO\",\"SNP\")],by=\"SNP\", all.x=TRUE)\n",
    "    # Get the final table with ordered pval\n",
    "    final_gene_set <- snp_gene_3 %>%\n",
    "     select(chr, ${snp}, pos, A1, A2, N, AF1, BETA, SE, ${pval}, INFO, gene_id, gene_name) %>%\n",
    "     arrange(P)\n",
    "    names(final_gene_set)[names(final_gene_set) == 'chr'] <- 'CHR'\n",
    "    names(final_gene_set)[names(final_gene_set) == 'pos'] <- 'POS'\n",
    "    # Write results to a table\n",
    "    write.table(final_gene_set, '${_output}', sep = \"\\t\", quote=FALSE, row.names=FALSE)"
   ]
  }
 ],
 "metadata": {
  "kernelspec": {
   "display_name": "SoS",
   "language": "sos",
   "name": "sos"
  },
  "language_info": {
   "codemirror_mode": "sos",
   "file_extension": ".sos",
   "mimetype": "text/x-sos",
   "name": "sos",
   "nbconvert_exporter": "sos_notebook.converter.SoS_Exporter",
   "pygments_lexer": "sos"
  },
  "sos": {
   "kernels": [
    [
     "R",
     "ir",
     "R",
     "#DCDCDA",
     ""
    ],
    [
     "SoS",
     "sos",
     "",
     "",
     "sos"
    ]
   ],
   "version": "0.21.12"
  }
 },
 "nbformat": 4,
 "nbformat_minor": 4
}
