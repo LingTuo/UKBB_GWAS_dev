{
 "cells": [
  {
   "cell_type": "markdown",
   "metadata": {
    "kernel": "SoS"
   },
   "source": [
    "# Post-GWAS analyses"
   ]
  },
  {
   "cell_type": "markdown",
   "metadata": {
    "kernel": "SoS"
   },
   "source": [
    "# Aim\n",
    "\n",
    "The aim of this notebook is to be able to carry out post-GWAS analyses such as SNP annotation to genes, expression pathway and other.\n",
    "\n",
    "Here [spnGeneSets v1.12](https://www.umc.edu/SoPH/Departments-and-Faculty/Data-Science/Research/Services/Software.html) is used, however FUMA is a web-based resource that is also useful for this purpose \n"
   ]
  },
  {
   "cell_type": "markdown",
   "metadata": {
    "kernel": "SoS"
   },
   "source": [
    "## Usage\n",
    "\n"
   ]
  },
  {
   "cell_type": "code",
   "execution_count": 1,
   "metadata": {
    "kernel": "SoS"
   },
   "outputs": [],
   "source": [
    "[global]\n",
    "# the output directory for generated files\n",
    "parameter: cwd = path\n",
    "# Path sumstats file\n",
    "parameter: sumstatsFile = path\n",
    "# Genome assembly hg_37, hg_38\n",
    "parameter: hg = int\n",
    "#Job size\n",
    "parameter:job_size=1\n",
    "# Load annovar module from cluster\n",
    "parameter: annovar_module = '''\n",
    "module load ANNOVAR/2020Jun08-foss-2018b-Perl-5.28.0\n",
    "echo \"Module annovar loaded\"\n",
    "{cmd}\n",
    "'''\n",
    "# Software container option\n",
    "parameter: container_annovar = 'gaow/gatk4-annovar'"
   ]
  },
  {
   "cell_type": "code",
   "execution_count": 2,
   "metadata": {
    "kernel": "SoS"
   },
   "outputs": [],
   "source": [
    "# Annotate snps to gene\n",
    "[snp_to_gene]\n",
    "# Column name for BP\n",
    "parameter: bp = 'POS'\n",
    "# Column name for p-value\n",
    "parameter: pval = 'P'\n",
    "# Column name for SNP\n",
    "parameter: snp = 'SNP'\n",
    "input: sumstatsFile\n",
    "output: f'{_input:nn}.gene_ann'      \n",
    "task: trunk_workers = 1, trunk_size = job_size, walltime = '3h', mem = '10G', tags = f'{step_name}_{_output:bn}'\n",
    "R: expand='${ }', stderr = f'{_output:n}.stderr', stdout = f'{_output:n}.stdout'\n",
    "    library('snpGeneSets')\n",
    "    library('dplyr')\n",
    "    # Import the sumstats file as dataframe\n",
    "    data <- read.table(gzfile('${_input}'), header=T)\n",
    "    head(data)\n",
    "    # Filter SNPs with p-val <5e-06\n",
    "    # Subset data to obtain only chr, pos and snp for gene mapping\n",
    "    sig.p <- data %>%\n",
    "      filter(P < 5e-8) %>%\n",
    "      mutate(chr = CHR,\n",
    "             pos = ${bp},\n",
    "             snp = as.character(${snp})) %>%\n",
    "      select(chr, pos, snp)\n",
    "    head(sig.p)\n",
    "    # Get the annotation of SNPs with different genome assemblies\n",
    "    snpMapAnn<- getSNPMap(sig.p$snp, GRCh=${hg})\n",
    "    # Mapping SNPs to genes (define gene boundary ‘up’ for the upstream region and ‘down’ for the downstream region with default value of 2,000 bp for both)\n",
    "    snpGeneMapAnn<- snp2Gene(snpMapAnn$rsid_map$snp)\n",
    "    cat(\"The unique number of genes is\",length(unique(snpGeneMapAnn$map$gene_id),\"\\n\"))\n",
    "    cat(\"The number of variants that could not be mapped to a gene is:\",length(snpGeneMapAnn$other),\"\\n\")\n",
    "    #Get the gene-name and gene-id for the mapped variants\n",
    "    gene_mapped <- getGeneMap(snpGeneMapAnn$map$gene_id)$gene_map\n",
    "    # Merge the datasets\n",
    "    snp_gene = merge(x = snpMapAnn37$rsid_map,y = snpGeneMapAnn$map[,c(\"snp\", \"gene_id\")],by=\"snp\", all.x=TRUE)\n",
    "    snp_gene_2 = merge(x = snp_gene,y = gene_mapped[,c(\"gene_id\", \"gene_name\")],by=\"gene_id\", all.x=TRUE)\n",
    "    names(snp_gene_2)[names(snp_gene_2) == 'snp'] <- 'SNP'\n",
    "    snp_gene_3 = merge(x = snp_gene_2,y = data[,c(\"A1\", \"A2\", \"N\", \"AF1\",\"P\",\"BETA\", \"SE\", \"INFO\",\"SNP\")],by=\"SNP\", all.x=TRUE)\n",
    "    # Get the final table with ordered pval\n",
    "    final_gene_set <- snp_gene_3 %>%\n",
    "     select(chr, ${snp}, pos, A1, A2, N, AF1, BETA, SE, ${pval}, INFO, gene_id, gene_name) %>%\n",
    "     arrange(P)\n",
    "    names(final_gene_set)[names(final_gene_set) == 'chr'] <- 'CHR'\n",
    "    names(final_gene_set)[names(final_gene_set) == 'pos'] <- 'POS'\n",
    "    # Write results to a table\n",
    "    write.table(final_gene_set, '${_output}', sep = \"\\t\", quote=FALSE, row.names=FALSE)"
   ]
  },
  {
   "cell_type": "code",
   "execution_count": null,
   "metadata": {
    "kernel": "SoS"
   },
   "outputs": [],
   "source": [
    "# Merge all the bimfiles into a single file to use later with awk\n",
    "# Only need to run this cell once\n",
    "[bim_merge]\n",
    "# Path to the original bim files\n",
    "paremeter: bimfiles = path\n",
    "# Name for the merged bim files\n",
    "parameter: bim_name = path\n",
    "input: bimfiles\n",
    "output: bim_name\n",
    "task: trunk_workers = 1, walltime = '10h', mem = '10G', cores = numThreads, tags = f'{step_name}_{_output:bn}'\n",
    "bash: expand= \"${ }\", stderr = f'{_output:n}.stderr', stdout = f'{_output:n}.stdout' \n",
    "      cat ${_input} > ${_output}"
   ]
  },
  {
   "cell_type": "code",
   "execution_count": null,
   "metadata": {
    "kernel": "SoS"
   },
   "outputs": [],
   "source": [
    "# Get the list of significantly associated SNPs\n",
    "[annovar_1]\n",
    "# Column name for BP\n",
    "parameter: bp = 'POS'\n",
    "# Column name for p-value\n",
    "parameter: pval = 'P'\n",
    "# Column name for SNP\n",
    "parameter: snp = 'SNP'\n",
    "input: sumstatsFile\n",
    "output: f'{cwd}/{_input:bnn}.snp_annotate'\n",
    "task: trunk_workers = 1, trunk_size = job_size, walltime = '3h', mem = '10G', tags = f'{step_name}_{_output:bn}'\n",
    "R: expand='${ }', stderr = f'{_output}.stderr', stdout = f'{_output}.stdout'\n",
    "    library('dplyr')\n",
    "    # Import the sumstats file as dataframe\n",
    "    data <- read.table(gzfile('${_input}'), header=T)\n",
    "    # Filter SNPs with p-val <5e-06\n",
    "    # Subset data to obtain only chr, pos and snp for gene mapping\n",
    "    sig.p <- data %>%\n",
    "      filter(P < 5e-8) %>%\n",
    "      select(SNP)\n",
    "    write.table(sig.p, '${_output}', sep = \" \", quote=FALSE, row.names=FALSE, col.names=FALSE) "
   ]
  },
  {
   "cell_type": "code",
   "execution_count": null,
   "metadata": {
    "kernel": "SoS"
   },
   "outputs": [],
   "source": [
    "# Get chr, start, end, ref_allele, alt_allele format\n",
    "[annovar_2]\n",
    "parameter: bim_name = path\n",
    "output: f'{_input:n}.avinput'\n",
    "task: trunk_workers = 1, walltime = '10h', mem = '10G', cores = numThreads, tags = f'{step_name}_{_output:bn}'\n",
    "bash: expand= \"${ }\", stderr = f'{_output}.stderr', stdout = f'{_output}.stdout' \n",
    "    awk -F\" \" 'FNR==NR {lines[$1]; next} $2 in lines ' ${_input} ${bim_name} > ${_output:n}.tmp\n",
    "    awk '{if ($2 ~ /D/) {print $1, $4, $4 + (length ($6) - length ($5)), $6, $5 } else {print $1, $4, $4, $6, $5 }}'  ${_output:n}.tmp >  ${_output}\n",
    "    # remove temporary files\n",
    "    rm -f ${_output:n}.tmp "
   ]
  },
  {
   "cell_type": "code",
   "execution_count": null,
   "metadata": {
    "kernel": "SoS"
   },
   "outputs": [],
   "source": [
    "# Annotate variants file using ANNOVAR\n",
    "[annovar_3]\n",
    "# humandb path for ANNOVAR\n",
    "parameter: humandb = path\n",
    "# Human genome build\n",
    "parameter: build = 'hg38'\n",
    "#add xreffile to option without -exonicsplicing\n",
    "#mart_export_2019_LOFtools3.txt #xreffile latest option -> Phenotype description,HGNC symbol,MIM morbid description,CGD_CONDITION,CGD_inh,CGD_man,CGD_comm,LOF_tools\n",
    "#parameter: x_ref = path(f\"{humandb}/mart_export_2019_LOFtools3.txt\")\n",
    "# Annovar protocol\n",
    "parameter: protocol = ['refGene', 'refGeneWithVer', 'knownGene', 'ensGene', 'phastConsElements30way', 'encRegTfbsClustered', 'gwasCatalog', 'gnomad211_genome', 'gnomad211_exome', 'gme', 'kaviar_20150923', 'abraom', 'avsnp150', 'dbnsfp41a', 'dbscsnv11', 'regsnpintron', 'clinvar_20200316', 'gene4denovo201907']\n",
    "# Annovar operation\n",
    "parameter: operation = ['g', 'g', 'g', 'g', 'r', 'r', 'r', 'f', 'f', 'f', 'f', 'f', 'f', 'f', 'f', 'f', 'f', 'f']\n",
    "# Annovar args\n",
    "parameter: arg = ['\"-splicing 12 -exonicsplicing\"', '\"-splicing 30\"', '\"-splicing 12 -exonicsplicing\"', '\"-splicing 12\"', '', '', '', '', '', '', '', '', '', '', '', '', '', '']\n",
    "output: f'{cwd}/{_input:bn}.{build}_multianno.csv'\n",
    "task: trunk_workers = 1, walltime = '10h', mem = '30G', cores = numThreads, tags = f'{step_name}_{_output:bn}', template = '{cmd}' if executable('annotate_variation.pl').target_exists() else annovar_module\n",
    "bash: container=container_annovar, volumes=[f'{humandb:a}:{humandb:a}'], expand=\"${ }\", stderr=f'{_output}.stderr', stdout=f'{_output}.stdout'\n",
    "    #do not add -intronhgvs as option -> writes cDNA variants as HGVS but creates issues (+2 splice site reported only)\n",
    "    #-nastring . can only be . for VCF files\n",
    "    #regsnpintron might cause shifted lines (be carefull using)\n",
    "    table_annovar.pl \\\n",
    "        ${_input} \\\n",
    "        ${humandb} \\\n",
    "        -buildver ${build} \\\n",
    "        -out ${_output:nn}\\\n",
    "        -remove \\\n",
    "        -polish \\\n",
    "        -nastring . \\\n",
    "        -protocol ${\",\".join(protocol)} \\\n",
    "        -operation ${\",\".join(operation)} \\\n",
    "        -arg ${\",\".join(arg)} \\\n",
    "        -csvout "
   ]
  },
  {
   "cell_type": "markdown",
   "metadata": {
    "kernel": "SoS"
   },
   "source": [
    "## To run this notebook"
   ]
  },
  {
   "cell_type": "code",
   "execution_count": 6,
   "metadata": {
    "kernel": "Bash"
   },
   "outputs": [
    {
     "name": "stdout",
     "output_type": "stream",
     "text": [
      "INFO: Running \u001b[32mannovar_1\u001b[0m: Get the list of significantly associated SNPs\n",
      "INFO: \u001b[32mannovar_1\u001b[0m is \u001b[32mcompleted\u001b[0m.\n",
      "INFO: \u001b[32mannovar_1\u001b[0m output:   \u001b[32m/home/dc2325/scratch60/output/010421_UKBB_Hearing_aid_f3393_128254ind_exomes_hearing_aid_cat.regenie.snp_annotate\u001b[0m\n",
      "INFO: Running \u001b[32mannovar_2\u001b[0m: Get chr, start, end, ref_allele, alt_allele format\n",
      "INFO: \u001b[32mannovar_2\u001b[0m is \u001b[32mcompleted\u001b[0m.\n",
      "INFO: \u001b[32mannovar_2\u001b[0m output:   \u001b[32m/home/dc2325/scratch60/output/010421_UKBB_Hearing_aid_f3393_128254ind_exomes_hearing_aid_cat.regenie.avinput\u001b[0m\n",
      "INFO: Running \u001b[32mannovar_3\u001b[0m: Annotate variants file using ANNOVAR\n",
      "INFO: \u001b[32mannovar_3\u001b[0m is \u001b[32mcompleted\u001b[0m.\n",
      "INFO: \u001b[32mannovar_3\u001b[0m output:   \u001b[32m/home/dc2325/scratch60/output/010421_UKBB_Hearing_aid_f3393_128254ind_exomes_hearing_aid_cat.regenie.hg38_multianno.csv\u001b[0m\n",
      "INFO: Workflow annovar (ID=w85450d9626e3d7a0) is executed successfully with 3 completed steps.\n"
     ]
    }
   ],
   "source": [
    "cwd=/home/dc2325/scratch60/output/\n",
    "sumstatsFile=/gpfs/gibbs/pi/dewan/data/UKBiobank/results/REGENIE_results/results_exome_data/f3393_hearing_aid_exomes/010421_UKBB_Hearing_aid_f3393_128254ind_exomes_hearing_aid_cat.regenie.snp_stats.gz\n",
    "hg=38\n",
    "job_size=1\n",
    "container_annovar=/home/dc2325/scratch60/annovar.sif\n",
    "bimfiles=`echo /gpfs/gibbs/pi/dewan/data/UKBiobank/genotype_files/ukb28374_exomedata/exome_data_OCT2020/ukb23155_c{1..22}_b0_v1.bim`\n",
    "bim_name=/home/dc2325/scratch60/output/ukb23155_chr1_chr22.bim\n",
    "humandb=/gpfs/ysm/datasets/db/annovar/humandb\n",
    "\n",
    "sos run ~/project/UKBB_GWAS_dev/workflow/snptogene.ipynb annovar \\\n",
    "    --cwd $cwd \\\n",
    "    --sumstatsFile $sumstatsFile\\\n",
    "    --bim_name $bim_name \\\n",
    "    --hg $hg \\\n",
    "    --job_size $job_size \\\n",
    "    --humandb $humandb\\\n",
    "    --container_annovar $container_annovar\\\n",
    "    -s build"
   ]
  },
  {
   "cell_type": "code",
   "execution_count": null,
   "metadata": {
    "kernel": "Bash"
   },
   "outputs": [],
   "source": []
  }
 ],
 "metadata": {
  "kernelspec": {
   "display_name": "SoS",
   "language": "sos",
   "name": "sos"
  },
  "language_info": {
   "codemirror_mode": "sos",
   "file_extension": ".sos",
   "mimetype": "text/x-sos",
   "name": "sos",
   "nbconvert_exporter": "sos_notebook.converter.SoS_Exporter",
   "pygments_lexer": "sos"
  },
  "sos": {
   "kernels": [
    [
     "Bash",
     "calysto_bash",
     "Bash",
     "#E6EEFF",
     "shell"
    ],
    [
     "SoS",
     "sos",
     "",
     "",
     "sos"
    ]
   ],
   "version": "0.21.21"
  }
 },
 "nbformat": 4,
 "nbformat_minor": 4
}
