{
 "cells": [
  {
   "cell_type": "markdown",
   "id": "8baa85a9-c387-419c-ab3f-c8b871fc2d05",
   "metadata": {
    "kernel": "SoS",
    "tags": []
   },
   "source": [
    "# Extract regions of a chromosome using qctool"
   ]
  },
  {
   "cell_type": "code",
   "execution_count": null,
   "id": "2af6b4a1-fb03-4c84-b86f-f5d095ab018c",
   "metadata": {
    "kernel": "SoS"
   },
   "outputs": [],
   "source": [
    "[global]\n",
    "# Work directory where output will be saved to\n",
    "parameter: cwd = path\n",
    "# Region specifications\n",
    "parameter: region_file = path\n",
    "# Path to bgen/exome files\n",
    "parameter: genoFile = paths\n",
    "# Number of tasks to run in each job on cluster\n",
    "parameter: job_size = int\n",
    "# Number of threads\n",
    "parameter: numThreads = 8\n",
    "# Specify the container to use\n",
    "#parameter: container_lmm = 'statisticalgenetics/lmm:3.0'\n",
    "parameter: qctool_module = '''\n",
    "module load Qctool/2.0.8\n",
    "echo \"Module qctool loaded\"\n",
    "{cmd}\n",
    "'''\n",
    "fail_if(not region_file.is_file(), msg = 'Cannot find regions to extract. Please specify them using ``--region-file`` option.')\n",
    "# Load all regions of interest. Each item in the list will be a region: (chr, start, end)\n",
    "regions = list(set([tuple(x.strip().split()) for x in open(region_file).readlines() if x.strip()]))"
   ]
  },
  {
   "cell_type": "code",
   "execution_count": null,
   "id": "faf18044-8ab4-4126-98f7-635b09297c75",
   "metadata": {
    "kernel": "SoS"
   },
   "outputs": [],
   "source": [
    "# Filter bgen files chr21 and chr22 with only the 100 individuals\n",
    "# Cluster script mwe_chr2.sh\n",
    "[qctool_1]\n",
    "# Output the bgen file with 8bit formatting\n",
    "parameter: bgen_bits=8\n",
    "input: genoFile, for_each='regions', group_by='1'\n",
    "output: f'{cwd}/{_input:bn}.{_regions[0]}_{_regions[1]}_{_regions[2]}.bgen'\n",
    "task: trunk_workers = 1, trunk_size = job_size, cores = numThreads, walltime = '48h', mem = '60G', tags = f'{step_name}_{_output:bn}'\n",
    "bash: expand= \"${ }\", workdir = cwd, stderr = f'{_output:n}.stderr', stdout = f'{_output:n}.stdout', template = qctool_module\n",
    "    qctool \\\n",
    "    -g ${_input} \\\n",
    "    -og ${_output} \\\n",
    "    -incl-range ${regions[0]}:${regions[1]}-${regions[2]} \\\n",
    "    -bgen-bits ${bgen_bits} \\\n",
    "    -threads ${numThreads}"
   ]
  },
  {
   "cell_type": "code",
   "execution_count": null,
   "id": "df08ec1b-dba0-4b06-9352-ffafabe48cfb",
   "metadata": {
    "kernel": "SoS"
   },
   "outputs": [],
   "source": [
    "[qctool_2]\n",
    "input: output_from=('qctool')\n",
    "output:f'{cwd}/{_input:bn}.{regions}.bgen.bgi'\n",
    "bash: expand= \"${ }\", workdir = cwd, stderr = f'{_output:n}.stderr', stdout = f'{_output:n}.stdout'\n",
    "    bgenix \\\n",
    "    -g ${_input} \\\n",
    "    -index"
   ]
  },
  {
   "cell_type": "code",
   "execution_count": 3,
   "id": "ddc375b8-d93b-40ac-9379-081f744fb78c",
   "metadata": {
    "kernel": "Bash",
    "tags": []
   },
   "outputs": [
    {
     "name": "stdout",
     "output_type": "stream",
     "text": [
      "\u001b[91mERROR\u001b[0m: \u001b[91mUnrecognized command line option /home/dmc2245/test\u001b[0m\n",
      "bash: --region_file: command not found\n",
      "bash: --genoFile: command not found\n"
     ]
    },
    {
     "ename": "",
     "evalue": "127",
     "output_type": "error",
     "traceback": []
    }
   ],
   "source": [
    "sos dryrun ~/project/UKBB_GWAS_dev/workflow/qctool_extract_region.ipynb qctool \\\n",
    "    --cwd ~/test \\\n",
    "    --region_file ~/test/region_extract/test_chr5_73072354_73144845 \\\n",
    "    --genoFile /home/dmc2245/test/region_extract/ukb_imp_5_v3_chr5_73072354_73144845.bgen"
   ]
  },
  {
   "cell_type": "code",
   "execution_count": null,
   "id": "ff206d77-a76a-4384-8097-c3511ea7e30d",
   "metadata": {
    "kernel": "Bash"
   },
   "outputs": [],
   "source": []
  }
 ],
 "metadata": {
  "kernelspec": {
   "display_name": "SoS",
   "language": "sos",
   "name": "sos"
  },
  "language_info": {
   "codemirror_mode": "sos",
   "file_extension": ".sos",
   "mimetype": "text/x-sos",
   "name": "sos",
   "nbconvert_exporter": "sos_notebook.converter.SoS_Exporter",
   "pygments_lexer": "sos"
  },
  "sos": {
   "kernels": [
    [
     "Bash",
     "calysto_bash",
     "Bash",
     "#E6EEFF",
     ""
    ],
    [
     "SoS",
     "sos",
     "",
     "",
     "sos"
    ]
   ],
   "version": "0.22.6"
  }
 },
 "nbformat": 4,
 "nbformat_minor": 5
}
