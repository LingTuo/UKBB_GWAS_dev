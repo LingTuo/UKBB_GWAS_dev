{
 "cells": [
  {
   "cell_type": "markdown",
   "id": "8baa85a9-c387-419c-ab3f-c8b871fc2d05",
   "metadata": {
    "kernel": "SoS",
    "tags": []
   },
   "source": [
    "# Extract regions of a chromosome using qctool"
   ]
  },
  {
   "cell_type": "code",
   "execution_count": null,
   "id": "eaec8bd3-cdb0-4b87-8b79-6fa190fc363c",
   "metadata": {
    "kernel": "SoS"
   },
   "outputs": [],
   "source": [
    "[global]\n",
    "# Work directory where output will be saved to\n",
    "parameter: cwd = path\n",
    "# Region specifications\n",
    "parameter: region_file = path\n",
    "# Path to bgen/exome files\n",
    "parameter: genoFile = path\n",
    "# Number of tasks to run in each job on cluster\n",
    "parameter: job_size = 1\n",
    "# Number of threads\n",
    "parameter: numThreads = 8\n",
    "# Specify the container to use\n",
    "#parameter: container_lmm = 'statisticalgenetics/lmm:3.0'\n",
    "parameter: qctool_module = '''\n",
    "module load Qctool/2.0.8\n",
    "echo \"Module qctool loaded\"\n",
    "{cmd}\n",
    "'''\n",
    "fail_if(not region_file.is_file(), msg = 'Cannot find regions to extract. Please specify them using ``--region-file`` option.')\n",
    "# Load all regions of interest. Each item in the list will be a region: (chr, start, end)\n",
    "regions = list(set([tuple(x.strip().split()) for x in open(region_file).readlines() if x.strip()]))\n"
   ]
  },
  {
   "cell_type": "code",
   "execution_count": null,
   "id": "faf18044-8ab4-4126-98f7-635b09297c75",
   "metadata": {
    "kernel": "SoS"
   },
   "outputs": [],
   "source": [
    "[qctool_1]\n",
    "# Output the bgen file with 8bit formatting\n",
    "parameter: bgen_bits=8\n",
    "parameter: genoFile = path\n",
    "input: for_each=dict(regions=regions)\n",
    "import os \n",
    "filelist=os.listdir(f\"{genoFile}\") \n",
    "for file in filelist:\n",
    "    if \"ukb_imp_chr\"+regions[0] in file:\n",
    "        geno = os.path.join(f\"{genoFile}\", file)\n",
    "        name = file\n",
    "output: f'{cwd}/{name}_{regions[0]}_{regions[1]}_{regions[2]}.bgen'\n",
    "task: trunk_workers = 1, trunk_size = job_size, cores = numThreads, walltime = '48h', mem = '60G', tags = f'{step_name}_{_output:bn}'\n",
    "bash: expand= \"${ }\", workdir = cwd, stderr = f'{_output:n}.stderr', stdout = f'{_output:n}.stdout', template = qctool_module\n",
    "    qctool \\\n",
    "    -g ${geno} \\\n",
    "    -og ${_output} \\\n",
    "    -incl-range ${regions[0]}:${regions[1]}-${regions[2]} \\\n",
    "    -bgen-bits ${bgen_bits} \\\n",
    "    -threads ${numThreads}"
   ]
  },
  {
   "cell_type": "code",
   "execution_count": null,
   "id": "df08ec1b-dba0-4b06-9352-ffafabe48cfb",
   "metadata": {
    "kernel": "SoS"
   },
   "outputs": [],
   "source": [
    "[qctool_2]\n",
    "output:f'{cwd}/{_input:bn}.bgi'\n",
    "bash: expand= \"${ }\", workdir = cwd, stderr = f'{_output:n}.stderr', stdout = f'{_output:n}.stdout', template = qctool_module\n",
    "    bgenix \\\n",
    "    -g ${_input} \\\n",
    "    -index"
   ]
  },
  {
   "cell_type": "code",
   "execution_count": null,
   "id": "2b95e827-590e-4886-94ed-4b24f4cd1347",
   "metadata": {
    "kernel": "Bash"
   },
   "outputs": [],
   "source": [
    "cwd=~/test/region_extract\n",
    "region='05:272856-1213643'\n",
    "namereg='chr5_272856_1213643 '\n",
    "sos_qctool=~/project/UKBB_GWAS_dev/workflow/qctool_extract_region.ipynb\n",
    "genoFile=/mnt/mfs/statgen/archive/UKBiobank_Yale_transfer/ukb39554_imputeddataset/ukb_imp_chr5_v3.bgen\n",
    "extract_sbatch=~/hearing/region_extraction/\n",
    "\n",
    "extract_args=\"\"\"  qctool \\\n",
    "    --cwd $cwd \n",
    "    --region $region\n",
    "    --namereg $namereg\n",
    "    --genoFile $genoFile\n",
    "\"\"\"\n",
    "sos run ~/project/UKBB_GWAS_dev/admin/Get_Job_Script.ipynb csg \\\n",
    "    --template-file $tpl_file \\\n",
    "    --workflow-file $sos_qctool \\\n",
    "    --to-script $extract_sbatch \\\n",
    "    --args \"$extract_args\""
   ]
  },
  {
   "cell_type": "code",
   "execution_count": null,
   "id": "2c902ada-13dc-48a2-882c-0fd751847b61",
   "metadata": {
    "kernel": "Bash"
   },
   "outputs": [],
   "source": [
    "sos dryrun ~/project/UKBB_GWAS_dev/workflow/qctool_extract_region.ipynb qctool\\\n",
    "    --cwd ~/test/ \\\n",
    "    --region_file ~/test/region_extract/test_chr5 \\\n",
    "    --genoFile /mnt/mfs/statgen/archive/UKBiobank_Yale_transfer/ukb39554_imputeddataset/"
   ]
  },
  {
   "cell_type": "code",
   "execution_count": null,
   "id": "b971e145-80c5-40ba-9a5c-6bedc1b75c26",
   "metadata": {
    "kernel": "Bash"
   },
   "outputs": [],
   "source": [
    " sos dryrun ~/project/UKBB_GWAS_dev/workflow/qctool_extract_region.ipynb qctool:1    \\\n",
    "        --cwd ~/test/     \\\n",
    "        --region_file ~/test/region_extract/test_chr5     \\\n",
    "        --genoFile /mnt/mfs/statgen/archive/UKBiobank_Yale_transfer/ukb39554_imputeddataset/"
   ]
  }
 ],
 "metadata": {
  "kernelspec": {
   "display_name": "SoS",
   "language": "sos",
   "name": "sos"
  },
  "language_info": {
   "codemirror_mode": "sos",
   "file_extension": ".sos",
   "mimetype": "text/x-sos",
   "name": "sos",
   "nbconvert_exporter": "sos_notebook.converter.SoS_Exporter",
   "pygments_lexer": "sos"
  },
  "sos": {
   "kernels": [
    [
     "Bash",
     "calysto_bash",
     "Bash",
     "#E6EEFF",
     ""
    ],
    [
     "SoS",
     "sos",
     "",
     "",
     "sos"
    ]
   ],
   "version": "0.22.6"
  }
 },
 "nbformat": 4,
 "nbformat_minor": 5
}
