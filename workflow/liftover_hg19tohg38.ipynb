{
 "cells": [
  {
   "cell_type": "markdown",
   "id": "8f9bbd06-de6e-4fdd-9bc2-985906573813",
   "metadata": {
    "kernel": "SoS"
   },
   "source": [
    "# Liftover summary stats from hg19 to hg38\n",
    "\n",
    "The aim of this notebook is to do liftover of summary statistics data from hg19 to hg38"
   ]
  },
  {
   "cell_type": "markdown",
   "id": "09ee785e-292c-4a67-97dd-c50fdeb9c1a2",
   "metadata": {
    "kernel": "SoS"
   },
   "source": [
    "## Illustration on how to run this notebook"
   ]
  },
  {
   "cell_type": "markdown",
   "id": "9b43bf67-dc2d-4aa4-9f89-d11eac6d2e9e",
   "metadata": {
    "kernel": "SoS"
   },
   "source": [
    "```\n",
    "sos run liftover_hg19tohg38.ipynb \\\n",
    "    --input_path sumstats.snp_stats.gz\\\n",
    "    --cwd  output \\\n",
    "    --container_lmm lmm.sif\n",
    "```"
   ]
  },
  {
   "cell_type": "code",
   "execution_count": null,
   "id": "4665b6b1-5e14-41b1-8537-70082c3f38dd",
   "metadata": {
    "kernel": "SoS",
    "tags": []
   },
   "outputs": [],
   "source": [
    "[global]\n",
    "# Work directory where output will be saved to\n",
    "parameter: cwd = path\n",
    "# Input file (sumstats to do liftover)\n",
    "parameter: input_path = path\n",
    "# Remove unmapped coordinates from the sumstats (defaults to True)\n",
    "parameter: remove_missing = True\n",
    "# Container\n",
    "parameter: container_lmm = 'statisticalgenetics/lmm:3.0'"
   ]
  },
  {
   "cell_type": "code",
   "execution_count": null,
   "id": "e9ad1bbb-eef3-40de-b1c0-c109161bbc58",
   "metadata": {
    "kernel": "SoS"
   },
   "outputs": [],
   "source": [
    "[default_1 (export utils script)]\n",
    "depends:  Py_Module('pandas'), Py_Module('liftover')\n",
    "output: f'{cwd:a}/utils.py'\n",
    "report:container=container_lmm, expand = '${ }', output=f'{cwd:a}/utils.py'\n",
    "\n",
    "    import pandas as pd\n",
    "    from liftover import get_lifter\n",
    "    \n",
    "    def read_regenie(file):\n",
    "        try:\n",
    "            sumstats = pd.read_csv(file, compression='gzip', header=0, sep='\\t', quotechar='\"')\n",
    "        except:\n",
    "            sumstats = pd.read_csv(file, header=0, sep='\\t', quotechar='\"')\n",
    "        sumstats.SNP = 'chr'+sumstats.CHR.astype(str) + ':' + sumstats.POS.astype(str) + ':' + sumstats.REF.astype(str) + ':' + sumstats.ALT.astype(str)\n",
    "        sumstats.CHR = sumstats.CHR.astype(int)\n",
    "        sumstats.POS = sumstats.POS.astype(int)\n",
    "        return sumstats\n",
    "\n",
    "    def sumstat_liftover(ss,fr='hg19' ,to ='hg38'):\n",
    "        chainmap = get_lifter(fr, to)\n",
    "        lchr,lpos,lsnp = [],[],[]\n",
    "        for c,p,a0,a1 in zip(ss.CHR,ss.POS,ss.REF,ss.ALT):\n",
    "            try:\n",
    "                new_c,new_p,_ = chainmap[int(c)][p][0]\n",
    "                snp = ':'.join([new_c,str(new_p),a0,a1])\n",
    "                new_c = int(new_c[3:])\n",
    "            except:\n",
    "                new_c, new_p = 0, 0\n",
    "                snp = ':'.join(['chr'+str(c),str(p),a0,a1])\n",
    "            lchr.append(new_c)\n",
    "            lpos.append(new_p)\n",
    "            lsnp.append(snp)\n",
    "        ss.CHR = lchr\n",
    "        ss.POS = lpos\n",
    "        ss.SNP = lsnp\n",
    "        return ss\n",
    "\n",
    "    def main(input_path,output_path,output_unmapped,output_mapped,remove_missing):\n",
    "        sums = read_regenie(input_path)\n",
    "        sums1 = sumstat_liftover(sums)\n",
    "        if remove_missing:\n",
    "            sums1[sums1.CHR == 0].to_csv(output_unmapped, compression='gzip', sep = \"\\t\", header = True, index = False)\n",
    "            sums1[sums1.CHR != 0].to_csv(output_mapped, compression='gzip', sep = \"\\t\", header = True, index = False)\n",
    "        else:\n",
    "            sums1.to_csv(output_path, compression='gzip', sep = \"\\t\", header = True, index = False)\n"
   ]
  },
  {
   "cell_type": "code",
   "execution_count": null,
   "id": "e6e9c77d-4b95-4e35-8ccf-ac3e5c7a5e5a",
   "metadata": {
    "kernel": "SoS"
   },
   "outputs": [],
   "source": [
    "[default_2 (do liftover)]\n",
    "depends: f'{cwd:a}/utils.py'\n",
    "input: input_path\n",
    "output: sumstats_lifted = f'{cwd}/{_input:bnn}.hg38.sumstats.gz',\n",
    "        sumstats_unmapped = f'{cwd}/{_input:bnn}.hg38.sumstats_unmapped.gz',\n",
    "        sumstats_mapped = f'{cwd}/{_input:bnn}.hg38.sumstats_mapped.gz'\n",
    "task: trunk_workers = 1, job_size=1, walltime = '1h', mem = '8G', cores = 1, tags = f'{step_name}_{_output[0]:bn}'\n",
    "python:container=container_lmm, input = f'{cwd:a}/utils.py', expand = '${ }', stderr = f'{_output[0]:n}.stderr', stdout = f'{_output[0]:n}.stdout'\n",
    "    \n",
    "    input_path=${_input:r}\n",
    "    output_path=${_output[0]:r}\n",
    "    output_unmapped=${_output[1]:r}\n",
    "    output_mapped=${_output[2]:r}\n",
    "    remove_missing=${remove_missing}\n",
    "\n",
    "    main(input_path,output_path,output_unmapped,output_mapped,remove_missing)"
   ]
  }
 ],
 "metadata": {
  "kernelspec": {
   "display_name": "SoS",
   "language": "sos",
   "name": "sos"
  },
  "language_info": {
   "codemirror_mode": "sos",
   "file_extension": ".sos",
   "mimetype": "text/x-sos",
   "name": "sos",
   "nbconvert_exporter": "sos_notebook.converter.SoS_Exporter",
   "pygments_lexer": "sos"
  },
  "sos": {
   "kernels": [
    [
     "Bash",
     "calysto_bash",
     "Bash",
     "#E6EEFF",
     ""
    ],
    [
     "SoS",
     "sos",
     "",
     "",
     "sos"
    ]
   ],
   "version": "0.22.6"
  }
 },
 "nbformat": 4,
 "nbformat_minor": 5
}
