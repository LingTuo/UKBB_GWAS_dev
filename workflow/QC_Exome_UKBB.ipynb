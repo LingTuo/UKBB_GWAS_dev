{
 "cells": [
  {
   "cell_type": "markdown",
   "metadata": {
    "kernel": "SoS"
   },
   "source": [
    "# Quality control exomes UKBB Q4/2020"
   ]
  },
  {
   "cell_type": "markdown",
   "metadata": {
    "kernel": "SoS"
   },
   "source": [
    "The data consists of 200,000 exomes \n",
    "\n",
    "50K exomes were made available in March 2019\n",
    "\n",
    "150K exomes were made available in October 2020\n",
    "\n",
    "The 50K set includes the following family relationships:\n",
    "\n",
    "* 194 parent-offspring pairs\n",
    "* 613 full-sibling pairs\n",
    "* 26 trios\n",
    "* 1 monozygotic twin pair\n",
    "* 195 second degree genetically determined relationships\n",
    "\n",
    "**Quality control published for the 50K set**\n",
    "\n",
    "FASTQ files aligned to GRCh38 with BWA-mem and BAM files generated. \n",
    "\n",
    "In the BAM files identify and mark duplicates using PICARD\n",
    "\n",
    "gVCF files with called variants produced using WeCall\n",
    "\n",
    "Samples excluded if:\n",
    "* Differences between genetic and reported sex\n",
    "* High rates of heterozygosity/contamination (Dstat>0.4)\n",
    "* Low sequence coverage (<85% of bases with 20X coverage)\n",
    "* Sample duplicates \n",
    "* WES variants discordant with genotyping chip\n",
    "\n",
    "Then creation of project-level VCF or pVCF\n",
    "\n",
    "Goldilocks:\n",
    "* SNV with DP<7 changed to no-call\n",
    "* SNV heterozygotes retained if allele balance ratio was AB>=0.15\n",
    "* Multiallelic left-normalized and represented as bi-allelic"
   ]
  },
  {
   "cell_type": "markdown",
   "metadata": {
    "kernel": "SoS"
   },
   "source": [
    "# Quality control of pVCF/PLINK files\n",
    "\n",
    "This pipeline is intended to use as an extra step of quality control after obtaining the joint-call file provided by the UKBB (PLINK, pVCF formats)"
   ]
  },
  {
   "cell_type": "markdown",
   "metadata": {
    "kernel": "SoS"
   },
   "source": [
    "To download the PLINK files generate and use the following script\n",
    "\n",
    "```\n",
    "tpl_file=../farnam.yml\n",
    "jobid=23155\n",
    "cwd=/home/dc2325/scratch60/exomes_UKBB\n",
    "job_size=1\n",
    "numThreads=22\n",
    "exome_UKBB=/home/dc2325/project/UKBB_GWAS_dev/workflow/exome_UKBB.ipynb\n",
    "exome_sbatch=../output/$(date +\"%Y-%m-%d\")_exome_download.sbatch\n",
    "\n",
    "cmd_args=\"\"\"default\n",
    "    --cwd $cwd\n",
    "    --jobid $jobid\n",
    "    --job_size $job_size\n",
    "    --numThreads $numThreads\n",
    "\"\"\"\n",
    "\n",
    "sos run ~/project/bioworkflows/GWAS/Get_Job_Script.ipynb farnam \\\n",
    "    --template-file $tpl_file \\\n",
    "    --workflow-file $exome_UKBB \\\n",
    "    --to-script $exome_sbatch \\\n",
    "    --args \"$cmd_args\"\n",
    "```"
   ]
  },
  {
   "cell_type": "markdown",
   "metadata": {
    "kernel": "Bash"
   },
   "source": [
    "## Basic summary statistics using PLINK v1.9"
   ]
  },
  {
   "cell_type": "markdown",
   "metadata": {
    "kernel": "Bash"
   },
   "source": [
    "### Calculate MAF for chr1 using PLINK"
   ]
  },
  {
   "cell_type": "code",
   "execution_count": 107,
   "metadata": {
    "kernel": "Bash"
   },
   "outputs": [
    {
     "name": "stdout",
     "output_type": "stream",
     "text": [
      "\n"
     ]
    }
   ],
   "source": [
    "module load PLINK/1.90-beta5.3"
   ]
  },
  {
   "cell_type": "code",
   "execution_count": 2,
   "metadata": {
    "kernel": "Bash"
   },
   "outputs": [
    {
     "name": "stdout",
     "output_type": "stream",
     "text": [
      "PLINK v1.90b4.6 64-bit (15 Aug 2017)           www.cog-genomics.org/plink/1.9/\n",
      "(C) 2005-2017 Shaun Purcell, Christopher Chang   GNU General Public License v3\n",
      "Logging to /home/dc2325/scratch60/exomes_UKBB/ukb23155_c1_b0_v1.log.\n",
      "Options in effect:\n",
      "  --bfile /home/dc2325/scratch60/exomes_UKBB/ukb23155_c1_b0_v1\n",
      "  --freq gz\n",
      "  --out /home/dc2325/scratch60/exomes_UKBB/ukb23155_c1_b0_v1\n",
      "\n",
      "191893 MB RAM detected; reserving 95946 MB for main workspace.\n",
      "1783906 variants loaded from .bim file.\n",
      "200643 people (90020 males, 110437 females, 186 ambiguous) loaded from .fam.\n",
      "Ambiguous sex IDs written to\n",
      "/home/dc2325/scratch60/exomes_UKBB/ukb23155_c1_b0_v1.nosex .\n",
      "Using up to 35 threads (change this with --threads).\n",
      "Before main variant filters, 200643 founders and 0 nonfounders present.\n",
      "Calculating allele frequencies... 10111213141516171819202122232425262728293031323334353637383940414243444546474849505152535455565758596061626364656667686970717273747576777879808182838485868788899091929394959697989 done.\n",
      "Total genotyping rate is 0.9886.\n",
      "--freq: Allele frequencies (founders only) written to\n",
      "/home/dc2325/scratch60/exomes_UKBB/ukb23155_c1_b0_v1.frq.gz .\n"
     ]
    }
   ],
   "source": [
    "plink --bfile /home/dc2325/scratch60/exomes_UKBB/ukb23155_c1_b0_v1 --freq gz --out /home/dc2325/scratch60/exomes_UKBB/ukb23155_c1_b0_v1"
   ]
  },
  {
   "cell_type": "code",
   "execution_count": 26,
   "metadata": {
    "kernel": "R"
   },
   "outputs": [],
   "source": [
    "frq <- read.table(gzfile('/home/dc2325/scratch60/exomes_UKBB/ukb23155_c1_b0_v1.frq.gz'), header=T)\n",
    "head(frq, 10)\n",
    "dim(frq)"
   ]
  },
  {
   "cell_type": "markdown",
   "metadata": {
    "kernel": "R"
   },
   "source": [
    "### Calculate number of variants above/below threshold with R"
   ]
  },
  {
   "cell_type": "code",
   "execution_count": 28,
   "metadata": {
    "kernel": "R"
   },
   "outputs": [],
   "source": [
    "options(scipen = 999)\n",
    "rare_var <- frq[frq[,'MAF']<=0.005 ,]\n",
    "#Some NA values are generated that mess up the nrow\n",
    "common_var <- frq[frq$MAF > 0.005 & !is.na(frq$MAF),]\n",
    "# Total number of variants 1783906\n",
    "dim(rare_var)\n",
    "dim(common_var)"
   ]
  },
  {
   "cell_type": "markdown",
   "metadata": {
    "kernel": "R"
   },
   "source": [
    "### Calculate number of variants using awk"
   ]
  },
  {
   "cell_type": "code",
   "execution_count": 105,
   "metadata": {
    "kernel": "Bash"
   },
   "outputs": [
    {
     "name": "stdout",
     "output_type": "stream",
     "text": [
      "1757726\n",
      "26180\n",
      "1\n",
      "\n"
     ]
    }
   ],
   "source": [
    "zcat /home/dc2325/scratch60/exomes_UKBB/ukb23155_c1_b0_v1.frq.gz | awk '($5 + 0) < 0.005' | wc -l\n",
    "zcat /home/dc2325/scratch60/exomes_UKBB/ukb23155_c1_b0_v1.frq.gz | awk '($5 + 0) > 0.005' | wc -l\n",
    "zcat /home/dc2325/scratch60/exomes_UKBB/ukb23155_c1_b0_v1.frq.gz | awk '($5 + 0) == 0.005' | wc -l"
   ]
  },
  {
   "cell_type": "markdown",
   "metadata": {
    "kernel": "Bash"
   },
   "source": [
    "## Evaluate the missingness per individual/SNP"
   ]
  },
  {
   "cell_type": "code",
   "execution_count": 108,
   "metadata": {
    "kernel": "Bash"
   },
   "outputs": [
    {
     "name": "stdout",
     "output_type": "stream",
     "text": [
      "PLINK v1.90b4.6 64-bit (15 Aug 2017)           www.cog-genomics.org/plink/1.9/\n",
      "(C) 2005-2017 Shaun Purcell, Christopher Chang   GNU General Public License v3\n",
      "Logging to /home/dc2325/scratch60/exomes_UKBB/ukb23155_c1_b0_v1.log.\n",
      "Options in effect:\n",
      "  --bfile /home/dc2325/scratch60/exomes_UKBB/ukb23155_c1_b0_v1\n",
      "  --missing\n",
      "  --out /home/dc2325/scratch60/exomes_UKBB/ukb23155_c1_b0_v1\n",
      "\n",
      "128238 MB RAM detected; reserving 64119 MB for main workspace.\n",
      "1783906 variants loaded from .bim file.\n",
      "200643 people (90020 males, 110437 females, 186 ambiguous) loaded from .fam.\n",
      "Ambiguous sex IDs written to\n",
      "/home/dc2325/scratch60/exomes_UKBB/ukb23155_c1_b0_v1.nosex .\n",
      "Using 1 thread (no multithreaded calculations invoked).\n",
      "Before main variant filters, 200643 founders and 0 nonfounders present.\n",
      "Calculating allele frequencies... 10111213141516171819202122232425262728293031323334353637383940414243444546474849505152535455565758596061626364656667686970717273747576777879808182838485868788899091929394959697989 done.\n",
      "Total genotyping rate is 0.9886.\n",
      "--missing: Sample missing data report written to\n",
      "/home/dc2325/scratch60/exomes_UKBB/ukb23155_c1_b0_v1.imiss, and variant-based\n",
      "missing data report written to\n",
      "/home/dc2325/scratch60/exomes_UKBB/ukb23155_c1_b0_v1.lmiss.\n",
      "\n"
     ]
    }
   ],
   "source": [
    "plink --bfile /home/dc2325/scratch60/exomes_UKBB/ukb23155_c1_b0_v1 --missing --out /home/dc2325/scratch60/exomes_UKBB/ukb23155_c1_b0_v1"
   ]
  },
  {
   "cell_type": "code",
   "execution_count": 112,
   "metadata": {
    "kernel": "R"
   },
   "outputs": [],
   "source": [
    "imiss <- read.table('/home/dc2325/scratch60/exomes_UKBB/ukb23155_c1_b0_v1.imiss', header=T)\n",
    "lmiss <- read.table('/home/dc2325/scratch60/exomes_UKBB/ukb23155_c1_b0_v1.lmiss', header=T)"
   ]
  },
  {
   "cell_type": "code",
   "execution_count": 113,
   "metadata": {
    "kernel": "R"
   },
   "outputs": [
    {
     "data": {
      "text/html": [
       "<table>\n",
       "<caption>A data.frame: 6 × 6</caption>\n",
       "<thead>\n",
       "\t<tr><th></th><th scope=col>FID</th><th scope=col>IID</th><th scope=col>MISS_PHENO</th><th scope=col>N_MISS</th><th scope=col>N_GENO</th><th scope=col>F_MISS</th></tr>\n",
       "\t<tr><th></th><th scope=col>&lt;int&gt;</th><th scope=col>&lt;int&gt;</th><th scope=col>&lt;fct&gt;</th><th scope=col>&lt;int&gt;</th><th scope=col>&lt;int&gt;</th><th scope=col>&lt;dbl&gt;</th></tr>\n",
       "</thead>\n",
       "<tbody>\n",
       "\t<tr><th scope=row>1</th><td>1434748</td><td>1434748</td><td>Y</td><td>21320</td><td>1783906</td><td>0.01195</td></tr>\n",
       "\t<tr><th scope=row>2</th><td>5523981</td><td>5523981</td><td>Y</td><td>19100</td><td>1783906</td><td>0.01071</td></tr>\n",
       "\t<tr><th scope=row>3</th><td>5023838</td><td>5023838</td><td>Y</td><td>22973</td><td>1783906</td><td>0.01288</td></tr>\n",
       "\t<tr><th scope=row>4</th><td>4023729</td><td>4023729</td><td>Y</td><td>19854</td><td>1783906</td><td>0.01113</td></tr>\n",
       "\t<tr><th scope=row>5</th><td>4442146</td><td>4442146</td><td>Y</td><td>21056</td><td>1783906</td><td>0.01180</td></tr>\n",
       "\t<tr><th scope=row>6</th><td>5654789</td><td>5654789</td><td>Y</td><td>20164</td><td>1783906</td><td>0.01130</td></tr>\n",
       "</tbody>\n",
       "</table>\n"
      ],
      "text/latex": [
       "A data.frame: 6 × 6\n",
       "\\begin{tabular}{r|llllll}\n",
       "  & FID & IID & MISS\\_PHENO & N\\_MISS & N\\_GENO & F\\_MISS\\\\\n",
       "  & <int> & <int> & <fct> & <int> & <int> & <dbl>\\\\\n",
       "\\hline\n",
       "\t1 & 1434748 & 1434748 & Y & 21320 & 1783906 & 0.01195\\\\\n",
       "\t2 & 5523981 & 5523981 & Y & 19100 & 1783906 & 0.01071\\\\\n",
       "\t3 & 5023838 & 5023838 & Y & 22973 & 1783906 & 0.01288\\\\\n",
       "\t4 & 4023729 & 4023729 & Y & 19854 & 1783906 & 0.01113\\\\\n",
       "\t5 & 4442146 & 4442146 & Y & 21056 & 1783906 & 0.01180\\\\\n",
       "\t6 & 5654789 & 5654789 & Y & 20164 & 1783906 & 0.01130\\\\\n",
       "\\end{tabular}\n"
      ],
      "text/markdown": [
       "\n",
       "A data.frame: 6 × 6\n",
       "\n",
       "| <!--/--> | FID &lt;int&gt; | IID &lt;int&gt; | MISS_PHENO &lt;fct&gt; | N_MISS &lt;int&gt; | N_GENO &lt;int&gt; | F_MISS &lt;dbl&gt; |\n",
       "|---|---|---|---|---|---|---|\n",
       "| 1 | 1434748 | 1434748 | Y | 21320 | 1783906 | 0.01195 |\n",
       "| 2 | 5523981 | 5523981 | Y | 19100 | 1783906 | 0.01071 |\n",
       "| 3 | 5023838 | 5023838 | Y | 22973 | 1783906 | 0.01288 |\n",
       "| 4 | 4023729 | 4023729 | Y | 19854 | 1783906 | 0.01113 |\n",
       "| 5 | 4442146 | 4442146 | Y | 21056 | 1783906 | 0.01180 |\n",
       "| 6 | 5654789 | 5654789 | Y | 20164 | 1783906 | 0.01130 |\n",
       "\n"
      ],
      "text/plain": [
       "  FID     IID     MISS_PHENO N_MISS N_GENO  F_MISS \n",
       "1 1434748 1434748 Y          21320  1783906 0.01195\n",
       "2 5523981 5523981 Y          19100  1783906 0.01071\n",
       "3 5023838 5023838 Y          22973  1783906 0.01288\n",
       "4 4023729 4023729 Y          19854  1783906 0.01113\n",
       "5 4442146 4442146 Y          21056  1783906 0.01180\n",
       "6 5654789 5654789 Y          20164  1783906 0.01130"
      ]
     },
     "metadata": {},
     "output_type": "display_data"
    }
   ],
   "source": [
    "# F_MISS: frequency of missing genotypes\n",
    "head(imiss)"
   ]
  },
  {
   "cell_type": "code",
   "execution_count": 120,
   "metadata": {
    "kernel": "R"
   },
   "outputs": [
    {
     "data": {
      "text/html": [
       "0.009998"
      ],
      "text/latex": [
       "0.009998"
      ],
      "text/markdown": [
       "0.009998"
      ],
      "text/plain": [
       "[1] 0.009998"
      ]
     },
     "metadata": {},
     "output_type": "display_data"
    },
    {
     "data": {
      "text/html": [
       "0.02068"
      ],
      "text/latex": [
       "0.02068"
      ],
      "text/markdown": [
       "0.02068"
      ],
      "text/plain": [
       "[1] 0.02068"
      ]
     },
     "metadata": {},
     "output_type": "display_data"
    },
    {
     "data": {
      "text/html": [
       "<style>\n",
       ".list-inline {list-style: none; margin:0; padding: 0}\n",
       ".list-inline>li {display: inline-block}\n",
       ".list-inline>li:not(:last-child)::after {content: \"\\00b7\"; padding: 0 .5ex}\n",
       "</style>\n",
       "<ol class=list-inline><li>0</li><li>6</li></ol>\n"
      ],
      "text/latex": [
       "\\begin{enumerate*}\n",
       "\\item 0\n",
       "\\item 6\n",
       "\\end{enumerate*}\n"
      ],
      "text/markdown": [
       "1. 0\n",
       "2. 6\n",
       "\n",
       "\n"
      ],
      "text/plain": [
       "[1] 0 6"
      ]
     },
     "metadata": {},
     "output_type": "display_data"
    }
   ],
   "source": [
    "min(imiss$F_MISS)\n",
    "max(imiss$F_MISS)\n",
    "miss_ten <- imiss[imiss[,'F_MISS']>0.1 ,] # No individuals missing more than 10% of genotypes\n",
    "dim(miss_ten)"
   ]
  },
  {
   "cell_type": "code",
   "execution_count": 114,
   "metadata": {
    "kernel": "R"
   },
   "outputs": [
    {
     "data": {
      "text/html": [
       "<table>\n",
       "<caption>A data.frame: 6 × 5</caption>\n",
       "<thead>\n",
       "\t<tr><th></th><th scope=col>CHR</th><th scope=col>SNP</th><th scope=col>N_MISS</th><th scope=col>N_GENO</th><th scope=col>F_MISS</th></tr>\n",
       "\t<tr><th></th><th scope=col>&lt;int&gt;</th><th scope=col>&lt;fct&gt;</th><th scope=col>&lt;int&gt;</th><th scope=col>&lt;int&gt;</th><th scope=col>&lt;dbl&gt;</th></tr>\n",
       "</thead>\n",
       "<tbody>\n",
       "\t<tr><th scope=row>1</th><td>1</td><td>1:69081:G:C</td><td>2018</td><td>200643</td><td>0.010060</td></tr>\n",
       "\t<tr><th scope=row>2</th><td>1</td><td>1:69134:A:G</td><td> 887</td><td>200643</td><td>0.004421</td></tr>\n",
       "\t<tr><th scope=row>3</th><td>1</td><td>1:69149:T:A</td><td>1018</td><td>200643</td><td>0.005074</td></tr>\n",
       "\t<tr><th scope=row>4</th><td>1</td><td>1:69217:G:A</td><td> 455</td><td>200643</td><td>0.002268</td></tr>\n",
       "\t<tr><th scope=row>5</th><td>1</td><td>1:69224:A:T</td><td> 276</td><td>200643</td><td>0.001376</td></tr>\n",
       "\t<tr><th scope=row>6</th><td>1</td><td>1:69231:C:T</td><td> 508</td><td>200643</td><td>0.002532</td></tr>\n",
       "</tbody>\n",
       "</table>\n"
      ],
      "text/latex": [
       "A data.frame: 6 × 5\n",
       "\\begin{tabular}{r|lllll}\n",
       "  & CHR & SNP & N\\_MISS & N\\_GENO & F\\_MISS\\\\\n",
       "  & <int> & <fct> & <int> & <int> & <dbl>\\\\\n",
       "\\hline\n",
       "\t1 & 1 & 1:69081:G:C & 2018 & 200643 & 0.010060\\\\\n",
       "\t2 & 1 & 1:69134:A:G &  887 & 200643 & 0.004421\\\\\n",
       "\t3 & 1 & 1:69149:T:A & 1018 & 200643 & 0.005074\\\\\n",
       "\t4 & 1 & 1:69217:G:A &  455 & 200643 & 0.002268\\\\\n",
       "\t5 & 1 & 1:69224:A:T &  276 & 200643 & 0.001376\\\\\n",
       "\t6 & 1 & 1:69231:C:T &  508 & 200643 & 0.002532\\\\\n",
       "\\end{tabular}\n"
      ],
      "text/markdown": [
       "\n",
       "A data.frame: 6 × 5\n",
       "\n",
       "| <!--/--> | CHR &lt;int&gt; | SNP &lt;fct&gt; | N_MISS &lt;int&gt; | N_GENO &lt;int&gt; | F_MISS &lt;dbl&gt; |\n",
       "|---|---|---|---|---|---|\n",
       "| 1 | 1 | 1:69081:G:C | 2018 | 200643 | 0.010060 |\n",
       "| 2 | 1 | 1:69134:A:G |  887 | 200643 | 0.004421 |\n",
       "| 3 | 1 | 1:69149:T:A | 1018 | 200643 | 0.005074 |\n",
       "| 4 | 1 | 1:69217:G:A |  455 | 200643 | 0.002268 |\n",
       "| 5 | 1 | 1:69224:A:T |  276 | 200643 | 0.001376 |\n",
       "| 6 | 1 | 1:69231:C:T |  508 | 200643 | 0.002532 |\n",
       "\n"
      ],
      "text/plain": [
       "  CHR SNP         N_MISS N_GENO F_MISS  \n",
       "1 1   1:69081:G:C 2018   200643 0.010060\n",
       "2 1   1:69134:A:G  887   200643 0.004421\n",
       "3 1   1:69149:T:A 1018   200643 0.005074\n",
       "4 1   1:69217:G:A  455   200643 0.002268\n",
       "5 1   1:69224:A:T  276   200643 0.001376\n",
       "6 1   1:69231:C:T  508   200643 0.002532"
      ]
     },
     "metadata": {},
     "output_type": "display_data"
    }
   ],
   "source": [
    "head(lmiss)"
   ]
  },
  {
   "cell_type": "code",
   "execution_count": 125,
   "metadata": {
    "kernel": "R"
   },
   "outputs": [
    {
     "data": {
      "text/html": [
       "<style>\n",
       ".list-inline {list-style: none; margin:0; padding: 0}\n",
       ".list-inline>li {display: inline-block}\n",
       ".list-inline>li:not(:last-child)::after {content: \"\\00b7\"; padding: 0 .5ex}\n",
       "</style>\n",
       "<ol class=list-inline><li>26989</li><li>5</li></ol>\n"
      ],
      "text/latex": [
       "\\begin{enumerate*}\n",
       "\\item 26989\n",
       "\\item 5\n",
       "\\end{enumerate*}\n"
      ],
      "text/markdown": [
       "1. 26989\n",
       "2. 5\n",
       "\n",
       "\n"
      ],
      "text/plain": [
       "[1] 26989     5"
      ]
     },
     "metadata": {},
     "output_type": "display_data"
    },
    {
     "data": {
      "text/html": [
       "<table>\n",
       "<caption>A data.frame: 6 × 5</caption>\n",
       "<thead>\n",
       "\t<tr><th></th><th scope=col>CHR</th><th scope=col>SNP</th><th scope=col>N_MISS</th><th scope=col>N_GENO</th><th scope=col>F_MISS</th></tr>\n",
       "\t<tr><th></th><th scope=col>&lt;int&gt;</th><th scope=col>&lt;fct&gt;</th><th scope=col>&lt;int&gt;</th><th scope=col>&lt;int&gt;</th><th scope=col>&lt;dbl&gt;</th></tr>\n",
       "</thead>\n",
       "<tbody>\n",
       "\t<tr><th scope=row>39</th><td>1</td><td>1:69511:A:T  </td><td>127496</td><td>200643</td><td>0.6354</td></tr>\n",
       "\t<tr><th scope=row>99</th><td>1</td><td>1:69897:T:C  </td><td> 30228</td><td>200643</td><td>0.1507</td></tr>\n",
       "\t<tr><th scope=row>124</th><td>1</td><td>1:925849:D:16</td><td>200643</td><td>200643</td><td>1.0000</td></tr>\n",
       "\t<tr><th scope=row>365</th><td>1</td><td>1:930388:D:8 </td><td>200643</td><td>200643</td><td>1.0000</td></tr>\n",
       "\t<tr><th scope=row>450</th><td>1</td><td>1:931128:D:13</td><td>200643</td><td>200643</td><td>1.0000</td></tr>\n",
       "\t<tr><th scope=row>452</th><td>1</td><td>1:931131:D:4 </td><td>188524</td><td>200643</td><td>0.9396</td></tr>\n",
       "</tbody>\n",
       "</table>\n"
      ],
      "text/latex": [
       "A data.frame: 6 × 5\n",
       "\\begin{tabular}{r|lllll}\n",
       "  & CHR & SNP & N\\_MISS & N\\_GENO & F\\_MISS\\\\\n",
       "  & <int> & <fct> & <int> & <int> & <dbl>\\\\\n",
       "\\hline\n",
       "\t39 & 1 & 1:69511:A:T   & 127496 & 200643 & 0.6354\\\\\n",
       "\t99 & 1 & 1:69897:T:C   &  30228 & 200643 & 0.1507\\\\\n",
       "\t124 & 1 & 1:925849:D:16 & 200643 & 200643 & 1.0000\\\\\n",
       "\t365 & 1 & 1:930388:D:8  & 200643 & 200643 & 1.0000\\\\\n",
       "\t450 & 1 & 1:931128:D:13 & 200643 & 200643 & 1.0000\\\\\n",
       "\t452 & 1 & 1:931131:D:4  & 188524 & 200643 & 0.9396\\\\\n",
       "\\end{tabular}\n"
      ],
      "text/markdown": [
       "\n",
       "A data.frame: 6 × 5\n",
       "\n",
       "| <!--/--> | CHR &lt;int&gt; | SNP &lt;fct&gt; | N_MISS &lt;int&gt; | N_GENO &lt;int&gt; | F_MISS &lt;dbl&gt; |\n",
       "|---|---|---|---|---|---|\n",
       "| 39 | 1 | 1:69511:A:T   | 127496 | 200643 | 0.6354 |\n",
       "| 99 | 1 | 1:69897:T:C   |  30228 | 200643 | 0.1507 |\n",
       "| 124 | 1 | 1:925849:D:16 | 200643 | 200643 | 1.0000 |\n",
       "| 365 | 1 | 1:930388:D:8  | 200643 | 200643 | 1.0000 |\n",
       "| 450 | 1 | 1:931128:D:13 | 200643 | 200643 | 1.0000 |\n",
       "| 452 | 1 | 1:931131:D:4  | 188524 | 200643 | 0.9396 |\n",
       "\n"
      ],
      "text/plain": [
       "    CHR SNP           N_MISS N_GENO F_MISS\n",
       "39  1   1:69511:A:T   127496 200643 0.6354\n",
       "99  1   1:69897:T:C    30228 200643 0.1507\n",
       "124 1   1:925849:D:16 200643 200643 1.0000\n",
       "365 1   1:930388:D:8  200643 200643 1.0000\n",
       "450 1   1:931128:D:13 200643 200643 1.0000\n",
       "452 1   1:931131:D:4  188524 200643 0.9396"
      ]
     },
     "metadata": {},
     "output_type": "display_data"
    }
   ],
   "source": [
    "#F_MISS: proportion of samples missing this SNP\n",
    "lmiss_ten <- lmiss[lmiss[,'F_MISS']>=0.01 ,] # 26989 \n",
    "dim(lmiss_ten)\n",
    "head(lmiss_ten)"
   ]
  },
  {
   "cell_type": "code",
   "execution_count": null,
   "metadata": {
    "kernel": "R"
   },
   "outputs": [],
   "source": [
    "# Check missingness between cases and controls"
   ]
  },
  {
   "cell_type": "code",
   "execution_count": 109,
   "metadata": {
    "kernel": "Bash"
   },
   "outputs": [
    {
     "name": "stdout",
     "output_type": "stream",
     "text": [
      "PLINK v1.90b4.6 64-bit (15 Aug 2017)           www.cog-genomics.org/plink/1.9/\n",
      "(C) 2005-2017 Shaun Purcell, Christopher Chang   GNU General Public License v3\n",
      "Logging to /home/dc2325/scratch60/exomes_UKBB/ukb23155_c1_b0_v1.log.\n",
      "Options in effect:\n",
      "  --bfile /home/dc2325/scratch60/exomes_UKBB/ukb23155_c1_b0_v1\n",
      "  --hardy\n",
      "  --out /home/dc2325/scratch60/exomes_UKBB/ukb23155_c1_b0_v1\n",
      "\n",
      "128238 MB RAM detected; reserving 64119 MB for main workspace.\n",
      "1783906 variants loaded from .bim file.\n",
      "200643 people (90020 males, 110437 females, 186 ambiguous) loaded from .fam.\n",
      "Ambiguous sex IDs written to\n",
      "/home/dc2325/scratch60/exomes_UKBB/ukb23155_c1_b0_v1.nosex .\n",
      "Using 1 thread (no multithreaded calculations invoked).\n",
      "Before main variant filters, 200643 founders and 0 nonfounders present.\n",
      "Calculating allele frequencies... 10111213141516171819202122232425262728293031323334353637383940414243444546474849505152535455565758596061626364656667686970717273747576777879808182838485868788899091929394959697989 done.\n",
      "Total genotyping rate is 0.9886.\n",
      "--hardy: Writing Hardy-Weinberg report (founders only) to\n",
      "/home/dc2325/scratch60/exomes_UKBB/ukb23155_c1_b0_v1.hwe ... 101112131415161718192021222324252627282930313233343536373839404142434445464748495051525354555657585960616263646566676869707172737475767778798081828384858687888990919293949596979899done.\n",
      "\n"
     ]
    }
   ],
   "source": [
    "plink --bfile /home/dc2325/scratch60/exomes_UKBB/ukb23155_c1_b0_v1 --hardy --out /home/dc2325/scratch60/exomes_UKBB/ukb23155_c1_b0_v1"
   ]
  },
  {
   "cell_type": "code",
   "execution_count": null,
   "metadata": {
    "kernel": "Bash"
   },
   "outputs": [],
   "source": [
    "hardy <- read.table('/home/dc2325/scratch60/exomes_UKBB/ukb23155_c1_b0_v1.hwe', header=T)"
   ]
  }
 ],
 "metadata": {
  "kernelspec": {
   "display_name": "SoS",
   "language": "sos",
   "name": "sos"
  },
  "language_info": {
   "codemirror_mode": "sos",
   "file_extension": ".sos",
   "mimetype": "text/x-sos",
   "name": "sos",
   "nbconvert_exporter": "sos_notebook.converter.SoS_Exporter",
   "pygments_lexer": "sos"
  },
  "sos": {
   "kernels": [
    [
     "Bash",
     "calysto_bash",
     "Bash",
     "#E6EEFF",
     "shell"
    ],
    [
     "R",
     "ir",
     "R",
     "#DCDCDA",
     "r"
    ]
   ],
   "version": "0.21.21"
  }
 },
 "nbformat": 4,
 "nbformat_minor": 4
}
