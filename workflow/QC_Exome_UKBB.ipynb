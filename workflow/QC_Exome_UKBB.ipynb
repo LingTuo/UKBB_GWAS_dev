{
 "cells": [
  {
   "cell_type": "markdown",
   "metadata": {
    "kernel": "SoS"
   },
   "source": [
    "# Quality control exomes UKBB Q4/2020"
   ]
  },
  {
   "cell_type": "markdown",
   "metadata": {
    "kernel": "SoS"
   },
   "source": [
    "The data consists of 200,000 exomes \n",
    "\n",
    "50K exomes were made available in March 2019\n",
    "\n",
    "150K exomes were made available in October 2020\n",
    "\n",
    "The 50K set includes the following family relationships:\n",
    "\n",
    "* 194 parent-offspring pairs\n",
    "* 613 full-sibling pairs\n",
    "* 26 trios\n",
    "* 1 monozygotic twin pair\n",
    "* 195 second degree genetically determined relationships\n",
    "\n",
    "**Quality control published for the 50K set**\n",
    "\n",
    "FASTQ files aligned to GRCh38 with BWA-mem and BAM files generated. \n",
    "\n",
    "In the BAM files identify and mark duplicates using PICARD\n",
    "\n",
    "gVCF files with called variants produced using WeCall\n",
    "\n",
    "Samples excluded if:\n",
    "* Differences between genetic and reported sex\n",
    "* High rates of heterozygosity/contamination (Dstat>0.4)\n",
    "* Low sequence coverage (<85% of bases with 20X coverage)\n",
    "* Sample duplicates \n",
    "* WES variants discordant with genotyping chip\n",
    "\n",
    "Then creation of project-level VCF or pVCF\n",
    "\n",
    "Goldilocks:\n",
    "* SNV with DP<7 changed to no-call\n",
    "* SNV heterozygotes retained if allele balance ratio was AB>=0.15\n",
    "* Multiallelic left-normalized and represented as bi-allelic"
   ]
  },
  {
   "cell_type": "markdown",
   "metadata": {
    "kernel": "SoS"
   },
   "source": [
    "## Parameters for downstream QC\n",
    "\n",
    "1. Individual and variant missingnes <10%\n",
    "2. Hardy Weinberg p-value > 10e-15"
   ]
  },
  {
   "cell_type": "markdown",
   "metadata": {
    "kernel": "SoS"
   },
   "source": [
    "# Quality control of pVCF/PLINK files\n",
    "\n",
    "This pipeline is intended to use as an extra step of quality control after obtaining the joint-call file provided by the UKBB (PLINK, pVCF formats)"
   ]
  },
  {
   "cell_type": "markdown",
   "metadata": {
    "kernel": "SoS"
   },
   "source": [
    "To download the PLINK files generate and use the following script\n",
    "\n",
    "```\n",
    "tpl_file=../farnam.yml\n",
    "jobid=23155\n",
    "cwd=/home/dc2325/scratch60/exomes_UKBB\n",
    "job_size=1\n",
    "numThreads=22\n",
    "exome_UKBB=/home/dc2325/project/UKBB_GWAS_dev/workflow/exome_UKBB.ipynb\n",
    "exome_sbatch=../output/$(date +\"%Y-%m-%d\")_exome_download.sbatch\n",
    "\n",
    "cmd_args=\"\"\"default\n",
    "    --cwd $cwd\n",
    "    --jobid $jobid\n",
    "    --job_size $job_size\n",
    "    --numThreads $numThreads\n",
    "\"\"\"\n",
    "\n",
    "sos run ~/project/bioworkflows/GWAS/Get_Job_Script.ipynb farnam \\\n",
    "    --template-file $tpl_file \\\n",
    "    --workflow-file $exome_UKBB \\\n",
    "    --to-script $exome_sbatch \\\n",
    "    --args \"$cmd_args\"\n",
    "```"
   ]
  },
  {
   "cell_type": "markdown",
   "metadata": {
    "kernel": "Bash"
   },
   "source": [
    "## Basic summary statistics using PLINK v1.9"
   ]
  },
  {
   "cell_type": "markdown",
   "metadata": {
    "kernel": "Bash"
   },
   "source": [
    "### Calculate MAF for chr1 using PLINK"
   ]
  },
  {
   "cell_type": "markdown",
   "metadata": {
    "kernel": "Bash"
   },
   "source": [
    "module load PLINK/1.90-beta5.3"
   ]
  },
  {
   "cell_type": "markdown",
   "metadata": {
    "kernel": "Bash"
   },
   "source": [
    "plink --bfile /home/dc2325/scratch60/exomes_UKBB/ukb23155_c1_b0_v1 --freq gz --out /home/dc2325/scratch60/exomes_UKBB/ukb23155_c1_b0_v1"
   ]
  },
  {
   "cell_type": "markdown",
   "metadata": {
    "kernel": "R"
   },
   "source": [
    "frq <- read.table(gzfile('/home/dc2325/scratch60/exomes_UKBB/ukb23155_c1_b0_v1.frq.gz'), header=T)\n",
    "head(frq, 10)\n",
    "dim(frq)"
   ]
  },
  {
   "cell_type": "markdown",
   "metadata": {
    "kernel": "R"
   },
   "source": [
    "### Calculate number of variants above/below threshold with R"
   ]
  },
  {
   "cell_type": "markdown",
   "metadata": {
    "kernel": "R"
   },
   "source": [
    "options(scipen = 999)\n",
    "rare_var <- frq[frq[,'MAF']<=0.005 ,]\n",
    "#Some NA values are generated that mess up the nrow\n",
    "common_var <- frq[frq$MAF > 0.005 & !is.na(frq$MAF),]\n",
    "# Total number of variants 1783906\n",
    "dim(rare_var)\n",
    "dim(common_var)"
   ]
  },
  {
   "cell_type": "markdown",
   "metadata": {
    "kernel": "R"
   },
   "source": [
    "### Calculate number of variants using awk"
   ]
  },
  {
   "cell_type": "markdown",
   "metadata": {
    "kernel": "Bash"
   },
   "source": [
    "zcat /home/dc2325/scratch60/exomes_UKBB/ukb23155_c1_b0_v1.frq.gz | awk '($5 + 0) < 0.005' | wc -l\n",
    "zcat /home/dc2325/scratch60/exomes_UKBB/ukb23155_c1_b0_v1.frq.gz | awk '($5 + 0) > 0.005' | wc -l\n",
    "zcat /home/dc2325/scratch60/exomes_UKBB/ukb23155_c1_b0_v1.frq.gz | awk '($5 + 0) == 0.005' | wc -l"
   ]
  },
  {
   "cell_type": "markdown",
   "metadata": {
    "kernel": "Bash"
   },
   "source": [
    "## Evaluate the missingness per individual/SNP"
   ]
  },
  {
   "cell_type": "markdown",
   "metadata": {
    "kernel": "Bash"
   },
   "source": [
    "plink --bfile /home/dc2325/scratch60/exomes_UKBB/ukb23155_c1_b0_v1 --missing --out /home/dc2325/scratch60/exomes_UKBB/ukb23155_c1_b0_v1"
   ]
  },
  {
   "cell_type": "markdown",
   "metadata": {
    "kernel": "R"
   },
   "source": [
    "imiss <- read.table('/home/dc2325/scratch60/exomes_UKBB/ukb23155_c1_b0_v1.imiss', header=T)\n",
    "lmiss <- read.table('/home/dc2325/scratch60/exomes_UKBB/ukb23155_c1_b0_v1.lmiss', header=T)"
   ]
  },
  {
   "cell_type": "markdown",
   "metadata": {
    "kernel": "R"
   },
   "source": [
    "# F_MISS: frequency of missing genotypes per sample\n",
    "head(imiss)"
   ]
  },
  {
   "cell_type": "markdown",
   "metadata": {
    "kernel": "R"
   },
   "source": [
    "min(imiss$F_MISS)\n",
    "max(imiss$F_MISS)\n",
    "miss_ten <- imiss[imiss[,'F_MISS']>0.1 ,] # No individuals missing more than 10% of genotypes\n",
    "dim(miss_ten)"
   ]
  },
  {
   "cell_type": "markdown",
   "metadata": {
    "kernel": "R"
   },
   "source": [
    "head(lmiss)"
   ]
  },
  {
   "cell_type": "markdown",
   "metadata": {
    "kernel": "R"
   },
   "source": [
    "#F_MISS: proportion of samples missing this SNP\n",
    "lmiss_ten <- lmiss[lmiss[,'F_MISS']>=0.1 ,] # 26989 SNPs are missing in >=10% of the samples\n",
    "dim(lmiss_ten)\n",
    "head(lmiss_ten)"
   ]
  },
  {
   "cell_type": "markdown",
   "metadata": {
    "kernel": "R"
   },
   "source": [
    "## Check missingness between cases and controls"
   ]
  },
  {
   "cell_type": "markdown",
   "metadata": {
    "kernel": "R"
   },
   "source": [
    "## Check HWE "
   ]
  },
  {
   "cell_type": "markdown",
   "metadata": {
    "kernel": "Bash"
   },
   "source": [
    "plink --bfile /home/dc2325/scratch60/exomes_UKBB/ukb23155_c1_b0_v1 --hardy --out /home/dc2325/scratch60/exomes_UKBB/ukb23155_c1_b0_v1"
   ]
  },
  {
   "cell_type": "markdown",
   "metadata": {
    "kernel": "R"
   },
   "source": [
    "hardy <- read.table('/home/dc2325/scratch60/exomes_UKBB/ukb23155_c1_b0_v1.hwe', header=T)"
   ]
  },
  {
   "cell_type": "markdown",
   "metadata": {
    "kernel": "R"
   },
   "source": [
    "head(hardy)"
   ]
  },
  {
   "cell_type": "markdown",
   "metadata": {
    "kernel": "R"
   },
   "source": [
    "hwe <- hardy[hardy[,'P']<=1e-15 ,] #Number of variants that are not in HWE\n",
    "dim(hwe)"
   ]
  },
  {
   "cell_type": "markdown",
   "metadata": {
    "kernel": "R"
   },
   "source": [
    "head(hwe)"
   ]
  },
  {
   "cell_type": "markdown",
   "metadata": {
    "kernel": "R"
   },
   "source": [
    "## Pipeline for exome annotation and downstream analysis"
   ]
  },
  {
   "cell_type": "code",
   "execution_count": null,
   "metadata": {
    "kernel": "SoS"
   },
   "outputs": [],
   "source": [
    "[global]\n",
    "# the output directory for generated files\n",
    "parameter: cwd = path\n",
    "# Genotype files in plink binary this is used for computing the GRM\n",
    "parameter: bfile = path\n",
    "# Specific number of threads to use\n",
    "parameter: numThreads = 2\n",
    "# For cluster jobs, number commands to run per job\n",
    "parameter: job_size = 1\n",
    "# Human genome build\n",
    "parameter: build = 'hg38'\n",
    "# Load annovar module from cluster\n",
    "parameter: annovar_module = '''\n",
    "module load ANNOVAR/2020Jun08-foss-2018b-Perl-5.28.0\n",
    "echo \"Module annovar loaded\"\n",
    "{cmd}\n",
    "'''\n",
    "# Software container option\n",
    "parameter: container_option = 'gaow/gatk4-annovar'\n",
    "parameter: container_lmm = 'statisticalgenetics/lmm:1.4'"
   ]
  },
  {
   "cell_type": "code",
   "execution_count": null,
   "metadata": {
    "kernel": "SoS"
   },
   "outputs": [],
   "source": [
    "# Select the SNPs and samples to be used based on maf, geno, hwe and mind options\n",
    "[qc: provides = [f'{cwd}/cache/{bfile:bn}.qc_pass.vcf.gz']]\n",
    "parameter: maf_filter = 0.0\n",
    "parameter: geno_filter = 0.1\n",
    "parameter: hwe_filter = 5e-8\n",
    "parameter: mind_filter = 0.1\n",
    "input: bfile\n",
    "output: f'{cwd}/cache/{bfile:bn}.qc_pass.vcf.gz'\n",
    "task: trunk_workers = 1, walltime = '10h', mem = '30G', cores = numThreads, tags = f'{step_name}_{_output:bn}'\n",
    "bash: container=container_lmm, expand= \"${ }\", stderr = f'{_output:nn}.stderr', stdout = f'{_output:nn}.stdout' \n",
    "    plink2 \\\n",
    "      --bfile ${bfile:n} ${('--maf %s' % maf_filter) if maf_filter > 0 else ''} ${('--geno %s' % geno_filter) if geno_filter > 0 else ''} ${('--hwe %s' % hwe_filter) if hwe_filter > 0 else ''} ${('--mind %s' % mind_filter) if mind_filter > 0 else ''} \\\n",
    "      --recode vcf bgz \\\n",
    "      --threads ${numThreads} \\\n",
    "      --out ${_output:nn} "
   ]
  },
  {
   "cell_type": "markdown",
   "metadata": {
    "kernel": "SoS"
   },
   "source": [
    "## Annovar details\n",
    "\n",
    "For a list of available [databases](https://doc-openbio.readthedocs.io/projects/annovar/en/latest/user-guide/download/#-for-gene-based-annotation)\n",
    "\n",
    "On Farnam's Yale HPC there is a folder for shared databases\n",
    "```/gpfs/ysm/datasets/db/annovar/humandb```"
   ]
  },
  {
   "cell_type": "code",
   "execution_count": 2,
   "metadata": {
    "kernel": "SoS"
   },
   "outputs": [],
   "source": [
    "# convert vcf to annovar input format\n",
    "[annovar_1]\n",
    "#parameter: vcf_prefix = path('joint_call_output')\n",
    "input: group_by=1\n",
    "output: f'{cwd}/{_input:bnn}.avinput'\n",
    "\n",
    "bash: container=container_option,expand=\"${ }\", stderr=f'{_output:n}.err', stdout=f'{_output:n}.out'\n",
    "\n",
    "    convert2annovar.pl \\\n",
    "        -includeinfo \\\n",
    "        -allsample \\\n",
    "        -withfreq \\\n",
    "        -format vcf4 ${_input} > ${_output[0]} "
   ]
  },
  {
   "cell_type": "code",
   "execution_count": null,
   "metadata": {
    "kernel": "SoS"
   },
   "outputs": [],
   "source": [
    "# Annotate vcf file using ANNOVAR\n",
    "[annovar_2]\n",
    "# humandb path for ANNOVAR\n",
    "parameter: humandb = path\n",
    "#add xreffile to option without -exonicsplicing\n",
    "#mart_export_2019_LOFtools3.txt #xreffile latest option -> Phenotype description,HGNC symbol,MIM morbid description,CGD_CONDITION,CGD_inh,CGD_man,CGD_comm,LOF_tools\n",
    "parameter: x_ref = path(f\"{humandb}/mart_export_2019_LOFtools3.txt\")\n",
    "# Annovar protocol\n",
    "parameter: protocol = ['refGene', 'refGeneWithVer', 'knownGene', 'ensGene', 'phastConsElements30way', 'encRegTfbsClustered', 'gwasCatalog', 'gnomad211_genome', 'gnomad211_exome', 'gme', 'kaviar_20150923', 'abraom', 'avsnp150', 'dbnsfp41a', 'dbscsnv11', 'regsnpintron', 'clinvar_20200316', 'gene4denovo201907']\n",
    "# Annovar operation\n",
    "parameter: operation = ['g', 'g', 'g', 'gx', 'r', 'r', 'r', 'f', 'f', 'f', 'f', 'f', 'f', 'f', 'f', 'f', 'f', 'f']\n",
    "# Annovar args\n",
    "parameter: arg = ['\"-splicing 12 -exonicsplicing\"', '\"-splicing 30\"', '\"-splicing 12 -exonicsplicing\"', '\"-splicing 12\"', '', '', '', '', '', '', '', '', '', '', '', '', '', '']\n",
    "#input: f'{vcf_prefix:a}.avinput'\n",
    "output: f'{cwd}/{_input:bn}.{build}_multianno.csv'\n",
    "task: trunk_workers = 1, walltime = '10h', mem = '30G', cores = numThreads, tags = f'{step_name}_{_output:bn}', template = '{cmd}' if executable('annotate_variation.pl').target_exists() else annovar_module\n",
    "bash: container=container_option, volumes=[f'{humandb:a}:{humandb:a}', f'{x_ref:ad}:{x_ref:ad}'], expand=\"${ }\", stderr=f'{_output:n}.err', stdout=f'{_output:n}.out'\n",
    "    #do not add -intronhgvs as option -> writes cDNA variants as HGVS but creates issues (+2 splice site reported only)\n",
    "    #-nastring . can only be . for VCF files\n",
    "    #regsnpintron might cause shifted lines (be carefull using)\n",
    "    table_annovar.pl \\\n",
    "        ${_input} \\\n",
    "        ${humandb} \\\n",
    "        -buildver ${build} \\\n",
    "        -out ${_output}\\\n",
    "        -remove \\\n",
    "        -polish \\\n",
    "        -nastring . \\\n",
    "        -protocol ${\",\".join(protocol)} \\\n",
    "        -operation ${\",\".join(operation)} \\\n",
    "        -arg ${\",\".join(arg)} \\\n",
    "        -csvout \\\n",
    "        -xreffile ${x_ref}"
   ]
  },
  {
   "cell_type": "markdown",
   "metadata": {
    "kernel": "SoS"
   },
   "source": [
    "## GARCOM: gene and region counting of mutations"
   ]
  },
  {
   "cell_type": "code",
   "execution_count": null,
   "metadata": {
    "kernel": "SoS"
   },
   "outputs": [],
   "source": []
  }
 ],
 "metadata": {
  "kernelspec": {
   "display_name": "SoS",
   "language": "sos",
   "name": "sos"
  },
  "language_info": {
   "codemirror_mode": "sos",
   "file_extension": ".sos",
   "mimetype": "text/x-sos",
   "name": "sos",
   "nbconvert_exporter": "sos_notebook.converter.SoS_Exporter",
   "pygments_lexer": "sos"
  },
  "sos": {
   "kernels": [
    [
     "Bash",
     "calysto_bash",
     "Bash",
     "#E6EEFF",
     "shell"
    ],
    [
     "R",
     "ir",
     "R",
     "#DCDCDA",
     "r"
    ],
    [
     "SoS",
     "sos",
     "",
     "",
     "sos"
    ]
   ],
   "version": "0.21.21"
  }
 },
 "nbformat": 4,
 "nbformat_minor": 4
}
