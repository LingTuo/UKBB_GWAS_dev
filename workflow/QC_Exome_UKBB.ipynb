{
 "cells": [
  {
   "cell_type": "markdown",
   "metadata": {
    "kernel": "SoS"
   },
   "source": [
    "# Quality control exomes UKBB Q4/2020"
   ]
  },
  {
   "cell_type": "markdown",
   "metadata": {
    "kernel": "SoS"
   },
   "source": [
    "The data consists of 200,000 exomes \n",
    "\n",
    "50K exomes were made available in March 2019\n",
    "\n",
    "150K exomes were made available in October 2020\n",
    "\n",
    "The 50K set includes the following family relationships:\n",
    "\n",
    "* 194 parent-offspring pairs\n",
    "* 613 full-sibling pairs\n",
    "* 26 trios\n",
    "* 1 monozygotic twin pair\n",
    "* 195 second degree genetically determined relationships\n",
    "\n",
    "**Quality control published for the 50K set**\n",
    "\n",
    "FASTQ files aligned to GRCh38 with BWA-mem and BAM files generated. \n",
    "\n",
    "In the BAM files identify and mark duplicates using PICARD\n",
    "\n",
    "gVCF files with called variants produced using WeCall\n",
    "\n",
    "Samples excluded if:\n",
    "* Differences between genetic and reported sex\n",
    "* High rates of heterozygosity/contamination (Dstat>0.4)\n",
    "* Low sequence coverage (<85% of bases with 20X coverage)\n",
    "* Sample duplicates \n",
    "* WES variants discordant with genotyping chip\n",
    "\n",
    "Then creation of project-level VCF or pVCF\n",
    "\n",
    "Goldilocks:\n",
    "* SNV with DP<7 changed to no-call\n",
    "* SNV heterozygotes retained if allele balance ratio was AB>=0.15\n",
    "* Multiallelic left-normalized and represented as bi-allelic"
   ]
  },
  {
   "cell_type": "code",
   "execution_count": null,
   "metadata": {
    "kernel": "SoS"
   },
   "outputs": [],
   "source": []
  }
 ],
 "metadata": {
  "kernelspec": {
   "display_name": "SoS",
   "language": "sos",
   "name": "sos"
  },
  "language_info": {
   "codemirror_mode": "sos",
   "file_extension": ".sos",
   "mimetype": "text/x-sos",
   "name": "sos",
   "nbconvert_exporter": "sos_notebook.converter.SoS_Exporter",
   "pygments_lexer": "sos"
  },
  "sos": {
   "kernels": [
    [
     "SoS",
     "sos",
     "",
     ""
    ]
   ],
   "version": "0.21.21"
  }
 },
 "nbformat": 4,
 "nbformat_minor": 4
}
