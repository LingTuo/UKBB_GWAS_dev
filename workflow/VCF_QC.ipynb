{
 "cells": [
  {
   "cell_type": "markdown",
   "metadata": {
    "kernel": "SoS"
   },
   "source": [
    "# QC pVCF files UKBB"
   ]
  },
  {
   "cell_type": "markdown",
   "metadata": {
    "kernel": "SoS"
   },
   "source": [
    "## Aim\n",
    "\n",
    "To do QC on the UKBB pVCF data and return plink files for downstream GWAS analysis\n"
   ]
  },
  {
   "cell_type": "markdown",
   "metadata": {
    "kernel": "SoS"
   },
   "source": [
    "## Input\n",
    "\n",
    "* pVCF file"
   ]
  },
  {
   "cell_type": "markdown",
   "metadata": {
    "kernel": "SoS"
   },
   "source": [
    "## Ouput\n",
    "\n",
    "* bed, bim and fam files per chromosome"
   ]
  },
  {
   "cell_type": "markdown",
   "metadata": {
    "kernel": "SoS"
   },
   "source": [
    "## Understanding pre-QC done in the UKBB\n",
    "\n"
   ]
  },
  {
   "cell_type": "markdown",
   "metadata": {
    "kernel": "SoS"
   },
   "source": [
    "## Software\n",
    "\n",
    "In this case we will use [bcftools](http://www.htslib.org/download/)"
   ]
  },
  {
   "cell_type": "markdown",
   "metadata": {
    "kernel": "SoS"
   },
   "source": [
    "## Conventions\n",
    "```\n",
    "INFO/AC        Number:A  Type:Integer  ..  Allele count in genotypes\n",
    "INFO/AC_Hom    Number:A  Type:Integer  ..  Allele counts in homozygous genotypes\n",
    "INFO/AC_Het    Number:A  Type:Integer  ..  Allele counts in heterozygous genotypes\n",
    "INFO/AC_Hemi   Number:A  Type:Integer  ..  Allele counts in hemizygous genotypes\n",
    "INFO/AF        Number:A  Type:Float    ..  Allele frequency\n",
    "INFO/AN        Number:1  Type:Integer  ..  Total number of alleles in called genotypes\n",
    "INFO/ExcHet    Number:A  Type:Float    ..  Test excess heterozygosity; 1=good, 0=bad\n",
    "INFO/END       Number:1  Type:Integer  ..  End position of the variant\n",
    "INFO/F_MISSING Number:1  Type:Float    ..  Fraction of missing genotypes (all samples, experimental)\n",
    "INFO/HWE       Number:A  Type:Float    ..  HWE test (PMID:15789306); 1=good, 0=bad\n",
    "INFO/MAF       Number:A  Type:Float    ..  Minor Allele frequency\n",
    "INFO/NS        Number:1  Type:Integer  ..  Number of samples with data\n",
    "INFO/TYPE      Number:.  Type:String   ..  The record type (REF,SNP,MNP,INDEL,etc)\n",
    "FORMAT/VAF     Number:A  Type:Float    ..  The fraction of reads with the alternate allele, requires FORMAT/AD\n",
    "FORMAT/VAF1    Number:1  Type:Float    ..  The same as FORMAT/VAF but for all alternate alleles cumulatively\n",
    "TAG=func(TAG)  Number:1  Type:Integer  ..  Experimental support for user-defined expressions such as \"DP=sum(DP)\". This is currently very basic, to be extended.\n",
    "```"
   ]
  },
  {
   "cell_type": "code",
   "execution_count": 1,
   "metadata": {
    "kernel": "Bash"
   },
   "outputs": [
    {
     "name": "stdout",
     "output_type": "stream",
     "text": [
      "INFO/AC        Number:A  Type:Integer  ..  Allele count in genotypes\n",
      "INFO/AC_Hom    Number:A  Type:Integer  ..  Allele counts in homozygous genotypes\n",
      "INFO/AC_Het    Number:A  Type:Integer  ..  Allele counts in heterozygous genotypes\n",
      "INFO/AC_Hemi   Number:A  Type:Integer  ..  Allele counts in hemizygous genotypes\n",
      "INFO/AF        Number:A  Type:Float    ..  Allele frequency\n",
      "INFO/AN        Number:1  Type:Integer  ..  Total number of alleles in called genotypes\n",
      "INFO/ExcHet    Number:A  Type:Float    ..  Test excess heterozygosity; 1=good, 0=bad\n",
      "INFO/END       Number:1  Type:Integer  ..  End position of the variant\n",
      "INFO/F_MISSING Number:1  Type:Float    ..  Fraction of missing genotypes (all samples, experimental)\n",
      "INFO/HWE       Number:A  Type:Float    ..  HWE test (PMID:15789306); 1=good, 0=bad\n",
      "INFO/MAF       Number:A  Type:Float    ..  Minor Allele frequency\n",
      "INFO/NS        Number:1  Type:Integer  ..  Number of samples with data\n",
      "INFO/TYPE      Number:.  Type:String   ..  The record type (REF,SNP,MNP,INDEL,etc)\n",
      "TAG=func(TAG)  Number:1  Type:Integer  ..  Experimental support for user-defined\n",
      "    expressions such as \"DP=sum(DP)\". This is currently very basic, to be extended.\n",
      "\n"
     ]
    }
   ],
   "source": [
    "# Plugin commands\n",
    "\n",
    "## Print a detailed list of available tags\n",
    "bcftools +fill-tags -- -l"
   ]
  },
  {
   "cell_type": "code",
   "execution_count": 3,
   "metadata": {
    "kernel": "Bash"
   },
   "outputs": [
    {
     "name": "stdout",
     "output_type": "stream",
     "text": [
      "\n"
     ]
    }
   ],
   "source": [
    "# Fill all available tags -Oz for vcf.gz or -Ob for bcf\n",
    "\n",
    "bcftools +fill-tags $vcf_file -Oz -o $vcf_out -- -t all"
   ]
  },
  {
   "cell_type": "code",
   "execution_count": null,
   "metadata": {
    "kernel": "Bash"
   },
   "outputs": [],
   "source": [
    "# Calculate total read depth (INFO/DP) from per-sample depths (FORMAT/DP)\n",
    "\n",
    "bcftools +fill-tags $vcf_file -Oz -o $vcf_out -- -t 'DP=sum(DP)'"
   ]
  },
  {
   "cell_type": "markdown",
   "metadata": {
    "kernel": "SoS"
   },
   "source": [
    "## Produce stats of the VCF files"
   ]
  },
  {
   "cell_type": "code",
   "execution_count": 1,
   "metadata": {
    "kernel": "Bash"
   },
   "outputs": [
    {
     "name": "stdout",
     "output_type": "stream",
     "text": [
      "\n"
     ]
    }
   ],
   "source": [
    "bcf=~/software/bin/./bcftools\n",
    "plot=~/software/bin/./plot-vcfstats\n",
    "vcf_file=/mnt/mfs/statgen/UKBiobank/data/exome_files/project_VCF/ukb23156_c1_b0_v1.vcf.gz\n",
    "vcf_out=/mnt/mfs/statgen/UKBiobank/data/exome_files/project_VCF/ukb23156_c1_b0_v1.test.vcf.gz"
   ]
  },
  {
   "cell_type": "markdown",
   "metadata": {
    "kernel": "Bash"
   },
   "source": [
    "## Generate MWE data for real UKBB file"
   ]
  },
  {
   "cell_type": "code",
   "execution_count": null,
   "metadata": {
    "kernel": "Bash"
   },
   "outputs": [],
   "source": [
    "bcftools view /mnt/mfs/statgen/UKBiobank/data/exome_files/project_VCF/ukb23156_c1_b0_v1.vcf.gz| vcfrandomsample -r 0.012 > /mnt/mfs/statgen/UKBiobank/data/exome_files/project_VCF/chr1_mwe.subset.vcf.gz"
   ]
  },
  {
   "cell_type": "markdown",
   "metadata": {
    "kernel": "SoS"
   },
   "source": [
    "### Number of variants per file"
   ]
  },
  {
   "cell_type": "code",
   "execution_count": 3,
   "metadata": {
    "kernel": "Bash"
   },
   "outputs": [
    {
     "name": "stdout",
     "output_type": "stream",
     "text": [
      "16310\n",
      "\n"
     ]
    }
   ],
   "source": [
    "$bcf view -H $vcf_file | wc -l"
   ]
  },
  {
   "cell_type": "markdown",
   "metadata": {
    "kernel": "Bash"
   },
   "source": [
    "# 1. Preparation"
   ]
  },
  {
   "cell_type": "markdown",
   "metadata": {
    "kernel": "Bash"
   },
   "source": [
    "### Index vcf"
   ]
  },
  {
   "cell_type": "code",
   "execution_count": 28,
   "metadata": {
    "kernel": "Bash"
   },
   "outputs": [
    {
     "name": "stdout",
     "output_type": "stream",
     "text": [
      "Restarting kernel \"Bash\"\n",
      "\n",
      "About:   VCF/BCF conversion, view, subset and filter VCF/BCF files.\n",
      "Usage:   bcftools view [options] <in.vcf.gz> [region1 [...]]\n",
      "\n",
      "Output options:\n",
      "    -G,   --drop-genotypes              drop individual genotype information (after subsetting if -s option set)\n",
      "    -h/H, --header-only/--no-header     print the header only/suppress the header in VCF output\n",
      "    -l,   --compression-level [0-9]     compression level: 0 uncompressed, 1 best speed, 9 best compression [-1]\n",
      "          --no-version                  do not append version and command line to the header\n",
      "    -o,   --output <file>               output file name [stdout]\n",
      "    -O,   --output-type <b|u|z|v>       b: compressed BCF, u: uncompressed BCF, z: compressed VCF, v: uncompressed VCF [v]\n",
      "    -r, --regions <region>              restrict to comma-separated list of regions\n",
      "    -R, --regions-file <file>           restrict to regions listed in a file\n",
      "    -t, --targets [^]<region>           similar to -r but streams rather than index-jumps. Exclude regions with \"^\" prefix\n",
      "    -T, --targets-file [^]<file>        similar to -R but streams rather than index-jumps. Exclude regions with \"^\" prefix\n",
      "        --threads <int>                 use multithreading with <int> worker threads [0]\n",
      "\n",
      "Subset options:\n",
      "    -a, --trim-alt-alleles        trim ALT alleles not seen in the genotype fields (or their subset with -s/-S)\n",
      "    -I, --no-update               do not (re)calculate INFO fields for the subset (currently INFO/AC and INFO/AN)\n",
      "    -s, --samples [^]<list>       comma separated list of samples to include (or exclude with \"^\" prefix)\n",
      "    -S, --samples-file [^]<file>  file of samples to include (or exclude with \"^\" prefix)\n",
      "        --force-samples           only warn about unknown subset samples\n",
      "\n",
      "Filter options:\n",
      "    -c/C, --min-ac/--max-ac <int>[:<type>]      minimum/maximum count for non-reference (nref), 1st alternate (alt1), least frequent\n",
      "                                                   (minor), most frequent (major) or sum of all but most frequent (nonmajor) alleles [nref]\n",
      "    -f,   --apply-filters <list>                require at least one of the listed FILTER strings (e.g. \"PASS,.\")\n",
      "    -g,   --genotype [^]<hom|het|miss>          require one or more hom/het/missing genotype or, if prefixed with \"^\", exclude sites with hom/het/missing genotypes\n",
      "    -i/e, --include/--exclude <expr>            select/exclude sites for which the expression is true (see man page for details)\n",
      "    -k/n, --known/--novel                       select known/novel sites only (ID is not/is '.')\n",
      "    -m/M, --min-alleles/--max-alleles <int>     minimum/maximum number of alleles listed in REF and ALT (e.g. -m2 -M2 for biallelic sites)\n",
      "    -p/P, --phased/--exclude-phased             select/exclude sites where all samples are phased\n",
      "    -q/Q, --min-af/--max-af <float>[:<type>]    minimum/maximum frequency for non-reference (nref), 1st alternate (alt1), least frequent\n",
      "                                                   (minor), most frequent (major) or sum of all but most frequent (nonmajor) alleles [nref]\n",
      "    -u/U, --uncalled/--exclude-uncalled         select/exclude sites without a called genotype\n",
      "    -v/V, --types/--exclude-types <list>        select/exclude comma-separated list of variant types: snps,indels,mnps,ref,bnd,other [null]\n",
      "    -x/X, --private/--exclude-private           select/exclude sites where the non-reference alleles are exclusive (private) to the subset samples\n",
      "\n",
      "\n"
     ]
    }
   ],
   "source": [
    "bcftools view $vcf_file && bcftools index $vcf_file -t # data.vcf.gz.tbi"
   ]
  },
  {
   "cell_type": "code",
   "execution_count": null,
   "metadata": {
    "kernel": "Bash"
   },
   "outputs": [],
   "source": [
    "bcftools index $vcf_file -t"
   ]
  },
  {
   "cell_type": "code",
   "execution_count": null,
   "metadata": {
    "kernel": "Bash"
   },
   "outputs": [],
   "source": [
    "bcftools +fill-tags -- -l"
   ]
  },
  {
   "cell_type": "markdown",
   "metadata": {
    "kernel": "Bash"
   },
   "source": [
    "### Check samples"
   ]
  },
  {
   "cell_type": "code",
   "execution_count": 26,
   "metadata": {
    "kernel": "Bash"
   },
   "outputs": [
    {
     "name": "stdout",
     "output_type": "stream",
     "text": [
      "1434748\n",
      "5523981\n",
      "5023838\n",
      "4023729\n",
      "4442146\n",
      "5654789\n",
      "4515669\n",
      "1129683\n",
      "5327043\n",
      "4744741\n",
      "\n"
     ]
    }
   ],
   "source": [
    "bcftools query -l $vcf_file | head"
   ]
  },
  {
   "cell_type": "markdown",
   "metadata": {
    "kernel": "Bash"
   },
   "source": [
    "### Check variants: obtain number of variants"
   ]
  },
  {
   "cell_type": "code",
   "execution_count": null,
   "metadata": {
    "kernel": "Bash"
   },
   "outputs": [],
   "source": [
    "#Obtain number of variants needs to be indexed first\n",
    "bcftools index -n $vcf_file "
   ]
  },
  {
   "cell_type": "markdown",
   "metadata": {
    "kernel": "Bash"
   },
   "source": [
    "### Inspection of Quality Measurements\n"
   ]
  },
  {
   "cell_type": "code",
   "execution_count": 3,
   "metadata": {
    "kernel": "Bash"
   },
   "outputs": [
    {
     "name": "stdout",
     "output_type": "stream",
     "text": [
      "\n"
     ]
    }
   ],
   "source": [
    "$bcf stats -s - $vcf_file >  ~/output/vcf_stats/ukbb_chr1_b1.vchk"
   ]
  },
  {
   "cell_type": "code",
   "execution_count": 22,
   "metadata": {
    "kernel": "Bash"
   },
   "outputs": [
    {
     "name": "stdout",
     "output_type": "stream",
     "text": [
      "Parsing bcftools stats output: /home/dmc2245/output/vcf_stats/ukbb_chr1_b1.vchk\n",
      "Plotting graphs: python3 plot.py\n",
      "Creating PDF: tectonic summary.tex >plot-vcfstats.log 2>&1\n",
      "The command exited with non-zero status, please consult the output of tectonic: /home/dmc2245/output/vcf_stats/plot-vcfstats.log\n",
      "\n",
      " at /home/dmc2245/software/bin/plot-vcfstats line 111.\n",
      "\tmain::error(\"The command exited with non-zero status, please consult the o\"...) called at /home/dmc2245/software/bin/plot-vcfstats line 2123\n",
      "\tmain::create_pdf(HASH(0x564585baf348)) called at /home/dmc2245/software/bin/plot-vcfstats line 72\n",
      "\n"
     ]
    }
   ],
   "source": [
    "plot-vcfstats -p ~/output/vcf_stats/ ~/output/vcf_stats/ukbb_chr1_b1.vchk"
   ]
  },
  {
   "cell_type": "code",
   "execution_count": 10,
   "metadata": {
    "kernel": "Bash"
   },
   "outputs": [
    {
     "data": {
      "text/html": [
       "<div class=\"sos_hint\">> /home/dmc2245/output/vcf_stats/depth.0.png (25.4 KiB):</div>"
      ],
      "text/plain": [
       "\n",
       "> /home/dmc2245/output/vcf_stats/depth.0.png (25.4 KiB):"
      ]
     },
     "metadata": {},
     "output_type": "display_data"
    },
    {
     "data": {
      "image/png": "[encoded data removed]"
     },
     "metadata": {
      "image/png": {}
     },
     "output_type": "display_data"
    },
    {
     "data": {
      "text/html": [
       "<div class=\"sos_hint\">> ~/output/vcf_stats/depth.0.png:</div>"
      ],
      "text/plain": [
       ">>> ~/output/vcf_stats/depth.0.png:\n"
      ]
     },
     "metadata": {},
     "output_type": "display_data"
    },
    {
     "name": "stdout",
     "output_type": "stream",
     "text": [
      "bash: /home/dmc2245/output/vcf_stats/depth.0.png: Permission denied\n",
      "\n"
     ]
    }
   ],
   "source": [
    "%preview -s png  ~/output/vcf_stats/depth.0.png"
   ]
  },
  {
   "cell_type": "code",
   "execution_count": 11,
   "metadata": {
    "kernel": "Bash"
   },
   "outputs": [
    {
     "data": {
      "text/html": [
       "<div class=\"sos_hint\">> /home/dmc2245/output/vcf_stats/dp_by_sample.0.png (21.0 KiB):</div>"
      ],
      "text/plain": [
       "\n",
       "> /home/dmc2245/output/vcf_stats/dp_by_sample.0.png (21.0 KiB):"
      ]
     },
     "metadata": {},
     "output_type": "display_data"
    },
    {
     "data": {
      "image/png": "[encoded data removed]"
     },
     "metadata": {
      "image/png": {}
     },
     "output_type": "display_data"
    },
    {
     "data": {
      "text/html": [
       "<div class=\"sos_hint\">> ~/output/vcf_stats/dp_by_sample.0.png:</div>"
      ],
      "text/plain": [
       ">>> ~/output/vcf_stats/dp_by_sample.0.png:\n"
      ]
     },
     "metadata": {},
     "output_type": "display_data"
    },
    {
     "name": "stdout",
     "output_type": "stream",
     "text": [
      "bash: /home/dmc2245/output/vcf_stats/dp_by_sample.0.png: Permission denied\n",
      "\n"
     ]
    }
   ],
   "source": [
    "%preview -s png  ~/output/vcf_stats/dp_by_sample.0.png"
   ]
  },
  {
   "cell_type": "code",
   "execution_count": 12,
   "metadata": {
    "kernel": "Bash"
   },
   "outputs": [
    {
     "data": {
      "text/html": [
       "<div class=\"sos_hint\">> /home/dmc2245/output/vcf_stats/hets_by_sample.0.png (28.0 KiB):</div>"
      ],
      "text/plain": [
       "\n",
       "> /home/dmc2245/output/vcf_stats/hets_by_sample.0.png (28.0 KiB):"
      ]
     },
     "metadata": {},
     "output_type": "display_data"
    },
    {
     "data": {
      "image/png": "[encoded data removed]"
     },
     "metadata": {
      "image/png": {}
     },
     "output_type": "display_data"
    },
    {
     "data": {
      "text/html": [
       "<div class=\"sos_hint\">> ~/output/vcf_stats/hets_by_sample.0.png:</div>"
      ],
      "text/plain": [
       ">>> ~/output/vcf_stats/hets_by_sample.0.png:\n"
      ]
     },
     "metadata": {},
     "output_type": "display_data"
    },
    {
     "name": "stdout",
     "output_type": "stream",
     "text": [
      "bash: /home/dmc2245/output/vcf_stats/hets_by_sample.0.png: Permission denied\n",
      "\n"
     ]
    }
   ],
   "source": [
    "%preview -s png  ~/output/vcf_stats/hets_by_sample.0.png"
   ]
  },
  {
   "cell_type": "code",
   "execution_count": 13,
   "metadata": {
    "kernel": "Bash"
   },
   "outputs": [
    {
     "data": {
      "text/html": [
       "<div class=\"sos_hint\">> /home/dmc2245/output/vcf_stats/hwe.0.png (32.5 KiB):</div>"
      ],
      "text/plain": [
       "\n",
       "> /home/dmc2245/output/vcf_stats/hwe.0.png (32.5 KiB):"
      ]
     },
     "metadata": {},
     "output_type": "display_data"
    },
    {
     "data": {
      "image/png": "[encoded data removed]"
     },
     "metadata": {
      "image/png": {}
     },
     "output_type": "display_data"
    },
    {
     "data": {
      "text/html": [
       "<div class=\"sos_hint\">> ~/output/vcf_stats/hwe.0.png:</div>"
      ],
      "text/plain": [
       ">>> ~/output/vcf_stats/hwe.0.png:\n"
      ]
     },
     "metadata": {},
     "output_type": "display_data"
    },
    {
     "name": "stdout",
     "output_type": "stream",
     "text": [
      "bash: /home/dmc2245/output/vcf_stats/hwe.0.png: Permission denied\n",
      "\n"
     ]
    }
   ],
   "source": [
    "%preview -s png  ~/output/vcf_stats/hwe.0.png"
   ]
  },
  {
   "cell_type": "code",
   "execution_count": 14,
   "metadata": {
    "kernel": "Bash"
   },
   "outputs": [
    {
     "data": {
      "text/html": [
       "<div class=\"sos_hint\">> /home/dmc2245/output/vcf_stats/indel_vaf.0.png (30.0 KiB):</div>"
      ],
      "text/plain": [
       "\n",
       "> /home/dmc2245/output/vcf_stats/indel_vaf.0.png (30.0 KiB):"
      ]
     },
     "metadata": {},
     "output_type": "display_data"
    },
    {
     "data": {
      "image/png": "[encoded data removed]"
     },
     "metadata": {
      "image/png": {}
     },
     "output_type": "display_data"
    },
    {
     "data": {
      "text/html": [
       "<div class=\"sos_hint\">> ~/output/vcf_stats/indel_vaf.0.png:</div>"
      ],
      "text/plain": [
       ">>> ~/output/vcf_stats/indel_vaf.0.png:\n"
      ]
     },
     "metadata": {},
     "output_type": "display_data"
    },
    {
     "name": "stdout",
     "output_type": "stream",
     "text": [
      "bash: /home/dmc2245/output/vcf_stats/indel_vaf.0.png: Permission denied\n",
      "\n"
     ]
    }
   ],
   "source": [
    "%preview -s png  ~/output/vcf_stats/indel_vaf.0.png"
   ]
  },
  {
   "cell_type": "code",
   "execution_count": 15,
   "metadata": {
    "kernel": "Bash"
   },
   "outputs": [
    {
     "data": {
      "text/html": [
       "<div class=\"sos_hint\">> /home/dmc2245/output/vcf_stats/indels.0.png (11.8 KiB):</div>"
      ],
      "text/plain": [
       "\n",
       "> /home/dmc2245/output/vcf_stats/indels.0.png (11.8 KiB):"
      ]
     },
     "metadata": {},
     "output_type": "display_data"
    },
    {
     "data": {
      "image/png": "[encoded data removed]"
     },
     "metadata": {
      "image/png": {}
     },
     "output_type": "display_data"
    },
    {
     "data": {
      "text/html": [
       "<div class=\"sos_hint\">> ~/output/vcf_stats/indels.0.png:</div>"
      ],
      "text/plain": [
       ">>> ~/output/vcf_stats/indels.0.png:\n"
      ]
     },
     "metadata": {},
     "output_type": "display_data"
    },
    {
     "name": "stdout",
     "output_type": "stream",
     "text": [
      "bash: /home/dmc2245/output/vcf_stats/indels.0.png: Permission denied\n",
      "\n"
     ]
    }
   ],
   "source": [
    "%preview -s png  ~/output/vcf_stats/indels.0.png"
   ]
  },
  {
   "cell_type": "code",
   "execution_count": 16,
   "metadata": {
    "kernel": "Bash"
   },
   "outputs": [
    {
     "data": {
      "text/html": [
       "<div class=\"sos_hint\">> /home/dmc2245/output/vcf_stats/indels_by_sample.0.png (30.0 KiB):</div>"
      ],
      "text/plain": [
       "\n",
       "> /home/dmc2245/output/vcf_stats/indels_by_sample.0.png (30.0 KiB):"
      ]
     },
     "metadata": {},
     "output_type": "display_data"
    },
    {
     "data": {
      "image/png": "[encoded data removed]"
     },
     "metadata": {
      "image/png": {}
     },
     "output_type": "display_data"
    },
    {
     "data": {
      "text/html": [
       "<div class=\"sos_hint\">> ~/output/vcf_stats/indels_by_sample.0.png:</div>"
      ],
      "text/plain": [
       ">>> ~/output/vcf_stats/indels_by_sample.0.png:\n"
      ]
     },
     "metadata": {},
     "output_type": "display_data"
    },
    {
     "name": "stdout",
     "output_type": "stream",
     "text": [
      "bash: /home/dmc2245/output/vcf_stats/indels_by_sample.0.png: Permission denied\n",
      "\n"
     ]
    }
   ],
   "source": [
    "%preview -s png  ~/output/vcf_stats/indels_by_sample.0.png"
   ]
  },
  {
   "cell_type": "code",
   "execution_count": 17,
   "metadata": {
    "kernel": "Bash"
   },
   "outputs": [
    {
     "data": {
      "text/html": [
       "<div class=\"sos_hint\">> /home/dmc2245/output/vcf_stats/singletons_by_sample.0.png (17.9 KiB):</div>"
      ],
      "text/plain": [
       "\n",
       "> /home/dmc2245/output/vcf_stats/singletons_by_sample.0.png (17.9 KiB):"
      ]
     },
     "metadata": {},
     "output_type": "display_data"
    },
    {
     "data": {
      "image/png": "[encoded data removed]"
     },
     "metadata": {
      "image/png": {}
     },
     "output_type": "display_data"
    },
    {
     "data": {
      "text/html": [
       "<div class=\"sos_hint\">> ~/output/vcf_stats/singletons_by_sample.0.png:</div>"
      ],
      "text/plain": [
       ">>> ~/output/vcf_stats/singletons_by_sample.0.png:\n"
      ]
     },
     "metadata": {},
     "output_type": "display_data"
    },
    {
     "name": "stdout",
     "output_type": "stream",
     "text": [
      "bash: /home/dmc2245/output/vcf_stats/singletons_by_sample.0.png: Permission denied\n",
      "\n"
     ]
    }
   ],
   "source": [
    "%preview -s png  ~/output/vcf_stats/singletons_by_sample.0.png"
   ]
  },
  {
   "cell_type": "code",
   "execution_count": 18,
   "metadata": {
    "kernel": "Bash"
   },
   "outputs": [
    {
     "data": {
      "text/html": [
       "<div class=\"sos_hint\">> /home/dmc2245/output/vcf_stats/snps_by_sample.0.png (25.9 KiB):</div>"
      ],
      "text/plain": [
       "\n",
       "> /home/dmc2245/output/vcf_stats/snps_by_sample.0.png (25.9 KiB):"
      ]
     },
     "metadata": {},
     "output_type": "display_data"
    },
    {
     "data": {
      "image/png": "[encoded data removed]"
     },
     "metadata": {
      "image/png": {}
     },
     "output_type": "display_data"
    },
    {
     "data": {
      "text/html": [
       "<div class=\"sos_hint\">> ~/output/vcf_stats/snps_by_sample.0.png:</div>"
      ],
      "text/plain": [
       ">>> ~/output/vcf_stats/snps_by_sample.0.png:\n"
      ]
     },
     "metadata": {},
     "output_type": "display_data"
    },
    {
     "name": "stdout",
     "output_type": "stream",
     "text": [
      "bash: /home/dmc2245/output/vcf_stats/snps_by_sample.0.png: Permission denied\n",
      "\n"
     ]
    }
   ],
   "source": [
    "%preview -s png  ~/output/vcf_stats/snps_by_sample.0.png"
   ]
  },
  {
   "cell_type": "code",
   "execution_count": 19,
   "metadata": {
    "kernel": "Bash"
   },
   "outputs": [
    {
     "data": {
      "text/html": [
       "<div class=\"sos_hint\">> /home/dmc2245/output/vcf_stats/substitutions.0.png (12.3 KiB):</div>"
      ],
      "text/plain": [
       "\n",
       "> /home/dmc2245/output/vcf_stats/substitutions.0.png (12.3 KiB):"
      ]
     },
     "metadata": {},
     "output_type": "display_data"
    },
    {
     "data": {
      "image/png": "[encoded data removed]"
     },
     "metadata": {
      "image/png": {}
     },
     "output_type": "display_data"
    },
    {
     "data": {
      "text/html": [
       "<div class=\"sos_hint\">> ~/output/vcf_stats/substitutions.0.png:</div>"
      ],
      "text/plain": [
       ">>> ~/output/vcf_stats/substitutions.0.png:\n"
      ]
     },
     "metadata": {},
     "output_type": "display_data"
    },
    {
     "name": "stdout",
     "output_type": "stream",
     "text": [
      "bash: /home/dmc2245/output/vcf_stats/substitutions.0.png: Permission denied\n",
      "\n"
     ]
    }
   ],
   "source": [
    "%preview -s png  ~/output/vcf_stats/substitutions.0.png"
   ]
  },
  {
   "cell_type": "code",
   "execution_count": 20,
   "metadata": {
    "kernel": "Bash"
   },
   "outputs": [
    {
     "data": {
      "text/html": [
       "<div class=\"sos_hint\">> /home/dmc2245/output/vcf_stats/tstv_by_qual.0.png (18.4 KiB):</div>"
      ],
      "text/plain": [
       "\n",
       "> /home/dmc2245/output/vcf_stats/tstv_by_qual.0.png (18.4 KiB):"
      ]
     },
     "metadata": {},
     "output_type": "display_data"
    },
    {
     "data": {
      "image/png": "[encoded data removed]"
     },
     "metadata": {
      "image/png": {}
     },
     "output_type": "display_data"
    },
    {
     "data": {
      "text/html": [
       "<div class=\"sos_hint\">> ~/output/vcf_stats/tstv_by_qual.0.png:</div>"
      ],
      "text/plain": [
       ">>> ~/output/vcf_stats/tstv_by_qual.0.png:\n"
      ]
     },
     "metadata": {},
     "output_type": "display_data"
    },
    {
     "name": "stdout",
     "output_type": "stream",
     "text": [
      "bash: /home/dmc2245/output/vcf_stats/tstv_by_qual.0.png: Permission denied\n",
      "\n"
     ]
    }
   ],
   "source": [
    "%preview -s png  ~/output/vcf_stats/tstv_by_qual.0.png"
   ]
  },
  {
   "cell_type": "code",
   "execution_count": 21,
   "metadata": {
    "kernel": "Bash"
   },
   "outputs": [
    {
     "data": {
      "text/html": [
       "<div class=\"sos_hint\">> /home/dmc2245/output/vcf_stats/tstv_by_sample.0.png (25.9 KiB):</div>"
      ],
      "text/plain": [
       "\n",
       "> /home/dmc2245/output/vcf_stats/tstv_by_sample.0.png (25.9 KiB):"
      ]
     },
     "metadata": {},
     "output_type": "display_data"
    },
    {
     "data": {
      "image/png": "[encoded data removed]"
     },
     "metadata": {
      "image/png": {}
     },
     "output_type": "display_data"
    },
    {
     "data": {
      "text/html": [
       "<div class=\"sos_hint\">> ~/output/vcf_stats/tstv_by_sample.0.png:</div>"
      ],
      "text/plain": [
       ">>> ~/output/vcf_stats/tstv_by_sample.0.png:\n"
      ]
     },
     "metadata": {},
     "output_type": "display_data"
    },
    {
     "name": "stdout",
     "output_type": "stream",
     "text": [
      "bash: /home/dmc2245/output/vcf_stats/tstv_by_sample.0.png: Permission denied\n",
      "\n"
     ]
    }
   ],
   "source": [
    "%preview -s png  ~/output/vcf_stats/tstv_by_sample.0.png"
   ]
  },
  {
   "cell_type": "markdown",
   "metadata": {
    "kernel": "Bash"
   },
   "source": [
    "# 2. Apply hard quality filters"
   ]
  },
  {
   "cell_type": "code",
   "execution_count": 2,
   "metadata": {
    "kernel": "Bash"
   },
   "outputs": [
    {
     "name": "stdout",
     "output_type": "stream",
     "text": [
      "\n"
     ]
    }
   ],
   "source": [
    "#Take a look at the FORMAT/GQ, FORMAT/DP and AB measures\n",
    "\n",
    "$bcf query $vcf_file -f '[%GQ]\\t[%DP]\\n' > ~/output/vcf_stats/chr1.GQ.DP.txt"
   ]
  },
  {
   "cell_type": "code",
   "execution_count": 1,
   "metadata": {
    "kernel": "Bash"
   },
   "outputs": [
    {
     "name": "stdout",
     "output_type": "stream",
     "text": [
      "\n"
     ]
    }
   ],
   "source": [
    "$bcf stats --af-bins 0.1,0.5,1 -d 0,500,1 $vcf_file >  ~/output/vcf_stats/ukbb_chr1_b1.vchk"
   ]
  },
  {
   "cell_type": "code",
   "execution_count": null,
   "metadata": {
    "kernel": "Bash"
   },
   "outputs": [],
   "source": [
    "$bcf AVG(GQ)>50 "
   ]
  },
  {
   "cell_type": "code",
   "execution_count": null,
   "metadata": {
    "kernel": "Bash"
   },
   "outputs": [],
   "source": [
    "$bcf query -i 'GT = \"alt\" & GT = \"hom\"' -f \"%CHROM\\t%POS\\n[\\t%SAMPLE\\t%GT\\t%GQ\\n]\" $vcf_file"
   ]
  },
  {
   "cell_type": "code",
   "execution_count": null,
   "metadata": {
    "kernel": "Bash"
   },
   "outputs": [],
   "source": [
    "$bcf query -f \"%CHROM\\t%POS\\t%ID\\t%INFO/AF\\t%QUAL\\t%INFO/BaseQRankSum\" $vcf_file"
   ]
  },
  {
   "cell_type": "code",
   "execution_count": null,
   "metadata": {
    "kernel": "Bash"
   },
   "outputs": [],
   "source": [
    "$bcf query -e'FILTER=\".\"' -f'%CHROM %POS %FILTER\\n' $vcf_file | head -2"
   ]
  },
  {
   "cell_type": "code",
   "execution_count": null,
   "metadata": {
    "kernel": "Bash"
   },
   "outputs": [],
   "source": [
    "$bcf view -i 'GT=\"het\" && (AB >0.20)' $vcf_file | head -2"
   ]
  },
  {
   "cell_type": "code",
   "execution_count": null,
   "metadata": {
    "kernel": "Bash"
   },
   "outputs": [],
   "source": [
    "$bcf query -i'FMT/DP>10 & FMT/GQ>20' -f'%CHROM\\tPOS\\t%QUAL\\t[%SAMPLE:DP=%DP GQ=%GQ]\\n' $vcf_file | head -2"
   ]
  },
  {
   "cell_type": "code",
   "execution_count": null,
   "metadata": {
    "kernel": "Bash"
   },
   "outputs": [],
   "source": [
    "$bcf query -i 'TYPE=\"snp\" && MIN(DP)>5 && QUAL>10' -f'%CHROM\\tPOS\\t%QUAL\\t[%SAMPLE:DP=%DP GQ=%GQ]\\n' $vcf_file | head -2"
   ]
  },
  {
   "cell_type": "markdown",
   "metadata": {
    "kernel": "SoS"
   },
   "source": [
    "### Plot VCF stats"
   ]
  },
  {
   "cell_type": "code",
   "execution_count": null,
   "metadata": {
    "kernel": "Bash"
   },
   "outputs": [],
   "source": [
    "~/software/bin/./plot-vcfstats --merge chr{1..22} > ~/output/vcf_stats/merged_stats.vchk"
   ]
  },
  {
   "cell_type": "code",
   "execution_count": null,
   "metadata": {
    "kernel": "Bash"
   },
   "outputs": [],
   "source": [
    "~/software/bin/./plot-vcfstats \\\n",
    "    --prefix ~/output/vcf_stats/merged_plots \\\n",
    "    --main-title 'Summary statistics plots for UKBB pVCF'\\\n",
    "    ~/output/vcf_stats/merged_stats.vchk"
   ]
  },
  {
   "cell_type": "markdown",
   "metadata": {
    "kernel": "Bash"
   },
   "source": [
    "### Filter VCF files"
   ]
  },
  {
   "cell_type": "markdown",
   "metadata": {
    "kernel": "Bash"
   },
   "source": [
    "1. Genotype depth filters: SNPs DP>=7 and Indels DP>=10 for indels\n",
    "    > Then only SNV variant sites that met at least one of the following two criteria were [retained](https://www.google.com/url?sa=t&rct=j&q=&esrc=s&source=web&cd=&ved=2ahUKEwjPw5r_s5fvAhUVUzUKHe7GD-kQFjAEegQIDRAD&url=https%3A%2F%2Fwww.biorxiv.org%2Fcontent%2Fbiorxiv%2Fearly%2F2019%2F03%2F09%2F572347%2FDC2%2Fembed%2Fmedia-2.pdf%3Fdownload%3Dtrue&usg=AOvVaw06fvt4jBTPq5VfepojT1mZ) according to filtering made on the ~50K exomes by the UKBB\n",
    "    \n",
    "    > 1) at least one heterozygous variant genotype with allele balance ratio greater than or equal to 15% (AB >= 0.15) \n",
    "    \n",
    "    > 2) at least one homozygous variant genotype\n",
    "    \n",
    "2. At least one variant genotype passing the Allele Balance filter: heterozygous SNV AB>=0.15, heterozygous indel>=0.20\n",
    "3. Genotype quality GQ>=20"
   ]
  },
  {
   "cell_type": "markdown",
   "metadata": {},
   "source": [
    "### Create an even smaller MWE with few variants and samples\n",
    "\n",
    "This is done to make sure the code for filtering is working\n"
   ]
  },
  {
   "cell_type": "code",
   "execution_count": 1,
   "metadata": {},
   "outputs": [],
   "source": [
    "cd /mnt/mfs/statgen/UKBiobank/data/exome_files/project_VCF/testing_bcftools"
   ]
  },
  {
   "cell_type": "code",
   "execution_count": 32,
   "metadata": {},
   "outputs": [],
   "source": [
    "bcftools view -s 1434748,5523981 chr3_mwe.subset.leftnorm.vcf.gz -Oz -o chr3_mwe.subset_2samples.leftnorm.vcf.gz"
   ]
  },
  {
   "cell_type": "code",
   "execution_count": 33,
   "metadata": {},
   "outputs": [],
   "source": [
    "#Get the header only\n",
    "bcftools view -h chr3_mwe.subset_2samples.leftnorm.vcf.gz > header_vcf.txt"
   ]
  },
  {
   "cell_type": "code",
   "execution_count": 34,
   "metadata": {},
   "outputs": [],
   "source": [
    "#Get the genotypes only\n",
    "bcftools view -H chr3_mwe.subset_2samples.leftnorm.vcf.gz > samples_vcf.txt"
   ]
  },
  {
   "cell_type": "code",
   "execution_count": 9,
   "metadata": {},
   "outputs": [
    {
     "name": "stdout",
     "output_type": "stream",
     "text": [
      "chr3\t43332376\tTAATATGTC\tT\tGT=0/1:AD=7,10:DP=17\tGT=0/0:AD=15,0:DP=15\t\n",
      "chr3\t43332380\tA\tG\tGT=0/1:AD=3,3:DP=6\tGT=0/0:AD=15,0:DP=15\t\n",
      "chr3\t43332382\tG\tA\tGT=0/1:AD=35,5:DP=40\tGT=0/1:AD=29,1:DP=30\t\n",
      "chr3\t43332384\tC\tG\tGT=1/1:AD=7,7:DP=14\tGT=0/0:AD=15,0:DP=15\t\n",
      "chr3\t43340428\tG\tA\tGT=0/0:AD=21,0:DP=21\tGT=0/0:AD=16,0:DP=16\t\n",
      "chr3\t43348535\tC\tCCAGCTGTTGCCATGTCATCTGACTGTGG\tGT=0/1:AD=7,2:DP=9\tGT=0/0:AD=19,0:DP=19\t\n",
      "chr3\t43372724\tC\tT\tGT=0/0:AD=6,0:DP=6\tGT=0/0:AD=16,0:DP=16\t\n",
      "chr3\t43549662\tT\tC\tGT=0/0:AD=14,0:DP=14\tGT=0/0:AD=16,0:DP=16\t\n",
      "chr3\t43576874\tT\tC\tGT=0/0:AD=21,0:DP=21\tGT=0/0:AD=18,0:DP=18\t\n"
     ]
    }
   ],
   "source": [
    "bcftools query -f '%CHROM\\t%POS\\t%REF\\t%ALT\\t[GT=%GT:AD=%AD:DP=%DP\\t]\\n' chr3_mwe.subset_2samples.leftnorm.vcf.gz | grep -v \"^#\""
   ]
  },
  {
   "cell_type": "code",
   "execution_count": 73,
   "metadata": {},
   "outputs": [],
   "source": [
    "# Changed manually some genotypes and removed variants using vim\n",
    "bcftools filter  -S . -e '(TYPE=\"SNP\" & FMT/DP<7 & FMT/GQ<20) | (TYPE=\"INDEL\"& FMT/DP<10 & FMT/GQ<20)' chr3_mwe.subset_2samples.leftnorm.vcf.gz -Oz -o chr3_mwe.subset_2samples.filter_1.vcf.gz"
   ]
  },
  {
   "cell_type": "code",
   "execution_count": 8,
   "metadata": {},
   "outputs": [
    {
     "name": "stdout",
     "output_type": "stream",
     "text": [
      "chr3\t43332376\tTAATATGTC\tT\tGT=0/1:AD=7,10:DP=17\tGT=0/0:AD=15,0:DP=15\t\n",
      "chr3\t43332380\tA\tG\tGT=./.:AD=3,3:DP=6\tGT=0/0:AD=15,0:DP=15\t\n",
      "chr3\t43332382\tG\tA\tGT=0/1:AD=35,5:DP=40\tGT=0/1:AD=29,1:DP=30\t\n",
      "chr3\t43332384\tC\tG\tGT=1/1:AD=7,7:DP=14\tGT=0/0:AD=15,0:DP=15\t\n",
      "chr3\t43340428\tG\tA\tGT=0/0:AD=21,0:DP=21\tGT=0/0:AD=16,0:DP=16\t\n",
      "chr3\t43348535\tC\tCCAGCTGTTGCCATGTCATCTGACTGTGG\tGT=./.:AD=7,2:DP=9\tGT=0/0:AD=19,0:DP=19\t\n",
      "chr3\t43372724\tC\tT\tGT=./.:AD=6,0:DP=6\tGT=0/0:AD=16,0:DP=16\t\n",
      "chr3\t43549662\tT\tC\tGT=0/0:AD=14,0:DP=14\tGT=0/0:AD=16,0:DP=16\t\n",
      "chr3\t43576874\tT\tC\tGT=0/0:AD=21,0:DP=21\tGT=0/0:AD=18,0:DP=18\t\n"
     ]
    }
   ],
   "source": [
    "bcftools query -f '%CHROM\\t%POS\\t%REF\\t%ALT\\t[GT=%GT:AD=%AD:DP=%DP\\t]\\n' chr3_mwe.subset_2samples.filter_1.vcf.gz | grep -v \"^#\""
   ]
  },
  {
   "cell_type": "code",
   "execution_count": 74,
   "metadata": {},
   "outputs": [],
   "source": [
    "# Exclude monomorphic variants\n",
    "bcftools view -c 1 chr3_mwe.subset_2samples.filter_1.vcf.gz -Oz -o chr3_mwe.subset_2samples.filter_2.vcf.gz"
   ]
  },
  {
   "cell_type": "code",
   "execution_count": 7,
   "metadata": {},
   "outputs": [
    {
     "name": "stdout",
     "output_type": "stream",
     "text": [
      "chr3\t43332376\tTAATATGTC\tT\tGT=0/1:AD=7,10:DP=17\tGT=0/0:AD=15,0:DP=15\t\n",
      "chr3\t43332382\tG\tA\tGT=0/1:AD=35,5:DP=40\tGT=0/1:AD=29,1:DP=30\t\n",
      "chr3\t43332384\tC\tG\tGT=1/1:AD=7,7:DP=14\tGT=0/0:AD=15,0:DP=15\t\n"
     ]
    }
   ],
   "source": [
    "bcftools query -f '%CHROM\\t%POS\\t%REF\\t%ALT\\t[GT=%GT:AD=%AD:DP=%DP\\t]\\n' chr3_mwe.subset_2samples.filter_2.vcf.gz | grep -v \"^#\""
   ]
  },
  {
   "cell_type": "code",
   "execution_count": 76,
   "metadata": {},
   "outputs": [],
   "source": [
    "# Remove using allelic imbalance\n",
    "bcftools filter -i 'GT=\"hom\" | (TYPE=\"snp\" & GT=\"het\" & (FMT/AD[*:1])/(FORMAT/AD[*:0] + FMT/AD[*:1]) >= 0.15) | \n",
    "                    (TYPE=\"indel\" & GT=\"het\" & (FMT/AD[*:1])/(FORMAT/AD[*:0] + FMT/AD[*:1]) >= 0.2)' chr3_mwe.subset_2samples.filter_2.vcf.gz -Oz -o chr3_mwe.subset_2samples.filter_3.vcf.gz"
   ]
  },
  {
   "cell_type": "code",
   "execution_count": 6,
   "metadata": {},
   "outputs": [
    {
     "name": "stdout",
     "output_type": "stream",
     "text": [
      "chr3\t43332376\tTAATATGTC\tT\tGT=0/1:AD=7,10:DP=17\tGT=0/0:AD=15,0:DP=15\t\n",
      "chr3\t43332384\tC\tG\tGT=1/1:AD=7,7:DP=14\tGT=0/0:AD=15,0:DP=15\t\n"
     ]
    }
   ],
   "source": [
    "bcftools query -f '%CHROM\\t%POS\\t%REF\\t%ALT\\t[GT=%GT:AD=%AD:DP=%DP\\t]\\n' chr3_mwe.subset_2samples.filter_3.vcf.gz | grep -v \"^#\""
   ]
  },
  {
   "cell_type": "code",
   "execution_count": 2,
   "metadata": {},
   "outputs": [],
   "source": [
    "bcftools filter  -S . -e '(TYPE=\"SNP\" & FMT/DP<7 & FMT/GQ<20) | (TYPE=\"INDEL\"& FMT/DP<10 & FMT/GQ<20)' chr3_mwe.subset_2samples.leftnorm.vcf.gz |\n",
    "bcftools view -c1 | \n",
    "bcftools filter -i 'GT=\"hom\" | (TYPE=\"snp\" & GT=\"het\" & (FMT/AD[*:1])/(FORMAT/AD[*:0] + FMT/AD[*:1]) >= 0.15) | \n",
    "                    (TYPE=\"indel\" & GT=\"het\" & (FMT/AD[*:1])/(FORMAT/AD[*:0] + FMT/AD[*:1]) >= 0.2)' -Oz -o chr3_mwe.subset_2samples.filter_codecomplete.vcf.gz"
   ]
  },
  {
   "cell_type": "markdown",
   "metadata": {},
   "source": [
    "## Code complete and revome info from VCF file"
   ]
  },
  {
   "cell_type": "code",
   "execution_count": 2,
   "metadata": {},
   "outputs": [],
   "source": [
    "bcftools filter  -S . -e '(TYPE=\"SNP\" & FMT/DP<7 & FMT/GQ<20) | (TYPE=\"INDEL\"& FMT/DP<10 & FMT/GQ<20)' chr3_mwe.subset_2samples.leftnorm.vcf.gz |\n",
    "bcftools view -c1 | \n",
    "bcftools filter -i 'GT=\"hom\" | (TYPE=\"snp\" & GT=\"het\" & (FMT/AD[*:1])/(FORMAT/AD[*:0] + FMT/AD[*:1]) >= 0.15) | \n",
    "                    (TYPE=\"indel\" & GT=\"het\" & (FMT/AD[*:1])/(FORMAT/AD[*:0] + FMT/AD[*:1]) >= 0.2)' | bcftools annotate -x INFO,^FORMAT/GT -Oz -o chr3_mwe.subset_2samples.filter_codecomplete_removeinfo.vcf.gz"
   ]
  },
  {
   "cell_type": "code",
   "execution_count": 3,
   "metadata": {},
   "outputs": [
    {
     "name": "stdout",
     "output_type": "stream",
     "text": [
      "chr3\t43332376\tTAATATGTC\tT\tGT=0/1:AD=7,10:DP=17\tGT=0/0:AD=15,0:DP=15\t\n",
      "chr3\t43332384\tC\tG\tGT=1/1:AD=7,7:DP=14\tGT=0/0:AD=15,0:DP=15\t\n"
     ]
    }
   ],
   "source": [
    "bcftools query -f '%CHROM\\t%POS\\t%REF\\t%ALT\\t[GT=%GT:AD=%AD:DP=%DP\\t]\\n' chr3_mwe.subset_2samples.filter_codecomplete.vcf.gz| grep -v \"^#\""
   ]
  },
  {
   "cell_type": "code",
   "execution_count": 6,
   "metadata": {},
   "outputs": [],
   "source": [
    "cd /mnt/mfs/statgen/UKBiobank/data/exome_files/project_VCF/plink_files"
   ]
  },
  {
   "cell_type": "code",
   "execution_count": 7,
   "metadata": {},
   "outputs": [
    {
     "name": "stdout",
     "output_type": "stream",
     "text": [
      "[W::bcf_sr_add_reader] No BGZF EOF marker; file 'ukb23156_c22_b0_v1.leftnorm.filtered1.vcf.gz' may be truncated\n",
      "chr22\t15528096\tG\tA\tAC=8\tAN=361822\n",
      "chr22\t15528109\tT\tG\tAC=44\tAN=374574\n",
      "chr22\t15528133\tA\tG\tAC=5\tAN=392808\n",
      "chr22\t15528155\tG\tA\tAC=55\tAN=395742\n",
      "chr22\t15528165\tC\tA\tAC=73\tAN=395586\n",
      "chr22\t15528166\tC\tT\tAC=3\tAN=397238\n",
      "chr22\t15528177\tC\tT\tAC=119\tAN=397222\n",
      "chr22\t15528179\tG\tT\tAC=7488\tAN=291678\n",
      "chr22\t15528182\tC\tT\tAC=4\tAN=398302\n",
      "chr22\t15528188\tC\tT\tAC=185\tAN=398862\n",
      "grep: write error: Broken pipe\n",
      "[query_vcf] Error: cannot write to standard output\n"
     ]
    }
   ],
   "source": [
    "bcftools query -f'%CHROM\\t%POS\\t%REF\\t%ALT\\tAC=%AC\\tAN=%AN\\n' ukb23156_c22_b0_v1.leftnorm.filtered1.vcf.gz | grep -v \"^#\" | head"
   ]
  },
  {
   "cell_type": "markdown",
   "metadata": {
    "kernel": "Bash"
   },
   "source": [
    "## 3. Left  normalize multiallelic sites"
   ]
  },
  {
   "cell_type": "code",
   "execution_count": 1,
   "metadata": {
    "kernel": "Bash",
    "tags": []
   },
   "outputs": [],
   "source": [
    "cd /mnt/mfs/statgen/UKBiobank/data/exome_files/project_VCF/testing_bcftools"
   ]
  },
  {
   "cell_type": "code",
   "execution_count": 4,
   "metadata": {},
   "outputs": [
    {
     "name": "stdout",
     "output_type": "stream",
     "text": [
      "Lines   total/split/realigned/skipped:\t193/17/0/0\n",
      "Lines   total/split/realigned/skipped:\t215/0/10/0\n"
     ]
    }
   ],
   "source": [
    " bcftools norm -m-any chr3_mwe.subset_10samples.vcf.gz| \\\n",
    "    bcftools norm --check-ref w -f /home/dmc2245/software/GRCh38_reference_genome/GRCh38_full_analysis_set_plus_decoy_hla.fa -Oz | \\\n",
    "    bcftools annotate -Oz -x ID -I +'%CHROM:%POS:%REF:%ALT'  > chr3_mwe.subset.leftnorm.pipeline.vcf.gz"
   ]
  },
  {
   "cell_type": "code",
   "execution_count": 2,
   "metadata": {
    "kernel": "Bash",
    "tags": []
   },
   "outputs": [
    {
     "name": "stdout",
     "output_type": "stream",
     "text": [
      "Lines   total/split/realigned/skipped:\t193/17/10/0\n"
     ]
    }
   ],
   "source": [
    "bcftools norm -m-any chr3_mwe.subset_10samples.vcf.gz -f /home/dmc2245/software/GRCh38_reference_genome/GRCh38_full_analysis_set_plus_decoy_hla.fa -Oz > chr3_mwe.subset.2leftnorm.vcf.gz"
   ]
  },
  {
   "cell_type": "code",
   "execution_count": 3,
   "metadata": {},
   "outputs": [],
   "source": [
    "bcftools annotate -Oz -x ID -I +'%CHROM:%POS:%REF:%ALT'  chr3_mwe.subset.2leftnorm.vcf.gz > chr3_mwe.subset.annotate_result.vcf.gz"
   ]
  },
  {
   "cell_type": "code",
   "execution_count": 5,
   "metadata": {
    "kernel": "Bash",
    "tags": []
   },
   "outputs": [
    {
     "name": "stdout",
     "output_type": "stream",
     "text": [
      "Lines   total/split/realigned/skipped:\t193/17/0/0\n",
      "Lines   total/split/realigned/skipped:\t215/0/10/0\n"
     ]
    }
   ],
   "source": [
    "# check-ref w warns when incorrect or missing REF allele is encountered\n",
    "bcftools norm -m-any chr3_mwe.subset_10samples.vcf.gz  | \\\n",
    " bcftools norm --check-ref w -f /home/dmc2245/software/GRCh38_reference_genome/GRCh38_full_analysis_set_plus_decoy_hla.fa -Oz | \\\n",
    " bcftools annotate -Oz -x ID -I +'%CHROM:%POS:%REF:%ALT' > chr3_mwe.subset.leftnorm.vcf.gz"
   ]
  },
  {
   "cell_type": "code",
   "execution_count": 23,
   "metadata": {
    "kernel": "Bash",
    "scrolled": true,
    "tags": []
   },
   "outputs": [
    {
     "name": "stdout",
     "output_type": "stream",
     "text": [
      "chr3\t43332376\tTAATATGTC\tTAATGTGTC,T,TAATATATC,TAATATGTG\n",
      "chr3\t43340428\tG\tA\n",
      "chr3\t43348535\tC\tCCAGCTGTTGCCATGTCATCTGACTGTGG\n",
      "chr3\t43372724\tC\tT\n",
      "chr3\t43549662\tT\tC\n",
      "chr3\t43576874\tT\tC\n",
      "chr3\t43598764\tA\tG\n",
      "chr3\t43600513\tA\tG\n",
      "chr3\t43605742\tG\tA\n",
      "chr3\t43702181\tA\tG\n",
      "chr3\t43702569\tC\tT,G\n",
      "chr3\t43717573\tG\tA\n",
      "chr3\t43718397\tT\tC\n",
      "chr3\t43718561\tG\tC\n",
      "chr3\t44242124\tA\tAGCGGCAG\n",
      "chr3\t44242909\tG\tC\n",
      "chr3\t44242993\tA\tC\n",
      "chr3\t44243243\tA\tG\n",
      "chr3\t44243573\tC\tT\n",
      "chr3\t44244198\tA\tG\n",
      "chr3\t44244268\tC\tA\n",
      "chr3\t44244277\tA\tG\n",
      "chr3\t44244715\tA\tG\n",
      "chr3\t44244849\tA\tG\n",
      "chr3\t44254912\tG\tA\n",
      "chr3\t44254992\tA\tG,T\n",
      "chr3\t44262549\tTG\tT\n",
      "chr3\t44270886\tA\tT,G\n",
      "chr3\t44281893\tG\tC\n",
      "chr3\t44287528\tG\tA\n",
      "chr3\t44287934\tC\tT\n",
      "chr3\t44290811\tA\tG\n",
      "chr3\t44290944\tA\tG\n",
      "chr3\t44306284\tG\tA\n",
      "chr3\t44328526\tT\tA\n",
      "chr3\t44367435\tTG\tT\n",
      "chr3\t44367782\tA\tG\n",
      "chr3\t44393070\tA\tG\n",
      "chr3\t44396308\tT\tG\n",
      "chr3\t44396541\tT\tC\n",
      "chr3\t44396569\tC\tCCAAATAACTTTATCACAGCTGAACTTTTAAATCTGTTT,A\n",
      "chr3\t44396653\tA\tC\n",
      "chr3\t44396743\tG\tT\n",
      "chr3\t44407527\tA\tT\n",
      "chr3\t44407624\tT\tC\n",
      "chr3\t44407774\tC\tT\n",
      "chr3\t44446529\tG\tA\n",
      "chr3\t44446551\tC\tG\n",
      "chr3\t44446574\tG\tA\n",
      "chr3\t44447237\tG\tA\n",
      "chr3\t44447420\tC\tT\n",
      "chr3\t44447902\tT\tC\n",
      "chr3\t44448349\tA\tG\n",
      "chr3\t44450852\tA\tG\n",
      "chr3\t44451575\tG\tC\n",
      "chr3\t44499213\tT\tC\n",
      "chr3\t44500282\tG\tA\n",
      "chr3\t44500559\tG\tGTGCT\n",
      "chr3\t44503077\tA\tC\n",
      "chr3\t44557290\tG\tT,A\n",
      "chr3\t44557411\tG\tA\n",
      "chr3\t44565482\tT\tC\n",
      "chr3\t44565687\tA\tG\n",
      "chr3\t44565751\tC\tA,T\n",
      "chr3\t44567889\tC\tG\n",
      "chr3\t44567981\tT\tG\n",
      "chr3\t44568027\tT\tTA\n",
      "chr3\t44570430\tA\tG\n",
      "chr3\t44571753\tA\tG\n",
      "chr3\t44571923\tT\tC\n",
      "chr3\t44594343\tT\tC\n",
      "chr3\t44594517\tC\tA\n",
      "chr3\t44594861\tG\tA\n",
      "chr3\t44595014\tA\tG\n",
      "chr3\t44629397\tC\tG\n",
      "chr3\t44632207\tC\tA\n",
      "chr3\t44642089\tC\tA\n",
      "chr3\t44642708\tT\tC\n",
      "chr3\t44642958\tA\tG\n",
      "chr3\t44643461\tC\tT\n",
      "chr3\t44644610\tG\tT\n",
      "chr3\t44645143\tT\tC\n",
      "chr3\t44645613\tA\tT\n",
      "chr3\t44645923\tG\tA\n",
      "chr3\t44646292\tC\tA\n",
      "chr3\t44646470\tC\tT\n",
      "chr3\t44651207\tC\tA\n",
      "chr3\t44651240\tG\tA\n",
      "chr3\t44652776\tC\tT\n",
      "chr3\t44721449\tA\tG\n",
      "chr3\t44721549\tT\tTG\n",
      "chr3\t44721890\tA\tG\n",
      "chr3\t44722021\tACA\tAA,AC\n",
      "chr3\t44722262\tA\tG\n",
      "chr3\t44722318\tC\tT\n",
      "chr3\t44734888\tA\tG\n",
      "chr3\t44753476\tT\tC\n",
      "chr3\t44761630\tG\tC\n",
      "chr3\t44775254\tT\tC\n",
      "chr3\t44775255\tA\tT\n",
      "chr3\t44780821\tTATA\tTACA,T\n",
      "chr3\t44786471\tA\tG\n",
      "chr3\t44797954\tA\tG\n",
      "chr3\t44798014\tA\tG\n",
      "chr3\t44800391\tG\tC,A\n",
      "chr3\t44802930\tG\tT\n",
      "chr3\t44803024\tT\tA\n",
      "chr3\t44804985\tGAAA\tGAA,GAAAA,G,GA\n",
      "chr3\t44826005\tTA\tT\n",
      "chr3\t44826049\tG\tA\n",
      "chr3\t44827360\tA\tT\n",
      "chr3\t44830013\tA\tT\n",
      "chr3\t44838321\tA\tG\n",
      "chr3\t44840427\tG\tT\n",
      "chr3\t44840982\tA\tC\n",
      "chr3\t44843190\tC\tT\n",
      "chr3\t44848100\tA\tG\n",
      "chr3\t44851941\tA\tG\n",
      "chr3\t44852746\tC\tT\n",
      "chr3\t44862016\tG\tA\n",
      "chr3\t44864440\tA\tG\n",
      "chr3\t44885527\tC\tG,T\n",
      "chr3\t44890536\tA\tG\n",
      "chr3\t44893516\tG\tA\n",
      "chr3\t44893755\tT\tG\n",
      "chr3\t44896759\tC\tT\n",
      "chr3\t44901476\tT\tC\n",
      "chr3\t44902029\tG\tC\n",
      "chr3\t44906960\tT\tA\n",
      "chr3\t44910235\tC\tT\n",
      "chr3\t44917806\tG\tA,C\n",
      "chr3\t44918064\tC\tG\n",
      "chr3\t44918686\tT\tG\n",
      "chr3\t44918691\tC\tT\n",
      "chr3\t44919920\tG\tA\n",
      "chr3\t44920665\tT\tC\n",
      "chr3\t44921625\tA\tG\n",
      "chr3\t44921936\tC\tT\n",
      "chr3\t44922303\tG\tA\n",
      "chr3\t44922305\tC\tT\n",
      "chr3\t44922352\tC\tT\n",
      "chr3\t44922675\tT\tG\n",
      "chr3\t44922768\tC\tT,A,G\n",
      "chr3\t44922964\tA\tG\n",
      "chr3\t44923020\tC\tA\n",
      "chr3\t44923050\tT\tC\n",
      "chr3\t44923545\tT\tC\n",
      "chr3\t44923793\tA\tC\n",
      "chr3\t44923876\tC\tA\n",
      "chr3\t44923917\tT\tC\n",
      "chr3\t44923936\tT\tC\n",
      "chr3\t44924831\tCA\tC\n",
      "chr3\t44924861\tG\tC\n",
      "chr3\t44925201\tT\tA\n",
      "chr3\t44925980\tA\tG\n",
      "chr3\t44926855\tC\tT\n",
      "chr3\t44926886\tC\tT\n",
      "chr3\t44929433\tC\tT\n",
      "chr3\t44933081\tC\tA\n",
      "chr3\t44933159\tA\tG\n",
      "chr3\t44945109\tG\tA,C\n",
      "chr3\t44945117\tA\tT\n",
      "chr3\t44959205\tT\tC\n",
      "chr3\t44959225\tC\tT\n",
      "chr3\t44959436\tTA\tCA,T\n",
      "chr3\t44989679\tA\tC\n",
      "chr3\t44989686\tT\tG\n",
      "chr3\t44997194\tT\tC\n",
      "chr3\t44997344\tG\tA\n",
      "chr3\t45007432\tC\tT\n",
      "chr3\t45007539\tC\tT\n",
      "chr3\t45011185\tG\tA\n",
      "chr3\t45011215\tC\tG\n",
      "chr3\t45011323\tT\tG\n",
      "chr3\t45026395\tC\tG\n",
      "chr3\t45030854\tA\tG\n",
      "chr3\t45085654\tA\tG\n",
      "chr3\t45091294\tA\tG\n",
      "chr3\t45093316\tT\tTGG\n",
      "chr3\t45093703\tG\tA\n",
      "chr3\t45095506\tG\tT\n",
      "chr3\t45110390\tA\tC\n",
      "chr3\t45112304\tC\tT\n",
      "chr3\t45146216\tC\tG\n",
      "chr3\t45394357\tA\tT\n",
      "chr3\t45400266\tG\tA,C\n",
      "chr3\t45400365\tG\tA\n",
      "chr3\t45419609\tA\tG\n",
      "chr3\t45458643\tC\tT\n",
      "chr3\t45458805\tT\tC\n",
      "chr3\t45491484\tA\tG\n",
      "chr3\t45496407\tG\tA\n",
      "chr3\t45496412\tT\tA\n"
     ]
    }
   ],
   "source": [
    "bcftools view  chr3_mwe.subset_10samples.vcf.gz | bcftools query -f'%CHROM\\t%POS\\t%REF\\t%ALT\\n' | grep -v \"^#\" "
   ]
  },
  {
   "cell_type": "code",
   "execution_count": 16,
   "metadata": {
    "kernel": "Bash",
    "scrolled": true,
    "tags": []
   },
   "outputs": [
    {
     "name": "stdout",
     "output_type": "stream",
     "text": [
      "chr3\t43332376\tTAATATGTC\tT\n",
      "chr3\t43332380\tA\tG\n",
      "chr3\t43332382\tG\tA\n",
      "chr3\t43332384\tC\tG\n",
      "chr3\t43340428\tG\tA\n",
      "chr3\t43348535\tC\tCCAGCTGTTGCCATGTCATCTGACTGTGG\n",
      "chr3\t43372724\tC\tT\n",
      "chr3\t43549662\tT\tC\n",
      "chr3\t43576874\tT\tC\n",
      "chr3\t43598764\tA\tG\n",
      "chr3\t43600513\tA\tG\n",
      "chr3\t43605742\tG\tA\n",
      "chr3\t43702181\tA\tG\n",
      "chr3\t43702569\tC\tT\n",
      "chr3\t43702569\tC\tG\n",
      "chr3\t43717573\tG\tA\n",
      "chr3\t43718397\tT\tC\n",
      "chr3\t43718561\tG\tC\n",
      "chr3\t44242124\tA\tAGCGGCAG\n",
      "chr3\t44242909\tG\tC\n",
      "chr3\t44242993\tA\tC\n",
      "chr3\t44243243\tA\tG\n",
      "chr3\t44243573\tC\tT\n",
      "chr3\t44244198\tA\tG\n",
      "chr3\t44244268\tC\tA\n",
      "chr3\t44244277\tA\tG\n",
      "chr3\t44244715\tA\tG\n",
      "chr3\t44244849\tA\tG\n",
      "chr3\t44254912\tG\tA\n",
      "chr3\t44254992\tA\tG\n",
      "chr3\t44254992\tA\tT\n",
      "chr3\t44262549\tTG\tT\n",
      "chr3\t44270886\tA\tT\n",
      "chr3\t44270886\tA\tG\n",
      "chr3\t44281893\tG\tC\n",
      "chr3\t44287528\tG\tA\n",
      "chr3\t44287934\tC\tT\n",
      "chr3\t44290811\tA\tG\n",
      "chr3\t44290944\tA\tG\n",
      "chr3\t44306284\tG\tA\n",
      "chr3\t44328526\tT\tA\n",
      "chr3\t44367435\tTG\tT\n",
      "chr3\t44367782\tA\tG\n",
      "chr3\t44393070\tA\tG\n",
      "chr3\t44396308\tT\tG\n",
      "chr3\t44396541\tT\tC\n",
      "chr3\t44396569\tC\tCCAAATAACTTTATCACAGCTGAACTTTTAAATCTGTTT\n",
      "chr3\t44396569\tC\tA\n",
      "chr3\t44396653\tA\tC\n",
      "chr3\t44396743\tG\tT\n",
      "chr3\t44407527\tA\tT\n",
      "chr3\t44407624\tT\tC\n",
      "chr3\t44407774\tC\tT\n",
      "chr3\t44446529\tG\tA\n",
      "chr3\t44446551\tC\tG\n",
      "chr3\t44446574\tG\tA\n",
      "chr3\t44447237\tG\tA\n",
      "chr3\t44447420\tC\tT\n",
      "chr3\t44447902\tT\tC\n",
      "chr3\t44448349\tA\tG\n",
      "chr3\t44450852\tA\tG\n",
      "chr3\t44451575\tG\tC\n",
      "chr3\t44499213\tT\tC\n",
      "chr3\t44500282\tG\tA\n",
      "chr3\t44500559\tG\tGTGCT\n",
      "chr3\t44503077\tA\tC\n",
      "chr3\t44557290\tG\tT\n",
      "chr3\t44557290\tG\tA\n",
      "chr3\t44557411\tG\tA\n",
      "chr3\t44565482\tT\tC\n",
      "chr3\t44565687\tA\tG\n",
      "chr3\t44565751\tC\tA\n",
      "chr3\t44565751\tC\tT\n",
      "chr3\t44567889\tC\tG\n",
      "chr3\t44567981\tT\tG\n",
      "chr3\t44568027\tT\tTA\n",
      "chr3\t44570430\tA\tG\n",
      "chr3\t44571753\tA\tG\n",
      "chr3\t44571923\tT\tC\n",
      "chr3\t44594343\tT\tC\n",
      "chr3\t44594517\tC\tA\n",
      "chr3\t44594861\tG\tA\n",
      "chr3\t44595014\tA\tG\n",
      "chr3\t44629397\tC\tG\n",
      "chr3\t44632207\tC\tA\n",
      "chr3\t44642089\tC\tA\n",
      "chr3\t44642708\tT\tC\n",
      "chr3\t44642958\tA\tG\n",
      "chr3\t44643461\tC\tT\n",
      "chr3\t44644610\tG\tT\n",
      "chr3\t44645143\tT\tC\n",
      "chr3\t44645613\tA\tT\n",
      "chr3\t44645923\tG\tA\n",
      "chr3\t44646292\tC\tA\n",
      "chr3\t44646470\tC\tT\n",
      "chr3\t44651207\tC\tA\n",
      "chr3\t44651240\tG\tA\n",
      "chr3\t44652776\tC\tT\n",
      "chr3\t44721449\tA\tG\n",
      "chr3\t44721549\tT\tTG\n",
      "chr3\t44721890\tA\tG\n",
      "chr3\t44722021\tAC\tA\n",
      "chr3\t44722022\tCA\tC\n",
      "chr3\t44722262\tA\tG\n",
      "chr3\t44722318\tC\tT\n",
      "chr3\t44734888\tA\tG\n",
      "chr3\t44753476\tT\tC\n",
      "chr3\t44761630\tG\tC\n",
      "chr3\t44775254\tT\tC\n",
      "chr3\t44775255\tA\tT\n",
      "chr3\t44780821\tTATA\tT\n",
      "chr3\t44780823\tT\tC\n",
      "chr3\t44786471\tA\tG\n",
      "chr3\t44797954\tA\tG\n",
      "chr3\t44798014\tA\tG\n",
      "chr3\t44800391\tG\tC\n",
      "chr3\t44800391\tG\tA\n",
      "chr3\t44802930\tG\tT\n",
      "chr3\t44803024\tT\tA\n",
      "chr3\t44804985\tGA\tG\n",
      "chr3\t44804985\tG\tGA\n",
      "chr3\t44804985\tGAAA\tG\n",
      "chr3\t44804985\tGAA\tG\n",
      "chr3\t44826005\tTA\tT\n",
      "chr3\t44826049\tG\tA\n",
      "chr3\t44827360\tA\tT\n",
      "chr3\t44830013\tA\tT\n",
      "chr3\t44838321\tA\tG\n",
      "chr3\t44840427\tG\tT\n",
      "chr3\t44840982\tA\tC\n",
      "chr3\t44843190\tC\tT\n",
      "chr3\t44848100\tA\tG\n",
      "chr3\t44851941\tA\tG\n",
      "chr3\t44852746\tC\tT\n",
      "chr3\t44862016\tG\tA\n",
      "chr3\t44864440\tA\tG\n",
      "chr3\t44885527\tC\tG\n",
      "chr3\t44885527\tC\tT\n",
      "chr3\t44890536\tA\tG\n",
      "chr3\t44893516\tG\tA\n",
      "chr3\t44893755\tT\tG\n",
      "chr3\t44896759\tC\tT\n",
      "chr3\t44901476\tT\tC\n",
      "chr3\t44902029\tG\tC\n",
      "chr3\t44906960\tT\tA\n",
      "chr3\t44910235\tC\tT\n",
      "chr3\t44917806\tG\tA\n",
      "chr3\t44917806\tG\tC\n",
      "chr3\t44918064\tC\tG\n",
      "chr3\t44918686\tT\tG\n",
      "chr3\t44918691\tC\tT\n",
      "chr3\t44919920\tG\tA\n",
      "chr3\t44920665\tT\tC\n",
      "chr3\t44921625\tA\tG\n",
      "chr3\t44921936\tC\tT\n",
      "chr3\t44922303\tG\tA\n",
      "chr3\t44922305\tC\tT\n",
      "chr3\t44922352\tC\tT\n",
      "chr3\t44922675\tT\tG\n",
      "chr3\t44922768\tC\tT\n",
      "chr3\t44922768\tC\tA\n",
      "chr3\t44922768\tC\tG\n",
      "chr3\t44922964\tA\tG\n",
      "chr3\t44923020\tC\tA\n",
      "chr3\t44923050\tT\tC\n",
      "chr3\t44923545\tT\tC\n",
      "chr3\t44923793\tA\tC\n",
      "chr3\t44923876\tC\tA\n",
      "chr3\t44923917\tT\tC\n",
      "chr3\t44923936\tT\tC\n",
      "chr3\t44924831\tCA\tC\n",
      "chr3\t44924861\tG\tC\n",
      "chr3\t44925201\tT\tA\n",
      "chr3\t44925980\tA\tG\n",
      "chr3\t44926855\tC\tT\n",
      "chr3\t44926886\tC\tT\n",
      "chr3\t44929433\tC\tT\n",
      "chr3\t44933081\tC\tA\n",
      "chr3\t44933159\tA\tG\n",
      "chr3\t44945109\tG\tA\n",
      "chr3\t44945109\tG\tC\n",
      "chr3\t44945117\tA\tT\n",
      "chr3\t44959205\tT\tC\n",
      "chr3\t44959225\tC\tT\n",
      "chr3\t44959436\tT\tC\n",
      "chr3\t44959436\tTA\tT\n",
      "chr3\t44989679\tA\tC\n",
      "chr3\t44989686\tT\tG\n",
      "chr3\t44997194\tT\tC\n",
      "chr3\t44997344\tG\tA\n",
      "chr3\t45007432\tC\tT\n",
      "chr3\t45007539\tC\tT\n",
      "chr3\t45011185\tG\tA\n",
      "chr3\t45011215\tC\tG\n",
      "chr3\t45011323\tT\tG\n",
      "chr3\t45026395\tC\tG\n",
      "chr3\t45030854\tA\tG\n",
      "chr3\t45085654\tA\tG\n",
      "chr3\t45091294\tA\tG\n",
      "chr3\t45093316\tT\tTGG\n",
      "chr3\t45093703\tG\tA\n",
      "chr3\t45095506\tG\tT\n",
      "chr3\t45110390\tA\tC\n",
      "chr3\t45112304\tC\tT\n",
      "chr3\t45146216\tC\tG\n",
      "chr3\t45394357\tA\tT\n",
      "chr3\t45400266\tG\tA\n",
      "chr3\t45400266\tG\tC\n",
      "chr3\t45400365\tG\tA\n",
      "chr3\t45419609\tA\tG\n",
      "chr3\t45458643\tC\tT\n",
      "chr3\t45458805\tT\tC\n",
      "chr3\t45491484\tA\tG\n",
      "chr3\t45496407\tG\tA\n",
      "chr3\t45496412\tT\tA\n"
     ]
    }
   ],
   "source": [
    "bcftools view  chr3_mwe.subset.leftnorm.vcf.gz | bcftools query -f'%CHROM\\t%POS\\t%REF\\t%ALT\\n' | grep -v \"^#\" "
   ]
  },
  {
   "cell_type": "code",
   "execution_count": 11,
   "metadata": {
    "kernel": "Bash"
   },
   "outputs": [
    {
     "name": "stdout",
     "output_type": "stream",
     "text": [
      "193\n"
     ]
    }
   ],
   "source": [
    "zcat chr3_mwe.subset_10samples.vcf.gz | grep -v \"^#\" | wc -l"
   ]
  },
  {
   "cell_type": "code",
   "execution_count": 10,
   "metadata": {
    "kernel": "Bash"
   },
   "outputs": [
    {
     "name": "stdout",
     "output_type": "stream",
     "text": [
      "215\n"
     ]
    }
   ],
   "source": [
    "zcat chr3_mwe.subset.leftnorm.vcf.gz| grep -v \"^#\" | wc -l"
   ]
  },
  {
   "cell_type": "code",
   "execution_count": null,
   "metadata": {
    "kernel": "Bash"
   },
   "outputs": [],
   "source": [
    "#the DP value in the INFO is the sum of the DP value over all samples in your vcf at this position. The DP value in the FORMAT column in the read depth for the given sample at this position. If you just have one sample this value should be equal.\n",
    "#FORMAT/DP\n",
    "#FORMAT/GQ\n",
    "\n",
    "bcftools view  -i  'MIN(FMT/DP)>10 & MIN(FMT/GQ)>15'   my.vcf.gz\n",
    "\n",
    "bcftools filter -i 'TYPE=\"snp\" && MIN(DP)>5 && QUAL>10' input.vcf > output.vcf"
   ]
  },
  {
   "cell_type": "markdown",
   "metadata": {},
   "source": [
    "## Calculate AB for each vcf and annotate that column"
   ]
  },
  {
   "cell_type": "code",
   "execution_count": 7,
   "metadata": {},
   "outputs": [
    {
     "name": "stdout",
     "output_type": "stream",
     "text": [
      "GT=0/0:AD=21,0:DP=21 GT=0/0:AD=18,0:DP=18 GT=0/0:AD=16,0:DP=16 GT=0/0:AD=16,0:DP=16 GT=0/0:AD=21,0:DP=21 GT=0/0:AD=20,0:DP=20 GT=0/1:AD=42,43:DP=85 GT=0/0:AD=16,0:DP=16 GT=0/0:AD=18,0:DP=18 GT=0/0:AD=23,0:DP=23 \n",
      "GT=0/1:AD=22,9:DP=31 GT=0/0:AD=22,0:DP=22 GT=0/0:AD=25,0:DP=25 GT=0/1:AD=23,12:DP=35 GT=0/1:AD=17,10:DP=27 GT=0/0:AD=22,0:DP=22 GT=0/0:AD=16,0:DP=16 GT=0/1:AD=16,15:DP=31 GT=0/0:AD=16,0:DP=16 GT=0/0:AD=16,0:DP=16 \n"
     ]
    }
   ],
   "source": [
    "bcftools filter -i 'GT=\"het\"' chr3_mwe.subset.pass.vcf.gz  | bcftools query -f '[%CHROM\\t%POS\\t%REF\\t%ALT\\tGT=%GT:AD=%AD:DP=%DP ]\\n' | grep -v \"^#\" | head"
   ]
  },
  {
   "cell_type": "code",
   "execution_count": 56,
   "metadata": {},
   "outputs": [
    {
     "name": "stdout",
     "output_type": "stream",
     "text": [
      "chr3\t43576874\tT\tC\tGT=0/0:AD=21,0:DP=21 chr3\t43576874\tT\tC\tGT=0/0:AD=18,0:DP=18 chr3\t43576874\tT\tC\tGT=0/0:AD=16,0:DP=16 chr3\t43576874\tT\tC\tGT=0/0:AD=16,0:DP=16 chr3\t43576874\tT\tC\tGT=0/0:AD=21,0:DP=21 chr3\t43576874\tT\tC\tGT=0/0:AD=20,0:DP=20 chr3\t43576874\tT\tC\tGT=0/1:AD=42,43:DP=85 chr3\t43576874\tT\tC\tGT=0/0:AD=16,0:DP=16 chr3\t43576874\tT\tC\tGT=0/0:AD=18,0:DP=18 chr3\t43576874\tT\tC\tGT=0/0:AD=23,0:DP=23 \n",
      "chr3\t44830013\tA\tT\tGT=0/1:AD=22,9:DP=31 chr3\t44830013\tA\tT\tGT=0/0:AD=22,0:DP=22 chr3\t44830013\tA\tT\tGT=0/0:AD=25,0:DP=25 chr3\t44830013\tA\tT\tGT=0/1:AD=23,12:DP=35 chr3\t44830013\tA\tT\tGT=0/1:AD=17,10:DP=27 chr3\t44830013\tA\tT\tGT=0/0:AD=22,0:DP=22 chr3\t44830013\tA\tT\tGT=0/0:AD=16,0:DP=16 chr3\t44830013\tA\tT\tGT=0/1:AD=16,15:DP=31 chr3\t44830013\tA\tT\tGT=0/0:AD=16,0:DP=16 chr3\t44830013\tA\tT\tGT=0/0:AD=16,0:DP=16 \n"
     ]
    }
   ],
   "source": [
    "bcftools filter -i 'GT[*]=\"het\"' chr3_mwe.subset.pass.vcf.gz  | bcftools query -f '[%CHROM\\t%POS\\t%REF\\t%ALT\\tGT=%GT:AD=%AD:DP=%DP ]\\n' | grep -v \"^#\" | head"
   ]
  },
  {
   "cell_type": "code",
   "execution_count": 53,
   "metadata": {},
   "outputs": [
    {
     "name": "stdout",
     "output_type": "stream",
     "text": [
      "chr3\t43576874\tT\tC\tGT=0/0:AD=21,0:DP=21 GT=0/0:AD=18,0:DP=18 GT=0/0:AD=16,0:DP=16 GT=0/0:AD=16,0:DP=16 GT=0/0:AD=21,0:DP=21 GT=0/0:AD=20,0:DP=20 GT=0/1:AD=42,43:DP=85 GT=0/0:AD=16,0:DP=16 GT=0/0:AD=18,0:DP=18 GT=0/0:AD=23,0:DP=23 \n",
      "chr3\t44830013\tA\tT\tGT=0/1:AD=22,9:DP=31 GT=0/0:AD=22,0:DP=22 GT=0/0:AD=25,0:DP=25 GT=0/1:AD=23,12:DP=35 GT=0/1:AD=17,10:DP=27 GT=0/0:AD=22,0:DP=22 GT=0/0:AD=16,0:DP=16 GT=0/1:AD=16,15:DP=31 GT=0/0:AD=16,0:DP=16 GT=0/0:AD=16,0:DP=16 \n"
     ]
    }
   ],
   "source": [
    "bcftools view -i '(TYPE=\"snp\" & GT=\"het\" & (FMT/AD[*:1])/(FORMAT/AD[*:0] + FMT/AD[*:1]) >= 0.15)' chr3_mwe.subset.pass.vcf.gz  | bcftools query -f '%CHROM\\t%POS\\t%REF\\t%ALT\\t[GT=%GT:AD=%AD:DP=%DP ]\\n' | grep -v \"^#\" "
   ]
  },
  {
   "cell_type": "code",
   "execution_count": 86,
   "metadata": {},
   "outputs": [
    {
     "name": "stdout",
     "output_type": "stream",
     "text": [
      "2\n"
     ]
    }
   ],
   "source": [
    "bcftools filter -i '(TYPE=\"snp\" & GT=\"het\" & (FMT/AD[*:1])/(FORMAT/AD[*:0] + FMT/AD[*:1]) <= 0.7) | (TYPE=\"indel\" & GT=\"het\" & (FMT/AD[*:1])/(FORMAT/AD[*:0] + FMT/AD[*:1]) <= 0.2)' chr3_mwe.subset.pass.vcf.gz  | bcftools query -f '%CHROM\\t%POS\\t%REF\\t%ALT\\t[GT=%GT:AD=%AD:DP=%DP ]\\n' | grep -v \"^#\" | wc -l "
   ]
  },
  {
   "cell_type": "code",
   "execution_count": 68,
   "metadata": {},
   "outputs": [
    {
     "name": "stdout",
     "output_type": "stream",
     "text": [
      "17\n"
     ]
    }
   ],
   "source": [
    "bcftools view -i '(TYPE=\"indel\" & GT=\"hom\") | (TYPE=\"indel\" & GT=\"het\" & (FMT/AD[*:1])/(FORMAT/AD[*:0] + FMT/AD[*:1]) >= 0.15)' chr3_mwe.subset.pass.vcf.gz  | bcftools query -f '%CHROM\\t%POS\\t%REF\\t%ALT\\t[GT=%GT:AD=%AD:DP=%DP ]\\n' | grep -v \"^#\" | wc -l "
   ]
  },
  {
   "cell_type": "code",
   "execution_count": 92,
   "metadata": {},
   "outputs": [
    {
     "name": "stdout",
     "output_type": "stream",
     "text": [
      "chr3\t43576874\tT\tC\tGT=0/0:AD=21,0:DP=21 GT=0/0:AD=18,0:DP=18 GT=0/0:AD=16,0:DP=16 GT=0/0:AD=16,0:DP=16 GT=0/0:AD=21,0:DP=21 GT=0/0:AD=20,0:DP=20 GT=0/1:AD=42,43:DP=85 GT=0/0:AD=16,0:DP=16 GT=0/0:AD=18,0:DP=18 GT=0/0:AD=23,0:DP=23 \n"
     ]
    }
   ],
   "source": [
    "bcftools filter -i 'TYPE=\"snp\" & GT=\"het\" & (FMT/AD[*:1])>40' chr3_mwe.subset.pass.vcf.gz  | bcftools query -f '%CHROM\\t%POS\\t%REF\\t%ALT\\t[GT=%GT:AD=%AD:DP=%DP ]\\n' | grep -v \"^#\" | head"
   ]
  },
  {
   "cell_type": "code",
   "execution_count": 26,
   "metadata": {},
   "outputs": [
    {
     "name": "stdout",
     "output_type": "stream",
     "text": [
      "0\n"
     ]
    }
   ],
   "source": [
    "bcftools filter -i 'TYPE=\"indel\" & GT=\"het\" & (FMT/AD[*:1])/(FORMAT/AD[*:0] + FMT/AD[*:1]) >= 0.2 | ' chr3_mwe.subset.pass.vcf.gz  | bcftools query -f '%CHROM\\t%POS\\t%REF\\t%ALT\\t[GT=%GT:AD=%AD:DP=%DP ]\\n' | grep -v \"^#\" | wc -l"
   ]
  },
  {
   "cell_type": "code",
   "execution_count": null,
   "metadata": {},
   "outputs": [],
   "source": [
    "bcftools filter -i '(FORMAT/AD[0:1]*100)/(FORMAT/AD[0:0]+FORMAT/AD[0:1]) >= 25'"
   ]
  },
  {
   "cell_type": "code",
   "execution_count": 47,
   "metadata": {},
   "outputs": [
    {
     "name": "stdout",
     "output_type": "stream",
     "text": [
      "182\n"
     ]
    }
   ],
   "source": [
    "bcftools filter -e 'TYPE=\"snp\" & GT[*]=\"het\"  & (FMT/AD[*:1]/(FMT/DP[*:]))<0.3' chr3_mwe.subset.pass.vcf.gz  | bcftools query -f '%CHROM\\t%POS\\t%REF\\t%ALT\\t[GT=%GT:AD=%AD:DP=%DP ]\\n' | grep -v \"^#\" | wc -l"
   ]
  },
  {
   "cell_type": "code",
   "execution_count": 9,
   "metadata": {},
   "outputs": [],
   "source": [
    "bcftools filter -e 'TYPE=\"snp\" & GT=\"het\" & (FMT/AD[*:0]/(FMT/AD[*:0] + FMT/AD[*:1]))<0.15' chr3_mwe.subset.pass.vcf.gz -Oz > chr3_mwe.subset.pass.exclAB0.15_vcf.gz"
   ]
  },
  {
   "cell_type": "code",
   "execution_count": 45,
   "metadata": {},
   "outputs": [
    {
     "name": "stdout",
     "output_type": "stream",
     "text": [
      "183\n"
     ]
    }
   ],
   "source": [
    "zcat chr3_mwe.subset.pass.vcf.gz | grep -v \"^#\" | wc -l"
   ]
  },
  {
   "cell_type": "code",
   "execution_count": 11,
   "metadata": {},
   "outputs": [
    {
     "name": "stdout",
     "output_type": "stream",
     "text": [
      "183\n"
     ]
    }
   ],
   "source": [
    "zcat chr3_mwe.subset.pass.exclAB0.15_vcf.gz | grep -v \"^#\" | wc -l"
   ]
  },
  {
   "cell_type": "code",
   "execution_count": 15,
   "metadata": {},
   "outputs": [],
   "source": [
    "bcftools filter -S . -e 'TYPE=\"indel\" & GT=\"het\" & (FMT/AD[*:0]/(FMT/AD[*:0] + FMT/AD[*:1]))<0.20' chr3_mwe.subset.pass.vcf.gz -Oz > chr3_mwe.subset.pass.exclAB0.20_vcf.gz"
   ]
  },
  {
   "cell_type": "code",
   "execution_count": 17,
   "metadata": {},
   "outputs": [
    {
     "name": "stdout",
     "output_type": "stream",
     "text": [
      "183\n"
     ]
    }
   ],
   "source": [
    "bcftools view -H chr3_mwe.subset.pass.vcf.gz | wc -l"
   ]
  },
  {
   "cell_type": "code",
   "execution_count": 18,
   "metadata": {},
   "outputs": [
    {
     "name": "stdout",
     "output_type": "stream",
     "text": [
      "183\n"
     ]
    }
   ],
   "source": [
    "bcftools view -H chr3_mwe.subset.pass.exclAB0.20_vcf.gz | wc -l"
   ]
  },
  {
   "cell_type": "code",
   "execution_count": 16,
   "metadata": {},
   "outputs": [
    {
     "name": "stdout",
     "output_type": "stream",
     "text": [
      "chr3\t43576874\tT\tC\t0/0:21,0 0/0:18,0 0/0:16,0 0/0:16,0 0/0:21,0 0/0:20,0 0/1:42,43 0/0:16,0 0/0:18,0 0/0:23,0 \n",
      "chr3\t44830013\tA\tT\t0/1:22,9 0/0:22,0 0/0:25,0 0/1:23,12 0/1:17,10 0/0:22,0 0/0:16,0 0/1:16,15 0/0:16,0 0/0:16,0 \n"
     ]
    }
   ],
   "source": [
    "bcftools view -i  'TYPE=\"snp\" & GT=\"het\"' chr3_mwe.subset.pass.exclAB0.20_vcf.gz | bcftools query -f '%CHROM\\t%POS\\t%REF\\t%ALT\\t[%GT:%AD ]\\n'| grep -v \"^#\" | head"
   ]
  },
  {
   "cell_type": "code",
   "execution_count": 22,
   "metadata": {},
   "outputs": [],
   "source": [
    "bcftools view -i 'TYPE=\"indel\" && GT=\"het\" & (FMT/AD[*:0]/(FMT/AD[*:0] + FMT/AD[*:1]))<0.20 ' chr3_mwe.subset.pass.vcf.gz | bcftools query -f'%CHROM\\t%POS\\t%REF\\t%ALT\\t[%GT:%AD ]\\n' | grep -v \"^#\" | head"
   ]
  },
  {
   "cell_type": "markdown",
   "metadata": {},
   "source": [
    "## Calculate Ts/Tv ratios"
   ]
  },
  {
   "cell_type": "code",
   "execution_count": 12,
   "metadata": {},
   "outputs": [
    {
     "name": "stdout",
     "output_type": "stream",
     "text": [
      "# TSTV, transitions/transversions:\n",
      "# TSTV\t[2]id\t[3]ts\t[4]tv\t[5]ts/tv\t[6]ts (1st ALT)\t[7]tv (1st ALT)\t[8]ts/tv (1st ALT)\n",
      "TSTV\t0\t110\t56\t1.96\t110\t56\t1.96\n"
     ]
    }
   ],
   "source": [
    "bcftools stats chr3_mwe.subset.pass.vcf.gz| grep \"TSTV\""
   ]
  },
  {
   "cell_type": "markdown",
   "metadata": {
    "kernel": "Bash"
   },
   "source": [
    "## Filter SNPs\\INDELS"
   ]
  },
  {
   "cell_type": "code",
   "execution_count": 24,
   "metadata": {
    "kernel": "Bash"
   },
   "outputs": [
    {
     "name": "stdout",
     "output_type": "stream",
     "text": [
      "chr3\t43332376\tTAATATGTC\tTAATGTGTC,T,TAATATATC,TAATATGTG\n",
      "chr3\t43340428\tG\tA\n",
      "chr3\t43372724\tC\tT\n",
      "chr3\t43549662\tT\tC\n",
      "chr3\t43576874\tT\tC\n",
      "chr3\t43598764\tA\tG\n",
      "chr3\t43600513\tA\tG\n",
      "chr3\t43605742\tG\tA\n",
      "chr3\t43702181\tA\tG\n",
      "chr3\t43702569\tC\tT,G\n",
      "\n"
     ]
    }
   ],
   "source": [
    "#bcftools view -v snps chr3_mwe.subset_10samples.vcf.gz | grep -v \"^#\" | head\n",
    "bcftools view -v snps  chr3_mwe.subset_10samples.vcf.gz | bcftools query -f'%CHROM\\t%POS\\t%REF\\t%ALT\\n' | grep -v \"^#\" | head"
   ]
  },
  {
   "cell_type": "code",
   "execution_count": 2,
   "metadata": {},
   "outputs": [],
   "source": [
    "bcftools filter  -S . -e '(TYPE=\"SNP\" & FMT/DP<7 & FMT/GQ<20) | (TYPE=\"INDEL\"& FMT/DP<10 & FMT/GQ<20)' chr3_mwe.subset.leftnorm.vcf.gz -Oz -o chr3_mwe.subset.snp_filter.vcf.gz"
   ]
  },
  {
   "cell_type": "code",
   "execution_count": 4,
   "metadata": {},
   "outputs": [
    {
     "name": "stdout",
     "output_type": "stream",
     "text": [
      "215\n"
     ]
    }
   ],
   "source": [
    "bcftools view chr3_mwe.subset.leftnorm.vcf.gz | grep -v \"^#\" | wc -l"
   ]
  },
  {
   "cell_type": "code",
   "execution_count": 3,
   "metadata": {},
   "outputs": [
    {
     "name": "stdout",
     "output_type": "stream",
     "text": [
      "215\n"
     ]
    }
   ],
   "source": [
    "bcftools query -f'%CHROM\\t%POS\\t%REF\\t%ALT\\t[%GT:%DP:%GQ ]\\n'  chr3_mwe.subset.snp_filter.vcf.gz | grep -v \"^#\" | wc -l"
   ]
  },
  {
   "cell_type": "code",
   "execution_count": 7,
   "metadata": {},
   "outputs": [],
   "source": [
    "bcftools filter -S . -e '(TYPE=\"SNP\" & (FMT/DP)<7 & (FMT/GQ)<20) | (TYPE=\"INDEL\" & (FMT/DP)<10& (FMT/GQ)<20)'  chr3_mwe.subset.leftnorm.vcf.gz -Oz -o chr3_mwe.subset.filtered_1.vcf.gz"
   ]
  },
  {
   "cell_type": "code",
   "execution_count": 14,
   "metadata": {},
   "outputs": [],
   "source": [
    "bcftools filter -e 'AC==0 | AC==AN' chr3_mwe.subset.filtered_1.vcf.gz -Oz -o chr3_mwe.subset.filtered_2.vcf.gz"
   ]
  },
  {
   "cell_type": "code",
   "execution_count": 25,
   "metadata": {},
   "outputs": [],
   "source": [
    "bcftools filter -i 'GT=\"hom\" | (TYPE=\"snp\" & GT=\"het\" & (FMT/AD[*:1])/(FORMAT/AD[*:0] + FMT/AD[*:1]) >= 0.15) | (TYPE=\"indel\" & GT=\"het\" & (FMT/AD[*:1])/(FORMAT/AD[*:0] + FMT/AD[*:1]) >= 0.2)' chr3_mwe.subset.filtered_2.vcf.gz -Oz -o chr3_mwe.subset.filtered_3.vcf.gz"
   ]
  },
  {
   "cell_type": "code",
   "execution_count": 24,
   "metadata": {
    "scrolled": true,
    "tags": []
   },
   "outputs": [
    {
     "name": "stdout",
     "output_type": "stream",
     "text": [
      "chr3\t43332376\tTAATATGTC\tT\tAC=0\tAN=16\tGT=0/0 GT=0/0 GT=./. GT=0/0 GT=0/0 GT=./. GT=0/0 GT=0/0 GT=0/0 GT=0/0 \n",
      "chr3\t43332380\tA\tG\tAC=0\tAN=16\tGT=0/0 GT=0/0 GT=./. GT=0/0 GT=0/0 GT=./. GT=0/0 GT=0/0 GT=0/0 GT=0/0 \n",
      "chr3\t43332382\tG\tA\tAC=0\tAN=16\tGT=0/0 GT=0/0 GT=./. GT=0/0 GT=0/0 GT=./. GT=0/0 GT=0/0 GT=0/0 GT=0/0 \n",
      "chr3\t43332384\tC\tG\tAC=0\tAN=16\tGT=0/0 GT=0/0 GT=./. GT=0/0 GT=0/0 GT=./. GT=0/0 GT=0/0 GT=0/0 GT=0/0 \n",
      "chr3\t43340428\tG\tA\tAC=0\tAN=20\tGT=0/0 GT=0/0 GT=0/0 GT=0/0 GT=0/0 GT=0/0 GT=0/0 GT=0/0 GT=0/0 GT=0/0 \n",
      "chr3\t43348535\tC\tCCAGCTGTTGCCATGTCATCTGACTGTGG\tAC=0\tAN=20\tGT=0/0 GT=0/0 GT=0/0 GT=0/0 GT=0/0 GT=0/0 GT=0/0 GT=0/0 GT=0/0 GT=0/0 \n",
      "chr3\t43372724\tC\tT\tAC=0\tAN=14\tGT=./. GT=0/0 GT=./. GT=0/0 GT=0/0 GT=0/0 GT=./. GT=0/0 GT=0/0 GT=0/0 \n",
      "chr3\t43549662\tT\tC\tAC=0\tAN=20\tGT=0/0 GT=0/0 GT=0/0 GT=0/0 GT=0/0 GT=0/0 GT=0/0 GT=0/0 GT=0/0 GT=0/0 \n",
      "chr3\t43576874\tT\tC\tAC=1\tAN=20\tGT=0/0 GT=0/0 GT=0/0 GT=0/0 GT=0/0 GT=0/0 GT=0/1 GT=0/0 GT=0/0 GT=0/0 \n",
      "chr3\t43598764\tA\tG\tAC=0\tAN=8\tGT=./. GT=0/0 GT=./. GT=0/0 GT=0/0 GT=0/0 GT=./. GT=./. GT=./. GT=./. \n",
      "chr3\t43600513\tA\tG\tAC=0\tAN=20\tGT=0/0 GT=0/0 GT=0/0 GT=0/0 GT=0/0 GT=0/0 GT=0/0 GT=0/0 GT=0/0 GT=0/0 \n",
      "chr3\t43605742\tG\tA\tAC=0\tAN=20\tGT=0/0 GT=0/0 GT=0/0 GT=0/0 GT=0/0 GT=0/0 GT=0/0 GT=0/0 GT=0/0 GT=0/0 \n",
      "chr3\t43702181\tA\tG\tAC=0\tAN=20\tGT=0/0 GT=0/0 GT=0/0 GT=0/0 GT=0/0 GT=0/0 GT=0/0 GT=0/0 GT=0/0 GT=0/0 \n",
      "chr3\t43702569\tC\tT\tAC=0\tAN=20\tGT=0/0 GT=0/0 GT=0/0 GT=0/0 GT=0/0 GT=0/0 GT=0/0 GT=0/0 GT=0/0 GT=0/0 \n",
      "chr3\t43702569\tC\tG\tAC=0\tAN=20\tGT=0/0 GT=0/0 GT=0/0 GT=0/0 GT=0/0 GT=0/0 GT=0/0 GT=0/0 GT=0/0 GT=0/0 \n",
      "chr3\t43717573\tG\tA\tAC=0\tAN=14\tGT=0/0 GT=0/0 GT=0/0 GT=0/0 GT=0/0 GT=./. GT=0/0 GT=./. GT=./. GT=0/0 \n",
      "chr3\t43718397\tT\tC\tAC=0\tAN=20\tGT=0/0 GT=0/0 GT=0/0 GT=0/0 GT=0/0 GT=0/0 GT=0/0 GT=0/0 GT=0/0 GT=0/0 \n",
      "chr3\t43718561\tG\tC\tAC=0\tAN=20\tGT=0/0 GT=0/0 GT=0/0 GT=0/0 GT=0/0 GT=0/0 GT=0/0 GT=0/0 GT=0/0 GT=0/0 \n",
      "chr3\t44242124\tA\tAGCGGCAG\tAC=0\tAN=20\tGT=0/0 GT=0/0 GT=0/0 GT=0/0 GT=0/0 GT=0/0 GT=0/0 GT=0/0 GT=0/0 GT=0/0 \n",
      "chr3\t44242909\tG\tC\tAC=0\tAN=20\tGT=0/0 GT=0/0 GT=0/0 GT=0/0 GT=0/0 GT=0/0 GT=0/0 GT=0/0 GT=0/0 GT=0/0 \n",
      "chr3\t44242993\tA\tC\tAC=0\tAN=20\tGT=0/0 GT=0/0 GT=0/0 GT=0/0 GT=0/0 GT=0/0 GT=0/0 GT=0/0 GT=0/0 GT=0/0 \n",
      "chr3\t44243243\tA\tG\tAC=0\tAN=20\tGT=0/0 GT=0/0 GT=0/0 GT=0/0 GT=0/0 GT=0/0 GT=0/0 GT=0/0 GT=0/0 GT=0/0 \n",
      "chr3\t44243573\tC\tT\tAC=0\tAN=20\tGT=0/0 GT=0/0 GT=0/0 GT=0/0 GT=0/0 GT=0/0 GT=0/0 GT=0/0 GT=0/0 GT=0/0 \n",
      "chr3\t44244198\tA\tG\tAC=0\tAN=20\tGT=0/0 GT=0/0 GT=0/0 GT=0/0 GT=0/0 GT=0/0 GT=0/0 GT=0/0 GT=0/0 GT=0/0 \n",
      "chr3\t44244268\tC\tA\tAC=0\tAN=20\tGT=0/0 GT=0/0 GT=0/0 GT=0/0 GT=0/0 GT=0/0 GT=0/0 GT=0/0 GT=0/0 GT=0/0 \n",
      "chr3\t44244277\tA\tG\tAC=0\tAN=20\tGT=0/0 GT=0/0 GT=0/0 GT=0/0 GT=0/0 GT=0/0 GT=0/0 GT=0/0 GT=0/0 GT=0/0 \n",
      "chr3\t44244715\tA\tG\tAC=0\tAN=20\tGT=0/0 GT=0/0 GT=0/0 GT=0/0 GT=0/0 GT=0/0 GT=0/0 GT=0/0 GT=0/0 GT=0/0 \n",
      "chr3\t44244849\tA\tG\tAC=0\tAN=20\tGT=0/0 GT=0/0 GT=0/0 GT=0/0 GT=0/0 GT=0/0 GT=0/0 GT=0/0 GT=0/0 GT=0/0 \n",
      "chr3\t44254912\tG\tA\tAC=0\tAN=18\tGT=0/0 GT=0/0 GT=0/0 GT=0/0 GT=./. GT=0/0 GT=0/0 GT=0/0 GT=0/0 GT=0/0 \n",
      "chr3\t44254992\tA\tG\tAC=0\tAN=20\tGT=0/0 GT=0/0 GT=0/0 GT=0/0 GT=0/0 GT=0/0 GT=0/0 GT=0/0 GT=0/0 GT=0/0 \n",
      "chr3\t44254992\tA\tT\tAC=0\tAN=20\tGT=0/0 GT=0/0 GT=0/0 GT=0/0 GT=0/0 GT=0/0 GT=0/0 GT=0/0 GT=0/0 GT=0/0 \n",
      "chr3\t44262549\tTG\tT\tAC=0\tAN=12\tGT=0/0 GT=0/0 GT=./. GT=0/0 GT=./. GT=./. GT=0/0 GT=./. GT=0/0 GT=0/0 \n",
      "chr3\t44270886\tA\tT\tAC=0\tAN=20\tGT=0/0 GT=0/0 GT=0/0 GT=0/0 GT=0/0 GT=0/0 GT=0/0 GT=0/0 GT=0/0 GT=0/0 \n",
      "chr3\t44270886\tA\tG\tAC=0\tAN=20\tGT=0/0 GT=0/0 GT=0/0 GT=0/0 GT=0/0 GT=0/0 GT=0/0 GT=0/0 GT=0/0 GT=0/0 \n",
      "chr3\t44281893\tG\tC\tAC=0\tAN=18\tGT=./. GT=0/0 GT=0/0 GT=0/0 GT=0/0 GT=0/0 GT=0/0 GT=0/0 GT=0/0 GT=0/0 \n",
      "chr3\t44287528\tG\tA\tAC=0\tAN=20\tGT=0/0 GT=0/0 GT=0/0 GT=0/0 GT=0/0 GT=0/0 GT=0/0 GT=0/0 GT=0/0 GT=0/0 \n",
      "chr3\t44287934\tC\tT\tAC=0\tAN=2\tGT=./. GT=./. GT=./. GT=./. GT=./. GT=0/0 GT=./. GT=./. GT=./. GT=./. \n",
      "chr3\t44290811\tA\tG\tAC=0\tAN=20\tGT=0/0 GT=0/0 GT=0/0 GT=0/0 GT=0/0 GT=0/0 GT=0/0 GT=0/0 GT=0/0 GT=0/0 \n",
      "chr3\t44290944\tA\tG\tAC=0\tAN=18\tGT=0/0 GT=0/0 GT=./. GT=0/0 GT=0/0 GT=0/0 GT=0/0 GT=0/0 GT=0/0 GT=0/0 \n",
      "chr3\t44306284\tG\tA\tAC=0\tAN=16\tGT=./. GT=0/0 GT=0/0 GT=0/0 GT=0/0 GT=0/0 GT=0/0 GT=0/0 GT=./. GT=0/0 \n",
      "chr3\t44328526\tT\tA\tAC=0\tAN=2\tGT=./. GT=./. GT=./. GT=./. GT=./. GT=0/0 GT=./. GT=./. GT=./. GT=./. \n",
      "chr3\t44367435\tTG\tT\tAC=0\tAN=20\tGT=0/0 GT=0/0 GT=0/0 GT=0/0 GT=0/0 GT=0/0 GT=0/0 GT=0/0 GT=0/0 GT=0/0 \n",
      "chr3\t44367782\tA\tG\tAC=0\tAN=20\tGT=0/0 GT=0/0 GT=0/0 GT=0/0 GT=0/0 GT=0/0 GT=0/0 GT=0/0 GT=0/0 GT=0/0 \n",
      "chr3\t44393070\tA\tG\tAC=0\tAN=14\tGT=0/0 GT=0/0 GT=./. GT=./. GT=0/0 GT=./. GT=0/0 GT=0/0 GT=0/0 GT=0/0 \n",
      "chr3\t44396308\tT\tG\tAC=0\tAN=18\tGT=0/0 GT=0/0 GT=0/0 GT=./. GT=0/0 GT=0/0 GT=0/0 GT=0/0 GT=0/0 GT=0/0 \n",
      "chr3\t44396541\tT\tC\tAC=0\tAN=20\tGT=0/0 GT=0/0 GT=0/0 GT=0/0 GT=0/0 GT=0/0 GT=0/0 GT=0/0 GT=0/0 GT=0/0 \n",
      "chr3\t44396569\tC\tCCAAATAACTTTATCACAGCTGAACTTTTAAATCTGTTT\tAC=0\tAN=20\tGT=0/0 GT=0/0 GT=0/0 GT=0/0 GT=0/0 GT=0/0 GT=0/0 GT=0/0 GT=0/0 GT=0/0 \n",
      "chr3\t44396569\tC\tA\tAC=0\tAN=20\tGT=0/0 GT=0/0 GT=0/0 GT=0/0 GT=0/0 GT=0/0 GT=0/0 GT=0/0 GT=0/0 GT=0/0 \n",
      "chr3\t44396653\tA\tC\tAC=0\tAN=20\tGT=0/0 GT=0/0 GT=0/0 GT=0/0 GT=0/0 GT=0/0 GT=0/0 GT=0/0 GT=0/0 GT=0/0 \n",
      "chr3\t44396743\tG\tT\tAC=0\tAN=20\tGT=0/0 GT=0/0 GT=0/0 GT=0/0 GT=0/0 GT=0/0 GT=0/0 GT=0/0 GT=0/0 GT=0/0 \n",
      "chr3\t44407527\tA\tT\tAC=0\tAN=20\tGT=0/0 GT=0/0 GT=0/0 GT=0/0 GT=0/0 GT=0/0 GT=0/0 GT=0/0 GT=0/0 GT=0/0 \n",
      "chr3\t44407624\tT\tC\tAC=0\tAN=20\tGT=0/0 GT=0/0 GT=0/0 GT=0/0 GT=0/0 GT=0/0 GT=0/0 GT=0/0 GT=0/0 GT=0/0 \n",
      "chr3\t44407774\tC\tT\tAC=0\tAN=18\tGT=0/0 GT=0/0 GT=./. GT=0/0 GT=0/0 GT=0/0 GT=0/0 GT=0/0 GT=0/0 GT=0/0 \n",
      "chr3\t44446529\tG\tA\tAC=0\tAN=20\tGT=0/0 GT=0/0 GT=0/0 GT=0/0 GT=0/0 GT=0/0 GT=0/0 GT=0/0 GT=0/0 GT=0/0 \n",
      "chr3\t44446551\tC\tG\tAC=0\tAN=20\tGT=0/0 GT=0/0 GT=0/0 GT=0/0 GT=0/0 GT=0/0 GT=0/0 GT=0/0 GT=0/0 GT=0/0 \n",
      "chr3\t44446574\tG\tA\tAC=0\tAN=20\tGT=0/0 GT=0/0 GT=0/0 GT=0/0 GT=0/0 GT=0/0 GT=0/0 GT=0/0 GT=0/0 GT=0/0 \n",
      "chr3\t44447237\tG\tA\tAC=0\tAN=20\tGT=0/0 GT=0/0 GT=0/0 GT=0/0 GT=0/0 GT=0/0 GT=0/0 GT=0/0 GT=0/0 GT=0/0 \n",
      "chr3\t44447420\tC\tT\tAC=0\tAN=20\tGT=0/0 GT=0/0 GT=0/0 GT=0/0 GT=0/0 GT=0/0 GT=0/0 GT=0/0 GT=0/0 GT=0/0 \n",
      "chr3\t44447902\tT\tC\tAC=0\tAN=20\tGT=0/0 GT=0/0 GT=0/0 GT=0/0 GT=0/0 GT=0/0 GT=0/0 GT=0/0 GT=0/0 GT=0/0 \n",
      "chr3\t44448349\tA\tG\tAC=0\tAN=20\tGT=0/0 GT=0/0 GT=0/0 GT=0/0 GT=0/0 GT=0/0 GT=0/0 GT=0/0 GT=0/0 GT=0/0 \n",
      "chr3\t44450852\tA\tG\tAC=0\tAN=20\tGT=0/0 GT=0/0 GT=0/0 GT=0/0 GT=0/0 GT=0/0 GT=0/0 GT=0/0 GT=0/0 GT=0/0 \n",
      "chr3\t44451575\tG\tC\tAC=0\tAN=18\tGT=0/0 GT=0/0 GT=0/0 GT=0/0 GT=0/0 GT=0/0 GT=0/0 GT=0/0 GT=./. GT=0/0 \n",
      "chr3\t44499213\tT\tC\tAC=0\tAN=20\tGT=0/0 GT=0/0 GT=0/0 GT=0/0 GT=0/0 GT=0/0 GT=0/0 GT=0/0 GT=0/0 GT=0/0 \n",
      "chr3\t44500282\tG\tA\tAC=0\tAN=20\tGT=0/0 GT=0/0 GT=0/0 GT=0/0 GT=0/0 GT=0/0 GT=0/0 GT=0/0 GT=0/0 GT=0/0 \n",
      "chr3\t44500559\tG\tGTGCT\tAC=0\tAN=20\tGT=0/0 GT=0/0 GT=0/0 GT=0/0 GT=0/0 GT=0/0 GT=0/0 GT=0/0 GT=0/0 GT=0/0 \n",
      "chr3\t44503077\tA\tC\tAC=0\tAN=8\tGT=./. GT=0/0 GT=./. GT=./. GT=0/0 GT=0/0 GT=./. GT=./. GT=0/0 GT=./. \n",
      "chr3\t44557290\tG\tT\tAC=0\tAN=20\tGT=0/0 GT=0/0 GT=0/0 GT=0/0 GT=0/0 GT=0/0 GT=0/0 GT=0/0 GT=0/0 GT=0/0 \n",
      "chr3\t44557290\tG\tA\tAC=0\tAN=20\tGT=0/0 GT=0/0 GT=0/0 GT=0/0 GT=0/0 GT=0/0 GT=0/0 GT=0/0 GT=0/0 GT=0/0 \n",
      "chr3\t44557411\tG\tA\tAC=0\tAN=20\tGT=0/0 GT=0/0 GT=0/0 GT=0/0 GT=0/0 GT=0/0 GT=0/0 GT=0/0 GT=0/0 GT=0/0 \n",
      "chr3\t44565482\tT\tC\tAC=0\tAN=20\tGT=0/0 GT=0/0 GT=0/0 GT=0/0 GT=0/0 GT=0/0 GT=0/0 GT=0/0 GT=0/0 GT=0/0 \n",
      "chr3\t44565687\tA\tG\tAC=0\tAN=20\tGT=0/0 GT=0/0 GT=0/0 GT=0/0 GT=0/0 GT=0/0 GT=0/0 GT=0/0 GT=0/0 GT=0/0 \n",
      "chr3\t44565751\tC\tA\tAC=0\tAN=20\tGT=0/0 GT=0/0 GT=0/0 GT=0/0 GT=0/0 GT=0/0 GT=0/0 GT=0/0 GT=0/0 GT=0/0 \n",
      "chr3\t44565751\tC\tT\tAC=0\tAN=20\tGT=0/0 GT=0/0 GT=0/0 GT=0/0 GT=0/0 GT=0/0 GT=0/0 GT=0/0 GT=0/0 GT=0/0 \n",
      "chr3\t44567889\tC\tG\tAC=0\tAN=4\tGT=./. GT=0/0 GT=./. GT=./. GT=./. GT=./. GT=./. GT=./. GT=0/0 GT=./. \n",
      "chr3\t44567981\tT\tG\tAC=0\tAN=20\tGT=0/0 GT=0/0 GT=0/0 GT=0/0 GT=0/0 GT=0/0 GT=0/0 GT=0/0 GT=0/0 GT=0/0 \n",
      "chr3\t44568027\tT\tTA\tAC=0\tAN=20\tGT=0/0 GT=0/0 GT=0/0 GT=0/0 GT=0/0 GT=0/0 GT=0/0 GT=0/0 GT=0/0 GT=0/0 \n",
      "chr3\t44570430\tA\tG\tAC=0\tAN=20\tGT=0/0 GT=0/0 GT=0/0 GT=0/0 GT=0/0 GT=0/0 GT=0/0 GT=0/0 GT=0/0 GT=0/0 \n",
      "chr3\t44571753\tA\tG\tAC=0\tAN=20\tGT=0/0 GT=0/0 GT=0/0 GT=0/0 GT=0/0 GT=0/0 GT=0/0 GT=0/0 GT=0/0 GT=0/0 \n",
      "chr3\t44571923\tT\tC\tAC=0\tAN=20\tGT=0/0 GT=0/0 GT=0/0 GT=0/0 GT=0/0 GT=0/0 GT=0/0 GT=0/0 GT=0/0 GT=0/0 \n",
      "chr3\t44594343\tT\tC\tAC=0\tAN=20\tGT=0/0 GT=0/0 GT=0/0 GT=0/0 GT=0/0 GT=0/0 GT=0/0 GT=0/0 GT=0/0 GT=0/0 \n",
      "chr3\t44594517\tC\tA\tAC=0\tAN=20\tGT=0/0 GT=0/0 GT=0/0 GT=0/0 GT=0/0 GT=0/0 GT=0/0 GT=0/0 GT=0/0 GT=0/0 \n",
      "chr3\t44594861\tG\tA\tAC=0\tAN=20\tGT=0/0 GT=0/0 GT=0/0 GT=0/0 GT=0/0 GT=0/0 GT=0/0 GT=0/0 GT=0/0 GT=0/0 \n",
      "chr3\t44595014\tA\tG\tAC=0\tAN=20\tGT=0/0 GT=0/0 GT=0/0 GT=0/0 GT=0/0 GT=0/0 GT=0/0 GT=0/0 GT=0/0 GT=0/0 \n",
      "chr3\t44629397\tC\tG\tAC=0\tAN=20\tGT=0/0 GT=0/0 GT=0/0 GT=0/0 GT=0/0 GT=0/0 GT=0/0 GT=0/0 GT=0/0 GT=0/0 \n",
      "chr3\t44632207\tC\tA\tAC=0\tAN=20\tGT=0/0 GT=0/0 GT=0/0 GT=0/0 GT=0/0 GT=0/0 GT=0/0 GT=0/0 GT=0/0 GT=0/0 \n",
      "chr3\t44642089\tC\tA\tAC=0\tAN=20\tGT=0/0 GT=0/0 GT=0/0 GT=0/0 GT=0/0 GT=0/0 GT=0/0 GT=0/0 GT=0/0 GT=0/0 \n",
      "chr3\t44642708\tT\tC\tAC=0\tAN=20\tGT=0/0 GT=0/0 GT=0/0 GT=0/0 GT=0/0 GT=0/0 GT=0/0 GT=0/0 GT=0/0 GT=0/0 \n",
      "chr3\t44642958\tA\tG\tAC=0\tAN=20\tGT=0/0 GT=0/0 GT=0/0 GT=0/0 GT=0/0 GT=0/0 GT=0/0 GT=0/0 GT=0/0 GT=0/0 \n",
      "chr3\t44643461\tC\tT\tAC=0\tAN=20\tGT=0/0 GT=0/0 GT=0/0 GT=0/0 GT=0/0 GT=0/0 GT=0/0 GT=0/0 GT=0/0 GT=0/0 \n",
      "chr3\t44644610\tG\tT\tAC=0\tAN=20\tGT=0/0 GT=0/0 GT=0/0 GT=0/0 GT=0/0 GT=0/0 GT=0/0 GT=0/0 GT=0/0 GT=0/0 \n",
      "chr3\t44645143\tT\tC\tAC=0\tAN=20\tGT=0/0 GT=0/0 GT=0/0 GT=0/0 GT=0/0 GT=0/0 GT=0/0 GT=0/0 GT=0/0 GT=0/0 \n",
      "chr3\t44645613\tA\tT\tAC=0\tAN=20\tGT=0/0 GT=0/0 GT=0/0 GT=0/0 GT=0/0 GT=0/0 GT=0/0 GT=0/0 GT=0/0 GT=0/0 \n",
      "chr3\t44645923\tG\tA\tAC=0\tAN=20\tGT=0/0 GT=0/0 GT=0/0 GT=0/0 GT=0/0 GT=0/0 GT=0/0 GT=0/0 GT=0/0 GT=0/0 \n",
      "chr3\t44646292\tC\tA\tAC=0\tAN=20\tGT=0/0 GT=0/0 GT=0/0 GT=0/0 GT=0/0 GT=0/0 GT=0/0 GT=0/0 GT=0/0 GT=0/0 \n",
      "chr3\t44646470\tC\tT\tAC=0\tAN=20\tGT=0/0 GT=0/0 GT=0/0 GT=0/0 GT=0/0 GT=0/0 GT=0/0 GT=0/0 GT=0/0 GT=0/0 \n",
      "chr3\t44651207\tC\tA\tAC=0\tAN=20\tGT=0/0 GT=0/0 GT=0/0 GT=0/0 GT=0/0 GT=0/0 GT=0/0 GT=0/0 GT=0/0 GT=0/0 \n",
      "chr3\t44651240\tG\tA\tAC=0\tAN=20\tGT=0/0 GT=0/0 GT=0/0 GT=0/0 GT=0/0 GT=0/0 GT=0/0 GT=0/0 GT=0/0 GT=0/0 \n",
      "chr3\t44652776\tC\tT\tAC=0\tAN=20\tGT=0/0 GT=0/0 GT=0/0 GT=0/0 GT=0/0 GT=0/0 GT=0/0 GT=0/0 GT=0/0 GT=0/0 \n",
      "chr3\t44721449\tA\tG\tAC=0\tAN=20\tGT=0/0 GT=0/0 GT=0/0 GT=0/0 GT=0/0 GT=0/0 GT=0/0 GT=0/0 GT=0/0 GT=0/0 \n",
      "chr3\t44721549\tT\tTG\tAC=0\tAN=20\tGT=0/0 GT=0/0 GT=0/0 GT=0/0 GT=0/0 GT=0/0 GT=0/0 GT=0/0 GT=0/0 GT=0/0 \n",
      "chr3\t44721890\tA\tG\tAC=0\tAN=20\tGT=0/0 GT=0/0 GT=0/0 GT=0/0 GT=0/0 GT=0/0 GT=0/0 GT=0/0 GT=0/0 GT=0/0 \n",
      "chr3\t44722021\tAC\tA\tAC=0\tAN=20\tGT=0/0 GT=0/0 GT=0/0 GT=0/0 GT=0/0 GT=0/0 GT=0/0 GT=0/0 GT=0/0 GT=0/0 \n",
      "chr3\t44722022\tCA\tC\tAC=0\tAN=20\tGT=0/0 GT=0/0 GT=0/0 GT=0/0 GT=0/0 GT=0/0 GT=0/0 GT=0/0 GT=0/0 GT=0/0 \n",
      "chr3\t44722262\tA\tG\tAC=0\tAN=20\tGT=0/0 GT=0/0 GT=0/0 GT=0/0 GT=0/0 GT=0/0 GT=0/0 GT=0/0 GT=0/0 GT=0/0 \n",
      "chr3\t44722318\tC\tT\tAC=0\tAN=20\tGT=0/0 GT=0/0 GT=0/0 GT=0/0 GT=0/0 GT=0/0 GT=0/0 GT=0/0 GT=0/0 GT=0/0 \n",
      "chr3\t44734888\tA\tG\tAC=0\tAN=20\tGT=0/0 GT=0/0 GT=0/0 GT=0/0 GT=0/0 GT=0/0 GT=0/0 GT=0/0 GT=0/0 GT=0/0 \n",
      "chr3\t44753476\tT\tC\tAC=0\tAN=20\tGT=0/0 GT=0/0 GT=0/0 GT=0/0 GT=0/0 GT=0/0 GT=0/0 GT=0/0 GT=0/0 GT=0/0 \n",
      "chr3\t44761630\tG\tC\tAC=0\tAN=20\tGT=0/0 GT=0/0 GT=0/0 GT=0/0 GT=0/0 GT=0/0 GT=0/0 GT=0/0 GT=0/0 GT=0/0 \n",
      "chr3\t44775254\tT\tC\tAC=0\tAN=20\tGT=0/0 GT=0/0 GT=0/0 GT=0/0 GT=0/0 GT=0/0 GT=0/0 GT=0/0 GT=0/0 GT=0/0 \n",
      "chr3\t44775255\tA\tT\tAC=0\tAN=20\tGT=0/0 GT=0/0 GT=0/0 GT=0/0 GT=0/0 GT=0/0 GT=0/0 GT=0/0 GT=0/0 GT=0/0 \n",
      "chr3\t44780821\tTATA\tT\tAC=0\tAN=14\tGT=0/0 GT=0/0 GT=./. GT=./. GT=0/0 GT=0/0 GT=0/0 GT=./. GT=0/0 GT=0/0 \n",
      "chr3\t44780823\tT\tC\tAC=0\tAN=14\tGT=0/0 GT=0/0 GT=./. GT=./. GT=0/0 GT=0/0 GT=0/0 GT=./. GT=0/0 GT=0/0 \n",
      "chr3\t44786471\tA\tG\tAC=0\tAN=20\tGT=0/0 GT=0/0 GT=0/0 GT=0/0 GT=0/0 GT=0/0 GT=0/0 GT=0/0 GT=0/0 GT=0/0 \n",
      "chr3\t44797954\tA\tG\tAC=0\tAN=20\tGT=0/0 GT=0/0 GT=0/0 GT=0/0 GT=0/0 GT=0/0 GT=0/0 GT=0/0 GT=0/0 GT=0/0 \n",
      "chr3\t44798014\tA\tG\tAC=0\tAN=20\tGT=0/0 GT=0/0 GT=0/0 GT=0/0 GT=0/0 GT=0/0 GT=0/0 GT=0/0 GT=0/0 GT=0/0 \n",
      "chr3\t44800391\tG\tC\tAC=0\tAN=20\tGT=0/0 GT=0/0 GT=0/0 GT=0/0 GT=0/0 GT=0/0 GT=0/0 GT=0/0 GT=0/0 GT=0/0 \n",
      "chr3\t44800391\tG\tA\tAC=0\tAN=20\tGT=0/0 GT=0/0 GT=0/0 GT=0/0 GT=0/0 GT=0/0 GT=0/0 GT=0/0 GT=0/0 GT=0/0 \n",
      "chr3\t44802930\tG\tT\tAC=0\tAN=20\tGT=0/0 GT=0/0 GT=0/0 GT=0/0 GT=0/0 GT=0/0 GT=0/0 GT=0/0 GT=0/0 GT=0/0 \n",
      "chr3\t44803024\tT\tA\tAC=0\tAN=20\tGT=0/0 GT=0/0 GT=0/0 GT=0/0 GT=0/0 GT=0/0 GT=0/0 GT=0/0 GT=0/0 GT=0/0 \n",
      "chr3\t44804985\tGA\tG\tAC=0\tAN=18\tGT=0/0 GT=0/0 GT=0/0 GT=0/0 GT=./. GT=0/0 GT=0/0 GT=0/0 GT=0/0 GT=0/0 \n",
      "chr3\t44804985\tG\tGA\tAC=0\tAN=18\tGT=0/0 GT=0/0 GT=0/0 GT=0/0 GT=./. GT=0/0 GT=0/0 GT=0/0 GT=0/0 GT=0/0 \n",
      "chr3\t44804985\tGAAA\tG\tAC=0\tAN=18\tGT=0/0 GT=0/0 GT=0/0 GT=0/0 GT=./. GT=0/0 GT=0/0 GT=0/0 GT=0/0 GT=0/0 \n",
      "chr3\t44804985\tGAA\tG\tAC=0\tAN=18\tGT=0/0 GT=0/0 GT=0/0 GT=0/0 GT=./. GT=0/0 GT=0/0 GT=0/0 GT=0/0 GT=0/0 \n",
      "chr3\t44826005\tTA\tT\tAC=0\tAN=20\tGT=0/0 GT=0/0 GT=0/0 GT=0/0 GT=0/0 GT=0/0 GT=0/0 GT=0/0 GT=0/0 GT=0/0 \n",
      "chr3\t44826049\tG\tA\tAC=0\tAN=20\tGT=0/0 GT=0/0 GT=0/0 GT=0/0 GT=0/0 GT=0/0 GT=0/0 GT=0/0 GT=0/0 GT=0/0 \n",
      "chr3\t44827360\tA\tT\tAC=0\tAN=8\tGT=./. GT=0/0 GT=./. GT=./. GT=./. GT=./. GT=0/0 GT=./. GT=0/0 GT=0/0 \n",
      "chr3\t44830013\tA\tT\tAC=4\tAN=20\tGT=0/1 GT=0/0 GT=0/0 GT=0/1 GT=0/1 GT=0/0 GT=0/0 GT=0/1 GT=0/0 GT=0/0 \n",
      "chr3\t44838321\tA\tG\tAC=0\tAN=20\tGT=0/0 GT=0/0 GT=0/0 GT=0/0 GT=0/0 GT=0/0 GT=0/0 GT=0/0 GT=0/0 GT=0/0 \n",
      "chr3\t44840427\tG\tT\tAC=0\tAN=20\tGT=0/0 GT=0/0 GT=0/0 GT=0/0 GT=0/0 GT=0/0 GT=0/0 GT=0/0 GT=0/0 GT=0/0 \n",
      "chr3\t44840982\tA\tC\tAC=0\tAN=18\tGT=0/0 GT=0/0 GT=0/0 GT=0/0 GT=./. GT=0/0 GT=0/0 GT=0/0 GT=0/0 GT=0/0 \n",
      "chr3\t44843190\tC\tT\tAC=0\tAN=20\tGT=0/0 GT=0/0 GT=0/0 GT=0/0 GT=0/0 GT=0/0 GT=0/0 GT=0/0 GT=0/0 GT=0/0 \n",
      "chr3\t44848100\tA\tG\tAC=0\tAN=14\tGT=./. GT=0/0 GT=./. GT=0/0 GT=0/0 GT=0/0 GT=0/0 GT=./. GT=0/0 GT=0/0 \n",
      "chr3\t44851941\tA\tG\tAC=0\tAN=20\tGT=0/0 GT=0/0 GT=0/0 GT=0/0 GT=0/0 GT=0/0 GT=0/0 GT=0/0 GT=0/0 GT=0/0 \n",
      "chr3\t44852746\tC\tT\tAC=0\tAN=20\tGT=0/0 GT=0/0 GT=0/0 GT=0/0 GT=0/0 GT=0/0 GT=0/0 GT=0/0 GT=0/0 GT=0/0 \n",
      "chr3\t44862016\tG\tA\tAC=0\tAN=20\tGT=0/0 GT=0/0 GT=0/0 GT=0/0 GT=0/0 GT=0/0 GT=0/0 GT=0/0 GT=0/0 GT=0/0 \n",
      "chr3\t44864440\tA\tG\tAC=0\tAN=20\tGT=0/0 GT=0/0 GT=0/0 GT=0/0 GT=0/0 GT=0/0 GT=0/0 GT=0/0 GT=0/0 GT=0/0 \n",
      "chr3\t44885527\tC\tG\tAC=0\tAN=20\tGT=0/0 GT=0/0 GT=0/0 GT=0/0 GT=0/0 GT=0/0 GT=0/0 GT=0/0 GT=0/0 GT=0/0 \n",
      "chr3\t44885527\tC\tT\tAC=0\tAN=20\tGT=0/0 GT=0/0 GT=0/0 GT=0/0 GT=0/0 GT=0/0 GT=0/0 GT=0/0 GT=0/0 GT=0/0 \n",
      "chr3\t44890536\tA\tG\tAC=0\tAN=20\tGT=0/0 GT=0/0 GT=0/0 GT=0/0 GT=0/0 GT=0/0 GT=0/0 GT=0/0 GT=0/0 GT=0/0 \n",
      "chr3\t44893516\tG\tA\tAC=0\tAN=20\tGT=0/0 GT=0/0 GT=0/0 GT=0/0 GT=0/0 GT=0/0 GT=0/0 GT=0/0 GT=0/0 GT=0/0 \n",
      "chr3\t44893755\tT\tG\tAC=0\tAN=18\tGT=./. GT=0/0 GT=0/0 GT=0/0 GT=0/0 GT=0/0 GT=0/0 GT=0/0 GT=0/0 GT=0/0 \n",
      "chr3\t44896759\tC\tT\tAC=0\tAN=20\tGT=0/0 GT=0/0 GT=0/0 GT=0/0 GT=0/0 GT=0/0 GT=0/0 GT=0/0 GT=0/0 GT=0/0 \n",
      "chr3\t44901476\tT\tC\tAC=0\tAN=20\tGT=0/0 GT=0/0 GT=0/0 GT=0/0 GT=0/0 GT=0/0 GT=0/0 GT=0/0 GT=0/0 GT=0/0 \n",
      "chr3\t44902029\tG\tC\tAC=0\tAN=18\tGT=0/0 GT=0/0 GT=./. GT=0/0 GT=0/0 GT=0/0 GT=0/0 GT=0/0 GT=0/0 GT=0/0 \n",
      "chr3\t44906960\tT\tA\tAC=0\tAN=20\tGT=0/0 GT=0/0 GT=0/0 GT=0/0 GT=0/0 GT=0/0 GT=0/0 GT=0/0 GT=0/0 GT=0/0 \n",
      "chr3\t44910235\tC\tT\tAC=0\tAN=20\tGT=0/0 GT=0/0 GT=0/0 GT=0/0 GT=0/0 GT=0/0 GT=0/0 GT=0/0 GT=0/0 GT=0/0 \n",
      "chr3\t44917806\tG\tA\tAC=0\tAN=20\tGT=0/0 GT=0/0 GT=0/0 GT=0/0 GT=0/0 GT=0/0 GT=0/0 GT=0/0 GT=0/0 GT=0/0 \n",
      "chr3\t44917806\tG\tC\tAC=0\tAN=20\tGT=0/0 GT=0/0 GT=0/0 GT=0/0 GT=0/0 GT=0/0 GT=0/0 GT=0/0 GT=0/0 GT=0/0 \n",
      "chr3\t44918064\tC\tG\tAC=0\tAN=20\tGT=0/0 GT=0/0 GT=0/0 GT=0/0 GT=0/0 GT=0/0 GT=0/0 GT=0/0 GT=0/0 GT=0/0 \n",
      "chr3\t44918686\tT\tG\tAC=0\tAN=20\tGT=0/0 GT=0/0 GT=0/0 GT=0/0 GT=0/0 GT=0/0 GT=0/0 GT=0/0 GT=0/0 GT=0/0 \n",
      "chr3\t44918691\tC\tT\tAC=0\tAN=20\tGT=0/0 GT=0/0 GT=0/0 GT=0/0 GT=0/0 GT=0/0 GT=0/0 GT=0/0 GT=0/0 GT=0/0 \n",
      "chr3\t44919920\tG\tA\tAC=0\tAN=20\tGT=0/0 GT=0/0 GT=0/0 GT=0/0 GT=0/0 GT=0/0 GT=0/0 GT=0/0 GT=0/0 GT=0/0 \n",
      "chr3\t44920665\tT\tC\tAC=0\tAN=20\tGT=0/0 GT=0/0 GT=0/0 GT=0/0 GT=0/0 GT=0/0 GT=0/0 GT=0/0 GT=0/0 GT=0/0 \n",
      "chr3\t44921625\tA\tG\tAC=0\tAN=20\tGT=0/0 GT=0/0 GT=0/0 GT=0/0 GT=0/0 GT=0/0 GT=0/0 GT=0/0 GT=0/0 GT=0/0 \n",
      "chr3\t44921936\tC\tT\tAC=0\tAN=20\tGT=0/0 GT=0/0 GT=0/0 GT=0/0 GT=0/0 GT=0/0 GT=0/0 GT=0/0 GT=0/0 GT=0/0 \n",
      "chr3\t44922303\tG\tA\tAC=0\tAN=20\tGT=0/0 GT=0/0 GT=0/0 GT=0/0 GT=0/0 GT=0/0 GT=0/0 GT=0/0 GT=0/0 GT=0/0 \n",
      "chr3\t44922305\tC\tT\tAC=0\tAN=20\tGT=0/0 GT=0/0 GT=0/0 GT=0/0 GT=0/0 GT=0/0 GT=0/0 GT=0/0 GT=0/0 GT=0/0 \n",
      "chr3\t44922352\tC\tT\tAC=0\tAN=20\tGT=0/0 GT=0/0 GT=0/0 GT=0/0 GT=0/0 GT=0/0 GT=0/0 GT=0/0 GT=0/0 GT=0/0 \n",
      "chr3\t44922675\tT\tG\tAC=0\tAN=20\tGT=0/0 GT=0/0 GT=0/0 GT=0/0 GT=0/0 GT=0/0 GT=0/0 GT=0/0 GT=0/0 GT=0/0 \n",
      "chr3\t44922768\tC\tT\tAC=0\tAN=20\tGT=0/0 GT=0/0 GT=0/0 GT=0/0 GT=0/0 GT=0/0 GT=0/0 GT=0/0 GT=0/0 GT=0/0 \n",
      "chr3\t44922768\tC\tA\tAC=0\tAN=20\tGT=0/0 GT=0/0 GT=0/0 GT=0/0 GT=0/0 GT=0/0 GT=0/0 GT=0/0 GT=0/0 GT=0/0 \n",
      "chr3\t44922768\tC\tG\tAC=0\tAN=20\tGT=0/0 GT=0/0 GT=0/0 GT=0/0 GT=0/0 GT=0/0 GT=0/0 GT=0/0 GT=0/0 GT=0/0 \n",
      "chr3\t44922964\tA\tG\tAC=0\tAN=20\tGT=0/0 GT=0/0 GT=0/0 GT=0/0 GT=0/0 GT=0/0 GT=0/0 GT=0/0 GT=0/0 GT=0/0 \n",
      "chr3\t44923020\tC\tA\tAC=0\tAN=20\tGT=0/0 GT=0/0 GT=0/0 GT=0/0 GT=0/0 GT=0/0 GT=0/0 GT=0/0 GT=0/0 GT=0/0 \n",
      "chr3\t44923050\tT\tC\tAC=0\tAN=20\tGT=0/0 GT=0/0 GT=0/0 GT=0/0 GT=0/0 GT=0/0 GT=0/0 GT=0/0 GT=0/0 GT=0/0 \n",
      "chr3\t44923545\tT\tC\tAC=0\tAN=20\tGT=0/0 GT=0/0 GT=0/0 GT=0/0 GT=0/0 GT=0/0 GT=0/0 GT=0/0 GT=0/0 GT=0/0 \n",
      "chr3\t44923793\tA\tC\tAC=0\tAN=20\tGT=0/0 GT=0/0 GT=0/0 GT=0/0 GT=0/0 GT=0/0 GT=0/0 GT=0/0 GT=0/0 GT=0/0 \n",
      "chr3\t44923876\tC\tA\tAC=0\tAN=20\tGT=0/0 GT=0/0 GT=0/0 GT=0/0 GT=0/0 GT=0/0 GT=0/0 GT=0/0 GT=0/0 GT=0/0 \n",
      "chr3\t44923917\tT\tC\tAC=0\tAN=20\tGT=0/0 GT=0/0 GT=0/0 GT=0/0 GT=0/0 GT=0/0 GT=0/0 GT=0/0 GT=0/0 GT=0/0 \n",
      "chr3\t44923936\tT\tC\tAC=0\tAN=20\tGT=0/0 GT=0/0 GT=0/0 GT=0/0 GT=0/0 GT=0/0 GT=0/0 GT=0/0 GT=0/0 GT=0/0 \n",
      "chr3\t44924831\tCA\tC\tAC=0\tAN=20\tGT=0/0 GT=0/0 GT=0/0 GT=0/0 GT=0/0 GT=0/0 GT=0/0 GT=0/0 GT=0/0 GT=0/0 \n",
      "chr3\t44924861\tG\tC\tAC=0\tAN=20\tGT=0/0 GT=0/0 GT=0/0 GT=0/0 GT=0/0 GT=0/0 GT=0/0 GT=0/0 GT=0/0 GT=0/0 \n",
      "chr3\t44925201\tT\tA\tAC=0\tAN=20\tGT=0/0 GT=0/0 GT=0/0 GT=0/0 GT=0/0 GT=0/0 GT=0/0 GT=0/0 GT=0/0 GT=0/0 \n",
      "chr3\t44925980\tA\tG\tAC=0\tAN=20\tGT=0/0 GT=0/0 GT=0/0 GT=0/0 GT=0/0 GT=0/0 GT=0/0 GT=0/0 GT=0/0 GT=0/0 \n",
      "chr3\t44926855\tC\tT\tAC=0\tAN=20\tGT=0/0 GT=0/0 GT=0/0 GT=0/0 GT=0/0 GT=0/0 GT=0/0 GT=0/0 GT=0/0 GT=0/0 \n",
      "chr3\t44926886\tC\tT\tAC=0\tAN=20\tGT=0/0 GT=0/0 GT=0/0 GT=0/0 GT=0/0 GT=0/0 GT=0/0 GT=0/0 GT=0/0 GT=0/0 \n",
      "chr3\t44929433\tC\tT\tAC=0\tAN=20\tGT=0/0 GT=0/0 GT=0/0 GT=0/0 GT=0/0 GT=0/0 GT=0/0 GT=0/0 GT=0/0 GT=0/0 \n",
      "chr3\t44933081\tC\tA\tAC=0\tAN=20\tGT=0/0 GT=0/0 GT=0/0 GT=0/0 GT=0/0 GT=0/0 GT=0/0 GT=0/0 GT=0/0 GT=0/0 \n",
      "chr3\t44933159\tA\tG\tAC=0\tAN=20\tGT=0/0 GT=0/0 GT=0/0 GT=0/0 GT=0/0 GT=0/0 GT=0/0 GT=0/0 GT=0/0 GT=0/0 \n",
      "chr3\t44945109\tG\tA\tAC=0\tAN=20\tGT=0/0 GT=0/0 GT=0/0 GT=0/0 GT=0/0 GT=0/0 GT=0/0 GT=0/0 GT=0/0 GT=0/0 \n",
      "chr3\t44945109\tG\tC\tAC=0\tAN=20\tGT=0/0 GT=0/0 GT=0/0 GT=0/0 GT=0/0 GT=0/0 GT=0/0 GT=0/0 GT=0/0 GT=0/0 \n",
      "chr3\t44945117\tA\tT\tAC=0\tAN=20\tGT=0/0 GT=0/0 GT=0/0 GT=0/0 GT=0/0 GT=0/0 GT=0/0 GT=0/0 GT=0/0 GT=0/0 \n",
      "chr3\t44959205\tT\tC\tAC=0\tAN=20\tGT=0/0 GT=0/0 GT=0/0 GT=0/0 GT=0/0 GT=0/0 GT=0/0 GT=0/0 GT=0/0 GT=0/0 \n",
      "chr3\t44959225\tC\tT\tAC=0\tAN=20\tGT=0/0 GT=0/0 GT=0/0 GT=0/0 GT=0/0 GT=0/0 GT=0/0 GT=0/0 GT=0/0 GT=0/0 \n",
      "chr3\t44959436\tT\tC\tAC=0\tAN=20\tGT=0/0 GT=0/0 GT=0/0 GT=0/0 GT=0/0 GT=0/0 GT=0/0 GT=0/0 GT=0/0 GT=0/0 \n",
      "chr3\t44959436\tTA\tT\tAC=0\tAN=20\tGT=0/0 GT=0/0 GT=0/0 GT=0/0 GT=0/0 GT=0/0 GT=0/0 GT=0/0 GT=0/0 GT=0/0 \n",
      "chr3\t44989679\tA\tC\tAC=0\tAN=20\tGT=0/0 GT=0/0 GT=0/0 GT=0/0 GT=0/0 GT=0/0 GT=0/0 GT=0/0 GT=0/0 GT=0/0 \n",
      "chr3\t44989686\tT\tG\tAC=0\tAN=20\tGT=0/0 GT=0/0 GT=0/0 GT=0/0 GT=0/0 GT=0/0 GT=0/0 GT=0/0 GT=0/0 GT=0/0 \n",
      "chr3\t44997194\tT\tC\tAC=0\tAN=20\tGT=0/0 GT=0/0 GT=0/0 GT=0/0 GT=0/0 GT=0/0 GT=0/0 GT=0/0 GT=0/0 GT=0/0 \n",
      "chr3\t44997344\tG\tA\tAC=0\tAN=16\tGT=./. GT=0/0 GT=0/0 GT=0/0 GT=0/0 GT=0/0 GT=0/0 GT=./. GT=0/0 GT=0/0 \n",
      "chr3\t45007432\tC\tT\tAC=0\tAN=20\tGT=0/0 GT=0/0 GT=0/0 GT=0/0 GT=0/0 GT=0/0 GT=0/0 GT=0/0 GT=0/0 GT=0/0 \n",
      "chr3\t45007539\tC\tT\tAC=0\tAN=20\tGT=0/0 GT=0/0 GT=0/0 GT=0/0 GT=0/0 GT=0/0 GT=0/0 GT=0/0 GT=0/0 GT=0/0 \n",
      "chr3\t45011185\tG\tA\tAC=0\tAN=12\tGT=./. GT=0/0 GT=0/0 GT=./. GT=./. GT=0/0 GT=./. GT=0/0 GT=0/0 GT=0/0 \n",
      "chr3\t45011215\tC\tG\tAC=0\tAN=20\tGT=0/0 GT=0/0 GT=0/0 GT=0/0 GT=0/0 GT=0/0 GT=0/0 GT=0/0 GT=0/0 GT=0/0 \n",
      "chr3\t45011323\tT\tG\tAC=0\tAN=20\tGT=0/0 GT=0/0 GT=0/0 GT=0/0 GT=0/0 GT=0/0 GT=0/0 GT=0/0 GT=0/0 GT=0/0 \n",
      "chr3\t45026395\tC\tG\tAC=0\tAN=20\tGT=0/0 GT=0/0 GT=0/0 GT=0/0 GT=0/0 GT=0/0 GT=0/0 GT=0/0 GT=0/0 GT=0/0 \n",
      "chr3\t45030854\tA\tG\tAC=0\tAN=20\tGT=0/0 GT=0/0 GT=0/0 GT=0/0 GT=0/0 GT=0/0 GT=0/0 GT=0/0 GT=0/0 GT=0/0 \n",
      "chr3\t45085654\tA\tG\tAC=0\tAN=20\tGT=0/0 GT=0/0 GT=0/0 GT=0/0 GT=0/0 GT=0/0 GT=0/0 GT=0/0 GT=0/0 GT=0/0 \n",
      "chr3\t45091294\tA\tG\tAC=0\tAN=20\tGT=0/0 GT=0/0 GT=0/0 GT=0/0 GT=0/0 GT=0/0 GT=0/0 GT=0/0 GT=0/0 GT=0/0 \n",
      "chr3\t45093316\tT\tTGG\tAC=0\tAN=20\tGT=0/0 GT=0/0 GT=0/0 GT=0/0 GT=0/0 GT=0/0 GT=0/0 GT=0/0 GT=0/0 GT=0/0 \n",
      "chr3\t45093703\tG\tA\tAC=0\tAN=20\tGT=0/0 GT=0/0 GT=0/0 GT=0/0 GT=0/0 GT=0/0 GT=0/0 GT=0/0 GT=0/0 GT=0/0 \n",
      "chr3\t45095506\tG\tT\tAC=0\tAN=20\tGT=0/0 GT=0/0 GT=0/0 GT=0/0 GT=0/0 GT=0/0 GT=0/0 GT=0/0 GT=0/0 GT=0/0 \n",
      "chr3\t45110390\tA\tC\tAC=0\tAN=20\tGT=0/0 GT=0/0 GT=0/0 GT=0/0 GT=0/0 GT=0/0 GT=0/0 GT=0/0 GT=0/0 GT=0/0 \n",
      "chr3\t45112304\tC\tT\tAC=0\tAN=20\tGT=0/0 GT=0/0 GT=0/0 GT=0/0 GT=0/0 GT=0/0 GT=0/0 GT=0/0 GT=0/0 GT=0/0 \n",
      "chr3\t45146216\tC\tG\tAC=0\tAN=20\tGT=0/0 GT=0/0 GT=0/0 GT=0/0 GT=0/0 GT=0/0 GT=0/0 GT=0/0 GT=0/0 GT=0/0 \n",
      "chr3\t45394357\tA\tT\tAC=1\tAN=8\tGT=0/0 GT=0/0 GT=./. GT=./. GT=0/0 GT=./. GT=0/1 GT=./. GT=./. GT=./. \n",
      "chr3\t45400266\tG\tA\tAC=0\tAN=20\tGT=0/0 GT=0/0 GT=0/0 GT=0/0 GT=0/0 GT=0/0 GT=0/0 GT=0/0 GT=0/0 GT=0/0 \n",
      "chr3\t45400266\tG\tC\tAC=0\tAN=20\tGT=0/0 GT=0/0 GT=0/0 GT=0/0 GT=0/0 GT=0/0 GT=0/0 GT=0/0 GT=0/0 GT=0/0 \n",
      "chr3\t45400365\tG\tA\tAC=0\tAN=20\tGT=0/0 GT=0/0 GT=0/0 GT=0/0 GT=0/0 GT=0/0 GT=0/0 GT=0/0 GT=0/0 GT=0/0 \n",
      "chr3\t45419609\tA\tG\tAC=0\tAN=16\tGT=0/0 GT=0/0 GT=./. GT=0/0 GT=0/0 GT=./. GT=0/0 GT=0/0 GT=0/0 GT=0/0 \n",
      "chr3\t45458643\tC\tT\tAC=0\tAN=14\tGT=./. GT=0/0 GT=./. GT=0/0 GT=0/0 GT=0/0 GT=0/0 GT=0/0 GT=./. GT=0/0 \n",
      "chr3\t45458805\tT\tC\tAC=0\tAN=20\tGT=0/0 GT=0/0 GT=0/0 GT=0/0 GT=0/0 GT=0/0 GT=0/0 GT=0/0 GT=0/0 GT=0/0 \n",
      "chr3\t45491484\tA\tG\tAC=0\tAN=20\tGT=0/0 GT=0/0 GT=0/0 GT=0/0 GT=0/0 GT=0/0 GT=0/0 GT=0/0 GT=0/0 GT=0/0 \n",
      "chr3\t45496407\tG\tA\tAC=0\tAN=20\tGT=0/0 GT=0/0 GT=0/0 GT=0/0 GT=0/0 GT=0/0 GT=0/0 GT=0/0 GT=0/0 GT=0/0 \n",
      "chr3\t45496412\tT\tA\tAC=0\tAN=20\tGT=0/0 GT=0/0 GT=0/0 GT=0/0 GT=0/0 GT=0/0 GT=0/0 GT=0/0 GT=0/0 GT=0/0 \n"
     ]
    }
   ],
   "source": [
    "bcftools view chr3_mwe.subset.filtered_1.vcf.gz |  bcftools query -f'%CHROM\\t%POS\\t%REF\\t%ALT\\tAC=%AC\\tAN=%AN\\t[GT=%GT ]\\n' | grep -v \"^#\""
   ]
  },
  {
   "cell_type": "code",
   "execution_count": 17,
   "metadata": {},
   "outputs": [
    {
     "name": "stdout",
     "output_type": "stream",
     "text": [
      "chr3\t43576874\tT\tC\tAC=1\tAN=20\n",
      "chr3\t44830013\tA\tT\tAC=4\tAN=20\n",
      "chr3\t45394357\tA\tT\tAC=1\tAN=8\n"
     ]
    }
   ],
   "source": [
    "bcftools view chr3_mwe.subset.filtered_2.vcf.gz |  bcftools query -f'%CHROM\\t%POS\\t%REF\\t%ALT\\tAC=%AC\\tAN=%AN\\n' | grep -v \"^#\""
   ]
  },
  {
   "cell_type": "code",
   "execution_count": 26,
   "metadata": {},
   "outputs": [
    {
     "name": "stdout",
     "output_type": "stream",
     "text": [
      "chr3\t43576874\tT\tC\tAC=1\tAN=20\n",
      "chr3\t44830013\tA\tT\tAC=4\tAN=20\n",
      "chr3\t45394357\tA\tT\tAC=1\tAN=8\n"
     ]
    }
   ],
   "source": [
    "bcftools view chr3_mwe.subset.filtered_3.vcf.gz |  bcftools query -f'%CHROM\\t%POS\\t%REF\\t%ALT\\tAC=%AC\\tAN=%AN\\n' | grep -v \"^#\""
   ]
  },
  {
   "cell_type": "code",
   "execution_count": 22,
   "metadata": {
    "kernel": "Bash"
   },
   "outputs": [
    {
     "name": "stdout",
     "output_type": "stream",
     "text": [
      "chr3\t43332376\tTAATATGTC\tTAATGTGTC,T,TAATATATC,TAATATGTG\n",
      "chr3\t43348535\tC\tCCAGCTGTTGCCATGTCATCTGACTGTGG\n",
      "chr3\t44242124\tA\tAGCGGCAG\n",
      "chr3\t44262549\tTG\tT\n",
      "chr3\t44367435\tTG\tT\n",
      "chr3\t44396569\tC\tCCAAATAACTTTATCACAGCTGAACTTTTAAATCTGTTT,A\n",
      "chr3\t44500559\tG\tGTGCT\n",
      "chr3\t44568027\tT\tTA\n",
      "chr3\t44721549\tT\tTG\n",
      "chr3\t44722021\tACA\tAA,AC\n",
      "\n"
     ]
    }
   ],
   "source": [
    "bcftools view -v indels chr3_mwe.subset_10samples.vcf.gz | bcftools query -f'%CHROM\\t%POS\\t%REF\\t%ALT\\n' | grep -v \"^#\" | head"
   ]
  },
  {
   "cell_type": "markdown",
   "metadata": {},
   "source": [
    "## Try with real world example"
   ]
  },
  {
   "cell_type": "code",
   "execution_count": 1,
   "metadata": {},
   "outputs": [],
   "source": [
    "cd /mnt/mfs/statgen/UKBiobank/data/exome_files/project_VCF/plink_files"
   ]
  },
  {
   "cell_type": "code",
   "execution_count": null,
   "metadata": {},
   "outputs": [],
   "source": [
    "# 17847 variants\n",
    "bcftools view -H ukb23156_c22_b0_v1.leftnorm.filtered_0.vcf.gz | wc -l"
   ]
  },
  {
   "cell_type": "code",
   "execution_count": null,
   "metadata": {},
   "outputs": [],
   "source": [
    "# 17831 variants\n",
    "bcftools view -H ukb23156_c22_b0_v1.leftnorm.filtered_1.vcf.gz | wc -l"
   ]
  },
  {
   "cell_type": "code",
   "execution_count": 4,
   "metadata": {},
   "outputs": [],
   "source": [
    "#16627 snps\n",
    "bcftools filter -i 'TYPE=\"snp\" & GT=\"het\" & (FORMAT/AD[*:1])/(FORMAT/AD[*:0] + FORMAT/AD[*:1]) >= 0.15' ukb23156_c22_b0_v1.leftnorm.filtered_1.vcf.gz -Oz -o ukb23156_c22_b0_v1.leftnorm.filtered_2_snps.vcf.gz"
   ]
  },
  {
   "cell_type": "code",
   "execution_count": null,
   "metadata": {},
   "outputs": [],
   "source": [
    "bcftools view -g het ukb23156_c22_b0_v1.leftnorm.filtered_2_snps.vcf.gz|  bcftools query -f'%CHROM\\t%POS\\t%REF\\t%ALT\\tAC=%AC\\tAN=%AN\\t[%GT:%AD ]\\n' | grep -v \"^#\" | head"
   ]
  },
  {
   "cell_type": "code",
   "execution_count": 12,
   "metadata": {},
   "outputs": [],
   "source": [
    "#1090 indels\n",
    "bcftools filter -i 'TYPE=\"indel\" & GT=\"het\" & (FORMAT/AD[*:1])/(FORMAT/AD[*:0] + FORMAT/AD[*:1]) >= 0.2' ukb23156_c22_b0_v1.leftnorm.filtered_1.vcf.gz -Oz -o ukb23156_c22_b0_v1.leftnorm.filtered_2_indels.vcf.gz"
   ]
  },
  {
   "cell_type": "code",
   "execution_count": 13,
   "metadata": {},
   "outputs": [],
   "source": [
    "bcftools filter -i 'GT=\"hom\"' ukb23156_c22_b0_v1.leftnorm.filtered_1.vcf.gz -Oz -o ukb23156_c22_b0_v1.leftnorm.filtered_2_hom.vcf.gz"
   ]
  },
  {
   "cell_type": "code",
   "execution_count": 14,
   "metadata": {},
   "outputs": [],
   "source": [
    "#17717\n",
    "bcftools filter -i 'TYPE=\"snp\" & GT=\"het\" & (FORMAT/AD[*:1])/(FORMAT/AD[*:0] + FORMAT/AD[*:1]) >= 0.15 | TYPE=\"indel\" & GT=\"het\" & (FORMAT/AD[*:1])/(FORMAT/AD[*:0] + FORMAT/AD[*:1]) >= 0.2' ukb23156_c22_b0_v1.leftnorm.filtered_1.vcf.gz -Oz -o ukb23156_c22_b0_v1.leftnorm.filtered_2_snp_indels.vcf.gz "
   ]
  },
  {
   "cell_type": "code",
   "execution_count": 16,
   "metadata": {},
   "outputs": [],
   "source": [
    "## Compare vcf files using bcftools\n",
    "\n",
    "bcftools isec -C ukb23156_c22_b0_v1.leftnorm.filtered_1.vcf.gz ukb23156_c22_b0_v1.leftnorm.filtered_2_snp_indels.vcf.gz -p compare_vcf"
   ]
  },
  {
   "cell_type": "markdown",
   "metadata": {},
   "source": [
    "## Filter out monomorphic sites"
   ]
  },
  {
   "cell_type": "markdown",
   "metadata": {},
   "source": [
    "##INFO=<ID=AC,Number=A,Type=Integer,Description=\"Allele count in genotypes\">\n",
    "\n",
    "##INFO=<ID=AN,Number=1,Type=Integer,Description=\"Total number of alleles in called genotypes\">\n",
    "\n",
    "* AC : allele count in genotypes, for each ALT allele, in the same order as listed\n",
    "* AN : total number of alleles in called genotypes\n",
    "* AC=0 means that there are not alternative alleles\n",
    "* AC==AN if these are equal this means that the site is homozygote for reference allele for all samples and therefore monomorphic\n",
    "\n",
    "Example:  three samples with genotypes 0/1, 1/1, 0/0 AC=3 (3 alternative alleles) and AN=6 (6 alleles in total)\n",
    "\n",
    "if you have more than one ALT allele. Let's assume the genotype 0/1, 1/1 and 1/2. AC is now 4,1 (4 times ALT allele 1 and 1 time ALT allele 2) and AN is still 6.\n"
   ]
  },
  {
   "cell_type": "code",
   "execution_count": 71,
   "metadata": {},
   "outputs": [
    {
     "name": "stdout",
     "output_type": "stream",
     "text": [
      "chr3\t43332376\tTAATATGTC\tT\tAC=0\tAN=16\n",
      "chr3\t43332380\tA\tG\tAC=0\tAN=16\n",
      "chr3\t43332382\tG\tA\tAC=0\tAN=16\n",
      "chr3\t43332384\tC\tG\tAC=0\tAN=16\n",
      "chr3\t43340428\tG\tA\tAC=0\tAN=20\n",
      "chr3\t43348535\tC\tCCAGCTGTTGCCATGTCATCTGACTGTGG\tAC=0\tAN=20\n",
      "chr3\t43372724\tC\tT\tAC=0\tAN=14\n",
      "chr3\t43549662\tT\tC\tAC=0\tAN=20\n",
      "chr3\t43576874\tT\tC\tAC=1\tAN=20\n",
      "chr3\t43598764\tA\tG\tAC=0\tAN=8\n"
     ]
    }
   ],
   "source": [
    "bcftools query -f'%CHROM\\t%POS\\t%REF\\t%ALT\\tAC=%AC\\tAN=%AN\\n'  chr3_mwe.subset.snp_filter.vcf.gz | grep -v \"^#\" | head"
   ]
  },
  {
   "cell_type": "code",
   "execution_count": null,
   "metadata": {},
   "outputs": [],
   "source": [
    "bcftools filter -e 'AC==0 || AC==AN' -Oz -o chr3_mwe.subset.no_mono.vcf.gz"
   ]
  },
  {
   "cell_type": "code",
   "execution_count": null,
   "metadata": {},
   "outputs": [],
   "source": [
    "bcftools view -H  chr3_mwe.subset.snp_filter.vcf.gz | less -S"
   ]
  },
  {
   "cell_type": "code",
   "execution_count": null,
   "metadata": {},
   "outputs": [],
   "source": [
    "bcftools query -f'%CHROM\\t%POS\\t%REF\\t%ALT\\tAC=%AC\\tAN=%AN\\n'  chr3_mwe.subset.snp_filter.vcf.gz"
   ]
  },
  {
   "cell_type": "code",
   "execution_count": 73,
   "metadata": {},
   "outputs": [
    {
     "name": "stdout",
     "output_type": "stream",
     "text": [
      "chr3\t43576874\tT\tC\tAC=1\tAN=20\n",
      "chr3\t44830013\tA\tT\tAC=4\tAN=20\n",
      "chr3\t45394357\tA\tT\tAC=1\tAN=8\n"
     ]
    }
   ],
   "source": [
    "bcftools query -f'%CHROM\\t%POS\\t%REF\\t%ALT\\tAC=%AC\\tAN=%AN\\n' chr3_mwe.subset.no_mono.vcf.gz | grep -v \"^#\" | head"
   ]
  },
  {
   "cell_type": "code",
   "execution_count": 15,
   "metadata": {},
   "outputs": [],
   "source": [
    "bcftools filter -e 'FILTER==\".\"' chr3_mwe.subset.snp_filter.vcf.gz -Oz > chr3_mwe.subset.pass.vcf.gz"
   ]
  },
  {
   "cell_type": "code",
   "execution_count": 16,
   "metadata": {},
   "outputs": [
    {
     "name": "stdout",
     "output_type": "stream",
     "text": [
      "chr3\t43340428\tG\tA\tPASS\n",
      "chr3\t43348535\tC\tCCAGCTGTTGCCATGTCATCTGACTGTGG\tPASS\n",
      "chr3\t43549662\tT\tC\tPASS\n",
      "chr3\t43576874\tT\tC\tPASS\n",
      "chr3\t43600513\tA\tG\tPASS\n",
      "chr3\t43605742\tG\tA\tPASS\n",
      "chr3\t43702181\tA\tG\tPASS\n",
      "chr3\t43702569\tC\tT\tPASS\n",
      "chr3\t43702569\tC\tG\tPASS\n",
      "chr3\t43718397\tT\tC\tPASS\n",
      "[main_vcfquery] Error: close failed .. (null)\n"
     ]
    }
   ],
   "source": [
    "bcftools query  -f'%CHROM\\t%POS\\t%REF\\t%ALT\\t%FILTER\\n' chr3_mwe.subset.pass.vcf.gz | head"
   ]
  },
  {
   "cell_type": "markdown",
   "metadata": {
    "kernel": "Bash"
   },
   "source": [
    "## Filter samples"
   ]
  },
  {
   "cell_type": "code",
   "execution_count": null,
   "metadata": {
    "kernel": "Bash"
   },
   "outputs": [],
   "source": [
    "bcftools view --force-samples -o chr3_mwe.subset_10samples.vcf.gz -O z -s 1434748,5523981,5023838,4023729,4442146,5654789,4515669,1129683,5327043,4744741 chr3_mwe.subset.vcf.gz"
   ]
  },
  {
   "cell_type": "markdown",
   "metadata": {
    "kernel": "Bash"
   },
   "source": [
    "## Extract INFO fields"
   ]
  },
  {
   "cell_type": "code",
   "execution_count": null,
   "metadata": {
    "kernel": "Bash"
   },
   "outputs": [],
   "source": [
    "bcftools query -f 'DP=%DP\\tAF1=%AF1\\tAC1=%AC1\\tMQ=%MQ\\n' chr3_mwe.subset.vcf.gz  | head"
   ]
  },
  {
   "cell_type": "markdown",
   "metadata": {},
   "source": [
    "# Run original chr3 block"
   ]
  },
  {
   "cell_type": "markdown",
   "metadata": {},
   "source": [
    "## 1. Left normalize"
   ]
  },
  {
   "cell_type": "code",
   "execution_count": 50,
   "metadata": {},
   "outputs": [],
   "source": [
    "cd /mnt/mfs/statgen/UKBiobank/data/exome_files/project_VCF/plink_files"
   ]
  },
  {
   "cell_type": "code",
   "execution_count": 19,
   "metadata": {},
   "outputs": [],
   "source": [
    "vcf_in=/mnt/mfs/statgen/UKBiobank/data/exome_files/project_VCF/ukb23156_c3_b12_v1.vcf.gz\n",
    "vcf_out=/mnt/mfs/statgen/UKBiobank/data/exome_files/project_VCF/ukb23156_c3_b12_v1.leftnorm.vcf.gz\n",
    "ref_hg38=/home/dmc2245/software/GRCh38_reference_genome/GRCh38_full_analysis_set_plus_decoy_hla.fa"
   ]
  },
  {
   "cell_type": "code",
   "execution_count": null,
   "metadata": {},
   "outputs": [],
   "source": [
    "# check-ref w warns when incorrect or missing REF allele is encountered\n",
    "bcftools norm -m-any $vcf_in  | \\\n",
    " bcftools norm --check-ref w -f $ref_hg38 -Oz | \\\n",
    " bcftools annotate -Oz -x ID -I +'%CHROM:%POS:%REF:%ALT' > $vcf_out"
   ]
  },
  {
   "cell_type": "code",
   "execution_count": 28,
   "metadata": {},
   "outputs": [],
   "source": [
    "bcftools filter  -S . -e '(TYPE=\"SNP\" & FMT/DP<7 & FMT/GQ<20) | (TYPE=\"INDEL\"& FMT/DP<10 & FMT/GQ<20)' ukb23156_c3_b12_v1.leftnorm.vcf.gz -Oz -o ukb23156_c3_b12_v1.filtered_1.vcf.gz"
   ]
  },
  {
   "cell_type": "code",
   "execution_count": 56,
   "metadata": {},
   "outputs": [
    {
     "name": "stdout",
     "output_type": "stream",
     "text": [
      "\n"
     ]
    }
   ],
   "source": [
    "bcftools filter -i 'AC==0' ukb23156_c3_b12_v1.filtered_1.vcf.gz | bcftools query -f'%CHROM\\t%POS\\t%REF\\t%ALT\\tAC=%AC\\tAN=%AN\\n'  | head"
   ]
  },
  {
   "cell_type": "code",
   "execution_count": null,
   "metadata": {},
   "outputs": [],
   "source": []
  },
  {
   "cell_type": "markdown",
   "metadata": {
    "kernel": "Bash"
   },
   "source": [
    "# Fresh start with vcftools"
   ]
  },
  {
   "cell_type": "code",
   "execution_count": 1,
   "metadata": {
    "kernel": "Bash"
   },
   "outputs": [
    {
     "name": "stdout",
     "output_type": "stream",
     "text": [
      "\n"
     ]
    }
   ],
   "source": [
    "module load VCFTOOLS/0.1.17"
   ]
  },
  {
   "cell_type": "code",
   "execution_count": 55,
   "metadata": {
    "kernel": "Bash"
   },
   "outputs": [
    {
     "name": "stdout",
     "output_type": "stream",
     "text": [
      "chr1_MWE.vcf.gz\n",
      "chr1_MWE_filtered.vcf\n",
      "chr1_MWE_filtered_2.vcf\n",
      "chr1_MWE_filtered_3.vcf\n",
      "chr1_b0_v1_filtered.vcf\n",
      "chr1_mwe.subset.vcf.gz\n",
      "chr3_mwe.subset.2leftnorm.vcf.gz\n",
      "chr3_mwe.subset.SNP.filtered.vcf.gz\n",
      "chr3_mwe.subset.annotate_result.vcf.gz\n",
      "chr3_mwe.subset.frq\n",
      "chr3_mwe.subset.het\n",
      "chr3_mwe.subset.idepth\n",
      "chr3_mwe.subset.imiss\n",
      "chr3_mwe.subset.ldepth.mean\n",
      "chr3_mwe.subset.leftnorm.vcf.gz\n",
      "chr3_mwe.subset.lmiss\n",
      "chr3_mwe.subset.log\n",
      "chr3_mwe.subset.lqual\n",
      "chr3_mwe.subset.multiallelicsplit.vcf.gz\n",
      "chr3_mwe.subset.no_mono.vcf.gz\n",
      "chr3_mwe.subset.pass.exclAB0.15_vcf.gz\n",
      "chr3_mwe.subset.pass.exclAB0.20_vcf.gz\n",
      "chr3_mwe.subset.pass.vcf.gz\n",
      "chr3_mwe.subset.sno_filter.vcf.gz\n",
      "chr3_mwe.subset.snp_filter.vcf.gz\n",
      "chr3_mwe.subset.vcf.gz\n",
      "chr3_mwe.subset.vcf.gz.csi\n",
      "chr3_mwe.subset_10.INDEL.filtered.vcf\n",
      "chr3_mwe.subset_10.SNP.filtered.vcf\n",
      "chr3_mwe.subset_10samples.vcf.gz\n",
      "core\n",
      "ukb23156_c1_b0_v1.test.vcf.gz\n",
      "ukb23156_c1_b0_v1.vcf\n",
      "ukb23156_c3_b12_v1.vcf.gz\n"
     ]
    }
   ],
   "source": [
    "cd /mnt/mfs/statgen/UKBiobank/data/exome_files/project_VCF/\n",
    "ls"
   ]
  },
  {
   "cell_type": "markdown",
   "metadata": {
    "kernel": "Bash"
   },
   "source": [
    "### What's the size of the original VCF file?"
   ]
  },
  {
   "cell_type": "code",
   "execution_count": 3,
   "metadata": {
    "kernel": "Bash"
   },
   "outputs": [
    {
     "name": "stdout",
     "output_type": "stream",
     "text": [
      "-rwxr-xr-x 1 dmc2245 hgrcgrid_statgen 7.4G Mar 16 18:17 \u001b[0m\u001b[01;32mukb23156_c3_b12_v1.vcf.gz\u001b[0m\n",
      "\n"
     ]
    }
   ],
   "source": [
    "ls -lh ukb23156_c3_b12_v1.vcf.gz"
   ]
  },
  {
   "cell_type": "code",
   "execution_count": 56,
   "metadata": {
    "kernel": "Bash"
   },
   "outputs": [
    {
     "name": "stdout",
     "output_type": "stream",
     "text": [
      "16896\n"
     ]
    }
   ],
   "source": [
    "bcftools view -H ukb23156_c3_b12_v1.vcf.gz | wc -l"
   ]
  },
  {
   "cell_type": "markdown",
   "metadata": {
    "kernel": "Bash"
   },
   "source": [
    "### What's the size of the MWE vcf file?"
   ]
  },
  {
   "cell_type": "code",
   "execution_count": 4,
   "metadata": {
    "kernel": "Bash"
   },
   "outputs": [
    {
     "name": "stdout",
     "output_type": "stream",
     "text": [
      "-rw-r--r-- 1 dmc2245 hgrcgrid_statgen 1.1G Mar 17 00:05 \u001b[0m\u001b[01;31mchr3_mwe.subset.vcf.gz\u001b[0m\n",
      "\n"
     ]
    }
   ],
   "source": [
    "ls -lh chr3_mwe.subset.vcf.gz"
   ]
  },
  {
   "cell_type": "markdown",
   "metadata": {
    "kernel": "Bash"
   },
   "source": [
    "### Randomly subsample the VCF to create MWE"
   ]
  },
  {
   "cell_type": "code",
   "execution_count": null,
   "metadata": {
    "kernel": "Bash"
   },
   "outputs": [],
   "source": [
    "bcftools view ukb23156_c3_b12_v1.vcf.gz| vcfrandomsample -r 0.012 > chr3_mwe.subset.vcf"
   ]
  },
  {
   "cell_type": "markdown",
   "metadata": {
    "kernel": "Bash"
   },
   "source": [
    "### How many unfiltered variants do we have?"
   ]
  },
  {
   "cell_type": "code",
   "execution_count": 10,
   "metadata": {
    "kernel": "Bash"
   },
   "outputs": [
    {
     "name": "stdout",
     "output_type": "stream",
     "text": [
      "193\n",
      "\n"
     ]
    }
   ],
   "source": [
    "bcftools view -H chr3_mwe.subset.vcf.gz | wc -l"
   ]
  },
  {
   "cell_type": "markdown",
   "metadata": {
    "kernel": "Bash"
   },
   "source": [
    "### Compress and index VCF"
   ]
  },
  {
   "cell_type": "code",
   "execution_count": 8,
   "metadata": {
    "kernel": "Bash"
   },
   "outputs": [
    {
     "name": "stdout",
     "output_type": "stream",
     "text": [
      "\n"
     ]
    }
   ],
   "source": [
    "# compress vcf\n",
    "bgzip chr3_mwe.subset.vcf\n",
    "# index vcf\n",
    "bcftools index chr3_mwe.subset.vcf.gz"
   ]
  },
  {
   "cell_type": "markdown",
   "metadata": {
    "kernel": "Bash"
   },
   "source": [
    "### How to set filters on a dataset?\n",
    "1. Calculate statistics on the VCF files.\n",
    "2. Set filtering thresholds based on results.\n",
    "\n",
    "**Depth:** (DP bigger than twice the average depth indicates problematic regions and is often enriched for artefacts)\n",
    "\n",
    "You should always include a minimum depth filter and ideally also a maximum depth one too. Minimum depth cutoffs will remove false positive calls and will ensure higher quality calls too. A maximum cut off is important because regions with very, very high read depths are likely repetitive ones mapping to multiple parts of the genome\n",
    "\n",
    "**Quality:** \n",
    "\n",
    "Genotype quality is also an important filter - essentially you should not trust any genotype with a Phred score below 20 which suggests a less than 99% accuracy\n",
    "\n",
    "**Minor allele frequency** \n",
    "\n",
    "MAF can cause big problems with SNP calls - and also inflate statistical estimates downstream. Ideally you want an idea of the distribution of your allelic frequencies but 0.05 to 0.10 is a reasonable cut-off. \n",
    "\n",
    "**Missing data**\n",
    "\n",
    "How much missing data are you willing to tolerate? It will depend on the study but typically any site with >25% missing data should be dropped.\n",
    "\n",
    "**Allelic Balance**\n",
    "\n",
    "The proportion of reads covering a variant's location that support the variant. For example, if a variant's location is covered by 100 reads, of which 25 support the variant and 75 do not, then the variant would have an allelic balance of 25/100 = 0.25\n",
    "\n",
    "**Transition/Transversion ratio**"
   ]
  },
  {
   "cell_type": "code",
   "execution_count": 11,
   "metadata": {
    "kernel": "Bash"
   },
   "outputs": [
    {
     "name": "stdout",
     "output_type": "stream",
     "text": [
      "\n"
     ]
    }
   ],
   "source": [
    "SUBSET_VCF=/mnt/mfs/statgen/UKBiobank/data/exome_files/project_VCF/chr3_mwe.subset.vcf.gz\n",
    "OUT=/mnt/mfs/statgen/UKBiobank/data/exome_files/project_VCF/chr3_mwe.subset"
   ]
  },
  {
   "cell_type": "markdown",
   "metadata": {
    "kernel": "Bash"
   },
   "source": [
    "## 1. Calculate allele frequency"
   ]
  },
  {
   "cell_type": "code",
   "execution_count": 12,
   "metadata": {
    "kernel": "Bash"
   },
   "outputs": [
    {
     "name": "stdout",
     "output_type": "stream",
     "text": [
      "\n",
      "VCFtools - 0.1.17\n",
      "(C) Adam Auton and Anthony Marcketta 2009\n",
      "\n",
      "Parameters as interpreted:\n",
      "\t--gzvcf /mnt/mfs/statgen/UKBiobank/data/exome_files/project_VCF/chr3_mwe.subset.vcf.gz\n",
      "\t--max-alleles 2\n",
      "\t--freq2\n",
      "\t--out /mnt/mfs/statgen/UKBiobank/data/exome_files/project_VCF/chr3_mwe.subset\n",
      "\n",
      "Using zlib version: 1.2.8\n",
      "Warning: Expected at least 2 parts in FORMAT entry: ID=RNC,Number=2,Type=Character,Description=\"Reason for No Call in GT: . = n/a, M = Missing data, P = Partial data, I = gVCF input site is non-called, D = insufficient Depth of coverage, - = unrepresentable overlapping deletion, L = Lost/unrepresentable allele (other than deletion), U = multiple Unphased variants present, O = multiple Overlapping variants present, 1 = site is Monoallelic, no assertion about presence of REF or ALT allele\">\n",
      "After filtering, kept 200643 out of 200643 Individuals\n",
      "Outputting Frequency Statistics...\n",
      "After filtering, kept 176 out of a possible 193 Sites\n",
      "Run Time = 6.00 seconds\n",
      "\n"
     ]
    }
   ],
   "source": [
    "vcftools --gzvcf $SUBSET_VCF --freq2 --out $OUT --max-alleles 2"
   ]
  },
  {
   "cell_type": "markdown",
   "metadata": {
    "kernel": "Bash"
   },
   "source": [
    "## 2. Calculate mean depth per individual"
   ]
  },
  {
   "cell_type": "code",
   "execution_count": 14,
   "metadata": {
    "kernel": "Bash"
   },
   "outputs": [
    {
     "name": "stdout",
     "output_type": "stream",
     "text": [
      "\n",
      "VCFtools - 0.1.17\n",
      "(C) Adam Auton and Anthony Marcketta 2009\n",
      "\n",
      "Parameters as interpreted:\n",
      "\t--gzvcf /mnt/mfs/statgen/UKBiobank/data/exome_files/project_VCF/chr3_mwe.subset.vcf.gz\n",
      "\t--depth\n",
      "\t--out /mnt/mfs/statgen/UKBiobank/data/exome_files/project_VCF/chr3_mwe.subset\n",
      "\n",
      "Using zlib version: 1.2.8\n",
      "Warning: Expected at least 2 parts in FORMAT entry: ID=RNC,Number=2,Type=Character,Description=\"Reason for No Call in GT: . = n/a, M = Missing data, P = Partial data, I = gVCF input site is non-called, D = insufficient Depth of coverage, - = unrepresentable overlapping deletion, L = Lost/unrepresentable allele (other than deletion), U = multiple Unphased variants present, O = multiple Overlapping variants present, 1 = site is Monoallelic, no assertion about presence of REF or ALT allele\">\n",
      "After filtering, kept 200643 out of 200643 Individuals\n",
      "Outputting Mean Depth by Individual\n",
      "After filtering, kept 193 out of a possible 193 Sites\n",
      "Run Time = 12.00 seconds\n",
      "\n"
     ]
    }
   ],
   "source": [
    "vcftools --gzvcf $SUBSET_VCF --depth --out $OUT"
   ]
  },
  {
   "cell_type": "markdown",
   "metadata": {
    "kernel": "Bash"
   },
   "source": [
    "## 3. Calculate mean depth per site"
   ]
  },
  {
   "cell_type": "code",
   "execution_count": 15,
   "metadata": {
    "kernel": "Bash"
   },
   "outputs": [
    {
     "name": "stdout",
     "output_type": "stream",
     "text": [
      "\n",
      "VCFtools - 0.1.17\n",
      "(C) Adam Auton and Anthony Marcketta 2009\n",
      "\n",
      "Parameters as interpreted:\n",
      "\t--gzvcf /mnt/mfs/statgen/UKBiobank/data/exome_files/project_VCF/chr3_mwe.subset.vcf.gz\n",
      "\t--out /mnt/mfs/statgen/UKBiobank/data/exome_files/project_VCF/chr3_mwe.subset\n",
      "\t--site-mean-depth\n",
      "\n",
      "Using zlib version: 1.2.8\n",
      "Warning: Expected at least 2 parts in FORMAT entry: ID=RNC,Number=2,Type=Character,Description=\"Reason for No Call in GT: . = n/a, M = Missing data, P = Partial data, I = gVCF input site is non-called, D = insufficient Depth of coverage, - = unrepresentable overlapping deletion, L = Lost/unrepresentable allele (other than deletion), U = multiple Unphased variants present, O = multiple Overlapping variants present, 1 = site is Monoallelic, no assertion about presence of REF or ALT allele\">\n",
      "After filtering, kept 200643 out of 200643 Individuals\n",
      "Outputting Depth for Each Site\n",
      "After filtering, kept 193 out of a possible 193 Sites\n",
      "Run Time = 8.00 seconds\n",
      "\n"
     ]
    }
   ],
   "source": [
    "vcftools --gzvcf $SUBSET_VCF --site-mean-depth --out $OUT"
   ]
  },
  {
   "cell_type": "markdown",
   "metadata": {
    "kernel": "Bash"
   },
   "source": [
    "## 4. Calculate site quality"
   ]
  },
  {
   "cell_type": "code",
   "execution_count": 16,
   "metadata": {
    "kernel": "Bash"
   },
   "outputs": [
    {
     "name": "stdout",
     "output_type": "stream",
     "text": [
      "\n",
      "VCFtools - 0.1.17\n",
      "(C) Adam Auton and Anthony Marcketta 2009\n",
      "\n",
      "Parameters as interpreted:\n",
      "\t--gzvcf /mnt/mfs/statgen/UKBiobank/data/exome_files/project_VCF/chr3_mwe.subset.vcf.gz\n",
      "\t--out /mnt/mfs/statgen/UKBiobank/data/exome_files/project_VCF/chr3_mwe.subset\n",
      "\t--site-quality\n",
      "\n",
      "Using zlib version: 1.2.8\n",
      "Warning: Expected at least 2 parts in FORMAT entry: ID=RNC,Number=2,Type=Character,Description=\"Reason for No Call in GT: . = n/a, M = Missing data, P = Partial data, I = gVCF input site is non-called, D = insufficient Depth of coverage, - = unrepresentable overlapping deletion, L = Lost/unrepresentable allele (other than deletion), U = multiple Unphased variants present, O = multiple Overlapping variants present, 1 = site is Monoallelic, no assertion about presence of REF or ALT allele\">\n",
      "After filtering, kept 200643 out of 200643 Individuals\n",
      "Outputting Quality for Each Site\n",
      "After filtering, kept 193 out of a possible 193 Sites\n",
      "Run Time = 3.00 seconds\n",
      "\n"
     ]
    }
   ],
   "source": [
    "vcftools --gzvcf $SUBSET_VCF --site-quality --out $OUT"
   ]
  },
  {
   "cell_type": "markdown",
   "metadata": {
    "kernel": "Bash"
   },
   "source": [
    "## 5. Calculate proportion of missing data per individuals"
   ]
  },
  {
   "cell_type": "code",
   "execution_count": 17,
   "metadata": {
    "kernel": "Bash"
   },
   "outputs": [
    {
     "name": "stdout",
     "output_type": "stream",
     "text": [
      "\n",
      "VCFtools - 0.1.17\n",
      "(C) Adam Auton and Anthony Marcketta 2009\n",
      "\n",
      "Parameters as interpreted:\n",
      "\t--gzvcf /mnt/mfs/statgen/UKBiobank/data/exome_files/project_VCF/chr3_mwe.subset.vcf.gz\n",
      "\t--missing-indv\n",
      "\t--out /mnt/mfs/statgen/UKBiobank/data/exome_files/project_VCF/chr3_mwe.subset\n",
      "\n",
      "Using zlib version: 1.2.8\n",
      "Warning: Expected at least 2 parts in FORMAT entry: ID=RNC,Number=2,Type=Character,Description=\"Reason for No Call in GT: . = n/a, M = Missing data, P = Partial data, I = gVCF input site is non-called, D = insufficient Depth of coverage, - = unrepresentable overlapping deletion, L = Lost/unrepresentable allele (other than deletion), U = multiple Unphased variants present, O = multiple Overlapping variants present, 1 = site is Monoallelic, no assertion about presence of REF or ALT allele\">\n",
      "After filtering, kept 200643 out of 200643 Individuals\n",
      "Outputting Individual Missingness\n",
      "After filtering, kept 193 out of a possible 193 Sites\n",
      "Run Time = 11.00 seconds\n",
      "\n"
     ]
    }
   ],
   "source": [
    "vcftools --gzvcf $SUBSET_VCF --missing-indv --out $OUT"
   ]
  },
  {
   "cell_type": "markdown",
   "metadata": {
    "kernel": "Bash"
   },
   "source": [
    "## 6. Calculate proportion of missing data per site"
   ]
  },
  {
   "cell_type": "code",
   "execution_count": 18,
   "metadata": {
    "kernel": "Bash"
   },
   "outputs": [
    {
     "name": "stdout",
     "output_type": "stream",
     "text": [
      "\n",
      "VCFtools - 0.1.17\n",
      "(C) Adam Auton and Anthony Marcketta 2009\n",
      "\n",
      "Parameters as interpreted:\n",
      "\t--gzvcf /mnt/mfs/statgen/UKBiobank/data/exome_files/project_VCF/chr3_mwe.subset.vcf.gz\n",
      "\t--out /mnt/mfs/statgen/UKBiobank/data/exome_files/project_VCF/chr3_mwe.subset\n",
      "\t--missing-site\n",
      "\n",
      "Using zlib version: 1.2.8\n",
      "Warning: Expected at least 2 parts in FORMAT entry: ID=RNC,Number=2,Type=Character,Description=\"Reason for No Call in GT: . = n/a, M = Missing data, P = Partial data, I = gVCF input site is non-called, D = insufficient Depth of coverage, - = unrepresentable overlapping deletion, L = Lost/unrepresentable allele (other than deletion), U = multiple Unphased variants present, O = multiple Overlapping variants present, 1 = site is Monoallelic, no assertion about presence of REF or ALT allele\">\n",
      "After filtering, kept 200643 out of 200643 Individuals\n",
      "Outputting Site Missingness\n",
      "After filtering, kept 193 out of a possible 193 Sites\n",
      "Run Time = 7.00 seconds\n",
      "\n"
     ]
    }
   ],
   "source": [
    "vcftools --gzvcf $SUBSET_VCF --missing-site --out $OUT"
   ]
  },
  {
   "cell_type": "markdown",
   "metadata": {
    "kernel": "Bash"
   },
   "source": [
    "## 7. Calculate heterozygosity and inbreeding coefficient per individual"
   ]
  },
  {
   "cell_type": "code",
   "execution_count": 19,
   "metadata": {
    "kernel": "Bash"
   },
   "outputs": [
    {
     "name": "stdout",
     "output_type": "stream",
     "text": [
      "\n",
      "VCFtools - 0.1.17\n",
      "(C) Adam Auton and Anthony Marcketta 2009\n",
      "\n",
      "Parameters as interpreted:\n",
      "\t--gzvcf /mnt/mfs/statgen/UKBiobank/data/exome_files/project_VCF/chr3_mwe.subset.vcf.gz\n",
      "\t--het\n",
      "\t--out /mnt/mfs/statgen/UKBiobank/data/exome_files/project_VCF/chr3_mwe.subset\n",
      "\n",
      "Using zlib version: 1.2.8\n",
      "Warning: Expected at least 2 parts in FORMAT entry: ID=RNC,Number=2,Type=Character,Description=\"Reason for No Call in GT: . = n/a, M = Missing data, P = Partial data, I = gVCF input site is non-called, D = insufficient Depth of coverage, - = unrepresentable overlapping deletion, L = Lost/unrepresentable allele (other than deletion), U = multiple Unphased variants present, O = multiple Overlapping variants present, 1 = site is Monoallelic, no assertion about presence of REF or ALT allele\">\n",
      "After filtering, kept 200643 out of 200643 Individuals\n",
      "Outputting Individual Heterozygosity\n",
      "\tIndividual Heterozygosity: Only using biallelic SNPs.\n",
      "After filtering, kept 193 out of a possible 193 Sites\n",
      "Run Time = 11.00 seconds\n",
      "\n"
     ]
    }
   ],
   "source": [
    "vcftools --gzvcf $SUBSET_VCF --het --out $OUT"
   ]
  },
  {
   "cell_type": "markdown",
   "metadata": {
    "kernel": "Bash"
   },
   "source": [
    "# Plot Statistics using R"
   ]
  },
  {
   "cell_type": "markdown",
   "metadata": {
    "kernel": "Bash"
   },
   "source": [
    "## Variant based statistics (quality, depth, missingness and allele frequency)"
   ]
  },
  {
   "cell_type": "code",
   "execution_count": 2,
   "metadata": {
    "kernel": "R"
   },
   "outputs": [
    {
     "data": {
      "text/html": [
       "'/Users/dianacornejo/UKBB_projects/hearing_impairment/RESULTS/Exomes_UKBB/pVCF_filtering'"
      ],
      "text/latex": [
       "'/Users/dianacornejo/UKBB\\_projects/hearing\\_impairment/RESULTS/Exomes\\_UKBB/pVCF\\_filtering'"
      ],
      "text/markdown": [
       "'/Users/dianacornejo/UKBB_projects/hearing_impairment/RESULTS/Exomes_UKBB/pVCF_filtering'"
      ],
      "text/plain": [
       "[1] \"/Users/dianacornejo/UKBB_projects/hearing_impairment/RESULTS/Exomes_UKBB/pVCF_filtering\""
      ]
     },
     "metadata": {},
     "output_type": "display_data"
    }
   ],
   "source": [
    "getwd()"
   ]
  },
  {
   "cell_type": "code",
   "execution_count": 1,
   "metadata": {
    "kernel": "R"
   },
   "outputs": [],
   "source": [
    "setwd(\"/Users/dianacornejo/UKBB_projects/hearing_impairment/RESULTS/Exomes_UKBB/pVCF_filtering\")"
   ]
  },
  {
   "cell_type": "code",
   "execution_count": 6,
   "metadata": {
    "kernel": "R"
   },
   "outputs": [],
   "source": [
    "library(tidyverse)\n",
    "library(ggplot2)"
   ]
  },
  {
   "cell_type": "markdown",
   "metadata": {
    "kernel": "SoS",
    "tags": []
   },
   "source": [
    "### Variant Quality\n",
    "\n",
    "It is in PHRED scale (e.g 30 means 1 in 1000 of a wrong call)"
   ]
  },
  {
   "cell_type": "code",
   "execution_count": 8,
   "metadata": {
    "kernel": "R"
   },
   "outputs": [
    {
     "name": "stderr",
     "output_type": "stream",
     "text": [
      "Parsed with column specification:\n",
      "cols(\n",
      "  chr = \u001b[31mcol_character()\u001b[39m,\n",
      "  pos = \u001b[32mcol_double()\u001b[39m,\n",
      "  qual = \u001b[32mcol_double()\u001b[39m\n",
      ")\n",
      "\n"
     ]
    },
    {
     "data": {
      "text/html": [
       "<table>\n",
       "<caption>A tibble: 6 × 3</caption>\n",
       "<thead>\n",
       "\t<tr><th scope=col>chr</th><th scope=col>pos</th><th scope=col>qual</th></tr>\n",
       "\t<tr><th scope=col>&lt;chr&gt;</th><th scope=col>&lt;dbl&gt;</th><th scope=col>&lt;dbl&gt;</th></tr>\n",
       "</thead>\n",
       "<tbody>\n",
       "\t<tr><td>chr3</td><td>43332376</td><td>48</td></tr>\n",
       "\t<tr><td>chr3</td><td>43340428</td><td>52</td></tr>\n",
       "\t<tr><td>chr3</td><td>43348535</td><td>40</td></tr>\n",
       "\t<tr><td>chr3</td><td>43372724</td><td>49</td></tr>\n",
       "\t<tr><td>chr3</td><td>43549662</td><td>42</td></tr>\n",
       "\t<tr><td>chr3</td><td>43576874</td><td>58</td></tr>\n",
       "</tbody>\n",
       "</table>\n"
      ],
      "text/latex": [
       "A tibble: 6 × 3\n",
       "\\begin{tabular}{lll}\n",
       " chr & pos & qual\\\\\n",
       " <chr> & <dbl> & <dbl>\\\\\n",
       "\\hline\n",
       "\t chr3 & 43332376 & 48\\\\\n",
       "\t chr3 & 43340428 & 52\\\\\n",
       "\t chr3 & 43348535 & 40\\\\\n",
       "\t chr3 & 43372724 & 49\\\\\n",
       "\t chr3 & 43549662 & 42\\\\\n",
       "\t chr3 & 43576874 & 58\\\\\n",
       "\\end{tabular}\n"
      ],
      "text/markdown": [
       "\n",
       "A tibble: 6 × 3\n",
       "\n",
       "| chr &lt;chr&gt; | pos &lt;dbl&gt; | qual &lt;dbl&gt; |\n",
       "|---|---|---|\n",
       "| chr3 | 43332376 | 48 |\n",
       "| chr3 | 43340428 | 52 |\n",
       "| chr3 | 43348535 | 40 |\n",
       "| chr3 | 43372724 | 49 |\n",
       "| chr3 | 43549662 | 42 |\n",
       "| chr3 | 43576874 | 58 |\n",
       "\n"
      ],
      "text/plain": [
       "  chr  pos      qual\n",
       "1 chr3 43332376 48  \n",
       "2 chr3 43340428 52  \n",
       "3 chr3 43348535 40  \n",
       "4 chr3 43372724 49  \n",
       "5 chr3 43549662 42  \n",
       "6 chr3 43576874 58  "
      ]
     },
     "metadata": {},
     "output_type": "display_data"
    }
   ],
   "source": [
    "var_qual <- read_delim(\"./chr3_mwe.subset.lqual\", delim = \"\\t\",col_names = c(\"chr\", \"pos\", \"qual\"), skip = 1)\n",
    "head(var_qual)"
   ]
  },
  {
   "cell_type": "code",
   "execution_count": 7,
   "metadata": {
    "kernel": "R"
   },
   "outputs": [
    {
     "data": {
      "image/png": "[encoded data removed]",
      "text/plain": [
       "plot without title"
      ]
     },
     "metadata": {
      "image/png": {
       "height": 420,
       "width": 420
      }
     },
     "output_type": "display_data"
    }
   ],
   "source": [
    "a <- ggplot(var_qual, aes(qual)) + geom_density(fill = \"dodgerblue1\", colour = \"black\", alpha = 0.3)\n",
    "a + theme_light()"
   ]
  },
  {
   "cell_type": "markdown",
   "metadata": {
    "kernel": "R"
   },
   "source": [
    "### Variant mean depth\n",
    "\n",
    "The number of reads that have mapped to this position.\n",
    "\n",
    "For vcftools is the mean of the read depth across all individuals - it is for both alleles at a position and is not partitioned between the reference and the alternative"
   ]
  },
  {
   "cell_type": "code",
   "execution_count": 13,
   "metadata": {
    "kernel": "R",
    "scrolled": true,
    "tags": []
   },
   "outputs": [
    {
     "name": "stderr",
     "output_type": "stream",
     "text": [
      "Parsed with column specification:\n",
      "cols(\n",
      "  chr = \u001b[31mcol_character()\u001b[39m,\n",
      "  pos = \u001b[32mcol_double()\u001b[39m,\n",
      "  mean_depth = \u001b[32mcol_double()\u001b[39m,\n",
      "  var_depth = \u001b[32mcol_double()\u001b[39m\n",
      ")\n",
      "\n"
     ]
    },
    {
     "data": {
      "text/html": [
       "<table>\n",
       "<caption>A tibble: 6 × 4</caption>\n",
       "<thead>\n",
       "\t<tr><th scope=col>chr</th><th scope=col>pos</th><th scope=col>mean_depth</th><th scope=col>var_depth</th></tr>\n",
       "\t<tr><th scope=col>&lt;chr&gt;</th><th scope=col>&lt;dbl&gt;</th><th scope=col>&lt;dbl&gt;</th><th scope=col>&lt;dbl&gt;</th></tr>\n",
       "</thead>\n",
       "<tbody>\n",
       "\t<tr><td>chr3</td><td>43332376</td><td>11.67810</td><td>13.70610</td></tr>\n",
       "\t<tr><td>chr3</td><td>43340428</td><td>17.04030</td><td> 5.32337</td></tr>\n",
       "\t<tr><td>chr3</td><td>43348535</td><td>20.58050</td><td>30.12370</td></tr>\n",
       "\t<tr><td>chr3</td><td>43372724</td><td> 7.30615</td><td>10.34920</td></tr>\n",
       "\t<tr><td>chr3</td><td>43549662</td><td>16.89340</td><td>12.24950</td></tr>\n",
       "\t<tr><td>chr3</td><td>43576874</td><td>18.34340</td><td>51.38570</td></tr>\n",
       "</tbody>\n",
       "</table>\n"
      ],
      "text/latex": [
       "A tibble: 6 × 4\n",
       "\\begin{tabular}{llll}\n",
       " chr & pos & mean\\_depth & var\\_depth\\\\\n",
       " <chr> & <dbl> & <dbl> & <dbl>\\\\\n",
       "\\hline\n",
       "\t chr3 & 43332376 & 11.67810 & 13.70610\\\\\n",
       "\t chr3 & 43340428 & 17.04030 &  5.32337\\\\\n",
       "\t chr3 & 43348535 & 20.58050 & 30.12370\\\\\n",
       "\t chr3 & 43372724 &  7.30615 & 10.34920\\\\\n",
       "\t chr3 & 43549662 & 16.89340 & 12.24950\\\\\n",
       "\t chr3 & 43576874 & 18.34340 & 51.38570\\\\\n",
       "\\end{tabular}\n"
      ],
      "text/markdown": [
       "\n",
       "A tibble: 6 × 4\n",
       "\n",
       "| chr &lt;chr&gt; | pos &lt;dbl&gt; | mean_depth &lt;dbl&gt; | var_depth &lt;dbl&gt; |\n",
       "|---|---|---|---|\n",
       "| chr3 | 43332376 | 11.67810 | 13.70610 |\n",
       "| chr3 | 43340428 | 17.04030 |  5.32337 |\n",
       "| chr3 | 43348535 | 20.58050 | 30.12370 |\n",
       "| chr3 | 43372724 |  7.30615 | 10.34920 |\n",
       "| chr3 | 43549662 | 16.89340 | 12.24950 |\n",
       "| chr3 | 43576874 | 18.34340 | 51.38570 |\n",
       "\n"
      ],
      "text/plain": [
       "  chr  pos      mean_depth var_depth\n",
       "1 chr3 43332376 11.67810   13.70610 \n",
       "2 chr3 43340428 17.04030    5.32337 \n",
       "3 chr3 43348535 20.58050   30.12370 \n",
       "4 chr3 43372724  7.30615   10.34920 \n",
       "5 chr3 43549662 16.89340   12.24950 \n",
       "6 chr3 43576874 18.34340   51.38570 "
      ]
     },
     "metadata": {},
     "output_type": "display_data"
    }
   ],
   "source": [
    "var_depth <- read_delim(\"./chr3_mwe.subset.ldepth.mean\", delim = \"\\t\",\n",
    "           col_names = c(\"chr\", \"pos\", \"mean_depth\", \"var_depth\"), skip = 1)\n",
    "head(var_depth)"
   ]
  },
  {
   "cell_type": "code",
   "execution_count": 12,
   "metadata": {
    "kernel": "R"
   },
   "outputs": [
    {
     "data": {
      "image/png": "[encoded data removed]",
      "text/plain": [
       "plot without title"
      ]
     },
     "metadata": {
      "image/png": {
       "height": 420,
       "width": 420
      }
     },
     "output_type": "display_data"
    }
   ],
   "source": [
    "a <- ggplot(var_depth, aes(mean_depth)) + geom_density(fill = \"dodgerblue1\", colour = \"black\", alpha = 0.3)\n",
    "a + theme_light()"
   ]
  },
  {
   "cell_type": "code",
   "execution_count": 14,
   "metadata": {
    "kernel": "R"
   },
   "outputs": [
    {
     "data": {
      "text/plain": [
       "   Min. 1st Qu.  Median    Mean 3rd Qu.    Max. \n",
       "  3.716  16.785  18.157  20.429  21.122  63.626 "
      ]
     },
     "metadata": {},
     "output_type": "display_data"
    }
   ],
   "source": [
    "summary(var_depth$mean_depth)"
   ]
  },
  {
   "cell_type": "markdown",
   "metadata": {
    "kernel": "R"
   },
   "source": [
    "### Variant missingness\n",
    "\n",
    "How many individuals lack a genotype at a call site"
   ]
  },
  {
   "cell_type": "code",
   "execution_count": 17,
   "metadata": {
    "kernel": "R"
   },
   "outputs": [
    {
     "name": "stderr",
     "output_type": "stream",
     "text": [
      "Parsed with column specification:\n",
      "cols(\n",
      "  chr = \u001b[31mcol_character()\u001b[39m,\n",
      "  pos = \u001b[32mcol_double()\u001b[39m,\n",
      "  nchr = \u001b[32mcol_double()\u001b[39m,\n",
      "  nfiltered = \u001b[32mcol_double()\u001b[39m,\n",
      "  nmiss = \u001b[32mcol_double()\u001b[39m,\n",
      "  fmiss = \u001b[32mcol_double()\u001b[39m\n",
      ")\n",
      "\n"
     ]
    },
    {
     "data": {
      "text/html": [
       "<table>\n",
       "<caption>A tibble: 6 × 6</caption>\n",
       "<thead>\n",
       "\t<tr><th scope=col>chr</th><th scope=col>pos</th><th scope=col>nchr</th><th scope=col>nfiltered</th><th scope=col>nmiss</th><th scope=col>fmiss</th></tr>\n",
       "\t<tr><th scope=col>&lt;chr&gt;</th><th scope=col>&lt;dbl&gt;</th><th scope=col>&lt;dbl&gt;</th><th scope=col>&lt;dbl&gt;</th><th scope=col>&lt;dbl&gt;</th><th scope=col>&lt;dbl&gt;</th></tr>\n",
       "</thead>\n",
       "<tbody>\n",
       "\t<tr><td>chr3</td><td>43332376</td><td>401286</td><td>0</td><td>5100</td><td>0.012709100</td></tr>\n",
       "\t<tr><td>chr3</td><td>43340428</td><td>401286</td><td>0</td><td>   0</td><td>0.000000000</td></tr>\n",
       "\t<tr><td>chr3</td><td>43348535</td><td>401286</td><td>0</td><td>   0</td><td>0.000000000</td></tr>\n",
       "\t<tr><td>chr3</td><td>43372724</td><td>401286</td><td>0</td><td>1986</td><td>0.004949090</td></tr>\n",
       "\t<tr><td>chr3</td><td>43549662</td><td>401286</td><td>0</td><td> 182</td><td>0.000453542</td></tr>\n",
       "\t<tr><td>chr3</td><td>43576874</td><td>401286</td><td>0</td><td>   0</td><td>0.000000000</td></tr>\n",
       "</tbody>\n",
       "</table>\n"
      ],
      "text/latex": [
       "A tibble: 6 × 6\n",
       "\\begin{tabular}{llllll}\n",
       " chr & pos & nchr & nfiltered & nmiss & fmiss\\\\\n",
       " <chr> & <dbl> & <dbl> & <dbl> & <dbl> & <dbl>\\\\\n",
       "\\hline\n",
       "\t chr3 & 43332376 & 401286 & 0 & 5100 & 0.012709100\\\\\n",
       "\t chr3 & 43340428 & 401286 & 0 &    0 & 0.000000000\\\\\n",
       "\t chr3 & 43348535 & 401286 & 0 &    0 & 0.000000000\\\\\n",
       "\t chr3 & 43372724 & 401286 & 0 & 1986 & 0.004949090\\\\\n",
       "\t chr3 & 43549662 & 401286 & 0 &  182 & 0.000453542\\\\\n",
       "\t chr3 & 43576874 & 401286 & 0 &    0 & 0.000000000\\\\\n",
       "\\end{tabular}\n"
      ],
      "text/markdown": [
       "\n",
       "A tibble: 6 × 6\n",
       "\n",
       "| chr &lt;chr&gt; | pos &lt;dbl&gt; | nchr &lt;dbl&gt; | nfiltered &lt;dbl&gt; | nmiss &lt;dbl&gt; | fmiss &lt;dbl&gt; |\n",
       "|---|---|---|---|---|---|\n",
       "| chr3 | 43332376 | 401286 | 0 | 5100 | 0.012709100 |\n",
       "| chr3 | 43340428 | 401286 | 0 |    0 | 0.000000000 |\n",
       "| chr3 | 43348535 | 401286 | 0 |    0 | 0.000000000 |\n",
       "| chr3 | 43372724 | 401286 | 0 | 1986 | 0.004949090 |\n",
       "| chr3 | 43549662 | 401286 | 0 |  182 | 0.000453542 |\n",
       "| chr3 | 43576874 | 401286 | 0 |    0 | 0.000000000 |\n",
       "\n"
      ],
      "text/plain": [
       "  chr  pos      nchr   nfiltered nmiss fmiss      \n",
       "1 chr3 43332376 401286 0         5100  0.012709100\n",
       "2 chr3 43340428 401286 0            0  0.000000000\n",
       "3 chr3 43348535 401286 0            0  0.000000000\n",
       "4 chr3 43372724 401286 0         1986  0.004949090\n",
       "5 chr3 43549662 401286 0          182  0.000453542\n",
       "6 chr3 43576874 401286 0            0  0.000000000"
      ]
     },
     "metadata": {},
     "output_type": "display_data"
    }
   ],
   "source": [
    "var_miss <- read_delim(\"./chr3_mwe.subset.lmiss\", delim = \"\\t\",\n",
    "                       col_names = c(\"chr\", \"pos\", \"nchr\", \"nfiltered\", \"nmiss\", \"fmiss\"), skip = 1)\n",
    "head(var_miss)"
   ]
  },
  {
   "cell_type": "code",
   "execution_count": 18,
   "metadata": {
    "kernel": "R"
   },
   "outputs": [
    {
     "data": {
      "image/png": "[encoded data removed]",
      "text/plain": [
       "plot without title"
      ]
     },
     "metadata": {
      "image/png": {
       "height": 420,
       "width": 420
      }
     },
     "output_type": "display_data"
    }
   ],
   "source": [
    "a <- ggplot(var_miss, aes(fmiss)) + geom_density(fill = \"dodgerblue1\", colour = \"black\", alpha = 0.3)\n",
    "a + theme_light()"
   ]
  },
  {
   "cell_type": "code",
   "execution_count": 19,
   "metadata": {
    "kernel": "R"
   },
   "outputs": [
    {
     "data": {
      "text/plain": [
       "     Min.   1st Qu.    Median      Mean   3rd Qu.      Max. \n",
       "0.000e+00 0.000e+00 9.970e-06 1.692e-03 3.638e-04 1.510e-01 "
      ]
     },
     "metadata": {},
     "output_type": "display_data"
    }
   ],
   "source": [
    "summary(var_miss$fmiss)"
   ]
  },
  {
   "cell_type": "markdown",
   "metadata": {
    "kernel": "R"
   },
   "source": [
    "### Minor allele frequency"
   ]
  },
  {
   "cell_type": "code",
   "execution_count": 21,
   "metadata": {
    "kernel": "R"
   },
   "outputs": [
    {
     "name": "stderr",
     "output_type": "stream",
     "text": [
      "Parsed with column specification:\n",
      "cols(\n",
      "  chr = \u001b[31mcol_character()\u001b[39m,\n",
      "  pos = \u001b[32mcol_double()\u001b[39m,\n",
      "  nalleles = \u001b[32mcol_double()\u001b[39m,\n",
      "  nchr = \u001b[32mcol_double()\u001b[39m,\n",
      "  a1 = \u001b[32mcol_double()\u001b[39m,\n",
      "  a2 = \u001b[32mcol_double()\u001b[39m\n",
      ")\n",
      "\n"
     ]
    },
    {
     "data": {
      "text/html": [
       "<table>\n",
       "<caption>A tibble: 6 × 6</caption>\n",
       "<thead>\n",
       "\t<tr><th scope=col>chr</th><th scope=col>pos</th><th scope=col>nalleles</th><th scope=col>nchr</th><th scope=col>a1</th><th scope=col>a2</th></tr>\n",
       "\t<tr><th scope=col>&lt;chr&gt;</th><th scope=col>&lt;dbl&gt;</th><th scope=col>&lt;dbl&gt;</th><th scope=col>&lt;dbl&gt;</th><th scope=col>&lt;dbl&gt;</th><th scope=col>&lt;dbl&gt;</th></tr>\n",
       "</thead>\n",
       "<tbody>\n",
       "\t<tr><td>chr3</td><td>43340428</td><td>2</td><td>401286</td><td>0.999873</td><td>1.27091e-04</td></tr>\n",
       "\t<tr><td>chr3</td><td>43348535</td><td>2</td><td>401286</td><td>0.999995</td><td>4.98398e-06</td></tr>\n",
       "\t<tr><td>chr3</td><td>43372724</td><td>2</td><td>399300</td><td>0.999992</td><td>7.51315e-06</td></tr>\n",
       "\t<tr><td>chr3</td><td>43549662</td><td>2</td><td>401104</td><td>0.999998</td><td>2.49312e-06</td></tr>\n",
       "\t<tr><td>chr3</td><td>43576874</td><td>2</td><td>401286</td><td>0.994662</td><td>5.33784e-03</td></tr>\n",
       "\t<tr><td>chr3</td><td>43598764</td><td>2</td><td>399532</td><td>0.999995</td><td>5.00586e-06</td></tr>\n",
       "</tbody>\n",
       "</table>\n"
      ],
      "text/latex": [
       "A tibble: 6 × 6\n",
       "\\begin{tabular}{llllll}\n",
       " chr & pos & nalleles & nchr & a1 & a2\\\\\n",
       " <chr> & <dbl> & <dbl> & <dbl> & <dbl> & <dbl>\\\\\n",
       "\\hline\n",
       "\t chr3 & 43340428 & 2 & 401286 & 0.999873 & 1.27091e-04\\\\\n",
       "\t chr3 & 43348535 & 2 & 401286 & 0.999995 & 4.98398e-06\\\\\n",
       "\t chr3 & 43372724 & 2 & 399300 & 0.999992 & 7.51315e-06\\\\\n",
       "\t chr3 & 43549662 & 2 & 401104 & 0.999998 & 2.49312e-06\\\\\n",
       "\t chr3 & 43576874 & 2 & 401286 & 0.994662 & 5.33784e-03\\\\\n",
       "\t chr3 & 43598764 & 2 & 399532 & 0.999995 & 5.00586e-06\\\\\n",
       "\\end{tabular}\n"
      ],
      "text/markdown": [
       "\n",
       "A tibble: 6 × 6\n",
       "\n",
       "| chr &lt;chr&gt; | pos &lt;dbl&gt; | nalleles &lt;dbl&gt; | nchr &lt;dbl&gt; | a1 &lt;dbl&gt; | a2 &lt;dbl&gt; |\n",
       "|---|---|---|---|---|---|\n",
       "| chr3 | 43340428 | 2 | 401286 | 0.999873 | 1.27091e-04 |\n",
       "| chr3 | 43348535 | 2 | 401286 | 0.999995 | 4.98398e-06 |\n",
       "| chr3 | 43372724 | 2 | 399300 | 0.999992 | 7.51315e-06 |\n",
       "| chr3 | 43549662 | 2 | 401104 | 0.999998 | 2.49312e-06 |\n",
       "| chr3 | 43576874 | 2 | 401286 | 0.994662 | 5.33784e-03 |\n",
       "| chr3 | 43598764 | 2 | 399532 | 0.999995 | 5.00586e-06 |\n",
       "\n"
      ],
      "text/plain": [
       "  chr  pos      nalleles nchr   a1       a2         \n",
       "1 chr3 43340428 2        401286 0.999873 1.27091e-04\n",
       "2 chr3 43348535 2        401286 0.999995 4.98398e-06\n",
       "3 chr3 43372724 2        399300 0.999992 7.51315e-06\n",
       "4 chr3 43549662 2        401104 0.999998 2.49312e-06\n",
       "5 chr3 43576874 2        401286 0.994662 5.33784e-03\n",
       "6 chr3 43598764 2        399532 0.999995 5.00586e-06"
      ]
     },
     "metadata": {},
     "output_type": "display_data"
    }
   ],
   "source": [
    "var_freq <- read_delim(\"./chr3_mwe.subset.frq\", delim = \"\\t\",\n",
    "                       col_names = c(\"chr\", \"pos\", \"nalleles\", \"nchr\", \"a1\", \"a2\"), skip = 1)\n",
    "head(var_freq)"
   ]
  },
  {
   "cell_type": "code",
   "execution_count": 24,
   "metadata": {
    "kernel": "R"
   },
   "outputs": [
    {
     "data": {
      "text/html": [
       "<table>\n",
       "<caption>A tibble: 6 × 7</caption>\n",
       "<thead>\n",
       "\t<tr><th scope=col>chr</th><th scope=col>pos</th><th scope=col>nalleles</th><th scope=col>nchr</th><th scope=col>a1</th><th scope=col>a2</th><th scope=col>maf</th></tr>\n",
       "\t<tr><th scope=col>&lt;chr&gt;</th><th scope=col>&lt;dbl&gt;</th><th scope=col>&lt;dbl&gt;</th><th scope=col>&lt;dbl&gt;</th><th scope=col>&lt;dbl&gt;</th><th scope=col>&lt;dbl&gt;</th><th scope=col>&lt;dbl&gt;</th></tr>\n",
       "</thead>\n",
       "<tbody>\n",
       "\t<tr><td>chr3</td><td>43340428</td><td>2</td><td>401286</td><td>0.999873</td><td>1.27091e-04</td><td>1.27091e-04</td></tr>\n",
       "\t<tr><td>chr3</td><td>43348535</td><td>2</td><td>401286</td><td>0.999995</td><td>4.98398e-06</td><td>4.98398e-06</td></tr>\n",
       "\t<tr><td>chr3</td><td>43372724</td><td>2</td><td>399300</td><td>0.999992</td><td>7.51315e-06</td><td>7.51315e-06</td></tr>\n",
       "\t<tr><td>chr3</td><td>43549662</td><td>2</td><td>401104</td><td>0.999998</td><td>2.49312e-06</td><td>2.49312e-06</td></tr>\n",
       "\t<tr><td>chr3</td><td>43576874</td><td>2</td><td>401286</td><td>0.994662</td><td>5.33784e-03</td><td>5.33784e-03</td></tr>\n",
       "\t<tr><td>chr3</td><td>43598764</td><td>2</td><td>399532</td><td>0.999995</td><td>5.00586e-06</td><td>5.00586e-06</td></tr>\n",
       "</tbody>\n",
       "</table>\n"
      ],
      "text/latex": [
       "A tibble: 6 × 7\n",
       "\\begin{tabular}{lllllll}\n",
       " chr & pos & nalleles & nchr & a1 & a2 & maf\\\\\n",
       " <chr> & <dbl> & <dbl> & <dbl> & <dbl> & <dbl> & <dbl>\\\\\n",
       "\\hline\n",
       "\t chr3 & 43340428 & 2 & 401286 & 0.999873 & 1.27091e-04 & 1.27091e-04\\\\\n",
       "\t chr3 & 43348535 & 2 & 401286 & 0.999995 & 4.98398e-06 & 4.98398e-06\\\\\n",
       "\t chr3 & 43372724 & 2 & 399300 & 0.999992 & 7.51315e-06 & 7.51315e-06\\\\\n",
       "\t chr3 & 43549662 & 2 & 401104 & 0.999998 & 2.49312e-06 & 2.49312e-06\\\\\n",
       "\t chr3 & 43576874 & 2 & 401286 & 0.994662 & 5.33784e-03 & 5.33784e-03\\\\\n",
       "\t chr3 & 43598764 & 2 & 399532 & 0.999995 & 5.00586e-06 & 5.00586e-06\\\\\n",
       "\\end{tabular}\n"
      ],
      "text/markdown": [
       "\n",
       "A tibble: 6 × 7\n",
       "\n",
       "| chr &lt;chr&gt; | pos &lt;dbl&gt; | nalleles &lt;dbl&gt; | nchr &lt;dbl&gt; | a1 &lt;dbl&gt; | a2 &lt;dbl&gt; | maf &lt;dbl&gt; |\n",
       "|---|---|---|---|---|---|---|\n",
       "| chr3 | 43340428 | 2 | 401286 | 0.999873 | 1.27091e-04 | 1.27091e-04 |\n",
       "| chr3 | 43348535 | 2 | 401286 | 0.999995 | 4.98398e-06 | 4.98398e-06 |\n",
       "| chr3 | 43372724 | 2 | 399300 | 0.999992 | 7.51315e-06 | 7.51315e-06 |\n",
       "| chr3 | 43549662 | 2 | 401104 | 0.999998 | 2.49312e-06 | 2.49312e-06 |\n",
       "| chr3 | 43576874 | 2 | 401286 | 0.994662 | 5.33784e-03 | 5.33784e-03 |\n",
       "| chr3 | 43598764 | 2 | 399532 | 0.999995 | 5.00586e-06 | 5.00586e-06 |\n",
       "\n"
      ],
      "text/plain": [
       "  chr  pos      nalleles nchr   a1       a2          maf        \n",
       "1 chr3 43340428 2        401286 0.999873 1.27091e-04 1.27091e-04\n",
       "2 chr3 43348535 2        401286 0.999995 4.98398e-06 4.98398e-06\n",
       "3 chr3 43372724 2        399300 0.999992 7.51315e-06 7.51315e-06\n",
       "4 chr3 43549662 2        401104 0.999998 2.49312e-06 2.49312e-06\n",
       "5 chr3 43576874 2        401286 0.994662 5.33784e-03 5.33784e-03\n",
       "6 chr3 43598764 2        399532 0.999995 5.00586e-06 5.00586e-06"
      ]
     },
     "metadata": {},
     "output_type": "display_data"
    }
   ],
   "source": [
    "# find minor allele frequency\n",
    "var_freq$maf <- var_freq %>% select(a1, a2) %>% apply(1, function(z) min(z))\n",
    "head(var_freq )"
   ]
  },
  {
   "cell_type": "code",
   "execution_count": 25,
   "metadata": {
    "kernel": "R"
   },
   "outputs": [
    {
     "data": {
      "image/png": "[encoded data removed]",
      "text/plain": [
       "plot without title"
      ]
     },
     "metadata": {
      "image/png": {
       "height": 420,
       "width": 420
      }
     },
     "output_type": "display_data"
    }
   ],
   "source": [
    "a <- ggplot(var_freq, aes(maf)) + geom_density(fill = \"dodgerblue1\", colour = \"black\", alpha = 0.3)\n",
    "a + theme_light()"
   ]
  },
  {
   "cell_type": "markdown",
   "metadata": {
    "kernel": "R"
   },
   "source": [
    "## Individual based statistics"
   ]
  },
  {
   "cell_type": "markdown",
   "metadata": {
    "kernel": "R"
   },
   "source": [
    "### Mean depth per individual"
   ]
  },
  {
   "cell_type": "code",
   "execution_count": 27,
   "metadata": {
    "kernel": "R"
   },
   "outputs": [
    {
     "name": "stderr",
     "output_type": "stream",
     "text": [
      "Parsed with column specification:\n",
      "cols(\n",
      "  ind = \u001b[32mcol_double()\u001b[39m,\n",
      "  nsites = \u001b[32mcol_double()\u001b[39m,\n",
      "  depth = \u001b[32mcol_double()\u001b[39m\n",
      ")\n",
      "\n"
     ]
    },
    {
     "data": {
      "text/html": [
       "<table>\n",
       "<caption>A tibble: 6 × 3</caption>\n",
       "<thead>\n",
       "\t<tr><th scope=col>ind</th><th scope=col>nsites</th><th scope=col>depth</th></tr>\n",
       "\t<tr><th scope=col>&lt;dbl&gt;</th><th scope=col>&lt;dbl&gt;</th><th scope=col>&lt;dbl&gt;</th></tr>\n",
       "</thead>\n",
       "<tbody>\n",
       "\t<tr><td>1434748</td><td>193</td><td>18.7772</td></tr>\n",
       "\t<tr><td>5523981</td><td>193</td><td>22.7513</td></tr>\n",
       "\t<tr><td>5023838</td><td>193</td><td>17.2850</td></tr>\n",
       "\t<tr><td>4023729</td><td>193</td><td>20.1917</td></tr>\n",
       "\t<tr><td>4442146</td><td>193</td><td>19.7358</td></tr>\n",
       "\t<tr><td>5654789</td><td>193</td><td>19.8342</td></tr>\n",
       "</tbody>\n",
       "</table>\n"
      ],
      "text/latex": [
       "A tibble: 6 × 3\n",
       "\\begin{tabular}{lll}\n",
       " ind & nsites & depth\\\\\n",
       " <dbl> & <dbl> & <dbl>\\\\\n",
       "\\hline\n",
       "\t 1434748 & 193 & 18.7772\\\\\n",
       "\t 5523981 & 193 & 22.7513\\\\\n",
       "\t 5023838 & 193 & 17.2850\\\\\n",
       "\t 4023729 & 193 & 20.1917\\\\\n",
       "\t 4442146 & 193 & 19.7358\\\\\n",
       "\t 5654789 & 193 & 19.8342\\\\\n",
       "\\end{tabular}\n"
      ],
      "text/markdown": [
       "\n",
       "A tibble: 6 × 3\n",
       "\n",
       "| ind &lt;dbl&gt; | nsites &lt;dbl&gt; | depth &lt;dbl&gt; |\n",
       "|---|---|---|\n",
       "| 1434748 | 193 | 18.7772 |\n",
       "| 5523981 | 193 | 22.7513 |\n",
       "| 5023838 | 193 | 17.2850 |\n",
       "| 4023729 | 193 | 20.1917 |\n",
       "| 4442146 | 193 | 19.7358 |\n",
       "| 5654789 | 193 | 19.8342 |\n",
       "\n"
      ],
      "text/plain": [
       "  ind     nsites depth  \n",
       "1 1434748 193    18.7772\n",
       "2 5523981 193    22.7513\n",
       "3 5023838 193    17.2850\n",
       "4 4023729 193    20.1917\n",
       "5 4442146 193    19.7358\n",
       "6 5654789 193    19.8342"
      ]
     },
     "metadata": {},
     "output_type": "display_data"
    }
   ],
   "source": [
    "ind_depth <- read_delim(\"./chr3_mwe.subset.idepth\", delim = \"\\t\",\n",
    "                        col_names = c(\"ind\", \"nsites\", \"depth\"), skip = 1)\n",
    "head(ind_depth)                        "
   ]
  },
  {
   "cell_type": "code",
   "execution_count": 32,
   "metadata": {
    "kernel": "R"
   },
   "outputs": [
    {
     "data": {
      "image/png": "[encoded data removed]",
      "text/plain": [
       "plot without title"
      ]
     },
     "metadata": {
      "image/png": {
       "height": 420,
       "width": 420
      }
     },
     "output_type": "display_data"
    }
   ],
   "source": [
    "a <- ggplot(ind_depth, aes(depth)) + geom_histogram(fill = \"dodgerblue1\", colour = \"black\", alpha = 0.3, binwidth=0.3)\n",
    "a + theme_light()"
   ]
  },
  {
   "cell_type": "markdown",
   "metadata": {
    "kernel": "R"
   },
   "source": [
    "### Proportion of missing data per individual"
   ]
  },
  {
   "cell_type": "code",
   "execution_count": 33,
   "metadata": {
    "kernel": "R"
   },
   "outputs": [
    {
     "name": "stderr",
     "output_type": "stream",
     "text": [
      "Parsed with column specification:\n",
      "cols(\n",
      "  ind = \u001b[32mcol_double()\u001b[39m,\n",
      "  ndata = \u001b[32mcol_double()\u001b[39m,\n",
      "  nfiltered = \u001b[32mcol_double()\u001b[39m,\n",
      "  nmiss = \u001b[32mcol_double()\u001b[39m,\n",
      "  fmiss = \u001b[32mcol_double()\u001b[39m\n",
      ")\n",
      "\n"
     ]
    }
   ],
   "source": [
    "ind_miss  <- read_delim(\"./chr3_mwe.subset.imiss\", delim = \"\\t\",\n",
    "                        col_names = c(\"ind\", \"ndata\", \"nfiltered\", \"nmiss\", \"fmiss\"), skip = 1)"
   ]
  },
  {
   "cell_type": "code",
   "execution_count": 39,
   "metadata": {
    "kernel": "R"
   },
   "outputs": [
    {
     "data": {
      "image/png": "[encoded data removed]",
      "text/plain": [
       "plot without title"
      ]
     },
     "metadata": {
      "image/png": {
       "height": 420,
       "width": 420
      }
     },
     "output_type": "display_data"
    }
   ],
   "source": [
    "a <- ggplot(ind_miss, aes(fmiss)) + geom_histogram(fill = \"dodgerblue1\", colour = \"black\", alpha = 0.3, binwidth=0.001)\n",
    "a + theme_light()"
   ]
  },
  {
   "cell_type": "markdown",
   "metadata": {
    "kernel": "R"
   },
   "source": [
    "### Heterozygosity and inbreeding coefficient per individual\n",
    "\n",
    "High levels of allelic dropout/ allele with insufficient amplification (strongly negative F) or DNA contamination (highly positive F)"
   ]
  },
  {
   "cell_type": "code",
   "execution_count": 40,
   "metadata": {
    "kernel": "R"
   },
   "outputs": [
    {
     "name": "stderr",
     "output_type": "stream",
     "text": [
      "Parsed with column specification:\n",
      "cols(\n",
      "  ind = \u001b[32mcol_double()\u001b[39m,\n",
      "  ho = \u001b[32mcol_double()\u001b[39m,\n",
      "  he = \u001b[32mcol_double()\u001b[39m,\n",
      "  nsites = \u001b[32mcol_double()\u001b[39m,\n",
      "  f = \u001b[32mcol_double()\u001b[39m\n",
      ")\n",
      "\n"
     ]
    }
   ],
   "source": [
    "ind_het <- read_delim(\"./chr3_mwe.subset.het\", delim = \"\\t\",\n",
    "           col_names = c(\"ind\",\"ho\", \"he\", \"nsites\", \"f\"), skip = 1)"
   ]
  },
  {
   "cell_type": "code",
   "execution_count": 42,
   "metadata": {
    "kernel": "R"
   },
   "outputs": [
    {
     "data": {
      "image/png": "[encoded data removed]",
      "text/plain": [
       "plot without title"
      ]
     },
     "metadata": {
      "image/png": {
       "height": 420,
       "width": 420
      }
     },
     "output_type": "display_data"
    }
   ],
   "source": [
    "a <- ggplot(ind_het, aes(f)) + geom_histogram(fill = \"dodgerblue1\", colour = \"black\", alpha = 0.3, binwidth=0.1)\n",
    "a + theme_light()"
   ]
  },
  {
   "cell_type": "markdown",
   "metadata": {
    "kernel": "R"
   },
   "source": [
    "# Applying filters to the VCF"
   ]
  },
  {
   "cell_type": "code",
   "execution_count": null,
   "metadata": {
    "kernel": "Bash",
    "tags": []
   },
   "outputs": [],
   "source": [
    "VCF_IN=/mnt/mfs/statgen/UKBiobank/data/exome_files/project_VCF/chr3_mwe.subset.vcf.gz\n",
    "VCF_OUT=/mnt/mfs/statgen/UKBiobank/data/exome_files/project_VCF/chr3_mwe.subset_filtered.vcf.gz"
   ]
  },
  {
   "cell_type": "markdown",
   "metadata": {
    "kernel": "Bash"
   },
   "source": [
    "## Set the filters"
   ]
  },
  {
   "cell_type": "code",
   "execution_count": null,
   "metadata": {
    "kernel": "Bash"
   },
   "outputs": [],
   "source": [
    "MAF=0.1\n",
    "MISS=0.9\n",
    "QUAL=30\n",
    "MIN_DEPTH=10\n",
    "MAX_DEPTH=50"
   ]
  },
  {
   "cell_type": "code",
   "execution_count": null,
   "metadata": {
    "kernel": "Bash"
   },
   "outputs": [],
   "source": [
    "# move to the vcf directory\n",
    "cd vcf\n",
    "# perform the filtering with vcftools\n",
    "vcftools --gzvcf $VCF_IN \\\n",
    "--remove-indels --maf $MAF --max-missing $MISS --minQ $QUAL \\\n",
    "--min-meanDP $MIN_DEPTH --max-meanDP $MAX_DEPTH \\\n",
    "--minDP $MIN_DEPTH --maxDP $MAX_DEPTH --recode --stdout | gzip -c > \\\n",
    "$VCF_OUT\n"
   ]
  },
  {
   "cell_type": "markdown",
   "metadata": {},
   "source": [
    "## Investigate the difference in samples for chr 2 and chr22 that are haing problems in the merge"
   ]
  },
  {
   "cell_type": "code",
   "execution_count": 1,
   "metadata": {},
   "outputs": [],
   "source": [
    "bcftools query -l /mnt/mfs/statgen/UKBiobank/data/exome_files/project_VCF/plink_files/cache/ukb23156_c2_b58_v1.leftnorm.filtered.vcf.gz > /home/dmc2245/ukb23156_c2_b58_v1.samples"
   ]
  },
  {
   "cell_type": "code",
   "execution_count": 4,
   "metadata": {},
   "outputs": [],
   "source": [
    "bcftools query -l /mnt/mfs/statgen/UKBiobank/data/exome_files/project_VCF/plink_files/cache/ukb23156_c2_b57_v1.leftnorm.filtered.vcf.gz > /home/dmc2245/ukb23156_c2_b57_v1.samples"
   ]
  },
  {
   "cell_type": "code",
   "execution_count": null,
   "metadata": {},
   "outputs": [],
   "source": [
    "awk 'FNR==NR{a[$1];next}($1 in a){print}'  /home/dmc2245/ukb23156_c2_b58_v1.samples /home/dmc2245/ukb23156_c2_b57_v1.samples"
   ]
  },
  {
   "cell_type": "code",
   "execution_count": 5,
   "metadata": {},
   "outputs": [],
   "source": [
    "bcftools query -l /mnt/mfs/statgen/UKBiobank/data/exome_files/project_VCF/plink_files/cache/ukb23156_c2_b59_v1.leftnorm.filtered.vcf.gz > /home/dmc2245/ukb23156_c2_b59_v1.samples"
   ]
  },
  {
   "cell_type": "code",
   "execution_count": 7,
   "metadata": {},
   "outputs": [],
   "source": [
    "bcftools query -l /mnt/mfs/statgen/UKBiobank/data/exome_files/project_VCF/plink_files/cache/ukb23156_c2_b70_v1.leftnorm.filtered.vcf.gz > /home/dmc2245/ukb23156_c2_b70_v1.samples"
   ]
  },
  {
   "cell_type": "code",
   "execution_count": 6,
   "metadata": {},
   "outputs": [],
   "source": [
    "bcftools query -l /mnt/mfs/statgen/UKBiobank/data/exome_files/project_VCF/plink_files/cache/ukb23156_c2_b0_v1.leftnorm.filtered.vcf.gz > /home/dmc2245/ukb23156_c2_b0_v1.samples"
   ]
  },
  {
   "cell_type": "code",
   "execution_count": 8,
   "metadata": {},
   "outputs": [],
   "source": [
    "bcftools query -l /mnt/mfs/statgen/UKBiobank/data/exome_files/project_VCF/plink_files/cache/ukb23156_c3_b0_v1.leftnorm.filtered.vcf.gz > /home/dmc2245/ukb23156_c3_b0_v1.samples"
   ]
  },
  {
   "cell_type": "code",
   "execution_count": null,
   "metadata": {},
   "outputs": [],
   "source": [
    "cat /home/dmc2245/ukb23156_c2_b58_v1.samples | sort -n | head -n 20"
   ]
  },
  {
   "cell_type": "code",
   "execution_count": 9,
   "metadata": {},
   "outputs": [
    {
     "name": "stdout",
     "output_type": "stream",
     "text": [
      "\t-000016\n",
      "\t-000017\n",
      "\t-000018\n",
      "1533484\n",
      "2284688\n",
      "3081695\n"
     ]
    }
   ],
   "source": [
    "comm <(sort /home/dmc2245/ukb23156_c2_b57_v1.samples) <(sort /home/dmc2245/ukb23156_c2_b58_v1.samples) -3"
   ]
  },
  {
   "cell_type": "code",
   "execution_count": 2,
   "metadata": {},
   "outputs": [],
   "source": [
    "bcftools query -l  /mnt/mfs/statgen/UKBiobank/data/exome_files/project_VCF/plink_files/cache/ukb23156_c20_b3_v1.leftnorm.filtered.vcf.gz > /home/dmc2245/ukb23156_c20_b3_v1.samples"
   ]
  },
  {
   "cell_type": "code",
   "execution_count": 1,
   "metadata": {},
   "outputs": [],
   "source": [
    "bcftools query -l  /mnt/mfs/statgen/UKBiobank/data/exome_files/project_VCF/plink_files/cache/ukb23156_c20_b0_v1.leftnorm.filtered.vcf.gz > /home/dmc2245/ukb23156_c20_b0_v1.samples"
   ]
  },
  {
   "cell_type": "markdown",
   "metadata": {},
   "source": [
    "### Different sample names in /mnt/mfs/statgen/UKBiobank/data/exome_files/project_VCF/plink_files/cache/ukb23156_c2_b63_v1.leftnorm.filtered.vcf.gz. Perhaps \"bcftools merge\" is what you are looking for?"
   ]
  },
  {
   "cell_type": "code",
   "execution_count": 3,
   "metadata": {},
   "outputs": [],
   "source": [
    "bcftools query -l /mnt/mfs/statgen/UKBiobank/data/exome_files/project_VCF/plink_files/cache/ukb23156_c2_b63_v1.leftnorm.filtered.vcf.gz > /home/dmc2245/ukb23156_c2_b63_v1.samples"
   ]
  },
  {
   "cell_type": "code",
   "execution_count": 10,
   "metadata": {},
   "outputs": [
    {
     "ename": "",
     "evalue": "1",
     "output_type": "error",
     "traceback": []
    }
   ],
   "source": [
    "diff -y  /home/dmc2245/ukb23156_c2_b58_v1.samples  /home/dmc2245/ukb23156_c2_b63_v1.samples > /home/dmc2245/different_chr2_b58_b63"
   ]
  },
  {
   "cell_type": "markdown",
   "metadata": {},
   "source": [
    "### Different sample names in /mnt/mfs/statgen/UKBiobank/data/exome_files/project_VCF/plink_files/cache/ukb23156_c20_b4_v1.leftnorm.filtered.vcf.gz"
   ]
  },
  {
   "cell_type": "code",
   "execution_count": 4,
   "metadata": {},
   "outputs": [],
   "source": [
    "bcftools query -l /mnt/mfs/statgen/UKBiobank/data/exome_files/project_VCF/plink_files/cache/ukb23156_c20_b4_v1.leftnorm.filtered.vcf.gz > /home/dmc2245/uukb23156_c20_b4_v1.samples"
   ]
  },
  {
   "cell_type": "code",
   "execution_count": 8,
   "metadata": {},
   "outputs": [
    {
     "ename": "",
     "evalue": "1",
     "output_type": "error",
     "traceback": []
    }
   ],
   "source": [
    "diff -y /home/dmc2245/ukb23156_c20_b3_v1.samples /home/dmc2245/uukb23156_c20_b4_v1.samples  > /home/dmc2245/different_chr20_b3_b4"
   ]
  },
  {
   "cell_type": "code",
   "execution_count": 17,
   "metadata": {},
   "outputs": [
    {
     "ename": "",
     "evalue": "1",
     "output_type": "error",
     "traceback": []
    }
   ],
   "source": [
    "for file in /mnt/mfs/statgen/UKBiobank/data/exome_files/project_VCF/plink_files/cache/ukb23156_c20_b*_v1.leftnorm.filtered.vcf.gz; do \n",
    " new_file=\"$(echo $file | sed s/.filtered.vcf.gz/.samples/)\"\n",
    " bcftools query -l $file > $new_file\n",
    " echo \"$new_file\" >> /home/dmc2245/grep_results_chr20_new.txt\n",
    " egrep \"1533484|2284688|3081695\" $new_file >> /home/dmc2245/grep_results_chr20_new.txt ;\n",
    " done"
   ]
  },
  {
   "cell_type": "code",
   "execution_count": 18,
   "metadata": {},
   "outputs": [
    {
     "ename": "",
     "evalue": "1",
     "output_type": "error",
     "traceback": []
    }
   ],
   "source": [
    "for file in /mnt/mfs/statgen/UKBiobank/data/exome_files/project_VCF/plink_files/cache/ukb23156_c2_b*_v1.leftnorm.filtered.vcf.gz; do \n",
    " new_file=\"$(echo $file | sed s/.filtered.vcf.gz/.samples/)\"\n",
    " bcftools query -l $file > $new_file\n",
    " echo \"$new_file\" >> /home/dmc2245/grep_results_chr2_new.txt\n",
    " egrep \"1533484|2284688|3081695\" $new_file >> /home/dmc2245/grep_results_chr2_new.txt ;\n",
    " done"
   ]
  },
  {
   "cell_type": "markdown",
   "metadata": {},
   "source": [
    "## Reheader bcftools to change samples name"
   ]
  },
  {
   "cell_type": "code",
   "execution_count": 16,
   "metadata": {},
   "outputs": [],
   "source": [
    "cd /mnt/mfs/statgen/UKBiobank/data/exome_files/project_VCF/testing_bcftools\n",
    "bcftools reheader -s samples_name.txt  -o chr3_mwe.subset_2samples.rename.vcf.gz chr3_mwe.subset_2samples.filter_3.vcf.gz"
   ]
  },
  {
   "cell_type": "code",
   "execution_count": null,
   "metadata": {},
   "outputs": [],
   "source": []
  }
 ],
 "metadata": {
  "kernelspec": {
   "display_name": "Bash",
   "language": "bash",
   "name": "bash"
  },
  "language_info": {
   "codemirror_mode": "shell",
   "file_extension": ".sh",
   "mimetype": "text/x-sh",
   "name": "bash"
  },
  "sos": {
   "kernels": [
    [
     "Bash",
     "calysto_bash",
     "Bash",
     "#E6EEFF",
     ""
    ],
    [
     "R",
     "ir",
     "R",
     "#DCDCDA",
     "r"
    ]
   ],
   "version": "0.22.4"
  }
 },
 "nbformat": 4,
 "nbformat_minor": 4
}
