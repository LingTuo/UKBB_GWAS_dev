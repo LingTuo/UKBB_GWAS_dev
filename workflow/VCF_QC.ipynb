{
 "cells": [
  {
   "cell_type": "markdown",
   "metadata": {
    "kernel": "SoS"
   },
   "source": [
    "# QC pVCF files UKBB"
   ]
  },
  {
   "cell_type": "markdown",
   "metadata": {
    "kernel": "SoS"
   },
   "source": [
    "## Aim\n",
    "\n",
    "To do QC on the UKBB pVCF data and return plink files for downstream GWAS analysis\n"
   ]
  },
  {
   "cell_type": "markdown",
   "metadata": {
    "kernel": "SoS"
   },
   "source": [
    "## Input\n",
    "\n",
    "* pVCF file"
   ]
  },
  {
   "cell_type": "markdown",
   "metadata": {
    "kernel": "SoS"
   },
   "source": [
    "## Ouput\n",
    "\n",
    "* bed, bim and fam files per chromosome"
   ]
  },
  {
   "cell_type": "markdown",
   "metadata": {
    "kernel": "SoS"
   },
   "source": [
    "## Software\n",
    "\n",
    "In this case we will use [bcftools](http://www.htslib.org/download/)"
   ]
  },
  {
   "cell_type": "markdown",
   "metadata": {
    "kernel": "SoS"
   },
   "source": [
    "### Produce stats of the VCF files"
   ]
  },
  {
   "cell_type": "code",
   "execution_count": 5,
   "metadata": {
    "kernel": "Bash"
   },
   "outputs": [
    {
     "name": "stdout",
     "output_type": "stream",
     "text": [
      "\n"
     ]
    }
   ],
   "source": [
    "bcf=~/software/bin/./bcftools\n",
    "vcf_file=/mnt/mfs/statgen/UKBiobank/data/exome_files/project_VCF/ukb23156_c1_b0_v1.vcf.gz"
   ]
  },
  {
   "cell_type": "code",
   "execution_count": 1,
   "metadata": {
    "kernel": "Bash"
   },
   "outputs": [
    {
     "name": "stdout",
     "output_type": "stream",
     "text": [
      "\n"
     ]
    }
   ],
   "source": [
    "$bcf stats --af-bins 0.1,0.5,1 -d 0,500,1 $vcf_file >  ~/output/vcf_stats/ukbb_chr1_b1.vchk"
   ]
  },
  {
   "cell_type": "code",
   "execution_count": null,
   "metadata": {
    "kernel": "Bash"
   },
   "outputs": [
    {
     "name": "stdout",
     "output_type": "stream",
     "text": [
      "Restarting kernel \"Bash\"\n"
     ]
    }
   ],
   "source": [
    "$bcf query -i 'GT = \"alt\" & GT = \"hom\"' -f \"%CHROM\\t%POS\\n[\\t%SAMPLE\\t%GT\\t%GQ\\n]\" $vcf_file"
   ]
  },
  {
   "cell_type": "code",
   "execution_count": null,
   "metadata": {
    "kernel": "Bash"
   },
   "outputs": [],
   "source": [
    "$bcf query -f \"%CHROM\\t%POS\\t%ID\\t%INFO/AF\\t%QUAL\\t%INFO/BaseQRankSum\" $vcf_file"
   ]
  },
  {
   "cell_type": "code",
   "execution_count": 1,
   "metadata": {
    "kernel": "Bash"
   },
   "outputs": [
    {
     "name": "stdout",
     "output_type": "stream",
     "text": [
      "chr1 925849 MONOALLELIC\n",
      "chr1 930388 MONOALLELIC\n",
      "[main_vcfquery] Error: close failed .. (null)\n",
      "\n"
     ]
    }
   ],
   "source": [
    "$bcf query -e'FILTER=\".\"' -f'%CHROM %POS %FILTER\\n' $vcf_file | head -2"
   ]
  },
  {
   "cell_type": "code",
   "execution_count": 20,
   "metadata": {
    "kernel": "Bash"
   },
   "outputs": [
    {
     "name": "stdout",
     "output_type": "stream",
     "text": [
      "[filter.c:2914 filters_init1] Error: the tag \"AB\" is not defined in the VCF header\n",
      "\n"
     ]
    }
   ],
   "source": [
    "$bcf view -i 'GT=\"het\" && (AB >0.20)' $vcf_file | head -2"
   ]
  },
  {
   "cell_type": "code",
   "execution_count": 18,
   "metadata": {
    "kernel": "Bash"
   },
   "outputs": [
    {
     "name": "stdout",
     "output_type": "stream",
     "text": [
      "chr1\tPOS\t40\t5671571:DP=11 GQ=332402342:DP=11 GQ=335969821:DP=11 GQ=334706202:DP=11 GQ=331693285:DP=12 GQ=361284567:DP=11 GQ=334777909:DP=12 GQ=362247310:DP=11 GQ=335263860:DP=12 GQ=365218702:DP=12 GQ=362114153:DP=12 GQ=365833399:DP=12 GQ=36\n",
      "chr1\tPOS\t36\t1213363:DP=11 GQ=334348256:DP=11 GQ=335090129:DP=12 GQ=364271819:DP=12 GQ=363336708:DP=12 GQ=365872349:DP=11 GQ=333352244:DP=11 GQ=331357191:DP=11 GQ=334543113:DP=11 GQ=333519740:DP=11 GQ=333575639:DP=12 GQ=365714872:DP=11 GQ=333813942:DP=11 GQ=333556915:DP=11 GQ=335874663:DP=11 GQ=333991743:DP=12 GQ=362602823:DP=12 GQ=362553296:DP=11 GQ=335671571:DP=16 GQ=484287252:DP=13 GQ=395192179:DP=11 GQ=333823333:DP=11 GQ=331462342:DP=11 GQ=333323897:DP=12 GQ=361751570:DP=12 GQ=361460074:DP=12 GQ=362777172:DP=11 GQ=335563962:DP=12 GQ=361437023:DP=11 GQ=331810519:DP=14 GQ=424771160:DP=12 GQ=362552168:DP=11 GQ=332788594:DP=12 GQ=361234424:DP=16 GQ=483924315:DP=11 GQ=333391406:DP=11 GQ=335902725:DP=12 GQ=361446616:DP=12 GQ=365243530:DP=11 GQ=334641114:DP=11 GQ=332632408:DP=14 GQ=425932231:DP=11 GQ=333164089:DP=14 GQ=423077161:DP=14 GQ=422396849:DP=12 GQ=365407743:DP=16 GQ=482639095:DP=11 GQ=334390939:DP=11 GQ=333225145:DP=12 GQ=363624388:DP=11 GQ=332019920:DP=14 GQ=423376659:DP=12 GQ=361085159:DP=12 GQ=365527668:DP=14 GQ=423320423:DP=11 GQ=335032581:DP=12 GQ=364486929:DP=11 GQ=335108155:DP=11 GQ=331463384:DP=12 GQ=365232299:DP=12 GQ=361815736:DP=11 GQ=331733175:DP=12 GQ=363073737:DP=11 GQ=332946158:DP=12 GQ=364863657:DP=11 GQ=333304752:DP=11 GQ=331810424:DP=12 GQ=364022930:DP=12 GQ=365981874:DP=12 GQ=364562276:DP=14 GQ=425466977:DP=12 GQ=361704227:DP=15 GQ=452773795:DP=11 GQ=335858782:DP=12 GQ=361739524:DP=11 GQ=331220159:DP=12 GQ=362202159:DP=16 GQ=485255782:DP=12 GQ=361134922:DP=16 GQ=481852725:DP=11 GQ=335137103:DP=11 GQ=332176816:DP=12 GQ=362748135:DP=16 GQ=484539760:DP=11 GQ=334008110:DP=12 GQ=363703891:DP=11 GQ=331536467:DP=12 GQ=361287965:DP=12 GQ=365343600:DP=16 GQ=485602131:DP=11 GQ=334703809:DP=11 GQ=335437305:DP=11 GQ=332581093:DP=11 GQ=331149284:DP=11 GQ=331472908:DP=12 GQ=364921086:DP=11 GQ=334297568:DP=11 GQ=333361583:DP=11 GQ=332709562:DP=12 GQ=361513285:DP=12 GQ=362769496:DP=11 GQ=334907874:DP=16 GQ=484672965:DP=11 GQ=332261303:DP=11 GQ=332470794:DP=11 GQ=333909451:DP=13 GQ=395498174:DP=11 GQ=334994209:DP=14 GQ=422402342:DP=11 GQ=333865876:DP=12 GQ=365944318:DP=11 GQ=334010596:DP=12 GQ=362087119:DP=12 GQ=362283186:DP=12 GQ=364027208:DP=12 GQ=363682388:DP=11 GQ=334362658:DP=12 GQ=364770884:DP=14 GQ=424124823:DP=11 GQ=334238917:DP=12 GQ=363163467:DP=12 GQ=361198391:DP=12 GQ=365835842:DP=12 GQ=362626013:DP=12 GQ=363312213:DP=12 GQ=361607198:DP=11 GQ=333536487:DP=12 GQ=365890639:DP=12 GQ=365424922:DP=12 GQ=361972681:DP=12 GQ=363530562:DP=11 GQ=334486610:DP=11 GQ=335969821:DP=16 GQ=481815258:DP=17 GQ=504368512:DP=11 GQ=332467341:DP=14 GQ=423895411:DP=14 GQ=425972637:DP=11 GQ=332570177:DP=16 GQ=485983226:DP=15 GQ=453469609:DP=17 GQ=504510894:DP=12 GQ=365516012:DP=12 GQ=361860771:DP=12 GQ=365135985:DP=12 GQ=362765156:DP=11 GQ=335443843:DP=12 GQ=361187571:DP=11 GQ=335127367:DP=11 GQ=334650471:DP=11 GQ=335050059:DP=12 GQ=363313843:DP=11 GQ=332851958:DP=11 GQ=334153474:DP=12 GQ=362898788:DP=11 GQ=333246835:DP=11 GQ=335849150:DP=11 GQ=335603065:DP=12 GQ=362282214:DP=11 GQ=334037679:DP=12 GQ=365822855:DP=12 GQ=365451020:DP=12 GQ=362037085:DP=11 GQ=333288481:DP=11 GQ=335264670:DP=14 GQ=422315063:DP=11 GQ=335003208:DP=14 GQ=425148911:DP=14 GQ=425416669:DP=16 GQ=481812278:DP=12 GQ=362517231:DP=14 GQ=422675585:DP=12 GQ=364436453:DP=11 GQ=332936000:DP=12 GQ=363728596:DP=12 GQ=363650245:DP=11 GQ=332646206:DP=11 GQ=333939630:DP=20 GQ=503079574:DP=11 GQ=331199996:DP=14 GQ=424706202:DP=16 GQ=484539308:DP=12 GQ=363582666:DP=16 GQ=482079993:DP=13 GQ=391045578:DP=12 GQ=364851544:DP=11 GQ=333611010:DP=16 GQ=485092888:DP=11 GQ=332171725:DP=14 GQ=421035408:DP=11 GQ=333742271:DP=12 GQ=364457689:DP=12 GQ=365467976:DP=11 GQ=332495256:DP=14 GQ=421083098:DP=12 GQ=361574696:DP=12 GQ=362432912:DP=12 GQ=364512353:DP=12 GQ=362396895:DP=11 GQ=335044738:DP=12 GQ=362071662:DP=11 GQ=332797332:DP=16 GQ=481217723:DP=12 GQ=363344453:DP=16 GQ=481208722:DP=12 GQ=362561148:DP=12 GQ=364913675:DP=12 GQ=361693285:DP=11 GQ=331743234:DP=11 GQ=335057647:DP=12 GQ=363583710:DP=11 GQ=335405979:DP=11 GQ=332650755:DP=12 GQ=365732741:DP=11 GQ=335049039:DP=12 GQ=362405266:DP=14 GQ=421061141:DP=14 GQ=425021781:DP=11 GQ=334094742:DP=11 GQ=332595730:DP=11 GQ=335326887:DP=14 GQ=421117873:DP=11 GQ=331561400:DP=11 GQ=332330985:DP=11 GQ=335370851:DP=11 GQ=332175098:DP=11 GQ=331433154:DP=12 GQ=363119387:DP=14 GQ=422139855:DP=12 GQ=362104797:DP=12 GQ=363186460:DP=12 GQ=365464931:DP=12 GQ=365667608:DP=12 GQ=364258527:DP=11 GQ=335801026:DP=12 GQ=363814141:DP=16 GQ=481423435:DP=11 GQ=332017586:DP=12 GQ=362113380:DP=12 GQ=363831562:DP=11 GQ=332694245:DP=11 GQ=335659100:DP=14 GQ=423521061:DP=12 GQ=362333889:DP=12 GQ=365056648:DP=11 GQ=334146943:DP=11 GQ=335878078:DP=12 GQ=363929751:DP=14 GQ=424184399:DP=12 GQ=361410433:DP=12 GQ=361640076:DP=11 GQ=332333776:DP=12 GQ=361491454:DP=11 GQ=331138712:DP=14 GQ=422492635:DP=11 GQ=333932462:DP=16 GQ=484592271:DP=12 GQ=362312748:DP=11 GQ=331261152:DP=12 GQ=365266322:DP=14 GQ=423901028:DP=13 GQ=395989171:DP=12 GQ=364815713:DP=12 GQ=361156114:DP=12 GQ=361255028:DP=12 GQ=364698359:DP=11 GQ=335542065:DP=14 GQ=423923623:DP=13 GQ=393254736:DP=12 GQ=364854046:DP=12 GQ=363296581:DP=13 GQ=395503570:DP=11 GQ=332861389:DP=14 GQ=425905899:DP=12 GQ=363035371:DP=12 GQ=364046422:DP=12 GQ=365772342:DP=14 GQ=424133950:DP=12 GQ=361348151:DP=11 GQ=335308303:DP=11 GQ=333253597:DP=12 GQ=362701648:DP=11 GQ=332267191:DP=11 GQ=331194300:DP=12 GQ=361015548:DP=11 GQ=335558206:DP=12 GQ=362372438:DP=12 GQ=361080008:DP=11 GQ=334407388:DP=12 GQ=365309996:DP=14 GQ=421188448:DP=14 GQ=421284567:DP=16 GQ=481412436:DP=14 GQ=425868909:DP=14 GQ=423000703:DP=11 GQ=332809286:DP=11 GQ=334409683:DP=12 GQ=362264351:DP=11 GQ=332684573:DP=12 GQ=364378098:DP=12 GQ=364422985:DP=11 GQ=331032822:DP=14 GQ=425357465:DP=11 GQ=332477208:DP=11 GQ=335339407:DP=11 GQ=333505982:DP=12 GQ=362766239:DP=11 GQ=334318875:DP=11 GQ=332903209:DP=12 GQ=364315232:DP=11 GQ=335701605:DP=11 GQ=331159300:DP=11 GQ=333817840:DP=11 GQ=333433214:DP=11 GQ=333372070:DP=11 GQ=335617300:DP=11 GQ=334269538:DP=11 GQ=335214536:DP=12 GQ=364678370:DP=12 GQ=361750996:DP=12 GQ=361562170:DP=11 GQ=334777909:DP=12 GQ=364009998:DP=14 GQ=422162315:DP=11 GQ=335807306:DP=11 GQ=331548019:DP=12 GQ=362247310:DP=11 GQ=332960530:DP=11 GQ=334238438:DP=11 GQ=332022482:DP=11 GQ=333888944:DP=12 GQ=363648227:DP=12 GQ=364922210:DP=13 GQ=392792209:DP=11 GQ=332888189:DP=11 GQ=332819161:DP=11 GQ=334758199:DP=11 GQ=334436940:DP=12 GQ=365266040:DP=12 GQ=365590901:DP=16 GQ=483771794:DP=11 GQ=334862883:DP=12 GQ=365564401:DP=13 GQ=391329473:DP=11 GQ=333972494:DP=13 GQ=393700337:DP=11 GQ=334332180:DP=11 GQ=331780237:DP=11 GQ=333683378:DP=11 GQ=335921315:DP=11 GQ=335473769:DP=11 GQ=335263860:DP=16 GQ=483128926:DP=12 GQ=361072063:DP=11 GQ=333119843:DP=11 GQ=333619058:DP=12 GQ=363862102:DP=12 GQ=365786978:DP=11 GQ=331341259:DP=14 GQ=421640594:DP=11 GQ=334758682:DP=12 GQ=361242321:DP=14 GQ=424026395:DP=11 GQ=331485787:DP=12 GQ=363636918:DP=16 GQ=483650464:DP=12 GQ=362677456:DP=15 GQ=454729548:DP=11 GQ=332719492:DP=15 GQ=452663632:DP=11 GQ=334443918:DP=17 GQ=505977852:DP=11 GQ=333465037:DP=14 GQ=424904721:DP=11 GQ=335939121:DP=11 GQ=332166477:DP=11 GQ=332021765:DP=11 GQ=335894624:DP=11 GQ=335663037:DP=11 GQ=335605807:DP=16 GQ=485218702:DP=16 GQ=481562625:DP=12 GQ=365423339:DP=11 GQ=334306433:DP=12 GQ=362114153:DP=16 GQ=482656442:DP=12 GQ=362606714:DP=11 GQ=333418639:DP=12 GQ=364236960:DP=11 GQ=334031733:DP=11 GQ=331251020:DP=11 GQ=332252537:DP=11 GQ=335746258:DP=12 GQ=361907531:DP=11 GQ=335059525:DP=11 GQ=332592843:DP=12 GQ=363724941:DP=12 GQ=364881337:DP=11 GQ=335833399:DP=14 GQ=425730914:DP=12 GQ=362152971:DP=12 GQ=363730358:DP=11 GQ=335265313:DP=11 GQ=331738822:DP=12 GQ=363696139:DP=14 GQ=424277754:DP=13 GQ=394293521:DP=11 GQ=333520594:DP=11 GQ=335575470:DP=11 GQ=331136208:DP=16 GQ=486023022:DP=15 GQ=452388843:DP=12 GQ=362759988:DP=14 GQ=424452435:DP=11 GQ=331357868:DP=11 GQ=332421088:DP=12 GQ=364785394:DP=14 GQ=425141162:DP=12 GQ=364113788:DP=11 GQ=333932927:DP=15 GQ=455143863:DP=14 GQ=421287502:DP=11 GQ=334959114:DP=11 GQ=333404328:DP=12 GQ=362245083:DP=11 GQ=333580164:DP=13 GQ=395764573:DP=11 GQ=334828040:DP=12 GQ=365668368:DP=12 GQ=364444241:DP=12 GQ=36\n",
      "[query_vcf] Error: cannot write to standard output\n",
      "\n"
     ]
    }
   ],
   "source": [
    "$bcf query -i'FMT/DP>10 & FMT/GQ>20' -f'%CHROM\\tPOS\\t%QUAL\\t[%SAMPLE:DP=%DP GQ=%GQ]\\n' $vcf_file | head -2"
   ]
  },
  {
   "cell_type": "code",
   "execution_count": 21,
   "metadata": {
    "kernel": "Bash"
   },
   "outputs": [
    {
     "name": "stderr",
     "output_type": "stream",
     "text": [
      "IOPub data rate exceeded.\n",
      "The notebook server will temporarily stop sending output\n",
      "to the client in order to avoid crashing it.\n",
      "To change this limit, set the config variable\n",
      "`--NotebookApp.iopub_data_rate_limit`.\n",
      "\n",
      "Current values:\n",
      "NotebookApp.iopub_data_rate_limit=1000000.0 (bytes/sec)\n",
      "NotebookApp.rate_limit_window=3.0 (secs)\n",
      "\n"
     ]
    }
   ],
   "source": [
    "$bcf query -i 'TYPE=\"snp\" && MIN(DP)>5 && QUAL>10' -f'%CHROM\\tPOS\\t%QUAL\\t[%SAMPLE:DP=%DP GQ=%GQ]\\n' $vcf_file | head -2"
   ]
  },
  {
   "cell_type": "markdown",
   "metadata": {
    "kernel": "SoS"
   },
   "source": [
    "### Plot VCF stats"
   ]
  },
  {
   "cell_type": "code",
   "execution_count": null,
   "metadata": {
    "kernel": "Bash"
   },
   "outputs": [],
   "source": [
    "~/software/bin/./plot-vcfstats --merge chr{1..22} > ~/output/vcf_stats/merged_stats.vchk"
   ]
  },
  {
   "cell_type": "code",
   "execution_count": null,
   "metadata": {
    "kernel": "Bash"
   },
   "outputs": [],
   "source": [
    "~/software/bin/./plot-vcfstats \\\n",
    "    --prefix ~/output/vcf_stats/merged_plots \\\n",
    "    --main-title 'Summary statistics plots for UKBB pVCF'\\\n",
    "    ~/output/vcf_stats/merged_stats.vchk"
   ]
  },
  {
   "cell_type": "markdown",
   "metadata": {
    "kernel": "Bash"
   },
   "source": [
    "### Filter VCF files"
   ]
  },
  {
   "cell_type": "markdown",
   "metadata": {
    "kernel": "Bash"
   },
   "source": [
    "1. Genotype depth filters: SNPs DP>=7 and Indels DP>=10 for indels\n",
    "    > Then only SNV variant sites that met at least one of the following two criteria were [retained](https://www.google.com/url?sa=t&rct=j&q=&esrc=s&source=web&cd=&ved=2ahUKEwjPw5r_s5fvAhUVUzUKHe7GD-kQFjAEegQIDRAD&url=https%3A%2F%2Fwww.biorxiv.org%2Fcontent%2Fbiorxiv%2Fearly%2F2019%2F03%2F09%2F572347%2FDC2%2Fembed%2Fmedia-2.pdf%3Fdownload%3Dtrue&usg=AOvVaw06fvt4jBTPq5VfepojT1mZ) according to filtering made on the ~50K exomes by the UKBB\n",
    "    \n",
    "    > 1) at least one heterozygous variant genotype with allele balance ratio greater than or equal to 15% (AB >= 0.15) \n",
    "    \n",
    "    > 2) at least one homozygous variant genotype\n",
    "    \n",
    "2. At least one variant genotype passing the Allele Balance filter: heterozygous SNV AB>=0.15, heterozygous indel>=0.20\n",
    "3. Genotype quality GQ>=20"
   ]
  },
  {
   "cell_type": "code",
   "execution_count": 2,
   "metadata": {
    "kernel": "Bash"
   },
   "outputs": [
    {
     "name": "stdout",
     "output_type": "stream",
     "text": [
      "[E::hts_open_format] Failed to open file \"my.vcf.gz\" : No such file or directory\n",
      "Failed to read from my.vcf.gz: No such file or directory\n",
      "[E::hts_open_format] Failed to open file \"input.vcf\" : No such file or directory\n",
      "Failed to read from input.vcf: No such file or directory\n",
      "\n"
     ]
    }
   ],
   "source": [
    "#the DP value in the INFO is the sum of the DP value over all samples in your vcf at this position. The DP value in the FORMAT column in the read depth for the given sample at this position. If you just have one sample this value should be equal.\n",
    "#FORMAT/DP\n",
    "#FORMAT/GQ\n",
    "\n",
    "bcftools view  -i  'MIN(FMT/DP)>10 & MIN(FMT/GQ)>15'   my.vcf.gz\n",
    "\n",
    "bcftools filter -i 'TYPE=\"snp\" && MIN(DP)>5 && QUAL>10' input.vcf > output.vcf"
   ]
  },
  {
   "cell_type": "code",
   "execution_count": null,
   "metadata": {
    "kernel": "Bash"
   },
   "outputs": [],
   "source": [
    "# Filter SNPs"
   ]
  }
 ],
 "metadata": {
  "kernelspec": {
   "display_name": "SoS",
   "language": "sos",
   "name": "sos"
  },
  "language_info": {
   "codemirror_mode": "sos",
   "file_extension": ".sos",
   "mimetype": "text/x-sos",
   "name": "sos",
   "nbconvert_exporter": "sos_notebook.converter.SoS_Exporter",
   "pygments_lexer": "sos"
  },
  "sos": {
   "kernels": [
    [
     "Bash",
     "calysto_bash",
     "Bash",
     "#E6EEFF",
     ""
    ]
   ],
   "version": "0.20.1"
  }
 },
 "nbformat": 4,
 "nbformat_minor": 4
}
