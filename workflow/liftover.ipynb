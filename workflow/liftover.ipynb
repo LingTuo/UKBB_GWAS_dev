{
 "cells": [
  {
   "cell_type": "markdown",
   "id": "f3bd890a-3b5a-406b-9130-ce3c3548b9b3",
   "metadata": {
    "kernel": "SoS",
    "tags": []
   },
   "source": [
    "# Liftover from hg19(GRCh37) to hg38 "
   ]
  },
  {
   "cell_type": "markdown",
   "id": "a9b23d11-6f84-40dd-bba5-009d5b0f2ff1",
   "metadata": {
    "kernel": "SoS"
   },
   "source": [
    "The pipeline is inspired by [https://www.biostars.org/p/252938/](https://www.biostars.org/p/252938/)"
   ]
  },
  {
   "cell_type": "markdown",
   "id": "3782cce2-b7f9-4283-bba2-3650781bb107",
   "metadata": {
    "kernel": "SoS"
   },
   "source": [
    "Download required tools: `liftOver`, `liftOverPlink.py` and `hg19ToHg38.over.chain.gz` by\n",
    "```\n",
    "wget http://hgdownload.soe.ucsc.edu/admin/exe/linux.x86_64/liftOver\n",
    "wget http://hgdownload.soe.ucsc.edu/goldenPath/hg19/liftOver/hg19ToHg38.over.chain.gz\n",
    "wget https://raw.githubusercontent.com/Shicheng-Guo/GscPythonUtility/master/liftOverPlink.py\n",
    "```"
   ]
  },
  {
   "cell_type": "markdown",
   "id": "c3501ccc-8c66-48f3-870f-6b64f6977a0a",
   "metadata": {
    "kernel": "SoS"
   },
   "source": [
    "The python version of liftover document: https://github.com/sritchie73/liftOverPlink"
   ]
  },
  {
   "cell_type": "markdown",
   "id": "99205037-8e23-4a84-9e6e-70679b87cda9",
   "metadata": {
    "kernel": "SoS"
   },
   "source": [
    "### An error found during the process\n",
    "\n",
    "A similar one online: https://www.biostars.org/p/369469/"
   ]
  },
  {
   "cell_type": "code",
   "execution_count": null,
   "id": "467c887d-a8f3-4e63-b67d-05afbba1c63d",
   "metadata": {
    "kernel": "SoS"
   },
   "outputs": [],
   "source": []
  },
  {
   "cell_type": "code",
   "execution_count": 3,
   "id": "be3a6eb4-8ec7-45f6-86a8-5ac0c48aac7c",
   "metadata": {
    "kernel": "Bash",
    "tags": []
   },
   "outputs": [
    {
     "name": "stdout",
     "output_type": "stream",
     "text": [
      "usage: sos run liftover.ipynb [workflow_name | -t targets] [options] [workflow_options]\n",
      "  workflow_name:        Single or combined workflows defined in this script\n",
      "  targets:              One or more targets to generate\n",
      "  options:              Single-hyphen sos parameters (see \"sos run -h\" for details)\n",
      "  workflow_options:     Double-hyphen workflow-specific parameters\n",
      "\n",
      "Workflows:\n",
      "  liftover\n",
      "\n",
      "Global Workflow Options:\n",
      "  --numThreads 2 (as int)\n",
      "                        Specific number of threads to use\n",
      "  --job-size 1 (as int)\n",
      "                        For cluster jobs, number commands to run per job\n",
      "  --walltime 36h\n",
      "                        Wall clock time expected\n",
      "  --mem 30G\n",
      "                        Memory expected\n",
      "  --container-lmm 'statisticalgenetics/lmm:2.4'\n",
      "                        Plink provider\n",
      "\n",
      "Sections\n",
      "  liftover:             Merge all the *.bim files into a single file. Needs to\n",
      "                        be run once per type of data (e.g. genotype, exome)\n",
      "    Workflow Options:\n",
      "      --liftover VAL (as str, required)\n",
      "                        Path of liftover program\n",
      "      --chain VAL (as path, required)\n",
      "                        Path of the chain file\n",
      "      --bfiles  paths\n",
      "\n",
      "                        Path to the *.bim/bed/fam files to liftover\n",
      "      --out VAL (as path, required)\n",
      "                        Output prefix\n",
      "\n"
     ]
    }
   ],
   "source": [
    "sos run liftover.ipynb -h"
   ]
  },
  {
   "cell_type": "code",
   "execution_count": 27,
   "id": "c9807447-7034-49dc-977c-3661836d0feb",
   "metadata": {
    "kernel": "Bash",
    "tags": []
   },
   "outputs": [
    {
     "name": "stdout",
     "output_type": "stream",
     "text": [
      "INFO: Running \u001b[32mliftover\u001b[0m: Merge all the *.bim files into a single file. Needs to be run once per type of data (e.g. genotype, exome)\n",
      "INFO: \u001b[32mliftover\u001b[0m is \u001b[32mcompleted\u001b[0m.\n",
      "INFO: \u001b[32mliftover\u001b[0m output:   \u001b[32m/mnt/mfs/statgen/guangyou/liftover/MWE/mini.hg37.ped /mnt/mfs/statgen/guangyou/liftover/MWE/mini.hg37.map\u001b[0m\n",
      "INFO: Workflow liftover (ID=we3ade29951c120e1) is executed successfully with 1 completed step.\n",
      "\n"
     ]
    }
   ],
   "source": [
    "sos run liftover.ipynb liftover\\\n",
    "    --bfiles ~/project/guangyou/data/pops-MWE/1000G.EUR.mini.bed\\\n",
    "    --liftover /mnt/mfs/statgen/guangyou/liftover\\\n",
    "    --chain /mnt/mfs/statgen/guangyou/liftover/hg19ToHg38.over.chain.gz\\\n",
    "    --out /mnt/mfs/statgen/guangyou/liftover/MWE/mini.hg37\\\n",
    "    --container_lmm /mnt/mfs/statgen/containers/lmm.sif"
   ]
  },
  {
   "cell_type": "code",
   "execution_count": null,
   "id": "ca9f9211-e2ca-47bd-aa26-7d62dd1a1f01",
   "metadata": {
    "kernel": "SoS"
   },
   "outputs": [],
   "source": [
    "[global]\n",
    "# Specific number of threads to use\n",
    "parameter: numThreads = 2\n",
    "# For cluster jobs, number commands to run per job\n",
    "parameter: job_size = 1\n",
    "# Wall clock time expected\n",
    "parameter: walltime = \"36h\"\n",
    "# Memory expected\n",
    "parameter: mem = \"30G\"\n",
    "# Plink provider\n",
    "parameter: container_lmm = 'statisticalgenetics/lmm:2.4'"
   ]
  },
  {
   "cell_type": "code",
   "execution_count": null,
   "id": "356b6c63-691a-45da-b86c-e8d9c62f867b",
   "metadata": {
    "kernel": "SoS"
   },
   "outputs": [],
   "source": [
    "# Merge all the *.bim files into a single file. Needs to be run once per type of data (e.g. genotype, exome)\n",
    "[liftover]\n",
    "# Path of liftover program \n",
    "parameter: liftover = str\n",
    "# Path of the chain file\n",
    "parameter: chain = path\n",
    "# Path to the *.bim/bed/fam files to liftover\n",
    "parameter: bfiles = paths\n",
    "# Output prefix\n",
    "parameter: out = path\n",
    "input: bfiles\n",
    "output: f\"{out}.ped\",f\"{out}.map\"\n",
    "task: trunk_workers = job_size, walltime = walltime, mem = mem, cores = numThreads, tags = f'{step_name}_{_output:bn}'\n",
    "bash: expand= \"${ }\", stderr = f'{step_name}.stderr', stdout = f'{step_name}.stdout' \n",
    "    # bed to ped\n",
    "    plink --bfile  ${_input:n} --recode --out ${out}\n",
    "    # liftover\n",
    "    ${liftover}/liftOverPlink.py -m ${_output[1]} -p ${_output[0]} -o ${_output[0]:d}/hgdp_hg38 -c ${chain} -e ${liftover}/liftOver\n",
    "    # ped to bed\n",
    "    plink --file ${_output[0]:d}/hgdp_hg38 --make-bed  --allow-extra-chr --chr 1-22 --out ${_output[0]:d}/hgdp_hg38"
   ]
  }
 ],
 "metadata": {
  "kernelspec": {
   "display_name": "SoS",
   "language": "sos",
   "name": "sos"
  },
  "language_info": {
   "codemirror_mode": "sos",
   "file_extension": ".sos",
   "mimetype": "text/x-sos",
   "name": "sos",
   "nbconvert_exporter": "sos_notebook.converter.SoS_Exporter",
   "pygments_lexer": "sos"
  },
  "sos": {
   "kernels": [
    [
     "Bash",
     "calysto_bash",
     "Bash",
     "#E6EEFF",
     ""
    ],
    [
     "SoS",
     "sos",
     "",
     "",
     "sos"
    ]
   ],
   "version": "0.22.3"
  }
 },
 "nbformat": 4,
 "nbformat_minor": 5
}
