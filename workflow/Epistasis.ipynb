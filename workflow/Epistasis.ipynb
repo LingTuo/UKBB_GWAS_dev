{
 "cells": [
  {
   "cell_type": "markdown",
   "metadata": {
    "kernel": "SoS"
   },
   "source": [
    "# Epistasis \n",
    "\n",
    "## Aim\n",
    "\n",
    "This notebook uses plink2 option to evaluate epistasis (gene-gene interaction)"
   ]
  },
  {
   "cell_type": "code",
   "execution_count": null,
   "metadata": {
    "kernel": "SoS"
   },
   "outputs": [],
   "source": [
    "[global]\n",
    "# the output directory for generated files\n",
    "parameter: cwd = path\n",
    "# Genotype files in plink binary file\n",
    "parameter: bfile = path\n",
    "# Specific phenotype file for analysis FID, IID and affection status\n",
    "parameter: phenoFile =path\n",
    "# For cluster jobs, number commands to run per job\n",
    "parameter: job_size = 1\n",
    "# Specific number of threads to use\n",
    "parameter: numThreads = 10\n",
    "#Load the plink module in the cluster\n",
    "parameter: plink_module = '''\n",
    "        module load PLINK/1.90-beta5.3 \n",
    "        echo \"Module plink loaded\"\n",
    "        {cmd}'''"
   ]
  },
  {
   "cell_type": "code",
   "execution_count": null,
   "metadata": {
    "kernel": "SoS"
   },
   "outputs": [],
   "source": [
    "[maf]\n",
    "input: bfile\n",
    "output: f'{cwd}/{phenoFile:bn}.maf.frq.cc'\n",
    "task: trunk_workers = 1, walltime = '10h', mem = '20G', cores = numThreads, tags = f'{step_name}_{_output[0]:bn}'\n",
    "bash: expand= \"${ }\", stderr = f'{_output[0]:n}.stderr', stdout = f'{_output[0]:n}.stdout', template = '{cmd}' if executable('plink').target_exists() else plink_module\n",
    "    plink \\\n",
    "      --bfile ${bfile:n} \\\n",
    "      --pheno ${phenoFile} --1\\\n",
    "      --freq case-control \\\n",
    "      --threads ${numThreads} \\\n",
    "      --out ${_output[0]:nn} "
   ]
  },
  {
   "cell_type": "code",
   "execution_count": null,
   "metadata": {
    "kernel": "SoS"
   },
   "outputs": [],
   "source": [
    "[epistasis]\n",
    "# The file with the interactions to be analyzed\n",
    "parameter: setFile = path\n",
    "input: bfile, setFile\n",
    "output: f'{cwd}/{phenoFile:bn}.epi.cc'\n",
    "task: trunk_workers = 1, walltime = '15h', mem = '40G', cores = numThreads, tags = f'{step_name}_{_output[0]:bn}'\n",
    "bash: expand= \"${ }\", stderr = f'{_output[0]:n}.stderr', stdout = f'{_output[0]:n}.stdout', template = '{cmd}' if executable('plink').target_exists() else plink_module\n",
    "    plink \\\n",
    "      --bfile ${bfile:n} \\\n",
    "      --pheno ${phenoFile} --1\\\n",
    "      --epistasis set-by-set \\\n",
    "      --epi1 0.05 \\\n",
    "      --set-test\\\n",
    "      --set ${setFile} \\\n",
    "      --threads ${numThreads} \\\n",
    "      --out ${_output[0]:nn} "
   ]
  },
  {
   "cell_type": "code",
   "execution_count": null,
   "metadata": {
    "kernel": "SoS"
   },
   "outputs": [],
   "source": [
    "[fast_epistasis]\n",
    "input: bfile\n",
    "output: f'{cwd}/{phenoFile:bn}.fast.epi.cc'\n",
    "task: trunk_workers = 1, walltime = '15h', mem = '80G', cores = numThreads, tags = f'{step_name}_{_output[0]:bn}'\n",
    "bash: expand= \"${ }\", stderr = f'{_output[0]:n}.stderr', stdout = f'{_output[0]:n}.stdout', template = '{cmd}' if executable('plink').target_exists() else plink_module\n",
    "    plink \\\n",
    "      --bfile ${bfile:n} \\\n",
    "      --pheno ${phenoFile} --1\\\n",
    "      --fast-epistasis boost \\\n",
    "      --epi1 5e-06 \\\n",
    "      --epi2 5e-06 \\\n",
    "      --threads ${numThreads} \\\n",
    "      --out ${_output[0]:nn} "
   ]
  }
 ],
 "metadata": {
  "kernelspec": {
   "display_name": "SoS",
   "language": "sos",
   "name": "sos"
  },
  "language_info": {
   "codemirror_mode": "sos",
   "file_extension": ".sos",
   "mimetype": "text/x-sos",
   "name": "sos",
   "nbconvert_exporter": "sos_notebook.converter.SoS_Exporter",
   "pygments_lexer": "sos"
  },
  "sos": {
   "kernels": [
    [
     "SoS",
     "sos",
     "",
     ""
    ]
   ],
   "version": "0.21.12"
  }
 },
 "nbformat": 4,
 "nbformat_minor": 4
}
