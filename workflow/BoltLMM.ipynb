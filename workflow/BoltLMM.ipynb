{
 "cells": [
  {
   "cell_type": "markdown",
   "metadata": {
    "kernel": "SoS"
   },
   "source": [
    "# BOLT-LMM analyses for UK Biobank data\n",
    "\n",
    "For binary and quantitative traits, works with BOLT-LMM version 2.3.4."
   ]
  },
  {
   "cell_type": "markdown",
   "metadata": {
    "kernel": "SoS"
   },
   "source": [
    "## Aim"
   ]
  },
  {
   "cell_type": "markdown",
   "metadata": {
    "kernel": "SoS"
   },
   "source": [
    "This pipeline was initially developed to perfom genetic association analysis using BOLT-LMM software and UK Biobank imputed data of ~500K invidivuals, although it can be used to analyze other phenotypes."
   ]
  },
  {
   "cell_type": "markdown",
   "metadata": {
    "kernel": "SoS"
   },
   "source": [
    "## Method and workflow overview"
   ]
  },
  {
   "cell_type": "markdown",
   "metadata": {
    "kernel": "SoS"
   },
   "source": [
    "1. Download data from UKB: phenotype, genotypes files (`.fam`,`.bed`, `.bim`) and imputed genotypes (`.bgen`, `.bgi`, `.sample`)\n",
    "2. Install BOLT-LMM. To install from source code follow instructions here: https://data.broadinstitute.org/alkesgroup/BOLT-LMM/#x1-70002.2\n",
    "    - Supporting files such as LD score file and genetic map file can be found [in the installation bundle](https://data.broadinstitute.org/alkesgroup/BOLT-LMM/downloads/BOLT-LMM_v2.3.4.tar.gz).\n",
    "3. Run BOLT-LMM analysis to obtain summary statistics for association analysis."
   ]
  },
  {
   "cell_type": "markdown",
   "metadata": {
    "kernel": "SoS"
   },
   "source": [
    "## Input data"
   ]
  },
  {
   "cell_type": "markdown",
   "metadata": {
    "kernel": "SoS"
   },
   "source": [
    "1. Genotype file for constructing the GRM (genetic relationship matrix) formated as a plink binary file `(.bed/.bim/.fam)` \n",
    "    - `--bfile=prefix`\n",
    "2. Reference genetic maps \n",
    "    - `--geneticMapFile=tables/genetic_map_hg##.txt.gz`\n",
    "3. Imputed genotype dosages in `.bgen` format \n",
    "    - `--bgenFile` and ` --sampleFile`\n",
    "4. Phenotype file (white space delimited file with column headers, first two columns should be FID and IID) specify files by options `--phenoFile` and the phenotype to be analized by `--phenoCol`\n",
    "5. Covariates file (same format as phenoFile) specify them by `--covarFile` for qualitative covariates use `--covarCol` and for quantitative `--qCovarCol`. If `--covarFile` is not specified then phenotype file will be used as covariate file. Use `--covarMaxLevels` to specify the number of categories of a qualitative covariate. To specify an array of quantitative covariates use `--qCovarCol PC{1:20}`\n",
    "\n",
    "Note: reference genome used **GRCh37/hg19**"
   ]
  },
  {
   "cell_type": "markdown",
   "metadata": {
    "kernel": "SoS"
   },
   "source": [
    "## Output data"
   ]
  },
  {
   "cell_type": "markdown",
   "metadata": {
    "kernel": "SoS"
   },
   "source": [
    "For a complete description on bolt commands go to: http://manpages.ubuntu.com/manpages/eoan/en/man1/bolt.1.html\n",
    "```\n",
    "--statsFile arg\n",
    "  output file for assoc stats at PLINK genotypes\n",
    "  \n",
    "--statsFileBgenSnps arg\n",
    "  output file for assoc stats at BGEN-format genotypes\n",
    "```"
   ]
  },
  {
   "cell_type": "markdown",
   "metadata": {
    "kernel": "SoS"
   },
   "source": [
    "## Command interface"
   ]
  },
  {
   "cell_type": "code",
   "execution_count": 10,
   "metadata": {
    "kernel": "Bash"
   },
   "outputs": [
    {
     "name": "stdout",
     "output_type": "stream",
     "text": [
      "usage: sos run BoltLMM.ipynb [workflow_name | -t targets] [options] [workflow_options]\n",
      "  workflow_name:        Single or combined workflows defined in this script\n",
      "  targets:              One or more targets to generate\n",
      "  options:              Single-hyphen sos parameters (see \"sos run -h\" for details)\n",
      "  workflow_options:     Double-hyphen workflow-specific parameters\n",
      "\n",
      "Workflows:\n",
      "  bolt\n",
      "\n",
      "Global Workflow Options:\n",
      "  --cwd VAL (as path, required)\n",
      "                        the output directory for generated files\n",
      "  --sampleFile VAL (as path, required)\n",
      "                        Path to sample file\n",
      "  --bfile VAL (as path, required)\n",
      "                        Genotype files in plink binary this is used for\n",
      "                        computing the GRM\n",
      "  --bgenFile  paths\n",
      "\n",
      "                        Path to bgen files\n",
      "  --phenoFile VAL (as path, required)\n",
      "                        Phenotype file for quantitative trait (BMI)\n",
      "  --phenoCol VAL (as str, required)\n",
      "                        Phenotype to be analyzed (specify the column)\n",
      "  --covarFile . (as path)\n",
      "                        Covariate file path. Will use phenoFile if empty\n",
      "  --covarCol  (as list)\n",
      "                        Qualitative covariates to be used in the analysis\n",
      "  --covarMaxLevels VAL (as int, required)\n",
      "                        Maximum categories of covariates allowed\n",
      "  --qCovarCol VAL VAL ... (as type, required)\n",
      "                        Quantitative covariates to be used in the analysis\n",
      "  --LDscoresFile VAL (as path, required)\n",
      "                        Path to LDscore file for european population\n",
      "  --geneticMapFile VAL (as path, required)\n",
      "                        Path to genetic map file used to interpolate genetic map\n",
      "                        coordinates from SNP physical (base pair) positions\n",
      "  --numThreads VAL (as int, required)\n",
      "                        Specific number of threads to use\n",
      "  --bgenMinMAF VAL (as float, required)\n",
      "                        Minimum MAF to be used\n",
      "  --bgenMinINFO VAL (as float, required)\n",
      "                        Mimimum info score to be used\n",
      "  --lmm-option lmm\n",
      "                        LMM option: lmm, lmmInfOnly, and lmmForceNonInf\n",
      "  --job-size 1 (as int)\n",
      "                        For cluster jobs, number commands to run per job\n",
      "\n",
      "Sections\n",
      "  bolt:\n"
     ]
    }
   ],
   "source": [
    "sos run BoltLMM.ipynb -h"
   ]
  },
  {
   "cell_type": "markdown",
   "metadata": {
    "kernel": "SoS"
   },
   "source": [
    "## Global parameter setting"
   ]
  },
  {
   "cell_type": "code",
   "execution_count": 1,
   "metadata": {
    "kernel": "SoS"
   },
   "outputs": [],
   "source": [
    "[global]\n",
    "# the output directory for generated files\n",
    "parameter: cwd = path\n",
    "# Path to sample file\n",
    "parameter: sampleFile = path\n",
    "# Genotype files in plink binary this is used for computing the GRM\n",
    "parameter: bfile = path\n",
    "# Path to bgen files \n",
    "parameter: bgenFile = paths\n",
    "# Phenotype file for quantitative trait (BMI)\n",
    "parameter: phenoFile = path\n",
    "# Phenotype to be analyzed (specify the column)\n",
    "parameter: phenoCol = str\n",
    "# Covariate file path. Will use phenoFile if empty\n",
    "parameter: covarFile = path('.')\n",
    "# Qualitative covariates to be used in the analysis\n",
    "parameter: covarCol = []\n",
    "# Maximum categories of covariates allowed \n",
    "parameter: covarMaxLevels = int\n",
    "# Quantitative covariates to be used in the analysis\n",
    "parameter: qCovarCol = list\n",
    "# Path to LDscore file for reference population\n",
    "parameter: LDscoresFile = path\n",
    "# Path to genetic map file used to interpolate genetic map coordinates from SNP physical (base pair) positions\n",
    "parameter: geneticMapFile = path\n",
    "# Specific number of threads to use\n",
    "parameter: numThreads = int\n",
    "# Minimum MAF to be used\n",
    "parameter: bgenMinMAF = float\n",
    "# Mimimum info score to be used\n",
    "parameter: bgenMinINFO = float\n",
    "# LMM option: lmm, lmmInfOnly, and lmmForceNonInf\n",
    "parameter: lmm_option = 'lmm'\n",
    "# For cluster jobs, number commands to run per job\n",
    "parameter: job_size = 1\n",
    "\n",
    "if not covarFile.is_file():\n",
    "    covarFile = phenoFile"
   ]
  },
  {
   "cell_type": "markdown",
   "metadata": {
    "kernel": "SoS"
   },
   "source": [
    "## Running BOLT-LMM\n",
    "\n",
    "```\n",
    "JOB_OPT='-j 2'\n",
    "```\n",
    "\n",
    "On a minimal working example (MWE) dataset,\n",
    "\n",
    "```\n",
    "sos run BoltLMM.ipynb bolt \\\n",
    "    --cwd output \\\n",
    "    --bfile data/genotypes \\\n",
    "    --sampleFile data/imputed_genotypes.sample \\\n",
    "    --bgenFile data/imputed_genotypes_chr*.bgen \\\n",
    "    --phenoFile data/phenotypes.txt \\\n",
    "    --LDscoresFile BOLT-LMM_v2.3.4/tables/LDSCORE.1000G_EUR.tab.gz \\\n",
    "    --geneticMapFile BOLT-LMM_v2.3.4/tables/genetic_map_hg19_withX.txt.gz \\\n",
    "    --phenoCol BMI \\\n",
    "    --covarCol SEX \\\n",
    "    --covarMaxLevels 10 \\\n",
    "    --qCovarCol AGE \\\n",
    "    --numThreads 5 \\\n",
    "    --bgenMinMAF 0.001 \\\n",
    "    --bgenMinINFO 0.1 \\\n",
    "    --lmm-option none \\\n",
    "    $JOB_OPT\n",
    "```\n",
    "\n",
    "Please note that the command above is only meant to demonstrate the usage of the pipeline. Data will be generated to a folder called `output`. We set `--lmm-option` to `none` to not run LMM on this minimal data-set. In practice we will definitely want to use one of the LMM options in BoltLMM. Default is `lmm` switch in `bolt` if you don't specify `--lmm-option`.\n",
    "\n",
    "### Run workflow on a cluster\n",
    "\n",
    "The shell variable `JOB_OPT` was set to `-j 2`. That is, run 2 jobs in parallel on a local computer (each using 5 threads due to `--numThreads 5`).\n",
    "\n",
    "On cluster we use a job template, and configure `JOB_OPT` as follows: \n",
    "\n",
    "```\n",
    "JOB_OPT=\"-c farnam.yml -q farnam -J 40\"\n",
    "```\n",
    "\n",
    "Here we use task queue `farnam` configured in file `farnam.yml`. We allow for at most 40 jobs in the cluster job queue."
   ]
  },
  {
   "cell_type": "markdown",
   "metadata": {
    "kernel": "SoS"
   },
   "source": [
    "## Workflow implementation details\n",
    "\n",
    "**A note for developers**: it is important to have input and output for each step. Input files and output files are best derived from one another.\n",
    "\n",
    "\n",
    "BOLT-LMM software computes statistics for testing association between phenotypes and genotypes using a linear mixed model\n",
    "\n",
    "\n",
    "```\n",
    "--bfile = accepts genotype files in PLINK binary format (.fam, .bed, .bim)\n",
    "--geneticMapFile = Oxford-format file for interpolating genetic distances: tables/genetic_map_hg##.txt.gz\n",
    "--phenoFile = phenotype file (header required; FII and IID must be first two columns)\n",
    "--phenoCol = phenotype columns header\n",
    "--covarFile = covariate file (header required; FII and IID must be first two columns)\n",
    "--covarCol = categorical covariate column(s); for >1, use multiple --covarCol and/or {i:j} expansion\n",
    "--qcovarCol = quantitative covariate column(s); for  >1, use multiple --qCovarCol and/or {i:j} expansion\n",
    "--lmm = compute assoc stats under the inf model and with Bayesian non-inf prior (VB approx), if power gain expected\n",
    "--modelSnps = file(s) listing SNPs to use in model (i.e., GRM) (default: use all non-excluded SNPs)\n",
    "--LDscoresFile = LD Scores for calibration of Bayesian assoc stats: tables/LDSCORE.1000G_EUR.tab.g\n",
    "--numThreads = number of computational threads\n",
    "--statsFile = output file for assoc stats at PLINK genotypes\n",
    "--bgenFile = file(s) containing Oxford BGEN-format genotypes to test for association\n",
    "--sampleFile = file containing Oxford sample file corresponding to BGEN file(s)\n",
    "--bgenMinMAF = MAF threshold on Oxford BGEN-format genotypes; lower-MAF SNPs will be ignored\n",
    "--bgenMinINFO = INFO threshold on Oxford BGEN-format genotypes; lower-INFO SNPs will be ignored\n",
    "--statsFileBgenSNPs = output file for assoc stats at BGEN-format genotypes\n",
    "```\n",
    "\n",
    "It is important to know that BOLT-LMMv2.3.4 accepts bgen files only in 8bit formatting as stated below:\n",
    "\n",
    "*WARNING: The BGEN format comprises a few sub-formats; we have only implemented support for the versions (and specific data layouts) used in the UK Biobank N=150K and N=500K releases. In particular, for BGEN v1.2, BOLT-LMM currently only supports the 8-bit encoding used for the UK Biobank N=500K data. (Starting with BOLT-LMM v2.3.3, missing values in BGEN v1.2 data are now allowed.)*"
   ]
  },
  {
   "cell_type": "code",
   "execution_count": 2,
   "metadata": {
    "kernel": "SoS"
   },
   "outputs": [],
   "source": [
    "[bolt]\n",
    "depends: executable(\"bolt\")\n",
    "input: bgenFile, group_by = 1\n",
    "output: f'{cwd}/{_input:bn}.{phenoFile:bn}.boltlmm.snp_stats.gz'\n",
    "task: trunk_workers = 1, trunk_size = job_size, walltime = '48h', mem = '60G', cores = numThreads, tags = f'{step_name}_{_output:bn}'\n",
    "bash: expand = \"${ }\", stderr = f'{_output:n}.stderr', stdout = f'{_output:n}.stdout'\n",
    "    bolt \\\n",
    "    --bfile=${bfile} \\\n",
    "    --phenoFile=${phenoFile} \\\n",
    "    --phenoCol=${phenoCol} \\\n",
    "    --covarFile=${covarFile} \\\n",
    "    ${' '.join(['--covarCol=%s ' % x for x in covarCol if x is not None])} \\\n",
    "    --covarMaxLevels=${covarMaxLevels} \\\n",
    "    ${' '.join(['--qCovarCol=%s ' % x for x in qCovarCol if x is not None])} \\\n",
    "    --LDscoresFile=${LDscoresFile} \\\n",
    "    --geneticMapFile=${geneticMapFile} \\\n",
    "    ${('--' + lmm_option) if lmm_option in ['lmm', 'lmmInfOnly', 'lmmForceNonInf'] else ''} \\\n",
    "    --statsFile=${_output:nn}.stats.gz \\\n",
    "    --numThreads=${numThreads} \\\n",
    "    --bgenFile=${_input} \\\n",
    "    --bgenMinMAF=${bgenMinMAF} \\\n",
    "    --bgenMinINFO=${bgenMinINFO} \\\n",
    "    --sampleFile=${sampleFile} \\\n",
    "    --statsFileBgenSnps=${_output} \\\n",
    "    --verboseStats"
   ]
  },
  {
   "cell_type": "markdown",
   "metadata": {
    "kernel": "SoS"
   },
   "source": [
    "## Result"
   ]
  },
  {
   "cell_type": "code",
   "execution_count": 5,
   "metadata": {
    "kernel": "SoS"
   },
   "outputs": [
    {
     "data": {
      "text/html": [
       "<div class=\"sos_hint\">> /home/gw/tmp/10-Jun-2020/MWE_test/output/imputed_genotypes_chr21.phenotypes.boltlmm.snp_stats.gz (759 B):</div>"
      ],
      "text/plain": [
       "\n",
       "> /home/gw/tmp/10-Jun-2020/MWE_test/output/imputed_genotypes_chr21.phenotypes.boltlmm.snp_stats.gz (759 B):"
      ]
     },
     "metadata": {},
     "output_type": "display_data"
    },
    {
     "name": "stdout",
     "output_type": "stream",
     "text": [
      "SNP\tCHR\tBP\tGENPOS\tALLELE1\tALLELE0\tA1FREQ\tINFO\tCHISQ_LINREG\tP_LINREG\n",
      "rs79945276\t21\t48096251\t0.646473\tT\tG\t0.0640784\t0.96222\t4.23679\t4.0E-02\n",
      "rs12481825\t21\t48096617\t0.646484\tA\tC\t0.0153529\t0.977965\t0.712511\t4.0E-01\n",
      "rs61504104\t21\t48096920\t0.646493\tC\tT\t0.0887647\t0.975897\t0.0796273\t7.8E-01\n",
      "rs55777714\t21\t48097101\t0.646499\tT\tC\t0.169882\t0.959507\t0.128473\t7.2E-01\n"
     ]
    }
   ],
   "source": [
    "%preview output/imputed_genotypes_chr21.phenotypes.boltlmm.snp_stats.gz"
   ]
  }
 ],
 "metadata": {
  "kernelspec": {
   "display_name": "SoS",
   "language": "sos",
   "name": "sos"
  },
  "language_info": {
   "codemirror_mode": "sos",
   "file_extension": ".sos",
   "mimetype": "text/x-sos",
   "name": "sos",
   "nbconvert_exporter": "sos_notebook.converter.SoS_Exporter",
   "pygments_lexer": "sos"
  },
  "sos": {
   "kernels": [
    [
     "Bash",
     "bash",
     "Bash",
     "#E6EEFF",
     ""
    ],
    [
     "SoS",
     "sos",
     "",
     "",
     "sos"
    ]
   ],
   "version": "0.21.9"
  }
 },
 "nbformat": 4,
 "nbformat_minor": 4
}
