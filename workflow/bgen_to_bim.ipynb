{
 "cells": [
  {
   "cell_type": "markdown",
   "metadata": {
    "kernel": "SoS"
   },
   "source": [
    "## Obtain .bim files from UKB bgen files"
   ]
  },
  {
   "cell_type": "code",
   "execution_count": null,
   "metadata": {
    "kernel": "SoS"
   },
   "outputs": [],
   "source": [
    "[global]\n",
    "# Set working directory\n",
    "parameter: cwd = path\n",
    "# Specify bgen files path\n",
    "parameter: genoFile = paths\n",
    "# Specify sample file associated to bgen\n",
    "parameter: sampleFile = path\n",
    "# Software container option\n",
    "parameter: container_lmm = 'statisticalgenetics/lmm:2.3'\n",
    "# For cluster jobs, number commands to run per job\n",
    "parameter: job_size = 1\n",
    "# Wall clock time expected\n",
    "parameter: walltime = \"15h\"\n",
    "# Memory expected\n",
    "parameter: mem = \"30G\"\n",
    "# Number of threads\n",
    "parameter: numThreads = 10"
   ]
  },
  {
   "cell_type": "code",
   "execution_count": null,
   "metadata": {
    "kernel": "SoS"
   },
   "outputs": [],
   "source": [
    "# Get the bim file from bgen files\n",
    "[default]\n",
    "input: genoFile, group_by=1\n",
    "output: f'{cwd}/{_input:bn}.bim'\n",
    "task: trunk_workers = 1, walltime = walltime, mem = mem, cores = numThreads, tags = f'{step_name}_{_output:bn}'\n",
    "bash: container=container_lmm, expand= \"${ }\", stderr = f'{_output:n}.stderr', stdout = f'{_output:n}.stdout'\n",
    "    plink2 \\\n",
    "    --bgen ${_input} ref-first \\\n",
    "    --sample ${sampleFile} \\\n",
    "    --make-just-bim \\\n",
    "    --out ${_output}"
   ]
  },
  {
   "cell_type": "code",
   "execution_count": null,
   "metadata": {
    "kernel": "Bash"
   },
   "outputs": [
    {
     "name": "stdout",
     "output_type": "stream",
     "text": [
      "INFO: Running \u001b[32mdefault\u001b[0m: Get the bim file from bgen files\n"
     ]
    }
   ],
   "source": [
    "UKBB_PATH=/gpfs/gibbs/pi/dewan/data/UKBiobank\n",
    "USER_PATH=/home/dc2325/project\n",
    "cwd=~/scratch60\n",
    "genoFile=`echo $UKBB_PATH/genotype_files/ukb39554_imputeddataset/ukb_imp_chr{1..2}_v3.bgen`\n",
    "sampleFile=$UKBB_PATH/genotype_files/ukb39554_imputeddataset/ukb32285_imputedindiv.sample\n",
    "job_size=1\n",
    "container_lmm=$UKBB_PATH/lmm.sif\n",
    "\n",
    "sos run ~/project/UKBB_GWAS_dev/workflow/bgen_to_bim.ipynb  \\\n",
    "    --cwd $cwd\\\n",
    "    --genoFile $genoFile\\\n",
    "    --sampleFile $sampleFile\\\n",
    "    --job_size $job_size \\\n",
    "    --container_lmm $container_lmm"
   ]
  },
  {
   "cell_type": "code",
   "execution_count": null,
   "metadata": {
    "kernel": "Bash"
   },
   "outputs": [],
   "source": []
  }
 ],
 "metadata": {
  "kernelspec": {
   "display_name": "SoS",
   "language": "sos",
   "name": "sos"
  },
  "language_info": {
   "codemirror_mode": "sos",
   "file_extension": ".sos",
   "mimetype": "text/x-sos",
   "name": "sos",
   "nbconvert_exporter": "sos_notebook.converter.SoS_Exporter",
   "pygments_lexer": "sos"
  },
  "sos": {
   "kernels": [
    [
     "Bash",
     "calysto_bash",
     "Bash",
     "#E6EEFF",
     ""
    ],
    [
     "SoS",
     "sos",
     "",
     "",
     "sos"
    ]
   ],
   "version": "0.21.21"
  }
 },
 "nbformat": 4,
 "nbformat_minor": 4
}
