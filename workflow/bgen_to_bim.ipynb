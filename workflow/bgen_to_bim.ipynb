{
 "cells": [
  {
   "cell_type": "markdown",
   "metadata": {
    "kernel": "SoS"
   },
   "source": [
    "## Obtain .bim files from UKB bgen files"
   ]
  },
  {
   "cell_type": "code",
   "execution_count": null,
   "metadata": {
    "kernel": "SoS"
   },
   "outputs": [],
   "source": [
    "[global]\n",
    "# Set working directory\n",
    "parameter: cwd = path\n",
    "# Specify bgen files path\n",
    "parameter: genoFile = paths\n",
    "# Specify name of the merged bim file\n",
    "parameter: name = str\n",
    "# Software container option\n",
    "parameter: container_lmm = 'statisticalgenetics/lmm:2.3'\n",
    "# For cluster jobs, number commands to run per job\n",
    "parameter: job_size = 1\n",
    "# Wall clock time expected\n",
    "parameter: walltime = \"15h\"\n",
    "# Memory expected\n",
    "parameter: mem = \"30G\"\n",
    "# Number of threads\n",
    "parameter: numThreads = 10"
   ]
  },
  {
   "cell_type": "code",
   "execution_count": null,
   "metadata": {
    "kernel": "SoS"
   },
   "outputs": [],
   "source": [
    "# Get the bim file from bgen files\n",
    "[default_1]\n",
    "input: genoFile, group_by=1\n",
    "output: f'{cwd}/{_input:bn}.bim'\n",
    "task: trunk_workers = 1, walltime = walltime, mem = mem, cores = numThreads, tags = f'{step_name}_{_output:bn}'\n",
    "bash: container=container_lmm, expand= \"${ }\", stderr = f'{_output:n}.stderr', stdout = f'{_output:n}.stdout'\n",
    "    bgenix -g ${_input} -list | awk 'NR>2 { gsub(\"_\",\":\",$1); print $1 }' > ${_output}\n",
    "    cat ${_output} >> ${cwd}/${name}.merged.bim"
   ]
  },
  {
   "cell_type": "code",
   "execution_count": 1,
   "metadata": {
    "kernel": "Bash"
   },
   "outputs": [
    {
     "name": "stdout",
     "output_type": "stream",
     "text": [
      "INFO: Running \u001b[32mdefault_1\u001b[0m: Get the bim file from bgen files\n",
      "\u001b[91mERROR\u001b[0m: \u001b[91m[default_1]: [(id=e908cb1e944796db, index=0)]: Executing script in Singularity returns an error (exitcode=255, stderr=/home/dc2325/scratch60/ukb_imp_chr1_v3.stderr).\n",
      "The script has been saved to /home/dc2325/.sos/d70304b08eb48a43/singularity_run_14432.sh. To reproduce the error please run:\n",
      "\u001b[0m\u001b[32msingularity exec  /gpfs/gibbs/pi/dewan/data/UKBiobank/lmm.sif /bin/bash /home/dc2325/.sos/d70304b08eb48a43/singularity_run_14432.sh\u001b[0m\u001b[91m\n",
      "[(id=e908cb1e944796db, index=1)]: Executing script in Singularity returns an error (exitcode=255, stderr=/home/dc2325/scratch60/ukb_imp_chr2_v3.stderr).\n",
      "The script has been saved to /home/dc2325/.sos/d70304b08eb48a43/singularity_run_14432.sh. To reproduce the error please run:\n",
      "\u001b[0m\u001b[32msingularity exec  /gpfs/gibbs/pi/dewan/data/UKBiobank/lmm.sif /bin/bash /home/dc2325/.sos/d70304b08eb48a43/singularity_run_14432.sh\u001b[0m\u001b[91m\u001b[0m\n"
     ]
    },
    {
     "ename": "",
     "evalue": "1",
     "output_type": "error",
     "traceback": []
    }
   ],
   "source": [
    "UKBB_PATH=/gpfs/gibbs/pi/dewan/data/UKBiobank\n",
    "USER_PATH=/home/dc2325/project\n",
    "cwd=~/scratch60\n",
    "genoFile=`echo $UKBB_PATH/genotype_files/ukb39554_imputeddataset/ukb_imp_chr{1..2}_v3.bgen`\n",
    "job_size=1\n",
    "container_lmm=$UKBB_PATH/lmm.sif\n",
    "name='imputed_variants'\n",
    "\n",
    "sos run ~/project/UKBB_GWAS_dev/workflow/bgen_to_bim.ipynb default\\\n",
    "    --cwd $cwd\\\n",
    "    --genoFile $genoFile\\\n",
    "    --job_size $job_size \\\n",
    "    --name $name\\\n",
    "    --container_lmm $container_lmm"
   ]
  },
  {
   "cell_type": "code",
   "execution_count": 2,
   "metadata": {
    "kernel": "Bash"
   },
   "outputs": [
    {
     "name": "stdout",
     "output_type": "stream",
     "text": [
      "\n",
      "Welcome to bgenix\n",
      "(version: 1.1.6, revision )\n",
      "\n",
      "(C) 2009-2017 University of Oxford\n",
      "\n",
      "Building query                                              :  (1255683/?,1.4s,895982.6/s)\n",
      "\n",
      "Thank you for using bgenix.\n"
     ]
    }
   ],
   "source": [
    "bgenix -g /gpfs/gibbs/pi/dewan/data/UKBiobank/genotype_files/ukb39554_imputeddataset/ukb_imp_chr22_v3.bgen -list > ~/out.test"
   ]
  },
  {
   "cell_type": "code",
   "execution_count": null,
   "metadata": {
    "kernel": "Bash"
   },
   "outputs": [],
   "source": []
  }
 ],
 "metadata": {
  "kernelspec": {
   "display_name": "SoS",
   "language": "sos",
   "name": "sos"
  },
  "language_info": {
   "codemirror_mode": "sos",
   "file_extension": ".sos",
   "mimetype": "text/x-sos",
   "name": "sos",
   "nbconvert_exporter": "sos_notebook.converter.SoS_Exporter",
   "pygments_lexer": "sos"
  },
  "sos": {
   "kernels": [
    [
     "Bash",
     "calysto_bash",
     "Bash",
     "#E6EEFF",
     ""
    ],
    [
     "SoS",
     "sos",
     "",
     "",
     "sos"
    ]
   ],
   "version": "0.21.21"
  }
 },
 "nbformat": 4,
 "nbformat_minor": 4
}
