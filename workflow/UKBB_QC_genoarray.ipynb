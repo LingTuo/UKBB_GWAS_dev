{
 "cells": [
  {
   "cell_type": "markdown",
   "id": "e16da4aa-5fc6-4c09-a25a-8d1f94f34d2c",
   "metadata": {
    "kernel": "SoS",
    "tags": []
   },
   "source": [
    "# Genotype QC UKBB data"
   ]
  },
  {
   "cell_type": "markdown",
   "id": "e627077d-3ffb-4273-93c1-d3554764fb39",
   "metadata": {
    "kernel": "SoS"
   },
   "source": [
    "## Aim\n",
    "\n",
    "Generate a set of Qc'ed genotype array data for the whole dataset of the UKBB "
   ]
  },
  {
   "cell_type": "markdown",
   "id": "b991a5a2-0d3c-4ddb-8639-9be5df96780c",
   "metadata": {
    "kernel": "SoS"
   },
   "source": [
    "## Output file\n",
    "\n",
    "Final bed file with all the QC steps located here:\n",
    "\n",
    "`~/UKBiobank/genotype_files_processed/083021_sample_variant_qc_final/cache/UKB_genotypedatadownloaded083019.083021_sample_variant_qc_final.filtered.extracted.bed`"
   ]
  },
  {
   "cell_type": "markdown",
   "id": "129eb758-b148-4fa2-a7da-fdbc5f140098",
   "metadata": {
    "kernel": "SoS"
   },
   "source": [
    "# Variant QC summary\n",
    "\n",
    "Original file downloaded from the UKBB \n",
    "\n",
    "~/UKBiobank_Yale_transfer/pleiotropy_geneticfiles/UKB_originalgenotypefilesdownloaded083019/UKB_genotypedatadownloaded083019.bed\n",
    "\n",
    "- Starting number of variants: 784,256 (starting with only autosomal variants)\n",
    "- Starting number of individuals: 488,377 (individuals that have both genotype and phenotype information)\n",
    "\n",
    "* Autosomal variants --> 784,256\n",
    "* Covered by both arrays (array : (0/1/2) Presence of SNP on genotyping arrays 0=BiLEVE, 1=Axiom, 2=both) --> 733,322\n",
    "* Batch level QC (BATCH_qc : (0/1) For each batch (Batch_b001-b095,UKBiLEVEAX_b1-b11), SNP passed all QC tests (no/yes)) --> 687,004\n",
    "* SNPs only (remove indels) --> 674,489"
   ]
  },
  {
   "cell_type": "code",
   "execution_count": 11,
   "id": "6f2f2519-3b17-474d-ba89-0302a5241589",
   "metadata": {
    "kernel": "R",
    "tags": []
   },
   "outputs": [
    {
     "name": "stderr",
     "output_type": "stream",
     "text": [
      "── \u001b[1mAttaching packages\u001b[22m ─────────────────────────────────────── tidyverse 1.3.1 ──\n",
      "\n",
      "\u001b[32m✔\u001b[39m \u001b[34mggplot2\u001b[39m 3.3.5     \u001b[32m✔\u001b[39m \u001b[34mpurrr  \u001b[39m 0.3.4\n",
      "\u001b[32m✔\u001b[39m \u001b[34mtibble \u001b[39m 3.1.2     \u001b[32m✔\u001b[39m \u001b[34mdplyr  \u001b[39m 1.0.7\n",
      "\u001b[32m✔\u001b[39m \u001b[34mtidyr  \u001b[39m 1.1.3     \u001b[32m✔\u001b[39m \u001b[34mstringr\u001b[39m 1.4.0\n",
      "\u001b[32m✔\u001b[39m \u001b[34mreadr  \u001b[39m 1.4.0     \u001b[32m✔\u001b[39m \u001b[34mforcats\u001b[39m 0.5.1\n",
      "\n",
      "── \u001b[1mConflicts\u001b[22m ────────────────────────────────────────── tidyverse_conflicts() ──\n",
      "\u001b[31m✖\u001b[39m \u001b[34mdplyr\u001b[39m::\u001b[32mbetween()\u001b[39m   masks \u001b[34mdata.table\u001b[39m::between()\n",
      "\u001b[31m✖\u001b[39m \u001b[34mdplyr\u001b[39m::\u001b[32mfilter()\u001b[39m    masks \u001b[34mstats\u001b[39m::filter()\n",
      "\u001b[31m✖\u001b[39m \u001b[34mdplyr\u001b[39m::\u001b[32mfirst()\u001b[39m     masks \u001b[34mdata.table\u001b[39m::first()\n",
      "\u001b[31m✖\u001b[39m \u001b[34mdplyr\u001b[39m::\u001b[32mlag()\u001b[39m       masks \u001b[34mstats\u001b[39m::lag()\n",
      "\u001b[31m✖\u001b[39m \u001b[34mdplyr\u001b[39m::\u001b[32mlast()\u001b[39m      masks \u001b[34mdata.table\u001b[39m::last()\n",
      "\u001b[31m✖\u001b[39m \u001b[34mpurrr\u001b[39m::\u001b[32mtranspose()\u001b[39m masks \u001b[34mdata.table\u001b[39m::transpose()\n",
      "\n"
     ]
    }
   ],
   "source": [
    "library(tidyverse)"
   ]
  },
  {
   "cell_type": "code",
   "execution_count": 12,
   "id": "f9f0708b-ba2c-4021-8ffd-7993323d6302",
   "metadata": {
    "kernel": "R"
   },
   "outputs": [],
   "source": [
    "setwd('~/UKBiobank/genotype_files_processed')"
   ]
  },
  {
   "cell_type": "markdown",
   "id": "d7d8fe1d-5a46-4ae5-be86-f6e15c23dcd4",
   "metadata": {
    "kernel": "R"
   },
   "source": [
    "## Step 1. Import file needed (ukb_snp_qc.txt)"
   ]
  },
  {
   "cell_type": "code",
   "execution_count": 34,
   "id": "bb2ef4e6-fdae-488e-9a2e-f8b340576713",
   "metadata": {
    "kernel": "R",
    "tags": []
   },
   "outputs": [],
   "source": [
    "ukb_snp_qc <- read.table('~/UKBiobank/data/genotype_files/ukb_snp_qc.txt', header=TRUE, sep=\" \")"
   ]
  },
  {
   "cell_type": "code",
   "execution_count": 35,
   "id": "86bb3b41-3058-45c0-b869-2f453a541c90",
   "metadata": {
    "kernel": "R"
   },
   "outputs": [
    {
     "data": {
      "text/html": [
       "<table class=\"dataframe\">\n",
       "<caption>A data.frame: 6 x 159</caption>\n",
       "<thead>\n",
       "\t<tr><th></th><th scope=col>rs_id</th><th scope=col>affymetrix_snp_id</th><th scope=col>affymetrix_probeset_id</th><th scope=col>chromosome</th><th scope=col>position</th><th scope=col>allele1_ref</th><th scope=col>allele2_alt</th><th scope=col>strand</th><th scope=col>array</th><th scope=col>Batch_b001_qc</th><th scope=col>...</th><th scope=col>PC32_loading</th><th scope=col>PC33_loading</th><th scope=col>PC34_loading</th><th scope=col>PC35_loading</th><th scope=col>PC36_loading</th><th scope=col>PC37_loading</th><th scope=col>PC38_loading</th><th scope=col>PC9_loading.3</th><th scope=col>PC40_loading</th><th scope=col>in_Phasing_Input</th></tr>\n",
       "\t<tr><th></th><th scope=col>&lt;fct&gt;</th><th scope=col>&lt;fct&gt;</th><th scope=col>&lt;fct&gt;</th><th scope=col>&lt;int&gt;</th><th scope=col>&lt;int&gt;</th><th scope=col>&lt;fct&gt;</th><th scope=col>&lt;fct&gt;</th><th scope=col>&lt;fct&gt;</th><th scope=col>&lt;int&gt;</th><th scope=col>&lt;int&gt;</th><th scope=col>...</th><th scope=col>&lt;dbl&gt;</th><th scope=col>&lt;dbl&gt;</th><th scope=col>&lt;dbl&gt;</th><th scope=col>&lt;dbl&gt;</th><th scope=col>&lt;dbl&gt;</th><th scope=col>&lt;dbl&gt;</th><th scope=col>&lt;dbl&gt;</th><th scope=col>&lt;dbl&gt;</th><th scope=col>&lt;dbl&gt;</th><th scope=col>&lt;int&gt;</th></tr>\n",
       "</thead>\n",
       "<tbody>\n",
       "\t<tr><th scope=row>1</th><td>rs28659788 </td><td>Affx-13546538</td><td>AX-32115783</td><td>1</td><td>723307</td><td>C</td><td>G</td><td>+</td><td>0</td><td>1</td><td>...</td><td>         NA</td><td>        NA</td><td>         NA</td><td>         NA</td><td>         NA</td><td>         NA</td><td>         NA</td><td>        NA</td><td>          NA</td><td>0</td></tr>\n",
       "\t<tr><th scope=row>2</th><td>rs116587930</td><td>Affx-35298040</td><td>AX-37361813</td><td>1</td><td>727841</td><td>G</td><td>A</td><td>+</td><td>2</td><td>1</td><td>...</td><td>         NA</td><td>        NA</td><td>         NA</td><td>         NA</td><td>         NA</td><td>         NA</td><td>         NA</td><td>        NA</td><td>          NA</td><td>0</td></tr>\n",
       "\t<tr><th scope=row>3</th><td>rs116720794</td><td>Affx-13637449</td><td>AX-32137419</td><td>1</td><td>729632</td><td>C</td><td>T</td><td>+</td><td>2</td><td>1</td><td>...</td><td>         NA</td><td>        NA</td><td>         NA</td><td>         NA</td><td>         NA</td><td>         NA</td><td>         NA</td><td>        NA</td><td>          NA</td><td>0</td></tr>\n",
       "\t<tr><th scope=row>4</th><td>rs3131972  </td><td>Affx-13945728</td><td>AX-13191280</td><td>1</td><td>752721</td><td>A</td><td>G</td><td>+</td><td>2</td><td>1</td><td>...</td><td>         NA</td><td>        NA</td><td>         NA</td><td>         NA</td><td>         NA</td><td>         NA</td><td>         NA</td><td>        NA</td><td>          NA</td><td>1</td></tr>\n",
       "\t<tr><th scope=row>5</th><td>rs12184325 </td><td>Affx-13963217</td><td>AX-11194291</td><td>1</td><td>754105</td><td>C</td><td>T</td><td>+</td><td>2</td><td>1</td><td>...</td><td>-0.00347144</td><td>0.00589896</td><td>-0.00373881</td><td>-0.00189571</td><td>-0.00286888</td><td>0.000792278</td><td>-0.00191024</td><td>0.00307453</td><td>-0.000410934</td><td>1</td></tr>\n",
       "\t<tr><th scope=row>6</th><td>rs3131962  </td><td>Affx-13995532</td><td>AX-32225497</td><td>1</td><td>756604</td><td>A</td><td>G</td><td>+</td><td>2</td><td>1</td><td>...</td><td>         NA</td><td>        NA</td><td>         NA</td><td>         NA</td><td>         NA</td><td>         NA</td><td>         NA</td><td>        NA</td><td>          NA</td><td>1</td></tr>\n",
       "</tbody>\n",
       "</table>\n"
      ],
      "text/latex": [
       "A data.frame: 6 x 159\n",
       "\\begin{tabular}{r|lllllllllllllllllllll}\n",
       "  & rs\\_id & affymetrix\\_snp\\_id & affymetrix\\_probeset\\_id & chromosome & position & allele1\\_ref & allele2\\_alt & strand & array & Batch\\_b001\\_qc & ... & PC32\\_loading & PC33\\_loading & PC34\\_loading & PC35\\_loading & PC36\\_loading & PC37\\_loading & PC38\\_loading & PC9\\_loading.3 & PC40\\_loading & in\\_Phasing\\_Input\\\\\n",
       "  & <fct> & <fct> & <fct> & <int> & <int> & <fct> & <fct> & <fct> & <int> & <int> & ... & <dbl> & <dbl> & <dbl> & <dbl> & <dbl> & <dbl> & <dbl> & <dbl> & <dbl> & <int>\\\\\n",
       "\\hline\n",
       "\t1 & rs28659788  & Affx-13546538 & AX-32115783 & 1 & 723307 & C & G & + & 0 & 1 & ... &          NA &         NA &          NA &          NA &          NA &          NA &          NA &         NA &           NA & 0\\\\\n",
       "\t2 & rs116587930 & Affx-35298040 & AX-37361813 & 1 & 727841 & G & A & + & 2 & 1 & ... &          NA &         NA &          NA &          NA &          NA &          NA &          NA &         NA &           NA & 0\\\\\n",
       "\t3 & rs116720794 & Affx-13637449 & AX-32137419 & 1 & 729632 & C & T & + & 2 & 1 & ... &          NA &         NA &          NA &          NA &          NA &          NA &          NA &         NA &           NA & 0\\\\\n",
       "\t4 & rs3131972   & Affx-13945728 & AX-13191280 & 1 & 752721 & A & G & + & 2 & 1 & ... &          NA &         NA &          NA &          NA &          NA &          NA &          NA &         NA &           NA & 1\\\\\n",
       "\t5 & rs12184325  & Affx-13963217 & AX-11194291 & 1 & 754105 & C & T & + & 2 & 1 & ... & -0.00347144 & 0.00589896 & -0.00373881 & -0.00189571 & -0.00286888 & 0.000792278 & -0.00191024 & 0.00307453 & -0.000410934 & 1\\\\\n",
       "\t6 & rs3131962   & Affx-13995532 & AX-32225497 & 1 & 756604 & A & G & + & 2 & 1 & ... &          NA &         NA &          NA &          NA &          NA &          NA &          NA &         NA &           NA & 1\\\\\n",
       "\\end{tabular}\n"
      ],
      "text/markdown": [
       "\n",
       "A data.frame: 6 x 159\n",
       "\n",
       "| <!--/--> | rs_id &lt;fct&gt; | affymetrix_snp_id &lt;fct&gt; | affymetrix_probeset_id &lt;fct&gt; | chromosome &lt;int&gt; | position &lt;int&gt; | allele1_ref &lt;fct&gt; | allele2_alt &lt;fct&gt; | strand &lt;fct&gt; | array &lt;int&gt; | Batch_b001_qc &lt;int&gt; | ... ... | PC32_loading &lt;dbl&gt; | PC33_loading &lt;dbl&gt; | PC34_loading &lt;dbl&gt; | PC35_loading &lt;dbl&gt; | PC36_loading &lt;dbl&gt; | PC37_loading &lt;dbl&gt; | PC38_loading &lt;dbl&gt; | PC9_loading.3 &lt;dbl&gt; | PC40_loading &lt;dbl&gt; | in_Phasing_Input &lt;int&gt; |\n",
       "|---|---|---|---|---|---|---|---|---|---|---|---|---|---|---|---|---|---|---|---|---|---|\n",
       "| 1 | rs28659788  | Affx-13546538 | AX-32115783 | 1 | 723307 | C | G | + | 0 | 1 | ... |          NA |         NA |          NA |          NA |          NA |          NA |          NA |         NA |           NA | 0 |\n",
       "| 2 | rs116587930 | Affx-35298040 | AX-37361813 | 1 | 727841 | G | A | + | 2 | 1 | ... |          NA |         NA |          NA |          NA |          NA |          NA |          NA |         NA |           NA | 0 |\n",
       "| 3 | rs116720794 | Affx-13637449 | AX-32137419 | 1 | 729632 | C | T | + | 2 | 1 | ... |          NA |         NA |          NA |          NA |          NA |          NA |          NA |         NA |           NA | 0 |\n",
       "| 4 | rs3131972   | Affx-13945728 | AX-13191280 | 1 | 752721 | A | G | + | 2 | 1 | ... |          NA |         NA |          NA |          NA |          NA |          NA |          NA |         NA |           NA | 1 |\n",
       "| 5 | rs12184325  | Affx-13963217 | AX-11194291 | 1 | 754105 | C | T | + | 2 | 1 | ... | -0.00347144 | 0.00589896 | -0.00373881 | -0.00189571 | -0.00286888 | 0.000792278 | -0.00191024 | 0.00307453 | -0.000410934 | 1 |\n",
       "| 6 | rs3131962   | Affx-13995532 | AX-32225497 | 1 | 756604 | A | G | + | 2 | 1 | ... |          NA |         NA |          NA |          NA |          NA |          NA |          NA |         NA |           NA | 1 |\n",
       "\n"
      ],
      "text/plain": [
       "  rs_id       affymetrix_snp_id affymetrix_probeset_id chromosome position\n",
       "1 rs28659788  Affx-13546538     AX-32115783            1          723307  \n",
       "2 rs116587930 Affx-35298040     AX-37361813            1          727841  \n",
       "3 rs116720794 Affx-13637449     AX-32137419            1          729632  \n",
       "4 rs3131972   Affx-13945728     AX-13191280            1          752721  \n",
       "5 rs12184325  Affx-13963217     AX-11194291            1          754105  \n",
       "6 rs3131962   Affx-13995532     AX-32225497            1          756604  \n",
       "  allele1_ref allele2_alt strand array Batch_b001_qc ... PC32_loading\n",
       "1 C           G           +      0     1             ...          NA \n",
       "2 G           A           +      2     1             ...          NA \n",
       "3 C           T           +      2     1             ...          NA \n",
       "4 A           G           +      2     1             ...          NA \n",
       "5 C           T           +      2     1             ... -0.00347144 \n",
       "6 A           G           +      2     1             ...          NA \n",
       "  PC33_loading PC34_loading PC35_loading PC36_loading PC37_loading PC38_loading\n",
       "1         NA            NA           NA           NA           NA           NA \n",
       "2         NA            NA           NA           NA           NA           NA \n",
       "3         NA            NA           NA           NA           NA           NA \n",
       "4         NA            NA           NA           NA           NA           NA \n",
       "5 0.00589896   -0.00373881  -0.00189571  -0.00286888  0.000792278  -0.00191024 \n",
       "6         NA            NA           NA           NA           NA           NA \n",
       "  PC9_loading.3 PC40_loading in_Phasing_Input\n",
       "1         NA              NA 0               \n",
       "2         NA              NA 0               \n",
       "3         NA              NA 0               \n",
       "4         NA              NA 1               \n",
       "5 0.00307453    -0.000410934 1               \n",
       "6         NA              NA 1               "
      ]
     },
     "metadata": {},
     "output_type": "display_data"
    },
    {
     "data": {
      "text/html": [
       "805426"
      ],
      "text/latex": [
       "805426"
      ],
      "text/markdown": [
       "805426"
      ],
      "text/plain": [
       "[1] 805426"
      ]
     },
     "metadata": {},
     "output_type": "display_data"
    }
   ],
   "source": [
    "# variants genotyped and thus listed in this dataframe = 805,426\n",
    "head(ukb_snp_qc)\n",
    "nrow(ukb_snp_qc)"
   ]
  },
  {
   "cell_type": "markdown",
   "id": "dbaafb54-a43d-48a4-941b-bcbf3abd0860",
   "metadata": {
    "kernel": "R"
   },
   "source": [
    "## Step 2. Select autosomal variants only  "
   ]
  },
  {
   "cell_type": "code",
   "execution_count": 37,
   "id": "dc1b8400-6f65-41ca-bf7f-1e9844a815ef",
   "metadata": {
    "kernel": "R"
   },
   "outputs": [
    {
     "data": {
      "text/html": [
       "784256"
      ],
      "text/latex": [
       "784256"
      ],
      "text/markdown": [
       "784256"
      ],
      "text/plain": [
       "[1] 784256"
      ]
     },
     "metadata": {},
     "output_type": "display_data"
    }
   ],
   "source": [
    "# subset dataframe \n",
    "\n",
    "data.SNP_QC <-subset(ukb_snp_qc, chromosome %in% 1:22)\n",
    "\n",
    "# autosomal variants listed in dataframe = 784,256\n",
    "nrow(data.SNP_QC)"
   ]
  },
  {
   "cell_type": "code",
   "execution_count": null,
   "id": "9a46f5f3-306c-44fe-8ec6-64431d9f2e00",
   "metadata": {
    "kernel": "R"
   },
   "outputs": [],
   "source": [
    "# create list.nonautosomalvariants for reference\n",
    "\n",
    "list.nonautosomalvariants <-subset(ukb_snp_qc, !chromosome %in% 1:22, select=c(rs_id))\n",
    "outfile.name1 <- \"list.nonautosomalvariants.txt\"\n",
    "write.table(list.nonautosomalvariants, outfile.name1, quote=FALSE, col.names=TRUE, row.names=FALSE, sep=\"\\t\")"
   ]
  },
  {
   "cell_type": "markdown",
   "id": "ee06882c-72ff-45cd-a658-c4ecf1cd95e8",
   "metadata": {
    "kernel": "R"
   },
   "source": [
    "## Step 3. Select variants typed in both arrays"
   ]
  },
  {
   "cell_type": "code",
   "execution_count": 38,
   "id": "5e7b7b7f-3f93-4097-8a3a-0088972201c3",
   "metadata": {
    "kernel": "R"
   },
   "outputs": [
    {
     "data": {
      "text/html": [
       "733322"
      ],
      "text/latex": [
       "733322"
      ],
      "text/markdown": [
       "733322"
      ],
      "text/plain": [
       "[1] 733322"
      ]
     },
     "metadata": {},
     "output_type": "display_data"
    }
   ],
   "source": [
    "# subset dataframe \n",
    "\n",
    "data.SNP_QC <-subset(data.SNP_QC, array ==2)\n",
    "\n",
    "# autosomal variants in both arrays = 733,322 \n",
    "nrow(data.SNP_QC)"
   ]
  },
  {
   "cell_type": "code",
   "execution_count": null,
   "id": "519f0eea-4c9e-4d29-aeb7-dfc5b1605734",
   "metadata": {
    "kernel": "R"
   },
   "outputs": [],
   "source": [
    "# create list.notypedinbotharrays for reference\n",
    "  \n",
    "list.notypedinbotharrays <-subset(data.SNP_QC, ! array ==2, select=c(rs_id))\n",
    "outfile.name2 <- \"list.variantsnotypedinbotharrays.txt\"\n",
    "write.table(list.notypedinbotharrays, outfile.name2, quote=FALSE, col.names=TRUE, row.names=FALSE, sep=\"\\t\")"
   ]
  },
  {
   "cell_type": "markdown",
   "id": "b93087d9-b069-4564-ac79-48b9a06a4ef7",
   "metadata": {
    "kernel": "R"
   },
   "source": [
    "## Step 4. Select variants passing all batch QC tests"
   ]
  },
  {
   "cell_type": "code",
   "execution_count": 42,
   "id": "2e7bb59b-dbb1-4dbe-9006-6904772b97a0",
   "metadata": {
    "kernel": "R"
   },
   "outputs": [
    {
     "data": {
      "text/html": [
       "687004"
      ],
      "text/latex": [
       "687004"
      ],
      "text/markdown": [
       "687004"
      ],
      "text/plain": [
       "[1] 687004"
      ]
     },
     "metadata": {},
     "output_type": "display_data"
    }
   ],
   "source": [
    "both_arrays <- data.SNP_QC %>%\n",
    "     filter_at(vars(starts_with(\"Batch\")), all_vars(. > 0)) %>%\n",
    "     filter_at(vars(starts_with(\"UKBiLEVEAX\")), all_vars(. > 0)) %>%\n",
    "     filter(array==2)\n",
    "    \n",
    "#create sumbatches variable (sums batch-specific indicators for each column, sumbatches should equal 106 for inclusion)        \n",
    "data.SNP_QC$sumbatches <- rowSums(data.SNP_QC[,10:115])\n",
    "\n",
    "# subset dataframe \n",
    "data.SNP_QC <-subset(data.SNP_QC,sumbatches  ==106, select=c(rs_id))\n",
    "\n",
    "# autosomal variants = 687,004\n",
    "nrow(data.SNP_QC)\n",
    "write.table(data.SNP_QC, \"SNPs_autosomalvariantspassingbatchqc_120219.txt\", quote=FALSE, col.names=TRUE, row.names=FALSE, sep=\"\\t\")"
   ]
  },
  {
   "cell_type": "code",
   "execution_count": null,
   "id": "59a239ba-f615-4fa9-bca1-b5496a0ac10b",
   "metadata": {
    "kernel": "R"
   },
   "outputs": [],
   "source": [
    "# create list.failbatchQCtests for reference\n",
    "list.failbatchQCtests <-subset(data.SNP_QC, ! sumbatches ==106, select=c(rs_id))\n",
    "outfile.name3 <- \"list.variantsfailingoneormorebatchQCtests.txt\"\n",
    "write.table(list.failbatchQCtests, outfile.name3, quote=FALSE, col.names=TRUE, row.names=FALSE, sep=\"\\t\")"
   ]
  },
  {
   "cell_type": "markdown",
   "id": "6052e7fd-8ffa-46cf-b97f-33548c316505",
   "metadata": {
    "kernel": "R"
   },
   "source": [
    "## Step 5. select SNPs only within PLINK  (--SNPS-ONLY flag)"
   ]
  },
  {
   "cell_type": "code",
   "execution_count": 2,
   "id": "cbdcfcc2-69b0-4fba-b870-d2fb61ce1d25",
   "metadata": {
    "kernel": "Bash",
    "tags": []
   },
   "outputs": [
    {
     "name": "stderr",
     "output_type": "stream",
     "text": [
      "/home/dmc2245/miniconda3/lib/python3.8/site-packages/sos_notebook/kernel.py:1334: DeprecationWarning: Kernel._parent_header is deprecated in ipykernel 6. Use .get_parent()\n",
      "  msg['msg_id'] = self._parent_header['header']['msg_id']\n"
     ]
    },
    {
     "name": "stdout",
     "output_type": "stream",
     "text": [
      "INFO: Running \u001b[32mcsg\u001b[0m: Configuration for Columbia csg partition cluster\n",
      "INFO: \u001b[32mcsg\u001b[0m is \u001b[32mcompleted\u001b[0m.\n",
      "INFO: \u001b[32mcsg\u001b[0m output:   \u001b[32m/home/dmc2245/project/UKBB_GWAS_dev/output/snponly_originalbed_2021-08-24.sbatch\u001b[0m\n",
      "INFO: Workflow csg (ID=wc0e398d163b9a337) is executed successfully with 1 completed step.\n",
      "\n"
     ]
    }
   ],
   "source": [
    "# This is the path to the data transferred from Yale\n",
    "UKBB_yale=/mnt/mfs/statgen/archive/UKBiobank_Yale_transfer\n",
    "UKBB_PATH=/mnt/mfs/statgen/UKBiobank\n",
    "USER_PATH=$HOME/project\n",
    "OUT_PATH=$USER_PATH/UKBB_GWAS_dev/output\n",
    "tpl_file=$USER_PATH/bioworkflows/admin/csg.yml\n",
    "container_lmm=$HOME/containers/lmm.sif\n",
    "#Columbia's cluster\n",
    "cwd=~/UKBiobank/genotype_files_processed\n",
    "# Original bfile containing all of the samples Columbias's cluster\n",
    "genoFile=$UKBB_yale/pleiotropy_geneticfiles/UKB_originalgenotypefilesdownloaded083019/UKB_genotypedatadownloaded083019.bed\n",
    "#To keep the variants that passed previous qc: autosomal, both batches, pass qc within batches\n",
    "keep_variants=~/UKBiobank/genotype_files_processed/SNPs_autosomalvariantspassingbatchqc_120219.txt\n",
    "gwasqc_sos=$USER_PATH/bioworkflows/GWAS/GWAS_QC.ipynb\n",
    "gwasqc_sbatch=$USER_PATH/UKBB_GWAS_dev/output/snponly_originalbed_$(date +\"%Y-%m-%d\").sbatch\n",
    "snps_only=True\n",
    "maf_filter=0\n",
    "geno_filter=0\n",
    "hwe_filter=0\n",
    "mind_filter=0\n",
    "mem='30G'\n",
    "name='082421'\n",
    "job_size=1\n",
    "numThreads=2\n",
    "\n",
    "gwasqc1_args=\"\"\"qc:1\n",
    "    --cwd $cwd\n",
    "    --genoFile $genoFile\n",
    "    --keep_variants $keep_variants\n",
    "    --maf_filter $maf_filter\n",
    "    --geno_filter $geno_filter\n",
    "    --hwe_filter $hwe_filter\n",
    "    --mind_filter $mind_filter\n",
    "    --snps_only $snps_only\n",
    "    --numThreads $numThreads \n",
    "    --job_size $job_size\n",
    "    --container_lmm $container_lmm\n",
    "    --mem $mem\n",
    "\"\"\"\n",
    "\n",
    "sos run ~/project/UKBB_GWAS_dev/admin/Get_Job_Script.ipynb csg \\\n",
    "    --template-file $tpl_file \\\n",
    "    --workflow-file $gwasqc_sos \\\n",
    "    --to-script $gwasqc_sbatch \\\n",
    "    --args \"$gwasqc1_args\""
   ]
  },
  {
   "cell_type": "code",
   "execution_count": null,
   "id": "d0c271b6-bc38-45c7-9550-5a4f9408da4f",
   "metadata": {
    "kernel": "R"
   },
   "outputs": [],
   "source": [
    "## Step 6. Run the PERL SCRIPT for Missingness, MAF, and HWE\n",
    "  # Note that this script will yield two output files: <nameoffile>.QC and <nameoffile>.out\n",
    "  # Use <nameoffile>.QC to filter out the variants\n",
    "  # Keep <nameoffile>.out as reference\n",
    "\n",
    "  data.perl_SNP_QC <- read.table(\"/research_storage/dbgap/work/Yasmmyn/UK_Biobank/geneQC/try2_UKB_SNPs.QC\", header=TRUE, sep=\"\\t\")\n",
    "\n",
    "  # Step 6a. missingness\n",
    "  names(data.perl_SNP_QC)[1] <-\"rs_id\"\n",
    "  list.exclude.perl_SNP_QC1  <- subset(data.perl_SNP_QC,data.perl_SNP_QC$MISS==1,select=c(rs_id))\n",
    "  list.exclude.perl_SNP_QC1  <- as.matrix(list.exclude.perl_SNP_QC1)\n",
    "\n",
    "\n",
    "  data.SNP_QC <-subset(data.SNP_QC, ! rs_id %in% list.exclude.perl_SNP_QC1)\n",
    "\n",
    "  # SNPs = 652,399\n",
    "  nrow(data.SNP_QC)\n",
    "\n",
    "  # Step 6b. HWE\n",
    "  \n",
    "  list.exclude.perl_SNP_QC2 <- subset(data.perl_SNP_QC,data.perl_SNP_QC$HWE==1,select=c(rs_id))\n",
    "  list.exclude.perl_SNP_QC2 <- as.matrix(list.exclude.perl_SNP_QC2)\n",
    "\n",
    "  data.SNP_QC <-subset(data.SNP_QC, ! rs_id %in% list.exclude.perl_SNP_QC2)\n",
    "\n",
    "  # SNPs = 622,266\n",
    "  nrow(data.SNP_QC)\n",
    "  \n",
    "  # Step 6c. MAF \n",
    "  \n",
    "  list.exclude.perl_SNP_QC3  <- subset(data.perl_SNP_QC,data.perl_SNP_QC$MAF==1,select=c(rs_id))\n",
    "  list.exclude.perl_SNP_QC3  <- as.matrix(list.exclude.perl_SNP_QC3)\n",
    "\n",
    "  data.SNP_QC <-subset(data.SNP_QC, ! rs_id %in% list.exclude.perl_SNP_QC3)\n",
    "\n",
    "  \n",
    "  # SNPs = 541,312\n",
    "  nrow(data.SNP_QC)\n",
    "\n",
    "  # note that these numbers are off by 12,515 because I deleted indels using the --SNPS-ONLY flag in PLINK"
   ]
  },
  {
   "cell_type": "markdown",
   "id": "94ac1559-b75c-4b13-8ff3-5381730b7fe5",
   "metadata": {
    "kernel": "R"
   },
   "source": [
    "# Sample QC summary\n",
    "\n",
    "Original file downloaded from the UKBB \n",
    "\n",
    "~/UKBiobank_Yale_transfer/pleiotropy_geneticfiles/UKB_originalgenotypefilesdownloaded083019/UKB_genotypedatadownloaded083019.fam\n",
    "\n",
    "- Starting number of variants: 784,256 (starting with only autosomal variants)\n",
    "- Starting number of individuals: 488,377 (individuals that have both genotype and phenotype information)\n",
    "\n",
    "* Genetic and reported sex match --> 487,849\n",
    "* Sex chromosomes non XX - XY --> 487,379\n",
    "* Outliers heterozygosity/missing rate --> 486,416\n",
    "* Individuals call rate > 99% --> 436,698\n",
    "\n",
    "The R script and submission file are present here\n",
    "\n",
    "`~/UKBiobank/genotype_files_processed/082421_sample_qc.R`\n",
    "\n",
    "`~/UKBiobank/genotype_files_processed/082421_sample_qc.sh`"
   ]
  },
  {
   "cell_type": "markdown",
   "id": "c7aec165-18a9-45ba-8bce-ec1b17bc4ee5",
   "metadata": {
    "kernel": "R"
   },
   "source": [
    "## Step 1. Import list of people with genotype data into a dataframe"
   ]
  },
  {
   "cell_type": "code",
   "execution_count": 50,
   "id": "3528342d-280d-4efc-8072-b43eeeef13da",
   "metadata": {
    "kernel": "R"
   },
   "outputs": [
    {
     "name": "stdout",
     "output_type": "stream",
     "text": [
      "The number of individuals with genotype data is: 488377 \n"
     ]
    }
   ],
   "source": [
    "data.havegenotypes <- read.table(\"~/UKBiobank_Yale_transfer/pleiotropy_geneticfiles/UKB_originalgenotypefilesdownloaded083019/UKB_genotypedatadownloaded083019.fam\", header= FALSE, stringsAsFactors = FALSE)\n",
    "names(data.havegenotypes) <-c(\"FID\",\"IID\",\"ignore1\", \"ignore2\", \"ignore3\", \"ignore4\")\n",
    "cat(\"The number of individuals with genotype data is:\",nrow(data.havegenotypes),\"\\n\")\n",
    " # n = 488377 subjects"
   ]
  },
  {
   "cell_type": "markdown",
   "id": "594602f0-0a80-47e2-9b65-0e39efd23e93",
   "metadata": {
    "kernel": "R"
   },
   "source": [
    "## Step 2. Import phenotype data and create a dataframe"
   ]
  },
  {
   "cell_type": "code",
   "execution_count": 51,
   "id": "fe6a9827-fb9e-46c2-8930-36133ce06ed1",
   "metadata": {
    "kernel": "R"
   },
   "outputs": [],
   "source": [
    "library(data.table)\n",
    "dat <- fread(\"~/UKBiobank/data/ukbb_databases/ukb47922_updatedAug2021/ukb47922.tab\", header=TRUE, sep=\"\\t\", select = c(\"f.eid\",\"f.31.0.0\",\"f.22001.0.0\",\"f.22019.0.0\",\"f.22027.0.0\",\"f.22021.0.0\",\"f.22006.0.0\"))"
   ]
  },
  {
   "cell_type": "code",
   "execution_count": 52,
   "id": "ff2c63b0-ed1b-4259-ad8c-e34e38adfa2e",
   "metadata": {
    "kernel": "R"
   },
   "outputs": [
    {
     "data": {
      "text/html": [
       "<table class=\"dataframe\">\n",
       "<caption>A data.table: 6 x 7</caption>\n",
       "<thead>\n",
       "\t<tr><th scope=col>f.eid</th><th scope=col>f.31.0.0</th><th scope=col>f.22001.0.0</th><th scope=col>f.22019.0.0</th><th scope=col>f.22027.0.0</th><th scope=col>f.22021.0.0</th><th scope=col>f.22006.0.0</th></tr>\n",
       "\t<tr><th scope=col>&lt;int&gt;</th><th scope=col>&lt;int&gt;</th><th scope=col>&lt;int&gt;</th><th scope=col>&lt;int&gt;</th><th scope=col>&lt;int&gt;</th><th scope=col>&lt;int&gt;</th><th scope=col>&lt;int&gt;</th></tr>\n",
       "</thead>\n",
       "<tbody>\n",
       "\t<tr><td>1000019</td><td>0</td><td>0</td><td>NA</td><td>NA</td><td>1</td><td>1</td></tr>\n",
       "\t<tr><td>1000022</td><td>1</td><td>1</td><td>NA</td><td>NA</td><td>0</td><td>1</td></tr>\n",
       "\t<tr><td>1000035</td><td>1</td><td>1</td><td>NA</td><td>NA</td><td>1</td><td>1</td></tr>\n",
       "\t<tr><td>1000046</td><td>0</td><td>0</td><td>NA</td><td>NA</td><td>1</td><td>1</td></tr>\n",
       "\t<tr><td>1000054</td><td>0</td><td>0</td><td>NA</td><td>NA</td><td>1</td><td>1</td></tr>\n",
       "\t<tr><td>1000063</td><td>1</td><td>1</td><td>NA</td><td>NA</td><td>0</td><td>1</td></tr>\n",
       "</tbody>\n",
       "</table>\n"
      ],
      "text/latex": [
       "A data.table: 6 x 7\n",
       "\\begin{tabular}{lllllll}\n",
       " f.eid & f.31.0.0 & f.22001.0.0 & f.22019.0.0 & f.22027.0.0 & f.22021.0.0 & f.22006.0.0\\\\\n",
       " <int> & <int> & <int> & <int> & <int> & <int> & <int>\\\\\n",
       "\\hline\n",
       "\t 1000019 & 0 & 0 & NA & NA & 1 & 1\\\\\n",
       "\t 1000022 & 1 & 1 & NA & NA & 0 & 1\\\\\n",
       "\t 1000035 & 1 & 1 & NA & NA & 1 & 1\\\\\n",
       "\t 1000046 & 0 & 0 & NA & NA & 1 & 1\\\\\n",
       "\t 1000054 & 0 & 0 & NA & NA & 1 & 1\\\\\n",
       "\t 1000063 & 1 & 1 & NA & NA & 0 & 1\\\\\n",
       "\\end{tabular}\n"
      ],
      "text/markdown": [
       "\n",
       "A data.table: 6 x 7\n",
       "\n",
       "| f.eid &lt;int&gt; | f.31.0.0 &lt;int&gt; | f.22001.0.0 &lt;int&gt; | f.22019.0.0 &lt;int&gt; | f.22027.0.0 &lt;int&gt; | f.22021.0.0 &lt;int&gt; | f.22006.0.0 &lt;int&gt; |\n",
       "|---|---|---|---|---|---|---|\n",
       "| 1000019 | 0 | 0 | NA | NA | 1 | 1 |\n",
       "| 1000022 | 1 | 1 | NA | NA | 0 | 1 |\n",
       "| 1000035 | 1 | 1 | NA | NA | 1 | 1 |\n",
       "| 1000046 | 0 | 0 | NA | NA | 1 | 1 |\n",
       "| 1000054 | 0 | 0 | NA | NA | 1 | 1 |\n",
       "| 1000063 | 1 | 1 | NA | NA | 0 | 1 |\n",
       "\n"
      ],
      "text/plain": [
       "  f.eid   f.31.0.0 f.22001.0.0 f.22019.0.0 f.22027.0.0 f.22021.0.0 f.22006.0.0\n",
       "1 1000019 0        0           NA          NA          1           1          \n",
       "2 1000022 1        1           NA          NA          0           1          \n",
       "3 1000035 1        1           NA          NA          1           1          \n",
       "4 1000046 0        0           NA          NA          1           1          \n",
       "5 1000054 0        0           NA          NA          1           1          \n",
       "6 1000063 1        1           NA          NA          0           1          "
      ]
     },
     "metadata": {},
     "output_type": "display_data"
    }
   ],
   "source": [
    "head(dat)"
   ]
  },
  {
   "cell_type": "code",
   "execution_count": 53,
   "id": "c7175ee1-3837-4183-9daa-627191dfe748",
   "metadata": {
    "kernel": "R"
   },
   "outputs": [
    {
     "name": "stdout",
     "output_type": "stream",
     "text": [
      "The number of individuals with phenotype data is: 502461 \n"
     ]
    }
   ],
   "source": [
    "#mydata <- read.table(\"~/UKBiobank/data/ukbb_databases/ukb47922_updatedAug2021/ukb47922.tab\", header=TRUE, sep=\"\\t\")\n",
    "names(dat)[1] <- \"IID\" \n",
    "cat(\"The number of individuals with phenotype data is:\",nrow(dat),\"\\n\")\n",
    " # n = 502,461 subjects"
   ]
  },
  {
   "cell_type": "markdown",
   "id": "3403ecc4-bd4c-4d12-a0c2-e9bfc795b4be",
   "metadata": {
    "kernel": "R"
   },
   "source": [
    "## Step 3. Merge the dataframes "
   ]
  },
  {
   "cell_type": "code",
   "execution_count": 54,
   "id": "59d48e83-9387-4254-97be-cbb1cd4aa541",
   "metadata": {
    "kernel": "R"
   },
   "outputs": [
    {
     "name": "stdout",
     "output_type": "stream",
     "text": [
      "The number of individuals with both phenotype and genotype data: 488221 \n"
     ]
    }
   ],
   "source": [
    "data.haveboth <-merge(data.havegenotypes, dat, by=\"IID\", all=FALSE)\n",
    "cat(\"The number of individuals with both phenotype and genotype data:\",nrow(data.haveboth),\"\\n\")\n",
    "# n = 487,849(had phenotype data, #528 indiduals removed)"
   ]
  },
  {
   "cell_type": "markdown",
   "id": "d967d231-e2a5-47ea-998a-3957fd8d482e",
   "metadata": {
    "kernel": "R"
   },
   "source": [
    "## Step 4. Additional sex checks  "
   ]
  },
  {
   "cell_type": "code",
   "execution_count": 55,
   "id": "12afaf0d-2861-4503-82e1-a23139e87106",
   "metadata": {
    "kernel": "R"
   },
   "outputs": [
    {
     "name": "stdout",
     "output_type": "stream",
     "text": [
      "The number of individuals whose reported and genetic sex match is: 487849 \n",
      "The number of individuals whose reported and genetic sex does NOT match is: 372 \n"
     ]
    }
   ],
   "source": [
    "#4a. genetic sex vs. self-reported sex\n",
    "\n",
    "data.haveboth$sex_match<- (data.haveboth$f.22001.0.0 == data.haveboth$f.31.0.0)\n",
    "sexnomatch <- subset(data.haveboth, data.haveboth$sex_match==\"FALSE\")\n",
    "data.haveboth<- subset(data.haveboth, data.haveboth$sex_match==\"TRUE\")\n",
    "cat(\"The number of individuals whose reported and genetic sex match is:\",nrow(data.haveboth),\"\\n\")\n",
    "cat(\"The number of individuals whose reported and genetic sex does NOT match is:\",nrow(sexnomatch),\"\\n\")\n",
    "# n = 487,379 subjects match for sex"
   ]
  },
  {
   "cell_type": "code",
   "execution_count": 56,
   "id": "94ed90b5-e223-40f9-bd49-c863341563af",
   "metadata": {
    "kernel": "R"
   },
   "outputs": [
    {
     "name": "stdout",
     "output_type": "stream",
     "text": [
      "The number of individuals with aneuploidies is: 470 \n",
      "The number of individuals with XX and XY 487379 \n"
     ]
    }
   ],
   "source": [
    "#4b. Identify subjects with sex chromosome karyotypes putatively different from XX or XY\n",
    "\n",
    "aneu.toexclude  <- subset(data.haveboth, data.haveboth$f.22019.0.0==1, select=c(IID))\n",
    "aneu.toexclude  <- as.matrix(aneu.toexclude)\n",
    "\n",
    "data.haveboth <-subset(data.haveboth, ! IID %in% aneu.toexclude)\n",
    "cat(\"The number of individuals with aneuploidies is:\",nrow(aneu.toexclude),\"\\n\")\n",
    "cat(\"The number of individuals with XX and XY\",nrow(data.haveboth),\"\\n\")\n",
    "#n = 486,416 subjects remain"
   ]
  },
  {
   "cell_type": "markdown",
   "id": "d13aa680-80bc-4f39-a1d6-7625879310c5",
   "metadata": {
    "kernel": "R"
   },
   "source": [
    "## Step 5. Identify subjects that are outliers in heterozygosity and missing rates"
   ]
  },
  {
   "cell_type": "code",
   "execution_count": 57,
   "id": "2ca1492b-8f0a-464c-a3da-9031af85b672",
   "metadata": {
    "kernel": "R"
   },
   "outputs": [
    {
     "name": "stdout",
     "output_type": "stream",
     "text": [
      "The number of individuals that are outliers for heterozygosity or missing rates is: 963 \n",
      "The number of individuals that are not outliers for heterozygosity or missing rates is: 486416 \n"
     ]
    }
   ],
   "source": [
    "list.toexclude <- subset(data.haveboth, data.haveboth$f.22027.0.0==1, select=c(IID))\n",
    "list.toexclude  <- as.matrix(list.toexclude)\n",
    "\n",
    "data.haveboth <-subset(data.haveboth, ! IID %in% list.toexclude)\n",
    "cat(\"The number of individuals that are outliers for heterozygosity or missing rates is:\",nrow(list.toexclude),\"\\n\")\n",
    "cat(\"The number of individuals that are not outliers for heterozygosity or missing rates is:\",nrow(data.haveboth),\"\\n\")"
   ]
  },
  {
   "cell_type": "code",
   "execution_count": 71,
   "id": "18a6e38d-6837-4fdd-bede-4ec179030316",
   "metadata": {
    "kernel": "R"
   },
   "outputs": [],
   "source": [
    "# Save the IID that pass these QC filters to a file\n",
    "ID_keep <- data.haveboth[,1, drop=FALSE]\n",
    "#write.table(ID_keep,'~/UKBiobank/genotype_files_processed/082421_sampleQC_IID_keep.txt', row.names = FALSE, col.names = FALSE)"
   ]
  },
  {
   "cell_type": "markdown",
   "id": "032354a4-6e02-49dc-99fa-81fe0241357b",
   "metadata": {
    "kernel": "R"
   },
   "source": [
    "## Step 6. Filter using plink for individual call rate > 99%\n",
    "\n",
    "After selecting the individuals and applying mind=0.01 (keep individuals with call rate > 99%) \n",
    "\n",
    "49718 samples removed due to missing genotype data (--mind)"
   ]
  },
  {
   "cell_type": "code",
   "execution_count": 6,
   "id": "403cb60f-dcac-4964-a21f-b2fb2424a8f1",
   "metadata": {
    "kernel": "Bash",
    "tags": []
   },
   "outputs": [
    {
     "name": "stdout",
     "output_type": "stream",
     "text": [
      "INFO: Running \u001b[32mcsg\u001b[0m: Configuration for Columbia csg partition cluster\n",
      "INFO: \u001b[32mcsg\u001b[0m is \u001b[32mcompleted\u001b[0m.\n",
      "INFO: \u001b[32mcsg\u001b[0m output:   \u001b[32m/home/dmc2245/project/UKBB_GWAS_dev/output/sampleqc_variantfilteredbed_2021-08-26.sbatch\u001b[0m\n",
      "INFO: Workflow csg (ID=wb3a0e834b911693a) is executed successfully with 1 completed step.\n",
      "\n"
     ]
    }
   ],
   "source": [
    "# This is the path to the data transferred from Yale\n",
    "UKBB_yale=/mnt/mfs/statgen/archive/UKBiobank_Yale_transfer\n",
    "UKBB_PATH=/mnt/mfs/statgen/UKBiobank\n",
    "USER_PATH=$HOME/project\n",
    "OUT_PATH=$USER_PATH/UKBB_GWAS_dev/output\n",
    "tpl_file=$USER_PATH/bioworkflows/admin/csg.yml\n",
    "container_lmm=$HOME/containers/lmm.sif\n",
    "#Columbia's cluster\n",
    "cwd=~/UKBiobank/genotype_files_processed/082621_sampleqc\n",
    "# bfile with variant_qc_1\n",
    "genoFile=~/UKBiobank/genotype_files_processed/cache/UKB_genotypedatadownloaded083019.genotype_files_processed.filtered.extracted.bed\n",
    "#To keep the samples that passed sample_qc_1\n",
    "keep_samples=~/UKBiobank/genotype_files_processed/082421_sampleQC_IID_keep.txt\n",
    "gwasqc_sos=$USER_PATH/bioworkflows/GWAS/GWAS_QC.ipynb\n",
    "gwasqc_sbatch=$USER_PATH/UKBB_GWAS_dev/output/sampleqc_variantfilteredbed_$(date +\"%Y-%m-%d\").sbatch\n",
    "maf_filter=0\n",
    "geno_filter=0\n",
    "hwe_filter=0\n",
    "# Keep individuals with call rate > 99%\n",
    "mind_filter=0.01\n",
    "mem='30G'\n",
    "name='082621'\n",
    "job_size=1\n",
    "numThreads=2\n",
    "\n",
    "gwasqc1_args=\"\"\"qc:1\n",
    "    --cwd $cwd\n",
    "    --genoFile $genoFile\n",
    "    --keep_samples $keep_samples\n",
    "    --maf_filter $maf_filter\n",
    "    --geno_filter $geno_filter\n",
    "    --hwe_filter $hwe_filter\n",
    "    --mind_filter $mind_filter\n",
    "    --numThreads $numThreads \n",
    "    --job_size $job_size\n",
    "    --container_lmm $container_lmm\n",
    "    --mem $mem\n",
    "\"\"\"\n",
    "\n",
    "sos run ~/project/UKBB_GWAS_dev/admin/Get_Job_Script.ipynb csg \\\n",
    "    --template-file $tpl_file \\\n",
    "    --workflow-file $gwasqc_sos \\\n",
    "    --to-script $gwasqc_sbatch \\\n",
    "    --args \"$gwasqc1_args\""
   ]
  },
  {
   "cell_type": "markdown",
   "id": "425b257d-e629-4c90-a964-3fa041a0bb8c",
   "metadata": {
    "kernel": "Bash"
   },
   "source": [
    "## Use a call rate >90%"
   ]
  },
  {
   "cell_type": "code",
   "execution_count": 92,
   "id": "953b03d1-7628-4daa-a65c-fb8c311a86d7",
   "metadata": {
    "kernel": "Bash"
   },
   "outputs": [
    {
     "name": "stdout",
     "output_type": "stream",
     "text": [
      "INFO: Running \u001b[32mcsg\u001b[0m: Configuration for Columbia csg partition cluster\n",
      "INFO: \u001b[32mcsg\u001b[0m is \u001b[32mcompleted\u001b[0m.\n",
      "INFO: \u001b[32mcsg\u001b[0m output:   \u001b[32m/home/dmc2245/project/UKBB_GWAS_dev/output/sampleqc_call90_2021-08-31.sbatch\u001b[0m\n",
      "INFO: Workflow csg (ID=w5c2d59f208020dfc) is executed successfully with 1 completed step.\n",
      "\n"
     ]
    }
   ],
   "source": [
    "# This is the path to the data transferred from Yale\n",
    "UKBB_yale=/mnt/mfs/statgen/archive/UKBiobank_Yale_transfer\n",
    "UKBB_PATH=/mnt/mfs/statgen/UKBiobank\n",
    "USER_PATH=$HOME/project\n",
    "OUT_PATH=$USER_PATH/UKBB_GWAS_dev/output\n",
    "tpl_file=$USER_PATH/bioworkflows/admin/csg.yml\n",
    "container_lmm=$HOME/containers/lmm.sif\n",
    "#Columbia's cluster\n",
    "cwd=~/UKBiobank/genotype_files_processed/082621_sampleqc_call90\n",
    "# bfile with variant_qc_1\n",
    "genoFile=~/UKBiobank/genotype_files_processed/cache/UKB_genotypedatadownloaded083019.genotype_files_processed.filtered.extracted.bed\n",
    "#To keep the samples that passed sample_qc_1\n",
    "keep_samples=~/UKBiobank/genotype_files_processed/082421_sampleQC_IID_keep.txt\n",
    "gwasqc_sos=$USER_PATH/bioworkflows/GWAS/GWAS_QC.ipynb\n",
    "gwasqc_sbatch=$USER_PATH/UKBB_GWAS_dev/output/sampleqc_call90_$(date +\"%Y-%m-%d\").sbatch\n",
    "maf_filter=0\n",
    "geno_filter=0\n",
    "hwe_filter=0\n",
    "# Keep individuals with call rate > 90%\n",
    "mind_filter=0.1\n",
    "mem='30G'\n",
    "name='082621'\n",
    "job_size=1\n",
    "numThreads=2\n",
    "\n",
    "gwasqc1_args=\"\"\"qc:1\n",
    "    --cwd $cwd\n",
    "    --genoFile $genoFile\n",
    "    --keep_samples $keep_samples\n",
    "    --maf_filter $maf_filter\n",
    "    --geno_filter $geno_filter\n",
    "    --hwe_filter $hwe_filter\n",
    "    --mind_filter $mind_filter\n",
    "    --numThreads $numThreads \n",
    "    --job_size $job_size\n",
    "    --container_lmm $container_lmm\n",
    "    --mem $mem\n",
    "\"\"\"\n",
    "\n",
    "sos run ~/project/UKBB_GWAS_dev/admin/Get_Job_Script.ipynb csg \\\n",
    "    --template-file $tpl_file \\\n",
    "    --workflow-file $gwasqc_sos \\\n",
    "    --to-script $gwasqc_sbatch \\\n",
    "    --args \"$gwasqc1_args\""
   ]
  },
  {
   "cell_type": "markdown",
   "id": "3963b794-7789-44ab-9a8d-93e94e858344",
   "metadata": {
    "kernel": "R"
   },
   "source": [
    "## Step 7. Relatedness using variable f.22021.0.0"
   ]
  },
  {
   "cell_type": "code",
   "execution_count": 70,
   "id": "2f96b338-e03b-4fb1-8ed7-1d0aec2190cf",
   "metadata": {
    "kernel": "R",
    "tags": []
   },
   "outputs": [],
   "source": [
    "### Read in the removed individuals after the sample missingness filter (mind=0.01) 99% call rate\n",
    "removed_IID <- read.table(\"~/UKBiobank/genotype_files_processed/082621_sampleqc/cache/UKB_genotypedatadownloaded083019.genotype_files_processed.filtered.extracted.082621_sampleqc.filtered.mindrem.id\", header=FALSE)\n",
    "names(removed_IID) <-c(\"FID\",\"IID\")"
   ]
  },
  {
   "cell_type": "code",
   "execution_count": 59,
   "id": "45e003a4-0cf9-4d87-9b4c-59bff3261ea7",
   "metadata": {
    "kernel": "R"
   },
   "outputs": [],
   "source": [
    "### Read in the removed individuals after the sample missingness filter (mind=0.1) 90% call rate\n",
    "retained_IID <- read.table(\"~/UKBiobank/genotype_files_processed/082621_sampleqc_call90/cache/UKB_genotypedatadownloaded083019.genotype_files_processed.filtered.extracted.082621_sampleqc_call90.filtered.fam\", header=FALSE)\n",
    "names(retained_IID) <-c(\"FID\",\"IID\",\"ignore1\", \"ignore2\", \"ignore3\", \"ignore4\")"
   ]
  },
  {
   "cell_type": "code",
   "execution_count": 84,
   "id": "76049c99-3940-434c-9692-b4c41d5d02d6",
   "metadata": {
    "kernel": "R"
   },
   "outputs": [
    {
     "name": "stdout",
     "output_type": "stream",
     "text": [
      "The number of individuals that are related in the sample is: 147252 \n",
      "The number of individuals that are related in the sample after filtering for sample missingess is: 132222 \n"
     ]
    }
   ],
   "source": [
    "data.related <- subset(data.haveboth, data.haveboth$f.22021.0.0==1)  #at least one relative identified\n",
    "ID_related <- data.related %>%\n",
    "    filter(!IID %in% removed_IID$IID) %>%\n",
    "    select (\"FID\", \"IID\")\n",
    "cat(\"The number of individuals that are related in the sample is:\",nrow(data.related),\"\\n\")\n",
    "cat(\"The number of individuals that are related in the sample after filtering for sample missingess is:\",nrow(ID_related),\"\\n\")\n",
    "write.table(ID_related, '~/UKBiobank/genotype_files_processed/082421_sampleQC_IID_related.txt', sep=\"\\t\", row.names = FALSE, col.names= FALSE)"
   ]
  },
  {
   "cell_type": "code",
   "execution_count": 13,
   "id": "c1ad08fd-fda6-417a-a4b8-917686defaf7",
   "metadata": {
    "kernel": "R"
   },
   "outputs": [
    {
     "name": "stdout",
     "output_type": "stream",
     "text": [
      "The number of individuals that are related in the sample is: 147252 \n",
      "The number of individuals that are related in the sample after filtering for sample missingess is: 0 \n"
     ]
    }
   ],
   "source": [
    "data.related <- subset(data.haveboth, data.haveboth$f.22021.0.0==1)  #at least one relative identified\n",
    "ID_related <- data.related %>%\n",
    "    filter(!IID %in% retained_IID$IID) %>%\n",
    "    select (\"FID\", \"IID\")\n",
    "cat(\"The number of individuals that are related in the sample is:\",nrow(data.related),\"\\n\")\n",
    "cat(\"The number of individuals that are related in the sample after filtering for sample missingess is:\",nrow(ID_related),\"\\n\")\n",
    "#write.table(ID_related, '~/UKBiobank/genotype_files_processed/082421_sampleQC_IID_related.txt', sep=\"\\t\", row.names = FALSE, col.names= FALSE)"
   ]
  },
  {
   "cell_type": "markdown",
   "id": "f52dcef0-f358-462f-9462-69c2115885c2",
   "metadata": {
    "kernel": "Bash"
   },
   "source": [
    "### Determine kinship using king"
   ]
  },
  {
   "cell_type": "code",
   "execution_count": 11,
   "id": "01956a09-83f5-4f7f-a9b0-c627cc4553b0",
   "metadata": {
    "kernel": "Bash"
   },
   "outputs": [
    {
     "name": "stdout",
     "output_type": "stream",
     "text": [
      "INFO: Running \u001b[32mcsg\u001b[0m: Configuration for Columbia csg partition cluster\n",
      "INFO: \u001b[32mcsg\u001b[0m is \u001b[32mcompleted\u001b[0m.\n",
      "INFO: \u001b[32mcsg\u001b[0m output:   \u001b[32m/home/dmc2245/project/UKBB_GWAS_dev/output/king_genoarray_2021-08-27.sbatch\u001b[0m\n",
      "INFO: Workflow csg (ID=w9ab1d59b1ee0d16a) is executed successfully with 1 completed step.\n",
      "\n"
     ]
    }
   ],
   "source": [
    "# This is the path to the data transferred from Yale\n",
    "UKBB_yale=/mnt/mfs/statgen/archive/UKBiobank_Yale_transfer\n",
    "UKBB_PATH=/mnt/mfs/statgen/UKBiobank\n",
    "USER_PATH=$HOME/project\n",
    "tpl_file=$USER_PATH/bioworkflows/admin/csg.yml\n",
    "container_lmm=$HOME/containers/lmm.sif\n",
    "##Columbia's variables\n",
    "cwd=$UKBB_PATH/genotype_files_processed/082621_king\n",
    "genoFile=$UKBB_PATH/genotype_files_processed/082621_sampleqc/cache/UKB_genotypedatadownloaded083019.genotype_files_processed.filtered.extracted.082621_sampleqc.filtered.bed\n",
    "king_sbatch=$USER_PATH/UKBB_GWAS_dev/output/king_genoarray_$(date +\"%Y-%m-%d\").sbatch\n",
    "kinship=0.0625\n",
    "gwasqc_sos=$USER_PATH/bioworkflows/GWAS/GWAS_QC.ipynb\n",
    "numThreads=20\n",
    "mem='30G'\n",
    "walltime='60h'\n",
    "\n",
    "king_args=\"\"\"king\n",
    "    --cwd $cwd\n",
    "    --genoFile $genoFile\n",
    "    --kinship $kinship\n",
    "    --numThreads $numThreads \n",
    "    --job_size $job_size\n",
    "    --container_lmm $container_lmm\n",
    "    --mem $mem\n",
    "    --walltime $walltime\n",
    "    --no-maximize-unrelated\n",
    "\"\"\"\n",
    "\n",
    "sos run ~/project/UKBB_GWAS_dev/admin/Get_Job_Script.ipynb csg \\\n",
    "    --template-file $tpl_file \\\n",
    "    --workflow-file $gwasqc_sos \\\n",
    "    --to-script $king_sbatch \\\n",
    "    --args \"$king_args\""
   ]
  },
  {
   "cell_type": "markdown",
   "id": "9257d082-33e9-460b-8a46-811beedd7533",
   "metadata": {
    "kernel": "Bash"
   },
   "source": [
    "## Step 8 Variant QC number 2"
   ]
  },
  {
   "cell_type": "markdown",
   "id": "c5547ab5-8bbb-489f-9dcc-5d0093eb583e",
   "metadata": {
    "kernel": "Bash"
   },
   "source": [
    "### Get the unrelated individuals only, do quality controls for variant missingness (geno=0.01), HWE (5e-08) and maf filter (0.01)"
   ]
  },
  {
   "cell_type": "code",
   "execution_count": 85,
   "id": "1c06bdaf-2731-4622-991f-db5b688f1d71",
   "metadata": {
    "kernel": "Bash"
   },
   "outputs": [
    {
     "name": "stdout",
     "output_type": "stream",
     "text": [
      "INFO: Running \u001b[32mcsg\u001b[0m: Configuration for Columbia csg partition cluster\n",
      "INFO: \u001b[32mcsg\u001b[0m is \u001b[32mcompleted\u001b[0m.\n",
      "INFO: \u001b[32mcsg\u001b[0m output:   \u001b[32m/home/dmc2245/project/UKBB_GWAS_dev/output/sampleqc2_2021-08-31.sbatch\u001b[0m\n",
      "INFO: Workflow csg (ID=w039a30c991021747) is executed successfully with 1 completed step.\n",
      "\n"
     ]
    }
   ],
   "source": [
    "# This is the path to the data transferred from Yale\n",
    "UKBB_yale=/mnt/mfs/statgen/archive/UKBiobank_Yale_transfer\n",
    "UKBB_PATH=/mnt/mfs/statgen/UKBiobank\n",
    "USER_PATH=$HOME/project\n",
    "OUT_PATH=$USER_PATH/UKBB_GWAS_dev/output\n",
    "tpl_file=$USER_PATH/bioworkflows/admin/csg.yml\n",
    "container_lmm=$HOME/containers/lmm.sif\n",
    "#Columbia's cluster\n",
    "cwd=~/UKBiobank/genotype_files_processed/083021_sampleqc2\n",
    "# bfile with variant_qc_1\n",
    "genoFile=~/UKBiobank/genotype_files_processed/082621_sampleqc/cache/UKB_genotypedatadownloaded083019.genotype_files_processed.filtered.extracted.082621_sampleqc.filtered.bed\n",
    "#To remove related samples\n",
    "remove_samples=~/UKBiobank/genotype_files_processed/082421_sampleQC_IID_related.txt\n",
    "gwasqc_sos=$USER_PATH/bioworkflows/GWAS/GWAS_QC.ipynb\n",
    "gwasqc_sbatch=$USER_PATH/UKBB_GWAS_dev/output/sampleqc2_$(date +\"%Y-%m-%d\").sbatch\n",
    "maf_filter=0.01\n",
    "geno_filter=0.01\n",
    "hwe_filter=5e-08\n",
    "# Set mind filter to 0 not to filter out more individuals based on sample missingness\n",
    "mind_filter=0\n",
    "mem='30G'\n",
    "name='083021'\n",
    "job_size=1\n",
    "numThreads=2\n",
    "\n",
    "gwasqc1_args=\"\"\"qc:1\n",
    "    --cwd $cwd\n",
    "    --genoFile $genoFile\n",
    "    --remove_samples $remove_samples\n",
    "    --maf_filter $maf_filter\n",
    "    --geno_filter $geno_filter\n",
    "    --hwe_filter $hwe_filter\n",
    "    --mind_filter $mind_filter\n",
    "    --numThreads $numThreads \n",
    "    --job_size $job_size\n",
    "    --container_lmm $container_lmm\n",
    "    --mem $mem\n",
    "\"\"\"\n",
    "\n",
    "sos run ~/project/UKBB_GWAS_dev/admin/Get_Job_Script.ipynb csg \\\n",
    "    --template-file $tpl_file \\\n",
    "    --workflow-file $gwasqc_sos \\\n",
    "    --to-script $gwasqc_sbatch \\\n",
    "    --args \"$gwasqc1_args\""
   ]
  },
  {
   "cell_type": "markdown",
   "id": "0edc8c04-bc08-4a50-84ef-06bfc133c417",
   "metadata": {
    "kernel": "Bash"
   },
   "source": [
    "## Create the final file for analyses call rate >99%"
   ]
  },
  {
   "cell_type": "code",
   "execution_count": 86,
   "id": "c7cc0e2c-011b-4055-abc0-462968b74a88",
   "metadata": {
    "kernel": "Bash"
   },
   "outputs": [
    {
     "name": "stdout",
     "output_type": "stream",
     "text": [
      "INFO: Running \u001b[32mcsg\u001b[0m: Configuration for Columbia csg partition cluster\n",
      "INFO: \u001b[32mcsg\u001b[0m is \u001b[32mcompleted\u001b[0m.\n",
      "INFO: \u001b[32mcsg\u001b[0m output:   \u001b[32m/home/dmc2245/project/UKBB_GWAS_dev/output/sampleqc2_2021-08-31.sbatch\u001b[0m\n",
      "INFO: Workflow csg (ID=wb46da603845062d4) is executed successfully with 1 completed step.\n",
      "\n"
     ]
    }
   ],
   "source": [
    "# This is the path to the data transferred from Yale\n",
    "UKBB_yale=/mnt/mfs/statgen/archive/UKBiobank_Yale_transfer\n",
    "UKBB_PATH=/mnt/mfs/statgen/UKBiobank\n",
    "USER_PATH=$HOME/project\n",
    "OUT_PATH=$USER_PATH/UKBB_GWAS_dev/output\n",
    "tpl_file=$USER_PATH/bioworkflows/admin/csg.yml\n",
    "container_lmm=$HOME/containers/lmm.sif\n",
    "#Columbia's cluster\n",
    "cwd=~/UKBiobank/genotype_files_processed/083021_sample_variant_qc_final\n",
    "# orginal bfile\n",
    "genoFile=$UKBB_yale/pleiotropy_geneticfiles/UKB_originalgenotypefilesdownloaded083019/UKB_genotypedatadownloaded083019.bed\n",
    "#To keep samples\n",
    "keep_samples=~/UKBiobank/genotype_files_processed/082621_sampleqc/cache/UKB_genotypedatadownloaded083019.082621_sampleqc.qc_pass.id\n",
    "# To keep variants\n",
    "keep_variants=~/UKBiobank/genotype_files_processed/083021_sampleqc2/cache/UKB_genotypedatadownloaded083019.082621_sampleqc.083021_sampleqc2.qc_pass.snplist\n",
    "gwasqc_sos=$USER_PATH/bioworkflows/GWAS/GWAS_QC.ipynb\n",
    "gwasqc_sbatch=$USER_PATH/UKBB_GWAS_dev/output/sampleqc_final_$(date +\"%Y-%m-%d\").sbatch\n",
    "## All filters set to 0 \n",
    "maf_filter=0\n",
    "geno_filter=0\n",
    "hwe_filter=0\n",
    "mind_filter=0\n",
    "mem='30G'\n",
    "name='083021'\n",
    "job_size=1\n",
    "numThreads=2\n",
    "\n",
    "gwasqc1_args=\"\"\"qc:1\n",
    "    --cwd $cwd\n",
    "    --genoFile $genoFile\n",
    "    --keep_samples $keep_samples\n",
    "    --keep_variants $keep_variants\n",
    "    --maf_filter $maf_filter\n",
    "    --geno_filter $geno_filter\n",
    "    --hwe_filter $hwe_filter\n",
    "    --mind_filter $mind_filter\n",
    "    --numThreads $numThreads \n",
    "    --job_size $job_size\n",
    "    --container_lmm $container_lmm\n",
    "    --mem $mem\n",
    "\"\"\"\n",
    "\n",
    "sos run ~/project/UKBB_GWAS_dev/admin/Get_Job_Script.ipynb csg \\\n",
    "    --template-file $tpl_file \\\n",
    "    --workflow-file $gwasqc_sos \\\n",
    "    --to-script $gwasqc_sbatch \\\n",
    "    --args \"$gwasqc1_args\""
   ]
  },
  {
   "cell_type": "markdown",
   "id": "c3696c0f-1b32-42e9-8eb3-695bb9531382",
   "metadata": {
    "kernel": "Bash"
   },
   "source": [
    "## Create the final file for analyses call rate >90% (this is the one used downstream for PCA and LMM analysis)"
   ]
  },
  {
   "cell_type": "code",
   "execution_count": 77,
   "id": "b1bffbab-98fa-448e-8d4f-e3ca3bdd9dcc",
   "metadata": {
    "kernel": "Bash"
   },
   "outputs": [
    {
     "name": "stdout",
     "output_type": "stream",
     "text": [
      "INFO: Running \u001b[32mcsg\u001b[0m: Configuration for Columbia csg partition cluster\n",
      "INFO: \u001b[32mcsg\u001b[0m is \u001b[32mcompleted\u001b[0m.\n",
      "INFO: \u001b[32mcsg\u001b[0m output:   \u001b[32m/home/dmc2245/project/UKBB_GWAS_dev/output/sampleqc_final_2021-09-02.sbatch\u001b[0m\n",
      "INFO: Workflow csg (ID=wd3cc554baec8ffe9) is executed successfully with 1 completed step.\n",
      "\n"
     ]
    }
   ],
   "source": [
    "# This is the path to the data transferred from Yale\n",
    "UKBB_yale=/mnt/mfs/statgen/archive/UKBiobank_Yale_transfer\n",
    "UKBB_PATH=/mnt/mfs/statgen/UKBiobank\n",
    "USER_PATH=$HOME/project\n",
    "OUT_PATH=$USER_PATH/UKBB_GWAS_dev/output\n",
    "tpl_file=$USER_PATH/bioworkflows/admin/csg.yml\n",
    "container_lmm=$HOME/containers/lmm.sif\n",
    "#Columbia's cluster\n",
    "cwd=~/UKBiobank/genotype_files_processed/090221_sample_variant_qc_final_callrate90\n",
    "# orginal bfile\n",
    "genoFile=$UKBB_yale/pleiotropy_geneticfiles/UKB_originalgenotypefilesdownloaded083019/UKB_genotypedatadownloaded083019.bed\n",
    "#To keep samples\n",
    "keep_samples=~/UKBiobank/genotype_files_processed/082621_sampleqc_call90/cache/UKB_genotypedatadownloaded083019.genotype_files_processed.filtered.extracted.082621_sampleqc_call90.filtered.qc_pass.id\n",
    "# To keep variants\n",
    "keep_variants=~/UKBiobank/genotype_files_processed/083021_sampleqc2/cache/UKB_genotypedatadownloaded083019.082621_sampleqc.083021_sampleqc2.qc_pass.snplist\n",
    "gwasqc_sos=$USER_PATH/bioworkflows/GWAS/GWAS_QC.ipynb\n",
    "gwasqc_sbatch=$USER_PATH/UKBB_GWAS_dev/output/sampleqc_final_$(date +\"%Y-%m-%d\").sbatch\n",
    "## All filters set to 0 \n",
    "maf_filter=0\n",
    "geno_filter=0\n",
    "hwe_filter=0\n",
    "mind_filter=0\n",
    "mem='30G'\n",
    "name='090221'\n",
    "job_size=1\n",
    "numThreads=2\n",
    "\n",
    "gwasqc1_args=\"\"\"qc:1\n",
    "    --cwd $cwd\n",
    "    --genoFile $genoFile\n",
    "    --keep_samples $keep_samples\n",
    "    --keep_variants $keep_variants\n",
    "    --maf_filter $maf_filter\n",
    "    --geno_filter $geno_filter\n",
    "    --hwe_filter $hwe_filter\n",
    "    --mind_filter $mind_filter\n",
    "    --numThreads $numThreads \n",
    "    --job_size $job_size\n",
    "    --container_lmm $container_lmm\n",
    "    --mem $mem\n",
    "\"\"\"\n",
    "\n",
    "sos run ~/project/UKBB_GWAS_dev/admin/Get_Job_Script.ipynb csg \\\n",
    "    --template-file $tpl_file \\\n",
    "    --workflow-file $gwasqc_sos \\\n",
    "    --to-script $gwasqc_sbatch \\\n",
    "    --args \"$gwasqc1_args\""
   ]
  },
  {
   "cell_type": "markdown",
   "id": "366397ab-d87d-4e15-bb4e-c56455affa0a",
   "metadata": {
    "kernel": "R"
   },
   "source": [
    "### Ancestry restriction (Megan pipeline to use only people that self-identify as white-Bristish)\n",
    "\n",
    "In this case we are defining our own ancestry based on the PC analysis"
   ]
  },
  {
   "cell_type": "code",
   "execution_count": null,
   "id": "4a6c6847-fb79-4eef-adb2-d6744fbcf61a",
   "metadata": {
    "kernel": "R"
   },
   "outputs": [],
   "source": [
    "data.haveboth <- subset(data.haveboth, data.haveboth$f.22006.0.0==1)\n",
    "#n = 408245"
   ]
  },
  {
   "cell_type": "markdown",
   "id": "b272e057-0581-47b7-b284-a006ffb6598c",
   "metadata": {
    "kernel": "R"
   },
   "source": [
    "## Callrate"
   ]
  },
  {
   "cell_type": "code",
   "execution_count": null,
   "id": "3022b8de-77a2-48df-9d03-7016703ca0b3",
   "metadata": {
    "kernel": "R"
   },
   "outputs": [],
   "source": [
    "data.imissing <-read.table(\"/research_storage/scratch/UKBiobank/genotype_files/my_SNP_QC/bfiles_created_along_the_way/UKB_autosomalvariants_passing_batchQC_noindels_unrelated_whiteBritishsubjects_passing_standardexclusions_samplecallrt.irem\", header=FALSE, stringsAsFactors = FALSE)"
   ]
  },
  {
   "cell_type": "markdown",
   "id": "2daec050-81ef-43ce-b973-cdd7ad4133c5",
   "metadata": {
    "kernel": "R"
   },
   "source": [
    "## Determine how many of the individuals from the exome data are removed with the sampleQC in the genotype array data"
   ]
  },
  {
   "cell_type": "code",
   "execution_count": 58,
   "id": "762c4852-6caf-4a46-9594-6e7bd9e4be30",
   "metadata": {
    "kernel": "R",
    "tags": []
   },
   "outputs": [],
   "source": [
    "## Read-in 'white' individuals \n",
    "\n",
    "exomed_IID <- read.table('/mnt/mfs/statgen/archive/UKBiobank_Yale_transfer/pleiotropy_R01/ukb43978_OCT2020/dc2325_phenotypes/030821_ukb42495_exomed_white_189010ind')\n",
    "names(exomed_IID) <-c(\"FID\",\"IID\")"
   ]
  },
  {
   "cell_type": "code",
   "execution_count": 75,
   "id": "abb412c8-d135-4293-8cef-71655866ad96",
   "metadata": {
    "kernel": "R"
   },
   "outputs": [
    {
     "data": {
      "text/html": [
       "<table class=\"dataframe\">\n",
       "<caption>A data.frame: 6 x 2</caption>\n",
       "<thead>\n",
       "\t<tr><th></th><th scope=col>FID</th><th scope=col>IID</th></tr>\n",
       "\t<tr><th></th><th scope=col>&lt;int&gt;</th><th scope=col>&lt;int&gt;</th></tr>\n",
       "</thead>\n",
       "<tbody>\n",
       "\t<tr><th scope=row>1</th><td>1000019</td><td>1000019</td></tr>\n",
       "\t<tr><th scope=row>2</th><td>1000035</td><td>1000035</td></tr>\n",
       "\t<tr><th scope=row>3</th><td>1000078</td><td>1000078</td></tr>\n",
       "\t<tr><th scope=row>4</th><td>1000081</td><td>1000081</td></tr>\n",
       "\t<tr><th scope=row>5</th><td>1000198</td><td>1000198</td></tr>\n",
       "\t<tr><th scope=row>6</th><td>1000210</td><td>1000210</td></tr>\n",
       "</tbody>\n",
       "</table>\n"
      ],
      "text/latex": [
       "A data.frame: 6 x 2\n",
       "\\begin{tabular}{r|ll}\n",
       "  & FID & IID\\\\\n",
       "  & <int> & <int>\\\\\n",
       "\\hline\n",
       "\t1 & 1000019 & 1000019\\\\\n",
       "\t2 & 1000035 & 1000035\\\\\n",
       "\t3 & 1000078 & 1000078\\\\\n",
       "\t4 & 1000081 & 1000081\\\\\n",
       "\t5 & 1000198 & 1000198\\\\\n",
       "\t6 & 1000210 & 1000210\\\\\n",
       "\\end{tabular}\n"
      ],
      "text/markdown": [
       "\n",
       "A data.frame: 6 x 2\n",
       "\n",
       "| <!--/--> | FID &lt;int&gt; | IID &lt;int&gt; |\n",
       "|---|---|---|\n",
       "| 1 | 1000019 | 1000019 |\n",
       "| 2 | 1000035 | 1000035 |\n",
       "| 3 | 1000078 | 1000078 |\n",
       "| 4 | 1000081 | 1000081 |\n",
       "| 5 | 1000198 | 1000198 |\n",
       "| 6 | 1000210 | 1000210 |\n",
       "\n"
      ],
      "text/plain": [
       "  FID     IID    \n",
       "1 1000019 1000019\n",
       "2 1000035 1000035\n",
       "3 1000078 1000078\n",
       "4 1000081 1000081\n",
       "5 1000198 1000198\n",
       "6 1000210 1000210"
      ]
     },
     "metadata": {},
     "output_type": "display_data"
    },
    {
     "data": {
      "text/html": [
       "189010"
      ],
      "text/latex": [
       "189010"
      ],
      "text/markdown": [
       "189010"
      ],
      "text/plain": [
       "[1] 189010"
      ]
     },
     "metadata": {},
     "output_type": "display_data"
    }
   ],
   "source": [
    "head(exomed_IID)\n",
    "nrow(exomed_IID)"
   ]
  },
  {
   "cell_type": "code",
   "execution_count": 60,
   "id": "6a955c07-fcdd-4acf-9a02-2a76ee509b4e",
   "metadata": {
    "kernel": "R",
    "tags": []
   },
   "outputs": [],
   "source": [
    "ID_exome_not_geno <- exomed_IID %>%\n",
    "    filter(!IID %in% retained_IID$IID) %>%\n",
    "    select (\"FID\", \"IID\")"
   ]
  },
  {
   "cell_type": "code",
   "execution_count": 61,
   "id": "cb95c2b6-5928-4419-955b-7a4c0142b676",
   "metadata": {
    "kernel": "R",
    "tags": []
   },
   "outputs": [
    {
     "data": {
      "text/html": [
       "536"
      ],
      "text/latex": [
       "536"
      ],
      "text/markdown": [
       "536"
      ],
      "text/plain": [
       "[1] 536"
      ]
     },
     "metadata": {},
     "output_type": "display_data"
    }
   ],
   "source": [
    "# Individuals present in the exome data but that did not pass sample-QC on the genotype array data\n",
    "nrow(ID_exome_not_geno)"
   ]
  },
  {
   "cell_type": "code",
   "execution_count": 68,
   "id": "d2bc6790-7b2c-4e56-9808-ab77c5ed5e5e",
   "metadata": {
    "kernel": "R"
   },
   "outputs": [
    {
     "data": {
      "text/html": [
       "<table class=\"dataframe\">\n",
       "<caption>A data.frame: 6 x 13</caption>\n",
       "<thead>\n",
       "\t<tr><th></th><th scope=col>IID</th><th scope=col>FID</th><th scope=col>ignore1</th><th scope=col>ignore2</th><th scope=col>ignore3</th><th scope=col>ignore4</th><th scope=col>f.31.0.0</th><th scope=col>f.22001.0.0</th><th scope=col>f.22019.0.0</th><th scope=col>f.22027.0.0</th><th scope=col>f.22021.0.0</th><th scope=col>f.22006.0.0</th><th scope=col>sex_match</th></tr>\n",
       "\t<tr><th></th><th scope=col>&lt;int&gt;</th><th scope=col>&lt;int&gt;</th><th scope=col>&lt;int&gt;</th><th scope=col>&lt;int&gt;</th><th scope=col>&lt;int&gt;</th><th scope=col>&lt;int&gt;</th><th scope=col>&lt;int&gt;</th><th scope=col>&lt;int&gt;</th><th scope=col>&lt;int&gt;</th><th scope=col>&lt;int&gt;</th><th scope=col>&lt;int&gt;</th><th scope=col>&lt;int&gt;</th><th scope=col>&lt;lgl&gt;</th></tr>\n",
       "</thead>\n",
       "<tbody>\n",
       "\t<tr><th scope=row>374</th><td>1003854</td><td>1003854</td><td>0</td><td>0</td><td>1</td><td>-9</td><td>0</td><td>1</td><td>NA</td><td>NA</td><td>0</td><td>1</td><td>FALSE</td></tr>\n",
       "\t<tr><th scope=row>621</th><td>1006361</td><td>1006361</td><td>0</td><td>0</td><td>1</td><td>-9</td><td>0</td><td>1</td><td>NA</td><td>NA</td><td>0</td><td>1</td><td>FALSE</td></tr>\n",
       "\t<tr><th scope=row>1158</th><td>1011973</td><td>1011973</td><td>0</td><td>0</td><td>1</td><td>-9</td><td>0</td><td>1</td><td>NA</td><td>NA</td><td>0</td><td>1</td><td>FALSE</td></tr>\n",
       "\t<tr><th scope=row>1297</th><td>1013439</td><td>1013439</td><td>0</td><td>0</td><td>1</td><td>-9</td><td>0</td><td>1</td><td>NA</td><td>NA</td><td>1</td><td>1</td><td>FALSE</td></tr>\n",
       "\t<tr><th scope=row>1939</th><td>1019998</td><td>1019998</td><td>0</td><td>0</td><td>2</td><td>-9</td><td>1</td><td>0</td><td> 1</td><td>NA</td><td>1</td><td>1</td><td>FALSE</td></tr>\n",
       "\t<tr><th scope=row>3881</th><td>1040038</td><td>1040038</td><td>0</td><td>0</td><td>2</td><td>-9</td><td>1</td><td>0</td><td> 1</td><td>NA</td><td>1</td><td>1</td><td>FALSE</td></tr>\n",
       "</tbody>\n",
       "</table>\n"
      ],
      "text/latex": [
       "A data.frame: 6 x 13\n",
       "\\begin{tabular}{r|lllllllllllll}\n",
       "  & IID & FID & ignore1 & ignore2 & ignore3 & ignore4 & f.31.0.0 & f.22001.0.0 & f.22019.0.0 & f.22027.0.0 & f.22021.0.0 & f.22006.0.0 & sex\\_match\\\\\n",
       "  & <int> & <int> & <int> & <int> & <int> & <int> & <int> & <int> & <int> & <int> & <int> & <int> & <lgl>\\\\\n",
       "\\hline\n",
       "\t374 & 1003854 & 1003854 & 0 & 0 & 1 & -9 & 0 & 1 & NA & NA & 0 & 1 & FALSE\\\\\n",
       "\t621 & 1006361 & 1006361 & 0 & 0 & 1 & -9 & 0 & 1 & NA & NA & 0 & 1 & FALSE\\\\\n",
       "\t1158 & 1011973 & 1011973 & 0 & 0 & 1 & -9 & 0 & 1 & NA & NA & 0 & 1 & FALSE\\\\\n",
       "\t1297 & 1013439 & 1013439 & 0 & 0 & 1 & -9 & 0 & 1 & NA & NA & 1 & 1 & FALSE\\\\\n",
       "\t1939 & 1019998 & 1019998 & 0 & 0 & 2 & -9 & 1 & 0 &  1 & NA & 1 & 1 & FALSE\\\\\n",
       "\t3881 & 1040038 & 1040038 & 0 & 0 & 2 & -9 & 1 & 0 &  1 & NA & 1 & 1 & FALSE\\\\\n",
       "\\end{tabular}\n"
      ],
      "text/markdown": [
       "\n",
       "A data.frame: 6 x 13\n",
       "\n",
       "| <!--/--> | IID &lt;int&gt; | FID &lt;int&gt; | ignore1 &lt;int&gt; | ignore2 &lt;int&gt; | ignore3 &lt;int&gt; | ignore4 &lt;int&gt; | f.31.0.0 &lt;int&gt; | f.22001.0.0 &lt;int&gt; | f.22019.0.0 &lt;int&gt; | f.22027.0.0 &lt;int&gt; | f.22021.0.0 &lt;int&gt; | f.22006.0.0 &lt;int&gt; | sex_match &lt;lgl&gt; |\n",
       "|---|---|---|---|---|---|---|---|---|---|---|---|---|---|\n",
       "| 374 | 1003854 | 1003854 | 0 | 0 | 1 | -9 | 0 | 1 | NA | NA | 0 | 1 | FALSE |\n",
       "| 621 | 1006361 | 1006361 | 0 | 0 | 1 | -9 | 0 | 1 | NA | NA | 0 | 1 | FALSE |\n",
       "| 1158 | 1011973 | 1011973 | 0 | 0 | 1 | -9 | 0 | 1 | NA | NA | 0 | 1 | FALSE |\n",
       "| 1297 | 1013439 | 1013439 | 0 | 0 | 1 | -9 | 0 | 1 | NA | NA | 1 | 1 | FALSE |\n",
       "| 1939 | 1019998 | 1019998 | 0 | 0 | 2 | -9 | 1 | 0 |  1 | NA | 1 | 1 | FALSE |\n",
       "| 3881 | 1040038 | 1040038 | 0 | 0 | 2 | -9 | 1 | 0 |  1 | NA | 1 | 1 | FALSE |\n",
       "\n"
      ],
      "text/plain": [
       "     IID     FID     ignore1 ignore2 ignore3 ignore4 f.31.0.0 f.22001.0.0\n",
       "374  1003854 1003854 0       0       1       -9      0        1          \n",
       "621  1006361 1006361 0       0       1       -9      0        1          \n",
       "1158 1011973 1011973 0       0       1       -9      0        1          \n",
       "1297 1013439 1013439 0       0       1       -9      0        1          \n",
       "1939 1019998 1019998 0       0       2       -9      1        0          \n",
       "3881 1040038 1040038 0       0       2       -9      1        0          \n",
       "     f.22019.0.0 f.22027.0.0 f.22021.0.0 f.22006.0.0 sex_match\n",
       "374  NA          NA          0           1           FALSE    \n",
       "621  NA          NA          0           1           FALSE    \n",
       "1158 NA          NA          0           1           FALSE    \n",
       "1297 NA          NA          1           1           FALSE    \n",
       "1939  1          NA          1           1           FALSE    \n",
       "3881  1          NA          1           1           FALSE    "
      ]
     },
     "metadata": {},
     "output_type": "display_data"
    }
   ],
   "source": [
    "head(sexnomatch)"
   ]
  },
  {
   "cell_type": "code",
   "execution_count": 62,
   "id": "34988fbd-e442-47f8-815c-5bed2ef3ad85",
   "metadata": {
    "kernel": "R",
    "tags": []
   },
   "outputs": [
    {
     "data": {
      "text/html": [
       "0"
      ],
      "text/latex": [
       "0"
      ],
      "text/markdown": [
       "0"
      ],
      "text/plain": [
       "[1] 0"
      ]
     },
     "metadata": {},
     "output_type": "display_data"
    }
   ],
   "source": [
    "# How many removed because sex did not match\n",
    "nomatchsex <-  ID_exome_not_geno %>%\n",
    "    filter(IID %in% sexnomatch$IID)\n",
    "nrow(nomatchsex)"
   ]
  },
  {
   "cell_type": "code",
   "execution_count": 63,
   "id": "ce2e3f3d-d2ef-4a46-a5a4-ea0b38afee7a",
   "metadata": {
    "kernel": "R"
   },
   "outputs": [
    {
     "data": {
      "text/html": [
       "<table class=\"dataframe\">\n",
       "<caption>A matrix: 6 x 1 of type int</caption>\n",
       "<thead>\n",
       "\t<tr><th></th><th scope=col>IID</th></tr>\n",
       "</thead>\n",
       "<tbody>\n",
       "\t<tr><th scope=row>93</th><td>1000971</td></tr>\n",
       "\t<tr><th scope=row>1780</th><td>1018401</td></tr>\n",
       "\t<tr><th scope=row>1849</th><td>1019099</td></tr>\n",
       "\t<tr><th scope=row>2368</th><td>1024453</td></tr>\n",
       "\t<tr><th scope=row>2630</th><td>1027190</td></tr>\n",
       "\t<tr><th scope=row>4269</th><td>1044050</td></tr>\n",
       "</tbody>\n",
       "</table>\n"
      ],
      "text/latex": [
       "A matrix: 6 x 1 of type int\n",
       "\\begin{tabular}{r|l}\n",
       "  & IID\\\\\n",
       "\\hline\n",
       "\t93 & 1000971\\\\\n",
       "\t1780 & 1018401\\\\\n",
       "\t1849 & 1019099\\\\\n",
       "\t2368 & 1024453\\\\\n",
       "\t2630 & 1027190\\\\\n",
       "\t4269 & 1044050\\\\\n",
       "\\end{tabular}\n"
      ],
      "text/markdown": [
       "\n",
       "A matrix: 6 x 1 of type int\n",
       "\n",
       "| <!--/--> | IID |\n",
       "|---|---|\n",
       "| 93 | 1000971 |\n",
       "| 1780 | 1018401 |\n",
       "| 1849 | 1019099 |\n",
       "| 2368 | 1024453 |\n",
       "| 2630 | 1027190 |\n",
       "| 4269 | 1044050 |\n",
       "\n"
      ],
      "text/plain": [
       "     IID    \n",
       "93   1000971\n",
       "1780 1018401\n",
       "1849 1019099\n",
       "2368 1024453\n",
       "2630 1027190\n",
       "4269 1044050"
      ]
     },
     "metadata": {},
     "output_type": "display_data"
    }
   ],
   "source": [
    "head(aneu.toexclude)\n",
    "aneu.toexclude <- as.data.frame(aneu.toexclude)"
   ]
  },
  {
   "cell_type": "code",
   "execution_count": 64,
   "id": "0b0e75b9-7040-47d3-982f-753cb4b61ce5",
   "metadata": {
    "kernel": "R",
    "tags": []
   },
   "outputs": [
    {
     "data": {
      "text/html": [
       "162"
      ],
      "text/latex": [
       "162"
      ],
      "text/markdown": [
       "162"
      ],
      "text/plain": [
       "[1] 162"
      ]
     },
     "metadata": {},
     "output_type": "display_data"
    }
   ],
   "source": [
    "# How many have sex aneuploidies\n",
    "aneu <- ID_exome_not_geno %>%\n",
    "    filter(IID %in% aneu.toexclude$IID)\n",
    "nrow(aneu)"
   ]
  },
  {
   "cell_type": "code",
   "execution_count": 65,
   "id": "de8177a8-4420-4ddb-bd0a-f5c1bc2c5d32",
   "metadata": {
    "kernel": "R"
   },
   "outputs": [
    {
     "data": {
      "text/html": [
       "<table class=\"dataframe\">\n",
       "<caption>A matrix: 6 x 1 of type int</caption>\n",
       "<thead>\n",
       "\t<tr><th></th><th scope=col>IID</th></tr>\n",
       "</thead>\n",
       "<tbody>\n",
       "\t<tr><th scope=row>1396</th><td>1014455</td></tr>\n",
       "\t<tr><th scope=row>1644</th><td>1017024</td></tr>\n",
       "\t<tr><th scope=row>1699</th><td>1017579</td></tr>\n",
       "\t<tr><th scope=row>2996</th><td>1030922</td></tr>\n",
       "\t<tr><th scope=row>3350</th><td>1034540</td></tr>\n",
       "\t<tr><th scope=row>3795</th><td>1039146</td></tr>\n",
       "</tbody>\n",
       "</table>\n"
      ],
      "text/latex": [
       "A matrix: 6 x 1 of type int\n",
       "\\begin{tabular}{r|l}\n",
       "  & IID\\\\\n",
       "\\hline\n",
       "\t1396 & 1014455\\\\\n",
       "\t1644 & 1017024\\\\\n",
       "\t1699 & 1017579\\\\\n",
       "\t2996 & 1030922\\\\\n",
       "\t3350 & 1034540\\\\\n",
       "\t3795 & 1039146\\\\\n",
       "\\end{tabular}\n"
      ],
      "text/markdown": [
       "\n",
       "A matrix: 6 x 1 of type int\n",
       "\n",
       "| <!--/--> | IID |\n",
       "|---|---|\n",
       "| 1396 | 1014455 |\n",
       "| 1644 | 1017024 |\n",
       "| 1699 | 1017579 |\n",
       "| 2996 | 1030922 |\n",
       "| 3350 | 1034540 |\n",
       "| 3795 | 1039146 |\n",
       "\n"
      ],
      "text/plain": [
       "     IID    \n",
       "1396 1014455\n",
       "1644 1017024\n",
       "1699 1017579\n",
       "2996 1030922\n",
       "3350 1034540\n",
       "3795 1039146"
      ]
     },
     "metadata": {},
     "output_type": "display_data"
    }
   ],
   "source": [
    "head(list.toexclude)\n",
    "list.toexclude <- as.data.frame(list.toexclude)"
   ]
  },
  {
   "cell_type": "code",
   "execution_count": 67,
   "id": "e733c9e5-37e1-45eb-9cd4-e76973429366",
   "metadata": {
    "kernel": "R",
    "tags": []
   },
   "outputs": [
    {
     "data": {
      "text/html": [
       "365"
      ],
      "text/latex": [
       "365"
      ],
      "text/markdown": [
       "365"
      ],
      "text/plain": [
       "[1] 365"
      ]
     },
     "metadata": {},
     "output_type": "display_data"
    }
   ],
   "source": [
    "# How many removed for being outliers in heterozygosity and missing rates\n",
    "outliers <- ID_exome_not_geno %>%\n",
    "    filter(IID %in% list.toexclude$IID)\n",
    "nrow(outliers)"
   ]
  },
  {
   "cell_type": "code",
   "execution_count": null,
   "id": "25d668e5-172b-488b-b7af-93295a18e1dc",
   "metadata": {
    "kernel": "R",
    "tags": []
   },
   "outputs": [],
   "source": [
    "nrow(ID_exome_not_geno %>% filter(IID %in% dat$IID))"
   ]
  },
  {
   "cell_type": "markdown",
   "id": "1546a8eb-b4d2-46e2-a311-f63129486f8d",
   "metadata": {
    "kernel": "Bash"
   },
   "source": [
    "## Determine sample missingness for merged exomes "
   ]
  },
  {
   "cell_type": "code",
   "execution_count": 3,
   "id": "87bc9d81-0bba-4738-a5fc-72ed52fcb8f6",
   "metadata": {
    "kernel": "Bash",
    "tags": []
   },
   "outputs": [
    {
     "name": "stdout",
     "output_type": "stream",
     "text": [
      "INFO: Running \u001b[32mcsg\u001b[0m: Configuration for Columbia csg partition cluster\n",
      "INFO: \u001b[32mcsg\u001b[0m is \u001b[32mcompleted\u001b[0m.\n",
      "INFO: \u001b[32mcsg\u001b[0m output:   \u001b[32m/home/dmc2245/project/UKBB_GWAS_dev/output/exome_sample_missingess_2021-09-03.sbatch\u001b[0m\n",
      "INFO: Workflow csg (ID=wfadfd852309f5295) is executed successfully with 1 completed step.\n",
      "\n"
     ]
    }
   ],
   "source": [
    "# This is the path to the data transferred from Yale\n",
    "UKBB_yale=/mnt/mfs/statgen/archive/UKBiobank_Yale_transfer\n",
    "UKBB_PATH=/mnt/mfs/statgen/UKBiobank\n",
    "USER_PATH=$HOME/project\n",
    "OUT_PATH=$USER_PATH/UKBB_GWAS_dev/output\n",
    "tpl_file=$USER_PATH/bioworkflows/admin/csg.yml\n",
    "container_lmm=$HOME/containers/lmm.sif\n",
    "#Columbia's cluster\n",
    "cwd=~/UKBiobank/data/exome_files/project_VCF/072721_run/merged_plink/mind_0.1\n",
    "# orginal bfile\n",
    "genoFile=~/UKBiobank/data/exome_files/project_VCF/072721_run/merged_plink/ukb23155_qc_merged.bed\n",
    "gwasqc_sos=$USER_PATH/bioworkflows/GWAS/GWAS_QC.ipynb\n",
    "gwasqc_sbatch=$USER_PATH/UKBB_GWAS_dev/output/exome_sample_missingess_$(date +\"%Y-%m-%d\").sbatch\n",
    "##remove individuals with > 10% genotypes missing\n",
    "maf_filter=0\n",
    "geno_filter=0\n",
    "hwe_filter=0\n",
    "mind_filter=0.1\n",
    "mem='30G'\n",
    "name='090221'\n",
    "job_size=1\n",
    "numThreads=2\n",
    "\n",
    "gwasqc1_args=\"\"\"qc:1\n",
    "    --cwd $cwd\n",
    "    --genoFile $genoFile\n",
    "    --maf_filter $maf_filter\n",
    "    --geno_filter $geno_filter\n",
    "    --hwe_filter $hwe_filter\n",
    "    --mind_filter $mind_filter\n",
    "    --numThreads $numThreads \n",
    "    --job_size $job_size\n",
    "    --container_lmm $container_lmm\n",
    "    --mem $mem\n",
    "\"\"\"\n",
    "\n",
    "sos run ~/project/UKBB_GWAS_dev/admin/Get_Job_Script.ipynb csg \\\n",
    "    --template-file $tpl_file \\\n",
    "    --workflow-file $gwasqc_sos \\\n",
    "    --to-script $gwasqc_sbatch \\\n",
    "    --args \"$gwasqc1_args\""
   ]
  },
  {
   "cell_type": "code",
   "execution_count": 6,
   "id": "025afaa7-2b56-4b5e-87dc-374c6154ff81",
   "metadata": {
    "kernel": "R"
   },
   "outputs": [],
   "source": [
    "## Select individuals for PCA phenofile \n",
    "white <- read.table(\"~/UKBiobank_Yale_transfer/pleiotropy_R01/ukb43978_OCT2020/dc2325_phenotypes/030821_ukb42495_exomed_white_189010ind.pheno\", sep=\"\\t\", header=TRUE)"
   ]
  },
  {
   "cell_type": "code",
   "execution_count": 7,
   "id": "b285c93c-d4d1-429d-a003-e08e88729974",
   "metadata": {
    "kernel": "R"
   },
   "outputs": [
    {
     "data": {
      "text/html": [
       "<table class=\"dataframe\">\n",
       "<caption>A data.frame: 6 x 3</caption>\n",
       "<thead>\n",
       "\t<tr><th></th><th scope=col>FID</th><th scope=col>IID</th><th scope=col>ethnicity</th></tr>\n",
       "\t<tr><th></th><th scope=col>&lt;int&gt;</th><th scope=col>&lt;int&gt;</th><th scope=col>&lt;fct&gt;</th></tr>\n",
       "</thead>\n",
       "<tbody>\n",
       "\t<tr><th scope=row>1</th><td>1000019</td><td>1000019</td><td>British</td></tr>\n",
       "\t<tr><th scope=row>2</th><td>1000035</td><td>1000035</td><td>British</td></tr>\n",
       "\t<tr><th scope=row>3</th><td>1000078</td><td>1000078</td><td>British</td></tr>\n",
       "\t<tr><th scope=row>4</th><td>1000081</td><td>1000081</td><td>British</td></tr>\n",
       "\t<tr><th scope=row>5</th><td>1000198</td><td>1000198</td><td>British</td></tr>\n",
       "\t<tr><th scope=row>6</th><td>1000210</td><td>1000210</td><td>British</td></tr>\n",
       "</tbody>\n",
       "</table>\n"
      ],
      "text/latex": [
       "A data.frame: 6 x 3\n",
       "\\begin{tabular}{r|lll}\n",
       "  & FID & IID & ethnicity\\\\\n",
       "  & <int> & <int> & <fct>\\\\\n",
       "\\hline\n",
       "\t1 & 1000019 & 1000019 & British\\\\\n",
       "\t2 & 1000035 & 1000035 & British\\\\\n",
       "\t3 & 1000078 & 1000078 & British\\\\\n",
       "\t4 & 1000081 & 1000081 & British\\\\\n",
       "\t5 & 1000198 & 1000198 & British\\\\\n",
       "\t6 & 1000210 & 1000210 & British\\\\\n",
       "\\end{tabular}\n"
      ],
      "text/markdown": [
       "\n",
       "A data.frame: 6 x 3\n",
       "\n",
       "| <!--/--> | FID &lt;int&gt; | IID &lt;int&gt; | ethnicity &lt;fct&gt; |\n",
       "|---|---|---|---|\n",
       "| 1 | 1000019 | 1000019 | British |\n",
       "| 2 | 1000035 | 1000035 | British |\n",
       "| 3 | 1000078 | 1000078 | British |\n",
       "| 4 | 1000081 | 1000081 | British |\n",
       "| 5 | 1000198 | 1000198 | British |\n",
       "| 6 | 1000210 | 1000210 | British |\n",
       "\n"
      ],
      "text/plain": [
       "  FID     IID     ethnicity\n",
       "1 1000019 1000019 British  \n",
       "2 1000035 1000035 British  \n",
       "3 1000078 1000078 British  \n",
       "4 1000081 1000081 British  \n",
       "5 1000198 1000198 British  \n",
       "6 1000210 1000210 British  "
      ]
     },
     "metadata": {},
     "output_type": "display_data"
    }
   ],
   "source": [
    "head(white)"
   ]
  },
  {
   "cell_type": "code",
   "execution_count": 17,
   "id": "2de8e368-ded6-407e-9f4e-5325674e40de",
   "metadata": {
    "kernel": "R"
   },
   "outputs": [],
   "source": [
    "pca_keep <- read.table(\"/mnt/mfs/statgen/UKBiobank/results/083021_PCA_results/europeans/cache/UKB_genotypedatadownloaded083019.090221_sample_variant_qc_final_callrate90.filtered.extracted.europeans.filtered.fam\")\n",
    "names(pca_keep) <-c(\"FID\",\"IID\", \"ignore1\",\"ignore2\", \"ignore3\", \"ignore4\")"
   ]
  },
  {
   "cell_type": "code",
   "execution_count": 18,
   "id": "89fc1eb2-3688-4ffb-8e80-ef48349da465",
   "metadata": {
    "kernel": "R"
   },
   "outputs": [
    {
     "data": {
      "text/html": [
       "<table class=\"dataframe\">\n",
       "<caption>A data.frame: 6 x 6</caption>\n",
       "<thead>\n",
       "\t<tr><th></th><th scope=col>FID</th><th scope=col>IID</th><th scope=col>ignore1</th><th scope=col>ignore2</th><th scope=col>ignore3</th><th scope=col>ignore4</th></tr>\n",
       "\t<tr><th></th><th scope=col>&lt;int&gt;</th><th scope=col>&lt;int&gt;</th><th scope=col>&lt;int&gt;</th><th scope=col>&lt;int&gt;</th><th scope=col>&lt;int&gt;</th><th scope=col>&lt;int&gt;</th></tr>\n",
       "</thead>\n",
       "<tbody>\n",
       "\t<tr><th scope=row>1</th><td>1000019</td><td>1000019</td><td>0</td><td>0</td><td>2</td><td>-9</td></tr>\n",
       "\t<tr><th scope=row>2</th><td>1000035</td><td>1000035</td><td>0</td><td>0</td><td>1</td><td>-9</td></tr>\n",
       "\t<tr><th scope=row>3</th><td>1000078</td><td>1000078</td><td>0</td><td>0</td><td>2</td><td>-9</td></tr>\n",
       "\t<tr><th scope=row>4</th><td>1000081</td><td>1000081</td><td>0</td><td>0</td><td>1</td><td>-9</td></tr>\n",
       "\t<tr><th scope=row>5</th><td>1000198</td><td>1000198</td><td>0</td><td>0</td><td>2</td><td>-9</td></tr>\n",
       "\t<tr><th scope=row>6</th><td>1000210</td><td>1000210</td><td>0</td><td>0</td><td>1</td><td>-9</td></tr>\n",
       "</tbody>\n",
       "</table>\n"
      ],
      "text/latex": [
       "A data.frame: 6 x 6\n",
       "\\begin{tabular}{r|llllll}\n",
       "  & FID & IID & ignore1 & ignore2 & ignore3 & ignore4\\\\\n",
       "  & <int> & <int> & <int> & <int> & <int> & <int>\\\\\n",
       "\\hline\n",
       "\t1 & 1000019 & 1000019 & 0 & 0 & 2 & -9\\\\\n",
       "\t2 & 1000035 & 1000035 & 0 & 0 & 1 & -9\\\\\n",
       "\t3 & 1000078 & 1000078 & 0 & 0 & 2 & -9\\\\\n",
       "\t4 & 1000081 & 1000081 & 0 & 0 & 1 & -9\\\\\n",
       "\t5 & 1000198 & 1000198 & 0 & 0 & 2 & -9\\\\\n",
       "\t6 & 1000210 & 1000210 & 0 & 0 & 1 & -9\\\\\n",
       "\\end{tabular}\n"
      ],
      "text/markdown": [
       "\n",
       "A data.frame: 6 x 6\n",
       "\n",
       "| <!--/--> | FID &lt;int&gt; | IID &lt;int&gt; | ignore1 &lt;int&gt; | ignore2 &lt;int&gt; | ignore3 &lt;int&gt; | ignore4 &lt;int&gt; |\n",
       "|---|---|---|---|---|---|---|\n",
       "| 1 | 1000019 | 1000019 | 0 | 0 | 2 | -9 |\n",
       "| 2 | 1000035 | 1000035 | 0 | 0 | 1 | -9 |\n",
       "| 3 | 1000078 | 1000078 | 0 | 0 | 2 | -9 |\n",
       "| 4 | 1000081 | 1000081 | 0 | 0 | 1 | -9 |\n",
       "| 5 | 1000198 | 1000198 | 0 | 0 | 2 | -9 |\n",
       "| 6 | 1000210 | 1000210 | 0 | 0 | 1 | -9 |\n",
       "\n"
      ],
      "text/plain": [
       "  FID     IID     ignore1 ignore2 ignore3 ignore4\n",
       "1 1000019 1000019 0       0       2       -9     \n",
       "2 1000035 1000035 0       0       1       -9     \n",
       "3 1000078 1000078 0       0       2       -9     \n",
       "4 1000081 1000081 0       0       1       -9     \n",
       "5 1000198 1000198 0       0       2       -9     \n",
       "6 1000210 1000210 0       0       1       -9     "
      ]
     },
     "metadata": {},
     "output_type": "display_data"
    }
   ],
   "source": [
    "head(pca_keep)"
   ]
  },
  {
   "cell_type": "code",
   "execution_count": 20,
   "id": "da7fa7f0-9672-4da7-8c85-bc9320185922",
   "metadata": {
    "kernel": "R"
   },
   "outputs": [
    {
     "name": "stderr",
     "output_type": "stream",
     "text": [
      "── \u001b[1mAttaching packages\u001b[22m ─────────────────────────────────────── tidyverse 1.3.1 ──\n",
      "\n",
      "\u001b[32m✔\u001b[39m \u001b[34mggplot2\u001b[39m 3.3.5     \u001b[32m✔\u001b[39m \u001b[34mpurrr  \u001b[39m 0.3.4\n",
      "\u001b[32m✔\u001b[39m \u001b[34mtibble \u001b[39m 3.1.2     \u001b[32m✔\u001b[39m \u001b[34mdplyr  \u001b[39m 1.0.7\n",
      "\u001b[32m✔\u001b[39m \u001b[34mtidyr  \u001b[39m 1.1.3     \u001b[32m✔\u001b[39m \u001b[34mstringr\u001b[39m 1.4.0\n",
      "\u001b[32m✔\u001b[39m \u001b[34mreadr  \u001b[39m 1.4.0     \u001b[32m✔\u001b[39m \u001b[34mforcats\u001b[39m 0.5.1\n",
      "\n",
      "── \u001b[1mConflicts\u001b[22m ────────────────────────────────────────── tidyverse_conflicts() ──\n",
      "\u001b[31m✖\u001b[39m \u001b[34mdplyr\u001b[39m::\u001b[32mfilter()\u001b[39m masks \u001b[34mstats\u001b[39m::filter()\n",
      "\u001b[31m✖\u001b[39m \u001b[34mdplyr\u001b[39m::\u001b[32mlag()\u001b[39m    masks \u001b[34mstats\u001b[39m::lag()\n",
      "\n"
     ]
    }
   ],
   "source": [
    "library(tidyverse)\n",
    "selected <- white %>%\n",
    "    filter(IID %in% pca_keep$IID)"
   ]
  },
  {
   "cell_type": "code",
   "execution_count": 21,
   "id": "48ee0b26-18f9-4a83-8a91-d124874be9ef",
   "metadata": {
    "kernel": "R"
   },
   "outputs": [
    {
     "data": {
      "text/html": [
       "188474"
      ],
      "text/latex": [
       "188474"
      ],
      "text/markdown": [
       "188474"
      ],
      "text/plain": [
       "[1] 188474"
      ]
     },
     "metadata": {},
     "output_type": "display_data"
    }
   ],
   "source": [
    "nrow(selected)"
   ]
  },
  {
   "cell_type": "code",
   "execution_count": null,
   "id": "434f2f1b-301a-4254-9982-ed134ab7696a",
   "metadata": {
    "kernel": "R"
   },
   "outputs": [],
   "source": []
  }
 ],
 "metadata": {
  "kernelspec": {
   "display_name": "SoS",
   "language": "sos",
   "name": "sos"
  },
  "language_info": {
   "codemirror_mode": "sos",
   "file_extension": ".sos",
   "mimetype": "text/x-sos",
   "name": "sos",
   "nbconvert_exporter": "sos_notebook.converter.SoS_Exporter",
   "pygments_lexer": "sos"
  },
  "sos": {
   "kernels": [
    [
     "Bash",
     "calysto_bash",
     "Bash",
     "#E6EEFF",
     ""
    ],
    [
     "R",
     "ir",
     "R",
     "#DCDCDA",
     "r"
    ]
   ],
   "version": "0.22.6"
  }
 },
 "nbformat": 4,
 "nbformat_minor": 5
}
