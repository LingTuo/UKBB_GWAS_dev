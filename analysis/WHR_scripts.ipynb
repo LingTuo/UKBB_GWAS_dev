{
 "cells": [
  {
   "cell_type": "markdown",
   "metadata": {
    "kernel": "SoS"
   },
   "source": [
    "## Analysis of waist-to-hip ratio (WHR)"
   ]
  },
  {
   "cell_type": "markdown",
   "metadata": {
    "kernel": "SoS"
   },
   "source": [
    "This notebook applies the `Get_Job_Script.ipynb` to automatically generate the sbatch scripts to run in Yale's cluster. The end result is to apply [various LMM workflows](https://github.com/statgenetics/UKBB_GWAS_dev/tree/master/workflow) to perform association analysis in the INT-WHR trait, do clumping analysis and extract associated regions."
   ]
  },
  {
   "cell_type": "markdown",
   "metadata": {
    "kernel": "SoS"
   },
   "source": [
    "## File paths on Yale cluster\n",
    "\n",
    "- Genotype files in PLINK format:\n",
    "`/gpfs/gibbs/pi/dewan/data/UKBiobank/genotype_files/pleiotropy_geneticfiles/UKB_Caucasians_phenotypeindepqc120319_updated020720removedwithdrawnindiv`\n",
    "- Genotype files in BGEN format:\n",
    "`SAY/dbgapstg/scratch/UKBiobank/genotype_files/ukb39554_imputeddataset/`\n",
    "- Summary stats for imputed variants BOLT-LMM:\n",
    "`/gpfs/gibbs/pi/dewan/data/UKBiobank/results/BOLTLMM_results/results_imputed_data`\n",
    "- Summary stats for inputed variants FastGWA:\n",
    "`/gpfs/gibbs/pi/dewan/data/UKBiobank/results/FastGWA_results/results_imputed_data`\n",
    "- Phenotype files:\n",
    "`/gpfs/gibbs/pi/dewan/data/UKBiobank/phenotype_files/pleiotropy_R01/phenotypesforanalysis`\n",
    "- Relationship file:\n",
    "`/gpfs/gibbs/pi/dewan/data/UKBiobank/genotype_files/pleiotropy_geneticfiles/unrelated_n307259/UKB_unrelatedcauc_phenotypes_asthmat2dbmiwaisthip_agesex_waisthipratio_040620`"
   ]
  },
  {
   "cell_type": "markdown",
   "metadata": {
    "kernel": "SoS"
   },
   "source": [
    "## 07/01/20 analysis\n",
    "\n",
    "On the cluster, open up this notebook using the JupyterLab server you set up via the ssh channel, then run the following cells,"
   ]
  },
  {
   "cell_type": "markdown",
   "metadata": {
    "kernel": "SoS"
   },
   "source": [
    "### Bash variables for workflow configurations"
   ]
  },
  {
   "cell_type": "code",
   "execution_count": 50,
   "metadata": {
    "kernel": "Bash"
   },
   "outputs": [],
   "source": [
    "# Common variables\n",
    "tpl_file=../farnam.yml\n",
    "bfile=/gpfs/gibbs/pi/dewan/data/UKBiobank/genotype_files/pleiotropy_geneticfiles/UKB_Caucasians_phenotypeindepqc120319_updated082020removedwithdrawnindiv.bed\n",
    "sampleFile=/gpfs/gibbs/pi/dewan/data/UKBiobank/genotype_files/ukb39554_imputeddataset/ukb32285_imputedindiv.sample\n",
    "bgenFile=`echo /gpfs/gibbs/pi/dewan/data/UKBiobank/genotype_files/ukb39554_imputeddataset/ukb_imp_chr{1..22}_v3.bgen`\n",
    "unrelated_samples=/gpfs/gibbs/pi/dewan/data/UKBiobank/genotype_files/pleiotropy_geneticfiles/unrelated_n307259/UKB_unrelatedcauc_phenotypes_asthmat2dbmiwaisthip_agesex_waisthipratio_040620\n",
    "formatFile_fastgwa=~/project/UKBB_GWAS_dev/data/fastGWA_template.yml\n",
    "formatFile_bolt=~/project/UKBB_GWAS_dev/data/boltlmm_template.yml\n",
    "formatFile_saige=~/project/UKBB_GWAS_dev/data/saige_template.yml\n",
    "container_lmm=/gpfs/gibbs/pi/dewan/data/UKBiobank/lmm.sif\n",
    "container_marp=/gpfs/gibbs/pi/dewan/data/UKBiobank/marp.sif\n",
    "# LMM directories\n",
    "lmm_dir_fastgwa=/gpfs/gibbs/pi/dewan/data/UKBiobank/results/FastGWA_results/results_imputed_data/INT-WHR\n",
    "lmm_dir_bolt=/gpfs/gibbs/pi/dewan/data/UKBiobank/results/BOLTLMM_results/results_imputed_data/INT-WHR\n",
    "lmm_dir_saige=/gpfs/gibbs/pi/dewan/data/UKBiobank/results/SAIGE_results/results_imputed_data/INT-WHR\n",
    "lmm_sos=~/project/bioworkflows/GWAS/LMM.ipynb\n",
    "lmm_sbatch_fastgwa=../output/$(date +\"%Y-%m-%d\")_INT-WHR-fastgwa.sbatch\n",
    "lmm_sbatch_bolt=../output/$(date +\"%Y-%m-%d\")_INT-WHR-bolt.sbatch\n",
    "lmm_sbatch_saige=../output/$(date +\"%Y-%m-%d\")_INT-WHR-saige.sbatch\n",
    "phenoFile=/gpfs/gibbs/pi/dewan/data/UKBiobank/phenotype_files/pleiotropy_R01/phenotypesforanalysis/normalized_phenotypes/phenotypes_UKB/UKB_caucasians_BMIwaisthip_AsthmaAndT2D_INT-WHR_withagesex_042020\n",
    "## LMM variables \n",
    "covarFile=/gpfs/gibbs/pi/dewan/data/UKBiobank/phenotype_files/pleiotropy_R01/phenotypesforanalysis/normalized_phenotypes/UKB_caucasians_BMIwaisthip_AsthmaAndT2D_INT-WHR_withagesex_042020\n",
    "LDscoresFile=/gpfs/gibbs/pi/dewan/data/UKBiobank/LDSCORE.1000G_EUR.tab.gz\n",
    "geneticMapFile=/gpfs/gibbs/pi/dewan/data/UKBiobank/genetic_map_hg19_withX.txt.gz\n",
    "phenoCol=INT-WHR\n",
    "covarCol=SEX\n",
    "covarMaxLevels=10\n",
    "qCovarCol=\"AGE BMI\"\n",
    "numThreads=20\n",
    "bgenMinMAF=0.001\n",
    "bgenMinINFO=0.8\n",
    "lmm_job_size=1\n",
    "### Specific to SAIGE\n",
    "bgenMinMAC=4\n",
    "trait_type=quantitative\n",
    "loco=TRUE\n",
    "sampleCol=IID\n",
    "# LD clumping directories\n",
    "clumping_dir=/gpfs/gibbs/pi/dewan/data/UKBiobank/results/LD_clumping/INT-WHR\n",
    "clumping_sos=../workflow/LD_Clumping.ipynb\n",
    "clumping_sbatch=../output/$(date +\"%Y-%m-%d\")_INT-WHR_ldclumping.sbatch\n",
    "## LD clumping variables\n",
    "bfile_ref=/gpfs/gibbs/pi/dewan/data/UKBiobank/results/LD_clumping/UKB_Caucasians_phenotypeindepqc120319_updated020720removedwithdrawnindiv.1210.ref_geno\n",
    "# For sumtastsFiles if more than one provide each path\n",
    "# In this case analysis INT-WHR and asthma\n",
    "sumstatsFiles=\"/gpfs/gibbs/pi/dewan/data/UKBiobank/results/BOLTLMM_results/results_imputed_data/INT-WHR/ukb_imp_v3.UKB_caucasians_BMIwaisthip_AsthmaAndT2D_INT-WHR_withagesex_042020.BoltLMM.snp_stats.all_chr.gz \\\n",
    "               /gpfs/gibbs/pi/dewan/data/UKBiobank/results/FastGWA_results/results_imputed_data/asthma/ukb_imp_v3.Asthma_casesbyICD10codesANDselfreport_controlsbyselfreportandicd10_noautoimmuneincontrols.fastGWA.snp_stats.all_chr.gz\"\n",
    "ld_sample_size=1210\n",
    "clump_field=P\n",
    "clump_p1=5e-08\n",
    "clump_p2=1\n",
    "clump_r2=0.2\n",
    "clump_kb=2000\n",
    "clump_annotate=BP\n",
    "numThreads=20\n",
    "clump_job_size=1\n",
    "# Region extraction directories\n",
    "extract_dir=/gpfs/gibbs/pi/dewan/data/UKBiobank/results/region_extraction/INT-WHR\n",
    "extract_sos=../workflow/Region_Extraction.ipynb\n",
    "extract_sbatch=../output/$(date +\"%Y-%m-%d\")_INT-WHR-region.sbatch\n",
    "## Region extraction variables\n",
    "region_file=/gpfs/gibbs/pi/dewan/data/UKBiobank/results/LD_clumping/INT-WHR/*.clumped_region\n",
    "geno_path=/gpfs/gibbs/pi/dewan/data/UKBiobank/results/UKBB_bgenfilepath.txt\n",
    "sumstats_path=/gpfs/gibbs/pi/dewan/data/UKBiobank/results/BOLTLMM_results/results_imputed_data/INT-WHR/ukb_imp_v3.UKB_caucasians_BMIwaisthip_AsthmaAndT2D_INT-WHR_withagesex_042020.BoltLMM.snp_stats.all_chr.gz\n",
    "extract_job_size=10"
   ]
  },
  {
   "cell_type": "markdown",
   "metadata": {
    "kernel": "SoS"
   },
   "source": [
    "### BoltLMM job"
   ]
  },
  {
   "cell_type": "code",
   "execution_count": 17,
   "metadata": {
    "kernel": "Bash"
   },
   "outputs": [
    {
     "name": "stdout",
     "output_type": "stream",
     "text": [
      "INFO: Running \u001b[32mfarnam\u001b[0m: Configuration for Yale `farnam` cluster\n",
      "INFO: \u001b[32mfarnam\u001b[0m is \u001b[32mcompleted\u001b[0m.\n",
      "INFO: \u001b[32mfarnam\u001b[0m output:   \u001b[32m../output/2020-07-17_INT-WHR-bolt.sbatch\u001b[0m\n",
      "INFO: Workflow farnam (ID=d38bbddbb1f90efa) is executed successfully with 1 completed step.\n"
     ]
    }
   ],
   "source": [
    "#Running the workflow for INT-WHR trait. Here I used age, sex and BMI as covariates.\n",
    "lmm_args=\"\"\"boltlmm\n",
    "    --cwd $lmm_dir_bolt\n",
    "    --bfile $bfile \n",
    "    --sampleFile $sampleFile\n",
    "    --bgenFile $bgenFile \n",
    "    --phenoFile $phenoFile \n",
    "    --formatFile $formatFile_bolt \n",
    "    --covarFile $covarFile \n",
    "    --LDscoresFile $LDscoresFile \n",
    "    --geneticMapFile $geneticMapFile \n",
    "    --phenoCol $phenoCol \n",
    "    --covarCol $covarCol \n",
    "    --covarMaxLevels $covarMaxLevels \n",
    "    --qCovarCol $qCovarCol \n",
    "    --numThreads $numThreads \n",
    "    --bgenMinMAF $bgenMinMAF \n",
    "    --bgenMinINFO $bgenMinINFO \n",
    "    --job_size $lmm_job_size\n",
    "    --container_lmm $container_lmm\n",
    "    --container_marp $container_marp\n",
    "\"\"\"\n",
    "\n",
    "sos run ../workflow/Get_Job_Script.ipynb farnam \\\n",
    "    --template-file $tpl_file \\\n",
    "    --workflow-file $lmm_sos \\\n",
    "    --to-script $lmm_sbatch_bolt \\\n",
    "    --args \"$lmm_args\""
   ]
  },
  {
   "cell_type": "markdown",
   "metadata": {
    "kernel": "SoS"
   },
   "source": [
    "## FastGWA job"
   ]
  },
  {
   "cell_type": "code",
   "execution_count": null,
   "metadata": {
    "kernel": "Bash"
   },
   "outputs": [],
   "source": [
    "lmm_args=\"\"\"fastGWA\n",
    "    --cwd $lmm_dir_fastgwa \n",
    "    --bfile $bfile \n",
    "    --sampleFile $sampleFile\n",
    "    --bgenFile $bgenFile \n",
    "    --phenoFile $phenoFile \n",
    "    --formatFile $formatFile_fastgwa \n",
    "    --covarFile $covarFile \n",
    "    --LDscoresFile $LDscoresFile \n",
    "    --geneticMapFile $geneticMapFile \n",
    "    --phenoCol $phenoCol \n",
    "    --covarCol $covarCol \n",
    "    --covarMaxLevels $covarMaxLevels \n",
    "    --qCovarCol $qCovarCol \n",
    "    --numThreads $numThreads \n",
    "    --bgenMinMAF $bgenMinMAF \n",
    "    --bgenMinINFO $bgenMinINFO \n",
    "    --job_size $lmm_job_size\n",
    "    --container_lmm $container_lmm\n",
    "    --container_marp $container_marp\n",
    "\"\"\"\n",
    "\n",
    "sos run ../workflow/Get_Job_Script.ipynb farnam \\\n",
    "    --template-file $tpl_file \\\n",
    "    --workflow-file $lmm_sos \\\n",
    "    --to-script $lmm_sbatch_fastgwa \\\n",
    "    --args \"$lmm_args\""
   ]
  },
  {
   "cell_type": "markdown",
   "metadata": {
    "kernel": "SoS"
   },
   "source": [
    "## SAIGE job"
   ]
  },
  {
   "cell_type": "code",
   "execution_count": null,
   "metadata": {
    "kernel": "Bash"
   },
   "outputs": [],
   "source": [
    "lmm_args=\"\"\"SAIGE\n",
    "    --cwd $lmm_dir_saige \n",
    "    --bfile $bfile \n",
    "    --sampleFile $sampleFile\n",
    "    --bgenFile $bgenFile \n",
    "    --phenoFile $phenoFile \n",
    "    --formatFile $formatFile_saige \n",
    "    --covarFile $covarFile \n",
    "    --LDscoresFile $LDscoresFile \n",
    "    --geneticMapFile $geneticMapFile \n",
    "    --phenoCol $phenoCol \n",
    "    --covarCol $covarCol \n",
    "    --covarMaxLevels $covarMaxLevels \n",
    "    --qCovarCol $qCovarCol \n",
    "    --numThreads $numThreads \n",
    "    --bgenMinMAF $bgenMinMAF \n",
    "    --bgenMinINFO $bgenMinINFO \n",
    "    --bgenMinMAC $bgenMinMAC\n",
    "    --trait_type $trait_type\n",
    "    --loco $loco\n",
    "    --sampleCol $sampleCol\n",
    "    --job_size $lmm_job_size\n",
    "    --container_lmm $container_lmm\n",
    "    --container_marp $container_marp\n",
    "\"\"\"\n",
    "\n",
    "sos run ../workflow/Get_Job_Script.ipynb farnam \\\n",
    "    --template-file $tpl_file \\\n",
    "    --workflow-file $lmm_sos \\\n",
    "    --to-script $lmm_sbatch_saige \\\n",
    "    --args \"$lmm_args\""
   ]
  },
  {
   "cell_type": "markdown",
   "metadata": {
    "kernel": "SoS"
   },
   "source": [
    "### LD clumping job"
   ]
  },
  {
   "cell_type": "code",
   "execution_count": 51,
   "metadata": {
    "kernel": "Bash"
   },
   "outputs": [
    {
     "name": "stdout",
     "output_type": "stream",
     "text": [
      "INFO: Running \u001b[32mfarnam\u001b[0m: Configuration for Yale `farnam` cluster\n",
      "INFO: \u001b[32mfarnam\u001b[0m is \u001b[32mcompleted\u001b[0m.\n",
      "INFO: \u001b[32mfarnam\u001b[0m output:   \u001b[32m../output/2020-07-17_INT-WHR_ldclumping.sbatch\u001b[0m\n",
      "INFO: Workflow farnam (ID=8a9b20dae6b34876) is executed successfully with 1 completed step.\n"
     ]
    }
   ],
   "source": [
    "clumping_args=\"\"\"default \n",
    "    --cwd $clumping_dir \n",
    "    --bfile $bfile\n",
    "    --bfile_ref $bfile_ref\n",
    "    --bgenFile $bgenFile\n",
    "    --sampleFile $sampleFile \n",
    "    --sumstatsFiles $sumstatsFiles \n",
    "    --unrelated_samples $unrelated_samples \n",
    "    --ld_sample_size $ld_sample_size \n",
    "    --clump_field $clump_field\n",
    "    --clump_p1 $clump_p1 \n",
    "    --clump_p2 $clump_p2 \n",
    "    --clump_r2 $clump_r2 \n",
    "    --clump_kb $clump_kb \n",
    "    --clump_annotate $clump_annotate \n",
    "    --numThreads $numThreads \n",
    "    --job_size $clump_job_size\n",
    "\"\"\"\n",
    "\n",
    "sos run ../workflow/Get_Job_Script.ipynb farnam \\\n",
    "    --template-file $tpl_file \\\n",
    "    --workflow-file $clumping_sos \\\n",
    "    --to-script $clumping_sbatch \\\n",
    "    --args \"$clumping_args\""
   ]
  },
  {
   "cell_type": "code",
   "execution_count": 47,
   "metadata": {
    "kernel": "Bash"
   },
   "outputs": [
    {
     "data": {
      "text/html": [
       "<div class=\"sos_hint\">> ../output/2020-07-17_INT-WHR_ldclumping.sbatch (3.9 KiB):</div>"
      ],
      "text/plain": [
       "\n",
       "> ../output/2020-07-17_INT-WHR_ldclumping.sbatch (3.9 KiB):"
      ]
     },
     "metadata": {},
     "output_type": "display_data"
    },
    {
     "data": {
      "text/html": [
       "<div class=\"sos_hint\">32 lines (-1 displayed, see --limit)</div>"
      ]
     },
     "metadata": {},
     "output_type": "display_data"
    },
    {
     "name": "stdout",
     "output_type": "stream",
     "text": [
      "#!/bin/bash\n",
      "#SBATCH --partition general\n",
      "#SBATCH --nodes 1\n",
      "#SBATCH --ntasks-per-node 1\n",
      "#SBATCH --cpus-per-task 4\n",
      "#SBATCH --mem 16G\n",
      "#SBATCH --time 5-0:00:00\n",
      "#SBATCH --job-name ../output/2020-07-17_INT-WHR_ldclumping\n",
      "#SBATCH --output ../output/2020-07-17_INT-WHR_ldclumping-%J.out\n",
      "#SBATCH --error ../output/2020-07-17_INT-WHR_ldclumping-%J.log\n",
      "\n",
      "sos run /gpfs/ysm/project/dewan/dc2325/UKBB_GWAS_DEV/workflow/LD_Clumping.ipynb \\\n",
      "    default \\\n",
      "    --cwd /SAY/dbgapstg/scratch/UKBiobank/results/LD_clumping/INT-WHR \\\n",
      "    --bfile /SAY/dbgapstg/scratch/UKBiobank/genotype_files/pleiotropy_geneticfiles/UKB_Caucasians_phenotypeindepqc120319_updated020720removedwithdrawnindiv.bed\\\n",
      "    --bfile_ref /SAY/dbgapstg/scratch/UKBiobank/results/LD_clumping/UKB_Caucasians_phenotypeindepqc120319_updated020720removedwithdrawnindiv.1210.ref_geno\\\n",
      "    --bgenFile /SAY/dbgapstg/scratch/UKBiobank/genotype_files/ukb39554_imputeddataset/ukb_imp_chr1_v3.bgen /SAY/dbgapstg/scratch/UKBiobank/genotype_files/ukb39554_imputeddataset/ukb_imp_chr2_v3.bgen /SAY/dbgapstg/scratch/UKBiobank/genotype_files/ukb39554_imputeddataset/ukb_imp_chr3_v3.bgen /SAY/dbgapstg/scratch/UKBiobank/genotype_files/ukb39554_imputeddataset/ukb_imp_chr4_v3.bgen /SAY/dbgapstg/scratch/UKBiobank/genotype_files/ukb39554_imputeddataset/ukb_imp_chr5_v3.bgen /SAY/dbgapstg/scratch/UKBiobank/genotype_files/ukb39554_imputeddataset/ukb_imp_chr6_v3.bgen /SAY/dbgapstg/scratch/UKBiobank/genotype_files/ukb39554_imputeddataset/ukb_imp_chr7_v3.bgen /SAY/dbgapstg/scratch/UKBiobank/genotype_files/ukb39554_imputeddataset/ukb_imp_chr8_v3.bgen /SAY/dbgapstg/scratch/UKBiobank/genotype_files/ukb39554_imputeddataset/ukb_imp_chr9_v3.bgen /SAY/dbgapstg/scratch/UKBiobank/genotype_files/ukb39554_imputeddataset/ukb_imp_chr10_v3.bgen /SAY/dbgapstg/scratch/UKBiobank/genotype_files/ukb39554_imputeddataset/ukb_imp_chr11_v3.bgen /SAY/dbgapstg/scratch/UKBiobank/genotype_files/ukb39554_imputeddataset/ukb_imp_chr12_v3.bgen /SAY/dbgapstg/scratch/UKBiobank/genotype_files/ukb39554_imputeddataset/ukb_imp_chr13_v3.bgen /SAY/dbgapstg/scratch/UKBiobank/genotype_files/ukb39554_imputeddataset/ukb_imp_chr14_v3.bgen /SAY/dbgapstg/scratch/UKBiobank/genotype_files/ukb39554_imputeddataset/ukb_imp_chr15_v3.bgen /SAY/dbgapstg/scratch/UKBiobank/genotype_files/ukb39554_imputeddataset/ukb_imp_chr16_v3.bgen /SAY/dbgapstg/scratch/UKBiobank/genotype_files/ukb39554_imputeddataset/ukb_imp_chr17_v3.bgen /SAY/dbgapstg/scratch/UKBiobank/genotype_files/ukb39554_imputeddataset/ukb_imp_chr18_v3.bgen /SAY/dbgapstg/scratch/UKBiobank/genotype_files/ukb39554_imputeddataset/ukb_imp_chr19_v3.bgen /SAY/dbgapstg/scratch/UKBiobank/genotype_files/ukb39554_imputeddataset/ukb_imp_chr20_v3.bgen /SAY/dbgapstg/scratch/UKBiobank/genotype_files/ukb39554_imputeddataset/ukb_imp_chr21_v3.bgen /SAY/dbgapstg/scratch/UKBiobank/genotype_files/ukb39554_imputeddataset/ukb_imp_chr22_v3.bgen\\\n",
      "    --sampleFile /SAY/dbgapstg/scratch/UKBiobank/genotype_files/ukb39554_imputeddataset/ukb32285_imputedindiv.sample \\\n",
      "    --sumstatsFiles /SAY/dbgapstg/scratch/UKBiobank/results/BOLTLMM_results/results_imputed_data/INT-WHR/ukb_imp_v3.UKB_caucasians_BMIwaisthip_AsthmaAndT2D_INT-WHR_withagesex_042020.BoltLMM.snp_stats.all_chr.gz                /SAY/dbgapstg/scratch/UKBiobank/results/FastGWA_results/results_imputed_data/asthma/ukb_imp_v3.Asthma_casesbyICD10codesANDselfreport_controlsbyselfreportandicd10_noautoimmuneincontrols.fastGWA.snp_stats.all_chr.gz \\\n",
      "    --unrelated_samples /SAY/dbgapstg/scratch/UKBiobank/genotype_files/pleiotropy_geneticfiles/unrelated_n307259/UKB_unrelatedcauc_phenotypes_asthmat2dbmiwaisthip_agesex_waisthipratio_040620 \\\n",
      "    --ld_sample_size 1210 \\\n",
      "    --clump_field P\\\n",
      "    --clump_p1 5e-08 \\\n",
      "    --clump_p2 1 \\\n",
      "    --clump_r2 0.2 \\\n",
      "    --clump_kb 2000 \\\n",
      "    --clump_annotate BP \\\n",
      "    --numThreads 20 \\\n",
      "    --job_size 1 \\\n",
      "    -c /gpfs/ysm/project/dewan/dc2325/UKBB_GWAS_DEV/farnam.yml -q farnam -J 40 \\\n",
      "    &> ../output/2020-07-17_INT-WHR_ldclumping.log\n"
     ]
    },
    {
     "data": {
      "text/html": [
       "<div class=\"sos_hint\">> ../output/2020-07-17_INT-WHR_ldclumping.sbatch:</div>"
      ],
      "text/plain": [
       ">>> ../output/2020-07-17_INT-WHR_ldclumping.sbatch:\n"
      ]
     },
     "metadata": {},
     "output_type": "display_data"
    },
    {
     "name": "stdout",
     "output_type": "stream",
     "text": [
      "bash: ../output/2020-07-17_INT-WHR_ldclumping.sbatch: Permission denied\n"
     ]
    }
   ],
   "source": [
    "%preview ../output/2020-07-17_INT-WHR_ldclumping.sbatch -l -1"
   ]
  },
  {
   "cell_type": "markdown",
   "metadata": {
    "kernel": "SoS"
   },
   "source": [
    "### Region extract job"
   ]
  },
  {
   "cell_type": "code",
   "execution_count": 19,
   "metadata": {
    "kernel": "Bash"
   },
   "outputs": [
    {
     "name": "stdout",
     "output_type": "stream",
     "text": [
      "INFO: Running \u001b[32mfarnam\u001b[0m: Configuration for Yale `farnam` cluster\n",
      "INFO: \u001b[32mfarnam\u001b[0m is \u001b[32mcompleted\u001b[0m.\n",
      "INFO: \u001b[32mfarnam\u001b[0m output:   \u001b[32m../output/2020-07-17_INT-WHR-region.sbatch\u001b[0m\n",
      "INFO: Workflow farnam (ID=e9d440337019346e) is executed successfully with 1 completed step.\n"
     ]
    }
   ],
   "source": [
    "extract_args=\"\"\"default\n",
    "    --cwd $extract_dir\n",
    "    --region-file $region_file\n",
    "    --pheno-path $phenoFile\n",
    "    --geno-path $geno_path\n",
    "    --bgen-sample-path $sampleFile\n",
    "    --sumstats-path $sumstats_path\n",
    "    --format-config-path $formatFile\n",
    "    --unrelated-samples $unrelated_samples\n",
    "\"\"\"\n",
    "\n",
    "sos run ../workflow/Get_Job_Script.ipynb farnam \\\n",
    "    --template-file $tpl_file \\\n",
    "    --workflow-file $extract_sos \\\n",
    "    --to-script $extract_sbatch \\\n",
    "    --args \"$extract_args\""
   ]
  }
 ],
 "metadata": {
  "kernelspec": {
   "display_name": "SoS",
   "language": "sos",
   "name": "sos"
  },
  "language_info": {
   "codemirror_mode": "sos",
   "file_extension": ".sos",
   "mimetype": "text/x-sos",
   "name": "sos",
   "nbconvert_exporter": "sos_notebook.converter.SoS_Exporter",
   "pygments_lexer": "sos"
  },
  "sos": {
   "kernels": [
    [
     "Bash",
     "calysto_bash",
     "Bash",
     "#E6EEFF",
     "shell"
    ]
   ],
   "version": "0.21.12"
  }
 },
 "nbformat": 4,
 "nbformat_minor": 4
}
