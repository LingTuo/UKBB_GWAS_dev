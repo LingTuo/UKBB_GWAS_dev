{
 "cells": [
  {
   "cell_type": "markdown",
   "metadata": {},
   "source": [
    "GCTA-COJO: multi-SNP-based conditional & joint association analysis using GWAS summary dataAnalysis of hypertension from UKBB\n",
    "\n",
    "Here you can find a set of scripts oriented to test the MWE with GCTA pipelines\n",
    "\n",
    "If you have a local copy of the MWE please make sure to change the paths before running the script. \n",
    "\n",
    "Also, it is very important to select the appopiate kernel, in this case you would need to select bash on the drop-down menu to the right of the script\n",
    "\n",
    "These scripts are designed to run in Yale's cluster. If you need to run them in your local computer make sure you add the correct paths and remove both --container_lmm and --container_marp options\n",
    "\n",
    "If you find that instructions are confusing, please take note on how to improve and send them Diana Cornejo. Thanks for your suggestions."
   ]
  },
  {
   "cell_type": "code",
   "execution_count": null,
   "metadata": {},
   "outputs": [],
   "source": [
    "sos run ~/bioworkflows/GWAS/LMM.ipynb gcta \\\n",
    "    --cwd output \\\n",
    "    --bfile /gpfs/gibbs/pi/dewan/data/UKBiobank/MWE/genotypes.bed \\\n",
    "    --sampleFile /gpfs/gibbs/pi/dewan/data/UKBiobank/MWE/imputed_genotypes.sample \\\n",
    "    --bgenFile /gpfs/gibbs/pi/dewan/data/UKBiobank/MWE/imputed_genotypes_chr*.bgen \\\n",
    "    --phenoFile /gpfs/gibbs/pi/dewan/data/UKBiobank/MWE/phenotypes.txt \\\n",
    "    --formatFile /gpfs/gibbs/pi/dewan/data/UKBiobank/MWE/blotLMM_template.yml \\\n",
    "    --phenoCol BMI \\\n",
    "    --covarCol SEX \\\n",
    "    --qCovarCol AGE \\\n",
    "    --numThreads 5 \\\n",
    "    --bgenMinMAF 0.001 \\\n",
    "    --bgenMinINFO 0.1 \\\n",
    "    --parts 100 \\\n",
    "    --job-size 1 \\\n",
    "    --p_filter 1 \\\n",
    "    --container_lmm /gpfs/gibbs/pi/dewan/data/UKBiobank/lmm.sif \\\n",
    "    --container_marp /gpfs/gibbs/pi/dewan/data/UKBiobank/marp.sif"
   ]
  }
 ],
 "metadata": {
  "kernelspec": {
   "display_name": "Bash",
   "language": "bash",
   "name": "bash"
  },
  "language_info": {
   "codemirror_mode": "shell",
   "file_extension": ".sh",
   "mimetype": "text/x-sh",
   "name": "bash"
  }
 },
 "nbformat": 4,
 "nbformat_minor": 4
}
