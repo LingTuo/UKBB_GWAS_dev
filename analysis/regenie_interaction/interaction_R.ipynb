{
 "cells": [
  {
   "cell_type": "markdown",
   "id": "bc51c82d-c413-48aa-a15a-1b07e6a72162",
   "metadata": {},
   "source": [
    "# GLM with f3393 all samples and first 10000 interactions (excluding 4)"
   ]
  },
  {
   "cell_type": "code",
   "execution_count": null,
   "id": "7fc04049-60db-41c0-8519-6e5ca537feaa",
   "metadata": {},
   "outputs": [],
   "source": [
    "library(\"data.table\")\n",
    "first6 <- fread(\"/mnt/mfs/statgen/guangyou/interaction/f3393.x.raw.first6col\",header=TRUE)\n",
    "class(first6)<-\"data.frame\"\n",
    "df <- fread(\"/home/gl2776/project/guangyou/interaction/f3393.xx.1.1\",header=TRUE)\n",
    "class(df)<-\"data.frame\"\n",
    "noflist<-c()\n",
    "for (i in 1:ncol(df)){\n",
    "    if (!(\"4\"%in%names(table(df[,i])))){\n",
    "        noflist<-c(noflist,i)\n",
    "    }\n",
    "}\n",
    "colnames(df)<- paste0(\"inter\",1:10000)\n",
    "df2 <- df[,noflist]\n",
    "df2 <- cbind(first6,df2)\n",
    "write.table(df2,\"/home/gl2776/project/guangyou/interaction/bfile/f3393/f3393.xx.1.1.exclu4.dosage\",col.names=TRUE, row.names=FALSE,quote=FALSE,sep=\"\\t\")"
   ]
  },
  {
   "cell_type": "code",
   "execution_count": null,
   "id": "21f07cd6-50ac-40a3-86de-8e803ce18b2a",
   "metadata": {},
   "outputs": [],
   "source": [
    "phe <- fread(\"/home/gl2776/project/guangyou/interaction/phenotype/f3393.phe\",header=TRUE)\n",
    "class(phe)<-\"data.frame\"\n",
    "df3 <- df2[df2$IID%in%phe$IID,]\n",
    "df3$IID<-factor(df3$IID,levels=phe$IID)\n",
    "df3<- df3[order(df3$IID),]\n",
    "write.table(df3[,7:ncol(df3)],\"/home/gl2776/project/guangyou/interaction/bfile/f3393/f3393.xx.1.1.exclu4.ordered_phe.dosage\",col.names=TRUE, row.names=FALSE,quote=FALSE,sep=\"\\t\")"
   ]
  },
  {
   "cell_type": "code",
   "execution_count": null,
   "id": "dc825abd-c068-4871-a543-9e60ae626b3f",
   "metadata": {},
   "outputs": [],
   "source": [
    "model <- glm(phe$f3393~as.matrix(df3[,7:ncol(df3)])+phe$sex+phe$age+phe$PC1+phe$PC2+phe$xb,family = \"binomial\")\n",
    "s <- summary(model)\n",
    "coef <- as.data.frame(s$coef)\n",
    "write.table(coef,\"/home/gl2776/project/guangyou/interaction/110921_f3393/f3393.xx.1.1.glm.coef\",quote=FALSE,sep=\"\\t\")"
   ]
  },
  {
   "cell_type": "code",
   "execution_count": null,
   "id": "dd42b42e-8c59-45af-98d4-f6610c66c2f5",
   "metadata": {},
   "outputs": [],
   "source": []
  },
  {
   "cell_type": "code",
   "execution_count": null,
   "id": "41f57234-8514-46af-8e1f-a0d8f9dc5e88",
   "metadata": {},
   "outputs": [],
   "source": [
    "library(\"data.table\")\n",
    "first6 <- fread(\"/mnt/mfs/statgen/guangyou/interaction/f3393.x.raw.first6col\",header=TRUE)\n",
    "class(first6)<-\"data.frame\"\n",
    "df <- fread(\"/home/gl2776/project/guangyou/interaction/f3393.xx.1.1\",header=TRUE)\n",
    "class(df)<-\"data.frame\"\n",
    "noflist<-c()\n",
    "for (i in 1:ncol(df)){\n",
    "    if (\"4\"%in%names(table(df[,i]))){\n",
    "        noflist<-c(noflist,i)\n",
    "    }\n",
    "}\n",
    "colnames(df)<- paste0(\"inter\",1:10000)\n",
    "df2 <- df[,noflist]\n",
    "df2 <- cbind(first6,df2)\n",
    "\n",
    "\n",
    "phe <- fread(\"/home/gl2776/project/guangyou/interaction/phenotype/f3393.phe\",header=TRUE)\n",
    "class(phe)<-\"data.frame\"\n",
    "df2o <- df2[df2$IID%in%phe$IID,]\n",
    "df2o$IID<-factor(df2o$IID,levels=phe$IID)\n",
    "df2o<- df2o[order(df2o$IID),7:ncol(df2o)]\n",
    "\n",
    "model1 <- glm(phe$f3393~as.matrix(df2o)+phe$sex+phe$age+phe$PC1+phe$PC2+phe$xb,family = \"binomial\")\n",
    "coef <- as.data.frame(summary(model)$coef)\n",
    "write.table(coef,\"/home/gl2776/project/guangyou/interaction/110921_f3393/f3393.xx.1.1.glm.only4.coef\",quote=FALSE,sep=\"\\t\")\n",
    "\n",
    "\n",
    "library(\"data.table\")\n",
    "first6 <- fread(\"/mnt/mfs/statgen/guangyou/interaction/f3393.x.raw.first6col\",header=TRUE)\n",
    "class(first6)<-\"data.frame\"\n",
    "df <- fread(\"/home/gl2776/project/guangyou/interaction/f3393.xx.1.1\",header=TRUE)\n",
    "class(df)<-\"data.frame\"\n",
    "noflist<-c()\n",
    "for (i in 1:ncol(df)){\n",
    "    if (\"4\"%in%names(table(df[,i]))){\n",
    "        noflist<-c(noflist,i)\n",
    "    }\n",
    "}\n",
    "colnames(df)<- paste0(\"inter\",1:10000)\n",
    "df2 <- df[,noflist]\n",
    "df3 <- df2\n",
    "df4 <- df2\n",
    "df3[df3==4] <- 2\n",
    "df4[df4==4] <- 2\n",
    "df4[df4==2] <- 1\n",
    "df3 <- cbind(first6,df3)\n",
    "df4 <- cbind(first6,df4)\n",
    "\n",
    "raw <- fread(\"~/working/interaction/f3393.x.raw\",header=TRUE)\n",
    "class(raw)<-\"data.frame\"\n",
    "beta <- read.table(\"/home/gl2776/project/guangyou/interaction/110921_f3393/f3393.b\")\n",
    "raw[]%*%beta\n",
    "\n",
    "phe <- fread(\"/home/gl2776/project/guangyou/interaction/phenotype/f3393.phe\",header=TRUE)\n",
    "class(phe)<-\"data.frame\"\n",
    "df3o <- df3[df3$IID%in%phe$IID,]\n",
    "df3o$IID<-factor(df3o$IID,levels=phe$IID)\n",
    "df3o<- df3o[order(df3o$IID),7:ncol(df3o)]\n",
    "df4o <- df4[df4$IID%in%phe$IID,]\n",
    "df4o$IID<-factor(df4o$IID,levels=phe$IID)\n",
    "df4o<- df4o[order(df4o$IID),7:ncol(df4o)]\n",
    "\n",
    "model2 <- glm(phe$f3393~as.matrix(df3o)+phe$sex+phe$age+phe$PC1+phe$PC2+phe$xb,family = \"binomial\")\n",
    "s <- summary(model2)\n",
    "coef <- as.data.frame(s$coef)\n",
    "write.table(coef,\"/home/gl2776/project/guangyou/interaction/110921_f3393/f3393.xx.1.1.glm.replace4with2.coef\",quote=FALSE,sep=\"\\t\")\n",
    "\n",
    "model3 <- glm(phe$f3393~as.matrix(df4o)+phe$sex+phe$age+phe$PC1+phe$PC2+phe$xb,family = \"binomial\")\n",
    "s <- summary(model3)\n",
    "coef <- as.data.frame(s$coef)\n",
    "write.table(coef,\"/home/gl2776/project/guangyou/interaction/110921_f3393/f3393.xx.1.1.glm.replace4with2_replace2with1.coef\",quote=FALSE,sep=\"\\t\")"
   ]
  },
  {
   "cell_type": "markdown",
   "id": "490b246b-da05-4740-85d2-9ab90d195cf6",
   "metadata": {},
   "source": [
    "# GLM y ~ x1+x2+x1x2  (first 1000 samples)"
   ]
  },
  {
   "cell_type": "code",
   "execution_count": 2,
   "id": "7829ac45-f516-43a0-a967-42d3a8baea3f",
   "metadata": {},
   "outputs": [
    {
     "data": {
      "text/html": [
       "<table class=\"dataframe\">\n",
       "<caption>A data.frame: 5 × 10</caption>\n",
       "<thead>\n",
       "\t<tr><th></th><th scope=col>FID</th><th scope=col>IID</th><th scope=col>PAT</th><th scope=col>MAT</th><th scope=col>SEX</th><th scope=col>PHENOTYPE</th><th scope=col>rs11579015_C</th><th scope=col>rs3121828_T</th><th scope=col>rs17384422_A</th><th scope=col>rs2842909_T</th></tr>\n",
       "\t<tr><th></th><th scope=col>&lt;int&gt;</th><th scope=col>&lt;int&gt;</th><th scope=col>&lt;int&gt;</th><th scope=col>&lt;int&gt;</th><th scope=col>&lt;int&gt;</th><th scope=col>&lt;int&gt;</th><th scope=col>&lt;int&gt;</th><th scope=col>&lt;int&gt;</th><th scope=col>&lt;int&gt;</th><th scope=col>&lt;int&gt;</th></tr>\n",
       "</thead>\n",
       "<tbody>\n",
       "\t<tr><th scope=row>1</th><td>1000019</td><td>1000019</td><td>0</td><td>0</td><td>2</td><td>-9</td><td>1</td><td>0</td><td>1</td><td>0</td></tr>\n",
       "\t<tr><th scope=row>2</th><td>1000022</td><td>1000022</td><td>0</td><td>0</td><td>1</td><td>-9</td><td>0</td><td>1</td><td>0</td><td>1</td></tr>\n",
       "\t<tr><th scope=row>3</th><td>1000035</td><td>1000035</td><td>0</td><td>0</td><td>1</td><td>-9</td><td>0</td><td>0</td><td>0</td><td>0</td></tr>\n",
       "\t<tr><th scope=row>4</th><td>1000046</td><td>1000046</td><td>0</td><td>0</td><td>2</td><td>-9</td><td>0</td><td>0</td><td>0</td><td>2</td></tr>\n",
       "\t<tr><th scope=row>5</th><td>1000054</td><td>1000054</td><td>0</td><td>0</td><td>2</td><td>-9</td><td>0</td><td>0</td><td>0</td><td>1</td></tr>\n",
       "</tbody>\n",
       "</table>\n"
      ],
      "text/latex": [
       "A data.frame: 5 × 10\n",
       "\\begin{tabular}{r|llllllllll}\n",
       "  & FID & IID & PAT & MAT & SEX & PHENOTYPE & rs11579015\\_C & rs3121828\\_T & rs17384422\\_A & rs2842909\\_T\\\\\n",
       "  & <int> & <int> & <int> & <int> & <int> & <int> & <int> & <int> & <int> & <int>\\\\\n",
       "\\hline\n",
       "\t1 & 1000019 & 1000019 & 0 & 0 & 2 & -9 & 1 & 0 & 1 & 0\\\\\n",
       "\t2 & 1000022 & 1000022 & 0 & 0 & 1 & -9 & 0 & 1 & 0 & 1\\\\\n",
       "\t3 & 1000035 & 1000035 & 0 & 0 & 1 & -9 & 0 & 0 & 0 & 0\\\\\n",
       "\t4 & 1000046 & 1000046 & 0 & 0 & 2 & -9 & 0 & 0 & 0 & 2\\\\\n",
       "\t5 & 1000054 & 1000054 & 0 & 0 & 2 & -9 & 0 & 0 & 0 & 1\\\\\n",
       "\\end{tabular}\n"
      ],
      "text/markdown": [
       "\n",
       "A data.frame: 5 × 10\n",
       "\n",
       "| <!--/--> | FID &lt;int&gt; | IID &lt;int&gt; | PAT &lt;int&gt; | MAT &lt;int&gt; | SEX &lt;int&gt; | PHENOTYPE &lt;int&gt; | rs11579015_C &lt;int&gt; | rs3121828_T &lt;int&gt; | rs17384422_A &lt;int&gt; | rs2842909_T &lt;int&gt; |\n",
       "|---|---|---|---|---|---|---|---|---|---|---|\n",
       "| 1 | 1000019 | 1000019 | 0 | 0 | 2 | -9 | 1 | 0 | 1 | 0 |\n",
       "| 2 | 1000022 | 1000022 | 0 | 0 | 1 | -9 | 0 | 1 | 0 | 1 |\n",
       "| 3 | 1000035 | 1000035 | 0 | 0 | 1 | -9 | 0 | 0 | 0 | 0 |\n",
       "| 4 | 1000046 | 1000046 | 0 | 0 | 2 | -9 | 0 | 0 | 0 | 2 |\n",
       "| 5 | 1000054 | 1000054 | 0 | 0 | 2 | -9 | 0 | 0 | 0 | 1 |\n",
       "\n"
      ],
      "text/plain": [
       "  FID     IID     PAT MAT SEX PHENOTYPE rs11579015_C rs3121828_T rs17384422_A\n",
       "1 1000019 1000019 0   0   2   -9        1            0           1           \n",
       "2 1000022 1000022 0   0   1   -9        0            1           0           \n",
       "3 1000035 1000035 0   0   1   -9        0            0           0           \n",
       "4 1000046 1000046 0   0   2   -9        0            0           0           \n",
       "5 1000054 1000054 0   0   2   -9        0            0           0           \n",
       "  rs2842909_T\n",
       "1 0          \n",
       "2 1          \n",
       "3 0          \n",
       "4 2          \n",
       "5 1          "
      ]
     },
     "metadata": {},
     "output_type": "display_data"
    }
   ],
   "source": [
    "library(\"data.table\")\n",
    "df <- fread(\"/mnt/mfs/statgen/guangyou/interaction/f3393.x.raw\",header=TRUE)\n",
    "class(df)<-\"data.frame\"\n",
    "df[1:5,1:10]"
   ]
  },
  {
   "cell_type": "code",
   "execution_count": 3,
   "id": "bddc5f67-f9c5-44e3-879f-22a116dd3163",
   "metadata": {},
   "outputs": [
    {
     "data": {
      "text/html": [
       "<table class=\"dataframe\">\n",
       "<caption>A data.frame: 5 × 8</caption>\n",
       "<thead>\n",
       "\t<tr><th></th><th scope=col>FID</th><th scope=col>IID</th><th scope=col>sex</th><th scope=col>f3393</th><th scope=col>age</th><th scope=col>PC1</th><th scope=col>PC2</th><th scope=col>xb</th></tr>\n",
       "\t<tr><th></th><th scope=col>&lt;int&gt;</th><th scope=col>&lt;int&gt;</th><th scope=col>&lt;int&gt;</th><th scope=col>&lt;int&gt;</th><th scope=col>&lt;int&gt;</th><th scope=col>&lt;dbl&gt;</th><th scope=col>&lt;dbl&gt;</th><th scope=col>&lt;dbl&gt;</th></tr>\n",
       "</thead>\n",
       "<tbody>\n",
       "\t<tr><th scope=row>1</th><td>1000112</td><td>1000112</td><td>0</td><td>1</td><td>68</td><td>0.0119313589</td><td> 0.031198261</td><td>4.726232</td></tr>\n",
       "\t<tr><th scope=row>2</th><td>1001067</td><td>1001067</td><td>0</td><td>1</td><td>50</td><td>0.0044718585</td><td> 0.002903907</td><td>1.974721</td></tr>\n",
       "\t<tr><th scope=row>3</th><td>1001384</td><td>1001384</td><td>1</td><td>1</td><td>61</td><td>0.0020010825</td><td>-0.001849575</td><td>4.410767</td></tr>\n",
       "\t<tr><th scope=row>4</th><td>1001459</td><td>1001459</td><td>0</td><td>1</td><td>64</td><td>0.0107701429</td><td> 0.022390579</td><td>5.569416</td></tr>\n",
       "\t<tr><th scope=row>5</th><td>1002548</td><td>1002548</td><td>0</td><td>1</td><td>62</td><td>0.0002255735</td><td>-0.014383488</td><td>5.231623</td></tr>\n",
       "</tbody>\n",
       "</table>\n"
      ],
      "text/latex": [
       "A data.frame: 5 × 8\n",
       "\\begin{tabular}{r|llllllll}\n",
       "  & FID & IID & sex & f3393 & age & PC1 & PC2 & xb\\\\\n",
       "  & <int> & <int> & <int> & <int> & <int> & <dbl> & <dbl> & <dbl>\\\\\n",
       "\\hline\n",
       "\t1 & 1000112 & 1000112 & 0 & 1 & 68 & 0.0119313589 &  0.031198261 & 4.726232\\\\\n",
       "\t2 & 1001067 & 1001067 & 0 & 1 & 50 & 0.0044718585 &  0.002903907 & 1.974721\\\\\n",
       "\t3 & 1001384 & 1001384 & 1 & 1 & 61 & 0.0020010825 & -0.001849575 & 4.410767\\\\\n",
       "\t4 & 1001459 & 1001459 & 0 & 1 & 64 & 0.0107701429 &  0.022390579 & 5.569416\\\\\n",
       "\t5 & 1002548 & 1002548 & 0 & 1 & 62 & 0.0002255735 & -0.014383488 & 5.231623\\\\\n",
       "\\end{tabular}\n"
      ],
      "text/markdown": [
       "\n",
       "A data.frame: 5 × 8\n",
       "\n",
       "| <!--/--> | FID &lt;int&gt; | IID &lt;int&gt; | sex &lt;int&gt; | f3393 &lt;int&gt; | age &lt;int&gt; | PC1 &lt;dbl&gt; | PC2 &lt;dbl&gt; | xb &lt;dbl&gt; |\n",
       "|---|---|---|---|---|---|---|---|---|\n",
       "| 1 | 1000112 | 1000112 | 0 | 1 | 68 | 0.0119313589 |  0.031198261 | 4.726232 |\n",
       "| 2 | 1001067 | 1001067 | 0 | 1 | 50 | 0.0044718585 |  0.002903907 | 1.974721 |\n",
       "| 3 | 1001384 | 1001384 | 1 | 1 | 61 | 0.0020010825 | -0.001849575 | 4.410767 |\n",
       "| 4 | 1001459 | 1001459 | 0 | 1 | 64 | 0.0107701429 |  0.022390579 | 5.569416 |\n",
       "| 5 | 1002548 | 1002548 | 0 | 1 | 62 | 0.0002255735 | -0.014383488 | 5.231623 |\n",
       "\n"
      ],
      "text/plain": [
       "  FID     IID     sex f3393 age PC1          PC2          xb      \n",
       "1 1000112 1000112 0   1     68  0.0119313589  0.031198261 4.726232\n",
       "2 1001067 1001067 0   1     50  0.0044718585  0.002903907 1.974721\n",
       "3 1001384 1001384 1   1     61  0.0020010825 -0.001849575 4.410767\n",
       "4 1001459 1001459 0   1     64  0.0107701429  0.022390579 5.569416\n",
       "5 1002548 1002548 0   1     62  0.0002255735 -0.014383488 5.231623"
      ]
     },
     "metadata": {},
     "output_type": "display_data"
    }
   ],
   "source": [
    "phe <- fread(\"/home/gl2776/project/guangyou/interaction/phenotype/f3393.phe\",header=TRUE)\n",
    "class(phe)<-\"data.frame\"\n",
    "phe[1:5,]"
   ]
  },
  {
   "cell_type": "code",
   "execution_count": 4,
   "id": "2b21e11b-bf26-4b35-92c2-68a2af05fb06",
   "metadata": {},
   "outputs": [],
   "source": [
    "df2 <- df[df$IID%in%phe$IID,]\n",
    "df2$IID<-factor(df2$IID,levels=phe$IID)\n",
    "df2<- df2[order(df2$IID),7:ncol(df2)]\n",
    "\n",
    "model <- glm(phe$f3393~as.matrix(df2)+phe$sex+phe$age+phe$PC1+phe$PC2,family = \"binomial\")\n",
    "summary(model)"
   ]
  },
  {
   "cell_type": "code",
   "execution_count": 5,
   "id": "8d2ab0cb-fcfc-48e1-b00e-8921f03fe5e1",
   "metadata": {},
   "outputs": [
    {
     "ename": "ERROR",
     "evalue": "Error in summary(model): object 'model' not found\n",
     "output_type": "error",
     "traceback": [
      "Error in summary(model): object 'model' not found\nTraceback:\n",
      "1. as.data.frame(summary(model)$coef)",
      "2. summary(model)"
     ]
    }
   ],
   "source": [
    "coef <- as.data.frame(summary(model)$coef)\n",
    "write.table(coef,\"/home/gl2776/project/guangyou/interaction/110921_f3393/f3393.glm.coef\",quote=FALSE,sep=\"\\t\")"
   ]
  },
  {
   "cell_type": "code",
   "execution_count": null,
   "id": "846dd215-4ba3-4f3d-8477-97c605959f22",
   "metadata": {},
   "outputs": [],
   "source": []
  }
 ],
 "metadata": {
  "kernelspec": {
   "display_name": "R",
   "language": "R",
   "name": "ir"
  },
  "language_info": {
   "codemirror_mode": "r",
   "file_extension": ".r",
   "mimetype": "text/x-r-source",
   "name": "R",
   "pygments_lexer": "r",
   "version": "4.0.5"
  }
 },
 "nbformat": 4,
 "nbformat_minor": 5
}
