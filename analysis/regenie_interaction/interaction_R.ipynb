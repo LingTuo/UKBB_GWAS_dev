{
 "cells": [
  {
   "cell_type": "markdown",
   "id": "bc51c82d-c413-48aa-a15a-1b07e6a72162",
   "metadata": {},
   "source": [
    "# GLM with f3393 all samples and first 10000 interactions (excluding 4)"
   ]
  },
  {
   "cell_type": "code",
   "execution_count": null,
   "id": "7fc04049-60db-41c0-8519-6e5ca537feaa",
   "metadata": {},
   "outputs": [],
   "source": [
    "library(\"data.table\")\n",
    "first6 <- fread(\"/mnt/mfs/statgen/guangyou/interaction/f3393.x.raw.first6col\",header=TRUE)\n",
    "class(first6)<-\"data.frame\"\n",
    "df <- fread(\"/home/gl2776/project/guangyou/interaction/f3393.xx.1.1\",header=TRUE)\n",
    "class(df)<-\"data.frame\"\n",
    "noflist<-c()\n",
    "for (i in 1:ncol(df)){\n",
    "    if (!(\"4\"%in%names(table(df[,i])))){\n",
    "        noflist<-c(noflist,i)\n",
    "    }\n",
    "}\n",
    "colnames(df)<- paste0(\"inter\",1:10000)\n",
    "df2 <- df[,noflist]\n",
    "df2 <- cbind(first6,df2)\n",
    "write.table(df2,\"/home/gl2776/project/guangyou/interaction/bfile/f3393/f3393.xx.1.1.exclu4.dosage\",col.names=TRUE, row.names=FALSE,quote=FALSE,sep=\"\\t\")"
   ]
  },
  {
   "cell_type": "code",
   "execution_count": null,
   "id": "21f07cd6-50ac-40a3-86de-8e803ce18b2a",
   "metadata": {},
   "outputs": [],
   "source": [
    "phe <- fread(\"/home/gl2776/project/guangyou/interaction/phenotype/f3393.phe\",header=TRUE)\n",
    "class(phe)<-\"data.frame\"\n",
    "df3 <- df2[df2$IID%in%phe$IID,]\n",
    "df3$IID<-factor(df3$IID,levels=phe$IID)\n",
    "df3<- df3[order(df3$IID),]\n",
    "write.table(df3[,7:ncol(df3)],\"/home/gl2776/project/guangyou/interaction/bfile/f3393/f3393.xx.1.1.exclu4.ordered_phe.dosage\",col.names=TRUE, row.names=FALSE,quote=FALSE,sep=\"\\t\")"
   ]
  },
  {
   "cell_type": "code",
   "execution_count": null,
   "id": "dc825abd-c068-4871-a543-9e60ae626b3f",
   "metadata": {},
   "outputs": [],
   "source": [
    "model <- glm(phe$f3393~as.matrix(df3[,7:ncol(df3)])+phe$sex+phe$age+phe$PC1+phe$PC2+phe$xb,family = \"binomial\")\n",
    "s <- summary(model)\n",
    "coef <- as.data.frame(s$coef)\n",
    "write.table(coef,\"/home/gl2776/project/guangyou/interaction/110921_f3393/f3393.xx.1.1.glm.coef\",quote=FALSE,sep=\"\\t\")"
   ]
  },
  {
   "cell_type": "code",
   "execution_count": null,
   "id": "dd42b42e-8c59-45af-98d4-f6610c66c2f5",
   "metadata": {},
   "outputs": [],
   "source": []
  },
  {
   "cell_type": "code",
   "execution_count": null,
   "id": "41f57234-8514-46af-8e1f-a0d8f9dc5e88",
   "metadata": {},
   "outputs": [],
   "source": [
    "library(\"data.table\")\n",
    "first6 <- fread(\"/mnt/mfs/statgen/guangyou/interaction/f3393.x.raw.first6col\",header=TRUE)\n",
    "class(first6)<-\"data.frame\"\n",
    "df <- fread(\"/home/gl2776/project/guangyou/interaction/f3393.xx.1.1\",header=TRUE)\n",
    "class(df)<-\"data.frame\"\n",
    "noflist<-c()\n",
    "for (i in 1:ncol(df)){\n",
    "    if (\"4\"%in%names(table(df[,i]))){\n",
    "        noflist<-c(noflist,i)\n",
    "    }\n",
    "}\n",
    "colnames(df)<- paste0(\"inter\",1:10000)\n",
    "df2 <- df[,noflist]\n",
    "df2 <- cbind(first6,df2)\n",
    "\n",
    "\n",
    "phe <- fread(\"/home/gl2776/project/guangyou/interaction/phenotype/f3393.phe\",header=TRUE)\n",
    "class(phe)<-\"data.frame\"\n",
    "df2o <- df2[df2$IID%in%phe$IID,]\n",
    "df2o$IID<-factor(df2o$IID,levels=phe$IID)\n",
    "df2o<- df2o[order(df2o$IID),7:ncol(df2o)]\n",
    "\n",
    "model1 <- glm(phe$f3393~as.matrix(df2o)+phe$sex+phe$age+phe$PC1+phe$PC2+phe$xb,family = \"binomial\")\n",
    "coef <- as.data.frame(summary(model)$coef)\n",
    "write.table(coef,\"/home/gl2776/project/guangyou/interaction/110921_f3393/f3393.xx.1.1.glm.only4.coef\",quote=FALSE,sep=\"\\t\")\n",
    "\n",
    "\n",
    "library(\"data.table\")\n",
    "first6 <- fread(\"/mnt/mfs/statgen/guangyou/interaction/f3393.x.raw.first6col\",header=TRUE)\n",
    "class(first6)<-\"data.frame\"\n",
    "df <- fread(\"/home/gl2776/project/guangyou/interaction/f3393.xx.1.1\",header=TRUE)\n",
    "class(df)<-\"data.frame\"\n",
    "noflist<-c()\n",
    "for (i in 1:ncol(df)){\n",
    "    if (\"4\"%in%names(table(df[,i]))){\n",
    "        noflist<-c(noflist,i)\n",
    "    }\n",
    "}\n",
    "colnames(df)<- paste0(\"inter\",1:10000)\n",
    "df2 <- df[,noflist]\n",
    "df3 <- df2\n",
    "df4 <- df2\n",
    "df3[df3==4] <- 2\n",
    "df4[df4==4] <- 2\n",
    "df4[df4==2] <- 1\n",
    "df3 <- cbind(first6,df3)\n",
    "df4 <- cbind(first6,df4)\n",
    "\n",
    "raw <- fread(\"~/working/interaction/f3393.x.raw\",header=TRUE)\n",
    "class(raw)<-\"data.frame\"\n",
    "beta <- read.table(\"/home/gl2776/project/guangyou/interaction/110921_f3393/f3393.b\")\n",
    "raw[]%*%beta\n",
    "\n",
    "phe <- fread(\"/home/gl2776/project/guangyou/interaction/phenotype/f3393.phe\",header=TRUE)\n",
    "class(phe)<-\"data.frame\"\n",
    "df3o <- df3[df3$IID%in%phe$IID,]\n",
    "df3o$IID<-factor(df3o$IID,levels=phe$IID)\n",
    "df3o<- df3o[order(df3o$IID),7:ncol(df3o)]\n",
    "df4o <- df4[df4$IID%in%phe$IID,]\n",
    "df4o$IID<-factor(df4o$IID,levels=phe$IID)\n",
    "df4o<- df4o[order(df4o$IID),7:ncol(df4o)]\n",
    "\n",
    "model2 <- glm(phe$f3393~as.matrix(df3o)+phe$sex+phe$age+phe$PC1+phe$PC2+phe$xb,family = \"binomial\")\n",
    "s <- summary(model2)\n",
    "coef <- as.data.frame(s$coef)\n",
    "write.table(coef,\"/home/gl2776/project/guangyou/interaction/110921_f3393/f3393.xx.1.1.glm.replace4with2.coef\",quote=FALSE,sep=\"\\t\")\n",
    "\n",
    "model3 <- glm(phe$f3393~as.matrix(df4o)+phe$sex+phe$age+phe$PC1+phe$PC2+phe$xb,family = \"binomial\")\n",
    "s <- summary(model3)\n",
    "coef <- as.data.frame(s$coef)\n",
    "write.table(coef,\"/home/gl2776/project/guangyou/interaction/110921_f3393/f3393.xx.1.1.glm.replace4with2_replace2with1.coef\",quote=FALSE,sep=\"\\t\")"
   ]
  }
 ],
 "metadata": {
  "kernelspec": {
   "display_name": "R",
   "language": "R",
   "name": "ir"
  },
  "language_info": {
   "codemirror_mode": "r",
   "file_extension": ".r",
   "mimetype": "text/x-r-source",
   "name": "R",
   "pygments_lexer": "r",
   "version": "4.0.5"
  }
 },
 "nbformat": 4,
 "nbformat_minor": 5
}
