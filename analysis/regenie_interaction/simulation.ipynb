{
 "cells": [
  {
   "cell_type": "markdown",
   "id": "a23e7a00-9c71-44c4-bd2d-a72fcf131a65",
   "metadata": {},
   "source": [
    "# Interaction simulation\n",
    "\n",
    "The aim of this simulation is to check whether violating the rare disease assumption affects the significance of interaction term in caseonly interaction association test."
   ]
  },
  {
   "cell_type": "markdown",
   "id": "a4317e76-7e1c-4aed-8330-3370e5d90df5",
   "metadata": {},
   "source": [
    "# Setting\n",
    "\n",
    "One pair of SNPs\n",
    "\n",
    "$y\\sim{binomial(p)}$\n",
    "\n",
    "$logit(p) = b_{0}+b_{1}x_{1}+b_{2}x_{2}+b_{12}x_{1}x_{2}+b_{3}sex+b_{4}age+g+e$\n",
    "\n",
    "$p = 1/(1+exp(-u))$\n",
    "\n",
    "$log(p/(1-p))=u$\n",
    "\n",
    "Let\n",
    "\n",
    "$b1=0.5$\n",
    "\n",
    "$b2=0.6$\n",
    "\n",
    "$b12=0.5$\n",
    "\n",
    "$b3=0.01$\n",
    "\n",
    "$b4=0.001$\n",
    "\n",
    "$p\\approx 0.01$\n",
    "\n",
    "$E(u)\\approx logit(0.01)=-5.6$\n",
    "\n",
    "$x_{1}, x_{2}\\sim $ {0, 1 (4.9%), 2 (0.1%)}"
   ]
  },
  {
   "cell_type": "code",
   "execution_count": 6,
   "id": "dfb669ee-d196-4c31-b29c-07a579b2b757",
   "metadata": {},
   "outputs": [
    {
     "data": {
      "text/html": [
       "-4.59511985013459"
      ],
      "text/latex": [
       "-4.59511985013459"
      ],
      "text/markdown": [
       "-4.59511985013459"
      ],
      "text/plain": [
       "[1] -4.59512"
      ]
     },
     "metadata": {},
     "output_type": "display_data"
    }
   ],
   "source": [
    "log(0.01/0.99)"
   ]
  },
  {
   "cell_type": "code",
   "execution_count": 41,
   "id": "20d3a9d1-b097-497d-aaaf-c5f9658dbf01",
   "metadata": {},
   "outputs": [
    {
     "data": {
      "text/plain": [
       "\n",
       "Call:\n",
       "glm(formula = y ~ snp1 + snp2 + snp1 * snp2, family = \"binomial\")\n",
       "\n",
       "Deviance Residuals: \n",
       "    Min       1Q   Median       3Q      Max  \n",
       "-0.8026  -0.1349  -0.1349  -0.1349   3.0673  \n",
       "\n",
       "Coefficients:\n",
       "            Estimate Std. Error  z value Pr(>|z|)    \n",
       "(Intercept) -4.69505    0.01108 -423.771  < 2e-16 ***\n",
       "snp1         0.57438    0.03605   15.933  < 2e-16 ***\n",
       "snp2         0.58594    0.03580   16.367  < 2e-16 ***\n",
       "snp1:snp2    0.35169    0.09881    3.559 0.000372 ***\n",
       "---\n",
       "Signif. codes:  0 ‘***’ 0.001 ‘**’ 0.01 ‘*’ 0.05 ‘.’ 0.1 ‘ ’ 1\n",
       "\n",
       "(Dispersion parameter for binomial family taken to be 1)\n",
       "\n",
       "    Null deviance: 110429  on 999999  degrees of freedom\n",
       "Residual deviance: 109862  on 999996  degrees of freedom\n",
       "AIC: 109870\n",
       "\n",
       "Number of Fisher Scoring iterations: 7\n"
      ]
     },
     "metadata": {},
     "output_type": "display_data"
    }
   ],
   "source": [
    "# n = 1E06\n",
    "# snp1 snp2\n",
    "n=1000000\n",
    "snp1<-rep(0,n)\n",
    "snp2<-rep(0,n)\n",
    "\n",
    "set.seed(123)\n",
    "list11<-sample(1:n,n/20)\n",
    "snp1[list11]<-1\n",
    "list12<-sample(list11,n/1000)\n",
    "snp1[list12]<-2\n",
    "\n",
    "set.seed(321)\n",
    "list21<-sample(1:n,n/20)\n",
    "snp2[list21]<-1\n",
    "list22<-sample(list21,n/1000)\n",
    "snp2[list22]<-2\n",
    "\n",
    "# sex age\n",
    "sex <- sample(0:1,n, replace =TRUE)\n",
    "age <- runif(n,0,80)\n",
    "\n",
    "# y\n",
    "u <- 0.5*snp1+0.6*snp2+0.5*snp1*snp2+0.1*sex+0.01*age-5.2\n",
    "p <- 1/(1+exp(-u))\n",
    "y <- rbinom(n,1,p)\n",
    "\n",
    "# GLM\n",
    "model <- glm(y~snp1+snp2+snp1*snp2,family = \"binomial\")\n",
    "summary(model)"
   ]
  },
  {
   "cell_type": "code",
   "execution_count": 23,
   "id": "25adac5a-655d-4ffb-916f-eaef2ac83931",
   "metadata": {},
   "outputs": [
    {
     "data": {
      "text/html": [
       "0.00952417014910927"
      ],
      "text/latex": [
       "0.00952417014910927"
      ],
      "text/markdown": [
       "0.00952417014910927"
      ],
      "text/plain": [
       "[1] 0.00952417"
      ]
     },
     "metadata": {},
     "output_type": "display_data"
    }
   ],
   "source": [
    "mean(p)"
   ]
  },
  {
   "cell_type": "code",
   "execution_count": 29,
   "id": "c082f163-4923-4e71-bc24-48fe729882a0",
   "metadata": {},
   "outputs": [
    {
     "data": {
      "text/plain": [
       "sex\n",
       "     0      1 \n",
       "499586 500414 "
      ]
     },
     "metadata": {},
     "output_type": "display_data"
    }
   ],
   "source": [
    "table(sex)"
   ]
  },
  {
   "cell_type": "code",
   "execution_count": 30,
   "id": "5b617124-c4f8-4e0c-a8bc-e1fdbae6da9e",
   "metadata": {},
   "outputs": [
    {
     "data": {
      "image/png": "[encoded data removed]",
      "text/plain": [
       "Plot with title “Histogram of age”"
      ]
     },
     "metadata": {
      "image/png": {
       "height": 420,
       "width": 420
      }
     },
     "output_type": "display_data"
    }
   ],
   "source": [
    "hist(age)"
   ]
  },
  {
   "cell_type": "markdown",
   "id": "52b9a7d9-b83c-4d28-ae48-9a70647c7a4b",
   "metadata": {},
   "source": [
    "It's hard to keep the banlance between the AF, disease prevelence and the significance of the interaction term (the power to test the interaction term)"
   ]
  },
  {
   "cell_type": "code",
   "execution_count": 42,
   "id": "5fe41cd6-f4af-43bb-bcec-ebe07fe9f70d",
   "metadata": {},
   "outputs": [
    {
     "data": {
      "text/html": [
       "<table class=\"dataframe\">\n",
       "<caption>A data.frame: 5 × 6</caption>\n",
       "<thead>\n",
       "\t<tr><th></th><th scope=col>FID</th><th scope=col>IID</th><th scope=col>PAT</th><th scope=col>MAT</th><th scope=col>SEX</th><th scope=col>PHENOTYPE</th></tr>\n",
       "\t<tr><th></th><th scope=col>&lt;int&gt;</th><th scope=col>&lt;int&gt;</th><th scope=col>&lt;int&gt;</th><th scope=col>&lt;int&gt;</th><th scope=col>&lt;int&gt;</th><th scope=col>&lt;int&gt;</th></tr>\n",
       "</thead>\n",
       "<tbody>\n",
       "\t<tr><th scope=row>1</th><td>1000019</td><td>1000019</td><td>0</td><td>0</td><td>2</td><td>-9</td></tr>\n",
       "\t<tr><th scope=row>2</th><td>1000022</td><td>1000022</td><td>0</td><td>0</td><td>1</td><td>-9</td></tr>\n",
       "\t<tr><th scope=row>3</th><td>1000035</td><td>1000035</td><td>0</td><td>0</td><td>1</td><td>-9</td></tr>\n",
       "\t<tr><th scope=row>4</th><td>1000046</td><td>1000046</td><td>0</td><td>0</td><td>2</td><td>-9</td></tr>\n",
       "\t<tr><th scope=row>5</th><td>1000054</td><td>1000054</td><td>0</td><td>0</td><td>2</td><td>-9</td></tr>\n",
       "</tbody>\n",
       "</table>\n"
      ],
      "text/latex": [
       "A data.frame: 5 × 6\n",
       "\\begin{tabular}{r|llllll}\n",
       "  & FID & IID & PAT & MAT & SEX & PHENOTYPE\\\\\n",
       "  & <int> & <int> & <int> & <int> & <int> & <int>\\\\\n",
       "\\hline\n",
       "\t1 & 1000019 & 1000019 & 0 & 0 & 2 & -9\\\\\n",
       "\t2 & 1000022 & 1000022 & 0 & 0 & 1 & -9\\\\\n",
       "\t3 & 1000035 & 1000035 & 0 & 0 & 1 & -9\\\\\n",
       "\t4 & 1000046 & 1000046 & 0 & 0 & 2 & -9\\\\\n",
       "\t5 & 1000054 & 1000054 & 0 & 0 & 2 & -9\\\\\n",
       "\\end{tabular}\n"
      ],
      "text/markdown": [
       "\n",
       "A data.frame: 5 × 6\n",
       "\n",
       "| <!--/--> | FID &lt;int&gt; | IID &lt;int&gt; | PAT &lt;int&gt; | MAT &lt;int&gt; | SEX &lt;int&gt; | PHENOTYPE &lt;int&gt; |\n",
       "|---|---|---|---|---|---|---|\n",
       "| 1 | 1000019 | 1000019 | 0 | 0 | 2 | -9 |\n",
       "| 2 | 1000022 | 1000022 | 0 | 0 | 1 | -9 |\n",
       "| 3 | 1000035 | 1000035 | 0 | 0 | 1 | -9 |\n",
       "| 4 | 1000046 | 1000046 | 0 | 0 | 2 | -9 |\n",
       "| 5 | 1000054 | 1000054 | 0 | 0 | 2 | -9 |\n",
       "\n"
      ],
      "text/plain": [
       "  FID     IID     PAT MAT SEX PHENOTYPE\n",
       "1 1000019 1000019 0   0   2   -9       \n",
       "2 1000022 1000022 0   0   1   -9       \n",
       "3 1000035 1000035 0   0   1   -9       \n",
       "4 1000046 1000046 0   0   2   -9       \n",
       "5 1000054 1000054 0   0   2   -9       "
      ]
     },
     "metadata": {},
     "output_type": "display_data"
    }
   ],
   "source": [
    "# Build the ped and map file for this dataset\n",
    "first6 <- read.table(\"~/project/guangyou/interaction/f3393.x.raw.first6col\",header=TRUE)\n",
    "first6[1:5,]"
   ]
  },
  {
   "cell_type": "code",
   "execution_count": 43,
   "id": "789a1c9e-16f7-4c6a-86aa-7c39591808d7",
   "metadata": {},
   "outputs": [
    {
     "data": {
      "text/html": [
       "<table class=\"dataframe\">\n",
       "<caption>A data.frame: 5 × 8</caption>\n",
       "<thead>\n",
       "\t<tr><th></th><th scope=col>FID</th><th scope=col>IID</th><th scope=col>PAT</th><th scope=col>MAT</th><th scope=col>SEX</th><th scope=col>PHENOTYPE</th><th scope=col>snp1</th><th scope=col>snp2</th></tr>\n",
       "\t<tr><th></th><th scope=col>&lt;int&gt;</th><th scope=col>&lt;int&gt;</th><th scope=col>&lt;int&gt;</th><th scope=col>&lt;int&gt;</th><th scope=col>&lt;int&gt;</th><th scope=col>&lt;int&gt;</th><th scope=col>&lt;dbl&gt;</th><th scope=col>&lt;dbl&gt;</th></tr>\n",
       "</thead>\n",
       "<tbody>\n",
       "\t<tr><th scope=row>1</th><td>1000019</td><td>1000019</td><td>0</td><td>0</td><td>1</td><td>-9</td><td>0</td><td>0</td></tr>\n",
       "\t<tr><th scope=row>2</th><td>1000022</td><td>1000022</td><td>0</td><td>0</td><td>1</td><td>-9</td><td>0</td><td>0</td></tr>\n",
       "\t<tr><th scope=row>3</th><td>1000035</td><td>1000035</td><td>0</td><td>0</td><td>0</td><td>-9</td><td>0</td><td>0</td></tr>\n",
       "\t<tr><th scope=row>4</th><td>1000046</td><td>1000046</td><td>0</td><td>0</td><td>0</td><td>-9</td><td>0</td><td>1</td></tr>\n",
       "\t<tr><th scope=row>5</th><td>1000054</td><td>1000054</td><td>0</td><td>0</td><td>1</td><td>-9</td><td>0</td><td>0</td></tr>\n",
       "</tbody>\n",
       "</table>\n"
      ],
      "text/latex": [
       "A data.frame: 5 × 8\n",
       "\\begin{tabular}{r|llllllll}\n",
       "  & FID & IID & PAT & MAT & SEX & PHENOTYPE & snp1 & snp2\\\\\n",
       "  & <int> & <int> & <int> & <int> & <int> & <int> & <dbl> & <dbl>\\\\\n",
       "\\hline\n",
       "\t1 & 1000019 & 1000019 & 0 & 0 & 1 & -9 & 0 & 0\\\\\n",
       "\t2 & 1000022 & 1000022 & 0 & 0 & 1 & -9 & 0 & 0\\\\\n",
       "\t3 & 1000035 & 1000035 & 0 & 0 & 0 & -9 & 0 & 0\\\\\n",
       "\t4 & 1000046 & 1000046 & 0 & 0 & 0 & -9 & 0 & 1\\\\\n",
       "\t5 & 1000054 & 1000054 & 0 & 0 & 1 & -9 & 0 & 0\\\\\n",
       "\\end{tabular}\n"
      ],
      "text/markdown": [
       "\n",
       "A data.frame: 5 × 8\n",
       "\n",
       "| <!--/--> | FID &lt;int&gt; | IID &lt;int&gt; | PAT &lt;int&gt; | MAT &lt;int&gt; | SEX &lt;int&gt; | PHENOTYPE &lt;int&gt; | snp1 &lt;dbl&gt; | snp2 &lt;dbl&gt; |\n",
       "|---|---|---|---|---|---|---|---|---|\n",
       "| 1 | 1000019 | 1000019 | 0 | 0 | 1 | -9 | 0 | 0 |\n",
       "| 2 | 1000022 | 1000022 | 0 | 0 | 1 | -9 | 0 | 0 |\n",
       "| 3 | 1000035 | 1000035 | 0 | 0 | 0 | -9 | 0 | 0 |\n",
       "| 4 | 1000046 | 1000046 | 0 | 0 | 0 | -9 | 0 | 1 |\n",
       "| 5 | 1000054 | 1000054 | 0 | 0 | 1 | -9 | 0 | 0 |\n",
       "\n"
      ],
      "text/plain": [
       "  FID     IID     PAT MAT SEX PHENOTYPE snp1 snp2\n",
       "1 1000019 1000019 0   0   1   -9        0    0   \n",
       "2 1000022 1000022 0   0   1   -9        0    0   \n",
       "3 1000035 1000035 0   0   0   -9        0    0   \n",
       "4 1000046 1000046 0   0   0   -9        0    1   \n",
       "5 1000054 1000054 0   0   1   -9        0    0   "
      ]
     },
     "metadata": {},
     "output_type": "display_data"
    }
   ],
   "source": [
    "df <- cbind(first6[1:n,],snp1,snp2)\n",
    "df$SEX <- sex\n",
    "df[1:5,]"
   ]
  },
  {
   "cell_type": "code",
   "execution_count": 38,
   "id": "63959cce-608f-4b70-b516-fd4d1913ae35",
   "metadata": {},
   "outputs": [
    {
     "data": {
      "text/html": [
       "<table class=\"dataframe\">\n",
       "<caption>A data.frame: 5 × 8</caption>\n",
       "<thead>\n",
       "\t<tr><th></th><th scope=col>FID</th><th scope=col>IID</th><th scope=col>PAT</th><th scope=col>MAT</th><th scope=col>SEX</th><th scope=col>PHENOTYPE</th><th scope=col>snp1</th><th scope=col>snp2</th></tr>\n",
       "\t<tr><th></th><th scope=col>&lt;int&gt;</th><th scope=col>&lt;int&gt;</th><th scope=col>&lt;int&gt;</th><th scope=col>&lt;int&gt;</th><th scope=col>&lt;int&gt;</th><th scope=col>&lt;int&gt;</th><th scope=col>&lt;chr&gt;</th><th scope=col>&lt;chr&gt;</th></tr>\n",
       "</thead>\n",
       "<tbody>\n",
       "\t<tr><th scope=row>1</th><td>1000019</td><td>1000019</td><td>0</td><td>0</td><td>1</td><td>-9</td><td>G G</td><td>G G</td></tr>\n",
       "\t<tr><th scope=row>2</th><td>1000022</td><td>1000022</td><td>0</td><td>0</td><td>1</td><td>-9</td><td>G G</td><td>G G</td></tr>\n",
       "\t<tr><th scope=row>3</th><td>1000035</td><td>1000035</td><td>0</td><td>0</td><td>0</td><td>-9</td><td>G G</td><td>G G</td></tr>\n",
       "\t<tr><th scope=row>4</th><td>1000046</td><td>1000046</td><td>0</td><td>0</td><td>0</td><td>-9</td><td>G G</td><td>G A</td></tr>\n",
       "\t<tr><th scope=row>5</th><td>1000054</td><td>1000054</td><td>0</td><td>0</td><td>1</td><td>-9</td><td>G G</td><td>G G</td></tr>\n",
       "</tbody>\n",
       "</table>\n"
      ],
      "text/latex": [
       "A data.frame: 5 × 8\n",
       "\\begin{tabular}{r|llllllll}\n",
       "  & FID & IID & PAT & MAT & SEX & PHENOTYPE & snp1 & snp2\\\\\n",
       "  & <int> & <int> & <int> & <int> & <int> & <int> & <chr> & <chr>\\\\\n",
       "\\hline\n",
       "\t1 & 1000019 & 1000019 & 0 & 0 & 1 & -9 & G G & G G\\\\\n",
       "\t2 & 1000022 & 1000022 & 0 & 0 & 1 & -9 & G G & G G\\\\\n",
       "\t3 & 1000035 & 1000035 & 0 & 0 & 0 & -9 & G G & G G\\\\\n",
       "\t4 & 1000046 & 1000046 & 0 & 0 & 0 & -9 & G G & G A\\\\\n",
       "\t5 & 1000054 & 1000054 & 0 & 0 & 1 & -9 & G G & G G\\\\\n",
       "\\end{tabular}\n"
      ],
      "text/markdown": [
       "\n",
       "A data.frame: 5 × 8\n",
       "\n",
       "| <!--/--> | FID &lt;int&gt; | IID &lt;int&gt; | PAT &lt;int&gt; | MAT &lt;int&gt; | SEX &lt;int&gt; | PHENOTYPE &lt;int&gt; | snp1 &lt;chr&gt; | snp2 &lt;chr&gt; |\n",
       "|---|---|---|---|---|---|---|---|---|\n",
       "| 1 | 1000019 | 1000019 | 0 | 0 | 1 | -9 | G G | G G |\n",
       "| 2 | 1000022 | 1000022 | 0 | 0 | 1 | -9 | G G | G G |\n",
       "| 3 | 1000035 | 1000035 | 0 | 0 | 0 | -9 | G G | G G |\n",
       "| 4 | 1000046 | 1000046 | 0 | 0 | 0 | -9 | G G | G A |\n",
       "| 5 | 1000054 | 1000054 | 0 | 0 | 1 | -9 | G G | G G |\n",
       "\n"
      ],
      "text/plain": [
       "  FID     IID     PAT MAT SEX PHENOTYPE snp1 snp2\n",
       "1 1000019 1000019 0   0   1   -9        G G  G G \n",
       "2 1000022 1000022 0   0   1   -9        G G  G G \n",
       "3 1000035 1000035 0   0   0   -9        G G  G G \n",
       "4 1000046 1000046 0   0   0   -9        G G  G A \n",
       "5 1000054 1000054 0   0   1   -9        G G  G G "
      ]
     },
     "metadata": {},
     "output_type": "display_data"
    }
   ],
   "source": [
    "snp1[snp1==0]=\"G G\"\n",
    "snp1[snp1==1]=\"G A\"\n",
    "snp1[snp1==2]=\"A A\"\n",
    "snp2[snp2==0]=\"G G\"\n",
    "snp2[snp2==1]=\"G A\"\n",
    "snp2[snp2==2]=\"A A\"\n",
    "df <- cbind(first6[1:n,],snp1,snp2)\n",
    "df$SEX <- sex\n",
    "df[1:5,]"
   ]
  },
  {
   "cell_type": "code",
   "execution_count": 27,
   "id": "461ac1dd-88a5-47a1-86c8-81b1ee12ee95",
   "metadata": {},
   "outputs": [],
   "source": [
    "write.table(df,\"/home/gl2776/working/interaction/simulation/simulation.ped\",sep=\"\\t\",col.names=FALSE,row.names=FALSE,quote=FALSE)"
   ]
  },
  {
   "cell_type": "code",
   "execution_count": 28,
   "id": "830698ef-add5-4625-a903-7792f421113d",
   "metadata": {},
   "outputs": [],
   "source": [
    "# Give a random map\n",
    "f<-file(\"/home/gl2776/working/interaction/simulation/simulation.map\")\n",
    "writeLines(c(\"1 snp1 0 6036089\",\"22 snp2 0 22670862\"), f)\n",
    "close(f)"
   ]
  },
  {
   "cell_type": "code",
   "execution_count": 45,
   "id": "cfe48f6f-bea3-4046-ab4a-872f2eec808a",
   "metadata": {},
   "outputs": [
    {
     "data": {
      "text/html": [
       "<table class=\"dataframe\">\n",
       "<caption>A data.frame: 5 × 5</caption>\n",
       "<thead>\n",
       "\t<tr><th></th><th scope=col>FID</th><th scope=col>IID</th><th scope=col>y</th><th scope=col>sex</th><th scope=col>age</th></tr>\n",
       "\t<tr><th></th><th scope=col>&lt;int&gt;</th><th scope=col>&lt;int&gt;</th><th scope=col>&lt;int&gt;</th><th scope=col>&lt;int&gt;</th><th scope=col>&lt;dbl&gt;</th></tr>\n",
       "</thead>\n",
       "<tbody>\n",
       "\t<tr><th scope=row>1</th><td>1000019</td><td>1000019</td><td>0</td><td>1</td><td>37.96120</td></tr>\n",
       "\t<tr><th scope=row>2</th><td>1000022</td><td>1000022</td><td>0</td><td>1</td><td>73.36082</td></tr>\n",
       "\t<tr><th scope=row>3</th><td>1000035</td><td>1000035</td><td>0</td><td>0</td><td>44.93142</td></tr>\n",
       "\t<tr><th scope=row>4</th><td>1000046</td><td>1000046</td><td>0</td><td>0</td><td>53.79485</td></tr>\n",
       "\t<tr><th scope=row>5</th><td>1000054</td><td>1000054</td><td>0</td><td>1</td><td>32.91290</td></tr>\n",
       "</tbody>\n",
       "</table>\n"
      ],
      "text/latex": [
       "A data.frame: 5 × 5\n",
       "\\begin{tabular}{r|lllll}\n",
       "  & FID & IID & y & sex & age\\\\\n",
       "  & <int> & <int> & <int> & <int> & <dbl>\\\\\n",
       "\\hline\n",
       "\t1 & 1000019 & 1000019 & 0 & 1 & 37.96120\\\\\n",
       "\t2 & 1000022 & 1000022 & 0 & 1 & 73.36082\\\\\n",
       "\t3 & 1000035 & 1000035 & 0 & 0 & 44.93142\\\\\n",
       "\t4 & 1000046 & 1000046 & 0 & 0 & 53.79485\\\\\n",
       "\t5 & 1000054 & 1000054 & 0 & 1 & 32.91290\\\\\n",
       "\\end{tabular}\n"
      ],
      "text/markdown": [
       "\n",
       "A data.frame: 5 × 5\n",
       "\n",
       "| <!--/--> | FID &lt;int&gt; | IID &lt;int&gt; | y &lt;int&gt; | sex &lt;int&gt; | age &lt;dbl&gt; |\n",
       "|---|---|---|---|---|---|\n",
       "| 1 | 1000019 | 1000019 | 0 | 1 | 37.96120 |\n",
       "| 2 | 1000022 | 1000022 | 0 | 1 | 73.36082 |\n",
       "| 3 | 1000035 | 1000035 | 0 | 0 | 44.93142 |\n",
       "| 4 | 1000046 | 1000046 | 0 | 0 | 53.79485 |\n",
       "| 5 | 1000054 | 1000054 | 0 | 1 | 32.91290 |\n",
       "\n"
      ],
      "text/plain": [
       "  FID     IID     y sex age     \n",
       "1 1000019 1000019 0 1   37.96120\n",
       "2 1000022 1000022 0 1   73.36082\n",
       "3 1000035 1000035 0 0   44.93142\n",
       "4 1000046 1000046 0 0   53.79485\n",
       "5 1000054 1000054 0 1   32.91290"
      ]
     },
     "metadata": {},
     "output_type": "display_data"
    }
   ],
   "source": [
    "# Phenotype\n",
    "phe <- cbind(first6[1:n,1:2],y,sex,age)\n",
    "write.table(phe,\"/home/gl2776/working/interaction/simulation/simulation.phe\",sep=\"\\t\",col.names=TRUE,row.names=FALSE,quote=FALSE)\n",
    "phe[1:5,]"
   ]
  },
  {
   "cell_type": "code",
   "execution_count": 46,
   "id": "aedb4a5d-2edc-4052-8347-b0147f0bab67",
   "metadata": {},
   "outputs": [
    {
     "data": {
      "text/html": [
       "<table class=\"dataframe\">\n",
       "<caption>A data.frame: 5 × 7</caption>\n",
       "<thead>\n",
       "\t<tr><th></th><th scope=col>FID</th><th scope=col>IID</th><th scope=col>y</th><th scope=col>sex</th><th scope=col>age</th><th scope=col>snp1</th><th scope=col>snp2</th></tr>\n",
       "\t<tr><th></th><th scope=col>&lt;int&gt;</th><th scope=col>&lt;int&gt;</th><th scope=col>&lt;int&gt;</th><th scope=col>&lt;int&gt;</th><th scope=col>&lt;dbl&gt;</th><th scope=col>&lt;dbl&gt;</th><th scope=col>&lt;dbl&gt;</th></tr>\n",
       "</thead>\n",
       "<tbody>\n",
       "\t<tr><th scope=row>31</th><td>1000331</td><td>1000331</td><td>1</td><td>0</td><td>25.55705</td><td>0</td><td>0</td></tr>\n",
       "\t<tr><th scope=row>66</th><td>1000701</td><td>1000701</td><td>1</td><td>1</td><td>72.34277</td><td>0</td><td>0</td></tr>\n",
       "\t<tr><th scope=row>210</th><td>1002176</td><td>1002176</td><td>1</td><td>1</td><td>35.71838</td><td>0</td><td>0</td></tr>\n",
       "\t<tr><th scope=row>246</th><td>1002555</td><td>1002555</td><td>1</td><td>0</td><td>78.12756</td><td>0</td><td>1</td></tr>\n",
       "\t<tr><th scope=row>393</th><td>1004064</td><td>1004064</td><td>1</td><td>1</td><td>47.85152</td><td>0</td><td>0</td></tr>\n",
       "</tbody>\n",
       "</table>\n"
      ],
      "text/latex": [
       "A data.frame: 5 × 7\n",
       "\\begin{tabular}{r|lllllll}\n",
       "  & FID & IID & y & sex & age & snp1 & snp2\\\\\n",
       "  & <int> & <int> & <int> & <int> & <dbl> & <dbl> & <dbl>\\\\\n",
       "\\hline\n",
       "\t31 & 1000331 & 1000331 & 1 & 0 & 25.55705 & 0 & 0\\\\\n",
       "\t66 & 1000701 & 1000701 & 1 & 1 & 72.34277 & 0 & 0\\\\\n",
       "\t210 & 1002176 & 1002176 & 1 & 1 & 35.71838 & 0 & 0\\\\\n",
       "\t246 & 1002555 & 1002555 & 1 & 0 & 78.12756 & 0 & 1\\\\\n",
       "\t393 & 1004064 & 1004064 & 1 & 1 & 47.85152 & 0 & 0\\\\\n",
       "\\end{tabular}\n"
      ],
      "text/markdown": [
       "\n",
       "A data.frame: 5 × 7\n",
       "\n",
       "| <!--/--> | FID &lt;int&gt; | IID &lt;int&gt; | y &lt;int&gt; | sex &lt;int&gt; | age &lt;dbl&gt; | snp1 &lt;dbl&gt; | snp2 &lt;dbl&gt; |\n",
       "|---|---|---|---|---|---|---|---|\n",
       "| 31 | 1000331 | 1000331 | 1 | 0 | 25.55705 | 0 | 0 |\n",
       "| 66 | 1000701 | 1000701 | 1 | 1 | 72.34277 | 0 | 0 |\n",
       "| 210 | 1002176 | 1002176 | 1 | 1 | 35.71838 | 0 | 0 |\n",
       "| 246 | 1002555 | 1002555 | 1 | 0 | 78.12756 | 0 | 1 |\n",
       "| 393 | 1004064 | 1004064 | 1 | 1 | 47.85152 | 0 | 0 |\n",
       "\n"
      ],
      "text/plain": [
       "    FID     IID     y sex age      snp1 snp2\n",
       "31  1000331 1000331 1 0   25.55705 0    0   \n",
       "66  1000701 1000701 1 1   72.34277 0    0   \n",
       "210 1002176 1002176 1 1   35.71838 0    0   \n",
       "246 1002555 1002555 1 0   78.12756 0    1   \n",
       "393 1004064 1004064 1 1   47.85152 0    0   "
      ]
     },
     "metadata": {},
     "output_type": "display_data"
    }
   ],
   "source": [
    "# Case only Phenotype\n",
    "phe <- cbind(first6[1:n,1:2],y,sex,age,snp1,snp2)\n",
    "phe <- phe[phe$y==1,]\n",
    "write.table(phe,\"/home/gl2776/working/interaction/simulation/simulation.caseonly.phe\",sep=\"\\t\",col.names=TRUE,row.names=FALSE,quote=FALSE)\n",
    "phe[1:5,]"
   ]
  },
  {
   "cell_type": "code",
   "execution_count": 47,
   "id": "3745c137-cc02-4dc8-bfbe-174e5c405338",
   "metadata": {},
   "outputs": [
    {
     "data": {
      "text/html": [
       "<style>\n",
       ".list-inline {list-style: none; margin:0; padding: 0}\n",
       ".list-inline>li {display: inline-block}\n",
       ".list-inline>li:not(:last-child)::after {content: \"\\00b7\"; padding: 0 .5ex}\n",
       "</style>\n",
       "<ol class=list-inline><li>9829</li><li>7</li></ol>\n"
      ],
      "text/latex": [
       "\\begin{enumerate*}\n",
       "\\item 9829\n",
       "\\item 7\n",
       "\\end{enumerate*}\n"
      ],
      "text/markdown": [
       "1. 9829\n",
       "2. 7\n",
       "\n",
       "\n"
      ],
      "text/plain": [
       "[1] 9829    7"
      ]
     },
     "metadata": {},
     "output_type": "display_data"
    }
   ],
   "source": [
    "dim(phe)"
   ]
  },
  {
   "cell_type": "code",
   "execution_count": null,
   "id": "6ccb44e0-5ed3-46ac-8b29-804f6b286d18",
   "metadata": {},
   "outputs": [],
   "source": []
  }
 ],
 "metadata": {
  "kernelspec": {
   "display_name": "R",
   "language": "R",
   "name": "ir"
  },
  "language_info": {
   "codemirror_mode": "r",
   "file_extension": ".r",
   "mimetype": "text/x-r-source",
   "name": "R",
   "pygments_lexer": "r",
   "version": "4.0.5"
  }
 },
 "nbformat": 4,
 "nbformat_minor": 5
}
