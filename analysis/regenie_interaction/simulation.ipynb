{
 "cells": [
  {
   "cell_type": "markdown",
   "id": "a23e7a00-9c71-44c4-bd2d-a72fcf131a65",
   "metadata": {},
   "source": [
    "# Interaction simulation\n",
    "\n",
    "The aim of this simulation is to check whether violating the rare disease assumption affects the significance of interaction term in caseonly interaction association test."
   ]
  },
  {
   "cell_type": "markdown",
   "id": "a4317e76-7e1c-4aed-8330-3370e5d90df5",
   "metadata": {},
   "source": [
    "# Setting\n",
    "\n",
    "One pair of SNPs\n",
    "\n",
    "$y\\sim{binomial(p)}$\n",
    "\n",
    "$logit(p) = b_{0}+b_{1}x_{1}+b_{2}x_{2}+b_{12}x_{1}x_{2}+b_{3}sex+b_{4}age+g+e$\n",
    "\n",
    "$p = 1/(1+exp(-u))$\n",
    "\n",
    "$log(p/(1-p))=u$\n",
    "\n",
    "Let\n",
    "\n",
    "$b1=0.5$\n",
    "\n",
    "$b2=0.6$\n",
    "\n",
    "$b12=0.5$\n",
    "\n",
    "$b3=0.01$\n",
    "\n",
    "$b4=0.001$\n",
    "\n",
    "$p\\approx 0.01$\n",
    "\n",
    "$E(u)\\approx logit(0.01)=-5.6$\n",
    "\n",
    "$x_{1}, x_{2}\\sim $ {0, 1 (4.9%), 2 (0.1%)}"
   ]
  },
  {
   "cell_type": "code",
   "execution_count": 6,
   "id": "dfb669ee-d196-4c31-b29c-07a579b2b757",
   "metadata": {},
   "outputs": [
    {
     "data": {
      "text/html": [
       "-4.59511985013459"
      ],
      "text/latex": [
       "-4.59511985013459"
      ],
      "text/markdown": [
       "-4.59511985013459"
      ],
      "text/plain": [
       "[1] -4.59512"
      ]
     },
     "metadata": {},
     "output_type": "display_data"
    }
   ],
   "source": [
    "log(0.01/0.99)"
   ]
  },
  {
   "cell_type": "code",
   "execution_count": 8,
   "id": "20d3a9d1-b097-497d-aaaf-c5f9658dbf01",
   "metadata": {},
   "outputs": [
    {
     "data": {
      "text/plain": [
       "\n",
       "Call:\n",
       "glm(formula = y ~ snp1 + snp2 + snp1 * snp2, family = \"binomial\")\n",
       "\n",
       "Deviance Residuals: \n",
       "    Min       1Q   Median       3Q      Max  \n",
       "-0.5448  -0.1289  -0.1289  -0.1289   3.0967  \n",
       "\n",
       "Coefficients:\n",
       "            Estimate Std. Error  z value Pr(>|z|)    \n",
       "(Intercept) -4.78650    0.03665 -130.608  < 2e-16 ***\n",
       "snp1         0.47343    0.12542    3.775  0.00016 ***\n",
       "snp2         0.60946    0.11705    5.207 1.92e-07 ***\n",
       "snp1:snp2    0.63070    0.31208    2.021  0.04328 *  \n",
       "---\n",
       "Signif. codes:  0 ‘***’ 0.001 ‘**’ 0.01 ‘*’ 0.05 ‘.’ 0.1 ‘ ’ 1\n",
       "\n",
       "(Dispersion parameter for binomial family taken to be 1)\n",
       "\n",
       "    Null deviance: 10224  on 99999  degrees of freedom\n",
       "Residual deviance: 10169  on 99996  degrees of freedom\n",
       "AIC: 10177\n",
       "\n",
       "Number of Fisher Scoring iterations: 7\n"
      ]
     },
     "metadata": {},
     "output_type": "display_data"
    }
   ],
   "source": [
    "# n = 1E05\n",
    "# snp1 snp2\n",
    "n=100000\n",
    "snp1<-rep(0,n)\n",
    "snp2<-rep(0,n)\n",
    "\n",
    "set.seed(123)\n",
    "list11<-sample(1:n,n/20)\n",
    "snp1[list11]<-1\n",
    "list12<-sample(list11,n/1000)\n",
    "snp1[list12]<-2\n",
    "\n",
    "set.seed(321)\n",
    "list21<-sample(1:n,n/20)\n",
    "snp2[list21]<-1\n",
    "list22<-sample(list21,n/1000)\n",
    "snp2[list22]<-2\n",
    "\n",
    "# sex age\n",
    "sex <- sample(0:1,n, replace =TRUE)\n",
    "age <- runif(n,0,80)\n",
    "\n",
    "# y\n",
    "u <- 0.5*snp1+0.6*snp2+0.5*snp1*snp2+0.1*sex+0.01*age-5.2\n",
    "p <- 1/(1+exp(-u))\n",
    "y <- rbinom(n,1,p)\n",
    "\n",
    "# GLM\n",
    "model <- glm(y~snp1+snp2+snp1*snp2,family = \"binomial\")\n",
    "summary(model)"
   ]
  },
  {
   "cell_type": "code",
   "execution_count": 9,
   "id": "25adac5a-655d-4ffb-916f-eaef2ac83931",
   "metadata": {},
   "outputs": [
    {
     "data": {
      "text/html": [
       "0.00953689381404474"
      ],
      "text/latex": [
       "0.00953689381404474"
      ],
      "text/markdown": [
       "0.00953689381404474"
      ],
      "text/plain": [
       "[1] 0.009536894"
      ]
     },
     "metadata": {},
     "output_type": "display_data"
    }
   ],
   "source": [
    "mean(p)"
   ]
  },
  {
   "cell_type": "code",
   "execution_count": 10,
   "id": "c082f163-4923-4e71-bc24-48fe729882a0",
   "metadata": {},
   "outputs": [
    {
     "data": {
      "text/plain": [
       "sex\n",
       "    0     1 \n",
       "50134 49866 "
      ]
     },
     "metadata": {},
     "output_type": "display_data"
    }
   ],
   "source": [
    "table(sex)"
   ]
  },
  {
   "cell_type": "code",
   "execution_count": 11,
   "id": "5b617124-c4f8-4e0c-a8bc-e1fdbae6da9e",
   "metadata": {},
   "outputs": [
    {
     "data": {
      "image/png": "[encoded data removed]",
      "text/plain": [
       "Plot with title “Histogram of age”"
      ]
     },
     "metadata": {
      "image/png": {
       "height": 420,
       "width": 420
      }
     },
     "output_type": "display_data"
    }
   ],
   "source": [
    "hist(age)"
   ]
  },
  {
   "cell_type": "markdown",
   "id": "52b9a7d9-b83c-4d28-ae48-9a70647c7a4b",
   "metadata": {},
   "source": [
    "It's hard to keep the banlance between the AF, disease prevelence and the significance of the interaction term (the power to test the interaction term)"
   ]
  },
  {
   "cell_type": "code",
   "execution_count": 12,
   "id": "5fe41cd6-f4af-43bb-bcec-ebe07fe9f70d",
   "metadata": {},
   "outputs": [
    {
     "data": {
      "text/html": [
       "<table class=\"dataframe\">\n",
       "<caption>A data.frame: 5 × 6</caption>\n",
       "<thead>\n",
       "\t<tr><th></th><th scope=col>FID</th><th scope=col>IID</th><th scope=col>PAT</th><th scope=col>MAT</th><th scope=col>SEX</th><th scope=col>PHENOTYPE</th></tr>\n",
       "\t<tr><th></th><th scope=col>&lt;int&gt;</th><th scope=col>&lt;int&gt;</th><th scope=col>&lt;int&gt;</th><th scope=col>&lt;int&gt;</th><th scope=col>&lt;int&gt;</th><th scope=col>&lt;int&gt;</th></tr>\n",
       "</thead>\n",
       "<tbody>\n",
       "\t<tr><th scope=row>1</th><td>1000019</td><td>1000019</td><td>0</td><td>0</td><td>2</td><td>-9</td></tr>\n",
       "\t<tr><th scope=row>2</th><td>1000022</td><td>1000022</td><td>0</td><td>0</td><td>1</td><td>-9</td></tr>\n",
       "\t<tr><th scope=row>3</th><td>1000035</td><td>1000035</td><td>0</td><td>0</td><td>1</td><td>-9</td></tr>\n",
       "\t<tr><th scope=row>4</th><td>1000046</td><td>1000046</td><td>0</td><td>0</td><td>2</td><td>-9</td></tr>\n",
       "\t<tr><th scope=row>5</th><td>1000054</td><td>1000054</td><td>0</td><td>0</td><td>2</td><td>-9</td></tr>\n",
       "</tbody>\n",
       "</table>\n"
      ],
      "text/latex": [
       "A data.frame: 5 × 6\n",
       "\\begin{tabular}{r|llllll}\n",
       "  & FID & IID & PAT & MAT & SEX & PHENOTYPE\\\\\n",
       "  & <int> & <int> & <int> & <int> & <int> & <int>\\\\\n",
       "\\hline\n",
       "\t1 & 1000019 & 1000019 & 0 & 0 & 2 & -9\\\\\n",
       "\t2 & 1000022 & 1000022 & 0 & 0 & 1 & -9\\\\\n",
       "\t3 & 1000035 & 1000035 & 0 & 0 & 1 & -9\\\\\n",
       "\t4 & 1000046 & 1000046 & 0 & 0 & 2 & -9\\\\\n",
       "\t5 & 1000054 & 1000054 & 0 & 0 & 2 & -9\\\\\n",
       "\\end{tabular}\n"
      ],
      "text/markdown": [
       "\n",
       "A data.frame: 5 × 6\n",
       "\n",
       "| <!--/--> | FID &lt;int&gt; | IID &lt;int&gt; | PAT &lt;int&gt; | MAT &lt;int&gt; | SEX &lt;int&gt; | PHENOTYPE &lt;int&gt; |\n",
       "|---|---|---|---|---|---|---|\n",
       "| 1 | 1000019 | 1000019 | 0 | 0 | 2 | -9 |\n",
       "| 2 | 1000022 | 1000022 | 0 | 0 | 1 | -9 |\n",
       "| 3 | 1000035 | 1000035 | 0 | 0 | 1 | -9 |\n",
       "| 4 | 1000046 | 1000046 | 0 | 0 | 2 | -9 |\n",
       "| 5 | 1000054 | 1000054 | 0 | 0 | 2 | -9 |\n",
       "\n"
      ],
      "text/plain": [
       "  FID     IID     PAT MAT SEX PHENOTYPE\n",
       "1 1000019 1000019 0   0   2   -9       \n",
       "2 1000022 1000022 0   0   1   -9       \n",
       "3 1000035 1000035 0   0   1   -9       \n",
       "4 1000046 1000046 0   0   2   -9       \n",
       "5 1000054 1000054 0   0   2   -9       "
      ]
     },
     "metadata": {},
     "output_type": "display_data"
    }
   ],
   "source": [
    "# Build the ped and map file for this dataset\n",
    "first6 <- read.table(\"~/project/guangyou/interaction/f3393.x.raw.first6col\",header=TRUE)\n",
    "first6[1:5,]"
   ]
  },
  {
   "cell_type": "code",
   "execution_count": 13,
   "id": "789a1c9e-16f7-4c6a-86aa-7c39591808d7",
   "metadata": {},
   "outputs": [
    {
     "data": {
      "text/html": [
       "<table class=\"dataframe\">\n",
       "<caption>A data.frame: 5 × 8</caption>\n",
       "<thead>\n",
       "\t<tr><th></th><th scope=col>FID</th><th scope=col>IID</th><th scope=col>PAT</th><th scope=col>MAT</th><th scope=col>SEX</th><th scope=col>PHENOTYPE</th><th scope=col>snp1</th><th scope=col>snp2</th></tr>\n",
       "\t<tr><th></th><th scope=col>&lt;int&gt;</th><th scope=col>&lt;int&gt;</th><th scope=col>&lt;int&gt;</th><th scope=col>&lt;int&gt;</th><th scope=col>&lt;int&gt;</th><th scope=col>&lt;int&gt;</th><th scope=col>&lt;dbl&gt;</th><th scope=col>&lt;dbl&gt;</th></tr>\n",
       "</thead>\n",
       "<tbody>\n",
       "\t<tr><th scope=row>1</th><td>1000019</td><td>1000019</td><td>0</td><td>0</td><td>0</td><td>-9</td><td>0</td><td>0</td></tr>\n",
       "\t<tr><th scope=row>2</th><td>1000022</td><td>1000022</td><td>0</td><td>0</td><td>1</td><td>-9</td><td>0</td><td>0</td></tr>\n",
       "\t<tr><th scope=row>3</th><td>1000035</td><td>1000035</td><td>0</td><td>0</td><td>1</td><td>-9</td><td>0</td><td>0</td></tr>\n",
       "\t<tr><th scope=row>4</th><td>1000046</td><td>1000046</td><td>0</td><td>0</td><td>0</td><td>-9</td><td>0</td><td>0</td></tr>\n",
       "\t<tr><th scope=row>5</th><td>1000054</td><td>1000054</td><td>0</td><td>0</td><td>0</td><td>-9</td><td>1</td><td>0</td></tr>\n",
       "</tbody>\n",
       "</table>\n"
      ],
      "text/latex": [
       "A data.frame: 5 × 8\n",
       "\\begin{tabular}{r|llllllll}\n",
       "  & FID & IID & PAT & MAT & SEX & PHENOTYPE & snp1 & snp2\\\\\n",
       "  & <int> & <int> & <int> & <int> & <int> & <int> & <dbl> & <dbl>\\\\\n",
       "\\hline\n",
       "\t1 & 1000019 & 1000019 & 0 & 0 & 0 & -9 & 0 & 0\\\\\n",
       "\t2 & 1000022 & 1000022 & 0 & 0 & 1 & -9 & 0 & 0\\\\\n",
       "\t3 & 1000035 & 1000035 & 0 & 0 & 1 & -9 & 0 & 0\\\\\n",
       "\t4 & 1000046 & 1000046 & 0 & 0 & 0 & -9 & 0 & 0\\\\\n",
       "\t5 & 1000054 & 1000054 & 0 & 0 & 0 & -9 & 1 & 0\\\\\n",
       "\\end{tabular}\n"
      ],
      "text/markdown": [
       "\n",
       "A data.frame: 5 × 8\n",
       "\n",
       "| <!--/--> | FID &lt;int&gt; | IID &lt;int&gt; | PAT &lt;int&gt; | MAT &lt;int&gt; | SEX &lt;int&gt; | PHENOTYPE &lt;int&gt; | snp1 &lt;dbl&gt; | snp2 &lt;dbl&gt; |\n",
       "|---|---|---|---|---|---|---|---|---|\n",
       "| 1 | 1000019 | 1000019 | 0 | 0 | 0 | -9 | 0 | 0 |\n",
       "| 2 | 1000022 | 1000022 | 0 | 0 | 1 | -9 | 0 | 0 |\n",
       "| 3 | 1000035 | 1000035 | 0 | 0 | 1 | -9 | 0 | 0 |\n",
       "| 4 | 1000046 | 1000046 | 0 | 0 | 0 | -9 | 0 | 0 |\n",
       "| 5 | 1000054 | 1000054 | 0 | 0 | 0 | -9 | 1 | 0 |\n",
       "\n"
      ],
      "text/plain": [
       "  FID     IID     PAT MAT SEX PHENOTYPE snp1 snp2\n",
       "1 1000019 1000019 0   0   0   -9        0    0   \n",
       "2 1000022 1000022 0   0   1   -9        0    0   \n",
       "3 1000035 1000035 0   0   1   -9        0    0   \n",
       "4 1000046 1000046 0   0   0   -9        0    0   \n",
       "5 1000054 1000054 0   0   0   -9        1    0   "
      ]
     },
     "metadata": {},
     "output_type": "display_data"
    }
   ],
   "source": [
    "df <- cbind(first6[1:n,],snp1,snp2)\n",
    "df$SEX <- sex\n",
    "df[1:5,]"
   ]
  },
  {
   "cell_type": "code",
   "execution_count": 14,
   "id": "08ff90dc-9d83-4f5e-b757-17b09f932d25",
   "metadata": {},
   "outputs": [
    {
     "data": {
      "text/html": [
       "<table class=\"dataframe\">\n",
       "<caption>A data.frame: 6 × 8</caption>\n",
       "<thead>\n",
       "\t<tr><th></th><th scope=col>FID</th><th scope=col>IID</th><th scope=col>PAT</th><th scope=col>MAT</th><th scope=col>SEX</th><th scope=col>PHENOTYPE</th><th scope=col>snp1</th><th scope=col>snp2</th></tr>\n",
       "\t<tr><th></th><th scope=col>&lt;int&gt;</th><th scope=col>&lt;int&gt;</th><th scope=col>&lt;int&gt;</th><th scope=col>&lt;int&gt;</th><th scope=col>&lt;int&gt;</th><th scope=col>&lt;int&gt;</th><th scope=col>&lt;dbl&gt;</th><th scope=col>&lt;dbl&gt;</th></tr>\n",
       "</thead>\n",
       "<tbody>\n",
       "\t<tr><th scope=row>99995</th><td>2033400</td><td>2033400</td><td>0</td><td>0</td><td>1</td><td>-9</td><td>0</td><td>0</td></tr>\n",
       "\t<tr><th scope=row>99996</th><td>2033417</td><td>2033417</td><td>0</td><td>0</td><td>0</td><td>-9</td><td>0</td><td>0</td></tr>\n",
       "\t<tr><th scope=row>99997</th><td>2033426</td><td>2033426</td><td>0</td><td>0</td><td>1</td><td>-9</td><td>0</td><td>0</td></tr>\n",
       "\t<tr><th scope=row>99998</th><td>2033432</td><td>2033432</td><td>0</td><td>0</td><td>1</td><td>-9</td><td>0</td><td>0</td></tr>\n",
       "\t<tr><th scope=row>99999</th><td>2033444</td><td>2033444</td><td>0</td><td>0</td><td>0</td><td>-9</td><td>0</td><td>0</td></tr>\n",
       "\t<tr><th scope=row>100000</th><td>2033458</td><td>2033458</td><td>0</td><td>0</td><td>1</td><td>-9</td><td>0</td><td>0</td></tr>\n",
       "</tbody>\n",
       "</table>\n"
      ],
      "text/latex": [
       "A data.frame: 6 × 8\n",
       "\\begin{tabular}{r|llllllll}\n",
       "  & FID & IID & PAT & MAT & SEX & PHENOTYPE & snp1 & snp2\\\\\n",
       "  & <int> & <int> & <int> & <int> & <int> & <int> & <dbl> & <dbl>\\\\\n",
       "\\hline\n",
       "\t99995 & 2033400 & 2033400 & 0 & 0 & 1 & -9 & 0 & 0\\\\\n",
       "\t99996 & 2033417 & 2033417 & 0 & 0 & 0 & -9 & 0 & 0\\\\\n",
       "\t99997 & 2033426 & 2033426 & 0 & 0 & 1 & -9 & 0 & 0\\\\\n",
       "\t99998 & 2033432 & 2033432 & 0 & 0 & 1 & -9 & 0 & 0\\\\\n",
       "\t99999 & 2033444 & 2033444 & 0 & 0 & 0 & -9 & 0 & 0\\\\\n",
       "\t100000 & 2033458 & 2033458 & 0 & 0 & 1 & -9 & 0 & 0\\\\\n",
       "\\end{tabular}\n"
      ],
      "text/markdown": [
       "\n",
       "A data.frame: 6 × 8\n",
       "\n",
       "| <!--/--> | FID &lt;int&gt; | IID &lt;int&gt; | PAT &lt;int&gt; | MAT &lt;int&gt; | SEX &lt;int&gt; | PHENOTYPE &lt;int&gt; | snp1 &lt;dbl&gt; | snp2 &lt;dbl&gt; |\n",
       "|---|---|---|---|---|---|---|---|---|\n",
       "| 99995 | 2033400 | 2033400 | 0 | 0 | 1 | -9 | 0 | 0 |\n",
       "| 99996 | 2033417 | 2033417 | 0 | 0 | 0 | -9 | 0 | 0 |\n",
       "| 99997 | 2033426 | 2033426 | 0 | 0 | 1 | -9 | 0 | 0 |\n",
       "| 99998 | 2033432 | 2033432 | 0 | 0 | 1 | -9 | 0 | 0 |\n",
       "| 99999 | 2033444 | 2033444 | 0 | 0 | 0 | -9 | 0 | 0 |\n",
       "| 100000 | 2033458 | 2033458 | 0 | 0 | 1 | -9 | 0 | 0 |\n",
       "\n"
      ],
      "text/plain": [
       "       FID     IID     PAT MAT SEX PHENOTYPE snp1 snp2\n",
       "99995  2033400 2033400 0   0   1   -9        0    0   \n",
       "99996  2033417 2033417 0   0   0   -9        0    0   \n",
       "99997  2033426 2033426 0   0   1   -9        0    0   \n",
       "99998  2033432 2033432 0   0   1   -9        0    0   \n",
       "99999  2033444 2033444 0   0   0   -9        0    0   \n",
       "100000 2033458 2033458 0   0   1   -9        0    0   "
      ]
     },
     "metadata": {},
     "output_type": "display_data"
    }
   ],
   "source": [
    "tail(df)"
   ]
  },
  {
   "cell_type": "code",
   "execution_count": 18,
   "id": "63959cce-608f-4b70-b516-fd4d1913ae35",
   "metadata": {},
   "outputs": [
    {
     "data": {
      "text/html": [
       "<table class=\"dataframe\">\n",
       "<caption>A data.frame: 5 × 8</caption>\n",
       "<thead>\n",
       "\t<tr><th></th><th scope=col>FID</th><th scope=col>IID</th><th scope=col>PAT</th><th scope=col>MAT</th><th scope=col>SEX</th><th scope=col>PHENOTYPE</th><th scope=col>snp1</th><th scope=col>snp2</th></tr>\n",
       "\t<tr><th></th><th scope=col>&lt;int&gt;</th><th scope=col>&lt;int&gt;</th><th scope=col>&lt;int&gt;</th><th scope=col>&lt;int&gt;</th><th scope=col>&lt;int&gt;</th><th scope=col>&lt;int&gt;</th><th scope=col>&lt;chr&gt;</th><th scope=col>&lt;chr&gt;</th></tr>\n",
       "</thead>\n",
       "<tbody>\n",
       "\t<tr><th scope=row>1</th><td>1000019</td><td>1000019</td><td>0</td><td>0</td><td>0</td><td>-9</td><td>G G</td><td>G G</td></tr>\n",
       "\t<tr><th scope=row>2</th><td>1000022</td><td>1000022</td><td>0</td><td>0</td><td>1</td><td>-9</td><td>G G</td><td>G G</td></tr>\n",
       "\t<tr><th scope=row>3</th><td>1000035</td><td>1000035</td><td>0</td><td>0</td><td>1</td><td>-9</td><td>G G</td><td>G G</td></tr>\n",
       "\t<tr><th scope=row>4</th><td>1000046</td><td>1000046</td><td>0</td><td>0</td><td>0</td><td>-9</td><td>G G</td><td>G G</td></tr>\n",
       "\t<tr><th scope=row>5</th><td>1000054</td><td>1000054</td><td>0</td><td>0</td><td>0</td><td>-9</td><td>G A</td><td>G G</td></tr>\n",
       "</tbody>\n",
       "</table>\n"
      ],
      "text/latex": [
       "A data.frame: 5 × 8\n",
       "\\begin{tabular}{r|llllllll}\n",
       "  & FID & IID & PAT & MAT & SEX & PHENOTYPE & snp1 & snp2\\\\\n",
       "  & <int> & <int> & <int> & <int> & <int> & <int> & <chr> & <chr>\\\\\n",
       "\\hline\n",
       "\t1 & 1000019 & 1000019 & 0 & 0 & 0 & -9 & G G & G G\\\\\n",
       "\t2 & 1000022 & 1000022 & 0 & 0 & 1 & -9 & G G & G G\\\\\n",
       "\t3 & 1000035 & 1000035 & 0 & 0 & 1 & -9 & G G & G G\\\\\n",
       "\t4 & 1000046 & 1000046 & 0 & 0 & 0 & -9 & G G & G G\\\\\n",
       "\t5 & 1000054 & 1000054 & 0 & 0 & 0 & -9 & G A & G G\\\\\n",
       "\\end{tabular}\n"
      ],
      "text/markdown": [
       "\n",
       "A data.frame: 5 × 8\n",
       "\n",
       "| <!--/--> | FID &lt;int&gt; | IID &lt;int&gt; | PAT &lt;int&gt; | MAT &lt;int&gt; | SEX &lt;int&gt; | PHENOTYPE &lt;int&gt; | snp1 &lt;chr&gt; | snp2 &lt;chr&gt; |\n",
       "|---|---|---|---|---|---|---|---|---|\n",
       "| 1 | 1000019 | 1000019 | 0 | 0 | 0 | -9 | G G | G G |\n",
       "| 2 | 1000022 | 1000022 | 0 | 0 | 1 | -9 | G G | G G |\n",
       "| 3 | 1000035 | 1000035 | 0 | 0 | 1 | -9 | G G | G G |\n",
       "| 4 | 1000046 | 1000046 | 0 | 0 | 0 | -9 | G G | G G |\n",
       "| 5 | 1000054 | 1000054 | 0 | 0 | 0 | -9 | G A | G G |\n",
       "\n"
      ],
      "text/plain": [
       "  FID     IID     PAT MAT SEX PHENOTYPE snp1 snp2\n",
       "1 1000019 1000019 0   0   0   -9        G G  G G \n",
       "2 1000022 1000022 0   0   1   -9        G G  G G \n",
       "3 1000035 1000035 0   0   1   -9        G G  G G \n",
       "4 1000046 1000046 0   0   0   -9        G G  G G \n",
       "5 1000054 1000054 0   0   0   -9        G A  G G "
      ]
     },
     "metadata": {},
     "output_type": "display_data"
    }
   ],
   "source": [
    "snp1[snp1==0]=\"G G\"\n",
    "snp1[snp1==1]=\"G A\"\n",
    "snp1[snp1==2]=\"A A\"\n",
    "snp2[snp2==0]=\"G G\"\n",
    "snp2[snp2==1]=\"G A\"\n",
    "snp2[snp2==2]=\"A A\"\n",
    "df <- cbind(first6[1:n,],snp1,snp2)\n",
    "df$SEX <- sex\n",
    "df[1:5,]"
   ]
  },
  {
   "cell_type": "code",
   "execution_count": 19,
   "id": "088d3084-6e44-4752-bb39-624803f7ca3b",
   "metadata": {},
   "outputs": [
    {
     "data": {
      "text/html": [
       "<table class=\"dataframe\">\n",
       "<caption>A data.frame: 6 × 8</caption>\n",
       "<thead>\n",
       "\t<tr><th></th><th scope=col>FID</th><th scope=col>IID</th><th scope=col>PAT</th><th scope=col>MAT</th><th scope=col>SEX</th><th scope=col>PHENOTYPE</th><th scope=col>snp1</th><th scope=col>snp2</th></tr>\n",
       "\t<tr><th></th><th scope=col>&lt;int&gt;</th><th scope=col>&lt;int&gt;</th><th scope=col>&lt;int&gt;</th><th scope=col>&lt;int&gt;</th><th scope=col>&lt;int&gt;</th><th scope=col>&lt;int&gt;</th><th scope=col>&lt;chr&gt;</th><th scope=col>&lt;chr&gt;</th></tr>\n",
       "</thead>\n",
       "<tbody>\n",
       "\t<tr><th scope=row>99995</th><td>2033400</td><td>2033400</td><td>0</td><td>0</td><td>1</td><td>-9</td><td>G G</td><td>G G</td></tr>\n",
       "\t<tr><th scope=row>99996</th><td>2033417</td><td>2033417</td><td>0</td><td>0</td><td>0</td><td>-9</td><td>G G</td><td>G G</td></tr>\n",
       "\t<tr><th scope=row>99997</th><td>2033426</td><td>2033426</td><td>0</td><td>0</td><td>1</td><td>-9</td><td>G G</td><td>G G</td></tr>\n",
       "\t<tr><th scope=row>99998</th><td>2033432</td><td>2033432</td><td>0</td><td>0</td><td>1</td><td>-9</td><td>G G</td><td>G G</td></tr>\n",
       "\t<tr><th scope=row>99999</th><td>2033444</td><td>2033444</td><td>0</td><td>0</td><td>0</td><td>-9</td><td>G G</td><td>G G</td></tr>\n",
       "\t<tr><th scope=row>100000</th><td>2033458</td><td>2033458</td><td>0</td><td>0</td><td>1</td><td>-9</td><td>G G</td><td>G G</td></tr>\n",
       "</tbody>\n",
       "</table>\n"
      ],
      "text/latex": [
       "A data.frame: 6 × 8\n",
       "\\begin{tabular}{r|llllllll}\n",
       "  & FID & IID & PAT & MAT & SEX & PHENOTYPE & snp1 & snp2\\\\\n",
       "  & <int> & <int> & <int> & <int> & <int> & <int> & <chr> & <chr>\\\\\n",
       "\\hline\n",
       "\t99995 & 2033400 & 2033400 & 0 & 0 & 1 & -9 & G G & G G\\\\\n",
       "\t99996 & 2033417 & 2033417 & 0 & 0 & 0 & -9 & G G & G G\\\\\n",
       "\t99997 & 2033426 & 2033426 & 0 & 0 & 1 & -9 & G G & G G\\\\\n",
       "\t99998 & 2033432 & 2033432 & 0 & 0 & 1 & -9 & G G & G G\\\\\n",
       "\t99999 & 2033444 & 2033444 & 0 & 0 & 0 & -9 & G G & G G\\\\\n",
       "\t100000 & 2033458 & 2033458 & 0 & 0 & 1 & -9 & G G & G G\\\\\n",
       "\\end{tabular}\n"
      ],
      "text/markdown": [
       "\n",
       "A data.frame: 6 × 8\n",
       "\n",
       "| <!--/--> | FID &lt;int&gt; | IID &lt;int&gt; | PAT &lt;int&gt; | MAT &lt;int&gt; | SEX &lt;int&gt; | PHENOTYPE &lt;int&gt; | snp1 &lt;chr&gt; | snp2 &lt;chr&gt; |\n",
       "|---|---|---|---|---|---|---|---|---|\n",
       "| 99995 | 2033400 | 2033400 | 0 | 0 | 1 | -9 | G G | G G |\n",
       "| 99996 | 2033417 | 2033417 | 0 | 0 | 0 | -9 | G G | G G |\n",
       "| 99997 | 2033426 | 2033426 | 0 | 0 | 1 | -9 | G G | G G |\n",
       "| 99998 | 2033432 | 2033432 | 0 | 0 | 1 | -9 | G G | G G |\n",
       "| 99999 | 2033444 | 2033444 | 0 | 0 | 0 | -9 | G G | G G |\n",
       "| 100000 | 2033458 | 2033458 | 0 | 0 | 1 | -9 | G G | G G |\n",
       "\n"
      ],
      "text/plain": [
       "       FID     IID     PAT MAT SEX PHENOTYPE snp1 snp2\n",
       "99995  2033400 2033400 0   0   1   -9        G G  G G \n",
       "99996  2033417 2033417 0   0   0   -9        G G  G G \n",
       "99997  2033426 2033426 0   0   1   -9        G G  G G \n",
       "99998  2033432 2033432 0   0   1   -9        G G  G G \n",
       "99999  2033444 2033444 0   0   0   -9        G G  G G \n",
       "100000 2033458 2033458 0   0   1   -9        G G  G G "
      ]
     },
     "metadata": {},
     "output_type": "display_data"
    }
   ],
   "source": [
    "tail(df)"
   ]
  },
  {
   "cell_type": "code",
   "execution_count": 20,
   "id": "461ac1dd-88a5-47a1-86c8-81b1ee12ee95",
   "metadata": {},
   "outputs": [],
   "source": [
    "write.table(df,\"/home/gl2776/working/interaction/simulation/simulation.ped\",sep=\"\\t\",col.names=FALSE,row.names=FALSE,quote=FALSE)"
   ]
  },
  {
   "cell_type": "code",
   "execution_count": 28,
   "id": "830698ef-add5-4625-a903-7792f421113d",
   "metadata": {},
   "outputs": [],
   "source": [
    "# Give a random map\n",
    "f<-file(\"/home/gl2776/working/interaction/simulation/simulation.map\")\n",
    "writeLines(c(\"1 snp1 0 6036089\",\"22 snp2 0 22670862\"), f)\n",
    "close(f)"
   ]
  },
  {
   "cell_type": "code",
   "execution_count": 15,
   "id": "cfe48f6f-bea3-4046-ab4a-872f2eec808a",
   "metadata": {},
   "outputs": [
    {
     "data": {
      "text/html": [
       "<table class=\"dataframe\">\n",
       "<caption>A data.frame: 5 × 5</caption>\n",
       "<thead>\n",
       "\t<tr><th></th><th scope=col>FID</th><th scope=col>IID</th><th scope=col>y</th><th scope=col>sex</th><th scope=col>age</th></tr>\n",
       "\t<tr><th></th><th scope=col>&lt;int&gt;</th><th scope=col>&lt;int&gt;</th><th scope=col>&lt;int&gt;</th><th scope=col>&lt;int&gt;</th><th scope=col>&lt;dbl&gt;</th></tr>\n",
       "</thead>\n",
       "<tbody>\n",
       "\t<tr><th scope=row>1</th><td>1000019</td><td>1000019</td><td>0</td><td>0</td><td>66.831761</td></tr>\n",
       "\t<tr><th scope=row>2</th><td>1000022</td><td>1000022</td><td>0</td><td>1</td><td>69.151683</td></tr>\n",
       "\t<tr><th scope=row>3</th><td>1000035</td><td>1000035</td><td>0</td><td>1</td><td>20.539669</td></tr>\n",
       "\t<tr><th scope=row>4</th><td>1000046</td><td>1000046</td><td>0</td><td>0</td><td> 6.325829</td></tr>\n",
       "\t<tr><th scope=row>5</th><td>1000054</td><td>1000054</td><td>0</td><td>0</td><td>21.119993</td></tr>\n",
       "</tbody>\n",
       "</table>\n"
      ],
      "text/latex": [
       "A data.frame: 5 × 5\n",
       "\\begin{tabular}{r|lllll}\n",
       "  & FID & IID & y & sex & age\\\\\n",
       "  & <int> & <int> & <int> & <int> & <dbl>\\\\\n",
       "\\hline\n",
       "\t1 & 1000019 & 1000019 & 0 & 0 & 66.831761\\\\\n",
       "\t2 & 1000022 & 1000022 & 0 & 1 & 69.151683\\\\\n",
       "\t3 & 1000035 & 1000035 & 0 & 1 & 20.539669\\\\\n",
       "\t4 & 1000046 & 1000046 & 0 & 0 &  6.325829\\\\\n",
       "\t5 & 1000054 & 1000054 & 0 & 0 & 21.119993\\\\\n",
       "\\end{tabular}\n"
      ],
      "text/markdown": [
       "\n",
       "A data.frame: 5 × 5\n",
       "\n",
       "| <!--/--> | FID &lt;int&gt; | IID &lt;int&gt; | y &lt;int&gt; | sex &lt;int&gt; | age &lt;dbl&gt; |\n",
       "|---|---|---|---|---|---|\n",
       "| 1 | 1000019 | 1000019 | 0 | 0 | 66.831761 |\n",
       "| 2 | 1000022 | 1000022 | 0 | 1 | 69.151683 |\n",
       "| 3 | 1000035 | 1000035 | 0 | 1 | 20.539669 |\n",
       "| 4 | 1000046 | 1000046 | 0 | 0 |  6.325829 |\n",
       "| 5 | 1000054 | 1000054 | 0 | 0 | 21.119993 |\n",
       "\n"
      ],
      "text/plain": [
       "  FID     IID     y sex age      \n",
       "1 1000019 1000019 0 0   66.831761\n",
       "2 1000022 1000022 0 1   69.151683\n",
       "3 1000035 1000035 0 1   20.539669\n",
       "4 1000046 1000046 0 0    6.325829\n",
       "5 1000054 1000054 0 0   21.119993"
      ]
     },
     "metadata": {},
     "output_type": "display_data"
    }
   ],
   "source": [
    "# Phenotype\n",
    "phe <- cbind(first6[1:n,1:2],y,sex,age)\n",
    "write.table(phe,\"/home/gl2776/working/interaction/simulation/simulation.phe\",sep=\"\\t\",col.names=TRUE,row.names=FALSE,quote=FALSE)\n",
    "phe[1:5,]"
   ]
  },
  {
   "cell_type": "code",
   "execution_count": 16,
   "id": "aedb4a5d-2edc-4052-8347-b0147f0bab67",
   "metadata": {},
   "outputs": [
    {
     "data": {
      "text/html": [
       "<table class=\"dataframe\">\n",
       "<caption>A data.frame: 5 × 7</caption>\n",
       "<thead>\n",
       "\t<tr><th></th><th scope=col>FID</th><th scope=col>IID</th><th scope=col>y</th><th scope=col>sex</th><th scope=col>age</th><th scope=col>snp1</th><th scope=col>snp2</th></tr>\n",
       "\t<tr><th></th><th scope=col>&lt;int&gt;</th><th scope=col>&lt;int&gt;</th><th scope=col>&lt;int&gt;</th><th scope=col>&lt;int&gt;</th><th scope=col>&lt;dbl&gt;</th><th scope=col>&lt;dbl&gt;</th><th scope=col>&lt;dbl&gt;</th></tr>\n",
       "</thead>\n",
       "<tbody>\n",
       "\t<tr><th scope=row>145</th><td>1001508</td><td>1001508</td><td>1</td><td>1</td><td>66.804488</td><td>0</td><td>0</td></tr>\n",
       "\t<tr><th scope=row>255</th><td>1002643</td><td>1002643</td><td>1</td><td>0</td><td>62.372254</td><td>0</td><td>0</td></tr>\n",
       "\t<tr><th scope=row>469</th><td>1004839</td><td>1004839</td><td>1</td><td>0</td><td> 9.919158</td><td>0</td><td>0</td></tr>\n",
       "\t<tr><th scope=row>474</th><td>1004882</td><td>1004882</td><td>1</td><td>1</td><td>60.444116</td><td>1</td><td>0</td></tr>\n",
       "\t<tr><th scope=row>534</th><td>1005500</td><td>1005500</td><td>1</td><td>1</td><td>76.082388</td><td>0</td><td>0</td></tr>\n",
       "</tbody>\n",
       "</table>\n"
      ],
      "text/latex": [
       "A data.frame: 5 × 7\n",
       "\\begin{tabular}{r|lllllll}\n",
       "  & FID & IID & y & sex & age & snp1 & snp2\\\\\n",
       "  & <int> & <int> & <int> & <int> & <dbl> & <dbl> & <dbl>\\\\\n",
       "\\hline\n",
       "\t145 & 1001508 & 1001508 & 1 & 1 & 66.804488 & 0 & 0\\\\\n",
       "\t255 & 1002643 & 1002643 & 1 & 0 & 62.372254 & 0 & 0\\\\\n",
       "\t469 & 1004839 & 1004839 & 1 & 0 &  9.919158 & 0 & 0\\\\\n",
       "\t474 & 1004882 & 1004882 & 1 & 1 & 60.444116 & 1 & 0\\\\\n",
       "\t534 & 1005500 & 1005500 & 1 & 1 & 76.082388 & 0 & 0\\\\\n",
       "\\end{tabular}\n"
      ],
      "text/markdown": [
       "\n",
       "A data.frame: 5 × 7\n",
       "\n",
       "| <!--/--> | FID &lt;int&gt; | IID &lt;int&gt; | y &lt;int&gt; | sex &lt;int&gt; | age &lt;dbl&gt; | snp1 &lt;dbl&gt; | snp2 &lt;dbl&gt; |\n",
       "|---|---|---|---|---|---|---|---|\n",
       "| 145 | 1001508 | 1001508 | 1 | 1 | 66.804488 | 0 | 0 |\n",
       "| 255 | 1002643 | 1002643 | 1 | 0 | 62.372254 | 0 | 0 |\n",
       "| 469 | 1004839 | 1004839 | 1 | 0 |  9.919158 | 0 | 0 |\n",
       "| 474 | 1004882 | 1004882 | 1 | 1 | 60.444116 | 1 | 0 |\n",
       "| 534 | 1005500 | 1005500 | 1 | 1 | 76.082388 | 0 | 0 |\n",
       "\n"
      ],
      "text/plain": [
       "    FID     IID     y sex age       snp1 snp2\n",
       "145 1001508 1001508 1 1   66.804488 0    0   \n",
       "255 1002643 1002643 1 0   62.372254 0    0   \n",
       "469 1004839 1004839 1 0    9.919158 0    0   \n",
       "474 1004882 1004882 1 1   60.444116 1    0   \n",
       "534 1005500 1005500 1 1   76.082388 0    0   "
      ]
     },
     "metadata": {},
     "output_type": "display_data"
    }
   ],
   "source": [
    "# Case only Phenotype\n",
    "phe <- cbind(first6[1:n,1:2],y,sex,age,snp1,snp2)\n",
    "phe <- phe[phe$y==1,]\n",
    "write.table(phe,\"/home/gl2776/working/interaction/simulation/simulation.caseonly.phe\",sep=\"\\t\",col.names=TRUE,row.names=FALSE,quote=FALSE)\n",
    "phe[1:5,]"
   ]
  },
  {
   "cell_type": "code",
   "execution_count": 17,
   "id": "3745c137-cc02-4dc8-bfbe-174e5c405338",
   "metadata": {},
   "outputs": [
    {
     "data": {
      "text/html": [
       "<style>\n",
       ".list-inline {list-style: none; margin:0; padding: 0}\n",
       ".list-inline>li {display: inline-block}\n",
       ".list-inline>li:not(:last-child)::after {content: \"\\00b7\"; padding: 0 .5ex}\n",
       "</style>\n",
       "<ol class=list-inline><li>895</li><li>7</li></ol>\n"
      ],
      "text/latex": [
       "\\begin{enumerate*}\n",
       "\\item 895\n",
       "\\item 7\n",
       "\\end{enumerate*}\n"
      ],
      "text/markdown": [
       "1. 895\n",
       "2. 7\n",
       "\n",
       "\n"
      ],
      "text/plain": [
       "[1] 895   7"
      ]
     },
     "metadata": {},
     "output_type": "display_data"
    }
   ],
   "source": [
    "dim(phe)"
   ]
  },
  {
   "cell_type": "code",
   "execution_count": null,
   "id": "6ccb44e0-5ed3-46ac-8b29-804f6b286d18",
   "metadata": {},
   "outputs": [],
   "source": []
  }
 ],
 "metadata": {
  "kernelspec": {
   "display_name": "R",
   "language": "R",
   "name": "ir"
  },
  "language_info": {
   "codemirror_mode": "r",
   "file_extension": ".r",
   "mimetype": "text/x-r-source",
   "name": "R",
   "pygments_lexer": "r",
   "version": "4.0.5"
  }
 },
 "nbformat": 4,
 "nbformat_minor": 5
}
