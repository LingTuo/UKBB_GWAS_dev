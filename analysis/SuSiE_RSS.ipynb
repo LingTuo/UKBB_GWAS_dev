{
 "cells": [
  {
   "cell_type": "markdown",
   "metadata": {
    "kernel": "SoS"
   },
   "source": [
    "# Fine map signal on chr7 for BMI and Asthma\n",
    "\n",
    "We have performed GWAS on UKBB for BMI and Asthma. We found a region on chr7 where there is a signal overlap between these traits. We use fine-mapping to see if there are anything of interest"
   ]
  },
  {
   "cell_type": "markdown",
   "metadata": {
    "kernel": "SoS"
   },
   "source": [
    "## Analysis workflow"
   ]
  },
  {
   "cell_type": "code",
   "execution_count": null,
   "metadata": {
    "kernel": "SoS"
   },
   "outputs": [],
   "source": [
    "[global]\n",
    "parameter: sumstatFile = path()\n",
    "parameter: ldFile = path()\n",
    "parameter: cwd = path('output')"
   ]
  },
  {
   "cell_type": "code",
   "execution_count": 3,
   "metadata": {
    "kernel": "SoS"
   },
   "outputs": [],
   "source": [
    "[default_1]\n",
    "parameter: N = 339353\n",
    "input: sumstatFile, ldFile\n",
    "output: f\"{cwd:a}/{_input[0]:bnn}.SuSiE_RSS.rds\"\n",
    "R: expand = \"${ }\"\n",
    "    sumstat = read.csv(${_input[0]:r}, sep = '\\t', header=T,stringsAsFactors=F)\n",
    "    ld = read.csv(${_input[1]:r}, sep = '\\t', header=T, stringsAsFactors=F)\n",
    "    snps = sumstat[,1]\n",
    "    snps = snps[which(!(duplicated(snps)|duplicated(snps, fromLast=TRUE)))]\n",
    "    idx1 = match(snps, sumstat[,1])\n",
    "    idx2 = match(snps, ld[,1])\n",
    "    ld = ld[,-1]\n",
    "    ld = ld[idx2,idx2]\n",
    "    sumstat = sumstat[idx1,]\n",
    "    res = susieR::susie_rss(sumstat$BETA/sumstat$SE, as.matrix(ld), z_ld_weight = 1/${N}, \n",
    "                            L = 10,\n",
    "                            estimate_residual_variance = TRUE, check_R=F,\n",
    "                            estimate_prior_variance = TRUE, check_z = F)\n",
    "    res$pos = sumstat$POS\n",
    "    res$z = sumstat$BETA/sumstat$SE\n",
    "    res$p = sumstat$P\n",
    "    res$var_names = sumstat$SNP\n",
    "    saveRDS(res, ${_output:r})\n",
    "\n",
    "[default_2]\n",
    "parameter: start = 28139386\n",
    "parameter: end = 28259874\n",
    "output: f\"{_input:n}.png\"\n",
    "R: expand = \"${ }\"\n",
    "    res = readRDS(${_input:r})\n",
    "    png(${_output:r}, width = 8, height=5, unit='in', res=300)\n",
    "    susieR::susie_plot(res, y=\"PIP\",pos=list(attr='pos', start=${start},end=${end}))\n",
    "    dev.off()"
   ]
  },
  {
   "cell_type": "code",
   "execution_count": 5,
   "metadata": {
    "kernel": "SoS"
   },
   "outputs": [
    {
     "name": "stdout",
     "output_type": "stream",
     "text": [
      "/home/gw/tmp/07-Jul-2020"
     ]
    }
   ],
   "source": [
    "%cd ~/tmp/07-Jul-2020"
   ]
  },
  {
   "cell_type": "markdown",
   "metadata": {
    "kernel": "SoS"
   },
   "source": [
    "For asthma,"
   ]
  },
  {
   "cell_type": "code",
   "execution_count": 38,
   "metadata": {
    "kernel": "Bash"
   },
   "outputs": [
    {
     "name": "stdout",
     "output_type": "stream",
     "text": [
      "INFO: Running \u001b[32mdefault_1\u001b[0m: \n",
      "Warning message:\n",
      "In set_R_attributes(R, r_tol) : Negative eigenvalues are set to 0\n",
      "INFO: \u001b[32mdefault_1\u001b[0m is \u001b[32mcompleted\u001b[0m.\n",
      "INFO: \u001b[32mdefault_1\u001b[0m output:   \u001b[32m/home/gw/tmp/07-Jul-2020/output/ukb_imp_v3.Asthma_casesbyICD10codesANDselfreport_controlsbyselfreportandicd10_noautoimmuneincontrols.fastGWA.snp_stats.all_chr_7_28139386_28259874.SuSiE_RSS.rds\u001b[0m\n",
      "INFO: Running \u001b[32mdefault_2\u001b[0m: \n",
      "INFO: \u001b[32mdefault_2\u001b[0m (index=0) is \u001b[32mignored\u001b[0m due to saved signature\n",
      "INFO: \u001b[32mdefault_2\u001b[0m output:   \u001b[32m/home/gw/tmp/07-Jul-2020/output/ukb_imp_v3.Asthma_casesbyICD10codesANDselfreport_controlsbyselfreportandicd10_noautoimmuneincontrols.fastGWA.snp_stats.all_chr_7_28139386_28259874.SuSiE_RSS.png\u001b[0m\n",
      "INFO: Workflow default (ID=f98c56b76d448735) is executed successfully with 1 completed step and 1 ignored step.\n"
     ]
    }
   ],
   "source": [
    "sos run SuSiE_RSS.ipynb \\\n",
    "    --sumstatFile 7_28139386_28259874/ukb_imp_v3.Asthma_casesbyICD10codesANDselfreport_controlsbyselfreportandicd10_noautoimmuneincontrols.fastGWA.snp_stats.all_chr_7_28139386_28259874.sumstats.gz \\\n",
    "    --ldFile 7_28139386_28259874/ukb_imp_v3.Asthma_casesbyICD10codesANDselfreport_controlsbyselfreportandicd10_noautoimmuneincontrols.fastGWA.snp_stats.all_chr_7_28139386_28259874.sample_ld.gz"
   ]
  },
  {
   "cell_type": "markdown",
   "metadata": {
    "kernel": "SoS"
   },
   "source": [
    "For BMI,"
   ]
  },
  {
   "cell_type": "code",
   "execution_count": 39,
   "metadata": {
    "kernel": "Bash"
   },
   "outputs": [
    {
     "name": "stdout",
     "output_type": "stream",
     "text": [
      "INFO: Running \u001b[32mdefault_1\u001b[0m: \n",
      "Warning message:\n",
      "In set_R_attributes(R, r_tol) : Negative eigenvalues are set to 0\n",
      "INFO: \u001b[32mdefault_1\u001b[0m is \u001b[32mcompleted\u001b[0m.\n",
      "INFO: \u001b[32mdefault_1\u001b[0m output:   \u001b[32m/home/gw/tmp/07-Jul-2020/output/ukb_imp_v3.UKB_caucasians_BMIwaisthip_AsthmaAndT2D_INT-BMI_withagesex_041720.BoltLMM.snp_stats.all_chr_7_28139386_28259874.SuSiE_RSS.rds\u001b[0m\n",
      "INFO: Running \u001b[32mdefault_2\u001b[0m: \n",
      "INFO: \u001b[32mdefault_2\u001b[0m (index=0) is \u001b[32mignored\u001b[0m due to saved signature\n",
      "INFO: \u001b[32mdefault_2\u001b[0m output:   \u001b[32m/home/gw/tmp/07-Jul-2020/output/ukb_imp_v3.UKB_caucasians_BMIwaisthip_AsthmaAndT2D_INT-BMI_withagesex_041720.BoltLMM.snp_stats.all_chr_7_28139386_28259874.SuSiE_RSS.png\u001b[0m\n",
      "INFO: Workflow default (ID=f89bc0349605f139) is executed successfully with 1 completed step and 1 ignored step.\n"
     ]
    }
   ],
   "source": [
    "sos run SuSiE_RSS.ipynb \\\n",
    "    --sumstatFile 7_28139386_28259874/ukb_imp_v3.UKB_caucasians_BMIwaisthip_AsthmaAndT2D_INT-BMI_withagesex_041720.BoltLMM.snp_stats.all_chr_7_28139386_28259874.sumstats.gz \\\n",
    "    --ldFile 7_28139386_28259874/ukb_imp_v3.UKB_caucasians_BMIwaisthip_AsthmaAndT2D_INT-BMI_withagesex_041720.BoltLMM.snp_stats.all_chr_7_28139386_28259874.population_ld.gz"
   ]
  },
  {
   "cell_type": "markdown",
   "metadata": {
    "kernel": "Bash"
   },
   "source": [
    "## Fine-map results"
   ]
  },
  {
   "cell_type": "code",
   "execution_count": 1,
   "metadata": {
    "kernel": "SoS"
   },
   "outputs": [
    {
     "name": "stdout",
     "output_type": "stream",
     "text": [
      "/home/gw/tmp/07-Jul-2020/output"
     ]
    }
   ],
   "source": [
    "%cd ~/tmp/07-Jul-2020/output"
   ]
  },
  {
   "cell_type": "code",
   "execution_count": 8,
   "metadata": {
    "kernel": "SoS"
   },
   "outputs": [
    {
     "data": {
      "text/html": [
       "<div class=\"sos_hint\">> ukb_imp_v3.Asthma_casesbyICD10codesANDselfreport_controlsbyselfreportandicd10_noautoimmuneincontrols.fastGWA.snp_stats.all_chr_7_28139386_28259874.SuSiE_RSS.png: None</div>"
      ],
      "text/plain": [
       ">>> ukb_imp_v3.Asthma_casesbyICD10codesANDselfreport_controlsbyselfreportandicd10_noautoimmuneincontrols.fastGWA.snp_stats.all_chr_7_28139386_28259874.SuSiE_RSS.png:\n"
      ]
     },
     "metadata": {},
     "output_type": "display_data"
    },
    {
     "name": "stdout",
     "output_type": "stream",
     "text": [
      "Unknown variable ukb_imp_v3.Asthma_casesbyICD10codesANDselfreport_controlsbyselfreportandicd10_noautoimmuneincontrols.fastGWA.snp_stats.all_chr_7_28139386_28259874.SuSiE_RSS.png"
     ]
    }
   ],
   "source": [
    "%preview ukb_imp_v3.Asthma_casesbyICD10codesANDselfreport_controlsbyselfreportandicd10_noautoimmuneincontrols.fastGWA.snp_stats.all_chr_7_28139386_28259874.SuSiE_RSS.png"
   ]
  },
  {
   "cell_type": "code",
   "execution_count": 9,
   "metadata": {
    "kernel": "SoS"
   },
   "outputs": [
    {
     "data": {
      "text/html": [
       "<div class=\"sos_hint\">> ukb_imp_v3.UKB_caucasians_BMIwaisthip_AsthmaAndT2D_INT-BMI_withagesex_041720.BoltLMM.snp_stats.all_chr_7_28139386_28259874.SuSiE_RSS.png: None</div>"
      ],
      "text/plain": [
       ">>> ukb_imp_v3.UKB_caucasians_BMIwaisthip_AsthmaAndT2D_INT-BMI_withagesex_041720.BoltLMM.snp_stats.all_chr_7_28139386_28259874.SuSiE_RSS.png:\n"
      ]
     },
     "metadata": {},
     "output_type": "display_data"
    },
    {
     "name": "stdout",
     "output_type": "stream",
     "text": [
      "Unknown variable ukb_imp_v3.UKB_caucasians_BMIwaisthip_AsthmaAndT2D_INT-BMI_withagesex_041720.BoltLMM.snp_stats.all_chr_7_28139386_28259874.SuSiE_RSS.png"
     ]
    }
   ],
   "source": [
    "%preview ukb_imp_v3.UKB_caucasians_BMIwaisthip_AsthmaAndT2D_INT-BMI_withagesex_041720.BoltLMM.snp_stats.all_chr_7_28139386_28259874.SuSiE_RSS.png"
   ]
  },
  {
   "cell_type": "markdown",
   "metadata": {
    "kernel": "SoS"
   },
   "source": [
    "## Problems\n",
    "\n",
    "### Pleiotropy\n",
    "\n",
    "First, let's look into the signals detected,"
   ]
  },
  {
   "cell_type": "code",
   "execution_count": 51,
   "metadata": {
    "kernel": "R"
   },
   "outputs": [],
   "source": [
    "asthma = readRDS('output/ukb_imp_v3.Asthma_casesbyICD10codesANDselfreport_controlsbyselfreportandicd10_noautoimmuneincontrols.fastGWA.snp_stats.all_chr_7_28139386_28259874.SuSiE_RSS.rds')\n",
    "bmi = readRDS('output/ukb_imp_v3.UKB_caucasians_BMIwaisthip_AsthmaAndT2D_INT-BMI_withagesex_041720.BoltLMM.snp_stats.all_chr_7_28139386_28259874.SuSiE_RSS.rds')"
   ]
  },
  {
   "cell_type": "code",
   "execution_count": 52,
   "metadata": {
    "kernel": "R"
   },
   "outputs": [
    {
     "data": {
      "text/html": [
       "<style>\n",
       ".list-inline {list-style: none; margin:0; padding: 0}\n",
       ".list-inline>li {display: inline-block}\n",
       ".list-inline>li:not(:last-child)::after {content: \"\\00b7\"; padding: 0 .5ex}\n",
       "</style>\n",
       "<ol class=list-inline><li>'alpha'</li><li>'mu'</li><li>'mu2'</li><li>'Xr'</li><li>'KL'</li><li>'lbf'</li><li>'sigma2'</li><li>'V'</li><li>'pi'</li><li>'null_index'</li><li>'converged'</li><li>'elbo'</li><li>'niter'</li><li>'intercept'</li><li>'fitted'</li><li>'sets'</li><li>'pip'</li><li>'X_column_scale_factors'</li><li>'Rz'</li><li>'pos'</li><li>'z'</li><li>'p'</li><li>'var_names'</li></ol>\n"
      ],
      "text/latex": [
       "\\begin{enumerate*}\n",
       "\\item 'alpha'\n",
       "\\item 'mu'\n",
       "\\item 'mu2'\n",
       "\\item 'Xr'\n",
       "\\item 'KL'\n",
       "\\item 'lbf'\n",
       "\\item 'sigma2'\n",
       "\\item 'V'\n",
       "\\item 'pi'\n",
       "\\item 'null\\_index'\n",
       "\\item 'converged'\n",
       "\\item 'elbo'\n",
       "\\item 'niter'\n",
       "\\item 'intercept'\n",
       "\\item 'fitted'\n",
       "\\item 'sets'\n",
       "\\item 'pip'\n",
       "\\item 'X\\_column\\_scale\\_factors'\n",
       "\\item 'Rz'\n",
       "\\item 'pos'\n",
       "\\item 'z'\n",
       "\\item 'p'\n",
       "\\item 'var\\_names'\n",
       "\\end{enumerate*}\n"
      ],
      "text/markdown": [
       "1. 'alpha'\n",
       "2. 'mu'\n",
       "3. 'mu2'\n",
       "4. 'Xr'\n",
       "5. 'KL'\n",
       "6. 'lbf'\n",
       "7. 'sigma2'\n",
       "8. 'V'\n",
       "9. 'pi'\n",
       "10. 'null_index'\n",
       "11. 'converged'\n",
       "12. 'elbo'\n",
       "13. 'niter'\n",
       "14. 'intercept'\n",
       "15. 'fitted'\n",
       "16. 'sets'\n",
       "17. 'pip'\n",
       "18. 'X_column_scale_factors'\n",
       "19. 'Rz'\n",
       "20. 'pos'\n",
       "21. 'z'\n",
       "22. 'p'\n",
       "23. 'var_names'\n",
       "\n",
       "\n"
      ],
      "text/plain": [
       " [1] \"alpha\"                  \"mu\"                     \"mu2\"                   \n",
       " [4] \"Xr\"                     \"KL\"                     \"lbf\"                   \n",
       " [7] \"sigma2\"                 \"V\"                      \"pi\"                    \n",
       "[10] \"null_index\"             \"converged\"              \"elbo\"                  \n",
       "[13] \"niter\"                  \"intercept\"              \"fitted\"                \n",
       "[16] \"sets\"                   \"pip\"                    \"X_column_scale_factors\"\n",
       "[19] \"Rz\"                     \"pos\"                    \"z\"                     \n",
       "[22] \"p\"                      \"var_names\"             "
      ]
     },
     "metadata": {},
     "output_type": "display_data"
    }
   ],
   "source": [
    "names(bmi)"
   ]
  },
  {
   "cell_type": "markdown",
   "metadata": {
    "kernel": "R"
   },
   "source": [
    "Variables in CS:"
   ]
  },
  {
   "cell_type": "code",
   "execution_count": 53,
   "metadata": {
    "kernel": "R"
   },
   "outputs": [
    {
     "data": {
      "text/html": [
       "<strong>$L1</strong> = <style>\n",
       ".list-inline {list-style: none; margin:0; padding: 0}\n",
       ".list-inline>li {display: inline-block}\n",
       ".list-inline>li:not(:last-child)::after {content: \"\\00b7\"; padding: 0 .5ex}\n",
       "</style>\n",
       "<ol class=list-inline><li>24</li><li>245</li><li>285</li><li>299</li><li>316</li><li>326</li><li>330</li><li>333</li><li>344</li><li>353</li><li>354</li><li>366</li><li>374</li><li>383</li><li>386</li><li>391</li><li>404</li></ol>\n"
      ],
      "text/latex": [
       "\\textbf{\\$L1} = \\begin{enumerate*}\n",
       "\\item 24\n",
       "\\item 245\n",
       "\\item 285\n",
       "\\item 299\n",
       "\\item 316\n",
       "\\item 326\n",
       "\\item 330\n",
       "\\item 333\n",
       "\\item 344\n",
       "\\item 353\n",
       "\\item 354\n",
       "\\item 366\n",
       "\\item 374\n",
       "\\item 383\n",
       "\\item 386\n",
       "\\item 391\n",
       "\\item 404\n",
       "\\end{enumerate*}\n"
      ],
      "text/markdown": [
       "**$L1** = 1. 24\n",
       "2. 245\n",
       "3. 285\n",
       "4. 299\n",
       "5. 316\n",
       "6. 326\n",
       "7. 330\n",
       "8. 333\n",
       "9. 344\n",
       "10. 353\n",
       "11. 354\n",
       "12. 366\n",
       "13. 374\n",
       "14. 383\n",
       "15. 386\n",
       "16. 391\n",
       "17. 404\n",
       "\n",
       "\n"
      ],
      "text/plain": [
       "$L1\n",
       " [1]  24 245 285 299 316 326 330 333 344 353 354 366 374 383 386 391 404\n"
      ]
     },
     "metadata": {},
     "output_type": "display_data"
    }
   ],
   "source": [
    "bmi$sets$cs"
   ]
  },
  {
   "cell_type": "code",
   "execution_count": 54,
   "metadata": {
    "kernel": "R"
   },
   "outputs": [],
   "source": [
    "bmi_vars = bmi$var_names[unlist(bmi$sets$cs)]"
   ]
  },
  {
   "cell_type": "code",
   "execution_count": 55,
   "metadata": {
    "kernel": "R"
   },
   "outputs": [],
   "source": [
    "asthma_vars = asthma$var_names[unlist(asthma$sets$cs)]"
   ]
  },
  {
   "cell_type": "code",
   "execution_count": 56,
   "metadata": {
    "kernel": "R"
   },
   "outputs": [
    {
     "data": {
      "text/html": [
       "<style>\n",
       ".list-inline {list-style: none; margin:0; padding: 0}\n",
       ".list-inline>li {display: inline-block}\n",
       ".list-inline>li:not(:last-child)::after {content: \"\\00b7\"; padding: 0 .5ex}\n",
       "</style>\n",
       "<ol class=list-inline><li>'rs10274928'</li><li>'rs702814'</li><li>'7:28178625_TG_T'</li><li>'rs864745'</li><li>'rs849140'</li><li>'rs849142'</li><li>'rs11455969'</li><li>'rs10622246'</li><li>'rs1635851'</li><li>'rs1635852'</li><li>'rs1635853'</li><li>'rs849133'</li><li>'rs860262'</li><li>'rs849134'</li><li>'rs849135'</li><li>'rs1708302'</li><li>'rs1513272'</li></ol>\n"
      ],
      "text/latex": [
       "\\begin{enumerate*}\n",
       "\\item 'rs10274928'\n",
       "\\item 'rs702814'\n",
       "\\item '7:28178625\\_TG\\_T'\n",
       "\\item 'rs864745'\n",
       "\\item 'rs849140'\n",
       "\\item 'rs849142'\n",
       "\\item 'rs11455969'\n",
       "\\item 'rs10622246'\n",
       "\\item 'rs1635851'\n",
       "\\item 'rs1635852'\n",
       "\\item 'rs1635853'\n",
       "\\item 'rs849133'\n",
       "\\item 'rs860262'\n",
       "\\item 'rs849134'\n",
       "\\item 'rs849135'\n",
       "\\item 'rs1708302'\n",
       "\\item 'rs1513272'\n",
       "\\end{enumerate*}\n"
      ],
      "text/markdown": [
       "1. 'rs10274928'\n",
       "2. 'rs702814'\n",
       "3. '7:28178625_TG_T'\n",
       "4. 'rs864745'\n",
       "5. 'rs849140'\n",
       "6. 'rs849142'\n",
       "7. 'rs11455969'\n",
       "8. 'rs10622246'\n",
       "9. 'rs1635851'\n",
       "10. 'rs1635852'\n",
       "11. 'rs1635853'\n",
       "12. 'rs849133'\n",
       "13. 'rs860262'\n",
       "14. 'rs849134'\n",
       "15. 'rs849135'\n",
       "16. 'rs1708302'\n",
       "17. 'rs1513272'\n",
       "\n",
       "\n"
      ],
      "text/plain": [
       " [1] \"rs10274928\"      \"rs702814\"        \"7:28178625_TG_T\" \"rs864745\"       \n",
       " [5] \"rs849140\"        \"rs849142\"        \"rs11455969\"      \"rs10622246\"     \n",
       " [9] \"rs1635851\"       \"rs1635852\"       \"rs1635853\"       \"rs849133\"       \n",
       "[13] \"rs860262\"        \"rs849134\"        \"rs849135\"        \"rs1708302\"      \n",
       "[17] \"rs1513272\"      "
      ]
     },
     "metadata": {},
     "output_type": "display_data"
    }
   ],
   "source": [
    "bmi_vars"
   ]
  },
  {
   "cell_type": "code",
   "execution_count": 57,
   "metadata": {
    "kernel": "R"
   },
   "outputs": [
    {
     "data": {
      "text/html": [
       "<style>\n",
       ".list-inline {list-style: none; margin:0; padding: 0}\n",
       ".list-inline>li {display: inline-block}\n",
       ".list-inline>li:not(:last-child)::after {content: \"\\00b7\"; padding: 0 .5ex}\n",
       "</style>\n",
       "<ol class=list-inline><li>'7:28154215_GT_G'</li><li>'rs4722758'</li><li>'rs6977955'</li><li>'rs4719922'</li><li>'rs9648346'</li><li>'7:28168745_GTCTT_G'</li><li>'rs2893312'</li><li>'rs2189965'</li><li>'rs2189966'</li><li>'rs4722760'</li><li>'rs917115'</li><li>'rs67250450'</li><li>'rs917117'</li><li>'rs11495981'</li></ol>\n"
      ],
      "text/latex": [
       "\\begin{enumerate*}\n",
       "\\item '7:28154215\\_GT\\_G'\n",
       "\\item 'rs4722758'\n",
       "\\item 'rs6977955'\n",
       "\\item 'rs4719922'\n",
       "\\item 'rs9648346'\n",
       "\\item '7:28168745\\_GTCTT\\_G'\n",
       "\\item 'rs2893312'\n",
       "\\item 'rs2189965'\n",
       "\\item 'rs2189966'\n",
       "\\item 'rs4722760'\n",
       "\\item 'rs917115'\n",
       "\\item 'rs67250450'\n",
       "\\item 'rs917117'\n",
       "\\item 'rs11495981'\n",
       "\\end{enumerate*}\n"
      ],
      "text/markdown": [
       "1. '7:28154215_GT_G'\n",
       "2. 'rs4722758'\n",
       "3. 'rs6977955'\n",
       "4. 'rs4719922'\n",
       "5. 'rs9648346'\n",
       "6. '7:28168745_GTCTT_G'\n",
       "7. 'rs2893312'\n",
       "8. 'rs2189965'\n",
       "9. 'rs2189966'\n",
       "10. 'rs4722760'\n",
       "11. 'rs917115'\n",
       "12. 'rs67250450'\n",
       "13. 'rs917117'\n",
       "14. 'rs11495981'\n",
       "\n",
       "\n"
      ],
      "text/plain": [
       " [1] \"7:28154215_GT_G\"    \"rs4722758\"          \"rs6977955\"         \n",
       " [4] \"rs4719922\"          \"rs9648346\"          \"7:28168745_GTCTT_G\"\n",
       " [7] \"rs2893312\"          \"rs2189965\"          \"rs2189966\"         \n",
       "[10] \"rs4722760\"          \"rs917115\"           \"rs67250450\"        \n",
       "[13] \"rs917117\"           \"rs11495981\"        "
      ]
     },
     "metadata": {},
     "output_type": "display_data"
    }
   ],
   "source": [
    "asthma_vars"
   ]
  },
  {
   "cell_type": "code",
   "execution_count": 58,
   "metadata": {
    "kernel": "R"
   },
   "outputs": [
    {
     "data": {
      "text/html": [],
      "text/latex": [],
      "text/markdown": [],
      "text/plain": [
       "character(0)"
      ]
     },
     "metadata": {},
     "output_type": "display_data"
    }
   ],
   "source": [
    "intersect(bmi_vars, asthma_vars)"
   ]
  },
  {
   "cell_type": "markdown",
   "metadata": {
    "kernel": "R"
   },
   "source": [
    "There is no intersect between BMI and Asthma variables -- it does not seem to have a pleiotropy effect looking at the fine mapping result. **Also recall that BMI analysis controlled for Asthma as a covariate.**"
   ]
  },
  {
   "cell_type": "markdown",
   "metadata": {
    "kernel": "R"
   },
   "source": [
    "### An issue with Asthma result"
   ]
  },
  {
   "cell_type": "code",
   "execution_count": 75,
   "metadata": {
    "kernel": "R"
   },
   "outputs": [],
   "source": [
    "res = data.frame(cbind(asthma$var_names, asthma$pip, asthma$p, asthma$z))\n",
    "colnames(res) = c('rsID', 'PIP', 'p-value', 'z-score')"
   ]
  },
  {
   "cell_type": "code",
   "execution_count": 76,
   "metadata": {
    "kernel": "R"
   },
   "outputs": [],
   "source": [
    "tops = head(res[order(abs(as.double(res[,4])), decreasing = T),], 30)"
   ]
  },
  {
   "cell_type": "code",
   "execution_count": 77,
   "metadata": {
    "kernel": "R"
   },
   "outputs": [
    {
     "data": {
      "text/html": [
       "<table>\n",
       "<caption>A data.frame: 30 × 4</caption>\n",
       "<thead>\n",
       "\t<tr><th></th><th scope=col>rsID</th><th scope=col>PIP</th><th scope=col>p-value</th><th scope=col>z-score</th></tr>\n",
       "\t<tr><th></th><th scope=col>&lt;fct&gt;</th><th scope=col>&lt;fct&gt;</th><th scope=col>&lt;fct&gt;</th><th scope=col>&lt;fct&gt;</th></tr>\n",
       "</thead>\n",
       "<tbody>\n",
       "\t<tr><th scope=row>436</th><td>rs849335       </td><td>0.0144353099339476</td><td>3.02806e-10</td><td>6.29733864112154</td></tr>\n",
       "\t<tr><th scope=row>486</th><td>rs849327       </td><td>0.0144367391850965</td><td>4.74629e-10</td><td>6.22727717509752</td></tr>\n",
       "\t<tr><th scope=row>415</th><td>rs849333       </td><td>0.0141829027588132</td><td>4.82443e-10</td><td>6.22471280283744</td></tr>\n",
       "\t<tr><th scope=row>437</th><td>rs849336       </td><td>0.0143453738393939</td><td>4.9318e-10 </td><td>6.22126534399166</td></tr>\n",
       "\t<tr><th scope=row>608</th><td>rs498475       </td><td>0.0140026133720034</td><td>3.96267e-09</td><td>5.88575000140771</td></tr>\n",
       "\t<tr><th scope=row>228</th><td>7:28178625_TG_T</td><td>0.0149210477162338</td><td>4.34713e-08</td><td>5.4761369148465 </td></tr>\n",
       "\t<tr><th scope=row>67</th><td>rs11767776     </td><td>0.013215390115251 </td><td>4.85253e-08</td><td>5.45663547995004</td></tr>\n",
       "\t<tr><th scope=row>76</th><td>rs10276070     </td><td>0.0132016858363796</td><td>5.47971e-08</td><td>5.43500164949145</td></tr>\n",
       "\t<tr><th scope=row>65</th><td>rs11771411     </td><td>0.0132135966800642</td><td>5.62336e-08</td><td>5.43038096581811</td></tr>\n",
       "\t<tr><th scope=row>130</th><td>rs10275989     </td><td>0.0131915124114427</td><td>6.27905e-08</td><td>5.41066058919382</td></tr>\n",
       "\t<tr><th scope=row>221</th><td>rs849138       </td><td>0.0147283622981905</td><td>6.62052e-08</td><td>5.40117430590552</td></tr>\n",
       "\t<tr><th scope=row>174</th><td>rs10254284     </td><td>0.0131609281981517</td><td>8.38092e-08</td><td>5.35872755135769</td></tr>\n",
       "\t<tr><th scope=row>194</th><td>rs702814       </td><td>0.0146139780273048</td><td>8.9708e-08 </td><td>5.3464235032454 </td></tr>\n",
       "\t<tr><th scope=row>97</th><td>rs4722756      </td><td>0.0131160163845385</td><td>2.30758e-07</td><td>5.172684195358  </td></tr>\n",
       "\t<tr><th scope=row>240</th><td>rs864745       </td><td>0.0143050701858806</td><td>2.89382e-07</td><td>5.13023693523708</td></tr>\n",
       "\t<tr><th scope=row>265</th><td>rs11455969     </td><td>0.0141617725080918</td><td>3.78787e-07</td><td>5.07932745618245</td></tr>\n",
       "\t<tr><th scope=row>299</th><td>rs849133       </td><td>0.0141803004117141</td><td>4.55623e-07</td><td>5.0441229622467 </td></tr>\n",
       "\t<tr><th scope=row>262</th><td>rs849142       </td><td>0.0140836148761906</td><td>4.74644e-07</td><td>5.03628849086126</td></tr>\n",
       "\t<tr><th scope=row>306</th><td>rs860262       </td><td>0.0140691632529296</td><td>5.75057e-07</td><td>4.9994074126227 </td></tr>\n",
       "\t<tr><th scope=row>332</th><td>rs1513272      </td><td>0.0141285867164664</td><td>5.92475e-07</td><td>4.99365148656134</td></tr>\n",
       "\t<tr><th scope=row>267</th><td>rs10622246     </td><td>0.0140284174798682</td><td>5.9596e-07 </td><td>4.99252780277612</td></tr>\n",
       "\t<tr><th scope=row>321</th><td>rs1708302      </td><td>0.0140261687105103</td><td>6.06589e-07</td><td>4.98910327652798</td></tr>\n",
       "\t<tr><th scope=row>316</th><td>rs849135       </td><td>0.0140885206606947</td><td>6.08772e-07</td><td>4.98841508503821</td></tr>\n",
       "\t<tr><th scope=row>565</th><td>rs11448038     </td><td>0.0135519312440443</td><td>7.76813e-07</td><td>4.9411074385504 </td></tr>\n",
       "\t<tr><th scope=row>313</th><td>rs849134       </td><td>0.013991036365109 </td><td>7.8326e-07 </td><td>4.93949429823016</td></tr>\n",
       "\t<tr><th scope=row>17</th><td>rs10274928     </td><td>0.0142185025790124</td><td>1.80376e-06</td><td>4.77424917642538</td></tr>\n",
       "\t<tr><th scope=row>286</th><td>rs1635852      </td><td>0.0136105307945534</td><td>2.32002e-06</td><td>4.72333561098627</td></tr>\n",
       "\t<tr><th scope=row>152</th><td>rs12531540     </td><td>0.0136004132401725</td><td>2.60296e-06</td><td>4.69989507435652</td></tr>\n",
       "\t<tr><th scope=row>34</th><td>rs1109483      </td><td>0.0130773990902358</td><td>2.85379e-06</td><td>4.68107296645992</td></tr>\n",
       "\t<tr><th scope=row>168</th><td>rs740123       </td><td>0.0130772771942516</td><td>2.97022e-06</td><td>4.67287041232442</td></tr>\n",
       "</tbody>\n",
       "</table>\n"
      ],
      "text/latex": [
       "A data.frame: 30 × 4\n",
       "\\begin{tabular}{r|llll}\n",
       "  & rsID & PIP & p-value & z-score\\\\\n",
       "  & <fct> & <fct> & <fct> & <fct>\\\\\n",
       "\\hline\n",
       "\t436 & rs849335        & 0.0144353099339476 & 3.02806e-10 & 6.29733864112154\\\\\n",
       "\t486 & rs849327        & 0.0144367391850965 & 4.74629e-10 & 6.22727717509752\\\\\n",
       "\t415 & rs849333        & 0.0141829027588132 & 4.82443e-10 & 6.22471280283744\\\\\n",
       "\t437 & rs849336        & 0.0143453738393939 & 4.9318e-10  & 6.22126534399166\\\\\n",
       "\t608 & rs498475        & 0.0140026133720034 & 3.96267e-09 & 5.88575000140771\\\\\n",
       "\t228 & 7:28178625\\_TG\\_T & 0.0149210477162338 & 4.34713e-08 & 5.4761369148465 \\\\\n",
       "\t67 & rs11767776      & 0.013215390115251  & 4.85253e-08 & 5.45663547995004\\\\\n",
       "\t76 & rs10276070      & 0.0132016858363796 & 5.47971e-08 & 5.43500164949145\\\\\n",
       "\t65 & rs11771411      & 0.0132135966800642 & 5.62336e-08 & 5.43038096581811\\\\\n",
       "\t130 & rs10275989      & 0.0131915124114427 & 6.27905e-08 & 5.41066058919382\\\\\n",
       "\t221 & rs849138        & 0.0147283622981905 & 6.62052e-08 & 5.40117430590552\\\\\n",
       "\t174 & rs10254284      & 0.0131609281981517 & 8.38092e-08 & 5.35872755135769\\\\\n",
       "\t194 & rs702814        & 0.0146139780273048 & 8.9708e-08  & 5.3464235032454 \\\\\n",
       "\t97 & rs4722756       & 0.0131160163845385 & 2.30758e-07 & 5.172684195358  \\\\\n",
       "\t240 & rs864745        & 0.0143050701858806 & 2.89382e-07 & 5.13023693523708\\\\\n",
       "\t265 & rs11455969      & 0.0141617725080918 & 3.78787e-07 & 5.07932745618245\\\\\n",
       "\t299 & rs849133        & 0.0141803004117141 & 4.55623e-07 & 5.0441229622467 \\\\\n",
       "\t262 & rs849142        & 0.0140836148761906 & 4.74644e-07 & 5.03628849086126\\\\\n",
       "\t306 & rs860262        & 0.0140691632529296 & 5.75057e-07 & 4.9994074126227 \\\\\n",
       "\t332 & rs1513272       & 0.0141285867164664 & 5.92475e-07 & 4.99365148656134\\\\\n",
       "\t267 & rs10622246      & 0.0140284174798682 & 5.9596e-07  & 4.99252780277612\\\\\n",
       "\t321 & rs1708302       & 0.0140261687105103 & 6.06589e-07 & 4.98910327652798\\\\\n",
       "\t316 & rs849135        & 0.0140885206606947 & 6.08772e-07 & 4.98841508503821\\\\\n",
       "\t565 & rs11448038      & 0.0135519312440443 & 7.76813e-07 & 4.9411074385504 \\\\\n",
       "\t313 & rs849134        & 0.013991036365109  & 7.8326e-07  & 4.93949429823016\\\\\n",
       "\t17 & rs10274928      & 0.0142185025790124 & 1.80376e-06 & 4.77424917642538\\\\\n",
       "\t286 & rs1635852       & 0.0136105307945534 & 2.32002e-06 & 4.72333561098627\\\\\n",
       "\t152 & rs12531540      & 0.0136004132401725 & 2.60296e-06 & 4.69989507435652\\\\\n",
       "\t34 & rs1109483       & 0.0130773990902358 & 2.85379e-06 & 4.68107296645992\\\\\n",
       "\t168 & rs740123        & 0.0130772771942516 & 2.97022e-06 & 4.67287041232442\\\\\n",
       "\\end{tabular}\n"
      ],
      "text/markdown": [
       "\n",
       "A data.frame: 30 × 4\n",
       "\n",
       "| <!--/--> | rsID &lt;fct&gt; | PIP &lt;fct&gt; | p-value &lt;fct&gt; | z-score &lt;fct&gt; |\n",
       "|---|---|---|---|---|\n",
       "| 436 | rs849335        | 0.0144353099339476 | 3.02806e-10 | 6.29733864112154 |\n",
       "| 486 | rs849327        | 0.0144367391850965 | 4.74629e-10 | 6.22727717509752 |\n",
       "| 415 | rs849333        | 0.0141829027588132 | 4.82443e-10 | 6.22471280283744 |\n",
       "| 437 | rs849336        | 0.0143453738393939 | 4.9318e-10  | 6.22126534399166 |\n",
       "| 608 | rs498475        | 0.0140026133720034 | 3.96267e-09 | 5.88575000140771 |\n",
       "| 228 | 7:28178625_TG_T | 0.0149210477162338 | 4.34713e-08 | 5.4761369148465  |\n",
       "| 67 | rs11767776      | 0.013215390115251  | 4.85253e-08 | 5.45663547995004 |\n",
       "| 76 | rs10276070      | 0.0132016858363796 | 5.47971e-08 | 5.43500164949145 |\n",
       "| 65 | rs11771411      | 0.0132135966800642 | 5.62336e-08 | 5.43038096581811 |\n",
       "| 130 | rs10275989      | 0.0131915124114427 | 6.27905e-08 | 5.41066058919382 |\n",
       "| 221 | rs849138        | 0.0147283622981905 | 6.62052e-08 | 5.40117430590552 |\n",
       "| 174 | rs10254284      | 0.0131609281981517 | 8.38092e-08 | 5.35872755135769 |\n",
       "| 194 | rs702814        | 0.0146139780273048 | 8.9708e-08  | 5.3464235032454  |\n",
       "| 97 | rs4722756       | 0.0131160163845385 | 2.30758e-07 | 5.172684195358   |\n",
       "| 240 | rs864745        | 0.0143050701858806 | 2.89382e-07 | 5.13023693523708 |\n",
       "| 265 | rs11455969      | 0.0141617725080918 | 3.78787e-07 | 5.07932745618245 |\n",
       "| 299 | rs849133        | 0.0141803004117141 | 4.55623e-07 | 5.0441229622467  |\n",
       "| 262 | rs849142        | 0.0140836148761906 | 4.74644e-07 | 5.03628849086126 |\n",
       "| 306 | rs860262        | 0.0140691632529296 | 5.75057e-07 | 4.9994074126227  |\n",
       "| 332 | rs1513272       | 0.0141285867164664 | 5.92475e-07 | 4.99365148656134 |\n",
       "| 267 | rs10622246      | 0.0140284174798682 | 5.9596e-07  | 4.99252780277612 |\n",
       "| 321 | rs1708302       | 0.0140261687105103 | 6.06589e-07 | 4.98910327652798 |\n",
       "| 316 | rs849135        | 0.0140885206606947 | 6.08772e-07 | 4.98841508503821 |\n",
       "| 565 | rs11448038      | 0.0135519312440443 | 7.76813e-07 | 4.9411074385504  |\n",
       "| 313 | rs849134        | 0.013991036365109  | 7.8326e-07  | 4.93949429823016 |\n",
       "| 17 | rs10274928      | 0.0142185025790124 | 1.80376e-06 | 4.77424917642538 |\n",
       "| 286 | rs1635852       | 0.0136105307945534 | 2.32002e-06 | 4.72333561098627 |\n",
       "| 152 | rs12531540      | 0.0136004132401725 | 2.60296e-06 | 4.69989507435652 |\n",
       "| 34 | rs1109483       | 0.0130773990902358 | 2.85379e-06 | 4.68107296645992 |\n",
       "| 168 | rs740123        | 0.0130772771942516 | 2.97022e-06 | 4.67287041232442 |\n",
       "\n"
      ],
      "text/plain": [
       "    rsID            PIP                p-value     z-score         \n",
       "436 rs849335        0.0144353099339476 3.02806e-10 6.29733864112154\n",
       "486 rs849327        0.0144367391850965 4.74629e-10 6.22727717509752\n",
       "415 rs849333        0.0141829027588132 4.82443e-10 6.22471280283744\n",
       "437 rs849336        0.0143453738393939 4.9318e-10  6.22126534399166\n",
       "608 rs498475        0.0140026133720034 3.96267e-09 5.88575000140771\n",
       "228 7:28178625_TG_T 0.0149210477162338 4.34713e-08 5.4761369148465 \n",
       "67  rs11767776      0.013215390115251  4.85253e-08 5.45663547995004\n",
       "76  rs10276070      0.0132016858363796 5.47971e-08 5.43500164949145\n",
       "65  rs11771411      0.0132135966800642 5.62336e-08 5.43038096581811\n",
       "130 rs10275989      0.0131915124114427 6.27905e-08 5.41066058919382\n",
       "221 rs849138        0.0147283622981905 6.62052e-08 5.40117430590552\n",
       "174 rs10254284      0.0131609281981517 8.38092e-08 5.35872755135769\n",
       "194 rs702814        0.0146139780273048 8.9708e-08  5.3464235032454 \n",
       "97  rs4722756       0.0131160163845385 2.30758e-07 5.172684195358  \n",
       "240 rs864745        0.0143050701858806 2.89382e-07 5.13023693523708\n",
       "265 rs11455969      0.0141617725080918 3.78787e-07 5.07932745618245\n",
       "299 rs849133        0.0141803004117141 4.55623e-07 5.0441229622467 \n",
       "262 rs849142        0.0140836148761906 4.74644e-07 5.03628849086126\n",
       "306 rs860262        0.0140691632529296 5.75057e-07 4.9994074126227 \n",
       "332 rs1513272       0.0141285867164664 5.92475e-07 4.99365148656134\n",
       "267 rs10622246      0.0140284174798682 5.9596e-07  4.99252780277612\n",
       "321 rs1708302       0.0140261687105103 6.06589e-07 4.98910327652798\n",
       "316 rs849135        0.0140885206606947 6.08772e-07 4.98841508503821\n",
       "565 rs11448038      0.0135519312440443 7.76813e-07 4.9411074385504 \n",
       "313 rs849134        0.013991036365109  7.8326e-07  4.93949429823016\n",
       "17  rs10274928      0.0142185025790124 1.80376e-06 4.77424917642538\n",
       "286 rs1635852       0.0136105307945534 2.32002e-06 4.72333561098627\n",
       "152 rs12531540      0.0136004132401725 2.60296e-06 4.69989507435652\n",
       "34  rs1109483       0.0130773990902358 2.85379e-06 4.68107296645992\n",
       "168 rs740123        0.0130772771942516 2.97022e-06 4.67287041232442"
      ]
     },
     "metadata": {},
     "output_type": "display_data"
    }
   ],
   "source": [
    "tops[!(tops$rsID %in% asthma_vars),]"
   ]
  },
  {
   "cell_type": "markdown",
   "metadata": {
    "kernel": "R"
   },
   "source": [
    "`rs849335` is not in any CS, but it has p-value `3.02806e-10`."
   ]
  },
  {
   "cell_type": "markdown",
   "metadata": {
    "kernel": "R"
   },
   "source": [
    "To understand, we have to see how many variables are in high LD with it:"
   ]
  },
  {
   "cell_type": "code",
   "execution_count": 79,
   "metadata": {
    "kernel": "R"
   },
   "outputs": [],
   "source": [
    "ld = '7_28139386_28259874/ukb_imp_v3.Asthma_casesbyICD10codesANDselfreport_controlsbyselfreportandicd10_noautoimmuneincontrols.fastGWA.snp_stats.all_chr_7_28139386_28259874.sample_ld.gz'\n",
    "ld = read.csv(ld, sep = '\\t', header=T, stringsAsFactors=F)"
   ]
  },
  {
   "cell_type": "code",
   "execution_count": 83,
   "metadata": {
    "kernel": "R"
   },
   "outputs": [],
   "source": [
    "ld_i = ld[which(ld[,1] == \"rs849335\"),][-1]"
   ]
  },
  {
   "cell_type": "code",
   "execution_count": 87,
   "metadata": {
    "kernel": "R"
   },
   "outputs": [],
   "source": [
    "high_ld = ld[,1][which(ld_i>0.8)]"
   ]
  },
  {
   "cell_type": "code",
   "execution_count": 88,
   "metadata": {
    "kernel": "R"
   },
   "outputs": [
    {
     "data": {
      "text/html": [
       "<table>\n",
       "<caption>A data.frame: 6 × 4</caption>\n",
       "<thead>\n",
       "\t<tr><th></th><th scope=col>rsID</th><th scope=col>PIP</th><th scope=col>p-value</th><th scope=col>z-score</th></tr>\n",
       "\t<tr><th></th><th scope=col>&lt;fct&gt;</th><th scope=col>&lt;fct&gt;</th><th scope=col>&lt;fct&gt;</th><th scope=col>&lt;fct&gt;</th></tr>\n",
       "</thead>\n",
       "<tbody>\n",
       "\t<tr><th scope=row>415</th><td>rs849333  </td><td>0.0141829027588132</td><td>4.82443e-10</td><td>6.22471280283744</td></tr>\n",
       "\t<tr><th scope=row>436</th><td>rs849335  </td><td>0.0144353099339476</td><td>3.02806e-10</td><td>6.29733864112154</td></tr>\n",
       "\t<tr><th scope=row>437</th><td>rs849336  </td><td>0.0143453738393939</td><td>4.9318e-10 </td><td>6.22126534399166</td></tr>\n",
       "\t<tr><th scope=row>486</th><td>rs849327  </td><td>0.0144367391850965</td><td>4.74629e-10</td><td>6.22727717509752</td></tr>\n",
       "\t<tr><th scope=row>565</th><td>rs11448038</td><td>0.0135519312440443</td><td>7.76813e-07</td><td>4.9411074385504 </td></tr>\n",
       "\t<tr><th scope=row>608</th><td>rs498475  </td><td>0.0140026133720034</td><td>3.96267e-09</td><td>5.88575000140771</td></tr>\n",
       "</tbody>\n",
       "</table>\n"
      ],
      "text/latex": [
       "A data.frame: 6 × 4\n",
       "\\begin{tabular}{r|llll}\n",
       "  & rsID & PIP & p-value & z-score\\\\\n",
       "  & <fct> & <fct> & <fct> & <fct>\\\\\n",
       "\\hline\n",
       "\t415 & rs849333   & 0.0141829027588132 & 4.82443e-10 & 6.22471280283744\\\\\n",
       "\t436 & rs849335   & 0.0144353099339476 & 3.02806e-10 & 6.29733864112154\\\\\n",
       "\t437 & rs849336   & 0.0143453738393939 & 4.9318e-10  & 6.22126534399166\\\\\n",
       "\t486 & rs849327   & 0.0144367391850965 & 4.74629e-10 & 6.22727717509752\\\\\n",
       "\t565 & rs11448038 & 0.0135519312440443 & 7.76813e-07 & 4.9411074385504 \\\\\n",
       "\t608 & rs498475   & 0.0140026133720034 & 3.96267e-09 & 5.88575000140771\\\\\n",
       "\\end{tabular}\n"
      ],
      "text/markdown": [
       "\n",
       "A data.frame: 6 × 4\n",
       "\n",
       "| <!--/--> | rsID &lt;fct&gt; | PIP &lt;fct&gt; | p-value &lt;fct&gt; | z-score &lt;fct&gt; |\n",
       "|---|---|---|---|---|\n",
       "| 415 | rs849333   | 0.0141829027588132 | 4.82443e-10 | 6.22471280283744 |\n",
       "| 436 | rs849335   | 0.0144353099339476 | 3.02806e-10 | 6.29733864112154 |\n",
       "| 437 | rs849336   | 0.0143453738393939 | 4.9318e-10  | 6.22126534399166 |\n",
       "| 486 | rs849327   | 0.0144367391850965 | 4.74629e-10 | 6.22727717509752 |\n",
       "| 565 | rs11448038 | 0.0135519312440443 | 7.76813e-07 | 4.9411074385504  |\n",
       "| 608 | rs498475   | 0.0140026133720034 | 3.96267e-09 | 5.88575000140771 |\n",
       "\n"
      ],
      "text/plain": [
       "    rsID       PIP                p-value     z-score         \n",
       "415 rs849333   0.0141829027588132 4.82443e-10 6.22471280283744\n",
       "436 rs849335   0.0144353099339476 3.02806e-10 6.29733864112154\n",
       "437 rs849336   0.0143453738393939 4.9318e-10  6.22126534399166\n",
       "486 rs849327   0.0144367391850965 4.74629e-10 6.22727717509752\n",
       "565 rs11448038 0.0135519312440443 7.76813e-07 4.9411074385504 \n",
       "608 rs498475   0.0140026133720034 3.96267e-09 5.88575000140771"
      ]
     },
     "metadata": {},
     "output_type": "display_data"
    }
   ],
   "source": [
    "res[res$rsID %in% high_ld,]"
   ]
  },
  {
   "cell_type": "markdown",
   "metadata": {
    "kernel": "R"
   },
   "source": [
    "It is not many of them at all, but all their PIPs are very small."
   ]
  }
 ],
 "metadata": {
  "kernelspec": {
   "display_name": "SoS",
   "language": "sos",
   "name": "sos"
  },
  "language_info": {
   "codemirror_mode": "sos",
   "file_extension": ".sos",
   "mimetype": "text/x-sos",
   "name": "sos",
   "nbconvert_exporter": "sos_notebook.converter.SoS_Exporter",
   "pygments_lexer": "sos"
  },
  "sos": {
   "kernels": [
    [
     "Bash",
     "bash",
     "Bash",
     "#E6EEFF",
     ""
    ],
    [
     "R",
     "ir",
     "R",
     "#DCDCDA",
     ""
    ],
    [
     "SoS",
     "sos",
     "",
     "",
     "sos"
    ]
   ],
   "version": "0.21.9"
  }
 },
 "nbformat": 4,
 "nbformat_minor": 4
}
