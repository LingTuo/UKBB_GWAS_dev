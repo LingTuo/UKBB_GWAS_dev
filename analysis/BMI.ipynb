{
 "cells": [
  {
   "cell_type": "markdown",
   "metadata": {
    "kernel": "SoS"
   },
   "source": [
    "## Analysis of BMI"
   ]
  },
  {
   "cell_type": "markdown",
   "metadata": {
    "kernel": "SoS"
   },
   "source": [
    "This notebook applies [various LMM workflows](https://dianacornejo.github.io/pleiotropy_UKB/workflow) to perform association analysis for BMI."
   ]
  },
  {
   "cell_type": "markdown",
   "metadata": {
    "kernel": "SoS"
   },
   "source": [
    "## File paths on Yale cluster\n",
    "\n",
    "- Genotype files in PLINK format:\n",
    "`/SAY/dbgapstg/scratch/UKBiobank/genotype_files/pleiotropy_geneticfiles/UKB_Caucasians_phenotypeindepqc120319_updated020720removedwithdrawnindiv`\n",
    "- Genotype files in bgen format:\n",
    "`SAY/dbgapstg/scratch/UKBiobank/genotype_files/ukb39554_imputeddataset/`\n",
    "- Summary stats for imputed variants BOLT-LMM:\n",
    "`/SAY/dbgapstg/scratch/UKBiobank/results/BOLTLMM_results/results_imputed_data`\n",
    "- Summary stats for inputed variants FastGWA:\n",
    "`/SAY/dbgapstg/scratch/UKBiobank/results/FastGWA_results/results_imputed_data`\n",
    "- Phenotype files:\n",
    "`/SAY/dbgapstg/scratch/UKBiobank/phenotype_files/pleiotropy_R01/phenotypesforanalysis`\n",
    "- Relationship file:\n",
    "`/SAY/dbgapstg/scratch/UKBiobank/genotype_files/pleiotropy_geneticfiles/unrelated_n307259/UKB_unrelatedcauc_phenotypes_asthmat2dbmiwaisthip_agesex_waisthipratio_040620`"
   ]
  },
  {
   "cell_type": "markdown",
   "metadata": {
    "kernel": "SoS"
   },
   "source": [
    "## Running this notebook on the cluster to generate the specific scripts\n",
    "\n",
    "```\n",
    "sos convert ~/project/UKBB_GWAS_DEV/analysis/BMI.ipynb ~/project/UKBB_GWAS_DEV/docs/analysis/BMI.html --execute\n",
    "```"
   ]
  },
  {
   "cell_type": "code",
   "execution_count": 3,
   "metadata": {
    "kernel": "SoS"
   },
   "outputs": [
    {
     "data": {
      "text/html": [
       "<div class=\"sos_hint\">Cell content saved to <a href=\"scripts/INT-BMI_boltlmm.sbatch\" target=\"_blank\">scripts/INT-BMI_boltlmm.sbatch</a>, use option -r to also execute the cell.</div>"
      ],
      "text/plain": [
       "Cell content saved to scripts/INT-BMI_boltlmm.sbatch, use option -r to also execute the cell.\n"
      ]
     },
     "metadata": {},
     "output_type": "display_data"
    }
   ],
   "source": [
    "%save scripts/INT-BMI_boltlmm.sbatch -f\n",
    "\n",
    "#!/bin/bash\n",
    "#SBATCH --partition general\n",
    "#SBATCH --nodes 1\n",
    "#SBATCH --ntasks-per-node 1\n",
    "#SBATCH --cpus-per-task 1\n",
    "#SBATCH --mem 1G\n",
    "#SBATCH --time 3-0:00:00\n",
    "#SBATCH --job-name sos-submission\n",
    "#SBATCH --output sos-submission-%J.out\n",
    "#SBATCH --error sos-submission-%J.log\n",
    "\n",
    "# Defining bash variables for the different paths,\n",
    "\n",
    "cwd=~/scratch60/2020-04_bolt\n",
    "bfile=/SAY/dbgapstg/scratch/UKBiobank/genotype_files/pleiotropy_geneticfiles/UKB_Caucasians_phenotypeindepqc120319_updated020720removedwithdrawnindiv.bed\n",
    "sampleFile=/SAY/dbgapstg/scratch/UKBiobank/genotype_files/ukb39554_imputeddataset\n",
    "/ukb32285_imputedindiv.sample\n",
    "bgenFile=`echo /SAY/dbgapstg/scratch/UKBiobank/genotype_files/ukb39554_imputeddataset/ukb_imp_chr{1..22}_v3.bgen`\n",
    "phenoFile=~/project/phenotypes_UKB/UKB_caucasians_BMIwaisthip_AsthmaAndT2D_INT-BMI_withagesex_041720\n",
    "covarFile=~/project/phenotypes_UKB/UKB_caucasians_BMIwaisthip_AsthmaAndT2D_INT-BMI_withagesex_041720\n",
    "LDscoresFile=~/software/BOLT-LMM_v2.3.4/tables/LDSCORE.1000G_EUR.tab.gz\n",
    "geneticMapFile=~/software/BOLT-LMM_v2.3.4/tables/genetic_map_hg19_withX.txt.gz\n",
    "phenoCol=INT-BMI\n",
    "covarCol=SEX\n",
    "covarMaxLevels=10\n",
    "qCovarCol=AGE\n",
    "numThreads=20\n",
    "bgenMinMAF=0.001\n",
    "bgenMinINFO=0.8\n",
    "job_size=1\n",
    "\n",
    "#Running the workflow for BMI trait. Here, sex and age where used as covariates\n",
    "\n",
    "sos run ~/project/UKBB_GWAS_DEV/workflow/LMM.ipynb boltlmm \\\n",
    "    --cwd $cwd \\\n",
    "    --bfile $bfile \\\n",
    "    --sampleFile $sampleFile \\\n",
    "    --bgenFile $bgenFile \\\n",
    "    --phenoFile $phenoFile \\\n",
    "    --covarFile $covarFile \\\n",
    "    --LDscoresFile $LDscoresFile \\\n",
    "    --geneticMapFile $geneticMapFile \\\n",
    "    --phenoCol $phenoCol \\\n",
    "    --covarCol $covarCol \\\n",
    "    --covarMaxLevels $covarMaxLevels \\\n",
    "    --qCovarCol $qCovarCol \\\n",
    "    --numThreads $numThreads \\\n",
    "    --bgenMinMAF $bgenMinMAF \\\n",
    "    --bgenMinINFO $bgenMinINFO \\\n",
    "    --job_size $job-size \\\n",
    "    -c ~/project/UKBB_GWAS_DEV/farnam.yml -q farnam -J 40 \\\n",
    "    -s build &> 060820-sos-INT-BMI-boltlmm.log"
   ]
  },
  {
   "cell_type": "code",
   "execution_count": 6,
   "metadata": {
    "kernel": "SoS"
   },
   "outputs": [
    {
     "data": {
      "text/html": [
       "<div class=\"sos_hint\">Cell content saved to <a href=\"scripts/INT-BMI_ldclumping.sbatch\" target=\"_blank\">scripts/INT-BMI_ldclumping.sbatch</a>, use option -r to also execute the cell.</div>"
      ],
      "text/plain": [
       "Cell content saved to scripts/INT-BMI_ldclumping.sbatch, use option -r to also execute the cell.\n"
      ]
     },
     "metadata": {},
     "output_type": "display_data"
    }
   ],
   "source": [
    "%save scripts/INT-BMI_ldclumping.sbatch -f\n",
    "\n",
    "#!/bin/bash\n",
    "#SBATCH --partition general\n",
    "#SBATCH --nodes 1\n",
    "#SBATCH --ntasks-per-node 1\n",
    "#SBATCH --cpus-per-task 1\n",
    "#SBATCH --mem 1G\n",
    "#SBATCH --time 3-0:00:00\n",
    "#SBATCH --job-name sos-submission\n",
    "#SBATCH --output sos-submission-%J.out\n",
    "#SBATCH --error sos-submission-%J.log\n",
    "\n",
    "# Set the bash variables \n",
    "cwd=~/scratch60/plink-clumping\n",
    "bfile=/SAY/dbgapstg/scratch/UKBiobank/genotype_files/pleiotropy_geneticfiles/UKB_Caucasians_phenotypeindepqc120319_updated020720removedwithdrawnindiv.bed\n",
    "bgenFile=`echo /SAY/dbgapstg/scratch/UKBiobank/genotype_files/ukb39554_imputeddataset/ukb_imp_chr{1..22}_v3.bgen`\n",
    "sampleFile=/SAY/dbgapstg/scratch/UKBiobank/genotype_files/ukb39554_imputeddataset/ukb32285_imputedindiv.sample\n",
    "sumstatsFile=/home/dc2325/project/results/pleiotropy/2020-04_bolt/INT-BMI/ukb_imp_v3.UKB_caucasians_BMIwaisthip_AsthmaAndT2D_INT-BMI_withagesex_041720.BoltLMM.snp_stats.all_chr.gz\n",
    "unrelated_samples=/SAY/dbgapstg/scratch/UKBiobank/genotype_files/pleiotropy_geneticfiles/unrelated_n307259/UKB_unrelatedcauc_phenotypes_asthmat2dbmiwaisthip_agesex_waisthipratio_040620\n",
    "ld_sample_size=1210\n",
    "clump_field=P_BOLT_LMM\n",
    "clump_p1=5e-08\n",
    "clump_p2=1\n",
    "clump_r2=0.2\n",
    "clump_kb=2000\n",
    "clump_annotate=BP\n",
    "numThreads=20\n",
    "job_size=1\n",
    "\n",
    "#Running the LDclumping workflow for INT-BMI trait\n",
    "\n",
    "sos run ~/project/UKBB_GWAS_DEV/workflow/LD_Clumping.ipynb default \\\n",
    "    --cwd $cwd \\\n",
    "    --bfile $bfile \\\n",
    "    --bgenFile $bgenFile \\\n",
    "    --sampleFile $sampleFile \\\n",
    "    --sumstatsFile $sumstatsFile \\\n",
    "    --unrelated_samples $unrelated_samples \\\n",
    "    --ld_sample_size $ld_sample_size \\\n",
    "    --clump_field $clump_field\\\n",
    "    --clump_p1 $clump_p1 \\\n",
    "    --clump_p2 $clump_p2 \\\n",
    "    --clump_r2 $clump_r2 \\\n",
    "    --clump_kb $clump_kb \\\n",
    "    --clump_annotate $clump_annotate \\\n",
    "    --numThreads $numThreads \\\n",
    "    --job_size $job_size \\\n",
    "    -c ~/project/UKBB_GWAS_DEV/farnam.yml -q farnam -J 40 \\\n",
    "    -s build &> 061620-sos-INT-BMI-ldclumping.log"
   ]
  },
  {
   "cell_type": "code",
   "execution_count": null,
   "metadata": {
    "kernel": "SoS"
   },
   "outputs": [],
   "source": [
    "%save scripts/INT-BMI_region.sbatch -f\n",
    "\n",
    "#!/bin/bash\n",
    "#SBATCH --partition general\n",
    "#SBATCH --nodes 1\n",
    "#SBATCH --ntasks-per-node 1\n",
    "#SBATCH --cpus-per-task 1\n",
    "#SBATCH --mem 1G\n",
    "#SBATCH --time 3-0:00:00\n",
    "#SBATCH --job-name sos-submission\n",
    "#SBATCH --output sos-submission-%J.out\n",
    "#SBATCH --error sos-submission-%J.log\n",
    "\n",
    "# Set the bash variables \n",
    "cwd=~/scratch60/plink-clumping/chr7_region\n",
    "region_file=~/scratch60/plink-clumping/chr7_region/INT-BMI_region.txt\n",
    "pheno_path=~/project/phenotypes_UKB/UKB_caucasians_BMIwaisthip_AsthmaAndT2D_INT-BMI_withagesex_041720\n",
    "geno_path=~/scratch60/plink-clumping/chr7_region/bgenfilepath.txt\n",
    "bgen_sample_file=/SAY/dbgapstg/scratch/UKBiobank/genotype_files/ukb39554_imputeddataset/ukb32285_imputedindiv.sample\n",
    "sumstats_path=/home/dc2325/project/results/pleiotropy/2020-04_bolt/INT-BMI/ukb_imp_v3.UKB_caucasians_BMIwaisthip_AsthmaAndT2D_INT-BMI_withagesex_041720.BoltLMM.snp_stats.all_chr.gz\n",
    "unrelated_samples=/SAY/dbgapstg/scratch/UKBiobank/genotype_files/pleiotropy_geneticfiles/unrelated_n307259/UKB_unrelatedcauc_phenotypes_asthmat2dbmiwaisthip_agesex_waisthipratio_040620\n",
    "format_config_path=~/scratch60/plink-clumping/chr7_region/boltlmm_template.yml\n",
    "\n",
    "#Running the Region Extractiob workflow for INT-BMI trait\n",
    "\n",
    "sos run ~/project/UKBB_GWAS_DEV/workflow/Region_Extraction.ipynb \\\n",
    "    --cwd $cwd \\\n",
    "    --region-file $region_file \\\n",
    "    --pheno-path $pheno_path \\\n",
    "    --geno-path $geno_path \\\n",
    "    --bgen-sample-path $bgen_sample_file \\\n",
    "    --sumstats-path $sumstats_path \\\n",
    "    --format-config-path $format_config_path \\\n",
    "    --unrelated-samples $unrelated_samples.txt\n",
    "    -s build &> 062320-sos-INT-BMI-region.log"
   ]
  }
 ],
 "metadata": {
  "kernelspec": {
   "display_name": "SoS",
   "language": "sos",
   "name": "sos"
  },
  "language_info": {
   "codemirror_mode": "sos",
   "file_extension": ".sos",
   "mimetype": "text/x-sos",
   "name": "sos",
   "nbconvert_exporter": "sos_notebook.converter.SoS_Exporter",
   "pygments_lexer": "sos"
  },
  "sos": {
   "kernels": [
    [
     "Bash",
     "bash",
     "Bash",
     "#E6EEFF",
     ""
    ],
    [
     "SoS",
     "sos",
     "",
     "",
     "sos"
    ]
   ],
   "version": "0.21.7"
  }
 },
 "nbformat": 4,
 "nbformat_minor": 4
}
