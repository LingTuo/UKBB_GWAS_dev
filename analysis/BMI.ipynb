{
 "cells": [
  {
   "cell_type": "markdown",
   "metadata": {
    "kernel": "SoS"
   },
   "source": [
    "## Analysis of BMI"
   ]
  },
  {
   "cell_type": "markdown",
   "metadata": {
    "kernel": "SoS"
   },
   "source": [
    "This notebook describes the analysis of BMI from UKB data"
   ]
  },
  {
   "cell_type": "markdown",
   "metadata": {
    "kernel": "SoS"
   },
   "source": [
    "## File paths on Yale cluster\n",
    "\n",
    "- Genotype files in PLINK format:\n",
    "`/SAY/dbgapstg/scratch/UKBiobank/genotype_files/pleiotropy_geneticfiles/UKB_Caucasians_phenotypeindepqc120319_updated020720removedwithdrawnindiv`\n",
    "- Genotype files in bgen format:\n",
    "`SAY/dbgapstg/scratch/UKBiobank/genotype_files/ukb39554_imputeddataset/`\n",
    "- Summary stats for imputed variants BOLT-LMM:\n",
    "`/SAY/dbgapstg/scratch/UKBiobank/results/BOLTLMM_results/results_imputed_data`\n",
    "- Summary stats for inputed variants FastGWA:\n",
    "`/SAY/dbgapstg/scratch/UKBiobank/results/FastGWA_results/results_imputed_data`\n",
    "- Phenotype files:\n",
    "`/SAY/dbgapstg/scratch/UKBiobank/phenotype_files/pleiotropy_R01/phenotypesforanalysis`\n",
    "- Relationship file:\n",
    "`/SAY/dbgapstg/scratch/UKBiobank/genotype_files/pleiotropy_geneticfiles/unrelated_n307259/UKB_unrelatedcauc_phenotypes_asthmat2dbmiwaisthip_agesex_waisthipratio_040620`"
   ]
  },
  {
   "cell_type": "code",
   "execution_count": 1,
   "metadata": {
    "kernel": "SoS"
   },
   "outputs": [
    {
     "data": {
      "text/html": [
       "<div class=\"sos_hint\">Cell content saved to <a href=\"INT-BMI.sbatch\" target=\"_blank\">INT-BMI.sbatch</a>, use option -r to also execute the cell.</div>"
      ],
      "text/plain": [
       "Cell content saved to INT-BMI.sbatch, use option -r to also execute the cell.\n"
      ]
     },
     "metadata": {},
     "output_type": "display_data"
    }
   ],
   "source": [
    "%save INT-BMI.sbatch -f\n",
    "\n",
    "#!/bin/bash\n",
    "#SBATCH --partition general\n",
    "#SBATCH --nodes 1\n",
    "#SBATCH --ntasks-per-node 1\n",
    "#SBATCH --cpus-per-task 16\n",
    "#SBATCH --mem-per-cpu 1G\n",
    "#SBATCH --time 3-0:00:00\n",
    "#SBATCH --job-name sos-submission\n",
    "#SBATCH --output sos-submission-%J.out\n",
    "#SBATCH --error sos-submission-%J.log\n",
    "\n",
    "# Defining bash variables for the different paths,\n",
    "\n",
    "cwd=~/scratch60/2020_04_bolt\n",
    "output=output\n",
    "bfile=/SAY/dbgapstg/scratch/UKBiobank/genotype_files/pleiotropy_geneticfiles/UKB_Caucasians_phenotypeindepqc120319_updated020720removedwithdrawnindiv\n",
    "sampleFile=/SAY/dbgapstg/scratch/UKBiobank/genotype_files/ukb39554_imputeddataset\n",
    "/ukb32285_imputedindiv.sample\n",
    "bgenFile=/SAY/dbgapstg/scratch/UKBiobank/genotype_files/ukb39554_imputeddataset/*.bgen\n",
    "phenoFile=/project/phenotypes_UKB/UKB_caucasians_BMIwaisthip_AsthmaAndT2D_INT-BMI_withagesex_041720\n",
    "covarFile=/project/phenotypes_UKB/UKB_caucasians_BMIwaisthip_AsthmaAndT2D_INT-BMI_withagesex_041720\n",
    "LDscoresFile=~/software/BOLT-LMM_v2.3.4/tables/LDSCORE.1000G_EUR.tab.gz\n",
    "geneticMapFile=~/software/BOLT-LMM_v2.3.4/tables/genetic_map_hg19_withX.txt.gz\n",
    "phenoCol= 'INT-BMI'\n",
    "covarCol1 = 'SEX'\n",
    "covarMaxLevels = 10\n",
    "qCovarCol2 = 'AGE'\n",
    "numThreads = 20\n",
    "bgenMinMAF = 0.001\n",
    "bgenMinINFO = 0.8\n",
    "\n",
    "#Running the workflow for BMI trait\n",
    "\n",
    "sos run ~/project/pleiotropy_UKB/worfkflow/BoltLMM.ipynb bolt -c ~/project/pleiotropy_UKB/farnam.yml -q farnam -J 40 \\\n",
    "    -s build &> sos-INT-BMI-060820.log"
   ]
  },
  {
   "cell_type": "code",
   "execution_count": 5,
   "metadata": {
    "kernel": "Bash"
   },
   "outputs": [
    {
     "name": "stdout",
     "output_type": "stream",
     "text": [
      "/Users/dianacornejo/pleiotropy_UKB/analysis\n"
     ]
    }
   ],
   "source": [
    "pwd"
   ]
  },
  {
   "cell_type": "code",
   "execution_count": null,
   "metadata": {
    "kernel": "SoS"
   },
   "outputs": [],
   "source": []
  }
 ],
 "metadata": {
  "kernelspec": {
   "display_name": "SoS",
   "language": "sos",
   "name": "sos"
  },
  "language_info": {
   "codemirror_mode": "sos",
   "file_extension": ".sos",
   "mimetype": "text/x-sos",
   "name": "sos",
   "nbconvert_exporter": "sos_notebook.converter.SoS_Exporter",
   "pygments_lexer": "sos"
  },
  "sos": {
   "kernels": [
    [
     "Bash",
     "bash",
     "Bash",
     "#E6EEFF",
     ""
    ],
    [
     "SoS",
     "sos",
     "",
     "",
     "sos"
    ]
   ],
   "version": "0.21.7"
  }
 },
 "nbformat": 4,
 "nbformat_minor": 4
}
