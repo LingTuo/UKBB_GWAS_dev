{
 "cells": [
  {
   "cell_type": "markdown",
   "metadata": {
    "kernel": "SoS"
   },
   "source": [
    "## Analysis of BMI"
   ]
  },
  {
   "cell_type": "markdown",
   "metadata": {
    "kernel": "SoS"
   },
   "source": [
    "This notebook applies [various LMM workflows](https://dianacornejo.github.io/pleiotropy_UKB/workflow) to perform association analysis for BMI."
   ]
  },
  {
   "cell_type": "markdown",
   "metadata": {
    "kernel": "SoS"
   },
   "source": [
    "## File paths on Yale cluster\n",
    "\n",
    "- Genotype files in PLINK format:\n",
    "`/SAY/dbgapstg/scratch/UKBiobank/genotype_files/pleiotropy_geneticfiles/UKB_Caucasians_phenotypeindepqc120319_updated020720removedwithdrawnindiv`\n",
    "- Genotype files in bgen format:\n",
    "`SAY/dbgapstg/scratch/UKBiobank/genotype_files/ukb39554_imputeddataset/`\n",
    "- Summary stats for imputed variants BOLT-LMM:\n",
    "`/SAY/dbgapstg/scratch/UKBiobank/results/BOLTLMM_results/results_imputed_data`\n",
    "- Summary stats for inputed variants FastGWA:\n",
    "`/SAY/dbgapstg/scratch/UKBiobank/results/FastGWA_results/results_imputed_data`\n",
    "- Phenotype files:\n",
    "`/SAY/dbgapstg/scratch/UKBiobank/phenotype_files/pleiotropy_R01/phenotypesforanalysis`\n",
    "- Relationship file:\n",
    "`/SAY/dbgapstg/scratch/UKBiobank/genotype_files/pleiotropy_geneticfiles/unrelated_n307259/UKB_unrelatedcauc_phenotypes_asthmat2dbmiwaisthip_agesex_waisthipratio_040620`"
   ]
  },
  {
   "cell_type": "markdown",
   "metadata": {
    "kernel": "SoS"
   },
   "source": [
    "## 07/01/20 analysis\n",
    "\n",
    "On the cluster, open up this notebook using the JupyterLab server you set up via the ssh channel, then run the following cells,"
   ]
  },
  {
   "cell_type": "markdown",
   "metadata": {
    "kernel": "SoS"
   },
   "source": [
    "### Bash variables for workflow configurations"
   ]
  },
  {
   "cell_type": "code",
   "execution_count": 7,
   "metadata": {
    "kernel": "Bash"
   },
   "outputs": [],
   "source": [
    "# Common variables\n",
    "tpl_file=../farnam.yml\n",
    "bfile=/SAY/dbgapstg/scratch/UKBiobank/genotype_files/pleiotropy_geneticfiles/UKB_Caucasians_phenotypeindepqc120319_updated020720removedwithdrawnindiv.bed\n",
    "sampleFile=/SAY/dbgapstg/scratch/UKBiobank/genotype_files/ukb39554_imputeddataset/ukb32285_imputedindiv.sample\n",
    "bgenFile=`echo /SAY/dbgapstg/scratch/UKBiobank/genotype_files/ukb39554_imputeddataset/ukb_imp_chr{1..22}_v3.bgen`\n",
    "unrelated_samples=/SAY/dbgapstg/scratch/UKBiobank/genotype_files/pleiotropy_geneticfiles/unrelated_n307259/UKB_unrelatedcauc_phenotypes_asthmat2dbmiwaisthip_agesex_waisthipratio_040620\n",
    "# LMM directories\n",
    "lmm_dir=/SAY/dbgapstg/scratch/UKBiobank/results/BOLTLMM_results/results_imputed_data/INT-BMI\n",
    "lmm_sos=../workflow/LMM.ipynb\n",
    "lmm_sbatch=../output/$(date \"+%Y-%m-%d\")_INT-BMI-bolt.sbatch\n",
    "phenoFile=~/project/phenotypes_UKB/UKB_caucasians_BMIwaisthip_AsthmaAndT2D_INT-BMI_withagesex_041720\n",
    "## LMM variables \n",
    "formatFile=~/project/UKBB_GWAS_DEV/data/boltlmm_template.yml\n",
    "covarFile=~/project/phenotypes_UKB/UKB_caucasians_BMIwaisthip_AsthmaAndT2D_INT-BMI_withagesex_041720\n",
    "LDscoresFile=~/software/BOLT-LMM_v2.3.4/tables/LDSCORE.1000G_EUR.tab.gz\n",
    "geneticMapFile=~/software/BOLT-LMM_v2.3.4/tables/genetic_map_hg19_withX.txt.gz\n",
    "phenoCol=INT-BMI\n",
    "covarCol=SEX\n",
    "covarMaxLevels=10\n",
    "qCovarCol=AGE\n",
    "numThreads=20\n",
    "bgenMinMAF=0.001\n",
    "bgenMinINFO=0.8\n",
    "lmm_job_size=1\n",
    "# LD clumping directories\n",
    "clumping_dir=/SAY/dbgapstg/scratch/UKBiobank/results/LD_clumping/INT-BMI\n",
    "clumping_sos=../workflow/LD_Clumping.ipynb\n",
    "clumping_sbatch=../output/$(date +\"%Y-%m-%d\")_INT-BMI_ldclumping.sbatch\n",
    "bfile_ref=\n",
    "## LD clumping variables\n",
    "sumstatsFiles=/SAY/dbgapstg/scratch/UKBiobank/results/BOLTLMM_results/results_imputed_data/INT-BMI/ukb_imp_v3.UKB_caucasians_BMIwaisthip_AsthmaAndT2D_INT-BMI_withagesex_041720.BoltLMM.snp_stats.all_chr.gz\n",
    "ld_sample_size=1210\n",
    "clump_field=P_BOLT_LMM\n",
    "clump_p1=5e-08\n",
    "clump_p2=1\n",
    "clump_r2=0.2\n",
    "clump_kb=2000\n",
    "clump_annotate=BP\n",
    "numThreads=20\n",
    "clump_job_size=1\n",
    "# Region extraction directories\n",
    "tpl_file=../farnam.yml\n",
    "extract_dir=/SAY/dbgapstg/scratch/UKBiobank/results/region_extraction/INT-BMI\n",
    "extract_sos=../workflow/Region_Extraction.ipynb\n",
    "extract_sbatch=../output/$(date +\"%Y-%m-%d\")INT-BMI-region.sbatch\n",
    "##\n",
    "region_file=~/scratch60/plink-clumping/chr7_region/INT-BMI_region.txt\n",
    "pheno_path=~/project/phenotypes_UKB/UKB_caucasians_BMIwaisthip_AsthmaAndT2D_INT-BMI_withagesex_041720\n",
    "geno_path=/SAY/dbgapstg/scratch/UKBiobank/results/UKBB_bgenfilepath.txt\n",
    "bgen_sample_file=/SAY/dbgapstg/scratch/UKBiobank/genotype_files/ukb39554_imputeddataset/ukb32285_imputedindiv.sample\n",
    "sumstats_path=/home/dc2325/project/results/pleiotropy/2020-04_bolt/INT-BMI/ukb_imp_v3.UKB_caucasians_BMIwaisthip_AsthmaAndT2D_INT-BMI_withagesex_041720.BoltLMM.snp_stats.all_chr.gz\n",
    "unrelated_samples=/SAY/dbgapstg/scratch/UKBiobank/genotype_files/pleiotropy_geneticfiles/unrelated_n307259/UKB_unrelatedcauc_phenotypes_asthmat2dbmiwaisthip_agesex_waisthipratio_040620\n",
    "extract_job_size=10"
   ]
  },
  {
   "cell_type": "markdown",
   "metadata": {
    "kernel": "SoS"
   },
   "source": [
    "### BoltLMM job"
   ]
  },
  {
   "cell_type": "code",
   "execution_count": 8,
   "metadata": {
    "kernel": "Bash"
   },
   "outputs": [
    {
     "name": "stdout",
     "output_type": "stream",
     "text": [
      "INFO: Running \u001b[32mfarnam\u001b[0m: Configuration for Yale `farnam` cluster\n",
      "INFO: \u001b[32mfarnam\u001b[0m (index=0) is \u001b[32mignored\u001b[0m due to saved signature\n",
      "INFO: \u001b[32mfarnam\u001b[0m output:   \u001b[32m../output/2020-07-14_INT-BMI-bolt.sbatch\u001b[0m\n",
      "INFO: Workflow farnam (ID=604bd89311794464) is ignored with 1 ignored step.\n"
     ]
    }
   ],
   "source": [
    "lmm_args=\"\"\"boltlmm\n",
    "    --cwd $lmm_dir \n",
    "    --bfile $bfile \n",
    "    --sampleFile $sampleFile\n",
    "    --bgenFile $bgenFile \n",
    "    --phenoFile $phenoFile \n",
    "    --formatFile $formatFile \n",
    "    --covarFile $covarFile \n",
    "    --LDscoresFile $LDscoresFile \n",
    "    --geneticMapFile $geneticMapFile \n",
    "    --phenoCol $phenoCol \n",
    "    --covarCol $covarCol \n",
    "    --covarMaxLevels $covarMaxLevels \n",
    "    --qCovarCol $qCovarCol \n",
    "    --numThreads $numThreads \n",
    "    --bgenMinMAF $bgenMinMAF \n",
    "    --bgenMinINFO $bgenMinINFO \n",
    "    --job_size $lmm_job_size\n",
    "\"\"\"\n",
    "\n",
    "sos run ../workflow/Get_Job_Script.ipynb farnam \\\n",
    "    --template-file $tpl_file \\\n",
    "    --workflow-file $lmm_sos \\\n",
    "    --to-script $lmm_sbatch \\\n",
    "    --args \"$lmm_args\""
   ]
  },
  {
   "cell_type": "markdown",
   "metadata": {
    "kernel": "Bash"
   },
   "source": [
    "### LD clumping job"
   ]
  },
  {
   "cell_type": "code",
   "execution_count": 9,
   "metadata": {
    "kernel": "Bash"
   },
   "outputs": [
    {
     "name": "stdout",
     "output_type": "stream",
     "text": [
      "INFO: Running \u001b[32mfarnam\u001b[0m: Configuration for Yale `farnam` cluster\n",
      "INFO: \u001b[32mfarnam\u001b[0m is \u001b[32mcompleted\u001b[0m.\n",
      "INFO: \u001b[32mfarnam\u001b[0m output:   \u001b[32m../output/2020-07-14_INT-BMI_ldclumping.sbatch\u001b[0m\n",
      "INFO: Workflow farnam (ID=c64fee76decf1496) is executed successfully with 1 completed step.\n"
     ]
    }
   ],
   "source": [
    "clumping_args=\"\"\"default \n",
    "    --cwd $clumping_dir \n",
    "    --bfile $bfile \n",
    "    --bgenFile $bgenFile\n",
    "    --bfile_ref $bfile_ref\n",
    "    --sampleFile $sampleFile \n",
    "    --sumstatsFiles $sumstatsFiles \n",
    "    --unrelated_samples $unrelated_samples \n",
    "    --ld_sample_size $ld_sample_size \n",
    "    --clump_field $clump_field\n",
    "    --clump_p1 $clump_p1 \n",
    "    --clump_p2 $clump_p2 \n",
    "    --clump_r2 $clump_r2 \n",
    "    --clump_kb $clump_kb \n",
    "    --clump_annotate $clump_annotate \n",
    "    --numThreads $numThreads \n",
    "    --job_size $clump_job_size\n",
    "\"\"\"\n",
    "\n",
    "sos run ../workflow/Get_Job_Script.ipynb farnam \\\n",
    "    --template-file $tpl_file \\\n",
    "    --workflow-file $clumping_sos \\\n",
    "    --to-script $clumping_sbatch \\\n",
    "    --args \"$clumping_args\""
   ]
  },
  {
   "cell_type": "markdown",
   "metadata": {
    "kernel": "Bash"
   },
   "source": [
    "#### LD clumping for two phenotypes"
   ]
  },
  {
   "cell_type": "code",
   "execution_count": 2,
   "metadata": {
    "kernel": "Bash"
   },
   "outputs": [
    {
     "name": "stdout",
     "output_type": "stream",
     "text": [
      "INFO: Running \u001b[32mfarnam\u001b[0m: Configuration for Yale `farnam` cluster\n",
      "INFO: \u001b[32mfarnam\u001b[0m (index=0) is \u001b[32mignored\u001b[0m due to saved signature\n",
      "INFO: \u001b[32mfarnam\u001b[0m output:   \u001b[32m../output/062420-sos-INT-BMI_asthma-ldclumping.sbatch\u001b[0m\n",
      "INFO: Workflow farnam (ID=a83111c4b422b5b6) is ignored with 1 ignored step.\n"
     ]
    }
   ],
   "source": [
    "# Set the bash variables \n",
    "tpl_file=../farnam.yml\n",
    "clumping_dir=~/scratch60/plink-clumping\n",
    "clumping_sos=../workflow/LD_Clumping.ipynb\n",
    "clumping_sbatch=../output/062420-INT-BMI_asthma-ldclumping.sbatch\n",
    "##\n",
    "bfile=/SAY/dbgapstg/scratch/UKBiobank/genotype_files/pleiotropy_geneticfiles/UKB_Caucasians_phenotypeindepqc120319_updated020720removedwithdrawnindiv.bed\n",
    "bgenFile=`echo /SAY/dbgapstg/scratch/UKBiobank/genotype_files/ukb39554_imputeddataset/ukb_imp_chr{1..22}_v3.bgen`\n",
    "sampleFile=/SAY/dbgapstg/scratch/UKBiobank/genotype_files/ukb39554_imputeddataset/ukb32285_imputedindiv.sample\n",
    "sumstatsFiles=`echo /home/dc2325/scratch60/plink-clumping/*.sumstats.gz`\n",
    "unrelated_samples=/SAY/dbgapstg/scratch/UKBiobank/genotype_files/pleiotropy_geneticfiles/unrelated_n307259/UKB_unrelatedcauc_phenotypes_asthmat2dbmiwaisthip_agesex_waisthipratio_040620\n",
    "clump_field=P\n",
    "\n",
    "clumping_args=\"\"\"default \n",
    "    --cwd $clumping_dir \n",
    "    --bfile $bfile \n",
    "    --bgenFile $bgenFile \n",
    "    --sampleFile $sampleFile \n",
    "    --sumstatsFiles $sumstatsFiles \n",
    "    --unrelated_samples $unrelated_samples \n",
    "    --ld_sample_size $ld_sample_size \n",
    "    --clump_field $clump_field\n",
    "    --clump_p1 $clump_p1 \n",
    "    --clump_p2 $clump_p2 \n",
    "    --clump_r2 $clump_r2 \n",
    "    --clump_kb $clump_kb \n",
    "    --clump_annotate $clump_annotate \n",
    "    --numThreads $numThreads \n",
    "    --job_size $clump_job_size\n",
    "\"\"\"\n",
    "\n",
    "#Running the LDclumping workflow for INT-BMI trait\n",
    "\n",
    "sos run ../workflow/Get_Job_Script.ipynb farnam \\\n",
    "    --template-file $tpl_file \\\n",
    "    --workflow-file $clumping_sos \\\n",
    "    --to-script $clumping_sbatch \\\n",
    "    --args \"$clumping_args\""
   ]
  },
  {
   "cell_type": "markdown",
   "metadata": {
    "kernel": "Bash"
   },
   "source": [
    "### Region extract job\n",
    "\n",
    "If you think it is too messy to define everything upfront you can also do it right here:"
   ]
  },
  {
   "cell_type": "code",
   "execution_count": 4,
   "metadata": {
    "kernel": "Bash"
   },
   "outputs": [
    {
     "name": "stdout",
     "output_type": "stream",
     "text": [
      "INFO: Running \u001b[32mfarnam\u001b[0m: \n",
      "INFO: \u001b[32mfarnam\u001b[0m (index=0) is \u001b[32mignored\u001b[0m due to saved signature\n",
      "INFO: \u001b[32mfarnam\u001b[0m output:   \u001b[32m../output/062320-sos-INT-BMI-region.sbatch\u001b[0m\n",
      "INFO: Workflow farnam (ID=4b23d355e0bc61e9) is ignored with 1 ignored step.\n"
     ]
    }
   ],
   "source": [
    "extract_args=\"\"\"default\n",
    "    --cwd $extract_dir\n",
    "    --region-file $region_file\n",
    "    --pheno-path $pheno_path\n",
    "    --geno-path $geno_path\n",
    "    --bgen-sample-path $bgen_sample_file\n",
    "    --sumstats-path $sumstats_path\n",
    "    --format-config-path $format_config_path\n",
    "    --unrelated-samples $unrelated_samples\n",
    "\"\"\"\n",
    "\n",
    "sos run ../workflow/Get_Job_Script.ipynb farnam \\\n",
    "    --template-file $tpl_file \\\n",
    "    --workflow-file $extract_sos \\\n",
    "    --to-script $extract_sbatch \\\n",
    "    --args \"$extract_args\""
   ]
  },
  {
   "cell_type": "markdown",
   "metadata": {
    "kernel": "Bash"
   },
   "source": [
    "#### Region extract for LD clump BMI and asthma"
   ]
  },
  {
   "cell_type": "code",
   "execution_count": null,
   "metadata": {
    "kernel": "SoS"
   },
   "outputs": [],
   "source": [
    "tpl_file=../farnam.yml\n",
    "extract_dir=~/scratch60/region_extract\n",
    "extract_sos=../workflow/Region_Extraction.ipynb\n",
    "extract_sbatch=../output/070120-INT-BMI-region.sbatch\n",
    "format_config_path=~/project/UKBB_GWAS_DEV/data/boltlmm_template.yml\n",
    "\n",
    "##\n",
    "region_file=~/scratch60/plink-clumping/asthma.sumstats_INT_BMI.sumstats.clumped_region\n",
    "pheno_path=/SAY/dbgapstg/scratch/UKBiobank/phenotype_files/pleiotropy_R01/phenotypesforanalysis/normalized_phenotypes/UKB_caucasians_BMIwaisthip_AsthmaAndT2D_INT-BMI_withagesex_041720\n",
    "geno_path=~/scratch60/plink-clumping/chr7_region/bgenfilepath.txt\n",
    "bgen_sample_file=/SAY/dbgapstg/scratch/UKBiobank/genotype_files/ukb39554_imputeddataset/ukb32285_imputedindiv.sample\n",
    "sumstats_path=/SAY/dbgapstg/scratch/UKBiobank/results/BOLTLMM_results/results_imputed_data/INT-BMI/ukb_imp_v3.UKB_caucasians_BMIwaisthip_AsthmaAndT2D_INT-BMI_withagesex_041720.BoltLMM.snp_stats.all_chr.gz\n",
    "unrelated_samples=/SAY/dbgapstg/scratch/UKBiobank/genotype_files/pleiotropy_geneticfiles/unrelated_n307259/UKB_unrelatedcauc_phenotypes_asthmat2dbmiwaisthip_agesex_waisthipratio_040620\n",
    "extract_job_size=10\n",
    "\n",
    "\n",
    "extract_args=\"\"\"default\n",
    "    --cwd $extract_dir\n",
    "    --region-file $region_file\n",
    "    --pheno-path $pheno_path\n",
    "    --geno-path $geno_path\n",
    "    --bgen-sample-path $bgen_sample_file\n",
    "    --sumstats-path $sumstats_path\n",
    "    --format-config-path $format_config_path\n",
    "    --unrelated-samples $unrelated_samples\n",
    "\"\"\"\n",
    "\n",
    "sos run ../workflow/Get_Job_Script.ipynb farnam \\\n",
    "    --template-file $tpl_file \\\n",
    "    --workflow-file $extract_sos \\\n",
    "    --to-script $extract_sbatch \\\n",
    "    --args \"$extract_args\""
   ]
  }
 ],
 "metadata": {
  "kernelspec": {
   "display_name": "SoS",
   "language": "sos",
   "name": "sos"
  },
  "language_info": {
   "codemirror_mode": "sos",
   "file_extension": ".sos",
   "mimetype": "text/x-sos",
   "name": "sos",
   "nbconvert_exporter": "sos_notebook.converter.SoS_Exporter",
   "pygments_lexer": "sos"
  },
  "sos": {
   "kernels": [
    [
     "Bash",
     "bash",
     "Bash",
     "#E6EEFF",
     "shell"
    ],
    [
     "SoS",
     "sos",
     "",
     "",
     "sos"
    ]
   ],
   "version": "0.21.12"
  }
 },
 "nbformat": 4,
 "nbformat_minor": 4
}
