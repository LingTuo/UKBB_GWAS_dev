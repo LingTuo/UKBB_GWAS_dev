{
 "cells": [
  {
   "cell_type": "markdown",
   "metadata": {
    "kernel": "SoS"
   },
   "source": [
    "## Data analysis\n",
    "\n",
    "**FIXME: Diana, I have moved / rewritten most of the useful codes to the actual LMM analysis pipeline. Please salvage what you need here and try to build them to the pipeline -- after you complete MWE for fastGWA and SAIGE**"
   ]
  },
  {
   "cell_type": "markdown",
   "metadata": {
    "kernel": "SoS"
   },
   "source": [
    "Pipeline to process the output files from the association results and analyze summary statistics"
   ]
  },
  {
   "cell_type": "markdown",
   "metadata": {
    "kernel": "SoS"
   },
   "source": [
    "## Running sos notebook\n",
    "\n",
    "On the Yale Farnam cluster,\n",
    "\n",
    "\n",
    "On a local computer with for example 8 threads,\n",
    "\n",
    "```\n",
    "sos run ~/project/UKBB_GWAS_DEV/postprocessing.ipynb -q none -j 8\n",
    "```"
   ]
  },
  {
   "cell_type": "markdown",
   "metadata": {
    "kernel": "SoS"
   },
   "source": [
    "## Input files\n",
    "\n",
    "### BOLT-LMM\n",
    "\n",
    "The input files for this process are the ones created after running the `BoltLMM.ipynb` notebook that should be the following (example for INT-BMI):\n",
    "\n",
    "* ukb_imp_chr{1:22}_v3.UKB_caucasians_BMIwaisthip_AsthmaAndT2D_INT-BMI_withagesex_041720.boltlmm.snp_stats.gz (these are the association results for the bgen genotypes)\n",
    "* ukb_imp_chr{1:22}_v3.UKB_caucasians_BMIwaisthip_AsthmaAndT2D_INT-BMI_withagesex_041720.boltlmm.stats.gz (take into account that the 22 files generated in this step will have the same information, that is the association results for the hard called genotypes - PLINK genotypes)\n",
    "* ukb_imp_chr{1:22}_v3.UKB_caucasians_BMIwaisthip_AsthmaAndT2D_INT-BMI_withagesex_041720.boltlmm.snp_stats.stderr\n",
    "* ukb_imp_chr{1:22}_v3.UKB_caucasians_BMIwaisthip_AsthmaAndT2D_INT-BMI_withagesex_041720.boltlmm.snp_stats.stdout\n",
    "\n",
    "### FastGWA\n",
    "\n",
    "The input files for this process are the ones created after running the `fastGWA.ipynb` notebook and should be the following:\n",
    "\n",
    "* bgenFile_chr{1:22}.TraitName.fastGWA (these are the association results for the bgen genotypes)\n",
    "* bgenFile_chr{1:22}.TraitName.log\n"
   ]
  },
  {
   "cell_type": "markdown",
   "metadata": {
    "kernel": "SoS"
   },
   "source": [
    "### Step 1: Merge the summary statistics generated during the association analysis of the imputed variants"
   ]
  },
  {
   "cell_type": "code",
   "execution_count": 92,
   "metadata": {
    "kernel": "SoS"
   },
   "outputs": [],
   "source": [
    "# Merge all the bgen summary statistics\n",
    "[merge_imputed]\n",
    "input: snp_stats_file\n",
    "output: f'{cwd}/{bgen_sumstats}.gz'\n",
    "python: expand=True\n",
    "    import gzip\n",
    "    with gzip.open ('{_output}', 'wt') as outfile:\n",
    "        with gzip.open({_input[0]:r}) as f:\n",
    "            for line in f:\n",
    "                outfile.write(line.decode('utf-8'))\n",
    "            for files in [{_input:r,}][1:]:\n",
    "                with gzip.open(files) as f:\n",
    "                    for line in f:\n",
    "                        if not line.startswith(b'SNP'):\n",
    "                            outfile.write(line.decode('utf-8'))\n",
    "    sum(1 for i in gzip.open('{_output}', 'r'))"
   ]
  },
  {
   "cell_type": "markdown",
   "metadata": {
    "kernel": "SoS"
   },
   "source": [
    "Awk to find the minimum and maximum values in a specific column"
   ]
  },
  {
   "cell_type": "code",
   "execution_count": null,
   "metadata": {
    "kernel": "SoS"
   },
   "outputs": [],
   "source": [
    "#awk '(NR==1){Min=$3;Max=$3};(NR>=3){if(Min>$3) Min=$3;if(Max<$3) Max=$3} END {printf \"The Min is %d ,Max is %d\",Min,Max}' ukb_mfi_chr1_v3.txt"
   ]
  },
  {
   "cell_type": "markdown",
   "metadata": {
    "kernel": "SoS"
   },
   "source": [
    "Show the lowest p-values"
   ]
  },
  {
   "cell_type": "code",
   "execution_count": null,
   "metadata": {
    "kernel": "SoS"
   },
   "outputs": [],
   "source": [
    "#gzcat Test_INT-BMI.txt.gz | awk -F \"\\t\" '{ if ($16 <= 5e-8) { print } }'| sort -g | head -n 5"
   ]
  },
  {
   "cell_type": "markdown",
   "metadata": {
    "kernel": "SoS"
   },
   "source": [
    "To find the overlapping variants between dataset 1 and dataset 2"
   ]
  },
  {
   "cell_type": "code",
   "execution_count": null,
   "metadata": {
    "kernel": "Bash"
   },
   "outputs": [],
   "source": [
    "#awk 'NR==FNR {FILE1[$1]=$0; next} ($1 in FILE1) {print $0}' dataset2 dataset1 > dataset1_subset_overlapping_dataset2"
   ]
  },
  {
   "cell_type": "markdown",
   "metadata": {
    "kernel": "Bash"
   },
   "source": [
    "The output file .clumped will contain the index SNPs for each LD block in column 3. To extract this column and create a vector to use for highlighting in the Manhattan Plot"
   ]
  },
  {
   "cell_type": "markdown",
   "metadata": {
    "kernel": "Bash"
   },
   "source": [
    "```\n",
    "awk '{ print $3 }' \\\n",
    "Test_INT-BMI.txt.clumped \\\n",
    "> dataset1_subset_overlapping_dataset2_clump1.SNPs\n",
    "```"
   ]
  },
  {
   "cell_type": "markdown",
   "metadata": {
    "kernel": "SoS"
   },
   "source": [
    "### Output some summary statistics from the phenotypic data\n",
    "* Number of cases\n",
    "* Number of controls"
   ]
  },
  {
   "cell_type": "code",
   "execution_count": null,
   "metadata": {
    "kernel": "SoS"
   },
   "outputs": [],
   "source": [
    "[phenotype_summary]\n",
    "input: phenoFile\n",
    "output: None\n",
    "bash: expand=True\n",
    "    # Number of controls\n",
    "    awk '{ if ($5 == 0) { print }' {_input} | wc -l \n",
    "    # Number of cases\n",
    "    awk '{ if ($5 == 1) { print }' {_input} | wc -l"
   ]
  }
 ],
 "metadata": {
  "kernelspec": {
   "display_name": "SoS",
   "language": "sos",
   "name": "sos"
  },
  "language_info": {
   "codemirror_mode": "sos",
   "file_extension": ".sos",
   "mimetype": "text/x-sos",
   "name": "sos",
   "nbconvert_exporter": "sos_notebook.converter.SoS_Exporter",
   "pygments_lexer": "sos"
  },
  "sos": {
   "kernels": [
    [
     "Bash",
     "bash",
     "Bash",
     "#E6EEFF",
     ""
    ],
    [
     "SoS",
     "sos",
     "",
     "",
     "sos"
    ]
   ],
   "version": "0.21.7"
  }
 },
 "nbformat": 4,
 "nbformat_minor": 4
}
