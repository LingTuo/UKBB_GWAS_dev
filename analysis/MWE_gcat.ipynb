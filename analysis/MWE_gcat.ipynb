{
 "cells": [
  {
   "cell_type": "markdown",
   "metadata": {
    "kernel": "Bash"
   },
   "source": [
    "## Filter UKBB samples and create reference file for GCTA"
   ]
  },
  {
   "cell_type": "code",
   "execution_count": 7,
   "metadata": {
    "kernel": "Bash"
   },
   "outputs": [
    {
     "name": "stdout",
     "output_type": "stream",
     "text": [
      "INFO: Running \u001b[32mfarnam\u001b[0m: Configuration for Yale `farnam` cluster\n",
      "INFO: \u001b[32mfarnam\u001b[0m is \u001b[32mcompleted\u001b[0m.\n",
      "INFO: \u001b[32mfarnam\u001b[0m output:   \u001b[32m../output/2020-11-05_qctool_ref.sbatch\u001b[0m\n",
      "INFO: Workflow farnam (ID=234ce5fa57e27fd6) is executed successfully with 1 completed step.\n",
      "\n"
     ]
    }
   ],
   "source": [
    "cwd=/home/dc2325/scratch60/refence_samples\n",
    "sampleFile=/gpfs/gibbs/pi/dewan/data/UKBiobank/genotype_files/ukb39554_imputeddataset/ukb32285_imputedindiv.sample\n",
    "bgenFile=`echo /gpfs/gibbs/pi/dewan/data/UKBiobank/genotype_files/ukb39554_imputeddataset/ukb_imp_chr{1..22}_v3.bgen`\n",
    "famFile=/gpfs/gibbs/pi/dewan/data/UKBiobank/genotype_files/pleiotropy_geneticfiles/UKB_Caucasians_phenotypeindepqc120319_updated082020removedwithdrawnindiv.fam\n",
    "job_size=1\n",
    "numThreads=22\n",
    "qctool_ukbb=../output/$(date +\"%Y-%m-%d\")_qctool_ref.sbatch\n",
    "qctool_sos=/home/dc2325/project/UKBB_GWAS_dev/Reference_sampleUKBB.ipynb\n",
    "tpl_file=../farnam.yml\n",
    "container_lmm=/gpfs/gibbs/pi/dewan/data/UKBiobank/lmm.sif\n",
    "\n",
    "qctool_args=\"\"\"default\n",
    "    --cwd $cwd \n",
    "    --sampleFile $sampleFile\n",
    "    --bgenFile $bgenFile \n",
    "    --famFile $famFile \n",
    "    --numThreads $numThreads \n",
    "    --job_size $job_size\n",
    "    --container_lmm $container_lmm\n",
    "\"\"\"\n",
    "\n",
    "sos run ~/project/bioworkflows/GWAS/Get_Job_Script.ipynb farnam \\\n",
    "    --template-file $tpl_file \\\n",
    "    --workflow-file $qctool_sos \\\n",
    "    --to-script $qctool_ukbb \\\n",
    "    --args \"$qctool_args\""
   ]
  },
  {
   "cell_type": "code",
   "execution_count": 12,
   "metadata": {
    "kernel": "Bash"
   },
   "outputs": [
    {
     "name": "stdout",
     "output_type": "stream",
     "text": [
      "INFO: Checking \u001b[32mdefault_2\u001b[0m: Filter samples from bgen files\n",
      "HINT: /bin/bash SCRIPT\n",
      "qctool \\\n",
      "-g /gpfs/gibbs/pi/dewan/data/UKBiobank/genotype_files/ukb39554_imputeddataset/ukb_imp_chr1_v3.bgen \\\n",
      "-s /gpfs/gibbs/pi/dewan/data/UKBiobank/genotype_files/ukb39554_imputeddataset/ukb32285_imputedindiv.sample \\\n",
      "-incl-samples /home/dc2325/scratch60/refence_samples/UKB_Caucasians_phenotypeindepqc120319_updated082020removedwithdrawnindiv.10000ind_ref \\\n",
      "-og /home/dc2325/scratch60/refence_samples/ukb_imp_chr1_v3.10000ind_ref \\\n",
      "-os ukb32285_imputedindiv.10000ind_ref.sample \\\n",
      "-ofiletype binary_ped\n",
      "\n",
      "\n",
      "\n",
      "INFO: \u001b[32mdefault_2\u001b[0m (index=0) is \u001b[32mcompleted\u001b[0m.\n",
      "HINT: /bin/bash SCRIPT\n",
      "qctool \\\n",
      "-g /gpfs/gibbs/pi/dewan/data/UKBiobank/genotype_files/ukb39554_imputeddataset/ukb_imp_chr2_v3.bgen \\\n",
      "-s /gpfs/gibbs/pi/dewan/data/UKBiobank/genotype_files/ukb39554_imputeddataset/ukb32285_imputedindiv.sample \\\n",
      "-incl-samples /home/dc2325/scratch60/refence_samples/UKB_Caucasians_phenotypeindepqc120319_updated082020removedwithdrawnindiv.10000ind_ref \\\n",
      "-og /home/dc2325/scratch60/refence_samples/ukb_imp_chr2_v3.10000ind_ref \\\n",
      "-os ukb32285_imputedindiv.10000ind_ref.sample \\\n",
      "-ofiletype binary_ped\n",
      "\n",
      "\n",
      "\n",
      "INFO: \u001b[32mdefault_2\u001b[0m (index=1) is \u001b[32mcompleted\u001b[0m.\n",
      "HINT: /bin/bash SCRIPT\n",
      "qctool \\\n",
      "-g /gpfs/gibbs/pi/dewan/data/UKBiobank/genotype_files/ukb39554_imputeddataset/ukb_imp_chr3_v3.bgen \\\n",
      "-s /gpfs/gibbs/pi/dewan/data/UKBiobank/genotype_files/ukb39554_imputeddataset/ukb32285_imputedindiv.sample \\\n",
      "-incl-samples /home/dc2325/scratch60/refence_samples/UKB_Caucasians_phenotypeindepqc120319_updated082020removedwithdrawnindiv.10000ind_ref \\\n",
      "-og /home/dc2325/scratch60/refence_samples/ukb_imp_chr3_v3.10000ind_ref \\\n",
      "-os ukb32285_imputedindiv.10000ind_ref.sample \\\n",
      "-ofiletype binary_ped\n",
      "\n",
      "\n",
      "\n",
      "INFO: \u001b[32mdefault_2\u001b[0m (index=2) is \u001b[32mcompleted\u001b[0m.\n",
      "HINT: /bin/bash SCRIPT\n",
      "qctool \\\n",
      "-g /gpfs/gibbs/pi/dewan/data/UKBiobank/genotype_files/ukb39554_imputeddataset/ukb_imp_chr4_v3.bgen \\\n",
      "-s /gpfs/gibbs/pi/dewan/data/UKBiobank/genotype_files/ukb39554_imputeddataset/ukb32285_imputedindiv.sample \\\n",
      "-incl-samples /home/dc2325/scratch60/refence_samples/UKB_Caucasians_phenotypeindepqc120319_updated082020removedwithdrawnindiv.10000ind_ref \\\n",
      "-og /home/dc2325/scratch60/refence_samples/ukb_imp_chr4_v3.10000ind_ref \\\n",
      "-os ukb32285_imputedindiv.10000ind_ref.sample \\\n",
      "-ofiletype binary_ped\n",
      "\n",
      "\n",
      "\n",
      "INFO: \u001b[32mdefault_2\u001b[0m (index=3) is \u001b[32mcompleted\u001b[0m.\n",
      "HINT: /bin/bash SCRIPT\n",
      "qctool \\\n",
      "-g /gpfs/gibbs/pi/dewan/data/UKBiobank/genotype_files/ukb39554_imputeddataset/ukb_imp_chr5_v3.bgen \\\n",
      "-s /gpfs/gibbs/pi/dewan/data/UKBiobank/genotype_files/ukb39554_imputeddataset/ukb32285_imputedindiv.sample \\\n",
      "-incl-samples /home/dc2325/scratch60/refence_samples/UKB_Caucasians_phenotypeindepqc120319_updated082020removedwithdrawnindiv.10000ind_ref \\\n",
      "-og /home/dc2325/scratch60/refence_samples/ukb_imp_chr5_v3.10000ind_ref \\\n",
      "-os ukb32285_imputedindiv.10000ind_ref.sample \\\n",
      "-ofiletype binary_ped\n",
      "\n",
      "\n",
      "\n",
      "INFO: \u001b[32mdefault_2\u001b[0m (index=4) is \u001b[32mcompleted\u001b[0m.\n",
      "HINT: /bin/bash SCRIPT\n",
      "qctool \\\n",
      "-g /gpfs/gibbs/pi/dewan/data/UKBiobank/genotype_files/ukb39554_imputeddataset/ukb_imp_chr6_v3.bgen \\\n",
      "-s /gpfs/gibbs/pi/dewan/data/UKBiobank/genotype_files/ukb39554_imputeddataset/ukb32285_imputedindiv.sample \\\n",
      "-incl-samples /home/dc2325/scratch60/refence_samples/UKB_Caucasians_phenotypeindepqc120319_updated082020removedwithdrawnindiv.10000ind_ref \\\n",
      "-og /home/dc2325/scratch60/refence_samples/ukb_imp_chr6_v3.10000ind_ref \\\n",
      "-os ukb32285_imputedindiv.10000ind_ref.sample \\\n",
      "-ofiletype binary_ped\n",
      "\n",
      "\n",
      "\n",
      "INFO: \u001b[32mdefault_2\u001b[0m (index=5) is \u001b[32mcompleted\u001b[0m.\n",
      "HINT: /bin/bash SCRIPT\n",
      "qctool \\\n",
      "-g /gpfs/gibbs/pi/dewan/data/UKBiobank/genotype_files/ukb39554_imputeddataset/ukb_imp_chr7_v3.bgen \\\n",
      "-s /gpfs/gibbs/pi/dewan/data/UKBiobank/genotype_files/ukb39554_imputeddataset/ukb32285_imputedindiv.sample \\\n",
      "-incl-samples /home/dc2325/scratch60/refence_samples/UKB_Caucasians_phenotypeindepqc120319_updated082020removedwithdrawnindiv.10000ind_ref \\\n",
      "-og /home/dc2325/scratch60/refence_samples/ukb_imp_chr7_v3.10000ind_ref \\\n",
      "-os ukb32285_imputedindiv.10000ind_ref.sample \\\n",
      "-ofiletype binary_ped\n",
      "\n",
      "\n",
      "\n",
      "INFO: \u001b[32mdefault_2\u001b[0m (index=6) is \u001b[32mcompleted\u001b[0m.\n",
      "HINT: /bin/bash SCRIPT\n",
      "qctool \\\n",
      "-g /gpfs/gibbs/pi/dewan/data/UKBiobank/genotype_files/ukb39554_imputeddataset/ukb_imp_chr8_v3.bgen \\\n",
      "-s /gpfs/gibbs/pi/dewan/data/UKBiobank/genotype_files/ukb39554_imputeddataset/ukb32285_imputedindiv.sample \\\n",
      "-incl-samples /home/dc2325/scratch60/refence_samples/UKB_Caucasians_phenotypeindepqc120319_updated082020removedwithdrawnindiv.10000ind_ref \\\n",
      "-og /home/dc2325/scratch60/refence_samples/ukb_imp_chr8_v3.10000ind_ref \\\n",
      "-os ukb32285_imputedindiv.10000ind_ref.sample \\\n",
      "-ofiletype binary_ped\n",
      "\n",
      "\n",
      "\n",
      "INFO: \u001b[32mdefault_2\u001b[0m (index=7) is \u001b[32mcompleted\u001b[0m.\n",
      "HINT: /bin/bash SCRIPT\n",
      "qctool \\\n",
      "-g /gpfs/gibbs/pi/dewan/data/UKBiobank/genotype_files/ukb39554_imputeddataset/ukb_imp_chr9_v3.bgen \\\n",
      "-s /gpfs/gibbs/pi/dewan/data/UKBiobank/genotype_files/ukb39554_imputeddataset/ukb32285_imputedindiv.sample \\\n",
      "-incl-samples /home/dc2325/scratch60/refence_samples/UKB_Caucasians_phenotypeindepqc120319_updated082020removedwithdrawnindiv.10000ind_ref \\\n",
      "-og /home/dc2325/scratch60/refence_samples/ukb_imp_chr9_v3.10000ind_ref \\\n",
      "-os ukb32285_imputedindiv.10000ind_ref.sample \\\n",
      "-ofiletype binary_ped\n",
      "\n",
      "\n",
      "\n",
      "INFO: \u001b[32mdefault_2\u001b[0m (index=8) is \u001b[32mcompleted\u001b[0m.\n",
      "HINT: /bin/bash SCRIPT\n",
      "qctool \\\n",
      "-g /gpfs/gibbs/pi/dewan/data/UKBiobank/genotype_files/ukb39554_imputeddataset/ukb_imp_chr10_v3.bgen \\\n",
      "-s /gpfs/gibbs/pi/dewan/data/UKBiobank/genotype_files/ukb39554_imputeddataset/ukb32285_imputedindiv.sample \\\n",
      "-incl-samples /home/dc2325/scratch60/refence_samples/UKB_Caucasians_phenotypeindepqc120319_updated082020removedwithdrawnindiv.10000ind_ref \\\n",
      "-og /home/dc2325/scratch60/refence_samples/ukb_imp_chr10_v3.10000ind_ref \\\n",
      "-os ukb32285_imputedindiv.10000ind_ref.sample \\\n",
      "-ofiletype binary_ped\n",
      "\n",
      "\n",
      "\n",
      "INFO: \u001b[32mdefault_2\u001b[0m (index=9) is \u001b[32mcompleted\u001b[0m.\n",
      "HINT: /bin/bash SCRIPT\n",
      "qctool \\\n",
      "-g /gpfs/gibbs/pi/dewan/data/UKBiobank/genotype_files/ukb39554_imputeddataset/ukb_imp_chr11_v3.bgen \\\n",
      "-s /gpfs/gibbs/pi/dewan/data/UKBiobank/genotype_files/ukb39554_imputeddataset/ukb32285_imputedindiv.sample \\\n",
      "-incl-samples /home/dc2325/scratch60/refence_samples/UKB_Caucasians_phenotypeindepqc120319_updated082020removedwithdrawnindiv.10000ind_ref \\\n",
      "-og /home/dc2325/scratch60/refence_samples/ukb_imp_chr11_v3.10000ind_ref \\\n",
      "-os ukb32285_imputedindiv.10000ind_ref.sample \\\n",
      "-ofiletype binary_ped\n",
      "\n",
      "\n",
      "\n",
      "INFO: \u001b[32mdefault_2\u001b[0m (index=10) is \u001b[32mcompleted\u001b[0m.\n",
      "HINT: /bin/bash SCRIPT\n",
      "qctool \\\n",
      "-g /gpfs/gibbs/pi/dewan/data/UKBiobank/genotype_files/ukb39554_imputeddataset/ukb_imp_chr12_v3.bgen \\\n",
      "-s /gpfs/gibbs/pi/dewan/data/UKBiobank/genotype_files/ukb39554_imputeddataset/ukb32285_imputedindiv.sample \\\n",
      "-incl-samples /home/dc2325/scratch60/refence_samples/UKB_Caucasians_phenotypeindepqc120319_updated082020removedwithdrawnindiv.10000ind_ref \\\n",
      "-og /home/dc2325/scratch60/refence_samples/ukb_imp_chr12_v3.10000ind_ref \\\n",
      "-os ukb32285_imputedindiv.10000ind_ref.sample \\\n",
      "-ofiletype binary_ped\n",
      "\n",
      "\n",
      "\n",
      "INFO: \u001b[32mdefault_2\u001b[0m (index=11) is \u001b[32mcompleted\u001b[0m.\n",
      "HINT: /bin/bash SCRIPT\n",
      "qctool \\\n",
      "-g /gpfs/gibbs/pi/dewan/data/UKBiobank/genotype_files/ukb39554_imputeddataset/ukb_imp_chr13_v3.bgen \\\n",
      "-s /gpfs/gibbs/pi/dewan/data/UKBiobank/genotype_files/ukb39554_imputeddataset/ukb32285_imputedindiv.sample \\\n",
      "-incl-samples /home/dc2325/scratch60/refence_samples/UKB_Caucasians_phenotypeindepqc120319_updated082020removedwithdrawnindiv.10000ind_ref \\\n",
      "-og /home/dc2325/scratch60/refence_samples/ukb_imp_chr13_v3.10000ind_ref \\\n",
      "-os ukb32285_imputedindiv.10000ind_ref.sample \\\n",
      "-ofiletype binary_ped\n",
      "\n",
      "\n",
      "\n",
      "INFO: \u001b[32mdefault_2\u001b[0m (index=12) is \u001b[32mcompleted\u001b[0m.\n",
      "HINT: /bin/bash SCRIPT\n",
      "qctool \\\n",
      "-g /gpfs/gibbs/pi/dewan/data/UKBiobank/genotype_files/ukb39554_imputeddataset/ukb_imp_chr14_v3.bgen \\\n",
      "-s /gpfs/gibbs/pi/dewan/data/UKBiobank/genotype_files/ukb39554_imputeddataset/ukb32285_imputedindiv.sample \\\n",
      "-incl-samples /home/dc2325/scratch60/refence_samples/UKB_Caucasians_phenotypeindepqc120319_updated082020removedwithdrawnindiv.10000ind_ref \\\n",
      "-og /home/dc2325/scratch60/refence_samples/ukb_imp_chr14_v3.10000ind_ref \\\n",
      "-os ukb32285_imputedindiv.10000ind_ref.sample \\\n",
      "-ofiletype binary_ped\n",
      "\n",
      "\n",
      "\n",
      "INFO: \u001b[32mdefault_2\u001b[0m (index=13) is \u001b[32mcompleted\u001b[0m.\n",
      "HINT: /bin/bash SCRIPT\n",
      "qctool \\\n",
      "-g /gpfs/gibbs/pi/dewan/data/UKBiobank/genotype_files/ukb39554_imputeddataset/ukb_imp_chr15_v3.bgen \\\n",
      "-s /gpfs/gibbs/pi/dewan/data/UKBiobank/genotype_files/ukb39554_imputeddataset/ukb32285_imputedindiv.sample \\\n",
      "-incl-samples /home/dc2325/scratch60/refence_samples/UKB_Caucasians_phenotypeindepqc120319_updated082020removedwithdrawnindiv.10000ind_ref \\\n",
      "-og /home/dc2325/scratch60/refence_samples/ukb_imp_chr15_v3.10000ind_ref \\\n",
      "-os ukb32285_imputedindiv.10000ind_ref.sample \\\n",
      "-ofiletype binary_ped\n",
      "\n",
      "\n",
      "\n",
      "INFO: \u001b[32mdefault_2\u001b[0m (index=14) is \u001b[32mcompleted\u001b[0m.\n",
      "HINT: /bin/bash SCRIPT\n",
      "qctool \\\n",
      "-g /gpfs/gibbs/pi/dewan/data/UKBiobank/genotype_files/ukb39554_imputeddataset/ukb_imp_chr16_v3.bgen \\\n",
      "-s /gpfs/gibbs/pi/dewan/data/UKBiobank/genotype_files/ukb39554_imputeddataset/ukb32285_imputedindiv.sample \\\n",
      "-incl-samples /home/dc2325/scratch60/refence_samples/UKB_Caucasians_phenotypeindepqc120319_updated082020removedwithdrawnindiv.10000ind_ref \\\n",
      "-og /home/dc2325/scratch60/refence_samples/ukb_imp_chr16_v3.10000ind_ref \\\n",
      "-os ukb32285_imputedindiv.10000ind_ref.sample \\\n",
      "-ofiletype binary_ped\n",
      "\n",
      "\n",
      "\n",
      "INFO: \u001b[32mdefault_2\u001b[0m (index=15) is \u001b[32mcompleted\u001b[0m.\n",
      "HINT: /bin/bash SCRIPT\n",
      "qctool \\\n",
      "-g /gpfs/gibbs/pi/dewan/data/UKBiobank/genotype_files/ukb39554_imputeddataset/ukb_imp_chr17_v3.bgen \\\n",
      "-s /gpfs/gibbs/pi/dewan/data/UKBiobank/genotype_files/ukb39554_imputeddataset/ukb32285_imputedindiv.sample \\\n",
      "-incl-samples /home/dc2325/scratch60/refence_samples/UKB_Caucasians_phenotypeindepqc120319_updated082020removedwithdrawnindiv.10000ind_ref \\\n",
      "-og /home/dc2325/scratch60/refence_samples/ukb_imp_chr17_v3.10000ind_ref \\\n",
      "-os ukb32285_imputedindiv.10000ind_ref.sample \\\n",
      "-ofiletype binary_ped\n",
      "\n",
      "\n",
      "\n",
      "INFO: \u001b[32mdefault_2\u001b[0m (index=16) is \u001b[32mcompleted\u001b[0m.\n",
      "HINT: /bin/bash SCRIPT\n",
      "qctool \\\n",
      "-g /gpfs/gibbs/pi/dewan/data/UKBiobank/genotype_files/ukb39554_imputeddataset/ukb_imp_chr18_v3.bgen \\\n",
      "-s /gpfs/gibbs/pi/dewan/data/UKBiobank/genotype_files/ukb39554_imputeddataset/ukb32285_imputedindiv.sample \\\n",
      "-incl-samples /home/dc2325/scratch60/refence_samples/UKB_Caucasians_phenotypeindepqc120319_updated082020removedwithdrawnindiv.10000ind_ref \\\n",
      "-og /home/dc2325/scratch60/refence_samples/ukb_imp_chr18_v3.10000ind_ref \\\n",
      "-os ukb32285_imputedindiv.10000ind_ref.sample \\\n",
      "-ofiletype binary_ped\n",
      "\n",
      "\n",
      "\n",
      "INFO: \u001b[32mdefault_2\u001b[0m (index=17) is \u001b[32mcompleted\u001b[0m.\n",
      "HINT: /bin/bash SCRIPT\n",
      "qctool \\\n",
      "-g /gpfs/gibbs/pi/dewan/data/UKBiobank/genotype_files/ukb39554_imputeddataset/ukb_imp_chr19_v3.bgen \\\n",
      "-s /gpfs/gibbs/pi/dewan/data/UKBiobank/genotype_files/ukb39554_imputeddataset/ukb32285_imputedindiv.sample \\\n",
      "-incl-samples /home/dc2325/scratch60/refence_samples/UKB_Caucasians_phenotypeindepqc120319_updated082020removedwithdrawnindiv.10000ind_ref \\\n",
      "-og /home/dc2325/scratch60/refence_samples/ukb_imp_chr19_v3.10000ind_ref \\\n",
      "-os ukb32285_imputedindiv.10000ind_ref.sample \\\n",
      "-ofiletype binary_ped\n",
      "\n",
      "\n",
      "\n",
      "INFO: \u001b[32mdefault_2\u001b[0m (index=18) is \u001b[32mcompleted\u001b[0m.\n",
      "HINT: /bin/bash SCRIPT\n",
      "qctool \\\n",
      "-g /gpfs/gibbs/pi/dewan/data/UKBiobank/genotype_files/ukb39554_imputeddataset/ukb_imp_chr20_v3.bgen \\\n",
      "-s /gpfs/gibbs/pi/dewan/data/UKBiobank/genotype_files/ukb39554_imputeddataset/ukb32285_imputedindiv.sample \\\n",
      "-incl-samples /home/dc2325/scratch60/refence_samples/UKB_Caucasians_phenotypeindepqc120319_updated082020removedwithdrawnindiv.10000ind_ref \\\n",
      "-og /home/dc2325/scratch60/refence_samples/ukb_imp_chr20_v3.10000ind_ref \\\n",
      "-os ukb32285_imputedindiv.10000ind_ref.sample \\\n",
      "-ofiletype binary_ped\n",
      "\n",
      "\n",
      "\n",
      "INFO: \u001b[32mdefault_2\u001b[0m (index=19) is \u001b[32mcompleted\u001b[0m.\n",
      "HINT: /bin/bash SCRIPT\n",
      "qctool \\\n",
      "-g /gpfs/gibbs/pi/dewan/data/UKBiobank/genotype_files/ukb39554_imputeddataset/ukb_imp_chr21_v3.bgen \\\n",
      "-s /gpfs/gibbs/pi/dewan/data/UKBiobank/genotype_files/ukb39554_imputeddataset/ukb32285_imputedindiv.sample \\\n",
      "-incl-samples /home/dc2325/scratch60/refence_samples/UKB_Caucasians_phenotypeindepqc120319_updated082020removedwithdrawnindiv.10000ind_ref \\\n",
      "-og /home/dc2325/scratch60/refence_samples/ukb_imp_chr21_v3.10000ind_ref \\\n",
      "-os ukb32285_imputedindiv.10000ind_ref.sample \\\n",
      "-ofiletype binary_ped\n",
      "\n",
      "\n",
      "\n",
      "INFO: \u001b[32mdefault_2\u001b[0m (index=20) is \u001b[32mcompleted\u001b[0m.\n",
      "HINT: /bin/bash SCRIPT\n",
      "qctool \\\n",
      "-g /gpfs/gibbs/pi/dewan/data/UKBiobank/genotype_files/ukb39554_imputeddataset/ukb_imp_chr22_v3.bgen \\\n",
      "-s /gpfs/gibbs/pi/dewan/data/UKBiobank/genotype_files/ukb39554_imputeddataset/ukb32285_imputedindiv.sample \\\n",
      "-incl-samples /home/dc2325/scratch60/refence_samples/UKB_Caucasians_phenotypeindepqc120319_updated082020removedwithdrawnindiv.10000ind_ref \\\n",
      "-og /home/dc2325/scratch60/refence_samples/ukb_imp_chr22_v3.10000ind_ref \\\n",
      "-os ukb32285_imputedindiv.10000ind_ref.sample \\\n",
      "-ofiletype binary_ped\n",
      "\n",
      "\n",
      "\n",
      "INFO: \u001b[32mdefault_2\u001b[0m (index=21) is \u001b[32mcompleted\u001b[0m.\n",
      "INFO: \u001b[32mdefault_2\u001b[0m output:   \u001b[32m/home/dc2325/scratch60/refence_samples/ukb_imp_chr1_v3.10000ind_ref.bim /home/dc2325/scratch60/refence_samples/ukb_imp_chr2_v3.10000ind_ref.bim... (22 items in 22 groups)\u001b[0m\n",
      "INFO: Checking \u001b[32mdefault_1\u001b[0m: Use the most recent genotype file to select 10,000 individuals at random\n",
      "HINT: singularity exec  /gpfs/gibbs/pi/dewan/data/UKBiobank/lmm.sif Rscript /gpfs/ysm/project/dewan/dc2325/UKBB_GWAS_dev/analysis/tmpgdbo3fjo/singularity_run_16735.R\n",
      "library(dplyr)  \n",
      "sample = read.table('/gpfs/gibbs/pi/dewan/data/UKBiobank/genotype_files/pleiotropy_geneticfiles/UKB_Caucasians_phenotypeindepqc120319_updated082020removedwithdrawnindiv.fam', header=F)\n",
      "ref = sample %>%\n",
      "  sample_n(10000) %>%\n",
      "  select(\"V1\")\n",
      "ref = t(ref)\n",
      "write.table(ref, '/home/dc2325/scratch60/refence_samples/UKB_Caucasians_phenotypeindepqc120319_updated082020removedwithdrawnindiv.10000ind_ref', col.name = F, row.names = F)\n",
      "\n",
      "\n",
      "INFO: \u001b[32mdefault_1\u001b[0m is \u001b[32mcompleted\u001b[0m.\n",
      "INFO: \u001b[32mdefault_1\u001b[0m output:   \u001b[32m/home/dc2325/scratch60/refence_samples/UKB_Caucasians_phenotypeindepqc120319_updated082020removedwithdrawnindiv.10000ind_ref\u001b[0m\n",
      "INFO: Workflow default (ID=46c7ffe0f073b145) is tested successfully with 2 completed steps and 23 completed substeps.\n",
      "\n"
     ]
    }
   ],
   "source": [
    "sos dryrun /home/dc2325/project/UKBB_GWAS_dev/Reference_sampleUKBB.ipynb \\\n",
    "    default\\\n",
    "    --cwd /home/dc2325/scratch60/refence_samples \\\n",
    "    --sampleFile /gpfs/gibbs/pi/dewan/data/UKBiobank/genotype_files/ukb39554_imputeddataset/ukb32285_imputedindiv.sample\\\n",
    "    --bgenFile /gpfs/gibbs/pi/dewan/data/UKBiobank/genotype_files/ukb39554_imputeddataset/ukb_imp_chr1_v3.bgen /gpfs/gibbs/pi/dewan/data/UKBiobank/genotype_files/ukb39554_imputeddataset/ukb_imp_chr2_v3.bgen /gpfs/gibbs/pi/dewan/data/UKBiobank/genotype_files/ukb39554_imputeddataset/ukb_imp_chr3_v3.bgen /gpfs/gibbs/pi/dewan/data/UKBiobank/genotype_files/ukb39554_imputeddataset/ukb_imp_chr4_v3.bgen /gpfs/gibbs/pi/dewan/data/UKBiobank/genotype_files/ukb39554_imputeddataset/ukb_imp_chr5_v3.bgen /gpfs/gibbs/pi/dewan/data/UKBiobank/genotype_files/ukb39554_imputeddataset/ukb_imp_chr6_v3.bgen /gpfs/gibbs/pi/dewan/data/UKBiobank/genotype_files/ukb39554_imputeddataset/ukb_imp_chr7_v3.bgen /gpfs/gibbs/pi/dewan/data/UKBiobank/genotype_files/ukb39554_imputeddataset/ukb_imp_chr8_v3.bgen /gpfs/gibbs/pi/dewan/data/UKBiobank/genotype_files/ukb39554_imputeddataset/ukb_imp_chr9_v3.bgen /gpfs/gibbs/pi/dewan/data/UKBiobank/genotype_files/ukb39554_imputeddataset/ukb_imp_chr10_v3.bgen /gpfs/gibbs/pi/dewan/data/UKBiobank/genotype_files/ukb39554_imputeddataset/ukb_imp_chr11_v3.bgen /gpfs/gibbs/pi/dewan/data/UKBiobank/genotype_files/ukb39554_imputeddataset/ukb_imp_chr12_v3.bgen /gpfs/gibbs/pi/dewan/data/UKBiobank/genotype_files/ukb39554_imputeddataset/ukb_imp_chr13_v3.bgen /gpfs/gibbs/pi/dewan/data/UKBiobank/genotype_files/ukb39554_imputeddataset/ukb_imp_chr14_v3.bgen /gpfs/gibbs/pi/dewan/data/UKBiobank/genotype_files/ukb39554_imputeddataset/ukb_imp_chr15_v3.bgen /gpfs/gibbs/pi/dewan/data/UKBiobank/genotype_files/ukb39554_imputeddataset/ukb_imp_chr16_v3.bgen /gpfs/gibbs/pi/dewan/data/UKBiobank/genotype_files/ukb39554_imputeddataset/ukb_imp_chr17_v3.bgen /gpfs/gibbs/pi/dewan/data/UKBiobank/genotype_files/ukb39554_imputeddataset/ukb_imp_chr18_v3.bgen /gpfs/gibbs/pi/dewan/data/UKBiobank/genotype_files/ukb39554_imputeddataset/ukb_imp_chr19_v3.bgen /gpfs/gibbs/pi/dewan/data/UKBiobank/genotype_files/ukb39554_imputeddataset/ukb_imp_chr20_v3.bgen /gpfs/gibbs/pi/dewan/data/UKBiobank/genotype_files/ukb39554_imputeddataset/ukb_imp_chr21_v3.bgen /gpfs/gibbs/pi/dewan/data/UKBiobank/genotype_files/ukb39554_imputeddataset/ukb_imp_chr22_v3.bgen \\\n",
    "    --famFile /gpfs/gibbs/pi/dewan/data/UKBiobank/genotype_files/pleiotropy_geneticfiles/UKB_Caucasians_phenotypeindepqc120319_updated082020removedwithdrawnindiv.fam \\\n",
    "    --numThreads 22 \\\n",
    "    --job_size 1\\\n",
    "    --container_lmm /gpfs/gibbs/pi/dewan/data/UKBiobank/lmm.sif"
   ]
  },
  {
   "cell_type": "code",
   "execution_count": 8,
   "metadata": {
    "kernel": "Bash"
   },
   "outputs": [
    {
     "name": "stdout",
     "output_type": "stream",
     "text": [
      "INFO: Running \u001b[32mgcta_cojo_1\u001b[0m: Select multiple associated SNPs through a stepwise selection procedure or a fixed number of top associated SNPs\n",
      "\u001b[91mERROR\u001b[0m: \u001b[91mgcta_cojo_1 (id=a6c3324297db772c) returns an error.\u001b[0m\n",
      "\u001b[91mERROR\u001b[0m: \u001b[91m[gcta_cojo_1]: [0]: Executing script in Singularity returns an error (exitcode=1, stdout=output/phenotypes_BMI.fastGWA.cojo_slct.stdout).\n",
      "The script has been saved to /gpfs/ysm/project/dewan/dc2325/UKBB_GWAS_dev/analysis/.sos/singularity_run_95742.sh. To reproduce the error please run:\n",
      "\u001b[0m\u001b[32msingularity exec  /gpfs/gibbs/pi/dewan/data/UKBiobank/lmm.sif /bin/bash /gpfs/ysm/project/dewan/dc2325/UKBB_GWAS_dev/analysis/.sos/singularity_run_95742.sh\u001b[0m\u001b[91m\n",
      "[gcta_cojo]: Exits with 2 pending steps (gcta_cojo_2, gcta_cojo_3)\u001b[0m\n"
     ]
    },
    {
     "ename": "",
     "evalue": "1",
     "output_type": "error",
     "traceback": []
    }
   ],
   "source": [
    "sos run ~/project/UKBB_GWAS_dev/workflow/GCTA-COJO gcta_cojo \\\n",
    "    --cwd output \\\n",
    "    --bfile /gpfs/gibbs/pi/dewan/data/UKBiobank/MWE/genotypes.bed \\\n",
    "    --formatFile ~/project/UKBB_GWAS_dev/data/gcta-cojo_template.yml \\\n",
    "    --sumstatsFile /gpfs/gibbs/pi/dewan/data/UKBiobank/MWE/phenotypes_BMI.fastGWA.snp_stats_original_columns.gz \\\n",
    "    --numThreads 2 \\\n",
    "    --maf 0.1 \\\n",
    "    --job-size 1 \\\n",
    "    --container_lmm /gpfs/gibbs/pi/dewan/data/UKBiobank/lmm.sif"
   ]
  },
  {
   "cell_type": "code",
   "execution_count": 2,
   "metadata": {
    "kernel": "Bash"
   },
   "outputs": [
    {
     "name": "stdout",
     "output_type": "stream",
     "text": [
      "\u001b[0;32m\u001b[0m*******************************************************************\n",
      "\u001b[0;32m\u001b[0m* Genome-wide Complex Trait Analysis (GCTA)\n",
      "\u001b[0;32m\u001b[0m* version 1.93.2 beta Linux\n",
      "\u001b[0;32m\u001b[0m* (C) 2010-present, Jian Yang, The University of Queensland\n",
      "\u001b[0;32m\u001b[0m* Please report bugs to Jian Yang <jian.yang.qt@gmail.com>\n",
      "\u001b[0;32m\u001b[0m*******************************************************************\n",
      "\u001b[0;32mAnalysis started \u001b[0mat 16:01:26 EST on Wed Nov 04 2020.\n",
      "\u001b[0;32m\u001b[0mHostname: p02r09n11\n",
      "\u001b[0;32m\u001b[0m\n",
      "Accepted options:\n",
      "--bfile /gpfs/gibbs/pi/dewan/data/UKBiobank/MWE/genotypes21_22\n",
      "--autosome\n",
      "--maf 0.001\n",
      "--cojo-file output/phenotypes_BMI.fastGWA.gcta_cojo.snp_stats\n",
      "\u001b[0;31mError: \u001b[0mcan not open the file [output/phenotypes_BMI.fastGWA.gcta_cojo.snp_stats] to read.\n",
      "\u001b[0m\u001b[0mAn error occurs, please check the options or data\n"
     ]
    },
    {
     "ename": "",
     "evalue": "1",
     "output_type": "error",
     "traceback": []
    }
   ],
   "source": [
    "singularity exec  /gpfs/gibbs/pi/dewan/data/UKBiobank/lmm.sif /bin/bash /gpfs/ysm/project/dewan/dc2325/UKBB_GWAS_dev/analysis/.sos/singularity_run_82844.sh"
   ]
  },
  {
   "cell_type": "code",
   "execution_count": 27,
   "metadata": {
    "kernel": "Bash"
   },
   "outputs": [
    {
     "name": "stdout",
     "output_type": "stream",
     "text": [
      "blotLMM_template.yml\t      imputed_genotypes_chr21.bgen.bgi\n",
      "fastGWA_template.yml\t      imputed_genotypes_chr22.bgen\n",
      "genotype_inventory.txt\t      imputed_genotypes_chr22.bgen.bgi\n",
      "genotypes21_22.bed\t      imputed_genotypes.sample\n",
      "genotypes21_22.bim\t      phenotypes_BMI.fastGWA.snp_stats.gz\n",
      "genotypes21_22.fam\t      phenotypes.txt\n",
      "genotypes.bed\t\t      regenie_template.yml\n",
      "genotypes.bim\t\t      regions.txt\n",
      "genotypes.fam\t\t      unrelated_samples.txt\n",
      "imputed_genotypes_chr21.bgen\n",
      "\n"
     ]
    }
   ],
   "source": [
    "cd /gpfs/gibbs/pi/dewan/data/UKBiobank/MWE/\n",
    "ls"
   ]
  },
  {
   "cell_type": "code",
   "execution_count": 6,
   "metadata": {
    "kernel": "R"
   },
   "outputs": [
    {
     "name": "stderr",
     "output_type": "stream",
     "text": [
      "\n",
      "Attaching package: ‘dplyr’\n",
      "\n",
      "\n",
      "The following objects are masked from ‘package:stats’:\n",
      "\n",
      "    filter, lag\n",
      "\n",
      "\n",
      "The following objects are masked from ‘package:base’:\n",
      "\n",
      "    intersect, setdiff, setequal, union\n",
      "\n",
      "\n"
     ]
    }
   ],
   "source": [
    "library(dplyr)\n",
    "sumstat = read.table('/gpfs/gibbs/pi/dewan/data/UKBiobank/MWE/phenotypes_BMI.fastGWA.snp_stats.gz', sep = '\\t', header=T)"
   ]
  },
  {
   "cell_type": "code",
   "execution_count": 10,
   "metadata": {
    "kernel": "R"
   },
   "outputs": [
    {
     "name": "stderr",
     "output_type": "stream",
     "text": [
      "Selecting by P\n",
      "\n"
     ]
    }
   ],
   "source": [
    "sumstat_top <- sumstat %>%\n",
    "    top_n(-10)"
   ]
  },
  {
   "cell_type": "code",
   "execution_count": 11,
   "metadata": {
    "kernel": "R"
   },
   "outputs": [
    {
     "data": {
      "text/html": [
       "<table>\n",
       "<caption>A data.frame: 6 × 8</caption>\n",
       "<thead>\n",
       "\t<tr><th></th><th scope=col>CHR</th><th scope=col>POS</th><th scope=col>REF</th><th scope=col>ALT</th><th scope=col>SNP</th><th scope=col>BETA</th><th scope=col>SE</th><th scope=col>P</th></tr>\n",
       "\t<tr><th></th><th scope=col>&lt;int&gt;</th><th scope=col>&lt;int&gt;</th><th scope=col>&lt;fct&gt;</th><th scope=col>&lt;fct&gt;</th><th scope=col>&lt;fct&gt;</th><th scope=col>&lt;dbl&gt;</th><th scope=col>&lt;dbl&gt;</th><th scope=col>&lt;dbl&gt;</th></tr>\n",
       "</thead>\n",
       "<tbody>\n",
       "\t<tr><th scope=row>1</th><td>21</td><td>48096251</td><td>G</td><td>T</td><td>rs79945276 </td><td> 2.68473</td><td>1.29717</td><td>0.0384816</td></tr>\n",
       "\t<tr><th scope=row>2</th><td>21</td><td>48096617</td><td>C</td><td>A</td><td>rs12481825 </td><td>-2.14496</td><td>2.53817</td><td>0.3980650</td></tr>\n",
       "\t<tr><th scope=row>3</th><td>21</td><td>48098106</td><td>G</td><td>A</td><td>rs76528853 </td><td> 4.06609</td><td>1.94254</td><td>0.0363331</td></tr>\n",
       "\t<tr><th scope=row>4</th><td>21</td><td>48099931</td><td>C</td><td>T</td><td>rs149643846</td><td> 4.35152</td><td>2.15315</td><td>0.0432795</td></tr>\n",
       "\t<tr><th scope=row>5</th><td>21</td><td>48100155</td><td>C</td><td>T</td><td>rs10483083 </td><td> 2.78664</td><td>1.31033</td><td>0.0334475</td></tr>\n",
       "\t<tr><th scope=row>6</th><td>21</td><td>48100711</td><td>G</td><td>T</td><td>rs140397744</td><td> 2.50775</td><td>1.29930</td><td>0.0535973</td></tr>\n",
       "</tbody>\n",
       "</table>\n"
      ],
      "text/latex": [
       "A data.frame: 6 × 8\n",
       "\\begin{tabular}{r|llllllll}\n",
       "  & CHR & POS & REF & ALT & SNP & BETA & SE & P\\\\\n",
       "  & <int> & <int> & <fct> & <fct> & <fct> & <dbl> & <dbl> & <dbl>\\\\\n",
       "\\hline\n",
       "\t1 & 21 & 48096251 & G & T & rs79945276  &  2.68473 & 1.29717 & 0.0384816\\\\\n",
       "\t2 & 21 & 48096617 & C & A & rs12481825  & -2.14496 & 2.53817 & 0.3980650\\\\\n",
       "\t3 & 21 & 48098106 & G & A & rs76528853  &  4.06609 & 1.94254 & 0.0363331\\\\\n",
       "\t4 & 21 & 48099931 & C & T & rs149643846 &  4.35152 & 2.15315 & 0.0432795\\\\\n",
       "\t5 & 21 & 48100155 & C & T & rs10483083  &  2.78664 & 1.31033 & 0.0334475\\\\\n",
       "\t6 & 21 & 48100711 & G & T & rs140397744 &  2.50775 & 1.29930 & 0.0535973\\\\\n",
       "\\end{tabular}\n"
      ],
      "text/markdown": [
       "\n",
       "A data.frame: 6 × 8\n",
       "\n",
       "| <!--/--> | CHR &lt;int&gt; | POS &lt;int&gt; | REF &lt;fct&gt; | ALT &lt;fct&gt; | SNP &lt;fct&gt; | BETA &lt;dbl&gt; | SE &lt;dbl&gt; | P &lt;dbl&gt; |\n",
       "|---|---|---|---|---|---|---|---|---|\n",
       "| 1 | 21 | 48096251 | G | T | rs79945276  |  2.68473 | 1.29717 | 0.0384816 |\n",
       "| 2 | 21 | 48096617 | C | A | rs12481825  | -2.14496 | 2.53817 | 0.3980650 |\n",
       "| 3 | 21 | 48098106 | G | A | rs76528853  |  4.06609 | 1.94254 | 0.0363331 |\n",
       "| 4 | 21 | 48099931 | C | T | rs149643846 |  4.35152 | 2.15315 | 0.0432795 |\n",
       "| 5 | 21 | 48100155 | C | T | rs10483083  |  2.78664 | 1.31033 | 0.0334475 |\n",
       "| 6 | 21 | 48100711 | G | T | rs140397744 |  2.50775 | 1.29930 | 0.0535973 |\n",
       "\n"
      ],
      "text/plain": [
       "  CHR POS      REF ALT SNP         BETA     SE      P        \n",
       "1 21  48096251 G   T   rs79945276   2.68473 1.29717 0.0384816\n",
       "2 21  48096617 C   A   rs12481825  -2.14496 2.53817 0.3980650\n",
       "3 21  48098106 G   A   rs76528853   4.06609 1.94254 0.0363331\n",
       "4 21  48099931 C   T   rs149643846  4.35152 2.15315 0.0432795\n",
       "5 21  48100155 C   T   rs10483083   2.78664 1.31033 0.0334475\n",
       "6 21  48100711 G   T   rs140397744  2.50775 1.29930 0.0535973"
      ]
     },
     "metadata": {},
     "output_type": "display_data"
    }
   ],
   "source": [
    "head(sumstat_top)"
   ]
  },
  {
   "cell_type": "code",
   "execution_count": null,
   "metadata": {
    "kernel": "R"
   },
   "outputs": [],
   "source": []
  }
 ],
 "metadata": {
  "kernelspec": {
   "display_name": "SoS",
   "language": "sos",
   "name": "sos"
  },
  "language_info": {
   "codemirror_mode": "sos",
   "file_extension": ".sos",
   "mimetype": "text/x-sos",
   "name": "sos",
   "nbconvert_exporter": "sos_notebook.converter.SoS_Exporter",
   "pygments_lexer": "sos"
  },
  "sos": {
   "kernels": [
    [
     "Bash",
     "calysto_bash",
     "Bash",
     "#E6EEFF",
     "shell"
    ],
    [
     "R",
     "ir",
     "R",
     "#DCDCDA",
     ""
    ]
   ],
   "version": "0.21.21"
  }
 },
 "nbformat": 4,
 "nbformat_minor": 4
}
