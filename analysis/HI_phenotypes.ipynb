{
 "cells": [
  {
   "cell_type": "markdown",
   "metadata": {
    "kernel": "SoS"
   },
   "source": [
    "# Hearing related phenotypes"
   ]
  },
  {
   "cell_type": "markdown",
   "metadata": {
    "kernel": "SoS"
   },
   "source": [
    "## Aim\n",
    "\n",
    "Create a dataset of filtered individuals using the inclusion and exclusion criteria for diverse hearing related phenotyes to perform association analyses using the LMM.ipynb. "
   ]
  },
  {
   "cell_type": "markdown",
   "metadata": {
    "kernel": "SoS"
   },
   "source": [
    "## Location of files\n",
    "\n",
    "In the shared folder is the original UKBB data\n",
    "```\n",
    "/SAY/dbgapstg/scratch/UKBiobank/phenotype_files/pleiotropy_R01/ukb42495_updatedJune2020\n",
    "```\n",
    "\n",
    "In my personal folder the filtered dataset\n",
    "\n",
    "```\n",
    "/home/dc2325/project/HI_UKBB\n",
    "```"
   ]
  },
  {
   "cell_type": "markdown",
   "metadata": {
    "kernel": "Bash"
   },
   "source": [
    "## Subset the data using variables of interest\n",
    "\n",
    "Using the ukbconvert software and a list of pre-specified variables\n",
    "\n",
    "```\n",
    "./ukbconv ukb42495.enc_ukb r -i/home/dc2325/project/HI_UKBB/selectvars_062520.txt -o/home/dc2325/project/HI_UKBB/ukb42495_subset062520\n",
    "./ukbconv ukb42495.enc_ukb r -i/home/dc2325/project/HI_UKBB/selectvars_080420.txt -o/home/dc2325/project/HI_UKBB/ukb42495_subset080420\n",
    "```"
   ]
  },
  {
   "cell_type": "code",
   "execution_count": null,
   "metadata": {
    "kernel": "SoS"
   },
   "outputs": [],
   "source": [
    "[global]\n",
    "# The working dir\n",
    "parameter:cwd = path\n",
    "# The fam file\n",
    "parameter: famfile = path"
   ]
  },
  {
   "cell_type": "markdown",
   "metadata": {
    "kernel": "SoS"
   },
   "source": [
    "## Subsetting individuals with genotypic data"
   ]
  },
  {
   "cell_type": "markdown",
   "metadata": {
    "kernel": "SoS"
   },
   "source": [
    "### Load necessary libraries"
   ]
  },
  {
   "cell_type": "code",
   "execution_count": null,
   "metadata": {
    "kernel": "R"
   },
   "outputs": [],
   "source": [
    "library(plyr)\n",
    "library(tidyverse)\n",
    "library(pander)\n",
    "library(ggpubr)\n",
    "library(rapportools)"
   ]
  },
  {
   "cell_type": "code",
   "execution_count": null,
   "metadata": {
    "kernel": "R"
   },
   "outputs": [],
   "source": [
    "getwd()"
   ]
  },
  {
   "cell_type": "code",
   "execution_count": 2,
   "metadata": {
    "kernel": "R"
   },
   "outputs": [],
   "source": [
    "setwd('~/project/HI_UKBB')"
   ]
  },
  {
   "cell_type": "code",
   "execution_count": 3,
   "metadata": {
    "kernel": "R"
   },
   "outputs": [],
   "source": [
    "# Clean workspace\n",
    "rm(list=ls())"
   ]
  },
  {
   "cell_type": "code",
   "execution_count": null,
   "metadata": {
    "kernel": "R"
   },
   "outputs": [],
   "source": [
    "# Run script to import data to R\n",
    "source(\"ukb42495_subset080420.r\")\n",
    "nrow(bd)"
   ]
  },
  {
   "cell_type": "code",
   "execution_count": null,
   "metadata": {
    "kernel": "R"
   },
   "outputs": [],
   "source": [
    "# List of individuals with qc'ed genotypic files\n",
    "df.geno <- read.table(\"/SAY/dbgapstg/scratch/UKBiobank/genotype_files/pleiotropy_geneticfiles/UKB_Caucasians_phenotypeindepqc120319_updated020720removedwithdrawnindiv.fam\", header= FALSE, stringsAsFactors = FALSE)\n",
    "names(df.geno) <-c(\"FID\",\"IID\",\"ignore1\", \"ignore2\", \"ignore3\", \"ignore4\")\n",
    "nrow(df.geno)"
   ]
  },
  {
   "cell_type": "code",
   "execution_count": null,
   "metadata": {
    "kernel": "R"
   },
   "outputs": [],
   "source": [
    "head(bd[,1, drop=FALSE])"
   ]
  },
  {
   "cell_type": "code",
   "execution_count": null,
   "metadata": {
    "kernel": "R"
   },
   "outputs": [],
   "source": [
    "# Assign individual ID column to bd f.eid\n",
    "names(bd)[1] <- \"IID\"\n",
    "head(bd[,1, drop=FALSE])"
   ]
  },
  {
   "cell_type": "code",
   "execution_count": null,
   "metadata": {
    "kernel": "R"
   },
   "outputs": [],
   "source": [
    "# Merge the two data frames\n",
    "df.gen.phen <-merge(df.geno, bd, by=\"IID\", all=FALSE)\n",
    "nrow(df.gen.phen)"
   ]
  },
  {
   "cell_type": "code",
   "execution_count": null,
   "metadata": {
    "kernel": "R"
   },
   "outputs": [],
   "source": [
    "# Step 5 Save as csv file\n",
    "write.csv(df.gen.phen,'200804_UKBB_HI_genotypeqc.csv', row.names = FALSE)"
   ]
  },
  {
   "cell_type": "markdown",
   "metadata": {
    "kernel": "R"
   },
   "source": [
    "## 1. Tinnitus phenotype (binary)"
   ]
  },
  {
   "cell_type": "markdown",
   "metadata": {
    "kernel": "R"
   },
   "source": [
    "### a. Exclusion criteria based on ICD10, ICD9 codes and self-report\n",
    "Apply the exclusion criteria defined by the group to remove unwanted individuals. This takes into account ICD10 codes, ICD9 codes and f.20002 (self-report). Please find a list of removed codes [here](https://docs.google.com/spreadsheets/d/12L7Cx4Ov8FppGVmG0DxL9uG-lVRHM5QJSea0nORyirQ/edit#gid=0). A total 12397 individuals were excluded in this step."
   ]
  },
  {
   "cell_type": "code",
   "execution_count": null,
   "metadata": {
    "kernel": "Bash"
   },
   "outputs": [],
   "source": [
    "# To get a list of removed individuals. Make sure the list with the strings each line has \\bstring\\b so it can be recognized by -w\n",
    "cd /home/dc2325/project/HI_UKBB"
   ]
  },
  {
   "cell_type": "code",
   "execution_count": null,
   "metadata": {
    "kernel": "Bash"
   },
   "outputs": [],
   "source": [
    "grep -w -f 200713_ICDcodes_exclusion.txt 200804_UKBB_HI_genotypeqc.csv > 200804_UKBB_excluded_individuals.csv\n",
    "cat 200804_UKBB_excluded_individuals.csv | wc -l #12397 excluded"
   ]
  },
  {
   "cell_type": "code",
   "execution_count": null,
   "metadata": {
    "kernel": "Bash"
   },
   "outputs": [],
   "source": [
    "# To get the clean db with the included individuals\n",
    "grep -wv -f 200713_ICDcodes_exclusion.txt 200804_UKBB_HI_genotypeqc.csv > 200804_UKBB_genotypeqc_HI_excr.csv\n",
    "cat 200804_UKBB_genotypeqc_HI_excr.csv | wc -l #354347 retained\n",
    "# To obtain the duplicate lines (if they exist)\n",
    "#comm -12 <(sort 200713_UKBB_genotypeqc_tinnitus_excr.csv) <(sort 200713_UKBB_excluded_individuals.csv)"
   ]
  },
  {
   "cell_type": "markdown",
   "metadata": {
    "kernel": "R"
   },
   "source": [
    "## Import clean data"
   ]
  },
  {
   "cell_type": "code",
   "execution_count": 5,
   "metadata": {
    "kernel": "R"
   },
   "outputs": [],
   "source": [
    "df_clean <- read.csv(file = '200804_UKBB_genotypeqc_HI_excr.csv', header=TRUE)"
   ]
  },
  {
   "cell_type": "markdown",
   "metadata": {
    "kernel": "SoS"
   },
   "source": [
    "**Analysis plan:**\n",
    "\n",
    "1. Individuals who currently have tinnitus (all three yes categories) vs no never only controlling for sex, age, noisy workplace and loud music frequency (“crude”) (No tinnitus vs anytype of tinnitus). For this analysis the missing data of the noise variables was imputed using the median for cases and controls separately\n",
    "\n",
    "3. Individuals in the two top YES categories vs NO never (‘No’ tinnitus vs ‘Yes, now all of the time’ and ‘Yes, now most of the time’)\n",
    "\n",
    "4. Individuals that say yes in the top 3 categories vs No never (Remove category ‘yes, but not now, but have it in the past’)"
   ]
  },
  {
   "cell_type": "markdown",
   "metadata": {
    "kernel": "SoS"
   },
   "source": [
    "## Data summary and recode"
   ]
  },
  {
   "cell_type": "code",
   "execution_count": 6,
   "metadata": {
    "kernel": "R"
   },
   "outputs": [
    {
     "data": {
      "text/html": [
       "<style>\n",
       ".list-inline {list-style: none; margin:0; padding: 0}\n",
       ".list-inline>li {display: inline-block}\n",
       ".list-inline>li:not(:last-child)::after {content: \"\\00b7\"; padding: 0 .5ex}\n",
       "</style>\n",
       "<ol class=list-inline><li>354347</li><li>1074</li></ol>\n"
      ],
      "text/latex": [
       "\\begin{enumerate*}\n",
       "\\item 354347\n",
       "\\item 1074\n",
       "\\end{enumerate*}\n"
      ],
      "text/markdown": [
       "1. 354347\n",
       "2. 1074\n",
       "\n",
       "\n"
      ],
      "text/plain": [
       "[1] 354347   1074"
      ]
     },
     "metadata": {},
     "output_type": "display_data"
    }
   ],
   "source": [
    "dim(df_clean)"
   ]
  },
  {
   "cell_type": "markdown",
   "metadata": {
    "kernel": "R"
   },
   "source": [
    "### Recode genetic sex f.22001"
   ]
  },
  {
   "cell_type": "code",
   "execution_count": 20,
   "metadata": {
    "kernel": "R"
   },
   "outputs": [
    {
     "data": {
      "text/plain": [
       "\n",
       "Female   Male \n",
       "192414 161933 "
      ]
     },
     "metadata": {},
     "output_type": "display_data"
    }
   ],
   "source": [
    "table(df_clean$f.22001)"
   ]
  },
  {
   "cell_type": "code",
   "execution_count": 21,
   "metadata": {
    "kernel": "R"
   },
   "outputs": [
    {
     "data": {
      "text/plain": [
       "\n",
       "     1      0 \n",
       "192414 161933 "
      ]
     },
     "metadata": {},
     "output_type": "display_data"
    }
   ],
   "source": [
    "df_clean$sex <- revalue(df_clean$f.22001.0.0, c(\"Male\" = '0', 'Female'='1' ))\n",
    "table(df_clean$sex)"
   ]
  },
  {
   "cell_type": "code",
   "execution_count": 22,
   "metadata": {
    "kernel": "R"
   },
   "outputs": [
    {
     "data": {
      "text/html": [
       "<style>\n",
       ".list-inline {list-style: none; margin:0; padding: 0}\n",
       ".list-inline>li {display: inline-block}\n",
       ".list-inline>li:not(:last-child)::after {content: \"\\00b7\"; padding: 0 .5ex}\n",
       "</style>\n",
       "<ol class=list-inline><li>354347</li><li>1079</li></ol>\n"
      ],
      "text/latex": [
       "\\begin{enumerate*}\n",
       "\\item 354347\n",
       "\\item 1079\n",
       "\\end{enumerate*}\n"
      ],
      "text/markdown": [
       "1. 354347\n",
       "2. 1079\n",
       "\n",
       "\n"
      ],
      "text/plain": [
       "[1] 354347   1079"
      ]
     },
     "metadata": {},
     "output_type": "display_data"
    }
   ],
   "source": [
    "dim(df_clean)"
   ]
  },
  {
   "cell_type": "markdown",
   "metadata": {
    "kernel": "SoS"
   },
   "source": [
    "## Filtering out inconsistent cases\n",
    "Recode 4 instances of field f.4803 with 0,1, and 9\n",
    "* Yes, now most or all of the time : 1 \n",
    "* Yes, now a lot of the time: 1 \n",
    "* Yes, now some of the time: 1 \n",
    "* Yes, but not now, but have in the past : 1 \n",
    "* No, never: 0\n",
    "* Do not know: 9 Prefer not to answer: NA"
   ]
  },
  {
   "cell_type": "code",
   "execution_count": 23,
   "metadata": {
    "kernel": "R"
   },
   "outputs": [
    {
     "name": "stdout",
     "output_type": "stream",
     "text": [
      "f.4803.0.0_recode summary:\n",
      "    9     0     1 \n",
      " 1989 80963 32642 \n",
      "\n",
      "f.4803.1.0_recode summary:\n",
      "    9     0     1 \n",
      "  185 10561  4605 \n",
      "\n",
      "f.4803.2.0_recode summary:\n",
      "    9     0     1 \n",
      "  410 23724 11589 \n",
      "\n",
      "f.4803.3.0_recode summary:\n",
      "   9    0    1 \n",
      "  20 1664  726 \n",
      "\n"
     ]
    }
   ],
   "source": [
    "# Recode function:\n",
    "recode<-function(df,column_name){\n",
    "  new_names<-c()\n",
    "  for (i in column_name){\n",
    "    new_column_name<-paste0(i,\"_recode\")\n",
    "    new_names<-c(new_names,new_column_name)\n",
    "    df[,new_column_name] <- revalue(df[,i], c(\"No, never\"= 0, \n",
    "                                            \"Yes, but not now, but have in the past\"= 1, \n",
    "                                            \"Yes, now some of the time\"= 1, \n",
    "                                            \"Yes, now a lot of the time\"= 1,\n",
    "                                            \"Yes, now most or all of the time\"= 1,\n",
    "                                            \"Prefer not to answer\"= NA,\n",
    "                                            \"Do not know\"= 9 ))\n",
    "  }\n",
    "  return (list(df=df,new_column_names=new_names))\n",
    "}\n",
    "\n",
    "# columns needs to be recoded:\n",
    "column_name<-c(\"f.4803.0.0\",\"f.4803.1.0\",\"f.4803.2.0\",\"f.4803.3.0\")\n",
    "\n",
    "# get a new data.frame with recoded columns added:\n",
    "df_clean<-recode(df=df_clean,column_name)$df\n",
    "\n",
    "# get names of recoded columns:\n",
    "new_column_names<-recode(df=df_clean,column_name)$new_column_names\n",
    "\n",
    "# show recode summary:\n",
    "for (i in new_column_names)\n",
    "{cat(i,\"summary:\");print(table(df_clean[,i]));cat(\"\\n\")}"
   ]
  },
  {
   "cell_type": "code",
   "execution_count": 24,
   "metadata": {
    "kernel": "R"
   },
   "outputs": [
    {
     "data": {
      "text/html": [
       "<style>\n",
       ".list-inline {list-style: none; margin:0; padding: 0}\n",
       ".list-inline>li {display: inline-block}\n",
       ".list-inline>li:not(:last-child)::after {content: \"\\00b7\"; padding: 0 .5ex}\n",
       "</style>\n",
       "<ol class=list-inline><li>354347</li><li>1079</li></ol>\n"
      ],
      "text/latex": [
       "\\begin{enumerate*}\n",
       "\\item 354347\n",
       "\\item 1079\n",
       "\\end{enumerate*}\n"
      ],
      "text/markdown": [
       "1. 354347\n",
       "2. 1079\n",
       "\n",
       "\n"
      ],
      "text/plain": [
       "[1] 354347   1079"
      ]
     },
     "metadata": {},
     "output_type": "display_data"
    }
   ],
   "source": [
    "dim(df_clean)"
   ]
  },
  {
   "cell_type": "markdown",
   "metadata": {
    "kernel": "SoS"
   },
   "source": [
    "## Get patterns for all possible answers"
   ]
  },
  {
   "cell_type": "code",
   "execution_count": 25,
   "metadata": {
    "kernel": "R"
   },
   "outputs": [
    {
     "data": {
      "text/html": [
       "<style>\n",
       ".list-inline {list-style: none; margin:0; padding: 0}\n",
       ".list-inline>li {display: inline-block}\n",
       ".list-inline>li:not(:last-child)::after {content: \"\\00b7\"; padding: 0 .5ex}\n",
       "</style>\n",
       "<ol class=list-inline><li>''</li><li>'0'</li><li>'00'</li><li>'000'</li><li>'0000'</li><li>'0001'</li><li>'001'</li><li>'0010'</li><li>'0011'</li><li>'009'</li><li>'01'</li><li>'010'</li><li>'0100'</li><li>'011'</li><li>'0111'</li><li>'019'</li><li>'09'</li><li>'090'</li><li>'091'</li><li>'099'</li><li>'1'</li><li>'10'</li><li>'100'</li><li>'1000'</li><li>'101'</li><li>'1010'</li><li>'1011'</li><li>'11'</li><li>'110'</li><li>'1100'</li><li>'1101'</li><li>'111'</li><li>'1110'</li><li>'1111'</li><li>'119'</li><li>'19'</li><li>'190'</li><li>'191'</li><li>'1919'</li><li>'199'</li><li>'9'</li><li>'90'</li><li>'900'</li><li>'901'</li><li>'9011'</li><li>'909'</li><li>'91'</li><li>'911'</li><li>'99'</li><li>'990'</li><li>'991'</li><li>'999'</li></ol>\n"
      ],
      "text/latex": [
       "\\begin{enumerate*}\n",
       "\\item ''\n",
       "\\item '0'\n",
       "\\item '00'\n",
       "\\item '000'\n",
       "\\item '0000'\n",
       "\\item '0001'\n",
       "\\item '001'\n",
       "\\item '0010'\n",
       "\\item '0011'\n",
       "\\item '009'\n",
       "\\item '01'\n",
       "\\item '010'\n",
       "\\item '0100'\n",
       "\\item '011'\n",
       "\\item '0111'\n",
       "\\item '019'\n",
       "\\item '09'\n",
       "\\item '090'\n",
       "\\item '091'\n",
       "\\item '099'\n",
       "\\item '1'\n",
       "\\item '10'\n",
       "\\item '100'\n",
       "\\item '1000'\n",
       "\\item '101'\n",
       "\\item '1010'\n",
       "\\item '1011'\n",
       "\\item '11'\n",
       "\\item '110'\n",
       "\\item '1100'\n",
       "\\item '1101'\n",
       "\\item '111'\n",
       "\\item '1110'\n",
       "\\item '1111'\n",
       "\\item '119'\n",
       "\\item '19'\n",
       "\\item '190'\n",
       "\\item '191'\n",
       "\\item '1919'\n",
       "\\item '199'\n",
       "\\item '9'\n",
       "\\item '90'\n",
       "\\item '900'\n",
       "\\item '901'\n",
       "\\item '9011'\n",
       "\\item '909'\n",
       "\\item '91'\n",
       "\\item '911'\n",
       "\\item '99'\n",
       "\\item '990'\n",
       "\\item '991'\n",
       "\\item '999'\n",
       "\\end{enumerate*}\n"
      ],
      "text/markdown": [
       "1. ''\n",
       "2. '0'\n",
       "3. '00'\n",
       "4. '000'\n",
       "5. '0000'\n",
       "6. '0001'\n",
       "7. '001'\n",
       "8. '0010'\n",
       "9. '0011'\n",
       "10. '009'\n",
       "11. '01'\n",
       "12. '010'\n",
       "13. '0100'\n",
       "14. '011'\n",
       "15. '0111'\n",
       "16. '019'\n",
       "17. '09'\n",
       "18. '090'\n",
       "19. '091'\n",
       "20. '099'\n",
       "21. '1'\n",
       "22. '10'\n",
       "23. '100'\n",
       "24. '1000'\n",
       "25. '101'\n",
       "26. '1010'\n",
       "27. '1011'\n",
       "28. '11'\n",
       "29. '110'\n",
       "30. '1100'\n",
       "31. '1101'\n",
       "32. '111'\n",
       "33. '1110'\n",
       "34. '1111'\n",
       "35. '119'\n",
       "36. '19'\n",
       "37. '190'\n",
       "38. '191'\n",
       "39. '1919'\n",
       "40. '199'\n",
       "41. '9'\n",
       "42. '90'\n",
       "43. '900'\n",
       "44. '901'\n",
       "45. '9011'\n",
       "46. '909'\n",
       "47. '91'\n",
       "48. '911'\n",
       "49. '99'\n",
       "50. '990'\n",
       "51. '991'\n",
       "52. '999'\n",
       "\n",
       "\n"
      ],
      "text/plain": [
       " [1] \"\"     \"0\"    \"00\"   \"000\"  \"0000\" \"0001\" \"001\"  \"0010\" \"0011\" \"009\" \n",
       "[11] \"01\"   \"010\"  \"0100\" \"011\"  \"0111\" \"019\"  \"09\"   \"090\"  \"091\"  \"099\" \n",
       "[21] \"1\"    \"10\"   \"100\"  \"1000\" \"101\"  \"1010\" \"1011\" \"11\"   \"110\"  \"1100\"\n",
       "[31] \"1101\" \"111\"  \"1110\" \"1111\" \"119\"  \"19\"   \"190\"  \"191\"  \"1919\" \"199\" \n",
       "[41] \"9\"    \"90\"   \"900\"  \"901\"  \"9011\" \"909\"  \"91\"   \"911\"  \"99\"   \"990\" \n",
       "[51] \"991\"  \"999\" "
      ]
     },
     "metadata": {},
     "output_type": "display_data"
    }
   ],
   "source": [
    "# Extract subset of data only with the recode columns of tinnitus\n",
    "data_sub <- df_clean %>%\n",
    "  select(\"IID\",all_of(new_column_names)) \n",
    "\n",
    "# Function to extract all the available answers for 4 visits\n",
    "# and put them in one string as \"0000\", \"111\", \"991\", etc\n",
    "\n",
    "f2<-function(x){\n",
    "  visit<-''\n",
    "  for (i in 2:5){ # do not take the first column (i.e. IID)\n",
    "    if (!is.na(x[i]))\n",
    "    {visit<-paste0(visit,x[i])}\n",
    "  }\n",
    "  if(is.null(visit)){visit=NA}\n",
    "  else{visit=visit}\n",
    "  return (visit)\n",
    "}\n",
    "\n",
    "# Apply the above function and remove NAs\n",
    "data_sub$visit<-apply(data_sub, 1, f2)\n",
    "\n",
    "names(table(data_sub$visit))"
   ]
  },
  {
   "cell_type": "code",
   "execution_count": 26,
   "metadata": {
    "kernel": "R"
   },
   "outputs": [
    {
     "name": "stdout",
     "output_type": "stream",
     "text": [
      "There are 52 different combinations of answers.\n"
     ]
    }
   ],
   "source": [
    "all_pattern<-unique(data_sub$visit)\n",
    "\n",
    "cat(\"There are\",length(all_pattern),\"different combinations of answers.\\n\")"
   ]
  },
  {
   "cell_type": "code",
   "execution_count": 27,
   "metadata": {
    "kernel": "R"
   },
   "outputs": [
    {
     "name": "stdout",
     "output_type": "stream",
     "text": [
      "Those with 4 numbers has answer for all 4 visits. e.g. '0000': No, No, No, No.\n"
     ]
    }
   ],
   "source": [
    "cat(\"Those with 4 numbers has answer for all 4 visits. e.g. '0000': No, No, No, No.\\n\")"
   ]
  },
  {
   "cell_type": "code",
   "execution_count": 28,
   "metadata": {
    "kernel": "R"
   },
   "outputs": [
    {
     "name": "stdout",
     "output_type": "stream",
     "text": [
      "Those with 3 numbers has answer for 3 answers out of 4 visits. e.g. '001': No, No, Yes. \n"
     ]
    }
   ],
   "source": [
    "cat(\"Those with 3 numbers has answer for 3 answers out of 4 visits. e.g. '001': No, No, Yes. \\n\")"
   ]
  },
  {
   "cell_type": "code",
   "execution_count": 29,
   "metadata": {
    "kernel": "R"
   },
   "outputs": [
    {
     "name": "stdout",
     "output_type": "stream",
     "text": [
      "Those with 2 numbers has answer for 2 answers out of 4 visits. e.g. '90': Do not know, No. \n"
     ]
    }
   ],
   "source": [
    "cat(\"Those with 2 numbers has answer for 2 answers out of 4 visits. e.g. '90': Do not know, No. \\n\")"
   ]
  },
  {
   "cell_type": "code",
   "execution_count": 30,
   "metadata": {
    "kernel": "R"
   },
   "outputs": [
    {
     "name": "stdout",
     "output_type": "stream",
     "text": [
      "The first one, i.e. '' is for NAs.\n"
     ]
    }
   ],
   "source": [
    "cat(\"The first one, i.e. '' is for NAs.\\n\")"
   ]
  },
  {
   "cell_type": "code",
   "execution_count": 31,
   "metadata": {
    "kernel": "R"
   },
   "outputs": [
    {
     "data": {
      "text/plain": [
       "\n",
       "            0     00    000   0000   0001    001   0010   0011    009     01 \n",
       "207944  87438  10425   1475     73      4    122      3      3     10   1717 \n",
       "   010   0100    011   0111    019     09    090    091    099      1     10 \n",
       "    78      3    131      6      2     94     10      5      2  36961   1014 \n",
       "   100   1000    101   1010   1011     11    110   1100   1101    111   1110 \n",
       "    97      6     42      2      2   3717     59      3      5    430      4 \n",
       "  1111    119     19    190    191   1919    199      9     90    900    901 \n",
       "    19      4     76      4      8      1      1   2110     92     10      5 \n",
       "  9011    909     91    911     99    990    991    999 \n",
       "     1      3     85      9     28      1      2      1 "
      ]
     },
     "metadata": {},
     "output_type": "display_data"
    }
   ],
   "source": [
    "table(data_sub$visit)"
   ]
  },
  {
   "cell_type": "markdown",
   "metadata": {
    "kernel": "R"
   },
   "source": [
    "## Extract consistent cases"
   ]
  },
  {
   "cell_type": "code",
   "execution_count": 89,
   "metadata": {
    "kernel": "R"
   },
   "outputs": [
    {
     "data": {
      "text/plain": [
       "\n",
       "    0    00   000  0000     1    11   111  1111     9    99   999 \n",
       "87438 10425  1475    73 36961  3717   430    19  2110    28     1 "
      ]
     },
     "metadata": {},
     "output_type": "display_data"
    }
   ],
   "source": [
    "all_no<-all_pattern[which(grepl(\"0\",all_pattern) & !grepl(\"9\",all_pattern) & !grepl(\"1\",all_pattern))]\n",
    "all_yes<-all_pattern[which(!grepl(\"0\",all_pattern) & !grepl(\"9\",all_pattern) & grepl(\"1\",all_pattern))]\n",
    "all_do_not_know<-all_pattern[which(!grepl(\"0\",all_pattern) & grepl(\"9\",all_pattern) & !grepl(\"1\",all_pattern))]\n",
    "table(data_sub[data_sub$visit%in%union(union(all_no,all_yes),all_do_not_know),\"visit\"])"
   ]
  },
  {
   "cell_type": "code",
   "execution_count": 90,
   "metadata": {
    "kernel": "R"
   },
   "outputs": [
    {
     "data": {
      "text/plain": [
       "\n",
       "009  09 090 099  90 900 909 990 \n",
       " 10  94  10   2  92  10   3   1 "
      ]
     },
     "metadata": {},
     "output_type": "display_data"
    }
   ],
   "source": [
    "consistent_1<-c(all_no,all_yes,all_do_not_know)\n",
    "\n",
    "# might be inconsistent cases:\n",
    "do_not_know_no<-all_pattern[which(grepl(\"0\",all_pattern) & grepl(\"9\",all_pattern) & !grepl(\"1\",all_pattern))]\n",
    "table(data_sub[data_sub$visit%in%do_not_know_no,\"visit\"])"
   ]
  },
  {
   "cell_type": "code",
   "execution_count": 91,
   "metadata": {
    "kernel": "R"
   },
   "outputs": [
    {
     "data": {
      "text/plain": [
       "\n",
       " 119   19  191 1919  199   91  911  991 \n",
       "   4   76    8    1    1   85    9    2 "
      ]
     },
     "metadata": {},
     "output_type": "display_data"
    }
   ],
   "source": [
    "do_not_know_yes<-all_pattern[which(!grepl(\"0\",all_pattern) & grepl(\"9\",all_pattern) & grepl(\"1\",all_pattern))]\n",
    "table(data_sub[data_sub$visit%in%do_not_know_yes,\"visit\"])"
   ]
  },
  {
   "cell_type": "code",
   "execution_count": 92,
   "metadata": {
    "kernel": "R"
   },
   "outputs": [
    {
     "data": {
      "text/plain": [
       "\n",
       "0001  001 0010 0011   01  010 0100  011 0111   10  100 1000  101 1010 1011  110 \n",
       "   4  122    3    3 1717   78    3  131    6 1014   97    6   42    2    2   59 \n",
       "1100 1101 1110 \n",
       "   3    5    4 "
      ]
     },
     "metadata": {},
     "output_type": "display_data"
    }
   ],
   "source": [
    "yes_no<-all_pattern[which(grepl(\"0\",all_pattern) & !grepl(\"9\",all_pattern) & grepl(\"1\",all_pattern))]\n",
    "table(data_sub[data_sub$visit%in%yes_no,\"visit\"])"
   ]
  },
  {
   "cell_type": "code",
   "execution_count": 93,
   "metadata": {
    "kernel": "R"
   },
   "outputs": [
    {
     "data": {
      "text/plain": [
       "\n",
       " 019  091  190  901 9011 \n",
       "   2    5    4    5    1 "
      ]
     },
     "metadata": {},
     "output_type": "display_data"
    }
   ],
   "source": [
    "with_all_three<-all_pattern[which(grepl(\"0\",all_pattern) & grepl(\"9\",all_pattern) & grepl(\"1\",all_pattern))]\n",
    "table(data_sub[data_sub$visit%in%with_all_three,\"visit\"])"
   ]
  },
  {
   "cell_type": "code",
   "execution_count": 94,
   "metadata": {
    "kernel": "R"
   },
   "outputs": [],
   "source": [
    "might_inconsistent<-c(do_not_know_no,do_not_know_yes,yes_no,with_all_three)"
   ]
  },
  {
   "cell_type": "markdown",
   "metadata": {
    "kernel": "R"
   },
   "source": [
    "## Remove inconsistent cases and NAs"
   ]
  },
  {
   "cell_type": "code",
   "execution_count": 95,
   "metadata": {
    "kernel": "R"
   },
   "outputs": [
    {
     "name": "stdout",
     "output_type": "stream",
     "text": [
      "There are 207944 NAs, removed"
     ]
    }
   ],
   "source": [
    "# get all the inconsistent cases:\n",
    "exceptions<-c(\"91\",\"911\",\"991\",\"0001\",\"001\",\"0011\",\"01\",\"011\",\"0111\", \"091\", \"901\", \"9011\")\n",
    "inconsistent<-setdiff(might_inconsistent,exceptions)\n",
    "\n",
    "cat(\"There are\",length(which(is.empty(data_sub$visit))),\"NAs, removed\")"
   ]
  },
  {
   "cell_type": "code",
   "execution_count": 96,
   "metadata": {
    "kernel": "R"
   },
   "outputs": [
    {
     "name": "stdout",
     "output_type": "stream",
     "text": [
      "There are 1636 inconsistent cases, removed"
     ]
    }
   ],
   "source": [
    "cat(\"There are\",length(which(data_sub$visit%in%inconsistent)),\"inconsistent cases, removed\")"
   ]
  },
  {
   "cell_type": "code",
   "execution_count": 97,
   "metadata": {
    "kernel": "R"
   },
   "outputs": [
    {
     "data": {
      "text/html": [
       "<style>\n",
       ".list-inline {list-style: none; margin:0; padding: 0}\n",
       ".list-inline>li {display: inline-block}\n",
       ".list-inline>li:not(:last-child)::after {content: \"\\00b7\"; padding: 0 .5ex}\n",
       "</style>\n",
       "<ol class=list-inline><li>144767</li><li>1</li></ol>\n"
      ],
      "text/latex": [
       "\\begin{enumerate*}\n",
       "\\item 144767\n",
       "\\item 1\n",
       "\\end{enumerate*}\n"
      ],
      "text/markdown": [
       "1. 144767\n",
       "2. 1\n",
       "\n",
       "\n"
      ],
      "text/plain": [
       "[1] 144767      1"
      ]
     },
     "metadata": {},
     "output_type": "display_data"
    }
   ],
   "source": [
    "# removed those NAs and inconsistent cases: \n",
    "IID_cleaned<-data_sub %>%\n",
    "  filter(!is.empty(visit)) %>%\n",
    "  filter((!visit%in%inconsistent)) %>%\n",
    "  select(IID)\n",
    "\n",
    "dim(IID_cleaned)"
   ]
  },
  {
   "cell_type": "code",
   "execution_count": 98,
   "metadata": {
    "kernel": "R"
   },
   "outputs": [
    {
     "name": "stdout",
     "output_type": "stream",
     "text": [
      "After removing all the NAs and inconsistent cases, there are 144767 cases left"
     ]
    }
   ],
   "source": [
    "IID_cleaned<-IID_cleaned[,1]\n",
    "cat(\"After removing all the NAs and inconsistent cases, there are\",length(IID_cleaned),\"cases left\")"
   ]
  },
  {
   "cell_type": "code",
   "execution_count": 99,
   "metadata": {
    "kernel": "R"
   },
   "outputs": [
    {
     "data": {
      "text/html": [
       "<style>\n",
       ".list-inline {list-style: none; margin:0; padding: 0}\n",
       ".list-inline>li {display: inline-block}\n",
       ".list-inline>li:not(:last-child)::after {content: \"\\00b7\"; padding: 0 .5ex}\n",
       "</style>\n",
       "<ol class=list-inline><li>144767</li><li>1079</li></ol>\n"
      ],
      "text/latex": [
       "\\begin{enumerate*}\n",
       "\\item 144767\n",
       "\\item 1079\n",
       "\\end{enumerate*}\n"
      ],
      "text/markdown": [
       "1. 144767\n",
       "2. 1079\n",
       "\n",
       "\n"
      ],
      "text/plain": [
       "[1] 144767   1079"
      ]
     },
     "metadata": {},
     "output_type": "display_data"
    }
   ],
   "source": [
    "# get the dataset after cleansing: \n",
    "data_cleaned<-df_clean %>%\n",
    "  filter(IID%in%IID_cleaned)\n",
    "\n",
    "dim(data_cleaned)"
   ]
  },
  {
   "cell_type": "markdown",
   "metadata": {
    "kernel": "R"
   },
   "source": [
    "## Fitlering tinnitus for different analyses\n",
    "\n",
    "Recode 4 instances of field f.4803 with 4,3,2,1,0, and 9\n",
    "\n",
    "* Yes, now most or all of the time : 4 \n",
    "* Yes, now a lot of the time: 3 \n",
    "* Yes, now some of the time: 2 \n",
    "* Yes, but not now, but have in the past : 1 \n",
    "* No, never: 0\n",
    "* Do not know: 9 \n",
    "* Prefer not to answer: NA"
   ]
  },
  {
   "cell_type": "markdown",
   "metadata": {
    "kernel": "SoS"
   },
   "source": [
    "## Filtering for analysis plan 1"
   ]
  },
  {
   "cell_type": "code",
   "execution_count": 100,
   "metadata": {
    "kernel": "R"
   },
   "outputs": [
    {
     "data": {
      "text/html": [
       "<table>\n",
       "<caption>A data.frame: 40 × 7</caption>\n",
       "<thead>\n",
       "\t<tr><th></th><th scope=col>IID</th><th scope=col>f.4803.0.0_recode</th><th scope=col>f.4803.1.0_recode</th><th scope=col>f.4803.2.0_recode</th><th scope=col>f.4803.3.0_recode</th><th scope=col>visit</th><th scope=col>removed</th></tr>\n",
       "\t<tr><th></th><th scope=col>&lt;int&gt;</th><th scope=col>&lt;fct&gt;</th><th scope=col>&lt;fct&gt;</th><th scope=col>&lt;fct&gt;</th><th scope=col>&lt;fct&gt;</th><th scope=col>&lt;chr&gt;</th><th scope=col>&lt;lgl&gt;</th></tr>\n",
       "</thead>\n",
       "<tbody>\n",
       "\t<tr><th scope=row>1</th><td>1000019</td><td>NA</td><td>NA</td><td>NA</td><td>NA</td><td>  </td><td>FALSE</td></tr>\n",
       "\t<tr><th scope=row>2</th><td>1000022</td><td>NA</td><td>NA</td><td>NA</td><td>NA</td><td>  </td><td>FALSE</td></tr>\n",
       "\t<tr><th scope=row>3</th><td>1000035</td><td>NA</td><td>NA</td><td>NA</td><td>NA</td><td>  </td><td>FALSE</td></tr>\n",
       "\t<tr><th scope=row>4</th><td>1000046</td><td>NA</td><td>NA</td><td>0 </td><td>NA</td><td>0 </td><td>FALSE</td></tr>\n",
       "\t<tr><th scope=row>5</th><td>1000054</td><td>NA</td><td>NA</td><td>NA</td><td>NA</td><td>  </td><td>FALSE</td></tr>\n",
       "\t<tr><th scope=row>6</th><td>1000063</td><td>0 </td><td>NA</td><td>NA</td><td>NA</td><td>0 </td><td>FALSE</td></tr>\n",
       "\t<tr><th scope=row>7</th><td>1000078</td><td>NA</td><td>0 </td><td>0 </td><td>NA</td><td>00</td><td>FALSE</td></tr>\n",
       "\t<tr><th scope=row>8</th><td>1000105</td><td>1 </td><td>NA</td><td>NA</td><td>NA</td><td>1 </td><td>FALSE</td></tr>\n",
       "\t<tr><th scope=row>9</th><td>1000112</td><td>NA</td><td>NA</td><td>0 </td><td>NA</td><td>0 </td><td>FALSE</td></tr>\n",
       "\t<tr><th scope=row>10</th><td>1000129</td><td>NA</td><td>NA</td><td>NA</td><td>NA</td><td>  </td><td>FALSE</td></tr>\n",
       "\t<tr><th scope=row>11</th><td>1000137</td><td>NA</td><td>NA</td><td>NA</td><td>NA</td><td>  </td><td>FALSE</td></tr>\n",
       "\t<tr><th scope=row>12</th><td>1000141</td><td>0 </td><td>NA</td><td>NA</td><td>NA</td><td>0 </td><td>FALSE</td></tr>\n",
       "\t<tr><th scope=row>13</th><td>1000164</td><td>NA</td><td>NA</td><td>NA</td><td>NA</td><td>  </td><td>FALSE</td></tr>\n",
       "\t<tr><th scope=row>14</th><td>1000170</td><td>NA</td><td>NA</td><td>NA</td><td>NA</td><td>  </td><td>FALSE</td></tr>\n",
       "\t<tr><th scope=row>15</th><td>1000186</td><td>NA</td><td>NA</td><td>NA</td><td>NA</td><td>  </td><td>FALSE</td></tr>\n",
       "\t<tr><th scope=row>16</th><td>1000198</td><td>NA</td><td>NA</td><td>NA</td><td>NA</td><td>  </td><td>FALSE</td></tr>\n",
       "\t<tr><th scope=row>17</th><td>1000203</td><td>NA</td><td>NA</td><td>NA</td><td>NA</td><td>  </td><td>FALSE</td></tr>\n",
       "\t<tr><th scope=row>18</th><td>1000210</td><td>NA</td><td>NA</td><td>NA</td><td>NA</td><td>  </td><td>FALSE</td></tr>\n",
       "\t<tr><th scope=row>19</th><td>1000224</td><td>NA</td><td>NA</td><td>NA</td><td>NA</td><td>  </td><td>FALSE</td></tr>\n",
       "\t<tr><th scope=row>20</th><td>1000236</td><td>0 </td><td>NA</td><td>0 </td><td>NA</td><td>00</td><td>FALSE</td></tr>\n",
       "\t<tr><th scope=row>21</th><td>1000248</td><td>0 </td><td>NA</td><td>NA</td><td>NA</td><td>0 </td><td>FALSE</td></tr>\n",
       "\t<tr><th scope=row>22</th><td>1000269</td><td>NA</td><td>NA</td><td>0 </td><td>NA</td><td>0 </td><td>FALSE</td></tr>\n",
       "\t<tr><th scope=row>23</th><td>1000287</td><td>NA</td><td>NA</td><td>NA</td><td>NA</td><td>  </td><td>FALSE</td></tr>\n",
       "\t<tr><th scope=row>24</th><td>1000291</td><td>NA</td><td>NA</td><td>NA</td><td>NA</td><td>  </td><td>FALSE</td></tr>\n",
       "\t<tr><th scope=row>25</th><td>1000318</td><td>NA</td><td>NA</td><td>NA</td><td>NA</td><td>  </td><td>FALSE</td></tr>\n",
       "\t<tr><th scope=row>26</th><td>1000340</td><td>0 </td><td>NA</td><td>NA</td><td>NA</td><td>0 </td><td>FALSE</td></tr>\n",
       "\t<tr><th scope=row>27</th><td>1000357</td><td>1 </td><td>NA</td><td>NA</td><td>NA</td><td>1 </td><td>FALSE</td></tr>\n",
       "\t<tr><th scope=row>28</th><td>1000362</td><td>NA</td><td>NA</td><td>NA</td><td>NA</td><td>  </td><td>FALSE</td></tr>\n",
       "\t<tr><th scope=row>29</th><td>1000379</td><td>0 </td><td>NA</td><td>NA</td><td>NA</td><td>0 </td><td>FALSE</td></tr>\n",
       "\t<tr><th scope=row>30</th><td>1000408</td><td>NA</td><td>NA</td><td>NA</td><td>NA</td><td>  </td><td>FALSE</td></tr>\n",
       "\t<tr><th scope=row>31</th><td>1000421</td><td>0 </td><td>NA</td><td>NA</td><td>NA</td><td>0 </td><td>FALSE</td></tr>\n",
       "\t<tr><th scope=row>32</th><td>1000443</td><td>NA</td><td>NA</td><td>1 </td><td>NA</td><td>1 </td><td>FALSE</td></tr>\n",
       "\t<tr><th scope=row>33</th><td>1000450</td><td>NA</td><td>NA</td><td>NA</td><td>NA</td><td>  </td><td>FALSE</td></tr>\n",
       "\t<tr><th scope=row>34</th><td>1000494</td><td>1 </td><td>NA</td><td>NA</td><td>NA</td><td>1 </td><td>FALSE</td></tr>\n",
       "\t<tr><th scope=row>35</th><td>1000516</td><td>0 </td><td>NA</td><td>NA</td><td>NA</td><td>0 </td><td>FALSE</td></tr>\n",
       "\t<tr><th scope=row>36</th><td>1000527</td><td>0 </td><td>NA</td><td>NA</td><td>NA</td><td>0 </td><td>FALSE</td></tr>\n",
       "\t<tr><th scope=row>37</th><td>1000530</td><td>0 </td><td>NA</td><td>NA</td><td>NA</td><td>0 </td><td>FALSE</td></tr>\n",
       "\t<tr><th scope=row>38</th><td>1000549</td><td>0 </td><td>NA</td><td>NA</td><td>NA</td><td>0 </td><td>FALSE</td></tr>\n",
       "\t<tr><th scope=row>39</th><td>1000573</td><td>NA</td><td>NA</td><td>NA</td><td>NA</td><td>  </td><td>FALSE</td></tr>\n",
       "\t<tr><th scope=row>40</th><td>1000584</td><td>0 </td><td>NA</td><td>NA</td><td>NA</td><td>0 </td><td>FALSE</td></tr>\n",
       "</tbody>\n",
       "</table>\n"
      ],
      "text/latex": [
       "A data.frame: 40 × 7\n",
       "\\begin{tabular}{r|lllllll}\n",
       "  & IID & f.4803.0.0\\_recode & f.4803.1.0\\_recode & f.4803.2.0\\_recode & f.4803.3.0\\_recode & visit & removed\\\\\n",
       "  & <int> & <fct> & <fct> & <fct> & <fct> & <chr> & <lgl>\\\\\n",
       "\\hline\n",
       "\t1 & 1000019 & NA & NA & NA & NA &    & FALSE\\\\\n",
       "\t2 & 1000022 & NA & NA & NA & NA &    & FALSE\\\\\n",
       "\t3 & 1000035 & NA & NA & NA & NA &    & FALSE\\\\\n",
       "\t4 & 1000046 & NA & NA & 0  & NA & 0  & FALSE\\\\\n",
       "\t5 & 1000054 & NA & NA & NA & NA &    & FALSE\\\\\n",
       "\t6 & 1000063 & 0  & NA & NA & NA & 0  & FALSE\\\\\n",
       "\t7 & 1000078 & NA & 0  & 0  & NA & 00 & FALSE\\\\\n",
       "\t8 & 1000105 & 1  & NA & NA & NA & 1  & FALSE\\\\\n",
       "\t9 & 1000112 & NA & NA & 0  & NA & 0  & FALSE\\\\\n",
       "\t10 & 1000129 & NA & NA & NA & NA &    & FALSE\\\\\n",
       "\t11 & 1000137 & NA & NA & NA & NA &    & FALSE\\\\\n",
       "\t12 & 1000141 & 0  & NA & NA & NA & 0  & FALSE\\\\\n",
       "\t13 & 1000164 & NA & NA & NA & NA &    & FALSE\\\\\n",
       "\t14 & 1000170 & NA & NA & NA & NA &    & FALSE\\\\\n",
       "\t15 & 1000186 & NA & NA & NA & NA &    & FALSE\\\\\n",
       "\t16 & 1000198 & NA & NA & NA & NA &    & FALSE\\\\\n",
       "\t17 & 1000203 & NA & NA & NA & NA &    & FALSE\\\\\n",
       "\t18 & 1000210 & NA & NA & NA & NA &    & FALSE\\\\\n",
       "\t19 & 1000224 & NA & NA & NA & NA &    & FALSE\\\\\n",
       "\t20 & 1000236 & 0  & NA & 0  & NA & 00 & FALSE\\\\\n",
       "\t21 & 1000248 & 0  & NA & NA & NA & 0  & FALSE\\\\\n",
       "\t22 & 1000269 & NA & NA & 0  & NA & 0  & FALSE\\\\\n",
       "\t23 & 1000287 & NA & NA & NA & NA &    & FALSE\\\\\n",
       "\t24 & 1000291 & NA & NA & NA & NA &    & FALSE\\\\\n",
       "\t25 & 1000318 & NA & NA & NA & NA &    & FALSE\\\\\n",
       "\t26 & 1000340 & 0  & NA & NA & NA & 0  & FALSE\\\\\n",
       "\t27 & 1000357 & 1  & NA & NA & NA & 1  & FALSE\\\\\n",
       "\t28 & 1000362 & NA & NA & NA & NA &    & FALSE\\\\\n",
       "\t29 & 1000379 & 0  & NA & NA & NA & 0  & FALSE\\\\\n",
       "\t30 & 1000408 & NA & NA & NA & NA &    & FALSE\\\\\n",
       "\t31 & 1000421 & 0  & NA & NA & NA & 0  & FALSE\\\\\n",
       "\t32 & 1000443 & NA & NA & 1  & NA & 1  & FALSE\\\\\n",
       "\t33 & 1000450 & NA & NA & NA & NA &    & FALSE\\\\\n",
       "\t34 & 1000494 & 1  & NA & NA & NA & 1  & FALSE\\\\\n",
       "\t35 & 1000516 & 0  & NA & NA & NA & 0  & FALSE\\\\\n",
       "\t36 & 1000527 & 0  & NA & NA & NA & 0  & FALSE\\\\\n",
       "\t37 & 1000530 & 0  & NA & NA & NA & 0  & FALSE\\\\\n",
       "\t38 & 1000549 & 0  & NA & NA & NA & 0  & FALSE\\\\\n",
       "\t39 & 1000573 & NA & NA & NA & NA &    & FALSE\\\\\n",
       "\t40 & 1000584 & 0  & NA & NA & NA & 0  & FALSE\\\\\n",
       "\\end{tabular}\n"
      ],
      "text/markdown": [
       "\n",
       "A data.frame: 40 × 7\n",
       "\n",
       "| <!--/--> | IID &lt;int&gt; | f.4803.0.0_recode &lt;fct&gt; | f.4803.1.0_recode &lt;fct&gt; | f.4803.2.0_recode &lt;fct&gt; | f.4803.3.0_recode &lt;fct&gt; | visit &lt;chr&gt; | removed &lt;lgl&gt; |\n",
       "|---|---|---|---|---|---|---|---|\n",
       "| 1 | 1000019 | NA | NA | NA | NA | <!----> | FALSE |\n",
       "| 2 | 1000022 | NA | NA | NA | NA | <!----> | FALSE |\n",
       "| 3 | 1000035 | NA | NA | NA | NA | <!----> | FALSE |\n",
       "| 4 | 1000046 | NA | NA | 0  | NA | 0  | FALSE |\n",
       "| 5 | 1000054 | NA | NA | NA | NA | <!----> | FALSE |\n",
       "| 6 | 1000063 | 0  | NA | NA | NA | 0  | FALSE |\n",
       "| 7 | 1000078 | NA | 0  | 0  | NA | 00 | FALSE |\n",
       "| 8 | 1000105 | 1  | NA | NA | NA | 1  | FALSE |\n",
       "| 9 | 1000112 | NA | NA | 0  | NA | 0  | FALSE |\n",
       "| 10 | 1000129 | NA | NA | NA | NA | <!----> | FALSE |\n",
       "| 11 | 1000137 | NA | NA | NA | NA | <!----> | FALSE |\n",
       "| 12 | 1000141 | 0  | NA | NA | NA | 0  | FALSE |\n",
       "| 13 | 1000164 | NA | NA | NA | NA | <!----> | FALSE |\n",
       "| 14 | 1000170 | NA | NA | NA | NA | <!----> | FALSE |\n",
       "| 15 | 1000186 | NA | NA | NA | NA | <!----> | FALSE |\n",
       "| 16 | 1000198 | NA | NA | NA | NA | <!----> | FALSE |\n",
       "| 17 | 1000203 | NA | NA | NA | NA | <!----> | FALSE |\n",
       "| 18 | 1000210 | NA | NA | NA | NA | <!----> | FALSE |\n",
       "| 19 | 1000224 | NA | NA | NA | NA | <!----> | FALSE |\n",
       "| 20 | 1000236 | 0  | NA | 0  | NA | 00 | FALSE |\n",
       "| 21 | 1000248 | 0  | NA | NA | NA | 0  | FALSE |\n",
       "| 22 | 1000269 | NA | NA | 0  | NA | 0  | FALSE |\n",
       "| 23 | 1000287 | NA | NA | NA | NA | <!----> | FALSE |\n",
       "| 24 | 1000291 | NA | NA | NA | NA | <!----> | FALSE |\n",
       "| 25 | 1000318 | NA | NA | NA | NA | <!----> | FALSE |\n",
       "| 26 | 1000340 | 0  | NA | NA | NA | 0  | FALSE |\n",
       "| 27 | 1000357 | 1  | NA | NA | NA | 1  | FALSE |\n",
       "| 28 | 1000362 | NA | NA | NA | NA | <!----> | FALSE |\n",
       "| 29 | 1000379 | 0  | NA | NA | NA | 0  | FALSE |\n",
       "| 30 | 1000408 | NA | NA | NA | NA | <!----> | FALSE |\n",
       "| 31 | 1000421 | 0  | NA | NA | NA | 0  | FALSE |\n",
       "| 32 | 1000443 | NA | NA | 1  | NA | 1  | FALSE |\n",
       "| 33 | 1000450 | NA | NA | NA | NA | <!----> | FALSE |\n",
       "| 34 | 1000494 | 1  | NA | NA | NA | 1  | FALSE |\n",
       "| 35 | 1000516 | 0  | NA | NA | NA | 0  | FALSE |\n",
       "| 36 | 1000527 | 0  | NA | NA | NA | 0  | FALSE |\n",
       "| 37 | 1000530 | 0  | NA | NA | NA | 0  | FALSE |\n",
       "| 38 | 1000549 | 0  | NA | NA | NA | 0  | FALSE |\n",
       "| 39 | 1000573 | NA | NA | NA | NA | <!----> | FALSE |\n",
       "| 40 | 1000584 | 0  | NA | NA | NA | 0  | FALSE |\n",
       "\n"
      ],
      "text/plain": [
       "   IID     f.4803.0.0_recode f.4803.1.0_recode f.4803.2.0_recode\n",
       "1  1000019 NA                NA                NA               \n",
       "2  1000022 NA                NA                NA               \n",
       "3  1000035 NA                NA                NA               \n",
       "4  1000046 NA                NA                0                \n",
       "5  1000054 NA                NA                NA               \n",
       "6  1000063 0                 NA                NA               \n",
       "7  1000078 NA                0                 0                \n",
       "8  1000105 1                 NA                NA               \n",
       "9  1000112 NA                NA                0                \n",
       "10 1000129 NA                NA                NA               \n",
       "11 1000137 NA                NA                NA               \n",
       "12 1000141 0                 NA                NA               \n",
       "13 1000164 NA                NA                NA               \n",
       "14 1000170 NA                NA                NA               \n",
       "15 1000186 NA                NA                NA               \n",
       "16 1000198 NA                NA                NA               \n",
       "17 1000203 NA                NA                NA               \n",
       "18 1000210 NA                NA                NA               \n",
       "19 1000224 NA                NA                NA               \n",
       "20 1000236 0                 NA                0                \n",
       "21 1000248 0                 NA                NA               \n",
       "22 1000269 NA                NA                0                \n",
       "23 1000287 NA                NA                NA               \n",
       "24 1000291 NA                NA                NA               \n",
       "25 1000318 NA                NA                NA               \n",
       "26 1000340 0                 NA                NA               \n",
       "27 1000357 1                 NA                NA               \n",
       "28 1000362 NA                NA                NA               \n",
       "29 1000379 0                 NA                NA               \n",
       "30 1000408 NA                NA                NA               \n",
       "31 1000421 0                 NA                NA               \n",
       "32 1000443 NA                NA                1                \n",
       "33 1000450 NA                NA                NA               \n",
       "34 1000494 1                 NA                NA               \n",
       "35 1000516 0                 NA                NA               \n",
       "36 1000527 0                 NA                NA               \n",
       "37 1000530 0                 NA                NA               \n",
       "38 1000549 0                 NA                NA               \n",
       "39 1000573 NA                NA                NA               \n",
       "40 1000584 0                 NA                NA               \n",
       "   f.4803.3.0_recode visit removed\n",
       "1  NA                      FALSE  \n",
       "2  NA                      FALSE  \n",
       "3  NA                      FALSE  \n",
       "4  NA                0     FALSE  \n",
       "5  NA                      FALSE  \n",
       "6  NA                0     FALSE  \n",
       "7  NA                00    FALSE  \n",
       "8  NA                1     FALSE  \n",
       "9  NA                0     FALSE  \n",
       "10 NA                      FALSE  \n",
       "11 NA                      FALSE  \n",
       "12 NA                0     FALSE  \n",
       "13 NA                      FALSE  \n",
       "14 NA                      FALSE  \n",
       "15 NA                      FALSE  \n",
       "16 NA                      FALSE  \n",
       "17 NA                      FALSE  \n",
       "18 NA                      FALSE  \n",
       "19 NA                      FALSE  \n",
       "20 NA                00    FALSE  \n",
       "21 NA                0     FALSE  \n",
       "22 NA                0     FALSE  \n",
       "23 NA                      FALSE  \n",
       "24 NA                      FALSE  \n",
       "25 NA                      FALSE  \n",
       "26 NA                0     FALSE  \n",
       "27 NA                1     FALSE  \n",
       "28 NA                      FALSE  \n",
       "29 NA                0     FALSE  \n",
       "30 NA                      FALSE  \n",
       "31 NA                0     FALSE  \n",
       "32 NA                1     FALSE  \n",
       "33 NA                      FALSE  \n",
       "34 NA                1     FALSE  \n",
       "35 NA                0     FALSE  \n",
       "36 NA                0     FALSE  \n",
       "37 NA                0     FALSE  \n",
       "38 NA                0     FALSE  \n",
       "39 NA                      FALSE  \n",
       "40 NA                0     FALSE  "
      ]
     },
     "metadata": {},
     "output_type": "display_data"
    }
   ],
   "source": [
    "# define cases and control for specific analysis:\n",
    "all_answers<-c(\"0\",\"1\",\"2\",\"3\",\"4\",\"9\")\n",
    "control<-c('0')\n",
    "cases<-c(\"1\",\"2\",\"3\",\"4\")\n",
    "\n",
    "f3<-function(x){\n",
    "  get_rid_of<-setdiff(all_answers,union(cases,control))\n",
    "\n",
    "  for (i in get_rid_of){\n",
    "  if (grepl(i,x[which(colnames(data_sub)==\"visit\")])){\n",
    "    removed=TRUE\n",
    "    break\n",
    "  }\n",
    "  else{removed=FALSE}\n",
    "  }\n",
    "  return (removed)\n",
    "}\n",
    "data_p1<-data_sub\n",
    "data_p1$removed<-apply(data_p1, 1, f3)\n",
    "\n",
    "# filter \n",
    "data_p1<-data_p1 %>%\n",
    "  filter(removed==FALSE)\n",
    "head(data_p1,40)"
   ]
  },
  {
   "cell_type": "code",
   "execution_count": 101,
   "metadata": {
    "kernel": "R"
   },
   "outputs": [
    {
     "data": {
      "text/plain": [
       "\n",
       "            0     00    000   0000   0001    001   0010   0011     01    010 \n",
       "207944  87438  10425   1475     73      4    122      3      3   1717     78 \n",
       "  0100    011   0111      1     10    100   1000    101   1010   1011     11 \n",
       "     3    131      6  36961   1014     97      6     42      2      2   3717 \n",
       "   110   1100   1101    111   1110   1111 \n",
       "    59      3      5    430      4     19 "
      ]
     },
     "metadata": {},
     "output_type": "display_data"
    }
   ],
   "source": [
    "# change all \"1\", \"2\" \"3\" and \"4\" into \"1\"\n",
    "data_p1$visit<-gsub(\"1|2|3|4\",\"1\",data_p1$visit) \n",
    "table(data_p1$visit)"
   ]
  },
  {
   "cell_type": "code",
   "execution_count": 79,
   "metadata": {
    "kernel": "R"
   },
   "outputs": [
    {
     "data": {
      "text/html": [
       "<style>\n",
       ".list-inline {list-style: none; margin:0; padding: 0}\n",
       ".list-inline>li {display: inline-block}\n",
       ".list-inline>li:not(:last-child)::after {content: \"\\00b7\"; padding: 0 .5ex}\n",
       "</style>\n",
       "<ol class=list-inline><li>''</li><li>'0'</li><li>'00'</li><li>'000'</li><li>'0000'</li><li>'0001'</li><li>'001'</li><li>'0010'</li><li>'0011'</li><li>'01'</li><li>'010'</li><li>'0100'</li><li>'011'</li><li>'0111'</li><li>'1'</li><li>'10'</li><li>'100'</li><li>'1000'</li><li>'101'</li><li>'1010'</li><li>'1011'</li><li>'11'</li><li>'110'</li><li>'1100'</li><li>'1101'</li><li>'111'</li><li>'1110'</li><li>'1111'</li></ol>\n"
      ],
      "text/latex": [
       "\\begin{enumerate*}\n",
       "\\item ''\n",
       "\\item '0'\n",
       "\\item '00'\n",
       "\\item '000'\n",
       "\\item '0000'\n",
       "\\item '0001'\n",
       "\\item '001'\n",
       "\\item '0010'\n",
       "\\item '0011'\n",
       "\\item '01'\n",
       "\\item '010'\n",
       "\\item '0100'\n",
       "\\item '011'\n",
       "\\item '0111'\n",
       "\\item '1'\n",
       "\\item '10'\n",
       "\\item '100'\n",
       "\\item '1000'\n",
       "\\item '101'\n",
       "\\item '1010'\n",
       "\\item '1011'\n",
       "\\item '11'\n",
       "\\item '110'\n",
       "\\item '1100'\n",
       "\\item '1101'\n",
       "\\item '111'\n",
       "\\item '1110'\n",
       "\\item '1111'\n",
       "\\end{enumerate*}\n"
      ],
      "text/markdown": [
       "1. ''\n",
       "2. '0'\n",
       "3. '00'\n",
       "4. '000'\n",
       "5. '0000'\n",
       "6. '0001'\n",
       "7. '001'\n",
       "8. '0010'\n",
       "9. '0011'\n",
       "10. '01'\n",
       "11. '010'\n",
       "12. '0100'\n",
       "13. '011'\n",
       "14. '0111'\n",
       "15. '1'\n",
       "16. '10'\n",
       "17. '100'\n",
       "18. '1000'\n",
       "19. '101'\n",
       "20. '1010'\n",
       "21. '1011'\n",
       "22. '11'\n",
       "23. '110'\n",
       "24. '1100'\n",
       "25. '1101'\n",
       "26. '111'\n",
       "27. '1110'\n",
       "28. '1111'\n",
       "\n",
       "\n"
      ],
      "text/plain": [
       " [1] \"\"     \"0\"    \"00\"   \"000\"  \"0000\" \"0001\" \"001\"  \"0010\" \"0011\" \"01\"  \n",
       "[11] \"010\"  \"0100\" \"011\"  \"0111\" \"1\"    \"10\"   \"100\"  \"1000\" \"101\"  \"1010\"\n",
       "[21] \"1011\" \"11\"   \"110\"  \"1100\" \"1101\" \"111\"  \"1110\" \"1111\""
      ]
     },
     "metadata": {},
     "output_type": "display_data"
    }
   ],
   "source": [
    "names(table(data_p1$visit))"
   ]
  },
  {
   "cell_type": "code",
   "execution_count": 80,
   "metadata": {
    "kernel": "R"
   },
   "outputs": [
    {
     "data": {
      "text/html": [
       "<style>\n",
       ".list-inline {list-style: none; margin:0; padding: 0}\n",
       ".list-inline>li {display: inline-block}\n",
       ".list-inline>li:not(:last-child)::after {content: \"\\00b7\"; padding: 0 .5ex}\n",
       "</style>\n",
       "<ol class=list-inline><li>142521</li><li>1079</li></ol>\n"
      ],
      "text/latex": [
       "\\begin{enumerate*}\n",
       "\\item 142521\n",
       "\\item 1079\n",
       "\\end{enumerate*}\n"
      ],
      "text/markdown": [
       "1. 142521\n",
       "2. 1079\n",
       "\n",
       "\n"
      ],
      "text/plain": [
       "[1] 142521   1079"
      ]
     },
     "metadata": {},
     "output_type": "display_data"
    }
   ],
   "source": [
    "# get the dataset for plan 1:\n",
    "IID_plan1<-data_p1$IID\n",
    "data_p1<-data_cleaned[which(data_cleaned$IID%in%IID_plan1),]\n",
    "dim(data_p1)"
   ]
  },
  {
   "cell_type": "code",
   "execution_count": 104,
   "metadata": {
    "kernel": "R"
   },
   "outputs": [
    {
     "ename": "ERROR",
     "evalue": "Error in `[.data.frame`(data_p1, , new_column_name): object 'new_column_name' not found\n",
     "output_type": "error",
     "traceback": [
      "Error in `[.data.frame`(data_p1, , new_column_name): object 'new_column_name' not found\nTraceback:\n",
      "1. head(data_p1[, new_column_name], 40)",
      "2. data_p1[, new_column_name]",
      "3. `[.data.frame`(data_p1, , new_column_name)"
     ]
    }
   ],
   "source": [
    "head(data_p1[,new_column_name],40)"
   ]
  },
  {
   "cell_type": "code",
   "execution_count": null,
   "metadata": {
    "kernel": "SoS"
   },
   "outputs": [],
   "source": [
    "write.csv(data_plan1, 'UKBB_HI_genotypeqc_data_plan1.csv', row.names = FALSE)"
   ]
  },
  {
   "cell_type": "code",
   "execution_count": 82,
   "metadata": {
    "kernel": "R"
   },
   "outputs": [
    {
     "data": {
      "text/plain": [
       "\n",
       "   9    0    1 \n",
       "   0 1451  684 "
      ]
     },
     "metadata": {},
     "output_type": "display_data"
    }
   ],
   "source": [
    "table(data_p1$f.4803.3.0_recode)"
   ]
  },
  {
   "cell_type": "markdown",
   "metadata": {
    "kernel": "R"
   },
   "source": [
    "### Binary variable recoding"
   ]
  },
  {
   "cell_type": "code",
   "execution_count": null,
   "metadata": {
    "kernel": "R"
   },
   "outputs": [],
   "source": [
    "## Variable recoding\n",
    "binary.rc <- c(\"No\"=\"No\",\n",
    "               \"Yes\"=\"Yes\",\n",
    "               \"Prefer not to answer\"= NA,\n",
    "               \"Do not know\"= NA)"
   ]
  },
  {
   "cell_type": "code",
   "execution_count": null,
   "metadata": {
    "kernel": "SoS"
   },
   "outputs": [],
   "source": [
    "table(data_plan1$f.4803.0.0_recode)"
   ]
  },
  {
   "cell_type": "markdown",
   "metadata": {
    "kernel": "R"
   },
   "source": [
    "Recode tinnitus to a binary variable f.4803"
   ]
  },
  {
   "cell_type": "code",
   "execution_count": null,
   "metadata": {
    "kernel": "R"
   },
   "outputs": [],
   "source": [
    "data_plan1$f.4803.0.0_recode <- revalue(data_plan1$f.4803.0.0_recode, binary.rc)\n",
    "data_plan1$f.4803.1.0_recode <- revalue(data_plan1$f.4803.1.0_recode, binary.rc)\n",
    "data_plan1$f.4803.2.0_recode <- revalue(data_plan1$f.4803.2.0_recode, binary.rc)\n",
    "data_plan1$f.4803.3.0_recode <- revalue(data_plan1$f.4803.3.0_recode, binary.rc)\n",
    "table(data_plan1$f.4803.0.0_recode)"
   ]
  },
  {
   "cell_type": "markdown",
   "metadata": {
    "kernel": "R"
   },
   "source": [
    "### c. Filtering of the tinnitus phenotype"
   ]
  },
  {
   "cell_type": "markdown",
   "metadata": {
    "kernel": "R"
   },
   "source": [
    "Define cases with tinnitus where all yes categories are considered cases"
   ]
  },
  {
   "cell_type": "code",
   "execution_count": 102,
   "metadata": {
    "kernel": "R"
   },
   "outputs": [],
   "source": [
    "data_p1$cases <- with(data_p1, ifelse(f.4803.0.0_recode == 0 & (f.4803.1.0_recode == 1 | f.4803.2.0_recode == 1 | f.4803.3.0_recode == 1)   \n",
    "                                   | f.4803.0.0_recode %in% c(1,NA) & (f.4803.1.0_recode %in% c(1,NA) | f.4803.2.0_recode %in% c(1,NA) | f.4803.3.0_recode %in% c(1,NA))\n",
    "                                  & !(f.4803.0.0_recode %in% c(NA) & f.4803.1.0_recode %in% c(NA) & f.4803.2.0_recode %in% c(NA) & f.4803.3.0_recode %in% c(NA))\n",
    "                                      ,1, NA))"
   ]
  },
  {
   "cell_type": "markdown",
   "metadata": {
    "kernel": "R"
   },
   "source": [
    "Number of cases"
   ]
  },
  {
   "cell_type": "code",
   "execution_count": 103,
   "metadata": {
    "kernel": "R"
   },
   "outputs": [
    {
     "data": {
      "text/plain": [
       "\n",
       "    1 \n",
       "64367 "
      ]
     },
     "metadata": {},
     "output_type": "display_data"
    }
   ],
   "source": [
    "table(data_p1$cases)"
   ]
  },
  {
   "cell_type": "markdown",
   "metadata": {
    "kernel": "R"
   },
   "source": [
    "Define controls (no tinnitus)"
   ]
  },
  {
   "cell_type": "code",
   "execution_count": 87,
   "metadata": {
    "kernel": "R"
   },
   "outputs": [],
   "source": [
    "data_p1$controls <- with(data_p1, ifelse(f.4803.0.0_recode %in% c(0,NA) & f.4803.1.0_recode %in% c(0, NA) & f.4803.2.0_recode %in% c(0,NA) &f.4803.3.0_recode %in% c(0,NA)\n",
    "                                         & !(f.4803.0.0_recode %in% c(NA) & f.4803.1.0_recode %in% c(NA) & f.4803.2.0_recode %in% c(NA) & f.4803.3.0_recode %in% c(NA)) ,0, NA))"
   ]
  },
  {
   "cell_type": "markdown",
   "metadata": {
    "kernel": "R"
   },
   "source": [
    "Number of controls"
   ]
  },
  {
   "cell_type": "code",
   "execution_count": 88,
   "metadata": {
    "kernel": "R"
   },
   "outputs": [
    {
     "data": {
      "text/plain": [
       "\n",
       "    0 \n",
       "99411 "
      ]
     },
     "metadata": {},
     "output_type": "display_data"
    }
   ],
   "source": [
    "table(data_p1$controls)"
   ]
  },
  {
   "cell_type": "markdown",
   "metadata": {
    "kernel": "R"
   },
   "source": [
    "Create a column with the binary status for tinnitus of the individuals"
   ]
  },
  {
   "cell_type": "code",
   "execution_count": null,
   "metadata": {
    "kernel": "R"
   },
   "outputs": [],
   "source": [
    "data_plan1$tinnitus <- coalesce(data_plan1$cases, data_plan1$controls)\n",
    "table(data_plan1$tinnitus)"
   ]
  },
  {
   "cell_type": "code",
   "execution_count": null,
   "metadata": {
    "kernel": "R"
   },
   "outputs": [],
   "source": [
    "# Get the number of NAs\n",
    "length(which(is.na(data_plan1$tinnitus)))"
   ]
  },
  {
   "cell_type": "markdown",
   "metadata": {
    "kernel": "R"
   },
   "source": [
    "### d. Obtaining the age for tinnitus cases and controls"
   ]
  },
  {
   "cell_type": "markdown",
   "metadata": {
    "kernel": "R"
   },
   "source": [
    "Get the \"age at onset\" of tinnitus using f.21003 Age when attended assessment centre for each of the instances\n",
    "For cases first time they replied yes to f.4803"
   ]
  },
  {
   "cell_type": "code",
   "execution_count": null,
   "metadata": {
    "kernel": "R"
   },
   "outputs": [],
   "source": [
    "# Get the subset of data to extract age\n",
    "age_all = df %>% \n",
    "  filter(!is.na(tinnitus)) %>%\n",
    "  select(IID,tinnitus, f.4803.0.0.rc, f.4803.1.0.rc, f.4803.2.0.rc, f.4803.3.0.rc, f.21003.0.0, f.21003.1.0, f.21003.2.0, f.21003.3.0)  # data_filed 210003: Age when attended assessment centre\n",
    "head(age_all)"
   ]
  },
  {
   "cell_type": "code",
   "execution_count": null,
   "metadata": {
    "kernel": "R"
   },
   "outputs": [],
   "source": [
    "# Get the subset data of cases\n",
    "age_cases = age_all %>% \n",
    "  filter(tinnitus==\"Yes\")  %>%\n",
    "  select(IID,f.4803.0.0.rc,f.4803.1.0.rc,f.4803.2.0.rc,f.4803.3.0.rc,f.21003.0.0,f.21003.1.0,f.21003.2.0,f.21003.3.0)\n",
    "head(age_cases,12)"
   ]
  },
  {
   "cell_type": "code",
   "execution_count": null,
   "metadata": {
    "kernel": "R"
   },
   "outputs": [],
   "source": [
    "# Get the # of column where first replied Yes:\n",
    "age_cases$visit_idx = apply(age_cases, 1, function(x) unlist(which(x == 'Yes')))\n",
    "head(age_cases)"
   ]
  },
  {
   "cell_type": "code",
   "execution_count": null,
   "metadata": {
    "kernel": "R"
   },
   "outputs": [],
   "source": [
    "# Define offset:\n",
    "# offset: refers to the # of columns between the first age column (i.e.f.21003.0.0) and the first recode column (i.e.f.4803.0.0.rc)\n",
    "offset = which(colnames(age_cases) == 'f.21003.0.0') - which(colnames(age_cases) == 'f.4803.0.0.rc')\n",
    "\n",
    "# Define the function to extract the first time they said yes for cases \n",
    "f=get_age_func <- function(x) {\n",
    "  visit_index=x[which(colnames(age_cases)==\"visit_idx\")]\n",
    "  index=min(unlist(visit_index))+offset\n",
    "  age=x[index]\n",
    "  final_age=unlist(age)\n",
    "  if(is.null(final_age))\n",
    "  {final_age<-NA}\n",
    "  return(final_age)\n",
    "}\n",
    "\n",
    "# Get the final age for cases\n",
    "age_cases$age_final = apply(age_cases, 1, f)\n",
    "\n",
    "# Show first 6 rows\n",
    "head(age_cases)\n",
    "summary(age_cases$age_final)"
   ]
  },
  {
   "cell_type": "markdown",
   "metadata": {
    "kernel": "R"
   },
   "source": [
    "Get the age for controls last time they replied no to f.4803"
   ]
  },
  {
   "cell_type": "code",
   "execution_count": null,
   "metadata": {
    "kernel": "R"
   },
   "outputs": [],
   "source": [
    "# Get the subset data of controls\n",
    "age_control = age_all %>% \n",
    "  filter(tinnitus==\"No\")  %>%\n",
    "  select(IID,f.4803.0.0.rc,f.4803.1.0.rc,f.4803.2.0.rc,f.4803.3.0.rc,f.21003.0.0,f.21003.1.0,f.21003.2.0,f.21003.3.0)\n",
    "head(age_control,12)"
   ]
  },
  {
   "cell_type": "code",
   "execution_count": null,
   "metadata": {
    "kernel": "R"
   },
   "outputs": [],
   "source": [
    "# Get the # of column where last replied No:\n",
    "age_control$visit_idx = apply(age_control, 1, function(x) unlist(which(x == 'No')))\n",
    "\n",
    "# Define offset:\n",
    "# offset: refers to the # of columns between the first age column (i.e.f.21003.0.0) and the first recode column (i.e.f.4803.0.0.rc)\n",
    "offset = which(colnames(age_control) == 'f.21003.0.0') - which(colnames(age_control) == 'f.4803.0.0.rc')\n",
    "\n",
    "# Define the function to extract the last time they said no for control\n",
    "\n",
    "f=get_age_func <- function(x) {\n",
    "  visit_index=x[which(colnames(age_control)==\"visit_idx\")]\n",
    "  index=max(unlist(visit_index))+offset\n",
    "  age=x[index]\n",
    "  age=unlist(age)\n",
    "  return(age)\n",
    "}\n",
    "\n",
    "# Get the final age for controls\n",
    "age_control$age_final = apply(age_control, 1, f)\n",
    "\n",
    "# Show first 6 rows\n",
    "head(age_control)\n",
    "summary(age_control$age_final)"
   ]
  },
  {
   "cell_type": "code",
   "execution_count": null,
   "metadata": {
    "kernel": "R"
   },
   "outputs": [],
   "source": [
    "# Merge age_cases and age_controls\n",
    "age_tinnitus <- rbind(age_cases, age_control) \n",
    "dim(age_tinnitus)\n",
    "head(age_tinnitus)"
   ]
  },
  {
   "cell_type": "code",
   "execution_count": null,
   "metadata": {
    "kernel": "R"
   },
   "outputs": [],
   "source": [
    "#Merge with complete database keep the all the rows from original db\n",
    "df.age = merge(x = df,y = age_tinnitus[,c(\"IID\",\"age_final\")],by=\"IID\", all.x=TRUE)\n",
    "dim(df.age)"
   ]
  },
  {
   "cell_type": "markdown",
   "metadata": {
    "kernel": "R"
   },
   "source": [
    "### Recode noisy workplace f.4825 and loud music frequency exposure f.4836"
   ]
  },
  {
   "cell_type": "code",
   "execution_count": null,
   "metadata": {
    "kernel": "R"
   },
   "outputs": [],
   "source": [
    "# Recode function:\n",
    "recode_ordinal<-function(df,column_name){\n",
    "  new_names<-c()\n",
    "  for (i in column_name){\n",
    "    new_column_name<-paste0(i,\"_recode\")\n",
    "    new_names<-c(new_names,new_column_name)\n",
    "    df[,new_column_name] <- revalue(df[,i], c(\"No\"= \"0\", \n",
    "                                            \"Yes, for less than a year\"= \"1\", \n",
    "                                            \"Yes, for around 1-5 years\"= \"2\", \n",
    "                                            \"Yes, for more than 5 years\"= \"3\",\n",
    "                                            \"Prefer not to answer\"= NA,\n",
    "                                            \"Do not know\"= NA ))\n",
    "    df[,new_column_name] <- ordered(df[,new_column_name] , c(\"0\", \"1\", \"2\", \"3\"))\n",
    "  }\n",
    "  return (list(df=df,new_column_names=new_names))\n",
    "}\n",
    "# columns needs to be recoded:\n",
    "column_name<-c(\"f.4825.0.0\", \"f.4825.1.0\", \"f.4825.2.0\", \"f.4825.3.0\",\"f.4836.0.0\", \"f.4836.1.0\", \"f.4836.2.0\", \"f.4836.3.0\")\n",
    "# get a new data.frame with recoded columns added:\n",
    "data_cleaned<-recode_ordinal(df=data_cleaned,column_name)$df\n",
    "# get names of recoded columns:\n",
    "new_column_names<-recode_ordinal(df=data_cleaned,column_name)$new_column_names\n",
    "# show recode summary:\n",
    "for (i in new_column_names)\n",
    "{cat(i,\"summary:\");print(table(data_cleaned[,i]));cat(\"\\n\")}"
   ]
  },
  {
   "cell_type": "markdown",
   "metadata": {
    "kernel": "R"
   },
   "source": [
    "### Checking consistency of the f.4825 noisy workplace and filtering"
   ]
  },
  {
   "cell_type": "code",
   "execution_count": null,
   "metadata": {
    "kernel": "R"
   },
   "outputs": [],
   "source": [
    "# Extract subset of data only with the recode columns of noisy workplace variable\n",
    "data_noise <- data_cleaned %>%\n",
    "  select(IID, \"f.4825.0.0\", \"f.4825.1.0\", \"f.4825.2.0\", \"f.4825.3.0\") >%>\n",
    "    \n",
    "dim(data_noise)"
   ]
  },
  {
   "cell_type": "code",
   "execution_count": null,
   "metadata": {
    "kernel": "R",
    "scrolled": true
   },
   "outputs": [],
   "source": [
    "# Function to extract all the available answers for 4 visits\n",
    "# and put them in one list\n",
    "f<-function(x){\n",
    "  visit<-c()\n",
    "  for (i in 2:5){\n",
    "    if (!is.na(x[i]))\n",
    "    {visit<-c(visit,x[i])}\n",
    "  }\n",
    "  if(is.null(visit)){visit=NA}\n",
    "  else{visit=as.numeric(visit)}\n",
    "  return (visit)\n",
    "}\n",
    "\n",
    "# Apply the above function and remove NAs\n",
    "data_noise$visit<-apply(data_noise, 1, f)"
   ]
  },
  {
   "cell_type": "code",
   "execution_count": null,
   "metadata": {
    "kernel": "R",
    "scrolled": true
   },
   "outputs": [],
   "source": [
    "data_noise<-data_noise %>%\n",
    "  filter(!is.na(visit)) \n",
    "head(data_noise)\n",
    "dim(data_noise)"
   ]
  },
  {
   "cell_type": "code",
   "execution_count": null,
   "metadata": {
    "kernel": "R"
   },
   "outputs": [],
   "source": [
    "# Function to get the final code for noise_wp\n",
    "f<-function(x){\n",
    "  l=length(x$visit)\n",
    "  if (l==1){ # only one answer available\n",
    "    result=x$visit\n",
    "  }\n",
    "  else{ # more then one answer available\n",
    "    result=x$visit[1]\n",
    "    for (i in 2:l){\n",
    "      if (x$visit[i] >= x$visit[i-1]){result=x$visit[i]} # consistent ones\n",
    "      else {result=NA; break} # inconsistent ones\n",
    "    }\n",
    "  }\n",
    "  return(result)\n",
    "}\n",
    "\n",
    "# Apply the above function and remove NAs\n",
    "data_noise$noise_wp<-apply(data_noise, 1, f)\n",
    "data_noise<-data_noise %>%\n",
    "  filter(!is.na(noise_wp)) \n",
    "head(data_noise, 12) # note: noise_wp code generated here is numeric, not factor"
   ]
  },
  {
   "cell_type": "code",
   "execution_count": null,
   "metadata": {
    "kernel": "R"
   },
   "outputs": [],
   "source": [
    "# Append the noise variable to the data\n",
    "df.noise = merge(x = df.age,y = data_noise[,c(\"IID\", \"noise_wp\")],by=\"IID\", all.x=TRUE)\n",
    "dim(df.noise)"
   ]
  },
  {
   "cell_type": "markdown",
   "metadata": {
    "kernel": "R"
   },
   "source": [
    "### Checking consistency of the f.4836 loud music exposure frequency and filtering"
   ]
  },
  {
   "cell_type": "code",
   "execution_count": null,
   "metadata": {
    "kernel": "R"
   },
   "outputs": [],
   "source": [
    "# Extract subset of data only with the recode columns of loud music exposure variable f.4836\n",
    "data_music <-  df.age %>%\n",
    "  select(IID,f.4836.0.0.rc,f.4836.1.0.rc,f.4836.2.0.rc,f.4836.3.0.rc) \n",
    "head(data_music)\n",
    "dim(data_music)"
   ]
  },
  {
   "cell_type": "code",
   "execution_count": null,
   "metadata": {
    "kernel": "R"
   },
   "outputs": [],
   "source": [
    "# Function to extract all the available answers for 4 visits\n",
    "# and put them in one list\n",
    "\n",
    "f<-function(x){\n",
    "  visit<-c()\n",
    "  for (i in 2:5){\n",
    "    if (!is.na(x[i]))\n",
    "    {visit<-c(visit,x[i])}\n",
    "  }\n",
    "  if(is.null(visit)){visit=NA}\n",
    "  else{visit=as.numeric(visit)}\n",
    "  return (visit)\n",
    "}\n",
    "\n",
    "# Apply the above function and remove NAs\n",
    "                              \n",
    "data_music$visit<-apply(data_music, 1, f)\n",
    "data_music<-data_music %>%\n",
    "  filter(!is.na(visit)) \n",
    "head(data_music)\n",
    "dim(data_music)"
   ]
  },
  {
   "cell_type": "code",
   "execution_count": null,
   "metadata": {
    "kernel": "R"
   },
   "outputs": [],
   "source": [
    "# Function to get the final code for \"loud_music\"\n",
    "f<-function(x){\n",
    "  l=length(x$visit)\n",
    "  if (l==1){ # only one answer available\n",
    "    result=x$visit\n",
    "  }\n",
    "  else{ # more then one answer available\n",
    "    result=x$visit[1]\n",
    "    for (i in 2:l){\n",
    "      if (x$visit[i] >= x$visit[i-1]){result=x$visit[i]} # consistent ones\n",
    "      else {result=NA; break} # inconsistent ones\n",
    "    }\n",
    "  }\n",
    "  return(result)\n",
    "}\n",
    "\n",
    "# Apply the above function and remove NAs\n",
    "data_music$loud_music<-apply(data_music, 1, f)\n",
    "data_music<-data_music %>%\n",
    "  filter(!is.na(loud_music)) \n",
    "head(data_music, 12) # note: loud_music code generated here is numeric, not factor\n",
    "dim(data_music)"
   ]
  },
  {
   "cell_type": "code",
   "execution_count": null,
   "metadata": {
    "kernel": "R"
   },
   "outputs": [],
   "source": [
    "# Merge all of the variables in the final dataset\n",
    "df.final = merge(x = df.noise,y = data_music[,c(\"IID\", \"loud_music\")],by=\"IID\", all.x=TRUE)\n",
    "dim(df.final)  "
   ]
  },
  {
   "cell_type": "code",
   "execution_count": null,
   "metadata": {
    "kernel": "R"
   },
   "outputs": [],
   "source": [
    "# Recode function:\n",
    "recode<-function(df,column_name){\n",
    "  new_names<-c()\n",
    "  for (i in column_name){\n",
    "    new_column_name<-paste0(i,\"_recode\")\n",
    "    new_names<-c(new_names,new_column_name)\n",
    "    df[,new_column_name] <- revalue(df[,i], c(\"No, never\"= 0, \n",
    "                                            \"Yes, but not now, but have in the past\"= 1, \n",
    "                                            \"Yes, now some of the time\"= 2, \n",
    "                                            \"Yes, now a lot of the time\"= 3,\n",
    "                                            \"Yes, now most or all of the time\"= 4,\n",
    "                                            \"Prefer not to answer\"= NA,\n",
    "                                            \"Do not know\"= 9 ))\n",
    "  }\n",
    "  return (list(df=df,new_column_names=new_names))\n",
    "}\n",
    "\n",
    "# columns needs to be recoded:\n",
    "column_name<-c(\"f.4803.0.0\",\"f.4803.1.0\",\"f.4803.2.0\",\"f.4803.3.0\")\n",
    "\n",
    "# get a new data.frame with recoded columns added:\n",
    "df_recode<-recode(df=data_cleaned,column_name)$df\n",
    "\n",
    "# get names of recoded columns:\n",
    "new_column_names<-recode(df=data_cleaned,column_name)$new_column_names\n",
    "\n",
    "# show recode summary:\n",
    "for (i in new_column_names)\n",
    "{cat(i,\"summary:\");print(table(df_recode[,i]));cat(\"\\n\")}"
   ]
  },
  {
   "cell_type": "markdown",
   "metadata": {
    "kernel": "R"
   },
   "source": [
    "## Get patterns for all visits"
   ]
  },
  {
   "cell_type": "code",
   "execution_count": null,
   "metadata": {
    "kernel": "R"
   },
   "outputs": [],
   "source": [
    "# Extract subset of data only with the recode columns of tinnitus\n",
    "data_sub <- df_recode %>%\n",
    "  select(\"IID\",all_of(new_column_names)) \n",
    "\n",
    "# Function to extract all the available answers for 4 visits\n",
    "# and put them in one string as \"0000\", \"111\", \"991\", etc\n",
    "\n",
    "f2<-function(x){\n",
    "  visit<-''\n",
    "  for (i in 2:5){ # do not take the first column (i.e. IID)\n",
    "    if (!is.na(x[i]))\n",
    "    {visit<-paste0(visit,x[i])}\n",
    "  }\n",
    "  if(is.null(visit)){visit=NA}\n",
    "  else{visit=visit}\n",
    "  return (visit)\n",
    "}\n",
    "\n",
    "# Apply the above function and remove NAs\n",
    "data_sub$visit<-apply(data_sub, 1, f2)\n",
    "\n",
    "names(table(data_sub$visit))"
   ]
  },
  {
   "cell_type": "code",
   "execution_count": null,
   "metadata": {
    "kernel": "R"
   },
   "outputs": [],
   "source": [
    "all_pattern <- unique(data_sub$visit)\n",
    "\n",
    "cat(\"There are\",length(all_pattern),\"different combinations of answers.\\n\")"
   ]
  },
  {
   "cell_type": "code",
   "execution_count": null,
   "metadata": {
    "kernel": "R"
   },
   "outputs": [],
   "source": [
    "table(data_sub$visit)"
   ]
  },
  {
   "cell_type": "markdown",
   "metadata": {
    "kernel": "SoS"
   },
   "source": [
    "## Filtering for analysis plan 2"
   ]
  },
  {
   "cell_type": "code",
   "execution_count": null,
   "metadata": {
    "kernel": "SoS"
   },
   "outputs": [],
   "source": [
    "# define cases and control for specific analysis:\n",
    "all_answers<-c(\"0\",\"1\",\"2\",\"3\",\"4\",\"9\")\n",
    "control<-c('0')\n",
    "cases<-c(\"3\",\"4\")\n",
    "\n",
    "f3<-function(x){\n",
    "  get_rid_of<-setdiff(all_answers,union(cases,control))\n",
    "\n",
    "  for (i in get_rid_of){\n",
    "  if (grepl(i,x[which(colnames(data_sub)==\"visit\")])){\n",
    "    removed=TRUE\n",
    "    break\n",
    "  }\n",
    "  else{removed=FALSE}\n",
    "  }\n",
    "  return (removed)\n",
    "}\n",
    "data_sub2<-data_sub\n",
    "data_sub2$removed<-apply(data_sub2, 1, f3)\n",
    "\n",
    "# filter \n",
    "data_sub2<-data_sub2 %>%\n",
    "  filter(removed==FALSE)\n",
    "head(data_sub2,40)"
   ]
  },
  {
   "cell_type": "code",
   "execution_count": null,
   "metadata": {
    "kernel": "SoS"
   },
   "outputs": [],
   "source": [
    "# change all \"3\" into \"4\"\n",
    "data_sub2$visit<-gsub(\"3\",\"4\",data_sub2$visit) \n",
    "table(data_sub2$visit)"
   ]
  },
  {
   "cell_type": "code",
   "execution_count": null,
   "metadata": {
    "kernel": "SoS"
   },
   "outputs": [],
   "source": [
    "names(table(data_sub2$visit))"
   ]
  },
  {
   "cell_type": "code",
   "execution_count": null,
   "metadata": {
    "kernel": "SoS"
   },
   "outputs": [],
   "source": [
    "# get the dataset for plan 2:\n",
    "IID_plan2<-data_sub2$IID\n",
    "data_plan2<-data.geno.pheno[which(data.geno.pheno$IID%in%IID_plan2),]\n",
    "dim(data_plan2)"
   ]
  },
  {
   "cell_type": "code",
   "execution_count": null,
   "metadata": {
    "kernel": "SoS"
   },
   "outputs": [],
   "source": [
    "head(data_plan2[,column_name],40)"
   ]
  },
  {
   "cell_type": "code",
   "execution_count": null,
   "metadata": {
    "kernel": "SoS"
   },
   "outputs": [],
   "source": [
    "write.csv(data_plan2, 'UKBB_HI_genotypeqc_data_plan2.csv', row.names = FALSE)"
   ]
  },
  {
   "cell_type": "markdown",
   "metadata": {
    "kernel": "SoS"
   },
   "source": [
    "## Filtering for analysis plan 3"
   ]
  },
  {
   "cell_type": "code",
   "execution_count": null,
   "metadata": {
    "kernel": "SoS"
   },
   "outputs": [],
   "source": [
    "# define cases and control for specific analysis:\n",
    "all_answers<-c(\"0\",\"1\",\"2\",\"3\",\"4\",\"9\")\n",
    "control<-c('0')\n",
    "cases<-c(\"2\",\"3\",\"4\")\n",
    "\n",
    "data_sub3<-data_sub\n",
    "data_sub3$removed<-apply(data_sub3, 1, f3)\n",
    "\n",
    "# filter \n",
    "data_sub3<-data_sub3 %>%\n",
    "  filter(removed==FALSE)\n",
    "head(data_sub3,40)"
   ]
  },
  {
   "cell_type": "code",
   "execution_count": null,
   "metadata": {
    "kernel": "SoS"
   },
   "outputs": [],
   "source": [
    "# change all \"2\" and \"3\" into \"4\"\n",
    "data_sub3$visit<-gsub(\"2\",\"4\",data_sub3$visit) \n",
    "data_sub3$visit<-gsub(\"3\",\"4\",data_sub3$visit) \n",
    "table(data_sub3$visit)"
   ]
  },
  {
   "cell_type": "code",
   "execution_count": null,
   "metadata": {
    "kernel": "SoS"
   },
   "outputs": [],
   "source": [
    "names(table(data_sub3$visit))"
   ]
  },
  {
   "cell_type": "code",
   "execution_count": null,
   "metadata": {
    "kernel": "SoS"
   },
   "outputs": [],
   "source": [
    "IID_plan3<-data_sub3$IID\n",
    "data_plan3<-df_clean[which(df_clean$IID%in%IID_plan3),]\n",
    "dim(data_plan3)"
   ]
  },
  {
   "cell_type": "code",
   "execution_count": null,
   "metadata": {
    "kernel": "SoS"
   },
   "outputs": [],
   "source": [
    "head(data_plan3[,column_name],40)"
   ]
  },
  {
   "cell_type": "code",
   "execution_count": null,
   "metadata": {
    "kernel": "SoS"
   },
   "outputs": [],
   "source": [
    "write.csv(data_plan3, 'UKBB_HI_genotypeqc_data_plan3.csv', row.names = FALSE)"
   ]
  },
  {
   "cell_type": "markdown",
   "metadata": {
    "kernel": "R"
   },
   "source": [
    "### g. Exporting the final phenotype file Tinnitus with complete cases for association analyses"
   ]
  },
  {
   "cell_type": "code",
   "execution_count": null,
   "metadata": {
    "kernel": "R"
   },
   "outputs": [],
   "source": [
    "# Last renaming and recoding\n",
    "df.final$tinnitus <- revalue(df.final$tinnitus, c(\"No\" = '0', 'Yes'='1' ))\n",
    "names(df.final)[names(df.final) == \"age_final\"] <- \"age\"\n",
    "\n",
    "# Creating the file for subsequent association analyses\n",
    "\n",
    "tinnitus_cc <- df.final %>%\n",
    "  filter(!is.na(tinnitus)) %>%\n",
    "  select(FID, IID, age, sex, tinnitus, noise_wp, loud_music)\n",
    "head(tinnitus_cc)\n",
    "dim(tinnitus_cc)"
   ]
  },
  {
   "cell_type": "code",
   "execution_count": null,
   "metadata": {
    "kernel": "R"
   },
   "outputs": [],
   "source": [
    "length(which(is.na(tinnitus_cc$noise_wp)))"
   ]
  },
  {
   "cell_type": "code",
   "execution_count": null,
   "metadata": {
    "kernel": "R"
   },
   "outputs": [],
   "source": [
    "length(which(is.na(tinnitus_cc$loud_music)))"
   ]
  },
  {
   "cell_type": "code",
   "execution_count": null,
   "metadata": {
    "kernel": "R"
   },
   "outputs": [],
   "source": [
    "length(which(is.na(tinnitus_cc$loud_music) & is.na(tinnitus_cc$noise_wp)))"
   ]
  },
  {
   "cell_type": "code",
   "execution_count": null,
   "metadata": {
    "kernel": "R"
   },
   "outputs": [],
   "source": [
    "length(which(is.na(tinnitus_cc$loud_music) | is.na(tinnitus_cc$noise_wp))) #noise variables missing cases"
   ]
  },
  {
   "cell_type": "code",
   "execution_count": null,
   "metadata": {
    "kernel": "R"
   },
   "outputs": [],
   "source": [
    "# Export to file in correct format \n",
    "# Contains all tinnitus cases, noise variables some are NA\n",
    "write.table(tinnitus_cc, '200716_UKBB_Tinnitus_f4803', quote = FALSE, row.names = FALSE)"
   ]
  },
  {
   "cell_type": "code",
   "execution_count": null,
   "metadata": {
    "kernel": "R"
   },
   "outputs": [],
   "source": [
    "tinnitus_complete <- df.final %>%\n",
    "  filter(!is.na(tinnitus) & !is.na(noise_wp) & !is.na(loud_music)) %>%\n",
    "  select(FID, IID, age, sex, tinnitus, noise_wp, loud_music)\n",
    "head(tinnitus_complete)\n",
    "dim(tinnitus_complete)"
   ]
  },
  {
   "cell_type": "code",
   "execution_count": null,
   "metadata": {
    "kernel": "R"
   },
   "outputs": [],
   "source": [
    "# Export file tinnitus complete cases (no missing data for noise variables)\n",
    "write.table(tinnitus_complete,'200722_UKBB_Tinnitus_f4803_completecases', quote = FALSE, row.names = FALSE)"
   ]
  },
  {
   "cell_type": "code",
   "execution_count": null,
   "metadata": {
    "kernel": "R"
   },
   "outputs": [],
   "source": [
    "# Export complete database to extract the rest of phenotypes\n",
    "write.csv(df.final,'200716_UKBB_HI_genotypeqc.csv', row.names = FALSE)"
   ]
  },
  {
   "cell_type": "code",
   "execution_count": null,
   "metadata": {
    "kernel": "SoS"
   },
   "outputs": [],
   "source": [
    "# Import tinnitus complete\n",
    "tinnitus_complete <- read.table('200722_UKBB_Tinnitus_f4803_completecases',  header=TRUE)\n",
    "head(tinnitus_complete)"
   ]
  },
  {
   "cell_type": "markdown",
   "metadata": {
    "kernel": "R"
   },
   "source": [
    "### h. Imputation of noise variables using average"
   ]
  },
  {
   "cell_type": "markdown",
   "metadata": {
    "kernel": "R"
   },
   "source": [
    "Calculate mean and median for the entire sample (n=142,082)"
   ]
  },
  {
   "cell_type": "code",
   "execution_count": null,
   "metadata": {
    "kernel": "R"
   },
   "outputs": [],
   "source": [
    "mean(tinnitus_cc$noise_wp, na.rm=TRUE)\n",
    "median(tinnitus_cc$noise_wp, na.rm=TRUE)"
   ]
  },
  {
   "cell_type": "markdown",
   "metadata": {
    "kernel": "R"
   },
   "source": [
    "Calculate the mean and median in cases and controls"
   ]
  },
  {
   "cell_type": "code",
   "execution_count": null,
   "metadata": {
    "kernel": "R"
   },
   "outputs": [],
   "source": [
    "mean(subset(tinnitus_cc, tinnitus == 1)$noise_wp, na.rm=TRUE)\n",
    "median(subset(tinnitus_cc, tinnitus == 1)$noise_wp, na.rm=TRUE)"
   ]
  },
  {
   "cell_type": "code",
   "execution_count": null,
   "metadata": {
    "kernel": "R"
   },
   "outputs": [],
   "source": [
    "mean(subset(tinnitus_cc, tinnitus == 0)$noise_wp, na.rm=TRUE)\n",
    "median(subset(tinnitus_cc, tinnitus == 0)$noise_wp, na.rm=TRUE)"
   ]
  },
  {
   "cell_type": "markdown",
   "metadata": {
    "kernel": "R"
   },
   "source": [
    "Impute values of noisy workplace using the median"
   ]
  },
  {
   "cell_type": "code",
   "execution_count": null,
   "metadata": {
    "kernel": "R"
   },
   "outputs": [],
   "source": [
    "noise.imp <-df.final %>% \n",
    "  filter(!is.na(tinnitus)) %>%\n",
    "  select(IID, tinnitus, noise_wp) %>%\n",
    "  group_by(tinnitus) %>%\n",
    "  mutate(noise_wp=ifelse(is.na(noise_wp),median(noise_wp,na.rm=TRUE),noise_wp))\n",
    "noise.imp.fin <- rename(noise.imp, noise_imp = noise_wp)\n",
    "head(noise.imp.fin, 10)"
   ]
  },
  {
   "cell_type": "markdown",
   "metadata": {
    "kernel": "R"
   },
   "source": [
    "Impute values for loud music exposure using then median"
   ]
  },
  {
   "cell_type": "code",
   "execution_count": null,
   "metadata": {
    "kernel": "R"
   },
   "outputs": [],
   "source": [
    "music.imp <-df.final %>% \n",
    "  filter(!is.na(tinnitus)) %>%\n",
    "  select(IID, tinnitus, loud_music) %>%\n",
    "  group_by(tinnitus) %>%\n",
    "  mutate(loud_music=ifelse(is.na(loud_music),median(loud_music,na.rm=TRUE),loud_music))\n",
    "music.imp.fin <- rename(music.imp, music_imp = loud_music )\n",
    "head(music.imp.fin,10)"
   ]
  },
  {
   "cell_type": "markdown",
   "metadata": {
    "kernel": "R"
   },
   "source": [
    "Merge with complete database"
   ]
  },
  {
   "cell_type": "code",
   "execution_count": null,
   "metadata": {
    "kernel": "R"
   },
   "outputs": [],
   "source": [
    "df.noise.imp <- merge(x = df.final,y = noise.imp.fin[,c(\"IID\",\"noise_imp\")],by=\"IID\", all.x=TRUE)"
   ]
  },
  {
   "cell_type": "code",
   "execution_count": null,
   "metadata": {
    "kernel": "R"
   },
   "outputs": [],
   "source": [
    "df.final.imp <- merge(x = df.noise.imp,y = music.imp.fin[,c(\"IID\", \"music_imp\")],by=\"IID\", all.x=TRUE)\n",
    "dim(df.final.imp)"
   ]
  },
  {
   "cell_type": "code",
   "execution_count": null,
   "metadata": {
    "kernel": "R"
   },
   "outputs": [],
   "source": [
    "tinnitus.imp <- df.final.imp %>%\n",
    "  filter(!is.na(tinnitus)) %>%\n",
    "  select(FID, IID, age, sex, tinnitus, noise_imp, music_imp)\n",
    "head(tinnitus.imp)\n",
    "dim(tinnitus.imp)"
   ]
  },
  {
   "cell_type": "code",
   "execution_count": null,
   "metadata": {
    "kernel": "R"
   },
   "outputs": [],
   "source": [
    "write.table(tinnitus.imp, '200720_UKBB_Tinnitus_f4803_noise_imp', quote = FALSE, row.names = FALSE)\n",
    "length(which(is.na(tinnitus.imp$noise_imp)))\n",
    "length(which(is.na(tinnitus.imp$music_imp)))"
   ]
  },
  {
   "cell_type": "code",
   "execution_count": null,
   "metadata": {
    "kernel": "R"
   },
   "outputs": [],
   "source": [
    "write.csv(df.final.imp, '200720_UKBB_HI_genotypeqc_noise_imp.csv', row.names = FALSE)"
   ]
  },
  {
   "cell_type": "markdown",
   "metadata": {
    "kernel": "R"
   },
   "source": [
    "### i. Descriptive statistics"
   ]
  },
  {
   "cell_type": "markdown",
   "metadata": {
    "kernel": "R"
   },
   "source": [
    "Are there differences in the sex proportions of tinnitus cases?"
   ]
  },
  {
   "cell_type": "code",
   "execution_count": null,
   "metadata": {
    "kernel": "R"
   },
   "outputs": [],
   "source": [
    "female.total = length(which(tinnitus_complete$sex==\"1\"))\n",
    "male.total = length(which(tinnitus_complete$sex==\"0\"))\n",
    "people.total= c(male.total, female.total)\n",
    "people.total # Number of male and female in the sample"
   ]
  },
  {
   "cell_type": "code",
   "execution_count": null,
   "metadata": {
    "kernel": "R"
   },
   "outputs": [],
   "source": [
    "female.cases = length(which(tinnitus_complete$tinnitus == \"1\" & tinnitus_complete$sex == \"1\"))\n",
    "male.cases =length(which(tinnitus_complete$tinnitus == \"1\" & tinnitus_complete$sex == \"0\")) \n",
    "people.cases = c(male.cases, female.cases)\n",
    "people.cases # Number of male and female cases\n",
    "prop.test(people.cases, people.total) # Proportion of male and female cases in the total sample are different"
   ]
  },
  {
   "cell_type": "code",
   "execution_count": null,
   "metadata": {
    "kernel": "R"
   },
   "outputs": [],
   "source": [
    "female.controls = length(which(tinnitus_complete$tinnitus == \"0\" & tinnitus_complete$sex == \"1\"))\n",
    "male.controls = length(which(tinnitus_complete$tinnitus == \"0\" & tinnitus_complete$sex == \"0\"))\n",
    "people.controls = c(male.controls, female.controls)\n",
    "people.controls # Number of male and female controls\n",
    "prop.test(people.controls, people.total) # Proportion of male and female controls differ"
   ]
  },
  {
   "cell_type": "markdown",
   "metadata": {
    "kernel": "R"
   },
   "source": [
    "Are there differences in the sex proportions and noise variables?"
   ]
  },
  {
   "cell_type": "code",
   "execution_count": null,
   "metadata": {
    "kernel": "R"
   },
   "outputs": [],
   "source": [
    "sex.noise=table(tinnitus_complete$noise_wp, tinnitus_complete$sex)\n",
    "sex.noise\n",
    "chisq.test(sex.noise) # Noise at workplace is not independent of sex"
   ]
  },
  {
   "cell_type": "code",
   "execution_count": null,
   "metadata": {
    "kernel": "R"
   },
   "outputs": [],
   "source": [
    "sex.music = table(tinnitus_complete$loud_music, tinnitus_complete$sex)\n",
    "sex.music\n",
    "chisq.test(sex.music) # Loud music frequency exposure is not independent of sex"
   ]
  },
  {
   "cell_type": "markdown",
   "metadata": {
    "kernel": "R"
   },
   "source": [
    "Barplot sex vs noisy workplace"
   ]
  },
  {
   "cell_type": "code",
   "execution_count": null,
   "metadata": {
    "kernel": "R"
   },
   "outputs": [],
   "source": [
    "noise.plot <- ggplot(tinnitus_complete, aes(noise_wp)) +\n",
    "  geom_bar(aes(y=..count../sum(..count..), fill = sex), position = \"dodge\") +\n",
    "  scale_y_continuous(labels = scales::percent) +\n",
    "  labs(title = \"Barplot of sex by noisy workplace\",\n",
    "       x = \"Noisy workplace\", \n",
    "       y = \"Proportion of individuals\")\n",
    "noise.plot "
   ]
  },
  {
   "cell_type": "markdown",
   "metadata": {
    "kernel": "R"
   },
   "source": [
    "Barplot sex vs loud music exposure"
   ]
  },
  {
   "cell_type": "code",
   "execution_count": null,
   "metadata": {
    "kernel": "R"
   },
   "outputs": [],
   "source": [
    "music.plot <- ggplot(tinnitus_complete, aes(loud_music)) +\n",
    "  geom_bar(aes(y=..count../sum(..count..), fill = sex), position = \"dodge\") +\n",
    "  scale_y_continuous(labels = scales::percent) +\n",
    "labs(title = \"Barplot of sex by loud music exposure\",\n",
    "       x = \"Loud music exposure\", \n",
    "       y = \"Proportion of individuals\")\n",
    "music.plot"
   ]
  },
  {
   "cell_type": "code",
   "execution_count": null,
   "metadata": {
    "kernel": "R"
   },
   "outputs": [],
   "source": [
    "label_sex <- c(\"1\" = \"Female\", \"0\" = \"Male\")\n",
    "label_tin <- c(\"1\" = \"Cases\", \"0\" = \"Controls\")\n",
    "sex.tin.noise <- ggplot(tinnitus_complete, aes(x = noise_wp)) +\n",
    "  geom_bar(aes(y = (..count..)/sum(..count..))) +\n",
    "  labs(title = \"Tinnitus, sex and noisy workplace\",\n",
    "       x = \"Noisy workplace\", \n",
    "       y = \"Proportion of individuals\") +\n",
    "  scale_y_continuous(labels = scales::percent, name = \"Proportion\") +\n",
    "  facet_grid(tinnitus ~ sex, labeller=labeller(sex = label_sex, tinnitus = label_tin)) +\n",
    "  theme(axis.text.x = element_text(angle = 45, hjust = 1))\n",
    "sex.tin.noise"
   ]
  },
  {
   "cell_type": "code",
   "execution_count": null,
   "metadata": {
    "kernel": "R"
   },
   "outputs": [],
   "source": [
    "sex.tin.music <- ggplot(tinnitus_complete, aes(x = loud_music)) +\n",
    "  geom_bar(aes(y = (..count..)/sum(..count..))) +\n",
    "    labs(title = \"Tinnitus, sex and loud music frequency exposure\",\n",
    "       x = \"Loud music frequency exposure\", \n",
    "       y = \"Proportion of individuals\") +\n",
    "  scale_y_continuous(labels = scales::percent, name = \"Proportion\") +\n",
    "  facet_grid(tinnitus ~ sex, labeller=labeller(sex = label_sex, tinnitus = label_tin)) +\n",
    "  theme(axis.text.x = element_text(angle = 45, hjust = 1))\n",
    "sex.tin.music"
   ]
  },
  {
   "cell_type": "code",
   "execution_count": null,
   "metadata": {
    "kernel": "R"
   },
   "outputs": [],
   "source": [
    "tinnitus_complete %>%\n",
    "select(age, noise_wp) %>%\n",
    "group_by(noise_wp) %>%\n",
    "  summarise(\n",
    "    count = n(),\n",
    "    mean = mean(age, na.rm = TRUE),\n",
    "    sd = sd(age, na.rm = TRUE))"
   ]
  },
  {
   "cell_type": "code",
   "execution_count": null,
   "metadata": {
    "kernel": "R"
   },
   "outputs": [],
   "source": [
    "noise.boxp <- ggboxplot(tinnitus_complete, x = \"noise_wp\", y = \"age\", \n",
    "          color = \"noise_wp\",\n",
    "          order = c(\"0\", \"1\", \"2\", \"3\"),\n",
    "          ylab = \"Age\", xlab = \"noisy workplace\")\n",
    "noise.boxp"
   ]
  },
  {
   "cell_type": "code",
   "execution_count": null,
   "metadata": {
    "kernel": "R"
   },
   "outputs": [],
   "source": [
    "res1.aov <- aov(age ~ noise_wp, data = tinnitus_complete)\n",
    "summary(res1.aov)\n",
    "TukeyHSD(res1.aov)"
   ]
  },
  {
   "cell_type": "code",
   "execution_count": null,
   "metadata": {
    "kernel": "R"
   },
   "outputs": [],
   "source": [
    "music.boxp <- ggboxplot(tinnitus_complete, x = \"loud_music\", y = \"age\", \n",
    "          color = \"loud_music\",\n",
    "          order = c(\"0\", \"1\", \"2\", \"3\"),\n",
    "          ylab = \"Age\", xlab = \"Loud music frequency\")\n",
    "music.boxp"
   ]
  },
  {
   "cell_type": "code",
   "execution_count": null,
   "metadata": {
    "kernel": "R"
   },
   "outputs": [],
   "source": [
    "res2.aov <- aov(age ~ loud_music, data = tinnitus_complete)\n",
    "summary(res2.aov)\n",
    "TukeyHSD(res2.aov)"
   ]
  },
  {
   "cell_type": "markdown",
   "metadata": {
    "kernel": "R"
   },
   "source": [
    "Correlation between the two noise variables for cases and controls separately using Kendall correlation"
   ]
  },
  {
   "cell_type": "code",
   "execution_count": null,
   "metadata": {
    "kernel": "R"
   },
   "outputs": [],
   "source": [
    "cases <- tinnitus_complete %>%\n",
    "  filter(tinnitus==\"1\")\n",
    "noise_wp <- as.numeric(factor(cases$noise_wp,levels=c(\"0\", \"1\", \"2\", \"3\"))) \n",
    "loud_music <- as.numeric(factor(cases$loud_music, levels=c(\"0\", \"1\", \"2\", \"3\"))) \n",
    "m <- cbind(noise_wp, loud_music)\n",
    "cor(m, method=\"kendall\", use=\"pairwise\")\n",
    "cor.test(noise_wp, loud_music, method=\"kendall\")"
   ]
  },
  {
   "cell_type": "code",
   "execution_count": null,
   "metadata": {
    "kernel": "R"
   },
   "outputs": [],
   "source": [
    "controls <- tinnitus_complete %>%\n",
    "  filter(tinnitus==\"0\")\n",
    "noise_wp.ctr <- as.numeric(factor(controls$noise_wp,levels=c(\"0\", \"1\", \"2\", \"3\"))) \n",
    "loud_music.ctr <- as.numeric(factor(controls$loud_music, levels=c(\"0\", \"1\", \"2\", \"3\"))) \n",
    "m1 <- cbind(noise_wp.ctr, loud_music.ctr)\n",
    "cor(m1, method=\"kendall\", use=\"pairwise\")\n",
    "cor.test(noise_wp.ctr, loud_music.ctr, method=\"kendall\")"
   ]
  },
  {
   "cell_type": "markdown",
   "metadata": {
    "kernel": "R"
   },
   "source": [
    "Heat map for variable correlation"
   ]
  },
  {
   "cell_type": "code",
   "execution_count": null,
   "metadata": {
    "kernel": "R"
   },
   "outputs": [],
   "source": [
    "#Heat map\n",
    "noisevar.df <- as.data.frame(table(tinnitus_complete$noise_wp, tinnitus_complete$loud_music))\n",
    "ggplot(noisevar.df, aes(Var1, Var2)) +\n",
    "  geom_tile(aes(fill = Freq), colour = \"black\") +\n",
    "  scale_fill_gradient(low = \"white\", high = \"steelblue\")"
   ]
  },
  {
   "cell_type": "markdown",
   "metadata": {
    "kernel": "R"
   },
   "source": [
    "Fluctuation plot"
   ]
  },
  {
   "cell_type": "code",
   "execution_count": null,
   "metadata": {
    "kernel": "R"
   },
   "outputs": [],
   "source": [
    "# Fluctuation plot\n",
    "theme_nogrid <- function (base_size = 12, base_family = \"\") {\n",
    "  theme_bw(base_size = base_size, base_family = base_family) %+replace% \n",
    "    theme(panel.grid = element_blank())   \n",
    "}\n",
    "ggplot(noisevar.df, aes(Var1, Var2)) +\n",
    "  geom_point(aes(size = Freq, color = Freq, stat = \"identity\", position = \"identity\"), shape = 15) +\n",
    "  scale_size_continuous(range = c(3,15)) + \n",
    "  scale_color_gradient(low = \"white\", high = \"black\") +\n",
    "  theme_nogrid()"
   ]
  },
  {
   "cell_type": "markdown",
   "metadata": {
    "kernel": "R"
   },
   "source": [
    "## 2. SRT phenotype (quantitative)"
   ]
  },
  {
   "cell_type": "markdown",
   "metadata": {
    "kernel": "R"
   },
   "source": [
    "The phenotypes to be used are as follow:\n",
    "1. Left ear f.20019\n",
    "2. Right ear f.20021\n",
    "3. Best ear (create a new variable extracting the min SRT value among f.20019 and f.20021)\n",
    "4. Worst ear (create a new variable extracting the max SRT value among f.20019 and f.20021)\n",
    "\n",
    "Age is calculated as follow:\n",
    "\n",
    "- For people with repeated measures take age at last visit and measurement at last visit\n",
    "- For people with only one measure take age at that visit\n",
    "\n",
    "Sex corresponds to f.22001 (genetic sex):\n",
    "\n",
    "- Male = 0\n",
    "- Female = 1\n",
    "\n",
    "Noise variable and loud music exposure frequency: same as for Tinnitus\n",
    "                \n",
    "1. Remove inconsistent individuals \n",
    "    - said 1,2 or 3 and in following visits said 0\n",
    "    - said a higher exposure (e.g 3) and then a lower one (e.g 1 or 2) in following visits\n",
    "2. Retain consistent individuals and use highest reported exposure"
   ]
  },
  {
   "cell_type": "markdown",
   "metadata": {
    "kernel": "R"
   },
   "source": [
    "### a. Filter SRT codes\n",
    "Obtain scores for right and left ear\n",
    "\n",
    "Obtain the age at the last visit"
   ]
  },
  {
   "cell_type": "code",
   "execution_count": null,
   "metadata": {
    "kernel": "SoS"
   },
   "outputs": [],
   "source": [
    "df.final.imp = read.csv('/SAY/dbgapstg/scratch/UKBiobank/phenotype_files/hearing_impairment/200720_UKBB_HI_genotypeqc_noise_imp.csv', header=TRUE)"
   ]
  },
  {
   "cell_type": "code",
   "execution_count": null,
   "metadata": {
    "kernel": "SoS"
   },
   "outputs": [],
   "source": [
    "setwd('/home/dc2325/project/HI_UKBB/SRT')"
   ]
  },
  {
   "cell_type": "code",
   "execution_count": null,
   "metadata": {
    "kernel": "R"
   },
   "outputs": [],
   "source": [
    "srt_all = df.final.imp %>% \n",
    "  select(IID,f.21003.0.0,f.21003.1.0,f.21003.2.0,f.21003.3.0, f.20019.0.0, f.20019.1.0, f.20019.2.0, f.20019.3.0,f.20021.0.0,f.20021.1.0,f.20021.2.0,f.20021.3.0)\n",
    "\n",
    "srt_clean <-  srt_all %>% \n",
    "  mutate(srt_score_left = apply(select(., starts_with(\"f.20019\")), 1, function(x)  {tail(x[!is.na(x)],n=1)[1]}),\n",
    "         srt_score_right = apply(select(., starts_with(\"f.20021\")), 1, function(x) {tail(x[!is.na(x)],n=1)[1]}),\n",
    "         srt_age =  apply(select(., starts_with(\"f.21003\")), 1, function(x)  {tail(x[!is.na(x)],n=1)[1]})\n",
    "  )\n",
    "\n",
    "head(srt_clean)"
   ]
  },
  {
   "cell_type": "markdown",
   "metadata": {
    "kernel": "R"
   },
   "source": [
    "### e. Descriptive statistics"
   ]
  },
  {
   "cell_type": "code",
   "execution_count": null,
   "metadata": {
    "kernel": "SoS"
   },
   "outputs": [],
   "source": [
    "#1555 who do not have srt score for left ear\n",
    "left_ear_na <- srt_clean %>% \n",
    "  filter(is.na(srt_score_left) & !is.na(srt_score_right))\n",
    "dim(left_ear_na)\n",
    "#1554 who do not have srt score for right ear\n",
    "right_ear_na <- srt_clean %>% \n",
    "  filter(is.na(srt_score_right) & !is.na(srt_score_left))\n",
    "dim(right_ear_na)\n",
    "#211763 have neither left ear nor right ear score\n",
    "both_ear <- srt_clean %>% \n",
    "   filter(is.na(srt_score_left) & is.na(srt_score_right))\n",
    "dim(both_ear)"
   ]
  },
  {
   "cell_type": "code",
   "execution_count": null,
   "metadata": {
    "kernel": "R"
   },
   "outputs": [],
   "source": [
    "#create a categorical variable to classify the score for left and right ear\n",
    "#137821 individuals have either right or left score, or both (216526 individuals who have neither the right nor left score are deleted)\n",
    "#134058 have either right or left score, or both  (deleting the outliers)\n",
    "srt_cat <- srt_clean %>%\n",
    "  filter(!is.na(srt_score_left) | !is.na(srt_score_right)) %>% \n",
    "  mutate(srt_left_cat = case_when(\n",
    "        srt_score_left < -5.5   ~  \"normal\",\n",
    "        -5.5 <= srt_score_left & srt_score_left <= -3.5   ~  \"insufficient\",\n",
    "          srt_score_left > -3.5  ~ \"poor\",\n",
    "         TRUE                    ~ \"\"\n",
    "  )) %>% \n",
    "  mutate(srt_right_cat = case_when(\n",
    "        srt_score_right < -5.5   ~  \"normal\",\n",
    "        -5.5 <= srt_score_right & srt_score_right <= -3.5   ~  \"insufficient\",\n",
    "          srt_score_right > -3.5  ~ \"poor\",\n",
    "         TRUE                    ~ \"\"\n",
    "  )) %>% \n",
    "  #remove the score 8 (outlier) for both ears\n",
    "  filter(!(srt_score_left == 8) & !(srt_score_right == 8))\n",
    "\n",
    "#to use the function max/min, replace all NA to 0 for numerical variables \n",
    "srt_fill_na <- srt_cat\n",
    "srt_fill_na[is.na(clean <- srt_cat)] <- 0\n",
    " \n",
    "\n",
    "# Create two new variables to show the best ear and the worst ear\n",
    "srt_best_worst <-  srt_fill_na %>% \n",
    "  mutate(best = apply(select(., starts_with(\"f.200\")), 1, function(x) min(x[x!=0])),\n",
    "         worst = apply(select(., starts_with(\"f.200\")), 1, function(x) max(x[x!=0]))\n",
    "  ) %>% \n",
    "  #replace the Inf and -Inf values with 0\n",
    "  mutate(best = if_else(best == Inf, 0, best),\n",
    "         worst = if_else(worst == -Inf, 0, worst)\n",
    "  )\n",
    "\n",
    "\n",
    "#replace 0 with NA\n",
    "library(dplyr) \n",
    "srt_best_worst <- na_if(srt_best_worst, 0)\n",
    "\n",
    "\n",
    "#summary statistics \n",
    "summary(srt_best_worst$srt_score_left)"
   ]
  },
  {
   "cell_type": "code",
   "execution_count": null,
   "metadata": {
    "kernel": "R"
   },
   "outputs": [],
   "source": [
    "summary(srt_best_worst$srt_score_right)"
   ]
  },
  {
   "cell_type": "code",
   "execution_count": null,
   "metadata": {
    "kernel": "R"
   },
   "outputs": [],
   "source": [
    "summary_left <- srt_best_worst %>%\n",
    "  filter(!is.na(srt_score_left)) %>% \n",
    "  summarise(std_left =sd(srt_score_left),\n",
    "          mean_left = mean(srt_score_left),\n",
    "          median_left = median(srt_score_left),\n",
    "          n = n()\n",
    "          ) \n",
    "\n",
    "summary_left "
   ]
  },
  {
   "cell_type": "code",
   "execution_count": null,
   "metadata": {
    "kernel": "R"
   },
   "outputs": [],
   "source": [
    "summary_right <- srt_best_worst %>%\n",
    "  filter(!is.na(srt_score_right)) %>% \n",
    "  summarise(std_right =sd(srt_score_right),\n",
    "          mean_right = mean(srt_score_right),\n",
    "          median_right = median(srt_score_right),\n",
    "          n = n()\n",
    "          ) \n",
    "\n",
    "summary_right"
   ]
  },
  {
   "cell_type": "markdown",
   "metadata": {
    "kernel": "R"
   },
   "source": [
    "### Plots"
   ]
  },
  {
   "cell_type": "code",
   "execution_count": null,
   "metadata": {
    "kernel": "R"
   },
   "outputs": [],
   "source": [
    "#histogram for SRT Score for Left Ear\n",
    "left_plot = srt_best_worst %>% \n",
    "  filter(!is.na(srt_score_left)) %>% \n",
    "  ggplot(aes(x = srt_score_left,color = srt_left_cat)) +\n",
    "      geom_histogram(binwidth = 0.1) +\n",
    "   labs(\n",
    "    title = \"SRT Score for Left Ear (by category)\",\n",
    "    x = \"SRT Score for Left \",\n",
    "    y = \"Count\"\n",
    "    ) + \n",
    "   scale_x_continuous(\n",
    "    breaks = c(-10, -5.5, -3.5, 0, 3.5, 5.5),\n",
    "    labels = c(\"-10\", \"-5.5\", \"-3.5\", \"0\", \"3.5\", \"5.5\")) +\n",
    "  scale_color_discrete(\"SRT Score Category\",labels=c(\"normal\",\"insuficient\",\"poor\")) \n",
    "\n",
    "\n",
    "left_plot"
   ]
  },
  {
   "cell_type": "code",
   "execution_count": null,
   "metadata": {
    "kernel": "R"
   },
   "outputs": [],
   "source": [
    "#QQ plot for SRT Score for Left Ear\n",
    "qq_left_total <- srt_best_worst %>% \n",
    "  filter(!is.na(srt_score_left)) %>% \n",
    "  ggplot(aes(sample = (srt_score_left - mean(srt_score_left))/sd(srt_score_left))) +\n",
    "  stat_qq() +\n",
    "  stat_qq_line() +\n",
    "  labs(title=\"QQ plot for SRT Score (Left)\",\n",
    "       y = \"SRT Score Quantile\",\n",
    "       x = \"Normal Quantile\") +\n",
    "theme_classic()\n",
    "\n",
    "qq_left_total"
   ]
  },
  {
   "cell_type": "code",
   "execution_count": null,
   "metadata": {
    "kernel": "R"
   },
   "outputs": [],
   "source": [
    "qq_left_by_cat <- srt_best_worst %>% \n",
    "  filter(!is.na(srt_score_left)) %>% \n",
    "  ggplot(aes(sample = (srt_score_left - mean(srt_score_left))/sd(srt_score_left), color = srt_left_cat)) +\n",
    "  stat_qq() +\n",
    "  stat_qq_line() +\n",
    "  labs(title=\"QQ plot for SRT Score (Left)\",\n",
    "       y = \"SRT Score Quantile\",\n",
    "       x = \"Normal Quantile\") +\n",
    "theme_classic()\n",
    "\n",
    "qq_left_by_cat"
   ]
  },
  {
   "cell_type": "code",
   "execution_count": null,
   "metadata": {
    "kernel": "R"
   },
   "outputs": [],
   "source": [
    "#histogram for SRT Score for Right Ear \n",
    "right_plot <- srt_best_worst %>% \n",
    "  filter(!is.na(srt_score_right)) %>% \n",
    "  ggplot(aes(x = srt_score_right, color=srt_right_cat) ) +\n",
    "      geom_histogram(binwidth = 0.1) +\n",
    "  labs(\n",
    "    title = \"SRT Score for Right Ear (by category)\",\n",
    "    x = \"SRT Score for Right \",\n",
    "    y = \"Count\"\n",
    "    ) + \n",
    "   scale_x_continuous(\n",
    "    breaks = c(-10, -5.5, -3.5, 0, 3.5, 5.5),\n",
    "    labels = c(\"-10\", \"-5.5\", \"-3.5\", \"0\", \"3.5\", \"5.5\")) +\n",
    "  scale_y_continuous(\n",
    "    breaks = c(2500, 5000, 7500, 10000, 12500, 15000),\n",
    "    labels = c(\"2500\", \"5000\", \"7500\", \"10000\", \"12500\", \"15000\")) +\n",
    "  scale_color_discrete(\"SRT Score Category\",labels=c(\"normal\",\"insuficient\",\"poor\")) \n",
    " \n",
    "right_plot"
   ]
  },
  {
   "cell_type": "code",
   "execution_count": null,
   "metadata": {
    "kernel": "R"
   },
   "outputs": [],
   "source": [
    "#QQ plot for SRT Score for Right Ear\n",
    "qq_right_total <- srt_best_worst %>% \n",
    "  filter(!is.na(srt_score_right)) %>% \n",
    "  ggplot(aes(sample = (srt_score_right - mean(srt_score_right))/sd(srt_score_right))) +\n",
    "  stat_qq(distribution = stats::qnorm) +\n",
    "  stat_qq_line() +\n",
    "  labs(title=\"QQ plot for SRT Score (Right)\",\n",
    "       y = \"SRT Score Quantile\",\n",
    "       x = \"Normal Quantile\") +\n",
    "theme_classic()\n",
    "\n",
    "qq_right_total"
   ]
  },
  {
   "cell_type": "code",
   "execution_count": null,
   "metadata": {
    "kernel": "R"
   },
   "outputs": [],
   "source": [
    "qq_right_by_cat <- srt_best_worst %>% \n",
    "  filter(!is.na(srt_score_right)) %>% \n",
    "  ggplot(aes(sample = (srt_score_right - mean(srt_score_right))/sd(srt_score_right), color = srt_right_cat)) +\n",
    "  stat_qq(distribution = stats::qnorm) +\n",
    "  stat_qq_line() +\n",
    "  labs(title=\"QQ plot for SRT Score (Right)\",\n",
    "       y = \"SRT Score Quantile\",\n",
    "       x = \"Normal Quantile\") +\n",
    "theme_classic()\n",
    "\n",
    "qq_right_by_cat"
   ]
  },
  {
   "cell_type": "code",
   "execution_count": null,
   "metadata": {
    "kernel": "R"
   },
   "outputs": [],
   "source": [
    "srt_best_worst_cat <- srt_best_worst %>%\n",
    "  mutate(srt_best_cat = case_when(\n",
    "        best < -5.5   ~  \"normal\",\n",
    "        -5.5 <= best & best <= -3.5   ~  \"insufficient\",\n",
    "          best > -3.5  ~ \"poor\",\n",
    "         TRUE                    ~ \"\"\n",
    "  )) %>% \n",
    "  mutate(srt_worst_cat = case_when(\n",
    "        worst < -5.5   ~  \"normal\",\n",
    "        -5.5 <= worst & worst <= -3.5   ~  \"insufficient\",\n",
    "          worst > -3.5  ~ \"poor\",\n",
    "         TRUE                    ~ \"\"\n",
    "  )) %>% \n",
    "  filter(!is.na(best) | !is.na(worst))\n",
    "\n",
    "\n",
    "\n",
    "best_plot <- srt_best_worst_cat %>% \n",
    "  ggplot(aes(x = best, color=srt_best_cat) ) +\n",
    "      geom_histogram(binwidth = 0.1) +\n",
    "  labs(\n",
    "    title = \"SRT Score for the Best Ear (by category)\",\n",
    "    x = \"SRT Score for the Best \",\n",
    "    y = \"Count\"\n",
    "    ) + \n",
    "   scale_x_continuous(\n",
    "    breaks = c(-10, -5.5, -3.5, 0, 3.5, 5.5),\n",
    "    labels = c(\"-10\", \"-5.5\", \"-3.5\", \"0\", \"3.5\", \"5.5\")) +\n",
    "  scale_y_continuous(\n",
    "    breaks = c(2500, 5000, 7500, 10000, 12500, 15000),\n",
    "    labels = c(\"2500\", \"5000\", \"7500\", \"10000\", \"12500\", \"15000\")) +\n",
    "  scale_color_discrete(\"SRT Score Category\",labels=c(\"normal\",\"insuficient\",\"poor\")) \n",
    " \n",
    "best_plot"
   ]
  },
  {
   "cell_type": "code",
   "execution_count": null,
   "metadata": {
    "kernel": "R"
   },
   "outputs": [],
   "source": [
    "qq_best <- srt_best_worst_cat %>% \n",
    "  ggplot(aes(sample = (best - mean(best))/sd(best))) +\n",
    "  stat_qq(distribution = stats::qnorm) +\n",
    "  stat_qq_line(col= 'blue') +\n",
    "  labs(title=\"QQ plot for the Best SRT Score\",\n",
    "       y = \"SRT Score Quantiles\",\n",
    "       x = \"normal Quantiles\") + \n",
    "theme_classic()  \n",
    "\n",
    "qq_best"
   ]
  },
  {
   "cell_type": "code",
   "execution_count": null,
   "metadata": {
    "kernel": "R"
   },
   "outputs": [],
   "source": [
    "worst_plot <- srt_best_worst_cat %>% \n",
    "  ggplot(aes(x = worst, color=srt_worst_cat)) +\n",
    "      geom_histogram(binwidth = 0.1) +\n",
    "  labs(\n",
    "    title = \"SRT Score for the Worst Ear (by category)\",\n",
    "    x = \"SRT Score for the Best \",\n",
    "    y = \"Count\"\n",
    "    ) + \n",
    "   scale_x_continuous(\n",
    "    breaks = c(-10, -5.5, -3.5, 0, 3.5, 5.5),\n",
    "    labels = c(\"-10\", \"-5.5\", \"-3.5\", \"0\", \"3.5\", \"5.5\")) +\n",
    "  scale_y_continuous(\n",
    "    breaks = c(2500, 5000, 7500, 10000, 12500, 15000),\n",
    "    labels = c(\"2500\", \"5000\", \"7500\", \"10000\", \"12500\", \"15000\")) +\n",
    "  scale_color_discrete(\"SRT Score Category\",labels=c(\"normal\",\"insuficient\",\"poor\")) \n",
    " \n",
    "\n",
    "worst_plot"
   ]
  },
  {
   "cell_type": "code",
   "execution_count": null,
   "metadata": {
    "kernel": "R"
   },
   "outputs": [],
   "source": [
    "qq_worst <- srt_best_worst_cat %>% \n",
    "  ggplot(aes(sample = (worst - mean(worst))/sd(worst))) +\n",
    "  stat_qq(distribution = stats::qnorm) +\n",
    "  stat_qq_line(col= 'blue') +\n",
    "  labs(title=\"QQ plot for the Worst SRT Score\",\n",
    "       y = \"SRT Score Quantiles\",\n",
    "       x = \"normal quantiles\") +\n",
    "theme_classic()  \n",
    "\n",
    "qq_worst"
   ]
  },
  {
   "cell_type": "code",
   "execution_count": null,
   "metadata": {
    "kernel": "R"
   },
   "outputs": [],
   "source": []
  }
 ],
 "metadata": {
  "kernelspec": {
   "display_name": "SoS",
   "language": "sos",
   "name": "sos"
  },
  "language_info": {
   "codemirror_mode": "sos",
   "file_extension": ".sos",
   "mimetype": "text/x-sos",
   "name": "sos",
   "nbconvert_exporter": "sos_notebook.converter.SoS_Exporter",
   "pygments_lexer": "sos"
  },
  "sos": {
   "kernels": [
    [
     "Bash",
     "calysto_bash",
     "Bash",
     "#E6EEFF",
     "shell"
    ],
    [
     "R",
     "ir",
     "R",
     "#DCDCDA",
     "r"
    ],
    [
     "SoS",
     "sos",
     "",
     "",
     "sos"
    ]
   ],
   "version": "0.21.12"
  }
 },
 "nbformat": 4,
 "nbformat_minor": 4
}
