{
 "cells": [
  {
   "cell_type": "markdown",
   "metadata": {
    "kernel": "SoS"
   },
   "source": [
    "# Hearing related phenotypes"
   ]
  },
  {
   "cell_type": "markdown",
   "metadata": {
    "kernel": "SoS"
   },
   "source": [
    "## Aim\n",
    "\n",
    "Create a dataset of filtered individuals using the inclusion and exclusion criteria for diverse hearing related phenotyes to perform association analyses using the LMM.ipynb. "
   ]
  },
  {
   "cell_type": "markdown",
   "metadata": {
    "kernel": "SoS"
   },
   "source": [
    "## Location of files\n",
    "\n",
    "In the shared folder is the original UKBB data\n",
    "```\n",
    "/SAY/dbgapstg/scratch/UKBiobank/phenotype_files/pleiotropy_R01/ukb42495_updatedJune2020\n",
    "```\n",
    "\n",
    "In my personal folder the filtered dataset\n",
    "\n",
    "```\n",
    "/home/dc2325/project/HI_UKBB\n",
    "```"
   ]
  },
  {
   "cell_type": "markdown",
   "metadata": {
    "kernel": "Bash"
   },
   "source": [
    "## Subset the data using variables of interest\n",
    "\n",
    "Using the ukbconvert software and a list of pre-specified variables\n",
    "\n",
    "```\n",
    "./ukbconv ukb42495.enc_ukb r -i/home/dc2325/project/HI_UKBB/selectvars_062520.txt -o/home/dc2325/project/HI_UKBB/ukb42495_subset062520\n",
    "./ukbconv ukb42495.enc_ukb r -i/home/dc2325/project/HI_UKBB/selectvars_080420.txt -o/home/dc2325/project/HI_UKBB/ukb42495_subset080420\n",
    "```"
   ]
  },
  {
   "cell_type": "code",
   "execution_count": null,
   "metadata": {
    "kernel": "SoS"
   },
   "outputs": [],
   "source": [
    "[global]\n",
    "# The working dir\n",
    "parameter:cwd = path\n",
    "# The fam file\n",
    "parameter: famfile = path"
   ]
  },
  {
   "cell_type": "markdown",
   "metadata": {
    "kernel": "SoS"
   },
   "source": [
    "## Subsetting individuals with genotypic data"
   ]
  },
  {
   "cell_type": "markdown",
   "metadata": {
    "kernel": "SoS"
   },
   "source": [
    "### Load necessary libraries"
   ]
  },
  {
   "cell_type": "code",
   "execution_count": 96,
   "metadata": {
    "kernel": "R"
   },
   "outputs": [],
   "source": [
    "library(plyr)\n",
    "library(tidyverse)\n",
    "library(pander)\n",
    "library(ggpubr)\n",
    "library(rapportools)"
   ]
  },
  {
   "cell_type": "code",
   "execution_count": null,
   "metadata": {
    "kernel": "R"
   },
   "outputs": [],
   "source": [
    "getwd()"
   ]
  },
  {
   "cell_type": "code",
   "execution_count": 2,
   "metadata": {
    "kernel": "R"
   },
   "outputs": [],
   "source": [
    "setwd('~/project/HI_UKBB')"
   ]
  },
  {
   "cell_type": "code",
   "execution_count": 3,
   "metadata": {
    "kernel": "R"
   },
   "outputs": [],
   "source": [
    "# Clean workspace\n",
    "rm(list=ls())"
   ]
  },
  {
   "cell_type": "code",
   "execution_count": null,
   "metadata": {
    "kernel": "R"
   },
   "outputs": [],
   "source": [
    "# Run script to import data to R\n",
    "source(\"ukb42495_subset080420.r\")\n",
    "nrow(bd)"
   ]
  },
  {
   "cell_type": "code",
   "execution_count": null,
   "metadata": {
    "kernel": "R"
   },
   "outputs": [],
   "source": [
    "# List of individuals with qc'ed genotypic files\n",
    "df.geno <- read.table(\"/SAY/dbgapstg/scratch/UKBiobank/genotype_files/pleiotropy_geneticfiles/UKB_Caucasians_phenotypeindepqc120319_updated020720removedwithdrawnindiv.fam\", header= FALSE, stringsAsFactors = FALSE)\n",
    "names(df.geno) <-c(\"FID\",\"IID\",\"ignore1\", \"ignore2\", \"ignore3\", \"ignore4\")\n",
    "nrow(df.geno)"
   ]
  },
  {
   "cell_type": "code",
   "execution_count": null,
   "metadata": {
    "kernel": "R"
   },
   "outputs": [],
   "source": [
    "head(bd[,1, drop=FALSE])"
   ]
  },
  {
   "cell_type": "code",
   "execution_count": null,
   "metadata": {
    "kernel": "R"
   },
   "outputs": [],
   "source": [
    "# Assign individual ID column to bd f.eid\n",
    "names(bd)[1] <- \"IID\"\n",
    "head(bd[,1, drop=FALSE])"
   ]
  },
  {
   "cell_type": "code",
   "execution_count": null,
   "metadata": {
    "kernel": "R"
   },
   "outputs": [],
   "source": [
    "# Merge the two data frames\n",
    "df.gen.phen <-merge(df.geno, bd, by=\"IID\", all=FALSE)\n",
    "nrow(df.gen.phen)"
   ]
  },
  {
   "cell_type": "code",
   "execution_count": null,
   "metadata": {
    "kernel": "R"
   },
   "outputs": [],
   "source": [
    "# Step 5 Save as csv file\n",
    "write.csv(df.gen.phen,'200804_UKBB_HI_genotypeqc.csv', row.names = FALSE)"
   ]
  },
  {
   "cell_type": "markdown",
   "metadata": {
    "kernel": "R"
   },
   "source": [
    "## 1. Tinnitus phenotype (binary)"
   ]
  },
  {
   "cell_type": "markdown",
   "metadata": {
    "kernel": "R"
   },
   "source": [
    "### a. Exclusion criteria based on ICD10, ICD9 codes and self-report\n",
    "Apply the exclusion criteria defined by the group to remove unwanted individuals. This takes into account ICD10 codes, ICD9 codes and f.20002 (self-report). Please find a list of removed codes [here](https://docs.google.com/spreadsheets/d/12L7Cx4Ov8FppGVmG0DxL9uG-lVRHM5QJSea0nORyirQ/edit#gid=0). A total 12397 individuals were excluded in this step."
   ]
  },
  {
   "cell_type": "code",
   "execution_count": null,
   "metadata": {
    "kernel": "Bash"
   },
   "outputs": [],
   "source": [
    "# To get a list of removed individuals. Make sure the list with the strings each line has \\bstring\\b so it can be recognized by -w\n",
    "cd /home/dc2325/project/HI_UKBB"
   ]
  },
  {
   "cell_type": "code",
   "execution_count": null,
   "metadata": {
    "kernel": "Bash"
   },
   "outputs": [],
   "source": [
    "grep -w -f 200713_ICDcodes_exclusion.txt 200804_UKBB_HI_genotypeqc.csv > 200804_UKBB_excluded_individuals.csv\n",
    "cat 200804_UKBB_excluded_individuals.csv | wc -l #12397 excluded"
   ]
  },
  {
   "cell_type": "code",
   "execution_count": null,
   "metadata": {
    "kernel": "Bash"
   },
   "outputs": [],
   "source": [
    "# To get the clean db with the included individuals\n",
    "grep -wv -f 200713_ICDcodes_exclusion.txt 200804_UKBB_HI_genotypeqc.csv > 200804_UKBB_genotypeqc_HI_excr.csv\n",
    "cat 200804_UKBB_genotypeqc_HI_excr.csv | wc -l #354347 retained\n",
    "# To obtain the duplicate lines (if they exist)\n",
    "#comm -12 <(sort 200713_UKBB_genotypeqc_tinnitus_excr.csv) <(sort 200713_UKBB_excluded_individuals.csv)"
   ]
  },
  {
   "cell_type": "markdown",
   "metadata": {
    "kernel": "R"
   },
   "source": [
    "## Import clean data"
   ]
  },
  {
   "cell_type": "code",
   "execution_count": 3,
   "metadata": {
    "kernel": "R"
   },
   "outputs": [],
   "source": [
    "df_clean <- read.csv(file = '200804_UKBB_genotypeqc_HI_excr.csv', header=TRUE)"
   ]
  },
  {
   "cell_type": "markdown",
   "metadata": {
    "kernel": "SoS"
   },
   "source": [
    "**Analysis plan:**\n",
    "\n",
    "1. Individuals who currently have tinnitus (all three yes categories) vs no never only controlling for sex, age, noisy workplace and loud music frequency (“crude”) (No tinnitus vs anytype of tinnitus). For this analysis the missing data of the noise variables was imputed using the median for cases and controls separately\n",
    "\n",
    "3. Individuals in the two top YES categories vs NO never (‘No’ tinnitus vs ‘Yes, now all of the time’ and ‘Yes, now most of the time’)\n",
    "\n",
    "4. Individuals that say yes in the top 3 categories vs No never (Remove category ‘yes, but not now, but have it in the past’)"
   ]
  },
  {
   "cell_type": "markdown",
   "metadata": {
    "kernel": "SoS"
   },
   "source": [
    "## Data summary and recode"
   ]
  },
  {
   "cell_type": "code",
   "execution_count": 4,
   "metadata": {
    "kernel": "R"
   },
   "outputs": [
    {
     "data": {
      "text/html": [
       "<style>\n",
       ".list-inline {list-style: none; margin:0; padding: 0}\n",
       ".list-inline>li {display: inline-block}\n",
       ".list-inline>li:not(:last-child)::after {content: \"\\00b7\"; padding: 0 .5ex}\n",
       "</style>\n",
       "<ol class=list-inline><li>354347</li><li>1074</li></ol>\n"
      ],
      "text/latex": [
       "\\begin{enumerate*}\n",
       "\\item 354347\n",
       "\\item 1074\n",
       "\\end{enumerate*}\n"
      ],
      "text/markdown": [
       "1. 354347\n",
       "2. 1074\n",
       "\n",
       "\n"
      ],
      "text/plain": [
       "[1] 354347   1074"
      ]
     },
     "metadata": {},
     "output_type": "display_data"
    }
   ],
   "source": [
    "dim(df_clean)"
   ]
  },
  {
   "cell_type": "markdown",
   "metadata": {
    "kernel": "R"
   },
   "source": [
    "### Recode genetic sex f.22001"
   ]
  },
  {
   "cell_type": "code",
   "execution_count": 5,
   "metadata": {
    "kernel": "R"
   },
   "outputs": [
    {
     "data": {
      "text/plain": [
       "\n",
       "Female   Male \n",
       "192414 161933 "
      ]
     },
     "metadata": {},
     "output_type": "display_data"
    }
   ],
   "source": [
    "table(df_clean$f.22001)"
   ]
  },
  {
   "cell_type": "code",
   "execution_count": 8,
   "metadata": {
    "kernel": "R"
   },
   "outputs": [
    {
     "data": {
      "text/plain": [
       "\n",
       "     1      0 \n",
       "192414 161933 "
      ]
     },
     "metadata": {},
     "output_type": "display_data"
    }
   ],
   "source": [
    "df_clean$sex <- revalue(df_clean$f.22001.0.0, c(\"Male\" = '0', 'Female'='1' ))\n",
    "table(df_clean$sex)"
   ]
  },
  {
   "cell_type": "code",
   "execution_count": 9,
   "metadata": {
    "kernel": "R"
   },
   "outputs": [
    {
     "data": {
      "text/html": [
       "<style>\n",
       ".list-inline {list-style: none; margin:0; padding: 0}\n",
       ".list-inline>li {display: inline-block}\n",
       ".list-inline>li:not(:last-child)::after {content: \"\\00b7\"; padding: 0 .5ex}\n",
       "</style>\n",
       "<ol class=list-inline><li>354347</li><li>1075</li></ol>\n"
      ],
      "text/latex": [
       "\\begin{enumerate*}\n",
       "\\item 354347\n",
       "\\item 1075\n",
       "\\end{enumerate*}\n"
      ],
      "text/markdown": [
       "1. 354347\n",
       "2. 1075\n",
       "\n",
       "\n"
      ],
      "text/plain": [
       "[1] 354347   1075"
      ]
     },
     "metadata": {},
     "output_type": "display_data"
    }
   ],
   "source": [
    "dim(df_clean)"
   ]
  },
  {
   "cell_type": "markdown",
   "metadata": {
    "kernel": "SoS"
   },
   "source": [
    "## Filtering out inconsistent cases\n",
    "Recode 4 instances of field f.4803 with 0,1, and 9\n",
    "* Yes, now most or all of the time : 1 \n",
    "* Yes, now a lot of the time: 1 \n",
    "* Yes, now some of the time: 1 \n",
    "* Yes, but not now, but have in the past : 1 \n",
    "* No, never: 0\n",
    "* Do not know: 9 Prefer not to answer: NA"
   ]
  },
  {
   "cell_type": "code",
   "execution_count": 129,
   "metadata": {
    "kernel": "R"
   },
   "outputs": [
    {
     "name": "stdout",
     "output_type": "stream",
     "text": [
      "f.4803.0.0_recode summary:\n",
      "    9     0     1 \n",
      " 1989 80963 32642 \n",
      "\n",
      "f.4803.1.0_recode summary:\n",
      "    9     0     1 \n",
      "  185 10561  4605 \n",
      "\n",
      "f.4803.2.0_recode summary:\n",
      "    9     0     1 \n",
      "  410 23724 11589 \n",
      "\n",
      "f.4803.3.0_recode summary:\n",
      "   9    0    1 \n",
      "  20 1664  726 \n",
      "\n"
     ]
    }
   ],
   "source": [
    "# Recode function:\n",
    "recode<-function(df,column_name){\n",
    "  new_names<-c()\n",
    "  for (i in column_name){\n",
    "    new_column_name<-paste0(i,\"_recode\")\n",
    "    new_names<-c(new_names,new_column_name)\n",
    "    df[,new_column_name] <- revalue(df[,i], c(\"No, never\"= 0, \n",
    "                                            \"Yes, but not now, but have in the past\"= 1, \n",
    "                                            \"Yes, now some of the time\"= 1, \n",
    "                                            \"Yes, now a lot of the time\"= 1,\n",
    "                                            \"Yes, now most or all of the time\"= 1,\n",
    "                                            \"Prefer not to answer\"= NA,\n",
    "                                            \"Do not know\"= 9 ))\n",
    "  }\n",
    "  return (list(df=df,new_column_names=new_names))\n",
    "}\n",
    "\n",
    "# columns needs to be recoded:\n",
    "column_name<-c(\"f.4803.0.0\",\"f.4803.1.0\",\"f.4803.2.0\",\"f.4803.3.0\")\n",
    "\n",
    "# get a new data.frame with recoded columns added:\n",
    "df_clean<-recode(df=df_clean,column_name)$df\n",
    "\n",
    "# get names of recoded columns:\n",
    "new_column_names<-recode(df=df_clean,column_name)$new_column_names\n",
    "\n",
    "# show recode summary:\n",
    "for (i in new_column_names)\n",
    "{cat(i,\"summary:\");print(table(df_clean[,i]));cat(\"\\n\")}"
   ]
  },
  {
   "cell_type": "code",
   "execution_count": 130,
   "metadata": {
    "kernel": "R"
   },
   "outputs": [
    {
     "data": {
      "text/html": [
       "<style>\n",
       ".list-inline {list-style: none; margin:0; padding: 0}\n",
       ".list-inline>li {display: inline-block}\n",
       ".list-inline>li:not(:last-child)::after {content: \"\\00b7\"; padding: 0 .5ex}\n",
       "</style>\n",
       "<ol class=list-inline><li>354347</li><li>1079</li></ol>\n"
      ],
      "text/latex": [
       "\\begin{enumerate*}\n",
       "\\item 354347\n",
       "\\item 1079\n",
       "\\end{enumerate*}\n"
      ],
      "text/markdown": [
       "1. 354347\n",
       "2. 1079\n",
       "\n",
       "\n"
      ],
      "text/plain": [
       "[1] 354347   1079"
      ]
     },
     "metadata": {},
     "output_type": "display_data"
    }
   ],
   "source": [
    "dim(df_clean)"
   ]
  },
  {
   "cell_type": "markdown",
   "metadata": {
    "kernel": "SoS"
   },
   "source": [
    "## Get patterns for all possible answers"
   ]
  },
  {
   "cell_type": "code",
   "execution_count": 131,
   "metadata": {
    "kernel": "R"
   },
   "outputs": [
    {
     "data": {
      "text/html": [
       "<style>\n",
       ".list-inline {list-style: none; margin:0; padding: 0}\n",
       ".list-inline>li {display: inline-block}\n",
       ".list-inline>li:not(:last-child)::after {content: \"\\00b7\"; padding: 0 .5ex}\n",
       "</style>\n",
       "<ol class=list-inline><li>''</li><li>'0'</li><li>'00'</li><li>'000'</li><li>'0000'</li><li>'0001'</li><li>'001'</li><li>'0010'</li><li>'0011'</li><li>'009'</li><li>'01'</li><li>'010'</li><li>'0100'</li><li>'011'</li><li>'0111'</li><li>'019'</li><li>'09'</li><li>'090'</li><li>'091'</li><li>'099'</li><li>'1'</li><li>'10'</li><li>'100'</li><li>'1000'</li><li>'101'</li><li>'1010'</li><li>'1011'</li><li>'11'</li><li>'110'</li><li>'1100'</li><li>'1101'</li><li>'111'</li><li>'1110'</li><li>'1111'</li><li>'119'</li><li>'19'</li><li>'190'</li><li>'191'</li><li>'1919'</li><li>'199'</li><li>'9'</li><li>'90'</li><li>'900'</li><li>'901'</li><li>'9011'</li><li>'909'</li><li>'91'</li><li>'911'</li><li>'99'</li><li>'990'</li><li>'991'</li><li>'999'</li></ol>\n"
      ],
      "text/latex": [
       "\\begin{enumerate*}\n",
       "\\item ''\n",
       "\\item '0'\n",
       "\\item '00'\n",
       "\\item '000'\n",
       "\\item '0000'\n",
       "\\item '0001'\n",
       "\\item '001'\n",
       "\\item '0010'\n",
       "\\item '0011'\n",
       "\\item '009'\n",
       "\\item '01'\n",
       "\\item '010'\n",
       "\\item '0100'\n",
       "\\item '011'\n",
       "\\item '0111'\n",
       "\\item '019'\n",
       "\\item '09'\n",
       "\\item '090'\n",
       "\\item '091'\n",
       "\\item '099'\n",
       "\\item '1'\n",
       "\\item '10'\n",
       "\\item '100'\n",
       "\\item '1000'\n",
       "\\item '101'\n",
       "\\item '1010'\n",
       "\\item '1011'\n",
       "\\item '11'\n",
       "\\item '110'\n",
       "\\item '1100'\n",
       "\\item '1101'\n",
       "\\item '111'\n",
       "\\item '1110'\n",
       "\\item '1111'\n",
       "\\item '119'\n",
       "\\item '19'\n",
       "\\item '190'\n",
       "\\item '191'\n",
       "\\item '1919'\n",
       "\\item '199'\n",
       "\\item '9'\n",
       "\\item '90'\n",
       "\\item '900'\n",
       "\\item '901'\n",
       "\\item '9011'\n",
       "\\item '909'\n",
       "\\item '91'\n",
       "\\item '911'\n",
       "\\item '99'\n",
       "\\item '990'\n",
       "\\item '991'\n",
       "\\item '999'\n",
       "\\end{enumerate*}\n"
      ],
      "text/markdown": [
       "1. ''\n",
       "2. '0'\n",
       "3. '00'\n",
       "4. '000'\n",
       "5. '0000'\n",
       "6. '0001'\n",
       "7. '001'\n",
       "8. '0010'\n",
       "9. '0011'\n",
       "10. '009'\n",
       "11. '01'\n",
       "12. '010'\n",
       "13. '0100'\n",
       "14. '011'\n",
       "15. '0111'\n",
       "16. '019'\n",
       "17. '09'\n",
       "18. '090'\n",
       "19. '091'\n",
       "20. '099'\n",
       "21. '1'\n",
       "22. '10'\n",
       "23. '100'\n",
       "24. '1000'\n",
       "25. '101'\n",
       "26. '1010'\n",
       "27. '1011'\n",
       "28. '11'\n",
       "29. '110'\n",
       "30. '1100'\n",
       "31. '1101'\n",
       "32. '111'\n",
       "33. '1110'\n",
       "34. '1111'\n",
       "35. '119'\n",
       "36. '19'\n",
       "37. '190'\n",
       "38. '191'\n",
       "39. '1919'\n",
       "40. '199'\n",
       "41. '9'\n",
       "42. '90'\n",
       "43. '900'\n",
       "44. '901'\n",
       "45. '9011'\n",
       "46. '909'\n",
       "47. '91'\n",
       "48. '911'\n",
       "49. '99'\n",
       "50. '990'\n",
       "51. '991'\n",
       "52. '999'\n",
       "\n",
       "\n"
      ],
      "text/plain": [
       " [1] \"\"     \"0\"    \"00\"   \"000\"  \"0000\" \"0001\" \"001\"  \"0010\" \"0011\" \"009\" \n",
       "[11] \"01\"   \"010\"  \"0100\" \"011\"  \"0111\" \"019\"  \"09\"   \"090\"  \"091\"  \"099\" \n",
       "[21] \"1\"    \"10\"   \"100\"  \"1000\" \"101\"  \"1010\" \"1011\" \"11\"   \"110\"  \"1100\"\n",
       "[31] \"1101\" \"111\"  \"1110\" \"1111\" \"119\"  \"19\"   \"190\"  \"191\"  \"1919\" \"199\" \n",
       "[41] \"9\"    \"90\"   \"900\"  \"901\"  \"9011\" \"909\"  \"91\"   \"911\"  \"99\"   \"990\" \n",
       "[51] \"991\"  \"999\" "
      ]
     },
     "metadata": {},
     "output_type": "display_data"
    }
   ],
   "source": [
    "# Extract subset of data only with the recode columns of tinnitus\n",
    "data_sub <- df_clean %>%\n",
    "  select(\"IID\",all_of(new_column_names)) \n",
    "\n",
    "# Function to extract all the available answers for 4 visits\n",
    "# and put them in one string as \"0000\", \"111\", \"991\", etc\n",
    "\n",
    "f2<-function(x){\n",
    "  visit<-''\n",
    "  for (i in 2:5){ # do not take the first column (i.e. IID)\n",
    "    if (!is.na(x[i]))\n",
    "    {visit<-paste0(visit,x[i])}\n",
    "  }\n",
    "  if(is.null(visit)){visit=NA}\n",
    "  else{visit=visit}\n",
    "  return (visit)\n",
    "}\n",
    "\n",
    "# Apply the above function and remove NAs\n",
    "data_sub$visit<-apply(data_sub, 1, f2)\n",
    "\n",
    "names(table(data_sub$visit))"
   ]
  },
  {
   "cell_type": "code",
   "execution_count": 132,
   "metadata": {
    "kernel": "R"
   },
   "outputs": [
    {
     "name": "stdout",
     "output_type": "stream",
     "text": [
      "There are 52 different combinations of answers.\n"
     ]
    }
   ],
   "source": [
    "all_pattern<-unique(data_sub$visit)\n",
    "\n",
    "cat(\"There are\",length(all_pattern),\"different combinations of answers.\\n\")"
   ]
  },
  {
   "cell_type": "code",
   "execution_count": 133,
   "metadata": {
    "kernel": "R"
   },
   "outputs": [
    {
     "name": "stdout",
     "output_type": "stream",
     "text": [
      "Those with 4 numbers has answer for all 4 visits. e.g. '0000': No, No, No, No.\n"
     ]
    }
   ],
   "source": [
    "cat(\"Those with 4 numbers has answer for all 4 visits. e.g. '0000': No, No, No, No.\\n\")"
   ]
  },
  {
   "cell_type": "code",
   "execution_count": 134,
   "metadata": {
    "kernel": "R"
   },
   "outputs": [
    {
     "name": "stdout",
     "output_type": "stream",
     "text": [
      "Those with 3 numbers has answer for 3 answers out of 4 visits. e.g. '001': No, No, Yes. \n"
     ]
    }
   ],
   "source": [
    "cat(\"Those with 3 numbers has answer for 3 answers out of 4 visits. e.g. '001': No, No, Yes. \\n\")"
   ]
  },
  {
   "cell_type": "code",
   "execution_count": 135,
   "metadata": {
    "kernel": "R"
   },
   "outputs": [
    {
     "name": "stdout",
     "output_type": "stream",
     "text": [
      "Those with 2 numbers has answer for 2 answers out of 4 visits. e.g. '90': Do not know, No. \n"
     ]
    }
   ],
   "source": [
    "cat(\"Those with 2 numbers has answer for 2 answers out of 4 visits. e.g. '90': Do not know, No. \\n\")"
   ]
  },
  {
   "cell_type": "code",
   "execution_count": 136,
   "metadata": {
    "kernel": "R"
   },
   "outputs": [
    {
     "name": "stdout",
     "output_type": "stream",
     "text": [
      "The first one, i.e. '' is for NAs.\n"
     ]
    }
   ],
   "source": [
    "cat(\"The first one, i.e. '' is for NAs.\\n\")"
   ]
  },
  {
   "cell_type": "code",
   "execution_count": 137,
   "metadata": {
    "kernel": "R"
   },
   "outputs": [
    {
     "data": {
      "text/plain": [
       "\n",
       "            0     00    000   0000   0001    001   0010   0011    009     01 \n",
       "207944  87438  10425   1475     73      4    122      3      3     10   1717 \n",
       "   010   0100    011   0111    019     09    090    091    099      1     10 \n",
       "    78      3    131      6      2     94     10      5      2  36961   1014 \n",
       "   100   1000    101   1010   1011     11    110   1100   1101    111   1110 \n",
       "    97      6     42      2      2   3717     59      3      5    430      4 \n",
       "  1111    119     19    190    191   1919    199      9     90    900    901 \n",
       "    19      4     76      4      8      1      1   2110     92     10      5 \n",
       "  9011    909     91    911     99    990    991    999 \n",
       "     1      3     85      9     28      1      2      1 "
      ]
     },
     "metadata": {},
     "output_type": "display_data"
    }
   ],
   "source": [
    "table(data_sub$visit)"
   ]
  },
  {
   "cell_type": "markdown",
   "metadata": {
    "kernel": "R"
   },
   "source": [
    "## Extract consistent cases"
   ]
  },
  {
   "cell_type": "code",
   "execution_count": 138,
   "metadata": {
    "kernel": "R"
   },
   "outputs": [
    {
     "data": {
      "text/plain": [
       "\n",
       "    0    00   000  0000     1    11   111  1111     9    99   999 \n",
       "87438 10425  1475    73 36961  3717   430    19  2110    28     1 "
      ]
     },
     "metadata": {},
     "output_type": "display_data"
    }
   ],
   "source": [
    "all_no<-all_pattern[which(grepl(\"0\",all_pattern) & !grepl(\"9\",all_pattern) & !grepl(\"1\",all_pattern))]\n",
    "all_yes<-all_pattern[which(!grepl(\"0\",all_pattern) & !grepl(\"9\",all_pattern) & grepl(\"1\",all_pattern))]\n",
    "all_do_not_know<-all_pattern[which(!grepl(\"0\",all_pattern) & grepl(\"9\",all_pattern) & !grepl(\"1\",all_pattern))]\n",
    "table(data_sub[data_sub$visit%in%union(union(all_no,all_yes),all_do_not_know),\"visit\"])"
   ]
  },
  {
   "cell_type": "code",
   "execution_count": 139,
   "metadata": {
    "kernel": "R"
   },
   "outputs": [
    {
     "data": {
      "text/plain": [
       "\n",
       "009  09 090 099  90 900 909 990 \n",
       " 10  94  10   2  92  10   3   1 "
      ]
     },
     "metadata": {},
     "output_type": "display_data"
    }
   ],
   "source": [
    "consistent_1<-c(all_no,all_yes,all_do_not_know)\n",
    "\n",
    "# might be inconsistent cases:\n",
    "do_not_know_no<-all_pattern[which(grepl(\"0\",all_pattern) & grepl(\"9\",all_pattern) & !grepl(\"1\",all_pattern))]\n",
    "table(data_sub[data_sub$visit%in%do_not_know_no,\"visit\"])"
   ]
  },
  {
   "cell_type": "code",
   "execution_count": 140,
   "metadata": {
    "kernel": "R"
   },
   "outputs": [
    {
     "data": {
      "text/plain": [
       "\n",
       " 119   19  191 1919  199   91  911  991 \n",
       "   4   76    8    1    1   85    9    2 "
      ]
     },
     "metadata": {},
     "output_type": "display_data"
    }
   ],
   "source": [
    "do_not_know_yes<-all_pattern[which(!grepl(\"0\",all_pattern) & grepl(\"9\",all_pattern) & grepl(\"1\",all_pattern))]\n",
    "table(data_sub[data_sub$visit%in%do_not_know_yes,\"visit\"])"
   ]
  },
  {
   "cell_type": "code",
   "execution_count": 141,
   "metadata": {
    "kernel": "R"
   },
   "outputs": [
    {
     "data": {
      "text/plain": [
       "\n",
       "0001  001 0010 0011   01  010 0100  011 0111   10  100 1000  101 1010 1011  110 \n",
       "   4  122    3    3 1717   78    3  131    6 1014   97    6   42    2    2   59 \n",
       "1100 1101 1110 \n",
       "   3    5    4 "
      ]
     },
     "metadata": {},
     "output_type": "display_data"
    }
   ],
   "source": [
    "yes_no<-all_pattern[which(grepl(\"0\",all_pattern) & !grepl(\"9\",all_pattern) & grepl(\"1\",all_pattern))]\n",
    "table(data_sub[data_sub$visit%in%yes_no,\"visit\"])"
   ]
  },
  {
   "cell_type": "code",
   "execution_count": 142,
   "metadata": {
    "kernel": "R"
   },
   "outputs": [
    {
     "data": {
      "text/plain": [
       "\n",
       " 019  091  190  901 9011 \n",
       "   2    5    4    5    1 "
      ]
     },
     "metadata": {},
     "output_type": "display_data"
    }
   ],
   "source": [
    "with_all_three<-all_pattern[which(grepl(\"0\",all_pattern) & grepl(\"9\",all_pattern) & grepl(\"1\",all_pattern))]\n",
    "table(data_sub[data_sub$visit%in%with_all_three,\"visit\"])"
   ]
  },
  {
   "cell_type": "code",
   "execution_count": 143,
   "metadata": {
    "kernel": "R"
   },
   "outputs": [],
   "source": [
    "might_inconsistent<-c(do_not_know_no,do_not_know_yes,yes_no,with_all_three)"
   ]
  },
  {
   "cell_type": "markdown",
   "metadata": {
    "kernel": "R"
   },
   "source": [
    "## Remove inconsistent cases and NAs"
   ]
  },
  {
   "cell_type": "code",
   "execution_count": 144,
   "metadata": {
    "kernel": "R"
   },
   "outputs": [
    {
     "name": "stdout",
     "output_type": "stream",
     "text": [
      "There are 207944 NAs, removed"
     ]
    }
   ],
   "source": [
    "# get all the inconsistent cases:\n",
    "exceptions<-c(\"91\",\"911\",\"991\",\"0001\",\"001\",\"0011\",\"01\",\"011\",\"0111\", \"091\", \"901\", \"9011\")\n",
    "inconsistent<-setdiff(might_inconsistent,exceptions)\n",
    "\n",
    "cat(\"There are\",length(which(is.empty(data_sub$visit))),\"NAs, removed\")"
   ]
  },
  {
   "cell_type": "code",
   "execution_count": 145,
   "metadata": {
    "kernel": "R"
   },
   "outputs": [
    {
     "name": "stdout",
     "output_type": "stream",
     "text": [
      "There are 1636 inconsistent cases, removed"
     ]
    }
   ],
   "source": [
    "cat(\"There are\",length(which(data_sub$visit%in%inconsistent)),\"inconsistent cases, removed\")"
   ]
  },
  {
   "cell_type": "code",
   "execution_count": 146,
   "metadata": {
    "kernel": "R"
   },
   "outputs": [
    {
     "data": {
      "text/html": [
       "<style>\n",
       ".list-inline {list-style: none; margin:0; padding: 0}\n",
       ".list-inline>li {display: inline-block}\n",
       ".list-inline>li:not(:last-child)::after {content: \"\\00b7\"; padding: 0 .5ex}\n",
       "</style>\n",
       "<ol class=list-inline><li>144767</li><li>1</li></ol>\n"
      ],
      "text/latex": [
       "\\begin{enumerate*}\n",
       "\\item 144767\n",
       "\\item 1\n",
       "\\end{enumerate*}\n"
      ],
      "text/markdown": [
       "1. 144767\n",
       "2. 1\n",
       "\n",
       "\n"
      ],
      "text/plain": [
       "[1] 144767      1"
      ]
     },
     "metadata": {},
     "output_type": "display_data"
    }
   ],
   "source": [
    "# removed those NAs and inconsistent cases: \n",
    "IID_cleaned<-data_sub %>%\n",
    "  filter(!is.empty(visit)) %>%\n",
    "  filter((!visit%in%inconsistent)) %>%\n",
    "  select(IID)\n",
    "\n",
    "dim(IID_cleaned)"
   ]
  },
  {
   "cell_type": "code",
   "execution_count": 147,
   "metadata": {
    "kernel": "R"
   },
   "outputs": [
    {
     "name": "stdout",
     "output_type": "stream",
     "text": [
      "After removing all the NAs and inconsistent cases, there are 144767 cases left"
     ]
    }
   ],
   "source": [
    "IID_cleaned<-IID_cleaned[,1]\n",
    "cat(\"After removing all the NAs and inconsistent cases, there are\",length(IID_cleaned),\"cases left\")"
   ]
  },
  {
   "cell_type": "code",
   "execution_count": 148,
   "metadata": {
    "kernel": "R"
   },
   "outputs": [
    {
     "data": {
      "text/html": [
       "<style>\n",
       ".list-inline {list-style: none; margin:0; padding: 0}\n",
       ".list-inline>li {display: inline-block}\n",
       ".list-inline>li:not(:last-child)::after {content: \"\\00b7\"; padding: 0 .5ex}\n",
       "</style>\n",
       "<ol class=list-inline><li>144767</li><li>1079</li></ol>\n"
      ],
      "text/latex": [
       "\\begin{enumerate*}\n",
       "\\item 144767\n",
       "\\item 1079\n",
       "\\end{enumerate*}\n"
      ],
      "text/markdown": [
       "1. 144767\n",
       "2. 1079\n",
       "\n",
       "\n"
      ],
      "text/plain": [
       "[1] 144767   1079"
      ]
     },
     "metadata": {},
     "output_type": "display_data"
    }
   ],
   "source": [
    "# get the dataset after cleansing: \n",
    "data_cleaned<-df_clean %>%\n",
    "  filter(IID%in%IID_cleaned)\n",
    "\n",
    "dim(data_cleaned)"
   ]
  },
  {
   "cell_type": "markdown",
   "metadata": {
    "kernel": "R"
   },
   "source": [
    "# Fitlering tinnitus for different analyses\n",
    "\n",
    "Recode 4 instances of field f.4803 with 4,3,2,1,0, and 9\n",
    "\n",
    "* Yes, now most or all of the time : 4 \n",
    "* Yes, now a lot of the time: 3 \n",
    "* Yes, now some of the time: 2 \n",
    "* Yes, but not now, but have in the past : 1 \n",
    "* No, never: 0\n",
    "* Do not know: 9 \n",
    "* Prefer not to answer: NA"
   ]
  },
  {
   "cell_type": "markdown",
   "metadata": {
    "kernel": "SoS"
   },
   "source": [
    "# Analysis plan 1: filtering"
   ]
  },
  {
   "cell_type": "code",
   "execution_count": 29,
   "metadata": {
    "kernel": "R",
    "scrolled": true
   },
   "outputs": [
    {
     "data": {
      "text/html": [
       "<table>\n",
       "<caption>A data.frame: 40 × 7</caption>\n",
       "<thead>\n",
       "\t<tr><th></th><th scope=col>IID</th><th scope=col>f.4803.0.0_recode</th><th scope=col>f.4803.1.0_recode</th><th scope=col>f.4803.2.0_recode</th><th scope=col>f.4803.3.0_recode</th><th scope=col>visit</th><th scope=col>removed</th></tr>\n",
       "\t<tr><th></th><th scope=col>&lt;int&gt;</th><th scope=col>&lt;fct&gt;</th><th scope=col>&lt;fct&gt;</th><th scope=col>&lt;fct&gt;</th><th scope=col>&lt;fct&gt;</th><th scope=col>&lt;chr&gt;</th><th scope=col>&lt;lgl&gt;</th></tr>\n",
       "</thead>\n",
       "<tbody>\n",
       "\t<tr><th scope=row>1</th><td>1000019</td><td>NA</td><td>NA</td><td>NA</td><td>NA</td><td>  </td><td>FALSE</td></tr>\n",
       "\t<tr><th scope=row>2</th><td>1000022</td><td>NA</td><td>NA</td><td>NA</td><td>NA</td><td>  </td><td>FALSE</td></tr>\n",
       "\t<tr><th scope=row>3</th><td>1000035</td><td>NA</td><td>NA</td><td>NA</td><td>NA</td><td>  </td><td>FALSE</td></tr>\n",
       "\t<tr><th scope=row>4</th><td>1000046</td><td>NA</td><td>NA</td><td>0 </td><td>NA</td><td>0 </td><td>FALSE</td></tr>\n",
       "\t<tr><th scope=row>5</th><td>1000054</td><td>NA</td><td>NA</td><td>NA</td><td>NA</td><td>  </td><td>FALSE</td></tr>\n",
       "\t<tr><th scope=row>6</th><td>1000063</td><td>0 </td><td>NA</td><td>NA</td><td>NA</td><td>0 </td><td>FALSE</td></tr>\n",
       "\t<tr><th scope=row>7</th><td>1000078</td><td>NA</td><td>0 </td><td>0 </td><td>NA</td><td>00</td><td>FALSE</td></tr>\n",
       "\t<tr><th scope=row>8</th><td>1000105</td><td>1 </td><td>NA</td><td>NA</td><td>NA</td><td>1 </td><td>FALSE</td></tr>\n",
       "\t<tr><th scope=row>9</th><td>1000112</td><td>NA</td><td>NA</td><td>0 </td><td>NA</td><td>0 </td><td>FALSE</td></tr>\n",
       "\t<tr><th scope=row>10</th><td>1000129</td><td>NA</td><td>NA</td><td>NA</td><td>NA</td><td>  </td><td>FALSE</td></tr>\n",
       "\t<tr><th scope=row>11</th><td>1000137</td><td>NA</td><td>NA</td><td>NA</td><td>NA</td><td>  </td><td>FALSE</td></tr>\n",
       "\t<tr><th scope=row>12</th><td>1000141</td><td>0 </td><td>NA</td><td>NA</td><td>NA</td><td>0 </td><td>FALSE</td></tr>\n",
       "\t<tr><th scope=row>13</th><td>1000164</td><td>NA</td><td>NA</td><td>NA</td><td>NA</td><td>  </td><td>FALSE</td></tr>\n",
       "\t<tr><th scope=row>14</th><td>1000170</td><td>NA</td><td>NA</td><td>NA</td><td>NA</td><td>  </td><td>FALSE</td></tr>\n",
       "\t<tr><th scope=row>15</th><td>1000186</td><td>NA</td><td>NA</td><td>NA</td><td>NA</td><td>  </td><td>FALSE</td></tr>\n",
       "\t<tr><th scope=row>16</th><td>1000198</td><td>NA</td><td>NA</td><td>NA</td><td>NA</td><td>  </td><td>FALSE</td></tr>\n",
       "\t<tr><th scope=row>17</th><td>1000203</td><td>NA</td><td>NA</td><td>NA</td><td>NA</td><td>  </td><td>FALSE</td></tr>\n",
       "\t<tr><th scope=row>18</th><td>1000210</td><td>NA</td><td>NA</td><td>NA</td><td>NA</td><td>  </td><td>FALSE</td></tr>\n",
       "\t<tr><th scope=row>19</th><td>1000224</td><td>NA</td><td>NA</td><td>NA</td><td>NA</td><td>  </td><td>FALSE</td></tr>\n",
       "\t<tr><th scope=row>20</th><td>1000236</td><td>0 </td><td>NA</td><td>0 </td><td>NA</td><td>00</td><td>FALSE</td></tr>\n",
       "\t<tr><th scope=row>21</th><td>1000248</td><td>0 </td><td>NA</td><td>NA</td><td>NA</td><td>0 </td><td>FALSE</td></tr>\n",
       "\t<tr><th scope=row>22</th><td>1000269</td><td>NA</td><td>NA</td><td>0 </td><td>NA</td><td>0 </td><td>FALSE</td></tr>\n",
       "\t<tr><th scope=row>23</th><td>1000287</td><td>NA</td><td>NA</td><td>NA</td><td>NA</td><td>  </td><td>FALSE</td></tr>\n",
       "\t<tr><th scope=row>24</th><td>1000291</td><td>NA</td><td>NA</td><td>NA</td><td>NA</td><td>  </td><td>FALSE</td></tr>\n",
       "\t<tr><th scope=row>25</th><td>1000318</td><td>NA</td><td>NA</td><td>NA</td><td>NA</td><td>  </td><td>FALSE</td></tr>\n",
       "\t<tr><th scope=row>26</th><td>1000340</td><td>0 </td><td>NA</td><td>NA</td><td>NA</td><td>0 </td><td>FALSE</td></tr>\n",
       "\t<tr><th scope=row>27</th><td>1000357</td><td>1 </td><td>NA</td><td>NA</td><td>NA</td><td>1 </td><td>FALSE</td></tr>\n",
       "\t<tr><th scope=row>28</th><td>1000362</td><td>NA</td><td>NA</td><td>NA</td><td>NA</td><td>  </td><td>FALSE</td></tr>\n",
       "\t<tr><th scope=row>29</th><td>1000379</td><td>0 </td><td>NA</td><td>NA</td><td>NA</td><td>0 </td><td>FALSE</td></tr>\n",
       "\t<tr><th scope=row>30</th><td>1000408</td><td>NA</td><td>NA</td><td>NA</td><td>NA</td><td>  </td><td>FALSE</td></tr>\n",
       "\t<tr><th scope=row>31</th><td>1000421</td><td>0 </td><td>NA</td><td>NA</td><td>NA</td><td>0 </td><td>FALSE</td></tr>\n",
       "\t<tr><th scope=row>32</th><td>1000443</td><td>NA</td><td>NA</td><td>1 </td><td>NA</td><td>1 </td><td>FALSE</td></tr>\n",
       "\t<tr><th scope=row>33</th><td>1000450</td><td>NA</td><td>NA</td><td>NA</td><td>NA</td><td>  </td><td>FALSE</td></tr>\n",
       "\t<tr><th scope=row>34</th><td>1000494</td><td>1 </td><td>NA</td><td>NA</td><td>NA</td><td>1 </td><td>FALSE</td></tr>\n",
       "\t<tr><th scope=row>35</th><td>1000516</td><td>0 </td><td>NA</td><td>NA</td><td>NA</td><td>0 </td><td>FALSE</td></tr>\n",
       "\t<tr><th scope=row>36</th><td>1000527</td><td>0 </td><td>NA</td><td>NA</td><td>NA</td><td>0 </td><td>FALSE</td></tr>\n",
       "\t<tr><th scope=row>37</th><td>1000530</td><td>0 </td><td>NA</td><td>NA</td><td>NA</td><td>0 </td><td>FALSE</td></tr>\n",
       "\t<tr><th scope=row>38</th><td>1000549</td><td>0 </td><td>NA</td><td>NA</td><td>NA</td><td>0 </td><td>FALSE</td></tr>\n",
       "\t<tr><th scope=row>39</th><td>1000573</td><td>NA</td><td>NA</td><td>NA</td><td>NA</td><td>  </td><td>FALSE</td></tr>\n",
       "\t<tr><th scope=row>40</th><td>1000584</td><td>0 </td><td>NA</td><td>NA</td><td>NA</td><td>0 </td><td>FALSE</td></tr>\n",
       "</tbody>\n",
       "</table>\n"
      ],
      "text/latex": [
       "A data.frame: 40 × 7\n",
       "\\begin{tabular}{r|lllllll}\n",
       "  & IID & f.4803.0.0\\_recode & f.4803.1.0\\_recode & f.4803.2.0\\_recode & f.4803.3.0\\_recode & visit & removed\\\\\n",
       "  & <int> & <fct> & <fct> & <fct> & <fct> & <chr> & <lgl>\\\\\n",
       "\\hline\n",
       "\t1 & 1000019 & NA & NA & NA & NA &    & FALSE\\\\\n",
       "\t2 & 1000022 & NA & NA & NA & NA &    & FALSE\\\\\n",
       "\t3 & 1000035 & NA & NA & NA & NA &    & FALSE\\\\\n",
       "\t4 & 1000046 & NA & NA & 0  & NA & 0  & FALSE\\\\\n",
       "\t5 & 1000054 & NA & NA & NA & NA &    & FALSE\\\\\n",
       "\t6 & 1000063 & 0  & NA & NA & NA & 0  & FALSE\\\\\n",
       "\t7 & 1000078 & NA & 0  & 0  & NA & 00 & FALSE\\\\\n",
       "\t8 & 1000105 & 1  & NA & NA & NA & 1  & FALSE\\\\\n",
       "\t9 & 1000112 & NA & NA & 0  & NA & 0  & FALSE\\\\\n",
       "\t10 & 1000129 & NA & NA & NA & NA &    & FALSE\\\\\n",
       "\t11 & 1000137 & NA & NA & NA & NA &    & FALSE\\\\\n",
       "\t12 & 1000141 & 0  & NA & NA & NA & 0  & FALSE\\\\\n",
       "\t13 & 1000164 & NA & NA & NA & NA &    & FALSE\\\\\n",
       "\t14 & 1000170 & NA & NA & NA & NA &    & FALSE\\\\\n",
       "\t15 & 1000186 & NA & NA & NA & NA &    & FALSE\\\\\n",
       "\t16 & 1000198 & NA & NA & NA & NA &    & FALSE\\\\\n",
       "\t17 & 1000203 & NA & NA & NA & NA &    & FALSE\\\\\n",
       "\t18 & 1000210 & NA & NA & NA & NA &    & FALSE\\\\\n",
       "\t19 & 1000224 & NA & NA & NA & NA &    & FALSE\\\\\n",
       "\t20 & 1000236 & 0  & NA & 0  & NA & 00 & FALSE\\\\\n",
       "\t21 & 1000248 & 0  & NA & NA & NA & 0  & FALSE\\\\\n",
       "\t22 & 1000269 & NA & NA & 0  & NA & 0  & FALSE\\\\\n",
       "\t23 & 1000287 & NA & NA & NA & NA &    & FALSE\\\\\n",
       "\t24 & 1000291 & NA & NA & NA & NA &    & FALSE\\\\\n",
       "\t25 & 1000318 & NA & NA & NA & NA &    & FALSE\\\\\n",
       "\t26 & 1000340 & 0  & NA & NA & NA & 0  & FALSE\\\\\n",
       "\t27 & 1000357 & 1  & NA & NA & NA & 1  & FALSE\\\\\n",
       "\t28 & 1000362 & NA & NA & NA & NA &    & FALSE\\\\\n",
       "\t29 & 1000379 & 0  & NA & NA & NA & 0  & FALSE\\\\\n",
       "\t30 & 1000408 & NA & NA & NA & NA &    & FALSE\\\\\n",
       "\t31 & 1000421 & 0  & NA & NA & NA & 0  & FALSE\\\\\n",
       "\t32 & 1000443 & NA & NA & 1  & NA & 1  & FALSE\\\\\n",
       "\t33 & 1000450 & NA & NA & NA & NA &    & FALSE\\\\\n",
       "\t34 & 1000494 & 1  & NA & NA & NA & 1  & FALSE\\\\\n",
       "\t35 & 1000516 & 0  & NA & NA & NA & 0  & FALSE\\\\\n",
       "\t36 & 1000527 & 0  & NA & NA & NA & 0  & FALSE\\\\\n",
       "\t37 & 1000530 & 0  & NA & NA & NA & 0  & FALSE\\\\\n",
       "\t38 & 1000549 & 0  & NA & NA & NA & 0  & FALSE\\\\\n",
       "\t39 & 1000573 & NA & NA & NA & NA &    & FALSE\\\\\n",
       "\t40 & 1000584 & 0  & NA & NA & NA & 0  & FALSE\\\\\n",
       "\\end{tabular}\n"
      ],
      "text/markdown": [
       "\n",
       "A data.frame: 40 × 7\n",
       "\n",
       "| <!--/--> | IID &lt;int&gt; | f.4803.0.0_recode &lt;fct&gt; | f.4803.1.0_recode &lt;fct&gt; | f.4803.2.0_recode &lt;fct&gt; | f.4803.3.0_recode &lt;fct&gt; | visit &lt;chr&gt; | removed &lt;lgl&gt; |\n",
       "|---|---|---|---|---|---|---|---|\n",
       "| 1 | 1000019 | NA | NA | NA | NA | <!----> | FALSE |\n",
       "| 2 | 1000022 | NA | NA | NA | NA | <!----> | FALSE |\n",
       "| 3 | 1000035 | NA | NA | NA | NA | <!----> | FALSE |\n",
       "| 4 | 1000046 | NA | NA | 0  | NA | 0  | FALSE |\n",
       "| 5 | 1000054 | NA | NA | NA | NA | <!----> | FALSE |\n",
       "| 6 | 1000063 | 0  | NA | NA | NA | 0  | FALSE |\n",
       "| 7 | 1000078 | NA | 0  | 0  | NA | 00 | FALSE |\n",
       "| 8 | 1000105 | 1  | NA | NA | NA | 1  | FALSE |\n",
       "| 9 | 1000112 | NA | NA | 0  | NA | 0  | FALSE |\n",
       "| 10 | 1000129 | NA | NA | NA | NA | <!----> | FALSE |\n",
       "| 11 | 1000137 | NA | NA | NA | NA | <!----> | FALSE |\n",
       "| 12 | 1000141 | 0  | NA | NA | NA | 0  | FALSE |\n",
       "| 13 | 1000164 | NA | NA | NA | NA | <!----> | FALSE |\n",
       "| 14 | 1000170 | NA | NA | NA | NA | <!----> | FALSE |\n",
       "| 15 | 1000186 | NA | NA | NA | NA | <!----> | FALSE |\n",
       "| 16 | 1000198 | NA | NA | NA | NA | <!----> | FALSE |\n",
       "| 17 | 1000203 | NA | NA | NA | NA | <!----> | FALSE |\n",
       "| 18 | 1000210 | NA | NA | NA | NA | <!----> | FALSE |\n",
       "| 19 | 1000224 | NA | NA | NA | NA | <!----> | FALSE |\n",
       "| 20 | 1000236 | 0  | NA | 0  | NA | 00 | FALSE |\n",
       "| 21 | 1000248 | 0  | NA | NA | NA | 0  | FALSE |\n",
       "| 22 | 1000269 | NA | NA | 0  | NA | 0  | FALSE |\n",
       "| 23 | 1000287 | NA | NA | NA | NA | <!----> | FALSE |\n",
       "| 24 | 1000291 | NA | NA | NA | NA | <!----> | FALSE |\n",
       "| 25 | 1000318 | NA | NA | NA | NA | <!----> | FALSE |\n",
       "| 26 | 1000340 | 0  | NA | NA | NA | 0  | FALSE |\n",
       "| 27 | 1000357 | 1  | NA | NA | NA | 1  | FALSE |\n",
       "| 28 | 1000362 | NA | NA | NA | NA | <!----> | FALSE |\n",
       "| 29 | 1000379 | 0  | NA | NA | NA | 0  | FALSE |\n",
       "| 30 | 1000408 | NA | NA | NA | NA | <!----> | FALSE |\n",
       "| 31 | 1000421 | 0  | NA | NA | NA | 0  | FALSE |\n",
       "| 32 | 1000443 | NA | NA | 1  | NA | 1  | FALSE |\n",
       "| 33 | 1000450 | NA | NA | NA | NA | <!----> | FALSE |\n",
       "| 34 | 1000494 | 1  | NA | NA | NA | 1  | FALSE |\n",
       "| 35 | 1000516 | 0  | NA | NA | NA | 0  | FALSE |\n",
       "| 36 | 1000527 | 0  | NA | NA | NA | 0  | FALSE |\n",
       "| 37 | 1000530 | 0  | NA | NA | NA | 0  | FALSE |\n",
       "| 38 | 1000549 | 0  | NA | NA | NA | 0  | FALSE |\n",
       "| 39 | 1000573 | NA | NA | NA | NA | <!----> | FALSE |\n",
       "| 40 | 1000584 | 0  | NA | NA | NA | 0  | FALSE |\n",
       "\n"
      ],
      "text/plain": [
       "   IID     f.4803.0.0_recode f.4803.1.0_recode f.4803.2.0_recode\n",
       "1  1000019 NA                NA                NA               \n",
       "2  1000022 NA                NA                NA               \n",
       "3  1000035 NA                NA                NA               \n",
       "4  1000046 NA                NA                0                \n",
       "5  1000054 NA                NA                NA               \n",
       "6  1000063 0                 NA                NA               \n",
       "7  1000078 NA                0                 0                \n",
       "8  1000105 1                 NA                NA               \n",
       "9  1000112 NA                NA                0                \n",
       "10 1000129 NA                NA                NA               \n",
       "11 1000137 NA                NA                NA               \n",
       "12 1000141 0                 NA                NA               \n",
       "13 1000164 NA                NA                NA               \n",
       "14 1000170 NA                NA                NA               \n",
       "15 1000186 NA                NA                NA               \n",
       "16 1000198 NA                NA                NA               \n",
       "17 1000203 NA                NA                NA               \n",
       "18 1000210 NA                NA                NA               \n",
       "19 1000224 NA                NA                NA               \n",
       "20 1000236 0                 NA                0                \n",
       "21 1000248 0                 NA                NA               \n",
       "22 1000269 NA                NA                0                \n",
       "23 1000287 NA                NA                NA               \n",
       "24 1000291 NA                NA                NA               \n",
       "25 1000318 NA                NA                NA               \n",
       "26 1000340 0                 NA                NA               \n",
       "27 1000357 1                 NA                NA               \n",
       "28 1000362 NA                NA                NA               \n",
       "29 1000379 0                 NA                NA               \n",
       "30 1000408 NA                NA                NA               \n",
       "31 1000421 0                 NA                NA               \n",
       "32 1000443 NA                NA                1                \n",
       "33 1000450 NA                NA                NA               \n",
       "34 1000494 1                 NA                NA               \n",
       "35 1000516 0                 NA                NA               \n",
       "36 1000527 0                 NA                NA               \n",
       "37 1000530 0                 NA                NA               \n",
       "38 1000549 0                 NA                NA               \n",
       "39 1000573 NA                NA                NA               \n",
       "40 1000584 0                 NA                NA               \n",
       "   f.4803.3.0_recode visit removed\n",
       "1  NA                      FALSE  \n",
       "2  NA                      FALSE  \n",
       "3  NA                      FALSE  \n",
       "4  NA                0     FALSE  \n",
       "5  NA                      FALSE  \n",
       "6  NA                0     FALSE  \n",
       "7  NA                00    FALSE  \n",
       "8  NA                1     FALSE  \n",
       "9  NA                0     FALSE  \n",
       "10 NA                      FALSE  \n",
       "11 NA                      FALSE  \n",
       "12 NA                0     FALSE  \n",
       "13 NA                      FALSE  \n",
       "14 NA                      FALSE  \n",
       "15 NA                      FALSE  \n",
       "16 NA                      FALSE  \n",
       "17 NA                      FALSE  \n",
       "18 NA                      FALSE  \n",
       "19 NA                      FALSE  \n",
       "20 NA                00    FALSE  \n",
       "21 NA                0     FALSE  \n",
       "22 NA                0     FALSE  \n",
       "23 NA                      FALSE  \n",
       "24 NA                      FALSE  \n",
       "25 NA                      FALSE  \n",
       "26 NA                0     FALSE  \n",
       "27 NA                1     FALSE  \n",
       "28 NA                      FALSE  \n",
       "29 NA                0     FALSE  \n",
       "30 NA                      FALSE  \n",
       "31 NA                0     FALSE  \n",
       "32 NA                1     FALSE  \n",
       "33 NA                      FALSE  \n",
       "34 NA                1     FALSE  \n",
       "35 NA                0     FALSE  \n",
       "36 NA                0     FALSE  \n",
       "37 NA                0     FALSE  \n",
       "38 NA                0     FALSE  \n",
       "39 NA                      FALSE  \n",
       "40 NA                0     FALSE  "
      ]
     },
     "metadata": {},
     "output_type": "display_data"
    }
   ],
   "source": [
    "# define cases and control for specific analysis:\n",
    "all_answers<-c(\"0\",\"1\",\"2\",\"3\",\"4\",\"9\")\n",
    "control<-c('0')\n",
    "cases<-c(\"1\",\"2\",\"3\",\"4\")\n",
    "\n",
    "f3<-function(x){\n",
    "  get_rid_of<-setdiff(all_answers,union(cases,control))\n",
    "\n",
    "  for (i in get_rid_of){\n",
    "  if (grepl(i,x[which(colnames(data_sub)==\"visit\")])){\n",
    "    removed=TRUE\n",
    "    break\n",
    "  }\n",
    "  else{removed=FALSE}\n",
    "  }\n",
    "  return (removed)\n",
    "}\n",
    "data_p1<-data_sub\n",
    "data_p1$removed<-apply(data_p1, 1, f3)\n",
    "\n",
    "# filter \n",
    "data_p1<-data_p1 %>%\n",
    "  filter(removed==FALSE)\n",
    "head(data_p1,40)"
   ]
  },
  {
   "cell_type": "code",
   "execution_count": 30,
   "metadata": {
    "kernel": "R"
   },
   "outputs": [
    {
     "data": {
      "text/plain": [
       "\n",
       "            0     00    000   0000   0001    001   0010   0011     01    010 \n",
       "207944  87438  10425   1475     73      4    122      3      3   1717     78 \n",
       "  0100    011   0111      1     10    100   1000    101   1010   1011     11 \n",
       "     3    131      6  36961   1014     97      6     42      2      2   3717 \n",
       "   110   1100   1101    111   1110   1111 \n",
       "    59      3      5    430      4     19 "
      ]
     },
     "metadata": {},
     "output_type": "display_data"
    }
   ],
   "source": [
    "# change all \"1\", \"2\" \"3\" and \"4\" into \"1\"\n",
    "data_p1$visit<-gsub(\"1|2|3|4\",\"1\",data_p1$visit) \n",
    "table(data_p1$visit)"
   ]
  },
  {
   "cell_type": "code",
   "execution_count": 79,
   "metadata": {
    "kernel": "R"
   },
   "outputs": [
    {
     "data": {
      "text/html": [
       "<style>\n",
       ".list-inline {list-style: none; margin:0; padding: 0}\n",
       ".list-inline>li {display: inline-block}\n",
       ".list-inline>li:not(:last-child)::after {content: \"\\00b7\"; padding: 0 .5ex}\n",
       "</style>\n",
       "<ol class=list-inline><li>''</li><li>'0'</li><li>'00'</li><li>'000'</li><li>'0000'</li><li>'0001'</li><li>'001'</li><li>'0010'</li><li>'0011'</li><li>'01'</li><li>'010'</li><li>'0100'</li><li>'011'</li><li>'0111'</li><li>'1'</li><li>'10'</li><li>'100'</li><li>'1000'</li><li>'101'</li><li>'1010'</li><li>'1011'</li><li>'11'</li><li>'110'</li><li>'1100'</li><li>'1101'</li><li>'111'</li><li>'1110'</li><li>'1111'</li></ol>\n"
      ],
      "text/latex": [
       "\\begin{enumerate*}\n",
       "\\item ''\n",
       "\\item '0'\n",
       "\\item '00'\n",
       "\\item '000'\n",
       "\\item '0000'\n",
       "\\item '0001'\n",
       "\\item '001'\n",
       "\\item '0010'\n",
       "\\item '0011'\n",
       "\\item '01'\n",
       "\\item '010'\n",
       "\\item '0100'\n",
       "\\item '011'\n",
       "\\item '0111'\n",
       "\\item '1'\n",
       "\\item '10'\n",
       "\\item '100'\n",
       "\\item '1000'\n",
       "\\item '101'\n",
       "\\item '1010'\n",
       "\\item '1011'\n",
       "\\item '11'\n",
       "\\item '110'\n",
       "\\item '1100'\n",
       "\\item '1101'\n",
       "\\item '111'\n",
       "\\item '1110'\n",
       "\\item '1111'\n",
       "\\end{enumerate*}\n"
      ],
      "text/markdown": [
       "1. ''\n",
       "2. '0'\n",
       "3. '00'\n",
       "4. '000'\n",
       "5. '0000'\n",
       "6. '0001'\n",
       "7. '001'\n",
       "8. '0010'\n",
       "9. '0011'\n",
       "10. '01'\n",
       "11. '010'\n",
       "12. '0100'\n",
       "13. '011'\n",
       "14. '0111'\n",
       "15. '1'\n",
       "16. '10'\n",
       "17. '100'\n",
       "18. '1000'\n",
       "19. '101'\n",
       "20. '1010'\n",
       "21. '1011'\n",
       "22. '11'\n",
       "23. '110'\n",
       "24. '1100'\n",
       "25. '1101'\n",
       "26. '111'\n",
       "27. '1110'\n",
       "28. '1111'\n",
       "\n",
       "\n"
      ],
      "text/plain": [
       " [1] \"\"     \"0\"    \"00\"   \"000\"  \"0000\" \"0001\" \"001\"  \"0010\" \"0011\" \"01\"  \n",
       "[11] \"010\"  \"0100\" \"011\"  \"0111\" \"1\"    \"10\"   \"100\"  \"1000\" \"101\"  \"1010\"\n",
       "[21] \"1011\" \"11\"   \"110\"  \"1100\" \"1101\" \"111\"  \"1110\" \"1111\""
      ]
     },
     "metadata": {},
     "output_type": "display_data"
    }
   ],
   "source": [
    "names(table(data_p1$visit))"
   ]
  },
  {
   "cell_type": "code",
   "execution_count": 31,
   "metadata": {
    "kernel": "R"
   },
   "outputs": [
    {
     "data": {
      "text/html": [
       "<style>\n",
       ".list-inline {list-style: none; margin:0; padding: 0}\n",
       ".list-inline>li {display: inline-block}\n",
       ".list-inline>li:not(:last-child)::after {content: \"\\00b7\"; padding: 0 .5ex}\n",
       "</style>\n",
       "<ol class=list-inline><li>142521</li><li>1079</li></ol>\n"
      ],
      "text/latex": [
       "\\begin{enumerate*}\n",
       "\\item 142521\n",
       "\\item 1079\n",
       "\\end{enumerate*}\n"
      ],
      "text/markdown": [
       "1. 142521\n",
       "2. 1079\n",
       "\n",
       "\n"
      ],
      "text/plain": [
       "[1] 142521   1079"
      ]
     },
     "metadata": {},
     "output_type": "display_data"
    }
   ],
   "source": [
    "# get the dataset for plan 1:\n",
    "IID_plan1<-data_p1$IID\n",
    "data_p1<-data_cleaned[which(data_cleaned$IID%in%IID_plan1),]\n",
    "dim(data_p1)"
   ]
  },
  {
   "cell_type": "code",
   "execution_count": 32,
   "metadata": {
    "kernel": "R",
    "scrolled": true
   },
   "outputs": [
    {
     "data": {
      "text/html": [
       "<table>\n",
       "<caption>A data.frame: 40 × 4</caption>\n",
       "<thead>\n",
       "\t<tr><th></th><th scope=col>f.4803.0.0</th><th scope=col>f.4803.1.0</th><th scope=col>f.4803.2.0</th><th scope=col>f.4803.3.0</th></tr>\n",
       "\t<tr><th></th><th scope=col>&lt;fct&gt;</th><th scope=col>&lt;fct&gt;</th><th scope=col>&lt;fct&gt;</th><th scope=col>&lt;fct&gt;</th></tr>\n",
       "</thead>\n",
       "<tbody>\n",
       "\t<tr><th scope=row>1</th><td>NA                                    </td><td>NA       </td><td>No, never                             </td><td>NA</td></tr>\n",
       "\t<tr><th scope=row>2</th><td>No, never                             </td><td>NA       </td><td>NA                                    </td><td>NA</td></tr>\n",
       "\t<tr><th scope=row>3</th><td>NA                                    </td><td>No, never</td><td>No, never                             </td><td>NA</td></tr>\n",
       "\t<tr><th scope=row>4</th><td>Yes, but not now, but have in the past</td><td>NA       </td><td>NA                                    </td><td>NA</td></tr>\n",
       "\t<tr><th scope=row>5</th><td>NA                                    </td><td>NA       </td><td>No, never                             </td><td>NA</td></tr>\n",
       "\t<tr><th scope=row>6</th><td>No, never                             </td><td>NA       </td><td>NA                                    </td><td>NA</td></tr>\n",
       "\t<tr><th scope=row>7</th><td>No, never                             </td><td>NA       </td><td>No, never                             </td><td>NA</td></tr>\n",
       "\t<tr><th scope=row>8</th><td>No, never                             </td><td>NA       </td><td>NA                                    </td><td>NA</td></tr>\n",
       "\t<tr><th scope=row>9</th><td>NA                                    </td><td>NA       </td><td>No, never                             </td><td>NA</td></tr>\n",
       "\t<tr><th scope=row>10</th><td>No, never                             </td><td>NA       </td><td>NA                                    </td><td>NA</td></tr>\n",
       "\t<tr><th scope=row>11</th><td>Yes, but not now, but have in the past</td><td>NA       </td><td>NA                                    </td><td>NA</td></tr>\n",
       "\t<tr><th scope=row>12</th><td>No, never                             </td><td>NA       </td><td>NA                                    </td><td>NA</td></tr>\n",
       "\t<tr><th scope=row>13</th><td>No, never                             </td><td>NA       </td><td>NA                                    </td><td>NA</td></tr>\n",
       "\t<tr><th scope=row>14</th><td>NA                                    </td><td>NA       </td><td>Yes, but not now, but have in the past</td><td>NA</td></tr>\n",
       "\t<tr><th scope=row>15</th><td>Yes, but not now, but have in the past</td><td>NA       </td><td>NA                                    </td><td>NA</td></tr>\n",
       "\t<tr><th scope=row>16</th><td>No, never                             </td><td>NA       </td><td>NA                                    </td><td>NA</td></tr>\n",
       "\t<tr><th scope=row>17</th><td>No, never                             </td><td>NA       </td><td>NA                                    </td><td>NA</td></tr>\n",
       "\t<tr><th scope=row>18</th><td>No, never                             </td><td>NA       </td><td>NA                                    </td><td>NA</td></tr>\n",
       "\t<tr><th scope=row>19</th><td>No, never                             </td><td>NA       </td><td>NA                                    </td><td>NA</td></tr>\n",
       "\t<tr><th scope=row>20</th><td>No, never                             </td><td>NA       </td><td>NA                                    </td><td>NA</td></tr>\n",
       "\t<tr><th scope=row>21</th><td>NA                                    </td><td>No, never</td><td>NA                                    </td><td>NA</td></tr>\n",
       "\t<tr><th scope=row>22</th><td>No, never                             </td><td>NA       </td><td>NA                                    </td><td>NA</td></tr>\n",
       "\t<tr><th scope=row>23</th><td>Yes, but not now, but have in the past</td><td>NA       </td><td>NA                                    </td><td>NA</td></tr>\n",
       "\t<tr><th scope=row>24</th><td>No, never                             </td><td>NA       </td><td>NA                                    </td><td>NA</td></tr>\n",
       "\t<tr><th scope=row>25</th><td>No, never                             </td><td>No, never</td><td>NA                                    </td><td>NA</td></tr>\n",
       "\t<tr><th scope=row>26</th><td>Yes, now a lot of the time            </td><td>NA       </td><td>Yes, but not now, but have in the past</td><td>NA</td></tr>\n",
       "\t<tr><th scope=row>27</th><td>Yes, now most or all of the time      </td><td>NA       </td><td>NA                                    </td><td>NA</td></tr>\n",
       "\t<tr><th scope=row>28</th><td>No, never                             </td><td>NA       </td><td>NA                                    </td><td>NA</td></tr>\n",
       "\t<tr><th scope=row>29</th><td>Yes, but not now, but have in the past</td><td>NA       </td><td>NA                                    </td><td>NA</td></tr>\n",
       "\t<tr><th scope=row>30</th><td>No, never                             </td><td>NA       </td><td>NA                                    </td><td>NA</td></tr>\n",
       "\t<tr><th scope=row>31</th><td>Yes, but not now, but have in the past</td><td>NA       </td><td>NA                                    </td><td>NA</td></tr>\n",
       "\t<tr><th scope=row>32</th><td>No, never                             </td><td>NA       </td><td>NA                                    </td><td>NA</td></tr>\n",
       "\t<tr><th scope=row>33</th><td>No, never                             </td><td>NA       </td><td>NA                                    </td><td>NA</td></tr>\n",
       "\t<tr><th scope=row>34</th><td>No, never                             </td><td>NA       </td><td>NA                                    </td><td>NA</td></tr>\n",
       "\t<tr><th scope=row>35</th><td>NA                                    </td><td>NA       </td><td>No, never                             </td><td>NA</td></tr>\n",
       "\t<tr><th scope=row>36</th><td>NA                                    </td><td>NA       </td><td>Yes, but not now, but have in the past</td><td>NA</td></tr>\n",
       "\t<tr><th scope=row>37</th><td>NA                                    </td><td>No, never</td><td>NA                                    </td><td>NA</td></tr>\n",
       "\t<tr><th scope=row>38</th><td>Yes, now some of the time             </td><td>NA       </td><td>NA                                    </td><td>NA</td></tr>\n",
       "\t<tr><th scope=row>39</th><td>Yes, now some of the time             </td><td>NA       </td><td>NA                                    </td><td>NA</td></tr>\n",
       "\t<tr><th scope=row>40</th><td>Yes, now some of the time             </td><td>NA       </td><td>NA                                    </td><td>NA</td></tr>\n",
       "</tbody>\n",
       "</table>\n"
      ],
      "text/latex": [
       "A data.frame: 40 × 4\n",
       "\\begin{tabular}{r|llll}\n",
       "  & f.4803.0.0 & f.4803.1.0 & f.4803.2.0 & f.4803.3.0\\\\\n",
       "  & <fct> & <fct> & <fct> & <fct>\\\\\n",
       "\\hline\n",
       "\t1 & NA                                     & NA        & No, never                              & NA\\\\\n",
       "\t2 & No, never                              & NA        & NA                                     & NA\\\\\n",
       "\t3 & NA                                     & No, never & No, never                              & NA\\\\\n",
       "\t4 & Yes, but not now, but have in the past & NA        & NA                                     & NA\\\\\n",
       "\t5 & NA                                     & NA        & No, never                              & NA\\\\\n",
       "\t6 & No, never                              & NA        & NA                                     & NA\\\\\n",
       "\t7 & No, never                              & NA        & No, never                              & NA\\\\\n",
       "\t8 & No, never                              & NA        & NA                                     & NA\\\\\n",
       "\t9 & NA                                     & NA        & No, never                              & NA\\\\\n",
       "\t10 & No, never                              & NA        & NA                                     & NA\\\\\n",
       "\t11 & Yes, but not now, but have in the past & NA        & NA                                     & NA\\\\\n",
       "\t12 & No, never                              & NA        & NA                                     & NA\\\\\n",
       "\t13 & No, never                              & NA        & NA                                     & NA\\\\\n",
       "\t14 & NA                                     & NA        & Yes, but not now, but have in the past & NA\\\\\n",
       "\t15 & Yes, but not now, but have in the past & NA        & NA                                     & NA\\\\\n",
       "\t16 & No, never                              & NA        & NA                                     & NA\\\\\n",
       "\t17 & No, never                              & NA        & NA                                     & NA\\\\\n",
       "\t18 & No, never                              & NA        & NA                                     & NA\\\\\n",
       "\t19 & No, never                              & NA        & NA                                     & NA\\\\\n",
       "\t20 & No, never                              & NA        & NA                                     & NA\\\\\n",
       "\t21 & NA                                     & No, never & NA                                     & NA\\\\\n",
       "\t22 & No, never                              & NA        & NA                                     & NA\\\\\n",
       "\t23 & Yes, but not now, but have in the past & NA        & NA                                     & NA\\\\\n",
       "\t24 & No, never                              & NA        & NA                                     & NA\\\\\n",
       "\t25 & No, never                              & No, never & NA                                     & NA\\\\\n",
       "\t26 & Yes, now a lot of the time             & NA        & Yes, but not now, but have in the past & NA\\\\\n",
       "\t27 & Yes, now most or all of the time       & NA        & NA                                     & NA\\\\\n",
       "\t28 & No, never                              & NA        & NA                                     & NA\\\\\n",
       "\t29 & Yes, but not now, but have in the past & NA        & NA                                     & NA\\\\\n",
       "\t30 & No, never                              & NA        & NA                                     & NA\\\\\n",
       "\t31 & Yes, but not now, but have in the past & NA        & NA                                     & NA\\\\\n",
       "\t32 & No, never                              & NA        & NA                                     & NA\\\\\n",
       "\t33 & No, never                              & NA        & NA                                     & NA\\\\\n",
       "\t34 & No, never                              & NA        & NA                                     & NA\\\\\n",
       "\t35 & NA                                     & NA        & No, never                              & NA\\\\\n",
       "\t36 & NA                                     & NA        & Yes, but not now, but have in the past & NA\\\\\n",
       "\t37 & NA                                     & No, never & NA                                     & NA\\\\\n",
       "\t38 & Yes, now some of the time              & NA        & NA                                     & NA\\\\\n",
       "\t39 & Yes, now some of the time              & NA        & NA                                     & NA\\\\\n",
       "\t40 & Yes, now some of the time              & NA        & NA                                     & NA\\\\\n",
       "\\end{tabular}\n"
      ],
      "text/markdown": [
       "\n",
       "A data.frame: 40 × 4\n",
       "\n",
       "| <!--/--> | f.4803.0.0 &lt;fct&gt; | f.4803.1.0 &lt;fct&gt; | f.4803.2.0 &lt;fct&gt; | f.4803.3.0 &lt;fct&gt; |\n",
       "|---|---|---|---|---|\n",
       "| 1 | NA                                     | NA        | No, never                              | NA |\n",
       "| 2 | No, never                              | NA        | NA                                     | NA |\n",
       "| 3 | NA                                     | No, never | No, never                              | NA |\n",
       "| 4 | Yes, but not now, but have in the past | NA        | NA                                     | NA |\n",
       "| 5 | NA                                     | NA        | No, never                              | NA |\n",
       "| 6 | No, never                              | NA        | NA                                     | NA |\n",
       "| 7 | No, never                              | NA        | No, never                              | NA |\n",
       "| 8 | No, never                              | NA        | NA                                     | NA |\n",
       "| 9 | NA                                     | NA        | No, never                              | NA |\n",
       "| 10 | No, never                              | NA        | NA                                     | NA |\n",
       "| 11 | Yes, but not now, but have in the past | NA        | NA                                     | NA |\n",
       "| 12 | No, never                              | NA        | NA                                     | NA |\n",
       "| 13 | No, never                              | NA        | NA                                     | NA |\n",
       "| 14 | NA                                     | NA        | Yes, but not now, but have in the past | NA |\n",
       "| 15 | Yes, but not now, but have in the past | NA        | NA                                     | NA |\n",
       "| 16 | No, never                              | NA        | NA                                     | NA |\n",
       "| 17 | No, never                              | NA        | NA                                     | NA |\n",
       "| 18 | No, never                              | NA        | NA                                     | NA |\n",
       "| 19 | No, never                              | NA        | NA                                     | NA |\n",
       "| 20 | No, never                              | NA        | NA                                     | NA |\n",
       "| 21 | NA                                     | No, never | NA                                     | NA |\n",
       "| 22 | No, never                              | NA        | NA                                     | NA |\n",
       "| 23 | Yes, but not now, but have in the past | NA        | NA                                     | NA |\n",
       "| 24 | No, never                              | NA        | NA                                     | NA |\n",
       "| 25 | No, never                              | No, never | NA                                     | NA |\n",
       "| 26 | Yes, now a lot of the time             | NA        | Yes, but not now, but have in the past | NA |\n",
       "| 27 | Yes, now most or all of the time       | NA        | NA                                     | NA |\n",
       "| 28 | No, never                              | NA        | NA                                     | NA |\n",
       "| 29 | Yes, but not now, but have in the past | NA        | NA                                     | NA |\n",
       "| 30 | No, never                              | NA        | NA                                     | NA |\n",
       "| 31 | Yes, but not now, but have in the past | NA        | NA                                     | NA |\n",
       "| 32 | No, never                              | NA        | NA                                     | NA |\n",
       "| 33 | No, never                              | NA        | NA                                     | NA |\n",
       "| 34 | No, never                              | NA        | NA                                     | NA |\n",
       "| 35 | NA                                     | NA        | No, never                              | NA |\n",
       "| 36 | NA                                     | NA        | Yes, but not now, but have in the past | NA |\n",
       "| 37 | NA                                     | No, never | NA                                     | NA |\n",
       "| 38 | Yes, now some of the time              | NA        | NA                                     | NA |\n",
       "| 39 | Yes, now some of the time              | NA        | NA                                     | NA |\n",
       "| 40 | Yes, now some of the time              | NA        | NA                                     | NA |\n",
       "\n"
      ],
      "text/plain": [
       "   f.4803.0.0                             f.4803.1.0\n",
       "1  NA                                     NA        \n",
       "2  No, never                              NA        \n",
       "3  NA                                     No, never \n",
       "4  Yes, but not now, but have in the past NA        \n",
       "5  NA                                     NA        \n",
       "6  No, never                              NA        \n",
       "7  No, never                              NA        \n",
       "8  No, never                              NA        \n",
       "9  NA                                     NA        \n",
       "10 No, never                              NA        \n",
       "11 Yes, but not now, but have in the past NA        \n",
       "12 No, never                              NA        \n",
       "13 No, never                              NA        \n",
       "14 NA                                     NA        \n",
       "15 Yes, but not now, but have in the past NA        \n",
       "16 No, never                              NA        \n",
       "17 No, never                              NA        \n",
       "18 No, never                              NA        \n",
       "19 No, never                              NA        \n",
       "20 No, never                              NA        \n",
       "21 NA                                     No, never \n",
       "22 No, never                              NA        \n",
       "23 Yes, but not now, but have in the past NA        \n",
       "24 No, never                              NA        \n",
       "25 No, never                              No, never \n",
       "26 Yes, now a lot of the time             NA        \n",
       "27 Yes, now most or all of the time       NA        \n",
       "28 No, never                              NA        \n",
       "29 Yes, but not now, but have in the past NA        \n",
       "30 No, never                              NA        \n",
       "31 Yes, but not now, but have in the past NA        \n",
       "32 No, never                              NA        \n",
       "33 No, never                              NA        \n",
       "34 No, never                              NA        \n",
       "35 NA                                     NA        \n",
       "36 NA                                     NA        \n",
       "37 NA                                     No, never \n",
       "38 Yes, now some of the time              NA        \n",
       "39 Yes, now some of the time              NA        \n",
       "40 Yes, now some of the time              NA        \n",
       "   f.4803.2.0                             f.4803.3.0\n",
       "1  No, never                              NA        \n",
       "2  NA                                     NA        \n",
       "3  No, never                              NA        \n",
       "4  NA                                     NA        \n",
       "5  No, never                              NA        \n",
       "6  NA                                     NA        \n",
       "7  No, never                              NA        \n",
       "8  NA                                     NA        \n",
       "9  No, never                              NA        \n",
       "10 NA                                     NA        \n",
       "11 NA                                     NA        \n",
       "12 NA                                     NA        \n",
       "13 NA                                     NA        \n",
       "14 Yes, but not now, but have in the past NA        \n",
       "15 NA                                     NA        \n",
       "16 NA                                     NA        \n",
       "17 NA                                     NA        \n",
       "18 NA                                     NA        \n",
       "19 NA                                     NA        \n",
       "20 NA                                     NA        \n",
       "21 NA                                     NA        \n",
       "22 NA                                     NA        \n",
       "23 NA                                     NA        \n",
       "24 NA                                     NA        \n",
       "25 NA                                     NA        \n",
       "26 Yes, but not now, but have in the past NA        \n",
       "27 NA                                     NA        \n",
       "28 NA                                     NA        \n",
       "29 NA                                     NA        \n",
       "30 NA                                     NA        \n",
       "31 NA                                     NA        \n",
       "32 NA                                     NA        \n",
       "33 NA                                     NA        \n",
       "34 NA                                     NA        \n",
       "35 No, never                              NA        \n",
       "36 Yes, but not now, but have in the past NA        \n",
       "37 NA                                     NA        \n",
       "38 NA                                     NA        \n",
       "39 NA                                     NA        \n",
       "40 NA                                     NA        "
      ]
     },
     "metadata": {},
     "output_type": "display_data"
    }
   ],
   "source": [
    "head(data_p1[,column_name],40)"
   ]
  },
  {
   "cell_type": "code",
   "execution_count": null,
   "metadata": {
    "kernel": "SoS"
   },
   "outputs": [],
   "source": [
    "write.csv(data_p1, 'UKBB_HI_genotypeqc_data_plan1.csv', row.names = FALSE)"
   ]
  },
  {
   "cell_type": "code",
   "execution_count": 46,
   "metadata": {
    "kernel": "R"
   },
   "outputs": [
    {
     "name": "stdout",
     "output_type": "stream",
     "text": [
      "f.4803.0.0_recode summary:\n",
      "    9     0     1 \n",
      "    0 80805 31685 \n",
      "\n",
      "f.4803.1.0_recode summary:\n",
      "    9     0     1 \n",
      "    0 10282  4197 \n",
      "\n",
      "f.4803.2.0_recode summary:\n",
      "    9     0     1 \n",
      "    0 22583 11324 \n",
      "\n",
      "f.4803.3.0_recode summary:\n",
      "   9    0    1 \n",
      "   0 1451  684 \n",
      "\n"
     ]
    }
   ],
   "source": [
    "for (i in new_column_names)\n",
    "{cat(i,\"summary:\");print(table(data_p1[,i]));cat(\"\\n\")}"
   ]
  },
  {
   "cell_type": "markdown",
   "metadata": {
    "kernel": "R"
   },
   "source": [
    "## Define cases and controls: analysis plan 1"
   ]
  },
  {
   "cell_type": "markdown",
   "metadata": {
    "kernel": "R"
   },
   "source": [
    "Define cases with tinnitus where all yes categories are considered cases"
   ]
  },
  {
   "cell_type": "code",
   "execution_count": 43,
   "metadata": {
    "kernel": "R"
   },
   "outputs": [],
   "source": [
    "data_p1$cases <- with(data_p1, ifelse(f.4803.0.0_recode == '0' & (f.4803.1.0_recode == \"1\" | f.4803.2.0_recode == \"1\" | f.4803.3.0_recode == \"1\")   \n",
    "                                      | (f.4803.0.0_recode %in% c(\"1\",NA) & (f.4803.1.0_recode %in% c(\"1\",NA) | f.4803.2.0_recode %in% c(\"1\",NA) | f.4803.3.0_recode %in% c(\"1\",NA)))\n",
    "                                      & !(f.4803.0.0_recode %in% c(\"0\",NA) & f.4803.1.0_recode %in% c(\"0\",NA) & f.4803.2.0_recode %in% c(\"0\",NA) & f.4803.3.0_recode %in% c(\"0\",NA))\n",
    "                                      ,\"1\", NA))"
   ]
  },
  {
   "cell_type": "markdown",
   "metadata": {
    "kernel": "R"
   },
   "source": [
    "#### Number of tinnitus cases"
   ]
  },
  {
   "cell_type": "code",
   "execution_count": 44,
   "metadata": {
    "kernel": "R"
   },
   "outputs": [
    {
     "data": {
      "text/plain": [
       "\n",
       "    1 \n",
       "43110 "
      ]
     },
     "metadata": {},
     "output_type": "display_data"
    }
   ],
   "source": [
    "table(data_p1$cases)"
   ]
  },
  {
   "cell_type": "code",
   "execution_count": 45,
   "metadata": {
    "kernel": "R",
    "scrolled": true
   },
   "outputs": [
    {
     "data": {
      "text/html": [
       "<table>\n",
       "<caption>A data.frame: 142521 × 10</caption>\n",
       "<thead>\n",
       "\t<tr><th></th><th scope=col>IID</th><th scope=col>f.4803.0.0</th><th scope=col>f.4803.1.0</th><th scope=col>f.4803.2.0</th><th scope=col>f.4803.3.0</th><th scope=col>f.4803.0.0_recode</th><th scope=col>f.4803.1.0_recode</th><th scope=col>f.4803.2.0_recode</th><th scope=col>f.4803.3.0_recode</th><th scope=col>cases</th></tr>\n",
       "\t<tr><th></th><th scope=col>&lt;int&gt;</th><th scope=col>&lt;fct&gt;</th><th scope=col>&lt;fct&gt;</th><th scope=col>&lt;fct&gt;</th><th scope=col>&lt;fct&gt;</th><th scope=col>&lt;fct&gt;</th><th scope=col>&lt;fct&gt;</th><th scope=col>&lt;fct&gt;</th><th scope=col>&lt;fct&gt;</th><th scope=col>&lt;chr&gt;</th></tr>\n",
       "</thead>\n",
       "<tbody>\n",
       "\t<tr><th scope=row>1</th><td>1000046</td><td>NA                                    </td><td>NA       </td><td>No, never                             </td><td>NA</td><td>NA</td><td>NA</td><td>0 </td><td>NA</td><td>NA</td></tr>\n",
       "\t<tr><th scope=row>2</th><td>1000063</td><td>No, never                             </td><td>NA       </td><td>NA                                    </td><td>NA</td><td>0 </td><td>NA</td><td>NA</td><td>NA</td><td>NA</td></tr>\n",
       "\t<tr><th scope=row>3</th><td>1000078</td><td>NA                                    </td><td>No, never</td><td>No, never                             </td><td>NA</td><td>NA</td><td>0 </td><td>0 </td><td>NA</td><td>NA</td></tr>\n",
       "\t<tr><th scope=row>4</th><td>1000105</td><td>Yes, but not now, but have in the past</td><td>NA       </td><td>NA                                    </td><td>NA</td><td>1 </td><td>NA</td><td>NA</td><td>NA</td><td>1 </td></tr>\n",
       "\t<tr><th scope=row>5</th><td>1000112</td><td>NA                                    </td><td>NA       </td><td>No, never                             </td><td>NA</td><td>NA</td><td>NA</td><td>0 </td><td>NA</td><td>NA</td></tr>\n",
       "\t<tr><th scope=row>6</th><td>1000141</td><td>No, never                             </td><td>NA       </td><td>NA                                    </td><td>NA</td><td>0 </td><td>NA</td><td>NA</td><td>NA</td><td>NA</td></tr>\n",
       "\t<tr><th scope=row>7</th><td>1000236</td><td>No, never                             </td><td>NA       </td><td>No, never                             </td><td>NA</td><td>0 </td><td>NA</td><td>0 </td><td>NA</td><td>NA</td></tr>\n",
       "\t<tr><th scope=row>8</th><td>1000248</td><td>No, never                             </td><td>NA       </td><td>NA                                    </td><td>NA</td><td>0 </td><td>NA</td><td>NA</td><td>NA</td><td>NA</td></tr>\n",
       "\t<tr><th scope=row>9</th><td>1000269</td><td>NA                                    </td><td>NA       </td><td>No, never                             </td><td>NA</td><td>NA</td><td>NA</td><td>0 </td><td>NA</td><td>NA</td></tr>\n",
       "\t<tr><th scope=row>10</th><td>1000340</td><td>No, never                             </td><td>NA       </td><td>NA                                    </td><td>NA</td><td>0 </td><td>NA</td><td>NA</td><td>NA</td><td>NA</td></tr>\n",
       "\t<tr><th scope=row>11</th><td>1000357</td><td>Yes, but not now, but have in the past</td><td>NA       </td><td>NA                                    </td><td>NA</td><td>1 </td><td>NA</td><td>NA</td><td>NA</td><td>1 </td></tr>\n",
       "\t<tr><th scope=row>12</th><td>1000379</td><td>No, never                             </td><td>NA       </td><td>NA                                    </td><td>NA</td><td>0 </td><td>NA</td><td>NA</td><td>NA</td><td>NA</td></tr>\n",
       "\t<tr><th scope=row>13</th><td>1000421</td><td>No, never                             </td><td>NA       </td><td>NA                                    </td><td>NA</td><td>0 </td><td>NA</td><td>NA</td><td>NA</td><td>NA</td></tr>\n",
       "\t<tr><th scope=row>14</th><td>1000443</td><td>NA                                    </td><td>NA       </td><td>Yes, but not now, but have in the past</td><td>NA</td><td>NA</td><td>NA</td><td>1 </td><td>NA</td><td>1 </td></tr>\n",
       "\t<tr><th scope=row>15</th><td>1000494</td><td>Yes, but not now, but have in the past</td><td>NA       </td><td>NA                                    </td><td>NA</td><td>1 </td><td>NA</td><td>NA</td><td>NA</td><td>1 </td></tr>\n",
       "\t<tr><th scope=row>16</th><td>1000516</td><td>No, never                             </td><td>NA       </td><td>NA                                    </td><td>NA</td><td>0 </td><td>NA</td><td>NA</td><td>NA</td><td>NA</td></tr>\n",
       "\t<tr><th scope=row>17</th><td>1000527</td><td>No, never                             </td><td>NA       </td><td>NA                                    </td><td>NA</td><td>0 </td><td>NA</td><td>NA</td><td>NA</td><td>NA</td></tr>\n",
       "\t<tr><th scope=row>18</th><td>1000530</td><td>No, never                             </td><td>NA       </td><td>NA                                    </td><td>NA</td><td>0 </td><td>NA</td><td>NA</td><td>NA</td><td>NA</td></tr>\n",
       "\t<tr><th scope=row>19</th><td>1000549</td><td>No, never                             </td><td>NA       </td><td>NA                                    </td><td>NA</td><td>0 </td><td>NA</td><td>NA</td><td>NA</td><td>NA</td></tr>\n",
       "\t<tr><th scope=row>20</th><td>1000584</td><td>No, never                             </td><td>NA       </td><td>NA                                    </td><td>NA</td><td>0 </td><td>NA</td><td>NA</td><td>NA</td><td>NA</td></tr>\n",
       "\t<tr><th scope=row>21</th><td>1000609</td><td>NA                                    </td><td>No, never</td><td>NA                                    </td><td>NA</td><td>NA</td><td>0 </td><td>NA</td><td>NA</td><td>NA</td></tr>\n",
       "\t<tr><th scope=row>22</th><td>1000611</td><td>No, never                             </td><td>NA       </td><td>NA                                    </td><td>NA</td><td>0 </td><td>NA</td><td>NA</td><td>NA</td><td>NA</td></tr>\n",
       "\t<tr><th scope=row>23</th><td>1000625</td><td>Yes, but not now, but have in the past</td><td>NA       </td><td>NA                                    </td><td>NA</td><td>1 </td><td>NA</td><td>NA</td><td>NA</td><td>1 </td></tr>\n",
       "\t<tr><th scope=row>24</th><td>1000642</td><td>No, never                             </td><td>NA       </td><td>NA                                    </td><td>NA</td><td>0 </td><td>NA</td><td>NA</td><td>NA</td><td>NA</td></tr>\n",
       "\t<tr><th scope=row>25</th><td>1000683</td><td>No, never                             </td><td>No, never</td><td>NA                                    </td><td>NA</td><td>0 </td><td>0 </td><td>NA</td><td>NA</td><td>NA</td></tr>\n",
       "\t<tr><th scope=row>26</th><td>1000713</td><td>Yes, now a lot of the time            </td><td>NA       </td><td>Yes, but not now, but have in the past</td><td>NA</td><td>1 </td><td>NA</td><td>1 </td><td>NA</td><td>1 </td></tr>\n",
       "\t<tr><th scope=row>27</th><td>1000728</td><td>Yes, now most or all of the time      </td><td>NA       </td><td>NA                                    </td><td>NA</td><td>1 </td><td>NA</td><td>NA</td><td>NA</td><td>1 </td></tr>\n",
       "\t<tr><th scope=row>28</th><td>1000734</td><td>No, never                             </td><td>NA       </td><td>NA                                    </td><td>NA</td><td>0 </td><td>NA</td><td>NA</td><td>NA</td><td>NA</td></tr>\n",
       "\t<tr><th scope=row>29</th><td>1000745</td><td>Yes, but not now, but have in the past</td><td>NA       </td><td>NA                                    </td><td>NA</td><td>1 </td><td>NA</td><td>NA</td><td>NA</td><td>1 </td></tr>\n",
       "\t<tr><th scope=row>30</th><td>1000780</td><td>No, never                             </td><td>NA       </td><td>NA                                    </td><td>NA</td><td>0 </td><td>NA</td><td>NA</td><td>NA</td><td>NA</td></tr>\n",
       "\t<tr><th scope=row>⋮</th><td>⋮</td><td>⋮</td><td>⋮</td><td>⋮</td><td>⋮</td><td>⋮</td><td>⋮</td><td>⋮</td><td>⋮</td><td>⋮</td></tr>\n",
       "\t<tr><th scope=row>144738</th><td>6024294</td><td>No, never                             </td><td>NA                                    </td><td>NA                                    </td><td>NA                              </td><td>0 </td><td>NA</td><td>NA</td><td>NA</td><td>NA</td></tr>\n",
       "\t<tr><th scope=row>144739</th><td>6024345</td><td>NA                                    </td><td>No, never                             </td><td>NA                                    </td><td>NA                              </td><td>NA</td><td>0 </td><td>NA</td><td>NA</td><td>NA</td></tr>\n",
       "\t<tr><th scope=row>144740</th><td>6024380</td><td>No, never                             </td><td>NA                                    </td><td>NA                                    </td><td>NA                              </td><td>0 </td><td>NA</td><td>NA</td><td>NA</td><td>NA</td></tr>\n",
       "\t<tr><th scope=row>144741</th><td>6024399</td><td>Yes, now a lot of the time            </td><td>NA                                    </td><td>NA                                    </td><td>NA                              </td><td>1 </td><td>NA</td><td>NA</td><td>NA</td><td>1 </td></tr>\n",
       "\t<tr><th scope=row>144742</th><td>6024403</td><td>Yes, now some of the time             </td><td>NA                                    </td><td>NA                                    </td><td>NA                              </td><td>1 </td><td>NA</td><td>NA</td><td>NA</td><td>1 </td></tr>\n",
       "\t<tr><th scope=row>144743</th><td>6024487</td><td>Yes, now some of the time             </td><td>NA                                    </td><td>NA                                    </td><td>NA                              </td><td>1 </td><td>NA</td><td>NA</td><td>NA</td><td>1 </td></tr>\n",
       "\t<tr><th scope=row>144744</th><td>6024491</td><td>No, never                             </td><td>NA                                    </td><td>NA                                    </td><td>NA                              </td><td>0 </td><td>NA</td><td>NA</td><td>NA</td><td>NA</td></tr>\n",
       "\t<tr><th scope=row>144745</th><td>6024535</td><td>No, never                             </td><td>NA                                    </td><td>NA                                    </td><td>NA                              </td><td>0 </td><td>NA</td><td>NA</td><td>NA</td><td>NA</td></tr>\n",
       "\t<tr><th scope=row>144746</th><td>6024546</td><td>Yes, but not now, but have in the past</td><td>NA                                    </td><td>NA                                    </td><td>NA                              </td><td>1 </td><td>NA</td><td>NA</td><td>NA</td><td>1 </td></tr>\n",
       "\t<tr><th scope=row>144747</th><td>6024581</td><td>Yes, but not now, but have in the past</td><td>NA                                    </td><td>Yes, now some of the time             </td><td>Yes, now most or all of the time</td><td>1 </td><td>NA</td><td>1 </td><td>1 </td><td>1 </td></tr>\n",
       "\t<tr><th scope=row>144748</th><td>6024614</td><td>No, never                             </td><td>NA                                    </td><td>NA                                    </td><td>NA                              </td><td>0 </td><td>NA</td><td>NA</td><td>NA</td><td>NA</td></tr>\n",
       "\t<tr><th scope=row>144749</th><td>6024620</td><td>Yes, now most or all of the time      </td><td>NA                                    </td><td>Yes, now most or all of the time      </td><td>NA                              </td><td>1 </td><td>NA</td><td>1 </td><td>NA</td><td>1 </td></tr>\n",
       "\t<tr><th scope=row>144750</th><td>6024671</td><td>NA                                    </td><td>NA                                    </td><td>Yes, but not now, but have in the past</td><td>NA                              </td><td>NA</td><td>NA</td><td>1 </td><td>NA</td><td>1 </td></tr>\n",
       "\t<tr><th scope=row>144751</th><td>6024785</td><td>NA                                    </td><td>NA                                    </td><td>No, never                             </td><td>NA                              </td><td>NA</td><td>NA</td><td>0 </td><td>NA</td><td>NA</td></tr>\n",
       "\t<tr><th scope=row>144752</th><td>6024812</td><td>Yes, now most or all of the time      </td><td>NA                                    </td><td>NA                                    </td><td>NA                              </td><td>1 </td><td>NA</td><td>NA</td><td>NA</td><td>1 </td></tr>\n",
       "\t<tr><th scope=row>144753</th><td>6024870</td><td>No, never                             </td><td>NA                                    </td><td>NA                                    </td><td>NA                              </td><td>0 </td><td>NA</td><td>NA</td><td>NA</td><td>NA</td></tr>\n",
       "\t<tr><th scope=row>144754</th><td>6024911</td><td>NA                                    </td><td>Yes, but not now, but have in the past</td><td>NA                                    </td><td>NA                              </td><td>NA</td><td>1 </td><td>NA</td><td>NA</td><td>1 </td></tr>\n",
       "\t<tr><th scope=row>144755</th><td>6025004</td><td>NA                                    </td><td>No, never                             </td><td>NA                                    </td><td>NA                              </td><td>NA</td><td>0 </td><td>NA</td><td>NA</td><td>NA</td></tr>\n",
       "\t<tr><th scope=row>144756</th><td>6025040</td><td>No, never                             </td><td>NA                                    </td><td>No, never                             </td><td>NA                              </td><td>0 </td><td>NA</td><td>0 </td><td>NA</td><td>NA</td></tr>\n",
       "\t<tr><th scope=row>144757</th><td>6025085</td><td>No, never                             </td><td>NA                                    </td><td>NA                                    </td><td>NA                              </td><td>0 </td><td>NA</td><td>NA</td><td>NA</td><td>NA</td></tr>\n",
       "\t<tr><th scope=row>144758</th><td>6025145</td><td>No, never                             </td><td>NA                                    </td><td>NA                                    </td><td>NA                              </td><td>0 </td><td>NA</td><td>NA</td><td>NA</td><td>NA</td></tr>\n",
       "\t<tr><th scope=row>144759</th><td>6025152</td><td>No, never                             </td><td>NA                                    </td><td>NA                                    </td><td>NA                              </td><td>0 </td><td>NA</td><td>NA</td><td>NA</td><td>NA</td></tr>\n",
       "\t<tr><th scope=row>144760</th><td>6025199</td><td>No, never                             </td><td>NA                                    </td><td>NA                                    </td><td>NA                              </td><td>0 </td><td>NA</td><td>NA</td><td>NA</td><td>NA</td></tr>\n",
       "\t<tr><th scope=row>144761</th><td>6025227</td><td>NA                                    </td><td>NA                                    </td><td>No, never                             </td><td>NA                              </td><td>NA</td><td>NA</td><td>0 </td><td>NA</td><td>NA</td></tr>\n",
       "\t<tr><th scope=row>144762</th><td>6025230</td><td>No, never                             </td><td>NA                                    </td><td>NA                                    </td><td>NA                              </td><td>0 </td><td>NA</td><td>NA</td><td>NA</td><td>NA</td></tr>\n",
       "\t<tr><th scope=row>144763</th><td>6025284</td><td>No, never                             </td><td>NA                                    </td><td>NA                                    </td><td>NA                              </td><td>0 </td><td>NA</td><td>NA</td><td>NA</td><td>NA</td></tr>\n",
       "\t<tr><th scope=row>144764</th><td>6025307</td><td>Yes, now most or all of the time      </td><td>NA                                    </td><td>NA                                    </td><td>NA                              </td><td>1 </td><td>NA</td><td>NA</td><td>NA</td><td>1 </td></tr>\n",
       "\t<tr><th scope=row>144765</th><td>6025319</td><td>No, never                             </td><td>NA                                    </td><td>NA                                    </td><td>NA                              </td><td>0 </td><td>NA</td><td>NA</td><td>NA</td><td>NA</td></tr>\n",
       "\t<tr><th scope=row>144766</th><td>6025354</td><td>No, never                             </td><td>NA                                    </td><td>NA                                    </td><td>NA                              </td><td>0 </td><td>NA</td><td>NA</td><td>NA</td><td>NA</td></tr>\n",
       "\t<tr><th scope=row>144767</th><td>6025411</td><td>No, never                             </td><td>NA                                    </td><td>NA                                    </td><td>NA                              </td><td>0 </td><td>NA</td><td>NA</td><td>NA</td><td>NA</td></tr>\n",
       "</tbody>\n",
       "</table>\n"
      ],
      "text/latex": [
       "A data.frame: 142521 × 10\n",
       "\\begin{tabular}{r|llllllllll}\n",
       "  & IID & f.4803.0.0 & f.4803.1.0 & f.4803.2.0 & f.4803.3.0 & f.4803.0.0\\_recode & f.4803.1.0\\_recode & f.4803.2.0\\_recode & f.4803.3.0\\_recode & cases\\\\\n",
       "  & <int> & <fct> & <fct> & <fct> & <fct> & <fct> & <fct> & <fct> & <fct> & <chr>\\\\\n",
       "\\hline\n",
       "\t1 & 1000046 & NA                                     & NA        & No, never                              & NA & NA & NA & 0  & NA & NA\\\\\n",
       "\t2 & 1000063 & No, never                              & NA        & NA                                     & NA & 0  & NA & NA & NA & NA\\\\\n",
       "\t3 & 1000078 & NA                                     & No, never & No, never                              & NA & NA & 0  & 0  & NA & NA\\\\\n",
       "\t4 & 1000105 & Yes, but not now, but have in the past & NA        & NA                                     & NA & 1  & NA & NA & NA & 1 \\\\\n",
       "\t5 & 1000112 & NA                                     & NA        & No, never                              & NA & NA & NA & 0  & NA & NA\\\\\n",
       "\t6 & 1000141 & No, never                              & NA        & NA                                     & NA & 0  & NA & NA & NA & NA\\\\\n",
       "\t7 & 1000236 & No, never                              & NA        & No, never                              & NA & 0  & NA & 0  & NA & NA\\\\\n",
       "\t8 & 1000248 & No, never                              & NA        & NA                                     & NA & 0  & NA & NA & NA & NA\\\\\n",
       "\t9 & 1000269 & NA                                     & NA        & No, never                              & NA & NA & NA & 0  & NA & NA\\\\\n",
       "\t10 & 1000340 & No, never                              & NA        & NA                                     & NA & 0  & NA & NA & NA & NA\\\\\n",
       "\t11 & 1000357 & Yes, but not now, but have in the past & NA        & NA                                     & NA & 1  & NA & NA & NA & 1 \\\\\n",
       "\t12 & 1000379 & No, never                              & NA        & NA                                     & NA & 0  & NA & NA & NA & NA\\\\\n",
       "\t13 & 1000421 & No, never                              & NA        & NA                                     & NA & 0  & NA & NA & NA & NA\\\\\n",
       "\t14 & 1000443 & NA                                     & NA        & Yes, but not now, but have in the past & NA & NA & NA & 1  & NA & 1 \\\\\n",
       "\t15 & 1000494 & Yes, but not now, but have in the past & NA        & NA                                     & NA & 1  & NA & NA & NA & 1 \\\\\n",
       "\t16 & 1000516 & No, never                              & NA        & NA                                     & NA & 0  & NA & NA & NA & NA\\\\\n",
       "\t17 & 1000527 & No, never                              & NA        & NA                                     & NA & 0  & NA & NA & NA & NA\\\\\n",
       "\t18 & 1000530 & No, never                              & NA        & NA                                     & NA & 0  & NA & NA & NA & NA\\\\\n",
       "\t19 & 1000549 & No, never                              & NA        & NA                                     & NA & 0  & NA & NA & NA & NA\\\\\n",
       "\t20 & 1000584 & No, never                              & NA        & NA                                     & NA & 0  & NA & NA & NA & NA\\\\\n",
       "\t21 & 1000609 & NA                                     & No, never & NA                                     & NA & NA & 0  & NA & NA & NA\\\\\n",
       "\t22 & 1000611 & No, never                              & NA        & NA                                     & NA & 0  & NA & NA & NA & NA\\\\\n",
       "\t23 & 1000625 & Yes, but not now, but have in the past & NA        & NA                                     & NA & 1  & NA & NA & NA & 1 \\\\\n",
       "\t24 & 1000642 & No, never                              & NA        & NA                                     & NA & 0  & NA & NA & NA & NA\\\\\n",
       "\t25 & 1000683 & No, never                              & No, never & NA                                     & NA & 0  & 0  & NA & NA & NA\\\\\n",
       "\t26 & 1000713 & Yes, now a lot of the time             & NA        & Yes, but not now, but have in the past & NA & 1  & NA & 1  & NA & 1 \\\\\n",
       "\t27 & 1000728 & Yes, now most or all of the time       & NA        & NA                                     & NA & 1  & NA & NA & NA & 1 \\\\\n",
       "\t28 & 1000734 & No, never                              & NA        & NA                                     & NA & 0  & NA & NA & NA & NA\\\\\n",
       "\t29 & 1000745 & Yes, but not now, but have in the past & NA        & NA                                     & NA & 1  & NA & NA & NA & 1 \\\\\n",
       "\t30 & 1000780 & No, never                              & NA        & NA                                     & NA & 0  & NA & NA & NA & NA\\\\\n",
       "\t⋮ & ⋮ & ⋮ & ⋮ & ⋮ & ⋮ & ⋮ & ⋮ & ⋮ & ⋮ & ⋮\\\\\n",
       "\t144738 & 6024294 & No, never                              & NA                                     & NA                                     & NA                               & 0  & NA & NA & NA & NA\\\\\n",
       "\t144739 & 6024345 & NA                                     & No, never                              & NA                                     & NA                               & NA & 0  & NA & NA & NA\\\\\n",
       "\t144740 & 6024380 & No, never                              & NA                                     & NA                                     & NA                               & 0  & NA & NA & NA & NA\\\\\n",
       "\t144741 & 6024399 & Yes, now a lot of the time             & NA                                     & NA                                     & NA                               & 1  & NA & NA & NA & 1 \\\\\n",
       "\t144742 & 6024403 & Yes, now some of the time              & NA                                     & NA                                     & NA                               & 1  & NA & NA & NA & 1 \\\\\n",
       "\t144743 & 6024487 & Yes, now some of the time              & NA                                     & NA                                     & NA                               & 1  & NA & NA & NA & 1 \\\\\n",
       "\t144744 & 6024491 & No, never                              & NA                                     & NA                                     & NA                               & 0  & NA & NA & NA & NA\\\\\n",
       "\t144745 & 6024535 & No, never                              & NA                                     & NA                                     & NA                               & 0  & NA & NA & NA & NA\\\\\n",
       "\t144746 & 6024546 & Yes, but not now, but have in the past & NA                                     & NA                                     & NA                               & 1  & NA & NA & NA & 1 \\\\\n",
       "\t144747 & 6024581 & Yes, but not now, but have in the past & NA                                     & Yes, now some of the time              & Yes, now most or all of the time & 1  & NA & 1  & 1  & 1 \\\\\n",
       "\t144748 & 6024614 & No, never                              & NA                                     & NA                                     & NA                               & 0  & NA & NA & NA & NA\\\\\n",
       "\t144749 & 6024620 & Yes, now most or all of the time       & NA                                     & Yes, now most or all of the time       & NA                               & 1  & NA & 1  & NA & 1 \\\\\n",
       "\t144750 & 6024671 & NA                                     & NA                                     & Yes, but not now, but have in the past & NA                               & NA & NA & 1  & NA & 1 \\\\\n",
       "\t144751 & 6024785 & NA                                     & NA                                     & No, never                              & NA                               & NA & NA & 0  & NA & NA\\\\\n",
       "\t144752 & 6024812 & Yes, now most or all of the time       & NA                                     & NA                                     & NA                               & 1  & NA & NA & NA & 1 \\\\\n",
       "\t144753 & 6024870 & No, never                              & NA                                     & NA                                     & NA                               & 0  & NA & NA & NA & NA\\\\\n",
       "\t144754 & 6024911 & NA                                     & Yes, but not now, but have in the past & NA                                     & NA                               & NA & 1  & NA & NA & 1 \\\\\n",
       "\t144755 & 6025004 & NA                                     & No, never                              & NA                                     & NA                               & NA & 0  & NA & NA & NA\\\\\n",
       "\t144756 & 6025040 & No, never                              & NA                                     & No, never                              & NA                               & 0  & NA & 0  & NA & NA\\\\\n",
       "\t144757 & 6025085 & No, never                              & NA                                     & NA                                     & NA                               & 0  & NA & NA & NA & NA\\\\\n",
       "\t144758 & 6025145 & No, never                              & NA                                     & NA                                     & NA                               & 0  & NA & NA & NA & NA\\\\\n",
       "\t144759 & 6025152 & No, never                              & NA                                     & NA                                     & NA                               & 0  & NA & NA & NA & NA\\\\\n",
       "\t144760 & 6025199 & No, never                              & NA                                     & NA                                     & NA                               & 0  & NA & NA & NA & NA\\\\\n",
       "\t144761 & 6025227 & NA                                     & NA                                     & No, never                              & NA                               & NA & NA & 0  & NA & NA\\\\\n",
       "\t144762 & 6025230 & No, never                              & NA                                     & NA                                     & NA                               & 0  & NA & NA & NA & NA\\\\\n",
       "\t144763 & 6025284 & No, never                              & NA                                     & NA                                     & NA                               & 0  & NA & NA & NA & NA\\\\\n",
       "\t144764 & 6025307 & Yes, now most or all of the time       & NA                                     & NA                                     & NA                               & 1  & NA & NA & NA & 1 \\\\\n",
       "\t144765 & 6025319 & No, never                              & NA                                     & NA                                     & NA                               & 0  & NA & NA & NA & NA\\\\\n",
       "\t144766 & 6025354 & No, never                              & NA                                     & NA                                     & NA                               & 0  & NA & NA & NA & NA\\\\\n",
       "\t144767 & 6025411 & No, never                              & NA                                     & NA                                     & NA                               & 0  & NA & NA & NA & NA\\\\\n",
       "\\end{tabular}\n"
      ],
      "text/markdown": [
       "\n",
       "A data.frame: 142521 × 10\n",
       "\n",
       "| <!--/--> | IID &lt;int&gt; | f.4803.0.0 &lt;fct&gt; | f.4803.1.0 &lt;fct&gt; | f.4803.2.0 &lt;fct&gt; | f.4803.3.0 &lt;fct&gt; | f.4803.0.0_recode &lt;fct&gt; | f.4803.1.0_recode &lt;fct&gt; | f.4803.2.0_recode &lt;fct&gt; | f.4803.3.0_recode &lt;fct&gt; | cases &lt;chr&gt; |\n",
       "|---|---|---|---|---|---|---|---|---|---|---|\n",
       "| 1 | 1000046 | NA                                     | NA        | No, never                              | NA | NA | NA | 0  | NA | NA |\n",
       "| 2 | 1000063 | No, never                              | NA        | NA                                     | NA | 0  | NA | NA | NA | NA |\n",
       "| 3 | 1000078 | NA                                     | No, never | No, never                              | NA | NA | 0  | 0  | NA | NA |\n",
       "| 4 | 1000105 | Yes, but not now, but have in the past | NA        | NA                                     | NA | 1  | NA | NA | NA | 1  |\n",
       "| 5 | 1000112 | NA                                     | NA        | No, never                              | NA | NA | NA | 0  | NA | NA |\n",
       "| 6 | 1000141 | No, never                              | NA        | NA                                     | NA | 0  | NA | NA | NA | NA |\n",
       "| 7 | 1000236 | No, never                              | NA        | No, never                              | NA | 0  | NA | 0  | NA | NA |\n",
       "| 8 | 1000248 | No, never                              | NA        | NA                                     | NA | 0  | NA | NA | NA | NA |\n",
       "| 9 | 1000269 | NA                                     | NA        | No, never                              | NA | NA | NA | 0  | NA | NA |\n",
       "| 10 | 1000340 | No, never                              | NA        | NA                                     | NA | 0  | NA | NA | NA | NA |\n",
       "| 11 | 1000357 | Yes, but not now, but have in the past | NA        | NA                                     | NA | 1  | NA | NA | NA | 1  |\n",
       "| 12 | 1000379 | No, never                              | NA        | NA                                     | NA | 0  | NA | NA | NA | NA |\n",
       "| 13 | 1000421 | No, never                              | NA        | NA                                     | NA | 0  | NA | NA | NA | NA |\n",
       "| 14 | 1000443 | NA                                     | NA        | Yes, but not now, but have in the past | NA | NA | NA | 1  | NA | 1  |\n",
       "| 15 | 1000494 | Yes, but not now, but have in the past | NA        | NA                                     | NA | 1  | NA | NA | NA | 1  |\n",
       "| 16 | 1000516 | No, never                              | NA        | NA                                     | NA | 0  | NA | NA | NA | NA |\n",
       "| 17 | 1000527 | No, never                              | NA        | NA                                     | NA | 0  | NA | NA | NA | NA |\n",
       "| 18 | 1000530 | No, never                              | NA        | NA                                     | NA | 0  | NA | NA | NA | NA |\n",
       "| 19 | 1000549 | No, never                              | NA        | NA                                     | NA | 0  | NA | NA | NA | NA |\n",
       "| 20 | 1000584 | No, never                              | NA        | NA                                     | NA | 0  | NA | NA | NA | NA |\n",
       "| 21 | 1000609 | NA                                     | No, never | NA                                     | NA | NA | 0  | NA | NA | NA |\n",
       "| 22 | 1000611 | No, never                              | NA        | NA                                     | NA | 0  | NA | NA | NA | NA |\n",
       "| 23 | 1000625 | Yes, but not now, but have in the past | NA        | NA                                     | NA | 1  | NA | NA | NA | 1  |\n",
       "| 24 | 1000642 | No, never                              | NA        | NA                                     | NA | 0  | NA | NA | NA | NA |\n",
       "| 25 | 1000683 | No, never                              | No, never | NA                                     | NA | 0  | 0  | NA | NA | NA |\n",
       "| 26 | 1000713 | Yes, now a lot of the time             | NA        | Yes, but not now, but have in the past | NA | 1  | NA | 1  | NA | 1  |\n",
       "| 27 | 1000728 | Yes, now most or all of the time       | NA        | NA                                     | NA | 1  | NA | NA | NA | 1  |\n",
       "| 28 | 1000734 | No, never                              | NA        | NA                                     | NA | 0  | NA | NA | NA | NA |\n",
       "| 29 | 1000745 | Yes, but not now, but have in the past | NA        | NA                                     | NA | 1  | NA | NA | NA | 1  |\n",
       "| 30 | 1000780 | No, never                              | NA        | NA                                     | NA | 0  | NA | NA | NA | NA |\n",
       "| ⋮ | ⋮ | ⋮ | ⋮ | ⋮ | ⋮ | ⋮ | ⋮ | ⋮ | ⋮ | ⋮ |\n",
       "| 144738 | 6024294 | No, never                              | NA                                     | NA                                     | NA                               | 0  | NA | NA | NA | NA |\n",
       "| 144739 | 6024345 | NA                                     | No, never                              | NA                                     | NA                               | NA | 0  | NA | NA | NA |\n",
       "| 144740 | 6024380 | No, never                              | NA                                     | NA                                     | NA                               | 0  | NA | NA | NA | NA |\n",
       "| 144741 | 6024399 | Yes, now a lot of the time             | NA                                     | NA                                     | NA                               | 1  | NA | NA | NA | 1  |\n",
       "| 144742 | 6024403 | Yes, now some of the time              | NA                                     | NA                                     | NA                               | 1  | NA | NA | NA | 1  |\n",
       "| 144743 | 6024487 | Yes, now some of the time              | NA                                     | NA                                     | NA                               | 1  | NA | NA | NA | 1  |\n",
       "| 144744 | 6024491 | No, never                              | NA                                     | NA                                     | NA                               | 0  | NA | NA | NA | NA |\n",
       "| 144745 | 6024535 | No, never                              | NA                                     | NA                                     | NA                               | 0  | NA | NA | NA | NA |\n",
       "| 144746 | 6024546 | Yes, but not now, but have in the past | NA                                     | NA                                     | NA                               | 1  | NA | NA | NA | 1  |\n",
       "| 144747 | 6024581 | Yes, but not now, but have in the past | NA                                     | Yes, now some of the time              | Yes, now most or all of the time | 1  | NA | 1  | 1  | 1  |\n",
       "| 144748 | 6024614 | No, never                              | NA                                     | NA                                     | NA                               | 0  | NA | NA | NA | NA |\n",
       "| 144749 | 6024620 | Yes, now most or all of the time       | NA                                     | Yes, now most or all of the time       | NA                               | 1  | NA | 1  | NA | 1  |\n",
       "| 144750 | 6024671 | NA                                     | NA                                     | Yes, but not now, but have in the past | NA                               | NA | NA | 1  | NA | 1  |\n",
       "| 144751 | 6024785 | NA                                     | NA                                     | No, never                              | NA                               | NA | NA | 0  | NA | NA |\n",
       "| 144752 | 6024812 | Yes, now most or all of the time       | NA                                     | NA                                     | NA                               | 1  | NA | NA | NA | 1  |\n",
       "| 144753 | 6024870 | No, never                              | NA                                     | NA                                     | NA                               | 0  | NA | NA | NA | NA |\n",
       "| 144754 | 6024911 | NA                                     | Yes, but not now, but have in the past | NA                                     | NA                               | NA | 1  | NA | NA | 1  |\n",
       "| 144755 | 6025004 | NA                                     | No, never                              | NA                                     | NA                               | NA | 0  | NA | NA | NA |\n",
       "| 144756 | 6025040 | No, never                              | NA                                     | No, never                              | NA                               | 0  | NA | 0  | NA | NA |\n",
       "| 144757 | 6025085 | No, never                              | NA                                     | NA                                     | NA                               | 0  | NA | NA | NA | NA |\n",
       "| 144758 | 6025145 | No, never                              | NA                                     | NA                                     | NA                               | 0  | NA | NA | NA | NA |\n",
       "| 144759 | 6025152 | No, never                              | NA                                     | NA                                     | NA                               | 0  | NA | NA | NA | NA |\n",
       "| 144760 | 6025199 | No, never                              | NA                                     | NA                                     | NA                               | 0  | NA | NA | NA | NA |\n",
       "| 144761 | 6025227 | NA                                     | NA                                     | No, never                              | NA                               | NA | NA | 0  | NA | NA |\n",
       "| 144762 | 6025230 | No, never                              | NA                                     | NA                                     | NA                               | 0  | NA | NA | NA | NA |\n",
       "| 144763 | 6025284 | No, never                              | NA                                     | NA                                     | NA                               | 0  | NA | NA | NA | NA |\n",
       "| 144764 | 6025307 | Yes, now most or all of the time       | NA                                     | NA                                     | NA                               | 1  | NA | NA | NA | 1  |\n",
       "| 144765 | 6025319 | No, never                              | NA                                     | NA                                     | NA                               | 0  | NA | NA | NA | NA |\n",
       "| 144766 | 6025354 | No, never                              | NA                                     | NA                                     | NA                               | 0  | NA | NA | NA | NA |\n",
       "| 144767 | 6025411 | No, never                              | NA                                     | NA                                     | NA                               | 0  | NA | NA | NA | NA |\n",
       "\n"
      ],
      "text/plain": [
       "       IID     f.4803.0.0                            \n",
       "1      1000046 NA                                    \n",
       "2      1000063 No, never                             \n",
       "3      1000078 NA                                    \n",
       "4      1000105 Yes, but not now, but have in the past\n",
       "5      1000112 NA                                    \n",
       "6      1000141 No, never                             \n",
       "7      1000236 No, never                             \n",
       "8      1000248 No, never                             \n",
       "9      1000269 NA                                    \n",
       "10     1000340 No, never                             \n",
       "11     1000357 Yes, but not now, but have in the past\n",
       "12     1000379 No, never                             \n",
       "13     1000421 No, never                             \n",
       "14     1000443 NA                                    \n",
       "15     1000494 Yes, but not now, but have in the past\n",
       "16     1000516 No, never                             \n",
       "17     1000527 No, never                             \n",
       "18     1000530 No, never                             \n",
       "19     1000549 No, never                             \n",
       "20     1000584 No, never                             \n",
       "21     1000609 NA                                    \n",
       "22     1000611 No, never                             \n",
       "23     1000625 Yes, but not now, but have in the past\n",
       "24     1000642 No, never                             \n",
       "25     1000683 No, never                             \n",
       "26     1000713 Yes, now a lot of the time            \n",
       "27     1000728 Yes, now most or all of the time      \n",
       "28     1000734 No, never                             \n",
       "29     1000745 Yes, but not now, but have in the past\n",
       "30     1000780 No, never                             \n",
       "⋮      ⋮       ⋮                                     \n",
       "144738 6024294 No, never                             \n",
       "144739 6024345 NA                                    \n",
       "144740 6024380 No, never                             \n",
       "144741 6024399 Yes, now a lot of the time            \n",
       "144742 6024403 Yes, now some of the time             \n",
       "144743 6024487 Yes, now some of the time             \n",
       "144744 6024491 No, never                             \n",
       "144745 6024535 No, never                             \n",
       "144746 6024546 Yes, but not now, but have in the past\n",
       "144747 6024581 Yes, but not now, but have in the past\n",
       "144748 6024614 No, never                             \n",
       "144749 6024620 Yes, now most or all of the time      \n",
       "144750 6024671 NA                                    \n",
       "144751 6024785 NA                                    \n",
       "144752 6024812 Yes, now most or all of the time      \n",
       "144753 6024870 No, never                             \n",
       "144754 6024911 NA                                    \n",
       "144755 6025004 NA                                    \n",
       "144756 6025040 No, never                             \n",
       "144757 6025085 No, never                             \n",
       "144758 6025145 No, never                             \n",
       "144759 6025152 No, never                             \n",
       "144760 6025199 No, never                             \n",
       "144761 6025227 NA                                    \n",
       "144762 6025230 No, never                             \n",
       "144763 6025284 No, never                             \n",
       "144764 6025307 Yes, now most or all of the time      \n",
       "144765 6025319 No, never                             \n",
       "144766 6025354 No, never                             \n",
       "144767 6025411 No, never                             \n",
       "       f.4803.1.0                            \n",
       "1      NA                                    \n",
       "2      NA                                    \n",
       "3      No, never                             \n",
       "4      NA                                    \n",
       "5      NA                                    \n",
       "6      NA                                    \n",
       "7      NA                                    \n",
       "8      NA                                    \n",
       "9      NA                                    \n",
       "10     NA                                    \n",
       "11     NA                                    \n",
       "12     NA                                    \n",
       "13     NA                                    \n",
       "14     NA                                    \n",
       "15     NA                                    \n",
       "16     NA                                    \n",
       "17     NA                                    \n",
       "18     NA                                    \n",
       "19     NA                                    \n",
       "20     NA                                    \n",
       "21     No, never                             \n",
       "22     NA                                    \n",
       "23     NA                                    \n",
       "24     NA                                    \n",
       "25     No, never                             \n",
       "26     NA                                    \n",
       "27     NA                                    \n",
       "28     NA                                    \n",
       "29     NA                                    \n",
       "30     NA                                    \n",
       "⋮      ⋮                                     \n",
       "144738 NA                                    \n",
       "144739 No, never                             \n",
       "144740 NA                                    \n",
       "144741 NA                                    \n",
       "144742 NA                                    \n",
       "144743 NA                                    \n",
       "144744 NA                                    \n",
       "144745 NA                                    \n",
       "144746 NA                                    \n",
       "144747 NA                                    \n",
       "144748 NA                                    \n",
       "144749 NA                                    \n",
       "144750 NA                                    \n",
       "144751 NA                                    \n",
       "144752 NA                                    \n",
       "144753 NA                                    \n",
       "144754 Yes, but not now, but have in the past\n",
       "144755 No, never                             \n",
       "144756 NA                                    \n",
       "144757 NA                                    \n",
       "144758 NA                                    \n",
       "144759 NA                                    \n",
       "144760 NA                                    \n",
       "144761 NA                                    \n",
       "144762 NA                                    \n",
       "144763 NA                                    \n",
       "144764 NA                                    \n",
       "144765 NA                                    \n",
       "144766 NA                                    \n",
       "144767 NA                                    \n",
       "       f.4803.2.0                             f.4803.3.0                      \n",
       "1      No, never                              NA                              \n",
       "2      NA                                     NA                              \n",
       "3      No, never                              NA                              \n",
       "4      NA                                     NA                              \n",
       "5      No, never                              NA                              \n",
       "6      NA                                     NA                              \n",
       "7      No, never                              NA                              \n",
       "8      NA                                     NA                              \n",
       "9      No, never                              NA                              \n",
       "10     NA                                     NA                              \n",
       "11     NA                                     NA                              \n",
       "12     NA                                     NA                              \n",
       "13     NA                                     NA                              \n",
       "14     Yes, but not now, but have in the past NA                              \n",
       "15     NA                                     NA                              \n",
       "16     NA                                     NA                              \n",
       "17     NA                                     NA                              \n",
       "18     NA                                     NA                              \n",
       "19     NA                                     NA                              \n",
       "20     NA                                     NA                              \n",
       "21     NA                                     NA                              \n",
       "22     NA                                     NA                              \n",
       "23     NA                                     NA                              \n",
       "24     NA                                     NA                              \n",
       "25     NA                                     NA                              \n",
       "26     Yes, but not now, but have in the past NA                              \n",
       "27     NA                                     NA                              \n",
       "28     NA                                     NA                              \n",
       "29     NA                                     NA                              \n",
       "30     NA                                     NA                              \n",
       "⋮      ⋮                                      ⋮                               \n",
       "144738 NA                                     NA                              \n",
       "144739 NA                                     NA                              \n",
       "144740 NA                                     NA                              \n",
       "144741 NA                                     NA                              \n",
       "144742 NA                                     NA                              \n",
       "144743 NA                                     NA                              \n",
       "144744 NA                                     NA                              \n",
       "144745 NA                                     NA                              \n",
       "144746 NA                                     NA                              \n",
       "144747 Yes, now some of the time              Yes, now most or all of the time\n",
       "144748 NA                                     NA                              \n",
       "144749 Yes, now most or all of the time       NA                              \n",
       "144750 Yes, but not now, but have in the past NA                              \n",
       "144751 No, never                              NA                              \n",
       "144752 NA                                     NA                              \n",
       "144753 NA                                     NA                              \n",
       "144754 NA                                     NA                              \n",
       "144755 NA                                     NA                              \n",
       "144756 No, never                              NA                              \n",
       "144757 NA                                     NA                              \n",
       "144758 NA                                     NA                              \n",
       "144759 NA                                     NA                              \n",
       "144760 NA                                     NA                              \n",
       "144761 No, never                              NA                              \n",
       "144762 NA                                     NA                              \n",
       "144763 NA                                     NA                              \n",
       "144764 NA                                     NA                              \n",
       "144765 NA                                     NA                              \n",
       "144766 NA                                     NA                              \n",
       "144767 NA                                     NA                              \n",
       "       f.4803.0.0_recode f.4803.1.0_recode f.4803.2.0_recode f.4803.3.0_recode\n",
       "1      NA                NA                0                 NA               \n",
       "2      0                 NA                NA                NA               \n",
       "3      NA                0                 0                 NA               \n",
       "4      1                 NA                NA                NA               \n",
       "5      NA                NA                0                 NA               \n",
       "6      0                 NA                NA                NA               \n",
       "7      0                 NA                0                 NA               \n",
       "8      0                 NA                NA                NA               \n",
       "9      NA                NA                0                 NA               \n",
       "10     0                 NA                NA                NA               \n",
       "11     1                 NA                NA                NA               \n",
       "12     0                 NA                NA                NA               \n",
       "13     0                 NA                NA                NA               \n",
       "14     NA                NA                1                 NA               \n",
       "15     1                 NA                NA                NA               \n",
       "16     0                 NA                NA                NA               \n",
       "17     0                 NA                NA                NA               \n",
       "18     0                 NA                NA                NA               \n",
       "19     0                 NA                NA                NA               \n",
       "20     0                 NA                NA                NA               \n",
       "21     NA                0                 NA                NA               \n",
       "22     0                 NA                NA                NA               \n",
       "23     1                 NA                NA                NA               \n",
       "24     0                 NA                NA                NA               \n",
       "25     0                 0                 NA                NA               \n",
       "26     1                 NA                1                 NA               \n",
       "27     1                 NA                NA                NA               \n",
       "28     0                 NA                NA                NA               \n",
       "29     1                 NA                NA                NA               \n",
       "30     0                 NA                NA                NA               \n",
       "⋮      ⋮                 ⋮                 ⋮                 ⋮                \n",
       "144738 0                 NA                NA                NA               \n",
       "144739 NA                0                 NA                NA               \n",
       "144740 0                 NA                NA                NA               \n",
       "144741 1                 NA                NA                NA               \n",
       "144742 1                 NA                NA                NA               \n",
       "144743 1                 NA                NA                NA               \n",
       "144744 0                 NA                NA                NA               \n",
       "144745 0                 NA                NA                NA               \n",
       "144746 1                 NA                NA                NA               \n",
       "144747 1                 NA                1                 1                \n",
       "144748 0                 NA                NA                NA               \n",
       "144749 1                 NA                1                 NA               \n",
       "144750 NA                NA                1                 NA               \n",
       "144751 NA                NA                0                 NA               \n",
       "144752 1                 NA                NA                NA               \n",
       "144753 0                 NA                NA                NA               \n",
       "144754 NA                1                 NA                NA               \n",
       "144755 NA                0                 NA                NA               \n",
       "144756 0                 NA                0                 NA               \n",
       "144757 0                 NA                NA                NA               \n",
       "144758 0                 NA                NA                NA               \n",
       "144759 0                 NA                NA                NA               \n",
       "144760 0                 NA                NA                NA               \n",
       "144761 NA                NA                0                 NA               \n",
       "144762 0                 NA                NA                NA               \n",
       "144763 0                 NA                NA                NA               \n",
       "144764 1                 NA                NA                NA               \n",
       "144765 0                 NA                NA                NA               \n",
       "144766 0                 NA                NA                NA               \n",
       "144767 0                 NA                NA                NA               \n",
       "       cases\n",
       "1      NA   \n",
       "2      NA   \n",
       "3      NA   \n",
       "4      1    \n",
       "5      NA   \n",
       "6      NA   \n",
       "7      NA   \n",
       "8      NA   \n",
       "9      NA   \n",
       "10     NA   \n",
       "11     1    \n",
       "12     NA   \n",
       "13     NA   \n",
       "14     1    \n",
       "15     1    \n",
       "16     NA   \n",
       "17     NA   \n",
       "18     NA   \n",
       "19     NA   \n",
       "20     NA   \n",
       "21     NA   \n",
       "22     NA   \n",
       "23     1    \n",
       "24     NA   \n",
       "25     NA   \n",
       "26     1    \n",
       "27     1    \n",
       "28     NA   \n",
       "29     1    \n",
       "30     NA   \n",
       "⋮      ⋮    \n",
       "144738 NA   \n",
       "144739 NA   \n",
       "144740 NA   \n",
       "144741 1    \n",
       "144742 1    \n",
       "144743 1    \n",
       "144744 NA   \n",
       "144745 NA   \n",
       "144746 1    \n",
       "144747 1    \n",
       "144748 NA   \n",
       "144749 1    \n",
       "144750 1    \n",
       "144751 NA   \n",
       "144752 1    \n",
       "144753 NA   \n",
       "144754 1    \n",
       "144755 NA   \n",
       "144756 NA   \n",
       "144757 NA   \n",
       "144758 NA   \n",
       "144759 NA   \n",
       "144760 NA   \n",
       "144761 NA   \n",
       "144762 NA   \n",
       "144763 NA   \n",
       "144764 1    \n",
       "144765 NA   \n",
       "144766 NA   \n",
       "144767 NA   "
      ]
     },
     "metadata": {},
     "output_type": "display_data"
    },
    {
     "data": {
      "text/html": [
       "<table>\n",
       "<caption>A data.frame: 6 × 1080</caption>\n",
       "<thead>\n",
       "\t<tr><th></th><th scope=col>IID</th><th scope=col>FID</th><th scope=col>ignore1</th><th scope=col>ignore2</th><th scope=col>ignore3</th><th scope=col>ignore4</th><th scope=col>f.31.0.0</th><th scope=col>f.34.0.0</th><th scope=col>f.53.0.0</th><th scope=col>f.53.1.0</th><th scope=col>⋯</th><th scope=col>f.41281.0.43</th><th scope=col>f.41281.0.44</th><th scope=col>f.41281.0.45</th><th scope=col>f.41281.0.46</th><th scope=col>sex</th><th scope=col>f.4803.0.0_recode</th><th scope=col>f.4803.1.0_recode</th><th scope=col>f.4803.2.0_recode</th><th scope=col>f.4803.3.0_recode</th><th scope=col>cases</th></tr>\n",
       "\t<tr><th></th><th scope=col>&lt;int&gt;</th><th scope=col>&lt;int&gt;</th><th scope=col>&lt;int&gt;</th><th scope=col>&lt;int&gt;</th><th scope=col>&lt;int&gt;</th><th scope=col>&lt;int&gt;</th><th scope=col>&lt;fct&gt;</th><th scope=col>&lt;int&gt;</th><th scope=col>&lt;fct&gt;</th><th scope=col>&lt;fct&gt;</th><th scope=col>⋯</th><th scope=col>&lt;fct&gt;</th><th scope=col>&lt;fct&gt;</th><th scope=col>&lt;fct&gt;</th><th scope=col>&lt;fct&gt;</th><th scope=col>&lt;fct&gt;</th><th scope=col>&lt;fct&gt;</th><th scope=col>&lt;fct&gt;</th><th scope=col>&lt;fct&gt;</th><th scope=col>&lt;fct&gt;</th><th scope=col>&lt;chr&gt;</th></tr>\n",
       "</thead>\n",
       "<tbody>\n",
       "\t<tr><th scope=row>1</th><td>1000046</td><td>1000046</td><td>0</td><td>0</td><td>2</td><td>-9</td><td>Female</td><td>1946</td><td>2008-12-01</td><td>NA        </td><td>⋯</td><td>NA</td><td>NA</td><td>NA</td><td>NA</td><td>1</td><td>NA</td><td>NA</td><td>0 </td><td>NA</td><td>NA</td></tr>\n",
       "\t<tr><th scope=row>2</th><td>1000063</td><td>1000063</td><td>0</td><td>0</td><td>1</td><td>-9</td><td>Male  </td><td>1967</td><td>2010-06-26</td><td>NA        </td><td>⋯</td><td>NA</td><td>NA</td><td>NA</td><td>NA</td><td>0</td><td>0 </td><td>NA</td><td>NA</td><td>NA</td><td>NA</td></tr>\n",
       "\t<tr><th scope=row>3</th><td>1000078</td><td>1000078</td><td>0</td><td>0</td><td>2</td><td>-9</td><td>Female</td><td>1955</td><td>2007-08-20</td><td>2012-11-01</td><td>⋯</td><td>NA</td><td>NA</td><td>NA</td><td>NA</td><td>1</td><td>NA</td><td>0 </td><td>0 </td><td>NA</td><td>NA</td></tr>\n",
       "\t<tr><th scope=row>4</th><td>1000105</td><td>1000105</td><td>0</td><td>0</td><td>2</td><td>-9</td><td>Female</td><td>1955</td><td>2009-06-22</td><td>NA        </td><td>⋯</td><td>NA</td><td>NA</td><td>NA</td><td>NA</td><td>1</td><td>1 </td><td>NA</td><td>NA</td><td>NA</td><td>1 </td></tr>\n",
       "\t<tr><th scope=row>5</th><td>1000112</td><td>1000112</td><td>0</td><td>0</td><td>1</td><td>-9</td><td>Male  </td><td>1949</td><td>2008-04-01</td><td>NA        </td><td>⋯</td><td>NA</td><td>NA</td><td>NA</td><td>NA</td><td>0</td><td>NA</td><td>NA</td><td>0 </td><td>NA</td><td>NA</td></tr>\n",
       "\t<tr><th scope=row>6</th><td>1000141</td><td>1000141</td><td>0</td><td>0</td><td>2</td><td>-9</td><td>Female</td><td>1959</td><td>2009-10-26</td><td>NA        </td><td>⋯</td><td>NA</td><td>NA</td><td>NA</td><td>NA</td><td>1</td><td>0 </td><td>NA</td><td>NA</td><td>NA</td><td>NA</td></tr>\n",
       "</tbody>\n",
       "</table>\n"
      ],
      "text/latex": [
       "A data.frame: 6 × 1080\n",
       "\\begin{tabular}{r|lllllllllllllllllllll}\n",
       "  & IID & FID & ignore1 & ignore2 & ignore3 & ignore4 & f.31.0.0 & f.34.0.0 & f.53.0.0 & f.53.1.0 & ⋯ & f.41281.0.43 & f.41281.0.44 & f.41281.0.45 & f.41281.0.46 & sex & f.4803.0.0\\_recode & f.4803.1.0\\_recode & f.4803.2.0\\_recode & f.4803.3.0\\_recode & cases\\\\\n",
       "  & <int> & <int> & <int> & <int> & <int> & <int> & <fct> & <int> & <fct> & <fct> & ⋯ & <fct> & <fct> & <fct> & <fct> & <fct> & <fct> & <fct> & <fct> & <fct> & <chr>\\\\\n",
       "\\hline\n",
       "\t1 & 1000046 & 1000046 & 0 & 0 & 2 & -9 & Female & 1946 & 2008-12-01 & NA         & ⋯ & NA & NA & NA & NA & 1 & NA & NA & 0  & NA & NA\\\\\n",
       "\t2 & 1000063 & 1000063 & 0 & 0 & 1 & -9 & Male   & 1967 & 2010-06-26 & NA         & ⋯ & NA & NA & NA & NA & 0 & 0  & NA & NA & NA & NA\\\\\n",
       "\t3 & 1000078 & 1000078 & 0 & 0 & 2 & -9 & Female & 1955 & 2007-08-20 & 2012-11-01 & ⋯ & NA & NA & NA & NA & 1 & NA & 0  & 0  & NA & NA\\\\\n",
       "\t4 & 1000105 & 1000105 & 0 & 0 & 2 & -9 & Female & 1955 & 2009-06-22 & NA         & ⋯ & NA & NA & NA & NA & 1 & 1  & NA & NA & NA & 1 \\\\\n",
       "\t5 & 1000112 & 1000112 & 0 & 0 & 1 & -9 & Male   & 1949 & 2008-04-01 & NA         & ⋯ & NA & NA & NA & NA & 0 & NA & NA & 0  & NA & NA\\\\\n",
       "\t6 & 1000141 & 1000141 & 0 & 0 & 2 & -9 & Female & 1959 & 2009-10-26 & NA         & ⋯ & NA & NA & NA & NA & 1 & 0  & NA & NA & NA & NA\\\\\n",
       "\\end{tabular}\n"
      ],
      "text/markdown": [
       "\n",
       "A data.frame: 6 × 1080\n",
       "\n",
       "| <!--/--> | IID &lt;int&gt; | FID &lt;int&gt; | ignore1 &lt;int&gt; | ignore2 &lt;int&gt; | ignore3 &lt;int&gt; | ignore4 &lt;int&gt; | f.31.0.0 &lt;fct&gt; | f.34.0.0 &lt;int&gt; | f.53.0.0 &lt;fct&gt; | f.53.1.0 &lt;fct&gt; | ⋯ ⋯ | f.41281.0.43 &lt;fct&gt; | f.41281.0.44 &lt;fct&gt; | f.41281.0.45 &lt;fct&gt; | f.41281.0.46 &lt;fct&gt; | sex &lt;fct&gt; | f.4803.0.0_recode &lt;fct&gt; | f.4803.1.0_recode &lt;fct&gt; | f.4803.2.0_recode &lt;fct&gt; | f.4803.3.0_recode &lt;fct&gt; | cases &lt;chr&gt; |\n",
       "|---|---|---|---|---|---|---|---|---|---|---|---|---|---|---|---|---|---|---|---|---|---|\n",
       "| 1 | 1000046 | 1000046 | 0 | 0 | 2 | -9 | Female | 1946 | 2008-12-01 | NA         | ⋯ | NA | NA | NA | NA | 1 | NA | NA | 0  | NA | NA |\n",
       "| 2 | 1000063 | 1000063 | 0 | 0 | 1 | -9 | Male   | 1967 | 2010-06-26 | NA         | ⋯ | NA | NA | NA | NA | 0 | 0  | NA | NA | NA | NA |\n",
       "| 3 | 1000078 | 1000078 | 0 | 0 | 2 | -9 | Female | 1955 | 2007-08-20 | 2012-11-01 | ⋯ | NA | NA | NA | NA | 1 | NA | 0  | 0  | NA | NA |\n",
       "| 4 | 1000105 | 1000105 | 0 | 0 | 2 | -9 | Female | 1955 | 2009-06-22 | NA         | ⋯ | NA | NA | NA | NA | 1 | 1  | NA | NA | NA | 1  |\n",
       "| 5 | 1000112 | 1000112 | 0 | 0 | 1 | -9 | Male   | 1949 | 2008-04-01 | NA         | ⋯ | NA | NA | NA | NA | 0 | NA | NA | 0  | NA | NA |\n",
       "| 6 | 1000141 | 1000141 | 0 | 0 | 2 | -9 | Female | 1959 | 2009-10-26 | NA         | ⋯ | NA | NA | NA | NA | 1 | 0  | NA | NA | NA | NA |\n",
       "\n"
      ],
      "text/plain": [
       "  IID     FID     ignore1 ignore2 ignore3 ignore4 f.31.0.0 f.34.0.0 f.53.0.0  \n",
       "1 1000046 1000046 0       0       2       -9      Female   1946     2008-12-01\n",
       "2 1000063 1000063 0       0       1       -9      Male     1967     2010-06-26\n",
       "3 1000078 1000078 0       0       2       -9      Female   1955     2007-08-20\n",
       "4 1000105 1000105 0       0       2       -9      Female   1955     2009-06-22\n",
       "5 1000112 1000112 0       0       1       -9      Male     1949     2008-04-01\n",
       "6 1000141 1000141 0       0       2       -9      Female   1959     2009-10-26\n",
       "  f.53.1.0   ⋯ f.41281.0.43 f.41281.0.44 f.41281.0.45 f.41281.0.46 sex\n",
       "1 NA         ⋯ NA           NA           NA           NA           1  \n",
       "2 NA         ⋯ NA           NA           NA           NA           0  \n",
       "3 2012-11-01 ⋯ NA           NA           NA           NA           1  \n",
       "4 NA         ⋯ NA           NA           NA           NA           1  \n",
       "5 NA         ⋯ NA           NA           NA           NA           0  \n",
       "6 NA         ⋯ NA           NA           NA           NA           1  \n",
       "  f.4803.0.0_recode f.4803.1.0_recode f.4803.2.0_recode f.4803.3.0_recode cases\n",
       "1 NA                NA                0                 NA                NA   \n",
       "2 0                 NA                NA                NA                NA   \n",
       "3 NA                0                 0                 NA                NA   \n",
       "4 1                 NA                NA                NA                1    \n",
       "5 NA                NA                0                 NA                NA   \n",
       "6 0                 NA                NA                NA                NA   "
      ]
     },
     "metadata": {},
     "output_type": "display_data"
    }
   ],
   "source": [
    "data_p1 %>%\n",
    "select(IID,f.4803.0.0, f.4803.1.0, f.4803.2.0, f.4803.3.0, f.4803.0.0_recode, f.4803.1.0_recode, f.4803.2.0_recode, f.4803.3.0_recode,cases)\n",
    "head(data_p1)"
   ]
  },
  {
   "cell_type": "markdown",
   "metadata": {
    "kernel": "R"
   },
   "source": [
    "Define controls (no tinnitus)"
   ]
  },
  {
   "cell_type": "code",
   "execution_count": 48,
   "metadata": {
    "kernel": "R"
   },
   "outputs": [],
   "source": [
    "data_p1$controls <- with(data_p1, ifelse(f.4803.0.0_recode %in% c(\"0\",NA) & f.4803.1.0_recode %in% c(\"0\", NA) & f.4803.2.0_recode %in% c(\"0\",NA) &f.4803.3.0_recode %in% c(\"0\",NA)\n",
    "                                         & !(f.4803.0.0_recode %in% c(NA) & f.4803.1.0_recode %in% c(NA) & f.4803.2.0_recode %in% c(NA) & f.4803.3.0_recode %in% c(NA)) \n",
    "                                         ,\"0\", NA))"
   ]
  },
  {
   "cell_type": "markdown",
   "metadata": {
    "kernel": "R"
   },
   "source": [
    "#### Number of tinnitus controls"
   ]
  },
  {
   "cell_type": "code",
   "execution_count": 49,
   "metadata": {
    "kernel": "R"
   },
   "outputs": [
    {
     "data": {
      "text/plain": [
       "\n",
       "    0 \n",
       "99411 "
      ]
     },
     "metadata": {},
     "output_type": "display_data"
    }
   ],
   "source": [
    "table(data_p1$controls)"
   ]
  },
  {
   "cell_type": "code",
   "execution_count": 51,
   "metadata": {
    "kernel": "R",
    "scrolled": true
   },
   "outputs": [
    {
     "data": {
      "text/html": [
       "<table>\n",
       "<caption>A data.frame: 142521 × 10</caption>\n",
       "<thead>\n",
       "\t<tr><th></th><th scope=col>IID</th><th scope=col>f.4803.0.0</th><th scope=col>f.4803.1.0</th><th scope=col>f.4803.2.0</th><th scope=col>f.4803.3.0</th><th scope=col>f.4803.0.0_recode</th><th scope=col>f.4803.1.0_recode</th><th scope=col>f.4803.2.0_recode</th><th scope=col>f.4803.3.0_recode</th><th scope=col>controls</th></tr>\n",
       "\t<tr><th></th><th scope=col>&lt;int&gt;</th><th scope=col>&lt;fct&gt;</th><th scope=col>&lt;fct&gt;</th><th scope=col>&lt;fct&gt;</th><th scope=col>&lt;fct&gt;</th><th scope=col>&lt;fct&gt;</th><th scope=col>&lt;fct&gt;</th><th scope=col>&lt;fct&gt;</th><th scope=col>&lt;fct&gt;</th><th scope=col>&lt;chr&gt;</th></tr>\n",
       "</thead>\n",
       "<tbody>\n",
       "\t<tr><th scope=row>1</th><td>1000046</td><td>NA                                    </td><td>NA       </td><td>No, never                             </td><td>NA</td><td>NA</td><td>NA</td><td>0 </td><td>NA</td><td>0 </td></tr>\n",
       "\t<tr><th scope=row>2</th><td>1000063</td><td>No, never                             </td><td>NA       </td><td>NA                                    </td><td>NA</td><td>0 </td><td>NA</td><td>NA</td><td>NA</td><td>0 </td></tr>\n",
       "\t<tr><th scope=row>3</th><td>1000078</td><td>NA                                    </td><td>No, never</td><td>No, never                             </td><td>NA</td><td>NA</td><td>0 </td><td>0 </td><td>NA</td><td>0 </td></tr>\n",
       "\t<tr><th scope=row>4</th><td>1000105</td><td>Yes, but not now, but have in the past</td><td>NA       </td><td>NA                                    </td><td>NA</td><td>1 </td><td>NA</td><td>NA</td><td>NA</td><td>NA</td></tr>\n",
       "\t<tr><th scope=row>5</th><td>1000112</td><td>NA                                    </td><td>NA       </td><td>No, never                             </td><td>NA</td><td>NA</td><td>NA</td><td>0 </td><td>NA</td><td>0 </td></tr>\n",
       "\t<tr><th scope=row>6</th><td>1000141</td><td>No, never                             </td><td>NA       </td><td>NA                                    </td><td>NA</td><td>0 </td><td>NA</td><td>NA</td><td>NA</td><td>0 </td></tr>\n",
       "\t<tr><th scope=row>7</th><td>1000236</td><td>No, never                             </td><td>NA       </td><td>No, never                             </td><td>NA</td><td>0 </td><td>NA</td><td>0 </td><td>NA</td><td>0 </td></tr>\n",
       "\t<tr><th scope=row>8</th><td>1000248</td><td>No, never                             </td><td>NA       </td><td>NA                                    </td><td>NA</td><td>0 </td><td>NA</td><td>NA</td><td>NA</td><td>0 </td></tr>\n",
       "\t<tr><th scope=row>9</th><td>1000269</td><td>NA                                    </td><td>NA       </td><td>No, never                             </td><td>NA</td><td>NA</td><td>NA</td><td>0 </td><td>NA</td><td>0 </td></tr>\n",
       "\t<tr><th scope=row>10</th><td>1000340</td><td>No, never                             </td><td>NA       </td><td>NA                                    </td><td>NA</td><td>0 </td><td>NA</td><td>NA</td><td>NA</td><td>0 </td></tr>\n",
       "\t<tr><th scope=row>11</th><td>1000357</td><td>Yes, but not now, but have in the past</td><td>NA       </td><td>NA                                    </td><td>NA</td><td>1 </td><td>NA</td><td>NA</td><td>NA</td><td>NA</td></tr>\n",
       "\t<tr><th scope=row>12</th><td>1000379</td><td>No, never                             </td><td>NA       </td><td>NA                                    </td><td>NA</td><td>0 </td><td>NA</td><td>NA</td><td>NA</td><td>0 </td></tr>\n",
       "\t<tr><th scope=row>13</th><td>1000421</td><td>No, never                             </td><td>NA       </td><td>NA                                    </td><td>NA</td><td>0 </td><td>NA</td><td>NA</td><td>NA</td><td>0 </td></tr>\n",
       "\t<tr><th scope=row>14</th><td>1000443</td><td>NA                                    </td><td>NA       </td><td>Yes, but not now, but have in the past</td><td>NA</td><td>NA</td><td>NA</td><td>1 </td><td>NA</td><td>NA</td></tr>\n",
       "\t<tr><th scope=row>15</th><td>1000494</td><td>Yes, but not now, but have in the past</td><td>NA       </td><td>NA                                    </td><td>NA</td><td>1 </td><td>NA</td><td>NA</td><td>NA</td><td>NA</td></tr>\n",
       "\t<tr><th scope=row>16</th><td>1000516</td><td>No, never                             </td><td>NA       </td><td>NA                                    </td><td>NA</td><td>0 </td><td>NA</td><td>NA</td><td>NA</td><td>0 </td></tr>\n",
       "\t<tr><th scope=row>17</th><td>1000527</td><td>No, never                             </td><td>NA       </td><td>NA                                    </td><td>NA</td><td>0 </td><td>NA</td><td>NA</td><td>NA</td><td>0 </td></tr>\n",
       "\t<tr><th scope=row>18</th><td>1000530</td><td>No, never                             </td><td>NA       </td><td>NA                                    </td><td>NA</td><td>0 </td><td>NA</td><td>NA</td><td>NA</td><td>0 </td></tr>\n",
       "\t<tr><th scope=row>19</th><td>1000549</td><td>No, never                             </td><td>NA       </td><td>NA                                    </td><td>NA</td><td>0 </td><td>NA</td><td>NA</td><td>NA</td><td>0 </td></tr>\n",
       "\t<tr><th scope=row>20</th><td>1000584</td><td>No, never                             </td><td>NA       </td><td>NA                                    </td><td>NA</td><td>0 </td><td>NA</td><td>NA</td><td>NA</td><td>0 </td></tr>\n",
       "\t<tr><th scope=row>21</th><td>1000609</td><td>NA                                    </td><td>No, never</td><td>NA                                    </td><td>NA</td><td>NA</td><td>0 </td><td>NA</td><td>NA</td><td>0 </td></tr>\n",
       "\t<tr><th scope=row>22</th><td>1000611</td><td>No, never                             </td><td>NA       </td><td>NA                                    </td><td>NA</td><td>0 </td><td>NA</td><td>NA</td><td>NA</td><td>0 </td></tr>\n",
       "\t<tr><th scope=row>23</th><td>1000625</td><td>Yes, but not now, but have in the past</td><td>NA       </td><td>NA                                    </td><td>NA</td><td>1 </td><td>NA</td><td>NA</td><td>NA</td><td>NA</td></tr>\n",
       "\t<tr><th scope=row>24</th><td>1000642</td><td>No, never                             </td><td>NA       </td><td>NA                                    </td><td>NA</td><td>0 </td><td>NA</td><td>NA</td><td>NA</td><td>0 </td></tr>\n",
       "\t<tr><th scope=row>25</th><td>1000683</td><td>No, never                             </td><td>No, never</td><td>NA                                    </td><td>NA</td><td>0 </td><td>0 </td><td>NA</td><td>NA</td><td>0 </td></tr>\n",
       "\t<tr><th scope=row>26</th><td>1000713</td><td>Yes, now a lot of the time            </td><td>NA       </td><td>Yes, but not now, but have in the past</td><td>NA</td><td>1 </td><td>NA</td><td>1 </td><td>NA</td><td>NA</td></tr>\n",
       "\t<tr><th scope=row>27</th><td>1000728</td><td>Yes, now most or all of the time      </td><td>NA       </td><td>NA                                    </td><td>NA</td><td>1 </td><td>NA</td><td>NA</td><td>NA</td><td>NA</td></tr>\n",
       "\t<tr><th scope=row>28</th><td>1000734</td><td>No, never                             </td><td>NA       </td><td>NA                                    </td><td>NA</td><td>0 </td><td>NA</td><td>NA</td><td>NA</td><td>0 </td></tr>\n",
       "\t<tr><th scope=row>29</th><td>1000745</td><td>Yes, but not now, but have in the past</td><td>NA       </td><td>NA                                    </td><td>NA</td><td>1 </td><td>NA</td><td>NA</td><td>NA</td><td>NA</td></tr>\n",
       "\t<tr><th scope=row>30</th><td>1000780</td><td>No, never                             </td><td>NA       </td><td>NA                                    </td><td>NA</td><td>0 </td><td>NA</td><td>NA</td><td>NA</td><td>0 </td></tr>\n",
       "\t<tr><th scope=row>⋮</th><td>⋮</td><td>⋮</td><td>⋮</td><td>⋮</td><td>⋮</td><td>⋮</td><td>⋮</td><td>⋮</td><td>⋮</td><td>⋮</td></tr>\n",
       "\t<tr><th scope=row>144738</th><td>6024294</td><td>No, never                             </td><td>NA                                    </td><td>NA                                    </td><td>NA                              </td><td>0 </td><td>NA</td><td>NA</td><td>NA</td><td>0 </td></tr>\n",
       "\t<tr><th scope=row>144739</th><td>6024345</td><td>NA                                    </td><td>No, never                             </td><td>NA                                    </td><td>NA                              </td><td>NA</td><td>0 </td><td>NA</td><td>NA</td><td>0 </td></tr>\n",
       "\t<tr><th scope=row>144740</th><td>6024380</td><td>No, never                             </td><td>NA                                    </td><td>NA                                    </td><td>NA                              </td><td>0 </td><td>NA</td><td>NA</td><td>NA</td><td>0 </td></tr>\n",
       "\t<tr><th scope=row>144741</th><td>6024399</td><td>Yes, now a lot of the time            </td><td>NA                                    </td><td>NA                                    </td><td>NA                              </td><td>1 </td><td>NA</td><td>NA</td><td>NA</td><td>NA</td></tr>\n",
       "\t<tr><th scope=row>144742</th><td>6024403</td><td>Yes, now some of the time             </td><td>NA                                    </td><td>NA                                    </td><td>NA                              </td><td>1 </td><td>NA</td><td>NA</td><td>NA</td><td>NA</td></tr>\n",
       "\t<tr><th scope=row>144743</th><td>6024487</td><td>Yes, now some of the time             </td><td>NA                                    </td><td>NA                                    </td><td>NA                              </td><td>1 </td><td>NA</td><td>NA</td><td>NA</td><td>NA</td></tr>\n",
       "\t<tr><th scope=row>144744</th><td>6024491</td><td>No, never                             </td><td>NA                                    </td><td>NA                                    </td><td>NA                              </td><td>0 </td><td>NA</td><td>NA</td><td>NA</td><td>0 </td></tr>\n",
       "\t<tr><th scope=row>144745</th><td>6024535</td><td>No, never                             </td><td>NA                                    </td><td>NA                                    </td><td>NA                              </td><td>0 </td><td>NA</td><td>NA</td><td>NA</td><td>0 </td></tr>\n",
       "\t<tr><th scope=row>144746</th><td>6024546</td><td>Yes, but not now, but have in the past</td><td>NA                                    </td><td>NA                                    </td><td>NA                              </td><td>1 </td><td>NA</td><td>NA</td><td>NA</td><td>NA</td></tr>\n",
       "\t<tr><th scope=row>144747</th><td>6024581</td><td>Yes, but not now, but have in the past</td><td>NA                                    </td><td>Yes, now some of the time             </td><td>Yes, now most or all of the time</td><td>1 </td><td>NA</td><td>1 </td><td>1 </td><td>NA</td></tr>\n",
       "\t<tr><th scope=row>144748</th><td>6024614</td><td>No, never                             </td><td>NA                                    </td><td>NA                                    </td><td>NA                              </td><td>0 </td><td>NA</td><td>NA</td><td>NA</td><td>0 </td></tr>\n",
       "\t<tr><th scope=row>144749</th><td>6024620</td><td>Yes, now most or all of the time      </td><td>NA                                    </td><td>Yes, now most or all of the time      </td><td>NA                              </td><td>1 </td><td>NA</td><td>1 </td><td>NA</td><td>NA</td></tr>\n",
       "\t<tr><th scope=row>144750</th><td>6024671</td><td>NA                                    </td><td>NA                                    </td><td>Yes, but not now, but have in the past</td><td>NA                              </td><td>NA</td><td>NA</td><td>1 </td><td>NA</td><td>NA</td></tr>\n",
       "\t<tr><th scope=row>144751</th><td>6024785</td><td>NA                                    </td><td>NA                                    </td><td>No, never                             </td><td>NA                              </td><td>NA</td><td>NA</td><td>0 </td><td>NA</td><td>0 </td></tr>\n",
       "\t<tr><th scope=row>144752</th><td>6024812</td><td>Yes, now most or all of the time      </td><td>NA                                    </td><td>NA                                    </td><td>NA                              </td><td>1 </td><td>NA</td><td>NA</td><td>NA</td><td>NA</td></tr>\n",
       "\t<tr><th scope=row>144753</th><td>6024870</td><td>No, never                             </td><td>NA                                    </td><td>NA                                    </td><td>NA                              </td><td>0 </td><td>NA</td><td>NA</td><td>NA</td><td>0 </td></tr>\n",
       "\t<tr><th scope=row>144754</th><td>6024911</td><td>NA                                    </td><td>Yes, but not now, but have in the past</td><td>NA                                    </td><td>NA                              </td><td>NA</td><td>1 </td><td>NA</td><td>NA</td><td>NA</td></tr>\n",
       "\t<tr><th scope=row>144755</th><td>6025004</td><td>NA                                    </td><td>No, never                             </td><td>NA                                    </td><td>NA                              </td><td>NA</td><td>0 </td><td>NA</td><td>NA</td><td>0 </td></tr>\n",
       "\t<tr><th scope=row>144756</th><td>6025040</td><td>No, never                             </td><td>NA                                    </td><td>No, never                             </td><td>NA                              </td><td>0 </td><td>NA</td><td>0 </td><td>NA</td><td>0 </td></tr>\n",
       "\t<tr><th scope=row>144757</th><td>6025085</td><td>No, never                             </td><td>NA                                    </td><td>NA                                    </td><td>NA                              </td><td>0 </td><td>NA</td><td>NA</td><td>NA</td><td>0 </td></tr>\n",
       "\t<tr><th scope=row>144758</th><td>6025145</td><td>No, never                             </td><td>NA                                    </td><td>NA                                    </td><td>NA                              </td><td>0 </td><td>NA</td><td>NA</td><td>NA</td><td>0 </td></tr>\n",
       "\t<tr><th scope=row>144759</th><td>6025152</td><td>No, never                             </td><td>NA                                    </td><td>NA                                    </td><td>NA                              </td><td>0 </td><td>NA</td><td>NA</td><td>NA</td><td>0 </td></tr>\n",
       "\t<tr><th scope=row>144760</th><td>6025199</td><td>No, never                             </td><td>NA                                    </td><td>NA                                    </td><td>NA                              </td><td>0 </td><td>NA</td><td>NA</td><td>NA</td><td>0 </td></tr>\n",
       "\t<tr><th scope=row>144761</th><td>6025227</td><td>NA                                    </td><td>NA                                    </td><td>No, never                             </td><td>NA                              </td><td>NA</td><td>NA</td><td>0 </td><td>NA</td><td>0 </td></tr>\n",
       "\t<tr><th scope=row>144762</th><td>6025230</td><td>No, never                             </td><td>NA                                    </td><td>NA                                    </td><td>NA                              </td><td>0 </td><td>NA</td><td>NA</td><td>NA</td><td>0 </td></tr>\n",
       "\t<tr><th scope=row>144763</th><td>6025284</td><td>No, never                             </td><td>NA                                    </td><td>NA                                    </td><td>NA                              </td><td>0 </td><td>NA</td><td>NA</td><td>NA</td><td>0 </td></tr>\n",
       "\t<tr><th scope=row>144764</th><td>6025307</td><td>Yes, now most or all of the time      </td><td>NA                                    </td><td>NA                                    </td><td>NA                              </td><td>1 </td><td>NA</td><td>NA</td><td>NA</td><td>NA</td></tr>\n",
       "\t<tr><th scope=row>144765</th><td>6025319</td><td>No, never                             </td><td>NA                                    </td><td>NA                                    </td><td>NA                              </td><td>0 </td><td>NA</td><td>NA</td><td>NA</td><td>0 </td></tr>\n",
       "\t<tr><th scope=row>144766</th><td>6025354</td><td>No, never                             </td><td>NA                                    </td><td>NA                                    </td><td>NA                              </td><td>0 </td><td>NA</td><td>NA</td><td>NA</td><td>0 </td></tr>\n",
       "\t<tr><th scope=row>144767</th><td>6025411</td><td>No, never                             </td><td>NA                                    </td><td>NA                                    </td><td>NA                              </td><td>0 </td><td>NA</td><td>NA</td><td>NA</td><td>0 </td></tr>\n",
       "</tbody>\n",
       "</table>\n"
      ],
      "text/latex": [
       "A data.frame: 142521 × 10\n",
       "\\begin{tabular}{r|llllllllll}\n",
       "  & IID & f.4803.0.0 & f.4803.1.0 & f.4803.2.0 & f.4803.3.0 & f.4803.0.0\\_recode & f.4803.1.0\\_recode & f.4803.2.0\\_recode & f.4803.3.0\\_recode & controls\\\\\n",
       "  & <int> & <fct> & <fct> & <fct> & <fct> & <fct> & <fct> & <fct> & <fct> & <chr>\\\\\n",
       "\\hline\n",
       "\t1 & 1000046 & NA                                     & NA        & No, never                              & NA & NA & NA & 0  & NA & 0 \\\\\n",
       "\t2 & 1000063 & No, never                              & NA        & NA                                     & NA & 0  & NA & NA & NA & 0 \\\\\n",
       "\t3 & 1000078 & NA                                     & No, never & No, never                              & NA & NA & 0  & 0  & NA & 0 \\\\\n",
       "\t4 & 1000105 & Yes, but not now, but have in the past & NA        & NA                                     & NA & 1  & NA & NA & NA & NA\\\\\n",
       "\t5 & 1000112 & NA                                     & NA        & No, never                              & NA & NA & NA & 0  & NA & 0 \\\\\n",
       "\t6 & 1000141 & No, never                              & NA        & NA                                     & NA & 0  & NA & NA & NA & 0 \\\\\n",
       "\t7 & 1000236 & No, never                              & NA        & No, never                              & NA & 0  & NA & 0  & NA & 0 \\\\\n",
       "\t8 & 1000248 & No, never                              & NA        & NA                                     & NA & 0  & NA & NA & NA & 0 \\\\\n",
       "\t9 & 1000269 & NA                                     & NA        & No, never                              & NA & NA & NA & 0  & NA & 0 \\\\\n",
       "\t10 & 1000340 & No, never                              & NA        & NA                                     & NA & 0  & NA & NA & NA & 0 \\\\\n",
       "\t11 & 1000357 & Yes, but not now, but have in the past & NA        & NA                                     & NA & 1  & NA & NA & NA & NA\\\\\n",
       "\t12 & 1000379 & No, never                              & NA        & NA                                     & NA & 0  & NA & NA & NA & 0 \\\\\n",
       "\t13 & 1000421 & No, never                              & NA        & NA                                     & NA & 0  & NA & NA & NA & 0 \\\\\n",
       "\t14 & 1000443 & NA                                     & NA        & Yes, but not now, but have in the past & NA & NA & NA & 1  & NA & NA\\\\\n",
       "\t15 & 1000494 & Yes, but not now, but have in the past & NA        & NA                                     & NA & 1  & NA & NA & NA & NA\\\\\n",
       "\t16 & 1000516 & No, never                              & NA        & NA                                     & NA & 0  & NA & NA & NA & 0 \\\\\n",
       "\t17 & 1000527 & No, never                              & NA        & NA                                     & NA & 0  & NA & NA & NA & 0 \\\\\n",
       "\t18 & 1000530 & No, never                              & NA        & NA                                     & NA & 0  & NA & NA & NA & 0 \\\\\n",
       "\t19 & 1000549 & No, never                              & NA        & NA                                     & NA & 0  & NA & NA & NA & 0 \\\\\n",
       "\t20 & 1000584 & No, never                              & NA        & NA                                     & NA & 0  & NA & NA & NA & 0 \\\\\n",
       "\t21 & 1000609 & NA                                     & No, never & NA                                     & NA & NA & 0  & NA & NA & 0 \\\\\n",
       "\t22 & 1000611 & No, never                              & NA        & NA                                     & NA & 0  & NA & NA & NA & 0 \\\\\n",
       "\t23 & 1000625 & Yes, but not now, but have in the past & NA        & NA                                     & NA & 1  & NA & NA & NA & NA\\\\\n",
       "\t24 & 1000642 & No, never                              & NA        & NA                                     & NA & 0  & NA & NA & NA & 0 \\\\\n",
       "\t25 & 1000683 & No, never                              & No, never & NA                                     & NA & 0  & 0  & NA & NA & 0 \\\\\n",
       "\t26 & 1000713 & Yes, now a lot of the time             & NA        & Yes, but not now, but have in the past & NA & 1  & NA & 1  & NA & NA\\\\\n",
       "\t27 & 1000728 & Yes, now most or all of the time       & NA        & NA                                     & NA & 1  & NA & NA & NA & NA\\\\\n",
       "\t28 & 1000734 & No, never                              & NA        & NA                                     & NA & 0  & NA & NA & NA & 0 \\\\\n",
       "\t29 & 1000745 & Yes, but not now, but have in the past & NA        & NA                                     & NA & 1  & NA & NA & NA & NA\\\\\n",
       "\t30 & 1000780 & No, never                              & NA        & NA                                     & NA & 0  & NA & NA & NA & 0 \\\\\n",
       "\t⋮ & ⋮ & ⋮ & ⋮ & ⋮ & ⋮ & ⋮ & ⋮ & ⋮ & ⋮ & ⋮\\\\\n",
       "\t144738 & 6024294 & No, never                              & NA                                     & NA                                     & NA                               & 0  & NA & NA & NA & 0 \\\\\n",
       "\t144739 & 6024345 & NA                                     & No, never                              & NA                                     & NA                               & NA & 0  & NA & NA & 0 \\\\\n",
       "\t144740 & 6024380 & No, never                              & NA                                     & NA                                     & NA                               & 0  & NA & NA & NA & 0 \\\\\n",
       "\t144741 & 6024399 & Yes, now a lot of the time             & NA                                     & NA                                     & NA                               & 1  & NA & NA & NA & NA\\\\\n",
       "\t144742 & 6024403 & Yes, now some of the time              & NA                                     & NA                                     & NA                               & 1  & NA & NA & NA & NA\\\\\n",
       "\t144743 & 6024487 & Yes, now some of the time              & NA                                     & NA                                     & NA                               & 1  & NA & NA & NA & NA\\\\\n",
       "\t144744 & 6024491 & No, never                              & NA                                     & NA                                     & NA                               & 0  & NA & NA & NA & 0 \\\\\n",
       "\t144745 & 6024535 & No, never                              & NA                                     & NA                                     & NA                               & 0  & NA & NA & NA & 0 \\\\\n",
       "\t144746 & 6024546 & Yes, but not now, but have in the past & NA                                     & NA                                     & NA                               & 1  & NA & NA & NA & NA\\\\\n",
       "\t144747 & 6024581 & Yes, but not now, but have in the past & NA                                     & Yes, now some of the time              & Yes, now most or all of the time & 1  & NA & 1  & 1  & NA\\\\\n",
       "\t144748 & 6024614 & No, never                              & NA                                     & NA                                     & NA                               & 0  & NA & NA & NA & 0 \\\\\n",
       "\t144749 & 6024620 & Yes, now most or all of the time       & NA                                     & Yes, now most or all of the time       & NA                               & 1  & NA & 1  & NA & NA\\\\\n",
       "\t144750 & 6024671 & NA                                     & NA                                     & Yes, but not now, but have in the past & NA                               & NA & NA & 1  & NA & NA\\\\\n",
       "\t144751 & 6024785 & NA                                     & NA                                     & No, never                              & NA                               & NA & NA & 0  & NA & 0 \\\\\n",
       "\t144752 & 6024812 & Yes, now most or all of the time       & NA                                     & NA                                     & NA                               & 1  & NA & NA & NA & NA\\\\\n",
       "\t144753 & 6024870 & No, never                              & NA                                     & NA                                     & NA                               & 0  & NA & NA & NA & 0 \\\\\n",
       "\t144754 & 6024911 & NA                                     & Yes, but not now, but have in the past & NA                                     & NA                               & NA & 1  & NA & NA & NA\\\\\n",
       "\t144755 & 6025004 & NA                                     & No, never                              & NA                                     & NA                               & NA & 0  & NA & NA & 0 \\\\\n",
       "\t144756 & 6025040 & No, never                              & NA                                     & No, never                              & NA                               & 0  & NA & 0  & NA & 0 \\\\\n",
       "\t144757 & 6025085 & No, never                              & NA                                     & NA                                     & NA                               & 0  & NA & NA & NA & 0 \\\\\n",
       "\t144758 & 6025145 & No, never                              & NA                                     & NA                                     & NA                               & 0  & NA & NA & NA & 0 \\\\\n",
       "\t144759 & 6025152 & No, never                              & NA                                     & NA                                     & NA                               & 0  & NA & NA & NA & 0 \\\\\n",
       "\t144760 & 6025199 & No, never                              & NA                                     & NA                                     & NA                               & 0  & NA & NA & NA & 0 \\\\\n",
       "\t144761 & 6025227 & NA                                     & NA                                     & No, never                              & NA                               & NA & NA & 0  & NA & 0 \\\\\n",
       "\t144762 & 6025230 & No, never                              & NA                                     & NA                                     & NA                               & 0  & NA & NA & NA & 0 \\\\\n",
       "\t144763 & 6025284 & No, never                              & NA                                     & NA                                     & NA                               & 0  & NA & NA & NA & 0 \\\\\n",
       "\t144764 & 6025307 & Yes, now most or all of the time       & NA                                     & NA                                     & NA                               & 1  & NA & NA & NA & NA\\\\\n",
       "\t144765 & 6025319 & No, never                              & NA                                     & NA                                     & NA                               & 0  & NA & NA & NA & 0 \\\\\n",
       "\t144766 & 6025354 & No, never                              & NA                                     & NA                                     & NA                               & 0  & NA & NA & NA & 0 \\\\\n",
       "\t144767 & 6025411 & No, never                              & NA                                     & NA                                     & NA                               & 0  & NA & NA & NA & 0 \\\\\n",
       "\\end{tabular}\n"
      ],
      "text/markdown": [
       "\n",
       "A data.frame: 142521 × 10\n",
       "\n",
       "| <!--/--> | IID &lt;int&gt; | f.4803.0.0 &lt;fct&gt; | f.4803.1.0 &lt;fct&gt; | f.4803.2.0 &lt;fct&gt; | f.4803.3.0 &lt;fct&gt; | f.4803.0.0_recode &lt;fct&gt; | f.4803.1.0_recode &lt;fct&gt; | f.4803.2.0_recode &lt;fct&gt; | f.4803.3.0_recode &lt;fct&gt; | controls &lt;chr&gt; |\n",
       "|---|---|---|---|---|---|---|---|---|---|---|\n",
       "| 1 | 1000046 | NA                                     | NA        | No, never                              | NA | NA | NA | 0  | NA | 0  |\n",
       "| 2 | 1000063 | No, never                              | NA        | NA                                     | NA | 0  | NA | NA | NA | 0  |\n",
       "| 3 | 1000078 | NA                                     | No, never | No, never                              | NA | NA | 0  | 0  | NA | 0  |\n",
       "| 4 | 1000105 | Yes, but not now, but have in the past | NA        | NA                                     | NA | 1  | NA | NA | NA | NA |\n",
       "| 5 | 1000112 | NA                                     | NA        | No, never                              | NA | NA | NA | 0  | NA | 0  |\n",
       "| 6 | 1000141 | No, never                              | NA        | NA                                     | NA | 0  | NA | NA | NA | 0  |\n",
       "| 7 | 1000236 | No, never                              | NA        | No, never                              | NA | 0  | NA | 0  | NA | 0  |\n",
       "| 8 | 1000248 | No, never                              | NA        | NA                                     | NA | 0  | NA | NA | NA | 0  |\n",
       "| 9 | 1000269 | NA                                     | NA        | No, never                              | NA | NA | NA | 0  | NA | 0  |\n",
       "| 10 | 1000340 | No, never                              | NA        | NA                                     | NA | 0  | NA | NA | NA | 0  |\n",
       "| 11 | 1000357 | Yes, but not now, but have in the past | NA        | NA                                     | NA | 1  | NA | NA | NA | NA |\n",
       "| 12 | 1000379 | No, never                              | NA        | NA                                     | NA | 0  | NA | NA | NA | 0  |\n",
       "| 13 | 1000421 | No, never                              | NA        | NA                                     | NA | 0  | NA | NA | NA | 0  |\n",
       "| 14 | 1000443 | NA                                     | NA        | Yes, but not now, but have in the past | NA | NA | NA | 1  | NA | NA |\n",
       "| 15 | 1000494 | Yes, but not now, but have in the past | NA        | NA                                     | NA | 1  | NA | NA | NA | NA |\n",
       "| 16 | 1000516 | No, never                              | NA        | NA                                     | NA | 0  | NA | NA | NA | 0  |\n",
       "| 17 | 1000527 | No, never                              | NA        | NA                                     | NA | 0  | NA | NA | NA | 0  |\n",
       "| 18 | 1000530 | No, never                              | NA        | NA                                     | NA | 0  | NA | NA | NA | 0  |\n",
       "| 19 | 1000549 | No, never                              | NA        | NA                                     | NA | 0  | NA | NA | NA | 0  |\n",
       "| 20 | 1000584 | No, never                              | NA        | NA                                     | NA | 0  | NA | NA | NA | 0  |\n",
       "| 21 | 1000609 | NA                                     | No, never | NA                                     | NA | NA | 0  | NA | NA | 0  |\n",
       "| 22 | 1000611 | No, never                              | NA        | NA                                     | NA | 0  | NA | NA | NA | 0  |\n",
       "| 23 | 1000625 | Yes, but not now, but have in the past | NA        | NA                                     | NA | 1  | NA | NA | NA | NA |\n",
       "| 24 | 1000642 | No, never                              | NA        | NA                                     | NA | 0  | NA | NA | NA | 0  |\n",
       "| 25 | 1000683 | No, never                              | No, never | NA                                     | NA | 0  | 0  | NA | NA | 0  |\n",
       "| 26 | 1000713 | Yes, now a lot of the time             | NA        | Yes, but not now, but have in the past | NA | 1  | NA | 1  | NA | NA |\n",
       "| 27 | 1000728 | Yes, now most or all of the time       | NA        | NA                                     | NA | 1  | NA | NA | NA | NA |\n",
       "| 28 | 1000734 | No, never                              | NA        | NA                                     | NA | 0  | NA | NA | NA | 0  |\n",
       "| 29 | 1000745 | Yes, but not now, but have in the past | NA        | NA                                     | NA | 1  | NA | NA | NA | NA |\n",
       "| 30 | 1000780 | No, never                              | NA        | NA                                     | NA | 0  | NA | NA | NA | 0  |\n",
       "| ⋮ | ⋮ | ⋮ | ⋮ | ⋮ | ⋮ | ⋮ | ⋮ | ⋮ | ⋮ | ⋮ |\n",
       "| 144738 | 6024294 | No, never                              | NA                                     | NA                                     | NA                               | 0  | NA | NA | NA | 0  |\n",
       "| 144739 | 6024345 | NA                                     | No, never                              | NA                                     | NA                               | NA | 0  | NA | NA | 0  |\n",
       "| 144740 | 6024380 | No, never                              | NA                                     | NA                                     | NA                               | 0  | NA | NA | NA | 0  |\n",
       "| 144741 | 6024399 | Yes, now a lot of the time             | NA                                     | NA                                     | NA                               | 1  | NA | NA | NA | NA |\n",
       "| 144742 | 6024403 | Yes, now some of the time              | NA                                     | NA                                     | NA                               | 1  | NA | NA | NA | NA |\n",
       "| 144743 | 6024487 | Yes, now some of the time              | NA                                     | NA                                     | NA                               | 1  | NA | NA | NA | NA |\n",
       "| 144744 | 6024491 | No, never                              | NA                                     | NA                                     | NA                               | 0  | NA | NA | NA | 0  |\n",
       "| 144745 | 6024535 | No, never                              | NA                                     | NA                                     | NA                               | 0  | NA | NA | NA | 0  |\n",
       "| 144746 | 6024546 | Yes, but not now, but have in the past | NA                                     | NA                                     | NA                               | 1  | NA | NA | NA | NA |\n",
       "| 144747 | 6024581 | Yes, but not now, but have in the past | NA                                     | Yes, now some of the time              | Yes, now most or all of the time | 1  | NA | 1  | 1  | NA |\n",
       "| 144748 | 6024614 | No, never                              | NA                                     | NA                                     | NA                               | 0  | NA | NA | NA | 0  |\n",
       "| 144749 | 6024620 | Yes, now most or all of the time       | NA                                     | Yes, now most or all of the time       | NA                               | 1  | NA | 1  | NA | NA |\n",
       "| 144750 | 6024671 | NA                                     | NA                                     | Yes, but not now, but have in the past | NA                               | NA | NA | 1  | NA | NA |\n",
       "| 144751 | 6024785 | NA                                     | NA                                     | No, never                              | NA                               | NA | NA | 0  | NA | 0  |\n",
       "| 144752 | 6024812 | Yes, now most or all of the time       | NA                                     | NA                                     | NA                               | 1  | NA | NA | NA | NA |\n",
       "| 144753 | 6024870 | No, never                              | NA                                     | NA                                     | NA                               | 0  | NA | NA | NA | 0  |\n",
       "| 144754 | 6024911 | NA                                     | Yes, but not now, but have in the past | NA                                     | NA                               | NA | 1  | NA | NA | NA |\n",
       "| 144755 | 6025004 | NA                                     | No, never                              | NA                                     | NA                               | NA | 0  | NA | NA | 0  |\n",
       "| 144756 | 6025040 | No, never                              | NA                                     | No, never                              | NA                               | 0  | NA | 0  | NA | 0  |\n",
       "| 144757 | 6025085 | No, never                              | NA                                     | NA                                     | NA                               | 0  | NA | NA | NA | 0  |\n",
       "| 144758 | 6025145 | No, never                              | NA                                     | NA                                     | NA                               | 0  | NA | NA | NA | 0  |\n",
       "| 144759 | 6025152 | No, never                              | NA                                     | NA                                     | NA                               | 0  | NA | NA | NA | 0  |\n",
       "| 144760 | 6025199 | No, never                              | NA                                     | NA                                     | NA                               | 0  | NA | NA | NA | 0  |\n",
       "| 144761 | 6025227 | NA                                     | NA                                     | No, never                              | NA                               | NA | NA | 0  | NA | 0  |\n",
       "| 144762 | 6025230 | No, never                              | NA                                     | NA                                     | NA                               | 0  | NA | NA | NA | 0  |\n",
       "| 144763 | 6025284 | No, never                              | NA                                     | NA                                     | NA                               | 0  | NA | NA | NA | 0  |\n",
       "| 144764 | 6025307 | Yes, now most or all of the time       | NA                                     | NA                                     | NA                               | 1  | NA | NA | NA | NA |\n",
       "| 144765 | 6025319 | No, never                              | NA                                     | NA                                     | NA                               | 0  | NA | NA | NA | 0  |\n",
       "| 144766 | 6025354 | No, never                              | NA                                     | NA                                     | NA                               | 0  | NA | NA | NA | 0  |\n",
       "| 144767 | 6025411 | No, never                              | NA                                     | NA                                     | NA                               | 0  | NA | NA | NA | 0  |\n",
       "\n"
      ],
      "text/plain": [
       "       IID     f.4803.0.0                            \n",
       "1      1000046 NA                                    \n",
       "2      1000063 No, never                             \n",
       "3      1000078 NA                                    \n",
       "4      1000105 Yes, but not now, but have in the past\n",
       "5      1000112 NA                                    \n",
       "6      1000141 No, never                             \n",
       "7      1000236 No, never                             \n",
       "8      1000248 No, never                             \n",
       "9      1000269 NA                                    \n",
       "10     1000340 No, never                             \n",
       "11     1000357 Yes, but not now, but have in the past\n",
       "12     1000379 No, never                             \n",
       "13     1000421 No, never                             \n",
       "14     1000443 NA                                    \n",
       "15     1000494 Yes, but not now, but have in the past\n",
       "16     1000516 No, never                             \n",
       "17     1000527 No, never                             \n",
       "18     1000530 No, never                             \n",
       "19     1000549 No, never                             \n",
       "20     1000584 No, never                             \n",
       "21     1000609 NA                                    \n",
       "22     1000611 No, never                             \n",
       "23     1000625 Yes, but not now, but have in the past\n",
       "24     1000642 No, never                             \n",
       "25     1000683 No, never                             \n",
       "26     1000713 Yes, now a lot of the time            \n",
       "27     1000728 Yes, now most or all of the time      \n",
       "28     1000734 No, never                             \n",
       "29     1000745 Yes, but not now, but have in the past\n",
       "30     1000780 No, never                             \n",
       "⋮      ⋮       ⋮                                     \n",
       "144738 6024294 No, never                             \n",
       "144739 6024345 NA                                    \n",
       "144740 6024380 No, never                             \n",
       "144741 6024399 Yes, now a lot of the time            \n",
       "144742 6024403 Yes, now some of the time             \n",
       "144743 6024487 Yes, now some of the time             \n",
       "144744 6024491 No, never                             \n",
       "144745 6024535 No, never                             \n",
       "144746 6024546 Yes, but not now, but have in the past\n",
       "144747 6024581 Yes, but not now, but have in the past\n",
       "144748 6024614 No, never                             \n",
       "144749 6024620 Yes, now most or all of the time      \n",
       "144750 6024671 NA                                    \n",
       "144751 6024785 NA                                    \n",
       "144752 6024812 Yes, now most or all of the time      \n",
       "144753 6024870 No, never                             \n",
       "144754 6024911 NA                                    \n",
       "144755 6025004 NA                                    \n",
       "144756 6025040 No, never                             \n",
       "144757 6025085 No, never                             \n",
       "144758 6025145 No, never                             \n",
       "144759 6025152 No, never                             \n",
       "144760 6025199 No, never                             \n",
       "144761 6025227 NA                                    \n",
       "144762 6025230 No, never                             \n",
       "144763 6025284 No, never                             \n",
       "144764 6025307 Yes, now most or all of the time      \n",
       "144765 6025319 No, never                             \n",
       "144766 6025354 No, never                             \n",
       "144767 6025411 No, never                             \n",
       "       f.4803.1.0                            \n",
       "1      NA                                    \n",
       "2      NA                                    \n",
       "3      No, never                             \n",
       "4      NA                                    \n",
       "5      NA                                    \n",
       "6      NA                                    \n",
       "7      NA                                    \n",
       "8      NA                                    \n",
       "9      NA                                    \n",
       "10     NA                                    \n",
       "11     NA                                    \n",
       "12     NA                                    \n",
       "13     NA                                    \n",
       "14     NA                                    \n",
       "15     NA                                    \n",
       "16     NA                                    \n",
       "17     NA                                    \n",
       "18     NA                                    \n",
       "19     NA                                    \n",
       "20     NA                                    \n",
       "21     No, never                             \n",
       "22     NA                                    \n",
       "23     NA                                    \n",
       "24     NA                                    \n",
       "25     No, never                             \n",
       "26     NA                                    \n",
       "27     NA                                    \n",
       "28     NA                                    \n",
       "29     NA                                    \n",
       "30     NA                                    \n",
       "⋮      ⋮                                     \n",
       "144738 NA                                    \n",
       "144739 No, never                             \n",
       "144740 NA                                    \n",
       "144741 NA                                    \n",
       "144742 NA                                    \n",
       "144743 NA                                    \n",
       "144744 NA                                    \n",
       "144745 NA                                    \n",
       "144746 NA                                    \n",
       "144747 NA                                    \n",
       "144748 NA                                    \n",
       "144749 NA                                    \n",
       "144750 NA                                    \n",
       "144751 NA                                    \n",
       "144752 NA                                    \n",
       "144753 NA                                    \n",
       "144754 Yes, but not now, but have in the past\n",
       "144755 No, never                             \n",
       "144756 NA                                    \n",
       "144757 NA                                    \n",
       "144758 NA                                    \n",
       "144759 NA                                    \n",
       "144760 NA                                    \n",
       "144761 NA                                    \n",
       "144762 NA                                    \n",
       "144763 NA                                    \n",
       "144764 NA                                    \n",
       "144765 NA                                    \n",
       "144766 NA                                    \n",
       "144767 NA                                    \n",
       "       f.4803.2.0                             f.4803.3.0                      \n",
       "1      No, never                              NA                              \n",
       "2      NA                                     NA                              \n",
       "3      No, never                              NA                              \n",
       "4      NA                                     NA                              \n",
       "5      No, never                              NA                              \n",
       "6      NA                                     NA                              \n",
       "7      No, never                              NA                              \n",
       "8      NA                                     NA                              \n",
       "9      No, never                              NA                              \n",
       "10     NA                                     NA                              \n",
       "11     NA                                     NA                              \n",
       "12     NA                                     NA                              \n",
       "13     NA                                     NA                              \n",
       "14     Yes, but not now, but have in the past NA                              \n",
       "15     NA                                     NA                              \n",
       "16     NA                                     NA                              \n",
       "17     NA                                     NA                              \n",
       "18     NA                                     NA                              \n",
       "19     NA                                     NA                              \n",
       "20     NA                                     NA                              \n",
       "21     NA                                     NA                              \n",
       "22     NA                                     NA                              \n",
       "23     NA                                     NA                              \n",
       "24     NA                                     NA                              \n",
       "25     NA                                     NA                              \n",
       "26     Yes, but not now, but have in the past NA                              \n",
       "27     NA                                     NA                              \n",
       "28     NA                                     NA                              \n",
       "29     NA                                     NA                              \n",
       "30     NA                                     NA                              \n",
       "⋮      ⋮                                      ⋮                               \n",
       "144738 NA                                     NA                              \n",
       "144739 NA                                     NA                              \n",
       "144740 NA                                     NA                              \n",
       "144741 NA                                     NA                              \n",
       "144742 NA                                     NA                              \n",
       "144743 NA                                     NA                              \n",
       "144744 NA                                     NA                              \n",
       "144745 NA                                     NA                              \n",
       "144746 NA                                     NA                              \n",
       "144747 Yes, now some of the time              Yes, now most or all of the time\n",
       "144748 NA                                     NA                              \n",
       "144749 Yes, now most or all of the time       NA                              \n",
       "144750 Yes, but not now, but have in the past NA                              \n",
       "144751 No, never                              NA                              \n",
       "144752 NA                                     NA                              \n",
       "144753 NA                                     NA                              \n",
       "144754 NA                                     NA                              \n",
       "144755 NA                                     NA                              \n",
       "144756 No, never                              NA                              \n",
       "144757 NA                                     NA                              \n",
       "144758 NA                                     NA                              \n",
       "144759 NA                                     NA                              \n",
       "144760 NA                                     NA                              \n",
       "144761 No, never                              NA                              \n",
       "144762 NA                                     NA                              \n",
       "144763 NA                                     NA                              \n",
       "144764 NA                                     NA                              \n",
       "144765 NA                                     NA                              \n",
       "144766 NA                                     NA                              \n",
       "144767 NA                                     NA                              \n",
       "       f.4803.0.0_recode f.4803.1.0_recode f.4803.2.0_recode f.4803.3.0_recode\n",
       "1      NA                NA                0                 NA               \n",
       "2      0                 NA                NA                NA               \n",
       "3      NA                0                 0                 NA               \n",
       "4      1                 NA                NA                NA               \n",
       "5      NA                NA                0                 NA               \n",
       "6      0                 NA                NA                NA               \n",
       "7      0                 NA                0                 NA               \n",
       "8      0                 NA                NA                NA               \n",
       "9      NA                NA                0                 NA               \n",
       "10     0                 NA                NA                NA               \n",
       "11     1                 NA                NA                NA               \n",
       "12     0                 NA                NA                NA               \n",
       "13     0                 NA                NA                NA               \n",
       "14     NA                NA                1                 NA               \n",
       "15     1                 NA                NA                NA               \n",
       "16     0                 NA                NA                NA               \n",
       "17     0                 NA                NA                NA               \n",
       "18     0                 NA                NA                NA               \n",
       "19     0                 NA                NA                NA               \n",
       "20     0                 NA                NA                NA               \n",
       "21     NA                0                 NA                NA               \n",
       "22     0                 NA                NA                NA               \n",
       "23     1                 NA                NA                NA               \n",
       "24     0                 NA                NA                NA               \n",
       "25     0                 0                 NA                NA               \n",
       "26     1                 NA                1                 NA               \n",
       "27     1                 NA                NA                NA               \n",
       "28     0                 NA                NA                NA               \n",
       "29     1                 NA                NA                NA               \n",
       "30     0                 NA                NA                NA               \n",
       "⋮      ⋮                 ⋮                 ⋮                 ⋮                \n",
       "144738 0                 NA                NA                NA               \n",
       "144739 NA                0                 NA                NA               \n",
       "144740 0                 NA                NA                NA               \n",
       "144741 1                 NA                NA                NA               \n",
       "144742 1                 NA                NA                NA               \n",
       "144743 1                 NA                NA                NA               \n",
       "144744 0                 NA                NA                NA               \n",
       "144745 0                 NA                NA                NA               \n",
       "144746 1                 NA                NA                NA               \n",
       "144747 1                 NA                1                 1                \n",
       "144748 0                 NA                NA                NA               \n",
       "144749 1                 NA                1                 NA               \n",
       "144750 NA                NA                1                 NA               \n",
       "144751 NA                NA                0                 NA               \n",
       "144752 1                 NA                NA                NA               \n",
       "144753 0                 NA                NA                NA               \n",
       "144754 NA                1                 NA                NA               \n",
       "144755 NA                0                 NA                NA               \n",
       "144756 0                 NA                0                 NA               \n",
       "144757 0                 NA                NA                NA               \n",
       "144758 0                 NA                NA                NA               \n",
       "144759 0                 NA                NA                NA               \n",
       "144760 0                 NA                NA                NA               \n",
       "144761 NA                NA                0                 NA               \n",
       "144762 0                 NA                NA                NA               \n",
       "144763 0                 NA                NA                NA               \n",
       "144764 1                 NA                NA                NA               \n",
       "144765 0                 NA                NA                NA               \n",
       "144766 0                 NA                NA                NA               \n",
       "144767 0                 NA                NA                NA               \n",
       "       controls\n",
       "1      0       \n",
       "2      0       \n",
       "3      0       \n",
       "4      NA      \n",
       "5      0       \n",
       "6      0       \n",
       "7      0       \n",
       "8      0       \n",
       "9      0       \n",
       "10     0       \n",
       "11     NA      \n",
       "12     0       \n",
       "13     0       \n",
       "14     NA      \n",
       "15     NA      \n",
       "16     0       \n",
       "17     0       \n",
       "18     0       \n",
       "19     0       \n",
       "20     0       \n",
       "21     0       \n",
       "22     0       \n",
       "23     NA      \n",
       "24     0       \n",
       "25     0       \n",
       "26     NA      \n",
       "27     NA      \n",
       "28     0       \n",
       "29     NA      \n",
       "30     0       \n",
       "⋮      ⋮       \n",
       "144738 0       \n",
       "144739 0       \n",
       "144740 0       \n",
       "144741 NA      \n",
       "144742 NA      \n",
       "144743 NA      \n",
       "144744 0       \n",
       "144745 0       \n",
       "144746 NA      \n",
       "144747 NA      \n",
       "144748 0       \n",
       "144749 NA      \n",
       "144750 NA      \n",
       "144751 0       \n",
       "144752 NA      \n",
       "144753 0       \n",
       "144754 NA      \n",
       "144755 0       \n",
       "144756 0       \n",
       "144757 0       \n",
       "144758 0       \n",
       "144759 0       \n",
       "144760 0       \n",
       "144761 0       \n",
       "144762 0       \n",
       "144763 0       \n",
       "144764 NA      \n",
       "144765 0       \n",
       "144766 0       \n",
       "144767 0       "
      ]
     },
     "metadata": {},
     "output_type": "display_data"
    },
    {
     "data": {
      "text/html": [
       "<table>\n",
       "<caption>A data.frame: 6 × 1081</caption>\n",
       "<thead>\n",
       "\t<tr><th></th><th scope=col>IID</th><th scope=col>FID</th><th scope=col>ignore1</th><th scope=col>ignore2</th><th scope=col>ignore3</th><th scope=col>ignore4</th><th scope=col>f.31.0.0</th><th scope=col>f.34.0.0</th><th scope=col>f.53.0.0</th><th scope=col>f.53.1.0</th><th scope=col>⋯</th><th scope=col>f.41281.0.44</th><th scope=col>f.41281.0.45</th><th scope=col>f.41281.0.46</th><th scope=col>sex</th><th scope=col>f.4803.0.0_recode</th><th scope=col>f.4803.1.0_recode</th><th scope=col>f.4803.2.0_recode</th><th scope=col>f.4803.3.0_recode</th><th scope=col>cases</th><th scope=col>controls</th></tr>\n",
       "\t<tr><th></th><th scope=col>&lt;int&gt;</th><th scope=col>&lt;int&gt;</th><th scope=col>&lt;int&gt;</th><th scope=col>&lt;int&gt;</th><th scope=col>&lt;int&gt;</th><th scope=col>&lt;int&gt;</th><th scope=col>&lt;fct&gt;</th><th scope=col>&lt;int&gt;</th><th scope=col>&lt;fct&gt;</th><th scope=col>&lt;fct&gt;</th><th scope=col>⋯</th><th scope=col>&lt;fct&gt;</th><th scope=col>&lt;fct&gt;</th><th scope=col>&lt;fct&gt;</th><th scope=col>&lt;fct&gt;</th><th scope=col>&lt;fct&gt;</th><th scope=col>&lt;fct&gt;</th><th scope=col>&lt;fct&gt;</th><th scope=col>&lt;fct&gt;</th><th scope=col>&lt;chr&gt;</th><th scope=col>&lt;chr&gt;</th></tr>\n",
       "</thead>\n",
       "<tbody>\n",
       "\t<tr><th scope=row>1</th><td>1000046</td><td>1000046</td><td>0</td><td>0</td><td>2</td><td>-9</td><td>Female</td><td>1946</td><td>2008-12-01</td><td>NA        </td><td>⋯</td><td>NA</td><td>NA</td><td>NA</td><td>1</td><td>NA</td><td>NA</td><td>0 </td><td>NA</td><td>NA</td><td>0 </td></tr>\n",
       "\t<tr><th scope=row>2</th><td>1000063</td><td>1000063</td><td>0</td><td>0</td><td>1</td><td>-9</td><td>Male  </td><td>1967</td><td>2010-06-26</td><td>NA        </td><td>⋯</td><td>NA</td><td>NA</td><td>NA</td><td>0</td><td>0 </td><td>NA</td><td>NA</td><td>NA</td><td>NA</td><td>0 </td></tr>\n",
       "\t<tr><th scope=row>3</th><td>1000078</td><td>1000078</td><td>0</td><td>0</td><td>2</td><td>-9</td><td>Female</td><td>1955</td><td>2007-08-20</td><td>2012-11-01</td><td>⋯</td><td>NA</td><td>NA</td><td>NA</td><td>1</td><td>NA</td><td>0 </td><td>0 </td><td>NA</td><td>NA</td><td>0 </td></tr>\n",
       "\t<tr><th scope=row>4</th><td>1000105</td><td>1000105</td><td>0</td><td>0</td><td>2</td><td>-9</td><td>Female</td><td>1955</td><td>2009-06-22</td><td>NA        </td><td>⋯</td><td>NA</td><td>NA</td><td>NA</td><td>1</td><td>1 </td><td>NA</td><td>NA</td><td>NA</td><td>1 </td><td>NA</td></tr>\n",
       "\t<tr><th scope=row>5</th><td>1000112</td><td>1000112</td><td>0</td><td>0</td><td>1</td><td>-9</td><td>Male  </td><td>1949</td><td>2008-04-01</td><td>NA        </td><td>⋯</td><td>NA</td><td>NA</td><td>NA</td><td>0</td><td>NA</td><td>NA</td><td>0 </td><td>NA</td><td>NA</td><td>0 </td></tr>\n",
       "\t<tr><th scope=row>6</th><td>1000141</td><td>1000141</td><td>0</td><td>0</td><td>2</td><td>-9</td><td>Female</td><td>1959</td><td>2009-10-26</td><td>NA        </td><td>⋯</td><td>NA</td><td>NA</td><td>NA</td><td>1</td><td>0 </td><td>NA</td><td>NA</td><td>NA</td><td>NA</td><td>0 </td></tr>\n",
       "</tbody>\n",
       "</table>\n"
      ],
      "text/latex": [
       "A data.frame: 6 × 1081\n",
       "\\begin{tabular}{r|lllllllllllllllllllll}\n",
       "  & IID & FID & ignore1 & ignore2 & ignore3 & ignore4 & f.31.0.0 & f.34.0.0 & f.53.0.0 & f.53.1.0 & ⋯ & f.41281.0.44 & f.41281.0.45 & f.41281.0.46 & sex & f.4803.0.0\\_recode & f.4803.1.0\\_recode & f.4803.2.0\\_recode & f.4803.3.0\\_recode & cases & controls\\\\\n",
       "  & <int> & <int> & <int> & <int> & <int> & <int> & <fct> & <int> & <fct> & <fct> & ⋯ & <fct> & <fct> & <fct> & <fct> & <fct> & <fct> & <fct> & <fct> & <chr> & <chr>\\\\\n",
       "\\hline\n",
       "\t1 & 1000046 & 1000046 & 0 & 0 & 2 & -9 & Female & 1946 & 2008-12-01 & NA         & ⋯ & NA & NA & NA & 1 & NA & NA & 0  & NA & NA & 0 \\\\\n",
       "\t2 & 1000063 & 1000063 & 0 & 0 & 1 & -9 & Male   & 1967 & 2010-06-26 & NA         & ⋯ & NA & NA & NA & 0 & 0  & NA & NA & NA & NA & 0 \\\\\n",
       "\t3 & 1000078 & 1000078 & 0 & 0 & 2 & -9 & Female & 1955 & 2007-08-20 & 2012-11-01 & ⋯ & NA & NA & NA & 1 & NA & 0  & 0  & NA & NA & 0 \\\\\n",
       "\t4 & 1000105 & 1000105 & 0 & 0 & 2 & -9 & Female & 1955 & 2009-06-22 & NA         & ⋯ & NA & NA & NA & 1 & 1  & NA & NA & NA & 1  & NA\\\\\n",
       "\t5 & 1000112 & 1000112 & 0 & 0 & 1 & -9 & Male   & 1949 & 2008-04-01 & NA         & ⋯ & NA & NA & NA & 0 & NA & NA & 0  & NA & NA & 0 \\\\\n",
       "\t6 & 1000141 & 1000141 & 0 & 0 & 2 & -9 & Female & 1959 & 2009-10-26 & NA         & ⋯ & NA & NA & NA & 1 & 0  & NA & NA & NA & NA & 0 \\\\\n",
       "\\end{tabular}\n"
      ],
      "text/markdown": [
       "\n",
       "A data.frame: 6 × 1081\n",
       "\n",
       "| <!--/--> | IID &lt;int&gt; | FID &lt;int&gt; | ignore1 &lt;int&gt; | ignore2 &lt;int&gt; | ignore3 &lt;int&gt; | ignore4 &lt;int&gt; | f.31.0.0 &lt;fct&gt; | f.34.0.0 &lt;int&gt; | f.53.0.0 &lt;fct&gt; | f.53.1.0 &lt;fct&gt; | ⋯ ⋯ | f.41281.0.44 &lt;fct&gt; | f.41281.0.45 &lt;fct&gt; | f.41281.0.46 &lt;fct&gt; | sex &lt;fct&gt; | f.4803.0.0_recode &lt;fct&gt; | f.4803.1.0_recode &lt;fct&gt; | f.4803.2.0_recode &lt;fct&gt; | f.4803.3.0_recode &lt;fct&gt; | cases &lt;chr&gt; | controls &lt;chr&gt; |\n",
       "|---|---|---|---|---|---|---|---|---|---|---|---|---|---|---|---|---|---|---|---|---|---|\n",
       "| 1 | 1000046 | 1000046 | 0 | 0 | 2 | -9 | Female | 1946 | 2008-12-01 | NA         | ⋯ | NA | NA | NA | 1 | NA | NA | 0  | NA | NA | 0  |\n",
       "| 2 | 1000063 | 1000063 | 0 | 0 | 1 | -9 | Male   | 1967 | 2010-06-26 | NA         | ⋯ | NA | NA | NA | 0 | 0  | NA | NA | NA | NA | 0  |\n",
       "| 3 | 1000078 | 1000078 | 0 | 0 | 2 | -9 | Female | 1955 | 2007-08-20 | 2012-11-01 | ⋯ | NA | NA | NA | 1 | NA | 0  | 0  | NA | NA | 0  |\n",
       "| 4 | 1000105 | 1000105 | 0 | 0 | 2 | -9 | Female | 1955 | 2009-06-22 | NA         | ⋯ | NA | NA | NA | 1 | 1  | NA | NA | NA | 1  | NA |\n",
       "| 5 | 1000112 | 1000112 | 0 | 0 | 1 | -9 | Male   | 1949 | 2008-04-01 | NA         | ⋯ | NA | NA | NA | 0 | NA | NA | 0  | NA | NA | 0  |\n",
       "| 6 | 1000141 | 1000141 | 0 | 0 | 2 | -9 | Female | 1959 | 2009-10-26 | NA         | ⋯ | NA | NA | NA | 1 | 0  | NA | NA | NA | NA | 0  |\n",
       "\n"
      ],
      "text/plain": [
       "  IID     FID     ignore1 ignore2 ignore3 ignore4 f.31.0.0 f.34.0.0 f.53.0.0  \n",
       "1 1000046 1000046 0       0       2       -9      Female   1946     2008-12-01\n",
       "2 1000063 1000063 0       0       1       -9      Male     1967     2010-06-26\n",
       "3 1000078 1000078 0       0       2       -9      Female   1955     2007-08-20\n",
       "4 1000105 1000105 0       0       2       -9      Female   1955     2009-06-22\n",
       "5 1000112 1000112 0       0       1       -9      Male     1949     2008-04-01\n",
       "6 1000141 1000141 0       0       2       -9      Female   1959     2009-10-26\n",
       "  f.53.1.0   ⋯ f.41281.0.44 f.41281.0.45 f.41281.0.46 sex f.4803.0.0_recode\n",
       "1 NA         ⋯ NA           NA           NA           1   NA               \n",
       "2 NA         ⋯ NA           NA           NA           0   0                \n",
       "3 2012-11-01 ⋯ NA           NA           NA           1   NA               \n",
       "4 NA         ⋯ NA           NA           NA           1   1                \n",
       "5 NA         ⋯ NA           NA           NA           0   NA               \n",
       "6 NA         ⋯ NA           NA           NA           1   0                \n",
       "  f.4803.1.0_recode f.4803.2.0_recode f.4803.3.0_recode cases controls\n",
       "1 NA                0                 NA                NA    0       \n",
       "2 NA                NA                NA                NA    0       \n",
       "3 0                 0                 NA                NA    0       \n",
       "4 NA                NA                NA                1     NA      \n",
       "5 NA                0                 NA                NA    0       \n",
       "6 NA                NA                NA                NA    0       "
      ]
     },
     "metadata": {},
     "output_type": "display_data"
    }
   ],
   "source": [
    "data_p1 %>%\n",
    "select(IID,f.4803.0.0, f.4803.1.0, f.4803.2.0, f.4803.3.0, f.4803.0.0_recode, f.4803.1.0_recode, f.4803.2.0_recode, f.4803.3.0_recode,controls)\n",
    "head(data_p1)"
   ]
  },
  {
   "cell_type": "markdown",
   "metadata": {
    "kernel": "R"
   },
   "source": [
    "Create a column with the binary status for tinnitus of the individuals"
   ]
  },
  {
   "cell_type": "code",
   "execution_count": 54,
   "metadata": {
    "kernel": "R"
   },
   "outputs": [
    {
     "data": {
      "text/plain": [
       "\n",
       "    0     1 \n",
       "99411 43110 "
      ]
     },
     "metadata": {},
     "output_type": "display_data"
    }
   ],
   "source": [
    "data_p1$tinnitus <- coalesce(data_p1$cases, data_p1$controls)\n",
    "table(data_p1$tinnitus)"
   ]
  },
  {
   "cell_type": "code",
   "execution_count": 55,
   "metadata": {
    "kernel": "R"
   },
   "outputs": [
    {
     "data": {
      "text/html": [
       "0"
      ],
      "text/latex": [
       "0"
      ],
      "text/markdown": [
       "0"
      ],
      "text/plain": [
       "[1] 0"
      ]
     },
     "metadata": {},
     "output_type": "display_data"
    }
   ],
   "source": [
    "# Get the number of NAs\n",
    "length(which(is.na(data_p1$tinnitus)))"
   ]
  },
  {
   "cell_type": "markdown",
   "metadata": {
    "kernel": "R"
   },
   "source": [
    "## Obtaining the age for tinnitus cases and controls"
   ]
  },
  {
   "cell_type": "markdown",
   "metadata": {
    "kernel": "R"
   },
   "source": [
    "Get the \"age at onset\" of tinnitus using f.21003 Age when attended assessment centre for each of the instances\n",
    "For cases first time they replied yes to f.4803"
   ]
  },
  {
   "cell_type": "code",
   "execution_count": 56,
   "metadata": {
    "kernel": "R"
   },
   "outputs": [
    {
     "data": {
      "text/html": [
       "<table>\n",
       "<caption>A data.frame: 6 × 10</caption>\n",
       "<thead>\n",
       "\t<tr><th></th><th scope=col>IID</th><th scope=col>tinnitus</th><th scope=col>f.4803.0.0_recode</th><th scope=col>f.4803.1.0_recode</th><th scope=col>f.4803.2.0_recode</th><th scope=col>f.4803.3.0_recode</th><th scope=col>f.21003.0.0</th><th scope=col>f.21003.1.0</th><th scope=col>f.21003.2.0</th><th scope=col>f.21003.3.0</th></tr>\n",
       "\t<tr><th></th><th scope=col>&lt;int&gt;</th><th scope=col>&lt;chr&gt;</th><th scope=col>&lt;fct&gt;</th><th scope=col>&lt;fct&gt;</th><th scope=col>&lt;fct&gt;</th><th scope=col>&lt;fct&gt;</th><th scope=col>&lt;int&gt;</th><th scope=col>&lt;int&gt;</th><th scope=col>&lt;int&gt;</th><th scope=col>&lt;int&gt;</th></tr>\n",
       "</thead>\n",
       "<tbody>\n",
       "\t<tr><th scope=row>1</th><td>1000046</td><td>0</td><td>NA</td><td>NA</td><td>0 </td><td>NA</td><td>62</td><td>NA</td><td>73</td><td>NA</td></tr>\n",
       "\t<tr><th scope=row>2</th><td>1000063</td><td>0</td><td>0 </td><td>NA</td><td>NA</td><td>NA</td><td>43</td><td>NA</td><td>NA</td><td>NA</td></tr>\n",
       "\t<tr><th scope=row>3</th><td>1000078</td><td>0</td><td>NA</td><td>0 </td><td>0 </td><td>NA</td><td>52</td><td>57</td><td>60</td><td>NA</td></tr>\n",
       "\t<tr><th scope=row>4</th><td>1000105</td><td>1</td><td>1 </td><td>NA</td><td>NA</td><td>NA</td><td>54</td><td>NA</td><td>NA</td><td>NA</td></tr>\n",
       "\t<tr><th scope=row>5</th><td>1000112</td><td>0</td><td>NA</td><td>NA</td><td>0 </td><td>NA</td><td>58</td><td>NA</td><td>68</td><td>NA</td></tr>\n",
       "\t<tr><th scope=row>6</th><td>1000141</td><td>0</td><td>0 </td><td>NA</td><td>NA</td><td>NA</td><td>49</td><td>NA</td><td>NA</td><td>NA</td></tr>\n",
       "</tbody>\n",
       "</table>\n"
      ],
      "text/latex": [
       "A data.frame: 6 × 10\n",
       "\\begin{tabular}{r|llllllllll}\n",
       "  & IID & tinnitus & f.4803.0.0\\_recode & f.4803.1.0\\_recode & f.4803.2.0\\_recode & f.4803.3.0\\_recode & f.21003.0.0 & f.21003.1.0 & f.21003.2.0 & f.21003.3.0\\\\\n",
       "  & <int> & <chr> & <fct> & <fct> & <fct> & <fct> & <int> & <int> & <int> & <int>\\\\\n",
       "\\hline\n",
       "\t1 & 1000046 & 0 & NA & NA & 0  & NA & 62 & NA & 73 & NA\\\\\n",
       "\t2 & 1000063 & 0 & 0  & NA & NA & NA & 43 & NA & NA & NA\\\\\n",
       "\t3 & 1000078 & 0 & NA & 0  & 0  & NA & 52 & 57 & 60 & NA\\\\\n",
       "\t4 & 1000105 & 1 & 1  & NA & NA & NA & 54 & NA & NA & NA\\\\\n",
       "\t5 & 1000112 & 0 & NA & NA & 0  & NA & 58 & NA & 68 & NA\\\\\n",
       "\t6 & 1000141 & 0 & 0  & NA & NA & NA & 49 & NA & NA & NA\\\\\n",
       "\\end{tabular}\n"
      ],
      "text/markdown": [
       "\n",
       "A data.frame: 6 × 10\n",
       "\n",
       "| <!--/--> | IID &lt;int&gt; | tinnitus &lt;chr&gt; | f.4803.0.0_recode &lt;fct&gt; | f.4803.1.0_recode &lt;fct&gt; | f.4803.2.0_recode &lt;fct&gt; | f.4803.3.0_recode &lt;fct&gt; | f.21003.0.0 &lt;int&gt; | f.21003.1.0 &lt;int&gt; | f.21003.2.0 &lt;int&gt; | f.21003.3.0 &lt;int&gt; |\n",
       "|---|---|---|---|---|---|---|---|---|---|---|\n",
       "| 1 | 1000046 | 0 | NA | NA | 0  | NA | 62 | NA | 73 | NA |\n",
       "| 2 | 1000063 | 0 | 0  | NA | NA | NA | 43 | NA | NA | NA |\n",
       "| 3 | 1000078 | 0 | NA | 0  | 0  | NA | 52 | 57 | 60 | NA |\n",
       "| 4 | 1000105 | 1 | 1  | NA | NA | NA | 54 | NA | NA | NA |\n",
       "| 5 | 1000112 | 0 | NA | NA | 0  | NA | 58 | NA | 68 | NA |\n",
       "| 6 | 1000141 | 0 | 0  | NA | NA | NA | 49 | NA | NA | NA |\n",
       "\n"
      ],
      "text/plain": [
       "  IID     tinnitus f.4803.0.0_recode f.4803.1.0_recode f.4803.2.0_recode\n",
       "1 1000046 0        NA                NA                0                \n",
       "2 1000063 0        0                 NA                NA               \n",
       "3 1000078 0        NA                0                 0                \n",
       "4 1000105 1        1                 NA                NA               \n",
       "5 1000112 0        NA                NA                0                \n",
       "6 1000141 0        0                 NA                NA               \n",
       "  f.4803.3.0_recode f.21003.0.0 f.21003.1.0 f.21003.2.0 f.21003.3.0\n",
       "1 NA                62          NA          73          NA         \n",
       "2 NA                43          NA          NA          NA         \n",
       "3 NA                52          57          60          NA         \n",
       "4 NA                54          NA          NA          NA         \n",
       "5 NA                58          NA          68          NA         \n",
       "6 NA                49          NA          NA          NA         "
      ]
     },
     "metadata": {},
     "output_type": "display_data"
    }
   ],
   "source": [
    "# Get the subset of data to extract age\n",
    "age_all = data_p1 %>% \n",
    "  filter(!is.na(tinnitus)) %>%\n",
    "  select(IID,tinnitus, f.4803.0.0_recode, f.4803.1.0_recode, f.4803.2.0_recode, f.4803.3.0_recode, f.21003.0.0, f.21003.1.0, f.21003.2.0, f.21003.3.0)  # data_filed 210003: Age when attended assessment centre\n",
    "head(age_all)"
   ]
  },
  {
   "cell_type": "code",
   "execution_count": 57,
   "metadata": {
    "kernel": "R"
   },
   "outputs": [
    {
     "data": {
      "text/html": [
       "<table>\n",
       "<caption>A data.frame: 12 × 9</caption>\n",
       "<thead>\n",
       "\t<tr><th></th><th scope=col>IID</th><th scope=col>f.4803.0.0_recode</th><th scope=col>f.4803.1.0_recode</th><th scope=col>f.4803.2.0_recode</th><th scope=col>f.4803.3.0_recode</th><th scope=col>f.21003.0.0</th><th scope=col>f.21003.1.0</th><th scope=col>f.21003.2.0</th><th scope=col>f.21003.3.0</th></tr>\n",
       "\t<tr><th></th><th scope=col>&lt;int&gt;</th><th scope=col>&lt;fct&gt;</th><th scope=col>&lt;fct&gt;</th><th scope=col>&lt;fct&gt;</th><th scope=col>&lt;fct&gt;</th><th scope=col>&lt;int&gt;</th><th scope=col>&lt;int&gt;</th><th scope=col>&lt;int&gt;</th><th scope=col>&lt;int&gt;</th></tr>\n",
       "</thead>\n",
       "<tbody>\n",
       "\t<tr><th scope=row>1</th><td>1000105</td><td>1 </td><td>NA</td><td>NA</td><td>NA</td><td>54</td><td>NA</td><td>NA</td><td>NA</td></tr>\n",
       "\t<tr><th scope=row>2</th><td>1000357</td><td>1 </td><td>NA</td><td>NA</td><td>NA</td><td>69</td><td>NA</td><td>NA</td><td>NA</td></tr>\n",
       "\t<tr><th scope=row>3</th><td>1000443</td><td>NA</td><td>NA</td><td>1 </td><td>NA</td><td>45</td><td>NA</td><td>52</td><td>NA</td></tr>\n",
       "\t<tr><th scope=row>4</th><td>1000494</td><td>1 </td><td>NA</td><td>NA</td><td>NA</td><td>61</td><td>NA</td><td>NA</td><td>NA</td></tr>\n",
       "\t<tr><th scope=row>5</th><td>1000625</td><td>1 </td><td>NA</td><td>NA</td><td>NA</td><td>60</td><td>NA</td><td>NA</td><td>NA</td></tr>\n",
       "\t<tr><th scope=row>6</th><td>1000713</td><td>1 </td><td>NA</td><td>1 </td><td>NA</td><td>58</td><td>NA</td><td>67</td><td>NA</td></tr>\n",
       "\t<tr><th scope=row>7</th><td>1000728</td><td>1 </td><td>NA</td><td>NA</td><td>NA</td><td>61</td><td>NA</td><td>NA</td><td>NA</td></tr>\n",
       "\t<tr><th scope=row>8</th><td>1000745</td><td>1 </td><td>NA</td><td>NA</td><td>NA</td><td>60</td><td>NA</td><td>NA</td><td>NA</td></tr>\n",
       "\t<tr><th scope=row>9</th><td>1000875</td><td>1 </td><td>NA</td><td>NA</td><td>NA</td><td>59</td><td>NA</td><td>NA</td><td>NA</td></tr>\n",
       "\t<tr><th scope=row>10</th><td>1000992</td><td>NA</td><td>NA</td><td>1 </td><td>NA</td><td>48</td><td>NA</td><td>56</td><td>NA</td></tr>\n",
       "\t<tr><th scope=row>11</th><td>1001045</td><td>1 </td><td>NA</td><td>NA</td><td>NA</td><td>61</td><td>NA</td><td>NA</td><td>NA</td></tr>\n",
       "\t<tr><th scope=row>12</th><td>1001052</td><td>1 </td><td>NA</td><td>NA</td><td>NA</td><td>64</td><td>NA</td><td>NA</td><td>NA</td></tr>\n",
       "</tbody>\n",
       "</table>\n"
      ],
      "text/latex": [
       "A data.frame: 12 × 9\n",
       "\\begin{tabular}{r|lllllllll}\n",
       "  & IID & f.4803.0.0\\_recode & f.4803.1.0\\_recode & f.4803.2.0\\_recode & f.4803.3.0\\_recode & f.21003.0.0 & f.21003.1.0 & f.21003.2.0 & f.21003.3.0\\\\\n",
       "  & <int> & <fct> & <fct> & <fct> & <fct> & <int> & <int> & <int> & <int>\\\\\n",
       "\\hline\n",
       "\t1 & 1000105 & 1  & NA & NA & NA & 54 & NA & NA & NA\\\\\n",
       "\t2 & 1000357 & 1  & NA & NA & NA & 69 & NA & NA & NA\\\\\n",
       "\t3 & 1000443 & NA & NA & 1  & NA & 45 & NA & 52 & NA\\\\\n",
       "\t4 & 1000494 & 1  & NA & NA & NA & 61 & NA & NA & NA\\\\\n",
       "\t5 & 1000625 & 1  & NA & NA & NA & 60 & NA & NA & NA\\\\\n",
       "\t6 & 1000713 & 1  & NA & 1  & NA & 58 & NA & 67 & NA\\\\\n",
       "\t7 & 1000728 & 1  & NA & NA & NA & 61 & NA & NA & NA\\\\\n",
       "\t8 & 1000745 & 1  & NA & NA & NA & 60 & NA & NA & NA\\\\\n",
       "\t9 & 1000875 & 1  & NA & NA & NA & 59 & NA & NA & NA\\\\\n",
       "\t10 & 1000992 & NA & NA & 1  & NA & 48 & NA & 56 & NA\\\\\n",
       "\t11 & 1001045 & 1  & NA & NA & NA & 61 & NA & NA & NA\\\\\n",
       "\t12 & 1001052 & 1  & NA & NA & NA & 64 & NA & NA & NA\\\\\n",
       "\\end{tabular}\n"
      ],
      "text/markdown": [
       "\n",
       "A data.frame: 12 × 9\n",
       "\n",
       "| <!--/--> | IID &lt;int&gt; | f.4803.0.0_recode &lt;fct&gt; | f.4803.1.0_recode &lt;fct&gt; | f.4803.2.0_recode &lt;fct&gt; | f.4803.3.0_recode &lt;fct&gt; | f.21003.0.0 &lt;int&gt; | f.21003.1.0 &lt;int&gt; | f.21003.2.0 &lt;int&gt; | f.21003.3.0 &lt;int&gt; |\n",
       "|---|---|---|---|---|---|---|---|---|---|\n",
       "| 1 | 1000105 | 1  | NA | NA | NA | 54 | NA | NA | NA |\n",
       "| 2 | 1000357 | 1  | NA | NA | NA | 69 | NA | NA | NA |\n",
       "| 3 | 1000443 | NA | NA | 1  | NA | 45 | NA | 52 | NA |\n",
       "| 4 | 1000494 | 1  | NA | NA | NA | 61 | NA | NA | NA |\n",
       "| 5 | 1000625 | 1  | NA | NA | NA | 60 | NA | NA | NA |\n",
       "| 6 | 1000713 | 1  | NA | 1  | NA | 58 | NA | 67 | NA |\n",
       "| 7 | 1000728 | 1  | NA | NA | NA | 61 | NA | NA | NA |\n",
       "| 8 | 1000745 | 1  | NA | NA | NA | 60 | NA | NA | NA |\n",
       "| 9 | 1000875 | 1  | NA | NA | NA | 59 | NA | NA | NA |\n",
       "| 10 | 1000992 | NA | NA | 1  | NA | 48 | NA | 56 | NA |\n",
       "| 11 | 1001045 | 1  | NA | NA | NA | 61 | NA | NA | NA |\n",
       "| 12 | 1001052 | 1  | NA | NA | NA | 64 | NA | NA | NA |\n",
       "\n"
      ],
      "text/plain": [
       "   IID     f.4803.0.0_recode f.4803.1.0_recode f.4803.2.0_recode\n",
       "1  1000105 1                 NA                NA               \n",
       "2  1000357 1                 NA                NA               \n",
       "3  1000443 NA                NA                1                \n",
       "4  1000494 1                 NA                NA               \n",
       "5  1000625 1                 NA                NA               \n",
       "6  1000713 1                 NA                1                \n",
       "7  1000728 1                 NA                NA               \n",
       "8  1000745 1                 NA                NA               \n",
       "9  1000875 1                 NA                NA               \n",
       "10 1000992 NA                NA                1                \n",
       "11 1001045 1                 NA                NA               \n",
       "12 1001052 1                 NA                NA               \n",
       "   f.4803.3.0_recode f.21003.0.0 f.21003.1.0 f.21003.2.0 f.21003.3.0\n",
       "1  NA                54          NA          NA          NA         \n",
       "2  NA                69          NA          NA          NA         \n",
       "3  NA                45          NA          52          NA         \n",
       "4  NA                61          NA          NA          NA         \n",
       "5  NA                60          NA          NA          NA         \n",
       "6  NA                58          NA          67          NA         \n",
       "7  NA                61          NA          NA          NA         \n",
       "8  NA                60          NA          NA          NA         \n",
       "9  NA                59          NA          NA          NA         \n",
       "10 NA                48          NA          56          NA         \n",
       "11 NA                61          NA          NA          NA         \n",
       "12 NA                64          NA          NA          NA         "
      ]
     },
     "metadata": {},
     "output_type": "display_data"
    }
   ],
   "source": [
    "# Get the subset data of cases\n",
    "age_cases = age_all %>% \n",
    "  filter(tinnitus==\"1\")  %>%\n",
    "  select(IID,f.4803.0.0_recode, f.4803.1.0_recode, f.4803.2.0_recode, f.4803.3.0_recode,f.21003.0.0,f.21003.1.0,f.21003.2.0,f.21003.3.0)\n",
    "head(age_cases,12)"
   ]
  },
  {
   "cell_type": "code",
   "execution_count": 59,
   "metadata": {
    "kernel": "R"
   },
   "outputs": [
    {
     "data": {
      "text/html": [
       "<table>\n",
       "<caption>A data.frame: 6 × 10</caption>\n",
       "<thead>\n",
       "\t<tr><th></th><th scope=col>IID</th><th scope=col>f.4803.0.0_recode</th><th scope=col>f.4803.1.0_recode</th><th scope=col>f.4803.2.0_recode</th><th scope=col>f.4803.3.0_recode</th><th scope=col>f.21003.0.0</th><th scope=col>f.21003.1.0</th><th scope=col>f.21003.2.0</th><th scope=col>f.21003.3.0</th><th scope=col>visit_idx</th></tr>\n",
       "\t<tr><th></th><th scope=col>&lt;int&gt;</th><th scope=col>&lt;fct&gt;</th><th scope=col>&lt;fct&gt;</th><th scope=col>&lt;fct&gt;</th><th scope=col>&lt;fct&gt;</th><th scope=col>&lt;int&gt;</th><th scope=col>&lt;int&gt;</th><th scope=col>&lt;int&gt;</th><th scope=col>&lt;int&gt;</th><th scope=col>&lt;list&gt;</th></tr>\n",
       "</thead>\n",
       "<tbody>\n",
       "\t<tr><th scope=row>1</th><td>1000105</td><td>1 </td><td>NA</td><td>NA</td><td>NA</td><td>54</td><td>NA</td><td>NA</td><td>NA</td><td>2</td></tr>\n",
       "\t<tr><th scope=row>2</th><td>1000357</td><td>1 </td><td>NA</td><td>NA</td><td>NA</td><td>69</td><td>NA</td><td>NA</td><td>NA</td><td>2</td></tr>\n",
       "\t<tr><th scope=row>3</th><td>1000443</td><td>NA</td><td>NA</td><td>1 </td><td>NA</td><td>45</td><td>NA</td><td>52</td><td>NA</td><td>4</td></tr>\n",
       "\t<tr><th scope=row>4</th><td>1000494</td><td>1 </td><td>NA</td><td>NA</td><td>NA</td><td>61</td><td>NA</td><td>NA</td><td>NA</td><td>2</td></tr>\n",
       "\t<tr><th scope=row>5</th><td>1000625</td><td>1 </td><td>NA</td><td>NA</td><td>NA</td><td>60</td><td>NA</td><td>NA</td><td>NA</td><td>2</td></tr>\n",
       "\t<tr><th scope=row>6</th><td>1000713</td><td>1 </td><td>NA</td><td>1 </td><td>NA</td><td>58</td><td>NA</td><td>67</td><td>NA</td><td>2, 4</td></tr>\n",
       "</tbody>\n",
       "</table>\n"
      ],
      "text/latex": [
       "A data.frame: 6 × 10\n",
       "\\begin{tabular}{r|llllllllll}\n",
       "  & IID & f.4803.0.0\\_recode & f.4803.1.0\\_recode & f.4803.2.0\\_recode & f.4803.3.0\\_recode & f.21003.0.0 & f.21003.1.0 & f.21003.2.0 & f.21003.3.0 & visit\\_idx\\\\\n",
       "  & <int> & <fct> & <fct> & <fct> & <fct> & <int> & <int> & <int> & <int> & <list>\\\\\n",
       "\\hline\n",
       "\t1 & 1000105 & 1  & NA & NA & NA & 54 & NA & NA & NA & 2\\\\\n",
       "\t2 & 1000357 & 1  & NA & NA & NA & 69 & NA & NA & NA & 2\\\\\n",
       "\t3 & 1000443 & NA & NA & 1  & NA & 45 & NA & 52 & NA & 4\\\\\n",
       "\t4 & 1000494 & 1  & NA & NA & NA & 61 & NA & NA & NA & 2\\\\\n",
       "\t5 & 1000625 & 1  & NA & NA & NA & 60 & NA & NA & NA & 2\\\\\n",
       "\t6 & 1000713 & 1  & NA & 1  & NA & 58 & NA & 67 & NA & 2, 4\\\\\n",
       "\\end{tabular}\n"
      ],
      "text/markdown": [
       "\n",
       "A data.frame: 6 × 10\n",
       "\n",
       "| <!--/--> | IID &lt;int&gt; | f.4803.0.0_recode &lt;fct&gt; | f.4803.1.0_recode &lt;fct&gt; | f.4803.2.0_recode &lt;fct&gt; | f.4803.3.0_recode &lt;fct&gt; | f.21003.0.0 &lt;int&gt; | f.21003.1.0 &lt;int&gt; | f.21003.2.0 &lt;int&gt; | f.21003.3.0 &lt;int&gt; | visit_idx &lt;list&gt; |\n",
       "|---|---|---|---|---|---|---|---|---|---|---|\n",
       "| 1 | 1000105 | 1  | NA | NA | NA | 54 | NA | NA | NA | 2 |\n",
       "| 2 | 1000357 | 1  | NA | NA | NA | 69 | NA | NA | NA | 2 |\n",
       "| 3 | 1000443 | NA | NA | 1  | NA | 45 | NA | 52 | NA | 4 |\n",
       "| 4 | 1000494 | 1  | NA | NA | NA | 61 | NA | NA | NA | 2 |\n",
       "| 5 | 1000625 | 1  | NA | NA | NA | 60 | NA | NA | NA | 2 |\n",
       "| 6 | 1000713 | 1  | NA | 1  | NA | 58 | NA | 67 | NA | 2, 4 |\n",
       "\n"
      ],
      "text/plain": [
       "  IID     f.4803.0.0_recode f.4803.1.0_recode f.4803.2.0_recode\n",
       "1 1000105 1                 NA                NA               \n",
       "2 1000357 1                 NA                NA               \n",
       "3 1000443 NA                NA                1                \n",
       "4 1000494 1                 NA                NA               \n",
       "5 1000625 1                 NA                NA               \n",
       "6 1000713 1                 NA                1                \n",
       "  f.4803.3.0_recode f.21003.0.0 f.21003.1.0 f.21003.2.0 f.21003.3.0 visit_idx\n",
       "1 NA                54          NA          NA          NA          2        \n",
       "2 NA                69          NA          NA          NA          2        \n",
       "3 NA                45          NA          52          NA          4        \n",
       "4 NA                61          NA          NA          NA          2        \n",
       "5 NA                60          NA          NA          NA          2        \n",
       "6 NA                58          NA          67          NA          2, 4     "
      ]
     },
     "metadata": {},
     "output_type": "display_data"
    }
   ],
   "source": [
    "# Get the # of column where first replied Yes:\n",
    "age_cases$visit_idx = apply(age_cases, 1, function(x) unlist(which(x == '1')))\n",
    "head(age_cases)"
   ]
  },
  {
   "cell_type": "code",
   "execution_count": 60,
   "metadata": {
    "kernel": "R"
   },
   "outputs": [
    {
     "data": {
      "text/html": [
       "<table>\n",
       "<caption>A data.frame: 6 × 11</caption>\n",
       "<thead>\n",
       "\t<tr><th></th><th scope=col>IID</th><th scope=col>f.4803.0.0_recode</th><th scope=col>f.4803.1.0_recode</th><th scope=col>f.4803.2.0_recode</th><th scope=col>f.4803.3.0_recode</th><th scope=col>f.21003.0.0</th><th scope=col>f.21003.1.0</th><th scope=col>f.21003.2.0</th><th scope=col>f.21003.3.0</th><th scope=col>visit_idx</th><th scope=col>age_final</th></tr>\n",
       "\t<tr><th></th><th scope=col>&lt;int&gt;</th><th scope=col>&lt;fct&gt;</th><th scope=col>&lt;fct&gt;</th><th scope=col>&lt;fct&gt;</th><th scope=col>&lt;fct&gt;</th><th scope=col>&lt;int&gt;</th><th scope=col>&lt;int&gt;</th><th scope=col>&lt;int&gt;</th><th scope=col>&lt;int&gt;</th><th scope=col>&lt;list&gt;</th><th scope=col>&lt;int&gt;</th></tr>\n",
       "</thead>\n",
       "<tbody>\n",
       "\t<tr><th scope=row>1</th><td>1000105</td><td>1 </td><td>NA</td><td>NA</td><td>NA</td><td>54</td><td>NA</td><td>NA</td><td>NA</td><td>2</td><td>54</td></tr>\n",
       "\t<tr><th scope=row>2</th><td>1000357</td><td>1 </td><td>NA</td><td>NA</td><td>NA</td><td>69</td><td>NA</td><td>NA</td><td>NA</td><td>2</td><td>69</td></tr>\n",
       "\t<tr><th scope=row>3</th><td>1000443</td><td>NA</td><td>NA</td><td>1 </td><td>NA</td><td>45</td><td>NA</td><td>52</td><td>NA</td><td>4</td><td>52</td></tr>\n",
       "\t<tr><th scope=row>4</th><td>1000494</td><td>1 </td><td>NA</td><td>NA</td><td>NA</td><td>61</td><td>NA</td><td>NA</td><td>NA</td><td>2</td><td>61</td></tr>\n",
       "\t<tr><th scope=row>5</th><td>1000625</td><td>1 </td><td>NA</td><td>NA</td><td>NA</td><td>60</td><td>NA</td><td>NA</td><td>NA</td><td>2</td><td>60</td></tr>\n",
       "\t<tr><th scope=row>6</th><td>1000713</td><td>1 </td><td>NA</td><td>1 </td><td>NA</td><td>58</td><td>NA</td><td>67</td><td>NA</td><td>2, 4</td><td>58</td></tr>\n",
       "</tbody>\n",
       "</table>\n"
      ],
      "text/latex": [
       "A data.frame: 6 × 11\n",
       "\\begin{tabular}{r|lllllllllll}\n",
       "  & IID & f.4803.0.0\\_recode & f.4803.1.0\\_recode & f.4803.2.0\\_recode & f.4803.3.0\\_recode & f.21003.0.0 & f.21003.1.0 & f.21003.2.0 & f.21003.3.0 & visit\\_idx & age\\_final\\\\\n",
       "  & <int> & <fct> & <fct> & <fct> & <fct> & <int> & <int> & <int> & <int> & <list> & <int>\\\\\n",
       "\\hline\n",
       "\t1 & 1000105 & 1  & NA & NA & NA & 54 & NA & NA & NA & 2 & 54\\\\\n",
       "\t2 & 1000357 & 1  & NA & NA & NA & 69 & NA & NA & NA & 2 & 69\\\\\n",
       "\t3 & 1000443 & NA & NA & 1  & NA & 45 & NA & 52 & NA & 4 & 52\\\\\n",
       "\t4 & 1000494 & 1  & NA & NA & NA & 61 & NA & NA & NA & 2 & 61\\\\\n",
       "\t5 & 1000625 & 1  & NA & NA & NA & 60 & NA & NA & NA & 2 & 60\\\\\n",
       "\t6 & 1000713 & 1  & NA & 1  & NA & 58 & NA & 67 & NA & 2, 4 & 58\\\\\n",
       "\\end{tabular}\n"
      ],
      "text/markdown": [
       "\n",
       "A data.frame: 6 × 11\n",
       "\n",
       "| <!--/--> | IID &lt;int&gt; | f.4803.0.0_recode &lt;fct&gt; | f.4803.1.0_recode &lt;fct&gt; | f.4803.2.0_recode &lt;fct&gt; | f.4803.3.0_recode &lt;fct&gt; | f.21003.0.0 &lt;int&gt; | f.21003.1.0 &lt;int&gt; | f.21003.2.0 &lt;int&gt; | f.21003.3.0 &lt;int&gt; | visit_idx &lt;list&gt; | age_final &lt;int&gt; |\n",
       "|---|---|---|---|---|---|---|---|---|---|---|---|\n",
       "| 1 | 1000105 | 1  | NA | NA | NA | 54 | NA | NA | NA | 2 | 54 |\n",
       "| 2 | 1000357 | 1  | NA | NA | NA | 69 | NA | NA | NA | 2 | 69 |\n",
       "| 3 | 1000443 | NA | NA | 1  | NA | 45 | NA | 52 | NA | 4 | 52 |\n",
       "| 4 | 1000494 | 1  | NA | NA | NA | 61 | NA | NA | NA | 2 | 61 |\n",
       "| 5 | 1000625 | 1  | NA | NA | NA | 60 | NA | NA | NA | 2 | 60 |\n",
       "| 6 | 1000713 | 1  | NA | 1  | NA | 58 | NA | 67 | NA | 2, 4 | 58 |\n",
       "\n"
      ],
      "text/plain": [
       "  IID     f.4803.0.0_recode f.4803.1.0_recode f.4803.2.0_recode\n",
       "1 1000105 1                 NA                NA               \n",
       "2 1000357 1                 NA                NA               \n",
       "3 1000443 NA                NA                1                \n",
       "4 1000494 1                 NA                NA               \n",
       "5 1000625 1                 NA                NA               \n",
       "6 1000713 1                 NA                1                \n",
       "  f.4803.3.0_recode f.21003.0.0 f.21003.1.0 f.21003.2.0 f.21003.3.0 visit_idx\n",
       "1 NA                54          NA          NA          NA          2        \n",
       "2 NA                69          NA          NA          NA          2        \n",
       "3 NA                45          NA          52          NA          4        \n",
       "4 NA                61          NA          NA          NA          2        \n",
       "5 NA                60          NA          NA          NA          2        \n",
       "6 NA                58          NA          67          NA          2, 4     \n",
       "  age_final\n",
       "1 54       \n",
       "2 69       \n",
       "3 52       \n",
       "4 61       \n",
       "5 60       \n",
       "6 58       "
      ]
     },
     "metadata": {},
     "output_type": "display_data"
    },
    {
     "data": {
      "text/plain": [
       "   Min. 1st Qu.  Median    Mean 3rd Qu.    Max. \n",
       "   40.0    54.0    61.0    59.6    66.0    81.0 "
      ]
     },
     "metadata": {},
     "output_type": "display_data"
    }
   ],
   "source": [
    "# Define offset:\n",
    "# offset: refers to the # of columns between the first age column (i.e.f.21003.0.0) and the first recode column (i.e.f.4803.0.0.rc)\n",
    "offset = which(colnames(age_cases) == 'f.21003.0.0') - which(colnames(age_cases) == 'f.4803.0.0_recode')\n",
    "\n",
    "# Define the function to extract the first time they said yes for cases \n",
    "f=get_age_func <- function(x) {\n",
    "  visit_index=x[which(colnames(age_cases)==\"visit_idx\")]\n",
    "  index=min(unlist(visit_index))+offset\n",
    "  age=x[index]\n",
    "  final_age=unlist(age)\n",
    "  if(is.null(final_age))\n",
    "  {final_age<-NA}\n",
    "  return(final_age)\n",
    "}\n",
    "\n",
    "# Get the final age for cases\n",
    "age_cases$age_final = apply(age_cases, 1, f)\n",
    "\n",
    "# Show first 6 rows\n",
    "head(age_cases)\n",
    "summary(age_cases$age_final)"
   ]
  },
  {
   "cell_type": "markdown",
   "metadata": {
    "kernel": "R"
   },
   "source": [
    "Get the age for controls last time they replied no to f.4803"
   ]
  },
  {
   "cell_type": "code",
   "execution_count": 61,
   "metadata": {
    "kernel": "R"
   },
   "outputs": [
    {
     "data": {
      "text/html": [
       "<table>\n",
       "<caption>A data.frame: 12 × 9</caption>\n",
       "<thead>\n",
       "\t<tr><th></th><th scope=col>IID</th><th scope=col>f.4803.0.0_recode</th><th scope=col>f.4803.1.0_recode</th><th scope=col>f.4803.2.0_recode</th><th scope=col>f.4803.3.0_recode</th><th scope=col>f.21003.0.0</th><th scope=col>f.21003.1.0</th><th scope=col>f.21003.2.0</th><th scope=col>f.21003.3.0</th></tr>\n",
       "\t<tr><th></th><th scope=col>&lt;int&gt;</th><th scope=col>&lt;fct&gt;</th><th scope=col>&lt;fct&gt;</th><th scope=col>&lt;fct&gt;</th><th scope=col>&lt;fct&gt;</th><th scope=col>&lt;int&gt;</th><th scope=col>&lt;int&gt;</th><th scope=col>&lt;int&gt;</th><th scope=col>&lt;int&gt;</th></tr>\n",
       "</thead>\n",
       "<tbody>\n",
       "\t<tr><th scope=row>1</th><td>1000046</td><td>NA</td><td>NA</td><td>0 </td><td>NA</td><td>62</td><td>NA</td><td>73</td><td>NA</td></tr>\n",
       "\t<tr><th scope=row>2</th><td>1000063</td><td>0 </td><td>NA</td><td>NA</td><td>NA</td><td>43</td><td>NA</td><td>NA</td><td>NA</td></tr>\n",
       "\t<tr><th scope=row>3</th><td>1000078</td><td>NA</td><td>0 </td><td>0 </td><td>NA</td><td>52</td><td>57</td><td>60</td><td>NA</td></tr>\n",
       "\t<tr><th scope=row>4</th><td>1000112</td><td>NA</td><td>NA</td><td>0 </td><td>NA</td><td>58</td><td>NA</td><td>68</td><td>NA</td></tr>\n",
       "\t<tr><th scope=row>5</th><td>1000141</td><td>0 </td><td>NA</td><td>NA</td><td>NA</td><td>49</td><td>NA</td><td>NA</td><td>NA</td></tr>\n",
       "\t<tr><th scope=row>6</th><td>1000236</td><td>0 </td><td>NA</td><td>0 </td><td>NA</td><td>61</td><td>NA</td><td>70</td><td>NA</td></tr>\n",
       "\t<tr><th scope=row>7</th><td>1000248</td><td>0 </td><td>NA</td><td>NA</td><td>NA</td><td>63</td><td>NA</td><td>NA</td><td>NA</td></tr>\n",
       "\t<tr><th scope=row>8</th><td>1000269</td><td>NA</td><td>NA</td><td>0 </td><td>NA</td><td>60</td><td>NA</td><td>71</td><td>NA</td></tr>\n",
       "\t<tr><th scope=row>9</th><td>1000340</td><td>0 </td><td>NA</td><td>NA</td><td>NA</td><td>54</td><td>NA</td><td>NA</td><td>NA</td></tr>\n",
       "\t<tr><th scope=row>10</th><td>1000379</td><td>0 </td><td>NA</td><td>NA</td><td>NA</td><td>51</td><td>NA</td><td>NA</td><td>NA</td></tr>\n",
       "\t<tr><th scope=row>11</th><td>1000421</td><td>0 </td><td>NA</td><td>NA</td><td>NA</td><td>64</td><td>NA</td><td>NA</td><td>NA</td></tr>\n",
       "\t<tr><th scope=row>12</th><td>1000516</td><td>0 </td><td>NA</td><td>NA</td><td>NA</td><td>46</td><td>NA</td><td>NA</td><td>NA</td></tr>\n",
       "</tbody>\n",
       "</table>\n"
      ],
      "text/latex": [
       "A data.frame: 12 × 9\n",
       "\\begin{tabular}{r|lllllllll}\n",
       "  & IID & f.4803.0.0\\_recode & f.4803.1.0\\_recode & f.4803.2.0\\_recode & f.4803.3.0\\_recode & f.21003.0.0 & f.21003.1.0 & f.21003.2.0 & f.21003.3.0\\\\\n",
       "  & <int> & <fct> & <fct> & <fct> & <fct> & <int> & <int> & <int> & <int>\\\\\n",
       "\\hline\n",
       "\t1 & 1000046 & NA & NA & 0  & NA & 62 & NA & 73 & NA\\\\\n",
       "\t2 & 1000063 & 0  & NA & NA & NA & 43 & NA & NA & NA\\\\\n",
       "\t3 & 1000078 & NA & 0  & 0  & NA & 52 & 57 & 60 & NA\\\\\n",
       "\t4 & 1000112 & NA & NA & 0  & NA & 58 & NA & 68 & NA\\\\\n",
       "\t5 & 1000141 & 0  & NA & NA & NA & 49 & NA & NA & NA\\\\\n",
       "\t6 & 1000236 & 0  & NA & 0  & NA & 61 & NA & 70 & NA\\\\\n",
       "\t7 & 1000248 & 0  & NA & NA & NA & 63 & NA & NA & NA\\\\\n",
       "\t8 & 1000269 & NA & NA & 0  & NA & 60 & NA & 71 & NA\\\\\n",
       "\t9 & 1000340 & 0  & NA & NA & NA & 54 & NA & NA & NA\\\\\n",
       "\t10 & 1000379 & 0  & NA & NA & NA & 51 & NA & NA & NA\\\\\n",
       "\t11 & 1000421 & 0  & NA & NA & NA & 64 & NA & NA & NA\\\\\n",
       "\t12 & 1000516 & 0  & NA & NA & NA & 46 & NA & NA & NA\\\\\n",
       "\\end{tabular}\n"
      ],
      "text/markdown": [
       "\n",
       "A data.frame: 12 × 9\n",
       "\n",
       "| <!--/--> | IID &lt;int&gt; | f.4803.0.0_recode &lt;fct&gt; | f.4803.1.0_recode &lt;fct&gt; | f.4803.2.0_recode &lt;fct&gt; | f.4803.3.0_recode &lt;fct&gt; | f.21003.0.0 &lt;int&gt; | f.21003.1.0 &lt;int&gt; | f.21003.2.0 &lt;int&gt; | f.21003.3.0 &lt;int&gt; |\n",
       "|---|---|---|---|---|---|---|---|---|---|\n",
       "| 1 | 1000046 | NA | NA | 0  | NA | 62 | NA | 73 | NA |\n",
       "| 2 | 1000063 | 0  | NA | NA | NA | 43 | NA | NA | NA |\n",
       "| 3 | 1000078 | NA | 0  | 0  | NA | 52 | 57 | 60 | NA |\n",
       "| 4 | 1000112 | NA | NA | 0  | NA | 58 | NA | 68 | NA |\n",
       "| 5 | 1000141 | 0  | NA | NA | NA | 49 | NA | NA | NA |\n",
       "| 6 | 1000236 | 0  | NA | 0  | NA | 61 | NA | 70 | NA |\n",
       "| 7 | 1000248 | 0  | NA | NA | NA | 63 | NA | NA | NA |\n",
       "| 8 | 1000269 | NA | NA | 0  | NA | 60 | NA | 71 | NA |\n",
       "| 9 | 1000340 | 0  | NA | NA | NA | 54 | NA | NA | NA |\n",
       "| 10 | 1000379 | 0  | NA | NA | NA | 51 | NA | NA | NA |\n",
       "| 11 | 1000421 | 0  | NA | NA | NA | 64 | NA | NA | NA |\n",
       "| 12 | 1000516 | 0  | NA | NA | NA | 46 | NA | NA | NA |\n",
       "\n"
      ],
      "text/plain": [
       "   IID     f.4803.0.0_recode f.4803.1.0_recode f.4803.2.0_recode\n",
       "1  1000046 NA                NA                0                \n",
       "2  1000063 0                 NA                NA               \n",
       "3  1000078 NA                0                 0                \n",
       "4  1000112 NA                NA                0                \n",
       "5  1000141 0                 NA                NA               \n",
       "6  1000236 0                 NA                0                \n",
       "7  1000248 0                 NA                NA               \n",
       "8  1000269 NA                NA                0                \n",
       "9  1000340 0                 NA                NA               \n",
       "10 1000379 0                 NA                NA               \n",
       "11 1000421 0                 NA                NA               \n",
       "12 1000516 0                 NA                NA               \n",
       "   f.4803.3.0_recode f.21003.0.0 f.21003.1.0 f.21003.2.0 f.21003.3.0\n",
       "1  NA                62          NA          73          NA         \n",
       "2  NA                43          NA          NA          NA         \n",
       "3  NA                52          57          60          NA         \n",
       "4  NA                58          NA          68          NA         \n",
       "5  NA                49          NA          NA          NA         \n",
       "6  NA                61          NA          70          NA         \n",
       "7  NA                63          NA          NA          NA         \n",
       "8  NA                60          NA          71          NA         \n",
       "9  NA                54          NA          NA          NA         \n",
       "10 NA                51          NA          NA          NA         \n",
       "11 NA                64          NA          NA          NA         \n",
       "12 NA                46          NA          NA          NA         "
      ]
     },
     "metadata": {},
     "output_type": "display_data"
    }
   ],
   "source": [
    "# Get the subset data of controls\n",
    "age_control = age_all %>% \n",
    "  filter(tinnitus==\"0\")  %>%\n",
    "  select(IID,f.4803.0.0_recode, f.4803.1.0_recode, f.4803.2.0_recode, f.4803.3.0_recode,f.21003.0.0,f.21003.1.0,f.21003.2.0,f.21003.3.0)\n",
    "head(age_control,12)"
   ]
  },
  {
   "cell_type": "code",
   "execution_count": 62,
   "metadata": {
    "kernel": "R"
   },
   "outputs": [
    {
     "data": {
      "text/html": [
       "<table>\n",
       "<caption>A data.frame: 6 × 11</caption>\n",
       "<thead>\n",
       "\t<tr><th></th><th scope=col>IID</th><th scope=col>f.4803.0.0_recode</th><th scope=col>f.4803.1.0_recode</th><th scope=col>f.4803.2.0_recode</th><th scope=col>f.4803.3.0_recode</th><th scope=col>f.21003.0.0</th><th scope=col>f.21003.1.0</th><th scope=col>f.21003.2.0</th><th scope=col>f.21003.3.0</th><th scope=col>visit_idx</th><th scope=col>age_final</th></tr>\n",
       "\t<tr><th></th><th scope=col>&lt;int&gt;</th><th scope=col>&lt;fct&gt;</th><th scope=col>&lt;fct&gt;</th><th scope=col>&lt;fct&gt;</th><th scope=col>&lt;fct&gt;</th><th scope=col>&lt;int&gt;</th><th scope=col>&lt;int&gt;</th><th scope=col>&lt;int&gt;</th><th scope=col>&lt;int&gt;</th><th scope=col>&lt;list&gt;</th><th scope=col>&lt;int&gt;</th></tr>\n",
       "</thead>\n",
       "<tbody>\n",
       "\t<tr><th scope=row>1</th><td>1000046</td><td>NA</td><td>NA</td><td>0 </td><td>NA</td><td>62</td><td>NA</td><td>73</td><td>NA</td><td>4</td><td>73</td></tr>\n",
       "\t<tr><th scope=row>2</th><td>1000063</td><td>0 </td><td>NA</td><td>NA</td><td>NA</td><td>43</td><td>NA</td><td>NA</td><td>NA</td><td>2</td><td>43</td></tr>\n",
       "\t<tr><th scope=row>3</th><td>1000078</td><td>NA</td><td>0 </td><td>0 </td><td>NA</td><td>52</td><td>57</td><td>60</td><td>NA</td><td>3, 4</td><td>60</td></tr>\n",
       "\t<tr><th scope=row>4</th><td>1000112</td><td>NA</td><td>NA</td><td>0 </td><td>NA</td><td>58</td><td>NA</td><td>68</td><td>NA</td><td>4</td><td>68</td></tr>\n",
       "\t<tr><th scope=row>5</th><td>1000141</td><td>0 </td><td>NA</td><td>NA</td><td>NA</td><td>49</td><td>NA</td><td>NA</td><td>NA</td><td>2</td><td>49</td></tr>\n",
       "\t<tr><th scope=row>6</th><td>1000236</td><td>0 </td><td>NA</td><td>0 </td><td>NA</td><td>61</td><td>NA</td><td>70</td><td>NA</td><td>2, 4</td><td>70</td></tr>\n",
       "</tbody>\n",
       "</table>\n"
      ],
      "text/latex": [
       "A data.frame: 6 × 11\n",
       "\\begin{tabular}{r|lllllllllll}\n",
       "  & IID & f.4803.0.0\\_recode & f.4803.1.0\\_recode & f.4803.2.0\\_recode & f.4803.3.0\\_recode & f.21003.0.0 & f.21003.1.0 & f.21003.2.0 & f.21003.3.0 & visit\\_idx & age\\_final\\\\\n",
       "  & <int> & <fct> & <fct> & <fct> & <fct> & <int> & <int> & <int> & <int> & <list> & <int>\\\\\n",
       "\\hline\n",
       "\t1 & 1000046 & NA & NA & 0  & NA & 62 & NA & 73 & NA & 4 & 73\\\\\n",
       "\t2 & 1000063 & 0  & NA & NA & NA & 43 & NA & NA & NA & 2 & 43\\\\\n",
       "\t3 & 1000078 & NA & 0  & 0  & NA & 52 & 57 & 60 & NA & 3, 4 & 60\\\\\n",
       "\t4 & 1000112 & NA & NA & 0  & NA & 58 & NA & 68 & NA & 4 & 68\\\\\n",
       "\t5 & 1000141 & 0  & NA & NA & NA & 49 & NA & NA & NA & 2 & 49\\\\\n",
       "\t6 & 1000236 & 0  & NA & 0  & NA & 61 & NA & 70 & NA & 2, 4 & 70\\\\\n",
       "\\end{tabular}\n"
      ],
      "text/markdown": [
       "\n",
       "A data.frame: 6 × 11\n",
       "\n",
       "| <!--/--> | IID &lt;int&gt; | f.4803.0.0_recode &lt;fct&gt; | f.4803.1.0_recode &lt;fct&gt; | f.4803.2.0_recode &lt;fct&gt; | f.4803.3.0_recode &lt;fct&gt; | f.21003.0.0 &lt;int&gt; | f.21003.1.0 &lt;int&gt; | f.21003.2.0 &lt;int&gt; | f.21003.3.0 &lt;int&gt; | visit_idx &lt;list&gt; | age_final &lt;int&gt; |\n",
       "|---|---|---|---|---|---|---|---|---|---|---|---|\n",
       "| 1 | 1000046 | NA | NA | 0  | NA | 62 | NA | 73 | NA | 4 | 73 |\n",
       "| 2 | 1000063 | 0  | NA | NA | NA | 43 | NA | NA | NA | 2 | 43 |\n",
       "| 3 | 1000078 | NA | 0  | 0  | NA | 52 | 57 | 60 | NA | 3, 4 | 60 |\n",
       "| 4 | 1000112 | NA | NA | 0  | NA | 58 | NA | 68 | NA | 4 | 68 |\n",
       "| 5 | 1000141 | 0  | NA | NA | NA | 49 | NA | NA | NA | 2 | 49 |\n",
       "| 6 | 1000236 | 0  | NA | 0  | NA | 61 | NA | 70 | NA | 2, 4 | 70 |\n",
       "\n"
      ],
      "text/plain": [
       "  IID     f.4803.0.0_recode f.4803.1.0_recode f.4803.2.0_recode\n",
       "1 1000046 NA                NA                0                \n",
       "2 1000063 0                 NA                NA               \n",
       "3 1000078 NA                0                 0                \n",
       "4 1000112 NA                NA                0                \n",
       "5 1000141 0                 NA                NA               \n",
       "6 1000236 0                 NA                0                \n",
       "  f.4803.3.0_recode f.21003.0.0 f.21003.1.0 f.21003.2.0 f.21003.3.0 visit_idx\n",
       "1 NA                62          NA          73          NA          4        \n",
       "2 NA                43          NA          NA          NA          2        \n",
       "3 NA                52          57          60          NA          3, 4     \n",
       "4 NA                58          NA          68          NA          4        \n",
       "5 NA                49          NA          NA          NA          2        \n",
       "6 NA                61          NA          70          NA          2, 4     \n",
       "  age_final\n",
       "1 73       \n",
       "2 43       \n",
       "3 60       \n",
       "4 68       \n",
       "5 49       \n",
       "6 70       "
      ]
     },
     "metadata": {},
     "output_type": "display_data"
    },
    {
     "data": {
      "text/plain": [
       "   Min. 1st Qu.  Median    Mean 3rd Qu.    Max. \n",
       "  40.00   53.00   60.00   59.09   65.00   82.00 "
      ]
     },
     "metadata": {},
     "output_type": "display_data"
    }
   ],
   "source": [
    "# Get the # of column where last replied No:\n",
    "age_control$visit_idx = apply(age_control, 1, function(x) unlist(which(x == '0')))\n",
    "\n",
    "# Define offset:\n",
    "# offset: refers to the # of columns between the first age column (i.e.f.21003.0.0) and the first recode column (i.e.f.4803.0.0.rc)\n",
    "offset = which(colnames(age_control) == 'f.21003.0.0') - which(colnames(age_control) == 'f.4803.0.0_recode')\n",
    "\n",
    "# Define the function to extract the last time they said no for control\n",
    "\n",
    "f=get_age_func <- function(x) {\n",
    "  visit_index=x[which(colnames(age_control)==\"visit_idx\")]\n",
    "  index=max(unlist(visit_index))+offset\n",
    "  age=x[index]\n",
    "  age=unlist(age)\n",
    "  return(age)\n",
    "}\n",
    "\n",
    "# Get the final age for controls\n",
    "age_control$age_final = apply(age_control, 1, f)\n",
    "\n",
    "# Show first 6 rows\n",
    "head(age_control)\n",
    "summary(age_control$age_final)"
   ]
  },
  {
   "cell_type": "code",
   "execution_count": 63,
   "metadata": {
    "kernel": "R"
   },
   "outputs": [
    {
     "data": {
      "text/html": [
       "<style>\n",
       ".list-inline {list-style: none; margin:0; padding: 0}\n",
       ".list-inline>li {display: inline-block}\n",
       ".list-inline>li:not(:last-child)::after {content: \"\\00b7\"; padding: 0 .5ex}\n",
       "</style>\n",
       "<ol class=list-inline><li>142521</li><li>11</li></ol>\n"
      ],
      "text/latex": [
       "\\begin{enumerate*}\n",
       "\\item 142521\n",
       "\\item 11\n",
       "\\end{enumerate*}\n"
      ],
      "text/markdown": [
       "1. 142521\n",
       "2. 11\n",
       "\n",
       "\n"
      ],
      "text/plain": [
       "[1] 142521     11"
      ]
     },
     "metadata": {},
     "output_type": "display_data"
    },
    {
     "data": {
      "text/html": [
       "<table>\n",
       "<caption>A data.frame: 6 × 11</caption>\n",
       "<thead>\n",
       "\t<tr><th></th><th scope=col>IID</th><th scope=col>f.4803.0.0_recode</th><th scope=col>f.4803.1.0_recode</th><th scope=col>f.4803.2.0_recode</th><th scope=col>f.4803.3.0_recode</th><th scope=col>f.21003.0.0</th><th scope=col>f.21003.1.0</th><th scope=col>f.21003.2.0</th><th scope=col>f.21003.3.0</th><th scope=col>visit_idx</th><th scope=col>age_final</th></tr>\n",
       "\t<tr><th></th><th scope=col>&lt;int&gt;</th><th scope=col>&lt;fct&gt;</th><th scope=col>&lt;fct&gt;</th><th scope=col>&lt;fct&gt;</th><th scope=col>&lt;fct&gt;</th><th scope=col>&lt;int&gt;</th><th scope=col>&lt;int&gt;</th><th scope=col>&lt;int&gt;</th><th scope=col>&lt;int&gt;</th><th scope=col>&lt;list&gt;</th><th scope=col>&lt;int&gt;</th></tr>\n",
       "</thead>\n",
       "<tbody>\n",
       "\t<tr><th scope=row>1</th><td>1000105</td><td>1 </td><td>NA</td><td>NA</td><td>NA</td><td>54</td><td>NA</td><td>NA</td><td>NA</td><td>2</td><td>54</td></tr>\n",
       "\t<tr><th scope=row>2</th><td>1000357</td><td>1 </td><td>NA</td><td>NA</td><td>NA</td><td>69</td><td>NA</td><td>NA</td><td>NA</td><td>2</td><td>69</td></tr>\n",
       "\t<tr><th scope=row>3</th><td>1000443</td><td>NA</td><td>NA</td><td>1 </td><td>NA</td><td>45</td><td>NA</td><td>52</td><td>NA</td><td>4</td><td>52</td></tr>\n",
       "\t<tr><th scope=row>4</th><td>1000494</td><td>1 </td><td>NA</td><td>NA</td><td>NA</td><td>61</td><td>NA</td><td>NA</td><td>NA</td><td>2</td><td>61</td></tr>\n",
       "\t<tr><th scope=row>5</th><td>1000625</td><td>1 </td><td>NA</td><td>NA</td><td>NA</td><td>60</td><td>NA</td><td>NA</td><td>NA</td><td>2</td><td>60</td></tr>\n",
       "\t<tr><th scope=row>6</th><td>1000713</td><td>1 </td><td>NA</td><td>1 </td><td>NA</td><td>58</td><td>NA</td><td>67</td><td>NA</td><td>2, 4</td><td>58</td></tr>\n",
       "</tbody>\n",
       "</table>\n"
      ],
      "text/latex": [
       "A data.frame: 6 × 11\n",
       "\\begin{tabular}{r|lllllllllll}\n",
       "  & IID & f.4803.0.0\\_recode & f.4803.1.0\\_recode & f.4803.2.0\\_recode & f.4803.3.0\\_recode & f.21003.0.0 & f.21003.1.0 & f.21003.2.0 & f.21003.3.0 & visit\\_idx & age\\_final\\\\\n",
       "  & <int> & <fct> & <fct> & <fct> & <fct> & <int> & <int> & <int> & <int> & <list> & <int>\\\\\n",
       "\\hline\n",
       "\t1 & 1000105 & 1  & NA & NA & NA & 54 & NA & NA & NA & 2 & 54\\\\\n",
       "\t2 & 1000357 & 1  & NA & NA & NA & 69 & NA & NA & NA & 2 & 69\\\\\n",
       "\t3 & 1000443 & NA & NA & 1  & NA & 45 & NA & 52 & NA & 4 & 52\\\\\n",
       "\t4 & 1000494 & 1  & NA & NA & NA & 61 & NA & NA & NA & 2 & 61\\\\\n",
       "\t5 & 1000625 & 1  & NA & NA & NA & 60 & NA & NA & NA & 2 & 60\\\\\n",
       "\t6 & 1000713 & 1  & NA & 1  & NA & 58 & NA & 67 & NA & 2, 4 & 58\\\\\n",
       "\\end{tabular}\n"
      ],
      "text/markdown": [
       "\n",
       "A data.frame: 6 × 11\n",
       "\n",
       "| <!--/--> | IID &lt;int&gt; | f.4803.0.0_recode &lt;fct&gt; | f.4803.1.0_recode &lt;fct&gt; | f.4803.2.0_recode &lt;fct&gt; | f.4803.3.0_recode &lt;fct&gt; | f.21003.0.0 &lt;int&gt; | f.21003.1.0 &lt;int&gt; | f.21003.2.0 &lt;int&gt; | f.21003.3.0 &lt;int&gt; | visit_idx &lt;list&gt; | age_final &lt;int&gt; |\n",
       "|---|---|---|---|---|---|---|---|---|---|---|---|\n",
       "| 1 | 1000105 | 1  | NA | NA | NA | 54 | NA | NA | NA | 2 | 54 |\n",
       "| 2 | 1000357 | 1  | NA | NA | NA | 69 | NA | NA | NA | 2 | 69 |\n",
       "| 3 | 1000443 | NA | NA | 1  | NA | 45 | NA | 52 | NA | 4 | 52 |\n",
       "| 4 | 1000494 | 1  | NA | NA | NA | 61 | NA | NA | NA | 2 | 61 |\n",
       "| 5 | 1000625 | 1  | NA | NA | NA | 60 | NA | NA | NA | 2 | 60 |\n",
       "| 6 | 1000713 | 1  | NA | 1  | NA | 58 | NA | 67 | NA | 2, 4 | 58 |\n",
       "\n"
      ],
      "text/plain": [
       "  IID     f.4803.0.0_recode f.4803.1.0_recode f.4803.2.0_recode\n",
       "1 1000105 1                 NA                NA               \n",
       "2 1000357 1                 NA                NA               \n",
       "3 1000443 NA                NA                1                \n",
       "4 1000494 1                 NA                NA               \n",
       "5 1000625 1                 NA                NA               \n",
       "6 1000713 1                 NA                1                \n",
       "  f.4803.3.0_recode f.21003.0.0 f.21003.1.0 f.21003.2.0 f.21003.3.0 visit_idx\n",
       "1 NA                54          NA          NA          NA          2        \n",
       "2 NA                69          NA          NA          NA          2        \n",
       "3 NA                45          NA          52          NA          4        \n",
       "4 NA                61          NA          NA          NA          2        \n",
       "5 NA                60          NA          NA          NA          2        \n",
       "6 NA                58          NA          67          NA          2, 4     \n",
       "  age_final\n",
       "1 54       \n",
       "2 69       \n",
       "3 52       \n",
       "4 61       \n",
       "5 60       \n",
       "6 58       "
      ]
     },
     "metadata": {},
     "output_type": "display_data"
    }
   ],
   "source": [
    "# Merge age_cases and age_controls\n",
    "age_tinnitus <- rbind(age_cases, age_control) \n",
    "dim(age_tinnitus)\n",
    "head(age_tinnitus)"
   ]
  },
  {
   "cell_type": "code",
   "execution_count": 64,
   "metadata": {
    "kernel": "R"
   },
   "outputs": [
    {
     "data": {
      "text/html": [
       "<style>\n",
       ".list-inline {list-style: none; margin:0; padding: 0}\n",
       ".list-inline>li {display: inline-block}\n",
       ".list-inline>li:not(:last-child)::after {content: \"\\00b7\"; padding: 0 .5ex}\n",
       "</style>\n",
       "<ol class=list-inline><li>142521</li><li>1083</li></ol>\n"
      ],
      "text/latex": [
       "\\begin{enumerate*}\n",
       "\\item 142521\n",
       "\\item 1083\n",
       "\\end{enumerate*}\n"
      ],
      "text/markdown": [
       "1. 142521\n",
       "2. 1083\n",
       "\n",
       "\n"
      ],
      "text/plain": [
       "[1] 142521   1083"
      ]
     },
     "metadata": {},
     "output_type": "display_data"
    }
   ],
   "source": [
    "#Merge with complete database keep the all the rows from original db\n",
    "df.age = merge(x = data_p1,y = age_tinnitus[,c(\"IID\",\"age_final\")],by=\"IID\", all.x=TRUE)\n",
    "dim(df.age)"
   ]
  },
  {
   "cell_type": "markdown",
   "metadata": {
    "kernel": "R"
   },
   "source": [
    "### Recode noisy workplace f.4825 and loud music frequency exposure f.4836"
   ]
  },
  {
   "cell_type": "code",
   "execution_count": 65,
   "metadata": {
    "kernel": "R"
   },
   "outputs": [
    {
     "name": "stdout",
     "output_type": "stream",
     "text": [
      "f.4825.0.0_recode summary:\n",
      "    0     1     2     3 \n",
      "85405  6018  6398 13823 \n",
      "\n",
      "f.4825.1.0_recode summary:\n",
      "    0     1     2     3 \n",
      "11468   750   731  1443 \n",
      "\n",
      "f.4825.2.0_recode summary:\n",
      "    0     1     2     3 \n",
      "27162  1632  1648  3268 \n",
      "\n",
      "f.4825.3.0_recode summary:\n",
      "   0    1    2    3 \n",
      "1723  115   96  189 \n",
      "\n",
      "f.4836.0.0_recode summary:\n",
      "    0     1     2     3 \n",
      "97918  3316  5172  4706 \n",
      "\n",
      "f.4836.1.0_recode summary:\n",
      "    0     1     2     3 \n",
      "12916   343   552   498 \n",
      "\n",
      "f.4836.2.0_recode summary:\n",
      "    0     1     2     3 \n",
      "29963   862  1360  1316 \n",
      "\n",
      "f.4836.3.0_recode summary:\n",
      "   0    1    2    3 \n",
      "1873   58  100   76 \n",
      "\n"
     ]
    }
   ],
   "source": [
    "# Recode function:\n",
    "recode_ordinal<-function(df,column_name){\n",
    "  new_names<-c()\n",
    "  for (i in column_name){\n",
    "    new_column_name<-paste0(i,\"_recode\")\n",
    "    new_names<-c(new_names,new_column_name)\n",
    "    df[,new_column_name] <- revalue(df[,i], c(\"No\"= \"0\", \n",
    "                                            \"Yes, for less than a year\"= \"1\", \n",
    "                                            \"Yes, for around 1-5 years\"= \"2\", \n",
    "                                            \"Yes, for more than 5 years\"= \"3\",\n",
    "                                            \"Prefer not to answer\"= NA,\n",
    "                                            \"Do not know\"= NA ))\n",
    "    df[,new_column_name] <- ordered(df[,new_column_name] , c(\"0\", \"1\", \"2\", \"3\"))\n",
    "  }\n",
    "  return (list(df=df,new_column_names=new_names))\n",
    "}\n",
    "# columns needs to be recoded:\n",
    "column_name<-c(\"f.4825.0.0\", \"f.4825.1.0\", \"f.4825.2.0\", \"f.4825.3.0\",\"f.4836.0.0\", \"f.4836.1.0\", \"f.4836.2.0\", \"f.4836.3.0\")\n",
    "# get a new data.frame with recoded columns added:\n",
    "df.age<-recode_ordinal(df=df.age,column_name)$df\n",
    "# get names of recoded columns:\n",
    "new_column_names<-recode_ordinal(df=df.age,column_name)$new_column_names\n",
    "# show recode summary:\n",
    "for (i in new_column_names)\n",
    "{cat(i,\"summary:\");print(table(df.age[,i]));cat(\"\\n\")}"
   ]
  },
  {
   "cell_type": "markdown",
   "metadata": {
    "kernel": "R"
   },
   "source": [
    "### Checking consistency of the f.4825 noisy workplace and filtering"
   ]
  },
  {
   "cell_type": "code",
   "execution_count": 66,
   "metadata": {
    "kernel": "R"
   },
   "outputs": [
    {
     "data": {
      "text/html": [
       "<style>\n",
       ".list-inline {list-style: none; margin:0; padding: 0}\n",
       ".list-inline>li {display: inline-block}\n",
       ".list-inline>li:not(:last-child)::after {content: \"\\00b7\"; padding: 0 .5ex}\n",
       "</style>\n",
       "<ol class=list-inline><li>142521</li><li>5</li></ol>\n"
      ],
      "text/latex": [
       "\\begin{enumerate*}\n",
       "\\item 142521\n",
       "\\item 5\n",
       "\\end{enumerate*}\n"
      ],
      "text/markdown": [
       "1. 142521\n",
       "2. 5\n",
       "\n",
       "\n"
      ],
      "text/plain": [
       "[1] 142521      5"
      ]
     },
     "metadata": {},
     "output_type": "display_data"
    }
   ],
   "source": [
    "# Extract subset of data only with the recode columns of noisy workplace variable\n",
    "data_noise <- df.age %>%\n",
    "  select(IID, \"f.4825.0.0_recode\", \"f.4825.1.0_recode\", \"f.4825.2.0_recode\", \"f.4825.3.0_recode\")  \n",
    "dim(data_noise)"
   ]
  },
  {
   "cell_type": "code",
   "execution_count": 67,
   "metadata": {
    "kernel": "R",
    "scrolled": true
   },
   "outputs": [],
   "source": [
    "# Function to extract all the available answers for 4 visits\n",
    "# and put them in one list\n",
    "f<-function(x){\n",
    "  visit<-c()\n",
    "  for (i in 2:5){\n",
    "    if (!is.na(x[i]))\n",
    "    {visit<-c(visit,x[i])}\n",
    "  }\n",
    "  if(is.null(visit)){visit=NA}\n",
    "  else{visit=as.numeric(visit)}\n",
    "  return (visit)\n",
    "}\n",
    "\n",
    "# Apply the above function and remove NAs\n",
    "data_noise$visit<-apply(data_noise, 1, f)"
   ]
  },
  {
   "cell_type": "code",
   "execution_count": 68,
   "metadata": {
    "kernel": "R",
    "scrolled": true
   },
   "outputs": [
    {
     "data": {
      "text/html": [
       "<table>\n",
       "<caption>A data.frame: 6 × 6</caption>\n",
       "<thead>\n",
       "\t<tr><th></th><th scope=col>IID</th><th scope=col>f.4825.0.0_recode</th><th scope=col>f.4825.1.0_recode</th><th scope=col>f.4825.2.0_recode</th><th scope=col>f.4825.3.0_recode</th><th scope=col>visit</th></tr>\n",
       "\t<tr><th></th><th scope=col>&lt;int&gt;</th><th scope=col>&lt;ord&gt;</th><th scope=col>&lt;ord&gt;</th><th scope=col>&lt;ord&gt;</th><th scope=col>&lt;ord&gt;</th><th scope=col>&lt;list&gt;</th></tr>\n",
       "</thead>\n",
       "<tbody>\n",
       "\t<tr><th scope=row>1</th><td>1000046</td><td>NA</td><td>NA</td><td>0 </td><td>NA</td><td>0</td></tr>\n",
       "\t<tr><th scope=row>2</th><td>1000063</td><td>0 </td><td>NA</td><td>NA</td><td>NA</td><td>0</td></tr>\n",
       "\t<tr><th scope=row>3</th><td>1000078</td><td>NA</td><td>0 </td><td>0 </td><td>NA</td><td>0, 0</td></tr>\n",
       "\t<tr><th scope=row>4</th><td>1000105</td><td>0 </td><td>NA</td><td>NA</td><td>NA</td><td>0</td></tr>\n",
       "\t<tr><th scope=row>5</th><td>1000112</td><td>NA</td><td>NA</td><td>0 </td><td>NA</td><td>0</td></tr>\n",
       "\t<tr><th scope=row>6</th><td>1000141</td><td>0 </td><td>NA</td><td>NA</td><td>NA</td><td>0</td></tr>\n",
       "</tbody>\n",
       "</table>\n"
      ],
      "text/latex": [
       "A data.frame: 6 × 6\n",
       "\\begin{tabular}{r|llllll}\n",
       "  & IID & f.4825.0.0\\_recode & f.4825.1.0\\_recode & f.4825.2.0\\_recode & f.4825.3.0\\_recode & visit\\\\\n",
       "  & <int> & <ord> & <ord> & <ord> & <ord> & <list>\\\\\n",
       "\\hline\n",
       "\t1 & 1000046 & NA & NA & 0  & NA & 0\\\\\n",
       "\t2 & 1000063 & 0  & NA & NA & NA & 0\\\\\n",
       "\t3 & 1000078 & NA & 0  & 0  & NA & 0, 0\\\\\n",
       "\t4 & 1000105 & 0  & NA & NA & NA & 0\\\\\n",
       "\t5 & 1000112 & NA & NA & 0  & NA & 0\\\\\n",
       "\t6 & 1000141 & 0  & NA & NA & NA & 0\\\\\n",
       "\\end{tabular}\n"
      ],
      "text/markdown": [
       "\n",
       "A data.frame: 6 × 6\n",
       "\n",
       "| <!--/--> | IID &lt;int&gt; | f.4825.0.0_recode &lt;ord&gt; | f.4825.1.0_recode &lt;ord&gt; | f.4825.2.0_recode &lt;ord&gt; | f.4825.3.0_recode &lt;ord&gt; | visit &lt;list&gt; |\n",
       "|---|---|---|---|---|---|---|\n",
       "| 1 | 1000046 | NA | NA | 0  | NA | 0 |\n",
       "| 2 | 1000063 | 0  | NA | NA | NA | 0 |\n",
       "| 3 | 1000078 | NA | 0  | 0  | NA | 0, 0 |\n",
       "| 4 | 1000105 | 0  | NA | NA | NA | 0 |\n",
       "| 5 | 1000112 | NA | NA | 0  | NA | 0 |\n",
       "| 6 | 1000141 | 0  | NA | NA | NA | 0 |\n",
       "\n"
      ],
      "text/plain": [
       "  IID     f.4825.0.0_recode f.4825.1.0_recode f.4825.2.0_recode\n",
       "1 1000046 NA                NA                0                \n",
       "2 1000063 0                 NA                NA               \n",
       "3 1000078 NA                0                 0                \n",
       "4 1000105 0                 NA                NA               \n",
       "5 1000112 NA                NA                0                \n",
       "6 1000141 0                 NA                NA               \n",
       "  f.4825.3.0_recode visit\n",
       "1 NA                0    \n",
       "2 NA                0    \n",
       "3 NA                0, 0 \n",
       "4 NA                0    \n",
       "5 NA                0    \n",
       "6 NA                0    "
      ]
     },
     "metadata": {},
     "output_type": "display_data"
    },
    {
     "data": {
      "text/html": [
       "<style>\n",
       ".list-inline {list-style: none; margin:0; padding: 0}\n",
       ".list-inline>li {display: inline-block}\n",
       ".list-inline>li:not(:last-child)::after {content: \"\\00b7\"; padding: 0 .5ex}\n",
       "</style>\n",
       "<ol class=list-inline><li>141560</li><li>6</li></ol>\n"
      ],
      "text/latex": [
       "\\begin{enumerate*}\n",
       "\\item 141560\n",
       "\\item 6\n",
       "\\end{enumerate*}\n"
      ],
      "text/markdown": [
       "1. 141560\n",
       "2. 6\n",
       "\n",
       "\n"
      ],
      "text/plain": [
       "[1] 141560      6"
      ]
     },
     "metadata": {},
     "output_type": "display_data"
    }
   ],
   "source": [
    "data_noise<-data_noise %>%\n",
    "  filter(!is.na(visit)) \n",
    "head(data_noise)\n",
    "dim(data_noise)"
   ]
  },
  {
   "cell_type": "code",
   "execution_count": 70,
   "metadata": {
    "kernel": "R"
   },
   "outputs": [
    {
     "data": {
      "text/html": [
       "<table>\n",
       "<caption>A data.frame: 12 × 7</caption>\n",
       "<thead>\n",
       "\t<tr><th></th><th scope=col>IID</th><th scope=col>f.4825.0.0_recode</th><th scope=col>f.4825.1.0_recode</th><th scope=col>f.4825.2.0_recode</th><th scope=col>f.4825.3.0_recode</th><th scope=col>visit</th><th scope=col>noise_wp</th></tr>\n",
       "\t<tr><th></th><th scope=col>&lt;int&gt;</th><th scope=col>&lt;ord&gt;</th><th scope=col>&lt;ord&gt;</th><th scope=col>&lt;ord&gt;</th><th scope=col>&lt;ord&gt;</th><th scope=col>&lt;list&gt;</th><th scope=col>&lt;dbl&gt;</th></tr>\n",
       "</thead>\n",
       "<tbody>\n",
       "\t<tr><th scope=row>1</th><td>1000046</td><td>NA</td><td>NA</td><td>0 </td><td>NA</td><td>0</td><td>0</td></tr>\n",
       "\t<tr><th scope=row>2</th><td>1000063</td><td>0 </td><td>NA</td><td>NA</td><td>NA</td><td>0</td><td>0</td></tr>\n",
       "\t<tr><th scope=row>3</th><td>1000078</td><td>NA</td><td>0 </td><td>0 </td><td>NA</td><td>0, 0</td><td>0</td></tr>\n",
       "\t<tr><th scope=row>4</th><td>1000105</td><td>0 </td><td>NA</td><td>NA</td><td>NA</td><td>0</td><td>0</td></tr>\n",
       "\t<tr><th scope=row>5</th><td>1000112</td><td>NA</td><td>NA</td><td>0 </td><td>NA</td><td>0</td><td>0</td></tr>\n",
       "\t<tr><th scope=row>6</th><td>1000141</td><td>0 </td><td>NA</td><td>NA</td><td>NA</td><td>0</td><td>0</td></tr>\n",
       "\t<tr><th scope=row>7</th><td>1000236</td><td>0 </td><td>NA</td><td>0 </td><td>NA</td><td>0, 0</td><td>0</td></tr>\n",
       "\t<tr><th scope=row>8</th><td>1000248</td><td>3 </td><td>NA</td><td>NA</td><td>NA</td><td>3</td><td>3</td></tr>\n",
       "\t<tr><th scope=row>9</th><td>1000269</td><td>NA</td><td>NA</td><td>0 </td><td>NA</td><td>0</td><td>0</td></tr>\n",
       "\t<tr><th scope=row>10</th><td>1000340</td><td>0 </td><td>NA</td><td>NA</td><td>NA</td><td>0</td><td>0</td></tr>\n",
       "\t<tr><th scope=row>11</th><td>1000357</td><td>0 </td><td>NA</td><td>NA</td><td>NA</td><td>0</td><td>0</td></tr>\n",
       "\t<tr><th scope=row>12</th><td>1000379</td><td>0 </td><td>NA</td><td>NA</td><td>NA</td><td>0</td><td>0</td></tr>\n",
       "</tbody>\n",
       "</table>\n"
      ],
      "text/latex": [
       "A data.frame: 12 × 7\n",
       "\\begin{tabular}{r|lllllll}\n",
       "  & IID & f.4825.0.0\\_recode & f.4825.1.0\\_recode & f.4825.2.0\\_recode & f.4825.3.0\\_recode & visit & noise\\_wp\\\\\n",
       "  & <int> & <ord> & <ord> & <ord> & <ord> & <list> & <dbl>\\\\\n",
       "\\hline\n",
       "\t1 & 1000046 & NA & NA & 0  & NA & 0 & 0\\\\\n",
       "\t2 & 1000063 & 0  & NA & NA & NA & 0 & 0\\\\\n",
       "\t3 & 1000078 & NA & 0  & 0  & NA & 0, 0 & 0\\\\\n",
       "\t4 & 1000105 & 0  & NA & NA & NA & 0 & 0\\\\\n",
       "\t5 & 1000112 & NA & NA & 0  & NA & 0 & 0\\\\\n",
       "\t6 & 1000141 & 0  & NA & NA & NA & 0 & 0\\\\\n",
       "\t7 & 1000236 & 0  & NA & 0  & NA & 0, 0 & 0\\\\\n",
       "\t8 & 1000248 & 3  & NA & NA & NA & 3 & 3\\\\\n",
       "\t9 & 1000269 & NA & NA & 0  & NA & 0 & 0\\\\\n",
       "\t10 & 1000340 & 0  & NA & NA & NA & 0 & 0\\\\\n",
       "\t11 & 1000357 & 0  & NA & NA & NA & 0 & 0\\\\\n",
       "\t12 & 1000379 & 0  & NA & NA & NA & 0 & 0\\\\\n",
       "\\end{tabular}\n"
      ],
      "text/markdown": [
       "\n",
       "A data.frame: 12 × 7\n",
       "\n",
       "| <!--/--> | IID &lt;int&gt; | f.4825.0.0_recode &lt;ord&gt; | f.4825.1.0_recode &lt;ord&gt; | f.4825.2.0_recode &lt;ord&gt; | f.4825.3.0_recode &lt;ord&gt; | visit &lt;list&gt; | noise_wp &lt;dbl&gt; |\n",
       "|---|---|---|---|---|---|---|---|\n",
       "| 1 | 1000046 | NA | NA | 0  | NA | 0 | 0 |\n",
       "| 2 | 1000063 | 0  | NA | NA | NA | 0 | 0 |\n",
       "| 3 | 1000078 | NA | 0  | 0  | NA | 0, 0 | 0 |\n",
       "| 4 | 1000105 | 0  | NA | NA | NA | 0 | 0 |\n",
       "| 5 | 1000112 | NA | NA | 0  | NA | 0 | 0 |\n",
       "| 6 | 1000141 | 0  | NA | NA | NA | 0 | 0 |\n",
       "| 7 | 1000236 | 0  | NA | 0  | NA | 0, 0 | 0 |\n",
       "| 8 | 1000248 | 3  | NA | NA | NA | 3 | 3 |\n",
       "| 9 | 1000269 | NA | NA | 0  | NA | 0 | 0 |\n",
       "| 10 | 1000340 | 0  | NA | NA | NA | 0 | 0 |\n",
       "| 11 | 1000357 | 0  | NA | NA | NA | 0 | 0 |\n",
       "| 12 | 1000379 | 0  | NA | NA | NA | 0 | 0 |\n",
       "\n"
      ],
      "text/plain": [
       "   IID     f.4825.0.0_recode f.4825.1.0_recode f.4825.2.0_recode\n",
       "1  1000046 NA                NA                0                \n",
       "2  1000063 0                 NA                NA               \n",
       "3  1000078 NA                0                 0                \n",
       "4  1000105 0                 NA                NA               \n",
       "5  1000112 NA                NA                0                \n",
       "6  1000141 0                 NA                NA               \n",
       "7  1000236 0                 NA                0                \n",
       "8  1000248 3                 NA                NA               \n",
       "9  1000269 NA                NA                0                \n",
       "10 1000340 0                 NA                NA               \n",
       "11 1000357 0                 NA                NA               \n",
       "12 1000379 0                 NA                NA               \n",
       "   f.4825.3.0_recode visit noise_wp\n",
       "1  NA                0     0       \n",
       "2  NA                0     0       \n",
       "3  NA                0, 0  0       \n",
       "4  NA                0     0       \n",
       "5  NA                0     0       \n",
       "6  NA                0     0       \n",
       "7  NA                0, 0  0       \n",
       "8  NA                3     3       \n",
       "9  NA                0     0       \n",
       "10 NA                0     0       \n",
       "11 NA                0     0       \n",
       "12 NA                0     0       "
      ]
     },
     "metadata": {},
     "output_type": "display_data"
    },
    {
     "data": {
      "text/html": [
       "<style>\n",
       ".list-inline {list-style: none; margin:0; padding: 0}\n",
       ".list-inline>li {display: inline-block}\n",
       ".list-inline>li:not(:last-child)::after {content: \"\\00b7\"; padding: 0 .5ex}\n",
       "</style>\n",
       "<ol class=list-inline><li>140338</li><li>7</li></ol>\n"
      ],
      "text/latex": [
       "\\begin{enumerate*}\n",
       "\\item 140338\n",
       "\\item 7\n",
       "\\end{enumerate*}\n"
      ],
      "text/markdown": [
       "1. 140338\n",
       "2. 7\n",
       "\n",
       "\n"
      ],
      "text/plain": [
       "[1] 140338      7"
      ]
     },
     "metadata": {},
     "output_type": "display_data"
    }
   ],
   "source": [
    "# Function to get the final code for noise_wp\n",
    "f<-function(x){\n",
    "  l=length(x$visit)\n",
    "  if (l==1){ # only one answer available\n",
    "    result=x$visit\n",
    "  }\n",
    "  else{ # more then one answer available\n",
    "    result=x$visit[1]\n",
    "    for (i in 2:l){\n",
    "      if (x$visit[i] >= x$visit[i-1]){result=x$visit[i]} # consistent ones\n",
    "      else {result=NA; break} # inconsistent ones\n",
    "    }\n",
    "  }\n",
    "  return(result)\n",
    "}\n",
    "\n",
    "# Apply the above function and remove NAs\n",
    "data_noise$noise_wp<-apply(data_noise, 1, f)\n",
    "data_noise<-data_noise %>%\n",
    "  filter(!is.na(noise_wp)) \n",
    "head(data_noise, 12) # note: noise_wp code generated here is numeric, not factor\n",
    "dim(data_noise)"
   ]
  },
  {
   "cell_type": "code",
   "execution_count": 71,
   "metadata": {
    "kernel": "R"
   },
   "outputs": [
    {
     "data": {
      "text/html": [
       "<style>\n",
       ".list-inline {list-style: none; margin:0; padding: 0}\n",
       ".list-inline>li {display: inline-block}\n",
       ".list-inline>li:not(:last-child)::after {content: \"\\00b7\"; padding: 0 .5ex}\n",
       "</style>\n",
       "<ol class=list-inline><li>142521</li><li>1092</li></ol>\n"
      ],
      "text/latex": [
       "\\begin{enumerate*}\n",
       "\\item 142521\n",
       "\\item 1092\n",
       "\\end{enumerate*}\n"
      ],
      "text/markdown": [
       "1. 142521\n",
       "2. 1092\n",
       "\n",
       "\n"
      ],
      "text/plain": [
       "[1] 142521   1092"
      ]
     },
     "metadata": {},
     "output_type": "display_data"
    }
   ],
   "source": [
    "# Append the noise variable to the data\n",
    "df.noise = merge(x = df.age,y = data_noise[,c(\"IID\", \"noise_wp\")],by=\"IID\", all.x=TRUE)\n",
    "dim(df.noise)"
   ]
  },
  {
   "cell_type": "markdown",
   "metadata": {
    "kernel": "R"
   },
   "source": [
    "### Checking consistency of the f.4836 loud music exposure frequency and filtering"
   ]
  },
  {
   "cell_type": "code",
   "execution_count": 72,
   "metadata": {
    "kernel": "R"
   },
   "outputs": [
    {
     "data": {
      "text/html": [
       "<table>\n",
       "<caption>A data.frame: 6 × 5</caption>\n",
       "<thead>\n",
       "\t<tr><th></th><th scope=col>IID</th><th scope=col>f.4836.0.0_recode</th><th scope=col>f.4836.1.0_recode</th><th scope=col>f.4836.2.0_recode</th><th scope=col>f.4836.3.0_recode</th></tr>\n",
       "\t<tr><th></th><th scope=col>&lt;int&gt;</th><th scope=col>&lt;ord&gt;</th><th scope=col>&lt;ord&gt;</th><th scope=col>&lt;ord&gt;</th><th scope=col>&lt;ord&gt;</th></tr>\n",
       "</thead>\n",
       "<tbody>\n",
       "\t<tr><th scope=row>1</th><td>1000046</td><td>NA</td><td>NA</td><td>0 </td><td>NA</td></tr>\n",
       "\t<tr><th scope=row>2</th><td>1000063</td><td>0 </td><td>NA</td><td>NA</td><td>NA</td></tr>\n",
       "\t<tr><th scope=row>3</th><td>1000078</td><td>NA</td><td>0 </td><td>0 </td><td>NA</td></tr>\n",
       "\t<tr><th scope=row>4</th><td>1000105</td><td>0 </td><td>NA</td><td>NA</td><td>NA</td></tr>\n",
       "\t<tr><th scope=row>5</th><td>1000112</td><td>NA</td><td>NA</td><td>0 </td><td>NA</td></tr>\n",
       "\t<tr><th scope=row>6</th><td>1000141</td><td>0 </td><td>NA</td><td>NA</td><td>NA</td></tr>\n",
       "</tbody>\n",
       "</table>\n"
      ],
      "text/latex": [
       "A data.frame: 6 × 5\n",
       "\\begin{tabular}{r|lllll}\n",
       "  & IID & f.4836.0.0\\_recode & f.4836.1.0\\_recode & f.4836.2.0\\_recode & f.4836.3.0\\_recode\\\\\n",
       "  & <int> & <ord> & <ord> & <ord> & <ord>\\\\\n",
       "\\hline\n",
       "\t1 & 1000046 & NA & NA & 0  & NA\\\\\n",
       "\t2 & 1000063 & 0  & NA & NA & NA\\\\\n",
       "\t3 & 1000078 & NA & 0  & 0  & NA\\\\\n",
       "\t4 & 1000105 & 0  & NA & NA & NA\\\\\n",
       "\t5 & 1000112 & NA & NA & 0  & NA\\\\\n",
       "\t6 & 1000141 & 0  & NA & NA & NA\\\\\n",
       "\\end{tabular}\n"
      ],
      "text/markdown": [
       "\n",
       "A data.frame: 6 × 5\n",
       "\n",
       "| <!--/--> | IID &lt;int&gt; | f.4836.0.0_recode &lt;ord&gt; | f.4836.1.0_recode &lt;ord&gt; | f.4836.2.0_recode &lt;ord&gt; | f.4836.3.0_recode &lt;ord&gt; |\n",
       "|---|---|---|---|---|---|\n",
       "| 1 | 1000046 | NA | NA | 0  | NA |\n",
       "| 2 | 1000063 | 0  | NA | NA | NA |\n",
       "| 3 | 1000078 | NA | 0  | 0  | NA |\n",
       "| 4 | 1000105 | 0  | NA | NA | NA |\n",
       "| 5 | 1000112 | NA | NA | 0  | NA |\n",
       "| 6 | 1000141 | 0  | NA | NA | NA |\n",
       "\n"
      ],
      "text/plain": [
       "  IID     f.4836.0.0_recode f.4836.1.0_recode f.4836.2.0_recode\n",
       "1 1000046 NA                NA                0                \n",
       "2 1000063 0                 NA                NA               \n",
       "3 1000078 NA                0                 0                \n",
       "4 1000105 0                 NA                NA               \n",
       "5 1000112 NA                NA                0                \n",
       "6 1000141 0                 NA                NA               \n",
       "  f.4836.3.0_recode\n",
       "1 NA               \n",
       "2 NA               \n",
       "3 NA               \n",
       "4 NA               \n",
       "5 NA               \n",
       "6 NA               "
      ]
     },
     "metadata": {},
     "output_type": "display_data"
    },
    {
     "data": {
      "text/html": [
       "<style>\n",
       ".list-inline {list-style: none; margin:0; padding: 0}\n",
       ".list-inline>li {display: inline-block}\n",
       ".list-inline>li:not(:last-child)::after {content: \"\\00b7\"; padding: 0 .5ex}\n",
       "</style>\n",
       "<ol class=list-inline><li>142521</li><li>5</li></ol>\n"
      ],
      "text/latex": [
       "\\begin{enumerate*}\n",
       "\\item 142521\n",
       "\\item 5\n",
       "\\end{enumerate*}\n"
      ],
      "text/markdown": [
       "1. 142521\n",
       "2. 5\n",
       "\n",
       "\n"
      ],
      "text/plain": [
       "[1] 142521      5"
      ]
     },
     "metadata": {},
     "output_type": "display_data"
    }
   ],
   "source": [
    "# Extract subset of data only with the recode columns of loud music exposure variable f.4836\n",
    "data_music <-  df.age %>%\n",
    "  select(IID,f.4836.0.0_recode,f.4836.1.0_recode,f.4836.2.0_recode,f.4836.3.0_recode) \n",
    "head(data_music)\n",
    "dim(data_music)"
   ]
  },
  {
   "cell_type": "code",
   "execution_count": 73,
   "metadata": {
    "kernel": "R"
   },
   "outputs": [
    {
     "data": {
      "text/html": [
       "<table>\n",
       "<caption>A data.frame: 6 × 6</caption>\n",
       "<thead>\n",
       "\t<tr><th></th><th scope=col>IID</th><th scope=col>f.4836.0.0_recode</th><th scope=col>f.4836.1.0_recode</th><th scope=col>f.4836.2.0_recode</th><th scope=col>f.4836.3.0_recode</th><th scope=col>visit</th></tr>\n",
       "\t<tr><th></th><th scope=col>&lt;int&gt;</th><th scope=col>&lt;ord&gt;</th><th scope=col>&lt;ord&gt;</th><th scope=col>&lt;ord&gt;</th><th scope=col>&lt;ord&gt;</th><th scope=col>&lt;list&gt;</th></tr>\n",
       "</thead>\n",
       "<tbody>\n",
       "\t<tr><th scope=row>1</th><td>1000046</td><td>NA</td><td>NA</td><td>0 </td><td>NA</td><td>0</td></tr>\n",
       "\t<tr><th scope=row>2</th><td>1000063</td><td>0 </td><td>NA</td><td>NA</td><td>NA</td><td>0</td></tr>\n",
       "\t<tr><th scope=row>3</th><td>1000078</td><td>NA</td><td>0 </td><td>0 </td><td>NA</td><td>0, 0</td></tr>\n",
       "\t<tr><th scope=row>4</th><td>1000105</td><td>0 </td><td>NA</td><td>NA</td><td>NA</td><td>0</td></tr>\n",
       "\t<tr><th scope=row>5</th><td>1000112</td><td>NA</td><td>NA</td><td>0 </td><td>NA</td><td>0</td></tr>\n",
       "\t<tr><th scope=row>6</th><td>1000141</td><td>0 </td><td>NA</td><td>NA</td><td>NA</td><td>0</td></tr>\n",
       "</tbody>\n",
       "</table>\n"
      ],
      "text/latex": [
       "A data.frame: 6 × 6\n",
       "\\begin{tabular}{r|llllll}\n",
       "  & IID & f.4836.0.0\\_recode & f.4836.1.0\\_recode & f.4836.2.0\\_recode & f.4836.3.0\\_recode & visit\\\\\n",
       "  & <int> & <ord> & <ord> & <ord> & <ord> & <list>\\\\\n",
       "\\hline\n",
       "\t1 & 1000046 & NA & NA & 0  & NA & 0\\\\\n",
       "\t2 & 1000063 & 0  & NA & NA & NA & 0\\\\\n",
       "\t3 & 1000078 & NA & 0  & 0  & NA & 0, 0\\\\\n",
       "\t4 & 1000105 & 0  & NA & NA & NA & 0\\\\\n",
       "\t5 & 1000112 & NA & NA & 0  & NA & 0\\\\\n",
       "\t6 & 1000141 & 0  & NA & NA & NA & 0\\\\\n",
       "\\end{tabular}\n"
      ],
      "text/markdown": [
       "\n",
       "A data.frame: 6 × 6\n",
       "\n",
       "| <!--/--> | IID &lt;int&gt; | f.4836.0.0_recode &lt;ord&gt; | f.4836.1.0_recode &lt;ord&gt; | f.4836.2.0_recode &lt;ord&gt; | f.4836.3.0_recode &lt;ord&gt; | visit &lt;list&gt; |\n",
       "|---|---|---|---|---|---|---|\n",
       "| 1 | 1000046 | NA | NA | 0  | NA | 0 |\n",
       "| 2 | 1000063 | 0  | NA | NA | NA | 0 |\n",
       "| 3 | 1000078 | NA | 0  | 0  | NA | 0, 0 |\n",
       "| 4 | 1000105 | 0  | NA | NA | NA | 0 |\n",
       "| 5 | 1000112 | NA | NA | 0  | NA | 0 |\n",
       "| 6 | 1000141 | 0  | NA | NA | NA | 0 |\n",
       "\n"
      ],
      "text/plain": [
       "  IID     f.4836.0.0_recode f.4836.1.0_recode f.4836.2.0_recode\n",
       "1 1000046 NA                NA                0                \n",
       "2 1000063 0                 NA                NA               \n",
       "3 1000078 NA                0                 0                \n",
       "4 1000105 0                 NA                NA               \n",
       "5 1000112 NA                NA                0                \n",
       "6 1000141 0                 NA                NA               \n",
       "  f.4836.3.0_recode visit\n",
       "1 NA                0    \n",
       "2 NA                0    \n",
       "3 NA                0, 0 \n",
       "4 NA                0    \n",
       "5 NA                0    \n",
       "6 NA                0    "
      ]
     },
     "metadata": {},
     "output_type": "display_data"
    },
    {
     "data": {
      "text/html": [
       "<style>\n",
       ".list-inline {list-style: none; margin:0; padding: 0}\n",
       ".list-inline>li {display: inline-block}\n",
       ".list-inline>li:not(:last-child)::after {content: \"\\00b7\"; padding: 0 .5ex}\n",
       "</style>\n",
       "<ol class=list-inline><li>140946</li><li>6</li></ol>\n"
      ],
      "text/latex": [
       "\\begin{enumerate*}\n",
       "\\item 140946\n",
       "\\item 6\n",
       "\\end{enumerate*}\n"
      ],
      "text/markdown": [
       "1. 140946\n",
       "2. 6\n",
       "\n",
       "\n"
      ],
      "text/plain": [
       "[1] 140946      6"
      ]
     },
     "metadata": {},
     "output_type": "display_data"
    }
   ],
   "source": [
    "# Function to extract all the available answers for 4 visits\n",
    "# and put them in one list\n",
    "\n",
    "f<-function(x){\n",
    "  visit<-c()\n",
    "  for (i in 2:5){\n",
    "    if (!is.na(x[i]))\n",
    "    {visit<-c(visit,x[i])}\n",
    "  }\n",
    "  if(is.null(visit)){visit=NA}\n",
    "  else{visit=as.numeric(visit)}\n",
    "  return (visit)\n",
    "}\n",
    "\n",
    "# Apply the above function and remove NAs\n",
    "                              \n",
    "data_music$visit<-apply(data_music, 1, f)\n",
    "data_music<-data_music %>%\n",
    "  filter(!is.na(visit)) \n",
    "head(data_music)\n",
    "dim(data_music)"
   ]
  },
  {
   "cell_type": "code",
   "execution_count": 74,
   "metadata": {
    "kernel": "R"
   },
   "outputs": [
    {
     "data": {
      "text/html": [
       "<table>\n",
       "<caption>A data.frame: 12 × 7</caption>\n",
       "<thead>\n",
       "\t<tr><th></th><th scope=col>IID</th><th scope=col>f.4836.0.0_recode</th><th scope=col>f.4836.1.0_recode</th><th scope=col>f.4836.2.0_recode</th><th scope=col>f.4836.3.0_recode</th><th scope=col>visit</th><th scope=col>loud_music</th></tr>\n",
       "\t<tr><th></th><th scope=col>&lt;int&gt;</th><th scope=col>&lt;ord&gt;</th><th scope=col>&lt;ord&gt;</th><th scope=col>&lt;ord&gt;</th><th scope=col>&lt;ord&gt;</th><th scope=col>&lt;list&gt;</th><th scope=col>&lt;dbl&gt;</th></tr>\n",
       "</thead>\n",
       "<tbody>\n",
       "\t<tr><th scope=row>1</th><td>1000046</td><td>NA</td><td>NA</td><td>0 </td><td>NA</td><td>0</td><td>0</td></tr>\n",
       "\t<tr><th scope=row>2</th><td>1000063</td><td>0 </td><td>NA</td><td>NA</td><td>NA</td><td>0</td><td>0</td></tr>\n",
       "\t<tr><th scope=row>3</th><td>1000078</td><td>NA</td><td>0 </td><td>0 </td><td>NA</td><td>0, 0</td><td>0</td></tr>\n",
       "\t<tr><th scope=row>4</th><td>1000105</td><td>0 </td><td>NA</td><td>NA</td><td>NA</td><td>0</td><td>0</td></tr>\n",
       "\t<tr><th scope=row>5</th><td>1000112</td><td>NA</td><td>NA</td><td>0 </td><td>NA</td><td>0</td><td>0</td></tr>\n",
       "\t<tr><th scope=row>6</th><td>1000141</td><td>0 </td><td>NA</td><td>NA</td><td>NA</td><td>0</td><td>0</td></tr>\n",
       "\t<tr><th scope=row>7</th><td>1000236</td><td>0 </td><td>NA</td><td>0 </td><td>NA</td><td>0, 0</td><td>0</td></tr>\n",
       "\t<tr><th scope=row>8</th><td>1000248</td><td>0 </td><td>NA</td><td>NA</td><td>NA</td><td>0</td><td>0</td></tr>\n",
       "\t<tr><th scope=row>9</th><td>1000269</td><td>NA</td><td>NA</td><td>0 </td><td>NA</td><td>0</td><td>0</td></tr>\n",
       "\t<tr><th scope=row>10</th><td>1000340</td><td>0 </td><td>NA</td><td>NA</td><td>NA</td><td>0</td><td>0</td></tr>\n",
       "\t<tr><th scope=row>11</th><td>1000357</td><td>0 </td><td>NA</td><td>NA</td><td>NA</td><td>0</td><td>0</td></tr>\n",
       "\t<tr><th scope=row>12</th><td>1000379</td><td>0 </td><td>NA</td><td>NA</td><td>NA</td><td>0</td><td>0</td></tr>\n",
       "</tbody>\n",
       "</table>\n"
      ],
      "text/latex": [
       "A data.frame: 12 × 7\n",
       "\\begin{tabular}{r|lllllll}\n",
       "  & IID & f.4836.0.0\\_recode & f.4836.1.0\\_recode & f.4836.2.0\\_recode & f.4836.3.0\\_recode & visit & loud\\_music\\\\\n",
       "  & <int> & <ord> & <ord> & <ord> & <ord> & <list> & <dbl>\\\\\n",
       "\\hline\n",
       "\t1 & 1000046 & NA & NA & 0  & NA & 0 & 0\\\\\n",
       "\t2 & 1000063 & 0  & NA & NA & NA & 0 & 0\\\\\n",
       "\t3 & 1000078 & NA & 0  & 0  & NA & 0, 0 & 0\\\\\n",
       "\t4 & 1000105 & 0  & NA & NA & NA & 0 & 0\\\\\n",
       "\t5 & 1000112 & NA & NA & 0  & NA & 0 & 0\\\\\n",
       "\t6 & 1000141 & 0  & NA & NA & NA & 0 & 0\\\\\n",
       "\t7 & 1000236 & 0  & NA & 0  & NA & 0, 0 & 0\\\\\n",
       "\t8 & 1000248 & 0  & NA & NA & NA & 0 & 0\\\\\n",
       "\t9 & 1000269 & NA & NA & 0  & NA & 0 & 0\\\\\n",
       "\t10 & 1000340 & 0  & NA & NA & NA & 0 & 0\\\\\n",
       "\t11 & 1000357 & 0  & NA & NA & NA & 0 & 0\\\\\n",
       "\t12 & 1000379 & 0  & NA & NA & NA & 0 & 0\\\\\n",
       "\\end{tabular}\n"
      ],
      "text/markdown": [
       "\n",
       "A data.frame: 12 × 7\n",
       "\n",
       "| <!--/--> | IID &lt;int&gt; | f.4836.0.0_recode &lt;ord&gt; | f.4836.1.0_recode &lt;ord&gt; | f.4836.2.0_recode &lt;ord&gt; | f.4836.3.0_recode &lt;ord&gt; | visit &lt;list&gt; | loud_music &lt;dbl&gt; |\n",
       "|---|---|---|---|---|---|---|---|\n",
       "| 1 | 1000046 | NA | NA | 0  | NA | 0 | 0 |\n",
       "| 2 | 1000063 | 0  | NA | NA | NA | 0 | 0 |\n",
       "| 3 | 1000078 | NA | 0  | 0  | NA | 0, 0 | 0 |\n",
       "| 4 | 1000105 | 0  | NA | NA | NA | 0 | 0 |\n",
       "| 5 | 1000112 | NA | NA | 0  | NA | 0 | 0 |\n",
       "| 6 | 1000141 | 0  | NA | NA | NA | 0 | 0 |\n",
       "| 7 | 1000236 | 0  | NA | 0  | NA | 0, 0 | 0 |\n",
       "| 8 | 1000248 | 0  | NA | NA | NA | 0 | 0 |\n",
       "| 9 | 1000269 | NA | NA | 0  | NA | 0 | 0 |\n",
       "| 10 | 1000340 | 0  | NA | NA | NA | 0 | 0 |\n",
       "| 11 | 1000357 | 0  | NA | NA | NA | 0 | 0 |\n",
       "| 12 | 1000379 | 0  | NA | NA | NA | 0 | 0 |\n",
       "\n"
      ],
      "text/plain": [
       "   IID     f.4836.0.0_recode f.4836.1.0_recode f.4836.2.0_recode\n",
       "1  1000046 NA                NA                0                \n",
       "2  1000063 0                 NA                NA               \n",
       "3  1000078 NA                0                 0                \n",
       "4  1000105 0                 NA                NA               \n",
       "5  1000112 NA                NA                0                \n",
       "6  1000141 0                 NA                NA               \n",
       "7  1000236 0                 NA                0                \n",
       "8  1000248 0                 NA                NA               \n",
       "9  1000269 NA                NA                0                \n",
       "10 1000340 0                 NA                NA               \n",
       "11 1000357 0                 NA                NA               \n",
       "12 1000379 0                 NA                NA               \n",
       "   f.4836.3.0_recode visit loud_music\n",
       "1  NA                0     0         \n",
       "2  NA                0     0         \n",
       "3  NA                0, 0  0         \n",
       "4  NA                0     0         \n",
       "5  NA                0     0         \n",
       "6  NA                0     0         \n",
       "7  NA                0, 0  0         \n",
       "8  NA                0     0         \n",
       "9  NA                0     0         \n",
       "10 NA                0     0         \n",
       "11 NA                0     0         \n",
       "12 NA                0     0         "
      ]
     },
     "metadata": {},
     "output_type": "display_data"
    },
    {
     "data": {
      "text/html": [
       "<style>\n",
       ".list-inline {list-style: none; margin:0; padding: 0}\n",
       ".list-inline>li {display: inline-block}\n",
       ".list-inline>li:not(:last-child)::after {content: \"\\00b7\"; padding: 0 .5ex}\n",
       "</style>\n",
       "<ol class=list-inline><li>139724</li><li>7</li></ol>\n"
      ],
      "text/latex": [
       "\\begin{enumerate*}\n",
       "\\item 139724\n",
       "\\item 7\n",
       "\\end{enumerate*}\n"
      ],
      "text/markdown": [
       "1. 139724\n",
       "2. 7\n",
       "\n",
       "\n"
      ],
      "text/plain": [
       "[1] 139724      7"
      ]
     },
     "metadata": {},
     "output_type": "display_data"
    }
   ],
   "source": [
    "# Function to get the final code for \"loud_music\"\n",
    "f<-function(x){\n",
    "  l=length(x$visit)\n",
    "  if (l==1){ # only one answer available\n",
    "    result=x$visit\n",
    "  }\n",
    "  else{ # more then one answer available\n",
    "    result=x$visit[1]\n",
    "    for (i in 2:l){\n",
    "      if (x$visit[i] >= x$visit[i-1]){result=x$visit[i]} # consistent ones\n",
    "      else {result=NA; break} # inconsistent ones\n",
    "    }\n",
    "  }\n",
    "  return(result)\n",
    "}\n",
    "\n",
    "# Apply the above function and remove NAs\n",
    "data_music$loud_music<-apply(data_music, 1, f)\n",
    "data_music<-data_music %>%\n",
    "  filter(!is.na(loud_music)) \n",
    "head(data_music, 12) # note: loud_music code generated here is numeric, not factor\n",
    "dim(data_music)"
   ]
  },
  {
   "cell_type": "code",
   "execution_count": 75,
   "metadata": {
    "kernel": "R"
   },
   "outputs": [
    {
     "data": {
      "text/html": [
       "<style>\n",
       ".list-inline {list-style: none; margin:0; padding: 0}\n",
       ".list-inline>li {display: inline-block}\n",
       ".list-inline>li:not(:last-child)::after {content: \"\\00b7\"; padding: 0 .5ex}\n",
       "</style>\n",
       "<ol class=list-inline><li>142521</li><li>1093</li></ol>\n"
      ],
      "text/latex": [
       "\\begin{enumerate*}\n",
       "\\item 142521\n",
       "\\item 1093\n",
       "\\end{enumerate*}\n"
      ],
      "text/markdown": [
       "1. 142521\n",
       "2. 1093\n",
       "\n",
       "\n"
      ],
      "text/plain": [
       "[1] 142521   1093"
      ]
     },
     "metadata": {},
     "output_type": "display_data"
    }
   ],
   "source": [
    "# Merge all of the variables in the final dataset\n",
    "df.final = merge(x = df.noise,y = data_music[,c(\"IID\", \"loud_music\")],by=\"IID\", all.x=TRUE)\n",
    "dim(df.final)  "
   ]
  },
  {
   "cell_type": "markdown",
   "metadata": {
    "kernel": "R"
   },
   "source": [
    "### Tinnitus complete cases for association analyses : exporting the file"
   ]
  },
  {
   "cell_type": "code",
   "execution_count": 77,
   "metadata": {
    "kernel": "R"
   },
   "outputs": [
    {
     "data": {
      "text/html": [
       "<table>\n",
       "<caption>A data.frame: 6 × 7</caption>\n",
       "<thead>\n",
       "\t<tr><th></th><th scope=col>FID</th><th scope=col>IID</th><th scope=col>age</th><th scope=col>sex</th><th scope=col>tinnitus</th><th scope=col>noise_wp</th><th scope=col>loud_music</th></tr>\n",
       "\t<tr><th></th><th scope=col>&lt;int&gt;</th><th scope=col>&lt;int&gt;</th><th scope=col>&lt;int&gt;</th><th scope=col>&lt;fct&gt;</th><th scope=col>&lt;chr&gt;</th><th scope=col>&lt;dbl&gt;</th><th scope=col>&lt;dbl&gt;</th></tr>\n",
       "</thead>\n",
       "<tbody>\n",
       "\t<tr><th scope=row>1</th><td>1000046</td><td>1000046</td><td>73</td><td>1</td><td>0</td><td>0</td><td>0</td></tr>\n",
       "\t<tr><th scope=row>2</th><td>1000063</td><td>1000063</td><td>43</td><td>0</td><td>0</td><td>0</td><td>0</td></tr>\n",
       "\t<tr><th scope=row>3</th><td>1000078</td><td>1000078</td><td>60</td><td>1</td><td>0</td><td>0</td><td>0</td></tr>\n",
       "\t<tr><th scope=row>4</th><td>1000105</td><td>1000105</td><td>54</td><td>1</td><td>1</td><td>0</td><td>0</td></tr>\n",
       "\t<tr><th scope=row>5</th><td>1000112</td><td>1000112</td><td>68</td><td>0</td><td>0</td><td>0</td><td>0</td></tr>\n",
       "\t<tr><th scope=row>6</th><td>1000141</td><td>1000141</td><td>49</td><td>1</td><td>0</td><td>0</td><td>0</td></tr>\n",
       "</tbody>\n",
       "</table>\n"
      ],
      "text/latex": [
       "A data.frame: 6 × 7\n",
       "\\begin{tabular}{r|lllllll}\n",
       "  & FID & IID & age & sex & tinnitus & noise\\_wp & loud\\_music\\\\\n",
       "  & <int> & <int> & <int> & <fct> & <chr> & <dbl> & <dbl>\\\\\n",
       "\\hline\n",
       "\t1 & 1000046 & 1000046 & 73 & 1 & 0 & 0 & 0\\\\\n",
       "\t2 & 1000063 & 1000063 & 43 & 0 & 0 & 0 & 0\\\\\n",
       "\t3 & 1000078 & 1000078 & 60 & 1 & 0 & 0 & 0\\\\\n",
       "\t4 & 1000105 & 1000105 & 54 & 1 & 1 & 0 & 0\\\\\n",
       "\t5 & 1000112 & 1000112 & 68 & 0 & 0 & 0 & 0\\\\\n",
       "\t6 & 1000141 & 1000141 & 49 & 1 & 0 & 0 & 0\\\\\n",
       "\\end{tabular}\n"
      ],
      "text/markdown": [
       "\n",
       "A data.frame: 6 × 7\n",
       "\n",
       "| <!--/--> | FID &lt;int&gt; | IID &lt;int&gt; | age &lt;int&gt; | sex &lt;fct&gt; | tinnitus &lt;chr&gt; | noise_wp &lt;dbl&gt; | loud_music &lt;dbl&gt; |\n",
       "|---|---|---|---|---|---|---|---|\n",
       "| 1 | 1000046 | 1000046 | 73 | 1 | 0 | 0 | 0 |\n",
       "| 2 | 1000063 | 1000063 | 43 | 0 | 0 | 0 | 0 |\n",
       "| 3 | 1000078 | 1000078 | 60 | 1 | 0 | 0 | 0 |\n",
       "| 4 | 1000105 | 1000105 | 54 | 1 | 1 | 0 | 0 |\n",
       "| 5 | 1000112 | 1000112 | 68 | 0 | 0 | 0 | 0 |\n",
       "| 6 | 1000141 | 1000141 | 49 | 1 | 0 | 0 | 0 |\n",
       "\n"
      ],
      "text/plain": [
       "  FID     IID     age sex tinnitus noise_wp loud_music\n",
       "1 1000046 1000046 73  1   0        0        0         \n",
       "2 1000063 1000063 43  0   0        0        0         \n",
       "3 1000078 1000078 60  1   0        0        0         \n",
       "4 1000105 1000105 54  1   1        0        0         \n",
       "5 1000112 1000112 68  0   0        0        0         \n",
       "6 1000141 1000141 49  1   0        0        0         "
      ]
     },
     "metadata": {},
     "output_type": "display_data"
    },
    {
     "data": {
      "text/html": [
       "<style>\n",
       ".list-inline {list-style: none; margin:0; padding: 0}\n",
       ".list-inline>li {display: inline-block}\n",
       ".list-inline>li:not(:last-child)::after {content: \"\\00b7\"; padding: 0 .5ex}\n",
       "</style>\n",
       "<ol class=list-inline><li>142521</li><li>7</li></ol>\n"
      ],
      "text/latex": [
       "\\begin{enumerate*}\n",
       "\\item 142521\n",
       "\\item 7\n",
       "\\end{enumerate*}\n"
      ],
      "text/markdown": [
       "1. 142521\n",
       "2. 7\n",
       "\n",
       "\n"
      ],
      "text/plain": [
       "[1] 142521      7"
      ]
     },
     "metadata": {},
     "output_type": "display_data"
    }
   ],
   "source": [
    "# Last renaming and recoding\n",
    "names(df.final)[names(df.final) == \"age_final\"] <- \"age\"\n",
    "\n",
    "# Creating the file for subsequent association analyses\n",
    "\n",
    "tinnitus_cc <- df.final %>%\n",
    "  filter(!is.na(tinnitus)) %>%\n",
    "  select(FID, IID, age, sex, tinnitus, noise_wp, loud_music)\n",
    "head(tinnitus_cc)\n",
    "dim(tinnitus_cc)"
   ]
  },
  {
   "cell_type": "code",
   "execution_count": 78,
   "metadata": {
    "kernel": "R"
   },
   "outputs": [
    {
     "data": {
      "text/html": [
       "2183"
      ],
      "text/latex": [
       "2183"
      ],
      "text/markdown": [
       "2183"
      ],
      "text/plain": [
       "[1] 2183"
      ]
     },
     "metadata": {},
     "output_type": "display_data"
    }
   ],
   "source": [
    "length(which(is.na(tinnitus_cc$noise_wp))) #missing data for noisy workplace"
   ]
  },
  {
   "cell_type": "code",
   "execution_count": 79,
   "metadata": {
    "kernel": "R"
   },
   "outputs": [
    {
     "data": {
      "text/html": [
       "2797"
      ],
      "text/latex": [
       "2797"
      ],
      "text/markdown": [
       "2797"
      ],
      "text/plain": [
       "[1] 2797"
      ]
     },
     "metadata": {},
     "output_type": "display_data"
    }
   ],
   "source": [
    "length(which(is.na(tinnitus_cc$loud_music))) #missing data for loud_music"
   ]
  },
  {
   "cell_type": "code",
   "execution_count": 80,
   "metadata": {
    "kernel": "R"
   },
   "outputs": [
    {
     "data": {
      "text/html": [
       "304"
      ],
      "text/latex": [
       "304"
      ],
      "text/markdown": [
       "304"
      ],
      "text/plain": [
       "[1] 304"
      ]
     },
     "metadata": {},
     "output_type": "display_data"
    }
   ],
   "source": [
    "length(which(is.na(tinnitus_cc$loud_music) & is.na(tinnitus_cc$noise_wp))) #missing data for both covariates"
   ]
  },
  {
   "cell_type": "code",
   "execution_count": 81,
   "metadata": {
    "kernel": "R"
   },
   "outputs": [
    {
     "data": {
      "text/html": [
       "4676"
      ],
      "text/latex": [
       "4676"
      ],
      "text/markdown": [
       "4676"
      ],
      "text/plain": [
       "[1] 4676"
      ]
     },
     "metadata": {},
     "output_type": "display_data"
    }
   ],
   "source": [
    "length(which(is.na(tinnitus_cc$loud_music) | is.na(tinnitus_cc$noise_wp))) #noise variables missing cases"
   ]
  },
  {
   "cell_type": "code",
   "execution_count": null,
   "metadata": {
    "kernel": "R"
   },
   "outputs": [],
   "source": [
    "# Export to file in correct format \n",
    "# Contains all tinnitus cases, noise variables some are NA\n",
    "write.table(tinnitus_cc, '200716_UKBB_Tinnitus_f4803', quote = FALSE, row.names = FALSE)"
   ]
  },
  {
   "cell_type": "code",
   "execution_count": null,
   "metadata": {
    "kernel": "R"
   },
   "outputs": [],
   "source": [
    "tinnitus_complete <- df.final %>%\n",
    "  filter(!is.na(tinnitus) & !is.na(noise_wp) & !is.na(loud_music)) %>%\n",
    "  select(FID, IID, age, sex, tinnitus, noise_wp, loud_music)\n",
    "head(tinnitus_complete)\n",
    "dim(tinnitus_complete)"
   ]
  },
  {
   "cell_type": "code",
   "execution_count": null,
   "metadata": {
    "kernel": "R"
   },
   "outputs": [],
   "source": [
    "# Export file tinnitus complete cases (no missing data for noise variables)\n",
    "write.table(tinnitus_complete,'200722_UKBB_Tinnitus_f4803_completecases', quote = FALSE, row.names = FALSE)"
   ]
  },
  {
   "cell_type": "code",
   "execution_count": null,
   "metadata": {
    "kernel": "R"
   },
   "outputs": [],
   "source": [
    "# Export complete database to extract the rest of phenotypes\n",
    "write.csv(df.final,'200716_UKBB_HI_genotypeqc.csv', row.names = FALSE)"
   ]
  },
  {
   "cell_type": "code",
   "execution_count": null,
   "metadata": {
    "kernel": "SoS"
   },
   "outputs": [],
   "source": [
    "# Import tinnitus complete\n",
    "tinnitus_complete <- read.table('200722_UKBB_Tinnitus_f4803_completecases',  header=TRUE)\n",
    "head(tinnitus_complete)"
   ]
  },
  {
   "cell_type": "markdown",
   "metadata": {
    "kernel": "R"
   },
   "source": [
    "### Imputation of noise variables using the median"
   ]
  },
  {
   "cell_type": "markdown",
   "metadata": {
    "kernel": "R"
   },
   "source": [
    "Calculate mean and median for the entire sample (n=142,082)"
   ]
  },
  {
   "cell_type": "code",
   "execution_count": 82,
   "metadata": {
    "kernel": "R"
   },
   "outputs": [
    {
     "data": {
      "text/html": [
       "0.521327081759752"
      ],
      "text/latex": [
       "0.521327081759752"
      ],
      "text/markdown": [
       "0.521327081759752"
      ],
      "text/plain": [
       "[1] 0.5213271"
      ]
     },
     "metadata": {},
     "output_type": "display_data"
    },
    {
     "data": {
      "text/html": [
       "0"
      ],
      "text/latex": [
       "0"
      ],
      "text/markdown": [
       "0"
      ],
      "text/plain": [
       "[1] 0"
      ]
     },
     "metadata": {},
     "output_type": "display_data"
    }
   ],
   "source": [
    "mean(tinnitus_cc$noise_wp, na.rm=TRUE)\n",
    "median(tinnitus_cc$noise_wp, na.rm=TRUE)"
   ]
  },
  {
   "cell_type": "markdown",
   "metadata": {
    "kernel": "R"
   },
   "source": [
    "Calculate the mean and median in cases and controls"
   ]
  },
  {
   "cell_type": "code",
   "execution_count": 83,
   "metadata": {
    "kernel": "R"
   },
   "outputs": [
    {
     "data": {
      "text/html": [
       "0.769467528470299"
      ],
      "text/latex": [
       "0.769467528470299"
      ],
      "text/markdown": [
       "0.769467528470299"
      ],
      "text/plain": [
       "[1] 0.7694675"
      ]
     },
     "metadata": {},
     "output_type": "display_data"
    },
    {
     "data": {
      "text/html": [
       "0"
      ],
      "text/latex": [
       "0"
      ],
      "text/markdown": [
       "0"
      ],
      "text/plain": [
       "[1] 0"
      ]
     },
     "metadata": {},
     "output_type": "display_data"
    }
   ],
   "source": [
    "mean(subset(tinnitus_cc, tinnitus == 1)$noise_wp, na.rm=TRUE)\n",
    "median(subset(tinnitus_cc, tinnitus == 1)$noise_wp, na.rm=TRUE)"
   ]
  },
  {
   "cell_type": "code",
   "execution_count": 84,
   "metadata": {
    "kernel": "R"
   },
   "outputs": [
    {
     "data": {
      "text/html": [
       "0.414491187653541"
      ],
      "text/latex": [
       "0.414491187653541"
      ],
      "text/markdown": [
       "0.414491187653541"
      ],
      "text/plain": [
       "[1] 0.4144912"
      ]
     },
     "metadata": {},
     "output_type": "display_data"
    },
    {
     "data": {
      "text/html": [
       "0"
      ],
      "text/latex": [
       "0"
      ],
      "text/markdown": [
       "0"
      ],
      "text/plain": [
       "[1] 0"
      ]
     },
     "metadata": {},
     "output_type": "display_data"
    }
   ],
   "source": [
    "mean(subset(tinnitus_cc, tinnitus == 0)$noise_wp, na.rm=TRUE)\n",
    "median(subset(tinnitus_cc, tinnitus == 0)$noise_wp, na.rm=TRUE)"
   ]
  },
  {
   "cell_type": "markdown",
   "metadata": {
    "kernel": "R"
   },
   "source": [
    "Impute values of noisy workplace and loud music exposure using the median"
   ]
  },
  {
   "cell_type": "code",
   "execution_count": 117,
   "metadata": {
    "kernel": "R"
   },
   "outputs": [],
   "source": [
    "df.noise <-df.final %>% \n",
    "  filter(!is.na(tinnitus)) %>%\n",
    "  select(IID, tinnitus, noise_wp, loud_music) %>%\n",
    "  group_by(tinnitus) %>%\n",
    "  mutate(noise_wp=ifelse(is.na(noise_wp),median(noise_wp,na.rm=TRUE),noise_wp)) %>%\n",
    "  mutate(loud_music=ifelse(is.na(loud_music),median(loud_music,na.rm=TRUE),loud_music))"
   ]
  },
  {
   "cell_type": "code",
   "execution_count": 105,
   "metadata": {
    "kernel": "R"
   },
   "outputs": [
    {
     "data": {
      "text/html": [
       "<table>\n",
       "<caption>A grouped_df: 10 × 4</caption>\n",
       "<thead>\n",
       "\t<tr><th scope=col>IID</th><th scope=col>tinnitus</th><th scope=col>noise_wp</th><th scope=col>loud_music</th></tr>\n",
       "\t<tr><th scope=col>&lt;int&gt;</th><th scope=col>&lt;chr&gt;</th><th scope=col>&lt;dbl&gt;</th><th scope=col>&lt;dbl&gt;</th></tr>\n",
       "</thead>\n",
       "<tbody>\n",
       "\t<tr><td>1000046</td><td>0</td><td>0</td><td>0</td></tr>\n",
       "\t<tr><td>1000063</td><td>0</td><td>0</td><td>0</td></tr>\n",
       "\t<tr><td>1000078</td><td>0</td><td>0</td><td>0</td></tr>\n",
       "\t<tr><td>1000105</td><td>1</td><td>0</td><td>0</td></tr>\n",
       "\t<tr><td>1000112</td><td>0</td><td>0</td><td>0</td></tr>\n",
       "\t<tr><td>1000141</td><td>0</td><td>0</td><td>0</td></tr>\n",
       "\t<tr><td>1000236</td><td>0</td><td>0</td><td>0</td></tr>\n",
       "\t<tr><td>1000248</td><td>0</td><td>3</td><td>0</td></tr>\n",
       "\t<tr><td>1000269</td><td>0</td><td>0</td><td>0</td></tr>\n",
       "\t<tr><td>1000340</td><td>0</td><td>0</td><td>0</td></tr>\n",
       "</tbody>\n",
       "</table>\n"
      ],
      "text/latex": [
       "A grouped\\_df: 10 × 4\n",
       "\\begin{tabular}{llll}\n",
       " IID & tinnitus & noise\\_wp & loud\\_music\\\\\n",
       " <int> & <chr> & <dbl> & <dbl>\\\\\n",
       "\\hline\n",
       "\t 1000046 & 0 & 0 & 0\\\\\n",
       "\t 1000063 & 0 & 0 & 0\\\\\n",
       "\t 1000078 & 0 & 0 & 0\\\\\n",
       "\t 1000105 & 1 & 0 & 0\\\\\n",
       "\t 1000112 & 0 & 0 & 0\\\\\n",
       "\t 1000141 & 0 & 0 & 0\\\\\n",
       "\t 1000236 & 0 & 0 & 0\\\\\n",
       "\t 1000248 & 0 & 3 & 0\\\\\n",
       "\t 1000269 & 0 & 0 & 0\\\\\n",
       "\t 1000340 & 0 & 0 & 0\\\\\n",
       "\\end{tabular}\n"
      ],
      "text/markdown": [
       "\n",
       "A grouped_df: 10 × 4\n",
       "\n",
       "| IID &lt;int&gt; | tinnitus &lt;chr&gt; | noise_wp &lt;dbl&gt; | loud_music &lt;dbl&gt; |\n",
       "|---|---|---|---|\n",
       "| 1000046 | 0 | 0 | 0 |\n",
       "| 1000063 | 0 | 0 | 0 |\n",
       "| 1000078 | 0 | 0 | 0 |\n",
       "| 1000105 | 1 | 0 | 0 |\n",
       "| 1000112 | 0 | 0 | 0 |\n",
       "| 1000141 | 0 | 0 | 0 |\n",
       "| 1000236 | 0 | 0 | 0 |\n",
       "| 1000248 | 0 | 3 | 0 |\n",
       "| 1000269 | 0 | 0 | 0 |\n",
       "| 1000340 | 0 | 0 | 0 |\n",
       "\n"
      ],
      "text/plain": [
       "   IID     tinnitus noise_wp loud_music\n",
       "1  1000046 0        0        0         \n",
       "2  1000063 0        0        0         \n",
       "3  1000078 0        0        0         \n",
       "4  1000105 1        0        0         \n",
       "5  1000112 0        0        0         \n",
       "6  1000141 0        0        0         \n",
       "7  1000236 0        0        0         \n",
       "8  1000248 0        3        0         \n",
       "9  1000269 0        0        0         \n",
       "10 1000340 0        0        0         "
      ]
     },
     "metadata": {},
     "output_type": "display_data"
    }
   ],
   "source": [
    "head(df.noise, 10)"
   ]
  },
  {
   "cell_type": "code",
   "execution_count": 118,
   "metadata": {
    "kernel": "R"
   },
   "outputs": [
    {
     "data": {
      "text/html": [
       "<table>\n",
       "<caption>A grouped_df: 6 × 4</caption>\n",
       "<thead>\n",
       "\t<tr><th scope=col>IID</th><th scope=col>tinnitus</th><th scope=col>noise_imp</th><th scope=col>music_imp</th></tr>\n",
       "\t<tr><th scope=col>&lt;int&gt;</th><th scope=col>&lt;chr&gt;</th><th scope=col>&lt;dbl&gt;</th><th scope=col>&lt;dbl&gt;</th></tr>\n",
       "</thead>\n",
       "<tbody>\n",
       "\t<tr><td>1000046</td><td>0</td><td>0</td><td>0</td></tr>\n",
       "\t<tr><td>1000063</td><td>0</td><td>0</td><td>0</td></tr>\n",
       "\t<tr><td>1000078</td><td>0</td><td>0</td><td>0</td></tr>\n",
       "\t<tr><td>1000105</td><td>1</td><td>0</td><td>0</td></tr>\n",
       "\t<tr><td>1000112</td><td>0</td><td>0</td><td>0</td></tr>\n",
       "\t<tr><td>1000141</td><td>0</td><td>0</td><td>0</td></tr>\n",
       "</tbody>\n",
       "</table>\n"
      ],
      "text/latex": [
       "A grouped\\_df: 6 × 4\n",
       "\\begin{tabular}{llll}\n",
       " IID & tinnitus & noise\\_imp & music\\_imp\\\\\n",
       " <int> & <chr> & <dbl> & <dbl>\\\\\n",
       "\\hline\n",
       "\t 1000046 & 0 & 0 & 0\\\\\n",
       "\t 1000063 & 0 & 0 & 0\\\\\n",
       "\t 1000078 & 0 & 0 & 0\\\\\n",
       "\t 1000105 & 1 & 0 & 0\\\\\n",
       "\t 1000112 & 0 & 0 & 0\\\\\n",
       "\t 1000141 & 0 & 0 & 0\\\\\n",
       "\\end{tabular}\n"
      ],
      "text/markdown": [
       "\n",
       "A grouped_df: 6 × 4\n",
       "\n",
       "| IID &lt;int&gt; | tinnitus &lt;chr&gt; | noise_imp &lt;dbl&gt; | music_imp &lt;dbl&gt; |\n",
       "|---|---|---|---|\n",
       "| 1000046 | 0 | 0 | 0 |\n",
       "| 1000063 | 0 | 0 | 0 |\n",
       "| 1000078 | 0 | 0 | 0 |\n",
       "| 1000105 | 1 | 0 | 0 |\n",
       "| 1000112 | 0 | 0 | 0 |\n",
       "| 1000141 | 0 | 0 | 0 |\n",
       "\n"
      ],
      "text/plain": [
       "  IID     tinnitus noise_imp music_imp\n",
       "1 1000046 0        0         0        \n",
       "2 1000063 0        0         0        \n",
       "3 1000078 0        0         0        \n",
       "4 1000105 1        0         0        \n",
       "5 1000112 0        0         0        \n",
       "6 1000141 0        0         0        "
      ]
     },
     "metadata": {},
     "output_type": "display_data"
    }
   ],
   "source": [
    "names(df.noise)[names(df.noise)==\"noise_wp\"] <- \"noise_imp\"\n",
    "names(df.noise)[names(df.noise)==\"loud_music\"] <- \"music_imp\"\n",
    "head(df.noise)"
   ]
  },
  {
   "cell_type": "markdown",
   "metadata": {
    "kernel": "R"
   },
   "source": [
    "Merge with complete database"
   ]
  },
  {
   "cell_type": "code",
   "execution_count": 123,
   "metadata": {
    "kernel": "R"
   },
   "outputs": [
    {
     "data": {
      "text/html": [
       "<style>\n",
       ".list-inline {list-style: none; margin:0; padding: 0}\n",
       ".list-inline>li {display: inline-block}\n",
       ".list-inline>li:not(:last-child)::after {content: \"\\00b7\"; padding: 0 .5ex}\n",
       "</style>\n",
       "<ol class=list-inline><li>142521</li><li>9</li></ol>\n"
      ],
      "text/latex": [
       "\\begin{enumerate*}\n",
       "\\item 142521\n",
       "\\item 9\n",
       "\\end{enumerate*}\n"
      ],
      "text/markdown": [
       "1. 142521\n",
       "2. 9\n",
       "\n",
       "\n"
      ],
      "text/plain": [
       "[1] 142521      9"
      ]
     },
     "metadata": {},
     "output_type": "display_data"
    },
    {
     "data": {
      "text/html": [
       "<table>\n",
       "<caption>A data.frame: 6 × 9</caption>\n",
       "<thead>\n",
       "\t<tr><th></th><th scope=col>FID</th><th scope=col>IID</th><th scope=col>age</th><th scope=col>sex</th><th scope=col>tinnitus</th><th scope=col>noise_wp</th><th scope=col>loud_music</th><th scope=col>noise_imp</th><th scope=col>music_imp</th></tr>\n",
       "\t<tr><th></th><th scope=col>&lt;int&gt;</th><th scope=col>&lt;int&gt;</th><th scope=col>&lt;int&gt;</th><th scope=col>&lt;fct&gt;</th><th scope=col>&lt;chr&gt;</th><th scope=col>&lt;dbl&gt;</th><th scope=col>&lt;dbl&gt;</th><th scope=col>&lt;dbl&gt;</th><th scope=col>&lt;dbl&gt;</th></tr>\n",
       "</thead>\n",
       "<tbody>\n",
       "\t<tr><th scope=row>1</th><td>1000046</td><td>1000046</td><td>73</td><td>1</td><td>0</td><td>0</td><td>0</td><td>0</td><td>0</td></tr>\n",
       "\t<tr><th scope=row>2</th><td>1000063</td><td>1000063</td><td>43</td><td>0</td><td>0</td><td>0</td><td>0</td><td>0</td><td>0</td></tr>\n",
       "\t<tr><th scope=row>3</th><td>1000078</td><td>1000078</td><td>60</td><td>1</td><td>0</td><td>0</td><td>0</td><td>0</td><td>0</td></tr>\n",
       "\t<tr><th scope=row>4</th><td>1000105</td><td>1000105</td><td>54</td><td>1</td><td>1</td><td>0</td><td>0</td><td>0</td><td>0</td></tr>\n",
       "\t<tr><th scope=row>5</th><td>1000112</td><td>1000112</td><td>68</td><td>0</td><td>0</td><td>0</td><td>0</td><td>0</td><td>0</td></tr>\n",
       "\t<tr><th scope=row>6</th><td>1000141</td><td>1000141</td><td>49</td><td>1</td><td>0</td><td>0</td><td>0</td><td>0</td><td>0</td></tr>\n",
       "</tbody>\n",
       "</table>\n"
      ],
      "text/latex": [
       "A data.frame: 6 × 9\n",
       "\\begin{tabular}{r|lllllllll}\n",
       "  & FID & IID & age & sex & tinnitus & noise\\_wp & loud\\_music & noise\\_imp & music\\_imp\\\\\n",
       "  & <int> & <int> & <int> & <fct> & <chr> & <dbl> & <dbl> & <dbl> & <dbl>\\\\\n",
       "\\hline\n",
       "\t1 & 1000046 & 1000046 & 73 & 1 & 0 & 0 & 0 & 0 & 0\\\\\n",
       "\t2 & 1000063 & 1000063 & 43 & 0 & 0 & 0 & 0 & 0 & 0\\\\\n",
       "\t3 & 1000078 & 1000078 & 60 & 1 & 0 & 0 & 0 & 0 & 0\\\\\n",
       "\t4 & 1000105 & 1000105 & 54 & 1 & 1 & 0 & 0 & 0 & 0\\\\\n",
       "\t5 & 1000112 & 1000112 & 68 & 0 & 0 & 0 & 0 & 0 & 0\\\\\n",
       "\t6 & 1000141 & 1000141 & 49 & 1 & 0 & 0 & 0 & 0 & 0\\\\\n",
       "\\end{tabular}\n"
      ],
      "text/markdown": [
       "\n",
       "A data.frame: 6 × 9\n",
       "\n",
       "| <!--/--> | FID &lt;int&gt; | IID &lt;int&gt; | age &lt;int&gt; | sex &lt;fct&gt; | tinnitus &lt;chr&gt; | noise_wp &lt;dbl&gt; | loud_music &lt;dbl&gt; | noise_imp &lt;dbl&gt; | music_imp &lt;dbl&gt; |\n",
       "|---|---|---|---|---|---|---|---|---|---|\n",
       "| 1 | 1000046 | 1000046 | 73 | 1 | 0 | 0 | 0 | 0 | 0 |\n",
       "| 2 | 1000063 | 1000063 | 43 | 0 | 0 | 0 | 0 | 0 | 0 |\n",
       "| 3 | 1000078 | 1000078 | 60 | 1 | 0 | 0 | 0 | 0 | 0 |\n",
       "| 4 | 1000105 | 1000105 | 54 | 1 | 1 | 0 | 0 | 0 | 0 |\n",
       "| 5 | 1000112 | 1000112 | 68 | 0 | 0 | 0 | 0 | 0 | 0 |\n",
       "| 6 | 1000141 | 1000141 | 49 | 1 | 0 | 0 | 0 | 0 | 0 |\n",
       "\n"
      ],
      "text/plain": [
       "  FID     IID     age sex tinnitus noise_wp loud_music noise_imp music_imp\n",
       "1 1000046 1000046 73  1   0        0        0          0         0        \n",
       "2 1000063 1000063 43  0   0        0        0          0         0        \n",
       "3 1000078 1000078 60  1   0        0        0          0         0        \n",
       "4 1000105 1000105 54  1   1        0        0          0         0        \n",
       "5 1000112 1000112 68  0   0        0        0          0         0        \n",
       "6 1000141 1000141 49  1   0        0        0          0         0        "
      ]
     },
     "metadata": {},
     "output_type": "display_data"
    }
   ],
   "source": [
    "tinnitus_cc_imp <- merge(x = tinnitus_cc,y = df.noise[,c(\"IID\",\"noise_imp\",\"music_imp\")],by=\"IID\", all.x=TRUE)\n",
    "dim(tinnitus_cc_imp)\n",
    "tinnitus_plan1 <- tinnitus_cc_imp %>%\n",
    "    select(FID, IID, age, sex, tinnitus, noise_wp, loud_music, noise_imp, music_imp)\n",
    "head(tinnitus_plan1)"
   ]
  },
  {
   "cell_type": "code",
   "execution_count": null,
   "metadata": {
    "kernel": "R"
   },
   "outputs": [],
   "source": [
    "write.table(tinnitus_plan1, '200720_UKBB_Tinnitus_f4803_noise_imp', quote = FALSE, row.names = FALSE)"
   ]
  },
  {
   "cell_type": "code",
   "execution_count": null,
   "metadata": {
    "kernel": "R"
   },
   "outputs": [],
   "source": [
    "write.csv(df.final.imp, '200720_UKBB_HI_genotypeqc_noise_imp.csv', row.names = FALSE)"
   ]
  },
  {
   "cell_type": "markdown",
   "metadata": {
    "kernel": "SoS"
   },
   "source": [
    "# Analysis plan 2: filtering"
   ]
  },
  {
   "cell_type": "code",
   "execution_count": 157,
   "metadata": {
    "kernel": "R",
    "scrolled": true
   },
   "outputs": [
    {
     "data": {
      "text/html": [
       "<table>\n",
       "<caption>A data.frame: 40 × 7</caption>\n",
       "<thead>\n",
       "\t<tr><th></th><th scope=col>IID</th><th scope=col>f.4803.0.0_recode</th><th scope=col>f.4803.1.0_recode</th><th scope=col>f.4803.2.0_recode</th><th scope=col>f.4803.3.0_recode</th><th scope=col>visit</th><th scope=col>removed</th></tr>\n",
       "\t<tr><th></th><th scope=col>&lt;int&gt;</th><th scope=col>&lt;fct&gt;</th><th scope=col>&lt;fct&gt;</th><th scope=col>&lt;fct&gt;</th><th scope=col>&lt;fct&gt;</th><th scope=col>&lt;chr&gt;</th><th scope=col>&lt;lgl&gt;</th></tr>\n",
       "</thead>\n",
       "<tbody>\n",
       "\t<tr><th scope=row>1</th><td>1000019</td><td>NA</td><td>NA</td><td>NA</td><td>NA</td><td>  </td><td>FALSE</td></tr>\n",
       "\t<tr><th scope=row>2</th><td>1000022</td><td>NA</td><td>NA</td><td>NA</td><td>NA</td><td>  </td><td>FALSE</td></tr>\n",
       "\t<tr><th scope=row>3</th><td>1000035</td><td>NA</td><td>NA</td><td>NA</td><td>NA</td><td>  </td><td>FALSE</td></tr>\n",
       "\t<tr><th scope=row>4</th><td>1000046</td><td>NA</td><td>NA</td><td>0 </td><td>NA</td><td>0 </td><td>FALSE</td></tr>\n",
       "\t<tr><th scope=row>5</th><td>1000054</td><td>NA</td><td>NA</td><td>NA</td><td>NA</td><td>  </td><td>FALSE</td></tr>\n",
       "\t<tr><th scope=row>6</th><td>1000063</td><td>0 </td><td>NA</td><td>NA</td><td>NA</td><td>0 </td><td>FALSE</td></tr>\n",
       "\t<tr><th scope=row>7</th><td>1000078</td><td>NA</td><td>0 </td><td>0 </td><td>NA</td><td>00</td><td>FALSE</td></tr>\n",
       "\t<tr><th scope=row>8</th><td>1000112</td><td>NA</td><td>NA</td><td>0 </td><td>NA</td><td>0 </td><td>FALSE</td></tr>\n",
       "\t<tr><th scope=row>9</th><td>1000129</td><td>NA</td><td>NA</td><td>NA</td><td>NA</td><td>  </td><td>FALSE</td></tr>\n",
       "\t<tr><th scope=row>10</th><td>1000137</td><td>NA</td><td>NA</td><td>NA</td><td>NA</td><td>  </td><td>FALSE</td></tr>\n",
       "\t<tr><th scope=row>11</th><td>1000141</td><td>0 </td><td>NA</td><td>NA</td><td>NA</td><td>0 </td><td>FALSE</td></tr>\n",
       "\t<tr><th scope=row>12</th><td>1000164</td><td>NA</td><td>NA</td><td>NA</td><td>NA</td><td>  </td><td>FALSE</td></tr>\n",
       "\t<tr><th scope=row>13</th><td>1000170</td><td>NA</td><td>NA</td><td>NA</td><td>NA</td><td>  </td><td>FALSE</td></tr>\n",
       "\t<tr><th scope=row>14</th><td>1000186</td><td>NA</td><td>NA</td><td>NA</td><td>NA</td><td>  </td><td>FALSE</td></tr>\n",
       "\t<tr><th scope=row>15</th><td>1000198</td><td>NA</td><td>NA</td><td>NA</td><td>NA</td><td>  </td><td>FALSE</td></tr>\n",
       "\t<tr><th scope=row>16</th><td>1000203</td><td>NA</td><td>NA</td><td>NA</td><td>NA</td><td>  </td><td>FALSE</td></tr>\n",
       "\t<tr><th scope=row>17</th><td>1000210</td><td>NA</td><td>NA</td><td>NA</td><td>NA</td><td>  </td><td>FALSE</td></tr>\n",
       "\t<tr><th scope=row>18</th><td>1000224</td><td>NA</td><td>NA</td><td>NA</td><td>NA</td><td>  </td><td>FALSE</td></tr>\n",
       "\t<tr><th scope=row>19</th><td>1000236</td><td>0 </td><td>NA</td><td>0 </td><td>NA</td><td>00</td><td>FALSE</td></tr>\n",
       "\t<tr><th scope=row>20</th><td>1000248</td><td>0 </td><td>NA</td><td>NA</td><td>NA</td><td>0 </td><td>FALSE</td></tr>\n",
       "\t<tr><th scope=row>21</th><td>1000269</td><td>NA</td><td>NA</td><td>0 </td><td>NA</td><td>0 </td><td>FALSE</td></tr>\n",
       "\t<tr><th scope=row>22</th><td>1000287</td><td>NA</td><td>NA</td><td>NA</td><td>NA</td><td>  </td><td>FALSE</td></tr>\n",
       "\t<tr><th scope=row>23</th><td>1000291</td><td>NA</td><td>NA</td><td>NA</td><td>NA</td><td>  </td><td>FALSE</td></tr>\n",
       "\t<tr><th scope=row>24</th><td>1000318</td><td>NA</td><td>NA</td><td>NA</td><td>NA</td><td>  </td><td>FALSE</td></tr>\n",
       "\t<tr><th scope=row>25</th><td>1000340</td><td>0 </td><td>NA</td><td>NA</td><td>NA</td><td>0 </td><td>FALSE</td></tr>\n",
       "\t<tr><th scope=row>26</th><td>1000362</td><td>NA</td><td>NA</td><td>NA</td><td>NA</td><td>  </td><td>FALSE</td></tr>\n",
       "\t<tr><th scope=row>27</th><td>1000379</td><td>0 </td><td>NA</td><td>NA</td><td>NA</td><td>0 </td><td>FALSE</td></tr>\n",
       "\t<tr><th scope=row>28</th><td>1000408</td><td>NA</td><td>NA</td><td>NA</td><td>NA</td><td>  </td><td>FALSE</td></tr>\n",
       "\t<tr><th scope=row>29</th><td>1000421</td><td>0 </td><td>NA</td><td>NA</td><td>NA</td><td>0 </td><td>FALSE</td></tr>\n",
       "\t<tr><th scope=row>30</th><td>1000450</td><td>NA</td><td>NA</td><td>NA</td><td>NA</td><td>  </td><td>FALSE</td></tr>\n",
       "\t<tr><th scope=row>31</th><td>1000516</td><td>0 </td><td>NA</td><td>NA</td><td>NA</td><td>0 </td><td>FALSE</td></tr>\n",
       "\t<tr><th scope=row>32</th><td>1000527</td><td>0 </td><td>NA</td><td>NA</td><td>NA</td><td>0 </td><td>FALSE</td></tr>\n",
       "\t<tr><th scope=row>33</th><td>1000530</td><td>0 </td><td>NA</td><td>NA</td><td>NA</td><td>0 </td><td>FALSE</td></tr>\n",
       "\t<tr><th scope=row>34</th><td>1000549</td><td>0 </td><td>NA</td><td>NA</td><td>NA</td><td>0 </td><td>FALSE</td></tr>\n",
       "\t<tr><th scope=row>35</th><td>1000573</td><td>NA</td><td>NA</td><td>NA</td><td>NA</td><td>  </td><td>FALSE</td></tr>\n",
       "\t<tr><th scope=row>36</th><td>1000584</td><td>0 </td><td>NA</td><td>NA</td><td>NA</td><td>0 </td><td>FALSE</td></tr>\n",
       "\t<tr><th scope=row>37</th><td>1000595</td><td>NA</td><td>NA</td><td>NA</td><td>NA</td><td>  </td><td>FALSE</td></tr>\n",
       "\t<tr><th scope=row>38</th><td>1000609</td><td>NA</td><td>0 </td><td>NA</td><td>NA</td><td>0 </td><td>FALSE</td></tr>\n",
       "\t<tr><th scope=row>39</th><td>1000611</td><td>0 </td><td>NA</td><td>NA</td><td>NA</td><td>0 </td><td>FALSE</td></tr>\n",
       "\t<tr><th scope=row>40</th><td>1000642</td><td>0 </td><td>NA</td><td>NA</td><td>NA</td><td>0 </td><td>FALSE</td></tr>\n",
       "</tbody>\n",
       "</table>\n"
      ],
      "text/latex": [
       "A data.frame: 40 × 7\n",
       "\\begin{tabular}{r|lllllll}\n",
       "  & IID & f.4803.0.0\\_recode & f.4803.1.0\\_recode & f.4803.2.0\\_recode & f.4803.3.0\\_recode & visit & removed\\\\\n",
       "  & <int> & <fct> & <fct> & <fct> & <fct> & <chr> & <lgl>\\\\\n",
       "\\hline\n",
       "\t1 & 1000019 & NA & NA & NA & NA &    & FALSE\\\\\n",
       "\t2 & 1000022 & NA & NA & NA & NA &    & FALSE\\\\\n",
       "\t3 & 1000035 & NA & NA & NA & NA &    & FALSE\\\\\n",
       "\t4 & 1000046 & NA & NA & 0  & NA & 0  & FALSE\\\\\n",
       "\t5 & 1000054 & NA & NA & NA & NA &    & FALSE\\\\\n",
       "\t6 & 1000063 & 0  & NA & NA & NA & 0  & FALSE\\\\\n",
       "\t7 & 1000078 & NA & 0  & 0  & NA & 00 & FALSE\\\\\n",
       "\t8 & 1000112 & NA & NA & 0  & NA & 0  & FALSE\\\\\n",
       "\t9 & 1000129 & NA & NA & NA & NA &    & FALSE\\\\\n",
       "\t10 & 1000137 & NA & NA & NA & NA &    & FALSE\\\\\n",
       "\t11 & 1000141 & 0  & NA & NA & NA & 0  & FALSE\\\\\n",
       "\t12 & 1000164 & NA & NA & NA & NA &    & FALSE\\\\\n",
       "\t13 & 1000170 & NA & NA & NA & NA &    & FALSE\\\\\n",
       "\t14 & 1000186 & NA & NA & NA & NA &    & FALSE\\\\\n",
       "\t15 & 1000198 & NA & NA & NA & NA &    & FALSE\\\\\n",
       "\t16 & 1000203 & NA & NA & NA & NA &    & FALSE\\\\\n",
       "\t17 & 1000210 & NA & NA & NA & NA &    & FALSE\\\\\n",
       "\t18 & 1000224 & NA & NA & NA & NA &    & FALSE\\\\\n",
       "\t19 & 1000236 & 0  & NA & 0  & NA & 00 & FALSE\\\\\n",
       "\t20 & 1000248 & 0  & NA & NA & NA & 0  & FALSE\\\\\n",
       "\t21 & 1000269 & NA & NA & 0  & NA & 0  & FALSE\\\\\n",
       "\t22 & 1000287 & NA & NA & NA & NA &    & FALSE\\\\\n",
       "\t23 & 1000291 & NA & NA & NA & NA &    & FALSE\\\\\n",
       "\t24 & 1000318 & NA & NA & NA & NA &    & FALSE\\\\\n",
       "\t25 & 1000340 & 0  & NA & NA & NA & 0  & FALSE\\\\\n",
       "\t26 & 1000362 & NA & NA & NA & NA &    & FALSE\\\\\n",
       "\t27 & 1000379 & 0  & NA & NA & NA & 0  & FALSE\\\\\n",
       "\t28 & 1000408 & NA & NA & NA & NA &    & FALSE\\\\\n",
       "\t29 & 1000421 & 0  & NA & NA & NA & 0  & FALSE\\\\\n",
       "\t30 & 1000450 & NA & NA & NA & NA &    & FALSE\\\\\n",
       "\t31 & 1000516 & 0  & NA & NA & NA & 0  & FALSE\\\\\n",
       "\t32 & 1000527 & 0  & NA & NA & NA & 0  & FALSE\\\\\n",
       "\t33 & 1000530 & 0  & NA & NA & NA & 0  & FALSE\\\\\n",
       "\t34 & 1000549 & 0  & NA & NA & NA & 0  & FALSE\\\\\n",
       "\t35 & 1000573 & NA & NA & NA & NA &    & FALSE\\\\\n",
       "\t36 & 1000584 & 0  & NA & NA & NA & 0  & FALSE\\\\\n",
       "\t37 & 1000595 & NA & NA & NA & NA &    & FALSE\\\\\n",
       "\t38 & 1000609 & NA & 0  & NA & NA & 0  & FALSE\\\\\n",
       "\t39 & 1000611 & 0  & NA & NA & NA & 0  & FALSE\\\\\n",
       "\t40 & 1000642 & 0  & NA & NA & NA & 0  & FALSE\\\\\n",
       "\\end{tabular}\n"
      ],
      "text/markdown": [
       "\n",
       "A data.frame: 40 × 7\n",
       "\n",
       "| <!--/--> | IID &lt;int&gt; | f.4803.0.0_recode &lt;fct&gt; | f.4803.1.0_recode &lt;fct&gt; | f.4803.2.0_recode &lt;fct&gt; | f.4803.3.0_recode &lt;fct&gt; | visit &lt;chr&gt; | removed &lt;lgl&gt; |\n",
       "|---|---|---|---|---|---|---|---|\n",
       "| 1 | 1000019 | NA | NA | NA | NA | <!----> | FALSE |\n",
       "| 2 | 1000022 | NA | NA | NA | NA | <!----> | FALSE |\n",
       "| 3 | 1000035 | NA | NA | NA | NA | <!----> | FALSE |\n",
       "| 4 | 1000046 | NA | NA | 0  | NA | 0  | FALSE |\n",
       "| 5 | 1000054 | NA | NA | NA | NA | <!----> | FALSE |\n",
       "| 6 | 1000063 | 0  | NA | NA | NA | 0  | FALSE |\n",
       "| 7 | 1000078 | NA | 0  | 0  | NA | 00 | FALSE |\n",
       "| 8 | 1000112 | NA | NA | 0  | NA | 0  | FALSE |\n",
       "| 9 | 1000129 | NA | NA | NA | NA | <!----> | FALSE |\n",
       "| 10 | 1000137 | NA | NA | NA | NA | <!----> | FALSE |\n",
       "| 11 | 1000141 | 0  | NA | NA | NA | 0  | FALSE |\n",
       "| 12 | 1000164 | NA | NA | NA | NA | <!----> | FALSE |\n",
       "| 13 | 1000170 | NA | NA | NA | NA | <!----> | FALSE |\n",
       "| 14 | 1000186 | NA | NA | NA | NA | <!----> | FALSE |\n",
       "| 15 | 1000198 | NA | NA | NA | NA | <!----> | FALSE |\n",
       "| 16 | 1000203 | NA | NA | NA | NA | <!----> | FALSE |\n",
       "| 17 | 1000210 | NA | NA | NA | NA | <!----> | FALSE |\n",
       "| 18 | 1000224 | NA | NA | NA | NA | <!----> | FALSE |\n",
       "| 19 | 1000236 | 0  | NA | 0  | NA | 00 | FALSE |\n",
       "| 20 | 1000248 | 0  | NA | NA | NA | 0  | FALSE |\n",
       "| 21 | 1000269 | NA | NA | 0  | NA | 0  | FALSE |\n",
       "| 22 | 1000287 | NA | NA | NA | NA | <!----> | FALSE |\n",
       "| 23 | 1000291 | NA | NA | NA | NA | <!----> | FALSE |\n",
       "| 24 | 1000318 | NA | NA | NA | NA | <!----> | FALSE |\n",
       "| 25 | 1000340 | 0  | NA | NA | NA | 0  | FALSE |\n",
       "| 26 | 1000362 | NA | NA | NA | NA | <!----> | FALSE |\n",
       "| 27 | 1000379 | 0  | NA | NA | NA | 0  | FALSE |\n",
       "| 28 | 1000408 | NA | NA | NA | NA | <!----> | FALSE |\n",
       "| 29 | 1000421 | 0  | NA | NA | NA | 0  | FALSE |\n",
       "| 30 | 1000450 | NA | NA | NA | NA | <!----> | FALSE |\n",
       "| 31 | 1000516 | 0  | NA | NA | NA | 0  | FALSE |\n",
       "| 32 | 1000527 | 0  | NA | NA | NA | 0  | FALSE |\n",
       "| 33 | 1000530 | 0  | NA | NA | NA | 0  | FALSE |\n",
       "| 34 | 1000549 | 0  | NA | NA | NA | 0  | FALSE |\n",
       "| 35 | 1000573 | NA | NA | NA | NA | <!----> | FALSE |\n",
       "| 36 | 1000584 | 0  | NA | NA | NA | 0  | FALSE |\n",
       "| 37 | 1000595 | NA | NA | NA | NA | <!----> | FALSE |\n",
       "| 38 | 1000609 | NA | 0  | NA | NA | 0  | FALSE |\n",
       "| 39 | 1000611 | 0  | NA | NA | NA | 0  | FALSE |\n",
       "| 40 | 1000642 | 0  | NA | NA | NA | 0  | FALSE |\n",
       "\n"
      ],
      "text/plain": [
       "   IID     f.4803.0.0_recode f.4803.1.0_recode f.4803.2.0_recode\n",
       "1  1000019 NA                NA                NA               \n",
       "2  1000022 NA                NA                NA               \n",
       "3  1000035 NA                NA                NA               \n",
       "4  1000046 NA                NA                0                \n",
       "5  1000054 NA                NA                NA               \n",
       "6  1000063 0                 NA                NA               \n",
       "7  1000078 NA                0                 0                \n",
       "8  1000112 NA                NA                0                \n",
       "9  1000129 NA                NA                NA               \n",
       "10 1000137 NA                NA                NA               \n",
       "11 1000141 0                 NA                NA               \n",
       "12 1000164 NA                NA                NA               \n",
       "13 1000170 NA                NA                NA               \n",
       "14 1000186 NA                NA                NA               \n",
       "15 1000198 NA                NA                NA               \n",
       "16 1000203 NA                NA                NA               \n",
       "17 1000210 NA                NA                NA               \n",
       "18 1000224 NA                NA                NA               \n",
       "19 1000236 0                 NA                0                \n",
       "20 1000248 0                 NA                NA               \n",
       "21 1000269 NA                NA                0                \n",
       "22 1000287 NA                NA                NA               \n",
       "23 1000291 NA                NA                NA               \n",
       "24 1000318 NA                NA                NA               \n",
       "25 1000340 0                 NA                NA               \n",
       "26 1000362 NA                NA                NA               \n",
       "27 1000379 0                 NA                NA               \n",
       "28 1000408 NA                NA                NA               \n",
       "29 1000421 0                 NA                NA               \n",
       "30 1000450 NA                NA                NA               \n",
       "31 1000516 0                 NA                NA               \n",
       "32 1000527 0                 NA                NA               \n",
       "33 1000530 0                 NA                NA               \n",
       "34 1000549 0                 NA                NA               \n",
       "35 1000573 NA                NA                NA               \n",
       "36 1000584 0                 NA                NA               \n",
       "37 1000595 NA                NA                NA               \n",
       "38 1000609 NA                0                 NA               \n",
       "39 1000611 0                 NA                NA               \n",
       "40 1000642 0                 NA                NA               \n",
       "   f.4803.3.0_recode visit removed\n",
       "1  NA                      FALSE  \n",
       "2  NA                      FALSE  \n",
       "3  NA                      FALSE  \n",
       "4  NA                0     FALSE  \n",
       "5  NA                      FALSE  \n",
       "6  NA                0     FALSE  \n",
       "7  NA                00    FALSE  \n",
       "8  NA                0     FALSE  \n",
       "9  NA                      FALSE  \n",
       "10 NA                      FALSE  \n",
       "11 NA                0     FALSE  \n",
       "12 NA                      FALSE  \n",
       "13 NA                      FALSE  \n",
       "14 NA                      FALSE  \n",
       "15 NA                      FALSE  \n",
       "16 NA                      FALSE  \n",
       "17 NA                      FALSE  \n",
       "18 NA                      FALSE  \n",
       "19 NA                00    FALSE  \n",
       "20 NA                0     FALSE  \n",
       "21 NA                0     FALSE  \n",
       "22 NA                      FALSE  \n",
       "23 NA                      FALSE  \n",
       "24 NA                      FALSE  \n",
       "25 NA                0     FALSE  \n",
       "26 NA                      FALSE  \n",
       "27 NA                0     FALSE  \n",
       "28 NA                      FALSE  \n",
       "29 NA                0     FALSE  \n",
       "30 NA                      FALSE  \n",
       "31 NA                0     FALSE  \n",
       "32 NA                0     FALSE  \n",
       "33 NA                0     FALSE  \n",
       "34 NA                0     FALSE  \n",
       "35 NA                      FALSE  \n",
       "36 NA                0     FALSE  \n",
       "37 NA                      FALSE  \n",
       "38 NA                0     FALSE  \n",
       "39 NA                0     FALSE  \n",
       "40 NA                0     FALSE  "
      ]
     },
     "metadata": {},
     "output_type": "display_data"
    },
    {
     "data": {
      "text/html": [
       "<style>\n",
       ".list-inline {list-style: none; margin:0; padding: 0}\n",
       ".list-inline>li {display: inline-block}\n",
       ".list-inline>li:not(:last-child)::after {content: \"\\00b7\"; padding: 0 .5ex}\n",
       "</style>\n",
       "<ol class=list-inline><li>307355</li><li>7</li></ol>\n"
      ],
      "text/latex": [
       "\\begin{enumerate*}\n",
       "\\item 307355\n",
       "\\item 7\n",
       "\\end{enumerate*}\n"
      ],
      "text/markdown": [
       "1. 307355\n",
       "2. 7\n",
       "\n",
       "\n"
      ],
      "text/plain": [
       "[1] 307355      7"
      ]
     },
     "metadata": {},
     "output_type": "display_data"
    }
   ],
   "source": [
    "# define cases and control for specific analysis:\n",
    "all_answers<-c(\"0\",\"1\",\"2\",\"3\",\"4\",\"9\")\n",
    "control<-c(\"0\")\n",
    "cases<-c(\"3\",\"4\")\n",
    "\n",
    "f3 <- function(x){\n",
    "  get_rid_of<-setdiff(all_answers,union(cases,control))\n",
    "  for (i in get_rid_of){\n",
    "  if (grepl(i,x[which(colnames(data_sub)==\"visit\")])){\n",
    "    removed=TRUE\n",
    "    break\n",
    "  }\n",
    "  else{removed=FALSE}\n",
    "  }\n",
    "  return (removed)\n",
    "}\n",
    "data_p2<-data_sub\n",
    "data_p2$removed<-apply(data_p2, 1, f3)\n",
    "\n",
    "# filter \n",
    "data_p2<-data_p2 %>%\n",
    "  filter(removed==FALSE)\n",
    "head(data_p2,40)\n",
    "dim(data_p2)"
   ]
  },
  {
   "cell_type": "code",
   "execution_count": 158,
   "metadata": {
    "kernel": "R"
   },
   "outputs": [
    {
     "data": {
      "text/plain": [
       "\n",
       "            0     00    000   0000 \n",
       "207944  87438  10425   1475     73 "
      ]
     },
     "metadata": {},
     "output_type": "display_data"
    }
   ],
   "source": [
    "# change all \"3\" into \"4\"\n",
    "data_p2$visit<-gsub(\"3\",\"4\",data_p2$visit) \n",
    "table(data_p2$visit)"
   ]
  },
  {
   "cell_type": "code",
   "execution_count": null,
   "metadata": {
    "kernel": "SoS"
   },
   "outputs": [],
   "source": [
    "names(table(data_p2$visit))"
   ]
  },
  {
   "cell_type": "code",
   "execution_count": null,
   "metadata": {
    "kernel": "SoS"
   },
   "outputs": [],
   "source": [
    "# get the dataset for plan 2:\n",
    "IID_plan2<-data_p2$IID\n",
    "data_plan2<-data_cleaned[which(data_cleaned$IID%in%IID_plan2),]\n",
    "dim(data_p2)"
   ]
  },
  {
   "cell_type": "code",
   "execution_count": null,
   "metadata": {
    "kernel": "SoS"
   },
   "outputs": [],
   "source": [
    "head(data_plan2[,column_name],40)"
   ]
  },
  {
   "cell_type": "code",
   "execution_count": null,
   "metadata": {
    "kernel": "SoS"
   },
   "outputs": [],
   "source": [
    "write.csv(data_plan2, 'UKBB_HI_genotypeqc_data_plan2.csv', row.names = FALSE)"
   ]
  },
  {
   "cell_type": "markdown",
   "metadata": {
    "kernel": "SoS"
   },
   "source": [
    "## Filtering for analysis plan 3"
   ]
  },
  {
   "cell_type": "code",
   "execution_count": null,
   "metadata": {
    "kernel": "SoS"
   },
   "outputs": [],
   "source": [
    "# define cases and control for specific analysis:\n",
    "all_answers<-c(\"0\",\"1\",\"2\",\"3\",\"4\",\"9\")\n",
    "control<-c('0')\n",
    "cases<-c(\"2\",\"3\",\"4\")\n",
    "\n",
    "data_sub3<-data_sub\n",
    "data_sub3$removed<-apply(data_sub3, 1, f3)\n",
    "\n",
    "# filter \n",
    "data_sub3<-data_sub3 %>%\n",
    "  filter(removed==FALSE)\n",
    "head(data_sub3,40)"
   ]
  },
  {
   "cell_type": "code",
   "execution_count": null,
   "metadata": {
    "kernel": "SoS"
   },
   "outputs": [],
   "source": [
    "# change all \"2\" and \"3\" into \"4\"\n",
    "data_sub3$visit<-gsub(\"2\",\"4\",data_sub3$visit) \n",
    "data_sub3$visit<-gsub(\"3\",\"4\",data_sub3$visit) \n",
    "table(data_sub3$visit)"
   ]
  },
  {
   "cell_type": "code",
   "execution_count": null,
   "metadata": {
    "kernel": "SoS"
   },
   "outputs": [],
   "source": [
    "names(table(data_sub3$visit))"
   ]
  },
  {
   "cell_type": "code",
   "execution_count": null,
   "metadata": {
    "kernel": "SoS"
   },
   "outputs": [],
   "source": [
    "IID_plan3<-data_sub3$IID\n",
    "data_plan3<-df_clean[which(df_clean$IID%in%IID_plan3),]\n",
    "dim(data_plan3)"
   ]
  },
  {
   "cell_type": "code",
   "execution_count": null,
   "metadata": {
    "kernel": "SoS"
   },
   "outputs": [],
   "source": [
    "head(data_plan3[,column_name],40)"
   ]
  },
  {
   "cell_type": "code",
   "execution_count": null,
   "metadata": {
    "kernel": "SoS"
   },
   "outputs": [],
   "source": [
    "write.csv(data_plan3, 'UKBB_HI_genotypeqc_data_plan3.csv', row.names = FALSE)"
   ]
  },
  {
   "cell_type": "markdown",
   "metadata": {
    "kernel": "R"
   },
   "source": [
    "### i. Descriptive statistics"
   ]
  },
  {
   "cell_type": "markdown",
   "metadata": {
    "kernel": "R"
   },
   "source": [
    "Are there differences in the sex proportions of tinnitus cases?"
   ]
  },
  {
   "cell_type": "code",
   "execution_count": null,
   "metadata": {
    "kernel": "R"
   },
   "outputs": [],
   "source": [
    "female.total = length(which(tinnitus_complete$sex==\"1\"))\n",
    "male.total = length(which(tinnitus_complete$sex==\"0\"))\n",
    "people.total= c(male.total, female.total)\n",
    "people.total # Number of male and female in the sample"
   ]
  },
  {
   "cell_type": "code",
   "execution_count": null,
   "metadata": {
    "kernel": "R"
   },
   "outputs": [],
   "source": [
    "female.cases = length(which(tinnitus_complete$tinnitus == \"1\" & tinnitus_complete$sex == \"1\"))\n",
    "male.cases =length(which(tinnitus_complete$tinnitus == \"1\" & tinnitus_complete$sex == \"0\")) \n",
    "people.cases = c(male.cases, female.cases)\n",
    "people.cases # Number of male and female cases\n",
    "prop.test(people.cases, people.total) # Proportion of male and female cases in the total sample are different"
   ]
  },
  {
   "cell_type": "code",
   "execution_count": null,
   "metadata": {
    "kernel": "R"
   },
   "outputs": [],
   "source": [
    "female.controls = length(which(tinnitus_complete$tinnitus == \"0\" & tinnitus_complete$sex == \"1\"))\n",
    "male.controls = length(which(tinnitus_complete$tinnitus == \"0\" & tinnitus_complete$sex == \"0\"))\n",
    "people.controls = c(male.controls, female.controls)\n",
    "people.controls # Number of male and female controls\n",
    "prop.test(people.controls, people.total) # Proportion of male and female controls differ"
   ]
  },
  {
   "cell_type": "markdown",
   "metadata": {
    "kernel": "R"
   },
   "source": [
    "Are there differences in the sex proportions and noise variables?"
   ]
  },
  {
   "cell_type": "code",
   "execution_count": null,
   "metadata": {
    "kernel": "R"
   },
   "outputs": [],
   "source": [
    "sex.noise=table(tinnitus_complete$noise_wp, tinnitus_complete$sex)\n",
    "sex.noise\n",
    "chisq.test(sex.noise) # Noise at workplace is not independent of sex"
   ]
  },
  {
   "cell_type": "code",
   "execution_count": null,
   "metadata": {
    "kernel": "R"
   },
   "outputs": [],
   "source": [
    "sex.music = table(tinnitus_complete$loud_music, tinnitus_complete$sex)\n",
    "sex.music\n",
    "chisq.test(sex.music) # Loud music frequency exposure is not independent of sex"
   ]
  },
  {
   "cell_type": "markdown",
   "metadata": {
    "kernel": "R"
   },
   "source": [
    "Barplot sex vs noisy workplace"
   ]
  },
  {
   "cell_type": "code",
   "execution_count": null,
   "metadata": {
    "kernel": "R"
   },
   "outputs": [],
   "source": [
    "noise.plot <- ggplot(tinnitus_complete, aes(noise_wp)) +\n",
    "  geom_bar(aes(y=..count../sum(..count..), fill = sex), position = \"dodge\") +\n",
    "  scale_y_continuous(labels = scales::percent) +\n",
    "  labs(title = \"Barplot of sex by noisy workplace\",\n",
    "       x = \"Noisy workplace\", \n",
    "       y = \"Proportion of individuals\")\n",
    "noise.plot "
   ]
  },
  {
   "cell_type": "markdown",
   "metadata": {
    "kernel": "R"
   },
   "source": [
    "Barplot sex vs loud music exposure"
   ]
  },
  {
   "cell_type": "code",
   "execution_count": null,
   "metadata": {
    "kernel": "R"
   },
   "outputs": [],
   "source": [
    "music.plot <- ggplot(tinnitus_complete, aes(loud_music)) +\n",
    "  geom_bar(aes(y=..count../sum(..count..), fill = sex), position = \"dodge\") +\n",
    "  scale_y_continuous(labels = scales::percent) +\n",
    "labs(title = \"Barplot of sex by loud music exposure\",\n",
    "       x = \"Loud music exposure\", \n",
    "       y = \"Proportion of individuals\")\n",
    "music.plot"
   ]
  },
  {
   "cell_type": "code",
   "execution_count": null,
   "metadata": {
    "kernel": "R"
   },
   "outputs": [],
   "source": [
    "label_sex <- c(\"1\" = \"Female\", \"0\" = \"Male\")\n",
    "label_tin <- c(\"1\" = \"Cases\", \"0\" = \"Controls\")\n",
    "sex.tin.noise <- ggplot(tinnitus_complete, aes(x = noise_wp)) +\n",
    "  geom_bar(aes(y = (..count..)/sum(..count..))) +\n",
    "  labs(title = \"Tinnitus, sex and noisy workplace\",\n",
    "       x = \"Noisy workplace\", \n",
    "       y = \"Proportion of individuals\") +\n",
    "  scale_y_continuous(labels = scales::percent, name = \"Proportion\") +\n",
    "  facet_grid(tinnitus ~ sex, labeller=labeller(sex = label_sex, tinnitus = label_tin)) +\n",
    "  theme(axis.text.x = element_text(angle = 45, hjust = 1))\n",
    "sex.tin.noise"
   ]
  },
  {
   "cell_type": "code",
   "execution_count": null,
   "metadata": {
    "kernel": "R"
   },
   "outputs": [],
   "source": [
    "sex.tin.music <- ggplot(tinnitus_complete, aes(x = loud_music)) +\n",
    "  geom_bar(aes(y = (..count..)/sum(..count..))) +\n",
    "    labs(title = \"Tinnitus, sex and loud music frequency exposure\",\n",
    "       x = \"Loud music frequency exposure\", \n",
    "       y = \"Proportion of individuals\") +\n",
    "  scale_y_continuous(labels = scales::percent, name = \"Proportion\") +\n",
    "  facet_grid(tinnitus ~ sex, labeller=labeller(sex = label_sex, tinnitus = label_tin)) +\n",
    "  theme(axis.text.x = element_text(angle = 45, hjust = 1))\n",
    "sex.tin.music"
   ]
  },
  {
   "cell_type": "code",
   "execution_count": null,
   "metadata": {
    "kernel": "R"
   },
   "outputs": [],
   "source": [
    "tinnitus_complete %>%\n",
    "select(age, noise_wp) %>%\n",
    "group_by(noise_wp) %>%\n",
    "  summarise(\n",
    "    count = n(),\n",
    "    mean = mean(age, na.rm = TRUE),\n",
    "    sd = sd(age, na.rm = TRUE))"
   ]
  },
  {
   "cell_type": "code",
   "execution_count": null,
   "metadata": {
    "kernel": "R"
   },
   "outputs": [],
   "source": [
    "noise.boxp <- ggboxplot(tinnitus_complete, x = \"noise_wp\", y = \"age\", \n",
    "          color = \"noise_wp\",\n",
    "          order = c(\"0\", \"1\", \"2\", \"3\"),\n",
    "          ylab = \"Age\", xlab = \"noisy workplace\")\n",
    "noise.boxp"
   ]
  },
  {
   "cell_type": "code",
   "execution_count": null,
   "metadata": {
    "kernel": "R"
   },
   "outputs": [],
   "source": [
    "res1.aov <- aov(age ~ noise_wp, data = tinnitus_complete)\n",
    "summary(res1.aov)\n",
    "TukeyHSD(res1.aov)"
   ]
  },
  {
   "cell_type": "code",
   "execution_count": null,
   "metadata": {
    "kernel": "R"
   },
   "outputs": [],
   "source": [
    "music.boxp <- ggboxplot(tinnitus_complete, x = \"loud_music\", y = \"age\", \n",
    "          color = \"loud_music\",\n",
    "          order = c(\"0\", \"1\", \"2\", \"3\"),\n",
    "          ylab = \"Age\", xlab = \"Loud music frequency\")\n",
    "music.boxp"
   ]
  },
  {
   "cell_type": "code",
   "execution_count": null,
   "metadata": {
    "kernel": "R"
   },
   "outputs": [],
   "source": [
    "res2.aov <- aov(age ~ loud_music, data = tinnitus_complete)\n",
    "summary(res2.aov)\n",
    "TukeyHSD(res2.aov)"
   ]
  },
  {
   "cell_type": "markdown",
   "metadata": {
    "kernel": "R"
   },
   "source": [
    "Correlation between the two noise variables for cases and controls separately using Kendall correlation"
   ]
  },
  {
   "cell_type": "code",
   "execution_count": null,
   "metadata": {
    "kernel": "R"
   },
   "outputs": [],
   "source": [
    "cases <- tinnitus_complete %>%\n",
    "  filter(tinnitus==\"1\")\n",
    "noise_wp <- as.numeric(factor(cases$noise_wp,levels=c(\"0\", \"1\", \"2\", \"3\"))) \n",
    "loud_music <- as.numeric(factor(cases$loud_music, levels=c(\"0\", \"1\", \"2\", \"3\"))) \n",
    "m <- cbind(noise_wp, loud_music)\n",
    "cor(m, method=\"kendall\", use=\"pairwise\")\n",
    "cor.test(noise_wp, loud_music, method=\"kendall\")"
   ]
  },
  {
   "cell_type": "code",
   "execution_count": null,
   "metadata": {
    "kernel": "R"
   },
   "outputs": [],
   "source": [
    "controls <- tinnitus_complete %>%\n",
    "  filter(tinnitus==\"0\")\n",
    "noise_wp.ctr <- as.numeric(factor(controls$noise_wp,levels=c(\"0\", \"1\", \"2\", \"3\"))) \n",
    "loud_music.ctr <- as.numeric(factor(controls$loud_music, levels=c(\"0\", \"1\", \"2\", \"3\"))) \n",
    "m1 <- cbind(noise_wp.ctr, loud_music.ctr)\n",
    "cor(m1, method=\"kendall\", use=\"pairwise\")\n",
    "cor.test(noise_wp.ctr, loud_music.ctr, method=\"kendall\")"
   ]
  },
  {
   "cell_type": "markdown",
   "metadata": {
    "kernel": "R"
   },
   "source": [
    "Heat map for variable correlation"
   ]
  },
  {
   "cell_type": "code",
   "execution_count": null,
   "metadata": {
    "kernel": "R"
   },
   "outputs": [],
   "source": [
    "#Heat map\n",
    "noisevar.df <- as.data.frame(table(tinnitus_complete$noise_wp, tinnitus_complete$loud_music))\n",
    "ggplot(noisevar.df, aes(Var1, Var2)) +\n",
    "  geom_tile(aes(fill = Freq), colour = \"black\") +\n",
    "  scale_fill_gradient(low = \"white\", high = \"steelblue\")"
   ]
  },
  {
   "cell_type": "markdown",
   "metadata": {
    "kernel": "R"
   },
   "source": [
    "Fluctuation plot"
   ]
  },
  {
   "cell_type": "code",
   "execution_count": null,
   "metadata": {
    "kernel": "R"
   },
   "outputs": [],
   "source": [
    "# Fluctuation plot\n",
    "theme_nogrid <- function (base_size = 12, base_family = \"\") {\n",
    "  theme_bw(base_size = base_size, base_family = base_family) %+replace% \n",
    "    theme(panel.grid = element_blank())   \n",
    "}\n",
    "ggplot(noisevar.df, aes(Var1, Var2)) +\n",
    "  geom_point(aes(size = Freq, color = Freq, stat = \"identity\", position = \"identity\"), shape = 15) +\n",
    "  scale_size_continuous(range = c(3,15)) + \n",
    "  scale_color_gradient(low = \"white\", high = \"black\") +\n",
    "  theme_nogrid()"
   ]
  },
  {
   "cell_type": "markdown",
   "metadata": {
    "kernel": "R"
   },
   "source": [
    "## 2. SRT phenotype (quantitative)"
   ]
  },
  {
   "cell_type": "markdown",
   "metadata": {
    "kernel": "R"
   },
   "source": [
    "The phenotypes to be used are as follow:\n",
    "1. Left ear f.20019\n",
    "2. Right ear f.20021\n",
    "3. Best ear (create a new variable extracting the min SRT value among f.20019 and f.20021)\n",
    "4. Worst ear (create a new variable extracting the max SRT value among f.20019 and f.20021)\n",
    "\n",
    "Age is calculated as follow:\n",
    "\n",
    "- For people with repeated measures take age at last visit and measurement at last visit\n",
    "- For people with only one measure take age at that visit\n",
    "\n",
    "Sex corresponds to f.22001 (genetic sex):\n",
    "\n",
    "- Male = 0\n",
    "- Female = 1\n",
    "\n",
    "Noise variable and loud music exposure frequency: same as for Tinnitus\n",
    "                \n",
    "1. Remove inconsistent individuals \n",
    "    - said 1,2 or 3 and in following visits said 0\n",
    "    - said a higher exposure (e.g 3) and then a lower one (e.g 1 or 2) in following visits\n",
    "2. Retain consistent individuals and use highest reported exposure"
   ]
  },
  {
   "cell_type": "markdown",
   "metadata": {
    "kernel": "R"
   },
   "source": [
    "### a. Filter SRT codes\n",
    "Obtain scores for right and left ear\n",
    "\n",
    "Obtain the age at the last visit"
   ]
  },
  {
   "cell_type": "code",
   "execution_count": null,
   "metadata": {
    "kernel": "SoS"
   },
   "outputs": [],
   "source": [
    "df.final.imp = read.csv('/SAY/dbgapstg/scratch/UKBiobank/phenotype_files/hearing_impairment/200720_UKBB_HI_genotypeqc_noise_imp.csv', header=TRUE)"
   ]
  },
  {
   "cell_type": "code",
   "execution_count": null,
   "metadata": {
    "kernel": "SoS"
   },
   "outputs": [],
   "source": [
    "setwd('/home/dc2325/project/HI_UKBB/SRT')"
   ]
  },
  {
   "cell_type": "code",
   "execution_count": null,
   "metadata": {
    "kernel": "R"
   },
   "outputs": [],
   "source": [
    "srt_all = df.final.imp %>% \n",
    "  select(IID,f.21003.0.0,f.21003.1.0,f.21003.2.0,f.21003.3.0, f.20019.0.0, f.20019.1.0, f.20019.2.0, f.20019.3.0,f.20021.0.0,f.20021.1.0,f.20021.2.0,f.20021.3.0)\n",
    "\n",
    "srt_clean <-  srt_all %>% \n",
    "  mutate(srt_score_left = apply(select(., starts_with(\"f.20019\")), 1, function(x)  {tail(x[!is.na(x)],n=1)[1]}),\n",
    "         srt_score_right = apply(select(., starts_with(\"f.20021\")), 1, function(x) {tail(x[!is.na(x)],n=1)[1]}),\n",
    "         srt_age =  apply(select(., starts_with(\"f.21003\")), 1, function(x)  {tail(x[!is.na(x)],n=1)[1]})\n",
    "  )\n",
    "\n",
    "head(srt_clean)"
   ]
  },
  {
   "cell_type": "markdown",
   "metadata": {
    "kernel": "R"
   },
   "source": [
    "### e. Descriptive statistics"
   ]
  },
  {
   "cell_type": "code",
   "execution_count": null,
   "metadata": {
    "kernel": "SoS"
   },
   "outputs": [],
   "source": [
    "#1555 who do not have srt score for left ear\n",
    "left_ear_na <- srt_clean %>% \n",
    "  filter(is.na(srt_score_left) & !is.na(srt_score_right))\n",
    "dim(left_ear_na)\n",
    "#1554 who do not have srt score for right ear\n",
    "right_ear_na <- srt_clean %>% \n",
    "  filter(is.na(srt_score_right) & !is.na(srt_score_left))\n",
    "dim(right_ear_na)\n",
    "#211763 have neither left ear nor right ear score\n",
    "both_ear <- srt_clean %>% \n",
    "   filter(is.na(srt_score_left) & is.na(srt_score_right))\n",
    "dim(both_ear)"
   ]
  },
  {
   "cell_type": "code",
   "execution_count": null,
   "metadata": {
    "kernel": "R"
   },
   "outputs": [],
   "source": [
    "#create a categorical variable to classify the score for left and right ear\n",
    "#137821 individuals have either right or left score, or both (216526 individuals who have neither the right nor left score are deleted)\n",
    "#134058 have either right or left score, or both  (deleting the outliers)\n",
    "srt_cat <- srt_clean %>%\n",
    "  filter(!is.na(srt_score_left) | !is.na(srt_score_right)) %>% \n",
    "  mutate(srt_left_cat = case_when(\n",
    "        srt_score_left < -5.5   ~  \"normal\",\n",
    "        -5.5 <= srt_score_left & srt_score_left <= -3.5   ~  \"insufficient\",\n",
    "          srt_score_left > -3.5  ~ \"poor\",\n",
    "         TRUE                    ~ \"\"\n",
    "  )) %>% \n",
    "  mutate(srt_right_cat = case_when(\n",
    "        srt_score_right < -5.5   ~  \"normal\",\n",
    "        -5.5 <= srt_score_right & srt_score_right <= -3.5   ~  \"insufficient\",\n",
    "          srt_score_right > -3.5  ~ \"poor\",\n",
    "         TRUE                    ~ \"\"\n",
    "  )) %>% \n",
    "  #remove the score 8 (outlier) for both ears\n",
    "  filter(!(srt_score_left == 8) & !(srt_score_right == 8))\n",
    "\n",
    "#to use the function max/min, replace all NA to 0 for numerical variables \n",
    "srt_fill_na <- srt_cat\n",
    "srt_fill_na[is.na(clean <- srt_cat)] <- 0\n",
    " \n",
    "\n",
    "# Create two new variables to show the best ear and the worst ear\n",
    "srt_best_worst <-  srt_fill_na %>% \n",
    "  mutate(best = apply(select(., starts_with(\"f.200\")), 1, function(x) min(x[x!=0])),\n",
    "         worst = apply(select(., starts_with(\"f.200\")), 1, function(x) max(x[x!=0]))\n",
    "  ) %>% \n",
    "  #replace the Inf and -Inf values with 0\n",
    "  mutate(best = if_else(best == Inf, 0, best),\n",
    "         worst = if_else(worst == -Inf, 0, worst)\n",
    "  )\n",
    "\n",
    "\n",
    "#replace 0 with NA\n",
    "library(dplyr) \n",
    "srt_best_worst <- na_if(srt_best_worst, 0)\n",
    "\n",
    "\n",
    "#summary statistics \n",
    "summary(srt_best_worst$srt_score_left)"
   ]
  },
  {
   "cell_type": "code",
   "execution_count": null,
   "metadata": {
    "kernel": "R"
   },
   "outputs": [],
   "source": [
    "summary(srt_best_worst$srt_score_right)"
   ]
  },
  {
   "cell_type": "code",
   "execution_count": null,
   "metadata": {
    "kernel": "R"
   },
   "outputs": [],
   "source": [
    "summary_left <- srt_best_worst %>%\n",
    "  filter(!is.na(srt_score_left)) %>% \n",
    "  summarise(std_left =sd(srt_score_left),\n",
    "          mean_left = mean(srt_score_left),\n",
    "          median_left = median(srt_score_left),\n",
    "          n = n()\n",
    "          ) \n",
    "\n",
    "summary_left "
   ]
  },
  {
   "cell_type": "code",
   "execution_count": null,
   "metadata": {
    "kernel": "R"
   },
   "outputs": [],
   "source": [
    "summary_right <- srt_best_worst %>%\n",
    "  filter(!is.na(srt_score_right)) %>% \n",
    "  summarise(std_right =sd(srt_score_right),\n",
    "          mean_right = mean(srt_score_right),\n",
    "          median_right = median(srt_score_right),\n",
    "          n = n()\n",
    "          ) \n",
    "\n",
    "summary_right"
   ]
  },
  {
   "cell_type": "markdown",
   "metadata": {
    "kernel": "R"
   },
   "source": [
    "### Plots"
   ]
  },
  {
   "cell_type": "code",
   "execution_count": null,
   "metadata": {
    "kernel": "R"
   },
   "outputs": [],
   "source": [
    "#histogram for SRT Score for Left Ear\n",
    "left_plot = srt_best_worst %>% \n",
    "  filter(!is.na(srt_score_left)) %>% \n",
    "  ggplot(aes(x = srt_score_left,color = srt_left_cat)) +\n",
    "      geom_histogram(binwidth = 0.1) +\n",
    "   labs(\n",
    "    title = \"SRT Score for Left Ear (by category)\",\n",
    "    x = \"SRT Score for Left \",\n",
    "    y = \"Count\"\n",
    "    ) + \n",
    "   scale_x_continuous(\n",
    "    breaks = c(-10, -5.5, -3.5, 0, 3.5, 5.5),\n",
    "    labels = c(\"-10\", \"-5.5\", \"-3.5\", \"0\", \"3.5\", \"5.5\")) +\n",
    "  scale_color_discrete(\"SRT Score Category\",labels=c(\"normal\",\"insuficient\",\"poor\")) \n",
    "\n",
    "\n",
    "left_plot"
   ]
  },
  {
   "cell_type": "code",
   "execution_count": null,
   "metadata": {
    "kernel": "R"
   },
   "outputs": [],
   "source": [
    "#QQ plot for SRT Score for Left Ear\n",
    "qq_left_total <- srt_best_worst %>% \n",
    "  filter(!is.na(srt_score_left)) %>% \n",
    "  ggplot(aes(sample = (srt_score_left - mean(srt_score_left))/sd(srt_score_left))) +\n",
    "  stat_qq() +\n",
    "  stat_qq_line() +\n",
    "  labs(title=\"QQ plot for SRT Score (Left)\",\n",
    "       y = \"SRT Score Quantile\",\n",
    "       x = \"Normal Quantile\") +\n",
    "theme_classic()\n",
    "\n",
    "qq_left_total"
   ]
  },
  {
   "cell_type": "code",
   "execution_count": null,
   "metadata": {
    "kernel": "R"
   },
   "outputs": [],
   "source": [
    "qq_left_by_cat <- srt_best_worst %>% \n",
    "  filter(!is.na(srt_score_left)) %>% \n",
    "  ggplot(aes(sample = (srt_score_left - mean(srt_score_left))/sd(srt_score_left), color = srt_left_cat)) +\n",
    "  stat_qq() +\n",
    "  stat_qq_line() +\n",
    "  labs(title=\"QQ plot for SRT Score (Left)\",\n",
    "       y = \"SRT Score Quantile\",\n",
    "       x = \"Normal Quantile\") +\n",
    "theme_classic()\n",
    "\n",
    "qq_left_by_cat"
   ]
  },
  {
   "cell_type": "code",
   "execution_count": null,
   "metadata": {
    "kernel": "R"
   },
   "outputs": [],
   "source": [
    "#histogram for SRT Score for Right Ear \n",
    "right_plot <- srt_best_worst %>% \n",
    "  filter(!is.na(srt_score_right)) %>% \n",
    "  ggplot(aes(x = srt_score_right, color=srt_right_cat) ) +\n",
    "      geom_histogram(binwidth = 0.1) +\n",
    "  labs(\n",
    "    title = \"SRT Score for Right Ear (by category)\",\n",
    "    x = \"SRT Score for Right \",\n",
    "    y = \"Count\"\n",
    "    ) + \n",
    "   scale_x_continuous(\n",
    "    breaks = c(-10, -5.5, -3.5, 0, 3.5, 5.5),\n",
    "    labels = c(\"-10\", \"-5.5\", \"-3.5\", \"0\", \"3.5\", \"5.5\")) +\n",
    "  scale_y_continuous(\n",
    "    breaks = c(2500, 5000, 7500, 10000, 12500, 15000),\n",
    "    labels = c(\"2500\", \"5000\", \"7500\", \"10000\", \"12500\", \"15000\")) +\n",
    "  scale_color_discrete(\"SRT Score Category\",labels=c(\"normal\",\"insuficient\",\"poor\")) \n",
    " \n",
    "right_plot"
   ]
  },
  {
   "cell_type": "code",
   "execution_count": null,
   "metadata": {
    "kernel": "R"
   },
   "outputs": [],
   "source": [
    "#QQ plot for SRT Score for Right Ear\n",
    "qq_right_total <- srt_best_worst %>% \n",
    "  filter(!is.na(srt_score_right)) %>% \n",
    "  ggplot(aes(sample = (srt_score_right - mean(srt_score_right))/sd(srt_score_right))) +\n",
    "  stat_qq(distribution = stats::qnorm) +\n",
    "  stat_qq_line() +\n",
    "  labs(title=\"QQ plot for SRT Score (Right)\",\n",
    "       y = \"SRT Score Quantile\",\n",
    "       x = \"Normal Quantile\") +\n",
    "theme_classic()\n",
    "\n",
    "qq_right_total"
   ]
  },
  {
   "cell_type": "code",
   "execution_count": null,
   "metadata": {
    "kernel": "R"
   },
   "outputs": [],
   "source": [
    "qq_right_by_cat <- srt_best_worst %>% \n",
    "  filter(!is.na(srt_score_right)) %>% \n",
    "  ggplot(aes(sample = (srt_score_right - mean(srt_score_right))/sd(srt_score_right), color = srt_right_cat)) +\n",
    "  stat_qq(distribution = stats::qnorm) +\n",
    "  stat_qq_line() +\n",
    "  labs(title=\"QQ plot for SRT Score (Right)\",\n",
    "       y = \"SRT Score Quantile\",\n",
    "       x = \"Normal Quantile\") +\n",
    "theme_classic()\n",
    "\n",
    "qq_right_by_cat"
   ]
  },
  {
   "cell_type": "code",
   "execution_count": null,
   "metadata": {
    "kernel": "R"
   },
   "outputs": [],
   "source": [
    "srt_best_worst_cat <- srt_best_worst %>%\n",
    "  mutate(srt_best_cat = case_when(\n",
    "        best < -5.5   ~  \"normal\",\n",
    "        -5.5 <= best & best <= -3.5   ~  \"insufficient\",\n",
    "          best > -3.5  ~ \"poor\",\n",
    "         TRUE                    ~ \"\"\n",
    "  )) %>% \n",
    "  mutate(srt_worst_cat = case_when(\n",
    "        worst < -5.5   ~  \"normal\",\n",
    "        -5.5 <= worst & worst <= -3.5   ~  \"insufficient\",\n",
    "          worst > -3.5  ~ \"poor\",\n",
    "         TRUE                    ~ \"\"\n",
    "  )) %>% \n",
    "  filter(!is.na(best) | !is.na(worst))\n",
    "\n",
    "\n",
    "\n",
    "best_plot <- srt_best_worst_cat %>% \n",
    "  ggplot(aes(x = best, color=srt_best_cat) ) +\n",
    "      geom_histogram(binwidth = 0.1) +\n",
    "  labs(\n",
    "    title = \"SRT Score for the Best Ear (by category)\",\n",
    "    x = \"SRT Score for the Best \",\n",
    "    y = \"Count\"\n",
    "    ) + \n",
    "   scale_x_continuous(\n",
    "    breaks = c(-10, -5.5, -3.5, 0, 3.5, 5.5),\n",
    "    labels = c(\"-10\", \"-5.5\", \"-3.5\", \"0\", \"3.5\", \"5.5\")) +\n",
    "  scale_y_continuous(\n",
    "    breaks = c(2500, 5000, 7500, 10000, 12500, 15000),\n",
    "    labels = c(\"2500\", \"5000\", \"7500\", \"10000\", \"12500\", \"15000\")) +\n",
    "  scale_color_discrete(\"SRT Score Category\",labels=c(\"normal\",\"insuficient\",\"poor\")) \n",
    " \n",
    "best_plot"
   ]
  },
  {
   "cell_type": "code",
   "execution_count": null,
   "metadata": {
    "kernel": "R"
   },
   "outputs": [],
   "source": [
    "qq_best <- srt_best_worst_cat %>% \n",
    "  ggplot(aes(sample = (best - mean(best))/sd(best))) +\n",
    "  stat_qq(distribution = stats::qnorm) +\n",
    "  stat_qq_line(col= 'blue') +\n",
    "  labs(title=\"QQ plot for the Best SRT Score\",\n",
    "       y = \"SRT Score Quantiles\",\n",
    "       x = \"normal Quantiles\") + \n",
    "theme_classic()  \n",
    "\n",
    "qq_best"
   ]
  },
  {
   "cell_type": "code",
   "execution_count": null,
   "metadata": {
    "kernel": "R"
   },
   "outputs": [],
   "source": [
    "worst_plot <- srt_best_worst_cat %>% \n",
    "  ggplot(aes(x = worst, color=srt_worst_cat)) +\n",
    "      geom_histogram(binwidth = 0.1) +\n",
    "  labs(\n",
    "    title = \"SRT Score for the Worst Ear (by category)\",\n",
    "    x = \"SRT Score for the Best \",\n",
    "    y = \"Count\"\n",
    "    ) + \n",
    "   scale_x_continuous(\n",
    "    breaks = c(-10, -5.5, -3.5, 0, 3.5, 5.5),\n",
    "    labels = c(\"-10\", \"-5.5\", \"-3.5\", \"0\", \"3.5\", \"5.5\")) +\n",
    "  scale_y_continuous(\n",
    "    breaks = c(2500, 5000, 7500, 10000, 12500, 15000),\n",
    "    labels = c(\"2500\", \"5000\", \"7500\", \"10000\", \"12500\", \"15000\")) +\n",
    "  scale_color_discrete(\"SRT Score Category\",labels=c(\"normal\",\"insuficient\",\"poor\")) \n",
    " \n",
    "\n",
    "worst_plot"
   ]
  },
  {
   "cell_type": "code",
   "execution_count": null,
   "metadata": {
    "kernel": "R"
   },
   "outputs": [],
   "source": [
    "qq_worst <- srt_best_worst_cat %>% \n",
    "  ggplot(aes(sample = (worst - mean(worst))/sd(worst))) +\n",
    "  stat_qq(distribution = stats::qnorm) +\n",
    "  stat_qq_line(col= 'blue') +\n",
    "  labs(title=\"QQ plot for the Worst SRT Score\",\n",
    "       y = \"SRT Score Quantiles\",\n",
    "       x = \"normal quantiles\") +\n",
    "theme_classic()  \n",
    "\n",
    "qq_worst"
   ]
  },
  {
   "cell_type": "code",
   "execution_count": null,
   "metadata": {
    "kernel": "R"
   },
   "outputs": [],
   "source": []
  }
 ],
 "metadata": {
  "kernelspec": {
   "display_name": "SoS",
   "language": "sos",
   "name": "sos"
  },
  "language_info": {
   "codemirror_mode": "sos",
   "file_extension": ".sos",
   "mimetype": "text/x-sos",
   "name": "sos",
   "nbconvert_exporter": "sos_notebook.converter.SoS_Exporter",
   "pygments_lexer": "sos"
  },
  "sos": {
   "kernels": [
    [
     "Bash",
     "calysto_bash",
     "Bash",
     "#E6EEFF",
     "shell"
    ],
    [
     "R",
     "ir",
     "R",
     "#DCDCDA",
     "r"
    ],
    [
     "SoS",
     "sos",
     "",
     "",
     "sos"
    ]
   ],
   "version": "0.21.12"
  }
 },
 "nbformat": 4,
 "nbformat_minor": 4
}
