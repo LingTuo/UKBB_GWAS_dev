{
 "cells": [
  {
   "cell_type": "markdown",
   "metadata": {
    "kernel": "SoS"
   },
   "source": [
    "# Hearing related phenotypes"
   ]
  },
  {
   "cell_type": "markdown",
   "metadata": {
    "kernel": "SoS"
   },
   "source": [
    "## Aim\n",
    "\n",
    "Create a dataset of filtered individuals using the inclusion and exclusion criteria for diverse hearing related phenotyes to perform association analyses using the LMM.ipynb. "
   ]
  },
  {
   "cell_type": "markdown",
   "metadata": {
    "kernel": "SoS"
   },
   "source": [
    "## Location of files\n",
    "\n",
    "In the shared folder is the original UKBB data\n",
    "```\n",
    "/SAY/dbgapstg/scratch/UKBiobank/phenotype_files/pleiotropy_R01/ukb42495_updatedJune2020\n",
    "```\n",
    "\n",
    "In my personal folder the filtered dataset\n",
    "\n",
    "```\n",
    "/home/dc2325/project/tinnitus\n",
    "```"
   ]
  },
  {
   "cell_type": "markdown",
   "metadata": {
    "kernel": "Bash"
   },
   "source": [
    "## Subset the data using variables of interest\n",
    "\n",
    "Using the ukbconvert software and a list of pre-specified variables\n",
    "\n",
    "```\n",
    "./ukbconv ukb42495.enc_ukb r -i/home/dc2325/project/tinnitus/selectvars_062520.txt -o/home/dc2325/project/tinnitus/ukb42495_subset062520\n",
    "```"
   ]
  },
  {
   "cell_type": "code",
   "execution_count": null,
   "metadata": {
    "kernel": "SoS"
   },
   "outputs": [],
   "source": [
    "[global]\n",
    "# The working dir\n",
    "parameter:cwd = path\n",
    "# The fam file\n",
    "parameter: famfile = path"
   ]
  },
  {
   "cell_type": "markdown",
   "metadata": {
    "kernel": "SoS"
   },
   "source": [
    "## Subsetting individuals with genotypic data"
   ]
  },
  {
   "cell_type": "markdown",
   "metadata": {
    "kernel": "SoS"
   },
   "source": [
    "Load necessary libraries"
   ]
  },
  {
   "cell_type": "code",
   "execution_count": null,
   "metadata": {
    "kernel": "SoS"
   },
   "outputs": [],
   "source": []
  },
  {
   "cell_type": "code",
   "execution_count": 2,
   "metadata": {
    "kernel": "R"
   },
   "outputs": [
    {
     "data": {
      "text/html": [
       "'/gpfs/ysm/project/dewan/dc2325/UKBB_GWAS_DEV/analysis'"
      ],
      "text/latex": [
       "'/gpfs/ysm/project/dewan/dc2325/UKBB\\_GWAS\\_DEV/analysis'"
      ],
      "text/markdown": [
       "'/gpfs/ysm/project/dewan/dc2325/UKBB_GWAS_DEV/analysis'"
      ],
      "text/plain": [
       "[1] \"/gpfs/ysm/project/dewan/dc2325/UKBB_GWAS_DEV/analysis\""
      ]
     },
     "metadata": {},
     "output_type": "display_data"
    }
   ],
   "source": [
    "getwd()"
   ]
  },
  {
   "cell_type": "code",
   "execution_count": 3,
   "metadata": {
    "kernel": "R"
   },
   "outputs": [],
   "source": [
    "setwd('~/project/HI_UKBB')"
   ]
  },
  {
   "cell_type": "code",
   "execution_count": 4,
   "metadata": {
    "kernel": "R"
   },
   "outputs": [],
   "source": [
    "# Clean workspace\n",
    "rm(list=ls())"
   ]
  },
  {
   "cell_type": "code",
   "execution_count": 5,
   "metadata": {
    "kernel": "R"
   },
   "outputs": [
    {
     "data": {
      "text/html": [
       "502505"
      ],
      "text/latex": [
       "502505"
      ],
      "text/markdown": [
       "502505"
      ],
      "text/plain": [
       "[1] 502505"
      ]
     },
     "metadata": {},
     "output_type": "display_data"
    }
   ],
   "source": [
    "# Run script to import data to R\n",
    "source(\"ukb42495_subset062520.r\")\n",
    "nrow(bd)"
   ]
  },
  {
   "cell_type": "code",
   "execution_count": 6,
   "metadata": {
    "kernel": "R"
   },
   "outputs": [
    {
     "data": {
      "text/html": [
       "366745"
      ],
      "text/latex": [
       "366745"
      ],
      "text/markdown": [
       "366745"
      ],
      "text/plain": [
       "[1] 366745"
      ]
     },
     "metadata": {},
     "output_type": "display_data"
    }
   ],
   "source": [
    "# List of individuals with qc'ed genotypic files\n",
    "df.geno <- read.table(\"/SAY/dbgapstg/scratch/UKBiobank/genotype_files/pleiotropy_geneticfiles/UKB_Caucasians_phenotypeindepqc120319_updated020720removedwithdrawnindiv.fam\", header= FALSE, stringsAsFactors = FALSE)\n",
    "names(df.geno) <-c(\"FID\",\"IID\",\"ignore1\", \"ignore2\", \"ignore3\", \"ignore4\")\n",
    "nrow(df.geno)"
   ]
  },
  {
   "cell_type": "code",
   "execution_count": 10,
   "metadata": {
    "kernel": "R"
   },
   "outputs": [
    {
     "data": {
      "text/html": [
       "<table>\n",
       "<caption>A data.frame: 6 × 1</caption>\n",
       "<thead>\n",
       "\t<tr><th></th><th scope=col>f.eid</th></tr>\n",
       "\t<tr><th></th><th scope=col>&lt;int&gt;</th></tr>\n",
       "</thead>\n",
       "<tbody>\n",
       "\t<tr><th scope=row>1</th><td>6025442</td></tr>\n",
       "\t<tr><th scope=row>2</th><td>1000019</td></tr>\n",
       "\t<tr><th scope=row>3</th><td>1000022</td></tr>\n",
       "\t<tr><th scope=row>4</th><td>1000035</td></tr>\n",
       "\t<tr><th scope=row>5</th><td>1000046</td></tr>\n",
       "\t<tr><th scope=row>6</th><td>1000054</td></tr>\n",
       "</tbody>\n",
       "</table>\n"
      ],
      "text/latex": [
       "A data.frame: 6 × 1\n",
       "\\begin{tabular}{r|l}\n",
       "  & f.eid\\\\\n",
       "  & <int>\\\\\n",
       "\\hline\n",
       "\t1 & 6025442\\\\\n",
       "\t2 & 1000019\\\\\n",
       "\t3 & 1000022\\\\\n",
       "\t4 & 1000035\\\\\n",
       "\t5 & 1000046\\\\\n",
       "\t6 & 1000054\\\\\n",
       "\\end{tabular}\n"
      ],
      "text/markdown": [
       "\n",
       "A data.frame: 6 × 1\n",
       "\n",
       "| <!--/--> | f.eid &lt;int&gt; |\n",
       "|---|---|\n",
       "| 1 | 6025442 |\n",
       "| 2 | 1000019 |\n",
       "| 3 | 1000022 |\n",
       "| 4 | 1000035 |\n",
       "| 5 | 1000046 |\n",
       "| 6 | 1000054 |\n",
       "\n"
      ],
      "text/plain": [
       "  f.eid  \n",
       "1 6025442\n",
       "2 1000019\n",
       "3 1000022\n",
       "4 1000035\n",
       "5 1000046\n",
       "6 1000054"
      ]
     },
     "metadata": {},
     "output_type": "display_data"
    }
   ],
   "source": [
    "head(bd[,1, drop=FALSE])"
   ]
  },
  {
   "cell_type": "code",
   "execution_count": 7,
   "metadata": {
    "kernel": "R"
   },
   "outputs": [
    {
     "data": {
      "text/html": [
       "<table>\n",
       "<caption>A data.frame: 6 × 1</caption>\n",
       "<thead>\n",
       "\t<tr><th></th><th scope=col>IID</th></tr>\n",
       "\t<tr><th></th><th scope=col>&lt;int&gt;</th></tr>\n",
       "</thead>\n",
       "<tbody>\n",
       "\t<tr><th scope=row>1</th><td>6025442</td></tr>\n",
       "\t<tr><th scope=row>2</th><td>1000019</td></tr>\n",
       "\t<tr><th scope=row>3</th><td>1000022</td></tr>\n",
       "\t<tr><th scope=row>4</th><td>1000035</td></tr>\n",
       "\t<tr><th scope=row>5</th><td>1000046</td></tr>\n",
       "\t<tr><th scope=row>6</th><td>1000054</td></tr>\n",
       "</tbody>\n",
       "</table>\n"
      ],
      "text/latex": [
       "A data.frame: 6 × 1\n",
       "\\begin{tabular}{r|l}\n",
       "  & IID\\\\\n",
       "  & <int>\\\\\n",
       "\\hline\n",
       "\t1 & 6025442\\\\\n",
       "\t2 & 1000019\\\\\n",
       "\t3 & 1000022\\\\\n",
       "\t4 & 1000035\\\\\n",
       "\t5 & 1000046\\\\\n",
       "\t6 & 1000054\\\\\n",
       "\\end{tabular}\n"
      ],
      "text/markdown": [
       "\n",
       "A data.frame: 6 × 1\n",
       "\n",
       "| <!--/--> | IID &lt;int&gt; |\n",
       "|---|---|\n",
       "| 1 | 6025442 |\n",
       "| 2 | 1000019 |\n",
       "| 3 | 1000022 |\n",
       "| 4 | 1000035 |\n",
       "| 5 | 1000046 |\n",
       "| 6 | 1000054 |\n",
       "\n"
      ],
      "text/plain": [
       "  IID    \n",
       "1 6025442\n",
       "2 1000019\n",
       "3 1000022\n",
       "4 1000035\n",
       "5 1000046\n",
       "6 1000054"
      ]
     },
     "metadata": {},
     "output_type": "display_data"
    }
   ],
   "source": [
    "# Assign individual ID column to bd f.eid\n",
    "names(bd)[1] <- \"IID\"\n",
    "head(bd[,1, drop=FALSE])"
   ]
  },
  {
   "cell_type": "code",
   "execution_count": 9,
   "metadata": {
    "kernel": "R"
   },
   "outputs": [
    {
     "data": {
      "text/html": [
       "366744"
      ],
      "text/latex": [
       "366744"
      ],
      "text/markdown": [
       "366744"
      ],
      "text/plain": [
       "[1] 366744"
      ]
     },
     "metadata": {},
     "output_type": "display_data"
    }
   ],
   "source": [
    "# Merge the two data frames\n",
    "df.gen.phen <-merge(df.geno, bd, by=\"IID\", all=FALSE)\n",
    "nrow(df.gen.phen)"
   ]
  },
  {
   "cell_type": "code",
   "execution_count": 11,
   "metadata": {
    "kernel": "R"
   },
   "outputs": [
    {
     "ename": "ERROR",
     "evalue": "Error in merge(data.geno, bd, by = \"IID\", all = FALSE): object 'data.geno' not found\n",
     "output_type": "error",
     "traceback": [
      "Error in merge(data.geno, bd, by = \"IID\", all = FALSE): object 'data.geno' not found\nTraceback:\n",
      "1. merge(data.geno, bd, by = \"IID\", all = FALSE)"
     ]
    }
   ],
   "source": [
    "# Step 5 Save as csv file\n",
    "write.csv(data.geno.pheno,'UKBB_071020_HI_genotypeqc.csv', row.names = FALSE)"
   ]
  },
  {
   "cell_type": "markdown",
   "metadata": {
    "kernel": "R"
   },
   "source": [
    "## 1. Tinnitus phenotype (binary)"
   ]
  },
  {
   "cell_type": "markdown",
   "metadata": {
    "kernel": "R"
   },
   "source": [
    "### a. Exclusion criteria based on ICD10, ICD9 codes and self-report\n",
    "Apply the exclusion criteria defined by the group to remove unwanted individuals. This takes into account ICD10 codes, ICD9 codes and f.20002 (self-report). Please find a list of removed codes [here](https://docs.google.com/spreadsheets/d/12L7Cx4Ov8FppGVmG0DxL9uG-lVRHM5QJSea0nORyirQ/edit#gid=0). A total 12397 individuals were excluded in this step."
   ]
  },
  {
   "cell_type": "code",
   "execution_count": null,
   "metadata": {
    "kernel": "Bash"
   },
   "outputs": [],
   "source": [
    "# To get a list of removed individuals. Make sure the list with the strings each line has \\bstring\\b so it can be recognized by -w\n",
    "grep -w -f 200713_ICDcodes_exclusion.txt UKBB_071020_HI_genotypeqc.csv > 200713_UKBB_excluded_individuals.csv\n",
    "cat 200713_UKBB_excluded_individuals.csv | wc -l #12397 excluded\n",
    "# To get the clean db with the included individuals\n",
    "grep -wv -f 200713_ICDcodes_exclusion.txt UKBB_071020_HI_genotypeqc.csv > 200713_UKBB_genotypeqc_tinnitus_excr.csv\n",
    "cat 200713_UKBB_genotypeqc_clean.csv | wc -l #354347 retained\n",
    "# To obtain the duplicate lines (if they exist)\n",
    "comm -12 <(sort 200713_UKBB_genotypeqc_tinnitus_excr.csv) <(sort 200713_UKBB_excluded_individuals.csv)"
   ]
  },
  {
   "cell_type": "code",
   "execution_count": null,
   "metadata": {
    "kernel": "R"
   },
   "outputs": [],
   "source": [
    "# Load libraries\n",
    "library(plyr)\n",
    "library(dplyr)\n",
    "\n",
    "# Import clean data\n",
    "df_clean = read.csv(file = \"200713_UKBB_genotypeqc_tinnitus_excr.csv\", header=TRUE)\n",
    "\n",
    "dim(df_clean)"
   ]
  },
  {
   "cell_type": "markdown",
   "metadata": {
    "kernel": "R"
   },
   "source": [
    "### b. Variable recoding"
   ]
  },
  {
   "cell_type": "code",
   "execution_count": null,
   "metadata": {
    "kernel": "R"
   },
   "outputs": [],
   "source": [
    "## Variable recoding\n",
    "# Recode the f.4308 for every instance Yes contains all three categories and No is No, never. Do not know and Prefer not to answer are kept as they are\n",
    "\n",
    "data_clean$f.4803.0.0_recode <- revalue(data_clean$f.4803.0.0, c(\"Yes, now most or all of the time\"=\"Yes\", \"Yes, now a lot of the time\"=\"Yes\", \"Yes, now some of the time\"=\"Yes\", \"Yes, but not now, but have in the past\"=\"Yes\",\"No, never\"=\"No\",\"Prefer not to answer\"=NA,\"Do not know\"=\"Do not know\"))\n",
    "summary(data_clean$f.4803.0.0_recode)\n",
    "data_clean$f.4803.1.0_recode <- revalue(data_clean$f.4803.1.0, c(\"Yes, now most or all of the time\"=\"Yes\", \"Yes, now a lot of the time\"=\"Yes\", \"Yes, now some of the time\"=\"Yes\", \"Yes, but not now, but have in the past\"=\"Yes\",\"No, never\"=\"No\",\"Prefer not to answer\"=NA,\"Do not know\"=\"Do not know\"))\n",
    "summary(data_clean$f.4803.1.0_recode)\n",
    "data_clean$f.4803.2.0_recode <- revalue(data_clean$f.4803.2.0, c(\"Yes, now most or all of the time\"=\"Yes\", \"Yes, now a lot of the time\"=\"Yes\", \"Yes, now some of the time\"=\"Yes\", \"Yes, but not now, but have in the past\"=\"Yes\",\"No, never\"=\"No\",\"Prefer not to answer\"=NA,\"Do not know\"=\"Do not know\"))\n",
    "summary(data_clean$f.4803.2.0_recode)\n",
    "data_clean$f.4803.3.0_recode <- revalue(data_clean$f.4803.3.0, c(\"Yes, now most or all of the time\"=\"Yes\", \"Yes, now a lot of the time\"=\"Yes\", \"Yes, now some of the time\"=\"Yes\", \"Yes, but not now, but have in the past\"=\"Yes\",\"No, never\"=\"No\",\"Prefer not to answer\"=NA,\"Do not know\"=\"Do not know\"))\n",
    "summary(data_clean$f.4803.3.0_recode) \n",
    "\n",
    "# Recode variable noisy workplace f.4825\n",
    "\n",
    "data_clean$f.4825.0.0_recode <- revalue(data_clean$f.4825.0.0, c(\"No\"=\"0\", \"Yes, for less than a year\"=\"1\", \"Yes, for around 1-5 years\"=\"2\",\n",
    "                                                                         \"Yes, for more than 5 years\"=\"3\",\"Prefer not to answer\"=NA,\"Do not know\"=NA ))\n",
    "data_clean$f.4825.0.0_recode <- ordered(data_clean$f.4825.0.0_recode, levels = c(\"0\", \"1\", \"2\", \"3\"))\n",
    "table(data_clean$f.4825.0.0_recode)\n",
    "\n",
    "data_clean$f.4825.1.0_recode <- revalue(data_clean$f.4825.1.0, c(\"No\"=\"0\", \"Yes, for less than a year\"=\"1\", \"Yes, for around 1-5 years\"=\"2\",\n",
    "                                                                         \"Yes, for more than 5 years\"=\"3\",\"Prefer not to answer\"=NA,\"Do not know\"=NA ))\n",
    "data_clean$f.4825.1.0_recode <- ordered(data_clean$f.4825.1.0_recode, levels = c(\"0\", \"1\", \"2\", \"3\"))\n",
    "table(data_clean$f.4825.1.0_recode)\n",
    "\n",
    "data_clean$f.4825.2.0_recode <- revalue(data_clean$f.4825.2.0, c(\"No\"=\"0\", \"Yes, for less than a year\"=\"1\", \"Yes, for around 1-5 years\"=\"2\",\n",
    "                                                                         \"Yes, for more than 5 years\"=\"3\",\"Prefer not to answer\"=NA,\"Do not know\"=NA ))\n",
    "data_clean$f.4825.2.0_recode <- ordered(data_clean$f.4825.2.0_recode, levels = c(\"0\", \"1\", \"2\", \"3\"))\n",
    "table(data_clean$f.4825.2.0_recode)\n",
    "\n",
    "data_clean$f.4825.3.0_recode <- revalue(data_clean$f.4825.3.0, c(\"No\"=\"0\", \"Yes, for less than a year\"=\"1\", \"Yes, for around 1-5 years\"=\"2\",\n",
    "                                                                         \"Yes, for more than 5 years\"=\"3\",\"Prefer not to answer\"=NA,\"Do not know\"=NA ))\n",
    "data_clean$f.4825.3.0_recode <- ordered(data_clean$f.4825.3.0_recode, levels = c(\"0\", \"1\", \"2\", \"3\"))\n",
    "table(data_clean$f.4825.3.0_recode)\n",
    "\n",
    "# Recode variable loud music exposure frequency f.4836\n",
    "\n",
    "data_clean$f.4836.0.0_recode <- revalue(data_clean$f.4836.0.0, c(\"No\"=\"0\", \"Yes, for less than a year\"=\"1\", \"Yes, for around 1-5 years\"=\"2\",\n",
    "                                                                 \"Yes, for more than 5 years\"=\"3\",\"Prefer not to answer\"=NA,\"Do not know\"=NA ))\n",
    "data_clean$f.4836.0.0_recode <- ordered(data_clean$f.4836.0.0_recode, levels = c(\"0\", \"1\", \"2\", \"3\"))\n",
    "table(data_clean$f.4836.0.0_recode)\n",
    "\n",
    "data_clean$f.4836.1.0_recode <- revalue(data_clean$f.4836.1.0, c(\"No\"=\"0\", \"Yes, for less than a year\"=\"1\", \"Yes, for around 1-5 years\"=\"2\",\n",
    "                                                                 \"Yes, for more than 5 years\"=\"3\",\"Prefer not to answer\"=NA,\"Do not know\"=NA ))\n",
    "data_clean$f.4836.1.0_recode <- ordered(data_clean$f.4836.1.0_recode, levels = c(\"0\", \"1\", \"2\", \"3\"))\n",
    "table(data_clean$f.4836.1.0_recode)\n",
    "\n",
    "data_clean$f.4836.2.0_recode <- revalue(data_clean$f.4836.2.0, c(\"No\"=\"0\", \"Yes, for less than a year\"=\"1\", \"Yes, for around 1-5 years\"=\"2\",\n",
    "                                                                 \"Yes, for more than 5 years\"=\"3\",\"Prefer not to answer\"=NA,\"Do not know\"=NA ))\n",
    "data_clean$f.4836.2.0_recode <- ordered(data_clean$f.4836.2.0_recode, levels = c(\"0\", \"1\", \"2\", \"3\"))\n",
    "table(data_clean$f.4836.2.0_recode)\n",
    "\n",
    "data_clean$f.4836.3.0_recode <- revalue(data_clean$f.4836.3.0, c(\"No\"=\"0\", \"Yes, for less than a year\"=\"1\", \"Yes, for around 1-5 years\"=\"2\",\n",
    "                                                                 \"Yes, for more than 5 years\"=\"3\",\"Prefer not to answer\"=NA,\"Do not know\"=NA ))\n",
    "data_clean$f.4836.3.0_recode <- ordered(data_clean$f.4836.3.0_recode, levels = c(\"0\", \"1\", \"2\", \"3\"))\n",
    "table(data_clean$f.4836.3.0_recode)\n",
    "\n",
    "# Genetic Sex variable f.22001\n",
    "\n",
    "table(data_clean$f.22001.0.0)\n",
    "data_clean$sex <- revalue(data_clean$f.22001.0.0, c(\"Male\" = '0', 'Female'='1' ))\n",
    "table(data_clean$sex)"
   ]
  },
  {
   "cell_type": "markdown",
   "metadata": {
    "kernel": "R"
   },
   "source": [
    "### c. Filtering of the tinnitus phenotype"
   ]
  },
  {
   "cell_type": "code",
   "execution_count": null,
   "metadata": {
    "kernel": "R"
   },
   "outputs": [],
   "source": [
    "data_clean$cases <- with(data_clean, ifelse(f.4803.0.0_recode == \"No\" & (f.4803.1.0_recode == \"Yes\" | f.4803.2.0_recode == \"Yes\" | f.4803.3.0_recode == \"Yes\")\n",
    "                                                      & !(f.4803.0.0_recode == \"No\" & f.4803.1.0_recode == \"Yes\" & f.4803.2.0_recode  %in% c(\"No\", \"Do not know\") & f.4803.3.0_recode %in% c(\"No\", \"Do not know\",NA)) \n",
    "                                                      & !(f.4803.0.0_recode == \"No\" & f.4803.1.0_recode %in% c(\"No\", \"Do not know\") & f.4803.2.0_recode == \"Yes\" & f.4803.3.0_recode %in% c(\"No\", \"Do not know\"))\n",
    "                                                      & !(f.4803.0.0_recode == \"No\" & f.4803.1.0_recode == \"Yes\" & f.4803.2.0_recode == \"Yes\" & f.4803.3.0_recode %in% c(\"No\", \"Do not know\"))\n",
    "                                                      | (f.4803.0.0_recode %in% c(\"Yes\",NA) & (f.4803.1.0_recode %in% c(\"Yes\",NA) | f.4803.2.0_recode %in% c(\"Yes\",NA) | f.4803.3.0_recode %in% c(\"Yes\",NA))\n",
    "                                                         & !(f.4803.0.0_recode %in% c(\"Yes\",NA) & (f.4803.1.0_recode %in% c(\"No\", \"Do not know\") | f.4803.2.0_recode %in% c(\"No\", \"Do not know\") | f.4803.3.0_recode %in% c(\"No\", \"Do not know\")))\n",
    "                                                         & !(f.4803.0.0_recode %in% c(NA) & f.4803.1.0_recode %in% c(NA) & f.4803.2.0_recode %in% c(NA) & f.4803.3.0_recode %in% c(NA))),\n",
    "                                                      \"Yes\", NA))\n",
    "# Number of cases with tinnitus\n",
    "table(data_clean$cases)\n",
    "\n",
    "data_clean$controls <- with(data_clean, ifelse(f.4803.0.0_recode %in% c(\"No\",NA) & f.4803.1.0_recode %in% c(\"No\", NA) & f.4803.2.0_recode %in% c(\"No\",NA) & f.4803.3.0_recode %in% c(\"No\",NA)\n",
    "                                                         & !(f.4803.0.0_recode %in% c(NA) & f.4803.1.0_recode %in% c(NA) & f.4803.2.0_recode %in% c(NA) & f.4803.3.0_recode %in% c(NA)),\"No\", NA))\n",
    "\n",
    "# Number of controls without tinnitus\n",
    "table(data_clean$controls)\n",
    "\n",
    "# Creates a column with the binary status for tinnitus of the individuals\n",
    "\n",
    "data_clean$tinnitus <- coalesce(data_clean$cases, data_clean$controls)\n",
    "\n",
    "table(data_clean$tinnitus)\n",
    "\n",
    "# Get the number of NAs\n",
    "length(which(is.na(data_clean$tinnitus)))"
   ]
  },
  {
   "cell_type": "markdown",
   "metadata": {
    "kernel": "R"
   },
   "source": [
    "### d. Obtaining the age for tinnitus cases and controls"
   ]
  },
  {
   "cell_type": "code",
   "execution_count": null,
   "metadata": {
    "kernel": "R"
   },
   "outputs": [],
   "source": [
    "# Get the \"age at onset\" of tinnitus using f.21003 Age when attended assessment centre for each of the instances\n",
    "# For cases first time they replied yes to f.4803\n",
    "# Get the subset of data to extract age\n",
    "\n",
    "age_all = data_clean %>% \n",
    "  filter(!is.na(tinnitus)) %>%\n",
    "  select(IID,tinnitus, f.4803.0.0_recode, f.4803.1.0_recode, f.4803.2.0_recode, f.4803.3.0_recode, f.21003.0.0, f.21003.1.0, f.21003.2.0, f.21003.3.0)  # data_filed 210003: Age when attended assessment centre\n",
    "head(age_all)\n",
    "\n",
    "library(pander)\n",
    "res<-head(age_all)\n",
    "pandoc.table(res)\n",
    "\n",
    "# Get the subset data of cases\n",
    "age_cases = age_all %>% \n",
    "  filter(tinnitus==\"Yes\")  %>%\n",
    "  select(IID,f.4803.0.0_recode,f.4803.1.0_recode,f.4803.2.0_recode,f.4803.3.0_recode,f.21003.0.0,f.21003.1.0,f.21003.2.0,f.21003.3.0)\n",
    "res<-head(age_cases,12)\n",
    "pandoc.table(res)\n",
    "\n",
    "# Get the # of column where first replied Yes:\n",
    "age_cases$visit_idx = apply(age_cases, 1, function(x) unlist(which(x == 'Yes')))\n",
    "\n",
    "# Define offset:\n",
    "# offset: refers to the # of columns between the first age column (i.e.f.21003.0.0) and the first recode column (i.e.f.4803.0.0_recode)\n",
    "offset = which(colnames(age_cases) == 'f.21003.0.0') - which(colnames(age_cases) == 'f.4803.0.0_recode')\n",
    "\n",
    "# Define the function to extract the first time they said yes for cases \n",
    "f=get_age_func <- function(x) {\n",
    "  visit_index=x[which(colnames(age_cases)==\"visit_idx\")]\n",
    "  index=min(unlist(visit_index))+offset\n",
    "  age=x[index]\n",
    "  final_age=unlist(age)\n",
    "  if(is.null(final_age))\n",
    "  {final_age<-NA}\n",
    "  return(final_age)\n",
    "}\n",
    "\n",
    "# Get the final age for cases\n",
    "age_cases$age_final = apply(age_cases, 1, f)\n",
    "\n",
    "# Show first 6 rows\n",
    "res<-head(age_cases)\n",
    "pandoc.table(res)\n",
    "summary(age_cases$age_final)\n",
    "\n",
    "# Get the subset data of controls\n",
    "age_control = age_all %>% \n",
    "  filter(tinnitus==\"No\")  %>%\n",
    "  select(IID,f.4803.0.0_recode,f.4803.1.0_recode,f.4803.2.0_recode,f.4803.3.0_recode,f.21003.0.0,f.21003.1.0,f.21003.2.0,f.21003.3.0)\n",
    "res<-head(age_control,12)\n",
    "pandoc.table(res)\n",
    "\n",
    "# Get the # of column where last replied No:\n",
    "age_control$visit_idx = apply(age_control, 1, function(x) unlist(which(x == 'No')))\n",
    "\n",
    "# Define offset:\n",
    "# offset: refers to the # of columns between the first age column (i.e.f.21003.0.0) and the first recode column (i.e.f.4803.0.0_recode)\n",
    "offset = which(colnames(age_control) == 'f.21003.0.0') - which(colnames(age_control) == 'f.4803.0.0_recode')\n",
    "\n",
    "# Define the function to extract the last time they said no for control\n",
    "\n",
    "f=get_age_func <- function(x) {\n",
    "  visit_index=x[which(colnames(age_control)==\"visit_idx\")]\n",
    "  index=max(unlist(visit_index))+offset\n",
    "  age=x[index]\n",
    "  age=unlist(age)\n",
    "  return(age)\n",
    "}\n",
    "\n",
    "# Get the final age for controls\n",
    "age_control$age_final = apply(age_control, 1, f)\n",
    "\n",
    "# Show first 6 rows\n",
    "res<-head(age_control)\n",
    "pandoc.table(res)\n",
    "summary(age_control$age_final)\n",
    "\n",
    "# Merge age_cases and age_controls\n",
    "age_tinnitus <- rbind(age_cases, age_control) \n",
    "dim(age_tinnitus)\n",
    "\n",
    "#Merge with complete database keep the all the rows from original db\n",
    "data_clean_age = merge(data_clean,age_tinnitus,by=\"IID\", all.x=TRUE)\n",
    "dim(data_clean_age)"
   ]
  },
  {
   "cell_type": "markdown",
   "metadata": {
    "kernel": "R"
   },
   "source": [
    "### e. Checking consistency of the f.4825 noisy workplace and filtering"
   ]
  },
  {
   "cell_type": "code",
   "execution_count": null,
   "metadata": {
    "kernel": "R"
   },
   "outputs": [],
   "source": [
    "# Extract subset of data only with the recode columns of noisy workplace variable\n",
    "data_noise <- data_clean_age %>%\n",
    "  select(IID, f.4825.0.0_recode,f.4825.1.0_recode,f.4825.2.0_recode,f.4825.3.0_recode) \n",
    "dim(data_noise)\n",
    "\n",
    "# Function to extract all the available answers for 4 visits\n",
    "# and put them in one list\n",
    "f<-function(x){\n",
    "  visit<-c()\n",
    "  for (i in 2:5){\n",
    "    if (!is.na(x[i]))\n",
    "    {visit<-c(visit,x[i])}\n",
    "  }\n",
    "  if(is.null(visit)){visit=NA}\n",
    "  else{visit=as.numeric(visit)}\n",
    "  return (visit)\n",
    "}\n",
    "\n",
    "# Apply the above function and remove NAs\n",
    "data_noise$visit<-apply(data_noise, 1, f)\n",
    "data_noise<-data_noise %>%\n",
    "  filter(!is.na(visit)) \n",
    "head(data_noise)\n",
    "dim(data_noise)\n",
    "                              \n",
    "# Function to get the final code for noise_wp\n",
    "f<-function(x){\n",
    "  l=length(x$visit)\n",
    "  if (l==1){ # only one answer available\n",
    "    result=x$visit\n",
    "  }\n",
    "  else{ # more then one answer available\n",
    "    result=x$visit[1]\n",
    "    for (i in 2:l){\n",
    "      if (x$visit[i] >= x$visit[i-1]){result=x$visit[i]} # consistent ones\n",
    "      else {result=NA; break} # inconsistent ones\n",
    "    }\n",
    "  }\n",
    "  return(result)\n",
    "}\n",
    "\n",
    "# Apply the above function and remove NAs\n",
    "data_noise$noise_wp<-apply(data_noise, 1, f)\n",
    "data_noise<-data_noise %>%\n",
    "  filter(!is.na(noise_wp)) \n",
    "head(data_noise, 12) # note: noise_wp code generated here is numeric, not factor\n",
    "\n",
    "# Append the noise variable to the data\n",
    "data_clean_noise = merge(data_clean_age,data_noise,by=\"IID\", all.x=TRUE)\n",
    "dim(data_clean_noise)"
   ]
  },
  {
   "cell_type": "markdown",
   "metadata": {
    "kernel": "R"
   },
   "source": [
    "### f. Checking consistency of the f.4836 loud music exposure frequency and filtering"
   ]
  },
  {
   "cell_type": "code",
   "execution_count": null,
   "metadata": {
    "kernel": "R"
   },
   "outputs": [],
   "source": [
    "# Extract subset of data only with the recode columns of loud music exposure variable f.4836\n",
    "\n",
    "data_music <-  data_clean_age %>%\n",
    "  select(IID,f.4836.0.0_recode,f.4836.1.0_recode,f.4836.2.0_recode,f.4836.3.0_recode) \n",
    "head(data_music)\n",
    "dim(data_music)\n",
    "\n",
    "# Function to extract all the available answers for 4 visits\n",
    "# and put them in one list\n",
    "\n",
    "f<-function(x){\n",
    "  visit<-c()\n",
    "  for (i in 2:5){\n",
    "    if (!is.na(x[i]))\n",
    "    {visit<-c(visit,x[i])}\n",
    "  }\n",
    "  if(is.null(visit)){visit=NA}\n",
    "  else{visit=as.numeric(visit)}\n",
    "  return (visit)\n",
    "}\n",
    "\n",
    "# Apply the above function and remove NAs\n",
    "                              \n",
    "data_music$visit<-apply(data_music, 1, f)\n",
    "data_music<-data_music %>%\n",
    "  filter(!is.na(visit)) \n",
    "head(data_music)\n",
    "dim(data_music)\n",
    "                              \n",
    "# Function to get the final code for \"loud_music\"\n",
    "f<-function(x){\n",
    "  l=length(x$visit)\n",
    "  if (l==1){ # only one answer available\n",
    "    result=x$visit\n",
    "  }\n",
    "  else{ # more then one answer available\n",
    "    result=x$visit[1]\n",
    "    for (i in 2:l){\n",
    "      if (x$visit[i] >= x$visit[i-1]){result=x$visit[i]} # consistent ones\n",
    "      else {result=NA; break} # inconsistent ones\n",
    "    }\n",
    "  }\n",
    "  return(result)\n",
    "}\n",
    "\n",
    "# Apply the above function and remove NAs\n",
    "data_music$loud_music<-apply(data_music, 1, f)\n",
    "data_music<-data_music %>%\n",
    "  filter(!is.na(loud_music)) \n",
    "head(data_music, 12) # note: loud_music code generated here is numeric, not factor\n",
    "dim(data_music)\n",
    "\n",
    "# Merge all of the variables in the final dataset\n",
    "data_clean_final = merge(data_clean_noise,data_music,by=\"IID\", all.x=TRUE)\n",
    "dim(data_clean_final)                            "
   ]
  },
  {
   "cell_type": "markdown",
   "metadata": {
    "kernel": "R"
   },
   "source": [
    "### g. Exporting the final phenotype file (Tinnitus) for association analyses"
   ]
  },
  {
   "cell_type": "code",
   "execution_count": null,
   "metadata": {
    "kernel": "R"
   },
   "outputs": [],
   "source": [
    "# Last renaming and recoding\n",
    "data_clean_final$tinnitus <- revalue(data_clean_final$tinnitus, c(\"No\" = '0', 'Yes'='1' ))\n",
    "names(data_clean_final)[names(data_clean_final) == \"age_final\"] <- \"age\"\n",
    "\n",
    "# Creating the file for subsequent association analyses\n",
    "\n",
    "tinnitus_df <- data_clean_final %>%\n",
    "  filter(!is.na(tinnitus)) %>%\n",
    "  select(FID, IID, age, sex, tinnitus, noise_wp, loud_music)\n",
    "head(tinnitus_df)\n",
    "dim(tinnitus_df)\n",
    "\n",
    "# Export to file in correct format\n",
    "\n",
    "write.table(tinnitus_df, 'Tinnitus_UKBB_f4803_071620', quote = FALSE, row.names = FALSE)"
   ]
  },
  {
   "cell_type": "markdown",
   "metadata": {
    "kernel": "R"
   },
   "source": [
    "## 2. SRT phenotype (quantitative)"
   ]
  },
  {
   "cell_type": "markdown",
   "metadata": {
    "kernel": "R"
   },
   "source": [
    "The phenotypes to be used are as follow:\n",
    "1. Left ear f.20019\n",
    "2. Right ear f.20021\n",
    "3. Best ear (create a new variable extracting the min SRT value among f.20019 and f.20021)\n",
    "4. Worst ear (create a new varaible extracting the max SRT value among f.20019 and f.20021)\n",
    "\n",
    "Age is calculated as follow:\n",
    "\n",
    "- For people with repeated measures take age at last visit and measurement at last visit\n",
    "- For people with only one measure take age at that visit\n",
    "\n",
    "Sex corresponds to f.22001 (genetic sex):\n",
    "\n",
    "- Male = 0\n",
    "- Female = 1\n",
    "\n",
    "Noise variable and loud music exposure frequency:\n",
    "\n",
    "\"No\"=\"0\", \n",
    "\"Yes, for less than a year\"=\"1\", \n",
    "\"Yes, for around 1-5 years\"=\"2\",\n",
    "\"Yes, for more than 5 years\"=\"3\",\n",
    "\"Prefer not to answer\"=NA,\n",
    "\"Do not know\"=NA\n",
    "                \n",
    "1. Remove inconsistent individuals \n",
    "    - said 1,2 or 3 and in following visits said 0\n",
    "    - said a higher exposure (e.g 3) and then a lower one (e.g 1 or 2) in following visits\n",
    "2. Retain consistent individuals and use highest reported exposure"
   ]
  },
  {
   "cell_type": "code",
   "execution_count": null,
   "metadata": {
    "kernel": "R"
   },
   "outputs": [],
   "source": []
  }
 ],
 "metadata": {
  "kernelspec": {
   "display_name": "SoS",
   "language": "sos",
   "name": "sos"
  },
  "language_info": {
   "codemirror_mode": "sos",
   "file_extension": ".sos",
   "mimetype": "text/x-sos",
   "name": "sos",
   "nbconvert_exporter": "sos_notebook.converter.SoS_Exporter",
   "pygments_lexer": "sos"
  },
  "sos": {
   "kernels": [
    [
     "Bash",
     "bash",
     "Bash",
     "#E6EEFF",
     ""
    ],
    [
     "R",
     "ir",
     "R",
     "#DCDCDA",
     ""
    ]
   ],
   "version": "0.21.12"
  }
 },
 "nbformat": 4,
 "nbformat_minor": 4
}
