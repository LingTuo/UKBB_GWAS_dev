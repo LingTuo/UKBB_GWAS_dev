{
 "cells": [
  {
   "cell_type": "markdown",
   "metadata": {
    "kernel": "SoS"
   },
   "source": [
    "# Hearing related phenotypes"
   ]
  },
  {
   "cell_type": "markdown",
   "metadata": {
    "kernel": "SoS"
   },
   "source": [
    "## Aim\n",
    "\n",
    "Create a dataset of filtered individuals using the inclusion and exclusion criteria for diverse hearing related phenotyes to perform association analyses using the LMM.ipynb. "
   ]
  },
  {
   "cell_type": "markdown",
   "metadata": {
    "kernel": "SoS"
   },
   "source": [
    "## Location of files\n",
    "\n",
    "In the shared folder is the original UKBB data\n",
    "```\n",
    "/SAY/dbgapstg/scratch/UKBiobank/phenotype_files/pleiotropy_R01/ukb42495_updatedJune2020\n",
    "```\n",
    "\n",
    "In my personal folder the filtered dataset\n",
    "\n",
    "```\n",
    "/home/dc2325/project/tinnitus\n",
    "```"
   ]
  },
  {
   "cell_type": "markdown",
   "metadata": {
    "kernel": "Bash"
   },
   "source": [
    "## Subset the data using variables of interest\n",
    "\n",
    "Using the ukbconvert software and a list of pre-specified variables\n",
    "\n",
    "```\n",
    "./ukbconv ukb42495.enc_ukb r -i/home/dc2325/project/tinnitus/selectvars_062520.txt -o/home/dc2325/project/tinnitus/ukb42495_subset062520\n",
    "```"
   ]
  },
  {
   "cell_type": "code",
   "execution_count": 1,
   "metadata": {
    "kernel": "SoS"
   },
   "outputs": [],
   "source": [
    "[global]\n",
    "# The working dir\n",
    "parameter:cwd = path\n",
    "# The fam file\n",
    "parameter: famfile = path"
   ]
  },
  {
   "cell_type": "markdown",
   "metadata": {
    "kernel": "SoS"
   },
   "source": [
    "## Subsetting individuals with genotypic data"
   ]
  },
  {
   "cell_type": "markdown",
   "metadata": {
    "kernel": "SoS"
   },
   "source": [
    "Load necessary libraries"
   ]
  },
  {
   "cell_type": "code",
   "execution_count": 2,
   "metadata": {
    "kernel": "R"
   },
   "outputs": [
    {
     "name": "stderr",
     "output_type": "stream",
     "text": [
      "── \u001b[1mAttaching packages\u001b[22m ─────────────────────────────────────── tidyverse 1.3.0 ──\n",
      "\n",
      "\u001b[32m✔\u001b[39m \u001b[34mggplot2\u001b[39m 3.3.2     \u001b[32m✔\u001b[39m \u001b[34mpurrr  \u001b[39m 0.3.4\n",
      "\u001b[32m✔\u001b[39m \u001b[34mtibble \u001b[39m 3.0.3     \u001b[32m✔\u001b[39m \u001b[34mdplyr  \u001b[39m 1.0.0\n",
      "\u001b[32m✔\u001b[39m \u001b[34mtidyr  \u001b[39m 1.1.0     \u001b[32m✔\u001b[39m \u001b[34mstringr\u001b[39m 1.4.0\n",
      "\u001b[32m✔\u001b[39m \u001b[34mreadr  \u001b[39m 1.3.1     \u001b[32m✔\u001b[39m \u001b[34mforcats\u001b[39m 0.5.0\n",
      "\n",
      "── \u001b[1mConflicts\u001b[22m ────────────────────────────────────────── tidyverse_conflicts() ──\n",
      "\u001b[31m✖\u001b[39m \u001b[34mdplyr\u001b[39m::\u001b[32marrange()\u001b[39m   masks \u001b[34mplyr\u001b[39m::arrange()\n",
      "\u001b[31m✖\u001b[39m \u001b[34mpurrr\u001b[39m::\u001b[32mcompact()\u001b[39m   masks \u001b[34mplyr\u001b[39m::compact()\n",
      "\u001b[31m✖\u001b[39m \u001b[34mdplyr\u001b[39m::\u001b[32mcount()\u001b[39m     masks \u001b[34mplyr\u001b[39m::count()\n",
      "\u001b[31m✖\u001b[39m \u001b[34mdplyr\u001b[39m::\u001b[32mfailwith()\u001b[39m  masks \u001b[34mplyr\u001b[39m::failwith()\n",
      "\u001b[31m✖\u001b[39m \u001b[34mdplyr\u001b[39m::\u001b[32mfilter()\u001b[39m    masks \u001b[34mstats\u001b[39m::filter()\n",
      "\u001b[31m✖\u001b[39m \u001b[34mdplyr\u001b[39m::\u001b[32mid()\u001b[39m        masks \u001b[34mplyr\u001b[39m::id()\n",
      "\u001b[31m✖\u001b[39m \u001b[34mdplyr\u001b[39m::\u001b[32mlag()\u001b[39m       masks \u001b[34mstats\u001b[39m::lag()\n",
      "\u001b[31m✖\u001b[39m \u001b[34mdplyr\u001b[39m::\u001b[32mmutate()\u001b[39m    masks \u001b[34mplyr\u001b[39m::mutate()\n",
      "\u001b[31m✖\u001b[39m \u001b[34mdplyr\u001b[39m::\u001b[32mrename()\u001b[39m    masks \u001b[34mplyr\u001b[39m::rename()\n",
      "\u001b[31m✖\u001b[39m \u001b[34mdplyr\u001b[39m::\u001b[32msummarise()\u001b[39m masks \u001b[34mplyr\u001b[39m::summarise()\n",
      "\u001b[31m✖\u001b[39m \u001b[34mdplyr\u001b[39m::\u001b[32msummarize()\u001b[39m masks \u001b[34mplyr\u001b[39m::summarize()\n",
      "\n"
     ]
    }
   ],
   "source": [
    "library(plyr)\n",
    "library(tidyverse)\n",
    "library(pander)"
   ]
  },
  {
   "cell_type": "code",
   "execution_count": 3,
   "metadata": {
    "kernel": "R"
   },
   "outputs": [
    {
     "data": {
      "text/html": [
       "'/Users/dianacornejo/UKBB_GWAS_DEV/analysis'"
      ],
      "text/latex": [
       "'/Users/dianacornejo/UKBB\\_GWAS\\_DEV/analysis'"
      ],
      "text/markdown": [
       "'/Users/dianacornejo/UKBB_GWAS_DEV/analysis'"
      ],
      "text/plain": [
       "[1] \"/Users/dianacornejo/UKBB_GWAS_DEV/analysis\""
      ]
     },
     "metadata": {},
     "output_type": "display_data"
    }
   ],
   "source": [
    "getwd()"
   ]
  },
  {
   "cell_type": "code",
   "execution_count": 4,
   "metadata": {
    "kernel": "R"
   },
   "outputs": [],
   "source": [
    "setwd('/Users/dianacornejo/TINNITUS_UKBB')"
   ]
  },
  {
   "cell_type": "code",
   "execution_count": 5,
   "metadata": {
    "kernel": "R"
   },
   "outputs": [],
   "source": [
    "# Clean workspace\n",
    "rm(list=ls())"
   ]
  },
  {
   "cell_type": "code",
   "execution_count": 6,
   "metadata": {
    "kernel": "R"
   },
   "outputs": [],
   "source": [
    "# Run script to import data to R\n",
    "source(\"ukb42495_subset062520.r\")\n",
    "nrow(bd)"
   ]
  },
  {
   "cell_type": "code",
   "execution_count": null,
   "metadata": {
    "kernel": "R"
   },
   "outputs": [],
   "source": [
    "# List of individuals with qc'ed genotypic files\n",
    "df.geno <- read.table(\"/SAY/dbgapstg/scratch/UKBiobank/genotype_files/pleiotropy_geneticfiles/UKB_Caucasians_phenotypeindepqc120319_updated020720removedwithdrawnindiv.fam\", header= FALSE, stringsAsFactors = FALSE)\n",
    "names(df.geno) <-c(\"FID\",\"IID\",\"ignore1\", \"ignore2\", \"ignore3\", \"ignore4\")\n",
    "nrow(df.geno)"
   ]
  },
  {
   "cell_type": "code",
   "execution_count": null,
   "metadata": {
    "kernel": "R"
   },
   "outputs": [],
   "source": [
    "head(bd[,1, drop=FALSE])"
   ]
  },
  {
   "cell_type": "code",
   "execution_count": null,
   "metadata": {
    "kernel": "R"
   },
   "outputs": [],
   "source": [
    "# Assign individual ID column to bd f.eid\n",
    "names(bd)[1] <- \"IID\"\n",
    "head(bd[,1, drop=FALSE])"
   ]
  },
  {
   "cell_type": "code",
   "execution_count": null,
   "metadata": {
    "kernel": "R"
   },
   "outputs": [],
   "source": [
    "# Merge the two data frames\n",
    "df.gen.phen <-merge(df.geno, bd, by=\"IID\", all=FALSE)\n",
    "nrow(df.gen.phen)"
   ]
  },
  {
   "cell_type": "code",
   "execution_count": null,
   "metadata": {
    "kernel": "R"
   },
   "outputs": [],
   "source": [
    "# Step 5 Save as csv file\n",
    "write.csv(df.gen.phen,'200710_UKBB_HI_genotypeqc.csv', row.names = FALSE)"
   ]
  },
  {
   "cell_type": "markdown",
   "metadata": {
    "kernel": "R"
   },
   "source": [
    "## 1. Tinnitus phenotype (binary)"
   ]
  },
  {
   "cell_type": "markdown",
   "metadata": {
    "kernel": "R"
   },
   "source": [
    "### a. Exclusion criteria based on ICD10, ICD9 codes and self-report\n",
    "Apply the exclusion criteria defined by the group to remove unwanted individuals. This takes into account ICD10 codes, ICD9 codes and f.20002 (self-report). Please find a list of removed codes [here](https://docs.google.com/spreadsheets/d/12L7Cx4Ov8FppGVmG0DxL9uG-lVRHM5QJSea0nORyirQ/edit#gid=0). A total 12397 individuals were excluded in this step."
   ]
  },
  {
   "cell_type": "code",
   "execution_count": null,
   "metadata": {
    "kernel": "Bash"
   },
   "outputs": [],
   "source": [
    "# To get a list of removed individuals. Make sure the list with the strings each line has \\bstring\\b so it can be recognized by -w\n",
    "grep -w -f 200713_ICDcodes_exclusion.txt 200710_UKBB_HI_genotypeqc.csv > 200713_UKBB_excluded_individuals.csv\n",
    "cat 200713_UKBB_excluded_individuals.csv | wc -l #12397 excluded\n",
    "# To get the clean db with the included individuals\n",
    "grep -wv -f 200713_ICDcodes_exclusion.txt 200710_UKBB_HI_genotypeqc.csv > 200713_UKBB_genotypeqc_tinnitus_excr.csv\n",
    "cat 200713_UKBB_genotypeqc_clean.csv | wc -l #354347 retained\n",
    "# To obtain the duplicate lines (if they exist)\n",
    "comm -12 <(sort 200713_UKBB_genotypeqc_tinnitus_excr.csv) <(sort 200713_UKBB_excluded_individuals.csv)"
   ]
  },
  {
   "cell_type": "code",
   "execution_count": 8,
   "metadata": {
    "kernel": "R"
   },
   "outputs": [
    {
     "data": {
      "text/html": [
       "<style>\n",
       ".list-inline {list-style: none; margin:0; padding: 0}\n",
       ".list-inline>li {display: inline-block}\n",
       ".list-inline>li:not(:last-child)::after {content: \"\\00b7\"; padding: 0 .5ex}\n",
       "</style>\n",
       "<ol class=list-inline><li>354347</li><li>1063</li></ol>\n"
      ],
      "text/latex": [
       "\\begin{enumerate*}\n",
       "\\item 354347\n",
       "\\item 1063\n",
       "\\end{enumerate*}\n"
      ],
      "text/markdown": [
       "1. 354347\n",
       "2. 1063\n",
       "\n",
       "\n"
      ],
      "text/plain": [
       "[1] 354347   1063"
      ]
     },
     "metadata": {},
     "output_type": "display_data"
    }
   ],
   "source": [
    "# Import clean data\n",
    "df <- read.csv(file = \"200713_UKBB_genotypeqc_tinnitus_excr.csv\", header=TRUE)\n",
    "dim(df)"
   ]
  },
  {
   "cell_type": "markdown",
   "metadata": {
    "kernel": "R"
   },
   "source": [
    "### b. Variable recoding"
   ]
  },
  {
   "cell_type": "code",
   "execution_count": 9,
   "metadata": {
    "kernel": "R"
   },
   "outputs": [],
   "source": [
    "## Variable recoding\n",
    "# Recode the f.4308 for every instance \n",
    "# Yes contains all three categories\n",
    "# No = No, never\n",
    "# Do not know = Do not know\n",
    "# Prefer not to answer = NA\n",
    "tin <- c(\"f.4803.0.0\", \"f.4803.1.0\", \"f.4803.2.0\", \"f.4803.3.0\")\n",
    "noise <- c(\"f.4825.0.0\", \"f.4825.1.0\", \"f.4825.2.0\", \"f.4825.3.0\")\n",
    "music <- c(\"f.4836.0.0\", \"f.4836.1.0\", \"f.4836.2.0\", \"f.4836.3.0\")\n",
    "tin.rc <- c(\"f.4803.0.0_rc\", \"f.4803.1.0_rc\", \"f.4803.2.0_rc\", \"f.4803.3.0_rc\")\n",
    "noise.rc <- c(\"f.4825.0.0_rc\", \"f.4825.1.0_rc\", \"f.4825.2.0_rc\", \"f.4825.3.0_rc\")\n",
    "music.rc <- c(\"f.4836.0.0_rc\", \"f.4836.1.0_rc\", \"f.4836.2.0_rc\", \"f.4836.3.0_rc\")\n",
    "ordinal.rc <- c(\"Yes, now most or all of the time\" = \"Yes\", \"Yes, now a lot of the time\" = \"Yes\", \"Yes, now some of the time\" = \"Yes\", \"Yes, but not now, but have in the past\" = \"Yes\",\"No, never\" = \"No\",\"Prefer not to answer\"= NA,\"Do not know\" = \"Do not know\")\n",
    "sound.rc <- c(\"No\" = \"0\", \"Yes, for less than a year\" = \"1\", \"Yes, for around 1-5 years\" = \"2\",\"Yes, for more than 5 years\" = \"3\",\"Prefer not to answer\" = NA,\"Do not know\" = NA )\n",
    "sound.order <- c(\"0\", \"1\", \"2\", \"3\")"
   ]
  },
  {
   "cell_type": "markdown",
   "metadata": {
    "kernel": "R"
   },
   "source": [
    "Recode tinnitus variable f.4803"
   ]
  },
  {
   "cell_type": "code",
   "execution_count": 10,
   "metadata": {
    "kernel": "R"
   },
   "outputs": [
    {
     "data": {
      "text/plain": [
       "\n",
       "Do not know          No         Yes \n",
       "       1989       80963       32642 "
      ]
     },
     "metadata": {},
     "output_type": "display_data"
    }
   ],
   "source": [
    "df$f.4803.0.0.rc <- revalue(df$f.4803.0.0, ordinal.rc)\n",
    "df$f.4803.1.0.rc <- revalue(df$f.4803.1.0, ordinal.rc)\n",
    "df$f.4803.2.0.rc <- revalue(df$f.4803.2.0, ordinal.rc)\n",
    "df$f.4803.3.0.rc <- revalue(df$f.4803.3.0, ordinal.rc)\n",
    "table(df$f.4803.0.0.rc)"
   ]
  },
  {
   "cell_type": "markdown",
   "metadata": {
    "kernel": "R"
   },
   "source": [
    "Recode noisy workplace f.4825"
   ]
  },
  {
   "cell_type": "code",
   "execution_count": 11,
   "metadata": {
    "kernel": "R"
   },
   "outputs": [
    {
     "data": {
      "text/plain": [
       "\n",
       "    0     1     2     3 \n",
       "87528  6234  6640 14264 "
      ]
     },
     "metadata": {},
     "output_type": "display_data"
    }
   ],
   "source": [
    "df$f.4825.0.0.rc <- revalue(df$f.4825.0.0, sound.rc)\n",
    "df$f.4825.0.0.rc <- ordered(df$f.4825.0.0.rc, levels = sound.order)\n",
    "df$f.4825.1.0.rc <- revalue(df$f.4825.1.0, sound.rc)\n",
    "df$f.4825.1.0.rc <- ordered(df$f.4825.1.0.rc, levels = sound.order)\n",
    "df$f.4825.2.0.rc <- revalue(df$f.4825.2.0, sound.rc)\n",
    "df$f.4825.2.0.rc <- ordered(df$f.4825.2.0.rc, levels = sound.order)\n",
    "df$f.4825.3.0.rc <- revalue(df$f.4825.3.0, sound.rc)\n",
    "df$f.4825.3.0.rc <- ordered(df$f.4825.3.0.rc, levels = sound.order)\n",
    "table(df$f.4825.0.0.rc)"
   ]
  },
  {
   "cell_type": "code",
   "execution_count": null,
   "metadata": {
    "kernel": "R"
   },
   "outputs": [],
   "source": [
    "Recode loud music frequency exposure f.4836"
   ]
  },
  {
   "cell_type": "code",
   "execution_count": 12,
   "metadata": {
    "kernel": "R"
   },
   "outputs": [
    {
     "data": {
      "text/plain": [
       "\n",
       "     0      1      2      3 \n",
       "100440   3440   5336   4877 "
      ]
     },
     "metadata": {},
     "output_type": "display_data"
    }
   ],
   "source": [
    "df$f.4836.0.0.rc <- revalue(df$f.4836.0.0, sound.rc)\n",
    "df$f.4836.0.0.rc <- ordered(df$f.4836.0.0.rc, levels = sound.order)\n",
    "df$f.4836.1.0.rc <- revalue(df$f.4836.1.0, sound.rc)\n",
    "df$f.4836.1.0.rc <- ordered(df$f.4836.1.0.rc, levels = sound.order)\n",
    "df$f.4836.2.0.rc <- revalue(df$f.4836.2.0, sound.rc)\n",
    "df$f.4836.2.0.rc <- ordered(df$f.4836.2.0.rc, levels = sound.order)\n",
    "df$f.4836.3.0.rc <- revalue(df$f.4836.3.0, sound.rc)\n",
    "df$f.4836.3.0.rc <- ordered(df$f.4836.3.0.rc, levels = sound.order)\n",
    "table(df$f.4836.0.0.rc)"
   ]
  },
  {
   "cell_type": "markdown",
   "metadata": {
    "kernel": "R"
   },
   "source": [
    "Recode genetic sex f.22001"
   ]
  },
  {
   "cell_type": "code",
   "execution_count": 13,
   "metadata": {
    "kernel": "R"
   },
   "outputs": [
    {
     "data": {
      "text/plain": [
       "\n",
       "Female   Male \n",
       "192414 161933 "
      ]
     },
     "metadata": {},
     "output_type": "display_data"
    }
   ],
   "source": [
    "table(df$f.22001.0.0)"
   ]
  },
  {
   "cell_type": "code",
   "execution_count": 14,
   "metadata": {
    "kernel": "R"
   },
   "outputs": [
    {
     "data": {
      "text/plain": [
       "\n",
       "     0      1 \n",
       "161933 192414 "
      ]
     },
     "metadata": {},
     "output_type": "display_data"
    }
   ],
   "source": [
    "df$sex <- revalue(df$f.22001.0.0, c(\"Male\" = '0', 'Female'='1' ))\n",
    "table(df$sex)"
   ]
  },
  {
   "cell_type": "markdown",
   "metadata": {
    "kernel": "R"
   },
   "source": [
    "### c. Filtering of the tinnitus phenotype"
   ]
  },
  {
   "cell_type": "markdown",
   "metadata": {
    "kernel": "R"
   },
   "source": [
    "Define cases with tinnitus"
   ]
  },
  {
   "cell_type": "code",
   "execution_count": 15,
   "metadata": {
    "kernel": "R"
   },
   "outputs": [],
   "source": [
    "df$cases <- with(df, ifelse(f.4803.0.0.rc == \"No\" & (f.4803.1.0.rc == \"Yes\" | f.4803.2.0.rc == \"Yes\" | f.4803.3.0.rc == \"Yes\")\n",
    "                                                      & !(f.4803.0.0.rc == \"No\" & f.4803.1.0.rc == \"Yes\" & f.4803.2.0.rc  %in% c(\"No\", \"Do not know\") & f.4803.3.0.rc %in% c(\"No\", \"Do not know\",NA)) \n",
    "                                                      & !(f.4803.0.0.rc == \"No\" & f.4803.1.0.rc %in% c(\"No\", \"Do not know\") & f.4803.2.0.rc == \"Yes\" & f.4803.3.0.rc %in% c(\"No\", \"Do not know\"))\n",
    "                                                      & !(f.4803.0.0.rc == \"No\" & f.4803.1.0.rc == \"Yes\" & f.4803.2.0.rc == \"Yes\" & f.4803.3.0.rc %in% c(\"No\", \"Do not know\"))\n",
    "                                                      | (f.4803.0.0.rc %in% c(\"Yes\",NA) & (f.4803.1.0.rc %in% c(\"Yes\",NA) | f.4803.2.0.rc %in% c(\"Yes\",NA) | f.4803.3.0.rc %in% c(\"Yes\",NA))\n",
    "                                                         & !(f.4803.0.0.rc %in% c(\"Yes\",NA) & (f.4803.1.0.rc %in% c(\"No\", \"Do not know\") | f.4803.2.0.rc %in% c(\"No\", \"Do not know\") | f.4803.3.0.rc %in% c(\"No\", \"Do not know\")))\n",
    "                                                         & !(f.4803.0.0.rc %in% c(NA) & f.4803.1.0.rc %in% c(NA) & f.4803.2.0.rc %in% c(NA) & f.4803.3.0.rc %in% c(NA))),\n",
    "                                                      \"Yes\", NA))"
   ]
  },
  {
   "cell_type": "markdown",
   "metadata": {
    "kernel": "R"
   },
   "source": [
    "Number of cases"
   ]
  },
  {
   "cell_type": "code",
   "execution_count": 16,
   "metadata": {
    "kernel": "R"
   },
   "outputs": [
    {
     "data": {
      "text/plain": [
       "\n",
       "  Yes \n",
       "42671 "
      ]
     },
     "metadata": {},
     "output_type": "display_data"
    }
   ],
   "source": [
    "table(df$cases)"
   ]
  },
  {
   "cell_type": "markdown",
   "metadata": {
    "kernel": "R"
   },
   "source": [
    "Define controls (no tinnitus)"
   ]
  },
  {
   "cell_type": "code",
   "execution_count": 17,
   "metadata": {
    "kernel": "R"
   },
   "outputs": [],
   "source": [
    "df$controls <- with(df, ifelse(f.4803.0.0.rc %in% c(\"No\",NA) & f.4803.1.0.rc %in% c(\"No\", NA) & f.4803.2.0.rc %in% c(\"No\",NA) & f.4803.3.0.rc %in% c(\"No\",NA)\n",
    "                                                         & !(f.4803.0.0.rc %in% c(NA) & f.4803.1.0.rc%in% c(NA)& f.4803.2.0.rc %in% c(NA) & f.4803.3.0.rc %in% c(NA)),\"No\", NA))"
   ]
  },
  {
   "cell_type": "markdown",
   "metadata": {
    "kernel": "R"
   },
   "source": [
    "Number of controls"
   ]
  },
  {
   "cell_type": "code",
   "execution_count": 18,
   "metadata": {
    "kernel": "R"
   },
   "outputs": [
    {
     "data": {
      "text/plain": [
       "\n",
       "   No \n",
       "99411 "
      ]
     },
     "metadata": {},
     "output_type": "display_data"
    }
   ],
   "source": [
    "table(df$controls)"
   ]
  },
  {
   "cell_type": "markdown",
   "metadata": {
    "kernel": "R"
   },
   "source": [
    "Create a column with the binary status for tinnitus of the individuals"
   ]
  },
  {
   "cell_type": "code",
   "execution_count": 19,
   "metadata": {
    "kernel": "R"
   },
   "outputs": [
    {
     "data": {
      "text/plain": [
       "\n",
       "   No   Yes \n",
       "99411 42671 "
      ]
     },
     "metadata": {},
     "output_type": "display_data"
    }
   ],
   "source": [
    "df$tinnitus <- coalesce(df$cases, df$controls)\n",
    "table(df$tinnitus)"
   ]
  },
  {
   "cell_type": "code",
   "execution_count": 20,
   "metadata": {
    "kernel": "R"
   },
   "outputs": [
    {
     "data": {
      "text/html": [
       "212265"
      ],
      "text/latex": [
       "212265"
      ],
      "text/markdown": [
       "212265"
      ],
      "text/plain": [
       "[1] 212265"
      ]
     },
     "metadata": {},
     "output_type": "display_data"
    }
   ],
   "source": [
    "# Get the number of NAs\n",
    "length(which(is.na(df$tinnitus)))"
   ]
  },
  {
   "cell_type": "markdown",
   "metadata": {
    "kernel": "R"
   },
   "source": [
    "### d. Obtaining the age for tinnitus cases and controls"
   ]
  },
  {
   "cell_type": "markdown",
   "metadata": {
    "kernel": "R"
   },
   "source": [
    "Get the \"age at onset\" of tinnitus using f.21003 Age when attended assessment centre for each of the instances\n",
    "For cases first time they replied yes to f.4803"
   ]
  },
  {
   "cell_type": "code",
   "execution_count": 21,
   "metadata": {
    "kernel": "R"
   },
   "outputs": [
    {
     "data": {
      "text/html": [
       "<table>\n",
       "<caption>A data.frame: 6 × 10</caption>\n",
       "<thead>\n",
       "\t<tr><th></th><th scope=col>IID</th><th scope=col>tinnitus</th><th scope=col>f.4803.0.0.rc</th><th scope=col>f.4803.1.0.rc</th><th scope=col>f.4803.2.0.rc</th><th scope=col>f.4803.3.0.rc</th><th scope=col>f.21003.0.0</th><th scope=col>f.21003.1.0</th><th scope=col>f.21003.2.0</th><th scope=col>f.21003.3.0</th></tr>\n",
       "\t<tr><th></th><th scope=col>&lt;int&gt;</th><th scope=col>&lt;chr&gt;</th><th scope=col>&lt;chr&gt;</th><th scope=col>&lt;chr&gt;</th><th scope=col>&lt;chr&gt;</th><th scope=col>&lt;chr&gt;</th><th scope=col>&lt;int&gt;</th><th scope=col>&lt;int&gt;</th><th scope=col>&lt;int&gt;</th><th scope=col>&lt;int&gt;</th></tr>\n",
       "</thead>\n",
       "<tbody>\n",
       "\t<tr><th scope=row>1</th><td>1000046</td><td>No </td><td>NA </td><td>NA</td><td>No</td><td>NA</td><td>62</td><td>NA</td><td>73</td><td>NA</td></tr>\n",
       "\t<tr><th scope=row>2</th><td>1000063</td><td>No </td><td>No </td><td>NA</td><td>NA</td><td>NA</td><td>43</td><td>NA</td><td>NA</td><td>NA</td></tr>\n",
       "\t<tr><th scope=row>3</th><td>1000078</td><td>No </td><td>NA </td><td>No</td><td>No</td><td>NA</td><td>52</td><td>57</td><td>60</td><td>NA</td></tr>\n",
       "\t<tr><th scope=row>4</th><td>1000105</td><td>Yes</td><td>Yes</td><td>NA</td><td>NA</td><td>NA</td><td>54</td><td>NA</td><td>NA</td><td>NA</td></tr>\n",
       "\t<tr><th scope=row>5</th><td>1000112</td><td>No </td><td>NA </td><td>NA</td><td>No</td><td>NA</td><td>58</td><td>NA</td><td>68</td><td>NA</td></tr>\n",
       "\t<tr><th scope=row>6</th><td>1000141</td><td>No </td><td>No </td><td>NA</td><td>NA</td><td>NA</td><td>49</td><td>NA</td><td>NA</td><td>NA</td></tr>\n",
       "</tbody>\n",
       "</table>\n"
      ],
      "text/latex": [
       "A data.frame: 6 × 10\n",
       "\\begin{tabular}{r|llllllllll}\n",
       "  & IID & tinnitus & f.4803.0.0.rc & f.4803.1.0.rc & f.4803.2.0.rc & f.4803.3.0.rc & f.21003.0.0 & f.21003.1.0 & f.21003.2.0 & f.21003.3.0\\\\\n",
       "  & <int> & <chr> & <chr> & <chr> & <chr> & <chr> & <int> & <int> & <int> & <int>\\\\\n",
       "\\hline\n",
       "\t1 & 1000046 & No  & NA  & NA & No & NA & 62 & NA & 73 & NA\\\\\n",
       "\t2 & 1000063 & No  & No  & NA & NA & NA & 43 & NA & NA & NA\\\\\n",
       "\t3 & 1000078 & No  & NA  & No & No & NA & 52 & 57 & 60 & NA\\\\\n",
       "\t4 & 1000105 & Yes & Yes & NA & NA & NA & 54 & NA & NA & NA\\\\\n",
       "\t5 & 1000112 & No  & NA  & NA & No & NA & 58 & NA & 68 & NA\\\\\n",
       "\t6 & 1000141 & No  & No  & NA & NA & NA & 49 & NA & NA & NA\\\\\n",
       "\\end{tabular}\n"
      ],
      "text/markdown": [
       "\n",
       "A data.frame: 6 × 10\n",
       "\n",
       "| <!--/--> | IID &lt;int&gt; | tinnitus &lt;chr&gt; | f.4803.0.0.rc &lt;chr&gt; | f.4803.1.0.rc &lt;chr&gt; | f.4803.2.0.rc &lt;chr&gt; | f.4803.3.0.rc &lt;chr&gt; | f.21003.0.0 &lt;int&gt; | f.21003.1.0 &lt;int&gt; | f.21003.2.0 &lt;int&gt; | f.21003.3.0 &lt;int&gt; |\n",
       "|---|---|---|---|---|---|---|---|---|---|---|\n",
       "| 1 | 1000046 | No  | NA  | NA | No | NA | 62 | NA | 73 | NA |\n",
       "| 2 | 1000063 | No  | No  | NA | NA | NA | 43 | NA | NA | NA |\n",
       "| 3 | 1000078 | No  | NA  | No | No | NA | 52 | 57 | 60 | NA |\n",
       "| 4 | 1000105 | Yes | Yes | NA | NA | NA | 54 | NA | NA | NA |\n",
       "| 5 | 1000112 | No  | NA  | NA | No | NA | 58 | NA | 68 | NA |\n",
       "| 6 | 1000141 | No  | No  | NA | NA | NA | 49 | NA | NA | NA |\n",
       "\n"
      ],
      "text/plain": [
       "  IID     tinnitus f.4803.0.0.rc f.4803.1.0.rc f.4803.2.0.rc f.4803.3.0.rc\n",
       "1 1000046 No       NA            NA            No            NA           \n",
       "2 1000063 No       No            NA            NA            NA           \n",
       "3 1000078 No       NA            No            No            NA           \n",
       "4 1000105 Yes      Yes           NA            NA            NA           \n",
       "5 1000112 No       NA            NA            No            NA           \n",
       "6 1000141 No       No            NA            NA            NA           \n",
       "  f.21003.0.0 f.21003.1.0 f.21003.2.0 f.21003.3.0\n",
       "1 62          NA          73          NA         \n",
       "2 43          NA          NA          NA         \n",
       "3 52          57          60          NA         \n",
       "4 54          NA          NA          NA         \n",
       "5 58          NA          68          NA         \n",
       "6 49          NA          NA          NA         "
      ]
     },
     "metadata": {},
     "output_type": "display_data"
    }
   ],
   "source": [
    "# Get the subset of data to extract age\n",
    "age_all = df %>% \n",
    "  filter(!is.na(tinnitus)) %>%\n",
    "  select(IID,tinnitus, f.4803.0.0.rc, f.4803.1.0.rc, f.4803.2.0.rc, f.4803.3.0.rc, f.21003.0.0, f.21003.1.0, f.21003.2.0, f.21003.3.0)  # data_filed 210003: Age when attended assessment centre\n",
    "head(age_all)"
   ]
  },
  {
   "cell_type": "code",
   "execution_count": 22,
   "metadata": {
    "kernel": "R"
   },
   "outputs": [
    {
     "data": {
      "text/html": [
       "<table>\n",
       "<caption>A data.frame: 12 × 9</caption>\n",
       "<thead>\n",
       "\t<tr><th></th><th scope=col>IID</th><th scope=col>f.4803.0.0.rc</th><th scope=col>f.4803.1.0.rc</th><th scope=col>f.4803.2.0.rc</th><th scope=col>f.4803.3.0.rc</th><th scope=col>f.21003.0.0</th><th scope=col>f.21003.1.0</th><th scope=col>f.21003.2.0</th><th scope=col>f.21003.3.0</th></tr>\n",
       "\t<tr><th></th><th scope=col>&lt;int&gt;</th><th scope=col>&lt;chr&gt;</th><th scope=col>&lt;chr&gt;</th><th scope=col>&lt;chr&gt;</th><th scope=col>&lt;chr&gt;</th><th scope=col>&lt;int&gt;</th><th scope=col>&lt;int&gt;</th><th scope=col>&lt;int&gt;</th><th scope=col>&lt;int&gt;</th></tr>\n",
       "</thead>\n",
       "<tbody>\n",
       "\t<tr><th scope=row>1</th><td>1000105</td><td>Yes</td><td>NA</td><td>NA </td><td>NA</td><td>54</td><td>NA</td><td>NA</td><td>NA</td></tr>\n",
       "\t<tr><th scope=row>2</th><td>1000357</td><td>Yes</td><td>NA</td><td>NA </td><td>NA</td><td>69</td><td>NA</td><td>NA</td><td>NA</td></tr>\n",
       "\t<tr><th scope=row>3</th><td>1000443</td><td>NA </td><td>NA</td><td>Yes</td><td>NA</td><td>45</td><td>NA</td><td>52</td><td>NA</td></tr>\n",
       "\t<tr><th scope=row>4</th><td>1000494</td><td>Yes</td><td>NA</td><td>NA </td><td>NA</td><td>61</td><td>NA</td><td>NA</td><td>NA</td></tr>\n",
       "\t<tr><th scope=row>5</th><td>1000625</td><td>Yes</td><td>NA</td><td>NA </td><td>NA</td><td>60</td><td>NA</td><td>NA</td><td>NA</td></tr>\n",
       "\t<tr><th scope=row>6</th><td>1000713</td><td>Yes</td><td>NA</td><td>Yes</td><td>NA</td><td>58</td><td>NA</td><td>67</td><td>NA</td></tr>\n",
       "\t<tr><th scope=row>7</th><td>1000728</td><td>Yes</td><td>NA</td><td>NA </td><td>NA</td><td>61</td><td>NA</td><td>NA</td><td>NA</td></tr>\n",
       "\t<tr><th scope=row>8</th><td>1000745</td><td>Yes</td><td>NA</td><td>NA </td><td>NA</td><td>60</td><td>NA</td><td>NA</td><td>NA</td></tr>\n",
       "\t<tr><th scope=row>9</th><td>1000875</td><td>Yes</td><td>NA</td><td>NA </td><td>NA</td><td>59</td><td>NA</td><td>NA</td><td>NA</td></tr>\n",
       "\t<tr><th scope=row>10</th><td>1000992</td><td>NA </td><td>NA</td><td>Yes</td><td>NA</td><td>48</td><td>NA</td><td>56</td><td>NA</td></tr>\n",
       "\t<tr><th scope=row>11</th><td>1001045</td><td>Yes</td><td>NA</td><td>NA </td><td>NA</td><td>61</td><td>NA</td><td>NA</td><td>NA</td></tr>\n",
       "\t<tr><th scope=row>12</th><td>1001052</td><td>Yes</td><td>NA</td><td>NA </td><td>NA</td><td>64</td><td>NA</td><td>NA</td><td>NA</td></tr>\n",
       "</tbody>\n",
       "</table>\n"
      ],
      "text/latex": [
       "A data.frame: 12 × 9\n",
       "\\begin{tabular}{r|lllllllll}\n",
       "  & IID & f.4803.0.0.rc & f.4803.1.0.rc & f.4803.2.0.rc & f.4803.3.0.rc & f.21003.0.0 & f.21003.1.0 & f.21003.2.0 & f.21003.3.0\\\\\n",
       "  & <int> & <chr> & <chr> & <chr> & <chr> & <int> & <int> & <int> & <int>\\\\\n",
       "\\hline\n",
       "\t1 & 1000105 & Yes & NA & NA  & NA & 54 & NA & NA & NA\\\\\n",
       "\t2 & 1000357 & Yes & NA & NA  & NA & 69 & NA & NA & NA\\\\\n",
       "\t3 & 1000443 & NA  & NA & Yes & NA & 45 & NA & 52 & NA\\\\\n",
       "\t4 & 1000494 & Yes & NA & NA  & NA & 61 & NA & NA & NA\\\\\n",
       "\t5 & 1000625 & Yes & NA & NA  & NA & 60 & NA & NA & NA\\\\\n",
       "\t6 & 1000713 & Yes & NA & Yes & NA & 58 & NA & 67 & NA\\\\\n",
       "\t7 & 1000728 & Yes & NA & NA  & NA & 61 & NA & NA & NA\\\\\n",
       "\t8 & 1000745 & Yes & NA & NA  & NA & 60 & NA & NA & NA\\\\\n",
       "\t9 & 1000875 & Yes & NA & NA  & NA & 59 & NA & NA & NA\\\\\n",
       "\t10 & 1000992 & NA  & NA & Yes & NA & 48 & NA & 56 & NA\\\\\n",
       "\t11 & 1001045 & Yes & NA & NA  & NA & 61 & NA & NA & NA\\\\\n",
       "\t12 & 1001052 & Yes & NA & NA  & NA & 64 & NA & NA & NA\\\\\n",
       "\\end{tabular}\n"
      ],
      "text/markdown": [
       "\n",
       "A data.frame: 12 × 9\n",
       "\n",
       "| <!--/--> | IID &lt;int&gt; | f.4803.0.0.rc &lt;chr&gt; | f.4803.1.0.rc &lt;chr&gt; | f.4803.2.0.rc &lt;chr&gt; | f.4803.3.0.rc &lt;chr&gt; | f.21003.0.0 &lt;int&gt; | f.21003.1.0 &lt;int&gt; | f.21003.2.0 &lt;int&gt; | f.21003.3.0 &lt;int&gt; |\n",
       "|---|---|---|---|---|---|---|---|---|---|\n",
       "| 1 | 1000105 | Yes | NA | NA  | NA | 54 | NA | NA | NA |\n",
       "| 2 | 1000357 | Yes | NA | NA  | NA | 69 | NA | NA | NA |\n",
       "| 3 | 1000443 | NA  | NA | Yes | NA | 45 | NA | 52 | NA |\n",
       "| 4 | 1000494 | Yes | NA | NA  | NA | 61 | NA | NA | NA |\n",
       "| 5 | 1000625 | Yes | NA | NA  | NA | 60 | NA | NA | NA |\n",
       "| 6 | 1000713 | Yes | NA | Yes | NA | 58 | NA | 67 | NA |\n",
       "| 7 | 1000728 | Yes | NA | NA  | NA | 61 | NA | NA | NA |\n",
       "| 8 | 1000745 | Yes | NA | NA  | NA | 60 | NA | NA | NA |\n",
       "| 9 | 1000875 | Yes | NA | NA  | NA | 59 | NA | NA | NA |\n",
       "| 10 | 1000992 | NA  | NA | Yes | NA | 48 | NA | 56 | NA |\n",
       "| 11 | 1001045 | Yes | NA | NA  | NA | 61 | NA | NA | NA |\n",
       "| 12 | 1001052 | Yes | NA | NA  | NA | 64 | NA | NA | NA |\n",
       "\n"
      ],
      "text/plain": [
       "   IID     f.4803.0.0.rc f.4803.1.0.rc f.4803.2.0.rc f.4803.3.0.rc f.21003.0.0\n",
       "1  1000105 Yes           NA            NA            NA            54         \n",
       "2  1000357 Yes           NA            NA            NA            69         \n",
       "3  1000443 NA            NA            Yes           NA            45         \n",
       "4  1000494 Yes           NA            NA            NA            61         \n",
       "5  1000625 Yes           NA            NA            NA            60         \n",
       "6  1000713 Yes           NA            Yes           NA            58         \n",
       "7  1000728 Yes           NA            NA            NA            61         \n",
       "8  1000745 Yes           NA            NA            NA            60         \n",
       "9  1000875 Yes           NA            NA            NA            59         \n",
       "10 1000992 NA            NA            Yes           NA            48         \n",
       "11 1001045 Yes           NA            NA            NA            61         \n",
       "12 1001052 Yes           NA            NA            NA            64         \n",
       "   f.21003.1.0 f.21003.2.0 f.21003.3.0\n",
       "1  NA          NA          NA         \n",
       "2  NA          NA          NA         \n",
       "3  NA          52          NA         \n",
       "4  NA          NA          NA         \n",
       "5  NA          NA          NA         \n",
       "6  NA          67          NA         \n",
       "7  NA          NA          NA         \n",
       "8  NA          NA          NA         \n",
       "9  NA          NA          NA         \n",
       "10 NA          56          NA         \n",
       "11 NA          NA          NA         \n",
       "12 NA          NA          NA         "
      ]
     },
     "metadata": {},
     "output_type": "display_data"
    }
   ],
   "source": [
    "# Get the subset data of cases\n",
    "age_cases = age_all %>% \n",
    "  filter(tinnitus==\"Yes\")  %>%\n",
    "  select(IID,f.4803.0.0.rc,f.4803.1.0.rc,f.4803.2.0.rc,f.4803.3.0.rc,f.21003.0.0,f.21003.1.0,f.21003.2.0,f.21003.3.0)\n",
    "head(age_cases,12)"
   ]
  },
  {
   "cell_type": "code",
   "execution_count": 23,
   "metadata": {
    "kernel": "R"
   },
   "outputs": [
    {
     "data": {
      "text/html": [
       "<table>\n",
       "<caption>A data.frame: 6 × 10</caption>\n",
       "<thead>\n",
       "\t<tr><th></th><th scope=col>IID</th><th scope=col>f.4803.0.0.rc</th><th scope=col>f.4803.1.0.rc</th><th scope=col>f.4803.2.0.rc</th><th scope=col>f.4803.3.0.rc</th><th scope=col>f.21003.0.0</th><th scope=col>f.21003.1.0</th><th scope=col>f.21003.2.0</th><th scope=col>f.21003.3.0</th><th scope=col>visit_idx</th></tr>\n",
       "\t<tr><th></th><th scope=col>&lt;int&gt;</th><th scope=col>&lt;chr&gt;</th><th scope=col>&lt;chr&gt;</th><th scope=col>&lt;chr&gt;</th><th scope=col>&lt;chr&gt;</th><th scope=col>&lt;int&gt;</th><th scope=col>&lt;int&gt;</th><th scope=col>&lt;int&gt;</th><th scope=col>&lt;int&gt;</th><th scope=col>&lt;list&gt;</th></tr>\n",
       "</thead>\n",
       "<tbody>\n",
       "\t<tr><th scope=row>1</th><td>1000105</td><td>Yes</td><td>NA</td><td>NA </td><td>NA</td><td>54</td><td>NA</td><td>NA</td><td>NA</td><td>2</td></tr>\n",
       "\t<tr><th scope=row>2</th><td>1000357</td><td>Yes</td><td>NA</td><td>NA </td><td>NA</td><td>69</td><td>NA</td><td>NA</td><td>NA</td><td>2</td></tr>\n",
       "\t<tr><th scope=row>3</th><td>1000443</td><td>NA </td><td>NA</td><td>Yes</td><td>NA</td><td>45</td><td>NA</td><td>52</td><td>NA</td><td>4</td></tr>\n",
       "\t<tr><th scope=row>4</th><td>1000494</td><td>Yes</td><td>NA</td><td>NA </td><td>NA</td><td>61</td><td>NA</td><td>NA</td><td>NA</td><td>2</td></tr>\n",
       "\t<tr><th scope=row>5</th><td>1000625</td><td>Yes</td><td>NA</td><td>NA </td><td>NA</td><td>60</td><td>NA</td><td>NA</td><td>NA</td><td>2</td></tr>\n",
       "\t<tr><th scope=row>6</th><td>1000713</td><td>Yes</td><td>NA</td><td>Yes</td><td>NA</td><td>58</td><td>NA</td><td>67</td><td>NA</td><td>2, 4</td></tr>\n",
       "</tbody>\n",
       "</table>\n"
      ],
      "text/latex": [
       "A data.frame: 6 × 10\n",
       "\\begin{tabular}{r|llllllllll}\n",
       "  & IID & f.4803.0.0.rc & f.4803.1.0.rc & f.4803.2.0.rc & f.4803.3.0.rc & f.21003.0.0 & f.21003.1.0 & f.21003.2.0 & f.21003.3.0 & visit\\_idx\\\\\n",
       "  & <int> & <chr> & <chr> & <chr> & <chr> & <int> & <int> & <int> & <int> & <list>\\\\\n",
       "\\hline\n",
       "\t1 & 1000105 & Yes & NA & NA  & NA & 54 & NA & NA & NA & 2\\\\\n",
       "\t2 & 1000357 & Yes & NA & NA  & NA & 69 & NA & NA & NA & 2\\\\\n",
       "\t3 & 1000443 & NA  & NA & Yes & NA & 45 & NA & 52 & NA & 4\\\\\n",
       "\t4 & 1000494 & Yes & NA & NA  & NA & 61 & NA & NA & NA & 2\\\\\n",
       "\t5 & 1000625 & Yes & NA & NA  & NA & 60 & NA & NA & NA & 2\\\\\n",
       "\t6 & 1000713 & Yes & NA & Yes & NA & 58 & NA & 67 & NA & 2, 4\\\\\n",
       "\\end{tabular}\n"
      ],
      "text/markdown": [
       "\n",
       "A data.frame: 6 × 10\n",
       "\n",
       "| <!--/--> | IID &lt;int&gt; | f.4803.0.0.rc &lt;chr&gt; | f.4803.1.0.rc &lt;chr&gt; | f.4803.2.0.rc &lt;chr&gt; | f.4803.3.0.rc &lt;chr&gt; | f.21003.0.0 &lt;int&gt; | f.21003.1.0 &lt;int&gt; | f.21003.2.0 &lt;int&gt; | f.21003.3.0 &lt;int&gt; | visit_idx &lt;list&gt; |\n",
       "|---|---|---|---|---|---|---|---|---|---|---|\n",
       "| 1 | 1000105 | Yes | NA | NA  | NA | 54 | NA | NA | NA | 2 |\n",
       "| 2 | 1000357 | Yes | NA | NA  | NA | 69 | NA | NA | NA | 2 |\n",
       "| 3 | 1000443 | NA  | NA | Yes | NA | 45 | NA | 52 | NA | 4 |\n",
       "| 4 | 1000494 | Yes | NA | NA  | NA | 61 | NA | NA | NA | 2 |\n",
       "| 5 | 1000625 | Yes | NA | NA  | NA | 60 | NA | NA | NA | 2 |\n",
       "| 6 | 1000713 | Yes | NA | Yes | NA | 58 | NA | 67 | NA | 2, 4 |\n",
       "\n"
      ],
      "text/plain": [
       "  IID     f.4803.0.0.rc f.4803.1.0.rc f.4803.2.0.rc f.4803.3.0.rc f.21003.0.0\n",
       "1 1000105 Yes           NA            NA            NA            54         \n",
       "2 1000357 Yes           NA            NA            NA            69         \n",
       "3 1000443 NA            NA            Yes           NA            45         \n",
       "4 1000494 Yes           NA            NA            NA            61         \n",
       "5 1000625 Yes           NA            NA            NA            60         \n",
       "6 1000713 Yes           NA            Yes           NA            58         \n",
       "  f.21003.1.0 f.21003.2.0 f.21003.3.0 visit_idx\n",
       "1 NA          NA          NA          2        \n",
       "2 NA          NA          NA          2        \n",
       "3 NA          52          NA          4        \n",
       "4 NA          NA          NA          2        \n",
       "5 NA          NA          NA          2        \n",
       "6 NA          67          NA          2, 4     "
      ]
     },
     "metadata": {},
     "output_type": "display_data"
    }
   ],
   "source": [
    "# Get the # of column where first replied Yes:\n",
    "age_cases$visit_idx = apply(age_cases, 1, function(x) unlist(which(x == 'Yes')))\n",
    "head(age_cases)"
   ]
  },
  {
   "cell_type": "code",
   "execution_count": 24,
   "metadata": {
    "kernel": "R"
   },
   "outputs": [
    {
     "data": {
      "text/html": [
       "<table>\n",
       "<caption>A data.frame: 6 × 11</caption>\n",
       "<thead>\n",
       "\t<tr><th></th><th scope=col>IID</th><th scope=col>f.4803.0.0.rc</th><th scope=col>f.4803.1.0.rc</th><th scope=col>f.4803.2.0.rc</th><th scope=col>f.4803.3.0.rc</th><th scope=col>f.21003.0.0</th><th scope=col>f.21003.1.0</th><th scope=col>f.21003.2.0</th><th scope=col>f.21003.3.0</th><th scope=col>visit_idx</th><th scope=col>age_final</th></tr>\n",
       "\t<tr><th></th><th scope=col>&lt;int&gt;</th><th scope=col>&lt;chr&gt;</th><th scope=col>&lt;chr&gt;</th><th scope=col>&lt;chr&gt;</th><th scope=col>&lt;chr&gt;</th><th scope=col>&lt;int&gt;</th><th scope=col>&lt;int&gt;</th><th scope=col>&lt;int&gt;</th><th scope=col>&lt;int&gt;</th><th scope=col>&lt;list&gt;</th><th scope=col>&lt;int&gt;</th></tr>\n",
       "</thead>\n",
       "<tbody>\n",
       "\t<tr><th scope=row>1</th><td>1000105</td><td>Yes</td><td>NA</td><td>NA </td><td>NA</td><td>54</td><td>NA</td><td>NA</td><td>NA</td><td>2</td><td>54</td></tr>\n",
       "\t<tr><th scope=row>2</th><td>1000357</td><td>Yes</td><td>NA</td><td>NA </td><td>NA</td><td>69</td><td>NA</td><td>NA</td><td>NA</td><td>2</td><td>69</td></tr>\n",
       "\t<tr><th scope=row>3</th><td>1000443</td><td>NA </td><td>NA</td><td>Yes</td><td>NA</td><td>45</td><td>NA</td><td>52</td><td>NA</td><td>4</td><td>52</td></tr>\n",
       "\t<tr><th scope=row>4</th><td>1000494</td><td>Yes</td><td>NA</td><td>NA </td><td>NA</td><td>61</td><td>NA</td><td>NA</td><td>NA</td><td>2</td><td>61</td></tr>\n",
       "\t<tr><th scope=row>5</th><td>1000625</td><td>Yes</td><td>NA</td><td>NA </td><td>NA</td><td>60</td><td>NA</td><td>NA</td><td>NA</td><td>2</td><td>60</td></tr>\n",
       "\t<tr><th scope=row>6</th><td>1000713</td><td>Yes</td><td>NA</td><td>Yes</td><td>NA</td><td>58</td><td>NA</td><td>67</td><td>NA</td><td>2, 4</td><td>58</td></tr>\n",
       "</tbody>\n",
       "</table>\n"
      ],
      "text/latex": [
       "A data.frame: 6 × 11\n",
       "\\begin{tabular}{r|lllllllllll}\n",
       "  & IID & f.4803.0.0.rc & f.4803.1.0.rc & f.4803.2.0.rc & f.4803.3.0.rc & f.21003.0.0 & f.21003.1.0 & f.21003.2.0 & f.21003.3.0 & visit\\_idx & age\\_final\\\\\n",
       "  & <int> & <chr> & <chr> & <chr> & <chr> & <int> & <int> & <int> & <int> & <list> & <int>\\\\\n",
       "\\hline\n",
       "\t1 & 1000105 & Yes & NA & NA  & NA & 54 & NA & NA & NA & 2 & 54\\\\\n",
       "\t2 & 1000357 & Yes & NA & NA  & NA & 69 & NA & NA & NA & 2 & 69\\\\\n",
       "\t3 & 1000443 & NA  & NA & Yes & NA & 45 & NA & 52 & NA & 4 & 52\\\\\n",
       "\t4 & 1000494 & Yes & NA & NA  & NA & 61 & NA & NA & NA & 2 & 61\\\\\n",
       "\t5 & 1000625 & Yes & NA & NA  & NA & 60 & NA & NA & NA & 2 & 60\\\\\n",
       "\t6 & 1000713 & Yes & NA & Yes & NA & 58 & NA & 67 & NA & 2, 4 & 58\\\\\n",
       "\\end{tabular}\n"
      ],
      "text/markdown": [
       "\n",
       "A data.frame: 6 × 11\n",
       "\n",
       "| <!--/--> | IID &lt;int&gt; | f.4803.0.0.rc &lt;chr&gt; | f.4803.1.0.rc &lt;chr&gt; | f.4803.2.0.rc &lt;chr&gt; | f.4803.3.0.rc &lt;chr&gt; | f.21003.0.0 &lt;int&gt; | f.21003.1.0 &lt;int&gt; | f.21003.2.0 &lt;int&gt; | f.21003.3.0 &lt;int&gt; | visit_idx &lt;list&gt; | age_final &lt;int&gt; |\n",
       "|---|---|---|---|---|---|---|---|---|---|---|---|\n",
       "| 1 | 1000105 | Yes | NA | NA  | NA | 54 | NA | NA | NA | 2 | 54 |\n",
       "| 2 | 1000357 | Yes | NA | NA  | NA | 69 | NA | NA | NA | 2 | 69 |\n",
       "| 3 | 1000443 | NA  | NA | Yes | NA | 45 | NA | 52 | NA | 4 | 52 |\n",
       "| 4 | 1000494 | Yes | NA | NA  | NA | 61 | NA | NA | NA | 2 | 61 |\n",
       "| 5 | 1000625 | Yes | NA | NA  | NA | 60 | NA | NA | NA | 2 | 60 |\n",
       "| 6 | 1000713 | Yes | NA | Yes | NA | 58 | NA | 67 | NA | 2, 4 | 58 |\n",
       "\n"
      ],
      "text/plain": [
       "  IID     f.4803.0.0.rc f.4803.1.0.rc f.4803.2.0.rc f.4803.3.0.rc f.21003.0.0\n",
       "1 1000105 Yes           NA            NA            NA            54         \n",
       "2 1000357 Yes           NA            NA            NA            69         \n",
       "3 1000443 NA            NA            Yes           NA            45         \n",
       "4 1000494 Yes           NA            NA            NA            61         \n",
       "5 1000625 Yes           NA            NA            NA            60         \n",
       "6 1000713 Yes           NA            Yes           NA            58         \n",
       "  f.21003.1.0 f.21003.2.0 f.21003.3.0 visit_idx age_final\n",
       "1 NA          NA          NA          2         54       \n",
       "2 NA          NA          NA          2         69       \n",
       "3 NA          52          NA          4         52       \n",
       "4 NA          NA          NA          2         61       \n",
       "5 NA          NA          NA          2         60       \n",
       "6 NA          67          NA          2, 4      58       "
      ]
     },
     "metadata": {},
     "output_type": "display_data"
    },
    {
     "data": {
      "text/plain": [
       "   Min. 1st Qu.  Median    Mean 3rd Qu.    Max. \n",
       "  40.00   54.00   61.00   59.55   66.00   81.00 "
      ]
     },
     "metadata": {},
     "output_type": "display_data"
    }
   ],
   "source": [
    "# Define offset:\n",
    "# offset: refers to the # of columns between the first age column (i.e.f.21003.0.0) and the first recode column (i.e.f.4803.0.0.rc)\n",
    "offset = which(colnames(age_cases) == 'f.21003.0.0') - which(colnames(age_cases) == 'f.4803.0.0.rc')\n",
    "\n",
    "# Define the function to extract the first time they said yes for cases \n",
    "f=get_age_func <- function(x) {\n",
    "  visit_index=x[which(colnames(age_cases)==\"visit_idx\")]\n",
    "  index=min(unlist(visit_index))+offset\n",
    "  age=x[index]\n",
    "  final_age=unlist(age)\n",
    "  if(is.null(final_age))\n",
    "  {final_age<-NA}\n",
    "  return(final_age)\n",
    "}\n",
    "\n",
    "# Get the final age for cases\n",
    "age_cases$age_final = apply(age_cases, 1, f)\n",
    "\n",
    "# Show first 6 rows\n",
    "head(age_cases)\n",
    "summary(age_cases$age_final)"
   ]
  },
  {
   "cell_type": "markdown",
   "metadata": {
    "kernel": "R"
   },
   "source": [
    "Get the age for controls last time they replied no to f.4803"
   ]
  },
  {
   "cell_type": "code",
   "execution_count": 25,
   "metadata": {
    "kernel": "R"
   },
   "outputs": [
    {
     "data": {
      "text/html": [
       "<table>\n",
       "<caption>A data.frame: 12 × 9</caption>\n",
       "<thead>\n",
       "\t<tr><th></th><th scope=col>IID</th><th scope=col>f.4803.0.0.rc</th><th scope=col>f.4803.1.0.rc</th><th scope=col>f.4803.2.0.rc</th><th scope=col>f.4803.3.0.rc</th><th scope=col>f.21003.0.0</th><th scope=col>f.21003.1.0</th><th scope=col>f.21003.2.0</th><th scope=col>f.21003.3.0</th></tr>\n",
       "\t<tr><th></th><th scope=col>&lt;int&gt;</th><th scope=col>&lt;chr&gt;</th><th scope=col>&lt;chr&gt;</th><th scope=col>&lt;chr&gt;</th><th scope=col>&lt;chr&gt;</th><th scope=col>&lt;int&gt;</th><th scope=col>&lt;int&gt;</th><th scope=col>&lt;int&gt;</th><th scope=col>&lt;int&gt;</th></tr>\n",
       "</thead>\n",
       "<tbody>\n",
       "\t<tr><th scope=row>1</th><td>1000046</td><td>NA</td><td>NA</td><td>No</td><td>NA</td><td>62</td><td>NA</td><td>73</td><td>NA</td></tr>\n",
       "\t<tr><th scope=row>2</th><td>1000063</td><td>No</td><td>NA</td><td>NA</td><td>NA</td><td>43</td><td>NA</td><td>NA</td><td>NA</td></tr>\n",
       "\t<tr><th scope=row>3</th><td>1000078</td><td>NA</td><td>No</td><td>No</td><td>NA</td><td>52</td><td>57</td><td>60</td><td>NA</td></tr>\n",
       "\t<tr><th scope=row>4</th><td>1000112</td><td>NA</td><td>NA</td><td>No</td><td>NA</td><td>58</td><td>NA</td><td>68</td><td>NA</td></tr>\n",
       "\t<tr><th scope=row>5</th><td>1000141</td><td>No</td><td>NA</td><td>NA</td><td>NA</td><td>49</td><td>NA</td><td>NA</td><td>NA</td></tr>\n",
       "\t<tr><th scope=row>6</th><td>1000236</td><td>No</td><td>NA</td><td>No</td><td>NA</td><td>61</td><td>NA</td><td>70</td><td>NA</td></tr>\n",
       "\t<tr><th scope=row>7</th><td>1000248</td><td>No</td><td>NA</td><td>NA</td><td>NA</td><td>63</td><td>NA</td><td>NA</td><td>NA</td></tr>\n",
       "\t<tr><th scope=row>8</th><td>1000269</td><td>NA</td><td>NA</td><td>No</td><td>NA</td><td>60</td><td>NA</td><td>71</td><td>NA</td></tr>\n",
       "\t<tr><th scope=row>9</th><td>1000340</td><td>No</td><td>NA</td><td>NA</td><td>NA</td><td>54</td><td>NA</td><td>NA</td><td>NA</td></tr>\n",
       "\t<tr><th scope=row>10</th><td>1000379</td><td>No</td><td>NA</td><td>NA</td><td>NA</td><td>51</td><td>NA</td><td>NA</td><td>NA</td></tr>\n",
       "\t<tr><th scope=row>11</th><td>1000421</td><td>No</td><td>NA</td><td>NA</td><td>NA</td><td>64</td><td>NA</td><td>NA</td><td>NA</td></tr>\n",
       "\t<tr><th scope=row>12</th><td>1000516</td><td>No</td><td>NA</td><td>NA</td><td>NA</td><td>46</td><td>NA</td><td>NA</td><td>NA</td></tr>\n",
       "</tbody>\n",
       "</table>\n"
      ],
      "text/latex": [
       "A data.frame: 12 × 9\n",
       "\\begin{tabular}{r|lllllllll}\n",
       "  & IID & f.4803.0.0.rc & f.4803.1.0.rc & f.4803.2.0.rc & f.4803.3.0.rc & f.21003.0.0 & f.21003.1.0 & f.21003.2.0 & f.21003.3.0\\\\\n",
       "  & <int> & <chr> & <chr> & <chr> & <chr> & <int> & <int> & <int> & <int>\\\\\n",
       "\\hline\n",
       "\t1 & 1000046 & NA & NA & No & NA & 62 & NA & 73 & NA\\\\\n",
       "\t2 & 1000063 & No & NA & NA & NA & 43 & NA & NA & NA\\\\\n",
       "\t3 & 1000078 & NA & No & No & NA & 52 & 57 & 60 & NA\\\\\n",
       "\t4 & 1000112 & NA & NA & No & NA & 58 & NA & 68 & NA\\\\\n",
       "\t5 & 1000141 & No & NA & NA & NA & 49 & NA & NA & NA\\\\\n",
       "\t6 & 1000236 & No & NA & No & NA & 61 & NA & 70 & NA\\\\\n",
       "\t7 & 1000248 & No & NA & NA & NA & 63 & NA & NA & NA\\\\\n",
       "\t8 & 1000269 & NA & NA & No & NA & 60 & NA & 71 & NA\\\\\n",
       "\t9 & 1000340 & No & NA & NA & NA & 54 & NA & NA & NA\\\\\n",
       "\t10 & 1000379 & No & NA & NA & NA & 51 & NA & NA & NA\\\\\n",
       "\t11 & 1000421 & No & NA & NA & NA & 64 & NA & NA & NA\\\\\n",
       "\t12 & 1000516 & No & NA & NA & NA & 46 & NA & NA & NA\\\\\n",
       "\\end{tabular}\n"
      ],
      "text/markdown": [
       "\n",
       "A data.frame: 12 × 9\n",
       "\n",
       "| <!--/--> | IID &lt;int&gt; | f.4803.0.0.rc &lt;chr&gt; | f.4803.1.0.rc &lt;chr&gt; | f.4803.2.0.rc &lt;chr&gt; | f.4803.3.0.rc &lt;chr&gt; | f.21003.0.0 &lt;int&gt; | f.21003.1.0 &lt;int&gt; | f.21003.2.0 &lt;int&gt; | f.21003.3.0 &lt;int&gt; |\n",
       "|---|---|---|---|---|---|---|---|---|---|\n",
       "| 1 | 1000046 | NA | NA | No | NA | 62 | NA | 73 | NA |\n",
       "| 2 | 1000063 | No | NA | NA | NA | 43 | NA | NA | NA |\n",
       "| 3 | 1000078 | NA | No | No | NA | 52 | 57 | 60 | NA |\n",
       "| 4 | 1000112 | NA | NA | No | NA | 58 | NA | 68 | NA |\n",
       "| 5 | 1000141 | No | NA | NA | NA | 49 | NA | NA | NA |\n",
       "| 6 | 1000236 | No | NA | No | NA | 61 | NA | 70 | NA |\n",
       "| 7 | 1000248 | No | NA | NA | NA | 63 | NA | NA | NA |\n",
       "| 8 | 1000269 | NA | NA | No | NA | 60 | NA | 71 | NA |\n",
       "| 9 | 1000340 | No | NA | NA | NA | 54 | NA | NA | NA |\n",
       "| 10 | 1000379 | No | NA | NA | NA | 51 | NA | NA | NA |\n",
       "| 11 | 1000421 | No | NA | NA | NA | 64 | NA | NA | NA |\n",
       "| 12 | 1000516 | No | NA | NA | NA | 46 | NA | NA | NA |\n",
       "\n"
      ],
      "text/plain": [
       "   IID     f.4803.0.0.rc f.4803.1.0.rc f.4803.2.0.rc f.4803.3.0.rc f.21003.0.0\n",
       "1  1000046 NA            NA            No            NA            62         \n",
       "2  1000063 No            NA            NA            NA            43         \n",
       "3  1000078 NA            No            No            NA            52         \n",
       "4  1000112 NA            NA            No            NA            58         \n",
       "5  1000141 No            NA            NA            NA            49         \n",
       "6  1000236 No            NA            No            NA            61         \n",
       "7  1000248 No            NA            NA            NA            63         \n",
       "8  1000269 NA            NA            No            NA            60         \n",
       "9  1000340 No            NA            NA            NA            54         \n",
       "10 1000379 No            NA            NA            NA            51         \n",
       "11 1000421 No            NA            NA            NA            64         \n",
       "12 1000516 No            NA            NA            NA            46         \n",
       "   f.21003.1.0 f.21003.2.0 f.21003.3.0\n",
       "1  NA          73          NA         \n",
       "2  NA          NA          NA         \n",
       "3  57          60          NA         \n",
       "4  NA          68          NA         \n",
       "5  NA          NA          NA         \n",
       "6  NA          70          NA         \n",
       "7  NA          NA          NA         \n",
       "8  NA          71          NA         \n",
       "9  NA          NA          NA         \n",
       "10 NA          NA          NA         \n",
       "11 NA          NA          NA         \n",
       "12 NA          NA          NA         "
      ]
     },
     "metadata": {},
     "output_type": "display_data"
    }
   ],
   "source": [
    "# Get the subset data of controls\n",
    "age_control = age_all %>% \n",
    "  filter(tinnitus==\"No\")  %>%\n",
    "  select(IID,f.4803.0.0.rc,f.4803.1.0.rc,f.4803.2.0.rc,f.4803.3.0.rc,f.21003.0.0,f.21003.1.0,f.21003.2.0,f.21003.3.0)\n",
    "head(age_control,12)"
   ]
  },
  {
   "cell_type": "code",
   "execution_count": 26,
   "metadata": {
    "kernel": "R"
   },
   "outputs": [
    {
     "data": {
      "text/html": [
       "<table>\n",
       "<caption>A data.frame: 6 × 11</caption>\n",
       "<thead>\n",
       "\t<tr><th></th><th scope=col>IID</th><th scope=col>f.4803.0.0.rc</th><th scope=col>f.4803.1.0.rc</th><th scope=col>f.4803.2.0.rc</th><th scope=col>f.4803.3.0.rc</th><th scope=col>f.21003.0.0</th><th scope=col>f.21003.1.0</th><th scope=col>f.21003.2.0</th><th scope=col>f.21003.3.0</th><th scope=col>visit_idx</th><th scope=col>age_final</th></tr>\n",
       "\t<tr><th></th><th scope=col>&lt;int&gt;</th><th scope=col>&lt;chr&gt;</th><th scope=col>&lt;chr&gt;</th><th scope=col>&lt;chr&gt;</th><th scope=col>&lt;chr&gt;</th><th scope=col>&lt;int&gt;</th><th scope=col>&lt;int&gt;</th><th scope=col>&lt;int&gt;</th><th scope=col>&lt;int&gt;</th><th scope=col>&lt;list&gt;</th><th scope=col>&lt;int&gt;</th></tr>\n",
       "</thead>\n",
       "<tbody>\n",
       "\t<tr><th scope=row>1</th><td>1000046</td><td>NA</td><td>NA</td><td>No</td><td>NA</td><td>62</td><td>NA</td><td>73</td><td>NA</td><td>4</td><td>73</td></tr>\n",
       "\t<tr><th scope=row>2</th><td>1000063</td><td>No</td><td>NA</td><td>NA</td><td>NA</td><td>43</td><td>NA</td><td>NA</td><td>NA</td><td>2</td><td>43</td></tr>\n",
       "\t<tr><th scope=row>3</th><td>1000078</td><td>NA</td><td>No</td><td>No</td><td>NA</td><td>52</td><td>57</td><td>60</td><td>NA</td><td>3, 4</td><td>60</td></tr>\n",
       "\t<tr><th scope=row>4</th><td>1000112</td><td>NA</td><td>NA</td><td>No</td><td>NA</td><td>58</td><td>NA</td><td>68</td><td>NA</td><td>4</td><td>68</td></tr>\n",
       "\t<tr><th scope=row>5</th><td>1000141</td><td>No</td><td>NA</td><td>NA</td><td>NA</td><td>49</td><td>NA</td><td>NA</td><td>NA</td><td>2</td><td>49</td></tr>\n",
       "\t<tr><th scope=row>6</th><td>1000236</td><td>No</td><td>NA</td><td>No</td><td>NA</td><td>61</td><td>NA</td><td>70</td><td>NA</td><td>2, 4</td><td>70</td></tr>\n",
       "</tbody>\n",
       "</table>\n"
      ],
      "text/latex": [
       "A data.frame: 6 × 11\n",
       "\\begin{tabular}{r|lllllllllll}\n",
       "  & IID & f.4803.0.0.rc & f.4803.1.0.rc & f.4803.2.0.rc & f.4803.3.0.rc & f.21003.0.0 & f.21003.1.0 & f.21003.2.0 & f.21003.3.0 & visit\\_idx & age\\_final\\\\\n",
       "  & <int> & <chr> & <chr> & <chr> & <chr> & <int> & <int> & <int> & <int> & <list> & <int>\\\\\n",
       "\\hline\n",
       "\t1 & 1000046 & NA & NA & No & NA & 62 & NA & 73 & NA & 4 & 73\\\\\n",
       "\t2 & 1000063 & No & NA & NA & NA & 43 & NA & NA & NA & 2 & 43\\\\\n",
       "\t3 & 1000078 & NA & No & No & NA & 52 & 57 & 60 & NA & 3, 4 & 60\\\\\n",
       "\t4 & 1000112 & NA & NA & No & NA & 58 & NA & 68 & NA & 4 & 68\\\\\n",
       "\t5 & 1000141 & No & NA & NA & NA & 49 & NA & NA & NA & 2 & 49\\\\\n",
       "\t6 & 1000236 & No & NA & No & NA & 61 & NA & 70 & NA & 2, 4 & 70\\\\\n",
       "\\end{tabular}\n"
      ],
      "text/markdown": [
       "\n",
       "A data.frame: 6 × 11\n",
       "\n",
       "| <!--/--> | IID &lt;int&gt; | f.4803.0.0.rc &lt;chr&gt; | f.4803.1.0.rc &lt;chr&gt; | f.4803.2.0.rc &lt;chr&gt; | f.4803.3.0.rc &lt;chr&gt; | f.21003.0.0 &lt;int&gt; | f.21003.1.0 &lt;int&gt; | f.21003.2.0 &lt;int&gt; | f.21003.3.0 &lt;int&gt; | visit_idx &lt;list&gt; | age_final &lt;int&gt; |\n",
       "|---|---|---|---|---|---|---|---|---|---|---|---|\n",
       "| 1 | 1000046 | NA | NA | No | NA | 62 | NA | 73 | NA | 4 | 73 |\n",
       "| 2 | 1000063 | No | NA | NA | NA | 43 | NA | NA | NA | 2 | 43 |\n",
       "| 3 | 1000078 | NA | No | No | NA | 52 | 57 | 60 | NA | 3, 4 | 60 |\n",
       "| 4 | 1000112 | NA | NA | No | NA | 58 | NA | 68 | NA | 4 | 68 |\n",
       "| 5 | 1000141 | No | NA | NA | NA | 49 | NA | NA | NA | 2 | 49 |\n",
       "| 6 | 1000236 | No | NA | No | NA | 61 | NA | 70 | NA | 2, 4 | 70 |\n",
       "\n"
      ],
      "text/plain": [
       "  IID     f.4803.0.0.rc f.4803.1.0.rc f.4803.2.0.rc f.4803.3.0.rc f.21003.0.0\n",
       "1 1000046 NA            NA            No            NA            62         \n",
       "2 1000063 No            NA            NA            NA            43         \n",
       "3 1000078 NA            No            No            NA            52         \n",
       "4 1000112 NA            NA            No            NA            58         \n",
       "5 1000141 No            NA            NA            NA            49         \n",
       "6 1000236 No            NA            No            NA            61         \n",
       "  f.21003.1.0 f.21003.2.0 f.21003.3.0 visit_idx age_final\n",
       "1 NA          73          NA          4         73       \n",
       "2 NA          NA          NA          2         43       \n",
       "3 57          60          NA          3, 4      60       \n",
       "4 NA          68          NA          4         68       \n",
       "5 NA          NA          NA          2         49       \n",
       "6 NA          70          NA          2, 4      70       "
      ]
     },
     "metadata": {},
     "output_type": "display_data"
    },
    {
     "data": {
      "text/plain": [
       "   Min. 1st Qu.  Median    Mean 3rd Qu.    Max. \n",
       "  40.00   53.00   60.00   59.09   65.00   82.00 "
      ]
     },
     "metadata": {},
     "output_type": "display_data"
    }
   ],
   "source": [
    "# Get the # of column where last replied No:\n",
    "age_control$visit_idx = apply(age_control, 1, function(x) unlist(which(x == 'No')))\n",
    "\n",
    "# Define offset:\n",
    "# offset: refers to the # of columns between the first age column (i.e.f.21003.0.0) and the first recode column (i.e.f.4803.0.0.rc)\n",
    "offset = which(colnames(age_control) == 'f.21003.0.0') - which(colnames(age_control) == 'f.4803.0.0.rc')\n",
    "\n",
    "# Define the function to extract the last time they said no for control\n",
    "\n",
    "f=get_age_func <- function(x) {\n",
    "  visit_index=x[which(colnames(age_control)==\"visit_idx\")]\n",
    "  index=max(unlist(visit_index))+offset\n",
    "  age=x[index]\n",
    "  age=unlist(age)\n",
    "  return(age)\n",
    "}\n",
    "\n",
    "# Get the final age for controls\n",
    "age_control$age_final = apply(age_control, 1, f)\n",
    "\n",
    "# Show first 6 rows\n",
    "head(age_control)\n",
    "summary(age_control$age_final)"
   ]
  },
  {
   "cell_type": "code",
   "execution_count": 27,
   "metadata": {
    "kernel": "R"
   },
   "outputs": [
    {
     "data": {
      "text/html": [
       "<style>\n",
       ".list-inline {list-style: none; margin:0; padding: 0}\n",
       ".list-inline>li {display: inline-block}\n",
       ".list-inline>li:not(:last-child)::after {content: \"\\00b7\"; padding: 0 .5ex}\n",
       "</style>\n",
       "<ol class=list-inline><li>142082</li><li>11</li></ol>\n"
      ],
      "text/latex": [
       "\\begin{enumerate*}\n",
       "\\item 142082\n",
       "\\item 11\n",
       "\\end{enumerate*}\n"
      ],
      "text/markdown": [
       "1. 142082\n",
       "2. 11\n",
       "\n",
       "\n"
      ],
      "text/plain": [
       "[1] 142082     11"
      ]
     },
     "metadata": {},
     "output_type": "display_data"
    },
    {
     "data": {
      "text/html": [
       "<table>\n",
       "<caption>A data.frame: 6 × 11</caption>\n",
       "<thead>\n",
       "\t<tr><th></th><th scope=col>IID</th><th scope=col>f.4803.0.0.rc</th><th scope=col>f.4803.1.0.rc</th><th scope=col>f.4803.2.0.rc</th><th scope=col>f.4803.3.0.rc</th><th scope=col>f.21003.0.0</th><th scope=col>f.21003.1.0</th><th scope=col>f.21003.2.0</th><th scope=col>f.21003.3.0</th><th scope=col>visit_idx</th><th scope=col>age_final</th></tr>\n",
       "\t<tr><th></th><th scope=col>&lt;int&gt;</th><th scope=col>&lt;chr&gt;</th><th scope=col>&lt;chr&gt;</th><th scope=col>&lt;chr&gt;</th><th scope=col>&lt;chr&gt;</th><th scope=col>&lt;int&gt;</th><th scope=col>&lt;int&gt;</th><th scope=col>&lt;int&gt;</th><th scope=col>&lt;int&gt;</th><th scope=col>&lt;list&gt;</th><th scope=col>&lt;int&gt;</th></tr>\n",
       "</thead>\n",
       "<tbody>\n",
       "\t<tr><th scope=row>1</th><td>1000105</td><td>Yes</td><td>NA</td><td>NA </td><td>NA</td><td>54</td><td>NA</td><td>NA</td><td>NA</td><td>2</td><td>54</td></tr>\n",
       "\t<tr><th scope=row>2</th><td>1000357</td><td>Yes</td><td>NA</td><td>NA </td><td>NA</td><td>69</td><td>NA</td><td>NA</td><td>NA</td><td>2</td><td>69</td></tr>\n",
       "\t<tr><th scope=row>3</th><td>1000443</td><td>NA </td><td>NA</td><td>Yes</td><td>NA</td><td>45</td><td>NA</td><td>52</td><td>NA</td><td>4</td><td>52</td></tr>\n",
       "\t<tr><th scope=row>4</th><td>1000494</td><td>Yes</td><td>NA</td><td>NA </td><td>NA</td><td>61</td><td>NA</td><td>NA</td><td>NA</td><td>2</td><td>61</td></tr>\n",
       "\t<tr><th scope=row>5</th><td>1000625</td><td>Yes</td><td>NA</td><td>NA </td><td>NA</td><td>60</td><td>NA</td><td>NA</td><td>NA</td><td>2</td><td>60</td></tr>\n",
       "\t<tr><th scope=row>6</th><td>1000713</td><td>Yes</td><td>NA</td><td>Yes</td><td>NA</td><td>58</td><td>NA</td><td>67</td><td>NA</td><td>2, 4</td><td>58</td></tr>\n",
       "</tbody>\n",
       "</table>\n"
      ],
      "text/latex": [
       "A data.frame: 6 × 11\n",
       "\\begin{tabular}{r|lllllllllll}\n",
       "  & IID & f.4803.0.0.rc & f.4803.1.0.rc & f.4803.2.0.rc & f.4803.3.0.rc & f.21003.0.0 & f.21003.1.0 & f.21003.2.0 & f.21003.3.0 & visit\\_idx & age\\_final\\\\\n",
       "  & <int> & <chr> & <chr> & <chr> & <chr> & <int> & <int> & <int> & <int> & <list> & <int>\\\\\n",
       "\\hline\n",
       "\t1 & 1000105 & Yes & NA & NA  & NA & 54 & NA & NA & NA & 2 & 54\\\\\n",
       "\t2 & 1000357 & Yes & NA & NA  & NA & 69 & NA & NA & NA & 2 & 69\\\\\n",
       "\t3 & 1000443 & NA  & NA & Yes & NA & 45 & NA & 52 & NA & 4 & 52\\\\\n",
       "\t4 & 1000494 & Yes & NA & NA  & NA & 61 & NA & NA & NA & 2 & 61\\\\\n",
       "\t5 & 1000625 & Yes & NA & NA  & NA & 60 & NA & NA & NA & 2 & 60\\\\\n",
       "\t6 & 1000713 & Yes & NA & Yes & NA & 58 & NA & 67 & NA & 2, 4 & 58\\\\\n",
       "\\end{tabular}\n"
      ],
      "text/markdown": [
       "\n",
       "A data.frame: 6 × 11\n",
       "\n",
       "| <!--/--> | IID &lt;int&gt; | f.4803.0.0.rc &lt;chr&gt; | f.4803.1.0.rc &lt;chr&gt; | f.4803.2.0.rc &lt;chr&gt; | f.4803.3.0.rc &lt;chr&gt; | f.21003.0.0 &lt;int&gt; | f.21003.1.0 &lt;int&gt; | f.21003.2.0 &lt;int&gt; | f.21003.3.0 &lt;int&gt; | visit_idx &lt;list&gt; | age_final &lt;int&gt; |\n",
       "|---|---|---|---|---|---|---|---|---|---|---|---|\n",
       "| 1 | 1000105 | Yes | NA | NA  | NA | 54 | NA | NA | NA | 2 | 54 |\n",
       "| 2 | 1000357 | Yes | NA | NA  | NA | 69 | NA | NA | NA | 2 | 69 |\n",
       "| 3 | 1000443 | NA  | NA | Yes | NA | 45 | NA | 52 | NA | 4 | 52 |\n",
       "| 4 | 1000494 | Yes | NA | NA  | NA | 61 | NA | NA | NA | 2 | 61 |\n",
       "| 5 | 1000625 | Yes | NA | NA  | NA | 60 | NA | NA | NA | 2 | 60 |\n",
       "| 6 | 1000713 | Yes | NA | Yes | NA | 58 | NA | 67 | NA | 2, 4 | 58 |\n",
       "\n"
      ],
      "text/plain": [
       "  IID     f.4803.0.0.rc f.4803.1.0.rc f.4803.2.0.rc f.4803.3.0.rc f.21003.0.0\n",
       "1 1000105 Yes           NA            NA            NA            54         \n",
       "2 1000357 Yes           NA            NA            NA            69         \n",
       "3 1000443 NA            NA            Yes           NA            45         \n",
       "4 1000494 Yes           NA            NA            NA            61         \n",
       "5 1000625 Yes           NA            NA            NA            60         \n",
       "6 1000713 Yes           NA            Yes           NA            58         \n",
       "  f.21003.1.0 f.21003.2.0 f.21003.3.0 visit_idx age_final\n",
       "1 NA          NA          NA          2         54       \n",
       "2 NA          NA          NA          2         69       \n",
       "3 NA          52          NA          4         52       \n",
       "4 NA          NA          NA          2         61       \n",
       "5 NA          NA          NA          2         60       \n",
       "6 NA          67          NA          2, 4      58       "
      ]
     },
     "metadata": {},
     "output_type": "display_data"
    }
   ],
   "source": [
    "# Merge age_cases and age_controls\n",
    "age_tinnitus <- rbind(age_cases, age_control) \n",
    "dim(age_tinnitus)\n",
    "head(age_tinnitus)"
   ]
  },
  {
   "cell_type": "code",
   "execution_count": 28,
   "metadata": {
    "kernel": "R"
   },
   "outputs": [
    {
     "data": {
      "text/html": [
       "<style>\n",
       ".list-inline {list-style: none; margin:0; padding: 0}\n",
       ".list-inline>li {display: inline-block}\n",
       ".list-inline>li:not(:last-child)::after {content: \"\\00b7\"; padding: 0 .5ex}\n",
       "</style>\n",
       "<ol class=list-inline><li>354347</li><li>1079</li></ol>\n"
      ],
      "text/latex": [
       "\\begin{enumerate*}\n",
       "\\item 354347\n",
       "\\item 1079\n",
       "\\end{enumerate*}\n"
      ],
      "text/markdown": [
       "1. 354347\n",
       "2. 1079\n",
       "\n",
       "\n"
      ],
      "text/plain": [
       "[1] 354347   1079"
      ]
     },
     "metadata": {},
     "output_type": "display_data"
    }
   ],
   "source": [
    "#Merge with complete database keep the all the rows from original db\n",
    "df.age = merge(x = df,y = age_tinnitus[,c(\"IID\",\"age_final\")],by=\"IID\", all.x=TRUE)\n",
    "dim(df.age)"
   ]
  },
  {
   "cell_type": "markdown",
   "metadata": {
    "kernel": "R"
   },
   "source": [
    "### e. Checking consistency of the f.4825 noisy workplace and filtering"
   ]
  },
  {
   "cell_type": "code",
   "execution_count": 29,
   "metadata": {
    "kernel": "R"
   },
   "outputs": [
    {
     "data": {
      "text/html": [
       "<style>\n",
       ".list-inline {list-style: none; margin:0; padding: 0}\n",
       ".list-inline>li {display: inline-block}\n",
       ".list-inline>li:not(:last-child)::after {content: \"\\00b7\"; padding: 0 .5ex}\n",
       "</style>\n",
       "<ol class=list-inline><li>354347</li><li>5</li></ol>\n"
      ],
      "text/latex": [
       "\\begin{enumerate*}\n",
       "\\item 354347\n",
       "\\item 5\n",
       "\\end{enumerate*}\n"
      ],
      "text/markdown": [
       "1. 354347\n",
       "2. 5\n",
       "\n",
       "\n"
      ],
      "text/plain": [
       "[1] 354347      5"
      ]
     },
     "metadata": {},
     "output_type": "display_data"
    }
   ],
   "source": [
    "# Extract subset of data only with the recode columns of noisy workplace variable\n",
    "data_noise <- df.age %>%\n",
    "  select(IID, f.4825.0.0.rc,f.4825.1.0.rc,f.4825.2.0.rc,f.4825.3.0.rc) \n",
    "dim(data_noise)"
   ]
  },
  {
   "cell_type": "code",
   "execution_count": 30,
   "metadata": {
    "kernel": "R"
   },
   "outputs": [
    {
     "data": {
      "text/html": [
       "<table>\n",
       "<caption>A data.frame: 6 × 6</caption>\n",
       "<thead>\n",
       "\t<tr><th></th><th scope=col>IID</th><th scope=col>f.4825.0.0.rc</th><th scope=col>f.4825.1.0.rc</th><th scope=col>f.4825.2.0.rc</th><th scope=col>f.4825.3.0.rc</th><th scope=col>visit</th></tr>\n",
       "\t<tr><th></th><th scope=col>&lt;int&gt;</th><th scope=col>&lt;ord&gt;</th><th scope=col>&lt;ord&gt;</th><th scope=col>&lt;ord&gt;</th><th scope=col>&lt;ord&gt;</th><th scope=col>&lt;list&gt;</th></tr>\n",
       "</thead>\n",
       "<tbody>\n",
       "\t<tr><th scope=row>1</th><td>1000046</td><td>NA</td><td>NA</td><td>0 </td><td>NA</td><td>0</td></tr>\n",
       "\t<tr><th scope=row>2</th><td>1000063</td><td>0 </td><td>NA</td><td>NA</td><td>NA</td><td>0</td></tr>\n",
       "\t<tr><th scope=row>3</th><td>1000078</td><td>NA</td><td>0 </td><td>0 </td><td>NA</td><td>0, 0</td></tr>\n",
       "\t<tr><th scope=row>4</th><td>1000105</td><td>0 </td><td>NA</td><td>NA</td><td>NA</td><td>0</td></tr>\n",
       "\t<tr><th scope=row>5</th><td>1000112</td><td>NA</td><td>NA</td><td>0 </td><td>NA</td><td>0</td></tr>\n",
       "\t<tr><th scope=row>6</th><td>1000141</td><td>0 </td><td>NA</td><td>NA</td><td>NA</td><td>0</td></tr>\n",
       "</tbody>\n",
       "</table>\n"
      ],
      "text/latex": [
       "A data.frame: 6 × 6\n",
       "\\begin{tabular}{r|llllll}\n",
       "  & IID & f.4825.0.0.rc & f.4825.1.0.rc & f.4825.2.0.rc & f.4825.3.0.rc & visit\\\\\n",
       "  & <int> & <ord> & <ord> & <ord> & <ord> & <list>\\\\\n",
       "\\hline\n",
       "\t1 & 1000046 & NA & NA & 0  & NA & 0\\\\\n",
       "\t2 & 1000063 & 0  & NA & NA & NA & 0\\\\\n",
       "\t3 & 1000078 & NA & 0  & 0  & NA & 0, 0\\\\\n",
       "\t4 & 1000105 & 0  & NA & NA & NA & 0\\\\\n",
       "\t5 & 1000112 & NA & NA & 0  & NA & 0\\\\\n",
       "\t6 & 1000141 & 0  & NA & NA & NA & 0\\\\\n",
       "\\end{tabular}\n"
      ],
      "text/markdown": [
       "\n",
       "A data.frame: 6 × 6\n",
       "\n",
       "| <!--/--> | IID &lt;int&gt; | f.4825.0.0.rc &lt;ord&gt; | f.4825.1.0.rc &lt;ord&gt; | f.4825.2.0.rc &lt;ord&gt; | f.4825.3.0.rc &lt;ord&gt; | visit &lt;list&gt; |\n",
       "|---|---|---|---|---|---|---|\n",
       "| 1 | 1000046 | NA | NA | 0  | NA | 0 |\n",
       "| 2 | 1000063 | 0  | NA | NA | NA | 0 |\n",
       "| 3 | 1000078 | NA | 0  | 0  | NA | 0, 0 |\n",
       "| 4 | 1000105 | 0  | NA | NA | NA | 0 |\n",
       "| 5 | 1000112 | NA | NA | 0  | NA | 0 |\n",
       "| 6 | 1000141 | 0  | NA | NA | NA | 0 |\n",
       "\n"
      ],
      "text/plain": [
       "  IID     f.4825.0.0.rc f.4825.1.0.rc f.4825.2.0.rc f.4825.3.0.rc visit\n",
       "1 1000046 NA            NA            0             NA            0    \n",
       "2 1000063 0             NA            NA            NA            0    \n",
       "3 1000078 NA            0             0             NA            0, 0 \n",
       "4 1000105 0             NA            NA            NA            0    \n",
       "5 1000112 NA            NA            0             NA            0    \n",
       "6 1000141 0             NA            NA            NA            0    "
      ]
     },
     "metadata": {},
     "output_type": "display_data"
    },
    {
     "data": {
      "text/html": [
       "<style>\n",
       ".list-inline {list-style: none; margin:0; padding: 0}\n",
       ".list-inline>li {display: inline-block}\n",
       ".list-inline>li:not(:last-child)::after {content: \"\\00b7\"; padding: 0 .5ex}\n",
       "</style>\n",
       "<ol class=list-inline><li>145367</li><li>6</li></ol>\n"
      ],
      "text/latex": [
       "\\begin{enumerate*}\n",
       "\\item 145367\n",
       "\\item 6\n",
       "\\end{enumerate*}\n"
      ],
      "text/markdown": [
       "1. 145367\n",
       "2. 6\n",
       "\n",
       "\n"
      ],
      "text/plain": [
       "[1] 145367      6"
      ]
     },
     "metadata": {},
     "output_type": "display_data"
    }
   ],
   "source": [
    "# Function to extract all the available answers for 4 visits\n",
    "# and put them in one list\n",
    "f<-function(x){\n",
    "  visit<-c()\n",
    "  for (i in 2:5){\n",
    "    if (!is.na(x[i]))\n",
    "    {visit<-c(visit,x[i])}\n",
    "  }\n",
    "  if(is.null(visit)){visit=NA}\n",
    "  else{visit=as.numeric(visit)}\n",
    "  return (visit)\n",
    "}\n",
    "\n",
    "# Apply the above function and remove NAs\n",
    "data_noise$visit<-apply(data_noise, 1, f)\n",
    "data_noise<-data_noise %>%\n",
    "  filter(!is.na(visit)) \n",
    "head(data_noise)\n",
    "dim(data_noise)"
   ]
  },
  {
   "cell_type": "code",
   "execution_count": 31,
   "metadata": {
    "kernel": "R"
   },
   "outputs": [
    {
     "data": {
      "text/html": [
       "<table>\n",
       "<caption>A data.frame: 12 × 7</caption>\n",
       "<thead>\n",
       "\t<tr><th></th><th scope=col>IID</th><th scope=col>f.4825.0.0.rc</th><th scope=col>f.4825.1.0.rc</th><th scope=col>f.4825.2.0.rc</th><th scope=col>f.4825.3.0.rc</th><th scope=col>visit</th><th scope=col>noise_wp</th></tr>\n",
       "\t<tr><th></th><th scope=col>&lt;int&gt;</th><th scope=col>&lt;ord&gt;</th><th scope=col>&lt;ord&gt;</th><th scope=col>&lt;ord&gt;</th><th scope=col>&lt;ord&gt;</th><th scope=col>&lt;list&gt;</th><th scope=col>&lt;dbl&gt;</th></tr>\n",
       "</thead>\n",
       "<tbody>\n",
       "\t<tr><th scope=row>1</th><td>1000046</td><td>NA</td><td>NA</td><td>0 </td><td>NA</td><td>0</td><td>0</td></tr>\n",
       "\t<tr><th scope=row>2</th><td>1000063</td><td>0 </td><td>NA</td><td>NA</td><td>NA</td><td>0</td><td>0</td></tr>\n",
       "\t<tr><th scope=row>3</th><td>1000078</td><td>NA</td><td>0 </td><td>0 </td><td>NA</td><td>0, 0</td><td>0</td></tr>\n",
       "\t<tr><th scope=row>4</th><td>1000105</td><td>0 </td><td>NA</td><td>NA</td><td>NA</td><td>0</td><td>0</td></tr>\n",
       "\t<tr><th scope=row>5</th><td>1000112</td><td>NA</td><td>NA</td><td>0 </td><td>NA</td><td>0</td><td>0</td></tr>\n",
       "\t<tr><th scope=row>6</th><td>1000141</td><td>0 </td><td>NA</td><td>NA</td><td>NA</td><td>0</td><td>0</td></tr>\n",
       "\t<tr><th scope=row>7</th><td>1000236</td><td>0 </td><td>NA</td><td>0 </td><td>NA</td><td>0, 0</td><td>0</td></tr>\n",
       "\t<tr><th scope=row>8</th><td>1000248</td><td>3 </td><td>NA</td><td>NA</td><td>NA</td><td>3</td><td>3</td></tr>\n",
       "\t<tr><th scope=row>9</th><td>1000269</td><td>NA</td><td>NA</td><td>0 </td><td>NA</td><td>0</td><td>0</td></tr>\n",
       "\t<tr><th scope=row>10</th><td>1000340</td><td>0 </td><td>NA</td><td>NA</td><td>NA</td><td>0</td><td>0</td></tr>\n",
       "\t<tr><th scope=row>11</th><td>1000357</td><td>0 </td><td>NA</td><td>NA</td><td>NA</td><td>0</td><td>0</td></tr>\n",
       "\t<tr><th scope=row>12</th><td>1000379</td><td>0 </td><td>NA</td><td>NA</td><td>NA</td><td>0</td><td>0</td></tr>\n",
       "</tbody>\n",
       "</table>\n"
      ],
      "text/latex": [
       "A data.frame: 12 × 7\n",
       "\\begin{tabular}{r|lllllll}\n",
       "  & IID & f.4825.0.0.rc & f.4825.1.0.rc & f.4825.2.0.rc & f.4825.3.0.rc & visit & noise\\_wp\\\\\n",
       "  & <int> & <ord> & <ord> & <ord> & <ord> & <list> & <dbl>\\\\\n",
       "\\hline\n",
       "\t1 & 1000046 & NA & NA & 0  & NA & 0 & 0\\\\\n",
       "\t2 & 1000063 & 0  & NA & NA & NA & 0 & 0\\\\\n",
       "\t3 & 1000078 & NA & 0  & 0  & NA & 0, 0 & 0\\\\\n",
       "\t4 & 1000105 & 0  & NA & NA & NA & 0 & 0\\\\\n",
       "\t5 & 1000112 & NA & NA & 0  & NA & 0 & 0\\\\\n",
       "\t6 & 1000141 & 0  & NA & NA & NA & 0 & 0\\\\\n",
       "\t7 & 1000236 & 0  & NA & 0  & NA & 0, 0 & 0\\\\\n",
       "\t8 & 1000248 & 3  & NA & NA & NA & 3 & 3\\\\\n",
       "\t9 & 1000269 & NA & NA & 0  & NA & 0 & 0\\\\\n",
       "\t10 & 1000340 & 0  & NA & NA & NA & 0 & 0\\\\\n",
       "\t11 & 1000357 & 0  & NA & NA & NA & 0 & 0\\\\\n",
       "\t12 & 1000379 & 0  & NA & NA & NA & 0 & 0\\\\\n",
       "\\end{tabular}\n"
      ],
      "text/markdown": [
       "\n",
       "A data.frame: 12 × 7\n",
       "\n",
       "| <!--/--> | IID &lt;int&gt; | f.4825.0.0.rc &lt;ord&gt; | f.4825.1.0.rc &lt;ord&gt; | f.4825.2.0.rc &lt;ord&gt; | f.4825.3.0.rc &lt;ord&gt; | visit &lt;list&gt; | noise_wp &lt;dbl&gt; |\n",
       "|---|---|---|---|---|---|---|---|\n",
       "| 1 | 1000046 | NA | NA | 0  | NA | 0 | 0 |\n",
       "| 2 | 1000063 | 0  | NA | NA | NA | 0 | 0 |\n",
       "| 3 | 1000078 | NA | 0  | 0  | NA | 0, 0 | 0 |\n",
       "| 4 | 1000105 | 0  | NA | NA | NA | 0 | 0 |\n",
       "| 5 | 1000112 | NA | NA | 0  | NA | 0 | 0 |\n",
       "| 6 | 1000141 | 0  | NA | NA | NA | 0 | 0 |\n",
       "| 7 | 1000236 | 0  | NA | 0  | NA | 0, 0 | 0 |\n",
       "| 8 | 1000248 | 3  | NA | NA | NA | 3 | 3 |\n",
       "| 9 | 1000269 | NA | NA | 0  | NA | 0 | 0 |\n",
       "| 10 | 1000340 | 0  | NA | NA | NA | 0 | 0 |\n",
       "| 11 | 1000357 | 0  | NA | NA | NA | 0 | 0 |\n",
       "| 12 | 1000379 | 0  | NA | NA | NA | 0 | 0 |\n",
       "\n"
      ],
      "text/plain": [
       "   IID     f.4825.0.0.rc f.4825.1.0.rc f.4825.2.0.rc f.4825.3.0.rc visit\n",
       "1  1000046 NA            NA            0             NA            0    \n",
       "2  1000063 0             NA            NA            NA            0    \n",
       "3  1000078 NA            0             0             NA            0, 0 \n",
       "4  1000105 0             NA            NA            NA            0    \n",
       "5  1000112 NA            NA            0             NA            0    \n",
       "6  1000141 0             NA            NA            NA            0    \n",
       "7  1000236 0             NA            0             NA            0, 0 \n",
       "8  1000248 3             NA            NA            NA            3    \n",
       "9  1000269 NA            NA            0             NA            0    \n",
       "10 1000340 0             NA            NA            NA            0    \n",
       "11 1000357 0             NA            NA            NA            0    \n",
       "12 1000379 0             NA            NA            NA            0    \n",
       "   noise_wp\n",
       "1  0       \n",
       "2  0       \n",
       "3  0       \n",
       "4  0       \n",
       "5  0       \n",
       "6  0       \n",
       "7  0       \n",
       "8  3       \n",
       "9  0       \n",
       "10 0       \n",
       "11 0       \n",
       "12 0       "
      ]
     },
     "metadata": {},
     "output_type": "display_data"
    }
   ],
   "source": [
    "# Function to get the final code for noise_wp\n",
    "f<-function(x){\n",
    "  l=length(x$visit)\n",
    "  if (l==1){ # only one answer available\n",
    "    result=x$visit\n",
    "  }\n",
    "  else{ # more then one answer available\n",
    "    result=x$visit[1]\n",
    "    for (i in 2:l){\n",
    "      if (x$visit[i] >= x$visit[i-1]){result=x$visit[i]} # consistent ones\n",
    "      else {result=NA; break} # inconsistent ones\n",
    "    }\n",
    "  }\n",
    "  return(result)\n",
    "}\n",
    "\n",
    "# Apply the above function and remove NAs\n",
    "data_noise$noise_wp<-apply(data_noise, 1, f)\n",
    "data_noise<-data_noise %>%\n",
    "  filter(!is.na(noise_wp)) \n",
    "head(data_noise, 12) # note: noise_wp code generated here is numeric, not factor"
   ]
  },
  {
   "cell_type": "code",
   "execution_count": 32,
   "metadata": {
    "kernel": "R"
   },
   "outputs": [
    {
     "data": {
      "text/html": [
       "<style>\n",
       ".list-inline {list-style: none; margin:0; padding: 0}\n",
       ".list-inline>li {display: inline-block}\n",
       ".list-inline>li:not(:last-child)::after {content: \"\\00b7\"; padding: 0 .5ex}\n",
       "</style>\n",
       "<ol class=list-inline><li>354347</li><li>1080</li></ol>\n"
      ],
      "text/latex": [
       "\\begin{enumerate*}\n",
       "\\item 354347\n",
       "\\item 1080\n",
       "\\end{enumerate*}\n"
      ],
      "text/markdown": [
       "1. 354347\n",
       "2. 1080\n",
       "\n",
       "\n"
      ],
      "text/plain": [
       "[1] 354347   1080"
      ]
     },
     "metadata": {},
     "output_type": "display_data"
    }
   ],
   "source": [
    "# Append the noise variable to the data\n",
    "df.noise = merge(x = df.age,y = data_noise[,c(\"IID\", \"noise_wp\")],by=\"IID\", all.x=TRUE)\n",
    "dim(df.noise)"
   ]
  },
  {
   "cell_type": "markdown",
   "metadata": {
    "kernel": "R"
   },
   "source": [
    "### f. Checking consistency of the f.4836 loud music exposure frequency and filtering"
   ]
  },
  {
   "cell_type": "code",
   "execution_count": 33,
   "metadata": {
    "kernel": "R"
   },
   "outputs": [
    {
     "data": {
      "text/html": [
       "<table>\n",
       "<caption>A data.frame: 6 × 5</caption>\n",
       "<thead>\n",
       "\t<tr><th></th><th scope=col>IID</th><th scope=col>f.4836.0.0.rc</th><th scope=col>f.4836.1.0.rc</th><th scope=col>f.4836.2.0.rc</th><th scope=col>f.4836.3.0.rc</th></tr>\n",
       "\t<tr><th></th><th scope=col>&lt;int&gt;</th><th scope=col>&lt;ord&gt;</th><th scope=col>&lt;ord&gt;</th><th scope=col>&lt;ord&gt;</th><th scope=col>&lt;ord&gt;</th></tr>\n",
       "</thead>\n",
       "<tbody>\n",
       "\t<tr><th scope=row>1</th><td>1000019</td><td>NA</td><td>NA</td><td>NA</td><td>NA</td></tr>\n",
       "\t<tr><th scope=row>2</th><td>1000022</td><td>NA</td><td>NA</td><td>NA</td><td>NA</td></tr>\n",
       "\t<tr><th scope=row>3</th><td>1000035</td><td>NA</td><td>NA</td><td>NA</td><td>NA</td></tr>\n",
       "\t<tr><th scope=row>4</th><td>1000046</td><td>NA</td><td>NA</td><td>0 </td><td>NA</td></tr>\n",
       "\t<tr><th scope=row>5</th><td>1000054</td><td>NA</td><td>NA</td><td>NA</td><td>NA</td></tr>\n",
       "\t<tr><th scope=row>6</th><td>1000063</td><td>0 </td><td>NA</td><td>NA</td><td>NA</td></tr>\n",
       "</tbody>\n",
       "</table>\n"
      ],
      "text/latex": [
       "A data.frame: 6 × 5\n",
       "\\begin{tabular}{r|lllll}\n",
       "  & IID & f.4836.0.0.rc & f.4836.1.0.rc & f.4836.2.0.rc & f.4836.3.0.rc\\\\\n",
       "  & <int> & <ord> & <ord> & <ord> & <ord>\\\\\n",
       "\\hline\n",
       "\t1 & 1000019 & NA & NA & NA & NA\\\\\n",
       "\t2 & 1000022 & NA & NA & NA & NA\\\\\n",
       "\t3 & 1000035 & NA & NA & NA & NA\\\\\n",
       "\t4 & 1000046 & NA & NA & 0  & NA\\\\\n",
       "\t5 & 1000054 & NA & NA & NA & NA\\\\\n",
       "\t6 & 1000063 & 0  & NA & NA & NA\\\\\n",
       "\\end{tabular}\n"
      ],
      "text/markdown": [
       "\n",
       "A data.frame: 6 × 5\n",
       "\n",
       "| <!--/--> | IID &lt;int&gt; | f.4836.0.0.rc &lt;ord&gt; | f.4836.1.0.rc &lt;ord&gt; | f.4836.2.0.rc &lt;ord&gt; | f.4836.3.0.rc &lt;ord&gt; |\n",
       "|---|---|---|---|---|---|\n",
       "| 1 | 1000019 | NA | NA | NA | NA |\n",
       "| 2 | 1000022 | NA | NA | NA | NA |\n",
       "| 3 | 1000035 | NA | NA | NA | NA |\n",
       "| 4 | 1000046 | NA | NA | 0  | NA |\n",
       "| 5 | 1000054 | NA | NA | NA | NA |\n",
       "| 6 | 1000063 | 0  | NA | NA | NA |\n",
       "\n"
      ],
      "text/plain": [
       "  IID     f.4836.0.0.rc f.4836.1.0.rc f.4836.2.0.rc f.4836.3.0.rc\n",
       "1 1000019 NA            NA            NA            NA           \n",
       "2 1000022 NA            NA            NA            NA           \n",
       "3 1000035 NA            NA            NA            NA           \n",
       "4 1000046 NA            NA            0             NA           \n",
       "5 1000054 NA            NA            NA            NA           \n",
       "6 1000063 0             NA            NA            NA           "
      ]
     },
     "metadata": {},
     "output_type": "display_data"
    },
    {
     "data": {
      "text/html": [
       "<style>\n",
       ".list-inline {list-style: none; margin:0; padding: 0}\n",
       ".list-inline>li {display: inline-block}\n",
       ".list-inline>li:not(:last-child)::after {content: \"\\00b7\"; padding: 0 .5ex}\n",
       "</style>\n",
       "<ol class=list-inline><li>354347</li><li>5</li></ol>\n"
      ],
      "text/latex": [
       "\\begin{enumerate*}\n",
       "\\item 354347\n",
       "\\item 5\n",
       "\\end{enumerate*}\n"
      ],
      "text/markdown": [
       "1. 354347\n",
       "2. 5\n",
       "\n",
       "\n"
      ],
      "text/plain": [
       "[1] 354347      5"
      ]
     },
     "metadata": {},
     "output_type": "display_data"
    }
   ],
   "source": [
    "# Extract subset of data only with the recode columns of loud music exposure variable f.4836\n",
    "data_music <-  df.age %>%\n",
    "  select(IID,f.4836.0.0.rc,f.4836.1.0.rc,f.4836.2.0.rc,f.4836.3.0.rc) \n",
    "head(data_music)\n",
    "dim(data_music)"
   ]
  },
  {
   "cell_type": "code",
   "execution_count": 34,
   "metadata": {
    "kernel": "R"
   },
   "outputs": [
    {
     "data": {
      "text/html": [
       "<table>\n",
       "<caption>A data.frame: 6 × 6</caption>\n",
       "<thead>\n",
       "\t<tr><th></th><th scope=col>IID</th><th scope=col>f.4836.0.0.rc</th><th scope=col>f.4836.1.0.rc</th><th scope=col>f.4836.2.0.rc</th><th scope=col>f.4836.3.0.rc</th><th scope=col>visit</th></tr>\n",
       "\t<tr><th></th><th scope=col>&lt;int&gt;</th><th scope=col>&lt;ord&gt;</th><th scope=col>&lt;ord&gt;</th><th scope=col>&lt;ord&gt;</th><th scope=col>&lt;ord&gt;</th><th scope=col>&lt;list&gt;</th></tr>\n",
       "</thead>\n",
       "<tbody>\n",
       "\t<tr><th scope=row>1</th><td>1000046</td><td>NA</td><td>NA</td><td>0 </td><td>NA</td><td>0</td></tr>\n",
       "\t<tr><th scope=row>2</th><td>1000063</td><td>0 </td><td>NA</td><td>NA</td><td>NA</td><td>0</td></tr>\n",
       "\t<tr><th scope=row>3</th><td>1000078</td><td>NA</td><td>0 </td><td>0 </td><td>NA</td><td>0, 0</td></tr>\n",
       "\t<tr><th scope=row>4</th><td>1000105</td><td>0 </td><td>NA</td><td>NA</td><td>NA</td><td>0</td></tr>\n",
       "\t<tr><th scope=row>5</th><td>1000112</td><td>NA</td><td>NA</td><td>0 </td><td>NA</td><td>0</td></tr>\n",
       "\t<tr><th scope=row>6</th><td>1000141</td><td>0 </td><td>NA</td><td>NA</td><td>NA</td><td>0</td></tr>\n",
       "</tbody>\n",
       "</table>\n"
      ],
      "text/latex": [
       "A data.frame: 6 × 6\n",
       "\\begin{tabular}{r|llllll}\n",
       "  & IID & f.4836.0.0.rc & f.4836.1.0.rc & f.4836.2.0.rc & f.4836.3.0.rc & visit\\\\\n",
       "  & <int> & <ord> & <ord> & <ord> & <ord> & <list>\\\\\n",
       "\\hline\n",
       "\t1 & 1000046 & NA & NA & 0  & NA & 0\\\\\n",
       "\t2 & 1000063 & 0  & NA & NA & NA & 0\\\\\n",
       "\t3 & 1000078 & NA & 0  & 0  & NA & 0, 0\\\\\n",
       "\t4 & 1000105 & 0  & NA & NA & NA & 0\\\\\n",
       "\t5 & 1000112 & NA & NA & 0  & NA & 0\\\\\n",
       "\t6 & 1000141 & 0  & NA & NA & NA & 0\\\\\n",
       "\\end{tabular}\n"
      ],
      "text/markdown": [
       "\n",
       "A data.frame: 6 × 6\n",
       "\n",
       "| <!--/--> | IID &lt;int&gt; | f.4836.0.0.rc &lt;ord&gt; | f.4836.1.0.rc &lt;ord&gt; | f.4836.2.0.rc &lt;ord&gt; | f.4836.3.0.rc &lt;ord&gt; | visit &lt;list&gt; |\n",
       "|---|---|---|---|---|---|---|\n",
       "| 1 | 1000046 | NA | NA | 0  | NA | 0 |\n",
       "| 2 | 1000063 | 0  | NA | NA | NA | 0 |\n",
       "| 3 | 1000078 | NA | 0  | 0  | NA | 0, 0 |\n",
       "| 4 | 1000105 | 0  | NA | NA | NA | 0 |\n",
       "| 5 | 1000112 | NA | NA | 0  | NA | 0 |\n",
       "| 6 | 1000141 | 0  | NA | NA | NA | 0 |\n",
       "\n"
      ],
      "text/plain": [
       "  IID     f.4836.0.0.rc f.4836.1.0.rc f.4836.2.0.rc f.4836.3.0.rc visit\n",
       "1 1000046 NA            NA            0             NA            0    \n",
       "2 1000063 0             NA            NA            NA            0    \n",
       "3 1000078 NA            0             0             NA            0, 0 \n",
       "4 1000105 0             NA            NA            NA            0    \n",
       "5 1000112 NA            NA            0             NA            0    \n",
       "6 1000141 0             NA            NA            NA            0    "
      ]
     },
     "metadata": {},
     "output_type": "display_data"
    },
    {
     "data": {
      "text/html": [
       "<style>\n",
       ".list-inline {list-style: none; margin:0; padding: 0}\n",
       ".list-inline>li {display: inline-block}\n",
       ".list-inline>li:not(:last-child)::after {content: \"\\00b7\"; padding: 0 .5ex}\n",
       "</style>\n",
       "<ol class=list-inline><li>144706</li><li>6</li></ol>\n"
      ],
      "text/latex": [
       "\\begin{enumerate*}\n",
       "\\item 144706\n",
       "\\item 6\n",
       "\\end{enumerate*}\n"
      ],
      "text/markdown": [
       "1. 144706\n",
       "2. 6\n",
       "\n",
       "\n"
      ],
      "text/plain": [
       "[1] 144706      6"
      ]
     },
     "metadata": {},
     "output_type": "display_data"
    }
   ],
   "source": [
    "# Function to extract all the available answers for 4 visits\n",
    "# and put them in one list\n",
    "\n",
    "f<-function(x){\n",
    "  visit<-c()\n",
    "  for (i in 2:5){\n",
    "    if (!is.na(x[i]))\n",
    "    {visit<-c(visit,x[i])}\n",
    "  }\n",
    "  if(is.null(visit)){visit=NA}\n",
    "  else{visit=as.numeric(visit)}\n",
    "  return (visit)\n",
    "}\n",
    "\n",
    "# Apply the above function and remove NAs\n",
    "                              \n",
    "data_music$visit<-apply(data_music, 1, f)\n",
    "data_music<-data_music %>%\n",
    "  filter(!is.na(visit)) \n",
    "head(data_music)\n",
    "dim(data_music)"
   ]
  },
  {
   "cell_type": "code",
   "execution_count": 35,
   "metadata": {
    "kernel": "R"
   },
   "outputs": [
    {
     "data": {
      "text/html": [
       "<table>\n",
       "<caption>A data.frame: 12 × 7</caption>\n",
       "<thead>\n",
       "\t<tr><th></th><th scope=col>IID</th><th scope=col>f.4836.0.0.rc</th><th scope=col>f.4836.1.0.rc</th><th scope=col>f.4836.2.0.rc</th><th scope=col>f.4836.3.0.rc</th><th scope=col>visit</th><th scope=col>loud_music</th></tr>\n",
       "\t<tr><th></th><th scope=col>&lt;int&gt;</th><th scope=col>&lt;ord&gt;</th><th scope=col>&lt;ord&gt;</th><th scope=col>&lt;ord&gt;</th><th scope=col>&lt;ord&gt;</th><th scope=col>&lt;list&gt;</th><th scope=col>&lt;dbl&gt;</th></tr>\n",
       "</thead>\n",
       "<tbody>\n",
       "\t<tr><th scope=row>1</th><td>1000046</td><td>NA</td><td>NA</td><td>0 </td><td>NA</td><td>0</td><td>0</td></tr>\n",
       "\t<tr><th scope=row>2</th><td>1000063</td><td>0 </td><td>NA</td><td>NA</td><td>NA</td><td>0</td><td>0</td></tr>\n",
       "\t<tr><th scope=row>3</th><td>1000078</td><td>NA</td><td>0 </td><td>0 </td><td>NA</td><td>0, 0</td><td>0</td></tr>\n",
       "\t<tr><th scope=row>4</th><td>1000105</td><td>0 </td><td>NA</td><td>NA</td><td>NA</td><td>0</td><td>0</td></tr>\n",
       "\t<tr><th scope=row>5</th><td>1000112</td><td>NA</td><td>NA</td><td>0 </td><td>NA</td><td>0</td><td>0</td></tr>\n",
       "\t<tr><th scope=row>6</th><td>1000141</td><td>0 </td><td>NA</td><td>NA</td><td>NA</td><td>0</td><td>0</td></tr>\n",
       "\t<tr><th scope=row>7</th><td>1000236</td><td>0 </td><td>NA</td><td>0 </td><td>NA</td><td>0, 0</td><td>0</td></tr>\n",
       "\t<tr><th scope=row>8</th><td>1000248</td><td>0 </td><td>NA</td><td>NA</td><td>NA</td><td>0</td><td>0</td></tr>\n",
       "\t<tr><th scope=row>9</th><td>1000269</td><td>NA</td><td>NA</td><td>0 </td><td>NA</td><td>0</td><td>0</td></tr>\n",
       "\t<tr><th scope=row>10</th><td>1000340</td><td>0 </td><td>NA</td><td>NA</td><td>NA</td><td>0</td><td>0</td></tr>\n",
       "\t<tr><th scope=row>11</th><td>1000357</td><td>0 </td><td>NA</td><td>NA</td><td>NA</td><td>0</td><td>0</td></tr>\n",
       "\t<tr><th scope=row>12</th><td>1000379</td><td>0 </td><td>NA</td><td>NA</td><td>NA</td><td>0</td><td>0</td></tr>\n",
       "</tbody>\n",
       "</table>\n"
      ],
      "text/latex": [
       "A data.frame: 12 × 7\n",
       "\\begin{tabular}{r|lllllll}\n",
       "  & IID & f.4836.0.0.rc & f.4836.1.0.rc & f.4836.2.0.rc & f.4836.3.0.rc & visit & loud\\_music\\\\\n",
       "  & <int> & <ord> & <ord> & <ord> & <ord> & <list> & <dbl>\\\\\n",
       "\\hline\n",
       "\t1 & 1000046 & NA & NA & 0  & NA & 0 & 0\\\\\n",
       "\t2 & 1000063 & 0  & NA & NA & NA & 0 & 0\\\\\n",
       "\t3 & 1000078 & NA & 0  & 0  & NA & 0, 0 & 0\\\\\n",
       "\t4 & 1000105 & 0  & NA & NA & NA & 0 & 0\\\\\n",
       "\t5 & 1000112 & NA & NA & 0  & NA & 0 & 0\\\\\n",
       "\t6 & 1000141 & 0  & NA & NA & NA & 0 & 0\\\\\n",
       "\t7 & 1000236 & 0  & NA & 0  & NA & 0, 0 & 0\\\\\n",
       "\t8 & 1000248 & 0  & NA & NA & NA & 0 & 0\\\\\n",
       "\t9 & 1000269 & NA & NA & 0  & NA & 0 & 0\\\\\n",
       "\t10 & 1000340 & 0  & NA & NA & NA & 0 & 0\\\\\n",
       "\t11 & 1000357 & 0  & NA & NA & NA & 0 & 0\\\\\n",
       "\t12 & 1000379 & 0  & NA & NA & NA & 0 & 0\\\\\n",
       "\\end{tabular}\n"
      ],
      "text/markdown": [
       "\n",
       "A data.frame: 12 × 7\n",
       "\n",
       "| <!--/--> | IID &lt;int&gt; | f.4836.0.0.rc &lt;ord&gt; | f.4836.1.0.rc &lt;ord&gt; | f.4836.2.0.rc &lt;ord&gt; | f.4836.3.0.rc &lt;ord&gt; | visit &lt;list&gt; | loud_music &lt;dbl&gt; |\n",
       "|---|---|---|---|---|---|---|---|\n",
       "| 1 | 1000046 | NA | NA | 0  | NA | 0 | 0 |\n",
       "| 2 | 1000063 | 0  | NA | NA | NA | 0 | 0 |\n",
       "| 3 | 1000078 | NA | 0  | 0  | NA | 0, 0 | 0 |\n",
       "| 4 | 1000105 | 0  | NA | NA | NA | 0 | 0 |\n",
       "| 5 | 1000112 | NA | NA | 0  | NA | 0 | 0 |\n",
       "| 6 | 1000141 | 0  | NA | NA | NA | 0 | 0 |\n",
       "| 7 | 1000236 | 0  | NA | 0  | NA | 0, 0 | 0 |\n",
       "| 8 | 1000248 | 0  | NA | NA | NA | 0 | 0 |\n",
       "| 9 | 1000269 | NA | NA | 0  | NA | 0 | 0 |\n",
       "| 10 | 1000340 | 0  | NA | NA | NA | 0 | 0 |\n",
       "| 11 | 1000357 | 0  | NA | NA | NA | 0 | 0 |\n",
       "| 12 | 1000379 | 0  | NA | NA | NA | 0 | 0 |\n",
       "\n"
      ],
      "text/plain": [
       "   IID     f.4836.0.0.rc f.4836.1.0.rc f.4836.2.0.rc f.4836.3.0.rc visit\n",
       "1  1000046 NA            NA            0             NA            0    \n",
       "2  1000063 0             NA            NA            NA            0    \n",
       "3  1000078 NA            0             0             NA            0, 0 \n",
       "4  1000105 0             NA            NA            NA            0    \n",
       "5  1000112 NA            NA            0             NA            0    \n",
       "6  1000141 0             NA            NA            NA            0    \n",
       "7  1000236 0             NA            0             NA            0, 0 \n",
       "8  1000248 0             NA            NA            NA            0    \n",
       "9  1000269 NA            NA            0             NA            0    \n",
       "10 1000340 0             NA            NA            NA            0    \n",
       "11 1000357 0             NA            NA            NA            0    \n",
       "12 1000379 0             NA            NA            NA            0    \n",
       "   loud_music\n",
       "1  0         \n",
       "2  0         \n",
       "3  0         \n",
       "4  0         \n",
       "5  0         \n",
       "6  0         \n",
       "7  0         \n",
       "8  0         \n",
       "9  0         \n",
       "10 0         \n",
       "11 0         \n",
       "12 0         "
      ]
     },
     "metadata": {},
     "output_type": "display_data"
    },
    {
     "data": {
      "text/html": [
       "<style>\n",
       ".list-inline {list-style: none; margin:0; padding: 0}\n",
       ".list-inline>li {display: inline-block}\n",
       ".list-inline>li:not(:last-child)::after {content: \"\\00b7\"; padding: 0 .5ex}\n",
       "</style>\n",
       "<ol class=list-inline><li>143309</li><li>7</li></ol>\n"
      ],
      "text/latex": [
       "\\begin{enumerate*}\n",
       "\\item 143309\n",
       "\\item 7\n",
       "\\end{enumerate*}\n"
      ],
      "text/markdown": [
       "1. 143309\n",
       "2. 7\n",
       "\n",
       "\n"
      ],
      "text/plain": [
       "[1] 143309      7"
      ]
     },
     "metadata": {},
     "output_type": "display_data"
    }
   ],
   "source": [
    "# Function to get the final code for \"loud_music\"\n",
    "f<-function(x){\n",
    "  l=length(x$visit)\n",
    "  if (l==1){ # only one answer available\n",
    "    result=x$visit\n",
    "  }\n",
    "  else{ # more then one answer available\n",
    "    result=x$visit[1]\n",
    "    for (i in 2:l){\n",
    "      if (x$visit[i] >= x$visit[i-1]){result=x$visit[i]} # consistent ones\n",
    "      else {result=NA; break} # inconsistent ones\n",
    "    }\n",
    "  }\n",
    "  return(result)\n",
    "}\n",
    "\n",
    "# Apply the above function and remove NAs\n",
    "data_music$loud_music<-apply(data_music, 1, f)\n",
    "data_music<-data_music %>%\n",
    "  filter(!is.na(loud_music)) \n",
    "head(data_music, 12) # note: loud_music code generated here is numeric, not factor\n",
    "dim(data_music)"
   ]
  },
  {
   "cell_type": "code",
   "execution_count": 36,
   "metadata": {
    "kernel": "R"
   },
   "outputs": [
    {
     "data": {
      "text/html": [
       "<style>\n",
       ".list-inline {list-style: none; margin:0; padding: 0}\n",
       ".list-inline>li {display: inline-block}\n",
       ".list-inline>li:not(:last-child)::after {content: \"\\00b7\"; padding: 0 .5ex}\n",
       "</style>\n",
       "<ol class=list-inline><li>354347</li><li>1081</li></ol>\n"
      ],
      "text/latex": [
       "\\begin{enumerate*}\n",
       "\\item 354347\n",
       "\\item 1081\n",
       "\\end{enumerate*}\n"
      ],
      "text/markdown": [
       "1. 354347\n",
       "2. 1081\n",
       "\n",
       "\n"
      ],
      "text/plain": [
       "[1] 354347   1081"
      ]
     },
     "metadata": {},
     "output_type": "display_data"
    }
   ],
   "source": [
    "# Merge all of the variables in the final dataset\n",
    "df.final = merge(x = df.noise,y = data_music[,c(\"IID\", \"loud_music\")],by=\"IID\", all.x=TRUE)\n",
    "dim(df.final)                            "
   ]
  },
  {
   "cell_type": "code",
   "execution_count": 37,
   "metadata": {
    "kernel": "R"
   },
   "outputs": [
    {
     "data": {
      "text/html": [
       "<style>\n",
       ".list-inline {list-style: none; margin:0; padding: 0}\n",
       ".list-inline>li {display: inline-block}\n",
       ".list-inline>li:not(:last-child)::after {content: \"\\00b7\"; padding: 0 .5ex}\n",
       "</style>\n",
       "<ol class=list-inline><li>&lt;NA&gt;</li><li>&lt;NA&gt;</li><li>&lt;NA&gt;</li><li>73</li><li>&lt;NA&gt;</li><li>43</li></ol>\n"
      ],
      "text/latex": [
       "\\begin{enumerate*}\n",
       "\\item <NA>\n",
       "\\item <NA>\n",
       "\\item <NA>\n",
       "\\item 73\n",
       "\\item <NA>\n",
       "\\item 43\n",
       "\\end{enumerate*}\n"
      ],
      "text/markdown": [
       "1. &lt;NA&gt;\n",
       "2. &lt;NA&gt;\n",
       "3. &lt;NA&gt;\n",
       "4. 73\n",
       "5. &lt;NA&gt;\n",
       "6. 43\n",
       "\n",
       "\n"
      ],
      "text/plain": [
       "[1] NA NA NA 73 NA 43"
      ]
     },
     "metadata": {},
     "output_type": "display_data"
    }
   ],
   "source": [
    "head(df.final$age_final)"
   ]
  },
  {
   "cell_type": "markdown",
   "metadata": {
    "kernel": "R"
   },
   "source": [
    "### g. Exporting the final phenotype file Tinnitus with complete cases for association analyses"
   ]
  },
  {
   "cell_type": "code",
   "execution_count": 38,
   "metadata": {
    "kernel": "R"
   },
   "outputs": [
    {
     "data": {
      "text/html": [
       "<table>\n",
       "<caption>A data.frame: 6 × 7</caption>\n",
       "<thead>\n",
       "\t<tr><th></th><th scope=col>FID</th><th scope=col>IID</th><th scope=col>age</th><th scope=col>sex</th><th scope=col>tinnitus</th><th scope=col>noise_wp</th><th scope=col>loud_music</th></tr>\n",
       "\t<tr><th></th><th scope=col>&lt;int&gt;</th><th scope=col>&lt;int&gt;</th><th scope=col>&lt;int&gt;</th><th scope=col>&lt;chr&gt;</th><th scope=col>&lt;chr&gt;</th><th scope=col>&lt;dbl&gt;</th><th scope=col>&lt;dbl&gt;</th></tr>\n",
       "</thead>\n",
       "<tbody>\n",
       "\t<tr><th scope=row>1</th><td>1000046</td><td>1000046</td><td>73</td><td>1</td><td>0</td><td>0</td><td>0</td></tr>\n",
       "\t<tr><th scope=row>2</th><td>1000063</td><td>1000063</td><td>43</td><td>0</td><td>0</td><td>0</td><td>0</td></tr>\n",
       "\t<tr><th scope=row>3</th><td>1000078</td><td>1000078</td><td>60</td><td>1</td><td>0</td><td>0</td><td>0</td></tr>\n",
       "\t<tr><th scope=row>4</th><td>1000105</td><td>1000105</td><td>54</td><td>1</td><td>1</td><td>0</td><td>0</td></tr>\n",
       "\t<tr><th scope=row>5</th><td>1000112</td><td>1000112</td><td>68</td><td>0</td><td>0</td><td>0</td><td>0</td></tr>\n",
       "\t<tr><th scope=row>6</th><td>1000141</td><td>1000141</td><td>49</td><td>1</td><td>0</td><td>0</td><td>0</td></tr>\n",
       "</tbody>\n",
       "</table>\n"
      ],
      "text/latex": [
       "A data.frame: 6 × 7\n",
       "\\begin{tabular}{r|lllllll}\n",
       "  & FID & IID & age & sex & tinnitus & noise\\_wp & loud\\_music\\\\\n",
       "  & <int> & <int> & <int> & <chr> & <chr> & <dbl> & <dbl>\\\\\n",
       "\\hline\n",
       "\t1 & 1000046 & 1000046 & 73 & 1 & 0 & 0 & 0\\\\\n",
       "\t2 & 1000063 & 1000063 & 43 & 0 & 0 & 0 & 0\\\\\n",
       "\t3 & 1000078 & 1000078 & 60 & 1 & 0 & 0 & 0\\\\\n",
       "\t4 & 1000105 & 1000105 & 54 & 1 & 1 & 0 & 0\\\\\n",
       "\t5 & 1000112 & 1000112 & 68 & 0 & 0 & 0 & 0\\\\\n",
       "\t6 & 1000141 & 1000141 & 49 & 1 & 0 & 0 & 0\\\\\n",
       "\\end{tabular}\n"
      ],
      "text/markdown": [
       "\n",
       "A data.frame: 6 × 7\n",
       "\n",
       "| <!--/--> | FID &lt;int&gt; | IID &lt;int&gt; | age &lt;int&gt; | sex &lt;chr&gt; | tinnitus &lt;chr&gt; | noise_wp &lt;dbl&gt; | loud_music &lt;dbl&gt; |\n",
       "|---|---|---|---|---|---|---|---|\n",
       "| 1 | 1000046 | 1000046 | 73 | 1 | 0 | 0 | 0 |\n",
       "| 2 | 1000063 | 1000063 | 43 | 0 | 0 | 0 | 0 |\n",
       "| 3 | 1000078 | 1000078 | 60 | 1 | 0 | 0 | 0 |\n",
       "| 4 | 1000105 | 1000105 | 54 | 1 | 1 | 0 | 0 |\n",
       "| 5 | 1000112 | 1000112 | 68 | 0 | 0 | 0 | 0 |\n",
       "| 6 | 1000141 | 1000141 | 49 | 1 | 0 | 0 | 0 |\n",
       "\n"
      ],
      "text/plain": [
       "  FID     IID     age sex tinnitus noise_wp loud_music\n",
       "1 1000046 1000046 73  1   0        0        0         \n",
       "2 1000063 1000063 43  0   0        0        0         \n",
       "3 1000078 1000078 60  1   0        0        0         \n",
       "4 1000105 1000105 54  1   1        0        0         \n",
       "5 1000112 1000112 68  0   0        0        0         \n",
       "6 1000141 1000141 49  1   0        0        0         "
      ]
     },
     "metadata": {},
     "output_type": "display_data"
    },
    {
     "data": {
      "text/html": [
       "<style>\n",
       ".list-inline {list-style: none; margin:0; padding: 0}\n",
       ".list-inline>li {display: inline-block}\n",
       ".list-inline>li:not(:last-child)::after {content: \"\\00b7\"; padding: 0 .5ex}\n",
       "</style>\n",
       "<ol class=list-inline><li>142082</li><li>7</li></ol>\n"
      ],
      "text/latex": [
       "\\begin{enumerate*}\n",
       "\\item 142082\n",
       "\\item 7\n",
       "\\end{enumerate*}\n"
      ],
      "text/markdown": [
       "1. 142082\n",
       "2. 7\n",
       "\n",
       "\n"
      ],
      "text/plain": [
       "[1] 142082      7"
      ]
     },
     "metadata": {},
     "output_type": "display_data"
    }
   ],
   "source": [
    "# Last renaming and recoding\n",
    "df.final$tinnitus <- revalue(df.final$tinnitus, c(\"No\" = '0', 'Yes'='1' ))\n",
    "names(df.final)[names(df.final) == \"age_final\"] <- \"age\"\n",
    "\n",
    "# Creating the file for subsequent association analyses\n",
    "\n",
    "tinnitus_cc <- df.final %>%\n",
    "  filter(!is.na(tinnitus)) %>%\n",
    "  select(FID, IID, age, sex, tinnitus, noise_wp, loud_music)\n",
    "head(tinnitus_cc)\n",
    "dim(tinnitus_cc)"
   ]
  },
  {
   "cell_type": "code",
   "execution_count": 39,
   "metadata": {
    "kernel": "R"
   },
   "outputs": [
    {
     "data": {
      "text/html": [
       "2164"
      ],
      "text/latex": [
       "2164"
      ],
      "text/markdown": [
       "2164"
      ],
      "text/plain": [
       "[1] 2164"
      ]
     },
     "metadata": {},
     "output_type": "display_data"
    }
   ],
   "source": [
    "length(which(is.na(tinnitus_cc$noise_wp)))"
   ]
  },
  {
   "cell_type": "code",
   "execution_count": 40,
   "metadata": {
    "kernel": "R"
   },
   "outputs": [
    {
     "data": {
      "text/html": [
       "2773"
      ],
      "text/latex": [
       "2773"
      ],
      "text/markdown": [
       "2773"
      ],
      "text/plain": [
       "[1] 2773"
      ]
     },
     "metadata": {},
     "output_type": "display_data"
    }
   ],
   "source": [
    "length(which(is.na(tinnitus_cc$loud_music)))"
   ]
  },
  {
   "cell_type": "code",
   "execution_count": 41,
   "metadata": {
    "kernel": "R"
   },
   "outputs": [
    {
     "data": {
      "text/html": [
       "301"
      ],
      "text/latex": [
       "301"
      ],
      "text/markdown": [
       "301"
      ],
      "text/plain": [
       "[1] 301"
      ]
     },
     "metadata": {},
     "output_type": "display_data"
    }
   ],
   "source": [
    "length(which(is.na(tinnitus_cc$loud_music) & is.na(tinnitus_cc$noise_wp)))"
   ]
  },
  {
   "cell_type": "code",
   "execution_count": 42,
   "metadata": {
    "kernel": "R"
   },
   "outputs": [
    {
     "data": {
      "text/html": [
       "4636"
      ],
      "text/latex": [
       "4636"
      ],
      "text/markdown": [
       "4636"
      ],
      "text/plain": [
       "[1] 4636"
      ]
     },
     "metadata": {},
     "output_type": "display_data"
    }
   ],
   "source": [
    "length(which(is.na(tinnitus_cc$loud_music) | is.na(tinnitus_cc$noise_wp))) #noise variables missing cases"
   ]
  },
  {
   "cell_type": "code",
   "execution_count": 43,
   "metadata": {
    "kernel": "R"
   },
   "outputs": [],
   "source": [
    "# Export to file in correct format \n",
    "# Contains all tinnitus cases, noise variables some are NA\n",
    "write.table(tinnitus_cc, '200716_UKBB_Tinnitus_f4803', quote = FALSE, row.names = FALSE)"
   ]
  },
  {
   "cell_type": "code",
   "execution_count": 44,
   "metadata": {
    "kernel": "R"
   },
   "outputs": [
    {
     "data": {
      "text/html": [
       "<table>\n",
       "<caption>A data.frame: 6 × 7</caption>\n",
       "<thead>\n",
       "\t<tr><th></th><th scope=col>FID</th><th scope=col>IID</th><th scope=col>age</th><th scope=col>sex</th><th scope=col>tinnitus</th><th scope=col>noise_wp</th><th scope=col>loud_music</th></tr>\n",
       "\t<tr><th></th><th scope=col>&lt;int&gt;</th><th scope=col>&lt;int&gt;</th><th scope=col>&lt;int&gt;</th><th scope=col>&lt;chr&gt;</th><th scope=col>&lt;chr&gt;</th><th scope=col>&lt;dbl&gt;</th><th scope=col>&lt;dbl&gt;</th></tr>\n",
       "</thead>\n",
       "<tbody>\n",
       "\t<tr><th scope=row>1</th><td>1000046</td><td>1000046</td><td>73</td><td>1</td><td>0</td><td>0</td><td>0</td></tr>\n",
       "\t<tr><th scope=row>2</th><td>1000063</td><td>1000063</td><td>43</td><td>0</td><td>0</td><td>0</td><td>0</td></tr>\n",
       "\t<tr><th scope=row>3</th><td>1000078</td><td>1000078</td><td>60</td><td>1</td><td>0</td><td>0</td><td>0</td></tr>\n",
       "\t<tr><th scope=row>4</th><td>1000105</td><td>1000105</td><td>54</td><td>1</td><td>1</td><td>0</td><td>0</td></tr>\n",
       "\t<tr><th scope=row>5</th><td>1000112</td><td>1000112</td><td>68</td><td>0</td><td>0</td><td>0</td><td>0</td></tr>\n",
       "\t<tr><th scope=row>6</th><td>1000141</td><td>1000141</td><td>49</td><td>1</td><td>0</td><td>0</td><td>0</td></tr>\n",
       "</tbody>\n",
       "</table>\n"
      ],
      "text/latex": [
       "A data.frame: 6 × 7\n",
       "\\begin{tabular}{r|lllllll}\n",
       "  & FID & IID & age & sex & tinnitus & noise\\_wp & loud\\_music\\\\\n",
       "  & <int> & <int> & <int> & <chr> & <chr> & <dbl> & <dbl>\\\\\n",
       "\\hline\n",
       "\t1 & 1000046 & 1000046 & 73 & 1 & 0 & 0 & 0\\\\\n",
       "\t2 & 1000063 & 1000063 & 43 & 0 & 0 & 0 & 0\\\\\n",
       "\t3 & 1000078 & 1000078 & 60 & 1 & 0 & 0 & 0\\\\\n",
       "\t4 & 1000105 & 1000105 & 54 & 1 & 1 & 0 & 0\\\\\n",
       "\t5 & 1000112 & 1000112 & 68 & 0 & 0 & 0 & 0\\\\\n",
       "\t6 & 1000141 & 1000141 & 49 & 1 & 0 & 0 & 0\\\\\n",
       "\\end{tabular}\n"
      ],
      "text/markdown": [
       "\n",
       "A data.frame: 6 × 7\n",
       "\n",
       "| <!--/--> | FID &lt;int&gt; | IID &lt;int&gt; | age &lt;int&gt; | sex &lt;chr&gt; | tinnitus &lt;chr&gt; | noise_wp &lt;dbl&gt; | loud_music &lt;dbl&gt; |\n",
       "|---|---|---|---|---|---|---|---|\n",
       "| 1 | 1000046 | 1000046 | 73 | 1 | 0 | 0 | 0 |\n",
       "| 2 | 1000063 | 1000063 | 43 | 0 | 0 | 0 | 0 |\n",
       "| 3 | 1000078 | 1000078 | 60 | 1 | 0 | 0 | 0 |\n",
       "| 4 | 1000105 | 1000105 | 54 | 1 | 1 | 0 | 0 |\n",
       "| 5 | 1000112 | 1000112 | 68 | 0 | 0 | 0 | 0 |\n",
       "| 6 | 1000141 | 1000141 | 49 | 1 | 0 | 0 | 0 |\n",
       "\n"
      ],
      "text/plain": [
       "  FID     IID     age sex tinnitus noise_wp loud_music\n",
       "1 1000046 1000046 73  1   0        0        0         \n",
       "2 1000063 1000063 43  0   0        0        0         \n",
       "3 1000078 1000078 60  1   0        0        0         \n",
       "4 1000105 1000105 54  1   1        0        0         \n",
       "5 1000112 1000112 68  0   0        0        0         \n",
       "6 1000141 1000141 49  1   0        0        0         "
      ]
     },
     "metadata": {},
     "output_type": "display_data"
    },
    {
     "data": {
      "text/html": [
       "<style>\n",
       ".list-inline {list-style: none; margin:0; padding: 0}\n",
       ".list-inline>li {display: inline-block}\n",
       ".list-inline>li:not(:last-child)::after {content: \"\\00b7\"; padding: 0 .5ex}\n",
       "</style>\n",
       "<ol class=list-inline><li>137446</li><li>7</li></ol>\n"
      ],
      "text/latex": [
       "\\begin{enumerate*}\n",
       "\\item 137446\n",
       "\\item 7\n",
       "\\end{enumerate*}\n"
      ],
      "text/markdown": [
       "1. 137446\n",
       "2. 7\n",
       "\n",
       "\n"
      ],
      "text/plain": [
       "[1] 137446      7"
      ]
     },
     "metadata": {},
     "output_type": "display_data"
    }
   ],
   "source": [
    "tinnitus_complete <- df.final %>%\n",
    "  filter(!is.na(tinnitus) & !is.na(noise_wp) & !is.na(loud_music)) %>%\n",
    "  select(FID, IID, age, sex, tinnitus, noise_wp, loud_music)\n",
    "head(tinnitus_complete)\n",
    "dim(tinnitus_complete)"
   ]
  },
  {
   "cell_type": "code",
   "execution_count": 45,
   "metadata": {
    "kernel": "R"
   },
   "outputs": [],
   "source": [
    "# Export file tinnitus complete cases (no missing data for noise variables)\n",
    "write.table(tinnitus_complete,'200722_UKBB_Tinnitus_f4803_completecases', quote = FALSE, row.names = FALSE)"
   ]
  },
  {
   "cell_type": "code",
   "execution_count": 46,
   "metadata": {
    "kernel": "R"
   },
   "outputs": [],
   "source": [
    "# Export complete database to extract the rest of phenotypes\n",
    "write.csv(df.final,'200716_UKBB_HI_genotypeqc.csv', row.names = FALSE)"
   ]
  },
  {
   "cell_type": "markdown",
   "metadata": {
    "kernel": "R"
   },
   "source": [
    "### h. Imputation of noise variables using average"
   ]
  },
  {
   "cell_type": "markdown",
   "metadata": {
    "kernel": "R"
   },
   "source": [
    "Calculate mean and median for the entire sample (n=142,082)"
   ]
  },
  {
   "cell_type": "code",
   "execution_count": 47,
   "metadata": {
    "kernel": "R"
   },
   "outputs": [
    {
     "data": {
      "text/html": [
       "0.521569776583427"
      ],
      "text/latex": [
       "0.521569776583427"
      ],
      "text/markdown": [
       "0.521569776583427"
      ],
      "text/plain": [
       "[1] 0.5215698"
      ]
     },
     "metadata": {},
     "output_type": "display_data"
    },
    {
     "data": {
      "text/html": [
       "0"
      ],
      "text/latex": [
       "0"
      ],
      "text/markdown": [
       "0"
      ],
      "text/plain": [
       "[1] 0"
      ]
     },
     "metadata": {},
     "output_type": "display_data"
    }
   ],
   "source": [
    "mean(tinnitus_cc$noise_wp, na.rm=TRUE)\n",
    "median(tinnitus_cc$noise_wp, na.rm=TRUE)"
   ]
  },
  {
   "cell_type": "markdown",
   "metadata": {
    "kernel": "R"
   },
   "source": [
    "Calculate the mean and median in cases and controls"
   ]
  },
  {
   "cell_type": "code",
   "execution_count": 48,
   "metadata": {
    "kernel": "R"
   },
   "outputs": [
    {
     "data": {
      "text/html": [
       "0.772771839204151"
      ],
      "text/latex": [
       "0.772771839204151"
      ],
      "text/markdown": [
       "0.772771839204151"
      ],
      "text/plain": [
       "[1] 0.7727718"
      ]
     },
     "metadata": {},
     "output_type": "display_data"
    },
    {
     "data": {
      "text/html": [
       "0"
      ],
      "text/latex": [
       "0"
      ],
      "text/markdown": [
       "0"
      ],
      "text/plain": [
       "[1] 0"
      ]
     },
     "metadata": {},
     "output_type": "display_data"
    }
   ],
   "source": [
    "mean(subset(tinnitus_cc, tinnitus == 1)$noise_wp, na.rm=TRUE)\n",
    "median(subset(tinnitus_cc, tinnitus == 1)$noise_wp, na.rm=TRUE)"
   ]
  },
  {
   "cell_type": "code",
   "execution_count": 49,
   "metadata": {
    "kernel": "R"
   },
   "outputs": [
    {
     "data": {
      "text/html": [
       "0.414491187653541"
      ],
      "text/latex": [
       "0.414491187653541"
      ],
      "text/markdown": [
       "0.414491187653541"
      ],
      "text/plain": [
       "[1] 0.4144912"
      ]
     },
     "metadata": {},
     "output_type": "display_data"
    },
    {
     "data": {
      "text/html": [
       "0"
      ],
      "text/latex": [
       "0"
      ],
      "text/markdown": [
       "0"
      ],
      "text/plain": [
       "[1] 0"
      ]
     },
     "metadata": {},
     "output_type": "display_data"
    }
   ],
   "source": [
    "mean(subset(tinnitus_cc, tinnitus == 0)$noise_wp, na.rm=TRUE)\n",
    "median(subset(tinnitus_cc, tinnitus == 0)$noise_wp, na.rm=TRUE)"
   ]
  },
  {
   "cell_type": "markdown",
   "metadata": {
    "kernel": "R"
   },
   "source": [
    "Impute values of noisy workplace using the median"
   ]
  },
  {
   "cell_type": "code",
   "execution_count": 53,
   "metadata": {
    "kernel": "R"
   },
   "outputs": [
    {
     "data": {
      "text/html": [
       "<table>\n",
       "<caption>A grouped_df: 10 × 3</caption>\n",
       "<thead>\n",
       "\t<tr><th scope=col>IID</th><th scope=col>tinnitus</th><th scope=col>noise_imp</th></tr>\n",
       "\t<tr><th scope=col>&lt;int&gt;</th><th scope=col>&lt;chr&gt;</th><th scope=col>&lt;dbl&gt;</th></tr>\n",
       "</thead>\n",
       "<tbody>\n",
       "\t<tr><td>1000046</td><td>0</td><td>0</td></tr>\n",
       "\t<tr><td>1000063</td><td>0</td><td>0</td></tr>\n",
       "\t<tr><td>1000078</td><td>0</td><td>0</td></tr>\n",
       "\t<tr><td>1000105</td><td>1</td><td>0</td></tr>\n",
       "\t<tr><td>1000112</td><td>0</td><td>0</td></tr>\n",
       "\t<tr><td>1000141</td><td>0</td><td>0</td></tr>\n",
       "\t<tr><td>1000236</td><td>0</td><td>0</td></tr>\n",
       "\t<tr><td>1000248</td><td>0</td><td>3</td></tr>\n",
       "\t<tr><td>1000269</td><td>0</td><td>0</td></tr>\n",
       "\t<tr><td>1000340</td><td>0</td><td>0</td></tr>\n",
       "</tbody>\n",
       "</table>\n"
      ],
      "text/latex": [
       "A grouped\\_df: 10 × 3\n",
       "\\begin{tabular}{lll}\n",
       " IID & tinnitus & noise\\_imp\\\\\n",
       " <int> & <chr> & <dbl>\\\\\n",
       "\\hline\n",
       "\t 1000046 & 0 & 0\\\\\n",
       "\t 1000063 & 0 & 0\\\\\n",
       "\t 1000078 & 0 & 0\\\\\n",
       "\t 1000105 & 1 & 0\\\\\n",
       "\t 1000112 & 0 & 0\\\\\n",
       "\t 1000141 & 0 & 0\\\\\n",
       "\t 1000236 & 0 & 0\\\\\n",
       "\t 1000248 & 0 & 3\\\\\n",
       "\t 1000269 & 0 & 0\\\\\n",
       "\t 1000340 & 0 & 0\\\\\n",
       "\\end{tabular}\n"
      ],
      "text/markdown": [
       "\n",
       "A grouped_df: 10 × 3\n",
       "\n",
       "| IID &lt;int&gt; | tinnitus &lt;chr&gt; | noise_imp &lt;dbl&gt; |\n",
       "|---|---|---|\n",
       "| 1000046 | 0 | 0 |\n",
       "| 1000063 | 0 | 0 |\n",
       "| 1000078 | 0 | 0 |\n",
       "| 1000105 | 1 | 0 |\n",
       "| 1000112 | 0 | 0 |\n",
       "| 1000141 | 0 | 0 |\n",
       "| 1000236 | 0 | 0 |\n",
       "| 1000248 | 0 | 3 |\n",
       "| 1000269 | 0 | 0 |\n",
       "| 1000340 | 0 | 0 |\n",
       "\n"
      ],
      "text/plain": [
       "   IID     tinnitus noise_imp\n",
       "1  1000046 0        0        \n",
       "2  1000063 0        0        \n",
       "3  1000078 0        0        \n",
       "4  1000105 1        0        \n",
       "5  1000112 0        0        \n",
       "6  1000141 0        0        \n",
       "7  1000236 0        0        \n",
       "8  1000248 0        3        \n",
       "9  1000269 0        0        \n",
       "10 1000340 0        0        "
      ]
     },
     "metadata": {},
     "output_type": "display_data"
    }
   ],
   "source": [
    "noise.imp <-df.final %>% \n",
    "  filter(!is.na(tinnitus)) %>%\n",
    "  select(IID, tinnitus, noise_wp) %>%\n",
    "  group_by(tinnitus) %>%\n",
    "  mutate(noise_wp=ifelse(is.na(noise_wp),median(noise_wp,na.rm=TRUE),noise_wp))\n",
    "noise.imp.fin <- rename(noise.imp, noise_imp = noise_wp)\n",
    "head(noise.imp.fin, 10)"
   ]
  },
  {
   "cell_type": "markdown",
   "metadata": {
    "kernel": "R"
   },
   "source": [
    "Impute values for loud music exposure using then median"
   ]
  },
  {
   "cell_type": "code",
   "execution_count": 54,
   "metadata": {
    "kernel": "R"
   },
   "outputs": [
    {
     "data": {
      "text/html": [
       "<table>\n",
       "<caption>A grouped_df: 10 × 3</caption>\n",
       "<thead>\n",
       "\t<tr><th scope=col>IID</th><th scope=col>tinnitus</th><th scope=col>music_imp</th></tr>\n",
       "\t<tr><th scope=col>&lt;int&gt;</th><th scope=col>&lt;chr&gt;</th><th scope=col>&lt;dbl&gt;</th></tr>\n",
       "</thead>\n",
       "<tbody>\n",
       "\t<tr><td>1000046</td><td>0</td><td>0</td></tr>\n",
       "\t<tr><td>1000063</td><td>0</td><td>0</td></tr>\n",
       "\t<tr><td>1000078</td><td>0</td><td>0</td></tr>\n",
       "\t<tr><td>1000105</td><td>1</td><td>0</td></tr>\n",
       "\t<tr><td>1000112</td><td>0</td><td>0</td></tr>\n",
       "\t<tr><td>1000141</td><td>0</td><td>0</td></tr>\n",
       "\t<tr><td>1000236</td><td>0</td><td>0</td></tr>\n",
       "\t<tr><td>1000248</td><td>0</td><td>0</td></tr>\n",
       "\t<tr><td>1000269</td><td>0</td><td>0</td></tr>\n",
       "\t<tr><td>1000340</td><td>0</td><td>0</td></tr>\n",
       "</tbody>\n",
       "</table>\n"
      ],
      "text/latex": [
       "A grouped\\_df: 10 × 3\n",
       "\\begin{tabular}{lll}\n",
       " IID & tinnitus & music\\_imp\\\\\n",
       " <int> & <chr> & <dbl>\\\\\n",
       "\\hline\n",
       "\t 1000046 & 0 & 0\\\\\n",
       "\t 1000063 & 0 & 0\\\\\n",
       "\t 1000078 & 0 & 0\\\\\n",
       "\t 1000105 & 1 & 0\\\\\n",
       "\t 1000112 & 0 & 0\\\\\n",
       "\t 1000141 & 0 & 0\\\\\n",
       "\t 1000236 & 0 & 0\\\\\n",
       "\t 1000248 & 0 & 0\\\\\n",
       "\t 1000269 & 0 & 0\\\\\n",
       "\t 1000340 & 0 & 0\\\\\n",
       "\\end{tabular}\n"
      ],
      "text/markdown": [
       "\n",
       "A grouped_df: 10 × 3\n",
       "\n",
       "| IID &lt;int&gt; | tinnitus &lt;chr&gt; | music_imp &lt;dbl&gt; |\n",
       "|---|---|---|\n",
       "| 1000046 | 0 | 0 |\n",
       "| 1000063 | 0 | 0 |\n",
       "| 1000078 | 0 | 0 |\n",
       "| 1000105 | 1 | 0 |\n",
       "| 1000112 | 0 | 0 |\n",
       "| 1000141 | 0 | 0 |\n",
       "| 1000236 | 0 | 0 |\n",
       "| 1000248 | 0 | 0 |\n",
       "| 1000269 | 0 | 0 |\n",
       "| 1000340 | 0 | 0 |\n",
       "\n"
      ],
      "text/plain": [
       "   IID     tinnitus music_imp\n",
       "1  1000046 0        0        \n",
       "2  1000063 0        0        \n",
       "3  1000078 0        0        \n",
       "4  1000105 1        0        \n",
       "5  1000112 0        0        \n",
       "6  1000141 0        0        \n",
       "7  1000236 0        0        \n",
       "8  1000248 0        0        \n",
       "9  1000269 0        0        \n",
       "10 1000340 0        0        "
      ]
     },
     "metadata": {},
     "output_type": "display_data"
    }
   ],
   "source": [
    "music.imp <-df.final %>% \n",
    "  filter(!is.na(tinnitus)) %>%\n",
    "  select(IID, tinnitus, loud_music) %>%\n",
    "  group_by(tinnitus) %>%\n",
    "  mutate(loud_music=ifelse(is.na(loud_music),median(loud_music,na.rm=TRUE),loud_music))\n",
    "music.imp.fin <- rename(music.imp, music_imp = loud_music )\n",
    "head(music.imp.fin,10)"
   ]
  },
  {
   "cell_type": "markdown",
   "metadata": {
    "kernel": "R"
   },
   "source": [
    "Merge with complete database"
   ]
  },
  {
   "cell_type": "code",
   "execution_count": null,
   "metadata": {
    "kernel": "R"
   },
   "outputs": [],
   "source": [
    "df.noise.imp <- merge(x = df.final,y = noise.imp.fin[,c(\"IID\",\"noise_imp\")],by=\"IID\", all.x=TRUE)"
   ]
  },
  {
   "cell_type": "code",
   "execution_count": null,
   "metadata": {
    "kernel": "R"
   },
   "outputs": [],
   "source": [
    "df.final.imp <- merge(x = df.noise.imp,y = music.imp.fin[,c(\"IID\", \"music_imp\")],by=\"IID\", all.x=TRUE)\n",
    "dim(df.final.imp)"
   ]
  },
  {
   "cell_type": "code",
   "execution_count": null,
   "metadata": {
    "kernel": "R"
   },
   "outputs": [],
   "source": [
    "tinnitus.imp <- df.final.imp %>%\n",
    "  filter(!is.na(tinnitus)) %>%\n",
    "  select(FID, IID, age, sex, tinnitus, noise_new, music_new)\n",
    "head(tinnitus.imp)\n",
    "dim(tinnitus.imp)"
   ]
  },
  {
   "cell_type": "code",
   "execution_count": null,
   "metadata": {
    "kernel": "R"
   },
   "outputs": [],
   "source": [
    "write.table(tinnitus.imp, '200720_UKBB_Tinnitus_f4803_noise_imp', quote = FALSE, row.names = FALSE)\n",
    "length(which(is.na(tinnitus.imp$noise_imp)))\n",
    "length(which(is.na(tinnitus.imp$music_imp)))"
   ]
  },
  {
   "cell_type": "markdown",
   "metadata": {
    "kernel": "R"
   },
   "source": [
    "### i. Descriptive statistics"
   ]
  },
  {
   "cell_type": "markdown",
   "metadata": {
    "kernel": "R"
   },
   "source": [
    "Are there differences in the sex proportions of tinnitus cases?"
   ]
  },
  {
   "cell_type": "code",
   "execution_count": null,
   "metadata": {
    "kernel": "R"
   },
   "outputs": [],
   "source": [
    "female.total = length(which(tinnitus_complete$sex==\"Female\"))\n",
    "male.total = length(which(tinnitus_complete$sex==\"Male\"))\n",
    "people.total= c(male.total, female.total)"
   ]
  },
  {
   "cell_type": "code",
   "execution_count": null,
   "metadata": {
    "kernel": "R"
   },
   "outputs": [],
   "source": [
    "female.cases = length(which(tinnitus_complete$tinnitus == \"Yes\" & tinnitus_complete$sex == \"Female\"))\n",
    "male.cases =length(which(tinnitus_complete$tinnitus == \"Yes\" & tinnitus_complete$sex == \"Male\")) \n",
    "people.cases = c(male.cases, female.cases)\n",
    "prop.test(people.cases, people.total)"
   ]
  },
  {
   "cell_type": "code",
   "execution_count": null,
   "metadata": {
    "kernel": "R"
   },
   "outputs": [],
   "source": [
    "female.controls = length(which(tinnitus_complete$tinnitus == \"No\" & tinnitus_complete$sex == \"Female\"))\n",
    "male.controls = length(which(tinnitus_complete$tinnitus == \"No\" & tinnitus_complete$sex == \"Male\"))\n",
    "people.controls = c(male.controls, female.controls)\n",
    "prop.test(people.controls, people.total)"
   ]
  },
  {
   "cell_type": "markdown",
   "metadata": {
    "kernel": "R"
   },
   "source": [
    "Are there differences in the sex proportions and noise variables?"
   ]
  },
  {
   "cell_type": "code",
   "execution_count": null,
   "metadata": {
    "kernel": "R"
   },
   "outputs": [],
   "source": []
  },
  {
   "cell_type": "markdown",
   "metadata": {
    "kernel": "R"
   },
   "source": [
    "## 2. SRT phenotype (quantitative)"
   ]
  },
  {
   "cell_type": "markdown",
   "metadata": {
    "kernel": "R"
   },
   "source": [
    "The phenotypes to be used are as follow:\n",
    "1. Left ear f.20019\n",
    "2. Right ear f.20021\n",
    "3. Best ear (create a new variable extracting the min SRT value among f.20019 and f.20021)\n",
    "4. Worst ear (create a new variable extracting the max SRT value among f.20019 and f.20021)\n",
    "\n",
    "Age is calculated as follow:\n",
    "\n",
    "- For people with repeated measures take age at last visit and measurement at last visit\n",
    "- For people with only one measure take age at that visit\n",
    "\n",
    "Sex corresponds to f.22001 (genetic sex):\n",
    "\n",
    "- Male = 0\n",
    "- Female = 1\n",
    "\n",
    "Noise variable and loud music exposure frequency: same as for Tinnitus\n",
    "                \n",
    "1. Remove inconsistent individuals \n",
    "    - said 1,2 or 3 and in following visits said 0\n",
    "    - said a higher exposure (e.g 3) and then a lower one (e.g 1 or 2) in following visits\n",
    "2. Retain consistent individuals and use highest reported exposure"
   ]
  },
  {
   "cell_type": "markdown",
   "metadata": {
    "kernel": "R"
   },
   "source": [
    "### a. Filter SRT codes"
   ]
  },
  {
   "cell_type": "code",
   "execution_count": null,
   "metadata": {
    "kernel": "R"
   },
   "outputs": [],
   "source": [
    "srt_all = df.final.imp %>% \n",
    "  select(IID, f.4803.0.0.rc, f.4803.1.0.rc, f.4803.2.0.rc, f.4803.3.0.rc, \n",
    "         f.21003.0.0,f.21003.1.0,f.21003.2.0,f.21003.3.0, \n",
    "         f.20019.0.0, f.20019.1.0, f.20019.2.0, f.20019.3.0,\n",
    "         f.20021.0.0,f.20021.1.0,f.20021.2.0,f.20021.3.0)\n",
    "\n",
    "head(srt_all)"
   ]
  },
  {
   "cell_type": "markdown",
   "metadata": {
    "kernel": "R"
   },
   "source": [
    "### b. Get the SRT score left ear"
   ]
  },
  {
   "cell_type": "code",
   "execution_count": null,
   "metadata": {
    "kernel": "R"
   },
   "outputs": [],
   "source": [
    "# find out the last srt score for left ear \n",
    "# Get the # of column where first replied Yes or No:\n",
    "srt_all$visit_idx = apply(srt_all, 1, function(x) unlist(which(x == 'Yes'| x == \"No\")))\n",
    "head(srt_all)"
   ]
  },
  {
   "cell_type": "code",
   "execution_count": null,
   "metadata": {
    "kernel": "R"
   },
   "outputs": [],
   "source": [
    "# Define offset:\n",
    "# offset: refers to the # of columns between the first srt score column (i.e.f.20019.0.0) and the first recode column (i.e.f.4803.0.0_recode)\n",
    "offset = which(colnames(srt_all) == 'f.20019.0.0') - which(colnames(srt_all) == 'f.4803.0.0.rc')\n",
    "\n",
    "# Define the function to extract the last time they said yes/no\n",
    "get_srt_left <- function(x) {\n",
    "  visit_index=x[which(colnames(srt_all)==\"visit_idx\")]\n",
    "  index=max(unlist(visit_index))+offset\n",
    "  srt_score=x[index]\n",
    "  final_score=unlist(srt_score)\n",
    "  if(is.null(final_score))\n",
    "  {final_score<-NA}\n",
    "  return(final_score)\n",
    "}\n",
    "\n",
    "# Get the final srt score for left ear\n",
    "srt_all$srt_score_left = apply(srt_all, 1, get_srt_left)\n",
    "head(srt_all)"
   ]
  },
  {
   "cell_type": "markdown",
   "metadata": {
    "kernel": "R"
   },
   "source": [
    "### c. Get the SRT score right ear"
   ]
  },
  {
   "cell_type": "code",
   "execution_count": null,
   "metadata": {
    "kernel": "R"
   },
   "outputs": [],
   "source": [
    "#find out the last srt score for right ear \n",
    "\n",
    "srt_all$visit_idx2 = apply(srt_all, 1, function(x) unlist(which(x == 'Yes'| x == \"No\")))\n",
    "\n",
    "# Define offset:\n",
    "# offset: refers to the # of columns between the first srt score column (i.e.f.20021.0.0) and the first recode column (i.e.f.4803.0.0_recode.y)\n",
    "offset = which(colnames(srt_all) == 'f.20021.0.0') - which(colnames(srt_all) == 'f.4803.0.0_recode.y')\n",
    "\n",
    "# Define the function to extract the last time they said yes/no \n",
    "get_srt_right <- function(x) {\n",
    "  visit_index2=x[which(colnames(srt_all)==\"visit_idx2\")]\n",
    "  index=max(unlist(visit_index2))+offset\n",
    "  srt_score=x[index]\n",
    "  final_score=unlist(srt_score)\n",
    "  if(is.null(final_score))\n",
    "  {final_score<-NA}\n",
    "  return(final_score)\n",
    "}\n",
    "\n",
    "# Get the final srt score for right ear\n",
    "srt_all$srt_score_right = apply(srt_all, 1, get_srt_right)\n",
    "\n",
    "res<-head(srt_all)"
   ]
  },
  {
   "cell_type": "markdown",
   "metadata": {
    "kernel": "R"
   },
   "source": [
    "### d. Find out the age of the individuals"
   ]
  },
  {
   "cell_type": "code",
   "execution_count": null,
   "metadata": {
    "kernel": "R"
   },
   "outputs": [],
   "source": [
    "# find out the last age for each of patient\n",
    "\n",
    "srt_all$visit_idx3 = apply(srt_all, 1, function(x) unlist(which(x == 'Yes'| x == \"No\")))\n",
    "\n",
    "# Define offset:\n",
    "# offset: refers to the # of columns between the first age column (i.e.f.21003.0.0.y) and the first recode column (i.e.f.4803.0.0_recode.y)\n",
    "offset = which(colnames(srt_all) == 'f.21003.0.0.y') - which(colnames(srt_all) == 'f.4803.0.0_recode.y')\n",
    "\n",
    "# Define the function to extract the last time they said yes/no\n",
    "get_srt_age <- function(x) {\n",
    "  visit_index3=x[which(colnames(srt_all)==\"visit_idx3\")]\n",
    "  index=max(unlist(visit_index3))+offset\n",
    "  srt_age=x[index]\n",
    "  final_age=unlist(srt_age)\n",
    "  if(is.null(final_age))\n",
    "  {final_age<-NA}\n",
    "  return(final_age)\n",
    "}\n",
    "\n",
    "# Get the final srt age\n",
    "srt_all$srt_age = apply(srt_all, 1, get_srt_age)\n",
    "\n",
    "res<-head(srt_all)\n",
    "\n",
    "#drop the unnecessary (temporary) variable\n",
    "srt_clean <- srt_all %>% \n",
    "select(-visit_idx,-visit_idx2, -visit_idx3)\n",
    "\n",
    "#NA for both ear (216526 individuals)\n",
    "srt_NA <- srt_clean %>% \n",
    "  filter(is.na(srt_score_left) & is.na(srt_score_right))\n",
    "\n",
    "#136222 for left ear\n",
    "left_ear <- srt_clean %>% \n",
    "  filter(!is.na(srt_score_left))\n",
    "\n",
    "#136205 for right ear\n",
    "right_ear <- srt_clean %>% \n",
    "  filter(!is.na(srt_score_right))"
   ]
  },
  {
   "cell_type": "markdown",
   "metadata": {
    "kernel": "R"
   },
   "source": [
    "### e. Descriptive statistics"
   ]
  },
  {
   "cell_type": "code",
   "execution_count": null,
   "metadata": {
    "kernel": "R"
   },
   "outputs": [],
   "source": [
    "#create a categorical variable to classify the score for left and right ear\n",
    "#137821 individuals have either right or left score, or both (216526 individuals who have neither the right nor left score are deleted)\n",
    "#134058 have either right or left score, or both  (deleting the outliers)\n",
    "srt_cat <- srt_clean %>%\n",
    "  filter(!is.na(srt_score_left) | !is.na(srt_score_right)) %>% \n",
    "  mutate(srt_left_cat = case_when(\n",
    "        srt_score_left < -5.5   ~  \"normal\",\n",
    "        -5.5 <= srt_score_left & srt_score_left <= -3.5   ~  \"insufficient\",\n",
    "          srt_score_left > -3.5  ~ \"poor\",\n",
    "         TRUE                    ~ \"\"\n",
    "  )) %>% \n",
    "  mutate(srt_right_cat = case_when(\n",
    "        srt_score_right < -5.5   ~  \"normal\",\n",
    "        -5.5 <= srt_score_right & srt_score_right <= -3.5   ~  \"insufficient\",\n",
    "          srt_score_right > -3.5  ~ \"poor\",\n",
    "         TRUE                    ~ \"\"\n",
    "  )) %>% \n",
    "  #remove the score 8 (outlier) for both ears\n",
    "  filter(!(srt_score_left == 8) & !(srt_score_right == 8))\n",
    "\n",
    "#to use the function max/min, replace all NA to 0 for numerical variables \n",
    "srt_fill_na <- srt_cat\n",
    "srt_fill_na[is.na(clean <- srt_cat)] <- 0\n",
    " \n",
    "\n",
    "# Create two new variables to show the best ear and the worst ear\n",
    "srt_best_worst <-  srt_fill_na %>% \n",
    "  mutate(best = apply(select(., starts_with(\"f.200\")), 1, function(x) min(x[x!=0])),\n",
    "         worst = apply(select(., starts_with(\"f.200\")), 1, function(x) max(x[x!=0]))\n",
    "  ) %>% \n",
    "  #replace the Inf and -Inf values with 0\n",
    "  mutate(best = if_else(best == Inf, 0, best),\n",
    "         worst = if_else(worst == -Inf, 0, worst)\n",
    "  )\n",
    "\n",
    "\n",
    "#replace 0 with NA\n",
    "library(dplyr) \n",
    "srt_best_worst <- na_if(srt_best_worst, 0)\n",
    "\n",
    "\n",
    "#summary statistics \n",
    "summary(srt_best_worst$srt_score_left)"
   ]
  },
  {
   "cell_type": "code",
   "execution_count": null,
   "metadata": {
    "kernel": "R"
   },
   "outputs": [],
   "source": [
    "summary(srt_best_worst$srt_score_right)"
   ]
  },
  {
   "cell_type": "code",
   "execution_count": null,
   "metadata": {
    "kernel": "R"
   },
   "outputs": [],
   "source": [
    "summary_left <- srt_best_worst %>%\n",
    "  filter(!is.na(srt_score_left)) %>% \n",
    "  summarise(std_left =sd(srt_score_left),\n",
    "          mean_left = mean(srt_score_left),\n",
    "          median_left = median(srt_score_left),\n",
    "          n = n()\n",
    "          ) \n",
    "\n",
    "summary_left "
   ]
  },
  {
   "cell_type": "code",
   "execution_count": null,
   "metadata": {
    "kernel": "R"
   },
   "outputs": [],
   "source": [
    "summary_right <- srt_best_worst %>%\n",
    "  filter(!is.na(srt_score_right)) %>% \n",
    "  summarise(std_right =sd(srt_score_right),\n",
    "          mean_right = mean(srt_score_right),\n",
    "          median_right = median(srt_score_right),\n",
    "          n = n()\n",
    "          ) \n",
    "\n",
    "summary_right"
   ]
  },
  {
   "cell_type": "markdown",
   "metadata": {
    "kernel": "R"
   },
   "source": [
    "### Plots"
   ]
  },
  {
   "cell_type": "code",
   "execution_count": null,
   "metadata": {
    "kernel": "R"
   },
   "outputs": [],
   "source": [
    "#histogram for SRT Score for Left Ear\n",
    "left_plot = srt_best_worst %>% \n",
    "  filter(!is.na(srt_score_left)) %>% \n",
    "  ggplot(aes(x = srt_score_left,color = srt_left_cat)) +\n",
    "      geom_histogram(binwidth = 0.1) +\n",
    "   labs(\n",
    "    title = \"SRT Score for Left Ear (by category)\",\n",
    "    x = \"SRT Score for Left \",\n",
    "    y = \"Count\"\n",
    "    ) + \n",
    "   scale_x_continuous(\n",
    "    breaks = c(-10, -5.5, -3.5, 0, 3.5, 5.5),\n",
    "    labels = c(\"-10\", \"-5.5\", \"-3.5\", \"0\", \"3.5\", \"5.5\")) +\n",
    "  scale_color_discrete(\"SRT Score Category\",labels=c(\"normal\",\"insuficient\",\"poor\")) \n",
    "\n",
    "\n",
    "left_plot"
   ]
  },
  {
   "cell_type": "code",
   "execution_count": null,
   "metadata": {
    "kernel": "R"
   },
   "outputs": [],
   "source": [
    "#QQ plot for SRT Score for Left Ear\n",
    "qq_left_total <- srt_best_worst %>% \n",
    "  filter(!is.na(srt_score_left)) %>% \n",
    "  ggplot(aes(sample = (srt_score_left - mean(srt_score_left))/sd(srt_score_left))) +\n",
    "  stat_qq() +\n",
    "  stat_qq_line() +\n",
    "  labs(title=\"QQ plot for SRT Score (Left)\",\n",
    "       y = \"SRT Score Quantile\",\n",
    "       x = \"Normal Quantile\") +\n",
    "theme_classic()\n",
    "\n",
    "qq_left_total"
   ]
  },
  {
   "cell_type": "code",
   "execution_count": null,
   "metadata": {
    "kernel": "R"
   },
   "outputs": [],
   "source": [
    "qq_left_by_cat <- srt_best_worst %>% \n",
    "  filter(!is.na(srt_score_left)) %>% \n",
    "  ggplot(aes(sample = (srt_score_left - mean(srt_score_left))/sd(srt_score_left), color = srt_left_cat)) +\n",
    "  stat_qq() +\n",
    "  stat_qq_line() +\n",
    "  labs(title=\"QQ plot for SRT Score (Left)\",\n",
    "       y = \"SRT Score Quantile\",\n",
    "       x = \"Normal Quantile\") +\n",
    "theme_classic()\n",
    "\n",
    "qq_left_by_cat"
   ]
  },
  {
   "cell_type": "code",
   "execution_count": null,
   "metadata": {
    "kernel": "R"
   },
   "outputs": [],
   "source": [
    "#histogram for SRT Score for Right Ear \n",
    "right_plot <- srt_best_worst %>% \n",
    "  filter(!is.na(srt_score_right)) %>% \n",
    "  ggplot(aes(x = srt_score_right, color=srt_right_cat) ) +\n",
    "      geom_histogram(binwidth = 0.1) +\n",
    "  labs(\n",
    "    title = \"SRT Score for Right Ear (by category)\",\n",
    "    x = \"SRT Score for Right \",\n",
    "    y = \"Count\"\n",
    "    ) + \n",
    "   scale_x_continuous(\n",
    "    breaks = c(-10, -5.5, -3.5, 0, 3.5, 5.5),\n",
    "    labels = c(\"-10\", \"-5.5\", \"-3.5\", \"0\", \"3.5\", \"5.5\")) +\n",
    "  scale_y_continuous(\n",
    "    breaks = c(2500, 5000, 7500, 10000, 12500, 15000),\n",
    "    labels = c(\"2500\", \"5000\", \"7500\", \"10000\", \"12500\", \"15000\")) +\n",
    "  scale_color_discrete(\"SRT Score Category\",labels=c(\"normal\",\"insuficient\",\"poor\")) \n",
    " \n",
    "right_plot"
   ]
  },
  {
   "cell_type": "code",
   "execution_count": null,
   "metadata": {
    "kernel": "R"
   },
   "outputs": [],
   "source": [
    "#QQ plot for SRT Score for Right Ear\n",
    "qq_right_total <- srt_best_worst %>% \n",
    "  filter(!is.na(srt_score_right)) %>% \n",
    "  ggplot(aes(sample = (srt_score_right - mean(srt_score_right))/sd(srt_score_right))) +\n",
    "  stat_qq(distribution = stats::qnorm) +\n",
    "  stat_qq_line() +\n",
    "  labs(title=\"QQ plot for SRT Score (Right)\",\n",
    "       y = \"SRT Score Quantile\",\n",
    "       x = \"Normal Quantile\") +\n",
    "theme_classic()\n",
    "\n",
    "qq_right_total"
   ]
  },
  {
   "cell_type": "code",
   "execution_count": null,
   "metadata": {
    "kernel": "R"
   },
   "outputs": [],
   "source": [
    "qq_right_by_cat <- srt_best_worst %>% \n",
    "  filter(!is.na(srt_score_right)) %>% \n",
    "  ggplot(aes(sample = (srt_score_right - mean(srt_score_right))/sd(srt_score_right), color = srt_right_cat)) +\n",
    "  stat_qq(distribution = stats::qnorm) +\n",
    "  stat_qq_line() +\n",
    "  labs(title=\"QQ plot for SRT Score (Right)\",\n",
    "       y = \"SRT Score Quantile\",\n",
    "       x = \"Normal Quantile\") +\n",
    "theme_classic()\n",
    "\n",
    "qq_right_by_cat"
   ]
  },
  {
   "cell_type": "code",
   "execution_count": null,
   "metadata": {
    "kernel": "R"
   },
   "outputs": [],
   "source": [
    "srt_best_worst_cat <- srt_best_worst %>%\n",
    "  mutate(srt_best_cat = case_when(\n",
    "        best < -5.5   ~  \"normal\",\n",
    "        -5.5 <= best & best <= -3.5   ~  \"insufficient\",\n",
    "          best > -3.5  ~ \"poor\",\n",
    "         TRUE                    ~ \"\"\n",
    "  )) %>% \n",
    "  mutate(srt_worst_cat = case_when(\n",
    "        worst < -5.5   ~  \"normal\",\n",
    "        -5.5 <= worst & worst <= -3.5   ~  \"insufficient\",\n",
    "          worst > -3.5  ~ \"poor\",\n",
    "         TRUE                    ~ \"\"\n",
    "  )) %>% \n",
    "  filter(!is.na(best) | !is.na(worst))\n",
    "\n",
    "\n",
    "\n",
    "best_plot <- srt_best_worst_cat %>% \n",
    "  ggplot(aes(x = best, color=srt_best_cat) ) +\n",
    "      geom_histogram(binwidth = 0.1) +\n",
    "  labs(\n",
    "    title = \"SRT Score for the Best Ear (by category)\",\n",
    "    x = \"SRT Score for the Best \",\n",
    "    y = \"Count\"\n",
    "    ) + \n",
    "   scale_x_continuous(\n",
    "    breaks = c(-10, -5.5, -3.5, 0, 3.5, 5.5),\n",
    "    labels = c(\"-10\", \"-5.5\", \"-3.5\", \"0\", \"3.5\", \"5.5\")) +\n",
    "  scale_y_continuous(\n",
    "    breaks = c(2500, 5000, 7500, 10000, 12500, 15000),\n",
    "    labels = c(\"2500\", \"5000\", \"7500\", \"10000\", \"12500\", \"15000\")) +\n",
    "  scale_color_discrete(\"SRT Score Category\",labels=c(\"normal\",\"insuficient\",\"poor\")) \n",
    " \n",
    "best_plot"
   ]
  },
  {
   "cell_type": "code",
   "execution_count": null,
   "metadata": {
    "kernel": "R"
   },
   "outputs": [],
   "source": [
    "qq_best <- srt_best_worst_cat %>% \n",
    "  ggplot(aes(sample = (best - mean(best))/sd(best))) +\n",
    "  stat_qq(distribution = stats::qnorm) +\n",
    "  stat_qq_line(col= 'blue') +\n",
    "  labs(title=\"QQ plot for the Best SRT Score\",\n",
    "       y = \"SRT Score Quantiles\",\n",
    "       x = \"normal Quantiles\") + \n",
    "theme_classic()  \n",
    "\n",
    "qq_best"
   ]
  },
  {
   "cell_type": "code",
   "execution_count": null,
   "metadata": {
    "kernel": "R"
   },
   "outputs": [],
   "source": [
    "worst_plot <- srt_best_worst_cat %>% \n",
    "  ggplot(aes(x = worst, color=srt_worst_cat)) +\n",
    "      geom_histogram(binwidth = 0.1) +\n",
    "  labs(\n",
    "    title = \"SRT Score for the Worst Ear (by category)\",\n",
    "    x = \"SRT Score for the Best \",\n",
    "    y = \"Count\"\n",
    "    ) + \n",
    "   scale_x_continuous(\n",
    "    breaks = c(-10, -5.5, -3.5, 0, 3.5, 5.5),\n",
    "    labels = c(\"-10\", \"-5.5\", \"-3.5\", \"0\", \"3.5\", \"5.5\")) +\n",
    "  scale_y_continuous(\n",
    "    breaks = c(2500, 5000, 7500, 10000, 12500, 15000),\n",
    "    labels = c(\"2500\", \"5000\", \"7500\", \"10000\", \"12500\", \"15000\")) +\n",
    "  scale_color_discrete(\"SRT Score Category\",labels=c(\"normal\",\"insuficient\",\"poor\")) \n",
    " \n",
    "\n",
    "worst_plot"
   ]
  },
  {
   "cell_type": "code",
   "execution_count": null,
   "metadata": {
    "kernel": "R"
   },
   "outputs": [],
   "source": [
    "qq_worst <- srt_best_worst_cat %>% \n",
    "  ggplot(aes(sample = (worst - mean(worst))/sd(worst))) +\n",
    "  stat_qq(distribution = stats::qnorm) +\n",
    "  stat_qq_line(col= 'blue') +\n",
    "  labs(title=\"QQ plot for the Worst SRT Score\",\n",
    "       y = \"SRT Score Quantiles\",\n",
    "       x = \"normal quantiles\") +\n",
    "theme_classic()  \n",
    "\n",
    "qq_worst"
   ]
  },
  {
   "cell_type": "code",
   "execution_count": null,
   "metadata": {
    "kernel": "R"
   },
   "outputs": [],
   "source": []
  }
 ],
 "metadata": {
  "kernelspec": {
   "display_name": "SoS",
   "language": "sos",
   "name": "sos"
  },
  "language_info": {
   "codemirror_mode": "sos",
   "file_extension": ".sos",
   "mimetype": "text/x-sos",
   "name": "sos",
   "nbconvert_exporter": "sos_notebook.converter.SoS_Exporter",
   "pygments_lexer": "sos"
  },
  "sos": {
   "kernels": [
    [
     "Bash",
     "bash",
     "Bash",
     "#E6EEFF",
     ""
    ],
    [
     "R",
     "ir",
     "R",
     "#DCDCDA",
     "r"
    ],
    [
     "SoS",
     "sos",
     "",
     "",
     "sos"
    ]
   ],
   "version": "0.21.7"
  }
 },
 "nbformat": 4,
 "nbformat_minor": 4
}
