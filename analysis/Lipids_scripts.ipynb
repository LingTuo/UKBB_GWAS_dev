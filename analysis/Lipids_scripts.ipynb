{
 "cells": [
  {
   "cell_type": "markdown",
   "metadata": {
    "kernel": "SoS"
   },
   "source": [
    "# Analyses of the lipids and other blood traits from UKBB"
   ]
  },
  {
   "cell_type": "markdown",
   "metadata": {
    "kernel": "SoS"
   },
   "source": [
    "This notebook applies the `Get_Job_Script.ipynb` to automatically generate the sbatch scripts to run in Yale's cluster. The end result is to apply [various LMM workflows](https://github.com/statgenetics/UKBB_GWAS_dev/tree/master/workflow) to perform association analysis of different lipid traits (cholesterol, HDL, LDL, triglycerides), do clumping analysis and extract associated regions."
   ]
  },
  {
   "cell_type": "markdown",
   "metadata": {
    "kernel": "SoS"
   },
   "source": [
    "## File paths on Yale cluster\n",
    "\n",
    "- Genotype files in PLINK format:\n",
    "`/gpfs/gibbs/pi/dewan/data/UKBiobank/genotype_files/pleiotropy_geneticfiles/UKB_Caucasians_phenotypeindepqc120319_updated020720removedwithdrawnindiv`\n",
    "- Genotype files in bgen format:\n",
    "`SAY/dbgapstg/scratch/UKBiobank/genotype_files/ukb39554_imputeddataset/`\n",
    "- Summary stats for imputed variants BOLT-LMM:\n",
    "`/gpfs/gibbs/pi/dewan/data/UKBiobank/results/BOLTLMM_results/results_imputed_data`\n",
    "- Summary stats for inputed variants FastGWA:\n",
    "`/gpfs/gibbs/pi/dewan/data/UKBiobank/results/FastGWA_results/results_imputed_data`\n",
    "- Phenotype files:\n",
    "`/gpfs/gibbs/pi/dewan/data/UKBiobank/phenotype_files/pleiotropy_R01/phenotypesforanalysis/UKB_Caucasiansubset_cholesterolfields_adjbymedstatus_062420_foranalysis`\n",
    "- Relationship file:\n",
    "`/gpfs/gibbs/pi/dewan/data/UKBiobank/genotype_files/pleiotropy_geneticfiles/unrelated_n307259/UKB_unrelatedcauc_phenotypes_asthmat2dbmiwaisthip_agesex_waisthipratio_040620`\n",
    "-Other traits to be analyzed:\n",
    "`/gpfs/gibbs/pi/dewan/data/UKBiobank/phenotype_files/pleiotropy_R01/phenotypesforanalysis/UKB_CAUC_lipidsforanalysis_apolipoproteinAandB,Hba1c_continuousandcategorical,egfrbyCKDEPI,serumcreatinine,UACR_inverseranknorm_110320`\n"
   ]
  },
  {
   "cell_type": "markdown",
   "metadata": {
    "kernel": "SoS"
   },
   "source": [
    "## 07/28/20 analysis\n",
    "\n",
    "On the cluster, open up this notebook using the JupyterLab server you set up via the ssh channel, then run the following cells,"
   ]
  },
  {
   "cell_type": "markdown",
   "metadata": {
    "kernel": "SoS"
   },
   "source": [
    "## Important analysis notes\n",
    "\n",
    "Corrected measures are being used for LDL (LDL/0.7) and total cholesterol (TC/0.8). Correction used for those on medication only. \n",
    "\n",
    "Triglycerides and HDL are used without correction.\n",
    "\n",
    "Covariates are age at recruitment, genetic sex, medication status, smoking (1 & 2), and alcohol (1, 2, 3, 4). Smoking and alcohol are dummy coded\n",
    "\n",
    "Alcohol: f.1558 (categories never/special ocassion collapsed)\n",
    "Smoking: f.20116 (never/former/current). Plan is to replace with f.20161 (pack years) once we have that variable.\n",
    "Medication status: cholesterolmedbyf6153or6177or20003 (It's what was used to adjust the phenotype)\n",
    "\n",
    "### Inverse rank normalized traits\n",
    "\n",
    "`/gpfs/gibbs/pi/dewan/data/UKBiobank/phenotype_files/pleiotropy_R01/phenotypesforanalysis/UKBCauc_cholesterolandbloodpressurefields_inverseranknorm_covariatesage,sex,alcohol,smokingpackyears_foranalysis`\n",
    "\n",
    "The variables for analysis are:\n",
    "\n",
    "1. HDL_inverseranknorm\n",
    "2. LDL_medcorrected_inverseranknorm\n",
    "3. triglycerides_inverseranknorm\n",
    "4. cholesterol.f30690_medcorrected_inverseranknorm\n",
    "5. diastolic_plus10inmedicated_inverserank\n",
    "6. systolic_plus15inmedicated_inverserank\n",
    "\n",
    "Potential covariates:\n",
    "\n",
    "* age\n",
    "* sex\n",
    "* smoking_packyears (there is also smoking_dummy1 and smoking_dummy2, which is from before we had the pack years available)\n",
    "* alcohol1, alcohol2, alcohol3, alcohol4\n",
    "\n",
    "**The phenotypes (the continuous ones have already been inverse rank normalized, as indicated by the _int at the ends of their names) are:**\n",
    "\n",
    "1. ApoA_int (Apolipoprotein A)\n",
    "2. ApoB_int (Apolipoprotein B)\n",
    "3. Creatinine_int (Serum Creatinine)\n",
    "4. Hba1c_int (continuous Hba1c)\n",
    "5. Hba1c_categorical (categorical Hba1c, with values 1-3: 1 is Hba1c <= 42, 2 is Hba1c > 42 & < 48, and 3 is Hba1c >= 48)\n",
    "6. eGFR_int (calculated with CKD-EPI equation using serum creatinine (µmol/l)),\n",
    "7. UACR_int (urinary albumin-to-creatinine ratio (UACR), calculated with urinary albumin (mg/dL) and urinary creatinine (g/dL))\n",
    "\n",
    "Covariates in the file are:\n",
    "* Age\n",
    "* Genetic Sex\n",
    "* Smoking (pack years)\n",
    "* Alcohol (dummy coded, Alcohol1, Alcohol2, Alcohol3, Alcohol4)"
   ]
  },
  {
   "cell_type": "markdown",
   "metadata": {
    "kernel": "SoS"
   },
   "source": [
    "## Bash variables for workflow configuration"
   ]
  },
  {
   "cell_type": "code",
   "execution_count": 1,
   "metadata": {
    "kernel": "Bash"
   },
   "outputs": [
    {
     "name": "stdout",
     "output_type": "stream",
     "text": [
      "\n"
     ]
    }
   ],
   "source": [
    "# Common variables\n",
    "tpl_file=../farnam.yml\n",
    "bfile=/gpfs/gibbs/pi/dewan/data/UKBiobank/genotype_files/pleiotropy_geneticfiles/UKB_Caucasians_phenotypeindepqc120319_updated082020removedwithdrawnindiv.bed\n",
    "sampleFile=/gpfs/gibbs/pi/dewan/data/UKBiobank/genotype_files/ukb39554_imputeddataset/ukb32285_imputedindiv.sample\n",
    "bgenFile=`echo /gpfs/gibbs/pi/dewan/data/UKBiobank/genotype_files/ukb39554_imputeddataset/ukb_imp_chr{1..22}_v3.bgen`\n",
    "unrelated_samples=/gpfs/gibbs/pi/dewan/data/UKBiobank/genotype_files/pleiotropy_geneticfiles/unrelated_n307259/UKB_unrelatedcauc_phenotypes_asthmat2dbmiwaisthip_agesex_waisthipratio_040620\n",
    "formatFile_fastgwa=~/project/UKBB_GWAS_dev/data/fastGWA_template.yml\n",
    "formatFile_bolt=~/project/UKBB_GWAS_dev/data/boltlmm_template.yml\n",
    "formatFile_saige=~/project/UKBB_GWAS_dev/data/saige_template.yml\n",
    "# Container\n",
    "container_lmm=/gpfs/gibbs/pi/dewan/data/UKBiobank/lmm.sif\n",
    "container_marp=/gpfs/gibbs/pi/dewan/data/UKBiobank/marp.sif\n",
    "# LMM directories\n",
    "lmm_dir_fastgwa=/gpfs/gibbs/pi/dewan/data/UKBiobank/results/FastGWA_results/results_imputed_data/\n",
    "lmm_dir_bolt=/gpfs/gibbs/pi/dewan/data/UKBiobank/results/BOLTLMM_results/results_imputed_data/\n",
    "lmm_dir_saige=/gpfs/gibbs/pi/dewan/data/UKBiobank/results/SAIGE_results/results_imputed_data/\n",
    "lmm_sos=~/project/bioworkflows/GWAS/LMM.ipynb\n",
    "lmm_sbatch_fastgwa=../output/$(date +\"%Y-%m-%d\")_imp-fastgwa.sbatch\n",
    "lmm_sbatch_bolt=../output/$(date +\"%Y-%m-%d\")_imp-bolt.sbatch\n",
    "lmm_sbatch_saige=../output/$(date +\"%Y-%m-%d\")_imp-saige.sbatch\n",
    "#Phenotype file\n",
    "phenoFile=/gpfs/gibbs/pi/dewan/data/UKBiobank/phenotype_files/pleiotropy_R01/phenotypesforanalysis/UKB_Caucasiansubset_cholesterolfields_adjbymedstatus_062420_foranalysis\n",
    "## LMM variables \n",
    "covarFile=/gpfs/gibbs/pi/dewan/data/UKBiobank/phenotype_files/pleiotropy_R01/phenotypesforanalysis/UKB_Caucasiansubset_cholesterolfields_adjbymedstatus_062420_foranalysis\n",
    "LDscoresFile=~/software/BOLT-LMM_v2.3.4/tables/LDSCORE.1000G_EUR.tab.gz\n",
    "geneticMapFile=~/software/BOLT-LMM_v2.3.4/tables/genetic_map_hg19_withX.txt.gz\n",
    "phenoCol=\"cholesterol.f30690_medcorrected\"\n",
    "covarCol=\"SEX cholesterolmedbyf6153or6177or20003 smoking{1:2} alcohol{1:4}\"\n",
    "covarMaxLevels=10\n",
    "qCovarCol=AGE\n",
    "numThreads=20\n",
    "bgenMinMAF=0.001\n",
    "bgenMinINFO=0.8\n",
    "lmm_job_size=1\n",
    "ylim=0\n",
    "### Specific to FastGWA\n",
    "grmFile=/gpfs/gibbs/pi/dewan/data/UKBiobank/results/FastGWA_results/results_imputed_data/UKB_Caucasians_phenotypeindepqc120319_updated020720removedwithdrawnindiv.grm.sp\n",
    "### Specific to SAIGE\n",
    "bgenMinMAC=4\n",
    "trait_type=quantitative\n",
    "loco=TRUE\n",
    "sampleCol=IID\n",
    "# LD clumping directories\n",
    "clumping_dir=/gpfs/gibbs/pi/dewan/data/UKBiobank/results/LD_clumping/\n",
    "clumping_sos=~/project/bioworkflows/GWAS/LD_Clumping.ipynb\n",
    "clumping_sbatch=../output/$(date +\"%Y-%m-%d\")_HDL_imp_ldclumping.sbatch\n",
    "## LD clumping variables\n",
    "# For sumtastsFiles if more than one provide each path\n",
    "bfile_ref=/gpfs/gibbs/pi/dewan/data/UKBiobank/results/LD_clumping/UKB_Caucasians_phenotypeindepqc120319_updated020720removedwithdrawnindiv.1210.ref_geno.bed\n",
    "# Changes dependending upon which traits are analyzed\n",
    "sumstatsFiles=/gpfs/gibbs/pi/dewan/data/UKBiobank/results/FastGWA_results/results_imputed_data/HDL/*.snp_stats.gz\n",
    "ld_sample_size=1210\n",
    "clump_field=P\n",
    "clump_p1=5e-08\n",
    "clump_p2=1\n",
    "clump_r2=0.2\n",
    "clump_kb=2000\n",
    "clump_annotate=BP\n",
    "numThreads=20\n",
    "clump_job_size=1\n",
    "#clumpFile= \n",
    "#clumregionFile=\n",
    "# Region extraction directories\n",
    "extract_dir=/gpfs/gibbs/pi/dewan/data/UKBiobank/results/region_extraction/HDL\n",
    "extract_sos=~/project/bioworkflows/GWAS/Region_Extraction.ipynb\n",
    "extract_sbatch=../output/$(date +\"%Y-%m-%d\")_HDL_imp-region.sbatch\n",
    "## Region extraction variables\n",
    "region_file=/gpfs/gibbs/pi/dewan/data/UKBiobank/results/LD_clumping/HDL/*.clumped_region\n",
    "geno_path=/gpfs/gibbs/pi/dewan/data/UKBiobank/results/UKBB_bgenfilepath.txt\n",
    "sumstats_path=/gpfs/gibbs/pi/dewan/data/UKBiobank/results/FastGWA_results/results_imputed_data/HDL/*.snp_stats.gz\n",
    "extract_job_size=10"
   ]
  },
  {
   "cell_type": "markdown",
   "metadata": {
    "kernel": "SoS"
   },
   "source": [
    "# Bolt-LMM jobs"
   ]
  },
  {
   "cell_type": "markdown",
   "metadata": {
    "kernel": "SoS"
   },
   "source": [
    "### HDL"
   ]
  },
  {
   "cell_type": "code",
   "execution_count": 2,
   "metadata": {
    "kernel": "Bash"
   },
   "outputs": [
    {
     "name": "stdout",
     "output_type": "stream",
     "text": [
      "INFO: Running \u001b[32mfarnam\u001b[0m: Configuration for Yale `farnam` cluster\n",
      "INFO: \u001b[32mfarnam\u001b[0m is \u001b[32mcompleted\u001b[0m.\n",
      "INFO: \u001b[32mfarnam\u001b[0m output:   \u001b[32m../output/2020-10-13_HDL_imp-bolt.sbatch\u001b[0m\n",
      "INFO: Workflow farnam (ID=39b24b87b30a8a06) is executed successfully with 1 completed step.\n",
      "\n"
     ]
    }
   ],
   "source": [
    "lmm_dir_bolt=/gpfs/gibbs/pi/dewan/data/UKBiobank/results/BOLTLMM_results/results_imputed_data/HDL\n",
    "lmm_sbatch_bolt=../output/$(date +\"%Y-%m-%d\")_HDL_imp-bolt.sbatch\n",
    "phenoCol=\"HDL\"\n",
    "covarCol=\"SEX cholesterolmedbyf6153or6177or20003 smoking{1:2} alcohol{1:4}\"\n",
    "qcovarCol=AGE\n",
    "\n",
    "lmm_args=\"\"\"boltlmm\n",
    "    --cwd $lmm_dir_bolt \n",
    "    --bfile $bfile \n",
    "    --sampleFile $sampleFile\n",
    "    --bgenFile $bgenFile \n",
    "    --phenoFile $phenoFile \n",
    "    --formatFile $formatFile_bolt \n",
    "    --covarFile $covarFile \n",
    "    --LDscoresFile $LDscoresFile \n",
    "    --geneticMapFile $geneticMapFile \n",
    "    --phenoCol $phenoCol \n",
    "    --covarCol $covarCol \n",
    "    --covarMaxLevels $covarMaxLevels \n",
    "    --qCovarCol $qCovarCol \n",
    "    --numThreads $numThreads \n",
    "    --bgenMinMAF $bgenMinMAF \n",
    "    --bgenMinINFO $bgenMinINFO \n",
    "    --job_size $lmm_job_size\n",
    "    --ylim $ylim\n",
    "    --container_lmm $container_lmm\n",
    "    --container_marp $container_marp\n",
    "\"\"\"\n",
    "\n",
    "sos run ~/project/bioworkflows/GWAS/Get_Job_Script.ipynb farnam \\\n",
    "    --template-file $tpl_file \\\n",
    "    --workflow-file $lmm_sos \\\n",
    "    --to-script $lmm_sbatch_bolt \\\n",
    "    --args \"$lmm_args\""
   ]
  },
  {
   "cell_type": "markdown",
   "metadata": {
    "kernel": "Bash"
   },
   "source": [
    "## Cholesterol"
   ]
  },
  {
   "cell_type": "code",
   "execution_count": 3,
   "metadata": {
    "kernel": "Bash"
   },
   "outputs": [
    {
     "name": "stdout",
     "output_type": "stream",
     "text": [
      "INFO: Running \u001b[32mfarnam\u001b[0m: Configuration for Yale `farnam` cluster\n",
      "INFO: \u001b[32mfarnam\u001b[0m is \u001b[32mcompleted\u001b[0m.\n",
      "INFO: \u001b[32mfarnam\u001b[0m output:   \u001b[32m../output/2020-12-15_cholesterol_imp-bolt.sbatch\u001b[0m\n",
      "INFO: Workflow farnam (ID=b178fdaaac231b03) is executed successfully with 1 completed step.\n",
      "\n"
     ]
    }
   ],
   "source": [
    "lmm_dir_bolt=/gpfs/gibbs/pi/dewan/data/UKBiobank/results/BOLTLMM_results/results_imputed_data/cholesterol\n",
    "lmm_sbatch_bolt=../output/$(date +\"%Y-%m-%d\")_cholesterol_imp-bolt.sbatch\n",
    "phenoCol=\"cholesterol.f30690_medcorrected\"\n",
    "covarCol=\"SEX cholesterolmedbyf6153or6177or20003 smoking{1:2} alcohol{1:4}\"\n",
    "qCovarCol=AGE\n",
    "\n",
    "lmm_args=\"\"\"boltlmm\n",
    "    --cwd $lmm_dir_bolt \n",
    "    --bfile $bfile \n",
    "    --sampleFile $sampleFile\n",
    "    --bgenFile $bgenFile \n",
    "    --phenoFile $phenoFile \n",
    "    --formatFile $formatFile_bolt \n",
    "    --covarFile $covarFile \n",
    "    --LDscoresFile $LDscoresFile \n",
    "    --geneticMapFile $geneticMapFile \n",
    "    --phenoCol $phenoCol \n",
    "    --covarCol $covarCol \n",
    "    --covarMaxLevels $covarMaxLevels \n",
    "    --qCovarCol $qCovarCol \n",
    "    --numThreads $numThreads \n",
    "    --bgenMinMAF $bgenMinMAF \n",
    "    --bgenMinINFO $bgenMinINFO \n",
    "    --job_size $lmm_job_size\n",
    "    --ylim $ylim\n",
    "    --container_lmm $container_lmm\n",
    "    --container_marp $container_marp\n",
    "\"\"\"\n",
    "\n",
    "sos run ~/project/bioworkflows/GWAS/Get_Job_Script.ipynb farnam \\\n",
    "    --template-file $tpl_file \\\n",
    "    --workflow-file $lmm_sos \\\n",
    "    --to-script $lmm_sbatch_bolt \\\n",
    "    --args \"$lmm_args\""
   ]
  },
  {
   "cell_type": "markdown",
   "metadata": {
    "kernel": "Bash"
   },
   "source": [
    "## LDL"
   ]
  },
  {
   "cell_type": "code",
   "execution_count": 2,
   "metadata": {
    "kernel": "Bash"
   },
   "outputs": [
    {
     "name": "stdout",
     "output_type": "stream",
     "text": [
      "INFO: Running \u001b[32mfarnam\u001b[0m: Configuration for Yale `farnam` cluster\n",
      "INFO: \u001b[32mfarnam\u001b[0m is \u001b[32mcompleted\u001b[0m.\n",
      "INFO: \u001b[32mfarnam\u001b[0m output:   \u001b[32m../output/2020-12-15_LDL_imp-bolt.sbatch\u001b[0m\n",
      "INFO: Workflow farnam (ID=26fd06bd806de5ef) is executed successfully with 1 completed step.\n",
      "\n"
     ]
    }
   ],
   "source": [
    "lmm_dir_bolt=/gpfs/gibbs/pi/dewan/data/UKBiobank/results/BOLTLMM_results/results_imputed_data/LDL\n",
    "lmm_sbatch_bolt=../output/$(date +\"%Y-%m-%d\")_LDL_imp-bolt.sbatch\n",
    "phenoCol=\"LDL_medcorrected\"\n",
    "covarCol=\"SEX cholesterolmedbyf6153or6177or20003 smoking{1:2} alcohol{1:4}\"\n",
    "qcovarCol=AGE\n",
    "\n",
    "lmm_args=\"\"\"boltlmm\n",
    "    --cwd $lmm_dir_bolt \n",
    "    --bfile $bfile \n",
    "    --sampleFile $sampleFile\n",
    "    --bgenFile $bgenFile \n",
    "    --phenoFile $phenoFile \n",
    "    --formatFile $formatFile_bolt \n",
    "    --covarFile $covarFile \n",
    "    --LDscoresFile $LDscoresFile \n",
    "    --geneticMapFile $geneticMapFile \n",
    "    --phenoCol $phenoCol \n",
    "    --covarCol $covarCol \n",
    "    --covarMaxLevels $covarMaxLevels \n",
    "    --qCovarCol $qCovarCol \n",
    "    --numThreads $numThreads \n",
    "    --bgenMinMAF $bgenMinMAF \n",
    "    --bgenMinINFO $bgenMinINFO \n",
    "    --job_size $lmm_job_size\n",
    "    --ylim $ylim\n",
    "    --container_lmm $container_lmm\n",
    "    --container_marp $container_marp\n",
    "\"\"\"\n",
    "\n",
    "sos run ~/project/bioworkflows/GWAS/Get_Job_Script.ipynb farnam \\\n",
    "    --template-file $tpl_file \\\n",
    "    --workflow-file $lmm_sos \\\n",
    "    --to-script $lmm_sbatch_bolt \\\n",
    "    --args \"$lmm_args\""
   ]
  },
  {
   "cell_type": "markdown",
   "metadata": {
    "kernel": "Bash"
   },
   "source": [
    "## Triglycerides"
   ]
  },
  {
   "cell_type": "code",
   "execution_count": null,
   "metadata": {
    "kernel": "Bash"
   },
   "outputs": [],
   "source": [
    "lmm_dir_bolt=/gpfs/gibbs/pi/dewan/data/UKBiobank/results/BOLTLMM_results/results_imputed_data/triglycerides\n",
    "lmm_sbatch_bolt=../output/$(date +\"%Y-%m-%d\")_triglycerides_imp-bolt.sbatch\n",
    "phenoCol=\"triglycerides\"\n",
    "covarCol=\"SEX cholesterolmedbyf6153or6177or20003 smoking{1:2} alcohol{1:4}\"\n",
    "qCovarCol=AGE\n",
    "\n",
    "lmm_args=\"\"\"boltlmm\n",
    "    --cwd $lmm_dir_bolt \n",
    "    --bfile $bfile \n",
    "    --sampleFile $sampleFile\n",
    "    --bgenFile $bgenFile \n",
    "    --phenoFile $phenoFile \n",
    "    --formatFile $formatFile_bolt \n",
    "    --covarFile $covarFile \n",
    "    --LDscoresFile $LDscoresFile \n",
    "    --geneticMapFile $geneticMapFile \n",
    "    --phenoCol $phenoCol \n",
    "    --covarCol $covarCol \n",
    "    --covarMaxLevels $covarMaxLevels \n",
    "    --qCovarCol $qCovarCol \n",
    "    --numThreads $numThreads \n",
    "    --bgenMinMAF $bgenMinMAF \n",
    "    --bgenMinINFO $bgenMinINFO \n",
    "    --job_size $lmm_job_size\n",
    "    --ylim $ylim\n",
    "    --container_lmm $container_lmm\n",
    "    --container_marp $container_marp\n",
    "\"\"\"\n",
    "\n",
    "sos run ~/project/bioworkflows/GWAS/Get_Job_Script.ipynb farnam \\\n",
    "    --template-file $tpl_file \\\n",
    "    --workflow-file $lmm_sos \\\n",
    "    --to-script $lmm_sbatch_bolt \\\n",
    "    --args \"$lmm_args\""
   ]
  },
  {
   "cell_type": "markdown",
   "metadata": {
    "kernel": "Bash"
   },
   "source": [
    "# FastGWA jobs"
   ]
  },
  {
   "cell_type": "markdown",
   "metadata": {
    "kernel": "Bash"
   },
   "source": [
    "## HDL"
   ]
  },
  {
   "cell_type": "code",
   "execution_count": 3,
   "metadata": {
    "kernel": "Bash"
   },
   "outputs": [
    {
     "name": "stdout",
     "output_type": "stream",
     "text": [
      "INFO: Running \u001b[32mfarnam\u001b[0m: Configuration for Yale `farnam` cluster\n",
      "INFO: \u001b[32mfarnam\u001b[0m is \u001b[32mcompleted\u001b[0m.\n",
      "INFO: \u001b[32mfarnam\u001b[0m output:   \u001b[32m../output/2020-09-15_HDL_imp-fastgwa.sbatch\u001b[0m\n",
      "INFO: Workflow farnam (ID=18b620039e084b7d) is executed successfully with 1 completed step.\n",
      "\n"
     ]
    }
   ],
   "source": [
    "lmm_dir_fastgwa=/gpfs/gibbs/pi/dewan/data/UKBiobank/results/FastGWA_results/results_imputed_data/HDL\n",
    "lmm_sbatch_fastgwa=../output/$(date +\"%Y-%m-%d\")_HDL_imp-fastgwa.sbatch\n",
    "phenoFile=/gpfs/gibbs/pi/dewan/data/UKBiobank/phenotype_files/pleiotropy_R01/phenotypesforanalysis/UKB_Caucasiansubset_cholesterolfields_adjbymedstatus_062420_foranalysis\n",
    "covarFile=/gpfs/gibbs/pi/dewan/data/UKBiobank/phenotype_files/pleiotropy_R01/phenotypesforanalysis/UKB_Caucasiansubset_cholesterolfields_adjbymedstatus_062420_foranalysis\n",
    "phenoCol=\"HDL\"\n",
    "covarCol=\"SEX cholesterolmedbyf6153or6177or20003 smoking1 smoking2 alcohol1 alcohol2 alcohol3 alcohol4\" \n",
    "qCovarCol=AGE\n",
    "\n",
    "lmm_args=\"\"\"fastGWA\n",
    "    --cwd $lmm_dir_fastgwa \n",
    "    --bfile $bfile \n",
    "    --sampleFile $sampleFile\n",
    "    --bgenFile $bgenFile \n",
    "    --phenoFile $phenoFile \n",
    "    --formatFile $formatFile_fastgwa \n",
    "    --covarFile $covarFile  \n",
    "    --phenoCol $phenoCol \n",
    "    --covarCol $covarCol \n",
    "    --covarMaxLevels $covarMaxLevels \n",
    "    --qCovarCol $qCovarCol \n",
    "    --numThreads $numThreads \n",
    "    --bgenMinMAF $bgenMinMAF \n",
    "    --bgenMinINFO $bgenMinINFO \n",
    "    --job_size $lmm_job_size\n",
    "    --grmFile $grmFile\n",
    "    --ylim $ylim\n",
    "    --container_lmm $container_lmm\n",
    "    --container_marp $container_marp\n",
    "\"\"\"\n",
    "\n",
    "sos run ~/project/bioworkflows/GWAS/Get_Job_Script.ipynb farnam \\\n",
    "    --template-file $tpl_file \\\n",
    "    --workflow-file $lmm_sos \\\n",
    "    --to-script $lmm_sbatch_fastgwa \\\n",
    "    --args \"$lmm_args\""
   ]
  },
  {
   "cell_type": "markdown",
   "metadata": {
    "kernel": "Bash"
   },
   "source": [
    "## Cholesterol\n",
    "\n",
    "Ran please finish creating the script for fastGWA for the remaining traits"
   ]
  },
  {
   "cell_type": "code",
   "execution_count": 2,
   "metadata": {
    "kernel": "Bash"
   },
   "outputs": [
    {
     "name": "stdout",
     "output_type": "stream",
     "text": [
      "INFO: Running \u001b[32mfarnam\u001b[0m: Configuration for Yale `farnam` cluster\n",
      "INFO: \u001b[32mfarnam\u001b[0m is \u001b[32mcompleted\u001b[0m.\n",
      "INFO: \u001b[32mfarnam\u001b[0m output:   \u001b[32m../output/2020-09-10_cholesterol_imp-fastgwa.sbatch\u001b[0m\n",
      "INFO: Workflow farnam (ID=7cf2c7310ac1d222) is executed successfully with 1 completed step.\n",
      "\n"
     ]
    }
   ],
   "source": [
    "lmm_dir_fastgwa=/gpfs/gibbs/pi/dewan/data/UKBiobank/results/FastGWA_results/results_imputed_data/cholesterol\n",
    "lmm_sbatch_fastgwa=../output/$(date +\"%Y-%m-%d\")_cholesterol_imp-fastgwa.sbatch\n",
    "phenoFile=/gpfs/gibbs/pi/dewan/data/UKBiobank/phenotype_files/pleiotropy_R01/phenotypesforanalysis/UKB_Caucasiansubset_cholesterolfields_adjbymedstatus_062420_foranalysis\n",
    "covarFile=/gpfs/gibbs/pi/dewan/data/UKBiobank/phenotype_files/pleiotropy_R01/phenotypesforanalysis/UKB_Caucasiansubset_cholesterolfields_adjbymedstatus_062420_foranalysis\n",
    "phenoCol=\"cholesterol.f30690_medcorrected\"\n",
    "covarCol=\"SEX cholesterolmedbyf6153or6177or20003 smoking1 smoking2 alcohol1 alcohol2 alcohol3 alcohol4\" \n",
    "qCovarCol=AGE\n",
    "\n",
    "lmm_args=\"\"\"fastGWA\n",
    "    --cwd $lmm_dir_fastgwa \n",
    "    --bfile $bfile \n",
    "    --sampleFile $sampleFile\n",
    "    --bgenFile $bgenFile \n",
    "    --phenoFile $phenoFile \n",
    "    --formatFile $formatFile_fastgwa \n",
    "    --covarFile $covarFile  \n",
    "    --phenoCol $phenoCol \n",
    "    --covarCol $covarCol \n",
    "    --covarMaxLevels $covarMaxLevels \n",
    "    --qCovarCol $qCovarCol \n",
    "    --numThreads $numThreads \n",
    "    --bgenMinMAF $bgenMinMAF \n",
    "    --bgenMinINFO $bgenMinINFO \n",
    "    --job_size $lmm_job_size\n",
    "    --grmFile $grmFile\n",
    "    --ylim $ylim\n",
    "    --container_lmm $container_lmm\n",
    "    --container_marp $container_marp\n",
    "\"\"\"\n",
    "\n",
    "sos run ~/project/bioworkflows/GWAS/Get_Job_Script.ipynb farnam \\\n",
    "    --template-file $tpl_file \\\n",
    "    --workflow-file $lmm_sos \\\n",
    "    --to-script $lmm_sbatch_fastgwa \\\n",
    "    --args \"$lmm_args\""
   ]
  },
  {
   "cell_type": "markdown",
   "metadata": {
    "kernel": "Bash"
   },
   "source": [
    "## LDL"
   ]
  },
  {
   "cell_type": "code",
   "execution_count": 3,
   "metadata": {
    "kernel": "Bash"
   },
   "outputs": [
    {
     "name": "stdout",
     "output_type": "stream",
     "text": [
      "INFO: Running \u001b[32mfarnam\u001b[0m: Configuration for Yale `farnam` cluster\n",
      "INFO: \u001b[32mfarnam\u001b[0m is \u001b[32mcompleted\u001b[0m.\n",
      "INFO: \u001b[32mfarnam\u001b[0m output:   \u001b[32m../output/2020-09-10_LDL_imp-fastgwa.sbatch\u001b[0m\n",
      "INFO: Workflow farnam (ID=74f114d1a8a102d3) is executed successfully with 1 completed step.\n",
      "\n"
     ]
    }
   ],
   "source": [
    "lmm_dir_fastgwa=/gpfs/gibbs/pi/dewan/data/UKBiobank/results/FastGWA_results/results_imputed_data/LDL\n",
    "lmm_sbatch_fastgwa=../output/$(date +\"%Y-%m-%d\")_LDL_imp-fastgwa.sbatch\n",
    "phenoFile=/gpfs/gibbs/pi/dewan/data/UKBiobank/phenotype_files/pleiotropy_R01/phenotypesforanalysis/UKB_Caucasiansubset_cholesterolfields_adjbymedstatus_062420_foranalysis\n",
    "covarFile=/gpfs/gibbs/pi/dewan/data/UKBiobank/phenotype_files/pleiotropy_R01/phenotypesforanalysis/UKB_Caucasiansubset_cholesterolfields_adjbymedstatus_062420_foranalysis\n",
    "phenoCol=\"LDL_medcorrected\"\n",
    "covarCol=\"SEX cholesterolmedbyf6153or6177or20003 smoking1 smoking2 alcohol1 alcohol2 alcohol3 alcohol4\" \n",
    "qCovarCol=AGE\n",
    "\n",
    "lmm_args=\"\"\"fastGWA\n",
    "    --cwd $lmm_dir_fastgwa \n",
    "    --bfile $bfile \n",
    "    --sampleFile $sampleFile\n",
    "    --bgenFile $bgenFile \n",
    "    --phenoFile $phenoFile \n",
    "    --formatFile $formatFile_fastgwa \n",
    "    --covarFile $covarFile  \n",
    "    --phenoCol $phenoCol \n",
    "    --covarCol $covarCol \n",
    "    --covarMaxLevels $covarMaxLevels \n",
    "    --qCovarCol $qCovarCol \n",
    "    --numThreads $numThreads \n",
    "    --bgenMinMAF $bgenMinMAF \n",
    "    --bgenMinINFO $bgenMinINFO \n",
    "    --job_size $lmm_job_size\n",
    "    --grmFile $grmFile\n",
    "    --ylim $ylim\n",
    "    --container_lmm $container_lmm\n",
    "    --container_marp $container_marp\n",
    "\"\"\"\n",
    "\n",
    "sos run ~/project/bioworkflows/GWAS/Get_Job_Script.ipynb farnam \\\n",
    "    --template-file $tpl_file \\\n",
    "    --workflow-file $lmm_sos \\\n",
    "    --to-script $lmm_sbatch_fastgwa \\\n",
    "    --args \"$lmm_args\""
   ]
  },
  {
   "cell_type": "markdown",
   "metadata": {
    "kernel": "Bash"
   },
   "source": [
    "## Triglycerides"
   ]
  },
  {
   "cell_type": "code",
   "execution_count": 4,
   "metadata": {
    "kernel": "Bash"
   },
   "outputs": [
    {
     "name": "stdout",
     "output_type": "stream",
     "text": [
      "INFO: Running \u001b[32mfarnam\u001b[0m: Configuration for Yale `farnam` cluster\n",
      "INFO: \u001b[32mfarnam\u001b[0m is \u001b[32mcompleted\u001b[0m.\n",
      "INFO: \u001b[32mfarnam\u001b[0m output:   \u001b[32m../output/2020-09-10_triglycerides_imp-fastgwa.sbatch\u001b[0m\n",
      "INFO: Workflow farnam (ID=e14e0004ea8849e5) is executed successfully with 1 completed step.\n",
      "\n"
     ]
    }
   ],
   "source": [
    "lmm_dir_fastgwa=/gpfs/gibbs/pi/dewan/data/UKBiobank/results/FastGWA_results/results_imputed_data/triglycerides\n",
    "lmm_sbatch_fastgwa=../output/$(date +\"%Y-%m-%d\")_triglycerides_imp-fastgwa.sbatch\n",
    "phenoFile=/gpfs/gibbs/pi/dewan/data/UKBiobank/phenotype_files/pleiotropy_R01/phenotypesforanalysis/UKB_Caucasiansubset_cholesterolfields_adjbymedstatus_062420_foranalysis\n",
    "covarFile=/gpfs/gibbs/pi/dewan/data/UKBiobank/phenotype_files/pleiotropy_R01/phenotypesforanalysis/UKB_Caucasiansubset_cholesterolfields_adjbymedstatus_062420_foranalysis\n",
    "phenoCol=\"triglycerides\"\n",
    "covarCol=\"SEX cholesterolmedbyf6153or6177or20003 smoking1 smoking2 alcohol1 alcohol2 alcohol3 alcohol4\" \n",
    "qCovarCol=AGE\n",
    "\n",
    "lmm_args=\"\"\"fastGWA\n",
    "    --cwd $lmm_dir_fastgwa \n",
    "    --bfile $bfile \n",
    "    --sampleFile $sampleFile\n",
    "    --bgenFile $bgenFile \n",
    "    --phenoFile $phenoFile \n",
    "    --formatFile $formatFile_fastgwa \n",
    "    --covarFile $covarFile  \n",
    "    --phenoCol $phenoCol \n",
    "    --covarCol $covarCol \n",
    "    --covarMaxLevels $covarMaxLevels \n",
    "    --qCovarCol $qCovarCol \n",
    "    --numThreads $numThreads \n",
    "    --bgenMinMAF $bgenMinMAF \n",
    "    --bgenMinINFO $bgenMinINFO \n",
    "    --job_size $lmm_job_size\n",
    "    --grmFile $grmFile\n",
    "    --ylim $ylim\n",
    "    --container_lmm $container_lmm\n",
    "    --container_marp $container_marp\n",
    "\"\"\"\n",
    "\n",
    "sos run ~/project/bioworkflows/GWAS/Get_Job_Script.ipynb farnam \\\n",
    "    --template-file $tpl_file \\\n",
    "    --workflow-file $lmm_sos \\\n",
    "    --to-script $lmm_sbatch_fastgwa \\\n",
    "    --args \"$lmm_args\""
   ]
  },
  {
   "cell_type": "markdown",
   "metadata": {
    "kernel": "Bash"
   },
   "source": [
    "# REGENIE int-blood"
   ]
  },
  {
   "cell_type": "code",
   "execution_count": 8,
   "metadata": {
    "kernel": "Bash"
   },
   "outputs": [
    {
     "name": "stdout",
     "output_type": "stream",
     "text": [
      "INFO: Running \u001b[32mfarnam\u001b[0m: Configuration for Yale `farnam` cluster\n",
      "INFO: \u001b[32mfarnam\u001b[0m is \u001b[32mcompleted\u001b[0m.\n",
      "INFO: \u001b[32mfarnam\u001b[0m output:   \u001b[32m../output/2020-11-18_lipids_imp-regenie.sbatch\u001b[0m\n",
      "INFO: Workflow farnam (ID=24d29053e6048d83) is executed successfully with 1 completed step.\n",
      "\n"
     ]
    }
   ],
   "source": [
    "tpl_file=/home/dc2325/project/bioworkflows/GWAS/farnam.yml\n",
    "bfile=/gpfs/gibbs/pi/dewan/data/UKBiobank/genotype_files/pleiotropy_geneticfiles/UKB_Caucasians_phenotypeindepqc120319_updated082020removedwithdrawnindiv.bed\n",
    "sampleFile=/gpfs/gibbs/pi/dewan/data/UKBiobank/genotype_files/ukb39554_imputeddataset/ukb32285_imputedindiv.sample\n",
    "bgenFile=`echo /gpfs/gibbs/pi/dewan/data/UKBiobank/genotype_files/ukb39554_imputeddataset/ukb_imp_chr{1..22}_v3.bgen`\n",
    "unrelated_samples=/gpfs/gibbs/pi/dewan/data/UKBiobank/genotype_files/pleiotropy_geneticfiles/unrelated_n307259/UKB_unrelatedcauc_phenotypes_asthmat2dbmiwaisthip_agesex_waisthipratio_040620\n",
    "formatFile_regenie=~/project/UKBB_GWAS_dev/data/regenie_template.yml\n",
    "#Container\n",
    "container_lmm=/gpfs/gibbs/pi/dewan/data/UKBiobank/lmm.sif\n",
    "container_marp=/gpfs/gibbs/pi/dewan/data/UKBiobank/marp.sif\n",
    "# Directories\n",
    "lmm_sos=~/project/bioworkflows/GWAS/LMM.ipynb\n",
    "lmm_dir_regenie=/gpfs/gibbs/pi/dewan/data/UKBiobank/results/REGENIE_results/results_imputed_data/int_ApoA_ApoB_Creatinine_Hba1c_eGFR_UACR\n",
    "lmm_sbatch_regenie=../output/$(date +%Y-%m-%d)_lipids_imp-regenie.sbatch\n",
    "phenoFile=/gpfs/gibbs/pi/dewan/data/UKBiobank/phenotype_files/pleiotropy_R01/phenotypesforanalysis/UKB_CAUC_lipidsforanalysis_apolipoproteinAandB,Hba1c_continuousandcategorical,egfrbyCKDEPI,serumcreatinine,UACR_inverseranknorm_110320\n",
    "covarFile=/gpfs/gibbs/pi/dewan/data/UKBiobank/phenotype_files/pleiotropy_R01/phenotypesforanalysis/UKB_CAUC_lipidsforanalysis_apolipoproteinAandB,Hba1c_continuousandcategorical,egfrbyCKDEPI,serumcreatinine,UACR_inverseranknorm_110320\n",
    "phenoCol=\"ApoA_int ApoB_int Creatinine_int Hba1c_int eGFR_int UACR_int\"\n",
    "covarCol=\"SEX Packyrs_smoking alcohol1 alcohol2 alcohol3 alcohol4\" \n",
    "qCovarCol=AGE\n",
    "maf_filter=0.001\n",
    "geno_filter=0.0\n",
    "hwe_filter=0.0\n",
    "mind_filter=0.0\n",
    "trait=\n",
    "minMAC=4\n",
    "bsize=1000\n",
    "ylim=0\n",
    "job_size=1\n",
    "numThreads=22\n",
    "reverse_log_p=True\n",
    "lowmem_prefix=~/scratch60\n",
    "\n",
    "lmm_args=\"\"\"regenie\n",
    "    --cwd $lmm_dir_regenie\n",
    "    --bfile $bfile\n",
    "    --sampleFile $sampleFile\n",
    "    --bgenFile $bgenFile\n",
    "    --phenoFile $phenoFile\n",
    "    --formatFile $formatFile_regenie\n",
    "    --covarFile $covarFile\n",
    "    --phenoCol $phenoCol\n",
    "    --covarCol $covarCol \n",
    "    --qCovarCol $qCovarCol\n",
    "    --maf_filter $maf_filter\n",
    "    --geno_filter $geno_filter\n",
    "    --hwe_filter $hwe_filter\n",
    "    --mind_filter $mind_filter\n",
    "    --trait $trait\n",
    "    --minMAC $minMAC\n",
    "    --bsize $bsize\n",
    "    --numThreads $numThreads\n",
    "    --job_size $job_size\n",
    "    --ylim $ylim\n",
    "    --p-filter 1\n",
    "    --reverse_log_p $reverse_log_p\n",
    "    --lowmem_prefix $lowmem_prefix\n",
    "    --container_lmm $container_lmm\n",
    "    --container_marp $container_marp\n",
    "\"\"\"\n",
    "    \n",
    "sos run ~/project/bioworkflows/GWAS/Get_Job_Script.ipynb farnam \\\n",
    "        --template-file $tpl_file \\\n",
    "        --workflow-file $lmm_sos \\\n",
    "        --to-script $lmm_sbatch_regenie \\\n",
    "        --args \"$lmm_args\""
   ]
  },
  {
   "cell_type": "markdown",
   "metadata": {
    "kernel": "Bash"
   },
   "source": [
    "# REGENIE int-lipids"
   ]
  },
  {
   "cell_type": "code",
   "execution_count": 6,
   "metadata": {
    "kernel": "Bash"
   },
   "outputs": [
    {
     "name": "stdout",
     "output_type": "stream",
     "text": [
      "INFO: Running \u001b[32mfarnam\u001b[0m: Configuration for Yale `farnam` cluster\n",
      "INFO: \u001b[32mfarnam\u001b[0m is \u001b[32mcompleted\u001b[0m.\n",
      "INFO: \u001b[32mfarnam\u001b[0m output:   \u001b[32m../output/2020-12-15_int_lipids_imp-regenie.sbatch\u001b[0m\n",
      "INFO: Workflow farnam (ID=69ec25f8d6c257bf) is executed successfully with 1 completed step.\n",
      "\n"
     ]
    }
   ],
   "source": [
    "tpl_file=/home/dc2325/project/bioworkflows/GWAS/farnam.yml\n",
    "bfile=/gpfs/gibbs/pi/dewan/data/UKBiobank/genotype_files/pleiotropy_geneticfiles/UKB_Caucasians_phenotypeindepqc120319_updated082020removedwithdrawnindiv.bed\n",
    "sampleFile=/gpfs/gibbs/pi/dewan/data/UKBiobank/genotype_files/ukb39554_imputeddataset/ukb32285_imputedindiv.sample\n",
    "bgenFile=`echo /gpfs/gibbs/pi/dewan/data/UKBiobank/genotype_files/ukb39554_imputeddataset/ukb_imp_chr{1..22}_v3.bgen`\n",
    "unrelated_samples=/gpfs/gibbs/pi/dewan/data/UKBiobank/genotype_files/pleiotropy_geneticfiles/unrelated_n307259/UKB_unrelatedcauc_phenotypes_asthmat2dbmiwaisthip_agesex_waisthipratio_040620\n",
    "formatFile_regenie=~/project/UKBB_GWAS_dev/data/regenie_template.yml\n",
    "#Container\n",
    "container_lmm=/gpfs/gibbs/pi/dewan/data/UKBiobank/lmm.sif\n",
    "container_marp=/gpfs/gibbs/pi/dewan/data/UKBiobank/marp.sif\n",
    "# Directories\n",
    "lmm_sos=~/project/bioworkflows/GWAS/LMM.ipynb\n",
    "lmm_dir_regenie=/gpfs/gibbs/pi/dewan/data/UKBiobank/results//REGENIE_results/results_imputed_data/int_HDL_LDL_Triglycerides_Cholesterol\n",
    "lmm_sbatch_regenie=../output/$(date +%Y-%m-%d)_int_lipids_imp-regenie.sbatch\n",
    "phenoFile=/gpfs/gibbs/pi/dewan/data/UKBiobank/phenotype_files/pleiotropy_R01/phenotypesforanalysis/UKBCauc_cholesterolandbloodpressurefields_inverseranknorm_covariatesage,sex,alcohol,smokingpackyears_foranalysis\n",
    "covarFile=/gpfs/gibbs/pi/dewan/data/UKBiobank/phenotype_files/pleiotropy_R01/phenotypesforanalysis/UKBCauc_cholesterolandbloodpressurefields_inverseranknorm_covariatesage,sex,alcohol,smokingpackyears_foranalysis\n",
    "phenoCol=\"HDL_inverseranknorm LDL_medcorrected_inverseranknorm triglycerides_inverseranknorm cholesterol.f30690_medcorrected_inverseranknorm\"\n",
    "covarCol=\"SEX cholesterolmedbyf6153or6177or20003 smoking_dummy1 smoking_dummy2 alcohol1 alcohol2 alcohol3 alcohol4\" \n",
    "qCovarCol=AGE\n",
    "maf_filter=0.001\n",
    "geno_filter=0.0\n",
    "hwe_filter=0.0\n",
    "mind_filter=0.0\n",
    "trait=\n",
    "minMAC=4\n",
    "bsize=1000\n",
    "ylim=0\n",
    "job_size=1\n",
    "numThreads=22\n",
    "reverse_log_p=True\n",
    "lowmem_prefix=~/scratch60\n",
    "\n",
    "lmm_args=\"\"\"regenie\n",
    "    --cwd $lmm_dir_regenie\n",
    "    --bfile $bfile\n",
    "    --sampleFile $sampleFile\n",
    "    --bgenFile $bgenFile\n",
    "    --phenoFile $phenoFile\n",
    "    --formatFile $formatFile_regenie\n",
    "    --covarFile $covarFile\n",
    "    --phenoCol $phenoCol\n",
    "    --covarCol $covarCol \n",
    "    --qCovarCol $qCovarCol\n",
    "    --maf_filter $maf_filter\n",
    "    --geno_filter $geno_filter\n",
    "    --hwe_filter $hwe_filter\n",
    "    --mind_filter $mind_filter\n",
    "    --trait $trait\n",
    "    --minMAC $minMAC\n",
    "    --bsize $bsize\n",
    "    --numThreads $numThreads\n",
    "    --job_size $job_size\n",
    "    --ylim $ylim\n",
    "    --p-filter 1\n",
    "    --reverse_log_p $reverse_log_p\n",
    "    --lowmem_prefix $lowmem_prefix\n",
    "    --container_lmm $container_lmm\n",
    "    --container_marp $container_marp\n",
    "\"\"\"\n",
    "    \n",
    "sos run ~/project/bioworkflows/GWAS/Get_Job_Script.ipynb farnam \\\n",
    "        --template-file $tpl_file \\\n",
    "        --workflow-file $lmm_sos \\\n",
    "        --to-script $lmm_sbatch_regenie \\\n",
    "        --args \"$lmm_args\""
   ]
  },
  {
   "cell_type": "markdown",
   "metadata": {
    "kernel": "Bash"
   },
   "source": [
    "# Hudson plots: method comparisson"
   ]
  },
  {
   "cell_type": "code",
   "execution_count": 5,
   "metadata": {
    "kernel": "Bash"
   },
   "outputs": [
    {
     "name": "stdout",
     "output_type": "stream",
     "text": [
      "INFO: Running \u001b[32mfarnam\u001b[0m: Configuration for Yale `farnam` cluster\n",
      "INFO: \u001b[32mfarnam\u001b[0m is \u001b[32mcompleted\u001b[0m.\n",
      "INFO: \u001b[32mfarnam\u001b[0m output:   \u001b[32m../output/2020-12-15_HDL_fastGWA_bolt_hudson.sbatch\u001b[0m\n",
      "INFO: Workflow farnam (ID=18f078a1bf16c978) is executed successfully with 1 completed step.\n",
      "\n"
     ]
    }
   ],
   "source": [
    "tpl_file=../farnam.yml\n",
    "hudson_sos=~/project/bioworkflows/GWAS/Hudson_plot.ipynb\n",
    "hudson_dir=/gpfs/gibbs/pi/dewan/data/UKBiobank/results/hudson_plots/pleiotropy/HDL_fastGWA_boltlmm\n",
    "hudson_sbatch=../output/$(date +\"%Y-%m-%d\")_HDL_fastGWA_bolt_hudson.sbatch\n",
    "sumstats_1=/gpfs/gibbs/pi/dewan/data/UKBiobank/results/FastGWA_results/results_imputed_data/HDL/UKB_Caucasiansubset_cholesterolfields_adjbymedstatus_062420_foranalysis_HDL.fastGWA.snp_stats.gz\n",
    "sumstats_2=/gpfs/gibbs/pi/dewan/data/UKBiobank/results/BOLTLMM_results/results_imputed_data/HDL/UKB_Caucasiansubset_cholesterolfields_adjbymedstatus_062420_foranalysis_HDL.boltlmm.snp_stats.gz\n",
    "toptitle=\"HDL_fastGWA\"\n",
    "bottomtitle=\"HDL_boltlmm\"\n",
    "highlight_p_top=0\n",
    "highlight_p_bottom=0\n",
    "pval_filter=5e-08\n",
    "job_size=1\n",
    "container_lmm=/gpfs/gibbs/pi/dewan/data/UKBiobank/lmm.sif\n",
    "#highlight_snp=\n",
    "annotate_snp=0\n",
    "phenocol1='HDL'\n",
    "phenocol2='HDL'\n",
    "\n",
    "hudson_args=\"\"\"hudson\n",
    "    --cwd $hudson_dir\n",
    "    --sumstats_1 $sumstats_1\n",
    "    --sumstats_2 $sumstats_2\n",
    "    --toptitle $toptitle\n",
    "    --bottomtitle $bottomtitle\n",
    "    --job_size $job_size\n",
    "    --highlight_p_top $highlight_p_top\n",
    "    --highlight_p_bottom $highlight_p_bottom\n",
    "    --pval_filter $pval_filter\n",
    "    --annotate_snp $annotate_snp\n",
    "    --phenocol1 $phenocol1\n",
    "    --phenocol2 $phenocol2\n",
    "    --container_lmm $container_lmm\n",
    "\"\"\"\n",
    "sos run ~/project/bioworkflows/GWAS/Get_Job_Script.ipynb farnam \\\n",
    "    --template-file $tpl_file \\\n",
    "    --workflow-file $hudson_sos \\\n",
    "    --to-script $hudson_sbatch \\\n",
    "    --args \"$hudson_args\""
   ]
  },
  {
   "cell_type": "code",
   "execution_count": null,
   "metadata": {
    "kernel": "Bash"
   },
   "outputs": [],
   "source": []
  }
 ],
 "metadata": {
  "kernelspec": {
   "display_name": "SoS",
   "language": "sos",
   "name": "sos"
  },
  "language_info": {
   "codemirror_mode": "sos",
   "file_extension": ".sos",
   "mimetype": "text/x-sos",
   "name": "sos",
   "nbconvert_exporter": "sos_notebook.converter.SoS_Exporter",
   "pygments_lexer": "sos"
  },
  "sos": {
   "kernels": [
    [
     "Bash",
     "calysto_bash",
     "Bash",
     "#E6EEFF",
     "shell"
    ]
   ],
   "version": "0.21.21"
  }
 },
 "nbformat": 4,
 "nbformat_minor": 4
}
