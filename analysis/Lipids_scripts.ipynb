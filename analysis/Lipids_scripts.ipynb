{
 "cells": [
  {
   "cell_type": "markdown",
   "metadata": {
    "kernel": "SoS"
   },
   "source": [
    "# Analyses of the lipids from UKBB"
   ]
  },
  {
   "cell_type": "markdown",
   "metadata": {
    "kernel": "SoS"
   },
   "source": [
    "This notebook applies the `Get_Job_Script.ipynb` to automatically generate the sbatch scripts to run in Yale's cluster. The end result is to apply [various LMM workflows](https://github.com/statgenetics/UKBB_GWAS_dev/tree/master/workflow) to perform association analysis of different lipid traits (cholesterol, HDL, LDL, triglycerides), do clumping analysis and extract associated regions."
   ]
  },
  {
   "cell_type": "markdown",
   "metadata": {
    "kernel": "SoS"
   },
   "source": [
    "## File paths on Yale cluster\n",
    "\n",
    "- Genotype files in PLINK format:\n",
    "`/gpfs/gibbs/pi/dewan/data/UKBiobank/genotype_files/pleiotropy_geneticfiles/UKB_Caucasians_phenotypeindepqc120319_updated020720removedwithdrawnindiv`\n",
    "- Genotype files in bgen format:\n",
    "`SAY/dbgapstg/scratch/UKBiobank/genotype_files/ukb39554_imputeddataset/`\n",
    "- Summary stats for imputed variants BOLT-LMM:\n",
    "`/gpfs/gibbs/pi/dewan/data/UKBiobank/results/BOLTLMM_results/results_imputed_data`\n",
    "- Summary stats for inputed variants FastGWA:\n",
    "`/gpfs/gibbs/pi/dewan/data/UKBiobank/results/FastGWA_results/results_imputed_data`\n",
    "- Phenotype files:\n",
    "`/gpfs/gibbs/pi/dewan/data/UKBiobank/phenotype_files/pleiotropy_R01/phenotypesforanalysis/UKB_Caucasiansubset_cholesterolfields_adjbymedstatus_062420_foranalysis`\n",
    "- Relationship file:\n",
    "`/gpfs/gibbs/pi/dewan/data/UKBiobank/genotype_files/pleiotropy_geneticfiles/unrelated_n307259/UKB_unrelatedcauc_phenotypes_asthmat2dbmiwaisthip_agesex_waisthipratio_040620`"
   ]
  },
  {
   "cell_type": "markdown",
   "metadata": {
    "kernel": "SoS"
   },
   "source": [
    "## 07/28/20 analysis\n",
    "\n",
    "On the cluster, open up this notebook using the JupyterLab server you set up via the ssh channel, then run the following cells,"
   ]
  },
  {
   "cell_type": "markdown",
   "metadata": {
    "kernel": "SoS"
   },
   "source": [
    "## Important analysis notes\n",
    "\n",
    "Corrected measures are being used for LDL (LDL/0.7) and total cholesterol (TC/0.8). Correction used for those on medication only. \n",
    "\n",
    "Triglycerides and HDL are used without correction.\n",
    "\n",
    "Covariates are age at recruitment, genetic sex, medication status, smoking (1 & 2), and alcohol (1, 2, 3, 4). Smoking and alcohol are dummy coded\n",
    "\n",
    "Alcohol: f.1558 (categories never/special ocassion collapsed)\n",
    "Smoking: f.20116 (never/former/current). Plan is to replace with f.20161 (pack years) once we have that variable.\n",
    "Medication status: cholesterolmedbyf6153or6177or20003 (It's what was used to adjust the phenotype)"
   ]
  },
  {
   "cell_type": "markdown",
   "metadata": {
    "kernel": "SoS"
   },
   "source": [
    "## Bash variables for workflow configuration"
   ]
  },
  {
   "cell_type": "code",
   "execution_count": 1,
   "metadata": {
    "kernel": "Bash"
   },
   "outputs": [
    {
     "name": "stdout",
     "output_type": "stream",
     "text": [
      "\n"
     ]
    }
   ],
   "source": [
    "# Common variables\n",
    "tpl_file=../farnam.yml\n",
    "bfile=/gpfs/gibbs/pi/dewan/data/UKBiobank/genotype_files/pleiotropy_geneticfiles/UKB_Caucasians_phenotypeindepqc120319_updated082020removedwithdrawnindiv.bed\n",
    "sampleFile=/gpfs/gibbs/pi/dewan/data/UKBiobank/genotype_files/ukb39554_imputeddataset/ukb32285_imputedindiv.sample\n",
    "bgenFile=`echo /gpfs/gibbs/pi/dewan/data/UKBiobank/genotype_files/ukb39554_imputeddataset/ukb_imp_chr{1..22}_v3.bgen`\n",
    "unrelated_samples=/gpfs/gibbs/pi/dewan/data/UKBiobank/genotype_files/pleiotropy_geneticfiles/unrelated_n307259/UKB_unrelatedcauc_phenotypes_asthmat2dbmiwaisthip_agesex_waisthipratio_040620\n",
    "formatFile_fastgwa=~/project/UKBB_GWAS_dev/data/fastGWA_template.yml\n",
    "formatFile_bolt=~/project/UKBB_GWAS_dev/data/boltlmm_template.yml\n",
    "formatFile_saige=~/project/UKBB_GWAS_dev/data/saige_template.yml\n",
    "# Container\n",
    "container_lmm=/gpfs/gibbs/pi/dewan/data/UKBiobank/lmm.sif\n",
    "container_marp=/gpfs/gibbs/pi/dewan/data/UKBiobank/marp.sif\n",
    "# LMM directories\n",
    "lmm_dir_fastgwa=/gpfs/gibbs/pi/dewan/data/UKBiobank/results/FastGWA_results/results_imputed_data/\n",
    "lmm_dir_bolt=/gpfs/gibbs/pi/dewan/data/UKBiobank/results/BOLTLMM_results/results_imputed_data/\n",
    "lmm_dir_saige=/gpfs/gibbs/pi/dewan/data/UKBiobank/results/SAIGE_results/results_imputed_data/\n",
    "lmm_sos=~/project/bioworkflows/GWAS/LMM.ipynb\n",
    "lmm_sbatch_fastgwa=../output/$(date +\"%Y-%m-%d\")_imp-fastgwa.sbatch\n",
    "lmm_sbatch_bolt=../output/$(date +\"%Y-%m-%d\")_imp-bolt.sbatch\n",
    "lmm_sbatch_saige=../output/$(date +\"%Y-%m-%d\")_imp-saige.sbatch\n",
    "#Phenotype file\n",
    "phenoFile=/gpfs/gibbs/pi/dewan/data/UKBiobank/phenotype_files/pleiotropy_R01/phenotypesforanalysis/UKB_Caucasiansubset_cholesterolfields_adjbymedstatus_062420_foranalysis\n",
    "## LMM variables \n",
    "covarFile=/gpfs/gibbs/pi/dewan/data/UKBiobank/phenotype_files/pleiotropy_R01/phenotypesforanalysis/UKB_Caucasiansubset_cholesterolfields_adjbymedstatus_062420_foranalysis\n",
    "LDscoresFile=~/software/BOLT-LMM_v2.3.4/tables/LDSCORE.1000G_EUR.tab.gz\n",
    "geneticMapFile=~/software/BOLT-LMM_v2.3.4/tables/genetic_map_hg19_withX.txt.gz\n",
    "phenoCol=\"cholesterol.f30690_medcorrected\"\n",
    "covarCol=\"SEX cholesterolmedbyf6153or6177or20003 smoking{1:2} alcohol{1:4}\"\n",
    "covarMaxLevels=10\n",
    "qCovarCol=AGE\n",
    "numThreads=20\n",
    "bgenMinMAF=0.001\n",
    "bgenMinINFO=0.8\n",
    "lmm_job_size=1\n",
    "ylim=0\n",
    "### Specific to FastGWA\n",
    "grmFile=/gpfs/gibbs/pi/dewan/data/UKBiobank/results/FastGWA_results/results_imputed_data/UKB_Caucasians_phenotypeindepqc120319_updated020720removedwithdrawnindiv.grm.sp\n",
    "### Specific to SAIGE\n",
    "bgenMinMAC=4\n",
    "trait_type=quantitative\n",
    "loco=TRUE\n",
    "sampleCol=IID\n",
    "# LD clumping directories\n",
    "clumping_dir=/gpfs/gibbs/pi/dewan/data/UKBiobank/results/LD_clumping/\n",
    "clumping_sos=~/project/bioworkflows/GWAS/LD_Clumping.ipynb\n",
    "clumping_sbatch=../output/$(date +\"%Y-%m-%d\")_HDL_imp_ldclumping.sbatch\n",
    "## LD clumping variables\n",
    "# For sumtastsFiles if more than one provide each path\n",
    "bfile_ref=/gpfs/gibbs/pi/dewan/data/UKBiobank/results/LD_clumping/UKB_Caucasians_phenotypeindepqc120319_updated020720removedwithdrawnindiv.1210.ref_geno.bed\n",
    "# Changes dependending upon which traits are analyzed\n",
    "sumstatsFiles=/gpfs/gibbs/pi/dewan/data/UKBiobank/results/FastGWA_results/results_imputed_data/HDL/*.snp_stats.gz\n",
    "ld_sample_size=1210\n",
    "clump_field=P\n",
    "clump_p1=5e-08\n",
    "clump_p2=1\n",
    "clump_r2=0.2\n",
    "clump_kb=2000\n",
    "clump_annotate=BP\n",
    "numThreads=20\n",
    "clump_job_size=1\n",
    "#clumpFile= \n",
    "#clumregionFile=\n",
    "# Region extraction directories\n",
    "extract_dir=/gpfs/gibbs/pi/dewan/data/UKBiobank/results/region_extraction/HDL\n",
    "extract_sos=~/project/bioworkflows/GWAS/Region_Extraction.ipynb\n",
    "extract_sbatch=../output/$(date +\"%Y-%m-%d\")_HDL_imp-region.sbatch\n",
    "## Region extraction variables\n",
    "region_file=/gpfs/gibbs/pi/dewan/data/UKBiobank/results/LD_clumping/HDL/*.clumped_region\n",
    "geno_path=/gpfs/gibbs/pi/dewan/data/UKBiobank/results/UKBB_bgenfilepath.txt\n",
    "sumstats_path=/gpfs/gibbs/pi/dewan/data/UKBiobank/results/FastGWA_results/results_imputed_data/HDL/*.snp_stats.gz\n",
    "extract_job_size=10"
   ]
  },
  {
   "cell_type": "markdown",
   "metadata": {
    "kernel": "SoS"
   },
   "source": [
    "# Bolt-LMM jobs"
   ]
  },
  {
   "cell_type": "markdown",
   "metadata": {
    "kernel": "SoS"
   },
   "source": [
    "### HDL"
   ]
  },
  {
   "cell_type": "code",
   "execution_count": 2,
   "metadata": {
    "kernel": "Bash"
   },
   "outputs": [
    {
     "name": "stdout",
     "output_type": "stream",
     "text": [
      "INFO: Running \u001b[32mfarnam\u001b[0m: Configuration for Yale `farnam` cluster\n",
      "INFO: \u001b[32mfarnam\u001b[0m is \u001b[32mcompleted\u001b[0m.\n",
      "INFO: \u001b[32mfarnam\u001b[0m output:   \u001b[32m../output/2020-10-13_HDL_imp-bolt.sbatch\u001b[0m\n",
      "INFO: Workflow farnam (ID=39b24b87b30a8a06) is executed successfully with 1 completed step.\n",
      "\n"
     ]
    }
   ],
   "source": [
    "lmm_dir_bolt=/gpfs/gibbs/pi/dewan/data/UKBiobank/results/BOLTLMM_results/results_imputed_data/HDL\n",
    "lmm_sbatch_bolt=../output/$(date +\"%Y-%m-%d\")_HDL_imp-bolt.sbatch\n",
    "phenoCol=\"HDL\"\n",
    "covarCol=\"SEX cholesterolmedbyf6153or6177or20003 smoking{1:2} alcohol{1:4}\"\n",
    "qcovarCol=AGE\n",
    "\n",
    "lmm_args=\"\"\"boltlmm\n",
    "    --cwd $lmm_dir_bolt \n",
    "    --bfile $bfile \n",
    "    --sampleFile $sampleFile\n",
    "    --bgenFile $bgenFile \n",
    "    --phenoFile $phenoFile \n",
    "    --formatFile $formatFile_bolt \n",
    "    --covarFile $covarFile \n",
    "    --LDscoresFile $LDscoresFile \n",
    "    --geneticMapFile $geneticMapFile \n",
    "    --phenoCol $phenoCol \n",
    "    --covarCol $covarCol \n",
    "    --covarMaxLevels $covarMaxLevels \n",
    "    --qCovarCol $qCovarCol \n",
    "    --numThreads $numThreads \n",
    "    --bgenMinMAF $bgenMinMAF \n",
    "    --bgenMinINFO $bgenMinINFO \n",
    "    --job_size $lmm_job_size\n",
    "    --ylim $ylim\n",
    "    --container_lmm $container_lmm\n",
    "    --container_marp $container_marp\n",
    "\"\"\"\n",
    "\n",
    "sos run ~/project/bioworkflows/GWAS/Get_Job_Script.ipynb farnam \\\n",
    "    --template-file $tpl_file \\\n",
    "    --workflow-file $lmm_sos \\\n",
    "    --to-script $lmm_sbatch_bolt \\\n",
    "    --args \"$lmm_args\""
   ]
  },
  {
   "cell_type": "markdown",
   "metadata": {
    "kernel": "Bash"
   },
   "source": [
    "## Cholesterol"
   ]
  },
  {
   "cell_type": "code",
   "execution_count": null,
   "metadata": {
    "kernel": "Bash"
   },
   "outputs": [],
   "source": [
    "lmm_dir_bolt=/gpfs/gibbs/pi/dewan/data/UKBiobank/results/BOLTLMM_results/results_imputed_data/cholesterol\n",
    "lmm_sbatch_bolt=../output/$(date +\"%Y-%m-%d\")_cholesterol_imp-bolt.sbatch\n",
    "phenoCol=\"cholesterol.f30690_medcorrected\"\n",
    "covarCol=\"SEX cholesterolmedbyf6153or6177or20003 smoking{1:2} alcohol{1:4}\"\n",
    "qcovarCol=AGE\n",
    "\n",
    "lmm_args=\"\"\"boltlmm\n",
    "    --cwd $lmm_dir_bolt \n",
    "    --bfile $bfile \n",
    "    --sampleFile $sampleFile\n",
    "    --bgenFile $bgenFile \n",
    "    --phenoFile $phenoFile \n",
    "    --formatFile $formatFile_bolt \n",
    "    --covarFile $covarFile \n",
    "    --LDscoresFile $LDscoresFile \n",
    "    --geneticMapFile $geneticMapFile \n",
    "    --phenoCol $phenoCol \n",
    "    --covarCol $covarCol \n",
    "    --covarMaxLevels $covarMaxLevels \n",
    "    --qCovarCol $qCovarCol \n",
    "    --numThreads $numThreads \n",
    "    --bgenMinMAF $bgenMinMAF \n",
    "    --bgenMinINFO $bgenMinINFO \n",
    "    --job_size $lmm_job_size\n",
    "    --ylim $ylim\n",
    "    --container_lmm $container_lmm\n",
    "    --container_marp $container_marp\n",
    "\"\"\"\n",
    "\n",
    "sos run ~/project/bioworkflows/GWAS/Get_Job_Script.ipynb farnam \\\n",
    "    --template-file $tpl_file \\\n",
    "    --workflow-file $lmm_sos \\\n",
    "    --to-script $lmm_sbatch_bolt \\\n",
    "    --args \"$lmm_args\""
   ]
  },
  {
   "cell_type": "markdown",
   "metadata": {
    "kernel": "Bash"
   },
   "source": [
    "## LDL"
   ]
  },
  {
   "cell_type": "code",
   "execution_count": null,
   "metadata": {
    "kernel": "Bash"
   },
   "outputs": [],
   "source": [
    "lmm_dir_bolt=/gpfs/gibbs/pi/dewan/data/UKBiobank/results/BOLTLMM_results/results_imputed_data/LDL\n",
    "lmm_sbatch_bolt=../output/$(date +\"%Y-%m-%d\")_LDL_imp-bolt.sbatch\n",
    "phenoCol=\"LDL_medcorrected\"\n",
    "covarCol=\"SEX cholesterolmedbyf6153or6177or20003 smoking{1:2} alcohol{1:4}\"\n",
    "qcovarCol=AGE\n",
    "\n",
    "lmm_args=\"\"\"boltlmm\n",
    "    --cwd $lmm_dir_bolt \n",
    "    --bfile $bfile \n",
    "    --sampleFile $sampleFile\n",
    "    --bgenFile $bgenFile \n",
    "    --phenoFile $phenoFile \n",
    "    --formatFile $formatFile_bolt \n",
    "    --covarFile $covarFile \n",
    "    --LDscoresFile $LDscoresFile \n",
    "    --geneticMapFile $geneticMapFile \n",
    "    --phenoCol $phenoCol \n",
    "    --covarCol $covarCol \n",
    "    --covarMaxLevels $covarMaxLevels \n",
    "    --qCovarCol $qCovarCol \n",
    "    --numThreads $numThreads \n",
    "    --bgenMinMAF $bgenMinMAF \n",
    "    --bgenMinINFO $bgenMinINFO \n",
    "    --job_size $lmm_job_size\n",
    "    --ylim $ylim\n",
    "    --container_lmm $container_lmm\n",
    "    --container_marp $container_marp\n",
    "\"\"\"\n",
    "\n",
    "sos run ~/project/bioworkflows/GWAS/Get_Job_Script.ipynb farnam \\\n",
    "    --template-file $tpl_file \\\n",
    "    --workflow-file $lmm_sos \\\n",
    "    --to-script $lmm_sbatch_bolt \\\n",
    "    --args \"$lmm_args\""
   ]
  },
  {
   "cell_type": "markdown",
   "metadata": {
    "kernel": "Bash"
   },
   "source": [
    "## Triglycerides"
   ]
  },
  {
   "cell_type": "code",
   "execution_count": null,
   "metadata": {
    "kernel": "Bash"
   },
   "outputs": [],
   "source": [
    "lmm_dir_bolt=/gpfs/gibbs/pi/dewan/data/UKBiobank/results/BOLTLMM_results/results_imputed_data/triglycerides\n",
    "lmm_sbatch_bolt=../output/$(date +\"%Y-%m-%d\")_triglycerides_imp-bolt.sbatch\n",
    "phenoCol=\"triglycerides\"\n",
    "phenoCol=\"LDL_medcorrected\"\n",
    "covarCol=\"SEX cholesterolmedbyf6153or6177or20003 smoking{1:2} alcohol{1:4}\"\n",
    "qcovarCol=AGE\n",
    "\n",
    "lmm_args=\"\"\"boltlmm\n",
    "    --cwd $lmm_dir_bolt \n",
    "    --bfile $bfile \n",
    "    --sampleFile $sampleFile\n",
    "    --bgenFile $bgenFile \n",
    "    --phenoFile $phenoFile \n",
    "    --formatFile $formatFile_bolt \n",
    "    --covarFile $covarFile \n",
    "    --LDscoresFile $LDscoresFile \n",
    "    --geneticMapFile $geneticMapFile \n",
    "    --phenoCol $phenoCol \n",
    "    --covarCol $covarCol \n",
    "    --covarMaxLevels $covarMaxLevels \n",
    "    --qCovarCol $qCovarCol \n",
    "    --numThreads $numThreads \n",
    "    --bgenMinMAF $bgenMinMAF \n",
    "    --bgenMinINFO $bgenMinINFO \n",
    "    --job_size $lmm_job_size\n",
    "    --ylim $ylim\n",
    "    --container_lmm $container_lmm\n",
    "    --container_marp $container_marp\n",
    "\"\"\"\n",
    "\n",
    "sos run ~/project/bioworkflows/GWAS/Get_Job_Script.ipynb farnam \\\n",
    "    --template-file $tpl_file \\\n",
    "    --workflow-file $lmm_sos \\\n",
    "    --to-script $lmm_sbatch_bolt \\\n",
    "    --args \"$lmm_args\""
   ]
  },
  {
   "cell_type": "markdown",
   "metadata": {
    "kernel": "Bash"
   },
   "source": [
    "# FastGWA jobs"
   ]
  },
  {
   "cell_type": "markdown",
   "metadata": {
    "kernel": "Bash"
   },
   "source": [
    "## HDL"
   ]
  },
  {
   "cell_type": "code",
   "execution_count": 3,
   "metadata": {
    "kernel": "Bash"
   },
   "outputs": [
    {
     "name": "stdout",
     "output_type": "stream",
     "text": [
      "INFO: Running \u001b[32mfarnam\u001b[0m: Configuration for Yale `farnam` cluster\n",
      "INFO: \u001b[32mfarnam\u001b[0m is \u001b[32mcompleted\u001b[0m.\n",
      "INFO: \u001b[32mfarnam\u001b[0m output:   \u001b[32m../output/2020-09-15_HDL_imp-fastgwa.sbatch\u001b[0m\n",
      "INFO: Workflow farnam (ID=18b620039e084b7d) is executed successfully with 1 completed step.\n",
      "\n"
     ]
    }
   ],
   "source": [
    "lmm_dir_fastgwa=/gpfs/gibbs/pi/dewan/data/UKBiobank/results/FastGWA_results/results_imputed_data/HDL\n",
    "lmm_sbatch_fastgwa=../output/$(date +\"%Y-%m-%d\")_HDL_imp-fastgwa.sbatch\n",
    "phenoFile=/gpfs/gibbs/pi/dewan/data/UKBiobank/phenotype_files/pleiotropy_R01/phenotypesforanalysis/UKB_Caucasiansubset_cholesterolfields_adjbymedstatus_062420_foranalysis\n",
    "covarFile=/gpfs/gibbs/pi/dewan/data/UKBiobank/phenotype_files/pleiotropy_R01/phenotypesforanalysis/UKB_Caucasiansubset_cholesterolfields_adjbymedstatus_062420_foranalysis\n",
    "phenoCol=\"HDL\"\n",
    "covarCol=\"SEX cholesterolmedbyf6153or6177or20003 smoking1 smoking2 alcohol1 alcohol2 alcohol3 alcohol4\" \n",
    "qCovarCol=AGE\n",
    "\n",
    "lmm_args=\"\"\"fastGWA\n",
    "    --cwd $lmm_dir_fastgwa \n",
    "    --bfile $bfile \n",
    "    --sampleFile $sampleFile\n",
    "    --bgenFile $bgenFile \n",
    "    --phenoFile $phenoFile \n",
    "    --formatFile $formatFile_fastgwa \n",
    "    --covarFile $covarFile  \n",
    "    --phenoCol $phenoCol \n",
    "    --covarCol $covarCol \n",
    "    --covarMaxLevels $covarMaxLevels \n",
    "    --qCovarCol $qCovarCol \n",
    "    --numThreads $numThreads \n",
    "    --bgenMinMAF $bgenMinMAF \n",
    "    --bgenMinINFO $bgenMinINFO \n",
    "    --job_size $lmm_job_size\n",
    "    --grmFile $grmFile\n",
    "    --ylim $ylim\n",
    "    --container_lmm $container_lmm\n",
    "    --container_marp $container_marp\n",
    "\"\"\"\n",
    "\n",
    "sos run ~/project/bioworkflows/GWAS/Get_Job_Script.ipynb farnam \\\n",
    "    --template-file $tpl_file \\\n",
    "    --workflow-file $lmm_sos \\\n",
    "    --to-script $lmm_sbatch_fastgwa \\\n",
    "    --args \"$lmm_args\""
   ]
  },
  {
   "cell_type": "markdown",
   "metadata": {
    "kernel": "Bash"
   },
   "source": [
    "## Cholesterol\n",
    "\n",
    "Ran please finish creating the script for fastGWA for the remaining traits"
   ]
  },
  {
   "cell_type": "code",
   "execution_count": 2,
   "metadata": {
    "kernel": "Bash"
   },
   "outputs": [
    {
     "name": "stdout",
     "output_type": "stream",
     "text": [
      "INFO: Running \u001b[32mfarnam\u001b[0m: Configuration for Yale `farnam` cluster\n",
      "INFO: \u001b[32mfarnam\u001b[0m is \u001b[32mcompleted\u001b[0m.\n",
      "INFO: \u001b[32mfarnam\u001b[0m output:   \u001b[32m../output/2020-09-10_cholesterol_imp-fastgwa.sbatch\u001b[0m\n",
      "INFO: Workflow farnam (ID=7cf2c7310ac1d222) is executed successfully with 1 completed step.\n",
      "\n"
     ]
    }
   ],
   "source": [
    "lmm_dir_fastgwa=/gpfs/gibbs/pi/dewan/data/UKBiobank/results/FastGWA_results/results_imputed_data/cholesterol\n",
    "lmm_sbatch_fastgwa=../output/$(date +\"%Y-%m-%d\")_cholesterol_imp-fastgwa.sbatch\n",
    "phenoFile=/gpfs/gibbs/pi/dewan/data/UKBiobank/phenotype_files/pleiotropy_R01/phenotypesforanalysis/UKB_Caucasiansubset_cholesterolfields_adjbymedstatus_062420_foranalysis\n",
    "covarFile=/gpfs/gibbs/pi/dewan/data/UKBiobank/phenotype_files/pleiotropy_R01/phenotypesforanalysis/UKB_Caucasiansubset_cholesterolfields_adjbymedstatus_062420_foranalysis\n",
    "phenoCol=\"cholesterol.f30690_medcorrected\"\n",
    "covarCol=\"SEX cholesterolmedbyf6153or6177or20003 smoking1 smoking2 alcohol1 alcohol2 alcohol3 alcohol4\" \n",
    "qCovarCol=AGE\n",
    "\n",
    "lmm_args=\"\"\"fastGWA\n",
    "    --cwd $lmm_dir_fastgwa \n",
    "    --bfile $bfile \n",
    "    --sampleFile $sampleFile\n",
    "    --bgenFile $bgenFile \n",
    "    --phenoFile $phenoFile \n",
    "    --formatFile $formatFile_fastgwa \n",
    "    --covarFile $covarFile  \n",
    "    --phenoCol $phenoCol \n",
    "    --covarCol $covarCol \n",
    "    --covarMaxLevels $covarMaxLevels \n",
    "    --qCovarCol $qCovarCol \n",
    "    --numThreads $numThreads \n",
    "    --bgenMinMAF $bgenMinMAF \n",
    "    --bgenMinINFO $bgenMinINFO \n",
    "    --job_size $lmm_job_size\n",
    "    --grmFile $grmFile\n",
    "    --ylim $ylim\n",
    "    --container_lmm $container_lmm\n",
    "    --container_marp $container_marp\n",
    "\"\"\"\n",
    "\n",
    "sos run ~/project/bioworkflows/GWAS/Get_Job_Script.ipynb farnam \\\n",
    "    --template-file $tpl_file \\\n",
    "    --workflow-file $lmm_sos \\\n",
    "    --to-script $lmm_sbatch_fastgwa \\\n",
    "    --args \"$lmm_args\""
   ]
  },
  {
   "cell_type": "markdown",
   "metadata": {
    "kernel": "Bash"
   },
   "source": [
    "## LDL"
   ]
  },
  {
   "cell_type": "code",
   "execution_count": 3,
   "metadata": {
    "kernel": "Bash"
   },
   "outputs": [
    {
     "name": "stdout",
     "output_type": "stream",
     "text": [
      "INFO: Running \u001b[32mfarnam\u001b[0m: Configuration for Yale `farnam` cluster\n",
      "INFO: \u001b[32mfarnam\u001b[0m is \u001b[32mcompleted\u001b[0m.\n",
      "INFO: \u001b[32mfarnam\u001b[0m output:   \u001b[32m../output/2020-09-10_LDL_imp-fastgwa.sbatch\u001b[0m\n",
      "INFO: Workflow farnam (ID=74f114d1a8a102d3) is executed successfully with 1 completed step.\n",
      "\n"
     ]
    }
   ],
   "source": [
    "lmm_dir_fastgwa=/gpfs/gibbs/pi/dewan/data/UKBiobank/results/FastGWA_results/results_imputed_data/LDL\n",
    "lmm_sbatch_fastgwa=../output/$(date +\"%Y-%m-%d\")_LDL_imp-fastgwa.sbatch\n",
    "phenoFile=/gpfs/gibbs/pi/dewan/data/UKBiobank/phenotype_files/pleiotropy_R01/phenotypesforanalysis/UKB_Caucasiansubset_cholesterolfields_adjbymedstatus_062420_foranalysis\n",
    "covarFile=/gpfs/gibbs/pi/dewan/data/UKBiobank/phenotype_files/pleiotropy_R01/phenotypesforanalysis/UKB_Caucasiansubset_cholesterolfields_adjbymedstatus_062420_foranalysis\n",
    "phenoCol=\"LDL_medcorrected\"\n",
    "covarCol=\"SEX cholesterolmedbyf6153or6177or20003 smoking1 smoking2 alcohol1 alcohol2 alcohol3 alcohol4\" \n",
    "qCovarCol=AGE\n",
    "\n",
    "lmm_args=\"\"\"fastGWA\n",
    "    --cwd $lmm_dir_fastgwa \n",
    "    --bfile $bfile \n",
    "    --sampleFile $sampleFile\n",
    "    --bgenFile $bgenFile \n",
    "    --phenoFile $phenoFile \n",
    "    --formatFile $formatFile_fastgwa \n",
    "    --covarFile $covarFile  \n",
    "    --phenoCol $phenoCol \n",
    "    --covarCol $covarCol \n",
    "    --covarMaxLevels $covarMaxLevels \n",
    "    --qCovarCol $qCovarCol \n",
    "    --numThreads $numThreads \n",
    "    --bgenMinMAF $bgenMinMAF \n",
    "    --bgenMinINFO $bgenMinINFO \n",
    "    --job_size $lmm_job_size\n",
    "    --grmFile $grmFile\n",
    "    --ylim $ylim\n",
    "    --container_lmm $container_lmm\n",
    "    --container_marp $container_marp\n",
    "\"\"\"\n",
    "\n",
    "sos run ~/project/bioworkflows/GWAS/Get_Job_Script.ipynb farnam \\\n",
    "    --template-file $tpl_file \\\n",
    "    --workflow-file $lmm_sos \\\n",
    "    --to-script $lmm_sbatch_fastgwa \\\n",
    "    --args \"$lmm_args\""
   ]
  },
  {
   "cell_type": "markdown",
   "metadata": {
    "kernel": "Bash"
   },
   "source": [
    "## Triglycerides"
   ]
  },
  {
   "cell_type": "code",
   "execution_count": 4,
   "metadata": {
    "kernel": "Bash"
   },
   "outputs": [
    {
     "name": "stdout",
     "output_type": "stream",
     "text": [
      "INFO: Running \u001b[32mfarnam\u001b[0m: Configuration for Yale `farnam` cluster\n",
      "INFO: \u001b[32mfarnam\u001b[0m is \u001b[32mcompleted\u001b[0m.\n",
      "INFO: \u001b[32mfarnam\u001b[0m output:   \u001b[32m../output/2020-09-10_triglycerides_imp-fastgwa.sbatch\u001b[0m\n",
      "INFO: Workflow farnam (ID=e14e0004ea8849e5) is executed successfully with 1 completed step.\n",
      "\n"
     ]
    }
   ],
   "source": [
    "lmm_dir_fastgwa=/gpfs/gibbs/pi/dewan/data/UKBiobank/results/FastGWA_results/results_imputed_data/triglycerides\n",
    "lmm_sbatch_fastgwa=../output/$(date +\"%Y-%m-%d\")_triglycerides_imp-fastgwa.sbatch\n",
    "phenoFile=/gpfs/gibbs/pi/dewan/data/UKBiobank/phenotype_files/pleiotropy_R01/phenotypesforanalysis/UKB_Caucasiansubset_cholesterolfields_adjbymedstatus_062420_foranalysis\n",
    "covarFile=/gpfs/gibbs/pi/dewan/data/UKBiobank/phenotype_files/pleiotropy_R01/phenotypesforanalysis/UKB_Caucasiansubset_cholesterolfields_adjbymedstatus_062420_foranalysis\n",
    "phenoCol=\"triglycerides\"\n",
    "covarCol=\"SEX cholesterolmedbyf6153or6177or20003 smoking1 smoking2 alcohol1 alcohol2 alcohol3 alcohol4\" \n",
    "qCovarCol=AGE\n",
    "\n",
    "lmm_args=\"\"\"fastGWA\n",
    "    --cwd $lmm_dir_fastgwa \n",
    "    --bfile $bfile \n",
    "    --sampleFile $sampleFile\n",
    "    --bgenFile $bgenFile \n",
    "    --phenoFile $phenoFile \n",
    "    --formatFile $formatFile_fastgwa \n",
    "    --covarFile $covarFile  \n",
    "    --phenoCol $phenoCol \n",
    "    --covarCol $covarCol \n",
    "    --covarMaxLevels $covarMaxLevels \n",
    "    --qCovarCol $qCovarCol \n",
    "    --numThreads $numThreads \n",
    "    --bgenMinMAF $bgenMinMAF \n",
    "    --bgenMinINFO $bgenMinINFO \n",
    "    --job_size $lmm_job_size\n",
    "    --grmFile $grmFile\n",
    "    --ylim $ylim\n",
    "    --container_lmm $container_lmm\n",
    "    --container_marp $container_marp\n",
    "\"\"\"\n",
    "\n",
    "sos run ~/project/bioworkflows/GWAS/Get_Job_Script.ipynb farnam \\\n",
    "    --template-file $tpl_file \\\n",
    "    --workflow-file $lmm_sos \\\n",
    "    --to-script $lmm_sbatch_fastgwa \\\n",
    "    --args \"$lmm_args\""
   ]
  },
  {
   "cell_type": "code",
   "execution_count": null,
   "metadata": {
    "kernel": "Bash"
   },
   "outputs": [],
   "source": []
  }
 ],
 "metadata": {
  "kernelspec": {
   "display_name": "SoS",
   "language": "sos",
   "name": "sos"
  },
  "language_info": {
   "codemirror_mode": "sos",
   "file_extension": ".sos",
   "mimetype": "text/x-sos",
   "name": "sos",
   "nbconvert_exporter": "sos_notebook.converter.SoS_Exporter",
   "pygments_lexer": "sos"
  },
  "sos": {
   "kernels": [
    [
     "Bash",
     "calysto_bash",
     "Bash",
     "#E6EEFF",
     "shell"
    ]
   ],
   "version": "0.21.18"
  }
 },
 "nbformat": 4,
 "nbformat_minor": 4
}
