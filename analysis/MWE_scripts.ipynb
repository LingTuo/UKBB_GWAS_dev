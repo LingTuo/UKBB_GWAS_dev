{
 "cells": [
  {
   "cell_type": "markdown",
   "metadata": {
    "kernel": "SoS"
   },
   "source": [
    "## Minimal working example"
   ]
  },
  {
   "cell_type": "markdown",
   "metadata": {
    "kernel": "SoS"
   },
   "source": [
    "Script creation for the LDclumping.ipynb"
   ]
  },
  {
   "cell_type": "code",
   "execution_count": 88,
   "metadata": {
    "kernel": "SoS"
   },
   "outputs": [
    {
     "data": {
      "text/html": [
       "<div class=\"sos_hint\">Cell content saved to <a href=\"MWE_ldclump.sh\" target=\"_blank\">MWE_ldclump.sh</a>, use option -r to also execute the cell.</div>"
      ],
      "text/plain": [
       "Cell content saved to MWE_ldclump.sh, use option -r to also execute the cell.\n"
      ]
     },
     "metadata": {},
     "output_type": "display_data"
    }
   ],
   "source": [
    "%save MWE_ldclump.sh -f\n",
    "\n",
    "# Defining bash variables for the different paths,\n",
    "\n",
    "output=output\n",
    "bfile=~/MWE0612/genotypes.bed\n",
    "bgenFile=`echo ~/MWE0612/imputed_genotypes_chr2?.bgen`\n",
    "sampleFile=~/MWE0612/imputed_genotypes.sample\n",
    "sumstatsFile=~/MWE0612/output/phenotypes_BMI.fastGWA.snp_stats.gz\n",
    "unrelated_samples=~/MWE0612/unrelated_samples.txt\n",
    "ld_sample_size=100\n",
    "clump_field=P\n",
    "clump_p1=0.05\n",
    "clump_p2=1\n",
    "clump_r2=0.2\n",
    "clump_kb=1000\n",
    "clump_annotate=OR\n",
    "numThreads=20\n",
    "job_size=1\n",
    "\n",
    "#Running the workflow for BMI trait\n",
    "\n",
    "sos dryrun ~/UKBB_GWAS_DEV/workflow/LD_Clumping.ipynb \\\n",
    "    --cwd $output \\\n",
    "    --bfile $bfile \\\n",
    "    --bgenFile $bgenFile \\\n",
    "    --sampleFile $sampleFile \\\n",
    "    --sumstatsFile $sumstatsFile \\\n",
    "    --unrelated_samples $unrelated_samples \\\n",
    "    --ld_sample_size $ld_sample_size \\\n",
    "    --clump_field $clump_field \\\n",
    "    --clump_p1 $clump_p1 \\\n",
    "    --clump_p2 $clump_p2 \\\n",
    "    --clump_r2 $clump_r2 \\\n",
    "    --clump_kb $clump_kb \\\n",
    "    --clump_annotate $clump_annotate \\\n",
    "    --numThreads $numThreads \\\n",
    "    --job_size $job_size\n",
    "    -q localhost \\\n",
    "    -s build &> 062420-sos-LD-MWE.log"
   ]
  },
  {
   "cell_type": "code",
   "execution_count": 1,
   "metadata": {
    "kernel": "Bash"
   },
   "outputs": [
    {
     "name": "stdout",
     "output_type": "stream",
     "text": [
      "\n"
     ]
    }
   ],
   "source": [
    "cd"
   ]
  },
  {
   "cell_type": "code",
   "execution_count": null,
   "metadata": {
    "kernel": "Bash"
   },
   "outputs": [
    {
     "name": "stdout",
     "output_type": "stream",
     "text": [
      "INFO: Running \u001b[32mregenie_1\u001b[0m: Run REGENIE step 1: fitting the null\n"
     ]
    }
   ],
   "source": [
    "sos run ~/project/bioworkflows/GWAS/LMM.ipynb regenie\\\n",
    "    --cwd /home/dc2325/output \\\n",
    "    --bfile /home/dc2325/data/genotypes.bed \\\n",
    "    --sampleFile /home/dc2325/data/imputed_genotypes.sample \\\n",
    "    --bgenFile /home/dc2325/data/imputed_genotypes_chr*.bgen \\\n",
    "    --phenoFile /home/dc2325/data/phenotypes.txt \\\n",
    "    --formatFile /home/dc2325/data/regenie_template.yml \\\n",
    "    --phenoCol BMI \\\n",
    "    --covarCol SEX \\\n",
    "    --qCovarCol AGE \\\n",
    "    --numThreads 8 \\\n",
    "    --bsize 1000 \\\n",
    "    --lowmem /home/dc2325/output \\\n",
    "    --trait \\\n",
    "    --minMAC 4 \\\n",
    "    --bgenMinMAF 0.05 \\\n",
    "    --bgenMinINFO 0.8 \\\n",
    "    --reverse_log_p "
   ]
  },
  {
   "cell_type": "code",
   "execution_count": null,
   "metadata": {
    "kernel": "Bash"
   },
   "outputs": [],
   "source": [
    "regenie \\\n",
    "  --step 1 \\\n",
    "  --bed example/example \\\n",
    "  --exclude example/snplist_rm.txt \\\n",
    "  --covarFile example/covariates.txt \\\n",
    "  --phenoFile example/phenotype.txt \\\n",
    "  --remove example/fid_iid_to_remove.txt \\\n",
    "  --bsize 100 \\\n",
    "  --lowmem \\\n",
    "  --lowmem-prefix tmp_rg \\\n",
    "  --out fit_quant_out"
   ]
  },
  {
   "cell_type": "code",
   "execution_count": 18,
   "metadata": {
    "kernel": "Bash"
   },
   "outputs": [
    {
     "name": "stdout",
     "output_type": "stream",
     "text": [
      "Start time: Tue Aug 11 10:35:59 2020\n",
      "\n",
      "              |==================================|\n",
      "              |           REGENIE v1.0.5.5       |\n",
      "              |==================================|\n",
      "\n",
      "Copyright (c) 2020 Joelle Mbatchou and Jonathan Marchini.\n",
      "Distributed under the MIT License.\n",
      "\n",
      "Log of output saved in file : test_BMI.log\n",
      "\n",
      "Options in effect:\n",
      "  --step 2 \\\n",
      "  --bgen /home/dc2325/data/imputed_genotypes_chr21.bgen \\\n",
      "  --keep /home/dc2325/output/cache/genotypes.regenie.keep \\\n",
      "  --phenoFile /home/dc2325/output/phenotypes.regenie_phenotype \\\n",
      "  --covarFile /home/dc2325/output/phenotypes.regenie_covar \\\n",
      "  --phenoColList BMI \\\n",
      "  --covarColList AGE,SEX \\\n",
      "  --firth \\\n",
      "  --approx \\\n",
      "  --pred /home/dc2325/output/phenotypes_BMI.regenie_pred.list \\\n",
      "  --bsize 400 \\\n",
      "  --minMAC 4 \\\n",
      "  --split \\\n",
      "  --threads 5 \\\n",
      "  --out test_BMI\n",
      "\n",
      "Association testing mode with multithreading using OpenMP\n",
      " * bgen             : [/home/dc2325/data/imputed_genotypes_chr21.bgen]\n",
      "   -summary : bgen file (v1.2 layout, compressed) with 100 named samples and 50 variants.\n",
      "   -keeping only individuals specified in [/home/dc2325/output/cache/genotypes.regenie.keep]\n",
      "     +number of genotyped individuals to keep in the analysis = 100\n",
      " * phenotypes       : [/home/dc2325/output/phenotypes.regenie_phenotype] n_pheno = 1\n",
      "   -dropping observations with missing values at any of the phenotypes\n",
      "   -number of phenotyped individuals = 100\n",
      "   -number of individuals remaining with non-missing phenotypes = 100\n",
      " * covariates       : [/home/dc2325/output/phenotypes.regenie_covar] n_cov = 2\n",
      "   -number of individuals with covariate data = 100\n",
      " * number of individuals used in analysis = 100\n",
      "   -residualizing and scaling phenotypes...done (0ms) \n",
      " * loco predictions : [/home/dc2325/output/phenotypes_BMI.regenie_pred.list] n_files = 1\n",
      "   -file [/home/dc2325/output/phenotypes_BMI.regenie_1.loco] for phenotype 'BMI'\n",
      " * # threads        : [5]\n",
      " * block size       : [400]\n",
      " * # blocks         : [1]\n",
      " * approximate memory usage : 1MB\n",
      " * using minimum MAC of 4 (variants with lower MAC are ignored)\n",
      "\n",
      "Chromosome 21 [1 blocks in total]\n",
      "   -reading loco predictions for the chromosome...done (0ms) \n",
      " block [1] : done (0ms) \n",
      "\n",
      "Association results stored separately for each trait in files : \n",
      "* [test_BMI_BMI.regenie]\n",
      "\n",
      "Number of ignored SNPs due to low MAC : 31\n",
      "\n",
      "Elapsed time : 0.00440788s\n",
      "End time: Tue Aug 11 10:35:59 2020\n",
      "\n",
      "\n"
     ]
    }
   ],
   "source": [
    "    regenie \\\n",
    "     --step 2 \\\n",
    "     --bgen /home/dc2325/data/imputed_genotypes_chr*.bgen \\\n",
    "     --keep /home/dc2325/output/cache/genotypes.regenie.keep\\\n",
    "     --phenoFile /home/dc2325/output/phenotypes.regenie_phenotype \\\n",
    "     --covarFile /home/dc2325/output/phenotypes.regenie_covar\\\n",
    "     --phenoColList BMI \\\n",
    "     --covarColList AGE,SEX \\\n",
    "     --firth 0.01 --approx \\\n",
    "     --pred /home/dc2325/output/phenotypes_BMI.regenie_pred.list \\\n",
    "     --bsize 400 \\\n",
    "     --minMAC 4 \\\n",
    "     --split \\\n",
    "     --threads 5 \\\n",
    "     --out test_BMI"
   ]
  },
  {
   "cell_type": "code",
   "execution_count": 30,
   "metadata": {
    "kernel": "Bash"
   },
   "outputs": [],
   "source": [
    "cd ~/project/UKBB_GWAS_DEV/output"
   ]
  },
  {
   "cell_type": "code",
   "execution_count": 31,
   "metadata": {
    "kernel": "Bash"
   },
   "outputs": [],
   "source": [
    "# Common variables\n",
    "tpl_file=~/project/UKBB_GWAS_DEV/farnam.yml\n",
    "bfile=~/data/genotypes.bed\n",
    "sampleFile=~/data/imputed_genotypes.sample\n",
    "bgenFile=~/data/imputed_genotypes_chr*.bgen\n",
    "# LMM directories\n",
    "lmm_dir_regenie=~/output\n",
    "lmm_sos=~/project/bioworkflows/GWAS/LMM.ipynb\n",
    "lmm_sbatch_regenie=../output/$(date +\"%Y-%m-%d\")_mwe_regenie.sbatch\n",
    "phenoFile=~/data/phenotypes.txt\n",
    "lowmem=~/output\n",
    "## LMM variables \n",
    "phenoCol=BMI\n",
    "covarCol=SEX\n",
    "covarMaxLevels=10\n",
    "qCovarCol=AGE\n",
    "numThreads=8\n",
    "bgenMinMAF=0.05\n",
    "bgenMinINFO=0.8\n",
    "minMAC=4\n",
    "lmm_job_size=1\n",
    "bsize=1000\n",
    "ylim=0"
   ]
  },
  {
   "cell_type": "code",
   "execution_count": 32,
   "metadata": {
    "kernel": "Bash"
   },
   "outputs": [
    {
     "name": "stdout",
     "output_type": "stream",
     "text": [
      "INFO: Running \u001b[32mfarnam\u001b[0m: Configuration for Yale `farnam` cluster\n",
      "INFO: \u001b[32mfarnam\u001b[0m is \u001b[32mcompleted\u001b[0m.\n",
      "INFO: \u001b[32mfarnam\u001b[0m output:   \u001b[32m../output/2020-08-10_mwe_regenie.sbatch\u001b[0m\n",
      "INFO: Workflow farnam (ID=280055fda8fd6626) is executed successfully with 1 completed step.\n"
     ]
    }
   ],
   "source": [
    "lmm_args=\"\"\"regenie\n",
    "    --cwd $lmm_dir_regenie \n",
    "    --bfile $bfile \n",
    "    --sampleFile $sampleFile\n",
    "    --bgenFile $bgenFile \n",
    "    --phenoFile $phenoFile  \n",
    "    --phenoCol $phenoCol \n",
    "    --covarCol $covarCol \n",
    "    --qCovarCol $qCovarCol\n",
    "    --bgenMinMAF $bgenMinMAF\n",
    "    --bgenMinINFO $bgenMinINFO\n",
    "    --bsize $bsize\n",
    "    --minMAC $minMAC\n",
    "    --lowmem $lowmem\n",
    "    --numThreads $numThreads  \n",
    "    --job_size $lmm_job_size\n",
    "    --ylim $ylim\n",
    "    --trait\n",
    "\"\"\"\n",
    "\n",
    "sos run ~/project/bioworkflows/GWAS/Get_Job_Script.ipynb farnam \\\n",
    "    --template-file $tpl_file \\\n",
    "    --workflow-file $lmm_sos \\\n",
    "    --to-script $lmm_sbatch_regenie \\\n",
    "    --args \"$lmm_args\""
   ]
  },
  {
   "cell_type": "code",
   "execution_count": null,
   "metadata": {
    "kernel": "Bash"
   },
   "outputs": [],
   "source": []
  }
 ],
 "metadata": {
  "kernelspec": {
   "display_name": "SoS",
   "language": "sos",
   "name": "sos"
  },
  "language_info": {
   "codemirror_mode": "sos",
   "file_extension": ".sos",
   "mimetype": "text/x-sos",
   "name": "sos",
   "nbconvert_exporter": "sos_notebook.converter.SoS_Exporter",
   "pygments_lexer": "sos"
  },
  "sos": {
   "kernels": [
    [
     "Bash",
     "calysto_bash",
     "Bash",
     "#E6EEFF",
     "shell"
    ],
    [
     "SoS",
     "sos",
     "",
     "",
     "sos"
    ]
   ],
   "version": "0.21.12"
  }
 },
 "nbformat": 4,
 "nbformat_minor": 4
}
