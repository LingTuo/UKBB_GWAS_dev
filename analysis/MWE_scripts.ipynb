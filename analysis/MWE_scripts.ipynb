{
 "cells": [
  {
   "cell_type": "markdown",
   "metadata": {
    "kernel": "SoS"
   },
   "source": [
    "# Minimal working example"
   ]
  },
  {
   "cell_type": "markdown",
   "metadata": {
    "kernel": "SoS"
   },
   "source": [
    "## MWE LD Clumping"
   ]
  },
  {
   "cell_type": "code",
   "execution_count": 88,
   "metadata": {
    "kernel": "SoS"
   },
   "outputs": [
    {
     "data": {
      "text/html": [
       "<div class=\"sos_hint\">Cell content saved to <a href=\"MWE_ldclump.sh\" target=\"_blank\">MWE_ldclump.sh</a>, use option -r to also execute the cell.</div>"
      ],
      "text/plain": [
       "Cell content saved to MWE_ldclump.sh, use option -r to also execute the cell.\n"
      ]
     },
     "metadata": {},
     "output_type": "display_data"
    }
   ],
   "source": [
    "%save MWE_ldclump.sh -f\n",
    "\n",
    "# Defining bash variables for the different paths,\n",
    "\n",
    "output=output\n",
    "bfile=~/MWE0612/genotypes.bed\n",
    "bgenFile=`echo ~/MWE0612/imputed_genotypes_chr2?.bgen`\n",
    "sampleFile=~/MWE0612/imputed_genotypes.sample\n",
    "sumstatsFile=~/MWE0612/output/phenotypes_BMI.fastGWA.snp_stats.gz\n",
    "unrelated_samples=~/MWE0612/unrelated_samples.txt\n",
    "ld_sample_size=100\n",
    "clump_field=P\n",
    "clump_p1=0.05\n",
    "clump_p2=1\n",
    "clump_r2=0.2\n",
    "clump_kb=1000\n",
    "clump_annotate=OR\n",
    "numThreads=20\n",
    "job_size=1\n",
    "\n",
    "#Running the workflow for BMI trait\n",
    "\n",
    "sos dryrun ~/UKBB_GWAS_DEV/workflow/LD_Clumping.ipynb \\\n",
    "    --cwd $output \\\n",
    "    --bfile $bfile \\\n",
    "    --bgenFile $bgenFile \\\n",
    "    --sampleFile $sampleFile \\\n",
    "    --sumstatsFile $sumstatsFile \\\n",
    "    --unrelated_samples $unrelated_samples \\\n",
    "    --ld_sample_size $ld_sample_size \\\n",
    "    --clump_field $clump_field \\\n",
    "    --clump_p1 $clump_p1 \\\n",
    "    --clump_p2 $clump_p2 \\\n",
    "    --clump_r2 $clump_r2 \\\n",
    "    --clump_kb $clump_kb \\\n",
    "    --clump_annotate $clump_annotate \\\n",
    "    --numThreads $numThreads \\\n",
    "    --job_size $job_size\n",
    "    -q localhost \\\n",
    "    -s build &> 062420-sos-LD-MWE.log"
   ]
  },
  {
   "cell_type": "markdown",
   "metadata": {
    "kernel": "SoS"
   },
   "source": [
    "## MWE for REGENIE"
   ]
  },
  {
   "cell_type": "code",
   "execution_count": null,
   "metadata": {
    "kernel": "Bash"
   },
   "outputs": [],
   "source": [
    "cd\n",
    "sos run ~/project/bioworkflows/GWAS/LMM.ipynb regenie\\\n",
    "    --cwd output \\\n",
    "    --bfile /SAY/dbgapstg/scratch/UKBiobank/MWE/genotypes21_22.bed \\\n",
    "    --sampleFile /SAY/dbgapstg/scratch/UKBiobank/MWE/imputed_genotypes.sample \\\n",
    "    --bgenFile /SAY/dbgapstg/scratch/UKBiobank/MWE/imputed_genotypes_chr*.bgen \\\n",
    "    --phenoFile /SAY/dbgapstg/scratch/UKBiobank/MWE/phenotypes.txt \\\n",
    "    --formatFile /SAY/dbgapstg/scratch/UKBiobank/MWE/regenie_template.yml \\\n",
    "    --phenoCol BMI\\\n",
    "    --covarCol SEX \\\n",
    "    --qCovarCol AGE \\\n",
    "    --numThreads 8 \\\n",
    "    --bsize 1000 \\\n",
    "    --lowmem_prefix /home/dc2325/output \\\n",
    "    --trait \\\n",
    "    --minMAC 4 \\\n",
    "    --bgenMinMAF 0.05 \\\n",
    "    --bgenMinINFO 0.8 \\\n",
    "    --reverse_log_p \\\n",
    "    --p_filter 1\\\n",
    "    --container_lmm /SAY/dbgapstg/scratch/UKBiobank/lmm.sif \\\n",
    "    --container_marp /home/dc2325/scratch60/marp.sif"
   ]
  },
  {
   "cell_type": "markdown",
   "metadata": {
    "kernel": "Bash"
   },
   "source": [
    "## MWE for BOLT-LMM"
   ]
  },
  {
   "cell_type": "code",
   "execution_count": 8,
   "metadata": {
    "kernel": "Bash"
   },
   "outputs": [
    {
     "name": "stdout",
     "output_type": "stream",
     "text": [
      "rm: invalid option -- 'e'\n",
      "Try 'rm --help' for more information.\n",
      "INFO: Running \u001b[32mboltlmm_1\u001b[0m: Run BOLT analysis\n",
      "INFO: \u001b[32mboltlmm_1\u001b[0m (index=0) is \u001b[32mcompleted\u001b[0m.\n",
      "INFO: \u001b[32mboltlmm_1\u001b[0m (index=1) is \u001b[32mcompleted\u001b[0m.\n",
      "INFO: \u001b[32mboltlmm_1\u001b[0m output:   \u001b[32m/home/hs863/LMM/boltlmm_output/cache/imputed_genotypes_chr21.phenotypes_BMI.boltlmm.snp_stats.gz /home/hs863/LMM/boltlmm_output/cache/imputed_genotypes_chr22.phenotypes_BMI.boltlmm.snp_stats.gz in 2 groups\u001b[0m\n",
      "INFO: Running \u001b[32mboltlmm_2\u001b[0m: Merge results and log files\n",
      "INFO: \u001b[32mboltlmm_2\u001b[0m is \u001b[32mcompleted\u001b[0m.\n",
      "INFO: \u001b[32mboltlmm_2\u001b[0m output:   \u001b[32m/home/hs863/LMM/boltlmm_output/phenotypes_BMI.boltlmm.snp_stats.gz /home/hs863/LMM/boltlmm_output/phenotypes_BMI.boltlmm.snp_counts.txt\u001b[0m\n",
      "INFO: Running \u001b[32mboltlmm_3\u001b[0m: Manhattan and QQ plots using `qqman`\n",
      "\u001b[33mWARNING:\u001b[0m Bind mount '/home/hs863 => /home/hs863' overlaps container CWD /home/hs863, may not be available\n",
      "INFO: \u001b[32mboltlmm_3\u001b[0m is \u001b[32mcompleted\u001b[0m.\n",
      "INFO: \u001b[32mboltlmm_3\u001b[0m output:   \u001b[32m/home/hs863/LMM/boltlmm_output/phenotypes_BMI.boltlmm.manhattan.png /home/hs863/LMM/boltlmm_output/phenotypes_BMI.boltlmm.qq.png... (5 items)\u001b[0m\n",
      "INFO: Running \u001b[32mboltlmm_4\u001b[0m: Generate analysis report: HTML file, and optionally PPTX file\n",
      "INFO: \u001b[32mboltlmm_4\u001b[0m is \u001b[32mcompleted\u001b[0m.\n",
      "INFO: \u001b[32mboltlmm_4\u001b[0m output:   \u001b[32m/home/hs863/LMM/boltlmm_output/phenotypes_BMI.boltlmm.analysis_summary.html\u001b[0m\n",
      "INFO: Workflow boltlmm (ID=132a67f136aec404) is executed successfully with 4 completed steps and 5 completed substeps.\n",
      "\n"
     ]
    }
   ],
   "source": [
    "sos run ~/project/bioworkflows/GWAS/LMM.ipynb boltlmm \\\n",
    "    --cwd ~/LMM/boltlmm_output \\\n",
    "    --bfile /SAY/dbgapstg/scratch/UKBiobank/MWE/genotypes.bed \\\n",
    "    --sampleFile /SAY/dbgapstg/scratch/UKBiobank/MWE/imputed_genotypes.sample \\\n",
    "    --bgenFile /SAY/dbgapstg/scratch/UKBiobank/MWE/imputed_genotypes_chr*.bgen \\\n",
    "    --phenoFile /SAY/dbgapstg/scratch/UKBiobank/MWE/phenotypes.txt \\\n",
    "    --formatFile /SAY/dbgapstg/scratch/UKBiobank/MWE/blotLMM_template.yml \\\n",
    "    --LDscoresFile ~/software/BOLT-LMM_v2.3.4/tables/LDSCORE.1000G_EUR.tab.gz \\\n",
    "    --geneticMapFile ~/software/BOLT-LMM_v2.3.4/tables/genetic_map_hg19_withX.txt.gz \\\n",
    "    --phenoCol BMI \\\n",
    "    --covarCol SEX \\\n",
    "    --covarMaxLevels 10 \\\n",
    "    --qCovarCol AGE \\\n",
    "    --numThreads 5 \\\n",
    "    --bgenMinMAF 0.001 \\\n",
    "    --bgenMinINFO 0.1 \\\n",
    "    --lmm-option \\\n",
    "    --p_filter 1 \\\n",
    "    --container_lmm /SAY/dbgapstg/scratch/UKBiobank/lmm.sif \\\n",
    "    --container_marp /home/dc2325/scratch60/marp.sif"
   ]
  },
  {
   "cell_type": "markdown",
   "metadata": {
    "kernel": "Bash"
   },
   "source": [
    "## MWE for FastGWA"
   ]
  },
  {
   "cell_type": "code",
   "execution_count": 1,
   "metadata": {
    "kernel": "Bash"
   },
   "outputs": [
    {
     "name": "stdout",
     "output_type": "stream",
     "text": [
      "INFO: Running \u001b[32mfastGWA_1\u001b[0m: fastGWA mixed model (based on the sparse GRM generated above)\n",
      "INFO: \u001b[32mfastGWA_1\u001b[0m (index=0) is \u001b[32mcompleted\u001b[0m.\n",
      "INFO: \u001b[32mfastGWA_1\u001b[0m (index=1) is \u001b[32mcompleted\u001b[0m.\n",
      "INFO: \u001b[32mfastGWA_1\u001b[0m output:   \u001b[32m/home/hs863/LMM/output/cache/imputed_genotypes_chr21.phenotypes.fastGWA.gz /home/hs863/LMM/output/cache/imputed_genotypes_chr22.phenotypes.fastGWA.gz in 2 groups\u001b[0m\n",
      "INFO: Running \u001b[32mfastGWA_2\u001b[0m: Merge results and log files\n",
      "INFO: \u001b[32mfastGWA_2\u001b[0m is \u001b[32mcompleted\u001b[0m.\n",
      "INFO: \u001b[32mfastGWA_2\u001b[0m output:   \u001b[32m/home/hs863/LMM/output/phenotypes_BMI.fastGWA.snp_stats.gz /home/hs863/LMM/output/phenotypes_BMI.fastGWA.snp_counts.txt\u001b[0m\n",
      "INFO: Running \u001b[32mfastGWA_3\u001b[0m: Manhattan and QQ plots using `qqman`\n",
      "INFO: \u001b[32mfastGWA_3\u001b[0m is \u001b[32mcompleted\u001b[0m.\n",
      "INFO: \u001b[32mfastGWA_3\u001b[0m output:   \u001b[32m/home/hs863/LMM/output/phenotypes_BMI.fastGWA.manhattan.png /home/hs863/LMM/output/phenotypes_BMI.fastGWA.qq.png... (5 items)\u001b[0m\n",
      "INFO: Running \u001b[32mfastGWA_4\u001b[0m: Generate analysis report: HTML file, and optionally PPTX file\n",
      "INFO: \u001b[32mfastGWA_4\u001b[0m is \u001b[32mcompleted\u001b[0m.\n",
      "INFO: \u001b[32mfastGWA_4\u001b[0m output:   \u001b[32m/home/hs863/LMM/output/phenotypes_BMI.fastGWA.analysis_summary.html\u001b[0m\n",
      "INFO: Workflow fastGWA (ID=c014e893fa030f42) is executed successfully with 4 completed steps and 5 completed substeps.\n",
      "\n"
     ]
    }
   ],
   "source": [
    "sos run ~/project/bioworkflows/GWAS/LMM.ipynb fastGWA \\\n",
    "    --cwd output \\\n",
    "    --bfile c/genotypes.bed \\\n",
    "    --sampleFile /SAY/dbgapstg/scratch/UKBiobank/MWE/imputed_genotypes.sample \\\n",
    "    --bgenFile /SAY/dbgapstg/scratch/UKBiobank/MWE/imputed_genotypes_chr*.bgen \\\n",
    "    --phenoFile /SAY/dbgapstg/scratch/UKBiobank/MWE/phenotypes.txt \\\n",
    "    --formatFile /SAY/dbgapstg/scratch/UKBiobank/MWE/fastGWA_template.yml \\\n",
    "    --phenoCol BMI \\\n",
    "    --covarCol SEX \\\n",
    "    --qCovarCol AGE \\\n",
    "    --numThreads 1 \\\n",
    "    --bgenMinMAF 0.001 \\\n",
    "    --bgenMinINFO 0.1 \\\n",
    "    --parts 2 \\\n",
    "    --p_filter 1 \\\n",
    "    --container_lmm /SAY/dbgapstg/scratch/UKBiobank/lmm.sif \\\n",
    "    --container_marp /home/dc2325/scratch60/marp.sif "
   ]
  }
 ],
 "metadata": {
  "kernelspec": {
   "display_name": "Bash",
   "language": "bash",
   "name": "bash"
  },
  "language_info": {
   "codemirror_mode": "shell",
   "file_extension": ".sh",
   "mimetype": "text/x-sh",
   "name": "bash"
  },
  "sos": {
   "kernels": [
    [
     "Bash",
     "calysto_bash",
     "Bash",
     "#E6EEFF",
     "shell"
    ],
    [
     "SoS",
     "sos",
     "",
     "",
     "sos"
    ]
   ],
   "version": "0.21.12"
  }
 },
 "nbformat": 4,
 "nbformat_minor": 4
}
