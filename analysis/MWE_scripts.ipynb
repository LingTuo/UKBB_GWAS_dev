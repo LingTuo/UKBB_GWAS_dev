{
 "cells": [
  {
   "cell_type": "markdown",
   "metadata": {
    "kernel": "SoS"
   },
   "source": [
    "## Minimal working example"
   ]
  },
  {
   "cell_type": "markdown",
   "metadata": {
    "kernel": "SoS"
   },
   "source": [
    "Script creation for the LDclumping.ipynb"
   ]
  },
  {
   "cell_type": "code",
   "execution_count": 88,
   "metadata": {
    "kernel": "SoS"
   },
   "outputs": [
    {
     "data": {
      "text/html": [
       "<div class=\"sos_hint\">Cell content saved to <a href=\"MWE_ldclump.sh\" target=\"_blank\">MWE_ldclump.sh</a>, use option -r to also execute the cell.</div>"
      ],
      "text/plain": [
       "Cell content saved to MWE_ldclump.sh, use option -r to also execute the cell.\n"
      ]
     },
     "metadata": {},
     "output_type": "display_data"
    }
   ],
   "source": [
    "%save MWE_ldclump.sh -f\n",
    "\n",
    "# Defining bash variables for the different paths,\n",
    "\n",
    "output=output\n",
    "bfile=~/MWE0612/genotypes.bed\n",
    "bgenFile=`echo ~/MWE0612/imputed_genotypes_chr2?.bgen`\n",
    "sampleFile=~/MWE0612/imputed_genotypes.sample\n",
    "sumstatsFile=~/MWE0612/output/phenotypes_BMI.fastGWA.snp_stats.gz\n",
    "unrelated_samples=~/MWE0612/unrelated_samples.txt\n",
    "ld_sample_size=100\n",
    "clump_field=P\n",
    "clump_p1=0.05\n",
    "clump_p2=1\n",
    "clump_r2=0.2\n",
    "clump_kb=1000\n",
    "clump_annotate=OR\n",
    "numThreads=20\n",
    "job_size=1\n",
    "\n",
    "#Running the workflow for BMI trait\n",
    "\n",
    "sos dryrun ~/UKBB_GWAS_DEV/workflow/LD_Clumping.ipynb \\\n",
    "    --cwd $output \\\n",
    "    --bfile $bfile \\\n",
    "    --bgenFile $bgenFile \\\n",
    "    --sampleFile $sampleFile \\\n",
    "    --sumstatsFile $sumstatsFile \\\n",
    "    --unrelated_samples $unrelated_samples \\\n",
    "    --ld_sample_size $ld_sample_size \\\n",
    "    --clump_field $clump_field \\\n",
    "    --clump_p1 $clump_p1 \\\n",
    "    --clump_p2 $clump_p2 \\\n",
    "    --clump_r2 $clump_r2 \\\n",
    "    --clump_kb $clump_kb \\\n",
    "    --clump_annotate $clump_annotate \\\n",
    "    --numThreads $numThreads \\\n",
    "    --job_size $job_size\n",
    "    -q localhost \\\n",
    "    -s build &> 062420-sos-LD-MWE.log"
   ]
  },
  {
   "cell_type": "code",
   "execution_count": null,
   "metadata": {
    "kernel": "Bash"
   },
   "outputs": [],
   "source": [
    "cd"
   ]
  },
  {
   "cell_type": "code",
   "execution_count": 9,
   "metadata": {
    "kernel": "Bash"
   },
   "outputs": [
    {
     "name": "stdout",
     "output_type": "stream",
     "text": [
      "INFO: Running \u001b[32mplink\u001b[0m: Select the SNPs and samples to be used based on maf, geno, hwe and mind options\n",
      "INFO: \u001b[32mplink\u001b[0m is \u001b[32mcompleted\u001b[0m.\n",
      "INFO: \u001b[32mplink\u001b[0m output:   \u001b[32moutput/cache/genotypes21_22.qc_pass.id output/cache/genotypes21_22.qc_pass.snplist\u001b[0m\n",
      "INFO: Running \u001b[32mregenie_1\u001b[0m: Run REGENIE step 1: fitting the null\n",
      "INFO: \u001b[32mregenie_1\u001b[0m is \u001b[32mcompleted\u001b[0m.\n",
      "INFO: \u001b[32mregenie_1\u001b[0m output:   \u001b[32moutput/phenotypes_ASTHMA_T2D.regenie_pred.list\u001b[0m\n",
      "INFO: Running \u001b[32mregenie_2\u001b[0m: Run REGENIE step 2: association analysis\n",
      "INFO: \u001b[32mregenie_2\u001b[0m (index=0) is \u001b[32mcompleted\u001b[0m.\n",
      "INFO: \u001b[32mregenie_2\u001b[0m (index=1) is \u001b[32mcompleted\u001b[0m.\n",
      "INFO: \u001b[32mregenie_2\u001b[0m output:   \u001b[32moutput/imputed_genotypes_chr21_ASTHMA.regenie.gz output/imputed_genotypes_chr21_T2D.regenie.gz... (4 items in 2 groups)\u001b[0m\n",
      "INFO: Running \u001b[32mregenie_3\u001b[0m: Merge results and log files\n",
      "INFO: \u001b[32mregenie_3\u001b[0m (index=0) is \u001b[32mcompleted\u001b[0m.\n",
      "INFO: \u001b[32mregenie_3\u001b[0m (index=1) is \u001b[32mcompleted\u001b[0m.\n",
      "INFO: \u001b[32mregenie_3\u001b[0m output:   \u001b[32moutput/phenotypes_ASTHMA.regenie.snp_stats.gz output/phenotypes_ASTHMA.regenie.snp_counts.txt... (4 items in 2 groups)\u001b[0m\n",
      "INFO: Running \u001b[32mregenie_4\u001b[0m: Manhattan and QQ plots using `qqman`\n",
      "INFO: \u001b[32mregenie_4\u001b[0m (index=0) is \u001b[32mcompleted\u001b[0m.\n",
      "\u001b[91mERROR\u001b[0m: \u001b[91m[regenie_4]: [(id=7118834763a3bc14, index=1)]: \n",
      "Failed to execute \u001b[0m\u001b[32mRscript .sos/regenie_4_1_41e5f8f6.R\u001b[0m\u001b[91m\n",
      "exitcode=1, workdir=\u001b[0m\u001b[32m/gpfs/ysm/home/dc2325\u001b[0m\u001b[91m, stderr=output/phenotypes_T2D.regenie.manhattan_annotated.stderr\n",
      "---------------------------------------------------------------------------\n",
      "[regenie]: Exits with 1 pending step (regenie_5)\u001b[0m\n"
     ]
    },
    {
     "ename": "",
     "evalue": "1",
     "output_type": "error",
     "traceback": []
    }
   ],
   "source": [
    "sos run ~/project/bioworkflows/GWAS/LMM.ipynb regenie\\\n",
    "    --cwd output \\\n",
    "    --bfile data/genotypes21_22.bed \\\n",
    "    --sampleFile data/imputed_genotypes.sample \\\n",
    "    --bgenFile data/imputed_genotypes_chr*.bgen \\\n",
    "    --phenoFile data/phenotypes.txt \\\n",
    "    --formatFile data/regenie_template.yml \\\n",
    "    --phenoCol ASTHMA T2D\\\n",
    "    --covarCol SEX \\\n",
    "    --qCovarCol AGE \\\n",
    "    --numThreads 8 \\\n",
    "    --bsize 1000 \\\n",
    "    --lowmem_prefix /home/dc2325/output \\\n",
    "    --trait bt \\\n",
    "    --minMAC 4 \\\n",
    "    --bgenMinMAF 0.05 \\\n",
    "    --bgenMinINFO 0.8 \\\n",
    "    --reverse_log_p \\\n",
    "    --container_option /SAY/dbgapstg/scratch/UKBiobank/lmm.sif"
   ]
  },
  {
   "cell_type": "code",
   "execution_count": null,
   "metadata": {
    "kernel": "Bash"
   },
   "outputs": [],
   "source": [
    "regenie \\\n",
    "  --step 1 \\\n",
    "  --bed example/example \\\n",
    "  --exclude example/snplist_rm.txt \\\n",
    "  --covarFile example/covariates.txt \\\n",
    "  --phenoFile example/phenotype.txt \\\n",
    "  --remove example/fid_iid_to_remove.txt \\\n",
    "  --bsize 100 \\\n",
    "  --lowmem \\\n",
    "  --lowmem-prefix tmp_rg \\\n",
    "  --out fit_quant_out"
   ]
  },
  {
   "cell_type": "code",
   "execution_count": null,
   "metadata": {
    "kernel": "Bash"
   },
   "outputs": [],
   "source": [
    "    regenie \\\n",
    "     --step 2 \\\n",
    "     --bgen /home/dc2325/data/imputed_genotypes_chr*.bgen \\\n",
    "     --keep /home/dc2325/output/cache/genotypes.regenie.keep\\\n",
    "     --phenoFile /home/dc2325/output/phenotypes.regenie_phenotype \\\n",
    "     --covarFile /home/dc2325/output/phenotypes.regenie_covar\\\n",
    "     --phenoColList BMI \\\n",
    "     --covarColList AGE,SEX \\\n",
    "     --firth 0.01 --approx \\\n",
    "     --pred /home/dc2325/output/phenotypes_BMI.regenie_pred.list \\\n",
    "     --bsize 400 \\\n",
    "     --minMAC 4 \\\n",
    "     --split \\\n",
    "     --threads 5 \\\n",
    "     --out test_BMI"
   ]
  },
  {
   "cell_type": "code",
   "execution_count": 30,
   "metadata": {
    "kernel": "Bash"
   },
   "outputs": [],
   "source": [
    "cd ~/project/UKBB_GWAS_DEV/output"
   ]
  },
  {
   "cell_type": "code",
   "execution_count": 31,
   "metadata": {
    "kernel": "Bash"
   },
   "outputs": [],
   "source": [
    "# Common variables\n",
    "tpl_file=~/project/UKBB_GWAS_DEV/farnam.yml\n",
    "bfile=~/data/genotypes.bed\n",
    "sampleFile=~/data/imputed_genotypes.sample\n",
    "bgenFile=~/data/imputed_genotypes_chr*.bgen\n",
    "# LMM directories\n",
    "lmm_dir_regenie=~/output\n",
    "lmm_sos=~/project/bioworkflows/GWAS/LMM.ipynb\n",
    "lmm_sbatch_regenie=../output/$(date +\"%Y-%m-%d\")_mwe_regenie.sbatch\n",
    "phenoFile=~/data/phenotypes.txt\n",
    "lowmem=~/output\n",
    "## LMM variables \n",
    "phenoCol=BMI\n",
    "covarCol=SEX\n",
    "covarMaxLevels=10\n",
    "qCovarCol=AGE\n",
    "numThreads=8\n",
    "bgenMinMAF=0.05\n",
    "bgenMinINFO=0.8\n",
    "minMAC=4\n",
    "lmm_job_size=1\n",
    "bsize=1000\n",
    "ylim=0"
   ]
  },
  {
   "cell_type": "code",
   "execution_count": 32,
   "metadata": {
    "kernel": "Bash"
   },
   "outputs": [
    {
     "name": "stdout",
     "output_type": "stream",
     "text": [
      "INFO: Running \u001b[32mfarnam\u001b[0m: Configuration for Yale `farnam` cluster\n",
      "INFO: \u001b[32mfarnam\u001b[0m is \u001b[32mcompleted\u001b[0m.\n",
      "INFO: \u001b[32mfarnam\u001b[0m output:   \u001b[32m../output/2020-08-10_mwe_regenie.sbatch\u001b[0m\n",
      "INFO: Workflow farnam (ID=280055fda8fd6626) is executed successfully with 1 completed step.\n"
     ]
    }
   ],
   "source": [
    "lmm_args=\"\"\"regenie\n",
    "    --cwd $lmm_dir_regenie \n",
    "    --bfile $bfile \n",
    "    --sampleFile $sampleFile\n",
    "    --bgenFile $bgenFile \n",
    "    --phenoFile $phenoFile  \n",
    "    --phenoCol $phenoCol \n",
    "    --covarCol $covarCol \n",
    "    --qCovarCol $qCovarCol\n",
    "    --bgenMinMAF $bgenMinMAF\n",
    "    --bgenMinINFO $bgenMinINFO\n",
    "    --bsize $bsize\n",
    "    --minMAC $minMAC\n",
    "    --lowmem $lowmem\n",
    "    --numThreads $numThreads  \n",
    "    --job_size $lmm_job_size\n",
    "    --ylim $ylim\n",
    "    --trait\n",
    "\"\"\"\n",
    "\n",
    "sos run ~/project/bioworkflows/GWAS/Get_Job_Script.ipynb farnam \\\n",
    "    --template-file $tpl_file \\\n",
    "    --workflow-file $lmm_sos \\\n",
    "    --to-script $lmm_sbatch_regenie \\\n",
    "    --args \"$lmm_args\""
   ]
  },
  {
   "cell_type": "code",
   "execution_count": 3,
   "metadata": {
    "kernel": "Bash"
   },
   "outputs": [
    {
     "name": "stdout",
     "output_type": "stream",
     "text": [
      "INFO: Running \u001b[32mboltlmm_1\u001b[0m: Run BOLT analysis\n",
      "INFO: \u001b[32mboltlmm_1\u001b[0m (index=0) is \u001b[32mcompleted\u001b[0m.\n",
      "INFO: \u001b[32mboltlmm_1\u001b[0m (index=1) is \u001b[32mcompleted\u001b[0m.\n",
      "INFO: \u001b[32mboltlmm_1\u001b[0m output:   \u001b[32moutput/cache/imputed_genotypes_chr21.phenotypes_BMI.boltlmm.snp_stats.gz output/cache/imputed_genotypes_chr22.phenotypes_BMI.boltlmm.snp_stats.gz in 2 groups\u001b[0m\n",
      "INFO: Running \u001b[32mboltlmm_2\u001b[0m: Merge results and log files\n",
      "INFO: \u001b[32mboltlmm_2\u001b[0m is \u001b[32mcompleted\u001b[0m.\n",
      "INFO: \u001b[32mboltlmm_2\u001b[0m output:   \u001b[32moutput/phenotypes_BMI.boltlmm.snp_stats.gz output/phenotypes_BMI.boltlmm.snp_counts.txt\u001b[0m\n",
      "INFO: Running \u001b[32mboltlmm_3\u001b[0m: Manhattan and QQ plots using `qqman`\n",
      "INFO: \u001b[32mboltlmm_3\u001b[0m is \u001b[32mcompleted\u001b[0m.\n",
      "INFO: \u001b[32mboltlmm_3\u001b[0m output:   \u001b[32moutput/phenotypes_BMI.boltlmm.manhattan.png output/phenotypes_BMI.boltlmm.qq.png... (5 items)\u001b[0m\n",
      "INFO: Running \u001b[32mboltlmm_4\u001b[0m: Generate analysis report: HTML file, and optionally PPTX file\n",
      "(node:28910) ExperimentalWarning: The fs.promises API is experimental\n",
      "\u001b[46m\u001b[30m[  INFO ]\u001b[39m\u001b[49m Converting 1 markdown...\n",
      "\u001b[46m\u001b[30m[  INFO ]\u001b[39m\u001b[49m phenotypes_BMI.boltlmm.analysis_summary.md => phenotypes_BMI.boltlmm.analysis_summary.html\n",
      "(node:28928) ExperimentalWarning: The fs.promises API is experimental\n",
      "\u001b[46m\u001b[30m[  INFO ]\u001b[39m\u001b[49m Converting 1 markdown...\n",
      "\u001b[41m\u001b[37m[ ERROR ]\u001b[39m\u001b[49m Failed converting Markdown. (The environment variable CHROME_PATH must\n",
      "          be set to executable of a build of Chromium version 54.0 or later.)\n",
      "\u001b[91mERROR\u001b[0m: \u001b[91mboltlmm_4 (id=3cddef04297d8bdc) returns an error.\u001b[0m\n",
      "\u001b[91mERROR\u001b[0m: \u001b[91m[boltlmm_4]: [0]: \n",
      "Failed to execute \u001b[0m\u001b[32m/bin/bash .sos/boltlmm_4_0_6f9e4102.sh\u001b[0m\u001b[91m\n",
      "exitcode=1, workdir=\u001b[0m\u001b[32m/gpfs/ysm/home/dc2325/output\u001b[0m\u001b[91m\n",
      "---------------------------------------------------------------------------\u001b[0m\n"
     ]
    },
    {
     "ename": "",
     "evalue": "1",
     "output_type": "error",
     "traceback": []
    }
   ],
   "source": [
    "cd\n",
    "sos run ~/project/bioworkflows/GWAS/LMM.ipynb boltlmm \\\n",
    "    --cwd output \\\n",
    "    --bfile data/genotypes.bed \\\n",
    "    --sampleFile data/imputed_genotypes.sample \\\n",
    "    --bgenFile data/imputed_genotypes_chr*.bgen \\\n",
    "    --phenoFile data/phenotypes.txt \\\n",
    "    --formatFile data/boltlmm_template.yml \\\n",
    "    --LDscoresFile ~/software/BOLT-LMM_v2.3.4/tables/LDSCORE.1000G_EUR.tab.gz \\\n",
    "    --geneticMapFile ~/software/BOLT-LMM_v2.3.4/tables/genetic_map_hg19_withX.txt.gz \\\n",
    "    --phenoCol BMI \\\n",
    "    --covarCol SEX \\\n",
    "    --covarMaxLevels 10 \\\n",
    "    --qCovarCol AGE \\\n",
    "    --numThreads 5 \\\n",
    "    --bgenMinMAF 0.001 \\\n",
    "    --bgenMinINFO 0.1 \\\n",
    "    --lmm-option \\\n",
    "    --p-filter 1 \\\n",
    "    --container_option /SAY/dbgapstg/scratch/UKBiobank/lmm.sif"
   ]
  },
  {
   "cell_type": "code",
   "execution_count": 7,
   "metadata": {
    "kernel": "Bash"
   },
   "outputs": [
    {
     "name": "stdout",
     "output_type": "stream",
     "text": [
      "INFO: Running \u001b[32mfastGWA_1\u001b[0m: fastGWA mixed model (based on the sparse GRM generated above)\n",
      "INFO: \u001b[32mfastGWA_1\u001b[0m (index=0) is \u001b[32mcompleted\u001b[0m.\n",
      "INFO: \u001b[32mfastGWA_1\u001b[0m (index=1) is \u001b[32mcompleted\u001b[0m.\n",
      "INFO: \u001b[32mfastGWA_1\u001b[0m output:   \u001b[32moutput/cache/imputed_genotypes_chr21.phenotypes.fastGWA.gz output/cache/imputed_genotypes_chr22.phenotypes.fastGWA.gz in 2 groups\u001b[0m\n",
      "INFO: Running \u001b[32mfastGWA_2\u001b[0m: Merge results and log files\n",
      "INFO: \u001b[32mfastGWA_2\u001b[0m is \u001b[32mcompleted\u001b[0m.\n",
      "INFO: \u001b[32mfastGWA_2\u001b[0m output:   \u001b[32moutput/phenotypes_BMI.fastGWA.snp_stats.gz output/phenotypes_BMI.fastGWA.snp_counts.txt\u001b[0m\n",
      "INFO: Running \u001b[32mfastGWA_3\u001b[0m: Manhattan and QQ plots using `qqman`\n",
      "INFO: \u001b[32mfastGWA_3\u001b[0m is \u001b[32mcompleted\u001b[0m.\n",
      "INFO: \u001b[32mfastGWA_3\u001b[0m output:   \u001b[32moutput/phenotypes_BMI.fastGWA.manhattan.png output/phenotypes_BMI.fastGWA.qq.png... (5 items)\u001b[0m\n",
      "INFO: Running \u001b[32mfastGWA_4\u001b[0m: Generate analysis report: HTML file, and optionally PPTX file\n",
      "(node:31175) ExperimentalWarning: The fs.promises API is experimental\n",
      "\u001b[46m\u001b[30m[  INFO ]\u001b[39m\u001b[49m Converting 1 markdown...\n",
      "\u001b[46m\u001b[30m[  INFO ]\u001b[39m\u001b[49m phenotypes_BMI.fastGWA.analysis_summary.md => phenotypes_BMI.fastGWA.analysis_summary.html\n",
      "(node:31190) ExperimentalWarning: The fs.promises API is experimental\n",
      "\u001b[46m\u001b[30m[  INFO ]\u001b[39m\u001b[49m Converting 1 markdown...\n",
      "\u001b[41m\u001b[37m[ ERROR ]\u001b[39m\u001b[49m Failed converting Markdown. (The environment variable CHROME_PATH must\n",
      "          be set to executable of a build of Chromium version 54.0 or later.)\n",
      "\u001b[91mERROR\u001b[0m: \u001b[91mfastGWA_4 (id=59762bcff4e5160b) returns an error.\u001b[0m\n",
      "\u001b[91mERROR\u001b[0m: \u001b[91m[fastGWA_4]: [0]: \n",
      "Failed to execute \u001b[0m\u001b[32m/bin/bash .sos/fastGWA_4_0_44218603.sh\u001b[0m\u001b[91m\n",
      "exitcode=1, workdir=\u001b[0m\u001b[32m/gpfs/ysm/home/dc2325/output\u001b[0m\u001b[91m\n",
      "---------------------------------------------------------------------------\u001b[0m\n"
     ]
    },
    {
     "ename": "",
     "evalue": "1",
     "output_type": "error",
     "traceback": []
    }
   ],
   "source": [
    "sos run ~/project/bioworkflows/GWAS/LMM.ipynb fastGWA \\\n",
    "    --cwd output \\\n",
    "    --bfile data/genotypes.bed \\\n",
    "    --sampleFile data/imputed_genotypes.sample \\\n",
    "    --bgenFile data/imputed_genotypes_chr*.bgen \\\n",
    "    --phenoFile data/phenotypes.txt \\\n",
    "    --formatFile data/fastGWA_template.yml \\\n",
    "    --phenoCol BMI \\\n",
    "    --covarCol SEX \\\n",
    "    --qCovarCol AGE \\\n",
    "    --numThreads 1 \\\n",
    "    --bgenMinMAF 0.001 \\\n",
    "    --bgenMinINFO 0.1 \\\n",
    "    --parts 2 \\\n",
    "    --p-filter 1 \\\n",
    "    --container_option /SAY/dbgapstg/scratch/UKBiobank/lmm.sif \\\n",
    "    $JOB_OPT"
   ]
  },
  {
   "cell_type": "code",
   "execution_count": null,
   "metadata": {
    "kernel": "Bash"
   },
   "outputs": [],
   "source": []
  }
 ],
 "metadata": {
  "kernelspec": {
   "display_name": "SoS",
   "language": "sos",
   "name": "sos"
  },
  "language_info": {
   "codemirror_mode": "sos",
   "file_extension": ".sos",
   "mimetype": "text/x-sos",
   "name": "sos",
   "nbconvert_exporter": "sos_notebook.converter.SoS_Exporter",
   "pygments_lexer": "sos"
  },
  "sos": {
   "kernels": [
    [
     "Bash",
     "calysto_bash",
     "Bash",
     "#E6EEFF",
     "shell"
    ],
    [
     "SoS",
     "sos",
     "",
     "",
     "sos"
    ]
   ],
   "version": "0.21.12"
  }
 },
 "nbformat": 4,
 "nbformat_minor": 4
}
