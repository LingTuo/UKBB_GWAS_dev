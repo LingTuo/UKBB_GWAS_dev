{
 "cells": [
  {
   "cell_type": "markdown",
   "metadata": {
    "kernel": "SoS"
   },
   "source": [
    "# Minimal working example"
   ]
  },
  {
   "cell_type": "markdown",
   "metadata": {
    "kernel": "SoS"
   },
   "source": [
    "## MWE LD Clumping"
   ]
  },
  {
   "cell_type": "code",
   "execution_count": 88,
   "metadata": {
    "kernel": "SoS"
   },
   "outputs": [
    {
     "data": {
      "text/html": [
       "<div class=\"sos_hint\">Cell content saved to <a href=\"MWE_ldclump.sh\" target=\"_blank\">MWE_ldclump.sh</a>, use option -r to also execute the cell.</div>"
      ],
      "text/plain": [
       "Cell content saved to MWE_ldclump.sh, use option -r to also execute the cell.\n"
      ]
     },
     "metadata": {},
     "output_type": "display_data"
    }
   ],
   "source": [
    "%save MWE_ldclump.sh -f\n",
    "\n",
    "# Defining bash variables for the different paths,\n",
    "\n",
    "output=output\n",
    "bfile=~/MWE0612/genotypes.bed\n",
    "bgenFile=`echo ~/MWE0612/imputed_genotypes_chr2?.bgen`\n",
    "sampleFile=~/MWE0612/imputed_genotypes.sample\n",
    "sumstatsFile=~/MWE0612/output/phenotypes_BMI.fastGWA.snp_stats.gz\n",
    "unrelated_samples=~/MWE0612/unrelated_samples.txt\n",
    "ld_sample_size=100\n",
    "clump_field=P\n",
    "clump_p1=0.05\n",
    "clump_p2=1\n",
    "clump_r2=0.2\n",
    "clump_kb=1000\n",
    "clump_annotate=OR\n",
    "numThreads=20\n",
    "job_size=1\n",
    "\n",
    "#Running the workflow for BMI trait\n",
    "\n",
    "sos dryrun ~/UKBB_GWAS_DEV/workflow/LD_Clumping.ipynb \\\n",
    "    --cwd $output \\\n",
    "    --bfile $bfile \\\n",
    "    --bgenFile $bgenFile \\\n",
    "    --sampleFile $sampleFile \\\n",
    "    --sumstatsFile $sumstatsFile \\\n",
    "    --unrelated_samples $unrelated_samples \\\n",
    "    --ld_sample_size $ld_sample_size \\\n",
    "    --clump_field $clump_field \\\n",
    "    --clump_p1 $clump_p1 \\\n",
    "    --clump_p2 $clump_p2 \\\n",
    "    --clump_r2 $clump_r2 \\\n",
    "    --clump_kb $clump_kb \\\n",
    "    --clump_annotate $clump_annotate \\\n",
    "    --numThreads $numThreads \\\n",
    "    --job_size $job_size\n",
    "    -q localhost \\\n",
    "    -s build &> 062420-sos-LD-MWE.log"
   ]
  },
  {
   "cell_type": "markdown",
   "metadata": {
    "kernel": "SoS"
   },
   "source": [
    "## MWE for REGENIE"
   ]
  },
  {
   "cell_type": "code",
   "execution_count": 14,
   "metadata": {},
   "outputs": [
    {
     "name": "stdout",
     "output_type": "stream",
     "text": [
      "\u001b[91mERROR\u001b[0m: \u001b[91mlocal variable 'value' referenced before assignment\u001b[0m\n"
     ]
    },
    {
     "ename": "",
     "evalue": "1",
     "output_type": "error",
     "traceback": []
    }
   ],
   "source": [
    "cd\n",
    "sos run ~/project/bioworkflows/GWAS/LMM.ipynb regenie:1 \\\n",
    "    --cwd output \\\n",
    "    --bfile /SAY/dbgapstg/scratch/UKBiobank/MWE/genotypes21_22.bed \\\n",
    "    --sampleFile /SAY/dbgapstg/scratch/UKBiobank/MWE/imputed_genotypes.sample \\\n",
    "    --bgenFile /SAY/dbgapstg/scratch/UKBiobank/MWE/imputed_genotypes_chr*.bgen \\\n",
    "    --phenoFile /SAY/dbgapstg/scratch/UKBiobank/MWE/phenotypes.txt \\\n",
    "    --formatFile /SAY/dbgapstg/scratch/UKBiobank/MWE/regenie_template.yml \\\n",
    "    --phenoCol ASTHMA \\\n",
    "    --covarCol SEX \\\n",
    "    --qCovarCol AGE \\\n",
    "    --numThreads 8 \\\n",
    "    --bsize 1000 \\\n",
    "    --lowmem_prefix output \\\n",
    "    --trait bt \\\n",
    "    --minMAC 4 \\\n",
    "    --bgenMinMAF 0.05 \\\n",
    "    --bgenMinINFO 0.8 \\\n",
    "    --reverse_log_p \\\n",
    "    --p_filter 1\\\n",
    "    --container_lmm /SAY/dbgapstg/scratch/UKBiobank/lmm.sif\\\n",
    "    --container_marp /SAY/dbgapstg/scratch/UKBiobank/marp.sif \\\n",
    "    --maf_filter  0.5 \\\n",
    "    --geno_filter  0.1 \\\n",
    "    --hwe_filter  1.0 \\\n",
    "    --mind_filter  0.1"
   ]
  },
  {
   "cell_type": "code",
   "execution_count": 17,
   "metadata": {},
   "outputs": [
    {
     "name": "stdout",
     "output_type": "stream",
     "text": [
      "INFO: Running \u001b[32mregenie_1\u001b[0m: Run REGENIE step 1: fitting the null\n",
      "\u001b[91mERROR\u001b[0m: \u001b[91mregenie_1 (id=9f74af67be77b0e3) returns an error.\u001b[0m\n",
      "\u001b[91mERROR\u001b[0m: \u001b[91m[regenie_1]: [0]: Executing script in Singularity returns an error (exitcode=1, stderr=output/phenotypes_ASTHMA.regenie_pred.stderr, stdout=output/phenotypes_ASTHMA.regenie_pred.stdout).\n",
      "The script has been saved to /gpfs/ysm/home/dc2325/.sos/singularity_run_3054.sh. To reproduce the error please run:\n",
      "\u001b[0m\u001b[32msingularity exec  /home/dc2325/scratch60/lmm.sif /bin/bash /gpfs/ysm/home/dc2325/.sos/singularity_run_3054.sh\u001b[0m\u001b[91m\n",
      "[regenie]: Exits with 4 pending steps (regenie_2, regenie_3, regenie_4, regenie_5)\u001b[0m\n"
     ]
    },
    {
     "ename": "",
     "evalue": "1",
     "output_type": "error",
     "traceback": []
    }
   ],
   "source": [
    "cd\n",
    "sos run ~/project/bioworkflows/GWAS/LMM.ipynb regenie \\\n",
    "    --cwd output \\\n",
    "    --bfile data/genotypes21_22.bed \\\n",
    "    --sampleFile data/imputed_genotypes.sample \\\n",
    "    --bgenFile data/imputed_genotypes_chr*.bgen \\\n",
    "    --phenoFile data/phenotypes.txt \\\n",
    "    --formatFile data/regenie_template.yml \\\n",
    "    --phenoCol ASTHMA \\\n",
    "    --covarCol SEX \\\n",
    "    --qCovarCol AGE \\\n",
    "    --numThreads 8 \\\n",
    "    --bsize 1000 \\\n",
    "    --lowmem_prefix output \\\n",
    "    --trait bt \\\n",
    "    --minMAC 4 \\\n",
    "    --bgenMinMAF 0.05 \\\n",
    "    --bgenMinINFO 0.8 \\\n",
    "    --reverse_log_p \\\n",
    "    --p_filter 1\\\n",
    "    --maf_filter  0.5 \\\n",
    "    --geno_filter  0.1 \\\n",
    "    --hwe_filter  1.0 \\\n",
    "    --mind_filter  0.1 \\\n",
    "    --container_lmm /home/dc2325/scratch60/lmm.sif\\\n",
    "    --container_marp /SAY/dbgapstg/scratch/UKBiobank/marp.sif"
   ]
  },
  {
   "cell_type": "markdown",
   "metadata": {
    "kernel": "Bash"
   },
   "source": [
    "## MWE for BOLT-LMM"
   ]
  },
  {
   "cell_type": "code",
   "execution_count": 6,
   "metadata": {
    "kernel": "Bash"
   },
   "outputs": [
    {
     "name": "stdout",
     "output_type": "stream",
     "text": [
      "INFO: Running \u001b[32mboltlmm_1\u001b[0m: Run BOLT analysis\n",
      "INFO: \u001b[32mboltlmm_1\u001b[0m (index=0) is \u001b[32mcompleted\u001b[0m.\n",
      "INFO: \u001b[32mboltlmm_1\u001b[0m (index=1) is \u001b[32mcompleted\u001b[0m.\n",
      "INFO: \u001b[32mboltlmm_1\u001b[0m output:   \u001b[32moutput/cache/imputed_genotypes_chr21.phenotypes_BMI.boltlmm.snp_stats.gz output/cache/imputed_genotypes_chr22.phenotypes_BMI.boltlmm.snp_stats.gz in 2 groups\u001b[0m\n",
      "INFO: Running \u001b[32mboltlmm_2\u001b[0m: Merge results and log files\n",
      "INFO: \u001b[32mboltlmm_2\u001b[0m is \u001b[32mcompleted\u001b[0m.\n",
      "INFO: \u001b[32mboltlmm_2\u001b[0m output:   \u001b[32moutput/phenotypes_BMI.boltlmm.snp_stats.gz output/phenotypes_BMI.boltlmm.snp_counts.txt\u001b[0m\n",
      "INFO: Running \u001b[32mboltlmm_3\u001b[0m: Manhattan and QQ plots using `qqman`\n",
      "\u001b[33mWARNING:\u001b[0m Bind mount '/home/dc2325 => /home/dc2325' overlaps container CWD /home/dc2325, may not be available\n",
      "\u001b[33mWARNING:\u001b[0m Bind mount '/home/dc2325 => /home/dc2325' overlaps container CWD /home/dc2325, may not be available\n",
      "INFO: \u001b[32mboltlmm_3\u001b[0m is \u001b[32mcompleted\u001b[0m.\n",
      "INFO: \u001b[32mboltlmm_3\u001b[0m output:   \u001b[32moutput/phenotypes_BMI.boltlmm.manhattan.png output/phenotypes_BMI.boltlmm.qq.png... (5 items)\u001b[0m\n",
      "INFO: Running \u001b[32mboltlmm_4\u001b[0m: Generate analysis report: HTML file, and optionally PPTX file\n",
      "INFO: \u001b[32mboltlmm_4\u001b[0m is \u001b[32mcompleted\u001b[0m.\n",
      "INFO: \u001b[32mboltlmm_4\u001b[0m output:   \u001b[32moutput/phenotypes_BMI.boltlmm.analysis_summary.html\u001b[0m\n",
      "INFO: Workflow boltlmm (ID=ffb9dca48cb662d5) is executed successfully with 4 completed steps and 5 completed substeps.\n"
     ]
    }
   ],
   "source": [
    "sos run ~/project/bioworkflows/GWAS/LMM.ipynb boltlmm \\\n",
    "    --cwd output \\\n",
    "    --bfile /SAY/dbgapstg/scratch/UKBiobank/MWE/genotypes.bed \\\n",
    "    --sampleFile /SAY/dbgapstg/scratch/UKBiobank/MWE/imputed_genotypes.sample \\\n",
    "    --bgenFile /SAY/dbgapstg/scratch/UKBiobank/MWE/imputed_genotypes_chr*.bgen \\\n",
    "    --phenoFile /SAY/dbgapstg/scratch/UKBiobank/MWE/phenotypes.txt \\\n",
    "    --formatFile /SAY/dbgapstg/scratch/UKBiobank/MWE/blotLMM_template.yml \\\n",
    "    --LDscoresFile ~/software/BOLT-LMM_v2.3.4/tables/LDSCORE.1000G_EUR.tab.gz \\\n",
    "    --geneticMapFile ~/software/BOLT-LMM_v2.3.4/tables/genetic_map_hg19_withX.txt.gz \\\n",
    "    --phenoCol BMI \\\n",
    "    --covarCol SEX \\\n",
    "    --covarMaxLevels 10 \\\n",
    "    --qCovarCol AGE \\\n",
    "    --numThreads 5 \\\n",
    "    --bgenMinMAF 0.001 \\\n",
    "    --bgenMinINFO 0.1 \\\n",
    "    --lmm-option \\\n",
    "    --p_filter 1 \\\n",
    "    --container_lmm /SAY/dbgapstg/scratch/UKBiobank/lmm.sif \\\n",
    "    --container_marp /SAY/dbgapstg/scratch/UKBiobank/marp.sif"
   ]
  },
  {
   "cell_type": "markdown",
   "metadata": {
    "kernel": "Bash"
   },
   "source": [
    "## MWE for FastGWA"
   ]
  },
  {
   "cell_type": "code",
   "execution_count": 2,
   "metadata": {
    "kernel": "Bash"
   },
   "outputs": [
    {
     "name": "stdout",
     "output_type": "stream",
     "text": [
      "INFO: Running \u001b[32mfastGWA_1\u001b[0m: fastGWA mixed model (based on the sparse GRM generated above)\n",
      "INFO: Running \u001b[32mgcta_1\u001b[0m: Partition the GRM into 100 parts and allocate 8GB memory to each job\n",
      "INFO: \u001b[32mgcta_1\u001b[0m (index=0) is \u001b[32mignored\u001b[0m due to saved signature\n",
      "INFO: \u001b[32mgcta_1\u001b[0m (index=1) is \u001b[32mignored\u001b[0m due to saved signature\n",
      "INFO: \u001b[32mgcta_1\u001b[0m output:   \u001b[32moutput/cache/genotypes.part_2_1.grm.bin output/cache/genotypes.part_2_1.grm.N.bin... (6 items in 2 groups)\u001b[0m\n",
      "INFO: Running \u001b[32mgcta_2\u001b[0m: Merge all the parts together (Linux, Mac)\n",
      "INFO: \u001b[32mgcta_2\u001b[0m is \u001b[32mcompleted\u001b[0m.\n",
      "INFO: \u001b[32mgcta_2\u001b[0m output:   \u001b[32moutput/genotypes.grm.bin output/genotypes.grm.N.bin... (3 items)\u001b[0m\n",
      "INFO: Running \u001b[32mgcta_3\u001b[0m: Make a sparse GRM from the merged full-dense GRM\n",
      "INFO: \u001b[32mgcta_3\u001b[0m is \u001b[32mcompleted\u001b[0m.\n",
      "INFO: \u001b[32mgcta_3\u001b[0m output:   \u001b[32moutput/genotypes.grm.sp\u001b[0m\n",
      "INFO: \u001b[32mfastGWA_1\u001b[0m (index=0) is \u001b[32mignored\u001b[0m due to saved signature\n",
      "INFO: \u001b[32mfastGWA_1\u001b[0m (index=1) is \u001b[32mignored\u001b[0m due to saved signature\n",
      "INFO: \u001b[32mfastGWA_1\u001b[0m output:   \u001b[32moutput/cache/imputed_genotypes_chr21.phenotypes.fastGWA.gz output/cache/imputed_genotypes_chr22.phenotypes.fastGWA.gz in 2 groups\u001b[0m\n",
      "INFO: Running \u001b[32mfastGWA_2\u001b[0m: Merge results and log files\n",
      "INFO: \u001b[32mfastGWA_2\u001b[0m is \u001b[32mcompleted\u001b[0m.\n",
      "INFO: \u001b[32mfastGWA_2\u001b[0m output:   \u001b[32moutput/phenotypes_BMI.fastGWA.snp_stats.gz output/phenotypes_BMI.fastGWA.snp_counts.txt\u001b[0m\n",
      "INFO: Running \u001b[32mfastGWA_3\u001b[0m: Manhattan and QQ plots using `qqman`\n",
      "INFO: \u001b[32mfastGWA_3\u001b[0m is \u001b[32mcompleted\u001b[0m.\n",
      "INFO: \u001b[32mfastGWA_3\u001b[0m output:   \u001b[32moutput/phenotypes_BMI.fastGWA.manhattan.png output/phenotypes_BMI.fastGWA.qq.png... (5 items)\u001b[0m\n",
      "INFO: Running \u001b[32mfastGWA_4\u001b[0m: Generate analysis report: HTML file, and optionally PPTX file\n",
      "INFO: \u001b[32mfastGWA_4\u001b[0m is \u001b[32mcompleted\u001b[0m.\n",
      "INFO: \u001b[32mfastGWA_4\u001b[0m output:   \u001b[32moutput/phenotypes_BMI.fastGWA.analysis_summary.html\u001b[0m\n",
      "INFO: Workflow fastGWA (ID=eb5a46c54c183eac) is executed successfully with 5 completed steps, 2 ignored steps and 4 ignored substeps.\n"
     ]
    }
   ],
   "source": [
    "sos run ~/project/bioworkflows/GWAS/LMM.ipynb fastGWA \\\n",
    "    --cwd output \\\n",
    "    --bfile /SAY/dbgapstg/scratch/UKBiobank/MWE/genotypes.bed \\\n",
    "    --sampleFile /SAY/dbgapstg/scratch/UKBiobank/MWE/imputed_genotypes.sample \\\n",
    "    --bgenFile /SAY/dbgapstg/scratch/UKBiobank/MWE/imputed_genotypes_chr*.bgen \\\n",
    "    --phenoFile /SAY/dbgapstg/scratch/UKBiobank/MWE/phenotypes.txt \\\n",
    "    --formatFile /SAY/dbgapstg/scratch/UKBiobank/MWE/fastGWA_template.yml \\\n",
    "    --phenoCol BMI \\\n",
    "    --covarCol SEX \\\n",
    "    --qCovarCol AGE \\\n",
    "    --numThreads 1 \\\n",
    "    --bgenMinMAF 0.001 \\\n",
    "    --bgenMinINFO 0.1 \\\n",
    "    --parts 2 \\\n",
    "    --p_filter 1 \\\n",
    "    --container_lmm /SAY/dbgapstg/scratch/UKBiobank/lmm.sif \\\n",
    "    --container_marp /SAY/dbgapstg/scratch/UKBiobank/marp.sif "
   ]
  },
  {
   "cell_type": "code",
   "execution_count": null,
   "metadata": {},
   "outputs": [],
   "source": [
    "sos run ~/project/bioworkflows/GWAS/LMM.ipynb fastGWA \\\n",
    "    --cwd output \\\n",
    "    --bfile data/genotypes.bed \\\n",
    "    --sampleFile data/imputed_genotypes.sample \\\n",
    "    --bgenFile data/imputed_genotypes_chr*.bgen \\\n",
    "    --phenoFile data/phenotypes.txt \\\n",
    "    --formatFile data/fastGWA_template.yml \\\n",
    "    --phenoCol BMI \\\n",
    "    --covarCol SEX \\\n",
    "    --qCovarCol AGE \\\n",
    "    --numThreads 1 \\\n",
    "    --bgenMinMAF 0.001 \\\n",
    "    --bgenMinINFO 0.1 \\\n",
    "    --parts 2 \\\n",
    "    --p_filter 1 \\\n",
    "    --container_lmm container_lmm \\\n",
    "    --container_marp container_marp"
   ]
  },
  {
   "cell_type": "code",
   "execution_count": null,
   "metadata": {},
   "outputs": [],
   "source": []
  }
 ],
 "metadata": {
  "kernelspec": {
   "display_name": "Bash",
   "language": "bash",
   "name": "bash"
  },
  "language_info": {
   "codemirror_mode": "shell",
   "file_extension": ".sh",
   "mimetype": "text/x-sh",
   "name": "bash"
  },
  "sos": {
   "kernels": [
    [
     "Bash",
     "calysto_bash",
     "Bash",
     "#E6EEFF",
     "shell"
    ],
    [
     "SoS",
     "sos",
     "",
     "",
     "sos"
    ]
   ],
   "version": "0.21.12"
  }
 },
 "nbformat": 4,
 "nbformat_minor": 4
}
