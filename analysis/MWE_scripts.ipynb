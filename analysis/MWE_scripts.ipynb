{
 "cells": [
  {
   "cell_type": "markdown",
   "metadata": {
    "kernel": "SoS"
   },
   "source": [
    "## Minimal working example"
   ]
  },
  {
   "cell_type": "markdown",
   "metadata": {
    "kernel": "SoS"
   },
   "source": [
    "Script creation for the LDclumping.ipynb"
   ]
  },
  {
   "cell_type": "code",
   "execution_count": 88,
   "metadata": {
    "kernel": "SoS"
   },
   "outputs": [
    {
     "data": {
      "text/html": [
       "<div class=\"sos_hint\">Cell content saved to <a href=\"MWE_ldclump.sh\" target=\"_blank\">MWE_ldclump.sh</a>, use option -r to also execute the cell.</div>"
      ],
      "text/plain": [
       "Cell content saved to MWE_ldclump.sh, use option -r to also execute the cell.\n"
      ]
     },
     "metadata": {},
     "output_type": "display_data"
    }
   ],
   "source": [
    "%save MWE_ldclump.sh -f\n",
    "\n",
    "# Defining bash variables for the different paths,\n",
    "\n",
    "output=output\n",
    "bfile=~/MWE0612/genotypes.bed\n",
    "bgenFile=`echo ~/MWE0612/imputed_genotypes_chr2?.bgen`\n",
    "sampleFile=~/MWE0612/imputed_genotypes.sample\n",
    "sumstatsFile=~/MWE0612/output/phenotypes_BMI.fastGWA.snp_stats.gz\n",
    "unrelated_samples=~/MWE0612/unrelated_samples.txt\n",
    "ld_sample_size=100\n",
    "clump_field=P\n",
    "clump_p1=0.05\n",
    "clump_p2=1\n",
    "clump_r2=0.2\n",
    "clump_kb=1000\n",
    "clump_annotate=OR\n",
    "numThreads=20\n",
    "job_size=1\n",
    "\n",
    "#Running the workflow for BMI trait\n",
    "\n",
    "sos dryrun ~/UKBB_GWAS_DEV/workflow/LD_Clumping.ipynb \\\n",
    "    --cwd $output \\\n",
    "    --bfile $bfile \\\n",
    "    --bgenFile $bgenFile \\\n",
    "    --sampleFile $sampleFile \\\n",
    "    --sumstatsFile $sumstatsFile \\\n",
    "    --unrelated_samples $unrelated_samples \\\n",
    "    --ld_sample_size $ld_sample_size \\\n",
    "    --clump_field $clump_field \\\n",
    "    --clump_p1 $clump_p1 \\\n",
    "    --clump_p2 $clump_p2 \\\n",
    "    --clump_r2 $clump_r2 \\\n",
    "    --clump_kb $clump_kb \\\n",
    "    --clump_annotate $clump_annotate \\\n",
    "    --numThreads $numThreads \\\n",
    "    --job_size $job_size\n",
    "    -q localhost \\\n",
    "    -s build &> 062420-sos-LD-MWE.log"
   ]
  },
  {
   "cell_type": "code",
   "execution_count": 2,
   "metadata": {
    "kernel": "Bash"
   },
   "outputs": [
    {
     "name": "stdout",
     "output_type": "stream",
     "text": [
      "\n"
     ]
    }
   ],
   "source": [
    "cd"
   ]
  },
  {
   "cell_type": "code",
   "execution_count": 3,
   "metadata": {
    "kernel": "Bash"
   },
   "outputs": [
    {
     "name": "stdout",
     "output_type": "stream",
     "text": [
      "INFO: Running \u001b[32mregenie_1\u001b[0m: Run REGENIE step 1: fitting the null\n",
      "INFO: \u001b[32mregenie_1\u001b[0m (index=0) is \u001b[32mignored\u001b[0m due to saved signature\n",
      "INFO: \u001b[32mregenie_1\u001b[0m (index=0) is \u001b[32mignored\u001b[0m due to saved signature\n",
      "INFO: \u001b[32mregenie_1\u001b[0m output:   \u001b[32m/home/dc2325/output/phenotypes_BMI.regenie_pred.list\u001b[0m\n",
      "INFO: Running \u001b[32mregenie_2\u001b[0m: Run REGENIE step 2: association analysis\n",
      "INFO: ab32ac1a5101d8ae \u001b[32mstarted\u001b[0m\n",
      "INFO: b1f7ed7ccce22929 \u001b[32mstarted\u001b[0m\n",
      "\u001b[91mERROR\u001b[0m: \u001b[91m[regenie_2]: [ab32ac1a5101d8ae]: \n",
      "Failed to execute \u001b[0m\u001b[32mpython .sos/regenie_2_0_88baf0b0.py\u001b[0m\u001b[91m\n",
      "exitcode=1, workdir=\u001b[0m\u001b[32m/gpfs/ysm/home/dc2325\u001b[0m\u001b[91m, task=ab32ac1a5101d8ae\n",
      "---------------------------------------------------------------------------\n",
      "[b1f7ed7ccce22929]: \n",
      "Failed to execute \u001b[0m\u001b[32mpython .sos/regenie_2_1_bb8a5d96.py\u001b[0m\u001b[91m\n",
      "exitcode=1, workdir=\u001b[0m\u001b[32m/gpfs/ysm/home/dc2325\u001b[0m\u001b[91m, task=b1f7ed7ccce22929\n",
      "---------------------------------------------------------------------------\n",
      "[regenie]: Exits with 1 pending step (regenie_3)\u001b[0m\n",
      "\n"
     ]
    }
   ],
   "source": [
    "sos run ~/project/bioworkflows/GWAS/LMM.ipynb regenie\\\n",
    "    --cwd /home/dc2325/output \\\n",
    "    --bfile data/genotypes.bed \\\n",
    "    --sampleFile data/imputed_genotypes.sample \\\n",
    "    --bgenFile data/imputed_genotypes_chr*.bgen \\\n",
    "    --phenoFile data/phenotypes.txt \\\n",
    "    --formatFile data/regenie_template.yml \\\n",
    "    --phenoCol BMI \\\n",
    "    --covarCol SEX \\\n",
    "    --qCovarCol AGE \\\n",
    "    --numThreads 8 \\\n",
    "    --bsize 1000 \\\n",
    "    --lowmem /home/dc2325/output \\\n",
    "    --trait \\\n",
    "    --minMAC 4 \\\n",
    "    --bgenMinMAF 0.05 \\\n",
    "    --bgenMinINFO 0.8 \\\n",
    "    -q localhost "
   ]
  },
  {
   "cell_type": "code",
   "execution_count": null,
   "metadata": {
    "kernel": "Bash"
   },
   "outputs": [],
   "source": [
    "regenie \\\n",
    "  --step 1 \\\n",
    "  --bed example/example \\\n",
    "  --exclude example/snplist_rm.txt \\\n",
    "  --covarFile example/covariates.txt \\\n",
    "  --phenoFile example/phenotype.txt \\\n",
    "  --remove example/fid_iid_to_remove.txt \\\n",
    "  --bsize 100 \\\n",
    "  --lowmem \\\n",
    "  --lowmem-prefix tmp_rg \\\n",
    "  --out fit_quant_out"
   ]
  },
  {
   "cell_type": "code",
   "execution_count": 30,
   "metadata": {
    "kernel": "Bash"
   },
   "outputs": [],
   "source": [
    "cd ~/project/UKBB_GWAS_DEV/output"
   ]
  },
  {
   "cell_type": "code",
   "execution_count": 31,
   "metadata": {
    "kernel": "Bash"
   },
   "outputs": [],
   "source": [
    "# Common variables\n",
    "tpl_file=~/project/UKBB_GWAS_DEV/farnam.yml\n",
    "bfile=~/data/genotypes.bed\n",
    "sampleFile=~/data/imputed_genotypes.sample\n",
    "bgenFile=~/data/imputed_genotypes_chr*.bgen\n",
    "# LMM directories\n",
    "lmm_dir_regenie=~/output\n",
    "lmm_sos=~/project/bioworkflows/GWAS/LMM.ipynb\n",
    "lmm_sbatch_regenie=../output/$(date +\"%Y-%m-%d\")_mwe_regenie.sbatch\n",
    "phenoFile=~/data/phenotypes.txt\n",
    "lowmem=~/output\n",
    "## LMM variables \n",
    "phenoCol=BMI\n",
    "covarCol=SEX\n",
    "covarMaxLevels=10\n",
    "qCovarCol=AGE\n",
    "numThreads=8\n",
    "bgenMinMAF=0.05\n",
    "bgenMinINFO=0.8\n",
    "minMAC=4\n",
    "lmm_job_size=1\n",
    "bsize=1000\n",
    "ylim=0"
   ]
  },
  {
   "cell_type": "code",
   "execution_count": 32,
   "metadata": {
    "kernel": "Bash"
   },
   "outputs": [
    {
     "name": "stdout",
     "output_type": "stream",
     "text": [
      "INFO: Running \u001b[32mfarnam\u001b[0m: Configuration for Yale `farnam` cluster\n",
      "INFO: \u001b[32mfarnam\u001b[0m is \u001b[32mcompleted\u001b[0m.\n",
      "INFO: \u001b[32mfarnam\u001b[0m output:   \u001b[32m../output/2020-08-10_mwe_regenie.sbatch\u001b[0m\n",
      "INFO: Workflow farnam (ID=280055fda8fd6626) is executed successfully with 1 completed step.\n"
     ]
    }
   ],
   "source": [
    "lmm_args=\"\"\"regenie\n",
    "    --cwd $lmm_dir_regenie \n",
    "    --bfile $bfile \n",
    "    --sampleFile $sampleFile\n",
    "    --bgenFile $bgenFile \n",
    "    --phenoFile $phenoFile  \n",
    "    --phenoCol $phenoCol \n",
    "    --covarCol $covarCol \n",
    "    --qCovarCol $qCovarCol\n",
    "    --bgenMinMAF $bgenMinMAF\n",
    "    --bgenMinINFO $bgenMinINFO\n",
    "    --bsize $bsize\n",
    "    --minMAC $minMAC\n",
    "    --lowmem $lowmem\n",
    "    --numThreads $numThreads  \n",
    "    --job_size $lmm_job_size\n",
    "    --ylim $ylim\n",
    "    --trait\n",
    "\"\"\"\n",
    "\n",
    "sos run ~/project/bioworkflows/GWAS/Get_Job_Script.ipynb farnam \\\n",
    "    --template-file $tpl_file \\\n",
    "    --workflow-file $lmm_sos \\\n",
    "    --to-script $lmm_sbatch_regenie \\\n",
    "    --args \"$lmm_args\""
   ]
  },
  {
   "cell_type": "code",
   "execution_count": null,
   "metadata": {
    "kernel": "Bash"
   },
   "outputs": [],
   "source": []
  }
 ],
 "metadata": {
  "kernelspec": {
   "display_name": "SoS",
   "language": "sos",
   "name": "sos"
  },
  "language_info": {
   "codemirror_mode": "sos",
   "file_extension": ".sos",
   "mimetype": "text/x-sos",
   "name": "sos",
   "nbconvert_exporter": "sos_notebook.converter.SoS_Exporter",
   "pygments_lexer": "sos"
  },
  "sos": {
   "kernels": [
    [
     "Bash",
     "calysto_bash",
     "Bash",
     "#E6EEFF",
     "shell"
    ],
    [
     "SoS",
     "sos",
     "",
     "",
     "sos"
    ]
   ],
   "version": "0.21.12"
  }
 },
 "nbformat": 4,
 "nbformat_minor": 4
}
