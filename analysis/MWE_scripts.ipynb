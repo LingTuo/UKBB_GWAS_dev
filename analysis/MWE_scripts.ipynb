{
 "cells": [
  {
   "cell_type": "markdown",
   "metadata": {
    "kernel": "SoS"
   },
   "source": [
    "## Minimal working example"
   ]
  },
  {
   "cell_type": "markdown",
   "metadata": {
    "kernel": "SoS"
   },
   "source": [
    "Script creation for the LDclumping.ipynb"
   ]
  },
  {
   "cell_type": "code",
   "execution_count": 17,
   "metadata": {
    "kernel": "SoS"
   },
   "outputs": [
    {
     "data": {
      "text/html": [
       "<div class=\"sos_hint\">Cell content saved to <a href=\"MWE_ldclump.sh\" target=\"_blank\">MWE_ldclump.sh</a>, use option -r to also execute the cell.</div>"
      ],
      "text/plain": [
       "Cell content saved to MWE_ldclump.sh, use option -r to also execute the cell.\n"
      ]
     },
     "metadata": {},
     "output_type": "display_data"
    }
   ],
   "source": [
    "%save MWE_ldclump.sh -f\n",
    "\n",
    "# Defining bash variables for the different paths,\n",
    "\n",
    "output=output\n",
    "genoFile=~/pleiotropy_UKB/workflow/data/genotypes.bed\n",
    "sampleFile=~/pleiotropy_UKB/workflow/data/imputed_genotypes.sample\n",
    "bgenFile=~/pleiotropy_UKB/workflow/data/*.bgen\n",
    "sum_stats=~/pleiotropy_UKB/workflow/data/phenotypes_BMI.fastGWA.snp_stats.gz\n",
    "unrelated_samples=~/pleiotropy_UKB/workflow/data/imputed_genotypes.1000unrelatedindivid\n",
    "numThreads=20\n",
    "clump_field=P\n",
    "clump_p1=5e-08\n",
    "clump_p2=1\n",
    "clump_r2=0.3\n",
    "clump_kb=2000\n",
    "clump_annotate=BP\n",
    "job_size=1\n",
    "\n",
    "#Running the workflow for BMI trait\n",
    "\n",
    "sos dryrun ~/pleiotropy_UKB/workflow/LDclumping.ipynb clumping:2 \\\n",
    "    --cwd $output \\\n",
    "    --genoFile $genoFile \\\n",
    "    --sampleFile $sampleFile \\\n",
    "    --bgenFile $bgenFile \\\n",
    "    --sum_stats $sum_stats \\\n",
    "    --unrelated_samples $unrelated_samples \\\n",
    "    --numThreads $numThreads \\\n",
    "    --clump_field $clump_field \\\n",
    "    --clump_p1 $clump_p1 \\\n",
    "    --clump_p2 $clump_p2 \\\n",
    "    --clump_r2 $clump_r2 \\\n",
    "    --clump_kb $clump_kb \\\n",
    "    --clump_annotate $clump_annotate \\\n",
    "    --job_size $job_size\n",
    "    -q localhost \\\n",
    "    -s build &> sos-LD-MWE.log"
   ]
  }
 ],
 "metadata": {
  "kernelspec": {
   "display_name": "SoS",
   "language": "sos",
   "name": "sos"
  },
  "language_info": {
   "codemirror_mode": "sos",
   "file_extension": ".sos",
   "mimetype": "text/x-sos",
   "name": "sos",
   "nbconvert_exporter": "sos_notebook.converter.SoS_Exporter",
   "pygments_lexer": "sos"
  },
  "sos": {
   "kernels": [
    [
     "SoS",
     "sos",
     "",
     ""
    ]
   ],
   "version": "0.21.7"
  }
 },
 "nbformat": 4,
 "nbformat_minor": 4
}
