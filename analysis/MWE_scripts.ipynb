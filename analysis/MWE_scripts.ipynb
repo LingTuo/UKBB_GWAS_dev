{
 "cells": [
  {
   "cell_type": "markdown",
   "metadata": {
    "kernel": "SoS"
   },
   "source": [
    "## Minimal working example"
   ]
  },
  {
   "cell_type": "markdown",
   "metadata": {
    "kernel": "SoS"
   },
   "source": [
    "Script creation for the LDclumping.ipynb"
   ]
  },
  {
   "cell_type": "code",
   "execution_count": 88,
   "metadata": {
    "kernel": "SoS"
   },
   "outputs": [
    {
     "data": {
      "text/html": [
       "<div class=\"sos_hint\">Cell content saved to <a href=\"MWE_ldclump.sh\" target=\"_blank\">MWE_ldclump.sh</a>, use option -r to also execute the cell.</div>"
      ],
      "text/plain": [
       "Cell content saved to MWE_ldclump.sh, use option -r to also execute the cell.\n"
      ]
     },
     "metadata": {},
     "output_type": "display_data"
    }
   ],
   "source": [
    "%save MWE_ldclump.sh -f\n",
    "\n",
    "# Defining bash variables for the different paths,\n",
    "\n",
    "output=output\n",
    "bfile=~/MWE0612/genotypes.bed\n",
    "bgenFile=`echo ~/MWE0612/imputed_genotypes_chr2?.bgen`\n",
    "sampleFile=~/MWE0612/imputed_genotypes.sample\n",
    "sumstatsFile=~/MWE0612/output/phenotypes_BMI.fastGWA.snp_stats.gz\n",
    "unrelated_samples=~/MWE0612/unrelated_samples.txt\n",
    "ld_sample_size=100\n",
    "clump_field=P\n",
    "clump_p1=0.05\n",
    "clump_p2=1\n",
    "clump_r2=0.2\n",
    "clump_kb=1000\n",
    "clump_annotate=OR\n",
    "numThreads=20\n",
    "job_size=1\n",
    "\n",
    "#Running the workflow for BMI trait\n",
    "\n",
    "sos dryrun ~/UKBB_GWAS_DEV/workflow/LD_Clumping.ipynb \\\n",
    "    --cwd $output \\\n",
    "    --bfile $bfile \\\n",
    "    --bgenFile $bgenFile \\\n",
    "    --sampleFile $sampleFile \\\n",
    "    --sumstatsFile $sumstatsFile \\\n",
    "    --unrelated_samples $unrelated_samples \\\n",
    "    --ld_sample_size $ld_sample_size \\\n",
    "    --clump_field $clump_field \\\n",
    "    --clump_p1 $clump_p1 \\\n",
    "    --clump_p2 $clump_p2 \\\n",
    "    --clump_r2 $clump_r2 \\\n",
    "    --clump_kb $clump_kb \\\n",
    "    --clump_annotate $clump_annotate \\\n",
    "    --numThreads $numThreads \\\n",
    "    --job_size $job_size\n",
    "    -q localhost \\\n",
    "    -s build &> 062420-sos-LD-MWE.log"
   ]
  },
  {
   "cell_type": "markdown",
   "metadata": {
    "kernel": "SoS"
   },
   "source": [
    "## MWE for REGENIE"
   ]
  },
  {
   "cell_type": "code",
   "execution_count": 6,
   "metadata": {
    "kernel": "Bash"
   },
   "outputs": [
    {
     "name": "stdout",
     "output_type": "stream",
     "text": [
      "INFO: Running \u001b[32mregenie_1\u001b[0m: Run REGENIE step 1: fitting the null\n",
      "INFO: \u001b[32mregenie_1\u001b[0m is \u001b[32mcompleted\u001b[0m.\n",
      "INFO: \u001b[32mregenie_1\u001b[0m output:   \u001b[32moutput/phenotypes_ASTHMA_T2D.regenie_pred.list\u001b[0m\n",
      "INFO: Running \u001b[32mregenie_2\u001b[0m: Run REGENIE step 2: association analysis\n",
      "INFO: \u001b[32mregenie_2\u001b[0m (index=0) is \u001b[32mcompleted\u001b[0m.\n",
      "INFO: \u001b[32mregenie_2\u001b[0m (index=1) is \u001b[32mcompleted\u001b[0m.\n",
      "INFO: \u001b[32mregenie_2\u001b[0m output:   \u001b[32moutput/imputed_genotypes_chr21_ASTHMA.regenie.gz output/imputed_genotypes_chr21_T2D.regenie.gz... (4 items in 2 groups)\u001b[0m\n",
      "INFO: Running \u001b[32mregenie_3\u001b[0m: Merge results and log files\n",
      "INFO: \u001b[32mregenie_3\u001b[0m (index=0) is \u001b[32mcompleted\u001b[0m.\n",
      "INFO: \u001b[32mregenie_3\u001b[0m (index=1) is \u001b[32mcompleted\u001b[0m.\n",
      "INFO: \u001b[32mregenie_3\u001b[0m output:   \u001b[32moutput/phenotypes_ASTHMA.regenie.snp_stats.gz output/phenotypes_ASTHMA.regenie.snp_counts.txt... (4 items in 2 groups)\u001b[0m\n",
      "INFO: Running \u001b[32mregenie_4\u001b[0m: Manhattan and QQ plots using `qqman`\n",
      "INFO: \u001b[32mregenie_4\u001b[0m (index=0) is \u001b[32mcompleted\u001b[0m.\n",
      "INFO: \u001b[32mregenie_4\u001b[0m (index=1) is \u001b[32mcompleted\u001b[0m.\n",
      "INFO: \u001b[32mregenie_4\u001b[0m output:   \u001b[32moutput/phenotypes_ASTHMA.regenie.manhattan.png output/phenotypes_ASTHMA.regenie.qq.png... (10 items in 2 groups)\u001b[0m\n",
      "INFO: Running \u001b[32mregenie_5\u001b[0m: Generate analysis report: HTML file, and optionally PPTX file\n",
      "(node:11902) ExperimentalWarning: The fs.promises API is experimental\n",
      "\u001b[46m\u001b[30m[  INFO ]\u001b[39m\u001b[49m Converting 1 markdown...\n",
      "\u001b[46m\u001b[30m[  INFO ]\u001b[39m\u001b[49m phenotypes_ASTHMA.regenie.analysis_summary.md => phenotypes_ASTHMA.regenie.analysis_summary.html\n",
      "(node:11916) ExperimentalWarning: The fs.promises API is experimental\n",
      "\u001b[46m\u001b[30m[  INFO ]\u001b[39m\u001b[49m Converting 1 markdown...\n",
      "\u001b[43m\u001b[30m[  WARN ]\u001b[39m\u001b[49m Insecure local file accessing is enabled for conversion from\n",
      "          phenotypes_ASTHMA.regenie.analysis_summary.md.\n",
      "\u001b[41m\u001b[37m[ ERROR ]\u001b[39m\u001b[49m Failed converting Markdown. (Failed to launch the browser process!\n",
      "          [0831/165653.197394:ERROR:icu_util.cc(247)] Couldn't mmap icu data\n",
      "          file\n",
      "          [0831/165653.198718:FATAL:content_main_delegate.cc(35)] Check failed:\n",
      "          false.\n",
      "          #0 0x5586fecd6e49 base::debug::CollectStackTrace()\n",
      "          #1 0x5586fec4f533 base::debug::StackTrace::StackTrace()\n",
      "          #2 0x5586fec60b70 logging::LogMessage::~LogMessage()\n",
      "          #3 0x5586fec6144e logging::LogMessage::~LogMessage()\n",
      "          #4 0x5586fbfd3565\n",
      "          content::ContentMainDelegate::TerminateForFatalInitializationError()\n",
      "          #5 0x5586fe7eea04 content::ContentMainRunnerImpl::Initialize()\n",
      "          #6 0x5586fe83e65a service_manager::Main()\n",
      "          #7 0x5586fe7ed3a1 content::ContentMain()\n",
      "          #8 0x5586fe83d21d headless::(anonymous namespace)::RunContentMain()\n",
      "          #9 0x5586fe83cf1c headless::HeadlessShellMain()\n",
      "          #10 0x5586fbfcf7e7 ChromeMain\n",
      "          #11 0x2ada02592495 __libc_start_main\n",
      "          #12 0x5586fbfcf62a _start\n",
      "          \n",
      "          \n",
      "          \n",
      "          TROUBLESHOOTING:\n",
      "          https://github.com/puppeteer/puppeteer/blob/main/docs/troubleshooting.md\n",
      "          )\n",
      "(node:11939) ExperimentalWarning: The fs.promises API is experimental\n",
      "\u001b[46m\u001b[30m[  INFO ]\u001b[39m\u001b[49m Converting 1 markdown...\n",
      "\u001b[46m\u001b[30m[  INFO ]\u001b[39m\u001b[49m phenotypes_T2D.regenie.analysis_summary.md => phenotypes_T2D.regenie.analysis_summary.html\n",
      "(node:11952) ExperimentalWarning: The fs.promises API is experimental\n",
      "\u001b[46m\u001b[30m[  INFO ]\u001b[39m\u001b[49m Converting 1 markdown...\n",
      "\u001b[43m\u001b[30m[  WARN ]\u001b[39m\u001b[49m Insecure local file accessing is enabled for conversion from\n",
      "          phenotypes_T2D.regenie.analysis_summary.md.\n",
      "\u001b[41m\u001b[37m[ ERROR ]\u001b[39m\u001b[49m Failed converting Markdown. (Failed to launch the browser process!\n",
      "          [0831/165658.839790:ERROR:icu_util.cc(247)] Couldn't mmap icu data\n",
      "          file\n",
      "          [0831/165658.841183:FATAL:content_main_delegate.cc(35)] Check failed:\n",
      "          false.\n",
      "          #0 0x560c95356e49 base::debug::CollectStackTrace()\n",
      "          #1 0x560c952cf533 base::debug::StackTrace::StackTrace()\n",
      "          #2 0x560c952e0b70 logging::LogMessage::~LogMessage()\n",
      "          #3 0x560c952e144e logging::LogMessage::~LogMessage()\n",
      "          #4 0x560c92653565\n",
      "          content::ContentMainDelegate::TerminateForFatalInitializationError()\n",
      "          #5 0x560c94e6ea04 content::ContentMainRunnerImpl::Initialize()\n",
      "          #6 0x560c94ebe65a service_manager::Main()\n",
      "          #7 0x560c94e6d3a1 content::ContentMain()\n",
      "          #8 0x560c94ebd21d headless::(anonymous namespace)::RunContentMain()\n",
      "          #9 0x560c94ebcf1c headless::HeadlessShellMain()\n",
      "          #10 0x560c9264f7e7 ChromeMain\n",
      "          #11 0x2ba3958ad495 __libc_start_main\n",
      "          #12 0x560c9264f62a _start\n",
      "          \n",
      "          \n",
      "          \n",
      "          TROUBLESHOOTING:\n",
      "          https://github.com/puppeteer/puppeteer/blob/main/docs/troubleshooting.md\n",
      "          )\n",
      "\u001b[91mERROR\u001b[0m: \u001b[91m[regenie_5]: [(id=2230009476e104d1, index=0)]: \n",
      "Failed to execute \u001b[0m\u001b[32m/bin/bash .sos/regenie_5_0_1f7b2339.sh\u001b[0m\u001b[91m\n",
      "exitcode=1, workdir=\u001b[0m\u001b[32m/gpfs/ysm/home/dc2325/output\u001b[0m\u001b[91m\n",
      "---------------------------------------------------------------------------\n",
      "[(id=2230009476e104d1, index=1)]: \n",
      "Failed to execute \u001b[0m\u001b[32m/bin/bash .sos/regenie_5_1_ef1d4496.sh\u001b[0m\u001b[91m\n",
      "exitcode=1, workdir=\u001b[0m\u001b[32m/gpfs/ysm/home/dc2325/output\u001b[0m\u001b[91m\n",
      "---------------------------------------------------------------------------\u001b[0m\n",
      "\n"
     ]
    }
   ],
   "source": [
    "cd\n",
    "sos run ~/project/bioworkflows/GWAS/LMM.ipynb regenie\\\n",
    "    --cwd output \\\n",
    "    --bfile data/genotypes21_22.bed \\\n",
    "    --sampleFile data/imputed_genotypes.sample \\\n",
    "    --bgenFile data/imputed_genotypes_chr*.bgen \\\n",
    "    --phenoFile data/phenotypes.txt \\\n",
    "    --formatFile data/regenie_template.yml \\\n",
    "    --phenoCol ASTHMA T2D\\\n",
    "    --covarCol SEX \\\n",
    "    --qCovarCol AGE \\\n",
    "    --numThreads 8 \\\n",
    "    --bsize 1000 \\\n",
    "    --lowmem_prefix /home/dc2325/output \\\n",
    "    --trait bt \\\n",
    "    --minMAC 4 \\\n",
    "    --bgenMinMAF 0.05 \\\n",
    "    --bgenMinINFO 0.8 \\\n",
    "    --reverse_log_p \\\n",
    "    --p_filter 1\\\n",
    "    --container_option /SAY/dbgapstg/scratch/UKBiobank/lmm.sif"
   ]
  },
  {
   "cell_type": "code",
   "execution_count": 31,
   "metadata": {
    "kernel": "Bash"
   },
   "outputs": [],
   "source": [
    "# Common variables\n",
    "tpl_file=~/project/UKBB_GWAS_DEV/farnam.yml\n",
    "bfile=~/data/genotypes.bed\n",
    "sampleFile=~/data/imputed_genotypes.sample\n",
    "bgenFile=~/data/imputed_genotypes_chr*.bgen\n",
    "# LMM directories\n",
    "lmm_dir_regenie=~/output\n",
    "lmm_sos=~/project/bioworkflows/GWAS/LMM.ipynb\n",
    "lmm_sbatch_regenie=../output/$(date +\"%Y-%m-%d\")_mwe_regenie.sbatch\n",
    "phenoFile=~/data/phenotypes.txt\n",
    "lowmem=~/output\n",
    "## LMM variables \n",
    "phenoCol=BMI\n",
    "covarCol=SEX\n",
    "covarMaxLevels=10\n",
    "qCovarCol=AGE\n",
    "numThreads=8\n",
    "bgenMinMAF=0.05\n",
    "bgenMinINFO=0.8\n",
    "minMAC=4\n",
    "lmm_job_size=1\n",
    "bsize=1000\n",
    "ylim=0"
   ]
  },
  {
   "cell_type": "code",
   "execution_count": 32,
   "metadata": {
    "kernel": "Bash"
   },
   "outputs": [
    {
     "name": "stdout",
     "output_type": "stream",
     "text": [
      "INFO: Running \u001b[32mfarnam\u001b[0m: Configuration for Yale `farnam` cluster\n",
      "INFO: \u001b[32mfarnam\u001b[0m is \u001b[32mcompleted\u001b[0m.\n",
      "INFO: \u001b[32mfarnam\u001b[0m output:   \u001b[32m../output/2020-08-10_mwe_regenie.sbatch\u001b[0m\n",
      "INFO: Workflow farnam (ID=280055fda8fd6626) is executed successfully with 1 completed step.\n"
     ]
    }
   ],
   "source": [
    "lmm_args=\"\"\"regenie\n",
    "    --cwd $lmm_dir_regenie \n",
    "    --bfile $bfile \n",
    "    --sampleFile $sampleFile\n",
    "    --bgenFile $bgenFile \n",
    "    --phenoFile $phenoFile  \n",
    "    --phenoCol $phenoCol \n",
    "    --covarCol $covarCol \n",
    "    --qCovarCol $qCovarCol\n",
    "    --bgenMinMAF $bgenMinMAF\n",
    "    --bgenMinINFO $bgenMinINFO\n",
    "    --bsize $bsize\n",
    "    --minMAC $minMAC\n",
    "    --lowmem $lowmem\n",
    "    --numThreads $numThreads  \n",
    "    --job_size $lmm_job_size\n",
    "    --ylim $ylim\n",
    "    --trait\n",
    "\"\"\"\n",
    "\n",
    "sos run ~/project/bioworkflows/GWAS/Get_Job_Script.ipynb farnam \\\n",
    "    --template-file $tpl_file \\\n",
    "    --workflow-file $lmm_sos \\\n",
    "    --to-script $lmm_sbatch_regenie \\\n",
    "    --args \"$lmm_args\""
   ]
  },
  {
   "cell_type": "markdown",
   "metadata": {
    "kernel": "Bash"
   },
   "source": [
    "## MWE for BOLT-LMM"
   ]
  },
  {
   "cell_type": "code",
   "execution_count": 4,
   "metadata": {
    "kernel": "Bash"
   },
   "outputs": [
    {
     "name": "stdout",
     "output_type": "stream",
     "text": [
      "INFO: Running \u001b[32mboltlmm_1\u001b[0m: Run BOLT analysis\n",
      "INFO: \u001b[32mboltlmm_1\u001b[0m (index=0) is \u001b[32mignored\u001b[0m due to saved signature\n",
      "INFO: \u001b[32mboltlmm_1\u001b[0m (index=1) is \u001b[32mignored\u001b[0m due to saved signature\n",
      "INFO: \u001b[32mboltlmm_1\u001b[0m output:   \u001b[32moutput/cache/imputed_genotypes_chr21.phenotypes_BMI.boltlmm.snp_stats.gz output/cache/imputed_genotypes_chr22.phenotypes_BMI.boltlmm.snp_stats.gz in 2 groups\u001b[0m\n",
      "INFO: Running \u001b[32mboltlmm_2\u001b[0m: Merge results and log files\n",
      "INFO: \u001b[32mboltlmm_2\u001b[0m (index=0) is \u001b[32mignored\u001b[0m due to saved signature\n",
      "INFO: \u001b[32mboltlmm_2\u001b[0m output:   \u001b[32moutput/phenotypes_BMI.boltlmm.snp_stats.gz output/phenotypes_BMI.boltlmm.snp_counts.txt\u001b[0m\n",
      "INFO: Running \u001b[32mboltlmm_3\u001b[0m: Manhattan and QQ plots using `qqman`\n",
      "INFO: \u001b[32mboltlmm_3\u001b[0m is \u001b[32mcompleted\u001b[0m.\n",
      "INFO: \u001b[32mboltlmm_3\u001b[0m output:   \u001b[32moutput/phenotypes_BMI.boltlmm.manhattan.png output/phenotypes_BMI.boltlmm.qq.png... (5 items)\u001b[0m\n",
      "INFO: Running \u001b[32mboltlmm_4\u001b[0m: Generate analysis report: HTML file, and optionally PPTX file\n",
      "(node:10971) ExperimentalWarning: The fs.promises API is experimental\n",
      "\u001b[46m\u001b[30m[  INFO ]\u001b[39m\u001b[49m Converting 1 markdown...\n",
      "\u001b[46m\u001b[30m[  INFO ]\u001b[39m\u001b[49m phenotypes_BMI.boltlmm.analysis_summary.md => phenotypes_BMI.boltlmm.analysis_summary.html\n",
      "(node:10993) ExperimentalWarning: The fs.promises API is experimental\n",
      "\u001b[46m\u001b[30m[  INFO ]\u001b[39m\u001b[49m Converting 1 markdown...\n",
      "\u001b[43m\u001b[30m[  WARN ]\u001b[39m\u001b[49m Insecure local file accessing is enabled for conversion from\n",
      "          phenotypes_BMI.boltlmm.analysis_summary.md.\n",
      "\u001b[41m\u001b[37m[ ERROR ]\u001b[39m\u001b[49m Failed converting Markdown. (Failed to launch the browser process!\n",
      "          [0831/165308.986830:ERROR:icu_util.cc(247)] Couldn't mmap icu data\n",
      "          file\n",
      "          [0831/165309.043877:FATAL:content_main_delegate.cc(35)] Check failed:\n",
      "          false.\n",
      "          #0 0x56522c2b6e49 base::debug::CollectStackTrace()\n",
      "          #1 0x56522c22f533 base::debug::StackTrace::StackTrace()\n",
      "          #2 0x56522c240b70 logging::LogMessage::~LogMessage()\n",
      "          #3 0x56522c24144e logging::LogMessage::~LogMessage()\n",
      "          #4 0x5652295b3565\n",
      "          content::ContentMainDelegate::TerminateForFatalInitializationError()\n",
      "          #5 0x56522bdcea04 content::ContentMainRunnerImpl::Initialize()\n",
      "          #6 0x56522be1e65a service_manager::Main()\n",
      "          #7 0x56522bdcd3a1 content::ContentMain()\n",
      "          #8 0x56522be1d21d headless::(anonymous namespace)::RunContentMain()\n",
      "          #9 0x56522be1cf1c headless::HeadlessShellMain()\n",
      "          #10 0x5652295af7e7 ChromeMain\n",
      "          #11 0x2ad0c302a495 __libc_start_main\n",
      "          #12 0x5652295af62a _start\n",
      "          \n",
      "          \n",
      "          \n",
      "          TROUBLESHOOTING:\n",
      "          https://github.com/puppeteer/puppeteer/blob/main/docs/troubleshooting.md\n",
      "          )\n",
      "\u001b[91mERROR\u001b[0m: \u001b[91mboltlmm_4 (id=555db3c063fe8815) returns an error.\u001b[0m\n",
      "\u001b[91mERROR\u001b[0m: \u001b[91m[boltlmm_4]: [0]: \n",
      "Failed to execute \u001b[0m\u001b[32m/bin/bash .sos/boltlmm_4_0_7891065c.sh\u001b[0m\u001b[91m\n",
      "exitcode=1, workdir=\u001b[0m\u001b[32m/gpfs/ysm/home/dc2325/output\u001b[0m\u001b[91m\n",
      "---------------------------------------------------------------------------\u001b[0m\n",
      "\n"
     ]
    }
   ],
   "source": [
    "cd\n",
    "sos run ~/project/bioworkflows/GWAS/LMM.ipynb boltlmm \\\n",
    "    --cwd output \\\n",
    "    --bfile data/genotypes.bed \\\n",
    "    --sampleFile data/imputed_genotypes.sample \\\n",
    "    --bgenFile data/imputed_genotypes_chr*.bgen \\\n",
    "    --phenoFile data/phenotypes.txt \\\n",
    "    --formatFile data/boltlmm_template.yml \\\n",
    "    --LDscoresFile ~/software/BOLT-LMM_v2.3.4/tables/LDSCORE.1000G_EUR.tab.gz \\\n",
    "    --geneticMapFile ~/software/BOLT-LMM_v2.3.4/tables/genetic_map_hg19_withX.txt.gz \\\n",
    "    --phenoCol BMI \\\n",
    "    --covarCol SEX \\\n",
    "    --covarMaxLevels 10 \\\n",
    "    --qCovarCol AGE \\\n",
    "    --numThreads 5 \\\n",
    "    --bgenMinMAF 0.001 \\\n",
    "    --bgenMinINFO 0.1 \\\n",
    "    --lmm-option \\\n",
    "    --p_filter 1 \\\n",
    "    --container_option /SAY/dbgapstg/scratch/UKBiobank/lmm.sif"
   ]
  },
  {
   "cell_type": "markdown",
   "metadata": {
    "kernel": "Bash"
   },
   "source": [
    "## MWE for FastGWA"
   ]
  },
  {
   "cell_type": "code",
   "execution_count": 5,
   "metadata": {
    "kernel": "Bash"
   },
   "outputs": [
    {
     "name": "stdout",
     "output_type": "stream",
     "text": [
      "INFO: Running \u001b[32mfastGWA_1\u001b[0m: fastGWA mixed model (based on the sparse GRM generated above)\n",
      "INFO: \u001b[32mfastGWA_1\u001b[0m (index=0) is \u001b[32mignored\u001b[0m due to saved signature\n",
      "INFO: \u001b[32mfastGWA_1\u001b[0m (index=1) is \u001b[32mignored\u001b[0m due to saved signature\n",
      "INFO: \u001b[32mfastGWA_1\u001b[0m output:   \u001b[32moutput/cache/imputed_genotypes_chr21.phenotypes.fastGWA.gz output/cache/imputed_genotypes_chr22.phenotypes.fastGWA.gz in 2 groups\u001b[0m\n",
      "INFO: Running \u001b[32mfastGWA_2\u001b[0m: Merge results and log files\n",
      "INFO: \u001b[32mfastGWA_2\u001b[0m (index=0) is \u001b[32mignored\u001b[0m due to saved signature\n",
      "INFO: \u001b[32mfastGWA_2\u001b[0m output:   \u001b[32moutput/phenotypes_BMI.fastGWA.snp_stats.gz output/phenotypes_BMI.fastGWA.snp_counts.txt\u001b[0m\n",
      "INFO: Running \u001b[32mfastGWA_3\u001b[0m: Manhattan and QQ plots using `qqman`\n",
      "INFO: \u001b[32mfastGWA_3\u001b[0m is \u001b[32mcompleted\u001b[0m.\n",
      "INFO: \u001b[32mfastGWA_3\u001b[0m output:   \u001b[32moutput/phenotypes_BMI.fastGWA.manhattan.png output/phenotypes_BMI.fastGWA.qq.png... (5 items)\u001b[0m\n",
      "INFO: Running \u001b[32mfastGWA_4\u001b[0m: Generate analysis report: HTML file, and optionally PPTX file\n",
      "(node:11214) ExperimentalWarning: The fs.promises API is experimental\n",
      "\u001b[46m\u001b[30m[  INFO ]\u001b[39m\u001b[49m Converting 1 markdown...\n",
      "\u001b[46m\u001b[30m[  INFO ]\u001b[39m\u001b[49m phenotypes_BMI.fastGWA.analysis_summary.md => phenotypes_BMI.fastGWA.analysis_summary.html\n",
      "(node:11228) ExperimentalWarning: The fs.promises API is experimental\n",
      "\u001b[46m\u001b[30m[  INFO ]\u001b[39m\u001b[49m Converting 1 markdown...\n",
      "\u001b[43m\u001b[30m[  WARN ]\u001b[39m\u001b[49m Insecure local file accessing is enabled for conversion from\n",
      "          phenotypes_BMI.fastGWA.analysis_summary.md.\n",
      "\u001b[41m\u001b[37m[ ERROR ]\u001b[39m\u001b[49m Failed converting Markdown. (Failed to launch the browser process!\n",
      "          [0831/165352.730153:ERROR:icu_util.cc(247)] Couldn't mmap icu data\n",
      "          file\n",
      "          [0831/165352.731485:FATAL:content_main_delegate.cc(35)] Check failed:\n",
      "          false.\n",
      "          #0 0x56221e90fe49 base::debug::CollectStackTrace()\n",
      "          #1 0x56221e888533 base::debug::StackTrace::StackTrace()\n",
      "          #2 0x56221e899b70 logging::LogMessage::~LogMessage()\n",
      "          #3 0x56221e89a44e logging::LogMessage::~LogMessage()\n",
      "          #4 0x56221bc0c565\n",
      "          content::ContentMainDelegate::TerminateForFatalInitializationError()\n",
      "          #5 0x56221e427a04 content::ContentMainRunnerImpl::Initialize()\n",
      "          #6 0x56221e47765a service_manager::Main()\n",
      "          #7 0x56221e4263a1 content::ContentMain()\n",
      "          #8 0x56221e47621d headless::(anonymous namespace)::RunContentMain()\n",
      "          #9 0x56221e475f1c headless::HeadlessShellMain()\n",
      "          #10 0x56221bc087e7 ChromeMain\n",
      "          #11 0x2b90a8823495 __libc_start_main\n",
      "          #12 0x56221bc0862a _start\n",
      "          \n",
      "          \n",
      "          \n",
      "          TROUBLESHOOTING:\n",
      "          https://github.com/puppeteer/puppeteer/blob/main/docs/troubleshooting.md\n",
      "          )\n",
      "\u001b[91mERROR\u001b[0m: \u001b[91mfastGWA_4 (id=4fcebb4ea0a2abf8) returns an error.\u001b[0m\n",
      "\u001b[91mERROR\u001b[0m: \u001b[91m[fastGWA_4]: [0]: \n",
      "Failed to execute \u001b[0m\u001b[32m/bin/bash .sos/fastGWA_4_0_8d176da2.sh\u001b[0m\u001b[91m\n",
      "exitcode=1, workdir=\u001b[0m\u001b[32m/gpfs/ysm/home/dc2325/output\u001b[0m\u001b[91m\n",
      "---------------------------------------------------------------------------\u001b[0m\n",
      "\n"
     ]
    }
   ],
   "source": [
    "sos run ~/project/bioworkflows/GWAS/LMM.ipynb fastGWA \\\n",
    "    --cwd output \\\n",
    "    --bfile data/genotypes.bed \\\n",
    "    --sampleFile data/imputed_genotypes.sample \\\n",
    "    --bgenFile data/imputed_genotypes_chr*.bgen \\\n",
    "    --phenoFile data/phenotypes.txt \\\n",
    "    --formatFile data/fastGWA_template.yml \\\n",
    "    --phenoCol BMI \\\n",
    "    --covarCol SEX \\\n",
    "    --qCovarCol AGE \\\n",
    "    --numThreads 1 \\\n",
    "    --bgenMinMAF 0.001 \\\n",
    "    --bgenMinINFO 0.1 \\\n",
    "    --parts 2 \\\n",
    "    --p_filter 1 \\\n",
    "    --container_option /SAY/dbgapstg/scratch/UKBiobank/lmm.sif \\\n",
    "    $JOB_OPT"
   ]
  }
 ],
 "metadata": {
  "kernelspec": {
   "display_name": "SoS",
   "language": "sos",
   "name": "sos"
  },
  "language_info": {
   "codemirror_mode": "sos",
   "file_extension": ".sos",
   "mimetype": "text/x-sos",
   "name": "sos",
   "nbconvert_exporter": "sos_notebook.converter.SoS_Exporter",
   "pygments_lexer": "sos"
  },
  "sos": {
   "kernels": [
    [
     "Bash",
     "calysto_bash",
     "Bash",
     "#E6EEFF",
     "shell"
    ],
    [
     "SoS",
     "sos",
     "",
     "",
     "sos"
    ]
   ],
   "version": "0.21.12"
  }
 },
 "nbformat": 4,
 "nbformat_minor": 4
}
