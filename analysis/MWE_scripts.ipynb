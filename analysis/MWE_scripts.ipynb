{
 "cells": [
  {
   "cell_type": "markdown",
   "metadata": {
    "kernel": "SoS"
   },
   "source": [
    "## Minimal working example"
   ]
  },
  {
   "cell_type": "markdown",
   "metadata": {
    "kernel": "SoS"
   },
   "source": [
    "Script creation for the LDclumping.ipynb"
   ]
  },
  {
   "cell_type": "code",
   "execution_count": 88,
   "metadata": {
    "kernel": "SoS"
   },
   "outputs": [
    {
     "data": {
      "text/html": [
       "<div class=\"sos_hint\">Cell content saved to <a href=\"MWE_ldclump.sh\" target=\"_blank\">MWE_ldclump.sh</a>, use option -r to also execute the cell.</div>"
      ],
      "text/plain": [
       "Cell content saved to MWE_ldclump.sh, use option -r to also execute the cell.\n"
      ]
     },
     "metadata": {},
     "output_type": "display_data"
    }
   ],
   "source": [
    "%save MWE_ldclump.sh -f\n",
    "\n",
    "# Defining bash variables for the different paths,\n",
    "\n",
    "output=output\n",
    "bfile=~/MWE0612/genotypes.bed\n",
    "bgenFile=`echo ~/MWE0612/imputed_genotypes_chr2?.bgen`\n",
    "sampleFile=~/MWE0612/imputed_genotypes.sample\n",
    "sumstatsFile=~/MWE0612/output/phenotypes_BMI.fastGWA.snp_stats.gz\n",
    "unrelated_samples=~/MWE0612/unrelated_samples.txt\n",
    "ld_sample_size=100\n",
    "clump_field=P\n",
    "clump_p1=0.05\n",
    "clump_p2=1\n",
    "clump_r2=0.2\n",
    "clump_kb=1000\n",
    "clump_annotate=OR\n",
    "numThreads=20\n",
    "job_size=1\n",
    "\n",
    "#Running the workflow for BMI trait\n",
    "\n",
    "sos dryrun ~/UKBB_GWAS_DEV/workflow/LD_Clumping.ipynb \\\n",
    "    --cwd $output \\\n",
    "    --bfile $bfile \\\n",
    "    --bgenFile $bgenFile \\\n",
    "    --sampleFile $sampleFile \\\n",
    "    --sumstatsFile $sumstatsFile \\\n",
    "    --unrelated_samples $unrelated_samples \\\n",
    "    --ld_sample_size $ld_sample_size \\\n",
    "    --clump_field $clump_field \\\n",
    "    --clump_p1 $clump_p1 \\\n",
    "    --clump_p2 $clump_p2 \\\n",
    "    --clump_r2 $clump_r2 \\\n",
    "    --clump_kb $clump_kb \\\n",
    "    --clump_annotate $clump_annotate \\\n",
    "    --numThreads $numThreads \\\n",
    "    --job_size $job_size\n",
    "    -q localhost \\\n",
    "    -s build &> 062420-sos-LD-MWE.log"
   ]
  },
  {
   "cell_type": "markdown",
   "metadata": {
    "kernel": "SoS"
   },
   "source": [
    "## MWE for REGENIE"
   ]
  },
  {
   "cell_type": "code",
   "execution_count": 38,
   "metadata": {
    "kernel": "Bash"
   },
   "outputs": [
    {
     "name": "stdout",
     "output_type": "stream",
     "text": [
      "INFO: Running \u001b[32mregenie_1\u001b[0m: Run REGENIE step 1: fitting the null\n",
      "INFO: \u001b[32mregenie_1\u001b[0m is \u001b[32mcompleted\u001b[0m.\n",
      "INFO: \u001b[32mregenie_1\u001b[0m output:   \u001b[32moutput/phenotypes_BMI.regenie_pred.list\u001b[0m\n",
      "INFO: Running \u001b[32mregenie_2\u001b[0m: Run REGENIE step 2: association analysis\n",
      "INFO: \u001b[32mregenie_2\u001b[0m (index=0) is \u001b[32mcompleted\u001b[0m.\n",
      "INFO: \u001b[32mregenie_2\u001b[0m (index=1) is \u001b[32mcompleted\u001b[0m.\n",
      "INFO: \u001b[32mregenie_2\u001b[0m output:   \u001b[32moutput/imputed_genotypes_chr21_BMI.regenie.gz output/imputed_genotypes_chr22_BMI.regenie.gz in 2 groups\u001b[0m\n",
      "INFO: Running \u001b[32mregenie_3\u001b[0m: Merge results and log files\n",
      "INFO: \u001b[32mregenie_3\u001b[0m is \u001b[32mcompleted\u001b[0m.\n",
      "INFO: \u001b[32mregenie_3\u001b[0m output:   \u001b[32moutput/phenotypes_BMI.regenie.snp_stats.gz output/phenotypes_BMI.regenie.snp_counts.txt\u001b[0m\n",
      "INFO: Running \u001b[32mregenie_4\u001b[0m: Manhattan and QQ plots using `qqman`\n",
      "\u001b[33mWARNING:\u001b[0m Bind mount '/home/dc2325 => /home/dc2325' overlaps container CWD /home/dc2325, may not be available\n",
      "INFO: \u001b[32mregenie_4\u001b[0m is \u001b[32mcompleted\u001b[0m.\n",
      "INFO: \u001b[32mregenie_4\u001b[0m output:   \u001b[32moutput/phenotypes_BMI.regenie.manhattan.png output/phenotypes_BMI.regenie.qq.png... (5 items)\u001b[0m\n",
      "INFO: Running \u001b[32mregenie_5\u001b[0m: Generate analysis report: HTML file, and optionally PPTX file\n",
      "\u001b[33mWARNING:\u001b[0m Bind mount '/home/dc2325 => /home/dc2325' overlaps container CWD /home/dc2325, may not be available\n",
      "/.singularity.d/actions/exec: exec: line 21: illegal option -o\n",
      "\u001b[91mERROR\u001b[0m: \u001b[91mregenie_5 (id=46da0c29498f4a23) returns an error.\u001b[0m\n",
      "\u001b[91mERROR\u001b[0m: \u001b[91m[regenie_5]: [0]: Executing script in Singularity returns an error (exitcode=2).\n",
      "The script has been saved to /gpfs/ysm/home/dc2325/.sos/singularity_run_18841.sh. To reproduce the error please run:\n",
      "\u001b[0m\u001b[32msingularity exec  /home/dc2325/scratch60/marp.sif  -o /gpfs/ysm/home/dc2325/output/phenotypes_BMI.regenie.analysis_summary.html --title \"BMI regenie analysis\" --allow-local-files phenotypes_BMI.regenie.analysis_summary.md\n",
      "\u001b[0m\u001b[91m\u001b[0m\n",
      "\n"
     ]
    }
   ],
   "source": [
    "cd\n",
    "sos run ~/project/bioworkflows/GWAS/LMM.ipynb regenie\\\n",
    "    --cwd output \\\n",
    "    --bfile data/genotypes21_22.bed \\\n",
    "    --sampleFile data/imputed_genotypes.sample \\\n",
    "    --bgenFile data/imputed_genotypes_chr*.bgen \\\n",
    "    --phenoFile data/phenotypes.txt \\\n",
    "    --formatFile data/regenie_template.yml \\\n",
    "    --phenoCol BMI\\\n",
    "    --covarCol SEX \\\n",
    "    --qCovarCol AGE \\\n",
    "    --numThreads 8 \\\n",
    "    --bsize 1000 \\\n",
    "    --lowmem_prefix /home/dc2325/output \\\n",
    "    --trait \\\n",
    "    --minMAC 4 \\\n",
    "    --bgenMinMAF 0.05 \\\n",
    "    --bgenMinINFO 0.8 \\\n",
    "    --reverse_log_p \\\n",
    "    --p_filter 1\\\n",
    "    --container_option ~/scratch60/lmm.sif \\\n",
    "    --container_marp ~/scratch60/marp.sif"
   ]
  },
  {
   "cell_type": "code",
   "execution_count": 31,
   "metadata": {
    "kernel": "Bash"
   },
   "outputs": [],
   "source": [
    "# Common variables\n",
    "tpl_file=~/project/UKBB_GWAS_DEV/farnam.yml\n",
    "bfile=~/data/genotypes.bed\n",
    "sampleFile=~/data/imputed_genotypes.sample\n",
    "bgenFile=~/data/imputed_genotypes_chr*.bgen\n",
    "# LMM directories\n",
    "lmm_dir_regenie=~/output\n",
    "lmm_sos=~/project/bioworkflows/GWAS/LMM.ipynb\n",
    "lmm_sbatch_regenie=../output/$(date +\"%Y-%m-%d\")_mwe_regenie.sbatch\n",
    "phenoFile=~/data/phenotypes.txt\n",
    "lowmem=~/output\n",
    "## LMM variables \n",
    "phenoCol=BMI\n",
    "covarCol=SEX\n",
    "covarMaxLevels=10\n",
    "qCovarCol=AGE\n",
    "numThreads=8\n",
    "bgenMinMAF=0.05\n",
    "bgenMinINFO=0.8\n",
    "minMAC=4\n",
    "lmm_job_size=1\n",
    "bsize=1000\n",
    "ylim=0"
   ]
  },
  {
   "cell_type": "code",
   "execution_count": 32,
   "metadata": {
    "kernel": "Bash"
   },
   "outputs": [
    {
     "name": "stdout",
     "output_type": "stream",
     "text": [
      "INFO: Running \u001b[32mfarnam\u001b[0m: Configuration for Yale `farnam` cluster\n",
      "INFO: \u001b[32mfarnam\u001b[0m is \u001b[32mcompleted\u001b[0m.\n",
      "INFO: \u001b[32mfarnam\u001b[0m output:   \u001b[32m../output/2020-08-10_mwe_regenie.sbatch\u001b[0m\n",
      "INFO: Workflow farnam (ID=280055fda8fd6626) is executed successfully with 1 completed step.\n"
     ]
    }
   ],
   "source": [
    "lmm_args=\"\"\"regenie\n",
    "    --cwd $lmm_dir_regenie \n",
    "    --bfile $bfile \n",
    "    --sampleFile $sampleFile\n",
    "    --bgenFile $bgenFile \n",
    "    --phenoFile $phenoFile  \n",
    "    --phenoCol $phenoCol \n",
    "    --covarCol $covarCol \n",
    "    --qCovarCol $qCovarCol\n",
    "    --bgenMinMAF $bgenMinMAF\n",
    "    --bgenMinINFO $bgenMinINFO\n",
    "    --bsize $bsize\n",
    "    --minMAC $minMAC\n",
    "    --lowmem $lowmem\n",
    "    --numThreads $numThreads  \n",
    "    --job_size $lmm_job_size\n",
    "    --ylim $ylim\n",
    "    --trait\n",
    "\"\"\"\n",
    "\n",
    "sos run ~/project/bioworkflows/GWAS/Get_Job_Script.ipynb farnam \\\n",
    "    --template-file $tpl_file \\\n",
    "    --workflow-file $lmm_sos \\\n",
    "    --to-script $lmm_sbatch_regenie \\\n",
    "    --args \"$lmm_args\""
   ]
  },
  {
   "cell_type": "markdown",
   "metadata": {
    "kernel": "Bash"
   },
   "source": [
    "## MWE for BOLT-LMM"
   ]
  },
  {
   "cell_type": "code",
   "execution_count": 21,
   "metadata": {
    "kernel": "Bash"
   },
   "outputs": [
    {
     "name": "stdout",
     "output_type": "stream",
     "text": [
      "INFO: Running \u001b[32mboltlmm_1\u001b[0m: Run BOLT analysis\n",
      "INFO: \u001b[32mboltlmm_1\u001b[0m (index=0) is \u001b[32mignored\u001b[0m due to saved signature\n",
      "INFO: \u001b[32mboltlmm_1\u001b[0m (index=1) is \u001b[32mignored\u001b[0m due to saved signature\n",
      "INFO: \u001b[32mboltlmm_1\u001b[0m output:   \u001b[32moutput/cache/imputed_genotypes_chr21.phenotypes_BMI.boltlmm.snp_stats.gz output/cache/imputed_genotypes_chr22.phenotypes_BMI.boltlmm.snp_stats.gz in 2 groups\u001b[0m\n",
      "INFO: Running \u001b[32mboltlmm_2\u001b[0m: Merge results and log files\n",
      "INFO: \u001b[32mboltlmm_2\u001b[0m (index=0) is \u001b[32mignored\u001b[0m due to saved signature\n",
      "INFO: \u001b[32mboltlmm_2\u001b[0m output:   \u001b[32moutput/phenotypes_BMI.boltlmm.snp_stats.gz output/phenotypes_BMI.boltlmm.snp_counts.txt\u001b[0m\n",
      "INFO: Running \u001b[32mboltlmm_3\u001b[0m: Manhattan and QQ plots using `qqman`\n",
      "\u001b[33mWARNING:\u001b[0m Bind mount '/home/dc2325 => /home/dc2325' overlaps container CWD /home/dc2325, may not be available\n",
      "\u001b[91mERROR\u001b[0m: \u001b[91mboltlmm_3 (id=350b8d5153d17e93) returns an error.\u001b[0m\n",
      "\u001b[91mERROR\u001b[0m: \u001b[91m[boltlmm_3]: [0]: Executing script in Singularity returns an error (exitcode=1, stderr=output/phenotypes_BMI.boltlmm.manhattan.stderr, stdout=output/phenotypes_BMI.boltlmm.manhattan.stdout).\n",
      "The script has been saved to /gpfs/ysm/home/dc2325/.sos/singularity_run_18938.R. To reproduce the error please run:\n",
      "\u001b[0m\u001b[32msingularity exec  /home/dc2325/scratch60/lmm.sif Rscript /gpfs/ysm/home/dc2325/.sos/singularity_run_18938.R\u001b[0m\u001b[91m\n",
      "[boltlmm]: Exits with 1 pending step (boltlmm_4)\u001b[0m\n",
      "\n"
     ]
    }
   ],
   "source": [
    "cd\n",
    "sos run ~/project/bioworkflows/GWAS/LMM.ipynb boltlmm \\\n",
    "    --cwd output \\\n",
    "    --bfile data/genotypes.bed \\\n",
    "    --sampleFile data/imputed_genotypes.sample \\\n",
    "    --bgenFile data/imputed_genotypes_chr*.bgen \\\n",
    "    --phenoFile data/phenotypes.txt \\\n",
    "    --formatFile data/boltlmm_template.yml \\\n",
    "    --LDscoresFile ~/software/BOLT-LMM_v2.3.4/tables/LDSCORE.1000G_EUR.tab.gz \\\n",
    "    --geneticMapFile ~/software/BOLT-LMM_v2.3.4/tables/genetic_map_hg19_withX.txt.gz \\\n",
    "    --phenoCol BMI \\\n",
    "    --covarCol SEX \\\n",
    "    --covarMaxLevels 10 \\\n",
    "    --qCovarCol AGE \\\n",
    "    --numThreads 5 \\\n",
    "    --bgenMinMAF 0.001 \\\n",
    "    --bgenMinINFO 0.1 \\\n",
    "    --lmm-option \\\n",
    "    --p_filter 1 \\\n",
    "    --container_option ~/scratch60/lmm.sif"
   ]
  },
  {
   "cell_type": "markdown",
   "metadata": {
    "kernel": "Bash"
   },
   "source": [
    "## MWE for FastGWA"
   ]
  },
  {
   "cell_type": "code",
   "execution_count": 19,
   "metadata": {
    "kernel": "Bash"
   },
   "outputs": [
    {
     "name": "stdout",
     "output_type": "stream",
     "text": [
      "INFO: Running \u001b[32mfastGWA_1\u001b[0m: fastGWA mixed model (based on the sparse GRM generated above)\n",
      "INFO: Running \u001b[32mgcta_1\u001b[0m: Partition the GRM into 100 parts and allocate 8GB memory to each job\n",
      "INFO: \u001b[32mgcta_1\u001b[0m (index=0) is \u001b[32mignored\u001b[0m due to saved signature\n",
      "INFO: \u001b[32mgcta_1\u001b[0m (index=1) is \u001b[32mignored\u001b[0m due to saved signature\n",
      "INFO: \u001b[32mgcta_1\u001b[0m output:   \u001b[32moutput/cache/genotypes.part_2_1.grm.bin output/cache/genotypes.part_2_1.grm.N.bin... (6 items in 2 groups)\u001b[0m\n",
      "INFO: Running \u001b[32mgcta_2\u001b[0m: Merge all the parts together (Linux, Mac)\n",
      "INFO: \u001b[32mgcta_2\u001b[0m is \u001b[32mcompleted\u001b[0m.\n",
      "INFO: \u001b[32mgcta_2\u001b[0m output:   \u001b[32moutput/genotypes.grm.bin output/genotypes.grm.N.bin... (3 items)\u001b[0m\n",
      "INFO: Running \u001b[32mgcta_3\u001b[0m: Make a sparse GRM from the merged full-dense GRM\n",
      "INFO: \u001b[32mgcta_3\u001b[0m is \u001b[32mcompleted\u001b[0m.\n",
      "INFO: \u001b[32mgcta_3\u001b[0m output:   \u001b[32moutput/genotypes.grm.sp\u001b[0m\n",
      "INFO: \u001b[32mfastGWA_1\u001b[0m (index=0) is \u001b[32mignored\u001b[0m due to saved signature\n",
      "INFO: \u001b[32mfastGWA_1\u001b[0m (index=1) is \u001b[32mignored\u001b[0m due to saved signature\n",
      "INFO: \u001b[32mfastGWA_1\u001b[0m output:   \u001b[32moutput/cache/imputed_genotypes_chr21.phenotypes.fastGWA.gz output/cache/imputed_genotypes_chr22.phenotypes.fastGWA.gz in 2 groups\u001b[0m\n",
      "INFO: Running \u001b[32mfastGWA_2\u001b[0m: Merge results and log files\n",
      "INFO: \u001b[32mfastGWA_2\u001b[0m is \u001b[32mcompleted\u001b[0m.\n",
      "INFO: \u001b[32mfastGWA_2\u001b[0m output:   \u001b[32moutput/phenotypes_BMI.fastGWA.snp_stats.gz output/phenotypes_BMI.fastGWA.snp_counts.txt\u001b[0m\n",
      "INFO: Running \u001b[32mfastGWA_3\u001b[0m: Manhattan and QQ plots using `qqman`\n",
      "INFO: \u001b[32mfastGWA_3\u001b[0m is \u001b[32mcompleted\u001b[0m.\n",
      "INFO: \u001b[32mfastGWA_3\u001b[0m output:   \u001b[32moutput/phenotypes_BMI.fastGWA.manhattan.png output/phenotypes_BMI.fastGWA.qq.png... (5 items)\u001b[0m\n",
      "INFO: Running \u001b[32mfastGWA_4\u001b[0m: Generate analysis report: HTML file, and optionally PPTX file\n",
      "(node:17711) ExperimentalWarning: The fs.promises API is experimental\n",
      "\u001b[46m\u001b[30m[  INFO ]\u001b[39m\u001b[49m Converting 1 markdown...\n",
      "\u001b[46m\u001b[30m[  INFO ]\u001b[39m\u001b[49m phenotypes_BMI.fastGWA.analysis_summary.md => phenotypes_BMI.fastGWA.analysis_summary.html\n",
      "(node:17724) ExperimentalWarning: The fs.promises API is experimental\n",
      "\u001b[46m\u001b[30m[  INFO ]\u001b[39m\u001b[49m Converting 1 markdown...\n",
      "\u001b[43m\u001b[30m[  WARN ]\u001b[39m\u001b[49m Insecure local file accessing is enabled for conversion from\n",
      "          phenotypes_BMI.fastGWA.analysis_summary.md.\n",
      "\u001b[41m\u001b[37m[ ERROR ]\u001b[39m\u001b[49m Failed converting Markdown. (Failed to launch the browser process!\n",
      "          [0902/160340.711642:ERROR:icu_util.cc(247)] Couldn't mmap icu data\n",
      "          file\n",
      "          [0902/160340.712930:FATAL:content_main_delegate.cc(35)] Check failed:\n",
      "          false.\n",
      "          #0 0x55bd2b7afe49 base::debug::CollectStackTrace()\n",
      "          #1 0x55bd2b728533 base::debug::StackTrace::StackTrace()\n",
      "          #2 0x55bd2b739b70 logging::LogMessage::~LogMessage()\n",
      "          #3 0x55bd2b73a44e logging::LogMessage::~LogMessage()\n",
      "          #4 0x55bd28aac565\n",
      "          content::ContentMainDelegate::TerminateForFatalInitializationError()\n",
      "          #5 0x55bd2b2c7a04 content::ContentMainRunnerImpl::Initialize()\n",
      "          #6 0x55bd2b31765a service_manager::Main()\n",
      "          #7 0x55bd2b2c63a1 content::ContentMain()\n",
      "          #8 0x55bd2b31621d headless::(anonymous namespace)::RunContentMain()\n",
      "          #9 0x55bd2b315f1c headless::HeadlessShellMain()\n",
      "          #10 0x55bd28aa87e7 ChromeMain\n",
      "          #11 0x2ae4fa8b1495 __libc_start_main\n",
      "          #12 0x55bd28aa862a _start\n",
      "          \n",
      "          \n",
      "          \n",
      "          TROUBLESHOOTING:\n",
      "          https://github.com/puppeteer/puppeteer/blob/main/docs/troubleshooting.md\n",
      "          )\n",
      "\u001b[91mERROR\u001b[0m: \u001b[91mfastGWA_4 (id=12a533ae2b840596) returns an error.\u001b[0m\n",
      "\u001b[91mERROR\u001b[0m: \u001b[91m[fastGWA_4]: [0]: \n",
      "Failed to execute \u001b[0m\u001b[32m/bin/bash .sos/fastGWA_4_0_4b8335f1.sh\u001b[0m\u001b[91m\n",
      "exitcode=1, workdir=\u001b[0m\u001b[32m/gpfs/ysm/home/dc2325/output\u001b[0m\u001b[91m\n",
      "---------------------------------------------------------------------------\u001b[0m\n",
      "\n"
     ]
    }
   ],
   "source": [
    "sos run ~/project/bioworkflows/GWAS/LMM.ipynb fastGWA \\\n",
    "    --cwd output \\\n",
    "    --bfile data/genotypes.bed \\\n",
    "    --sampleFile data/imputed_genotypes.sample \\\n",
    "    --bgenFile data/imputed_genotypes_chr*.bgen \\\n",
    "    --phenoFile data/phenotypes.txt \\\n",
    "    --formatFile data/fastGWA_template.yml \\\n",
    "    --phenoCol BMI \\\n",
    "    --covarCol SEX \\\n",
    "    --qCovarCol AGE \\\n",
    "    --numThreads 1 \\\n",
    "    --bgenMinMAF 0.001 \\\n",
    "    --bgenMinINFO 0.1 \\\n",
    "    --parts 2 \\\n",
    "    --p_filter 1 \\\n",
    "    --container_option /SAY/dbgapstg/scratch/UKBiobank/lmm.sif \\\n",
    "    $JOB_OPT"
   ]
  },
  {
   "cell_type": "code",
   "execution_count": null,
   "metadata": {
    "kernel": "Bash"
   },
   "outputs": [],
   "source": []
  }
 ],
 "metadata": {
  "kernelspec": {
   "display_name": "SoS",
   "language": "sos",
   "name": "sos"
  },
  "language_info": {
   "codemirror_mode": "sos",
   "file_extension": ".sos",
   "mimetype": "text/x-sos",
   "name": "sos",
   "nbconvert_exporter": "sos_notebook.converter.SoS_Exporter",
   "pygments_lexer": "sos"
  },
  "sos": {
   "kernels": [
    [
     "Bash",
     "calysto_bash",
     "Bash",
     "#E6EEFF",
     "shell"
    ],
    [
     "SoS",
     "sos",
     "",
     "",
     "sos"
    ]
   ],
   "version": "0.21.12"
  }
 },
 "nbformat": 4,
 "nbformat_minor": 4
}
