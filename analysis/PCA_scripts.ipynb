{
 "cells": [
  {
   "cell_type": "markdown",
   "metadata": {
    "kernel": "SoS"
   },
   "source": [
    "# PCA analysis scripts"
   ]
  },
  {
   "cell_type": "markdown",
   "metadata": {
    "kernel": "SoS"
   },
   "source": [
    "This notebook applies the `Get_Job_Script.ipynb` to automatically generate the sbatch scripts to run in Yale's cluster. The end result is to apply [various LMM workflows](https://github.com/statgenetics/UKBB_GWAS_dev/tree/master/workflow) to perform association analysis of different lipid traits (cholesterol, HDL, LDL, triglycerides), do clumping analysis and extract associated regions."
   ]
  },
  {
   "cell_type": "markdown",
   "metadata": {
    "kernel": "SoS"
   },
   "source": [
    "## File paths on Yale cluster\n",
    "- Genotype files exome data:\n",
    "`/gpfs/gibbs/pi/dewan/data/UKBiobank/genotype_files/ukb28374_exomedata/exome_data_OCT2020`\n",
    "- Genotype files in PLINK format:\n",
    "`/gpfs/gibbs/pi/dewan/data/UKBiobank/genotype_files/pleiotropy_geneticfiles/UKB_Caucasians_phenotypeindepqc120319_updated020720removedwithdrawnindiv`\n",
    "- Genotype files in bgen format:\n",
    "`SAY/dbgapstg/scratch/UKBiobank/genotype_files/ukb39554_imputeddataset/`\n",
    "- Summary stats for imputed variants BOLT-LMM:\n",
    "`/gpfs/gibbs/pi/dewan/data/UKBiobank/results/BOLTLMM_results/results_imputed_data`\n",
    "- Summary stats for inputed variants FastGWA:\n",
    "`/gpfs/gibbs/pi/dewan/data/UKBiobank/results/FastGWA_results/results_imputed_data`\n",
    "- Phenotype files:\n",
    "`/gpfs/gibbs/pi/dewan/data/UKBiobank/phenotype_files/pleiotropy_R01/phenotypesforanalysis/UKB_Caucasiansubset_cholesterolfields_adjbymedstatus_062420_foranalysis`\n",
    "- Relationship file:\n",
    "`/gpfs/gibbs/pi/dewan/data/UKBiobank/genotype_files/pleiotropy_geneticfiles/unrelated_n307259/UKB_unrelatedcauc_phenotypes_asthmat2dbmiwaisthip_agesex_waisthipratio_040620`\n",
    "- Other traits to be analyzed:\n",
    "`/gpfs/gibbs/pi/dewan/data/UKBiobank/phenotype_files/pleiotropy_R01/phenotypesforanalysis/UKB_CAUC_lipidsforanalysis_apolipoproteinAandB,Hba1c_continuousandcategorical,egfrbyCKDEPI,serumcreatinine,UACR_inverseranknorm_110320`"
   ]
  },
  {
   "cell_type": "code",
   "execution_count": 1,
   "metadata": {
    "kernel": "Bash"
   },
   "outputs": [
    {
     "name": "stdout",
     "output_type": "stream",
     "text": [
      "\n"
     ]
    }
   ],
   "source": [
    "# Common variables\n",
    "tpl_file=../farnam.yml\n",
    "pca_dir=/gpfs/gibbs/pi/dewan/data/UKBiobank/results/pca_exomes\n",
    "famFile=/gpfs/gibbs/pi/dewan/data/UKBiobank/genotype_files/ukb28374_exomedata/exome_data_OCT2020/ukb23155_s200631.fam\n",
    "bedfiles=`echo /gpfs/gibbs/pi/dewan/data/UKBiobank/genotype_files/ukb28374_exomedata/exome_data_OCT2020/ukb23155_c{1..22}_b0_v1.bed`\n",
    "bimfiles=`echo /gpfs/gibbs/pi/dewan/data/UKBiobank/genotype_files/ukb28374_exomedata/exome_data_OCT2020/UKBexomeOQFE_chr{1..22}.bim`\n",
    "database=/gpfs/gibbs/pi/dewan/data/UKBiobank/phenotype_files/pleiotropy_R01/ukb42495_updatedJune2020/ukb42495.tab\n",
    "# Container\n",
    "container_lmm=/gpfs/gibbs/pi/dewan/data/UKBiobank/lmm.sif\n",
    "# Pipeline\n",
    "pca_sos=~/project/UKBB_GWAS_dev/PCA.ipynb\n",
    "# Name of bash script\n",
    "pca_sbatch=../output/$(date +\"%Y-%m-%d\")_pca_white.sbatch\n",
    "numThreads=1\n",
    "job_size=1\n",
    "#PCA variables\n",
    "k=10\n",
    "maxiter=0\n",
    "topk=10\n",
    "sigma=6\n",
    "window=50\n",
    "shift=5\n",
    "r2=0.5"
   ]
  },
  {
   "cell_type": "markdown",
   "metadata": {
    "kernel": "Bash"
   },
   "source": [
    "## PCA jobs"
   ]
  },
  {
   "cell_type": "code",
   "execution_count": 2,
   "metadata": {
    "kernel": "Bash"
   },
   "outputs": [
    {
     "name": "stdout",
     "output_type": "stream",
     "text": [
      "INFO: Running \u001b[32mfarnam\u001b[0m: Configuration for Yale `farnam` cluster\n",
      "INFO: \u001b[32mfarnam\u001b[0m is \u001b[32mcompleted\u001b[0m.\n",
      "INFO: \u001b[32mfarnam\u001b[0m output:   \u001b[32m../output/2020-12-02_pca_white.sbatch\u001b[0m\n",
      "INFO: Workflow farnam (ID=1ee956dba5381c80) is executed successfully with 1 completed step.\n",
      "\n"
     ]
    }
   ],
   "source": [
    "pca_args=\"\"\"filter\n",
    "    --cwd $pca_dir \n",
    "    --bedfiles $bedfiles\n",
    "    --bimfiles $bimfiles\n",
    "    --famFile $famFile\n",
    "    --database $database\n",
    "    --k $k\n",
    "    --maxiter $maxiter\n",
    "    --topk $topk\n",
    "    --sigma $sigma\n",
    "    --window $window\n",
    "    --shift $shift\n",
    "    --r2 $r2\n",
    "    --numThreads $numThreads \n",
    "    --job_size $job_size\n",
    "    --container_lmm $container_lmm\n",
    "\"\"\"\n",
    "\n",
    "sos run ~/project/bioworkflows/GWAS/Get_Job_Script.ipynb farnam \\\n",
    "    --template-file $tpl_file \\\n",
    "    --workflow-file $pca_sos \\\n",
    "    --to-script $pca_sbatch \\\n",
    "    --args \"$pca_args\""
   ]
  },
  {
   "cell_type": "code",
   "execution_count": null,
   "metadata": {
    "kernel": "Bash"
   },
   "outputs": [],
   "source": [
    "tpl_file=../farnam.yml\n",
    "pca_dir=/gpfs/gibbs/pi/dewan/data/UKBiobank/results/pca_exomes\n",
    "famFile=/gpfs/gibbs/pi/dewan/data/UKBiobank/genotype_files/ukb28374_exomedata/exome_data_OCT2020/ukb23155_s200631.fam\n",
    "bedfiles=`echo /gpfs/gibbs/pi/dewan/data/UKBiobank/genotype_files/ukb28374_exomedata/exome_data_OCT2020/ukb23155_c{1..22}_b0_v1.bed`\n",
    "bimfiles=`echo /gpfs/gibbs/pi/dewan/data/UKBiobank/genotype_files/ukb28374_exomedata/exome_data_OCT2020/UKBexomeOQFE_chr{1..22}.bim`\n",
    "database=/gpfs/gibbs/pi/dewan/data/UKBiobank/phenotype_files/pleiotropy_R01/ukb42495_updatedJune2020/ukb42495.tab\n",
    "# Container\n",
    "container_lmm=/gpfs/gibbs/pi/dewan/data/UKBiobank/lmm.sif\n",
    "# Pipeline\n",
    "pca_sos=~/project/UKBB_GWAS_dev/PCA.ipynb\n",
    "# Name of bash script\n",
    "pca_sbatch=../output/$(date +\"%Y-%m-%d\")_pca_white.sbatch\n",
    "numThreads=1\n",
    "job_size=1\n",
    "#PCA variables\n",
    "k=10\n",
    "maxiter=5\n",
    "topk=10\n",
    "sigma=6\n",
    "window=50\n",
    "shift=5\n",
    "r2=0.5\n",
    "stand=\"binom2\"\n",
    "maf_filter=0.01\n",
    "geno_filter=0.01\n",
    "mind_filter=0.02\n",
    "\n",
    "sos run ~/project/UKBB_GWAS_dev/PCA.ipynb smartpca \\\n",
    "    --cwd $pca_dir \\\n",
    "    --bedfiles $bedfiles \\\n",
    "    --bimfiles $bimfiles \\\n",
    "    --famFile $famFile \\\n",
    "    --database $database \\\n",
    "    --k $k \\\n",
    "    --stand $stand \\\n",
    "    --maxiter $maxiter \\\n",
    "    --topk $topk \\\n",
    "    --sigma $sigma \\\n",
    "    --window $window \\\n",
    "    --shift $shift \\\n",
    "    --r2 $r2 \\\n",
    "    --maf_filter $maf_filter\\\n",
    "    --geno_filter $geno_filter\\\n",
    "    --mind_filter $mind_filter \\\n",
    "    --numThreads $numThreads \\\n",
    "    --job_size $job_size \\\n",
    "    --container_lmm $container_lmm \\\n",
    "    -s build"
   ]
  },
  {
   "cell_type": "code",
   "execution_count": null,
   "metadata": {
    "kernel": "Bash"
   },
   "outputs": [],
   "source": [
    "    smartpca.perl \\\n",
    "    -i example.geno \\\n",
    "    -a example.snp \\\n",
    "    -b example.ind \\\n",
    "    -k 2 \\\n",
    "    -o example.pca \\\n",
    "    -p example.plot \\\n",
    "    -e example.eval \\\n",
    "    -l example.log \\\n",
    "    -m 5 \\\n",
    "    -t 2 \\\n",
    "    -s 6.0"
   ]
  },
  {
   "cell_type": "code",
   "execution_count": null,
   "metadata": {
    "kernel": "Bash"
   },
   "outputs": [],
   "source": [
    "par.PACKEDPED.EIGENSTRAT\n",
    "genotypename:    ukb23155_s200631.filtered.merged.bed\n",
    "snpname:         ukb23155_s200631.filtered.merged.bim\n",
    "indivname:       ukb23155_s200631.filtered.merged.fam\n",
    "outputformat:    EIGENSTRAT\n",
    "genotypeoutname: ukb23155_s200631.filtered.merged.eigenstratgeno\n",
    "snpoutname:      ukb23155_s200631.filtered.merged.snp\n",
    "indivoutname:    ukb23155_s200631.filtered.merged.ind"
   ]
  },
  {
   "cell_type": "code",
   "execution_count": null,
   "metadata": {
    "kernel": "Bash"
   },
   "outputs": [],
   "source": [
    "#!/bin/bash\n",
    "#SBATCH --partition general\n",
    "#SBATCH --nodes 1\n",
    "#SBATCH --ntasks-per-node 1\n",
    "#SBATCH --cpus-per-task 1\n",
    "#SBATCH --mem 60G\n",
    "#SBATCH --time 5-0:00:00\n",
    "#SBATCH --job-name ../output/2020-12-01_pca_white\n",
    "#SBATCH --output ../output/2020-12-01_pca_white-%J.out\n",
    "#SBATCH --error ../output/2020-12-01_pca_white-%J.log\n",
    "module load EIGENSOFT/7.2.1-foss-2018b\n",
    "smartpca.perl -i ukb23155_s200631.filtered.merged.bed -a ukb23155_s200631.filtered.merged.pedsnp -b ukb23155_s200631.filtered.merged.pedind -o ukb23155_s200631.filtered.merged.pca -p ukb23155_s200631.filtered.merged.plot -e ukb23155_s200631.filtered.eval -l ukb23155_s200631.filtered.merged.log"
   ]
  },
  {
   "cell_type": "markdown",
   "metadata": {
    "kernel": "Bash"
   },
   "source": [
    "# Running plink missing pipeline"
   ]
  },
  {
   "cell_type": "code",
   "execution_count": 8,
   "metadata": {
    "kernel": "Bash"
   },
   "outputs": [
    {
     "name": "stdout",
     "output_type": "stream",
     "text": [
      "INFO: Checking \u001b[32mqc_3\u001b[0m: Generate analysis report: HTML file, and optionally PPTX file\n",
      "HINT: singularity exec  /gpfs/gibbs/pi/dewan/data/UKBiobank/marp.sif /bin/sh /gpfs/ysm/project/dewan/dc2325/UKBB_GWAS_dev/analysis/tmpbpe3iw9z/singularity_run_9198.sh\n",
      "node /opt/marp/.cli/marp-cli.js /home/dc2325/scratch60/pca/ukb23155.merged.md -o /home/dc2325/scratch60/pca/ukb23155.merged.html \\\n",
      "    --title 'Sample and variant missingness UKBB ukb23155.merged' \\\n",
      "    --allow-local-files\n",
      "node /opt/marp/.cli/marp-cli.js /home/dc2325/scratch60/pca/ukb23155.merged.md -o /home/dc2325/scratch60/pca/ukb23155.merged.pptx \\\n",
      "    --title 'Sample and variant missingness UKBB ukb23155.merged' \\\n",
      "    --allow-local-files \n",
      "\n",
      "\n",
      "INFO: \u001b[32mqc_3\u001b[0m is \u001b[32mcompleted\u001b[0m.\n",
      "INFO: \u001b[32mqc_3\u001b[0m output:   \u001b[32m/home/dc2325/scratch60/pca/ukb23155.merged.html\u001b[0m\n",
      "INFO: Workflow qc (ID=ee77ce711d745522) is tested successfully with 1 completed step.\n"
     ]
    }
   ],
   "source": [
    "tpl_file=../farnam.yml\n",
    "pca_dir=/gpfs/gibbs/pi/dewan/data/UKBiobank/results/pca_exomes\n",
    "famFile=/gpfs/gibbs/pi/dewan/data/UKBiobank/genotype_files/ukb28374_exomedata/exome_data_OCT2020/ukb23155_s200631.fam\n",
    "bedfiles=`echo /gpfs/gibbs/pi/dewan/data/UKBiobank/genotype_files/ukb28374_exomedata/exome_data_OCT2020/ukb23155_c{1..22}_b0_v1.bed`\n",
    "bimfiles=`echo /gpfs/gibbs/pi/dewan/data/UKBiobank/genotype_files/ukb28374_exomedata/exome_data_OCT2020/UKBexomeOQFE_chr{1..22}.bim`\n",
    "# Container\n",
    "container_lmm=/gpfs/gibbs/pi/dewan/data/UKBiobank/lmm.sif\n",
    "container_marp=/gpfs/gibbs/pi/dewan/data/UKBiobank/marp.sif\n",
    "# Pipeline\n",
    "plink_sos=~/project/UKBB_GWAS_dev/plink_missing.ipynb\n",
    "# Name of bash script\n",
    "pca_sbatch=../output/$(date +\"%Y-%m-%d\")_plink_miss.sbatch\n",
    "numThreads=1\n",
    "job_size=1\n",
    "\n",
    "\n",
    "sos dryrun ~/project/UKBB_GWAS_dev/plink_missing.ipynb qc:3\\\n",
    "    --cwd $pca_dir \\\n",
    "    --bedfiles $bedfiles \\\n",
    "    --bimfiles $bimfiles \\\n",
    "    --famFile $famFile \\\n",
    "    --numThreads $numThreads \\\n",
    "    --job_size $job_size \\\n",
    "    --container_lmm $container_lmm \\\n",
    "    --container_marp $container_marp \\\n",
    "    -s build"
   ]
  },
  {
   "cell_type": "markdown",
   "metadata": {
    "kernel": "Bash"
   },
   "source": [
    "## Extracting individuals for a particular snp plink"
   ]
  },
  {
   "cell_type": "code",
   "execution_count": 12,
   "metadata": {
    "kernel": "Bash"
   },
   "outputs": [
    {
     "name": "stdout",
     "output_type": "stream",
     "text": [
      "INFO: Running \u001b[32mdefault\u001b[0m: select individuals and filter specific snps\n",
      "INFO: \u001b[32mdefault\u001b[0m is \u001b[32mcompleted\u001b[0m.\n",
      "INFO: \u001b[32mdefault\u001b[0m output:   \u001b[32m/home/dc2325/scratch60/plink_extract/ukb23155_c12_b0_v1.extract.raw\u001b[0m\n",
      "INFO: Workflow default (ID=337b795abb011101) is executed successfully with 1 completed step.\n"
     ]
    }
   ],
   "source": [
    "tpl_file=../farnam.yml\n",
    "pca_dir=/home/dc2325/scratch60/plink_extract\n",
    "famFile=/gpfs/gibbs/pi/dewan/data/UKBiobank/genotype_files/ukb28374_exomedata/exome_data_OCT2020/ukb23155_s200631.fam\n",
    "bedfiles=/gpfs/gibbs/pi/dewan/data/UKBiobank/genotype_files/ukb28374_exomedata/exome_data_OCT2020/ukb23155_c12_b0_v1.bed\n",
    "bimfiles=/gpfs/gibbs/pi/dewan/data/UKBiobank/genotype_files/ukb28374_exomedata/exome_data_OCT2020/UKBexomeOQFE_chr12.bim\n",
    "snp_list=/home/dc2325/scratch60/plink_extract/snp.txt\n",
    "# Container\n",
    "container_lmm=/gpfs/gibbs/pi/dewan/data/UKBiobank/lmm.sif\n",
    "container_marp=/gpfs/gibbs/pi/dewan/data/UKBiobank/marp.sif\n",
    "# Pipeline\n",
    "plink_sos=~/project/UKBB_GWAS_dev/plink_extract.ipynb\n",
    "# Name of bash script\n",
    "pca_sbatch=../output/$(date +\"%Y-%m-%d\")_plink_miss.sbatch\n",
    "numThreads=1\n",
    "job_size=1\n",
    "\n",
    "\n",
    "sos run ~/project/UKBB_GWAS_dev/plink_extract.ipynb  \\\n",
    "    --cwd $pca_dir \\\n",
    "    --bedfiles $bedfiles \\\n",
    "    --bimfiles $bimfiles \\\n",
    "    --famFile $famFile \\\n",
    "    --snp_list $snp_list \\\n",
    "    --numThreads $numThreads \\\n",
    "    --job_size $job_size \\\n",
    "    --container_lmm $container_lmm \\\n",
    "    --container_marp $container_marp"
   ]
  }
 ],
 "metadata": {
  "kernelspec": {
   "display_name": "SoS",
   "language": "sos",
   "name": "sos"
  },
  "language_info": {
   "codemirror_mode": "sos",
   "file_extension": ".sos",
   "mimetype": "text/x-sos",
   "name": "sos",
   "nbconvert_exporter": "sos_notebook.converter.SoS_Exporter",
   "pygments_lexer": "sos"
  },
  "sos": {
   "kernels": [
    [
     "Bash",
     "calysto_bash",
     "Bash",
     "#E6EEFF",
     ""
    ]
   ],
   "version": "0.21.21"
  }
 },
 "nbformat": 4,
 "nbformat_minor": 4
}
