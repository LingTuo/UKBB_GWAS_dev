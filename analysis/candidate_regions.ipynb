{
 "cells": [
  {
   "cell_type": "markdown",
   "metadata": {
    "kernel": "SoS"
   },
   "source": [
    "# Candidate regions from UKBB analysis\n",
    "\n",
    "Using the [LD clumping workflow](https://github.com/dianacornejo/pleiotropy_UKB/blob/master/workflow/LD_Clumping.ipynb) and [region extraction workflow](https://github.com/dianacornejo/pleiotropy_UKB/blob/master/workflow/Region_Extraction.ipynb) to obtain regions of interest."
   ]
  },
  {
   "cell_type": "markdown",
   "metadata": {
    "kernel": "SoS"
   },
   "source": [
    "## File paths on Yale cluster\n",
    "\n",
    "**FIXME: please document also where fastGWA result locates**\n",
    "\n",
    "- Genotype files in PLINK format:\n",
    "`/SAY/dbgapstg/scratch/UKBiobank/genotype_files/pleiotropy_geneticfiles/UKB_Caucasians_phenotypeindepqc120319_updated020720removedwithdrawnindiv`\n",
    "- Genotype files in bgen format:\n",
    "`SAY/dbgapstg/scratch/UKBiobank/genotype_files/ukb39554_imputeddataset/`\n",
    "- Summary stats for imputed variants BOLT-LMM:\n",
    "`/SAY/dbgapstg/scratch/UKBiobank/results/BOLTLMM_results/results_imputed_data`\n",
    "- Summary stats for inputed variants FastGWA:\n",
    "`/SAY/dbgapstg/scratch/UKBiobank/results/FastGWA_results/results_imputed_data`\n",
    "- Phenotype files:\n",
    "`/SAY/dbgapstg/scratch/UKBiobank/phenotype_files/pleiotropy_R01/phenotypesforanalysis`\n",
    "- relationship file:\n",
    "`/SAY/dbgapstg/scratch/UKBiobank/genotype_files/pleiotropy_geneticfiles/unrelated_n307259/UKB_unrelatedcauc_phenotypes_asthmat2dbmiwaisthip_agesex_waisthipratio_040620`"
   ]
  },
  {
   "cell_type": "markdown",
   "metadata": {
    "kernel": "SoS"
   },
   "source": [
    "## BMI\n",
    "\n",
    "FIXME: please use this to document all loci we have selected."
   ]
  },
  {
   "cell_type": "markdown",
   "metadata": {
    "kernel": "SoS"
   },
   "source": [
    "\n",
    "Some bash variables for paths,\n",
    "\n",
    "```\n",
    "output=output\n",
    "region=data/\n",
    "geno=data/\n",
    "pheno=data/\n",
    "samples=data/\n",
    "JOB_OPT='-j 7'\n",
    "```\n",
    "\n",
    "`BoltLMM` result,\n",
    "\n",
    "```\n",
    "sumstats=output/\n",
    "sos run workflow/Region_Extraction.ipynb plink \\\n",
    "    --region-file $region --geno-path $geno \\\n",
    "    --sumstat-path $sumstats --unrelated-samples $samples \\\n",
    "    --cwd $output $JOB_OPT\n",
    "```"
   ]
  },
  {
   "cell_type": "markdown",
   "metadata": {
    "kernel": "SoS"
   },
   "source": [
    "On Yale Farnam cluster,\n",
    "\n",
    "```\n",
    "sos run ~/project/pleiotropy_UKB/workflow/LDclumping.ipynb awk -c ~/project/pleiotropy_UKB/farnam.yml -q farnam -J 40 -s build &> sos-submission-LDclumping-date.log\n",
    "```\n",
    "\n",
    "On a local computer with for example 8 threads and for the workflow `filter_samples`\n",
    "\n",
    "```\n",
    "sos run ~/project/pleiotropy_UKB/workflow/LDclumping.ipynb filter_samples -q none -j 8\n",
    "```\n",
    "\n",
    "\n",
    "Some bash variables for paths,\n",
    "\n",
    "```\n",
    "output=output\n",
    "region=\n",
    "geno=/SAY/dbgapstg/scratch/UKBiobank/genotype_files/pleiotropy_geneticfiles/UKB_Caucasians_phenotypeindepqc120319_updated020720removedwithdrawnindiv\n",
    "samples=/SAY/dbgapstg/scratch/UKBiobank/genotype_files/pleiotropy_geneticfiles/unrelated_n307259/UKB_unrelatedcauc_phenotypes_asthmat2dbmiwaisthip_agesex_waisthipratio_040620\n",
    "JOB_OPT='-j 7'\n",
    "```\n",
    "\n",
    "`BoltLMM` result, **FIXME: what phenotype?**\n",
    "```\n",
    "sumstats=/SAY/dbgapstg/scratch/UKBiobank/results/BOLTLMM_results/results_imputed_data/INT-BMI/ukb_imp_v3.UKB_caucasians_BMIwaisthip_AsthmaAndT2D_INT-BMI_withagesex_041720.BoltLMM.stats.all_chr.gz\n",
    "sos run workflow/Region_Extraction.ipynb  \\\n",
    "    --region-file $region --geno-path $geno \\\n",
    "    --sumstat-path $sumstats --unrelated-samples $samples \\\n",
    "    --cwd $output $JOB_OPT\n",
    "```\n",
    "\n",
    "`fastGWA` result, **FIXME: what phenotype?**\n",
    "\n",
    "```\n",
    "sumstats=/SAY/dbgapstg/scratch/UKBiobank/results/BOLTLMM_results/results_imputed_data/asthma/UKB_Caucasians_phenotypeindepqc120319_updated020720removedwithdrawnindiv.Asthma_casesbyICD10codesANDselfreport_controlsbyselfreportandicd10_noautoimmuneincontrols.fastGWA.stats.all_chr\n",
    "sos run workflow/Region_Extraction.ipynb  \\\n",
    "    --region-file $region --geno-path $geno \\\n",
    "    --sumstat-path $sumstats --unrelated-samples $samples \\\n",
    "    --cwd $output $JOB_OPT\n",
    "```"
   ]
  }
 ],
 "metadata": {
  "kernelspec": {
   "display_name": "SoS",
   "language": "sos",
   "name": "sos"
  },
  "language_info": {
   "codemirror_mode": "sos",
   "file_extension": ".sos",
   "mimetype": "text/x-sos",
   "name": "sos",
   "nbconvert_exporter": "sos_notebook.converter.SoS_Exporter",
   "pygments_lexer": "sos"
  },
  "sos": {
   "kernels": [
    [
     "SoS",
     "sos",
     "",
     ""
    ]
   ],
   "version": "0.21.9"
  },
  "toc-showcode": true
 },
 "nbformat": 4,
 "nbformat_minor": 4
}
