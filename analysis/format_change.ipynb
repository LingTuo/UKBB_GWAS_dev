{
 "cells": [
  {
   "cell_type": "code",
   "execution_count": 20,
   "metadata": {},
   "outputs": [],
   "source": [
    "from pathlib import Path\n",
    "\n",
    "formatFile=Path(\"/home/dc2325/project/UKBB_GWAS_DEV/data/boltlmm_template.yml\")\n",
    "sumstats_path=\"/home/dc2325/project/results/pleiotropy/2020-04_bolt/INT-BMI/ukb_imp_v3.UKB_caucasians_BMIwaisthip_AsthmaAndT2D_INT-BMI_withagesex_041720.BoltLMM.snp_stats.all_chr.gz\"\n",
    "output=\"/home/dc2325/scratch60/plink-clumping\"\n",
    "# unify output format\n",
    "\n",
    "if {formatFile.is_file()}:\n",
    "    import yaml\n",
    "    import pandas as pd\n",
    "    sumstats = pd.read_csv(sumstats, compression='gzip', header=0, sep='\\t', quotechar='\"')  \n",
    "    config = yaml.safe_load(open(formatFile, 'r'))\n",
    "    try:\n",
    "        sumstats = sumstats.loc[:,list(config.values())]\n",
    "    except:\n",
    "        raise ValueError(f'According to {{formatFile}}, input summary statistics should have the following columns: {{list(config.values())}}.')\n",
    "    sumstats.columns = list(config.keys())\n",
    "    sumstats.to_csv(output, compression='gzip', sep='\\t', header = True, index = False) "
   ]
  },
  {
   "cell_type": "code",
   "execution_count": null,
   "metadata": {},
   "outputs": [],
   "source": []
  }
 ],
 "metadata": {
  "kernelspec": {
   "display_name": "Python 3",
   "language": "python",
   "name": "python3"
  },
  "language_info": {
   "codemirror_mode": {
    "name": "ipython",
    "version": 3
   },
   "file_extension": ".py",
   "mimetype": "text/x-python",
   "name": "python",
   "nbconvert_exporter": "python",
   "pygments_lexer": "ipython3",
   "version": "3.7.6"
  }
 },
 "nbformat": 4,
 "nbformat_minor": 4
}
