{
 "cells": [
  {
   "cell_type": "code",
   "execution_count": null,
   "metadata": {},
   "outputs": [],
   "source": [
    "# unify output format\n",
    "    if {formatFile.is_file(~/project/UKBB_GWAS_DEV/data/boltlmm_template.yml)}:\n",
    "        import yaml\n",
    "        import pandas as pd\n",
    "        sumstats = pd.read_csv(home/dc2325/project/results/pleiotropy/2020-04_bolt/INT-BMI/ukb_imp_v3.UKB_caucasians_BMIwaisthip_AsthmaAndT2D_INT-BMI_withagesex_041720.BoltLMM.snp_stats.all_chr.gz, compression='gzip', header=0, sep='\\t', quotechar='\"')  \n",
    "        config = yaml.safe_load(open({formatFile:r}, 'r'))\n",
    "        try:\n",
    "            sumstats = sumstats.loc[:,list(config.values())]\n",
    "        except:\n",
    "            raise ValueError(f'According to {{formatFile}}, input summary statistics should have the following columns: {{list(config.values())}}.')\n",
    "        sumstats.columns = list(config.keys())\n",
    "        sumstats.to_csv(home/dc2325/INT_BMI.sumstats.gz, compression='gzip', sep='\\t', header = True, index = False) "
   ]
  }
 ],
 "metadata": {
  "kernelspec": {
   "display_name": "Python 3",
   "language": "python",
   "name": "python3"
  },
  "language_info": {
   "codemirror_mode": {
    "name": "ipython",
    "version": 3
   },
   "file_extension": ".py",
   "mimetype": "text/x-python",
   "name": "python",
   "nbconvert_exporter": "python",
   "pygments_lexer": "ipython3",
   "version": "3.7.6"
  }
 },
 "nbformat": 4,
 "nbformat_minor": 4
}
