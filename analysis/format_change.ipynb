{
 "cells": [
  {
   "cell_type": "code",
   "execution_count": 20,
   "metadata": {},
   "outputs": [],
   "source": [
    "from pathlib import Path\n",
    "\n",
    "formatFile=Path(\"/home/dc2325/project/UKBB_GWAS_DEV/data/boltlmm_template.yml\")\n",
    "\n",
    "# unify output format\n",
    "\n",
    "if {formatFile.is_file()}:\n",
    "    import yaml\n",
    "    import pandas as pd\n",
    "    sumstats = pd.read_csv(\"/home/dc2325/project/results/pleiotropy/2020-04_bolt/INT-WHR/ukb_imp_v3.UKB_caucasians_BMIwaisthip_AsthmaAndT2D_INT-WHR_withagesex_042020.BoltLMM.snp_stats.all_chr.gz\", compression='gzip', header=0, sep='\\t', quotechar='\"')  \n",
    "    config = yaml.safe_load(open(formatFile, 'r'))\n",
    "    try:\n",
    "        sumstats = sumstats.loc[:,list(config.values())]\n",
    "    except:\n",
    "        raise ValueError(f'According to {{formatFile}}, input summary statistics should have the following columns: {{list(config.values())}}.')\n",
    "    sumstats.columns = list(config.keys())\n",
    "    sumstats.to_csv(\"/home/dc2325/scratch60/plink-clumping/INT-WHR.sumstats.gz\", compression='gzip', sep='\\t', header = True, index = False) "
   ]
  },
  {
   "cell_type": "code",
   "execution_count": 21,
   "metadata": {},
   "outputs": [
    {
     "ename": "FileNotFoundError",
     "evalue": "[Errno 2] No such file or directory: '~/UKBB_GWAS_DEV/analysis/boltlmm_template.yml'",
     "output_type": "error",
     "traceback": [
      "\u001b[0;31m-------------------------------------------------------------------\u001b[0m",
      "\u001b[0;31mFileNotFoundError\u001b[0m                 Traceback (most recent call last)",
      "\u001b[0;32m<ipython-input-21-55228cfc3b5b>\u001b[0m in \u001b[0;36m<module>\u001b[0;34m\u001b[0m\n\u001b[1;32m      9\u001b[0m     \u001b[0;32mimport\u001b[0m \u001b[0mpandas\u001b[0m \u001b[0;32mas\u001b[0m \u001b[0mpd\u001b[0m\u001b[0;34m\u001b[0m\u001b[0;34m\u001b[0m\u001b[0m\n\u001b[1;32m     10\u001b[0m     \u001b[0msumstats\u001b[0m \u001b[0;34m=\u001b[0m \u001b[0mpd\u001b[0m\u001b[0;34m.\u001b[0m\u001b[0mread_csv\u001b[0m\u001b[0;34m(\u001b[0m\u001b[0;34m\"~/UKBB_GWAS_DEV/analysis/ukb_imp_v3.UKB_caucasians_BMIwaisthip_AsthmaAndT2D_INT-WHR_withagesex_042020.BoltLMM.snp_stats.all_chr.gz\"\u001b[0m\u001b[0;34m,\u001b[0m \u001b[0mcompression\u001b[0m\u001b[0;34m=\u001b[0m\u001b[0;34m'gzip'\u001b[0m\u001b[0;34m,\u001b[0m \u001b[0mheader\u001b[0m\u001b[0;34m=\u001b[0m\u001b[0;36m0\u001b[0m\u001b[0;34m,\u001b[0m \u001b[0msep\u001b[0m\u001b[0;34m=\u001b[0m\u001b[0;34m'\\t'\u001b[0m\u001b[0;34m,\u001b[0m \u001b[0mquotechar\u001b[0m\u001b[0;34m=\u001b[0m\u001b[0;34m'\"'\u001b[0m\u001b[0;34m)\u001b[0m\u001b[0;34m\u001b[0m\u001b[0;34m\u001b[0m\u001b[0m\n\u001b[0;32m---> 11\u001b[0;31m     \u001b[0mconfig\u001b[0m \u001b[0;34m=\u001b[0m \u001b[0myaml\u001b[0m\u001b[0;34m.\u001b[0m\u001b[0msafe_load\u001b[0m\u001b[0;34m(\u001b[0m\u001b[0mopen\u001b[0m\u001b[0;34m(\u001b[0m\u001b[0mformatFile\u001b[0m\u001b[0;34m,\u001b[0m \u001b[0;34m'r'\u001b[0m\u001b[0;34m)\u001b[0m\u001b[0;34m)\u001b[0m\u001b[0;34m\u001b[0m\u001b[0;34m\u001b[0m\u001b[0m\n\u001b[0m\u001b[1;32m     12\u001b[0m     \u001b[0;32mtry\u001b[0m\u001b[0;34m:\u001b[0m\u001b[0;34m\u001b[0m\u001b[0;34m\u001b[0m\u001b[0m\n\u001b[1;32m     13\u001b[0m         \u001b[0msumstats\u001b[0m \u001b[0;34m=\u001b[0m \u001b[0msumstats\u001b[0m\u001b[0;34m.\u001b[0m\u001b[0mloc\u001b[0m\u001b[0;34m[\u001b[0m\u001b[0;34m:\u001b[0m\u001b[0;34m,\u001b[0m\u001b[0mlist\u001b[0m\u001b[0;34m(\u001b[0m\u001b[0mconfig\u001b[0m\u001b[0;34m.\u001b[0m\u001b[0mvalues\u001b[0m\u001b[0;34m(\u001b[0m\u001b[0;34m)\u001b[0m\u001b[0;34m)\u001b[0m\u001b[0;34m]\u001b[0m\u001b[0;34m\u001b[0m\u001b[0;34m\u001b[0m\u001b[0m\n",
      "\u001b[0;31mFileNotFoundError\u001b[0m: [Errno 2] No such file or directory: '~/UKBB_GWAS_DEV/analysis/boltlmm_template.yml'"
     ]
    }
   ],
   "source": [
    "from pathlib import Path\n",
    "\n",
    "formatFile=Path(\"~/UKBB_GWAS_DEV/analysis/boltlmm_template.yml\")\n",
    "\n",
    "# unify output format\n",
    "\n",
    "if {formatFile.is_file()}:\n",
    "    import yaml\n",
    "    import pandas as pd\n",
    "    sumstats = pd.read_csv(\"~/UKBB_GWAS_DEV/analysis/ukb_imp_v3.UKB_caucasians_BMIwaisthip_AsthmaAndT2D_INT-WHR_withagesex_042020.BoltLMM.snp_stats.all_chr.gz\", compression='gzip', header=0, sep='\\t', quotechar='\"')  \n",
    "    config = yaml.safe_load(open(formatFile, 'r'))\n",
    "    try:\n",
    "        sumstats = sumstats.loc[:,list(config.values())]\n",
    "    except:\n",
    "        raise ValueError(f'According to {{formatFile}}, input summary statistics should have the following columns: {{list(config.values())}}.')\n",
    "    sumstats.columns = list(config.keys())\n",
    "    sumstats.to_csv(\"INT-WHR.sumstats.gz\", compression='gzip', sep='\\t', header = True, index = False) "
   ]
  },
  {
   "cell_type": "code",
   "execution_count": null,
   "metadata": {},
   "outputs": [],
   "source": []
  }
 ],
 "metadata": {
  "kernelspec": {
   "display_name": "Python 3",
   "language": "python",
   "name": "python3"
  },
  "language_info": {
   "codemirror_mode": {
    "name": "ipython",
    "version": 3
   },
   "file_extension": ".py",
   "mimetype": "text/x-python",
   "name": "python",
   "nbconvert_exporter": "python",
   "pygments_lexer": "ipython3",
   "version": "3.7.6"
  }
 },
 "nbformat": 4,
 "nbformat_minor": 4
}
