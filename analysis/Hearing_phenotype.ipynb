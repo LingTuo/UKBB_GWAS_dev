{
 "cells": [
  {
   "cell_type": "markdown",
   "metadata": {
    "kernel": "SoS"
   },
   "source": [
    "# Phenotypes:\n",
    "1. Hearing aids (f.3393)\n",
    "2. Hearing difficulty/problems (f.2247)\n",
    "3. Hearing difficulty/background noise (f.2257)"
   ]
  },
  {
   "cell_type": "markdown",
   "metadata": {
    "kernel": "SoS"
   },
   "source": [
    "## Aim\n",
    "\n",
    "Create a dataset of filtered individuals using the inclusion and exclusion criteria for diverse hearing related phenotyes to perform association analyses using the LMM.ipynb. "
   ]
  },
  {
   "cell_type": "markdown",
   "metadata": {
    "kernel": "SoS"
   },
   "source": [
    "## Location of files\n",
    "\n",
    "In the shared folder is the original UKBB data\n",
    "```\n",
    "/SAY/dbgapstg/scratch/UKBiobank/phenotype_files/pleiotropy_R01/ukb42495_updatedJune2020\n",
    "```\n",
    "\n",
    "In my personal folder the filtered dataset\n",
    "\n",
    "```\n",
    "/home/dc2325/project/HI_UKBB\n",
    "```"
   ]
  },
  {
   "cell_type": "markdown",
   "metadata": {
    "kernel": "SoS"
   },
   "source": [
    "## Important phenotypic files\n",
    "\n",
    "1. `200804_UKBB_HI_genotypeqc.csv` File containing all individuals that passed QC and hearing impairment variables\n",
    "2. `200804_UKBB_HI_genotypeqc_excr.csv` File with applied exclusion criteria as indicated [here](https://docs.google.com/document/d/1cpxTzElpsEkwmBDjnMBHg2wW7CL1AcG_b0_0wE_k5rQ/edit). **Note**: this file excludes individuals with otosclerosis, Meniere's and other diseases, if you need to filter those particular phenotypes use file 1 instead.\n",
    "3. `200811_UKBB_Tinnitus_plan1_2_3_f4803` File with filtered phenotypes for tinnitus plan 1,2 and 3 and imputed noise variables\n",
    "4. `200814_UKBB_HI_genotypeqc_excr_impvars` Database with qc'ed individuals, exclusion criteria, noise imputed vars and tinnitus phenotypes"
   ]
  },
  {
   "cell_type": "markdown",
   "metadata": {
    "kernel": "SoS"
   },
   "source": [
    "## Analysis plan\n",
    "\n",
    "The phenotypes to be analyzed are the following:\n",
    "\n",
    "1. Hearing aid user (f.3393)\n",
    "\"Do you use a hearing aid most of the time?\"\n",
    "\n",
    "2. Hearing difficulty/problems (f.2247)\n",
    "\"Do you have any difficulty with your hearing?\"\n",
    "\n",
    "3. Hearing difficulty/background noise (f.2257)\n",
    "\"Do you find it difficult to follow a conversation if there is background noise (such as TV, radio, children playing)?\"\n",
    "\n",
    "**Sex corresponds to f.22001 (genetic sex):**\n",
    "\n",
    "- Male = 0\n",
    "- Female = 1\n",
    "\n",
    "**Noisy workplace and loud music exposure frequency: same as for Tinnitus**\n",
    "                \n",
    "1. Remove inconsistent individuals \n",
    "    - said 1,2 or 3 and in following visits said 0\n",
    "    - said a higher exposure (e.g 3) and then a lower one (e.g 1 or 2) in following visits\n",
    "2. Retain consistent individuals and use highest reported exposure\n",
    "\n",
    "**The needs to be inverse normalized**\n",
    "\n",
    "**Covariates to be included in the analysis include:**\n",
    "\n",
    "1. Age at time of test (calculated from f.21003.0.0,f.21003.1.0,f.21003.2.0,f.21003.3.0)\n",
    "2. Sex f.22001\n",
    "3. Volume left ear f.4270 and right ear f.4277 (The volume set by the participant for the measurement which you are using in the analysis ir our case the last time they took the test). For the analysis we use the average of the right and left ear since there is overlap in the volume distribution\n",
    "4. Noisy workplace f.4825\n",
    "5. Loud music exposure f.4836\n"
   ]
  },
  {
   "cell_type": "markdown",
   "metadata": {
    "kernel": "SoS"
   },
   "source": [
    "## Load libraries and set working dir"
   ]
  },
  {
   "cell_type": "code",
   "execution_count": null,
   "metadata": {
    "kernel": "R"
   },
   "outputs": [],
   "source": [
    "#Load libraries\n",
    "library(plyr)\n",
    "library(tidyverse)\n",
    "library(pander)\n",
    "library(ggpubr)\n",
    "library(rapportools)\n",
    "library(ggplot2)\n",
    "#Get working directory\n",
    "getwd()"
   ]
  },
  {
   "cell_type": "code",
   "execution_count": 2,
   "metadata": {
    "kernel": "R"
   },
   "outputs": [],
   "source": [
    "#Set working directory\n",
    "setwd('~/project/HI_UKBB')"
   ]
  },
  {
   "cell_type": "code",
   "execution_count": 3,
   "metadata": {
    "kernel": "R"
   },
   "outputs": [],
   "source": [
    "# Clean workspace\n",
    "rm(list=ls())"
   ]
  },
  {
   "cell_type": "code",
   "execution_count": 4,
   "metadata": {
    "kernel": "R"
   },
   "outputs": [],
   "source": [
    "df.final.imp = read.csv('200814_UKBB_HI_genotypeqc_excr_impvars.csv')"
   ]
  },
  {
   "cell_type": "markdown",
   "metadata": {
    "kernel": "R"
   },
   "source": [
    "## Data summary and recode"
   ]
  },
  {
   "cell_type": "code",
   "execution_count": 5,
   "metadata": {
    "kernel": "R"
   },
   "outputs": [
    {
     "data": {
      "text/html": [
       "<style>\n",
       ".list-inline {list-style: none; margin:0; padding: 0}\n",
       ".list-inline>li {display: inline-block}\n",
       ".list-inline>li:not(:last-child)::after {content: \"\\00b7\"; padding: 0 .5ex}\n",
       "</style>\n",
       "<ol class=list-inline><li>354347</li><li>1082</li></ol>\n"
      ],
      "text/latex": [
       "\\begin{enumerate*}\n",
       "\\item 354347\n",
       "\\item 1082\n",
       "\\end{enumerate*}\n"
      ],
      "text/markdown": [
       "1. 354347\n",
       "2. 1082\n",
       "\n",
       "\n"
      ],
      "text/plain": [
       "[1] 354347   1082"
      ]
     },
     "metadata": {},
     "output_type": "display_data"
    }
   ],
   "source": [
    "dim(df.final.imp)"
   ]
  },
  {
   "cell_type": "code",
   "execution_count": 6,
   "metadata": {
    "kernel": "R"
   },
   "outputs": [
    {
     "data": {
      "text/plain": [
       "\n",
       "Female   Male \n",
       "192414 161933 "
      ]
     },
     "metadata": {},
     "output_type": "display_data"
    }
   ],
   "source": [
    "table(df.final.imp$f.22001)"
   ]
  },
  {
   "cell_type": "code",
   "execution_count": 7,
   "metadata": {
    "kernel": "R"
   },
   "outputs": [
    {
     "data": {
      "text/plain": [
       "\n",
       "     1      0 \n",
       "192414 161933 "
      ]
     },
     "metadata": {},
     "output_type": "display_data"
    },
    {
     "data": {
      "text/html": [
       "<style>\n",
       ".list-inline {list-style: none; margin:0; padding: 0}\n",
       ".list-inline>li {display: inline-block}\n",
       ".list-inline>li:not(:last-child)::after {content: \"\\00b7\"; padding: 0 .5ex}\n",
       "</style>\n",
       "<ol class=list-inline><li>354347</li><li>1083</li></ol>\n"
      ],
      "text/latex": [
       "\\begin{enumerate*}\n",
       "\\item 354347\n",
       "\\item 1083\n",
       "\\end{enumerate*}\n"
      ],
      "text/markdown": [
       "1. 354347\n",
       "2. 1083\n",
       "\n",
       "\n"
      ],
      "text/plain": [
       "[1] 354347   1083"
      ]
     },
     "metadata": {},
     "output_type": "display_data"
    }
   ],
   "source": [
    "df.final.imp$sex <- revalue(df.final.imp$f.22001.0.0, c(\"Male\" = '0', 'Female'='1' ))\n",
    "table(df.final.imp$sex)\n",
    "dim(df.final.imp)"
   ]
  },
  {
   "cell_type": "markdown",
   "metadata": {
    "kernel": "R"
   },
   "source": [
    "# f.3393 Hearing aid: filter out inconsistent cases"
   ]
  },
  {
   "cell_type": "code",
   "execution_count": 110,
   "metadata": {
    "kernel": "R"
   },
   "outputs": [
    {
     "name": "stdout",
     "output_type": "stream",
     "text": [
      "f.3393.0.0_recode summary:\n",
      "     0      1 \n",
      "202311   9962 \n",
      "\n",
      "f.3393.1.0_recode summary:\n",
      "    0     1 \n",
      "14472   878 \n",
      "\n",
      "f.3393.2.0_recode summary:\n",
      "    0     1 \n",
      "32852  2853 \n",
      "\n",
      "f.3393.3.0_recode summary:\n",
      "   0    1 \n",
      "2225  184 \n",
      "\n"
     ]
    }
   ],
   "source": [
    "# Recode function:\n",
    "recode<-function(df,column_name){\n",
    "  new_names<-c()\n",
    "  for (i in column_name){\n",
    "    new_column_name<-paste0(i,\"_recode\")\n",
    "    new_names<-c(new_names,new_column_name)\n",
    "    df[,new_column_name] <- revalue(df[,i], c(\"No\"= 0, \n",
    "                                            \"Yes\" =1,\n",
    "                                            \"Prefer not to answer\"= NA))\n",
    "  }\n",
    "  return (list(df=df,new_column_names=new_names))\n",
    "}\n",
    "\n",
    "# columns needs to be recoded:\n",
    "column_name<-c(\"f.3393.0.0\",\"f.3393.1.0\",\"f.3393.2.0\",\"f.3393.3.0\")\n",
    "\n",
    "# get a new data.frame with recoded columns added:\n",
    "df.final.imp<-recode(df=df.final.imp,column_name)$df\n",
    "\n",
    "# get names of recoded columns:\n",
    "new_column_names<-recode(df=df.final.imp,column_name)$new_column_names\n",
    "\n",
    "# show recode summary:\n",
    "for (i in new_column_names)\n",
    "{cat(i,\"summary:\");print(table(df.final.imp[,i]));cat(\"\\n\")}"
   ]
  },
  {
   "cell_type": "code",
   "execution_count": 111,
   "metadata": {
    "kernel": "R"
   },
   "outputs": [
    {
     "data": {
      "text/html": [
       "<style>\n",
       ".list-inline {list-style: none; margin:0; padding: 0}\n",
       ".list-inline>li {display: inline-block}\n",
       ".list-inline>li:not(:last-child)::after {content: \"\\00b7\"; padding: 0 .5ex}\n",
       "</style>\n",
       "<ol class=list-inline><li>354347</li><li>1087</li></ol>\n"
      ],
      "text/latex": [
       "\\begin{enumerate*}\n",
       "\\item 354347\n",
       "\\item 1087\n",
       "\\end{enumerate*}\n"
      ],
      "text/markdown": [
       "1. 354347\n",
       "2. 1087\n",
       "\n",
       "\n"
      ],
      "text/plain": [
       "[1] 354347   1087"
      ]
     },
     "metadata": {},
     "output_type": "display_data"
    }
   ],
   "source": [
    "dim(df.final.imp)"
   ]
  },
  {
   "cell_type": "markdown",
   "metadata": {
    "kernel": "R"
   },
   "source": [
    "## f. 3393 Get patterns for possible answers"
   ]
  },
  {
   "cell_type": "code",
   "execution_count": 112,
   "metadata": {
    "kernel": "R"
   },
   "outputs": [
    {
     "data": {
      "text/html": [
       "<style>\n",
       ".list-inline {list-style: none; margin:0; padding: 0}\n",
       ".list-inline>li {display: inline-block}\n",
       ".list-inline>li:not(:last-child)::after {content: \"\\00b7\"; padding: 0 .5ex}\n",
       "</style>\n",
       "<ol class=list-inline><li>''</li><li>'0'</li><li>'00'</li><li>'000'</li><li>'0000'</li><li>'0001'</li><li>'001'</li><li>'0010'</li><li>'0011'</li><li>'01'</li><li>'010'</li><li>'0100'</li><li>'011'</li><li>'0110'</li><li>'0111'</li><li>'1'</li><li>'10'</li><li>'100'</li><li>'101'</li><li>'11'</li><li>'110'</li><li>'1100'</li><li>'111'</li><li>'1111'</li></ol>\n"
      ],
      "text/latex": [
       "\\begin{enumerate*}\n",
       "\\item ''\n",
       "\\item '0'\n",
       "\\item '00'\n",
       "\\item '000'\n",
       "\\item '0000'\n",
       "\\item '0001'\n",
       "\\item '001'\n",
       "\\item '0010'\n",
       "\\item '0011'\n",
       "\\item '01'\n",
       "\\item '010'\n",
       "\\item '0100'\n",
       "\\item '011'\n",
       "\\item '0110'\n",
       "\\item '0111'\n",
       "\\item '1'\n",
       "\\item '10'\n",
       "\\item '100'\n",
       "\\item '101'\n",
       "\\item '11'\n",
       "\\item '110'\n",
       "\\item '1100'\n",
       "\\item '111'\n",
       "\\item '1111'\n",
       "\\end{enumerate*}\n"
      ],
      "text/markdown": [
       "1. ''\n",
       "2. '0'\n",
       "3. '00'\n",
       "4. '000'\n",
       "5. '0000'\n",
       "6. '0001'\n",
       "7. '001'\n",
       "8. '0010'\n",
       "9. '0011'\n",
       "10. '01'\n",
       "11. '010'\n",
       "12. '0100'\n",
       "13. '011'\n",
       "14. '0110'\n",
       "15. '0111'\n",
       "16. '1'\n",
       "17. '10'\n",
       "18. '100'\n",
       "19. '101'\n",
       "20. '11'\n",
       "21. '110'\n",
       "22. '1100'\n",
       "23. '111'\n",
       "24. '1111'\n",
       "\n",
       "\n"
      ],
      "text/plain": [
       " [1] \"\"     \"0\"    \"00\"   \"000\"  \"0000\" \"0001\" \"001\"  \"0010\" \"0011\" \"01\"  \n",
       "[11] \"010\"  \"0100\" \"011\"  \"0110\" \"0111\" \"1\"    \"10\"   \"100\"  \"101\"  \"11\"  \n",
       "[21] \"110\"  \"1100\" \"111\"  \"1111\""
      ]
     },
     "metadata": {},
     "output_type": "display_data"
    }
   ],
   "source": [
    "# Extract subset of data only with the recode columns of tinnitus\n",
    "data_sub <- df.final.imp %>%\n",
    "  select(\"IID\",all_of(new_column_names)) \n",
    "\n",
    "# Function to extract all the available answers for 4 visits\n",
    "# and put them in one string as \"0000\", \"111\", \"991\", etc\n",
    "\n",
    "f2<-function(x){\n",
    "  visit<-''\n",
    "  for (i in 2:5){ # do not take the first column (i.e. IID)\n",
    "    if (!is.na(x[i]))\n",
    "    {visit<-paste0(visit,x[i])}\n",
    "  }\n",
    "  if(is.null(visit)){visit=NA}\n",
    "  else{visit=visit}\n",
    "  return (visit)\n",
    "}\n",
    "\n",
    "# Apply the above function and remove NAs\n",
    "data_sub$visit<-apply(data_sub, 1, f2)\n",
    "\n",
    "names(table(data_sub$visit))"
   ]
  },
  {
   "cell_type": "code",
   "execution_count": 113,
   "metadata": {
    "kernel": "R"
   },
   "outputs": [
    {
     "data": {
      "text/plain": [
       "\n",
       "            0     00    000   0000   0001    001   0010   0011     01    010 \n",
       "123790 191176  22628   3930    215     13    247      6     10   1830     24 \n",
       "  0100    011   0110   0111      1     10    100    101     11    110   1100 \n",
       "     1    192      1      4   9269     77     13     17    766      6      1 \n",
       "   111   1111 \n",
       "   125      6 "
      ]
     },
     "metadata": {},
     "output_type": "display_data"
    }
   ],
   "source": [
    "table(data_sub$visit)\n",
    "all_pattern<-unique(data_sub$visit)"
   ]
  },
  {
   "cell_type": "markdown",
   "metadata": {
    "kernel": "R"
   },
   "source": [
    "## f.3393 Get all the consistent cases"
   ]
  },
  {
   "cell_type": "code",
   "execution_count": 114,
   "metadata": {
    "kernel": "R"
   },
   "outputs": [
    {
     "data": {
      "text/plain": [
       "\n",
       "     0     00    000   0000      1     11    111   1111 \n",
       "191176  22628   3930    215   9269    766    125      6 "
      ]
     },
     "metadata": {},
     "output_type": "display_data"
    }
   ],
   "source": [
    "all_no<-all_pattern[which(grepl(\"0\",all_pattern) & !grepl(\"1\",all_pattern))]\n",
    "all_yes<-all_pattern[which(!grepl(\"0\",all_pattern) & grepl(\"1\",all_pattern))]\n",
    "table(data_sub[data_sub$visit%in%union(all_no,all_yes),\"visit\"])"
   ]
  },
  {
   "cell_type": "code",
   "execution_count": 115,
   "metadata": {
    "kernel": "R"
   },
   "outputs": [
    {
     "data": {
      "text/plain": [
       "\n",
       "0001  001 0010 0011   01  010 0100  011 0110 0111   10  100  101  110 1100 \n",
       "  13  247    6   10 1830   24    1  192    1    4   77   13   17    6    1 "
      ]
     },
     "metadata": {},
     "output_type": "display_data"
    }
   ],
   "source": [
    "consistent_1<-c(all_no,all_yes)\n",
    "yes_no<-all_pattern[which(grepl(\"0\",all_pattern) & grepl(\"1\",all_pattern))]\n",
    "table(data_sub[data_sub$visit%in%yes_no,\"visit\"])"
   ]
  },
  {
   "cell_type": "code",
   "execution_count": 116,
   "metadata": {
    "kernel": "R"
   },
   "outputs": [],
   "source": [
    "might_inconsistent<-c(yes_no)"
   ]
  },
  {
   "cell_type": "markdown",
   "metadata": {
    "kernel": "R"
   },
   "source": [
    "## Remove inconsistent cases"
   ]
  },
  {
   "cell_type": "code",
   "execution_count": 117,
   "metadata": {
    "kernel": "R"
   },
   "outputs": [
    {
     "name": "stdout",
     "output_type": "stream",
     "text": [
      "There are 123790 NAs, removed"
     ]
    }
   ],
   "source": [
    "# get all the inconsistent cases:\n",
    "exceptions<-c(\"0001\",\"001\",\"0011\",\"01\",\"011\",\"0111\")\n",
    "inconsistent<-setdiff(might_inconsistent,exceptions)\n",
    "\n",
    "cat(\"There are\",length(which(is.empty(data_sub$visit))),\"NAs, removed\")"
   ]
  },
  {
   "cell_type": "code",
   "execution_count": 118,
   "metadata": {
    "kernel": "R"
   },
   "outputs": [
    {
     "name": "stdout",
     "output_type": "stream",
     "text": [
      "There are 146 inconsistent cases, removed"
     ]
    }
   ],
   "source": [
    "cat(\"There are\",length(which(data_sub$visit%in%inconsistent)),\"inconsistent cases, removed\")"
   ]
  },
  {
   "cell_type": "code",
   "execution_count": 119,
   "metadata": {
    "kernel": "R"
   },
   "outputs": [
    {
     "data": {
      "text/html": [
       "<style>\n",
       ".list-inline {list-style: none; margin:0; padding: 0}\n",
       ".list-inline>li {display: inline-block}\n",
       ".list-inline>li:not(:last-child)::after {content: \"\\00b7\"; padding: 0 .5ex}\n",
       "</style>\n",
       "<ol class=list-inline><li>230411</li><li>1</li></ol>\n"
      ],
      "text/latex": [
       "\\begin{enumerate*}\n",
       "\\item 230411\n",
       "\\item 1\n",
       "\\end{enumerate*}\n"
      ],
      "text/markdown": [
       "1. 230411\n",
       "2. 1\n",
       "\n",
       "\n"
      ],
      "text/plain": [
       "[1] 230411      1"
      ]
     },
     "metadata": {},
     "output_type": "display_data"
    }
   ],
   "source": [
    "# removed those NAs and inconsistent cases: \n",
    "IID_hearing_aid<-data_sub %>%\n",
    "  filter(!is.empty(visit)) %>%\n",
    "  filter((!visit%in%inconsistent)) %>%\n",
    "  select(IID)\n",
    "\n",
    "dim(IID_hearing_aid)"
   ]
  },
  {
   "cell_type": "code",
   "execution_count": 120,
   "metadata": {
    "kernel": "R"
   },
   "outputs": [
    {
     "name": "stdout",
     "output_type": "stream",
     "text": [
      "After removing all the NAs and inconsistent cases, there are 230411  individuals left"
     ]
    }
   ],
   "source": [
    "IID_hearing_aid<-IID_hearing_aid[,1]\n",
    "cat(\"After removing all the NAs and inconsistent cases, there are\",length(IID_hearing_aid),\" individuals left\")"
   ]
  },
  {
   "cell_type": "code",
   "execution_count": 121,
   "metadata": {
    "kernel": "R"
   },
   "outputs": [
    {
     "data": {
      "text/html": [
       "<style>\n",
       ".list-inline {list-style: none; margin:0; padding: 0}\n",
       ".list-inline>li {display: inline-block}\n",
       ".list-inline>li:not(:last-child)::after {content: \"\\00b7\"; padding: 0 .5ex}\n",
       "</style>\n",
       "<ol class=list-inline><li>230411</li><li>1087</li></ol>\n"
      ],
      "text/latex": [
       "\\begin{enumerate*}\n",
       "\\item 230411\n",
       "\\item 1087\n",
       "\\end{enumerate*}\n"
      ],
      "text/markdown": [
       "1. 230411\n",
       "2. 1087\n",
       "\n",
       "\n"
      ],
      "text/plain": [
       "[1] 230411   1087"
      ]
     },
     "metadata": {},
     "output_type": "display_data"
    }
   ],
   "source": [
    "# get the dataset after cleansing: \n",
    "df.hearing.aid<-df.final.imp %>%\n",
    "  filter(IID%in%IID_hearing_aid)\n",
    "\n",
    "dim(df.hearing.aid)"
   ]
  },
  {
   "cell_type": "markdown",
   "metadata": {
    "kernel": "SoS"
   },
   "source": [
    "## Step 1: classify cases and controls"
   ]
  },
  {
   "cell_type": "code",
   "execution_count": 122,
   "metadata": {
    "kernel": "R"
   },
   "outputs": [
    {
     "data": {
      "text/html": [
       "<table>\n",
       "<caption>A data.frame: 6 × 11</caption>\n",
       "<thead>\n",
       "\t<tr><th></th><th scope=col>IID</th><th scope=col>FID</th><th scope=col>f.22001.0.0</th><th scope=col>f.21003.0.0</th><th scope=col>f.21003.1.0</th><th scope=col>f.21003.2.0</th><th scope=col>f.21003.3.0</th><th scope=col>f.3393.0.0_recode</th><th scope=col>f.3393.1.0_recode</th><th scope=col>f.3393.2.0_recode</th><th scope=col>f.3393.3.0_recode</th></tr>\n",
       "\t<tr><th></th><th scope=col>&lt;int&gt;</th><th scope=col>&lt;int&gt;</th><th scope=col>&lt;fct&gt;</th><th scope=col>&lt;int&gt;</th><th scope=col>&lt;int&gt;</th><th scope=col>&lt;int&gt;</th><th scope=col>&lt;int&gt;</th><th scope=col>&lt;fct&gt;</th><th scope=col>&lt;fct&gt;</th><th scope=col>&lt;fct&gt;</th><th scope=col>&lt;fct&gt;</th></tr>\n",
       "</thead>\n",
       "<tbody>\n",
       "\t<tr><th scope=row>1</th><td>1000019</td><td>1000019</td><td>Female</td><td>47</td><td>NA</td><td>NA</td><td>NA</td><td>0 </td><td>NA</td><td>NA</td><td>NA</td></tr>\n",
       "\t<tr><th scope=row>2</th><td>1000022</td><td>1000022</td><td>Male  </td><td>53</td><td>NA</td><td>NA</td><td>NA</td><td>0 </td><td>NA</td><td>NA</td><td>NA</td></tr>\n",
       "\t<tr><th scope=row>3</th><td>1000035</td><td>1000035</td><td>Male  </td><td>63</td><td>NA</td><td>NA</td><td>NA</td><td>0 </td><td>NA</td><td>NA</td><td>NA</td></tr>\n",
       "\t<tr><th scope=row>4</th><td>1000046</td><td>1000046</td><td>Female</td><td>62</td><td>NA</td><td>73</td><td>NA</td><td>NA</td><td>NA</td><td>0 </td><td>NA</td></tr>\n",
       "\t<tr><th scope=row>5</th><td>1000054</td><td>1000054</td><td>Female</td><td>65</td><td>NA</td><td>NA</td><td>NA</td><td>0 </td><td>NA</td><td>NA</td><td>NA</td></tr>\n",
       "\t<tr><th scope=row>6</th><td>1000063</td><td>1000063</td><td>Male  </td><td>43</td><td>NA</td><td>NA</td><td>NA</td><td>0 </td><td>NA</td><td>NA</td><td>NA</td></tr>\n",
       "</tbody>\n",
       "</table>\n"
      ],
      "text/latex": [
       "A data.frame: 6 × 11\n",
       "\\begin{tabular}{r|lllllllllll}\n",
       "  & IID & FID & f.22001.0.0 & f.21003.0.0 & f.21003.1.0 & f.21003.2.0 & f.21003.3.0 & f.3393.0.0\\_recode & f.3393.1.0\\_recode & f.3393.2.0\\_recode & f.3393.3.0\\_recode\\\\\n",
       "  & <int> & <int> & <fct> & <int> & <int> & <int> & <int> & <fct> & <fct> & <fct> & <fct>\\\\\n",
       "\\hline\n",
       "\t1 & 1000019 & 1000019 & Female & 47 & NA & NA & NA & 0  & NA & NA & NA\\\\\n",
       "\t2 & 1000022 & 1000022 & Male   & 53 & NA & NA & NA & 0  & NA & NA & NA\\\\\n",
       "\t3 & 1000035 & 1000035 & Male   & 63 & NA & NA & NA & 0  & NA & NA & NA\\\\\n",
       "\t4 & 1000046 & 1000046 & Female & 62 & NA & 73 & NA & NA & NA & 0  & NA\\\\\n",
       "\t5 & 1000054 & 1000054 & Female & 65 & NA & NA & NA & 0  & NA & NA & NA\\\\\n",
       "\t6 & 1000063 & 1000063 & Male   & 43 & NA & NA & NA & 0  & NA & NA & NA\\\\\n",
       "\\end{tabular}\n"
      ],
      "text/markdown": [
       "\n",
       "A data.frame: 6 × 11\n",
       "\n",
       "| <!--/--> | IID &lt;int&gt; | FID &lt;int&gt; | f.22001.0.0 &lt;fct&gt; | f.21003.0.0 &lt;int&gt; | f.21003.1.0 &lt;int&gt; | f.21003.2.0 &lt;int&gt; | f.21003.3.0 &lt;int&gt; | f.3393.0.0_recode &lt;fct&gt; | f.3393.1.0_recode &lt;fct&gt; | f.3393.2.0_recode &lt;fct&gt; | f.3393.3.0_recode &lt;fct&gt; |\n",
       "|---|---|---|---|---|---|---|---|---|---|---|---|\n",
       "| 1 | 1000019 | 1000019 | Female | 47 | NA | NA | NA | 0  | NA | NA | NA |\n",
       "| 2 | 1000022 | 1000022 | Male   | 53 | NA | NA | NA | 0  | NA | NA | NA |\n",
       "| 3 | 1000035 | 1000035 | Male   | 63 | NA | NA | NA | 0  | NA | NA | NA |\n",
       "| 4 | 1000046 | 1000046 | Female | 62 | NA | 73 | NA | NA | NA | 0  | NA |\n",
       "| 5 | 1000054 | 1000054 | Female | 65 | NA | NA | NA | 0  | NA | NA | NA |\n",
       "| 6 | 1000063 | 1000063 | Male   | 43 | NA | NA | NA | 0  | NA | NA | NA |\n",
       "\n"
      ],
      "text/plain": [
       "  IID     FID     f.22001.0.0 f.21003.0.0 f.21003.1.0 f.21003.2.0 f.21003.3.0\n",
       "1 1000019 1000019 Female      47          NA          NA          NA         \n",
       "2 1000022 1000022 Male        53          NA          NA          NA         \n",
       "3 1000035 1000035 Male        63          NA          NA          NA         \n",
       "4 1000046 1000046 Female      62          NA          73          NA         \n",
       "5 1000054 1000054 Female      65          NA          NA          NA         \n",
       "6 1000063 1000063 Male        43          NA          NA          NA         \n",
       "  f.3393.0.0_recode f.3393.1.0_recode f.3393.2.0_recode f.3393.3.0_recode\n",
       "1 0                 NA                NA                NA               \n",
       "2 0                 NA                NA                NA               \n",
       "3 0                 NA                NA                NA               \n",
       "4 NA                NA                0                 NA               \n",
       "5 0                 NA                NA                NA               \n",
       "6 0                 NA                NA                NA               "
      ]
     },
     "metadata": {},
     "output_type": "display_data"
    }
   ],
   "source": [
    "hearing_aid <- df.hearing.aid %>% \n",
    "  select(IID,FID,f.22001.0.0, f.21003.0.0,f.21003.1.0,f.21003.2.0,f.21003.3.0,f.3393.0.0_recode,f.3393.1.0_recode,f.3393.2.0_recode,f.3393.3.0_recode)\n",
    "head(hearing_aid)"
   ]
  },
  {
   "cell_type": "markdown",
   "metadata": {
    "kernel": "SoS"
   },
   "source": [
    "## Hearing aid f.3393"
   ]
  },
  {
   "cell_type": "code",
   "execution_count": 123,
   "metadata": {
    "kernel": "R"
   },
   "outputs": [
    {
     "data": {
      "text/html": [
       "<table>\n",
       "<caption>A data.frame: 10 × 12</caption>\n",
       "<thead>\n",
       "\t<tr><th></th><th scope=col>IID</th><th scope=col>FID</th><th scope=col>f.22001.0.0</th><th scope=col>f.21003.0.0</th><th scope=col>f.21003.1.0</th><th scope=col>f.21003.2.0</th><th scope=col>f.21003.3.0</th><th scope=col>f.3393.0.0_recode</th><th scope=col>f.3393.1.0_recode</th><th scope=col>f.3393.2.0_recode</th><th scope=col>f.3393.3.0_recode</th><th scope=col>cases</th></tr>\n",
       "\t<tr><th></th><th scope=col>&lt;int&gt;</th><th scope=col>&lt;int&gt;</th><th scope=col>&lt;fct&gt;</th><th scope=col>&lt;int&gt;</th><th scope=col>&lt;int&gt;</th><th scope=col>&lt;int&gt;</th><th scope=col>&lt;int&gt;</th><th scope=col>&lt;fct&gt;</th><th scope=col>&lt;fct&gt;</th><th scope=col>&lt;fct&gt;</th><th scope=col>&lt;fct&gt;</th><th scope=col>&lt;lgl&gt;</th></tr>\n",
       "</thead>\n",
       "<tbody>\n",
       "\t<tr><th scope=row>1</th><td>1000019</td><td>1000019</td><td>Female</td><td>47</td><td>NA</td><td>NA</td><td>NA</td><td>0 </td><td>NA</td><td>NA</td><td>NA</td><td>FALSE</td></tr>\n",
       "\t<tr><th scope=row>2</th><td>1000022</td><td>1000022</td><td>Male  </td><td>53</td><td>NA</td><td>NA</td><td>NA</td><td>0 </td><td>NA</td><td>NA</td><td>NA</td><td>FALSE</td></tr>\n",
       "\t<tr><th scope=row>3</th><td>1000035</td><td>1000035</td><td>Male  </td><td>63</td><td>NA</td><td>NA</td><td>NA</td><td>0 </td><td>NA</td><td>NA</td><td>NA</td><td>FALSE</td></tr>\n",
       "\t<tr><th scope=row>4</th><td>1000046</td><td>1000046</td><td>Female</td><td>62</td><td>NA</td><td>73</td><td>NA</td><td>NA</td><td>NA</td><td>0 </td><td>NA</td><td>FALSE</td></tr>\n",
       "\t<tr><th scope=row>5</th><td>1000054</td><td>1000054</td><td>Female</td><td>65</td><td>NA</td><td>NA</td><td>NA</td><td>0 </td><td>NA</td><td>NA</td><td>NA</td><td>FALSE</td></tr>\n",
       "\t<tr><th scope=row>6</th><td>1000063</td><td>1000063</td><td>Male  </td><td>43</td><td>NA</td><td>NA</td><td>NA</td><td>0 </td><td>NA</td><td>NA</td><td>NA</td><td>FALSE</td></tr>\n",
       "\t<tr><th scope=row>7</th><td>1000078</td><td>1000078</td><td>Female</td><td>52</td><td>57</td><td>60</td><td>NA</td><td>NA</td><td>0 </td><td>0 </td><td>NA</td><td>FALSE</td></tr>\n",
       "\t<tr><th scope=row>8</th><td>1000105</td><td>1000105</td><td>Female</td><td>54</td><td>NA</td><td>NA</td><td>NA</td><td>0 </td><td>NA</td><td>NA</td><td>NA</td><td>FALSE</td></tr>\n",
       "\t<tr><th scope=row>9</th><td>1000112</td><td>1000112</td><td>Male  </td><td>58</td><td>NA</td><td>68</td><td>NA</td><td>NA</td><td>NA</td><td>1 </td><td>NA</td><td> TRUE</td></tr>\n",
       "\t<tr><th scope=row>10</th><td>1000141</td><td>1000141</td><td>Female</td><td>49</td><td>NA</td><td>NA</td><td>NA</td><td>0 </td><td>NA</td><td>NA</td><td>NA</td><td>FALSE</td></tr>\n",
       "</tbody>\n",
       "</table>\n"
      ],
      "text/latex": [
       "A data.frame: 10 × 12\n",
       "\\begin{tabular}{r|llllllllllll}\n",
       "  & IID & FID & f.22001.0.0 & f.21003.0.0 & f.21003.1.0 & f.21003.2.0 & f.21003.3.0 & f.3393.0.0\\_recode & f.3393.1.0\\_recode & f.3393.2.0\\_recode & f.3393.3.0\\_recode & cases\\\\\n",
       "  & <int> & <int> & <fct> & <int> & <int> & <int> & <int> & <fct> & <fct> & <fct> & <fct> & <lgl>\\\\\n",
       "\\hline\n",
       "\t1 & 1000019 & 1000019 & Female & 47 & NA & NA & NA & 0  & NA & NA & NA & FALSE\\\\\n",
       "\t2 & 1000022 & 1000022 & Male   & 53 & NA & NA & NA & 0  & NA & NA & NA & FALSE\\\\\n",
       "\t3 & 1000035 & 1000035 & Male   & 63 & NA & NA & NA & 0  & NA & NA & NA & FALSE\\\\\n",
       "\t4 & 1000046 & 1000046 & Female & 62 & NA & 73 & NA & NA & NA & 0  & NA & FALSE\\\\\n",
       "\t5 & 1000054 & 1000054 & Female & 65 & NA & NA & NA & 0  & NA & NA & NA & FALSE\\\\\n",
       "\t6 & 1000063 & 1000063 & Male   & 43 & NA & NA & NA & 0  & NA & NA & NA & FALSE\\\\\n",
       "\t7 & 1000078 & 1000078 & Female & 52 & 57 & 60 & NA & NA & 0  & 0  & NA & FALSE\\\\\n",
       "\t8 & 1000105 & 1000105 & Female & 54 & NA & NA & NA & 0  & NA & NA & NA & FALSE\\\\\n",
       "\t9 & 1000112 & 1000112 & Male   & 58 & NA & 68 & NA & NA & NA & 1  & NA &  TRUE\\\\\n",
       "\t10 & 1000141 & 1000141 & Female & 49 & NA & NA & NA & 0  & NA & NA & NA & FALSE\\\\\n",
       "\\end{tabular}\n"
      ],
      "text/markdown": [
       "\n",
       "A data.frame: 10 × 12\n",
       "\n",
       "| <!--/--> | IID &lt;int&gt; | FID &lt;int&gt; | f.22001.0.0 &lt;fct&gt; | f.21003.0.0 &lt;int&gt; | f.21003.1.0 &lt;int&gt; | f.21003.2.0 &lt;int&gt; | f.21003.3.0 &lt;int&gt; | f.3393.0.0_recode &lt;fct&gt; | f.3393.1.0_recode &lt;fct&gt; | f.3393.2.0_recode &lt;fct&gt; | f.3393.3.0_recode &lt;fct&gt; | cases &lt;lgl&gt; |\n",
       "|---|---|---|---|---|---|---|---|---|---|---|---|---|\n",
       "| 1 | 1000019 | 1000019 | Female | 47 | NA | NA | NA | 0  | NA | NA | NA | FALSE |\n",
       "| 2 | 1000022 | 1000022 | Male   | 53 | NA | NA | NA | 0  | NA | NA | NA | FALSE |\n",
       "| 3 | 1000035 | 1000035 | Male   | 63 | NA | NA | NA | 0  | NA | NA | NA | FALSE |\n",
       "| 4 | 1000046 | 1000046 | Female | 62 | NA | 73 | NA | NA | NA | 0  | NA | FALSE |\n",
       "| 5 | 1000054 | 1000054 | Female | 65 | NA | NA | NA | 0  | NA | NA | NA | FALSE |\n",
       "| 6 | 1000063 | 1000063 | Male   | 43 | NA | NA | NA | 0  | NA | NA | NA | FALSE |\n",
       "| 7 | 1000078 | 1000078 | Female | 52 | 57 | 60 | NA | NA | 0  | 0  | NA | FALSE |\n",
       "| 8 | 1000105 | 1000105 | Female | 54 | NA | NA | NA | 0  | NA | NA | NA | FALSE |\n",
       "| 9 | 1000112 | 1000112 | Male   | 58 | NA | 68 | NA | NA | NA | 1  | NA |  TRUE |\n",
       "| 10 | 1000141 | 1000141 | Female | 49 | NA | NA | NA | 0  | NA | NA | NA | FALSE |\n",
       "\n"
      ],
      "text/plain": [
       "   IID     FID     f.22001.0.0 f.21003.0.0 f.21003.1.0 f.21003.2.0 f.21003.3.0\n",
       "1  1000019 1000019 Female      47          NA          NA          NA         \n",
       "2  1000022 1000022 Male        53          NA          NA          NA         \n",
       "3  1000035 1000035 Male        63          NA          NA          NA         \n",
       "4  1000046 1000046 Female      62          NA          73          NA         \n",
       "5  1000054 1000054 Female      65          NA          NA          NA         \n",
       "6  1000063 1000063 Male        43          NA          NA          NA         \n",
       "7  1000078 1000078 Female      52          57          60          NA         \n",
       "8  1000105 1000105 Female      54          NA          NA          NA         \n",
       "9  1000112 1000112 Male        58          NA          68          NA         \n",
       "10 1000141 1000141 Female      49          NA          NA          NA         \n",
       "   f.3393.0.0_recode f.3393.1.0_recode f.3393.2.0_recode f.3393.3.0_recode\n",
       "1  0                 NA                NA                NA               \n",
       "2  0                 NA                NA                NA               \n",
       "3  0                 NA                NA                NA               \n",
       "4  NA                NA                0                 NA               \n",
       "5  0                 NA                NA                NA               \n",
       "6  0                 NA                NA                NA               \n",
       "7  NA                0                 0                 NA               \n",
       "8  0                 NA                NA                NA               \n",
       "9  NA                NA                1                 NA               \n",
       "10 0                 NA                NA                NA               \n",
       "   cases\n",
       "1  FALSE\n",
       "2  FALSE\n",
       "3  FALSE\n",
       "4  FALSE\n",
       "5  FALSE\n",
       "6  FALSE\n",
       "7  FALSE\n",
       "8  FALSE\n",
       "9   TRUE\n",
       "10 FALSE"
      ]
     },
     "metadata": {},
     "output_type": "display_data"
    }
   ],
   "source": [
    "data_sub <- select(hearing_aid,starts_with(\"f.3393\"))\n",
    "\n",
    "# Function to define cases\n",
    "f<-function(x){\n",
    "  visit<-c()\n",
    "  for (i in 1:4){\n",
    "    if (!is.na(x[i]))\n",
    "    {visit<-c(visit,x[i])}\n",
    "  }\n",
    "  if (\"1\" %in% visit){result= TRUE}\n",
    "  else{result=FALSE}\n",
    "  return (result)\n",
    "}\n",
    "\n",
    "# Apply the above function\n",
    "hearing_aid$cases<-apply(data_sub, 1, f)\n",
    "head(hearing_aid,10)"
   ]
  },
  {
   "cell_type": "code",
   "execution_count": 124,
   "metadata": {
    "kernel": "R"
   },
   "outputs": [
    {
     "data": {
      "text/html": [
       "<table>\n",
       "<caption>A data.frame: 6 × 12</caption>\n",
       "<thead>\n",
       "\t<tr><th></th><th scope=col>IID</th><th scope=col>FID</th><th scope=col>f.22001.0.0</th><th scope=col>f.21003.0.0</th><th scope=col>f.21003.1.0</th><th scope=col>f.21003.2.0</th><th scope=col>f.21003.3.0</th><th scope=col>f.3393.0.0_recode</th><th scope=col>f.3393.1.0_recode</th><th scope=col>f.3393.2.0_recode</th><th scope=col>f.3393.3.0_recode</th><th scope=col>cases</th></tr>\n",
       "\t<tr><th></th><th scope=col>&lt;int&gt;</th><th scope=col>&lt;int&gt;</th><th scope=col>&lt;fct&gt;</th><th scope=col>&lt;int&gt;</th><th scope=col>&lt;int&gt;</th><th scope=col>&lt;int&gt;</th><th scope=col>&lt;int&gt;</th><th scope=col>&lt;fct&gt;</th><th scope=col>&lt;fct&gt;</th><th scope=col>&lt;fct&gt;</th><th scope=col>&lt;fct&gt;</th><th scope=col>&lt;lgl&gt;</th></tr>\n",
       "</thead>\n",
       "<tbody>\n",
       "\t<tr><th scope=row>1</th><td>1000112</td><td>1000112</td><td>Male  </td><td>58</td><td>NA</td><td>68</td><td>NA</td><td>NA</td><td>NA</td><td>1 </td><td>NA</td><td>TRUE</td></tr>\n",
       "\t<tr><th scope=row>2</th><td>1001067</td><td>1001067</td><td>Male  </td><td>50</td><td>NA</td><td>NA</td><td>NA</td><td>1 </td><td>NA</td><td>NA</td><td>NA</td><td>TRUE</td></tr>\n",
       "\t<tr><th scope=row>3</th><td>1001384</td><td>1001384</td><td>Female</td><td>61</td><td>NA</td><td>NA</td><td>NA</td><td>1 </td><td>NA</td><td>NA</td><td>NA</td><td>TRUE</td></tr>\n",
       "\t<tr><th scope=row>4</th><td>1001459</td><td>1001459</td><td>Male  </td><td>64</td><td>NA</td><td>NA</td><td>NA</td><td>1 </td><td>NA</td><td>NA</td><td>NA</td><td>TRUE</td></tr>\n",
       "\t<tr><th scope=row>5</th><td>1002548</td><td>1002548</td><td>Male  </td><td>62</td><td>NA</td><td>NA</td><td>NA</td><td>1 </td><td>NA</td><td>NA</td><td>NA</td><td>TRUE</td></tr>\n",
       "\t<tr><th scope=row>6</th><td>1002888</td><td>1002888</td><td>Male  </td><td>68</td><td>NA</td><td>NA</td><td>NA</td><td>1 </td><td>NA</td><td>NA</td><td>NA</td><td>TRUE</td></tr>\n",
       "</tbody>\n",
       "</table>\n"
      ],
      "text/latex": [
       "A data.frame: 6 × 12\n",
       "\\begin{tabular}{r|llllllllllll}\n",
       "  & IID & FID & f.22001.0.0 & f.21003.0.0 & f.21003.1.0 & f.21003.2.0 & f.21003.3.0 & f.3393.0.0\\_recode & f.3393.1.0\\_recode & f.3393.2.0\\_recode & f.3393.3.0\\_recode & cases\\\\\n",
       "  & <int> & <int> & <fct> & <int> & <int> & <int> & <int> & <fct> & <fct> & <fct> & <fct> & <lgl>\\\\\n",
       "\\hline\n",
       "\t1 & 1000112 & 1000112 & Male   & 58 & NA & 68 & NA & NA & NA & 1  & NA & TRUE\\\\\n",
       "\t2 & 1001067 & 1001067 & Male   & 50 & NA & NA & NA & 1  & NA & NA & NA & TRUE\\\\\n",
       "\t3 & 1001384 & 1001384 & Female & 61 & NA & NA & NA & 1  & NA & NA & NA & TRUE\\\\\n",
       "\t4 & 1001459 & 1001459 & Male   & 64 & NA & NA & NA & 1  & NA & NA & NA & TRUE\\\\\n",
       "\t5 & 1002548 & 1002548 & Male   & 62 & NA & NA & NA & 1  & NA & NA & NA & TRUE\\\\\n",
       "\t6 & 1002888 & 1002888 & Male   & 68 & NA & NA & NA & 1  & NA & NA & NA & TRUE\\\\\n",
       "\\end{tabular}\n"
      ],
      "text/markdown": [
       "\n",
       "A data.frame: 6 × 12\n",
       "\n",
       "| <!--/--> | IID &lt;int&gt; | FID &lt;int&gt; | f.22001.0.0 &lt;fct&gt; | f.21003.0.0 &lt;int&gt; | f.21003.1.0 &lt;int&gt; | f.21003.2.0 &lt;int&gt; | f.21003.3.0 &lt;int&gt; | f.3393.0.0_recode &lt;fct&gt; | f.3393.1.0_recode &lt;fct&gt; | f.3393.2.0_recode &lt;fct&gt; | f.3393.3.0_recode &lt;fct&gt; | cases &lt;lgl&gt; |\n",
       "|---|---|---|---|---|---|---|---|---|---|---|---|---|\n",
       "| 1 | 1000112 | 1000112 | Male   | 58 | NA | 68 | NA | NA | NA | 1  | NA | TRUE |\n",
       "| 2 | 1001067 | 1001067 | Male   | 50 | NA | NA | NA | 1  | NA | NA | NA | TRUE |\n",
       "| 3 | 1001384 | 1001384 | Female | 61 | NA | NA | NA | 1  | NA | NA | NA | TRUE |\n",
       "| 4 | 1001459 | 1001459 | Male   | 64 | NA | NA | NA | 1  | NA | NA | NA | TRUE |\n",
       "| 5 | 1002548 | 1002548 | Male   | 62 | NA | NA | NA | 1  | NA | NA | NA | TRUE |\n",
       "| 6 | 1002888 | 1002888 | Male   | 68 | NA | NA | NA | 1  | NA | NA | NA | TRUE |\n",
       "\n"
      ],
      "text/plain": [
       "  IID     FID     f.22001.0.0 f.21003.0.0 f.21003.1.0 f.21003.2.0 f.21003.3.0\n",
       "1 1000112 1000112 Male        58          NA          68          NA         \n",
       "2 1001067 1001067 Male        50          NA          NA          NA         \n",
       "3 1001384 1001384 Female      61          NA          NA          NA         \n",
       "4 1001459 1001459 Male        64          NA          NA          NA         \n",
       "5 1002548 1002548 Male        62          NA          NA          NA         \n",
       "6 1002888 1002888 Male        68          NA          NA          NA         \n",
       "  f.3393.0.0_recode f.3393.1.0_recode f.3393.2.0_recode f.3393.3.0_recode cases\n",
       "1 NA                NA                1                 NA                TRUE \n",
       "2 1                 NA                NA                NA                TRUE \n",
       "3 1                 NA                NA                NA                TRUE \n",
       "4 1                 NA                NA                NA                TRUE \n",
       "5 1                 NA                NA                NA                TRUE \n",
       "6 1                 NA                NA                NA                TRUE "
      ]
     },
     "metadata": {},
     "output_type": "display_data"
    },
    {
     "name": "stdout",
     "output_type": "stream",
     "text": [
      "12462 individuals are cases for f.3393"
     ]
    }
   ],
   "source": [
    "hearing_aid_cases <- hearing_aid %>% \n",
    "  filter(cases == TRUE)\n",
    "head(hearing_aid_cases)\n",
    "cat(dim(hearing_aid_cases)[1], \"individuals are cases for f.3393\")"
   ]
  },
  {
   "cell_type": "code",
   "execution_count": 125,
   "metadata": {
    "kernel": "R"
   },
   "outputs": [
    {
     "data": {
      "text/html": [
       "<table>\n",
       "<caption>A data.frame: 6 × 12</caption>\n",
       "<thead>\n",
       "\t<tr><th></th><th scope=col>IID</th><th scope=col>FID</th><th scope=col>f.22001.0.0</th><th scope=col>f.21003.0.0</th><th scope=col>f.21003.1.0</th><th scope=col>f.21003.2.0</th><th scope=col>f.21003.3.0</th><th scope=col>f.3393.0.0_recode</th><th scope=col>f.3393.1.0_recode</th><th scope=col>f.3393.2.0_recode</th><th scope=col>f.3393.3.0_recode</th><th scope=col>cases</th></tr>\n",
       "\t<tr><th></th><th scope=col>&lt;int&gt;</th><th scope=col>&lt;int&gt;</th><th scope=col>&lt;fct&gt;</th><th scope=col>&lt;int&gt;</th><th scope=col>&lt;int&gt;</th><th scope=col>&lt;int&gt;</th><th scope=col>&lt;int&gt;</th><th scope=col>&lt;fct&gt;</th><th scope=col>&lt;fct&gt;</th><th scope=col>&lt;fct&gt;</th><th scope=col>&lt;fct&gt;</th><th scope=col>&lt;lgl&gt;</th></tr>\n",
       "</thead>\n",
       "<tbody>\n",
       "\t<tr><th scope=row>1</th><td>1000019</td><td>1000019</td><td>Female</td><td>47</td><td>NA</td><td>NA</td><td>NA</td><td>0 </td><td>NA</td><td>NA</td><td>NA</td><td>FALSE</td></tr>\n",
       "\t<tr><th scope=row>2</th><td>1000022</td><td>1000022</td><td>Male  </td><td>53</td><td>NA</td><td>NA</td><td>NA</td><td>0 </td><td>NA</td><td>NA</td><td>NA</td><td>FALSE</td></tr>\n",
       "\t<tr><th scope=row>3</th><td>1000035</td><td>1000035</td><td>Male  </td><td>63</td><td>NA</td><td>NA</td><td>NA</td><td>0 </td><td>NA</td><td>NA</td><td>NA</td><td>FALSE</td></tr>\n",
       "\t<tr><th scope=row>4</th><td>1000046</td><td>1000046</td><td>Female</td><td>62</td><td>NA</td><td>73</td><td>NA</td><td>NA</td><td>NA</td><td>0 </td><td>NA</td><td>FALSE</td></tr>\n",
       "\t<tr><th scope=row>5</th><td>1000054</td><td>1000054</td><td>Female</td><td>65</td><td>NA</td><td>NA</td><td>NA</td><td>0 </td><td>NA</td><td>NA</td><td>NA</td><td>FALSE</td></tr>\n",
       "\t<tr><th scope=row>6</th><td>1000063</td><td>1000063</td><td>Male  </td><td>43</td><td>NA</td><td>NA</td><td>NA</td><td>0 </td><td>NA</td><td>NA</td><td>NA</td><td>FALSE</td></tr>\n",
       "</tbody>\n",
       "</table>\n"
      ],
      "text/latex": [
       "A data.frame: 6 × 12\n",
       "\\begin{tabular}{r|llllllllllll}\n",
       "  & IID & FID & f.22001.0.0 & f.21003.0.0 & f.21003.1.0 & f.21003.2.0 & f.21003.3.0 & f.3393.0.0\\_recode & f.3393.1.0\\_recode & f.3393.2.0\\_recode & f.3393.3.0\\_recode & cases\\\\\n",
       "  & <int> & <int> & <fct> & <int> & <int> & <int> & <int> & <fct> & <fct> & <fct> & <fct> & <lgl>\\\\\n",
       "\\hline\n",
       "\t1 & 1000019 & 1000019 & Female & 47 & NA & NA & NA & 0  & NA & NA & NA & FALSE\\\\\n",
       "\t2 & 1000022 & 1000022 & Male   & 53 & NA & NA & NA & 0  & NA & NA & NA & FALSE\\\\\n",
       "\t3 & 1000035 & 1000035 & Male   & 63 & NA & NA & NA & 0  & NA & NA & NA & FALSE\\\\\n",
       "\t4 & 1000046 & 1000046 & Female & 62 & NA & 73 & NA & NA & NA & 0  & NA & FALSE\\\\\n",
       "\t5 & 1000054 & 1000054 & Female & 65 & NA & NA & NA & 0  & NA & NA & NA & FALSE\\\\\n",
       "\t6 & 1000063 & 1000063 & Male   & 43 & NA & NA & NA & 0  & NA & NA & NA & FALSE\\\\\n",
       "\\end{tabular}\n"
      ],
      "text/markdown": [
       "\n",
       "A data.frame: 6 × 12\n",
       "\n",
       "| <!--/--> | IID &lt;int&gt; | FID &lt;int&gt; | f.22001.0.0 &lt;fct&gt; | f.21003.0.0 &lt;int&gt; | f.21003.1.0 &lt;int&gt; | f.21003.2.0 &lt;int&gt; | f.21003.3.0 &lt;int&gt; | f.3393.0.0_recode &lt;fct&gt; | f.3393.1.0_recode &lt;fct&gt; | f.3393.2.0_recode &lt;fct&gt; | f.3393.3.0_recode &lt;fct&gt; | cases &lt;lgl&gt; |\n",
       "|---|---|---|---|---|---|---|---|---|---|---|---|---|\n",
       "| 1 | 1000019 | 1000019 | Female | 47 | NA | NA | NA | 0  | NA | NA | NA | FALSE |\n",
       "| 2 | 1000022 | 1000022 | Male   | 53 | NA | NA | NA | 0  | NA | NA | NA | FALSE |\n",
       "| 3 | 1000035 | 1000035 | Male   | 63 | NA | NA | NA | 0  | NA | NA | NA | FALSE |\n",
       "| 4 | 1000046 | 1000046 | Female | 62 | NA | 73 | NA | NA | NA | 0  | NA | FALSE |\n",
       "| 5 | 1000054 | 1000054 | Female | 65 | NA | NA | NA | 0  | NA | NA | NA | FALSE |\n",
       "| 6 | 1000063 | 1000063 | Male   | 43 | NA | NA | NA | 0  | NA | NA | NA | FALSE |\n",
       "\n"
      ],
      "text/plain": [
       "  IID     FID     f.22001.0.0 f.21003.0.0 f.21003.1.0 f.21003.2.0 f.21003.3.0\n",
       "1 1000019 1000019 Female      47          NA          NA          NA         \n",
       "2 1000022 1000022 Male        53          NA          NA          NA         \n",
       "3 1000035 1000035 Male        63          NA          NA          NA         \n",
       "4 1000046 1000046 Female      62          NA          73          NA         \n",
       "5 1000054 1000054 Female      65          NA          NA          NA         \n",
       "6 1000063 1000063 Male        43          NA          NA          NA         \n",
       "  f.3393.0.0_recode f.3393.1.0_recode f.3393.2.0_recode f.3393.3.0_recode cases\n",
       "1 0                 NA                NA                NA                FALSE\n",
       "2 0                 NA                NA                NA                FALSE\n",
       "3 0                 NA                NA                NA                FALSE\n",
       "4 NA                NA                0                 NA                FALSE\n",
       "5 0                 NA                NA                NA                FALSE\n",
       "6 0                 NA                NA                NA                FALSE"
      ]
     },
     "metadata": {},
     "output_type": "display_data"
    },
    {
     "name": "stdout",
     "output_type": "stream",
     "text": [
      "217949 individuals are controls for f.3393"
     ]
    }
   ],
   "source": [
    "hearing_aid_controls <- hearing_aid %>% \n",
    "  filter(cases == FALSE)\n",
    "head(hearing_aid_controls)\n",
    "cat(dim(hearing_aid_controls)[1], \"individuals are controls for f.3393\")"
   ]
  },
  {
   "cell_type": "code",
   "execution_count": 126,
   "metadata": {
    "kernel": "R"
   },
   "outputs": [
    {
     "data": {
      "text/html": [
       "0"
      ],
      "text/latex": [
       "0"
      ],
      "text/markdown": [
       "0"
      ],
      "text/plain": [
       "[1] 0"
      ]
     },
     "metadata": {},
     "output_type": "display_data"
    }
   ],
   "source": [
    "dim(hearing_aid)[1]-217949 -12462"
   ]
  },
  {
   "cell_type": "markdown",
   "metadata": {
    "kernel": "R"
   },
   "source": [
    "## Recode cases=1 and controls=0"
   ]
  },
  {
   "cell_type": "code",
   "execution_count": 127,
   "metadata": {
    "kernel": "R"
   },
   "outputs": [
    {
     "data": {
      "text/html": [
       "<table>\n",
       "<caption>A data.frame: 10 × 13</caption>\n",
       "<thead>\n",
       "\t<tr><th></th><th scope=col>IID</th><th scope=col>FID</th><th scope=col>f.22001.0.0</th><th scope=col>f.21003.0.0</th><th scope=col>f.21003.1.0</th><th scope=col>f.21003.2.0</th><th scope=col>f.21003.3.0</th><th scope=col>f.3393.0.0_recode</th><th scope=col>f.3393.1.0_recode</th><th scope=col>f.3393.2.0_recode</th><th scope=col>f.3393.3.0_recode</th><th scope=col>cases</th><th scope=col>hearing_aid_cat</th></tr>\n",
       "\t<tr><th></th><th scope=col>&lt;int&gt;</th><th scope=col>&lt;int&gt;</th><th scope=col>&lt;fct&gt;</th><th scope=col>&lt;int&gt;</th><th scope=col>&lt;int&gt;</th><th scope=col>&lt;int&gt;</th><th scope=col>&lt;int&gt;</th><th scope=col>&lt;fct&gt;</th><th scope=col>&lt;fct&gt;</th><th scope=col>&lt;fct&gt;</th><th scope=col>&lt;fct&gt;</th><th scope=col>&lt;lgl&gt;</th><th scope=col>&lt;int&gt;</th></tr>\n",
       "</thead>\n",
       "<tbody>\n",
       "\t<tr><th scope=row>1</th><td>1000019</td><td>1000019</td><td>Female</td><td>47</td><td>NA</td><td>NA</td><td>NA</td><td>0 </td><td>NA</td><td>NA</td><td>NA</td><td>FALSE</td><td>0</td></tr>\n",
       "\t<tr><th scope=row>2</th><td>1000022</td><td>1000022</td><td>Male  </td><td>53</td><td>NA</td><td>NA</td><td>NA</td><td>0 </td><td>NA</td><td>NA</td><td>NA</td><td>FALSE</td><td>0</td></tr>\n",
       "\t<tr><th scope=row>3</th><td>1000035</td><td>1000035</td><td>Male  </td><td>63</td><td>NA</td><td>NA</td><td>NA</td><td>0 </td><td>NA</td><td>NA</td><td>NA</td><td>FALSE</td><td>0</td></tr>\n",
       "\t<tr><th scope=row>4</th><td>1000046</td><td>1000046</td><td>Female</td><td>62</td><td>NA</td><td>73</td><td>NA</td><td>NA</td><td>NA</td><td>0 </td><td>NA</td><td>FALSE</td><td>0</td></tr>\n",
       "\t<tr><th scope=row>5</th><td>1000054</td><td>1000054</td><td>Female</td><td>65</td><td>NA</td><td>NA</td><td>NA</td><td>0 </td><td>NA</td><td>NA</td><td>NA</td><td>FALSE</td><td>0</td></tr>\n",
       "\t<tr><th scope=row>6</th><td>1000063</td><td>1000063</td><td>Male  </td><td>43</td><td>NA</td><td>NA</td><td>NA</td><td>0 </td><td>NA</td><td>NA</td><td>NA</td><td>FALSE</td><td>0</td></tr>\n",
       "\t<tr><th scope=row>7</th><td>1000078</td><td>1000078</td><td>Female</td><td>52</td><td>57</td><td>60</td><td>NA</td><td>NA</td><td>0 </td><td>0 </td><td>NA</td><td>FALSE</td><td>0</td></tr>\n",
       "\t<tr><th scope=row>8</th><td>1000105</td><td>1000105</td><td>Female</td><td>54</td><td>NA</td><td>NA</td><td>NA</td><td>0 </td><td>NA</td><td>NA</td><td>NA</td><td>FALSE</td><td>0</td></tr>\n",
       "\t<tr><th scope=row>9</th><td>1000112</td><td>1000112</td><td>Male  </td><td>58</td><td>NA</td><td>68</td><td>NA</td><td>NA</td><td>NA</td><td>1 </td><td>NA</td><td> TRUE</td><td>1</td></tr>\n",
       "\t<tr><th scope=row>10</th><td>1000141</td><td>1000141</td><td>Female</td><td>49</td><td>NA</td><td>NA</td><td>NA</td><td>0 </td><td>NA</td><td>NA</td><td>NA</td><td>FALSE</td><td>0</td></tr>\n",
       "</tbody>\n",
       "</table>\n"
      ],
      "text/latex": [
       "A data.frame: 10 × 13\n",
       "\\begin{tabular}{r|lllllllllllll}\n",
       "  & IID & FID & f.22001.0.0 & f.21003.0.0 & f.21003.1.0 & f.21003.2.0 & f.21003.3.0 & f.3393.0.0\\_recode & f.3393.1.0\\_recode & f.3393.2.0\\_recode & f.3393.3.0\\_recode & cases & hearing\\_aid\\_cat\\\\\n",
       "  & <int> & <int> & <fct> & <int> & <int> & <int> & <int> & <fct> & <fct> & <fct> & <fct> & <lgl> & <int>\\\\\n",
       "\\hline\n",
       "\t1 & 1000019 & 1000019 & Female & 47 & NA & NA & NA & 0  & NA & NA & NA & FALSE & 0\\\\\n",
       "\t2 & 1000022 & 1000022 & Male   & 53 & NA & NA & NA & 0  & NA & NA & NA & FALSE & 0\\\\\n",
       "\t3 & 1000035 & 1000035 & Male   & 63 & NA & NA & NA & 0  & NA & NA & NA & FALSE & 0\\\\\n",
       "\t4 & 1000046 & 1000046 & Female & 62 & NA & 73 & NA & NA & NA & 0  & NA & FALSE & 0\\\\\n",
       "\t5 & 1000054 & 1000054 & Female & 65 & NA & NA & NA & 0  & NA & NA & NA & FALSE & 0\\\\\n",
       "\t6 & 1000063 & 1000063 & Male   & 43 & NA & NA & NA & 0  & NA & NA & NA & FALSE & 0\\\\\n",
       "\t7 & 1000078 & 1000078 & Female & 52 & 57 & 60 & NA & NA & 0  & 0  & NA & FALSE & 0\\\\\n",
       "\t8 & 1000105 & 1000105 & Female & 54 & NA & NA & NA & 0  & NA & NA & NA & FALSE & 0\\\\\n",
       "\t9 & 1000112 & 1000112 & Male   & 58 & NA & 68 & NA & NA & NA & 1  & NA &  TRUE & 1\\\\\n",
       "\t10 & 1000141 & 1000141 & Female & 49 & NA & NA & NA & 0  & NA & NA & NA & FALSE & 0\\\\\n",
       "\\end{tabular}\n"
      ],
      "text/markdown": [
       "\n",
       "A data.frame: 10 × 13\n",
       "\n",
       "| <!--/--> | IID &lt;int&gt; | FID &lt;int&gt; | f.22001.0.0 &lt;fct&gt; | f.21003.0.0 &lt;int&gt; | f.21003.1.0 &lt;int&gt; | f.21003.2.0 &lt;int&gt; | f.21003.3.0 &lt;int&gt; | f.3393.0.0_recode &lt;fct&gt; | f.3393.1.0_recode &lt;fct&gt; | f.3393.2.0_recode &lt;fct&gt; | f.3393.3.0_recode &lt;fct&gt; | cases &lt;lgl&gt; | hearing_aid_cat &lt;int&gt; |\n",
       "|---|---|---|---|---|---|---|---|---|---|---|---|---|---|\n",
       "| 1 | 1000019 | 1000019 | Female | 47 | NA | NA | NA | 0  | NA | NA | NA | FALSE | 0 |\n",
       "| 2 | 1000022 | 1000022 | Male   | 53 | NA | NA | NA | 0  | NA | NA | NA | FALSE | 0 |\n",
       "| 3 | 1000035 | 1000035 | Male   | 63 | NA | NA | NA | 0  | NA | NA | NA | FALSE | 0 |\n",
       "| 4 | 1000046 | 1000046 | Female | 62 | NA | 73 | NA | NA | NA | 0  | NA | FALSE | 0 |\n",
       "| 5 | 1000054 | 1000054 | Female | 65 | NA | NA | NA | 0  | NA | NA | NA | FALSE | 0 |\n",
       "| 6 | 1000063 | 1000063 | Male   | 43 | NA | NA | NA | 0  | NA | NA | NA | FALSE | 0 |\n",
       "| 7 | 1000078 | 1000078 | Female | 52 | 57 | 60 | NA | NA | 0  | 0  | NA | FALSE | 0 |\n",
       "| 8 | 1000105 | 1000105 | Female | 54 | NA | NA | NA | 0  | NA | NA | NA | FALSE | 0 |\n",
       "| 9 | 1000112 | 1000112 | Male   | 58 | NA | 68 | NA | NA | NA | 1  | NA |  TRUE | 1 |\n",
       "| 10 | 1000141 | 1000141 | Female | 49 | NA | NA | NA | 0  | NA | NA | NA | FALSE | 0 |\n",
       "\n"
      ],
      "text/plain": [
       "   IID     FID     f.22001.0.0 f.21003.0.0 f.21003.1.0 f.21003.2.0 f.21003.3.0\n",
       "1  1000019 1000019 Female      47          NA          NA          NA         \n",
       "2  1000022 1000022 Male        53          NA          NA          NA         \n",
       "3  1000035 1000035 Male        63          NA          NA          NA         \n",
       "4  1000046 1000046 Female      62          NA          73          NA         \n",
       "5  1000054 1000054 Female      65          NA          NA          NA         \n",
       "6  1000063 1000063 Male        43          NA          NA          NA         \n",
       "7  1000078 1000078 Female      52          57          60          NA         \n",
       "8  1000105 1000105 Female      54          NA          NA          NA         \n",
       "9  1000112 1000112 Male        58          NA          68          NA         \n",
       "10 1000141 1000141 Female      49          NA          NA          NA         \n",
       "   f.3393.0.0_recode f.3393.1.0_recode f.3393.2.0_recode f.3393.3.0_recode\n",
       "1  0                 NA                NA                NA               \n",
       "2  0                 NA                NA                NA               \n",
       "3  0                 NA                NA                NA               \n",
       "4  NA                NA                0                 NA               \n",
       "5  0                 NA                NA                NA               \n",
       "6  0                 NA                NA                NA               \n",
       "7  NA                0                 0                 NA               \n",
       "8  0                 NA                NA                NA               \n",
       "9  NA                NA                1                 NA               \n",
       "10 0                 NA                NA                NA               \n",
       "   cases hearing_aid_cat\n",
       "1  FALSE 0              \n",
       "2  FALSE 0              \n",
       "3  FALSE 0              \n",
       "4  FALSE 0              \n",
       "5  FALSE 0              \n",
       "6  FALSE 0              \n",
       "7  FALSE 0              \n",
       "8  FALSE 0              \n",
       "9   TRUE 1              \n",
       "10 FALSE 0              "
      ]
     },
     "metadata": {},
     "output_type": "display_data"
    }
   ],
   "source": [
    "hearing_aid$hearing_aid_cat <- as.integer(as.logical(hearing_aid$cases))\n",
    "head(hearing_aid, 10)\n",
    "# Get the number of NAs\n",
    "#length(which(is.na(hearing_all$hearing_aid_cat)))"
   ]
  },
  {
   "cell_type": "markdown",
   "metadata": {
    "kernel": "SoS"
   },
   "source": [
    "## Step 2: get the ages for hearing aids (f.3393)"
   ]
  },
  {
   "cell_type": "code",
   "execution_count": 128,
   "metadata": {
    "kernel": "R"
   },
   "outputs": [
    {
     "data": {
      "text/html": [
       "<table>\n",
       "<caption>A data.frame: 12 × 9</caption>\n",
       "<thead>\n",
       "\t<tr><th></th><th scope=col>IID</th><th scope=col>f.3393.0.0_recode</th><th scope=col>f.3393.1.0_recode</th><th scope=col>f.3393.2.0_recode</th><th scope=col>f.3393.3.0_recode</th><th scope=col>f.21003.0.0</th><th scope=col>f.21003.1.0</th><th scope=col>f.21003.2.0</th><th scope=col>f.21003.3.0</th></tr>\n",
       "\t<tr><th></th><th scope=col>&lt;int&gt;</th><th scope=col>&lt;fct&gt;</th><th scope=col>&lt;fct&gt;</th><th scope=col>&lt;fct&gt;</th><th scope=col>&lt;fct&gt;</th><th scope=col>&lt;int&gt;</th><th scope=col>&lt;int&gt;</th><th scope=col>&lt;int&gt;</th><th scope=col>&lt;int&gt;</th></tr>\n",
       "</thead>\n",
       "<tbody>\n",
       "\t<tr><th scope=row>1</th><td>1000112</td><td>NA</td><td>NA</td><td>1 </td><td>NA</td><td>58</td><td>NA</td><td>68</td><td>NA</td></tr>\n",
       "\t<tr><th scope=row>2</th><td>1001067</td><td>1 </td><td>NA</td><td>NA</td><td>NA</td><td>50</td><td>NA</td><td>NA</td><td>NA</td></tr>\n",
       "\t<tr><th scope=row>3</th><td>1001384</td><td>1 </td><td>NA</td><td>NA</td><td>NA</td><td>61</td><td>NA</td><td>NA</td><td>NA</td></tr>\n",
       "\t<tr><th scope=row>4</th><td>1001459</td><td>1 </td><td>NA</td><td>NA</td><td>NA</td><td>64</td><td>NA</td><td>NA</td><td>NA</td></tr>\n",
       "\t<tr><th scope=row>5</th><td>1002548</td><td>1 </td><td>NA</td><td>NA</td><td>NA</td><td>62</td><td>NA</td><td>NA</td><td>NA</td></tr>\n",
       "\t<tr><th scope=row>6</th><td>1002888</td><td>1 </td><td>NA</td><td>NA</td><td>NA</td><td>68</td><td>NA</td><td>NA</td><td>NA</td></tr>\n",
       "\t<tr><th scope=row>7</th><td>1002944</td><td>1 </td><td>NA</td><td>NA</td><td>NA</td><td>65</td><td>NA</td><td>NA</td><td>NA</td></tr>\n",
       "\t<tr><th scope=row>8</th><td>1003258</td><td>0 </td><td>1 </td><td>NA</td><td>NA</td><td>69</td><td>74</td><td>NA</td><td>NA</td></tr>\n",
       "\t<tr><th scope=row>9</th><td>1004012</td><td>1 </td><td>NA</td><td>NA</td><td>NA</td><td>57</td><td>NA</td><td>NA</td><td>NA</td></tr>\n",
       "\t<tr><th scope=row>10</th><td>1004218</td><td>1 </td><td>NA</td><td>NA</td><td>NA</td><td>66</td><td>NA</td><td>NA</td><td>NA</td></tr>\n",
       "\t<tr><th scope=row>11</th><td>1004493</td><td>1 </td><td>NA</td><td>NA</td><td>NA</td><td>47</td><td>NA</td><td>NA</td><td>NA</td></tr>\n",
       "\t<tr><th scope=row>12</th><td>1004556</td><td>1 </td><td>NA</td><td>NA</td><td>NA</td><td>64</td><td>NA</td><td>NA</td><td>NA</td></tr>\n",
       "</tbody>\n",
       "</table>\n"
      ],
      "text/latex": [
       "A data.frame: 12 × 9\n",
       "\\begin{tabular}{r|lllllllll}\n",
       "  & IID & f.3393.0.0\\_recode & f.3393.1.0\\_recode & f.3393.2.0\\_recode & f.3393.3.0\\_recode & f.21003.0.0 & f.21003.1.0 & f.21003.2.0 & f.21003.3.0\\\\\n",
       "  & <int> & <fct> & <fct> & <fct> & <fct> & <int> & <int> & <int> & <int>\\\\\n",
       "\\hline\n",
       "\t1 & 1000112 & NA & NA & 1  & NA & 58 & NA & 68 & NA\\\\\n",
       "\t2 & 1001067 & 1  & NA & NA & NA & 50 & NA & NA & NA\\\\\n",
       "\t3 & 1001384 & 1  & NA & NA & NA & 61 & NA & NA & NA\\\\\n",
       "\t4 & 1001459 & 1  & NA & NA & NA & 64 & NA & NA & NA\\\\\n",
       "\t5 & 1002548 & 1  & NA & NA & NA & 62 & NA & NA & NA\\\\\n",
       "\t6 & 1002888 & 1  & NA & NA & NA & 68 & NA & NA & NA\\\\\n",
       "\t7 & 1002944 & 1  & NA & NA & NA & 65 & NA & NA & NA\\\\\n",
       "\t8 & 1003258 & 0  & 1  & NA & NA & 69 & 74 & NA & NA\\\\\n",
       "\t9 & 1004012 & 1  & NA & NA & NA & 57 & NA & NA & NA\\\\\n",
       "\t10 & 1004218 & 1  & NA & NA & NA & 66 & NA & NA & NA\\\\\n",
       "\t11 & 1004493 & 1  & NA & NA & NA & 47 & NA & NA & NA\\\\\n",
       "\t12 & 1004556 & 1  & NA & NA & NA & 64 & NA & NA & NA\\\\\n",
       "\\end{tabular}\n"
      ],
      "text/markdown": [
       "\n",
       "A data.frame: 12 × 9\n",
       "\n",
       "| <!--/--> | IID &lt;int&gt; | f.3393.0.0_recode &lt;fct&gt; | f.3393.1.0_recode &lt;fct&gt; | f.3393.2.0_recode &lt;fct&gt; | f.3393.3.0_recode &lt;fct&gt; | f.21003.0.0 &lt;int&gt; | f.21003.1.0 &lt;int&gt; | f.21003.2.0 &lt;int&gt; | f.21003.3.0 &lt;int&gt; |\n",
       "|---|---|---|---|---|---|---|---|---|---|\n",
       "| 1 | 1000112 | NA | NA | 1  | NA | 58 | NA | 68 | NA |\n",
       "| 2 | 1001067 | 1  | NA | NA | NA | 50 | NA | NA | NA |\n",
       "| 3 | 1001384 | 1  | NA | NA | NA | 61 | NA | NA | NA |\n",
       "| 4 | 1001459 | 1  | NA | NA | NA | 64 | NA | NA | NA |\n",
       "| 5 | 1002548 | 1  | NA | NA | NA | 62 | NA | NA | NA |\n",
       "| 6 | 1002888 | 1  | NA | NA | NA | 68 | NA | NA | NA |\n",
       "| 7 | 1002944 | 1  | NA | NA | NA | 65 | NA | NA | NA |\n",
       "| 8 | 1003258 | 0  | 1  | NA | NA | 69 | 74 | NA | NA |\n",
       "| 9 | 1004012 | 1  | NA | NA | NA | 57 | NA | NA | NA |\n",
       "| 10 | 1004218 | 1  | NA | NA | NA | 66 | NA | NA | NA |\n",
       "| 11 | 1004493 | 1  | NA | NA | NA | 47 | NA | NA | NA |\n",
       "| 12 | 1004556 | 1  | NA | NA | NA | 64 | NA | NA | NA |\n",
       "\n"
      ],
      "text/plain": [
       "   IID     f.3393.0.0_recode f.3393.1.0_recode f.3393.2.0_recode\n",
       "1  1000112 NA                NA                1                \n",
       "2  1001067 1                 NA                NA               \n",
       "3  1001384 1                 NA                NA               \n",
       "4  1001459 1                 NA                NA               \n",
       "5  1002548 1                 NA                NA               \n",
       "6  1002888 1                 NA                NA               \n",
       "7  1002944 1                 NA                NA               \n",
       "8  1003258 0                 1                 NA               \n",
       "9  1004012 1                 NA                NA               \n",
       "10 1004218 1                 NA                NA               \n",
       "11 1004493 1                 NA                NA               \n",
       "12 1004556 1                 NA                NA               \n",
       "   f.3393.3.0_recode f.21003.0.0 f.21003.1.0 f.21003.2.0 f.21003.3.0\n",
       "1  NA                58          NA          68          NA         \n",
       "2  NA                50          NA          NA          NA         \n",
       "3  NA                61          NA          NA          NA         \n",
       "4  NA                64          NA          NA          NA         \n",
       "5  NA                62          NA          NA          NA         \n",
       "6  NA                68          NA          NA          NA         \n",
       "7  NA                65          NA          NA          NA         \n",
       "8  NA                69          74          NA          NA         \n",
       "9  NA                57          NA          NA          NA         \n",
       "10 NA                66          NA          NA          NA         \n",
       "11 NA                47          NA          NA          NA         \n",
       "12 NA                64          NA          NA          NA         "
      ]
     },
     "metadata": {},
     "output_type": "display_data"
    }
   ],
   "source": [
    "# Get the subset data of cases\n",
    "aid_age_cases = hearing_aid %>% \n",
    "  filter(hearing_aid_cat==\"1\")  %>%\n",
    "  select(IID, f.3393.0.0_recode, f.3393.1.0_recode, f.3393.2.0_recode, f.3393.3.0_recode, f.21003.0.0, f.21003.1.0, f.21003.2.0, f.21003.3.0)\n",
    "head(aid_age_cases,12)"
   ]
  },
  {
   "cell_type": "code",
   "execution_count": 129,
   "metadata": {
    "kernel": "R"
   },
   "outputs": [
    {
     "data": {
      "text/html": [
       "<table>\n",
       "<caption>A data.frame: 6 × 10</caption>\n",
       "<thead>\n",
       "\t<tr><th></th><th scope=col>IID</th><th scope=col>f.3393.0.0_recode</th><th scope=col>f.3393.1.0_recode</th><th scope=col>f.3393.2.0_recode</th><th scope=col>f.3393.3.0_recode</th><th scope=col>f.21003.0.0</th><th scope=col>f.21003.1.0</th><th scope=col>f.21003.2.0</th><th scope=col>f.21003.3.0</th><th scope=col>visit_idx</th></tr>\n",
       "\t<tr><th></th><th scope=col>&lt;int&gt;</th><th scope=col>&lt;fct&gt;</th><th scope=col>&lt;fct&gt;</th><th scope=col>&lt;fct&gt;</th><th scope=col>&lt;fct&gt;</th><th scope=col>&lt;int&gt;</th><th scope=col>&lt;int&gt;</th><th scope=col>&lt;int&gt;</th><th scope=col>&lt;int&gt;</th><th scope=col>&lt;list&gt;</th></tr>\n",
       "</thead>\n",
       "<tbody>\n",
       "\t<tr><th scope=row>1</th><td>1000112</td><td>NA</td><td>NA</td><td>1 </td><td>NA</td><td>58</td><td>NA</td><td>68</td><td>NA</td><td>4</td></tr>\n",
       "\t<tr><th scope=row>2</th><td>1001067</td><td>1 </td><td>NA</td><td>NA</td><td>NA</td><td>50</td><td>NA</td><td>NA</td><td>NA</td><td>2</td></tr>\n",
       "\t<tr><th scope=row>3</th><td>1001384</td><td>1 </td><td>NA</td><td>NA</td><td>NA</td><td>61</td><td>NA</td><td>NA</td><td>NA</td><td>2</td></tr>\n",
       "\t<tr><th scope=row>4</th><td>1001459</td><td>1 </td><td>NA</td><td>NA</td><td>NA</td><td>64</td><td>NA</td><td>NA</td><td>NA</td><td>2</td></tr>\n",
       "\t<tr><th scope=row>5</th><td>1002548</td><td>1 </td><td>NA</td><td>NA</td><td>NA</td><td>62</td><td>NA</td><td>NA</td><td>NA</td><td>2</td></tr>\n",
       "\t<tr><th scope=row>6</th><td>1002888</td><td>1 </td><td>NA</td><td>NA</td><td>NA</td><td>68</td><td>NA</td><td>NA</td><td>NA</td><td>2</td></tr>\n",
       "</tbody>\n",
       "</table>\n"
      ],
      "text/latex": [
       "A data.frame: 6 × 10\n",
       "\\begin{tabular}{r|llllllllll}\n",
       "  & IID & f.3393.0.0\\_recode & f.3393.1.0\\_recode & f.3393.2.0\\_recode & f.3393.3.0\\_recode & f.21003.0.0 & f.21003.1.0 & f.21003.2.0 & f.21003.3.0 & visit\\_idx\\\\\n",
       "  & <int> & <fct> & <fct> & <fct> & <fct> & <int> & <int> & <int> & <int> & <list>\\\\\n",
       "\\hline\n",
       "\t1 & 1000112 & NA & NA & 1  & NA & 58 & NA & 68 & NA & 4\\\\\n",
       "\t2 & 1001067 & 1  & NA & NA & NA & 50 & NA & NA & NA & 2\\\\\n",
       "\t3 & 1001384 & 1  & NA & NA & NA & 61 & NA & NA & NA & 2\\\\\n",
       "\t4 & 1001459 & 1  & NA & NA & NA & 64 & NA & NA & NA & 2\\\\\n",
       "\t5 & 1002548 & 1  & NA & NA & NA & 62 & NA & NA & NA & 2\\\\\n",
       "\t6 & 1002888 & 1  & NA & NA & NA & 68 & NA & NA & NA & 2\\\\\n",
       "\\end{tabular}\n"
      ],
      "text/markdown": [
       "\n",
       "A data.frame: 6 × 10\n",
       "\n",
       "| <!--/--> | IID &lt;int&gt; | f.3393.0.0_recode &lt;fct&gt; | f.3393.1.0_recode &lt;fct&gt; | f.3393.2.0_recode &lt;fct&gt; | f.3393.3.0_recode &lt;fct&gt; | f.21003.0.0 &lt;int&gt; | f.21003.1.0 &lt;int&gt; | f.21003.2.0 &lt;int&gt; | f.21003.3.0 &lt;int&gt; | visit_idx &lt;list&gt; |\n",
       "|---|---|---|---|---|---|---|---|---|---|---|\n",
       "| 1 | 1000112 | NA | NA | 1  | NA | 58 | NA | 68 | NA | 4 |\n",
       "| 2 | 1001067 | 1  | NA | NA | NA | 50 | NA | NA | NA | 2 |\n",
       "| 3 | 1001384 | 1  | NA | NA | NA | 61 | NA | NA | NA | 2 |\n",
       "| 4 | 1001459 | 1  | NA | NA | NA | 64 | NA | NA | NA | 2 |\n",
       "| 5 | 1002548 | 1  | NA | NA | NA | 62 | NA | NA | NA | 2 |\n",
       "| 6 | 1002888 | 1  | NA | NA | NA | 68 | NA | NA | NA | 2 |\n",
       "\n"
      ],
      "text/plain": [
       "  IID     f.3393.0.0_recode f.3393.1.0_recode f.3393.2.0_recode\n",
       "1 1000112 NA                NA                1                \n",
       "2 1001067 1                 NA                NA               \n",
       "3 1001384 1                 NA                NA               \n",
       "4 1001459 1                 NA                NA               \n",
       "5 1002548 1                 NA                NA               \n",
       "6 1002888 1                 NA                NA               \n",
       "  f.3393.3.0_recode f.21003.0.0 f.21003.1.0 f.21003.2.0 f.21003.3.0 visit_idx\n",
       "1 NA                58          NA          68          NA          4        \n",
       "2 NA                50          NA          NA          NA          2        \n",
       "3 NA                61          NA          NA          NA          2        \n",
       "4 NA                64          NA          NA          NA          2        \n",
       "5 NA                62          NA          NA          NA          2        \n",
       "6 NA                68          NA          NA          NA          2        "
      ]
     },
     "metadata": {},
     "output_type": "display_data"
    }
   ],
   "source": [
    "# Get the # of column where first replied Yes:\n",
    "aid_age_cases$visit_idx = apply(aid_age_cases, 1, function(x) unlist(which(x == '1')))\n",
    "head(aid_age_cases)"
   ]
  },
  {
   "cell_type": "code",
   "execution_count": 130,
   "metadata": {
    "kernel": "R"
   },
   "outputs": [
    {
     "data": {
      "text/html": [
       "<table>\n",
       "<caption>A data.frame: 6 × 11</caption>\n",
       "<thead>\n",
       "\t<tr><th></th><th scope=col>IID</th><th scope=col>f.3393.0.0_recode</th><th scope=col>f.3393.1.0_recode</th><th scope=col>f.3393.2.0_recode</th><th scope=col>f.3393.3.0_recode</th><th scope=col>f.21003.0.0</th><th scope=col>f.21003.1.0</th><th scope=col>f.21003.2.0</th><th scope=col>f.21003.3.0</th><th scope=col>visit_idx</th><th scope=col>age_final</th></tr>\n",
       "\t<tr><th></th><th scope=col>&lt;int&gt;</th><th scope=col>&lt;fct&gt;</th><th scope=col>&lt;fct&gt;</th><th scope=col>&lt;fct&gt;</th><th scope=col>&lt;fct&gt;</th><th scope=col>&lt;int&gt;</th><th scope=col>&lt;int&gt;</th><th scope=col>&lt;int&gt;</th><th scope=col>&lt;int&gt;</th><th scope=col>&lt;list&gt;</th><th scope=col>&lt;int&gt;</th></tr>\n",
       "</thead>\n",
       "<tbody>\n",
       "\t<tr><th scope=row>1</th><td>1000112</td><td>NA</td><td>NA</td><td>1 </td><td>NA</td><td>58</td><td>NA</td><td>68</td><td>NA</td><td>4</td><td>68</td></tr>\n",
       "\t<tr><th scope=row>2</th><td>1001067</td><td>1 </td><td>NA</td><td>NA</td><td>NA</td><td>50</td><td>NA</td><td>NA</td><td>NA</td><td>2</td><td>50</td></tr>\n",
       "\t<tr><th scope=row>3</th><td>1001384</td><td>1 </td><td>NA</td><td>NA</td><td>NA</td><td>61</td><td>NA</td><td>NA</td><td>NA</td><td>2</td><td>61</td></tr>\n",
       "\t<tr><th scope=row>4</th><td>1001459</td><td>1 </td><td>NA</td><td>NA</td><td>NA</td><td>64</td><td>NA</td><td>NA</td><td>NA</td><td>2</td><td>64</td></tr>\n",
       "\t<tr><th scope=row>5</th><td>1002548</td><td>1 </td><td>NA</td><td>NA</td><td>NA</td><td>62</td><td>NA</td><td>NA</td><td>NA</td><td>2</td><td>62</td></tr>\n",
       "\t<tr><th scope=row>6</th><td>1002888</td><td>1 </td><td>NA</td><td>NA</td><td>NA</td><td>68</td><td>NA</td><td>NA</td><td>NA</td><td>2</td><td>68</td></tr>\n",
       "</tbody>\n",
       "</table>\n"
      ],
      "text/latex": [
       "A data.frame: 6 × 11\n",
       "\\begin{tabular}{r|lllllllllll}\n",
       "  & IID & f.3393.0.0\\_recode & f.3393.1.0\\_recode & f.3393.2.0\\_recode & f.3393.3.0\\_recode & f.21003.0.0 & f.21003.1.0 & f.21003.2.0 & f.21003.3.0 & visit\\_idx & age\\_final\\\\\n",
       "  & <int> & <fct> & <fct> & <fct> & <fct> & <int> & <int> & <int> & <int> & <list> & <int>\\\\\n",
       "\\hline\n",
       "\t1 & 1000112 & NA & NA & 1  & NA & 58 & NA & 68 & NA & 4 & 68\\\\\n",
       "\t2 & 1001067 & 1  & NA & NA & NA & 50 & NA & NA & NA & 2 & 50\\\\\n",
       "\t3 & 1001384 & 1  & NA & NA & NA & 61 & NA & NA & NA & 2 & 61\\\\\n",
       "\t4 & 1001459 & 1  & NA & NA & NA & 64 & NA & NA & NA & 2 & 64\\\\\n",
       "\t5 & 1002548 & 1  & NA & NA & NA & 62 & NA & NA & NA & 2 & 62\\\\\n",
       "\t6 & 1002888 & 1  & NA & NA & NA & 68 & NA & NA & NA & 2 & 68\\\\\n",
       "\\end{tabular}\n"
      ],
      "text/markdown": [
       "\n",
       "A data.frame: 6 × 11\n",
       "\n",
       "| <!--/--> | IID &lt;int&gt; | f.3393.0.0_recode &lt;fct&gt; | f.3393.1.0_recode &lt;fct&gt; | f.3393.2.0_recode &lt;fct&gt; | f.3393.3.0_recode &lt;fct&gt; | f.21003.0.0 &lt;int&gt; | f.21003.1.0 &lt;int&gt; | f.21003.2.0 &lt;int&gt; | f.21003.3.0 &lt;int&gt; | visit_idx &lt;list&gt; | age_final &lt;int&gt; |\n",
       "|---|---|---|---|---|---|---|---|---|---|---|---|\n",
       "| 1 | 1000112 | NA | NA | 1  | NA | 58 | NA | 68 | NA | 4 | 68 |\n",
       "| 2 | 1001067 | 1  | NA | NA | NA | 50 | NA | NA | NA | 2 | 50 |\n",
       "| 3 | 1001384 | 1  | NA | NA | NA | 61 | NA | NA | NA | 2 | 61 |\n",
       "| 4 | 1001459 | 1  | NA | NA | NA | 64 | NA | NA | NA | 2 | 64 |\n",
       "| 5 | 1002548 | 1  | NA | NA | NA | 62 | NA | NA | NA | 2 | 62 |\n",
       "| 6 | 1002888 | 1  | NA | NA | NA | 68 | NA | NA | NA | 2 | 68 |\n",
       "\n"
      ],
      "text/plain": [
       "  IID     f.3393.0.0_recode f.3393.1.0_recode f.3393.2.0_recode\n",
       "1 1000112 NA                NA                1                \n",
       "2 1001067 1                 NA                NA               \n",
       "3 1001384 1                 NA                NA               \n",
       "4 1001459 1                 NA                NA               \n",
       "5 1002548 1                 NA                NA               \n",
       "6 1002888 1                 NA                NA               \n",
       "  f.3393.3.0_recode f.21003.0.0 f.21003.1.0 f.21003.2.0 f.21003.3.0 visit_idx\n",
       "1 NA                58          NA          68          NA          4        \n",
       "2 NA                50          NA          NA          NA          2        \n",
       "3 NA                61          NA          NA          NA          2        \n",
       "4 NA                64          NA          NA          NA          2        \n",
       "5 NA                62          NA          NA          NA          2        \n",
       "6 NA                68          NA          NA          NA          2        \n",
       "  age_final\n",
       "1 68       \n",
       "2 50       \n",
       "3 61       \n",
       "4 64       \n",
       "5 62       \n",
       "6 68       "
      ]
     },
     "metadata": {},
     "output_type": "display_data"
    },
    {
     "data": {
      "text/plain": [
       "   Min. 1st Qu.  Median    Mean 3rd Qu.    Max. \n",
       "  40.00   61.00   65.00   63.83   68.00   81.00 "
      ]
     },
     "metadata": {},
     "output_type": "display_data"
    }
   ],
   "source": [
    "# Define offset:\n",
    "# offset: refers to the # of columns between the first age column (i.e.f.21003.0.0) and the first recode column (i.e.f.3393.0.0_recode)\n",
    "offset = which(colnames(aid_age_cases) == 'f.21003.0.0') - which(colnames(aid_age_cases) == 'f.3393.0.0_recode')\n",
    "\n",
    "# Define the function to extract the first time they said yes for cases \n",
    "f=get_age_func <- function(x) {\n",
    "  visit_index=x[which(colnames(aid_age_cases)==\"visit_idx\")]\n",
    "  index=min(unlist(visit_index))+offset\n",
    "  age=x[index]\n",
    "  final_age=unlist(age)\n",
    "  if(is.null(final_age))\n",
    "  {final_age<-NA}\n",
    "  return(final_age)\n",
    "}\n",
    "\n",
    "# Get the final age for cases\n",
    "aid_age_cases$age_final = apply(aid_age_cases, 1, f)\n",
    "\n",
    "# Show first 6 rows\n",
    "head(aid_age_cases)\n",
    "summary(aid_age_cases$age_final)"
   ]
  },
  {
   "cell_type": "code",
   "execution_count": 131,
   "metadata": {
    "kernel": "R"
   },
   "outputs": [
    {
     "data": {
      "text/html": [
       "<table>\n",
       "<caption>A data.frame: 6 × 9</caption>\n",
       "<thead>\n",
       "\t<tr><th></th><th scope=col>IID</th><th scope=col>f.3393.0.0_recode</th><th scope=col>f.3393.1.0_recode</th><th scope=col>f.3393.2.0_recode</th><th scope=col>f.3393.3.0_recode</th><th scope=col>f.21003.0.0</th><th scope=col>f.21003.1.0</th><th scope=col>f.21003.2.0</th><th scope=col>f.21003.3.0</th></tr>\n",
       "\t<tr><th></th><th scope=col>&lt;int&gt;</th><th scope=col>&lt;fct&gt;</th><th scope=col>&lt;fct&gt;</th><th scope=col>&lt;fct&gt;</th><th scope=col>&lt;fct&gt;</th><th scope=col>&lt;int&gt;</th><th scope=col>&lt;int&gt;</th><th scope=col>&lt;int&gt;</th><th scope=col>&lt;int&gt;</th></tr>\n",
       "</thead>\n",
       "<tbody>\n",
       "\t<tr><th scope=row>1</th><td>1000019</td><td>0 </td><td>NA</td><td>NA</td><td>NA</td><td>47</td><td>NA</td><td>NA</td><td>NA</td></tr>\n",
       "\t<tr><th scope=row>2</th><td>1000022</td><td>0 </td><td>NA</td><td>NA</td><td>NA</td><td>53</td><td>NA</td><td>NA</td><td>NA</td></tr>\n",
       "\t<tr><th scope=row>3</th><td>1000035</td><td>0 </td><td>NA</td><td>NA</td><td>NA</td><td>63</td><td>NA</td><td>NA</td><td>NA</td></tr>\n",
       "\t<tr><th scope=row>4</th><td>1000046</td><td>NA</td><td>NA</td><td>0 </td><td>NA</td><td>62</td><td>NA</td><td>73</td><td>NA</td></tr>\n",
       "\t<tr><th scope=row>5</th><td>1000054</td><td>0 </td><td>NA</td><td>NA</td><td>NA</td><td>65</td><td>NA</td><td>NA</td><td>NA</td></tr>\n",
       "\t<tr><th scope=row>6</th><td>1000063</td><td>0 </td><td>NA</td><td>NA</td><td>NA</td><td>43</td><td>NA</td><td>NA</td><td>NA</td></tr>\n",
       "</tbody>\n",
       "</table>\n"
      ],
      "text/latex": [
       "A data.frame: 6 × 9\n",
       "\\begin{tabular}{r|lllllllll}\n",
       "  & IID & f.3393.0.0\\_recode & f.3393.1.0\\_recode & f.3393.2.0\\_recode & f.3393.3.0\\_recode & f.21003.0.0 & f.21003.1.0 & f.21003.2.0 & f.21003.3.0\\\\\n",
       "  & <int> & <fct> & <fct> & <fct> & <fct> & <int> & <int> & <int> & <int>\\\\\n",
       "\\hline\n",
       "\t1 & 1000019 & 0  & NA & NA & NA & 47 & NA & NA & NA\\\\\n",
       "\t2 & 1000022 & 0  & NA & NA & NA & 53 & NA & NA & NA\\\\\n",
       "\t3 & 1000035 & 0  & NA & NA & NA & 63 & NA & NA & NA\\\\\n",
       "\t4 & 1000046 & NA & NA & 0  & NA & 62 & NA & 73 & NA\\\\\n",
       "\t5 & 1000054 & 0  & NA & NA & NA & 65 & NA & NA & NA\\\\\n",
       "\t6 & 1000063 & 0  & NA & NA & NA & 43 & NA & NA & NA\\\\\n",
       "\\end{tabular}\n"
      ],
      "text/markdown": [
       "\n",
       "A data.frame: 6 × 9\n",
       "\n",
       "| <!--/--> | IID &lt;int&gt; | f.3393.0.0_recode &lt;fct&gt; | f.3393.1.0_recode &lt;fct&gt; | f.3393.2.0_recode &lt;fct&gt; | f.3393.3.0_recode &lt;fct&gt; | f.21003.0.0 &lt;int&gt; | f.21003.1.0 &lt;int&gt; | f.21003.2.0 &lt;int&gt; | f.21003.3.0 &lt;int&gt; |\n",
       "|---|---|---|---|---|---|---|---|---|---|\n",
       "| 1 | 1000019 | 0  | NA | NA | NA | 47 | NA | NA | NA |\n",
       "| 2 | 1000022 | 0  | NA | NA | NA | 53 | NA | NA | NA |\n",
       "| 3 | 1000035 | 0  | NA | NA | NA | 63 | NA | NA | NA |\n",
       "| 4 | 1000046 | NA | NA | 0  | NA | 62 | NA | 73 | NA |\n",
       "| 5 | 1000054 | 0  | NA | NA | NA | 65 | NA | NA | NA |\n",
       "| 6 | 1000063 | 0  | NA | NA | NA | 43 | NA | NA | NA |\n",
       "\n"
      ],
      "text/plain": [
       "  IID     f.3393.0.0_recode f.3393.1.0_recode f.3393.2.0_recode\n",
       "1 1000019 0                 NA                NA               \n",
       "2 1000022 0                 NA                NA               \n",
       "3 1000035 0                 NA                NA               \n",
       "4 1000046 NA                NA                0                \n",
       "5 1000054 0                 NA                NA               \n",
       "6 1000063 0                 NA                NA               \n",
       "  f.3393.3.0_recode f.21003.0.0 f.21003.1.0 f.21003.2.0 f.21003.3.0\n",
       "1 NA                47          NA          NA          NA         \n",
       "2 NA                53          NA          NA          NA         \n",
       "3 NA                63          NA          NA          NA         \n",
       "4 NA                62          NA          73          NA         \n",
       "5 NA                65          NA          NA          NA         \n",
       "6 NA                43          NA          NA          NA         "
      ]
     },
     "metadata": {},
     "output_type": "display_data"
    }
   ],
   "source": [
    "### Extract age for Control (3393)\n",
    "aid_age_control <- hearing_aid %>% \n",
    "  filter(hearing_aid_cat == \"0\") %>%\n",
    "  select(IID, f.3393.0.0_recode, f.3393.1.0_recode, f.3393.2.0_recode, f.3393.3.0_recode, f.21003.0.0, f.21003.1.0, f.21003.2.0, f.21003.3.0)\n",
    "head(aid_age_control)"
   ]
  },
  {
   "cell_type": "code",
   "execution_count": 132,
   "metadata": {
    "kernel": "R"
   },
   "outputs": [
    {
     "data": {
      "text/html": [
       "<table>\n",
       "<caption>A data.frame: 6 × 11</caption>\n",
       "<thead>\n",
       "\t<tr><th></th><th scope=col>IID</th><th scope=col>f.3393.0.0_recode</th><th scope=col>f.3393.1.0_recode</th><th scope=col>f.3393.2.0_recode</th><th scope=col>f.3393.3.0_recode</th><th scope=col>f.21003.0.0</th><th scope=col>f.21003.1.0</th><th scope=col>f.21003.2.0</th><th scope=col>f.21003.3.0</th><th scope=col>visit_idx</th><th scope=col>age_final</th></tr>\n",
       "\t<tr><th></th><th scope=col>&lt;int&gt;</th><th scope=col>&lt;fct&gt;</th><th scope=col>&lt;fct&gt;</th><th scope=col>&lt;fct&gt;</th><th scope=col>&lt;fct&gt;</th><th scope=col>&lt;int&gt;</th><th scope=col>&lt;int&gt;</th><th scope=col>&lt;int&gt;</th><th scope=col>&lt;int&gt;</th><th scope=col>&lt;list&gt;</th><th scope=col>&lt;int&gt;</th></tr>\n",
       "</thead>\n",
       "<tbody>\n",
       "\t<tr><th scope=row>1</th><td>1000019</td><td>0 </td><td>NA</td><td>NA</td><td>NA</td><td>47</td><td>NA</td><td>NA</td><td>NA</td><td>2</td><td>47</td></tr>\n",
       "\t<tr><th scope=row>2</th><td>1000022</td><td>0 </td><td>NA</td><td>NA</td><td>NA</td><td>53</td><td>NA</td><td>NA</td><td>NA</td><td>2</td><td>53</td></tr>\n",
       "\t<tr><th scope=row>3</th><td>1000035</td><td>0 </td><td>NA</td><td>NA</td><td>NA</td><td>63</td><td>NA</td><td>NA</td><td>NA</td><td>2</td><td>63</td></tr>\n",
       "\t<tr><th scope=row>4</th><td>1000046</td><td>NA</td><td>NA</td><td>0 </td><td>NA</td><td>62</td><td>NA</td><td>73</td><td>NA</td><td>4</td><td>73</td></tr>\n",
       "\t<tr><th scope=row>5</th><td>1000054</td><td>0 </td><td>NA</td><td>NA</td><td>NA</td><td>65</td><td>NA</td><td>NA</td><td>NA</td><td>2</td><td>65</td></tr>\n",
       "\t<tr><th scope=row>6</th><td>1000063</td><td>0 </td><td>NA</td><td>NA</td><td>NA</td><td>43</td><td>NA</td><td>NA</td><td>NA</td><td>2</td><td>43</td></tr>\n",
       "</tbody>\n",
       "</table>\n"
      ],
      "text/latex": [
       "A data.frame: 6 × 11\n",
       "\\begin{tabular}{r|lllllllllll}\n",
       "  & IID & f.3393.0.0\\_recode & f.3393.1.0\\_recode & f.3393.2.0\\_recode & f.3393.3.0\\_recode & f.21003.0.0 & f.21003.1.0 & f.21003.2.0 & f.21003.3.0 & visit\\_idx & age\\_final\\\\\n",
       "  & <int> & <fct> & <fct> & <fct> & <fct> & <int> & <int> & <int> & <int> & <list> & <int>\\\\\n",
       "\\hline\n",
       "\t1 & 1000019 & 0  & NA & NA & NA & 47 & NA & NA & NA & 2 & 47\\\\\n",
       "\t2 & 1000022 & 0  & NA & NA & NA & 53 & NA & NA & NA & 2 & 53\\\\\n",
       "\t3 & 1000035 & 0  & NA & NA & NA & 63 & NA & NA & NA & 2 & 63\\\\\n",
       "\t4 & 1000046 & NA & NA & 0  & NA & 62 & NA & 73 & NA & 4 & 73\\\\\n",
       "\t5 & 1000054 & 0  & NA & NA & NA & 65 & NA & NA & NA & 2 & 65\\\\\n",
       "\t6 & 1000063 & 0  & NA & NA & NA & 43 & NA & NA & NA & 2 & 43\\\\\n",
       "\\end{tabular}\n"
      ],
      "text/markdown": [
       "\n",
       "A data.frame: 6 × 11\n",
       "\n",
       "| <!--/--> | IID &lt;int&gt; | f.3393.0.0_recode &lt;fct&gt; | f.3393.1.0_recode &lt;fct&gt; | f.3393.2.0_recode &lt;fct&gt; | f.3393.3.0_recode &lt;fct&gt; | f.21003.0.0 &lt;int&gt; | f.21003.1.0 &lt;int&gt; | f.21003.2.0 &lt;int&gt; | f.21003.3.0 &lt;int&gt; | visit_idx &lt;list&gt; | age_final &lt;int&gt; |\n",
       "|---|---|---|---|---|---|---|---|---|---|---|---|\n",
       "| 1 | 1000019 | 0  | NA | NA | NA | 47 | NA | NA | NA | 2 | 47 |\n",
       "| 2 | 1000022 | 0  | NA | NA | NA | 53 | NA | NA | NA | 2 | 53 |\n",
       "| 3 | 1000035 | 0  | NA | NA | NA | 63 | NA | NA | NA | 2 | 63 |\n",
       "| 4 | 1000046 | NA | NA | 0  | NA | 62 | NA | 73 | NA | 4 | 73 |\n",
       "| 5 | 1000054 | 0  | NA | NA | NA | 65 | NA | NA | NA | 2 | 65 |\n",
       "| 6 | 1000063 | 0  | NA | NA | NA | 43 | NA | NA | NA | 2 | 43 |\n",
       "\n"
      ],
      "text/plain": [
       "  IID     f.3393.0.0_recode f.3393.1.0_recode f.3393.2.0_recode\n",
       "1 1000019 0                 NA                NA               \n",
       "2 1000022 0                 NA                NA               \n",
       "3 1000035 0                 NA                NA               \n",
       "4 1000046 NA                NA                0                \n",
       "5 1000054 0                 NA                NA               \n",
       "6 1000063 0                 NA                NA               \n",
       "  f.3393.3.0_recode f.21003.0.0 f.21003.1.0 f.21003.2.0 f.21003.3.0 visit_idx\n",
       "1 NA                47          NA          NA          NA          2        \n",
       "2 NA                53          NA          NA          NA          2        \n",
       "3 NA                63          NA          NA          NA          2        \n",
       "4 NA                62          NA          73          NA          4        \n",
       "5 NA                65          NA          NA          NA          2        \n",
       "6 NA                43          NA          NA          NA          2        \n",
       "  age_final\n",
       "1 47       \n",
       "2 53       \n",
       "3 63       \n",
       "4 73       \n",
       "5 65       \n",
       "6 43       "
      ]
     },
     "metadata": {},
     "output_type": "display_data"
    },
    {
     "data": {
      "text/plain": [
       "   Min. 1st Qu.  Median    Mean 3rd Qu.    Max. \n",
       "   39.0    53.0    60.0    58.6    65.0    82.0 "
      ]
     },
     "metadata": {},
     "output_type": "display_data"
    }
   ],
   "source": [
    "# Get the # of column where last replied No:\n",
    "aid_age_control$visit_idx = apply(aid_age_control, 1, function(x) unlist(which(x == '0')))\n",
    "\n",
    "# Define offset:\n",
    "# offset: refers to the # of columns between the first age column (i.e.f.21003.0.0) and the first recode column (i.e.f.3393.0.0_recode)\n",
    "offset = which(colnames(aid_age_control) == 'f.21003.0.0') - which(colnames(aid_age_control) == 'f.3393.0.0_recode')\n",
    "\n",
    "# Define the function to extract the last time they said no for control\n",
    "\n",
    "f=get_age_func <- function(x) {\n",
    "  visit_index=x[which(colnames(aid_age_control)==\"visit_idx\")]\n",
    "  index=max(unlist(visit_index))+offset\n",
    "  age=x[index]\n",
    "  age=unlist(age)\n",
    "  return(age)\n",
    "}\n",
    "\n",
    "# Get the final age for controls\n",
    "aid_age_control$age_final = apply(aid_age_control, 1, f)\n",
    "\n",
    "# Show first 6 rows\n",
    "head(aid_age_control)\n",
    "summary(aid_age_control$age_final)"
   ]
  },
  {
   "cell_type": "code",
   "execution_count": 133,
   "metadata": {
    "kernel": "R"
   },
   "outputs": [
    {
     "data": {
      "text/html": [
       "<style>\n",
       ".list-inline {list-style: none; margin:0; padding: 0}\n",
       ".list-inline>li {display: inline-block}\n",
       ".list-inline>li:not(:last-child)::after {content: \"\\00b7\"; padding: 0 .5ex}\n",
       "</style>\n",
       "<ol class=list-inline><li>230411</li><li>11</li></ol>\n"
      ],
      "text/latex": [
       "\\begin{enumerate*}\n",
       "\\item 230411\n",
       "\\item 11\n",
       "\\end{enumerate*}\n"
      ],
      "text/markdown": [
       "1. 230411\n",
       "2. 11\n",
       "\n",
       "\n"
      ],
      "text/plain": [
       "[1] 230411     11"
      ]
     },
     "metadata": {},
     "output_type": "display_data"
    },
    {
     "data": {
      "text/html": [
       "<table>\n",
       "<caption>A data.frame: 6 × 11</caption>\n",
       "<thead>\n",
       "\t<tr><th></th><th scope=col>IID</th><th scope=col>f.3393.0.0_recode</th><th scope=col>f.3393.1.0_recode</th><th scope=col>f.3393.2.0_recode</th><th scope=col>f.3393.3.0_recode</th><th scope=col>f.21003.0.0</th><th scope=col>f.21003.1.0</th><th scope=col>f.21003.2.0</th><th scope=col>f.21003.3.0</th><th scope=col>visit_idx</th><th scope=col>age_final</th></tr>\n",
       "\t<tr><th></th><th scope=col>&lt;int&gt;</th><th scope=col>&lt;fct&gt;</th><th scope=col>&lt;fct&gt;</th><th scope=col>&lt;fct&gt;</th><th scope=col>&lt;fct&gt;</th><th scope=col>&lt;int&gt;</th><th scope=col>&lt;int&gt;</th><th scope=col>&lt;int&gt;</th><th scope=col>&lt;int&gt;</th><th scope=col>&lt;list&gt;</th><th scope=col>&lt;int&gt;</th></tr>\n",
       "</thead>\n",
       "<tbody>\n",
       "\t<tr><th scope=row>1</th><td>1000112</td><td>NA</td><td>NA</td><td>1 </td><td>NA</td><td>58</td><td>NA</td><td>68</td><td>NA</td><td>4</td><td>68</td></tr>\n",
       "\t<tr><th scope=row>2</th><td>1001067</td><td>1 </td><td>NA</td><td>NA</td><td>NA</td><td>50</td><td>NA</td><td>NA</td><td>NA</td><td>2</td><td>50</td></tr>\n",
       "\t<tr><th scope=row>3</th><td>1001384</td><td>1 </td><td>NA</td><td>NA</td><td>NA</td><td>61</td><td>NA</td><td>NA</td><td>NA</td><td>2</td><td>61</td></tr>\n",
       "\t<tr><th scope=row>4</th><td>1001459</td><td>1 </td><td>NA</td><td>NA</td><td>NA</td><td>64</td><td>NA</td><td>NA</td><td>NA</td><td>2</td><td>64</td></tr>\n",
       "\t<tr><th scope=row>5</th><td>1002548</td><td>1 </td><td>NA</td><td>NA</td><td>NA</td><td>62</td><td>NA</td><td>NA</td><td>NA</td><td>2</td><td>62</td></tr>\n",
       "\t<tr><th scope=row>6</th><td>1002888</td><td>1 </td><td>NA</td><td>NA</td><td>NA</td><td>68</td><td>NA</td><td>NA</td><td>NA</td><td>2</td><td>68</td></tr>\n",
       "</tbody>\n",
       "</table>\n"
      ],
      "text/latex": [
       "A data.frame: 6 × 11\n",
       "\\begin{tabular}{r|lllllllllll}\n",
       "  & IID & f.3393.0.0\\_recode & f.3393.1.0\\_recode & f.3393.2.0\\_recode & f.3393.3.0\\_recode & f.21003.0.0 & f.21003.1.0 & f.21003.2.0 & f.21003.3.0 & visit\\_idx & age\\_final\\\\\n",
       "  & <int> & <fct> & <fct> & <fct> & <fct> & <int> & <int> & <int> & <int> & <list> & <int>\\\\\n",
       "\\hline\n",
       "\t1 & 1000112 & NA & NA & 1  & NA & 58 & NA & 68 & NA & 4 & 68\\\\\n",
       "\t2 & 1001067 & 1  & NA & NA & NA & 50 & NA & NA & NA & 2 & 50\\\\\n",
       "\t3 & 1001384 & 1  & NA & NA & NA & 61 & NA & NA & NA & 2 & 61\\\\\n",
       "\t4 & 1001459 & 1  & NA & NA & NA & 64 & NA & NA & NA & 2 & 64\\\\\n",
       "\t5 & 1002548 & 1  & NA & NA & NA & 62 & NA & NA & NA & 2 & 62\\\\\n",
       "\t6 & 1002888 & 1  & NA & NA & NA & 68 & NA & NA & NA & 2 & 68\\\\\n",
       "\\end{tabular}\n"
      ],
      "text/markdown": [
       "\n",
       "A data.frame: 6 × 11\n",
       "\n",
       "| <!--/--> | IID &lt;int&gt; | f.3393.0.0_recode &lt;fct&gt; | f.3393.1.0_recode &lt;fct&gt; | f.3393.2.0_recode &lt;fct&gt; | f.3393.3.0_recode &lt;fct&gt; | f.21003.0.0 &lt;int&gt; | f.21003.1.0 &lt;int&gt; | f.21003.2.0 &lt;int&gt; | f.21003.3.0 &lt;int&gt; | visit_idx &lt;list&gt; | age_final &lt;int&gt; |\n",
       "|---|---|---|---|---|---|---|---|---|---|---|---|\n",
       "| 1 | 1000112 | NA | NA | 1  | NA | 58 | NA | 68 | NA | 4 | 68 |\n",
       "| 2 | 1001067 | 1  | NA | NA | NA | 50 | NA | NA | NA | 2 | 50 |\n",
       "| 3 | 1001384 | 1  | NA | NA | NA | 61 | NA | NA | NA | 2 | 61 |\n",
       "| 4 | 1001459 | 1  | NA | NA | NA | 64 | NA | NA | NA | 2 | 64 |\n",
       "| 5 | 1002548 | 1  | NA | NA | NA | 62 | NA | NA | NA | 2 | 62 |\n",
       "| 6 | 1002888 | 1  | NA | NA | NA | 68 | NA | NA | NA | 2 | 68 |\n",
       "\n"
      ],
      "text/plain": [
       "  IID     f.3393.0.0_recode f.3393.1.0_recode f.3393.2.0_recode\n",
       "1 1000112 NA                NA                1                \n",
       "2 1001067 1                 NA                NA               \n",
       "3 1001384 1                 NA                NA               \n",
       "4 1001459 1                 NA                NA               \n",
       "5 1002548 1                 NA                NA               \n",
       "6 1002888 1                 NA                NA               \n",
       "  f.3393.3.0_recode f.21003.0.0 f.21003.1.0 f.21003.2.0 f.21003.3.0 visit_idx\n",
       "1 NA                58          NA          68          NA          4        \n",
       "2 NA                50          NA          NA          NA          2        \n",
       "3 NA                61          NA          NA          NA          2        \n",
       "4 NA                64          NA          NA          NA          2        \n",
       "5 NA                62          NA          NA          NA          2        \n",
       "6 NA                68          NA          NA          NA          2        \n",
       "  age_final\n",
       "1 68       \n",
       "2 50       \n",
       "3 61       \n",
       "4 64       \n",
       "5 62       \n",
       "6 68       "
      ]
     },
     "metadata": {},
     "output_type": "display_data"
    }
   ],
   "source": [
    "# Merge age_cases and age_controls\n",
    "hearing_aid_age <- rbind(aid_age_cases, aid_age_control) \n",
    "dim(hearing_aid_age)\n",
    "head(hearing_aid_age)"
   ]
  },
  {
   "cell_type": "code",
   "execution_count": 134,
   "metadata": {
    "kernel": "R"
   },
   "outputs": [
    {
     "data": {
      "text/html": [
       "<table>\n",
       "<caption>A data.frame: 6 × 14</caption>\n",
       "<thead>\n",
       "\t<tr><th></th><th scope=col>IID</th><th scope=col>FID</th><th scope=col>f.22001.0.0</th><th scope=col>f.21003.0.0</th><th scope=col>f.21003.1.0</th><th scope=col>f.21003.2.0</th><th scope=col>f.21003.3.0</th><th scope=col>f.3393.0.0_recode</th><th scope=col>f.3393.1.0_recode</th><th scope=col>f.3393.2.0_recode</th><th scope=col>f.3393.3.0_recode</th><th scope=col>cases</th><th scope=col>hearing_aid_cat</th><th scope=col>age_final</th></tr>\n",
       "\t<tr><th></th><th scope=col>&lt;int&gt;</th><th scope=col>&lt;int&gt;</th><th scope=col>&lt;fct&gt;</th><th scope=col>&lt;int&gt;</th><th scope=col>&lt;int&gt;</th><th scope=col>&lt;int&gt;</th><th scope=col>&lt;int&gt;</th><th scope=col>&lt;fct&gt;</th><th scope=col>&lt;fct&gt;</th><th scope=col>&lt;fct&gt;</th><th scope=col>&lt;fct&gt;</th><th scope=col>&lt;lgl&gt;</th><th scope=col>&lt;int&gt;</th><th scope=col>&lt;int&gt;</th></tr>\n",
       "</thead>\n",
       "<tbody>\n",
       "\t<tr><th scope=row>1</th><td>1000019</td><td>1000019</td><td>Female</td><td>47</td><td>NA</td><td>NA</td><td>NA</td><td>0 </td><td>NA</td><td>NA</td><td>NA</td><td>FALSE</td><td>0</td><td>47</td></tr>\n",
       "\t<tr><th scope=row>2</th><td>1000022</td><td>1000022</td><td>Male  </td><td>53</td><td>NA</td><td>NA</td><td>NA</td><td>0 </td><td>NA</td><td>NA</td><td>NA</td><td>FALSE</td><td>0</td><td>53</td></tr>\n",
       "\t<tr><th scope=row>3</th><td>1000035</td><td>1000035</td><td>Male  </td><td>63</td><td>NA</td><td>NA</td><td>NA</td><td>0 </td><td>NA</td><td>NA</td><td>NA</td><td>FALSE</td><td>0</td><td>63</td></tr>\n",
       "\t<tr><th scope=row>4</th><td>1000046</td><td>1000046</td><td>Female</td><td>62</td><td>NA</td><td>73</td><td>NA</td><td>NA</td><td>NA</td><td>0 </td><td>NA</td><td>FALSE</td><td>0</td><td>73</td></tr>\n",
       "\t<tr><th scope=row>5</th><td>1000054</td><td>1000054</td><td>Female</td><td>65</td><td>NA</td><td>NA</td><td>NA</td><td>0 </td><td>NA</td><td>NA</td><td>NA</td><td>FALSE</td><td>0</td><td>65</td></tr>\n",
       "\t<tr><th scope=row>6</th><td>1000063</td><td>1000063</td><td>Male  </td><td>43</td><td>NA</td><td>NA</td><td>NA</td><td>0 </td><td>NA</td><td>NA</td><td>NA</td><td>FALSE</td><td>0</td><td>43</td></tr>\n",
       "</tbody>\n",
       "</table>\n"
      ],
      "text/latex": [
       "A data.frame: 6 × 14\n",
       "\\begin{tabular}{r|llllllllllllll}\n",
       "  & IID & FID & f.22001.0.0 & f.21003.0.0 & f.21003.1.0 & f.21003.2.0 & f.21003.3.0 & f.3393.0.0\\_recode & f.3393.1.0\\_recode & f.3393.2.0\\_recode & f.3393.3.0\\_recode & cases & hearing\\_aid\\_cat & age\\_final\\\\\n",
       "  & <int> & <int> & <fct> & <int> & <int> & <int> & <int> & <fct> & <fct> & <fct> & <fct> & <lgl> & <int> & <int>\\\\\n",
       "\\hline\n",
       "\t1 & 1000019 & 1000019 & Female & 47 & NA & NA & NA & 0  & NA & NA & NA & FALSE & 0 & 47\\\\\n",
       "\t2 & 1000022 & 1000022 & Male   & 53 & NA & NA & NA & 0  & NA & NA & NA & FALSE & 0 & 53\\\\\n",
       "\t3 & 1000035 & 1000035 & Male   & 63 & NA & NA & NA & 0  & NA & NA & NA & FALSE & 0 & 63\\\\\n",
       "\t4 & 1000046 & 1000046 & Female & 62 & NA & 73 & NA & NA & NA & 0  & NA & FALSE & 0 & 73\\\\\n",
       "\t5 & 1000054 & 1000054 & Female & 65 & NA & NA & NA & 0  & NA & NA & NA & FALSE & 0 & 65\\\\\n",
       "\t6 & 1000063 & 1000063 & Male   & 43 & NA & NA & NA & 0  & NA & NA & NA & FALSE & 0 & 43\\\\\n",
       "\\end{tabular}\n"
      ],
      "text/markdown": [
       "\n",
       "A data.frame: 6 × 14\n",
       "\n",
       "| <!--/--> | IID &lt;int&gt; | FID &lt;int&gt; | f.22001.0.0 &lt;fct&gt; | f.21003.0.0 &lt;int&gt; | f.21003.1.0 &lt;int&gt; | f.21003.2.0 &lt;int&gt; | f.21003.3.0 &lt;int&gt; | f.3393.0.0_recode &lt;fct&gt; | f.3393.1.0_recode &lt;fct&gt; | f.3393.2.0_recode &lt;fct&gt; | f.3393.3.0_recode &lt;fct&gt; | cases &lt;lgl&gt; | hearing_aid_cat &lt;int&gt; | age_final &lt;int&gt; |\n",
       "|---|---|---|---|---|---|---|---|---|---|---|---|---|---|---|\n",
       "| 1 | 1000019 | 1000019 | Female | 47 | NA | NA | NA | 0  | NA | NA | NA | FALSE | 0 | 47 |\n",
       "| 2 | 1000022 | 1000022 | Male   | 53 | NA | NA | NA | 0  | NA | NA | NA | FALSE | 0 | 53 |\n",
       "| 3 | 1000035 | 1000035 | Male   | 63 | NA | NA | NA | 0  | NA | NA | NA | FALSE | 0 | 63 |\n",
       "| 4 | 1000046 | 1000046 | Female | 62 | NA | 73 | NA | NA | NA | 0  | NA | FALSE | 0 | 73 |\n",
       "| 5 | 1000054 | 1000054 | Female | 65 | NA | NA | NA | 0  | NA | NA | NA | FALSE | 0 | 65 |\n",
       "| 6 | 1000063 | 1000063 | Male   | 43 | NA | NA | NA | 0  | NA | NA | NA | FALSE | 0 | 43 |\n",
       "\n"
      ],
      "text/plain": [
       "  IID     FID     f.22001.0.0 f.21003.0.0 f.21003.1.0 f.21003.2.0 f.21003.3.0\n",
       "1 1000019 1000019 Female      47          NA          NA          NA         \n",
       "2 1000022 1000022 Male        53          NA          NA          NA         \n",
       "3 1000035 1000035 Male        63          NA          NA          NA         \n",
       "4 1000046 1000046 Female      62          NA          73          NA         \n",
       "5 1000054 1000054 Female      65          NA          NA          NA         \n",
       "6 1000063 1000063 Male        43          NA          NA          NA         \n",
       "  f.3393.0.0_recode f.3393.1.0_recode f.3393.2.0_recode f.3393.3.0_recode cases\n",
       "1 0                 NA                NA                NA                FALSE\n",
       "2 0                 NA                NA                NA                FALSE\n",
       "3 0                 NA                NA                NA                FALSE\n",
       "4 NA                NA                0                 NA                FALSE\n",
       "5 0                 NA                NA                NA                FALSE\n",
       "6 0                 NA                NA                NA                FALSE\n",
       "  hearing_aid_cat age_final\n",
       "1 0               47       \n",
       "2 0               53       \n",
       "3 0               63       \n",
       "4 0               73       \n",
       "5 0               65       \n",
       "6 0               43       "
      ]
     },
     "metadata": {},
     "output_type": "display_data"
    }
   ],
   "source": [
    "hearing_cat_age = merge(x = hearing_aid ,y = hearing_aid_age [,c(\"IID\",\"age_final\")],by=\"IID\", all.x=TRUE)\n",
    "head(hearing_cat_age)"
   ]
  },
  {
   "cell_type": "code",
   "execution_count": 135,
   "metadata": {
    "kernel": "R"
   },
   "outputs": [
    {
     "data": {
      "text/html": [
       "<style>\n",
       ".list-inline {list-style: none; margin:0; padding: 0}\n",
       ".list-inline>li {display: inline-block}\n",
       ".list-inline>li:not(:last-child)::after {content: \"\\00b7\"; padding: 0 .5ex}\n",
       "</style>\n",
       "<ol class=list-inline><li>230411</li><li>1089</li></ol>\n"
      ],
      "text/latex": [
       "\\begin{enumerate*}\n",
       "\\item 230411\n",
       "\\item 1089\n",
       "\\end{enumerate*}\n"
      ],
      "text/markdown": [
       "1. 230411\n",
       "2. 1089\n",
       "\n",
       "\n"
      ],
      "text/plain": [
       "[1] 230411   1089"
      ]
     },
     "metadata": {},
     "output_type": "display_data"
    },
    {
     "data": {
      "text/html": [
       "<table>\n",
       "<caption>A data.frame: 6 × 1089</caption>\n",
       "<thead>\n",
       "\t<tr><th></th><th scope=col>IID</th><th scope=col>FID</th><th scope=col>ignore1</th><th scope=col>ignore2</th><th scope=col>ignore3</th><th scope=col>ignore4</th><th scope=col>f.31.0.0</th><th scope=col>f.34.0.0</th><th scope=col>f.53.0.0</th><th scope=col>f.53.1.0</th><th scope=col>⋯</th><th scope=col>loud_music</th><th scope=col>noise_imp</th><th scope=col>music_imp</th><th scope=col>sex</th><th scope=col>f.3393.0.0_recode</th><th scope=col>f.3393.1.0_recode</th><th scope=col>f.3393.2.0_recode</th><th scope=col>f.3393.3.0_recode</th><th scope=col>hearing_aid_cat</th><th scope=col>age_final</th></tr>\n",
       "\t<tr><th></th><th scope=col>&lt;int&gt;</th><th scope=col>&lt;int&gt;</th><th scope=col>&lt;int&gt;</th><th scope=col>&lt;int&gt;</th><th scope=col>&lt;int&gt;</th><th scope=col>&lt;int&gt;</th><th scope=col>&lt;fct&gt;</th><th scope=col>&lt;int&gt;</th><th scope=col>&lt;fct&gt;</th><th scope=col>&lt;fct&gt;</th><th scope=col>⋯</th><th scope=col>&lt;int&gt;</th><th scope=col>&lt;int&gt;</th><th scope=col>&lt;int&gt;</th><th scope=col>&lt;fct&gt;</th><th scope=col>&lt;fct&gt;</th><th scope=col>&lt;fct&gt;</th><th scope=col>&lt;fct&gt;</th><th scope=col>&lt;fct&gt;</th><th scope=col>&lt;int&gt;</th><th scope=col>&lt;int&gt;</th></tr>\n",
       "</thead>\n",
       "<tbody>\n",
       "\t<tr><th scope=row>1</th><td>1000019</td><td>1000019</td><td>0</td><td>0</td><td>2</td><td>-9</td><td>Female</td><td>1960</td><td>2008-01-24</td><td>NA</td><td>⋯</td><td>NA</td><td>NA</td><td>NA</td><td>1</td><td>0 </td><td>NA</td><td>NA</td><td>NA</td><td>0</td><td>47</td></tr>\n",
       "\t<tr><th scope=row>2</th><td>1000022</td><td>1000022</td><td>0</td><td>0</td><td>1</td><td>-9</td><td>Male  </td><td>1954</td><td>2008-01-22</td><td>NA</td><td>⋯</td><td>NA</td><td>NA</td><td>NA</td><td>0</td><td>0 </td><td>NA</td><td>NA</td><td>NA</td><td>0</td><td>53</td></tr>\n",
       "\t<tr><th scope=row>3</th><td>1000035</td><td>1000035</td><td>0</td><td>0</td><td>1</td><td>-9</td><td>Male  </td><td>1944</td><td>2007-11-08</td><td>NA</td><td>⋯</td><td>NA</td><td>NA</td><td>NA</td><td>0</td><td>0 </td><td>NA</td><td>NA</td><td>NA</td><td>0</td><td>63</td></tr>\n",
       "\t<tr><th scope=row>4</th><td>1000046</td><td>1000046</td><td>0</td><td>0</td><td>2</td><td>-9</td><td>Female</td><td>1946</td><td>2008-12-01</td><td>NA</td><td>⋯</td><td> 0</td><td> 0</td><td> 0</td><td>1</td><td>NA</td><td>NA</td><td>0 </td><td>NA</td><td>0</td><td>73</td></tr>\n",
       "\t<tr><th scope=row>5</th><td>1000054</td><td>1000054</td><td>0</td><td>0</td><td>2</td><td>-9</td><td>Female</td><td>1942</td><td>2007-11-23</td><td>NA</td><td>⋯</td><td>NA</td><td>NA</td><td>NA</td><td>1</td><td>0 </td><td>NA</td><td>NA</td><td>NA</td><td>0</td><td>65</td></tr>\n",
       "\t<tr><th scope=row>6</th><td>1000063</td><td>1000063</td><td>0</td><td>0</td><td>1</td><td>-9</td><td>Male  </td><td>1967</td><td>2010-06-26</td><td>NA</td><td>⋯</td><td> 0</td><td> 0</td><td> 0</td><td>0</td><td>0 </td><td>NA</td><td>NA</td><td>NA</td><td>0</td><td>43</td></tr>\n",
       "</tbody>\n",
       "</table>\n"
      ],
      "text/latex": [
       "A data.frame: 6 × 1089\n",
       "\\begin{tabular}{r|lllllllllllllllllllll}\n",
       "  & IID & FID & ignore1 & ignore2 & ignore3 & ignore4 & f.31.0.0 & f.34.0.0 & f.53.0.0 & f.53.1.0 & ⋯ & loud\\_music & noise\\_imp & music\\_imp & sex & f.3393.0.0\\_recode & f.3393.1.0\\_recode & f.3393.2.0\\_recode & f.3393.3.0\\_recode & hearing\\_aid\\_cat & age\\_final\\\\\n",
       "  & <int> & <int> & <int> & <int> & <int> & <int> & <fct> & <int> & <fct> & <fct> & ⋯ & <int> & <int> & <int> & <fct> & <fct> & <fct> & <fct> & <fct> & <int> & <int>\\\\\n",
       "\\hline\n",
       "\t1 & 1000019 & 1000019 & 0 & 0 & 2 & -9 & Female & 1960 & 2008-01-24 & NA & ⋯ & NA & NA & NA & 1 & 0  & NA & NA & NA & 0 & 47\\\\\n",
       "\t2 & 1000022 & 1000022 & 0 & 0 & 1 & -9 & Male   & 1954 & 2008-01-22 & NA & ⋯ & NA & NA & NA & 0 & 0  & NA & NA & NA & 0 & 53\\\\\n",
       "\t3 & 1000035 & 1000035 & 0 & 0 & 1 & -9 & Male   & 1944 & 2007-11-08 & NA & ⋯ & NA & NA & NA & 0 & 0  & NA & NA & NA & 0 & 63\\\\\n",
       "\t4 & 1000046 & 1000046 & 0 & 0 & 2 & -9 & Female & 1946 & 2008-12-01 & NA & ⋯ &  0 &  0 &  0 & 1 & NA & NA & 0  & NA & 0 & 73\\\\\n",
       "\t5 & 1000054 & 1000054 & 0 & 0 & 2 & -9 & Female & 1942 & 2007-11-23 & NA & ⋯ & NA & NA & NA & 1 & 0  & NA & NA & NA & 0 & 65\\\\\n",
       "\t6 & 1000063 & 1000063 & 0 & 0 & 1 & -9 & Male   & 1967 & 2010-06-26 & NA & ⋯ &  0 &  0 &  0 & 0 & 0  & NA & NA & NA & 0 & 43\\\\\n",
       "\\end{tabular}\n"
      ],
      "text/markdown": [
       "\n",
       "A data.frame: 6 × 1089\n",
       "\n",
       "| <!--/--> | IID &lt;int&gt; | FID &lt;int&gt; | ignore1 &lt;int&gt; | ignore2 &lt;int&gt; | ignore3 &lt;int&gt; | ignore4 &lt;int&gt; | f.31.0.0 &lt;fct&gt; | f.34.0.0 &lt;int&gt; | f.53.0.0 &lt;fct&gt; | f.53.1.0 &lt;fct&gt; | ⋯ ⋯ | loud_music &lt;int&gt; | noise_imp &lt;int&gt; | music_imp &lt;int&gt; | sex &lt;fct&gt; | f.3393.0.0_recode &lt;fct&gt; | f.3393.1.0_recode &lt;fct&gt; | f.3393.2.0_recode &lt;fct&gt; | f.3393.3.0_recode &lt;fct&gt; | hearing_aid_cat &lt;int&gt; | age_final &lt;int&gt; |\n",
       "|---|---|---|---|---|---|---|---|---|---|---|---|---|---|---|---|---|---|---|---|---|---|\n",
       "| 1 | 1000019 | 1000019 | 0 | 0 | 2 | -9 | Female | 1960 | 2008-01-24 | NA | ⋯ | NA | NA | NA | 1 | 0  | NA | NA | NA | 0 | 47 |\n",
       "| 2 | 1000022 | 1000022 | 0 | 0 | 1 | -9 | Male   | 1954 | 2008-01-22 | NA | ⋯ | NA | NA | NA | 0 | 0  | NA | NA | NA | 0 | 53 |\n",
       "| 3 | 1000035 | 1000035 | 0 | 0 | 1 | -9 | Male   | 1944 | 2007-11-08 | NA | ⋯ | NA | NA | NA | 0 | 0  | NA | NA | NA | 0 | 63 |\n",
       "| 4 | 1000046 | 1000046 | 0 | 0 | 2 | -9 | Female | 1946 | 2008-12-01 | NA | ⋯ |  0 |  0 |  0 | 1 | NA | NA | 0  | NA | 0 | 73 |\n",
       "| 5 | 1000054 | 1000054 | 0 | 0 | 2 | -9 | Female | 1942 | 2007-11-23 | NA | ⋯ | NA | NA | NA | 1 | 0  | NA | NA | NA | 0 | 65 |\n",
       "| 6 | 1000063 | 1000063 | 0 | 0 | 1 | -9 | Male   | 1967 | 2010-06-26 | NA | ⋯ |  0 |  0 |  0 | 0 | 0  | NA | NA | NA | 0 | 43 |\n",
       "\n"
      ],
      "text/plain": [
       "  IID     FID     ignore1 ignore2 ignore3 ignore4 f.31.0.0 f.34.0.0 f.53.0.0  \n",
       "1 1000019 1000019 0       0       2       -9      Female   1960     2008-01-24\n",
       "2 1000022 1000022 0       0       1       -9      Male     1954     2008-01-22\n",
       "3 1000035 1000035 0       0       1       -9      Male     1944     2007-11-08\n",
       "4 1000046 1000046 0       0       2       -9      Female   1946     2008-12-01\n",
       "5 1000054 1000054 0       0       2       -9      Female   1942     2007-11-23\n",
       "6 1000063 1000063 0       0       1       -9      Male     1967     2010-06-26\n",
       "  f.53.1.0 ⋯ loud_music noise_imp music_imp sex f.3393.0.0_recode\n",
       "1 NA       ⋯ NA         NA        NA        1   0                \n",
       "2 NA       ⋯ NA         NA        NA        0   0                \n",
       "3 NA       ⋯ NA         NA        NA        0   0                \n",
       "4 NA       ⋯  0          0         0        1   NA               \n",
       "5 NA       ⋯ NA         NA        NA        1   0                \n",
       "6 NA       ⋯  0          0         0        0   0                \n",
       "  f.3393.1.0_recode f.3393.2.0_recode f.3393.3.0_recode hearing_aid_cat\n",
       "1 NA                NA                NA                0              \n",
       "2 NA                NA                NA                0              \n",
       "3 NA                NA                NA                0              \n",
       "4 NA                0                 NA                0              \n",
       "5 NA                NA                NA                0              \n",
       "6 NA                NA                NA                0              \n",
       "  age_final\n",
       "1 47       \n",
       "2 53       \n",
       "3 63       \n",
       "4 73       \n",
       "5 65       \n",
       "6 43       "
      ]
     },
     "metadata": {},
     "output_type": "display_data"
    }
   ],
   "source": [
    "#Merge with complete database keep the all the rows from original db\n",
    "df_3393 = merge(x = df.hearing.aid, y = hearing_cat_age [,c(\"IID\",\"hearing_aid_cat\",\"age_final\")],by=\"IID\", all.x=TRUE)\n",
    "dim(df_3393)\n",
    "head(df_3393)"
   ]
  },
  {
   "cell_type": "markdown",
   "metadata": {
    "kernel": "SoS"
   },
   "source": [
    "## Hearing difficulty/problems (2247)\n",
    "### step1: classify cases and controls"
   ]
  },
  {
   "cell_type": "code",
   "execution_count": 136,
   "metadata": {
    "kernel": "R"
   },
   "outputs": [
    {
     "data": {
      "text/plain": [
       "\n",
       "         Do not know I am completely deaf                   No \n",
       "               13469                   56               253610 \n",
       "Prefer not to answer                  Yes \n",
       "                 170                86713 "
      ]
     },
     "metadata": {},
     "output_type": "display_data"
    }
   ],
   "source": [
    "table(df.final.imp$f.2247.0.0)"
   ]
  },
  {
   "cell_type": "code",
   "execution_count": 137,
   "metadata": {
    "kernel": "R"
   },
   "outputs": [
    {
     "name": "stderr",
     "output_type": "stream",
     "text": [
      "The following `from` values were not present in `x`: I am completely deaf\n",
      "\n",
      "The following `from` values were not present in `x`: I am completely deaf\n",
      "\n"
     ]
    },
    {
     "name": "stdout",
     "output_type": "stream",
     "text": [
      "f.2247.0.0_recode summary:\n",
      "     9      0      1 \n",
      " 13469 253610  86713 \n",
      "\n",
      "f.2247.1.0_recode summary:\n",
      "   9    0    1 \n",
      " 785 9709 4861 \n",
      "\n",
      "f.2247.2.0_recode summary:\n",
      "    9     0     1 \n",
      " 1921 21757 12038 \n",
      "\n",
      "f.2247.3.0_recode summary:\n",
      "   9    0    1 \n",
      " 128 1474  808 \n",
      "\n"
     ]
    }
   ],
   "source": [
    "# Recode function:\n",
    "recode<-function(df,column_name){\n",
    "  new_names<-c()\n",
    "  for (i in column_name){\n",
    "    new_column_name<-paste0(i,\"_recode\")\n",
    "    new_names<-c(new_names,new_column_name)\n",
    "    df[,new_column_name] <- revalue(df[,i], c(\"No\"= 0, \n",
    "                                            \"Yes\" =1,\n",
    "                                            \"Prefer not to answer\"= NA,\n",
    "                                             \"Do not know\"=9,\n",
    "                                             \"I am completely deaf\"=NA))\n",
    "  }\n",
    "  return (list(df=df,new_column_names=new_names))\n",
    "}\n",
    "\n",
    "# columns needs to be recoded:\n",
    "column_name<-c(\"f.2247.0.0\",\"f.2247.1.0\",\"f.2247.2.0\",\"f.2247.3.0\")\n",
    "\n",
    "# get a new data.frame with recoded columns added:\n",
    "df.final.imp<-recode(df=df.final.imp,column_name)$df\n",
    "\n",
    "# get names of recoded columns:\n",
    "new_column_names<-recode(df=df.final.imp,column_name)$new_column_names\n",
    "\n",
    "# show recode summary:\n",
    "for (i in new_column_names)\n",
    "{cat(i,\"summary:\");print(table(df.final.imp[,i]));cat(\"\\n\")}"
   ]
  },
  {
   "cell_type": "markdown",
   "metadata": {
    "kernel": "R"
   },
   "source": [
    "## Get possible answers f.2247"
   ]
  },
  {
   "cell_type": "code",
   "execution_count": null,
   "metadata": {
    "kernel": "R"
   },
   "outputs": [],
   "source": [
    "# Extract subset of data only with the recode columns of tinnitus\n",
    "data_sub <- df.final.imp %>%\n",
    "  select(\"IID\",all_of(new_column_names)) \n",
    "\n",
    "# Function to extract all the available answers for 4 visits\n",
    "# and put them in one string as \"0000\", \"111\", \"991\", etc\n",
    "\n",
    "f2<-function(x){\n",
    "  visit<-''\n",
    "  for (i in 2:5){ # do not take the first column (i.e. IID)\n",
    "    if (!is.na(x[i]))\n",
    "    {visit<-paste0(visit,x[i])}\n",
    "  }\n",
    "  if(is.null(visit)){visit=NA}\n",
    "  else{visit=visit}\n",
    "  return (visit)\n",
    "}\n",
    "\n",
    "# Apply the above function and remove NAs\n",
    "data_sub$visit<-apply(data_sub, 1, f2)\n",
    "\n",
    "names(table(data_sub$visit))"
   ]
  },
  {
   "cell_type": "code",
   "execution_count": null,
   "metadata": {
    "kernel": "R"
   },
   "outputs": [],
   "source": [
    "table(data_sub$visit)\n",
    "all_pattern<-unique(data_sub$visit)"
   ]
  },
  {
   "cell_type": "markdown",
   "metadata": {
    "kernel": "R"
   },
   "source": [
    "## f.2247 Get all the consistent cases"
   ]
  },
  {
   "cell_type": "code",
   "execution_count": null,
   "metadata": {
    "kernel": "R"
   },
   "outputs": [],
   "source": [
    "all_no<-all_pattern[which(grepl(\"0\",all_pattern) & !grepl(\"9\",all_pattern) & !grepl(\"1\",all_pattern))]\n",
    "all_yes<-all_pattern[which(!grepl(\"0\",all_pattern) & !grepl(\"9\",all_pattern) & grepl(\"1\",all_pattern))]\n",
    "all_do_not_know<-all_pattern[which(!grepl(\"0\",all_pattern) & grepl(\"9\",all_pattern) & !grepl(\"1\",all_pattern))]\n",
    "table(data_sub[data_sub$visit%in%union(union(all_no,all_yes),all_do_not_know),\"visit\"])"
   ]
  },
  {
   "cell_type": "code",
   "execution_count": null,
   "metadata": {
    "kernel": "R"
   },
   "outputs": [],
   "source": [
    "consistent_1<-c(all_no,all_yes,all_do_not_know)\n",
    "\n",
    "# might be inconsistent cases:\n",
    "do_not_know_no<-all_pattern[which(grepl(\"0\",all_pattern) & grepl(\"9\",all_pattern) & !grepl(\"1\",all_pattern))]\n",
    "table(data_sub[data_sub$visit%in%do_not_know_no,\"visit\"])"
   ]
  },
  {
   "cell_type": "code",
   "execution_count": null,
   "metadata": {
    "kernel": "R"
   },
   "outputs": [],
   "source": [
    "do_not_know_yes<-all_pattern[which(!grepl(\"0\",all_pattern) & grepl(\"9\",all_pattern) & grepl(\"1\",all_pattern))]\n",
    "table(data_sub[data_sub$visit%in%do_not_know_yes,\"visit\"])"
   ]
  },
  {
   "cell_type": "code",
   "execution_count": null,
   "metadata": {
    "kernel": "R"
   },
   "outputs": [],
   "source": [
    "yes_no<-all_pattern[which(grepl(\"0\",all_pattern) & !grepl(\"9\",all_pattern) & grepl(\"1\",all_pattern))]\n",
    "table(data_sub[data_sub$visit%in%yes_no,\"visit\"])"
   ]
  },
  {
   "cell_type": "code",
   "execution_count": null,
   "metadata": {
    "kernel": "R"
   },
   "outputs": [],
   "source": [
    "with_all_three<-all_pattern[which(grepl(\"0\",all_pattern) & grepl(\"9\",all_pattern) & grepl(\"1\",all_pattern))]\n",
    "table(data_sub[data_sub$visit%in%with_all_three,\"visit\"])"
   ]
  },
  {
   "cell_type": "code",
   "execution_count": null,
   "metadata": {
    "kernel": "R"
   },
   "outputs": [],
   "source": [
    "might_inconsistent<-c(do_not_know_no,do_not_know_yes,yes_no,with_all_three)"
   ]
  },
  {
   "cell_type": "markdown",
   "metadata": {
    "kernel": "R"
   },
   "source": [
    "## f.2247 Remove inconsistent cases"
   ]
  },
  {
   "cell_type": "code",
   "execution_count": null,
   "metadata": {
    "kernel": "R"
   },
   "outputs": [],
   "source": [
    "# get all the inconsistent cases:\n",
    "exceptions<-c(\"91\",\"911\",\"991\",\"0001\",\"001\",\"0011\",\"01\",\"011\",\"0111\", \"091\", \"901\", \"9011\")\n",
    "inconsistent<-setdiff(might_inconsistent,exceptions)\n",
    "\n",
    "cat(\"There are\",length(which(is.empty(data_sub$visit))),\"NAs, removed\")"
   ]
  },
  {
   "cell_type": "code",
   "execution_count": null,
   "metadata": {
    "kernel": "R"
   },
   "outputs": [],
   "source": [
    "cat(\"There are\",length(which(data_sub$visit%in%inconsistent)),\"inconsistent cases, removed\")"
   ]
  },
  {
   "cell_type": "code",
   "execution_count": null,
   "metadata": {
    "kernel": "R"
   },
   "outputs": [],
   "source": [
    "# removed those NAs and inconsistent cases: \n",
    "IID_cleaned<-data_sub %>%\n",
    "  filter(!is.empty(visit)) %>%\n",
    "  filter((!visit%in%inconsistent)) %>%\n",
    "  select(IID)\n",
    "\n",
    "dim(IID_cleaned)"
   ]
  },
  {
   "cell_type": "code",
   "execution_count": null,
   "metadata": {
    "kernel": "R"
   },
   "outputs": [],
   "source": [
    "IID_cleaned<-IID_cleaned[,1]\n",
    "cat(\"After removing all the NAs and inconsistent cases, there are\",length(IID_cleaned),\"cases left\")"
   ]
  },
  {
   "cell_type": "code",
   "execution_count": null,
   "metadata": {
    "kernel": "R"
   },
   "outputs": [],
   "source": [
    "# get the dataset after cleansing: \n",
    "data_cleaned<-df_clean %>%\n",
    "  filter(IID%in%IID_cleaned)\n",
    "\n",
    "dim(data_cleaned)"
   ]
  },
  {
   "cell_type": "code",
   "execution_count": null,
   "metadata": {
    "kernel": "SoS"
   },
   "outputs": [],
   "source": [
    "#\n",
    "hearing_diff <- hearing_clean %>% \n",
    "  mutate(cases = apply(select(.,starts_with(\"f.2247\")), 1, function(x) length(which(x == \"Yes\")) > 0 & max(which(x != \"Yes\")) < min(which(x == \"Yes\")))\n",
    "  )\n",
    "\n",
    "\n",
    "hearing_diff$control = with(hearing_diff, ifelse(f.2247.0.0 %in% c(\"No\",NA) & f.2247.1.0 %in% c(\"No\", NA) & f.2247.2.0 %in% c(\"No\",NA) & f.2247.3.0 %in% c(\"No\",NA) \n",
    "                                                 & !(f.2247.0.0 %in% c(NA) & f.2247.1.0 %in% c(NA) & f.2247.2.0 %in% c(NA) & f.2247.3.0 %in% c(NA)),\"FALSE\", NA)) \n",
    "\n",
    "\n",
    "\n",
    "#90761 individuals are cases for 2247  (also have hearing aid data)\n",
    "hearing_diff_cases <- hearing_diff %>% \n",
    "  filter(cases == \"TRUE\")\n",
    "\n",
    "\n",
    "#125358 individuals are controls for 2247 (also have hearing aid data)\n",
    "hearing_diff_control <- hearing_diff %>% \n",
    "  filter(control == \"FALSE\") %>% \n",
    "  select(-cases)\n",
    "\n",
    "#216119 individulas who are either case or control for 2247 (also have hearing aid data)\n",
    "hearing_diff <- hearing_diff %>% \n",
    "  filter(cases == \"TRUE\" | control == \"FALSE\")\n",
    "\n",
    "\n",
    "###merge cases and controls\n",
    "\n",
    "hearing_diff$hearing_diff_cat <- coalesce(hearing_diff$cases, as.logical(hearing_diff$control))\n",
    "\n",
    "hearing_diff <- hearing_diff %>% \n",
    "  select(-cases, -control) %>% \n",
    "  mutate(hearing_diff_cat = as.factor(hearing_diff_cat),\n",
    "         hearing_diff_cat = recode(hearing_diff_cat,\"FALSE\"=\"control\",\"TRUE\"=\"case\"))\n",
    "\n",
    "#85 state they have no hearing difficulty but they wear hearing aids \n",
    "check_inconsistence <- hearing_diff %>% \n",
    "  filter(hearing_diff_cat == \"control\" & hearing_aid_cat == \"case\") \n",
    "\n",
    "#reclassify these 85 individulas as cases for 2247\n",
    "hearing_diff <- hearing_diff %>% \n",
    "  mutate(hearing_diff_cat_new = case_when(\n",
    "    hearing_diff_cat == \"control\" & hearing_aid_cat == \"case\" ~ \"case\",\n",
    "    hearing_diff_cat == \"case\" & hearing_aid_cat == \"case\" ~ \"case\",\n",
    "    hearing_diff_cat == \"case\" & hearing_aid_cat == \"control\" ~ \"case\",\n",
    "    hearing_diff_cat == \"control\" & hearing_aid_cat == \"control\" ~ \"control\"))\n",
    "\n",
    "# 90761 + 85 = 90846 who are cases\n",
    "check_merge <- hearing_diff %>% \n",
    "  filter(hearing_diff_cat_new == \"case\")\n",
    "\n",
    "### Step 2: get the ages for Hearing difficulty/problems (2247)\n",
    "### Extract age for Control (2247)\n",
    "```{r age for control,warning=FALSE, collapse=FALSE,echo=T}\n",
    "hearing_diff_age_control <- hearing_diff %>% \n",
    "  filter(hearing_diff_cat_new == \"control\") \n",
    "\n",
    "#get the age at last visit for control\n",
    "offset = which(colnames(hearing_diff_age_control) == 'f.21003.0.0') - which(colnames(hearing_diff_age_control) == 'f.2247.0.0')\n",
    "\n",
    "hearing_diff_age_control$age_diff = apply(hearing_diff_age_control, 1, function(x) {\n",
    "  hear_aid = which(x[grep(\"f.2247\", names(x))] == \"No\")\n",
    "  first_index_offset = grep(\"f.2247\", names(x))[1] - 1\n",
    "  unlist(x[max(hear_aid) + first_index_offset + offset])\n",
    "})\n",
    "\n",
    "res<-head(hearing_diff_age_control)"
   ]
  },
  {
   "cell_type": "code",
   "execution_count": null,
   "metadata": {
    "kernel": "SoS"
   },
   "outputs": [],
   "source": [
    "#for those who are cases for hearing difficuty -- get the age at first visit for case\n",
    "hearing_diff_age_case <- hearing_diff %>% \n",
    "  filter(hearing_diff_cat == \"case\") \n",
    "\n",
    "offset = which(colnames(hearing_diff_age_case) == 'f.21003.0.0') - which(colnames(hearing_diff_age_case) == 'f.2247.0.0')\n",
    "\n",
    "hearing_diff_age_case$age_diff = apply(hearing_diff_age_case, 1, function(x) {\n",
    "  hear_aid =  which(x[grep(\"f.2247\", names(x))] == \"Yes\")\n",
    "  first_index_offset = grep(\"f.2247\", names(x))[1] - 1\n",
    "  unlist(x[min(hear_aid) + first_index_offset + offset])\n",
    "})\n",
    "\n",
    "res<-head(hearing_diff_age_case)\n",
    "\n",
    "#for those who are control for hearing difficuty (2247) but cases for hearing aid (3393) -- get the age of 2247 at last visit  (85 individuals)\n",
    "\n",
    "hearing_diff_age_case_2 <- hearing_diff %>% \n",
    " filter(hearing_diff_cat == \"control\" & hearing_aid_cat == \"case\")\n",
    "\n",
    "offset = which(colnames(hearing_diff_age_case_2 ) == 'f.21003.0.0') - which(colnames(hearing_diff_age_case_2) == 'f.2247.0.0')\n",
    "\n",
    "hearing_diff_age_case_2$age_diff = apply(hearing_diff_age_case_2, 1, function(x) {\n",
    "  hear_aid =  which(x[grep(\"f.2247\", names(x))] == \"No\")\n",
    "  first_index_offset = grep(\"f.2247\", names(x))[1] - 1\n",
    "  unlist(x[max(hear_aid) + first_index_offset + offset])\n",
    "    })\n",
    "\n",
    "\n",
    "hearing_diff_clean <- rbind(hearing_diff_age_case, hearing_diff_age_control,hearing_diff_age_case_2) \n",
    "dim(hearing_diff_clean)"
   ]
  },
  {
   "cell_type": "markdown",
   "metadata": {
    "kernel": "SoS"
   },
   "source": [
    "## Hearing difficulty/background noise (2257)\n",
    "### step1: classify cases and controls"
   ]
  },
  {
   "cell_type": "code",
   "execution_count": null,
   "metadata": {
    "kernel": "SoS"
   },
   "outputs": [],
   "source": [
    "hearing_noise <- hearing_diff_clean %>% \n",
    "  mutate(cases = apply(select(.,starts_with(\"f.2257\")), 1, function(x) length(which(x == \"Yes\")) > 0 & max(which(x != \"Yes\")) < min(which(x == \"Yes\")))\n",
    "  )\n",
    "\n",
    "hearing_noise$control = with(hearing_noise, ifelse(f.2257.0.0 %in% c(\"No\",NA) & f.2257.1.0 %in% c(\"No\", NA) & f.2257.2.0 %in% c(\"No\",NA) & f.2257.3.0 %in% c(\"No\",NA) \n",
    "                                                 & !(f.2257.0.0 %in% c(NA) & f.2257.1.0 %in% c(NA) & f.2257.2.0 %in% c(NA) & f.2257.3.0 %in% c(NA)),\"FALSE\", NA)) \n",
    "\n",
    "#123870 individuals are cases for 2257  (also have hearing aid data + hearing difficulty)\n",
    "hearing_noise_cases <- hearing_noise %>% \n",
    "  filter(cases == \"TRUE\")\n",
    "\n",
    "\n",
    "#86775 individuals are controls for 2257 (also have hearing aid data + hearing difficulty)\n",
    "hearing_noise_control <- hearing_noise %>% \n",
    "  filter(control == \"FALSE\") %>% \n",
    "  select(-cases)\n",
    "\n",
    "#210645 individulas who are either case or control for 2257 (also have hearing aid data)\n",
    "hearing_noise<- hearing_noise %>% \n",
    "  filter(cases == \"TRUE\" | control == \"FALSE\")\n",
    "```\n",
    "\n",
    "\n",
    "### merge cases and controls (2257)\n",
    "```{r merge cases and controls,warning=FALSE, collapse=FALSE,echo=T}\n",
    "#merge the cases and controls for hearing noise (2257)\n",
    "hearing_noise$hearing_noise_cat <- coalesce(hearing_noise$cases, as.logical(hearing_noise$control))\n",
    "\n",
    "hearing_noise <- hearing_noise %>% \n",
    "  select(-cases, -control) %>% \n",
    "  mutate(hearing_noise_cat = as.factor(hearing_noise_cat),\n",
    "         hearing_noise_cat = recode(hearing_noise_cat,\"FALSE\"=\"control\",\"TRUE\"=\"case\"))\n",
    "\n",
    "\n",
    "#60827 inconsistent for hearing_noise and hearing_diff (conflict of cases and control)\n",
    "check_noise_inconsistence <- hearing_noise %>% \n",
    "  filter(hearing_noise_cat != hearing_diff_cat_new)\n",
    "\n",
    "#149818 left in the study (Individuals who are cases for one field and controls for the other field should be removed from the analysis)  210645 - 60827 = 149818\n",
    "hearing_noise <- hearing_noise %>% \n",
    "  filter(hearing_noise_cat == hearing_diff_cat_new)\n",
    "\n",
    "```\n",
    "\n",
    "\n",
    "\n",
    "### Step 2: get the ages for Hearing difficulty/background noise (2257) \n",
    "### Extract age for Control (2257)\n",
    "```{r age for control,warning=FALSE, collapse=FALSE,echo=T}\n",
    "noise_age_control <- hearing_noise %>% \n",
    "  filter(hearing_noise_cat == \"control\") \n",
    "\n",
    "#get the age at last visit for controls\n",
    "offset = which(colnames(noise_age_control) == 'f.21003.0.0') - which(colnames(noise_age_control) == 'f.2257.0.0')\n",
    "\n",
    "noise_age_control$age_noise = apply(noise_age_control, 1, function(x) {\n",
    "  hear_aid = which(x[grep(\"f.2257\", names(x))] == \"No\")\n",
    "  first_index_offset = grep(\"f.2257\", names(x))[1] - 1\n",
    "  unlist(x[max(hear_aid) + first_index_offset + offset])\n",
    "})\n",
    "\n",
    "res<-head(noise_age_control)\n",
    "\n",
    "```\n",
    "\n",
    "\n",
    "### Extract age for Cases (2257)\n",
    "```{r age for cases,warning=FALSE, collapse=FALSE,echo=T}\n",
    "noise_age_case <- hearing_noise %>% \n",
    "  filter(hearing_noise_cat == \"case\") \n",
    "\n",
    "\n",
    "#get the age at first visit for cases\n",
    "offset = which(colnames(noise_age_case) == 'f.21003.0.0') - which(colnames(noise_age_case) == 'f.2257.0.0')\n",
    "\n",
    "noise_age_case$age_noise = apply(noise_age_case, 1, function(x) {\n",
    "  hear_aid = which(x[grep(\"f.2257\", names(x))] == \"Yes\")\n",
    "  first_index_offset = grep(\"f.2257\", names(x))[1] - 1\n",
    "  unlist(x[min(hear_aid) + first_index_offset + offset])\n",
    "})\n",
    "\n",
    "res<-head(noise_age_case)\n",
    "\n",
    "hearing_noise_clean <- rbind(noise_age_case, noise_age_control) \n",
    "\n",
    "\n",
    "\n",
    "#3252 age inconsistent for 2247 and 2257\n",
    "age_inconsistence <- hearing_noise_clean %>% \n",
    "  filter(age_diff != age_noise) %>% \n",
    "  select(IID,FID,f.31.0.0, f.21003.0.0,f.21003.1.0,f.21003.2.0,f.21003.3.0,f.2247.0.0,f.2247.1.0,f.2247.2.0,f.2247.3.0,f.2257.0.0, f.2257.1.0, f.2257.2.0, f.2257.3.0,age_diff, age_noise, hearing_noise_cat)\n",
    "\n",
    "\n",
    "#get the minimum age for 2247 and 2257\n",
    "hearing_noise_clean <- transform(hearing_noise_clean, age_diff_noise = pmin(age_noise, age_diff)) \n",
    "\n",
    "#drop unneccessary variables\n",
    "hearing_noise_clean <- hearing_noise_clean %>% \n",
    "  select(-hearing_diff_cat, -age_diff,-age_noise,-age_aid)"
   ]
  }
 ],
 "metadata": {
  "kernelspec": {
   "display_name": "SoS",
   "language": "sos",
   "name": "sos"
  },
  "language_info": {
   "codemirror_mode": "sos",
   "file_extension": ".sos",
   "mimetype": "text/x-sos",
   "name": "sos",
   "nbconvert_exporter": "sos_notebook.converter.SoS_Exporter",
   "pygments_lexer": "sos"
  },
  "sos": {
   "kernels": [
    [
     "R",
     "ir",
     "R",
     "#DCDCDA",
     "r"
    ],
    [
     "SoS",
     "sos",
     "",
     "",
     "sos"
    ]
   ],
   "version": "0.21.7"
  }
 },
 "nbformat": 4,
 "nbformat_minor": 4
}
