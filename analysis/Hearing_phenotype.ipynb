{
 "cells": [
  {
   "cell_type": "markdown",
   "metadata": {
    "kernel": "SoS"
   },
   "source": [
    "# Phenotypes:\n",
    "1. Hearing aids (f.3393)\n",
    "2. Hearing difficulty/problems (f.2247)\n",
    "3. Hearing difficulty/background noise (f.2257)"
   ]
  },
  {
   "cell_type": "markdown",
   "metadata": {
    "kernel": "SoS"
   },
   "source": [
    "## Aim\n",
    "\n",
    "Create a dataset of filtered individuals using the inclusion and exclusion criteria for diverse hearing related phenotyes to perform association analyses using the LMM.ipynb. "
   ]
  },
  {
   "cell_type": "markdown",
   "metadata": {
    "kernel": "SoS"
   },
   "source": [
    "## Location of files\n",
    "\n",
    "In the shared folder is the original UKBB data\n",
    "```\n",
    "/SAY/dbgapstg/scratch/UKBiobank/phenotype_files/pleiotropy_R01/ukb42495_updatedJune2020\n",
    "```\n",
    "\n",
    "In my personal folder the filtered dataset\n",
    "\n",
    "```\n",
    "/home/dc2325/project/HI_UKBB\n",
    "```"
   ]
  },
  {
   "cell_type": "markdown",
   "metadata": {
    "kernel": "SoS"
   },
   "source": [
    "## Important phenotypic files\n",
    "\n",
    "1. `200804_UKBB_HI_genotypeqc.csv` File containing all individuals that passed QC and hearing impairment variables\n",
    "2. `200804_UKBB_HI_genotypeqc_excr.csv` File with applied exclusion criteria as indicated [here](https://docs.google.com/document/d/1cpxTzElpsEkwmBDjnMBHg2wW7CL1AcG_b0_0wE_k5rQ/edit). **Note**: this file excludes individuals with otosclerosis, Meniere's and other diseases, if you need to filter those particular phenotypes use file 1 instead.\n",
    "3. `200811_UKBB_Tinnitus_plan1_2_3_f4803` File with filtered phenotypes for tinnitus plan 1,2 and 3 and imputed noise variables\n",
    "4. `200814_UKBB_HI_genotypeqc_excr_impvars` Database with qc'ed individuals, exclusion criteria, noise imputed vars and tinnitus phenotypes"
   ]
  },
  {
   "cell_type": "markdown",
   "metadata": {
    "kernel": "SoS"
   },
   "source": [
    "## Analysis plan\n",
    "\n",
    "The phenotypes to be analyzed are the following:\n",
    "\n",
    "1. Hearing aid user (f.3393)\n",
    "\"Do you use a hearing aid most of the time?\"\n",
    "\n",
    "2. Hearing difficulty/problems (f.2247)\n",
    "\"Do you have any difficulty with your hearing?\"\n",
    "\n",
    "3. Hearing difficulty/background noise (f.2257)\n",
    "\"Do you find it difficult to follow a conversation if there is background noise (such as TV, radio, children playing)?\"\n",
    "\n",
    "**Sex corresponds to f.22001 (genetic sex):**\n",
    "\n",
    "- Male = 0\n",
    "- Female = 1\n",
    "\n",
    "**Noisy workplace and loud music exposure frequency: same as for Tinnitus**\n",
    "                \n",
    "1. Remove inconsistent individuals \n",
    "    - said 1,2 or 3 and in following visits said 0\n",
    "    - said a higher exposure (e.g 3) and then a lower one (e.g 1 or 2) in following visits\n",
    "2. Retain consistent individuals and use highest reported exposure\n",
    "\n",
    "**The needs to be inverse normalized**\n",
    "\n",
    "**Covariates to be included in the analysis include:**\n",
    "\n",
    "1. Age at time of test (calculated from f.21003.0.0,f.21003.1.0,f.21003.2.0,f.21003.3.0)\n",
    "2. Sex f.22001\n",
    "3. Volume left ear f.4270 and right ear f.4277 (The volume set by the participant for the measurement which you are using in the analysis ir our case the last time they took the test). For the analysis we use the average of the right and left ear since there is overlap in the volume distribution\n",
    "4. Noisy workplace f.4825\n",
    "5. Loud music exposure f.4836\n"
   ]
  },
  {
   "cell_type": "markdown",
   "metadata": {
    "kernel": "SoS"
   },
   "source": [
    "## Load libraries and set working dir"
   ]
  },
  {
   "cell_type": "code",
   "execution_count": null,
   "metadata": {
    "kernel": "R"
   },
   "outputs": [],
   "source": [
    "#Load libraries\n",
    "library(plyr)\n",
    "library(tidyverse)\n",
    "library(pander)\n",
    "library(ggpubr)\n",
    "library(rapportools)\n",
    "library(ggplot2)\n",
    "#Get working directory\n",
    "getwd()"
   ]
  },
  {
   "cell_type": "code",
   "execution_count": 2,
   "metadata": {
    "kernel": "R"
   },
   "outputs": [],
   "source": [
    "#Set working directory\n",
    "setwd('~/project/HI_UKBB')"
   ]
  },
  {
   "cell_type": "code",
   "execution_count": 3,
   "metadata": {
    "kernel": "R"
   },
   "outputs": [],
   "source": [
    "# Clean workspace\n",
    "rm(list=ls())"
   ]
  },
  {
   "cell_type": "code",
   "execution_count": 4,
   "metadata": {
    "kernel": "R"
   },
   "outputs": [],
   "source": [
    "df.final.imp = read.csv('200814_UKBB_HI_genotypeqc_excr_impvars.csv')"
   ]
  },
  {
   "cell_type": "markdown",
   "metadata": {
    "kernel": "R"
   },
   "source": [
    "## Data summary and recode"
   ]
  },
  {
   "cell_type": "code",
   "execution_count": 5,
   "metadata": {
    "kernel": "R"
   },
   "outputs": [
    {
     "data": {
      "text/html": [
       "<style>\n",
       ".list-inline {list-style: none; margin:0; padding: 0}\n",
       ".list-inline>li {display: inline-block}\n",
       ".list-inline>li:not(:last-child)::after {content: \"\\00b7\"; padding: 0 .5ex}\n",
       "</style>\n",
       "<ol class=list-inline><li>354347</li><li>1082</li></ol>\n"
      ],
      "text/latex": [
       "\\begin{enumerate*}\n",
       "\\item 354347\n",
       "\\item 1082\n",
       "\\end{enumerate*}\n"
      ],
      "text/markdown": [
       "1. 354347\n",
       "2. 1082\n",
       "\n",
       "\n"
      ],
      "text/plain": [
       "[1] 354347   1082"
      ]
     },
     "metadata": {},
     "output_type": "display_data"
    }
   ],
   "source": [
    "dim(df.final.imp)"
   ]
  },
  {
   "cell_type": "code",
   "execution_count": 6,
   "metadata": {
    "kernel": "R"
   },
   "outputs": [
    {
     "data": {
      "text/plain": [
       "\n",
       "Female   Male \n",
       "192414 161933 "
      ]
     },
     "metadata": {},
     "output_type": "display_data"
    }
   ],
   "source": [
    "table(df.final.imp$f.22001)"
   ]
  },
  {
   "cell_type": "code",
   "execution_count": 7,
   "metadata": {
    "kernel": "R"
   },
   "outputs": [
    {
     "data": {
      "text/plain": [
       "\n",
       "     1      0 \n",
       "192414 161933 "
      ]
     },
     "metadata": {},
     "output_type": "display_data"
    },
    {
     "data": {
      "text/html": [
       "<style>\n",
       ".list-inline {list-style: none; margin:0; padding: 0}\n",
       ".list-inline>li {display: inline-block}\n",
       ".list-inline>li:not(:last-child)::after {content: \"\\00b7\"; padding: 0 .5ex}\n",
       "</style>\n",
       "<ol class=list-inline><li>354347</li><li>1083</li></ol>\n"
      ],
      "text/latex": [
       "\\begin{enumerate*}\n",
       "\\item 354347\n",
       "\\item 1083\n",
       "\\end{enumerate*}\n"
      ],
      "text/markdown": [
       "1. 354347\n",
       "2. 1083\n",
       "\n",
       "\n"
      ],
      "text/plain": [
       "[1] 354347   1083"
      ]
     },
     "metadata": {},
     "output_type": "display_data"
    }
   ],
   "source": [
    "df.final.imp$sex <- revalue(df.final.imp$f.22001.0.0, c(\"Male\" = '0', 'Female'='1' ))\n",
    "table(df.final.imp$sex)\n",
    "dim(df.final.imp)"
   ]
  },
  {
   "cell_type": "markdown",
   "metadata": {
    "kernel": "R"
   },
   "source": [
    "# f.3393 Hearing aid: filter out inconsistent cases"
   ]
  },
  {
   "cell_type": "code",
   "execution_count": 8,
   "metadata": {
    "kernel": "R"
   },
   "outputs": [
    {
     "name": "stdout",
     "output_type": "stream",
     "text": [
      "f.3393.0.0_recode summary:\n",
      "     0      1 \n",
      "202311   9962 \n",
      "\n",
      "f.3393.1.0_recode summary:\n",
      "    0     1 \n",
      "14472   878 \n",
      "\n",
      "f.3393.2.0_recode summary:\n",
      "    0     1 \n",
      "32852  2853 \n",
      "\n",
      "f.3393.3.0_recode summary:\n",
      "   0    1 \n",
      "2225  184 \n",
      "\n"
     ]
    }
   ],
   "source": [
    "# Recode function:\n",
    "recode<-function(df,column_name){\n",
    "  new_names<-c()\n",
    "  for (i in column_name){\n",
    "    new_column_name<-paste0(i,\"_recode\")\n",
    "    new_names<-c(new_names,new_column_name)\n",
    "    df[,new_column_name] <- revalue(df[,i], c(\"No\"= 0, \n",
    "                                            \"Yes\" =1,\n",
    "                                            \"Prefer not to answer\"= NA))\n",
    "  }\n",
    "  return (list(df=df,new_column_names=new_names))\n",
    "}\n",
    "\n",
    "# columns needs to be recoded:\n",
    "column_name<-c(\"f.3393.0.0\",\"f.3393.1.0\",\"f.3393.2.0\",\"f.3393.3.0\")\n",
    "\n",
    "# get a new data.frame with recoded columns added:\n",
    "df.final.imp<-recode(df=df.final.imp,column_name)$df\n",
    "\n",
    "# get names of recoded columns:\n",
    "new_column_names<-recode(df=df.final.imp,column_name)$new_column_names\n",
    "\n",
    "# show recode summary:\n",
    "for (i in new_column_names)\n",
    "{cat(i,\"summary:\");print(table(df.final.imp[,i]));cat(\"\\n\")}"
   ]
  },
  {
   "cell_type": "code",
   "execution_count": 9,
   "metadata": {
    "kernel": "R"
   },
   "outputs": [
    {
     "data": {
      "text/html": [
       "<style>\n",
       ".list-inline {list-style: none; margin:0; padding: 0}\n",
       ".list-inline>li {display: inline-block}\n",
       ".list-inline>li:not(:last-child)::after {content: \"\\00b7\"; padding: 0 .5ex}\n",
       "</style>\n",
       "<ol class=list-inline><li>354347</li><li>1087</li></ol>\n"
      ],
      "text/latex": [
       "\\begin{enumerate*}\n",
       "\\item 354347\n",
       "\\item 1087\n",
       "\\end{enumerate*}\n"
      ],
      "text/markdown": [
       "1. 354347\n",
       "2. 1087\n",
       "\n",
       "\n"
      ],
      "text/plain": [
       "[1] 354347   1087"
      ]
     },
     "metadata": {},
     "output_type": "display_data"
    }
   ],
   "source": [
    "dim(df.final.imp)"
   ]
  },
  {
   "cell_type": "markdown",
   "metadata": {
    "kernel": "R"
   },
   "source": [
    "## f. 3393 Get patterns for possible answers"
   ]
  },
  {
   "cell_type": "code",
   "execution_count": 10,
   "metadata": {
    "kernel": "R"
   },
   "outputs": [
    {
     "data": {
      "text/html": [
       "<style>\n",
       ".list-inline {list-style: none; margin:0; padding: 0}\n",
       ".list-inline>li {display: inline-block}\n",
       ".list-inline>li:not(:last-child)::after {content: \"\\00b7\"; padding: 0 .5ex}\n",
       "</style>\n",
       "<ol class=list-inline><li>''</li><li>'0'</li><li>'00'</li><li>'000'</li><li>'0000'</li><li>'0001'</li><li>'001'</li><li>'0010'</li><li>'0011'</li><li>'01'</li><li>'010'</li><li>'0100'</li><li>'011'</li><li>'0110'</li><li>'0111'</li><li>'1'</li><li>'10'</li><li>'100'</li><li>'101'</li><li>'11'</li><li>'110'</li><li>'1100'</li><li>'111'</li><li>'1111'</li></ol>\n"
      ],
      "text/latex": [
       "\\begin{enumerate*}\n",
       "\\item ''\n",
       "\\item '0'\n",
       "\\item '00'\n",
       "\\item '000'\n",
       "\\item '0000'\n",
       "\\item '0001'\n",
       "\\item '001'\n",
       "\\item '0010'\n",
       "\\item '0011'\n",
       "\\item '01'\n",
       "\\item '010'\n",
       "\\item '0100'\n",
       "\\item '011'\n",
       "\\item '0110'\n",
       "\\item '0111'\n",
       "\\item '1'\n",
       "\\item '10'\n",
       "\\item '100'\n",
       "\\item '101'\n",
       "\\item '11'\n",
       "\\item '110'\n",
       "\\item '1100'\n",
       "\\item '111'\n",
       "\\item '1111'\n",
       "\\end{enumerate*}\n"
      ],
      "text/markdown": [
       "1. ''\n",
       "2. '0'\n",
       "3. '00'\n",
       "4. '000'\n",
       "5. '0000'\n",
       "6. '0001'\n",
       "7. '001'\n",
       "8. '0010'\n",
       "9. '0011'\n",
       "10. '01'\n",
       "11. '010'\n",
       "12. '0100'\n",
       "13. '011'\n",
       "14. '0110'\n",
       "15. '0111'\n",
       "16. '1'\n",
       "17. '10'\n",
       "18. '100'\n",
       "19. '101'\n",
       "20. '11'\n",
       "21. '110'\n",
       "22. '1100'\n",
       "23. '111'\n",
       "24. '1111'\n",
       "\n",
       "\n"
      ],
      "text/plain": [
       " [1] \"\"     \"0\"    \"00\"   \"000\"  \"0000\" \"0001\" \"001\"  \"0010\" \"0011\" \"01\"  \n",
       "[11] \"010\"  \"0100\" \"011\"  \"0110\" \"0111\" \"1\"    \"10\"   \"100\"  \"101\"  \"11\"  \n",
       "[21] \"110\"  \"1100\" \"111\"  \"1111\""
      ]
     },
     "metadata": {},
     "output_type": "display_data"
    }
   ],
   "source": [
    "# Extract subset of data only with the recode columns of tinnitus\n",
    "data_sub <- df.final.imp %>%\n",
    "  select(\"IID\",all_of(new_column_names)) \n",
    "\n",
    "# Function to extract all the available answers for 4 visits\n",
    "# and put them in one string as \"0000\", \"111\", \"991\", etc\n",
    "\n",
    "f2<-function(x){\n",
    "  visit<-''\n",
    "  for (i in 2:5){ # do not take the first column (i.e. IID)\n",
    "    if (!is.na(x[i]))\n",
    "    {visit<-paste0(visit,x[i])}\n",
    "  }\n",
    "  if(is.null(visit)){visit=NA}\n",
    "  else{visit=visit}\n",
    "  return (visit)\n",
    "}\n",
    "\n",
    "# Apply the above function and remove NAs\n",
    "data_sub$visit<-apply(data_sub, 1, f2)\n",
    "\n",
    "names(table(data_sub$visit))"
   ]
  },
  {
   "cell_type": "code",
   "execution_count": 11,
   "metadata": {
    "kernel": "R"
   },
   "outputs": [
    {
     "data": {
      "text/plain": [
       "\n",
       "            0     00    000   0000   0001    001   0010   0011     01    010 \n",
       "123790 191176  22628   3930    215     13    247      6     10   1830     24 \n",
       "  0100    011   0110   0111      1     10    100    101     11    110   1100 \n",
       "     1    192      1      4   9269     77     13     17    766      6      1 \n",
       "   111   1111 \n",
       "   125      6 "
      ]
     },
     "metadata": {},
     "output_type": "display_data"
    }
   ],
   "source": [
    "table(data_sub$visit)\n",
    "all_pattern<-unique(data_sub$visit)"
   ]
  },
  {
   "cell_type": "markdown",
   "metadata": {
    "kernel": "R"
   },
   "source": [
    "## f.3393 Get all the consistent cases"
   ]
  },
  {
   "cell_type": "code",
   "execution_count": 12,
   "metadata": {
    "kernel": "R"
   },
   "outputs": [
    {
     "data": {
      "text/plain": [
       "\n",
       "     0     00    000   0000      1     11    111   1111 \n",
       "191176  22628   3930    215   9269    766    125      6 "
      ]
     },
     "metadata": {},
     "output_type": "display_data"
    }
   ],
   "source": [
    "all_no<-all_pattern[which(grepl(\"0\",all_pattern) & !grepl(\"1\",all_pattern))]\n",
    "all_yes<-all_pattern[which(!grepl(\"0\",all_pattern) & grepl(\"1\",all_pattern))]\n",
    "table(data_sub[data_sub$visit%in%union(all_no,all_yes),\"visit\"])"
   ]
  },
  {
   "cell_type": "code",
   "execution_count": 13,
   "metadata": {
    "kernel": "R"
   },
   "outputs": [
    {
     "data": {
      "text/plain": [
       "\n",
       "0001  001 0010 0011   01  010 0100  011 0110 0111   10  100  101  110 1100 \n",
       "  13  247    6   10 1830   24    1  192    1    4   77   13   17    6    1 "
      ]
     },
     "metadata": {},
     "output_type": "display_data"
    }
   ],
   "source": [
    "consistent_1<-c(all_no,all_yes)\n",
    "yes_no<-all_pattern[which(grepl(\"0\",all_pattern) & grepl(\"1\",all_pattern))]\n",
    "table(data_sub[data_sub$visit%in%yes_no,\"visit\"])"
   ]
  },
  {
   "cell_type": "code",
   "execution_count": 14,
   "metadata": {
    "kernel": "R"
   },
   "outputs": [],
   "source": [
    "might_inconsistent<-c(yes_no)"
   ]
  },
  {
   "cell_type": "markdown",
   "metadata": {
    "kernel": "R"
   },
   "source": [
    "## f.3393 Remove inconsistent cases"
   ]
  },
  {
   "cell_type": "code",
   "execution_count": 15,
   "metadata": {
    "kernel": "R"
   },
   "outputs": [
    {
     "name": "stdout",
     "output_type": "stream",
     "text": [
      "There are 123790 NAs, removed"
     ]
    }
   ],
   "source": [
    "# get all the inconsistent cases:\n",
    "exceptions<-c(\"0001\",\"001\",\"0011\",\"01\",\"011\",\"0111\")\n",
    "inconsistent<-setdiff(might_inconsistent,exceptions)\n",
    "\n",
    "cat(\"There are\",length(which(is.empty(data_sub$visit))),\"NAs, removed\")"
   ]
  },
  {
   "cell_type": "code",
   "execution_count": 16,
   "metadata": {
    "kernel": "R"
   },
   "outputs": [
    {
     "name": "stdout",
     "output_type": "stream",
     "text": [
      "There are 146 inconsistent cases, removed"
     ]
    }
   ],
   "source": [
    "cat(\"There are\",length(which(data_sub$visit%in%inconsistent)),\"inconsistent cases, removed\")"
   ]
  },
  {
   "cell_type": "code",
   "execution_count": 17,
   "metadata": {
    "kernel": "R"
   },
   "outputs": [
    {
     "data": {
      "text/html": [
       "<style>\n",
       ".list-inline {list-style: none; margin:0; padding: 0}\n",
       ".list-inline>li {display: inline-block}\n",
       ".list-inline>li:not(:last-child)::after {content: \"\\00b7\"; padding: 0 .5ex}\n",
       "</style>\n",
       "<ol class=list-inline><li>230411</li><li>1</li></ol>\n"
      ],
      "text/latex": [
       "\\begin{enumerate*}\n",
       "\\item 230411\n",
       "\\item 1\n",
       "\\end{enumerate*}\n"
      ],
      "text/markdown": [
       "1. 230411\n",
       "2. 1\n",
       "\n",
       "\n"
      ],
      "text/plain": [
       "[1] 230411      1"
      ]
     },
     "metadata": {},
     "output_type": "display_data"
    }
   ],
   "source": [
    "# removed those NAs and inconsistent cases: \n",
    "IID_hearing_aid<-data_sub %>%\n",
    "  filter(!is.empty(visit)) %>%\n",
    "  filter((!visit%in%inconsistent)) %>%\n",
    "  select(IID)\n",
    "\n",
    "dim(IID_hearing_aid)"
   ]
  },
  {
   "cell_type": "code",
   "execution_count": 18,
   "metadata": {
    "kernel": "R"
   },
   "outputs": [
    {
     "name": "stdout",
     "output_type": "stream",
     "text": [
      "After removing all the NAs and inconsistent cases, there are 230411  individuals left"
     ]
    }
   ],
   "source": [
    "IID_hearing_aid<-IID_hearing_aid[,1]\n",
    "cat(\"After removing all the NAs and inconsistent cases, there are\",length(IID_hearing_aid),\" individuals left\")"
   ]
  },
  {
   "cell_type": "code",
   "execution_count": 19,
   "metadata": {
    "kernel": "R"
   },
   "outputs": [
    {
     "data": {
      "text/html": [
       "<style>\n",
       ".list-inline {list-style: none; margin:0; padding: 0}\n",
       ".list-inline>li {display: inline-block}\n",
       ".list-inline>li:not(:last-child)::after {content: \"\\00b7\"; padding: 0 .5ex}\n",
       "</style>\n",
       "<ol class=list-inline><li>230411</li><li>1087</li></ol>\n"
      ],
      "text/latex": [
       "\\begin{enumerate*}\n",
       "\\item 230411\n",
       "\\item 1087\n",
       "\\end{enumerate*}\n"
      ],
      "text/markdown": [
       "1. 230411\n",
       "2. 1087\n",
       "\n",
       "\n"
      ],
      "text/plain": [
       "[1] 230411   1087"
      ]
     },
     "metadata": {},
     "output_type": "display_data"
    }
   ],
   "source": [
    "# get the dataset after cleansing: \n",
    "df.hearing.aid<-df.final.imp %>%\n",
    "  filter(IID%in%IID_hearing_aid)\n",
    "\n",
    "dim(df.hearing.aid)"
   ]
  },
  {
   "cell_type": "markdown",
   "metadata": {
    "kernel": "SoS"
   },
   "source": [
    "## f.3393 Step 1: classify cases and controls"
   ]
  },
  {
   "cell_type": "code",
   "execution_count": 20,
   "metadata": {
    "kernel": "R"
   },
   "outputs": [
    {
     "data": {
      "text/html": [
       "<table>\n",
       "<caption>A data.frame: 6 × 11</caption>\n",
       "<thead>\n",
       "\t<tr><th></th><th scope=col>IID</th><th scope=col>FID</th><th scope=col>f.22001.0.0</th><th scope=col>f.21003.0.0</th><th scope=col>f.21003.1.0</th><th scope=col>f.21003.2.0</th><th scope=col>f.21003.3.0</th><th scope=col>f.3393.0.0_recode</th><th scope=col>f.3393.1.0_recode</th><th scope=col>f.3393.2.0_recode</th><th scope=col>f.3393.3.0_recode</th></tr>\n",
       "\t<tr><th></th><th scope=col>&lt;int&gt;</th><th scope=col>&lt;int&gt;</th><th scope=col>&lt;fct&gt;</th><th scope=col>&lt;int&gt;</th><th scope=col>&lt;int&gt;</th><th scope=col>&lt;int&gt;</th><th scope=col>&lt;int&gt;</th><th scope=col>&lt;fct&gt;</th><th scope=col>&lt;fct&gt;</th><th scope=col>&lt;fct&gt;</th><th scope=col>&lt;fct&gt;</th></tr>\n",
       "</thead>\n",
       "<tbody>\n",
       "\t<tr><th scope=row>1</th><td>1000019</td><td>1000019</td><td>Female</td><td>47</td><td>NA</td><td>NA</td><td>NA</td><td>0 </td><td>NA</td><td>NA</td><td>NA</td></tr>\n",
       "\t<tr><th scope=row>2</th><td>1000022</td><td>1000022</td><td>Male  </td><td>53</td><td>NA</td><td>NA</td><td>NA</td><td>0 </td><td>NA</td><td>NA</td><td>NA</td></tr>\n",
       "\t<tr><th scope=row>3</th><td>1000035</td><td>1000035</td><td>Male  </td><td>63</td><td>NA</td><td>NA</td><td>NA</td><td>0 </td><td>NA</td><td>NA</td><td>NA</td></tr>\n",
       "\t<tr><th scope=row>4</th><td>1000046</td><td>1000046</td><td>Female</td><td>62</td><td>NA</td><td>73</td><td>NA</td><td>NA</td><td>NA</td><td>0 </td><td>NA</td></tr>\n",
       "\t<tr><th scope=row>5</th><td>1000054</td><td>1000054</td><td>Female</td><td>65</td><td>NA</td><td>NA</td><td>NA</td><td>0 </td><td>NA</td><td>NA</td><td>NA</td></tr>\n",
       "\t<tr><th scope=row>6</th><td>1000063</td><td>1000063</td><td>Male  </td><td>43</td><td>NA</td><td>NA</td><td>NA</td><td>0 </td><td>NA</td><td>NA</td><td>NA</td></tr>\n",
       "</tbody>\n",
       "</table>\n"
      ],
      "text/latex": [
       "A data.frame: 6 × 11\n",
       "\\begin{tabular}{r|lllllllllll}\n",
       "  & IID & FID & f.22001.0.0 & f.21003.0.0 & f.21003.1.0 & f.21003.2.0 & f.21003.3.0 & f.3393.0.0\\_recode & f.3393.1.0\\_recode & f.3393.2.0\\_recode & f.3393.3.0\\_recode\\\\\n",
       "  & <int> & <int> & <fct> & <int> & <int> & <int> & <int> & <fct> & <fct> & <fct> & <fct>\\\\\n",
       "\\hline\n",
       "\t1 & 1000019 & 1000019 & Female & 47 & NA & NA & NA & 0  & NA & NA & NA\\\\\n",
       "\t2 & 1000022 & 1000022 & Male   & 53 & NA & NA & NA & 0  & NA & NA & NA\\\\\n",
       "\t3 & 1000035 & 1000035 & Male   & 63 & NA & NA & NA & 0  & NA & NA & NA\\\\\n",
       "\t4 & 1000046 & 1000046 & Female & 62 & NA & 73 & NA & NA & NA & 0  & NA\\\\\n",
       "\t5 & 1000054 & 1000054 & Female & 65 & NA & NA & NA & 0  & NA & NA & NA\\\\\n",
       "\t6 & 1000063 & 1000063 & Male   & 43 & NA & NA & NA & 0  & NA & NA & NA\\\\\n",
       "\\end{tabular}\n"
      ],
      "text/markdown": [
       "\n",
       "A data.frame: 6 × 11\n",
       "\n",
       "| <!--/--> | IID &lt;int&gt; | FID &lt;int&gt; | f.22001.0.0 &lt;fct&gt; | f.21003.0.0 &lt;int&gt; | f.21003.1.0 &lt;int&gt; | f.21003.2.0 &lt;int&gt; | f.21003.3.0 &lt;int&gt; | f.3393.0.0_recode &lt;fct&gt; | f.3393.1.0_recode &lt;fct&gt; | f.3393.2.0_recode &lt;fct&gt; | f.3393.3.0_recode &lt;fct&gt; |\n",
       "|---|---|---|---|---|---|---|---|---|---|---|---|\n",
       "| 1 | 1000019 | 1000019 | Female | 47 | NA | NA | NA | 0  | NA | NA | NA |\n",
       "| 2 | 1000022 | 1000022 | Male   | 53 | NA | NA | NA | 0  | NA | NA | NA |\n",
       "| 3 | 1000035 | 1000035 | Male   | 63 | NA | NA | NA | 0  | NA | NA | NA |\n",
       "| 4 | 1000046 | 1000046 | Female | 62 | NA | 73 | NA | NA | NA | 0  | NA |\n",
       "| 5 | 1000054 | 1000054 | Female | 65 | NA | NA | NA | 0  | NA | NA | NA |\n",
       "| 6 | 1000063 | 1000063 | Male   | 43 | NA | NA | NA | 0  | NA | NA | NA |\n",
       "\n"
      ],
      "text/plain": [
       "  IID     FID     f.22001.0.0 f.21003.0.0 f.21003.1.0 f.21003.2.0 f.21003.3.0\n",
       "1 1000019 1000019 Female      47          NA          NA          NA         \n",
       "2 1000022 1000022 Male        53          NA          NA          NA         \n",
       "3 1000035 1000035 Male        63          NA          NA          NA         \n",
       "4 1000046 1000046 Female      62          NA          73          NA         \n",
       "5 1000054 1000054 Female      65          NA          NA          NA         \n",
       "6 1000063 1000063 Male        43          NA          NA          NA         \n",
       "  f.3393.0.0_recode f.3393.1.0_recode f.3393.2.0_recode f.3393.3.0_recode\n",
       "1 0                 NA                NA                NA               \n",
       "2 0                 NA                NA                NA               \n",
       "3 0                 NA                NA                NA               \n",
       "4 NA                NA                0                 NA               \n",
       "5 0                 NA                NA                NA               \n",
       "6 0                 NA                NA                NA               "
      ]
     },
     "metadata": {},
     "output_type": "display_data"
    }
   ],
   "source": [
    "hearing_aid <- df.hearing.aid %>% \n",
    "  select(IID,FID,f.22001.0.0, f.21003.0.0,f.21003.1.0,f.21003.2.0,f.21003.3.0,f.3393.0.0_recode,f.3393.1.0_recode,f.3393.2.0_recode,f.3393.3.0_recode)\n",
    "head(hearing_aid)"
   ]
  },
  {
   "cell_type": "markdown",
   "metadata": {
    "kernel": "SoS"
   },
   "source": [
    "## Hearing aid f.3393"
   ]
  },
  {
   "cell_type": "code",
   "execution_count": 21,
   "metadata": {
    "kernel": "R"
   },
   "outputs": [
    {
     "data": {
      "text/html": [
       "<table>\n",
       "<caption>A data.frame: 10 × 12</caption>\n",
       "<thead>\n",
       "\t<tr><th></th><th scope=col>IID</th><th scope=col>FID</th><th scope=col>f.22001.0.0</th><th scope=col>f.21003.0.0</th><th scope=col>f.21003.1.0</th><th scope=col>f.21003.2.0</th><th scope=col>f.21003.3.0</th><th scope=col>f.3393.0.0_recode</th><th scope=col>f.3393.1.0_recode</th><th scope=col>f.3393.2.0_recode</th><th scope=col>f.3393.3.0_recode</th><th scope=col>cases</th></tr>\n",
       "\t<tr><th></th><th scope=col>&lt;int&gt;</th><th scope=col>&lt;int&gt;</th><th scope=col>&lt;fct&gt;</th><th scope=col>&lt;int&gt;</th><th scope=col>&lt;int&gt;</th><th scope=col>&lt;int&gt;</th><th scope=col>&lt;int&gt;</th><th scope=col>&lt;fct&gt;</th><th scope=col>&lt;fct&gt;</th><th scope=col>&lt;fct&gt;</th><th scope=col>&lt;fct&gt;</th><th scope=col>&lt;lgl&gt;</th></tr>\n",
       "</thead>\n",
       "<tbody>\n",
       "\t<tr><th scope=row>1</th><td>1000019</td><td>1000019</td><td>Female</td><td>47</td><td>NA</td><td>NA</td><td>NA</td><td>0 </td><td>NA</td><td>NA</td><td>NA</td><td>FALSE</td></tr>\n",
       "\t<tr><th scope=row>2</th><td>1000022</td><td>1000022</td><td>Male  </td><td>53</td><td>NA</td><td>NA</td><td>NA</td><td>0 </td><td>NA</td><td>NA</td><td>NA</td><td>FALSE</td></tr>\n",
       "\t<tr><th scope=row>3</th><td>1000035</td><td>1000035</td><td>Male  </td><td>63</td><td>NA</td><td>NA</td><td>NA</td><td>0 </td><td>NA</td><td>NA</td><td>NA</td><td>FALSE</td></tr>\n",
       "\t<tr><th scope=row>4</th><td>1000046</td><td>1000046</td><td>Female</td><td>62</td><td>NA</td><td>73</td><td>NA</td><td>NA</td><td>NA</td><td>0 </td><td>NA</td><td>FALSE</td></tr>\n",
       "\t<tr><th scope=row>5</th><td>1000054</td><td>1000054</td><td>Female</td><td>65</td><td>NA</td><td>NA</td><td>NA</td><td>0 </td><td>NA</td><td>NA</td><td>NA</td><td>FALSE</td></tr>\n",
       "\t<tr><th scope=row>6</th><td>1000063</td><td>1000063</td><td>Male  </td><td>43</td><td>NA</td><td>NA</td><td>NA</td><td>0 </td><td>NA</td><td>NA</td><td>NA</td><td>FALSE</td></tr>\n",
       "\t<tr><th scope=row>7</th><td>1000078</td><td>1000078</td><td>Female</td><td>52</td><td>57</td><td>60</td><td>NA</td><td>NA</td><td>0 </td><td>0 </td><td>NA</td><td>FALSE</td></tr>\n",
       "\t<tr><th scope=row>8</th><td>1000105</td><td>1000105</td><td>Female</td><td>54</td><td>NA</td><td>NA</td><td>NA</td><td>0 </td><td>NA</td><td>NA</td><td>NA</td><td>FALSE</td></tr>\n",
       "\t<tr><th scope=row>9</th><td>1000112</td><td>1000112</td><td>Male  </td><td>58</td><td>NA</td><td>68</td><td>NA</td><td>NA</td><td>NA</td><td>1 </td><td>NA</td><td> TRUE</td></tr>\n",
       "\t<tr><th scope=row>10</th><td>1000141</td><td>1000141</td><td>Female</td><td>49</td><td>NA</td><td>NA</td><td>NA</td><td>0 </td><td>NA</td><td>NA</td><td>NA</td><td>FALSE</td></tr>\n",
       "</tbody>\n",
       "</table>\n"
      ],
      "text/latex": [
       "A data.frame: 10 × 12\n",
       "\\begin{tabular}{r|llllllllllll}\n",
       "  & IID & FID & f.22001.0.0 & f.21003.0.0 & f.21003.1.0 & f.21003.2.0 & f.21003.3.0 & f.3393.0.0\\_recode & f.3393.1.0\\_recode & f.3393.2.0\\_recode & f.3393.3.0\\_recode & cases\\\\\n",
       "  & <int> & <int> & <fct> & <int> & <int> & <int> & <int> & <fct> & <fct> & <fct> & <fct> & <lgl>\\\\\n",
       "\\hline\n",
       "\t1 & 1000019 & 1000019 & Female & 47 & NA & NA & NA & 0  & NA & NA & NA & FALSE\\\\\n",
       "\t2 & 1000022 & 1000022 & Male   & 53 & NA & NA & NA & 0  & NA & NA & NA & FALSE\\\\\n",
       "\t3 & 1000035 & 1000035 & Male   & 63 & NA & NA & NA & 0  & NA & NA & NA & FALSE\\\\\n",
       "\t4 & 1000046 & 1000046 & Female & 62 & NA & 73 & NA & NA & NA & 0  & NA & FALSE\\\\\n",
       "\t5 & 1000054 & 1000054 & Female & 65 & NA & NA & NA & 0  & NA & NA & NA & FALSE\\\\\n",
       "\t6 & 1000063 & 1000063 & Male   & 43 & NA & NA & NA & 0  & NA & NA & NA & FALSE\\\\\n",
       "\t7 & 1000078 & 1000078 & Female & 52 & 57 & 60 & NA & NA & 0  & 0  & NA & FALSE\\\\\n",
       "\t8 & 1000105 & 1000105 & Female & 54 & NA & NA & NA & 0  & NA & NA & NA & FALSE\\\\\n",
       "\t9 & 1000112 & 1000112 & Male   & 58 & NA & 68 & NA & NA & NA & 1  & NA &  TRUE\\\\\n",
       "\t10 & 1000141 & 1000141 & Female & 49 & NA & NA & NA & 0  & NA & NA & NA & FALSE\\\\\n",
       "\\end{tabular}\n"
      ],
      "text/markdown": [
       "\n",
       "A data.frame: 10 × 12\n",
       "\n",
       "| <!--/--> | IID &lt;int&gt; | FID &lt;int&gt; | f.22001.0.0 &lt;fct&gt; | f.21003.0.0 &lt;int&gt; | f.21003.1.0 &lt;int&gt; | f.21003.2.0 &lt;int&gt; | f.21003.3.0 &lt;int&gt; | f.3393.0.0_recode &lt;fct&gt; | f.3393.1.0_recode &lt;fct&gt; | f.3393.2.0_recode &lt;fct&gt; | f.3393.3.0_recode &lt;fct&gt; | cases &lt;lgl&gt; |\n",
       "|---|---|---|---|---|---|---|---|---|---|---|---|---|\n",
       "| 1 | 1000019 | 1000019 | Female | 47 | NA | NA | NA | 0  | NA | NA | NA | FALSE |\n",
       "| 2 | 1000022 | 1000022 | Male   | 53 | NA | NA | NA | 0  | NA | NA | NA | FALSE |\n",
       "| 3 | 1000035 | 1000035 | Male   | 63 | NA | NA | NA | 0  | NA | NA | NA | FALSE |\n",
       "| 4 | 1000046 | 1000046 | Female | 62 | NA | 73 | NA | NA | NA | 0  | NA | FALSE |\n",
       "| 5 | 1000054 | 1000054 | Female | 65 | NA | NA | NA | 0  | NA | NA | NA | FALSE |\n",
       "| 6 | 1000063 | 1000063 | Male   | 43 | NA | NA | NA | 0  | NA | NA | NA | FALSE |\n",
       "| 7 | 1000078 | 1000078 | Female | 52 | 57 | 60 | NA | NA | 0  | 0  | NA | FALSE |\n",
       "| 8 | 1000105 | 1000105 | Female | 54 | NA | NA | NA | 0  | NA | NA | NA | FALSE |\n",
       "| 9 | 1000112 | 1000112 | Male   | 58 | NA | 68 | NA | NA | NA | 1  | NA |  TRUE |\n",
       "| 10 | 1000141 | 1000141 | Female | 49 | NA | NA | NA | 0  | NA | NA | NA | FALSE |\n",
       "\n"
      ],
      "text/plain": [
       "   IID     FID     f.22001.0.0 f.21003.0.0 f.21003.1.0 f.21003.2.0 f.21003.3.0\n",
       "1  1000019 1000019 Female      47          NA          NA          NA         \n",
       "2  1000022 1000022 Male        53          NA          NA          NA         \n",
       "3  1000035 1000035 Male        63          NA          NA          NA         \n",
       "4  1000046 1000046 Female      62          NA          73          NA         \n",
       "5  1000054 1000054 Female      65          NA          NA          NA         \n",
       "6  1000063 1000063 Male        43          NA          NA          NA         \n",
       "7  1000078 1000078 Female      52          57          60          NA         \n",
       "8  1000105 1000105 Female      54          NA          NA          NA         \n",
       "9  1000112 1000112 Male        58          NA          68          NA         \n",
       "10 1000141 1000141 Female      49          NA          NA          NA         \n",
       "   f.3393.0.0_recode f.3393.1.0_recode f.3393.2.0_recode f.3393.3.0_recode\n",
       "1  0                 NA                NA                NA               \n",
       "2  0                 NA                NA                NA               \n",
       "3  0                 NA                NA                NA               \n",
       "4  NA                NA                0                 NA               \n",
       "5  0                 NA                NA                NA               \n",
       "6  0                 NA                NA                NA               \n",
       "7  NA                0                 0                 NA               \n",
       "8  0                 NA                NA                NA               \n",
       "9  NA                NA                1                 NA               \n",
       "10 0                 NA                NA                NA               \n",
       "   cases\n",
       "1  FALSE\n",
       "2  FALSE\n",
       "3  FALSE\n",
       "4  FALSE\n",
       "5  FALSE\n",
       "6  FALSE\n",
       "7  FALSE\n",
       "8  FALSE\n",
       "9   TRUE\n",
       "10 FALSE"
      ]
     },
     "metadata": {},
     "output_type": "display_data"
    }
   ],
   "source": [
    "data_sub <- select(hearing_aid,starts_with(\"f.3393\"))\n",
    "\n",
    "# Function to define cases\n",
    "f<-function(x){\n",
    "  visit<-c()\n",
    "  for (i in 1:4){\n",
    "    if (!is.na(x[i]))\n",
    "    {visit<-c(visit,x[i])}\n",
    "  }\n",
    "  if (\"1\" %in% visit){result= TRUE}\n",
    "  else{result=FALSE}\n",
    "  return (result)\n",
    "}\n",
    "\n",
    "# Apply the above function\n",
    "hearing_aid$cases<-apply(data_sub, 1, f)\n",
    "head(hearing_aid,10)"
   ]
  },
  {
   "cell_type": "code",
   "execution_count": 22,
   "metadata": {
    "kernel": "R"
   },
   "outputs": [
    {
     "data": {
      "text/html": [
       "<table>\n",
       "<caption>A data.frame: 6 × 12</caption>\n",
       "<thead>\n",
       "\t<tr><th></th><th scope=col>IID</th><th scope=col>FID</th><th scope=col>f.22001.0.0</th><th scope=col>f.21003.0.0</th><th scope=col>f.21003.1.0</th><th scope=col>f.21003.2.0</th><th scope=col>f.21003.3.0</th><th scope=col>f.3393.0.0_recode</th><th scope=col>f.3393.1.0_recode</th><th scope=col>f.3393.2.0_recode</th><th scope=col>f.3393.3.0_recode</th><th scope=col>cases</th></tr>\n",
       "\t<tr><th></th><th scope=col>&lt;int&gt;</th><th scope=col>&lt;int&gt;</th><th scope=col>&lt;fct&gt;</th><th scope=col>&lt;int&gt;</th><th scope=col>&lt;int&gt;</th><th scope=col>&lt;int&gt;</th><th scope=col>&lt;int&gt;</th><th scope=col>&lt;fct&gt;</th><th scope=col>&lt;fct&gt;</th><th scope=col>&lt;fct&gt;</th><th scope=col>&lt;fct&gt;</th><th scope=col>&lt;lgl&gt;</th></tr>\n",
       "</thead>\n",
       "<tbody>\n",
       "\t<tr><th scope=row>1</th><td>1000112</td><td>1000112</td><td>Male  </td><td>58</td><td>NA</td><td>68</td><td>NA</td><td>NA</td><td>NA</td><td>1 </td><td>NA</td><td>TRUE</td></tr>\n",
       "\t<tr><th scope=row>2</th><td>1001067</td><td>1001067</td><td>Male  </td><td>50</td><td>NA</td><td>NA</td><td>NA</td><td>1 </td><td>NA</td><td>NA</td><td>NA</td><td>TRUE</td></tr>\n",
       "\t<tr><th scope=row>3</th><td>1001384</td><td>1001384</td><td>Female</td><td>61</td><td>NA</td><td>NA</td><td>NA</td><td>1 </td><td>NA</td><td>NA</td><td>NA</td><td>TRUE</td></tr>\n",
       "\t<tr><th scope=row>4</th><td>1001459</td><td>1001459</td><td>Male  </td><td>64</td><td>NA</td><td>NA</td><td>NA</td><td>1 </td><td>NA</td><td>NA</td><td>NA</td><td>TRUE</td></tr>\n",
       "\t<tr><th scope=row>5</th><td>1002548</td><td>1002548</td><td>Male  </td><td>62</td><td>NA</td><td>NA</td><td>NA</td><td>1 </td><td>NA</td><td>NA</td><td>NA</td><td>TRUE</td></tr>\n",
       "\t<tr><th scope=row>6</th><td>1002888</td><td>1002888</td><td>Male  </td><td>68</td><td>NA</td><td>NA</td><td>NA</td><td>1 </td><td>NA</td><td>NA</td><td>NA</td><td>TRUE</td></tr>\n",
       "</tbody>\n",
       "</table>\n"
      ],
      "text/latex": [
       "A data.frame: 6 × 12\n",
       "\\begin{tabular}{r|llllllllllll}\n",
       "  & IID & FID & f.22001.0.0 & f.21003.0.0 & f.21003.1.0 & f.21003.2.0 & f.21003.3.0 & f.3393.0.0\\_recode & f.3393.1.0\\_recode & f.3393.2.0\\_recode & f.3393.3.0\\_recode & cases\\\\\n",
       "  & <int> & <int> & <fct> & <int> & <int> & <int> & <int> & <fct> & <fct> & <fct> & <fct> & <lgl>\\\\\n",
       "\\hline\n",
       "\t1 & 1000112 & 1000112 & Male   & 58 & NA & 68 & NA & NA & NA & 1  & NA & TRUE\\\\\n",
       "\t2 & 1001067 & 1001067 & Male   & 50 & NA & NA & NA & 1  & NA & NA & NA & TRUE\\\\\n",
       "\t3 & 1001384 & 1001384 & Female & 61 & NA & NA & NA & 1  & NA & NA & NA & TRUE\\\\\n",
       "\t4 & 1001459 & 1001459 & Male   & 64 & NA & NA & NA & 1  & NA & NA & NA & TRUE\\\\\n",
       "\t5 & 1002548 & 1002548 & Male   & 62 & NA & NA & NA & 1  & NA & NA & NA & TRUE\\\\\n",
       "\t6 & 1002888 & 1002888 & Male   & 68 & NA & NA & NA & 1  & NA & NA & NA & TRUE\\\\\n",
       "\\end{tabular}\n"
      ],
      "text/markdown": [
       "\n",
       "A data.frame: 6 × 12\n",
       "\n",
       "| <!--/--> | IID &lt;int&gt; | FID &lt;int&gt; | f.22001.0.0 &lt;fct&gt; | f.21003.0.0 &lt;int&gt; | f.21003.1.0 &lt;int&gt; | f.21003.2.0 &lt;int&gt; | f.21003.3.0 &lt;int&gt; | f.3393.0.0_recode &lt;fct&gt; | f.3393.1.0_recode &lt;fct&gt; | f.3393.2.0_recode &lt;fct&gt; | f.3393.3.0_recode &lt;fct&gt; | cases &lt;lgl&gt; |\n",
       "|---|---|---|---|---|---|---|---|---|---|---|---|---|\n",
       "| 1 | 1000112 | 1000112 | Male   | 58 | NA | 68 | NA | NA | NA | 1  | NA | TRUE |\n",
       "| 2 | 1001067 | 1001067 | Male   | 50 | NA | NA | NA | 1  | NA | NA | NA | TRUE |\n",
       "| 3 | 1001384 | 1001384 | Female | 61 | NA | NA | NA | 1  | NA | NA | NA | TRUE |\n",
       "| 4 | 1001459 | 1001459 | Male   | 64 | NA | NA | NA | 1  | NA | NA | NA | TRUE |\n",
       "| 5 | 1002548 | 1002548 | Male   | 62 | NA | NA | NA | 1  | NA | NA | NA | TRUE |\n",
       "| 6 | 1002888 | 1002888 | Male   | 68 | NA | NA | NA | 1  | NA | NA | NA | TRUE |\n",
       "\n"
      ],
      "text/plain": [
       "  IID     FID     f.22001.0.0 f.21003.0.0 f.21003.1.0 f.21003.2.0 f.21003.3.0\n",
       "1 1000112 1000112 Male        58          NA          68          NA         \n",
       "2 1001067 1001067 Male        50          NA          NA          NA         \n",
       "3 1001384 1001384 Female      61          NA          NA          NA         \n",
       "4 1001459 1001459 Male        64          NA          NA          NA         \n",
       "5 1002548 1002548 Male        62          NA          NA          NA         \n",
       "6 1002888 1002888 Male        68          NA          NA          NA         \n",
       "  f.3393.0.0_recode f.3393.1.0_recode f.3393.2.0_recode f.3393.3.0_recode cases\n",
       "1 NA                NA                1                 NA                TRUE \n",
       "2 1                 NA                NA                NA                TRUE \n",
       "3 1                 NA                NA                NA                TRUE \n",
       "4 1                 NA                NA                NA                TRUE \n",
       "5 1                 NA                NA                NA                TRUE \n",
       "6 1                 NA                NA                NA                TRUE "
      ]
     },
     "metadata": {},
     "output_type": "display_data"
    },
    {
     "name": "stdout",
     "output_type": "stream",
     "text": [
      "12462 individuals are cases for f.3393"
     ]
    }
   ],
   "source": [
    "hearing_aid_cases <- hearing_aid %>% \n",
    "  filter(cases == TRUE)\n",
    "head(hearing_aid_cases)\n",
    "cat(dim(hearing_aid_cases)[1], \"individuals are cases for f.3393\")"
   ]
  },
  {
   "cell_type": "code",
   "execution_count": 23,
   "metadata": {
    "kernel": "R"
   },
   "outputs": [
    {
     "data": {
      "text/html": [
       "<table>\n",
       "<caption>A data.frame: 6 × 12</caption>\n",
       "<thead>\n",
       "\t<tr><th></th><th scope=col>IID</th><th scope=col>FID</th><th scope=col>f.22001.0.0</th><th scope=col>f.21003.0.0</th><th scope=col>f.21003.1.0</th><th scope=col>f.21003.2.0</th><th scope=col>f.21003.3.0</th><th scope=col>f.3393.0.0_recode</th><th scope=col>f.3393.1.0_recode</th><th scope=col>f.3393.2.0_recode</th><th scope=col>f.3393.3.0_recode</th><th scope=col>cases</th></tr>\n",
       "\t<tr><th></th><th scope=col>&lt;int&gt;</th><th scope=col>&lt;int&gt;</th><th scope=col>&lt;fct&gt;</th><th scope=col>&lt;int&gt;</th><th scope=col>&lt;int&gt;</th><th scope=col>&lt;int&gt;</th><th scope=col>&lt;int&gt;</th><th scope=col>&lt;fct&gt;</th><th scope=col>&lt;fct&gt;</th><th scope=col>&lt;fct&gt;</th><th scope=col>&lt;fct&gt;</th><th scope=col>&lt;lgl&gt;</th></tr>\n",
       "</thead>\n",
       "<tbody>\n",
       "\t<tr><th scope=row>1</th><td>1000019</td><td>1000019</td><td>Female</td><td>47</td><td>NA</td><td>NA</td><td>NA</td><td>0 </td><td>NA</td><td>NA</td><td>NA</td><td>FALSE</td></tr>\n",
       "\t<tr><th scope=row>2</th><td>1000022</td><td>1000022</td><td>Male  </td><td>53</td><td>NA</td><td>NA</td><td>NA</td><td>0 </td><td>NA</td><td>NA</td><td>NA</td><td>FALSE</td></tr>\n",
       "\t<tr><th scope=row>3</th><td>1000035</td><td>1000035</td><td>Male  </td><td>63</td><td>NA</td><td>NA</td><td>NA</td><td>0 </td><td>NA</td><td>NA</td><td>NA</td><td>FALSE</td></tr>\n",
       "\t<tr><th scope=row>4</th><td>1000046</td><td>1000046</td><td>Female</td><td>62</td><td>NA</td><td>73</td><td>NA</td><td>NA</td><td>NA</td><td>0 </td><td>NA</td><td>FALSE</td></tr>\n",
       "\t<tr><th scope=row>5</th><td>1000054</td><td>1000054</td><td>Female</td><td>65</td><td>NA</td><td>NA</td><td>NA</td><td>0 </td><td>NA</td><td>NA</td><td>NA</td><td>FALSE</td></tr>\n",
       "\t<tr><th scope=row>6</th><td>1000063</td><td>1000063</td><td>Male  </td><td>43</td><td>NA</td><td>NA</td><td>NA</td><td>0 </td><td>NA</td><td>NA</td><td>NA</td><td>FALSE</td></tr>\n",
       "</tbody>\n",
       "</table>\n"
      ],
      "text/latex": [
       "A data.frame: 6 × 12\n",
       "\\begin{tabular}{r|llllllllllll}\n",
       "  & IID & FID & f.22001.0.0 & f.21003.0.0 & f.21003.1.0 & f.21003.2.0 & f.21003.3.0 & f.3393.0.0\\_recode & f.3393.1.0\\_recode & f.3393.2.0\\_recode & f.3393.3.0\\_recode & cases\\\\\n",
       "  & <int> & <int> & <fct> & <int> & <int> & <int> & <int> & <fct> & <fct> & <fct> & <fct> & <lgl>\\\\\n",
       "\\hline\n",
       "\t1 & 1000019 & 1000019 & Female & 47 & NA & NA & NA & 0  & NA & NA & NA & FALSE\\\\\n",
       "\t2 & 1000022 & 1000022 & Male   & 53 & NA & NA & NA & 0  & NA & NA & NA & FALSE\\\\\n",
       "\t3 & 1000035 & 1000035 & Male   & 63 & NA & NA & NA & 0  & NA & NA & NA & FALSE\\\\\n",
       "\t4 & 1000046 & 1000046 & Female & 62 & NA & 73 & NA & NA & NA & 0  & NA & FALSE\\\\\n",
       "\t5 & 1000054 & 1000054 & Female & 65 & NA & NA & NA & 0  & NA & NA & NA & FALSE\\\\\n",
       "\t6 & 1000063 & 1000063 & Male   & 43 & NA & NA & NA & 0  & NA & NA & NA & FALSE\\\\\n",
       "\\end{tabular}\n"
      ],
      "text/markdown": [
       "\n",
       "A data.frame: 6 × 12\n",
       "\n",
       "| <!--/--> | IID &lt;int&gt; | FID &lt;int&gt; | f.22001.0.0 &lt;fct&gt; | f.21003.0.0 &lt;int&gt; | f.21003.1.0 &lt;int&gt; | f.21003.2.0 &lt;int&gt; | f.21003.3.0 &lt;int&gt; | f.3393.0.0_recode &lt;fct&gt; | f.3393.1.0_recode &lt;fct&gt; | f.3393.2.0_recode &lt;fct&gt; | f.3393.3.0_recode &lt;fct&gt; | cases &lt;lgl&gt; |\n",
       "|---|---|---|---|---|---|---|---|---|---|---|---|---|\n",
       "| 1 | 1000019 | 1000019 | Female | 47 | NA | NA | NA | 0  | NA | NA | NA | FALSE |\n",
       "| 2 | 1000022 | 1000022 | Male   | 53 | NA | NA | NA | 0  | NA | NA | NA | FALSE |\n",
       "| 3 | 1000035 | 1000035 | Male   | 63 | NA | NA | NA | 0  | NA | NA | NA | FALSE |\n",
       "| 4 | 1000046 | 1000046 | Female | 62 | NA | 73 | NA | NA | NA | 0  | NA | FALSE |\n",
       "| 5 | 1000054 | 1000054 | Female | 65 | NA | NA | NA | 0  | NA | NA | NA | FALSE |\n",
       "| 6 | 1000063 | 1000063 | Male   | 43 | NA | NA | NA | 0  | NA | NA | NA | FALSE |\n",
       "\n"
      ],
      "text/plain": [
       "  IID     FID     f.22001.0.0 f.21003.0.0 f.21003.1.0 f.21003.2.0 f.21003.3.0\n",
       "1 1000019 1000019 Female      47          NA          NA          NA         \n",
       "2 1000022 1000022 Male        53          NA          NA          NA         \n",
       "3 1000035 1000035 Male        63          NA          NA          NA         \n",
       "4 1000046 1000046 Female      62          NA          73          NA         \n",
       "5 1000054 1000054 Female      65          NA          NA          NA         \n",
       "6 1000063 1000063 Male        43          NA          NA          NA         \n",
       "  f.3393.0.0_recode f.3393.1.0_recode f.3393.2.0_recode f.3393.3.0_recode cases\n",
       "1 0                 NA                NA                NA                FALSE\n",
       "2 0                 NA                NA                NA                FALSE\n",
       "3 0                 NA                NA                NA                FALSE\n",
       "4 NA                NA                0                 NA                FALSE\n",
       "5 0                 NA                NA                NA                FALSE\n",
       "6 0                 NA                NA                NA                FALSE"
      ]
     },
     "metadata": {},
     "output_type": "display_data"
    },
    {
     "name": "stdout",
     "output_type": "stream",
     "text": [
      "217949 individuals are controls for f.3393"
     ]
    }
   ],
   "source": [
    "hearing_aid_controls <- hearing_aid %>% \n",
    "  filter(cases == FALSE)\n",
    "head(hearing_aid_controls)\n",
    "cat(dim(hearing_aid_controls)[1], \"individuals are controls for f.3393\")"
   ]
  },
  {
   "cell_type": "code",
   "execution_count": 24,
   "metadata": {
    "kernel": "R"
   },
   "outputs": [
    {
     "data": {
      "text/html": [
       "0"
      ],
      "text/latex": [
       "0"
      ],
      "text/markdown": [
       "0"
      ],
      "text/plain": [
       "[1] 0"
      ]
     },
     "metadata": {},
     "output_type": "display_data"
    }
   ],
   "source": [
    "dim(hearing_aid)[1]-217949 -12462"
   ]
  },
  {
   "cell_type": "markdown",
   "metadata": {
    "kernel": "R"
   },
   "source": [
    "## f.3393 Recode cases=1 and controls=0"
   ]
  },
  {
   "cell_type": "code",
   "execution_count": 25,
   "metadata": {
    "kernel": "R"
   },
   "outputs": [
    {
     "data": {
      "text/html": [
       "<table>\n",
       "<caption>A data.frame: 10 × 13</caption>\n",
       "<thead>\n",
       "\t<tr><th></th><th scope=col>IID</th><th scope=col>FID</th><th scope=col>f.22001.0.0</th><th scope=col>f.21003.0.0</th><th scope=col>f.21003.1.0</th><th scope=col>f.21003.2.0</th><th scope=col>f.21003.3.0</th><th scope=col>f.3393.0.0_recode</th><th scope=col>f.3393.1.0_recode</th><th scope=col>f.3393.2.0_recode</th><th scope=col>f.3393.3.0_recode</th><th scope=col>cases</th><th scope=col>hearing_aid_cat</th></tr>\n",
       "\t<tr><th></th><th scope=col>&lt;int&gt;</th><th scope=col>&lt;int&gt;</th><th scope=col>&lt;fct&gt;</th><th scope=col>&lt;int&gt;</th><th scope=col>&lt;int&gt;</th><th scope=col>&lt;int&gt;</th><th scope=col>&lt;int&gt;</th><th scope=col>&lt;fct&gt;</th><th scope=col>&lt;fct&gt;</th><th scope=col>&lt;fct&gt;</th><th scope=col>&lt;fct&gt;</th><th scope=col>&lt;lgl&gt;</th><th scope=col>&lt;int&gt;</th></tr>\n",
       "</thead>\n",
       "<tbody>\n",
       "\t<tr><th scope=row>1</th><td>1000019</td><td>1000019</td><td>Female</td><td>47</td><td>NA</td><td>NA</td><td>NA</td><td>0 </td><td>NA</td><td>NA</td><td>NA</td><td>FALSE</td><td>0</td></tr>\n",
       "\t<tr><th scope=row>2</th><td>1000022</td><td>1000022</td><td>Male  </td><td>53</td><td>NA</td><td>NA</td><td>NA</td><td>0 </td><td>NA</td><td>NA</td><td>NA</td><td>FALSE</td><td>0</td></tr>\n",
       "\t<tr><th scope=row>3</th><td>1000035</td><td>1000035</td><td>Male  </td><td>63</td><td>NA</td><td>NA</td><td>NA</td><td>0 </td><td>NA</td><td>NA</td><td>NA</td><td>FALSE</td><td>0</td></tr>\n",
       "\t<tr><th scope=row>4</th><td>1000046</td><td>1000046</td><td>Female</td><td>62</td><td>NA</td><td>73</td><td>NA</td><td>NA</td><td>NA</td><td>0 </td><td>NA</td><td>FALSE</td><td>0</td></tr>\n",
       "\t<tr><th scope=row>5</th><td>1000054</td><td>1000054</td><td>Female</td><td>65</td><td>NA</td><td>NA</td><td>NA</td><td>0 </td><td>NA</td><td>NA</td><td>NA</td><td>FALSE</td><td>0</td></tr>\n",
       "\t<tr><th scope=row>6</th><td>1000063</td><td>1000063</td><td>Male  </td><td>43</td><td>NA</td><td>NA</td><td>NA</td><td>0 </td><td>NA</td><td>NA</td><td>NA</td><td>FALSE</td><td>0</td></tr>\n",
       "\t<tr><th scope=row>7</th><td>1000078</td><td>1000078</td><td>Female</td><td>52</td><td>57</td><td>60</td><td>NA</td><td>NA</td><td>0 </td><td>0 </td><td>NA</td><td>FALSE</td><td>0</td></tr>\n",
       "\t<tr><th scope=row>8</th><td>1000105</td><td>1000105</td><td>Female</td><td>54</td><td>NA</td><td>NA</td><td>NA</td><td>0 </td><td>NA</td><td>NA</td><td>NA</td><td>FALSE</td><td>0</td></tr>\n",
       "\t<tr><th scope=row>9</th><td>1000112</td><td>1000112</td><td>Male  </td><td>58</td><td>NA</td><td>68</td><td>NA</td><td>NA</td><td>NA</td><td>1 </td><td>NA</td><td> TRUE</td><td>1</td></tr>\n",
       "\t<tr><th scope=row>10</th><td>1000141</td><td>1000141</td><td>Female</td><td>49</td><td>NA</td><td>NA</td><td>NA</td><td>0 </td><td>NA</td><td>NA</td><td>NA</td><td>FALSE</td><td>0</td></tr>\n",
       "</tbody>\n",
       "</table>\n"
      ],
      "text/latex": [
       "A data.frame: 10 × 13\n",
       "\\begin{tabular}{r|lllllllllllll}\n",
       "  & IID & FID & f.22001.0.0 & f.21003.0.0 & f.21003.1.0 & f.21003.2.0 & f.21003.3.0 & f.3393.0.0\\_recode & f.3393.1.0\\_recode & f.3393.2.0\\_recode & f.3393.3.0\\_recode & cases & hearing\\_aid\\_cat\\\\\n",
       "  & <int> & <int> & <fct> & <int> & <int> & <int> & <int> & <fct> & <fct> & <fct> & <fct> & <lgl> & <int>\\\\\n",
       "\\hline\n",
       "\t1 & 1000019 & 1000019 & Female & 47 & NA & NA & NA & 0  & NA & NA & NA & FALSE & 0\\\\\n",
       "\t2 & 1000022 & 1000022 & Male   & 53 & NA & NA & NA & 0  & NA & NA & NA & FALSE & 0\\\\\n",
       "\t3 & 1000035 & 1000035 & Male   & 63 & NA & NA & NA & 0  & NA & NA & NA & FALSE & 0\\\\\n",
       "\t4 & 1000046 & 1000046 & Female & 62 & NA & 73 & NA & NA & NA & 0  & NA & FALSE & 0\\\\\n",
       "\t5 & 1000054 & 1000054 & Female & 65 & NA & NA & NA & 0  & NA & NA & NA & FALSE & 0\\\\\n",
       "\t6 & 1000063 & 1000063 & Male   & 43 & NA & NA & NA & 0  & NA & NA & NA & FALSE & 0\\\\\n",
       "\t7 & 1000078 & 1000078 & Female & 52 & 57 & 60 & NA & NA & 0  & 0  & NA & FALSE & 0\\\\\n",
       "\t8 & 1000105 & 1000105 & Female & 54 & NA & NA & NA & 0  & NA & NA & NA & FALSE & 0\\\\\n",
       "\t9 & 1000112 & 1000112 & Male   & 58 & NA & 68 & NA & NA & NA & 1  & NA &  TRUE & 1\\\\\n",
       "\t10 & 1000141 & 1000141 & Female & 49 & NA & NA & NA & 0  & NA & NA & NA & FALSE & 0\\\\\n",
       "\\end{tabular}\n"
      ],
      "text/markdown": [
       "\n",
       "A data.frame: 10 × 13\n",
       "\n",
       "| <!--/--> | IID &lt;int&gt; | FID &lt;int&gt; | f.22001.0.0 &lt;fct&gt; | f.21003.0.0 &lt;int&gt; | f.21003.1.0 &lt;int&gt; | f.21003.2.0 &lt;int&gt; | f.21003.3.0 &lt;int&gt; | f.3393.0.0_recode &lt;fct&gt; | f.3393.1.0_recode &lt;fct&gt; | f.3393.2.0_recode &lt;fct&gt; | f.3393.3.0_recode &lt;fct&gt; | cases &lt;lgl&gt; | hearing_aid_cat &lt;int&gt; |\n",
       "|---|---|---|---|---|---|---|---|---|---|---|---|---|---|\n",
       "| 1 | 1000019 | 1000019 | Female | 47 | NA | NA | NA | 0  | NA | NA | NA | FALSE | 0 |\n",
       "| 2 | 1000022 | 1000022 | Male   | 53 | NA | NA | NA | 0  | NA | NA | NA | FALSE | 0 |\n",
       "| 3 | 1000035 | 1000035 | Male   | 63 | NA | NA | NA | 0  | NA | NA | NA | FALSE | 0 |\n",
       "| 4 | 1000046 | 1000046 | Female | 62 | NA | 73 | NA | NA | NA | 0  | NA | FALSE | 0 |\n",
       "| 5 | 1000054 | 1000054 | Female | 65 | NA | NA | NA | 0  | NA | NA | NA | FALSE | 0 |\n",
       "| 6 | 1000063 | 1000063 | Male   | 43 | NA | NA | NA | 0  | NA | NA | NA | FALSE | 0 |\n",
       "| 7 | 1000078 | 1000078 | Female | 52 | 57 | 60 | NA | NA | 0  | 0  | NA | FALSE | 0 |\n",
       "| 8 | 1000105 | 1000105 | Female | 54 | NA | NA | NA | 0  | NA | NA | NA | FALSE | 0 |\n",
       "| 9 | 1000112 | 1000112 | Male   | 58 | NA | 68 | NA | NA | NA | 1  | NA |  TRUE | 1 |\n",
       "| 10 | 1000141 | 1000141 | Female | 49 | NA | NA | NA | 0  | NA | NA | NA | FALSE | 0 |\n",
       "\n"
      ],
      "text/plain": [
       "   IID     FID     f.22001.0.0 f.21003.0.0 f.21003.1.0 f.21003.2.0 f.21003.3.0\n",
       "1  1000019 1000019 Female      47          NA          NA          NA         \n",
       "2  1000022 1000022 Male        53          NA          NA          NA         \n",
       "3  1000035 1000035 Male        63          NA          NA          NA         \n",
       "4  1000046 1000046 Female      62          NA          73          NA         \n",
       "5  1000054 1000054 Female      65          NA          NA          NA         \n",
       "6  1000063 1000063 Male        43          NA          NA          NA         \n",
       "7  1000078 1000078 Female      52          57          60          NA         \n",
       "8  1000105 1000105 Female      54          NA          NA          NA         \n",
       "9  1000112 1000112 Male        58          NA          68          NA         \n",
       "10 1000141 1000141 Female      49          NA          NA          NA         \n",
       "   f.3393.0.0_recode f.3393.1.0_recode f.3393.2.0_recode f.3393.3.0_recode\n",
       "1  0                 NA                NA                NA               \n",
       "2  0                 NA                NA                NA               \n",
       "3  0                 NA                NA                NA               \n",
       "4  NA                NA                0                 NA               \n",
       "5  0                 NA                NA                NA               \n",
       "6  0                 NA                NA                NA               \n",
       "7  NA                0                 0                 NA               \n",
       "8  0                 NA                NA                NA               \n",
       "9  NA                NA                1                 NA               \n",
       "10 0                 NA                NA                NA               \n",
       "   cases hearing_aid_cat\n",
       "1  FALSE 0              \n",
       "2  FALSE 0              \n",
       "3  FALSE 0              \n",
       "4  FALSE 0              \n",
       "5  FALSE 0              \n",
       "6  FALSE 0              \n",
       "7  FALSE 0              \n",
       "8  FALSE 0              \n",
       "9   TRUE 1              \n",
       "10 FALSE 0              "
      ]
     },
     "metadata": {},
     "output_type": "display_data"
    }
   ],
   "source": [
    "hearing_aid$hearing_aid_cat <- as.integer(as.logical(hearing_aid$cases))\n",
    "head(hearing_aid, 10)\n",
    "# Get the number of NAs\n",
    "#length(which(is.na(hearing_all$hearing_aid_cat)))"
   ]
  },
  {
   "cell_type": "code",
   "execution_count": 26,
   "metadata": {
    "kernel": "R"
   },
   "outputs": [
    {
     "data": {
      "text/html": [
       "<style>\n",
       ".list-inline {list-style: none; margin:0; padding: 0}\n",
       ".list-inline>li {display: inline-block}\n",
       ".list-inline>li:not(:last-child)::after {content: \"\\00b7\"; padding: 0 .5ex}\n",
       "</style>\n",
       "<ol class=list-inline><li>230411</li><li>13</li></ol>\n"
      ],
      "text/latex": [
       "\\begin{enumerate*}\n",
       "\\item 230411\n",
       "\\item 13\n",
       "\\end{enumerate*}\n"
      ],
      "text/markdown": [
       "1. 230411\n",
       "2. 13\n",
       "\n",
       "\n"
      ],
      "text/plain": [
       "[1] 230411     13"
      ]
     },
     "metadata": {},
     "output_type": "display_data"
    }
   ],
   "source": [
    "dim(hearing_aid)"
   ]
  },
  {
   "cell_type": "markdown",
   "metadata": {
    "kernel": "SoS"
   },
   "source": [
    "## Step 2: get the ages for hearing aids (f.3393)"
   ]
  },
  {
   "cell_type": "code",
   "execution_count": 27,
   "metadata": {
    "kernel": "R"
   },
   "outputs": [
    {
     "data": {
      "text/html": [
       "<table>\n",
       "<caption>A data.frame: 12 × 9</caption>\n",
       "<thead>\n",
       "\t<tr><th></th><th scope=col>IID</th><th scope=col>f.3393.0.0_recode</th><th scope=col>f.3393.1.0_recode</th><th scope=col>f.3393.2.0_recode</th><th scope=col>f.3393.3.0_recode</th><th scope=col>f.21003.0.0</th><th scope=col>f.21003.1.0</th><th scope=col>f.21003.2.0</th><th scope=col>f.21003.3.0</th></tr>\n",
       "\t<tr><th></th><th scope=col>&lt;int&gt;</th><th scope=col>&lt;fct&gt;</th><th scope=col>&lt;fct&gt;</th><th scope=col>&lt;fct&gt;</th><th scope=col>&lt;fct&gt;</th><th scope=col>&lt;int&gt;</th><th scope=col>&lt;int&gt;</th><th scope=col>&lt;int&gt;</th><th scope=col>&lt;int&gt;</th></tr>\n",
       "</thead>\n",
       "<tbody>\n",
       "\t<tr><th scope=row>1</th><td>1000112</td><td>NA</td><td>NA</td><td>1 </td><td>NA</td><td>58</td><td>NA</td><td>68</td><td>NA</td></tr>\n",
       "\t<tr><th scope=row>2</th><td>1001067</td><td>1 </td><td>NA</td><td>NA</td><td>NA</td><td>50</td><td>NA</td><td>NA</td><td>NA</td></tr>\n",
       "\t<tr><th scope=row>3</th><td>1001384</td><td>1 </td><td>NA</td><td>NA</td><td>NA</td><td>61</td><td>NA</td><td>NA</td><td>NA</td></tr>\n",
       "\t<tr><th scope=row>4</th><td>1001459</td><td>1 </td><td>NA</td><td>NA</td><td>NA</td><td>64</td><td>NA</td><td>NA</td><td>NA</td></tr>\n",
       "\t<tr><th scope=row>5</th><td>1002548</td><td>1 </td><td>NA</td><td>NA</td><td>NA</td><td>62</td><td>NA</td><td>NA</td><td>NA</td></tr>\n",
       "\t<tr><th scope=row>6</th><td>1002888</td><td>1 </td><td>NA</td><td>NA</td><td>NA</td><td>68</td><td>NA</td><td>NA</td><td>NA</td></tr>\n",
       "\t<tr><th scope=row>7</th><td>1002944</td><td>1 </td><td>NA</td><td>NA</td><td>NA</td><td>65</td><td>NA</td><td>NA</td><td>NA</td></tr>\n",
       "\t<tr><th scope=row>8</th><td>1003258</td><td>0 </td><td>1 </td><td>NA</td><td>NA</td><td>69</td><td>74</td><td>NA</td><td>NA</td></tr>\n",
       "\t<tr><th scope=row>9</th><td>1004012</td><td>1 </td><td>NA</td><td>NA</td><td>NA</td><td>57</td><td>NA</td><td>NA</td><td>NA</td></tr>\n",
       "\t<tr><th scope=row>10</th><td>1004218</td><td>1 </td><td>NA</td><td>NA</td><td>NA</td><td>66</td><td>NA</td><td>NA</td><td>NA</td></tr>\n",
       "\t<tr><th scope=row>11</th><td>1004493</td><td>1 </td><td>NA</td><td>NA</td><td>NA</td><td>47</td><td>NA</td><td>NA</td><td>NA</td></tr>\n",
       "\t<tr><th scope=row>12</th><td>1004556</td><td>1 </td><td>NA</td><td>NA</td><td>NA</td><td>64</td><td>NA</td><td>NA</td><td>NA</td></tr>\n",
       "</tbody>\n",
       "</table>\n"
      ],
      "text/latex": [
       "A data.frame: 12 × 9\n",
       "\\begin{tabular}{r|lllllllll}\n",
       "  & IID & f.3393.0.0\\_recode & f.3393.1.0\\_recode & f.3393.2.0\\_recode & f.3393.3.0\\_recode & f.21003.0.0 & f.21003.1.0 & f.21003.2.0 & f.21003.3.0\\\\\n",
       "  & <int> & <fct> & <fct> & <fct> & <fct> & <int> & <int> & <int> & <int>\\\\\n",
       "\\hline\n",
       "\t1 & 1000112 & NA & NA & 1  & NA & 58 & NA & 68 & NA\\\\\n",
       "\t2 & 1001067 & 1  & NA & NA & NA & 50 & NA & NA & NA\\\\\n",
       "\t3 & 1001384 & 1  & NA & NA & NA & 61 & NA & NA & NA\\\\\n",
       "\t4 & 1001459 & 1  & NA & NA & NA & 64 & NA & NA & NA\\\\\n",
       "\t5 & 1002548 & 1  & NA & NA & NA & 62 & NA & NA & NA\\\\\n",
       "\t6 & 1002888 & 1  & NA & NA & NA & 68 & NA & NA & NA\\\\\n",
       "\t7 & 1002944 & 1  & NA & NA & NA & 65 & NA & NA & NA\\\\\n",
       "\t8 & 1003258 & 0  & 1  & NA & NA & 69 & 74 & NA & NA\\\\\n",
       "\t9 & 1004012 & 1  & NA & NA & NA & 57 & NA & NA & NA\\\\\n",
       "\t10 & 1004218 & 1  & NA & NA & NA & 66 & NA & NA & NA\\\\\n",
       "\t11 & 1004493 & 1  & NA & NA & NA & 47 & NA & NA & NA\\\\\n",
       "\t12 & 1004556 & 1  & NA & NA & NA & 64 & NA & NA & NA\\\\\n",
       "\\end{tabular}\n"
      ],
      "text/markdown": [
       "\n",
       "A data.frame: 12 × 9\n",
       "\n",
       "| <!--/--> | IID &lt;int&gt; | f.3393.0.0_recode &lt;fct&gt; | f.3393.1.0_recode &lt;fct&gt; | f.3393.2.0_recode &lt;fct&gt; | f.3393.3.0_recode &lt;fct&gt; | f.21003.0.0 &lt;int&gt; | f.21003.1.0 &lt;int&gt; | f.21003.2.0 &lt;int&gt; | f.21003.3.0 &lt;int&gt; |\n",
       "|---|---|---|---|---|---|---|---|---|---|\n",
       "| 1 | 1000112 | NA | NA | 1  | NA | 58 | NA | 68 | NA |\n",
       "| 2 | 1001067 | 1  | NA | NA | NA | 50 | NA | NA | NA |\n",
       "| 3 | 1001384 | 1  | NA | NA | NA | 61 | NA | NA | NA |\n",
       "| 4 | 1001459 | 1  | NA | NA | NA | 64 | NA | NA | NA |\n",
       "| 5 | 1002548 | 1  | NA | NA | NA | 62 | NA | NA | NA |\n",
       "| 6 | 1002888 | 1  | NA | NA | NA | 68 | NA | NA | NA |\n",
       "| 7 | 1002944 | 1  | NA | NA | NA | 65 | NA | NA | NA |\n",
       "| 8 | 1003258 | 0  | 1  | NA | NA | 69 | 74 | NA | NA |\n",
       "| 9 | 1004012 | 1  | NA | NA | NA | 57 | NA | NA | NA |\n",
       "| 10 | 1004218 | 1  | NA | NA | NA | 66 | NA | NA | NA |\n",
       "| 11 | 1004493 | 1  | NA | NA | NA | 47 | NA | NA | NA |\n",
       "| 12 | 1004556 | 1  | NA | NA | NA | 64 | NA | NA | NA |\n",
       "\n"
      ],
      "text/plain": [
       "   IID     f.3393.0.0_recode f.3393.1.0_recode f.3393.2.0_recode\n",
       "1  1000112 NA                NA                1                \n",
       "2  1001067 1                 NA                NA               \n",
       "3  1001384 1                 NA                NA               \n",
       "4  1001459 1                 NA                NA               \n",
       "5  1002548 1                 NA                NA               \n",
       "6  1002888 1                 NA                NA               \n",
       "7  1002944 1                 NA                NA               \n",
       "8  1003258 0                 1                 NA               \n",
       "9  1004012 1                 NA                NA               \n",
       "10 1004218 1                 NA                NA               \n",
       "11 1004493 1                 NA                NA               \n",
       "12 1004556 1                 NA                NA               \n",
       "   f.3393.3.0_recode f.21003.0.0 f.21003.1.0 f.21003.2.0 f.21003.3.0\n",
       "1  NA                58          NA          68          NA         \n",
       "2  NA                50          NA          NA          NA         \n",
       "3  NA                61          NA          NA          NA         \n",
       "4  NA                64          NA          NA          NA         \n",
       "5  NA                62          NA          NA          NA         \n",
       "6  NA                68          NA          NA          NA         \n",
       "7  NA                65          NA          NA          NA         \n",
       "8  NA                69          74          NA          NA         \n",
       "9  NA                57          NA          NA          NA         \n",
       "10 NA                66          NA          NA          NA         \n",
       "11 NA                47          NA          NA          NA         \n",
       "12 NA                64          NA          NA          NA         "
      ]
     },
     "metadata": {},
     "output_type": "display_data"
    }
   ],
   "source": [
    "# Get the subset data of cases\n",
    "aid_age_cases = hearing_aid %>% \n",
    "  filter(hearing_aid_cat==\"1\")  %>%\n",
    "  select(IID, f.3393.0.0_recode, f.3393.1.0_recode, f.3393.2.0_recode, f.3393.3.0_recode, f.21003.0.0, f.21003.1.0, f.21003.2.0, f.21003.3.0)\n",
    "head(aid_age_cases,12)"
   ]
  },
  {
   "cell_type": "code",
   "execution_count": 28,
   "metadata": {
    "kernel": "R"
   },
   "outputs": [
    {
     "data": {
      "text/html": [
       "<table>\n",
       "<caption>A data.frame: 6 × 10</caption>\n",
       "<thead>\n",
       "\t<tr><th></th><th scope=col>IID</th><th scope=col>f.3393.0.0_recode</th><th scope=col>f.3393.1.0_recode</th><th scope=col>f.3393.2.0_recode</th><th scope=col>f.3393.3.0_recode</th><th scope=col>f.21003.0.0</th><th scope=col>f.21003.1.0</th><th scope=col>f.21003.2.0</th><th scope=col>f.21003.3.0</th><th scope=col>visit_idx</th></tr>\n",
       "\t<tr><th></th><th scope=col>&lt;int&gt;</th><th scope=col>&lt;fct&gt;</th><th scope=col>&lt;fct&gt;</th><th scope=col>&lt;fct&gt;</th><th scope=col>&lt;fct&gt;</th><th scope=col>&lt;int&gt;</th><th scope=col>&lt;int&gt;</th><th scope=col>&lt;int&gt;</th><th scope=col>&lt;int&gt;</th><th scope=col>&lt;list&gt;</th></tr>\n",
       "</thead>\n",
       "<tbody>\n",
       "\t<tr><th scope=row>1</th><td>1000112</td><td>NA</td><td>NA</td><td>1 </td><td>NA</td><td>58</td><td>NA</td><td>68</td><td>NA</td><td>4</td></tr>\n",
       "\t<tr><th scope=row>2</th><td>1001067</td><td>1 </td><td>NA</td><td>NA</td><td>NA</td><td>50</td><td>NA</td><td>NA</td><td>NA</td><td>2</td></tr>\n",
       "\t<tr><th scope=row>3</th><td>1001384</td><td>1 </td><td>NA</td><td>NA</td><td>NA</td><td>61</td><td>NA</td><td>NA</td><td>NA</td><td>2</td></tr>\n",
       "\t<tr><th scope=row>4</th><td>1001459</td><td>1 </td><td>NA</td><td>NA</td><td>NA</td><td>64</td><td>NA</td><td>NA</td><td>NA</td><td>2</td></tr>\n",
       "\t<tr><th scope=row>5</th><td>1002548</td><td>1 </td><td>NA</td><td>NA</td><td>NA</td><td>62</td><td>NA</td><td>NA</td><td>NA</td><td>2</td></tr>\n",
       "\t<tr><th scope=row>6</th><td>1002888</td><td>1 </td><td>NA</td><td>NA</td><td>NA</td><td>68</td><td>NA</td><td>NA</td><td>NA</td><td>2</td></tr>\n",
       "</tbody>\n",
       "</table>\n"
      ],
      "text/latex": [
       "A data.frame: 6 × 10\n",
       "\\begin{tabular}{r|llllllllll}\n",
       "  & IID & f.3393.0.0\\_recode & f.3393.1.0\\_recode & f.3393.2.0\\_recode & f.3393.3.0\\_recode & f.21003.0.0 & f.21003.1.0 & f.21003.2.0 & f.21003.3.0 & visit\\_idx\\\\\n",
       "  & <int> & <fct> & <fct> & <fct> & <fct> & <int> & <int> & <int> & <int> & <list>\\\\\n",
       "\\hline\n",
       "\t1 & 1000112 & NA & NA & 1  & NA & 58 & NA & 68 & NA & 4\\\\\n",
       "\t2 & 1001067 & 1  & NA & NA & NA & 50 & NA & NA & NA & 2\\\\\n",
       "\t3 & 1001384 & 1  & NA & NA & NA & 61 & NA & NA & NA & 2\\\\\n",
       "\t4 & 1001459 & 1  & NA & NA & NA & 64 & NA & NA & NA & 2\\\\\n",
       "\t5 & 1002548 & 1  & NA & NA & NA & 62 & NA & NA & NA & 2\\\\\n",
       "\t6 & 1002888 & 1  & NA & NA & NA & 68 & NA & NA & NA & 2\\\\\n",
       "\\end{tabular}\n"
      ],
      "text/markdown": [
       "\n",
       "A data.frame: 6 × 10\n",
       "\n",
       "| <!--/--> | IID &lt;int&gt; | f.3393.0.0_recode &lt;fct&gt; | f.3393.1.0_recode &lt;fct&gt; | f.3393.2.0_recode &lt;fct&gt; | f.3393.3.0_recode &lt;fct&gt; | f.21003.0.0 &lt;int&gt; | f.21003.1.0 &lt;int&gt; | f.21003.2.0 &lt;int&gt; | f.21003.3.0 &lt;int&gt; | visit_idx &lt;list&gt; |\n",
       "|---|---|---|---|---|---|---|---|---|---|---|\n",
       "| 1 | 1000112 | NA | NA | 1  | NA | 58 | NA | 68 | NA | 4 |\n",
       "| 2 | 1001067 | 1  | NA | NA | NA | 50 | NA | NA | NA | 2 |\n",
       "| 3 | 1001384 | 1  | NA | NA | NA | 61 | NA | NA | NA | 2 |\n",
       "| 4 | 1001459 | 1  | NA | NA | NA | 64 | NA | NA | NA | 2 |\n",
       "| 5 | 1002548 | 1  | NA | NA | NA | 62 | NA | NA | NA | 2 |\n",
       "| 6 | 1002888 | 1  | NA | NA | NA | 68 | NA | NA | NA | 2 |\n",
       "\n"
      ],
      "text/plain": [
       "  IID     f.3393.0.0_recode f.3393.1.0_recode f.3393.2.0_recode\n",
       "1 1000112 NA                NA                1                \n",
       "2 1001067 1                 NA                NA               \n",
       "3 1001384 1                 NA                NA               \n",
       "4 1001459 1                 NA                NA               \n",
       "5 1002548 1                 NA                NA               \n",
       "6 1002888 1                 NA                NA               \n",
       "  f.3393.3.0_recode f.21003.0.0 f.21003.1.0 f.21003.2.0 f.21003.3.0 visit_idx\n",
       "1 NA                58          NA          68          NA          4        \n",
       "2 NA                50          NA          NA          NA          2        \n",
       "3 NA                61          NA          NA          NA          2        \n",
       "4 NA                64          NA          NA          NA          2        \n",
       "5 NA                62          NA          NA          NA          2        \n",
       "6 NA                68          NA          NA          NA          2        "
      ]
     },
     "metadata": {},
     "output_type": "display_data"
    }
   ],
   "source": [
    "# Get the # of column where first replied Yes:\n",
    "aid_age_cases$visit_idx = apply(aid_age_cases, 1, function(x) unlist(which(x == '1')))\n",
    "head(aid_age_cases)"
   ]
  },
  {
   "cell_type": "code",
   "execution_count": 29,
   "metadata": {
    "kernel": "R"
   },
   "outputs": [
    {
     "data": {
      "text/html": [
       "<table>\n",
       "<caption>A data.frame: 6 × 11</caption>\n",
       "<thead>\n",
       "\t<tr><th></th><th scope=col>IID</th><th scope=col>f.3393.0.0_recode</th><th scope=col>f.3393.1.0_recode</th><th scope=col>f.3393.2.0_recode</th><th scope=col>f.3393.3.0_recode</th><th scope=col>f.21003.0.0</th><th scope=col>f.21003.1.0</th><th scope=col>f.21003.2.0</th><th scope=col>f.21003.3.0</th><th scope=col>visit_idx</th><th scope=col>age_final_aid</th></tr>\n",
       "\t<tr><th></th><th scope=col>&lt;int&gt;</th><th scope=col>&lt;fct&gt;</th><th scope=col>&lt;fct&gt;</th><th scope=col>&lt;fct&gt;</th><th scope=col>&lt;fct&gt;</th><th scope=col>&lt;int&gt;</th><th scope=col>&lt;int&gt;</th><th scope=col>&lt;int&gt;</th><th scope=col>&lt;int&gt;</th><th scope=col>&lt;list&gt;</th><th scope=col>&lt;int&gt;</th></tr>\n",
       "</thead>\n",
       "<tbody>\n",
       "\t<tr><th scope=row>1</th><td>1000112</td><td>NA</td><td>NA</td><td>1 </td><td>NA</td><td>58</td><td>NA</td><td>68</td><td>NA</td><td>4</td><td>68</td></tr>\n",
       "\t<tr><th scope=row>2</th><td>1001067</td><td>1 </td><td>NA</td><td>NA</td><td>NA</td><td>50</td><td>NA</td><td>NA</td><td>NA</td><td>2</td><td>50</td></tr>\n",
       "\t<tr><th scope=row>3</th><td>1001384</td><td>1 </td><td>NA</td><td>NA</td><td>NA</td><td>61</td><td>NA</td><td>NA</td><td>NA</td><td>2</td><td>61</td></tr>\n",
       "\t<tr><th scope=row>4</th><td>1001459</td><td>1 </td><td>NA</td><td>NA</td><td>NA</td><td>64</td><td>NA</td><td>NA</td><td>NA</td><td>2</td><td>64</td></tr>\n",
       "\t<tr><th scope=row>5</th><td>1002548</td><td>1 </td><td>NA</td><td>NA</td><td>NA</td><td>62</td><td>NA</td><td>NA</td><td>NA</td><td>2</td><td>62</td></tr>\n",
       "\t<tr><th scope=row>6</th><td>1002888</td><td>1 </td><td>NA</td><td>NA</td><td>NA</td><td>68</td><td>NA</td><td>NA</td><td>NA</td><td>2</td><td>68</td></tr>\n",
       "</tbody>\n",
       "</table>\n"
      ],
      "text/latex": [
       "A data.frame: 6 × 11\n",
       "\\begin{tabular}{r|lllllllllll}\n",
       "  & IID & f.3393.0.0\\_recode & f.3393.1.0\\_recode & f.3393.2.0\\_recode & f.3393.3.0\\_recode & f.21003.0.0 & f.21003.1.0 & f.21003.2.0 & f.21003.3.0 & visit\\_idx & age\\_final\\_aid\\\\\n",
       "  & <int> & <fct> & <fct> & <fct> & <fct> & <int> & <int> & <int> & <int> & <list> & <int>\\\\\n",
       "\\hline\n",
       "\t1 & 1000112 & NA & NA & 1  & NA & 58 & NA & 68 & NA & 4 & 68\\\\\n",
       "\t2 & 1001067 & 1  & NA & NA & NA & 50 & NA & NA & NA & 2 & 50\\\\\n",
       "\t3 & 1001384 & 1  & NA & NA & NA & 61 & NA & NA & NA & 2 & 61\\\\\n",
       "\t4 & 1001459 & 1  & NA & NA & NA & 64 & NA & NA & NA & 2 & 64\\\\\n",
       "\t5 & 1002548 & 1  & NA & NA & NA & 62 & NA & NA & NA & 2 & 62\\\\\n",
       "\t6 & 1002888 & 1  & NA & NA & NA & 68 & NA & NA & NA & 2 & 68\\\\\n",
       "\\end{tabular}\n"
      ],
      "text/markdown": [
       "\n",
       "A data.frame: 6 × 11\n",
       "\n",
       "| <!--/--> | IID &lt;int&gt; | f.3393.0.0_recode &lt;fct&gt; | f.3393.1.0_recode &lt;fct&gt; | f.3393.2.0_recode &lt;fct&gt; | f.3393.3.0_recode &lt;fct&gt; | f.21003.0.0 &lt;int&gt; | f.21003.1.0 &lt;int&gt; | f.21003.2.0 &lt;int&gt; | f.21003.3.0 &lt;int&gt; | visit_idx &lt;list&gt; | age_final_aid &lt;int&gt; |\n",
       "|---|---|---|---|---|---|---|---|---|---|---|---|\n",
       "| 1 | 1000112 | NA | NA | 1  | NA | 58 | NA | 68 | NA | 4 | 68 |\n",
       "| 2 | 1001067 | 1  | NA | NA | NA | 50 | NA | NA | NA | 2 | 50 |\n",
       "| 3 | 1001384 | 1  | NA | NA | NA | 61 | NA | NA | NA | 2 | 61 |\n",
       "| 4 | 1001459 | 1  | NA | NA | NA | 64 | NA | NA | NA | 2 | 64 |\n",
       "| 5 | 1002548 | 1  | NA | NA | NA | 62 | NA | NA | NA | 2 | 62 |\n",
       "| 6 | 1002888 | 1  | NA | NA | NA | 68 | NA | NA | NA | 2 | 68 |\n",
       "\n"
      ],
      "text/plain": [
       "  IID     f.3393.0.0_recode f.3393.1.0_recode f.3393.2.0_recode\n",
       "1 1000112 NA                NA                1                \n",
       "2 1001067 1                 NA                NA               \n",
       "3 1001384 1                 NA                NA               \n",
       "4 1001459 1                 NA                NA               \n",
       "5 1002548 1                 NA                NA               \n",
       "6 1002888 1                 NA                NA               \n",
       "  f.3393.3.0_recode f.21003.0.0 f.21003.1.0 f.21003.2.0 f.21003.3.0 visit_idx\n",
       "1 NA                58          NA          68          NA          4        \n",
       "2 NA                50          NA          NA          NA          2        \n",
       "3 NA                61          NA          NA          NA          2        \n",
       "4 NA                64          NA          NA          NA          2        \n",
       "5 NA                62          NA          NA          NA          2        \n",
       "6 NA                68          NA          NA          NA          2        \n",
       "  age_final_aid\n",
       "1 68           \n",
       "2 50           \n",
       "3 61           \n",
       "4 64           \n",
       "5 62           \n",
       "6 68           "
      ]
     },
     "metadata": {},
     "output_type": "display_data"
    },
    {
     "data": {
      "text/plain": [
       "   Min. 1st Qu.  Median    Mean 3rd Qu.    Max. \n",
       "  40.00   61.00   65.00   63.83   68.00   81.00 "
      ]
     },
     "metadata": {},
     "output_type": "display_data"
    }
   ],
   "source": [
    "# Define offset:\n",
    "# offset: refers to the # of columns between the first age column (i.e.f.21003.0.0) and the first recode column (i.e.f.3393.0.0_recode)\n",
    "offset = which(colnames(aid_age_cases) == 'f.21003.0.0') - which(colnames(aid_age_cases) == 'f.3393.0.0_recode')\n",
    "\n",
    "# Define the function to extract the first time they said yes for cases \n",
    "f=get_age_func <- function(x) {\n",
    "  visit_index=x[which(colnames(aid_age_cases)==\"visit_idx\")]\n",
    "  index=min(unlist(visit_index))+offset\n",
    "  age=x[index]\n",
    "  final_age=unlist(age)\n",
    "  if(is.null(final_age))\n",
    "  {final_age<-NA}\n",
    "  return(final_age)\n",
    "}\n",
    "\n",
    "# Get the final age for cases\n",
    "aid_age_cases$age_final_aid = apply(aid_age_cases, 1, f)\n",
    "\n",
    "# Show first 6 rows\n",
    "head(aid_age_cases)\n",
    "summary(aid_age_cases$age_final_aid)"
   ]
  },
  {
   "cell_type": "code",
   "execution_count": 30,
   "metadata": {
    "kernel": "R"
   },
   "outputs": [
    {
     "data": {
      "text/html": [
       "<table>\n",
       "<caption>A data.frame: 6 × 9</caption>\n",
       "<thead>\n",
       "\t<tr><th></th><th scope=col>IID</th><th scope=col>f.3393.0.0_recode</th><th scope=col>f.3393.1.0_recode</th><th scope=col>f.3393.2.0_recode</th><th scope=col>f.3393.3.0_recode</th><th scope=col>f.21003.0.0</th><th scope=col>f.21003.1.0</th><th scope=col>f.21003.2.0</th><th scope=col>f.21003.3.0</th></tr>\n",
       "\t<tr><th></th><th scope=col>&lt;int&gt;</th><th scope=col>&lt;fct&gt;</th><th scope=col>&lt;fct&gt;</th><th scope=col>&lt;fct&gt;</th><th scope=col>&lt;fct&gt;</th><th scope=col>&lt;int&gt;</th><th scope=col>&lt;int&gt;</th><th scope=col>&lt;int&gt;</th><th scope=col>&lt;int&gt;</th></tr>\n",
       "</thead>\n",
       "<tbody>\n",
       "\t<tr><th scope=row>1</th><td>1000019</td><td>0 </td><td>NA</td><td>NA</td><td>NA</td><td>47</td><td>NA</td><td>NA</td><td>NA</td></tr>\n",
       "\t<tr><th scope=row>2</th><td>1000022</td><td>0 </td><td>NA</td><td>NA</td><td>NA</td><td>53</td><td>NA</td><td>NA</td><td>NA</td></tr>\n",
       "\t<tr><th scope=row>3</th><td>1000035</td><td>0 </td><td>NA</td><td>NA</td><td>NA</td><td>63</td><td>NA</td><td>NA</td><td>NA</td></tr>\n",
       "\t<tr><th scope=row>4</th><td>1000046</td><td>NA</td><td>NA</td><td>0 </td><td>NA</td><td>62</td><td>NA</td><td>73</td><td>NA</td></tr>\n",
       "\t<tr><th scope=row>5</th><td>1000054</td><td>0 </td><td>NA</td><td>NA</td><td>NA</td><td>65</td><td>NA</td><td>NA</td><td>NA</td></tr>\n",
       "\t<tr><th scope=row>6</th><td>1000063</td><td>0 </td><td>NA</td><td>NA</td><td>NA</td><td>43</td><td>NA</td><td>NA</td><td>NA</td></tr>\n",
       "</tbody>\n",
       "</table>\n"
      ],
      "text/latex": [
       "A data.frame: 6 × 9\n",
       "\\begin{tabular}{r|lllllllll}\n",
       "  & IID & f.3393.0.0\\_recode & f.3393.1.0\\_recode & f.3393.2.0\\_recode & f.3393.3.0\\_recode & f.21003.0.0 & f.21003.1.0 & f.21003.2.0 & f.21003.3.0\\\\\n",
       "  & <int> & <fct> & <fct> & <fct> & <fct> & <int> & <int> & <int> & <int>\\\\\n",
       "\\hline\n",
       "\t1 & 1000019 & 0  & NA & NA & NA & 47 & NA & NA & NA\\\\\n",
       "\t2 & 1000022 & 0  & NA & NA & NA & 53 & NA & NA & NA\\\\\n",
       "\t3 & 1000035 & 0  & NA & NA & NA & 63 & NA & NA & NA\\\\\n",
       "\t4 & 1000046 & NA & NA & 0  & NA & 62 & NA & 73 & NA\\\\\n",
       "\t5 & 1000054 & 0  & NA & NA & NA & 65 & NA & NA & NA\\\\\n",
       "\t6 & 1000063 & 0  & NA & NA & NA & 43 & NA & NA & NA\\\\\n",
       "\\end{tabular}\n"
      ],
      "text/markdown": [
       "\n",
       "A data.frame: 6 × 9\n",
       "\n",
       "| <!--/--> | IID &lt;int&gt; | f.3393.0.0_recode &lt;fct&gt; | f.3393.1.0_recode &lt;fct&gt; | f.3393.2.0_recode &lt;fct&gt; | f.3393.3.0_recode &lt;fct&gt; | f.21003.0.0 &lt;int&gt; | f.21003.1.0 &lt;int&gt; | f.21003.2.0 &lt;int&gt; | f.21003.3.0 &lt;int&gt; |\n",
       "|---|---|---|---|---|---|---|---|---|---|\n",
       "| 1 | 1000019 | 0  | NA | NA | NA | 47 | NA | NA | NA |\n",
       "| 2 | 1000022 | 0  | NA | NA | NA | 53 | NA | NA | NA |\n",
       "| 3 | 1000035 | 0  | NA | NA | NA | 63 | NA | NA | NA |\n",
       "| 4 | 1000046 | NA | NA | 0  | NA | 62 | NA | 73 | NA |\n",
       "| 5 | 1000054 | 0  | NA | NA | NA | 65 | NA | NA | NA |\n",
       "| 6 | 1000063 | 0  | NA | NA | NA | 43 | NA | NA | NA |\n",
       "\n"
      ],
      "text/plain": [
       "  IID     f.3393.0.0_recode f.3393.1.0_recode f.3393.2.0_recode\n",
       "1 1000019 0                 NA                NA               \n",
       "2 1000022 0                 NA                NA               \n",
       "3 1000035 0                 NA                NA               \n",
       "4 1000046 NA                NA                0                \n",
       "5 1000054 0                 NA                NA               \n",
       "6 1000063 0                 NA                NA               \n",
       "  f.3393.3.0_recode f.21003.0.0 f.21003.1.0 f.21003.2.0 f.21003.3.0\n",
       "1 NA                47          NA          NA          NA         \n",
       "2 NA                53          NA          NA          NA         \n",
       "3 NA                63          NA          NA          NA         \n",
       "4 NA                62          NA          73          NA         \n",
       "5 NA                65          NA          NA          NA         \n",
       "6 NA                43          NA          NA          NA         "
      ]
     },
     "metadata": {},
     "output_type": "display_data"
    }
   ],
   "source": [
    "### Extract age for Control (3393)\n",
    "aid_age_control <- hearing_aid %>% \n",
    "  filter(hearing_aid_cat == \"0\") %>%\n",
    "  select(IID, f.3393.0.0_recode, f.3393.1.0_recode, f.3393.2.0_recode, f.3393.3.0_recode, f.21003.0.0, f.21003.1.0, f.21003.2.0, f.21003.3.0)\n",
    "head(aid_age_control)"
   ]
  },
  {
   "cell_type": "code",
   "execution_count": 31,
   "metadata": {
    "kernel": "R"
   },
   "outputs": [
    {
     "data": {
      "text/html": [
       "<table>\n",
       "<caption>A data.frame: 6 × 11</caption>\n",
       "<thead>\n",
       "\t<tr><th></th><th scope=col>IID</th><th scope=col>f.3393.0.0_recode</th><th scope=col>f.3393.1.0_recode</th><th scope=col>f.3393.2.0_recode</th><th scope=col>f.3393.3.0_recode</th><th scope=col>f.21003.0.0</th><th scope=col>f.21003.1.0</th><th scope=col>f.21003.2.0</th><th scope=col>f.21003.3.0</th><th scope=col>visit_idx</th><th scope=col>age_final_aid</th></tr>\n",
       "\t<tr><th></th><th scope=col>&lt;int&gt;</th><th scope=col>&lt;fct&gt;</th><th scope=col>&lt;fct&gt;</th><th scope=col>&lt;fct&gt;</th><th scope=col>&lt;fct&gt;</th><th scope=col>&lt;int&gt;</th><th scope=col>&lt;int&gt;</th><th scope=col>&lt;int&gt;</th><th scope=col>&lt;int&gt;</th><th scope=col>&lt;list&gt;</th><th scope=col>&lt;int&gt;</th></tr>\n",
       "</thead>\n",
       "<tbody>\n",
       "\t<tr><th scope=row>1</th><td>1000019</td><td>0 </td><td>NA</td><td>NA</td><td>NA</td><td>47</td><td>NA</td><td>NA</td><td>NA</td><td>2</td><td>47</td></tr>\n",
       "\t<tr><th scope=row>2</th><td>1000022</td><td>0 </td><td>NA</td><td>NA</td><td>NA</td><td>53</td><td>NA</td><td>NA</td><td>NA</td><td>2</td><td>53</td></tr>\n",
       "\t<tr><th scope=row>3</th><td>1000035</td><td>0 </td><td>NA</td><td>NA</td><td>NA</td><td>63</td><td>NA</td><td>NA</td><td>NA</td><td>2</td><td>63</td></tr>\n",
       "\t<tr><th scope=row>4</th><td>1000046</td><td>NA</td><td>NA</td><td>0 </td><td>NA</td><td>62</td><td>NA</td><td>73</td><td>NA</td><td>4</td><td>73</td></tr>\n",
       "\t<tr><th scope=row>5</th><td>1000054</td><td>0 </td><td>NA</td><td>NA</td><td>NA</td><td>65</td><td>NA</td><td>NA</td><td>NA</td><td>2</td><td>65</td></tr>\n",
       "\t<tr><th scope=row>6</th><td>1000063</td><td>0 </td><td>NA</td><td>NA</td><td>NA</td><td>43</td><td>NA</td><td>NA</td><td>NA</td><td>2</td><td>43</td></tr>\n",
       "</tbody>\n",
       "</table>\n"
      ],
      "text/latex": [
       "A data.frame: 6 × 11\n",
       "\\begin{tabular}{r|lllllllllll}\n",
       "  & IID & f.3393.0.0\\_recode & f.3393.1.0\\_recode & f.3393.2.0\\_recode & f.3393.3.0\\_recode & f.21003.0.0 & f.21003.1.0 & f.21003.2.0 & f.21003.3.0 & visit\\_idx & age\\_final\\_aid\\\\\n",
       "  & <int> & <fct> & <fct> & <fct> & <fct> & <int> & <int> & <int> & <int> & <list> & <int>\\\\\n",
       "\\hline\n",
       "\t1 & 1000019 & 0  & NA & NA & NA & 47 & NA & NA & NA & 2 & 47\\\\\n",
       "\t2 & 1000022 & 0  & NA & NA & NA & 53 & NA & NA & NA & 2 & 53\\\\\n",
       "\t3 & 1000035 & 0  & NA & NA & NA & 63 & NA & NA & NA & 2 & 63\\\\\n",
       "\t4 & 1000046 & NA & NA & 0  & NA & 62 & NA & 73 & NA & 4 & 73\\\\\n",
       "\t5 & 1000054 & 0  & NA & NA & NA & 65 & NA & NA & NA & 2 & 65\\\\\n",
       "\t6 & 1000063 & 0  & NA & NA & NA & 43 & NA & NA & NA & 2 & 43\\\\\n",
       "\\end{tabular}\n"
      ],
      "text/markdown": [
       "\n",
       "A data.frame: 6 × 11\n",
       "\n",
       "| <!--/--> | IID &lt;int&gt; | f.3393.0.0_recode &lt;fct&gt; | f.3393.1.0_recode &lt;fct&gt; | f.3393.2.0_recode &lt;fct&gt; | f.3393.3.0_recode &lt;fct&gt; | f.21003.0.0 &lt;int&gt; | f.21003.1.0 &lt;int&gt; | f.21003.2.0 &lt;int&gt; | f.21003.3.0 &lt;int&gt; | visit_idx &lt;list&gt; | age_final_aid &lt;int&gt; |\n",
       "|---|---|---|---|---|---|---|---|---|---|---|---|\n",
       "| 1 | 1000019 | 0  | NA | NA | NA | 47 | NA | NA | NA | 2 | 47 |\n",
       "| 2 | 1000022 | 0  | NA | NA | NA | 53 | NA | NA | NA | 2 | 53 |\n",
       "| 3 | 1000035 | 0  | NA | NA | NA | 63 | NA | NA | NA | 2 | 63 |\n",
       "| 4 | 1000046 | NA | NA | 0  | NA | 62 | NA | 73 | NA | 4 | 73 |\n",
       "| 5 | 1000054 | 0  | NA | NA | NA | 65 | NA | NA | NA | 2 | 65 |\n",
       "| 6 | 1000063 | 0  | NA | NA | NA | 43 | NA | NA | NA | 2 | 43 |\n",
       "\n"
      ],
      "text/plain": [
       "  IID     f.3393.0.0_recode f.3393.1.0_recode f.3393.2.0_recode\n",
       "1 1000019 0                 NA                NA               \n",
       "2 1000022 0                 NA                NA               \n",
       "3 1000035 0                 NA                NA               \n",
       "4 1000046 NA                NA                0                \n",
       "5 1000054 0                 NA                NA               \n",
       "6 1000063 0                 NA                NA               \n",
       "  f.3393.3.0_recode f.21003.0.0 f.21003.1.0 f.21003.2.0 f.21003.3.0 visit_idx\n",
       "1 NA                47          NA          NA          NA          2        \n",
       "2 NA                53          NA          NA          NA          2        \n",
       "3 NA                63          NA          NA          NA          2        \n",
       "4 NA                62          NA          73          NA          4        \n",
       "5 NA                65          NA          NA          NA          2        \n",
       "6 NA                43          NA          NA          NA          2        \n",
       "  age_final_aid\n",
       "1 47           \n",
       "2 53           \n",
       "3 63           \n",
       "4 73           \n",
       "5 65           \n",
       "6 43           "
      ]
     },
     "metadata": {},
     "output_type": "display_data"
    },
    {
     "data": {
      "text/plain": [
       "   Min. 1st Qu.  Median    Mean 3rd Qu.    Max. \n",
       "   39.0    53.0    60.0    58.6    65.0    82.0 "
      ]
     },
     "metadata": {},
     "output_type": "display_data"
    }
   ],
   "source": [
    "# Get the # of column where last replied No:\n",
    "aid_age_control$visit_idx = apply(aid_age_control, 1, function(x) unlist(which(x == '0')))\n",
    "\n",
    "# Define offset:\n",
    "# offset: refers to the # of columns between the first age column (i.e.f.21003.0.0) and the first recode column (i.e.f.3393.0.0_recode)\n",
    "offset = which(colnames(aid_age_control) == 'f.21003.0.0') - which(colnames(aid_age_control) == 'f.3393.0.0_recode')\n",
    "\n",
    "# Define the function to extract the last time they said no for control\n",
    "\n",
    "f=get_age_func <- function(x) {\n",
    "  visit_index=x[which(colnames(aid_age_control)==\"visit_idx\")]\n",
    "  index=max(unlist(visit_index))+offset\n",
    "  age=x[index]\n",
    "  age=unlist(age)\n",
    "  return(age)\n",
    "}\n",
    "\n",
    "# Get the final age for controls\n",
    "aid_age_control$age_final_aid = apply(aid_age_control, 1, f)\n",
    "\n",
    "# Show first 6 rows\n",
    "head(aid_age_control)\n",
    "summary(aid_age_control$age_final_aid)"
   ]
  },
  {
   "cell_type": "code",
   "execution_count": 32,
   "metadata": {
    "kernel": "R"
   },
   "outputs": [
    {
     "data": {
      "text/html": [
       "<style>\n",
       ".list-inline {list-style: none; margin:0; padding: 0}\n",
       ".list-inline>li {display: inline-block}\n",
       ".list-inline>li:not(:last-child)::after {content: \"\\00b7\"; padding: 0 .5ex}\n",
       "</style>\n",
       "<ol class=list-inline><li>230411</li><li>11</li></ol>\n"
      ],
      "text/latex": [
       "\\begin{enumerate*}\n",
       "\\item 230411\n",
       "\\item 11\n",
       "\\end{enumerate*}\n"
      ],
      "text/markdown": [
       "1. 230411\n",
       "2. 11\n",
       "\n",
       "\n"
      ],
      "text/plain": [
       "[1] 230411     11"
      ]
     },
     "metadata": {},
     "output_type": "display_data"
    },
    {
     "data": {
      "text/html": [
       "<table>\n",
       "<caption>A data.frame: 6 × 11</caption>\n",
       "<thead>\n",
       "\t<tr><th></th><th scope=col>IID</th><th scope=col>f.3393.0.0_recode</th><th scope=col>f.3393.1.0_recode</th><th scope=col>f.3393.2.0_recode</th><th scope=col>f.3393.3.0_recode</th><th scope=col>f.21003.0.0</th><th scope=col>f.21003.1.0</th><th scope=col>f.21003.2.0</th><th scope=col>f.21003.3.0</th><th scope=col>visit_idx</th><th scope=col>age_final_aid</th></tr>\n",
       "\t<tr><th></th><th scope=col>&lt;int&gt;</th><th scope=col>&lt;fct&gt;</th><th scope=col>&lt;fct&gt;</th><th scope=col>&lt;fct&gt;</th><th scope=col>&lt;fct&gt;</th><th scope=col>&lt;int&gt;</th><th scope=col>&lt;int&gt;</th><th scope=col>&lt;int&gt;</th><th scope=col>&lt;int&gt;</th><th scope=col>&lt;list&gt;</th><th scope=col>&lt;int&gt;</th></tr>\n",
       "</thead>\n",
       "<tbody>\n",
       "\t<tr><th scope=row>1</th><td>1000112</td><td>NA</td><td>NA</td><td>1 </td><td>NA</td><td>58</td><td>NA</td><td>68</td><td>NA</td><td>4</td><td>68</td></tr>\n",
       "\t<tr><th scope=row>2</th><td>1001067</td><td>1 </td><td>NA</td><td>NA</td><td>NA</td><td>50</td><td>NA</td><td>NA</td><td>NA</td><td>2</td><td>50</td></tr>\n",
       "\t<tr><th scope=row>3</th><td>1001384</td><td>1 </td><td>NA</td><td>NA</td><td>NA</td><td>61</td><td>NA</td><td>NA</td><td>NA</td><td>2</td><td>61</td></tr>\n",
       "\t<tr><th scope=row>4</th><td>1001459</td><td>1 </td><td>NA</td><td>NA</td><td>NA</td><td>64</td><td>NA</td><td>NA</td><td>NA</td><td>2</td><td>64</td></tr>\n",
       "\t<tr><th scope=row>5</th><td>1002548</td><td>1 </td><td>NA</td><td>NA</td><td>NA</td><td>62</td><td>NA</td><td>NA</td><td>NA</td><td>2</td><td>62</td></tr>\n",
       "\t<tr><th scope=row>6</th><td>1002888</td><td>1 </td><td>NA</td><td>NA</td><td>NA</td><td>68</td><td>NA</td><td>NA</td><td>NA</td><td>2</td><td>68</td></tr>\n",
       "</tbody>\n",
       "</table>\n"
      ],
      "text/latex": [
       "A data.frame: 6 × 11\n",
       "\\begin{tabular}{r|lllllllllll}\n",
       "  & IID & f.3393.0.0\\_recode & f.3393.1.0\\_recode & f.3393.2.0\\_recode & f.3393.3.0\\_recode & f.21003.0.0 & f.21003.1.0 & f.21003.2.0 & f.21003.3.0 & visit\\_idx & age\\_final\\_aid\\\\\n",
       "  & <int> & <fct> & <fct> & <fct> & <fct> & <int> & <int> & <int> & <int> & <list> & <int>\\\\\n",
       "\\hline\n",
       "\t1 & 1000112 & NA & NA & 1  & NA & 58 & NA & 68 & NA & 4 & 68\\\\\n",
       "\t2 & 1001067 & 1  & NA & NA & NA & 50 & NA & NA & NA & 2 & 50\\\\\n",
       "\t3 & 1001384 & 1  & NA & NA & NA & 61 & NA & NA & NA & 2 & 61\\\\\n",
       "\t4 & 1001459 & 1  & NA & NA & NA & 64 & NA & NA & NA & 2 & 64\\\\\n",
       "\t5 & 1002548 & 1  & NA & NA & NA & 62 & NA & NA & NA & 2 & 62\\\\\n",
       "\t6 & 1002888 & 1  & NA & NA & NA & 68 & NA & NA & NA & 2 & 68\\\\\n",
       "\\end{tabular}\n"
      ],
      "text/markdown": [
       "\n",
       "A data.frame: 6 × 11\n",
       "\n",
       "| <!--/--> | IID &lt;int&gt; | f.3393.0.0_recode &lt;fct&gt; | f.3393.1.0_recode &lt;fct&gt; | f.3393.2.0_recode &lt;fct&gt; | f.3393.3.0_recode &lt;fct&gt; | f.21003.0.0 &lt;int&gt; | f.21003.1.0 &lt;int&gt; | f.21003.2.0 &lt;int&gt; | f.21003.3.0 &lt;int&gt; | visit_idx &lt;list&gt; | age_final_aid &lt;int&gt; |\n",
       "|---|---|---|---|---|---|---|---|---|---|---|---|\n",
       "| 1 | 1000112 | NA | NA | 1  | NA | 58 | NA | 68 | NA | 4 | 68 |\n",
       "| 2 | 1001067 | 1  | NA | NA | NA | 50 | NA | NA | NA | 2 | 50 |\n",
       "| 3 | 1001384 | 1  | NA | NA | NA | 61 | NA | NA | NA | 2 | 61 |\n",
       "| 4 | 1001459 | 1  | NA | NA | NA | 64 | NA | NA | NA | 2 | 64 |\n",
       "| 5 | 1002548 | 1  | NA | NA | NA | 62 | NA | NA | NA | 2 | 62 |\n",
       "| 6 | 1002888 | 1  | NA | NA | NA | 68 | NA | NA | NA | 2 | 68 |\n",
       "\n"
      ],
      "text/plain": [
       "  IID     f.3393.0.0_recode f.3393.1.0_recode f.3393.2.0_recode\n",
       "1 1000112 NA                NA                1                \n",
       "2 1001067 1                 NA                NA               \n",
       "3 1001384 1                 NA                NA               \n",
       "4 1001459 1                 NA                NA               \n",
       "5 1002548 1                 NA                NA               \n",
       "6 1002888 1                 NA                NA               \n",
       "  f.3393.3.0_recode f.21003.0.0 f.21003.1.0 f.21003.2.0 f.21003.3.0 visit_idx\n",
       "1 NA                58          NA          68          NA          4        \n",
       "2 NA                50          NA          NA          NA          2        \n",
       "3 NA                61          NA          NA          NA          2        \n",
       "4 NA                64          NA          NA          NA          2        \n",
       "5 NA                62          NA          NA          NA          2        \n",
       "6 NA                68          NA          NA          NA          2        \n",
       "  age_final_aid\n",
       "1 68           \n",
       "2 50           \n",
       "3 61           \n",
       "4 64           \n",
       "5 62           \n",
       "6 68           "
      ]
     },
     "metadata": {},
     "output_type": "display_data"
    }
   ],
   "source": [
    "# Merge age_cases and age_controls\n",
    "hearing_aid_age <- rbind(aid_age_cases, aid_age_control) \n",
    "dim(hearing_aid_age)\n",
    "head(hearing_aid_age)"
   ]
  },
  {
   "cell_type": "code",
   "execution_count": 33,
   "metadata": {
    "kernel": "R"
   },
   "outputs": [
    {
     "data": {
      "text/html": [
       "<table>\n",
       "<caption>A data.frame: 6 × 14</caption>\n",
       "<thead>\n",
       "\t<tr><th></th><th scope=col>IID</th><th scope=col>FID</th><th scope=col>f.22001.0.0</th><th scope=col>f.21003.0.0</th><th scope=col>f.21003.1.0</th><th scope=col>f.21003.2.0</th><th scope=col>f.21003.3.0</th><th scope=col>f.3393.0.0_recode</th><th scope=col>f.3393.1.0_recode</th><th scope=col>f.3393.2.0_recode</th><th scope=col>f.3393.3.0_recode</th><th scope=col>cases</th><th scope=col>hearing_aid_cat</th><th scope=col>age_final_aid</th></tr>\n",
       "\t<tr><th></th><th scope=col>&lt;int&gt;</th><th scope=col>&lt;int&gt;</th><th scope=col>&lt;fct&gt;</th><th scope=col>&lt;int&gt;</th><th scope=col>&lt;int&gt;</th><th scope=col>&lt;int&gt;</th><th scope=col>&lt;int&gt;</th><th scope=col>&lt;fct&gt;</th><th scope=col>&lt;fct&gt;</th><th scope=col>&lt;fct&gt;</th><th scope=col>&lt;fct&gt;</th><th scope=col>&lt;lgl&gt;</th><th scope=col>&lt;int&gt;</th><th scope=col>&lt;int&gt;</th></tr>\n",
       "</thead>\n",
       "<tbody>\n",
       "\t<tr><th scope=row>1</th><td>1000019</td><td>1000019</td><td>Female</td><td>47</td><td>NA</td><td>NA</td><td>NA</td><td>0 </td><td>NA</td><td>NA</td><td>NA</td><td>FALSE</td><td>0</td><td>47</td></tr>\n",
       "\t<tr><th scope=row>2</th><td>1000022</td><td>1000022</td><td>Male  </td><td>53</td><td>NA</td><td>NA</td><td>NA</td><td>0 </td><td>NA</td><td>NA</td><td>NA</td><td>FALSE</td><td>0</td><td>53</td></tr>\n",
       "\t<tr><th scope=row>3</th><td>1000035</td><td>1000035</td><td>Male  </td><td>63</td><td>NA</td><td>NA</td><td>NA</td><td>0 </td><td>NA</td><td>NA</td><td>NA</td><td>FALSE</td><td>0</td><td>63</td></tr>\n",
       "\t<tr><th scope=row>4</th><td>1000046</td><td>1000046</td><td>Female</td><td>62</td><td>NA</td><td>73</td><td>NA</td><td>NA</td><td>NA</td><td>0 </td><td>NA</td><td>FALSE</td><td>0</td><td>73</td></tr>\n",
       "\t<tr><th scope=row>5</th><td>1000054</td><td>1000054</td><td>Female</td><td>65</td><td>NA</td><td>NA</td><td>NA</td><td>0 </td><td>NA</td><td>NA</td><td>NA</td><td>FALSE</td><td>0</td><td>65</td></tr>\n",
       "\t<tr><th scope=row>6</th><td>1000063</td><td>1000063</td><td>Male  </td><td>43</td><td>NA</td><td>NA</td><td>NA</td><td>0 </td><td>NA</td><td>NA</td><td>NA</td><td>FALSE</td><td>0</td><td>43</td></tr>\n",
       "</tbody>\n",
       "</table>\n"
      ],
      "text/latex": [
       "A data.frame: 6 × 14\n",
       "\\begin{tabular}{r|llllllllllllll}\n",
       "  & IID & FID & f.22001.0.0 & f.21003.0.0 & f.21003.1.0 & f.21003.2.0 & f.21003.3.0 & f.3393.0.0\\_recode & f.3393.1.0\\_recode & f.3393.2.0\\_recode & f.3393.3.0\\_recode & cases & hearing\\_aid\\_cat & age\\_final\\_aid\\\\\n",
       "  & <int> & <int> & <fct> & <int> & <int> & <int> & <int> & <fct> & <fct> & <fct> & <fct> & <lgl> & <int> & <int>\\\\\n",
       "\\hline\n",
       "\t1 & 1000019 & 1000019 & Female & 47 & NA & NA & NA & 0  & NA & NA & NA & FALSE & 0 & 47\\\\\n",
       "\t2 & 1000022 & 1000022 & Male   & 53 & NA & NA & NA & 0  & NA & NA & NA & FALSE & 0 & 53\\\\\n",
       "\t3 & 1000035 & 1000035 & Male   & 63 & NA & NA & NA & 0  & NA & NA & NA & FALSE & 0 & 63\\\\\n",
       "\t4 & 1000046 & 1000046 & Female & 62 & NA & 73 & NA & NA & NA & 0  & NA & FALSE & 0 & 73\\\\\n",
       "\t5 & 1000054 & 1000054 & Female & 65 & NA & NA & NA & 0  & NA & NA & NA & FALSE & 0 & 65\\\\\n",
       "\t6 & 1000063 & 1000063 & Male   & 43 & NA & NA & NA & 0  & NA & NA & NA & FALSE & 0 & 43\\\\\n",
       "\\end{tabular}\n"
      ],
      "text/markdown": [
       "\n",
       "A data.frame: 6 × 14\n",
       "\n",
       "| <!--/--> | IID &lt;int&gt; | FID &lt;int&gt; | f.22001.0.0 &lt;fct&gt; | f.21003.0.0 &lt;int&gt; | f.21003.1.0 &lt;int&gt; | f.21003.2.0 &lt;int&gt; | f.21003.3.0 &lt;int&gt; | f.3393.0.0_recode &lt;fct&gt; | f.3393.1.0_recode &lt;fct&gt; | f.3393.2.0_recode &lt;fct&gt; | f.3393.3.0_recode &lt;fct&gt; | cases &lt;lgl&gt; | hearing_aid_cat &lt;int&gt; | age_final_aid &lt;int&gt; |\n",
       "|---|---|---|---|---|---|---|---|---|---|---|---|---|---|---|\n",
       "| 1 | 1000019 | 1000019 | Female | 47 | NA | NA | NA | 0  | NA | NA | NA | FALSE | 0 | 47 |\n",
       "| 2 | 1000022 | 1000022 | Male   | 53 | NA | NA | NA | 0  | NA | NA | NA | FALSE | 0 | 53 |\n",
       "| 3 | 1000035 | 1000035 | Male   | 63 | NA | NA | NA | 0  | NA | NA | NA | FALSE | 0 | 63 |\n",
       "| 4 | 1000046 | 1000046 | Female | 62 | NA | 73 | NA | NA | NA | 0  | NA | FALSE | 0 | 73 |\n",
       "| 5 | 1000054 | 1000054 | Female | 65 | NA | NA | NA | 0  | NA | NA | NA | FALSE | 0 | 65 |\n",
       "| 6 | 1000063 | 1000063 | Male   | 43 | NA | NA | NA | 0  | NA | NA | NA | FALSE | 0 | 43 |\n",
       "\n"
      ],
      "text/plain": [
       "  IID     FID     f.22001.0.0 f.21003.0.0 f.21003.1.0 f.21003.2.0 f.21003.3.0\n",
       "1 1000019 1000019 Female      47          NA          NA          NA         \n",
       "2 1000022 1000022 Male        53          NA          NA          NA         \n",
       "3 1000035 1000035 Male        63          NA          NA          NA         \n",
       "4 1000046 1000046 Female      62          NA          73          NA         \n",
       "5 1000054 1000054 Female      65          NA          NA          NA         \n",
       "6 1000063 1000063 Male        43          NA          NA          NA         \n",
       "  f.3393.0.0_recode f.3393.1.0_recode f.3393.2.0_recode f.3393.3.0_recode cases\n",
       "1 0                 NA                NA                NA                FALSE\n",
       "2 0                 NA                NA                NA                FALSE\n",
       "3 0                 NA                NA                NA                FALSE\n",
       "4 NA                NA                0                 NA                FALSE\n",
       "5 0                 NA                NA                NA                FALSE\n",
       "6 0                 NA                NA                NA                FALSE\n",
       "  hearing_aid_cat age_final_aid\n",
       "1 0               47           \n",
       "2 0               53           \n",
       "3 0               63           \n",
       "4 0               73           \n",
       "5 0               65           \n",
       "6 0               43           "
      ]
     },
     "metadata": {},
     "output_type": "display_data"
    }
   ],
   "source": [
    "hearing_cat_age = merge(x = hearing_aid ,y = hearing_aid_age [,c(\"IID\",\"age_final_aid\")],by=\"IID\", all.x=TRUE)\n",
    "head(hearing_cat_age)"
   ]
  },
  {
   "cell_type": "code",
   "execution_count": 34,
   "metadata": {
    "kernel": "R"
   },
   "outputs": [
    {
     "data": {
      "text/html": [
       "<style>\n",
       ".list-inline {list-style: none; margin:0; padding: 0}\n",
       ".list-inline>li {display: inline-block}\n",
       ".list-inline>li:not(:last-child)::after {content: \"\\00b7\"; padding: 0 .5ex}\n",
       "</style>\n",
       "<ol class=list-inline><li>354347</li><li>1089</li></ol>\n"
      ],
      "text/latex": [
       "\\begin{enumerate*}\n",
       "\\item 354347\n",
       "\\item 1089\n",
       "\\end{enumerate*}\n"
      ],
      "text/markdown": [
       "1. 354347\n",
       "2. 1089\n",
       "\n",
       "\n"
      ],
      "text/plain": [
       "[1] 354347   1089"
      ]
     },
     "metadata": {},
     "output_type": "display_data"
    },
    {
     "data": {
      "text/html": [
       "<table>\n",
       "<caption>A data.frame: 6 × 1089</caption>\n",
       "<thead>\n",
       "\t<tr><th></th><th scope=col>IID</th><th scope=col>FID</th><th scope=col>ignore1</th><th scope=col>ignore2</th><th scope=col>ignore3</th><th scope=col>ignore4</th><th scope=col>f.31.0.0</th><th scope=col>f.34.0.0</th><th scope=col>f.53.0.0</th><th scope=col>f.53.1.0</th><th scope=col>⋯</th><th scope=col>loud_music</th><th scope=col>noise_imp</th><th scope=col>music_imp</th><th scope=col>sex</th><th scope=col>f.3393.0.0_recode</th><th scope=col>f.3393.1.0_recode</th><th scope=col>f.3393.2.0_recode</th><th scope=col>f.3393.3.0_recode</th><th scope=col>hearing_aid_cat</th><th scope=col>age_final_aid</th></tr>\n",
       "\t<tr><th></th><th scope=col>&lt;int&gt;</th><th scope=col>&lt;int&gt;</th><th scope=col>&lt;int&gt;</th><th scope=col>&lt;int&gt;</th><th scope=col>&lt;int&gt;</th><th scope=col>&lt;int&gt;</th><th scope=col>&lt;fct&gt;</th><th scope=col>&lt;int&gt;</th><th scope=col>&lt;fct&gt;</th><th scope=col>&lt;fct&gt;</th><th scope=col>⋯</th><th scope=col>&lt;int&gt;</th><th scope=col>&lt;int&gt;</th><th scope=col>&lt;int&gt;</th><th scope=col>&lt;fct&gt;</th><th scope=col>&lt;fct&gt;</th><th scope=col>&lt;fct&gt;</th><th scope=col>&lt;fct&gt;</th><th scope=col>&lt;fct&gt;</th><th scope=col>&lt;int&gt;</th><th scope=col>&lt;int&gt;</th></tr>\n",
       "</thead>\n",
       "<tbody>\n",
       "\t<tr><th scope=row>1</th><td>1000019</td><td>1000019</td><td>0</td><td>0</td><td>2</td><td>-9</td><td>Female</td><td>1960</td><td>2008-01-24</td><td>NA</td><td>⋯</td><td>NA</td><td>NA</td><td>NA</td><td>1</td><td>0 </td><td>NA</td><td>NA</td><td>NA</td><td>0</td><td>47</td></tr>\n",
       "\t<tr><th scope=row>2</th><td>1000022</td><td>1000022</td><td>0</td><td>0</td><td>1</td><td>-9</td><td>Male  </td><td>1954</td><td>2008-01-22</td><td>NA</td><td>⋯</td><td>NA</td><td>NA</td><td>NA</td><td>0</td><td>0 </td><td>NA</td><td>NA</td><td>NA</td><td>0</td><td>53</td></tr>\n",
       "\t<tr><th scope=row>3</th><td>1000035</td><td>1000035</td><td>0</td><td>0</td><td>1</td><td>-9</td><td>Male  </td><td>1944</td><td>2007-11-08</td><td>NA</td><td>⋯</td><td>NA</td><td>NA</td><td>NA</td><td>0</td><td>0 </td><td>NA</td><td>NA</td><td>NA</td><td>0</td><td>63</td></tr>\n",
       "\t<tr><th scope=row>4</th><td>1000046</td><td>1000046</td><td>0</td><td>0</td><td>2</td><td>-9</td><td>Female</td><td>1946</td><td>2008-12-01</td><td>NA</td><td>⋯</td><td> 0</td><td> 0</td><td> 0</td><td>1</td><td>NA</td><td>NA</td><td>0 </td><td>NA</td><td>0</td><td>73</td></tr>\n",
       "\t<tr><th scope=row>5</th><td>1000054</td><td>1000054</td><td>0</td><td>0</td><td>2</td><td>-9</td><td>Female</td><td>1942</td><td>2007-11-23</td><td>NA</td><td>⋯</td><td>NA</td><td>NA</td><td>NA</td><td>1</td><td>0 </td><td>NA</td><td>NA</td><td>NA</td><td>0</td><td>65</td></tr>\n",
       "\t<tr><th scope=row>6</th><td>1000063</td><td>1000063</td><td>0</td><td>0</td><td>1</td><td>-9</td><td>Male  </td><td>1967</td><td>2010-06-26</td><td>NA</td><td>⋯</td><td> 0</td><td> 0</td><td> 0</td><td>0</td><td>0 </td><td>NA</td><td>NA</td><td>NA</td><td>0</td><td>43</td></tr>\n",
       "</tbody>\n",
       "</table>\n"
      ],
      "text/latex": [
       "A data.frame: 6 × 1089\n",
       "\\begin{tabular}{r|lllllllllllllllllllll}\n",
       "  & IID & FID & ignore1 & ignore2 & ignore3 & ignore4 & f.31.0.0 & f.34.0.0 & f.53.0.0 & f.53.1.0 & ⋯ & loud\\_music & noise\\_imp & music\\_imp & sex & f.3393.0.0\\_recode & f.3393.1.0\\_recode & f.3393.2.0\\_recode & f.3393.3.0\\_recode & hearing\\_aid\\_cat & age\\_final\\_aid\\\\\n",
       "  & <int> & <int> & <int> & <int> & <int> & <int> & <fct> & <int> & <fct> & <fct> & ⋯ & <int> & <int> & <int> & <fct> & <fct> & <fct> & <fct> & <fct> & <int> & <int>\\\\\n",
       "\\hline\n",
       "\t1 & 1000019 & 1000019 & 0 & 0 & 2 & -9 & Female & 1960 & 2008-01-24 & NA & ⋯ & NA & NA & NA & 1 & 0  & NA & NA & NA & 0 & 47\\\\\n",
       "\t2 & 1000022 & 1000022 & 0 & 0 & 1 & -9 & Male   & 1954 & 2008-01-22 & NA & ⋯ & NA & NA & NA & 0 & 0  & NA & NA & NA & 0 & 53\\\\\n",
       "\t3 & 1000035 & 1000035 & 0 & 0 & 1 & -9 & Male   & 1944 & 2007-11-08 & NA & ⋯ & NA & NA & NA & 0 & 0  & NA & NA & NA & 0 & 63\\\\\n",
       "\t4 & 1000046 & 1000046 & 0 & 0 & 2 & -9 & Female & 1946 & 2008-12-01 & NA & ⋯ &  0 &  0 &  0 & 1 & NA & NA & 0  & NA & 0 & 73\\\\\n",
       "\t5 & 1000054 & 1000054 & 0 & 0 & 2 & -9 & Female & 1942 & 2007-11-23 & NA & ⋯ & NA & NA & NA & 1 & 0  & NA & NA & NA & 0 & 65\\\\\n",
       "\t6 & 1000063 & 1000063 & 0 & 0 & 1 & -9 & Male   & 1967 & 2010-06-26 & NA & ⋯ &  0 &  0 &  0 & 0 & 0  & NA & NA & NA & 0 & 43\\\\\n",
       "\\end{tabular}\n"
      ],
      "text/markdown": [
       "\n",
       "A data.frame: 6 × 1089\n",
       "\n",
       "| <!--/--> | IID &lt;int&gt; | FID &lt;int&gt; | ignore1 &lt;int&gt; | ignore2 &lt;int&gt; | ignore3 &lt;int&gt; | ignore4 &lt;int&gt; | f.31.0.0 &lt;fct&gt; | f.34.0.0 &lt;int&gt; | f.53.0.0 &lt;fct&gt; | f.53.1.0 &lt;fct&gt; | ⋯ ⋯ | loud_music &lt;int&gt; | noise_imp &lt;int&gt; | music_imp &lt;int&gt; | sex &lt;fct&gt; | f.3393.0.0_recode &lt;fct&gt; | f.3393.1.0_recode &lt;fct&gt; | f.3393.2.0_recode &lt;fct&gt; | f.3393.3.0_recode &lt;fct&gt; | hearing_aid_cat &lt;int&gt; | age_final_aid &lt;int&gt; |\n",
       "|---|---|---|---|---|---|---|---|---|---|---|---|---|---|---|---|---|---|---|---|---|---|\n",
       "| 1 | 1000019 | 1000019 | 0 | 0 | 2 | -9 | Female | 1960 | 2008-01-24 | NA | ⋯ | NA | NA | NA | 1 | 0  | NA | NA | NA | 0 | 47 |\n",
       "| 2 | 1000022 | 1000022 | 0 | 0 | 1 | -9 | Male   | 1954 | 2008-01-22 | NA | ⋯ | NA | NA | NA | 0 | 0  | NA | NA | NA | 0 | 53 |\n",
       "| 3 | 1000035 | 1000035 | 0 | 0 | 1 | -9 | Male   | 1944 | 2007-11-08 | NA | ⋯ | NA | NA | NA | 0 | 0  | NA | NA | NA | 0 | 63 |\n",
       "| 4 | 1000046 | 1000046 | 0 | 0 | 2 | -9 | Female | 1946 | 2008-12-01 | NA | ⋯ |  0 |  0 |  0 | 1 | NA | NA | 0  | NA | 0 | 73 |\n",
       "| 5 | 1000054 | 1000054 | 0 | 0 | 2 | -9 | Female | 1942 | 2007-11-23 | NA | ⋯ | NA | NA | NA | 1 | 0  | NA | NA | NA | 0 | 65 |\n",
       "| 6 | 1000063 | 1000063 | 0 | 0 | 1 | -9 | Male   | 1967 | 2010-06-26 | NA | ⋯ |  0 |  0 |  0 | 0 | 0  | NA | NA | NA | 0 | 43 |\n",
       "\n"
      ],
      "text/plain": [
       "  IID     FID     ignore1 ignore2 ignore3 ignore4 f.31.0.0 f.34.0.0 f.53.0.0  \n",
       "1 1000019 1000019 0       0       2       -9      Female   1960     2008-01-24\n",
       "2 1000022 1000022 0       0       1       -9      Male     1954     2008-01-22\n",
       "3 1000035 1000035 0       0       1       -9      Male     1944     2007-11-08\n",
       "4 1000046 1000046 0       0       2       -9      Female   1946     2008-12-01\n",
       "5 1000054 1000054 0       0       2       -9      Female   1942     2007-11-23\n",
       "6 1000063 1000063 0       0       1       -9      Male     1967     2010-06-26\n",
       "  f.53.1.0 ⋯ loud_music noise_imp music_imp sex f.3393.0.0_recode\n",
       "1 NA       ⋯ NA         NA        NA        1   0                \n",
       "2 NA       ⋯ NA         NA        NA        0   0                \n",
       "3 NA       ⋯ NA         NA        NA        0   0                \n",
       "4 NA       ⋯  0          0         0        1   NA               \n",
       "5 NA       ⋯ NA         NA        NA        1   0                \n",
       "6 NA       ⋯  0          0         0        0   0                \n",
       "  f.3393.1.0_recode f.3393.2.0_recode f.3393.3.0_recode hearing_aid_cat\n",
       "1 NA                NA                NA                0              \n",
       "2 NA                NA                NA                0              \n",
       "3 NA                NA                NA                0              \n",
       "4 NA                0                 NA                0              \n",
       "5 NA                NA                NA                0              \n",
       "6 NA                NA                NA                0              \n",
       "  age_final_aid\n",
       "1 47           \n",
       "2 53           \n",
       "3 63           \n",
       "4 73           \n",
       "5 65           \n",
       "6 43           "
      ]
     },
     "metadata": {},
     "output_type": "display_data"
    }
   ],
   "source": [
    "#Merge with complete database keep the all the rows from original db\n",
    "df_3393 = merge(x = df.final.imp, y = hearing_cat_age [,c(\"IID\",\"hearing_aid_cat\",\"age_final_aid\")],by=\"IID\", all.x=TRUE)\n",
    "dim(df_3393)\n",
    "head(df_3393)"
   ]
  },
  {
   "cell_type": "markdown",
   "metadata": {
    "kernel": "R"
   },
   "source": [
    "## Export file for hearing aid analysis f.3393"
   ]
  },
  {
   "cell_type": "code",
   "execution_count": 35,
   "metadata": {
    "kernel": "R"
   },
   "outputs": [
    {
     "data": {
      "text/html": [
       "<table>\n",
       "<caption>A data.frame: 6 × 5</caption>\n",
       "<thead>\n",
       "\t<tr><th></th><th scope=col>FID</th><th scope=col>IID</th><th scope=col>age_final_aid</th><th scope=col>sex</th><th scope=col>hearing_aid_cat</th></tr>\n",
       "\t<tr><th></th><th scope=col>&lt;int&gt;</th><th scope=col>&lt;int&gt;</th><th scope=col>&lt;int&gt;</th><th scope=col>&lt;fct&gt;</th><th scope=col>&lt;int&gt;</th></tr>\n",
       "</thead>\n",
       "<tbody>\n",
       "\t<tr><th scope=row>1</th><td>1000019</td><td>1000019</td><td>47</td><td>1</td><td>0</td></tr>\n",
       "\t<tr><th scope=row>2</th><td>1000022</td><td>1000022</td><td>53</td><td>0</td><td>0</td></tr>\n",
       "\t<tr><th scope=row>3</th><td>1000035</td><td>1000035</td><td>63</td><td>0</td><td>0</td></tr>\n",
       "\t<tr><th scope=row>4</th><td>1000046</td><td>1000046</td><td>73</td><td>1</td><td>0</td></tr>\n",
       "\t<tr><th scope=row>5</th><td>1000054</td><td>1000054</td><td>65</td><td>1</td><td>0</td></tr>\n",
       "\t<tr><th scope=row>6</th><td>1000063</td><td>1000063</td><td>43</td><td>0</td><td>0</td></tr>\n",
       "</tbody>\n",
       "</table>\n"
      ],
      "text/latex": [
       "A data.frame: 6 × 5\n",
       "\\begin{tabular}{r|lllll}\n",
       "  & FID & IID & age\\_final\\_aid & sex & hearing\\_aid\\_cat\\\\\n",
       "  & <int> & <int> & <int> & <fct> & <int>\\\\\n",
       "\\hline\n",
       "\t1 & 1000019 & 1000019 & 47 & 1 & 0\\\\\n",
       "\t2 & 1000022 & 1000022 & 53 & 0 & 0\\\\\n",
       "\t3 & 1000035 & 1000035 & 63 & 0 & 0\\\\\n",
       "\t4 & 1000046 & 1000046 & 73 & 1 & 0\\\\\n",
       "\t5 & 1000054 & 1000054 & 65 & 1 & 0\\\\\n",
       "\t6 & 1000063 & 1000063 & 43 & 0 & 0\\\\\n",
       "\\end{tabular}\n"
      ],
      "text/markdown": [
       "\n",
       "A data.frame: 6 × 5\n",
       "\n",
       "| <!--/--> | FID &lt;int&gt; | IID &lt;int&gt; | age_final_aid &lt;int&gt; | sex &lt;fct&gt; | hearing_aid_cat &lt;int&gt; |\n",
       "|---|---|---|---|---|---|\n",
       "| 1 | 1000019 | 1000019 | 47 | 1 | 0 |\n",
       "| 2 | 1000022 | 1000022 | 53 | 0 | 0 |\n",
       "| 3 | 1000035 | 1000035 | 63 | 0 | 0 |\n",
       "| 4 | 1000046 | 1000046 | 73 | 1 | 0 |\n",
       "| 5 | 1000054 | 1000054 | 65 | 1 | 0 |\n",
       "| 6 | 1000063 | 1000063 | 43 | 0 | 0 |\n",
       "\n"
      ],
      "text/plain": [
       "  FID     IID     age_final_aid sex hearing_aid_cat\n",
       "1 1000019 1000019 47            1   0              \n",
       "2 1000022 1000022 53            0   0              \n",
       "3 1000035 1000035 63            0   0              \n",
       "4 1000046 1000046 73            1   0              \n",
       "5 1000054 1000054 65            1   0              \n",
       "6 1000063 1000063 43            0   0              "
      ]
     },
     "metadata": {},
     "output_type": "display_data"
    },
    {
     "data": {
      "text/html": [
       "<style>\n",
       ".list-inline {list-style: none; margin:0; padding: 0}\n",
       ".list-inline>li {display: inline-block}\n",
       ".list-inline>li:not(:last-child)::after {content: \"\\00b7\"; padding: 0 .5ex}\n",
       "</style>\n",
       "<ol class=list-inline><li>230411</li><li>5</li></ol>\n"
      ],
      "text/latex": [
       "\\begin{enumerate*}\n",
       "\\item 230411\n",
       "\\item 5\n",
       "\\end{enumerate*}\n"
      ],
      "text/markdown": [
       "1. 230411\n",
       "2. 5\n",
       "\n",
       "\n"
      ],
      "text/plain": [
       "[1] 230411      5"
      ]
     },
     "metadata": {},
     "output_type": "display_data"
    }
   ],
   "source": [
    "f.3393_pheno <- df_3393 %>%\n",
    "    filter(!(is.na(hearing_aid_cat))) %>%\n",
    "    select(FID, IID, age_final_aid, sex, hearing_aid_cat)\n",
    "head(f.3393_pheno)\n",
    "dim(f.3393_pheno)"
   ]
  },
  {
   "cell_type": "code",
   "execution_count": 36,
   "metadata": {
    "kernel": "R"
   },
   "outputs": [],
   "source": [
    "write.table(f.3393_pheno, '200828_UKBB_Hearing_aid_f3393', quote = FALSE, row.names = FALSE)"
   ]
  },
  {
   "cell_type": "markdown",
   "metadata": {
    "kernel": "SoS"
   },
   "source": [
    "## Hearing difficulty/problems (2247)\n",
    "### step1: classify cases and controls"
   ]
  },
  {
   "cell_type": "code",
   "execution_count": 37,
   "metadata": {
    "kernel": "R"
   },
   "outputs": [
    {
     "data": {
      "text/plain": [
       "\n",
       "         Do not know I am completely deaf                   No \n",
       "               13469                   56               253610 \n",
       "Prefer not to answer                  Yes \n",
       "                 170                86713 "
      ]
     },
     "metadata": {},
     "output_type": "display_data"
    }
   ],
   "source": [
    "table(df.final.imp$f.2247.0.0)"
   ]
  },
  {
   "cell_type": "code",
   "execution_count": 38,
   "metadata": {
    "kernel": "R"
   },
   "outputs": [
    {
     "name": "stderr",
     "output_type": "stream",
     "text": [
      "The following `from` values were not present in `x`: I am completely deaf\n",
      "\n",
      "The following `from` values were not present in `x`: I am completely deaf\n",
      "\n"
     ]
    },
    {
     "name": "stdout",
     "output_type": "stream",
     "text": [
      "f.2247.0.0_recode summary:\n",
      "     9      0      1 \n",
      " 13469 253610  86713 \n",
      "\n",
      "f.2247.1.0_recode summary:\n",
      "   9    0    1 \n",
      " 785 9709 4861 \n",
      "\n",
      "f.2247.2.0_recode summary:\n",
      "    9     0     1 \n",
      " 1921 21757 12038 \n",
      "\n",
      "f.2247.3.0_recode summary:\n",
      "   9    0    1 \n",
      " 128 1474  808 \n",
      "\n"
     ]
    }
   ],
   "source": [
    "# Recode function:\n",
    "recode<-function(df,column_name){\n",
    "  new_names<-c()\n",
    "  for (i in column_name){\n",
    "    new_column_name<-paste0(i,\"_recode\")\n",
    "    new_names<-c(new_names,new_column_name)\n",
    "    df[,new_column_name] <- revalue(df[,i], c(\"No\"= 0, \n",
    "                                            \"Yes\" =1,\n",
    "                                            \"Prefer not to answer\"= NA,\n",
    "                                             \"Do not know\"=9,\n",
    "                                             \"I am completely deaf\"=NA))\n",
    "  }\n",
    "  return (list(df=df,new_column_names=new_names))\n",
    "}\n",
    "\n",
    "# columns needs to be recoded:\n",
    "column_name<-c(\"f.2247.0.0\",\"f.2247.1.0\",\"f.2247.2.0\",\"f.2247.3.0\")\n",
    "\n",
    "# get a new data.frame with recoded columns added:\n",
    "df.final.imp<-recode(df=df.final.imp,column_name)$df\n",
    "\n",
    "# get names of recoded columns:\n",
    "new_column_names<-recode(df=df.final.imp,column_name)$new_column_names\n",
    "\n",
    "# show recode summary:\n",
    "for (i in new_column_names)\n",
    "{cat(i,\"summary:\");print(table(df.final.imp[,i]));cat(\"\\n\")}"
   ]
  },
  {
   "cell_type": "markdown",
   "metadata": {
    "kernel": "R"
   },
   "source": [
    "## f.2247 Get possible answers"
   ]
  },
  {
   "cell_type": "code",
   "execution_count": 39,
   "metadata": {
    "kernel": "R"
   },
   "outputs": [
    {
     "data": {
      "text/html": [
       "<style>\n",
       ".list-inline {list-style: none; margin:0; padding: 0}\n",
       ".list-inline>li {display: inline-block}\n",
       ".list-inline>li:not(:last-child)::after {content: \"\\00b7\"; padding: 0 .5ex}\n",
       "</style>\n",
       "<ol class=list-inline><li>''</li><li>'0'</li><li>'00'</li><li>'000'</li><li>'0000'</li><li>'0001'</li><li>'0009'</li><li>'001'</li><li>'0010'</li><li>'0011'</li><li>'0019'</li><li>'009'</li><li>'0090'</li><li>'0091'</li><li>'0099'</li><li>'01'</li><li>'010'</li><li>'0100'</li><li>'0101'</li><li>'011'</li><li>'0110'</li><li>'0111'</li><li>'019'</li><li>'0190'</li><li>'09'</li><li>'090'</li><li>'0900'</li><li>'0901'</li><li>'0909'</li><li>'091'</li><li>'0911'</li><li>'099'</li><li>'0990'</li><li>'0991'</li><li>'0999'</li><li>'1'</li><li>'10'</li><li>'100'</li><li>'1000'</li><li>'1001'</li><li>'101'</li><li>'1010'</li><li>'1011'</li><li>'1019'</li><li>'109'</li><li>'1090'</li><li>'1099'</li><li>'11'</li><li>'110'</li><li>'1100'</li><li>'1101'</li><li>'111'</li><li>'1111'</li><li>'1119'</li><li>'119'</li><li>'1190'</li><li>'19'</li><li>'190'</li><li>'1900'</li><li>'191'</li><li>'1910'</li><li>'1911'</li><li>'199'</li><li>'9'</li><li>'90'</li><li>'900'</li><li>'9000'</li><li>'9001'</li><li>'9009'</li><li>'901'</li><li>'9011'</li><li>'909'</li><li>'9090'</li><li>'9099'</li><li>'91'</li><li>'910'</li><li>'911'</li><li>'9111'</li><li>'919'</li><li>'99'</li><li>'990'</li><li>'991'</li><li>'999'</li><li>'9990'</li></ol>\n"
      ],
      "text/latex": [
       "\\begin{enumerate*}\n",
       "\\item ''\n",
       "\\item '0'\n",
       "\\item '00'\n",
       "\\item '000'\n",
       "\\item '0000'\n",
       "\\item '0001'\n",
       "\\item '0009'\n",
       "\\item '001'\n",
       "\\item '0010'\n",
       "\\item '0011'\n",
       "\\item '0019'\n",
       "\\item '009'\n",
       "\\item '0090'\n",
       "\\item '0091'\n",
       "\\item '0099'\n",
       "\\item '01'\n",
       "\\item '010'\n",
       "\\item '0100'\n",
       "\\item '0101'\n",
       "\\item '011'\n",
       "\\item '0110'\n",
       "\\item '0111'\n",
       "\\item '019'\n",
       "\\item '0190'\n",
       "\\item '09'\n",
       "\\item '090'\n",
       "\\item '0900'\n",
       "\\item '0901'\n",
       "\\item '0909'\n",
       "\\item '091'\n",
       "\\item '0911'\n",
       "\\item '099'\n",
       "\\item '0990'\n",
       "\\item '0991'\n",
       "\\item '0999'\n",
       "\\item '1'\n",
       "\\item '10'\n",
       "\\item '100'\n",
       "\\item '1000'\n",
       "\\item '1001'\n",
       "\\item '101'\n",
       "\\item '1010'\n",
       "\\item '1011'\n",
       "\\item '1019'\n",
       "\\item '109'\n",
       "\\item '1090'\n",
       "\\item '1099'\n",
       "\\item '11'\n",
       "\\item '110'\n",
       "\\item '1100'\n",
       "\\item '1101'\n",
       "\\item '111'\n",
       "\\item '1111'\n",
       "\\item '1119'\n",
       "\\item '119'\n",
       "\\item '1190'\n",
       "\\item '19'\n",
       "\\item '190'\n",
       "\\item '1900'\n",
       "\\item '191'\n",
       "\\item '1910'\n",
       "\\item '1911'\n",
       "\\item '199'\n",
       "\\item '9'\n",
       "\\item '90'\n",
       "\\item '900'\n",
       "\\item '9000'\n",
       "\\item '9001'\n",
       "\\item '9009'\n",
       "\\item '901'\n",
       "\\item '9011'\n",
       "\\item '909'\n",
       "\\item '9090'\n",
       "\\item '9099'\n",
       "\\item '91'\n",
       "\\item '910'\n",
       "\\item '911'\n",
       "\\item '9111'\n",
       "\\item '919'\n",
       "\\item '99'\n",
       "\\item '990'\n",
       "\\item '991'\n",
       "\\item '999'\n",
       "\\item '9990'\n",
       "\\end{enumerate*}\n"
      ],
      "text/markdown": [
       "1. ''\n",
       "2. '0'\n",
       "3. '00'\n",
       "4. '000'\n",
       "5. '0000'\n",
       "6. '0001'\n",
       "7. '0009'\n",
       "8. '001'\n",
       "9. '0010'\n",
       "10. '0011'\n",
       "11. '0019'\n",
       "12. '009'\n",
       "13. '0090'\n",
       "14. '0091'\n",
       "15. '0099'\n",
       "16. '01'\n",
       "17. '010'\n",
       "18. '0100'\n",
       "19. '0101'\n",
       "20. '011'\n",
       "21. '0110'\n",
       "22. '0111'\n",
       "23. '019'\n",
       "24. '0190'\n",
       "25. '09'\n",
       "26. '090'\n",
       "27. '0900'\n",
       "28. '0901'\n",
       "29. '0909'\n",
       "30. '091'\n",
       "31. '0911'\n",
       "32. '099'\n",
       "33. '0990'\n",
       "34. '0991'\n",
       "35. '0999'\n",
       "36. '1'\n",
       "37. '10'\n",
       "38. '100'\n",
       "39. '1000'\n",
       "40. '1001'\n",
       "41. '101'\n",
       "42. '1010'\n",
       "43. '1011'\n",
       "44. '1019'\n",
       "45. '109'\n",
       "46. '1090'\n",
       "47. '1099'\n",
       "48. '11'\n",
       "49. '110'\n",
       "50. '1100'\n",
       "51. '1101'\n",
       "52. '111'\n",
       "53. '1111'\n",
       "54. '1119'\n",
       "55. '119'\n",
       "56. '1190'\n",
       "57. '19'\n",
       "58. '190'\n",
       "59. '1900'\n",
       "60. '191'\n",
       "61. '1910'\n",
       "62. '1911'\n",
       "63. '199'\n",
       "64. '9'\n",
       "65. '90'\n",
       "66. '900'\n",
       "67. '9000'\n",
       "68. '9001'\n",
       "69. '9009'\n",
       "70. '901'\n",
       "71. '9011'\n",
       "72. '909'\n",
       "73. '9090'\n",
       "74. '9099'\n",
       "75. '91'\n",
       "76. '910'\n",
       "77. '911'\n",
       "78. '9111'\n",
       "79. '919'\n",
       "80. '99'\n",
       "81. '990'\n",
       "82. '991'\n",
       "83. '999'\n",
       "84. '9990'\n",
       "\n",
       "\n"
      ],
      "text/plain": [
       " [1] \"\"     \"0\"    \"00\"   \"000\"  \"0000\" \"0001\" \"0009\" \"001\"  \"0010\" \"0011\"\n",
       "[11] \"0019\" \"009\"  \"0090\" \"0091\" \"0099\" \"01\"   \"010\"  \"0100\" \"0101\" \"011\" \n",
       "[21] \"0110\" \"0111\" \"019\"  \"0190\" \"09\"   \"090\"  \"0900\" \"0901\" \"0909\" \"091\" \n",
       "[31] \"0911\" \"099\"  \"0990\" \"0991\" \"0999\" \"1\"    \"10\"   \"100\"  \"1000\" \"1001\"\n",
       "[41] \"101\"  \"1010\" \"1011\" \"1019\" \"109\"  \"1090\" \"1099\" \"11\"   \"110\"  \"1100\"\n",
       "[51] \"1101\" \"111\"  \"1111\" \"1119\" \"119\"  \"1190\" \"19\"   \"190\"  \"1900\" \"191\" \n",
       "[61] \"1910\" \"1911\" \"199\"  \"9\"    \"90\"   \"900\"  \"9000\" \"9001\" \"9009\" \"901\" \n",
       "[71] \"9011\" \"909\"  \"9090\" \"9099\" \"91\"   \"910\"  \"911\"  \"9111\" \"919\"  \"99\"  \n",
       "[81] \"990\"  \"991\"  \"999\"  \"9990\""
      ]
     },
     "metadata": {},
     "output_type": "display_data"
    }
   ],
   "source": [
    "# Extract subset of data only with the recode columns of tinnitus\n",
    "data_sub <- df.final.imp %>%\n",
    "  select(\"IID\",all_of(new_column_names)) \n",
    "\n",
    "# Function to extract all the available answers for 4 visits\n",
    "# and put them in one string as \"0000\", \"111\", \"991\", etc\n",
    "\n",
    "f2<-function(x){\n",
    "  visit<-''\n",
    "  for (i in 2:5){ # do not take the first column (i.e. IID)\n",
    "    if (!is.na(x[i]))\n",
    "    {visit<-paste0(visit,x[i])}\n",
    "  }\n",
    "  if(is.null(visit)){visit=NA}\n",
    "  else{visit=visit}\n",
    "  return (visit)\n",
    "}\n",
    "\n",
    "# Apply the above function and remove NAs\n",
    "data_sub$visit<-apply(data_sub, 1, f2)\n",
    "\n",
    "names(table(data_sub$visit))"
   ]
  },
  {
   "cell_type": "code",
   "execution_count": 40,
   "metadata": {
    "kernel": "R"
   },
   "outputs": [
    {
     "data": {
      "text/plain": [
       "\n",
       "            0     00    000   0000   0001   0009    001   0010   0011   0019 \n",
       "   214 221437  20495   3918    222     18     11    460     11     22      2 \n",
       "   009   0090   0091   0099     01    010   0100   0101    011   0110   0111 \n",
       "   160      5      2      2   4607    174      5      3    523      2     23 \n",
       "   019   0190     09    090   0900   0901   0909    091   0911    099   0990 \n",
       "    33      1   1375    128      4      3      2     75      1     70      1 \n",
       "  0991   0999      1     10    100   1000   1001    101   1010   1011   1019 \n",
       "     3      3  76130   1313    153      5      2    105      1      5      1 \n",
       "   109   1090   1099     11    110   1100   1101    111   1111   1119    119 \n",
       "    13      4      1   7190    108      2      3   1294     66      1     34 \n",
       "  1190     19    190   1900    191   1910   1911    199      9     90    900 \n",
       "     1    344     19      1     24      1      2     15  11928    509     83 \n",
       "  9000   9001   9009    901   9011    909   9090   9099     91    910    911 \n",
       "     4      1      1     15      1     23      1      1    523     10     82 \n",
       "  9111    919     99    990    991    999   9990 \n",
       "     1      2    233     27     20     28      1 "
      ]
     },
     "metadata": {},
     "output_type": "display_data"
    }
   ],
   "source": [
    "table(data_sub$visit)\n",
    "all_pattern<-unique(data_sub$visit)"
   ]
  },
  {
   "cell_type": "markdown",
   "metadata": {
    "kernel": "R"
   },
   "source": [
    "## f.2247 Get all the consistent cases"
   ]
  },
  {
   "cell_type": "code",
   "execution_count": 41,
   "metadata": {
    "kernel": "R"
   },
   "outputs": [
    {
     "data": {
      "text/plain": [
       "\n",
       "     0     00    000   0000      1     11    111   1111      9     99    999 \n",
       "221437  20495   3918    222  76130   7190   1294     66  11928    233     28 "
      ]
     },
     "metadata": {},
     "output_type": "display_data"
    }
   ],
   "source": [
    "all_no<-all_pattern[which(grepl(\"0\",all_pattern) & !grepl(\"9\",all_pattern) & !grepl(\"1\",all_pattern))]\n",
    "all_yes<-all_pattern[which(!grepl(\"0\",all_pattern) & !grepl(\"9\",all_pattern) & grepl(\"1\",all_pattern))]\n",
    "all_do_not_know<-all_pattern[which(!grepl(\"0\",all_pattern) & grepl(\"9\",all_pattern) & !grepl(\"1\",all_pattern))]\n",
    "table(data_sub[data_sub$visit%in%union(union(all_no,all_yes),all_do_not_know),\"visit\"])"
   ]
  },
  {
   "cell_type": "code",
   "execution_count": 42,
   "metadata": {
    "kernel": "R"
   },
   "outputs": [
    {
     "data": {
      "text/plain": [
       "\n",
       "0009  009 0090 0099   09  090 0900 0909  099 0990 0999   90  900 9000 9009  909 \n",
       "  11  160    5    2 1375  128    4    2   70    1    3  509   83    4    1   23 \n",
       "9090 9099  990 9990 \n",
       "   1    1   27    1 "
      ]
     },
     "metadata": {},
     "output_type": "display_data"
    }
   ],
   "source": [
    "consistent_1<-c(all_no,all_yes,all_do_not_know)\n",
    "\n",
    "# might be inconsistent cases:\n",
    "do_not_know_no<-all_pattern[which(grepl(\"0\",all_pattern) & grepl(\"9\",all_pattern) & !grepl(\"1\",all_pattern))]\n",
    "table(data_sub[data_sub$visit%in%do_not_know_no,\"visit\"])"
   ]
  },
  {
   "cell_type": "code",
   "execution_count": 43,
   "metadata": {
    "kernel": "R"
   },
   "outputs": [
    {
     "data": {
      "text/plain": [
       "\n",
       "1119  119   19  191 1911  199   91  911 9111  919  991 \n",
       "   1   34  344   24    2   15  523   82    1    2   20 "
      ]
     },
     "metadata": {},
     "output_type": "display_data"
    }
   ],
   "source": [
    "do_not_know_yes<-all_pattern[which(!grepl(\"0\",all_pattern) & grepl(\"9\",all_pattern) & grepl(\"1\",all_pattern))]\n",
    "table(data_sub[data_sub$visit%in%do_not_know_yes,\"visit\"])"
   ]
  },
  {
   "cell_type": "code",
   "execution_count": 44,
   "metadata": {
    "kernel": "R"
   },
   "outputs": [
    {
     "data": {
      "text/plain": [
       "\n",
       "0001  001 0010 0011   01  010 0100 0101  011 0110 0111   10  100 1000 1001  101 \n",
       "  18  460   11   22 4607  174    5    3  523    2   23 1313  153    5    2  105 \n",
       "1010 1011  110 1100 1101 \n",
       "   1    5  108    2    3 "
      ]
     },
     "metadata": {},
     "output_type": "display_data"
    }
   ],
   "source": [
    "yes_no<-all_pattern[which(grepl(\"0\",all_pattern) & !grepl(\"9\",all_pattern) & grepl(\"1\",all_pattern))]\n",
    "table(data_sub[data_sub$visit%in%yes_no,\"visit\"])"
   ]
  },
  {
   "cell_type": "code",
   "execution_count": 45,
   "metadata": {
    "kernel": "R"
   },
   "outputs": [
    {
     "data": {
      "text/plain": [
       "\n",
       "0019 0091  019 0190 0901  091 0911 0991 1019  109 1090 1099 1190  190 1900 1910 \n",
       "   2    2   33    1    3   75    1    3    1   13    4    1    1   19    1    1 \n",
       "9001  901 9011  910 \n",
       "   1   15    1   10 "
      ]
     },
     "metadata": {},
     "output_type": "display_data"
    }
   ],
   "source": [
    "with_all_three<-all_pattern[which(grepl(\"0\",all_pattern) & grepl(\"9\",all_pattern) & grepl(\"1\",all_pattern))]\n",
    "table(data_sub[data_sub$visit%in%with_all_three,\"visit\"])"
   ]
  },
  {
   "cell_type": "code",
   "execution_count": 46,
   "metadata": {
    "kernel": "R"
   },
   "outputs": [],
   "source": [
    "might_inconsistent<-c(do_not_know_no,do_not_know_yes,yes_no,with_all_three)"
   ]
  },
  {
   "cell_type": "markdown",
   "metadata": {
    "kernel": "R"
   },
   "source": [
    "## f.2247 Remove inconsistent cases"
   ]
  },
  {
   "cell_type": "code",
   "execution_count": 47,
   "metadata": {
    "kernel": "R"
   },
   "outputs": [
    {
     "name": "stdout",
     "output_type": "stream",
     "text": [
      "There are 214 NAs, removed"
     ]
    }
   ],
   "source": [
    "# get all the inconsistent cases:\n",
    "exceptions<-c(\"91\",\"911\",\"9111\",\"991\",\"0001\",\"001\",\"0011\",\"01\",\"011\",\"0111\", \"0091\", \"091\",\"0911\",\"0991\",\"9001\",\"901\",\"9011\")\n",
    "inconsistent<-setdiff(might_inconsistent,exceptions)\n",
    "\n",
    "cat(\"There are\",length(which(is.empty(data_sub$visit))),\"NAs, removed\")"
   ]
  },
  {
   "cell_type": "code",
   "execution_count": 48,
   "metadata": {
    "kernel": "R"
   },
   "outputs": [
    {
     "name": "stdout",
     "output_type": "stream",
     "text": [
      "There are 4815 inconsistent cases, removed"
     ]
    }
   ],
   "source": [
    "cat(\"There are\",length(which(data_sub$visit%in%inconsistent)),\"inconsistent cases, removed\")"
   ]
  },
  {
   "cell_type": "code",
   "execution_count": 49,
   "metadata": {
    "kernel": "R"
   },
   "outputs": [
    {
     "data": {
      "text/html": [
       "<style>\n",
       ".list-inline {list-style: none; margin:0; padding: 0}\n",
       ".list-inline>li {display: inline-block}\n",
       ".list-inline>li:not(:last-child)::after {content: \"\\00b7\"; padding: 0 .5ex}\n",
       "</style>\n",
       "<ol class=list-inline><li>337129</li><li>1</li></ol>\n"
      ],
      "text/latex": [
       "\\begin{enumerate*}\n",
       "\\item 337129\n",
       "\\item 1\n",
       "\\end{enumerate*}\n"
      ],
      "text/markdown": [
       "1. 337129\n",
       "2. 1\n",
       "\n",
       "\n"
      ],
      "text/plain": [
       "[1] 337129      1"
      ]
     },
     "metadata": {},
     "output_type": "display_data"
    }
   ],
   "source": [
    "# removed those NAs, consistent for do not know - 9 and inconsistent cases: \n",
    "IID_hearing_diff<-data_sub %>%\n",
    "  filter(!is.empty(visit)) %>%\n",
    "  filter((!visit%in%inconsistent)) %>%\n",
    "  filter((!visit%in%all_do_not_know)) %>%\n",
    "  select(IID)\n",
    "\n",
    "dim(IID_hearing_diff)"
   ]
  },
  {
   "cell_type": "code",
   "execution_count": 50,
   "metadata": {
    "kernel": "R"
   },
   "outputs": [
    {
     "name": "stdout",
     "output_type": "stream",
     "text": [
      "After removing all the NAs and inconsistent cases, there are 337129 cases left"
     ]
    }
   ],
   "source": [
    "IID_hearing_diff<-IID_hearing_diff[,1]\n",
    "cat(\"After removing all the NAs and inconsistent cases, there are\",length(IID_hearing_diff),\"cases left\")"
   ]
  },
  {
   "cell_type": "code",
   "execution_count": 51,
   "metadata": {
    "kernel": "R"
   },
   "outputs": [
    {
     "data": {
      "text/html": [
       "<style>\n",
       ".list-inline {list-style: none; margin:0; padding: 0}\n",
       ".list-inline>li {display: inline-block}\n",
       ".list-inline>li:not(:last-child)::after {content: \"\\00b7\"; padding: 0 .5ex}\n",
       "</style>\n",
       "<ol class=list-inline><li>337129</li><li>1091</li></ol>\n"
      ],
      "text/latex": [
       "\\begin{enumerate*}\n",
       "\\item 337129\n",
       "\\item 1091\n",
       "\\end{enumerate*}\n"
      ],
      "text/markdown": [
       "1. 337129\n",
       "2. 1091\n",
       "\n",
       "\n"
      ],
      "text/plain": [
       "[1] 337129   1091"
      ]
     },
     "metadata": {},
     "output_type": "display_data"
    }
   ],
   "source": [
    "# get the dataset after cleansing: \n",
    "df.hearing.diff<-df.final.imp %>%\n",
    "  filter(IID%in%IID_hearing_diff)\n",
    "\n",
    "dim(df.hearing.diff)"
   ]
  },
  {
   "cell_type": "markdown",
   "metadata": {
    "kernel": "R"
   },
   "source": [
    "## f.2247 Step 1 classify cases and controls"
   ]
  },
  {
   "cell_type": "code",
   "execution_count": 52,
   "metadata": {
    "kernel": "R"
   },
   "outputs": [
    {
     "data": {
      "text/html": [
       "<table>\n",
       "<caption>A data.frame: 6 × 11</caption>\n",
       "<thead>\n",
       "\t<tr><th></th><th scope=col>IID</th><th scope=col>FID</th><th scope=col>f.22001.0.0</th><th scope=col>f.21003.0.0</th><th scope=col>f.21003.1.0</th><th scope=col>f.21003.2.0</th><th scope=col>f.21003.3.0</th><th scope=col>f.2247.0.0_recode</th><th scope=col>f.2247.1.0_recode</th><th scope=col>f.2247.2.0_recode</th><th scope=col>f.2247.3.0_recode</th></tr>\n",
       "\t<tr><th></th><th scope=col>&lt;int&gt;</th><th scope=col>&lt;int&gt;</th><th scope=col>&lt;fct&gt;</th><th scope=col>&lt;int&gt;</th><th scope=col>&lt;int&gt;</th><th scope=col>&lt;int&gt;</th><th scope=col>&lt;int&gt;</th><th scope=col>&lt;fct&gt;</th><th scope=col>&lt;fct&gt;</th><th scope=col>&lt;fct&gt;</th><th scope=col>&lt;fct&gt;</th></tr>\n",
       "</thead>\n",
       "<tbody>\n",
       "\t<tr><th scope=row>1</th><td>1000019</td><td>1000019</td><td>Female</td><td>47</td><td>NA</td><td>NA</td><td>NA</td><td>1</td><td>NA</td><td>NA</td><td>NA</td></tr>\n",
       "\t<tr><th scope=row>2</th><td>1000022</td><td>1000022</td><td>Male  </td><td>53</td><td>NA</td><td>NA</td><td>NA</td><td>1</td><td>NA</td><td>NA</td><td>NA</td></tr>\n",
       "\t<tr><th scope=row>3</th><td>1000035</td><td>1000035</td><td>Male  </td><td>63</td><td>NA</td><td>NA</td><td>NA</td><td>0</td><td>NA</td><td>NA</td><td>NA</td></tr>\n",
       "\t<tr><th scope=row>4</th><td>1000046</td><td>1000046</td><td>Female</td><td>62</td><td>NA</td><td>73</td><td>NA</td><td>0</td><td>NA</td><td>0 </td><td>NA</td></tr>\n",
       "\t<tr><th scope=row>5</th><td>1000054</td><td>1000054</td><td>Female</td><td>65</td><td>NA</td><td>NA</td><td>NA</td><td>0</td><td>NA</td><td>NA</td><td>NA</td></tr>\n",
       "\t<tr><th scope=row>6</th><td>1000063</td><td>1000063</td><td>Male  </td><td>43</td><td>NA</td><td>NA</td><td>NA</td><td>0</td><td>NA</td><td>NA</td><td>NA</td></tr>\n",
       "</tbody>\n",
       "</table>\n"
      ],
      "text/latex": [
       "A data.frame: 6 × 11\n",
       "\\begin{tabular}{r|lllllllllll}\n",
       "  & IID & FID & f.22001.0.0 & f.21003.0.0 & f.21003.1.0 & f.21003.2.0 & f.21003.3.0 & f.2247.0.0\\_recode & f.2247.1.0\\_recode & f.2247.2.0\\_recode & f.2247.3.0\\_recode\\\\\n",
       "  & <int> & <int> & <fct> & <int> & <int> & <int> & <int> & <fct> & <fct> & <fct> & <fct>\\\\\n",
       "\\hline\n",
       "\t1 & 1000019 & 1000019 & Female & 47 & NA & NA & NA & 1 & NA & NA & NA\\\\\n",
       "\t2 & 1000022 & 1000022 & Male   & 53 & NA & NA & NA & 1 & NA & NA & NA\\\\\n",
       "\t3 & 1000035 & 1000035 & Male   & 63 & NA & NA & NA & 0 & NA & NA & NA\\\\\n",
       "\t4 & 1000046 & 1000046 & Female & 62 & NA & 73 & NA & 0 & NA & 0  & NA\\\\\n",
       "\t5 & 1000054 & 1000054 & Female & 65 & NA & NA & NA & 0 & NA & NA & NA\\\\\n",
       "\t6 & 1000063 & 1000063 & Male   & 43 & NA & NA & NA & 0 & NA & NA & NA\\\\\n",
       "\\end{tabular}\n"
      ],
      "text/markdown": [
       "\n",
       "A data.frame: 6 × 11\n",
       "\n",
       "| <!--/--> | IID &lt;int&gt; | FID &lt;int&gt; | f.22001.0.0 &lt;fct&gt; | f.21003.0.0 &lt;int&gt; | f.21003.1.0 &lt;int&gt; | f.21003.2.0 &lt;int&gt; | f.21003.3.0 &lt;int&gt; | f.2247.0.0_recode &lt;fct&gt; | f.2247.1.0_recode &lt;fct&gt; | f.2247.2.0_recode &lt;fct&gt; | f.2247.3.0_recode &lt;fct&gt; |\n",
       "|---|---|---|---|---|---|---|---|---|---|---|---|\n",
       "| 1 | 1000019 | 1000019 | Female | 47 | NA | NA | NA | 1 | NA | NA | NA |\n",
       "| 2 | 1000022 | 1000022 | Male   | 53 | NA | NA | NA | 1 | NA | NA | NA |\n",
       "| 3 | 1000035 | 1000035 | Male   | 63 | NA | NA | NA | 0 | NA | NA | NA |\n",
       "| 4 | 1000046 | 1000046 | Female | 62 | NA | 73 | NA | 0 | NA | 0  | NA |\n",
       "| 5 | 1000054 | 1000054 | Female | 65 | NA | NA | NA | 0 | NA | NA | NA |\n",
       "| 6 | 1000063 | 1000063 | Male   | 43 | NA | NA | NA | 0 | NA | NA | NA |\n",
       "\n"
      ],
      "text/plain": [
       "  IID     FID     f.22001.0.0 f.21003.0.0 f.21003.1.0 f.21003.2.0 f.21003.3.0\n",
       "1 1000019 1000019 Female      47          NA          NA          NA         \n",
       "2 1000022 1000022 Male        53          NA          NA          NA         \n",
       "3 1000035 1000035 Male        63          NA          NA          NA         \n",
       "4 1000046 1000046 Female      62          NA          73          NA         \n",
       "5 1000054 1000054 Female      65          NA          NA          NA         \n",
       "6 1000063 1000063 Male        43          NA          NA          NA         \n",
       "  f.2247.0.0_recode f.2247.1.0_recode f.2247.2.0_recode f.2247.3.0_recode\n",
       "1 1                 NA                NA                NA               \n",
       "2 1                 NA                NA                NA               \n",
       "3 0                 NA                NA                NA               \n",
       "4 0                 NA                0                 NA               \n",
       "5 0                 NA                NA                NA               \n",
       "6 0                 NA                NA                NA               "
      ]
     },
     "metadata": {},
     "output_type": "display_data"
    }
   ],
   "source": [
    "hearing_diff <- df.hearing.diff %>% \n",
    "  select(IID,FID,f.22001.0.0, f.21003.0.0,f.21003.1.0,f.21003.2.0,f.21003.3.0,f.2247.0.0_recode,f.2247.1.0_recode,f.2247.2.0_recode,f.2247.3.0_recode)\n",
    "head(hearing_diff)"
   ]
  },
  {
   "cell_type": "code",
   "execution_count": 53,
   "metadata": {
    "kernel": "R"
   },
   "outputs": [
    {
     "data": {
      "text/html": [
       "<table>\n",
       "<caption>A data.frame: 10 × 12</caption>\n",
       "<thead>\n",
       "\t<tr><th></th><th scope=col>IID</th><th scope=col>FID</th><th scope=col>f.22001.0.0</th><th scope=col>f.21003.0.0</th><th scope=col>f.21003.1.0</th><th scope=col>f.21003.2.0</th><th scope=col>f.21003.3.0</th><th scope=col>f.2247.0.0_recode</th><th scope=col>f.2247.1.0_recode</th><th scope=col>f.2247.2.0_recode</th><th scope=col>f.2247.3.0_recode</th><th scope=col>cases</th></tr>\n",
       "\t<tr><th></th><th scope=col>&lt;int&gt;</th><th scope=col>&lt;int&gt;</th><th scope=col>&lt;fct&gt;</th><th scope=col>&lt;int&gt;</th><th scope=col>&lt;int&gt;</th><th scope=col>&lt;int&gt;</th><th scope=col>&lt;int&gt;</th><th scope=col>&lt;fct&gt;</th><th scope=col>&lt;fct&gt;</th><th scope=col>&lt;fct&gt;</th><th scope=col>&lt;fct&gt;</th><th scope=col>&lt;lgl&gt;</th></tr>\n",
       "</thead>\n",
       "<tbody>\n",
       "\t<tr><th scope=row>1</th><td>1000019</td><td>1000019</td><td>Female</td><td>47</td><td>NA</td><td>NA</td><td>NA</td><td>1</td><td>NA</td><td>NA</td><td>NA</td><td> TRUE</td></tr>\n",
       "\t<tr><th scope=row>2</th><td>1000022</td><td>1000022</td><td>Male  </td><td>53</td><td>NA</td><td>NA</td><td>NA</td><td>1</td><td>NA</td><td>NA</td><td>NA</td><td> TRUE</td></tr>\n",
       "\t<tr><th scope=row>3</th><td>1000035</td><td>1000035</td><td>Male  </td><td>63</td><td>NA</td><td>NA</td><td>NA</td><td>0</td><td>NA</td><td>NA</td><td>NA</td><td>FALSE</td></tr>\n",
       "\t<tr><th scope=row>4</th><td>1000046</td><td>1000046</td><td>Female</td><td>62</td><td>NA</td><td>73</td><td>NA</td><td>0</td><td>NA</td><td>0 </td><td>NA</td><td>FALSE</td></tr>\n",
       "\t<tr><th scope=row>5</th><td>1000054</td><td>1000054</td><td>Female</td><td>65</td><td>NA</td><td>NA</td><td>NA</td><td>0</td><td>NA</td><td>NA</td><td>NA</td><td>FALSE</td></tr>\n",
       "\t<tr><th scope=row>6</th><td>1000063</td><td>1000063</td><td>Male  </td><td>43</td><td>NA</td><td>NA</td><td>NA</td><td>0</td><td>NA</td><td>NA</td><td>NA</td><td>FALSE</td></tr>\n",
       "\t<tr><th scope=row>7</th><td>1000078</td><td>1000078</td><td>Female</td><td>52</td><td>57</td><td>60</td><td>NA</td><td>0</td><td>0 </td><td>0 </td><td>NA</td><td>FALSE</td></tr>\n",
       "\t<tr><th scope=row>8</th><td>1000112</td><td>1000112</td><td>Male  </td><td>58</td><td>NA</td><td>68</td><td>NA</td><td>9</td><td>NA</td><td>1 </td><td>NA</td><td> TRUE</td></tr>\n",
       "\t<tr><th scope=row>9</th><td>1000129</td><td>1000129</td><td>Male  </td><td>62</td><td>NA</td><td>NA</td><td>NA</td><td>0</td><td>NA</td><td>NA</td><td>NA</td><td>FALSE</td></tr>\n",
       "\t<tr><th scope=row>10</th><td>1000137</td><td>1000137</td><td>Female</td><td>46</td><td>NA</td><td>NA</td><td>NA</td><td>0</td><td>NA</td><td>NA</td><td>NA</td><td>FALSE</td></tr>\n",
       "</tbody>\n",
       "</table>\n"
      ],
      "text/latex": [
       "A data.frame: 10 × 12\n",
       "\\begin{tabular}{r|llllllllllll}\n",
       "  & IID & FID & f.22001.0.0 & f.21003.0.0 & f.21003.1.0 & f.21003.2.0 & f.21003.3.0 & f.2247.0.0\\_recode & f.2247.1.0\\_recode & f.2247.2.0\\_recode & f.2247.3.0\\_recode & cases\\\\\n",
       "  & <int> & <int> & <fct> & <int> & <int> & <int> & <int> & <fct> & <fct> & <fct> & <fct> & <lgl>\\\\\n",
       "\\hline\n",
       "\t1 & 1000019 & 1000019 & Female & 47 & NA & NA & NA & 1 & NA & NA & NA &  TRUE\\\\\n",
       "\t2 & 1000022 & 1000022 & Male   & 53 & NA & NA & NA & 1 & NA & NA & NA &  TRUE\\\\\n",
       "\t3 & 1000035 & 1000035 & Male   & 63 & NA & NA & NA & 0 & NA & NA & NA & FALSE\\\\\n",
       "\t4 & 1000046 & 1000046 & Female & 62 & NA & 73 & NA & 0 & NA & 0  & NA & FALSE\\\\\n",
       "\t5 & 1000054 & 1000054 & Female & 65 & NA & NA & NA & 0 & NA & NA & NA & FALSE\\\\\n",
       "\t6 & 1000063 & 1000063 & Male   & 43 & NA & NA & NA & 0 & NA & NA & NA & FALSE\\\\\n",
       "\t7 & 1000078 & 1000078 & Female & 52 & 57 & 60 & NA & 0 & 0  & 0  & NA & FALSE\\\\\n",
       "\t8 & 1000112 & 1000112 & Male   & 58 & NA & 68 & NA & 9 & NA & 1  & NA &  TRUE\\\\\n",
       "\t9 & 1000129 & 1000129 & Male   & 62 & NA & NA & NA & 0 & NA & NA & NA & FALSE\\\\\n",
       "\t10 & 1000137 & 1000137 & Female & 46 & NA & NA & NA & 0 & NA & NA & NA & FALSE\\\\\n",
       "\\end{tabular}\n"
      ],
      "text/markdown": [
       "\n",
       "A data.frame: 10 × 12\n",
       "\n",
       "| <!--/--> | IID &lt;int&gt; | FID &lt;int&gt; | f.22001.0.0 &lt;fct&gt; | f.21003.0.0 &lt;int&gt; | f.21003.1.0 &lt;int&gt; | f.21003.2.0 &lt;int&gt; | f.21003.3.0 &lt;int&gt; | f.2247.0.0_recode &lt;fct&gt; | f.2247.1.0_recode &lt;fct&gt; | f.2247.2.0_recode &lt;fct&gt; | f.2247.3.0_recode &lt;fct&gt; | cases &lt;lgl&gt; |\n",
       "|---|---|---|---|---|---|---|---|---|---|---|---|---|\n",
       "| 1 | 1000019 | 1000019 | Female | 47 | NA | NA | NA | 1 | NA | NA | NA |  TRUE |\n",
       "| 2 | 1000022 | 1000022 | Male   | 53 | NA | NA | NA | 1 | NA | NA | NA |  TRUE |\n",
       "| 3 | 1000035 | 1000035 | Male   | 63 | NA | NA | NA | 0 | NA | NA | NA | FALSE |\n",
       "| 4 | 1000046 | 1000046 | Female | 62 | NA | 73 | NA | 0 | NA | 0  | NA | FALSE |\n",
       "| 5 | 1000054 | 1000054 | Female | 65 | NA | NA | NA | 0 | NA | NA | NA | FALSE |\n",
       "| 6 | 1000063 | 1000063 | Male   | 43 | NA | NA | NA | 0 | NA | NA | NA | FALSE |\n",
       "| 7 | 1000078 | 1000078 | Female | 52 | 57 | 60 | NA | 0 | 0  | 0  | NA | FALSE |\n",
       "| 8 | 1000112 | 1000112 | Male   | 58 | NA | 68 | NA | 9 | NA | 1  | NA |  TRUE |\n",
       "| 9 | 1000129 | 1000129 | Male   | 62 | NA | NA | NA | 0 | NA | NA | NA | FALSE |\n",
       "| 10 | 1000137 | 1000137 | Female | 46 | NA | NA | NA | 0 | NA | NA | NA | FALSE |\n",
       "\n"
      ],
      "text/plain": [
       "   IID     FID     f.22001.0.0 f.21003.0.0 f.21003.1.0 f.21003.2.0 f.21003.3.0\n",
       "1  1000019 1000019 Female      47          NA          NA          NA         \n",
       "2  1000022 1000022 Male        53          NA          NA          NA         \n",
       "3  1000035 1000035 Male        63          NA          NA          NA         \n",
       "4  1000046 1000046 Female      62          NA          73          NA         \n",
       "5  1000054 1000054 Female      65          NA          NA          NA         \n",
       "6  1000063 1000063 Male        43          NA          NA          NA         \n",
       "7  1000078 1000078 Female      52          57          60          NA         \n",
       "8  1000112 1000112 Male        58          NA          68          NA         \n",
       "9  1000129 1000129 Male        62          NA          NA          NA         \n",
       "10 1000137 1000137 Female      46          NA          NA          NA         \n",
       "   f.2247.0.0_recode f.2247.1.0_recode f.2247.2.0_recode f.2247.3.0_recode\n",
       "1  1                 NA                NA                NA               \n",
       "2  1                 NA                NA                NA               \n",
       "3  0                 NA                NA                NA               \n",
       "4  0                 NA                0                 NA               \n",
       "5  0                 NA                NA                NA               \n",
       "6  0                 NA                NA                NA               \n",
       "7  0                 0                 0                 NA               \n",
       "8  9                 NA                1                 NA               \n",
       "9  0                 NA                NA                NA               \n",
       "10 0                 NA                NA                NA               \n",
       "   cases\n",
       "1   TRUE\n",
       "2   TRUE\n",
       "3  FALSE\n",
       "4  FALSE\n",
       "5  FALSE\n",
       "6  FALSE\n",
       "7  FALSE\n",
       "8   TRUE\n",
       "9  FALSE\n",
       "10 FALSE"
      ]
     },
     "metadata": {},
     "output_type": "display_data"
    }
   ],
   "source": [
    "data_sub <- select(hearing_diff,starts_with(\"f.2247\"))\n",
    "\n",
    "# Function to define cases\n",
    "f<-function(x){\n",
    "  visit<-c()\n",
    "  for (i in 1:4){\n",
    "    if (!is.na(x[i]))\n",
    "    {visit<-c(visit,x[i])}\n",
    "  }\n",
    "  if (\"1\" %in% visit){result= TRUE}\n",
    "  else{result=FALSE}\n",
    "  return (result)\n",
    "}\n",
    "\n",
    "# Apply the above function\n",
    "hearing_diff$cases<-apply(data_sub, 1, f)\n",
    "head(hearing_diff,10)"
   ]
  },
  {
   "cell_type": "code",
   "execution_count": 54,
   "metadata": {
    "kernel": "R"
   },
   "outputs": [
    {
     "data": {
      "text/html": [
       "<table>\n",
       "<caption>A data.frame: 6 × 12</caption>\n",
       "<thead>\n",
       "\t<tr><th></th><th scope=col>IID</th><th scope=col>FID</th><th scope=col>f.22001.0.0</th><th scope=col>f.21003.0.0</th><th scope=col>f.21003.1.0</th><th scope=col>f.21003.2.0</th><th scope=col>f.21003.3.0</th><th scope=col>f.2247.0.0_recode</th><th scope=col>f.2247.1.0_recode</th><th scope=col>f.2247.2.0_recode</th><th scope=col>f.2247.3.0_recode</th><th scope=col>cases</th></tr>\n",
       "\t<tr><th></th><th scope=col>&lt;int&gt;</th><th scope=col>&lt;int&gt;</th><th scope=col>&lt;fct&gt;</th><th scope=col>&lt;int&gt;</th><th scope=col>&lt;int&gt;</th><th scope=col>&lt;int&gt;</th><th scope=col>&lt;int&gt;</th><th scope=col>&lt;fct&gt;</th><th scope=col>&lt;fct&gt;</th><th scope=col>&lt;fct&gt;</th><th scope=col>&lt;fct&gt;</th><th scope=col>&lt;lgl&gt;</th></tr>\n",
       "</thead>\n",
       "<tbody>\n",
       "\t<tr><th scope=row>1</th><td>1000019</td><td>1000019</td><td>Female</td><td>47</td><td>NA</td><td>NA</td><td>NA</td><td>1</td><td>NA</td><td>NA</td><td>NA</td><td>TRUE</td></tr>\n",
       "\t<tr><th scope=row>2</th><td>1000022</td><td>1000022</td><td>Male  </td><td>53</td><td>NA</td><td>NA</td><td>NA</td><td>1</td><td>NA</td><td>NA</td><td>NA</td><td>TRUE</td></tr>\n",
       "\t<tr><th scope=row>3</th><td>1000112</td><td>1000112</td><td>Male  </td><td>58</td><td>NA</td><td>68</td><td>NA</td><td>9</td><td>NA</td><td>1 </td><td>NA</td><td>TRUE</td></tr>\n",
       "\t<tr><th scope=row>4</th><td>1000170</td><td>1000170</td><td>Female</td><td>51</td><td>NA</td><td>NA</td><td>NA</td><td>1</td><td>NA</td><td>NA</td><td>NA</td><td>TRUE</td></tr>\n",
       "\t<tr><th scope=row>5</th><td>1000198</td><td>1000198</td><td>Female</td><td>41</td><td>NA</td><td>NA</td><td>NA</td><td>1</td><td>NA</td><td>NA</td><td>NA</td><td>TRUE</td></tr>\n",
       "\t<tr><th scope=row>6</th><td>1000203</td><td>1000203</td><td>Female</td><td>49</td><td>NA</td><td>NA</td><td>NA</td><td>1</td><td>NA</td><td>NA</td><td>NA</td><td>TRUE</td></tr>\n",
       "</tbody>\n",
       "</table>\n"
      ],
      "text/latex": [
       "A data.frame: 6 × 12\n",
       "\\begin{tabular}{r|llllllllllll}\n",
       "  & IID & FID & f.22001.0.0 & f.21003.0.0 & f.21003.1.0 & f.21003.2.0 & f.21003.3.0 & f.2247.0.0\\_recode & f.2247.1.0\\_recode & f.2247.2.0\\_recode & f.2247.3.0\\_recode & cases\\\\\n",
       "  & <int> & <int> & <fct> & <int> & <int> & <int> & <int> & <fct> & <fct> & <fct> & <fct> & <lgl>\\\\\n",
       "\\hline\n",
       "\t1 & 1000019 & 1000019 & Female & 47 & NA & NA & NA & 1 & NA & NA & NA & TRUE\\\\\n",
       "\t2 & 1000022 & 1000022 & Male   & 53 & NA & NA & NA & 1 & NA & NA & NA & TRUE\\\\\n",
       "\t3 & 1000112 & 1000112 & Male   & 58 & NA & 68 & NA & 9 & NA & 1  & NA & TRUE\\\\\n",
       "\t4 & 1000170 & 1000170 & Female & 51 & NA & NA & NA & 1 & NA & NA & NA & TRUE\\\\\n",
       "\t5 & 1000198 & 1000198 & Female & 41 & NA & NA & NA & 1 & NA & NA & NA & TRUE\\\\\n",
       "\t6 & 1000203 & 1000203 & Female & 49 & NA & NA & NA & 1 & NA & NA & NA & TRUE\\\\\n",
       "\\end{tabular}\n"
      ],
      "text/markdown": [
       "\n",
       "A data.frame: 6 × 12\n",
       "\n",
       "| <!--/--> | IID &lt;int&gt; | FID &lt;int&gt; | f.22001.0.0 &lt;fct&gt; | f.21003.0.0 &lt;int&gt; | f.21003.1.0 &lt;int&gt; | f.21003.2.0 &lt;int&gt; | f.21003.3.0 &lt;int&gt; | f.2247.0.0_recode &lt;fct&gt; | f.2247.1.0_recode &lt;fct&gt; | f.2247.2.0_recode &lt;fct&gt; | f.2247.3.0_recode &lt;fct&gt; | cases &lt;lgl&gt; |\n",
       "|---|---|---|---|---|---|---|---|---|---|---|---|---|\n",
       "| 1 | 1000019 | 1000019 | Female | 47 | NA | NA | NA | 1 | NA | NA | NA | TRUE |\n",
       "| 2 | 1000022 | 1000022 | Male   | 53 | NA | NA | NA | 1 | NA | NA | NA | TRUE |\n",
       "| 3 | 1000112 | 1000112 | Male   | 58 | NA | 68 | NA | 9 | NA | 1  | NA | TRUE |\n",
       "| 4 | 1000170 | 1000170 | Female | 51 | NA | NA | NA | 1 | NA | NA | NA | TRUE |\n",
       "| 5 | 1000198 | 1000198 | Female | 41 | NA | NA | NA | 1 | NA | NA | NA | TRUE |\n",
       "| 6 | 1000203 | 1000203 | Female | 49 | NA | NA | NA | 1 | NA | NA | NA | TRUE |\n",
       "\n"
      ],
      "text/plain": [
       "  IID     FID     f.22001.0.0 f.21003.0.0 f.21003.1.0 f.21003.2.0 f.21003.3.0\n",
       "1 1000019 1000019 Female      47          NA          NA          NA         \n",
       "2 1000022 1000022 Male        53          NA          NA          NA         \n",
       "3 1000112 1000112 Male        58          NA          68          NA         \n",
       "4 1000170 1000170 Female      51          NA          NA          NA         \n",
       "5 1000198 1000198 Female      41          NA          NA          NA         \n",
       "6 1000203 1000203 Female      49          NA          NA          NA         \n",
       "  f.2247.0.0_recode f.2247.1.0_recode f.2247.2.0_recode f.2247.3.0_recode cases\n",
       "1 1                 NA                NA                NA                TRUE \n",
       "2 1                 NA                NA                NA                TRUE \n",
       "3 9                 NA                1                 NA                TRUE \n",
       "4 1                 NA                NA                NA                TRUE \n",
       "5 1                 NA                NA                NA                TRUE \n",
       "6 1                 NA                NA                NA                TRUE "
      ]
     },
     "metadata": {},
     "output_type": "display_data"
    },
    {
     "name": "stdout",
     "output_type": "stream",
     "text": [
      "91057 individuals are cases for f.2247"
     ]
    }
   ],
   "source": [
    "hearing_diff_cases <- hearing_diff %>% \n",
    "  filter(cases == TRUE)\n",
    "head(hearing_diff_cases)\n",
    "cat(dim(hearing_diff_cases)[1], \"individuals are cases for f.2247\")"
   ]
  },
  {
   "cell_type": "code",
   "execution_count": 55,
   "metadata": {
    "kernel": "R"
   },
   "outputs": [
    {
     "data": {
      "text/html": [
       "<table>\n",
       "<caption>A data.frame: 6 × 12</caption>\n",
       "<thead>\n",
       "\t<tr><th></th><th scope=col>IID</th><th scope=col>FID</th><th scope=col>f.22001.0.0</th><th scope=col>f.21003.0.0</th><th scope=col>f.21003.1.0</th><th scope=col>f.21003.2.0</th><th scope=col>f.21003.3.0</th><th scope=col>f.2247.0.0_recode</th><th scope=col>f.2247.1.0_recode</th><th scope=col>f.2247.2.0_recode</th><th scope=col>f.2247.3.0_recode</th><th scope=col>cases</th></tr>\n",
       "\t<tr><th></th><th scope=col>&lt;int&gt;</th><th scope=col>&lt;int&gt;</th><th scope=col>&lt;fct&gt;</th><th scope=col>&lt;int&gt;</th><th scope=col>&lt;int&gt;</th><th scope=col>&lt;int&gt;</th><th scope=col>&lt;int&gt;</th><th scope=col>&lt;fct&gt;</th><th scope=col>&lt;fct&gt;</th><th scope=col>&lt;fct&gt;</th><th scope=col>&lt;fct&gt;</th><th scope=col>&lt;lgl&gt;</th></tr>\n",
       "</thead>\n",
       "<tbody>\n",
       "\t<tr><th scope=row>1</th><td>1000035</td><td>1000035</td><td>Male  </td><td>63</td><td>NA</td><td>NA</td><td>NA</td><td>0</td><td>NA</td><td>NA</td><td>NA</td><td>FALSE</td></tr>\n",
       "\t<tr><th scope=row>2</th><td>1000046</td><td>1000046</td><td>Female</td><td>62</td><td>NA</td><td>73</td><td>NA</td><td>0</td><td>NA</td><td>0 </td><td>NA</td><td>FALSE</td></tr>\n",
       "\t<tr><th scope=row>3</th><td>1000054</td><td>1000054</td><td>Female</td><td>65</td><td>NA</td><td>NA</td><td>NA</td><td>0</td><td>NA</td><td>NA</td><td>NA</td><td>FALSE</td></tr>\n",
       "\t<tr><th scope=row>4</th><td>1000063</td><td>1000063</td><td>Male  </td><td>43</td><td>NA</td><td>NA</td><td>NA</td><td>0</td><td>NA</td><td>NA</td><td>NA</td><td>FALSE</td></tr>\n",
       "\t<tr><th scope=row>5</th><td>1000078</td><td>1000078</td><td>Female</td><td>52</td><td>57</td><td>60</td><td>NA</td><td>0</td><td>0 </td><td>0 </td><td>NA</td><td>FALSE</td></tr>\n",
       "\t<tr><th scope=row>6</th><td>1000129</td><td>1000129</td><td>Male  </td><td>62</td><td>NA</td><td>NA</td><td>NA</td><td>0</td><td>NA</td><td>NA</td><td>NA</td><td>FALSE</td></tr>\n",
       "</tbody>\n",
       "</table>\n"
      ],
      "text/latex": [
       "A data.frame: 6 × 12\n",
       "\\begin{tabular}{r|llllllllllll}\n",
       "  & IID & FID & f.22001.0.0 & f.21003.0.0 & f.21003.1.0 & f.21003.2.0 & f.21003.3.0 & f.2247.0.0\\_recode & f.2247.1.0\\_recode & f.2247.2.0\\_recode & f.2247.3.0\\_recode & cases\\\\\n",
       "  & <int> & <int> & <fct> & <int> & <int> & <int> & <int> & <fct> & <fct> & <fct> & <fct> & <lgl>\\\\\n",
       "\\hline\n",
       "\t1 & 1000035 & 1000035 & Male   & 63 & NA & NA & NA & 0 & NA & NA & NA & FALSE\\\\\n",
       "\t2 & 1000046 & 1000046 & Female & 62 & NA & 73 & NA & 0 & NA & 0  & NA & FALSE\\\\\n",
       "\t3 & 1000054 & 1000054 & Female & 65 & NA & NA & NA & 0 & NA & NA & NA & FALSE\\\\\n",
       "\t4 & 1000063 & 1000063 & Male   & 43 & NA & NA & NA & 0 & NA & NA & NA & FALSE\\\\\n",
       "\t5 & 1000078 & 1000078 & Female & 52 & 57 & 60 & NA & 0 & 0  & 0  & NA & FALSE\\\\\n",
       "\t6 & 1000129 & 1000129 & Male   & 62 & NA & NA & NA & 0 & NA & NA & NA & FALSE\\\\\n",
       "\\end{tabular}\n"
      ],
      "text/markdown": [
       "\n",
       "A data.frame: 6 × 12\n",
       "\n",
       "| <!--/--> | IID &lt;int&gt; | FID &lt;int&gt; | f.22001.0.0 &lt;fct&gt; | f.21003.0.0 &lt;int&gt; | f.21003.1.0 &lt;int&gt; | f.21003.2.0 &lt;int&gt; | f.21003.3.0 &lt;int&gt; | f.2247.0.0_recode &lt;fct&gt; | f.2247.1.0_recode &lt;fct&gt; | f.2247.2.0_recode &lt;fct&gt; | f.2247.3.0_recode &lt;fct&gt; | cases &lt;lgl&gt; |\n",
       "|---|---|---|---|---|---|---|---|---|---|---|---|---|\n",
       "| 1 | 1000035 | 1000035 | Male   | 63 | NA | NA | NA | 0 | NA | NA | NA | FALSE |\n",
       "| 2 | 1000046 | 1000046 | Female | 62 | NA | 73 | NA | 0 | NA | 0  | NA | FALSE |\n",
       "| 3 | 1000054 | 1000054 | Female | 65 | NA | NA | NA | 0 | NA | NA | NA | FALSE |\n",
       "| 4 | 1000063 | 1000063 | Male   | 43 | NA | NA | NA | 0 | NA | NA | NA | FALSE |\n",
       "| 5 | 1000078 | 1000078 | Female | 52 | 57 | 60 | NA | 0 | 0  | 0  | NA | FALSE |\n",
       "| 6 | 1000129 | 1000129 | Male   | 62 | NA | NA | NA | 0 | NA | NA | NA | FALSE |\n",
       "\n"
      ],
      "text/plain": [
       "  IID     FID     f.22001.0.0 f.21003.0.0 f.21003.1.0 f.21003.2.0 f.21003.3.0\n",
       "1 1000035 1000035 Male        63          NA          NA          NA         \n",
       "2 1000046 1000046 Female      62          NA          73          NA         \n",
       "3 1000054 1000054 Female      65          NA          NA          NA         \n",
       "4 1000063 1000063 Male        43          NA          NA          NA         \n",
       "5 1000078 1000078 Female      52          57          60          NA         \n",
       "6 1000129 1000129 Male        62          NA          NA          NA         \n",
       "  f.2247.0.0_recode f.2247.1.0_recode f.2247.2.0_recode f.2247.3.0_recode cases\n",
       "1 0                 NA                NA                NA                FALSE\n",
       "2 0                 NA                0                 NA                FALSE\n",
       "3 0                 NA                NA                NA                FALSE\n",
       "4 0                 NA                NA                NA                FALSE\n",
       "5 0                 0                 0                 NA                FALSE\n",
       "6 0                 NA                NA                NA                FALSE"
      ]
     },
     "metadata": {},
     "output_type": "display_data"
    },
    {
     "name": "stdout",
     "output_type": "stream",
     "text": [
      "246072 individuals are controls for f.2247"
     ]
    }
   ],
   "source": [
    "hearing_diff_controls <- hearing_diff %>% \n",
    "  filter(cases == FALSE)\n",
    "head(hearing_diff_controls)\n",
    "cat(dim(hearing_diff_controls)[1], \"individuals are controls for f.2247\")"
   ]
  },
  {
   "cell_type": "code",
   "execution_count": 56,
   "metadata": {
    "kernel": "R"
   },
   "outputs": [
    {
     "data": {
      "text/html": [
       "0"
      ],
      "text/latex": [
       "0"
      ],
      "text/markdown": [
       "0"
      ],
      "text/plain": [
       "[1] 0"
      ]
     },
     "metadata": {},
     "output_type": "display_data"
    }
   ],
   "source": [
    "dim(hearing_diff)[1]-246072 - 91057"
   ]
  },
  {
   "cell_type": "markdown",
   "metadata": {
    "kernel": "R"
   },
   "source": [
    "## f.2247 Recode cases=1 and controls=0"
   ]
  },
  {
   "cell_type": "code",
   "execution_count": 57,
   "metadata": {
    "kernel": "R"
   },
   "outputs": [
    {
     "data": {
      "text/html": [
       "<table>\n",
       "<caption>A data.frame: 10 × 13</caption>\n",
       "<thead>\n",
       "\t<tr><th></th><th scope=col>IID</th><th scope=col>FID</th><th scope=col>f.22001.0.0</th><th scope=col>f.21003.0.0</th><th scope=col>f.21003.1.0</th><th scope=col>f.21003.2.0</th><th scope=col>f.21003.3.0</th><th scope=col>f.2247.0.0_recode</th><th scope=col>f.2247.1.0_recode</th><th scope=col>f.2247.2.0_recode</th><th scope=col>f.2247.3.0_recode</th><th scope=col>cases</th><th scope=col>hearing_diff_cat</th></tr>\n",
       "\t<tr><th></th><th scope=col>&lt;int&gt;</th><th scope=col>&lt;int&gt;</th><th scope=col>&lt;fct&gt;</th><th scope=col>&lt;int&gt;</th><th scope=col>&lt;int&gt;</th><th scope=col>&lt;int&gt;</th><th scope=col>&lt;int&gt;</th><th scope=col>&lt;fct&gt;</th><th scope=col>&lt;fct&gt;</th><th scope=col>&lt;fct&gt;</th><th scope=col>&lt;fct&gt;</th><th scope=col>&lt;lgl&gt;</th><th scope=col>&lt;int&gt;</th></tr>\n",
       "</thead>\n",
       "<tbody>\n",
       "\t<tr><th scope=row>1</th><td>1000019</td><td>1000019</td><td>Female</td><td>47</td><td>NA</td><td>NA</td><td>NA</td><td>1</td><td>NA</td><td>NA</td><td>NA</td><td> TRUE</td><td>1</td></tr>\n",
       "\t<tr><th scope=row>2</th><td>1000022</td><td>1000022</td><td>Male  </td><td>53</td><td>NA</td><td>NA</td><td>NA</td><td>1</td><td>NA</td><td>NA</td><td>NA</td><td> TRUE</td><td>1</td></tr>\n",
       "\t<tr><th scope=row>3</th><td>1000035</td><td>1000035</td><td>Male  </td><td>63</td><td>NA</td><td>NA</td><td>NA</td><td>0</td><td>NA</td><td>NA</td><td>NA</td><td>FALSE</td><td>0</td></tr>\n",
       "\t<tr><th scope=row>4</th><td>1000046</td><td>1000046</td><td>Female</td><td>62</td><td>NA</td><td>73</td><td>NA</td><td>0</td><td>NA</td><td>0 </td><td>NA</td><td>FALSE</td><td>0</td></tr>\n",
       "\t<tr><th scope=row>5</th><td>1000054</td><td>1000054</td><td>Female</td><td>65</td><td>NA</td><td>NA</td><td>NA</td><td>0</td><td>NA</td><td>NA</td><td>NA</td><td>FALSE</td><td>0</td></tr>\n",
       "\t<tr><th scope=row>6</th><td>1000063</td><td>1000063</td><td>Male  </td><td>43</td><td>NA</td><td>NA</td><td>NA</td><td>0</td><td>NA</td><td>NA</td><td>NA</td><td>FALSE</td><td>0</td></tr>\n",
       "\t<tr><th scope=row>7</th><td>1000078</td><td>1000078</td><td>Female</td><td>52</td><td>57</td><td>60</td><td>NA</td><td>0</td><td>0 </td><td>0 </td><td>NA</td><td>FALSE</td><td>0</td></tr>\n",
       "\t<tr><th scope=row>8</th><td>1000112</td><td>1000112</td><td>Male  </td><td>58</td><td>NA</td><td>68</td><td>NA</td><td>9</td><td>NA</td><td>1 </td><td>NA</td><td> TRUE</td><td>1</td></tr>\n",
       "\t<tr><th scope=row>9</th><td>1000129</td><td>1000129</td><td>Male  </td><td>62</td><td>NA</td><td>NA</td><td>NA</td><td>0</td><td>NA</td><td>NA</td><td>NA</td><td>FALSE</td><td>0</td></tr>\n",
       "\t<tr><th scope=row>10</th><td>1000137</td><td>1000137</td><td>Female</td><td>46</td><td>NA</td><td>NA</td><td>NA</td><td>0</td><td>NA</td><td>NA</td><td>NA</td><td>FALSE</td><td>0</td></tr>\n",
       "</tbody>\n",
       "</table>\n"
      ],
      "text/latex": [
       "A data.frame: 10 × 13\n",
       "\\begin{tabular}{r|lllllllllllll}\n",
       "  & IID & FID & f.22001.0.0 & f.21003.0.0 & f.21003.1.0 & f.21003.2.0 & f.21003.3.0 & f.2247.0.0\\_recode & f.2247.1.0\\_recode & f.2247.2.0\\_recode & f.2247.3.0\\_recode & cases & hearing\\_diff\\_cat\\\\\n",
       "  & <int> & <int> & <fct> & <int> & <int> & <int> & <int> & <fct> & <fct> & <fct> & <fct> & <lgl> & <int>\\\\\n",
       "\\hline\n",
       "\t1 & 1000019 & 1000019 & Female & 47 & NA & NA & NA & 1 & NA & NA & NA &  TRUE & 1\\\\\n",
       "\t2 & 1000022 & 1000022 & Male   & 53 & NA & NA & NA & 1 & NA & NA & NA &  TRUE & 1\\\\\n",
       "\t3 & 1000035 & 1000035 & Male   & 63 & NA & NA & NA & 0 & NA & NA & NA & FALSE & 0\\\\\n",
       "\t4 & 1000046 & 1000046 & Female & 62 & NA & 73 & NA & 0 & NA & 0  & NA & FALSE & 0\\\\\n",
       "\t5 & 1000054 & 1000054 & Female & 65 & NA & NA & NA & 0 & NA & NA & NA & FALSE & 0\\\\\n",
       "\t6 & 1000063 & 1000063 & Male   & 43 & NA & NA & NA & 0 & NA & NA & NA & FALSE & 0\\\\\n",
       "\t7 & 1000078 & 1000078 & Female & 52 & 57 & 60 & NA & 0 & 0  & 0  & NA & FALSE & 0\\\\\n",
       "\t8 & 1000112 & 1000112 & Male   & 58 & NA & 68 & NA & 9 & NA & 1  & NA &  TRUE & 1\\\\\n",
       "\t9 & 1000129 & 1000129 & Male   & 62 & NA & NA & NA & 0 & NA & NA & NA & FALSE & 0\\\\\n",
       "\t10 & 1000137 & 1000137 & Female & 46 & NA & NA & NA & 0 & NA & NA & NA & FALSE & 0\\\\\n",
       "\\end{tabular}\n"
      ],
      "text/markdown": [
       "\n",
       "A data.frame: 10 × 13\n",
       "\n",
       "| <!--/--> | IID &lt;int&gt; | FID &lt;int&gt; | f.22001.0.0 &lt;fct&gt; | f.21003.0.0 &lt;int&gt; | f.21003.1.0 &lt;int&gt; | f.21003.2.0 &lt;int&gt; | f.21003.3.0 &lt;int&gt; | f.2247.0.0_recode &lt;fct&gt; | f.2247.1.0_recode &lt;fct&gt; | f.2247.2.0_recode &lt;fct&gt; | f.2247.3.0_recode &lt;fct&gt; | cases &lt;lgl&gt; | hearing_diff_cat &lt;int&gt; |\n",
       "|---|---|---|---|---|---|---|---|---|---|---|---|---|---|\n",
       "| 1 | 1000019 | 1000019 | Female | 47 | NA | NA | NA | 1 | NA | NA | NA |  TRUE | 1 |\n",
       "| 2 | 1000022 | 1000022 | Male   | 53 | NA | NA | NA | 1 | NA | NA | NA |  TRUE | 1 |\n",
       "| 3 | 1000035 | 1000035 | Male   | 63 | NA | NA | NA | 0 | NA | NA | NA | FALSE | 0 |\n",
       "| 4 | 1000046 | 1000046 | Female | 62 | NA | 73 | NA | 0 | NA | 0  | NA | FALSE | 0 |\n",
       "| 5 | 1000054 | 1000054 | Female | 65 | NA | NA | NA | 0 | NA | NA | NA | FALSE | 0 |\n",
       "| 6 | 1000063 | 1000063 | Male   | 43 | NA | NA | NA | 0 | NA | NA | NA | FALSE | 0 |\n",
       "| 7 | 1000078 | 1000078 | Female | 52 | 57 | 60 | NA | 0 | 0  | 0  | NA | FALSE | 0 |\n",
       "| 8 | 1000112 | 1000112 | Male   | 58 | NA | 68 | NA | 9 | NA | 1  | NA |  TRUE | 1 |\n",
       "| 9 | 1000129 | 1000129 | Male   | 62 | NA | NA | NA | 0 | NA | NA | NA | FALSE | 0 |\n",
       "| 10 | 1000137 | 1000137 | Female | 46 | NA | NA | NA | 0 | NA | NA | NA | FALSE | 0 |\n",
       "\n"
      ],
      "text/plain": [
       "   IID     FID     f.22001.0.0 f.21003.0.0 f.21003.1.0 f.21003.2.0 f.21003.3.0\n",
       "1  1000019 1000019 Female      47          NA          NA          NA         \n",
       "2  1000022 1000022 Male        53          NA          NA          NA         \n",
       "3  1000035 1000035 Male        63          NA          NA          NA         \n",
       "4  1000046 1000046 Female      62          NA          73          NA         \n",
       "5  1000054 1000054 Female      65          NA          NA          NA         \n",
       "6  1000063 1000063 Male        43          NA          NA          NA         \n",
       "7  1000078 1000078 Female      52          57          60          NA         \n",
       "8  1000112 1000112 Male        58          NA          68          NA         \n",
       "9  1000129 1000129 Male        62          NA          NA          NA         \n",
       "10 1000137 1000137 Female      46          NA          NA          NA         \n",
       "   f.2247.0.0_recode f.2247.1.0_recode f.2247.2.0_recode f.2247.3.0_recode\n",
       "1  1                 NA                NA                NA               \n",
       "2  1                 NA                NA                NA               \n",
       "3  0                 NA                NA                NA               \n",
       "4  0                 NA                0                 NA               \n",
       "5  0                 NA                NA                NA               \n",
       "6  0                 NA                NA                NA               \n",
       "7  0                 0                 0                 NA               \n",
       "8  9                 NA                1                 NA               \n",
       "9  0                 NA                NA                NA               \n",
       "10 0                 NA                NA                NA               \n",
       "   cases hearing_diff_cat\n",
       "1   TRUE 1               \n",
       "2   TRUE 1               \n",
       "3  FALSE 0               \n",
       "4  FALSE 0               \n",
       "5  FALSE 0               \n",
       "6  FALSE 0               \n",
       "7  FALSE 0               \n",
       "8   TRUE 1               \n",
       "9  FALSE 0               \n",
       "10 FALSE 0               "
      ]
     },
     "metadata": {},
     "output_type": "display_data"
    },
    {
     "data": {
      "text/html": [
       "0"
      ],
      "text/latex": [
       "0"
      ],
      "text/markdown": [
       "0"
      ],
      "text/plain": [
       "[1] 0"
      ]
     },
     "metadata": {},
     "output_type": "display_data"
    }
   ],
   "source": [
    "hearing_diff$hearing_diff_cat <- as.integer(as.logical(hearing_diff$cases))\n",
    "head(hearing_diff, 10)\n",
    "# Get the number of NAs\n",
    "length(which(is.na(hearing_diff$hearing_dif_cat)))"
   ]
  },
  {
   "cell_type": "markdown",
   "metadata": {
    "kernel": "R"
   },
   "source": [
    "## f.2247 Step 2: get the ages for hearing difficulty"
   ]
  },
  {
   "cell_type": "code",
   "execution_count": 58,
   "metadata": {
    "kernel": "R"
   },
   "outputs": [
    {
     "data": {
      "text/html": [
       "<table>\n",
       "<caption>A data.frame: 12 × 9</caption>\n",
       "<thead>\n",
       "\t<tr><th></th><th scope=col>IID</th><th scope=col>f.2247.0.0_recode</th><th scope=col>f.2247.1.0_recode</th><th scope=col>f.2247.2.0_recode</th><th scope=col>f.2247.3.0_recode</th><th scope=col>f.21003.0.0</th><th scope=col>f.21003.1.0</th><th scope=col>f.21003.2.0</th><th scope=col>f.21003.3.0</th></tr>\n",
       "\t<tr><th></th><th scope=col>&lt;int&gt;</th><th scope=col>&lt;fct&gt;</th><th scope=col>&lt;fct&gt;</th><th scope=col>&lt;fct&gt;</th><th scope=col>&lt;fct&gt;</th><th scope=col>&lt;int&gt;</th><th scope=col>&lt;int&gt;</th><th scope=col>&lt;int&gt;</th><th scope=col>&lt;int&gt;</th></tr>\n",
       "</thead>\n",
       "<tbody>\n",
       "\t<tr><th scope=row>1</th><td>1000019</td><td>1</td><td>NA</td><td>NA</td><td>NA</td><td>47</td><td>NA</td><td>NA</td><td>NA</td></tr>\n",
       "\t<tr><th scope=row>2</th><td>1000022</td><td>1</td><td>NA</td><td>NA</td><td>NA</td><td>53</td><td>NA</td><td>NA</td><td>NA</td></tr>\n",
       "\t<tr><th scope=row>3</th><td>1000112</td><td>9</td><td>NA</td><td>1 </td><td>NA</td><td>58</td><td>NA</td><td>68</td><td>NA</td></tr>\n",
       "\t<tr><th scope=row>4</th><td>1000170</td><td>1</td><td>NA</td><td>NA</td><td>NA</td><td>51</td><td>NA</td><td>NA</td><td>NA</td></tr>\n",
       "\t<tr><th scope=row>5</th><td>1000198</td><td>1</td><td>NA</td><td>NA</td><td>NA</td><td>41</td><td>NA</td><td>NA</td><td>NA</td></tr>\n",
       "\t<tr><th scope=row>6</th><td>1000203</td><td>1</td><td>NA</td><td>NA</td><td>NA</td><td>49</td><td>NA</td><td>NA</td><td>NA</td></tr>\n",
       "\t<tr><th scope=row>7</th><td>1000494</td><td>1</td><td>NA</td><td>NA</td><td>NA</td><td>61</td><td>NA</td><td>NA</td><td>NA</td></tr>\n",
       "\t<tr><th scope=row>8</th><td>1000549</td><td>1</td><td>NA</td><td>NA</td><td>NA</td><td>63</td><td>NA</td><td>NA</td><td>NA</td></tr>\n",
       "\t<tr><th scope=row>9</th><td>1000728</td><td>1</td><td>NA</td><td>NA</td><td>NA</td><td>61</td><td>NA</td><td>NA</td><td>NA</td></tr>\n",
       "\t<tr><th scope=row>10</th><td>1000745</td><td>1</td><td>NA</td><td>NA</td><td>NA</td><td>60</td><td>NA</td><td>NA</td><td>NA</td></tr>\n",
       "\t<tr><th scope=row>11</th><td>1000767</td><td>1</td><td>NA</td><td>NA</td><td>NA</td><td>48</td><td>NA</td><td>NA</td><td>NA</td></tr>\n",
       "\t<tr><th scope=row>12</th><td>1000933</td><td>1</td><td>NA</td><td>NA</td><td>NA</td><td>58</td><td>NA</td><td>NA</td><td>NA</td></tr>\n",
       "</tbody>\n",
       "</table>\n"
      ],
      "text/latex": [
       "A data.frame: 12 × 9\n",
       "\\begin{tabular}{r|lllllllll}\n",
       "  & IID & f.2247.0.0\\_recode & f.2247.1.0\\_recode & f.2247.2.0\\_recode & f.2247.3.0\\_recode & f.21003.0.0 & f.21003.1.0 & f.21003.2.0 & f.21003.3.0\\\\\n",
       "  & <int> & <fct> & <fct> & <fct> & <fct> & <int> & <int> & <int> & <int>\\\\\n",
       "\\hline\n",
       "\t1 & 1000019 & 1 & NA & NA & NA & 47 & NA & NA & NA\\\\\n",
       "\t2 & 1000022 & 1 & NA & NA & NA & 53 & NA & NA & NA\\\\\n",
       "\t3 & 1000112 & 9 & NA & 1  & NA & 58 & NA & 68 & NA\\\\\n",
       "\t4 & 1000170 & 1 & NA & NA & NA & 51 & NA & NA & NA\\\\\n",
       "\t5 & 1000198 & 1 & NA & NA & NA & 41 & NA & NA & NA\\\\\n",
       "\t6 & 1000203 & 1 & NA & NA & NA & 49 & NA & NA & NA\\\\\n",
       "\t7 & 1000494 & 1 & NA & NA & NA & 61 & NA & NA & NA\\\\\n",
       "\t8 & 1000549 & 1 & NA & NA & NA & 63 & NA & NA & NA\\\\\n",
       "\t9 & 1000728 & 1 & NA & NA & NA & 61 & NA & NA & NA\\\\\n",
       "\t10 & 1000745 & 1 & NA & NA & NA & 60 & NA & NA & NA\\\\\n",
       "\t11 & 1000767 & 1 & NA & NA & NA & 48 & NA & NA & NA\\\\\n",
       "\t12 & 1000933 & 1 & NA & NA & NA & 58 & NA & NA & NA\\\\\n",
       "\\end{tabular}\n"
      ],
      "text/markdown": [
       "\n",
       "A data.frame: 12 × 9\n",
       "\n",
       "| <!--/--> | IID &lt;int&gt; | f.2247.0.0_recode &lt;fct&gt; | f.2247.1.0_recode &lt;fct&gt; | f.2247.2.0_recode &lt;fct&gt; | f.2247.3.0_recode &lt;fct&gt; | f.21003.0.0 &lt;int&gt; | f.21003.1.0 &lt;int&gt; | f.21003.2.0 &lt;int&gt; | f.21003.3.0 &lt;int&gt; |\n",
       "|---|---|---|---|---|---|---|---|---|---|\n",
       "| 1 | 1000019 | 1 | NA | NA | NA | 47 | NA | NA | NA |\n",
       "| 2 | 1000022 | 1 | NA | NA | NA | 53 | NA | NA | NA |\n",
       "| 3 | 1000112 | 9 | NA | 1  | NA | 58 | NA | 68 | NA |\n",
       "| 4 | 1000170 | 1 | NA | NA | NA | 51 | NA | NA | NA |\n",
       "| 5 | 1000198 | 1 | NA | NA | NA | 41 | NA | NA | NA |\n",
       "| 6 | 1000203 | 1 | NA | NA | NA | 49 | NA | NA | NA |\n",
       "| 7 | 1000494 | 1 | NA | NA | NA | 61 | NA | NA | NA |\n",
       "| 8 | 1000549 | 1 | NA | NA | NA | 63 | NA | NA | NA |\n",
       "| 9 | 1000728 | 1 | NA | NA | NA | 61 | NA | NA | NA |\n",
       "| 10 | 1000745 | 1 | NA | NA | NA | 60 | NA | NA | NA |\n",
       "| 11 | 1000767 | 1 | NA | NA | NA | 48 | NA | NA | NA |\n",
       "| 12 | 1000933 | 1 | NA | NA | NA | 58 | NA | NA | NA |\n",
       "\n"
      ],
      "text/plain": [
       "   IID     f.2247.0.0_recode f.2247.1.0_recode f.2247.2.0_recode\n",
       "1  1000019 1                 NA                NA               \n",
       "2  1000022 1                 NA                NA               \n",
       "3  1000112 9                 NA                1                \n",
       "4  1000170 1                 NA                NA               \n",
       "5  1000198 1                 NA                NA               \n",
       "6  1000203 1                 NA                NA               \n",
       "7  1000494 1                 NA                NA               \n",
       "8  1000549 1                 NA                NA               \n",
       "9  1000728 1                 NA                NA               \n",
       "10 1000745 1                 NA                NA               \n",
       "11 1000767 1                 NA                NA               \n",
       "12 1000933 1                 NA                NA               \n",
       "   f.2247.3.0_recode f.21003.0.0 f.21003.1.0 f.21003.2.0 f.21003.3.0\n",
       "1  NA                47          NA          NA          NA         \n",
       "2  NA                53          NA          NA          NA         \n",
       "3  NA                58          NA          68          NA         \n",
       "4  NA                51          NA          NA          NA         \n",
       "5  NA                41          NA          NA          NA         \n",
       "6  NA                49          NA          NA          NA         \n",
       "7  NA                61          NA          NA          NA         \n",
       "8  NA                63          NA          NA          NA         \n",
       "9  NA                61          NA          NA          NA         \n",
       "10 NA                60          NA          NA          NA         \n",
       "11 NA                48          NA          NA          NA         \n",
       "12 NA                58          NA          NA          NA         "
      ]
     },
     "metadata": {},
     "output_type": "display_data"
    }
   ],
   "source": [
    "# Get the subset data of cases\n",
    "diff_age_cases = hearing_diff %>% \n",
    "  filter(hearing_diff_cat==\"1\")  %>%\n",
    "  select(IID, f.2247.0.0_recode, f.2247.1.0_recode, f.2247.2.0_recode, f.2247.3.0_recode, f.21003.0.0, f.21003.1.0, f.21003.2.0, f.21003.3.0)\n",
    "head(diff_age_cases,12)"
   ]
  },
  {
   "cell_type": "code",
   "execution_count": 59,
   "metadata": {
    "kernel": "R"
   },
   "outputs": [
    {
     "data": {
      "text/html": [
       "<table>\n",
       "<caption>A data.frame: 6 × 10</caption>\n",
       "<thead>\n",
       "\t<tr><th></th><th scope=col>IID</th><th scope=col>f.2247.0.0_recode</th><th scope=col>f.2247.1.0_recode</th><th scope=col>f.2247.2.0_recode</th><th scope=col>f.2247.3.0_recode</th><th scope=col>f.21003.0.0</th><th scope=col>f.21003.1.0</th><th scope=col>f.21003.2.0</th><th scope=col>f.21003.3.0</th><th scope=col>visit_idx</th></tr>\n",
       "\t<tr><th></th><th scope=col>&lt;int&gt;</th><th scope=col>&lt;fct&gt;</th><th scope=col>&lt;fct&gt;</th><th scope=col>&lt;fct&gt;</th><th scope=col>&lt;fct&gt;</th><th scope=col>&lt;int&gt;</th><th scope=col>&lt;int&gt;</th><th scope=col>&lt;int&gt;</th><th scope=col>&lt;int&gt;</th><th scope=col>&lt;list&gt;</th></tr>\n",
       "</thead>\n",
       "<tbody>\n",
       "\t<tr><th scope=row>1</th><td>1000019</td><td>1</td><td>NA</td><td>NA</td><td>NA</td><td>47</td><td>NA</td><td>NA</td><td>NA</td><td>2</td></tr>\n",
       "\t<tr><th scope=row>2</th><td>1000022</td><td>1</td><td>NA</td><td>NA</td><td>NA</td><td>53</td><td>NA</td><td>NA</td><td>NA</td><td>2</td></tr>\n",
       "\t<tr><th scope=row>3</th><td>1000112</td><td>9</td><td>NA</td><td>1 </td><td>NA</td><td>58</td><td>NA</td><td>68</td><td>NA</td><td>4</td></tr>\n",
       "\t<tr><th scope=row>4</th><td>1000170</td><td>1</td><td>NA</td><td>NA</td><td>NA</td><td>51</td><td>NA</td><td>NA</td><td>NA</td><td>2</td></tr>\n",
       "\t<tr><th scope=row>5</th><td>1000198</td><td>1</td><td>NA</td><td>NA</td><td>NA</td><td>41</td><td>NA</td><td>NA</td><td>NA</td><td>2</td></tr>\n",
       "\t<tr><th scope=row>6</th><td>1000203</td><td>1</td><td>NA</td><td>NA</td><td>NA</td><td>49</td><td>NA</td><td>NA</td><td>NA</td><td>2</td></tr>\n",
       "</tbody>\n",
       "</table>\n"
      ],
      "text/latex": [
       "A data.frame: 6 × 10\n",
       "\\begin{tabular}{r|llllllllll}\n",
       "  & IID & f.2247.0.0\\_recode & f.2247.1.0\\_recode & f.2247.2.0\\_recode & f.2247.3.0\\_recode & f.21003.0.0 & f.21003.1.0 & f.21003.2.0 & f.21003.3.0 & visit\\_idx\\\\\n",
       "  & <int> & <fct> & <fct> & <fct> & <fct> & <int> & <int> & <int> & <int> & <list>\\\\\n",
       "\\hline\n",
       "\t1 & 1000019 & 1 & NA & NA & NA & 47 & NA & NA & NA & 2\\\\\n",
       "\t2 & 1000022 & 1 & NA & NA & NA & 53 & NA & NA & NA & 2\\\\\n",
       "\t3 & 1000112 & 9 & NA & 1  & NA & 58 & NA & 68 & NA & 4\\\\\n",
       "\t4 & 1000170 & 1 & NA & NA & NA & 51 & NA & NA & NA & 2\\\\\n",
       "\t5 & 1000198 & 1 & NA & NA & NA & 41 & NA & NA & NA & 2\\\\\n",
       "\t6 & 1000203 & 1 & NA & NA & NA & 49 & NA & NA & NA & 2\\\\\n",
       "\\end{tabular}\n"
      ],
      "text/markdown": [
       "\n",
       "A data.frame: 6 × 10\n",
       "\n",
       "| <!--/--> | IID &lt;int&gt; | f.2247.0.0_recode &lt;fct&gt; | f.2247.1.0_recode &lt;fct&gt; | f.2247.2.0_recode &lt;fct&gt; | f.2247.3.0_recode &lt;fct&gt; | f.21003.0.0 &lt;int&gt; | f.21003.1.0 &lt;int&gt; | f.21003.2.0 &lt;int&gt; | f.21003.3.0 &lt;int&gt; | visit_idx &lt;list&gt; |\n",
       "|---|---|---|---|---|---|---|---|---|---|---|\n",
       "| 1 | 1000019 | 1 | NA | NA | NA | 47 | NA | NA | NA | 2 |\n",
       "| 2 | 1000022 | 1 | NA | NA | NA | 53 | NA | NA | NA | 2 |\n",
       "| 3 | 1000112 | 9 | NA | 1  | NA | 58 | NA | 68 | NA | 4 |\n",
       "| 4 | 1000170 | 1 | NA | NA | NA | 51 | NA | NA | NA | 2 |\n",
       "| 5 | 1000198 | 1 | NA | NA | NA | 41 | NA | NA | NA | 2 |\n",
       "| 6 | 1000203 | 1 | NA | NA | NA | 49 | NA | NA | NA | 2 |\n",
       "\n"
      ],
      "text/plain": [
       "  IID     f.2247.0.0_recode f.2247.1.0_recode f.2247.2.0_recode\n",
       "1 1000019 1                 NA                NA               \n",
       "2 1000022 1                 NA                NA               \n",
       "3 1000112 9                 NA                1                \n",
       "4 1000170 1                 NA                NA               \n",
       "5 1000198 1                 NA                NA               \n",
       "6 1000203 1                 NA                NA               \n",
       "  f.2247.3.0_recode f.21003.0.0 f.21003.1.0 f.21003.2.0 f.21003.3.0 visit_idx\n",
       "1 NA                47          NA          NA          NA          2        \n",
       "2 NA                53          NA          NA          NA          2        \n",
       "3 NA                58          NA          68          NA          4        \n",
       "4 NA                51          NA          NA          NA          2        \n",
       "5 NA                41          NA          NA          NA          2        \n",
       "6 NA                49          NA          NA          NA          2        "
      ]
     },
     "metadata": {},
     "output_type": "display_data"
    }
   ],
   "source": [
    "# Get the # of column where first replied Yes:\n",
    "diff_age_cases$visit_idx = apply(diff_age_cases, 1, function(x) unlist(which(x == '1')))\n",
    "head(diff_age_cases)"
   ]
  },
  {
   "cell_type": "code",
   "execution_count": 60,
   "metadata": {
    "kernel": "R"
   },
   "outputs": [
    {
     "data": {
      "text/html": [
       "<table>\n",
       "<caption>A data.frame: 6 × 11</caption>\n",
       "<thead>\n",
       "\t<tr><th></th><th scope=col>IID</th><th scope=col>f.2247.0.0_recode</th><th scope=col>f.2247.1.0_recode</th><th scope=col>f.2247.2.0_recode</th><th scope=col>f.2247.3.0_recode</th><th scope=col>f.21003.0.0</th><th scope=col>f.21003.1.0</th><th scope=col>f.21003.2.0</th><th scope=col>f.21003.3.0</th><th scope=col>visit_idx</th><th scope=col>age_final_diff</th></tr>\n",
       "\t<tr><th></th><th scope=col>&lt;int&gt;</th><th scope=col>&lt;fct&gt;</th><th scope=col>&lt;fct&gt;</th><th scope=col>&lt;fct&gt;</th><th scope=col>&lt;fct&gt;</th><th scope=col>&lt;int&gt;</th><th scope=col>&lt;int&gt;</th><th scope=col>&lt;int&gt;</th><th scope=col>&lt;int&gt;</th><th scope=col>&lt;list&gt;</th><th scope=col>&lt;int&gt;</th></tr>\n",
       "</thead>\n",
       "<tbody>\n",
       "\t<tr><th scope=row>1</th><td>1000019</td><td>1</td><td>NA</td><td>NA</td><td>NA</td><td>47</td><td>NA</td><td>NA</td><td>NA</td><td>2</td><td>47</td></tr>\n",
       "\t<tr><th scope=row>2</th><td>1000022</td><td>1</td><td>NA</td><td>NA</td><td>NA</td><td>53</td><td>NA</td><td>NA</td><td>NA</td><td>2</td><td>53</td></tr>\n",
       "\t<tr><th scope=row>3</th><td>1000112</td><td>9</td><td>NA</td><td>1 </td><td>NA</td><td>58</td><td>NA</td><td>68</td><td>NA</td><td>4</td><td>68</td></tr>\n",
       "\t<tr><th scope=row>4</th><td>1000170</td><td>1</td><td>NA</td><td>NA</td><td>NA</td><td>51</td><td>NA</td><td>NA</td><td>NA</td><td>2</td><td>51</td></tr>\n",
       "\t<tr><th scope=row>5</th><td>1000198</td><td>1</td><td>NA</td><td>NA</td><td>NA</td><td>41</td><td>NA</td><td>NA</td><td>NA</td><td>2</td><td>41</td></tr>\n",
       "\t<tr><th scope=row>6</th><td>1000203</td><td>1</td><td>NA</td><td>NA</td><td>NA</td><td>49</td><td>NA</td><td>NA</td><td>NA</td><td>2</td><td>49</td></tr>\n",
       "</tbody>\n",
       "</table>\n"
      ],
      "text/latex": [
       "A data.frame: 6 × 11\n",
       "\\begin{tabular}{r|lllllllllll}\n",
       "  & IID & f.2247.0.0\\_recode & f.2247.1.0\\_recode & f.2247.2.0\\_recode & f.2247.3.0\\_recode & f.21003.0.0 & f.21003.1.0 & f.21003.2.0 & f.21003.3.0 & visit\\_idx & age\\_final\\_diff\\\\\n",
       "  & <int> & <fct> & <fct> & <fct> & <fct> & <int> & <int> & <int> & <int> & <list> & <int>\\\\\n",
       "\\hline\n",
       "\t1 & 1000019 & 1 & NA & NA & NA & 47 & NA & NA & NA & 2 & 47\\\\\n",
       "\t2 & 1000022 & 1 & NA & NA & NA & 53 & NA & NA & NA & 2 & 53\\\\\n",
       "\t3 & 1000112 & 9 & NA & 1  & NA & 58 & NA & 68 & NA & 4 & 68\\\\\n",
       "\t4 & 1000170 & 1 & NA & NA & NA & 51 & NA & NA & NA & 2 & 51\\\\\n",
       "\t5 & 1000198 & 1 & NA & NA & NA & 41 & NA & NA & NA & 2 & 41\\\\\n",
       "\t6 & 1000203 & 1 & NA & NA & NA & 49 & NA & NA & NA & 2 & 49\\\\\n",
       "\\end{tabular}\n"
      ],
      "text/markdown": [
       "\n",
       "A data.frame: 6 × 11\n",
       "\n",
       "| <!--/--> | IID &lt;int&gt; | f.2247.0.0_recode &lt;fct&gt; | f.2247.1.0_recode &lt;fct&gt; | f.2247.2.0_recode &lt;fct&gt; | f.2247.3.0_recode &lt;fct&gt; | f.21003.0.0 &lt;int&gt; | f.21003.1.0 &lt;int&gt; | f.21003.2.0 &lt;int&gt; | f.21003.3.0 &lt;int&gt; | visit_idx &lt;list&gt; | age_final_diff &lt;int&gt; |\n",
       "|---|---|---|---|---|---|---|---|---|---|---|---|\n",
       "| 1 | 1000019 | 1 | NA | NA | NA | 47 | NA | NA | NA | 2 | 47 |\n",
       "| 2 | 1000022 | 1 | NA | NA | NA | 53 | NA | NA | NA | 2 | 53 |\n",
       "| 3 | 1000112 | 9 | NA | 1  | NA | 58 | NA | 68 | NA | 4 | 68 |\n",
       "| 4 | 1000170 | 1 | NA | NA | NA | 51 | NA | NA | NA | 2 | 51 |\n",
       "| 5 | 1000198 | 1 | NA | NA | NA | 41 | NA | NA | NA | 2 | 41 |\n",
       "| 6 | 1000203 | 1 | NA | NA | NA | 49 | NA | NA | NA | 2 | 49 |\n",
       "\n"
      ],
      "text/plain": [
       "  IID     f.2247.0.0_recode f.2247.1.0_recode f.2247.2.0_recode\n",
       "1 1000019 1                 NA                NA               \n",
       "2 1000022 1                 NA                NA               \n",
       "3 1000112 9                 NA                1                \n",
       "4 1000170 1                 NA                NA               \n",
       "5 1000198 1                 NA                NA               \n",
       "6 1000203 1                 NA                NA               \n",
       "  f.2247.3.0_recode f.21003.0.0 f.21003.1.0 f.21003.2.0 f.21003.3.0 visit_idx\n",
       "1 NA                47          NA          NA          NA          2        \n",
       "2 NA                53          NA          NA          NA          2        \n",
       "3 NA                58          NA          68          NA          4        \n",
       "4 NA                51          NA          NA          NA          2        \n",
       "5 NA                41          NA          NA          NA          2        \n",
       "6 NA                49          NA          NA          NA          2        \n",
       "  age_final_diff\n",
       "1 47            \n",
       "2 53            \n",
       "3 68            \n",
       "4 51            \n",
       "5 41            \n",
       "6 49            "
      ]
     },
     "metadata": {},
     "output_type": "display_data"
    },
    {
     "data": {
      "text/plain": [
       "   Min. 1st Qu.  Median    Mean 3rd Qu.    Max. \n",
       "  39.00   55.00   61.00   59.48   65.00   82.00 "
      ]
     },
     "metadata": {},
     "output_type": "display_data"
    }
   ],
   "source": [
    "# Define offset:\n",
    "# offset: refers to the # of columns between the first age column (i.e.f.21003.0.0) and the first recode column (i.e.f.22247.0.0_recode)\n",
    "offset = which(colnames(diff_age_cases) == 'f.21003.0.0') - which(colnames(diff_age_cases) == 'f.2247.0.0_recode')\n",
    "\n",
    "# Define the function to extract the first time they said yes for cases \n",
    "f=get_age_func <- function(x) {\n",
    "  visit_index=x[which(colnames(diff_age_cases)==\"visit_idx\")]\n",
    "  index=min(unlist(visit_index))+offset\n",
    "  age=x[index]\n",
    "  final_age=unlist(age)\n",
    "  if(is.null(final_age))\n",
    "  {final_age<-NA}\n",
    "  return(final_age)\n",
    "}\n",
    "\n",
    "# Get the final age for cases\n",
    "diff_age_cases$age_final_diff = apply(diff_age_cases, 1, f)\n",
    "\n",
    "# Show first 6 rows\n",
    "head(diff_age_cases)\n",
    "summary(diff_age_cases$age_final_diff)"
   ]
  },
  {
   "cell_type": "code",
   "execution_count": 61,
   "metadata": {
    "kernel": "R"
   },
   "outputs": [
    {
     "data": {
      "text/html": [
       "<table>\n",
       "<caption>A data.frame: 6 × 9</caption>\n",
       "<thead>\n",
       "\t<tr><th></th><th scope=col>IID</th><th scope=col>f.2247.0.0_recode</th><th scope=col>f.2247.1.0_recode</th><th scope=col>f.2247.2.0_recode</th><th scope=col>f.2247.3.0_recode</th><th scope=col>f.21003.0.0</th><th scope=col>f.21003.1.0</th><th scope=col>f.21003.2.0</th><th scope=col>f.21003.3.0</th></tr>\n",
       "\t<tr><th></th><th scope=col>&lt;int&gt;</th><th scope=col>&lt;fct&gt;</th><th scope=col>&lt;fct&gt;</th><th scope=col>&lt;fct&gt;</th><th scope=col>&lt;fct&gt;</th><th scope=col>&lt;int&gt;</th><th scope=col>&lt;int&gt;</th><th scope=col>&lt;int&gt;</th><th scope=col>&lt;int&gt;</th></tr>\n",
       "</thead>\n",
       "<tbody>\n",
       "\t<tr><th scope=row>1</th><td>1000035</td><td>0</td><td>NA</td><td>NA</td><td>NA</td><td>63</td><td>NA</td><td>NA</td><td>NA</td></tr>\n",
       "\t<tr><th scope=row>2</th><td>1000046</td><td>0</td><td>NA</td><td>0 </td><td>NA</td><td>62</td><td>NA</td><td>73</td><td>NA</td></tr>\n",
       "\t<tr><th scope=row>3</th><td>1000054</td><td>0</td><td>NA</td><td>NA</td><td>NA</td><td>65</td><td>NA</td><td>NA</td><td>NA</td></tr>\n",
       "\t<tr><th scope=row>4</th><td>1000063</td><td>0</td><td>NA</td><td>NA</td><td>NA</td><td>43</td><td>NA</td><td>NA</td><td>NA</td></tr>\n",
       "\t<tr><th scope=row>5</th><td>1000078</td><td>0</td><td>0 </td><td>0 </td><td>NA</td><td>52</td><td>57</td><td>60</td><td>NA</td></tr>\n",
       "\t<tr><th scope=row>6</th><td>1000129</td><td>0</td><td>NA</td><td>NA</td><td>NA</td><td>62</td><td>NA</td><td>NA</td><td>NA</td></tr>\n",
       "</tbody>\n",
       "</table>\n"
      ],
      "text/latex": [
       "A data.frame: 6 × 9\n",
       "\\begin{tabular}{r|lllllllll}\n",
       "  & IID & f.2247.0.0\\_recode & f.2247.1.0\\_recode & f.2247.2.0\\_recode & f.2247.3.0\\_recode & f.21003.0.0 & f.21003.1.0 & f.21003.2.0 & f.21003.3.0\\\\\n",
       "  & <int> & <fct> & <fct> & <fct> & <fct> & <int> & <int> & <int> & <int>\\\\\n",
       "\\hline\n",
       "\t1 & 1000035 & 0 & NA & NA & NA & 63 & NA & NA & NA\\\\\n",
       "\t2 & 1000046 & 0 & NA & 0  & NA & 62 & NA & 73 & NA\\\\\n",
       "\t3 & 1000054 & 0 & NA & NA & NA & 65 & NA & NA & NA\\\\\n",
       "\t4 & 1000063 & 0 & NA & NA & NA & 43 & NA & NA & NA\\\\\n",
       "\t5 & 1000078 & 0 & 0  & 0  & NA & 52 & 57 & 60 & NA\\\\\n",
       "\t6 & 1000129 & 0 & NA & NA & NA & 62 & NA & NA & NA\\\\\n",
       "\\end{tabular}\n"
      ],
      "text/markdown": [
       "\n",
       "A data.frame: 6 × 9\n",
       "\n",
       "| <!--/--> | IID &lt;int&gt; | f.2247.0.0_recode &lt;fct&gt; | f.2247.1.0_recode &lt;fct&gt; | f.2247.2.0_recode &lt;fct&gt; | f.2247.3.0_recode &lt;fct&gt; | f.21003.0.0 &lt;int&gt; | f.21003.1.0 &lt;int&gt; | f.21003.2.0 &lt;int&gt; | f.21003.3.0 &lt;int&gt; |\n",
       "|---|---|---|---|---|---|---|---|---|---|\n",
       "| 1 | 1000035 | 0 | NA | NA | NA | 63 | NA | NA | NA |\n",
       "| 2 | 1000046 | 0 | NA | 0  | NA | 62 | NA | 73 | NA |\n",
       "| 3 | 1000054 | 0 | NA | NA | NA | 65 | NA | NA | NA |\n",
       "| 4 | 1000063 | 0 | NA | NA | NA | 43 | NA | NA | NA |\n",
       "| 5 | 1000078 | 0 | 0  | 0  | NA | 52 | 57 | 60 | NA |\n",
       "| 6 | 1000129 | 0 | NA | NA | NA | 62 | NA | NA | NA |\n",
       "\n"
      ],
      "text/plain": [
       "  IID     f.2247.0.0_recode f.2247.1.0_recode f.2247.2.0_recode\n",
       "1 1000035 0                 NA                NA               \n",
       "2 1000046 0                 NA                0                \n",
       "3 1000054 0                 NA                NA               \n",
       "4 1000063 0                 NA                NA               \n",
       "5 1000078 0                 0                 0                \n",
       "6 1000129 0                 NA                NA               \n",
       "  f.2247.3.0_recode f.21003.0.0 f.21003.1.0 f.21003.2.0 f.21003.3.0\n",
       "1 NA                63          NA          NA          NA         \n",
       "2 NA                62          NA          73          NA         \n",
       "3 NA                65          NA          NA          NA         \n",
       "4 NA                43          NA          NA          NA         \n",
       "5 NA                52          57          60          NA         \n",
       "6 NA                62          NA          NA          NA         "
      ]
     },
     "metadata": {},
     "output_type": "display_data"
    }
   ],
   "source": [
    "### Extract age for Control (2247)\n",
    "diff_age_control <- hearing_diff %>% \n",
    "  filter(hearing_diff_cat == \"0\") %>%\n",
    "  select(IID, f.2247.0.0_recode, f.2247.1.0_recode, f.2247.2.0_recode, f.2247.3.0_recode, f.21003.0.0, f.21003.1.0, f.21003.2.0, f.21003.3.0)\n",
    "head(diff_age_control)"
   ]
  },
  {
   "cell_type": "code",
   "execution_count": 62,
   "metadata": {
    "kernel": "R"
   },
   "outputs": [
    {
     "data": {
      "text/html": [
       "<table>\n",
       "<caption>A data.frame: 6 × 11</caption>\n",
       "<thead>\n",
       "\t<tr><th></th><th scope=col>IID</th><th scope=col>f.2247.0.0_recode</th><th scope=col>f.2247.1.0_recode</th><th scope=col>f.2247.2.0_recode</th><th scope=col>f.2247.3.0_recode</th><th scope=col>f.21003.0.0</th><th scope=col>f.21003.1.0</th><th scope=col>f.21003.2.0</th><th scope=col>f.21003.3.0</th><th scope=col>visit_idx</th><th scope=col>age_final_diff</th></tr>\n",
       "\t<tr><th></th><th scope=col>&lt;int&gt;</th><th scope=col>&lt;fct&gt;</th><th scope=col>&lt;fct&gt;</th><th scope=col>&lt;fct&gt;</th><th scope=col>&lt;fct&gt;</th><th scope=col>&lt;int&gt;</th><th scope=col>&lt;int&gt;</th><th scope=col>&lt;int&gt;</th><th scope=col>&lt;int&gt;</th><th scope=col>&lt;list&gt;</th><th scope=col>&lt;int&gt;</th></tr>\n",
       "</thead>\n",
       "<tbody>\n",
       "\t<tr><th scope=row>1</th><td>1000035</td><td>0</td><td>NA</td><td>NA</td><td>NA</td><td>63</td><td>NA</td><td>NA</td><td>NA</td><td>2</td><td>63</td></tr>\n",
       "\t<tr><th scope=row>2</th><td>1000046</td><td>0</td><td>NA</td><td>0 </td><td>NA</td><td>62</td><td>NA</td><td>73</td><td>NA</td><td>2, 4</td><td>73</td></tr>\n",
       "\t<tr><th scope=row>3</th><td>1000054</td><td>0</td><td>NA</td><td>NA</td><td>NA</td><td>65</td><td>NA</td><td>NA</td><td>NA</td><td>2</td><td>65</td></tr>\n",
       "\t<tr><th scope=row>4</th><td>1000063</td><td>0</td><td>NA</td><td>NA</td><td>NA</td><td>43</td><td>NA</td><td>NA</td><td>NA</td><td>2</td><td>43</td></tr>\n",
       "\t<tr><th scope=row>5</th><td>1000078</td><td>0</td><td>0 </td><td>0 </td><td>NA</td><td>52</td><td>57</td><td>60</td><td>NA</td><td>2, 3, 4</td><td>60</td></tr>\n",
       "\t<tr><th scope=row>6</th><td>1000129</td><td>0</td><td>NA</td><td>NA</td><td>NA</td><td>62</td><td>NA</td><td>NA</td><td>NA</td><td>2</td><td>62</td></tr>\n",
       "</tbody>\n",
       "</table>\n"
      ],
      "text/latex": [
       "A data.frame: 6 × 11\n",
       "\\begin{tabular}{r|lllllllllll}\n",
       "  & IID & f.2247.0.0\\_recode & f.2247.1.0\\_recode & f.2247.2.0\\_recode & f.2247.3.0\\_recode & f.21003.0.0 & f.21003.1.0 & f.21003.2.0 & f.21003.3.0 & visit\\_idx & age\\_final\\_diff\\\\\n",
       "  & <int> & <fct> & <fct> & <fct> & <fct> & <int> & <int> & <int> & <int> & <list> & <int>\\\\\n",
       "\\hline\n",
       "\t1 & 1000035 & 0 & NA & NA & NA & 63 & NA & NA & NA & 2 & 63\\\\\n",
       "\t2 & 1000046 & 0 & NA & 0  & NA & 62 & NA & 73 & NA & 2, 4 & 73\\\\\n",
       "\t3 & 1000054 & 0 & NA & NA & NA & 65 & NA & NA & NA & 2 & 65\\\\\n",
       "\t4 & 1000063 & 0 & NA & NA & NA & 43 & NA & NA & NA & 2 & 43\\\\\n",
       "\t5 & 1000078 & 0 & 0  & 0  & NA & 52 & 57 & 60 & NA & 2, 3, 4 & 60\\\\\n",
       "\t6 & 1000129 & 0 & NA & NA & NA & 62 & NA & NA & NA & 2 & 62\\\\\n",
       "\\end{tabular}\n"
      ],
      "text/markdown": [
       "\n",
       "A data.frame: 6 × 11\n",
       "\n",
       "| <!--/--> | IID &lt;int&gt; | f.2247.0.0_recode &lt;fct&gt; | f.2247.1.0_recode &lt;fct&gt; | f.2247.2.0_recode &lt;fct&gt; | f.2247.3.0_recode &lt;fct&gt; | f.21003.0.0 &lt;int&gt; | f.21003.1.0 &lt;int&gt; | f.21003.2.0 &lt;int&gt; | f.21003.3.0 &lt;int&gt; | visit_idx &lt;list&gt; | age_final_diff &lt;int&gt; |\n",
       "|---|---|---|---|---|---|---|---|---|---|---|---|\n",
       "| 1 | 1000035 | 0 | NA | NA | NA | 63 | NA | NA | NA | 2 | 63 |\n",
       "| 2 | 1000046 | 0 | NA | 0  | NA | 62 | NA | 73 | NA | 2, 4 | 73 |\n",
       "| 3 | 1000054 | 0 | NA | NA | NA | 65 | NA | NA | NA | 2 | 65 |\n",
       "| 4 | 1000063 | 0 | NA | NA | NA | 43 | NA | NA | NA | 2 | 43 |\n",
       "| 5 | 1000078 | 0 | 0  | 0  | NA | 52 | 57 | 60 | NA | 2, 3, 4 | 60 |\n",
       "| 6 | 1000129 | 0 | NA | NA | NA | 62 | NA | NA | NA | 2 | 62 |\n",
       "\n"
      ],
      "text/plain": [
       "  IID     f.2247.0.0_recode f.2247.1.0_recode f.2247.2.0_recode\n",
       "1 1000035 0                 NA                NA               \n",
       "2 1000046 0                 NA                0                \n",
       "3 1000054 0                 NA                NA               \n",
       "4 1000063 0                 NA                NA               \n",
       "5 1000078 0                 0                 0                \n",
       "6 1000129 0                 NA                NA               \n",
       "  f.2247.3.0_recode f.21003.0.0 f.21003.1.0 f.21003.2.0 f.21003.3.0 visit_idx\n",
       "1 NA                63          NA          NA          NA          2        \n",
       "2 NA                62          NA          73          NA          2, 4     \n",
       "3 NA                65          NA          NA          NA          2        \n",
       "4 NA                43          NA          NA          NA          2        \n",
       "5 NA                52          57          60          NA          2, 3, 4  \n",
       "6 NA                62          NA          NA          NA          2        \n",
       "  age_final_diff\n",
       "1 63            \n",
       "2 73            \n",
       "3 65            \n",
       "4 43            \n",
       "5 60            \n",
       "6 62            "
      ]
     },
     "metadata": {},
     "output_type": "display_data"
    },
    {
     "data": {
      "text/plain": [
       "   Min. 1st Qu.  Median    Mean 3rd Qu.    Max. \n",
       "  39.00   50.00   58.00   56.98   64.00   82.00 "
      ]
     },
     "metadata": {},
     "output_type": "display_data"
    }
   ],
   "source": [
    "# Get the # of column where last replied No:\n",
    "diff_age_control$visit_idx = apply(diff_age_control, 1, function(x) unlist(which(x == '0')))\n",
    "\n",
    "# Define offset:\n",
    "# offset: refers to the # of columns between the first age column (i.e.f.21003.0.0) and the first recode column (i.e.f.3393.0.0_recode)\n",
    "offset = which(colnames(diff_age_control) == 'f.21003.0.0') - which(colnames(diff_age_control) == 'f.2247.0.0_recode')\n",
    "\n",
    "# Define the function to extract the last time they said no for control\n",
    "\n",
    "f=get_age_func <- function(x) {\n",
    "  visit_index=x[which(colnames(diff_age_control)==\"visit_idx\")]\n",
    "  index=max(unlist(visit_index))+offset\n",
    "  age=x[index]\n",
    "  age=unlist(age)\n",
    "  return(age)\n",
    "}\n",
    "\n",
    "# Get the final age for controls\n",
    "diff_age_control$age_final_diff = apply(diff_age_control, 1, f)\n",
    "\n",
    "# Show first 6 rows\n",
    "head(diff_age_control)\n",
    "summary(diff_age_control$age_final_diff)"
   ]
  },
  {
   "cell_type": "code",
   "execution_count": 63,
   "metadata": {
    "kernel": "R"
   },
   "outputs": [
    {
     "data": {
      "text/html": [
       "<style>\n",
       ".list-inline {list-style: none; margin:0; padding: 0}\n",
       ".list-inline>li {display: inline-block}\n",
       ".list-inline>li:not(:last-child)::after {content: \"\\00b7\"; padding: 0 .5ex}\n",
       "</style>\n",
       "<ol class=list-inline><li>337129</li><li>11</li></ol>\n"
      ],
      "text/latex": [
       "\\begin{enumerate*}\n",
       "\\item 337129\n",
       "\\item 11\n",
       "\\end{enumerate*}\n"
      ],
      "text/markdown": [
       "1. 337129\n",
       "2. 11\n",
       "\n",
       "\n"
      ],
      "text/plain": [
       "[1] 337129     11"
      ]
     },
     "metadata": {},
     "output_type": "display_data"
    },
    {
     "data": {
      "text/html": [
       "<table>\n",
       "<caption>A data.frame: 6 × 11</caption>\n",
       "<thead>\n",
       "\t<tr><th></th><th scope=col>IID</th><th scope=col>f.2247.0.0_recode</th><th scope=col>f.2247.1.0_recode</th><th scope=col>f.2247.2.0_recode</th><th scope=col>f.2247.3.0_recode</th><th scope=col>f.21003.0.0</th><th scope=col>f.21003.1.0</th><th scope=col>f.21003.2.0</th><th scope=col>f.21003.3.0</th><th scope=col>visit_idx</th><th scope=col>age_final_diff</th></tr>\n",
       "\t<tr><th></th><th scope=col>&lt;int&gt;</th><th scope=col>&lt;fct&gt;</th><th scope=col>&lt;fct&gt;</th><th scope=col>&lt;fct&gt;</th><th scope=col>&lt;fct&gt;</th><th scope=col>&lt;int&gt;</th><th scope=col>&lt;int&gt;</th><th scope=col>&lt;int&gt;</th><th scope=col>&lt;int&gt;</th><th scope=col>&lt;list&gt;</th><th scope=col>&lt;int&gt;</th></tr>\n",
       "</thead>\n",
       "<tbody>\n",
       "\t<tr><th scope=row>1</th><td>1000019</td><td>1</td><td>NA</td><td>NA</td><td>NA</td><td>47</td><td>NA</td><td>NA</td><td>NA</td><td>2</td><td>47</td></tr>\n",
       "\t<tr><th scope=row>2</th><td>1000022</td><td>1</td><td>NA</td><td>NA</td><td>NA</td><td>53</td><td>NA</td><td>NA</td><td>NA</td><td>2</td><td>53</td></tr>\n",
       "\t<tr><th scope=row>3</th><td>1000112</td><td>9</td><td>NA</td><td>1 </td><td>NA</td><td>58</td><td>NA</td><td>68</td><td>NA</td><td>4</td><td>68</td></tr>\n",
       "\t<tr><th scope=row>4</th><td>1000170</td><td>1</td><td>NA</td><td>NA</td><td>NA</td><td>51</td><td>NA</td><td>NA</td><td>NA</td><td>2</td><td>51</td></tr>\n",
       "\t<tr><th scope=row>5</th><td>1000198</td><td>1</td><td>NA</td><td>NA</td><td>NA</td><td>41</td><td>NA</td><td>NA</td><td>NA</td><td>2</td><td>41</td></tr>\n",
       "\t<tr><th scope=row>6</th><td>1000203</td><td>1</td><td>NA</td><td>NA</td><td>NA</td><td>49</td><td>NA</td><td>NA</td><td>NA</td><td>2</td><td>49</td></tr>\n",
       "</tbody>\n",
       "</table>\n"
      ],
      "text/latex": [
       "A data.frame: 6 × 11\n",
       "\\begin{tabular}{r|lllllllllll}\n",
       "  & IID & f.2247.0.0\\_recode & f.2247.1.0\\_recode & f.2247.2.0\\_recode & f.2247.3.0\\_recode & f.21003.0.0 & f.21003.1.0 & f.21003.2.0 & f.21003.3.0 & visit\\_idx & age\\_final\\_diff\\\\\n",
       "  & <int> & <fct> & <fct> & <fct> & <fct> & <int> & <int> & <int> & <int> & <list> & <int>\\\\\n",
       "\\hline\n",
       "\t1 & 1000019 & 1 & NA & NA & NA & 47 & NA & NA & NA & 2 & 47\\\\\n",
       "\t2 & 1000022 & 1 & NA & NA & NA & 53 & NA & NA & NA & 2 & 53\\\\\n",
       "\t3 & 1000112 & 9 & NA & 1  & NA & 58 & NA & 68 & NA & 4 & 68\\\\\n",
       "\t4 & 1000170 & 1 & NA & NA & NA & 51 & NA & NA & NA & 2 & 51\\\\\n",
       "\t5 & 1000198 & 1 & NA & NA & NA & 41 & NA & NA & NA & 2 & 41\\\\\n",
       "\t6 & 1000203 & 1 & NA & NA & NA & 49 & NA & NA & NA & 2 & 49\\\\\n",
       "\\end{tabular}\n"
      ],
      "text/markdown": [
       "\n",
       "A data.frame: 6 × 11\n",
       "\n",
       "| <!--/--> | IID &lt;int&gt; | f.2247.0.0_recode &lt;fct&gt; | f.2247.1.0_recode &lt;fct&gt; | f.2247.2.0_recode &lt;fct&gt; | f.2247.3.0_recode &lt;fct&gt; | f.21003.0.0 &lt;int&gt; | f.21003.1.0 &lt;int&gt; | f.21003.2.0 &lt;int&gt; | f.21003.3.0 &lt;int&gt; | visit_idx &lt;list&gt; | age_final_diff &lt;int&gt; |\n",
       "|---|---|---|---|---|---|---|---|---|---|---|---|\n",
       "| 1 | 1000019 | 1 | NA | NA | NA | 47 | NA | NA | NA | 2 | 47 |\n",
       "| 2 | 1000022 | 1 | NA | NA | NA | 53 | NA | NA | NA | 2 | 53 |\n",
       "| 3 | 1000112 | 9 | NA | 1  | NA | 58 | NA | 68 | NA | 4 | 68 |\n",
       "| 4 | 1000170 | 1 | NA | NA | NA | 51 | NA | NA | NA | 2 | 51 |\n",
       "| 5 | 1000198 | 1 | NA | NA | NA | 41 | NA | NA | NA | 2 | 41 |\n",
       "| 6 | 1000203 | 1 | NA | NA | NA | 49 | NA | NA | NA | 2 | 49 |\n",
       "\n"
      ],
      "text/plain": [
       "  IID     f.2247.0.0_recode f.2247.1.0_recode f.2247.2.0_recode\n",
       "1 1000019 1                 NA                NA               \n",
       "2 1000022 1                 NA                NA               \n",
       "3 1000112 9                 NA                1                \n",
       "4 1000170 1                 NA                NA               \n",
       "5 1000198 1                 NA                NA               \n",
       "6 1000203 1                 NA                NA               \n",
       "  f.2247.3.0_recode f.21003.0.0 f.21003.1.0 f.21003.2.0 f.21003.3.0 visit_idx\n",
       "1 NA                47          NA          NA          NA          2        \n",
       "2 NA                53          NA          NA          NA          2        \n",
       "3 NA                58          NA          68          NA          4        \n",
       "4 NA                51          NA          NA          NA          2        \n",
       "5 NA                41          NA          NA          NA          2        \n",
       "6 NA                49          NA          NA          NA          2        \n",
       "  age_final_diff\n",
       "1 47            \n",
       "2 53            \n",
       "3 68            \n",
       "4 51            \n",
       "5 41            \n",
       "6 49            "
      ]
     },
     "metadata": {},
     "output_type": "display_data"
    }
   ],
   "source": [
    "# Merge age_cases and age_controls\n",
    "hearing_diff_age <- rbind(diff_age_cases, diff_age_control) \n",
    "dim(hearing_diff_age)\n",
    "head(hearing_diff_age)"
   ]
  },
  {
   "cell_type": "code",
   "execution_count": 64,
   "metadata": {
    "kernel": "R"
   },
   "outputs": [
    {
     "data": {
      "text/html": [
       "<table>\n",
       "<caption>A data.frame: 6 × 14</caption>\n",
       "<thead>\n",
       "\t<tr><th></th><th scope=col>IID</th><th scope=col>FID</th><th scope=col>f.22001.0.0</th><th scope=col>f.21003.0.0</th><th scope=col>f.21003.1.0</th><th scope=col>f.21003.2.0</th><th scope=col>f.21003.3.0</th><th scope=col>f.2247.0.0_recode</th><th scope=col>f.2247.1.0_recode</th><th scope=col>f.2247.2.0_recode</th><th scope=col>f.2247.3.0_recode</th><th scope=col>cases</th><th scope=col>hearing_diff_cat</th><th scope=col>age_final_diff</th></tr>\n",
       "\t<tr><th></th><th scope=col>&lt;int&gt;</th><th scope=col>&lt;int&gt;</th><th scope=col>&lt;fct&gt;</th><th scope=col>&lt;int&gt;</th><th scope=col>&lt;int&gt;</th><th scope=col>&lt;int&gt;</th><th scope=col>&lt;int&gt;</th><th scope=col>&lt;fct&gt;</th><th scope=col>&lt;fct&gt;</th><th scope=col>&lt;fct&gt;</th><th scope=col>&lt;fct&gt;</th><th scope=col>&lt;lgl&gt;</th><th scope=col>&lt;int&gt;</th><th scope=col>&lt;int&gt;</th></tr>\n",
       "</thead>\n",
       "<tbody>\n",
       "\t<tr><th scope=row>1</th><td>1000019</td><td>1000019</td><td>Female</td><td>47</td><td>NA</td><td>NA</td><td>NA</td><td>1</td><td>NA</td><td>NA</td><td>NA</td><td> TRUE</td><td>1</td><td>47</td></tr>\n",
       "\t<tr><th scope=row>2</th><td>1000022</td><td>1000022</td><td>Male  </td><td>53</td><td>NA</td><td>NA</td><td>NA</td><td>1</td><td>NA</td><td>NA</td><td>NA</td><td> TRUE</td><td>1</td><td>53</td></tr>\n",
       "\t<tr><th scope=row>3</th><td>1000035</td><td>1000035</td><td>Male  </td><td>63</td><td>NA</td><td>NA</td><td>NA</td><td>0</td><td>NA</td><td>NA</td><td>NA</td><td>FALSE</td><td>0</td><td>63</td></tr>\n",
       "\t<tr><th scope=row>4</th><td>1000046</td><td>1000046</td><td>Female</td><td>62</td><td>NA</td><td>73</td><td>NA</td><td>0</td><td>NA</td><td>0 </td><td>NA</td><td>FALSE</td><td>0</td><td>73</td></tr>\n",
       "\t<tr><th scope=row>5</th><td>1000054</td><td>1000054</td><td>Female</td><td>65</td><td>NA</td><td>NA</td><td>NA</td><td>0</td><td>NA</td><td>NA</td><td>NA</td><td>FALSE</td><td>0</td><td>65</td></tr>\n",
       "\t<tr><th scope=row>6</th><td>1000063</td><td>1000063</td><td>Male  </td><td>43</td><td>NA</td><td>NA</td><td>NA</td><td>0</td><td>NA</td><td>NA</td><td>NA</td><td>FALSE</td><td>0</td><td>43</td></tr>\n",
       "</tbody>\n",
       "</table>\n"
      ],
      "text/latex": [
       "A data.frame: 6 × 14\n",
       "\\begin{tabular}{r|llllllllllllll}\n",
       "  & IID & FID & f.22001.0.0 & f.21003.0.0 & f.21003.1.0 & f.21003.2.0 & f.21003.3.0 & f.2247.0.0\\_recode & f.2247.1.0\\_recode & f.2247.2.0\\_recode & f.2247.3.0\\_recode & cases & hearing\\_diff\\_cat & age\\_final\\_diff\\\\\n",
       "  & <int> & <int> & <fct> & <int> & <int> & <int> & <int> & <fct> & <fct> & <fct> & <fct> & <lgl> & <int> & <int>\\\\\n",
       "\\hline\n",
       "\t1 & 1000019 & 1000019 & Female & 47 & NA & NA & NA & 1 & NA & NA & NA &  TRUE & 1 & 47\\\\\n",
       "\t2 & 1000022 & 1000022 & Male   & 53 & NA & NA & NA & 1 & NA & NA & NA &  TRUE & 1 & 53\\\\\n",
       "\t3 & 1000035 & 1000035 & Male   & 63 & NA & NA & NA & 0 & NA & NA & NA & FALSE & 0 & 63\\\\\n",
       "\t4 & 1000046 & 1000046 & Female & 62 & NA & 73 & NA & 0 & NA & 0  & NA & FALSE & 0 & 73\\\\\n",
       "\t5 & 1000054 & 1000054 & Female & 65 & NA & NA & NA & 0 & NA & NA & NA & FALSE & 0 & 65\\\\\n",
       "\t6 & 1000063 & 1000063 & Male   & 43 & NA & NA & NA & 0 & NA & NA & NA & FALSE & 0 & 43\\\\\n",
       "\\end{tabular}\n"
      ],
      "text/markdown": [
       "\n",
       "A data.frame: 6 × 14\n",
       "\n",
       "| <!--/--> | IID &lt;int&gt; | FID &lt;int&gt; | f.22001.0.0 &lt;fct&gt; | f.21003.0.0 &lt;int&gt; | f.21003.1.0 &lt;int&gt; | f.21003.2.0 &lt;int&gt; | f.21003.3.0 &lt;int&gt; | f.2247.0.0_recode &lt;fct&gt; | f.2247.1.0_recode &lt;fct&gt; | f.2247.2.0_recode &lt;fct&gt; | f.2247.3.0_recode &lt;fct&gt; | cases &lt;lgl&gt; | hearing_diff_cat &lt;int&gt; | age_final_diff &lt;int&gt; |\n",
       "|---|---|---|---|---|---|---|---|---|---|---|---|---|---|---|\n",
       "| 1 | 1000019 | 1000019 | Female | 47 | NA | NA | NA | 1 | NA | NA | NA |  TRUE | 1 | 47 |\n",
       "| 2 | 1000022 | 1000022 | Male   | 53 | NA | NA | NA | 1 | NA | NA | NA |  TRUE | 1 | 53 |\n",
       "| 3 | 1000035 | 1000035 | Male   | 63 | NA | NA | NA | 0 | NA | NA | NA | FALSE | 0 | 63 |\n",
       "| 4 | 1000046 | 1000046 | Female | 62 | NA | 73 | NA | 0 | NA | 0  | NA | FALSE | 0 | 73 |\n",
       "| 5 | 1000054 | 1000054 | Female | 65 | NA | NA | NA | 0 | NA | NA | NA | FALSE | 0 | 65 |\n",
       "| 6 | 1000063 | 1000063 | Male   | 43 | NA | NA | NA | 0 | NA | NA | NA | FALSE | 0 | 43 |\n",
       "\n"
      ],
      "text/plain": [
       "  IID     FID     f.22001.0.0 f.21003.0.0 f.21003.1.0 f.21003.2.0 f.21003.3.0\n",
       "1 1000019 1000019 Female      47          NA          NA          NA         \n",
       "2 1000022 1000022 Male        53          NA          NA          NA         \n",
       "3 1000035 1000035 Male        63          NA          NA          NA         \n",
       "4 1000046 1000046 Female      62          NA          73          NA         \n",
       "5 1000054 1000054 Female      65          NA          NA          NA         \n",
       "6 1000063 1000063 Male        43          NA          NA          NA         \n",
       "  f.2247.0.0_recode f.2247.1.0_recode f.2247.2.0_recode f.2247.3.0_recode cases\n",
       "1 1                 NA                NA                NA                 TRUE\n",
       "2 1                 NA                NA                NA                 TRUE\n",
       "3 0                 NA                NA                NA                FALSE\n",
       "4 0                 NA                0                 NA                FALSE\n",
       "5 0                 NA                NA                NA                FALSE\n",
       "6 0                 NA                NA                NA                FALSE\n",
       "  hearing_diff_cat age_final_diff\n",
       "1 1                47            \n",
       "2 1                53            \n",
       "3 0                63            \n",
       "4 0                73            \n",
       "5 0                65            \n",
       "6 0                43            "
      ]
     },
     "metadata": {},
     "output_type": "display_data"
    },
    {
     "data": {
      "text/html": [
       "<style>\n",
       ".list-inline {list-style: none; margin:0; padding: 0}\n",
       ".list-inline>li {display: inline-block}\n",
       ".list-inline>li:not(:last-child)::after {content: \"\\00b7\"; padding: 0 .5ex}\n",
       "</style>\n",
       "<ol class=list-inline><li>337129</li><li>14</li></ol>\n"
      ],
      "text/latex": [
       "\\begin{enumerate*}\n",
       "\\item 337129\n",
       "\\item 14\n",
       "\\end{enumerate*}\n"
      ],
      "text/markdown": [
       "1. 337129\n",
       "2. 14\n",
       "\n",
       "\n"
      ],
      "text/plain": [
       "[1] 337129     14"
      ]
     },
     "metadata": {},
     "output_type": "display_data"
    }
   ],
   "source": [
    "hearing_diff_age = merge(x = hearing_diff ,y = hearing_diff_age [,c(\"IID\",\"age_final_diff\")],by=\"IID\", all.x=TRUE)\n",
    "head(hearing_diff_age)\n",
    "dim(hearing_diff_age)"
   ]
  },
  {
   "cell_type": "markdown",
   "metadata": {
    "kernel": "R"
   },
   "source": [
    "## Merge dataset from f.3393 and f.2247"
   ]
  },
  {
   "cell_type": "code",
   "execution_count": 65,
   "metadata": {
    "kernel": "R"
   },
   "outputs": [
    {
     "data": {
      "text/html": [
       "<style>\n",
       ".list-inline {list-style: none; margin:0; padding: 0}\n",
       ".list-inline>li {display: inline-block}\n",
       ".list-inline>li:not(:last-child)::after {content: \"\\00b7\"; padding: 0 .5ex}\n",
       "</style>\n",
       "<ol class=list-inline><li>354347</li><li>1091</li></ol>\n"
      ],
      "text/latex": [
       "\\begin{enumerate*}\n",
       "\\item 354347\n",
       "\\item 1091\n",
       "\\end{enumerate*}\n"
      ],
      "text/markdown": [
       "1. 354347\n",
       "2. 1091\n",
       "\n",
       "\n"
      ],
      "text/plain": [
       "[1] 354347   1091"
      ]
     },
     "metadata": {},
     "output_type": "display_data"
    },
    {
     "data": {
      "text/html": [
       "<table>\n",
       "<caption>A data.frame: 6 × 1091</caption>\n",
       "<thead>\n",
       "\t<tr><th></th><th scope=col>IID</th><th scope=col>FID</th><th scope=col>ignore1</th><th scope=col>ignore2</th><th scope=col>ignore3</th><th scope=col>ignore4</th><th scope=col>f.31.0.0</th><th scope=col>f.34.0.0</th><th scope=col>f.53.0.0</th><th scope=col>f.53.1.0</th><th scope=col>⋯</th><th scope=col>music_imp</th><th scope=col>sex</th><th scope=col>f.3393.0.0_recode</th><th scope=col>f.3393.1.0_recode</th><th scope=col>f.3393.2.0_recode</th><th scope=col>f.3393.3.0_recode</th><th scope=col>hearing_aid_cat</th><th scope=col>age_final_aid</th><th scope=col>hearing_diff_cat</th><th scope=col>age_final_diff</th></tr>\n",
       "\t<tr><th></th><th scope=col>&lt;int&gt;</th><th scope=col>&lt;int&gt;</th><th scope=col>&lt;int&gt;</th><th scope=col>&lt;int&gt;</th><th scope=col>&lt;int&gt;</th><th scope=col>&lt;int&gt;</th><th scope=col>&lt;fct&gt;</th><th scope=col>&lt;int&gt;</th><th scope=col>&lt;fct&gt;</th><th scope=col>&lt;fct&gt;</th><th scope=col>⋯</th><th scope=col>&lt;int&gt;</th><th scope=col>&lt;fct&gt;</th><th scope=col>&lt;fct&gt;</th><th scope=col>&lt;fct&gt;</th><th scope=col>&lt;fct&gt;</th><th scope=col>&lt;fct&gt;</th><th scope=col>&lt;int&gt;</th><th scope=col>&lt;int&gt;</th><th scope=col>&lt;int&gt;</th><th scope=col>&lt;int&gt;</th></tr>\n",
       "</thead>\n",
       "<tbody>\n",
       "\t<tr><th scope=row>1</th><td>1000019</td><td>1000019</td><td>0</td><td>0</td><td>2</td><td>-9</td><td>Female</td><td>1960</td><td>2008-01-24</td><td>NA</td><td>⋯</td><td>NA</td><td>1</td><td>0 </td><td>NA</td><td>NA</td><td>NA</td><td>0</td><td>47</td><td>1</td><td>47</td></tr>\n",
       "\t<tr><th scope=row>2</th><td>1000022</td><td>1000022</td><td>0</td><td>0</td><td>1</td><td>-9</td><td>Male  </td><td>1954</td><td>2008-01-22</td><td>NA</td><td>⋯</td><td>NA</td><td>0</td><td>0 </td><td>NA</td><td>NA</td><td>NA</td><td>0</td><td>53</td><td>1</td><td>53</td></tr>\n",
       "\t<tr><th scope=row>3</th><td>1000035</td><td>1000035</td><td>0</td><td>0</td><td>1</td><td>-9</td><td>Male  </td><td>1944</td><td>2007-11-08</td><td>NA</td><td>⋯</td><td>NA</td><td>0</td><td>0 </td><td>NA</td><td>NA</td><td>NA</td><td>0</td><td>63</td><td>0</td><td>63</td></tr>\n",
       "\t<tr><th scope=row>4</th><td>1000046</td><td>1000046</td><td>0</td><td>0</td><td>2</td><td>-9</td><td>Female</td><td>1946</td><td>2008-12-01</td><td>NA</td><td>⋯</td><td> 0</td><td>1</td><td>NA</td><td>NA</td><td>0 </td><td>NA</td><td>0</td><td>73</td><td>0</td><td>73</td></tr>\n",
       "\t<tr><th scope=row>5</th><td>1000054</td><td>1000054</td><td>0</td><td>0</td><td>2</td><td>-9</td><td>Female</td><td>1942</td><td>2007-11-23</td><td>NA</td><td>⋯</td><td>NA</td><td>1</td><td>0 </td><td>NA</td><td>NA</td><td>NA</td><td>0</td><td>65</td><td>0</td><td>65</td></tr>\n",
       "\t<tr><th scope=row>6</th><td>1000063</td><td>1000063</td><td>0</td><td>0</td><td>1</td><td>-9</td><td>Male  </td><td>1967</td><td>2010-06-26</td><td>NA</td><td>⋯</td><td> 0</td><td>0</td><td>0 </td><td>NA</td><td>NA</td><td>NA</td><td>0</td><td>43</td><td>0</td><td>43</td></tr>\n",
       "</tbody>\n",
       "</table>\n"
      ],
      "text/latex": [
       "A data.frame: 6 × 1091\n",
       "\\begin{tabular}{r|lllllllllllllllllllll}\n",
       "  & IID & FID & ignore1 & ignore2 & ignore3 & ignore4 & f.31.0.0 & f.34.0.0 & f.53.0.0 & f.53.1.0 & ⋯ & music\\_imp & sex & f.3393.0.0\\_recode & f.3393.1.0\\_recode & f.3393.2.0\\_recode & f.3393.3.0\\_recode & hearing\\_aid\\_cat & age\\_final\\_aid & hearing\\_diff\\_cat & age\\_final\\_diff\\\\\n",
       "  & <int> & <int> & <int> & <int> & <int> & <int> & <fct> & <int> & <fct> & <fct> & ⋯ & <int> & <fct> & <fct> & <fct> & <fct> & <fct> & <int> & <int> & <int> & <int>\\\\\n",
       "\\hline\n",
       "\t1 & 1000019 & 1000019 & 0 & 0 & 2 & -9 & Female & 1960 & 2008-01-24 & NA & ⋯ & NA & 1 & 0  & NA & NA & NA & 0 & 47 & 1 & 47\\\\\n",
       "\t2 & 1000022 & 1000022 & 0 & 0 & 1 & -9 & Male   & 1954 & 2008-01-22 & NA & ⋯ & NA & 0 & 0  & NA & NA & NA & 0 & 53 & 1 & 53\\\\\n",
       "\t3 & 1000035 & 1000035 & 0 & 0 & 1 & -9 & Male   & 1944 & 2007-11-08 & NA & ⋯ & NA & 0 & 0  & NA & NA & NA & 0 & 63 & 0 & 63\\\\\n",
       "\t4 & 1000046 & 1000046 & 0 & 0 & 2 & -9 & Female & 1946 & 2008-12-01 & NA & ⋯ &  0 & 1 & NA & NA & 0  & NA & 0 & 73 & 0 & 73\\\\\n",
       "\t5 & 1000054 & 1000054 & 0 & 0 & 2 & -9 & Female & 1942 & 2007-11-23 & NA & ⋯ & NA & 1 & 0  & NA & NA & NA & 0 & 65 & 0 & 65\\\\\n",
       "\t6 & 1000063 & 1000063 & 0 & 0 & 1 & -9 & Male   & 1967 & 2010-06-26 & NA & ⋯ &  0 & 0 & 0  & NA & NA & NA & 0 & 43 & 0 & 43\\\\\n",
       "\\end{tabular}\n"
      ],
      "text/markdown": [
       "\n",
       "A data.frame: 6 × 1091\n",
       "\n",
       "| <!--/--> | IID &lt;int&gt; | FID &lt;int&gt; | ignore1 &lt;int&gt; | ignore2 &lt;int&gt; | ignore3 &lt;int&gt; | ignore4 &lt;int&gt; | f.31.0.0 &lt;fct&gt; | f.34.0.0 &lt;int&gt; | f.53.0.0 &lt;fct&gt; | f.53.1.0 &lt;fct&gt; | ⋯ ⋯ | music_imp &lt;int&gt; | sex &lt;fct&gt; | f.3393.0.0_recode &lt;fct&gt; | f.3393.1.0_recode &lt;fct&gt; | f.3393.2.0_recode &lt;fct&gt; | f.3393.3.0_recode &lt;fct&gt; | hearing_aid_cat &lt;int&gt; | age_final_aid &lt;int&gt; | hearing_diff_cat &lt;int&gt; | age_final_diff &lt;int&gt; |\n",
       "|---|---|---|---|---|---|---|---|---|---|---|---|---|---|---|---|---|---|---|---|---|---|\n",
       "| 1 | 1000019 | 1000019 | 0 | 0 | 2 | -9 | Female | 1960 | 2008-01-24 | NA | ⋯ | NA | 1 | 0  | NA | NA | NA | 0 | 47 | 1 | 47 |\n",
       "| 2 | 1000022 | 1000022 | 0 | 0 | 1 | -9 | Male   | 1954 | 2008-01-22 | NA | ⋯ | NA | 0 | 0  | NA | NA | NA | 0 | 53 | 1 | 53 |\n",
       "| 3 | 1000035 | 1000035 | 0 | 0 | 1 | -9 | Male   | 1944 | 2007-11-08 | NA | ⋯ | NA | 0 | 0  | NA | NA | NA | 0 | 63 | 0 | 63 |\n",
       "| 4 | 1000046 | 1000046 | 0 | 0 | 2 | -9 | Female | 1946 | 2008-12-01 | NA | ⋯ |  0 | 1 | NA | NA | 0  | NA | 0 | 73 | 0 | 73 |\n",
       "| 5 | 1000054 | 1000054 | 0 | 0 | 2 | -9 | Female | 1942 | 2007-11-23 | NA | ⋯ | NA | 1 | 0  | NA | NA | NA | 0 | 65 | 0 | 65 |\n",
       "| 6 | 1000063 | 1000063 | 0 | 0 | 1 | -9 | Male   | 1967 | 2010-06-26 | NA | ⋯ |  0 | 0 | 0  | NA | NA | NA | 0 | 43 | 0 | 43 |\n",
       "\n"
      ],
      "text/plain": [
       "  IID     FID     ignore1 ignore2 ignore3 ignore4 f.31.0.0 f.34.0.0 f.53.0.0  \n",
       "1 1000019 1000019 0       0       2       -9      Female   1960     2008-01-24\n",
       "2 1000022 1000022 0       0       1       -9      Male     1954     2008-01-22\n",
       "3 1000035 1000035 0       0       1       -9      Male     1944     2007-11-08\n",
       "4 1000046 1000046 0       0       2       -9      Female   1946     2008-12-01\n",
       "5 1000054 1000054 0       0       2       -9      Female   1942     2007-11-23\n",
       "6 1000063 1000063 0       0       1       -9      Male     1967     2010-06-26\n",
       "  f.53.1.0 ⋯ music_imp sex f.3393.0.0_recode f.3393.1.0_recode\n",
       "1 NA       ⋯ NA        1   0                 NA               \n",
       "2 NA       ⋯ NA        0   0                 NA               \n",
       "3 NA       ⋯ NA        0   0                 NA               \n",
       "4 NA       ⋯  0        1   NA                NA               \n",
       "5 NA       ⋯ NA        1   0                 NA               \n",
       "6 NA       ⋯  0        0   0                 NA               \n",
       "  f.3393.2.0_recode f.3393.3.0_recode hearing_aid_cat age_final_aid\n",
       "1 NA                NA                0               47           \n",
       "2 NA                NA                0               53           \n",
       "3 NA                NA                0               63           \n",
       "4 0                 NA                0               73           \n",
       "5 NA                NA                0               65           \n",
       "6 NA                NA                0               43           \n",
       "  hearing_diff_cat age_final_diff\n",
       "1 1                47            \n",
       "2 1                53            \n",
       "3 0                63            \n",
       "4 0                73            \n",
       "5 0                65            \n",
       "6 0                43            "
      ]
     },
     "metadata": {},
     "output_type": "display_data"
    }
   ],
   "source": [
    "#Merge with complete database keep the all the rows from original db\n",
    "df_3393_2247 = merge(x = df_3393, y = hearing_diff_age [,c(\"IID\",\"hearing_diff_cat\",\"age_final_diff\")],by=\"IID\", all.x=TRUE)\n",
    "dim(df_3393_2247)\n",
    "head(df_3393_2247)"
   ]
  },
  {
   "cell_type": "markdown",
   "metadata": {
    "kernel": "R"
   },
   "source": [
    "## Reclassify individuals wearing hearing aid f.3393 but saying they don't have hearing difficulty f.2247"
   ]
  },
  {
   "cell_type": "code",
   "execution_count": 66,
   "metadata": {
    "kernel": "R"
   },
   "outputs": [],
   "source": [
    "#reclassify these 85 individulas as cases for 2247\n",
    "df_3393_2247$hearing_diff_cat_new <- as.factor(df_3393_2247$hearing_diff_cat)\n",
    "df_3393_2247$hearing_diff_cat_new <- revalue(df_3393_2247$hearing_diff_cat_new, c('0' = \"control\", '1' = 'case' ))\n",
    "df_3393_2247$hearing_aid_cat_new <- as.factor(df_3393_2247$hearing_aid_cat)\n",
    "df_3393_2247$hearing_aid_cat_new <- revalue(df_3393_2247$hearing_aid_cat_new, c('0' = \"control\", '1' = 'case' ))\n",
    "#hearing_diff_new <- df_3393_2247 %>% \n",
    " # mutate(hearing_diff_cat_new =ifelse(IID%in%inconsistent_aid_diff,1,hearing_diff_cat_new))\n",
    "#head(hearing_diff_new)"
   ]
  },
  {
   "cell_type": "code",
   "execution_count": 67,
   "metadata": {
    "kernel": "R"
   },
   "outputs": [
    {
     "data": {
      "text/html": [
       "337129"
      ],
      "text/latex": [
       "337129"
      ],
      "text/markdown": [
       "337129"
      ],
      "text/plain": [
       "[1] 337129"
      ]
     },
     "metadata": {},
     "output_type": "display_data"
    }
   ],
   "source": [
    "246072 + 91057 # number of controls and cases"
   ]
  },
  {
   "cell_type": "code",
   "execution_count": 68,
   "metadata": {
    "kernel": "R"
   },
   "outputs": [
    {
     "data": {
      "text/html": [
       "85"
      ],
      "text/latex": [
       "85"
      ],
      "text/markdown": [
       "85"
      ],
      "text/plain": [
       "[1] 85"
      ]
     },
     "metadata": {},
     "output_type": "display_data"
    }
   ],
   "source": [
    "length(which(df_3393_2247$hearing_diff_cat_new == 'control' & df_3393_2247$hearing_aid_cat_new == 'case'))"
   ]
  },
  {
   "cell_type": "code",
   "execution_count": 69,
   "metadata": {
    "kernel": "R"
   },
   "outputs": [
    {
     "data": {
      "text/html": [
       "85"
      ],
      "text/latex": [
       "85"
      ],
      "text/markdown": [
       "85"
      ],
      "text/plain": [
       "[1] 85"
      ]
     },
     "metadata": {},
     "output_type": "display_data"
    },
    {
     "data": {
      "text/html": [
       "<table>\n",
       "<caption>A data.frame: 6 × 1</caption>\n",
       "<thead>\n",
       "\t<tr><th></th><th scope=col>IID</th></tr>\n",
       "\t<tr><th></th><th scope=col>&lt;int&gt;</th></tr>\n",
       "</thead>\n",
       "<tbody>\n",
       "\t<tr><th scope=row>1</th><td>1011166</td></tr>\n",
       "\t<tr><th scope=row>2</th><td>1085722</td></tr>\n",
       "\t<tr><th scope=row>3</th><td>1156617</td></tr>\n",
       "\t<tr><th scope=row>4</th><td>1178338</td></tr>\n",
       "\t<tr><th scope=row>5</th><td>1200917</td></tr>\n",
       "\t<tr><th scope=row>6</th><td>1210033</td></tr>\n",
       "</tbody>\n",
       "</table>\n"
      ],
      "text/latex": [
       "A data.frame: 6 × 1\n",
       "\\begin{tabular}{r|l}\n",
       "  & IID\\\\\n",
       "  & <int>\\\\\n",
       "\\hline\n",
       "\t1 & 1011166\\\\\n",
       "\t2 & 1085722\\\\\n",
       "\t3 & 1156617\\\\\n",
       "\t4 & 1178338\\\\\n",
       "\t5 & 1200917\\\\\n",
       "\t6 & 1210033\\\\\n",
       "\\end{tabular}\n"
      ],
      "text/markdown": [
       "\n",
       "A data.frame: 6 × 1\n",
       "\n",
       "| <!--/--> | IID &lt;int&gt; |\n",
       "|---|---|\n",
       "| 1 | 1011166 |\n",
       "| 2 | 1085722 |\n",
       "| 3 | 1156617 |\n",
       "| 4 | 1178338 |\n",
       "| 5 | 1200917 |\n",
       "| 6 | 1210033 |\n",
       "\n"
      ],
      "text/plain": [
       "  IID    \n",
       "1 1011166\n",
       "2 1085722\n",
       "3 1156617\n",
       "4 1178338\n",
       "5 1200917\n",
       "6 1210033"
      ]
     },
     "metadata": {},
     "output_type": "display_data"
    }
   ],
   "source": [
    "#85 individuals state they have no hearing difficulty but they wear hearing aids\n",
    "inconsistent_aid_diff <- df_3393_2247 %>%\n",
    "    filter(hearing_diff_cat_new == 'control' & hearing_aid_cat_new == 'case') %>%\n",
    "    select(IID)\n",
    "nrow(inconsistent_aid_diff)\n",
    "head(inconsistent_aid_diff)"
   ]
  },
  {
   "cell_type": "code",
   "execution_count": 70,
   "metadata": {
    "kernel": "R"
   },
   "outputs": [
    {
     "name": "stdout",
     "output_type": "stream",
     "text": [
      "There are 85 individuals that state having no hearing difficulty but wear hearing aid"
     ]
    }
   ],
   "source": [
    "inconsistent_aid_diff<-unlist(inconsistent_aid_diff[,1])\n",
    "cat(\"There are\",length(inconsistent_aid_diff),\"individuals that state having no hearing difficulty but wear hearing aid\")"
   ]
  },
  {
   "cell_type": "code",
   "execution_count": 71,
   "metadata": {
    "kernel": "R"
   },
   "outputs": [],
   "source": [
    "df_3393_2247$hearing_diff_new <- df_3393_2247$hearing_diff_cat_new\n",
    "df_3393_2247$hearing_diff_new[df_3393_2247$IID %in% inconsistent_aid_diff] <- \"case\""
   ]
  },
  {
   "cell_type": "code",
   "execution_count": 72,
   "metadata": {
    "kernel": "R"
   },
   "outputs": [
    {
     "data": {
      "text/html": [
       "<table>\n",
       "<caption>A data.frame: 6 × 3</caption>\n",
       "<thead>\n",
       "\t<tr><th></th><th scope=col>hearing_diff_cat_new</th><th scope=col>hearing_aid_cat_new</th><th scope=col>hearing_diff_new</th></tr>\n",
       "\t<tr><th></th><th scope=col>&lt;fct&gt;</th><th scope=col>&lt;fct&gt;</th><th scope=col>&lt;fct&gt;</th></tr>\n",
       "</thead>\n",
       "<tbody>\n",
       "\t<tr><th scope=row>1</th><td>case</td><td>control</td><td>case</td></tr>\n",
       "\t<tr><th scope=row>2</th><td>case</td><td>control</td><td>case</td></tr>\n",
       "\t<tr><th scope=row>3</th><td>case</td><td>case   </td><td>case</td></tr>\n",
       "\t<tr><th scope=row>4</th><td>case</td><td>control</td><td>case</td></tr>\n",
       "\t<tr><th scope=row>5</th><td>case</td><td>control</td><td>case</td></tr>\n",
       "\t<tr><th scope=row>6</th><td>case</td><td>control</td><td>case</td></tr>\n",
       "</tbody>\n",
       "</table>\n"
      ],
      "text/latex": [
       "A data.frame: 6 × 3\n",
       "\\begin{tabular}{r|lll}\n",
       "  & hearing\\_diff\\_cat\\_new & hearing\\_aid\\_cat\\_new & hearing\\_diff\\_new\\\\\n",
       "  & <fct> & <fct> & <fct>\\\\\n",
       "\\hline\n",
       "\t1 & case & control & case\\\\\n",
       "\t2 & case & control & case\\\\\n",
       "\t3 & case & case    & case\\\\\n",
       "\t4 & case & control & case\\\\\n",
       "\t5 & case & control & case\\\\\n",
       "\t6 & case & control & case\\\\\n",
       "\\end{tabular}\n"
      ],
      "text/markdown": [
       "\n",
       "A data.frame: 6 × 3\n",
       "\n",
       "| <!--/--> | hearing_diff_cat_new &lt;fct&gt; | hearing_aid_cat_new &lt;fct&gt; | hearing_diff_new &lt;fct&gt; |\n",
       "|---|---|---|---|\n",
       "| 1 | case | control | case |\n",
       "| 2 | case | control | case |\n",
       "| 3 | case | case    | case |\n",
       "| 4 | case | control | case |\n",
       "| 5 | case | control | case |\n",
       "| 6 | case | control | case |\n",
       "\n"
      ],
      "text/plain": [
       "  hearing_diff_cat_new hearing_aid_cat_new hearing_diff_new\n",
       "1 case                 control             case            \n",
       "2 case                 control             case            \n",
       "3 case                 case                case            \n",
       "4 case                 control             case            \n",
       "5 case                 control             case            \n",
       "6 case                 control             case            "
      ]
     },
     "metadata": {},
     "output_type": "display_data"
    },
    {
     "data": {
      "text/html": [
       "91142"
      ],
      "text/latex": [
       "91142"
      ],
      "text/markdown": [
       "91142"
      ],
      "text/plain": [
       "[1] 91142"
      ]
     },
     "metadata": {},
     "output_type": "display_data"
    }
   ],
   "source": [
    "#91057 individuals plus 85 that wear hearing aid = 91142\n",
    "check_merge <- df_3393_2247 %>% \n",
    "  select(hearing_diff_cat_new, hearing_aid_cat_new, hearing_diff_new) %>%\n",
    "  filter(hearing_diff_new == \"case\")\n",
    "head(check_merge)\n",
    "nrow(check_merge)"
   ]
  },
  {
   "cell_type": "markdown",
   "metadata": {
    "kernel": "R"
   },
   "source": [
    "## f.2247 Verify the age for the new 85 cases"
   ]
  },
  {
   "cell_type": "code",
   "execution_count": 73,
   "metadata": {
    "kernel": "R",
    "scrolled": true
   },
   "outputs": [
    {
     "data": {
      "text/html": [
       "<table>\n",
       "<caption>A data.frame: 85 × 3</caption>\n",
       "<thead>\n",
       "\t<tr><th></th><th scope=col>IID</th><th scope=col>age_final_aid</th><th scope=col>age_final_diff</th></tr>\n",
       "\t<tr><th></th><th scope=col>&lt;int&gt;</th><th scope=col>&lt;int&gt;</th><th scope=col>&lt;int&gt;</th></tr>\n",
       "</thead>\n",
       "<tbody>\n",
       "\t<tr><th scope=row>1</th><td>1011166</td><td>52</td><td>52</td></tr>\n",
       "\t<tr><th scope=row>2</th><td>1085722</td><td>43</td><td>43</td></tr>\n",
       "\t<tr><th scope=row>3</th><td>1156617</td><td>65</td><td>65</td></tr>\n",
       "\t<tr><th scope=row>4</th><td>1178338</td><td>40</td><td>40</td></tr>\n",
       "\t<tr><th scope=row>5</th><td>1200917</td><td>70</td><td>70</td></tr>\n",
       "\t<tr><th scope=row>6</th><td>1210033</td><td>60</td><td>60</td></tr>\n",
       "\t<tr><th scope=row>7</th><td>1362299</td><td>45</td><td>45</td></tr>\n",
       "\t<tr><th scope=row>8</th><td>1541460</td><td>66</td><td>66</td></tr>\n",
       "\t<tr><th scope=row>9</th><td>1546451</td><td>57</td><td>57</td></tr>\n",
       "\t<tr><th scope=row>10</th><td>1751226</td><td>59</td><td>59</td></tr>\n",
       "\t<tr><th scope=row>11</th><td>1841967</td><td>64</td><td>64</td></tr>\n",
       "\t<tr><th scope=row>12</th><td>1851266</td><td>65</td><td>65</td></tr>\n",
       "\t<tr><th scope=row>13</th><td>1876770</td><td>64</td><td>64</td></tr>\n",
       "\t<tr><th scope=row>14</th><td>1999389</td><td>65</td><td>65</td></tr>\n",
       "\t<tr><th scope=row>15</th><td>2005924</td><td>67</td><td>67</td></tr>\n",
       "\t<tr><th scope=row>16</th><td>2061120</td><td>60</td><td>60</td></tr>\n",
       "\t<tr><th scope=row>17</th><td>2067396</td><td>65</td><td>65</td></tr>\n",
       "\t<tr><th scope=row>18</th><td>2077317</td><td>42</td><td>42</td></tr>\n",
       "\t<tr><th scope=row>19</th><td>2204236</td><td>70</td><td>70</td></tr>\n",
       "\t<tr><th scope=row>20</th><td>2209847</td><td>53</td><td>53</td></tr>\n",
       "\t<tr><th scope=row>21</th><td>2237586</td><td>44</td><td>44</td></tr>\n",
       "\t<tr><th scope=row>22</th><td>2402383</td><td>65</td><td>65</td></tr>\n",
       "\t<tr><th scope=row>23</th><td>2486182</td><td>59</td><td>59</td></tr>\n",
       "\t<tr><th scope=row>24</th><td>2489731</td><td>50</td><td>50</td></tr>\n",
       "\t<tr><th scope=row>25</th><td>2626196</td><td>46</td><td>46</td></tr>\n",
       "\t<tr><th scope=row>26</th><td>2713832</td><td>65</td><td>65</td></tr>\n",
       "\t<tr><th scope=row>27</th><td>2745960</td><td>65</td><td>65</td></tr>\n",
       "\t<tr><th scope=row>28</th><td>2755372</td><td>42</td><td>42</td></tr>\n",
       "\t<tr><th scope=row>29</th><td>2877982</td><td>61</td><td>61</td></tr>\n",
       "\t<tr><th scope=row>30</th><td>3156855</td><td>74</td><td>74</td></tr>\n",
       "\t<tr><th scope=row>⋮</th><td>⋮</td><td>⋮</td><td>⋮</td></tr>\n",
       "\t<tr><th scope=row>56</th><td>4305817</td><td>40</td><td>40</td></tr>\n",
       "\t<tr><th scope=row>57</th><td>4373603</td><td>70</td><td>70</td></tr>\n",
       "\t<tr><th scope=row>58</th><td>4403852</td><td>59</td><td>59</td></tr>\n",
       "\t<tr><th scope=row>59</th><td>4623253</td><td>67</td><td>67</td></tr>\n",
       "\t<tr><th scope=row>60</th><td>4631605</td><td>51</td><td>51</td></tr>\n",
       "\t<tr><th scope=row>61</th><td>4899701</td><td>73</td><td>73</td></tr>\n",
       "\t<tr><th scope=row>62</th><td>4993548</td><td>69</td><td>69</td></tr>\n",
       "\t<tr><th scope=row>63</th><td>5007903</td><td>42</td><td>42</td></tr>\n",
       "\t<tr><th scope=row>64</th><td>5036766</td><td>62</td><td>62</td></tr>\n",
       "\t<tr><th scope=row>65</th><td>5041786</td><td>44</td><td>44</td></tr>\n",
       "\t<tr><th scope=row>66</th><td>5132988</td><td>68</td><td>68</td></tr>\n",
       "\t<tr><th scope=row>67</th><td>5239604</td><td>48</td><td>48</td></tr>\n",
       "\t<tr><th scope=row>68</th><td>5245764</td><td>68</td><td>68</td></tr>\n",
       "\t<tr><th scope=row>69</th><td>5270720</td><td>66</td><td>66</td></tr>\n",
       "\t<tr><th scope=row>70</th><td>5292807</td><td>49</td><td>49</td></tr>\n",
       "\t<tr><th scope=row>71</th><td>5324224</td><td>70</td><td>70</td></tr>\n",
       "\t<tr><th scope=row>72</th><td>5337673</td><td>48</td><td>48</td></tr>\n",
       "\t<tr><th scope=row>73</th><td>5348247</td><td>53</td><td>53</td></tr>\n",
       "\t<tr><th scope=row>74</th><td>5376281</td><td>69</td><td>69</td></tr>\n",
       "\t<tr><th scope=row>75</th><td>5496191</td><td>50</td><td>50</td></tr>\n",
       "\t<tr><th scope=row>76</th><td>5554820</td><td>69</td><td>69</td></tr>\n",
       "\t<tr><th scope=row>77</th><td>5557440</td><td>67</td><td>67</td></tr>\n",
       "\t<tr><th scope=row>78</th><td>5618703</td><td>57</td><td>57</td></tr>\n",
       "\t<tr><th scope=row>79</th><td>5662470</td><td>52</td><td>52</td></tr>\n",
       "\t<tr><th scope=row>80</th><td>5678670</td><td>54</td><td>54</td></tr>\n",
       "\t<tr><th scope=row>81</th><td>5704312</td><td>61</td><td>61</td></tr>\n",
       "\t<tr><th scope=row>82</th><td>5767446</td><td>55</td><td>55</td></tr>\n",
       "\t<tr><th scope=row>83</th><td>5827859</td><td>57</td><td>57</td></tr>\n",
       "\t<tr><th scope=row>84</th><td>5837197</td><td>69</td><td>69</td></tr>\n",
       "\t<tr><th scope=row>85</th><td>5924018</td><td>52</td><td>52</td></tr>\n",
       "</tbody>\n",
       "</table>\n"
      ],
      "text/latex": [
       "A data.frame: 85 × 3\n",
       "\\begin{tabular}{r|lll}\n",
       "  & IID & age\\_final\\_aid & age\\_final\\_diff\\\\\n",
       "  & <int> & <int> & <int>\\\\\n",
       "\\hline\n",
       "\t1 & 1011166 & 52 & 52\\\\\n",
       "\t2 & 1085722 & 43 & 43\\\\\n",
       "\t3 & 1156617 & 65 & 65\\\\\n",
       "\t4 & 1178338 & 40 & 40\\\\\n",
       "\t5 & 1200917 & 70 & 70\\\\\n",
       "\t6 & 1210033 & 60 & 60\\\\\n",
       "\t7 & 1362299 & 45 & 45\\\\\n",
       "\t8 & 1541460 & 66 & 66\\\\\n",
       "\t9 & 1546451 & 57 & 57\\\\\n",
       "\t10 & 1751226 & 59 & 59\\\\\n",
       "\t11 & 1841967 & 64 & 64\\\\\n",
       "\t12 & 1851266 & 65 & 65\\\\\n",
       "\t13 & 1876770 & 64 & 64\\\\\n",
       "\t14 & 1999389 & 65 & 65\\\\\n",
       "\t15 & 2005924 & 67 & 67\\\\\n",
       "\t16 & 2061120 & 60 & 60\\\\\n",
       "\t17 & 2067396 & 65 & 65\\\\\n",
       "\t18 & 2077317 & 42 & 42\\\\\n",
       "\t19 & 2204236 & 70 & 70\\\\\n",
       "\t20 & 2209847 & 53 & 53\\\\\n",
       "\t21 & 2237586 & 44 & 44\\\\\n",
       "\t22 & 2402383 & 65 & 65\\\\\n",
       "\t23 & 2486182 & 59 & 59\\\\\n",
       "\t24 & 2489731 & 50 & 50\\\\\n",
       "\t25 & 2626196 & 46 & 46\\\\\n",
       "\t26 & 2713832 & 65 & 65\\\\\n",
       "\t27 & 2745960 & 65 & 65\\\\\n",
       "\t28 & 2755372 & 42 & 42\\\\\n",
       "\t29 & 2877982 & 61 & 61\\\\\n",
       "\t30 & 3156855 & 74 & 74\\\\\n",
       "\t⋮ & ⋮ & ⋮ & ⋮\\\\\n",
       "\t56 & 4305817 & 40 & 40\\\\\n",
       "\t57 & 4373603 & 70 & 70\\\\\n",
       "\t58 & 4403852 & 59 & 59\\\\\n",
       "\t59 & 4623253 & 67 & 67\\\\\n",
       "\t60 & 4631605 & 51 & 51\\\\\n",
       "\t61 & 4899701 & 73 & 73\\\\\n",
       "\t62 & 4993548 & 69 & 69\\\\\n",
       "\t63 & 5007903 & 42 & 42\\\\\n",
       "\t64 & 5036766 & 62 & 62\\\\\n",
       "\t65 & 5041786 & 44 & 44\\\\\n",
       "\t66 & 5132988 & 68 & 68\\\\\n",
       "\t67 & 5239604 & 48 & 48\\\\\n",
       "\t68 & 5245764 & 68 & 68\\\\\n",
       "\t69 & 5270720 & 66 & 66\\\\\n",
       "\t70 & 5292807 & 49 & 49\\\\\n",
       "\t71 & 5324224 & 70 & 70\\\\\n",
       "\t72 & 5337673 & 48 & 48\\\\\n",
       "\t73 & 5348247 & 53 & 53\\\\\n",
       "\t74 & 5376281 & 69 & 69\\\\\n",
       "\t75 & 5496191 & 50 & 50\\\\\n",
       "\t76 & 5554820 & 69 & 69\\\\\n",
       "\t77 & 5557440 & 67 & 67\\\\\n",
       "\t78 & 5618703 & 57 & 57\\\\\n",
       "\t79 & 5662470 & 52 & 52\\\\\n",
       "\t80 & 5678670 & 54 & 54\\\\\n",
       "\t81 & 5704312 & 61 & 61\\\\\n",
       "\t82 & 5767446 & 55 & 55\\\\\n",
       "\t83 & 5827859 & 57 & 57\\\\\n",
       "\t84 & 5837197 & 69 & 69\\\\\n",
       "\t85 & 5924018 & 52 & 52\\\\\n",
       "\\end{tabular}\n"
      ],
      "text/markdown": [
       "\n",
       "A data.frame: 85 × 3\n",
       "\n",
       "| <!--/--> | IID &lt;int&gt; | age_final_aid &lt;int&gt; | age_final_diff &lt;int&gt; |\n",
       "|---|---|---|---|\n",
       "| 1 | 1011166 | 52 | 52 |\n",
       "| 2 | 1085722 | 43 | 43 |\n",
       "| 3 | 1156617 | 65 | 65 |\n",
       "| 4 | 1178338 | 40 | 40 |\n",
       "| 5 | 1200917 | 70 | 70 |\n",
       "| 6 | 1210033 | 60 | 60 |\n",
       "| 7 | 1362299 | 45 | 45 |\n",
       "| 8 | 1541460 | 66 | 66 |\n",
       "| 9 | 1546451 | 57 | 57 |\n",
       "| 10 | 1751226 | 59 | 59 |\n",
       "| 11 | 1841967 | 64 | 64 |\n",
       "| 12 | 1851266 | 65 | 65 |\n",
       "| 13 | 1876770 | 64 | 64 |\n",
       "| 14 | 1999389 | 65 | 65 |\n",
       "| 15 | 2005924 | 67 | 67 |\n",
       "| 16 | 2061120 | 60 | 60 |\n",
       "| 17 | 2067396 | 65 | 65 |\n",
       "| 18 | 2077317 | 42 | 42 |\n",
       "| 19 | 2204236 | 70 | 70 |\n",
       "| 20 | 2209847 | 53 | 53 |\n",
       "| 21 | 2237586 | 44 | 44 |\n",
       "| 22 | 2402383 | 65 | 65 |\n",
       "| 23 | 2486182 | 59 | 59 |\n",
       "| 24 | 2489731 | 50 | 50 |\n",
       "| 25 | 2626196 | 46 | 46 |\n",
       "| 26 | 2713832 | 65 | 65 |\n",
       "| 27 | 2745960 | 65 | 65 |\n",
       "| 28 | 2755372 | 42 | 42 |\n",
       "| 29 | 2877982 | 61 | 61 |\n",
       "| 30 | 3156855 | 74 | 74 |\n",
       "| ⋮ | ⋮ | ⋮ | ⋮ |\n",
       "| 56 | 4305817 | 40 | 40 |\n",
       "| 57 | 4373603 | 70 | 70 |\n",
       "| 58 | 4403852 | 59 | 59 |\n",
       "| 59 | 4623253 | 67 | 67 |\n",
       "| 60 | 4631605 | 51 | 51 |\n",
       "| 61 | 4899701 | 73 | 73 |\n",
       "| 62 | 4993548 | 69 | 69 |\n",
       "| 63 | 5007903 | 42 | 42 |\n",
       "| 64 | 5036766 | 62 | 62 |\n",
       "| 65 | 5041786 | 44 | 44 |\n",
       "| 66 | 5132988 | 68 | 68 |\n",
       "| 67 | 5239604 | 48 | 48 |\n",
       "| 68 | 5245764 | 68 | 68 |\n",
       "| 69 | 5270720 | 66 | 66 |\n",
       "| 70 | 5292807 | 49 | 49 |\n",
       "| 71 | 5324224 | 70 | 70 |\n",
       "| 72 | 5337673 | 48 | 48 |\n",
       "| 73 | 5348247 | 53 | 53 |\n",
       "| 74 | 5376281 | 69 | 69 |\n",
       "| 75 | 5496191 | 50 | 50 |\n",
       "| 76 | 5554820 | 69 | 69 |\n",
       "| 77 | 5557440 | 67 | 67 |\n",
       "| 78 | 5618703 | 57 | 57 |\n",
       "| 79 | 5662470 | 52 | 52 |\n",
       "| 80 | 5678670 | 54 | 54 |\n",
       "| 81 | 5704312 | 61 | 61 |\n",
       "| 82 | 5767446 | 55 | 55 |\n",
       "| 83 | 5827859 | 57 | 57 |\n",
       "| 84 | 5837197 | 69 | 69 |\n",
       "| 85 | 5924018 | 52 | 52 |\n",
       "\n"
      ],
      "text/plain": [
       "   IID     age_final_aid age_final_diff\n",
       "1  1011166 52            52            \n",
       "2  1085722 43            43            \n",
       "3  1156617 65            65            \n",
       "4  1178338 40            40            \n",
       "5  1200917 70            70            \n",
       "6  1210033 60            60            \n",
       "7  1362299 45            45            \n",
       "8  1541460 66            66            \n",
       "9  1546451 57            57            \n",
       "10 1751226 59            59            \n",
       "11 1841967 64            64            \n",
       "12 1851266 65            65            \n",
       "13 1876770 64            64            \n",
       "14 1999389 65            65            \n",
       "15 2005924 67            67            \n",
       "16 2061120 60            60            \n",
       "17 2067396 65            65            \n",
       "18 2077317 42            42            \n",
       "19 2204236 70            70            \n",
       "20 2209847 53            53            \n",
       "21 2237586 44            44            \n",
       "22 2402383 65            65            \n",
       "23 2486182 59            59            \n",
       "24 2489731 50            50            \n",
       "25 2626196 46            46            \n",
       "26 2713832 65            65            \n",
       "27 2745960 65            65            \n",
       "28 2755372 42            42            \n",
       "29 2877982 61            61            \n",
       "30 3156855 74            74            \n",
       "⋮  ⋮       ⋮             ⋮             \n",
       "56 4305817 40            40            \n",
       "57 4373603 70            70            \n",
       "58 4403852 59            59            \n",
       "59 4623253 67            67            \n",
       "60 4631605 51            51            \n",
       "61 4899701 73            73            \n",
       "62 4993548 69            69            \n",
       "63 5007903 42            42            \n",
       "64 5036766 62            62            \n",
       "65 5041786 44            44            \n",
       "66 5132988 68            68            \n",
       "67 5239604 48            48            \n",
       "68 5245764 68            68            \n",
       "69 5270720 66            66            \n",
       "70 5292807 49            49            \n",
       "71 5324224 70            70            \n",
       "72 5337673 48            48            \n",
       "73 5348247 53            53            \n",
       "74 5376281 69            69            \n",
       "75 5496191 50            50            \n",
       "76 5554820 69            69            \n",
       "77 5557440 67            67            \n",
       "78 5618703 57            57            \n",
       "79 5662470 52            52            \n",
       "80 5678670 54            54            \n",
       "81 5704312 61            61            \n",
       "82 5767446 55            55            \n",
       "83 5827859 57            57            \n",
       "84 5837197 69            69            \n",
       "85 5924018 52            52            "
      ]
     },
     "metadata": {},
     "output_type": "display_data"
    }
   ],
   "source": [
    "age_inconsistent <- df_3393_2247 %>%\n",
    "    select(IID, age_final_aid, age_final_diff) %>%\n",
    "    filter(IID %in% inconsistent_aid_diff)\n",
    "head(age_inconsistent, 100)"
   ]
  },
  {
   "cell_type": "code",
   "execution_count": 74,
   "metadata": {
    "kernel": "R"
   },
   "outputs": [
    {
     "data": {
      "text/html": [
       "TRUE"
      ],
      "text/latex": [
       "TRUE"
      ],
      "text/markdown": [
       "TRUE"
      ],
      "text/plain": [
       "[1] TRUE"
      ]
     },
     "metadata": {},
     "output_type": "display_data"
    }
   ],
   "source": [
    "# There are not inconsistencies in the age of the 85 new cases therefore I can use the age_final_diff variable\n",
    "all(age_inconsistent$age_final_aid == age_inconsistent$age_final_diff)"
   ]
  },
  {
   "cell_type": "markdown",
   "metadata": {
    "kernel": "R"
   },
   "source": [
    "## Export file for hearing difficulty f.2247"
   ]
  },
  {
   "cell_type": "code",
   "execution_count": 75,
   "metadata": {
    "kernel": "R"
   },
   "outputs": [],
   "source": [
    "df_3393_2247$hearing_diff_new <- revalue(df_3393_2247$hearing_diff_new, c('control' = \"0\", 'case' = '1' ))"
   ]
  },
  {
   "cell_type": "code",
   "execution_count": 76,
   "metadata": {
    "kernel": "R"
   },
   "outputs": [
    {
     "data": {
      "text/html": [
       "<table>\n",
       "<caption>A data.frame: 6 × 5</caption>\n",
       "<thead>\n",
       "\t<tr><th></th><th scope=col>FID</th><th scope=col>IID</th><th scope=col>age_final_diff</th><th scope=col>sex</th><th scope=col>hearing_diff_new</th></tr>\n",
       "\t<tr><th></th><th scope=col>&lt;int&gt;</th><th scope=col>&lt;int&gt;</th><th scope=col>&lt;int&gt;</th><th scope=col>&lt;fct&gt;</th><th scope=col>&lt;fct&gt;</th></tr>\n",
       "</thead>\n",
       "<tbody>\n",
       "\t<tr><th scope=row>1</th><td>1000019</td><td>1000019</td><td>47</td><td>1</td><td>1</td></tr>\n",
       "\t<tr><th scope=row>2</th><td>1000022</td><td>1000022</td><td>53</td><td>0</td><td>1</td></tr>\n",
       "\t<tr><th scope=row>3</th><td>1000035</td><td>1000035</td><td>63</td><td>0</td><td>0</td></tr>\n",
       "\t<tr><th scope=row>4</th><td>1000046</td><td>1000046</td><td>73</td><td>1</td><td>0</td></tr>\n",
       "\t<tr><th scope=row>5</th><td>1000054</td><td>1000054</td><td>65</td><td>1</td><td>0</td></tr>\n",
       "\t<tr><th scope=row>6</th><td>1000063</td><td>1000063</td><td>43</td><td>0</td><td>0</td></tr>\n",
       "</tbody>\n",
       "</table>\n"
      ],
      "text/latex": [
       "A data.frame: 6 × 5\n",
       "\\begin{tabular}{r|lllll}\n",
       "  & FID & IID & age\\_final\\_diff & sex & hearing\\_diff\\_new\\\\\n",
       "  & <int> & <int> & <int> & <fct> & <fct>\\\\\n",
       "\\hline\n",
       "\t1 & 1000019 & 1000019 & 47 & 1 & 1\\\\\n",
       "\t2 & 1000022 & 1000022 & 53 & 0 & 1\\\\\n",
       "\t3 & 1000035 & 1000035 & 63 & 0 & 0\\\\\n",
       "\t4 & 1000046 & 1000046 & 73 & 1 & 0\\\\\n",
       "\t5 & 1000054 & 1000054 & 65 & 1 & 0\\\\\n",
       "\t6 & 1000063 & 1000063 & 43 & 0 & 0\\\\\n",
       "\\end{tabular}\n"
      ],
      "text/markdown": [
       "\n",
       "A data.frame: 6 × 5\n",
       "\n",
       "| <!--/--> | FID &lt;int&gt; | IID &lt;int&gt; | age_final_diff &lt;int&gt; | sex &lt;fct&gt; | hearing_diff_new &lt;fct&gt; |\n",
       "|---|---|---|---|---|---|\n",
       "| 1 | 1000019 | 1000019 | 47 | 1 | 1 |\n",
       "| 2 | 1000022 | 1000022 | 53 | 0 | 1 |\n",
       "| 3 | 1000035 | 1000035 | 63 | 0 | 0 |\n",
       "| 4 | 1000046 | 1000046 | 73 | 1 | 0 |\n",
       "| 5 | 1000054 | 1000054 | 65 | 1 | 0 |\n",
       "| 6 | 1000063 | 1000063 | 43 | 0 | 0 |\n",
       "\n"
      ],
      "text/plain": [
       "  FID     IID     age_final_diff sex hearing_diff_new\n",
       "1 1000019 1000019 47             1   1               \n",
       "2 1000022 1000022 53             0   1               \n",
       "3 1000035 1000035 63             0   0               \n",
       "4 1000046 1000046 73             1   0               \n",
       "5 1000054 1000054 65             1   0               \n",
       "6 1000063 1000063 43             0   0               "
      ]
     },
     "metadata": {},
     "output_type": "display_data"
    },
    {
     "data": {
      "text/html": [
       "<style>\n",
       ".list-inline {list-style: none; margin:0; padding: 0}\n",
       ".list-inline>li {display: inline-block}\n",
       ".list-inline>li:not(:last-child)::after {content: \"\\00b7\"; padding: 0 .5ex}\n",
       "</style>\n",
       "<ol class=list-inline><li>337129</li><li>5</li></ol>\n"
      ],
      "text/latex": [
       "\\begin{enumerate*}\n",
       "\\item 337129\n",
       "\\item 5\n",
       "\\end{enumerate*}\n"
      ],
      "text/markdown": [
       "1. 337129\n",
       "2. 5\n",
       "\n",
       "\n"
      ],
      "text/plain": [
       "[1] 337129      5"
      ]
     },
     "metadata": {},
     "output_type": "display_data"
    }
   ],
   "source": [
    "f.2247_pheno <- df_3393_2247 %>%\n",
    "    filter(!(is.na(hearing_diff_new))) %>%\n",
    "    select(FID, IID, age_final_diff, sex, hearing_diff_new)\n",
    "head(f.2247_pheno)\n",
    "dim(f.2247_pheno)"
   ]
  },
  {
   "cell_type": "code",
   "execution_count": 77,
   "metadata": {
    "kernel": "R"
   },
   "outputs": [],
   "source": [
    "write.table(f.2247_pheno, '200828_UKBB_Hearing_difficulty_f2247', quote = FALSE, row.names = FALSE)"
   ]
  },
  {
   "cell_type": "markdown",
   "metadata": {
    "kernel": "SoS"
   },
   "source": [
    "## f.2257 Hearing difficulty/background noise (2257)\n",
    "### step1: classify cases and controls"
   ]
  },
  {
   "cell_type": "code",
   "execution_count": 78,
   "metadata": {
    "kernel": "R"
   },
   "outputs": [
    {
     "data": {
      "text/plain": [
       "\n",
       "         Do not know                   No Prefer not to answer \n",
       "                6494               218090                  208 \n",
       "                 Yes \n",
       "              129498 "
      ]
     },
     "metadata": {},
     "output_type": "display_data"
    }
   ],
   "source": [
    "table(df.final.imp$f.2257.0.0)"
   ]
  },
  {
   "cell_type": "code",
   "execution_count": 79,
   "metadata": {
    "kernel": "R"
   },
   "outputs": [
    {
     "name": "stdout",
     "output_type": "stream",
     "text": [
      "f.2257.0.0_recode summary:\n",
      "     9      0      1 \n",
      "  6494 218090 129498 \n",
      "\n",
      "f.2257.1.0_recode summary:\n",
      "   9    0    1 \n",
      " 311 8517 6528 \n",
      "\n",
      "f.2257.2.0_recode summary:\n",
      "    9     0     1 \n",
      "  780 18972 15952 \n",
      "\n",
      "f.2257.3.0_recode summary:\n",
      "   9    0    1 \n",
      "  52 1320 1037 \n",
      "\n"
     ]
    }
   ],
   "source": [
    "# Recode function:\n",
    "recode<-function(df,column_name){\n",
    "  new_names<-c()\n",
    "  for (i in column_name){\n",
    "    new_column_name<-paste0(i,\"_recode\")\n",
    "    new_names<-c(new_names,new_column_name)\n",
    "    df[,new_column_name] <- revalue(df[,i], c(\"No\"= 0, \n",
    "                                            \"Yes\" =1,\n",
    "                                            \"Prefer not to answer\"= NA,\n",
    "                                             \"Do not know\"=9))\n",
    "  }\n",
    "  return (list(df=df,new_column_names=new_names))\n",
    "}\n",
    "\n",
    "# columns needs to be recoded:\n",
    "column_name<-c(\"f.2257.0.0\",\"f.2257.1.0\",\"f.2257.2.0\",\"f.2257.3.0\")\n",
    "\n",
    "# get a new data.frame with recoded columns added:\n",
    "df.final.imp<-recode(df=df.final.imp,column_name)$df\n",
    "\n",
    "# get names of recoded columns:\n",
    "new_column_names<-recode(df=df.final.imp,column_name)$new_column_names\n",
    "\n",
    "# show recode summary:\n",
    "for (i in new_column_names)\n",
    "{cat(i,\"summary:\");print(table(df.final.imp[,i]));cat(\"\\n\")}"
   ]
  },
  {
   "cell_type": "code",
   "execution_count": 80,
   "metadata": {
    "kernel": "R"
   },
   "outputs": [
    {
     "data": {
      "text/html": [
       "<style>\n",
       ".list-inline {list-style: none; margin:0; padding: 0}\n",
       ".list-inline>li {display: inline-block}\n",
       ".list-inline>li:not(:last-child)::after {content: \"\\00b7\"; padding: 0 .5ex}\n",
       "</style>\n",
       "<ol class=list-inline><li>354347</li><li>1095</li></ol>\n"
      ],
      "text/latex": [
       "\\begin{enumerate*}\n",
       "\\item 354347\n",
       "\\item 1095\n",
       "\\end{enumerate*}\n"
      ],
      "text/markdown": [
       "1. 354347\n",
       "2. 1095\n",
       "\n",
       "\n"
      ],
      "text/plain": [
       "[1] 354347   1095"
      ]
     },
     "metadata": {},
     "output_type": "display_data"
    }
   ],
   "source": [
    "dim(df.final.imp)"
   ]
  },
  {
   "cell_type": "markdown",
   "metadata": {
    "kernel": "R"
   },
   "source": [
    "## f.2257 Get patterns for all possible answers"
   ]
  },
  {
   "cell_type": "code",
   "execution_count": 81,
   "metadata": {
    "kernel": "R"
   },
   "outputs": [
    {
     "data": {
      "text/html": [
       "<style>\n",
       ".list-inline {list-style: none; margin:0; padding: 0}\n",
       ".list-inline>li {display: inline-block}\n",
       ".list-inline>li:not(:last-child)::after {content: \"\\00b7\"; padding: 0 .5ex}\n",
       "</style>\n",
       "<ol class=list-inline><li>''</li><li>'0'</li><li>'00'</li><li>'000'</li><li>'0000'</li><li>'0001'</li><li>'0009'</li><li>'001'</li><li>'0010'</li><li>'0011'</li><li>'0019'</li><li>'009'</li><li>'0090'</li><li>'0091'</li><li>'01'</li><li>'010'</li><li>'0100'</li><li>'0101'</li><li>'011'</li><li>'0110'</li><li>'0111'</li><li>'019'</li><li>'09'</li><li>'090'</li><li>'0900'</li><li>'0901'</li><li>'091'</li><li>'0911'</li><li>'099'</li><li>'1'</li><li>'10'</li><li>'100'</li><li>'1000'</li><li>'1001'</li><li>'101'</li><li>'1010'</li><li>'1011'</li><li>'109'</li><li>'11'</li><li>'110'</li><li>'1100'</li><li>'1101'</li><li>'111'</li><li>'1110'</li><li>'1111'</li><li>'1119'</li><li>'119'</li><li>'19'</li><li>'190'</li><li>'1900'</li><li>'191'</li><li>'199'</li><li>'9'</li><li>'90'</li><li>'900'</li><li>'9000'</li><li>'9001'</li><li>'901'</li><li>'9011'</li><li>'909'</li><li>'91'</li><li>'910'</li><li>'911'</li><li>'9110'</li><li>'9111'</li><li>'919'</li><li>'9191'</li><li>'99'</li><li>'990'</li><li>'991'</li><li>'999'</li><li>'9991'</li><li>'9999'</li></ol>\n"
      ],
      "text/latex": [
       "\\begin{enumerate*}\n",
       "\\item ''\n",
       "\\item '0'\n",
       "\\item '00'\n",
       "\\item '000'\n",
       "\\item '0000'\n",
       "\\item '0001'\n",
       "\\item '0009'\n",
       "\\item '001'\n",
       "\\item '0010'\n",
       "\\item '0011'\n",
       "\\item '0019'\n",
       "\\item '009'\n",
       "\\item '0090'\n",
       "\\item '0091'\n",
       "\\item '01'\n",
       "\\item '010'\n",
       "\\item '0100'\n",
       "\\item '0101'\n",
       "\\item '011'\n",
       "\\item '0110'\n",
       "\\item '0111'\n",
       "\\item '019'\n",
       "\\item '09'\n",
       "\\item '090'\n",
       "\\item '0900'\n",
       "\\item '0901'\n",
       "\\item '091'\n",
       "\\item '0911'\n",
       "\\item '099'\n",
       "\\item '1'\n",
       "\\item '10'\n",
       "\\item '100'\n",
       "\\item '1000'\n",
       "\\item '1001'\n",
       "\\item '101'\n",
       "\\item '1010'\n",
       "\\item '1011'\n",
       "\\item '109'\n",
       "\\item '11'\n",
       "\\item '110'\n",
       "\\item '1100'\n",
       "\\item '1101'\n",
       "\\item '111'\n",
       "\\item '1110'\n",
       "\\item '1111'\n",
       "\\item '1119'\n",
       "\\item '119'\n",
       "\\item '19'\n",
       "\\item '190'\n",
       "\\item '1900'\n",
       "\\item '191'\n",
       "\\item '199'\n",
       "\\item '9'\n",
       "\\item '90'\n",
       "\\item '900'\n",
       "\\item '9000'\n",
       "\\item '9001'\n",
       "\\item '901'\n",
       "\\item '9011'\n",
       "\\item '909'\n",
       "\\item '91'\n",
       "\\item '910'\n",
       "\\item '911'\n",
       "\\item '9110'\n",
       "\\item '9111'\n",
       "\\item '919'\n",
       "\\item '9191'\n",
       "\\item '99'\n",
       "\\item '990'\n",
       "\\item '991'\n",
       "\\item '999'\n",
       "\\item '9991'\n",
       "\\item '9999'\n",
       "\\end{enumerate*}\n"
      ],
      "text/markdown": [
       "1. ''\n",
       "2. '0'\n",
       "3. '00'\n",
       "4. '000'\n",
       "5. '0000'\n",
       "6. '0001'\n",
       "7. '0009'\n",
       "8. '001'\n",
       "9. '0010'\n",
       "10. '0011'\n",
       "11. '0019'\n",
       "12. '009'\n",
       "13. '0090'\n",
       "14. '0091'\n",
       "15. '01'\n",
       "16. '010'\n",
       "17. '0100'\n",
       "18. '0101'\n",
       "19. '011'\n",
       "20. '0110'\n",
       "21. '0111'\n",
       "22. '019'\n",
       "23. '09'\n",
       "24. '090'\n",
       "25. '0900'\n",
       "26. '0901'\n",
       "27. '091'\n",
       "28. '0911'\n",
       "29. '099'\n",
       "30. '1'\n",
       "31. '10'\n",
       "32. '100'\n",
       "33. '1000'\n",
       "34. '1001'\n",
       "35. '101'\n",
       "36. '1010'\n",
       "37. '1011'\n",
       "38. '109'\n",
       "39. '11'\n",
       "40. '110'\n",
       "41. '1100'\n",
       "42. '1101'\n",
       "43. '111'\n",
       "44. '1110'\n",
       "45. '1111'\n",
       "46. '1119'\n",
       "47. '119'\n",
       "48. '19'\n",
       "49. '190'\n",
       "50. '1900'\n",
       "51. '191'\n",
       "52. '199'\n",
       "53. '9'\n",
       "54. '90'\n",
       "55. '900'\n",
       "56. '9000'\n",
       "57. '9001'\n",
       "58. '901'\n",
       "59. '9011'\n",
       "60. '909'\n",
       "61. '91'\n",
       "62. '910'\n",
       "63. '911'\n",
       "64. '9110'\n",
       "65. '9111'\n",
       "66. '919'\n",
       "67. '9191'\n",
       "68. '99'\n",
       "69. '990'\n",
       "70. '991'\n",
       "71. '999'\n",
       "72. '9991'\n",
       "73. '9999'\n",
       "\n",
       "\n"
      ],
      "text/plain": [
       " [1] \"\"     \"0\"    \"00\"   \"000\"  \"0000\" \"0001\" \"0009\" \"001\"  \"0010\" \"0011\"\n",
       "[11] \"0019\" \"009\"  \"0090\" \"0091\" \"01\"   \"010\"  \"0100\" \"0101\" \"011\"  \"0110\"\n",
       "[21] \"0111\" \"019\"  \"09\"   \"090\"  \"0900\" \"0901\" \"091\"  \"0911\" \"099\"  \"1\"   \n",
       "[31] \"10\"   \"100\"  \"1000\" \"1001\" \"101\"  \"1010\" \"1011\" \"109\"  \"11\"   \"110\" \n",
       "[41] \"1100\" \"1101\" \"111\"  \"1110\" \"1111\" \"1119\" \"119\"  \"19\"   \"190\"  \"1900\"\n",
       "[51] \"191\"  \"199\"  \"9\"    \"90\"   \"900\"  \"9000\" \"9001\" \"901\"  \"9011\" \"909\" \n",
       "[61] \"91\"   \"910\"  \"911\"  \"9110\" \"9111\" \"919\"  \"9191\" \"99\"   \"990\"  \"991\" \n",
       "[71] \"999\"  \"9991\" \"9999\""
      ]
     },
     "metadata": {},
     "output_type": "display_data"
    }
   ],
   "source": [
    "# Extract subset of data only with the recode columns of tinnitus\n",
    "data_sub <- df.final.imp %>%\n",
    "  select(\"IID\",all_of(new_column_names)) \n",
    "\n",
    "# Function to extract all the available answers for 4 visits\n",
    "# and put them in one string as \"0000\", \"111\", \"991\", etc\n",
    "\n",
    "f2<-function(x){\n",
    "  visit<-''\n",
    "  for (i in 2:5){ # do not take the first column (i.e. IID)\n",
    "    if (!is.na(x[i]))\n",
    "    {visit<-paste0(visit,x[i])}\n",
    "  }\n",
    "  if(is.null(visit)){visit=NA}\n",
    "  else{visit=visit}\n",
    "  return (visit)\n",
    "}\n",
    "\n",
    "# Apply the above function and remove NAs\n",
    "data_sub$visit<-apply(data_sub, 1, f2)\n",
    "\n",
    "names(table(data_sub$visit))"
   ]
  },
  {
   "cell_type": "code",
   "execution_count": 82,
   "metadata": {
    "kernel": "R"
   },
   "outputs": [
    {
     "data": {
      "text/plain": [
       "\n",
       "            0     00    000   0000   0001   0009    001   0010   0011   0019 \n",
       "   248 190353  16974   3225    181     24      2    533     10     24      1 \n",
       "   009   0090   0091     01    010   0100   0101    011   0110   0111    019 \n",
       "    67      5      2   5164    272      9      6    594      7     26     19 \n",
       "    09    090   0900   0901    091   0911    099      1     10    100   1000 \n",
       "   500     55      3      1     29      2      8 113147   2301    307      7 \n",
       "  1001    101   1010   1011    109     11    110   1100   1101    111   1110 \n",
       "     4    215      2      9     15  10906    176      9      6   2019      6 \n",
       "  1111   1119    119     19    190   1900    191    199      9     90    900 \n",
       "   101      1     26    210     10      2     24      5   5785    249     31 \n",
       "  9000   9001    901   9011    909     91    910    911   9110   9111    919 \n",
       "     2      1     12      1      7    249      7     29      1      2      6 \n",
       "  9191     99    990    991    999   9991   9999 \n",
       "     1     84      8      6     11      1      2 "
      ]
     },
     "metadata": {},
     "output_type": "display_data"
    }
   ],
   "source": [
    "table(data_sub$visit)\n",
    "all_pattern<-unique(data_sub$visit)"
   ]
  },
  {
   "cell_type": "markdown",
   "metadata": {
    "kernel": "R"
   },
   "source": [
    "## f.2257 Get all the consitent cases"
   ]
  },
  {
   "cell_type": "code",
   "execution_count": 83,
   "metadata": {
    "kernel": "R"
   },
   "outputs": [
    {
     "data": {
      "text/plain": [
       "\n",
       "     0     00    000   0000      1     11    111   1111      9     99    999 \n",
       "190353  16974   3225    181 113147  10906   2019    101   5785     84     11 \n",
       "  9999 \n",
       "     2 "
      ]
     },
     "metadata": {},
     "output_type": "display_data"
    }
   ],
   "source": [
    "all_no<-all_pattern[which(grepl(\"0\",all_pattern) & !grepl(\"9\",all_pattern) & !grepl(\"1\",all_pattern))]\n",
    "all_yes<-all_pattern[which(!grepl(\"0\",all_pattern) & !grepl(\"9\",all_pattern) & grepl(\"1\",all_pattern))]\n",
    "all_do_not_know<-all_pattern[which(!grepl(\"0\",all_pattern) & grepl(\"9\",all_pattern) & !grepl(\"1\",all_pattern))]\n",
    "table(data_sub[data_sub$visit%in%union(union(all_no,all_yes),all_do_not_know),\"visit\"])"
   ]
  },
  {
   "cell_type": "code",
   "execution_count": 84,
   "metadata": {
    "kernel": "R"
   },
   "outputs": [
    {
     "data": {
      "text/plain": [
       "\n",
       "0009  009 0090   09  090 0900  099   90  900 9000  909  990 \n",
       "   2   67    5  500   55    3    8  249   31    2    7    8 "
      ]
     },
     "metadata": {},
     "output_type": "display_data"
    }
   ],
   "source": [
    "consistent_1<-c(all_no,all_yes,all_do_not_know)\n",
    "\n",
    "# might be inconsistent cases:\n",
    "do_not_know_no<-all_pattern[which(grepl(\"0\",all_pattern) & grepl(\"9\",all_pattern) & !grepl(\"1\",all_pattern))]\n",
    "table(data_sub[data_sub$visit%in%do_not_know_no,\"visit\"])"
   ]
  },
  {
   "cell_type": "code",
   "execution_count": 85,
   "metadata": {
    "kernel": "R"
   },
   "outputs": [
    {
     "data": {
      "text/plain": [
       "\n",
       "1119  119   19  191  199   91  911 9111  919 9191  991 9991 \n",
       "   1   26  210   24    5  249   29    2    6    1    6    1 "
      ]
     },
     "metadata": {},
     "output_type": "display_data"
    }
   ],
   "source": [
    "do_not_know_yes<-all_pattern[which(!grepl(\"0\",all_pattern) & grepl(\"9\",all_pattern) & grepl(\"1\",all_pattern))]\n",
    "table(data_sub[data_sub$visit%in%do_not_know_yes,\"visit\"])"
   ]
  },
  {
   "cell_type": "code",
   "execution_count": 86,
   "metadata": {
    "kernel": "R"
   },
   "outputs": [
    {
     "data": {
      "text/plain": [
       "\n",
       "0001  001 0010 0011   01  010 0100 0101  011 0110 0111   10  100 1000 1001  101 \n",
       "  24  533   10   24 5164  272    9    6  594    7   26 2301  307    7    4  215 \n",
       "1010 1011  110 1100 1101 1110 \n",
       "   2    9  176    9    6    6 "
      ]
     },
     "metadata": {},
     "output_type": "display_data"
    }
   ],
   "source": [
    "yes_no<-all_pattern[which(grepl(\"0\",all_pattern) & !grepl(\"9\",all_pattern) & grepl(\"1\",all_pattern))]\n",
    "table(data_sub[data_sub$visit%in%yes_no,\"visit\"])"
   ]
  },
  {
   "cell_type": "code",
   "execution_count": 87,
   "metadata": {
    "kernel": "R"
   },
   "outputs": [
    {
     "data": {
      "text/plain": [
       "\n",
       "0019 0091  019 0901  091 0911  109  190 1900 9001  901 9011  910 9110 \n",
       "   1    2   19    1   29    2   15   10    2    1   12    1    7    1 "
      ]
     },
     "metadata": {},
     "output_type": "display_data"
    }
   ],
   "source": [
    "with_all_three<-all_pattern[which(grepl(\"0\",all_pattern) & grepl(\"9\",all_pattern) & grepl(\"1\",all_pattern))]\n",
    "table(data_sub[data_sub$visit%in%with_all_three,\"visit\"])"
   ]
  },
  {
   "cell_type": "code",
   "execution_count": 88,
   "metadata": {
    "kernel": "R"
   },
   "outputs": [],
   "source": [
    "might_inconsistent<-c(do_not_know_no,do_not_know_yes,yes_no,with_all_three)"
   ]
  },
  {
   "cell_type": "markdown",
   "metadata": {
    "kernel": "R"
   },
   "source": [
    "## f.2257 Remove all the inconsistent"
   ]
  },
  {
   "cell_type": "code",
   "execution_count": 89,
   "metadata": {
    "kernel": "R"
   },
   "outputs": [
    {
     "name": "stdout",
     "output_type": "stream",
     "text": [
      "There are 248 NAs, removed"
     ]
    }
   ],
   "source": [
    "# get all the inconsistent cases:\n",
    "exceptions<-c(\"91\",\"911\",\"9111\",\"991\",\"9991\",\"0001\",\"001\",\"0011\",\"01\",\"011\",\"0111\", \"0091\", \"091\",\"0911\",\"9001\",\"901\",\"9011\")\n",
    "inconsistent<-setdiff(might_inconsistent,exceptions)\n",
    "\n",
    "cat(\"There are\",length(which(is.empty(data_sub$visit))),\"NAs, removed\")"
   ]
  },
  {
   "cell_type": "code",
   "execution_count": 90,
   "metadata": {
    "kernel": "R"
   },
   "outputs": [
    {
     "name": "stdout",
     "output_type": "stream",
     "text": [
      "There are 4612 inconsistent cases, removed"
     ]
    }
   ],
   "source": [
    "cat(\"There are\",length(which(data_sub$visit%in%inconsistent)),\"inconsistent cases, removed\")"
   ]
  },
  {
   "cell_type": "code",
   "execution_count": 91,
   "metadata": {
    "kernel": "R"
   },
   "outputs": [
    {
     "data": {
      "text/html": [
       "<style>\n",
       ".list-inline {list-style: none; margin:0; padding: 0}\n",
       ".list-inline>li {display: inline-block}\n",
       ".list-inline>li:not(:last-child)::after {content: \"\\00b7\"; padding: 0 .5ex}\n",
       "</style>\n",
       "<ol class=list-inline><li>343605</li><li>1</li></ol>\n"
      ],
      "text/latex": [
       "\\begin{enumerate*}\n",
       "\\item 343605\n",
       "\\item 1\n",
       "\\end{enumerate*}\n"
      ],
      "text/markdown": [
       "1. 343605\n",
       "2. 1\n",
       "\n",
       "\n"
      ],
      "text/plain": [
       "[1] 343605      1"
      ]
     },
     "metadata": {},
     "output_type": "display_data"
    }
   ],
   "source": [
    "# removed those NAs, consistent for do not know - 9 and inconsistent cases: \n",
    "IID_hearing_noise<-data_sub %>%\n",
    "  filter(!is.empty(visit)) %>%\n",
    "  filter((!visit%in%inconsistent)) %>%\n",
    "  filter((!visit%in%all_do_not_know)) %>%\n",
    "  select(IID)\n",
    "\n",
    "dim(IID_hearing_noise)"
   ]
  },
  {
   "cell_type": "code",
   "execution_count": 92,
   "metadata": {
    "kernel": "R"
   },
   "outputs": [
    {
     "name": "stdout",
     "output_type": "stream",
     "text": [
      "After removing all the NAs and inconsistent cases, there are 343605 cases left"
     ]
    }
   ],
   "source": [
    "IID_hearing_noise<-IID_hearing_noise[,1]\n",
    "cat(\"After removing all the NAs and inconsistent cases, there are\",length(IID_hearing_noise),\"cases left\")"
   ]
  },
  {
   "cell_type": "code",
   "execution_count": 93,
   "metadata": {
    "kernel": "R"
   },
   "outputs": [
    {
     "data": {
      "text/html": [
       "<style>\n",
       ".list-inline {list-style: none; margin:0; padding: 0}\n",
       ".list-inline>li {display: inline-block}\n",
       ".list-inline>li:not(:last-child)::after {content: \"\\00b7\"; padding: 0 .5ex}\n",
       "</style>\n",
       "<ol class=list-inline><li>343605</li><li>1095</li></ol>\n"
      ],
      "text/latex": [
       "\\begin{enumerate*}\n",
       "\\item 343605\n",
       "\\item 1095\n",
       "\\end{enumerate*}\n"
      ],
      "text/markdown": [
       "1. 343605\n",
       "2. 1095\n",
       "\n",
       "\n"
      ],
      "text/plain": [
       "[1] 343605   1095"
      ]
     },
     "metadata": {},
     "output_type": "display_data"
    }
   ],
   "source": [
    "# get the dataset after cleansing: \n",
    "df.hearing.noise<-df.final.imp %>%\n",
    "  filter(IID%in%IID_hearing_noise)\n",
    "\n",
    "dim(df.hearing.noise)"
   ]
  },
  {
   "cell_type": "markdown",
   "metadata": {
    "kernel": "R"
   },
   "source": [
    "## f.2257 Step 1 classify cases and controls"
   ]
  },
  {
   "cell_type": "code",
   "execution_count": 94,
   "metadata": {
    "kernel": "R"
   },
   "outputs": [
    {
     "data": {
      "text/html": [
       "<table>\n",
       "<caption>A data.frame: 6 × 11</caption>\n",
       "<thead>\n",
       "\t<tr><th></th><th scope=col>IID</th><th scope=col>FID</th><th scope=col>f.22001.0.0</th><th scope=col>f.21003.0.0</th><th scope=col>f.21003.1.0</th><th scope=col>f.21003.2.0</th><th scope=col>f.21003.3.0</th><th scope=col>f.2257.0.0_recode</th><th scope=col>f.2257.1.0_recode</th><th scope=col>f.2257.2.0_recode</th><th scope=col>f.2257.3.0_recode</th></tr>\n",
       "\t<tr><th></th><th scope=col>&lt;int&gt;</th><th scope=col>&lt;int&gt;</th><th scope=col>&lt;fct&gt;</th><th scope=col>&lt;int&gt;</th><th scope=col>&lt;int&gt;</th><th scope=col>&lt;int&gt;</th><th scope=col>&lt;int&gt;</th><th scope=col>&lt;fct&gt;</th><th scope=col>&lt;fct&gt;</th><th scope=col>&lt;fct&gt;</th><th scope=col>&lt;fct&gt;</th></tr>\n",
       "</thead>\n",
       "<tbody>\n",
       "\t<tr><th scope=row>1</th><td>1000019</td><td>1000019</td><td>Female</td><td>47</td><td>NA</td><td>NA</td><td>NA</td><td>1</td><td>NA</td><td>NA</td><td>NA</td></tr>\n",
       "\t<tr><th scope=row>2</th><td>1000022</td><td>1000022</td><td>Male  </td><td>53</td><td>NA</td><td>NA</td><td>NA</td><td>1</td><td>NA</td><td>NA</td><td>NA</td></tr>\n",
       "\t<tr><th scope=row>3</th><td>1000035</td><td>1000035</td><td>Male  </td><td>63</td><td>NA</td><td>NA</td><td>NA</td><td>1</td><td>NA</td><td>NA</td><td>NA</td></tr>\n",
       "\t<tr><th scope=row>4</th><td>1000046</td><td>1000046</td><td>Female</td><td>62</td><td>NA</td><td>73</td><td>NA</td><td>0</td><td>NA</td><td>1 </td><td>NA</td></tr>\n",
       "\t<tr><th scope=row>5</th><td>1000054</td><td>1000054</td><td>Female</td><td>65</td><td>NA</td><td>NA</td><td>NA</td><td>1</td><td>NA</td><td>NA</td><td>NA</td></tr>\n",
       "\t<tr><th scope=row>6</th><td>1000063</td><td>1000063</td><td>Male  </td><td>43</td><td>NA</td><td>NA</td><td>NA</td><td>0</td><td>NA</td><td>NA</td><td>NA</td></tr>\n",
       "</tbody>\n",
       "</table>\n"
      ],
      "text/latex": [
       "A data.frame: 6 × 11\n",
       "\\begin{tabular}{r|lllllllllll}\n",
       "  & IID & FID & f.22001.0.0 & f.21003.0.0 & f.21003.1.0 & f.21003.2.0 & f.21003.3.0 & f.2257.0.0\\_recode & f.2257.1.0\\_recode & f.2257.2.0\\_recode & f.2257.3.0\\_recode\\\\\n",
       "  & <int> & <int> & <fct> & <int> & <int> & <int> & <int> & <fct> & <fct> & <fct> & <fct>\\\\\n",
       "\\hline\n",
       "\t1 & 1000019 & 1000019 & Female & 47 & NA & NA & NA & 1 & NA & NA & NA\\\\\n",
       "\t2 & 1000022 & 1000022 & Male   & 53 & NA & NA & NA & 1 & NA & NA & NA\\\\\n",
       "\t3 & 1000035 & 1000035 & Male   & 63 & NA & NA & NA & 1 & NA & NA & NA\\\\\n",
       "\t4 & 1000046 & 1000046 & Female & 62 & NA & 73 & NA & 0 & NA & 1  & NA\\\\\n",
       "\t5 & 1000054 & 1000054 & Female & 65 & NA & NA & NA & 1 & NA & NA & NA\\\\\n",
       "\t6 & 1000063 & 1000063 & Male   & 43 & NA & NA & NA & 0 & NA & NA & NA\\\\\n",
       "\\end{tabular}\n"
      ],
      "text/markdown": [
       "\n",
       "A data.frame: 6 × 11\n",
       "\n",
       "| <!--/--> | IID &lt;int&gt; | FID &lt;int&gt; | f.22001.0.0 &lt;fct&gt; | f.21003.0.0 &lt;int&gt; | f.21003.1.0 &lt;int&gt; | f.21003.2.0 &lt;int&gt; | f.21003.3.0 &lt;int&gt; | f.2257.0.0_recode &lt;fct&gt; | f.2257.1.0_recode &lt;fct&gt; | f.2257.2.0_recode &lt;fct&gt; | f.2257.3.0_recode &lt;fct&gt; |\n",
       "|---|---|---|---|---|---|---|---|---|---|---|---|\n",
       "| 1 | 1000019 | 1000019 | Female | 47 | NA | NA | NA | 1 | NA | NA | NA |\n",
       "| 2 | 1000022 | 1000022 | Male   | 53 | NA | NA | NA | 1 | NA | NA | NA |\n",
       "| 3 | 1000035 | 1000035 | Male   | 63 | NA | NA | NA | 1 | NA | NA | NA |\n",
       "| 4 | 1000046 | 1000046 | Female | 62 | NA | 73 | NA | 0 | NA | 1  | NA |\n",
       "| 5 | 1000054 | 1000054 | Female | 65 | NA | NA | NA | 1 | NA | NA | NA |\n",
       "| 6 | 1000063 | 1000063 | Male   | 43 | NA | NA | NA | 0 | NA | NA | NA |\n",
       "\n"
      ],
      "text/plain": [
       "  IID     FID     f.22001.0.0 f.21003.0.0 f.21003.1.0 f.21003.2.0 f.21003.3.0\n",
       "1 1000019 1000019 Female      47          NA          NA          NA         \n",
       "2 1000022 1000022 Male        53          NA          NA          NA         \n",
       "3 1000035 1000035 Male        63          NA          NA          NA         \n",
       "4 1000046 1000046 Female      62          NA          73          NA         \n",
       "5 1000054 1000054 Female      65          NA          NA          NA         \n",
       "6 1000063 1000063 Male        43          NA          NA          NA         \n",
       "  f.2257.0.0_recode f.2257.1.0_recode f.2257.2.0_recode f.2257.3.0_recode\n",
       "1 1                 NA                NA                NA               \n",
       "2 1                 NA                NA                NA               \n",
       "3 1                 NA                NA                NA               \n",
       "4 0                 NA                1                 NA               \n",
       "5 1                 NA                NA                NA               \n",
       "6 0                 NA                NA                NA               "
      ]
     },
     "metadata": {},
     "output_type": "display_data"
    }
   ],
   "source": [
    "hearing_noise <- df.hearing.noise %>% \n",
    "  select(IID,FID,f.22001.0.0, f.21003.0.0,f.21003.1.0,f.21003.2.0,f.21003.3.0,f.2257.0.0_recode,f.2257.1.0_recode,f.2257.2.0_recode,f.2257.3.0_recode)\n",
    "head(hearing_noise)"
   ]
  },
  {
   "cell_type": "code",
   "execution_count": 95,
   "metadata": {
    "kernel": "R"
   },
   "outputs": [
    {
     "data": {
      "text/html": [
       "<table>\n",
       "<caption>A data.frame: 10 × 12</caption>\n",
       "<thead>\n",
       "\t<tr><th></th><th scope=col>IID</th><th scope=col>FID</th><th scope=col>f.22001.0.0</th><th scope=col>f.21003.0.0</th><th scope=col>f.21003.1.0</th><th scope=col>f.21003.2.0</th><th scope=col>f.21003.3.0</th><th scope=col>f.2257.0.0_recode</th><th scope=col>f.2257.1.0_recode</th><th scope=col>f.2257.2.0_recode</th><th scope=col>f.2257.3.0_recode</th><th scope=col>cases</th></tr>\n",
       "\t<tr><th></th><th scope=col>&lt;int&gt;</th><th scope=col>&lt;int&gt;</th><th scope=col>&lt;fct&gt;</th><th scope=col>&lt;int&gt;</th><th scope=col>&lt;int&gt;</th><th scope=col>&lt;int&gt;</th><th scope=col>&lt;int&gt;</th><th scope=col>&lt;fct&gt;</th><th scope=col>&lt;fct&gt;</th><th scope=col>&lt;fct&gt;</th><th scope=col>&lt;fct&gt;</th><th scope=col>&lt;lgl&gt;</th></tr>\n",
       "</thead>\n",
       "<tbody>\n",
       "\t<tr><th scope=row>1</th><td>1000019</td><td>1000019</td><td>Female</td><td>47</td><td>NA</td><td>NA</td><td>NA</td><td>1</td><td>NA</td><td>NA</td><td>NA</td><td> TRUE</td></tr>\n",
       "\t<tr><th scope=row>2</th><td>1000022</td><td>1000022</td><td>Male  </td><td>53</td><td>NA</td><td>NA</td><td>NA</td><td>1</td><td>NA</td><td>NA</td><td>NA</td><td> TRUE</td></tr>\n",
       "\t<tr><th scope=row>3</th><td>1000035</td><td>1000035</td><td>Male  </td><td>63</td><td>NA</td><td>NA</td><td>NA</td><td>1</td><td>NA</td><td>NA</td><td>NA</td><td> TRUE</td></tr>\n",
       "\t<tr><th scope=row>4</th><td>1000046</td><td>1000046</td><td>Female</td><td>62</td><td>NA</td><td>73</td><td>NA</td><td>0</td><td>NA</td><td>1 </td><td>NA</td><td> TRUE</td></tr>\n",
       "\t<tr><th scope=row>5</th><td>1000054</td><td>1000054</td><td>Female</td><td>65</td><td>NA</td><td>NA</td><td>NA</td><td>1</td><td>NA</td><td>NA</td><td>NA</td><td> TRUE</td></tr>\n",
       "\t<tr><th scope=row>6</th><td>1000063</td><td>1000063</td><td>Male  </td><td>43</td><td>NA</td><td>NA</td><td>NA</td><td>0</td><td>NA</td><td>NA</td><td>NA</td><td>FALSE</td></tr>\n",
       "\t<tr><th scope=row>7</th><td>1000078</td><td>1000078</td><td>Female</td><td>52</td><td>57</td><td>60</td><td>NA</td><td>0</td><td>0 </td><td>0 </td><td>NA</td><td>FALSE</td></tr>\n",
       "\t<tr><th scope=row>8</th><td>1000105</td><td>1000105</td><td>Female</td><td>54</td><td>NA</td><td>NA</td><td>NA</td><td>1</td><td>NA</td><td>NA</td><td>NA</td><td> TRUE</td></tr>\n",
       "\t<tr><th scope=row>9</th><td>1000112</td><td>1000112</td><td>Male  </td><td>58</td><td>NA</td><td>68</td><td>NA</td><td>0</td><td>NA</td><td>1 </td><td>NA</td><td> TRUE</td></tr>\n",
       "\t<tr><th scope=row>10</th><td>1000129</td><td>1000129</td><td>Male  </td><td>62</td><td>NA</td><td>NA</td><td>NA</td><td>0</td><td>NA</td><td>NA</td><td>NA</td><td>FALSE</td></tr>\n",
       "</tbody>\n",
       "</table>\n"
      ],
      "text/latex": [
       "A data.frame: 10 × 12\n",
       "\\begin{tabular}{r|llllllllllll}\n",
       "  & IID & FID & f.22001.0.0 & f.21003.0.0 & f.21003.1.0 & f.21003.2.0 & f.21003.3.0 & f.2257.0.0\\_recode & f.2257.1.0\\_recode & f.2257.2.0\\_recode & f.2257.3.0\\_recode & cases\\\\\n",
       "  & <int> & <int> & <fct> & <int> & <int> & <int> & <int> & <fct> & <fct> & <fct> & <fct> & <lgl>\\\\\n",
       "\\hline\n",
       "\t1 & 1000019 & 1000019 & Female & 47 & NA & NA & NA & 1 & NA & NA & NA &  TRUE\\\\\n",
       "\t2 & 1000022 & 1000022 & Male   & 53 & NA & NA & NA & 1 & NA & NA & NA &  TRUE\\\\\n",
       "\t3 & 1000035 & 1000035 & Male   & 63 & NA & NA & NA & 1 & NA & NA & NA &  TRUE\\\\\n",
       "\t4 & 1000046 & 1000046 & Female & 62 & NA & 73 & NA & 0 & NA & 1  & NA &  TRUE\\\\\n",
       "\t5 & 1000054 & 1000054 & Female & 65 & NA & NA & NA & 1 & NA & NA & NA &  TRUE\\\\\n",
       "\t6 & 1000063 & 1000063 & Male   & 43 & NA & NA & NA & 0 & NA & NA & NA & FALSE\\\\\n",
       "\t7 & 1000078 & 1000078 & Female & 52 & 57 & 60 & NA & 0 & 0  & 0  & NA & FALSE\\\\\n",
       "\t8 & 1000105 & 1000105 & Female & 54 & NA & NA & NA & 1 & NA & NA & NA &  TRUE\\\\\n",
       "\t9 & 1000112 & 1000112 & Male   & 58 & NA & 68 & NA & 0 & NA & 1  & NA &  TRUE\\\\\n",
       "\t10 & 1000129 & 1000129 & Male   & 62 & NA & NA & NA & 0 & NA & NA & NA & FALSE\\\\\n",
       "\\end{tabular}\n"
      ],
      "text/markdown": [
       "\n",
       "A data.frame: 10 × 12\n",
       "\n",
       "| <!--/--> | IID &lt;int&gt; | FID &lt;int&gt; | f.22001.0.0 &lt;fct&gt; | f.21003.0.0 &lt;int&gt; | f.21003.1.0 &lt;int&gt; | f.21003.2.0 &lt;int&gt; | f.21003.3.0 &lt;int&gt; | f.2257.0.0_recode &lt;fct&gt; | f.2257.1.0_recode &lt;fct&gt; | f.2257.2.0_recode &lt;fct&gt; | f.2257.3.0_recode &lt;fct&gt; | cases &lt;lgl&gt; |\n",
       "|---|---|---|---|---|---|---|---|---|---|---|---|---|\n",
       "| 1 | 1000019 | 1000019 | Female | 47 | NA | NA | NA | 1 | NA | NA | NA |  TRUE |\n",
       "| 2 | 1000022 | 1000022 | Male   | 53 | NA | NA | NA | 1 | NA | NA | NA |  TRUE |\n",
       "| 3 | 1000035 | 1000035 | Male   | 63 | NA | NA | NA | 1 | NA | NA | NA |  TRUE |\n",
       "| 4 | 1000046 | 1000046 | Female | 62 | NA | 73 | NA | 0 | NA | 1  | NA |  TRUE |\n",
       "| 5 | 1000054 | 1000054 | Female | 65 | NA | NA | NA | 1 | NA | NA | NA |  TRUE |\n",
       "| 6 | 1000063 | 1000063 | Male   | 43 | NA | NA | NA | 0 | NA | NA | NA | FALSE |\n",
       "| 7 | 1000078 | 1000078 | Female | 52 | 57 | 60 | NA | 0 | 0  | 0  | NA | FALSE |\n",
       "| 8 | 1000105 | 1000105 | Female | 54 | NA | NA | NA | 1 | NA | NA | NA |  TRUE |\n",
       "| 9 | 1000112 | 1000112 | Male   | 58 | NA | 68 | NA | 0 | NA | 1  | NA |  TRUE |\n",
       "| 10 | 1000129 | 1000129 | Male   | 62 | NA | NA | NA | 0 | NA | NA | NA | FALSE |\n",
       "\n"
      ],
      "text/plain": [
       "   IID     FID     f.22001.0.0 f.21003.0.0 f.21003.1.0 f.21003.2.0 f.21003.3.0\n",
       "1  1000019 1000019 Female      47          NA          NA          NA         \n",
       "2  1000022 1000022 Male        53          NA          NA          NA         \n",
       "3  1000035 1000035 Male        63          NA          NA          NA         \n",
       "4  1000046 1000046 Female      62          NA          73          NA         \n",
       "5  1000054 1000054 Female      65          NA          NA          NA         \n",
       "6  1000063 1000063 Male        43          NA          NA          NA         \n",
       "7  1000078 1000078 Female      52          57          60          NA         \n",
       "8  1000105 1000105 Female      54          NA          NA          NA         \n",
       "9  1000112 1000112 Male        58          NA          68          NA         \n",
       "10 1000129 1000129 Male        62          NA          NA          NA         \n",
       "   f.2257.0.0_recode f.2257.1.0_recode f.2257.2.0_recode f.2257.3.0_recode\n",
       "1  1                 NA                NA                NA               \n",
       "2  1                 NA                NA                NA               \n",
       "3  1                 NA                NA                NA               \n",
       "4  0                 NA                1                 NA               \n",
       "5  1                 NA                NA                NA               \n",
       "6  0                 NA                NA                NA               \n",
       "7  0                 0                 0                 NA               \n",
       "8  1                 NA                NA                NA               \n",
       "9  0                 NA                1                 NA               \n",
       "10 0                 NA                NA                NA               \n",
       "   cases\n",
       "1   TRUE\n",
       "2   TRUE\n",
       "3   TRUE\n",
       "4   TRUE\n",
       "5   TRUE\n",
       "6  FALSE\n",
       "7  FALSE\n",
       "8   TRUE\n",
       "9   TRUE\n",
       "10 FALSE"
      ]
     },
     "metadata": {},
     "output_type": "display_data"
    }
   ],
   "source": [
    "data_sub <- select(hearing_noise,starts_with(\"f.2257\"))\n",
    "\n",
    "# Function to define cases\n",
    "f<-function(x){\n",
    "  visit<-c()\n",
    "  for (i in 1:4){\n",
    "    if (!is.na(x[i]))\n",
    "    {visit<-c(visit,x[i])}\n",
    "  }\n",
    "  if (\"1\" %in% visit){result= TRUE}\n",
    "  else{result=FALSE}\n",
    "  return (result)\n",
    "}\n",
    "\n",
    "# Apply the above function\n",
    "hearing_noise$cases<-apply(data_sub, 1, f)\n",
    "head(hearing_noise,10)"
   ]
  },
  {
   "cell_type": "code",
   "execution_count": 96,
   "metadata": {
    "kernel": "R"
   },
   "outputs": [
    {
     "data": {
      "text/html": [
       "<table>\n",
       "<caption>A data.frame: 6 × 12</caption>\n",
       "<thead>\n",
       "\t<tr><th></th><th scope=col>IID</th><th scope=col>FID</th><th scope=col>f.22001.0.0</th><th scope=col>f.21003.0.0</th><th scope=col>f.21003.1.0</th><th scope=col>f.21003.2.0</th><th scope=col>f.21003.3.0</th><th scope=col>f.2257.0.0_recode</th><th scope=col>f.2257.1.0_recode</th><th scope=col>f.2257.2.0_recode</th><th scope=col>f.2257.3.0_recode</th><th scope=col>cases</th></tr>\n",
       "\t<tr><th></th><th scope=col>&lt;int&gt;</th><th scope=col>&lt;int&gt;</th><th scope=col>&lt;fct&gt;</th><th scope=col>&lt;int&gt;</th><th scope=col>&lt;int&gt;</th><th scope=col>&lt;int&gt;</th><th scope=col>&lt;int&gt;</th><th scope=col>&lt;fct&gt;</th><th scope=col>&lt;fct&gt;</th><th scope=col>&lt;fct&gt;</th><th scope=col>&lt;fct&gt;</th><th scope=col>&lt;lgl&gt;</th></tr>\n",
       "</thead>\n",
       "<tbody>\n",
       "\t<tr><th scope=row>1</th><td>1000019</td><td>1000019</td><td>Female</td><td>47</td><td>NA</td><td>NA</td><td>NA</td><td>1</td><td>NA</td><td>NA</td><td>NA</td><td>TRUE</td></tr>\n",
       "\t<tr><th scope=row>2</th><td>1000022</td><td>1000022</td><td>Male  </td><td>53</td><td>NA</td><td>NA</td><td>NA</td><td>1</td><td>NA</td><td>NA</td><td>NA</td><td>TRUE</td></tr>\n",
       "\t<tr><th scope=row>3</th><td>1000035</td><td>1000035</td><td>Male  </td><td>63</td><td>NA</td><td>NA</td><td>NA</td><td>1</td><td>NA</td><td>NA</td><td>NA</td><td>TRUE</td></tr>\n",
       "\t<tr><th scope=row>4</th><td>1000046</td><td>1000046</td><td>Female</td><td>62</td><td>NA</td><td>73</td><td>NA</td><td>0</td><td>NA</td><td>1 </td><td>NA</td><td>TRUE</td></tr>\n",
       "\t<tr><th scope=row>5</th><td>1000054</td><td>1000054</td><td>Female</td><td>65</td><td>NA</td><td>NA</td><td>NA</td><td>1</td><td>NA</td><td>NA</td><td>NA</td><td>TRUE</td></tr>\n",
       "\t<tr><th scope=row>6</th><td>1000105</td><td>1000105</td><td>Female</td><td>54</td><td>NA</td><td>NA</td><td>NA</td><td>1</td><td>NA</td><td>NA</td><td>NA</td><td>TRUE</td></tr>\n",
       "</tbody>\n",
       "</table>\n"
      ],
      "text/latex": [
       "A data.frame: 6 × 12\n",
       "\\begin{tabular}{r|llllllllllll}\n",
       "  & IID & FID & f.22001.0.0 & f.21003.0.0 & f.21003.1.0 & f.21003.2.0 & f.21003.3.0 & f.2257.0.0\\_recode & f.2257.1.0\\_recode & f.2257.2.0\\_recode & f.2257.3.0\\_recode & cases\\\\\n",
       "  & <int> & <int> & <fct> & <int> & <int> & <int> & <int> & <fct> & <fct> & <fct> & <fct> & <lgl>\\\\\n",
       "\\hline\n",
       "\t1 & 1000019 & 1000019 & Female & 47 & NA & NA & NA & 1 & NA & NA & NA & TRUE\\\\\n",
       "\t2 & 1000022 & 1000022 & Male   & 53 & NA & NA & NA & 1 & NA & NA & NA & TRUE\\\\\n",
       "\t3 & 1000035 & 1000035 & Male   & 63 & NA & NA & NA & 1 & NA & NA & NA & TRUE\\\\\n",
       "\t4 & 1000046 & 1000046 & Female & 62 & NA & 73 & NA & 0 & NA & 1  & NA & TRUE\\\\\n",
       "\t5 & 1000054 & 1000054 & Female & 65 & NA & NA & NA & 1 & NA & NA & NA & TRUE\\\\\n",
       "\t6 & 1000105 & 1000105 & Female & 54 & NA & NA & NA & 1 & NA & NA & NA & TRUE\\\\\n",
       "\\end{tabular}\n"
      ],
      "text/markdown": [
       "\n",
       "A data.frame: 6 × 12\n",
       "\n",
       "| <!--/--> | IID &lt;int&gt; | FID &lt;int&gt; | f.22001.0.0 &lt;fct&gt; | f.21003.0.0 &lt;int&gt; | f.21003.1.0 &lt;int&gt; | f.21003.2.0 &lt;int&gt; | f.21003.3.0 &lt;int&gt; | f.2257.0.0_recode &lt;fct&gt; | f.2257.1.0_recode &lt;fct&gt; | f.2257.2.0_recode &lt;fct&gt; | f.2257.3.0_recode &lt;fct&gt; | cases &lt;lgl&gt; |\n",
       "|---|---|---|---|---|---|---|---|---|---|---|---|---|\n",
       "| 1 | 1000019 | 1000019 | Female | 47 | NA | NA | NA | 1 | NA | NA | NA | TRUE |\n",
       "| 2 | 1000022 | 1000022 | Male   | 53 | NA | NA | NA | 1 | NA | NA | NA | TRUE |\n",
       "| 3 | 1000035 | 1000035 | Male   | 63 | NA | NA | NA | 1 | NA | NA | NA | TRUE |\n",
       "| 4 | 1000046 | 1000046 | Female | 62 | NA | 73 | NA | 0 | NA | 1  | NA | TRUE |\n",
       "| 5 | 1000054 | 1000054 | Female | 65 | NA | NA | NA | 1 | NA | NA | NA | TRUE |\n",
       "| 6 | 1000105 | 1000105 | Female | 54 | NA | NA | NA | 1 | NA | NA | NA | TRUE |\n",
       "\n"
      ],
      "text/plain": [
       "  IID     FID     f.22001.0.0 f.21003.0.0 f.21003.1.0 f.21003.2.0 f.21003.3.0\n",
       "1 1000019 1000019 Female      47          NA          NA          NA         \n",
       "2 1000022 1000022 Male        53          NA          NA          NA         \n",
       "3 1000035 1000035 Male        63          NA          NA          NA         \n",
       "4 1000046 1000046 Female      62          NA          73          NA         \n",
       "5 1000054 1000054 Female      65          NA          NA          NA         \n",
       "6 1000105 1000105 Female      54          NA          NA          NA         \n",
       "  f.2257.0.0_recode f.2257.1.0_recode f.2257.2.0_recode f.2257.3.0_recode cases\n",
       "1 1                 NA                NA                NA                TRUE \n",
       "2 1                 NA                NA                NA                TRUE \n",
       "3 1                 NA                NA                NA                TRUE \n",
       "4 0                 NA                1                 NA                TRUE \n",
       "5 1                 NA                NA                NA                TRUE \n",
       "6 1                 NA                NA                NA                TRUE "
      ]
     },
     "metadata": {},
     "output_type": "display_data"
    },
    {
     "name": "stdout",
     "output_type": "stream",
     "text": [
      "132872 individuals are cases for f.2257"
     ]
    }
   ],
   "source": [
    "hearing_noise_cases <- hearing_noise %>% \n",
    "  filter(cases == TRUE)\n",
    "head(hearing_noise_cases)\n",
    "cat(dim(hearing_noise_cases)[1], \"individuals are cases for f.2257\")"
   ]
  },
  {
   "cell_type": "code",
   "execution_count": 97,
   "metadata": {
    "kernel": "R"
   },
   "outputs": [
    {
     "data": {
      "text/html": [
       "<table>\n",
       "<caption>A data.frame: 6 × 12</caption>\n",
       "<thead>\n",
       "\t<tr><th></th><th scope=col>IID</th><th scope=col>FID</th><th scope=col>f.22001.0.0</th><th scope=col>f.21003.0.0</th><th scope=col>f.21003.1.0</th><th scope=col>f.21003.2.0</th><th scope=col>f.21003.3.0</th><th scope=col>f.2257.0.0_recode</th><th scope=col>f.2257.1.0_recode</th><th scope=col>f.2257.2.0_recode</th><th scope=col>f.2257.3.0_recode</th><th scope=col>cases</th></tr>\n",
       "\t<tr><th></th><th scope=col>&lt;int&gt;</th><th scope=col>&lt;int&gt;</th><th scope=col>&lt;fct&gt;</th><th scope=col>&lt;int&gt;</th><th scope=col>&lt;int&gt;</th><th scope=col>&lt;int&gt;</th><th scope=col>&lt;int&gt;</th><th scope=col>&lt;fct&gt;</th><th scope=col>&lt;fct&gt;</th><th scope=col>&lt;fct&gt;</th><th scope=col>&lt;fct&gt;</th><th scope=col>&lt;lgl&gt;</th></tr>\n",
       "</thead>\n",
       "<tbody>\n",
       "\t<tr><th scope=row>1</th><td>1000063</td><td>1000063</td><td>Male  </td><td>43</td><td>NA</td><td>NA</td><td>NA</td><td>0</td><td>NA</td><td>NA</td><td>NA</td><td>FALSE</td></tr>\n",
       "\t<tr><th scope=row>2</th><td>1000078</td><td>1000078</td><td>Female</td><td>52</td><td>57</td><td>60</td><td>NA</td><td>0</td><td>0 </td><td>0 </td><td>NA</td><td>FALSE</td></tr>\n",
       "\t<tr><th scope=row>3</th><td>1000129</td><td>1000129</td><td>Male  </td><td>62</td><td>NA</td><td>NA</td><td>NA</td><td>0</td><td>NA</td><td>NA</td><td>NA</td><td>FALSE</td></tr>\n",
       "\t<tr><th scope=row>4</th><td>1000137</td><td>1000137</td><td>Female</td><td>46</td><td>NA</td><td>NA</td><td>NA</td><td>0</td><td>NA</td><td>NA</td><td>NA</td><td>FALSE</td></tr>\n",
       "\t<tr><th scope=row>5</th><td>1000141</td><td>1000141</td><td>Female</td><td>49</td><td>NA</td><td>NA</td><td>NA</td><td>0</td><td>NA</td><td>NA</td><td>NA</td><td>FALSE</td></tr>\n",
       "\t<tr><th scope=row>6</th><td>1000186</td><td>1000186</td><td>Male  </td><td>53</td><td>NA</td><td>NA</td><td>NA</td><td>0</td><td>NA</td><td>NA</td><td>NA</td><td>FALSE</td></tr>\n",
       "</tbody>\n",
       "</table>\n"
      ],
      "text/latex": [
       "A data.frame: 6 × 12\n",
       "\\begin{tabular}{r|llllllllllll}\n",
       "  & IID & FID & f.22001.0.0 & f.21003.0.0 & f.21003.1.0 & f.21003.2.0 & f.21003.3.0 & f.2257.0.0\\_recode & f.2257.1.0\\_recode & f.2257.2.0\\_recode & f.2257.3.0\\_recode & cases\\\\\n",
       "  & <int> & <int> & <fct> & <int> & <int> & <int> & <int> & <fct> & <fct> & <fct> & <fct> & <lgl>\\\\\n",
       "\\hline\n",
       "\t1 & 1000063 & 1000063 & Male   & 43 & NA & NA & NA & 0 & NA & NA & NA & FALSE\\\\\n",
       "\t2 & 1000078 & 1000078 & Female & 52 & 57 & 60 & NA & 0 & 0  & 0  & NA & FALSE\\\\\n",
       "\t3 & 1000129 & 1000129 & Male   & 62 & NA & NA & NA & 0 & NA & NA & NA & FALSE\\\\\n",
       "\t4 & 1000137 & 1000137 & Female & 46 & NA & NA & NA & 0 & NA & NA & NA & FALSE\\\\\n",
       "\t5 & 1000141 & 1000141 & Female & 49 & NA & NA & NA & 0 & NA & NA & NA & FALSE\\\\\n",
       "\t6 & 1000186 & 1000186 & Male   & 53 & NA & NA & NA & 0 & NA & NA & NA & FALSE\\\\\n",
       "\\end{tabular}\n"
      ],
      "text/markdown": [
       "\n",
       "A data.frame: 6 × 12\n",
       "\n",
       "| <!--/--> | IID &lt;int&gt; | FID &lt;int&gt; | f.22001.0.0 &lt;fct&gt; | f.21003.0.0 &lt;int&gt; | f.21003.1.0 &lt;int&gt; | f.21003.2.0 &lt;int&gt; | f.21003.3.0 &lt;int&gt; | f.2257.0.0_recode &lt;fct&gt; | f.2257.1.0_recode &lt;fct&gt; | f.2257.2.0_recode &lt;fct&gt; | f.2257.3.0_recode &lt;fct&gt; | cases &lt;lgl&gt; |\n",
       "|---|---|---|---|---|---|---|---|---|---|---|---|---|\n",
       "| 1 | 1000063 | 1000063 | Male   | 43 | NA | NA | NA | 0 | NA | NA | NA | FALSE |\n",
       "| 2 | 1000078 | 1000078 | Female | 52 | 57 | 60 | NA | 0 | 0  | 0  | NA | FALSE |\n",
       "| 3 | 1000129 | 1000129 | Male   | 62 | NA | NA | NA | 0 | NA | NA | NA | FALSE |\n",
       "| 4 | 1000137 | 1000137 | Female | 46 | NA | NA | NA | 0 | NA | NA | NA | FALSE |\n",
       "| 5 | 1000141 | 1000141 | Female | 49 | NA | NA | NA | 0 | NA | NA | NA | FALSE |\n",
       "| 6 | 1000186 | 1000186 | Male   | 53 | NA | NA | NA | 0 | NA | NA | NA | FALSE |\n",
       "\n"
      ],
      "text/plain": [
       "  IID     FID     f.22001.0.0 f.21003.0.0 f.21003.1.0 f.21003.2.0 f.21003.3.0\n",
       "1 1000063 1000063 Male        43          NA          NA          NA         \n",
       "2 1000078 1000078 Female      52          57          60          NA         \n",
       "3 1000129 1000129 Male        62          NA          NA          NA         \n",
       "4 1000137 1000137 Female      46          NA          NA          NA         \n",
       "5 1000141 1000141 Female      49          NA          NA          NA         \n",
       "6 1000186 1000186 Male        53          NA          NA          NA         \n",
       "  f.2257.0.0_recode f.2257.1.0_recode f.2257.2.0_recode f.2257.3.0_recode cases\n",
       "1 0                 NA                NA                NA                FALSE\n",
       "2 0                 0                 0                 NA                FALSE\n",
       "3 0                 NA                NA                NA                FALSE\n",
       "4 0                 NA                NA                NA                FALSE\n",
       "5 0                 NA                NA                NA                FALSE\n",
       "6 0                 NA                NA                NA                FALSE"
      ]
     },
     "metadata": {},
     "output_type": "display_data"
    },
    {
     "name": "stdout",
     "output_type": "stream",
     "text": [
      "210733 individuals are controls for f.2257"
     ]
    }
   ],
   "source": [
    "hearing_noise_controls <- hearing_noise %>% \n",
    "  filter(cases == FALSE)\n",
    "head(hearing_noise_controls)\n",
    "cat(dim(hearing_noise_controls)[1], \"individuals are controls for f.2257\")"
   ]
  },
  {
   "cell_type": "code",
   "execution_count": 98,
   "metadata": {
    "kernel": "R"
   },
   "outputs": [
    {
     "data": {
      "text/html": [
       "0"
      ],
      "text/latex": [
       "0"
      ],
      "text/markdown": [
       "0"
      ],
      "text/plain": [
       "[1] 0"
      ]
     },
     "metadata": {},
     "output_type": "display_data"
    }
   ],
   "source": [
    "dim(hearing_noise)[1]-210733 - 132872"
   ]
  },
  {
   "cell_type": "markdown",
   "metadata": {
    "kernel": "R"
   },
   "source": [
    "## f.2257 Recode cases=1 and controls=0"
   ]
  },
  {
   "cell_type": "code",
   "execution_count": 99,
   "metadata": {
    "kernel": "R"
   },
   "outputs": [
    {
     "data": {
      "text/html": [
       "<table>\n",
       "<caption>A data.frame: 10 × 13</caption>\n",
       "<thead>\n",
       "\t<tr><th></th><th scope=col>IID</th><th scope=col>FID</th><th scope=col>f.22001.0.0</th><th scope=col>f.21003.0.0</th><th scope=col>f.21003.1.0</th><th scope=col>f.21003.2.0</th><th scope=col>f.21003.3.0</th><th scope=col>f.2257.0.0_recode</th><th scope=col>f.2257.1.0_recode</th><th scope=col>f.2257.2.0_recode</th><th scope=col>f.2257.3.0_recode</th><th scope=col>cases</th><th scope=col>hearing_noise_cat</th></tr>\n",
       "\t<tr><th></th><th scope=col>&lt;int&gt;</th><th scope=col>&lt;int&gt;</th><th scope=col>&lt;fct&gt;</th><th scope=col>&lt;int&gt;</th><th scope=col>&lt;int&gt;</th><th scope=col>&lt;int&gt;</th><th scope=col>&lt;int&gt;</th><th scope=col>&lt;fct&gt;</th><th scope=col>&lt;fct&gt;</th><th scope=col>&lt;fct&gt;</th><th scope=col>&lt;fct&gt;</th><th scope=col>&lt;lgl&gt;</th><th scope=col>&lt;int&gt;</th></tr>\n",
       "</thead>\n",
       "<tbody>\n",
       "\t<tr><th scope=row>1</th><td>1000019</td><td>1000019</td><td>Female</td><td>47</td><td>NA</td><td>NA</td><td>NA</td><td>1</td><td>NA</td><td>NA</td><td>NA</td><td> TRUE</td><td>1</td></tr>\n",
       "\t<tr><th scope=row>2</th><td>1000022</td><td>1000022</td><td>Male  </td><td>53</td><td>NA</td><td>NA</td><td>NA</td><td>1</td><td>NA</td><td>NA</td><td>NA</td><td> TRUE</td><td>1</td></tr>\n",
       "\t<tr><th scope=row>3</th><td>1000035</td><td>1000035</td><td>Male  </td><td>63</td><td>NA</td><td>NA</td><td>NA</td><td>1</td><td>NA</td><td>NA</td><td>NA</td><td> TRUE</td><td>1</td></tr>\n",
       "\t<tr><th scope=row>4</th><td>1000046</td><td>1000046</td><td>Female</td><td>62</td><td>NA</td><td>73</td><td>NA</td><td>0</td><td>NA</td><td>1 </td><td>NA</td><td> TRUE</td><td>1</td></tr>\n",
       "\t<tr><th scope=row>5</th><td>1000054</td><td>1000054</td><td>Female</td><td>65</td><td>NA</td><td>NA</td><td>NA</td><td>1</td><td>NA</td><td>NA</td><td>NA</td><td> TRUE</td><td>1</td></tr>\n",
       "\t<tr><th scope=row>6</th><td>1000063</td><td>1000063</td><td>Male  </td><td>43</td><td>NA</td><td>NA</td><td>NA</td><td>0</td><td>NA</td><td>NA</td><td>NA</td><td>FALSE</td><td>0</td></tr>\n",
       "\t<tr><th scope=row>7</th><td>1000078</td><td>1000078</td><td>Female</td><td>52</td><td>57</td><td>60</td><td>NA</td><td>0</td><td>0 </td><td>0 </td><td>NA</td><td>FALSE</td><td>0</td></tr>\n",
       "\t<tr><th scope=row>8</th><td>1000105</td><td>1000105</td><td>Female</td><td>54</td><td>NA</td><td>NA</td><td>NA</td><td>1</td><td>NA</td><td>NA</td><td>NA</td><td> TRUE</td><td>1</td></tr>\n",
       "\t<tr><th scope=row>9</th><td>1000112</td><td>1000112</td><td>Male  </td><td>58</td><td>NA</td><td>68</td><td>NA</td><td>0</td><td>NA</td><td>1 </td><td>NA</td><td> TRUE</td><td>1</td></tr>\n",
       "\t<tr><th scope=row>10</th><td>1000129</td><td>1000129</td><td>Male  </td><td>62</td><td>NA</td><td>NA</td><td>NA</td><td>0</td><td>NA</td><td>NA</td><td>NA</td><td>FALSE</td><td>0</td></tr>\n",
       "</tbody>\n",
       "</table>\n"
      ],
      "text/latex": [
       "A data.frame: 10 × 13\n",
       "\\begin{tabular}{r|lllllllllllll}\n",
       "  & IID & FID & f.22001.0.0 & f.21003.0.0 & f.21003.1.0 & f.21003.2.0 & f.21003.3.0 & f.2257.0.0\\_recode & f.2257.1.0\\_recode & f.2257.2.0\\_recode & f.2257.3.0\\_recode & cases & hearing\\_noise\\_cat\\\\\n",
       "  & <int> & <int> & <fct> & <int> & <int> & <int> & <int> & <fct> & <fct> & <fct> & <fct> & <lgl> & <int>\\\\\n",
       "\\hline\n",
       "\t1 & 1000019 & 1000019 & Female & 47 & NA & NA & NA & 1 & NA & NA & NA &  TRUE & 1\\\\\n",
       "\t2 & 1000022 & 1000022 & Male   & 53 & NA & NA & NA & 1 & NA & NA & NA &  TRUE & 1\\\\\n",
       "\t3 & 1000035 & 1000035 & Male   & 63 & NA & NA & NA & 1 & NA & NA & NA &  TRUE & 1\\\\\n",
       "\t4 & 1000046 & 1000046 & Female & 62 & NA & 73 & NA & 0 & NA & 1  & NA &  TRUE & 1\\\\\n",
       "\t5 & 1000054 & 1000054 & Female & 65 & NA & NA & NA & 1 & NA & NA & NA &  TRUE & 1\\\\\n",
       "\t6 & 1000063 & 1000063 & Male   & 43 & NA & NA & NA & 0 & NA & NA & NA & FALSE & 0\\\\\n",
       "\t7 & 1000078 & 1000078 & Female & 52 & 57 & 60 & NA & 0 & 0  & 0  & NA & FALSE & 0\\\\\n",
       "\t8 & 1000105 & 1000105 & Female & 54 & NA & NA & NA & 1 & NA & NA & NA &  TRUE & 1\\\\\n",
       "\t9 & 1000112 & 1000112 & Male   & 58 & NA & 68 & NA & 0 & NA & 1  & NA &  TRUE & 1\\\\\n",
       "\t10 & 1000129 & 1000129 & Male   & 62 & NA & NA & NA & 0 & NA & NA & NA & FALSE & 0\\\\\n",
       "\\end{tabular}\n"
      ],
      "text/markdown": [
       "\n",
       "A data.frame: 10 × 13\n",
       "\n",
       "| <!--/--> | IID &lt;int&gt; | FID &lt;int&gt; | f.22001.0.0 &lt;fct&gt; | f.21003.0.0 &lt;int&gt; | f.21003.1.0 &lt;int&gt; | f.21003.2.0 &lt;int&gt; | f.21003.3.0 &lt;int&gt; | f.2257.0.0_recode &lt;fct&gt; | f.2257.1.0_recode &lt;fct&gt; | f.2257.2.0_recode &lt;fct&gt; | f.2257.3.0_recode &lt;fct&gt; | cases &lt;lgl&gt; | hearing_noise_cat &lt;int&gt; |\n",
       "|---|---|---|---|---|---|---|---|---|---|---|---|---|---|\n",
       "| 1 | 1000019 | 1000019 | Female | 47 | NA | NA | NA | 1 | NA | NA | NA |  TRUE | 1 |\n",
       "| 2 | 1000022 | 1000022 | Male   | 53 | NA | NA | NA | 1 | NA | NA | NA |  TRUE | 1 |\n",
       "| 3 | 1000035 | 1000035 | Male   | 63 | NA | NA | NA | 1 | NA | NA | NA |  TRUE | 1 |\n",
       "| 4 | 1000046 | 1000046 | Female | 62 | NA | 73 | NA | 0 | NA | 1  | NA |  TRUE | 1 |\n",
       "| 5 | 1000054 | 1000054 | Female | 65 | NA | NA | NA | 1 | NA | NA | NA |  TRUE | 1 |\n",
       "| 6 | 1000063 | 1000063 | Male   | 43 | NA | NA | NA | 0 | NA | NA | NA | FALSE | 0 |\n",
       "| 7 | 1000078 | 1000078 | Female | 52 | 57 | 60 | NA | 0 | 0  | 0  | NA | FALSE | 0 |\n",
       "| 8 | 1000105 | 1000105 | Female | 54 | NA | NA | NA | 1 | NA | NA | NA |  TRUE | 1 |\n",
       "| 9 | 1000112 | 1000112 | Male   | 58 | NA | 68 | NA | 0 | NA | 1  | NA |  TRUE | 1 |\n",
       "| 10 | 1000129 | 1000129 | Male   | 62 | NA | NA | NA | 0 | NA | NA | NA | FALSE | 0 |\n",
       "\n"
      ],
      "text/plain": [
       "   IID     FID     f.22001.0.0 f.21003.0.0 f.21003.1.0 f.21003.2.0 f.21003.3.0\n",
       "1  1000019 1000019 Female      47          NA          NA          NA         \n",
       "2  1000022 1000022 Male        53          NA          NA          NA         \n",
       "3  1000035 1000035 Male        63          NA          NA          NA         \n",
       "4  1000046 1000046 Female      62          NA          73          NA         \n",
       "5  1000054 1000054 Female      65          NA          NA          NA         \n",
       "6  1000063 1000063 Male        43          NA          NA          NA         \n",
       "7  1000078 1000078 Female      52          57          60          NA         \n",
       "8  1000105 1000105 Female      54          NA          NA          NA         \n",
       "9  1000112 1000112 Male        58          NA          68          NA         \n",
       "10 1000129 1000129 Male        62          NA          NA          NA         \n",
       "   f.2257.0.0_recode f.2257.1.0_recode f.2257.2.0_recode f.2257.3.0_recode\n",
       "1  1                 NA                NA                NA               \n",
       "2  1                 NA                NA                NA               \n",
       "3  1                 NA                NA                NA               \n",
       "4  0                 NA                1                 NA               \n",
       "5  1                 NA                NA                NA               \n",
       "6  0                 NA                NA                NA               \n",
       "7  0                 0                 0                 NA               \n",
       "8  1                 NA                NA                NA               \n",
       "9  0                 NA                1                 NA               \n",
       "10 0                 NA                NA                NA               \n",
       "   cases hearing_noise_cat\n",
       "1   TRUE 1                \n",
       "2   TRUE 1                \n",
       "3   TRUE 1                \n",
       "4   TRUE 1                \n",
       "5   TRUE 1                \n",
       "6  FALSE 0                \n",
       "7  FALSE 0                \n",
       "8   TRUE 1                \n",
       "9   TRUE 1                \n",
       "10 FALSE 0                "
      ]
     },
     "metadata": {},
     "output_type": "display_data"
    },
    {
     "data": {
      "text/html": [
       "0"
      ],
      "text/latex": [
       "0"
      ],
      "text/markdown": [
       "0"
      ],
      "text/plain": [
       "[1] 0"
      ]
     },
     "metadata": {},
     "output_type": "display_data"
    }
   ],
   "source": [
    "hearing_noise$hearing_noise_cat <- as.integer(as.logical(hearing_noise$cases))\n",
    "head(hearing_noise, 10)\n",
    "# Get the number of NAs\n",
    "length(which(is.na(hearing_noise$hearing_noise_cat)))"
   ]
  },
  {
   "cell_type": "markdown",
   "metadata": {
    "kernel": "R"
   },
   "source": [
    "## f.2257 Step 2: get the ages for hearing difficulty with background noise"
   ]
  },
  {
   "cell_type": "code",
   "execution_count": 100,
   "metadata": {
    "kernel": "R"
   },
   "outputs": [
    {
     "data": {
      "text/html": [
       "<table>\n",
       "<caption>A data.frame: 12 × 9</caption>\n",
       "<thead>\n",
       "\t<tr><th></th><th scope=col>IID</th><th scope=col>f.2257.0.0_recode</th><th scope=col>f.2257.1.0_recode</th><th scope=col>f.2257.2.0_recode</th><th scope=col>f.2257.3.0_recode</th><th scope=col>f.21003.0.0</th><th scope=col>f.21003.1.0</th><th scope=col>f.21003.2.0</th><th scope=col>f.21003.3.0</th></tr>\n",
       "\t<tr><th></th><th scope=col>&lt;int&gt;</th><th scope=col>&lt;fct&gt;</th><th scope=col>&lt;fct&gt;</th><th scope=col>&lt;fct&gt;</th><th scope=col>&lt;fct&gt;</th><th scope=col>&lt;int&gt;</th><th scope=col>&lt;int&gt;</th><th scope=col>&lt;int&gt;</th><th scope=col>&lt;int&gt;</th></tr>\n",
       "</thead>\n",
       "<tbody>\n",
       "\t<tr><th scope=row>1</th><td>1000019</td><td>1</td><td>NA</td><td>NA</td><td>NA</td><td>47</td><td>NA</td><td>NA</td><td>NA</td></tr>\n",
       "\t<tr><th scope=row>2</th><td>1000022</td><td>1</td><td>NA</td><td>NA</td><td>NA</td><td>53</td><td>NA</td><td>NA</td><td>NA</td></tr>\n",
       "\t<tr><th scope=row>3</th><td>1000035</td><td>1</td><td>NA</td><td>NA</td><td>NA</td><td>63</td><td>NA</td><td>NA</td><td>NA</td></tr>\n",
       "\t<tr><th scope=row>4</th><td>1000046</td><td>0</td><td>NA</td><td>1 </td><td>NA</td><td>62</td><td>NA</td><td>73</td><td>NA</td></tr>\n",
       "\t<tr><th scope=row>5</th><td>1000054</td><td>1</td><td>NA</td><td>NA</td><td>NA</td><td>65</td><td>NA</td><td>NA</td><td>NA</td></tr>\n",
       "\t<tr><th scope=row>6</th><td>1000105</td><td>1</td><td>NA</td><td>NA</td><td>NA</td><td>54</td><td>NA</td><td>NA</td><td>NA</td></tr>\n",
       "\t<tr><th scope=row>7</th><td>1000112</td><td>0</td><td>NA</td><td>1 </td><td>NA</td><td>58</td><td>NA</td><td>68</td><td>NA</td></tr>\n",
       "\t<tr><th scope=row>8</th><td>1000164</td><td>1</td><td>NA</td><td>NA</td><td>NA</td><td>51</td><td>NA</td><td>NA</td><td>NA</td></tr>\n",
       "\t<tr><th scope=row>9</th><td>1000170</td><td>1</td><td>NA</td><td>NA</td><td>NA</td><td>51</td><td>NA</td><td>NA</td><td>NA</td></tr>\n",
       "\t<tr><th scope=row>10</th><td>1000198</td><td>1</td><td>NA</td><td>NA</td><td>NA</td><td>41</td><td>NA</td><td>NA</td><td>NA</td></tr>\n",
       "\t<tr><th scope=row>11</th><td>1000203</td><td>1</td><td>NA</td><td>NA</td><td>NA</td><td>49</td><td>NA</td><td>NA</td><td>NA</td></tr>\n",
       "\t<tr><th scope=row>12</th><td>1000318</td><td>1</td><td>NA</td><td>NA</td><td>NA</td><td>52</td><td>NA</td><td>NA</td><td>NA</td></tr>\n",
       "</tbody>\n",
       "</table>\n"
      ],
      "text/latex": [
       "A data.frame: 12 × 9\n",
       "\\begin{tabular}{r|lllllllll}\n",
       "  & IID & f.2257.0.0\\_recode & f.2257.1.0\\_recode & f.2257.2.0\\_recode & f.2257.3.0\\_recode & f.21003.0.0 & f.21003.1.0 & f.21003.2.0 & f.21003.3.0\\\\\n",
       "  & <int> & <fct> & <fct> & <fct> & <fct> & <int> & <int> & <int> & <int>\\\\\n",
       "\\hline\n",
       "\t1 & 1000019 & 1 & NA & NA & NA & 47 & NA & NA & NA\\\\\n",
       "\t2 & 1000022 & 1 & NA & NA & NA & 53 & NA & NA & NA\\\\\n",
       "\t3 & 1000035 & 1 & NA & NA & NA & 63 & NA & NA & NA\\\\\n",
       "\t4 & 1000046 & 0 & NA & 1  & NA & 62 & NA & 73 & NA\\\\\n",
       "\t5 & 1000054 & 1 & NA & NA & NA & 65 & NA & NA & NA\\\\\n",
       "\t6 & 1000105 & 1 & NA & NA & NA & 54 & NA & NA & NA\\\\\n",
       "\t7 & 1000112 & 0 & NA & 1  & NA & 58 & NA & 68 & NA\\\\\n",
       "\t8 & 1000164 & 1 & NA & NA & NA & 51 & NA & NA & NA\\\\\n",
       "\t9 & 1000170 & 1 & NA & NA & NA & 51 & NA & NA & NA\\\\\n",
       "\t10 & 1000198 & 1 & NA & NA & NA & 41 & NA & NA & NA\\\\\n",
       "\t11 & 1000203 & 1 & NA & NA & NA & 49 & NA & NA & NA\\\\\n",
       "\t12 & 1000318 & 1 & NA & NA & NA & 52 & NA & NA & NA\\\\\n",
       "\\end{tabular}\n"
      ],
      "text/markdown": [
       "\n",
       "A data.frame: 12 × 9\n",
       "\n",
       "| <!--/--> | IID &lt;int&gt; | f.2257.0.0_recode &lt;fct&gt; | f.2257.1.0_recode &lt;fct&gt; | f.2257.2.0_recode &lt;fct&gt; | f.2257.3.0_recode &lt;fct&gt; | f.21003.0.0 &lt;int&gt; | f.21003.1.0 &lt;int&gt; | f.21003.2.0 &lt;int&gt; | f.21003.3.0 &lt;int&gt; |\n",
       "|---|---|---|---|---|---|---|---|---|---|\n",
       "| 1 | 1000019 | 1 | NA | NA | NA | 47 | NA | NA | NA |\n",
       "| 2 | 1000022 | 1 | NA | NA | NA | 53 | NA | NA | NA |\n",
       "| 3 | 1000035 | 1 | NA | NA | NA | 63 | NA | NA | NA |\n",
       "| 4 | 1000046 | 0 | NA | 1  | NA | 62 | NA | 73 | NA |\n",
       "| 5 | 1000054 | 1 | NA | NA | NA | 65 | NA | NA | NA |\n",
       "| 6 | 1000105 | 1 | NA | NA | NA | 54 | NA | NA | NA |\n",
       "| 7 | 1000112 | 0 | NA | 1  | NA | 58 | NA | 68 | NA |\n",
       "| 8 | 1000164 | 1 | NA | NA | NA | 51 | NA | NA | NA |\n",
       "| 9 | 1000170 | 1 | NA | NA | NA | 51 | NA | NA | NA |\n",
       "| 10 | 1000198 | 1 | NA | NA | NA | 41 | NA | NA | NA |\n",
       "| 11 | 1000203 | 1 | NA | NA | NA | 49 | NA | NA | NA |\n",
       "| 12 | 1000318 | 1 | NA | NA | NA | 52 | NA | NA | NA |\n",
       "\n"
      ],
      "text/plain": [
       "   IID     f.2257.0.0_recode f.2257.1.0_recode f.2257.2.0_recode\n",
       "1  1000019 1                 NA                NA               \n",
       "2  1000022 1                 NA                NA               \n",
       "3  1000035 1                 NA                NA               \n",
       "4  1000046 0                 NA                1                \n",
       "5  1000054 1                 NA                NA               \n",
       "6  1000105 1                 NA                NA               \n",
       "7  1000112 0                 NA                1                \n",
       "8  1000164 1                 NA                NA               \n",
       "9  1000170 1                 NA                NA               \n",
       "10 1000198 1                 NA                NA               \n",
       "11 1000203 1                 NA                NA               \n",
       "12 1000318 1                 NA                NA               \n",
       "   f.2257.3.0_recode f.21003.0.0 f.21003.1.0 f.21003.2.0 f.21003.3.0\n",
       "1  NA                47          NA          NA          NA         \n",
       "2  NA                53          NA          NA          NA         \n",
       "3  NA                63          NA          NA          NA         \n",
       "4  NA                62          NA          73          NA         \n",
       "5  NA                65          NA          NA          NA         \n",
       "6  NA                54          NA          NA          NA         \n",
       "7  NA                58          NA          68          NA         \n",
       "8  NA                51          NA          NA          NA         \n",
       "9  NA                51          NA          NA          NA         \n",
       "10 NA                41          NA          NA          NA         \n",
       "11 NA                49          NA          NA          NA         \n",
       "12 NA                52          NA          NA          NA         "
      ]
     },
     "metadata": {},
     "output_type": "display_data"
    }
   ],
   "source": [
    "# Get the subset data of cases\n",
    "noise_age_cases = hearing_noise %>% \n",
    "  filter(hearing_noise_cat==\"1\")  %>%\n",
    "  select(IID, f.2257.0.0_recode, f.2257.1.0_recode, f.2257.2.0_recode, f.2257.3.0_recode, f.21003.0.0, f.21003.1.0, f.21003.2.0, f.21003.3.0)\n",
    "head(noise_age_cases,12)"
   ]
  },
  {
   "cell_type": "code",
   "execution_count": 101,
   "metadata": {
    "kernel": "R"
   },
   "outputs": [
    {
     "data": {
      "text/html": [
       "<table>\n",
       "<caption>A data.frame: 6 × 10</caption>\n",
       "<thead>\n",
       "\t<tr><th></th><th scope=col>IID</th><th scope=col>f.2257.0.0_recode</th><th scope=col>f.2257.1.0_recode</th><th scope=col>f.2257.2.0_recode</th><th scope=col>f.2257.3.0_recode</th><th scope=col>f.21003.0.0</th><th scope=col>f.21003.1.0</th><th scope=col>f.21003.2.0</th><th scope=col>f.21003.3.0</th><th scope=col>visit_idx</th></tr>\n",
       "\t<tr><th></th><th scope=col>&lt;int&gt;</th><th scope=col>&lt;fct&gt;</th><th scope=col>&lt;fct&gt;</th><th scope=col>&lt;fct&gt;</th><th scope=col>&lt;fct&gt;</th><th scope=col>&lt;int&gt;</th><th scope=col>&lt;int&gt;</th><th scope=col>&lt;int&gt;</th><th scope=col>&lt;int&gt;</th><th scope=col>&lt;list&gt;</th></tr>\n",
       "</thead>\n",
       "<tbody>\n",
       "\t<tr><th scope=row>1</th><td>1000019</td><td>1</td><td>NA</td><td>NA</td><td>NA</td><td>47</td><td>NA</td><td>NA</td><td>NA</td><td>2</td></tr>\n",
       "\t<tr><th scope=row>2</th><td>1000022</td><td>1</td><td>NA</td><td>NA</td><td>NA</td><td>53</td><td>NA</td><td>NA</td><td>NA</td><td>2</td></tr>\n",
       "\t<tr><th scope=row>3</th><td>1000035</td><td>1</td><td>NA</td><td>NA</td><td>NA</td><td>63</td><td>NA</td><td>NA</td><td>NA</td><td>2</td></tr>\n",
       "\t<tr><th scope=row>4</th><td>1000046</td><td>0</td><td>NA</td><td>1 </td><td>NA</td><td>62</td><td>NA</td><td>73</td><td>NA</td><td>4</td></tr>\n",
       "\t<tr><th scope=row>5</th><td>1000054</td><td>1</td><td>NA</td><td>NA</td><td>NA</td><td>65</td><td>NA</td><td>NA</td><td>NA</td><td>2</td></tr>\n",
       "\t<tr><th scope=row>6</th><td>1000105</td><td>1</td><td>NA</td><td>NA</td><td>NA</td><td>54</td><td>NA</td><td>NA</td><td>NA</td><td>2</td></tr>\n",
       "</tbody>\n",
       "</table>\n"
      ],
      "text/latex": [
       "A data.frame: 6 × 10\n",
       "\\begin{tabular}{r|llllllllll}\n",
       "  & IID & f.2257.0.0\\_recode & f.2257.1.0\\_recode & f.2257.2.0\\_recode & f.2257.3.0\\_recode & f.21003.0.0 & f.21003.1.0 & f.21003.2.0 & f.21003.3.0 & visit\\_idx\\\\\n",
       "  & <int> & <fct> & <fct> & <fct> & <fct> & <int> & <int> & <int> & <int> & <list>\\\\\n",
       "\\hline\n",
       "\t1 & 1000019 & 1 & NA & NA & NA & 47 & NA & NA & NA & 2\\\\\n",
       "\t2 & 1000022 & 1 & NA & NA & NA & 53 & NA & NA & NA & 2\\\\\n",
       "\t3 & 1000035 & 1 & NA & NA & NA & 63 & NA & NA & NA & 2\\\\\n",
       "\t4 & 1000046 & 0 & NA & 1  & NA & 62 & NA & 73 & NA & 4\\\\\n",
       "\t5 & 1000054 & 1 & NA & NA & NA & 65 & NA & NA & NA & 2\\\\\n",
       "\t6 & 1000105 & 1 & NA & NA & NA & 54 & NA & NA & NA & 2\\\\\n",
       "\\end{tabular}\n"
      ],
      "text/markdown": [
       "\n",
       "A data.frame: 6 × 10\n",
       "\n",
       "| <!--/--> | IID &lt;int&gt; | f.2257.0.0_recode &lt;fct&gt; | f.2257.1.0_recode &lt;fct&gt; | f.2257.2.0_recode &lt;fct&gt; | f.2257.3.0_recode &lt;fct&gt; | f.21003.0.0 &lt;int&gt; | f.21003.1.0 &lt;int&gt; | f.21003.2.0 &lt;int&gt; | f.21003.3.0 &lt;int&gt; | visit_idx &lt;list&gt; |\n",
       "|---|---|---|---|---|---|---|---|---|---|---|\n",
       "| 1 | 1000019 | 1 | NA | NA | NA | 47 | NA | NA | NA | 2 |\n",
       "| 2 | 1000022 | 1 | NA | NA | NA | 53 | NA | NA | NA | 2 |\n",
       "| 3 | 1000035 | 1 | NA | NA | NA | 63 | NA | NA | NA | 2 |\n",
       "| 4 | 1000046 | 0 | NA | 1  | NA | 62 | NA | 73 | NA | 4 |\n",
       "| 5 | 1000054 | 1 | NA | NA | NA | 65 | NA | NA | NA | 2 |\n",
       "| 6 | 1000105 | 1 | NA | NA | NA | 54 | NA | NA | NA | 2 |\n",
       "\n"
      ],
      "text/plain": [
       "  IID     f.2257.0.0_recode f.2257.1.0_recode f.2257.2.0_recode\n",
       "1 1000019 1                 NA                NA               \n",
       "2 1000022 1                 NA                NA               \n",
       "3 1000035 1                 NA                NA               \n",
       "4 1000046 0                 NA                1                \n",
       "5 1000054 1                 NA                NA               \n",
       "6 1000105 1                 NA                NA               \n",
       "  f.2257.3.0_recode f.21003.0.0 f.21003.1.0 f.21003.2.0 f.21003.3.0 visit_idx\n",
       "1 NA                47          NA          NA          NA          2        \n",
       "2 NA                53          NA          NA          NA          2        \n",
       "3 NA                63          NA          NA          NA          2        \n",
       "4 NA                62          NA          73          NA          4        \n",
       "5 NA                65          NA          NA          NA          2        \n",
       "6 NA                54          NA          NA          NA          2        "
      ]
     },
     "metadata": {},
     "output_type": "display_data"
    }
   ],
   "source": [
    "# Get the # of column where first replied Yes:\n",
    "noise_age_cases$visit_idx = apply(noise_age_cases, 1, function(x) unlist(which(x == '1')))\n",
    "head(noise_age_cases)"
   ]
  },
  {
   "cell_type": "code",
   "execution_count": 102,
   "metadata": {
    "kernel": "R"
   },
   "outputs": [
    {
     "data": {
      "text/html": [
       "<table>\n",
       "<caption>A data.frame: 6 × 11</caption>\n",
       "<thead>\n",
       "\t<tr><th></th><th scope=col>IID</th><th scope=col>f.2257.0.0_recode</th><th scope=col>f.2257.1.0_recode</th><th scope=col>f.2257.2.0_recode</th><th scope=col>f.2257.3.0_recode</th><th scope=col>f.21003.0.0</th><th scope=col>f.21003.1.0</th><th scope=col>f.21003.2.0</th><th scope=col>f.21003.3.0</th><th scope=col>visit_idx</th><th scope=col>age_final_noise</th></tr>\n",
       "\t<tr><th></th><th scope=col>&lt;int&gt;</th><th scope=col>&lt;fct&gt;</th><th scope=col>&lt;fct&gt;</th><th scope=col>&lt;fct&gt;</th><th scope=col>&lt;fct&gt;</th><th scope=col>&lt;int&gt;</th><th scope=col>&lt;int&gt;</th><th scope=col>&lt;int&gt;</th><th scope=col>&lt;int&gt;</th><th scope=col>&lt;list&gt;</th><th scope=col>&lt;int&gt;</th></tr>\n",
       "</thead>\n",
       "<tbody>\n",
       "\t<tr><th scope=row>1</th><td>1000019</td><td>1</td><td>NA</td><td>NA</td><td>NA</td><td>47</td><td>NA</td><td>NA</td><td>NA</td><td>2</td><td>47</td></tr>\n",
       "\t<tr><th scope=row>2</th><td>1000022</td><td>1</td><td>NA</td><td>NA</td><td>NA</td><td>53</td><td>NA</td><td>NA</td><td>NA</td><td>2</td><td>53</td></tr>\n",
       "\t<tr><th scope=row>3</th><td>1000035</td><td>1</td><td>NA</td><td>NA</td><td>NA</td><td>63</td><td>NA</td><td>NA</td><td>NA</td><td>2</td><td>63</td></tr>\n",
       "\t<tr><th scope=row>4</th><td>1000046</td><td>0</td><td>NA</td><td>1 </td><td>NA</td><td>62</td><td>NA</td><td>73</td><td>NA</td><td>4</td><td>73</td></tr>\n",
       "\t<tr><th scope=row>5</th><td>1000054</td><td>1</td><td>NA</td><td>NA</td><td>NA</td><td>65</td><td>NA</td><td>NA</td><td>NA</td><td>2</td><td>65</td></tr>\n",
       "\t<tr><th scope=row>6</th><td>1000105</td><td>1</td><td>NA</td><td>NA</td><td>NA</td><td>54</td><td>NA</td><td>NA</td><td>NA</td><td>2</td><td>54</td></tr>\n",
       "</tbody>\n",
       "</table>\n"
      ],
      "text/latex": [
       "A data.frame: 6 × 11\n",
       "\\begin{tabular}{r|lllllllllll}\n",
       "  & IID & f.2257.0.0\\_recode & f.2257.1.0\\_recode & f.2257.2.0\\_recode & f.2257.3.0\\_recode & f.21003.0.0 & f.21003.1.0 & f.21003.2.0 & f.21003.3.0 & visit\\_idx & age\\_final\\_noise\\\\\n",
       "  & <int> & <fct> & <fct> & <fct> & <fct> & <int> & <int> & <int> & <int> & <list> & <int>\\\\\n",
       "\\hline\n",
       "\t1 & 1000019 & 1 & NA & NA & NA & 47 & NA & NA & NA & 2 & 47\\\\\n",
       "\t2 & 1000022 & 1 & NA & NA & NA & 53 & NA & NA & NA & 2 & 53\\\\\n",
       "\t3 & 1000035 & 1 & NA & NA & NA & 63 & NA & NA & NA & 2 & 63\\\\\n",
       "\t4 & 1000046 & 0 & NA & 1  & NA & 62 & NA & 73 & NA & 4 & 73\\\\\n",
       "\t5 & 1000054 & 1 & NA & NA & NA & 65 & NA & NA & NA & 2 & 65\\\\\n",
       "\t6 & 1000105 & 1 & NA & NA & NA & 54 & NA & NA & NA & 2 & 54\\\\\n",
       "\\end{tabular}\n"
      ],
      "text/markdown": [
       "\n",
       "A data.frame: 6 × 11\n",
       "\n",
       "| <!--/--> | IID &lt;int&gt; | f.2257.0.0_recode &lt;fct&gt; | f.2257.1.0_recode &lt;fct&gt; | f.2257.2.0_recode &lt;fct&gt; | f.2257.3.0_recode &lt;fct&gt; | f.21003.0.0 &lt;int&gt; | f.21003.1.0 &lt;int&gt; | f.21003.2.0 &lt;int&gt; | f.21003.3.0 &lt;int&gt; | visit_idx &lt;list&gt; | age_final_noise &lt;int&gt; |\n",
       "|---|---|---|---|---|---|---|---|---|---|---|---|\n",
       "| 1 | 1000019 | 1 | NA | NA | NA | 47 | NA | NA | NA | 2 | 47 |\n",
       "| 2 | 1000022 | 1 | NA | NA | NA | 53 | NA | NA | NA | 2 | 53 |\n",
       "| 3 | 1000035 | 1 | NA | NA | NA | 63 | NA | NA | NA | 2 | 63 |\n",
       "| 4 | 1000046 | 0 | NA | 1  | NA | 62 | NA | 73 | NA | 4 | 73 |\n",
       "| 5 | 1000054 | 1 | NA | NA | NA | 65 | NA | NA | NA | 2 | 65 |\n",
       "| 6 | 1000105 | 1 | NA | NA | NA | 54 | NA | NA | NA | 2 | 54 |\n",
       "\n"
      ],
      "text/plain": [
       "  IID     f.2257.0.0_recode f.2257.1.0_recode f.2257.2.0_recode\n",
       "1 1000019 1                 NA                NA               \n",
       "2 1000022 1                 NA                NA               \n",
       "3 1000035 1                 NA                NA               \n",
       "4 1000046 0                 NA                1                \n",
       "5 1000054 1                 NA                NA               \n",
       "6 1000105 1                 NA                NA               \n",
       "  f.2257.3.0_recode f.21003.0.0 f.21003.1.0 f.21003.2.0 f.21003.3.0 visit_idx\n",
       "1 NA                47          NA          NA          NA          2        \n",
       "2 NA                53          NA          NA          NA          2        \n",
       "3 NA                63          NA          NA          NA          2        \n",
       "4 NA                62          NA          73          NA          4        \n",
       "5 NA                65          NA          NA          NA          2        \n",
       "6 NA                54          NA          NA          NA          2        \n",
       "  age_final_noise\n",
       "1 47             \n",
       "2 53             \n",
       "3 63             \n",
       "4 73             \n",
       "5 65             \n",
       "6 54             "
      ]
     },
     "metadata": {},
     "output_type": "display_data"
    },
    {
     "data": {
      "text/plain": [
       "   Min. 1st Qu.  Median    Mean 3rd Qu.    Max. \n",
       "  40.00   53.00   60.00   58.56   65.00   82.00 "
      ]
     },
     "metadata": {},
     "output_type": "display_data"
    }
   ],
   "source": [
    "# Define offset:\n",
    "# offset: refers to the # of columns between the first age column (i.e.f.21003.0.0) and the first recode column (i.e.f.2257.0.0_recode)\n",
    "offset = which(colnames(noise_age_cases) == 'f.21003.0.0') - which(colnames(noise_age_cases) == 'f.2257.0.0_recode')\n",
    "\n",
    "# Define the function to extract the first time they said yes for cases \n",
    "f=get_age_func <- function(x) {\n",
    "  visit_index=x[which(colnames(noise_age_cases)==\"visit_idx\")]\n",
    "  index=min(unlist(visit_index))+offset\n",
    "  age=x[index]\n",
    "  final_age=unlist(age)\n",
    "  if(is.null(final_age))\n",
    "  {final_age<-NA}\n",
    "  return(final_age)\n",
    "}\n",
    "\n",
    "# Get the final age for cases\n",
    "noise_age_cases$age_final_noise = apply(noise_age_cases, 1, f)\n",
    "\n",
    "# Show first 6 rows\n",
    "head(noise_age_cases)\n",
    "summary(noise_age_cases$age_final_noise)"
   ]
  },
  {
   "cell_type": "code",
   "execution_count": 103,
   "metadata": {
    "kernel": "R"
   },
   "outputs": [
    {
     "data": {
      "text/html": [
       "<table>\n",
       "<caption>A data.frame: 6 × 9</caption>\n",
       "<thead>\n",
       "\t<tr><th></th><th scope=col>IID</th><th scope=col>f.2257.0.0_recode</th><th scope=col>f.2257.1.0_recode</th><th scope=col>f.2257.2.0_recode</th><th scope=col>f.2257.3.0_recode</th><th scope=col>f.21003.0.0</th><th scope=col>f.21003.1.0</th><th scope=col>f.21003.2.0</th><th scope=col>f.21003.3.0</th></tr>\n",
       "\t<tr><th></th><th scope=col>&lt;int&gt;</th><th scope=col>&lt;fct&gt;</th><th scope=col>&lt;fct&gt;</th><th scope=col>&lt;fct&gt;</th><th scope=col>&lt;fct&gt;</th><th scope=col>&lt;int&gt;</th><th scope=col>&lt;int&gt;</th><th scope=col>&lt;int&gt;</th><th scope=col>&lt;int&gt;</th></tr>\n",
       "</thead>\n",
       "<tbody>\n",
       "\t<tr><th scope=row>1</th><td>1000063</td><td>0</td><td>NA</td><td>NA</td><td>NA</td><td>43</td><td>NA</td><td>NA</td><td>NA</td></tr>\n",
       "\t<tr><th scope=row>2</th><td>1000078</td><td>0</td><td>0 </td><td>0 </td><td>NA</td><td>52</td><td>57</td><td>60</td><td>NA</td></tr>\n",
       "\t<tr><th scope=row>3</th><td>1000129</td><td>0</td><td>NA</td><td>NA</td><td>NA</td><td>62</td><td>NA</td><td>NA</td><td>NA</td></tr>\n",
       "\t<tr><th scope=row>4</th><td>1000137</td><td>0</td><td>NA</td><td>NA</td><td>NA</td><td>46</td><td>NA</td><td>NA</td><td>NA</td></tr>\n",
       "\t<tr><th scope=row>5</th><td>1000141</td><td>0</td><td>NA</td><td>NA</td><td>NA</td><td>49</td><td>NA</td><td>NA</td><td>NA</td></tr>\n",
       "\t<tr><th scope=row>6</th><td>1000186</td><td>0</td><td>NA</td><td>NA</td><td>NA</td><td>53</td><td>NA</td><td>NA</td><td>NA</td></tr>\n",
       "</tbody>\n",
       "</table>\n"
      ],
      "text/latex": [
       "A data.frame: 6 × 9\n",
       "\\begin{tabular}{r|lllllllll}\n",
       "  & IID & f.2257.0.0\\_recode & f.2257.1.0\\_recode & f.2257.2.0\\_recode & f.2257.3.0\\_recode & f.21003.0.0 & f.21003.1.0 & f.21003.2.0 & f.21003.3.0\\\\\n",
       "  & <int> & <fct> & <fct> & <fct> & <fct> & <int> & <int> & <int> & <int>\\\\\n",
       "\\hline\n",
       "\t1 & 1000063 & 0 & NA & NA & NA & 43 & NA & NA & NA\\\\\n",
       "\t2 & 1000078 & 0 & 0  & 0  & NA & 52 & 57 & 60 & NA\\\\\n",
       "\t3 & 1000129 & 0 & NA & NA & NA & 62 & NA & NA & NA\\\\\n",
       "\t4 & 1000137 & 0 & NA & NA & NA & 46 & NA & NA & NA\\\\\n",
       "\t5 & 1000141 & 0 & NA & NA & NA & 49 & NA & NA & NA\\\\\n",
       "\t6 & 1000186 & 0 & NA & NA & NA & 53 & NA & NA & NA\\\\\n",
       "\\end{tabular}\n"
      ],
      "text/markdown": [
       "\n",
       "A data.frame: 6 × 9\n",
       "\n",
       "| <!--/--> | IID &lt;int&gt; | f.2257.0.0_recode &lt;fct&gt; | f.2257.1.0_recode &lt;fct&gt; | f.2257.2.0_recode &lt;fct&gt; | f.2257.3.0_recode &lt;fct&gt; | f.21003.0.0 &lt;int&gt; | f.21003.1.0 &lt;int&gt; | f.21003.2.0 &lt;int&gt; | f.21003.3.0 &lt;int&gt; |\n",
       "|---|---|---|---|---|---|---|---|---|---|\n",
       "| 1 | 1000063 | 0 | NA | NA | NA | 43 | NA | NA | NA |\n",
       "| 2 | 1000078 | 0 | 0  | 0  | NA | 52 | 57 | 60 | NA |\n",
       "| 3 | 1000129 | 0 | NA | NA | NA | 62 | NA | NA | NA |\n",
       "| 4 | 1000137 | 0 | NA | NA | NA | 46 | NA | NA | NA |\n",
       "| 5 | 1000141 | 0 | NA | NA | NA | 49 | NA | NA | NA |\n",
       "| 6 | 1000186 | 0 | NA | NA | NA | 53 | NA | NA | NA |\n",
       "\n"
      ],
      "text/plain": [
       "  IID     f.2257.0.0_recode f.2257.1.0_recode f.2257.2.0_recode\n",
       "1 1000063 0                 NA                NA               \n",
       "2 1000078 0                 0                 0                \n",
       "3 1000129 0                 NA                NA               \n",
       "4 1000137 0                 NA                NA               \n",
       "5 1000141 0                 NA                NA               \n",
       "6 1000186 0                 NA                NA               \n",
       "  f.2257.3.0_recode f.21003.0.0 f.21003.1.0 f.21003.2.0 f.21003.3.0\n",
       "1 NA                43          NA          NA          NA         \n",
       "2 NA                52          57          60          NA         \n",
       "3 NA                62          NA          NA          NA         \n",
       "4 NA                46          NA          NA          NA         \n",
       "5 NA                49          NA          NA          NA         \n",
       "6 NA                53          NA          NA          NA         "
      ]
     },
     "metadata": {},
     "output_type": "display_data"
    }
   ],
   "source": [
    "### Extract age for Control (2257)\n",
    "noise_age_control <- hearing_noise %>% \n",
    "  filter(hearing_noise_cat == \"0\") %>%\n",
    "  select(IID, f.2257.0.0_recode, f.2257.1.0_recode, f.2257.2.0_recode, f.2257.3.0_recode, f.21003.0.0, f.21003.1.0, f.21003.2.0, f.21003.3.0)\n",
    "head(noise_age_control)"
   ]
  },
  {
   "cell_type": "code",
   "execution_count": 104,
   "metadata": {
    "kernel": "R"
   },
   "outputs": [
    {
     "data": {
      "text/html": [
       "<table>\n",
       "<caption>A data.frame: 6 × 11</caption>\n",
       "<thead>\n",
       "\t<tr><th></th><th scope=col>IID</th><th scope=col>f.2257.0.0_recode</th><th scope=col>f.2257.1.0_recode</th><th scope=col>f.2257.2.0_recode</th><th scope=col>f.2257.3.0_recode</th><th scope=col>f.21003.0.0</th><th scope=col>f.21003.1.0</th><th scope=col>f.21003.2.0</th><th scope=col>f.21003.3.0</th><th scope=col>visit_idx</th><th scope=col>age_final_noise</th></tr>\n",
       "\t<tr><th></th><th scope=col>&lt;int&gt;</th><th scope=col>&lt;fct&gt;</th><th scope=col>&lt;fct&gt;</th><th scope=col>&lt;fct&gt;</th><th scope=col>&lt;fct&gt;</th><th scope=col>&lt;int&gt;</th><th scope=col>&lt;int&gt;</th><th scope=col>&lt;int&gt;</th><th scope=col>&lt;int&gt;</th><th scope=col>&lt;list&gt;</th><th scope=col>&lt;int&gt;</th></tr>\n",
       "</thead>\n",
       "<tbody>\n",
       "\t<tr><th scope=row>1</th><td>1000063</td><td>0</td><td>NA</td><td>NA</td><td>NA</td><td>43</td><td>NA</td><td>NA</td><td>NA</td><td>2</td><td>43</td></tr>\n",
       "\t<tr><th scope=row>2</th><td>1000078</td><td>0</td><td>0 </td><td>0 </td><td>NA</td><td>52</td><td>57</td><td>60</td><td>NA</td><td>2, 3, 4</td><td>60</td></tr>\n",
       "\t<tr><th scope=row>3</th><td>1000129</td><td>0</td><td>NA</td><td>NA</td><td>NA</td><td>62</td><td>NA</td><td>NA</td><td>NA</td><td>2</td><td>62</td></tr>\n",
       "\t<tr><th scope=row>4</th><td>1000137</td><td>0</td><td>NA</td><td>NA</td><td>NA</td><td>46</td><td>NA</td><td>NA</td><td>NA</td><td>2</td><td>46</td></tr>\n",
       "\t<tr><th scope=row>5</th><td>1000141</td><td>0</td><td>NA</td><td>NA</td><td>NA</td><td>49</td><td>NA</td><td>NA</td><td>NA</td><td>2</td><td>49</td></tr>\n",
       "\t<tr><th scope=row>6</th><td>1000186</td><td>0</td><td>NA</td><td>NA</td><td>NA</td><td>53</td><td>NA</td><td>NA</td><td>NA</td><td>2</td><td>53</td></tr>\n",
       "</tbody>\n",
       "</table>\n"
      ],
      "text/latex": [
       "A data.frame: 6 × 11\n",
       "\\begin{tabular}{r|lllllllllll}\n",
       "  & IID & f.2257.0.0\\_recode & f.2257.1.0\\_recode & f.2257.2.0\\_recode & f.2257.3.0\\_recode & f.21003.0.0 & f.21003.1.0 & f.21003.2.0 & f.21003.3.0 & visit\\_idx & age\\_final\\_noise\\\\\n",
       "  & <int> & <fct> & <fct> & <fct> & <fct> & <int> & <int> & <int> & <int> & <list> & <int>\\\\\n",
       "\\hline\n",
       "\t1 & 1000063 & 0 & NA & NA & NA & 43 & NA & NA & NA & 2 & 43\\\\\n",
       "\t2 & 1000078 & 0 & 0  & 0  & NA & 52 & 57 & 60 & NA & 2, 3, 4 & 60\\\\\n",
       "\t3 & 1000129 & 0 & NA & NA & NA & 62 & NA & NA & NA & 2 & 62\\\\\n",
       "\t4 & 1000137 & 0 & NA & NA & NA & 46 & NA & NA & NA & 2 & 46\\\\\n",
       "\t5 & 1000141 & 0 & NA & NA & NA & 49 & NA & NA & NA & 2 & 49\\\\\n",
       "\t6 & 1000186 & 0 & NA & NA & NA & 53 & NA & NA & NA & 2 & 53\\\\\n",
       "\\end{tabular}\n"
      ],
      "text/markdown": [
       "\n",
       "A data.frame: 6 × 11\n",
       "\n",
       "| <!--/--> | IID &lt;int&gt; | f.2257.0.0_recode &lt;fct&gt; | f.2257.1.0_recode &lt;fct&gt; | f.2257.2.0_recode &lt;fct&gt; | f.2257.3.0_recode &lt;fct&gt; | f.21003.0.0 &lt;int&gt; | f.21003.1.0 &lt;int&gt; | f.21003.2.0 &lt;int&gt; | f.21003.3.0 &lt;int&gt; | visit_idx &lt;list&gt; | age_final_noise &lt;int&gt; |\n",
       "|---|---|---|---|---|---|---|---|---|---|---|---|\n",
       "| 1 | 1000063 | 0 | NA | NA | NA | 43 | NA | NA | NA | 2 | 43 |\n",
       "| 2 | 1000078 | 0 | 0  | 0  | NA | 52 | 57 | 60 | NA | 2, 3, 4 | 60 |\n",
       "| 3 | 1000129 | 0 | NA | NA | NA | 62 | NA | NA | NA | 2 | 62 |\n",
       "| 4 | 1000137 | 0 | NA | NA | NA | 46 | NA | NA | NA | 2 | 46 |\n",
       "| 5 | 1000141 | 0 | NA | NA | NA | 49 | NA | NA | NA | 2 | 49 |\n",
       "| 6 | 1000186 | 0 | NA | NA | NA | 53 | NA | NA | NA | 2 | 53 |\n",
       "\n"
      ],
      "text/plain": [
       "  IID     f.2257.0.0_recode f.2257.1.0_recode f.2257.2.0_recode\n",
       "1 1000063 0                 NA                NA               \n",
       "2 1000078 0                 0                 0                \n",
       "3 1000129 0                 NA                NA               \n",
       "4 1000137 0                 NA                NA               \n",
       "5 1000141 0                 NA                NA               \n",
       "6 1000186 0                 NA                NA               \n",
       "  f.2257.3.0_recode f.21003.0.0 f.21003.1.0 f.21003.2.0 f.21003.3.0 visit_idx\n",
       "1 NA                43          NA          NA          NA          2        \n",
       "2 NA                52          57          60          NA          2, 3, 4  \n",
       "3 NA                62          NA          NA          NA          2        \n",
       "4 NA                46          NA          NA          NA          2        \n",
       "5 NA                49          NA          NA          NA          2        \n",
       "6 NA                53          NA          NA          NA          2        \n",
       "  age_final_noise\n",
       "1 43             \n",
       "2 60             \n",
       "3 62             \n",
       "4 46             \n",
       "5 49             \n",
       "6 53             "
      ]
     },
     "metadata": {},
     "output_type": "display_data"
    },
    {
     "data": {
      "text/plain": [
       "   Min. 1st Qu.  Median    Mean 3rd Qu.    Max. \n",
       "   39.0    50.0    58.0    56.9    64.0    82.0 "
      ]
     },
     "metadata": {},
     "output_type": "display_data"
    }
   ],
   "source": [
    "# Get the # of column where last replied No:\n",
    "noise_age_control$visit_idx = apply(noise_age_control, 1, function(x) unlist(which(x == '0')))\n",
    "\n",
    "# Define offset:\n",
    "# offset: refers to the # of columns between the first age column (i.e.f.21003.0.0) and the first recode column (i.e.f.2257.0.0_recode)\n",
    "offset = which(colnames(noise_age_control) == 'f.21003.0.0') - which(colnames(noise_age_control) == 'f.2257.0.0_recode')\n",
    "\n",
    "# Define the function to extract the last time they said no for control\n",
    "\n",
    "f=get_age_func <- function(x) {\n",
    "  visit_index=x[which(colnames(noise_age_control)==\"visit_idx\")]\n",
    "  index=max(unlist(visit_index))+offset\n",
    "  age=x[index]\n",
    "  age=unlist(age)\n",
    "  return(age)\n",
    "}\n",
    "\n",
    "# Get the final age for controls\n",
    "noise_age_control$age_final_noise = apply(noise_age_control, 1, f)\n",
    "\n",
    "# Show first 6 rows\n",
    "head(noise_age_control)\n",
    "summary(noise_age_control$age_final_noise)"
   ]
  },
  {
   "cell_type": "code",
   "execution_count": 105,
   "metadata": {
    "kernel": "R"
   },
   "outputs": [
    {
     "data": {
      "text/html": [
       "<style>\n",
       ".list-inline {list-style: none; margin:0; padding: 0}\n",
       ".list-inline>li {display: inline-block}\n",
       ".list-inline>li:not(:last-child)::after {content: \"\\00b7\"; padding: 0 .5ex}\n",
       "</style>\n",
       "<ol class=list-inline><li>343605</li><li>11</li></ol>\n"
      ],
      "text/latex": [
       "\\begin{enumerate*}\n",
       "\\item 343605\n",
       "\\item 11\n",
       "\\end{enumerate*}\n"
      ],
      "text/markdown": [
       "1. 343605\n",
       "2. 11\n",
       "\n",
       "\n"
      ],
      "text/plain": [
       "[1] 343605     11"
      ]
     },
     "metadata": {},
     "output_type": "display_data"
    },
    {
     "data": {
      "text/html": [
       "<table>\n",
       "<caption>A data.frame: 6 × 11</caption>\n",
       "<thead>\n",
       "\t<tr><th></th><th scope=col>IID</th><th scope=col>f.2257.0.0_recode</th><th scope=col>f.2257.1.0_recode</th><th scope=col>f.2257.2.0_recode</th><th scope=col>f.2257.3.0_recode</th><th scope=col>f.21003.0.0</th><th scope=col>f.21003.1.0</th><th scope=col>f.21003.2.0</th><th scope=col>f.21003.3.0</th><th scope=col>visit_idx</th><th scope=col>age_final_noise</th></tr>\n",
       "\t<tr><th></th><th scope=col>&lt;int&gt;</th><th scope=col>&lt;fct&gt;</th><th scope=col>&lt;fct&gt;</th><th scope=col>&lt;fct&gt;</th><th scope=col>&lt;fct&gt;</th><th scope=col>&lt;int&gt;</th><th scope=col>&lt;int&gt;</th><th scope=col>&lt;int&gt;</th><th scope=col>&lt;int&gt;</th><th scope=col>&lt;list&gt;</th><th scope=col>&lt;int&gt;</th></tr>\n",
       "</thead>\n",
       "<tbody>\n",
       "\t<tr><th scope=row>1</th><td>1000019</td><td>1</td><td>NA</td><td>NA</td><td>NA</td><td>47</td><td>NA</td><td>NA</td><td>NA</td><td>2</td><td>47</td></tr>\n",
       "\t<tr><th scope=row>2</th><td>1000022</td><td>1</td><td>NA</td><td>NA</td><td>NA</td><td>53</td><td>NA</td><td>NA</td><td>NA</td><td>2</td><td>53</td></tr>\n",
       "\t<tr><th scope=row>3</th><td>1000035</td><td>1</td><td>NA</td><td>NA</td><td>NA</td><td>63</td><td>NA</td><td>NA</td><td>NA</td><td>2</td><td>63</td></tr>\n",
       "\t<tr><th scope=row>4</th><td>1000046</td><td>0</td><td>NA</td><td>1 </td><td>NA</td><td>62</td><td>NA</td><td>73</td><td>NA</td><td>4</td><td>73</td></tr>\n",
       "\t<tr><th scope=row>5</th><td>1000054</td><td>1</td><td>NA</td><td>NA</td><td>NA</td><td>65</td><td>NA</td><td>NA</td><td>NA</td><td>2</td><td>65</td></tr>\n",
       "\t<tr><th scope=row>6</th><td>1000105</td><td>1</td><td>NA</td><td>NA</td><td>NA</td><td>54</td><td>NA</td><td>NA</td><td>NA</td><td>2</td><td>54</td></tr>\n",
       "</tbody>\n",
       "</table>\n"
      ],
      "text/latex": [
       "A data.frame: 6 × 11\n",
       "\\begin{tabular}{r|lllllllllll}\n",
       "  & IID & f.2257.0.0\\_recode & f.2257.1.0\\_recode & f.2257.2.0\\_recode & f.2257.3.0\\_recode & f.21003.0.0 & f.21003.1.0 & f.21003.2.0 & f.21003.3.0 & visit\\_idx & age\\_final\\_noise\\\\\n",
       "  & <int> & <fct> & <fct> & <fct> & <fct> & <int> & <int> & <int> & <int> & <list> & <int>\\\\\n",
       "\\hline\n",
       "\t1 & 1000019 & 1 & NA & NA & NA & 47 & NA & NA & NA & 2 & 47\\\\\n",
       "\t2 & 1000022 & 1 & NA & NA & NA & 53 & NA & NA & NA & 2 & 53\\\\\n",
       "\t3 & 1000035 & 1 & NA & NA & NA & 63 & NA & NA & NA & 2 & 63\\\\\n",
       "\t4 & 1000046 & 0 & NA & 1  & NA & 62 & NA & 73 & NA & 4 & 73\\\\\n",
       "\t5 & 1000054 & 1 & NA & NA & NA & 65 & NA & NA & NA & 2 & 65\\\\\n",
       "\t6 & 1000105 & 1 & NA & NA & NA & 54 & NA & NA & NA & 2 & 54\\\\\n",
       "\\end{tabular}\n"
      ],
      "text/markdown": [
       "\n",
       "A data.frame: 6 × 11\n",
       "\n",
       "| <!--/--> | IID &lt;int&gt; | f.2257.0.0_recode &lt;fct&gt; | f.2257.1.0_recode &lt;fct&gt; | f.2257.2.0_recode &lt;fct&gt; | f.2257.3.0_recode &lt;fct&gt; | f.21003.0.0 &lt;int&gt; | f.21003.1.0 &lt;int&gt; | f.21003.2.0 &lt;int&gt; | f.21003.3.0 &lt;int&gt; | visit_idx &lt;list&gt; | age_final_noise &lt;int&gt; |\n",
       "|---|---|---|---|---|---|---|---|---|---|---|---|\n",
       "| 1 | 1000019 | 1 | NA | NA | NA | 47 | NA | NA | NA | 2 | 47 |\n",
       "| 2 | 1000022 | 1 | NA | NA | NA | 53 | NA | NA | NA | 2 | 53 |\n",
       "| 3 | 1000035 | 1 | NA | NA | NA | 63 | NA | NA | NA | 2 | 63 |\n",
       "| 4 | 1000046 | 0 | NA | 1  | NA | 62 | NA | 73 | NA | 4 | 73 |\n",
       "| 5 | 1000054 | 1 | NA | NA | NA | 65 | NA | NA | NA | 2 | 65 |\n",
       "| 6 | 1000105 | 1 | NA | NA | NA | 54 | NA | NA | NA | 2 | 54 |\n",
       "\n"
      ],
      "text/plain": [
       "  IID     f.2257.0.0_recode f.2257.1.0_recode f.2257.2.0_recode\n",
       "1 1000019 1                 NA                NA               \n",
       "2 1000022 1                 NA                NA               \n",
       "3 1000035 1                 NA                NA               \n",
       "4 1000046 0                 NA                1                \n",
       "5 1000054 1                 NA                NA               \n",
       "6 1000105 1                 NA                NA               \n",
       "  f.2257.3.0_recode f.21003.0.0 f.21003.1.0 f.21003.2.0 f.21003.3.0 visit_idx\n",
       "1 NA                47          NA          NA          NA          2        \n",
       "2 NA                53          NA          NA          NA          2        \n",
       "3 NA                63          NA          NA          NA          2        \n",
       "4 NA                62          NA          73          NA          4        \n",
       "5 NA                65          NA          NA          NA          2        \n",
       "6 NA                54          NA          NA          NA          2        \n",
       "  age_final_noise\n",
       "1 47             \n",
       "2 53             \n",
       "3 63             \n",
       "4 73             \n",
       "5 65             \n",
       "6 54             "
      ]
     },
     "metadata": {},
     "output_type": "display_data"
    }
   ],
   "source": [
    "# Merge age_cases and age_controls\n",
    "hearing_noise_age <- rbind(noise_age_cases, noise_age_control) \n",
    "dim(hearing_noise_age)\n",
    "head(hearing_noise_age)"
   ]
  },
  {
   "cell_type": "code",
   "execution_count": 106,
   "metadata": {
    "kernel": "R"
   },
   "outputs": [
    {
     "data": {
      "text/html": [
       "<table>\n",
       "<caption>A data.frame: 6 × 14</caption>\n",
       "<thead>\n",
       "\t<tr><th></th><th scope=col>IID</th><th scope=col>FID</th><th scope=col>f.22001.0.0</th><th scope=col>f.21003.0.0</th><th scope=col>f.21003.1.0</th><th scope=col>f.21003.2.0</th><th scope=col>f.21003.3.0</th><th scope=col>f.2257.0.0_recode</th><th scope=col>f.2257.1.0_recode</th><th scope=col>f.2257.2.0_recode</th><th scope=col>f.2257.3.0_recode</th><th scope=col>cases</th><th scope=col>hearing_noise_cat</th><th scope=col>age_final_noise</th></tr>\n",
       "\t<tr><th></th><th scope=col>&lt;int&gt;</th><th scope=col>&lt;int&gt;</th><th scope=col>&lt;fct&gt;</th><th scope=col>&lt;int&gt;</th><th scope=col>&lt;int&gt;</th><th scope=col>&lt;int&gt;</th><th scope=col>&lt;int&gt;</th><th scope=col>&lt;fct&gt;</th><th scope=col>&lt;fct&gt;</th><th scope=col>&lt;fct&gt;</th><th scope=col>&lt;fct&gt;</th><th scope=col>&lt;lgl&gt;</th><th scope=col>&lt;int&gt;</th><th scope=col>&lt;int&gt;</th></tr>\n",
       "</thead>\n",
       "<tbody>\n",
       "\t<tr><th scope=row>1</th><td>1000019</td><td>1000019</td><td>Female</td><td>47</td><td>NA</td><td>NA</td><td>NA</td><td>1</td><td>NA</td><td>NA</td><td>NA</td><td> TRUE</td><td>1</td><td>47</td></tr>\n",
       "\t<tr><th scope=row>2</th><td>1000022</td><td>1000022</td><td>Male  </td><td>53</td><td>NA</td><td>NA</td><td>NA</td><td>1</td><td>NA</td><td>NA</td><td>NA</td><td> TRUE</td><td>1</td><td>53</td></tr>\n",
       "\t<tr><th scope=row>3</th><td>1000035</td><td>1000035</td><td>Male  </td><td>63</td><td>NA</td><td>NA</td><td>NA</td><td>1</td><td>NA</td><td>NA</td><td>NA</td><td> TRUE</td><td>1</td><td>63</td></tr>\n",
       "\t<tr><th scope=row>4</th><td>1000046</td><td>1000046</td><td>Female</td><td>62</td><td>NA</td><td>73</td><td>NA</td><td>0</td><td>NA</td><td>1 </td><td>NA</td><td> TRUE</td><td>1</td><td>73</td></tr>\n",
       "\t<tr><th scope=row>5</th><td>1000054</td><td>1000054</td><td>Female</td><td>65</td><td>NA</td><td>NA</td><td>NA</td><td>1</td><td>NA</td><td>NA</td><td>NA</td><td> TRUE</td><td>1</td><td>65</td></tr>\n",
       "\t<tr><th scope=row>6</th><td>1000063</td><td>1000063</td><td>Male  </td><td>43</td><td>NA</td><td>NA</td><td>NA</td><td>0</td><td>NA</td><td>NA</td><td>NA</td><td>FALSE</td><td>0</td><td>43</td></tr>\n",
       "</tbody>\n",
       "</table>\n"
      ],
      "text/latex": [
       "A data.frame: 6 × 14\n",
       "\\begin{tabular}{r|llllllllllllll}\n",
       "  & IID & FID & f.22001.0.0 & f.21003.0.0 & f.21003.1.0 & f.21003.2.0 & f.21003.3.0 & f.2257.0.0\\_recode & f.2257.1.0\\_recode & f.2257.2.0\\_recode & f.2257.3.0\\_recode & cases & hearing\\_noise\\_cat & age\\_final\\_noise\\\\\n",
       "  & <int> & <int> & <fct> & <int> & <int> & <int> & <int> & <fct> & <fct> & <fct> & <fct> & <lgl> & <int> & <int>\\\\\n",
       "\\hline\n",
       "\t1 & 1000019 & 1000019 & Female & 47 & NA & NA & NA & 1 & NA & NA & NA &  TRUE & 1 & 47\\\\\n",
       "\t2 & 1000022 & 1000022 & Male   & 53 & NA & NA & NA & 1 & NA & NA & NA &  TRUE & 1 & 53\\\\\n",
       "\t3 & 1000035 & 1000035 & Male   & 63 & NA & NA & NA & 1 & NA & NA & NA &  TRUE & 1 & 63\\\\\n",
       "\t4 & 1000046 & 1000046 & Female & 62 & NA & 73 & NA & 0 & NA & 1  & NA &  TRUE & 1 & 73\\\\\n",
       "\t5 & 1000054 & 1000054 & Female & 65 & NA & NA & NA & 1 & NA & NA & NA &  TRUE & 1 & 65\\\\\n",
       "\t6 & 1000063 & 1000063 & Male   & 43 & NA & NA & NA & 0 & NA & NA & NA & FALSE & 0 & 43\\\\\n",
       "\\end{tabular}\n"
      ],
      "text/markdown": [
       "\n",
       "A data.frame: 6 × 14\n",
       "\n",
       "| <!--/--> | IID &lt;int&gt; | FID &lt;int&gt; | f.22001.0.0 &lt;fct&gt; | f.21003.0.0 &lt;int&gt; | f.21003.1.0 &lt;int&gt; | f.21003.2.0 &lt;int&gt; | f.21003.3.0 &lt;int&gt; | f.2257.0.0_recode &lt;fct&gt; | f.2257.1.0_recode &lt;fct&gt; | f.2257.2.0_recode &lt;fct&gt; | f.2257.3.0_recode &lt;fct&gt; | cases &lt;lgl&gt; | hearing_noise_cat &lt;int&gt; | age_final_noise &lt;int&gt; |\n",
       "|---|---|---|---|---|---|---|---|---|---|---|---|---|---|---|\n",
       "| 1 | 1000019 | 1000019 | Female | 47 | NA | NA | NA | 1 | NA | NA | NA |  TRUE | 1 | 47 |\n",
       "| 2 | 1000022 | 1000022 | Male   | 53 | NA | NA | NA | 1 | NA | NA | NA |  TRUE | 1 | 53 |\n",
       "| 3 | 1000035 | 1000035 | Male   | 63 | NA | NA | NA | 1 | NA | NA | NA |  TRUE | 1 | 63 |\n",
       "| 4 | 1000046 | 1000046 | Female | 62 | NA | 73 | NA | 0 | NA | 1  | NA |  TRUE | 1 | 73 |\n",
       "| 5 | 1000054 | 1000054 | Female | 65 | NA | NA | NA | 1 | NA | NA | NA |  TRUE | 1 | 65 |\n",
       "| 6 | 1000063 | 1000063 | Male   | 43 | NA | NA | NA | 0 | NA | NA | NA | FALSE | 0 | 43 |\n",
       "\n"
      ],
      "text/plain": [
       "  IID     FID     f.22001.0.0 f.21003.0.0 f.21003.1.0 f.21003.2.0 f.21003.3.0\n",
       "1 1000019 1000019 Female      47          NA          NA          NA         \n",
       "2 1000022 1000022 Male        53          NA          NA          NA         \n",
       "3 1000035 1000035 Male        63          NA          NA          NA         \n",
       "4 1000046 1000046 Female      62          NA          73          NA         \n",
       "5 1000054 1000054 Female      65          NA          NA          NA         \n",
       "6 1000063 1000063 Male        43          NA          NA          NA         \n",
       "  f.2257.0.0_recode f.2257.1.0_recode f.2257.2.0_recode f.2257.3.0_recode cases\n",
       "1 1                 NA                NA                NA                 TRUE\n",
       "2 1                 NA                NA                NA                 TRUE\n",
       "3 1                 NA                NA                NA                 TRUE\n",
       "4 0                 NA                1                 NA                 TRUE\n",
       "5 1                 NA                NA                NA                 TRUE\n",
       "6 0                 NA                NA                NA                FALSE\n",
       "  hearing_noise_cat age_final_noise\n",
       "1 1                 47             \n",
       "2 1                 53             \n",
       "3 1                 63             \n",
       "4 1                 73             \n",
       "5 1                 65             \n",
       "6 0                 43             "
      ]
     },
     "metadata": {},
     "output_type": "display_data"
    },
    {
     "data": {
      "text/html": [
       "<style>\n",
       ".list-inline {list-style: none; margin:0; padding: 0}\n",
       ".list-inline>li {display: inline-block}\n",
       ".list-inline>li:not(:last-child)::after {content: \"\\00b7\"; padding: 0 .5ex}\n",
       "</style>\n",
       "<ol class=list-inline><li>343605</li><li>14</li></ol>\n"
      ],
      "text/latex": [
       "\\begin{enumerate*}\n",
       "\\item 343605\n",
       "\\item 14\n",
       "\\end{enumerate*}\n"
      ],
      "text/markdown": [
       "1. 343605\n",
       "2. 14\n",
       "\n",
       "\n"
      ],
      "text/plain": [
       "[1] 343605     14"
      ]
     },
     "metadata": {},
     "output_type": "display_data"
    }
   ],
   "source": [
    "hearing_noise_age = merge(x = hearing_noise ,y = hearing_noise_age [,c(\"IID\",\"age_final_noise\")],by=\"IID\", all.x=TRUE)\n",
    "head(hearing_noise_age)\n",
    "dim(hearing_noise_age)"
   ]
  },
  {
   "cell_type": "markdown",
   "metadata": {
    "kernel": "R"
   },
   "source": [
    "## Merge f.3393, f.2247 and f.2257"
   ]
  },
  {
   "cell_type": "code",
   "execution_count": 107,
   "metadata": {
    "kernel": "R"
   },
   "outputs": [
    {
     "data": {
      "text/html": [
       "<style>\n",
       ".list-inline {list-style: none; margin:0; padding: 0}\n",
       ".list-inline>li {display: inline-block}\n",
       ".list-inline>li:not(:last-child)::after {content: \"\\00b7\"; padding: 0 .5ex}\n",
       "</style>\n",
       "<ol class=list-inline><li>354347</li><li>1096</li></ol>\n"
      ],
      "text/latex": [
       "\\begin{enumerate*}\n",
       "\\item 354347\n",
       "\\item 1096\n",
       "\\end{enumerate*}\n"
      ],
      "text/markdown": [
       "1. 354347\n",
       "2. 1096\n",
       "\n",
       "\n"
      ],
      "text/plain": [
       "[1] 354347   1096"
      ]
     },
     "metadata": {},
     "output_type": "display_data"
    },
    {
     "data": {
      "text/html": [
       "<table>\n",
       "<caption>A data.frame: 6 × 1096</caption>\n",
       "<thead>\n",
       "\t<tr><th></th><th scope=col>IID</th><th scope=col>FID</th><th scope=col>ignore1</th><th scope=col>ignore2</th><th scope=col>ignore3</th><th scope=col>ignore4</th><th scope=col>f.31.0.0</th><th scope=col>f.34.0.0</th><th scope=col>f.53.0.0</th><th scope=col>f.53.1.0</th><th scope=col>⋯</th><th scope=col>f.3393.3.0_recode</th><th scope=col>hearing_aid_cat</th><th scope=col>age_final_aid</th><th scope=col>hearing_diff_cat</th><th scope=col>age_final_diff</th><th scope=col>hearing_diff_cat_new</th><th scope=col>hearing_aid_cat_new</th><th scope=col>hearing_diff_new</th><th scope=col>hearing_noise_cat</th><th scope=col>age_final_noise</th></tr>\n",
       "\t<tr><th></th><th scope=col>&lt;int&gt;</th><th scope=col>&lt;int&gt;</th><th scope=col>&lt;int&gt;</th><th scope=col>&lt;int&gt;</th><th scope=col>&lt;int&gt;</th><th scope=col>&lt;int&gt;</th><th scope=col>&lt;fct&gt;</th><th scope=col>&lt;int&gt;</th><th scope=col>&lt;fct&gt;</th><th scope=col>&lt;fct&gt;</th><th scope=col>⋯</th><th scope=col>&lt;fct&gt;</th><th scope=col>&lt;int&gt;</th><th scope=col>&lt;int&gt;</th><th scope=col>&lt;int&gt;</th><th scope=col>&lt;int&gt;</th><th scope=col>&lt;fct&gt;</th><th scope=col>&lt;fct&gt;</th><th scope=col>&lt;fct&gt;</th><th scope=col>&lt;int&gt;</th><th scope=col>&lt;int&gt;</th></tr>\n",
       "</thead>\n",
       "<tbody>\n",
       "\t<tr><th scope=row>1</th><td>1000019</td><td>1000019</td><td>0</td><td>0</td><td>2</td><td>-9</td><td>Female</td><td>1960</td><td>2008-01-24</td><td>NA</td><td>⋯</td><td>NA</td><td>0</td><td>47</td><td>1</td><td>47</td><td>case   </td><td>control</td><td>1</td><td>1</td><td>47</td></tr>\n",
       "\t<tr><th scope=row>2</th><td>1000022</td><td>1000022</td><td>0</td><td>0</td><td>1</td><td>-9</td><td>Male  </td><td>1954</td><td>2008-01-22</td><td>NA</td><td>⋯</td><td>NA</td><td>0</td><td>53</td><td>1</td><td>53</td><td>case   </td><td>control</td><td>1</td><td>1</td><td>53</td></tr>\n",
       "\t<tr><th scope=row>3</th><td>1000035</td><td>1000035</td><td>0</td><td>0</td><td>1</td><td>-9</td><td>Male  </td><td>1944</td><td>2007-11-08</td><td>NA</td><td>⋯</td><td>NA</td><td>0</td><td>63</td><td>0</td><td>63</td><td>control</td><td>control</td><td>0</td><td>1</td><td>63</td></tr>\n",
       "\t<tr><th scope=row>4</th><td>1000046</td><td>1000046</td><td>0</td><td>0</td><td>2</td><td>-9</td><td>Female</td><td>1946</td><td>2008-12-01</td><td>NA</td><td>⋯</td><td>NA</td><td>0</td><td>73</td><td>0</td><td>73</td><td>control</td><td>control</td><td>0</td><td>1</td><td>73</td></tr>\n",
       "\t<tr><th scope=row>5</th><td>1000054</td><td>1000054</td><td>0</td><td>0</td><td>2</td><td>-9</td><td>Female</td><td>1942</td><td>2007-11-23</td><td>NA</td><td>⋯</td><td>NA</td><td>0</td><td>65</td><td>0</td><td>65</td><td>control</td><td>control</td><td>0</td><td>1</td><td>65</td></tr>\n",
       "\t<tr><th scope=row>6</th><td>1000063</td><td>1000063</td><td>0</td><td>0</td><td>1</td><td>-9</td><td>Male  </td><td>1967</td><td>2010-06-26</td><td>NA</td><td>⋯</td><td>NA</td><td>0</td><td>43</td><td>0</td><td>43</td><td>control</td><td>control</td><td>0</td><td>0</td><td>43</td></tr>\n",
       "</tbody>\n",
       "</table>\n"
      ],
      "text/latex": [
       "A data.frame: 6 × 1096\n",
       "\\begin{tabular}{r|lllllllllllllllllllll}\n",
       "  & IID & FID & ignore1 & ignore2 & ignore3 & ignore4 & f.31.0.0 & f.34.0.0 & f.53.0.0 & f.53.1.0 & ⋯ & f.3393.3.0\\_recode & hearing\\_aid\\_cat & age\\_final\\_aid & hearing\\_diff\\_cat & age\\_final\\_diff & hearing\\_diff\\_cat\\_new & hearing\\_aid\\_cat\\_new & hearing\\_diff\\_new & hearing\\_noise\\_cat & age\\_final\\_noise\\\\\n",
       "  & <int> & <int> & <int> & <int> & <int> & <int> & <fct> & <int> & <fct> & <fct> & ⋯ & <fct> & <int> & <int> & <int> & <int> & <fct> & <fct> & <fct> & <int> & <int>\\\\\n",
       "\\hline\n",
       "\t1 & 1000019 & 1000019 & 0 & 0 & 2 & -9 & Female & 1960 & 2008-01-24 & NA & ⋯ & NA & 0 & 47 & 1 & 47 & case    & control & 1 & 1 & 47\\\\\n",
       "\t2 & 1000022 & 1000022 & 0 & 0 & 1 & -9 & Male   & 1954 & 2008-01-22 & NA & ⋯ & NA & 0 & 53 & 1 & 53 & case    & control & 1 & 1 & 53\\\\\n",
       "\t3 & 1000035 & 1000035 & 0 & 0 & 1 & -9 & Male   & 1944 & 2007-11-08 & NA & ⋯ & NA & 0 & 63 & 0 & 63 & control & control & 0 & 1 & 63\\\\\n",
       "\t4 & 1000046 & 1000046 & 0 & 0 & 2 & -9 & Female & 1946 & 2008-12-01 & NA & ⋯ & NA & 0 & 73 & 0 & 73 & control & control & 0 & 1 & 73\\\\\n",
       "\t5 & 1000054 & 1000054 & 0 & 0 & 2 & -9 & Female & 1942 & 2007-11-23 & NA & ⋯ & NA & 0 & 65 & 0 & 65 & control & control & 0 & 1 & 65\\\\\n",
       "\t6 & 1000063 & 1000063 & 0 & 0 & 1 & -9 & Male   & 1967 & 2010-06-26 & NA & ⋯ & NA & 0 & 43 & 0 & 43 & control & control & 0 & 0 & 43\\\\\n",
       "\\end{tabular}\n"
      ],
      "text/markdown": [
       "\n",
       "A data.frame: 6 × 1096\n",
       "\n",
       "| <!--/--> | IID &lt;int&gt; | FID &lt;int&gt; | ignore1 &lt;int&gt; | ignore2 &lt;int&gt; | ignore3 &lt;int&gt; | ignore4 &lt;int&gt; | f.31.0.0 &lt;fct&gt; | f.34.0.0 &lt;int&gt; | f.53.0.0 &lt;fct&gt; | f.53.1.0 &lt;fct&gt; | ⋯ ⋯ | f.3393.3.0_recode &lt;fct&gt; | hearing_aid_cat &lt;int&gt; | age_final_aid &lt;int&gt; | hearing_diff_cat &lt;int&gt; | age_final_diff &lt;int&gt; | hearing_diff_cat_new &lt;fct&gt; | hearing_aid_cat_new &lt;fct&gt; | hearing_diff_new &lt;fct&gt; | hearing_noise_cat &lt;int&gt; | age_final_noise &lt;int&gt; |\n",
       "|---|---|---|---|---|---|---|---|---|---|---|---|---|---|---|---|---|---|---|---|---|---|\n",
       "| 1 | 1000019 | 1000019 | 0 | 0 | 2 | -9 | Female | 1960 | 2008-01-24 | NA | ⋯ | NA | 0 | 47 | 1 | 47 | case    | control | 1 | 1 | 47 |\n",
       "| 2 | 1000022 | 1000022 | 0 | 0 | 1 | -9 | Male   | 1954 | 2008-01-22 | NA | ⋯ | NA | 0 | 53 | 1 | 53 | case    | control | 1 | 1 | 53 |\n",
       "| 3 | 1000035 | 1000035 | 0 | 0 | 1 | -9 | Male   | 1944 | 2007-11-08 | NA | ⋯ | NA | 0 | 63 | 0 | 63 | control | control | 0 | 1 | 63 |\n",
       "| 4 | 1000046 | 1000046 | 0 | 0 | 2 | -9 | Female | 1946 | 2008-12-01 | NA | ⋯ | NA | 0 | 73 | 0 | 73 | control | control | 0 | 1 | 73 |\n",
       "| 5 | 1000054 | 1000054 | 0 | 0 | 2 | -9 | Female | 1942 | 2007-11-23 | NA | ⋯ | NA | 0 | 65 | 0 | 65 | control | control | 0 | 1 | 65 |\n",
       "| 6 | 1000063 | 1000063 | 0 | 0 | 1 | -9 | Male   | 1967 | 2010-06-26 | NA | ⋯ | NA | 0 | 43 | 0 | 43 | control | control | 0 | 0 | 43 |\n",
       "\n"
      ],
      "text/plain": [
       "  IID     FID     ignore1 ignore2 ignore3 ignore4 f.31.0.0 f.34.0.0 f.53.0.0  \n",
       "1 1000019 1000019 0       0       2       -9      Female   1960     2008-01-24\n",
       "2 1000022 1000022 0       0       1       -9      Male     1954     2008-01-22\n",
       "3 1000035 1000035 0       0       1       -9      Male     1944     2007-11-08\n",
       "4 1000046 1000046 0       0       2       -9      Female   1946     2008-12-01\n",
       "5 1000054 1000054 0       0       2       -9      Female   1942     2007-11-23\n",
       "6 1000063 1000063 0       0       1       -9      Male     1967     2010-06-26\n",
       "  f.53.1.0 ⋯ f.3393.3.0_recode hearing_aid_cat age_final_aid hearing_diff_cat\n",
       "1 NA       ⋯ NA                0               47            1               \n",
       "2 NA       ⋯ NA                0               53            1               \n",
       "3 NA       ⋯ NA                0               63            0               \n",
       "4 NA       ⋯ NA                0               73            0               \n",
       "5 NA       ⋯ NA                0               65            0               \n",
       "6 NA       ⋯ NA                0               43            0               \n",
       "  age_final_diff hearing_diff_cat_new hearing_aid_cat_new hearing_diff_new\n",
       "1 47             case                 control             1               \n",
       "2 53             case                 control             1               \n",
       "3 63             control              control             0               \n",
       "4 73             control              control             0               \n",
       "5 65             control              control             0               \n",
       "6 43             control              control             0               \n",
       "  hearing_noise_cat age_final_noise\n",
       "1 1                 47             \n",
       "2 1                 53             \n",
       "3 1                 63             \n",
       "4 1                 73             \n",
       "5 1                 65             \n",
       "6 0                 43             "
      ]
     },
     "metadata": {},
     "output_type": "display_data"
    }
   ],
   "source": [
    "#Merge with complete database keep the all the rows from original db\n",
    "df_3393_2247_2257 = merge(x = df_3393_2247, y = hearing_noise_age [,c(\"IID\",\"hearing_noise_cat\",\"age_final_noise\")],by=\"IID\", all.x=TRUE)\n",
    "dim(df_3393_2247_2257)\n",
    "head(df_3393_2247_2257)"
   ]
  },
  {
   "cell_type": "markdown",
   "metadata": {
    "kernel": "R"
   },
   "source": [
    "## Export file for hearing with background noise f.2257"
   ]
  },
  {
   "cell_type": "code",
   "execution_count": 108,
   "metadata": {
    "kernel": "R"
   },
   "outputs": [
    {
     "data": {
      "text/html": [
       "<table>\n",
       "<caption>A data.frame: 6 × 5</caption>\n",
       "<thead>\n",
       "\t<tr><th></th><th scope=col>FID</th><th scope=col>IID</th><th scope=col>age_final_noise</th><th scope=col>sex</th><th scope=col>hearing_noise_cat</th></tr>\n",
       "\t<tr><th></th><th scope=col>&lt;int&gt;</th><th scope=col>&lt;int&gt;</th><th scope=col>&lt;int&gt;</th><th scope=col>&lt;fct&gt;</th><th scope=col>&lt;int&gt;</th></tr>\n",
       "</thead>\n",
       "<tbody>\n",
       "\t<tr><th scope=row>1</th><td>1000019</td><td>1000019</td><td>47</td><td>1</td><td>1</td></tr>\n",
       "\t<tr><th scope=row>2</th><td>1000022</td><td>1000022</td><td>53</td><td>0</td><td>1</td></tr>\n",
       "\t<tr><th scope=row>3</th><td>1000035</td><td>1000035</td><td>63</td><td>0</td><td>1</td></tr>\n",
       "\t<tr><th scope=row>4</th><td>1000046</td><td>1000046</td><td>73</td><td>1</td><td>1</td></tr>\n",
       "\t<tr><th scope=row>5</th><td>1000054</td><td>1000054</td><td>65</td><td>1</td><td>1</td></tr>\n",
       "\t<tr><th scope=row>6</th><td>1000063</td><td>1000063</td><td>43</td><td>0</td><td>0</td></tr>\n",
       "</tbody>\n",
       "</table>\n"
      ],
      "text/latex": [
       "A data.frame: 6 × 5\n",
       "\\begin{tabular}{r|lllll}\n",
       "  & FID & IID & age\\_final\\_noise & sex & hearing\\_noise\\_cat\\\\\n",
       "  & <int> & <int> & <int> & <fct> & <int>\\\\\n",
       "\\hline\n",
       "\t1 & 1000019 & 1000019 & 47 & 1 & 1\\\\\n",
       "\t2 & 1000022 & 1000022 & 53 & 0 & 1\\\\\n",
       "\t3 & 1000035 & 1000035 & 63 & 0 & 1\\\\\n",
       "\t4 & 1000046 & 1000046 & 73 & 1 & 1\\\\\n",
       "\t5 & 1000054 & 1000054 & 65 & 1 & 1\\\\\n",
       "\t6 & 1000063 & 1000063 & 43 & 0 & 0\\\\\n",
       "\\end{tabular}\n"
      ],
      "text/markdown": [
       "\n",
       "A data.frame: 6 × 5\n",
       "\n",
       "| <!--/--> | FID &lt;int&gt; | IID &lt;int&gt; | age_final_noise &lt;int&gt; | sex &lt;fct&gt; | hearing_noise_cat &lt;int&gt; |\n",
       "|---|---|---|---|---|---|\n",
       "| 1 | 1000019 | 1000019 | 47 | 1 | 1 |\n",
       "| 2 | 1000022 | 1000022 | 53 | 0 | 1 |\n",
       "| 3 | 1000035 | 1000035 | 63 | 0 | 1 |\n",
       "| 4 | 1000046 | 1000046 | 73 | 1 | 1 |\n",
       "| 5 | 1000054 | 1000054 | 65 | 1 | 1 |\n",
       "| 6 | 1000063 | 1000063 | 43 | 0 | 0 |\n",
       "\n"
      ],
      "text/plain": [
       "  FID     IID     age_final_noise sex hearing_noise_cat\n",
       "1 1000019 1000019 47              1   1                \n",
       "2 1000022 1000022 53              0   1                \n",
       "3 1000035 1000035 63              0   1                \n",
       "4 1000046 1000046 73              1   1                \n",
       "5 1000054 1000054 65              1   1                \n",
       "6 1000063 1000063 43              0   0                "
      ]
     },
     "metadata": {},
     "output_type": "display_data"
    },
    {
     "data": {
      "text/html": [
       "<style>\n",
       ".list-inline {list-style: none; margin:0; padding: 0}\n",
       ".list-inline>li {display: inline-block}\n",
       ".list-inline>li:not(:last-child)::after {content: \"\\00b7\"; padding: 0 .5ex}\n",
       "</style>\n",
       "<ol class=list-inline><li>343605</li><li>5</li></ol>\n"
      ],
      "text/latex": [
       "\\begin{enumerate*}\n",
       "\\item 343605\n",
       "\\item 5\n",
       "\\end{enumerate*}\n"
      ],
      "text/markdown": [
       "1. 343605\n",
       "2. 5\n",
       "\n",
       "\n"
      ],
      "text/plain": [
       "[1] 343605      5"
      ]
     },
     "metadata": {},
     "output_type": "display_data"
    }
   ],
   "source": [
    "f.2257_pheno <- df_3393_2247_2257 %>%\n",
    "    filter(!(is.na(hearing_noise_cat))) %>%\n",
    "    select(FID, IID, age_final_noise, sex, hearing_noise_cat)\n",
    "head(f.2257_pheno)\n",
    "dim(f.2257_pheno)"
   ]
  },
  {
   "cell_type": "code",
   "execution_count": 109,
   "metadata": {
    "kernel": "R"
   },
   "outputs": [],
   "source": [
    "write.table(f.2257_pheno, '200828_UKBB_Hearing_background_noise_f2257', quote = FALSE, row.names = FALSE)"
   ]
  },
  {
   "cell_type": "markdown",
   "metadata": {
    "kernel": "R"
   },
   "source": [
    "## Combined phenotype f.2247 and f.2257"
   ]
  },
  {
   "cell_type": "code",
   "execution_count": 114,
   "metadata": {
    "kernel": "R"
   },
   "outputs": [
    {
     "data": {
      "text/html": [
       "<table>\n",
       "<caption>A data.frame: 6 × 1096</caption>\n",
       "<thead>\n",
       "\t<tr><th></th><th scope=col>IID</th><th scope=col>FID</th><th scope=col>ignore1</th><th scope=col>ignore2</th><th scope=col>ignore3</th><th scope=col>ignore4</th><th scope=col>f.31.0.0</th><th scope=col>f.34.0.0</th><th scope=col>f.53.0.0</th><th scope=col>f.53.1.0</th><th scope=col>⋯</th><th scope=col>f.3393.3.0_recode</th><th scope=col>hearing_aid_cat</th><th scope=col>age_final_aid</th><th scope=col>hearing_diff_cat</th><th scope=col>age_final_diff</th><th scope=col>hearing_diff_cat_new</th><th scope=col>hearing_aid_cat_new</th><th scope=col>hearing_diff_new</th><th scope=col>hearing_noise_cat</th><th scope=col>age_final_noise</th></tr>\n",
       "\t<tr><th></th><th scope=col>&lt;int&gt;</th><th scope=col>&lt;int&gt;</th><th scope=col>&lt;int&gt;</th><th scope=col>&lt;int&gt;</th><th scope=col>&lt;int&gt;</th><th scope=col>&lt;int&gt;</th><th scope=col>&lt;fct&gt;</th><th scope=col>&lt;int&gt;</th><th scope=col>&lt;fct&gt;</th><th scope=col>&lt;fct&gt;</th><th scope=col>⋯</th><th scope=col>&lt;fct&gt;</th><th scope=col>&lt;int&gt;</th><th scope=col>&lt;int&gt;</th><th scope=col>&lt;int&gt;</th><th scope=col>&lt;int&gt;</th><th scope=col>&lt;fct&gt;</th><th scope=col>&lt;fct&gt;</th><th scope=col>&lt;fct&gt;</th><th scope=col>&lt;int&gt;</th><th scope=col>&lt;int&gt;</th></tr>\n",
       "</thead>\n",
       "<tbody>\n",
       "\t<tr><th scope=row>1</th><td>1000035</td><td>1000035</td><td>0</td><td>0</td><td>1</td><td>-9</td><td>Male  </td><td>1944</td><td>2007-11-08</td><td>NA</td><td>⋯</td><td>NA</td><td>0</td><td>63</td><td>0</td><td>63</td><td>control</td><td>control</td><td>0</td><td>1</td><td>63</td></tr>\n",
       "\t<tr><th scope=row>2</th><td>1000046</td><td>1000046</td><td>0</td><td>0</td><td>2</td><td>-9</td><td>Female</td><td>1946</td><td>2008-12-01</td><td>NA</td><td>⋯</td><td>NA</td><td>0</td><td>73</td><td>0</td><td>73</td><td>control</td><td>control</td><td>0</td><td>1</td><td>73</td></tr>\n",
       "\t<tr><th scope=row>3</th><td>1000054</td><td>1000054</td><td>0</td><td>0</td><td>2</td><td>-9</td><td>Female</td><td>1942</td><td>2007-11-23</td><td>NA</td><td>⋯</td><td>NA</td><td>0</td><td>65</td><td>0</td><td>65</td><td>control</td><td>control</td><td>0</td><td>1</td><td>65</td></tr>\n",
       "\t<tr><th scope=row>4</th><td>1000164</td><td>1000164</td><td>0</td><td>0</td><td>2</td><td>-9</td><td>Female</td><td>1958</td><td>2009-06-26</td><td>NA</td><td>⋯</td><td>NA</td><td>0</td><td>51</td><td>0</td><td>51</td><td>control</td><td>control</td><td>0</td><td>1</td><td>51</td></tr>\n",
       "\t<tr><th scope=row>5</th><td>1000318</td><td>1000318</td><td>0</td><td>0</td><td>1</td><td>-9</td><td>Male  </td><td>1955</td><td>2008-02-28</td><td>NA</td><td>⋯</td><td>NA</td><td>0</td><td>52</td><td>0</td><td>52</td><td>control</td><td>control</td><td>0</td><td>1</td><td>52</td></tr>\n",
       "\t<tr><th scope=row>6</th><td>1000745</td><td>1000745</td><td>0</td><td>0</td><td>1</td><td>-9</td><td>Male  </td><td>1949</td><td>2009-11-19</td><td>NA</td><td>⋯</td><td>NA</td><td>0</td><td>60</td><td>1</td><td>60</td><td>case   </td><td>control</td><td>1</td><td>0</td><td>60</td></tr>\n",
       "</tbody>\n",
       "</table>\n"
      ],
      "text/latex": [
       "A data.frame: 6 × 1096\n",
       "\\begin{tabular}{r|lllllllllllllllllllll}\n",
       "  & IID & FID & ignore1 & ignore2 & ignore3 & ignore4 & f.31.0.0 & f.34.0.0 & f.53.0.0 & f.53.1.0 & ⋯ & f.3393.3.0\\_recode & hearing\\_aid\\_cat & age\\_final\\_aid & hearing\\_diff\\_cat & age\\_final\\_diff & hearing\\_diff\\_cat\\_new & hearing\\_aid\\_cat\\_new & hearing\\_diff\\_new & hearing\\_noise\\_cat & age\\_final\\_noise\\\\\n",
       "  & <int> & <int> & <int> & <int> & <int> & <int> & <fct> & <int> & <fct> & <fct> & ⋯ & <fct> & <int> & <int> & <int> & <int> & <fct> & <fct> & <fct> & <int> & <int>\\\\\n",
       "\\hline\n",
       "\t1 & 1000035 & 1000035 & 0 & 0 & 1 & -9 & Male   & 1944 & 2007-11-08 & NA & ⋯ & NA & 0 & 63 & 0 & 63 & control & control & 0 & 1 & 63\\\\\n",
       "\t2 & 1000046 & 1000046 & 0 & 0 & 2 & -9 & Female & 1946 & 2008-12-01 & NA & ⋯ & NA & 0 & 73 & 0 & 73 & control & control & 0 & 1 & 73\\\\\n",
       "\t3 & 1000054 & 1000054 & 0 & 0 & 2 & -9 & Female & 1942 & 2007-11-23 & NA & ⋯ & NA & 0 & 65 & 0 & 65 & control & control & 0 & 1 & 65\\\\\n",
       "\t4 & 1000164 & 1000164 & 0 & 0 & 2 & -9 & Female & 1958 & 2009-06-26 & NA & ⋯ & NA & 0 & 51 & 0 & 51 & control & control & 0 & 1 & 51\\\\\n",
       "\t5 & 1000318 & 1000318 & 0 & 0 & 1 & -9 & Male   & 1955 & 2008-02-28 & NA & ⋯ & NA & 0 & 52 & 0 & 52 & control & control & 0 & 1 & 52\\\\\n",
       "\t6 & 1000745 & 1000745 & 0 & 0 & 1 & -9 & Male   & 1949 & 2009-11-19 & NA & ⋯ & NA & 0 & 60 & 1 & 60 & case    & control & 1 & 0 & 60\\\\\n",
       "\\end{tabular}\n"
      ],
      "text/markdown": [
       "\n",
       "A data.frame: 6 × 1096\n",
       "\n",
       "| <!--/--> | IID &lt;int&gt; | FID &lt;int&gt; | ignore1 &lt;int&gt; | ignore2 &lt;int&gt; | ignore3 &lt;int&gt; | ignore4 &lt;int&gt; | f.31.0.0 &lt;fct&gt; | f.34.0.0 &lt;int&gt; | f.53.0.0 &lt;fct&gt; | f.53.1.0 &lt;fct&gt; | ⋯ ⋯ | f.3393.3.0_recode &lt;fct&gt; | hearing_aid_cat &lt;int&gt; | age_final_aid &lt;int&gt; | hearing_diff_cat &lt;int&gt; | age_final_diff &lt;int&gt; | hearing_diff_cat_new &lt;fct&gt; | hearing_aid_cat_new &lt;fct&gt; | hearing_diff_new &lt;fct&gt; | hearing_noise_cat &lt;int&gt; | age_final_noise &lt;int&gt; |\n",
       "|---|---|---|---|---|---|---|---|---|---|---|---|---|---|---|---|---|---|---|---|---|---|\n",
       "| 1 | 1000035 | 1000035 | 0 | 0 | 1 | -9 | Male   | 1944 | 2007-11-08 | NA | ⋯ | NA | 0 | 63 | 0 | 63 | control | control | 0 | 1 | 63 |\n",
       "| 2 | 1000046 | 1000046 | 0 | 0 | 2 | -9 | Female | 1946 | 2008-12-01 | NA | ⋯ | NA | 0 | 73 | 0 | 73 | control | control | 0 | 1 | 73 |\n",
       "| 3 | 1000054 | 1000054 | 0 | 0 | 2 | -9 | Female | 1942 | 2007-11-23 | NA | ⋯ | NA | 0 | 65 | 0 | 65 | control | control | 0 | 1 | 65 |\n",
       "| 4 | 1000164 | 1000164 | 0 | 0 | 2 | -9 | Female | 1958 | 2009-06-26 | NA | ⋯ | NA | 0 | 51 | 0 | 51 | control | control | 0 | 1 | 51 |\n",
       "| 5 | 1000318 | 1000318 | 0 | 0 | 1 | -9 | Male   | 1955 | 2008-02-28 | NA | ⋯ | NA | 0 | 52 | 0 | 52 | control | control | 0 | 1 | 52 |\n",
       "| 6 | 1000745 | 1000745 | 0 | 0 | 1 | -9 | Male   | 1949 | 2009-11-19 | NA | ⋯ | NA | 0 | 60 | 1 | 60 | case    | control | 1 | 0 | 60 |\n",
       "\n"
      ],
      "text/plain": [
       "  IID     FID     ignore1 ignore2 ignore3 ignore4 f.31.0.0 f.34.0.0 f.53.0.0  \n",
       "1 1000035 1000035 0       0       1       -9      Male     1944     2007-11-08\n",
       "2 1000046 1000046 0       0       2       -9      Female   1946     2008-12-01\n",
       "3 1000054 1000054 0       0       2       -9      Female   1942     2007-11-23\n",
       "4 1000164 1000164 0       0       2       -9      Female   1958     2009-06-26\n",
       "5 1000318 1000318 0       0       1       -9      Male     1955     2008-02-28\n",
       "6 1000745 1000745 0       0       1       -9      Male     1949     2009-11-19\n",
       "  f.53.1.0 ⋯ f.3393.3.0_recode hearing_aid_cat age_final_aid hearing_diff_cat\n",
       "1 NA       ⋯ NA                0               63            0               \n",
       "2 NA       ⋯ NA                0               73            0               \n",
       "3 NA       ⋯ NA                0               65            0               \n",
       "4 NA       ⋯ NA                0               51            0               \n",
       "5 NA       ⋯ NA                0               52            0               \n",
       "6 NA       ⋯ NA                0               60            1               \n",
       "  age_final_diff hearing_diff_cat_new hearing_aid_cat_new hearing_diff_new\n",
       "1 63             control              control             0               \n",
       "2 73             control              control             0               \n",
       "3 65             control              control             0               \n",
       "4 51             control              control             0               \n",
       "5 52             control              control             0               \n",
       "6 60             case                 control             1               \n",
       "  hearing_noise_cat age_final_noise\n",
       "1 1                 63             \n",
       "2 1                 73             \n",
       "3 1                 65             \n",
       "4 1                 51             \n",
       "5 1                 52             \n",
       "6 0                 60             "
      ]
     },
     "metadata": {},
     "output_type": "display_data"
    },
    {
     "name": "stdout",
     "output_type": "stream",
     "text": [
      "There are  60855 individuals inconsistent for f.2247 and f.2257"
     ]
    }
   ],
   "source": [
    "hybrid_inconsistent <- df_3393_2247_2257 %>%\n",
    " filter(hearing_noise_cat != hearing_diff_new)\n",
    "head(hybrid_inconsistent)\n",
    "cat (\"There are \",nrow(hybrid_inconsistent),\"individuals inconsistent for f.2247 and f.2257\")"
   ]
  },
  {
   "cell_type": "code",
   "execution_count": 115,
   "metadata": {
    "kernel": "R"
   },
   "outputs": [
    {
     "data": {
      "text/html": [
       "329501"
      ],
      "text/latex": [
       "329501"
      ],
      "text/markdown": [
       "329501"
      ],
      "text/plain": [
       "[1] 329501"
      ]
     },
     "metadata": {},
     "output_type": "display_data"
    }
   ],
   "source": [
    "length(which(!is.na(df_3393_2247_2257$hearing_noise_cat) & !is.na(df_3393_2247_2257$hearing_diff_new)))"
   ]
  },
  {
   "cell_type": "code",
   "execution_count": 116,
   "metadata": {
    "kernel": "R"
   },
   "outputs": [
    {
     "data": {
      "text/html": [
       "<table>\n",
       "<caption>A data.frame: 6 × 1096</caption>\n",
       "<thead>\n",
       "\t<tr><th></th><th scope=col>IID</th><th scope=col>FID</th><th scope=col>ignore1</th><th scope=col>ignore2</th><th scope=col>ignore3</th><th scope=col>ignore4</th><th scope=col>f.31.0.0</th><th scope=col>f.34.0.0</th><th scope=col>f.53.0.0</th><th scope=col>f.53.1.0</th><th scope=col>⋯</th><th scope=col>f.3393.3.0_recode</th><th scope=col>hearing_aid_cat</th><th scope=col>age_final_aid</th><th scope=col>hearing_diff_cat</th><th scope=col>age_final_diff</th><th scope=col>hearing_diff_cat_new</th><th scope=col>hearing_aid_cat_new</th><th scope=col>hearing_diff_new</th><th scope=col>hearing_noise_cat</th><th scope=col>age_final_noise</th></tr>\n",
       "\t<tr><th></th><th scope=col>&lt;int&gt;</th><th scope=col>&lt;int&gt;</th><th scope=col>&lt;int&gt;</th><th scope=col>&lt;int&gt;</th><th scope=col>&lt;int&gt;</th><th scope=col>&lt;int&gt;</th><th scope=col>&lt;fct&gt;</th><th scope=col>&lt;int&gt;</th><th scope=col>&lt;fct&gt;</th><th scope=col>&lt;fct&gt;</th><th scope=col>⋯</th><th scope=col>&lt;fct&gt;</th><th scope=col>&lt;int&gt;</th><th scope=col>&lt;int&gt;</th><th scope=col>&lt;int&gt;</th><th scope=col>&lt;int&gt;</th><th scope=col>&lt;fct&gt;</th><th scope=col>&lt;fct&gt;</th><th scope=col>&lt;fct&gt;</th><th scope=col>&lt;int&gt;</th><th scope=col>&lt;int&gt;</th></tr>\n",
       "</thead>\n",
       "<tbody>\n",
       "\t<tr><th scope=row>1</th><td>1000019</td><td>1000019</td><td>0</td><td>0</td><td>2</td><td>-9</td><td>Female</td><td>1960</td><td>2008-01-24</td><td>NA        </td><td>⋯</td><td>NA</td><td> 0</td><td>47</td><td>1</td><td>47</td><td>case   </td><td>control</td><td>1</td><td>1</td><td>47</td></tr>\n",
       "\t<tr><th scope=row>2</th><td>1000022</td><td>1000022</td><td>0</td><td>0</td><td>1</td><td>-9</td><td>Male  </td><td>1954</td><td>2008-01-22</td><td>NA        </td><td>⋯</td><td>NA</td><td> 0</td><td>53</td><td>1</td><td>53</td><td>case   </td><td>control</td><td>1</td><td>1</td><td>53</td></tr>\n",
       "\t<tr><th scope=row>3</th><td>1000063</td><td>1000063</td><td>0</td><td>0</td><td>1</td><td>-9</td><td>Male  </td><td>1967</td><td>2010-06-26</td><td>NA        </td><td>⋯</td><td>NA</td><td> 0</td><td>43</td><td>0</td><td>43</td><td>control</td><td>control</td><td>0</td><td>0</td><td>43</td></tr>\n",
       "\t<tr><th scope=row>4</th><td>1000078</td><td>1000078</td><td>0</td><td>0</td><td>2</td><td>-9</td><td>Female</td><td>1955</td><td>2007-08-20</td><td>2012-11-01</td><td>⋯</td><td>NA</td><td> 0</td><td>60</td><td>0</td><td>60</td><td>control</td><td>control</td><td>0</td><td>0</td><td>60</td></tr>\n",
       "\t<tr><th scope=row>5</th><td>1000112</td><td>1000112</td><td>0</td><td>0</td><td>1</td><td>-9</td><td>Male  </td><td>1949</td><td>2008-04-01</td><td>NA        </td><td>⋯</td><td>NA</td><td> 1</td><td>68</td><td>1</td><td>68</td><td>case   </td><td>case   </td><td>1</td><td>1</td><td>68</td></tr>\n",
       "\t<tr><th scope=row>6</th><td>1000129</td><td>1000129</td><td>0</td><td>0</td><td>1</td><td>-9</td><td>Male  </td><td>1946</td><td>2009-03-20</td><td>NA        </td><td>⋯</td><td>NA</td><td>NA</td><td>NA</td><td>0</td><td>62</td><td>control</td><td>NA     </td><td>0</td><td>0</td><td>62</td></tr>\n",
       "</tbody>\n",
       "</table>\n"
      ],
      "text/latex": [
       "A data.frame: 6 × 1096\n",
       "\\begin{tabular}{r|lllllllllllllllllllll}\n",
       "  & IID & FID & ignore1 & ignore2 & ignore3 & ignore4 & f.31.0.0 & f.34.0.0 & f.53.0.0 & f.53.1.0 & ⋯ & f.3393.3.0\\_recode & hearing\\_aid\\_cat & age\\_final\\_aid & hearing\\_diff\\_cat & age\\_final\\_diff & hearing\\_diff\\_cat\\_new & hearing\\_aid\\_cat\\_new & hearing\\_diff\\_new & hearing\\_noise\\_cat & age\\_final\\_noise\\\\\n",
       "  & <int> & <int> & <int> & <int> & <int> & <int> & <fct> & <int> & <fct> & <fct> & ⋯ & <fct> & <int> & <int> & <int> & <int> & <fct> & <fct> & <fct> & <int> & <int>\\\\\n",
       "\\hline\n",
       "\t1 & 1000019 & 1000019 & 0 & 0 & 2 & -9 & Female & 1960 & 2008-01-24 & NA         & ⋯ & NA &  0 & 47 & 1 & 47 & case    & control & 1 & 1 & 47\\\\\n",
       "\t2 & 1000022 & 1000022 & 0 & 0 & 1 & -9 & Male   & 1954 & 2008-01-22 & NA         & ⋯ & NA &  0 & 53 & 1 & 53 & case    & control & 1 & 1 & 53\\\\\n",
       "\t3 & 1000063 & 1000063 & 0 & 0 & 1 & -9 & Male   & 1967 & 2010-06-26 & NA         & ⋯ & NA &  0 & 43 & 0 & 43 & control & control & 0 & 0 & 43\\\\\n",
       "\t4 & 1000078 & 1000078 & 0 & 0 & 2 & -9 & Female & 1955 & 2007-08-20 & 2012-11-01 & ⋯ & NA &  0 & 60 & 0 & 60 & control & control & 0 & 0 & 60\\\\\n",
       "\t5 & 1000112 & 1000112 & 0 & 0 & 1 & -9 & Male   & 1949 & 2008-04-01 & NA         & ⋯ & NA &  1 & 68 & 1 & 68 & case    & case    & 1 & 1 & 68\\\\\n",
       "\t6 & 1000129 & 1000129 & 0 & 0 & 1 & -9 & Male   & 1946 & 2009-03-20 & NA         & ⋯ & NA & NA & NA & 0 & 62 & control & NA      & 0 & 0 & 62\\\\\n",
       "\\end{tabular}\n"
      ],
      "text/markdown": [
       "\n",
       "A data.frame: 6 × 1096\n",
       "\n",
       "| <!--/--> | IID &lt;int&gt; | FID &lt;int&gt; | ignore1 &lt;int&gt; | ignore2 &lt;int&gt; | ignore3 &lt;int&gt; | ignore4 &lt;int&gt; | f.31.0.0 &lt;fct&gt; | f.34.0.0 &lt;int&gt; | f.53.0.0 &lt;fct&gt; | f.53.1.0 &lt;fct&gt; | ⋯ ⋯ | f.3393.3.0_recode &lt;fct&gt; | hearing_aid_cat &lt;int&gt; | age_final_aid &lt;int&gt; | hearing_diff_cat &lt;int&gt; | age_final_diff &lt;int&gt; | hearing_diff_cat_new &lt;fct&gt; | hearing_aid_cat_new &lt;fct&gt; | hearing_diff_new &lt;fct&gt; | hearing_noise_cat &lt;int&gt; | age_final_noise &lt;int&gt; |\n",
       "|---|---|---|---|---|---|---|---|---|---|---|---|---|---|---|---|---|---|---|---|---|---|\n",
       "| 1 | 1000019 | 1000019 | 0 | 0 | 2 | -9 | Female | 1960 | 2008-01-24 | NA         | ⋯ | NA |  0 | 47 | 1 | 47 | case    | control | 1 | 1 | 47 |\n",
       "| 2 | 1000022 | 1000022 | 0 | 0 | 1 | -9 | Male   | 1954 | 2008-01-22 | NA         | ⋯ | NA |  0 | 53 | 1 | 53 | case    | control | 1 | 1 | 53 |\n",
       "| 3 | 1000063 | 1000063 | 0 | 0 | 1 | -9 | Male   | 1967 | 2010-06-26 | NA         | ⋯ | NA |  0 | 43 | 0 | 43 | control | control | 0 | 0 | 43 |\n",
       "| 4 | 1000078 | 1000078 | 0 | 0 | 2 | -9 | Female | 1955 | 2007-08-20 | 2012-11-01 | ⋯ | NA |  0 | 60 | 0 | 60 | control | control | 0 | 0 | 60 |\n",
       "| 5 | 1000112 | 1000112 | 0 | 0 | 1 | -9 | Male   | 1949 | 2008-04-01 | NA         | ⋯ | NA |  1 | 68 | 1 | 68 | case    | case    | 1 | 1 | 68 |\n",
       "| 6 | 1000129 | 1000129 | 0 | 0 | 1 | -9 | Male   | 1946 | 2009-03-20 | NA         | ⋯ | NA | NA | NA | 0 | 62 | control | NA      | 0 | 0 | 62 |\n",
       "\n"
      ],
      "text/plain": [
       "  IID     FID     ignore1 ignore2 ignore3 ignore4 f.31.0.0 f.34.0.0 f.53.0.0  \n",
       "1 1000019 1000019 0       0       2       -9      Female   1960     2008-01-24\n",
       "2 1000022 1000022 0       0       1       -9      Male     1954     2008-01-22\n",
       "3 1000063 1000063 0       0       1       -9      Male     1967     2010-06-26\n",
       "4 1000078 1000078 0       0       2       -9      Female   1955     2007-08-20\n",
       "5 1000112 1000112 0       0       1       -9      Male     1949     2008-04-01\n",
       "6 1000129 1000129 0       0       1       -9      Male     1946     2009-03-20\n",
       "  f.53.1.0   ⋯ f.3393.3.0_recode hearing_aid_cat age_final_aid hearing_diff_cat\n",
       "1 NA         ⋯ NA                 0              47            1               \n",
       "2 NA         ⋯ NA                 0              53            1               \n",
       "3 NA         ⋯ NA                 0              43            0               \n",
       "4 2012-11-01 ⋯ NA                 0              60            0               \n",
       "5 NA         ⋯ NA                 1              68            1               \n",
       "6 NA         ⋯ NA                NA              NA            0               \n",
       "  age_final_diff hearing_diff_cat_new hearing_aid_cat_new hearing_diff_new\n",
       "1 47             case                 control             1               \n",
       "2 53             case                 control             1               \n",
       "3 43             control              control             0               \n",
       "4 60             control              control             0               \n",
       "5 68             case                 case                1               \n",
       "6 62             control              NA                  0               \n",
       "  hearing_noise_cat age_final_noise\n",
       "1 1                 47             \n",
       "2 1                 53             \n",
       "3 0                 43             \n",
       "4 0                 60             \n",
       "5 1                 68             \n",
       "6 0                 62             "
      ]
     },
     "metadata": {},
     "output_type": "display_data"
    },
    {
     "name": "stdout",
     "output_type": "stream",
     "text": [
      "There are  268646 individuals consistent for f.2247 and f.2257"
     ]
    }
   ],
   "source": [
    "hybrid_consistent <- df_3393_2247_2257 %>%\n",
    " filter(hearing_noise_cat == hearing_diff_new)\n",
    "head(hybrid_consistent)\n",
    "cat (\"There are \",nrow(hybrid_consistent),\"individuals consistent for f.2247 and f.2257\")"
   ]
  },
  {
   "cell_type": "code",
   "execution_count": 117,
   "metadata": {
    "kernel": "R"
   },
   "outputs": [
    {
     "data": {
      "text/html": [
       "<table>\n",
       "<caption>A data.frame: 6 × 3</caption>\n",
       "<thead>\n",
       "\t<tr><th></th><th scope=col>IID</th><th scope=col>age_final_diff</th><th scope=col>age_final_noise</th></tr>\n",
       "\t<tr><th></th><th scope=col>&lt;int&gt;</th><th scope=col>&lt;int&gt;</th><th scope=col>&lt;int&gt;</th></tr>\n",
       "</thead>\n",
       "<tbody>\n",
       "\t<tr><th scope=row>1</th><td>1000019</td><td>47</td><td>47</td></tr>\n",
       "\t<tr><th scope=row>2</th><td>1000022</td><td>53</td><td>53</td></tr>\n",
       "\t<tr><th scope=row>3</th><td>1000063</td><td>43</td><td>43</td></tr>\n",
       "\t<tr><th scope=row>4</th><td>1000078</td><td>60</td><td>60</td></tr>\n",
       "\t<tr><th scope=row>5</th><td>1000112</td><td>68</td><td>68</td></tr>\n",
       "\t<tr><th scope=row>6</th><td>1000129</td><td>62</td><td>62</td></tr>\n",
       "</tbody>\n",
       "</table>\n"
      ],
      "text/latex": [
       "A data.frame: 6 × 3\n",
       "\\begin{tabular}{r|lll}\n",
       "  & IID & age\\_final\\_diff & age\\_final\\_noise\\\\\n",
       "  & <int> & <int> & <int>\\\\\n",
       "\\hline\n",
       "\t1 & 1000019 & 47 & 47\\\\\n",
       "\t2 & 1000022 & 53 & 53\\\\\n",
       "\t3 & 1000063 & 43 & 43\\\\\n",
       "\t4 & 1000078 & 60 & 60\\\\\n",
       "\t5 & 1000112 & 68 & 68\\\\\n",
       "\t6 & 1000129 & 62 & 62\\\\\n",
       "\\end{tabular}\n"
      ],
      "text/markdown": [
       "\n",
       "A data.frame: 6 × 3\n",
       "\n",
       "| <!--/--> | IID &lt;int&gt; | age_final_diff &lt;int&gt; | age_final_noise &lt;int&gt; |\n",
       "|---|---|---|---|\n",
       "| 1 | 1000019 | 47 | 47 |\n",
       "| 2 | 1000022 | 53 | 53 |\n",
       "| 3 | 1000063 | 43 | 43 |\n",
       "| 4 | 1000078 | 60 | 60 |\n",
       "| 5 | 1000112 | 68 | 68 |\n",
       "| 6 | 1000129 | 62 | 62 |\n",
       "\n"
      ],
      "text/plain": [
       "  IID     age_final_diff age_final_noise\n",
       "1 1000019 47             47             \n",
       "2 1000022 53             53             \n",
       "3 1000063 43             43             \n",
       "4 1000078 60             60             \n",
       "5 1000112 68             68             \n",
       "6 1000129 62             62             "
      ]
     },
     "metadata": {},
     "output_type": "display_data"
    }
   ],
   "source": [
    "age_consistency <- hybrid_consistent %>%\n",
    "    select(IID, age_final_diff, age_final_noise)\n",
    "head(age_consistency)"
   ]
  },
  {
   "cell_type": "code",
   "execution_count": 118,
   "metadata": {
    "kernel": "R"
   },
   "outputs": [
    {
     "data": {
      "text/html": [
       "FALSE"
      ],
      "text/latex": [
       "FALSE"
      ],
      "text/markdown": [
       "FALSE"
      ],
      "text/plain": [
       "[1] FALSE"
      ]
     },
     "metadata": {},
     "output_type": "display_data"
    }
   ],
   "source": [
    "# There are inconsistencies for the age between hearing difficulty and background noise\n",
    "all(age_consistency$age_final_diff == age_consistency$age_final_noise)"
   ]
  },
  {
   "cell_type": "code",
   "execution_count": 119,
   "metadata": {
    "kernel": "R"
   },
   "outputs": [
    {
     "data": {
      "text/html": [
       "<table>\n",
       "<caption>A data.frame: 6 × 1096</caption>\n",
       "<thead>\n",
       "\t<tr><th></th><th scope=col>IID</th><th scope=col>FID</th><th scope=col>ignore1</th><th scope=col>ignore2</th><th scope=col>ignore3</th><th scope=col>ignore4</th><th scope=col>f.31.0.0</th><th scope=col>f.34.0.0</th><th scope=col>f.53.0.0</th><th scope=col>f.53.1.0</th><th scope=col>⋯</th><th scope=col>f.3393.3.0_recode</th><th scope=col>hearing_aid_cat</th><th scope=col>age_final_aid</th><th scope=col>hearing_diff_cat</th><th scope=col>age_final_diff</th><th scope=col>hearing_diff_cat_new</th><th scope=col>hearing_aid_cat_new</th><th scope=col>hearing_diff_new</th><th scope=col>hearing_noise_cat</th><th scope=col>age_final_noise</th></tr>\n",
       "\t<tr><th></th><th scope=col>&lt;int&gt;</th><th scope=col>&lt;int&gt;</th><th scope=col>&lt;int&gt;</th><th scope=col>&lt;int&gt;</th><th scope=col>&lt;int&gt;</th><th scope=col>&lt;int&gt;</th><th scope=col>&lt;fct&gt;</th><th scope=col>&lt;int&gt;</th><th scope=col>&lt;fct&gt;</th><th scope=col>&lt;fct&gt;</th><th scope=col>⋯</th><th scope=col>&lt;fct&gt;</th><th scope=col>&lt;int&gt;</th><th scope=col>&lt;int&gt;</th><th scope=col>&lt;int&gt;</th><th scope=col>&lt;int&gt;</th><th scope=col>&lt;fct&gt;</th><th scope=col>&lt;fct&gt;</th><th scope=col>&lt;fct&gt;</th><th scope=col>&lt;int&gt;</th><th scope=col>&lt;int&gt;</th></tr>\n",
       "</thead>\n",
       "<tbody>\n",
       "\t<tr><th scope=row>1</th><td>1002378</td><td>1002378</td><td>0</td><td>0</td><td>1</td><td>-9</td><td>Male  </td><td>1950</td><td>2008-11-01</td><td>NA</td><td>⋯</td><td>NA</td><td>0</td><td>68</td><td>1</td><td>58</td><td>case</td><td>control</td><td>1</td><td>1</td><td>68</td></tr>\n",
       "\t<tr><th scope=row>2</th><td>1006407</td><td>1006407</td><td>0</td><td>0</td><td>2</td><td>-9</td><td>Female</td><td>1949</td><td>2008-09-30</td><td>NA</td><td>⋯</td><td>NA</td><td>0</td><td>65</td><td>1</td><td>59</td><td>case</td><td>control</td><td>1</td><td>1</td><td>65</td></tr>\n",
       "\t<tr><th scope=row>3</th><td>1006513</td><td>1006513</td><td>0</td><td>0</td><td>2</td><td>-9</td><td>Female</td><td>1955</td><td>2010-02-23</td><td>NA</td><td>⋯</td><td>NA</td><td>1</td><td>59</td><td>1</td><td>59</td><td>case</td><td>case   </td><td>1</td><td>1</td><td>54</td></tr>\n",
       "\t<tr><th scope=row>4</th><td>1008266</td><td>1008266</td><td>0</td><td>0</td><td>1</td><td>-9</td><td>Male  </td><td>1949</td><td>2008-04-30</td><td>NA</td><td>⋯</td><td>NA</td><td>0</td><td>69</td><td>1</td><td>58</td><td>case</td><td>control</td><td>1</td><td>1</td><td>69</td></tr>\n",
       "\t<tr><th scope=row>5</th><td>1012730</td><td>1012730</td><td>0</td><td>0</td><td>1</td><td>-9</td><td>Male  </td><td>1947</td><td>2010-05-26</td><td>NA</td><td>⋯</td><td>0 </td><td>0</td><td>73</td><td>1</td><td>70</td><td>case</td><td>control</td><td>1</td><td>1</td><td>63</td></tr>\n",
       "\t<tr><th scope=row>6</th><td>1015865</td><td>1015865</td><td>0</td><td>0</td><td>2</td><td>-9</td><td>Female</td><td>1948</td><td>2010-04-27</td><td>NA</td><td>⋯</td><td>NA</td><td>0</td><td>71</td><td>1</td><td>71</td><td>case</td><td>control</td><td>1</td><td>1</td><td>62</td></tr>\n",
       "</tbody>\n",
       "</table>\n"
      ],
      "text/latex": [
       "A data.frame: 6 × 1096\n",
       "\\begin{tabular}{r|lllllllllllllllllllll}\n",
       "  & IID & FID & ignore1 & ignore2 & ignore3 & ignore4 & f.31.0.0 & f.34.0.0 & f.53.0.0 & f.53.1.0 & ⋯ & f.3393.3.0\\_recode & hearing\\_aid\\_cat & age\\_final\\_aid & hearing\\_diff\\_cat & age\\_final\\_diff & hearing\\_diff\\_cat\\_new & hearing\\_aid\\_cat\\_new & hearing\\_diff\\_new & hearing\\_noise\\_cat & age\\_final\\_noise\\\\\n",
       "  & <int> & <int> & <int> & <int> & <int> & <int> & <fct> & <int> & <fct> & <fct> & ⋯ & <fct> & <int> & <int> & <int> & <int> & <fct> & <fct> & <fct> & <int> & <int>\\\\\n",
       "\\hline\n",
       "\t1 & 1002378 & 1002378 & 0 & 0 & 1 & -9 & Male   & 1950 & 2008-11-01 & NA & ⋯ & NA & 0 & 68 & 1 & 58 & case & control & 1 & 1 & 68\\\\\n",
       "\t2 & 1006407 & 1006407 & 0 & 0 & 2 & -9 & Female & 1949 & 2008-09-30 & NA & ⋯ & NA & 0 & 65 & 1 & 59 & case & control & 1 & 1 & 65\\\\\n",
       "\t3 & 1006513 & 1006513 & 0 & 0 & 2 & -9 & Female & 1955 & 2010-02-23 & NA & ⋯ & NA & 1 & 59 & 1 & 59 & case & case    & 1 & 1 & 54\\\\\n",
       "\t4 & 1008266 & 1008266 & 0 & 0 & 1 & -9 & Male   & 1949 & 2008-04-30 & NA & ⋯ & NA & 0 & 69 & 1 & 58 & case & control & 1 & 1 & 69\\\\\n",
       "\t5 & 1012730 & 1012730 & 0 & 0 & 1 & -9 & Male   & 1947 & 2010-05-26 & NA & ⋯ & 0  & 0 & 73 & 1 & 70 & case & control & 1 & 1 & 63\\\\\n",
       "\t6 & 1015865 & 1015865 & 0 & 0 & 2 & -9 & Female & 1948 & 2010-04-27 & NA & ⋯ & NA & 0 & 71 & 1 & 71 & case & control & 1 & 1 & 62\\\\\n",
       "\\end{tabular}\n"
      ],
      "text/markdown": [
       "\n",
       "A data.frame: 6 × 1096\n",
       "\n",
       "| <!--/--> | IID &lt;int&gt; | FID &lt;int&gt; | ignore1 &lt;int&gt; | ignore2 &lt;int&gt; | ignore3 &lt;int&gt; | ignore4 &lt;int&gt; | f.31.0.0 &lt;fct&gt; | f.34.0.0 &lt;int&gt; | f.53.0.0 &lt;fct&gt; | f.53.1.0 &lt;fct&gt; | ⋯ ⋯ | f.3393.3.0_recode &lt;fct&gt; | hearing_aid_cat &lt;int&gt; | age_final_aid &lt;int&gt; | hearing_diff_cat &lt;int&gt; | age_final_diff &lt;int&gt; | hearing_diff_cat_new &lt;fct&gt; | hearing_aid_cat_new &lt;fct&gt; | hearing_diff_new &lt;fct&gt; | hearing_noise_cat &lt;int&gt; | age_final_noise &lt;int&gt; |\n",
       "|---|---|---|---|---|---|---|---|---|---|---|---|---|---|---|---|---|---|---|---|---|---|\n",
       "| 1 | 1002378 | 1002378 | 0 | 0 | 1 | -9 | Male   | 1950 | 2008-11-01 | NA | ⋯ | NA | 0 | 68 | 1 | 58 | case | control | 1 | 1 | 68 |\n",
       "| 2 | 1006407 | 1006407 | 0 | 0 | 2 | -9 | Female | 1949 | 2008-09-30 | NA | ⋯ | NA | 0 | 65 | 1 | 59 | case | control | 1 | 1 | 65 |\n",
       "| 3 | 1006513 | 1006513 | 0 | 0 | 2 | -9 | Female | 1955 | 2010-02-23 | NA | ⋯ | NA | 1 | 59 | 1 | 59 | case | case    | 1 | 1 | 54 |\n",
       "| 4 | 1008266 | 1008266 | 0 | 0 | 1 | -9 | Male   | 1949 | 2008-04-30 | NA | ⋯ | NA | 0 | 69 | 1 | 58 | case | control | 1 | 1 | 69 |\n",
       "| 5 | 1012730 | 1012730 | 0 | 0 | 1 | -9 | Male   | 1947 | 2010-05-26 | NA | ⋯ | 0  | 0 | 73 | 1 | 70 | case | control | 1 | 1 | 63 |\n",
       "| 6 | 1015865 | 1015865 | 0 | 0 | 2 | -9 | Female | 1948 | 2010-04-27 | NA | ⋯ | NA | 0 | 71 | 1 | 71 | case | control | 1 | 1 | 62 |\n",
       "\n"
      ],
      "text/plain": [
       "  IID     FID     ignore1 ignore2 ignore3 ignore4 f.31.0.0 f.34.0.0 f.53.0.0  \n",
       "1 1002378 1002378 0       0       1       -9      Male     1950     2008-11-01\n",
       "2 1006407 1006407 0       0       2       -9      Female   1949     2008-09-30\n",
       "3 1006513 1006513 0       0       2       -9      Female   1955     2010-02-23\n",
       "4 1008266 1008266 0       0       1       -9      Male     1949     2008-04-30\n",
       "5 1012730 1012730 0       0       1       -9      Male     1947     2010-05-26\n",
       "6 1015865 1015865 0       0       2       -9      Female   1948     2010-04-27\n",
       "  f.53.1.0 ⋯ f.3393.3.0_recode hearing_aid_cat age_final_aid hearing_diff_cat\n",
       "1 NA       ⋯ NA                0               68            1               \n",
       "2 NA       ⋯ NA                0               65            1               \n",
       "3 NA       ⋯ NA                1               59            1               \n",
       "4 NA       ⋯ NA                0               69            1               \n",
       "5 NA       ⋯ 0                 0               73            1               \n",
       "6 NA       ⋯ NA                0               71            1               \n",
       "  age_final_diff hearing_diff_cat_new hearing_aid_cat_new hearing_diff_new\n",
       "1 58             case                 control             1               \n",
       "2 59             case                 control             1               \n",
       "3 59             case                 case                1               \n",
       "4 58             case                 control             1               \n",
       "5 70             case                 control             1               \n",
       "6 71             case                 control             1               \n",
       "  hearing_noise_cat age_final_noise\n",
       "1 1                 68             \n",
       "2 1                 65             \n",
       "3 1                 54             \n",
       "4 1                 69             \n",
       "5 1                 63             \n",
       "6 1                 62             "
      ]
     },
     "metadata": {},
     "output_type": "display_data"
    },
    {
     "name": "stdout",
     "output_type": "stream",
     "text": [
      "There are 3278 individuals with inconsistent ages for hearing difficulty and background noise"
     ]
    }
   ],
   "source": [
    "age_inconsistency <- hybrid_consistent %>%\n",
    "    filter(age_final_diff != age_final_noise)\n",
    "head(age_inconsistency)\n",
    "cat (\"There are\",nrow(age_inconsistency), \"individuals with inconsistent ages for hearing difficulty and background noise\")"
   ]
  },
  {
   "cell_type": "code",
   "execution_count": 130,
   "metadata": {
    "kernel": "R"
   },
   "outputs": [
    {
     "data": {
      "text/html": [
       "<table>\n",
       "<caption>A data.frame: 6 × 7</caption>\n",
       "<thead>\n",
       "\t<tr><th></th><th scope=col>FID</th><th scope=col>IID</th><th scope=col>sex</th><th scope=col>hearing_diff_new</th><th scope=col>hearing_noise_cat</th><th scope=col>age_final_diff</th><th scope=col>age_final_noise</th></tr>\n",
       "\t<tr><th></th><th scope=col>&lt;int&gt;</th><th scope=col>&lt;int&gt;</th><th scope=col>&lt;fct&gt;</th><th scope=col>&lt;fct&gt;</th><th scope=col>&lt;int&gt;</th><th scope=col>&lt;int&gt;</th><th scope=col>&lt;int&gt;</th></tr>\n",
       "</thead>\n",
       "<tbody>\n",
       "\t<tr><th scope=row>1</th><td>1002378</td><td>1002378</td><td>0</td><td>1</td><td>1</td><td>58</td><td>68</td></tr>\n",
       "\t<tr><th scope=row>2</th><td>1006407</td><td>1006407</td><td>1</td><td>1</td><td>1</td><td>59</td><td>65</td></tr>\n",
       "\t<tr><th scope=row>3</th><td>1006513</td><td>1006513</td><td>1</td><td>1</td><td>1</td><td>59</td><td>54</td></tr>\n",
       "\t<tr><th scope=row>4</th><td>1008266</td><td>1008266</td><td>0</td><td>1</td><td>1</td><td>58</td><td>69</td></tr>\n",
       "\t<tr><th scope=row>5</th><td>1012730</td><td>1012730</td><td>0</td><td>1</td><td>1</td><td>70</td><td>63</td></tr>\n",
       "\t<tr><th scope=row>6</th><td>1015865</td><td>1015865</td><td>1</td><td>1</td><td>1</td><td>71</td><td>62</td></tr>\n",
       "</tbody>\n",
       "</table>\n"
      ],
      "text/latex": [
       "A data.frame: 6 × 7\n",
       "\\begin{tabular}{r|lllllll}\n",
       "  & FID & IID & sex & hearing\\_diff\\_new & hearing\\_noise\\_cat & age\\_final\\_diff & age\\_final\\_noise\\\\\n",
       "  & <int> & <int> & <fct> & <fct> & <int> & <int> & <int>\\\\\n",
       "\\hline\n",
       "\t1 & 1002378 & 1002378 & 0 & 1 & 1 & 58 & 68\\\\\n",
       "\t2 & 1006407 & 1006407 & 1 & 1 & 1 & 59 & 65\\\\\n",
       "\t3 & 1006513 & 1006513 & 1 & 1 & 1 & 59 & 54\\\\\n",
       "\t4 & 1008266 & 1008266 & 0 & 1 & 1 & 58 & 69\\\\\n",
       "\t5 & 1012730 & 1012730 & 0 & 1 & 1 & 70 & 63\\\\\n",
       "\t6 & 1015865 & 1015865 & 1 & 1 & 1 & 71 & 62\\\\\n",
       "\\end{tabular}\n"
      ],
      "text/markdown": [
       "\n",
       "A data.frame: 6 × 7\n",
       "\n",
       "| <!--/--> | FID &lt;int&gt; | IID &lt;int&gt; | sex &lt;fct&gt; | hearing_diff_new &lt;fct&gt; | hearing_noise_cat &lt;int&gt; | age_final_diff &lt;int&gt; | age_final_noise &lt;int&gt; |\n",
       "|---|---|---|---|---|---|---|---|\n",
       "| 1 | 1002378 | 1002378 | 0 | 1 | 1 | 58 | 68 |\n",
       "| 2 | 1006407 | 1006407 | 1 | 1 | 1 | 59 | 65 |\n",
       "| 3 | 1006513 | 1006513 | 1 | 1 | 1 | 59 | 54 |\n",
       "| 4 | 1008266 | 1008266 | 0 | 1 | 1 | 58 | 69 |\n",
       "| 5 | 1012730 | 1012730 | 0 | 1 | 1 | 70 | 63 |\n",
       "| 6 | 1015865 | 1015865 | 1 | 1 | 1 | 71 | 62 |\n",
       "\n"
      ],
      "text/plain": [
       "  FID     IID     sex hearing_diff_new hearing_noise_cat age_final_diff\n",
       "1 1002378 1002378 0   1                1                 58            \n",
       "2 1006407 1006407 1   1                1                 59            \n",
       "3 1006513 1006513 1   1                1                 59            \n",
       "4 1008266 1008266 0   1                1                 58            \n",
       "5 1012730 1012730 0   1                1                 70            \n",
       "6 1015865 1015865 1   1                1                 71            \n",
       "  age_final_noise\n",
       "1 68             \n",
       "2 65             \n",
       "3 54             \n",
       "4 69             \n",
       "5 63             \n",
       "6 62             "
      ]
     },
     "metadata": {},
     "output_type": "display_data"
    },
    {
     "name": "stdout",
     "output_type": "stream",
     "text": [
      "There are 3271 cases with inconsistent ages for hearing difficulty and background noise"
     ]
    }
   ],
   "source": [
    "age_inconsistency_cases <- hybrid_consistent %>%\n",
    "    filter(hearing_noise_cat == 1 &  hearing_diff_new ==1) %>%\n",
    "    filter(age_final_diff != age_final_noise) %>%\n",
    "    select(FID, IID, sex, hearing_diff_new, hearing_noise_cat, age_final_diff, age_final_noise)\n",
    "head(age_inconsistency_cases)\n",
    "cat (\"There are\",nrow(age_inconsistency_cases), \"cases with inconsistent ages for hearing difficulty and background noise\")"
   ]
  },
  {
   "cell_type": "code",
   "execution_count": 131,
   "metadata": {
    "kernel": "R"
   },
   "outputs": [
    {
     "data": {
      "text/html": [
       "<table>\n",
       "<caption>A data.frame: 6 × 7</caption>\n",
       "<thead>\n",
       "\t<tr><th></th><th scope=col>FID</th><th scope=col>IID</th><th scope=col>sex</th><th scope=col>hearing_diff_new</th><th scope=col>hearing_noise_cat</th><th scope=col>age_final_diff</th><th scope=col>age_final_noise</th></tr>\n",
       "\t<tr><th></th><th scope=col>&lt;int&gt;</th><th scope=col>&lt;int&gt;</th><th scope=col>&lt;fct&gt;</th><th scope=col>&lt;fct&gt;</th><th scope=col>&lt;int&gt;</th><th scope=col>&lt;int&gt;</th><th scope=col>&lt;int&gt;</th></tr>\n",
       "</thead>\n",
       "<tbody>\n",
       "\t<tr><th scope=row>1</th><td>1469184</td><td>1469184</td><td>0</td><td>0</td><td>0</td><td>70</td><td>63</td></tr>\n",
       "\t<tr><th scope=row>2</th><td>1740024</td><td>1740024</td><td>0</td><td>0</td><td>0</td><td>41</td><td>46</td></tr>\n",
       "\t<tr><th scope=row>3</th><td>2876630</td><td>2876630</td><td>1</td><td>0</td><td>0</td><td>65</td><td>75</td></tr>\n",
       "\t<tr><th scope=row>4</th><td>3618107</td><td>3618107</td><td>0</td><td>0</td><td>0</td><td>59</td><td>69</td></tr>\n",
       "\t<tr><th scope=row>5</th><td>3854162</td><td>3854162</td><td>0</td><td>0</td><td>0</td><td>50</td><td>48</td></tr>\n",
       "\t<tr><th scope=row>6</th><td>4366635</td><td>4366635</td><td>0</td><td>0</td><td>0</td><td>57</td><td>46</td></tr>\n",
       "</tbody>\n",
       "</table>\n"
      ],
      "text/latex": [
       "A data.frame: 6 × 7\n",
       "\\begin{tabular}{r|lllllll}\n",
       "  & FID & IID & sex & hearing\\_diff\\_new & hearing\\_noise\\_cat & age\\_final\\_diff & age\\_final\\_noise\\\\\n",
       "  & <int> & <int> & <fct> & <fct> & <int> & <int> & <int>\\\\\n",
       "\\hline\n",
       "\t1 & 1469184 & 1469184 & 0 & 0 & 0 & 70 & 63\\\\\n",
       "\t2 & 1740024 & 1740024 & 0 & 0 & 0 & 41 & 46\\\\\n",
       "\t3 & 2876630 & 2876630 & 1 & 0 & 0 & 65 & 75\\\\\n",
       "\t4 & 3618107 & 3618107 & 0 & 0 & 0 & 59 & 69\\\\\n",
       "\t5 & 3854162 & 3854162 & 0 & 0 & 0 & 50 & 48\\\\\n",
       "\t6 & 4366635 & 4366635 & 0 & 0 & 0 & 57 & 46\\\\\n",
       "\\end{tabular}\n"
      ],
      "text/markdown": [
       "\n",
       "A data.frame: 6 × 7\n",
       "\n",
       "| <!--/--> | FID &lt;int&gt; | IID &lt;int&gt; | sex &lt;fct&gt; | hearing_diff_new &lt;fct&gt; | hearing_noise_cat &lt;int&gt; | age_final_diff &lt;int&gt; | age_final_noise &lt;int&gt; |\n",
       "|---|---|---|---|---|---|---|---|\n",
       "| 1 | 1469184 | 1469184 | 0 | 0 | 0 | 70 | 63 |\n",
       "| 2 | 1740024 | 1740024 | 0 | 0 | 0 | 41 | 46 |\n",
       "| 3 | 2876630 | 2876630 | 1 | 0 | 0 | 65 | 75 |\n",
       "| 4 | 3618107 | 3618107 | 0 | 0 | 0 | 59 | 69 |\n",
       "| 5 | 3854162 | 3854162 | 0 | 0 | 0 | 50 | 48 |\n",
       "| 6 | 4366635 | 4366635 | 0 | 0 | 0 | 57 | 46 |\n",
       "\n"
      ],
      "text/plain": [
       "  FID     IID     sex hearing_diff_new hearing_noise_cat age_final_diff\n",
       "1 1469184 1469184 0   0                0                 70            \n",
       "2 1740024 1740024 0   0                0                 41            \n",
       "3 2876630 2876630 1   0                0                 65            \n",
       "4 3618107 3618107 0   0                0                 59            \n",
       "5 3854162 3854162 0   0                0                 50            \n",
       "6 4366635 4366635 0   0                0                 57            \n",
       "  age_final_noise\n",
       "1 63             \n",
       "2 46             \n",
       "3 75             \n",
       "4 69             \n",
       "5 48             \n",
       "6 46             "
      ]
     },
     "metadata": {},
     "output_type": "display_data"
    },
    {
     "name": "stdout",
     "output_type": "stream",
     "text": [
      "There are 7 controls with inconsistent ages for hearing difficulty and background noise"
     ]
    }
   ],
   "source": [
    "age_inconsistency_controls <- hybrid_consistent %>%\n",
    "    filter(hearing_noise_cat == 0 &  hearing_diff_new == 0) %>%\n",
    "    filter(age_final_diff != age_final_noise) %>%\n",
    "    select(FID, IID, sex, hearing_diff_new, hearing_noise_cat, age_final_diff, age_final_noise)\n",
    "head(age_inconsistency_controls)\n",
    "cat (\"There are\",nrow(age_inconsistency_controls), \"controls with inconsistent ages for hearing difficulty and background noise\")"
   ]
  },
  {
   "cell_type": "code",
   "execution_count": 137,
   "metadata": {
    "kernel": "R"
   },
   "outputs": [
    {
     "data": {
      "text/html": [
       "<table>\n",
       "<caption>A data.frame: 6 × 8</caption>\n",
       "<thead>\n",
       "\t<tr><th></th><th scope=col>FID</th><th scope=col>IID</th><th scope=col>sex</th><th scope=col>hearing_diff_new</th><th scope=col>hearing_noise_cat</th><th scope=col>age_final_diff</th><th scope=col>age_final_noise</th><th scope=col>age_diff_noise</th></tr>\n",
       "\t<tr><th></th><th scope=col>&lt;int&gt;</th><th scope=col>&lt;int&gt;</th><th scope=col>&lt;fct&gt;</th><th scope=col>&lt;fct&gt;</th><th scope=col>&lt;int&gt;</th><th scope=col>&lt;int&gt;</th><th scope=col>&lt;int&gt;</th><th scope=col>&lt;int&gt;</th></tr>\n",
       "</thead>\n",
       "<tbody>\n",
       "\t<tr><th scope=row>1</th><td>1002378</td><td>1002378</td><td>0</td><td>1</td><td>1</td><td>58</td><td>68</td><td>58</td></tr>\n",
       "\t<tr><th scope=row>2</th><td>1006407</td><td>1006407</td><td>1</td><td>1</td><td>1</td><td>59</td><td>65</td><td>59</td></tr>\n",
       "\t<tr><th scope=row>3</th><td>1006513</td><td>1006513</td><td>1</td><td>1</td><td>1</td><td>59</td><td>54</td><td>54</td></tr>\n",
       "\t<tr><th scope=row>4</th><td>1008266</td><td>1008266</td><td>0</td><td>1</td><td>1</td><td>58</td><td>69</td><td>58</td></tr>\n",
       "\t<tr><th scope=row>5</th><td>1012730</td><td>1012730</td><td>0</td><td>1</td><td>1</td><td>70</td><td>63</td><td>63</td></tr>\n",
       "\t<tr><th scope=row>6</th><td>1015865</td><td>1015865</td><td>1</td><td>1</td><td>1</td><td>71</td><td>62</td><td>62</td></tr>\n",
       "</tbody>\n",
       "</table>\n"
      ],
      "text/latex": [
       "A data.frame: 6 × 8\n",
       "\\begin{tabular}{r|llllllll}\n",
       "  & FID & IID & sex & hearing\\_diff\\_new & hearing\\_noise\\_cat & age\\_final\\_diff & age\\_final\\_noise & age\\_diff\\_noise\\\\\n",
       "  & <int> & <int> & <fct> & <fct> & <int> & <int> & <int> & <int>\\\\\n",
       "\\hline\n",
       "\t1 & 1002378 & 1002378 & 0 & 1 & 1 & 58 & 68 & 58\\\\\n",
       "\t2 & 1006407 & 1006407 & 1 & 1 & 1 & 59 & 65 & 59\\\\\n",
       "\t3 & 1006513 & 1006513 & 1 & 1 & 1 & 59 & 54 & 54\\\\\n",
       "\t4 & 1008266 & 1008266 & 0 & 1 & 1 & 58 & 69 & 58\\\\\n",
       "\t5 & 1012730 & 1012730 & 0 & 1 & 1 & 70 & 63 & 63\\\\\n",
       "\t6 & 1015865 & 1015865 & 1 & 1 & 1 & 71 & 62 & 62\\\\\n",
       "\\end{tabular}\n"
      ],
      "text/markdown": [
       "\n",
       "A data.frame: 6 × 8\n",
       "\n",
       "| <!--/--> | FID &lt;int&gt; | IID &lt;int&gt; | sex &lt;fct&gt; | hearing_diff_new &lt;fct&gt; | hearing_noise_cat &lt;int&gt; | age_final_diff &lt;int&gt; | age_final_noise &lt;int&gt; | age_diff_noise &lt;int&gt; |\n",
       "|---|---|---|---|---|---|---|---|---|\n",
       "| 1 | 1002378 | 1002378 | 0 | 1 | 1 | 58 | 68 | 58 |\n",
       "| 2 | 1006407 | 1006407 | 1 | 1 | 1 | 59 | 65 | 59 |\n",
       "| 3 | 1006513 | 1006513 | 1 | 1 | 1 | 59 | 54 | 54 |\n",
       "| 4 | 1008266 | 1008266 | 0 | 1 | 1 | 58 | 69 | 58 |\n",
       "| 5 | 1012730 | 1012730 | 0 | 1 | 1 | 70 | 63 | 63 |\n",
       "| 6 | 1015865 | 1015865 | 1 | 1 | 1 | 71 | 62 | 62 |\n",
       "\n"
      ],
      "text/plain": [
       "  FID     IID     sex hearing_diff_new hearing_noise_cat age_final_diff\n",
       "1 1002378 1002378 0   1                1                 58            \n",
       "2 1006407 1006407 1   1                1                 59            \n",
       "3 1006513 1006513 1   1                1                 59            \n",
       "4 1008266 1008266 0   1                1                 58            \n",
       "5 1012730 1012730 0   1                1                 70            \n",
       "6 1015865 1015865 1   1                1                 71            \n",
       "  age_final_noise age_diff_noise\n",
       "1 68              58            \n",
       "2 65              59            \n",
       "3 54              54            \n",
       "4 69              58            \n",
       "5 63              63            \n",
       "6 62              62            "
      ]
     },
     "metadata": {},
     "output_type": "display_data"
    }
   ],
   "source": [
    "#get the minimum age for 2247 and 2257 for cases\n",
    "age_inconsistency_cases <- transform(age_inconsistency_cases, age_diff_noise = pmin(age_final_noise, age_final_diff))\n",
    "head(age_inconsistency_cases)"
   ]
  },
  {
   "cell_type": "code",
   "execution_count": 138,
   "metadata": {
    "kernel": "R"
   },
   "outputs": [
    {
     "data": {
      "text/html": [
       "<table>\n",
       "<caption>A data.frame: 7 × 8</caption>\n",
       "<thead>\n",
       "\t<tr><th></th><th scope=col>FID</th><th scope=col>IID</th><th scope=col>sex</th><th scope=col>hearing_diff_new</th><th scope=col>hearing_noise_cat</th><th scope=col>age_final_diff</th><th scope=col>age_final_noise</th><th scope=col>age_diff_noise</th></tr>\n",
       "\t<tr><th></th><th scope=col>&lt;int&gt;</th><th scope=col>&lt;int&gt;</th><th scope=col>&lt;fct&gt;</th><th scope=col>&lt;fct&gt;</th><th scope=col>&lt;int&gt;</th><th scope=col>&lt;int&gt;</th><th scope=col>&lt;int&gt;</th><th scope=col>&lt;int&gt;</th></tr>\n",
       "</thead>\n",
       "<tbody>\n",
       "\t<tr><th scope=row>1</th><td>1469184</td><td>1469184</td><td>0</td><td>0</td><td>0</td><td>70</td><td>63</td><td>70</td></tr>\n",
       "\t<tr><th scope=row>2</th><td>1740024</td><td>1740024</td><td>0</td><td>0</td><td>0</td><td>41</td><td>46</td><td>46</td></tr>\n",
       "\t<tr><th scope=row>3</th><td>2876630</td><td>2876630</td><td>1</td><td>0</td><td>0</td><td>65</td><td>75</td><td>75</td></tr>\n",
       "\t<tr><th scope=row>4</th><td>3618107</td><td>3618107</td><td>0</td><td>0</td><td>0</td><td>59</td><td>69</td><td>69</td></tr>\n",
       "\t<tr><th scope=row>5</th><td>3854162</td><td>3854162</td><td>0</td><td>0</td><td>0</td><td>50</td><td>48</td><td>50</td></tr>\n",
       "\t<tr><th scope=row>6</th><td>4366635</td><td>4366635</td><td>0</td><td>0</td><td>0</td><td>57</td><td>46</td><td>57</td></tr>\n",
       "\t<tr><th scope=row>7</th><td>5668953</td><td>5668953</td><td>1</td><td>0</td><td>0</td><td>74</td><td>69</td><td>74</td></tr>\n",
       "</tbody>\n",
       "</table>\n"
      ],
      "text/latex": [
       "A data.frame: 7 × 8\n",
       "\\begin{tabular}{r|llllllll}\n",
       "  & FID & IID & sex & hearing\\_diff\\_new & hearing\\_noise\\_cat & age\\_final\\_diff & age\\_final\\_noise & age\\_diff\\_noise\\\\\n",
       "  & <int> & <int> & <fct> & <fct> & <int> & <int> & <int> & <int>\\\\\n",
       "\\hline\n",
       "\t1 & 1469184 & 1469184 & 0 & 0 & 0 & 70 & 63 & 70\\\\\n",
       "\t2 & 1740024 & 1740024 & 0 & 0 & 0 & 41 & 46 & 46\\\\\n",
       "\t3 & 2876630 & 2876630 & 1 & 0 & 0 & 65 & 75 & 75\\\\\n",
       "\t4 & 3618107 & 3618107 & 0 & 0 & 0 & 59 & 69 & 69\\\\\n",
       "\t5 & 3854162 & 3854162 & 0 & 0 & 0 & 50 & 48 & 50\\\\\n",
       "\t6 & 4366635 & 4366635 & 0 & 0 & 0 & 57 & 46 & 57\\\\\n",
       "\t7 & 5668953 & 5668953 & 1 & 0 & 0 & 74 & 69 & 74\\\\\n",
       "\\end{tabular}\n"
      ],
      "text/markdown": [
       "\n",
       "A data.frame: 7 × 8\n",
       "\n",
       "| <!--/--> | FID &lt;int&gt; | IID &lt;int&gt; | sex &lt;fct&gt; | hearing_diff_new &lt;fct&gt; | hearing_noise_cat &lt;int&gt; | age_final_diff &lt;int&gt; | age_final_noise &lt;int&gt; | age_diff_noise &lt;int&gt; |\n",
       "|---|---|---|---|---|---|---|---|---|\n",
       "| 1 | 1469184 | 1469184 | 0 | 0 | 0 | 70 | 63 | 70 |\n",
       "| 2 | 1740024 | 1740024 | 0 | 0 | 0 | 41 | 46 | 46 |\n",
       "| 3 | 2876630 | 2876630 | 1 | 0 | 0 | 65 | 75 | 75 |\n",
       "| 4 | 3618107 | 3618107 | 0 | 0 | 0 | 59 | 69 | 69 |\n",
       "| 5 | 3854162 | 3854162 | 0 | 0 | 0 | 50 | 48 | 50 |\n",
       "| 6 | 4366635 | 4366635 | 0 | 0 | 0 | 57 | 46 | 57 |\n",
       "| 7 | 5668953 | 5668953 | 1 | 0 | 0 | 74 | 69 | 74 |\n",
       "\n"
      ],
      "text/plain": [
       "  FID     IID     sex hearing_diff_new hearing_noise_cat age_final_diff\n",
       "1 1469184 1469184 0   0                0                 70            \n",
       "2 1740024 1740024 0   0                0                 41            \n",
       "3 2876630 2876630 1   0                0                 65            \n",
       "4 3618107 3618107 0   0                0                 59            \n",
       "5 3854162 3854162 0   0                0                 50            \n",
       "6 4366635 4366635 0   0                0                 57            \n",
       "7 5668953 5668953 1   0                0                 74            \n",
       "  age_final_noise age_diff_noise\n",
       "1 63              70            \n",
       "2 46              46            \n",
       "3 75              75            \n",
       "4 69              69            \n",
       "5 48              50            \n",
       "6 46              57            \n",
       "7 69              74            "
      ]
     },
     "metadata": {},
     "output_type": "display_data"
    }
   ],
   "source": [
    "#get the maximun age for 2247 and 2257 for controls\n",
    "age_inconsistency_controls <- transform(age_inconsistency_controls, age_diff_noise = pmax(age_final_noise, age_final_diff))\n",
    "head(age_inconsistency_controls,10)"
   ]
  },
  {
   "cell_type": "code",
   "execution_count": 144,
   "metadata": {
    "kernel": "R"
   },
   "outputs": [
    {
     "data": {
      "text/html": [
       "3278"
      ],
      "text/latex": [
       "3278"
      ],
      "text/markdown": [
       "3278"
      ],
      "text/plain": [
       "[1] 3278"
      ]
     },
     "metadata": {},
     "output_type": "display_data"
    },
    {
     "data": {
      "text/html": [
       "<table>\n",
       "<caption>A data.frame: 6 × 8</caption>\n",
       "<thead>\n",
       "\t<tr><th></th><th scope=col>FID</th><th scope=col>IID</th><th scope=col>sex</th><th scope=col>hearing_diff_new</th><th scope=col>hearing_noise_cat</th><th scope=col>age_final_diff</th><th scope=col>age_final_noise</th><th scope=col>age_diff_noise</th></tr>\n",
       "\t<tr><th></th><th scope=col>&lt;int&gt;</th><th scope=col>&lt;int&gt;</th><th scope=col>&lt;fct&gt;</th><th scope=col>&lt;fct&gt;</th><th scope=col>&lt;int&gt;</th><th scope=col>&lt;int&gt;</th><th scope=col>&lt;int&gt;</th><th scope=col>&lt;int&gt;</th></tr>\n",
       "</thead>\n",
       "<tbody>\n",
       "\t<tr><th scope=row>1</th><td>1002378</td><td>1002378</td><td>0</td><td>1</td><td>1</td><td>58</td><td>68</td><td>58</td></tr>\n",
       "\t<tr><th scope=row>2</th><td>1006407</td><td>1006407</td><td>1</td><td>1</td><td>1</td><td>59</td><td>65</td><td>59</td></tr>\n",
       "\t<tr><th scope=row>3</th><td>1006513</td><td>1006513</td><td>1</td><td>1</td><td>1</td><td>59</td><td>54</td><td>54</td></tr>\n",
       "\t<tr><th scope=row>4</th><td>1008266</td><td>1008266</td><td>0</td><td>1</td><td>1</td><td>58</td><td>69</td><td>58</td></tr>\n",
       "\t<tr><th scope=row>5</th><td>1012730</td><td>1012730</td><td>0</td><td>1</td><td>1</td><td>70</td><td>63</td><td>63</td></tr>\n",
       "\t<tr><th scope=row>6</th><td>1015865</td><td>1015865</td><td>1</td><td>1</td><td>1</td><td>71</td><td>62</td><td>62</td></tr>\n",
       "</tbody>\n",
       "</table>\n"
      ],
      "text/latex": [
       "A data.frame: 6 × 8\n",
       "\\begin{tabular}{r|llllllll}\n",
       "  & FID & IID & sex & hearing\\_diff\\_new & hearing\\_noise\\_cat & age\\_final\\_diff & age\\_final\\_noise & age\\_diff\\_noise\\\\\n",
       "  & <int> & <int> & <fct> & <fct> & <int> & <int> & <int> & <int>\\\\\n",
       "\\hline\n",
       "\t1 & 1002378 & 1002378 & 0 & 1 & 1 & 58 & 68 & 58\\\\\n",
       "\t2 & 1006407 & 1006407 & 1 & 1 & 1 & 59 & 65 & 59\\\\\n",
       "\t3 & 1006513 & 1006513 & 1 & 1 & 1 & 59 & 54 & 54\\\\\n",
       "\t4 & 1008266 & 1008266 & 0 & 1 & 1 & 58 & 69 & 58\\\\\n",
       "\t5 & 1012730 & 1012730 & 0 & 1 & 1 & 70 & 63 & 63\\\\\n",
       "\t6 & 1015865 & 1015865 & 1 & 1 & 1 & 71 & 62 & 62\\\\\n",
       "\\end{tabular}\n"
      ],
      "text/markdown": [
       "\n",
       "A data.frame: 6 × 8\n",
       "\n",
       "| <!--/--> | FID &lt;int&gt; | IID &lt;int&gt; | sex &lt;fct&gt; | hearing_diff_new &lt;fct&gt; | hearing_noise_cat &lt;int&gt; | age_final_diff &lt;int&gt; | age_final_noise &lt;int&gt; | age_diff_noise &lt;int&gt; |\n",
       "|---|---|---|---|---|---|---|---|---|\n",
       "| 1 | 1002378 | 1002378 | 0 | 1 | 1 | 58 | 68 | 58 |\n",
       "| 2 | 1006407 | 1006407 | 1 | 1 | 1 | 59 | 65 | 59 |\n",
       "| 3 | 1006513 | 1006513 | 1 | 1 | 1 | 59 | 54 | 54 |\n",
       "| 4 | 1008266 | 1008266 | 0 | 1 | 1 | 58 | 69 | 58 |\n",
       "| 5 | 1012730 | 1012730 | 0 | 1 | 1 | 70 | 63 | 63 |\n",
       "| 6 | 1015865 | 1015865 | 1 | 1 | 1 | 71 | 62 | 62 |\n",
       "\n"
      ],
      "text/plain": [
       "  FID     IID     sex hearing_diff_new hearing_noise_cat age_final_diff\n",
       "1 1002378 1002378 0   1                1                 58            \n",
       "2 1006407 1006407 1   1                1                 59            \n",
       "3 1006513 1006513 1   1                1                 59            \n",
       "4 1008266 1008266 0   1                1                 58            \n",
       "5 1012730 1012730 0   1                1                 70            \n",
       "6 1015865 1015865 1   1                1                 71            \n",
       "  age_final_noise age_diff_noise\n",
       "1 68              58            \n",
       "2 65              59            \n",
       "3 54              54            \n",
       "4 69              58            \n",
       "5 63              63            \n",
       "6 62              62            "
      ]
     },
     "metadata": {},
     "output_type": "display_data"
    }
   ],
   "source": [
    "age_solved <- rbind(age_inconsistency_cases, age_inconsistency_controls)\n",
    "nrow(age_solved)\n",
    "head(age_solved)"
   ]
  },
  {
   "cell_type": "code",
   "execution_count": 143,
   "metadata": {
    "kernel": "R"
   },
   "outputs": [
    {
     "data": {
      "text/html": [
       "<table>\n",
       "<caption>A data.frame: 6 × 8</caption>\n",
       "<thead>\n",
       "\t<tr><th></th><th scope=col>FID</th><th scope=col>IID</th><th scope=col>sex</th><th scope=col>hearing_diff_new</th><th scope=col>hearing_noise_cat</th><th scope=col>age_final_diff</th><th scope=col>age_final_noise</th><th scope=col>age_diff_noise</th></tr>\n",
       "\t<tr><th></th><th scope=col>&lt;int&gt;</th><th scope=col>&lt;int&gt;</th><th scope=col>&lt;fct&gt;</th><th scope=col>&lt;fct&gt;</th><th scope=col>&lt;int&gt;</th><th scope=col>&lt;int&gt;</th><th scope=col>&lt;int&gt;</th><th scope=col>&lt;int&gt;</th></tr>\n",
       "</thead>\n",
       "<tbody>\n",
       "\t<tr><th scope=row>1</th><td>1000019</td><td>1000019</td><td>1</td><td>1</td><td>1</td><td>47</td><td>47</td><td>47</td></tr>\n",
       "\t<tr><th scope=row>2</th><td>1000022</td><td>1000022</td><td>0</td><td>1</td><td>1</td><td>53</td><td>53</td><td>53</td></tr>\n",
       "\t<tr><th scope=row>3</th><td>1000063</td><td>1000063</td><td>0</td><td>0</td><td>0</td><td>43</td><td>43</td><td>43</td></tr>\n",
       "\t<tr><th scope=row>4</th><td>1000078</td><td>1000078</td><td>1</td><td>0</td><td>0</td><td>60</td><td>60</td><td>60</td></tr>\n",
       "\t<tr><th scope=row>5</th><td>1000112</td><td>1000112</td><td>0</td><td>1</td><td>1</td><td>68</td><td>68</td><td>68</td></tr>\n",
       "\t<tr><th scope=row>6</th><td>1000129</td><td>1000129</td><td>0</td><td>0</td><td>0</td><td>62</td><td>62</td><td>62</td></tr>\n",
       "</tbody>\n",
       "</table>\n"
      ],
      "text/latex": [
       "A data.frame: 6 × 8\n",
       "\\begin{tabular}{r|llllllll}\n",
       "  & FID & IID & sex & hearing\\_diff\\_new & hearing\\_noise\\_cat & age\\_final\\_diff & age\\_final\\_noise & age\\_diff\\_noise\\\\\n",
       "  & <int> & <int> & <fct> & <fct> & <int> & <int> & <int> & <int>\\\\\n",
       "\\hline\n",
       "\t1 & 1000019 & 1000019 & 1 & 1 & 1 & 47 & 47 & 47\\\\\n",
       "\t2 & 1000022 & 1000022 & 0 & 1 & 1 & 53 & 53 & 53\\\\\n",
       "\t3 & 1000063 & 1000063 & 0 & 0 & 0 & 43 & 43 & 43\\\\\n",
       "\t4 & 1000078 & 1000078 & 1 & 0 & 0 & 60 & 60 & 60\\\\\n",
       "\t5 & 1000112 & 1000112 & 0 & 1 & 1 & 68 & 68 & 68\\\\\n",
       "\t6 & 1000129 & 1000129 & 0 & 0 & 0 & 62 & 62 & 62\\\\\n",
       "\\end{tabular}\n"
      ],
      "text/markdown": [
       "\n",
       "A data.frame: 6 × 8\n",
       "\n",
       "| <!--/--> | FID &lt;int&gt; | IID &lt;int&gt; | sex &lt;fct&gt; | hearing_diff_new &lt;fct&gt; | hearing_noise_cat &lt;int&gt; | age_final_diff &lt;int&gt; | age_final_noise &lt;int&gt; | age_diff_noise &lt;int&gt; |\n",
       "|---|---|---|---|---|---|---|---|---|\n",
       "| 1 | 1000019 | 1000019 | 1 | 1 | 1 | 47 | 47 | 47 |\n",
       "| 2 | 1000022 | 1000022 | 0 | 1 | 1 | 53 | 53 | 53 |\n",
       "| 3 | 1000063 | 1000063 | 0 | 0 | 0 | 43 | 43 | 43 |\n",
       "| 4 | 1000078 | 1000078 | 1 | 0 | 0 | 60 | 60 | 60 |\n",
       "| 5 | 1000112 | 1000112 | 0 | 1 | 1 | 68 | 68 | 68 |\n",
       "| 6 | 1000129 | 1000129 | 0 | 0 | 0 | 62 | 62 | 62 |\n",
       "\n"
      ],
      "text/plain": [
       "  FID     IID     sex hearing_diff_new hearing_noise_cat age_final_diff\n",
       "1 1000019 1000019 1   1                1                 47            \n",
       "2 1000022 1000022 0   1                1                 53            \n",
       "3 1000063 1000063 0   0                0                 43            \n",
       "4 1000078 1000078 1   0                0                 60            \n",
       "5 1000112 1000112 0   1                1                 68            \n",
       "6 1000129 1000129 0   0                0                 62            \n",
       "  age_final_noise age_diff_noise\n",
       "1 47              47            \n",
       "2 53              53            \n",
       "3 43              43            \n",
       "4 60              60            \n",
       "5 68              68            \n",
       "6 62              62            "
      ]
     },
     "metadata": {},
     "output_type": "display_data"
    },
    {
     "name": "stdout",
     "output_type": "stream",
     "text": [
      "There are  265368 individuals consistent for age and phenotype for f.2247 and f.2257"
     ]
    }
   ],
   "source": [
    "hybrid_age_consistent <- hybrid_consistent  %>%\n",
    "    filter(age_final_diff == age_final_noise) %>%\n",
    "    select(FID, IID, sex, hearing_diff_new, hearing_noise_cat, age_final_diff, age_final_noise) %>%\n",
    "    mutate(age_diff_noise = age_final_diff) \n",
    "head(hybrid_age_consistent)\n",
    "cat (\"There are \",nrow(hybrid_age_consistent),\"individuals consistent for age and phenotype for f.2247 and f.2257\")"
   ]
  },
  {
   "cell_type": "code",
   "execution_count": 150,
   "metadata": {
    "kernel": "R"
   },
   "outputs": [
    {
     "data": {
      "text/html": [
       "<table>\n",
       "<caption>A data.frame: 6 × 8</caption>\n",
       "<thead>\n",
       "\t<tr><th></th><th scope=col>FID</th><th scope=col>IID</th><th scope=col>sex</th><th scope=col>hearing_diff_new</th><th scope=col>hearing_noise_cat</th><th scope=col>age_final_diff</th><th scope=col>age_final_noise</th><th scope=col>age_diff_noise</th></tr>\n",
       "\t<tr><th></th><th scope=col>&lt;int&gt;</th><th scope=col>&lt;int&gt;</th><th scope=col>&lt;fct&gt;</th><th scope=col>&lt;fct&gt;</th><th scope=col>&lt;int&gt;</th><th scope=col>&lt;int&gt;</th><th scope=col>&lt;int&gt;</th><th scope=col>&lt;int&gt;</th></tr>\n",
       "</thead>\n",
       "<tbody>\n",
       "\t<tr><th scope=row>1</th><td>1000019</td><td>1000019</td><td>1</td><td>1</td><td>1</td><td>47</td><td>47</td><td>47</td></tr>\n",
       "\t<tr><th scope=row>2</th><td>1000022</td><td>1000022</td><td>0</td><td>1</td><td>1</td><td>53</td><td>53</td><td>53</td></tr>\n",
       "\t<tr><th scope=row>3</th><td>1000063</td><td>1000063</td><td>0</td><td>0</td><td>0</td><td>43</td><td>43</td><td>43</td></tr>\n",
       "\t<tr><th scope=row>4</th><td>1000078</td><td>1000078</td><td>1</td><td>0</td><td>0</td><td>60</td><td>60</td><td>60</td></tr>\n",
       "\t<tr><th scope=row>5</th><td>1000112</td><td>1000112</td><td>0</td><td>1</td><td>1</td><td>68</td><td>68</td><td>68</td></tr>\n",
       "\t<tr><th scope=row>6</th><td>1000129</td><td>1000129</td><td>0</td><td>0</td><td>0</td><td>62</td><td>62</td><td>62</td></tr>\n",
       "</tbody>\n",
       "</table>\n"
      ],
      "text/latex": [
       "A data.frame: 6 × 8\n",
       "\\begin{tabular}{r|llllllll}\n",
       "  & FID & IID & sex & hearing\\_diff\\_new & hearing\\_noise\\_cat & age\\_final\\_diff & age\\_final\\_noise & age\\_diff\\_noise\\\\\n",
       "  & <int> & <int> & <fct> & <fct> & <int> & <int> & <int> & <int>\\\\\n",
       "\\hline\n",
       "\t1 & 1000019 & 1000019 & 1 & 1 & 1 & 47 & 47 & 47\\\\\n",
       "\t2 & 1000022 & 1000022 & 0 & 1 & 1 & 53 & 53 & 53\\\\\n",
       "\t3 & 1000063 & 1000063 & 0 & 0 & 0 & 43 & 43 & 43\\\\\n",
       "\t4 & 1000078 & 1000078 & 1 & 0 & 0 & 60 & 60 & 60\\\\\n",
       "\t5 & 1000112 & 1000112 & 0 & 1 & 1 & 68 & 68 & 68\\\\\n",
       "\t6 & 1000129 & 1000129 & 0 & 0 & 0 & 62 & 62 & 62\\\\\n",
       "\\end{tabular}\n"
      ],
      "text/markdown": [
       "\n",
       "A data.frame: 6 × 8\n",
       "\n",
       "| <!--/--> | FID &lt;int&gt; | IID &lt;int&gt; | sex &lt;fct&gt; | hearing_diff_new &lt;fct&gt; | hearing_noise_cat &lt;int&gt; | age_final_diff &lt;int&gt; | age_final_noise &lt;int&gt; | age_diff_noise &lt;int&gt; |\n",
       "|---|---|---|---|---|---|---|---|---|\n",
       "| 1 | 1000019 | 1000019 | 1 | 1 | 1 | 47 | 47 | 47 |\n",
       "| 2 | 1000022 | 1000022 | 0 | 1 | 1 | 53 | 53 | 53 |\n",
       "| 3 | 1000063 | 1000063 | 0 | 0 | 0 | 43 | 43 | 43 |\n",
       "| 4 | 1000078 | 1000078 | 1 | 0 | 0 | 60 | 60 | 60 |\n",
       "| 5 | 1000112 | 1000112 | 0 | 1 | 1 | 68 | 68 | 68 |\n",
       "| 6 | 1000129 | 1000129 | 0 | 0 | 0 | 62 | 62 | 62 |\n",
       "\n"
      ],
      "text/plain": [
       "  FID     IID     sex hearing_diff_new hearing_noise_cat age_final_diff\n",
       "1 1000019 1000019 1   1                1                 47            \n",
       "2 1000022 1000022 0   1                1                 53            \n",
       "3 1000063 1000063 0   0                0                 43            \n",
       "4 1000078 1000078 1   0                0                 60            \n",
       "5 1000112 1000112 0   1                1                 68            \n",
       "6 1000129 1000129 0   0                0                 62            \n",
       "  age_final_noise age_diff_noise\n",
       "1 47              47            \n",
       "2 53              53            \n",
       "3 43              43            \n",
       "4 60              60            \n",
       "5 68              68            \n",
       "6 62              62            "
      ]
     },
     "metadata": {},
     "output_type": "display_data"
    },
    {
     "data": {
      "text/html": [
       "268646"
      ],
      "text/latex": [
       "268646"
      ],
      "text/markdown": [
       "268646"
      ],
      "text/plain": [
       "[1] 268646"
      ]
     },
     "metadata": {},
     "output_type": "display_data"
    }
   ],
   "source": [
    "f2247_f2257_pheno <- rbind (hybrid_age_consistent, age_solved)\n",
    "head(f2247_f2257_pheno)\n",
    "nrow(f2247_f2257_pheno)"
   ]
  },
  {
   "cell_type": "code",
   "execution_count": 151,
   "metadata": {
    "kernel": "R"
   },
   "outputs": [
    {
     "data": {
      "text/html": [
       "<table>\n",
       "<caption>A data.frame: 6 × 5</caption>\n",
       "<thead>\n",
       "\t<tr><th></th><th scope=col>FID</th><th scope=col>IID</th><th scope=col>age</th><th scope=col>sex</th><th scope=col>f2247_f2257</th></tr>\n",
       "\t<tr><th></th><th scope=col>&lt;int&gt;</th><th scope=col>&lt;int&gt;</th><th scope=col>&lt;int&gt;</th><th scope=col>&lt;fct&gt;</th><th scope=col>&lt;fct&gt;</th></tr>\n",
       "</thead>\n",
       "<tbody>\n",
       "\t<tr><th scope=row>1</th><td>1000019</td><td>1000019</td><td>47</td><td>1</td><td>1</td></tr>\n",
       "\t<tr><th scope=row>2</th><td>1000022</td><td>1000022</td><td>53</td><td>0</td><td>1</td></tr>\n",
       "\t<tr><th scope=row>3</th><td>1000063</td><td>1000063</td><td>43</td><td>0</td><td>0</td></tr>\n",
       "\t<tr><th scope=row>4</th><td>1000078</td><td>1000078</td><td>60</td><td>1</td><td>0</td></tr>\n",
       "\t<tr><th scope=row>5</th><td>1000112</td><td>1000112</td><td>68</td><td>0</td><td>1</td></tr>\n",
       "\t<tr><th scope=row>6</th><td>1000129</td><td>1000129</td><td>62</td><td>0</td><td>0</td></tr>\n",
       "</tbody>\n",
       "</table>\n"
      ],
      "text/latex": [
       "A data.frame: 6 × 5\n",
       "\\begin{tabular}{r|lllll}\n",
       "  & FID & IID & age & sex & f2247\\_f2257\\\\\n",
       "  & <int> & <int> & <int> & <fct> & <fct>\\\\\n",
       "\\hline\n",
       "\t1 & 1000019 & 1000019 & 47 & 1 & 1\\\\\n",
       "\t2 & 1000022 & 1000022 & 53 & 0 & 1\\\\\n",
       "\t3 & 1000063 & 1000063 & 43 & 0 & 0\\\\\n",
       "\t4 & 1000078 & 1000078 & 60 & 1 & 0\\\\\n",
       "\t5 & 1000112 & 1000112 & 68 & 0 & 1\\\\\n",
       "\t6 & 1000129 & 1000129 & 62 & 0 & 0\\\\\n",
       "\\end{tabular}\n"
      ],
      "text/markdown": [
       "\n",
       "A data.frame: 6 × 5\n",
       "\n",
       "| <!--/--> | FID &lt;int&gt; | IID &lt;int&gt; | age &lt;int&gt; | sex &lt;fct&gt; | f2247_f2257 &lt;fct&gt; |\n",
       "|---|---|---|---|---|---|\n",
       "| 1 | 1000019 | 1000019 | 47 | 1 | 1 |\n",
       "| 2 | 1000022 | 1000022 | 53 | 0 | 1 |\n",
       "| 3 | 1000063 | 1000063 | 43 | 0 | 0 |\n",
       "| 4 | 1000078 | 1000078 | 60 | 1 | 0 |\n",
       "| 5 | 1000112 | 1000112 | 68 | 0 | 1 |\n",
       "| 6 | 1000129 | 1000129 | 62 | 0 | 0 |\n",
       "\n"
      ],
      "text/plain": [
       "  FID     IID     age sex f2247_f2257\n",
       "1 1000019 1000019 47  1   1          \n",
       "2 1000022 1000022 53  0   1          \n",
       "3 1000063 1000063 43  0   0          \n",
       "4 1000078 1000078 60  1   0          \n",
       "5 1000112 1000112 68  0   1          \n",
       "6 1000129 1000129 62  0   0          "
      ]
     },
     "metadata": {},
     "output_type": "display_data"
    }
   ],
   "source": [
    "names(f2247_f2257_pheno)[names(f2247_f2257_pheno) == 'hearing_diff_new'] <- 'f2247_f2257'\n",
    "names(f2247_f2257_pheno)[names(f2247_f2257_pheno) == 'age_diff_noise'] <- 'age'\n",
    "f2247_f2257_pheno <- f2247_f2257_pheno %>%\n",
    " select(FID, IID, age, sex, f2247_f2257 )\n",
    "head(f2247_f2257_pheno)"
   ]
  },
  {
   "cell_type": "code",
   "execution_count": 152,
   "metadata": {
    "kernel": "R"
   },
   "outputs": [],
   "source": [
    "write.table(f2247_f2257_pheno, '200828_UKBB_f2247_f2257', quote = FALSE, row.names = FALSE)"
   ]
  }
 ],
 "metadata": {
  "kernelspec": {
   "display_name": "SoS",
   "language": "sos",
   "name": "sos"
  },
  "language_info": {
   "codemirror_mode": "sos",
   "file_extension": ".sos",
   "mimetype": "text/x-sos",
   "name": "sos",
   "nbconvert_exporter": "sos_notebook.converter.SoS_Exporter",
   "pygments_lexer": "sos"
  },
  "sos": {
   "kernels": [
    [
     "R",
     "ir",
     "R",
     "#DCDCDA",
     "r"
    ],
    [
     "SoS",
     "sos",
     "",
     "",
     "sos"
    ]
   ],
   "version": "0.21.12"
  }
 },
 "nbformat": 4,
 "nbformat_minor": 4
}
