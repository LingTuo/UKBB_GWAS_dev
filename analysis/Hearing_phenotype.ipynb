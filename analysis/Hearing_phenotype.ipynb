{
 "cells": [
  {
   "cell_type": "markdown",
   "metadata": {
    "kernel": "SoS"
   },
   "source": [
    "# Phenotypes:\n",
    "1. Hearing aids (f.3393)\n",
    "2. Hearing difficulty/problems (f.2247)\n",
    "3. Hearing difficulty/background noise (f.2257)"
   ]
  },
  {
   "cell_type": "markdown",
   "metadata": {
    "kernel": "SoS"
   },
   "source": [
    "## Aim\n",
    "\n",
    "Create a dataset of filtered individuals using the inclusion and exclusion criteria for diverse hearing related phenotyes to perform association analyses using the LMM.ipynb. "
   ]
  },
  {
   "cell_type": "markdown",
   "metadata": {
    "kernel": "SoS"
   },
   "source": [
    "## Location of files\n",
    "\n",
    "In the shared folder is the original UKBB data\n",
    "```\n",
    "/gpfs/gibbs/pi/dewan/data/UKBiobank/phenotype_files/pleiotropy_R01/ukb42495_updatedJune2020\n",
    "```\n",
    "\n",
    "In my personal folder the filtered dataset\n",
    "\n",
    "```\n",
    "/home/dc2325/project/HI_UKBB\n",
    "```\n",
    "\n",
    "In the phenotypes folder important phenotypic files \n",
    "\n",
    "```\n",
    "/gpfs/gibbs/pi/dewan/data/UKBiobank/phenotype_files/hearing_impairment\n",
    "```"
   ]
  },
  {
   "cell_type": "markdown",
   "metadata": {
    "kernel": "SoS"
   },
   "source": [
    "## Important phenotypic files\n",
    "\n",
    "1. `200804_UKBB_HI_genotypeqc.csv` File containing all individuals that passed QC and hearing impairment variables\n",
    "2. `200804_UKBB_HI_genotypeqc_excr.csv` File with applied exclusion criteria as indicated [here](https://docs.google.com/document/d/1cpxTzElpsEkwmBDjnMBHg2wW7CL1AcG_b0_0wE_k5rQ/edit). **Note**: this file excludes individuals with otosclerosis, Meniere's and other diseases, if you need to filter those particular phenotypes use file 1 instead.\n",
    "3. `200811_UKBB_Tinnitus_plan1_2_3_f4803` File with filtered phenotypes for tinnitus plan 1,2 and 3 and imputed noise variables\n",
    "4. `200814_UKBB_HI_genotypeqc_excr_impvars` Database with qc'ed individuals, exclusion criteria, noise imputed vars and tinnitus phenotypes"
   ]
  },
  {
   "cell_type": "markdown",
   "metadata": {
    "kernel": "SoS"
   },
   "source": [
    "## Analysis plan\n",
    "\n",
    "The phenotypes to be analyzed are the following:\n",
    "\n",
    "1. Hearing aid user (f.3393)\n",
    "\"Do you use a hearing aid most of the time?\"\n",
    "\n",
    "2. Hearing difficulty/problems (f.2247)\n",
    "\"Do you have any difficulty with your hearing?\"\n",
    "\n",
    "3. Hearing difficulty/background noise (f.2257)\n",
    "\"Do you find it difficult to follow a conversation if there is background noise (such as TV, radio, children playing)?\"\n",
    "\n",
    "**Sex corresponds to f.22001 (genetic sex):**\n",
    "\n",
    "- Male = 0\n",
    "- Female = 1\n",
    "\n",
    "**Noisy workplace and loud music exposure frequency: same as for Tinnitus**\n",
    "                \n",
    "1. Remove inconsistent individuals \n",
    "    - said 1,2 or 3 and in following visits said 0\n",
    "    - said a higher exposure (e.g 3) and then a lower one (e.g 1 or 2) in following visits\n",
    "2. Retain consistent individuals and use highest reported exposure\n",
    "\n",
    "**The SRT trait needs to be inverse normalized**\n",
    "\n",
    "**Covariates to be included in the analysis include:**\n",
    "\n",
    "1. Age at time of test (calculated from f.21003.0.0,f.21003.1.0,f.21003.2.0,f.21003.3.0)\n",
    "2. Sex f.22001\n",
    "3. Volume left ear f.4270 and right ear f.4277 (The volume set by the participant for the measurement which you are using in the analysis ir our case the last time they took the test). For the analysis we use the average of the right and left ear since there is overlap in the volume distribution\n",
    "4. Noisy workplace f.4825\n",
    "5. Loud music exposure f.4836\n"
   ]
  },
  {
   "cell_type": "markdown",
   "metadata": {
    "kernel": "SoS"
   },
   "source": [
    "## Load imputed data"
   ]
  },
  {
   "cell_type": "code",
   "execution_count": 164,
   "metadata": {
    "kernel": "R"
   },
   "outputs": [
    {
     "data": {
      "text/html": [
       "'/gpfs/gibbs/pi/dewan/data/UKBiobank/phenotype_files/hearing_impairment'"
      ],
      "text/latex": [
       "'/gpfs/gibbs/pi/dewan/data/UKBiobank/phenotype\\_files/hearing\\_impairment'"
      ],
      "text/markdown": [
       "'/gpfs/gibbs/pi/dewan/data/UKBiobank/phenotype_files/hearing_impairment'"
      ],
      "text/plain": [
       "[1] \"/gpfs/gibbs/pi/dewan/data/UKBiobank/phenotype_files/hearing_impairment\""
      ]
     },
     "metadata": {},
     "output_type": "display_data"
    }
   ],
   "source": [
    "#Load libraries\n",
    "library(plyr)\n",
    "library(tidyverse)\n",
    "library(pander)\n",
    "library(ggpubr)\n",
    "library(rapportools)\n",
    "library(ggplot2)\n",
    "#Get working directory\n",
    "getwd()"
   ]
  },
  {
   "cell_type": "code",
   "execution_count": 2,
   "metadata": {
    "kernel": "R"
   },
   "outputs": [],
   "source": [
    "#Set working directory\n",
    "setwd('~/project/HI_UKBB/ukb42495_updatedJune2020')"
   ]
  },
  {
   "cell_type": "code",
   "execution_count": 3,
   "metadata": {
    "kernel": "R"
   },
   "outputs": [],
   "source": [
    "# Clean workspace\n",
    "rm(list=ls())"
   ]
  },
  {
   "cell_type": "markdown",
   "metadata": {
    "kernel": "R"
   },
   "source": [
    "### Using only white british"
   ]
  },
  {
   "cell_type": "code",
   "execution_count": 4,
   "metadata": {
    "kernel": "R"
   },
   "outputs": [],
   "source": [
    "df.final.imp = read.csv('200814_UKBB_HI_genotypeqc_excr_impvars.csv')"
   ]
  },
  {
   "cell_type": "markdown",
   "metadata": {
    "kernel": "R"
   },
   "source": [
    "### Using all whites"
   ]
  },
  {
   "cell_type": "code",
   "execution_count": 4,
   "metadata": {
    "kernel": "R"
   },
   "outputs": [],
   "source": [
    "df.final.imp = read.csv('120120_UKBB_HI_expandedwhite_genotypeqc_excr.csv')"
   ]
  },
  {
   "cell_type": "markdown",
   "metadata": {
    "kernel": "R"
   },
   "source": [
    "## Load exome data"
   ]
  },
  {
   "cell_type": "code",
   "execution_count": 165,
   "metadata": {
    "kernel": "R"
   },
   "outputs": [],
   "source": [
    "setwd('/gpfs/gibbs/pi/dewan/data/UKBiobank/phenotype_files/hearing_impairment')\n",
    "df.final.imp = read.csv(file = '010421_UKBB_HI_exomes_keep.csv', header=TRUE)"
   ]
  },
  {
   "cell_type": "code",
   "execution_count": 166,
   "metadata": {
    "kernel": "R"
   },
   "outputs": [
    {
     "data": {
      "text/html": [
       "<table>\n",
       "<caption>A data.frame: 6 × 2262</caption>\n",
       "<thead>\n",
       "\t<tr><th></th><th scope=col>IID</th><th scope=col>FID</th><th scope=col>ignore1</th><th scope=col>ignore2</th><th scope=col>ignore3</th><th scope=col>ignore4</th><th scope=col>f.31.0.0</th><th scope=col>f.34.0.0</th><th scope=col>f.53.0.0</th><th scope=col>f.53.1.0</th><th scope=col>⋯</th><th scope=col>f.131229.0.0</th><th scope=col>f.131230.0.0</th><th scope=col>f.131231.0.0</th><th scope=col>f.131232.0.0</th><th scope=col>f.131233.0.0</th><th scope=col>f.131250.0.0</th><th scope=col>f.131251.0.0</th><th scope=col>f.131252.0.0</th><th scope=col>f.131253.0.0</th><th scope=col>exclude</th></tr>\n",
       "\t<tr><th></th><th scope=col>&lt;int&gt;</th><th scope=col>&lt;int&gt;</th><th scope=col>&lt;int&gt;</th><th scope=col>&lt;int&gt;</th><th scope=col>&lt;int&gt;</th><th scope=col>&lt;int&gt;</th><th scope=col>&lt;fct&gt;</th><th scope=col>&lt;int&gt;</th><th scope=col>&lt;fct&gt;</th><th scope=col>&lt;fct&gt;</th><th scope=col>⋯</th><th scope=col>&lt;fct&gt;</th><th scope=col>&lt;fct&gt;</th><th scope=col>&lt;fct&gt;</th><th scope=col>&lt;fct&gt;</th><th scope=col>&lt;fct&gt;</th><th scope=col>&lt;fct&gt;</th><th scope=col>&lt;fct&gt;</th><th scope=col>&lt;fct&gt;</th><th scope=col>&lt;fct&gt;</th><th scope=col>&lt;lgl&gt;</th></tr>\n",
       "</thead>\n",
       "<tbody>\n",
       "\t<tr><th scope=row>1</th><td>1000019</td><td>1000019</td><td>0</td><td>0</td><td>2</td><td>-9</td><td>Female</td><td>1960</td><td>2008-01-24</td><td>NA        </td><td>⋯</td><td>NA</td><td>NA</td><td>NA</td><td>NA</td><td>NA</td><td>NA</td><td>NA</td><td>NA</td><td>NA</td><td>FALSE</td></tr>\n",
       "\t<tr><th scope=row>2</th><td>1000035</td><td>1000035</td><td>0</td><td>0</td><td>1</td><td>-9</td><td>Male  </td><td>1944</td><td>2007-11-08</td><td>NA        </td><td>⋯</td><td>NA</td><td>NA</td><td>NA</td><td>NA</td><td>NA</td><td>NA</td><td>NA</td><td>NA</td><td>NA</td><td>FALSE</td></tr>\n",
       "\t<tr><th scope=row>3</th><td>1000078</td><td>1000078</td><td>0</td><td>0</td><td>2</td><td>-9</td><td>Female</td><td>1955</td><td>2007-08-20</td><td>2012-11-01</td><td>⋯</td><td>NA</td><td>NA</td><td>NA</td><td>NA</td><td>NA</td><td>NA</td><td>NA</td><td>NA</td><td>NA</td><td>FALSE</td></tr>\n",
       "\t<tr><th scope=row>4</th><td>1000081</td><td>1000081</td><td>0</td><td>0</td><td>1</td><td>-9</td><td>Male  </td><td>1942</td><td>2009-12-03</td><td>NA        </td><td>⋯</td><td>NA</td><td>NA</td><td>NA</td><td>NA</td><td>NA</td><td>NA</td><td>NA</td><td>NA</td><td>NA</td><td>FALSE</td></tr>\n",
       "\t<tr><th scope=row>5</th><td>1000198</td><td>1000198</td><td>0</td><td>0</td><td>2</td><td>-9</td><td>Female</td><td>1967</td><td>2009-03-27</td><td>NA        </td><td>⋯</td><td>NA</td><td>NA</td><td>NA</td><td>NA</td><td>NA</td><td>NA</td><td>NA</td><td>NA</td><td>NA</td><td>FALSE</td></tr>\n",
       "\t<tr><th scope=row>6</th><td>1000210</td><td>1000210</td><td>0</td><td>0</td><td>1</td><td>-9</td><td>Male  </td><td>1941</td><td>2008-02-11</td><td>NA        </td><td>⋯</td><td>NA</td><td>NA</td><td>NA</td><td>NA</td><td>NA</td><td>NA</td><td>NA</td><td>NA</td><td>NA</td><td>FALSE</td></tr>\n",
       "</tbody>\n",
       "</table>\n"
      ],
      "text/latex": [
       "A data.frame: 6 × 2262\n",
       "\\begin{tabular}{r|lllllllllllllllllllll}\n",
       "  & IID & FID & ignore1 & ignore2 & ignore3 & ignore4 & f.31.0.0 & f.34.0.0 & f.53.0.0 & f.53.1.0 & ⋯ & f.131229.0.0 & f.131230.0.0 & f.131231.0.0 & f.131232.0.0 & f.131233.0.0 & f.131250.0.0 & f.131251.0.0 & f.131252.0.0 & f.131253.0.0 & exclude\\\\\n",
       "  & <int> & <int> & <int> & <int> & <int> & <int> & <fct> & <int> & <fct> & <fct> & ⋯ & <fct> & <fct> & <fct> & <fct> & <fct> & <fct> & <fct> & <fct> & <fct> & <lgl>\\\\\n",
       "\\hline\n",
       "\t1 & 1000019 & 1000019 & 0 & 0 & 2 & -9 & Female & 1960 & 2008-01-24 & NA         & ⋯ & NA & NA & NA & NA & NA & NA & NA & NA & NA & FALSE\\\\\n",
       "\t2 & 1000035 & 1000035 & 0 & 0 & 1 & -9 & Male   & 1944 & 2007-11-08 & NA         & ⋯ & NA & NA & NA & NA & NA & NA & NA & NA & NA & FALSE\\\\\n",
       "\t3 & 1000078 & 1000078 & 0 & 0 & 2 & -9 & Female & 1955 & 2007-08-20 & 2012-11-01 & ⋯ & NA & NA & NA & NA & NA & NA & NA & NA & NA & FALSE\\\\\n",
       "\t4 & 1000081 & 1000081 & 0 & 0 & 1 & -9 & Male   & 1942 & 2009-12-03 & NA         & ⋯ & NA & NA & NA & NA & NA & NA & NA & NA & NA & FALSE\\\\\n",
       "\t5 & 1000198 & 1000198 & 0 & 0 & 2 & -9 & Female & 1967 & 2009-03-27 & NA         & ⋯ & NA & NA & NA & NA & NA & NA & NA & NA & NA & FALSE\\\\\n",
       "\t6 & 1000210 & 1000210 & 0 & 0 & 1 & -9 & Male   & 1941 & 2008-02-11 & NA         & ⋯ & NA & NA & NA & NA & NA & NA & NA & NA & NA & FALSE\\\\\n",
       "\\end{tabular}\n"
      ],
      "text/markdown": [
       "\n",
       "A data.frame: 6 × 2262\n",
       "\n",
       "| <!--/--> | IID &lt;int&gt; | FID &lt;int&gt; | ignore1 &lt;int&gt; | ignore2 &lt;int&gt; | ignore3 &lt;int&gt; | ignore4 &lt;int&gt; | f.31.0.0 &lt;fct&gt; | f.34.0.0 &lt;int&gt; | f.53.0.0 &lt;fct&gt; | f.53.1.0 &lt;fct&gt; | ⋯ ⋯ | f.131229.0.0 &lt;fct&gt; | f.131230.0.0 &lt;fct&gt; | f.131231.0.0 &lt;fct&gt; | f.131232.0.0 &lt;fct&gt; | f.131233.0.0 &lt;fct&gt; | f.131250.0.0 &lt;fct&gt; | f.131251.0.0 &lt;fct&gt; | f.131252.0.0 &lt;fct&gt; | f.131253.0.0 &lt;fct&gt; | exclude &lt;lgl&gt; |\n",
       "|---|---|---|---|---|---|---|---|---|---|---|---|---|---|---|---|---|---|---|---|---|---|\n",
       "| 1 | 1000019 | 1000019 | 0 | 0 | 2 | -9 | Female | 1960 | 2008-01-24 | NA         | ⋯ | NA | NA | NA | NA | NA | NA | NA | NA | NA | FALSE |\n",
       "| 2 | 1000035 | 1000035 | 0 | 0 | 1 | -9 | Male   | 1944 | 2007-11-08 | NA         | ⋯ | NA | NA | NA | NA | NA | NA | NA | NA | NA | FALSE |\n",
       "| 3 | 1000078 | 1000078 | 0 | 0 | 2 | -9 | Female | 1955 | 2007-08-20 | 2012-11-01 | ⋯ | NA | NA | NA | NA | NA | NA | NA | NA | NA | FALSE |\n",
       "| 4 | 1000081 | 1000081 | 0 | 0 | 1 | -9 | Male   | 1942 | 2009-12-03 | NA         | ⋯ | NA | NA | NA | NA | NA | NA | NA | NA | NA | FALSE |\n",
       "| 5 | 1000198 | 1000198 | 0 | 0 | 2 | -9 | Female | 1967 | 2009-03-27 | NA         | ⋯ | NA | NA | NA | NA | NA | NA | NA | NA | NA | FALSE |\n",
       "| 6 | 1000210 | 1000210 | 0 | 0 | 1 | -9 | Male   | 1941 | 2008-02-11 | NA         | ⋯ | NA | NA | NA | NA | NA | NA | NA | NA | NA | FALSE |\n",
       "\n"
      ],
      "text/plain": [
       "  IID     FID     ignore1 ignore2 ignore3 ignore4 f.31.0.0 f.34.0.0 f.53.0.0  \n",
       "1 1000019 1000019 0       0       2       -9      Female   1960     2008-01-24\n",
       "2 1000035 1000035 0       0       1       -9      Male     1944     2007-11-08\n",
       "3 1000078 1000078 0       0       2       -9      Female   1955     2007-08-20\n",
       "4 1000081 1000081 0       0       1       -9      Male     1942     2009-12-03\n",
       "5 1000198 1000198 0       0       2       -9      Female   1967     2009-03-27\n",
       "6 1000210 1000210 0       0       1       -9      Male     1941     2008-02-11\n",
       "  f.53.1.0   ⋯ f.131229.0.0 f.131230.0.0 f.131231.0.0 f.131232.0.0 f.131233.0.0\n",
       "1 NA         ⋯ NA           NA           NA           NA           NA          \n",
       "2 NA         ⋯ NA           NA           NA           NA           NA          \n",
       "3 2012-11-01 ⋯ NA           NA           NA           NA           NA          \n",
       "4 NA         ⋯ NA           NA           NA           NA           NA          \n",
       "5 NA         ⋯ NA           NA           NA           NA           NA          \n",
       "6 NA         ⋯ NA           NA           NA           NA           NA          \n",
       "  f.131250.0.0 f.131251.0.0 f.131252.0.0 f.131253.0.0 exclude\n",
       "1 NA           NA           NA           NA           FALSE  \n",
       "2 NA           NA           NA           NA           FALSE  \n",
       "3 NA           NA           NA           NA           FALSE  \n",
       "4 NA           NA           NA           NA           FALSE  \n",
       "5 NA           NA           NA           NA           FALSE  \n",
       "6 NA           NA           NA           NA           FALSE  "
      ]
     },
     "metadata": {},
     "output_type": "display_data"
    }
   ],
   "source": [
    "head(df.final.imp)"
   ]
  },
  {
   "cell_type": "markdown",
   "metadata": {
    "kernel": "R"
   },
   "source": [
    "## Data summary and recode"
   ]
  },
  {
   "cell_type": "code",
   "execution_count": 167,
   "metadata": {
    "kernel": "R"
   },
   "outputs": [
    {
     "data": {
      "text/html": [
       "<style>\n",
       ".list-inline {list-style: none; margin:0; padding: 0}\n",
       ".list-inline>li {display: inline-block}\n",
       ".list-inline>li:not(:last-child)::after {content: \"\\00b7\"; padding: 0 .5ex}\n",
       "</style>\n",
       "<ol class=list-inline><li>194097</li><li>2262</li></ol>\n"
      ],
      "text/latex": [
       "\\begin{enumerate*}\n",
       "\\item 194097\n",
       "\\item 2262\n",
       "\\end{enumerate*}\n"
      ],
      "text/markdown": [
       "1. 194097\n",
       "2. 2262\n",
       "\n",
       "\n"
      ],
      "text/plain": [
       "[1] 194097   2262"
      ]
     },
     "metadata": {},
     "output_type": "display_data"
    }
   ],
   "source": [
    "dim(df.final.imp) #354347 only brits 1082 vars"
   ]
  },
  {
   "cell_type": "code",
   "execution_count": 168,
   "metadata": {
    "kernel": "R"
   },
   "outputs": [
    {
     "data": {
      "text/html": [
       "<table>\n",
       "<caption>A data.frame: 10 × 4</caption>\n",
       "<thead>\n",
       "\t<tr><th></th><th scope=col>IID</th><th scope=col>f.31.0.0</th><th scope=col>f.22001.0.0</th><th scope=col>sex_final</th></tr>\n",
       "\t<tr><th></th><th scope=col>&lt;int&gt;</th><th scope=col>&lt;fct&gt;</th><th scope=col>&lt;fct&gt;</th><th scope=col>&lt;chr&gt;</th></tr>\n",
       "</thead>\n",
       "<tbody>\n",
       "\t<tr><th scope=row>1</th><td>1045692</td><td>Female</td><td>NA    </td><td>3</td></tr>\n",
       "\t<tr><th scope=row>2</th><td>1048098</td><td>Male  </td><td>NA    </td><td>3</td></tr>\n",
       "\t<tr><th scope=row>3</th><td>1068847</td><td>Male  </td><td>Female</td><td>3</td></tr>\n",
       "\t<tr><th scope=row>4</th><td>1096848</td><td>Male  </td><td>NA    </td><td>3</td></tr>\n",
       "\t<tr><th scope=row>5</th><td>1101132</td><td>Male  </td><td>Female</td><td>3</td></tr>\n",
       "\t<tr><th scope=row>6</th><td>1121872</td><td>Female</td><td>NA    </td><td>3</td></tr>\n",
       "\t<tr><th scope=row>7</th><td>1161768</td><td>Male  </td><td>Female</td><td>3</td></tr>\n",
       "\t<tr><th scope=row>8</th><td>1184630</td><td>Female</td><td>NA    </td><td>3</td></tr>\n",
       "\t<tr><th scope=row>9</th><td>1236324</td><td>Male  </td><td>Female</td><td>3</td></tr>\n",
       "\t<tr><th scope=row>10</th><td>1250098</td><td>Female</td><td>NA    </td><td>3</td></tr>\n",
       "</tbody>\n",
       "</table>\n"
      ],
      "text/latex": [
       "A data.frame: 10 × 4\n",
       "\\begin{tabular}{r|llll}\n",
       "  & IID & f.31.0.0 & f.22001.0.0 & sex\\_final\\\\\n",
       "  & <int> & <fct> & <fct> & <chr>\\\\\n",
       "\\hline\n",
       "\t1 & 1045692 & Female & NA     & 3\\\\\n",
       "\t2 & 1048098 & Male   & NA     & 3\\\\\n",
       "\t3 & 1068847 & Male   & Female & 3\\\\\n",
       "\t4 & 1096848 & Male   & NA     & 3\\\\\n",
       "\t5 & 1101132 & Male   & Female & 3\\\\\n",
       "\t6 & 1121872 & Female & NA     & 3\\\\\n",
       "\t7 & 1161768 & Male   & Female & 3\\\\\n",
       "\t8 & 1184630 & Female & NA     & 3\\\\\n",
       "\t9 & 1236324 & Male   & Female & 3\\\\\n",
       "\t10 & 1250098 & Female & NA     & 3\\\\\n",
       "\\end{tabular}\n"
      ],
      "text/markdown": [
       "\n",
       "A data.frame: 10 × 4\n",
       "\n",
       "| <!--/--> | IID &lt;int&gt; | f.31.0.0 &lt;fct&gt; | f.22001.0.0 &lt;fct&gt; | sex_final &lt;chr&gt; |\n",
       "|---|---|---|---|---|\n",
       "| 1 | 1045692 | Female | NA     | 3 |\n",
       "| 2 | 1048098 | Male   | NA     | 3 |\n",
       "| 3 | 1068847 | Male   | Female | 3 |\n",
       "| 4 | 1096848 | Male   | NA     | 3 |\n",
       "| 5 | 1101132 | Male   | Female | 3 |\n",
       "| 6 | 1121872 | Female | NA     | 3 |\n",
       "| 7 | 1161768 | Male   | Female | 3 |\n",
       "| 8 | 1184630 | Female | NA     | 3 |\n",
       "| 9 | 1236324 | Male   | Female | 3 |\n",
       "| 10 | 1250098 | Female | NA     | 3 |\n",
       "\n"
      ],
      "text/plain": [
       "   IID     f.31.0.0 f.22001.0.0 sex_final\n",
       "1  1045692 Female   NA          3        \n",
       "2  1048098 Male     NA          3        \n",
       "3  1068847 Male     Female      3        \n",
       "4  1096848 Male     NA          3        \n",
       "5  1101132 Male     Female      3        \n",
       "6  1121872 Female   NA          3        \n",
       "7  1161768 Male     Female      3        \n",
       "8  1184630 Female   NA          3        \n",
       "9  1236324 Male     Female      3        \n",
       "10 1250098 Female   NA          3        "
      ]
     },
     "metadata": {},
     "output_type": "display_data"
    },
    {
     "data": {
      "text/html": [
       "<style>\n",
       ".list-inline {list-style: none; margin:0; padding: 0}\n",
       ".list-inline>li {display: inline-block}\n",
       ".list-inline>li:not(:last-child)::after {content: \"\\00b7\"; padding: 0 .5ex}\n",
       "</style>\n",
       "<ol class=list-inline><li>231</li><li>4</li></ol>\n"
      ],
      "text/latex": [
       "\\begin{enumerate*}\n",
       "\\item 231\n",
       "\\item 4\n",
       "\\end{enumerate*}\n"
      ],
      "text/markdown": [
       "1. 231\n",
       "2. 4\n",
       "\n",
       "\n"
      ],
      "text/plain": [
       "[1] 231   4"
      ]
     },
     "metadata": {},
     "output_type": "display_data"
    }
   ],
   "source": [
    "compare_sex <- df.final.imp %>% \n",
    "      mutate(sex_final = case_when(\n",
    "       f.31.0.0 == f.22001.0.0 & f.22001.0.0 == \"Female\" ~ \"0\",\n",
    "       f.31.0.0 == f.22001.0.0 & f.22001.0.0 == \"Male\" ~ \"1\",\n",
    "       TRUE ~ '3')) %>%\n",
    "    select(IID, f.31.0.0, f.22001.0.0, sex_final) %>%\n",
    "    filter(sex_final==3)\n",
    "head(compare_sex, 10)\n",
    "dim(compare_sex) #Number of individuals inconsistent for self-reported and genetic sex"
   ]
  },
  {
   "cell_type": "markdown",
   "metadata": {
    "kernel": "R"
   },
   "source": [
    "## Remove sex inconsistent individuals"
   ]
  },
  {
   "cell_type": "code",
   "execution_count": 170,
   "metadata": {
    "kernel": "R"
   },
   "outputs": [
    {
     "data": {
      "text/html": [
       "<table>\n",
       "<caption>A data.frame: 6 × 1</caption>\n",
       "<thead>\n",
       "\t<tr><th></th><th scope=col>IID</th></tr>\n",
       "\t<tr><th></th><th scope=col>&lt;int&gt;</th></tr>\n",
       "</thead>\n",
       "<tbody>\n",
       "\t<tr><th scope=row>1</th><td>1045692</td></tr>\n",
       "\t<tr><th scope=row>2</th><td>1048098</td></tr>\n",
       "\t<tr><th scope=row>3</th><td>1068847</td></tr>\n",
       "\t<tr><th scope=row>4</th><td>1096848</td></tr>\n",
       "\t<tr><th scope=row>5</th><td>1101132</td></tr>\n",
       "\t<tr><th scope=row>6</th><td>1121872</td></tr>\n",
       "</tbody>\n",
       "</table>\n"
      ],
      "text/latex": [
       "A data.frame: 6 × 1\n",
       "\\begin{tabular}{r|l}\n",
       "  & IID\\\\\n",
       "  & <int>\\\\\n",
       "\\hline\n",
       "\t1 & 1045692\\\\\n",
       "\t2 & 1048098\\\\\n",
       "\t3 & 1068847\\\\\n",
       "\t4 & 1096848\\\\\n",
       "\t5 & 1101132\\\\\n",
       "\t6 & 1121872\\\\\n",
       "\\end{tabular}\n"
      ],
      "text/markdown": [
       "\n",
       "A data.frame: 6 × 1\n",
       "\n",
       "| <!--/--> | IID &lt;int&gt; |\n",
       "|---|---|\n",
       "| 1 | 1045692 |\n",
       "| 2 | 1048098 |\n",
       "| 3 | 1068847 |\n",
       "| 4 | 1096848 |\n",
       "| 5 | 1101132 |\n",
       "| 6 | 1121872 |\n",
       "\n"
      ],
      "text/plain": [
       "  IID    \n",
       "1 1045692\n",
       "2 1048098\n",
       "3 1068847\n",
       "4 1096848\n",
       "5 1101132\n",
       "6 1121872"
      ]
     },
     "metadata": {},
     "output_type": "display_data"
    },
    {
     "data": {
      "text/html": [
       "<style>\n",
       ".list-inline {list-style: none; margin:0; padding: 0}\n",
       ".list-inline>li {display: inline-block}\n",
       ".list-inline>li:not(:last-child)::after {content: \"\\00b7\"; padding: 0 .5ex}\n",
       "</style>\n",
       "<ol class=list-inline><li>231</li><li>1</li></ol>\n"
      ],
      "text/latex": [
       "\\begin{enumerate*}\n",
       "\\item 231\n",
       "\\item 1\n",
       "\\end{enumerate*}\n"
      ],
      "text/markdown": [
       "1. 231\n",
       "2. 1\n",
       "\n",
       "\n"
      ],
      "text/plain": [
       "[1] 231   1"
      ]
     },
     "metadata": {},
     "output_type": "display_data"
    }
   ],
   "source": [
    "remove_sex <- compare_sex %>% \n",
    "    select(IID)\n",
    "head(remove_sex)\n",
    "dim(remove_sex)"
   ]
  },
  {
   "cell_type": "code",
   "execution_count": 182,
   "metadata": {
    "kernel": "R"
   },
   "outputs": [
    {
     "data": {
      "text/html": [
       "<style>\n",
       ".list-inline {list-style: none; margin:0; padding: 0}\n",
       ".list-inline>li {display: inline-block}\n",
       ".list-inline>li:not(:last-child)::after {content: \"\\00b7\"; padding: 0 .5ex}\n",
       "</style>\n",
       "<ol class=list-inline><li>193866</li><li>2262</li></ol>\n"
      ],
      "text/latex": [
       "\\begin{enumerate*}\n",
       "\\item 193866\n",
       "\\item 2262\n",
       "\\end{enumerate*}\n"
      ],
      "text/markdown": [
       "1. 193866\n",
       "2. 2262\n",
       "\n",
       "\n"
      ],
      "text/plain": [
       "[1] 193866   2262"
      ]
     },
     "metadata": {},
     "output_type": "display_data"
    }
   ],
   "source": [
    "df.final.imp <-  df.final.imp[!df.final.imp$IID %in% remove_sex$IID,]\n",
    "dim(df.final.imp)"
   ]
  },
  {
   "cell_type": "code",
   "execution_count": 183,
   "metadata": {
    "kernel": "R"
   },
   "outputs": [
    {
     "data": {
      "text/plain": [
       "\n",
       "     1      0 \n",
       "107116  86750 "
      ]
     },
     "metadata": {},
     "output_type": "display_data"
    },
    {
     "data": {
      "text/html": [
       "<style>\n",
       ".list-inline {list-style: none; margin:0; padding: 0}\n",
       ".list-inline>li {display: inline-block}\n",
       ".list-inline>li:not(:last-child)::after {content: \"\\00b7\"; padding: 0 .5ex}\n",
       "</style>\n",
       "<ol class=list-inline><li>193866</li><li>2263</li></ol>\n"
      ],
      "text/latex": [
       "\\begin{enumerate*}\n",
       "\\item 193866\n",
       "\\item 2263\n",
       "\\end{enumerate*}\n"
      ],
      "text/markdown": [
       "1. 193866\n",
       "2. 2263\n",
       "\n",
       "\n"
      ],
      "text/plain": [
       "[1] 193866   2263"
      ]
     },
     "metadata": {},
     "output_type": "display_data"
    }
   ],
   "source": [
    "df.final.imp$sex <- revalue(df.final.imp$f.22001.0.0, c(\"Male\" = '0', 'Female'='1' ))\n",
    "table(df.final.imp$sex)\n",
    "dim(df.final.imp)"
   ]
  },
  {
   "cell_type": "code",
   "execution_count": 185,
   "metadata": {
    "kernel": "R"
   },
   "outputs": [
    {
     "data": {
      "text/html": [
       "0"
      ],
      "text/latex": [
       "0"
      ],
      "text/markdown": [
       "0"
      ],
      "text/plain": [
       "[1] 0"
      ]
     },
     "metadata": {},
     "output_type": "display_data"
    }
   ],
   "source": [
    "length(which(is.na(df.final.imp$sex)))"
   ]
  },
  {
   "cell_type": "markdown",
   "metadata": {
    "kernel": "R"
   },
   "source": [
    "# f.3393 Hearing aid: filter out inconsistent cases"
   ]
  },
  {
   "cell_type": "code",
   "execution_count": 186,
   "metadata": {
    "kernel": "R"
   },
   "outputs": [
    {
     "name": "stderr",
     "output_type": "stream",
     "text": [
      "The following `from` values were not present in `x`: Prefer not to answer\n",
      "\n",
      "The following `from` values were not present in `x`: Prefer not to answer\n",
      "\n"
     ]
    },
    {
     "name": "stdout",
     "output_type": "stream",
     "text": [
      "f.3393.0.0_recode summary:\n",
      "     0      1 \n",
      "121552   5111 \n",
      "\n",
      "f.3393.1.0_recode summary:\n",
      "   0    1 \n",
      "9208  486 \n",
      "\n",
      "f.3393.2.0_recode summary:\n",
      "    0     1 \n",
      "23028  1775 \n",
      "\n",
      "f.3393.3.0_recode summary:\n",
      "  0   1 \n",
      "883  67 \n",
      "\n"
     ]
    }
   ],
   "source": [
    "# Recode function:\n",
    "recode<-function(df,column_name){\n",
    "  new_names<-c()\n",
    "  for (i in column_name){\n",
    "    new_column_name<-paste0(i,\"_recode\")\n",
    "    new_names<-c(new_names,new_column_name)\n",
    "    df[,new_column_name] <- revalue(df[,i], c(\"No\"= 0, \n",
    "                                            \"Yes\" =1,\n",
    "                                            \"Prefer not to answer\"= NA))\n",
    "  }\n",
    "  return (list(df=df,new_column_names=new_names))\n",
    "}\n",
    "\n",
    "# columns needs to be recoded:\n",
    "column_name<-c(\"f.3393.0.0\",\"f.3393.1.0\",\"f.3393.2.0\",\"f.3393.3.0\")\n",
    "\n",
    "# get a new data.frame with recoded columns added:\n",
    "df.final.imp<-recode(df=df.final.imp,column_name)$df\n",
    "\n",
    "# get names of recoded columns:\n",
    "new_column_names<-recode(df=df.final.imp,column_name)$new_column_names\n",
    "\n",
    "# show recode summary:\n",
    "for (i in new_column_names)\n",
    "{cat(i,\"summary:\");print(table(df.final.imp[,i]));cat(\"\\n\")}"
   ]
  },
  {
   "cell_type": "code",
   "execution_count": 187,
   "metadata": {
    "kernel": "R"
   },
   "outputs": [
    {
     "data": {
      "text/html": [
       "<style>\n",
       ".list-inline {list-style: none; margin:0; padding: 0}\n",
       ".list-inline>li {display: inline-block}\n",
       ".list-inline>li:not(:last-child)::after {content: \"\\00b7\"; padding: 0 .5ex}\n",
       "</style>\n",
       "<ol class=list-inline><li>193866</li><li>2267</li></ol>\n"
      ],
      "text/latex": [
       "\\begin{enumerate*}\n",
       "\\item 193866\n",
       "\\item 2267\n",
       "\\end{enumerate*}\n"
      ],
      "text/markdown": [
       "1. 193866\n",
       "2. 2267\n",
       "\n",
       "\n"
      ],
      "text/plain": [
       "[1] 193866   2267"
      ]
     },
     "metadata": {},
     "output_type": "display_data"
    }
   ],
   "source": [
    "dim(df.final.imp)"
   ]
  },
  {
   "cell_type": "markdown",
   "metadata": {
    "kernel": "R"
   },
   "source": [
    "## f. 3393 Get patterns for possible answers"
   ]
  },
  {
   "cell_type": "code",
   "execution_count": 188,
   "metadata": {
    "kernel": "R"
   },
   "outputs": [
    {
     "data": {
      "text/html": [
       "<style>\n",
       ".list-inline {list-style: none; margin:0; padding: 0}\n",
       ".list-inline>li {display: inline-block}\n",
       ".list-inline>li:not(:last-child)::after {content: \"\\00b7\"; padding: 0 .5ex}\n",
       "</style>\n",
       "<ol class=list-inline><li>''</li><li>'0'</li><li>'00'</li><li>'000'</li><li>'0000'</li><li>'0001'</li><li>'001'</li><li>'0010'</li><li>'0011'</li><li>'01'</li><li>'010'</li><li>'011'</li><li>'0111'</li><li>'1'</li><li>'10'</li><li>'100'</li><li>'101'</li><li>'11'</li><li>'110'</li><li>'1100'</li><li>'111'</li><li>'1111'</li></ol>\n"
      ],
      "text/latex": [
       "\\begin{enumerate*}\n",
       "\\item ''\n",
       "\\item '0'\n",
       "\\item '00'\n",
       "\\item '000'\n",
       "\\item '0000'\n",
       "\\item '0001'\n",
       "\\item '001'\n",
       "\\item '0010'\n",
       "\\item '0011'\n",
       "\\item '01'\n",
       "\\item '010'\n",
       "\\item '011'\n",
       "\\item '0111'\n",
       "\\item '1'\n",
       "\\item '10'\n",
       "\\item '100'\n",
       "\\item '101'\n",
       "\\item '11'\n",
       "\\item '110'\n",
       "\\item '1100'\n",
       "\\item '111'\n",
       "\\item '1111'\n",
       "\\end{enumerate*}\n"
      ],
      "text/markdown": [
       "1. ''\n",
       "2. '0'\n",
       "3. '00'\n",
       "4. '000'\n",
       "5. '0000'\n",
       "6. '0001'\n",
       "7. '001'\n",
       "8. '0010'\n",
       "9. '0011'\n",
       "10. '01'\n",
       "11. '010'\n",
       "12. '011'\n",
       "13. '0111'\n",
       "14. '1'\n",
       "15. '10'\n",
       "16. '100'\n",
       "17. '101'\n",
       "18. '11'\n",
       "19. '110'\n",
       "20. '1100'\n",
       "21. '111'\n",
       "22. '1111'\n",
       "\n",
       "\n"
      ],
      "text/plain": [
       " [1] \"\"     \"0\"    \"00\"   \"000\"  \"0000\" \"0001\" \"001\"  \"0010\" \"0011\" \"01\"  \n",
       "[11] \"010\"  \"011\"  \"0111\" \"1\"    \"10\"   \"100\"  \"101\"  \"11\"   \"110\"  \"1100\"\n",
       "[21] \"111\"  \"1111\""
      ]
     },
     "metadata": {},
     "output_type": "display_data"
    }
   ],
   "source": [
    "# Extract subset of data only with the recode columns of tinnitus\n",
    "data_sub <- df.final.imp %>%\n",
    "  select(\"IID\",all_of(new_column_names)) \n",
    "\n",
    "# Function to extract all the available answers for 4 visits\n",
    "# and put them in one string as \"0000\", \"111\", \"991\", etc\n",
    "\n",
    "f2<-function(x){\n",
    "  visit<-''\n",
    "  for (i in 2:5){ # do not take the first column (i.e. IID)\n",
    "    if (!is.na(x[i]))\n",
    "    {visit<-paste0(visit,x[i])}\n",
    "  }\n",
    "  if(is.null(visit)){visit=NA}\n",
    "  else{visit=visit}\n",
    "  return (visit)\n",
    "}\n",
    "\n",
    "# Apply the above function and remove NAs\n",
    "data_sub$visit<-apply(data_sub, 1, f2)\n",
    "\n",
    "names(table(data_sub$visit))"
   ]
  },
  {
   "cell_type": "code",
   "execution_count": 189,
   "metadata": {
    "kernel": "R"
   },
   "outputs": [
    {
     "data": {
      "text/plain": [
       "\n",
       "            0     00    000   0000   0001    001   0010   0011     01    010 \n",
       " 56472 111718  15942   3030    106      2    149      2      1   1000     19 \n",
       "   011   0111      1     10    100    101     11    110   1100    111   1111 \n",
       "   130      3   4651     40      6     16    471      2      1    101      4 "
      ]
     },
     "metadata": {},
     "output_type": "display_data"
    }
   ],
   "source": [
    "table(data_sub$visit)\n",
    "all_pattern<-unique(data_sub$visit)"
   ]
  },
  {
   "cell_type": "markdown",
   "metadata": {
    "kernel": "R"
   },
   "source": [
    "## f.3393 Get all the consistent cases"
   ]
  },
  {
   "cell_type": "code",
   "execution_count": 190,
   "metadata": {
    "kernel": "R"
   },
   "outputs": [
    {
     "data": {
      "text/plain": [
       "\n",
       "     0     00    000   0000      1     11    111   1111 \n",
       "111718  15942   3030    106   4651    471    101      4 "
      ]
     },
     "metadata": {},
     "output_type": "display_data"
    }
   ],
   "source": [
    "all_no<-all_pattern[which(grepl(\"0\",all_pattern) & !grepl(\"1\",all_pattern))]\n",
    "all_yes<-all_pattern[which(!grepl(\"0\",all_pattern) & grepl(\"1\",all_pattern))]\n",
    "table(data_sub[data_sub$visit%in%union(all_no,all_yes),\"visit\"])"
   ]
  },
  {
   "cell_type": "code",
   "execution_count": 191,
   "metadata": {
    "kernel": "R"
   },
   "outputs": [
    {
     "data": {
      "text/plain": [
       "\n",
       "0001  001 0010 0011   01  010  011 0111   10  100  101  110 1100 \n",
       "   2  149    2    1 1000   19  130    3   40    6   16    2    1 "
      ]
     },
     "metadata": {},
     "output_type": "display_data"
    }
   ],
   "source": [
    "consistent_1<-c(all_no,all_yes)\n",
    "yes_no<-all_pattern[which(grepl(\"0\",all_pattern) & grepl(\"1\",all_pattern))]\n",
    "table(data_sub[data_sub$visit%in%yes_no,\"visit\"])"
   ]
  },
  {
   "cell_type": "code",
   "execution_count": 192,
   "metadata": {
    "kernel": "R"
   },
   "outputs": [],
   "source": [
    "might_inconsistent<-c(yes_no)"
   ]
  },
  {
   "cell_type": "markdown",
   "metadata": {
    "kernel": "R"
   },
   "source": [
    "## f.3393 Remove inconsistent cases"
   ]
  },
  {
   "cell_type": "code",
   "execution_count": 193,
   "metadata": {
    "kernel": "R"
   },
   "outputs": [
    {
     "name": "stdout",
     "output_type": "stream",
     "text": [
      "There are 56472 NAs, removed"
     ]
    }
   ],
   "source": [
    "# get all the inconsistent cases:\n",
    "exceptions<-c(\"0001\",\"001\",\"0011\",\"01\",\"011\",\"0111\")\n",
    "inconsistent<-setdiff(might_inconsistent,exceptions)\n",
    "\n",
    "cat(\"There are\",length(which(is.empty(data_sub$visit))),\"NAs, removed\")"
   ]
  },
  {
   "cell_type": "code",
   "execution_count": 198,
   "metadata": {
    "kernel": "R"
   },
   "outputs": [
    {
     "name": "stdout",
     "output_type": "stream",
     "text": [
      "There are 86 inconsistent cases, removed"
     ]
    }
   ],
   "source": [
    "cat(\"There are\",length(which(data_sub$visit%in%inconsistent)),\"inconsistent cases, removed\")"
   ]
  },
  {
   "cell_type": "code",
   "execution_count": 199,
   "metadata": {
    "kernel": "R"
   },
   "outputs": [
    {
     "data": {
      "text/html": [
       "<style>\n",
       ".list-inline {list-style: none; margin:0; padding: 0}\n",
       ".list-inline>li {display: inline-block}\n",
       ".list-inline>li:not(:last-child)::after {content: \"\\00b7\"; padding: 0 .5ex}\n",
       "</style>\n",
       "<ol class=list-inline><li>137308</li><li>1</li></ol>\n"
      ],
      "text/latex": [
       "\\begin{enumerate*}\n",
       "\\item 137308\n",
       "\\item 1\n",
       "\\end{enumerate*}\n"
      ],
      "text/markdown": [
       "1. 137308\n",
       "2. 1\n",
       "\n",
       "\n"
      ],
      "text/plain": [
       "[1] 137308      1"
      ]
     },
     "metadata": {},
     "output_type": "display_data"
    }
   ],
   "source": [
    "# removed those NAs and inconsistent cases: \n",
    "IID_hearing_aid<-data_sub %>%\n",
    "  filter(!is.empty(visit)) %>%\n",
    "  filter((!visit%in%inconsistent)) %>%\n",
    "  select(IID)\n",
    "\n",
    "dim(IID_hearing_aid)"
   ]
  },
  {
   "cell_type": "code",
   "execution_count": 200,
   "metadata": {
    "kernel": "R"
   },
   "outputs": [
    {
     "name": "stdout",
     "output_type": "stream",
     "text": [
      "After removing all the NAs and inconsistent cases, there are 137308  individuals left"
     ]
    }
   ],
   "source": [
    "IID_hearing_aid<-IID_hearing_aid[,1]\n",
    "cat(\"After removing all the NAs and inconsistent cases, there are\",length(IID_hearing_aid),\" individuals left\")"
   ]
  },
  {
   "cell_type": "code",
   "execution_count": 201,
   "metadata": {
    "kernel": "R"
   },
   "outputs": [
    {
     "data": {
      "text/html": [
       "<style>\n",
       ".list-inline {list-style: none; margin:0; padding: 0}\n",
       ".list-inline>li {display: inline-block}\n",
       ".list-inline>li:not(:last-child)::after {content: \"\\00b7\"; padding: 0 .5ex}\n",
       "</style>\n",
       "<ol class=list-inline><li>137308</li><li>2267</li></ol>\n"
      ],
      "text/latex": [
       "\\begin{enumerate*}\n",
       "\\item 137308\n",
       "\\item 2267\n",
       "\\end{enumerate*}\n"
      ],
      "text/markdown": [
       "1. 137308\n",
       "2. 2267\n",
       "\n",
       "\n"
      ],
      "text/plain": [
       "[1] 137308   2267"
      ]
     },
     "metadata": {},
     "output_type": "display_data"
    }
   ],
   "source": [
    "# get the dataset after cleansing: \n",
    "df.hearing.aid<-df.final.imp %>%\n",
    "  filter(IID%in%IID_hearing_aid)\n",
    "\n",
    "dim(df.hearing.aid)"
   ]
  },
  {
   "cell_type": "markdown",
   "metadata": {
    "kernel": "SoS"
   },
   "source": [
    "## f.3393 Step 1: classify cases and controls"
   ]
  },
  {
   "cell_type": "code",
   "execution_count": 202,
   "metadata": {
    "kernel": "R"
   },
   "outputs": [
    {
     "data": {
      "text/html": [
       "<table>\n",
       "<caption>A data.frame: 6 × 11</caption>\n",
       "<thead>\n",
       "\t<tr><th></th><th scope=col>IID</th><th scope=col>FID</th><th scope=col>f.22001.0.0</th><th scope=col>f.21003.0.0</th><th scope=col>f.21003.1.0</th><th scope=col>f.21003.2.0</th><th scope=col>f.21003.3.0</th><th scope=col>f.3393.0.0_recode</th><th scope=col>f.3393.1.0_recode</th><th scope=col>f.3393.2.0_recode</th><th scope=col>f.3393.3.0_recode</th></tr>\n",
       "\t<tr><th></th><th scope=col>&lt;int&gt;</th><th scope=col>&lt;int&gt;</th><th scope=col>&lt;fct&gt;</th><th scope=col>&lt;int&gt;</th><th scope=col>&lt;int&gt;</th><th scope=col>&lt;int&gt;</th><th scope=col>&lt;int&gt;</th><th scope=col>&lt;fct&gt;</th><th scope=col>&lt;fct&gt;</th><th scope=col>&lt;fct&gt;</th><th scope=col>&lt;fct&gt;</th></tr>\n",
       "</thead>\n",
       "<tbody>\n",
       "\t<tr><th scope=row>1</th><td>1000019</td><td>1000019</td><td>Female</td><td>47</td><td>NA</td><td>NA</td><td>NA</td><td>0 </td><td>NA</td><td>NA</td><td>NA</td></tr>\n",
       "\t<tr><th scope=row>2</th><td>1000035</td><td>1000035</td><td>Male  </td><td>63</td><td>NA</td><td>NA</td><td>NA</td><td>0 </td><td>NA</td><td>NA</td><td>NA</td></tr>\n",
       "\t<tr><th scope=row>3</th><td>1000078</td><td>1000078</td><td>Female</td><td>52</td><td>57</td><td>60</td><td>NA</td><td>NA</td><td>0 </td><td>0 </td><td>NA</td></tr>\n",
       "\t<tr><th scope=row>4</th><td>1000081</td><td>1000081</td><td>Male  </td><td>67</td><td>NA</td><td>NA</td><td>NA</td><td>0 </td><td>NA</td><td>NA</td><td>NA</td></tr>\n",
       "\t<tr><th scope=row>5</th><td>1000198</td><td>1000198</td><td>Female</td><td>41</td><td>NA</td><td>NA</td><td>NA</td><td>0 </td><td>NA</td><td>NA</td><td>NA</td></tr>\n",
       "\t<tr><th scope=row>6</th><td>1000236</td><td>1000236</td><td>Male  </td><td>61</td><td>NA</td><td>70</td><td>NA</td><td>0 </td><td>NA</td><td>0 </td><td>NA</td></tr>\n",
       "</tbody>\n",
       "</table>\n"
      ],
      "text/latex": [
       "A data.frame: 6 × 11\n",
       "\\begin{tabular}{r|lllllllllll}\n",
       "  & IID & FID & f.22001.0.0 & f.21003.0.0 & f.21003.1.0 & f.21003.2.0 & f.21003.3.0 & f.3393.0.0\\_recode & f.3393.1.0\\_recode & f.3393.2.0\\_recode & f.3393.3.0\\_recode\\\\\n",
       "  & <int> & <int> & <fct> & <int> & <int> & <int> & <int> & <fct> & <fct> & <fct> & <fct>\\\\\n",
       "\\hline\n",
       "\t1 & 1000019 & 1000019 & Female & 47 & NA & NA & NA & 0  & NA & NA & NA\\\\\n",
       "\t2 & 1000035 & 1000035 & Male   & 63 & NA & NA & NA & 0  & NA & NA & NA\\\\\n",
       "\t3 & 1000078 & 1000078 & Female & 52 & 57 & 60 & NA & NA & 0  & 0  & NA\\\\\n",
       "\t4 & 1000081 & 1000081 & Male   & 67 & NA & NA & NA & 0  & NA & NA & NA\\\\\n",
       "\t5 & 1000198 & 1000198 & Female & 41 & NA & NA & NA & 0  & NA & NA & NA\\\\\n",
       "\t6 & 1000236 & 1000236 & Male   & 61 & NA & 70 & NA & 0  & NA & 0  & NA\\\\\n",
       "\\end{tabular}\n"
      ],
      "text/markdown": [
       "\n",
       "A data.frame: 6 × 11\n",
       "\n",
       "| <!--/--> | IID &lt;int&gt; | FID &lt;int&gt; | f.22001.0.0 &lt;fct&gt; | f.21003.0.0 &lt;int&gt; | f.21003.1.0 &lt;int&gt; | f.21003.2.0 &lt;int&gt; | f.21003.3.0 &lt;int&gt; | f.3393.0.0_recode &lt;fct&gt; | f.3393.1.0_recode &lt;fct&gt; | f.3393.2.0_recode &lt;fct&gt; | f.3393.3.0_recode &lt;fct&gt; |\n",
       "|---|---|---|---|---|---|---|---|---|---|---|---|\n",
       "| 1 | 1000019 | 1000019 | Female | 47 | NA | NA | NA | 0  | NA | NA | NA |\n",
       "| 2 | 1000035 | 1000035 | Male   | 63 | NA | NA | NA | 0  | NA | NA | NA |\n",
       "| 3 | 1000078 | 1000078 | Female | 52 | 57 | 60 | NA | NA | 0  | 0  | NA |\n",
       "| 4 | 1000081 | 1000081 | Male   | 67 | NA | NA | NA | 0  | NA | NA | NA |\n",
       "| 5 | 1000198 | 1000198 | Female | 41 | NA | NA | NA | 0  | NA | NA | NA |\n",
       "| 6 | 1000236 | 1000236 | Male   | 61 | NA | 70 | NA | 0  | NA | 0  | NA |\n",
       "\n"
      ],
      "text/plain": [
       "  IID     FID     f.22001.0.0 f.21003.0.0 f.21003.1.0 f.21003.2.0 f.21003.3.0\n",
       "1 1000019 1000019 Female      47          NA          NA          NA         \n",
       "2 1000035 1000035 Male        63          NA          NA          NA         \n",
       "3 1000078 1000078 Female      52          57          60          NA         \n",
       "4 1000081 1000081 Male        67          NA          NA          NA         \n",
       "5 1000198 1000198 Female      41          NA          NA          NA         \n",
       "6 1000236 1000236 Male        61          NA          70          NA         \n",
       "  f.3393.0.0_recode f.3393.1.0_recode f.3393.2.0_recode f.3393.3.0_recode\n",
       "1 0                 NA                NA                NA               \n",
       "2 0                 NA                NA                NA               \n",
       "3 NA                0                 0                 NA               \n",
       "4 0                 NA                NA                NA               \n",
       "5 0                 NA                NA                NA               \n",
       "6 0                 NA                0                 NA               "
      ]
     },
     "metadata": {},
     "output_type": "display_data"
    }
   ],
   "source": [
    "hearing_aid <- df.hearing.aid %>% \n",
    "  select(IID,FID,f.22001.0.0, f.21003.0.0,f.21003.1.0,f.21003.2.0,f.21003.3.0,f.3393.0.0_recode,f.3393.1.0_recode,f.3393.2.0_recode,f.3393.3.0_recode)\n",
    "head(hearing_aid)"
   ]
  },
  {
   "cell_type": "markdown",
   "metadata": {
    "kernel": "SoS"
   },
   "source": [
    "## Hearing aid f.3393"
   ]
  },
  {
   "cell_type": "code",
   "execution_count": 203,
   "metadata": {
    "kernel": "R"
   },
   "outputs": [
    {
     "data": {
      "text/html": [
       "<table>\n",
       "<caption>A data.frame: 10 × 12</caption>\n",
       "<thead>\n",
       "\t<tr><th></th><th scope=col>IID</th><th scope=col>FID</th><th scope=col>f.22001.0.0</th><th scope=col>f.21003.0.0</th><th scope=col>f.21003.1.0</th><th scope=col>f.21003.2.0</th><th scope=col>f.21003.3.0</th><th scope=col>f.3393.0.0_recode</th><th scope=col>f.3393.1.0_recode</th><th scope=col>f.3393.2.0_recode</th><th scope=col>f.3393.3.0_recode</th><th scope=col>cases</th></tr>\n",
       "\t<tr><th></th><th scope=col>&lt;int&gt;</th><th scope=col>&lt;int&gt;</th><th scope=col>&lt;fct&gt;</th><th scope=col>&lt;int&gt;</th><th scope=col>&lt;int&gt;</th><th scope=col>&lt;int&gt;</th><th scope=col>&lt;int&gt;</th><th scope=col>&lt;fct&gt;</th><th scope=col>&lt;fct&gt;</th><th scope=col>&lt;fct&gt;</th><th scope=col>&lt;fct&gt;</th><th scope=col>&lt;lgl&gt;</th></tr>\n",
       "</thead>\n",
       "<tbody>\n",
       "\t<tr><th scope=row>1</th><td>1000019</td><td>1000019</td><td>Female</td><td>47</td><td>NA</td><td>NA</td><td>NA</td><td>0 </td><td>NA</td><td>NA</td><td>NA</td><td>FALSE</td></tr>\n",
       "\t<tr><th scope=row>2</th><td>1000035</td><td>1000035</td><td>Male  </td><td>63</td><td>NA</td><td>NA</td><td>NA</td><td>0 </td><td>NA</td><td>NA</td><td>NA</td><td>FALSE</td></tr>\n",
       "\t<tr><th scope=row>3</th><td>1000078</td><td>1000078</td><td>Female</td><td>52</td><td>57</td><td>60</td><td>NA</td><td>NA</td><td>0 </td><td>0 </td><td>NA</td><td>FALSE</td></tr>\n",
       "\t<tr><th scope=row>4</th><td>1000081</td><td>1000081</td><td>Male  </td><td>67</td><td>NA</td><td>NA</td><td>NA</td><td>0 </td><td>NA</td><td>NA</td><td>NA</td><td>FALSE</td></tr>\n",
       "\t<tr><th scope=row>5</th><td>1000198</td><td>1000198</td><td>Female</td><td>41</td><td>NA</td><td>NA</td><td>NA</td><td>0 </td><td>NA</td><td>NA</td><td>NA</td><td>FALSE</td></tr>\n",
       "\t<tr><th scope=row>6</th><td>1000236</td><td>1000236</td><td>Male  </td><td>61</td><td>NA</td><td>70</td><td>NA</td><td>0 </td><td>NA</td><td>0 </td><td>NA</td><td>FALSE</td></tr>\n",
       "\t<tr><th scope=row>7</th><td>1000255</td><td>1000255</td><td>Female</td><td>51</td><td>NA</td><td>61</td><td>NA</td><td>0 </td><td>NA</td><td>0 </td><td>NA</td><td>FALSE</td></tr>\n",
       "\t<tr><th scope=row>8</th><td>1000272</td><td>1000272</td><td>Male  </td><td>43</td><td>NA</td><td>NA</td><td>NA</td><td>0 </td><td>NA</td><td>NA</td><td>NA</td><td>FALSE</td></tr>\n",
       "\t<tr><th scope=row>9</th><td>1000304</td><td>1000304</td><td>Female</td><td>56</td><td>NA</td><td>NA</td><td>NA</td><td>0 </td><td>NA</td><td>NA</td><td>NA</td><td>FALSE</td></tr>\n",
       "\t<tr><th scope=row>10</th><td>1000331</td><td>1000331</td><td>Female</td><td>53</td><td>NA</td><td>NA</td><td>NA</td><td>0 </td><td>NA</td><td>NA</td><td>NA</td><td>FALSE</td></tr>\n",
       "</tbody>\n",
       "</table>\n"
      ],
      "text/latex": [
       "A data.frame: 10 × 12\n",
       "\\begin{tabular}{r|llllllllllll}\n",
       "  & IID & FID & f.22001.0.0 & f.21003.0.0 & f.21003.1.0 & f.21003.2.0 & f.21003.3.0 & f.3393.0.0\\_recode & f.3393.1.0\\_recode & f.3393.2.0\\_recode & f.3393.3.0\\_recode & cases\\\\\n",
       "  & <int> & <int> & <fct> & <int> & <int> & <int> & <int> & <fct> & <fct> & <fct> & <fct> & <lgl>\\\\\n",
       "\\hline\n",
       "\t1 & 1000019 & 1000019 & Female & 47 & NA & NA & NA & 0  & NA & NA & NA & FALSE\\\\\n",
       "\t2 & 1000035 & 1000035 & Male   & 63 & NA & NA & NA & 0  & NA & NA & NA & FALSE\\\\\n",
       "\t3 & 1000078 & 1000078 & Female & 52 & 57 & 60 & NA & NA & 0  & 0  & NA & FALSE\\\\\n",
       "\t4 & 1000081 & 1000081 & Male   & 67 & NA & NA & NA & 0  & NA & NA & NA & FALSE\\\\\n",
       "\t5 & 1000198 & 1000198 & Female & 41 & NA & NA & NA & 0  & NA & NA & NA & FALSE\\\\\n",
       "\t6 & 1000236 & 1000236 & Male   & 61 & NA & 70 & NA & 0  & NA & 0  & NA & FALSE\\\\\n",
       "\t7 & 1000255 & 1000255 & Female & 51 & NA & 61 & NA & 0  & NA & 0  & NA & FALSE\\\\\n",
       "\t8 & 1000272 & 1000272 & Male   & 43 & NA & NA & NA & 0  & NA & NA & NA & FALSE\\\\\n",
       "\t9 & 1000304 & 1000304 & Female & 56 & NA & NA & NA & 0  & NA & NA & NA & FALSE\\\\\n",
       "\t10 & 1000331 & 1000331 & Female & 53 & NA & NA & NA & 0  & NA & NA & NA & FALSE\\\\\n",
       "\\end{tabular}\n"
      ],
      "text/markdown": [
       "\n",
       "A data.frame: 10 × 12\n",
       "\n",
       "| <!--/--> | IID &lt;int&gt; | FID &lt;int&gt; | f.22001.0.0 &lt;fct&gt; | f.21003.0.0 &lt;int&gt; | f.21003.1.0 &lt;int&gt; | f.21003.2.0 &lt;int&gt; | f.21003.3.0 &lt;int&gt; | f.3393.0.0_recode &lt;fct&gt; | f.3393.1.0_recode &lt;fct&gt; | f.3393.2.0_recode &lt;fct&gt; | f.3393.3.0_recode &lt;fct&gt; | cases &lt;lgl&gt; |\n",
       "|---|---|---|---|---|---|---|---|---|---|---|---|---|\n",
       "| 1 | 1000019 | 1000019 | Female | 47 | NA | NA | NA | 0  | NA | NA | NA | FALSE |\n",
       "| 2 | 1000035 | 1000035 | Male   | 63 | NA | NA | NA | 0  | NA | NA | NA | FALSE |\n",
       "| 3 | 1000078 | 1000078 | Female | 52 | 57 | 60 | NA | NA | 0  | 0  | NA | FALSE |\n",
       "| 4 | 1000081 | 1000081 | Male   | 67 | NA | NA | NA | 0  | NA | NA | NA | FALSE |\n",
       "| 5 | 1000198 | 1000198 | Female | 41 | NA | NA | NA | 0  | NA | NA | NA | FALSE |\n",
       "| 6 | 1000236 | 1000236 | Male   | 61 | NA | 70 | NA | 0  | NA | 0  | NA | FALSE |\n",
       "| 7 | 1000255 | 1000255 | Female | 51 | NA | 61 | NA | 0  | NA | 0  | NA | FALSE |\n",
       "| 8 | 1000272 | 1000272 | Male   | 43 | NA | NA | NA | 0  | NA | NA | NA | FALSE |\n",
       "| 9 | 1000304 | 1000304 | Female | 56 | NA | NA | NA | 0  | NA | NA | NA | FALSE |\n",
       "| 10 | 1000331 | 1000331 | Female | 53 | NA | NA | NA | 0  | NA | NA | NA | FALSE |\n",
       "\n"
      ],
      "text/plain": [
       "   IID     FID     f.22001.0.0 f.21003.0.0 f.21003.1.0 f.21003.2.0 f.21003.3.0\n",
       "1  1000019 1000019 Female      47          NA          NA          NA         \n",
       "2  1000035 1000035 Male        63          NA          NA          NA         \n",
       "3  1000078 1000078 Female      52          57          60          NA         \n",
       "4  1000081 1000081 Male        67          NA          NA          NA         \n",
       "5  1000198 1000198 Female      41          NA          NA          NA         \n",
       "6  1000236 1000236 Male        61          NA          70          NA         \n",
       "7  1000255 1000255 Female      51          NA          61          NA         \n",
       "8  1000272 1000272 Male        43          NA          NA          NA         \n",
       "9  1000304 1000304 Female      56          NA          NA          NA         \n",
       "10 1000331 1000331 Female      53          NA          NA          NA         \n",
       "   f.3393.0.0_recode f.3393.1.0_recode f.3393.2.0_recode f.3393.3.0_recode\n",
       "1  0                 NA                NA                NA               \n",
       "2  0                 NA                NA                NA               \n",
       "3  NA                0                 0                 NA               \n",
       "4  0                 NA                NA                NA               \n",
       "5  0                 NA                NA                NA               \n",
       "6  0                 NA                0                 NA               \n",
       "7  0                 NA                0                 NA               \n",
       "8  0                 NA                NA                NA               \n",
       "9  0                 NA                NA                NA               \n",
       "10 0                 NA                NA                NA               \n",
       "   cases\n",
       "1  FALSE\n",
       "2  FALSE\n",
       "3  FALSE\n",
       "4  FALSE\n",
       "5  FALSE\n",
       "6  FALSE\n",
       "7  FALSE\n",
       "8  FALSE\n",
       "9  FALSE\n",
       "10 FALSE"
      ]
     },
     "metadata": {},
     "output_type": "display_data"
    }
   ],
   "source": [
    "data_sub <- select(hearing_aid,starts_with(\"f.3393\"))\n",
    "\n",
    "# Function to define cases\n",
    "f<-function(x){\n",
    "  visit<-c()\n",
    "  for (i in 1:4){\n",
    "    if (!is.na(x[i]))\n",
    "    {visit<-c(visit,x[i])}\n",
    "  }\n",
    "  if (\"1\" %in% visit){result= TRUE}\n",
    "  else{result=FALSE}\n",
    "  return (result)\n",
    "}\n",
    "\n",
    "# Apply the above function\n",
    "hearing_aid$cases<-apply(data_sub, 1, f)\n",
    "head(hearing_aid,10)"
   ]
  },
  {
   "cell_type": "code",
   "execution_count": 204,
   "metadata": {
    "kernel": "R"
   },
   "outputs": [
    {
     "data": {
      "text/html": [
       "<table>\n",
       "<caption>A data.frame: 6 × 12</caption>\n",
       "<thead>\n",
       "\t<tr><th></th><th scope=col>IID</th><th scope=col>FID</th><th scope=col>f.22001.0.0</th><th scope=col>f.21003.0.0</th><th scope=col>f.21003.1.0</th><th scope=col>f.21003.2.0</th><th scope=col>f.21003.3.0</th><th scope=col>f.3393.0.0_recode</th><th scope=col>f.3393.1.0_recode</th><th scope=col>f.3393.2.0_recode</th><th scope=col>f.3393.3.0_recode</th><th scope=col>cases</th></tr>\n",
       "\t<tr><th></th><th scope=col>&lt;int&gt;</th><th scope=col>&lt;int&gt;</th><th scope=col>&lt;fct&gt;</th><th scope=col>&lt;int&gt;</th><th scope=col>&lt;int&gt;</th><th scope=col>&lt;int&gt;</th><th scope=col>&lt;int&gt;</th><th scope=col>&lt;fct&gt;</th><th scope=col>&lt;fct&gt;</th><th scope=col>&lt;fct&gt;</th><th scope=col>&lt;fct&gt;</th><th scope=col>&lt;lgl&gt;</th></tr>\n",
       "</thead>\n",
       "<tbody>\n",
       "\t<tr><th scope=row>1</th><td>1001384</td><td>1001384</td><td>Female</td><td>61</td><td>NA</td><td>NA</td><td>NA</td><td>1</td><td>NA</td><td>NA</td><td>NA</td><td>TRUE</td></tr>\n",
       "\t<tr><th scope=row>2</th><td>1002548</td><td>1002548</td><td>Male  </td><td>62</td><td>NA</td><td>NA</td><td>NA</td><td>1</td><td>NA</td><td>NA</td><td>NA</td><td>TRUE</td></tr>\n",
       "\t<tr><th scope=row>3</th><td>1002888</td><td>1002888</td><td>Male  </td><td>68</td><td>NA</td><td>NA</td><td>NA</td><td>1</td><td>NA</td><td>NA</td><td>NA</td><td>TRUE</td></tr>\n",
       "\t<tr><th scope=row>4</th><td>1002944</td><td>1002944</td><td>Male  </td><td>65</td><td>NA</td><td>NA</td><td>NA</td><td>1</td><td>NA</td><td>NA</td><td>NA</td><td>TRUE</td></tr>\n",
       "\t<tr><th scope=row>5</th><td>1003258</td><td>1003258</td><td>Male  </td><td>69</td><td>74</td><td>NA</td><td>NA</td><td>0</td><td>1 </td><td>NA</td><td>NA</td><td>TRUE</td></tr>\n",
       "\t<tr><th scope=row>6</th><td>1004843</td><td>1004843</td><td>Male  </td><td>64</td><td>NA</td><td>NA</td><td>NA</td><td>1</td><td>NA</td><td>NA</td><td>NA</td><td>TRUE</td></tr>\n",
       "</tbody>\n",
       "</table>\n"
      ],
      "text/latex": [
       "A data.frame: 6 × 12\n",
       "\\begin{tabular}{r|llllllllllll}\n",
       "  & IID & FID & f.22001.0.0 & f.21003.0.0 & f.21003.1.0 & f.21003.2.0 & f.21003.3.0 & f.3393.0.0\\_recode & f.3393.1.0\\_recode & f.3393.2.0\\_recode & f.3393.3.0\\_recode & cases\\\\\n",
       "  & <int> & <int> & <fct> & <int> & <int> & <int> & <int> & <fct> & <fct> & <fct> & <fct> & <lgl>\\\\\n",
       "\\hline\n",
       "\t1 & 1001384 & 1001384 & Female & 61 & NA & NA & NA & 1 & NA & NA & NA & TRUE\\\\\n",
       "\t2 & 1002548 & 1002548 & Male   & 62 & NA & NA & NA & 1 & NA & NA & NA & TRUE\\\\\n",
       "\t3 & 1002888 & 1002888 & Male   & 68 & NA & NA & NA & 1 & NA & NA & NA & TRUE\\\\\n",
       "\t4 & 1002944 & 1002944 & Male   & 65 & NA & NA & NA & 1 & NA & NA & NA & TRUE\\\\\n",
       "\t5 & 1003258 & 1003258 & Male   & 69 & 74 & NA & NA & 0 & 1  & NA & NA & TRUE\\\\\n",
       "\t6 & 1004843 & 1004843 & Male   & 64 & NA & NA & NA & 1 & NA & NA & NA & TRUE\\\\\n",
       "\\end{tabular}\n"
      ],
      "text/markdown": [
       "\n",
       "A data.frame: 6 × 12\n",
       "\n",
       "| <!--/--> | IID &lt;int&gt; | FID &lt;int&gt; | f.22001.0.0 &lt;fct&gt; | f.21003.0.0 &lt;int&gt; | f.21003.1.0 &lt;int&gt; | f.21003.2.0 &lt;int&gt; | f.21003.3.0 &lt;int&gt; | f.3393.0.0_recode &lt;fct&gt; | f.3393.1.0_recode &lt;fct&gt; | f.3393.2.0_recode &lt;fct&gt; | f.3393.3.0_recode &lt;fct&gt; | cases &lt;lgl&gt; |\n",
       "|---|---|---|---|---|---|---|---|---|---|---|---|---|\n",
       "| 1 | 1001384 | 1001384 | Female | 61 | NA | NA | NA | 1 | NA | NA | NA | TRUE |\n",
       "| 2 | 1002548 | 1002548 | Male   | 62 | NA | NA | NA | 1 | NA | NA | NA | TRUE |\n",
       "| 3 | 1002888 | 1002888 | Male   | 68 | NA | NA | NA | 1 | NA | NA | NA | TRUE |\n",
       "| 4 | 1002944 | 1002944 | Male   | 65 | NA | NA | NA | 1 | NA | NA | NA | TRUE |\n",
       "| 5 | 1003258 | 1003258 | Male   | 69 | 74 | NA | NA | 0 | 1  | NA | NA | TRUE |\n",
       "| 6 | 1004843 | 1004843 | Male   | 64 | NA | NA | NA | 1 | NA | NA | NA | TRUE |\n",
       "\n"
      ],
      "text/plain": [
       "  IID     FID     f.22001.0.0 f.21003.0.0 f.21003.1.0 f.21003.2.0 f.21003.3.0\n",
       "1 1001384 1001384 Female      61          NA          NA          NA         \n",
       "2 1002548 1002548 Male        62          NA          NA          NA         \n",
       "3 1002888 1002888 Male        68          NA          NA          NA         \n",
       "4 1002944 1002944 Male        65          NA          NA          NA         \n",
       "5 1003258 1003258 Male        69          74          NA          NA         \n",
       "6 1004843 1004843 Male        64          NA          NA          NA         \n",
       "  f.3393.0.0_recode f.3393.1.0_recode f.3393.2.0_recode f.3393.3.0_recode cases\n",
       "1 1                 NA                NA                NA                TRUE \n",
       "2 1                 NA                NA                NA                TRUE \n",
       "3 1                 NA                NA                NA                TRUE \n",
       "4 1                 NA                NA                NA                TRUE \n",
       "5 0                 1                 NA                NA                TRUE \n",
       "6 1                 NA                NA                NA                TRUE "
      ]
     },
     "metadata": {},
     "output_type": "display_data"
    },
    {
     "name": "stdout",
     "output_type": "stream",
     "text": [
      "6512 individuals are cases for f.3393"
     ]
    }
   ],
   "source": [
    "hearing_aid_cases <- hearing_aid %>% \n",
    "  filter(cases == TRUE)\n",
    "head(hearing_aid_cases)\n",
    "cat(dim(hearing_aid_cases)[1], \"individuals are cases for f.3393\")"
   ]
  },
  {
   "cell_type": "code",
   "execution_count": 205,
   "metadata": {
    "kernel": "R"
   },
   "outputs": [
    {
     "data": {
      "text/html": [
       "<table>\n",
       "<caption>A data.frame: 6 × 12</caption>\n",
       "<thead>\n",
       "\t<tr><th></th><th scope=col>IID</th><th scope=col>FID</th><th scope=col>f.22001.0.0</th><th scope=col>f.21003.0.0</th><th scope=col>f.21003.1.0</th><th scope=col>f.21003.2.0</th><th scope=col>f.21003.3.0</th><th scope=col>f.3393.0.0_recode</th><th scope=col>f.3393.1.0_recode</th><th scope=col>f.3393.2.0_recode</th><th scope=col>f.3393.3.0_recode</th><th scope=col>cases</th></tr>\n",
       "\t<tr><th></th><th scope=col>&lt;int&gt;</th><th scope=col>&lt;int&gt;</th><th scope=col>&lt;fct&gt;</th><th scope=col>&lt;int&gt;</th><th scope=col>&lt;int&gt;</th><th scope=col>&lt;int&gt;</th><th scope=col>&lt;int&gt;</th><th scope=col>&lt;fct&gt;</th><th scope=col>&lt;fct&gt;</th><th scope=col>&lt;fct&gt;</th><th scope=col>&lt;fct&gt;</th><th scope=col>&lt;lgl&gt;</th></tr>\n",
       "</thead>\n",
       "<tbody>\n",
       "\t<tr><th scope=row>1</th><td>1000019</td><td>1000019</td><td>Female</td><td>47</td><td>NA</td><td>NA</td><td>NA</td><td>0 </td><td>NA</td><td>NA</td><td>NA</td><td>FALSE</td></tr>\n",
       "\t<tr><th scope=row>2</th><td>1000035</td><td>1000035</td><td>Male  </td><td>63</td><td>NA</td><td>NA</td><td>NA</td><td>0 </td><td>NA</td><td>NA</td><td>NA</td><td>FALSE</td></tr>\n",
       "\t<tr><th scope=row>3</th><td>1000078</td><td>1000078</td><td>Female</td><td>52</td><td>57</td><td>60</td><td>NA</td><td>NA</td><td>0 </td><td>0 </td><td>NA</td><td>FALSE</td></tr>\n",
       "\t<tr><th scope=row>4</th><td>1000081</td><td>1000081</td><td>Male  </td><td>67</td><td>NA</td><td>NA</td><td>NA</td><td>0 </td><td>NA</td><td>NA</td><td>NA</td><td>FALSE</td></tr>\n",
       "\t<tr><th scope=row>5</th><td>1000198</td><td>1000198</td><td>Female</td><td>41</td><td>NA</td><td>NA</td><td>NA</td><td>0 </td><td>NA</td><td>NA</td><td>NA</td><td>FALSE</td></tr>\n",
       "\t<tr><th scope=row>6</th><td>1000236</td><td>1000236</td><td>Male  </td><td>61</td><td>NA</td><td>70</td><td>NA</td><td>0 </td><td>NA</td><td>0 </td><td>NA</td><td>FALSE</td></tr>\n",
       "</tbody>\n",
       "</table>\n"
      ],
      "text/latex": [
       "A data.frame: 6 × 12\n",
       "\\begin{tabular}{r|llllllllllll}\n",
       "  & IID & FID & f.22001.0.0 & f.21003.0.0 & f.21003.1.0 & f.21003.2.0 & f.21003.3.0 & f.3393.0.0\\_recode & f.3393.1.0\\_recode & f.3393.2.0\\_recode & f.3393.3.0\\_recode & cases\\\\\n",
       "  & <int> & <int> & <fct> & <int> & <int> & <int> & <int> & <fct> & <fct> & <fct> & <fct> & <lgl>\\\\\n",
       "\\hline\n",
       "\t1 & 1000019 & 1000019 & Female & 47 & NA & NA & NA & 0  & NA & NA & NA & FALSE\\\\\n",
       "\t2 & 1000035 & 1000035 & Male   & 63 & NA & NA & NA & 0  & NA & NA & NA & FALSE\\\\\n",
       "\t3 & 1000078 & 1000078 & Female & 52 & 57 & 60 & NA & NA & 0  & 0  & NA & FALSE\\\\\n",
       "\t4 & 1000081 & 1000081 & Male   & 67 & NA & NA & NA & 0  & NA & NA & NA & FALSE\\\\\n",
       "\t5 & 1000198 & 1000198 & Female & 41 & NA & NA & NA & 0  & NA & NA & NA & FALSE\\\\\n",
       "\t6 & 1000236 & 1000236 & Male   & 61 & NA & 70 & NA & 0  & NA & 0  & NA & FALSE\\\\\n",
       "\\end{tabular}\n"
      ],
      "text/markdown": [
       "\n",
       "A data.frame: 6 × 12\n",
       "\n",
       "| <!--/--> | IID &lt;int&gt; | FID &lt;int&gt; | f.22001.0.0 &lt;fct&gt; | f.21003.0.0 &lt;int&gt; | f.21003.1.0 &lt;int&gt; | f.21003.2.0 &lt;int&gt; | f.21003.3.0 &lt;int&gt; | f.3393.0.0_recode &lt;fct&gt; | f.3393.1.0_recode &lt;fct&gt; | f.3393.2.0_recode &lt;fct&gt; | f.3393.3.0_recode &lt;fct&gt; | cases &lt;lgl&gt; |\n",
       "|---|---|---|---|---|---|---|---|---|---|---|---|---|\n",
       "| 1 | 1000019 | 1000019 | Female | 47 | NA | NA | NA | 0  | NA | NA | NA | FALSE |\n",
       "| 2 | 1000035 | 1000035 | Male   | 63 | NA | NA | NA | 0  | NA | NA | NA | FALSE |\n",
       "| 3 | 1000078 | 1000078 | Female | 52 | 57 | 60 | NA | NA | 0  | 0  | NA | FALSE |\n",
       "| 4 | 1000081 | 1000081 | Male   | 67 | NA | NA | NA | 0  | NA | NA | NA | FALSE |\n",
       "| 5 | 1000198 | 1000198 | Female | 41 | NA | NA | NA | 0  | NA | NA | NA | FALSE |\n",
       "| 6 | 1000236 | 1000236 | Male   | 61 | NA | 70 | NA | 0  | NA | 0  | NA | FALSE |\n",
       "\n"
      ],
      "text/plain": [
       "  IID     FID     f.22001.0.0 f.21003.0.0 f.21003.1.0 f.21003.2.0 f.21003.3.0\n",
       "1 1000019 1000019 Female      47          NA          NA          NA         \n",
       "2 1000035 1000035 Male        63          NA          NA          NA         \n",
       "3 1000078 1000078 Female      52          57          60          NA         \n",
       "4 1000081 1000081 Male        67          NA          NA          NA         \n",
       "5 1000198 1000198 Female      41          NA          NA          NA         \n",
       "6 1000236 1000236 Male        61          NA          70          NA         \n",
       "  f.3393.0.0_recode f.3393.1.0_recode f.3393.2.0_recode f.3393.3.0_recode cases\n",
       "1 0                 NA                NA                NA                FALSE\n",
       "2 0                 NA                NA                NA                FALSE\n",
       "3 NA                0                 0                 NA                FALSE\n",
       "4 0                 NA                NA                NA                FALSE\n",
       "5 0                 NA                NA                NA                FALSE\n",
       "6 0                 NA                0                 NA                FALSE"
      ]
     },
     "metadata": {},
     "output_type": "display_data"
    },
    {
     "name": "stdout",
     "output_type": "stream",
     "text": [
      "130796 individuals are controls for f.3393"
     ]
    }
   ],
   "source": [
    "hearing_aid_controls <- hearing_aid %>% \n",
    "  filter(cases == FALSE)\n",
    "head(hearing_aid_controls)\n",
    "cat(dim(hearing_aid_controls)[1], \"individuals are controls for f.3393\")"
   ]
  },
  {
   "cell_type": "code",
   "execution_count": 208,
   "metadata": {
    "kernel": "R"
   },
   "outputs": [
    {
     "data": {
      "text/html": [
       "0"
      ],
      "text/latex": [
       "0"
      ],
      "text/markdown": [
       "0"
      ],
      "text/plain": [
       "[1] 0"
      ]
     },
     "metadata": {},
     "output_type": "display_data"
    }
   ],
   "source": [
    "dim(hearing_aid)[1]-6512 -130796"
   ]
  },
  {
   "cell_type": "markdown",
   "metadata": {
    "kernel": "R"
   },
   "source": [
    "## f.3393 Recode cases=1 and controls=0"
   ]
  },
  {
   "cell_type": "code",
   "execution_count": 209,
   "metadata": {
    "kernel": "R"
   },
   "outputs": [
    {
     "data": {
      "text/html": [
       "<table>\n",
       "<caption>A data.frame: 10 × 13</caption>\n",
       "<thead>\n",
       "\t<tr><th></th><th scope=col>IID</th><th scope=col>FID</th><th scope=col>f.22001.0.0</th><th scope=col>f.21003.0.0</th><th scope=col>f.21003.1.0</th><th scope=col>f.21003.2.0</th><th scope=col>f.21003.3.0</th><th scope=col>f.3393.0.0_recode</th><th scope=col>f.3393.1.0_recode</th><th scope=col>f.3393.2.0_recode</th><th scope=col>f.3393.3.0_recode</th><th scope=col>cases</th><th scope=col>hearing_aid_cat</th></tr>\n",
       "\t<tr><th></th><th scope=col>&lt;int&gt;</th><th scope=col>&lt;int&gt;</th><th scope=col>&lt;fct&gt;</th><th scope=col>&lt;int&gt;</th><th scope=col>&lt;int&gt;</th><th scope=col>&lt;int&gt;</th><th scope=col>&lt;int&gt;</th><th scope=col>&lt;fct&gt;</th><th scope=col>&lt;fct&gt;</th><th scope=col>&lt;fct&gt;</th><th scope=col>&lt;fct&gt;</th><th scope=col>&lt;lgl&gt;</th><th scope=col>&lt;int&gt;</th></tr>\n",
       "</thead>\n",
       "<tbody>\n",
       "\t<tr><th scope=row>1</th><td>1000019</td><td>1000019</td><td>Female</td><td>47</td><td>NA</td><td>NA</td><td>NA</td><td>0 </td><td>NA</td><td>NA</td><td>NA</td><td>FALSE</td><td>0</td></tr>\n",
       "\t<tr><th scope=row>2</th><td>1000035</td><td>1000035</td><td>Male  </td><td>63</td><td>NA</td><td>NA</td><td>NA</td><td>0 </td><td>NA</td><td>NA</td><td>NA</td><td>FALSE</td><td>0</td></tr>\n",
       "\t<tr><th scope=row>3</th><td>1000078</td><td>1000078</td><td>Female</td><td>52</td><td>57</td><td>60</td><td>NA</td><td>NA</td><td>0 </td><td>0 </td><td>NA</td><td>FALSE</td><td>0</td></tr>\n",
       "\t<tr><th scope=row>4</th><td>1000081</td><td>1000081</td><td>Male  </td><td>67</td><td>NA</td><td>NA</td><td>NA</td><td>0 </td><td>NA</td><td>NA</td><td>NA</td><td>FALSE</td><td>0</td></tr>\n",
       "\t<tr><th scope=row>5</th><td>1000198</td><td>1000198</td><td>Female</td><td>41</td><td>NA</td><td>NA</td><td>NA</td><td>0 </td><td>NA</td><td>NA</td><td>NA</td><td>FALSE</td><td>0</td></tr>\n",
       "\t<tr><th scope=row>6</th><td>1000236</td><td>1000236</td><td>Male  </td><td>61</td><td>NA</td><td>70</td><td>NA</td><td>0 </td><td>NA</td><td>0 </td><td>NA</td><td>FALSE</td><td>0</td></tr>\n",
       "\t<tr><th scope=row>7</th><td>1000255</td><td>1000255</td><td>Female</td><td>51</td><td>NA</td><td>61</td><td>NA</td><td>0 </td><td>NA</td><td>0 </td><td>NA</td><td>FALSE</td><td>0</td></tr>\n",
       "\t<tr><th scope=row>8</th><td>1000272</td><td>1000272</td><td>Male  </td><td>43</td><td>NA</td><td>NA</td><td>NA</td><td>0 </td><td>NA</td><td>NA</td><td>NA</td><td>FALSE</td><td>0</td></tr>\n",
       "\t<tr><th scope=row>9</th><td>1000304</td><td>1000304</td><td>Female</td><td>56</td><td>NA</td><td>NA</td><td>NA</td><td>0 </td><td>NA</td><td>NA</td><td>NA</td><td>FALSE</td><td>0</td></tr>\n",
       "\t<tr><th scope=row>10</th><td>1000331</td><td>1000331</td><td>Female</td><td>53</td><td>NA</td><td>NA</td><td>NA</td><td>0 </td><td>NA</td><td>NA</td><td>NA</td><td>FALSE</td><td>0</td></tr>\n",
       "</tbody>\n",
       "</table>\n"
      ],
      "text/latex": [
       "A data.frame: 10 × 13\n",
       "\\begin{tabular}{r|lllllllllllll}\n",
       "  & IID & FID & f.22001.0.0 & f.21003.0.0 & f.21003.1.0 & f.21003.2.0 & f.21003.3.0 & f.3393.0.0\\_recode & f.3393.1.0\\_recode & f.3393.2.0\\_recode & f.3393.3.0\\_recode & cases & hearing\\_aid\\_cat\\\\\n",
       "  & <int> & <int> & <fct> & <int> & <int> & <int> & <int> & <fct> & <fct> & <fct> & <fct> & <lgl> & <int>\\\\\n",
       "\\hline\n",
       "\t1 & 1000019 & 1000019 & Female & 47 & NA & NA & NA & 0  & NA & NA & NA & FALSE & 0\\\\\n",
       "\t2 & 1000035 & 1000035 & Male   & 63 & NA & NA & NA & 0  & NA & NA & NA & FALSE & 0\\\\\n",
       "\t3 & 1000078 & 1000078 & Female & 52 & 57 & 60 & NA & NA & 0  & 0  & NA & FALSE & 0\\\\\n",
       "\t4 & 1000081 & 1000081 & Male   & 67 & NA & NA & NA & 0  & NA & NA & NA & FALSE & 0\\\\\n",
       "\t5 & 1000198 & 1000198 & Female & 41 & NA & NA & NA & 0  & NA & NA & NA & FALSE & 0\\\\\n",
       "\t6 & 1000236 & 1000236 & Male   & 61 & NA & 70 & NA & 0  & NA & 0  & NA & FALSE & 0\\\\\n",
       "\t7 & 1000255 & 1000255 & Female & 51 & NA & 61 & NA & 0  & NA & 0  & NA & FALSE & 0\\\\\n",
       "\t8 & 1000272 & 1000272 & Male   & 43 & NA & NA & NA & 0  & NA & NA & NA & FALSE & 0\\\\\n",
       "\t9 & 1000304 & 1000304 & Female & 56 & NA & NA & NA & 0  & NA & NA & NA & FALSE & 0\\\\\n",
       "\t10 & 1000331 & 1000331 & Female & 53 & NA & NA & NA & 0  & NA & NA & NA & FALSE & 0\\\\\n",
       "\\end{tabular}\n"
      ],
      "text/markdown": [
       "\n",
       "A data.frame: 10 × 13\n",
       "\n",
       "| <!--/--> | IID &lt;int&gt; | FID &lt;int&gt; | f.22001.0.0 &lt;fct&gt; | f.21003.0.0 &lt;int&gt; | f.21003.1.0 &lt;int&gt; | f.21003.2.0 &lt;int&gt; | f.21003.3.0 &lt;int&gt; | f.3393.0.0_recode &lt;fct&gt; | f.3393.1.0_recode &lt;fct&gt; | f.3393.2.0_recode &lt;fct&gt; | f.3393.3.0_recode &lt;fct&gt; | cases &lt;lgl&gt; | hearing_aid_cat &lt;int&gt; |\n",
       "|---|---|---|---|---|---|---|---|---|---|---|---|---|---|\n",
       "| 1 | 1000019 | 1000019 | Female | 47 | NA | NA | NA | 0  | NA | NA | NA | FALSE | 0 |\n",
       "| 2 | 1000035 | 1000035 | Male   | 63 | NA | NA | NA | 0  | NA | NA | NA | FALSE | 0 |\n",
       "| 3 | 1000078 | 1000078 | Female | 52 | 57 | 60 | NA | NA | 0  | 0  | NA | FALSE | 0 |\n",
       "| 4 | 1000081 | 1000081 | Male   | 67 | NA | NA | NA | 0  | NA | NA | NA | FALSE | 0 |\n",
       "| 5 | 1000198 | 1000198 | Female | 41 | NA | NA | NA | 0  | NA | NA | NA | FALSE | 0 |\n",
       "| 6 | 1000236 | 1000236 | Male   | 61 | NA | 70 | NA | 0  | NA | 0  | NA | FALSE | 0 |\n",
       "| 7 | 1000255 | 1000255 | Female | 51 | NA | 61 | NA | 0  | NA | 0  | NA | FALSE | 0 |\n",
       "| 8 | 1000272 | 1000272 | Male   | 43 | NA | NA | NA | 0  | NA | NA | NA | FALSE | 0 |\n",
       "| 9 | 1000304 | 1000304 | Female | 56 | NA | NA | NA | 0  | NA | NA | NA | FALSE | 0 |\n",
       "| 10 | 1000331 | 1000331 | Female | 53 | NA | NA | NA | 0  | NA | NA | NA | FALSE | 0 |\n",
       "\n"
      ],
      "text/plain": [
       "   IID     FID     f.22001.0.0 f.21003.0.0 f.21003.1.0 f.21003.2.0 f.21003.3.0\n",
       "1  1000019 1000019 Female      47          NA          NA          NA         \n",
       "2  1000035 1000035 Male        63          NA          NA          NA         \n",
       "3  1000078 1000078 Female      52          57          60          NA         \n",
       "4  1000081 1000081 Male        67          NA          NA          NA         \n",
       "5  1000198 1000198 Female      41          NA          NA          NA         \n",
       "6  1000236 1000236 Male        61          NA          70          NA         \n",
       "7  1000255 1000255 Female      51          NA          61          NA         \n",
       "8  1000272 1000272 Male        43          NA          NA          NA         \n",
       "9  1000304 1000304 Female      56          NA          NA          NA         \n",
       "10 1000331 1000331 Female      53          NA          NA          NA         \n",
       "   f.3393.0.0_recode f.3393.1.0_recode f.3393.2.0_recode f.3393.3.0_recode\n",
       "1  0                 NA                NA                NA               \n",
       "2  0                 NA                NA                NA               \n",
       "3  NA                0                 0                 NA               \n",
       "4  0                 NA                NA                NA               \n",
       "5  0                 NA                NA                NA               \n",
       "6  0                 NA                0                 NA               \n",
       "7  0                 NA                0                 NA               \n",
       "8  0                 NA                NA                NA               \n",
       "9  0                 NA                NA                NA               \n",
       "10 0                 NA                NA                NA               \n",
       "   cases hearing_aid_cat\n",
       "1  FALSE 0              \n",
       "2  FALSE 0              \n",
       "3  FALSE 0              \n",
       "4  FALSE 0              \n",
       "5  FALSE 0              \n",
       "6  FALSE 0              \n",
       "7  FALSE 0              \n",
       "8  FALSE 0              \n",
       "9  FALSE 0              \n",
       "10 FALSE 0              "
      ]
     },
     "metadata": {},
     "output_type": "display_data"
    }
   ],
   "source": [
    "hearing_aid$hearing_aid_cat <- as.integer(as.logical(hearing_aid$cases))\n",
    "head(hearing_aid, 10)\n",
    "# Get the number of NAs\n",
    "#length(which(is.na(hearing_all$hearing_aid_cat)))"
   ]
  },
  {
   "cell_type": "code",
   "execution_count": 210,
   "metadata": {
    "kernel": "R"
   },
   "outputs": [
    {
     "data": {
      "text/html": [
       "<style>\n",
       ".list-inline {list-style: none; margin:0; padding: 0}\n",
       ".list-inline>li {display: inline-block}\n",
       ".list-inline>li:not(:last-child)::after {content: \"\\00b7\"; padding: 0 .5ex}\n",
       "</style>\n",
       "<ol class=list-inline><li>137308</li><li>13</li></ol>\n"
      ],
      "text/latex": [
       "\\begin{enumerate*}\n",
       "\\item 137308\n",
       "\\item 13\n",
       "\\end{enumerate*}\n"
      ],
      "text/markdown": [
       "1. 137308\n",
       "2. 13\n",
       "\n",
       "\n"
      ],
      "text/plain": [
       "[1] 137308     13"
      ]
     },
     "metadata": {},
     "output_type": "display_data"
    }
   ],
   "source": [
    "dim(hearing_aid)"
   ]
  },
  {
   "cell_type": "markdown",
   "metadata": {
    "kernel": "SoS"
   },
   "source": [
    "## Step 2: get the ages for hearing aids (f.3393)"
   ]
  },
  {
   "cell_type": "code",
   "execution_count": 211,
   "metadata": {
    "kernel": "R"
   },
   "outputs": [
    {
     "data": {
      "text/html": [
       "<table>\n",
       "<caption>A data.frame: 12 × 9</caption>\n",
       "<thead>\n",
       "\t<tr><th></th><th scope=col>IID</th><th scope=col>f.3393.0.0_recode</th><th scope=col>f.3393.1.0_recode</th><th scope=col>f.3393.2.0_recode</th><th scope=col>f.3393.3.0_recode</th><th scope=col>f.21003.0.0</th><th scope=col>f.21003.1.0</th><th scope=col>f.21003.2.0</th><th scope=col>f.21003.3.0</th></tr>\n",
       "\t<tr><th></th><th scope=col>&lt;int&gt;</th><th scope=col>&lt;fct&gt;</th><th scope=col>&lt;fct&gt;</th><th scope=col>&lt;fct&gt;</th><th scope=col>&lt;fct&gt;</th><th scope=col>&lt;int&gt;</th><th scope=col>&lt;int&gt;</th><th scope=col>&lt;int&gt;</th><th scope=col>&lt;int&gt;</th></tr>\n",
       "</thead>\n",
       "<tbody>\n",
       "\t<tr><th scope=row>1</th><td>1001384</td><td>1</td><td>NA</td><td>NA</td><td>NA</td><td>61</td><td>NA</td><td>NA</td><td>NA</td></tr>\n",
       "\t<tr><th scope=row>2</th><td>1002548</td><td>1</td><td>NA</td><td>NA</td><td>NA</td><td>62</td><td>NA</td><td>NA</td><td>NA</td></tr>\n",
       "\t<tr><th scope=row>3</th><td>1002888</td><td>1</td><td>NA</td><td>NA</td><td>NA</td><td>68</td><td>NA</td><td>NA</td><td>NA</td></tr>\n",
       "\t<tr><th scope=row>4</th><td>1002944</td><td>1</td><td>NA</td><td>NA</td><td>NA</td><td>65</td><td>NA</td><td>NA</td><td>NA</td></tr>\n",
       "\t<tr><th scope=row>5</th><td>1003258</td><td>0</td><td>1 </td><td>NA</td><td>NA</td><td>69</td><td>74</td><td>NA</td><td>NA</td></tr>\n",
       "\t<tr><th scope=row>6</th><td>1004843</td><td>1</td><td>NA</td><td>NA</td><td>NA</td><td>64</td><td>NA</td><td>NA</td><td>NA</td></tr>\n",
       "\t<tr><th scope=row>7</th><td>1006454</td><td>1</td><td>NA</td><td>NA</td><td>NA</td><td>64</td><td>NA</td><td>NA</td><td>NA</td></tr>\n",
       "\t<tr><th scope=row>8</th><td>1006513</td><td>0</td><td>NA</td><td>1 </td><td>NA</td><td>54</td><td>NA</td><td>59</td><td>NA</td></tr>\n",
       "\t<tr><th scope=row>9</th><td>1007725</td><td>1</td><td>NA</td><td>NA</td><td>NA</td><td>69</td><td>NA</td><td>NA</td><td>NA</td></tr>\n",
       "\t<tr><th scope=row>10</th><td>1009495</td><td>0</td><td>NA</td><td>1 </td><td>NA</td><td>59</td><td>NA</td><td>69</td><td>NA</td></tr>\n",
       "\t<tr><th scope=row>11</th><td>1009950</td><td>0</td><td>0 </td><td>1 </td><td>NA</td><td>57</td><td>62</td><td>64</td><td>NA</td></tr>\n",
       "\t<tr><th scope=row>12</th><td>1010783</td><td>1</td><td>NA</td><td>1 </td><td>NA</td><td>46</td><td>NA</td><td>51</td><td>NA</td></tr>\n",
       "</tbody>\n",
       "</table>\n"
      ],
      "text/latex": [
       "A data.frame: 12 × 9\n",
       "\\begin{tabular}{r|lllllllll}\n",
       "  & IID & f.3393.0.0\\_recode & f.3393.1.0\\_recode & f.3393.2.0\\_recode & f.3393.3.0\\_recode & f.21003.0.0 & f.21003.1.0 & f.21003.2.0 & f.21003.3.0\\\\\n",
       "  & <int> & <fct> & <fct> & <fct> & <fct> & <int> & <int> & <int> & <int>\\\\\n",
       "\\hline\n",
       "\t1 & 1001384 & 1 & NA & NA & NA & 61 & NA & NA & NA\\\\\n",
       "\t2 & 1002548 & 1 & NA & NA & NA & 62 & NA & NA & NA\\\\\n",
       "\t3 & 1002888 & 1 & NA & NA & NA & 68 & NA & NA & NA\\\\\n",
       "\t4 & 1002944 & 1 & NA & NA & NA & 65 & NA & NA & NA\\\\\n",
       "\t5 & 1003258 & 0 & 1  & NA & NA & 69 & 74 & NA & NA\\\\\n",
       "\t6 & 1004843 & 1 & NA & NA & NA & 64 & NA & NA & NA\\\\\n",
       "\t7 & 1006454 & 1 & NA & NA & NA & 64 & NA & NA & NA\\\\\n",
       "\t8 & 1006513 & 0 & NA & 1  & NA & 54 & NA & 59 & NA\\\\\n",
       "\t9 & 1007725 & 1 & NA & NA & NA & 69 & NA & NA & NA\\\\\n",
       "\t10 & 1009495 & 0 & NA & 1  & NA & 59 & NA & 69 & NA\\\\\n",
       "\t11 & 1009950 & 0 & 0  & 1  & NA & 57 & 62 & 64 & NA\\\\\n",
       "\t12 & 1010783 & 1 & NA & 1  & NA & 46 & NA & 51 & NA\\\\\n",
       "\\end{tabular}\n"
      ],
      "text/markdown": [
       "\n",
       "A data.frame: 12 × 9\n",
       "\n",
       "| <!--/--> | IID &lt;int&gt; | f.3393.0.0_recode &lt;fct&gt; | f.3393.1.0_recode &lt;fct&gt; | f.3393.2.0_recode &lt;fct&gt; | f.3393.3.0_recode &lt;fct&gt; | f.21003.0.0 &lt;int&gt; | f.21003.1.0 &lt;int&gt; | f.21003.2.0 &lt;int&gt; | f.21003.3.0 &lt;int&gt; |\n",
       "|---|---|---|---|---|---|---|---|---|---|\n",
       "| 1 | 1001384 | 1 | NA | NA | NA | 61 | NA | NA | NA |\n",
       "| 2 | 1002548 | 1 | NA | NA | NA | 62 | NA | NA | NA |\n",
       "| 3 | 1002888 | 1 | NA | NA | NA | 68 | NA | NA | NA |\n",
       "| 4 | 1002944 | 1 | NA | NA | NA | 65 | NA | NA | NA |\n",
       "| 5 | 1003258 | 0 | 1  | NA | NA | 69 | 74 | NA | NA |\n",
       "| 6 | 1004843 | 1 | NA | NA | NA | 64 | NA | NA | NA |\n",
       "| 7 | 1006454 | 1 | NA | NA | NA | 64 | NA | NA | NA |\n",
       "| 8 | 1006513 | 0 | NA | 1  | NA | 54 | NA | 59 | NA |\n",
       "| 9 | 1007725 | 1 | NA | NA | NA | 69 | NA | NA | NA |\n",
       "| 10 | 1009495 | 0 | NA | 1  | NA | 59 | NA | 69 | NA |\n",
       "| 11 | 1009950 | 0 | 0  | 1  | NA | 57 | 62 | 64 | NA |\n",
       "| 12 | 1010783 | 1 | NA | 1  | NA | 46 | NA | 51 | NA |\n",
       "\n"
      ],
      "text/plain": [
       "   IID     f.3393.0.0_recode f.3393.1.0_recode f.3393.2.0_recode\n",
       "1  1001384 1                 NA                NA               \n",
       "2  1002548 1                 NA                NA               \n",
       "3  1002888 1                 NA                NA               \n",
       "4  1002944 1                 NA                NA               \n",
       "5  1003258 0                 1                 NA               \n",
       "6  1004843 1                 NA                NA               \n",
       "7  1006454 1                 NA                NA               \n",
       "8  1006513 0                 NA                1                \n",
       "9  1007725 1                 NA                NA               \n",
       "10 1009495 0                 NA                1                \n",
       "11 1009950 0                 0                 1                \n",
       "12 1010783 1                 NA                1                \n",
       "   f.3393.3.0_recode f.21003.0.0 f.21003.1.0 f.21003.2.0 f.21003.3.0\n",
       "1  NA                61          NA          NA          NA         \n",
       "2  NA                62          NA          NA          NA         \n",
       "3  NA                68          NA          NA          NA         \n",
       "4  NA                65          NA          NA          NA         \n",
       "5  NA                69          74          NA          NA         \n",
       "6  NA                64          NA          NA          NA         \n",
       "7  NA                64          NA          NA          NA         \n",
       "8  NA                54          NA          59          NA         \n",
       "9  NA                69          NA          NA          NA         \n",
       "10 NA                59          NA          69          NA         \n",
       "11 NA                57          62          64          NA         \n",
       "12 NA                46          NA          51          NA         "
      ]
     },
     "metadata": {},
     "output_type": "display_data"
    }
   ],
   "source": [
    "# Get the subset data of cases\n",
    "aid_age_cases = hearing_aid %>% \n",
    "  filter(hearing_aid_cat==\"1\")  %>%\n",
    "  select(IID, f.3393.0.0_recode, f.3393.1.0_recode, f.3393.2.0_recode, f.3393.3.0_recode, f.21003.0.0, f.21003.1.0, f.21003.2.0, f.21003.3.0)\n",
    "head(aid_age_cases,12)"
   ]
  },
  {
   "cell_type": "code",
   "execution_count": 212,
   "metadata": {
    "kernel": "R"
   },
   "outputs": [
    {
     "data": {
      "text/html": [
       "<table>\n",
       "<caption>A data.frame: 6 × 10</caption>\n",
       "<thead>\n",
       "\t<tr><th></th><th scope=col>IID</th><th scope=col>f.3393.0.0_recode</th><th scope=col>f.3393.1.0_recode</th><th scope=col>f.3393.2.0_recode</th><th scope=col>f.3393.3.0_recode</th><th scope=col>f.21003.0.0</th><th scope=col>f.21003.1.0</th><th scope=col>f.21003.2.0</th><th scope=col>f.21003.3.0</th><th scope=col>visit_idx</th></tr>\n",
       "\t<tr><th></th><th scope=col>&lt;int&gt;</th><th scope=col>&lt;fct&gt;</th><th scope=col>&lt;fct&gt;</th><th scope=col>&lt;fct&gt;</th><th scope=col>&lt;fct&gt;</th><th scope=col>&lt;int&gt;</th><th scope=col>&lt;int&gt;</th><th scope=col>&lt;int&gt;</th><th scope=col>&lt;int&gt;</th><th scope=col>&lt;list&gt;</th></tr>\n",
       "</thead>\n",
       "<tbody>\n",
       "\t<tr><th scope=row>1</th><td>1001384</td><td>1</td><td>NA</td><td>NA</td><td>NA</td><td>61</td><td>NA</td><td>NA</td><td>NA</td><td>2</td></tr>\n",
       "\t<tr><th scope=row>2</th><td>1002548</td><td>1</td><td>NA</td><td>NA</td><td>NA</td><td>62</td><td>NA</td><td>NA</td><td>NA</td><td>2</td></tr>\n",
       "\t<tr><th scope=row>3</th><td>1002888</td><td>1</td><td>NA</td><td>NA</td><td>NA</td><td>68</td><td>NA</td><td>NA</td><td>NA</td><td>2</td></tr>\n",
       "\t<tr><th scope=row>4</th><td>1002944</td><td>1</td><td>NA</td><td>NA</td><td>NA</td><td>65</td><td>NA</td><td>NA</td><td>NA</td><td>2</td></tr>\n",
       "\t<tr><th scope=row>5</th><td>1003258</td><td>0</td><td>1 </td><td>NA</td><td>NA</td><td>69</td><td>74</td><td>NA</td><td>NA</td><td>3</td></tr>\n",
       "\t<tr><th scope=row>6</th><td>1004843</td><td>1</td><td>NA</td><td>NA</td><td>NA</td><td>64</td><td>NA</td><td>NA</td><td>NA</td><td>2</td></tr>\n",
       "</tbody>\n",
       "</table>\n"
      ],
      "text/latex": [
       "A data.frame: 6 × 10\n",
       "\\begin{tabular}{r|llllllllll}\n",
       "  & IID & f.3393.0.0\\_recode & f.3393.1.0\\_recode & f.3393.2.0\\_recode & f.3393.3.0\\_recode & f.21003.0.0 & f.21003.1.0 & f.21003.2.0 & f.21003.3.0 & visit\\_idx\\\\\n",
       "  & <int> & <fct> & <fct> & <fct> & <fct> & <int> & <int> & <int> & <int> & <list>\\\\\n",
       "\\hline\n",
       "\t1 & 1001384 & 1 & NA & NA & NA & 61 & NA & NA & NA & 2\\\\\n",
       "\t2 & 1002548 & 1 & NA & NA & NA & 62 & NA & NA & NA & 2\\\\\n",
       "\t3 & 1002888 & 1 & NA & NA & NA & 68 & NA & NA & NA & 2\\\\\n",
       "\t4 & 1002944 & 1 & NA & NA & NA & 65 & NA & NA & NA & 2\\\\\n",
       "\t5 & 1003258 & 0 & 1  & NA & NA & 69 & 74 & NA & NA & 3\\\\\n",
       "\t6 & 1004843 & 1 & NA & NA & NA & 64 & NA & NA & NA & 2\\\\\n",
       "\\end{tabular}\n"
      ],
      "text/markdown": [
       "\n",
       "A data.frame: 6 × 10\n",
       "\n",
       "| <!--/--> | IID &lt;int&gt; | f.3393.0.0_recode &lt;fct&gt; | f.3393.1.0_recode &lt;fct&gt; | f.3393.2.0_recode &lt;fct&gt; | f.3393.3.0_recode &lt;fct&gt; | f.21003.0.0 &lt;int&gt; | f.21003.1.0 &lt;int&gt; | f.21003.2.0 &lt;int&gt; | f.21003.3.0 &lt;int&gt; | visit_idx &lt;list&gt; |\n",
       "|---|---|---|---|---|---|---|---|---|---|---|\n",
       "| 1 | 1001384 | 1 | NA | NA | NA | 61 | NA | NA | NA | 2 |\n",
       "| 2 | 1002548 | 1 | NA | NA | NA | 62 | NA | NA | NA | 2 |\n",
       "| 3 | 1002888 | 1 | NA | NA | NA | 68 | NA | NA | NA | 2 |\n",
       "| 4 | 1002944 | 1 | NA | NA | NA | 65 | NA | NA | NA | 2 |\n",
       "| 5 | 1003258 | 0 | 1  | NA | NA | 69 | 74 | NA | NA | 3 |\n",
       "| 6 | 1004843 | 1 | NA | NA | NA | 64 | NA | NA | NA | 2 |\n",
       "\n"
      ],
      "text/plain": [
       "  IID     f.3393.0.0_recode f.3393.1.0_recode f.3393.2.0_recode\n",
       "1 1001384 1                 NA                NA               \n",
       "2 1002548 1                 NA                NA               \n",
       "3 1002888 1                 NA                NA               \n",
       "4 1002944 1                 NA                NA               \n",
       "5 1003258 0                 1                 NA               \n",
       "6 1004843 1                 NA                NA               \n",
       "  f.3393.3.0_recode f.21003.0.0 f.21003.1.0 f.21003.2.0 f.21003.3.0 visit_idx\n",
       "1 NA                61          NA          NA          NA          2        \n",
       "2 NA                62          NA          NA          NA          2        \n",
       "3 NA                68          NA          NA          NA          2        \n",
       "4 NA                65          NA          NA          NA          2        \n",
       "5 NA                69          74          NA          NA          3        \n",
       "6 NA                64          NA          NA          NA          2        "
      ]
     },
     "metadata": {},
     "output_type": "display_data"
    }
   ],
   "source": [
    "# Get the # of column where first replied Yes:\n",
    "aid_age_cases$visit_idx = apply(aid_age_cases, 1, function(x) unlist(which(x == '1')))\n",
    "head(aid_age_cases)"
   ]
  },
  {
   "cell_type": "code",
   "execution_count": 213,
   "metadata": {
    "kernel": "R"
   },
   "outputs": [
    {
     "data": {
      "text/html": [
       "<table>\n",
       "<caption>A data.frame: 6 × 11</caption>\n",
       "<thead>\n",
       "\t<tr><th></th><th scope=col>IID</th><th scope=col>f.3393.0.0_recode</th><th scope=col>f.3393.1.0_recode</th><th scope=col>f.3393.2.0_recode</th><th scope=col>f.3393.3.0_recode</th><th scope=col>f.21003.0.0</th><th scope=col>f.21003.1.0</th><th scope=col>f.21003.2.0</th><th scope=col>f.21003.3.0</th><th scope=col>visit_idx</th><th scope=col>age_final_aid</th></tr>\n",
       "\t<tr><th></th><th scope=col>&lt;int&gt;</th><th scope=col>&lt;fct&gt;</th><th scope=col>&lt;fct&gt;</th><th scope=col>&lt;fct&gt;</th><th scope=col>&lt;fct&gt;</th><th scope=col>&lt;int&gt;</th><th scope=col>&lt;int&gt;</th><th scope=col>&lt;int&gt;</th><th scope=col>&lt;int&gt;</th><th scope=col>&lt;list&gt;</th><th scope=col>&lt;int&gt;</th></tr>\n",
       "</thead>\n",
       "<tbody>\n",
       "\t<tr><th scope=row>1</th><td>1001384</td><td>1</td><td>NA</td><td>NA</td><td>NA</td><td>61</td><td>NA</td><td>NA</td><td>NA</td><td>2</td><td>61</td></tr>\n",
       "\t<tr><th scope=row>2</th><td>1002548</td><td>1</td><td>NA</td><td>NA</td><td>NA</td><td>62</td><td>NA</td><td>NA</td><td>NA</td><td>2</td><td>62</td></tr>\n",
       "\t<tr><th scope=row>3</th><td>1002888</td><td>1</td><td>NA</td><td>NA</td><td>NA</td><td>68</td><td>NA</td><td>NA</td><td>NA</td><td>2</td><td>68</td></tr>\n",
       "\t<tr><th scope=row>4</th><td>1002944</td><td>1</td><td>NA</td><td>NA</td><td>NA</td><td>65</td><td>NA</td><td>NA</td><td>NA</td><td>2</td><td>65</td></tr>\n",
       "\t<tr><th scope=row>5</th><td>1003258</td><td>0</td><td>1 </td><td>NA</td><td>NA</td><td>69</td><td>74</td><td>NA</td><td>NA</td><td>3</td><td>74</td></tr>\n",
       "\t<tr><th scope=row>6</th><td>1004843</td><td>1</td><td>NA</td><td>NA</td><td>NA</td><td>64</td><td>NA</td><td>NA</td><td>NA</td><td>2</td><td>64</td></tr>\n",
       "</tbody>\n",
       "</table>\n"
      ],
      "text/latex": [
       "A data.frame: 6 × 11\n",
       "\\begin{tabular}{r|lllllllllll}\n",
       "  & IID & f.3393.0.0\\_recode & f.3393.1.0\\_recode & f.3393.2.0\\_recode & f.3393.3.0\\_recode & f.21003.0.0 & f.21003.1.0 & f.21003.2.0 & f.21003.3.0 & visit\\_idx & age\\_final\\_aid\\\\\n",
       "  & <int> & <fct> & <fct> & <fct> & <fct> & <int> & <int> & <int> & <int> & <list> & <int>\\\\\n",
       "\\hline\n",
       "\t1 & 1001384 & 1 & NA & NA & NA & 61 & NA & NA & NA & 2 & 61\\\\\n",
       "\t2 & 1002548 & 1 & NA & NA & NA & 62 & NA & NA & NA & 2 & 62\\\\\n",
       "\t3 & 1002888 & 1 & NA & NA & NA & 68 & NA & NA & NA & 2 & 68\\\\\n",
       "\t4 & 1002944 & 1 & NA & NA & NA & 65 & NA & NA & NA & 2 & 65\\\\\n",
       "\t5 & 1003258 & 0 & 1  & NA & NA & 69 & 74 & NA & NA & 3 & 74\\\\\n",
       "\t6 & 1004843 & 1 & NA & NA & NA & 64 & NA & NA & NA & 2 & 64\\\\\n",
       "\\end{tabular}\n"
      ],
      "text/markdown": [
       "\n",
       "A data.frame: 6 × 11\n",
       "\n",
       "| <!--/--> | IID &lt;int&gt; | f.3393.0.0_recode &lt;fct&gt; | f.3393.1.0_recode &lt;fct&gt; | f.3393.2.0_recode &lt;fct&gt; | f.3393.3.0_recode &lt;fct&gt; | f.21003.0.0 &lt;int&gt; | f.21003.1.0 &lt;int&gt; | f.21003.2.0 &lt;int&gt; | f.21003.3.0 &lt;int&gt; | visit_idx &lt;list&gt; | age_final_aid &lt;int&gt; |\n",
       "|---|---|---|---|---|---|---|---|---|---|---|---|\n",
       "| 1 | 1001384 | 1 | NA | NA | NA | 61 | NA | NA | NA | 2 | 61 |\n",
       "| 2 | 1002548 | 1 | NA | NA | NA | 62 | NA | NA | NA | 2 | 62 |\n",
       "| 3 | 1002888 | 1 | NA | NA | NA | 68 | NA | NA | NA | 2 | 68 |\n",
       "| 4 | 1002944 | 1 | NA | NA | NA | 65 | NA | NA | NA | 2 | 65 |\n",
       "| 5 | 1003258 | 0 | 1  | NA | NA | 69 | 74 | NA | NA | 3 | 74 |\n",
       "| 6 | 1004843 | 1 | NA | NA | NA | 64 | NA | NA | NA | 2 | 64 |\n",
       "\n"
      ],
      "text/plain": [
       "  IID     f.3393.0.0_recode f.3393.1.0_recode f.3393.2.0_recode\n",
       "1 1001384 1                 NA                NA               \n",
       "2 1002548 1                 NA                NA               \n",
       "3 1002888 1                 NA                NA               \n",
       "4 1002944 1                 NA                NA               \n",
       "5 1003258 0                 1                 NA               \n",
       "6 1004843 1                 NA                NA               \n",
       "  f.3393.3.0_recode f.21003.0.0 f.21003.1.0 f.21003.2.0 f.21003.3.0 visit_idx\n",
       "1 NA                61          NA          NA          NA          2        \n",
       "2 NA                62          NA          NA          NA          2        \n",
       "3 NA                68          NA          NA          NA          2        \n",
       "4 NA                65          NA          NA          NA          2        \n",
       "5 NA                69          74          NA          NA          3        \n",
       "6 NA                64          NA          NA          NA          2        \n",
       "  age_final_aid\n",
       "1 61           \n",
       "2 62           \n",
       "3 68           \n",
       "4 65           \n",
       "5 74           \n",
       "6 64           "
      ]
     },
     "metadata": {},
     "output_type": "display_data"
    },
    {
     "data": {
      "text/plain": [
       "   Min. 1st Qu.  Median    Mean 3rd Qu.    Max. \n",
       "  40.00   60.00   65.00   63.68   68.00   82.00 "
      ]
     },
     "metadata": {},
     "output_type": "display_data"
    }
   ],
   "source": [
    "# Define offset:\n",
    "# offset: refers to the # of columns between the first age column (i.e.f.21003.0.0) and the first recode column (i.e.f.3393.0.0_recode)\n",
    "offset = which(colnames(aid_age_cases) == 'f.21003.0.0') - which(colnames(aid_age_cases) == 'f.3393.0.0_recode')\n",
    "\n",
    "# Define the function to extract the first time they said yes for cases \n",
    "f=get_age_func <- function(x) {\n",
    "  visit_index=x[which(colnames(aid_age_cases)==\"visit_idx\")]\n",
    "  index=min(unlist(visit_index))+offset\n",
    "  age=x[index]\n",
    "  final_age=unlist(age)\n",
    "  if(is.null(final_age))\n",
    "  {final_age<-NA}\n",
    "  return(final_age)\n",
    "}\n",
    "\n",
    "# Get the final age for cases\n",
    "aid_age_cases$age_final_aid = apply(aid_age_cases, 1, f)\n",
    "\n",
    "# Show first 6 rows\n",
    "head(aid_age_cases)\n",
    "summary(aid_age_cases$age_final_aid)"
   ]
  },
  {
   "cell_type": "code",
   "execution_count": 214,
   "metadata": {
    "kernel": "R"
   },
   "outputs": [
    {
     "data": {
      "text/html": [
       "<table>\n",
       "<caption>A data.frame: 6 × 9</caption>\n",
       "<thead>\n",
       "\t<tr><th></th><th scope=col>IID</th><th scope=col>f.3393.0.0_recode</th><th scope=col>f.3393.1.0_recode</th><th scope=col>f.3393.2.0_recode</th><th scope=col>f.3393.3.0_recode</th><th scope=col>f.21003.0.0</th><th scope=col>f.21003.1.0</th><th scope=col>f.21003.2.0</th><th scope=col>f.21003.3.0</th></tr>\n",
       "\t<tr><th></th><th scope=col>&lt;int&gt;</th><th scope=col>&lt;fct&gt;</th><th scope=col>&lt;fct&gt;</th><th scope=col>&lt;fct&gt;</th><th scope=col>&lt;fct&gt;</th><th scope=col>&lt;int&gt;</th><th scope=col>&lt;int&gt;</th><th scope=col>&lt;int&gt;</th><th scope=col>&lt;int&gt;</th></tr>\n",
       "</thead>\n",
       "<tbody>\n",
       "\t<tr><th scope=row>1</th><td>1000019</td><td>0 </td><td>NA</td><td>NA</td><td>NA</td><td>47</td><td>NA</td><td>NA</td><td>NA</td></tr>\n",
       "\t<tr><th scope=row>2</th><td>1000035</td><td>0 </td><td>NA</td><td>NA</td><td>NA</td><td>63</td><td>NA</td><td>NA</td><td>NA</td></tr>\n",
       "\t<tr><th scope=row>3</th><td>1000078</td><td>NA</td><td>0 </td><td>0 </td><td>NA</td><td>52</td><td>57</td><td>60</td><td>NA</td></tr>\n",
       "\t<tr><th scope=row>4</th><td>1000081</td><td>0 </td><td>NA</td><td>NA</td><td>NA</td><td>67</td><td>NA</td><td>NA</td><td>NA</td></tr>\n",
       "\t<tr><th scope=row>5</th><td>1000198</td><td>0 </td><td>NA</td><td>NA</td><td>NA</td><td>41</td><td>NA</td><td>NA</td><td>NA</td></tr>\n",
       "\t<tr><th scope=row>6</th><td>1000236</td><td>0 </td><td>NA</td><td>0 </td><td>NA</td><td>61</td><td>NA</td><td>70</td><td>NA</td></tr>\n",
       "</tbody>\n",
       "</table>\n"
      ],
      "text/latex": [
       "A data.frame: 6 × 9\n",
       "\\begin{tabular}{r|lllllllll}\n",
       "  & IID & f.3393.0.0\\_recode & f.3393.1.0\\_recode & f.3393.2.0\\_recode & f.3393.3.0\\_recode & f.21003.0.0 & f.21003.1.0 & f.21003.2.0 & f.21003.3.0\\\\\n",
       "  & <int> & <fct> & <fct> & <fct> & <fct> & <int> & <int> & <int> & <int>\\\\\n",
       "\\hline\n",
       "\t1 & 1000019 & 0  & NA & NA & NA & 47 & NA & NA & NA\\\\\n",
       "\t2 & 1000035 & 0  & NA & NA & NA & 63 & NA & NA & NA\\\\\n",
       "\t3 & 1000078 & NA & 0  & 0  & NA & 52 & 57 & 60 & NA\\\\\n",
       "\t4 & 1000081 & 0  & NA & NA & NA & 67 & NA & NA & NA\\\\\n",
       "\t5 & 1000198 & 0  & NA & NA & NA & 41 & NA & NA & NA\\\\\n",
       "\t6 & 1000236 & 0  & NA & 0  & NA & 61 & NA & 70 & NA\\\\\n",
       "\\end{tabular}\n"
      ],
      "text/markdown": [
       "\n",
       "A data.frame: 6 × 9\n",
       "\n",
       "| <!--/--> | IID &lt;int&gt; | f.3393.0.0_recode &lt;fct&gt; | f.3393.1.0_recode &lt;fct&gt; | f.3393.2.0_recode &lt;fct&gt; | f.3393.3.0_recode &lt;fct&gt; | f.21003.0.0 &lt;int&gt; | f.21003.1.0 &lt;int&gt; | f.21003.2.0 &lt;int&gt; | f.21003.3.0 &lt;int&gt; |\n",
       "|---|---|---|---|---|---|---|---|---|---|\n",
       "| 1 | 1000019 | 0  | NA | NA | NA | 47 | NA | NA | NA |\n",
       "| 2 | 1000035 | 0  | NA | NA | NA | 63 | NA | NA | NA |\n",
       "| 3 | 1000078 | NA | 0  | 0  | NA | 52 | 57 | 60 | NA |\n",
       "| 4 | 1000081 | 0  | NA | NA | NA | 67 | NA | NA | NA |\n",
       "| 5 | 1000198 | 0  | NA | NA | NA | 41 | NA | NA | NA |\n",
       "| 6 | 1000236 | 0  | NA | 0  | NA | 61 | NA | 70 | NA |\n",
       "\n"
      ],
      "text/plain": [
       "  IID     f.3393.0.0_recode f.3393.1.0_recode f.3393.2.0_recode\n",
       "1 1000019 0                 NA                NA               \n",
       "2 1000035 0                 NA                NA               \n",
       "3 1000078 NA                0                 0                \n",
       "4 1000081 0                 NA                NA               \n",
       "5 1000198 0                 NA                NA               \n",
       "6 1000236 0                 NA                0                \n",
       "  f.3393.3.0_recode f.21003.0.0 f.21003.1.0 f.21003.2.0 f.21003.3.0\n",
       "1 NA                47          NA          NA          NA         \n",
       "2 NA                63          NA          NA          NA         \n",
       "3 NA                52          57          60          NA         \n",
       "4 NA                67          NA          NA          NA         \n",
       "5 NA                41          NA          NA          NA         \n",
       "6 NA                61          NA          70          NA         "
      ]
     },
     "metadata": {},
     "output_type": "display_data"
    }
   ],
   "source": [
    "### Extract age for Control (3393)\n",
    "aid_age_control <- hearing_aid %>% \n",
    "  filter(hearing_aid_cat == \"0\") %>%\n",
    "  select(IID, f.3393.0.0_recode, f.3393.1.0_recode, f.3393.2.0_recode, f.3393.3.0_recode, f.21003.0.0, f.21003.1.0, f.21003.2.0, f.21003.3.0)\n",
    "head(aid_age_control)"
   ]
  },
  {
   "cell_type": "code",
   "execution_count": 215,
   "metadata": {
    "kernel": "R"
   },
   "outputs": [
    {
     "data": {
      "text/html": [
       "<table>\n",
       "<caption>A data.frame: 6 × 11</caption>\n",
       "<thead>\n",
       "\t<tr><th></th><th scope=col>IID</th><th scope=col>f.3393.0.0_recode</th><th scope=col>f.3393.1.0_recode</th><th scope=col>f.3393.2.0_recode</th><th scope=col>f.3393.3.0_recode</th><th scope=col>f.21003.0.0</th><th scope=col>f.21003.1.0</th><th scope=col>f.21003.2.0</th><th scope=col>f.21003.3.0</th><th scope=col>visit_idx</th><th scope=col>age_final_aid</th></tr>\n",
       "\t<tr><th></th><th scope=col>&lt;int&gt;</th><th scope=col>&lt;fct&gt;</th><th scope=col>&lt;fct&gt;</th><th scope=col>&lt;fct&gt;</th><th scope=col>&lt;fct&gt;</th><th scope=col>&lt;int&gt;</th><th scope=col>&lt;int&gt;</th><th scope=col>&lt;int&gt;</th><th scope=col>&lt;int&gt;</th><th scope=col>&lt;list&gt;</th><th scope=col>&lt;int&gt;</th></tr>\n",
       "</thead>\n",
       "<tbody>\n",
       "\t<tr><th scope=row>1</th><td>1000019</td><td>0 </td><td>NA</td><td>NA</td><td>NA</td><td>47</td><td>NA</td><td>NA</td><td>NA</td><td>2</td><td>47</td></tr>\n",
       "\t<tr><th scope=row>2</th><td>1000035</td><td>0 </td><td>NA</td><td>NA</td><td>NA</td><td>63</td><td>NA</td><td>NA</td><td>NA</td><td>2</td><td>63</td></tr>\n",
       "\t<tr><th scope=row>3</th><td>1000078</td><td>NA</td><td>0 </td><td>0 </td><td>NA</td><td>52</td><td>57</td><td>60</td><td>NA</td><td>3, 4</td><td>60</td></tr>\n",
       "\t<tr><th scope=row>4</th><td>1000081</td><td>0 </td><td>NA</td><td>NA</td><td>NA</td><td>67</td><td>NA</td><td>NA</td><td>NA</td><td>2</td><td>67</td></tr>\n",
       "\t<tr><th scope=row>5</th><td>1000198</td><td>0 </td><td>NA</td><td>NA</td><td>NA</td><td>41</td><td>NA</td><td>NA</td><td>NA</td><td>2</td><td>41</td></tr>\n",
       "\t<tr><th scope=row>6</th><td>1000236</td><td>0 </td><td>NA</td><td>0 </td><td>NA</td><td>61</td><td>NA</td><td>70</td><td>NA</td><td>2, 4</td><td>70</td></tr>\n",
       "</tbody>\n",
       "</table>\n"
      ],
      "text/latex": [
       "A data.frame: 6 × 11\n",
       "\\begin{tabular}{r|lllllllllll}\n",
       "  & IID & f.3393.0.0\\_recode & f.3393.1.0\\_recode & f.3393.2.0\\_recode & f.3393.3.0\\_recode & f.21003.0.0 & f.21003.1.0 & f.21003.2.0 & f.21003.3.0 & visit\\_idx & age\\_final\\_aid\\\\\n",
       "  & <int> & <fct> & <fct> & <fct> & <fct> & <int> & <int> & <int> & <int> & <list> & <int>\\\\\n",
       "\\hline\n",
       "\t1 & 1000019 & 0  & NA & NA & NA & 47 & NA & NA & NA & 2 & 47\\\\\n",
       "\t2 & 1000035 & 0  & NA & NA & NA & 63 & NA & NA & NA & 2 & 63\\\\\n",
       "\t3 & 1000078 & NA & 0  & 0  & NA & 52 & 57 & 60 & NA & 3, 4 & 60\\\\\n",
       "\t4 & 1000081 & 0  & NA & NA & NA & 67 & NA & NA & NA & 2 & 67\\\\\n",
       "\t5 & 1000198 & 0  & NA & NA & NA & 41 & NA & NA & NA & 2 & 41\\\\\n",
       "\t6 & 1000236 & 0  & NA & 0  & NA & 61 & NA & 70 & NA & 2, 4 & 70\\\\\n",
       "\\end{tabular}\n"
      ],
      "text/markdown": [
       "\n",
       "A data.frame: 6 × 11\n",
       "\n",
       "| <!--/--> | IID &lt;int&gt; | f.3393.0.0_recode &lt;fct&gt; | f.3393.1.0_recode &lt;fct&gt; | f.3393.2.0_recode &lt;fct&gt; | f.3393.3.0_recode &lt;fct&gt; | f.21003.0.0 &lt;int&gt; | f.21003.1.0 &lt;int&gt; | f.21003.2.0 &lt;int&gt; | f.21003.3.0 &lt;int&gt; | visit_idx &lt;list&gt; | age_final_aid &lt;int&gt; |\n",
       "|---|---|---|---|---|---|---|---|---|---|---|---|\n",
       "| 1 | 1000019 | 0  | NA | NA | NA | 47 | NA | NA | NA | 2 | 47 |\n",
       "| 2 | 1000035 | 0  | NA | NA | NA | 63 | NA | NA | NA | 2 | 63 |\n",
       "| 3 | 1000078 | NA | 0  | 0  | NA | 52 | 57 | 60 | NA | 3, 4 | 60 |\n",
       "| 4 | 1000081 | 0  | NA | NA | NA | 67 | NA | NA | NA | 2 | 67 |\n",
       "| 5 | 1000198 | 0  | NA | NA | NA | 41 | NA | NA | NA | 2 | 41 |\n",
       "| 6 | 1000236 | 0  | NA | 0  | NA | 61 | NA | 70 | NA | 2, 4 | 70 |\n",
       "\n"
      ],
      "text/plain": [
       "  IID     f.3393.0.0_recode f.3393.1.0_recode f.3393.2.0_recode\n",
       "1 1000019 0                 NA                NA               \n",
       "2 1000035 0                 NA                NA               \n",
       "3 1000078 NA                0                 0                \n",
       "4 1000081 0                 NA                NA               \n",
       "5 1000198 0                 NA                NA               \n",
       "6 1000236 0                 NA                0                \n",
       "  f.3393.3.0_recode f.21003.0.0 f.21003.1.0 f.21003.2.0 f.21003.3.0 visit_idx\n",
       "1 NA                47          NA          NA          NA          2        \n",
       "2 NA                63          NA          NA          NA          2        \n",
       "3 NA                52          57          60          NA          3, 4     \n",
       "4 NA                67          NA          NA          NA          2        \n",
       "5 NA                41          NA          NA          NA          2        \n",
       "6 NA                61          NA          70          NA          2, 4     \n",
       "  age_final_aid\n",
       "1 47           \n",
       "2 63           \n",
       "3 60           \n",
       "4 67           \n",
       "5 41           \n",
       "6 70           "
      ]
     },
     "metadata": {},
     "output_type": "display_data"
    },
    {
     "data": {
      "text/plain": [
       "   Min. 1st Qu.  Median    Mean 3rd Qu.    Max. \n",
       "  39.00   52.00   59.00   58.09   65.00   82.00 "
      ]
     },
     "metadata": {},
     "output_type": "display_data"
    }
   ],
   "source": [
    "# Get the # of column where last replied No:\n",
    "aid_age_control$visit_idx = apply(aid_age_control, 1, function(x) unlist(which(x == '0')))\n",
    "\n",
    "# Define offset:\n",
    "# offset: refers to the # of columns between the first age column (i.e.f.21003.0.0) and the first recode column (i.e.f.3393.0.0_recode)\n",
    "offset = which(colnames(aid_age_control) == 'f.21003.0.0') - which(colnames(aid_age_control) == 'f.3393.0.0_recode')\n",
    "\n",
    "# Define the function to extract the last time they said no for control\n",
    "\n",
    "f=get_age_func <- function(x) {\n",
    "  visit_index=x[which(colnames(aid_age_control)==\"visit_idx\")]\n",
    "  index=max(unlist(visit_index))+offset\n",
    "  age=x[index]\n",
    "  age=unlist(age)\n",
    "  return(age)\n",
    "}\n",
    "\n",
    "# Get the final age for controls\n",
    "aid_age_control$age_final_aid = apply(aid_age_control, 1, f)\n",
    "\n",
    "# Show first 6 rows\n",
    "head(aid_age_control)\n",
    "summary(aid_age_control$age_final_aid)"
   ]
  },
  {
   "cell_type": "code",
   "execution_count": 216,
   "metadata": {
    "kernel": "R"
   },
   "outputs": [
    {
     "data": {
      "text/html": [
       "<style>\n",
       ".list-inline {list-style: none; margin:0; padding: 0}\n",
       ".list-inline>li {display: inline-block}\n",
       ".list-inline>li:not(:last-child)::after {content: \"\\00b7\"; padding: 0 .5ex}\n",
       "</style>\n",
       "<ol class=list-inline><li>137308</li><li>11</li></ol>\n"
      ],
      "text/latex": [
       "\\begin{enumerate*}\n",
       "\\item 137308\n",
       "\\item 11\n",
       "\\end{enumerate*}\n"
      ],
      "text/markdown": [
       "1. 137308\n",
       "2. 11\n",
       "\n",
       "\n"
      ],
      "text/plain": [
       "[1] 137308     11"
      ]
     },
     "metadata": {},
     "output_type": "display_data"
    },
    {
     "data": {
      "text/html": [
       "<table>\n",
       "<caption>A data.frame: 6 × 11</caption>\n",
       "<thead>\n",
       "\t<tr><th></th><th scope=col>IID</th><th scope=col>f.3393.0.0_recode</th><th scope=col>f.3393.1.0_recode</th><th scope=col>f.3393.2.0_recode</th><th scope=col>f.3393.3.0_recode</th><th scope=col>f.21003.0.0</th><th scope=col>f.21003.1.0</th><th scope=col>f.21003.2.0</th><th scope=col>f.21003.3.0</th><th scope=col>visit_idx</th><th scope=col>age_final_aid</th></tr>\n",
       "\t<tr><th></th><th scope=col>&lt;int&gt;</th><th scope=col>&lt;fct&gt;</th><th scope=col>&lt;fct&gt;</th><th scope=col>&lt;fct&gt;</th><th scope=col>&lt;fct&gt;</th><th scope=col>&lt;int&gt;</th><th scope=col>&lt;int&gt;</th><th scope=col>&lt;int&gt;</th><th scope=col>&lt;int&gt;</th><th scope=col>&lt;list&gt;</th><th scope=col>&lt;int&gt;</th></tr>\n",
       "</thead>\n",
       "<tbody>\n",
       "\t<tr><th scope=row>1</th><td>1001384</td><td>1</td><td>NA</td><td>NA</td><td>NA</td><td>61</td><td>NA</td><td>NA</td><td>NA</td><td>2</td><td>61</td></tr>\n",
       "\t<tr><th scope=row>2</th><td>1002548</td><td>1</td><td>NA</td><td>NA</td><td>NA</td><td>62</td><td>NA</td><td>NA</td><td>NA</td><td>2</td><td>62</td></tr>\n",
       "\t<tr><th scope=row>3</th><td>1002888</td><td>1</td><td>NA</td><td>NA</td><td>NA</td><td>68</td><td>NA</td><td>NA</td><td>NA</td><td>2</td><td>68</td></tr>\n",
       "\t<tr><th scope=row>4</th><td>1002944</td><td>1</td><td>NA</td><td>NA</td><td>NA</td><td>65</td><td>NA</td><td>NA</td><td>NA</td><td>2</td><td>65</td></tr>\n",
       "\t<tr><th scope=row>5</th><td>1003258</td><td>0</td><td>1 </td><td>NA</td><td>NA</td><td>69</td><td>74</td><td>NA</td><td>NA</td><td>3</td><td>74</td></tr>\n",
       "\t<tr><th scope=row>6</th><td>1004843</td><td>1</td><td>NA</td><td>NA</td><td>NA</td><td>64</td><td>NA</td><td>NA</td><td>NA</td><td>2</td><td>64</td></tr>\n",
       "</tbody>\n",
       "</table>\n"
      ],
      "text/latex": [
       "A data.frame: 6 × 11\n",
       "\\begin{tabular}{r|lllllllllll}\n",
       "  & IID & f.3393.0.0\\_recode & f.3393.1.0\\_recode & f.3393.2.0\\_recode & f.3393.3.0\\_recode & f.21003.0.0 & f.21003.1.0 & f.21003.2.0 & f.21003.3.0 & visit\\_idx & age\\_final\\_aid\\\\\n",
       "  & <int> & <fct> & <fct> & <fct> & <fct> & <int> & <int> & <int> & <int> & <list> & <int>\\\\\n",
       "\\hline\n",
       "\t1 & 1001384 & 1 & NA & NA & NA & 61 & NA & NA & NA & 2 & 61\\\\\n",
       "\t2 & 1002548 & 1 & NA & NA & NA & 62 & NA & NA & NA & 2 & 62\\\\\n",
       "\t3 & 1002888 & 1 & NA & NA & NA & 68 & NA & NA & NA & 2 & 68\\\\\n",
       "\t4 & 1002944 & 1 & NA & NA & NA & 65 & NA & NA & NA & 2 & 65\\\\\n",
       "\t5 & 1003258 & 0 & 1  & NA & NA & 69 & 74 & NA & NA & 3 & 74\\\\\n",
       "\t6 & 1004843 & 1 & NA & NA & NA & 64 & NA & NA & NA & 2 & 64\\\\\n",
       "\\end{tabular}\n"
      ],
      "text/markdown": [
       "\n",
       "A data.frame: 6 × 11\n",
       "\n",
       "| <!--/--> | IID &lt;int&gt; | f.3393.0.0_recode &lt;fct&gt; | f.3393.1.0_recode &lt;fct&gt; | f.3393.2.0_recode &lt;fct&gt; | f.3393.3.0_recode &lt;fct&gt; | f.21003.0.0 &lt;int&gt; | f.21003.1.0 &lt;int&gt; | f.21003.2.0 &lt;int&gt; | f.21003.3.0 &lt;int&gt; | visit_idx &lt;list&gt; | age_final_aid &lt;int&gt; |\n",
       "|---|---|---|---|---|---|---|---|---|---|---|---|\n",
       "| 1 | 1001384 | 1 | NA | NA | NA | 61 | NA | NA | NA | 2 | 61 |\n",
       "| 2 | 1002548 | 1 | NA | NA | NA | 62 | NA | NA | NA | 2 | 62 |\n",
       "| 3 | 1002888 | 1 | NA | NA | NA | 68 | NA | NA | NA | 2 | 68 |\n",
       "| 4 | 1002944 | 1 | NA | NA | NA | 65 | NA | NA | NA | 2 | 65 |\n",
       "| 5 | 1003258 | 0 | 1  | NA | NA | 69 | 74 | NA | NA | 3 | 74 |\n",
       "| 6 | 1004843 | 1 | NA | NA | NA | 64 | NA | NA | NA | 2 | 64 |\n",
       "\n"
      ],
      "text/plain": [
       "  IID     f.3393.0.0_recode f.3393.1.0_recode f.3393.2.0_recode\n",
       "1 1001384 1                 NA                NA               \n",
       "2 1002548 1                 NA                NA               \n",
       "3 1002888 1                 NA                NA               \n",
       "4 1002944 1                 NA                NA               \n",
       "5 1003258 0                 1                 NA               \n",
       "6 1004843 1                 NA                NA               \n",
       "  f.3393.3.0_recode f.21003.0.0 f.21003.1.0 f.21003.2.0 f.21003.3.0 visit_idx\n",
       "1 NA                61          NA          NA          NA          2        \n",
       "2 NA                62          NA          NA          NA          2        \n",
       "3 NA                68          NA          NA          NA          2        \n",
       "4 NA                65          NA          NA          NA          2        \n",
       "5 NA                69          74          NA          NA          3        \n",
       "6 NA                64          NA          NA          NA          2        \n",
       "  age_final_aid\n",
       "1 61           \n",
       "2 62           \n",
       "3 68           \n",
       "4 65           \n",
       "5 74           \n",
       "6 64           "
      ]
     },
     "metadata": {},
     "output_type": "display_data"
    }
   ],
   "source": [
    "# Merge age_cases and age_controls\n",
    "hearing_aid_age <- rbind(aid_age_cases, aid_age_control) \n",
    "dim(hearing_aid_age)\n",
    "head(hearing_aid_age)"
   ]
  },
  {
   "cell_type": "code",
   "execution_count": 217,
   "metadata": {
    "kernel": "R"
   },
   "outputs": [
    {
     "data": {
      "text/html": [
       "<table>\n",
       "<caption>A data.frame: 6 × 14</caption>\n",
       "<thead>\n",
       "\t<tr><th></th><th scope=col>IID</th><th scope=col>FID</th><th scope=col>f.22001.0.0</th><th scope=col>f.21003.0.0</th><th scope=col>f.21003.1.0</th><th scope=col>f.21003.2.0</th><th scope=col>f.21003.3.0</th><th scope=col>f.3393.0.0_recode</th><th scope=col>f.3393.1.0_recode</th><th scope=col>f.3393.2.0_recode</th><th scope=col>f.3393.3.0_recode</th><th scope=col>cases</th><th scope=col>hearing_aid_cat</th><th scope=col>age_final_aid</th></tr>\n",
       "\t<tr><th></th><th scope=col>&lt;int&gt;</th><th scope=col>&lt;int&gt;</th><th scope=col>&lt;fct&gt;</th><th scope=col>&lt;int&gt;</th><th scope=col>&lt;int&gt;</th><th scope=col>&lt;int&gt;</th><th scope=col>&lt;int&gt;</th><th scope=col>&lt;fct&gt;</th><th scope=col>&lt;fct&gt;</th><th scope=col>&lt;fct&gt;</th><th scope=col>&lt;fct&gt;</th><th scope=col>&lt;lgl&gt;</th><th scope=col>&lt;int&gt;</th><th scope=col>&lt;int&gt;</th></tr>\n",
       "</thead>\n",
       "<tbody>\n",
       "\t<tr><th scope=row>1</th><td>1000019</td><td>1000019</td><td>Female</td><td>47</td><td>NA</td><td>NA</td><td>NA</td><td>0 </td><td>NA</td><td>NA</td><td>NA</td><td>FALSE</td><td>0</td><td>47</td></tr>\n",
       "\t<tr><th scope=row>2</th><td>1000035</td><td>1000035</td><td>Male  </td><td>63</td><td>NA</td><td>NA</td><td>NA</td><td>0 </td><td>NA</td><td>NA</td><td>NA</td><td>FALSE</td><td>0</td><td>63</td></tr>\n",
       "\t<tr><th scope=row>3</th><td>1000078</td><td>1000078</td><td>Female</td><td>52</td><td>57</td><td>60</td><td>NA</td><td>NA</td><td>0 </td><td>0 </td><td>NA</td><td>FALSE</td><td>0</td><td>60</td></tr>\n",
       "\t<tr><th scope=row>4</th><td>1000081</td><td>1000081</td><td>Male  </td><td>67</td><td>NA</td><td>NA</td><td>NA</td><td>0 </td><td>NA</td><td>NA</td><td>NA</td><td>FALSE</td><td>0</td><td>67</td></tr>\n",
       "\t<tr><th scope=row>5</th><td>1000198</td><td>1000198</td><td>Female</td><td>41</td><td>NA</td><td>NA</td><td>NA</td><td>0 </td><td>NA</td><td>NA</td><td>NA</td><td>FALSE</td><td>0</td><td>41</td></tr>\n",
       "\t<tr><th scope=row>6</th><td>1000236</td><td>1000236</td><td>Male  </td><td>61</td><td>NA</td><td>70</td><td>NA</td><td>0 </td><td>NA</td><td>0 </td><td>NA</td><td>FALSE</td><td>0</td><td>70</td></tr>\n",
       "</tbody>\n",
       "</table>\n"
      ],
      "text/latex": [
       "A data.frame: 6 × 14\n",
       "\\begin{tabular}{r|llllllllllllll}\n",
       "  & IID & FID & f.22001.0.0 & f.21003.0.0 & f.21003.1.0 & f.21003.2.0 & f.21003.3.0 & f.3393.0.0\\_recode & f.3393.1.0\\_recode & f.3393.2.0\\_recode & f.3393.3.0\\_recode & cases & hearing\\_aid\\_cat & age\\_final\\_aid\\\\\n",
       "  & <int> & <int> & <fct> & <int> & <int> & <int> & <int> & <fct> & <fct> & <fct> & <fct> & <lgl> & <int> & <int>\\\\\n",
       "\\hline\n",
       "\t1 & 1000019 & 1000019 & Female & 47 & NA & NA & NA & 0  & NA & NA & NA & FALSE & 0 & 47\\\\\n",
       "\t2 & 1000035 & 1000035 & Male   & 63 & NA & NA & NA & 0  & NA & NA & NA & FALSE & 0 & 63\\\\\n",
       "\t3 & 1000078 & 1000078 & Female & 52 & 57 & 60 & NA & NA & 0  & 0  & NA & FALSE & 0 & 60\\\\\n",
       "\t4 & 1000081 & 1000081 & Male   & 67 & NA & NA & NA & 0  & NA & NA & NA & FALSE & 0 & 67\\\\\n",
       "\t5 & 1000198 & 1000198 & Female & 41 & NA & NA & NA & 0  & NA & NA & NA & FALSE & 0 & 41\\\\\n",
       "\t6 & 1000236 & 1000236 & Male   & 61 & NA & 70 & NA & 0  & NA & 0  & NA & FALSE & 0 & 70\\\\\n",
       "\\end{tabular}\n"
      ],
      "text/markdown": [
       "\n",
       "A data.frame: 6 × 14\n",
       "\n",
       "| <!--/--> | IID &lt;int&gt; | FID &lt;int&gt; | f.22001.0.0 &lt;fct&gt; | f.21003.0.0 &lt;int&gt; | f.21003.1.0 &lt;int&gt; | f.21003.2.0 &lt;int&gt; | f.21003.3.0 &lt;int&gt; | f.3393.0.0_recode &lt;fct&gt; | f.3393.1.0_recode &lt;fct&gt; | f.3393.2.0_recode &lt;fct&gt; | f.3393.3.0_recode &lt;fct&gt; | cases &lt;lgl&gt; | hearing_aid_cat &lt;int&gt; | age_final_aid &lt;int&gt; |\n",
       "|---|---|---|---|---|---|---|---|---|---|---|---|---|---|---|\n",
       "| 1 | 1000019 | 1000019 | Female | 47 | NA | NA | NA | 0  | NA | NA | NA | FALSE | 0 | 47 |\n",
       "| 2 | 1000035 | 1000035 | Male   | 63 | NA | NA | NA | 0  | NA | NA | NA | FALSE | 0 | 63 |\n",
       "| 3 | 1000078 | 1000078 | Female | 52 | 57 | 60 | NA | NA | 0  | 0  | NA | FALSE | 0 | 60 |\n",
       "| 4 | 1000081 | 1000081 | Male   | 67 | NA | NA | NA | 0  | NA | NA | NA | FALSE | 0 | 67 |\n",
       "| 5 | 1000198 | 1000198 | Female | 41 | NA | NA | NA | 0  | NA | NA | NA | FALSE | 0 | 41 |\n",
       "| 6 | 1000236 | 1000236 | Male   | 61 | NA | 70 | NA | 0  | NA | 0  | NA | FALSE | 0 | 70 |\n",
       "\n"
      ],
      "text/plain": [
       "  IID     FID     f.22001.0.0 f.21003.0.0 f.21003.1.0 f.21003.2.0 f.21003.3.0\n",
       "1 1000019 1000019 Female      47          NA          NA          NA         \n",
       "2 1000035 1000035 Male        63          NA          NA          NA         \n",
       "3 1000078 1000078 Female      52          57          60          NA         \n",
       "4 1000081 1000081 Male        67          NA          NA          NA         \n",
       "5 1000198 1000198 Female      41          NA          NA          NA         \n",
       "6 1000236 1000236 Male        61          NA          70          NA         \n",
       "  f.3393.0.0_recode f.3393.1.0_recode f.3393.2.0_recode f.3393.3.0_recode cases\n",
       "1 0                 NA                NA                NA                FALSE\n",
       "2 0                 NA                NA                NA                FALSE\n",
       "3 NA                0                 0                 NA                FALSE\n",
       "4 0                 NA                NA                NA                FALSE\n",
       "5 0                 NA                NA                NA                FALSE\n",
       "6 0                 NA                0                 NA                FALSE\n",
       "  hearing_aid_cat age_final_aid\n",
       "1 0               47           \n",
       "2 0               63           \n",
       "3 0               60           \n",
       "4 0               67           \n",
       "5 0               41           \n",
       "6 0               70           "
      ]
     },
     "metadata": {},
     "output_type": "display_data"
    }
   ],
   "source": [
    "hearing_cat_age = merge(x = hearing_aid ,y = hearing_aid_age [,c(\"IID\",\"age_final_aid\")],by=\"IID\", all.x=TRUE)\n",
    "head(hearing_cat_age)"
   ]
  },
  {
   "cell_type": "code",
   "execution_count": 218,
   "metadata": {
    "kernel": "R"
   },
   "outputs": [
    {
     "data": {
      "text/html": [
       "<style>\n",
       ".list-inline {list-style: none; margin:0; padding: 0}\n",
       ".list-inline>li {display: inline-block}\n",
       ".list-inline>li:not(:last-child)::after {content: \"\\00b7\"; padding: 0 .5ex}\n",
       "</style>\n",
       "<ol class=list-inline><li>193866</li><li>2269</li></ol>\n"
      ],
      "text/latex": [
       "\\begin{enumerate*}\n",
       "\\item 193866\n",
       "\\item 2269\n",
       "\\end{enumerate*}\n"
      ],
      "text/markdown": [
       "1. 193866\n",
       "2. 2269\n",
       "\n",
       "\n"
      ],
      "text/plain": [
       "[1] 193866   2269"
      ]
     },
     "metadata": {},
     "output_type": "display_data"
    },
    {
     "data": {
      "text/html": [
       "<table>\n",
       "<caption>A data.frame: 6 × 2269</caption>\n",
       "<thead>\n",
       "\t<tr><th></th><th scope=col>IID</th><th scope=col>FID</th><th scope=col>ignore1</th><th scope=col>ignore2</th><th scope=col>ignore3</th><th scope=col>ignore4</th><th scope=col>f.31.0.0</th><th scope=col>f.34.0.0</th><th scope=col>f.53.0.0</th><th scope=col>f.53.1.0</th><th scope=col>⋯</th><th scope=col>f.131252.0.0</th><th scope=col>f.131253.0.0</th><th scope=col>exclude</th><th scope=col>sex</th><th scope=col>f.3393.0.0_recode</th><th scope=col>f.3393.1.0_recode</th><th scope=col>f.3393.2.0_recode</th><th scope=col>f.3393.3.0_recode</th><th scope=col>hearing_aid_cat</th><th scope=col>age_final_aid</th></tr>\n",
       "\t<tr><th></th><th scope=col>&lt;int&gt;</th><th scope=col>&lt;int&gt;</th><th scope=col>&lt;int&gt;</th><th scope=col>&lt;int&gt;</th><th scope=col>&lt;int&gt;</th><th scope=col>&lt;int&gt;</th><th scope=col>&lt;fct&gt;</th><th scope=col>&lt;int&gt;</th><th scope=col>&lt;fct&gt;</th><th scope=col>&lt;fct&gt;</th><th scope=col>⋯</th><th scope=col>&lt;fct&gt;</th><th scope=col>&lt;fct&gt;</th><th scope=col>&lt;lgl&gt;</th><th scope=col>&lt;fct&gt;</th><th scope=col>&lt;fct&gt;</th><th scope=col>&lt;fct&gt;</th><th scope=col>&lt;fct&gt;</th><th scope=col>&lt;fct&gt;</th><th scope=col>&lt;int&gt;</th><th scope=col>&lt;int&gt;</th></tr>\n",
       "</thead>\n",
       "<tbody>\n",
       "\t<tr><th scope=row>1</th><td>1000019</td><td>1000019</td><td>0</td><td>0</td><td>2</td><td>-9</td><td>Female</td><td>1960</td><td>2008-01-24</td><td>NA        </td><td>⋯</td><td>NA</td><td>NA</td><td>FALSE</td><td>1</td><td>0 </td><td>NA</td><td>NA</td><td>NA</td><td> 0</td><td>47</td></tr>\n",
       "\t<tr><th scope=row>2</th><td>1000035</td><td>1000035</td><td>0</td><td>0</td><td>1</td><td>-9</td><td>Male  </td><td>1944</td><td>2007-11-08</td><td>NA        </td><td>⋯</td><td>NA</td><td>NA</td><td>FALSE</td><td>0</td><td>0 </td><td>NA</td><td>NA</td><td>NA</td><td> 0</td><td>63</td></tr>\n",
       "\t<tr><th scope=row>3</th><td>1000078</td><td>1000078</td><td>0</td><td>0</td><td>2</td><td>-9</td><td>Female</td><td>1955</td><td>2007-08-20</td><td>2012-11-01</td><td>⋯</td><td>NA</td><td>NA</td><td>FALSE</td><td>1</td><td>NA</td><td>0 </td><td>0 </td><td>NA</td><td> 0</td><td>60</td></tr>\n",
       "\t<tr><th scope=row>4</th><td>1000081</td><td>1000081</td><td>0</td><td>0</td><td>1</td><td>-9</td><td>Male  </td><td>1942</td><td>2009-12-03</td><td>NA        </td><td>⋯</td><td>NA</td><td>NA</td><td>FALSE</td><td>0</td><td>0 </td><td>NA</td><td>NA</td><td>NA</td><td> 0</td><td>67</td></tr>\n",
       "\t<tr><th scope=row>5</th><td>1000198</td><td>1000198</td><td>0</td><td>0</td><td>2</td><td>-9</td><td>Female</td><td>1967</td><td>2009-03-27</td><td>NA        </td><td>⋯</td><td>NA</td><td>NA</td><td>FALSE</td><td>1</td><td>0 </td><td>NA</td><td>NA</td><td>NA</td><td> 0</td><td>41</td></tr>\n",
       "\t<tr><th scope=row>6</th><td>1000210</td><td>1000210</td><td>0</td><td>0</td><td>1</td><td>-9</td><td>Male  </td><td>1941</td><td>2008-02-11</td><td>NA        </td><td>⋯</td><td>NA</td><td>NA</td><td>FALSE</td><td>0</td><td>NA</td><td>NA</td><td>NA</td><td>NA</td><td>NA</td><td>NA</td></tr>\n",
       "</tbody>\n",
       "</table>\n"
      ],
      "text/latex": [
       "A data.frame: 6 × 2269\n",
       "\\begin{tabular}{r|lllllllllllllllllllll}\n",
       "  & IID & FID & ignore1 & ignore2 & ignore3 & ignore4 & f.31.0.0 & f.34.0.0 & f.53.0.0 & f.53.1.0 & ⋯ & f.131252.0.0 & f.131253.0.0 & exclude & sex & f.3393.0.0\\_recode & f.3393.1.0\\_recode & f.3393.2.0\\_recode & f.3393.3.0\\_recode & hearing\\_aid\\_cat & age\\_final\\_aid\\\\\n",
       "  & <int> & <int> & <int> & <int> & <int> & <int> & <fct> & <int> & <fct> & <fct> & ⋯ & <fct> & <fct> & <lgl> & <fct> & <fct> & <fct> & <fct> & <fct> & <int> & <int>\\\\\n",
       "\\hline\n",
       "\t1 & 1000019 & 1000019 & 0 & 0 & 2 & -9 & Female & 1960 & 2008-01-24 & NA         & ⋯ & NA & NA & FALSE & 1 & 0  & NA & NA & NA &  0 & 47\\\\\n",
       "\t2 & 1000035 & 1000035 & 0 & 0 & 1 & -9 & Male   & 1944 & 2007-11-08 & NA         & ⋯ & NA & NA & FALSE & 0 & 0  & NA & NA & NA &  0 & 63\\\\\n",
       "\t3 & 1000078 & 1000078 & 0 & 0 & 2 & -9 & Female & 1955 & 2007-08-20 & 2012-11-01 & ⋯ & NA & NA & FALSE & 1 & NA & 0  & 0  & NA &  0 & 60\\\\\n",
       "\t4 & 1000081 & 1000081 & 0 & 0 & 1 & -9 & Male   & 1942 & 2009-12-03 & NA         & ⋯ & NA & NA & FALSE & 0 & 0  & NA & NA & NA &  0 & 67\\\\\n",
       "\t5 & 1000198 & 1000198 & 0 & 0 & 2 & -9 & Female & 1967 & 2009-03-27 & NA         & ⋯ & NA & NA & FALSE & 1 & 0  & NA & NA & NA &  0 & 41\\\\\n",
       "\t6 & 1000210 & 1000210 & 0 & 0 & 1 & -9 & Male   & 1941 & 2008-02-11 & NA         & ⋯ & NA & NA & FALSE & 0 & NA & NA & NA & NA & NA & NA\\\\\n",
       "\\end{tabular}\n"
      ],
      "text/markdown": [
       "\n",
       "A data.frame: 6 × 2269\n",
       "\n",
       "| <!--/--> | IID &lt;int&gt; | FID &lt;int&gt; | ignore1 &lt;int&gt; | ignore2 &lt;int&gt; | ignore3 &lt;int&gt; | ignore4 &lt;int&gt; | f.31.0.0 &lt;fct&gt; | f.34.0.0 &lt;int&gt; | f.53.0.0 &lt;fct&gt; | f.53.1.0 &lt;fct&gt; | ⋯ ⋯ | f.131252.0.0 &lt;fct&gt; | f.131253.0.0 &lt;fct&gt; | exclude &lt;lgl&gt; | sex &lt;fct&gt; | f.3393.0.0_recode &lt;fct&gt; | f.3393.1.0_recode &lt;fct&gt; | f.3393.2.0_recode &lt;fct&gt; | f.3393.3.0_recode &lt;fct&gt; | hearing_aid_cat &lt;int&gt; | age_final_aid &lt;int&gt; |\n",
       "|---|---|---|---|---|---|---|---|---|---|---|---|---|---|---|---|---|---|---|---|---|---|\n",
       "| 1 | 1000019 | 1000019 | 0 | 0 | 2 | -9 | Female | 1960 | 2008-01-24 | NA         | ⋯ | NA | NA | FALSE | 1 | 0  | NA | NA | NA |  0 | 47 |\n",
       "| 2 | 1000035 | 1000035 | 0 | 0 | 1 | -9 | Male   | 1944 | 2007-11-08 | NA         | ⋯ | NA | NA | FALSE | 0 | 0  | NA | NA | NA |  0 | 63 |\n",
       "| 3 | 1000078 | 1000078 | 0 | 0 | 2 | -9 | Female | 1955 | 2007-08-20 | 2012-11-01 | ⋯ | NA | NA | FALSE | 1 | NA | 0  | 0  | NA |  0 | 60 |\n",
       "| 4 | 1000081 | 1000081 | 0 | 0 | 1 | -9 | Male   | 1942 | 2009-12-03 | NA         | ⋯ | NA | NA | FALSE | 0 | 0  | NA | NA | NA |  0 | 67 |\n",
       "| 5 | 1000198 | 1000198 | 0 | 0 | 2 | -9 | Female | 1967 | 2009-03-27 | NA         | ⋯ | NA | NA | FALSE | 1 | 0  | NA | NA | NA |  0 | 41 |\n",
       "| 6 | 1000210 | 1000210 | 0 | 0 | 1 | -9 | Male   | 1941 | 2008-02-11 | NA         | ⋯ | NA | NA | FALSE | 0 | NA | NA | NA | NA | NA | NA |\n",
       "\n"
      ],
      "text/plain": [
       "  IID     FID     ignore1 ignore2 ignore3 ignore4 f.31.0.0 f.34.0.0 f.53.0.0  \n",
       "1 1000019 1000019 0       0       2       -9      Female   1960     2008-01-24\n",
       "2 1000035 1000035 0       0       1       -9      Male     1944     2007-11-08\n",
       "3 1000078 1000078 0       0       2       -9      Female   1955     2007-08-20\n",
       "4 1000081 1000081 0       0       1       -9      Male     1942     2009-12-03\n",
       "5 1000198 1000198 0       0       2       -9      Female   1967     2009-03-27\n",
       "6 1000210 1000210 0       0       1       -9      Male     1941     2008-02-11\n",
       "  f.53.1.0   ⋯ f.131252.0.0 f.131253.0.0 exclude sex f.3393.0.0_recode\n",
       "1 NA         ⋯ NA           NA           FALSE   1   0                \n",
       "2 NA         ⋯ NA           NA           FALSE   0   0                \n",
       "3 2012-11-01 ⋯ NA           NA           FALSE   1   NA               \n",
       "4 NA         ⋯ NA           NA           FALSE   0   0                \n",
       "5 NA         ⋯ NA           NA           FALSE   1   0                \n",
       "6 NA         ⋯ NA           NA           FALSE   0   NA               \n",
       "  f.3393.1.0_recode f.3393.2.0_recode f.3393.3.0_recode hearing_aid_cat\n",
       "1 NA                NA                NA                 0             \n",
       "2 NA                NA                NA                 0             \n",
       "3 0                 0                 NA                 0             \n",
       "4 NA                NA                NA                 0             \n",
       "5 NA                NA                NA                 0             \n",
       "6 NA                NA                NA                NA             \n",
       "  age_final_aid\n",
       "1 47           \n",
       "2 63           \n",
       "3 60           \n",
       "4 67           \n",
       "5 41           \n",
       "6 NA           "
      ]
     },
     "metadata": {},
     "output_type": "display_data"
    }
   ],
   "source": [
    "#Merge with complete database keep the all the rows from original db\n",
    "df_3393 = merge(x = df.final.imp, y = hearing_cat_age [,c(\"IID\",\"hearing_aid_cat\",\"age_final_aid\")],by=\"IID\", all.x=TRUE)\n",
    "dim(df_3393)\n",
    "head(df_3393)"
   ]
  },
  {
   "cell_type": "markdown",
   "metadata": {
    "kernel": "R"
   },
   "source": [
    "## Export file for hearing aid analysis f.3393"
   ]
  },
  {
   "cell_type": "code",
   "execution_count": 219,
   "metadata": {
    "kernel": "R"
   },
   "outputs": [
    {
     "data": {
      "text/html": [
       "<table>\n",
       "<caption>A data.frame: 6 × 5</caption>\n",
       "<thead>\n",
       "\t<tr><th></th><th scope=col>FID</th><th scope=col>IID</th><th scope=col>age_final_aid</th><th scope=col>sex</th><th scope=col>hearing_aid_cat</th></tr>\n",
       "\t<tr><th></th><th scope=col>&lt;int&gt;</th><th scope=col>&lt;int&gt;</th><th scope=col>&lt;int&gt;</th><th scope=col>&lt;fct&gt;</th><th scope=col>&lt;int&gt;</th></tr>\n",
       "</thead>\n",
       "<tbody>\n",
       "\t<tr><th scope=row>1</th><td>1000019</td><td>1000019</td><td>47</td><td>1</td><td>0</td></tr>\n",
       "\t<tr><th scope=row>2</th><td>1000035</td><td>1000035</td><td>63</td><td>0</td><td>0</td></tr>\n",
       "\t<tr><th scope=row>3</th><td>1000078</td><td>1000078</td><td>60</td><td>1</td><td>0</td></tr>\n",
       "\t<tr><th scope=row>4</th><td>1000081</td><td>1000081</td><td>67</td><td>0</td><td>0</td></tr>\n",
       "\t<tr><th scope=row>5</th><td>1000198</td><td>1000198</td><td>41</td><td>1</td><td>0</td></tr>\n",
       "\t<tr><th scope=row>6</th><td>1000236</td><td>1000236</td><td>70</td><td>0</td><td>0</td></tr>\n",
       "</tbody>\n",
       "</table>\n"
      ],
      "text/latex": [
       "A data.frame: 6 × 5\n",
       "\\begin{tabular}{r|lllll}\n",
       "  & FID & IID & age\\_final\\_aid & sex & hearing\\_aid\\_cat\\\\\n",
       "  & <int> & <int> & <int> & <fct> & <int>\\\\\n",
       "\\hline\n",
       "\t1 & 1000019 & 1000019 & 47 & 1 & 0\\\\\n",
       "\t2 & 1000035 & 1000035 & 63 & 0 & 0\\\\\n",
       "\t3 & 1000078 & 1000078 & 60 & 1 & 0\\\\\n",
       "\t4 & 1000081 & 1000081 & 67 & 0 & 0\\\\\n",
       "\t5 & 1000198 & 1000198 & 41 & 1 & 0\\\\\n",
       "\t6 & 1000236 & 1000236 & 70 & 0 & 0\\\\\n",
       "\\end{tabular}\n"
      ],
      "text/markdown": [
       "\n",
       "A data.frame: 6 × 5\n",
       "\n",
       "| <!--/--> | FID &lt;int&gt; | IID &lt;int&gt; | age_final_aid &lt;int&gt; | sex &lt;fct&gt; | hearing_aid_cat &lt;int&gt; |\n",
       "|---|---|---|---|---|---|\n",
       "| 1 | 1000019 | 1000019 | 47 | 1 | 0 |\n",
       "| 2 | 1000035 | 1000035 | 63 | 0 | 0 |\n",
       "| 3 | 1000078 | 1000078 | 60 | 1 | 0 |\n",
       "| 4 | 1000081 | 1000081 | 67 | 0 | 0 |\n",
       "| 5 | 1000198 | 1000198 | 41 | 1 | 0 |\n",
       "| 6 | 1000236 | 1000236 | 70 | 0 | 0 |\n",
       "\n"
      ],
      "text/plain": [
       "  FID     IID     age_final_aid sex hearing_aid_cat\n",
       "1 1000019 1000019 47            1   0              \n",
       "2 1000035 1000035 63            0   0              \n",
       "3 1000078 1000078 60            1   0              \n",
       "4 1000081 1000081 67            0   0              \n",
       "5 1000198 1000198 41            1   0              \n",
       "6 1000236 1000236 70            0   0              "
      ]
     },
     "metadata": {},
     "output_type": "display_data"
    },
    {
     "data": {
      "text/html": [
       "<style>\n",
       ".list-inline {list-style: none; margin:0; padding: 0}\n",
       ".list-inline>li {display: inline-block}\n",
       ".list-inline>li:not(:last-child)::after {content: \"\\00b7\"; padding: 0 .5ex}\n",
       "</style>\n",
       "<ol class=list-inline><li>137308</li><li>5</li></ol>\n"
      ],
      "text/latex": [
       "\\begin{enumerate*}\n",
       "\\item 137308\n",
       "\\item 5\n",
       "\\end{enumerate*}\n"
      ],
      "text/markdown": [
       "1. 137308\n",
       "2. 5\n",
       "\n",
       "\n"
      ],
      "text/plain": [
       "[1] 137308      5"
      ]
     },
     "metadata": {},
     "output_type": "display_data"
    }
   ],
   "source": [
    "f.3393_pheno <- df_3393 %>%\n",
    "    filter(!(is.na(hearing_aid_cat))) %>%\n",
    "    select(FID, IID, age_final_aid, sex, hearing_aid_cat) \n",
    "#%>%mutate(hearing_aid_cat=recode_factor(hearing_aid_cat, `1`=\"case\",`0`=\"control\"), sex=recode_factor(sex, `1`=\"male\", `0`=\"female\" ))\n",
    "head(f.3393_pheno)\n",
    "dim(f.3393_pheno)"
   ]
  },
  {
   "cell_type": "markdown",
   "metadata": {
    "kernel": "R"
   },
   "source": [
    "## Histogram for age of cases and controls"
   ]
  },
  {
   "cell_type": "code",
   "execution_count": 220,
   "metadata": {
    "kernel": "R"
   },
   "outputs": [
    {
     "data": {
      "text/html": [
       "<table>\n",
       "<caption>A data.frame: 2 × 2</caption>\n",
       "<thead>\n",
       "\t<tr><th></th><th scope=col>hearing_aid_cat</th><th scope=col>grp.mean</th></tr>\n",
       "\t<tr><th></th><th scope=col>&lt;int&gt;</th><th scope=col>&lt;dbl&gt;</th></tr>\n",
       "</thead>\n",
       "<tbody>\n",
       "\t<tr><th scope=row>1</th><td>0</td><td>58.09252</td></tr>\n",
       "\t<tr><th scope=row>2</th><td>1</td><td>63.67521</td></tr>\n",
       "</tbody>\n",
       "</table>\n"
      ],
      "text/latex": [
       "A data.frame: 2 × 2\n",
       "\\begin{tabular}{r|ll}\n",
       "  & hearing\\_aid\\_cat & grp.mean\\\\\n",
       "  & <int> & <dbl>\\\\\n",
       "\\hline\n",
       "\t1 & 0 & 58.09252\\\\\n",
       "\t2 & 1 & 63.67521\\\\\n",
       "\\end{tabular}\n"
      ],
      "text/markdown": [
       "\n",
       "A data.frame: 2 × 2\n",
       "\n",
       "| <!--/--> | hearing_aid_cat &lt;int&gt; | grp.mean &lt;dbl&gt; |\n",
       "|---|---|---|\n",
       "| 1 | 0 | 58.09252 |\n",
       "| 2 | 1 | 63.67521 |\n",
       "\n"
      ],
      "text/plain": [
       "  hearing_aid_cat grp.mean\n",
       "1 0               58.09252\n",
       "2 1               63.67521"
      ]
     },
     "metadata": {},
     "output_type": "display_data"
    }
   ],
   "source": [
    "mu <- ddply(f.3393_pheno, \"hearing_aid_cat\", summarise, grp.mean=mean(age_final_aid))\n",
    "head(mu)"
   ]
  },
  {
   "cell_type": "code",
   "execution_count": null,
   "metadata": {
    "kernel": "R"
   },
   "outputs": [],
   "source": [
    "ggplot(f.3393_pheno, aes(x=age_final_aid, fill=hearing_aid_cat, color=hearing_aid_cat)) +\n",
    " geom_histogram(binwidth=1, alpha=0.5, position=\"identity\")+\n",
    "  scale_color_brewer(palette=\"Dark2\")+\n",
    "  scale_fill_brewer(palette=\"Dark2\") +\n",
    "  theme(legend.position=\"top\") +\n",
    "  geom_vline(data=mu, aes(xintercept=grp.mean, color=hearing_aid_cat),\n",
    "             linetype=\"dashed\") +\n",
    "  theme_classic()"
   ]
  },
  {
   "cell_type": "code",
   "execution_count": 222,
   "metadata": {
    "kernel": "R"
   },
   "outputs": [
    {
     "data": {
      "text/html": [
       "24381"
      ],
      "text/latex": [
       "24381"
      ],
      "text/markdown": [
       "24381"
      ],
      "text/plain": [
       "[1] 24381"
      ]
     },
     "metadata": {},
     "output_type": "display_data"
    }
   ],
   "source": [
    "length(which((f.3393_pheno$hearing_aid_cat==\"0\" & f.3393_pheno$age_final_aid <50)))"
   ]
  },
  {
   "cell_type": "code",
   "execution_count": 223,
   "metadata": {
    "kernel": "R"
   },
   "outputs": [
    {
     "data": {
      "text/html": [
       "298"
      ],
      "text/latex": [
       "298"
      ],
      "text/markdown": [
       "298"
      ],
      "text/plain": [
       "[1] 298"
      ]
     },
     "metadata": {},
     "output_type": "display_data"
    }
   ],
   "source": [
    "length(which((f.3393_pheno$hearing_aid_cat==\"1\" & f.3393_pheno$age_final_aid <50)))"
   ]
  },
  {
   "cell_type": "code",
   "execution_count": 224,
   "metadata": {
    "kernel": "R"
   },
   "outputs": [
    {
     "data": {
      "text/html": [
       "<table>\n",
       "<caption>A data.frame: 2 × 2</caption>\n",
       "<thead>\n",
       "\t<tr><th></th><th scope=col>sex</th><th scope=col>grp.mean</th></tr>\n",
       "\t<tr><th></th><th scope=col>&lt;fct&gt;</th><th scope=col>&lt;dbl&gt;</th></tr>\n",
       "</thead>\n",
       "<tbody>\n",
       "\t<tr><th scope=row>1</th><td>1</td><td>57.98607</td></tr>\n",
       "\t<tr><th scope=row>2</th><td>0</td><td>58.77584</td></tr>\n",
       "</tbody>\n",
       "</table>\n"
      ],
      "text/latex": [
       "A data.frame: 2 × 2\n",
       "\\begin{tabular}{r|ll}\n",
       "  & sex & grp.mean\\\\\n",
       "  & <fct> & <dbl>\\\\\n",
       "\\hline\n",
       "\t1 & 1 & 57.98607\\\\\n",
       "\t2 & 0 & 58.77584\\\\\n",
       "\\end{tabular}\n"
      ],
      "text/markdown": [
       "\n",
       "A data.frame: 2 × 2\n",
       "\n",
       "| <!--/--> | sex &lt;fct&gt; | grp.mean &lt;dbl&gt; |\n",
       "|---|---|---|\n",
       "| 1 | 1 | 57.98607 |\n",
       "| 2 | 0 | 58.77584 |\n",
       "\n"
      ],
      "text/plain": [
       "  sex grp.mean\n",
       "1 1   57.98607\n",
       "2 0   58.77584"
      ]
     },
     "metadata": {},
     "output_type": "display_data"
    }
   ],
   "source": [
    "mu1 <- ddply(f.3393_pheno, \"sex\", summarise, grp.mean=mean(age_final_aid))\n",
    "head(mu1)"
   ]
  },
  {
   "cell_type": "code",
   "execution_count": 43,
   "metadata": {
    "kernel": "R"
   },
   "outputs": [
    {
     "data": {
      "image/png": "[encoded data removed]",
      "text/plain": [
       "plot without title"
      ]
     },
     "metadata": {
      "image/png": {
       "height": 420,
       "width": 420
      },
      "text/plain": {
       "height": 420,
       "width": 420
      }
     },
     "output_type": "display_data"
    }
   ],
   "source": [
    "ggplot(f.3393_pheno, aes(x=age_final_aid, fill=sex, color=sex)) +\n",
    " geom_histogram(binwidth=1, alpha=0.5, position=\"identity\")+\n",
    "  scale_color_brewer(palette=\"Dark2\")+\n",
    "  scale_fill_brewer(palette=\"Dark2\") +\n",
    "  theme(legend.position=\"top\") +\n",
    "  theme_classic() +\n",
    "  facet_grid(hearing_aid_cat ~ .)"
   ]
  },
  {
   "cell_type": "markdown",
   "metadata": {
    "kernel": "R"
   },
   "source": [
    "## Find out controls positive for f.2247 & f.2257"
   ]
  },
  {
   "cell_type": "code",
   "execution_count": 225,
   "metadata": {
    "kernel": "R"
   },
   "outputs": [
    {
     "data": {
      "text/html": [
       "<table>\n",
       "<caption>A data.frame: 6 × 15</caption>\n",
       "<thead>\n",
       "\t<tr><th></th><th scope=col>FID</th><th scope=col>IID</th><th scope=col>age_final_aid</th><th scope=col>sex</th><th scope=col>hearing_aid_cat</th><th scope=col>f.2247.0.0</th><th scope=col>f.2247.1.0</th><th scope=col>f.2247.2.0</th><th scope=col>f.2247.3.0</th><th scope=col>f.2257.0.0</th><th scope=col>f.2257.1.0</th><th scope=col>f.2257.2.0</th><th scope=col>f.2257.3.0</th><th scope=col>remove_2247</th><th scope=col>remove_2257</th></tr>\n",
       "\t<tr><th></th><th scope=col>&lt;int&gt;</th><th scope=col>&lt;int&gt;</th><th scope=col>&lt;int&gt;</th><th scope=col>&lt;fct&gt;</th><th scope=col>&lt;int&gt;</th><th scope=col>&lt;fct&gt;</th><th scope=col>&lt;fct&gt;</th><th scope=col>&lt;fct&gt;</th><th scope=col>&lt;fct&gt;</th><th scope=col>&lt;fct&gt;</th><th scope=col>&lt;fct&gt;</th><th scope=col>&lt;fct&gt;</th><th scope=col>&lt;fct&gt;</th><th scope=col>&lt;lgl&gt;</th><th scope=col>&lt;lgl&gt;</th></tr>\n",
       "</thead>\n",
       "<tbody>\n",
       "\t<tr><th scope=row>1</th><td>1000019</td><td>1000019</td><td>47</td><td>1</td><td>0</td><td>Yes</td><td>NA</td><td>NA</td><td>NA</td><td>Yes</td><td>NA</td><td>NA</td><td>NA</td><td> TRUE</td><td> TRUE</td></tr>\n",
       "\t<tr><th scope=row>2</th><td>1000035</td><td>1000035</td><td>63</td><td>0</td><td>0</td><td>No </td><td>NA</td><td>NA</td><td>NA</td><td>Yes</td><td>NA</td><td>NA</td><td>NA</td><td>FALSE</td><td> TRUE</td></tr>\n",
       "\t<tr><th scope=row>3</th><td>1000078</td><td>1000078</td><td>60</td><td>1</td><td>0</td><td>No </td><td>No</td><td>No</td><td>NA</td><td>No </td><td>No</td><td>No</td><td>NA</td><td>FALSE</td><td>FALSE</td></tr>\n",
       "\t<tr><th scope=row>4</th><td>1000081</td><td>1000081</td><td>67</td><td>0</td><td>0</td><td>No </td><td>NA</td><td>NA</td><td>NA</td><td>No </td><td>NA</td><td>NA</td><td>NA</td><td>FALSE</td><td>FALSE</td></tr>\n",
       "\t<tr><th scope=row>5</th><td>1000198</td><td>1000198</td><td>41</td><td>1</td><td>0</td><td>Yes</td><td>NA</td><td>NA</td><td>NA</td><td>Yes</td><td>NA</td><td>NA</td><td>NA</td><td> TRUE</td><td> TRUE</td></tr>\n",
       "\t<tr><th scope=row>6</th><td>1000236</td><td>1000236</td><td>70</td><td>0</td><td>0</td><td>No </td><td>NA</td><td>No</td><td>NA</td><td>No </td><td>NA</td><td>No</td><td>NA</td><td>FALSE</td><td>FALSE</td></tr>\n",
       "</tbody>\n",
       "</table>\n"
      ],
      "text/latex": [
       "A data.frame: 6 × 15\n",
       "\\begin{tabular}{r|lllllllllllllll}\n",
       "  & FID & IID & age\\_final\\_aid & sex & hearing\\_aid\\_cat & f.2247.0.0 & f.2247.1.0 & f.2247.2.0 & f.2247.3.0 & f.2257.0.0 & f.2257.1.0 & f.2257.2.0 & f.2257.3.0 & remove\\_2247 & remove\\_2257\\\\\n",
       "  & <int> & <int> & <int> & <fct> & <int> & <fct> & <fct> & <fct> & <fct> & <fct> & <fct> & <fct> & <fct> & <lgl> & <lgl>\\\\\n",
       "\\hline\n",
       "\t1 & 1000019 & 1000019 & 47 & 1 & 0 & Yes & NA & NA & NA & Yes & NA & NA & NA &  TRUE &  TRUE\\\\\n",
       "\t2 & 1000035 & 1000035 & 63 & 0 & 0 & No  & NA & NA & NA & Yes & NA & NA & NA & FALSE &  TRUE\\\\\n",
       "\t3 & 1000078 & 1000078 & 60 & 1 & 0 & No  & No & No & NA & No  & No & No & NA & FALSE & FALSE\\\\\n",
       "\t4 & 1000081 & 1000081 & 67 & 0 & 0 & No  & NA & NA & NA & No  & NA & NA & NA & FALSE & FALSE\\\\\n",
       "\t5 & 1000198 & 1000198 & 41 & 1 & 0 & Yes & NA & NA & NA & Yes & NA & NA & NA &  TRUE &  TRUE\\\\\n",
       "\t6 & 1000236 & 1000236 & 70 & 0 & 0 & No  & NA & No & NA & No  & NA & No & NA & FALSE & FALSE\\\\\n",
       "\\end{tabular}\n"
      ],
      "text/markdown": [
       "\n",
       "A data.frame: 6 × 15\n",
       "\n",
       "| <!--/--> | FID &lt;int&gt; | IID &lt;int&gt; | age_final_aid &lt;int&gt; | sex &lt;fct&gt; | hearing_aid_cat &lt;int&gt; | f.2247.0.0 &lt;fct&gt; | f.2247.1.0 &lt;fct&gt; | f.2247.2.0 &lt;fct&gt; | f.2247.3.0 &lt;fct&gt; | f.2257.0.0 &lt;fct&gt; | f.2257.1.0 &lt;fct&gt; | f.2257.2.0 &lt;fct&gt; | f.2257.3.0 &lt;fct&gt; | remove_2247 &lt;lgl&gt; | remove_2257 &lt;lgl&gt; |\n",
       "|---|---|---|---|---|---|---|---|---|---|---|---|---|---|---|---|\n",
       "| 1 | 1000019 | 1000019 | 47 | 1 | 0 | Yes | NA | NA | NA | Yes | NA | NA | NA |  TRUE |  TRUE |\n",
       "| 2 | 1000035 | 1000035 | 63 | 0 | 0 | No  | NA | NA | NA | Yes | NA | NA | NA | FALSE |  TRUE |\n",
       "| 3 | 1000078 | 1000078 | 60 | 1 | 0 | No  | No | No | NA | No  | No | No | NA | FALSE | FALSE |\n",
       "| 4 | 1000081 | 1000081 | 67 | 0 | 0 | No  | NA | NA | NA | No  | NA | NA | NA | FALSE | FALSE |\n",
       "| 5 | 1000198 | 1000198 | 41 | 1 | 0 | Yes | NA | NA | NA | Yes | NA | NA | NA |  TRUE |  TRUE |\n",
       "| 6 | 1000236 | 1000236 | 70 | 0 | 0 | No  | NA | No | NA | No  | NA | No | NA | FALSE | FALSE |\n",
       "\n"
      ],
      "text/plain": [
       "  FID     IID     age_final_aid sex hearing_aid_cat f.2247.0.0 f.2247.1.0\n",
       "1 1000019 1000019 47            1   0               Yes        NA        \n",
       "2 1000035 1000035 63            0   0               No         NA        \n",
       "3 1000078 1000078 60            1   0               No         No        \n",
       "4 1000081 1000081 67            0   0               No         NA        \n",
       "5 1000198 1000198 41            1   0               Yes        NA        \n",
       "6 1000236 1000236 70            0   0               No         NA        \n",
       "  f.2247.2.0 f.2247.3.0 f.2257.0.0 f.2257.1.0 f.2257.2.0 f.2257.3.0 remove_2247\n",
       "1 NA         NA         Yes        NA         NA         NA          TRUE      \n",
       "2 NA         NA         Yes        NA         NA         NA         FALSE      \n",
       "3 No         NA         No         No         No         NA         FALSE      \n",
       "4 NA         NA         No         NA         NA         NA         FALSE      \n",
       "5 NA         NA         Yes        NA         NA         NA          TRUE      \n",
       "6 No         NA         No         NA         No         NA         FALSE      \n",
       "  remove_2257\n",
       "1  TRUE      \n",
       "2  TRUE      \n",
       "3 FALSE      \n",
       "4 FALSE      \n",
       "5  TRUE      \n",
       "6 FALSE      "
      ]
     },
     "metadata": {},
     "output_type": "display_data"
    },
    {
     "data": {
      "text/html": [
       "<style>\n",
       ".list-inline {list-style: none; margin:0; padding: 0}\n",
       ".list-inline>li {display: inline-block}\n",
       ".list-inline>li:not(:last-child)::after {content: \"\\00b7\"; padding: 0 .5ex}\n",
       "</style>\n",
       "<ol class=list-inline><li>130796</li><li>15</li></ol>\n"
      ],
      "text/latex": [
       "\\begin{enumerate*}\n",
       "\\item 130796\n",
       "\\item 15\n",
       "\\end{enumerate*}\n"
      ],
      "text/markdown": [
       "1. 130796\n",
       "2. 15\n",
       "\n",
       "\n"
      ],
      "text/plain": [
       "[1] 130796     15"
      ]
     },
     "metadata": {},
     "output_type": "display_data"
    }
   ],
   "source": [
    "control_check_3393 <- df_3393 %>%\n",
    "    filter(hearing_aid_cat==0) %>%\n",
    "    select(FID, IID, age_final_aid, sex, hearing_aid_cat, starts_with(\"f.2247\"), starts_with(\"f.2257\")) %>%\n",
    "    mutate(remove_2247 = apply(select(.,starts_with(\"f.2247\")), 1, function(x) length(which(x == \"Yes\")) > 0),\n",
    "           remove_2257 = apply(select(.,starts_with(\"f.2257\")), 1, function(x) length(which(x == \"Yes\")) > 0))\n",
    "head(control_check_3393)\n",
    "dim(control_check_3393)"
   ]
  },
  {
   "cell_type": "code",
   "execution_count": 226,
   "metadata": {
    "kernel": "R"
   },
   "outputs": [
    {
     "data": {
      "text/html": [
       "43619"
      ],
      "text/latex": [
       "43619"
      ],
      "text/markdown": [
       "43619"
      ],
      "text/plain": [
       "[1] 43619"
      ]
     },
     "metadata": {},
     "output_type": "display_data"
    },
    {
     "data": {
      "text/html": [
       "67781"
      ],
      "text/latex": [
       "67781"
      ],
      "text/markdown": [
       "67781"
      ],
      "text/plain": [
       "[1] 67781"
      ]
     },
     "metadata": {},
     "output_type": "display_data"
    },
    {
     "data": {
      "text/html": [
       "35879"
      ],
      "text/latex": [
       "35879"
      ],
      "text/markdown": [
       "35879"
      ],
      "text/plain": [
       "[1] 35879"
      ]
     },
     "metadata": {},
     "output_type": "display_data"
    },
    {
     "data": {
      "text/html": [
       "75521"
      ],
      "text/latex": [
       "75521"
      ],
      "text/markdown": [
       "75521"
      ],
      "text/plain": [
       "[1] 75521"
      ]
     },
     "metadata": {},
     "output_type": "display_data"
    }
   ],
   "source": [
    "length(which(control_check_3393$remove_2247==TRUE)) #controls that replied yes to f.2247\n",
    "length(which(control_check_3393$remove_2257==TRUE)) #controls that replied yes to f.2257\n",
    "length(which(control_check_3393$remove_2247==TRUE & control_check_3393$remove_2257==TRUE)) # controls that replied yes to both\n",
    "length(which(control_check_3393$remove_2247==TRUE | control_check_3393$remove_2257==TRUE)) # controls that replied yes to either"
   ]
  },
  {
   "cell_type": "markdown",
   "metadata": {
    "kernel": "R"
   },
   "source": [
    "### Export files only white-British"
   ]
  },
  {
   "cell_type": "code",
   "execution_count": 44,
   "metadata": {
    "kernel": "R"
   },
   "outputs": [],
   "source": [
    "write.table(f.3393_pheno, '200828_UKBB_Hearing_aid_f3393', quote = FALSE, row.names = FALSE)"
   ]
  },
  {
   "cell_type": "markdown",
   "metadata": {
    "kernel": "R"
   },
   "source": [
    "### Export files expanded white"
   ]
  },
  {
   "cell_type": "code",
   "execution_count": 44,
   "metadata": {
    "kernel": "R"
   },
   "outputs": [],
   "source": [
    "write.table(f.3393_pheno, '120120_UKBB_Hearing_aid_f3393_expandedwhite', quote = FALSE, row.names = FALSE)"
   ]
  },
  {
   "cell_type": "markdown",
   "metadata": {
    "kernel": "R"
   },
   "source": [
    "### Export files exome data"
   ]
  },
  {
   "cell_type": "code",
   "execution_count": 228,
   "metadata": {
    "kernel": "R"
   },
   "outputs": [],
   "source": [
    "write.table(f.3393_pheno, 'phenotypes_exome_data/010421_UKBB_Hearing_aid_f3393_exomes', quote = FALSE, row.names = FALSE)"
   ]
  },
  {
   "cell_type": "markdown",
   "metadata": {
    "kernel": "SoS"
   },
   "source": [
    "## Hearing difficulty/problems (2247)\n",
    "### step1: classify cases and controls"
   ]
  },
  {
   "cell_type": "code",
   "execution_count": 229,
   "metadata": {
    "kernel": "R"
   },
   "outputs": [
    {
     "data": {
      "text/plain": [
       "\n",
       "         Do not know I am completely deaf                   No \n",
       "                8239                   35               139182 \n",
       "Prefer not to answer                  Yes \n",
       "                 172                45961 "
      ]
     },
     "metadata": {},
     "output_type": "display_data"
    },
    {
     "data": {
      "text/html": [
       "<style>\n",
       ".list-inline {list-style: none; margin:0; padding: 0}\n",
       ".list-inline>li {display: inline-block}\n",
       ".list-inline>li:not(:last-child)::after {content: \"\\00b7\"; padding: 0 .5ex}\n",
       "</style>\n",
       "<ol class=list-inline><li>193866</li><li>2267</li></ol>\n"
      ],
      "text/latex": [
       "\\begin{enumerate*}\n",
       "\\item 193866\n",
       "\\item 2267\n",
       "\\end{enumerate*}\n"
      ],
      "text/markdown": [
       "1. 193866\n",
       "2. 2267\n",
       "\n",
       "\n"
      ],
      "text/plain": [
       "[1] 193866   2267"
      ]
     },
     "metadata": {},
     "output_type": "display_data"
    }
   ],
   "source": [
    "table(df.final.imp$f.2247.0.0)\n",
    "dim(df.final.imp)"
   ]
  },
  {
   "cell_type": "code",
   "execution_count": 230,
   "metadata": {
    "kernel": "R"
   },
   "outputs": [
    {
     "name": "stderr",
     "output_type": "stream",
     "text": [
      "The following `from` values were not present in `x`: Prefer not to answer, I am completely deaf\n",
      "\n",
      "The following `from` values were not present in `x`: Prefer not to answer, I am completely deaf\n",
      "\n"
     ]
    },
    {
     "name": "stdout",
     "output_type": "stream",
     "text": [
      "f.2247.0.0_recode summary:\n",
      "     9      0      1 \n",
      "  8239 139182  45961 \n",
      "\n",
      "f.2247.1.0_recode summary:\n",
      "   9    0    1 \n",
      " 529 6221 2944 \n",
      "\n",
      "f.2247.2.0_recode summary:\n",
      "    9     0     1 \n",
      " 1327 15443  8040 \n",
      "\n",
      "f.2247.3.0_recode summary:\n",
      "  9   0   1 \n",
      " 47 575 328 \n",
      "\n"
     ]
    }
   ],
   "source": [
    "# Recode function:\n",
    "recode<-function(df,column_name){\n",
    "  new_names<-c()\n",
    "  for (i in column_name){\n",
    "    new_column_name<-paste0(i,\"_recode\")\n",
    "    new_names<-c(new_names,new_column_name)\n",
    "    df[,new_column_name] <- revalue(df[,i], c(\"No\"= 0, \n",
    "                                            \"Yes\" =1,\n",
    "                                            \"Prefer not to answer\"= NA,\n",
    "                                             \"Do not know\"=9,\n",
    "                                             \"I am completely deaf\"=NA))\n",
    "  }\n",
    "  return (list(df=df,new_column_names=new_names))\n",
    "}\n",
    "\n",
    "# columns needs to be recoded:\n",
    "column_name<-c(\"f.2247.0.0\",\"f.2247.1.0\",\"f.2247.2.0\",\"f.2247.3.0\")\n",
    "\n",
    "# get a new data.frame with recoded columns added:\n",
    "df.final.imp<-recode(df=df.final.imp,column_name)$df\n",
    "\n",
    "# get names of recoded columns:\n",
    "new_column_names<-recode(df=df.final.imp,column_name)$new_column_names\n",
    "\n",
    "# show recode summary:\n",
    "for (i in new_column_names)\n",
    "{cat(i,\"summary:\");print(table(df.final.imp[,i]));cat(\"\\n\")}"
   ]
  },
  {
   "cell_type": "markdown",
   "metadata": {
    "kernel": "R"
   },
   "source": [
    "## f.2247 Get possible answers"
   ]
  },
  {
   "cell_type": "code",
   "execution_count": 231,
   "metadata": {
    "kernel": "R"
   },
   "outputs": [
    {
     "data": {
      "text/html": [
       "<style>\n",
       ".list-inline {list-style: none; margin:0; padding: 0}\n",
       ".list-inline>li {display: inline-block}\n",
       ".list-inline>li:not(:last-child)::after {content: \"\\00b7\"; padding: 0 .5ex}\n",
       "</style>\n",
       "<ol class=list-inline><li>''</li><li>'0'</li><li>'00'</li><li>'000'</li><li>'0000'</li><li>'0001'</li><li>'0009'</li><li>'001'</li><li>'0010'</li><li>'0011'</li><li>'0019'</li><li>'009'</li><li>'0090'</li><li>'0091'</li><li>'0099'</li><li>'01'</li><li>'010'</li><li>'0100'</li><li>'0101'</li><li>'011'</li><li>'0111'</li><li>'019'</li><li>'09'</li><li>'090'</li><li>'0900'</li><li>'0901'</li><li>'091'</li><li>'0910'</li><li>'0911'</li><li>'099'</li><li>'0991'</li><li>'1'</li><li>'10'</li><li>'100'</li><li>'1000'</li><li>'101'</li><li>'109'</li><li>'1090'</li><li>'1099'</li><li>'11'</li><li>'110'</li><li>'1101'</li><li>'111'</li><li>'1111'</li><li>'1119'</li><li>'119'</li><li>'1190'</li><li>'1191'</li><li>'19'</li><li>'190'</li><li>'1900'</li><li>'191'</li><li>'199'</li><li>'9'</li><li>'90'</li><li>'900'</li><li>'9000'</li><li>'901'</li><li>'909'</li><li>'91'</li><li>'910'</li><li>'911'</li><li>'9110'</li><li>'9111'</li><li>'919'</li><li>'99'</li><li>'990'</li><li>'991'</li><li>'999'</li></ol>\n"
      ],
      "text/latex": [
       "\\begin{enumerate*}\n",
       "\\item ''\n",
       "\\item '0'\n",
       "\\item '00'\n",
       "\\item '000'\n",
       "\\item '0000'\n",
       "\\item '0001'\n",
       "\\item '0009'\n",
       "\\item '001'\n",
       "\\item '0010'\n",
       "\\item '0011'\n",
       "\\item '0019'\n",
       "\\item '009'\n",
       "\\item '0090'\n",
       "\\item '0091'\n",
       "\\item '0099'\n",
       "\\item '01'\n",
       "\\item '010'\n",
       "\\item '0100'\n",
       "\\item '0101'\n",
       "\\item '011'\n",
       "\\item '0111'\n",
       "\\item '019'\n",
       "\\item '09'\n",
       "\\item '090'\n",
       "\\item '0900'\n",
       "\\item '0901'\n",
       "\\item '091'\n",
       "\\item '0910'\n",
       "\\item '0911'\n",
       "\\item '099'\n",
       "\\item '0991'\n",
       "\\item '1'\n",
       "\\item '10'\n",
       "\\item '100'\n",
       "\\item '1000'\n",
       "\\item '101'\n",
       "\\item '109'\n",
       "\\item '1090'\n",
       "\\item '1099'\n",
       "\\item '11'\n",
       "\\item '110'\n",
       "\\item '1101'\n",
       "\\item '111'\n",
       "\\item '1111'\n",
       "\\item '1119'\n",
       "\\item '119'\n",
       "\\item '1190'\n",
       "\\item '1191'\n",
       "\\item '19'\n",
       "\\item '190'\n",
       "\\item '1900'\n",
       "\\item '191'\n",
       "\\item '199'\n",
       "\\item '9'\n",
       "\\item '90'\n",
       "\\item '900'\n",
       "\\item '9000'\n",
       "\\item '901'\n",
       "\\item '909'\n",
       "\\item '91'\n",
       "\\item '910'\n",
       "\\item '911'\n",
       "\\item '9110'\n",
       "\\item '9111'\n",
       "\\item '919'\n",
       "\\item '99'\n",
       "\\item '990'\n",
       "\\item '991'\n",
       "\\item '999'\n",
       "\\end{enumerate*}\n"
      ],
      "text/markdown": [
       "1. ''\n",
       "2. '0'\n",
       "3. '00'\n",
       "4. '000'\n",
       "5. '0000'\n",
       "6. '0001'\n",
       "7. '0009'\n",
       "8. '001'\n",
       "9. '0010'\n",
       "10. '0011'\n",
       "11. '0019'\n",
       "12. '009'\n",
       "13. '0090'\n",
       "14. '0091'\n",
       "15. '0099'\n",
       "16. '01'\n",
       "17. '010'\n",
       "18. '0100'\n",
       "19. '0101'\n",
       "20. '011'\n",
       "21. '0111'\n",
       "22. '019'\n",
       "23. '09'\n",
       "24. '090'\n",
       "25. '0900'\n",
       "26. '0901'\n",
       "27. '091'\n",
       "28. '0910'\n",
       "29. '0911'\n",
       "30. '099'\n",
       "31. '0991'\n",
       "32. '1'\n",
       "33. '10'\n",
       "34. '100'\n",
       "35. '1000'\n",
       "36. '101'\n",
       "37. '109'\n",
       "38. '1090'\n",
       "39. '1099'\n",
       "40. '11'\n",
       "41. '110'\n",
       "42. '1101'\n",
       "43. '111'\n",
       "44. '1111'\n",
       "45. '1119'\n",
       "46. '119'\n",
       "47. '1190'\n",
       "48. '1191'\n",
       "49. '19'\n",
       "50. '190'\n",
       "51. '1900'\n",
       "52. '191'\n",
       "53. '199'\n",
       "54. '9'\n",
       "55. '90'\n",
       "56. '900'\n",
       "57. '9000'\n",
       "58. '901'\n",
       "59. '909'\n",
       "60. '91'\n",
       "61. '910'\n",
       "62. '911'\n",
       "63. '9110'\n",
       "64. '9111'\n",
       "65. '919'\n",
       "66. '99'\n",
       "67. '990'\n",
       "68. '991'\n",
       "69. '999'\n",
       "\n",
       "\n"
      ],
      "text/plain": [
       " [1] \"\"     \"0\"    \"00\"   \"000\"  \"0000\" \"0001\" \"0009\" \"001\"  \"0010\" \"0011\"\n",
       "[11] \"0019\" \"009\"  \"0090\" \"0091\" \"0099\" \"01\"   \"010\"  \"0100\" \"0101\" \"011\" \n",
       "[21] \"0111\" \"019\"  \"09\"   \"090\"  \"0900\" \"0901\" \"091\"  \"0910\" \"0911\" \"099\" \n",
       "[31] \"0991\" \"1\"    \"10\"   \"100\"  \"1000\" \"101\"  \"109\"  \"1090\" \"1099\" \"11\"  \n",
       "[41] \"110\"  \"1101\" \"111\"  \"1111\" \"1119\" \"119\"  \"1190\" \"1191\" \"19\"   \"190\" \n",
       "[51] \"1900\" \"191\"  \"199\"  \"9\"    \"90\"   \"900\"  \"9000\" \"901\"  \"909\"  \"91\"  \n",
       "[61] \"910\"  \"911\"  \"9110\" \"9111\" \"919\"  \"99\"   \"990\"  \"991\"  \"999\" "
      ]
     },
     "metadata": {},
     "output_type": "display_data"
    }
   ],
   "source": [
    "# Extract subset of data only with the recode columns of tinnitus\n",
    "data_sub <- df.final.imp %>%\n",
    "  select(\"IID\",all_of(new_column_names)) \n",
    "\n",
    "# Function to extract all the available answers for 4 visits\n",
    "# and put them in one string as \"0000\", \"111\", \"991\", etc\n",
    "\n",
    "f2<-function(x){\n",
    "  visit<-''\n",
    "  for (i in 2:5){ # do not take the first column (i.e. IID)\n",
    "    if (!is.na(x[i]))\n",
    "    {visit<-paste0(visit,x[i])}\n",
    "  }\n",
    "  if(is.null(visit)){visit=NA}\n",
    "  else{visit=visit}\n",
    "  return (visit)\n",
    "}\n",
    "\n",
    "# Apply the above function and remove NAs\n",
    "data_sub$visit<-apply(data_sub, 1, f2)\n",
    "\n",
    "names(table(data_sub$visit))"
   ]
  },
  {
   "cell_type": "code",
   "execution_count": 232,
   "metadata": {
    "kernel": "R"
   },
   "outputs": [
    {
     "data": {
      "text/plain": [
       "\n",
       "            0     00    000   0000   0001   0009    001   0010   0011   0019 \n",
       "   397 117980  13255   3031     79     10      6    345      3      7      1 \n",
       "   009   0090   0091   0099     01    010   0100   0101    011   0111    019 \n",
       "   114      3      1      1   2774    134      3      1    389      7     30 \n",
       "    09    090   0900   0901    091   0910   0911    099   0991      1     10 \n",
       "   853     96      1      2     50      1      2     50      1  39116    891 \n",
       "   100   1000    101    109   1090   1099     11    110   1101    111   1111 \n",
       "   119      1     78      8      1      1   4375     82      1    965     26 \n",
       "  1119    119   1190   1191     19    190   1900    191    199      9     90 \n",
       "     1     32      1      1    245     17      1     16     14   7128    375 \n",
       "   900   9000    901    909     91    910    911   9110   9111    919     99 \n",
       "    55      3     10     21    344      8     62      1      1      2    179 \n",
       "   990    991    999 \n",
       "    24     16     18 "
      ]
     },
     "metadata": {},
     "output_type": "display_data"
    }
   ],
   "source": [
    "table(data_sub$visit)\n",
    "all_pattern<-unique(data_sub$visit)"
   ]
  },
  {
   "cell_type": "markdown",
   "metadata": {
    "kernel": "R"
   },
   "source": [
    "## f.2247 Get all the consistent cases"
   ]
  },
  {
   "cell_type": "code",
   "execution_count": 233,
   "metadata": {
    "kernel": "R"
   },
   "outputs": [
    {
     "data": {
      "text/plain": [
       "\n",
       "     0     00    000   0000      1     11    111   1111      9     99    999 \n",
       "117980  13255   3031     79  39116   4375    965     26   7128    179     18 "
      ]
     },
     "metadata": {},
     "output_type": "display_data"
    }
   ],
   "source": [
    "all_no<-all_pattern[which(grepl(\"0\",all_pattern) & !grepl(\"9\",all_pattern) & !grepl(\"1\",all_pattern))]\n",
    "all_yes<-all_pattern[which(!grepl(\"0\",all_pattern) & !grepl(\"9\",all_pattern) & grepl(\"1\",all_pattern))]\n",
    "all_do_not_know<-all_pattern[which(!grepl(\"0\",all_pattern) & grepl(\"9\",all_pattern) & !grepl(\"1\",all_pattern))]\n",
    "table(data_sub[data_sub$visit%in%union(union(all_no,all_yes),all_do_not_know),\"visit\"])"
   ]
  },
  {
   "cell_type": "code",
   "execution_count": 234,
   "metadata": {
    "kernel": "R"
   },
   "outputs": [
    {
     "data": {
      "text/plain": [
       "\n",
       "0009  009 0090 0099   09  090 0900  099   90  900 9000  909  990 \n",
       "   6  114    3    1  853   96    1   50  375   55    3   21   24 "
      ]
     },
     "metadata": {},
     "output_type": "display_data"
    }
   ],
   "source": [
    "consistent_1<-c(all_no,all_yes,all_do_not_know)\n",
    "\n",
    "# might be inconsistent cases:\n",
    "do_not_know_no<-all_pattern[which(grepl(\"0\",all_pattern) & grepl(\"9\",all_pattern) & !grepl(\"1\",all_pattern))]\n",
    "table(data_sub[data_sub$visit%in%do_not_know_no,\"visit\"])"
   ]
  },
  {
   "cell_type": "code",
   "execution_count": 235,
   "metadata": {
    "kernel": "R"
   },
   "outputs": [
    {
     "data": {
      "text/plain": [
       "\n",
       "1119  119 1191   19  191  199   91  911 9111  919  991 \n",
       "   1   32    1  245   16   14  344   62    1    2   16 "
      ]
     },
     "metadata": {},
     "output_type": "display_data"
    }
   ],
   "source": [
    "do_not_know_yes<-all_pattern[which(!grepl(\"0\",all_pattern) & grepl(\"9\",all_pattern) & grepl(\"1\",all_pattern))]\n",
    "table(data_sub[data_sub$visit%in%do_not_know_yes,\"visit\"])"
   ]
  },
  {
   "cell_type": "code",
   "execution_count": 236,
   "metadata": {
    "kernel": "R"
   },
   "outputs": [
    {
     "data": {
      "text/plain": [
       "\n",
       "0001  001 0010 0011   01  010 0100 0101  011 0111   10  100 1000  101  110 1101 \n",
       "  10  345    3    7 2774  134    3    1  389    7  891  119    1   78   82    1 "
      ]
     },
     "metadata": {},
     "output_type": "display_data"
    }
   ],
   "source": [
    "yes_no<-all_pattern[which(grepl(\"0\",all_pattern) & !grepl(\"9\",all_pattern) & grepl(\"1\",all_pattern))]\n",
    "table(data_sub[data_sub$visit%in%yes_no,\"visit\"])"
   ]
  },
  {
   "cell_type": "code",
   "execution_count": 237,
   "metadata": {
    "kernel": "R"
   },
   "outputs": [
    {
     "data": {
      "text/plain": [
       "\n",
       "0019 0091  019 0901  091 0910 0911 0991  109 1090 1099 1190  190 1900  901  910 \n",
       "   1    1   30    2   50    1    2    1    8    1    1    1   17    1   10    8 \n",
       "9110 \n",
       "   1 "
      ]
     },
     "metadata": {},
     "output_type": "display_data"
    }
   ],
   "source": [
    "with_all_three<-all_pattern[which(grepl(\"0\",all_pattern) & grepl(\"9\",all_pattern) & grepl(\"1\",all_pattern))]\n",
    "table(data_sub[data_sub$visit%in%with_all_three,\"visit\"])"
   ]
  },
  {
   "cell_type": "code",
   "execution_count": 238,
   "metadata": {
    "kernel": "R"
   },
   "outputs": [],
   "source": [
    "might_inconsistent<-c(do_not_know_no,do_not_know_yes,yes_no,with_all_three)"
   ]
  },
  {
   "cell_type": "markdown",
   "metadata": {
    "kernel": "R"
   },
   "source": [
    "## f.2247 Remove inconsistent cases"
   ]
  },
  {
   "cell_type": "code",
   "execution_count": 239,
   "metadata": {
    "kernel": "R"
   },
   "outputs": [
    {
     "name": "stdout",
     "output_type": "stream",
     "text": [
      "There are 397 NAs, removed"
     ]
    }
   ],
   "source": [
    "# get all the inconsistent cases:\n",
    "exceptions<-c(\"91\",\"911\",\"9111\",\"991\",\"0001\",\"001\",\"0011\",\"01\",\"011\",\"0111\", \"0091\", \"091\",\"0911\",\"0991\",\"9001\",\"901\",\"9011\")\n",
    "inconsistent<-setdiff(might_inconsistent,exceptions)\n",
    "\n",
    "cat(\"There are\",length(which(is.empty(data_sub$visit))),\"NAs, removed\")"
   ]
  },
  {
   "cell_type": "code",
   "execution_count": 240,
   "metadata": {
    "kernel": "R"
   },
   "outputs": [
    {
     "name": "stdout",
     "output_type": "stream",
     "text": [
      "There are 3298 inconsistent cases, removed"
     ]
    }
   ],
   "source": [
    "cat(\"There are\",length(which(data_sub$visit%in%inconsistent)),\"inconsistent cases, removed\")"
   ]
  },
  {
   "cell_type": "code",
   "execution_count": 241,
   "metadata": {
    "kernel": "R"
   },
   "outputs": [
    {
     "data": {
      "text/html": [
       "<style>\n",
       ".list-inline {list-style: none; margin:0; padding: 0}\n",
       ".list-inline>li {display: inline-block}\n",
       ".list-inline>li:not(:last-child)::after {content: \"\\00b7\"; padding: 0 .5ex}\n",
       "</style>\n",
       "<ol class=list-inline><li>182846</li><li>1</li></ol>\n"
      ],
      "text/latex": [
       "\\begin{enumerate*}\n",
       "\\item 182846\n",
       "\\item 1\n",
       "\\end{enumerate*}\n"
      ],
      "text/markdown": [
       "1. 182846\n",
       "2. 1\n",
       "\n",
       "\n"
      ],
      "text/plain": [
       "[1] 182846      1"
      ]
     },
     "metadata": {},
     "output_type": "display_data"
    }
   ],
   "source": [
    "# removed those NAs, consistent for do not know - 9 and inconsistent cases: \n",
    "IID_hearing_diff<-data_sub %>%\n",
    "  filter(!is.empty(visit)) %>%\n",
    "  filter((!visit%in%inconsistent)) %>%\n",
    "  filter((!visit%in%all_do_not_know)) %>%\n",
    "  select(IID)\n",
    "\n",
    "dim(IID_hearing_diff)"
   ]
  },
  {
   "cell_type": "code",
   "execution_count": 242,
   "metadata": {
    "kernel": "R"
   },
   "outputs": [
    {
     "name": "stdout",
     "output_type": "stream",
     "text": [
      "After removing all the NAs and inconsistent cases, there are 182846 cases left"
     ]
    }
   ],
   "source": [
    "IID_hearing_diff<-IID_hearing_diff[,1]\n",
    "cat(\"After removing all the NAs and inconsistent cases, there are\",length(IID_hearing_diff),\"cases left\")"
   ]
  },
  {
   "cell_type": "code",
   "execution_count": 243,
   "metadata": {
    "kernel": "R"
   },
   "outputs": [
    {
     "data": {
      "text/html": [
       "<style>\n",
       ".list-inline {list-style: none; margin:0; padding: 0}\n",
       ".list-inline>li {display: inline-block}\n",
       ".list-inline>li:not(:last-child)::after {content: \"\\00b7\"; padding: 0 .5ex}\n",
       "</style>\n",
       "<ol class=list-inline><li>182846</li><li>2271</li></ol>\n"
      ],
      "text/latex": [
       "\\begin{enumerate*}\n",
       "\\item 182846\n",
       "\\item 2271\n",
       "\\end{enumerate*}\n"
      ],
      "text/markdown": [
       "1. 182846\n",
       "2. 2271\n",
       "\n",
       "\n"
      ],
      "text/plain": [
       "[1] 182846   2271"
      ]
     },
     "metadata": {},
     "output_type": "display_data"
    }
   ],
   "source": [
    "# get the dataset after cleansing: \n",
    "df.hearing.diff<-df.final.imp %>%\n",
    "  filter(IID%in%IID_hearing_diff)\n",
    "\n",
    "dim(df.hearing.diff)"
   ]
  },
  {
   "cell_type": "markdown",
   "metadata": {
    "kernel": "R"
   },
   "source": [
    "## f.2247 Step 1 classify cases and controls"
   ]
  },
  {
   "cell_type": "code",
   "execution_count": 244,
   "metadata": {
    "kernel": "R"
   },
   "outputs": [
    {
     "data": {
      "text/html": [
       "<table>\n",
       "<caption>A data.frame: 6 × 11</caption>\n",
       "<thead>\n",
       "\t<tr><th></th><th scope=col>IID</th><th scope=col>FID</th><th scope=col>f.22001.0.0</th><th scope=col>f.21003.0.0</th><th scope=col>f.21003.1.0</th><th scope=col>f.21003.2.0</th><th scope=col>f.21003.3.0</th><th scope=col>f.2247.0.0_recode</th><th scope=col>f.2247.1.0_recode</th><th scope=col>f.2247.2.0_recode</th><th scope=col>f.2247.3.0_recode</th></tr>\n",
       "\t<tr><th></th><th scope=col>&lt;int&gt;</th><th scope=col>&lt;int&gt;</th><th scope=col>&lt;fct&gt;</th><th scope=col>&lt;int&gt;</th><th scope=col>&lt;int&gt;</th><th scope=col>&lt;int&gt;</th><th scope=col>&lt;int&gt;</th><th scope=col>&lt;fct&gt;</th><th scope=col>&lt;fct&gt;</th><th scope=col>&lt;fct&gt;</th><th scope=col>&lt;fct&gt;</th></tr>\n",
       "</thead>\n",
       "<tbody>\n",
       "\t<tr><th scope=row>1</th><td>1000019</td><td>1000019</td><td>Female</td><td>47</td><td>NA</td><td>NA</td><td>NA</td><td>1</td><td>NA</td><td>NA</td><td>NA</td></tr>\n",
       "\t<tr><th scope=row>2</th><td>1000035</td><td>1000035</td><td>Male  </td><td>63</td><td>NA</td><td>NA</td><td>NA</td><td>0</td><td>NA</td><td>NA</td><td>NA</td></tr>\n",
       "\t<tr><th scope=row>3</th><td>1000078</td><td>1000078</td><td>Female</td><td>52</td><td>57</td><td>60</td><td>NA</td><td>0</td><td>0 </td><td>0 </td><td>NA</td></tr>\n",
       "\t<tr><th scope=row>4</th><td>1000081</td><td>1000081</td><td>Male  </td><td>67</td><td>NA</td><td>NA</td><td>NA</td><td>0</td><td>NA</td><td>NA</td><td>NA</td></tr>\n",
       "\t<tr><th scope=row>5</th><td>1000198</td><td>1000198</td><td>Female</td><td>41</td><td>NA</td><td>NA</td><td>NA</td><td>1</td><td>NA</td><td>NA</td><td>NA</td></tr>\n",
       "\t<tr><th scope=row>6</th><td>1000224</td><td>1000224</td><td>Female</td><td>58</td><td>NA</td><td>NA</td><td>NA</td><td>0</td><td>NA</td><td>NA</td><td>NA</td></tr>\n",
       "</tbody>\n",
       "</table>\n"
      ],
      "text/latex": [
       "A data.frame: 6 × 11\n",
       "\\begin{tabular}{r|lllllllllll}\n",
       "  & IID & FID & f.22001.0.0 & f.21003.0.0 & f.21003.1.0 & f.21003.2.0 & f.21003.3.0 & f.2247.0.0\\_recode & f.2247.1.0\\_recode & f.2247.2.0\\_recode & f.2247.3.0\\_recode\\\\\n",
       "  & <int> & <int> & <fct> & <int> & <int> & <int> & <int> & <fct> & <fct> & <fct> & <fct>\\\\\n",
       "\\hline\n",
       "\t1 & 1000019 & 1000019 & Female & 47 & NA & NA & NA & 1 & NA & NA & NA\\\\\n",
       "\t2 & 1000035 & 1000035 & Male   & 63 & NA & NA & NA & 0 & NA & NA & NA\\\\\n",
       "\t3 & 1000078 & 1000078 & Female & 52 & 57 & 60 & NA & 0 & 0  & 0  & NA\\\\\n",
       "\t4 & 1000081 & 1000081 & Male   & 67 & NA & NA & NA & 0 & NA & NA & NA\\\\\n",
       "\t5 & 1000198 & 1000198 & Female & 41 & NA & NA & NA & 1 & NA & NA & NA\\\\\n",
       "\t6 & 1000224 & 1000224 & Female & 58 & NA & NA & NA & 0 & NA & NA & NA\\\\\n",
       "\\end{tabular}\n"
      ],
      "text/markdown": [
       "\n",
       "A data.frame: 6 × 11\n",
       "\n",
       "| <!--/--> | IID &lt;int&gt; | FID &lt;int&gt; | f.22001.0.0 &lt;fct&gt; | f.21003.0.0 &lt;int&gt; | f.21003.1.0 &lt;int&gt; | f.21003.2.0 &lt;int&gt; | f.21003.3.0 &lt;int&gt; | f.2247.0.0_recode &lt;fct&gt; | f.2247.1.0_recode &lt;fct&gt; | f.2247.2.0_recode &lt;fct&gt; | f.2247.3.0_recode &lt;fct&gt; |\n",
       "|---|---|---|---|---|---|---|---|---|---|---|---|\n",
       "| 1 | 1000019 | 1000019 | Female | 47 | NA | NA | NA | 1 | NA | NA | NA |\n",
       "| 2 | 1000035 | 1000035 | Male   | 63 | NA | NA | NA | 0 | NA | NA | NA |\n",
       "| 3 | 1000078 | 1000078 | Female | 52 | 57 | 60 | NA | 0 | 0  | 0  | NA |\n",
       "| 4 | 1000081 | 1000081 | Male   | 67 | NA | NA | NA | 0 | NA | NA | NA |\n",
       "| 5 | 1000198 | 1000198 | Female | 41 | NA | NA | NA | 1 | NA | NA | NA |\n",
       "| 6 | 1000224 | 1000224 | Female | 58 | NA | NA | NA | 0 | NA | NA | NA |\n",
       "\n"
      ],
      "text/plain": [
       "  IID     FID     f.22001.0.0 f.21003.0.0 f.21003.1.0 f.21003.2.0 f.21003.3.0\n",
       "1 1000019 1000019 Female      47          NA          NA          NA         \n",
       "2 1000035 1000035 Male        63          NA          NA          NA         \n",
       "3 1000078 1000078 Female      52          57          60          NA         \n",
       "4 1000081 1000081 Male        67          NA          NA          NA         \n",
       "5 1000198 1000198 Female      41          NA          NA          NA         \n",
       "6 1000224 1000224 Female      58          NA          NA          NA         \n",
       "  f.2247.0.0_recode f.2247.1.0_recode f.2247.2.0_recode f.2247.3.0_recode\n",
       "1 1                 NA                NA                NA               \n",
       "2 0                 NA                NA                NA               \n",
       "3 0                 0                 0                 NA               \n",
       "4 0                 NA                NA                NA               \n",
       "5 1                 NA                NA                NA               \n",
       "6 0                 NA                NA                NA               "
      ]
     },
     "metadata": {},
     "output_type": "display_data"
    }
   ],
   "source": [
    "hearing_diff <- df.hearing.diff %>% \n",
    "  select(IID,FID,f.22001.0.0, f.21003.0.0,f.21003.1.0,f.21003.2.0,f.21003.3.0,f.2247.0.0_recode,f.2247.1.0_recode,f.2247.2.0_recode,f.2247.3.0_recode)\n",
    "head(hearing_diff)"
   ]
  },
  {
   "cell_type": "code",
   "execution_count": 245,
   "metadata": {
    "kernel": "R"
   },
   "outputs": [
    {
     "data": {
      "text/html": [
       "<table>\n",
       "<caption>A data.frame: 10 × 12</caption>\n",
       "<thead>\n",
       "\t<tr><th></th><th scope=col>IID</th><th scope=col>FID</th><th scope=col>f.22001.0.0</th><th scope=col>f.21003.0.0</th><th scope=col>f.21003.1.0</th><th scope=col>f.21003.2.0</th><th scope=col>f.21003.3.0</th><th scope=col>f.2247.0.0_recode</th><th scope=col>f.2247.1.0_recode</th><th scope=col>f.2247.2.0_recode</th><th scope=col>f.2247.3.0_recode</th><th scope=col>cases</th></tr>\n",
       "\t<tr><th></th><th scope=col>&lt;int&gt;</th><th scope=col>&lt;int&gt;</th><th scope=col>&lt;fct&gt;</th><th scope=col>&lt;int&gt;</th><th scope=col>&lt;int&gt;</th><th scope=col>&lt;int&gt;</th><th scope=col>&lt;int&gt;</th><th scope=col>&lt;fct&gt;</th><th scope=col>&lt;fct&gt;</th><th scope=col>&lt;fct&gt;</th><th scope=col>&lt;fct&gt;</th><th scope=col>&lt;lgl&gt;</th></tr>\n",
       "</thead>\n",
       "<tbody>\n",
       "\t<tr><th scope=row>1</th><td>1000019</td><td>1000019</td><td>Female</td><td>47</td><td>NA</td><td>NA</td><td>NA</td><td>1</td><td>NA</td><td>NA</td><td>NA</td><td> TRUE</td></tr>\n",
       "\t<tr><th scope=row>2</th><td>1000035</td><td>1000035</td><td>Male  </td><td>63</td><td>NA</td><td>NA</td><td>NA</td><td>0</td><td>NA</td><td>NA</td><td>NA</td><td>FALSE</td></tr>\n",
       "\t<tr><th scope=row>3</th><td>1000078</td><td>1000078</td><td>Female</td><td>52</td><td>57</td><td>60</td><td>NA</td><td>0</td><td>0 </td><td>0 </td><td>NA</td><td>FALSE</td></tr>\n",
       "\t<tr><th scope=row>4</th><td>1000081</td><td>1000081</td><td>Male  </td><td>67</td><td>NA</td><td>NA</td><td>NA</td><td>0</td><td>NA</td><td>NA</td><td>NA</td><td>FALSE</td></tr>\n",
       "\t<tr><th scope=row>5</th><td>1000198</td><td>1000198</td><td>Female</td><td>41</td><td>NA</td><td>NA</td><td>NA</td><td>1</td><td>NA</td><td>NA</td><td>NA</td><td> TRUE</td></tr>\n",
       "\t<tr><th scope=row>6</th><td>1000224</td><td>1000224</td><td>Female</td><td>58</td><td>NA</td><td>NA</td><td>NA</td><td>0</td><td>NA</td><td>NA</td><td>NA</td><td>FALSE</td></tr>\n",
       "\t<tr><th scope=row>7</th><td>1000236</td><td>1000236</td><td>Male  </td><td>61</td><td>NA</td><td>70</td><td>NA</td><td>0</td><td>NA</td><td>0 </td><td>NA</td><td>FALSE</td></tr>\n",
       "\t<tr><th scope=row>8</th><td>1000255</td><td>1000255</td><td>Female</td><td>51</td><td>NA</td><td>61</td><td>NA</td><td>0</td><td>NA</td><td>0 </td><td>NA</td><td>FALSE</td></tr>\n",
       "\t<tr><th scope=row>9</th><td>1000272</td><td>1000272</td><td>Male  </td><td>43</td><td>NA</td><td>NA</td><td>NA</td><td>0</td><td>NA</td><td>NA</td><td>NA</td><td>FALSE</td></tr>\n",
       "\t<tr><th scope=row>10</th><td>1000291</td><td>1000291</td><td>Male  </td><td>62</td><td>NA</td><td>NA</td><td>NA</td><td>0</td><td>NA</td><td>NA</td><td>NA</td><td>FALSE</td></tr>\n",
       "</tbody>\n",
       "</table>\n"
      ],
      "text/latex": [
       "A data.frame: 10 × 12\n",
       "\\begin{tabular}{r|llllllllllll}\n",
       "  & IID & FID & f.22001.0.0 & f.21003.0.0 & f.21003.1.0 & f.21003.2.0 & f.21003.3.0 & f.2247.0.0\\_recode & f.2247.1.0\\_recode & f.2247.2.0\\_recode & f.2247.3.0\\_recode & cases\\\\\n",
       "  & <int> & <int> & <fct> & <int> & <int> & <int> & <int> & <fct> & <fct> & <fct> & <fct> & <lgl>\\\\\n",
       "\\hline\n",
       "\t1 & 1000019 & 1000019 & Female & 47 & NA & NA & NA & 1 & NA & NA & NA &  TRUE\\\\\n",
       "\t2 & 1000035 & 1000035 & Male   & 63 & NA & NA & NA & 0 & NA & NA & NA & FALSE\\\\\n",
       "\t3 & 1000078 & 1000078 & Female & 52 & 57 & 60 & NA & 0 & 0  & 0  & NA & FALSE\\\\\n",
       "\t4 & 1000081 & 1000081 & Male   & 67 & NA & NA & NA & 0 & NA & NA & NA & FALSE\\\\\n",
       "\t5 & 1000198 & 1000198 & Female & 41 & NA & NA & NA & 1 & NA & NA & NA &  TRUE\\\\\n",
       "\t6 & 1000224 & 1000224 & Female & 58 & NA & NA & NA & 0 & NA & NA & NA & FALSE\\\\\n",
       "\t7 & 1000236 & 1000236 & Male   & 61 & NA & 70 & NA & 0 & NA & 0  & NA & FALSE\\\\\n",
       "\t8 & 1000255 & 1000255 & Female & 51 & NA & 61 & NA & 0 & NA & 0  & NA & FALSE\\\\\n",
       "\t9 & 1000272 & 1000272 & Male   & 43 & NA & NA & NA & 0 & NA & NA & NA & FALSE\\\\\n",
       "\t10 & 1000291 & 1000291 & Male   & 62 & NA & NA & NA & 0 & NA & NA & NA & FALSE\\\\\n",
       "\\end{tabular}\n"
      ],
      "text/markdown": [
       "\n",
       "A data.frame: 10 × 12\n",
       "\n",
       "| <!--/--> | IID &lt;int&gt; | FID &lt;int&gt; | f.22001.0.0 &lt;fct&gt; | f.21003.0.0 &lt;int&gt; | f.21003.1.0 &lt;int&gt; | f.21003.2.0 &lt;int&gt; | f.21003.3.0 &lt;int&gt; | f.2247.0.0_recode &lt;fct&gt; | f.2247.1.0_recode &lt;fct&gt; | f.2247.2.0_recode &lt;fct&gt; | f.2247.3.0_recode &lt;fct&gt; | cases &lt;lgl&gt; |\n",
       "|---|---|---|---|---|---|---|---|---|---|---|---|---|\n",
       "| 1 | 1000019 | 1000019 | Female | 47 | NA | NA | NA | 1 | NA | NA | NA |  TRUE |\n",
       "| 2 | 1000035 | 1000035 | Male   | 63 | NA | NA | NA | 0 | NA | NA | NA | FALSE |\n",
       "| 3 | 1000078 | 1000078 | Female | 52 | 57 | 60 | NA | 0 | 0  | 0  | NA | FALSE |\n",
       "| 4 | 1000081 | 1000081 | Male   | 67 | NA | NA | NA | 0 | NA | NA | NA | FALSE |\n",
       "| 5 | 1000198 | 1000198 | Female | 41 | NA | NA | NA | 1 | NA | NA | NA |  TRUE |\n",
       "| 6 | 1000224 | 1000224 | Female | 58 | NA | NA | NA | 0 | NA | NA | NA | FALSE |\n",
       "| 7 | 1000236 | 1000236 | Male   | 61 | NA | 70 | NA | 0 | NA | 0  | NA | FALSE |\n",
       "| 8 | 1000255 | 1000255 | Female | 51 | NA | 61 | NA | 0 | NA | 0  | NA | FALSE |\n",
       "| 9 | 1000272 | 1000272 | Male   | 43 | NA | NA | NA | 0 | NA | NA | NA | FALSE |\n",
       "| 10 | 1000291 | 1000291 | Male   | 62 | NA | NA | NA | 0 | NA | NA | NA | FALSE |\n",
       "\n"
      ],
      "text/plain": [
       "   IID     FID     f.22001.0.0 f.21003.0.0 f.21003.1.0 f.21003.2.0 f.21003.3.0\n",
       "1  1000019 1000019 Female      47          NA          NA          NA         \n",
       "2  1000035 1000035 Male        63          NA          NA          NA         \n",
       "3  1000078 1000078 Female      52          57          60          NA         \n",
       "4  1000081 1000081 Male        67          NA          NA          NA         \n",
       "5  1000198 1000198 Female      41          NA          NA          NA         \n",
       "6  1000224 1000224 Female      58          NA          NA          NA         \n",
       "7  1000236 1000236 Male        61          NA          70          NA         \n",
       "8  1000255 1000255 Female      51          NA          61          NA         \n",
       "9  1000272 1000272 Male        43          NA          NA          NA         \n",
       "10 1000291 1000291 Male        62          NA          NA          NA         \n",
       "   f.2247.0.0_recode f.2247.1.0_recode f.2247.2.0_recode f.2247.3.0_recode\n",
       "1  1                 NA                NA                NA               \n",
       "2  0                 NA                NA                NA               \n",
       "3  0                 0                 0                 NA               \n",
       "4  0                 NA                NA                NA               \n",
       "5  1                 NA                NA                NA               \n",
       "6  0                 NA                NA                NA               \n",
       "7  0                 NA                0                 NA               \n",
       "8  0                 NA                0                 NA               \n",
       "9  0                 NA                NA                NA               \n",
       "10 0                 NA                NA                NA               \n",
       "   cases\n",
       "1   TRUE\n",
       "2  FALSE\n",
       "3  FALSE\n",
       "4  FALSE\n",
       "5   TRUE\n",
       "6  FALSE\n",
       "7  FALSE\n",
       "8  FALSE\n",
       "9  FALSE\n",
       "10 FALSE"
      ]
     },
     "metadata": {},
     "output_type": "display_data"
    }
   ],
   "source": [
    "data_sub <- select(hearing_diff,starts_with(\"f.2247\"))\n",
    "\n",
    "# Function to define cases\n",
    "f<-function(x){\n",
    "  visit<-c()\n",
    "  for (i in 1:4){\n",
    "    if (!is.na(x[i]))\n",
    "    {visit<-c(visit,x[i])}\n",
    "  }\n",
    "  if (\"1\" %in% visit){result= TRUE}\n",
    "  else{result=FALSE}\n",
    "  return (result)\n",
    "}\n",
    "\n",
    "# Apply the above function\n",
    "hearing_diff$cases<-apply(data_sub, 1, f)\n",
    "head(hearing_diff,10)"
   ]
  },
  {
   "cell_type": "code",
   "execution_count": 246,
   "metadata": {
    "kernel": "R"
   },
   "outputs": [
    {
     "data": {
      "text/html": [
       "<table>\n",
       "<caption>A data.frame: 6 × 12</caption>\n",
       "<thead>\n",
       "\t<tr><th></th><th scope=col>IID</th><th scope=col>FID</th><th scope=col>f.22001.0.0</th><th scope=col>f.21003.0.0</th><th scope=col>f.21003.1.0</th><th scope=col>f.21003.2.0</th><th scope=col>f.21003.3.0</th><th scope=col>f.2247.0.0_recode</th><th scope=col>f.2247.1.0_recode</th><th scope=col>f.2247.2.0_recode</th><th scope=col>f.2247.3.0_recode</th><th scope=col>cases</th></tr>\n",
       "\t<tr><th></th><th scope=col>&lt;int&gt;</th><th scope=col>&lt;int&gt;</th><th scope=col>&lt;fct&gt;</th><th scope=col>&lt;int&gt;</th><th scope=col>&lt;int&gt;</th><th scope=col>&lt;int&gt;</th><th scope=col>&lt;int&gt;</th><th scope=col>&lt;fct&gt;</th><th scope=col>&lt;fct&gt;</th><th scope=col>&lt;fct&gt;</th><th scope=col>&lt;fct&gt;</th><th scope=col>&lt;lgl&gt;</th></tr>\n",
       "</thead>\n",
       "<tbody>\n",
       "\t<tr><th scope=row>1</th><td>1000019</td><td>1000019</td><td>Female</td><td>47</td><td>NA</td><td>NA</td><td>NA</td><td>1</td><td>NA</td><td>NA</td><td>NA</td><td>TRUE</td></tr>\n",
       "\t<tr><th scope=row>2</th><td>1000198</td><td>1000198</td><td>Female</td><td>41</td><td>NA</td><td>NA</td><td>NA</td><td>1</td><td>NA</td><td>NA</td><td>NA</td><td>TRUE</td></tr>\n",
       "\t<tr><th scope=row>3</th><td>1000396</td><td>1000396</td><td>Male  </td><td>48</td><td>NA</td><td>NA</td><td>NA</td><td>1</td><td>NA</td><td>NA</td><td>NA</td><td>TRUE</td></tr>\n",
       "\t<tr><th scope=row>4</th><td>1000494</td><td>1000494</td><td>Male  </td><td>61</td><td>NA</td><td>NA</td><td>NA</td><td>1</td><td>NA</td><td>NA</td><td>NA</td><td>TRUE</td></tr>\n",
       "\t<tr><th scope=row>5</th><td>1001076</td><td>1001076</td><td>Male  </td><td>69</td><td>NA</td><td>NA</td><td>NA</td><td>1</td><td>NA</td><td>NA</td><td>NA</td><td>TRUE</td></tr>\n",
       "\t<tr><th scope=row>6</th><td>1001123</td><td>1001123</td><td>Female</td><td>62</td><td>NA</td><td>NA</td><td>NA</td><td>1</td><td>NA</td><td>NA</td><td>NA</td><td>TRUE</td></tr>\n",
       "</tbody>\n",
       "</table>\n"
      ],
      "text/latex": [
       "A data.frame: 6 × 12\n",
       "\\begin{tabular}{r|llllllllllll}\n",
       "  & IID & FID & f.22001.0.0 & f.21003.0.0 & f.21003.1.0 & f.21003.2.0 & f.21003.3.0 & f.2247.0.0\\_recode & f.2247.1.0\\_recode & f.2247.2.0\\_recode & f.2247.3.0\\_recode & cases\\\\\n",
       "  & <int> & <int> & <fct> & <int> & <int> & <int> & <int> & <fct> & <fct> & <fct> & <fct> & <lgl>\\\\\n",
       "\\hline\n",
       "\t1 & 1000019 & 1000019 & Female & 47 & NA & NA & NA & 1 & NA & NA & NA & TRUE\\\\\n",
       "\t2 & 1000198 & 1000198 & Female & 41 & NA & NA & NA & 1 & NA & NA & NA & TRUE\\\\\n",
       "\t3 & 1000396 & 1000396 & Male   & 48 & NA & NA & NA & 1 & NA & NA & NA & TRUE\\\\\n",
       "\t4 & 1000494 & 1000494 & Male   & 61 & NA & NA & NA & 1 & NA & NA & NA & TRUE\\\\\n",
       "\t5 & 1001076 & 1001076 & Male   & 69 & NA & NA & NA & 1 & NA & NA & NA & TRUE\\\\\n",
       "\t6 & 1001123 & 1001123 & Female & 62 & NA & NA & NA & 1 & NA & NA & NA & TRUE\\\\\n",
       "\\end{tabular}\n"
      ],
      "text/markdown": [
       "\n",
       "A data.frame: 6 × 12\n",
       "\n",
       "| <!--/--> | IID &lt;int&gt; | FID &lt;int&gt; | f.22001.0.0 &lt;fct&gt; | f.21003.0.0 &lt;int&gt; | f.21003.1.0 &lt;int&gt; | f.21003.2.0 &lt;int&gt; | f.21003.3.0 &lt;int&gt; | f.2247.0.0_recode &lt;fct&gt; | f.2247.1.0_recode &lt;fct&gt; | f.2247.2.0_recode &lt;fct&gt; | f.2247.3.0_recode &lt;fct&gt; | cases &lt;lgl&gt; |\n",
       "|---|---|---|---|---|---|---|---|---|---|---|---|---|\n",
       "| 1 | 1000019 | 1000019 | Female | 47 | NA | NA | NA | 1 | NA | NA | NA | TRUE |\n",
       "| 2 | 1000198 | 1000198 | Female | 41 | NA | NA | NA | 1 | NA | NA | NA | TRUE |\n",
       "| 3 | 1000396 | 1000396 | Male   | 48 | NA | NA | NA | 1 | NA | NA | NA | TRUE |\n",
       "| 4 | 1000494 | 1000494 | Male   | 61 | NA | NA | NA | 1 | NA | NA | NA | TRUE |\n",
       "| 5 | 1001076 | 1001076 | Male   | 69 | NA | NA | NA | 1 | NA | NA | NA | TRUE |\n",
       "| 6 | 1001123 | 1001123 | Female | 62 | NA | NA | NA | 1 | NA | NA | NA | TRUE |\n",
       "\n"
      ],
      "text/plain": [
       "  IID     FID     f.22001.0.0 f.21003.0.0 f.21003.1.0 f.21003.2.0 f.21003.3.0\n",
       "1 1000019 1000019 Female      47          NA          NA          NA         \n",
       "2 1000198 1000198 Female      41          NA          NA          NA         \n",
       "3 1000396 1000396 Male        48          NA          NA          NA         \n",
       "4 1000494 1000494 Male        61          NA          NA          NA         \n",
       "5 1001076 1001076 Male        69          NA          NA          NA         \n",
       "6 1001123 1001123 Female      62          NA          NA          NA         \n",
       "  f.2247.0.0_recode f.2247.1.0_recode f.2247.2.0_recode f.2247.3.0_recode cases\n",
       "1 1                 NA                NA                NA                TRUE \n",
       "2 1                 NA                NA                NA                TRUE \n",
       "3 1                 NA                NA                NA                TRUE \n",
       "4 1                 NA                NA                NA                TRUE \n",
       "5 1                 NA                NA                NA                TRUE \n",
       "6 1                 NA                NA                NA                TRUE "
      ]
     },
     "metadata": {},
     "output_type": "display_data"
    },
    {
     "name": "stdout",
     "output_type": "stream",
     "text": [
      "48501 individuals are cases for f.2247"
     ]
    }
   ],
   "source": [
    "hearing_diff_cases <- hearing_diff %>% \n",
    "  filter(cases == TRUE)\n",
    "head(hearing_diff_cases)\n",
    "cat(dim(hearing_diff_cases)[1], \"individuals are cases for f.2247\")"
   ]
  },
  {
   "cell_type": "code",
   "execution_count": 247,
   "metadata": {
    "kernel": "R"
   },
   "outputs": [
    {
     "data": {
      "text/html": [
       "<table>\n",
       "<caption>A data.frame: 6 × 12</caption>\n",
       "<thead>\n",
       "\t<tr><th></th><th scope=col>IID</th><th scope=col>FID</th><th scope=col>f.22001.0.0</th><th scope=col>f.21003.0.0</th><th scope=col>f.21003.1.0</th><th scope=col>f.21003.2.0</th><th scope=col>f.21003.3.0</th><th scope=col>f.2247.0.0_recode</th><th scope=col>f.2247.1.0_recode</th><th scope=col>f.2247.2.0_recode</th><th scope=col>f.2247.3.0_recode</th><th scope=col>cases</th></tr>\n",
       "\t<tr><th></th><th scope=col>&lt;int&gt;</th><th scope=col>&lt;int&gt;</th><th scope=col>&lt;fct&gt;</th><th scope=col>&lt;int&gt;</th><th scope=col>&lt;int&gt;</th><th scope=col>&lt;int&gt;</th><th scope=col>&lt;int&gt;</th><th scope=col>&lt;fct&gt;</th><th scope=col>&lt;fct&gt;</th><th scope=col>&lt;fct&gt;</th><th scope=col>&lt;fct&gt;</th><th scope=col>&lt;lgl&gt;</th></tr>\n",
       "</thead>\n",
       "<tbody>\n",
       "\t<tr><th scope=row>1</th><td>1000035</td><td>1000035</td><td>Male  </td><td>63</td><td>NA</td><td>NA</td><td>NA</td><td>0</td><td>NA</td><td>NA</td><td>NA</td><td>FALSE</td></tr>\n",
       "\t<tr><th scope=row>2</th><td>1000078</td><td>1000078</td><td>Female</td><td>52</td><td>57</td><td>60</td><td>NA</td><td>0</td><td>0 </td><td>0 </td><td>NA</td><td>FALSE</td></tr>\n",
       "\t<tr><th scope=row>3</th><td>1000081</td><td>1000081</td><td>Male  </td><td>67</td><td>NA</td><td>NA</td><td>NA</td><td>0</td><td>NA</td><td>NA</td><td>NA</td><td>FALSE</td></tr>\n",
       "\t<tr><th scope=row>4</th><td>1000224</td><td>1000224</td><td>Female</td><td>58</td><td>NA</td><td>NA</td><td>NA</td><td>0</td><td>NA</td><td>NA</td><td>NA</td><td>FALSE</td></tr>\n",
       "\t<tr><th scope=row>5</th><td>1000236</td><td>1000236</td><td>Male  </td><td>61</td><td>NA</td><td>70</td><td>NA</td><td>0</td><td>NA</td><td>0 </td><td>NA</td><td>FALSE</td></tr>\n",
       "\t<tr><th scope=row>6</th><td>1000255</td><td>1000255</td><td>Female</td><td>51</td><td>NA</td><td>61</td><td>NA</td><td>0</td><td>NA</td><td>0 </td><td>NA</td><td>FALSE</td></tr>\n",
       "</tbody>\n",
       "</table>\n"
      ],
      "text/latex": [
       "A data.frame: 6 × 12\n",
       "\\begin{tabular}{r|llllllllllll}\n",
       "  & IID & FID & f.22001.0.0 & f.21003.0.0 & f.21003.1.0 & f.21003.2.0 & f.21003.3.0 & f.2247.0.0\\_recode & f.2247.1.0\\_recode & f.2247.2.0\\_recode & f.2247.3.0\\_recode & cases\\\\\n",
       "  & <int> & <int> & <fct> & <int> & <int> & <int> & <int> & <fct> & <fct> & <fct> & <fct> & <lgl>\\\\\n",
       "\\hline\n",
       "\t1 & 1000035 & 1000035 & Male   & 63 & NA & NA & NA & 0 & NA & NA & NA & FALSE\\\\\n",
       "\t2 & 1000078 & 1000078 & Female & 52 & 57 & 60 & NA & 0 & 0  & 0  & NA & FALSE\\\\\n",
       "\t3 & 1000081 & 1000081 & Male   & 67 & NA & NA & NA & 0 & NA & NA & NA & FALSE\\\\\n",
       "\t4 & 1000224 & 1000224 & Female & 58 & NA & NA & NA & 0 & NA & NA & NA & FALSE\\\\\n",
       "\t5 & 1000236 & 1000236 & Male   & 61 & NA & 70 & NA & 0 & NA & 0  & NA & FALSE\\\\\n",
       "\t6 & 1000255 & 1000255 & Female & 51 & NA & 61 & NA & 0 & NA & 0  & NA & FALSE\\\\\n",
       "\\end{tabular}\n"
      ],
      "text/markdown": [
       "\n",
       "A data.frame: 6 × 12\n",
       "\n",
       "| <!--/--> | IID &lt;int&gt; | FID &lt;int&gt; | f.22001.0.0 &lt;fct&gt; | f.21003.0.0 &lt;int&gt; | f.21003.1.0 &lt;int&gt; | f.21003.2.0 &lt;int&gt; | f.21003.3.0 &lt;int&gt; | f.2247.0.0_recode &lt;fct&gt; | f.2247.1.0_recode &lt;fct&gt; | f.2247.2.0_recode &lt;fct&gt; | f.2247.3.0_recode &lt;fct&gt; | cases &lt;lgl&gt; |\n",
       "|---|---|---|---|---|---|---|---|---|---|---|---|---|\n",
       "| 1 | 1000035 | 1000035 | Male   | 63 | NA | NA | NA | 0 | NA | NA | NA | FALSE |\n",
       "| 2 | 1000078 | 1000078 | Female | 52 | 57 | 60 | NA | 0 | 0  | 0  | NA | FALSE |\n",
       "| 3 | 1000081 | 1000081 | Male   | 67 | NA | NA | NA | 0 | NA | NA | NA | FALSE |\n",
       "| 4 | 1000224 | 1000224 | Female | 58 | NA | NA | NA | 0 | NA | NA | NA | FALSE |\n",
       "| 5 | 1000236 | 1000236 | Male   | 61 | NA | 70 | NA | 0 | NA | 0  | NA | FALSE |\n",
       "| 6 | 1000255 | 1000255 | Female | 51 | NA | 61 | NA | 0 | NA | 0  | NA | FALSE |\n",
       "\n"
      ],
      "text/plain": [
       "  IID     FID     f.22001.0.0 f.21003.0.0 f.21003.1.0 f.21003.2.0 f.21003.3.0\n",
       "1 1000035 1000035 Male        63          NA          NA          NA         \n",
       "2 1000078 1000078 Female      52          57          60          NA         \n",
       "3 1000081 1000081 Male        67          NA          NA          NA         \n",
       "4 1000224 1000224 Female      58          NA          NA          NA         \n",
       "5 1000236 1000236 Male        61          NA          70          NA         \n",
       "6 1000255 1000255 Female      51          NA          61          NA         \n",
       "  f.2247.0.0_recode f.2247.1.0_recode f.2247.2.0_recode f.2247.3.0_recode cases\n",
       "1 0                 NA                NA                NA                FALSE\n",
       "2 0                 0                 0                 NA                FALSE\n",
       "3 0                 NA                NA                NA                FALSE\n",
       "4 0                 NA                NA                NA                FALSE\n",
       "5 0                 NA                0                 NA                FALSE\n",
       "6 0                 NA                0                 NA                FALSE"
      ]
     },
     "metadata": {},
     "output_type": "display_data"
    },
    {
     "name": "stdout",
     "output_type": "stream",
     "text": [
      "134345 individuals are controls for f.2247"
     ]
    }
   ],
   "source": [
    "hearing_diff_controls <- hearing_diff %>% \n",
    "  filter(cases == FALSE)\n",
    "head(hearing_diff_controls)\n",
    "cat(dim(hearing_diff_controls)[1], \"individuals are controls for f.2247\")"
   ]
  },
  {
   "cell_type": "code",
   "execution_count": 64,
   "metadata": {
    "kernel": "R"
   },
   "outputs": [
    {
     "data": {
      "text/html": [
       "39974"
      ],
      "text/latex": [
       "39974"
      ],
      "text/markdown": [
       "39974"
      ],
      "text/plain": [
       "[1] 39974"
      ]
     },
     "metadata": {},
     "output_type": "display_data"
    }
   ],
   "source": [
    "dim(hearing_diff)[1]-246072 - 91057"
   ]
  },
  {
   "cell_type": "markdown",
   "metadata": {
    "kernel": "R"
   },
   "source": [
    "## f.2247 Recode cases=1 and controls=0"
   ]
  },
  {
   "cell_type": "code",
   "execution_count": 248,
   "metadata": {
    "kernel": "R"
   },
   "outputs": [
    {
     "data": {
      "text/html": [
       "<table>\n",
       "<caption>A data.frame: 10 × 13</caption>\n",
       "<thead>\n",
       "\t<tr><th></th><th scope=col>IID</th><th scope=col>FID</th><th scope=col>f.22001.0.0</th><th scope=col>f.21003.0.0</th><th scope=col>f.21003.1.0</th><th scope=col>f.21003.2.0</th><th scope=col>f.21003.3.0</th><th scope=col>f.2247.0.0_recode</th><th scope=col>f.2247.1.0_recode</th><th scope=col>f.2247.2.0_recode</th><th scope=col>f.2247.3.0_recode</th><th scope=col>cases</th><th scope=col>hearing_diff_cat</th></tr>\n",
       "\t<tr><th></th><th scope=col>&lt;int&gt;</th><th scope=col>&lt;int&gt;</th><th scope=col>&lt;fct&gt;</th><th scope=col>&lt;int&gt;</th><th scope=col>&lt;int&gt;</th><th scope=col>&lt;int&gt;</th><th scope=col>&lt;int&gt;</th><th scope=col>&lt;fct&gt;</th><th scope=col>&lt;fct&gt;</th><th scope=col>&lt;fct&gt;</th><th scope=col>&lt;fct&gt;</th><th scope=col>&lt;lgl&gt;</th><th scope=col>&lt;int&gt;</th></tr>\n",
       "</thead>\n",
       "<tbody>\n",
       "\t<tr><th scope=row>1</th><td>1000019</td><td>1000019</td><td>Female</td><td>47</td><td>NA</td><td>NA</td><td>NA</td><td>1</td><td>NA</td><td>NA</td><td>NA</td><td> TRUE</td><td>1</td></tr>\n",
       "\t<tr><th scope=row>2</th><td>1000035</td><td>1000035</td><td>Male  </td><td>63</td><td>NA</td><td>NA</td><td>NA</td><td>0</td><td>NA</td><td>NA</td><td>NA</td><td>FALSE</td><td>0</td></tr>\n",
       "\t<tr><th scope=row>3</th><td>1000078</td><td>1000078</td><td>Female</td><td>52</td><td>57</td><td>60</td><td>NA</td><td>0</td><td>0 </td><td>0 </td><td>NA</td><td>FALSE</td><td>0</td></tr>\n",
       "\t<tr><th scope=row>4</th><td>1000081</td><td>1000081</td><td>Male  </td><td>67</td><td>NA</td><td>NA</td><td>NA</td><td>0</td><td>NA</td><td>NA</td><td>NA</td><td>FALSE</td><td>0</td></tr>\n",
       "\t<tr><th scope=row>5</th><td>1000198</td><td>1000198</td><td>Female</td><td>41</td><td>NA</td><td>NA</td><td>NA</td><td>1</td><td>NA</td><td>NA</td><td>NA</td><td> TRUE</td><td>1</td></tr>\n",
       "\t<tr><th scope=row>6</th><td>1000224</td><td>1000224</td><td>Female</td><td>58</td><td>NA</td><td>NA</td><td>NA</td><td>0</td><td>NA</td><td>NA</td><td>NA</td><td>FALSE</td><td>0</td></tr>\n",
       "\t<tr><th scope=row>7</th><td>1000236</td><td>1000236</td><td>Male  </td><td>61</td><td>NA</td><td>70</td><td>NA</td><td>0</td><td>NA</td><td>0 </td><td>NA</td><td>FALSE</td><td>0</td></tr>\n",
       "\t<tr><th scope=row>8</th><td>1000255</td><td>1000255</td><td>Female</td><td>51</td><td>NA</td><td>61</td><td>NA</td><td>0</td><td>NA</td><td>0 </td><td>NA</td><td>FALSE</td><td>0</td></tr>\n",
       "\t<tr><th scope=row>9</th><td>1000272</td><td>1000272</td><td>Male  </td><td>43</td><td>NA</td><td>NA</td><td>NA</td><td>0</td><td>NA</td><td>NA</td><td>NA</td><td>FALSE</td><td>0</td></tr>\n",
       "\t<tr><th scope=row>10</th><td>1000291</td><td>1000291</td><td>Male  </td><td>62</td><td>NA</td><td>NA</td><td>NA</td><td>0</td><td>NA</td><td>NA</td><td>NA</td><td>FALSE</td><td>0</td></tr>\n",
       "</tbody>\n",
       "</table>\n"
      ],
      "text/latex": [
       "A data.frame: 10 × 13\n",
       "\\begin{tabular}{r|lllllllllllll}\n",
       "  & IID & FID & f.22001.0.0 & f.21003.0.0 & f.21003.1.0 & f.21003.2.0 & f.21003.3.0 & f.2247.0.0\\_recode & f.2247.1.0\\_recode & f.2247.2.0\\_recode & f.2247.3.0\\_recode & cases & hearing\\_diff\\_cat\\\\\n",
       "  & <int> & <int> & <fct> & <int> & <int> & <int> & <int> & <fct> & <fct> & <fct> & <fct> & <lgl> & <int>\\\\\n",
       "\\hline\n",
       "\t1 & 1000019 & 1000019 & Female & 47 & NA & NA & NA & 1 & NA & NA & NA &  TRUE & 1\\\\\n",
       "\t2 & 1000035 & 1000035 & Male   & 63 & NA & NA & NA & 0 & NA & NA & NA & FALSE & 0\\\\\n",
       "\t3 & 1000078 & 1000078 & Female & 52 & 57 & 60 & NA & 0 & 0  & 0  & NA & FALSE & 0\\\\\n",
       "\t4 & 1000081 & 1000081 & Male   & 67 & NA & NA & NA & 0 & NA & NA & NA & FALSE & 0\\\\\n",
       "\t5 & 1000198 & 1000198 & Female & 41 & NA & NA & NA & 1 & NA & NA & NA &  TRUE & 1\\\\\n",
       "\t6 & 1000224 & 1000224 & Female & 58 & NA & NA & NA & 0 & NA & NA & NA & FALSE & 0\\\\\n",
       "\t7 & 1000236 & 1000236 & Male   & 61 & NA & 70 & NA & 0 & NA & 0  & NA & FALSE & 0\\\\\n",
       "\t8 & 1000255 & 1000255 & Female & 51 & NA & 61 & NA & 0 & NA & 0  & NA & FALSE & 0\\\\\n",
       "\t9 & 1000272 & 1000272 & Male   & 43 & NA & NA & NA & 0 & NA & NA & NA & FALSE & 0\\\\\n",
       "\t10 & 1000291 & 1000291 & Male   & 62 & NA & NA & NA & 0 & NA & NA & NA & FALSE & 0\\\\\n",
       "\\end{tabular}\n"
      ],
      "text/markdown": [
       "\n",
       "A data.frame: 10 × 13\n",
       "\n",
       "| <!--/--> | IID &lt;int&gt; | FID &lt;int&gt; | f.22001.0.0 &lt;fct&gt; | f.21003.0.0 &lt;int&gt; | f.21003.1.0 &lt;int&gt; | f.21003.2.0 &lt;int&gt; | f.21003.3.0 &lt;int&gt; | f.2247.0.0_recode &lt;fct&gt; | f.2247.1.0_recode &lt;fct&gt; | f.2247.2.0_recode &lt;fct&gt; | f.2247.3.0_recode &lt;fct&gt; | cases &lt;lgl&gt; | hearing_diff_cat &lt;int&gt; |\n",
       "|---|---|---|---|---|---|---|---|---|---|---|---|---|---|\n",
       "| 1 | 1000019 | 1000019 | Female | 47 | NA | NA | NA | 1 | NA | NA | NA |  TRUE | 1 |\n",
       "| 2 | 1000035 | 1000035 | Male   | 63 | NA | NA | NA | 0 | NA | NA | NA | FALSE | 0 |\n",
       "| 3 | 1000078 | 1000078 | Female | 52 | 57 | 60 | NA | 0 | 0  | 0  | NA | FALSE | 0 |\n",
       "| 4 | 1000081 | 1000081 | Male   | 67 | NA | NA | NA | 0 | NA | NA | NA | FALSE | 0 |\n",
       "| 5 | 1000198 | 1000198 | Female | 41 | NA | NA | NA | 1 | NA | NA | NA |  TRUE | 1 |\n",
       "| 6 | 1000224 | 1000224 | Female | 58 | NA | NA | NA | 0 | NA | NA | NA | FALSE | 0 |\n",
       "| 7 | 1000236 | 1000236 | Male   | 61 | NA | 70 | NA | 0 | NA | 0  | NA | FALSE | 0 |\n",
       "| 8 | 1000255 | 1000255 | Female | 51 | NA | 61 | NA | 0 | NA | 0  | NA | FALSE | 0 |\n",
       "| 9 | 1000272 | 1000272 | Male   | 43 | NA | NA | NA | 0 | NA | NA | NA | FALSE | 0 |\n",
       "| 10 | 1000291 | 1000291 | Male   | 62 | NA | NA | NA | 0 | NA | NA | NA | FALSE | 0 |\n",
       "\n"
      ],
      "text/plain": [
       "   IID     FID     f.22001.0.0 f.21003.0.0 f.21003.1.0 f.21003.2.0 f.21003.3.0\n",
       "1  1000019 1000019 Female      47          NA          NA          NA         \n",
       "2  1000035 1000035 Male        63          NA          NA          NA         \n",
       "3  1000078 1000078 Female      52          57          60          NA         \n",
       "4  1000081 1000081 Male        67          NA          NA          NA         \n",
       "5  1000198 1000198 Female      41          NA          NA          NA         \n",
       "6  1000224 1000224 Female      58          NA          NA          NA         \n",
       "7  1000236 1000236 Male        61          NA          70          NA         \n",
       "8  1000255 1000255 Female      51          NA          61          NA         \n",
       "9  1000272 1000272 Male        43          NA          NA          NA         \n",
       "10 1000291 1000291 Male        62          NA          NA          NA         \n",
       "   f.2247.0.0_recode f.2247.1.0_recode f.2247.2.0_recode f.2247.3.0_recode\n",
       "1  1                 NA                NA                NA               \n",
       "2  0                 NA                NA                NA               \n",
       "3  0                 0                 0                 NA               \n",
       "4  0                 NA                NA                NA               \n",
       "5  1                 NA                NA                NA               \n",
       "6  0                 NA                NA                NA               \n",
       "7  0                 NA                0                 NA               \n",
       "8  0                 NA                0                 NA               \n",
       "9  0                 NA                NA                NA               \n",
       "10 0                 NA                NA                NA               \n",
       "   cases hearing_diff_cat\n",
       "1   TRUE 1               \n",
       "2  FALSE 0               \n",
       "3  FALSE 0               \n",
       "4  FALSE 0               \n",
       "5   TRUE 1               \n",
       "6  FALSE 0               \n",
       "7  FALSE 0               \n",
       "8  FALSE 0               \n",
       "9  FALSE 0               \n",
       "10 FALSE 0               "
      ]
     },
     "metadata": {},
     "output_type": "display_data"
    },
    {
     "data": {
      "text/html": [
       "0"
      ],
      "text/latex": [
       "0"
      ],
      "text/markdown": [
       "0"
      ],
      "text/plain": [
       "[1] 0"
      ]
     },
     "metadata": {},
     "output_type": "display_data"
    }
   ],
   "source": [
    "hearing_diff$hearing_diff_cat <- as.integer(as.logical(hearing_diff$cases))\n",
    "head(hearing_diff, 10)\n",
    "# Get the number of NAs\n",
    "length(which(is.na(hearing_diff$hearing_dif_cat)))"
   ]
  },
  {
   "cell_type": "markdown",
   "metadata": {
    "kernel": "R"
   },
   "source": [
    "## f.2247 Step 2: get the ages for hearing difficulty"
   ]
  },
  {
   "cell_type": "code",
   "execution_count": 249,
   "metadata": {
    "kernel": "R"
   },
   "outputs": [
    {
     "data": {
      "text/html": [
       "<table>\n",
       "<caption>A data.frame: 12 × 9</caption>\n",
       "<thead>\n",
       "\t<tr><th></th><th scope=col>IID</th><th scope=col>f.2247.0.0_recode</th><th scope=col>f.2247.1.0_recode</th><th scope=col>f.2247.2.0_recode</th><th scope=col>f.2247.3.0_recode</th><th scope=col>f.21003.0.0</th><th scope=col>f.21003.1.0</th><th scope=col>f.21003.2.0</th><th scope=col>f.21003.3.0</th></tr>\n",
       "\t<tr><th></th><th scope=col>&lt;int&gt;</th><th scope=col>&lt;fct&gt;</th><th scope=col>&lt;fct&gt;</th><th scope=col>&lt;fct&gt;</th><th scope=col>&lt;fct&gt;</th><th scope=col>&lt;int&gt;</th><th scope=col>&lt;int&gt;</th><th scope=col>&lt;int&gt;</th><th scope=col>&lt;int&gt;</th></tr>\n",
       "</thead>\n",
       "<tbody>\n",
       "\t<tr><th scope=row>1</th><td>1000019</td><td>1</td><td>NA</td><td>NA</td><td>NA</td><td>47</td><td>NA</td><td>NA</td><td>NA</td></tr>\n",
       "\t<tr><th scope=row>2</th><td>1000198</td><td>1</td><td>NA</td><td>NA</td><td>NA</td><td>41</td><td>NA</td><td>NA</td><td>NA</td></tr>\n",
       "\t<tr><th scope=row>3</th><td>1000396</td><td>1</td><td>NA</td><td>NA</td><td>NA</td><td>48</td><td>NA</td><td>NA</td><td>NA</td></tr>\n",
       "\t<tr><th scope=row>4</th><td>1000494</td><td>1</td><td>NA</td><td>NA</td><td>NA</td><td>61</td><td>NA</td><td>NA</td><td>NA</td></tr>\n",
       "\t<tr><th scope=row>5</th><td>1001076</td><td>1</td><td>NA</td><td>NA</td><td>NA</td><td>69</td><td>NA</td><td>NA</td><td>NA</td></tr>\n",
       "\t<tr><th scope=row>6</th><td>1001123</td><td>1</td><td>NA</td><td>NA</td><td>NA</td><td>62</td><td>NA</td><td>NA</td><td>NA</td></tr>\n",
       "\t<tr><th scope=row>7</th><td>1001316</td><td>0</td><td>NA</td><td>1 </td><td>NA</td><td>45</td><td>NA</td><td>51</td><td>NA</td></tr>\n",
       "\t<tr><th scope=row>8</th><td>1001373</td><td>1</td><td>NA</td><td>NA</td><td>NA</td><td>67</td><td>NA</td><td>NA</td><td>NA</td></tr>\n",
       "\t<tr><th scope=row>9</th><td>1001384</td><td>1</td><td>NA</td><td>NA</td><td>NA</td><td>61</td><td>NA</td><td>NA</td><td>NA</td></tr>\n",
       "\t<tr><th scope=row>10</th><td>1001577</td><td>1</td><td>NA</td><td>NA</td><td>NA</td><td>61</td><td>NA</td><td>NA</td><td>NA</td></tr>\n",
       "\t<tr><th scope=row>11</th><td>1001636</td><td>1</td><td>NA</td><td>NA</td><td>NA</td><td>64</td><td>NA</td><td>NA</td><td>NA</td></tr>\n",
       "\t<tr><th scope=row>12</th><td>1001775</td><td>1</td><td>NA</td><td>NA</td><td>NA</td><td>61</td><td>NA</td><td>NA</td><td>NA</td></tr>\n",
       "</tbody>\n",
       "</table>\n"
      ],
      "text/latex": [
       "A data.frame: 12 × 9\n",
       "\\begin{tabular}{r|lllllllll}\n",
       "  & IID & f.2247.0.0\\_recode & f.2247.1.0\\_recode & f.2247.2.0\\_recode & f.2247.3.0\\_recode & f.21003.0.0 & f.21003.1.0 & f.21003.2.0 & f.21003.3.0\\\\\n",
       "  & <int> & <fct> & <fct> & <fct> & <fct> & <int> & <int> & <int> & <int>\\\\\n",
       "\\hline\n",
       "\t1 & 1000019 & 1 & NA & NA & NA & 47 & NA & NA & NA\\\\\n",
       "\t2 & 1000198 & 1 & NA & NA & NA & 41 & NA & NA & NA\\\\\n",
       "\t3 & 1000396 & 1 & NA & NA & NA & 48 & NA & NA & NA\\\\\n",
       "\t4 & 1000494 & 1 & NA & NA & NA & 61 & NA & NA & NA\\\\\n",
       "\t5 & 1001076 & 1 & NA & NA & NA & 69 & NA & NA & NA\\\\\n",
       "\t6 & 1001123 & 1 & NA & NA & NA & 62 & NA & NA & NA\\\\\n",
       "\t7 & 1001316 & 0 & NA & 1  & NA & 45 & NA & 51 & NA\\\\\n",
       "\t8 & 1001373 & 1 & NA & NA & NA & 67 & NA & NA & NA\\\\\n",
       "\t9 & 1001384 & 1 & NA & NA & NA & 61 & NA & NA & NA\\\\\n",
       "\t10 & 1001577 & 1 & NA & NA & NA & 61 & NA & NA & NA\\\\\n",
       "\t11 & 1001636 & 1 & NA & NA & NA & 64 & NA & NA & NA\\\\\n",
       "\t12 & 1001775 & 1 & NA & NA & NA & 61 & NA & NA & NA\\\\\n",
       "\\end{tabular}\n"
      ],
      "text/markdown": [
       "\n",
       "A data.frame: 12 × 9\n",
       "\n",
       "| <!--/--> | IID &lt;int&gt; | f.2247.0.0_recode &lt;fct&gt; | f.2247.1.0_recode &lt;fct&gt; | f.2247.2.0_recode &lt;fct&gt; | f.2247.3.0_recode &lt;fct&gt; | f.21003.0.0 &lt;int&gt; | f.21003.1.0 &lt;int&gt; | f.21003.2.0 &lt;int&gt; | f.21003.3.0 &lt;int&gt; |\n",
       "|---|---|---|---|---|---|---|---|---|---|\n",
       "| 1 | 1000019 | 1 | NA | NA | NA | 47 | NA | NA | NA |\n",
       "| 2 | 1000198 | 1 | NA | NA | NA | 41 | NA | NA | NA |\n",
       "| 3 | 1000396 | 1 | NA | NA | NA | 48 | NA | NA | NA |\n",
       "| 4 | 1000494 | 1 | NA | NA | NA | 61 | NA | NA | NA |\n",
       "| 5 | 1001076 | 1 | NA | NA | NA | 69 | NA | NA | NA |\n",
       "| 6 | 1001123 | 1 | NA | NA | NA | 62 | NA | NA | NA |\n",
       "| 7 | 1001316 | 0 | NA | 1  | NA | 45 | NA | 51 | NA |\n",
       "| 8 | 1001373 | 1 | NA | NA | NA | 67 | NA | NA | NA |\n",
       "| 9 | 1001384 | 1 | NA | NA | NA | 61 | NA | NA | NA |\n",
       "| 10 | 1001577 | 1 | NA | NA | NA | 61 | NA | NA | NA |\n",
       "| 11 | 1001636 | 1 | NA | NA | NA | 64 | NA | NA | NA |\n",
       "| 12 | 1001775 | 1 | NA | NA | NA | 61 | NA | NA | NA |\n",
       "\n"
      ],
      "text/plain": [
       "   IID     f.2247.0.0_recode f.2247.1.0_recode f.2247.2.0_recode\n",
       "1  1000019 1                 NA                NA               \n",
       "2  1000198 1                 NA                NA               \n",
       "3  1000396 1                 NA                NA               \n",
       "4  1000494 1                 NA                NA               \n",
       "5  1001076 1                 NA                NA               \n",
       "6  1001123 1                 NA                NA               \n",
       "7  1001316 0                 NA                1                \n",
       "8  1001373 1                 NA                NA               \n",
       "9  1001384 1                 NA                NA               \n",
       "10 1001577 1                 NA                NA               \n",
       "11 1001636 1                 NA                NA               \n",
       "12 1001775 1                 NA                NA               \n",
       "   f.2247.3.0_recode f.21003.0.0 f.21003.1.0 f.21003.2.0 f.21003.3.0\n",
       "1  NA                47          NA          NA          NA         \n",
       "2  NA                41          NA          NA          NA         \n",
       "3  NA                48          NA          NA          NA         \n",
       "4  NA                61          NA          NA          NA         \n",
       "5  NA                69          NA          NA          NA         \n",
       "6  NA                62          NA          NA          NA         \n",
       "7  NA                45          NA          51          NA         \n",
       "8  NA                67          NA          NA          NA         \n",
       "9  NA                61          NA          NA          NA         \n",
       "10 NA                61          NA          NA          NA         \n",
       "11 NA                64          NA          NA          NA         \n",
       "12 NA                61          NA          NA          NA         "
      ]
     },
     "metadata": {},
     "output_type": "display_data"
    }
   ],
   "source": [
    "# Get the subset data of cases\n",
    "diff_age_cases = hearing_diff %>% \n",
    "  filter(hearing_diff_cat==\"1\")  %>%\n",
    "  select(IID, f.2247.0.0_recode, f.2247.1.0_recode, f.2247.2.0_recode, f.2247.3.0_recode, f.21003.0.0, f.21003.1.0, f.21003.2.0, f.21003.3.0)\n",
    "head(diff_age_cases,12)"
   ]
  },
  {
   "cell_type": "code",
   "execution_count": 250,
   "metadata": {
    "kernel": "R"
   },
   "outputs": [
    {
     "data": {
      "text/html": [
       "<table>\n",
       "<caption>A data.frame: 6 × 10</caption>\n",
       "<thead>\n",
       "\t<tr><th></th><th scope=col>IID</th><th scope=col>f.2247.0.0_recode</th><th scope=col>f.2247.1.0_recode</th><th scope=col>f.2247.2.0_recode</th><th scope=col>f.2247.3.0_recode</th><th scope=col>f.21003.0.0</th><th scope=col>f.21003.1.0</th><th scope=col>f.21003.2.0</th><th scope=col>f.21003.3.0</th><th scope=col>visit_idx</th></tr>\n",
       "\t<tr><th></th><th scope=col>&lt;int&gt;</th><th scope=col>&lt;fct&gt;</th><th scope=col>&lt;fct&gt;</th><th scope=col>&lt;fct&gt;</th><th scope=col>&lt;fct&gt;</th><th scope=col>&lt;int&gt;</th><th scope=col>&lt;int&gt;</th><th scope=col>&lt;int&gt;</th><th scope=col>&lt;int&gt;</th><th scope=col>&lt;list&gt;</th></tr>\n",
       "</thead>\n",
       "<tbody>\n",
       "\t<tr><th scope=row>1</th><td>1000019</td><td>1</td><td>NA</td><td>NA</td><td>NA</td><td>47</td><td>NA</td><td>NA</td><td>NA</td><td>2</td></tr>\n",
       "\t<tr><th scope=row>2</th><td>1000198</td><td>1</td><td>NA</td><td>NA</td><td>NA</td><td>41</td><td>NA</td><td>NA</td><td>NA</td><td>2</td></tr>\n",
       "\t<tr><th scope=row>3</th><td>1000396</td><td>1</td><td>NA</td><td>NA</td><td>NA</td><td>48</td><td>NA</td><td>NA</td><td>NA</td><td>2</td></tr>\n",
       "\t<tr><th scope=row>4</th><td>1000494</td><td>1</td><td>NA</td><td>NA</td><td>NA</td><td>61</td><td>NA</td><td>NA</td><td>NA</td><td>2</td></tr>\n",
       "\t<tr><th scope=row>5</th><td>1001076</td><td>1</td><td>NA</td><td>NA</td><td>NA</td><td>69</td><td>NA</td><td>NA</td><td>NA</td><td>2</td></tr>\n",
       "\t<tr><th scope=row>6</th><td>1001123</td><td>1</td><td>NA</td><td>NA</td><td>NA</td><td>62</td><td>NA</td><td>NA</td><td>NA</td><td>2</td></tr>\n",
       "</tbody>\n",
       "</table>\n"
      ],
      "text/latex": [
       "A data.frame: 6 × 10\n",
       "\\begin{tabular}{r|llllllllll}\n",
       "  & IID & f.2247.0.0\\_recode & f.2247.1.0\\_recode & f.2247.2.0\\_recode & f.2247.3.0\\_recode & f.21003.0.0 & f.21003.1.0 & f.21003.2.0 & f.21003.3.0 & visit\\_idx\\\\\n",
       "  & <int> & <fct> & <fct> & <fct> & <fct> & <int> & <int> & <int> & <int> & <list>\\\\\n",
       "\\hline\n",
       "\t1 & 1000019 & 1 & NA & NA & NA & 47 & NA & NA & NA & 2\\\\\n",
       "\t2 & 1000198 & 1 & NA & NA & NA & 41 & NA & NA & NA & 2\\\\\n",
       "\t3 & 1000396 & 1 & NA & NA & NA & 48 & NA & NA & NA & 2\\\\\n",
       "\t4 & 1000494 & 1 & NA & NA & NA & 61 & NA & NA & NA & 2\\\\\n",
       "\t5 & 1001076 & 1 & NA & NA & NA & 69 & NA & NA & NA & 2\\\\\n",
       "\t6 & 1001123 & 1 & NA & NA & NA & 62 & NA & NA & NA & 2\\\\\n",
       "\\end{tabular}\n"
      ],
      "text/markdown": [
       "\n",
       "A data.frame: 6 × 10\n",
       "\n",
       "| <!--/--> | IID &lt;int&gt; | f.2247.0.0_recode &lt;fct&gt; | f.2247.1.0_recode &lt;fct&gt; | f.2247.2.0_recode &lt;fct&gt; | f.2247.3.0_recode &lt;fct&gt; | f.21003.0.0 &lt;int&gt; | f.21003.1.0 &lt;int&gt; | f.21003.2.0 &lt;int&gt; | f.21003.3.0 &lt;int&gt; | visit_idx &lt;list&gt; |\n",
       "|---|---|---|---|---|---|---|---|---|---|---|\n",
       "| 1 | 1000019 | 1 | NA | NA | NA | 47 | NA | NA | NA | 2 |\n",
       "| 2 | 1000198 | 1 | NA | NA | NA | 41 | NA | NA | NA | 2 |\n",
       "| 3 | 1000396 | 1 | NA | NA | NA | 48 | NA | NA | NA | 2 |\n",
       "| 4 | 1000494 | 1 | NA | NA | NA | 61 | NA | NA | NA | 2 |\n",
       "| 5 | 1001076 | 1 | NA | NA | NA | 69 | NA | NA | NA | 2 |\n",
       "| 6 | 1001123 | 1 | NA | NA | NA | 62 | NA | NA | NA | 2 |\n",
       "\n"
      ],
      "text/plain": [
       "  IID     f.2247.0.0_recode f.2247.1.0_recode f.2247.2.0_recode\n",
       "1 1000019 1                 NA                NA               \n",
       "2 1000198 1                 NA                NA               \n",
       "3 1000396 1                 NA                NA               \n",
       "4 1000494 1                 NA                NA               \n",
       "5 1001076 1                 NA                NA               \n",
       "6 1001123 1                 NA                NA               \n",
       "  f.2247.3.0_recode f.21003.0.0 f.21003.1.0 f.21003.2.0 f.21003.3.0 visit_idx\n",
       "1 NA                47          NA          NA          NA          2        \n",
       "2 NA                41          NA          NA          NA          2        \n",
       "3 NA                48          NA          NA          NA          2        \n",
       "4 NA                61          NA          NA          NA          2        \n",
       "5 NA                69          NA          NA          NA          2        \n",
       "6 NA                62          NA          NA          NA          2        "
      ]
     },
     "metadata": {},
     "output_type": "display_data"
    }
   ],
   "source": [
    "# Get the # of column where first replied Yes:\n",
    "diff_age_cases$visit_idx = apply(diff_age_cases, 1, function(x) unlist(which(x == '1')))\n",
    "head(diff_age_cases)"
   ]
  },
  {
   "cell_type": "code",
   "execution_count": 251,
   "metadata": {
    "kernel": "R"
   },
   "outputs": [
    {
     "data": {
      "text/html": [
       "<table>\n",
       "<caption>A data.frame: 6 × 11</caption>\n",
       "<thead>\n",
       "\t<tr><th></th><th scope=col>IID</th><th scope=col>f.2247.0.0_recode</th><th scope=col>f.2247.1.0_recode</th><th scope=col>f.2247.2.0_recode</th><th scope=col>f.2247.3.0_recode</th><th scope=col>f.21003.0.0</th><th scope=col>f.21003.1.0</th><th scope=col>f.21003.2.0</th><th scope=col>f.21003.3.0</th><th scope=col>visit_idx</th><th scope=col>age_final_diff</th></tr>\n",
       "\t<tr><th></th><th scope=col>&lt;int&gt;</th><th scope=col>&lt;fct&gt;</th><th scope=col>&lt;fct&gt;</th><th scope=col>&lt;fct&gt;</th><th scope=col>&lt;fct&gt;</th><th scope=col>&lt;int&gt;</th><th scope=col>&lt;int&gt;</th><th scope=col>&lt;int&gt;</th><th scope=col>&lt;int&gt;</th><th scope=col>&lt;list&gt;</th><th scope=col>&lt;int&gt;</th></tr>\n",
       "</thead>\n",
       "<tbody>\n",
       "\t<tr><th scope=row>1</th><td>1000019</td><td>1</td><td>NA</td><td>NA</td><td>NA</td><td>47</td><td>NA</td><td>NA</td><td>NA</td><td>2</td><td>47</td></tr>\n",
       "\t<tr><th scope=row>2</th><td>1000198</td><td>1</td><td>NA</td><td>NA</td><td>NA</td><td>41</td><td>NA</td><td>NA</td><td>NA</td><td>2</td><td>41</td></tr>\n",
       "\t<tr><th scope=row>3</th><td>1000396</td><td>1</td><td>NA</td><td>NA</td><td>NA</td><td>48</td><td>NA</td><td>NA</td><td>NA</td><td>2</td><td>48</td></tr>\n",
       "\t<tr><th scope=row>4</th><td>1000494</td><td>1</td><td>NA</td><td>NA</td><td>NA</td><td>61</td><td>NA</td><td>NA</td><td>NA</td><td>2</td><td>61</td></tr>\n",
       "\t<tr><th scope=row>5</th><td>1001076</td><td>1</td><td>NA</td><td>NA</td><td>NA</td><td>69</td><td>NA</td><td>NA</td><td>NA</td><td>2</td><td>69</td></tr>\n",
       "\t<tr><th scope=row>6</th><td>1001123</td><td>1</td><td>NA</td><td>NA</td><td>NA</td><td>62</td><td>NA</td><td>NA</td><td>NA</td><td>2</td><td>62</td></tr>\n",
       "</tbody>\n",
       "</table>\n"
      ],
      "text/latex": [
       "A data.frame: 6 × 11\n",
       "\\begin{tabular}{r|lllllllllll}\n",
       "  & IID & f.2247.0.0\\_recode & f.2247.1.0\\_recode & f.2247.2.0\\_recode & f.2247.3.0\\_recode & f.21003.0.0 & f.21003.1.0 & f.21003.2.0 & f.21003.3.0 & visit\\_idx & age\\_final\\_diff\\\\\n",
       "  & <int> & <fct> & <fct> & <fct> & <fct> & <int> & <int> & <int> & <int> & <list> & <int>\\\\\n",
       "\\hline\n",
       "\t1 & 1000019 & 1 & NA & NA & NA & 47 & NA & NA & NA & 2 & 47\\\\\n",
       "\t2 & 1000198 & 1 & NA & NA & NA & 41 & NA & NA & NA & 2 & 41\\\\\n",
       "\t3 & 1000396 & 1 & NA & NA & NA & 48 & NA & NA & NA & 2 & 48\\\\\n",
       "\t4 & 1000494 & 1 & NA & NA & NA & 61 & NA & NA & NA & 2 & 61\\\\\n",
       "\t5 & 1001076 & 1 & NA & NA & NA & 69 & NA & NA & NA & 2 & 69\\\\\n",
       "\t6 & 1001123 & 1 & NA & NA & NA & 62 & NA & NA & NA & 2 & 62\\\\\n",
       "\\end{tabular}\n"
      ],
      "text/markdown": [
       "\n",
       "A data.frame: 6 × 11\n",
       "\n",
       "| <!--/--> | IID &lt;int&gt; | f.2247.0.0_recode &lt;fct&gt; | f.2247.1.0_recode &lt;fct&gt; | f.2247.2.0_recode &lt;fct&gt; | f.2247.3.0_recode &lt;fct&gt; | f.21003.0.0 &lt;int&gt; | f.21003.1.0 &lt;int&gt; | f.21003.2.0 &lt;int&gt; | f.21003.3.0 &lt;int&gt; | visit_idx &lt;list&gt; | age_final_diff &lt;int&gt; |\n",
       "|---|---|---|---|---|---|---|---|---|---|---|---|\n",
       "| 1 | 1000019 | 1 | NA | NA | NA | 47 | NA | NA | NA | 2 | 47 |\n",
       "| 2 | 1000198 | 1 | NA | NA | NA | 41 | NA | NA | NA | 2 | 41 |\n",
       "| 3 | 1000396 | 1 | NA | NA | NA | 48 | NA | NA | NA | 2 | 48 |\n",
       "| 4 | 1000494 | 1 | NA | NA | NA | 61 | NA | NA | NA | 2 | 61 |\n",
       "| 5 | 1001076 | 1 | NA | NA | NA | 69 | NA | NA | NA | 2 | 69 |\n",
       "| 6 | 1001123 | 1 | NA | NA | NA | 62 | NA | NA | NA | 2 | 62 |\n",
       "\n"
      ],
      "text/plain": [
       "  IID     f.2247.0.0_recode f.2247.1.0_recode f.2247.2.0_recode\n",
       "1 1000019 1                 NA                NA               \n",
       "2 1000198 1                 NA                NA               \n",
       "3 1000396 1                 NA                NA               \n",
       "4 1000494 1                 NA                NA               \n",
       "5 1001076 1                 NA                NA               \n",
       "6 1001123 1                 NA                NA               \n",
       "  f.2247.3.0_recode f.21003.0.0 f.21003.1.0 f.21003.2.0 f.21003.3.0 visit_idx\n",
       "1 NA                47          NA          NA          NA          2        \n",
       "2 NA                41          NA          NA          NA          2        \n",
       "3 NA                48          NA          NA          NA          2        \n",
       "4 NA                61          NA          NA          NA          2        \n",
       "5 NA                69          NA          NA          NA          2        \n",
       "6 NA                62          NA          NA          NA          2        \n",
       "  age_final_diff\n",
       "1 47            \n",
       "2 41            \n",
       "3 48            \n",
       "4 61            \n",
       "5 69            \n",
       "6 62            "
      ]
     },
     "metadata": {},
     "output_type": "display_data"
    },
    {
     "data": {
      "text/plain": [
       "   Min. 1st Qu.  Median    Mean 3rd Qu.    Max. \n",
       "  39.00   54.00   61.00   59.25   65.00   81.00 "
      ]
     },
     "metadata": {},
     "output_type": "display_data"
    }
   ],
   "source": [
    "# Define offset:\n",
    "# offset: refers to the # of columns between the first age column (i.e.f.21003.0.0) and the first recode column (i.e.f.22247.0.0_recode)\n",
    "offset = which(colnames(diff_age_cases) == 'f.21003.0.0') - which(colnames(diff_age_cases) == 'f.2247.0.0_recode')\n",
    "\n",
    "# Define the function to extract the first time they said yes for cases \n",
    "f=get_age_func <- function(x) {\n",
    "  visit_index=x[which(colnames(diff_age_cases)==\"visit_idx\")]\n",
    "  index=min(unlist(visit_index))+offset\n",
    "  age=x[index]\n",
    "  final_age=unlist(age)\n",
    "  if(is.null(final_age))\n",
    "  {final_age<-NA}\n",
    "  return(final_age)\n",
    "}\n",
    "\n",
    "# Get the final age for cases\n",
    "diff_age_cases$age_final_diff = apply(diff_age_cases, 1, f)\n",
    "\n",
    "# Show first 6 rows\n",
    "head(diff_age_cases)\n",
    "summary(diff_age_cases$age_final_diff)"
   ]
  },
  {
   "cell_type": "code",
   "execution_count": 252,
   "metadata": {
    "kernel": "R"
   },
   "outputs": [
    {
     "data": {
      "text/html": [
       "<table>\n",
       "<caption>A data.frame: 6 × 9</caption>\n",
       "<thead>\n",
       "\t<tr><th></th><th scope=col>IID</th><th scope=col>f.2247.0.0_recode</th><th scope=col>f.2247.1.0_recode</th><th scope=col>f.2247.2.0_recode</th><th scope=col>f.2247.3.0_recode</th><th scope=col>f.21003.0.0</th><th scope=col>f.21003.1.0</th><th scope=col>f.21003.2.0</th><th scope=col>f.21003.3.0</th></tr>\n",
       "\t<tr><th></th><th scope=col>&lt;int&gt;</th><th scope=col>&lt;fct&gt;</th><th scope=col>&lt;fct&gt;</th><th scope=col>&lt;fct&gt;</th><th scope=col>&lt;fct&gt;</th><th scope=col>&lt;int&gt;</th><th scope=col>&lt;int&gt;</th><th scope=col>&lt;int&gt;</th><th scope=col>&lt;int&gt;</th></tr>\n",
       "</thead>\n",
       "<tbody>\n",
       "\t<tr><th scope=row>1</th><td>1000035</td><td>0</td><td>NA</td><td>NA</td><td>NA</td><td>63</td><td>NA</td><td>NA</td><td>NA</td></tr>\n",
       "\t<tr><th scope=row>2</th><td>1000078</td><td>0</td><td>0 </td><td>0 </td><td>NA</td><td>52</td><td>57</td><td>60</td><td>NA</td></tr>\n",
       "\t<tr><th scope=row>3</th><td>1000081</td><td>0</td><td>NA</td><td>NA</td><td>NA</td><td>67</td><td>NA</td><td>NA</td><td>NA</td></tr>\n",
       "\t<tr><th scope=row>4</th><td>1000224</td><td>0</td><td>NA</td><td>NA</td><td>NA</td><td>58</td><td>NA</td><td>NA</td><td>NA</td></tr>\n",
       "\t<tr><th scope=row>5</th><td>1000236</td><td>0</td><td>NA</td><td>0 </td><td>NA</td><td>61</td><td>NA</td><td>70</td><td>NA</td></tr>\n",
       "\t<tr><th scope=row>6</th><td>1000255</td><td>0</td><td>NA</td><td>0 </td><td>NA</td><td>51</td><td>NA</td><td>61</td><td>NA</td></tr>\n",
       "</tbody>\n",
       "</table>\n"
      ],
      "text/latex": [
       "A data.frame: 6 × 9\n",
       "\\begin{tabular}{r|lllllllll}\n",
       "  & IID & f.2247.0.0\\_recode & f.2247.1.0\\_recode & f.2247.2.0\\_recode & f.2247.3.0\\_recode & f.21003.0.0 & f.21003.1.0 & f.21003.2.0 & f.21003.3.0\\\\\n",
       "  & <int> & <fct> & <fct> & <fct> & <fct> & <int> & <int> & <int> & <int>\\\\\n",
       "\\hline\n",
       "\t1 & 1000035 & 0 & NA & NA & NA & 63 & NA & NA & NA\\\\\n",
       "\t2 & 1000078 & 0 & 0  & 0  & NA & 52 & 57 & 60 & NA\\\\\n",
       "\t3 & 1000081 & 0 & NA & NA & NA & 67 & NA & NA & NA\\\\\n",
       "\t4 & 1000224 & 0 & NA & NA & NA & 58 & NA & NA & NA\\\\\n",
       "\t5 & 1000236 & 0 & NA & 0  & NA & 61 & NA & 70 & NA\\\\\n",
       "\t6 & 1000255 & 0 & NA & 0  & NA & 51 & NA & 61 & NA\\\\\n",
       "\\end{tabular}\n"
      ],
      "text/markdown": [
       "\n",
       "A data.frame: 6 × 9\n",
       "\n",
       "| <!--/--> | IID &lt;int&gt; | f.2247.0.0_recode &lt;fct&gt; | f.2247.1.0_recode &lt;fct&gt; | f.2247.2.0_recode &lt;fct&gt; | f.2247.3.0_recode &lt;fct&gt; | f.21003.0.0 &lt;int&gt; | f.21003.1.0 &lt;int&gt; | f.21003.2.0 &lt;int&gt; | f.21003.3.0 &lt;int&gt; |\n",
       "|---|---|---|---|---|---|---|---|---|---|\n",
       "| 1 | 1000035 | 0 | NA | NA | NA | 63 | NA | NA | NA |\n",
       "| 2 | 1000078 | 0 | 0  | 0  | NA | 52 | 57 | 60 | NA |\n",
       "| 3 | 1000081 | 0 | NA | NA | NA | 67 | NA | NA | NA |\n",
       "| 4 | 1000224 | 0 | NA | NA | NA | 58 | NA | NA | NA |\n",
       "| 5 | 1000236 | 0 | NA | 0  | NA | 61 | NA | 70 | NA |\n",
       "| 6 | 1000255 | 0 | NA | 0  | NA | 51 | NA | 61 | NA |\n",
       "\n"
      ],
      "text/plain": [
       "  IID     f.2247.0.0_recode f.2247.1.0_recode f.2247.2.0_recode\n",
       "1 1000035 0                 NA                NA               \n",
       "2 1000078 0                 0                 0                \n",
       "3 1000081 0                 NA                NA               \n",
       "4 1000224 0                 NA                NA               \n",
       "5 1000236 0                 NA                0                \n",
       "6 1000255 0                 NA                0                \n",
       "  f.2247.3.0_recode f.21003.0.0 f.21003.1.0 f.21003.2.0 f.21003.3.0\n",
       "1 NA                63          NA          NA          NA         \n",
       "2 NA                52          57          60          NA         \n",
       "3 NA                67          NA          NA          NA         \n",
       "4 NA                58          NA          NA          NA         \n",
       "5 NA                61          NA          70          NA         \n",
       "6 NA                51          NA          61          NA         "
      ]
     },
     "metadata": {},
     "output_type": "display_data"
    }
   ],
   "source": [
    "### Extract age for Control (2247)\n",
    "diff_age_control <- hearing_diff %>% \n",
    "  filter(hearing_diff_cat == \"0\") %>%\n",
    "  select(IID, f.2247.0.0_recode, f.2247.1.0_recode, f.2247.2.0_recode, f.2247.3.0_recode, f.21003.0.0, f.21003.1.0, f.21003.2.0, f.21003.3.0)\n",
    "head(diff_age_control)"
   ]
  },
  {
   "cell_type": "code",
   "execution_count": 253,
   "metadata": {
    "kernel": "R"
   },
   "outputs": [
    {
     "data": {
      "text/html": [
       "<table>\n",
       "<caption>A data.frame: 6 × 11</caption>\n",
       "<thead>\n",
       "\t<tr><th></th><th scope=col>IID</th><th scope=col>f.2247.0.0_recode</th><th scope=col>f.2247.1.0_recode</th><th scope=col>f.2247.2.0_recode</th><th scope=col>f.2247.3.0_recode</th><th scope=col>f.21003.0.0</th><th scope=col>f.21003.1.0</th><th scope=col>f.21003.2.0</th><th scope=col>f.21003.3.0</th><th scope=col>visit_idx</th><th scope=col>age_final_diff</th></tr>\n",
       "\t<tr><th></th><th scope=col>&lt;int&gt;</th><th scope=col>&lt;fct&gt;</th><th scope=col>&lt;fct&gt;</th><th scope=col>&lt;fct&gt;</th><th scope=col>&lt;fct&gt;</th><th scope=col>&lt;int&gt;</th><th scope=col>&lt;int&gt;</th><th scope=col>&lt;int&gt;</th><th scope=col>&lt;int&gt;</th><th scope=col>&lt;list&gt;</th><th scope=col>&lt;int&gt;</th></tr>\n",
       "</thead>\n",
       "<tbody>\n",
       "\t<tr><th scope=row>1</th><td>1000035</td><td>0</td><td>NA</td><td>NA</td><td>NA</td><td>63</td><td>NA</td><td>NA</td><td>NA</td><td>2</td><td>63</td></tr>\n",
       "\t<tr><th scope=row>2</th><td>1000078</td><td>0</td><td>0 </td><td>0 </td><td>NA</td><td>52</td><td>57</td><td>60</td><td>NA</td><td>2, 3, 4</td><td>60</td></tr>\n",
       "\t<tr><th scope=row>3</th><td>1000081</td><td>0</td><td>NA</td><td>NA</td><td>NA</td><td>67</td><td>NA</td><td>NA</td><td>NA</td><td>2</td><td>67</td></tr>\n",
       "\t<tr><th scope=row>4</th><td>1000224</td><td>0</td><td>NA</td><td>NA</td><td>NA</td><td>58</td><td>NA</td><td>NA</td><td>NA</td><td>2</td><td>58</td></tr>\n",
       "\t<tr><th scope=row>5</th><td>1000236</td><td>0</td><td>NA</td><td>0 </td><td>NA</td><td>61</td><td>NA</td><td>70</td><td>NA</td><td>2, 4</td><td>70</td></tr>\n",
       "\t<tr><th scope=row>6</th><td>1000255</td><td>0</td><td>NA</td><td>0 </td><td>NA</td><td>51</td><td>NA</td><td>61</td><td>NA</td><td>2, 4</td><td>61</td></tr>\n",
       "</tbody>\n",
       "</table>\n"
      ],
      "text/latex": [
       "A data.frame: 6 × 11\n",
       "\\begin{tabular}{r|lllllllllll}\n",
       "  & IID & f.2247.0.0\\_recode & f.2247.1.0\\_recode & f.2247.2.0\\_recode & f.2247.3.0\\_recode & f.21003.0.0 & f.21003.1.0 & f.21003.2.0 & f.21003.3.0 & visit\\_idx & age\\_final\\_diff\\\\\n",
       "  & <int> & <fct> & <fct> & <fct> & <fct> & <int> & <int> & <int> & <int> & <list> & <int>\\\\\n",
       "\\hline\n",
       "\t1 & 1000035 & 0 & NA & NA & NA & 63 & NA & NA & NA & 2 & 63\\\\\n",
       "\t2 & 1000078 & 0 & 0  & 0  & NA & 52 & 57 & 60 & NA & 2, 3, 4 & 60\\\\\n",
       "\t3 & 1000081 & 0 & NA & NA & NA & 67 & NA & NA & NA & 2 & 67\\\\\n",
       "\t4 & 1000224 & 0 & NA & NA & NA & 58 & NA & NA & NA & 2 & 58\\\\\n",
       "\t5 & 1000236 & 0 & NA & 0  & NA & 61 & NA & 70 & NA & 2, 4 & 70\\\\\n",
       "\t6 & 1000255 & 0 & NA & 0  & NA & 51 & NA & 61 & NA & 2, 4 & 61\\\\\n",
       "\\end{tabular}\n"
      ],
      "text/markdown": [
       "\n",
       "A data.frame: 6 × 11\n",
       "\n",
       "| <!--/--> | IID &lt;int&gt; | f.2247.0.0_recode &lt;fct&gt; | f.2247.1.0_recode &lt;fct&gt; | f.2247.2.0_recode &lt;fct&gt; | f.2247.3.0_recode &lt;fct&gt; | f.21003.0.0 &lt;int&gt; | f.21003.1.0 &lt;int&gt; | f.21003.2.0 &lt;int&gt; | f.21003.3.0 &lt;int&gt; | visit_idx &lt;list&gt; | age_final_diff &lt;int&gt; |\n",
       "|---|---|---|---|---|---|---|---|---|---|---|---|\n",
       "| 1 | 1000035 | 0 | NA | NA | NA | 63 | NA | NA | NA | 2 | 63 |\n",
       "| 2 | 1000078 | 0 | 0  | 0  | NA | 52 | 57 | 60 | NA | 2, 3, 4 | 60 |\n",
       "| 3 | 1000081 | 0 | NA | NA | NA | 67 | NA | NA | NA | 2 | 67 |\n",
       "| 4 | 1000224 | 0 | NA | NA | NA | 58 | NA | NA | NA | 2 | 58 |\n",
       "| 5 | 1000236 | 0 | NA | 0  | NA | 61 | NA | 70 | NA | 2, 4 | 70 |\n",
       "| 6 | 1000255 | 0 | NA | 0  | NA | 51 | NA | 61 | NA | 2, 4 | 61 |\n",
       "\n"
      ],
      "text/plain": [
       "  IID     f.2247.0.0_recode f.2247.1.0_recode f.2247.2.0_recode\n",
       "1 1000035 0                 NA                NA               \n",
       "2 1000078 0                 0                 0                \n",
       "3 1000081 0                 NA                NA               \n",
       "4 1000224 0                 NA                NA               \n",
       "5 1000236 0                 NA                0                \n",
       "6 1000255 0                 NA                0                \n",
       "  f.2247.3.0_recode f.21003.0.0 f.21003.1.0 f.21003.2.0 f.21003.3.0 visit_idx\n",
       "1 NA                63          NA          NA          NA          2        \n",
       "2 NA                52          57          60          NA          2, 3, 4  \n",
       "3 NA                67          NA          NA          NA          2        \n",
       "4 NA                58          NA          NA          NA          2        \n",
       "5 NA                61          NA          70          NA          2, 4     \n",
       "6 NA                51          NA          61          NA          2, 4     \n",
       "  age_final_diff\n",
       "1 63            \n",
       "2 60            \n",
       "3 67            \n",
       "4 58            \n",
       "5 70            \n",
       "6 61            "
      ]
     },
     "metadata": {},
     "output_type": "display_data"
    },
    {
     "data": {
      "text/plain": [
       "   Min. 1st Qu.  Median    Mean 3rd Qu.    Max. \n",
       "  38.00   50.00   58.00   56.59   63.00   82.00 "
      ]
     },
     "metadata": {},
     "output_type": "display_data"
    }
   ],
   "source": [
    "# Get the # of column where last replied No:\n",
    "diff_age_control$visit_idx = apply(diff_age_control, 1, function(x) unlist(which(x == '0')))\n",
    "\n",
    "# Define offset:\n",
    "# offset: refers to the # of columns between the first age column (i.e.f.21003.0.0) and the first recode column (i.e.f.3393.0.0_recode)\n",
    "offset = which(colnames(diff_age_control) == 'f.21003.0.0') - which(colnames(diff_age_control) == 'f.2247.0.0_recode')\n",
    "\n",
    "# Define the function to extract the last time they said no for control\n",
    "\n",
    "f=get_age_func <- function(x) {\n",
    "  visit_index=x[which(colnames(diff_age_control)==\"visit_idx\")]\n",
    "  index=max(unlist(visit_index))+offset\n",
    "  age=x[index]\n",
    "  age=unlist(age)\n",
    "  return(age)\n",
    "}\n",
    "\n",
    "# Get the final age for controls\n",
    "diff_age_control$age_final_diff = apply(diff_age_control, 1, f)\n",
    "\n",
    "# Show first 6 rows\n",
    "head(diff_age_control)\n",
    "summary(diff_age_control$age_final_diff)"
   ]
  },
  {
   "cell_type": "code",
   "execution_count": 254,
   "metadata": {
    "kernel": "R"
   },
   "outputs": [
    {
     "data": {
      "text/html": [
       "<style>\n",
       ".list-inline {list-style: none; margin:0; padding: 0}\n",
       ".list-inline>li {display: inline-block}\n",
       ".list-inline>li:not(:last-child)::after {content: \"\\00b7\"; padding: 0 .5ex}\n",
       "</style>\n",
       "<ol class=list-inline><li>182846</li><li>11</li></ol>\n"
      ],
      "text/latex": [
       "\\begin{enumerate*}\n",
       "\\item 182846\n",
       "\\item 11\n",
       "\\end{enumerate*}\n"
      ],
      "text/markdown": [
       "1. 182846\n",
       "2. 11\n",
       "\n",
       "\n"
      ],
      "text/plain": [
       "[1] 182846     11"
      ]
     },
     "metadata": {},
     "output_type": "display_data"
    },
    {
     "data": {
      "text/html": [
       "<table>\n",
       "<caption>A data.frame: 6 × 11</caption>\n",
       "<thead>\n",
       "\t<tr><th></th><th scope=col>IID</th><th scope=col>f.2247.0.0_recode</th><th scope=col>f.2247.1.0_recode</th><th scope=col>f.2247.2.0_recode</th><th scope=col>f.2247.3.0_recode</th><th scope=col>f.21003.0.0</th><th scope=col>f.21003.1.0</th><th scope=col>f.21003.2.0</th><th scope=col>f.21003.3.0</th><th scope=col>visit_idx</th><th scope=col>age_final_diff</th></tr>\n",
       "\t<tr><th></th><th scope=col>&lt;int&gt;</th><th scope=col>&lt;fct&gt;</th><th scope=col>&lt;fct&gt;</th><th scope=col>&lt;fct&gt;</th><th scope=col>&lt;fct&gt;</th><th scope=col>&lt;int&gt;</th><th scope=col>&lt;int&gt;</th><th scope=col>&lt;int&gt;</th><th scope=col>&lt;int&gt;</th><th scope=col>&lt;list&gt;</th><th scope=col>&lt;int&gt;</th></tr>\n",
       "</thead>\n",
       "<tbody>\n",
       "\t<tr><th scope=row>1</th><td>1000019</td><td>1</td><td>NA</td><td>NA</td><td>NA</td><td>47</td><td>NA</td><td>NA</td><td>NA</td><td>2</td><td>47</td></tr>\n",
       "\t<tr><th scope=row>2</th><td>1000198</td><td>1</td><td>NA</td><td>NA</td><td>NA</td><td>41</td><td>NA</td><td>NA</td><td>NA</td><td>2</td><td>41</td></tr>\n",
       "\t<tr><th scope=row>3</th><td>1000396</td><td>1</td><td>NA</td><td>NA</td><td>NA</td><td>48</td><td>NA</td><td>NA</td><td>NA</td><td>2</td><td>48</td></tr>\n",
       "\t<tr><th scope=row>4</th><td>1000494</td><td>1</td><td>NA</td><td>NA</td><td>NA</td><td>61</td><td>NA</td><td>NA</td><td>NA</td><td>2</td><td>61</td></tr>\n",
       "\t<tr><th scope=row>5</th><td>1001076</td><td>1</td><td>NA</td><td>NA</td><td>NA</td><td>69</td><td>NA</td><td>NA</td><td>NA</td><td>2</td><td>69</td></tr>\n",
       "\t<tr><th scope=row>6</th><td>1001123</td><td>1</td><td>NA</td><td>NA</td><td>NA</td><td>62</td><td>NA</td><td>NA</td><td>NA</td><td>2</td><td>62</td></tr>\n",
       "</tbody>\n",
       "</table>\n"
      ],
      "text/latex": [
       "A data.frame: 6 × 11\n",
       "\\begin{tabular}{r|lllllllllll}\n",
       "  & IID & f.2247.0.0\\_recode & f.2247.1.0\\_recode & f.2247.2.0\\_recode & f.2247.3.0\\_recode & f.21003.0.0 & f.21003.1.0 & f.21003.2.0 & f.21003.3.0 & visit\\_idx & age\\_final\\_diff\\\\\n",
       "  & <int> & <fct> & <fct> & <fct> & <fct> & <int> & <int> & <int> & <int> & <list> & <int>\\\\\n",
       "\\hline\n",
       "\t1 & 1000019 & 1 & NA & NA & NA & 47 & NA & NA & NA & 2 & 47\\\\\n",
       "\t2 & 1000198 & 1 & NA & NA & NA & 41 & NA & NA & NA & 2 & 41\\\\\n",
       "\t3 & 1000396 & 1 & NA & NA & NA & 48 & NA & NA & NA & 2 & 48\\\\\n",
       "\t4 & 1000494 & 1 & NA & NA & NA & 61 & NA & NA & NA & 2 & 61\\\\\n",
       "\t5 & 1001076 & 1 & NA & NA & NA & 69 & NA & NA & NA & 2 & 69\\\\\n",
       "\t6 & 1001123 & 1 & NA & NA & NA & 62 & NA & NA & NA & 2 & 62\\\\\n",
       "\\end{tabular}\n"
      ],
      "text/markdown": [
       "\n",
       "A data.frame: 6 × 11\n",
       "\n",
       "| <!--/--> | IID &lt;int&gt; | f.2247.0.0_recode &lt;fct&gt; | f.2247.1.0_recode &lt;fct&gt; | f.2247.2.0_recode &lt;fct&gt; | f.2247.3.0_recode &lt;fct&gt; | f.21003.0.0 &lt;int&gt; | f.21003.1.0 &lt;int&gt; | f.21003.2.0 &lt;int&gt; | f.21003.3.0 &lt;int&gt; | visit_idx &lt;list&gt; | age_final_diff &lt;int&gt; |\n",
       "|---|---|---|---|---|---|---|---|---|---|---|---|\n",
       "| 1 | 1000019 | 1 | NA | NA | NA | 47 | NA | NA | NA | 2 | 47 |\n",
       "| 2 | 1000198 | 1 | NA | NA | NA | 41 | NA | NA | NA | 2 | 41 |\n",
       "| 3 | 1000396 | 1 | NA | NA | NA | 48 | NA | NA | NA | 2 | 48 |\n",
       "| 4 | 1000494 | 1 | NA | NA | NA | 61 | NA | NA | NA | 2 | 61 |\n",
       "| 5 | 1001076 | 1 | NA | NA | NA | 69 | NA | NA | NA | 2 | 69 |\n",
       "| 6 | 1001123 | 1 | NA | NA | NA | 62 | NA | NA | NA | 2 | 62 |\n",
       "\n"
      ],
      "text/plain": [
       "  IID     f.2247.0.0_recode f.2247.1.0_recode f.2247.2.0_recode\n",
       "1 1000019 1                 NA                NA               \n",
       "2 1000198 1                 NA                NA               \n",
       "3 1000396 1                 NA                NA               \n",
       "4 1000494 1                 NA                NA               \n",
       "5 1001076 1                 NA                NA               \n",
       "6 1001123 1                 NA                NA               \n",
       "  f.2247.3.0_recode f.21003.0.0 f.21003.1.0 f.21003.2.0 f.21003.3.0 visit_idx\n",
       "1 NA                47          NA          NA          NA          2        \n",
       "2 NA                41          NA          NA          NA          2        \n",
       "3 NA                48          NA          NA          NA          2        \n",
       "4 NA                61          NA          NA          NA          2        \n",
       "5 NA                69          NA          NA          NA          2        \n",
       "6 NA                62          NA          NA          NA          2        \n",
       "  age_final_diff\n",
       "1 47            \n",
       "2 41            \n",
       "3 48            \n",
       "4 61            \n",
       "5 69            \n",
       "6 62            "
      ]
     },
     "metadata": {},
     "output_type": "display_data"
    }
   ],
   "source": [
    "# Merge age_cases and age_controls\n",
    "hearing_diff_age <- rbind(diff_age_cases, diff_age_control) \n",
    "dim(hearing_diff_age)\n",
    "head(hearing_diff_age)"
   ]
  },
  {
   "cell_type": "code",
   "execution_count": 255,
   "metadata": {
    "kernel": "R"
   },
   "outputs": [
    {
     "data": {
      "text/html": [
       "<table>\n",
       "<caption>A data.frame: 6 × 14</caption>\n",
       "<thead>\n",
       "\t<tr><th></th><th scope=col>IID</th><th scope=col>FID</th><th scope=col>f.22001.0.0</th><th scope=col>f.21003.0.0</th><th scope=col>f.21003.1.0</th><th scope=col>f.21003.2.0</th><th scope=col>f.21003.3.0</th><th scope=col>f.2247.0.0_recode</th><th scope=col>f.2247.1.0_recode</th><th scope=col>f.2247.2.0_recode</th><th scope=col>f.2247.3.0_recode</th><th scope=col>cases</th><th scope=col>hearing_diff_cat</th><th scope=col>age_final_diff</th></tr>\n",
       "\t<tr><th></th><th scope=col>&lt;int&gt;</th><th scope=col>&lt;int&gt;</th><th scope=col>&lt;fct&gt;</th><th scope=col>&lt;int&gt;</th><th scope=col>&lt;int&gt;</th><th scope=col>&lt;int&gt;</th><th scope=col>&lt;int&gt;</th><th scope=col>&lt;fct&gt;</th><th scope=col>&lt;fct&gt;</th><th scope=col>&lt;fct&gt;</th><th scope=col>&lt;fct&gt;</th><th scope=col>&lt;lgl&gt;</th><th scope=col>&lt;int&gt;</th><th scope=col>&lt;int&gt;</th></tr>\n",
       "</thead>\n",
       "<tbody>\n",
       "\t<tr><th scope=row>1</th><td>1000019</td><td>1000019</td><td>Female</td><td>47</td><td>NA</td><td>NA</td><td>NA</td><td>1</td><td>NA</td><td>NA</td><td>NA</td><td> TRUE</td><td>1</td><td>47</td></tr>\n",
       "\t<tr><th scope=row>2</th><td>1000035</td><td>1000035</td><td>Male  </td><td>63</td><td>NA</td><td>NA</td><td>NA</td><td>0</td><td>NA</td><td>NA</td><td>NA</td><td>FALSE</td><td>0</td><td>63</td></tr>\n",
       "\t<tr><th scope=row>3</th><td>1000078</td><td>1000078</td><td>Female</td><td>52</td><td>57</td><td>60</td><td>NA</td><td>0</td><td>0 </td><td>0 </td><td>NA</td><td>FALSE</td><td>0</td><td>60</td></tr>\n",
       "\t<tr><th scope=row>4</th><td>1000081</td><td>1000081</td><td>Male  </td><td>67</td><td>NA</td><td>NA</td><td>NA</td><td>0</td><td>NA</td><td>NA</td><td>NA</td><td>FALSE</td><td>0</td><td>67</td></tr>\n",
       "\t<tr><th scope=row>5</th><td>1000198</td><td>1000198</td><td>Female</td><td>41</td><td>NA</td><td>NA</td><td>NA</td><td>1</td><td>NA</td><td>NA</td><td>NA</td><td> TRUE</td><td>1</td><td>41</td></tr>\n",
       "\t<tr><th scope=row>6</th><td>1000224</td><td>1000224</td><td>Female</td><td>58</td><td>NA</td><td>NA</td><td>NA</td><td>0</td><td>NA</td><td>NA</td><td>NA</td><td>FALSE</td><td>0</td><td>58</td></tr>\n",
       "</tbody>\n",
       "</table>\n"
      ],
      "text/latex": [
       "A data.frame: 6 × 14\n",
       "\\begin{tabular}{r|llllllllllllll}\n",
       "  & IID & FID & f.22001.0.0 & f.21003.0.0 & f.21003.1.0 & f.21003.2.0 & f.21003.3.0 & f.2247.0.0\\_recode & f.2247.1.0\\_recode & f.2247.2.0\\_recode & f.2247.3.0\\_recode & cases & hearing\\_diff\\_cat & age\\_final\\_diff\\\\\n",
       "  & <int> & <int> & <fct> & <int> & <int> & <int> & <int> & <fct> & <fct> & <fct> & <fct> & <lgl> & <int> & <int>\\\\\n",
       "\\hline\n",
       "\t1 & 1000019 & 1000019 & Female & 47 & NA & NA & NA & 1 & NA & NA & NA &  TRUE & 1 & 47\\\\\n",
       "\t2 & 1000035 & 1000035 & Male   & 63 & NA & NA & NA & 0 & NA & NA & NA & FALSE & 0 & 63\\\\\n",
       "\t3 & 1000078 & 1000078 & Female & 52 & 57 & 60 & NA & 0 & 0  & 0  & NA & FALSE & 0 & 60\\\\\n",
       "\t4 & 1000081 & 1000081 & Male   & 67 & NA & NA & NA & 0 & NA & NA & NA & FALSE & 0 & 67\\\\\n",
       "\t5 & 1000198 & 1000198 & Female & 41 & NA & NA & NA & 1 & NA & NA & NA &  TRUE & 1 & 41\\\\\n",
       "\t6 & 1000224 & 1000224 & Female & 58 & NA & NA & NA & 0 & NA & NA & NA & FALSE & 0 & 58\\\\\n",
       "\\end{tabular}\n"
      ],
      "text/markdown": [
       "\n",
       "A data.frame: 6 × 14\n",
       "\n",
       "| <!--/--> | IID &lt;int&gt; | FID &lt;int&gt; | f.22001.0.0 &lt;fct&gt; | f.21003.0.0 &lt;int&gt; | f.21003.1.0 &lt;int&gt; | f.21003.2.0 &lt;int&gt; | f.21003.3.0 &lt;int&gt; | f.2247.0.0_recode &lt;fct&gt; | f.2247.1.0_recode &lt;fct&gt; | f.2247.2.0_recode &lt;fct&gt; | f.2247.3.0_recode &lt;fct&gt; | cases &lt;lgl&gt; | hearing_diff_cat &lt;int&gt; | age_final_diff &lt;int&gt; |\n",
       "|---|---|---|---|---|---|---|---|---|---|---|---|---|---|---|\n",
       "| 1 | 1000019 | 1000019 | Female | 47 | NA | NA | NA | 1 | NA | NA | NA |  TRUE | 1 | 47 |\n",
       "| 2 | 1000035 | 1000035 | Male   | 63 | NA | NA | NA | 0 | NA | NA | NA | FALSE | 0 | 63 |\n",
       "| 3 | 1000078 | 1000078 | Female | 52 | 57 | 60 | NA | 0 | 0  | 0  | NA | FALSE | 0 | 60 |\n",
       "| 4 | 1000081 | 1000081 | Male   | 67 | NA | NA | NA | 0 | NA | NA | NA | FALSE | 0 | 67 |\n",
       "| 5 | 1000198 | 1000198 | Female | 41 | NA | NA | NA | 1 | NA | NA | NA |  TRUE | 1 | 41 |\n",
       "| 6 | 1000224 | 1000224 | Female | 58 | NA | NA | NA | 0 | NA | NA | NA | FALSE | 0 | 58 |\n",
       "\n"
      ],
      "text/plain": [
       "  IID     FID     f.22001.0.0 f.21003.0.0 f.21003.1.0 f.21003.2.0 f.21003.3.0\n",
       "1 1000019 1000019 Female      47          NA          NA          NA         \n",
       "2 1000035 1000035 Male        63          NA          NA          NA         \n",
       "3 1000078 1000078 Female      52          57          60          NA         \n",
       "4 1000081 1000081 Male        67          NA          NA          NA         \n",
       "5 1000198 1000198 Female      41          NA          NA          NA         \n",
       "6 1000224 1000224 Female      58          NA          NA          NA         \n",
       "  f.2247.0.0_recode f.2247.1.0_recode f.2247.2.0_recode f.2247.3.0_recode cases\n",
       "1 1                 NA                NA                NA                 TRUE\n",
       "2 0                 NA                NA                NA                FALSE\n",
       "3 0                 0                 0                 NA                FALSE\n",
       "4 0                 NA                NA                NA                FALSE\n",
       "5 1                 NA                NA                NA                 TRUE\n",
       "6 0                 NA                NA                NA                FALSE\n",
       "  hearing_diff_cat age_final_diff\n",
       "1 1                47            \n",
       "2 0                63            \n",
       "3 0                60            \n",
       "4 0                67            \n",
       "5 1                41            \n",
       "6 0                58            "
      ]
     },
     "metadata": {},
     "output_type": "display_data"
    },
    {
     "data": {
      "text/html": [
       "<style>\n",
       ".list-inline {list-style: none; margin:0; padding: 0}\n",
       ".list-inline>li {display: inline-block}\n",
       ".list-inline>li:not(:last-child)::after {content: \"\\00b7\"; padding: 0 .5ex}\n",
       "</style>\n",
       "<ol class=list-inline><li>182846</li><li>14</li></ol>\n"
      ],
      "text/latex": [
       "\\begin{enumerate*}\n",
       "\\item 182846\n",
       "\\item 14\n",
       "\\end{enumerate*}\n"
      ],
      "text/markdown": [
       "1. 182846\n",
       "2. 14\n",
       "\n",
       "\n"
      ],
      "text/plain": [
       "[1] 182846     14"
      ]
     },
     "metadata": {},
     "output_type": "display_data"
    }
   ],
   "source": [
    "hearing_diff_age = merge(x = hearing_diff ,y = hearing_diff_age [,c(\"IID\",\"age_final_diff\")],by=\"IID\", all.x=TRUE)\n",
    "head(hearing_diff_age)\n",
    "dim(hearing_diff_age)"
   ]
  },
  {
   "cell_type": "markdown",
   "metadata": {
    "kernel": "R"
   },
   "source": [
    "## Merge dataset from f.3393 and f.2247"
   ]
  },
  {
   "cell_type": "code",
   "execution_count": 256,
   "metadata": {
    "kernel": "R"
   },
   "outputs": [
    {
     "data": {
      "text/html": [
       "<style>\n",
       ".list-inline {list-style: none; margin:0; padding: 0}\n",
       ".list-inline>li {display: inline-block}\n",
       ".list-inline>li:not(:last-child)::after {content: \"\\00b7\"; padding: 0 .5ex}\n",
       "</style>\n",
       "<ol class=list-inline><li>193866</li><li>2271</li></ol>\n"
      ],
      "text/latex": [
       "\\begin{enumerate*}\n",
       "\\item 193866\n",
       "\\item 2271\n",
       "\\end{enumerate*}\n"
      ],
      "text/markdown": [
       "1. 193866\n",
       "2. 2271\n",
       "\n",
       "\n"
      ],
      "text/plain": [
       "[1] 193866   2271"
      ]
     },
     "metadata": {},
     "output_type": "display_data"
    },
    {
     "data": {
      "text/html": [
       "<table>\n",
       "<caption>A data.frame: 6 × 2271</caption>\n",
       "<thead>\n",
       "\t<tr><th></th><th scope=col>IID</th><th scope=col>FID</th><th scope=col>ignore1</th><th scope=col>ignore2</th><th scope=col>ignore3</th><th scope=col>ignore4</th><th scope=col>f.31.0.0</th><th scope=col>f.34.0.0</th><th scope=col>f.53.0.0</th><th scope=col>f.53.1.0</th><th scope=col>⋯</th><th scope=col>exclude</th><th scope=col>sex</th><th scope=col>f.3393.0.0_recode</th><th scope=col>f.3393.1.0_recode</th><th scope=col>f.3393.2.0_recode</th><th scope=col>f.3393.3.0_recode</th><th scope=col>hearing_aid_cat</th><th scope=col>age_final_aid</th><th scope=col>hearing_diff_cat</th><th scope=col>age_final_diff</th></tr>\n",
       "\t<tr><th></th><th scope=col>&lt;int&gt;</th><th scope=col>&lt;int&gt;</th><th scope=col>&lt;int&gt;</th><th scope=col>&lt;int&gt;</th><th scope=col>&lt;int&gt;</th><th scope=col>&lt;int&gt;</th><th scope=col>&lt;fct&gt;</th><th scope=col>&lt;int&gt;</th><th scope=col>&lt;fct&gt;</th><th scope=col>&lt;fct&gt;</th><th scope=col>⋯</th><th scope=col>&lt;lgl&gt;</th><th scope=col>&lt;fct&gt;</th><th scope=col>&lt;fct&gt;</th><th scope=col>&lt;fct&gt;</th><th scope=col>&lt;fct&gt;</th><th scope=col>&lt;fct&gt;</th><th scope=col>&lt;int&gt;</th><th scope=col>&lt;int&gt;</th><th scope=col>&lt;int&gt;</th><th scope=col>&lt;int&gt;</th></tr>\n",
       "</thead>\n",
       "<tbody>\n",
       "\t<tr><th scope=row>1</th><td>1000019</td><td>1000019</td><td>0</td><td>0</td><td>2</td><td>-9</td><td>Female</td><td>1960</td><td>2008-01-24</td><td>NA        </td><td>⋯</td><td>FALSE</td><td>1</td><td>0 </td><td>NA</td><td>NA</td><td>NA</td><td> 0</td><td>47</td><td> 1</td><td>47</td></tr>\n",
       "\t<tr><th scope=row>2</th><td>1000035</td><td>1000035</td><td>0</td><td>0</td><td>1</td><td>-9</td><td>Male  </td><td>1944</td><td>2007-11-08</td><td>NA        </td><td>⋯</td><td>FALSE</td><td>0</td><td>0 </td><td>NA</td><td>NA</td><td>NA</td><td> 0</td><td>63</td><td> 0</td><td>63</td></tr>\n",
       "\t<tr><th scope=row>3</th><td>1000078</td><td>1000078</td><td>0</td><td>0</td><td>2</td><td>-9</td><td>Female</td><td>1955</td><td>2007-08-20</td><td>2012-11-01</td><td>⋯</td><td>FALSE</td><td>1</td><td>NA</td><td>0 </td><td>0 </td><td>NA</td><td> 0</td><td>60</td><td> 0</td><td>60</td></tr>\n",
       "\t<tr><th scope=row>4</th><td>1000081</td><td>1000081</td><td>0</td><td>0</td><td>1</td><td>-9</td><td>Male  </td><td>1942</td><td>2009-12-03</td><td>NA        </td><td>⋯</td><td>FALSE</td><td>0</td><td>0 </td><td>NA</td><td>NA</td><td>NA</td><td> 0</td><td>67</td><td> 0</td><td>67</td></tr>\n",
       "\t<tr><th scope=row>5</th><td>1000198</td><td>1000198</td><td>0</td><td>0</td><td>2</td><td>-9</td><td>Female</td><td>1967</td><td>2009-03-27</td><td>NA        </td><td>⋯</td><td>FALSE</td><td>1</td><td>0 </td><td>NA</td><td>NA</td><td>NA</td><td> 0</td><td>41</td><td> 1</td><td>41</td></tr>\n",
       "\t<tr><th scope=row>6</th><td>1000210</td><td>1000210</td><td>0</td><td>0</td><td>1</td><td>-9</td><td>Male  </td><td>1941</td><td>2008-02-11</td><td>NA        </td><td>⋯</td><td>FALSE</td><td>0</td><td>NA</td><td>NA</td><td>NA</td><td>NA</td><td>NA</td><td>NA</td><td>NA</td><td>NA</td></tr>\n",
       "</tbody>\n",
       "</table>\n"
      ],
      "text/latex": [
       "A data.frame: 6 × 2271\n",
       "\\begin{tabular}{r|lllllllllllllllllllll}\n",
       "  & IID & FID & ignore1 & ignore2 & ignore3 & ignore4 & f.31.0.0 & f.34.0.0 & f.53.0.0 & f.53.1.0 & ⋯ & exclude & sex & f.3393.0.0\\_recode & f.3393.1.0\\_recode & f.3393.2.0\\_recode & f.3393.3.0\\_recode & hearing\\_aid\\_cat & age\\_final\\_aid & hearing\\_diff\\_cat & age\\_final\\_diff\\\\\n",
       "  & <int> & <int> & <int> & <int> & <int> & <int> & <fct> & <int> & <fct> & <fct> & ⋯ & <lgl> & <fct> & <fct> & <fct> & <fct> & <fct> & <int> & <int> & <int> & <int>\\\\\n",
       "\\hline\n",
       "\t1 & 1000019 & 1000019 & 0 & 0 & 2 & -9 & Female & 1960 & 2008-01-24 & NA         & ⋯ & FALSE & 1 & 0  & NA & NA & NA &  0 & 47 &  1 & 47\\\\\n",
       "\t2 & 1000035 & 1000035 & 0 & 0 & 1 & -9 & Male   & 1944 & 2007-11-08 & NA         & ⋯ & FALSE & 0 & 0  & NA & NA & NA &  0 & 63 &  0 & 63\\\\\n",
       "\t3 & 1000078 & 1000078 & 0 & 0 & 2 & -9 & Female & 1955 & 2007-08-20 & 2012-11-01 & ⋯ & FALSE & 1 & NA & 0  & 0  & NA &  0 & 60 &  0 & 60\\\\\n",
       "\t4 & 1000081 & 1000081 & 0 & 0 & 1 & -9 & Male   & 1942 & 2009-12-03 & NA         & ⋯ & FALSE & 0 & 0  & NA & NA & NA &  0 & 67 &  0 & 67\\\\\n",
       "\t5 & 1000198 & 1000198 & 0 & 0 & 2 & -9 & Female & 1967 & 2009-03-27 & NA         & ⋯ & FALSE & 1 & 0  & NA & NA & NA &  0 & 41 &  1 & 41\\\\\n",
       "\t6 & 1000210 & 1000210 & 0 & 0 & 1 & -9 & Male   & 1941 & 2008-02-11 & NA         & ⋯ & FALSE & 0 & NA & NA & NA & NA & NA & NA & NA & NA\\\\\n",
       "\\end{tabular}\n"
      ],
      "text/markdown": [
       "\n",
       "A data.frame: 6 × 2271\n",
       "\n",
       "| <!--/--> | IID &lt;int&gt; | FID &lt;int&gt; | ignore1 &lt;int&gt; | ignore2 &lt;int&gt; | ignore3 &lt;int&gt; | ignore4 &lt;int&gt; | f.31.0.0 &lt;fct&gt; | f.34.0.0 &lt;int&gt; | f.53.0.0 &lt;fct&gt; | f.53.1.0 &lt;fct&gt; | ⋯ ⋯ | exclude &lt;lgl&gt; | sex &lt;fct&gt; | f.3393.0.0_recode &lt;fct&gt; | f.3393.1.0_recode &lt;fct&gt; | f.3393.2.0_recode &lt;fct&gt; | f.3393.3.0_recode &lt;fct&gt; | hearing_aid_cat &lt;int&gt; | age_final_aid &lt;int&gt; | hearing_diff_cat &lt;int&gt; | age_final_diff &lt;int&gt; |\n",
       "|---|---|---|---|---|---|---|---|---|---|---|---|---|---|---|---|---|---|---|---|---|---|\n",
       "| 1 | 1000019 | 1000019 | 0 | 0 | 2 | -9 | Female | 1960 | 2008-01-24 | NA         | ⋯ | FALSE | 1 | 0  | NA | NA | NA |  0 | 47 |  1 | 47 |\n",
       "| 2 | 1000035 | 1000035 | 0 | 0 | 1 | -9 | Male   | 1944 | 2007-11-08 | NA         | ⋯ | FALSE | 0 | 0  | NA | NA | NA |  0 | 63 |  0 | 63 |\n",
       "| 3 | 1000078 | 1000078 | 0 | 0 | 2 | -9 | Female | 1955 | 2007-08-20 | 2012-11-01 | ⋯ | FALSE | 1 | NA | 0  | 0  | NA |  0 | 60 |  0 | 60 |\n",
       "| 4 | 1000081 | 1000081 | 0 | 0 | 1 | -9 | Male   | 1942 | 2009-12-03 | NA         | ⋯ | FALSE | 0 | 0  | NA | NA | NA |  0 | 67 |  0 | 67 |\n",
       "| 5 | 1000198 | 1000198 | 0 | 0 | 2 | -9 | Female | 1967 | 2009-03-27 | NA         | ⋯ | FALSE | 1 | 0  | NA | NA | NA |  0 | 41 |  1 | 41 |\n",
       "| 6 | 1000210 | 1000210 | 0 | 0 | 1 | -9 | Male   | 1941 | 2008-02-11 | NA         | ⋯ | FALSE | 0 | NA | NA | NA | NA | NA | NA | NA | NA |\n",
       "\n"
      ],
      "text/plain": [
       "  IID     FID     ignore1 ignore2 ignore3 ignore4 f.31.0.0 f.34.0.0 f.53.0.0  \n",
       "1 1000019 1000019 0       0       2       -9      Female   1960     2008-01-24\n",
       "2 1000035 1000035 0       0       1       -9      Male     1944     2007-11-08\n",
       "3 1000078 1000078 0       0       2       -9      Female   1955     2007-08-20\n",
       "4 1000081 1000081 0       0       1       -9      Male     1942     2009-12-03\n",
       "5 1000198 1000198 0       0       2       -9      Female   1967     2009-03-27\n",
       "6 1000210 1000210 0       0       1       -9      Male     1941     2008-02-11\n",
       "  f.53.1.0   ⋯ exclude sex f.3393.0.0_recode f.3393.1.0_recode\n",
       "1 NA         ⋯ FALSE   1   0                 NA               \n",
       "2 NA         ⋯ FALSE   0   0                 NA               \n",
       "3 2012-11-01 ⋯ FALSE   1   NA                0                \n",
       "4 NA         ⋯ FALSE   0   0                 NA               \n",
       "5 NA         ⋯ FALSE   1   0                 NA               \n",
       "6 NA         ⋯ FALSE   0   NA                NA               \n",
       "  f.3393.2.0_recode f.3393.3.0_recode hearing_aid_cat age_final_aid\n",
       "1 NA                NA                 0              47           \n",
       "2 NA                NA                 0              63           \n",
       "3 0                 NA                 0              60           \n",
       "4 NA                NA                 0              67           \n",
       "5 NA                NA                 0              41           \n",
       "6 NA                NA                NA              NA           \n",
       "  hearing_diff_cat age_final_diff\n",
       "1  1               47            \n",
       "2  0               63            \n",
       "3  0               60            \n",
       "4  0               67            \n",
       "5  1               41            \n",
       "6 NA               NA            "
      ]
     },
     "metadata": {},
     "output_type": "display_data"
    }
   ],
   "source": [
    "#Merge with complete database keep the all the rows from original db\n",
    "df_3393_2247 = merge(x = df_3393, y = hearing_diff_age [,c(\"IID\",\"hearing_diff_cat\",\"age_final_diff\")],by=\"IID\", all.x=TRUE)\n",
    "dim(df_3393_2247)\n",
    "head(df_3393_2247)"
   ]
  },
  {
   "cell_type": "markdown",
   "metadata": {
    "kernel": "R"
   },
   "source": [
    "## Reclassify individuals wearing hearing aid f.3393 but saying they don't have hearing difficulty f.2247"
   ]
  },
  {
   "cell_type": "code",
   "execution_count": 257,
   "metadata": {
    "kernel": "R"
   },
   "outputs": [],
   "source": [
    "#reclassify these 85 individulas as cases for 2247\n",
    "df_3393_2247$hearing_diff_cat_new <- as.factor(df_3393_2247$hearing_diff_cat)\n",
    "df_3393_2247$hearing_diff_cat_new <- revalue(df_3393_2247$hearing_diff_cat_new, c('0' = \"control\", '1' = 'case' ))\n",
    "df_3393_2247$hearing_aid_cat_new <- as.factor(df_3393_2247$hearing_aid_cat)\n",
    "df_3393_2247$hearing_aid_cat_new <- revalue(df_3393_2247$hearing_aid_cat_new, c('0' = \"control\", '1' = 'case' ))\n",
    "#hearing_diff_new <- df_3393_2247 %>% \n",
    " # mutate(hearing_diff_cat_new =ifelse(IID%in%inconsistent_aid_diff,1,hearing_diff_cat_new))\n",
    "#head(hearing_diff_new)"
   ]
  },
  {
   "cell_type": "code",
   "execution_count": 75,
   "metadata": {
    "kernel": "R"
   },
   "outputs": [
    {
     "data": {
      "text/html": [
       "337129"
      ],
      "text/latex": [
       "337129"
      ],
      "text/markdown": [
       "337129"
      ],
      "text/plain": [
       "[1] 337129"
      ]
     },
     "metadata": {},
     "output_type": "display_data"
    }
   ],
   "source": [
    "246072 + 91057 # number of controls and cases"
   ]
  },
  {
   "cell_type": "code",
   "execution_count": 258,
   "metadata": {
    "kernel": "R"
   },
   "outputs": [
    {
     "data": {
      "text/html": [
       "80"
      ],
      "text/latex": [
       "80"
      ],
      "text/markdown": [
       "80"
      ],
      "text/plain": [
       "[1] 80"
      ]
     },
     "metadata": {},
     "output_type": "display_data"
    }
   ],
   "source": [
    "length(which(df_3393_2247$hearing_diff_cat_new == 'control' & df_3393_2247$hearing_aid_cat_new == 'case'))"
   ]
  },
  {
   "cell_type": "code",
   "execution_count": 259,
   "metadata": {
    "kernel": "R"
   },
   "outputs": [
    {
     "data": {
      "text/html": [
       "80"
      ],
      "text/latex": [
       "80"
      ],
      "text/markdown": [
       "80"
      ],
      "text/plain": [
       "[1] 80"
      ]
     },
     "metadata": {},
     "output_type": "display_data"
    },
    {
     "data": {
      "text/html": [
       "<table>\n",
       "<caption>A data.frame: 6 × 1</caption>\n",
       "<thead>\n",
       "\t<tr><th></th><th scope=col>IID</th></tr>\n",
       "\t<tr><th></th><th scope=col>&lt;int&gt;</th></tr>\n",
       "</thead>\n",
       "<tbody>\n",
       "\t<tr><th scope=row>1</th><td>1187252</td></tr>\n",
       "\t<tr><th scope=row>2</th><td>1200917</td></tr>\n",
       "\t<tr><th scope=row>3</th><td>1210033</td></tr>\n",
       "\t<tr><th scope=row>4</th><td>1311088</td></tr>\n",
       "\t<tr><th scope=row>5</th><td>1362299</td></tr>\n",
       "\t<tr><th scope=row>6</th><td>1411923</td></tr>\n",
       "</tbody>\n",
       "</table>\n"
      ],
      "text/latex": [
       "A data.frame: 6 × 1\n",
       "\\begin{tabular}{r|l}\n",
       "  & IID\\\\\n",
       "  & <int>\\\\\n",
       "\\hline\n",
       "\t1 & 1187252\\\\\n",
       "\t2 & 1200917\\\\\n",
       "\t3 & 1210033\\\\\n",
       "\t4 & 1311088\\\\\n",
       "\t5 & 1362299\\\\\n",
       "\t6 & 1411923\\\\\n",
       "\\end{tabular}\n"
      ],
      "text/markdown": [
       "\n",
       "A data.frame: 6 × 1\n",
       "\n",
       "| <!--/--> | IID &lt;int&gt; |\n",
       "|---|---|\n",
       "| 1 | 1187252 |\n",
       "| 2 | 1200917 |\n",
       "| 3 | 1210033 |\n",
       "| 4 | 1311088 |\n",
       "| 5 | 1362299 |\n",
       "| 6 | 1411923 |\n",
       "\n"
      ],
      "text/plain": [
       "  IID    \n",
       "1 1187252\n",
       "2 1200917\n",
       "3 1210033\n",
       "4 1311088\n",
       "5 1362299\n",
       "6 1411923"
      ]
     },
     "metadata": {},
     "output_type": "display_data"
    }
   ],
   "source": [
    "#85 individuals state they have no hearing difficulty but they wear hearing aids\n",
    "inconsistent_aid_diff <- df_3393_2247 %>%\n",
    "    filter(hearing_diff_cat_new == 'control' & hearing_aid_cat_new == 'case') %>%\n",
    "    select(IID)\n",
    "nrow(inconsistent_aid_diff)\n",
    "head(inconsistent_aid_diff)"
   ]
  },
  {
   "cell_type": "code",
   "execution_count": 260,
   "metadata": {
    "kernel": "R"
   },
   "outputs": [
    {
     "name": "stdout",
     "output_type": "stream",
     "text": [
      "There are 80 individuals that state having no hearing difficulty but wear hearing aid"
     ]
    }
   ],
   "source": [
    "inconsistent_aid_diff<-unlist(inconsistent_aid_diff[,1])\n",
    "cat(\"There are\",length(inconsistent_aid_diff),\"individuals that state having no hearing difficulty but wear hearing aid\")"
   ]
  },
  {
   "cell_type": "code",
   "execution_count": 263,
   "metadata": {
    "kernel": "R"
   },
   "outputs": [],
   "source": [
    "df_3393_2247$hearing_diff_new <- df_3393_2247$hearing_diff_cat_new\n",
    "df_3393_2247$hearing_diff_new[df_3393_2247$IID %in% inconsistent_aid_diff] <- \"case\""
   ]
  },
  {
   "cell_type": "code",
   "execution_count": 264,
   "metadata": {
    "kernel": "R"
   },
   "outputs": [
    {
     "data": {
      "text/html": [
       "<table>\n",
       "<caption>A data.frame: 6 × 3</caption>\n",
       "<thead>\n",
       "\t<tr><th></th><th scope=col>hearing_diff_cat_new</th><th scope=col>hearing_aid_cat_new</th><th scope=col>hearing_diff_new</th></tr>\n",
       "\t<tr><th></th><th scope=col>&lt;fct&gt;</th><th scope=col>&lt;fct&gt;</th><th scope=col>&lt;fct&gt;</th></tr>\n",
       "</thead>\n",
       "<tbody>\n",
       "\t<tr><th scope=row>1</th><td>case</td><td>control</td><td>case</td></tr>\n",
       "\t<tr><th scope=row>2</th><td>case</td><td>control</td><td>case</td></tr>\n",
       "\t<tr><th scope=row>3</th><td>case</td><td>control</td><td>case</td></tr>\n",
       "\t<tr><th scope=row>4</th><td>case</td><td>control</td><td>case</td></tr>\n",
       "\t<tr><th scope=row>5</th><td>case</td><td>control</td><td>case</td></tr>\n",
       "\t<tr><th scope=row>6</th><td>case</td><td>control</td><td>case</td></tr>\n",
       "</tbody>\n",
       "</table>\n"
      ],
      "text/latex": [
       "A data.frame: 6 × 3\n",
       "\\begin{tabular}{r|lll}\n",
       "  & hearing\\_diff\\_cat\\_new & hearing\\_aid\\_cat\\_new & hearing\\_diff\\_new\\\\\n",
       "  & <fct> & <fct> & <fct>\\\\\n",
       "\\hline\n",
       "\t1 & case & control & case\\\\\n",
       "\t2 & case & control & case\\\\\n",
       "\t3 & case & control & case\\\\\n",
       "\t4 & case & control & case\\\\\n",
       "\t5 & case & control & case\\\\\n",
       "\t6 & case & control & case\\\\\n",
       "\\end{tabular}\n"
      ],
      "text/markdown": [
       "\n",
       "A data.frame: 6 × 3\n",
       "\n",
       "| <!--/--> | hearing_diff_cat_new &lt;fct&gt; | hearing_aid_cat_new &lt;fct&gt; | hearing_diff_new &lt;fct&gt; |\n",
       "|---|---|---|---|\n",
       "| 1 | case | control | case |\n",
       "| 2 | case | control | case |\n",
       "| 3 | case | control | case |\n",
       "| 4 | case | control | case |\n",
       "| 5 | case | control | case |\n",
       "| 6 | case | control | case |\n",
       "\n"
      ],
      "text/plain": [
       "  hearing_diff_cat_new hearing_aid_cat_new hearing_diff_new\n",
       "1 case                 control             case            \n",
       "2 case                 control             case            \n",
       "3 case                 control             case            \n",
       "4 case                 control             case            \n",
       "5 case                 control             case            \n",
       "6 case                 control             case            "
      ]
     },
     "metadata": {},
     "output_type": "display_data"
    },
    {
     "data": {
      "text/html": [
       "48581"
      ],
      "text/latex": [
       "48581"
      ],
      "text/markdown": [
       "48581"
      ],
      "text/plain": [
       "[1] 48581"
      ]
     },
     "metadata": {},
     "output_type": "display_data"
    }
   ],
   "source": [
    "#91057 individuals plus 85 that wear hearing aid = 91142\n",
    "check_merge <- df_3393_2247 %>% \n",
    "  select(hearing_diff_cat_new, hearing_aid_cat_new, hearing_diff_new) %>%\n",
    "  filter(hearing_diff_new == \"case\")\n",
    "head(check_merge)\n",
    "nrow(check_merge)"
   ]
  },
  {
   "cell_type": "markdown",
   "metadata": {
    "kernel": "R"
   },
   "source": [
    "## f.2247 Verify the age for the new 85 cases"
   ]
  },
  {
   "cell_type": "code",
   "execution_count": 265,
   "metadata": {
    "kernel": "R",
    "scrolled": true
   },
   "outputs": [
    {
     "data": {
      "text/html": [
       "<table>\n",
       "<caption>A data.frame: 80 × 3</caption>\n",
       "<thead>\n",
       "\t<tr><th></th><th scope=col>IID</th><th scope=col>age_final_aid</th><th scope=col>age_final_diff</th></tr>\n",
       "\t<tr><th></th><th scope=col>&lt;int&gt;</th><th scope=col>&lt;int&gt;</th><th scope=col>&lt;int&gt;</th></tr>\n",
       "</thead>\n",
       "<tbody>\n",
       "\t<tr><th scope=row>1</th><td>1187252</td><td>51</td><td>51</td></tr>\n",
       "\t<tr><th scope=row>2</th><td>1200917</td><td>70</td><td>70</td></tr>\n",
       "\t<tr><th scope=row>3</th><td>1210033</td><td>60</td><td>60</td></tr>\n",
       "\t<tr><th scope=row>4</th><td>1311088</td><td>49</td><td>49</td></tr>\n",
       "\t<tr><th scope=row>5</th><td>1362299</td><td>45</td><td>45</td></tr>\n",
       "\t<tr><th scope=row>6</th><td>1411923</td><td>48</td><td>48</td></tr>\n",
       "\t<tr><th scope=row>7</th><td>1517018</td><td>62</td><td>62</td></tr>\n",
       "\t<tr><th scope=row>8</th><td>1541460</td><td>66</td><td>66</td></tr>\n",
       "\t<tr><th scope=row>9</th><td>1546451</td><td>57</td><td>57</td></tr>\n",
       "\t<tr><th scope=row>10</th><td>1660102</td><td>74</td><td>74</td></tr>\n",
       "\t<tr><th scope=row>11</th><td>1751226</td><td>59</td><td>59</td></tr>\n",
       "\t<tr><th scope=row>12</th><td>1813558</td><td>61</td><td>61</td></tr>\n",
       "\t<tr><th scope=row>13</th><td>1817231</td><td>49</td><td>49</td></tr>\n",
       "\t<tr><th scope=row>14</th><td>1820774</td><td>57</td><td>57</td></tr>\n",
       "\t<tr><th scope=row>15</th><td>1851266</td><td>65</td><td>65</td></tr>\n",
       "\t<tr><th scope=row>16</th><td>1876770</td><td>64</td><td>64</td></tr>\n",
       "\t<tr><th scope=row>17</th><td>1884798</td><td>61</td><td>61</td></tr>\n",
       "\t<tr><th scope=row>18</th><td>2005924</td><td>67</td><td>67</td></tr>\n",
       "\t<tr><th scope=row>19</th><td>2077317</td><td>42</td><td>42</td></tr>\n",
       "\t<tr><th scope=row>20</th><td>2209847</td><td>53</td><td>53</td></tr>\n",
       "\t<tr><th scope=row>21</th><td>2212026</td><td>45</td><td>45</td></tr>\n",
       "\t<tr><th scope=row>22</th><td>2266108</td><td>47</td><td>47</td></tr>\n",
       "\t<tr><th scope=row>23</th><td>2402383</td><td>65</td><td>65</td></tr>\n",
       "\t<tr><th scope=row>24</th><td>2430352</td><td>52</td><td>52</td></tr>\n",
       "\t<tr><th scope=row>25</th><td>2568418</td><td>64</td><td>64</td></tr>\n",
       "\t<tr><th scope=row>26</th><td>2745960</td><td>65</td><td>65</td></tr>\n",
       "\t<tr><th scope=row>27</th><td>2877982</td><td>61</td><td>61</td></tr>\n",
       "\t<tr><th scope=row>28</th><td>2878413</td><td>41</td><td>41</td></tr>\n",
       "\t<tr><th scope=row>29</th><td>2908300</td><td>56</td><td>56</td></tr>\n",
       "\t<tr><th scope=row>30</th><td>3158613</td><td>44</td><td>44</td></tr>\n",
       "\t<tr><th scope=row>⋮</th><td>⋮</td><td>⋮</td><td>⋮</td></tr>\n",
       "\t<tr><th scope=row>51</th><td>4504173</td><td>45</td><td>45</td></tr>\n",
       "\t<tr><th scope=row>52</th><td>4612936</td><td>51</td><td>51</td></tr>\n",
       "\t<tr><th scope=row>53</th><td>4631605</td><td>51</td><td>51</td></tr>\n",
       "\t<tr><th scope=row>54</th><td>4739271</td><td>69</td><td>69</td></tr>\n",
       "\t<tr><th scope=row>55</th><td>4858232</td><td>41</td><td>41</td></tr>\n",
       "\t<tr><th scope=row>56</th><td>4887642</td><td>66</td><td>66</td></tr>\n",
       "\t<tr><th scope=row>57</th><td>4899701</td><td>73</td><td>73</td></tr>\n",
       "\t<tr><th scope=row>58</th><td>4900689</td><td>66</td><td>66</td></tr>\n",
       "\t<tr><th scope=row>59</th><td>4907912</td><td>42</td><td>42</td></tr>\n",
       "\t<tr><th scope=row>60</th><td>4966677</td><td>46</td><td>46</td></tr>\n",
       "\t<tr><th scope=row>61</th><td>5007903</td><td>42</td><td>42</td></tr>\n",
       "\t<tr><th scope=row>62</th><td>5132988</td><td>68</td><td>68</td></tr>\n",
       "\t<tr><th scope=row>63</th><td>5227325</td><td>52</td><td>52</td></tr>\n",
       "\t<tr><th scope=row>64</th><td>5233882</td><td>49</td><td>49</td></tr>\n",
       "\t<tr><th scope=row>65</th><td>5239397</td><td>59</td><td>59</td></tr>\n",
       "\t<tr><th scope=row>66</th><td>5292807</td><td>49</td><td>49</td></tr>\n",
       "\t<tr><th scope=row>67</th><td>5310164</td><td>45</td><td>45</td></tr>\n",
       "\t<tr><th scope=row>68</th><td>5324224</td><td>70</td><td>70</td></tr>\n",
       "\t<tr><th scope=row>69</th><td>5376281</td><td>69</td><td>69</td></tr>\n",
       "\t<tr><th scope=row>70</th><td>5472409</td><td>44</td><td>44</td></tr>\n",
       "\t<tr><th scope=row>71</th><td>5539122</td><td>49</td><td>49</td></tr>\n",
       "\t<tr><th scope=row>72</th><td>5554820</td><td>69</td><td>69</td></tr>\n",
       "\t<tr><th scope=row>73</th><td>5590257</td><td>65</td><td>65</td></tr>\n",
       "\t<tr><th scope=row>74</th><td>5618703</td><td>57</td><td>57</td></tr>\n",
       "\t<tr><th scope=row>75</th><td>5618791</td><td>57</td><td>57</td></tr>\n",
       "\t<tr><th scope=row>76</th><td>5662470</td><td>52</td><td>52</td></tr>\n",
       "\t<tr><th scope=row>77</th><td>5827859</td><td>57</td><td>57</td></tr>\n",
       "\t<tr><th scope=row>78</th><td>5924018</td><td>52</td><td>52</td></tr>\n",
       "\t<tr><th scope=row>79</th><td>5934500</td><td>42</td><td>42</td></tr>\n",
       "\t<tr><th scope=row>80</th><td>5999058</td><td>42</td><td>42</td></tr>\n",
       "</tbody>\n",
       "</table>\n"
      ],
      "text/latex": [
       "A data.frame: 80 × 3\n",
       "\\begin{tabular}{r|lll}\n",
       "  & IID & age\\_final\\_aid & age\\_final\\_diff\\\\\n",
       "  & <int> & <int> & <int>\\\\\n",
       "\\hline\n",
       "\t1 & 1187252 & 51 & 51\\\\\n",
       "\t2 & 1200917 & 70 & 70\\\\\n",
       "\t3 & 1210033 & 60 & 60\\\\\n",
       "\t4 & 1311088 & 49 & 49\\\\\n",
       "\t5 & 1362299 & 45 & 45\\\\\n",
       "\t6 & 1411923 & 48 & 48\\\\\n",
       "\t7 & 1517018 & 62 & 62\\\\\n",
       "\t8 & 1541460 & 66 & 66\\\\\n",
       "\t9 & 1546451 & 57 & 57\\\\\n",
       "\t10 & 1660102 & 74 & 74\\\\\n",
       "\t11 & 1751226 & 59 & 59\\\\\n",
       "\t12 & 1813558 & 61 & 61\\\\\n",
       "\t13 & 1817231 & 49 & 49\\\\\n",
       "\t14 & 1820774 & 57 & 57\\\\\n",
       "\t15 & 1851266 & 65 & 65\\\\\n",
       "\t16 & 1876770 & 64 & 64\\\\\n",
       "\t17 & 1884798 & 61 & 61\\\\\n",
       "\t18 & 2005924 & 67 & 67\\\\\n",
       "\t19 & 2077317 & 42 & 42\\\\\n",
       "\t20 & 2209847 & 53 & 53\\\\\n",
       "\t21 & 2212026 & 45 & 45\\\\\n",
       "\t22 & 2266108 & 47 & 47\\\\\n",
       "\t23 & 2402383 & 65 & 65\\\\\n",
       "\t24 & 2430352 & 52 & 52\\\\\n",
       "\t25 & 2568418 & 64 & 64\\\\\n",
       "\t26 & 2745960 & 65 & 65\\\\\n",
       "\t27 & 2877982 & 61 & 61\\\\\n",
       "\t28 & 2878413 & 41 & 41\\\\\n",
       "\t29 & 2908300 & 56 & 56\\\\\n",
       "\t30 & 3158613 & 44 & 44\\\\\n",
       "\t⋮ & ⋮ & ⋮ & ⋮\\\\\n",
       "\t51 & 4504173 & 45 & 45\\\\\n",
       "\t52 & 4612936 & 51 & 51\\\\\n",
       "\t53 & 4631605 & 51 & 51\\\\\n",
       "\t54 & 4739271 & 69 & 69\\\\\n",
       "\t55 & 4858232 & 41 & 41\\\\\n",
       "\t56 & 4887642 & 66 & 66\\\\\n",
       "\t57 & 4899701 & 73 & 73\\\\\n",
       "\t58 & 4900689 & 66 & 66\\\\\n",
       "\t59 & 4907912 & 42 & 42\\\\\n",
       "\t60 & 4966677 & 46 & 46\\\\\n",
       "\t61 & 5007903 & 42 & 42\\\\\n",
       "\t62 & 5132988 & 68 & 68\\\\\n",
       "\t63 & 5227325 & 52 & 52\\\\\n",
       "\t64 & 5233882 & 49 & 49\\\\\n",
       "\t65 & 5239397 & 59 & 59\\\\\n",
       "\t66 & 5292807 & 49 & 49\\\\\n",
       "\t67 & 5310164 & 45 & 45\\\\\n",
       "\t68 & 5324224 & 70 & 70\\\\\n",
       "\t69 & 5376281 & 69 & 69\\\\\n",
       "\t70 & 5472409 & 44 & 44\\\\\n",
       "\t71 & 5539122 & 49 & 49\\\\\n",
       "\t72 & 5554820 & 69 & 69\\\\\n",
       "\t73 & 5590257 & 65 & 65\\\\\n",
       "\t74 & 5618703 & 57 & 57\\\\\n",
       "\t75 & 5618791 & 57 & 57\\\\\n",
       "\t76 & 5662470 & 52 & 52\\\\\n",
       "\t77 & 5827859 & 57 & 57\\\\\n",
       "\t78 & 5924018 & 52 & 52\\\\\n",
       "\t79 & 5934500 & 42 & 42\\\\\n",
       "\t80 & 5999058 & 42 & 42\\\\\n",
       "\\end{tabular}\n"
      ],
      "text/markdown": [
       "\n",
       "A data.frame: 80 × 3\n",
       "\n",
       "| <!--/--> | IID &lt;int&gt; | age_final_aid &lt;int&gt; | age_final_diff &lt;int&gt; |\n",
       "|---|---|---|---|\n",
       "| 1 | 1187252 | 51 | 51 |\n",
       "| 2 | 1200917 | 70 | 70 |\n",
       "| 3 | 1210033 | 60 | 60 |\n",
       "| 4 | 1311088 | 49 | 49 |\n",
       "| 5 | 1362299 | 45 | 45 |\n",
       "| 6 | 1411923 | 48 | 48 |\n",
       "| 7 | 1517018 | 62 | 62 |\n",
       "| 8 | 1541460 | 66 | 66 |\n",
       "| 9 | 1546451 | 57 | 57 |\n",
       "| 10 | 1660102 | 74 | 74 |\n",
       "| 11 | 1751226 | 59 | 59 |\n",
       "| 12 | 1813558 | 61 | 61 |\n",
       "| 13 | 1817231 | 49 | 49 |\n",
       "| 14 | 1820774 | 57 | 57 |\n",
       "| 15 | 1851266 | 65 | 65 |\n",
       "| 16 | 1876770 | 64 | 64 |\n",
       "| 17 | 1884798 | 61 | 61 |\n",
       "| 18 | 2005924 | 67 | 67 |\n",
       "| 19 | 2077317 | 42 | 42 |\n",
       "| 20 | 2209847 | 53 | 53 |\n",
       "| 21 | 2212026 | 45 | 45 |\n",
       "| 22 | 2266108 | 47 | 47 |\n",
       "| 23 | 2402383 | 65 | 65 |\n",
       "| 24 | 2430352 | 52 | 52 |\n",
       "| 25 | 2568418 | 64 | 64 |\n",
       "| 26 | 2745960 | 65 | 65 |\n",
       "| 27 | 2877982 | 61 | 61 |\n",
       "| 28 | 2878413 | 41 | 41 |\n",
       "| 29 | 2908300 | 56 | 56 |\n",
       "| 30 | 3158613 | 44 | 44 |\n",
       "| ⋮ | ⋮ | ⋮ | ⋮ |\n",
       "| 51 | 4504173 | 45 | 45 |\n",
       "| 52 | 4612936 | 51 | 51 |\n",
       "| 53 | 4631605 | 51 | 51 |\n",
       "| 54 | 4739271 | 69 | 69 |\n",
       "| 55 | 4858232 | 41 | 41 |\n",
       "| 56 | 4887642 | 66 | 66 |\n",
       "| 57 | 4899701 | 73 | 73 |\n",
       "| 58 | 4900689 | 66 | 66 |\n",
       "| 59 | 4907912 | 42 | 42 |\n",
       "| 60 | 4966677 | 46 | 46 |\n",
       "| 61 | 5007903 | 42 | 42 |\n",
       "| 62 | 5132988 | 68 | 68 |\n",
       "| 63 | 5227325 | 52 | 52 |\n",
       "| 64 | 5233882 | 49 | 49 |\n",
       "| 65 | 5239397 | 59 | 59 |\n",
       "| 66 | 5292807 | 49 | 49 |\n",
       "| 67 | 5310164 | 45 | 45 |\n",
       "| 68 | 5324224 | 70 | 70 |\n",
       "| 69 | 5376281 | 69 | 69 |\n",
       "| 70 | 5472409 | 44 | 44 |\n",
       "| 71 | 5539122 | 49 | 49 |\n",
       "| 72 | 5554820 | 69 | 69 |\n",
       "| 73 | 5590257 | 65 | 65 |\n",
       "| 74 | 5618703 | 57 | 57 |\n",
       "| 75 | 5618791 | 57 | 57 |\n",
       "| 76 | 5662470 | 52 | 52 |\n",
       "| 77 | 5827859 | 57 | 57 |\n",
       "| 78 | 5924018 | 52 | 52 |\n",
       "| 79 | 5934500 | 42 | 42 |\n",
       "| 80 | 5999058 | 42 | 42 |\n",
       "\n"
      ],
      "text/plain": [
       "   IID     age_final_aid age_final_diff\n",
       "1  1187252 51            51            \n",
       "2  1200917 70            70            \n",
       "3  1210033 60            60            \n",
       "4  1311088 49            49            \n",
       "5  1362299 45            45            \n",
       "6  1411923 48            48            \n",
       "7  1517018 62            62            \n",
       "8  1541460 66            66            \n",
       "9  1546451 57            57            \n",
       "10 1660102 74            74            \n",
       "11 1751226 59            59            \n",
       "12 1813558 61            61            \n",
       "13 1817231 49            49            \n",
       "14 1820774 57            57            \n",
       "15 1851266 65            65            \n",
       "16 1876770 64            64            \n",
       "17 1884798 61            61            \n",
       "18 2005924 67            67            \n",
       "19 2077317 42            42            \n",
       "20 2209847 53            53            \n",
       "21 2212026 45            45            \n",
       "22 2266108 47            47            \n",
       "23 2402383 65            65            \n",
       "24 2430352 52            52            \n",
       "25 2568418 64            64            \n",
       "26 2745960 65            65            \n",
       "27 2877982 61            61            \n",
       "28 2878413 41            41            \n",
       "29 2908300 56            56            \n",
       "30 3158613 44            44            \n",
       "⋮  ⋮       ⋮             ⋮             \n",
       "51 4504173 45            45            \n",
       "52 4612936 51            51            \n",
       "53 4631605 51            51            \n",
       "54 4739271 69            69            \n",
       "55 4858232 41            41            \n",
       "56 4887642 66            66            \n",
       "57 4899701 73            73            \n",
       "58 4900689 66            66            \n",
       "59 4907912 42            42            \n",
       "60 4966677 46            46            \n",
       "61 5007903 42            42            \n",
       "62 5132988 68            68            \n",
       "63 5227325 52            52            \n",
       "64 5233882 49            49            \n",
       "65 5239397 59            59            \n",
       "66 5292807 49            49            \n",
       "67 5310164 45            45            \n",
       "68 5324224 70            70            \n",
       "69 5376281 69            69            \n",
       "70 5472409 44            44            \n",
       "71 5539122 49            49            \n",
       "72 5554820 69            69            \n",
       "73 5590257 65            65            \n",
       "74 5618703 57            57            \n",
       "75 5618791 57            57            \n",
       "76 5662470 52            52            \n",
       "77 5827859 57            57            \n",
       "78 5924018 52            52            \n",
       "79 5934500 42            42            \n",
       "80 5999058 42            42            "
      ]
     },
     "metadata": {},
     "output_type": "display_data"
    }
   ],
   "source": [
    "age_inconsistent <- df_3393_2247 %>%\n",
    "    select(IID, age_final_aid, age_final_diff) %>%\n",
    "    filter(IID %in% inconsistent_aid_diff)\n",
    "head(age_inconsistent, 100)"
   ]
  },
  {
   "cell_type": "code",
   "execution_count": 266,
   "metadata": {
    "kernel": "R"
   },
   "outputs": [
    {
     "data": {
      "text/html": [
       "TRUE"
      ],
      "text/latex": [
       "TRUE"
      ],
      "text/markdown": [
       "TRUE"
      ],
      "text/plain": [
       "[1] TRUE"
      ]
     },
     "metadata": {},
     "output_type": "display_data"
    }
   ],
   "source": [
    "# There are not inconsistencies in the age of the 85 new cases therefore I can use the age_final_diff variable\n",
    "all(age_inconsistent$age_final_aid == age_inconsistent$age_final_diff)"
   ]
  },
  {
   "cell_type": "markdown",
   "metadata": {
    "kernel": "R"
   },
   "source": [
    "## Export file for hearing difficulty f.2247"
   ]
  },
  {
   "cell_type": "code",
   "execution_count": 267,
   "metadata": {
    "kernel": "R"
   },
   "outputs": [],
   "source": [
    "df_3393_2247$hearing_diff_new <- revalue(df_3393_2247$hearing_diff_new, c('control' = \"0\", 'case' = '1' ))"
   ]
  },
  {
   "cell_type": "code",
   "execution_count": 268,
   "metadata": {
    "kernel": "R"
   },
   "outputs": [
    {
     "data": {
      "text/html": [
       "<table>\n",
       "<caption>A data.frame: 6 × 5</caption>\n",
       "<thead>\n",
       "\t<tr><th></th><th scope=col>FID</th><th scope=col>IID</th><th scope=col>age_final_diff</th><th scope=col>sex</th><th scope=col>hearing_diff_new</th></tr>\n",
       "\t<tr><th></th><th scope=col>&lt;int&gt;</th><th scope=col>&lt;int&gt;</th><th scope=col>&lt;int&gt;</th><th scope=col>&lt;fct&gt;</th><th scope=col>&lt;fct&gt;</th></tr>\n",
       "</thead>\n",
       "<tbody>\n",
       "\t<tr><th scope=row>1</th><td>1000019</td><td>1000019</td><td>47</td><td>1</td><td>1</td></tr>\n",
       "\t<tr><th scope=row>2</th><td>1000035</td><td>1000035</td><td>63</td><td>0</td><td>0</td></tr>\n",
       "\t<tr><th scope=row>3</th><td>1000078</td><td>1000078</td><td>60</td><td>1</td><td>0</td></tr>\n",
       "\t<tr><th scope=row>4</th><td>1000081</td><td>1000081</td><td>67</td><td>0</td><td>0</td></tr>\n",
       "\t<tr><th scope=row>5</th><td>1000198</td><td>1000198</td><td>41</td><td>1</td><td>1</td></tr>\n",
       "\t<tr><th scope=row>6</th><td>1000224</td><td>1000224</td><td>58</td><td>1</td><td>0</td></tr>\n",
       "</tbody>\n",
       "</table>\n"
      ],
      "text/latex": [
       "A data.frame: 6 × 5\n",
       "\\begin{tabular}{r|lllll}\n",
       "  & FID & IID & age\\_final\\_diff & sex & hearing\\_diff\\_new\\\\\n",
       "  & <int> & <int> & <int> & <fct> & <fct>\\\\\n",
       "\\hline\n",
       "\t1 & 1000019 & 1000019 & 47 & 1 & 1\\\\\n",
       "\t2 & 1000035 & 1000035 & 63 & 0 & 0\\\\\n",
       "\t3 & 1000078 & 1000078 & 60 & 1 & 0\\\\\n",
       "\t4 & 1000081 & 1000081 & 67 & 0 & 0\\\\\n",
       "\t5 & 1000198 & 1000198 & 41 & 1 & 1\\\\\n",
       "\t6 & 1000224 & 1000224 & 58 & 1 & 0\\\\\n",
       "\\end{tabular}\n"
      ],
      "text/markdown": [
       "\n",
       "A data.frame: 6 × 5\n",
       "\n",
       "| <!--/--> | FID &lt;int&gt; | IID &lt;int&gt; | age_final_diff &lt;int&gt; | sex &lt;fct&gt; | hearing_diff_new &lt;fct&gt; |\n",
       "|---|---|---|---|---|---|\n",
       "| 1 | 1000019 | 1000019 | 47 | 1 | 1 |\n",
       "| 2 | 1000035 | 1000035 | 63 | 0 | 0 |\n",
       "| 3 | 1000078 | 1000078 | 60 | 1 | 0 |\n",
       "| 4 | 1000081 | 1000081 | 67 | 0 | 0 |\n",
       "| 5 | 1000198 | 1000198 | 41 | 1 | 1 |\n",
       "| 6 | 1000224 | 1000224 | 58 | 1 | 0 |\n",
       "\n"
      ],
      "text/plain": [
       "  FID     IID     age_final_diff sex hearing_diff_new\n",
       "1 1000019 1000019 47             1   1               \n",
       "2 1000035 1000035 63             0   0               \n",
       "3 1000078 1000078 60             1   0               \n",
       "4 1000081 1000081 67             0   0               \n",
       "5 1000198 1000198 41             1   1               \n",
       "6 1000224 1000224 58             1   0               "
      ]
     },
     "metadata": {},
     "output_type": "display_data"
    },
    {
     "data": {
      "text/html": [
       "<style>\n",
       ".list-inline {list-style: none; margin:0; padding: 0}\n",
       ".list-inline>li {display: inline-block}\n",
       ".list-inline>li:not(:last-child)::after {content: \"\\00b7\"; padding: 0 .5ex}\n",
       "</style>\n",
       "<ol class=list-inline><li>182846</li><li>5</li></ol>\n"
      ],
      "text/latex": [
       "\\begin{enumerate*}\n",
       "\\item 182846\n",
       "\\item 5\n",
       "\\end{enumerate*}\n"
      ],
      "text/markdown": [
       "1. 182846\n",
       "2. 5\n",
       "\n",
       "\n"
      ],
      "text/plain": [
       "[1] 182846      5"
      ]
     },
     "metadata": {},
     "output_type": "display_data"
    }
   ],
   "source": [
    "f.2247_pheno <- df_3393_2247 %>%\n",
    "    filter(!(is.na(hearing_diff_new))) %>%\n",
    "    select(FID, IID, age_final_diff, sex, hearing_diff_new)\n",
    "head(f.2247_pheno)\n",
    "dim(f.2247_pheno)"
   ]
  },
  {
   "cell_type": "markdown",
   "metadata": {
    "kernel": "R"
   },
   "source": [
    "## Histogram for age in f.2247"
   ]
  },
  {
   "cell_type": "code",
   "execution_count": 269,
   "metadata": {
    "kernel": "R"
   },
   "outputs": [
    {
     "data": {
      "text/html": [
       "<table>\n",
       "<caption>A data.frame: 2 × 2</caption>\n",
       "<thead>\n",
       "\t<tr><th></th><th scope=col>hearing_diff_new</th><th scope=col>grp.mean</th></tr>\n",
       "\t<tr><th></th><th scope=col>&lt;fct&gt;</th><th scope=col>&lt;dbl&gt;</th></tr>\n",
       "</thead>\n",
       "<tbody>\n",
       "\t<tr><th scope=row>1</th><td>0</td><td>56.59088</td></tr>\n",
       "\t<tr><th scope=row>2</th><td>1</td><td>59.24532</td></tr>\n",
       "</tbody>\n",
       "</table>\n"
      ],
      "text/latex": [
       "A data.frame: 2 × 2\n",
       "\\begin{tabular}{r|ll}\n",
       "  & hearing\\_diff\\_new & grp.mean\\\\\n",
       "  & <fct> & <dbl>\\\\\n",
       "\\hline\n",
       "\t1 & 0 & 56.59088\\\\\n",
       "\t2 & 1 & 59.24532\\\\\n",
       "\\end{tabular}\n"
      ],
      "text/markdown": [
       "\n",
       "A data.frame: 2 × 2\n",
       "\n",
       "| <!--/--> | hearing_diff_new &lt;fct&gt; | grp.mean &lt;dbl&gt; |\n",
       "|---|---|---|\n",
       "| 1 | 0 | 56.59088 |\n",
       "| 2 | 1 | 59.24532 |\n",
       "\n"
      ],
      "text/plain": [
       "  hearing_diff_new grp.mean\n",
       "1 0                56.59088\n",
       "2 1                59.24532"
      ]
     },
     "metadata": {},
     "output_type": "display_data"
    }
   ],
   "source": [
    "mu3 <- ddply(f.2247_pheno, \"hearing_diff_new\", summarise, grp.mean=mean(age_final_diff))\n",
    "head(mu3)"
   ]
  },
  {
   "cell_type": "code",
   "execution_count": 270,
   "metadata": {
    "kernel": "R"
   },
   "outputs": [
    {
     "data": {
      "image/png": "[encoded data removed]",
      "text/plain": [
       "plot without title"
      ]
     },
     "metadata": {
      "image/png": {
       "height": 420,
       "width": 420
      },
      "text/plain": {
       "height": 420,
       "width": 420
      }
     },
     "output_type": "display_data"
    }
   ],
   "source": [
    "ggplot(f.2247_pheno, aes(x=age_final_diff, fill=hearing_diff_new, color=hearing_diff_new)) +\n",
    " geom_histogram(binwidth=1, alpha=0.5, position=\"identity\")+\n",
    "  scale_color_brewer(palette=\"Dark2\")+\n",
    "  scale_fill_brewer(palette=\"Dark2\") +\n",
    "  theme(legend.position=\"top\") +\n",
    "  geom_vline(data=mu3, aes(xintercept=grp.mean, color=hearing_diff_new),\n",
    "             linetype=\"dashed\") +\n",
    "  theme_classic()"
   ]
  },
  {
   "cell_type": "code",
   "execution_count": 271,
   "metadata": {
    "kernel": "R"
   },
   "outputs": [
    {
     "data": {
      "text/html": [
       "0"
      ],
      "text/latex": [
       "0"
      ],
      "text/markdown": [
       "0"
      ],
      "text/plain": [
       "[1] 0"
      ]
     },
     "metadata": {},
     "output_type": "display_data"
    },
    {
     "data": {
      "text/html": [
       "0"
      ],
      "text/latex": [
       "0"
      ],
      "text/markdown": [
       "0"
      ],
      "text/plain": [
       "[1] 0"
      ]
     },
     "metadata": {},
     "output_type": "display_data"
    }
   ],
   "source": [
    "length(which((f.2247_pheno$hearing_diff_new==\"control\" & f.2247_pheno$age_final_diff <50)))\n",
    "length(which((f.2247_pheno$hearing_diff_new==\"case\" & f.2247_pheno$age_final_diff <50)))"
   ]
  },
  {
   "cell_type": "code",
   "execution_count": 272,
   "metadata": {
    "kernel": "R"
   },
   "outputs": [
    {
     "data": {
      "text/html": [
       "<table>\n",
       "<caption>A data.frame: 2 × 2</caption>\n",
       "<thead>\n",
       "\t<tr><th></th><th scope=col>sex</th><th scope=col>grp.mean</th></tr>\n",
       "\t<tr><th></th><th scope=col>&lt;fct&gt;</th><th scope=col>&lt;dbl&gt;</th></tr>\n",
       "</thead>\n",
       "<tbody>\n",
       "\t<tr><th scope=row>1</th><td>1</td><td>57.98607</td></tr>\n",
       "\t<tr><th scope=row>2</th><td>0</td><td>58.77584</td></tr>\n",
       "</tbody>\n",
       "</table>\n"
      ],
      "text/latex": [
       "A data.frame: 2 × 2\n",
       "\\begin{tabular}{r|ll}\n",
       "  & sex & grp.mean\\\\\n",
       "  & <fct> & <dbl>\\\\\n",
       "\\hline\n",
       "\t1 & 1 & 57.98607\\\\\n",
       "\t2 & 0 & 58.77584\\\\\n",
       "\\end{tabular}\n"
      ],
      "text/markdown": [
       "\n",
       "A data.frame: 2 × 2\n",
       "\n",
       "| <!--/--> | sex &lt;fct&gt; | grp.mean &lt;dbl&gt; |\n",
       "|---|---|---|\n",
       "| 1 | 1 | 57.98607 |\n",
       "| 2 | 0 | 58.77584 |\n",
       "\n"
      ],
      "text/plain": [
       "  sex grp.mean\n",
       "1 1   57.98607\n",
       "2 0   58.77584"
      ]
     },
     "metadata": {},
     "output_type": "display_data"
    }
   ],
   "source": [
    "mu4 <- ddply(f.2247_pheno, \"sex\", summarise, grp.mean=mean(age_final_diff))\n",
    "head(mu1)"
   ]
  },
  {
   "cell_type": "code",
   "execution_count": 273,
   "metadata": {
    "kernel": "R"
   },
   "outputs": [
    {
     "data": {
      "image/png": "[encoded data removed]",
      "text/plain": [
       "plot without title"
      ]
     },
     "metadata": {
      "image/png": {
       "height": 420,
       "width": 420
      },
      "text/plain": {
       "height": 420,
       "width": 420
      }
     },
     "output_type": "display_data"
    }
   ],
   "source": [
    "ggplot(f.2247_pheno, aes(x=age_final_diff, fill=sex, color=sex)) +\n",
    " geom_histogram(binwidth=1, alpha=0.5, position=\"identity\")+\n",
    "  scale_color_brewer(palette=\"Dark2\")+\n",
    "  scale_fill_brewer(palette=\"Dark2\") +\n",
    "  theme(legend.position=\"top\") +\n",
    "  theme_classic() +\n",
    "  facet_grid(hearing_diff_new ~ .)"
   ]
  },
  {
   "cell_type": "markdown",
   "metadata": {
    "kernel": "R"
   },
   "source": [
    "## Filter controls positive for f.3393 and/or f.2257"
   ]
  },
  {
   "cell_type": "code",
   "execution_count": 274,
   "metadata": {
    "kernel": "R"
   },
   "outputs": [
    {
     "data": {
      "text/html": [
       "<table>\n",
       "<caption>A data.frame: 6 × 19</caption>\n",
       "<thead>\n",
       "\t<tr><th></th><th scope=col>FID</th><th scope=col>IID</th><th scope=col>age_final_diff</th><th scope=col>sex</th><th scope=col>hearing_diff_new</th><th scope=col>f.2257.0.0</th><th scope=col>f.2257.1.0</th><th scope=col>f.2257.2.0</th><th scope=col>f.2257.3.0</th><th scope=col>f.3393.0.0</th><th scope=col>f.3393.1.0</th><th scope=col>f.3393.2.0</th><th scope=col>f.3393.3.0</th><th scope=col>f.3393.0.0_recode</th><th scope=col>f.3393.1.0_recode</th><th scope=col>f.3393.2.0_recode</th><th scope=col>f.3393.3.0_recode</th><th scope=col>remove_2257</th><th scope=col>remove_3393</th></tr>\n",
       "\t<tr><th></th><th scope=col>&lt;int&gt;</th><th scope=col>&lt;int&gt;</th><th scope=col>&lt;int&gt;</th><th scope=col>&lt;fct&gt;</th><th scope=col>&lt;fct&gt;</th><th scope=col>&lt;fct&gt;</th><th scope=col>&lt;fct&gt;</th><th scope=col>&lt;fct&gt;</th><th scope=col>&lt;fct&gt;</th><th scope=col>&lt;fct&gt;</th><th scope=col>&lt;fct&gt;</th><th scope=col>&lt;fct&gt;</th><th scope=col>&lt;fct&gt;</th><th scope=col>&lt;fct&gt;</th><th scope=col>&lt;fct&gt;</th><th scope=col>&lt;fct&gt;</th><th scope=col>&lt;fct&gt;</th><th scope=col>&lt;lgl&gt;</th><th scope=col>&lt;lgl&gt;</th></tr>\n",
       "</thead>\n",
       "<tbody>\n",
       "\t<tr><th scope=row>1</th><td>1000035</td><td>1000035</td><td>63</td><td>0</td><td>0</td><td>Yes</td><td>NA</td><td>NA</td><td>NA</td><td>No</td><td>NA</td><td>NA</td><td>NA</td><td>0 </td><td>NA</td><td>NA</td><td>NA</td><td> TRUE</td><td>FALSE</td></tr>\n",
       "\t<tr><th scope=row>2</th><td>1000078</td><td>1000078</td><td>60</td><td>1</td><td>0</td><td>No </td><td>No</td><td>No</td><td>NA</td><td>NA</td><td>No</td><td>No</td><td>NA</td><td>NA</td><td>0 </td><td>0 </td><td>NA</td><td>FALSE</td><td>FALSE</td></tr>\n",
       "\t<tr><th scope=row>3</th><td>1000081</td><td>1000081</td><td>67</td><td>0</td><td>0</td><td>No </td><td>NA</td><td>NA</td><td>NA</td><td>No</td><td>NA</td><td>NA</td><td>NA</td><td>0 </td><td>NA</td><td>NA</td><td>NA</td><td>FALSE</td><td>FALSE</td></tr>\n",
       "\t<tr><th scope=row>4</th><td>1000224</td><td>1000224</td><td>58</td><td>1</td><td>0</td><td>No </td><td>NA</td><td>NA</td><td>NA</td><td>NA</td><td>NA</td><td>NA</td><td>NA</td><td>NA</td><td>NA</td><td>NA</td><td>NA</td><td>FALSE</td><td>FALSE</td></tr>\n",
       "\t<tr><th scope=row>5</th><td>1000236</td><td>1000236</td><td>70</td><td>0</td><td>0</td><td>No </td><td>NA</td><td>No</td><td>NA</td><td>No</td><td>NA</td><td>No</td><td>NA</td><td>0 </td><td>NA</td><td>0 </td><td>NA</td><td>FALSE</td><td>FALSE</td></tr>\n",
       "\t<tr><th scope=row>6</th><td>1000255</td><td>1000255</td><td>61</td><td>1</td><td>0</td><td>No </td><td>NA</td><td>No</td><td>NA</td><td>No</td><td>NA</td><td>No</td><td>NA</td><td>0 </td><td>NA</td><td>0 </td><td>NA</td><td>FALSE</td><td>FALSE</td></tr>\n",
       "</tbody>\n",
       "</table>\n"
      ],
      "text/latex": [
       "A data.frame: 6 × 19\n",
       "\\begin{tabular}{r|lllllllllllllllllll}\n",
       "  & FID & IID & age\\_final\\_diff & sex & hearing\\_diff\\_new & f.2257.0.0 & f.2257.1.0 & f.2257.2.0 & f.2257.3.0 & f.3393.0.0 & f.3393.1.0 & f.3393.2.0 & f.3393.3.0 & f.3393.0.0\\_recode & f.3393.1.0\\_recode & f.3393.2.0\\_recode & f.3393.3.0\\_recode & remove\\_2257 & remove\\_3393\\\\\n",
       "  & <int> & <int> & <int> & <fct> & <fct> & <fct> & <fct> & <fct> & <fct> & <fct> & <fct> & <fct> & <fct> & <fct> & <fct> & <fct> & <fct> & <lgl> & <lgl>\\\\\n",
       "\\hline\n",
       "\t1 & 1000035 & 1000035 & 63 & 0 & 0 & Yes & NA & NA & NA & No & NA & NA & NA & 0  & NA & NA & NA &  TRUE & FALSE\\\\\n",
       "\t2 & 1000078 & 1000078 & 60 & 1 & 0 & No  & No & No & NA & NA & No & No & NA & NA & 0  & 0  & NA & FALSE & FALSE\\\\\n",
       "\t3 & 1000081 & 1000081 & 67 & 0 & 0 & No  & NA & NA & NA & No & NA & NA & NA & 0  & NA & NA & NA & FALSE & FALSE\\\\\n",
       "\t4 & 1000224 & 1000224 & 58 & 1 & 0 & No  & NA & NA & NA & NA & NA & NA & NA & NA & NA & NA & NA & FALSE & FALSE\\\\\n",
       "\t5 & 1000236 & 1000236 & 70 & 0 & 0 & No  & NA & No & NA & No & NA & No & NA & 0  & NA & 0  & NA & FALSE & FALSE\\\\\n",
       "\t6 & 1000255 & 1000255 & 61 & 1 & 0 & No  & NA & No & NA & No & NA & No & NA & 0  & NA & 0  & NA & FALSE & FALSE\\\\\n",
       "\\end{tabular}\n"
      ],
      "text/markdown": [
       "\n",
       "A data.frame: 6 × 19\n",
       "\n",
       "| <!--/--> | FID &lt;int&gt; | IID &lt;int&gt; | age_final_diff &lt;int&gt; | sex &lt;fct&gt; | hearing_diff_new &lt;fct&gt; | f.2257.0.0 &lt;fct&gt; | f.2257.1.0 &lt;fct&gt; | f.2257.2.0 &lt;fct&gt; | f.2257.3.0 &lt;fct&gt; | f.3393.0.0 &lt;fct&gt; | f.3393.1.0 &lt;fct&gt; | f.3393.2.0 &lt;fct&gt; | f.3393.3.0 &lt;fct&gt; | f.3393.0.0_recode &lt;fct&gt; | f.3393.1.0_recode &lt;fct&gt; | f.3393.2.0_recode &lt;fct&gt; | f.3393.3.0_recode &lt;fct&gt; | remove_2257 &lt;lgl&gt; | remove_3393 &lt;lgl&gt; |\n",
       "|---|---|---|---|---|---|---|---|---|---|---|---|---|---|---|---|---|---|---|---|\n",
       "| 1 | 1000035 | 1000035 | 63 | 0 | 0 | Yes | NA | NA | NA | No | NA | NA | NA | 0  | NA | NA | NA |  TRUE | FALSE |\n",
       "| 2 | 1000078 | 1000078 | 60 | 1 | 0 | No  | No | No | NA | NA | No | No | NA | NA | 0  | 0  | NA | FALSE | FALSE |\n",
       "| 3 | 1000081 | 1000081 | 67 | 0 | 0 | No  | NA | NA | NA | No | NA | NA | NA | 0  | NA | NA | NA | FALSE | FALSE |\n",
       "| 4 | 1000224 | 1000224 | 58 | 1 | 0 | No  | NA | NA | NA | NA | NA | NA | NA | NA | NA | NA | NA | FALSE | FALSE |\n",
       "| 5 | 1000236 | 1000236 | 70 | 0 | 0 | No  | NA | No | NA | No | NA | No | NA | 0  | NA | 0  | NA | FALSE | FALSE |\n",
       "| 6 | 1000255 | 1000255 | 61 | 1 | 0 | No  | NA | No | NA | No | NA | No | NA | 0  | NA | 0  | NA | FALSE | FALSE |\n",
       "\n"
      ],
      "text/plain": [
       "  FID     IID     age_final_diff sex hearing_diff_new f.2257.0.0 f.2257.1.0\n",
       "1 1000035 1000035 63             0   0                Yes        NA        \n",
       "2 1000078 1000078 60             1   0                No         No        \n",
       "3 1000081 1000081 67             0   0                No         NA        \n",
       "4 1000224 1000224 58             1   0                No         NA        \n",
       "5 1000236 1000236 70             0   0                No         NA        \n",
       "6 1000255 1000255 61             1   0                No         NA        \n",
       "  f.2257.2.0 f.2257.3.0 f.3393.0.0 f.3393.1.0 f.3393.2.0 f.3393.3.0\n",
       "1 NA         NA         No         NA         NA         NA        \n",
       "2 No         NA         NA         No         No         NA        \n",
       "3 NA         NA         No         NA         NA         NA        \n",
       "4 NA         NA         NA         NA         NA         NA        \n",
       "5 No         NA         No         NA         No         NA        \n",
       "6 No         NA         No         NA         No         NA        \n",
       "  f.3393.0.0_recode f.3393.1.0_recode f.3393.2.0_recode f.3393.3.0_recode\n",
       "1 0                 NA                NA                NA               \n",
       "2 NA                0                 0                 NA               \n",
       "3 0                 NA                NA                NA               \n",
       "4 NA                NA                NA                NA               \n",
       "5 0                 NA                0                 NA               \n",
       "6 0                 NA                0                 NA               \n",
       "  remove_2257 remove_3393\n",
       "1  TRUE       FALSE      \n",
       "2 FALSE       FALSE      \n",
       "3 FALSE       FALSE      \n",
       "4 FALSE       FALSE      \n",
       "5 FALSE       FALSE      \n",
       "6 FALSE       FALSE      "
      ]
     },
     "metadata": {},
     "output_type": "display_data"
    }
   ],
   "source": [
    "control_check_2247 <- df_3393_2247 %>%\n",
    "    filter(hearing_diff_new==0) %>%\n",
    "    select(FID, IID, age_final_diff, sex, hearing_diff_new, starts_with(\"f.2257\"), starts_with(\"f.3393\")) %>%\n",
    "    mutate(remove_2257 = apply(select(.,starts_with(\"f.2257\")), 1, function(x) length(which(x == \"Yes\")) > 0),\n",
    "           remove_3393 = apply(select(.,starts_with(\"f.3393\")), 1, function(x) length(which(x == \"Yes\")) > 0))\n",
    "head(control_check_2247)"
   ]
  },
  {
   "cell_type": "code",
   "execution_count": 275,
   "metadata": {
    "kernel": "R"
   },
   "outputs": [
    {
     "data": {
      "text/html": [
       "27215"
      ],
      "text/latex": [
       "27215"
      ],
      "text/markdown": [
       "27215"
      ],
      "text/plain": [
       "[1] 27215"
      ]
     },
     "metadata": {},
     "output_type": "display_data"
    },
    {
     "data": {
      "text/html": [
       "4"
      ],
      "text/latex": [
       "4"
      ],
      "text/markdown": [
       "4"
      ],
      "text/plain": [
       "[1] 4"
      ]
     },
     "metadata": {},
     "output_type": "display_data"
    },
    {
     "data": {
      "text/html": [
       "1"
      ],
      "text/latex": [
       "1"
      ],
      "text/markdown": [
       "1"
      ],
      "text/plain": [
       "[1] 1"
      ]
     },
     "metadata": {},
     "output_type": "display_data"
    },
    {
     "data": {
      "text/html": [
       "27218"
      ],
      "text/latex": [
       "27218"
      ],
      "text/markdown": [
       "27218"
      ],
      "text/plain": [
       "[1] 27218"
      ]
     },
     "metadata": {},
     "output_type": "display_data"
    }
   ],
   "source": [
    "length(which(control_check_2247$remove_2257==TRUE)) #controls that replied yes to f.2257\n",
    "length(which(control_check_2247$remove_3393==TRUE)) #controls that replied yes to f.3393\n",
    "length(which(control_check_2247$remove_2257==TRUE & control_check_2247$remove_3393==TRUE)) # controls that replied yes to both\n",
    "length(which(control_check_2247$remove_2257==TRUE | control_check_2247$remove_3393==TRUE)) # controls that replied yes to either"
   ]
  },
  {
   "cell_type": "markdown",
   "metadata": {
    "kernel": "R"
   },
   "source": [
    "### Export file white-British"
   ]
  },
  {
   "cell_type": "code",
   "execution_count": 93,
   "metadata": {
    "kernel": "R"
   },
   "outputs": [],
   "source": [
    "write.table(f.2247_pheno, '200828_UKBB_Hearing_difficulty_f2247', quote = FALSE, row.names = FALSE)"
   ]
  },
  {
   "cell_type": "markdown",
   "metadata": {
    "kernel": "R"
   },
   "source": [
    "### Export file white expanded"
   ]
  },
  {
   "cell_type": "code",
   "execution_count": 93,
   "metadata": {
    "kernel": "R"
   },
   "outputs": [],
   "source": [
    "write.table(f.2247_pheno, '120120_UKBB_Hearing_difficulty_f2247_expandedwhite', quote = FALSE, row.names = FALSE)"
   ]
  },
  {
   "cell_type": "markdown",
   "metadata": {
    "kernel": "R"
   },
   "source": [
    "### Export file exome data"
   ]
  },
  {
   "cell_type": "code",
   "execution_count": 276,
   "metadata": {
    "kernel": "R"
   },
   "outputs": [
    {
     "data": {
      "text/html": [
       "0"
      ],
      "text/latex": [
       "0"
      ],
      "text/markdown": [
       "0"
      ],
      "text/plain": [
       "[1] 0"
      ]
     },
     "metadata": {},
     "output_type": "display_data"
    }
   ],
   "source": [
    "length(which(is.na(f.2247_pheno$hearing_diff_new)))"
   ]
  },
  {
   "cell_type": "code",
   "execution_count": 277,
   "metadata": {
    "kernel": "R"
   },
   "outputs": [],
   "source": [
    "write.table(f.2247_pheno, 'phenotypes_exome_data/010421_UKBB_Hearing_difficulty_f2247_exomes', quote = FALSE, row.names = FALSE)"
   ]
  },
  {
   "cell_type": "markdown",
   "metadata": {
    "kernel": "SoS"
   },
   "source": [
    "## f.2257 Hearing difficulty/background noise (2257)\n",
    "### step1: classify cases and controls"
   ]
  },
  {
   "cell_type": "code",
   "execution_count": 278,
   "metadata": {
    "kernel": "R"
   },
   "outputs": [
    {
     "data": {
      "text/plain": [
       "\n",
       "         Do not know                   No Prefer not to answer \n",
       "                4034               119621                  221 \n",
       "                 Yes \n",
       "               69751 "
      ]
     },
     "metadata": {},
     "output_type": "display_data"
    },
    {
     "data": {
      "text/html": [
       "<style>\n",
       ".list-inline {list-style: none; margin:0; padding: 0}\n",
       ".list-inline>li {display: inline-block}\n",
       ".list-inline>li:not(:last-child)::after {content: \"\\00b7\"; padding: 0 .5ex}\n",
       "</style>\n",
       "<ol class=list-inline><li>193866</li><li>2271</li></ol>\n"
      ],
      "text/latex": [
       "\\begin{enumerate*}\n",
       "\\item 193866\n",
       "\\item 2271\n",
       "\\end{enumerate*}\n"
      ],
      "text/markdown": [
       "1. 193866\n",
       "2. 2271\n",
       "\n",
       "\n"
      ],
      "text/plain": [
       "[1] 193866   2271"
      ]
     },
     "metadata": {},
     "output_type": "display_data"
    }
   ],
   "source": [
    "table(df.final.imp$f.2257.0.0)\n",
    "dim(df.final.imp)"
   ]
  },
  {
   "cell_type": "code",
   "execution_count": 279,
   "metadata": {
    "kernel": "R"
   },
   "outputs": [
    {
     "name": "stderr",
     "output_type": "stream",
     "text": [
      "The following `from` values were not present in `x`: Prefer not to answer\n",
      "\n",
      "The following `from` values were not present in `x`: Prefer not to answer\n",
      "\n"
     ]
    },
    {
     "name": "stdout",
     "output_type": "stream",
     "text": [
      "f.2257.0.0_recode summary:\n",
      "     9      0      1 \n",
      "  4034 119621  69751 \n",
      "\n",
      "f.2257.1.0_recode summary:\n",
      "   9    0    1 \n",
      " 208 5401 4087 \n",
      "\n",
      "f.2257.2.0_recode summary:\n",
      "    9     0     1 \n",
      "  572 13530 10701 \n",
      "\n",
      "f.2257.3.0_recode summary:\n",
      "  9   0   1 \n",
      " 27 513 410 \n",
      "\n"
     ]
    }
   ],
   "source": [
    "# Recode function:\n",
    "recode<-function(df,column_name){\n",
    "  new_names<-c()\n",
    "  for (i in column_name){\n",
    "    new_column_name<-paste0(i,\"_recode\")\n",
    "    new_names<-c(new_names,new_column_name)\n",
    "    df[,new_column_name] <- revalue(df[,i], c(\"No\"= 0, \n",
    "                                            \"Yes\" =1,\n",
    "                                            \"Prefer not to answer\"= NA,\n",
    "                                             \"Do not know\"=9))\n",
    "  }\n",
    "  return (list(df=df,new_column_names=new_names))\n",
    "}\n",
    "\n",
    "# columns needs to be recoded:\n",
    "column_name<-c(\"f.2257.0.0\",\"f.2257.1.0\",\"f.2257.2.0\",\"f.2257.3.0\")\n",
    "\n",
    "# get a new data.frame with recoded columns added:\n",
    "df.final.imp<-recode(df=df.final.imp,column_name)$df\n",
    "\n",
    "# get names of recoded columns:\n",
    "new_column_names<-recode(df=df.final.imp,column_name)$new_column_names\n",
    "\n",
    "# show recode summary:\n",
    "for (i in new_column_names)\n",
    "{cat(i,\"summary:\");print(table(df.final.imp[,i]));cat(\"\\n\")}"
   ]
  },
  {
   "cell_type": "code",
   "execution_count": 280,
   "metadata": {
    "kernel": "R"
   },
   "outputs": [
    {
     "data": {
      "text/html": [
       "<style>\n",
       ".list-inline {list-style: none; margin:0; padding: 0}\n",
       ".list-inline>li {display: inline-block}\n",
       ".list-inline>li:not(:last-child)::after {content: \"\\00b7\"; padding: 0 .5ex}\n",
       "</style>\n",
       "<ol class=list-inline><li>193866</li><li>2275</li></ol>\n"
      ],
      "text/latex": [
       "\\begin{enumerate*}\n",
       "\\item 193866\n",
       "\\item 2275\n",
       "\\end{enumerate*}\n"
      ],
      "text/markdown": [
       "1. 193866\n",
       "2. 2275\n",
       "\n",
       "\n"
      ],
      "text/plain": [
       "[1] 193866   2275"
      ]
     },
     "metadata": {},
     "output_type": "display_data"
    }
   ],
   "source": [
    "dim(df.final.imp)"
   ]
  },
  {
   "cell_type": "markdown",
   "metadata": {
    "kernel": "R"
   },
   "source": [
    "## f.2257 Get patterns for all possible answers"
   ]
  },
  {
   "cell_type": "code",
   "execution_count": 281,
   "metadata": {
    "kernel": "R"
   },
   "outputs": [
    {
     "data": {
      "text/html": [
       "<style>\n",
       ".list-inline {list-style: none; margin:0; padding: 0}\n",
       ".list-inline>li {display: inline-block}\n",
       ".list-inline>li:not(:last-child)::after {content: \"\\00b7\"; padding: 0 .5ex}\n",
       "</style>\n",
       "<ol class=list-inline><li>''</li><li>'0'</li><li>'00'</li><li>'000'</li><li>'0000'</li><li>'0001'</li><li>'0009'</li><li>'001'</li><li>'0010'</li><li>'0011'</li><li>'009'</li><li>'0090'</li><li>'0091'</li><li>'01'</li><li>'010'</li><li>'0100'</li><li>'0101'</li><li>'011'</li><li>'0110'</li><li>'0111'</li><li>'019'</li><li>'09'</li><li>'090'</li><li>'0900'</li><li>'091'</li><li>'099'</li><li>'1'</li><li>'10'</li><li>'100'</li><li>'1000'</li><li>'1001'</li><li>'1009'</li><li>'101'</li><li>'1011'</li><li>'109'</li><li>'1099'</li><li>'11'</li><li>'110'</li><li>'1100'</li><li>'1101'</li><li>'111'</li><li>'1110'</li><li>'1111'</li><li>'1119'</li><li>'119'</li><li>'19'</li><li>'190'</li><li>'1900'</li><li>'191'</li><li>'199'</li><li>'9'</li><li>'90'</li><li>'900'</li><li>'9000'</li><li>'901'</li><li>'909'</li><li>'91'</li><li>'910'</li><li>'911'</li><li>'9110'</li><li>'919'</li><li>'99'</li><li>'990'</li><li>'991'</li><li>'999'</li><li>'9999'</li></ol>\n"
      ],
      "text/latex": [
       "\\begin{enumerate*}\n",
       "\\item ''\n",
       "\\item '0'\n",
       "\\item '00'\n",
       "\\item '000'\n",
       "\\item '0000'\n",
       "\\item '0001'\n",
       "\\item '0009'\n",
       "\\item '001'\n",
       "\\item '0010'\n",
       "\\item '0011'\n",
       "\\item '009'\n",
       "\\item '0090'\n",
       "\\item '0091'\n",
       "\\item '01'\n",
       "\\item '010'\n",
       "\\item '0100'\n",
       "\\item '0101'\n",
       "\\item '011'\n",
       "\\item '0110'\n",
       "\\item '0111'\n",
       "\\item '019'\n",
       "\\item '09'\n",
       "\\item '090'\n",
       "\\item '0900'\n",
       "\\item '091'\n",
       "\\item '099'\n",
       "\\item '1'\n",
       "\\item '10'\n",
       "\\item '100'\n",
       "\\item '1000'\n",
       "\\item '1001'\n",
       "\\item '1009'\n",
       "\\item '101'\n",
       "\\item '1011'\n",
       "\\item '109'\n",
       "\\item '1099'\n",
       "\\item '11'\n",
       "\\item '110'\n",
       "\\item '1100'\n",
       "\\item '1101'\n",
       "\\item '111'\n",
       "\\item '1110'\n",
       "\\item '1111'\n",
       "\\item '1119'\n",
       "\\item '119'\n",
       "\\item '19'\n",
       "\\item '190'\n",
       "\\item '1900'\n",
       "\\item '191'\n",
       "\\item '199'\n",
       "\\item '9'\n",
       "\\item '90'\n",
       "\\item '900'\n",
       "\\item '9000'\n",
       "\\item '901'\n",
       "\\item '909'\n",
       "\\item '91'\n",
       "\\item '910'\n",
       "\\item '911'\n",
       "\\item '9110'\n",
       "\\item '919'\n",
       "\\item '99'\n",
       "\\item '990'\n",
       "\\item '991'\n",
       "\\item '999'\n",
       "\\item '9999'\n",
       "\\end{enumerate*}\n"
      ],
      "text/markdown": [
       "1. ''\n",
       "2. '0'\n",
       "3. '00'\n",
       "4. '000'\n",
       "5. '0000'\n",
       "6. '0001'\n",
       "7. '0009'\n",
       "8. '001'\n",
       "9. '0010'\n",
       "10. '0011'\n",
       "11. '009'\n",
       "12. '0090'\n",
       "13. '0091'\n",
       "14. '01'\n",
       "15. '010'\n",
       "16. '0100'\n",
       "17. '0101'\n",
       "18. '011'\n",
       "19. '0110'\n",
       "20. '0111'\n",
       "21. '019'\n",
       "22. '09'\n",
       "23. '090'\n",
       "24. '0900'\n",
       "25. '091'\n",
       "26. '099'\n",
       "27. '1'\n",
       "28. '10'\n",
       "29. '100'\n",
       "30. '1000'\n",
       "31. '1001'\n",
       "32. '1009'\n",
       "33. '101'\n",
       "34. '1011'\n",
       "35. '109'\n",
       "36. '1099'\n",
       "37. '11'\n",
       "38. '110'\n",
       "39. '1100'\n",
       "40. '1101'\n",
       "41. '111'\n",
       "42. '1110'\n",
       "43. '1111'\n",
       "44. '1119'\n",
       "45. '119'\n",
       "46. '19'\n",
       "47. '190'\n",
       "48. '1900'\n",
       "49. '191'\n",
       "50. '199'\n",
       "51. '9'\n",
       "52. '90'\n",
       "53. '900'\n",
       "54. '9000'\n",
       "55. '901'\n",
       "56. '909'\n",
       "57. '91'\n",
       "58. '910'\n",
       "59. '911'\n",
       "60. '9110'\n",
       "61. '919'\n",
       "62. '99'\n",
       "63. '990'\n",
       "64. '991'\n",
       "65. '999'\n",
       "66. '9999'\n",
       "\n",
       "\n"
      ],
      "text/plain": [
       " [1] \"\"     \"0\"    \"00\"   \"000\"  \"0000\" \"0001\" \"0009\" \"001\"  \"0010\" \"0011\"\n",
       "[11] \"009\"  \"0090\" \"0091\" \"01\"   \"010\"  \"0100\" \"0101\" \"011\"  \"0110\" \"0111\"\n",
       "[21] \"019\"  \"09\"   \"090\"  \"0900\" \"091\"  \"099\"  \"1\"    \"10\"   \"100\"  \"1000\"\n",
       "[31] \"1001\" \"1009\" \"101\"  \"1011\" \"109\"  \"1099\" \"11\"   \"110\"  \"1100\" \"1101\"\n",
       "[41] \"111\"  \"1110\" \"1111\" \"1119\" \"119\"  \"19\"   \"190\"  \"1900\" \"191\"  \"199\" \n",
       "[51] \"9\"    \"90\"   \"900\"  \"9000\" \"901\"  \"909\"  \"91\"   \"910\"  \"911\"  \"9110\"\n",
       "[61] \"919\"  \"99\"   \"990\"  \"991\"  \"999\"  \"9999\""
      ]
     },
     "metadata": {},
     "output_type": "display_data"
    }
   ],
   "source": [
    "# Extract subset of data only with the recode columns of tinnitus\n",
    "data_sub <- df.final.imp %>%\n",
    "  select(\"IID\",all_of(new_column_names)) \n",
    "\n",
    "# Function to extract all the available answers for 4 visits\n",
    "# and put them in one string as \"0000\", \"111\", \"991\", etc\n",
    "\n",
    "f2<-function(x){\n",
    "  visit<-''\n",
    "  for (i in 2:5){ # do not take the first column (i.e. IID)\n",
    "    if (!is.na(x[i]))\n",
    "    {visit<-paste0(visit,x[i])}\n",
    "  }\n",
    "  if(is.null(visit)){visit=NA}\n",
    "  else{visit=visit}\n",
    "  return (visit)\n",
    "}\n",
    "\n",
    "# Apply the above function and remove NAs\n",
    "data_sub$visit<-apply(data_sub, 1, f2)\n",
    "\n",
    "names(table(data_sub$visit))"
   ]
  },
  {
   "cell_type": "code",
   "execution_count": 282,
   "metadata": {
    "kernel": "R"
   },
   "outputs": [
    {
     "data": {
      "text/plain": [
       "\n",
       "            0     00    000   0000   0001   0009    001   0010   0011    009 \n",
       "   441 101603  10865   2487     63      6      2    367      6      6     44 \n",
       "  0090   0091     01    010   0100   0101    011   0110   0111    019     09 \n",
       "     1      1   3108    218      2      2    392      1      8     18    354 \n",
       "   090   0900    091    099      1     10    100   1000   1001   1009    101 \n",
       "    43      2     23      5  59089   1578    239      4      1      1    154 \n",
       "  1011    109   1099     11    110   1100   1101    111   1110   1111   1119 \n",
       "     3     13      1   6741    146      2      1   1557      3     45      1 \n",
       "   119     19    190   1900    191    199      9     90    900   9000    901 \n",
       "    25    126      6      2     21      3   3497    195     28      1      7 \n",
       "   909     91    910    911   9110    919     99    990    991    999   9999 \n",
       "     5    183      9     22      1      5     60      7      7      7      2 "
      ]
     },
     "metadata": {},
     "output_type": "display_data"
    }
   ],
   "source": [
    "table(data_sub$visit)\n",
    "all_pattern<-unique(data_sub$visit)"
   ]
  },
  {
   "cell_type": "markdown",
   "metadata": {
    "kernel": "R"
   },
   "source": [
    "## f.2257 Get all the consitent cases"
   ]
  },
  {
   "cell_type": "code",
   "execution_count": 283,
   "metadata": {
    "kernel": "R"
   },
   "outputs": [
    {
     "data": {
      "text/plain": [
       "\n",
       "     0     00    000   0000      1     11    111   1111      9     99    999 \n",
       "101603  10865   2487     63  59089   6741   1557     45   3497     60      7 \n",
       "  9999 \n",
       "     2 "
      ]
     },
     "metadata": {},
     "output_type": "display_data"
    }
   ],
   "source": [
    "all_no<-all_pattern[which(grepl(\"0\",all_pattern) & !grepl(\"9\",all_pattern) & !grepl(\"1\",all_pattern))]\n",
    "all_yes<-all_pattern[which(!grepl(\"0\",all_pattern) & !grepl(\"9\",all_pattern) & grepl(\"1\",all_pattern))]\n",
    "all_do_not_know<-all_pattern[which(!grepl(\"0\",all_pattern) & grepl(\"9\",all_pattern) & !grepl(\"1\",all_pattern))]\n",
    "table(data_sub[data_sub$visit%in%union(union(all_no,all_yes),all_do_not_know),\"visit\"])"
   ]
  },
  {
   "cell_type": "code",
   "execution_count": 284,
   "metadata": {
    "kernel": "R"
   },
   "outputs": [
    {
     "data": {
      "text/plain": [
       "\n",
       "0009  009 0090   09  090 0900  099   90  900 9000  909  990 \n",
       "   2   44    1  354   43    2    5  195   28    1    5    7 "
      ]
     },
     "metadata": {},
     "output_type": "display_data"
    }
   ],
   "source": [
    "consistent_1<-c(all_no,all_yes,all_do_not_know)\n",
    "\n",
    "# might be inconsistent cases:\n",
    "do_not_know_no<-all_pattern[which(grepl(\"0\",all_pattern) & grepl(\"9\",all_pattern) & !grepl(\"1\",all_pattern))]\n",
    "table(data_sub[data_sub$visit%in%do_not_know_no,\"visit\"])"
   ]
  },
  {
   "cell_type": "code",
   "execution_count": 285,
   "metadata": {
    "kernel": "R"
   },
   "outputs": [
    {
     "data": {
      "text/plain": [
       "\n",
       "1119  119   19  191  199   91  911  919  991 \n",
       "   1   25  126   21    3  183   22    5    7 "
      ]
     },
     "metadata": {},
     "output_type": "display_data"
    }
   ],
   "source": [
    "do_not_know_yes<-all_pattern[which(!grepl(\"0\",all_pattern) & grepl(\"9\",all_pattern) & grepl(\"1\",all_pattern))]\n",
    "table(data_sub[data_sub$visit%in%do_not_know_yes,\"visit\"])"
   ]
  },
  {
   "cell_type": "code",
   "execution_count": 286,
   "metadata": {
    "kernel": "R"
   },
   "outputs": [
    {
     "data": {
      "text/plain": [
       "\n",
       "0001  001 0010 0011   01  010 0100 0101  011 0110 0111   10  100 1000 1001  101 \n",
       "   6  367    6    6 3108  218    2    2  392    1    8 1578  239    4    1  154 \n",
       "1011  110 1100 1101 1110 \n",
       "   3  146    2    1    3 "
      ]
     },
     "metadata": {},
     "output_type": "display_data"
    }
   ],
   "source": [
    "yes_no<-all_pattern[which(grepl(\"0\",all_pattern) & !grepl(\"9\",all_pattern) & grepl(\"1\",all_pattern))]\n",
    "table(data_sub[data_sub$visit%in%yes_no,\"visit\"])"
   ]
  },
  {
   "cell_type": "code",
   "execution_count": 287,
   "metadata": {
    "kernel": "R"
   },
   "outputs": [
    {
     "data": {
      "text/plain": [
       "\n",
       "0091  019  091 1009  109 1099  190 1900  901  910 9110 \n",
       "   1   18   23    1   13    1    6    2    7    9    1 "
      ]
     },
     "metadata": {},
     "output_type": "display_data"
    }
   ],
   "source": [
    "with_all_three<-all_pattern[which(grepl(\"0\",all_pattern) & grepl(\"9\",all_pattern) & grepl(\"1\",all_pattern))]\n",
    "table(data_sub[data_sub$visit%in%with_all_three,\"visit\"])"
   ]
  },
  {
   "cell_type": "code",
   "execution_count": 288,
   "metadata": {
    "kernel": "R"
   },
   "outputs": [],
   "source": [
    "might_inconsistent<-c(do_not_know_no,do_not_know_yes,yes_no,with_all_three)"
   ]
  },
  {
   "cell_type": "markdown",
   "metadata": {
    "kernel": "R"
   },
   "source": [
    "## f.2257 Remove all the inconsistent"
   ]
  },
  {
   "cell_type": "code",
   "execution_count": 289,
   "metadata": {
    "kernel": "R"
   },
   "outputs": [
    {
     "name": "stdout",
     "output_type": "stream",
     "text": [
      "There are 441 NAs, removed"
     ]
    }
   ],
   "source": [
    "# get all the inconsistent cases:\n",
    "exceptions<-c(\"91\",\"911\",\"9111\",\"991\",\"9991\",\"0001\",\"001\",\"0011\",\"01\",\"011\",\"0111\", \"0091\", \"091\",\"0911\",\"9001\",\"901\",\"9011\")\n",
    "inconsistent<-setdiff(might_inconsistent,exceptions)\n",
    "\n",
    "cat(\"There are\",length(which(is.empty(data_sub$visit))),\"NAs, removed\")"
   ]
  },
  {
   "cell_type": "code",
   "execution_count": 290,
   "metadata": {
    "kernel": "R"
   },
   "outputs": [
    {
     "name": "stdout",
     "output_type": "stream",
     "text": [
      "There are 3279 inconsistent cases, removed"
     ]
    }
   ],
   "source": [
    "cat(\"There are\",length(which(data_sub$visit%in%inconsistent)),\"inconsistent cases, removed\")"
   ]
  },
  {
   "cell_type": "code",
   "execution_count": 291,
   "metadata": {
    "kernel": "R"
   },
   "outputs": [
    {
     "data": {
      "text/html": [
       "<style>\n",
       ".list-inline {list-style: none; margin:0; padding: 0}\n",
       ".list-inline>li {display: inline-block}\n",
       ".list-inline>li:not(:last-child)::after {content: \"\\00b7\"; padding: 0 .5ex}\n",
       "</style>\n",
       "<ol class=list-inline><li>186580</li><li>1</li></ol>\n"
      ],
      "text/latex": [
       "\\begin{enumerate*}\n",
       "\\item 186580\n",
       "\\item 1\n",
       "\\end{enumerate*}\n"
      ],
      "text/markdown": [
       "1. 186580\n",
       "2. 1\n",
       "\n",
       "\n"
      ],
      "text/plain": [
       "[1] 186580      1"
      ]
     },
     "metadata": {},
     "output_type": "display_data"
    }
   ],
   "source": [
    "# removed those NAs, consistent for do not know - 9 and inconsistent cases: \n",
    "IID_hearing_noise<-data_sub %>%\n",
    "  filter(!is.empty(visit)) %>%\n",
    "  filter((!visit%in%inconsistent)) %>%\n",
    "  filter((!visit%in%all_do_not_know)) %>%\n",
    "  select(IID)\n",
    "\n",
    "dim(IID_hearing_noise)"
   ]
  },
  {
   "cell_type": "code",
   "execution_count": 292,
   "metadata": {
    "kernel": "R"
   },
   "outputs": [
    {
     "name": "stdout",
     "output_type": "stream",
     "text": [
      "After removing all the NAs and inconsistent cases, there are 186580 cases left"
     ]
    }
   ],
   "source": [
    "IID_hearing_noise<-IID_hearing_noise[,1]\n",
    "cat(\"After removing all the NAs and inconsistent cases, there are\",length(IID_hearing_noise),\"cases left\")"
   ]
  },
  {
   "cell_type": "code",
   "execution_count": 293,
   "metadata": {
    "kernel": "R"
   },
   "outputs": [
    {
     "data": {
      "text/html": [
       "<style>\n",
       ".list-inline {list-style: none; margin:0; padding: 0}\n",
       ".list-inline>li {display: inline-block}\n",
       ".list-inline>li:not(:last-child)::after {content: \"\\00b7\"; padding: 0 .5ex}\n",
       "</style>\n",
       "<ol class=list-inline><li>186580</li><li>2275</li></ol>\n"
      ],
      "text/latex": [
       "\\begin{enumerate*}\n",
       "\\item 186580\n",
       "\\item 2275\n",
       "\\end{enumerate*}\n"
      ],
      "text/markdown": [
       "1. 186580\n",
       "2. 2275\n",
       "\n",
       "\n"
      ],
      "text/plain": [
       "[1] 186580   2275"
      ]
     },
     "metadata": {},
     "output_type": "display_data"
    }
   ],
   "source": [
    "# get the dataset after cleansing: \n",
    "df.hearing.noise<-df.final.imp %>%\n",
    "  filter(IID%in%IID_hearing_noise)\n",
    "\n",
    "dim(df.hearing.noise)"
   ]
  },
  {
   "cell_type": "markdown",
   "metadata": {
    "kernel": "R"
   },
   "source": [
    "## f.2257 Step 1 classify cases and controls"
   ]
  },
  {
   "cell_type": "code",
   "execution_count": 297,
   "metadata": {
    "kernel": "R"
   },
   "outputs": [
    {
     "data": {
      "text/html": [
       "<table>\n",
       "<caption>A data.frame: 6 × 11</caption>\n",
       "<thead>\n",
       "\t<tr><th></th><th scope=col>IID</th><th scope=col>FID</th><th scope=col>f.22001.0.0</th><th scope=col>f.21003.0.0</th><th scope=col>f.21003.1.0</th><th scope=col>f.21003.2.0</th><th scope=col>f.21003.3.0</th><th scope=col>f.2257.0.0_recode</th><th scope=col>f.2257.1.0_recode</th><th scope=col>f.2257.2.0_recode</th><th scope=col>f.2257.3.0_recode</th></tr>\n",
       "\t<tr><th></th><th scope=col>&lt;int&gt;</th><th scope=col>&lt;int&gt;</th><th scope=col>&lt;fct&gt;</th><th scope=col>&lt;int&gt;</th><th scope=col>&lt;int&gt;</th><th scope=col>&lt;int&gt;</th><th scope=col>&lt;int&gt;</th><th scope=col>&lt;fct&gt;</th><th scope=col>&lt;fct&gt;</th><th scope=col>&lt;fct&gt;</th><th scope=col>&lt;fct&gt;</th></tr>\n",
       "</thead>\n",
       "<tbody>\n",
       "\t<tr><th scope=row>1</th><td>1000019</td><td>1000019</td><td>Female</td><td>47</td><td>NA</td><td>NA</td><td>NA</td><td>1</td><td>NA</td><td>NA</td><td>NA</td></tr>\n",
       "\t<tr><th scope=row>2</th><td>1000035</td><td>1000035</td><td>Male  </td><td>63</td><td>NA</td><td>NA</td><td>NA</td><td>1</td><td>NA</td><td>NA</td><td>NA</td></tr>\n",
       "\t<tr><th scope=row>3</th><td>1000078</td><td>1000078</td><td>Female</td><td>52</td><td>57</td><td>60</td><td>NA</td><td>0</td><td>0 </td><td>0 </td><td>NA</td></tr>\n",
       "\t<tr><th scope=row>4</th><td>1000081</td><td>1000081</td><td>Male  </td><td>67</td><td>NA</td><td>NA</td><td>NA</td><td>0</td><td>NA</td><td>NA</td><td>NA</td></tr>\n",
       "\t<tr><th scope=row>5</th><td>1000198</td><td>1000198</td><td>Female</td><td>41</td><td>NA</td><td>NA</td><td>NA</td><td>1</td><td>NA</td><td>NA</td><td>NA</td></tr>\n",
       "\t<tr><th scope=row>6</th><td>1000210</td><td>1000210</td><td>Male  </td><td>66</td><td>NA</td><td>NA</td><td>NA</td><td>0</td><td>NA</td><td>NA</td><td>NA</td></tr>\n",
       "</tbody>\n",
       "</table>\n"
      ],
      "text/latex": [
       "A data.frame: 6 × 11\n",
       "\\begin{tabular}{r|lllllllllll}\n",
       "  & IID & FID & f.22001.0.0 & f.21003.0.0 & f.21003.1.0 & f.21003.2.0 & f.21003.3.0 & f.2257.0.0\\_recode & f.2257.1.0\\_recode & f.2257.2.0\\_recode & f.2257.3.0\\_recode\\\\\n",
       "  & <int> & <int> & <fct> & <int> & <int> & <int> & <int> & <fct> & <fct> & <fct> & <fct>\\\\\n",
       "\\hline\n",
       "\t1 & 1000019 & 1000019 & Female & 47 & NA & NA & NA & 1 & NA & NA & NA\\\\\n",
       "\t2 & 1000035 & 1000035 & Male   & 63 & NA & NA & NA & 1 & NA & NA & NA\\\\\n",
       "\t3 & 1000078 & 1000078 & Female & 52 & 57 & 60 & NA & 0 & 0  & 0  & NA\\\\\n",
       "\t4 & 1000081 & 1000081 & Male   & 67 & NA & NA & NA & 0 & NA & NA & NA\\\\\n",
       "\t5 & 1000198 & 1000198 & Female & 41 & NA & NA & NA & 1 & NA & NA & NA\\\\\n",
       "\t6 & 1000210 & 1000210 & Male   & 66 & NA & NA & NA & 0 & NA & NA & NA\\\\\n",
       "\\end{tabular}\n"
      ],
      "text/markdown": [
       "\n",
       "A data.frame: 6 × 11\n",
       "\n",
       "| <!--/--> | IID &lt;int&gt; | FID &lt;int&gt; | f.22001.0.0 &lt;fct&gt; | f.21003.0.0 &lt;int&gt; | f.21003.1.0 &lt;int&gt; | f.21003.2.0 &lt;int&gt; | f.21003.3.0 &lt;int&gt; | f.2257.0.0_recode &lt;fct&gt; | f.2257.1.0_recode &lt;fct&gt; | f.2257.2.0_recode &lt;fct&gt; | f.2257.3.0_recode &lt;fct&gt; |\n",
       "|---|---|---|---|---|---|---|---|---|---|---|---|\n",
       "| 1 | 1000019 | 1000019 | Female | 47 | NA | NA | NA | 1 | NA | NA | NA |\n",
       "| 2 | 1000035 | 1000035 | Male   | 63 | NA | NA | NA | 1 | NA | NA | NA |\n",
       "| 3 | 1000078 | 1000078 | Female | 52 | 57 | 60 | NA | 0 | 0  | 0  | NA |\n",
       "| 4 | 1000081 | 1000081 | Male   | 67 | NA | NA | NA | 0 | NA | NA | NA |\n",
       "| 5 | 1000198 | 1000198 | Female | 41 | NA | NA | NA | 1 | NA | NA | NA |\n",
       "| 6 | 1000210 | 1000210 | Male   | 66 | NA | NA | NA | 0 | NA | NA | NA |\n",
       "\n"
      ],
      "text/plain": [
       "  IID     FID     f.22001.0.0 f.21003.0.0 f.21003.1.0 f.21003.2.0 f.21003.3.0\n",
       "1 1000019 1000019 Female      47          NA          NA          NA         \n",
       "2 1000035 1000035 Male        63          NA          NA          NA         \n",
       "3 1000078 1000078 Female      52          57          60          NA         \n",
       "4 1000081 1000081 Male        67          NA          NA          NA         \n",
       "5 1000198 1000198 Female      41          NA          NA          NA         \n",
       "6 1000210 1000210 Male        66          NA          NA          NA         \n",
       "  f.2257.0.0_recode f.2257.1.0_recode f.2257.2.0_recode f.2257.3.0_recode\n",
       "1 1                 NA                NA                NA               \n",
       "2 1                 NA                NA                NA               \n",
       "3 0                 0                 0                 NA               \n",
       "4 0                 NA                NA                NA               \n",
       "5 1                 NA                NA                NA               \n",
       "6 0                 NA                NA                NA               "
      ]
     },
     "metadata": {},
     "output_type": "display_data"
    }
   ],
   "source": [
    "hearing_noise <- df.hearing.noise %>% \n",
    "  select(IID,FID,f.22001.0.0, f.21003.0.0,f.21003.1.0,f.21003.2.0,f.21003.3.0,f.2257.0.0_recode,f.2257.1.0_recode,f.2257.2.0_recode,f.2257.3.0_recode)\n",
    "head(hearing_noise)"
   ]
  },
  {
   "cell_type": "code",
   "execution_count": 298,
   "metadata": {
    "kernel": "R"
   },
   "outputs": [
    {
     "data": {
      "text/html": [
       "<table>\n",
       "<caption>A data.frame: 10 × 12</caption>\n",
       "<thead>\n",
       "\t<tr><th></th><th scope=col>IID</th><th scope=col>FID</th><th scope=col>f.22001.0.0</th><th scope=col>f.21003.0.0</th><th scope=col>f.21003.1.0</th><th scope=col>f.21003.2.0</th><th scope=col>f.21003.3.0</th><th scope=col>f.2257.0.0_recode</th><th scope=col>f.2257.1.0_recode</th><th scope=col>f.2257.2.0_recode</th><th scope=col>f.2257.3.0_recode</th><th scope=col>cases</th></tr>\n",
       "\t<tr><th></th><th scope=col>&lt;int&gt;</th><th scope=col>&lt;int&gt;</th><th scope=col>&lt;fct&gt;</th><th scope=col>&lt;int&gt;</th><th scope=col>&lt;int&gt;</th><th scope=col>&lt;int&gt;</th><th scope=col>&lt;int&gt;</th><th scope=col>&lt;fct&gt;</th><th scope=col>&lt;fct&gt;</th><th scope=col>&lt;fct&gt;</th><th scope=col>&lt;fct&gt;</th><th scope=col>&lt;lgl&gt;</th></tr>\n",
       "</thead>\n",
       "<tbody>\n",
       "\t<tr><th scope=row>1</th><td>1000019</td><td>1000019</td><td>Female</td><td>47</td><td>NA</td><td>NA</td><td>NA</td><td>1</td><td>NA</td><td>NA</td><td>NA</td><td> TRUE</td></tr>\n",
       "\t<tr><th scope=row>2</th><td>1000035</td><td>1000035</td><td>Male  </td><td>63</td><td>NA</td><td>NA</td><td>NA</td><td>1</td><td>NA</td><td>NA</td><td>NA</td><td> TRUE</td></tr>\n",
       "\t<tr><th scope=row>3</th><td>1000078</td><td>1000078</td><td>Female</td><td>52</td><td>57</td><td>60</td><td>NA</td><td>0</td><td>0 </td><td>0 </td><td>NA</td><td>FALSE</td></tr>\n",
       "\t<tr><th scope=row>4</th><td>1000081</td><td>1000081</td><td>Male  </td><td>67</td><td>NA</td><td>NA</td><td>NA</td><td>0</td><td>NA</td><td>NA</td><td>NA</td><td>FALSE</td></tr>\n",
       "\t<tr><th scope=row>5</th><td>1000198</td><td>1000198</td><td>Female</td><td>41</td><td>NA</td><td>NA</td><td>NA</td><td>1</td><td>NA</td><td>NA</td><td>NA</td><td> TRUE</td></tr>\n",
       "\t<tr><th scope=row>6</th><td>1000210</td><td>1000210</td><td>Male  </td><td>66</td><td>NA</td><td>NA</td><td>NA</td><td>0</td><td>NA</td><td>NA</td><td>NA</td><td>FALSE</td></tr>\n",
       "\t<tr><th scope=row>7</th><td>1000224</td><td>1000224</td><td>Female</td><td>58</td><td>NA</td><td>NA</td><td>NA</td><td>0</td><td>NA</td><td>NA</td><td>NA</td><td>FALSE</td></tr>\n",
       "\t<tr><th scope=row>8</th><td>1000236</td><td>1000236</td><td>Male  </td><td>61</td><td>NA</td><td>70</td><td>NA</td><td>0</td><td>NA</td><td>0 </td><td>NA</td><td>FALSE</td></tr>\n",
       "\t<tr><th scope=row>9</th><td>1000255</td><td>1000255</td><td>Female</td><td>51</td><td>NA</td><td>61</td><td>NA</td><td>0</td><td>NA</td><td>0 </td><td>NA</td><td>FALSE</td></tr>\n",
       "\t<tr><th scope=row>10</th><td>1000272</td><td>1000272</td><td>Male  </td><td>43</td><td>NA</td><td>NA</td><td>NA</td><td>0</td><td>NA</td><td>NA</td><td>NA</td><td>FALSE</td></tr>\n",
       "</tbody>\n",
       "</table>\n"
      ],
      "text/latex": [
       "A data.frame: 10 × 12\n",
       "\\begin{tabular}{r|llllllllllll}\n",
       "  & IID & FID & f.22001.0.0 & f.21003.0.0 & f.21003.1.0 & f.21003.2.0 & f.21003.3.0 & f.2257.0.0\\_recode & f.2257.1.0\\_recode & f.2257.2.0\\_recode & f.2257.3.0\\_recode & cases\\\\\n",
       "  & <int> & <int> & <fct> & <int> & <int> & <int> & <int> & <fct> & <fct> & <fct> & <fct> & <lgl>\\\\\n",
       "\\hline\n",
       "\t1 & 1000019 & 1000019 & Female & 47 & NA & NA & NA & 1 & NA & NA & NA &  TRUE\\\\\n",
       "\t2 & 1000035 & 1000035 & Male   & 63 & NA & NA & NA & 1 & NA & NA & NA &  TRUE\\\\\n",
       "\t3 & 1000078 & 1000078 & Female & 52 & 57 & 60 & NA & 0 & 0  & 0  & NA & FALSE\\\\\n",
       "\t4 & 1000081 & 1000081 & Male   & 67 & NA & NA & NA & 0 & NA & NA & NA & FALSE\\\\\n",
       "\t5 & 1000198 & 1000198 & Female & 41 & NA & NA & NA & 1 & NA & NA & NA &  TRUE\\\\\n",
       "\t6 & 1000210 & 1000210 & Male   & 66 & NA & NA & NA & 0 & NA & NA & NA & FALSE\\\\\n",
       "\t7 & 1000224 & 1000224 & Female & 58 & NA & NA & NA & 0 & NA & NA & NA & FALSE\\\\\n",
       "\t8 & 1000236 & 1000236 & Male   & 61 & NA & 70 & NA & 0 & NA & 0  & NA & FALSE\\\\\n",
       "\t9 & 1000255 & 1000255 & Female & 51 & NA & 61 & NA & 0 & NA & 0  & NA & FALSE\\\\\n",
       "\t10 & 1000272 & 1000272 & Male   & 43 & NA & NA & NA & 0 & NA & NA & NA & FALSE\\\\\n",
       "\\end{tabular}\n"
      ],
      "text/markdown": [
       "\n",
       "A data.frame: 10 × 12\n",
       "\n",
       "| <!--/--> | IID &lt;int&gt; | FID &lt;int&gt; | f.22001.0.0 &lt;fct&gt; | f.21003.0.0 &lt;int&gt; | f.21003.1.0 &lt;int&gt; | f.21003.2.0 &lt;int&gt; | f.21003.3.0 &lt;int&gt; | f.2257.0.0_recode &lt;fct&gt; | f.2257.1.0_recode &lt;fct&gt; | f.2257.2.0_recode &lt;fct&gt; | f.2257.3.0_recode &lt;fct&gt; | cases &lt;lgl&gt; |\n",
       "|---|---|---|---|---|---|---|---|---|---|---|---|---|\n",
       "| 1 | 1000019 | 1000019 | Female | 47 | NA | NA | NA | 1 | NA | NA | NA |  TRUE |\n",
       "| 2 | 1000035 | 1000035 | Male   | 63 | NA | NA | NA | 1 | NA | NA | NA |  TRUE |\n",
       "| 3 | 1000078 | 1000078 | Female | 52 | 57 | 60 | NA | 0 | 0  | 0  | NA | FALSE |\n",
       "| 4 | 1000081 | 1000081 | Male   | 67 | NA | NA | NA | 0 | NA | NA | NA | FALSE |\n",
       "| 5 | 1000198 | 1000198 | Female | 41 | NA | NA | NA | 1 | NA | NA | NA |  TRUE |\n",
       "| 6 | 1000210 | 1000210 | Male   | 66 | NA | NA | NA | 0 | NA | NA | NA | FALSE |\n",
       "| 7 | 1000224 | 1000224 | Female | 58 | NA | NA | NA | 0 | NA | NA | NA | FALSE |\n",
       "| 8 | 1000236 | 1000236 | Male   | 61 | NA | 70 | NA | 0 | NA | 0  | NA | FALSE |\n",
       "| 9 | 1000255 | 1000255 | Female | 51 | NA | 61 | NA | 0 | NA | 0  | NA | FALSE |\n",
       "| 10 | 1000272 | 1000272 | Male   | 43 | NA | NA | NA | 0 | NA | NA | NA | FALSE |\n",
       "\n"
      ],
      "text/plain": [
       "   IID     FID     f.22001.0.0 f.21003.0.0 f.21003.1.0 f.21003.2.0 f.21003.3.0\n",
       "1  1000019 1000019 Female      47          NA          NA          NA         \n",
       "2  1000035 1000035 Male        63          NA          NA          NA         \n",
       "3  1000078 1000078 Female      52          57          60          NA         \n",
       "4  1000081 1000081 Male        67          NA          NA          NA         \n",
       "5  1000198 1000198 Female      41          NA          NA          NA         \n",
       "6  1000210 1000210 Male        66          NA          NA          NA         \n",
       "7  1000224 1000224 Female      58          NA          NA          NA         \n",
       "8  1000236 1000236 Male        61          NA          70          NA         \n",
       "9  1000255 1000255 Female      51          NA          61          NA         \n",
       "10 1000272 1000272 Male        43          NA          NA          NA         \n",
       "   f.2257.0.0_recode f.2257.1.0_recode f.2257.2.0_recode f.2257.3.0_recode\n",
       "1  1                 NA                NA                NA               \n",
       "2  1                 NA                NA                NA               \n",
       "3  0                 0                 0                 NA               \n",
       "4  0                 NA                NA                NA               \n",
       "5  1                 NA                NA                NA               \n",
       "6  0                 NA                NA                NA               \n",
       "7  0                 NA                NA                NA               \n",
       "8  0                 NA                0                 NA               \n",
       "9  0                 NA                0                 NA               \n",
       "10 0                 NA                NA                NA               \n",
       "   cases\n",
       "1   TRUE\n",
       "2   TRUE\n",
       "3  FALSE\n",
       "4  FALSE\n",
       "5   TRUE\n",
       "6  FALSE\n",
       "7  FALSE\n",
       "8  FALSE\n",
       "9  FALSE\n",
       "10 FALSE"
      ]
     },
     "metadata": {},
     "output_type": "display_data"
    }
   ],
   "source": [
    "data_sub <- select(hearing_noise,starts_with(\"f.2257\"))\n",
    "\n",
    "# Function to define cases\n",
    "f<-function(x){\n",
    "  visit<-c()\n",
    "  for (i in 1:4){\n",
    "    if (!is.na(x[i]))\n",
    "    {visit<-c(visit,x[i])}\n",
    "  }\n",
    "  if (\"1\" %in% visit){result= TRUE}\n",
    "  else{result=FALSE}\n",
    "  return (result)\n",
    "}\n",
    "\n",
    "# Apply the above function\n",
    "hearing_noise$cases<-apply(data_sub, 1, f)\n",
    "head(hearing_noise,10)"
   ]
  },
  {
   "cell_type": "code",
   "execution_count": 299,
   "metadata": {
    "kernel": "R"
   },
   "outputs": [
    {
     "data": {
      "text/html": [
       "<table>\n",
       "<caption>A data.frame: 6 × 12</caption>\n",
       "<thead>\n",
       "\t<tr><th></th><th scope=col>IID</th><th scope=col>FID</th><th scope=col>f.22001.0.0</th><th scope=col>f.21003.0.0</th><th scope=col>f.21003.1.0</th><th scope=col>f.21003.2.0</th><th scope=col>f.21003.3.0</th><th scope=col>f.2257.0.0_recode</th><th scope=col>f.2257.1.0_recode</th><th scope=col>f.2257.2.0_recode</th><th scope=col>f.2257.3.0_recode</th><th scope=col>cases</th></tr>\n",
       "\t<tr><th></th><th scope=col>&lt;int&gt;</th><th scope=col>&lt;int&gt;</th><th scope=col>&lt;fct&gt;</th><th scope=col>&lt;int&gt;</th><th scope=col>&lt;int&gt;</th><th scope=col>&lt;int&gt;</th><th scope=col>&lt;int&gt;</th><th scope=col>&lt;fct&gt;</th><th scope=col>&lt;fct&gt;</th><th scope=col>&lt;fct&gt;</th><th scope=col>&lt;fct&gt;</th><th scope=col>&lt;lgl&gt;</th></tr>\n",
       "</thead>\n",
       "<tbody>\n",
       "\t<tr><th scope=row>1</th><td>1000019</td><td>1000019</td><td>Female</td><td>47</td><td>NA</td><td>NA</td><td>NA</td><td>1</td><td>NA</td><td>NA</td><td>NA</td><td>TRUE</td></tr>\n",
       "\t<tr><th scope=row>2</th><td>1000035</td><td>1000035</td><td>Male  </td><td>63</td><td>NA</td><td>NA</td><td>NA</td><td>1</td><td>NA</td><td>NA</td><td>NA</td><td>TRUE</td></tr>\n",
       "\t<tr><th scope=row>3</th><td>1000198</td><td>1000198</td><td>Female</td><td>41</td><td>NA</td><td>NA</td><td>NA</td><td>1</td><td>NA</td><td>NA</td><td>NA</td><td>TRUE</td></tr>\n",
       "\t<tr><th scope=row>4</th><td>1000304</td><td>1000304</td><td>Female</td><td>56</td><td>NA</td><td>NA</td><td>NA</td><td>1</td><td>NA</td><td>NA</td><td>NA</td><td>TRUE</td></tr>\n",
       "\t<tr><th scope=row>5</th><td>1000396</td><td>1000396</td><td>Male  </td><td>48</td><td>NA</td><td>NA</td><td>NA</td><td>1</td><td>NA</td><td>NA</td><td>NA</td><td>TRUE</td></tr>\n",
       "\t<tr><th scope=row>6</th><td>1000494</td><td>1000494</td><td>Male  </td><td>61</td><td>NA</td><td>NA</td><td>NA</td><td>1</td><td>NA</td><td>NA</td><td>NA</td><td>TRUE</td></tr>\n",
       "</tbody>\n",
       "</table>\n"
      ],
      "text/latex": [
       "A data.frame: 6 × 12\n",
       "\\begin{tabular}{r|llllllllllll}\n",
       "  & IID & FID & f.22001.0.0 & f.21003.0.0 & f.21003.1.0 & f.21003.2.0 & f.21003.3.0 & f.2257.0.0\\_recode & f.2257.1.0\\_recode & f.2257.2.0\\_recode & f.2257.3.0\\_recode & cases\\\\\n",
       "  & <int> & <int> & <fct> & <int> & <int> & <int> & <int> & <fct> & <fct> & <fct> & <fct> & <lgl>\\\\\n",
       "\\hline\n",
       "\t1 & 1000019 & 1000019 & Female & 47 & NA & NA & NA & 1 & NA & NA & NA & TRUE\\\\\n",
       "\t2 & 1000035 & 1000035 & Male   & 63 & NA & NA & NA & 1 & NA & NA & NA & TRUE\\\\\n",
       "\t3 & 1000198 & 1000198 & Female & 41 & NA & NA & NA & 1 & NA & NA & NA & TRUE\\\\\n",
       "\t4 & 1000304 & 1000304 & Female & 56 & NA & NA & NA & 1 & NA & NA & NA & TRUE\\\\\n",
       "\t5 & 1000396 & 1000396 & Male   & 48 & NA & NA & NA & 1 & NA & NA & NA & TRUE\\\\\n",
       "\t6 & 1000494 & 1000494 & Male   & 61 & NA & NA & NA & 1 & NA & NA & NA & TRUE\\\\\n",
       "\\end{tabular}\n"
      ],
      "text/markdown": [
       "\n",
       "A data.frame: 6 × 12\n",
       "\n",
       "| <!--/--> | IID &lt;int&gt; | FID &lt;int&gt; | f.22001.0.0 &lt;fct&gt; | f.21003.0.0 &lt;int&gt; | f.21003.1.0 &lt;int&gt; | f.21003.2.0 &lt;int&gt; | f.21003.3.0 &lt;int&gt; | f.2257.0.0_recode &lt;fct&gt; | f.2257.1.0_recode &lt;fct&gt; | f.2257.2.0_recode &lt;fct&gt; | f.2257.3.0_recode &lt;fct&gt; | cases &lt;lgl&gt; |\n",
       "|---|---|---|---|---|---|---|---|---|---|---|---|---|\n",
       "| 1 | 1000019 | 1000019 | Female | 47 | NA | NA | NA | 1 | NA | NA | NA | TRUE |\n",
       "| 2 | 1000035 | 1000035 | Male   | 63 | NA | NA | NA | 1 | NA | NA | NA | TRUE |\n",
       "| 3 | 1000198 | 1000198 | Female | 41 | NA | NA | NA | 1 | NA | NA | NA | TRUE |\n",
       "| 4 | 1000304 | 1000304 | Female | 56 | NA | NA | NA | 1 | NA | NA | NA | TRUE |\n",
       "| 5 | 1000396 | 1000396 | Male   | 48 | NA | NA | NA | 1 | NA | NA | NA | TRUE |\n",
       "| 6 | 1000494 | 1000494 | Male   | 61 | NA | NA | NA | 1 | NA | NA | NA | TRUE |\n",
       "\n"
      ],
      "text/plain": [
       "  IID     FID     f.22001.0.0 f.21003.0.0 f.21003.1.0 f.21003.2.0 f.21003.3.0\n",
       "1 1000019 1000019 Female      47          NA          NA          NA         \n",
       "2 1000035 1000035 Male        63          NA          NA          NA         \n",
       "3 1000198 1000198 Female      41          NA          NA          NA         \n",
       "4 1000304 1000304 Female      56          NA          NA          NA         \n",
       "5 1000396 1000396 Male        48          NA          NA          NA         \n",
       "6 1000494 1000494 Male        61          NA          NA          NA         \n",
       "  f.2257.0.0_recode f.2257.1.0_recode f.2257.2.0_recode f.2257.3.0_recode cases\n",
       "1 1                 NA                NA                NA                TRUE \n",
       "2 1                 NA                NA                NA                TRUE \n",
       "3 1                 NA                NA                NA                TRUE \n",
       "4 1                 NA                NA                NA                TRUE \n",
       "5 1                 NA                NA                NA                TRUE \n",
       "6 1                 NA                NA                NA                TRUE "
      ]
     },
     "metadata": {},
     "output_type": "display_data"
    },
    {
     "name": "stdout",
     "output_type": "stream",
     "text": [
      "71562 individuals are cases for f.2257"
     ]
    }
   ],
   "source": [
    "hearing_noise_cases <- hearing_noise %>% \n",
    "  filter(cases == TRUE)\n",
    "head(hearing_noise_cases)\n",
    "cat(dim(hearing_noise_cases)[1], \"individuals are cases for f.2257\")"
   ]
  },
  {
   "cell_type": "code",
   "execution_count": 300,
   "metadata": {
    "kernel": "R"
   },
   "outputs": [
    {
     "data": {
      "text/html": [
       "<table>\n",
       "<caption>A data.frame: 6 × 12</caption>\n",
       "<thead>\n",
       "\t<tr><th></th><th scope=col>IID</th><th scope=col>FID</th><th scope=col>f.22001.0.0</th><th scope=col>f.21003.0.0</th><th scope=col>f.21003.1.0</th><th scope=col>f.21003.2.0</th><th scope=col>f.21003.3.0</th><th scope=col>f.2257.0.0_recode</th><th scope=col>f.2257.1.0_recode</th><th scope=col>f.2257.2.0_recode</th><th scope=col>f.2257.3.0_recode</th><th scope=col>cases</th></tr>\n",
       "\t<tr><th></th><th scope=col>&lt;int&gt;</th><th scope=col>&lt;int&gt;</th><th scope=col>&lt;fct&gt;</th><th scope=col>&lt;int&gt;</th><th scope=col>&lt;int&gt;</th><th scope=col>&lt;int&gt;</th><th scope=col>&lt;int&gt;</th><th scope=col>&lt;fct&gt;</th><th scope=col>&lt;fct&gt;</th><th scope=col>&lt;fct&gt;</th><th scope=col>&lt;fct&gt;</th><th scope=col>&lt;lgl&gt;</th></tr>\n",
       "</thead>\n",
       "<tbody>\n",
       "\t<tr><th scope=row>1</th><td>1000078</td><td>1000078</td><td>Female</td><td>52</td><td>57</td><td>60</td><td>NA</td><td>0</td><td>0 </td><td>0 </td><td>NA</td><td>FALSE</td></tr>\n",
       "\t<tr><th scope=row>2</th><td>1000081</td><td>1000081</td><td>Male  </td><td>67</td><td>NA</td><td>NA</td><td>NA</td><td>0</td><td>NA</td><td>NA</td><td>NA</td><td>FALSE</td></tr>\n",
       "\t<tr><th scope=row>3</th><td>1000210</td><td>1000210</td><td>Male  </td><td>66</td><td>NA</td><td>NA</td><td>NA</td><td>0</td><td>NA</td><td>NA</td><td>NA</td><td>FALSE</td></tr>\n",
       "\t<tr><th scope=row>4</th><td>1000224</td><td>1000224</td><td>Female</td><td>58</td><td>NA</td><td>NA</td><td>NA</td><td>0</td><td>NA</td><td>NA</td><td>NA</td><td>FALSE</td></tr>\n",
       "\t<tr><th scope=row>5</th><td>1000236</td><td>1000236</td><td>Male  </td><td>61</td><td>NA</td><td>70</td><td>NA</td><td>0</td><td>NA</td><td>0 </td><td>NA</td><td>FALSE</td></tr>\n",
       "\t<tr><th scope=row>6</th><td>1000255</td><td>1000255</td><td>Female</td><td>51</td><td>NA</td><td>61</td><td>NA</td><td>0</td><td>NA</td><td>0 </td><td>NA</td><td>FALSE</td></tr>\n",
       "</tbody>\n",
       "</table>\n"
      ],
      "text/latex": [
       "A data.frame: 6 × 12\n",
       "\\begin{tabular}{r|llllllllllll}\n",
       "  & IID & FID & f.22001.0.0 & f.21003.0.0 & f.21003.1.0 & f.21003.2.0 & f.21003.3.0 & f.2257.0.0\\_recode & f.2257.1.0\\_recode & f.2257.2.0\\_recode & f.2257.3.0\\_recode & cases\\\\\n",
       "  & <int> & <int> & <fct> & <int> & <int> & <int> & <int> & <fct> & <fct> & <fct> & <fct> & <lgl>\\\\\n",
       "\\hline\n",
       "\t1 & 1000078 & 1000078 & Female & 52 & 57 & 60 & NA & 0 & 0  & 0  & NA & FALSE\\\\\n",
       "\t2 & 1000081 & 1000081 & Male   & 67 & NA & NA & NA & 0 & NA & NA & NA & FALSE\\\\\n",
       "\t3 & 1000210 & 1000210 & Male   & 66 & NA & NA & NA & 0 & NA & NA & NA & FALSE\\\\\n",
       "\t4 & 1000224 & 1000224 & Female & 58 & NA & NA & NA & 0 & NA & NA & NA & FALSE\\\\\n",
       "\t5 & 1000236 & 1000236 & Male   & 61 & NA & 70 & NA & 0 & NA & 0  & NA & FALSE\\\\\n",
       "\t6 & 1000255 & 1000255 & Female & 51 & NA & 61 & NA & 0 & NA & 0  & NA & FALSE\\\\\n",
       "\\end{tabular}\n"
      ],
      "text/markdown": [
       "\n",
       "A data.frame: 6 × 12\n",
       "\n",
       "| <!--/--> | IID &lt;int&gt; | FID &lt;int&gt; | f.22001.0.0 &lt;fct&gt; | f.21003.0.0 &lt;int&gt; | f.21003.1.0 &lt;int&gt; | f.21003.2.0 &lt;int&gt; | f.21003.3.0 &lt;int&gt; | f.2257.0.0_recode &lt;fct&gt; | f.2257.1.0_recode &lt;fct&gt; | f.2257.2.0_recode &lt;fct&gt; | f.2257.3.0_recode &lt;fct&gt; | cases &lt;lgl&gt; |\n",
       "|---|---|---|---|---|---|---|---|---|---|---|---|---|\n",
       "| 1 | 1000078 | 1000078 | Female | 52 | 57 | 60 | NA | 0 | 0  | 0  | NA | FALSE |\n",
       "| 2 | 1000081 | 1000081 | Male   | 67 | NA | NA | NA | 0 | NA | NA | NA | FALSE |\n",
       "| 3 | 1000210 | 1000210 | Male   | 66 | NA | NA | NA | 0 | NA | NA | NA | FALSE |\n",
       "| 4 | 1000224 | 1000224 | Female | 58 | NA | NA | NA | 0 | NA | NA | NA | FALSE |\n",
       "| 5 | 1000236 | 1000236 | Male   | 61 | NA | 70 | NA | 0 | NA | 0  | NA | FALSE |\n",
       "| 6 | 1000255 | 1000255 | Female | 51 | NA | 61 | NA | 0 | NA | 0  | NA | FALSE |\n",
       "\n"
      ],
      "text/plain": [
       "  IID     FID     f.22001.0.0 f.21003.0.0 f.21003.1.0 f.21003.2.0 f.21003.3.0\n",
       "1 1000078 1000078 Female      52          57          60          NA         \n",
       "2 1000081 1000081 Male        67          NA          NA          NA         \n",
       "3 1000210 1000210 Male        66          NA          NA          NA         \n",
       "4 1000224 1000224 Female      58          NA          NA          NA         \n",
       "5 1000236 1000236 Male        61          NA          70          NA         \n",
       "6 1000255 1000255 Female      51          NA          61          NA         \n",
       "  f.2257.0.0_recode f.2257.1.0_recode f.2257.2.0_recode f.2257.3.0_recode cases\n",
       "1 0                 0                 0                 NA                FALSE\n",
       "2 0                 NA                NA                NA                FALSE\n",
       "3 0                 NA                NA                NA                FALSE\n",
       "4 0                 NA                NA                NA                FALSE\n",
       "5 0                 NA                0                 NA                FALSE\n",
       "6 0                 NA                0                 NA                FALSE"
      ]
     },
     "metadata": {},
     "output_type": "display_data"
    },
    {
     "name": "stdout",
     "output_type": "stream",
     "text": [
      "115018 individuals are controls for f.2257"
     ]
    }
   ],
   "source": [
    "hearing_noise_controls <- hearing_noise %>% \n",
    "  filter(cases == FALSE)\n",
    "head(hearing_noise_controls)\n",
    "cat(dim(hearing_noise_controls)[1], \"individuals are controls for f.2257\")"
   ]
  },
  {
   "cell_type": "code",
   "execution_count": 114,
   "metadata": {
    "kernel": "R"
   },
   "outputs": [
    {
     "data": {
      "text/html": [
       "40858"
      ],
      "text/latex": [
       "40858"
      ],
      "text/markdown": [
       "40858"
      ],
      "text/plain": [
       "[1] 40858"
      ]
     },
     "metadata": {},
     "output_type": "display_data"
    }
   ],
   "source": [
    "dim(hearing_noise)[1]-210733 - 132872"
   ]
  },
  {
   "cell_type": "markdown",
   "metadata": {
    "kernel": "R"
   },
   "source": [
    "## f.2257 Recode cases=1 and controls=0"
   ]
  },
  {
   "cell_type": "code",
   "execution_count": 301,
   "metadata": {
    "kernel": "R"
   },
   "outputs": [
    {
     "data": {
      "text/html": [
       "<table>\n",
       "<caption>A data.frame: 10 × 13</caption>\n",
       "<thead>\n",
       "\t<tr><th></th><th scope=col>IID</th><th scope=col>FID</th><th scope=col>f.22001.0.0</th><th scope=col>f.21003.0.0</th><th scope=col>f.21003.1.0</th><th scope=col>f.21003.2.0</th><th scope=col>f.21003.3.0</th><th scope=col>f.2257.0.0_recode</th><th scope=col>f.2257.1.0_recode</th><th scope=col>f.2257.2.0_recode</th><th scope=col>f.2257.3.0_recode</th><th scope=col>cases</th><th scope=col>hearing_noise_cat</th></tr>\n",
       "\t<tr><th></th><th scope=col>&lt;int&gt;</th><th scope=col>&lt;int&gt;</th><th scope=col>&lt;fct&gt;</th><th scope=col>&lt;int&gt;</th><th scope=col>&lt;int&gt;</th><th scope=col>&lt;int&gt;</th><th scope=col>&lt;int&gt;</th><th scope=col>&lt;fct&gt;</th><th scope=col>&lt;fct&gt;</th><th scope=col>&lt;fct&gt;</th><th scope=col>&lt;fct&gt;</th><th scope=col>&lt;lgl&gt;</th><th scope=col>&lt;int&gt;</th></tr>\n",
       "</thead>\n",
       "<tbody>\n",
       "\t<tr><th scope=row>1</th><td>1000019</td><td>1000019</td><td>Female</td><td>47</td><td>NA</td><td>NA</td><td>NA</td><td>1</td><td>NA</td><td>NA</td><td>NA</td><td> TRUE</td><td>1</td></tr>\n",
       "\t<tr><th scope=row>2</th><td>1000035</td><td>1000035</td><td>Male  </td><td>63</td><td>NA</td><td>NA</td><td>NA</td><td>1</td><td>NA</td><td>NA</td><td>NA</td><td> TRUE</td><td>1</td></tr>\n",
       "\t<tr><th scope=row>3</th><td>1000078</td><td>1000078</td><td>Female</td><td>52</td><td>57</td><td>60</td><td>NA</td><td>0</td><td>0 </td><td>0 </td><td>NA</td><td>FALSE</td><td>0</td></tr>\n",
       "\t<tr><th scope=row>4</th><td>1000081</td><td>1000081</td><td>Male  </td><td>67</td><td>NA</td><td>NA</td><td>NA</td><td>0</td><td>NA</td><td>NA</td><td>NA</td><td>FALSE</td><td>0</td></tr>\n",
       "\t<tr><th scope=row>5</th><td>1000198</td><td>1000198</td><td>Female</td><td>41</td><td>NA</td><td>NA</td><td>NA</td><td>1</td><td>NA</td><td>NA</td><td>NA</td><td> TRUE</td><td>1</td></tr>\n",
       "\t<tr><th scope=row>6</th><td>1000210</td><td>1000210</td><td>Male  </td><td>66</td><td>NA</td><td>NA</td><td>NA</td><td>0</td><td>NA</td><td>NA</td><td>NA</td><td>FALSE</td><td>0</td></tr>\n",
       "\t<tr><th scope=row>7</th><td>1000224</td><td>1000224</td><td>Female</td><td>58</td><td>NA</td><td>NA</td><td>NA</td><td>0</td><td>NA</td><td>NA</td><td>NA</td><td>FALSE</td><td>0</td></tr>\n",
       "\t<tr><th scope=row>8</th><td>1000236</td><td>1000236</td><td>Male  </td><td>61</td><td>NA</td><td>70</td><td>NA</td><td>0</td><td>NA</td><td>0 </td><td>NA</td><td>FALSE</td><td>0</td></tr>\n",
       "\t<tr><th scope=row>9</th><td>1000255</td><td>1000255</td><td>Female</td><td>51</td><td>NA</td><td>61</td><td>NA</td><td>0</td><td>NA</td><td>0 </td><td>NA</td><td>FALSE</td><td>0</td></tr>\n",
       "\t<tr><th scope=row>10</th><td>1000272</td><td>1000272</td><td>Male  </td><td>43</td><td>NA</td><td>NA</td><td>NA</td><td>0</td><td>NA</td><td>NA</td><td>NA</td><td>FALSE</td><td>0</td></tr>\n",
       "</tbody>\n",
       "</table>\n"
      ],
      "text/latex": [
       "A data.frame: 10 × 13\n",
       "\\begin{tabular}{r|lllllllllllll}\n",
       "  & IID & FID & f.22001.0.0 & f.21003.0.0 & f.21003.1.0 & f.21003.2.0 & f.21003.3.0 & f.2257.0.0\\_recode & f.2257.1.0\\_recode & f.2257.2.0\\_recode & f.2257.3.0\\_recode & cases & hearing\\_noise\\_cat\\\\\n",
       "  & <int> & <int> & <fct> & <int> & <int> & <int> & <int> & <fct> & <fct> & <fct> & <fct> & <lgl> & <int>\\\\\n",
       "\\hline\n",
       "\t1 & 1000019 & 1000019 & Female & 47 & NA & NA & NA & 1 & NA & NA & NA &  TRUE & 1\\\\\n",
       "\t2 & 1000035 & 1000035 & Male   & 63 & NA & NA & NA & 1 & NA & NA & NA &  TRUE & 1\\\\\n",
       "\t3 & 1000078 & 1000078 & Female & 52 & 57 & 60 & NA & 0 & 0  & 0  & NA & FALSE & 0\\\\\n",
       "\t4 & 1000081 & 1000081 & Male   & 67 & NA & NA & NA & 0 & NA & NA & NA & FALSE & 0\\\\\n",
       "\t5 & 1000198 & 1000198 & Female & 41 & NA & NA & NA & 1 & NA & NA & NA &  TRUE & 1\\\\\n",
       "\t6 & 1000210 & 1000210 & Male   & 66 & NA & NA & NA & 0 & NA & NA & NA & FALSE & 0\\\\\n",
       "\t7 & 1000224 & 1000224 & Female & 58 & NA & NA & NA & 0 & NA & NA & NA & FALSE & 0\\\\\n",
       "\t8 & 1000236 & 1000236 & Male   & 61 & NA & 70 & NA & 0 & NA & 0  & NA & FALSE & 0\\\\\n",
       "\t9 & 1000255 & 1000255 & Female & 51 & NA & 61 & NA & 0 & NA & 0  & NA & FALSE & 0\\\\\n",
       "\t10 & 1000272 & 1000272 & Male   & 43 & NA & NA & NA & 0 & NA & NA & NA & FALSE & 0\\\\\n",
       "\\end{tabular}\n"
      ],
      "text/markdown": [
       "\n",
       "A data.frame: 10 × 13\n",
       "\n",
       "| <!--/--> | IID &lt;int&gt; | FID &lt;int&gt; | f.22001.0.0 &lt;fct&gt; | f.21003.0.0 &lt;int&gt; | f.21003.1.0 &lt;int&gt; | f.21003.2.0 &lt;int&gt; | f.21003.3.0 &lt;int&gt; | f.2257.0.0_recode &lt;fct&gt; | f.2257.1.0_recode &lt;fct&gt; | f.2257.2.0_recode &lt;fct&gt; | f.2257.3.0_recode &lt;fct&gt; | cases &lt;lgl&gt; | hearing_noise_cat &lt;int&gt; |\n",
       "|---|---|---|---|---|---|---|---|---|---|---|---|---|---|\n",
       "| 1 | 1000019 | 1000019 | Female | 47 | NA | NA | NA | 1 | NA | NA | NA |  TRUE | 1 |\n",
       "| 2 | 1000035 | 1000035 | Male   | 63 | NA | NA | NA | 1 | NA | NA | NA |  TRUE | 1 |\n",
       "| 3 | 1000078 | 1000078 | Female | 52 | 57 | 60 | NA | 0 | 0  | 0  | NA | FALSE | 0 |\n",
       "| 4 | 1000081 | 1000081 | Male   | 67 | NA | NA | NA | 0 | NA | NA | NA | FALSE | 0 |\n",
       "| 5 | 1000198 | 1000198 | Female | 41 | NA | NA | NA | 1 | NA | NA | NA |  TRUE | 1 |\n",
       "| 6 | 1000210 | 1000210 | Male   | 66 | NA | NA | NA | 0 | NA | NA | NA | FALSE | 0 |\n",
       "| 7 | 1000224 | 1000224 | Female | 58 | NA | NA | NA | 0 | NA | NA | NA | FALSE | 0 |\n",
       "| 8 | 1000236 | 1000236 | Male   | 61 | NA | 70 | NA | 0 | NA | 0  | NA | FALSE | 0 |\n",
       "| 9 | 1000255 | 1000255 | Female | 51 | NA | 61 | NA | 0 | NA | 0  | NA | FALSE | 0 |\n",
       "| 10 | 1000272 | 1000272 | Male   | 43 | NA | NA | NA | 0 | NA | NA | NA | FALSE | 0 |\n",
       "\n"
      ],
      "text/plain": [
       "   IID     FID     f.22001.0.0 f.21003.0.0 f.21003.1.0 f.21003.2.0 f.21003.3.0\n",
       "1  1000019 1000019 Female      47          NA          NA          NA         \n",
       "2  1000035 1000035 Male        63          NA          NA          NA         \n",
       "3  1000078 1000078 Female      52          57          60          NA         \n",
       "4  1000081 1000081 Male        67          NA          NA          NA         \n",
       "5  1000198 1000198 Female      41          NA          NA          NA         \n",
       "6  1000210 1000210 Male        66          NA          NA          NA         \n",
       "7  1000224 1000224 Female      58          NA          NA          NA         \n",
       "8  1000236 1000236 Male        61          NA          70          NA         \n",
       "9  1000255 1000255 Female      51          NA          61          NA         \n",
       "10 1000272 1000272 Male        43          NA          NA          NA         \n",
       "   f.2257.0.0_recode f.2257.1.0_recode f.2257.2.0_recode f.2257.3.0_recode\n",
       "1  1                 NA                NA                NA               \n",
       "2  1                 NA                NA                NA               \n",
       "3  0                 0                 0                 NA               \n",
       "4  0                 NA                NA                NA               \n",
       "5  1                 NA                NA                NA               \n",
       "6  0                 NA                NA                NA               \n",
       "7  0                 NA                NA                NA               \n",
       "8  0                 NA                0                 NA               \n",
       "9  0                 NA                0                 NA               \n",
       "10 0                 NA                NA                NA               \n",
       "   cases hearing_noise_cat\n",
       "1   TRUE 1                \n",
       "2   TRUE 1                \n",
       "3  FALSE 0                \n",
       "4  FALSE 0                \n",
       "5   TRUE 1                \n",
       "6  FALSE 0                \n",
       "7  FALSE 0                \n",
       "8  FALSE 0                \n",
       "9  FALSE 0                \n",
       "10 FALSE 0                "
      ]
     },
     "metadata": {},
     "output_type": "display_data"
    },
    {
     "data": {
      "text/html": [
       "0"
      ],
      "text/latex": [
       "0"
      ],
      "text/markdown": [
       "0"
      ],
      "text/plain": [
       "[1] 0"
      ]
     },
     "metadata": {},
     "output_type": "display_data"
    }
   ],
   "source": [
    "hearing_noise$hearing_noise_cat <- as.integer(as.logical(hearing_noise$cases))\n",
    "head(hearing_noise, 10)\n",
    "# Get the number of NAs\n",
    "length(which(is.na(hearing_noise$hearing_noise_cat)))"
   ]
  },
  {
   "cell_type": "markdown",
   "metadata": {
    "kernel": "R"
   },
   "source": [
    "## f.2257 Step 2: get the ages for hearing difficulty with background noise"
   ]
  },
  {
   "cell_type": "code",
   "execution_count": 302,
   "metadata": {
    "kernel": "R"
   },
   "outputs": [
    {
     "data": {
      "text/html": [
       "<table>\n",
       "<caption>A data.frame: 12 × 9</caption>\n",
       "<thead>\n",
       "\t<tr><th></th><th scope=col>IID</th><th scope=col>f.2257.0.0_recode</th><th scope=col>f.2257.1.0_recode</th><th scope=col>f.2257.2.0_recode</th><th scope=col>f.2257.3.0_recode</th><th scope=col>f.21003.0.0</th><th scope=col>f.21003.1.0</th><th scope=col>f.21003.2.0</th><th scope=col>f.21003.3.0</th></tr>\n",
       "\t<tr><th></th><th scope=col>&lt;int&gt;</th><th scope=col>&lt;fct&gt;</th><th scope=col>&lt;fct&gt;</th><th scope=col>&lt;fct&gt;</th><th scope=col>&lt;fct&gt;</th><th scope=col>&lt;int&gt;</th><th scope=col>&lt;int&gt;</th><th scope=col>&lt;int&gt;</th><th scope=col>&lt;int&gt;</th></tr>\n",
       "</thead>\n",
       "<tbody>\n",
       "\t<tr><th scope=row>1</th><td>1000019</td><td>1</td><td>NA</td><td>NA</td><td>NA</td><td>47</td><td>NA</td><td>NA</td><td>NA</td></tr>\n",
       "\t<tr><th scope=row>2</th><td>1000035</td><td>1</td><td>NA</td><td>NA</td><td>NA</td><td>63</td><td>NA</td><td>NA</td><td>NA</td></tr>\n",
       "\t<tr><th scope=row>3</th><td>1000198</td><td>1</td><td>NA</td><td>NA</td><td>NA</td><td>41</td><td>NA</td><td>NA</td><td>NA</td></tr>\n",
       "\t<tr><th scope=row>4</th><td>1000304</td><td>1</td><td>NA</td><td>NA</td><td>NA</td><td>56</td><td>NA</td><td>NA</td><td>NA</td></tr>\n",
       "\t<tr><th scope=row>5</th><td>1000396</td><td>1</td><td>NA</td><td>NA</td><td>NA</td><td>48</td><td>NA</td><td>NA</td><td>NA</td></tr>\n",
       "\t<tr><th scope=row>6</th><td>1000494</td><td>1</td><td>NA</td><td>NA</td><td>NA</td><td>61</td><td>NA</td><td>NA</td><td>NA</td></tr>\n",
       "\t<tr><th scope=row>7</th><td>1000551</td><td>1</td><td>NA</td><td>NA</td><td>NA</td><td>68</td><td>NA</td><td>NA</td><td>NA</td></tr>\n",
       "\t<tr><th scope=row>8</th><td>1000817</td><td>1</td><td>NA</td><td>NA</td><td>NA</td><td>58</td><td>NA</td><td>NA</td><td>NA</td></tr>\n",
       "\t<tr><th scope=row>9</th><td>1000875</td><td>1</td><td>NA</td><td>NA</td><td>NA</td><td>59</td><td>NA</td><td>NA</td><td>NA</td></tr>\n",
       "\t<tr><th scope=row>10</th><td>1000988</td><td>1</td><td>NA</td><td>NA</td><td>NA</td><td>65</td><td>NA</td><td>NA</td><td>NA</td></tr>\n",
       "\t<tr><th scope=row>11</th><td>1001076</td><td>1</td><td>NA</td><td>NA</td><td>NA</td><td>69</td><td>NA</td><td>NA</td><td>NA</td></tr>\n",
       "\t<tr><th scope=row>12</th><td>1001080</td><td>1</td><td>NA</td><td>NA</td><td>NA</td><td>62</td><td>NA</td><td>NA</td><td>NA</td></tr>\n",
       "</tbody>\n",
       "</table>\n"
      ],
      "text/latex": [
       "A data.frame: 12 × 9\n",
       "\\begin{tabular}{r|lllllllll}\n",
       "  & IID & f.2257.0.0\\_recode & f.2257.1.0\\_recode & f.2257.2.0\\_recode & f.2257.3.0\\_recode & f.21003.0.0 & f.21003.1.0 & f.21003.2.0 & f.21003.3.0\\\\\n",
       "  & <int> & <fct> & <fct> & <fct> & <fct> & <int> & <int> & <int> & <int>\\\\\n",
       "\\hline\n",
       "\t1 & 1000019 & 1 & NA & NA & NA & 47 & NA & NA & NA\\\\\n",
       "\t2 & 1000035 & 1 & NA & NA & NA & 63 & NA & NA & NA\\\\\n",
       "\t3 & 1000198 & 1 & NA & NA & NA & 41 & NA & NA & NA\\\\\n",
       "\t4 & 1000304 & 1 & NA & NA & NA & 56 & NA & NA & NA\\\\\n",
       "\t5 & 1000396 & 1 & NA & NA & NA & 48 & NA & NA & NA\\\\\n",
       "\t6 & 1000494 & 1 & NA & NA & NA & 61 & NA & NA & NA\\\\\n",
       "\t7 & 1000551 & 1 & NA & NA & NA & 68 & NA & NA & NA\\\\\n",
       "\t8 & 1000817 & 1 & NA & NA & NA & 58 & NA & NA & NA\\\\\n",
       "\t9 & 1000875 & 1 & NA & NA & NA & 59 & NA & NA & NA\\\\\n",
       "\t10 & 1000988 & 1 & NA & NA & NA & 65 & NA & NA & NA\\\\\n",
       "\t11 & 1001076 & 1 & NA & NA & NA & 69 & NA & NA & NA\\\\\n",
       "\t12 & 1001080 & 1 & NA & NA & NA & 62 & NA & NA & NA\\\\\n",
       "\\end{tabular}\n"
      ],
      "text/markdown": [
       "\n",
       "A data.frame: 12 × 9\n",
       "\n",
       "| <!--/--> | IID &lt;int&gt; | f.2257.0.0_recode &lt;fct&gt; | f.2257.1.0_recode &lt;fct&gt; | f.2257.2.0_recode &lt;fct&gt; | f.2257.3.0_recode &lt;fct&gt; | f.21003.0.0 &lt;int&gt; | f.21003.1.0 &lt;int&gt; | f.21003.2.0 &lt;int&gt; | f.21003.3.0 &lt;int&gt; |\n",
       "|---|---|---|---|---|---|---|---|---|---|\n",
       "| 1 | 1000019 | 1 | NA | NA | NA | 47 | NA | NA | NA |\n",
       "| 2 | 1000035 | 1 | NA | NA | NA | 63 | NA | NA | NA |\n",
       "| 3 | 1000198 | 1 | NA | NA | NA | 41 | NA | NA | NA |\n",
       "| 4 | 1000304 | 1 | NA | NA | NA | 56 | NA | NA | NA |\n",
       "| 5 | 1000396 | 1 | NA | NA | NA | 48 | NA | NA | NA |\n",
       "| 6 | 1000494 | 1 | NA | NA | NA | 61 | NA | NA | NA |\n",
       "| 7 | 1000551 | 1 | NA | NA | NA | 68 | NA | NA | NA |\n",
       "| 8 | 1000817 | 1 | NA | NA | NA | 58 | NA | NA | NA |\n",
       "| 9 | 1000875 | 1 | NA | NA | NA | 59 | NA | NA | NA |\n",
       "| 10 | 1000988 | 1 | NA | NA | NA | 65 | NA | NA | NA |\n",
       "| 11 | 1001076 | 1 | NA | NA | NA | 69 | NA | NA | NA |\n",
       "| 12 | 1001080 | 1 | NA | NA | NA | 62 | NA | NA | NA |\n",
       "\n"
      ],
      "text/plain": [
       "   IID     f.2257.0.0_recode f.2257.1.0_recode f.2257.2.0_recode\n",
       "1  1000019 1                 NA                NA               \n",
       "2  1000035 1                 NA                NA               \n",
       "3  1000198 1                 NA                NA               \n",
       "4  1000304 1                 NA                NA               \n",
       "5  1000396 1                 NA                NA               \n",
       "6  1000494 1                 NA                NA               \n",
       "7  1000551 1                 NA                NA               \n",
       "8  1000817 1                 NA                NA               \n",
       "9  1000875 1                 NA                NA               \n",
       "10 1000988 1                 NA                NA               \n",
       "11 1001076 1                 NA                NA               \n",
       "12 1001080 1                 NA                NA               \n",
       "   f.2257.3.0_recode f.21003.0.0 f.21003.1.0 f.21003.2.0 f.21003.3.0\n",
       "1  NA                47          NA          NA          NA         \n",
       "2  NA                63          NA          NA          NA         \n",
       "3  NA                41          NA          NA          NA         \n",
       "4  NA                56          NA          NA          NA         \n",
       "5  NA                48          NA          NA          NA         \n",
       "6  NA                61          NA          NA          NA         \n",
       "7  NA                68          NA          NA          NA         \n",
       "8  NA                58          NA          NA          NA         \n",
       "9  NA                59          NA          NA          NA         \n",
       "10 NA                65          NA          NA          NA         \n",
       "11 NA                69          NA          NA          NA         \n",
       "12 NA                62          NA          NA          NA         "
      ]
     },
     "metadata": {},
     "output_type": "display_data"
    }
   ],
   "source": [
    "# Get the subset data of cases\n",
    "noise_age_cases = hearing_noise %>% \n",
    "  filter(hearing_noise_cat==\"1\")  %>%\n",
    "  select(IID, f.2257.0.0_recode, f.2257.1.0_recode, f.2257.2.0_recode, f.2257.3.0_recode, f.21003.0.0, f.21003.1.0, f.21003.2.0, f.21003.3.0)\n",
    "head(noise_age_cases,12)"
   ]
  },
  {
   "cell_type": "code",
   "execution_count": 303,
   "metadata": {
    "kernel": "R"
   },
   "outputs": [
    {
     "data": {
      "text/html": [
       "<table>\n",
       "<caption>A data.frame: 6 × 10</caption>\n",
       "<thead>\n",
       "\t<tr><th></th><th scope=col>IID</th><th scope=col>f.2257.0.0_recode</th><th scope=col>f.2257.1.0_recode</th><th scope=col>f.2257.2.0_recode</th><th scope=col>f.2257.3.0_recode</th><th scope=col>f.21003.0.0</th><th scope=col>f.21003.1.0</th><th scope=col>f.21003.2.0</th><th scope=col>f.21003.3.0</th><th scope=col>visit_idx</th></tr>\n",
       "\t<tr><th></th><th scope=col>&lt;int&gt;</th><th scope=col>&lt;fct&gt;</th><th scope=col>&lt;fct&gt;</th><th scope=col>&lt;fct&gt;</th><th scope=col>&lt;fct&gt;</th><th scope=col>&lt;int&gt;</th><th scope=col>&lt;int&gt;</th><th scope=col>&lt;int&gt;</th><th scope=col>&lt;int&gt;</th><th scope=col>&lt;list&gt;</th></tr>\n",
       "</thead>\n",
       "<tbody>\n",
       "\t<tr><th scope=row>1</th><td>1000019</td><td>1</td><td>NA</td><td>NA</td><td>NA</td><td>47</td><td>NA</td><td>NA</td><td>NA</td><td>2</td></tr>\n",
       "\t<tr><th scope=row>2</th><td>1000035</td><td>1</td><td>NA</td><td>NA</td><td>NA</td><td>63</td><td>NA</td><td>NA</td><td>NA</td><td>2</td></tr>\n",
       "\t<tr><th scope=row>3</th><td>1000198</td><td>1</td><td>NA</td><td>NA</td><td>NA</td><td>41</td><td>NA</td><td>NA</td><td>NA</td><td>2</td></tr>\n",
       "\t<tr><th scope=row>4</th><td>1000304</td><td>1</td><td>NA</td><td>NA</td><td>NA</td><td>56</td><td>NA</td><td>NA</td><td>NA</td><td>2</td></tr>\n",
       "\t<tr><th scope=row>5</th><td>1000396</td><td>1</td><td>NA</td><td>NA</td><td>NA</td><td>48</td><td>NA</td><td>NA</td><td>NA</td><td>2</td></tr>\n",
       "\t<tr><th scope=row>6</th><td>1000494</td><td>1</td><td>NA</td><td>NA</td><td>NA</td><td>61</td><td>NA</td><td>NA</td><td>NA</td><td>2</td></tr>\n",
       "</tbody>\n",
       "</table>\n"
      ],
      "text/latex": [
       "A data.frame: 6 × 10\n",
       "\\begin{tabular}{r|llllllllll}\n",
       "  & IID & f.2257.0.0\\_recode & f.2257.1.0\\_recode & f.2257.2.0\\_recode & f.2257.3.0\\_recode & f.21003.0.0 & f.21003.1.0 & f.21003.2.0 & f.21003.3.0 & visit\\_idx\\\\\n",
       "  & <int> & <fct> & <fct> & <fct> & <fct> & <int> & <int> & <int> & <int> & <list>\\\\\n",
       "\\hline\n",
       "\t1 & 1000019 & 1 & NA & NA & NA & 47 & NA & NA & NA & 2\\\\\n",
       "\t2 & 1000035 & 1 & NA & NA & NA & 63 & NA & NA & NA & 2\\\\\n",
       "\t3 & 1000198 & 1 & NA & NA & NA & 41 & NA & NA & NA & 2\\\\\n",
       "\t4 & 1000304 & 1 & NA & NA & NA & 56 & NA & NA & NA & 2\\\\\n",
       "\t5 & 1000396 & 1 & NA & NA & NA & 48 & NA & NA & NA & 2\\\\\n",
       "\t6 & 1000494 & 1 & NA & NA & NA & 61 & NA & NA & NA & 2\\\\\n",
       "\\end{tabular}\n"
      ],
      "text/markdown": [
       "\n",
       "A data.frame: 6 × 10\n",
       "\n",
       "| <!--/--> | IID &lt;int&gt; | f.2257.0.0_recode &lt;fct&gt; | f.2257.1.0_recode &lt;fct&gt; | f.2257.2.0_recode &lt;fct&gt; | f.2257.3.0_recode &lt;fct&gt; | f.21003.0.0 &lt;int&gt; | f.21003.1.0 &lt;int&gt; | f.21003.2.0 &lt;int&gt; | f.21003.3.0 &lt;int&gt; | visit_idx &lt;list&gt; |\n",
       "|---|---|---|---|---|---|---|---|---|---|---|\n",
       "| 1 | 1000019 | 1 | NA | NA | NA | 47 | NA | NA | NA | 2 |\n",
       "| 2 | 1000035 | 1 | NA | NA | NA | 63 | NA | NA | NA | 2 |\n",
       "| 3 | 1000198 | 1 | NA | NA | NA | 41 | NA | NA | NA | 2 |\n",
       "| 4 | 1000304 | 1 | NA | NA | NA | 56 | NA | NA | NA | 2 |\n",
       "| 5 | 1000396 | 1 | NA | NA | NA | 48 | NA | NA | NA | 2 |\n",
       "| 6 | 1000494 | 1 | NA | NA | NA | 61 | NA | NA | NA | 2 |\n",
       "\n"
      ],
      "text/plain": [
       "  IID     f.2257.0.0_recode f.2257.1.0_recode f.2257.2.0_recode\n",
       "1 1000019 1                 NA                NA               \n",
       "2 1000035 1                 NA                NA               \n",
       "3 1000198 1                 NA                NA               \n",
       "4 1000304 1                 NA                NA               \n",
       "5 1000396 1                 NA                NA               \n",
       "6 1000494 1                 NA                NA               \n",
       "  f.2257.3.0_recode f.21003.0.0 f.21003.1.0 f.21003.2.0 f.21003.3.0 visit_idx\n",
       "1 NA                47          NA          NA          NA          2        \n",
       "2 NA                63          NA          NA          NA          2        \n",
       "3 NA                41          NA          NA          NA          2        \n",
       "4 NA                56          NA          NA          NA          2        \n",
       "5 NA                48          NA          NA          NA          2        \n",
       "6 NA                61          NA          NA          NA          2        "
      ]
     },
     "metadata": {},
     "output_type": "display_data"
    }
   ],
   "source": [
    "# Get the # of column where first replied Yes:\n",
    "noise_age_cases$visit_idx = apply(noise_age_cases, 1, function(x) unlist(which(x == '1')))\n",
    "head(noise_age_cases)"
   ]
  },
  {
   "cell_type": "code",
   "execution_count": 304,
   "metadata": {
    "kernel": "R"
   },
   "outputs": [
    {
     "data": {
      "text/html": [
       "<table>\n",
       "<caption>A data.frame: 6 × 11</caption>\n",
       "<thead>\n",
       "\t<tr><th></th><th scope=col>IID</th><th scope=col>f.2257.0.0_recode</th><th scope=col>f.2257.1.0_recode</th><th scope=col>f.2257.2.0_recode</th><th scope=col>f.2257.3.0_recode</th><th scope=col>f.21003.0.0</th><th scope=col>f.21003.1.0</th><th scope=col>f.21003.2.0</th><th scope=col>f.21003.3.0</th><th scope=col>visit_idx</th><th scope=col>age_final_noise</th></tr>\n",
       "\t<tr><th></th><th scope=col>&lt;int&gt;</th><th scope=col>&lt;fct&gt;</th><th scope=col>&lt;fct&gt;</th><th scope=col>&lt;fct&gt;</th><th scope=col>&lt;fct&gt;</th><th scope=col>&lt;int&gt;</th><th scope=col>&lt;int&gt;</th><th scope=col>&lt;int&gt;</th><th scope=col>&lt;int&gt;</th><th scope=col>&lt;list&gt;</th><th scope=col>&lt;int&gt;</th></tr>\n",
       "</thead>\n",
       "<tbody>\n",
       "\t<tr><th scope=row>1</th><td>1000019</td><td>1</td><td>NA</td><td>NA</td><td>NA</td><td>47</td><td>NA</td><td>NA</td><td>NA</td><td>2</td><td>47</td></tr>\n",
       "\t<tr><th scope=row>2</th><td>1000035</td><td>1</td><td>NA</td><td>NA</td><td>NA</td><td>63</td><td>NA</td><td>NA</td><td>NA</td><td>2</td><td>63</td></tr>\n",
       "\t<tr><th scope=row>3</th><td>1000198</td><td>1</td><td>NA</td><td>NA</td><td>NA</td><td>41</td><td>NA</td><td>NA</td><td>NA</td><td>2</td><td>41</td></tr>\n",
       "\t<tr><th scope=row>4</th><td>1000304</td><td>1</td><td>NA</td><td>NA</td><td>NA</td><td>56</td><td>NA</td><td>NA</td><td>NA</td><td>2</td><td>56</td></tr>\n",
       "\t<tr><th scope=row>5</th><td>1000396</td><td>1</td><td>NA</td><td>NA</td><td>NA</td><td>48</td><td>NA</td><td>NA</td><td>NA</td><td>2</td><td>48</td></tr>\n",
       "\t<tr><th scope=row>6</th><td>1000494</td><td>1</td><td>NA</td><td>NA</td><td>NA</td><td>61</td><td>NA</td><td>NA</td><td>NA</td><td>2</td><td>61</td></tr>\n",
       "</tbody>\n",
       "</table>\n"
      ],
      "text/latex": [
       "A data.frame: 6 × 11\n",
       "\\begin{tabular}{r|lllllllllll}\n",
       "  & IID & f.2257.0.0\\_recode & f.2257.1.0\\_recode & f.2257.2.0\\_recode & f.2257.3.0\\_recode & f.21003.0.0 & f.21003.1.0 & f.21003.2.0 & f.21003.3.0 & visit\\_idx & age\\_final\\_noise\\\\\n",
       "  & <int> & <fct> & <fct> & <fct> & <fct> & <int> & <int> & <int> & <int> & <list> & <int>\\\\\n",
       "\\hline\n",
       "\t1 & 1000019 & 1 & NA & NA & NA & 47 & NA & NA & NA & 2 & 47\\\\\n",
       "\t2 & 1000035 & 1 & NA & NA & NA & 63 & NA & NA & NA & 2 & 63\\\\\n",
       "\t3 & 1000198 & 1 & NA & NA & NA & 41 & NA & NA & NA & 2 & 41\\\\\n",
       "\t4 & 1000304 & 1 & NA & NA & NA & 56 & NA & NA & NA & 2 & 56\\\\\n",
       "\t5 & 1000396 & 1 & NA & NA & NA & 48 & NA & NA & NA & 2 & 48\\\\\n",
       "\t6 & 1000494 & 1 & NA & NA & NA & 61 & NA & NA & NA & 2 & 61\\\\\n",
       "\\end{tabular}\n"
      ],
      "text/markdown": [
       "\n",
       "A data.frame: 6 × 11\n",
       "\n",
       "| <!--/--> | IID &lt;int&gt; | f.2257.0.0_recode &lt;fct&gt; | f.2257.1.0_recode &lt;fct&gt; | f.2257.2.0_recode &lt;fct&gt; | f.2257.3.0_recode &lt;fct&gt; | f.21003.0.0 &lt;int&gt; | f.21003.1.0 &lt;int&gt; | f.21003.2.0 &lt;int&gt; | f.21003.3.0 &lt;int&gt; | visit_idx &lt;list&gt; | age_final_noise &lt;int&gt; |\n",
       "|---|---|---|---|---|---|---|---|---|---|---|---|\n",
       "| 1 | 1000019 | 1 | NA | NA | NA | 47 | NA | NA | NA | 2 | 47 |\n",
       "| 2 | 1000035 | 1 | NA | NA | NA | 63 | NA | NA | NA | 2 | 63 |\n",
       "| 3 | 1000198 | 1 | NA | NA | NA | 41 | NA | NA | NA | 2 | 41 |\n",
       "| 4 | 1000304 | 1 | NA | NA | NA | 56 | NA | NA | NA | 2 | 56 |\n",
       "| 5 | 1000396 | 1 | NA | NA | NA | 48 | NA | NA | NA | 2 | 48 |\n",
       "| 6 | 1000494 | 1 | NA | NA | NA | 61 | NA | NA | NA | 2 | 61 |\n",
       "\n"
      ],
      "text/plain": [
       "  IID     f.2257.0.0_recode f.2257.1.0_recode f.2257.2.0_recode\n",
       "1 1000019 1                 NA                NA               \n",
       "2 1000035 1                 NA                NA               \n",
       "3 1000198 1                 NA                NA               \n",
       "4 1000304 1                 NA                NA               \n",
       "5 1000396 1                 NA                NA               \n",
       "6 1000494 1                 NA                NA               \n",
       "  f.2257.3.0_recode f.21003.0.0 f.21003.1.0 f.21003.2.0 f.21003.3.0 visit_idx\n",
       "1 NA                47          NA          NA          NA          2        \n",
       "2 NA                63          NA          NA          NA          2        \n",
       "3 NA                41          NA          NA          NA          2        \n",
       "4 NA                56          NA          NA          NA          2        \n",
       "5 NA                48          NA          NA          NA          2        \n",
       "6 NA                61          NA          NA          NA          2        \n",
       "  age_final_noise\n",
       "1 47             \n",
       "2 63             \n",
       "3 41             \n",
       "4 56             \n",
       "5 48             \n",
       "6 61             "
      ]
     },
     "metadata": {},
     "output_type": "display_data"
    },
    {
     "data": {
      "text/plain": [
       "   Min. 1st Qu.  Median    Mean 3rd Qu.    Max. \n",
       "  40.00   53.00   60.00   58.23   65.00   82.00 "
      ]
     },
     "metadata": {},
     "output_type": "display_data"
    }
   ],
   "source": [
    "# Define offset:\n",
    "# offset: refers to the # of columns between the first age column (i.e.f.21003.0.0) and the first recode column (i.e.f.2257.0.0_recode)\n",
    "offset = which(colnames(noise_age_cases) == 'f.21003.0.0') - which(colnames(noise_age_cases) == 'f.2257.0.0_recode')\n",
    "\n",
    "# Define the function to extract the first time they said yes for cases \n",
    "f=get_age_func <- function(x) {\n",
    "  visit_index=x[which(colnames(noise_age_cases)==\"visit_idx\")]\n",
    "  index=min(unlist(visit_index))+offset\n",
    "  age=x[index]\n",
    "  final_age=unlist(age)\n",
    "  if(is.null(final_age))\n",
    "  {final_age<-NA}\n",
    "  return(final_age)\n",
    "}\n",
    "\n",
    "# Get the final age for cases\n",
    "noise_age_cases$age_final_noise = apply(noise_age_cases, 1, f)\n",
    "\n",
    "# Show first 6 rows\n",
    "head(noise_age_cases)\n",
    "summary(noise_age_cases$age_final_noise)"
   ]
  },
  {
   "cell_type": "code",
   "execution_count": 305,
   "metadata": {
    "kernel": "R"
   },
   "outputs": [
    {
     "data": {
      "text/html": [
       "<table>\n",
       "<caption>A data.frame: 6 × 9</caption>\n",
       "<thead>\n",
       "\t<tr><th></th><th scope=col>IID</th><th scope=col>f.2257.0.0_recode</th><th scope=col>f.2257.1.0_recode</th><th scope=col>f.2257.2.0_recode</th><th scope=col>f.2257.3.0_recode</th><th scope=col>f.21003.0.0</th><th scope=col>f.21003.1.0</th><th scope=col>f.21003.2.0</th><th scope=col>f.21003.3.0</th></tr>\n",
       "\t<tr><th></th><th scope=col>&lt;int&gt;</th><th scope=col>&lt;fct&gt;</th><th scope=col>&lt;fct&gt;</th><th scope=col>&lt;fct&gt;</th><th scope=col>&lt;fct&gt;</th><th scope=col>&lt;int&gt;</th><th scope=col>&lt;int&gt;</th><th scope=col>&lt;int&gt;</th><th scope=col>&lt;int&gt;</th></tr>\n",
       "</thead>\n",
       "<tbody>\n",
       "\t<tr><th scope=row>1</th><td>1000078</td><td>0</td><td>0 </td><td>0 </td><td>NA</td><td>52</td><td>57</td><td>60</td><td>NA</td></tr>\n",
       "\t<tr><th scope=row>2</th><td>1000081</td><td>0</td><td>NA</td><td>NA</td><td>NA</td><td>67</td><td>NA</td><td>NA</td><td>NA</td></tr>\n",
       "\t<tr><th scope=row>3</th><td>1000210</td><td>0</td><td>NA</td><td>NA</td><td>NA</td><td>66</td><td>NA</td><td>NA</td><td>NA</td></tr>\n",
       "\t<tr><th scope=row>4</th><td>1000224</td><td>0</td><td>NA</td><td>NA</td><td>NA</td><td>58</td><td>NA</td><td>NA</td><td>NA</td></tr>\n",
       "\t<tr><th scope=row>5</th><td>1000236</td><td>0</td><td>NA</td><td>0 </td><td>NA</td><td>61</td><td>NA</td><td>70</td><td>NA</td></tr>\n",
       "\t<tr><th scope=row>6</th><td>1000255</td><td>0</td><td>NA</td><td>0 </td><td>NA</td><td>51</td><td>NA</td><td>61</td><td>NA</td></tr>\n",
       "</tbody>\n",
       "</table>\n"
      ],
      "text/latex": [
       "A data.frame: 6 × 9\n",
       "\\begin{tabular}{r|lllllllll}\n",
       "  & IID & f.2257.0.0\\_recode & f.2257.1.0\\_recode & f.2257.2.0\\_recode & f.2257.3.0\\_recode & f.21003.0.0 & f.21003.1.0 & f.21003.2.0 & f.21003.3.0\\\\\n",
       "  & <int> & <fct> & <fct> & <fct> & <fct> & <int> & <int> & <int> & <int>\\\\\n",
       "\\hline\n",
       "\t1 & 1000078 & 0 & 0  & 0  & NA & 52 & 57 & 60 & NA\\\\\n",
       "\t2 & 1000081 & 0 & NA & NA & NA & 67 & NA & NA & NA\\\\\n",
       "\t3 & 1000210 & 0 & NA & NA & NA & 66 & NA & NA & NA\\\\\n",
       "\t4 & 1000224 & 0 & NA & NA & NA & 58 & NA & NA & NA\\\\\n",
       "\t5 & 1000236 & 0 & NA & 0  & NA & 61 & NA & 70 & NA\\\\\n",
       "\t6 & 1000255 & 0 & NA & 0  & NA & 51 & NA & 61 & NA\\\\\n",
       "\\end{tabular}\n"
      ],
      "text/markdown": [
       "\n",
       "A data.frame: 6 × 9\n",
       "\n",
       "| <!--/--> | IID &lt;int&gt; | f.2257.0.0_recode &lt;fct&gt; | f.2257.1.0_recode &lt;fct&gt; | f.2257.2.0_recode &lt;fct&gt; | f.2257.3.0_recode &lt;fct&gt; | f.21003.0.0 &lt;int&gt; | f.21003.1.0 &lt;int&gt; | f.21003.2.0 &lt;int&gt; | f.21003.3.0 &lt;int&gt; |\n",
       "|---|---|---|---|---|---|---|---|---|---|\n",
       "| 1 | 1000078 | 0 | 0  | 0  | NA | 52 | 57 | 60 | NA |\n",
       "| 2 | 1000081 | 0 | NA | NA | NA | 67 | NA | NA | NA |\n",
       "| 3 | 1000210 | 0 | NA | NA | NA | 66 | NA | NA | NA |\n",
       "| 4 | 1000224 | 0 | NA | NA | NA | 58 | NA | NA | NA |\n",
       "| 5 | 1000236 | 0 | NA | 0  | NA | 61 | NA | 70 | NA |\n",
       "| 6 | 1000255 | 0 | NA | 0  | NA | 51 | NA | 61 | NA |\n",
       "\n"
      ],
      "text/plain": [
       "  IID     f.2257.0.0_recode f.2257.1.0_recode f.2257.2.0_recode\n",
       "1 1000078 0                 0                 0                \n",
       "2 1000081 0                 NA                NA               \n",
       "3 1000210 0                 NA                NA               \n",
       "4 1000224 0                 NA                NA               \n",
       "5 1000236 0                 NA                0                \n",
       "6 1000255 0                 NA                0                \n",
       "  f.2257.3.0_recode f.21003.0.0 f.21003.1.0 f.21003.2.0 f.21003.3.0\n",
       "1 NA                52          57          60          NA         \n",
       "2 NA                67          NA          NA          NA         \n",
       "3 NA                66          NA          NA          NA         \n",
       "4 NA                58          NA          NA          NA         \n",
       "5 NA                61          NA          70          NA         \n",
       "6 NA                51          NA          61          NA         "
      ]
     },
     "metadata": {},
     "output_type": "display_data"
    }
   ],
   "source": [
    "### Extract age for Control (2257)\n",
    "noise_age_control <- hearing_noise %>% \n",
    "  filter(hearing_noise_cat == \"0\") %>%\n",
    "  select(IID, f.2257.0.0_recode, f.2257.1.0_recode, f.2257.2.0_recode, f.2257.3.0_recode, f.21003.0.0, f.21003.1.0, f.21003.2.0, f.21003.3.0)\n",
    "head(noise_age_control)"
   ]
  },
  {
   "cell_type": "code",
   "execution_count": 306,
   "metadata": {
    "kernel": "R"
   },
   "outputs": [
    {
     "data": {
      "text/html": [
       "<table>\n",
       "<caption>A data.frame: 6 × 11</caption>\n",
       "<thead>\n",
       "\t<tr><th></th><th scope=col>IID</th><th scope=col>f.2257.0.0_recode</th><th scope=col>f.2257.1.0_recode</th><th scope=col>f.2257.2.0_recode</th><th scope=col>f.2257.3.0_recode</th><th scope=col>f.21003.0.0</th><th scope=col>f.21003.1.0</th><th scope=col>f.21003.2.0</th><th scope=col>f.21003.3.0</th><th scope=col>visit_idx</th><th scope=col>age_final_noise</th></tr>\n",
       "\t<tr><th></th><th scope=col>&lt;int&gt;</th><th scope=col>&lt;fct&gt;</th><th scope=col>&lt;fct&gt;</th><th scope=col>&lt;fct&gt;</th><th scope=col>&lt;fct&gt;</th><th scope=col>&lt;int&gt;</th><th scope=col>&lt;int&gt;</th><th scope=col>&lt;int&gt;</th><th scope=col>&lt;int&gt;</th><th scope=col>&lt;list&gt;</th><th scope=col>&lt;int&gt;</th></tr>\n",
       "</thead>\n",
       "<tbody>\n",
       "\t<tr><th scope=row>1</th><td>1000078</td><td>0</td><td>0 </td><td>0 </td><td>NA</td><td>52</td><td>57</td><td>60</td><td>NA</td><td>2, 3, 4</td><td>60</td></tr>\n",
       "\t<tr><th scope=row>2</th><td>1000081</td><td>0</td><td>NA</td><td>NA</td><td>NA</td><td>67</td><td>NA</td><td>NA</td><td>NA</td><td>2</td><td>67</td></tr>\n",
       "\t<tr><th scope=row>3</th><td>1000210</td><td>0</td><td>NA</td><td>NA</td><td>NA</td><td>66</td><td>NA</td><td>NA</td><td>NA</td><td>2</td><td>66</td></tr>\n",
       "\t<tr><th scope=row>4</th><td>1000224</td><td>0</td><td>NA</td><td>NA</td><td>NA</td><td>58</td><td>NA</td><td>NA</td><td>NA</td><td>2</td><td>58</td></tr>\n",
       "\t<tr><th scope=row>5</th><td>1000236</td><td>0</td><td>NA</td><td>0 </td><td>NA</td><td>61</td><td>NA</td><td>70</td><td>NA</td><td>2, 4</td><td>70</td></tr>\n",
       "\t<tr><th scope=row>6</th><td>1000255</td><td>0</td><td>NA</td><td>0 </td><td>NA</td><td>51</td><td>NA</td><td>61</td><td>NA</td><td>2, 4</td><td>61</td></tr>\n",
       "</tbody>\n",
       "</table>\n"
      ],
      "text/latex": [
       "A data.frame: 6 × 11\n",
       "\\begin{tabular}{r|lllllllllll}\n",
       "  & IID & f.2257.0.0\\_recode & f.2257.1.0\\_recode & f.2257.2.0\\_recode & f.2257.3.0\\_recode & f.21003.0.0 & f.21003.1.0 & f.21003.2.0 & f.21003.3.0 & visit\\_idx & age\\_final\\_noise\\\\\n",
       "  & <int> & <fct> & <fct> & <fct> & <fct> & <int> & <int> & <int> & <int> & <list> & <int>\\\\\n",
       "\\hline\n",
       "\t1 & 1000078 & 0 & 0  & 0  & NA & 52 & 57 & 60 & NA & 2, 3, 4 & 60\\\\\n",
       "\t2 & 1000081 & 0 & NA & NA & NA & 67 & NA & NA & NA & 2 & 67\\\\\n",
       "\t3 & 1000210 & 0 & NA & NA & NA & 66 & NA & NA & NA & 2 & 66\\\\\n",
       "\t4 & 1000224 & 0 & NA & NA & NA & 58 & NA & NA & NA & 2 & 58\\\\\n",
       "\t5 & 1000236 & 0 & NA & 0  & NA & 61 & NA & 70 & NA & 2, 4 & 70\\\\\n",
       "\t6 & 1000255 & 0 & NA & 0  & NA & 51 & NA & 61 & NA & 2, 4 & 61\\\\\n",
       "\\end{tabular}\n"
      ],
      "text/markdown": [
       "\n",
       "A data.frame: 6 × 11\n",
       "\n",
       "| <!--/--> | IID &lt;int&gt; | f.2257.0.0_recode &lt;fct&gt; | f.2257.1.0_recode &lt;fct&gt; | f.2257.2.0_recode &lt;fct&gt; | f.2257.3.0_recode &lt;fct&gt; | f.21003.0.0 &lt;int&gt; | f.21003.1.0 &lt;int&gt; | f.21003.2.0 &lt;int&gt; | f.21003.3.0 &lt;int&gt; | visit_idx &lt;list&gt; | age_final_noise &lt;int&gt; |\n",
       "|---|---|---|---|---|---|---|---|---|---|---|---|\n",
       "| 1 | 1000078 | 0 | 0  | 0  | NA | 52 | 57 | 60 | NA | 2, 3, 4 | 60 |\n",
       "| 2 | 1000081 | 0 | NA | NA | NA | 67 | NA | NA | NA | 2 | 67 |\n",
       "| 3 | 1000210 | 0 | NA | NA | NA | 66 | NA | NA | NA | 2 | 66 |\n",
       "| 4 | 1000224 | 0 | NA | NA | NA | 58 | NA | NA | NA | 2 | 58 |\n",
       "| 5 | 1000236 | 0 | NA | 0  | NA | 61 | NA | 70 | NA | 2, 4 | 70 |\n",
       "| 6 | 1000255 | 0 | NA | 0  | NA | 51 | NA | 61 | NA | 2, 4 | 61 |\n",
       "\n"
      ],
      "text/plain": [
       "  IID     f.2257.0.0_recode f.2257.1.0_recode f.2257.2.0_recode\n",
       "1 1000078 0                 0                 0                \n",
       "2 1000081 0                 NA                NA               \n",
       "3 1000210 0                 NA                NA               \n",
       "4 1000224 0                 NA                NA               \n",
       "5 1000236 0                 NA                0                \n",
       "6 1000255 0                 NA                0                \n",
       "  f.2257.3.0_recode f.21003.0.0 f.21003.1.0 f.21003.2.0 f.21003.3.0 visit_idx\n",
       "1 NA                52          57          60          NA          2, 3, 4  \n",
       "2 NA                67          NA          NA          NA          2        \n",
       "3 NA                66          NA          NA          NA          2        \n",
       "4 NA                58          NA          NA          NA          2        \n",
       "5 NA                61          NA          70          NA          2, 4     \n",
       "6 NA                51          NA          61          NA          2, 4     \n",
       "  age_final_noise\n",
       "1 60             \n",
       "2 67             \n",
       "3 66             \n",
       "4 58             \n",
       "5 70             \n",
       "6 61             "
      ]
     },
     "metadata": {},
     "output_type": "display_data"
    },
    {
     "data": {
      "text/plain": [
       "   Min. 1st Qu.  Median    Mean 3rd Qu.    Max. \n",
       "  38.00   50.00   58.00   56.52   63.00   82.00 "
      ]
     },
     "metadata": {},
     "output_type": "display_data"
    }
   ],
   "source": [
    "# Get the # of column where last replied No:\n",
    "noise_age_control$visit_idx = apply(noise_age_control, 1, function(x) unlist(which(x == '0')))\n",
    "\n",
    "# Define offset:\n",
    "# offset: refers to the # of columns between the first age column (i.e.f.21003.0.0) and the first recode column (i.e.f.2257.0.0_recode)\n",
    "offset = which(colnames(noise_age_control) == 'f.21003.0.0') - which(colnames(noise_age_control) == 'f.2257.0.0_recode')\n",
    "\n",
    "# Define the function to extract the last time they said no for control\n",
    "\n",
    "f=get_age_func <- function(x) {\n",
    "  visit_index=x[which(colnames(noise_age_control)==\"visit_idx\")]\n",
    "  index=max(unlist(visit_index))+offset\n",
    "  age=x[index]\n",
    "  age=unlist(age)\n",
    "  return(age)\n",
    "}\n",
    "\n",
    "# Get the final age for controls\n",
    "noise_age_control$age_final_noise = apply(noise_age_control, 1, f)\n",
    "\n",
    "# Show first 6 rows\n",
    "head(noise_age_control)\n",
    "summary(noise_age_control$age_final_noise)"
   ]
  },
  {
   "cell_type": "code",
   "execution_count": 307,
   "metadata": {
    "kernel": "R"
   },
   "outputs": [
    {
     "data": {
      "text/html": [
       "<style>\n",
       ".list-inline {list-style: none; margin:0; padding: 0}\n",
       ".list-inline>li {display: inline-block}\n",
       ".list-inline>li:not(:last-child)::after {content: \"\\00b7\"; padding: 0 .5ex}\n",
       "</style>\n",
       "<ol class=list-inline><li>186580</li><li>11</li></ol>\n"
      ],
      "text/latex": [
       "\\begin{enumerate*}\n",
       "\\item 186580\n",
       "\\item 11\n",
       "\\end{enumerate*}\n"
      ],
      "text/markdown": [
       "1. 186580\n",
       "2. 11\n",
       "\n",
       "\n"
      ],
      "text/plain": [
       "[1] 186580     11"
      ]
     },
     "metadata": {},
     "output_type": "display_data"
    },
    {
     "data": {
      "text/html": [
       "<table>\n",
       "<caption>A data.frame: 6 × 11</caption>\n",
       "<thead>\n",
       "\t<tr><th></th><th scope=col>IID</th><th scope=col>f.2257.0.0_recode</th><th scope=col>f.2257.1.0_recode</th><th scope=col>f.2257.2.0_recode</th><th scope=col>f.2257.3.0_recode</th><th scope=col>f.21003.0.0</th><th scope=col>f.21003.1.0</th><th scope=col>f.21003.2.0</th><th scope=col>f.21003.3.0</th><th scope=col>visit_idx</th><th scope=col>age_final_noise</th></tr>\n",
       "\t<tr><th></th><th scope=col>&lt;int&gt;</th><th scope=col>&lt;fct&gt;</th><th scope=col>&lt;fct&gt;</th><th scope=col>&lt;fct&gt;</th><th scope=col>&lt;fct&gt;</th><th scope=col>&lt;int&gt;</th><th scope=col>&lt;int&gt;</th><th scope=col>&lt;int&gt;</th><th scope=col>&lt;int&gt;</th><th scope=col>&lt;list&gt;</th><th scope=col>&lt;int&gt;</th></tr>\n",
       "</thead>\n",
       "<tbody>\n",
       "\t<tr><th scope=row>1</th><td>1000019</td><td>1</td><td>NA</td><td>NA</td><td>NA</td><td>47</td><td>NA</td><td>NA</td><td>NA</td><td>2</td><td>47</td></tr>\n",
       "\t<tr><th scope=row>2</th><td>1000035</td><td>1</td><td>NA</td><td>NA</td><td>NA</td><td>63</td><td>NA</td><td>NA</td><td>NA</td><td>2</td><td>63</td></tr>\n",
       "\t<tr><th scope=row>3</th><td>1000198</td><td>1</td><td>NA</td><td>NA</td><td>NA</td><td>41</td><td>NA</td><td>NA</td><td>NA</td><td>2</td><td>41</td></tr>\n",
       "\t<tr><th scope=row>4</th><td>1000304</td><td>1</td><td>NA</td><td>NA</td><td>NA</td><td>56</td><td>NA</td><td>NA</td><td>NA</td><td>2</td><td>56</td></tr>\n",
       "\t<tr><th scope=row>5</th><td>1000396</td><td>1</td><td>NA</td><td>NA</td><td>NA</td><td>48</td><td>NA</td><td>NA</td><td>NA</td><td>2</td><td>48</td></tr>\n",
       "\t<tr><th scope=row>6</th><td>1000494</td><td>1</td><td>NA</td><td>NA</td><td>NA</td><td>61</td><td>NA</td><td>NA</td><td>NA</td><td>2</td><td>61</td></tr>\n",
       "</tbody>\n",
       "</table>\n"
      ],
      "text/latex": [
       "A data.frame: 6 × 11\n",
       "\\begin{tabular}{r|lllllllllll}\n",
       "  & IID & f.2257.0.0\\_recode & f.2257.1.0\\_recode & f.2257.2.0\\_recode & f.2257.3.0\\_recode & f.21003.0.0 & f.21003.1.0 & f.21003.2.0 & f.21003.3.0 & visit\\_idx & age\\_final\\_noise\\\\\n",
       "  & <int> & <fct> & <fct> & <fct> & <fct> & <int> & <int> & <int> & <int> & <list> & <int>\\\\\n",
       "\\hline\n",
       "\t1 & 1000019 & 1 & NA & NA & NA & 47 & NA & NA & NA & 2 & 47\\\\\n",
       "\t2 & 1000035 & 1 & NA & NA & NA & 63 & NA & NA & NA & 2 & 63\\\\\n",
       "\t3 & 1000198 & 1 & NA & NA & NA & 41 & NA & NA & NA & 2 & 41\\\\\n",
       "\t4 & 1000304 & 1 & NA & NA & NA & 56 & NA & NA & NA & 2 & 56\\\\\n",
       "\t5 & 1000396 & 1 & NA & NA & NA & 48 & NA & NA & NA & 2 & 48\\\\\n",
       "\t6 & 1000494 & 1 & NA & NA & NA & 61 & NA & NA & NA & 2 & 61\\\\\n",
       "\\end{tabular}\n"
      ],
      "text/markdown": [
       "\n",
       "A data.frame: 6 × 11\n",
       "\n",
       "| <!--/--> | IID &lt;int&gt; | f.2257.0.0_recode &lt;fct&gt; | f.2257.1.0_recode &lt;fct&gt; | f.2257.2.0_recode &lt;fct&gt; | f.2257.3.0_recode &lt;fct&gt; | f.21003.0.0 &lt;int&gt; | f.21003.1.0 &lt;int&gt; | f.21003.2.0 &lt;int&gt; | f.21003.3.0 &lt;int&gt; | visit_idx &lt;list&gt; | age_final_noise &lt;int&gt; |\n",
       "|---|---|---|---|---|---|---|---|---|---|---|---|\n",
       "| 1 | 1000019 | 1 | NA | NA | NA | 47 | NA | NA | NA | 2 | 47 |\n",
       "| 2 | 1000035 | 1 | NA | NA | NA | 63 | NA | NA | NA | 2 | 63 |\n",
       "| 3 | 1000198 | 1 | NA | NA | NA | 41 | NA | NA | NA | 2 | 41 |\n",
       "| 4 | 1000304 | 1 | NA | NA | NA | 56 | NA | NA | NA | 2 | 56 |\n",
       "| 5 | 1000396 | 1 | NA | NA | NA | 48 | NA | NA | NA | 2 | 48 |\n",
       "| 6 | 1000494 | 1 | NA | NA | NA | 61 | NA | NA | NA | 2 | 61 |\n",
       "\n"
      ],
      "text/plain": [
       "  IID     f.2257.0.0_recode f.2257.1.0_recode f.2257.2.0_recode\n",
       "1 1000019 1                 NA                NA               \n",
       "2 1000035 1                 NA                NA               \n",
       "3 1000198 1                 NA                NA               \n",
       "4 1000304 1                 NA                NA               \n",
       "5 1000396 1                 NA                NA               \n",
       "6 1000494 1                 NA                NA               \n",
       "  f.2257.3.0_recode f.21003.0.0 f.21003.1.0 f.21003.2.0 f.21003.3.0 visit_idx\n",
       "1 NA                47          NA          NA          NA          2        \n",
       "2 NA                63          NA          NA          NA          2        \n",
       "3 NA                41          NA          NA          NA          2        \n",
       "4 NA                56          NA          NA          NA          2        \n",
       "5 NA                48          NA          NA          NA          2        \n",
       "6 NA                61          NA          NA          NA          2        \n",
       "  age_final_noise\n",
       "1 47             \n",
       "2 63             \n",
       "3 41             \n",
       "4 56             \n",
       "5 48             \n",
       "6 61             "
      ]
     },
     "metadata": {},
     "output_type": "display_data"
    }
   ],
   "source": [
    "# Merge age_cases and age_controls\n",
    "hearing_noise_age <- rbind(noise_age_cases, noise_age_control) \n",
    "dim(hearing_noise_age)\n",
    "head(hearing_noise_age)"
   ]
  },
  {
   "cell_type": "code",
   "execution_count": 308,
   "metadata": {
    "kernel": "R"
   },
   "outputs": [
    {
     "data": {
      "text/html": [
       "<table>\n",
       "<caption>A data.frame: 6 × 14</caption>\n",
       "<thead>\n",
       "\t<tr><th></th><th scope=col>IID</th><th scope=col>FID</th><th scope=col>f.22001.0.0</th><th scope=col>f.21003.0.0</th><th scope=col>f.21003.1.0</th><th scope=col>f.21003.2.0</th><th scope=col>f.21003.3.0</th><th scope=col>f.2257.0.0_recode</th><th scope=col>f.2257.1.0_recode</th><th scope=col>f.2257.2.0_recode</th><th scope=col>f.2257.3.0_recode</th><th scope=col>cases</th><th scope=col>hearing_noise_cat</th><th scope=col>age_final_noise</th></tr>\n",
       "\t<tr><th></th><th scope=col>&lt;int&gt;</th><th scope=col>&lt;int&gt;</th><th scope=col>&lt;fct&gt;</th><th scope=col>&lt;int&gt;</th><th scope=col>&lt;int&gt;</th><th scope=col>&lt;int&gt;</th><th scope=col>&lt;int&gt;</th><th scope=col>&lt;fct&gt;</th><th scope=col>&lt;fct&gt;</th><th scope=col>&lt;fct&gt;</th><th scope=col>&lt;fct&gt;</th><th scope=col>&lt;lgl&gt;</th><th scope=col>&lt;int&gt;</th><th scope=col>&lt;int&gt;</th></tr>\n",
       "</thead>\n",
       "<tbody>\n",
       "\t<tr><th scope=row>1</th><td>1000019</td><td>1000019</td><td>Female</td><td>47</td><td>NA</td><td>NA</td><td>NA</td><td>1</td><td>NA</td><td>NA</td><td>NA</td><td> TRUE</td><td>1</td><td>47</td></tr>\n",
       "\t<tr><th scope=row>2</th><td>1000035</td><td>1000035</td><td>Male  </td><td>63</td><td>NA</td><td>NA</td><td>NA</td><td>1</td><td>NA</td><td>NA</td><td>NA</td><td> TRUE</td><td>1</td><td>63</td></tr>\n",
       "\t<tr><th scope=row>3</th><td>1000078</td><td>1000078</td><td>Female</td><td>52</td><td>57</td><td>60</td><td>NA</td><td>0</td><td>0 </td><td>0 </td><td>NA</td><td>FALSE</td><td>0</td><td>60</td></tr>\n",
       "\t<tr><th scope=row>4</th><td>1000081</td><td>1000081</td><td>Male  </td><td>67</td><td>NA</td><td>NA</td><td>NA</td><td>0</td><td>NA</td><td>NA</td><td>NA</td><td>FALSE</td><td>0</td><td>67</td></tr>\n",
       "\t<tr><th scope=row>5</th><td>1000198</td><td>1000198</td><td>Female</td><td>41</td><td>NA</td><td>NA</td><td>NA</td><td>1</td><td>NA</td><td>NA</td><td>NA</td><td> TRUE</td><td>1</td><td>41</td></tr>\n",
       "\t<tr><th scope=row>6</th><td>1000210</td><td>1000210</td><td>Male  </td><td>66</td><td>NA</td><td>NA</td><td>NA</td><td>0</td><td>NA</td><td>NA</td><td>NA</td><td>FALSE</td><td>0</td><td>66</td></tr>\n",
       "</tbody>\n",
       "</table>\n"
      ],
      "text/latex": [
       "A data.frame: 6 × 14\n",
       "\\begin{tabular}{r|llllllllllllll}\n",
       "  & IID & FID & f.22001.0.0 & f.21003.0.0 & f.21003.1.0 & f.21003.2.0 & f.21003.3.0 & f.2257.0.0\\_recode & f.2257.1.0\\_recode & f.2257.2.0\\_recode & f.2257.3.0\\_recode & cases & hearing\\_noise\\_cat & age\\_final\\_noise\\\\\n",
       "  & <int> & <int> & <fct> & <int> & <int> & <int> & <int> & <fct> & <fct> & <fct> & <fct> & <lgl> & <int> & <int>\\\\\n",
       "\\hline\n",
       "\t1 & 1000019 & 1000019 & Female & 47 & NA & NA & NA & 1 & NA & NA & NA &  TRUE & 1 & 47\\\\\n",
       "\t2 & 1000035 & 1000035 & Male   & 63 & NA & NA & NA & 1 & NA & NA & NA &  TRUE & 1 & 63\\\\\n",
       "\t3 & 1000078 & 1000078 & Female & 52 & 57 & 60 & NA & 0 & 0  & 0  & NA & FALSE & 0 & 60\\\\\n",
       "\t4 & 1000081 & 1000081 & Male   & 67 & NA & NA & NA & 0 & NA & NA & NA & FALSE & 0 & 67\\\\\n",
       "\t5 & 1000198 & 1000198 & Female & 41 & NA & NA & NA & 1 & NA & NA & NA &  TRUE & 1 & 41\\\\\n",
       "\t6 & 1000210 & 1000210 & Male   & 66 & NA & NA & NA & 0 & NA & NA & NA & FALSE & 0 & 66\\\\\n",
       "\\end{tabular}\n"
      ],
      "text/markdown": [
       "\n",
       "A data.frame: 6 × 14\n",
       "\n",
       "| <!--/--> | IID &lt;int&gt; | FID &lt;int&gt; | f.22001.0.0 &lt;fct&gt; | f.21003.0.0 &lt;int&gt; | f.21003.1.0 &lt;int&gt; | f.21003.2.0 &lt;int&gt; | f.21003.3.0 &lt;int&gt; | f.2257.0.0_recode &lt;fct&gt; | f.2257.1.0_recode &lt;fct&gt; | f.2257.2.0_recode &lt;fct&gt; | f.2257.3.0_recode &lt;fct&gt; | cases &lt;lgl&gt; | hearing_noise_cat &lt;int&gt; | age_final_noise &lt;int&gt; |\n",
       "|---|---|---|---|---|---|---|---|---|---|---|---|---|---|---|\n",
       "| 1 | 1000019 | 1000019 | Female | 47 | NA | NA | NA | 1 | NA | NA | NA |  TRUE | 1 | 47 |\n",
       "| 2 | 1000035 | 1000035 | Male   | 63 | NA | NA | NA | 1 | NA | NA | NA |  TRUE | 1 | 63 |\n",
       "| 3 | 1000078 | 1000078 | Female | 52 | 57 | 60 | NA | 0 | 0  | 0  | NA | FALSE | 0 | 60 |\n",
       "| 4 | 1000081 | 1000081 | Male   | 67 | NA | NA | NA | 0 | NA | NA | NA | FALSE | 0 | 67 |\n",
       "| 5 | 1000198 | 1000198 | Female | 41 | NA | NA | NA | 1 | NA | NA | NA |  TRUE | 1 | 41 |\n",
       "| 6 | 1000210 | 1000210 | Male   | 66 | NA | NA | NA | 0 | NA | NA | NA | FALSE | 0 | 66 |\n",
       "\n"
      ],
      "text/plain": [
       "  IID     FID     f.22001.0.0 f.21003.0.0 f.21003.1.0 f.21003.2.0 f.21003.3.0\n",
       "1 1000019 1000019 Female      47          NA          NA          NA         \n",
       "2 1000035 1000035 Male        63          NA          NA          NA         \n",
       "3 1000078 1000078 Female      52          57          60          NA         \n",
       "4 1000081 1000081 Male        67          NA          NA          NA         \n",
       "5 1000198 1000198 Female      41          NA          NA          NA         \n",
       "6 1000210 1000210 Male        66          NA          NA          NA         \n",
       "  f.2257.0.0_recode f.2257.1.0_recode f.2257.2.0_recode f.2257.3.0_recode cases\n",
       "1 1                 NA                NA                NA                 TRUE\n",
       "2 1                 NA                NA                NA                 TRUE\n",
       "3 0                 0                 0                 NA                FALSE\n",
       "4 0                 NA                NA                NA                FALSE\n",
       "5 1                 NA                NA                NA                 TRUE\n",
       "6 0                 NA                NA                NA                FALSE\n",
       "  hearing_noise_cat age_final_noise\n",
       "1 1                 47             \n",
       "2 1                 63             \n",
       "3 0                 60             \n",
       "4 0                 67             \n",
       "5 1                 41             \n",
       "6 0                 66             "
      ]
     },
     "metadata": {},
     "output_type": "display_data"
    },
    {
     "data": {
      "text/html": [
       "<style>\n",
       ".list-inline {list-style: none; margin:0; padding: 0}\n",
       ".list-inline>li {display: inline-block}\n",
       ".list-inline>li:not(:last-child)::after {content: \"\\00b7\"; padding: 0 .5ex}\n",
       "</style>\n",
       "<ol class=list-inline><li>186580</li><li>14</li></ol>\n"
      ],
      "text/latex": [
       "\\begin{enumerate*}\n",
       "\\item 186580\n",
       "\\item 14\n",
       "\\end{enumerate*}\n"
      ],
      "text/markdown": [
       "1. 186580\n",
       "2. 14\n",
       "\n",
       "\n"
      ],
      "text/plain": [
       "[1] 186580     14"
      ]
     },
     "metadata": {},
     "output_type": "display_data"
    }
   ],
   "source": [
    "hearing_noise_age = merge(x = hearing_noise ,y = hearing_noise_age [,c(\"IID\",\"age_final_noise\")],by=\"IID\", all.x=TRUE)\n",
    "head(hearing_noise_age)\n",
    "dim(hearing_noise_age)"
   ]
  },
  {
   "cell_type": "markdown",
   "metadata": {
    "kernel": "R"
   },
   "source": [
    "## Merge f.3393, f.2247 and f.2257"
   ]
  },
  {
   "cell_type": "code",
   "execution_count": 309,
   "metadata": {
    "kernel": "R"
   },
   "outputs": [
    {
     "data": {
      "text/html": [
       "<style>\n",
       ".list-inline {list-style: none; margin:0; padding: 0}\n",
       ".list-inline>li {display: inline-block}\n",
       ".list-inline>li:not(:last-child)::after {content: \"\\00b7\"; padding: 0 .5ex}\n",
       "</style>\n",
       "<ol class=list-inline><li>193866</li><li>2276</li></ol>\n"
      ],
      "text/latex": [
       "\\begin{enumerate*}\n",
       "\\item 193866\n",
       "\\item 2276\n",
       "\\end{enumerate*}\n"
      ],
      "text/markdown": [
       "1. 193866\n",
       "2. 2276\n",
       "\n",
       "\n"
      ],
      "text/plain": [
       "[1] 193866   2276"
      ]
     },
     "metadata": {},
     "output_type": "display_data"
    },
    {
     "data": {
      "text/html": [
       "<table>\n",
       "<caption>A data.frame: 6 × 2276</caption>\n",
       "<thead>\n",
       "\t<tr><th></th><th scope=col>IID</th><th scope=col>FID</th><th scope=col>ignore1</th><th scope=col>ignore2</th><th scope=col>ignore3</th><th scope=col>ignore4</th><th scope=col>f.31.0.0</th><th scope=col>f.34.0.0</th><th scope=col>f.53.0.0</th><th scope=col>f.53.1.0</th><th scope=col>⋯</th><th scope=col>f.3393.3.0_recode</th><th scope=col>hearing_aid_cat</th><th scope=col>age_final_aid</th><th scope=col>hearing_diff_cat</th><th scope=col>age_final_diff</th><th scope=col>hearing_diff_cat_new</th><th scope=col>hearing_aid_cat_new</th><th scope=col>hearing_diff_new</th><th scope=col>hearing_noise_cat</th><th scope=col>age_final_noise</th></tr>\n",
       "\t<tr><th></th><th scope=col>&lt;int&gt;</th><th scope=col>&lt;int&gt;</th><th scope=col>&lt;int&gt;</th><th scope=col>&lt;int&gt;</th><th scope=col>&lt;int&gt;</th><th scope=col>&lt;int&gt;</th><th scope=col>&lt;fct&gt;</th><th scope=col>&lt;int&gt;</th><th scope=col>&lt;fct&gt;</th><th scope=col>&lt;fct&gt;</th><th scope=col>⋯</th><th scope=col>&lt;fct&gt;</th><th scope=col>&lt;int&gt;</th><th scope=col>&lt;int&gt;</th><th scope=col>&lt;int&gt;</th><th scope=col>&lt;int&gt;</th><th scope=col>&lt;fct&gt;</th><th scope=col>&lt;fct&gt;</th><th scope=col>&lt;fct&gt;</th><th scope=col>&lt;int&gt;</th><th scope=col>&lt;int&gt;</th></tr>\n",
       "</thead>\n",
       "<tbody>\n",
       "\t<tr><th scope=row>1</th><td>1000019</td><td>1000019</td><td>0</td><td>0</td><td>2</td><td>-9</td><td>Female</td><td>1960</td><td>2008-01-24</td><td>NA        </td><td>⋯</td><td>NA</td><td> 0</td><td>47</td><td> 1</td><td>47</td><td>case   </td><td>control</td><td>1 </td><td>1</td><td>47</td></tr>\n",
       "\t<tr><th scope=row>2</th><td>1000035</td><td>1000035</td><td>0</td><td>0</td><td>1</td><td>-9</td><td>Male  </td><td>1944</td><td>2007-11-08</td><td>NA        </td><td>⋯</td><td>NA</td><td> 0</td><td>63</td><td> 0</td><td>63</td><td>control</td><td>control</td><td>0 </td><td>1</td><td>63</td></tr>\n",
       "\t<tr><th scope=row>3</th><td>1000078</td><td>1000078</td><td>0</td><td>0</td><td>2</td><td>-9</td><td>Female</td><td>1955</td><td>2007-08-20</td><td>2012-11-01</td><td>⋯</td><td>NA</td><td> 0</td><td>60</td><td> 0</td><td>60</td><td>control</td><td>control</td><td>0 </td><td>0</td><td>60</td></tr>\n",
       "\t<tr><th scope=row>4</th><td>1000081</td><td>1000081</td><td>0</td><td>0</td><td>1</td><td>-9</td><td>Male  </td><td>1942</td><td>2009-12-03</td><td>NA        </td><td>⋯</td><td>NA</td><td> 0</td><td>67</td><td> 0</td><td>67</td><td>control</td><td>control</td><td>0 </td><td>0</td><td>67</td></tr>\n",
       "\t<tr><th scope=row>5</th><td>1000198</td><td>1000198</td><td>0</td><td>0</td><td>2</td><td>-9</td><td>Female</td><td>1967</td><td>2009-03-27</td><td>NA        </td><td>⋯</td><td>NA</td><td> 0</td><td>41</td><td> 1</td><td>41</td><td>case   </td><td>control</td><td>1 </td><td>1</td><td>41</td></tr>\n",
       "\t<tr><th scope=row>6</th><td>1000210</td><td>1000210</td><td>0</td><td>0</td><td>1</td><td>-9</td><td>Male  </td><td>1941</td><td>2008-02-11</td><td>NA        </td><td>⋯</td><td>NA</td><td>NA</td><td>NA</td><td>NA</td><td>NA</td><td>NA     </td><td>NA     </td><td>NA</td><td>0</td><td>66</td></tr>\n",
       "</tbody>\n",
       "</table>\n"
      ],
      "text/latex": [
       "A data.frame: 6 × 2276\n",
       "\\begin{tabular}{r|lllllllllllllllllllll}\n",
       "  & IID & FID & ignore1 & ignore2 & ignore3 & ignore4 & f.31.0.0 & f.34.0.0 & f.53.0.0 & f.53.1.0 & ⋯ & f.3393.3.0\\_recode & hearing\\_aid\\_cat & age\\_final\\_aid & hearing\\_diff\\_cat & age\\_final\\_diff & hearing\\_diff\\_cat\\_new & hearing\\_aid\\_cat\\_new & hearing\\_diff\\_new & hearing\\_noise\\_cat & age\\_final\\_noise\\\\\n",
       "  & <int> & <int> & <int> & <int> & <int> & <int> & <fct> & <int> & <fct> & <fct> & ⋯ & <fct> & <int> & <int> & <int> & <int> & <fct> & <fct> & <fct> & <int> & <int>\\\\\n",
       "\\hline\n",
       "\t1 & 1000019 & 1000019 & 0 & 0 & 2 & -9 & Female & 1960 & 2008-01-24 & NA         & ⋯ & NA &  0 & 47 &  1 & 47 & case    & control & 1  & 1 & 47\\\\\n",
       "\t2 & 1000035 & 1000035 & 0 & 0 & 1 & -9 & Male   & 1944 & 2007-11-08 & NA         & ⋯ & NA &  0 & 63 &  0 & 63 & control & control & 0  & 1 & 63\\\\\n",
       "\t3 & 1000078 & 1000078 & 0 & 0 & 2 & -9 & Female & 1955 & 2007-08-20 & 2012-11-01 & ⋯ & NA &  0 & 60 &  0 & 60 & control & control & 0  & 0 & 60\\\\\n",
       "\t4 & 1000081 & 1000081 & 0 & 0 & 1 & -9 & Male   & 1942 & 2009-12-03 & NA         & ⋯ & NA &  0 & 67 &  0 & 67 & control & control & 0  & 0 & 67\\\\\n",
       "\t5 & 1000198 & 1000198 & 0 & 0 & 2 & -9 & Female & 1967 & 2009-03-27 & NA         & ⋯ & NA &  0 & 41 &  1 & 41 & case    & control & 1  & 1 & 41\\\\\n",
       "\t6 & 1000210 & 1000210 & 0 & 0 & 1 & -9 & Male   & 1941 & 2008-02-11 & NA         & ⋯ & NA & NA & NA & NA & NA & NA      & NA      & NA & 0 & 66\\\\\n",
       "\\end{tabular}\n"
      ],
      "text/markdown": [
       "\n",
       "A data.frame: 6 × 2276\n",
       "\n",
       "| <!--/--> | IID &lt;int&gt; | FID &lt;int&gt; | ignore1 &lt;int&gt; | ignore2 &lt;int&gt; | ignore3 &lt;int&gt; | ignore4 &lt;int&gt; | f.31.0.0 &lt;fct&gt; | f.34.0.0 &lt;int&gt; | f.53.0.0 &lt;fct&gt; | f.53.1.0 &lt;fct&gt; | ⋯ ⋯ | f.3393.3.0_recode &lt;fct&gt; | hearing_aid_cat &lt;int&gt; | age_final_aid &lt;int&gt; | hearing_diff_cat &lt;int&gt; | age_final_diff &lt;int&gt; | hearing_diff_cat_new &lt;fct&gt; | hearing_aid_cat_new &lt;fct&gt; | hearing_diff_new &lt;fct&gt; | hearing_noise_cat &lt;int&gt; | age_final_noise &lt;int&gt; |\n",
       "|---|---|---|---|---|---|---|---|---|---|---|---|---|---|---|---|---|---|---|---|---|---|\n",
       "| 1 | 1000019 | 1000019 | 0 | 0 | 2 | -9 | Female | 1960 | 2008-01-24 | NA         | ⋯ | NA |  0 | 47 |  1 | 47 | case    | control | 1  | 1 | 47 |\n",
       "| 2 | 1000035 | 1000035 | 0 | 0 | 1 | -9 | Male   | 1944 | 2007-11-08 | NA         | ⋯ | NA |  0 | 63 |  0 | 63 | control | control | 0  | 1 | 63 |\n",
       "| 3 | 1000078 | 1000078 | 0 | 0 | 2 | -9 | Female | 1955 | 2007-08-20 | 2012-11-01 | ⋯ | NA |  0 | 60 |  0 | 60 | control | control | 0  | 0 | 60 |\n",
       "| 4 | 1000081 | 1000081 | 0 | 0 | 1 | -9 | Male   | 1942 | 2009-12-03 | NA         | ⋯ | NA |  0 | 67 |  0 | 67 | control | control | 0  | 0 | 67 |\n",
       "| 5 | 1000198 | 1000198 | 0 | 0 | 2 | -9 | Female | 1967 | 2009-03-27 | NA         | ⋯ | NA |  0 | 41 |  1 | 41 | case    | control | 1  | 1 | 41 |\n",
       "| 6 | 1000210 | 1000210 | 0 | 0 | 1 | -9 | Male   | 1941 | 2008-02-11 | NA         | ⋯ | NA | NA | NA | NA | NA | NA      | NA      | NA | 0 | 66 |\n",
       "\n"
      ],
      "text/plain": [
       "  IID     FID     ignore1 ignore2 ignore3 ignore4 f.31.0.0 f.34.0.0 f.53.0.0  \n",
       "1 1000019 1000019 0       0       2       -9      Female   1960     2008-01-24\n",
       "2 1000035 1000035 0       0       1       -9      Male     1944     2007-11-08\n",
       "3 1000078 1000078 0       0       2       -9      Female   1955     2007-08-20\n",
       "4 1000081 1000081 0       0       1       -9      Male     1942     2009-12-03\n",
       "5 1000198 1000198 0       0       2       -9      Female   1967     2009-03-27\n",
       "6 1000210 1000210 0       0       1       -9      Male     1941     2008-02-11\n",
       "  f.53.1.0   ⋯ f.3393.3.0_recode hearing_aid_cat age_final_aid hearing_diff_cat\n",
       "1 NA         ⋯ NA                 0              47             1              \n",
       "2 NA         ⋯ NA                 0              63             0              \n",
       "3 2012-11-01 ⋯ NA                 0              60             0              \n",
       "4 NA         ⋯ NA                 0              67             0              \n",
       "5 NA         ⋯ NA                 0              41             1              \n",
       "6 NA         ⋯ NA                NA              NA            NA              \n",
       "  age_final_diff hearing_diff_cat_new hearing_aid_cat_new hearing_diff_new\n",
       "1 47             case                 control             1               \n",
       "2 63             control              control             0               \n",
       "3 60             control              control             0               \n",
       "4 67             control              control             0               \n",
       "5 41             case                 control             1               \n",
       "6 NA             NA                   NA                  NA              \n",
       "  hearing_noise_cat age_final_noise\n",
       "1 1                 47             \n",
       "2 1                 63             \n",
       "3 0                 60             \n",
       "4 0                 67             \n",
       "5 1                 41             \n",
       "6 0                 66             "
      ]
     },
     "metadata": {},
     "output_type": "display_data"
    }
   ],
   "source": [
    "#Merge with complete database keep the all the rows from original db\n",
    "df_3393_2247_2257 = merge(x = df_3393_2247, y = hearing_noise_age [,c(\"IID\",\"hearing_noise_cat\",\"age_final_noise\")],by=\"IID\", all.x=TRUE)\n",
    "dim(df_3393_2247_2257)\n",
    "head(df_3393_2247_2257)"
   ]
  },
  {
   "cell_type": "markdown",
   "metadata": {
    "kernel": "R"
   },
   "source": [
    "## Export file for hearing with background noise f.2257"
   ]
  },
  {
   "cell_type": "code",
   "execution_count": 310,
   "metadata": {
    "kernel": "R"
   },
   "outputs": [
    {
     "data": {
      "text/html": [
       "<table>\n",
       "<caption>A data.frame: 6 × 5</caption>\n",
       "<thead>\n",
       "\t<tr><th></th><th scope=col>FID</th><th scope=col>IID</th><th scope=col>age_final_noise</th><th scope=col>sex</th><th scope=col>hearing_noise_cat</th></tr>\n",
       "\t<tr><th></th><th scope=col>&lt;int&gt;</th><th scope=col>&lt;int&gt;</th><th scope=col>&lt;int&gt;</th><th scope=col>&lt;fct&gt;</th><th scope=col>&lt;int&gt;</th></tr>\n",
       "</thead>\n",
       "<tbody>\n",
       "\t<tr><th scope=row>1</th><td>1000019</td><td>1000019</td><td>47</td><td>1</td><td>1</td></tr>\n",
       "\t<tr><th scope=row>2</th><td>1000035</td><td>1000035</td><td>63</td><td>0</td><td>1</td></tr>\n",
       "\t<tr><th scope=row>3</th><td>1000078</td><td>1000078</td><td>60</td><td>1</td><td>0</td></tr>\n",
       "\t<tr><th scope=row>4</th><td>1000081</td><td>1000081</td><td>67</td><td>0</td><td>0</td></tr>\n",
       "\t<tr><th scope=row>5</th><td>1000198</td><td>1000198</td><td>41</td><td>1</td><td>1</td></tr>\n",
       "\t<tr><th scope=row>6</th><td>1000210</td><td>1000210</td><td>66</td><td>0</td><td>0</td></tr>\n",
       "</tbody>\n",
       "</table>\n"
      ],
      "text/latex": [
       "A data.frame: 6 × 5\n",
       "\\begin{tabular}{r|lllll}\n",
       "  & FID & IID & age\\_final\\_noise & sex & hearing\\_noise\\_cat\\\\\n",
       "  & <int> & <int> & <int> & <fct> & <int>\\\\\n",
       "\\hline\n",
       "\t1 & 1000019 & 1000019 & 47 & 1 & 1\\\\\n",
       "\t2 & 1000035 & 1000035 & 63 & 0 & 1\\\\\n",
       "\t3 & 1000078 & 1000078 & 60 & 1 & 0\\\\\n",
       "\t4 & 1000081 & 1000081 & 67 & 0 & 0\\\\\n",
       "\t5 & 1000198 & 1000198 & 41 & 1 & 1\\\\\n",
       "\t6 & 1000210 & 1000210 & 66 & 0 & 0\\\\\n",
       "\\end{tabular}\n"
      ],
      "text/markdown": [
       "\n",
       "A data.frame: 6 × 5\n",
       "\n",
       "| <!--/--> | FID &lt;int&gt; | IID &lt;int&gt; | age_final_noise &lt;int&gt; | sex &lt;fct&gt; | hearing_noise_cat &lt;int&gt; |\n",
       "|---|---|---|---|---|---|\n",
       "| 1 | 1000019 | 1000019 | 47 | 1 | 1 |\n",
       "| 2 | 1000035 | 1000035 | 63 | 0 | 1 |\n",
       "| 3 | 1000078 | 1000078 | 60 | 1 | 0 |\n",
       "| 4 | 1000081 | 1000081 | 67 | 0 | 0 |\n",
       "| 5 | 1000198 | 1000198 | 41 | 1 | 1 |\n",
       "| 6 | 1000210 | 1000210 | 66 | 0 | 0 |\n",
       "\n"
      ],
      "text/plain": [
       "  FID     IID     age_final_noise sex hearing_noise_cat\n",
       "1 1000019 1000019 47              1   1                \n",
       "2 1000035 1000035 63              0   1                \n",
       "3 1000078 1000078 60              1   0                \n",
       "4 1000081 1000081 67              0   0                \n",
       "5 1000198 1000198 41              1   1                \n",
       "6 1000210 1000210 66              0   0                "
      ]
     },
     "metadata": {},
     "output_type": "display_data"
    },
    {
     "data": {
      "text/html": [
       "<style>\n",
       ".list-inline {list-style: none; margin:0; padding: 0}\n",
       ".list-inline>li {display: inline-block}\n",
       ".list-inline>li:not(:last-child)::after {content: \"\\00b7\"; padding: 0 .5ex}\n",
       "</style>\n",
       "<ol class=list-inline><li>186580</li><li>5</li></ol>\n"
      ],
      "text/latex": [
       "\\begin{enumerate*}\n",
       "\\item 186580\n",
       "\\item 5\n",
       "\\end{enumerate*}\n"
      ],
      "text/markdown": [
       "1. 186580\n",
       "2. 5\n",
       "\n",
       "\n"
      ],
      "text/plain": [
       "[1] 186580      5"
      ]
     },
     "metadata": {},
     "output_type": "display_data"
    }
   ],
   "source": [
    "f.2257_pheno <- df_3393_2247_2257 %>%\n",
    "    filter(!(is.na(hearing_noise_cat))) %>%\n",
    "    select(FID, IID, age_final_noise, sex, hearing_noise_cat) \n",
    "    #mutate(hearing_noise_cat=recode_factor(hearing_noise_cat, `1`=\"case\",`0`=\"control\"),sex=recode_factor(sex, `1`=\"male\", `0`=\"female\" ))\n",
    "head(f.2257_pheno)\n",
    "dim(f.2257_pheno)"
   ]
  },
  {
   "cell_type": "markdown",
   "metadata": {
    "kernel": "R"
   },
   "source": [
    "## Histogram for age of cases and controls"
   ]
  },
  {
   "cell_type": "code",
   "execution_count": 311,
   "metadata": {
    "kernel": "R"
   },
   "outputs": [
    {
     "data": {
      "text/html": [
       "<table>\n",
       "<caption>A data.frame: 2 × 2</caption>\n",
       "<thead>\n",
       "\t<tr><th></th><th scope=col>hearing_aid_cat</th><th scope=col>grp.mean</th></tr>\n",
       "\t<tr><th></th><th scope=col>&lt;int&gt;</th><th scope=col>&lt;dbl&gt;</th></tr>\n",
       "</thead>\n",
       "<tbody>\n",
       "\t<tr><th scope=row>1</th><td>0</td><td>58.09252</td></tr>\n",
       "\t<tr><th scope=row>2</th><td>1</td><td>63.67521</td></tr>\n",
       "</tbody>\n",
       "</table>\n"
      ],
      "text/latex": [
       "A data.frame: 2 × 2\n",
       "\\begin{tabular}{r|ll}\n",
       "  & hearing\\_aid\\_cat & grp.mean\\\\\n",
       "  & <int> & <dbl>\\\\\n",
       "\\hline\n",
       "\t1 & 0 & 58.09252\\\\\n",
       "\t2 & 1 & 63.67521\\\\\n",
       "\\end{tabular}\n"
      ],
      "text/markdown": [
       "\n",
       "A data.frame: 2 × 2\n",
       "\n",
       "| <!--/--> | hearing_aid_cat &lt;int&gt; | grp.mean &lt;dbl&gt; |\n",
       "|---|---|---|\n",
       "| 1 | 0 | 58.09252 |\n",
       "| 2 | 1 | 63.67521 |\n",
       "\n"
      ],
      "text/plain": [
       "  hearing_aid_cat grp.mean\n",
       "1 0               58.09252\n",
       "2 1               63.67521"
      ]
     },
     "metadata": {},
     "output_type": "display_data"
    }
   ],
   "source": [
    "mu5 <- ddply(f.2257_pheno, \"hearing_noise_cat\", summarise, grp.mean=mean(age_final_noise))\n",
    "head(mu)"
   ]
  },
  {
   "cell_type": "code",
   "execution_count": null,
   "metadata": {
    "kernel": "R"
   },
   "outputs": [],
   "source": [
    "ggplot(f.2257_pheno, aes(x=age_final_noise, fill=hearing_noise_cat, color=hearing_noise_cat)) +\n",
    " geom_histogram(binwidth=1, alpha=0.5, position=\"identity\")+\n",
    "  scale_color_brewer(palette=\"Dark2\")+\n",
    "  scale_fill_brewer(palette=\"Dark2\") +\n",
    "  theme(legend.position=\"top\") +\n",
    "  geom_vline(data=mu5, aes(xintercept=grp.mean, color=hearing_noise_cat),\n",
    "             linetype=\"dashed\") +\n",
    "  theme_classic()"
   ]
  },
  {
   "cell_type": "code",
   "execution_count": 313,
   "metadata": {
    "kernel": "R"
   },
   "outputs": [
    {
     "data": {
      "text/html": [
       "28003"
      ],
      "text/latex": [
       "28003"
      ],
      "text/markdown": [
       "28003"
      ],
      "text/plain": [
       "[1] 28003"
      ]
     },
     "metadata": {},
     "output_type": "display_data"
    }
   ],
   "source": [
    "length(which((f.2257_pheno$hearing_noise_cat==\"0\" & f.2257_pheno$age_final_noise <50)))"
   ]
  },
  {
   "cell_type": "code",
   "execution_count": 314,
   "metadata": {
    "kernel": "R"
   },
   "outputs": [
    {
     "data": {
      "text/html": [
       "12347"
      ],
      "text/latex": [
       "12347"
      ],
      "text/markdown": [
       "12347"
      ],
      "text/plain": [
       "[1] 12347"
      ]
     },
     "metadata": {},
     "output_type": "display_data"
    }
   ],
   "source": [
    "length(which((f.2257_pheno$hearing_noise_cat==\"1\" & f.2257_pheno$age_final_noise <50)))"
   ]
  },
  {
   "cell_type": "code",
   "execution_count": 315,
   "metadata": {
    "kernel": "R"
   },
   "outputs": [
    {
     "data": {
      "text/html": [
       "<table>\n",
       "<caption>A data.frame: 2 × 2</caption>\n",
       "<thead>\n",
       "\t<tr><th></th><th scope=col>sex</th><th scope=col>grp.mean</th></tr>\n",
       "\t<tr><th></th><th scope=col>&lt;fct&gt;</th><th scope=col>&lt;dbl&gt;</th></tr>\n",
       "</thead>\n",
       "<tbody>\n",
       "\t<tr><th scope=row>1</th><td>1</td><td>56.98563</td></tr>\n",
       "\t<tr><th scope=row>2</th><td>0</td><td>57.40199</td></tr>\n",
       "</tbody>\n",
       "</table>\n"
      ],
      "text/latex": [
       "A data.frame: 2 × 2\n",
       "\\begin{tabular}{r|ll}\n",
       "  & sex & grp.mean\\\\\n",
       "  & <fct> & <dbl>\\\\\n",
       "\\hline\n",
       "\t1 & 1 & 56.98563\\\\\n",
       "\t2 & 0 & 57.40199\\\\\n",
       "\\end{tabular}\n"
      ],
      "text/markdown": [
       "\n",
       "A data.frame: 2 × 2\n",
       "\n",
       "| <!--/--> | sex &lt;fct&gt; | grp.mean &lt;dbl&gt; |\n",
       "|---|---|---|\n",
       "| 1 | 1 | 56.98563 |\n",
       "| 2 | 0 | 57.40199 |\n",
       "\n"
      ],
      "text/plain": [
       "  sex grp.mean\n",
       "1 1   56.98563\n",
       "2 0   57.40199"
      ]
     },
     "metadata": {},
     "output_type": "display_data"
    }
   ],
   "source": [
    "mu6 <- ddply(f.2257_pheno, \"sex\", summarise, grp.mean=mean(age_final_noise))\n",
    "head(mu6)"
   ]
  },
  {
   "cell_type": "code",
   "execution_count": 316,
   "metadata": {
    "kernel": "R"
   },
   "outputs": [
    {
     "data": {
      "image/png": "[encoded data removed]",
      "text/plain": [
       "plot without title"
      ]
     },
     "metadata": {
      "image/png": {
       "height": 420,
       "width": 420
      },
      "text/plain": {
       "height": 420,
       "width": 420
      }
     },
     "output_type": "display_data"
    }
   ],
   "source": [
    "ggplot(f.2257_pheno, aes(x=age_final_noise, fill=sex, color=sex)) +\n",
    " geom_histogram(binwidth=1, alpha=0.5, position=\"identity\")+\n",
    "  scale_color_brewer(palette=\"Dark2\")+\n",
    "  scale_fill_brewer(palette=\"Dark2\") +\n",
    "  theme(legend.position=\"top\") +\n",
    "  theme_classic() +\n",
    "  facet_grid(hearing_noise_cat ~ .)"
   ]
  },
  {
   "cell_type": "markdown",
   "metadata": {
    "kernel": "R"
   },
   "source": [
    "## Find out controls positive for f.2247 & f.3393"
   ]
  },
  {
   "cell_type": "code",
   "execution_count": 317,
   "metadata": {
    "kernel": "R"
   },
   "outputs": [
    {
     "data": {
      "text/html": [
       "<table>\n",
       "<caption>A data.frame: 6 × 19</caption>\n",
       "<thead>\n",
       "\t<tr><th></th><th scope=col>FID</th><th scope=col>IID</th><th scope=col>age_final_noise</th><th scope=col>sex</th><th scope=col>hearing_noise_cat</th><th scope=col>f.2247.0.0</th><th scope=col>f.2247.1.0</th><th scope=col>f.2247.2.0</th><th scope=col>f.2247.3.0</th><th scope=col>f.3393.0.0</th><th scope=col>f.3393.1.0</th><th scope=col>f.3393.2.0</th><th scope=col>f.3393.3.0</th><th scope=col>f.3393.0.0_recode</th><th scope=col>f.3393.1.0_recode</th><th scope=col>f.3393.2.0_recode</th><th scope=col>f.3393.3.0_recode</th><th scope=col>remove_2247</th><th scope=col>remove_3393</th></tr>\n",
       "\t<tr><th></th><th scope=col>&lt;int&gt;</th><th scope=col>&lt;int&gt;</th><th scope=col>&lt;int&gt;</th><th scope=col>&lt;fct&gt;</th><th scope=col>&lt;int&gt;</th><th scope=col>&lt;fct&gt;</th><th scope=col>&lt;fct&gt;</th><th scope=col>&lt;fct&gt;</th><th scope=col>&lt;fct&gt;</th><th scope=col>&lt;fct&gt;</th><th scope=col>&lt;fct&gt;</th><th scope=col>&lt;fct&gt;</th><th scope=col>&lt;fct&gt;</th><th scope=col>&lt;fct&gt;</th><th scope=col>&lt;fct&gt;</th><th scope=col>&lt;fct&gt;</th><th scope=col>&lt;fct&gt;</th><th scope=col>&lt;lgl&gt;</th><th scope=col>&lt;lgl&gt;</th></tr>\n",
       "</thead>\n",
       "<tbody>\n",
       "\t<tr><th scope=row>1</th><td>1000078</td><td>1000078</td><td>60</td><td>1</td><td>0</td><td>No         </td><td>No</td><td>No</td><td>NA</td><td>NA</td><td>No</td><td>No</td><td>NA</td><td>NA</td><td>0 </td><td>0 </td><td>NA</td><td>FALSE</td><td>FALSE</td></tr>\n",
       "\t<tr><th scope=row>2</th><td>1000081</td><td>1000081</td><td>67</td><td>0</td><td>0</td><td>No         </td><td>NA</td><td>NA</td><td>NA</td><td>No</td><td>NA</td><td>NA</td><td>NA</td><td>0 </td><td>NA</td><td>NA</td><td>NA</td><td>FALSE</td><td>FALSE</td></tr>\n",
       "\t<tr><th scope=row>3</th><td>1000210</td><td>1000210</td><td>66</td><td>0</td><td>0</td><td>Do not know</td><td>NA</td><td>NA</td><td>NA</td><td>NA</td><td>NA</td><td>NA</td><td>NA</td><td>NA</td><td>NA</td><td>NA</td><td>NA</td><td>FALSE</td><td>FALSE</td></tr>\n",
       "\t<tr><th scope=row>4</th><td>1000224</td><td>1000224</td><td>58</td><td>1</td><td>0</td><td>No         </td><td>NA</td><td>NA</td><td>NA</td><td>NA</td><td>NA</td><td>NA</td><td>NA</td><td>NA</td><td>NA</td><td>NA</td><td>NA</td><td>FALSE</td><td>FALSE</td></tr>\n",
       "\t<tr><th scope=row>5</th><td>1000236</td><td>1000236</td><td>70</td><td>0</td><td>0</td><td>No         </td><td>NA</td><td>No</td><td>NA</td><td>No</td><td>NA</td><td>No</td><td>NA</td><td>0 </td><td>NA</td><td>0 </td><td>NA</td><td>FALSE</td><td>FALSE</td></tr>\n",
       "\t<tr><th scope=row>6</th><td>1000255</td><td>1000255</td><td>61</td><td>1</td><td>0</td><td>No         </td><td>NA</td><td>No</td><td>NA</td><td>No</td><td>NA</td><td>No</td><td>NA</td><td>0 </td><td>NA</td><td>0 </td><td>NA</td><td>FALSE</td><td>FALSE</td></tr>\n",
       "</tbody>\n",
       "</table>\n"
      ],
      "text/latex": [
       "A data.frame: 6 × 19\n",
       "\\begin{tabular}{r|lllllllllllllllllll}\n",
       "  & FID & IID & age\\_final\\_noise & sex & hearing\\_noise\\_cat & f.2247.0.0 & f.2247.1.0 & f.2247.2.0 & f.2247.3.0 & f.3393.0.0 & f.3393.1.0 & f.3393.2.0 & f.3393.3.0 & f.3393.0.0\\_recode & f.3393.1.0\\_recode & f.3393.2.0\\_recode & f.3393.3.0\\_recode & remove\\_2247 & remove\\_3393\\\\\n",
       "  & <int> & <int> & <int> & <fct> & <int> & <fct> & <fct> & <fct> & <fct> & <fct> & <fct> & <fct> & <fct> & <fct> & <fct> & <fct> & <fct> & <lgl> & <lgl>\\\\\n",
       "\\hline\n",
       "\t1 & 1000078 & 1000078 & 60 & 1 & 0 & No          & No & No & NA & NA & No & No & NA & NA & 0  & 0  & NA & FALSE & FALSE\\\\\n",
       "\t2 & 1000081 & 1000081 & 67 & 0 & 0 & No          & NA & NA & NA & No & NA & NA & NA & 0  & NA & NA & NA & FALSE & FALSE\\\\\n",
       "\t3 & 1000210 & 1000210 & 66 & 0 & 0 & Do not know & NA & NA & NA & NA & NA & NA & NA & NA & NA & NA & NA & FALSE & FALSE\\\\\n",
       "\t4 & 1000224 & 1000224 & 58 & 1 & 0 & No          & NA & NA & NA & NA & NA & NA & NA & NA & NA & NA & NA & FALSE & FALSE\\\\\n",
       "\t5 & 1000236 & 1000236 & 70 & 0 & 0 & No          & NA & No & NA & No & NA & No & NA & 0  & NA & 0  & NA & FALSE & FALSE\\\\\n",
       "\t6 & 1000255 & 1000255 & 61 & 1 & 0 & No          & NA & No & NA & No & NA & No & NA & 0  & NA & 0  & NA & FALSE & FALSE\\\\\n",
       "\\end{tabular}\n"
      ],
      "text/markdown": [
       "\n",
       "A data.frame: 6 × 19\n",
       "\n",
       "| <!--/--> | FID &lt;int&gt; | IID &lt;int&gt; | age_final_noise &lt;int&gt; | sex &lt;fct&gt; | hearing_noise_cat &lt;int&gt; | f.2247.0.0 &lt;fct&gt; | f.2247.1.0 &lt;fct&gt; | f.2247.2.0 &lt;fct&gt; | f.2247.3.0 &lt;fct&gt; | f.3393.0.0 &lt;fct&gt; | f.3393.1.0 &lt;fct&gt; | f.3393.2.0 &lt;fct&gt; | f.3393.3.0 &lt;fct&gt; | f.3393.0.0_recode &lt;fct&gt; | f.3393.1.0_recode &lt;fct&gt; | f.3393.2.0_recode &lt;fct&gt; | f.3393.3.0_recode &lt;fct&gt; | remove_2247 &lt;lgl&gt; | remove_3393 &lt;lgl&gt; |\n",
       "|---|---|---|---|---|---|---|---|---|---|---|---|---|---|---|---|---|---|---|---|\n",
       "| 1 | 1000078 | 1000078 | 60 | 1 | 0 | No          | No | No | NA | NA | No | No | NA | NA | 0  | 0  | NA | FALSE | FALSE |\n",
       "| 2 | 1000081 | 1000081 | 67 | 0 | 0 | No          | NA | NA | NA | No | NA | NA | NA | 0  | NA | NA | NA | FALSE | FALSE |\n",
       "| 3 | 1000210 | 1000210 | 66 | 0 | 0 | Do not know | NA | NA | NA | NA | NA | NA | NA | NA | NA | NA | NA | FALSE | FALSE |\n",
       "| 4 | 1000224 | 1000224 | 58 | 1 | 0 | No          | NA | NA | NA | NA | NA | NA | NA | NA | NA | NA | NA | FALSE | FALSE |\n",
       "| 5 | 1000236 | 1000236 | 70 | 0 | 0 | No          | NA | No | NA | No | NA | No | NA | 0  | NA | 0  | NA | FALSE | FALSE |\n",
       "| 6 | 1000255 | 1000255 | 61 | 1 | 0 | No          | NA | No | NA | No | NA | No | NA | 0  | NA | 0  | NA | FALSE | FALSE |\n",
       "\n"
      ],
      "text/plain": [
       "  FID     IID     age_final_noise sex hearing_noise_cat f.2247.0.0  f.2247.1.0\n",
       "1 1000078 1000078 60              1   0                 No          No        \n",
       "2 1000081 1000081 67              0   0                 No          NA        \n",
       "3 1000210 1000210 66              0   0                 Do not know NA        \n",
       "4 1000224 1000224 58              1   0                 No          NA        \n",
       "5 1000236 1000236 70              0   0                 No          NA        \n",
       "6 1000255 1000255 61              1   0                 No          NA        \n",
       "  f.2247.2.0 f.2247.3.0 f.3393.0.0 f.3393.1.0 f.3393.2.0 f.3393.3.0\n",
       "1 No         NA         NA         No         No         NA        \n",
       "2 NA         NA         No         NA         NA         NA        \n",
       "3 NA         NA         NA         NA         NA         NA        \n",
       "4 NA         NA         NA         NA         NA         NA        \n",
       "5 No         NA         No         NA         No         NA        \n",
       "6 No         NA         No         NA         No         NA        \n",
       "  f.3393.0.0_recode f.3393.1.0_recode f.3393.2.0_recode f.3393.3.0_recode\n",
       "1 NA                0                 0                 NA               \n",
       "2 0                 NA                NA                NA               \n",
       "3 NA                NA                NA                NA               \n",
       "4 NA                NA                NA                NA               \n",
       "5 0                 NA                0                 NA               \n",
       "6 0                 NA                0                 NA               \n",
       "  remove_2247 remove_3393\n",
       "1 FALSE       FALSE      \n",
       "2 FALSE       FALSE      \n",
       "3 FALSE       FALSE      \n",
       "4 FALSE       FALSE      \n",
       "5 FALSE       FALSE      \n",
       "6 FALSE       FALSE      "
      ]
     },
     "metadata": {},
     "output_type": "display_data"
    }
   ],
   "source": [
    "control_check_2257 <- df_3393_2247_2257 %>%\n",
    "    filter(hearing_noise_cat==0) %>%\n",
    "    select(FID, IID, age_final_noise, sex, hearing_noise_cat, starts_with(\"f.2247\"), starts_with(\"f.3393\")) %>%\n",
    "    mutate(remove_2247 = apply(select(.,starts_with(\"f.2247\")), 1, function(x) length(which(x == \"Yes\")) > 0),\n",
    "           remove_3393 = apply(select(.,starts_with(\"f.3393\")), 1, function(x) length(which(x == \"Yes\")) > 0))\n",
    "head(control_check_2257)"
   ]
  },
  {
   "cell_type": "code",
   "execution_count": 140,
   "metadata": {
    "kernel": "R"
   },
   "outputs": [
    {
     "data": {
      "text/html": [
       "7385"
      ],
      "text/latex": [
       "7385"
      ],
      "text/markdown": [
       "7385"
      ],
      "text/plain": [
       "[1] 7385"
      ]
     },
     "metadata": {},
     "output_type": "display_data"
    },
    {
     "data": {
      "text/html": [
       "271"
      ],
      "text/latex": [
       "271"
      ],
      "text/markdown": [
       "271"
      ],
      "text/plain": [
       "[1] 271"
      ]
     },
     "metadata": {},
     "output_type": "display_data"
    },
    {
     "data": {
      "text/html": [
       "222"
      ],
      "text/latex": [
       "222"
      ],
      "text/markdown": [
       "222"
      ],
      "text/plain": [
       "[1] 222"
      ]
     },
     "metadata": {},
     "output_type": "display_data"
    },
    {
     "data": {
      "text/html": [
       "7434"
      ],
      "text/latex": [
       "7434"
      ],
      "text/markdown": [
       "7434"
      ],
      "text/plain": [
       "[1] 7434"
      ]
     },
     "metadata": {},
     "output_type": "display_data"
    }
   ],
   "source": [
    "length(which(control_check_2257$remove_2247==TRUE)) #controls that replied yes to f.2247\n",
    "length(which(control_check_2257$remove_3393==TRUE)) #controls that replied yes to f.3393\n",
    "length(which(control_check_2257$remove_2247==TRUE & control_check_2257$remove_3393==TRUE)) # controls that replied yes to both\n",
    "length(which(control_check_2257$remove_2247==TRUE | control_check_2257$remove_3393==TRUE)) # controls that replied yes to either"
   ]
  },
  {
   "cell_type": "markdown",
   "metadata": {
    "kernel": "R"
   },
   "source": [
    "### Export files white-British"
   ]
  },
  {
   "cell_type": "code",
   "execution_count": 133,
   "metadata": {
    "kernel": "R"
   },
   "outputs": [],
   "source": [
    "write.table(f.2257_pheno, '200828_UKBB_Hearing_background_noise_f2257', quote = FALSE, row.names = FALSE)"
   ]
  },
  {
   "cell_type": "markdown",
   "metadata": {
    "kernel": "R"
   },
   "source": [
    "### Export files white expanded"
   ]
  },
  {
   "cell_type": "code",
   "execution_count": 133,
   "metadata": {
    "kernel": "R"
   },
   "outputs": [],
   "source": [
    "write.table(f.2257_pheno, '120120_UKBB_Hearing_background_noise_f2257_expandedwhite', quote = FALSE, row.names = FALSE)"
   ]
  },
  {
   "cell_type": "markdown",
   "metadata": {
    "kernel": "R"
   },
   "source": [
    "### Export files exome data"
   ]
  },
  {
   "cell_type": "code",
   "execution_count": 147,
   "metadata": {
    "kernel": "R"
   },
   "outputs": [
    {
     "data": {
      "text/html": [
       "164"
      ],
      "text/latex": [
       "164"
      ],
      "text/markdown": [
       "164"
      ],
      "text/plain": [
       "[1] 164"
      ]
     },
     "metadata": {},
     "output_type": "display_data"
    }
   ],
   "source": [
    "length(which(is.na(f.2257_pheno$sex)))"
   ]
  },
  {
   "cell_type": "code",
   "execution_count": 318,
   "metadata": {
    "kernel": "R"
   },
   "outputs": [],
   "source": [
    "write.table(f.2257_pheno, 'phenotypes_exome_data/010421_UKBB_Hearing_background_noise_f2257_exomes', quote = FALSE, row.names = FALSE)"
   ]
  },
  {
   "cell_type": "markdown",
   "metadata": {
    "kernel": "R"
   },
   "source": [
    "## Combined phenotype f.2247 and f.2257"
   ]
  },
  {
   "cell_type": "code",
   "execution_count": 319,
   "metadata": {
    "kernel": "R"
   },
   "outputs": [
    {
     "data": {
      "text/html": [
       "<table>\n",
       "<caption>A data.frame: 6 × 2276</caption>\n",
       "<thead>\n",
       "\t<tr><th></th><th scope=col>IID</th><th scope=col>FID</th><th scope=col>ignore1</th><th scope=col>ignore2</th><th scope=col>ignore3</th><th scope=col>ignore4</th><th scope=col>f.31.0.0</th><th scope=col>f.34.0.0</th><th scope=col>f.53.0.0</th><th scope=col>f.53.1.0</th><th scope=col>⋯</th><th scope=col>f.3393.3.0_recode</th><th scope=col>hearing_aid_cat</th><th scope=col>age_final_aid</th><th scope=col>hearing_diff_cat</th><th scope=col>age_final_diff</th><th scope=col>hearing_diff_cat_new</th><th scope=col>hearing_aid_cat_new</th><th scope=col>hearing_diff_new</th><th scope=col>hearing_noise_cat</th><th scope=col>age_final_noise</th></tr>\n",
       "\t<tr><th></th><th scope=col>&lt;int&gt;</th><th scope=col>&lt;int&gt;</th><th scope=col>&lt;int&gt;</th><th scope=col>&lt;int&gt;</th><th scope=col>&lt;int&gt;</th><th scope=col>&lt;int&gt;</th><th scope=col>&lt;fct&gt;</th><th scope=col>&lt;int&gt;</th><th scope=col>&lt;fct&gt;</th><th scope=col>&lt;fct&gt;</th><th scope=col>⋯</th><th scope=col>&lt;fct&gt;</th><th scope=col>&lt;int&gt;</th><th scope=col>&lt;int&gt;</th><th scope=col>&lt;int&gt;</th><th scope=col>&lt;int&gt;</th><th scope=col>&lt;fct&gt;</th><th scope=col>&lt;fct&gt;</th><th scope=col>&lt;fct&gt;</th><th scope=col>&lt;int&gt;</th><th scope=col>&lt;int&gt;</th></tr>\n",
       "</thead>\n",
       "<tbody>\n",
       "\t<tr><th scope=row>1</th><td>1000035</td><td>1000035</td><td>0</td><td>0</td><td>1</td><td>-9</td><td>Male  </td><td>1944</td><td>2007-11-08</td><td>NA</td><td>⋯</td><td>NA</td><td>0</td><td>63</td><td>0</td><td>63</td><td>control</td><td>control</td><td>0</td><td>1</td><td>63</td></tr>\n",
       "\t<tr><th scope=row>2</th><td>1000304</td><td>1000304</td><td>0</td><td>0</td><td>2</td><td>-9</td><td>Female</td><td>1951</td><td>2008-02-15</td><td>NA</td><td>⋯</td><td>NA</td><td>0</td><td>56</td><td>0</td><td>56</td><td>control</td><td>control</td><td>0</td><td>1</td><td>56</td></tr>\n",
       "\t<tr><th scope=row>3</th><td>1000817</td><td>1000817</td><td>0</td><td>0</td><td>1</td><td>-9</td><td>Male  </td><td>1950</td><td>2009-04-18</td><td>NA</td><td>⋯</td><td>NA</td><td>0</td><td>58</td><td>0</td><td>58</td><td>control</td><td>control</td><td>0</td><td>1</td><td>58</td></tr>\n",
       "\t<tr><th scope=row>4</th><td>1000988</td><td>1000988</td><td>0</td><td>0</td><td>2</td><td>-9</td><td>Female</td><td>1942</td><td>2008-04-10</td><td>NA</td><td>⋯</td><td>NA</td><td>0</td><td>65</td><td>0</td><td>65</td><td>control</td><td>control</td><td>0</td><td>1</td><td>65</td></tr>\n",
       "\t<tr><th scope=row>5</th><td>1001080</td><td>1001080</td><td>0</td><td>0</td><td>2</td><td>-9</td><td>Female</td><td>1947</td><td>2010-04-30</td><td>NA</td><td>⋯</td><td>NA</td><td>0</td><td>62</td><td>0</td><td>62</td><td>control</td><td>control</td><td>0</td><td>1</td><td>62</td></tr>\n",
       "\t<tr><th scope=row>6</th><td>1001316</td><td>1001316</td><td>0</td><td>0</td><td>1</td><td>-9</td><td>Male  </td><td>1964</td><td>2010-04-08</td><td>NA</td><td>⋯</td><td>NA</td><td>0</td><td>51</td><td>1</td><td>51</td><td>case   </td><td>control</td><td>1</td><td>0</td><td>51</td></tr>\n",
       "</tbody>\n",
       "</table>\n"
      ],
      "text/latex": [
       "A data.frame: 6 × 2276\n",
       "\\begin{tabular}{r|lllllllllllllllllllll}\n",
       "  & IID & FID & ignore1 & ignore2 & ignore3 & ignore4 & f.31.0.0 & f.34.0.0 & f.53.0.0 & f.53.1.0 & ⋯ & f.3393.3.0\\_recode & hearing\\_aid\\_cat & age\\_final\\_aid & hearing\\_diff\\_cat & age\\_final\\_diff & hearing\\_diff\\_cat\\_new & hearing\\_aid\\_cat\\_new & hearing\\_diff\\_new & hearing\\_noise\\_cat & age\\_final\\_noise\\\\\n",
       "  & <int> & <int> & <int> & <int> & <int> & <int> & <fct> & <int> & <fct> & <fct> & ⋯ & <fct> & <int> & <int> & <int> & <int> & <fct> & <fct> & <fct> & <int> & <int>\\\\\n",
       "\\hline\n",
       "\t1 & 1000035 & 1000035 & 0 & 0 & 1 & -9 & Male   & 1944 & 2007-11-08 & NA & ⋯ & NA & 0 & 63 & 0 & 63 & control & control & 0 & 1 & 63\\\\\n",
       "\t2 & 1000304 & 1000304 & 0 & 0 & 2 & -9 & Female & 1951 & 2008-02-15 & NA & ⋯ & NA & 0 & 56 & 0 & 56 & control & control & 0 & 1 & 56\\\\\n",
       "\t3 & 1000817 & 1000817 & 0 & 0 & 1 & -9 & Male   & 1950 & 2009-04-18 & NA & ⋯ & NA & 0 & 58 & 0 & 58 & control & control & 0 & 1 & 58\\\\\n",
       "\t4 & 1000988 & 1000988 & 0 & 0 & 2 & -9 & Female & 1942 & 2008-04-10 & NA & ⋯ & NA & 0 & 65 & 0 & 65 & control & control & 0 & 1 & 65\\\\\n",
       "\t5 & 1001080 & 1001080 & 0 & 0 & 2 & -9 & Female & 1947 & 2010-04-30 & NA & ⋯ & NA & 0 & 62 & 0 & 62 & control & control & 0 & 1 & 62\\\\\n",
       "\t6 & 1001316 & 1001316 & 0 & 0 & 1 & -9 & Male   & 1964 & 2010-04-08 & NA & ⋯ & NA & 0 & 51 & 1 & 51 & case    & control & 1 & 0 & 51\\\\\n",
       "\\end{tabular}\n"
      ],
      "text/markdown": [
       "\n",
       "A data.frame: 6 × 2276\n",
       "\n",
       "| <!--/--> | IID &lt;int&gt; | FID &lt;int&gt; | ignore1 &lt;int&gt; | ignore2 &lt;int&gt; | ignore3 &lt;int&gt; | ignore4 &lt;int&gt; | f.31.0.0 &lt;fct&gt; | f.34.0.0 &lt;int&gt; | f.53.0.0 &lt;fct&gt; | f.53.1.0 &lt;fct&gt; | ⋯ ⋯ | f.3393.3.0_recode &lt;fct&gt; | hearing_aid_cat &lt;int&gt; | age_final_aid &lt;int&gt; | hearing_diff_cat &lt;int&gt; | age_final_diff &lt;int&gt; | hearing_diff_cat_new &lt;fct&gt; | hearing_aid_cat_new &lt;fct&gt; | hearing_diff_new &lt;fct&gt; | hearing_noise_cat &lt;int&gt; | age_final_noise &lt;int&gt; |\n",
       "|---|---|---|---|---|---|---|---|---|---|---|---|---|---|---|---|---|---|---|---|---|---|\n",
       "| 1 | 1000035 | 1000035 | 0 | 0 | 1 | -9 | Male   | 1944 | 2007-11-08 | NA | ⋯ | NA | 0 | 63 | 0 | 63 | control | control | 0 | 1 | 63 |\n",
       "| 2 | 1000304 | 1000304 | 0 | 0 | 2 | -9 | Female | 1951 | 2008-02-15 | NA | ⋯ | NA | 0 | 56 | 0 | 56 | control | control | 0 | 1 | 56 |\n",
       "| 3 | 1000817 | 1000817 | 0 | 0 | 1 | -9 | Male   | 1950 | 2009-04-18 | NA | ⋯ | NA | 0 | 58 | 0 | 58 | control | control | 0 | 1 | 58 |\n",
       "| 4 | 1000988 | 1000988 | 0 | 0 | 2 | -9 | Female | 1942 | 2008-04-10 | NA | ⋯ | NA | 0 | 65 | 0 | 65 | control | control | 0 | 1 | 65 |\n",
       "| 5 | 1001080 | 1001080 | 0 | 0 | 2 | -9 | Female | 1947 | 2010-04-30 | NA | ⋯ | NA | 0 | 62 | 0 | 62 | control | control | 0 | 1 | 62 |\n",
       "| 6 | 1001316 | 1001316 | 0 | 0 | 1 | -9 | Male   | 1964 | 2010-04-08 | NA | ⋯ | NA | 0 | 51 | 1 | 51 | case    | control | 1 | 0 | 51 |\n",
       "\n"
      ],
      "text/plain": [
       "  IID     FID     ignore1 ignore2 ignore3 ignore4 f.31.0.0 f.34.0.0 f.53.0.0  \n",
       "1 1000035 1000035 0       0       1       -9      Male     1944     2007-11-08\n",
       "2 1000304 1000304 0       0       2       -9      Female   1951     2008-02-15\n",
       "3 1000817 1000817 0       0       1       -9      Male     1950     2009-04-18\n",
       "4 1000988 1000988 0       0       2       -9      Female   1942     2008-04-10\n",
       "5 1001080 1001080 0       0       2       -9      Female   1947     2010-04-30\n",
       "6 1001316 1001316 0       0       1       -9      Male     1964     2010-04-08\n",
       "  f.53.1.0 ⋯ f.3393.3.0_recode hearing_aid_cat age_final_aid hearing_diff_cat\n",
       "1 NA       ⋯ NA                0               63            0               \n",
       "2 NA       ⋯ NA                0               56            0               \n",
       "3 NA       ⋯ NA                0               58            0               \n",
       "4 NA       ⋯ NA                0               65            0               \n",
       "5 NA       ⋯ NA                0               62            0               \n",
       "6 NA       ⋯ NA                0               51            1               \n",
       "  age_final_diff hearing_diff_cat_new hearing_aid_cat_new hearing_diff_new\n",
       "1 63             control              control             0               \n",
       "2 56             control              control             0               \n",
       "3 58             control              control             0               \n",
       "4 65             control              control             0               \n",
       "5 62             control              control             0               \n",
       "6 51             case                 control             1               \n",
       "  hearing_noise_cat age_final_noise\n",
       "1 1                 63             \n",
       "2 1                 56             \n",
       "3 1                 58             \n",
       "4 1                 65             \n",
       "5 1                 62             \n",
       "6 0                 51             "
      ]
     },
     "metadata": {},
     "output_type": "display_data"
    },
    {
     "name": "stdout",
     "output_type": "stream",
     "text": [
      "There are  32814 individuals inconsistent for f.2247 and f.2257"
     ]
    },
    {
     "data": {
      "text/html": [
       "<style>\n",
       ".list-inline {list-style: none; margin:0; padding: 0}\n",
       ".list-inline>li {display: inline-block}\n",
       ".list-inline>li:not(:last-child)::after {content: \"\\00b7\"; padding: 0 .5ex}\n",
       "</style>\n",
       "<ol class=list-inline><li>193866</li><li>2276</li></ol>\n"
      ],
      "text/latex": [
       "\\begin{enumerate*}\n",
       "\\item 193866\n",
       "\\item 2276\n",
       "\\end{enumerate*}\n"
      ],
      "text/markdown": [
       "1. 193866\n",
       "2. 2276\n",
       "\n",
       "\n"
      ],
      "text/plain": [
       "[1] 193866   2276"
      ]
     },
     "metadata": {},
     "output_type": "display_data"
    }
   ],
   "source": [
    "hybrid_inconsistent <- df_3393_2247_2257 %>%\n",
    " filter(hearing_noise_cat != hearing_diff_new)\n",
    "head(hybrid_inconsistent)\n",
    "cat (\"There are \",nrow(hybrid_inconsistent),\"individuals inconsistent for f.2247 and f.2257\")\n",
    "dim(df_3393_2247_2257)"
   ]
  },
  {
   "cell_type": "code",
   "execution_count": 320,
   "metadata": {
    "kernel": "R"
   },
   "outputs": [
    {
     "data": {
      "text/html": [
       "177923"
      ],
      "text/latex": [
       "177923"
      ],
      "text/markdown": [
       "177923"
      ],
      "text/plain": [
       "[1] 177923"
      ]
     },
     "metadata": {},
     "output_type": "display_data"
    }
   ],
   "source": [
    "length(which(!is.na(df_3393_2247_2257$hearing_noise_cat) & !is.na(df_3393_2247_2257$hearing_diff_new)))"
   ]
  },
  {
   "cell_type": "code",
   "execution_count": 321,
   "metadata": {
    "kernel": "R"
   },
   "outputs": [
    {
     "data": {
      "text/html": [
       "15943"
      ],
      "text/latex": [
       "15943"
      ],
      "text/markdown": [
       "15943"
      ],
      "text/plain": [
       "[1] 15943"
      ]
     },
     "metadata": {},
     "output_type": "display_data"
    }
   ],
   "source": [
    "length(which(is.na(df_3393_2247_2257$hearing_noise_cat) | is.na(df_3393_2247_2257$hearing_diff_new))) "
   ]
  },
  {
   "cell_type": "code",
   "execution_count": 323,
   "metadata": {
    "kernel": "R"
   },
   "outputs": [
    {
     "data": {
      "text/html": [
       "<table>\n",
       "<caption>A data.frame: 6 × 2276</caption>\n",
       "<thead>\n",
       "\t<tr><th></th><th scope=col>IID</th><th scope=col>FID</th><th scope=col>ignore1</th><th scope=col>ignore2</th><th scope=col>ignore3</th><th scope=col>ignore4</th><th scope=col>f.31.0.0</th><th scope=col>f.34.0.0</th><th scope=col>f.53.0.0</th><th scope=col>f.53.1.0</th><th scope=col>⋯</th><th scope=col>f.3393.3.0_recode</th><th scope=col>hearing_aid_cat</th><th scope=col>age_final_aid</th><th scope=col>hearing_diff_cat</th><th scope=col>age_final_diff</th><th scope=col>hearing_diff_cat_new</th><th scope=col>hearing_aid_cat_new</th><th scope=col>hearing_diff_new</th><th scope=col>hearing_noise_cat</th><th scope=col>age_final_noise</th></tr>\n",
       "\t<tr><th></th><th scope=col>&lt;int&gt;</th><th scope=col>&lt;int&gt;</th><th scope=col>&lt;int&gt;</th><th scope=col>&lt;int&gt;</th><th scope=col>&lt;int&gt;</th><th scope=col>&lt;int&gt;</th><th scope=col>&lt;fct&gt;</th><th scope=col>&lt;int&gt;</th><th scope=col>&lt;fct&gt;</th><th scope=col>&lt;fct&gt;</th><th scope=col>⋯</th><th scope=col>&lt;fct&gt;</th><th scope=col>&lt;int&gt;</th><th scope=col>&lt;int&gt;</th><th scope=col>&lt;int&gt;</th><th scope=col>&lt;int&gt;</th><th scope=col>&lt;fct&gt;</th><th scope=col>&lt;fct&gt;</th><th scope=col>&lt;fct&gt;</th><th scope=col>&lt;int&gt;</th><th scope=col>&lt;int&gt;</th></tr>\n",
       "</thead>\n",
       "<tbody>\n",
       "\t<tr><th scope=row>1</th><td>1000019</td><td>1000019</td><td>0</td><td>0</td><td>2</td><td>-9</td><td>Female</td><td>1960</td><td>2008-01-24</td><td>NA        </td><td>⋯</td><td>NA</td><td> 0</td><td>47</td><td>1</td><td>47</td><td>case   </td><td>control</td><td>1</td><td>1</td><td>47</td></tr>\n",
       "\t<tr><th scope=row>2</th><td>1000078</td><td>1000078</td><td>0</td><td>0</td><td>2</td><td>-9</td><td>Female</td><td>1955</td><td>2007-08-20</td><td>2012-11-01</td><td>⋯</td><td>NA</td><td> 0</td><td>60</td><td>0</td><td>60</td><td>control</td><td>control</td><td>0</td><td>0</td><td>60</td></tr>\n",
       "\t<tr><th scope=row>3</th><td>1000081</td><td>1000081</td><td>0</td><td>0</td><td>1</td><td>-9</td><td>Male  </td><td>1942</td><td>2009-12-03</td><td>NA        </td><td>⋯</td><td>NA</td><td> 0</td><td>67</td><td>0</td><td>67</td><td>control</td><td>control</td><td>0</td><td>0</td><td>67</td></tr>\n",
       "\t<tr><th scope=row>4</th><td>1000198</td><td>1000198</td><td>0</td><td>0</td><td>2</td><td>-9</td><td>Female</td><td>1967</td><td>2009-03-27</td><td>NA        </td><td>⋯</td><td>NA</td><td> 0</td><td>41</td><td>1</td><td>41</td><td>case   </td><td>control</td><td>1</td><td>1</td><td>41</td></tr>\n",
       "\t<tr><th scope=row>5</th><td>1000224</td><td>1000224</td><td>0</td><td>0</td><td>2</td><td>-9</td><td>Female</td><td>1951</td><td>2009-05-01</td><td>NA        </td><td>⋯</td><td>NA</td><td>NA</td><td>NA</td><td>0</td><td>58</td><td>control</td><td>NA     </td><td>0</td><td>0</td><td>58</td></tr>\n",
       "\t<tr><th scope=row>6</th><td>1000236</td><td>1000236</td><td>0</td><td>0</td><td>1</td><td>-9</td><td>Male  </td><td>1948</td><td>2010-01-30</td><td>NA        </td><td>⋯</td><td>NA</td><td> 0</td><td>70</td><td>0</td><td>70</td><td>control</td><td>control</td><td>0</td><td>0</td><td>70</td></tr>\n",
       "</tbody>\n",
       "</table>\n"
      ],
      "text/latex": [
       "A data.frame: 6 × 2276\n",
       "\\begin{tabular}{r|lllllllllllllllllllll}\n",
       "  & IID & FID & ignore1 & ignore2 & ignore3 & ignore4 & f.31.0.0 & f.34.0.0 & f.53.0.0 & f.53.1.0 & ⋯ & f.3393.3.0\\_recode & hearing\\_aid\\_cat & age\\_final\\_aid & hearing\\_diff\\_cat & age\\_final\\_diff & hearing\\_diff\\_cat\\_new & hearing\\_aid\\_cat\\_new & hearing\\_diff\\_new & hearing\\_noise\\_cat & age\\_final\\_noise\\\\\n",
       "  & <int> & <int> & <int> & <int> & <int> & <int> & <fct> & <int> & <fct> & <fct> & ⋯ & <fct> & <int> & <int> & <int> & <int> & <fct> & <fct> & <fct> & <int> & <int>\\\\\n",
       "\\hline\n",
       "\t1 & 1000019 & 1000019 & 0 & 0 & 2 & -9 & Female & 1960 & 2008-01-24 & NA         & ⋯ & NA &  0 & 47 & 1 & 47 & case    & control & 1 & 1 & 47\\\\\n",
       "\t2 & 1000078 & 1000078 & 0 & 0 & 2 & -9 & Female & 1955 & 2007-08-20 & 2012-11-01 & ⋯ & NA &  0 & 60 & 0 & 60 & control & control & 0 & 0 & 60\\\\\n",
       "\t3 & 1000081 & 1000081 & 0 & 0 & 1 & -9 & Male   & 1942 & 2009-12-03 & NA         & ⋯ & NA &  0 & 67 & 0 & 67 & control & control & 0 & 0 & 67\\\\\n",
       "\t4 & 1000198 & 1000198 & 0 & 0 & 2 & -9 & Female & 1967 & 2009-03-27 & NA         & ⋯ & NA &  0 & 41 & 1 & 41 & case    & control & 1 & 1 & 41\\\\\n",
       "\t5 & 1000224 & 1000224 & 0 & 0 & 2 & -9 & Female & 1951 & 2009-05-01 & NA         & ⋯ & NA & NA & NA & 0 & 58 & control & NA      & 0 & 0 & 58\\\\\n",
       "\t6 & 1000236 & 1000236 & 0 & 0 & 1 & -9 & Male   & 1948 & 2010-01-30 & NA         & ⋯ & NA &  0 & 70 & 0 & 70 & control & control & 0 & 0 & 70\\\\\n",
       "\\end{tabular}\n"
      ],
      "text/markdown": [
       "\n",
       "A data.frame: 6 × 2276\n",
       "\n",
       "| <!--/--> | IID &lt;int&gt; | FID &lt;int&gt; | ignore1 &lt;int&gt; | ignore2 &lt;int&gt; | ignore3 &lt;int&gt; | ignore4 &lt;int&gt; | f.31.0.0 &lt;fct&gt; | f.34.0.0 &lt;int&gt; | f.53.0.0 &lt;fct&gt; | f.53.1.0 &lt;fct&gt; | ⋯ ⋯ | f.3393.3.0_recode &lt;fct&gt; | hearing_aid_cat &lt;int&gt; | age_final_aid &lt;int&gt; | hearing_diff_cat &lt;int&gt; | age_final_diff &lt;int&gt; | hearing_diff_cat_new &lt;fct&gt; | hearing_aid_cat_new &lt;fct&gt; | hearing_diff_new &lt;fct&gt; | hearing_noise_cat &lt;int&gt; | age_final_noise &lt;int&gt; |\n",
       "|---|---|---|---|---|---|---|---|---|---|---|---|---|---|---|---|---|---|---|---|---|---|\n",
       "| 1 | 1000019 | 1000019 | 0 | 0 | 2 | -9 | Female | 1960 | 2008-01-24 | NA         | ⋯ | NA |  0 | 47 | 1 | 47 | case    | control | 1 | 1 | 47 |\n",
       "| 2 | 1000078 | 1000078 | 0 | 0 | 2 | -9 | Female | 1955 | 2007-08-20 | 2012-11-01 | ⋯ | NA |  0 | 60 | 0 | 60 | control | control | 0 | 0 | 60 |\n",
       "| 3 | 1000081 | 1000081 | 0 | 0 | 1 | -9 | Male   | 1942 | 2009-12-03 | NA         | ⋯ | NA |  0 | 67 | 0 | 67 | control | control | 0 | 0 | 67 |\n",
       "| 4 | 1000198 | 1000198 | 0 | 0 | 2 | -9 | Female | 1967 | 2009-03-27 | NA         | ⋯ | NA |  0 | 41 | 1 | 41 | case    | control | 1 | 1 | 41 |\n",
       "| 5 | 1000224 | 1000224 | 0 | 0 | 2 | -9 | Female | 1951 | 2009-05-01 | NA         | ⋯ | NA | NA | NA | 0 | 58 | control | NA      | 0 | 0 | 58 |\n",
       "| 6 | 1000236 | 1000236 | 0 | 0 | 1 | -9 | Male   | 1948 | 2010-01-30 | NA         | ⋯ | NA |  0 | 70 | 0 | 70 | control | control | 0 | 0 | 70 |\n",
       "\n"
      ],
      "text/plain": [
       "  IID     FID     ignore1 ignore2 ignore3 ignore4 f.31.0.0 f.34.0.0 f.53.0.0  \n",
       "1 1000019 1000019 0       0       2       -9      Female   1960     2008-01-24\n",
       "2 1000078 1000078 0       0       2       -9      Female   1955     2007-08-20\n",
       "3 1000081 1000081 0       0       1       -9      Male     1942     2009-12-03\n",
       "4 1000198 1000198 0       0       2       -9      Female   1967     2009-03-27\n",
       "5 1000224 1000224 0       0       2       -9      Female   1951     2009-05-01\n",
       "6 1000236 1000236 0       0       1       -9      Male     1948     2010-01-30\n",
       "  f.53.1.0   ⋯ f.3393.3.0_recode hearing_aid_cat age_final_aid hearing_diff_cat\n",
       "1 NA         ⋯ NA                 0              47            1               \n",
       "2 2012-11-01 ⋯ NA                 0              60            0               \n",
       "3 NA         ⋯ NA                 0              67            0               \n",
       "4 NA         ⋯ NA                 0              41            1               \n",
       "5 NA         ⋯ NA                NA              NA            0               \n",
       "6 NA         ⋯ NA                 0              70            0               \n",
       "  age_final_diff hearing_diff_cat_new hearing_aid_cat_new hearing_diff_new\n",
       "1 47             case                 control             1               \n",
       "2 60             control              control             0               \n",
       "3 67             control              control             0               \n",
       "4 41             case                 control             1               \n",
       "5 58             control              NA                  0               \n",
       "6 70             control              control             0               \n",
       "  hearing_noise_cat age_final_noise\n",
       "1 1                 47             \n",
       "2 0                 60             \n",
       "3 0                 67             \n",
       "4 1                 41             \n",
       "5 0                 58             \n",
       "6 0                 70             "
      ]
     },
     "metadata": {},
     "output_type": "display_data"
    },
    {
     "name": "stdout",
     "output_type": "stream",
     "text": [
      "There are  145109 individuals consistent for f.2247 and f.2257"
     ]
    }
   ],
   "source": [
    "hybrid_consistent <- df_3393_2247_2257 %>%\n",
    " filter(hearing_noise_cat == hearing_diff_new)\n",
    "head(hybrid_consistent)\n",
    "cat (\"There are \",nrow(hybrid_consistent),\"individuals consistent for f.2247 and f.2257\")"
   ]
  },
  {
   "cell_type": "code",
   "execution_count": 324,
   "metadata": {
    "kernel": "R"
   },
   "outputs": [
    {
     "data": {
      "text/html": [
       "<table>\n",
       "<caption>A data.frame: 6 × 3</caption>\n",
       "<thead>\n",
       "\t<tr><th></th><th scope=col>IID</th><th scope=col>age_final_diff</th><th scope=col>age_final_noise</th></tr>\n",
       "\t<tr><th></th><th scope=col>&lt;int&gt;</th><th scope=col>&lt;int&gt;</th><th scope=col>&lt;int&gt;</th></tr>\n",
       "</thead>\n",
       "<tbody>\n",
       "\t<tr><th scope=row>1</th><td>1000019</td><td>47</td><td>47</td></tr>\n",
       "\t<tr><th scope=row>2</th><td>1000078</td><td>60</td><td>60</td></tr>\n",
       "\t<tr><th scope=row>3</th><td>1000081</td><td>67</td><td>67</td></tr>\n",
       "\t<tr><th scope=row>4</th><td>1000198</td><td>41</td><td>41</td></tr>\n",
       "\t<tr><th scope=row>5</th><td>1000224</td><td>58</td><td>58</td></tr>\n",
       "\t<tr><th scope=row>6</th><td>1000236</td><td>70</td><td>70</td></tr>\n",
       "</tbody>\n",
       "</table>\n"
      ],
      "text/latex": [
       "A data.frame: 6 × 3\n",
       "\\begin{tabular}{r|lll}\n",
       "  & IID & age\\_final\\_diff & age\\_final\\_noise\\\\\n",
       "  & <int> & <int> & <int>\\\\\n",
       "\\hline\n",
       "\t1 & 1000019 & 47 & 47\\\\\n",
       "\t2 & 1000078 & 60 & 60\\\\\n",
       "\t3 & 1000081 & 67 & 67\\\\\n",
       "\t4 & 1000198 & 41 & 41\\\\\n",
       "\t5 & 1000224 & 58 & 58\\\\\n",
       "\t6 & 1000236 & 70 & 70\\\\\n",
       "\\end{tabular}\n"
      ],
      "text/markdown": [
       "\n",
       "A data.frame: 6 × 3\n",
       "\n",
       "| <!--/--> | IID &lt;int&gt; | age_final_diff &lt;int&gt; | age_final_noise &lt;int&gt; |\n",
       "|---|---|---|---|\n",
       "| 1 | 1000019 | 47 | 47 |\n",
       "| 2 | 1000078 | 60 | 60 |\n",
       "| 3 | 1000081 | 67 | 67 |\n",
       "| 4 | 1000198 | 41 | 41 |\n",
       "| 5 | 1000224 | 58 | 58 |\n",
       "| 6 | 1000236 | 70 | 70 |\n",
       "\n"
      ],
      "text/plain": [
       "  IID     age_final_diff age_final_noise\n",
       "1 1000019 47             47             \n",
       "2 1000078 60             60             \n",
       "3 1000081 67             67             \n",
       "4 1000198 41             41             \n",
       "5 1000224 58             58             \n",
       "6 1000236 70             70             "
      ]
     },
     "metadata": {},
     "output_type": "display_data"
    }
   ],
   "source": [
    "age_consistency <- hybrid_consistent %>%\n",
    "    select(IID, age_final_diff, age_final_noise)\n",
    "head(age_consistency)"
   ]
  },
  {
   "cell_type": "code",
   "execution_count": 325,
   "metadata": {
    "kernel": "R"
   },
   "outputs": [
    {
     "data": {
      "text/html": [
       "FALSE"
      ],
      "text/latex": [
       "FALSE"
      ],
      "text/markdown": [
       "FALSE"
      ],
      "text/plain": [
       "[1] FALSE"
      ]
     },
     "metadata": {},
     "output_type": "display_data"
    }
   ],
   "source": [
    "# There are inconsistencies for the age between hearing difficulty and background noise\n",
    "all(age_consistency$age_final_diff == age_consistency$age_final_noise)"
   ]
  },
  {
   "cell_type": "code",
   "execution_count": 326,
   "metadata": {
    "kernel": "R"
   },
   "outputs": [
    {
     "data": {
      "text/html": [
       "<table>\n",
       "<caption>A data.frame: 6 × 2276</caption>\n",
       "<thead>\n",
       "\t<tr><th></th><th scope=col>IID</th><th scope=col>FID</th><th scope=col>ignore1</th><th scope=col>ignore2</th><th scope=col>ignore3</th><th scope=col>ignore4</th><th scope=col>f.31.0.0</th><th scope=col>f.34.0.0</th><th scope=col>f.53.0.0</th><th scope=col>f.53.1.0</th><th scope=col>⋯</th><th scope=col>f.3393.3.0_recode</th><th scope=col>hearing_aid_cat</th><th scope=col>age_final_aid</th><th scope=col>hearing_diff_cat</th><th scope=col>age_final_diff</th><th scope=col>hearing_diff_cat_new</th><th scope=col>hearing_aid_cat_new</th><th scope=col>hearing_diff_new</th><th scope=col>hearing_noise_cat</th><th scope=col>age_final_noise</th></tr>\n",
       "\t<tr><th></th><th scope=col>&lt;int&gt;</th><th scope=col>&lt;int&gt;</th><th scope=col>&lt;int&gt;</th><th scope=col>&lt;int&gt;</th><th scope=col>&lt;int&gt;</th><th scope=col>&lt;int&gt;</th><th scope=col>&lt;fct&gt;</th><th scope=col>&lt;int&gt;</th><th scope=col>&lt;fct&gt;</th><th scope=col>&lt;fct&gt;</th><th scope=col>⋯</th><th scope=col>&lt;fct&gt;</th><th scope=col>&lt;int&gt;</th><th scope=col>&lt;int&gt;</th><th scope=col>&lt;int&gt;</th><th scope=col>&lt;int&gt;</th><th scope=col>&lt;fct&gt;</th><th scope=col>&lt;fct&gt;</th><th scope=col>&lt;fct&gt;</th><th scope=col>&lt;int&gt;</th><th scope=col>&lt;int&gt;</th></tr>\n",
       "</thead>\n",
       "<tbody>\n",
       "\t<tr><th scope=row>1</th><td>1006407</td><td>1006407</td><td>0</td><td>0</td><td>2</td><td>-9</td><td>Female</td><td>1949</td><td>2008-09-30</td><td>NA</td><td>⋯</td><td>NA</td><td>0</td><td>65</td><td>1</td><td>59</td><td>case</td><td>control</td><td>1</td><td>1</td><td>65</td></tr>\n",
       "\t<tr><th scope=row>2</th><td>1006513</td><td>1006513</td><td>0</td><td>0</td><td>2</td><td>-9</td><td>Female</td><td>1955</td><td>2010-02-23</td><td>NA</td><td>⋯</td><td>NA</td><td>1</td><td>59</td><td>1</td><td>59</td><td>case</td><td>case   </td><td>1</td><td>1</td><td>54</td></tr>\n",
       "\t<tr><th scope=row>3</th><td>1012730</td><td>1012730</td><td>0</td><td>0</td><td>1</td><td>-9</td><td>Male  </td><td>1947</td><td>2010-05-26</td><td>NA</td><td>⋯</td><td>0 </td><td>0</td><td>73</td><td>1</td><td>70</td><td>case</td><td>control</td><td>1</td><td>1</td><td>63</td></tr>\n",
       "\t<tr><th scope=row>4</th><td>1015865</td><td>1015865</td><td>0</td><td>0</td><td>2</td><td>-9</td><td>Female</td><td>1948</td><td>2010-04-27</td><td>NA</td><td>⋯</td><td>NA</td><td>0</td><td>71</td><td>1</td><td>71</td><td>case</td><td>control</td><td>1</td><td>1</td><td>62</td></tr>\n",
       "\t<tr><th scope=row>5</th><td>1016086</td><td>1016086</td><td>0</td><td>0</td><td>1</td><td>-9</td><td>Male  </td><td>1948</td><td>2008-08-20</td><td>NA</td><td>⋯</td><td>NA</td><td>0</td><td>70</td><td>1</td><td>60</td><td>case</td><td>control</td><td>1</td><td>1</td><td>70</td></tr>\n",
       "\t<tr><th scope=row>6</th><td>1017495</td><td>1017495</td><td>0</td><td>0</td><td>1</td><td>-9</td><td>Male  </td><td>1957</td><td>2008-08-04</td><td>NA</td><td>⋯</td><td>NA</td><td>0</td><td>58</td><td>1</td><td>58</td><td>case</td><td>control</td><td>1</td><td>1</td><td>51</td></tr>\n",
       "</tbody>\n",
       "</table>\n"
      ],
      "text/latex": [
       "A data.frame: 6 × 2276\n",
       "\\begin{tabular}{r|lllllllllllllllllllll}\n",
       "  & IID & FID & ignore1 & ignore2 & ignore3 & ignore4 & f.31.0.0 & f.34.0.0 & f.53.0.0 & f.53.1.0 & ⋯ & f.3393.3.0\\_recode & hearing\\_aid\\_cat & age\\_final\\_aid & hearing\\_diff\\_cat & age\\_final\\_diff & hearing\\_diff\\_cat\\_new & hearing\\_aid\\_cat\\_new & hearing\\_diff\\_new & hearing\\_noise\\_cat & age\\_final\\_noise\\\\\n",
       "  & <int> & <int> & <int> & <int> & <int> & <int> & <fct> & <int> & <fct> & <fct> & ⋯ & <fct> & <int> & <int> & <int> & <int> & <fct> & <fct> & <fct> & <int> & <int>\\\\\n",
       "\\hline\n",
       "\t1 & 1006407 & 1006407 & 0 & 0 & 2 & -9 & Female & 1949 & 2008-09-30 & NA & ⋯ & NA & 0 & 65 & 1 & 59 & case & control & 1 & 1 & 65\\\\\n",
       "\t2 & 1006513 & 1006513 & 0 & 0 & 2 & -9 & Female & 1955 & 2010-02-23 & NA & ⋯ & NA & 1 & 59 & 1 & 59 & case & case    & 1 & 1 & 54\\\\\n",
       "\t3 & 1012730 & 1012730 & 0 & 0 & 1 & -9 & Male   & 1947 & 2010-05-26 & NA & ⋯ & 0  & 0 & 73 & 1 & 70 & case & control & 1 & 1 & 63\\\\\n",
       "\t4 & 1015865 & 1015865 & 0 & 0 & 2 & -9 & Female & 1948 & 2010-04-27 & NA & ⋯ & NA & 0 & 71 & 1 & 71 & case & control & 1 & 1 & 62\\\\\n",
       "\t5 & 1016086 & 1016086 & 0 & 0 & 1 & -9 & Male   & 1948 & 2008-08-20 & NA & ⋯ & NA & 0 & 70 & 1 & 60 & case & control & 1 & 1 & 70\\\\\n",
       "\t6 & 1017495 & 1017495 & 0 & 0 & 1 & -9 & Male   & 1957 & 2008-08-04 & NA & ⋯ & NA & 0 & 58 & 1 & 58 & case & control & 1 & 1 & 51\\\\\n",
       "\\end{tabular}\n"
      ],
      "text/markdown": [
       "\n",
       "A data.frame: 6 × 2276\n",
       "\n",
       "| <!--/--> | IID &lt;int&gt; | FID &lt;int&gt; | ignore1 &lt;int&gt; | ignore2 &lt;int&gt; | ignore3 &lt;int&gt; | ignore4 &lt;int&gt; | f.31.0.0 &lt;fct&gt; | f.34.0.0 &lt;int&gt; | f.53.0.0 &lt;fct&gt; | f.53.1.0 &lt;fct&gt; | ⋯ ⋯ | f.3393.3.0_recode &lt;fct&gt; | hearing_aid_cat &lt;int&gt; | age_final_aid &lt;int&gt; | hearing_diff_cat &lt;int&gt; | age_final_diff &lt;int&gt; | hearing_diff_cat_new &lt;fct&gt; | hearing_aid_cat_new &lt;fct&gt; | hearing_diff_new &lt;fct&gt; | hearing_noise_cat &lt;int&gt; | age_final_noise &lt;int&gt; |\n",
       "|---|---|---|---|---|---|---|---|---|---|---|---|---|---|---|---|---|---|---|---|---|---|\n",
       "| 1 | 1006407 | 1006407 | 0 | 0 | 2 | -9 | Female | 1949 | 2008-09-30 | NA | ⋯ | NA | 0 | 65 | 1 | 59 | case | control | 1 | 1 | 65 |\n",
       "| 2 | 1006513 | 1006513 | 0 | 0 | 2 | -9 | Female | 1955 | 2010-02-23 | NA | ⋯ | NA | 1 | 59 | 1 | 59 | case | case    | 1 | 1 | 54 |\n",
       "| 3 | 1012730 | 1012730 | 0 | 0 | 1 | -9 | Male   | 1947 | 2010-05-26 | NA | ⋯ | 0  | 0 | 73 | 1 | 70 | case | control | 1 | 1 | 63 |\n",
       "| 4 | 1015865 | 1015865 | 0 | 0 | 2 | -9 | Female | 1948 | 2010-04-27 | NA | ⋯ | NA | 0 | 71 | 1 | 71 | case | control | 1 | 1 | 62 |\n",
       "| 5 | 1016086 | 1016086 | 0 | 0 | 1 | -9 | Male   | 1948 | 2008-08-20 | NA | ⋯ | NA | 0 | 70 | 1 | 60 | case | control | 1 | 1 | 70 |\n",
       "| 6 | 1017495 | 1017495 | 0 | 0 | 1 | -9 | Male   | 1957 | 2008-08-04 | NA | ⋯ | NA | 0 | 58 | 1 | 58 | case | control | 1 | 1 | 51 |\n",
       "\n"
      ],
      "text/plain": [
       "  IID     FID     ignore1 ignore2 ignore3 ignore4 f.31.0.0 f.34.0.0 f.53.0.0  \n",
       "1 1006407 1006407 0       0       2       -9      Female   1949     2008-09-30\n",
       "2 1006513 1006513 0       0       2       -9      Female   1955     2010-02-23\n",
       "3 1012730 1012730 0       0       1       -9      Male     1947     2010-05-26\n",
       "4 1015865 1015865 0       0       2       -9      Female   1948     2010-04-27\n",
       "5 1016086 1016086 0       0       1       -9      Male     1948     2008-08-20\n",
       "6 1017495 1017495 0       0       1       -9      Male     1957     2008-08-04\n",
       "  f.53.1.0 ⋯ f.3393.3.0_recode hearing_aid_cat age_final_aid hearing_diff_cat\n",
       "1 NA       ⋯ NA                0               65            1               \n",
       "2 NA       ⋯ NA                1               59            1               \n",
       "3 NA       ⋯ 0                 0               73            1               \n",
       "4 NA       ⋯ NA                0               71            1               \n",
       "5 NA       ⋯ NA                0               70            1               \n",
       "6 NA       ⋯ NA                0               58            1               \n",
       "  age_final_diff hearing_diff_cat_new hearing_aid_cat_new hearing_diff_new\n",
       "1 59             case                 control             1               \n",
       "2 59             case                 case                1               \n",
       "3 70             case                 control             1               \n",
       "4 71             case                 control             1               \n",
       "5 60             case                 control             1               \n",
       "6 58             case                 control             1               \n",
       "  hearing_noise_cat age_final_noise\n",
       "1 1                 65             \n",
       "2 1                 54             \n",
       "3 1                 63             \n",
       "4 1                 62             \n",
       "5 1                 70             \n",
       "6 1                 51             "
      ]
     },
     "metadata": {},
     "output_type": "display_data"
    },
    {
     "name": "stdout",
     "output_type": "stream",
     "text": [
      "There are 1946 individuals with inconsistent ages for hearing difficulty and background noise"
     ]
    }
   ],
   "source": [
    "age_inconsistency <- hybrid_consistent %>%\n",
    "    filter(age_final_diff != age_final_noise)\n",
    "head(age_inconsistency)\n",
    "cat (\"There are\",nrow(age_inconsistency), \"individuals with inconsistent ages for hearing difficulty and background noise\")"
   ]
  },
  {
   "cell_type": "code",
   "execution_count": 327,
   "metadata": {
    "kernel": "R"
   },
   "outputs": [
    {
     "data": {
      "text/html": [
       "<table>\n",
       "<caption>A data.frame: 6 × 7</caption>\n",
       "<thead>\n",
       "\t<tr><th></th><th scope=col>FID</th><th scope=col>IID</th><th scope=col>sex</th><th scope=col>hearing_diff_new</th><th scope=col>hearing_noise_cat</th><th scope=col>age_final_diff</th><th scope=col>age_final_noise</th></tr>\n",
       "\t<tr><th></th><th scope=col>&lt;int&gt;</th><th scope=col>&lt;int&gt;</th><th scope=col>&lt;fct&gt;</th><th scope=col>&lt;fct&gt;</th><th scope=col>&lt;int&gt;</th><th scope=col>&lt;int&gt;</th><th scope=col>&lt;int&gt;</th></tr>\n",
       "</thead>\n",
       "<tbody>\n",
       "\t<tr><th scope=row>1</th><td>1006407</td><td>1006407</td><td>1</td><td>1</td><td>1</td><td>59</td><td>65</td></tr>\n",
       "\t<tr><th scope=row>2</th><td>1006513</td><td>1006513</td><td>1</td><td>1</td><td>1</td><td>59</td><td>54</td></tr>\n",
       "\t<tr><th scope=row>3</th><td>1012730</td><td>1012730</td><td>0</td><td>1</td><td>1</td><td>70</td><td>63</td></tr>\n",
       "\t<tr><th scope=row>4</th><td>1015865</td><td>1015865</td><td>1</td><td>1</td><td>1</td><td>71</td><td>62</td></tr>\n",
       "\t<tr><th scope=row>5</th><td>1016086</td><td>1016086</td><td>0</td><td>1</td><td>1</td><td>60</td><td>70</td></tr>\n",
       "\t<tr><th scope=row>6</th><td>1017495</td><td>1017495</td><td>0</td><td>1</td><td>1</td><td>58</td><td>51</td></tr>\n",
       "</tbody>\n",
       "</table>\n"
      ],
      "text/latex": [
       "A data.frame: 6 × 7\n",
       "\\begin{tabular}{r|lllllll}\n",
       "  & FID & IID & sex & hearing\\_diff\\_new & hearing\\_noise\\_cat & age\\_final\\_diff & age\\_final\\_noise\\\\\n",
       "  & <int> & <int> & <fct> & <fct> & <int> & <int> & <int>\\\\\n",
       "\\hline\n",
       "\t1 & 1006407 & 1006407 & 1 & 1 & 1 & 59 & 65\\\\\n",
       "\t2 & 1006513 & 1006513 & 1 & 1 & 1 & 59 & 54\\\\\n",
       "\t3 & 1012730 & 1012730 & 0 & 1 & 1 & 70 & 63\\\\\n",
       "\t4 & 1015865 & 1015865 & 1 & 1 & 1 & 71 & 62\\\\\n",
       "\t5 & 1016086 & 1016086 & 0 & 1 & 1 & 60 & 70\\\\\n",
       "\t6 & 1017495 & 1017495 & 0 & 1 & 1 & 58 & 51\\\\\n",
       "\\end{tabular}\n"
      ],
      "text/markdown": [
       "\n",
       "A data.frame: 6 × 7\n",
       "\n",
       "| <!--/--> | FID &lt;int&gt; | IID &lt;int&gt; | sex &lt;fct&gt; | hearing_diff_new &lt;fct&gt; | hearing_noise_cat &lt;int&gt; | age_final_diff &lt;int&gt; | age_final_noise &lt;int&gt; |\n",
       "|---|---|---|---|---|---|---|---|\n",
       "| 1 | 1006407 | 1006407 | 1 | 1 | 1 | 59 | 65 |\n",
       "| 2 | 1006513 | 1006513 | 1 | 1 | 1 | 59 | 54 |\n",
       "| 3 | 1012730 | 1012730 | 0 | 1 | 1 | 70 | 63 |\n",
       "| 4 | 1015865 | 1015865 | 1 | 1 | 1 | 71 | 62 |\n",
       "| 5 | 1016086 | 1016086 | 0 | 1 | 1 | 60 | 70 |\n",
       "| 6 | 1017495 | 1017495 | 0 | 1 | 1 | 58 | 51 |\n",
       "\n"
      ],
      "text/plain": [
       "  FID     IID     sex hearing_diff_new hearing_noise_cat age_final_diff\n",
       "1 1006407 1006407 1   1                1                 59            \n",
       "2 1006513 1006513 1   1                1                 59            \n",
       "3 1012730 1012730 0   1                1                 70            \n",
       "4 1015865 1015865 1   1                1                 71            \n",
       "5 1016086 1016086 0   1                1                 60            \n",
       "6 1017495 1017495 0   1                1                 58            \n",
       "  age_final_noise\n",
       "1 65             \n",
       "2 54             \n",
       "3 63             \n",
       "4 62             \n",
       "5 70             \n",
       "6 51             "
      ]
     },
     "metadata": {},
     "output_type": "display_data"
    },
    {
     "name": "stdout",
     "output_type": "stream",
     "text": [
      "There are 1944 cases with inconsistent ages for hearing difficulty and background noise"
     ]
    }
   ],
   "source": [
    "age_inconsistency_cases <- hybrid_consistent %>%\n",
    "    filter(hearing_noise_cat == 1 &  hearing_diff_new ==1) %>%\n",
    "    filter(age_final_diff != age_final_noise) %>%\n",
    "    select(FID, IID, sex, hearing_diff_new, hearing_noise_cat, age_final_diff, age_final_noise)\n",
    "head(age_inconsistency_cases)\n",
    "cat (\"There are\",nrow(age_inconsistency_cases), \"cases with inconsistent ages for hearing difficulty and background noise\")"
   ]
  },
  {
   "cell_type": "code",
   "execution_count": 328,
   "metadata": {
    "kernel": "R"
   },
   "outputs": [
    {
     "data": {
      "text/html": [
       "<table>\n",
       "<caption>A data.frame: 2 × 7</caption>\n",
       "<thead>\n",
       "\t<tr><th></th><th scope=col>FID</th><th scope=col>IID</th><th scope=col>sex</th><th scope=col>hearing_diff_new</th><th scope=col>hearing_noise_cat</th><th scope=col>age_final_diff</th><th scope=col>age_final_noise</th></tr>\n",
       "\t<tr><th></th><th scope=col>&lt;int&gt;</th><th scope=col>&lt;int&gt;</th><th scope=col>&lt;fct&gt;</th><th scope=col>&lt;fct&gt;</th><th scope=col>&lt;int&gt;</th><th scope=col>&lt;int&gt;</th><th scope=col>&lt;int&gt;</th></tr>\n",
       "</thead>\n",
       "<tbody>\n",
       "\t<tr><th scope=row>1</th><td>1740024</td><td>1740024</td><td>0</td><td>0</td><td>0</td><td>41</td><td>46</td></tr>\n",
       "\t<tr><th scope=row>2</th><td>5668953</td><td>5668953</td><td>1</td><td>0</td><td>0</td><td>74</td><td>69</td></tr>\n",
       "</tbody>\n",
       "</table>\n"
      ],
      "text/latex": [
       "A data.frame: 2 × 7\n",
       "\\begin{tabular}{r|lllllll}\n",
       "  & FID & IID & sex & hearing\\_diff\\_new & hearing\\_noise\\_cat & age\\_final\\_diff & age\\_final\\_noise\\\\\n",
       "  & <int> & <int> & <fct> & <fct> & <int> & <int> & <int>\\\\\n",
       "\\hline\n",
       "\t1 & 1740024 & 1740024 & 0 & 0 & 0 & 41 & 46\\\\\n",
       "\t2 & 5668953 & 5668953 & 1 & 0 & 0 & 74 & 69\\\\\n",
       "\\end{tabular}\n"
      ],
      "text/markdown": [
       "\n",
       "A data.frame: 2 × 7\n",
       "\n",
       "| <!--/--> | FID &lt;int&gt; | IID &lt;int&gt; | sex &lt;fct&gt; | hearing_diff_new &lt;fct&gt; | hearing_noise_cat &lt;int&gt; | age_final_diff &lt;int&gt; | age_final_noise &lt;int&gt; |\n",
       "|---|---|---|---|---|---|---|---|\n",
       "| 1 | 1740024 | 1740024 | 0 | 0 | 0 | 41 | 46 |\n",
       "| 2 | 5668953 | 5668953 | 1 | 0 | 0 | 74 | 69 |\n",
       "\n"
      ],
      "text/plain": [
       "  FID     IID     sex hearing_diff_new hearing_noise_cat age_final_diff\n",
       "1 1740024 1740024 0   0                0                 41            \n",
       "2 5668953 5668953 1   0                0                 74            \n",
       "  age_final_noise\n",
       "1 46             \n",
       "2 69             "
      ]
     },
     "metadata": {},
     "output_type": "display_data"
    },
    {
     "name": "stdout",
     "output_type": "stream",
     "text": [
      "There are 2 controls with inconsistent ages for hearing difficulty and background noise"
     ]
    }
   ],
   "source": [
    "age_inconsistency_controls <- hybrid_consistent %>%\n",
    "    filter(hearing_noise_cat == 0 &  hearing_diff_new == 0) %>%\n",
    "    filter(age_final_diff != age_final_noise) %>%\n",
    "    select(FID, IID, sex, hearing_diff_new, hearing_noise_cat, age_final_diff, age_final_noise)\n",
    "head(age_inconsistency_controls)\n",
    "cat (\"There are\",nrow(age_inconsistency_controls), \"controls with inconsistent ages for hearing difficulty and background noise\")"
   ]
  },
  {
   "cell_type": "code",
   "execution_count": 329,
   "metadata": {
    "kernel": "R"
   },
   "outputs": [
    {
     "data": {
      "text/html": [
       "<table>\n",
       "<caption>A data.frame: 6 × 8</caption>\n",
       "<thead>\n",
       "\t<tr><th></th><th scope=col>FID</th><th scope=col>IID</th><th scope=col>sex</th><th scope=col>hearing_diff_new</th><th scope=col>hearing_noise_cat</th><th scope=col>age_final_diff</th><th scope=col>age_final_noise</th><th scope=col>age_diff_noise</th></tr>\n",
       "\t<tr><th></th><th scope=col>&lt;int&gt;</th><th scope=col>&lt;int&gt;</th><th scope=col>&lt;fct&gt;</th><th scope=col>&lt;fct&gt;</th><th scope=col>&lt;int&gt;</th><th scope=col>&lt;int&gt;</th><th scope=col>&lt;int&gt;</th><th scope=col>&lt;int&gt;</th></tr>\n",
       "</thead>\n",
       "<tbody>\n",
       "\t<tr><th scope=row>1</th><td>1006407</td><td>1006407</td><td>1</td><td>1</td><td>1</td><td>59</td><td>65</td><td>59</td></tr>\n",
       "\t<tr><th scope=row>2</th><td>1006513</td><td>1006513</td><td>1</td><td>1</td><td>1</td><td>59</td><td>54</td><td>54</td></tr>\n",
       "\t<tr><th scope=row>3</th><td>1012730</td><td>1012730</td><td>0</td><td>1</td><td>1</td><td>70</td><td>63</td><td>63</td></tr>\n",
       "\t<tr><th scope=row>4</th><td>1015865</td><td>1015865</td><td>1</td><td>1</td><td>1</td><td>71</td><td>62</td><td>62</td></tr>\n",
       "\t<tr><th scope=row>5</th><td>1016086</td><td>1016086</td><td>0</td><td>1</td><td>1</td><td>60</td><td>70</td><td>60</td></tr>\n",
       "\t<tr><th scope=row>6</th><td>1017495</td><td>1017495</td><td>0</td><td>1</td><td>1</td><td>58</td><td>51</td><td>51</td></tr>\n",
       "</tbody>\n",
       "</table>\n"
      ],
      "text/latex": [
       "A data.frame: 6 × 8\n",
       "\\begin{tabular}{r|llllllll}\n",
       "  & FID & IID & sex & hearing\\_diff\\_new & hearing\\_noise\\_cat & age\\_final\\_diff & age\\_final\\_noise & age\\_diff\\_noise\\\\\n",
       "  & <int> & <int> & <fct> & <fct> & <int> & <int> & <int> & <int>\\\\\n",
       "\\hline\n",
       "\t1 & 1006407 & 1006407 & 1 & 1 & 1 & 59 & 65 & 59\\\\\n",
       "\t2 & 1006513 & 1006513 & 1 & 1 & 1 & 59 & 54 & 54\\\\\n",
       "\t3 & 1012730 & 1012730 & 0 & 1 & 1 & 70 & 63 & 63\\\\\n",
       "\t4 & 1015865 & 1015865 & 1 & 1 & 1 & 71 & 62 & 62\\\\\n",
       "\t5 & 1016086 & 1016086 & 0 & 1 & 1 & 60 & 70 & 60\\\\\n",
       "\t6 & 1017495 & 1017495 & 0 & 1 & 1 & 58 & 51 & 51\\\\\n",
       "\\end{tabular}\n"
      ],
      "text/markdown": [
       "\n",
       "A data.frame: 6 × 8\n",
       "\n",
       "| <!--/--> | FID &lt;int&gt; | IID &lt;int&gt; | sex &lt;fct&gt; | hearing_diff_new &lt;fct&gt; | hearing_noise_cat &lt;int&gt; | age_final_diff &lt;int&gt; | age_final_noise &lt;int&gt; | age_diff_noise &lt;int&gt; |\n",
       "|---|---|---|---|---|---|---|---|---|\n",
       "| 1 | 1006407 | 1006407 | 1 | 1 | 1 | 59 | 65 | 59 |\n",
       "| 2 | 1006513 | 1006513 | 1 | 1 | 1 | 59 | 54 | 54 |\n",
       "| 3 | 1012730 | 1012730 | 0 | 1 | 1 | 70 | 63 | 63 |\n",
       "| 4 | 1015865 | 1015865 | 1 | 1 | 1 | 71 | 62 | 62 |\n",
       "| 5 | 1016086 | 1016086 | 0 | 1 | 1 | 60 | 70 | 60 |\n",
       "| 6 | 1017495 | 1017495 | 0 | 1 | 1 | 58 | 51 | 51 |\n",
       "\n"
      ],
      "text/plain": [
       "  FID     IID     sex hearing_diff_new hearing_noise_cat age_final_diff\n",
       "1 1006407 1006407 1   1                1                 59            \n",
       "2 1006513 1006513 1   1                1                 59            \n",
       "3 1012730 1012730 0   1                1                 70            \n",
       "4 1015865 1015865 1   1                1                 71            \n",
       "5 1016086 1016086 0   1                1                 60            \n",
       "6 1017495 1017495 0   1                1                 58            \n",
       "  age_final_noise age_diff_noise\n",
       "1 65              59            \n",
       "2 54              54            \n",
       "3 63              63            \n",
       "4 62              62            \n",
       "5 70              60            \n",
       "6 51              51            "
      ]
     },
     "metadata": {},
     "output_type": "display_data"
    }
   ],
   "source": [
    "#get the minimum age for 2247 and 2257 for cases\n",
    "age_inconsistency_cases <- transform(age_inconsistency_cases, age_diff_noise = pmin(age_final_noise, age_final_diff))\n",
    "head(age_inconsistency_cases)"
   ]
  },
  {
   "cell_type": "code",
   "execution_count": 330,
   "metadata": {
    "kernel": "R"
   },
   "outputs": [
    {
     "data": {
      "text/html": [
       "<table>\n",
       "<caption>A data.frame: 2 × 8</caption>\n",
       "<thead>\n",
       "\t<tr><th></th><th scope=col>FID</th><th scope=col>IID</th><th scope=col>sex</th><th scope=col>hearing_diff_new</th><th scope=col>hearing_noise_cat</th><th scope=col>age_final_diff</th><th scope=col>age_final_noise</th><th scope=col>age_diff_noise</th></tr>\n",
       "\t<tr><th></th><th scope=col>&lt;int&gt;</th><th scope=col>&lt;int&gt;</th><th scope=col>&lt;fct&gt;</th><th scope=col>&lt;fct&gt;</th><th scope=col>&lt;int&gt;</th><th scope=col>&lt;int&gt;</th><th scope=col>&lt;int&gt;</th><th scope=col>&lt;int&gt;</th></tr>\n",
       "</thead>\n",
       "<tbody>\n",
       "\t<tr><th scope=row>1</th><td>1740024</td><td>1740024</td><td>0</td><td>0</td><td>0</td><td>41</td><td>46</td><td>46</td></tr>\n",
       "\t<tr><th scope=row>2</th><td>5668953</td><td>5668953</td><td>1</td><td>0</td><td>0</td><td>74</td><td>69</td><td>74</td></tr>\n",
       "</tbody>\n",
       "</table>\n"
      ],
      "text/latex": [
       "A data.frame: 2 × 8\n",
       "\\begin{tabular}{r|llllllll}\n",
       "  & FID & IID & sex & hearing\\_diff\\_new & hearing\\_noise\\_cat & age\\_final\\_diff & age\\_final\\_noise & age\\_diff\\_noise\\\\\n",
       "  & <int> & <int> & <fct> & <fct> & <int> & <int> & <int> & <int>\\\\\n",
       "\\hline\n",
       "\t1 & 1740024 & 1740024 & 0 & 0 & 0 & 41 & 46 & 46\\\\\n",
       "\t2 & 5668953 & 5668953 & 1 & 0 & 0 & 74 & 69 & 74\\\\\n",
       "\\end{tabular}\n"
      ],
      "text/markdown": [
       "\n",
       "A data.frame: 2 × 8\n",
       "\n",
       "| <!--/--> | FID &lt;int&gt; | IID &lt;int&gt; | sex &lt;fct&gt; | hearing_diff_new &lt;fct&gt; | hearing_noise_cat &lt;int&gt; | age_final_diff &lt;int&gt; | age_final_noise &lt;int&gt; | age_diff_noise &lt;int&gt; |\n",
       "|---|---|---|---|---|---|---|---|---|\n",
       "| 1 | 1740024 | 1740024 | 0 | 0 | 0 | 41 | 46 | 46 |\n",
       "| 2 | 5668953 | 5668953 | 1 | 0 | 0 | 74 | 69 | 74 |\n",
       "\n"
      ],
      "text/plain": [
       "  FID     IID     sex hearing_diff_new hearing_noise_cat age_final_diff\n",
       "1 1740024 1740024 0   0                0                 41            \n",
       "2 5668953 5668953 1   0                0                 74            \n",
       "  age_final_noise age_diff_noise\n",
       "1 46              46            \n",
       "2 69              74            "
      ]
     },
     "metadata": {},
     "output_type": "display_data"
    }
   ],
   "source": [
    "#get the maximun age for 2247 and 2257 for controls\n",
    "age_inconsistency_controls <- transform(age_inconsistency_controls, age_diff_noise = pmax(age_final_noise, age_final_diff))\n",
    "head(age_inconsistency_controls,10)"
   ]
  },
  {
   "cell_type": "code",
   "execution_count": 331,
   "metadata": {
    "kernel": "R"
   },
   "outputs": [
    {
     "data": {
      "text/html": [
       "1946"
      ],
      "text/latex": [
       "1946"
      ],
      "text/markdown": [
       "1946"
      ],
      "text/plain": [
       "[1] 1946"
      ]
     },
     "metadata": {},
     "output_type": "display_data"
    },
    {
     "data": {
      "text/html": [
       "<table>\n",
       "<caption>A data.frame: 6 × 8</caption>\n",
       "<thead>\n",
       "\t<tr><th></th><th scope=col>FID</th><th scope=col>IID</th><th scope=col>sex</th><th scope=col>hearing_diff_new</th><th scope=col>hearing_noise_cat</th><th scope=col>age_final_diff</th><th scope=col>age_final_noise</th><th scope=col>age_diff_noise</th></tr>\n",
       "\t<tr><th></th><th scope=col>&lt;int&gt;</th><th scope=col>&lt;int&gt;</th><th scope=col>&lt;fct&gt;</th><th scope=col>&lt;fct&gt;</th><th scope=col>&lt;int&gt;</th><th scope=col>&lt;int&gt;</th><th scope=col>&lt;int&gt;</th><th scope=col>&lt;int&gt;</th></tr>\n",
       "</thead>\n",
       "<tbody>\n",
       "\t<tr><th scope=row>1</th><td>1006407</td><td>1006407</td><td>1</td><td>1</td><td>1</td><td>59</td><td>65</td><td>59</td></tr>\n",
       "\t<tr><th scope=row>2</th><td>1006513</td><td>1006513</td><td>1</td><td>1</td><td>1</td><td>59</td><td>54</td><td>54</td></tr>\n",
       "\t<tr><th scope=row>3</th><td>1012730</td><td>1012730</td><td>0</td><td>1</td><td>1</td><td>70</td><td>63</td><td>63</td></tr>\n",
       "\t<tr><th scope=row>4</th><td>1015865</td><td>1015865</td><td>1</td><td>1</td><td>1</td><td>71</td><td>62</td><td>62</td></tr>\n",
       "\t<tr><th scope=row>5</th><td>1016086</td><td>1016086</td><td>0</td><td>1</td><td>1</td><td>60</td><td>70</td><td>60</td></tr>\n",
       "\t<tr><th scope=row>6</th><td>1017495</td><td>1017495</td><td>0</td><td>1</td><td>1</td><td>58</td><td>51</td><td>51</td></tr>\n",
       "</tbody>\n",
       "</table>\n"
      ],
      "text/latex": [
       "A data.frame: 6 × 8\n",
       "\\begin{tabular}{r|llllllll}\n",
       "  & FID & IID & sex & hearing\\_diff\\_new & hearing\\_noise\\_cat & age\\_final\\_diff & age\\_final\\_noise & age\\_diff\\_noise\\\\\n",
       "  & <int> & <int> & <fct> & <fct> & <int> & <int> & <int> & <int>\\\\\n",
       "\\hline\n",
       "\t1 & 1006407 & 1006407 & 1 & 1 & 1 & 59 & 65 & 59\\\\\n",
       "\t2 & 1006513 & 1006513 & 1 & 1 & 1 & 59 & 54 & 54\\\\\n",
       "\t3 & 1012730 & 1012730 & 0 & 1 & 1 & 70 & 63 & 63\\\\\n",
       "\t4 & 1015865 & 1015865 & 1 & 1 & 1 & 71 & 62 & 62\\\\\n",
       "\t5 & 1016086 & 1016086 & 0 & 1 & 1 & 60 & 70 & 60\\\\\n",
       "\t6 & 1017495 & 1017495 & 0 & 1 & 1 & 58 & 51 & 51\\\\\n",
       "\\end{tabular}\n"
      ],
      "text/markdown": [
       "\n",
       "A data.frame: 6 × 8\n",
       "\n",
       "| <!--/--> | FID &lt;int&gt; | IID &lt;int&gt; | sex &lt;fct&gt; | hearing_diff_new &lt;fct&gt; | hearing_noise_cat &lt;int&gt; | age_final_diff &lt;int&gt; | age_final_noise &lt;int&gt; | age_diff_noise &lt;int&gt; |\n",
       "|---|---|---|---|---|---|---|---|---|\n",
       "| 1 | 1006407 | 1006407 | 1 | 1 | 1 | 59 | 65 | 59 |\n",
       "| 2 | 1006513 | 1006513 | 1 | 1 | 1 | 59 | 54 | 54 |\n",
       "| 3 | 1012730 | 1012730 | 0 | 1 | 1 | 70 | 63 | 63 |\n",
       "| 4 | 1015865 | 1015865 | 1 | 1 | 1 | 71 | 62 | 62 |\n",
       "| 5 | 1016086 | 1016086 | 0 | 1 | 1 | 60 | 70 | 60 |\n",
       "| 6 | 1017495 | 1017495 | 0 | 1 | 1 | 58 | 51 | 51 |\n",
       "\n"
      ],
      "text/plain": [
       "  FID     IID     sex hearing_diff_new hearing_noise_cat age_final_diff\n",
       "1 1006407 1006407 1   1                1                 59            \n",
       "2 1006513 1006513 1   1                1                 59            \n",
       "3 1012730 1012730 0   1                1                 70            \n",
       "4 1015865 1015865 1   1                1                 71            \n",
       "5 1016086 1016086 0   1                1                 60            \n",
       "6 1017495 1017495 0   1                1                 58            \n",
       "  age_final_noise age_diff_noise\n",
       "1 65              59            \n",
       "2 54              54            \n",
       "3 63              63            \n",
       "4 62              62            \n",
       "5 70              60            \n",
       "6 51              51            "
      ]
     },
     "metadata": {},
     "output_type": "display_data"
    }
   ],
   "source": [
    "age_solved <- rbind(age_inconsistency_cases, age_inconsistency_controls)\n",
    "nrow(age_solved)\n",
    "head(age_solved)"
   ]
  },
  {
   "cell_type": "code",
   "execution_count": 332,
   "metadata": {
    "kernel": "R"
   },
   "outputs": [
    {
     "data": {
      "text/html": [
       "<table>\n",
       "<caption>A data.frame: 6 × 8</caption>\n",
       "<thead>\n",
       "\t<tr><th></th><th scope=col>FID</th><th scope=col>IID</th><th scope=col>sex</th><th scope=col>hearing_diff_new</th><th scope=col>hearing_noise_cat</th><th scope=col>age_final_diff</th><th scope=col>age_final_noise</th><th scope=col>age_diff_noise</th></tr>\n",
       "\t<tr><th></th><th scope=col>&lt;int&gt;</th><th scope=col>&lt;int&gt;</th><th scope=col>&lt;fct&gt;</th><th scope=col>&lt;fct&gt;</th><th scope=col>&lt;int&gt;</th><th scope=col>&lt;int&gt;</th><th scope=col>&lt;int&gt;</th><th scope=col>&lt;int&gt;</th></tr>\n",
       "</thead>\n",
       "<tbody>\n",
       "\t<tr><th scope=row>1</th><td>1000019</td><td>1000019</td><td>1</td><td>1</td><td>1</td><td>47</td><td>47</td><td>47</td></tr>\n",
       "\t<tr><th scope=row>2</th><td>1000078</td><td>1000078</td><td>1</td><td>0</td><td>0</td><td>60</td><td>60</td><td>60</td></tr>\n",
       "\t<tr><th scope=row>3</th><td>1000081</td><td>1000081</td><td>0</td><td>0</td><td>0</td><td>67</td><td>67</td><td>67</td></tr>\n",
       "\t<tr><th scope=row>4</th><td>1000198</td><td>1000198</td><td>1</td><td>1</td><td>1</td><td>41</td><td>41</td><td>41</td></tr>\n",
       "\t<tr><th scope=row>5</th><td>1000224</td><td>1000224</td><td>1</td><td>0</td><td>0</td><td>58</td><td>58</td><td>58</td></tr>\n",
       "\t<tr><th scope=row>6</th><td>1000236</td><td>1000236</td><td>0</td><td>0</td><td>0</td><td>70</td><td>70</td><td>70</td></tr>\n",
       "</tbody>\n",
       "</table>\n"
      ],
      "text/latex": [
       "A data.frame: 6 × 8\n",
       "\\begin{tabular}{r|llllllll}\n",
       "  & FID & IID & sex & hearing\\_diff\\_new & hearing\\_noise\\_cat & age\\_final\\_diff & age\\_final\\_noise & age\\_diff\\_noise\\\\\n",
       "  & <int> & <int> & <fct> & <fct> & <int> & <int> & <int> & <int>\\\\\n",
       "\\hline\n",
       "\t1 & 1000019 & 1000019 & 1 & 1 & 1 & 47 & 47 & 47\\\\\n",
       "\t2 & 1000078 & 1000078 & 1 & 0 & 0 & 60 & 60 & 60\\\\\n",
       "\t3 & 1000081 & 1000081 & 0 & 0 & 0 & 67 & 67 & 67\\\\\n",
       "\t4 & 1000198 & 1000198 & 1 & 1 & 1 & 41 & 41 & 41\\\\\n",
       "\t5 & 1000224 & 1000224 & 1 & 0 & 0 & 58 & 58 & 58\\\\\n",
       "\t6 & 1000236 & 1000236 & 0 & 0 & 0 & 70 & 70 & 70\\\\\n",
       "\\end{tabular}\n"
      ],
      "text/markdown": [
       "\n",
       "A data.frame: 6 × 8\n",
       "\n",
       "| <!--/--> | FID &lt;int&gt; | IID &lt;int&gt; | sex &lt;fct&gt; | hearing_diff_new &lt;fct&gt; | hearing_noise_cat &lt;int&gt; | age_final_diff &lt;int&gt; | age_final_noise &lt;int&gt; | age_diff_noise &lt;int&gt; |\n",
       "|---|---|---|---|---|---|---|---|---|\n",
       "| 1 | 1000019 | 1000019 | 1 | 1 | 1 | 47 | 47 | 47 |\n",
       "| 2 | 1000078 | 1000078 | 1 | 0 | 0 | 60 | 60 | 60 |\n",
       "| 3 | 1000081 | 1000081 | 0 | 0 | 0 | 67 | 67 | 67 |\n",
       "| 4 | 1000198 | 1000198 | 1 | 1 | 1 | 41 | 41 | 41 |\n",
       "| 5 | 1000224 | 1000224 | 1 | 0 | 0 | 58 | 58 | 58 |\n",
       "| 6 | 1000236 | 1000236 | 0 | 0 | 0 | 70 | 70 | 70 |\n",
       "\n"
      ],
      "text/plain": [
       "  FID     IID     sex hearing_diff_new hearing_noise_cat age_final_diff\n",
       "1 1000019 1000019 1   1                1                 47            \n",
       "2 1000078 1000078 1   0                0                 60            \n",
       "3 1000081 1000081 0   0                0                 67            \n",
       "4 1000198 1000198 1   1                1                 41            \n",
       "5 1000224 1000224 1   0                0                 58            \n",
       "6 1000236 1000236 0   0                0                 70            \n",
       "  age_final_noise age_diff_noise\n",
       "1 47              47            \n",
       "2 60              60            \n",
       "3 67              67            \n",
       "4 41              41            \n",
       "5 58              58            \n",
       "6 70              70            "
      ]
     },
     "metadata": {},
     "output_type": "display_data"
    },
    {
     "name": "stdout",
     "output_type": "stream",
     "text": [
      "There are  143163 individuals consistent for age and phenotype for f.2247 and f.2257"
     ]
    }
   ],
   "source": [
    "hybrid_age_consistent <- hybrid_consistent  %>%\n",
    "    filter(age_final_diff == age_final_noise) %>%\n",
    "    select(FID, IID, sex, hearing_diff_new, hearing_noise_cat, age_final_diff, age_final_noise) %>%\n",
    "    mutate(age_diff_noise = age_final_diff) \n",
    "head(hybrid_age_consistent)\n",
    "cat (\"There are \",nrow(hybrid_age_consistent),\"individuals consistent for age and phenotype for f.2247 and f.2257\")"
   ]
  },
  {
   "cell_type": "code",
   "execution_count": 333,
   "metadata": {
    "kernel": "R"
   },
   "outputs": [
    {
     "data": {
      "text/html": [
       "<table>\n",
       "<caption>A data.frame: 6 × 8</caption>\n",
       "<thead>\n",
       "\t<tr><th></th><th scope=col>FID</th><th scope=col>IID</th><th scope=col>sex</th><th scope=col>hearing_diff_new</th><th scope=col>hearing_noise_cat</th><th scope=col>age_final_diff</th><th scope=col>age_final_noise</th><th scope=col>age_diff_noise</th></tr>\n",
       "\t<tr><th></th><th scope=col>&lt;int&gt;</th><th scope=col>&lt;int&gt;</th><th scope=col>&lt;fct&gt;</th><th scope=col>&lt;fct&gt;</th><th scope=col>&lt;int&gt;</th><th scope=col>&lt;int&gt;</th><th scope=col>&lt;int&gt;</th><th scope=col>&lt;int&gt;</th></tr>\n",
       "</thead>\n",
       "<tbody>\n",
       "\t<tr><th scope=row>1</th><td>1000019</td><td>1000019</td><td>1</td><td>1</td><td>1</td><td>47</td><td>47</td><td>47</td></tr>\n",
       "\t<tr><th scope=row>2</th><td>1000078</td><td>1000078</td><td>1</td><td>0</td><td>0</td><td>60</td><td>60</td><td>60</td></tr>\n",
       "\t<tr><th scope=row>3</th><td>1000081</td><td>1000081</td><td>0</td><td>0</td><td>0</td><td>67</td><td>67</td><td>67</td></tr>\n",
       "\t<tr><th scope=row>4</th><td>1000198</td><td>1000198</td><td>1</td><td>1</td><td>1</td><td>41</td><td>41</td><td>41</td></tr>\n",
       "\t<tr><th scope=row>5</th><td>1000224</td><td>1000224</td><td>1</td><td>0</td><td>0</td><td>58</td><td>58</td><td>58</td></tr>\n",
       "\t<tr><th scope=row>6</th><td>1000236</td><td>1000236</td><td>0</td><td>0</td><td>0</td><td>70</td><td>70</td><td>70</td></tr>\n",
       "</tbody>\n",
       "</table>\n"
      ],
      "text/latex": [
       "A data.frame: 6 × 8\n",
       "\\begin{tabular}{r|llllllll}\n",
       "  & FID & IID & sex & hearing\\_diff\\_new & hearing\\_noise\\_cat & age\\_final\\_diff & age\\_final\\_noise & age\\_diff\\_noise\\\\\n",
       "  & <int> & <int> & <fct> & <fct> & <int> & <int> & <int> & <int>\\\\\n",
       "\\hline\n",
       "\t1 & 1000019 & 1000019 & 1 & 1 & 1 & 47 & 47 & 47\\\\\n",
       "\t2 & 1000078 & 1000078 & 1 & 0 & 0 & 60 & 60 & 60\\\\\n",
       "\t3 & 1000081 & 1000081 & 0 & 0 & 0 & 67 & 67 & 67\\\\\n",
       "\t4 & 1000198 & 1000198 & 1 & 1 & 1 & 41 & 41 & 41\\\\\n",
       "\t5 & 1000224 & 1000224 & 1 & 0 & 0 & 58 & 58 & 58\\\\\n",
       "\t6 & 1000236 & 1000236 & 0 & 0 & 0 & 70 & 70 & 70\\\\\n",
       "\\end{tabular}\n"
      ],
      "text/markdown": [
       "\n",
       "A data.frame: 6 × 8\n",
       "\n",
       "| <!--/--> | FID &lt;int&gt; | IID &lt;int&gt; | sex &lt;fct&gt; | hearing_diff_new &lt;fct&gt; | hearing_noise_cat &lt;int&gt; | age_final_diff &lt;int&gt; | age_final_noise &lt;int&gt; | age_diff_noise &lt;int&gt; |\n",
       "|---|---|---|---|---|---|---|---|---|\n",
       "| 1 | 1000019 | 1000019 | 1 | 1 | 1 | 47 | 47 | 47 |\n",
       "| 2 | 1000078 | 1000078 | 1 | 0 | 0 | 60 | 60 | 60 |\n",
       "| 3 | 1000081 | 1000081 | 0 | 0 | 0 | 67 | 67 | 67 |\n",
       "| 4 | 1000198 | 1000198 | 1 | 1 | 1 | 41 | 41 | 41 |\n",
       "| 5 | 1000224 | 1000224 | 1 | 0 | 0 | 58 | 58 | 58 |\n",
       "| 6 | 1000236 | 1000236 | 0 | 0 | 0 | 70 | 70 | 70 |\n",
       "\n"
      ],
      "text/plain": [
       "  FID     IID     sex hearing_diff_new hearing_noise_cat age_final_diff\n",
       "1 1000019 1000019 1   1                1                 47            \n",
       "2 1000078 1000078 1   0                0                 60            \n",
       "3 1000081 1000081 0   0                0                 67            \n",
       "4 1000198 1000198 1   1                1                 41            \n",
       "5 1000224 1000224 1   0                0                 58            \n",
       "6 1000236 1000236 0   0                0                 70            \n",
       "  age_final_noise age_diff_noise\n",
       "1 47              47            \n",
       "2 60              60            \n",
       "3 67              67            \n",
       "4 41              41            \n",
       "5 58              58            \n",
       "6 70              70            "
      ]
     },
     "metadata": {},
     "output_type": "display_data"
    },
    {
     "data": {
      "text/html": [
       "145109"
      ],
      "text/latex": [
       "145109"
      ],
      "text/markdown": [
       "145109"
      ],
      "text/plain": [
       "[1] 145109"
      ]
     },
     "metadata": {},
     "output_type": "display_data"
    }
   ],
   "source": [
    "f2247_f2257_pheno <- rbind (hybrid_age_consistent, age_solved)\n",
    "head(f2247_f2257_pheno)\n",
    "nrow(f2247_f2257_pheno)"
   ]
  },
  {
   "cell_type": "code",
   "execution_count": 334,
   "metadata": {
    "kernel": "R"
   },
   "outputs": [
    {
     "data": {
      "text/html": [
       "<table>\n",
       "<caption>A data.frame: 6 × 5</caption>\n",
       "<thead>\n",
       "\t<tr><th></th><th scope=col>FID</th><th scope=col>IID</th><th scope=col>age_combined</th><th scope=col>sex</th><th scope=col>f2247_f2257</th></tr>\n",
       "\t<tr><th></th><th scope=col>&lt;int&gt;</th><th scope=col>&lt;int&gt;</th><th scope=col>&lt;int&gt;</th><th scope=col>&lt;fct&gt;</th><th scope=col>&lt;fct&gt;</th></tr>\n",
       "</thead>\n",
       "<tbody>\n",
       "\t<tr><th scope=row>1</th><td>1000019</td><td>1000019</td><td>47</td><td>1</td><td>1</td></tr>\n",
       "\t<tr><th scope=row>2</th><td>1000078</td><td>1000078</td><td>60</td><td>1</td><td>0</td></tr>\n",
       "\t<tr><th scope=row>3</th><td>1000081</td><td>1000081</td><td>67</td><td>0</td><td>0</td></tr>\n",
       "\t<tr><th scope=row>4</th><td>1000198</td><td>1000198</td><td>41</td><td>1</td><td>1</td></tr>\n",
       "\t<tr><th scope=row>5</th><td>1000224</td><td>1000224</td><td>58</td><td>1</td><td>0</td></tr>\n",
       "\t<tr><th scope=row>6</th><td>1000236</td><td>1000236</td><td>70</td><td>0</td><td>0</td></tr>\n",
       "</tbody>\n",
       "</table>\n"
      ],
      "text/latex": [
       "A data.frame: 6 × 5\n",
       "\\begin{tabular}{r|lllll}\n",
       "  & FID & IID & age\\_combined & sex & f2247\\_f2257\\\\\n",
       "  & <int> & <int> & <int> & <fct> & <fct>\\\\\n",
       "\\hline\n",
       "\t1 & 1000019 & 1000019 & 47 & 1 & 1\\\\\n",
       "\t2 & 1000078 & 1000078 & 60 & 1 & 0\\\\\n",
       "\t3 & 1000081 & 1000081 & 67 & 0 & 0\\\\\n",
       "\t4 & 1000198 & 1000198 & 41 & 1 & 1\\\\\n",
       "\t5 & 1000224 & 1000224 & 58 & 1 & 0\\\\\n",
       "\t6 & 1000236 & 1000236 & 70 & 0 & 0\\\\\n",
       "\\end{tabular}\n"
      ],
      "text/markdown": [
       "\n",
       "A data.frame: 6 × 5\n",
       "\n",
       "| <!--/--> | FID &lt;int&gt; | IID &lt;int&gt; | age_combined &lt;int&gt; | sex &lt;fct&gt; | f2247_f2257 &lt;fct&gt; |\n",
       "|---|---|---|---|---|---|\n",
       "| 1 | 1000019 | 1000019 | 47 | 1 | 1 |\n",
       "| 2 | 1000078 | 1000078 | 60 | 1 | 0 |\n",
       "| 3 | 1000081 | 1000081 | 67 | 0 | 0 |\n",
       "| 4 | 1000198 | 1000198 | 41 | 1 | 1 |\n",
       "| 5 | 1000224 | 1000224 | 58 | 1 | 0 |\n",
       "| 6 | 1000236 | 1000236 | 70 | 0 | 0 |\n",
       "\n"
      ],
      "text/plain": [
       "  FID     IID     age_combined sex f2247_f2257\n",
       "1 1000019 1000019 47           1   1          \n",
       "2 1000078 1000078 60           1   0          \n",
       "3 1000081 1000081 67           0   0          \n",
       "4 1000198 1000198 41           1   1          \n",
       "5 1000224 1000224 58           1   0          \n",
       "6 1000236 1000236 70           0   0          "
      ]
     },
     "metadata": {},
     "output_type": "display_data"
    }
   ],
   "source": [
    "names(f2247_f2257_pheno)[names(f2247_f2257_pheno) == 'hearing_diff_new'] <- 'f2247_f2257'\n",
    "names(f2247_f2257_pheno)[names(f2247_f2257_pheno) == 'age_diff_noise'] <- 'age_combined'\n",
    "f2247_f2257_pheno <- f2247_f2257_pheno %>%\n",
    " select(FID, IID, age_combined, sex, f2247_f2257 )\n",
    "head(f2247_f2257_pheno)"
   ]
  },
  {
   "cell_type": "code",
   "execution_count": 335,
   "metadata": {
    "kernel": "R"
   },
   "outputs": [
    {
     "data": {
      "text/html": [
       "40488"
      ],
      "text/latex": [
       "40488"
      ],
      "text/markdown": [
       "40488"
      ],
      "text/plain": [
       "[1] 40488"
      ]
     },
     "metadata": {},
     "output_type": "display_data"
    }
   ],
   "source": [
    "cases_combined <- f2247_f2257_pheno %>%\n",
    "    filter(f2247_f2257 == 1)\n",
    "nrow(cases_combined)"
   ]
  },
  {
   "cell_type": "code",
   "execution_count": 336,
   "metadata": {
    "kernel": "R"
   },
   "outputs": [
    {
     "data": {
      "text/html": [
       "104621"
      ],
      "text/latex": [
       "104621"
      ],
      "text/markdown": [
       "104621"
      ],
      "text/plain": [
       "[1] 104621"
      ]
     },
     "metadata": {},
     "output_type": "display_data"
    }
   ],
   "source": [
    "controls_combined <- f2247_f2257_pheno %>%\n",
    "    filter(f2247_f2257 == 0)\n",
    "nrow(controls_combined)"
   ]
  },
  {
   "cell_type": "markdown",
   "metadata": {
    "kernel": "R"
   },
   "source": [
    "## Merge with complete database"
   ]
  },
  {
   "cell_type": "code",
   "execution_count": 337,
   "metadata": {
    "kernel": "R"
   },
   "outputs": [
    {
     "data": {
      "text/html": [
       "<style>\n",
       ".list-inline {list-style: none; margin:0; padding: 0}\n",
       ".list-inline>li {display: inline-block}\n",
       ".list-inline>li:not(:last-child)::after {content: \"\\00b7\"; padding: 0 .5ex}\n",
       "</style>\n",
       "<ol class=list-inline><li>193866</li><li>2278</li></ol>\n"
      ],
      "text/latex": [
       "\\begin{enumerate*}\n",
       "\\item 193866\n",
       "\\item 2278\n",
       "\\end{enumerate*}\n"
      ],
      "text/markdown": [
       "1. 193866\n",
       "2. 2278\n",
       "\n",
       "\n"
      ],
      "text/plain": [
       "[1] 193866   2278"
      ]
     },
     "metadata": {},
     "output_type": "display_data"
    },
    {
     "data": {
      "text/html": [
       "<table>\n",
       "<caption>A data.frame: 6 × 2278</caption>\n",
       "<thead>\n",
       "\t<tr><th></th><th scope=col>IID</th><th scope=col>FID</th><th scope=col>ignore1</th><th scope=col>ignore2</th><th scope=col>ignore3</th><th scope=col>ignore4</th><th scope=col>f.31.0.0</th><th scope=col>f.34.0.0</th><th scope=col>f.53.0.0</th><th scope=col>f.53.1.0</th><th scope=col>⋯</th><th scope=col>age_final_aid</th><th scope=col>hearing_diff_cat</th><th scope=col>age_final_diff</th><th scope=col>hearing_diff_cat_new</th><th scope=col>hearing_aid_cat_new</th><th scope=col>hearing_diff_new</th><th scope=col>hearing_noise_cat</th><th scope=col>age_final_noise</th><th scope=col>f2247_f2257</th><th scope=col>age_combined</th></tr>\n",
       "\t<tr><th></th><th scope=col>&lt;int&gt;</th><th scope=col>&lt;int&gt;</th><th scope=col>&lt;int&gt;</th><th scope=col>&lt;int&gt;</th><th scope=col>&lt;int&gt;</th><th scope=col>&lt;int&gt;</th><th scope=col>&lt;fct&gt;</th><th scope=col>&lt;int&gt;</th><th scope=col>&lt;fct&gt;</th><th scope=col>&lt;fct&gt;</th><th scope=col>⋯</th><th scope=col>&lt;int&gt;</th><th scope=col>&lt;int&gt;</th><th scope=col>&lt;int&gt;</th><th scope=col>&lt;fct&gt;</th><th scope=col>&lt;fct&gt;</th><th scope=col>&lt;fct&gt;</th><th scope=col>&lt;int&gt;</th><th scope=col>&lt;int&gt;</th><th scope=col>&lt;fct&gt;</th><th scope=col>&lt;int&gt;</th></tr>\n",
       "</thead>\n",
       "<tbody>\n",
       "\t<tr><th scope=row>1</th><td>1000019</td><td>1000019</td><td>0</td><td>0</td><td>2</td><td>-9</td><td>Female</td><td>1960</td><td>2008-01-24</td><td>NA        </td><td>⋯</td><td>47</td><td> 1</td><td>47</td><td>case   </td><td>control</td><td>1 </td><td>1</td><td>47</td><td>1 </td><td>47</td></tr>\n",
       "\t<tr><th scope=row>2</th><td>1000035</td><td>1000035</td><td>0</td><td>0</td><td>1</td><td>-9</td><td>Male  </td><td>1944</td><td>2007-11-08</td><td>NA        </td><td>⋯</td><td>63</td><td> 0</td><td>63</td><td>control</td><td>control</td><td>0 </td><td>1</td><td>63</td><td>NA</td><td>NA</td></tr>\n",
       "\t<tr><th scope=row>3</th><td>1000078</td><td>1000078</td><td>0</td><td>0</td><td>2</td><td>-9</td><td>Female</td><td>1955</td><td>2007-08-20</td><td>2012-11-01</td><td>⋯</td><td>60</td><td> 0</td><td>60</td><td>control</td><td>control</td><td>0 </td><td>0</td><td>60</td><td>0 </td><td>60</td></tr>\n",
       "\t<tr><th scope=row>4</th><td>1000081</td><td>1000081</td><td>0</td><td>0</td><td>1</td><td>-9</td><td>Male  </td><td>1942</td><td>2009-12-03</td><td>NA        </td><td>⋯</td><td>67</td><td> 0</td><td>67</td><td>control</td><td>control</td><td>0 </td><td>0</td><td>67</td><td>0 </td><td>67</td></tr>\n",
       "\t<tr><th scope=row>5</th><td>1000198</td><td>1000198</td><td>0</td><td>0</td><td>2</td><td>-9</td><td>Female</td><td>1967</td><td>2009-03-27</td><td>NA        </td><td>⋯</td><td>41</td><td> 1</td><td>41</td><td>case   </td><td>control</td><td>1 </td><td>1</td><td>41</td><td>1 </td><td>41</td></tr>\n",
       "\t<tr><th scope=row>6</th><td>1000210</td><td>1000210</td><td>0</td><td>0</td><td>1</td><td>-9</td><td>Male  </td><td>1941</td><td>2008-02-11</td><td>NA        </td><td>⋯</td><td>NA</td><td>NA</td><td>NA</td><td>NA     </td><td>NA     </td><td>NA</td><td>0</td><td>66</td><td>NA</td><td>NA</td></tr>\n",
       "</tbody>\n",
       "</table>\n"
      ],
      "text/latex": [
       "A data.frame: 6 × 2278\n",
       "\\begin{tabular}{r|lllllllllllllllllllll}\n",
       "  & IID & FID & ignore1 & ignore2 & ignore3 & ignore4 & f.31.0.0 & f.34.0.0 & f.53.0.0 & f.53.1.0 & ⋯ & age\\_final\\_aid & hearing\\_diff\\_cat & age\\_final\\_diff & hearing\\_diff\\_cat\\_new & hearing\\_aid\\_cat\\_new & hearing\\_diff\\_new & hearing\\_noise\\_cat & age\\_final\\_noise & f2247\\_f2257 & age\\_combined\\\\\n",
       "  & <int> & <int> & <int> & <int> & <int> & <int> & <fct> & <int> & <fct> & <fct> & ⋯ & <int> & <int> & <int> & <fct> & <fct> & <fct> & <int> & <int> & <fct> & <int>\\\\\n",
       "\\hline\n",
       "\t1 & 1000019 & 1000019 & 0 & 0 & 2 & -9 & Female & 1960 & 2008-01-24 & NA         & ⋯ & 47 &  1 & 47 & case    & control & 1  & 1 & 47 & 1  & 47\\\\\n",
       "\t2 & 1000035 & 1000035 & 0 & 0 & 1 & -9 & Male   & 1944 & 2007-11-08 & NA         & ⋯ & 63 &  0 & 63 & control & control & 0  & 1 & 63 & NA & NA\\\\\n",
       "\t3 & 1000078 & 1000078 & 0 & 0 & 2 & -9 & Female & 1955 & 2007-08-20 & 2012-11-01 & ⋯ & 60 &  0 & 60 & control & control & 0  & 0 & 60 & 0  & 60\\\\\n",
       "\t4 & 1000081 & 1000081 & 0 & 0 & 1 & -9 & Male   & 1942 & 2009-12-03 & NA         & ⋯ & 67 &  0 & 67 & control & control & 0  & 0 & 67 & 0  & 67\\\\\n",
       "\t5 & 1000198 & 1000198 & 0 & 0 & 2 & -9 & Female & 1967 & 2009-03-27 & NA         & ⋯ & 41 &  1 & 41 & case    & control & 1  & 1 & 41 & 1  & 41\\\\\n",
       "\t6 & 1000210 & 1000210 & 0 & 0 & 1 & -9 & Male   & 1941 & 2008-02-11 & NA         & ⋯ & NA & NA & NA & NA      & NA      & NA & 0 & 66 & NA & NA\\\\\n",
       "\\end{tabular}\n"
      ],
      "text/markdown": [
       "\n",
       "A data.frame: 6 × 2278\n",
       "\n",
       "| <!--/--> | IID &lt;int&gt; | FID &lt;int&gt; | ignore1 &lt;int&gt; | ignore2 &lt;int&gt; | ignore3 &lt;int&gt; | ignore4 &lt;int&gt; | f.31.0.0 &lt;fct&gt; | f.34.0.0 &lt;int&gt; | f.53.0.0 &lt;fct&gt; | f.53.1.0 &lt;fct&gt; | ⋯ ⋯ | age_final_aid &lt;int&gt; | hearing_diff_cat &lt;int&gt; | age_final_diff &lt;int&gt; | hearing_diff_cat_new &lt;fct&gt; | hearing_aid_cat_new &lt;fct&gt; | hearing_diff_new &lt;fct&gt; | hearing_noise_cat &lt;int&gt; | age_final_noise &lt;int&gt; | f2247_f2257 &lt;fct&gt; | age_combined &lt;int&gt; |\n",
       "|---|---|---|---|---|---|---|---|---|---|---|---|---|---|---|---|---|---|---|---|---|---|\n",
       "| 1 | 1000019 | 1000019 | 0 | 0 | 2 | -9 | Female | 1960 | 2008-01-24 | NA         | ⋯ | 47 |  1 | 47 | case    | control | 1  | 1 | 47 | 1  | 47 |\n",
       "| 2 | 1000035 | 1000035 | 0 | 0 | 1 | -9 | Male   | 1944 | 2007-11-08 | NA         | ⋯ | 63 |  0 | 63 | control | control | 0  | 1 | 63 | NA | NA |\n",
       "| 3 | 1000078 | 1000078 | 0 | 0 | 2 | -9 | Female | 1955 | 2007-08-20 | 2012-11-01 | ⋯ | 60 |  0 | 60 | control | control | 0  | 0 | 60 | 0  | 60 |\n",
       "| 4 | 1000081 | 1000081 | 0 | 0 | 1 | -9 | Male   | 1942 | 2009-12-03 | NA         | ⋯ | 67 |  0 | 67 | control | control | 0  | 0 | 67 | 0  | 67 |\n",
       "| 5 | 1000198 | 1000198 | 0 | 0 | 2 | -9 | Female | 1967 | 2009-03-27 | NA         | ⋯ | 41 |  1 | 41 | case    | control | 1  | 1 | 41 | 1  | 41 |\n",
       "| 6 | 1000210 | 1000210 | 0 | 0 | 1 | -9 | Male   | 1941 | 2008-02-11 | NA         | ⋯ | NA | NA | NA | NA      | NA      | NA | 0 | 66 | NA | NA |\n",
       "\n"
      ],
      "text/plain": [
       "  IID     FID     ignore1 ignore2 ignore3 ignore4 f.31.0.0 f.34.0.0 f.53.0.0  \n",
       "1 1000019 1000019 0       0       2       -9      Female   1960     2008-01-24\n",
       "2 1000035 1000035 0       0       1       -9      Male     1944     2007-11-08\n",
       "3 1000078 1000078 0       0       2       -9      Female   1955     2007-08-20\n",
       "4 1000081 1000081 0       0       1       -9      Male     1942     2009-12-03\n",
       "5 1000198 1000198 0       0       2       -9      Female   1967     2009-03-27\n",
       "6 1000210 1000210 0       0       1       -9      Male     1941     2008-02-11\n",
       "  f.53.1.0   ⋯ age_final_aid hearing_diff_cat age_final_diff\n",
       "1 NA         ⋯ 47             1               47            \n",
       "2 NA         ⋯ 63             0               63            \n",
       "3 2012-11-01 ⋯ 60             0               60            \n",
       "4 NA         ⋯ 67             0               67            \n",
       "5 NA         ⋯ 41             1               41            \n",
       "6 NA         ⋯ NA            NA               NA            \n",
       "  hearing_diff_cat_new hearing_aid_cat_new hearing_diff_new hearing_noise_cat\n",
       "1 case                 control             1                1                \n",
       "2 control              control             0                1                \n",
       "3 control              control             0                0                \n",
       "4 control              control             0                0                \n",
       "5 case                 control             1                1                \n",
       "6 NA                   NA                  NA               0                \n",
       "  age_final_noise f2247_f2257 age_combined\n",
       "1 47              1           47          \n",
       "2 63              NA          NA          \n",
       "3 60              0           60          \n",
       "4 67              0           67          \n",
       "5 41              1           41          \n",
       "6 66              NA          NA          "
      ]
     },
     "metadata": {},
     "output_type": "display_data"
    }
   ],
   "source": [
    "#Merge with complete database keep the all the rows from original db\n",
    "df_3393_2247_2257_combined = merge(x = df_3393_2247_2257, y = f2247_f2257_pheno [,c(\"IID\",\"f2247_f2257\",\"age_combined\")],by=\"IID\", all.x=TRUE)\n",
    "dim(df_3393_2247_2257_combined)\n",
    "head(df_3393_2247_2257_combined)"
   ]
  },
  {
   "cell_type": "markdown",
   "metadata": {
    "kernel": "R"
   },
   "source": [
    "## Histogram for age of cases and controls"
   ]
  },
  {
   "cell_type": "code",
   "execution_count": 338,
   "metadata": {
    "kernel": "R"
   },
   "outputs": [
    {
     "data": {
      "text/html": [
       "<table>\n",
       "<caption>A data.frame: 6 × 5</caption>\n",
       "<thead>\n",
       "\t<tr><th></th><th scope=col>FID</th><th scope=col>IID</th><th scope=col>age_combined</th><th scope=col>sex</th><th scope=col>f2247_f2257</th></tr>\n",
       "\t<tr><th></th><th scope=col>&lt;int&gt;</th><th scope=col>&lt;int&gt;</th><th scope=col>&lt;int&gt;</th><th scope=col>&lt;fct&gt;</th><th scope=col>&lt;fct&gt;</th></tr>\n",
       "</thead>\n",
       "<tbody>\n",
       "\t<tr><th scope=row>1</th><td>1000019</td><td>1000019</td><td>47</td><td>1</td><td>1</td></tr>\n",
       "\t<tr><th scope=row>2</th><td>1000078</td><td>1000078</td><td>60</td><td>1</td><td>0</td></tr>\n",
       "\t<tr><th scope=row>3</th><td>1000081</td><td>1000081</td><td>67</td><td>0</td><td>0</td></tr>\n",
       "\t<tr><th scope=row>4</th><td>1000198</td><td>1000198</td><td>41</td><td>1</td><td>1</td></tr>\n",
       "\t<tr><th scope=row>5</th><td>1000224</td><td>1000224</td><td>58</td><td>1</td><td>0</td></tr>\n",
       "\t<tr><th scope=row>6</th><td>1000236</td><td>1000236</td><td>70</td><td>0</td><td>0</td></tr>\n",
       "</tbody>\n",
       "</table>\n"
      ],
      "text/latex": [
       "A data.frame: 6 × 5\n",
       "\\begin{tabular}{r|lllll}\n",
       "  & FID & IID & age\\_combined & sex & f2247\\_f2257\\\\\n",
       "  & <int> & <int> & <int> & <fct> & <fct>\\\\\n",
       "\\hline\n",
       "\t1 & 1000019 & 1000019 & 47 & 1 & 1\\\\\n",
       "\t2 & 1000078 & 1000078 & 60 & 1 & 0\\\\\n",
       "\t3 & 1000081 & 1000081 & 67 & 0 & 0\\\\\n",
       "\t4 & 1000198 & 1000198 & 41 & 1 & 1\\\\\n",
       "\t5 & 1000224 & 1000224 & 58 & 1 & 0\\\\\n",
       "\t6 & 1000236 & 1000236 & 70 & 0 & 0\\\\\n",
       "\\end{tabular}\n"
      ],
      "text/markdown": [
       "\n",
       "A data.frame: 6 × 5\n",
       "\n",
       "| <!--/--> | FID &lt;int&gt; | IID &lt;int&gt; | age_combined &lt;int&gt; | sex &lt;fct&gt; | f2247_f2257 &lt;fct&gt; |\n",
       "|---|---|---|---|---|---|\n",
       "| 1 | 1000019 | 1000019 | 47 | 1 | 1 |\n",
       "| 2 | 1000078 | 1000078 | 60 | 1 | 0 |\n",
       "| 3 | 1000081 | 1000081 | 67 | 0 | 0 |\n",
       "| 4 | 1000198 | 1000198 | 41 | 1 | 1 |\n",
       "| 5 | 1000224 | 1000224 | 58 | 1 | 0 |\n",
       "| 6 | 1000236 | 1000236 | 70 | 0 | 0 |\n",
       "\n"
      ],
      "text/plain": [
       "  FID     IID     age_combined sex f2247_f2257\n",
       "1 1000019 1000019 47           1   1          \n",
       "2 1000078 1000078 60           1   0          \n",
       "3 1000081 1000081 67           0   0          \n",
       "4 1000198 1000198 41           1   1          \n",
       "5 1000224 1000224 58           1   0          \n",
       "6 1000236 1000236 70           0   0          "
      ]
     },
     "metadata": {},
     "output_type": "display_data"
    },
    {
     "data": {
      "text/html": [
       "<style>\n",
       ".list-inline {list-style: none; margin:0; padding: 0}\n",
       ".list-inline>li {display: inline-block}\n",
       ".list-inline>li:not(:last-child)::after {content: \"\\00b7\"; padding: 0 .5ex}\n",
       "</style>\n",
       "<ol class=list-inline><li>145109</li><li>5</li></ol>\n"
      ],
      "text/latex": [
       "\\begin{enumerate*}\n",
       "\\item 145109\n",
       "\\item 5\n",
       "\\end{enumerate*}\n"
      ],
      "text/markdown": [
       "1. 145109\n",
       "2. 5\n",
       "\n",
       "\n"
      ],
      "text/plain": [
       "[1] 145109      5"
      ]
     },
     "metadata": {},
     "output_type": "display_data"
    }
   ],
   "source": [
    "f2247_f2257_pheno <- f2247_f2257_pheno %>%\n",
    " select(FID, IID, age_combined, sex, f2247_f2257 )\n",
    " #mutate(f2247_f2257=recode_factor(f2247_f2257, `1`=\"case\",`0`=\"control\"),sex=recode_factor(sex, `1`=\"male\", `0`=\"female\" ))\n",
    "head(f2247_f2257_pheno)\n",
    "dim(f2247_f2257_pheno)"
   ]
  },
  {
   "cell_type": "code",
   "execution_count": 339,
   "metadata": {
    "kernel": "R"
   },
   "outputs": [
    {
     "data": {
      "text/html": [
       "<table>\n",
       "<caption>A data.frame: 2 × 2</caption>\n",
       "<thead>\n",
       "\t<tr><th></th><th scope=col>f2247_f2257</th><th scope=col>grp.mean</th></tr>\n",
       "\t<tr><th></th><th scope=col>&lt;fct&gt;</th><th scope=col>&lt;dbl&gt;</th></tr>\n",
       "</thead>\n",
       "<tbody>\n",
       "\t<tr><th scope=row>1</th><td>0</td><td>56.34014</td></tr>\n",
       "\t<tr><th scope=row>2</th><td>1</td><td>59.19213</td></tr>\n",
       "</tbody>\n",
       "</table>\n"
      ],
      "text/latex": [
       "A data.frame: 2 × 2\n",
       "\\begin{tabular}{r|ll}\n",
       "  & f2247\\_f2257 & grp.mean\\\\\n",
       "  & <fct> & <dbl>\\\\\n",
       "\\hline\n",
       "\t1 & 0 & 56.34014\\\\\n",
       "\t2 & 1 & 59.19213\\\\\n",
       "\\end{tabular}\n"
      ],
      "text/markdown": [
       "\n",
       "A data.frame: 2 × 2\n",
       "\n",
       "| <!--/--> | f2247_f2257 &lt;fct&gt; | grp.mean &lt;dbl&gt; |\n",
       "|---|---|---|\n",
       "| 1 | 0 | 56.34014 |\n",
       "| 2 | 1 | 59.19213 |\n",
       "\n"
      ],
      "text/plain": [
       "  f2247_f2257 grp.mean\n",
       "1 0           56.34014\n",
       "2 1           59.19213"
      ]
     },
     "metadata": {},
     "output_type": "display_data"
    }
   ],
   "source": [
    "mu7 <- ddply(f2247_f2257_pheno, \"f2247_f2257\", summarise, grp.mean=mean(age_combined))\n",
    "head(mu7)"
   ]
  },
  {
   "cell_type": "code",
   "execution_count": 340,
   "metadata": {
    "kernel": "R"
   },
   "outputs": [
    {
     "data": {
      "image/png": "[encoded data removed]",
      "text/plain": [
       "plot without title"
      ]
     },
     "metadata": {
      "image/png": {
       "height": 420,
       "width": 420
      },
      "text/plain": {
       "height": 420,
       "width": 420
      }
     },
     "output_type": "display_data"
    }
   ],
   "source": [
    "ggplot(f2247_f2257_pheno, aes(x=age_combined, fill=f2247_f2257, color=f2247_f2257)) +\n",
    " geom_histogram(binwidth=1, alpha=0.5, position=\"identity\")+\n",
    "  scale_color_brewer(palette=\"Dark2\")+\n",
    "  scale_fill_brewer(palette=\"Dark2\") +\n",
    "  theme(legend.position=\"top\") +\n",
    "  geom_vline(data=mu7, aes(xintercept=grp.mean, color=f2247_f2257),\n",
    "             linetype=\"dashed\") +\n",
    "  theme_classic()"
   ]
  },
  {
   "cell_type": "code",
   "execution_count": 341,
   "metadata": {
    "kernel": "R"
   },
   "outputs": [
    {
     "data": {
      "text/html": [
       "26170"
      ],
      "text/latex": [
       "26170"
      ],
      "text/markdown": [
       "26170"
      ],
      "text/plain": [
       "[1] 26170"
      ]
     },
     "metadata": {},
     "output_type": "display_data"
    }
   ],
   "source": [
    "length(which((f2247_f2257_pheno$f2247_f2257==\"0\" & f2247_f2257_pheno$age_combined <50)))"
   ]
  },
  {
   "cell_type": "code",
   "execution_count": 342,
   "metadata": {
    "kernel": "R"
   },
   "outputs": [
    {
     "data": {
      "text/html": [
       "5386"
      ],
      "text/latex": [
       "5386"
      ],
      "text/markdown": [
       "5386"
      ],
      "text/plain": [
       "[1] 5386"
      ]
     },
     "metadata": {},
     "output_type": "display_data"
    }
   ],
   "source": [
    "length(which((f2247_f2257_pheno$f2247_f2257==\"1\" & f2247_f2257_pheno$age_combined <50)))"
   ]
  },
  {
   "cell_type": "code",
   "execution_count": 343,
   "metadata": {
    "kernel": "R"
   },
   "outputs": [
    {
     "data": {
      "text/html": [
       "<table>\n",
       "<caption>A data.frame: 2 × 2</caption>\n",
       "<thead>\n",
       "\t<tr><th></th><th scope=col>sex</th><th scope=col>grp.mean</th></tr>\n",
       "\t<tr><th></th><th scope=col>&lt;fct&gt;</th><th scope=col>&lt;dbl&gt;</th></tr>\n",
       "</thead>\n",
       "<tbody>\n",
       "\t<tr><th scope=row>1</th><td>1</td><td>56.95069</td></tr>\n",
       "\t<tr><th scope=row>2</th><td>0</td><td>57.37212</td></tr>\n",
       "</tbody>\n",
       "</table>\n"
      ],
      "text/latex": [
       "A data.frame: 2 × 2\n",
       "\\begin{tabular}{r|ll}\n",
       "  & sex & grp.mean\\\\\n",
       "  & <fct> & <dbl>\\\\\n",
       "\\hline\n",
       "\t1 & 1 & 56.95069\\\\\n",
       "\t2 & 0 & 57.37212\\\\\n",
       "\\end{tabular}\n"
      ],
      "text/markdown": [
       "\n",
       "A data.frame: 2 × 2\n",
       "\n",
       "| <!--/--> | sex &lt;fct&gt; | grp.mean &lt;dbl&gt; |\n",
       "|---|---|---|\n",
       "| 1 | 1 | 56.95069 |\n",
       "| 2 | 0 | 57.37212 |\n",
       "\n"
      ],
      "text/plain": [
       "  sex grp.mean\n",
       "1 1   56.95069\n",
       "2 0   57.37212"
      ]
     },
     "metadata": {},
     "output_type": "display_data"
    }
   ],
   "source": [
    "mu8 <- ddply(f2247_f2257_pheno, \"sex\", summarise, grp.mean=mean(age_combined))\n",
    "head(mu8)"
   ]
  },
  {
   "cell_type": "code",
   "execution_count": 344,
   "metadata": {
    "kernel": "R"
   },
   "outputs": [
    {
     "data": {
      "image/png": "[encoded data removed]",
      "text/plain": [
       "plot without title"
      ]
     },
     "metadata": {
      "image/png": {
       "height": 420,
       "width": 420
      },
      "text/plain": {
       "height": 420,
       "width": 420
      }
     },
     "output_type": "display_data"
    }
   ],
   "source": [
    "ggplot(f2247_f2257_pheno, aes(x=age_combined, fill=sex, color=sex)) +\n",
    " geom_histogram(binwidth=1, alpha=0.5, position=\"identity\")+\n",
    "  scale_color_brewer(palette=\"Dark2\")+\n",
    "  scale_fill_brewer(palette=\"Dark2\") +\n",
    "  theme(legend.position=\"top\") +\n",
    "  theme_classic() +\n",
    "  facet_grid(f2247_f2257 ~ .)"
   ]
  },
  {
   "cell_type": "code",
   "execution_count": 345,
   "metadata": {
    "kernel": "R"
   },
   "outputs": [
    {
     "data": {
      "text/plain": [
       "$`0`\n",
       "   Min. 1st Qu.  Median    Mean 3rd Qu.    Max. \n",
       "  38.00   49.00   57.00   56.34   63.00   82.00 \n",
       "\n",
       "$`1`\n",
       "   Min. 1st Qu.  Median    Mean 3rd Qu.    Max. \n",
       "  40.00   54.00   61.00   59.19   65.00   81.00 \n"
      ]
     },
     "metadata": {},
     "output_type": "display_data"
    }
   ],
   "source": [
    "#Summary age of cases and controls\n",
    "tapply(f2247_f2257_pheno$age_combined,  f2247_f2257_pheno$f2247_f2257, summary)"
   ]
  },
  {
   "cell_type": "markdown",
   "metadata": {
    "kernel": "R"
   },
   "source": [
    "## Find out controls positive for  f.3393"
   ]
  },
  {
   "cell_type": "code",
   "execution_count": 346,
   "metadata": {
    "kernel": "R"
   },
   "outputs": [
    {
     "data": {
      "text/html": [
       "<table>\n",
       "<caption>A data.frame: 6 × 14</caption>\n",
       "<thead>\n",
       "\t<tr><th></th><th scope=col>FID</th><th scope=col>IID</th><th scope=col>age_combined</th><th scope=col>sex</th><th scope=col>f2247_f2257</th><th scope=col>f.3393.0.0</th><th scope=col>f.3393.1.0</th><th scope=col>f.3393.2.0</th><th scope=col>f.3393.3.0</th><th scope=col>f.3393.0.0_recode</th><th scope=col>f.3393.1.0_recode</th><th scope=col>f.3393.2.0_recode</th><th scope=col>f.3393.3.0_recode</th><th scope=col>remove_3393</th></tr>\n",
       "\t<tr><th></th><th scope=col>&lt;int&gt;</th><th scope=col>&lt;int&gt;</th><th scope=col>&lt;int&gt;</th><th scope=col>&lt;fct&gt;</th><th scope=col>&lt;fct&gt;</th><th scope=col>&lt;fct&gt;</th><th scope=col>&lt;fct&gt;</th><th scope=col>&lt;fct&gt;</th><th scope=col>&lt;fct&gt;</th><th scope=col>&lt;fct&gt;</th><th scope=col>&lt;fct&gt;</th><th scope=col>&lt;fct&gt;</th><th scope=col>&lt;fct&gt;</th><th scope=col>&lt;lgl&gt;</th></tr>\n",
       "</thead>\n",
       "<tbody>\n",
       "\t<tr><th scope=row>1</th><td>1000078</td><td>1000078</td><td>60</td><td>1</td><td>0</td><td>NA</td><td>No</td><td>No</td><td>NA</td><td>NA</td><td>0 </td><td>0 </td><td>NA</td><td>FALSE</td></tr>\n",
       "\t<tr><th scope=row>2</th><td>1000081</td><td>1000081</td><td>67</td><td>0</td><td>0</td><td>No</td><td>NA</td><td>NA</td><td>NA</td><td>0 </td><td>NA</td><td>NA</td><td>NA</td><td>FALSE</td></tr>\n",
       "\t<tr><th scope=row>3</th><td>1000224</td><td>1000224</td><td>58</td><td>1</td><td>0</td><td>NA</td><td>NA</td><td>NA</td><td>NA</td><td>NA</td><td>NA</td><td>NA</td><td>NA</td><td>FALSE</td></tr>\n",
       "\t<tr><th scope=row>4</th><td>1000236</td><td>1000236</td><td>70</td><td>0</td><td>0</td><td>No</td><td>NA</td><td>No</td><td>NA</td><td>0 </td><td>NA</td><td>0 </td><td>NA</td><td>FALSE</td></tr>\n",
       "\t<tr><th scope=row>5</th><td>1000255</td><td>1000255</td><td>61</td><td>1</td><td>0</td><td>No</td><td>NA</td><td>No</td><td>NA</td><td>0 </td><td>NA</td><td>0 </td><td>NA</td><td>FALSE</td></tr>\n",
       "\t<tr><th scope=row>6</th><td>1000272</td><td>1000272</td><td>43</td><td>0</td><td>0</td><td>No</td><td>NA</td><td>NA</td><td>NA</td><td>0 </td><td>NA</td><td>NA</td><td>NA</td><td>FALSE</td></tr>\n",
       "</tbody>\n",
       "</table>\n"
      ],
      "text/latex": [
       "A data.frame: 6 × 14\n",
       "\\begin{tabular}{r|llllllllllllll}\n",
       "  & FID & IID & age\\_combined & sex & f2247\\_f2257 & f.3393.0.0 & f.3393.1.0 & f.3393.2.0 & f.3393.3.0 & f.3393.0.0\\_recode & f.3393.1.0\\_recode & f.3393.2.0\\_recode & f.3393.3.0\\_recode & remove\\_3393\\\\\n",
       "  & <int> & <int> & <int> & <fct> & <fct> & <fct> & <fct> & <fct> & <fct> & <fct> & <fct> & <fct> & <fct> & <lgl>\\\\\n",
       "\\hline\n",
       "\t1 & 1000078 & 1000078 & 60 & 1 & 0 & NA & No & No & NA & NA & 0  & 0  & NA & FALSE\\\\\n",
       "\t2 & 1000081 & 1000081 & 67 & 0 & 0 & No & NA & NA & NA & 0  & NA & NA & NA & FALSE\\\\\n",
       "\t3 & 1000224 & 1000224 & 58 & 1 & 0 & NA & NA & NA & NA & NA & NA & NA & NA & FALSE\\\\\n",
       "\t4 & 1000236 & 1000236 & 70 & 0 & 0 & No & NA & No & NA & 0  & NA & 0  & NA & FALSE\\\\\n",
       "\t5 & 1000255 & 1000255 & 61 & 1 & 0 & No & NA & No & NA & 0  & NA & 0  & NA & FALSE\\\\\n",
       "\t6 & 1000272 & 1000272 & 43 & 0 & 0 & No & NA & NA & NA & 0  & NA & NA & NA & FALSE\\\\\n",
       "\\end{tabular}\n"
      ],
      "text/markdown": [
       "\n",
       "A data.frame: 6 × 14\n",
       "\n",
       "| <!--/--> | FID &lt;int&gt; | IID &lt;int&gt; | age_combined &lt;int&gt; | sex &lt;fct&gt; | f2247_f2257 &lt;fct&gt; | f.3393.0.0 &lt;fct&gt; | f.3393.1.0 &lt;fct&gt; | f.3393.2.0 &lt;fct&gt; | f.3393.3.0 &lt;fct&gt; | f.3393.0.0_recode &lt;fct&gt; | f.3393.1.0_recode &lt;fct&gt; | f.3393.2.0_recode &lt;fct&gt; | f.3393.3.0_recode &lt;fct&gt; | remove_3393 &lt;lgl&gt; |\n",
       "|---|---|---|---|---|---|---|---|---|---|---|---|---|---|---|\n",
       "| 1 | 1000078 | 1000078 | 60 | 1 | 0 | NA | No | No | NA | NA | 0  | 0  | NA | FALSE |\n",
       "| 2 | 1000081 | 1000081 | 67 | 0 | 0 | No | NA | NA | NA | 0  | NA | NA | NA | FALSE |\n",
       "| 3 | 1000224 | 1000224 | 58 | 1 | 0 | NA | NA | NA | NA | NA | NA | NA | NA | FALSE |\n",
       "| 4 | 1000236 | 1000236 | 70 | 0 | 0 | No | NA | No | NA | 0  | NA | 0  | NA | FALSE |\n",
       "| 5 | 1000255 | 1000255 | 61 | 1 | 0 | No | NA | No | NA | 0  | NA | 0  | NA | FALSE |\n",
       "| 6 | 1000272 | 1000272 | 43 | 0 | 0 | No | NA | NA | NA | 0  | NA | NA | NA | FALSE |\n",
       "\n"
      ],
      "text/plain": [
       "  FID     IID     age_combined sex f2247_f2257 f.3393.0.0 f.3393.1.0 f.3393.2.0\n",
       "1 1000078 1000078 60           1   0           NA         No         No        \n",
       "2 1000081 1000081 67           0   0           No         NA         NA        \n",
       "3 1000224 1000224 58           1   0           NA         NA         NA        \n",
       "4 1000236 1000236 70           0   0           No         NA         No        \n",
       "5 1000255 1000255 61           1   0           No         NA         No        \n",
       "6 1000272 1000272 43           0   0           No         NA         NA        \n",
       "  f.3393.3.0 f.3393.0.0_recode f.3393.1.0_recode f.3393.2.0_recode\n",
       "1 NA         NA                0                 0                \n",
       "2 NA         0                 NA                NA               \n",
       "3 NA         NA                NA                NA               \n",
       "4 NA         0                 NA                0                \n",
       "5 NA         0                 NA                0                \n",
       "6 NA         0                 NA                NA               \n",
       "  f.3393.3.0_recode remove_3393\n",
       "1 NA                FALSE      \n",
       "2 NA                FALSE      \n",
       "3 NA                FALSE      \n",
       "4 NA                FALSE      \n",
       "5 NA                FALSE      \n",
       "6 NA                FALSE      "
      ]
     },
     "metadata": {},
     "output_type": "display_data"
    },
    {
     "data": {
      "text/html": [
       "<style>\n",
       ".list-inline {list-style: none; margin:0; padding: 0}\n",
       ".list-inline>li {display: inline-block}\n",
       ".list-inline>li:not(:last-child)::after {content: \"\\00b7\"; padding: 0 .5ex}\n",
       "</style>\n",
       "<ol class=list-inline><li>104621</li><li>14</li></ol>\n"
      ],
      "text/latex": [
       "\\begin{enumerate*}\n",
       "\\item 104621\n",
       "\\item 14\n",
       "\\end{enumerate*}\n"
      ],
      "text/markdown": [
       "1. 104621\n",
       "2. 14\n",
       "\n",
       "\n"
      ],
      "text/plain": [
       "[1] 104621     14"
      ]
     },
     "metadata": {},
     "output_type": "display_data"
    }
   ],
   "source": [
    "control_check_combined <- df_3393_2247_2257_combined %>%\n",
    "    filter(f2247_f2257==0) %>%\n",
    "    select(FID, IID, age_combined, sex, f2247_f2257, starts_with(\"f.3393\")) %>%\n",
    "    mutate(remove_3393 = apply(select(.,starts_with(\"f.3393\")), 1, function(x) length(which(x == \"Yes\")) > 0))\n",
    "head(control_check_combined)\n",
    "dim(control_check_combined)"
   ]
  },
  {
   "cell_type": "code",
   "execution_count": 347,
   "metadata": {
    "kernel": "R"
   },
   "outputs": [
    {
     "data": {
      "text/html": [
       "3"
      ],
      "text/latex": [
       "3"
      ],
      "text/markdown": [
       "3"
      ],
      "text/plain": [
       "[1] 3"
      ]
     },
     "metadata": {},
     "output_type": "display_data"
    }
   ],
   "source": [
    "length(which(control_check_combined$remove_3393==TRUE)) #controls that replied yes to f.3393"
   ]
  },
  {
   "cell_type": "markdown",
   "metadata": {
    "kernel": "R"
   },
   "source": [
    "### Export file white-British"
   ]
  },
  {
   "cell_type": "code",
   "execution_count": 162,
   "metadata": {
    "kernel": "R"
   },
   "outputs": [],
   "source": [
    "write.table(f2247_f2257_pheno, '200828_UKBB_f2247_f2257', quote = FALSE, row.names = FALSE)"
   ]
  },
  {
   "cell_type": "markdown",
   "metadata": {
    "kernel": "R"
   },
   "source": [
    "### Export file white expanded"
   ]
  },
  {
   "cell_type": "code",
   "execution_count": 162,
   "metadata": {
    "kernel": "R"
   },
   "outputs": [],
   "source": [
    "write.table(f2247_f2257_pheno, '120120_UKBB_f2247_f2257_expandedwhite', quote = FALSE, row.names = FALSE)"
   ]
  },
  {
   "cell_type": "markdown",
   "metadata": {
    "kernel": "R"
   },
   "source": [
    "### Export exome data"
   ]
  },
  {
   "cell_type": "code",
   "execution_count": 348,
   "metadata": {
    "kernel": "R"
   },
   "outputs": [],
   "source": [
    "write.table(f2247_f2257_pheno, 'phenotypes_exome_data/010421_UKBB_f2247_f2257_exomes', quote = FALSE, row.names = FALSE)"
   ]
  }
 ],
 "metadata": {
  "kernelspec": {
   "display_name": "SoS",
   "language": "sos",
   "name": "sos"
  },
  "language_info": {
   "codemirror_mode": "sos",
   "file_extension": ".sos",
   "mimetype": "text/x-sos",
   "name": "sos",
   "nbconvert_exporter": "sos_notebook.converter.SoS_Exporter",
   "pygments_lexer": "sos"
  },
  "sos": {
   "kernels": [
    [
     "R",
     "ir",
     "R",
     "#DCDCDA",
     "r"
    ],
    [
     "SoS",
     "sos",
     "",
     "",
     "sos"
    ]
   ],
   "version": "0.21.21"
  }
 },
 "nbformat": 4,
 "nbformat_minor": 4
}
