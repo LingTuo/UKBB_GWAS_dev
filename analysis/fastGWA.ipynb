{
 "cells": [
  {
   "cell_type": "markdown",
   "metadata": {
    "kernel": "SoS"
   },
   "source": [
    "# fastGWA analyses for UK Biobank data"
   ]
  },
  {
   "cell_type": "markdown",
   "metadata": {
    "kernel": "SoS"
   },
   "source": [
    "Asthma:\n",
    "```\n",
    "~/project/phenotypes_UKB/Asthma_casesbyICD10codesANDselfreport_controlsbyselfreportandicd10_noautoimmuneincontrols_fastGWA.phe\n",
    "~/project/phenotypes_UKB/Asthma_casesbyICD10codesANDselfreport_controlsbyselfreportandicd10_noautoimmuneincontrols_fastGWA_covSEX.txt\n",
    "~/project/phenotypes_UKB/Asthma_casesbyICD10codesANDselfreport_controlsbyselfreportandicd10_noautoimmuneincontrols_fastGWA_covAGE.txt\n",
    "```\n",
    "\n",
    "Diabetes:\n",
    "\n",
    "```\n",
    "~/project/phenotypes_UKB/diabetes_casesbyICD10andselfreport_controlswithoutautoiummune_052820.phe\n",
    "~/project/phenotypes_UKB/diabetes_casesbyICD10andselfreport_controlswithoutautoiummune_052820_covSEX.txt\n",
    "~/project/phenotypes_UKB/diabetes_casesbyICD10andselfreport_controlswithoutautoiummune_052820_covAGE.txt\n",
    "```\n",
    "\n",
    "\n"
   ]
  },
  {
   "cell_type": "markdown",
   "metadata": {
    "kernel": "SoS"
   },
   "source": [
    "## Running fastGWA"
   ]
  },
  {
   "cell_type": "markdown",
   "metadata": {
    "kernel": "SoS"
   },
   "source": [
    "On Yale Farnam cluster,\n",
    "\n",
    "Asthma:\n",
    "\n",
    "```\n",
    "sos run ~/project/pleiotropy_UKB/workflow/fastGWA.ipynb -c ~/project/pleiotropy_UKB/farnam.yml -q farnam -J 100 -s build &> sos-submission-fastGWA-asthma-051920.log\n",
    "```\n",
    "\n",
    "Diabetes: to run only one part of the workflow use `sos run name.ipynb workflow_name` \n",
    "```\n",
    "sos run ~/project/pleiotropy_UKB/workflow/fastGWA.ipynb fastGWA -c ~/project/pleiotropy_UKB/farnam.yml -q farnam -J 100 -s build &> sos-submission-fastGWA-diabetes-052820.log\n",
    "```"
   ]
  },
  {
   "cell_type": "code",
   "execution_count": null,
   "metadata": {
    "kernel": "SoS"
   },
   "outputs": [],
   "source": [
    "[global]\n",
    "# the output directory for generated files\n",
    "parameter: cwd = path('~/scratch60/2020-04_fastGWA/asthma')\n",
    "# Genotype file in plink binary format\n",
    "parameter: genoFile = path('/SAY/dbgapstg/scratch/UKBiobank/genotype_files/pleiotropy_geneticfiles/UKB_Caucasians_phenotypeindepqc120319_updated020720removedwithdrawnindiv.bed')\n",
    "# Path to bgen files\n",
    "parameter: bgenFile = paths([f'/SAY/dbgapstg/scratch/UKBiobank/genotype_files/ukb39554_imputeddataset/ukb_imp_chr{x+1}_v3.bgen' for x in range(22)])\n",
    "# Path to sample file\n",
    "parameter: sampleFile = path('/SAY/dbgapstg/scratch/UKBiobank/genotype_files/ukb39554_imputeddataset/ukb32285_imputedindiv.sample')\n",
    "# Phenotype file for binary trait 1 (asthma) This is the original file\n",
    "#parameter: phenoFile = path('/SAY/dbgapstg/scratch/UKBiobank/phenotype_files/pleiotropy_R01/phenotypesforanalysis/Asthma_casesbyICD10codesANDselfreport_controlsbyselfreportandicd10_noautoimmuneincontrols_forbolt030720')\n",
    "# Phenotype file for binary trait 1 (asthma) This is the created file with fastGWA formatting\n",
    "parameter: phenoFile = path('~/project/phenotypes_UKB/diabetes_casesbyICD10andselfreport_controlswithoutautoiummune_052820.phe')\n",
    "# Qualitative (SEX) covariates file for binary trait=asthma. This is the created file with fastGWA formatting\n",
    "parameter: covarFile = path('~/project/phenotypes_UKB/diabetes_casesbyICD10andselfreport_controlswithoutautoiummune_052820_covSEX.txt')\n",
    "# Quantitative covariates (AGE) for binary trait=asthma. This is the created file with fastGWA formatting\n",
    "parameter: qcovarFile = path('~/project/phenotypes_UKB/diabetes_casesbyICD10andselfreport_controlswithoutautoiummune_052820_covAGE.txt')\n",
    "# Minimum MAF to be used\n",
    "parameter: bgenMinMAF = 0.001\n",
    "# Mimimum info score to be used\n",
    "parameter: bgenMinINFO = 0.8\n",
    "# Specific number of threads to use\n",
    "parameter: numThreads = 6\n",
    "# For cluster jobs, number commands to run per job\n",
    "parameter: job_size = 1"
   ]
  }
 ],
 "metadata": {
  "kernelspec": {
   "display_name": "SoS",
   "language": "sos",
   "name": "sos"
  },
  "language_info": {
   "codemirror_mode": "sos",
   "file_extension": ".sos",
   "mimetype": "text/x-sos",
   "name": "sos",
   "nbconvert_exporter": "sos_notebook.converter.SoS_Exporter",
   "pygments_lexer": "sos"
  },
  "sos": {
   "kernels": [
    [
     "SoS",
     "sos",
     "",
     ""
    ]
   ],
   "version": "0.21.9"
  }
 },
 "nbformat": 4,
 "nbformat_minor": 4
}
