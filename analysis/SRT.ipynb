{
 "cells": [
  {
   "cell_type": "markdown",
   "metadata": {
    "kernel": "SoS"
   },
   "source": [
    "# Speech Reception Threshold (SRT) phenotype (quantitative)"
   ]
  },
  {
   "cell_type": "markdown",
   "metadata": {
    "kernel": "SoS"
   },
   "source": [
    "## Aim\n",
    "\n",
    "Create a dataset of filtered individuals using the inclusion and exclusion criteria for SRT phenotype to perform association analyses using the LMM.ipynb. "
   ]
  },
  {
   "cell_type": "markdown",
   "metadata": {
    "kernel": "SoS"
   },
   "source": [
    "## Location of files\n",
    "\n",
    "In the shared folder is the original UKBB data\n",
    "```\n",
    "/SAY/dbgapstg/scratch/UKBiobank/phenotype_files/pleiotropy_R01/ukb42495_updatedJune2020\n",
    "```\n",
    "\n",
    "In my personal folder the filtered dataset\n",
    "\n",
    "```\n",
    "/home/dc2325/project/HI_UKBB\n",
    "```"
   ]
  },
  {
   "cell_type": "markdown",
   "metadata": {
    "kernel": "SoS"
   },
   "source": [
    "## Important phenotypic files"
   ]
  },
  {
   "cell_type": "markdown",
   "metadata": {
    "kernel": "SoS"
   },
   "source": [
    "1. `200804_UKBB_HI_genotypeqc.csv` File containing all individuals that passed QC and hearing impairment variables\n",
    "2. `200804_UKBB_HI_genotypeqc_excr.csv` File with applied exclusion criteria as indicated [here](https://docs.google.com/document/d/1cpxTzElpsEkwmBDjnMBHg2wW7CL1AcG_b0_0wE_k5rQ/edit). **Note**: this file excludes individuals with otosclerosis, Meniere's and other diseases, if you need to filter those particular phenotypes use file 1 instead.\n",
    "3. `200811_UKBB_Tinnitus_plan1_2_3_f4803` File with filtered phenotypes for tinnitus plan 1,2 and 3 and imputed noise variables\n",
    "4. `200814_UKBB_HI_genotypeqc_excr_impvars` Database with qc'ed individuals, exclusion criteria, noise imputed vars and tinnitus phenotypes"
   ]
  },
  {
   "cell_type": "markdown",
   "metadata": {
    "kernel": "SoS"
   },
   "source": [
    "## SRT analysis plan"
   ]
  },
  {
   "cell_type": "markdown",
   "metadata": {
    "kernel": "SoS"
   },
   "source": [
    "**The phenotypes to be used are as follow:**\n",
    "1. Left ear f.20019\n",
    "2. Right ear f.20021\n",
    "3. Best ear (create a new variable extracting the min SRT value among f.20019 and f.20021)\n",
    "4. Worst ear (create a new variable extracting the max SRT value among f.20019 and f.20021)\n",
    "\n",
    "**Age is calculated as follows:**\n",
    "\n",
    "- For people with repeated measures take age at last visit and measurement at last visit\n",
    "- For people with only one measure take age at that visit\n",
    "\n",
    "**Sex corresponds to f.22001 (genetic sex):**\n",
    "\n",
    "- Male = 0\n",
    "- Female = 1\n",
    "\n",
    "**Noisy workplace and loud music exposure frequency: same as for Tinnitus**\n",
    "                \n",
    "1. Remove inconsistent individuals \n",
    "    - said 1,2 or 3 and in following visits said 0\n",
    "    - said a higher exposure (e.g 3) and then a lower one (e.g 1 or 2) in following visits\n",
    "2. Retain consistent individuals and use highest reported exposure\n",
    "\n",
    "**The needs to be inverse normalized**\n",
    "\n",
    "**Covariates to be included in the analysis include:**\n",
    "\n",
    "1. Age at time of test (calculated from f.21003.0.0,f.21003.1.0,f.21003.2.0,f.21003.3.0)\n",
    "2. Sex f.22001\n",
    "3. Volume left f.4270 and right f.4277\n",
    "4. Noisy workplace f.4825\n",
    "5. Loud music exposure f.4836"
   ]
  },
  {
   "cell_type": "markdown",
   "metadata": {
    "kernel": "SoS"
   },
   "source": [
    "## Load libraries and set working dir"
   ]
  },
  {
   "cell_type": "code",
   "execution_count": null,
   "metadata": {
    "kernel": "R"
   },
   "outputs": [],
   "source": [
    "#Load libraries\n",
    "library(plyr)\n",
    "library(tidyverse)\n",
    "library(pander)\n",
    "library(ggpubr)\n",
    "library(rapportools)\n",
    "library(ggplot2)\n",
    "#Get working directory\n",
    "getwd()\n",
    "#Set working directory\n",
    "setwd('~/project/HI_UKBB')"
   ]
  },
  {
   "cell_type": "markdown",
   "metadata": {
    "kernel": "SoS"
   },
   "source": [
    "## Clean workspace"
   ]
  },
  {
   "cell_type": "code",
   "execution_count": null,
   "metadata": {
    "kernel": "R"
   },
   "outputs": [],
   "source": [
    "# Clean workspace\n",
    "rm(list=ls())"
   ]
  },
  {
   "cell_type": "markdown",
   "metadata": {
    "kernel": "SoS"
   },
   "source": [
    "## Filter SRT codes\n",
    "\n",
    "* Obtain scores for right and left ear\n",
    "* Obtain the age at the last visit"
   ]
  },
  {
   "cell_type": "code",
   "execution_count": null,
   "metadata": {
    "kernel": "R"
   },
   "outputs": [],
   "source": [
    "df.final.imp = read.csv('/SAY/dbgapstg/scratch/UKBiobank/phenotype_files/hearing_impairment/200814_UKBB_HI_genotypeqc_excr_impvars', header=TRUE)"
   ]
  },
  {
   "cell_type": "code",
   "execution_count": null,
   "metadata": {
    "kernel": "R"
   },
   "outputs": [],
   "source": [
    "#extract the SRT score for left ear and right ear at the last visit for repeaters \n",
    "\n",
    "srt_all = df.final.imp %>% \n",
    "  select(IID,FID,f.31.0.0,f.21003.0.0,f.21003.1.0,f.21003.2.0,f.21003.3.0, f.20019.0.0, f.20019.1.0, f.20019.2.0, f.20019.3.0,f.20021.0.0,f.20021.1.0,f.20021.2.0,f.20021.3.0,f.4270.0.0,f.4270.1.0,f.4270.2.0,f.4270.3.0,f.4277.0.0,f.4277.1.0,f.4277.2.0,f.4277.3.0)\n",
    "\n",
    "\n",
    "srt_clean <-  srt_all %>% \n",
    "  mutate(srt_score_left = apply(select(., starts_with(\"f.20019\")), 1, function(x)  {tail(x[!is.na(x)],n=1)[1]}),\n",
    "         srt_score_right = apply(select(., starts_with(\"f.20021\")), 1, function(x) {tail(x[!is.na(x)],n=1)[1]}),\n",
    "         srt_age =  apply(select(., starts_with(\"f.21003\")), 1, function(x)  {tail(x[!is.na(x)],n=1)[1]}),\n",
    "         left_volume =  apply(select(., starts_with(\"f.4270\")), 1, function(x)  {tail(x[!is.na(x)],n=1)[1]}),\n",
    "         right_volume =  apply(select(., starts_with(\"f.4277\")), 1, function(x)  {tail(x[!is.na(x)],n=1)[1]})\n",
    "  ) "
   ]
  },
  {
   "cell_type": "code",
   "execution_count": null,
   "metadata": {
    "kernel": "R"
   },
   "outputs": [],
   "source": [
    "#NA for both ear (211763 individuals)\n",
    "srt_NA <- srt_clean %>% \n",
    "  filter(is.na(srt_score_left) & is.na(srt_score_right))\n",
    "cat(\"There are\",length(srt_NA),\" individuals with missing data for both ears.\\n\")\n",
    "\n",
    "#only left ear (all left ear - no right ear) 141029 - 1554 = 139475\n",
    "left_ear <- srt_clean %>% \n",
    "  filter(!is.na(srt_score_left))\n",
    "cat(\"There are\",length(left_ear),\" individuals with SRT score for the left ear.\\n\")\n",
    "\n",
    "#all people who have right ear score  141030 \n",
    "right_ear <- srt_clean %>% \n",
    "  filter(!is.na(srt_score_right))\n",
    "cat(\"There are\",length(right_ear),\" individuals with SRT score for the right ear.\\n\")\n",
    "\n",
    "#1555 who have srt score for right ear but not for left ear\n",
    "right_ear_na <- srt_clean %>% \n",
    "  filter(!is.na(srt_score_right) & is.na(srt_score_left))\n",
    "cat(\"There are\",length(right_ear_na),\" individuals without SRT score for the right ear.\\n\")\n",
    "\n",
    "cat(\"There are\",(length(right_ear) - length(right_ear_na)),\" individuals with SRT score only for the right ear.\\n\")\n",
    "#141030 - 1555 = 139475 have only right ear score\n",
    "\n",
    "#all people who have left ear score  141029\n",
    "left_ear <- srt_clean %>% \n",
    "  filter(!is.na(srt_score_left))\n",
    "cat(\"There are\",length(left_ear),\" individuals with SRT score for the left ear.\\n\")\n",
    "\n",
    "#1554 who have srt score for left ear but not for right ear\n",
    "left_ear_na <- srt_clean %>% \n",
    "  filter(!is.na(srt_score_left) & is.na(srt_score_right))\n",
    "cat(\"There are\",length(left_ear_na),\" individuals without SRT score for the left ear.\\n\")\n",
    "cat(\"There are\",(length(left_ear) - length(left_ear_na)),\" individuals with SRT score only for the left ear.\\n\")\n",
    "\n",
    "#141029 - 1554 = 139475 have only left ear score\n",
    "\n",
    "#1555 who do not have srt score for left ear\n",
    "left_ear_na <- srt_clean %>% \n",
    "  filter(is.na(srt_score_left) & !is.na(srt_score_right))\n",
    "\n",
    "#1554 who do not have srt score for right ear\n",
    "right_ear_na <- srt_clean %>% \n",
    "  filter(is.na(srt_score_right) & !is.na(srt_score_left))\n",
    "\n",
    "#139475 have SRT score for both ear\n",
    "both_ear <- srt_clean %>% \n",
    "   filter(!is.na(srt_score_left) & !is.na(srt_score_right)) \n",
    "\n",
    "#142584 have SRT score for either ear or both ear \n",
    "either_ear <- srt_clean %>% \n",
    "   filter(!is.na(srt_score_left) | !is.na(srt_score_right))"
   ]
  },
  {
   "cell_type": "code",
   "execution_count": null,
   "metadata": {
    "kernel": "R"
   },
   "outputs": [],
   "source": [
    "### Classification for SRT Score \n",
    "```{r SRT exploratory (tables),warning=FALSE, collapse=FALSE,echo=T}\n",
    "#create a categorical variable to classify the score for left and right ear\n",
    "#138901 have either right or left score, or both  (deleting the outliers)\n",
    "srt_cat <- srt_clean %>%\n",
    "  filter(!is.na(srt_score_left) | !is.na(srt_score_right)) %>% \n",
    "  mutate(srt_left_cat = case_when(\n",
    "        srt_score_left < -5.5   ~  \"normal\",\n",
    "        -5.5 <= srt_score_left & srt_score_left <= -3.5   ~  \"insufficient\",\n",
    "          srt_score_left > -3.5  ~ \"poor\",\n",
    "         TRUE                    ~ \"\"\n",
    "  )) %>% \n",
    "  mutate(srt_right_cat = case_when(\n",
    "        srt_score_right < -5.5   ~  \"normal\",\n",
    "        -5.5 <= srt_score_right & srt_score_right <= -3.5   ~  \"insufficient\",\n",
    "          srt_score_right > -3.5  ~ \"poor\",\n",
    "         TRUE                    ~ \"\"\n",
    "  )) %>% \n",
    "  #remove the score 8 (outlier) for both ears\n",
    "  filter(!(srt_score_left == 8) & !(srt_score_right == 8))\n",
    "\n",
    "#to use the function max/min, replace all NA to 0 for numerical variables \n",
    "srt_fill_na <- srt_cat\n",
    "srt_fill_na[is.na(clean <- srt_cat)] <- 0\n",
    " \n",
    "\n",
    "# Create two new variables to show the best ear and the worst ear\n",
    "srt_best_worst <-  srt_fill_na %>% \n",
    "  mutate(best = apply(select(., starts_with(\"f.200\")), 1, function(x) min(x[x!=0])),\n",
    "         worst = apply(select(., starts_with(\"f.200\")), 1, function(x) max(x[x!=0]))\n",
    "  ) \n",
    "\n",
    "#replace 0 with NA\n",
    "library(dplyr) \n",
    "srt_best_worst <- na_if(srt_best_worst, 0)\n",
    "\n",
    "srt_best_worst <- srt_best_worst %>% \n",
    "  #replace the Inf and -Inf values with 0\n",
    "  mutate(best = if_else(best == Inf, 0, best),\n",
    "         worst = if_else(worst == -Inf, 0, worst)\n",
    "  )"
   ]
  },
  {
   "cell_type": "markdown",
   "metadata": {
    "kernel": "R"
   },
   "source": [
    "## Summary statistics"
   ]
  },
  {
   "cell_type": "code",
   "execution_count": null,
   "metadata": {
    "kernel": "R"
   },
   "outputs": [],
   "source": [
    "summary_left <- srt_best_worst %>%\n",
    "  filter(!is.na(srt_score_left)) %>% \n",
    "  summarise(std_left =sd(srt_score_left),\n",
    "          mean_left = mean(srt_score_left),\n",
    "          median_left = median(srt_score_left),\n",
    "          min_left = min(srt_score_left),\n",
    "          max_left = max(srt_score_left),\n",
    "          \"25%_quantile\" = quantile(srt_score_left,probs = 0.25),\n",
    "          \"75%_quantile\" = quantile(srt_score_left,probs = 0.75)\n",
    "          ) %>% \n",
    "  knitr::kable(digits = 2,caption = \"Summary Table for Left Ear\")\n",
    "\n",
    "summary_left \n",
    "\n",
    "summary_right <- srt_best_worst %>%\n",
    "  filter(!is.na(srt_score_right)) %>% \n",
    "  summarise(std_right =sd(srt_score_right),\n",
    "          mean_right = mean(srt_score_right),\n",
    "          median_right = median(srt_score_right),\n",
    "          min_right = min(srt_score_right),\n",
    "          max_right = max(srt_score_right),\n",
    "          \"25%_quantile\" = quantile(srt_score_right,probs = 0.25),\n",
    "          \"75%_quantile\" = quantile(srt_score_right,probs = 0.75)\n",
    "          ) %>% \n",
    "  knitr::kable(digits = 2,caption = \"Summary Table for Right Ear\")\n",
    "\n",
    "summary_right \n",
    "\n",
    "\n",
    "summary_best <- srt_best_worst %>%\n",
    "  filter(!is.na(best)) %>% \n",
    "  summarise(std_best =sd(best),\n",
    "          mean_best = mean(best),\n",
    "          median_best = median(best),\n",
    "          min_best = min(best),\n",
    "          max_best = max(best),\n",
    "          \"5%_quantile\" = quantile(best,probs = 0.05),\n",
    "          \"25%_quantile\" = quantile(best,probs = 0.25),\n",
    "          \"75%_quantile\" = quantile(best,probs = 0.75),\n",
    "          \"95%_quantile\" = quantile(best,probs = 0.95)\n",
    "          ) %>% \n",
    "  knitr::kable(digits = 2,caption = \"Summary Table for Best Ear\")\n",
    "\n",
    "summary_best \n",
    "\n",
    "summary_worst <- srt_best_worst %>%\n",
    "  filter(!is.na(worst)) %>% \n",
    "  summarise(std_worst =sd(worst),\n",
    "          mean_worst = mean(worst),\n",
    "          median_worst = median(worst),\n",
    "          min_worst = min(worst),\n",
    "          max_worst = max(worst),\n",
    "          \"5%_quantile\" = quantile(worst,probs = 0.05),\n",
    "          \"25%_quantile\" = quantile(worst,probs = 0.25),\n",
    "          \"75%_quantile\" = quantile(worst,probs = 0.75),\n",
    "          \"95%_quantile\" = quantile(worst,probs = 0.95)\n",
    "          ) %>% \n",
    "  knitr::kable(digits = 2,caption = \"Summary Table for Worst Ear\")\n",
    "\n",
    "summary_worst"
   ]
  },
  {
   "cell_type": "code",
   "execution_count": null,
   "metadata": {
    "kernel": "R"
   },
   "outputs": [],
   "source": [
    "#cases: left ear: top 25%:  < -7.5    right ear:top 25%:  < -7.5 \n",
    "#controls: left ear: bottom 25%  > -5.5   right ear: bottom 25%  > -5\n",
    "\n",
    "srt_best_worst <- srt_best_worst %>% \n",
    "  filter(!is.na(left_volume) | !is.na(right_volume)) %>% \n",
    "   mutate(srt_cat = case_when(\n",
    "      srt_score_left < -7.5 & srt_score_right < -7.5 ~\"control\",\n",
    "      srt_score_left > -5.5 & srt_score_right > -5 ~\"case\"),\n",
    "      left_volume = recode(left_volume,\"100% (max)\"=\"1\",\"10%\"=\"0.1\",\"20%\"=\"0.2\",\"40%\"=\"0.4\",\"70%\"=\"0.7\"),\n",
    "      right_volume = recode(right_volume,\"100% (max)\"=\"1\",\"10%\"=\"0.1\",\"20%\"=\"0.2\",\"40%\"=\"0.4\",\"70%\"=\"0.7\")\n",
    "   )\n",
    "\n",
    "#25899 who are classified as either case or control\n",
    "check_case_control <- srt_best_worst %>% \n",
    "  filter(!is.na(srt_cat))\n",
    "\n",
    "\n",
    "srt_best_worst <- srt_best_worst %>% \n",
    "  mutate(left_volume = as.numeric(left_volume),\n",
    "         right_volume =  as.numeric(right_volume)) %>% \n",
    "  mutate(mean = rowMeans(.[27:28]))\n",
    "\n",
    "\n",
    "volume_srt <- srt_best_worst %>% \n",
    "  filter(!is.na(srt_cat)) %>% \n",
    "   ggplot(aes(x = mean,fill = srt_cat)) +\n",
    "      geom_histogram(binwidth = 0.1) +\n",
    "   labs(\n",
    "    title = \"SRT vs Volume (Caes and Controls)\",\n",
    "    x = \"Volume\",\n",
    "    y = \"Count\"\n",
    "    ) +\n",
    "  scale_y_continuous(\n",
    "    breaks = c(2500, 5000, 7500, 10000, 12500),\n",
    "    labels = c(\"2500\", \"5000\", \"7500\", \"10000\", \"12500\"))\n",
    "\n",
    "volume_srt\n",
    "\n",
    "\n",
    "volume_case <- srt_best_worst %>% \n",
    "  filter(srt_cat == \"case\") %>% \n",
    "   ggplot(aes(x = mean)) +\n",
    "      geom_histogram(binwidth = 0.1) +\n",
    "   labs(\n",
    "    title = \"SRT vs Volume (Caes)\",\n",
    "    x = \"Volume\",\n",
    "    y = \"Count\"\n",
    "    ) \n",
    "\n",
    "volume_case\n",
    "\n",
    "volume_control <- srt_best_worst %>% \n",
    "  filter(srt_cat == \"control\") %>% \n",
    "   ggplot(aes(x = mean)) +\n",
    "      geom_histogram(binwidth = 0.1) +\n",
    "   labs(\n",
    "    title = \"SRT vs Volume (Control)\",\n",
    "    x = \"Volume\",\n",
    "    y = \"Count\"\n",
    "    ) \n",
    "\n",
    "volume_control\n",
    "\n",
    "\n",
    "library(patchwork)\n",
    "volume_case/ volume_control\n",
    "\n",
    "volume_srt"
   ]
  },
  {
   "cell_type": "markdown",
   "metadata": {
    "kernel": "R"
   },
   "source": [
    "## Plots"
   ]
  },
  {
   "cell_type": "code",
   "execution_count": null,
   "metadata": {
    "kernel": "R"
   },
   "outputs": [],
   "source": [
    "#histogram for SRT Score for Left Ear\n",
    "left_plot = srt_best_worst %>% \n",
    "  filter(!is.na(srt_score_left)) %>% \n",
    "  ggplot(aes(x = srt_score_left,fill = srt_left_cat)) +\n",
    "      geom_histogram(binwidth = 0.25) +\n",
    "   labs(\n",
    "    title = \"SRT Score for Left Ear (by category)\",\n",
    "    x = \"SRT Score for Left \",\n",
    "    y = \"Count\"\n",
    "    ) +  \n",
    "   scale_x_continuous(\n",
    "    breaks = c(-11.25, -5.5, -3.5, 0.5)) +\n",
    "  scale_y_continuous(\n",
    "    breaks = c(2500, 5000, 7500, 10000, 12500, 15000),\n",
    "    labels = c(\"2500\", \"5000\", \"7500\", \"10000\", \"12500\", \"15000\"))\n",
    "   scale_color_manual(\"SRT Score Category\",labels = c(\"normal\",\"insufficient\",\"poor\"), values = c(\"green\", \"red\", \"blue\")) \n",
    "  \n",
    "#histogram for SRT Score for Right Ear \n",
    "right_plot <- srt_best_worst %>% \n",
    "  filter(!is.na(srt_score_right)) %>% \n",
    "  ggplot(aes(x = srt_score_right, fill=srt_right_cat) ) +\n",
    "      geom_histogram(binwidth =  0.25) +\n",
    "  labs(\n",
    "    title = \"SRT Score for Right Ear (by category)\",\n",
    "    x = \"SRT Score for Right \",\n",
    "    y = \"Count\"\n",
    "    ) + \n",
    "   scale_x_continuous(\n",
    "    breaks = c(-11.25, -5.5, -3.5, 0.5)) +\n",
    "  scale_y_continuous(\n",
    "    breaks = c(2500, 5000, 7500, 10000, 12500, 15000),\n",
    "    labels = c(\"2500\", \"5000\", \"7500\", \"10000\", \"12500\", \"15000\")) +\n",
    "   scale_color_manual(\"SRT Score Category\",labels = c(\"normal\",\"insufficient\",\"poor\"), values = c(\"green\", \"red\", \"blue\")) \n",
    " \n",
    "\n",
    "\n",
    "library(patchwork)\n",
    "left_plot / right_plot\n",
    "\n",
    "\n",
    "library(nortest)\n",
    "ad.test(srt_best_worst$srt_score_right)\n",
    "ad.test(srt_best_worst$srt_score_left)\n",
    "ad.test(srt_best_worst$best)\n",
    "ad.test(srt_best_worst$worst)\n",
    "\n",
    "#QQ plot for SRT Score for Left Ear\n",
    "qq_left_total <- srt_best_worst %>% \n",
    "  filter(!is.na(srt_score_left)) %>% \n",
    "  ggplot(aes(sample = (srt_score_left - mean(srt_score_left))/sd(srt_score_left))) +\n",
    "  stat_qq() +\n",
    "  stat_qq_line() +\n",
    "  labs(title=\"QQ plot for SRT Score (Left)\",\n",
    "       y = \"SRT Score Quantile\",\n",
    "       x = \"Normal Quantile\") +\n",
    "theme_classic()\n",
    "\n",
    "qq_left_total\n",
    "\n",
    "qq_left_by_cat <- srt_best_worst %>% \n",
    "  filter(!is.na(srt_score_left)) %>% \n",
    "  ggplot(aes(sample = (srt_score_left - mean(srt_score_left))/sd(srt_score_left), color = srt_left_cat)) +\n",
    "  stat_qq() +\n",
    "  stat_qq_line() +\n",
    "  labs(title=\"QQ plot for SRT Score (Left)\",\n",
    "       y = \"SRT Score Quantile\",\n",
    "       x = \"Normal Quantile\") +\n",
    "theme_classic()\n",
    "\n",
    "qq_left_by_cat\n",
    "\n",
    "\n",
    "\n",
    "\n",
    "#QQ plot for SRT Score for Right Ear\n",
    "qq_right_total <- srt_best_worst %>% \n",
    "  filter(!is.na(srt_score_right)) %>% \n",
    "  ggplot(aes(sample = (srt_score_right - mean(srt_score_right))/sd(srt_score_right))) +\n",
    "  stat_qq(distribution = stats::qnorm) +\n",
    "  stat_qq_line() +\n",
    "  labs(title=\"QQ plot for SRT Score (Right)\",\n",
    "       y = \"SRT Score Quantile\",\n",
    "       x = \"Normal Quantile\") +\n",
    "theme_classic()\n",
    "\n",
    "qq_right_total\n",
    "\n",
    "qq_right_by_cat <- srt_best_worst %>% \n",
    "  filter(!is.na(srt_score_right)) %>% \n",
    "  ggplot(aes(sample = (srt_score_right - mean(srt_score_right))/sd(srt_score_right), color = srt_right_cat)) +\n",
    "  stat_qq(distribution = stats::qnorm) +\n",
    "  stat_qq_line() +\n",
    "  labs(title=\"QQ plot for SRT Score (Right)\",\n",
    "       y = \"SRT Score Quantile\",\n",
    "       x = \"Normal Quantile\") +\n",
    "theme_classic()\n",
    "\n",
    "qq_right_by_cat\n",
    "```\n",
    "\n",
    "##Plots for Best and Worst Ear\n",
    "```{r plots best_worst, warning=FALSE, collapse=FALSE, echo=T}\n",
    "srt_best_worst_cat <- srt_best_worst %>%\n",
    "  mutate(srt_best_cat = case_when(\n",
    "        best < -5.5   ~  \"normal\",\n",
    "        -5.5 <= best & best <= -3.5   ~  \"insufficient\",\n",
    "          best > -3.5  ~ \"poor\",\n",
    "         TRUE                    ~ \"\"\n",
    "  )) %>% \n",
    "  mutate(srt_worst_cat = case_when(\n",
    "        worst < -5.5   ~  \"normal\",\n",
    "        -5.5 <= worst & worst <= -3.5   ~  \"insufficient\",\n",
    "          worst > -3.5  ~ \"poor\",\n",
    "         TRUE                    ~ \"\"\n",
    "  )) %>% \n",
    "  filter(!is.na(best) | !is.na(worst))\n",
    "\n",
    "\n",
    "\n",
    "best_plot <- srt_best_worst_cat %>% \n",
    "  ggplot(aes(x = best, fill = srt_best_cat)) +\n",
    "      geom_histogram(binwidth = 0.25) +\n",
    "  labs(\n",
    "    title = \"SRT Score for the Best Ear (by category)\",\n",
    "    x = \"SRT Score for the Best \",\n",
    "    y = \"Count\"\n",
    "    ) + \n",
    "   scale_x_continuous(\n",
    "    breaks = c(-11.25, -5.5, -3.5, 0.5)) +\n",
    "  scale_y_continuous(\n",
    "    breaks = c(2500, 5000, 7500, 10000, 12500, 15000),\n",
    "    labels = c(\"2500\", \"5000\", \"7500\", \"10000\", \"12500\", \"15000\")) +\n",
    "   scale_color_manual(\"SRT Score Category\",labels = c(\"normal\",\"insufficient\",\"poor\"), values = c(\"green\", \"red\", \"blue\")) \n",
    " \n",
    "worst_plot <- srt_best_worst_cat %>% \n",
    "  ggplot(aes(x = worst, fill = srt_worst_cat)) +\n",
    "      geom_histogram(binwidth = 0.25) +\n",
    "  labs(\n",
    "    title = \"SRT Score for the Worst Ear (by category)\",\n",
    "    x = \"SRT Score for the Best \",\n",
    "    y = \"Count\"\n",
    "    ) + \n",
    "  scale_x_continuous(\n",
    "    breaks = c(-11.25, -5.5, -3.5, 0.5)) +\n",
    "  scale_y_continuous(\n",
    "    breaks = c(2500, 5000, 7500, 10000, 12500, 15000),\n",
    "    labels = c(\"2500\", \"5000\", \"7500\", \"10000\", \"12500\", \"15000\")) +\n",
    "   scale_color_manual(\"SRT Score Category\",labels = c(\"normal\",\"insufficient\",\"poor\"), values = c(\"green\", \"red\", \"blue\")) \n",
    " \n",
    "\n",
    "\n",
    "best_plot/worst_plot\n",
    "\n",
    "\n",
    "qq_best <- srt_best_worst_cat %>% \n",
    "  ggplot(aes(sample = (best - mean(best))/sd(best))) +\n",
    "  stat_qq(distribution = stats::qnorm) +\n",
    "  stat_qq_line(col= 'blue') +\n",
    "  labs(title=\"QQ plot for the Best SRT Score\",\n",
    "       y = \"SRT Score Quantiles\",\n",
    "       x = \"normal Quantiles\") + \n",
    "theme_classic()  \n",
    "\n",
    "qq_best\n",
    "\n",
    "\n",
    "\n",
    "qq_worst <- srt_best_worst_cat %>% \n",
    "  ggplot(aes(sample = (worst - mean(worst))/sd(worst))) +\n",
    "  stat_qq(distribution = stats::qnorm) +\n",
    "  stat_qq_line(col= 'blue') +\n",
    "  labs(title=\"QQ plot for the Worst SRT Score\",\n",
    "       y = \"SRT Score Quantiles\",\n",
    "       x = \"normal quantiles\") +\n",
    "theme_classic()  \n",
    "\n",
    "qq_worst"
   ]
  }
 ],
 "metadata": {
  "kernelspec": {
   "display_name": "SoS",
   "language": "sos",
   "name": "sos"
  },
  "language_info": {
   "codemirror_mode": "sos",
   "file_extension": ".sos",
   "mimetype": "text/x-sos",
   "name": "sos",
   "nbconvert_exporter": "sos_notebook.converter.SoS_Exporter",
   "pygments_lexer": "sos"
  },
  "sos": {
   "kernels": [
    [
     "R",
     "ir",
     "R",
     "#DCDCDA",
     ""
    ]
   ],
   "version": "0.21.7"
  }
 },
 "nbformat": 4,
 "nbformat_minor": 4
}
