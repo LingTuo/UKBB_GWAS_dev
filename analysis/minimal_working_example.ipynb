{
 "cells": [
  {
   "cell_type": "markdown",
   "metadata": {
    "kernel": "SoS"
   },
   "source": [
    "# Analysis of minimal working example"
   ]
  },
  {
   "cell_type": "markdown",
   "metadata": {
    "kernel": "SoS"
   },
   "source": [
    "This notebook ilustrates the usage of the minimal working example with the statistical genetic software"
   ]
  },
  {
   "cell_type": "code",
   "execution_count": null,
   "metadata": {
    "kernel": "SoS"
   },
   "outputs": [],
   "source": [
    "%save MWE.sh -f\n",
    "\n",
    "#!/bin/bash\n",
    "\n",
    "#Defining bash variables for the different paths\n",
    "\n",
    "cwd=~/scratch60/plink-clumping/MWE\n",
    "output=output\n",
    "bfile=~/scratch60/plink-clumping/MWE/UKB_Caucasians_phenotypeindepqc120319_updated020720removedwithdrawnindiv.MWE_data\n",
    "sampleFile=~/scratch60/plink-clumping/MWE/ukb_imp_chr1_v3.filtered.sample\n",
    "bgenFile=~/scratch60/plink-clumping/MWE/*.filtered.bgen\n",
    "phenoFile=~/scratch60/plink-clumping/MWE/phenotypes.txt\n",
    "covarFile=~/scratch60/plink-clumping/MWE/phenotypes.txt\n",
    "LDscoresFile=~/software/BOLT-LMM_v2.3.4/tables/LDSCORE.1000G_EUR.tab.gz\n",
    "geneticMapFile=~/software/BOLT-LMM_v2.3.4/tables/genetic_map_hg19_withX.txt.gz\n",
    "phenoCol= 'BMI'\n",
    "covarCol1 = 'SEX'\n",
    "covarMaxLevels = 10\n",
    "qCovarCol2 = 'AGE'\n",
    "numThreads = 5\n",
    "bgenMinMAF = 0.001\n",
    "bgenMinINFO = 0.1\n",
    "\n",
    "#Running the workflow for the MWE\n",
    "\n",
    "sos run ~/project/pleiotropy_UKB/worfkflow/BoltLMM.ipynb bolt -q localhost -j 8 &> sos-MWE-060820.log"
   ]
  }
 ],
 "metadata": {
  "kernelspec": {
   "display_name": "SoS",
   "language": "sos",
   "name": "sos"
  },
  "language_info": {
   "codemirror_mode": "sos",
   "file_extension": ".sos",
   "mimetype": "text/x-sos",
   "name": "sos",
   "nbconvert_exporter": "sos_notebook.converter.SoS_Exporter",
   "pygments_lexer": "sos"
  },
  "sos": {
   "kernels": [
    [
     "SoS",
     "sos",
     "",
     ""
    ]
   ],
   "version": "0.21.7"
  }
 },
 "nbformat": 4,
 "nbformat_minor": 4
}
