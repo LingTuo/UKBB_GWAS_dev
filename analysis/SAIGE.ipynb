{
 "cells": [
  {
   "cell_type": "markdown",
   "metadata": {
    "kernel": "SoS"
   },
   "source": [
    "# SAIGE analysis for UK Biobank data\n",
    "\n",
    "For binary and quantitative phenotypes"
   ]
  },
  {
   "cell_type": "markdown",
   "metadata": {
    "kernel": "SoS"
   },
   "source": [
    "## Aim"
   ]
  },
  {
   "cell_type": "markdown",
   "metadata": {
    "kernel": "SoS"
   },
   "source": [
    "To perfom genetic association analysis for binary traits (asthma and diabetes) using SAIGE software and UK Biobank imputed data of ~500K invidivuals"
   ]
  },
  {
   "cell_type": "markdown",
   "metadata": {
    "kernel": "SoS"
   },
   "source": [
    "## Method and workflow overview"
   ]
  },
  {
   "cell_type": "markdown",
   "metadata": {
    "kernel": "SoS"
   },
   "source": [
    "1. Download data from UKB: phenotype, genotypes files (`.fam`,`.bed`, `.bim`) and imputed genotypes (`.bgen`, `.bgi`, `.sample`)\n",
    "3. Run SAIGE analysis to obtain summary statistics for association analysis"
   ]
  },
  {
   "cell_type": "markdown",
   "metadata": {
    "kernel": "SoS"
   },
   "source": [
    "## Input data"
   ]
  },
  {
   "cell_type": "markdown",
   "metadata": {
    "kernel": "SoS"
   },
   "source": [
    "1. Genotype file for constructing the GRM (genetic relationship matrix) formated as a plink binary file `(.bed, .bim, .fam)`\n",
    "2. Phenotype file (contains non-genetic covariates). Format is space or tab delimited with a header (one column for sample IDs and one column for each phenotype)"
   ]
  },
  {
   "cell_type": "markdown",
   "metadata": {
    "kernel": "SoS"
   },
   "source": [
    "## Ouput files"
   ]
  },
  {
   "cell_type": "markdown",
   "metadata": {
    "kernel": "SoS"
   },
   "source": [
    "## Global parameter setting"
   ]
  },
  {
   "cell_type": "code",
   "execution_count": null,
   "metadata": {
    "kernel": "SoS"
   },
   "outputs": [],
   "source": [
    "[global]\n",
    "import os\n",
    "# Genotype file in plink binary format\n",
    "parameter: genoFile = path('/SAY/dbgapstg/scratch/UKBiobank/genotype_files/pleiotropy_geneticfiles/UKB_Caucasians_phenotypeindepqc120319_updated020720removedwithdrawnindiv.bed')\n",
    "# Phenotype file for binary trait 1 (asthma)\n",
    "parameter: phenoFile = path('/SAY/dbgapstg/scratch/UKBiobank/phenotype_files/pleiotropy_R01/phenotypesforanalysis/Asthma_casesbyICD10codesANDselfreport_controlsbyselfreportandicd10_noautoimmuneincontrols_forbolt030720')\n",
    "# Phenotype file for binary trait 2 (diabetes)\n",
    "#parameter: phenoFile2 = path('/SAY/dbgapstg/scratch/UKBiobank/phenotype_files/pleiotropy_R01/phenotypesforanalysis/diabetes_casesbyICD10andselfreport_controlswithoutautoiummune_030720')\n",
    "# Path to bgen files\n",
    "parameter: bgenFile = paths([f'/SAY/dbgapstg/scratch/UKBiobank/genotype_files/ukb39554_imputeddataset/ukb_imp_chr{x+1}_v3.bgen' for x in range(22)])\n",
    "# Path to sample file\n",
    "parameter: sampleFile = path('/SAY/dbgapstg/scratch/UKBiobank/genotype_files/ukb39554_imputeddataset/ukb32285_imputedindiv.sample')\n",
    "# Minimum MAF to be used\n",
    "parameter: minMAF = 0.001\n",
    "# Mimimum info score to be used\n",
    "parameter: minInfo = 0.8\n",
    "# Mimimum allele count to be sued\n",
    "parameter: minMAC = 4\n",
    "# the output directory for generated files\n",
    "parameter: cwd = path('~/scratch60/2020-04_saige/asthma')\n",
    "# Specific number of threads to use\n",
    "parameter: numThreads = 20\n",
    "# For cluster jobs, number commands to run per job\n",
    "parameter: job_size = 1\n",
    "\n",
    "for item in bgenFile:\n",
    "    fail_if(not os.path.isfile(f\"{item}.bgi\"), msg = f\"Index file doesn't exist: ``{item}.bgi``\")"
   ]
  },
  {
   "cell_type": "markdown",
   "metadata": {
    "kernel": "SoS"
   },
   "source": [
    "## Running SAIGE"
   ]
  },
  {
   "cell_type": "markdown",
   "metadata": {
    "kernel": "Markdown"
   },
   "source": [
    "On Yale's Farnam cluster,\n",
    "\n",
    "```\n",
    "sos run pleiotropy_UKB/SAIGE_binary_UKB.ipynb -c pleiotropy_UKB/farnam.yml -q farnam -J 40\n",
    "\n",
    "```\n",
    "\n",
    "In your local machine, for a test run\n",
    "\n",
    "```\n",
    "sos dryrun pleiotropy_UKB/SAIGE_binary_UKB.ipynb\n",
    "```\n",
    "\n",
    "To try the steps \n",
    "\n",
    "```\n",
    "sos run pleiotropy_UKB/SAIGE_binary_UKB.ipynb saige_1 -q none\n",
    "```\n",
    "\n",
    "If using the sos-submit-template.sh `sbatch saige_asthma.sh`\n",
    "\n",
    "```\n",
    "sos run ~/project/pleiotropy_UKB/workflow/SAIGE.ipynb -c ~/project/pleiotropy_UKB/farnam.yml -q farnam -J 40 \\\n",
    "-s build & > sos-submission-saige-asthma-051920.log\n",
    "```"
   ]
  },
  {
   "cell_type": "markdown",
   "metadata": {
    "kernel": "bash"
   },
   "source": [
    "### Results"
   ]
  },
  {
   "cell_type": "markdown",
   "metadata": {
    "kernel": "bash"
   },
   "source": [
    "Results for the single variant association analyses can be found in file with the suffix `.SAIGE.bgen.txt`"
   ]
  },
  {
   "cell_type": "code",
   "execution_count": null,
   "metadata": {
    "kernel": "bash"
   },
   "outputs": [],
   "source": []
  }
 ],
 "metadata": {
  "kernelspec": {
   "display_name": "SoS",
   "language": "sos",
   "name": "sos"
  },
  "language_info": {
   "codemirror_mode": "sos",
   "file_extension": ".sos",
   "mimetype": "text/x-sos",
   "name": "sos",
   "nbconvert_exporter": "sos_notebook.converter.SoS_Exporter",
   "pygments_lexer": "sos"
  },
  "sos": {
   "kernels": [
    [
     "Markdown",
     "markdown",
     "markdown",
     "",
     ""
    ],
    [
     "SoS",
     "sos",
     "",
     "",
     "sos"
    ],
    [
     "Bash",
     "bash",
     "bash",
     "",
     ""
    ]
   ],
   "version": "0.21.9"
  }
 },
 "nbformat": 4,
 "nbformat_minor": 4
}
