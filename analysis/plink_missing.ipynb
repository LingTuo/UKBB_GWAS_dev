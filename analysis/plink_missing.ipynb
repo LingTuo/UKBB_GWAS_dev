{
 "cells": [
  {
   "cell_type": "markdown",
   "metadata": {
    "kernel": "SoS"
   },
   "source": [
    "## Missigness patterns UKBB"
   ]
  },
  {
   "cell_type": "code",
   "execution_count": null,
   "metadata": {
    "kernel": "SoS"
   },
   "outputs": [],
   "source": [
    "[global]\n",
    "# the output directory for generated files\n",
    "parameter: cwd = path\n",
    "# BED Plink files for exome data\n",
    "parameter: bedfiles = paths\n",
    "# BIM Plink files for exome data\n",
    "parameter: bimfiles = paths\n",
    "# The fam file associated to the bed files\n",
    "parameter: famFile = path \n",
    "# For cluster jobs, number commands to run per job\n",
    "parameter: job_size = 1\n",
    "# Number of threads\n",
    "parameter: numThreads = 1\n",
    "# Load Plink module from cluster\n",
    "parameter: plink2_module = '''\n",
    "module load PLINK/2_x86_64_20180428\n",
    "echo \"Module PLINK2 loaded\"\n",
    "{cmd}\n",
    "'''\n",
    "parameter: plink_module = '''\n",
    "module load PLINK/1.90-beta5.3\n",
    "echo \"Module plink loaded\"\n",
    "{cmd}\n",
    "'''\n",
    "# Load Eigensoft module from cluster\n",
    "parameter: eigensoft_module = '''\n",
    "module load EIGENSOFT/7.2.1-foss-2018b\n",
    "echo \"Module Eigensoft v.7.2.1 loaded\"\n",
    "{cmd}\n",
    "'''\n",
    "# Software container option\n",
    "parameter: container_lmm = 'statisticalgenetics/lmm:1.4'\n",
    "parameter: container_marp = 'gaow/marp'"
   ]
  },
  {
   "cell_type": "code",
   "execution_count": null,
   "metadata": {
    "kernel": "SoS"
   },
   "outputs": [],
   "source": [
    "# Filter SNPs with MAF>1% for PCA analysis, select individuals and merge bed into one file\n",
    "[miss]\n",
    "input: bedfiles, paired_with=['bimfiles'], group_by=1\n",
    "output: f'{cwd}/{_input:bn}.smiss', f'{cwd}/{_input:bn}.vmiss', f'{cwd}/{_input:bn}.afreq', f'{cwd}/{_input:bn}.log'\n",
    "task: trunk_workers = 1, walltime = '10h', mem = '30G', cores = numThreads, tags = f'{step_name}_{_output:bn}'\n",
    "bash: container=container_lmm, expand= \"${ }\", stderr = f'{_output[0]:n}.stderr', stdout = f'{_output[0]:n}.stdout', template = '{cmd}' if executable('plink2').target_exists() else plink2_module\n",
    "    plink2 \\\n",
    "      --bed ${_input}  --bim ${_input._bimfiles} --fam ${famFile} \\\n",
    "      --missing \\\n",
    "      --freq \\\n",
    "      --threads ${numThreads} \\\n",
    "      --out ${_output[0]:n} "
   ]
  },
  {
   "cell_type": "code",
   "execution_count": null,
   "metadata": {
    "kernel": "SoS"
   },
   "outputs": [],
   "source": [
    "# Understand patterns of missing data\n",
    "[qc_1]\n",
    "# Filter out variants with missing call rate higher that this value\n",
    "parameter: geno = 0.01\n",
    "# Fitler out samples with missing rate higher than this value\n",
    "parameter: mind = 0.02\n",
    "# Filter based on minor allele frequency\n",
    "parameter: maf = 0.01\n",
    "sep = '\\n\\n---\\n'\n",
    "input: output_from('miss'),group_by=4\n",
    "output: analysis_summary = f'{cwd}/{_input[0]:bn}.missing.md', \n",
    "        sample_plot = f'{cwd}/{_input[0]:bn}.smiss.png',  \n",
    "        variant_plot = f'{cwd}/{_input[0]:bn}.vmiss.png',  \n",
    "        maf_plot = f'{cwd}/{_input[0]:bn}.maf.png'\n",
    "task: trunk_workers = 1, walltime = '10h', mem = '30G', cores = numThreads, tags = f'{step_name}_{_output:bn}'\n",
    "bash: expand = \"${ }\"\n",
    "    echo '''---\n",
    "    theme: base-theme\n",
    "    style: |\n",
    "      img {\n",
    "        height: 80%;\n",
    "        display: block;\n",
    "        margin-left: auto;\n",
    "        margin-right: auto;\n",
    "      }\n",
    "    ---    \n",
    "    ''' > ${_output[0]}\n",
    "    \n",
    "R:expand= \"${ }\", stderr = f'{_output[0]:n}.stderr', stdout = f'{_output[0]:n}.stdout'\n",
    "    #load libraries\n",
    "    library(ggplot2)\n",
    "    library(scales)\n",
    "    #read data sample missingness\n",
    "    smiss <- read.table(${_input[0]:r}, sep='\\t', header=F)\n",
    "    colnames(smiss) <- c(\"FID\",\"IID\",\"MISSING_CT\", \"OBS_CT\", \"F_MISS\")\n",
    "    out = capture.output(as.array(summary(smiss$F_MISS)))\n",
    "    smiss_filter = length(which(smiss$F_MISS>${mind}))\n",
    "    #read data variant missingness\n",
    "    vmiss <- read.table(${_input[1]:r}, sep='\\t', header=F)\n",
    "    colnames(vmiss) <- c(\"CHROM\",\"ID\",\"MISSING_CT\", \"OBS_CT\", \"F_MISS\")\n",
    "    out_1 = capture.output(as.array(summary(vmiss$F_MISS)))\n",
    "    vmiss_filter = length(which(vmiss$F_MISS>${geno}))\n",
    "    #look at the allele frequency\n",
    "    afreq <- read.table(${_input[2]:r}, sep='\\t', header=F)\n",
    "    colnames(afreq) <- c(\"CHROM\",\"ID\",\"REF\", \"ALT\", \"ALT_FREQS\", \"OBS_CT\")\n",
    "    out_2 = capture.output(as.array(summary(afreq$ALT_FREQS)))\n",
    "    afreq_filter = length(which(afreq$ALT_FREQS>${maf}))\n",
    "    # create plots\n",
    "    png('${_output[1]}', width = 4, height = 4, unit='in', res=300)\n",
    "    smiss_plot <- ggplot(smiss, aes(x=F_MISS)) + geom_histogram(binwidth=0.0001)  + labs(title=\"Plot of sample missingness rate ${_input[0]:bn}\", x =\"Proportion of missing data\", y = \"Number of samples\") + theme_classic()\n",
    "    print(smiss_plot)\n",
    "    dev.off()\n",
    "    \n",
    "    png('${_output[2]}', width = 4, height = 4, unit='in', res=300)\n",
    "    vmiss_plot <- ggplot(vmiss, aes(x=F_MISS)) + geom_histogram(bins=100) + labs(title=\"Plot of variant missingness rate for ${_input[0]:bn}\", x =\"Proportion of missing data\", y = \"Number of SNPs\") + theme_classic()\n",
    "    print(smiss_plot)\n",
    "    dev.off()\n",
    "  \n",
    "    png('${_output[3]}', width = 4, height = 4, unit='in', res=300)\n",
    "    freq_plot <- ggplot(afreq, aes(ALT_FREQS)) + geom_histogram(bins=200) + xlim(c(0,0.5))  + scale_y_log10(breaks = trans_breaks(\"log10\", function(x) 10^x),labels = trans_format(\"log10\", math_format(10^.x))) + labs(title=\"Minor allele frequency distribution for ${_input[0]:bn}\", x =\"MAF\", y = \"Number of SNPs\") + theme_classic()\n",
    "    print(freq_plot)\n",
    "    dev.off()\n",
    "  \n",
    "    write('# ${_input[0]:b} result summary\\n## Sample missingness summary:\\n```', ${_output[0]:r}, append = T)\n",
    "    cat('The number of samples with a proportion of missing SNPs higher than ${mind} is:',smiss_filter,\".\\n\", file=${_output[0]:r}, append = T )\n",
    "    write.table(out, ${_output[0]:r}, append = T)\n",
    "    cat('The number of variants missing in more than ${geno} of the samples is:',vmiss_filter,\".\\n\", file=${_output[0]:r}, append = T )\n",
    "    write.table(out_1, ${_output[0]:r}, append = T)\n",
    "    cat('The number of variants with maf>${maf} is:',afreq_filter,\".\\n\", file=${_output[0]:r}, append = T )\n",
    "    write.table(out_2, ${_output[0]:r}, append = T)\n",
    "    write(\"```\", ${_output[0]:r}, append = T)"
   ]
  },
  {
   "cell_type": "code",
   "execution_count": 35,
   "metadata": {
    "kernel": "SoS"
   },
   "outputs": [],
   "source": [
    "[qc_2]\n",
    "sep = '\\n\\n---\\n'\n",
    "input: output_from('qc_1'),group_by=4\n",
    "bash: expand=True\n",
    "  set -e\n",
    "  echo -e \"# Number of analyzed variants for {_input[0]:bn}\\n\" >> {_input[0]}\n",
    "  cat  {_input[0]:nn}.log | grep -w \"variants\"{sep} >> {_input[0]}\n",
    "  echo -e \"# Sample missingness rate plot for {_input[1]:bn}\\n\" >> {_input[0]}\n",
    "  echo -e \"![]({_input[1]:b}){sep}\" >> {_input[0]}\n",
    "  echo -e \"# Variant missingess rate plot for {_input[2]:bn}\\n\" >> {_input[0]}\n",
    "  echo -e \"![]({_input[2]:b}){sep}\" >> {_input[0]}\n",
    "  echo -e \"# Minor allele frequency plot for {_input[3]:bn}\\n\" >> {_input[0]}\n",
    "  echo -e \"![]({_input[3]:b}){sep}\" >> {_input[0]}\n",
    "  echo -e \"# Result files\\n\\`\\`\\`\" >> {_input[0]}\n",
    "  ls {_input[0]:nn}.* | grep -vP 'stderr|stdout'>> {_input[0]}\n",
    "  echo -e \"\\`\\`\\`\" >> {_input[0]}\n",
    "bash:expand=True\n",
    "  touch {str(_input[0]).rsplit('_',3)[0]}.merged.md && for i in $(ls -rt {_input[0]:nn}.* | grep \"missing.md\");do cat $i >> {str(_input[0]).rsplit('_',3)[0]}.merged.md;done"
   ]
  },
  {
   "cell_type": "code",
   "execution_count": 1,
   "metadata": {
    "kernel": "SoS"
   },
   "outputs": [],
   "source": [
    "# Generate analysis report: HTML file, and optionally PPTX file\n",
    "[qc_3]\n",
    "parameter: ukbb_field = 'ukb23155'\n",
    "input: f'{cwd}/{ukbb_field}.merged.md'\n",
    "output: f'{cwd}/{_input:bn}.html'\n",
    "sh: container=container_marp, expand = True, stderr = f'{_output:n}.stderr', stdout = f'{_output:n}.stdout'\n",
    "    node /opt/marp/.cli/marp-cli.js {_input} -o {_output:a} \\\n",
    "        --title 'Sample and variant missingness UKBB {_input:bn}' \\\n",
    "        --allow-local-files\n",
    "    node /opt/marp/.cli/marp-cli.js {_input} -o {_output:an}.pptx \\\n",
    "        --title 'Sample and variant missingness UKBB {_input:bn}' \\\n",
    "        --allow-local-files "
   ]
  }
 ],
 "metadata": {
  "kernelspec": {
   "display_name": "SoS",
   "language": "sos",
   "name": "sos"
  },
  "language_info": {
   "codemirror_mode": "sos",
   "file_extension": ".sos",
   "mimetype": "text/x-sos",
   "name": "sos",
   "nbconvert_exporter": "sos_notebook.converter.SoS_Exporter",
   "pygments_lexer": "sos"
  },
  "sos": {
   "kernels": [
    [
     "R",
     "ir",
     "R",
     "#DCDCDA",
     "r"
    ],
    [
     "SoS",
     "sos",
     "",
     "",
     "sos"
    ]
   ],
   "version": "0.21.21"
  }
 },
 "nbformat": 4,
 "nbformat_minor": 4
}
