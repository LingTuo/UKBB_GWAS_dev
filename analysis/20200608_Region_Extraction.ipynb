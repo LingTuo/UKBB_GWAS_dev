{
 "cells": [
  {
   "cell_type": "markdown",
   "metadata": {
    "kernel": "SoS"
   },
   "source": [
    "## Extracting genomic regions\n",
    "\n",
    "This notebook applies [region extraction workflow](https://github.com/dianacornejo/pleiotropy_UKB/blob/master/workflow/Region_Extraction.ipynb) to obtain regions of interest."
   ]
  },
  {
   "cell_type": "markdown",
   "metadata": {
    "kernel": "SoS"
   },
   "source": [
    "## File paths on Yale cluster\n",
    "\n",
    "**FIXME: please document also where fastGWA result locates**\n",
    "\n",
    "- Genotype files in PLINK format:\n",
    "`/SAY/dbgapstg/scratch/UKBiobank/genotype_files/pleiotropy_geneticfiles/UKB_Caucasians_phenotypeindepqc120319_updated020720removedwithdrawnindiv`\n",
    "- Genotype files in bgen format:\n",
    "`SAY/dbgapstg/scratch/UKBiobank/genotype_files/ukb39554_imputeddataset/`\n",
    "- Summary stats for imputed variants:\n",
    "`/SAY/dbgapstg/scratch/UKBiobank/results/BOLTLMM_results/results_imputed_data`\n",
    "- Phenotype files:\n",
    "`/SAY/dbgapstg/scratch/UKBiobank/phenotype_files/pleiotropy_R01/phenotypesforanalysis`\n",
    "- relationship file:\n",
    "`/SAY/dbgapstg/scratch/UKBiobank/genotype_files/pleiotropy_geneticfiles/unrelated_n307259/UKB_unrelatedcauc_phenotypes_asthmat2dbmiwaisthip_agesex_waisthipratio_040620`"
   ]
  },
  {
   "cell_type": "markdown",
   "metadata": {
    "kernel": "SoS"
   },
   "source": [
    "## Minimal working example tested on local computer"
   ]
  },
  {
   "cell_type": "markdown",
   "metadata": {
    "kernel": "SoS"
   },
   "source": [
    "Some bash variables for paths,\n",
    "\n",
    "```\n",
    "output=output\n",
    "region=data/\n",
    "geno=data/\n",
    "pheno=data/\n",
    "samples=data/\n",
    "JOB_OPT='-j 7'\n",
    "```\n",
    "\n",
    "`BoltLMM` result,\n",
    "\n",
    "```\n",
    "sumstats=output/\n",
    "sos run workflow/Region_Extraction.ipynb plink \\\n",
    "    --region-file $region --geno-path $geno \\\n",
    "    --sumstat-path $sumstats --unrelated-samples $samples \\\n",
    "    --cwd $output $JOB_OPT\n",
    "```"
   ]
  },
  {
   "cell_type": "markdown",
   "metadata": {
    "kernel": "SoS"
   },
   "source": [
    "## Runs on Yale cluster compute node"
   ]
  },
  {
   "cell_type": "markdown",
   "metadata": {
    "kernel": "SoS"
   },
   "source": [
    "Some bash variables for paths,\n",
    "\n",
    "```\n",
    "output=output\n",
    "region=\n",
    "geno=/SAY/dbgapstg/scratch/UKBiobank/genotype_files/pleiotropy_geneticfiles/UKB_Caucasians_phenotypeindepqc120319_updated020720removedwithdrawnindiv\n",
    "samples=/SAY/dbgapstg/scratch/UKBiobank/genotype_files/pleiotropy_geneticfiles/unrelated_n307259/UKB_unrelatedcauc_phenotypes_asthmat2dbmiwaisthip_agesex_waisthipratio_040620\n",
    "JOB_OPT='-j 7'\n",
    "```\n",
    "\n",
    "`BoltLMM` result, **FIXME: what phenotype?**\n",
    "```\n",
    "sumstats=/SAY/dbgapstg/scratch/UKBiobank/results/BOLTLMM_results/results_imputed_data/INT-BMI/ukb_imp_v3.UKB_caucasians_BMIwaisthip_AsthmaAndT2D_INT-BMI_withagesex_041720.BoltLMM.stats.all_chr.gz\n",
    "sos run workflow/Region_Extraction.ipynb plink \\\n",
    "    --region-file $region --geno-path $geno \\\n",
    "    --sumstat-path $sumstats --unrelated-samples $samples \\\n",
    "    --cwd $output $JOB_OPT\n",
    "```\n",
    "\n",
    "`fastGWA` result, **FIXME: what phenotype?**\n",
    "\n",
    "```\n",
    "sumstats=/SAY/dbgapstg/scratch/UKBiobank/results/BOLTLMM_results/results_imputed_data/asthma/UKB_Caucasians_phenotypeindepqc120319_updated020720removedwithdrawnindiv.Asthma_casesbyICD10codesANDselfreport_controlsbyselfreportandicd10_noautoimmuneincontrols.fastGWA.stats.all_chr\n",
    "sos run workflow/Region_Extraction.ipynb plink \\\n",
    "    --region-file $region --geno-path $geno \\\n",
    "    --sumstat-path $sumstats --unrelated-samples $samples \\\n",
    "    --cwd $output $JOB_OPT\n",
    "```"
   ]
  },
  {
   "cell_type": "code",
   "execution_count": 1,
   "metadata": {
    "kernel": "SoS"
   },
   "outputs": [
    {
     "data": {
      "text/html": [
       "<div class=\"sos_hint\">Cell content saved to <a href=\"test.txt\" target=\"_blank\">test.txt</a>, use option -r to also execute the cell.</div>"
      ],
      "text/plain": [
       "Cell content saved to test.txt, use option -r to also execute the cell.\n"
      ]
     },
     "metadata": {},
     "output_type": "display_data"
    }
   ],
   "source": [
    "%save test.txt -f\n",
    "\n",
    "These words are saved to a file called text.txt"
   ]
  },
  {
   "cell_type": "code",
   "execution_count": 2,
   "metadata": {
    "kernel": "SoS"
   },
   "outputs": [
    {
     "data": {
      "text/html": [
       "<div class=\"sos_hint\">> test.txt (48 B):</div>"
      ],
      "text/plain": [
       "\n",
       "> test.txt (48 B):"
      ]
     },
     "metadata": {},
     "output_type": "display_data"
    },
    {
     "data": {
      "text/html": [
       "<div class=\"sos_hint\">1 line</div>"
      ]
     },
     "metadata": {},
     "output_type": "display_data"
    },
    {
     "name": "stdout",
     "output_type": "stream",
     "text": [
      "These words are saved to a file called text.txt"
     ]
    }
   ],
   "source": [
    "%preview test.txt"
   ]
  },
  {
   "cell_type": "code",
   "execution_count": null,
   "metadata": {
    "kernel": "SoS"
   },
   "outputs": [],
   "source": []
  }
 ],
 "metadata": {
  "kernelspec": {
   "display_name": "SoS",
   "language": "sos",
   "name": "sos"
  },
  "language_info": {
   "codemirror_mode": "sos",
   "file_extension": ".sos",
   "mimetype": "text/x-sos",
   "name": "sos",
   "nbconvert_exporter": "sos_notebook.converter.SoS_Exporter",
   "pygments_lexer": "sos"
  },
  "sos": {
   "kernels": [
    [
     "SoS",
     "sos",
     "",
     ""
    ]
   ],
   "version": "0.21.9"
  }
 },
 "nbformat": 4,
 "nbformat_minor": 4
}
