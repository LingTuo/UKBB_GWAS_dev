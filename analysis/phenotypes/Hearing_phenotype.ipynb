{
 "cells": [
  {
   "cell_type": "markdown",
   "metadata": {
    "kernel": "SoS"
   },
   "source": [
    "# Phenotype file creation for:\n",
    "1. Hearing aids (f.3393)\n",
    "2. Hearing difficulty/problems (f.2247)\n",
    "3. Hearing difficulty/background noise (f.2257)\n",
    "4. Combined phenotype (f2247 & f.2257)"
   ]
  },
  {
   "cell_type": "markdown",
   "metadata": {
    "kernel": "SoS"
   },
   "source": [
    "## Aim\n",
    "\n",
    "Create a dataset of filtered individuals using the inclusion and exclusion criteria for diverse hearing related phenotyes to perform association analyses using the LMM.ipynb. "
   ]
  },
  {
   "cell_type": "markdown",
   "metadata": {
    "kernel": "SoS"
   },
   "source": [
    "## Location of files\n",
    "\n",
    "In the shared folder is the original UKBB data\n",
    "```\n",
    "/gpfs/gibbs/pi/dewan/data/UKBiobank/phenotype_files/pleiotropy_R01/ukb42495_updatedJune2020\n",
    "```\n",
    "\n",
    "In my personal folder the filtered dataset\n",
    "\n",
    "```\n",
    "/home/dc2325/project/HI_UKBB\n",
    "```\n",
    "\n",
    "In the phenotypes folder important phenotypic files \n",
    "\n",
    "```\n",
    "/gpfs/gibbs/pi/dewan/data/UKBiobank/phenotype_files/hearing_impairment\n",
    "```"
   ]
  },
  {
   "cell_type": "markdown",
   "metadata": {
    "kernel": "SoS"
   },
   "source": [
    "## Important phenotypic files\n",
    "\n",
    "1. `200804_UKBB_HI_genotypeqc.csv` File containing all individuals that passed QC and hearing impairment variables\n",
    "2. `200804_UKBB_HI_genotypeqc_excr.csv` File with applied exclusion criteria as indicated [here](https://docs.google.com/document/d/1cpxTzElpsEkwmBDjnMBHg2wW7CL1AcG_b0_0wE_k5rQ/edit). **Note**: this file excludes individuals with otosclerosis, Meniere's and other diseases, if you need to filter those particular phenotypes use file 1 instead.\n",
    "3. `200811_UKBB_Tinnitus_plan1_2_3_f4803` File with filtered phenotypes for tinnitus plan 1,2 and 3 and imputed noise variables\n",
    "4. `200814_UKBB_HI_genotypeqc_excr_impvars` Database with qc'ed individuals, exclusion criteria, noise imputed vars and tinnitus phenotypes"
   ]
  },
  {
   "cell_type": "markdown",
   "metadata": {
    "kernel": "SoS"
   },
   "source": [
    "## Analysis plan\n",
    "\n",
    "The phenotypes to be analyzed are the following:\n",
    "\n",
    "1. Hearing aid user (f.3393)\n",
    "\"Do you use a hearing aid most of the time?\"\n",
    "\n",
    "2. Hearing difficulty/problems (f.2247)\n",
    "\"Do you have any difficulty with your hearing?\"\n",
    "\n",
    "3. Hearing difficulty/background noise (f.2257)\n",
    "\"Do you find it difficult to follow a conversation if there is background noise (such as TV, radio, children playing)?\"\n",
    "\n",
    "**Sex corresponds to f.22001 (genetic sex):**\n",
    "\n",
    "- Male = 0\n",
    "- Female = 1\n",
    "\n",
    "**Noisy workplace and loud music exposure frequency: same as for Tinnitus**\n",
    "                \n",
    "1. Remove inconsistent individuals \n",
    "    - said 1,2 or 3 and in following visits said 0\n",
    "    - said a higher exposure (e.g 3) and then a lower one (e.g 1 or 2) in following visits\n",
    "2. Retain consistent individuals and use highest reported exposure\n",
    "\n",
    "**The SRT trait needs to be inverse normalized**\n",
    "\n",
    "**Covariates to be included in the analysis include:**\n",
    "\n",
    "1. Age at time of test (calculated from f.21003.0.0,f.21003.1.0,f.21003.2.0,f.21003.3.0)\n",
    "2. Sex f.22001\n",
    "3. Volume left ear f.4270 and right ear f.4277 (The volume set by the participant for the measurement which you are using in the analysis ir our case the last time they took the test). For the analysis we use the average of the right and left ear since there is overlap in the volume distribution\n",
    "4. Noisy workplace f.4825\n",
    "5. Loud music exposure f.4836\n"
   ]
  },
  {
   "cell_type": "code",
   "execution_count": null,
   "metadata": {
    "kernel": "R"
   },
   "outputs": [],
   "source": [
    "#Load libraries\n",
    "library(plyr)\n",
    "library(tidyverse)\n",
    "library(pander)\n",
    "library(ggpubr)\n",
    "library(rapportools)\n",
    "library(ggplot2)\n",
    "#Get working directory\n",
    "getwd()"
   ]
  },
  {
   "cell_type": "markdown",
   "metadata": {
    "kernel": "SoS"
   },
   "source": [
    "## Load imputed data"
   ]
  },
  {
   "cell_type": "code",
   "execution_count": 2,
   "metadata": {
    "kernel": "R"
   },
   "outputs": [],
   "source": [
    "#Set working directory Yale\n",
    "setwd('~/project/HI_UKBB/')\n",
    "#Set workind directory Columbia\n",
    "setwd('/mnt/mfs/statgen/UKBiobank/data/phenotype_files/hearing_impairment')"
   ]
  },
  {
   "cell_type": "code",
   "execution_count": 3,
   "metadata": {
    "kernel": "R"
   },
   "outputs": [],
   "source": [
    "# Clean workspace\n",
    "rm(list=ls())"
   ]
  },
  {
   "cell_type": "markdown",
   "metadata": {
    "kernel": "R"
   },
   "source": [
    "### Using only white british"
   ]
  },
  {
   "cell_type": "code",
   "execution_count": 5,
   "metadata": {
    "kernel": "R"
   },
   "outputs": [],
   "source": [
    "#df.final.imp = read.csv('200814_UKBB_HI_genotypeqc_excr_impvars.csv')\n",
    "df.final.imp = read.csv('031221_UKBB_HI_genotypeqc_onlybritish_354343indiv_excr.csv')"
   ]
  },
  {
   "cell_type": "markdown",
   "metadata": {
    "kernel": "R"
   },
   "source": [
    "### Using all whites"
   ]
  },
  {
   "cell_type": "code",
   "execution_count": 4,
   "metadata": {
    "kernel": "R"
   },
   "outputs": [],
   "source": [
    "#df.final.imp = read.csv('120120_UKBB_HI_expandedwhite_genotypeqc_excr.csv')\n",
    "df.final.imp = read.csv('010521_UKBB_HI_genotypeqc_expandedwhite_396974indiv_excr.csv')"
   ]
  },
  {
   "cell_type": "markdown",
   "metadata": {
    "kernel": "R"
   },
   "source": [
    "## Load exome data"
   ]
  },
  {
   "cell_type": "code",
   "execution_count": 2,
   "metadata": {
    "kernel": "R"
   },
   "outputs": [],
   "source": [
    "setwd('/gpfs/gibbs/pi/dewan/data/UKBiobank/phenotype_files/hearing_impairment')\n",
    "df.final.imp = read.csv(file = '010621_UKBB_HI_exomes_182221ind_excr.csv', header=TRUE)"
   ]
  },
  {
   "cell_type": "code",
   "execution_count": 5,
   "metadata": {
    "kernel": "R"
   },
   "outputs": [
    {
     "data": {
      "text/html": [
       "<table>\n",
       "<caption>A data.frame: 6 × 2262</caption>\n",
       "<thead>\n",
       "\t<tr><th></th><th scope=col>IID</th><th scope=col>FID</th><th scope=col>ignore1</th><th scope=col>ignore2</th><th scope=col>ignore3</th><th scope=col>ignore4</th><th scope=col>f.31.0.0</th><th scope=col>f.34.0.0</th><th scope=col>f.53.0.0</th><th scope=col>f.53.1.0</th><th scope=col>⋯</th><th scope=col>f.131229.0.0</th><th scope=col>f.131230.0.0</th><th scope=col>f.131231.0.0</th><th scope=col>f.131232.0.0</th><th scope=col>f.131233.0.0</th><th scope=col>f.131250.0.0</th><th scope=col>f.131251.0.0</th><th scope=col>f.131252.0.0</th><th scope=col>f.131253.0.0</th><th scope=col>exclude</th></tr>\n",
       "\t<tr><th></th><th scope=col>&lt;int&gt;</th><th scope=col>&lt;int&gt;</th><th scope=col>&lt;int&gt;</th><th scope=col>&lt;int&gt;</th><th scope=col>&lt;int&gt;</th><th scope=col>&lt;int&gt;</th><th scope=col>&lt;fct&gt;</th><th scope=col>&lt;int&gt;</th><th scope=col>&lt;fct&gt;</th><th scope=col>&lt;fct&gt;</th><th scope=col>⋯</th><th scope=col>&lt;fct&gt;</th><th scope=col>&lt;fct&gt;</th><th scope=col>&lt;fct&gt;</th><th scope=col>&lt;fct&gt;</th><th scope=col>&lt;fct&gt;</th><th scope=col>&lt;fct&gt;</th><th scope=col>&lt;fct&gt;</th><th scope=col>&lt;fct&gt;</th><th scope=col>&lt;fct&gt;</th><th scope=col>&lt;lgl&gt;</th></tr>\n",
       "</thead>\n",
       "<tbody>\n",
       "\t<tr><th scope=row>1</th><td>1000019</td><td>1000019</td><td>0</td><td>0</td><td>2</td><td>-9</td><td>Female</td><td>1960</td><td>2008-01-24</td><td>NA</td><td>⋯</td><td>NA</td><td>NA</td><td>NA</td><td>NA</td><td>NA</td><td>NA</td><td>NA</td><td>NA</td><td>NA</td><td>FALSE</td></tr>\n",
       "\t<tr><th scope=row>2</th><td>1000022</td><td>1000022</td><td>0</td><td>0</td><td>1</td><td>-9</td><td>Male  </td><td>1954</td><td>2008-01-22</td><td>NA</td><td>⋯</td><td>NA</td><td>NA</td><td>NA</td><td>NA</td><td>NA</td><td>NA</td><td>NA</td><td>NA</td><td>NA</td><td>FALSE</td></tr>\n",
       "\t<tr><th scope=row>3</th><td>1000035</td><td>1000035</td><td>0</td><td>0</td><td>1</td><td>-9</td><td>Male  </td><td>1944</td><td>2007-11-08</td><td>NA</td><td>⋯</td><td>NA</td><td>NA</td><td>NA</td><td>NA</td><td>NA</td><td>NA</td><td>NA</td><td>NA</td><td>NA</td><td>FALSE</td></tr>\n",
       "\t<tr><th scope=row>4</th><td>1000046</td><td>1000046</td><td>0</td><td>0</td><td>2</td><td>-9</td><td>Female</td><td>1946</td><td>2008-12-01</td><td>NA</td><td>⋯</td><td>NA</td><td>NA</td><td>NA</td><td>NA</td><td>NA</td><td>NA</td><td>NA</td><td>NA</td><td>NA</td><td>FALSE</td></tr>\n",
       "\t<tr><th scope=row>5</th><td>1000054</td><td>1000054</td><td>0</td><td>0</td><td>2</td><td>-9</td><td>Female</td><td>1942</td><td>2007-11-23</td><td>NA</td><td>⋯</td><td>NA</td><td>NA</td><td>NA</td><td>NA</td><td>NA</td><td>NA</td><td>NA</td><td>NA</td><td>NA</td><td>FALSE</td></tr>\n",
       "\t<tr><th scope=row>6</th><td>1000063</td><td>1000063</td><td>0</td><td>0</td><td>1</td><td>-9</td><td>Male  </td><td>1967</td><td>2010-06-26</td><td>NA</td><td>⋯</td><td>NA</td><td>NA</td><td>NA</td><td>NA</td><td>NA</td><td>NA</td><td>NA</td><td>NA</td><td>NA</td><td>FALSE</td></tr>\n",
       "</tbody>\n",
       "</table>\n"
      ],
      "text/latex": [
       "A data.frame: 6 × 2262\n",
       "\\begin{tabular}{r|lllllllllllllllllllll}\n",
       "  & IID & FID & ignore1 & ignore2 & ignore3 & ignore4 & f.31.0.0 & f.34.0.0 & f.53.0.0 & f.53.1.0 & ⋯ & f.131229.0.0 & f.131230.0.0 & f.131231.0.0 & f.131232.0.0 & f.131233.0.0 & f.131250.0.0 & f.131251.0.0 & f.131252.0.0 & f.131253.0.0 & exclude\\\\\n",
       "  & <int> & <int> & <int> & <int> & <int> & <int> & <fct> & <int> & <fct> & <fct> & ⋯ & <fct> & <fct> & <fct> & <fct> & <fct> & <fct> & <fct> & <fct> & <fct> & <lgl>\\\\\n",
       "\\hline\n",
       "\t1 & 1000019 & 1000019 & 0 & 0 & 2 & -9 & Female & 1960 & 2008-01-24 & NA & ⋯ & NA & NA & NA & NA & NA & NA & NA & NA & NA & FALSE\\\\\n",
       "\t2 & 1000022 & 1000022 & 0 & 0 & 1 & -9 & Male   & 1954 & 2008-01-22 & NA & ⋯ & NA & NA & NA & NA & NA & NA & NA & NA & NA & FALSE\\\\\n",
       "\t3 & 1000035 & 1000035 & 0 & 0 & 1 & -9 & Male   & 1944 & 2007-11-08 & NA & ⋯ & NA & NA & NA & NA & NA & NA & NA & NA & NA & FALSE\\\\\n",
       "\t4 & 1000046 & 1000046 & 0 & 0 & 2 & -9 & Female & 1946 & 2008-12-01 & NA & ⋯ & NA & NA & NA & NA & NA & NA & NA & NA & NA & FALSE\\\\\n",
       "\t5 & 1000054 & 1000054 & 0 & 0 & 2 & -9 & Female & 1942 & 2007-11-23 & NA & ⋯ & NA & NA & NA & NA & NA & NA & NA & NA & NA & FALSE\\\\\n",
       "\t6 & 1000063 & 1000063 & 0 & 0 & 1 & -9 & Male   & 1967 & 2010-06-26 & NA & ⋯ & NA & NA & NA & NA & NA & NA & NA & NA & NA & FALSE\\\\\n",
       "\\end{tabular}\n"
      ],
      "text/markdown": [
       "\n",
       "A data.frame: 6 × 2262\n",
       "\n",
       "| <!--/--> | IID &lt;int&gt; | FID &lt;int&gt; | ignore1 &lt;int&gt; | ignore2 &lt;int&gt; | ignore3 &lt;int&gt; | ignore4 &lt;int&gt; | f.31.0.0 &lt;fct&gt; | f.34.0.0 &lt;int&gt; | f.53.0.0 &lt;fct&gt; | f.53.1.0 &lt;fct&gt; | ⋯ ⋯ | f.131229.0.0 &lt;fct&gt; | f.131230.0.0 &lt;fct&gt; | f.131231.0.0 &lt;fct&gt; | f.131232.0.0 &lt;fct&gt; | f.131233.0.0 &lt;fct&gt; | f.131250.0.0 &lt;fct&gt; | f.131251.0.0 &lt;fct&gt; | f.131252.0.0 &lt;fct&gt; | f.131253.0.0 &lt;fct&gt; | exclude &lt;lgl&gt; |\n",
       "|---|---|---|---|---|---|---|---|---|---|---|---|---|---|---|---|---|---|---|---|---|---|\n",
       "| 1 | 1000019 | 1000019 | 0 | 0 | 2 | -9 | Female | 1960 | 2008-01-24 | NA | ⋯ | NA | NA | NA | NA | NA | NA | NA | NA | NA | FALSE |\n",
       "| 2 | 1000022 | 1000022 | 0 | 0 | 1 | -9 | Male   | 1954 | 2008-01-22 | NA | ⋯ | NA | NA | NA | NA | NA | NA | NA | NA | NA | FALSE |\n",
       "| 3 | 1000035 | 1000035 | 0 | 0 | 1 | -9 | Male   | 1944 | 2007-11-08 | NA | ⋯ | NA | NA | NA | NA | NA | NA | NA | NA | NA | FALSE |\n",
       "| 4 | 1000046 | 1000046 | 0 | 0 | 2 | -9 | Female | 1946 | 2008-12-01 | NA | ⋯ | NA | NA | NA | NA | NA | NA | NA | NA | NA | FALSE |\n",
       "| 5 | 1000054 | 1000054 | 0 | 0 | 2 | -9 | Female | 1942 | 2007-11-23 | NA | ⋯ | NA | NA | NA | NA | NA | NA | NA | NA | NA | FALSE |\n",
       "| 6 | 1000063 | 1000063 | 0 | 0 | 1 | -9 | Male   | 1967 | 2010-06-26 | NA | ⋯ | NA | NA | NA | NA | NA | NA | NA | NA | NA | FALSE |\n",
       "\n"
      ],
      "text/plain": [
       "  IID     FID     ignore1 ignore2 ignore3 ignore4 f.31.0.0 f.34.0.0 f.53.0.0  \n",
       "1 1000019 1000019 0       0       2       -9      Female   1960     2008-01-24\n",
       "2 1000022 1000022 0       0       1       -9      Male     1954     2008-01-22\n",
       "3 1000035 1000035 0       0       1       -9      Male     1944     2007-11-08\n",
       "4 1000046 1000046 0       0       2       -9      Female   1946     2008-12-01\n",
       "5 1000054 1000054 0       0       2       -9      Female   1942     2007-11-23\n",
       "6 1000063 1000063 0       0       1       -9      Male     1967     2010-06-26\n",
       "  f.53.1.0 ⋯ f.131229.0.0 f.131230.0.0 f.131231.0.0 f.131232.0.0 f.131233.0.0\n",
       "1 NA       ⋯ NA           NA           NA           NA           NA          \n",
       "2 NA       ⋯ NA           NA           NA           NA           NA          \n",
       "3 NA       ⋯ NA           NA           NA           NA           NA          \n",
       "4 NA       ⋯ NA           NA           NA           NA           NA          \n",
       "5 NA       ⋯ NA           NA           NA           NA           NA          \n",
       "6 NA       ⋯ NA           NA           NA           NA           NA          \n",
       "  f.131250.0.0 f.131251.0.0 f.131252.0.0 f.131253.0.0 exclude\n",
       "1 NA           NA           NA           NA           FALSE  \n",
       "2 NA           NA           NA           NA           FALSE  \n",
       "3 NA           NA           NA           NA           FALSE  \n",
       "4 NA           NA           NA           NA           FALSE  \n",
       "5 NA           NA           NA           NA           FALSE  \n",
       "6 NA           NA           NA           NA           FALSE  "
      ]
     },
     "metadata": {},
     "output_type": "display_data"
    }
   ],
   "source": [
    "head(df.final.imp)"
   ]
  },
  {
   "cell_type": "markdown",
   "metadata": {
    "kernel": "R"
   },
   "source": [
    "## Data summary and recode"
   ]
  },
  {
   "cell_type": "code",
   "execution_count": 6,
   "metadata": {
    "kernel": "R"
   },
   "outputs": [
    {
     "data": {
      "text/html": [
       "<style>\n",
       ".list-inline {list-style: none; margin:0; padding: 0}\n",
       ".list-inline>li {display: inline-block}\n",
       ".list-inline>li:not(:last-child)::after {content: \"\\00b7\"; padding: 0 .5ex}\n",
       "</style>\n",
       "<ol class=list-inline><li>396974</li><li>2262</li></ol>\n"
      ],
      "text/latex": [
       "\\begin{enumerate*}\n",
       "\\item 396974\n",
       "\\item 2262\n",
       "\\end{enumerate*}\n"
      ],
      "text/markdown": [
       "1. 396974\n",
       "2. 2262\n",
       "\n",
       "\n"
      ],
      "text/plain": [
       "[1] 396974   2262"
      ]
     },
     "metadata": {},
     "output_type": "display_data"
    }
   ],
   "source": [
    "#354347 only brits 1082 vars for exome data\n",
    "#354343 only brits 2262 vars for imputed data\n",
    "#396974 for expanded white imputed data\n",
    "dim(df.final.imp) "
   ]
  },
  {
   "cell_type": "code",
   "execution_count": 7,
   "metadata": {
    "kernel": "R"
   },
   "outputs": [
    {
     "data": {
      "text/html": [
       "<table>\n",
       "<caption>A data.frame: 0 × 4</caption>\n",
       "<thead>\n",
       "\t<tr><th scope=col>IID</th><th scope=col>f.31.0.0</th><th scope=col>f.22001.0.0</th><th scope=col>sex_final</th></tr>\n",
       "\t<tr><th scope=col>&lt;int&gt;</th><th scope=col>&lt;fct&gt;</th><th scope=col>&lt;fct&gt;</th><th scope=col>&lt;chr&gt;</th></tr>\n",
       "</thead>\n",
       "<tbody>\n",
       "</tbody>\n",
       "</table>\n"
      ],
      "text/latex": [
       "A data.frame: 0 × 4\n",
       "\\begin{tabular}{llll}\n",
       " IID & f.31.0.0 & f.22001.0.0 & sex\\_final\\\\\n",
       " <int> & <fct> & <fct> & <chr>\\\\\n",
       "\\hline\n",
       "\\end{tabular}\n"
      ],
      "text/markdown": [
       "\n",
       "A data.frame: 0 × 4\n",
       "\n",
       "| IID &lt;int&gt; | f.31.0.0 &lt;fct&gt; | f.22001.0.0 &lt;fct&gt; | sex_final &lt;chr&gt; |\n",
       "|---|---|---|---|\n",
       "\n"
      ],
      "text/plain": [
       "     IID f.31.0.0 f.22001.0.0 sex_final"
      ]
     },
     "metadata": {},
     "output_type": "display_data"
    },
    {
     "data": {
      "text/html": [
       "<style>\n",
       ".list-inline {list-style: none; margin:0; padding: 0}\n",
       ".list-inline>li {display: inline-block}\n",
       ".list-inline>li:not(:last-child)::after {content: \"\\00b7\"; padding: 0 .5ex}\n",
       "</style>\n",
       "<ol class=list-inline><li>0</li><li>4</li></ol>\n"
      ],
      "text/latex": [
       "\\begin{enumerate*}\n",
       "\\item 0\n",
       "\\item 4\n",
       "\\end{enumerate*}\n"
      ],
      "text/markdown": [
       "1. 0\n",
       "2. 4\n",
       "\n",
       "\n"
      ],
      "text/plain": [
       "[1] 0 4"
      ]
     },
     "metadata": {},
     "output_type": "display_data"
    }
   ],
   "source": [
    "compare_sex <- df.final.imp %>% \n",
    "      mutate(sex_final = case_when(\n",
    "       f.31.0.0 == f.22001.0.0 & f.22001.0.0 == \"Female\" ~ \"0\",\n",
    "       f.31.0.0 == f.22001.0.0 & f.22001.0.0 == \"Male\" ~ \"1\",\n",
    "       TRUE ~ '3')) %>%\n",
    "    select(IID, f.31.0.0, f.22001.0.0, sex_final) %>%\n",
    "    filter(sex_final==3)\n",
    "head(compare_sex, 10)\n",
    "dim(compare_sex) #Number of individuals inconsistent for self-reported and genetic sex"
   ]
  },
  {
   "cell_type": "markdown",
   "metadata": {
    "kernel": "R"
   },
   "source": [
    "## Remove sex inconsistent individuals (apply only to exome data)"
   ]
  },
  {
   "cell_type": "code",
   "execution_count": null,
   "metadata": {
    "kernel": "R"
   },
   "outputs": [],
   "source": [
    "remove_sex <- compare_sex %>% \n",
    "    select(IID)\n",
    "head(remove_sex)\n",
    "dim(remove_sex)"
   ]
  },
  {
   "cell_type": "code",
   "execution_count": null,
   "metadata": {
    "kernel": "R"
   },
   "outputs": [],
   "source": [
    "df.final.imp <-  df.final.imp[!df.final.imp$IID %in% remove_sex$IID,]\n",
    "dim(df.final.imp)"
   ]
  },
  {
   "cell_type": "code",
   "execution_count": 8,
   "metadata": {
    "kernel": "R"
   },
   "outputs": [
    {
     "data": {
      "text/plain": [
       "\n",
       "     1      0 \n",
       "216368 180606 "
      ]
     },
     "metadata": {},
     "output_type": "display_data"
    },
    {
     "data": {
      "text/html": [
       "<style>\n",
       ".list-inline {list-style: none; margin:0; padding: 0}\n",
       ".list-inline>li {display: inline-block}\n",
       ".list-inline>li:not(:last-child)::after {content: \"\\00b7\"; padding: 0 .5ex}\n",
       "</style>\n",
       "<ol class=list-inline><li>396974</li><li>2263</li></ol>\n"
      ],
      "text/latex": [
       "\\begin{enumerate*}\n",
       "\\item 396974\n",
       "\\item 2263\n",
       "\\end{enumerate*}\n"
      ],
      "text/markdown": [
       "1. 396974\n",
       "2. 2263\n",
       "\n",
       "\n"
      ],
      "text/plain": [
       "[1] 396974   2263"
      ]
     },
     "metadata": {},
     "output_type": "display_data"
    }
   ],
   "source": [
    "df.final.imp$sex <- revalue(df.final.imp$f.22001.0.0, c(\"Male\" = '0', 'Female'='1' ))\n",
    "table(df.final.imp$sex)\n",
    "dim(df.final.imp)"
   ]
  },
  {
   "cell_type": "code",
   "execution_count": 9,
   "metadata": {
    "kernel": "R"
   },
   "outputs": [
    {
     "data": {
      "text/html": [
       "0"
      ],
      "text/latex": [
       "0"
      ],
      "text/markdown": [
       "0"
      ],
      "text/plain": [
       "[1] 0"
      ]
     },
     "metadata": {},
     "output_type": "display_data"
    }
   ],
   "source": [
    "length(which(is.na(df.final.imp$sex)))"
   ]
  },
  {
   "cell_type": "markdown",
   "metadata": {
    "kernel": "R"
   },
   "source": [
    "# f.3393 Hearing aid: filter out inconsistent cases"
   ]
  },
  {
   "cell_type": "code",
   "execution_count": 10,
   "metadata": {
    "kernel": "R"
   },
   "outputs": [
    {
     "name": "stdout",
     "output_type": "stream",
     "text": [
      "f.3393.0.0_recode summary:\n",
      "     0      1 \n",
      "227953  10929 \n",
      "\n",
      "f.3393.1.0_recode summary:\n",
      "    0     1 \n",
      "15893   955 \n",
      "\n",
      "f.3393.2.0_recode summary:\n",
      "    0     1 \n",
      "36535  3078 \n",
      "\n",
      "f.3393.3.0_recode summary:\n",
      "   0    1 \n",
      "2415  206 \n",
      "\n"
     ]
    }
   ],
   "source": [
    "# Recode function:\n",
    "recode<-function(df,column_name){\n",
    "  new_names<-c()\n",
    "  for (i in column_name){\n",
    "    new_column_name<-paste0(i,\"_recode\")\n",
    "    new_names<-c(new_names,new_column_name)\n",
    "    df[,new_column_name] <- revalue(df[,i], c(\"No\"= 0, \n",
    "                                            \"Yes\" =1,\n",
    "                                            \"Prefer not to answer\"= NA))\n",
    "  }\n",
    "  return (list(df=df,new_column_names=new_names))\n",
    "}\n",
    "\n",
    "# columns needs to be recoded:\n",
    "column_name<-c(\"f.3393.0.0\",\"f.3393.1.0\",\"f.3393.2.0\",\"f.3393.3.0\")\n",
    "\n",
    "# get a new data.frame with recoded columns added:\n",
    "df.final.imp<-recode(df=df.final.imp,column_name)$df\n",
    "\n",
    "# get names of recoded columns:\n",
    "new_column_names<-recode(df=df.final.imp,column_name)$new_column_names\n",
    "\n",
    "# show recode summary:\n",
    "for (i in new_column_names)\n",
    "{cat(i,\"summary:\");print(table(df.final.imp[,i]));cat(\"\\n\")}"
   ]
  },
  {
   "cell_type": "code",
   "execution_count": 11,
   "metadata": {
    "kernel": "R"
   },
   "outputs": [
    {
     "data": {
      "text/html": [
       "<style>\n",
       ".list-inline {list-style: none; margin:0; padding: 0}\n",
       ".list-inline>li {display: inline-block}\n",
       ".list-inline>li:not(:last-child)::after {content: \"\\00b7\"; padding: 0 .5ex}\n",
       "</style>\n",
       "<ol class=list-inline><li>396974</li><li>2267</li></ol>\n"
      ],
      "text/latex": [
       "\\begin{enumerate*}\n",
       "\\item 396974\n",
       "\\item 2267\n",
       "\\end{enumerate*}\n"
      ],
      "text/markdown": [
       "1. 396974\n",
       "2. 2267\n",
       "\n",
       "\n"
      ],
      "text/plain": [
       "[1] 396974   2267"
      ]
     },
     "metadata": {},
     "output_type": "display_data"
    }
   ],
   "source": [
    "dim(df.final.imp)"
   ]
  },
  {
   "cell_type": "markdown",
   "metadata": {
    "kernel": "R"
   },
   "source": [
    "## f. 3393 Get patterns for possible answers"
   ]
  },
  {
   "cell_type": "code",
   "execution_count": 12,
   "metadata": {
    "kernel": "R"
   },
   "outputs": [
    {
     "data": {
      "text/html": [
       "<style>\n",
       ".list-inline {list-style: none; margin:0; padding: 0}\n",
       ".list-inline>li {display: inline-block}\n",
       ".list-inline>li:not(:last-child)::after {content: \"\\00b7\"; padding: 0 .5ex}\n",
       "</style>\n",
       "<ol class=list-inline><li>''</li><li>'0'</li><li>'00'</li><li>'000'</li><li>'0000'</li><li>'0001'</li><li>'001'</li><li>'0010'</li><li>'0011'</li><li>'01'</li><li>'010'</li><li>'0100'</li><li>'011'</li><li>'0110'</li><li>'0111'</li><li>'1'</li><li>'10'</li><li>'100'</li><li>'101'</li><li>'11'</li><li>'110'</li><li>'1100'</li><li>'111'</li><li>'1111'</li></ol>\n"
      ],
      "text/latex": [
       "\\begin{enumerate*}\n",
       "\\item ''\n",
       "\\item '0'\n",
       "\\item '00'\n",
       "\\item '000'\n",
       "\\item '0000'\n",
       "\\item '0001'\n",
       "\\item '001'\n",
       "\\item '0010'\n",
       "\\item '0011'\n",
       "\\item '01'\n",
       "\\item '010'\n",
       "\\item '0100'\n",
       "\\item '011'\n",
       "\\item '0110'\n",
       "\\item '0111'\n",
       "\\item '1'\n",
       "\\item '10'\n",
       "\\item '100'\n",
       "\\item '101'\n",
       "\\item '11'\n",
       "\\item '110'\n",
       "\\item '1100'\n",
       "\\item '111'\n",
       "\\item '1111'\n",
       "\\end{enumerate*}\n"
      ],
      "text/markdown": [
       "1. ''\n",
       "2. '0'\n",
       "3. '00'\n",
       "4. '000'\n",
       "5. '0000'\n",
       "6. '0001'\n",
       "7. '001'\n",
       "8. '0010'\n",
       "9. '0011'\n",
       "10. '01'\n",
       "11. '010'\n",
       "12. '0100'\n",
       "13. '011'\n",
       "14. '0110'\n",
       "15. '0111'\n",
       "16. '1'\n",
       "17. '10'\n",
       "18. '100'\n",
       "19. '101'\n",
       "20. '11'\n",
       "21. '110'\n",
       "22. '1100'\n",
       "23. '111'\n",
       "24. '1111'\n",
       "\n",
       "\n"
      ],
      "text/plain": [
       " [1] \"\"     \"0\"    \"00\"   \"000\"  \"0000\" \"0001\" \"001\"  \"0010\" \"0011\" \"01\"  \n",
       "[11] \"010\"  \"0100\" \"011\"  \"0110\" \"0111\" \"1\"    \"10\"   \"100\"  \"101\"  \"11\"  \n",
       "[21] \"110\"  \"1100\" \"111\"  \"1111\""
      ]
     },
     "metadata": {},
     "output_type": "display_data"
    }
   ],
   "source": [
    "# Extract subset of data only with the recode columns\n",
    "data_sub <- df.final.imp %>%\n",
    "  select(\"IID\",all_of(new_column_names)) \n",
    "\n",
    "# Function to extract all the available answers for 4 visits\n",
    "# and put them in one string as \"0000\", \"111\", \"991\", etc\n",
    "\n",
    "f2<-function(x){\n",
    "  visit<-''\n",
    "  for (i in 2:5){ # do not take the first column (i.e. IID)\n",
    "    if (!is.na(x[i]))\n",
    "    {visit<-paste0(visit,x[i])}\n",
    "  }\n",
    "  if(is.null(visit)){visit==NA}\n",
    "  else{visit=visit}\n",
    "  return (visit)\n",
    "}\n",
    "\n",
    "# Apply the above function and remove NAs\n",
    "data_sub$visit<-apply(data_sub, 1, f2)\n",
    "\n",
    "names(table(data_sub$visit))"
   ]
  },
  {
   "cell_type": "code",
   "execution_count": 13,
   "metadata": {
    "kernel": "R"
   },
   "outputs": [
    {
     "data": {
      "text/plain": [
       "\n",
       "            0     00    000   0000   0001    001   0010   0011     01    010 \n",
       "137816 215687  25156   4296    231     13    267      6     10   1969     27 \n",
       "  0100    011   0110   0111      1     10    100    101     11    110   1100 \n",
       "     1    207      1      5  10190     82     13     18    824      6      1 \n",
       "   111   1111 \n",
       "   141      7 "
      ]
     },
     "metadata": {},
     "output_type": "display_data"
    }
   ],
   "source": [
    "table(data_sub$visit)\n",
    "all_pattern<-unique(data_sub$visit)"
   ]
  },
  {
   "cell_type": "markdown",
   "metadata": {
    "kernel": "R"
   },
   "source": [
    "## f.3393 Get all the consistent cases"
   ]
  },
  {
   "cell_type": "code",
   "execution_count": 14,
   "metadata": {
    "kernel": "R"
   },
   "outputs": [
    {
     "data": {
      "text/plain": [
       "\n",
       "     0     00    000   0000      1     11    111   1111 \n",
       "215687  25156   4296    231  10190    824    141      7 "
      ]
     },
     "metadata": {},
     "output_type": "display_data"
    }
   ],
   "source": [
    "all_no<-all_pattern[which(grepl(\"0\",all_pattern) & !grepl(\"1\",all_pattern))]\n",
    "all_yes<-all_pattern[which(!grepl(\"0\",all_pattern) & grepl(\"1\",all_pattern))]\n",
    "table(data_sub[data_sub$visit%in%union(all_no,all_yes),\"visit\"])"
   ]
  },
  {
   "cell_type": "code",
   "execution_count": 15,
   "metadata": {
    "kernel": "R"
   },
   "outputs": [
    {
     "data": {
      "text/plain": [
       "\n",
       "0001  001 0010 0011   01  010 0100  011 0110 0111   10  100  101  110 1100 \n",
       "  13  267    6   10 1969   27    1  207    1    5   82   13   18    6    1 "
      ]
     },
     "metadata": {},
     "output_type": "display_data"
    }
   ],
   "source": [
    "consistent_1<-c(all_no,all_yes)\n",
    "yes_no<-all_pattern[which(grepl(\"0\",all_pattern) & grepl(\"1\",all_pattern))]\n",
    "table(data_sub[data_sub$visit%in%yes_no,\"visit\"])"
   ]
  },
  {
   "cell_type": "code",
   "execution_count": 16,
   "metadata": {
    "kernel": "R"
   },
   "outputs": [],
   "source": [
    "might_inconsistent<-c(yes_no)"
   ]
  },
  {
   "cell_type": "markdown",
   "metadata": {
    "kernel": "R"
   },
   "source": [
    "## Review individuals with Z97.4 \"Presence of external hearing-aid\" in ICD10 code"
   ]
  },
  {
   "cell_type": "code",
   "execution_count": 82,
   "metadata": {
    "kernel": "R"
   },
   "outputs": [
    {
     "data": {
      "text/html": [
       "380"
      ],
      "text/latex": [
       "380"
      ],
      "text/markdown": [
       "380"
      ],
      "text/plain": [
       "[1] 380"
      ]
     },
     "metadata": {},
     "output_type": "display_data"
    }
   ],
   "source": [
    "ICD10_z974 <- df.final.imp %>%\n",
    "    mutate(z974_include = apply(select(df.final.imp,starts_with(\"f.41270\")),1,function(x) any(x %in% c(\"Z974\")))) %>%\n",
    "    select(IID, f.31.0.0,f.34.0.0, starts_with(\"f.41270\"), starts_with(\"f.41280\"), z974_include ) %>%\n",
    "    filter(z974_include == TRUE)\n",
    "nrow(ICD10_z974)    #380 individuals with hearing aid"
   ]
  },
  {
   "cell_type": "code",
   "execution_count": 83,
   "metadata": {
    "kernel": "R"
   },
   "outputs": [
    {
     "data": {
      "text/html": [
       "<table>\n",
       "<caption>A data.frame: 6 × 430</caption>\n",
       "<thead>\n",
       "\t<tr><th></th><th scope=col>IID</th><th scope=col>f.31.0.0</th><th scope=col>f.34.0.0</th><th scope=col>f.41270.0.0</th><th scope=col>f.41270.0.1</th><th scope=col>f.41270.0.2</th><th scope=col>f.41270.0.3</th><th scope=col>f.41270.0.4</th><th scope=col>f.41270.0.5</th><th scope=col>f.41270.0.6</th><th scope=col>⋯</th><th scope=col>f.41280.0.204</th><th scope=col>f.41280.0.205</th><th scope=col>f.41280.0.206</th><th scope=col>f.41280.0.207</th><th scope=col>f.41280.0.208</th><th scope=col>f.41280.0.209</th><th scope=col>f.41280.0.210</th><th scope=col>f.41280.0.211</th><th scope=col>f.41280.0.212</th><th scope=col>z974_include</th></tr>\n",
       "\t<tr><th></th><th scope=col>&lt;int&gt;</th><th scope=col>&lt;fct&gt;</th><th scope=col>&lt;int&gt;</th><th scope=col>&lt;fct&gt;</th><th scope=col>&lt;fct&gt;</th><th scope=col>&lt;fct&gt;</th><th scope=col>&lt;fct&gt;</th><th scope=col>&lt;fct&gt;</th><th scope=col>&lt;fct&gt;</th><th scope=col>&lt;fct&gt;</th><th scope=col>⋯</th><th scope=col>&lt;fct&gt;</th><th scope=col>&lt;fct&gt;</th><th scope=col>&lt;fct&gt;</th><th scope=col>&lt;fct&gt;</th><th scope=col>&lt;fct&gt;</th><th scope=col>&lt;fct&gt;</th><th scope=col>&lt;fct&gt;</th><th scope=col>&lt;fct&gt;</th><th scope=col>&lt;fct&gt;</th><th scope=col>&lt;lgl&gt;</th></tr>\n",
       "</thead>\n",
       "<tbody>\n",
       "\t<tr><th scope=row>1</th><td>1001459</td><td>Male  </td><td>1944</td><td>D352</td><td>H251</td><td>H919</td><td>I10 </td><td>R251</td><td>Z138</td><td>Z974</td><td>⋯</td><td>NA</td><td>NA</td><td>NA</td><td>NA</td><td>NA</td><td>NA</td><td>NA</td><td>NA</td><td>NA</td><td>TRUE</td></tr>\n",
       "\t<tr><th scope=row>2</th><td>1002806</td><td>Female</td><td>1944</td><td>B269</td><td>D211</td><td>G560</td><td>H251</td><td>H919</td><td>I209</td><td>I252</td><td>⋯</td><td>NA</td><td>NA</td><td>NA</td><td>NA</td><td>NA</td><td>NA</td><td>NA</td><td>NA</td><td>NA</td><td>TRUE</td></tr>\n",
       "\t<tr><th scope=row>3</th><td>1006612</td><td>Male  </td><td>1944</td><td>D170</td><td>H250</td><td>H269</td><td>H400</td><td>H919</td><td>Z835</td><td>Z961</td><td>⋯</td><td>NA</td><td>NA</td><td>NA</td><td>NA</td><td>NA</td><td>NA</td><td>NA</td><td>NA</td><td>NA</td><td>TRUE</td></tr>\n",
       "\t<tr><th scope=row>4</th><td>1011139</td><td>Female</td><td>1945</td><td>H353</td><td>Q668</td><td>R195</td><td>Z974</td><td>NA  </td><td>NA  </td><td>NA  </td><td>⋯</td><td>NA</td><td>NA</td><td>NA</td><td>NA</td><td>NA</td><td>NA</td><td>NA</td><td>NA</td><td>NA</td><td>TRUE</td></tr>\n",
       "\t<tr><th scope=row>5</th><td>1018253</td><td>Male  </td><td>1950</td><td>C474</td><td>D235</td><td>D361</td><td>E780</td><td>E785</td><td>F171</td><td>F329</td><td>⋯</td><td>NA</td><td>NA</td><td>NA</td><td>NA</td><td>NA</td><td>NA</td><td>NA</td><td>NA</td><td>NA</td><td>TRUE</td></tr>\n",
       "\t<tr><th scope=row>6</th><td>1019013</td><td>Male  </td><td>1938</td><td>D122</td><td>H833</td><td>H911</td><td>H919</td><td>I730</td><td>I849</td><td>J310</td><td>⋯</td><td>NA</td><td>NA</td><td>NA</td><td>NA</td><td>NA</td><td>NA</td><td>NA</td><td>NA</td><td>NA</td><td>TRUE</td></tr>\n",
       "</tbody>\n",
       "</table>\n"
      ],
      "text/latex": [
       "A data.frame: 6 × 430\n",
       "\\begin{tabular}{r|lllllllllllllllllllll}\n",
       "  & IID & f.31.0.0 & f.34.0.0 & f.41270.0.0 & f.41270.0.1 & f.41270.0.2 & f.41270.0.3 & f.41270.0.4 & f.41270.0.5 & f.41270.0.6 & ⋯ & f.41280.0.204 & f.41280.0.205 & f.41280.0.206 & f.41280.0.207 & f.41280.0.208 & f.41280.0.209 & f.41280.0.210 & f.41280.0.211 & f.41280.0.212 & z974\\_include\\\\\n",
       "  & <int> & <fct> & <int> & <fct> & <fct> & <fct> & <fct> & <fct> & <fct> & <fct> & ⋯ & <fct> & <fct> & <fct> & <fct> & <fct> & <fct> & <fct> & <fct> & <fct> & <lgl>\\\\\n",
       "\\hline\n",
       "\t1 & 1001459 & Male   & 1944 & D352 & H251 & H919 & I10  & R251 & Z138 & Z974 & ⋯ & NA & NA & NA & NA & NA & NA & NA & NA & NA & TRUE\\\\\n",
       "\t2 & 1002806 & Female & 1944 & B269 & D211 & G560 & H251 & H919 & I209 & I252 & ⋯ & NA & NA & NA & NA & NA & NA & NA & NA & NA & TRUE\\\\\n",
       "\t3 & 1006612 & Male   & 1944 & D170 & H250 & H269 & H400 & H919 & Z835 & Z961 & ⋯ & NA & NA & NA & NA & NA & NA & NA & NA & NA & TRUE\\\\\n",
       "\t4 & 1011139 & Female & 1945 & H353 & Q668 & R195 & Z974 & NA   & NA   & NA   & ⋯ & NA & NA & NA & NA & NA & NA & NA & NA & NA & TRUE\\\\\n",
       "\t5 & 1018253 & Male   & 1950 & C474 & D235 & D361 & E780 & E785 & F171 & F329 & ⋯ & NA & NA & NA & NA & NA & NA & NA & NA & NA & TRUE\\\\\n",
       "\t6 & 1019013 & Male   & 1938 & D122 & H833 & H911 & H919 & I730 & I849 & J310 & ⋯ & NA & NA & NA & NA & NA & NA & NA & NA & NA & TRUE\\\\\n",
       "\\end{tabular}\n"
      ],
      "text/markdown": [
       "\n",
       "A data.frame: 6 × 430\n",
       "\n",
       "| <!--/--> | IID &lt;int&gt; | f.31.0.0 &lt;fct&gt; | f.34.0.0 &lt;int&gt; | f.41270.0.0 &lt;fct&gt; | f.41270.0.1 &lt;fct&gt; | f.41270.0.2 &lt;fct&gt; | f.41270.0.3 &lt;fct&gt; | f.41270.0.4 &lt;fct&gt; | f.41270.0.5 &lt;fct&gt; | f.41270.0.6 &lt;fct&gt; | ⋯ ⋯ | f.41280.0.204 &lt;fct&gt; | f.41280.0.205 &lt;fct&gt; | f.41280.0.206 &lt;fct&gt; | f.41280.0.207 &lt;fct&gt; | f.41280.0.208 &lt;fct&gt; | f.41280.0.209 &lt;fct&gt; | f.41280.0.210 &lt;fct&gt; | f.41280.0.211 &lt;fct&gt; | f.41280.0.212 &lt;fct&gt; | z974_include &lt;lgl&gt; |\n",
       "|---|---|---|---|---|---|---|---|---|---|---|---|---|---|---|---|---|---|---|---|---|---|\n",
       "| 1 | 1001459 | Male   | 1944 | D352 | H251 | H919 | I10  | R251 | Z138 | Z974 | ⋯ | NA | NA | NA | NA | NA | NA | NA | NA | NA | TRUE |\n",
       "| 2 | 1002806 | Female | 1944 | B269 | D211 | G560 | H251 | H919 | I209 | I252 | ⋯ | NA | NA | NA | NA | NA | NA | NA | NA | NA | TRUE |\n",
       "| 3 | 1006612 | Male   | 1944 | D170 | H250 | H269 | H400 | H919 | Z835 | Z961 | ⋯ | NA | NA | NA | NA | NA | NA | NA | NA | NA | TRUE |\n",
       "| 4 | 1011139 | Female | 1945 | H353 | Q668 | R195 | Z974 | NA   | NA   | NA   | ⋯ | NA | NA | NA | NA | NA | NA | NA | NA | NA | TRUE |\n",
       "| 5 | 1018253 | Male   | 1950 | C474 | D235 | D361 | E780 | E785 | F171 | F329 | ⋯ | NA | NA | NA | NA | NA | NA | NA | NA | NA | TRUE |\n",
       "| 6 | 1019013 | Male   | 1938 | D122 | H833 | H911 | H919 | I730 | I849 | J310 | ⋯ | NA | NA | NA | NA | NA | NA | NA | NA | NA | TRUE |\n",
       "\n"
      ],
      "text/plain": [
       "  IID     f.31.0.0 f.34.0.0 f.41270.0.0 f.41270.0.1 f.41270.0.2 f.41270.0.3\n",
       "1 1001459 Male     1944     D352        H251        H919        I10        \n",
       "2 1002806 Female   1944     B269        D211        G560        H251       \n",
       "3 1006612 Male     1944     D170        H250        H269        H400       \n",
       "4 1011139 Female   1945     H353        Q668        R195        Z974       \n",
       "5 1018253 Male     1950     C474        D235        D361        E780       \n",
       "6 1019013 Male     1938     D122        H833        H911        H919       \n",
       "  f.41270.0.4 f.41270.0.5 f.41270.0.6 ⋯ f.41280.0.204 f.41280.0.205\n",
       "1 R251        Z138        Z974        ⋯ NA            NA           \n",
       "2 H919        I209        I252        ⋯ NA            NA           \n",
       "3 H919        Z835        Z961        ⋯ NA            NA           \n",
       "4 NA          NA          NA          ⋯ NA            NA           \n",
       "5 E785        F171        F329        ⋯ NA            NA           \n",
       "6 I730        I849        J310        ⋯ NA            NA           \n",
       "  f.41280.0.206 f.41280.0.207 f.41280.0.208 f.41280.0.209 f.41280.0.210\n",
       "1 NA            NA            NA            NA            NA           \n",
       "2 NA            NA            NA            NA            NA           \n",
       "3 NA            NA            NA            NA            NA           \n",
       "4 NA            NA            NA            NA            NA           \n",
       "5 NA            NA            NA            NA            NA           \n",
       "6 NA            NA            NA            NA            NA           \n",
       "  f.41280.0.211 f.41280.0.212 z974_include\n",
       "1 NA            NA            TRUE        \n",
       "2 NA            NA            TRUE        \n",
       "3 NA            NA            TRUE        \n",
       "4 NA            NA            TRUE        \n",
       "5 NA            NA            TRUE        \n",
       "6 NA            NA            TRUE        "
      ]
     },
     "metadata": {},
     "output_type": "display_data"
    }
   ],
   "source": [
    "head(ICD10_z974)"
   ]
  },
  {
   "cell_type": "code",
   "execution_count": 34,
   "metadata": {
    "kernel": "R"
   },
   "outputs": [
    {
     "data": {
      "text/html": [
       "<table>\n",
       "<caption>A data.frame: 6 × 6</caption>\n",
       "<thead>\n",
       "\t<tr><th></th><th scope=col>IID</th><th scope=col>f.3393.0.0_recode</th><th scope=col>f.3393.1.0_recode</th><th scope=col>f.3393.2.0_recode</th><th scope=col>f.3393.3.0_recode</th><th scope=col>visit</th></tr>\n",
       "\t<tr><th></th><th scope=col>&lt;int&gt;</th><th scope=col>&lt;fct&gt;</th><th scope=col>&lt;fct&gt;</th><th scope=col>&lt;fct&gt;</th><th scope=col>&lt;fct&gt;</th><th scope=col>&lt;chr&gt;</th></tr>\n",
       "</thead>\n",
       "<tbody>\n",
       "\t<tr><th scope=row>1</th><td>1001459</td><td>1</td><td>NA</td><td>NA</td><td>NA</td><td>1 </td></tr>\n",
       "\t<tr><th scope=row>2</th><td>1006612</td><td>1</td><td>NA</td><td>NA</td><td>NA</td><td>1 </td></tr>\n",
       "\t<tr><th scope=row>3</th><td>1018253</td><td>0</td><td>1 </td><td>NA</td><td>NA</td><td>01</td></tr>\n",
       "\t<tr><th scope=row>4</th><td>1064873</td><td>1</td><td>NA</td><td>NA</td><td>NA</td><td>1 </td></tr>\n",
       "\t<tr><th scope=row>5</th><td>1084042</td><td>1</td><td>NA</td><td>NA</td><td>NA</td><td>1 </td></tr>\n",
       "\t<tr><th scope=row>6</th><td>1140560</td><td>1</td><td>NA</td><td>NA</td><td>NA</td><td>1 </td></tr>\n",
       "</tbody>\n",
       "</table>\n"
      ],
      "text/latex": [
       "A data.frame: 6 × 6\n",
       "\\begin{tabular}{r|llllll}\n",
       "  & IID & f.3393.0.0\\_recode & f.3393.1.0\\_recode & f.3393.2.0\\_recode & f.3393.3.0\\_recode & visit\\\\\n",
       "  & <int> & <fct> & <fct> & <fct> & <fct> & <chr>\\\\\n",
       "\\hline\n",
       "\t1 & 1001459 & 1 & NA & NA & NA & 1 \\\\\n",
       "\t2 & 1006612 & 1 & NA & NA & NA & 1 \\\\\n",
       "\t3 & 1018253 & 0 & 1  & NA & NA & 01\\\\\n",
       "\t4 & 1064873 & 1 & NA & NA & NA & 1 \\\\\n",
       "\t5 & 1084042 & 1 & NA & NA & NA & 1 \\\\\n",
       "\t6 & 1140560 & 1 & NA & NA & NA & 1 \\\\\n",
       "\\end{tabular}\n"
      ],
      "text/markdown": [
       "\n",
       "A data.frame: 6 × 6\n",
       "\n",
       "| <!--/--> | IID &lt;int&gt; | f.3393.0.0_recode &lt;fct&gt; | f.3393.1.0_recode &lt;fct&gt; | f.3393.2.0_recode &lt;fct&gt; | f.3393.3.0_recode &lt;fct&gt; | visit &lt;chr&gt; |\n",
       "|---|---|---|---|---|---|---|\n",
       "| 1 | 1001459 | 1 | NA | NA | NA | 1  |\n",
       "| 2 | 1006612 | 1 | NA | NA | NA | 1  |\n",
       "| 3 | 1018253 | 0 | 1  | NA | NA | 01 |\n",
       "| 4 | 1064873 | 1 | NA | NA | NA | 1  |\n",
       "| 5 | 1084042 | 1 | NA | NA | NA | 1  |\n",
       "| 6 | 1140560 | 1 | NA | NA | NA | 1  |\n",
       "\n"
      ],
      "text/plain": [
       "  IID     f.3393.0.0_recode f.3393.1.0_recode f.3393.2.0_recode\n",
       "1 1001459 1                 NA                NA               \n",
       "2 1006612 1                 NA                NA               \n",
       "3 1018253 0                 1                 NA               \n",
       "4 1064873 1                 NA                NA               \n",
       "5 1084042 1                 NA                NA               \n",
       "6 1140560 1                 NA                NA               \n",
       "  f.3393.3.0_recode visit\n",
       "1 NA                1    \n",
       "2 NA                1    \n",
       "3 NA                01   \n",
       "4 NA                1    \n",
       "5 NA                1    \n",
       "6 NA                1    "
      ]
     },
     "metadata": {},
     "output_type": "display_data"
    },
    {
     "data": {
      "text/html": [
       "202"
      ],
      "text/latex": [
       "202"
      ],
      "text/markdown": [
       "202"
      ],
      "text/plain": [
       "[1] 202"
      ]
     },
     "metadata": {},
     "output_type": "display_data"
    },
    {
     "data": {
      "text/html": [
       "<table>\n",
       "<caption>A data.frame: 6 × 6</caption>\n",
       "<thead>\n",
       "\t<tr><th></th><th scope=col>IID</th><th scope=col>f.3393.0.0_recode</th><th scope=col>f.3393.1.0_recode</th><th scope=col>f.3393.2.0_recode</th><th scope=col>f.3393.3.0_recode</th><th scope=col>visit</th></tr>\n",
       "\t<tr><th></th><th scope=col>&lt;int&gt;</th><th scope=col>&lt;fct&gt;</th><th scope=col>&lt;fct&gt;</th><th scope=col>&lt;fct&gt;</th><th scope=col>&lt;fct&gt;</th><th scope=col>&lt;chr&gt;</th></tr>\n",
       "</thead>\n",
       "<tbody>\n",
       "\t<tr><th scope=row>1</th><td>1002806</td><td>0</td><td>NA</td><td>NA</td><td>NA</td><td>0</td></tr>\n",
       "\t<tr><th scope=row>2</th><td>1011139</td><td>0</td><td>NA</td><td>NA</td><td>NA</td><td>0</td></tr>\n",
       "\t<tr><th scope=row>3</th><td>1019013</td><td>0</td><td>NA</td><td>NA</td><td>NA</td><td>0</td></tr>\n",
       "\t<tr><th scope=row>4</th><td>1069074</td><td>0</td><td>NA</td><td>NA</td><td>NA</td><td>0</td></tr>\n",
       "\t<tr><th scope=row>5</th><td>1089526</td><td>0</td><td>NA</td><td>NA</td><td>NA</td><td>0</td></tr>\n",
       "\t<tr><th scope=row>6</th><td>1148586</td><td>0</td><td>NA</td><td>NA</td><td>NA</td><td>0</td></tr>\n",
       "</tbody>\n",
       "</table>\n"
      ],
      "text/latex": [
       "A data.frame: 6 × 6\n",
       "\\begin{tabular}{r|llllll}\n",
       "  & IID & f.3393.0.0\\_recode & f.3393.1.0\\_recode & f.3393.2.0\\_recode & f.3393.3.0\\_recode & visit\\\\\n",
       "  & <int> & <fct> & <fct> & <fct> & <fct> & <chr>\\\\\n",
       "\\hline\n",
       "\t1 & 1002806 & 0 & NA & NA & NA & 0\\\\\n",
       "\t2 & 1011139 & 0 & NA & NA & NA & 0\\\\\n",
       "\t3 & 1019013 & 0 & NA & NA & NA & 0\\\\\n",
       "\t4 & 1069074 & 0 & NA & NA & NA & 0\\\\\n",
       "\t5 & 1089526 & 0 & NA & NA & NA & 0\\\\\n",
       "\t6 & 1148586 & 0 & NA & NA & NA & 0\\\\\n",
       "\\end{tabular}\n"
      ],
      "text/markdown": [
       "\n",
       "A data.frame: 6 × 6\n",
       "\n",
       "| <!--/--> | IID &lt;int&gt; | f.3393.0.0_recode &lt;fct&gt; | f.3393.1.0_recode &lt;fct&gt; | f.3393.2.0_recode &lt;fct&gt; | f.3393.3.0_recode &lt;fct&gt; | visit &lt;chr&gt; |\n",
       "|---|---|---|---|---|---|---|\n",
       "| 1 | 1002806 | 0 | NA | NA | NA | 0 |\n",
       "| 2 | 1011139 | 0 | NA | NA | NA | 0 |\n",
       "| 3 | 1019013 | 0 | NA | NA | NA | 0 |\n",
       "| 4 | 1069074 | 0 | NA | NA | NA | 0 |\n",
       "| 5 | 1089526 | 0 | NA | NA | NA | 0 |\n",
       "| 6 | 1148586 | 0 | NA | NA | NA | 0 |\n",
       "\n"
      ],
      "text/plain": [
       "  IID     f.3393.0.0_recode f.3393.1.0_recode f.3393.2.0_recode\n",
       "1 1002806 0                 NA                NA               \n",
       "2 1011139 0                 NA                NA               \n",
       "3 1019013 0                 NA                NA               \n",
       "4 1069074 0                 NA                NA               \n",
       "5 1089526 0                 NA                NA               \n",
       "6 1148586 0                 NA                NA               \n",
       "  f.3393.3.0_recode visit\n",
       "1 NA                0    \n",
       "2 NA                0    \n",
       "3 NA                0    \n",
       "4 NA                0    \n",
       "5 NA                0    \n",
       "6 NA                0    "
      ]
     },
     "metadata": {},
     "output_type": "display_data"
    },
    {
     "data": {
      "text/html": [
       "178"
      ],
      "text/latex": [
       "178"
      ],
      "text/markdown": [
       "178"
      ],
      "text/plain": [
       "[1] 178"
      ]
     },
     "metadata": {},
     "output_type": "display_data"
    }
   ],
   "source": [
    "icd10_f3393 <- data_sub %>%\n",
    "    filter(IID %in% ICD10_z974$IID ) %>%\n",
    "    filter(!(is.empty(visit) | visit %in% all_no))\n",
    "head(icd10_f3393) #202 individuals with both ICD10 Z97.4 and f3393 data\n",
    "nrow(icd10_f3393)\n",
    "icd10_notf3393 <- data_sub %>%\n",
    "    filter(IID %in% ICD10_z974$IID ) %>%\n",
    "    filter(is.empty(visit) | visit %in% all_no)\n",
    "head(icd10_notf3393)\n",
    "nrow(icd10_notf3393) # 178 individuals with ICD10 Z97.4 and without data for f3393"
   ]
  },
  {
   "cell_type": "markdown",
   "metadata": {
    "kernel": "R"
   },
   "source": [
    "## Get the age for 178 individuals with Z97.4 on ICD10 codes"
   ]
  },
  {
   "cell_type": "code",
   "execution_count": 85,
   "metadata": {
    "kernel": "R"
   },
   "outputs": [
    {
     "data": {
      "text/html": [
       "<style>\n",
       ".list-inline {list-style: none; margin:0; padding: 0}\n",
       ".list-inline>li {display: inline-block}\n",
       ".list-inline>li:not(:last-child)::after {content: \"\\00b7\"; padding: 0 .5ex}\n",
       "</style>\n",
       "<ol class=list-inline><li>396974</li><li>430</li></ol>\n"
      ],
      "text/latex": [
       "\\begin{enumerate*}\n",
       "\\item 396974\n",
       "\\item 430\n",
       "\\end{enumerate*}\n"
      ],
      "text/markdown": [
       "1. 396974\n",
       "2. 430\n",
       "\n",
       "\n"
      ],
      "text/plain": [
       "[1] 396974    430"
      ]
     },
     "metadata": {},
     "output_type": "display_data"
    }
   ],
   "source": [
    "hearing_aid = df.final.imp %>% \n",
    "  select(IID,FID,f.31.0.0,f.34.0.0, starts_with(\"f.41270\"),starts_with(\"f.41280\"))\n",
    "dim(hearing_aid)"
   ]
  },
  {
   "cell_type": "code",
   "execution_count": 88,
   "metadata": {
    "kernel": "R"
   },
   "outputs": [
    {
     "data": {
      "text/html": [
       "178"
      ],
      "text/latex": [
       "178"
      ],
      "text/markdown": [
       "178"
      ],
      "text/plain": [
       "[1] 178"
      ]
     },
     "metadata": {},
     "output_type": "display_data"
    }
   ],
   "source": [
    "hearing_aid_new = hearing_aid %>% \n",
    "  mutate(cases = apply(select(hearing_aid,starts_with(\"f.41270\")), 1, function(x) any(x %in% c(\"Z974\")))) %>% \n",
    "    filter(IID%in%icd10_notf3393$IID)\n",
    "nrow(hearing_aid_new)"
   ]
  },
  {
   "cell_type": "code",
   "execution_count": 89,
   "metadata": {
    "kernel": "R"
   },
   "outputs": [
    {
     "data": {
      "text/html": [
       "213"
      ],
      "text/latex": [
       "213"
      ],
      "text/markdown": [
       "213"
      ],
      "text/plain": [
       "[1] 213"
      ]
     },
     "metadata": {},
     "output_type": "display_data"
    }
   ],
   "source": [
    "offset = which(colnames(hearing_aid_new) == 'f.41280.0.0') - which(colnames(hearing_aid_new) == 'f.41270.0.0')\n",
    "offset"
   ]
  },
  {
   "cell_type": "code",
   "execution_count": 101,
   "metadata": {
    "kernel": "R"
   },
   "outputs": [
    {
     "data": {
      "text/html": [
       "<table>\n",
       "<caption>A data.frame: 6 × 437</caption>\n",
       "<thead>\n",
       "\t<tr><th></th><th scope=col>IID</th><th scope=col>FID</th><th scope=col>f.31.0.0</th><th scope=col>f.34.0.0</th><th scope=col>f.41270.0.0</th><th scope=col>f.41270.0.1</th><th scope=col>f.41270.0.2</th><th scope=col>f.41270.0.3</th><th scope=col>f.41270.0.4</th><th scope=col>f.41270.0.5</th><th scope=col>⋯</th><th scope=col>f.41280.0.210</th><th scope=col>f.41280.0.211</th><th scope=col>f.41280.0.212</th><th scope=col>cases</th><th scope=col>year</th><th scope=col>month</th><th scope=col>day</th><th scope=col>age_final_aid</th><th scope=col>hearing_aid_cat</th><th scope=col>num_year</th></tr>\n",
       "\t<tr><th></th><th scope=col>&lt;int&gt;</th><th scope=col>&lt;int&gt;</th><th scope=col>&lt;fct&gt;</th><th scope=col>&lt;int&gt;</th><th scope=col>&lt;fct&gt;</th><th scope=col>&lt;fct&gt;</th><th scope=col>&lt;fct&gt;</th><th scope=col>&lt;fct&gt;</th><th scope=col>&lt;fct&gt;</th><th scope=col>&lt;fct&gt;</th><th scope=col>⋯</th><th scope=col>&lt;fct&gt;</th><th scope=col>&lt;fct&gt;</th><th scope=col>&lt;fct&gt;</th><th scope=col>&lt;lgl&gt;</th><th scope=col>&lt;chr&gt;</th><th scope=col>&lt;chr&gt;</th><th scope=col>&lt;chr&gt;</th><th scope=col>&lt;dbl&gt;</th><th scope=col>&lt;dbl&gt;</th><th scope=col>&lt;dbl&gt;</th></tr>\n",
       "</thead>\n",
       "<tbody>\n",
       "\t<tr><th scope=row>1</th><td>1002806</td><td>1002806</td><td>Female</td><td>1944</td><td>B269</td><td>D211</td><td>G560</td><td>H251</td><td>H919</td><td>I209</td><td>⋯</td><td>NA</td><td>NA</td><td>NA</td><td>TRUE</td><td>2017</td><td>01</td><td>28</td><td>73</td><td>1</td><td>2017</td></tr>\n",
       "\t<tr><th scope=row>2</th><td>1011139</td><td>1011139</td><td>Female</td><td>1945</td><td>H353</td><td>Q668</td><td>R195</td><td>Z974</td><td>NA  </td><td>NA  </td><td>⋯</td><td>NA</td><td>NA</td><td>NA</td><td>TRUE</td><td>2013</td><td>06</td><td>20</td><td>68</td><td>1</td><td>2013</td></tr>\n",
       "\t<tr><th scope=row>3</th><td>1019013</td><td>1019013</td><td>Male  </td><td>1938</td><td>D122</td><td>H833</td><td>H911</td><td>H919</td><td>I730</td><td>I849</td><td>⋯</td><td>NA</td><td>NA</td><td>NA</td><td>TRUE</td><td>2009</td><td>01</td><td>23</td><td>71</td><td>1</td><td>2009</td></tr>\n",
       "\t<tr><th scope=row>4</th><td>1069074</td><td>1069074</td><td>Male  </td><td>1946</td><td>D124</td><td>D125</td><td>E669</td><td>H919</td><td>K409</td><td>K513</td><td>⋯</td><td>NA</td><td>NA</td><td>NA</td><td>TRUE</td><td>2015</td><td>04</td><td>02</td><td>69</td><td>1</td><td>2015</td></tr>\n",
       "\t<tr><th scope=row>5</th><td>1089526</td><td>1089526</td><td>Male  </td><td>1949</td><td>E113</td><td>F402</td><td>H251</td><td>H360</td><td>H919</td><td>I10 </td><td>⋯</td><td>NA</td><td>NA</td><td>NA</td><td>TRUE</td><td>2015</td><td>12</td><td>07</td><td>66</td><td>1</td><td>2015</td></tr>\n",
       "\t<tr><th scope=row>6</th><td>1148586</td><td>1148586</td><td>Male  </td><td>1939</td><td>E119</td><td>E780</td><td>G473</td><td>H310</td><td>H353</td><td>I10 </td><td>⋯</td><td>NA</td><td>NA</td><td>NA</td><td>TRUE</td><td>2016</td><td>08</td><td>10</td><td>77</td><td>1</td><td>2016</td></tr>\n",
       "</tbody>\n",
       "</table>\n"
      ],
      "text/latex": [
       "A data.frame: 6 × 437\n",
       "\\begin{tabular}{r|lllllllllllllllllllll}\n",
       "  & IID & FID & f.31.0.0 & f.34.0.0 & f.41270.0.0 & f.41270.0.1 & f.41270.0.2 & f.41270.0.3 & f.41270.0.4 & f.41270.0.5 & ⋯ & f.41280.0.210 & f.41280.0.211 & f.41280.0.212 & cases & year & month & day & age\\_final\\_aid & hearing\\_aid\\_cat & num\\_year\\\\\n",
       "  & <int> & <int> & <fct> & <int> & <fct> & <fct> & <fct> & <fct> & <fct> & <fct> & ⋯ & <fct> & <fct> & <fct> & <lgl> & <chr> & <chr> & <chr> & <dbl> & <dbl> & <dbl>\\\\\n",
       "\\hline\n",
       "\t1 & 1002806 & 1002806 & Female & 1944 & B269 & D211 & G560 & H251 & H919 & I209 & ⋯ & NA & NA & NA & TRUE & 2017 & 01 & 28 & 73 & 1 & 2017\\\\\n",
       "\t2 & 1011139 & 1011139 & Female & 1945 & H353 & Q668 & R195 & Z974 & NA   & NA   & ⋯ & NA & NA & NA & TRUE & 2013 & 06 & 20 & 68 & 1 & 2013\\\\\n",
       "\t3 & 1019013 & 1019013 & Male   & 1938 & D122 & H833 & H911 & H919 & I730 & I849 & ⋯ & NA & NA & NA & TRUE & 2009 & 01 & 23 & 71 & 1 & 2009\\\\\n",
       "\t4 & 1069074 & 1069074 & Male   & 1946 & D124 & D125 & E669 & H919 & K409 & K513 & ⋯ & NA & NA & NA & TRUE & 2015 & 04 & 02 & 69 & 1 & 2015\\\\\n",
       "\t5 & 1089526 & 1089526 & Male   & 1949 & E113 & F402 & H251 & H360 & H919 & I10  & ⋯ & NA & NA & NA & TRUE & 2015 & 12 & 07 & 66 & 1 & 2015\\\\\n",
       "\t6 & 1148586 & 1148586 & Male   & 1939 & E119 & E780 & G473 & H310 & H353 & I10  & ⋯ & NA & NA & NA & TRUE & 2016 & 08 & 10 & 77 & 1 & 2016\\\\\n",
       "\\end{tabular}\n"
      ],
      "text/markdown": [
       "\n",
       "A data.frame: 6 × 437\n",
       "\n",
       "| <!--/--> | IID &lt;int&gt; | FID &lt;int&gt; | f.31.0.0 &lt;fct&gt; | f.34.0.0 &lt;int&gt; | f.41270.0.0 &lt;fct&gt; | f.41270.0.1 &lt;fct&gt; | f.41270.0.2 &lt;fct&gt; | f.41270.0.3 &lt;fct&gt; | f.41270.0.4 &lt;fct&gt; | f.41270.0.5 &lt;fct&gt; | ⋯ ⋯ | f.41280.0.210 &lt;fct&gt; | f.41280.0.211 &lt;fct&gt; | f.41280.0.212 &lt;fct&gt; | cases &lt;lgl&gt; | year &lt;chr&gt; | month &lt;chr&gt; | day &lt;chr&gt; | age_final_aid &lt;dbl&gt; | hearing_aid_cat &lt;dbl&gt; | num_year &lt;dbl&gt; |\n",
       "|---|---|---|---|---|---|---|---|---|---|---|---|---|---|---|---|---|---|---|---|---|---|\n",
       "| 1 | 1002806 | 1002806 | Female | 1944 | B269 | D211 | G560 | H251 | H919 | I209 | ⋯ | NA | NA | NA | TRUE | 2017 | 01 | 28 | 73 | 1 | 2017 |\n",
       "| 2 | 1011139 | 1011139 | Female | 1945 | H353 | Q668 | R195 | Z974 | NA   | NA   | ⋯ | NA | NA | NA | TRUE | 2013 | 06 | 20 | 68 | 1 | 2013 |\n",
       "| 3 | 1019013 | 1019013 | Male   | 1938 | D122 | H833 | H911 | H919 | I730 | I849 | ⋯ | NA | NA | NA | TRUE | 2009 | 01 | 23 | 71 | 1 | 2009 |\n",
       "| 4 | 1069074 | 1069074 | Male   | 1946 | D124 | D125 | E669 | H919 | K409 | K513 | ⋯ | NA | NA | NA | TRUE | 2015 | 04 | 02 | 69 | 1 | 2015 |\n",
       "| 5 | 1089526 | 1089526 | Male   | 1949 | E113 | F402 | H251 | H360 | H919 | I10  | ⋯ | NA | NA | NA | TRUE | 2015 | 12 | 07 | 66 | 1 | 2015 |\n",
       "| 6 | 1148586 | 1148586 | Male   | 1939 | E119 | E780 | G473 | H310 | H353 | I10  | ⋯ | NA | NA | NA | TRUE | 2016 | 08 | 10 | 77 | 1 | 2016 |\n",
       "\n"
      ],
      "text/plain": [
       "  IID     FID     f.31.0.0 f.34.0.0 f.41270.0.0 f.41270.0.1 f.41270.0.2\n",
       "1 1002806 1002806 Female   1944     B269        D211        G560       \n",
       "2 1011139 1011139 Female   1945     H353        Q668        R195       \n",
       "3 1019013 1019013 Male     1938     D122        H833        H911       \n",
       "4 1069074 1069074 Male     1946     D124        D125        E669       \n",
       "5 1089526 1089526 Male     1949     E113        F402        H251       \n",
       "6 1148586 1148586 Male     1939     E119        E780        G473       \n",
       "  f.41270.0.3 f.41270.0.4 f.41270.0.5 ⋯ f.41280.0.210 f.41280.0.211\n",
       "1 H251        H919        I209        ⋯ NA            NA           \n",
       "2 Z974        NA          NA          ⋯ NA            NA           \n",
       "3 H919        I730        I849        ⋯ NA            NA           \n",
       "4 H919        K409        K513        ⋯ NA            NA           \n",
       "5 H360        H919        I10         ⋯ NA            NA           \n",
       "6 H310        H353        I10         ⋯ NA            NA           \n",
       "  f.41280.0.212 cases year month day age_final_aid hearing_aid_cat num_year\n",
       "1 NA            TRUE  2017 01    28  73            1               2017    \n",
       "2 NA            TRUE  2013 06    20  68            1               2013    \n",
       "3 NA            TRUE  2009 01    23  71            1               2009    \n",
       "4 NA            TRUE  2015 04    02  69            1               2015    \n",
       "5 NA            TRUE  2015 12    07  66            1               2015    \n",
       "6 NA            TRUE  2016 08    10  77            1               2016    "
      ]
     },
     "metadata": {},
     "output_type": "display_data"
    }
   ],
   "source": [
    "hearing_aid_new$age_aid = apply(hearing_aid_new, 1, function(x) {\n",
    "  hear_aid = which(x[grep(\"f.41270\", names(x))] == \"Z974\")\n",
    "  first_index_offset = grep(\"f.41270\", names(x))[1] - 1\n",
    "  unlist(x[hear_aid[length(hear_aid)] + first_index_offset + offset])\n",
    "})\n",
    "hearing_aid_new2 <- hearing_aid_new %>% \n",
    "  separate(age_aid, into = c(\"year\", \"month\", \"day\"), sep = \"-\") %>% \n",
    "  mutate(num_year=as.numeric(year))\n",
    "  \n",
    "hearing_aid_new3 <- hearing_aid_new2 %>%   \n",
    "  mutate(age_final_aid= num_year-f.34.0.0) %>%\n",
    "  mutate(hearing_aid_cat = case_when(cases==TRUE ~ 1, cases==FALSE ~ 0))\n",
    "\n",
    "head(hearing_aid_new3)"
   ]
  },
  {
   "cell_type": "code",
   "execution_count": 102,
   "metadata": {
    "kernel": "R"
   },
   "outputs": [
    {
     "data": {
      "text/html": [
       "0"
      ],
      "text/latex": [
       "0"
      ],
      "text/markdown": [
       "0"
      ],
      "text/plain": [
       "[1] 0"
      ]
     },
     "metadata": {},
     "output_type": "display_data"
    }
   ],
   "source": [
    "length(which(hearing_aid_new3$age_final_aid <40))"
   ]
  },
  {
   "cell_type": "code",
   "execution_count": 35,
   "metadata": {
    "kernel": "R",
    "scrolled": true
   },
   "outputs": [
    {
     "name": "stderr",
     "output_type": "stream",
     "text": [
      "Joining, by = \"IID\"\n",
      "\n"
     ]
    },
    {
     "data": {
      "text/html": [
       "<table>\n",
       "<caption>A data.frame: 100 × 7</caption>\n",
       "<thead>\n",
       "\t<tr><th></th><th scope=col>IID</th><th scope=col>f.3393.0.0_recode</th><th scope=col>f.3393.1.0_recode</th><th scope=col>f.3393.2.0_recode</th><th scope=col>f.3393.3.0_recode</th><th scope=col>visit</th><th scope=col>z974_include</th></tr>\n",
       "\t<tr><th></th><th scope=col>&lt;int&gt;</th><th scope=col>&lt;fct&gt;</th><th scope=col>&lt;fct&gt;</th><th scope=col>&lt;fct&gt;</th><th scope=col>&lt;fct&gt;</th><th scope=col>&lt;chr&gt;</th><th scope=col>&lt;lgl&gt;</th></tr>\n",
       "</thead>\n",
       "<tbody>\n",
       "\t<tr><th scope=row>1</th><td>1001459</td><td>1</td><td>NA</td><td>NA</td><td>NA</td><td>1 </td><td>TRUE</td></tr>\n",
       "\t<tr><th scope=row>2</th><td>1002806</td><td>0</td><td>NA</td><td>NA</td><td>NA</td><td>0 </td><td>TRUE</td></tr>\n",
       "\t<tr><th scope=row>3</th><td>1006612</td><td>1</td><td>NA</td><td>NA</td><td>NA</td><td>1 </td><td>TRUE</td></tr>\n",
       "\t<tr><th scope=row>4</th><td>1011139</td><td>0</td><td>NA</td><td>NA</td><td>NA</td><td>0 </td><td>TRUE</td></tr>\n",
       "\t<tr><th scope=row>5</th><td>1018253</td><td>0</td><td>1 </td><td>NA</td><td>NA</td><td>01</td><td>TRUE</td></tr>\n",
       "\t<tr><th scope=row>6</th><td>1019013</td><td>0</td><td>NA</td><td>NA</td><td>NA</td><td>0 </td><td>TRUE</td></tr>\n",
       "\t<tr><th scope=row>7</th><td>1064873</td><td>1</td><td>NA</td><td>NA</td><td>NA</td><td>1 </td><td>TRUE</td></tr>\n",
       "\t<tr><th scope=row>8</th><td>1069074</td><td>0</td><td>NA</td><td>NA</td><td>NA</td><td>0 </td><td>TRUE</td></tr>\n",
       "\t<tr><th scope=row>9</th><td>1084042</td><td>1</td><td>NA</td><td>NA</td><td>NA</td><td>1 </td><td>TRUE</td></tr>\n",
       "\t<tr><th scope=row>10</th><td>1089526</td><td>0</td><td>NA</td><td>NA</td><td>NA</td><td>0 </td><td>TRUE</td></tr>\n",
       "\t<tr><th scope=row>11</th><td>1140560</td><td>1</td><td>NA</td><td>NA</td><td>NA</td><td>1 </td><td>TRUE</td></tr>\n",
       "\t<tr><th scope=row>12</th><td>1141212</td><td>1</td><td>NA</td><td>NA</td><td>NA</td><td>1 </td><td>TRUE</td></tr>\n",
       "\t<tr><th scope=row>13</th><td>1148586</td><td>0</td><td>NA</td><td>NA</td><td>NA</td><td>0 </td><td>TRUE</td></tr>\n",
       "\t<tr><th scope=row>14</th><td>1168646</td><td>0</td><td>NA</td><td>NA</td><td>NA</td><td>0 </td><td>TRUE</td></tr>\n",
       "\t<tr><th scope=row>15</th><td>1206628</td><td>0</td><td>1 </td><td>NA</td><td>NA</td><td>01</td><td>TRUE</td></tr>\n",
       "\t<tr><th scope=row>16</th><td>1211050</td><td>0</td><td>NA</td><td>NA</td><td>NA</td><td>0 </td><td>TRUE</td></tr>\n",
       "\t<tr><th scope=row>17</th><td>1212854</td><td>1</td><td>NA</td><td>NA</td><td>NA</td><td>1 </td><td>TRUE</td></tr>\n",
       "\t<tr><th scope=row>18</th><td>1215421</td><td>0</td><td>NA</td><td>NA</td><td>NA</td><td>0 </td><td>TRUE</td></tr>\n",
       "\t<tr><th scope=row>19</th><td>1233549</td><td>0</td><td>NA</td><td>NA</td><td>NA</td><td>0 </td><td>TRUE</td></tr>\n",
       "\t<tr><th scope=row>20</th><td>1274154</td><td>0</td><td>NA</td><td>NA</td><td>NA</td><td>0 </td><td>TRUE</td></tr>\n",
       "\t<tr><th scope=row>21</th><td>1287971</td><td>1</td><td>NA</td><td>NA</td><td>NA</td><td>1 </td><td>TRUE</td></tr>\n",
       "\t<tr><th scope=row>22</th><td>1290793</td><td>1</td><td>NA</td><td>NA</td><td>NA</td><td>1 </td><td>TRUE</td></tr>\n",
       "\t<tr><th scope=row>23</th><td>1293675</td><td>1</td><td>NA</td><td>NA</td><td>NA</td><td>1 </td><td>TRUE</td></tr>\n",
       "\t<tr><th scope=row>24</th><td>1300277</td><td>1</td><td>1 </td><td>NA</td><td>NA</td><td>11</td><td>TRUE</td></tr>\n",
       "\t<tr><th scope=row>25</th><td>1302179</td><td>1</td><td>NA</td><td>NA</td><td>NA</td><td>1 </td><td>TRUE</td></tr>\n",
       "\t<tr><th scope=row>26</th><td>1322113</td><td>0</td><td>NA</td><td>NA</td><td>NA</td><td>0 </td><td>TRUE</td></tr>\n",
       "\t<tr><th scope=row>27</th><td>1357155</td><td>0</td><td>NA</td><td>NA</td><td>NA</td><td>0 </td><td>TRUE</td></tr>\n",
       "\t<tr><th scope=row>28</th><td>1361864</td><td>1</td><td>NA</td><td>NA</td><td>NA</td><td>1 </td><td>TRUE</td></tr>\n",
       "\t<tr><th scope=row>29</th><td>1372161</td><td>1</td><td>NA</td><td>NA</td><td>NA</td><td>1 </td><td>TRUE</td></tr>\n",
       "\t<tr><th scope=row>30</th><td>1376006</td><td>1</td><td>NA</td><td>NA</td><td>NA</td><td>1 </td><td>TRUE</td></tr>\n",
       "\t<tr><th scope=row>⋮</th><td>⋮</td><td>⋮</td><td>⋮</td><td>⋮</td><td>⋮</td><td>⋮</td><td>⋮</td></tr>\n",
       "\t<tr><th scope=row>71</th><td>1872434</td><td>0 </td><td>NA</td><td>NA</td><td>NA</td><td>0 </td><td>TRUE</td></tr>\n",
       "\t<tr><th scope=row>72</th><td>1873610</td><td>1 </td><td>NA</td><td>NA</td><td>NA</td><td>1 </td><td>TRUE</td></tr>\n",
       "\t<tr><th scope=row>73</th><td>1875243</td><td>0 </td><td>NA</td><td>NA</td><td>NA</td><td>0 </td><td>TRUE</td></tr>\n",
       "\t<tr><th scope=row>74</th><td>1879382</td><td>1 </td><td>1 </td><td>NA</td><td>NA</td><td>11</td><td>TRUE</td></tr>\n",
       "\t<tr><th scope=row>75</th><td>1889971</td><td>0 </td><td>NA</td><td>NA</td><td>NA</td><td>0 </td><td>TRUE</td></tr>\n",
       "\t<tr><th scope=row>76</th><td>1899772</td><td>1 </td><td>NA</td><td>NA</td><td>NA</td><td>1 </td><td>TRUE</td></tr>\n",
       "\t<tr><th scope=row>77</th><td>1914640</td><td>0 </td><td>NA</td><td>NA</td><td>NA</td><td>0 </td><td>TRUE</td></tr>\n",
       "\t<tr><th scope=row>78</th><td>1915924</td><td>0 </td><td>NA</td><td>NA</td><td>NA</td><td>0 </td><td>TRUE</td></tr>\n",
       "\t<tr><th scope=row>79</th><td>1927590</td><td>1 </td><td>NA</td><td>NA</td><td>NA</td><td>1 </td><td>TRUE</td></tr>\n",
       "\t<tr><th scope=row>80</th><td>1939718</td><td>0 </td><td>NA</td><td>NA</td><td>NA</td><td>0 </td><td>TRUE</td></tr>\n",
       "\t<tr><th scope=row>81</th><td>1964503</td><td>0 </td><td>NA</td><td>NA</td><td>NA</td><td>0 </td><td>TRUE</td></tr>\n",
       "\t<tr><th scope=row>82</th><td>1972962</td><td>0 </td><td>NA</td><td>NA</td><td>NA</td><td>0 </td><td>TRUE</td></tr>\n",
       "\t<tr><th scope=row>83</th><td>1977859</td><td>NA</td><td>NA</td><td>NA</td><td>NA</td><td>  </td><td>TRUE</td></tr>\n",
       "\t<tr><th scope=row>84</th><td>1981696</td><td>1 </td><td>NA</td><td>NA</td><td>NA</td><td>1 </td><td>TRUE</td></tr>\n",
       "\t<tr><th scope=row>85</th><td>1992162</td><td>1 </td><td>NA</td><td>NA</td><td>NA</td><td>1 </td><td>TRUE</td></tr>\n",
       "\t<tr><th scope=row>86</th><td>2028398</td><td>1 </td><td>NA</td><td>NA</td><td>NA</td><td>1 </td><td>TRUE</td></tr>\n",
       "\t<tr><th scope=row>87</th><td>2029410</td><td>0 </td><td>NA</td><td>NA</td><td>NA</td><td>0 </td><td>TRUE</td></tr>\n",
       "\t<tr><th scope=row>88</th><td>2045176</td><td>1 </td><td>NA</td><td>NA</td><td>NA</td><td>1 </td><td>TRUE</td></tr>\n",
       "\t<tr><th scope=row>89</th><td>2049327</td><td>0 </td><td>NA</td><td>NA</td><td>NA</td><td>0 </td><td>TRUE</td></tr>\n",
       "\t<tr><th scope=row>90</th><td>2057506</td><td>NA</td><td>1 </td><td>NA</td><td>NA</td><td>1 </td><td>TRUE</td></tr>\n",
       "\t<tr><th scope=row>91</th><td>2075131</td><td>NA</td><td>NA</td><td>NA</td><td>NA</td><td>  </td><td>TRUE</td></tr>\n",
       "\t<tr><th scope=row>92</th><td>2086504</td><td>0 </td><td>1 </td><td>NA</td><td>NA</td><td>01</td><td>TRUE</td></tr>\n",
       "\t<tr><th scope=row>93</th><td>2100731</td><td>1 </td><td>NA</td><td>NA</td><td>NA</td><td>1 </td><td>TRUE</td></tr>\n",
       "\t<tr><th scope=row>94</th><td>2138928</td><td>1 </td><td>NA</td><td>NA</td><td>NA</td><td>1 </td><td>TRUE</td></tr>\n",
       "\t<tr><th scope=row>95</th><td>2155044</td><td>1 </td><td>NA</td><td>NA</td><td>NA</td><td>1 </td><td>TRUE</td></tr>\n",
       "\t<tr><th scope=row>96</th><td>2195230</td><td>NA</td><td>NA</td><td>NA</td><td>NA</td><td>  </td><td>TRUE</td></tr>\n",
       "\t<tr><th scope=row>97</th><td>2219954</td><td>1 </td><td>NA</td><td>NA</td><td>NA</td><td>1 </td><td>TRUE</td></tr>\n",
       "\t<tr><th scope=row>98</th><td>2230636</td><td>1 </td><td>NA</td><td>NA</td><td>NA</td><td>1 </td><td>TRUE</td></tr>\n",
       "\t<tr><th scope=row>99</th><td>2246600</td><td>0 </td><td>NA</td><td>NA</td><td>NA</td><td>0 </td><td>TRUE</td></tr>\n",
       "\t<tr><th scope=row>100</th><td>2257215</td><td>0 </td><td>NA</td><td>NA</td><td>NA</td><td>0 </td><td>TRUE</td></tr>\n",
       "</tbody>\n",
       "</table>\n"
      ],
      "text/latex": [
       "A data.frame: 100 × 7\n",
       "\\begin{tabular}{r|lllllll}\n",
       "  & IID & f.3393.0.0\\_recode & f.3393.1.0\\_recode & f.3393.2.0\\_recode & f.3393.3.0\\_recode & visit & z974\\_include\\\\\n",
       "  & <int> & <fct> & <fct> & <fct> & <fct> & <chr> & <lgl>\\\\\n",
       "\\hline\n",
       "\t1 & 1001459 & 1 & NA & NA & NA & 1  & TRUE\\\\\n",
       "\t2 & 1002806 & 0 & NA & NA & NA & 0  & TRUE\\\\\n",
       "\t3 & 1006612 & 1 & NA & NA & NA & 1  & TRUE\\\\\n",
       "\t4 & 1011139 & 0 & NA & NA & NA & 0  & TRUE\\\\\n",
       "\t5 & 1018253 & 0 & 1  & NA & NA & 01 & TRUE\\\\\n",
       "\t6 & 1019013 & 0 & NA & NA & NA & 0  & TRUE\\\\\n",
       "\t7 & 1064873 & 1 & NA & NA & NA & 1  & TRUE\\\\\n",
       "\t8 & 1069074 & 0 & NA & NA & NA & 0  & TRUE\\\\\n",
       "\t9 & 1084042 & 1 & NA & NA & NA & 1  & TRUE\\\\\n",
       "\t10 & 1089526 & 0 & NA & NA & NA & 0  & TRUE\\\\\n",
       "\t11 & 1140560 & 1 & NA & NA & NA & 1  & TRUE\\\\\n",
       "\t12 & 1141212 & 1 & NA & NA & NA & 1  & TRUE\\\\\n",
       "\t13 & 1148586 & 0 & NA & NA & NA & 0  & TRUE\\\\\n",
       "\t14 & 1168646 & 0 & NA & NA & NA & 0  & TRUE\\\\\n",
       "\t15 & 1206628 & 0 & 1  & NA & NA & 01 & TRUE\\\\\n",
       "\t16 & 1211050 & 0 & NA & NA & NA & 0  & TRUE\\\\\n",
       "\t17 & 1212854 & 1 & NA & NA & NA & 1  & TRUE\\\\\n",
       "\t18 & 1215421 & 0 & NA & NA & NA & 0  & TRUE\\\\\n",
       "\t19 & 1233549 & 0 & NA & NA & NA & 0  & TRUE\\\\\n",
       "\t20 & 1274154 & 0 & NA & NA & NA & 0  & TRUE\\\\\n",
       "\t21 & 1287971 & 1 & NA & NA & NA & 1  & TRUE\\\\\n",
       "\t22 & 1290793 & 1 & NA & NA & NA & 1  & TRUE\\\\\n",
       "\t23 & 1293675 & 1 & NA & NA & NA & 1  & TRUE\\\\\n",
       "\t24 & 1300277 & 1 & 1  & NA & NA & 11 & TRUE\\\\\n",
       "\t25 & 1302179 & 1 & NA & NA & NA & 1  & TRUE\\\\\n",
       "\t26 & 1322113 & 0 & NA & NA & NA & 0  & TRUE\\\\\n",
       "\t27 & 1357155 & 0 & NA & NA & NA & 0  & TRUE\\\\\n",
       "\t28 & 1361864 & 1 & NA & NA & NA & 1  & TRUE\\\\\n",
       "\t29 & 1372161 & 1 & NA & NA & NA & 1  & TRUE\\\\\n",
       "\t30 & 1376006 & 1 & NA & NA & NA & 1  & TRUE\\\\\n",
       "\t⋮ & ⋮ & ⋮ & ⋮ & ⋮ & ⋮ & ⋮ & ⋮\\\\\n",
       "\t71 & 1872434 & 0  & NA & NA & NA & 0  & TRUE\\\\\n",
       "\t72 & 1873610 & 1  & NA & NA & NA & 1  & TRUE\\\\\n",
       "\t73 & 1875243 & 0  & NA & NA & NA & 0  & TRUE\\\\\n",
       "\t74 & 1879382 & 1  & 1  & NA & NA & 11 & TRUE\\\\\n",
       "\t75 & 1889971 & 0  & NA & NA & NA & 0  & TRUE\\\\\n",
       "\t76 & 1899772 & 1  & NA & NA & NA & 1  & TRUE\\\\\n",
       "\t77 & 1914640 & 0  & NA & NA & NA & 0  & TRUE\\\\\n",
       "\t78 & 1915924 & 0  & NA & NA & NA & 0  & TRUE\\\\\n",
       "\t79 & 1927590 & 1  & NA & NA & NA & 1  & TRUE\\\\\n",
       "\t80 & 1939718 & 0  & NA & NA & NA & 0  & TRUE\\\\\n",
       "\t81 & 1964503 & 0  & NA & NA & NA & 0  & TRUE\\\\\n",
       "\t82 & 1972962 & 0  & NA & NA & NA & 0  & TRUE\\\\\n",
       "\t83 & 1977859 & NA & NA & NA & NA &    & TRUE\\\\\n",
       "\t84 & 1981696 & 1  & NA & NA & NA & 1  & TRUE\\\\\n",
       "\t85 & 1992162 & 1  & NA & NA & NA & 1  & TRUE\\\\\n",
       "\t86 & 2028398 & 1  & NA & NA & NA & 1  & TRUE\\\\\n",
       "\t87 & 2029410 & 0  & NA & NA & NA & 0  & TRUE\\\\\n",
       "\t88 & 2045176 & 1  & NA & NA & NA & 1  & TRUE\\\\\n",
       "\t89 & 2049327 & 0  & NA & NA & NA & 0  & TRUE\\\\\n",
       "\t90 & 2057506 & NA & 1  & NA & NA & 1  & TRUE\\\\\n",
       "\t91 & 2075131 & NA & NA & NA & NA &    & TRUE\\\\\n",
       "\t92 & 2086504 & 0  & 1  & NA & NA & 01 & TRUE\\\\\n",
       "\t93 & 2100731 & 1  & NA & NA & NA & 1  & TRUE\\\\\n",
       "\t94 & 2138928 & 1  & NA & NA & NA & 1  & TRUE\\\\\n",
       "\t95 & 2155044 & 1  & NA & NA & NA & 1  & TRUE\\\\\n",
       "\t96 & 2195230 & NA & NA & NA & NA &    & TRUE\\\\\n",
       "\t97 & 2219954 & 1  & NA & NA & NA & 1  & TRUE\\\\\n",
       "\t98 & 2230636 & 1  & NA & NA & NA & 1  & TRUE\\\\\n",
       "\t99 & 2246600 & 0  & NA & NA & NA & 0  & TRUE\\\\\n",
       "\t100 & 2257215 & 0  & NA & NA & NA & 0  & TRUE\\\\\n",
       "\\end{tabular}\n"
      ],
      "text/markdown": [
       "\n",
       "A data.frame: 100 × 7\n",
       "\n",
       "| <!--/--> | IID &lt;int&gt; | f.3393.0.0_recode &lt;fct&gt; | f.3393.1.0_recode &lt;fct&gt; | f.3393.2.0_recode &lt;fct&gt; | f.3393.3.0_recode &lt;fct&gt; | visit &lt;chr&gt; | z974_include &lt;lgl&gt; |\n",
       "|---|---|---|---|---|---|---|---|\n",
       "| 1 | 1001459 | 1 | NA | NA | NA | 1  | TRUE |\n",
       "| 2 | 1002806 | 0 | NA | NA | NA | 0  | TRUE |\n",
       "| 3 | 1006612 | 1 | NA | NA | NA | 1  | TRUE |\n",
       "| 4 | 1011139 | 0 | NA | NA | NA | 0  | TRUE |\n",
       "| 5 | 1018253 | 0 | 1  | NA | NA | 01 | TRUE |\n",
       "| 6 | 1019013 | 0 | NA | NA | NA | 0  | TRUE |\n",
       "| 7 | 1064873 | 1 | NA | NA | NA | 1  | TRUE |\n",
       "| 8 | 1069074 | 0 | NA | NA | NA | 0  | TRUE |\n",
       "| 9 | 1084042 | 1 | NA | NA | NA | 1  | TRUE |\n",
       "| 10 | 1089526 | 0 | NA | NA | NA | 0  | TRUE |\n",
       "| 11 | 1140560 | 1 | NA | NA | NA | 1  | TRUE |\n",
       "| 12 | 1141212 | 1 | NA | NA | NA | 1  | TRUE |\n",
       "| 13 | 1148586 | 0 | NA | NA | NA | 0  | TRUE |\n",
       "| 14 | 1168646 | 0 | NA | NA | NA | 0  | TRUE |\n",
       "| 15 | 1206628 | 0 | 1  | NA | NA | 01 | TRUE |\n",
       "| 16 | 1211050 | 0 | NA | NA | NA | 0  | TRUE |\n",
       "| 17 | 1212854 | 1 | NA | NA | NA | 1  | TRUE |\n",
       "| 18 | 1215421 | 0 | NA | NA | NA | 0  | TRUE |\n",
       "| 19 | 1233549 | 0 | NA | NA | NA | 0  | TRUE |\n",
       "| 20 | 1274154 | 0 | NA | NA | NA | 0  | TRUE |\n",
       "| 21 | 1287971 | 1 | NA | NA | NA | 1  | TRUE |\n",
       "| 22 | 1290793 | 1 | NA | NA | NA | 1  | TRUE |\n",
       "| 23 | 1293675 | 1 | NA | NA | NA | 1  | TRUE |\n",
       "| 24 | 1300277 | 1 | 1  | NA | NA | 11 | TRUE |\n",
       "| 25 | 1302179 | 1 | NA | NA | NA | 1  | TRUE |\n",
       "| 26 | 1322113 | 0 | NA | NA | NA | 0  | TRUE |\n",
       "| 27 | 1357155 | 0 | NA | NA | NA | 0  | TRUE |\n",
       "| 28 | 1361864 | 1 | NA | NA | NA | 1  | TRUE |\n",
       "| 29 | 1372161 | 1 | NA | NA | NA | 1  | TRUE |\n",
       "| 30 | 1376006 | 1 | NA | NA | NA | 1  | TRUE |\n",
       "| ⋮ | ⋮ | ⋮ | ⋮ | ⋮ | ⋮ | ⋮ | ⋮ |\n",
       "| 71 | 1872434 | 0  | NA | NA | NA | 0  | TRUE |\n",
       "| 72 | 1873610 | 1  | NA | NA | NA | 1  | TRUE |\n",
       "| 73 | 1875243 | 0  | NA | NA | NA | 0  | TRUE |\n",
       "| 74 | 1879382 | 1  | 1  | NA | NA | 11 | TRUE |\n",
       "| 75 | 1889971 | 0  | NA | NA | NA | 0  | TRUE |\n",
       "| 76 | 1899772 | 1  | NA | NA | NA | 1  | TRUE |\n",
       "| 77 | 1914640 | 0  | NA | NA | NA | 0  | TRUE |\n",
       "| 78 | 1915924 | 0  | NA | NA | NA | 0  | TRUE |\n",
       "| 79 | 1927590 | 1  | NA | NA | NA | 1  | TRUE |\n",
       "| 80 | 1939718 | 0  | NA | NA | NA | 0  | TRUE |\n",
       "| 81 | 1964503 | 0  | NA | NA | NA | 0  | TRUE |\n",
       "| 82 | 1972962 | 0  | NA | NA | NA | 0  | TRUE |\n",
       "| 83 | 1977859 | NA | NA | NA | NA | <!----> | TRUE |\n",
       "| 84 | 1981696 | 1  | NA | NA | NA | 1  | TRUE |\n",
       "| 85 | 1992162 | 1  | NA | NA | NA | 1  | TRUE |\n",
       "| 86 | 2028398 | 1  | NA | NA | NA | 1  | TRUE |\n",
       "| 87 | 2029410 | 0  | NA | NA | NA | 0  | TRUE |\n",
       "| 88 | 2045176 | 1  | NA | NA | NA | 1  | TRUE |\n",
       "| 89 | 2049327 | 0  | NA | NA | NA | 0  | TRUE |\n",
       "| 90 | 2057506 | NA | 1  | NA | NA | 1  | TRUE |\n",
       "| 91 | 2075131 | NA | NA | NA | NA | <!----> | TRUE |\n",
       "| 92 | 2086504 | 0  | 1  | NA | NA | 01 | TRUE |\n",
       "| 93 | 2100731 | 1  | NA | NA | NA | 1  | TRUE |\n",
       "| 94 | 2138928 | 1  | NA | NA | NA | 1  | TRUE |\n",
       "| 95 | 2155044 | 1  | NA | NA | NA | 1  | TRUE |\n",
       "| 96 | 2195230 | NA | NA | NA | NA | <!----> | TRUE |\n",
       "| 97 | 2219954 | 1  | NA | NA | NA | 1  | TRUE |\n",
       "| 98 | 2230636 | 1  | NA | NA | NA | 1  | TRUE |\n",
       "| 99 | 2246600 | 0  | NA | NA | NA | 0  | TRUE |\n",
       "| 100 | 2257215 | 0  | NA | NA | NA | 0  | TRUE |\n",
       "\n"
      ],
      "text/plain": [
       "    IID     f.3393.0.0_recode f.3393.1.0_recode f.3393.2.0_recode\n",
       "1   1001459 1                 NA                NA               \n",
       "2   1002806 0                 NA                NA               \n",
       "3   1006612 1                 NA                NA               \n",
       "4   1011139 0                 NA                NA               \n",
       "5   1018253 0                 1                 NA               \n",
       "6   1019013 0                 NA                NA               \n",
       "7   1064873 1                 NA                NA               \n",
       "8   1069074 0                 NA                NA               \n",
       "9   1084042 1                 NA                NA               \n",
       "10  1089526 0                 NA                NA               \n",
       "11  1140560 1                 NA                NA               \n",
       "12  1141212 1                 NA                NA               \n",
       "13  1148586 0                 NA                NA               \n",
       "14  1168646 0                 NA                NA               \n",
       "15  1206628 0                 1                 NA               \n",
       "16  1211050 0                 NA                NA               \n",
       "17  1212854 1                 NA                NA               \n",
       "18  1215421 0                 NA                NA               \n",
       "19  1233549 0                 NA                NA               \n",
       "20  1274154 0                 NA                NA               \n",
       "21  1287971 1                 NA                NA               \n",
       "22  1290793 1                 NA                NA               \n",
       "23  1293675 1                 NA                NA               \n",
       "24  1300277 1                 1                 NA               \n",
       "25  1302179 1                 NA                NA               \n",
       "26  1322113 0                 NA                NA               \n",
       "27  1357155 0                 NA                NA               \n",
       "28  1361864 1                 NA                NA               \n",
       "29  1372161 1                 NA                NA               \n",
       "30  1376006 1                 NA                NA               \n",
       "⋮   ⋮       ⋮                 ⋮                 ⋮                \n",
       "71  1872434 0                 NA                NA               \n",
       "72  1873610 1                 NA                NA               \n",
       "73  1875243 0                 NA                NA               \n",
       "74  1879382 1                 1                 NA               \n",
       "75  1889971 0                 NA                NA               \n",
       "76  1899772 1                 NA                NA               \n",
       "77  1914640 0                 NA                NA               \n",
       "78  1915924 0                 NA                NA               \n",
       "79  1927590 1                 NA                NA               \n",
       "80  1939718 0                 NA                NA               \n",
       "81  1964503 0                 NA                NA               \n",
       "82  1972962 0                 NA                NA               \n",
       "83  1977859 NA                NA                NA               \n",
       "84  1981696 1                 NA                NA               \n",
       "85  1992162 1                 NA                NA               \n",
       "86  2028398 1                 NA                NA               \n",
       "87  2029410 0                 NA                NA               \n",
       "88  2045176 1                 NA                NA               \n",
       "89  2049327 0                 NA                NA               \n",
       "90  2057506 NA                1                 NA               \n",
       "91  2075131 NA                NA                NA               \n",
       "92  2086504 0                 1                 NA               \n",
       "93  2100731 1                 NA                NA               \n",
       "94  2138928 1                 NA                NA               \n",
       "95  2155044 1                 NA                NA               \n",
       "96  2195230 NA                NA                NA               \n",
       "97  2219954 1                 NA                NA               \n",
       "98  2230636 1                 NA                NA               \n",
       "99  2246600 0                 NA                NA               \n",
       "100 2257215 0                 NA                NA               \n",
       "    f.3393.3.0_recode visit z974_include\n",
       "1   NA                1     TRUE        \n",
       "2   NA                0     TRUE        \n",
       "3   NA                1     TRUE        \n",
       "4   NA                0     TRUE        \n",
       "5   NA                01    TRUE        \n",
       "6   NA                0     TRUE        \n",
       "7   NA                1     TRUE        \n",
       "8   NA                0     TRUE        \n",
       "9   NA                1     TRUE        \n",
       "10  NA                0     TRUE        \n",
       "11  NA                1     TRUE        \n",
       "12  NA                1     TRUE        \n",
       "13  NA                0     TRUE        \n",
       "14  NA                0     TRUE        \n",
       "15  NA                01    TRUE        \n",
       "16  NA                0     TRUE        \n",
       "17  NA                1     TRUE        \n",
       "18  NA                0     TRUE        \n",
       "19  NA                0     TRUE        \n",
       "20  NA                0     TRUE        \n",
       "21  NA                1     TRUE        \n",
       "22  NA                1     TRUE        \n",
       "23  NA                1     TRUE        \n",
       "24  NA                11    TRUE        \n",
       "25  NA                1     TRUE        \n",
       "26  NA                0     TRUE        \n",
       "27  NA                0     TRUE        \n",
       "28  NA                1     TRUE        \n",
       "29  NA                1     TRUE        \n",
       "30  NA                1     TRUE        \n",
       "⋮   ⋮                 ⋮     ⋮           \n",
       "71  NA                0     TRUE        \n",
       "72  NA                1     TRUE        \n",
       "73  NA                0     TRUE        \n",
       "74  NA                11    TRUE        \n",
       "75  NA                0     TRUE        \n",
       "76  NA                1     TRUE        \n",
       "77  NA                0     TRUE        \n",
       "78  NA                0     TRUE        \n",
       "79  NA                1     TRUE        \n",
       "80  NA                0     TRUE        \n",
       "81  NA                0     TRUE        \n",
       "82  NA                0     TRUE        \n",
       "83  NA                      TRUE        \n",
       "84  NA                1     TRUE        \n",
       "85  NA                1     TRUE        \n",
       "86  NA                1     TRUE        \n",
       "87  NA                0     TRUE        \n",
       "88  NA                1     TRUE        \n",
       "89  NA                0     TRUE        \n",
       "90  NA                1     TRUE        \n",
       "91  NA                      TRUE        \n",
       "92  NA                01    TRUE        \n",
       "93  NA                1     TRUE        \n",
       "94  NA                1     TRUE        \n",
       "95  NA                1     TRUE        \n",
       "96  NA                      TRUE        \n",
       "97  NA                1     TRUE        \n",
       "98  NA                1     TRUE        \n",
       "99  NA                0     TRUE        \n",
       "100 NA                0     TRUE        "
      ]
     },
     "metadata": {},
     "output_type": "display_data"
    },
    {
     "data": {
      "text/html": [
       "380"
      ],
      "text/latex": [
       "380"
      ],
      "text/markdown": [
       "380"
      ],
      "text/plain": [
       "[1] 380"
      ]
     },
     "metadata": {},
     "output_type": "display_data"
    }
   ],
   "source": [
    "merge_icd10_aid_f3393 <- left_join(ICD10_z974, data_sub) \n",
    "data_sub_2 <- merge_icd10_aid_f3393 %>% select(\"IID\", ends_with(\"_recode\"), \"visit\", \"z974_include\") %>%\n",
    "    filter(z974_include == TRUE)\n",
    "head(data_sub_2, 100)\n",
    "nrow(data_sub_2)"
   ]
  },
  {
   "cell_type": "code",
   "execution_count": 37,
   "metadata": {
    "kernel": "R",
    "scrolled": true
   },
   "outputs": [
    {
     "data": {
      "text/html": [
       "30"
      ],
      "text/latex": [
       "30"
      ],
      "text/markdown": [
       "30"
      ],
      "text/plain": [
       "[1] 30"
      ]
     },
     "metadata": {},
     "output_type": "display_data"
    }
   ],
   "source": [
    "nrow(filter(data_sub_2, is.empty(visit) | visit == \"\"))"
   ]
  },
  {
   "cell_type": "markdown",
   "metadata": {
    "kernel": "R"
   },
   "source": [
    "## f.3393 Remove inconsistent cases"
   ]
  },
  {
   "cell_type": "code",
   "execution_count": 38,
   "metadata": {
    "kernel": "R"
   },
   "outputs": [
    {
     "name": "stdout",
     "output_type": "stream",
     "text": [
      "There are 137816 NAs, removed\n",
      "There are 155 inconsistent cases, removed"
     ]
    }
   ],
   "source": [
    "# get all the inconsistent cases:\n",
    "exceptions<-c(\"0001\",\"001\",\"0011\",\"01\",\"011\",\"0111\")\n",
    "inconsistent<-setdiff(might_inconsistent,exceptions)\n",
    "\n",
    "cat(\"There are\",length(which(is.empty(data_sub$visit))),\"NAs, removed\\n\")\n",
    "cat(\"There are\",length(which(data_sub$visit%in%inconsistent)),\"inconsistent cases, removed\")"
   ]
  },
  {
   "cell_type": "code",
   "execution_count": 39,
   "metadata": {
    "kernel": "R"
   },
   "outputs": [
    {
     "data": {
      "text/html": [
       "155"
      ],
      "text/latex": [
       "155"
      ],
      "text/markdown": [
       "155"
      ],
      "text/plain": [
       "[1] 155"
      ]
     },
     "metadata": {},
     "output_type": "display_data"
    },
    {
     "data": {
      "text/html": [
       "137816"
      ],
      "text/latex": [
       "137816"
      ],
      "text/markdown": [
       "137816"
      ],
      "text/plain": [
       "[1] 137816"
      ]
     },
     "metadata": {},
     "output_type": "display_data"
    }
   ],
   "source": [
    "# which of the individuals are inconsistent for f.3393 in the full dataset\n",
    "inconsistent_f3393  <- data_sub %>%\n",
    "  filter((visit%in%inconsistent)) %>%\n",
    "  select(IID)\n",
    "nrow(inconsistent_f3393)\n",
    "# which individuals have empty values for f.3393 in the full dataset\n",
    "empty_f3393  <- data_sub %>%\n",
    "  filter((is.empty(visit))) %>%\n",
    "  select(IID)\n",
    "nrow(empty_f3393)"
   ]
  },
  {
   "cell_type": "code",
   "execution_count": 40,
   "metadata": {
    "kernel": "R"
   },
   "outputs": [
    {
     "data": {
      "text/html": [
       "0"
      ],
      "text/latex": [
       "0"
      ],
      "text/markdown": [
       "0"
      ],
      "text/plain": [
       "[1] 0"
      ]
     },
     "metadata": {},
     "output_type": "display_data"
    }
   ],
   "source": [
    "# How many of the individuals have Z97.4 field and are inconsistent according to f.3393 data\n",
    "length(which(merge_icd10_aid_f3393$IID%in%inconsistent_f3393$IID))"
   ]
  },
  {
   "cell_type": "code",
   "execution_count": 49,
   "metadata": {
    "kernel": "R"
   },
   "outputs": [
    {
     "data": {
      "text/html": [
       "<table>\n",
       "<caption>A data.frame: 6 × 1</caption>\n",
       "<thead>\n",
       "\t<tr><th></th><th scope=col>IID</th></tr>\n",
       "\t<tr><th></th><th scope=col>&lt;int&gt;</th></tr>\n",
       "</thead>\n",
       "<tbody>\n",
       "\t<tr><th scope=row>1</th><td>1421064</td></tr>\n",
       "\t<tr><th scope=row>2</th><td>1497578</td></tr>\n",
       "\t<tr><th scope=row>3</th><td>1637509</td></tr>\n",
       "\t<tr><th scope=row>4</th><td>1648454</td></tr>\n",
       "\t<tr><th scope=row>5</th><td>1689328</td></tr>\n",
       "\t<tr><th scope=row>6</th><td>1706558</td></tr>\n",
       "</tbody>\n",
       "</table>\n"
      ],
      "text/latex": [
       "A data.frame: 6 × 1\n",
       "\\begin{tabular}{r|l}\n",
       "  & IID\\\\\n",
       "  & <int>\\\\\n",
       "\\hline\n",
       "\t1 & 1421064\\\\\n",
       "\t2 & 1497578\\\\\n",
       "\t3 & 1637509\\\\\n",
       "\t4 & 1648454\\\\\n",
       "\t5 & 1689328\\\\\n",
       "\t6 & 1706558\\\\\n",
       "\\end{tabular}\n"
      ],
      "text/markdown": [
       "\n",
       "A data.frame: 6 × 1\n",
       "\n",
       "| <!--/--> | IID &lt;int&gt; |\n",
       "|---|---|\n",
       "| 1 | 1421064 |\n",
       "| 2 | 1497578 |\n",
       "| 3 | 1637509 |\n",
       "| 4 | 1648454 |\n",
       "| 5 | 1689328 |\n",
       "| 6 | 1706558 |\n",
       "\n"
      ],
      "text/plain": [
       "  IID    \n",
       "1 1421064\n",
       "2 1497578\n",
       "3 1637509\n",
       "4 1648454\n",
       "5 1689328\n",
       "6 1706558"
      ]
     },
     "metadata": {},
     "output_type": "display_data"
    },
    {
     "data": {
      "text/html": [
       "30"
      ],
      "text/latex": [
       "30"
      ],
      "text/markdown": [
       "30"
      ],
      "text/plain": [
       "[1] 30"
      ]
     },
     "metadata": {},
     "output_type": "display_data"
    }
   ],
   "source": [
    "# How many of the individuals have Z97.4 field and have empty data for f.3393\n",
    "to_keep_icd10 <- merge_icd10_aid_f3393 %>%\n",
    "    filter(IID%in%empty_f3393$IID) %>%\n",
    "    select(IID)\n",
    "head(to_keep_icd10)\n",
    "nrow(to_keep_icd10)"
   ]
  },
  {
   "cell_type": "code",
   "execution_count": 44,
   "metadata": {
    "kernel": "R"
   },
   "outputs": [
    {
     "data": {
      "text/html": [
       "137786"
      ],
      "text/latex": [
       "137786"
      ],
      "text/markdown": [
       "137786"
      ],
      "text/plain": [
       "[1] 137786"
      ]
     },
     "metadata": {},
     "output_type": "display_data"
    }
   ],
   "source": [
    "# Filter out the 30 individuals from the set of those with empty values for f.3393\n",
    "to_remove_na<-setdiff(empty_f3393,to_keep_icd10)\n",
    "nrow(to_remove_na)"
   ]
  },
  {
   "cell_type": "code",
   "execution_count": 48,
   "metadata": {
    "kernel": "R"
   },
   "outputs": [
    {
     "data": {
      "text/html": [
       "<style>\n",
       ".list-inline {list-style: none; margin:0; padding: 0}\n",
       ".list-inline>li {display: inline-block}\n",
       ".list-inline>li:not(:last-child)::after {content: \"\\00b7\"; padding: 0 .5ex}\n",
       "</style>\n",
       "<ol class=list-inline><li>259033</li><li>1</li></ol>\n"
      ],
      "text/latex": [
       "\\begin{enumerate*}\n",
       "\\item 259033\n",
       "\\item 1\n",
       "\\end{enumerate*}\n"
      ],
      "text/markdown": [
       "1. 259033\n",
       "2. 1\n",
       "\n",
       "\n"
      ],
      "text/plain": [
       "[1] 259033      1"
      ]
     },
     "metadata": {},
     "output_type": "display_data"
    }
   ],
   "source": [
    "# removed those with NAs and inconsistent cases: we are left with #230,437 individuals\n",
    "IID_hearing_aid<-data_sub %>%\n",
    "  filter(!(IID%in%to_remove_na$IID)) %>%\n",
    "  filter((!visit%in%inconsistent)) %>%\n",
    "  select(IID)\n",
    "\n",
    "dim(IID_hearing_aid)"
   ]
  },
  {
   "cell_type": "code",
   "execution_count": 50,
   "metadata": {
    "kernel": "R"
   },
   "outputs": [
    {
     "name": "stdout",
     "output_type": "stream",
     "text": [
      "After removing all the NAs and inconsistent cases, there are 259033  individuals left"
     ]
    }
   ],
   "source": [
    "IID_hearing_aid<-IID_hearing_aid[,1]\n",
    "cat(\"After removing all the NAs and inconsistent cases, there are\",length(IID_hearing_aid),\" individuals left\")"
   ]
  },
  {
   "cell_type": "code",
   "execution_count": 51,
   "metadata": {
    "kernel": "R"
   },
   "outputs": [
    {
     "data": {
      "text/html": [
       "<style>\n",
       ".list-inline {list-style: none; margin:0; padding: 0}\n",
       ".list-inline>li {display: inline-block}\n",
       ".list-inline>li:not(:last-child)::after {content: \"\\00b7\"; padding: 0 .5ex}\n",
       "</style>\n",
       "<ol class=list-inline><li>259033</li><li>2267</li></ol>\n"
      ],
      "text/latex": [
       "\\begin{enumerate*}\n",
       "\\item 259033\n",
       "\\item 2267\n",
       "\\end{enumerate*}\n"
      ],
      "text/markdown": [
       "1. 259033\n",
       "2. 2267\n",
       "\n",
       "\n"
      ],
      "text/plain": [
       "[1] 259033   2267"
      ]
     },
     "metadata": {},
     "output_type": "display_data"
    }
   ],
   "source": [
    "# get the dataset after cleansing: \n",
    "df.hearing.aid<-df.final.imp %>%\n",
    "  filter(IID%in%IID_hearing_aid)\n",
    "\n",
    "dim(df.hearing.aid)"
   ]
  },
  {
   "cell_type": "markdown",
   "metadata": {
    "kernel": "SoS"
   },
   "source": [
    "## f.3393 Step 1: classify cases and controls"
   ]
  },
  {
   "cell_type": "code",
   "execution_count": 52,
   "metadata": {
    "kernel": "R"
   },
   "outputs": [
    {
     "data": {
      "text/html": [
       "<table>\n",
       "<caption>A data.frame: 6 × 12</caption>\n",
       "<thead>\n",
       "\t<tr><th></th><th scope=col>IID</th><th scope=col>FID</th><th scope=col>f.22001.0.0</th><th scope=col>f.21003.0.0</th><th scope=col>f.21003.1.0</th><th scope=col>f.21003.2.0</th><th scope=col>f.21003.3.0</th><th scope=col>f.3393.0.0_recode</th><th scope=col>f.3393.1.0_recode</th><th scope=col>f.3393.2.0_recode</th><th scope=col>f.3393.3.0_recode</th><th scope=col>z974_include</th></tr>\n",
       "\t<tr><th></th><th scope=col>&lt;int&gt;</th><th scope=col>&lt;int&gt;</th><th scope=col>&lt;fct&gt;</th><th scope=col>&lt;int&gt;</th><th scope=col>&lt;int&gt;</th><th scope=col>&lt;int&gt;</th><th scope=col>&lt;int&gt;</th><th scope=col>&lt;fct&gt;</th><th scope=col>&lt;fct&gt;</th><th scope=col>&lt;fct&gt;</th><th scope=col>&lt;fct&gt;</th><th scope=col>&lt;lgl&gt;</th></tr>\n",
       "</thead>\n",
       "<tbody>\n",
       "\t<tr><th scope=row>1</th><td>1000019</td><td>1000019</td><td>Female</td><td>47</td><td>NA</td><td>NA</td><td>NA</td><td>0 </td><td>NA</td><td>NA</td><td>NA</td><td>FALSE</td></tr>\n",
       "\t<tr><th scope=row>2</th><td>1000022</td><td>1000022</td><td>Male  </td><td>53</td><td>NA</td><td>NA</td><td>NA</td><td>0 </td><td>NA</td><td>NA</td><td>NA</td><td>FALSE</td></tr>\n",
       "\t<tr><th scope=row>3</th><td>1000035</td><td>1000035</td><td>Male  </td><td>63</td><td>NA</td><td>NA</td><td>NA</td><td>0 </td><td>NA</td><td>NA</td><td>NA</td><td>FALSE</td></tr>\n",
       "\t<tr><th scope=row>4</th><td>1000046</td><td>1000046</td><td>Female</td><td>62</td><td>NA</td><td>73</td><td>NA</td><td>NA</td><td>NA</td><td>0 </td><td>NA</td><td>FALSE</td></tr>\n",
       "\t<tr><th scope=row>5</th><td>1000054</td><td>1000054</td><td>Female</td><td>65</td><td>NA</td><td>NA</td><td>NA</td><td>0 </td><td>NA</td><td>NA</td><td>NA</td><td>FALSE</td></tr>\n",
       "\t<tr><th scope=row>6</th><td>1000063</td><td>1000063</td><td>Male  </td><td>43</td><td>NA</td><td>NA</td><td>NA</td><td>0 </td><td>NA</td><td>NA</td><td>NA</td><td>FALSE</td></tr>\n",
       "</tbody>\n",
       "</table>\n"
      ],
      "text/latex": [
       "A data.frame: 6 × 12\n",
       "\\begin{tabular}{r|llllllllllll}\n",
       "  & IID & FID & f.22001.0.0 & f.21003.0.0 & f.21003.1.0 & f.21003.2.0 & f.21003.3.0 & f.3393.0.0\\_recode & f.3393.1.0\\_recode & f.3393.2.0\\_recode & f.3393.3.0\\_recode & z974\\_include\\\\\n",
       "  & <int> & <int> & <fct> & <int> & <int> & <int> & <int> & <fct> & <fct> & <fct> & <fct> & <lgl>\\\\\n",
       "\\hline\n",
       "\t1 & 1000019 & 1000019 & Female & 47 & NA & NA & NA & 0  & NA & NA & NA & FALSE\\\\\n",
       "\t2 & 1000022 & 1000022 & Male   & 53 & NA & NA & NA & 0  & NA & NA & NA & FALSE\\\\\n",
       "\t3 & 1000035 & 1000035 & Male   & 63 & NA & NA & NA & 0  & NA & NA & NA & FALSE\\\\\n",
       "\t4 & 1000046 & 1000046 & Female & 62 & NA & 73 & NA & NA & NA & 0  & NA & FALSE\\\\\n",
       "\t5 & 1000054 & 1000054 & Female & 65 & NA & NA & NA & 0  & NA & NA & NA & FALSE\\\\\n",
       "\t6 & 1000063 & 1000063 & Male   & 43 & NA & NA & NA & 0  & NA & NA & NA & FALSE\\\\\n",
       "\\end{tabular}\n"
      ],
      "text/markdown": [
       "\n",
       "A data.frame: 6 × 12\n",
       "\n",
       "| <!--/--> | IID &lt;int&gt; | FID &lt;int&gt; | f.22001.0.0 &lt;fct&gt; | f.21003.0.0 &lt;int&gt; | f.21003.1.0 &lt;int&gt; | f.21003.2.0 &lt;int&gt; | f.21003.3.0 &lt;int&gt; | f.3393.0.0_recode &lt;fct&gt; | f.3393.1.0_recode &lt;fct&gt; | f.3393.2.0_recode &lt;fct&gt; | f.3393.3.0_recode &lt;fct&gt; | z974_include &lt;lgl&gt; |\n",
       "|---|---|---|---|---|---|---|---|---|---|---|---|---|\n",
       "| 1 | 1000019 | 1000019 | Female | 47 | NA | NA | NA | 0  | NA | NA | NA | FALSE |\n",
       "| 2 | 1000022 | 1000022 | Male   | 53 | NA | NA | NA | 0  | NA | NA | NA | FALSE |\n",
       "| 3 | 1000035 | 1000035 | Male   | 63 | NA | NA | NA | 0  | NA | NA | NA | FALSE |\n",
       "| 4 | 1000046 | 1000046 | Female | 62 | NA | 73 | NA | NA | NA | 0  | NA | FALSE |\n",
       "| 5 | 1000054 | 1000054 | Female | 65 | NA | NA | NA | 0  | NA | NA | NA | FALSE |\n",
       "| 6 | 1000063 | 1000063 | Male   | 43 | NA | NA | NA | 0  | NA | NA | NA | FALSE |\n",
       "\n"
      ],
      "text/plain": [
       "  IID     FID     f.22001.0.0 f.21003.0.0 f.21003.1.0 f.21003.2.0 f.21003.3.0\n",
       "1 1000019 1000019 Female      47          NA          NA          NA         \n",
       "2 1000022 1000022 Male        53          NA          NA          NA         \n",
       "3 1000035 1000035 Male        63          NA          NA          NA         \n",
       "4 1000046 1000046 Female      62          NA          73          NA         \n",
       "5 1000054 1000054 Female      65          NA          NA          NA         \n",
       "6 1000063 1000063 Male        43          NA          NA          NA         \n",
       "  f.3393.0.0_recode f.3393.1.0_recode f.3393.2.0_recode f.3393.3.0_recode\n",
       "1 0                 NA                NA                NA               \n",
       "2 0                 NA                NA                NA               \n",
       "3 0                 NA                NA                NA               \n",
       "4 NA                NA                0                 NA               \n",
       "5 0                 NA                NA                NA               \n",
       "6 0                 NA                NA                NA               \n",
       "  z974_include\n",
       "1 FALSE       \n",
       "2 FALSE       \n",
       "3 FALSE       \n",
       "4 FALSE       \n",
       "5 FALSE       \n",
       "6 FALSE       "
      ]
     },
     "metadata": {},
     "output_type": "display_data"
    }
   ],
   "source": [
    "hearing_aid <- df.hearing.aid %>% \n",
    "  mutate(z974_include = apply(select(df.hearing.aid,starts_with(\"f.41270\")),1,function(x) any(x %in% c('Z974')))) %>%\n",
    "  select(IID,FID,f.22001.0.0, f.21003.0.0,f.21003.1.0,f.21003.2.0,f.21003.3.0,f.3393.0.0_recode,f.3393.1.0_recode,f.3393.2.0_recode,f.3393.3.0_recode,z974_include)\n",
    "head(hearing_aid)"
   ]
  },
  {
   "cell_type": "code",
   "execution_count": 53,
   "metadata": {
    "kernel": "R"
   },
   "outputs": [
    {
     "data": {
      "text/html": [
       "396974"
      ],
      "text/latex": [
       "396974"
      ],
      "text/markdown": [
       "396974"
      ],
      "text/plain": [
       "[1] 396974"
      ]
     },
     "metadata": {},
     "output_type": "display_data"
    }
   ],
   "source": [
    "nrow(data_sub)"
   ]
  },
  {
   "cell_type": "markdown",
   "metadata": {
    "kernel": "SoS"
   },
   "source": [
    "## Hearing aid f.3393"
   ]
  },
  {
   "cell_type": "code",
   "execution_count": 54,
   "metadata": {
    "kernel": "R"
   },
   "outputs": [
    {
     "data": {
      "text/html": [
       "<table>\n",
       "<caption>A data.frame: 10 × 13</caption>\n",
       "<thead>\n",
       "\t<tr><th></th><th scope=col>IID</th><th scope=col>FID</th><th scope=col>f.22001.0.0</th><th scope=col>f.21003.0.0</th><th scope=col>f.21003.1.0</th><th scope=col>f.21003.2.0</th><th scope=col>f.21003.3.0</th><th scope=col>f.3393.0.0_recode</th><th scope=col>f.3393.1.0_recode</th><th scope=col>f.3393.2.0_recode</th><th scope=col>f.3393.3.0_recode</th><th scope=col>z974_include</th><th scope=col>cases</th></tr>\n",
       "\t<tr><th></th><th scope=col>&lt;int&gt;</th><th scope=col>&lt;int&gt;</th><th scope=col>&lt;fct&gt;</th><th scope=col>&lt;int&gt;</th><th scope=col>&lt;int&gt;</th><th scope=col>&lt;int&gt;</th><th scope=col>&lt;int&gt;</th><th scope=col>&lt;fct&gt;</th><th scope=col>&lt;fct&gt;</th><th scope=col>&lt;fct&gt;</th><th scope=col>&lt;fct&gt;</th><th scope=col>&lt;lgl&gt;</th><th scope=col>&lt;lgl&gt;</th></tr>\n",
       "</thead>\n",
       "<tbody>\n",
       "\t<tr><th scope=row>1</th><td>1000019</td><td>1000019</td><td>Female</td><td>47</td><td>NA</td><td>NA</td><td>NA</td><td>0 </td><td>NA</td><td>NA</td><td>NA</td><td>FALSE</td><td>FALSE</td></tr>\n",
       "\t<tr><th scope=row>2</th><td>1000022</td><td>1000022</td><td>Male  </td><td>53</td><td>NA</td><td>NA</td><td>NA</td><td>0 </td><td>NA</td><td>NA</td><td>NA</td><td>FALSE</td><td>FALSE</td></tr>\n",
       "\t<tr><th scope=row>3</th><td>1000035</td><td>1000035</td><td>Male  </td><td>63</td><td>NA</td><td>NA</td><td>NA</td><td>0 </td><td>NA</td><td>NA</td><td>NA</td><td>FALSE</td><td>FALSE</td></tr>\n",
       "\t<tr><th scope=row>4</th><td>1000046</td><td>1000046</td><td>Female</td><td>62</td><td>NA</td><td>73</td><td>NA</td><td>NA</td><td>NA</td><td>0 </td><td>NA</td><td>FALSE</td><td>FALSE</td></tr>\n",
       "\t<tr><th scope=row>5</th><td>1000054</td><td>1000054</td><td>Female</td><td>65</td><td>NA</td><td>NA</td><td>NA</td><td>0 </td><td>NA</td><td>NA</td><td>NA</td><td>FALSE</td><td>FALSE</td></tr>\n",
       "\t<tr><th scope=row>6</th><td>1000063</td><td>1000063</td><td>Male  </td><td>43</td><td>NA</td><td>NA</td><td>NA</td><td>0 </td><td>NA</td><td>NA</td><td>NA</td><td>FALSE</td><td>FALSE</td></tr>\n",
       "\t<tr><th scope=row>7</th><td>1000078</td><td>1000078</td><td>Female</td><td>52</td><td>57</td><td>60</td><td>NA</td><td>NA</td><td>0 </td><td>0 </td><td>NA</td><td>FALSE</td><td>FALSE</td></tr>\n",
       "\t<tr><th scope=row>8</th><td>1000081</td><td>1000081</td><td>Male  </td><td>67</td><td>NA</td><td>NA</td><td>NA</td><td>0 </td><td>NA</td><td>NA</td><td>NA</td><td>FALSE</td><td>FALSE</td></tr>\n",
       "\t<tr><th scope=row>9</th><td>1000090</td><td>1000090</td><td>Female</td><td>64</td><td>NA</td><td>NA</td><td>NA</td><td>0 </td><td>NA</td><td>NA</td><td>NA</td><td>FALSE</td><td>FALSE</td></tr>\n",
       "\t<tr><th scope=row>10</th><td>1000105</td><td>1000105</td><td>Female</td><td>54</td><td>NA</td><td>NA</td><td>NA</td><td>0 </td><td>NA</td><td>NA</td><td>NA</td><td>FALSE</td><td>FALSE</td></tr>\n",
       "</tbody>\n",
       "</table>\n"
      ],
      "text/latex": [
       "A data.frame: 10 × 13\n",
       "\\begin{tabular}{r|lllllllllllll}\n",
       "  & IID & FID & f.22001.0.0 & f.21003.0.0 & f.21003.1.0 & f.21003.2.0 & f.21003.3.0 & f.3393.0.0\\_recode & f.3393.1.0\\_recode & f.3393.2.0\\_recode & f.3393.3.0\\_recode & z974\\_include & cases\\\\\n",
       "  & <int> & <int> & <fct> & <int> & <int> & <int> & <int> & <fct> & <fct> & <fct> & <fct> & <lgl> & <lgl>\\\\\n",
       "\\hline\n",
       "\t1 & 1000019 & 1000019 & Female & 47 & NA & NA & NA & 0  & NA & NA & NA & FALSE & FALSE\\\\\n",
       "\t2 & 1000022 & 1000022 & Male   & 53 & NA & NA & NA & 0  & NA & NA & NA & FALSE & FALSE\\\\\n",
       "\t3 & 1000035 & 1000035 & Male   & 63 & NA & NA & NA & 0  & NA & NA & NA & FALSE & FALSE\\\\\n",
       "\t4 & 1000046 & 1000046 & Female & 62 & NA & 73 & NA & NA & NA & 0  & NA & FALSE & FALSE\\\\\n",
       "\t5 & 1000054 & 1000054 & Female & 65 & NA & NA & NA & 0  & NA & NA & NA & FALSE & FALSE\\\\\n",
       "\t6 & 1000063 & 1000063 & Male   & 43 & NA & NA & NA & 0  & NA & NA & NA & FALSE & FALSE\\\\\n",
       "\t7 & 1000078 & 1000078 & Female & 52 & 57 & 60 & NA & NA & 0  & 0  & NA & FALSE & FALSE\\\\\n",
       "\t8 & 1000081 & 1000081 & Male   & 67 & NA & NA & NA & 0  & NA & NA & NA & FALSE & FALSE\\\\\n",
       "\t9 & 1000090 & 1000090 & Female & 64 & NA & NA & NA & 0  & NA & NA & NA & FALSE & FALSE\\\\\n",
       "\t10 & 1000105 & 1000105 & Female & 54 & NA & NA & NA & 0  & NA & NA & NA & FALSE & FALSE\\\\\n",
       "\\end{tabular}\n"
      ],
      "text/markdown": [
       "\n",
       "A data.frame: 10 × 13\n",
       "\n",
       "| <!--/--> | IID &lt;int&gt; | FID &lt;int&gt; | f.22001.0.0 &lt;fct&gt; | f.21003.0.0 &lt;int&gt; | f.21003.1.0 &lt;int&gt; | f.21003.2.0 &lt;int&gt; | f.21003.3.0 &lt;int&gt; | f.3393.0.0_recode &lt;fct&gt; | f.3393.1.0_recode &lt;fct&gt; | f.3393.2.0_recode &lt;fct&gt; | f.3393.3.0_recode &lt;fct&gt; | z974_include &lt;lgl&gt; | cases &lt;lgl&gt; |\n",
       "|---|---|---|---|---|---|---|---|---|---|---|---|---|---|\n",
       "| 1 | 1000019 | 1000019 | Female | 47 | NA | NA | NA | 0  | NA | NA | NA | FALSE | FALSE |\n",
       "| 2 | 1000022 | 1000022 | Male   | 53 | NA | NA | NA | 0  | NA | NA | NA | FALSE | FALSE |\n",
       "| 3 | 1000035 | 1000035 | Male   | 63 | NA | NA | NA | 0  | NA | NA | NA | FALSE | FALSE |\n",
       "| 4 | 1000046 | 1000046 | Female | 62 | NA | 73 | NA | NA | NA | 0  | NA | FALSE | FALSE |\n",
       "| 5 | 1000054 | 1000054 | Female | 65 | NA | NA | NA | 0  | NA | NA | NA | FALSE | FALSE |\n",
       "| 6 | 1000063 | 1000063 | Male   | 43 | NA | NA | NA | 0  | NA | NA | NA | FALSE | FALSE |\n",
       "| 7 | 1000078 | 1000078 | Female | 52 | 57 | 60 | NA | NA | 0  | 0  | NA | FALSE | FALSE |\n",
       "| 8 | 1000081 | 1000081 | Male   | 67 | NA | NA | NA | 0  | NA | NA | NA | FALSE | FALSE |\n",
       "| 9 | 1000090 | 1000090 | Female | 64 | NA | NA | NA | 0  | NA | NA | NA | FALSE | FALSE |\n",
       "| 10 | 1000105 | 1000105 | Female | 54 | NA | NA | NA | 0  | NA | NA | NA | FALSE | FALSE |\n",
       "\n"
      ],
      "text/plain": [
       "   IID     FID     f.22001.0.0 f.21003.0.0 f.21003.1.0 f.21003.2.0 f.21003.3.0\n",
       "1  1000019 1000019 Female      47          NA          NA          NA         \n",
       "2  1000022 1000022 Male        53          NA          NA          NA         \n",
       "3  1000035 1000035 Male        63          NA          NA          NA         \n",
       "4  1000046 1000046 Female      62          NA          73          NA         \n",
       "5  1000054 1000054 Female      65          NA          NA          NA         \n",
       "6  1000063 1000063 Male        43          NA          NA          NA         \n",
       "7  1000078 1000078 Female      52          57          60          NA         \n",
       "8  1000081 1000081 Male        67          NA          NA          NA         \n",
       "9  1000090 1000090 Female      64          NA          NA          NA         \n",
       "10 1000105 1000105 Female      54          NA          NA          NA         \n",
       "   f.3393.0.0_recode f.3393.1.0_recode f.3393.2.0_recode f.3393.3.0_recode\n",
       "1  0                 NA                NA                NA               \n",
       "2  0                 NA                NA                NA               \n",
       "3  0                 NA                NA                NA               \n",
       "4  NA                NA                0                 NA               \n",
       "5  0                 NA                NA                NA               \n",
       "6  0                 NA                NA                NA               \n",
       "7  NA                0                 0                 NA               \n",
       "8  0                 NA                NA                NA               \n",
       "9  0                 NA                NA                NA               \n",
       "10 0                 NA                NA                NA               \n",
       "   z974_include cases\n",
       "1  FALSE        FALSE\n",
       "2  FALSE        FALSE\n",
       "3  FALSE        FALSE\n",
       "4  FALSE        FALSE\n",
       "5  FALSE        FALSE\n",
       "6  FALSE        FALSE\n",
       "7  FALSE        FALSE\n",
       "8  FALSE        FALSE\n",
       "9  FALSE        FALSE\n",
       "10 FALSE        FALSE"
      ]
     },
     "metadata": {},
     "output_type": "display_data"
    }
   ],
   "source": [
    "data_sub <- select(hearing_aid,starts_with(\"f.3393\"))\n",
    "\n",
    "# Function to define cases\n",
    "f<-function(x){\n",
    "  visit<-c()\n",
    "  for (i in 1:4){\n",
    "    if (!is.na(x[i]))\n",
    "    {visit<-c(visit,x[i])}\n",
    "  }\n",
    "  if ((\"1\" %in% visit)){result= TRUE}\n",
    "  else{result=FALSE}\n",
    "  return (result)\n",
    "}\n",
    "\n",
    "# Apply the above function\n",
    "hearing_aid$cases<-apply(data_sub, 1, f)\n",
    "head(hearing_aid,10)"
   ]
  },
  {
   "cell_type": "code",
   "execution_count": 55,
   "metadata": {
    "kernel": "R"
   },
   "outputs": [
    {
     "data": {
      "text/html": [
       "202"
      ],
      "text/latex": [
       "202"
      ],
      "text/markdown": [
       "202"
      ],
      "text/plain": [
       "[1] 202"
      ]
     },
     "metadata": {},
     "output_type": "display_data"
    }
   ],
   "source": [
    "hearing_aid_z974 <- hearing_aid %>%\n",
    "    filter( z974_include == TRUE & cases == TRUE)\n",
    "nrow(hearing_aid_z974)"
   ]
  },
  {
   "cell_type": "code",
   "execution_count": 56,
   "metadata": {
    "kernel": "R"
   },
   "outputs": [
    {
     "data": {
      "text/html": [
       "178"
      ],
      "text/latex": [
       "178"
      ],
      "text/markdown": [
       "178"
      ],
      "text/plain": [
       "[1] 178"
      ]
     },
     "metadata": {},
     "output_type": "display_data"
    }
   ],
   "source": [
    "hearing_aid_z974 <- hearing_aid %>%\n",
    "    filter( z974_include == TRUE & cases == FALSE)\n",
    "nrow(hearing_aid_z974)"
   ]
  },
  {
   "cell_type": "code",
   "execution_count": 58,
   "metadata": {
    "kernel": "R"
   },
   "outputs": [
    {
     "data": {
      "text/html": [
       "<table>\n",
       "<caption>A data.frame: 6 × 13</caption>\n",
       "<thead>\n",
       "\t<tr><th></th><th scope=col>IID</th><th scope=col>FID</th><th scope=col>f.22001.0.0</th><th scope=col>f.21003.0.0</th><th scope=col>f.21003.1.0</th><th scope=col>f.21003.2.0</th><th scope=col>f.21003.3.0</th><th scope=col>f.3393.0.0_recode</th><th scope=col>f.3393.1.0_recode</th><th scope=col>f.3393.2.0_recode</th><th scope=col>f.3393.3.0_recode</th><th scope=col>z974_include</th><th scope=col>cases</th></tr>\n",
       "\t<tr><th></th><th scope=col>&lt;int&gt;</th><th scope=col>&lt;int&gt;</th><th scope=col>&lt;fct&gt;</th><th scope=col>&lt;int&gt;</th><th scope=col>&lt;int&gt;</th><th scope=col>&lt;int&gt;</th><th scope=col>&lt;int&gt;</th><th scope=col>&lt;fct&gt;</th><th scope=col>&lt;fct&gt;</th><th scope=col>&lt;fct&gt;</th><th scope=col>&lt;fct&gt;</th><th scope=col>&lt;lgl&gt;</th><th scope=col>&lt;lgl&gt;</th></tr>\n",
       "</thead>\n",
       "<tbody>\n",
       "\t<tr><th scope=row>1</th><td>1000112</td><td>1000112</td><td>Male  </td><td>58</td><td>NA</td><td>68</td><td>NA</td><td>NA</td><td>NA</td><td>1 </td><td>NA</td><td>FALSE</td><td>TRUE</td></tr>\n",
       "\t<tr><th scope=row>2</th><td>1001067</td><td>1001067</td><td>Male  </td><td>50</td><td>NA</td><td>NA</td><td>NA</td><td>1 </td><td>NA</td><td>NA</td><td>NA</td><td>FALSE</td><td>TRUE</td></tr>\n",
       "\t<tr><th scope=row>3</th><td>1001384</td><td>1001384</td><td>Female</td><td>61</td><td>NA</td><td>NA</td><td>NA</td><td>1 </td><td>NA</td><td>NA</td><td>NA</td><td>FALSE</td><td>TRUE</td></tr>\n",
       "\t<tr><th scope=row>4</th><td>1001459</td><td>1001459</td><td>Male  </td><td>64</td><td>NA</td><td>NA</td><td>NA</td><td>1 </td><td>NA</td><td>NA</td><td>NA</td><td> TRUE</td><td>TRUE</td></tr>\n",
       "\t<tr><th scope=row>5</th><td>1002548</td><td>1002548</td><td>Male  </td><td>62</td><td>NA</td><td>NA</td><td>NA</td><td>1 </td><td>NA</td><td>NA</td><td>NA</td><td>FALSE</td><td>TRUE</td></tr>\n",
       "\t<tr><th scope=row>6</th><td>1002888</td><td>1002888</td><td>Male  </td><td>68</td><td>NA</td><td>NA</td><td>NA</td><td>1 </td><td>NA</td><td>NA</td><td>NA</td><td>FALSE</td><td>TRUE</td></tr>\n",
       "</tbody>\n",
       "</table>\n"
      ],
      "text/latex": [
       "A data.frame: 6 × 13\n",
       "\\begin{tabular}{r|lllllllllllll}\n",
       "  & IID & FID & f.22001.0.0 & f.21003.0.0 & f.21003.1.0 & f.21003.2.0 & f.21003.3.0 & f.3393.0.0\\_recode & f.3393.1.0\\_recode & f.3393.2.0\\_recode & f.3393.3.0\\_recode & z974\\_include & cases\\\\\n",
       "  & <int> & <int> & <fct> & <int> & <int> & <int> & <int> & <fct> & <fct> & <fct> & <fct> & <lgl> & <lgl>\\\\\n",
       "\\hline\n",
       "\t1 & 1000112 & 1000112 & Male   & 58 & NA & 68 & NA & NA & NA & 1  & NA & FALSE & TRUE\\\\\n",
       "\t2 & 1001067 & 1001067 & Male   & 50 & NA & NA & NA & 1  & NA & NA & NA & FALSE & TRUE\\\\\n",
       "\t3 & 1001384 & 1001384 & Female & 61 & NA & NA & NA & 1  & NA & NA & NA & FALSE & TRUE\\\\\n",
       "\t4 & 1001459 & 1001459 & Male   & 64 & NA & NA & NA & 1  & NA & NA & NA &  TRUE & TRUE\\\\\n",
       "\t5 & 1002548 & 1002548 & Male   & 62 & NA & NA & NA & 1  & NA & NA & NA & FALSE & TRUE\\\\\n",
       "\t6 & 1002888 & 1002888 & Male   & 68 & NA & NA & NA & 1  & NA & NA & NA & FALSE & TRUE\\\\\n",
       "\\end{tabular}\n"
      ],
      "text/markdown": [
       "\n",
       "A data.frame: 6 × 13\n",
       "\n",
       "| <!--/--> | IID &lt;int&gt; | FID &lt;int&gt; | f.22001.0.0 &lt;fct&gt; | f.21003.0.0 &lt;int&gt; | f.21003.1.0 &lt;int&gt; | f.21003.2.0 &lt;int&gt; | f.21003.3.0 &lt;int&gt; | f.3393.0.0_recode &lt;fct&gt; | f.3393.1.0_recode &lt;fct&gt; | f.3393.2.0_recode &lt;fct&gt; | f.3393.3.0_recode &lt;fct&gt; | z974_include &lt;lgl&gt; | cases &lt;lgl&gt; |\n",
       "|---|---|---|---|---|---|---|---|---|---|---|---|---|---|\n",
       "| 1 | 1000112 | 1000112 | Male   | 58 | NA | 68 | NA | NA | NA | 1  | NA | FALSE | TRUE |\n",
       "| 2 | 1001067 | 1001067 | Male   | 50 | NA | NA | NA | 1  | NA | NA | NA | FALSE | TRUE |\n",
       "| 3 | 1001384 | 1001384 | Female | 61 | NA | NA | NA | 1  | NA | NA | NA | FALSE | TRUE |\n",
       "| 4 | 1001459 | 1001459 | Male   | 64 | NA | NA | NA | 1  | NA | NA | NA |  TRUE | TRUE |\n",
       "| 5 | 1002548 | 1002548 | Male   | 62 | NA | NA | NA | 1  | NA | NA | NA | FALSE | TRUE |\n",
       "| 6 | 1002888 | 1002888 | Male   | 68 | NA | NA | NA | 1  | NA | NA | NA | FALSE | TRUE |\n",
       "\n"
      ],
      "text/plain": [
       "  IID     FID     f.22001.0.0 f.21003.0.0 f.21003.1.0 f.21003.2.0 f.21003.3.0\n",
       "1 1000112 1000112 Male        58          NA          68          NA         \n",
       "2 1001067 1001067 Male        50          NA          NA          NA         \n",
       "3 1001384 1001384 Female      61          NA          NA          NA         \n",
       "4 1001459 1001459 Male        64          NA          NA          NA         \n",
       "5 1002548 1002548 Male        62          NA          NA          NA         \n",
       "6 1002888 1002888 Male        68          NA          NA          NA         \n",
       "  f.3393.0.0_recode f.3393.1.0_recode f.3393.2.0_recode f.3393.3.0_recode\n",
       "1 NA                NA                1                 NA               \n",
       "2 1                 NA                NA                NA               \n",
       "3 1                 NA                NA                NA               \n",
       "4 1                 NA                NA                NA               \n",
       "5 1                 NA                NA                NA               \n",
       "6 1                 NA                NA                NA               \n",
       "  z974_include cases\n",
       "1 FALSE        TRUE \n",
       "2 FALSE        TRUE \n",
       "3 FALSE        TRUE \n",
       "4  TRUE        TRUE \n",
       "5 FALSE        TRUE \n",
       "6 FALSE        TRUE "
      ]
     },
     "metadata": {},
     "output_type": "display_data"
    },
    {
     "name": "stdout",
     "output_type": "stream",
     "text": [
      "13811 individuals are cases for f.3393"
     ]
    }
   ],
   "source": [
    "hearing_aid_cases <- hearing_aid %>% \n",
    "  filter(cases == TRUE)\n",
    "head(hearing_aid_cases)\n",
    "cat(dim(hearing_aid_cases)[1] + nrow(hearing_aid_z974) , \"individuals are cases for f.3393\")"
   ]
  },
  {
   "cell_type": "code",
   "execution_count": 69,
   "metadata": {
    "kernel": "R"
   },
   "outputs": [
    {
     "data": {
      "text/html": [
       "<table>\n",
       "<caption>A data.frame: 6 × 14</caption>\n",
       "<thead>\n",
       "\t<tr><th></th><th scope=col>IID</th><th scope=col>FID</th><th scope=col>f.22001.0.0</th><th scope=col>f.21003.0.0</th><th scope=col>f.21003.1.0</th><th scope=col>f.21003.2.0</th><th scope=col>f.21003.3.0</th><th scope=col>f.3393.0.0_recode</th><th scope=col>f.3393.1.0_recode</th><th scope=col>f.3393.2.0_recode</th><th scope=col>f.3393.3.0_recode</th><th scope=col>z974_include</th><th scope=col>cases</th><th scope=col>hearing_aid_cat</th></tr>\n",
       "\t<tr><th></th><th scope=col>&lt;int&gt;</th><th scope=col>&lt;int&gt;</th><th scope=col>&lt;fct&gt;</th><th scope=col>&lt;int&gt;</th><th scope=col>&lt;int&gt;</th><th scope=col>&lt;int&gt;</th><th scope=col>&lt;int&gt;</th><th scope=col>&lt;fct&gt;</th><th scope=col>&lt;fct&gt;</th><th scope=col>&lt;fct&gt;</th><th scope=col>&lt;fct&gt;</th><th scope=col>&lt;lgl&gt;</th><th scope=col>&lt;lgl&gt;</th><th scope=col>&lt;int&gt;</th></tr>\n",
       "</thead>\n",
       "<tbody>\n",
       "\t<tr><th scope=row>1</th><td>1000019</td><td>1000019</td><td>Female</td><td>47</td><td>NA</td><td>NA</td><td>NA</td><td>0 </td><td>NA</td><td>NA</td><td>NA</td><td>FALSE</td><td>FALSE</td><td>0</td></tr>\n",
       "\t<tr><th scope=row>2</th><td>1000022</td><td>1000022</td><td>Male  </td><td>53</td><td>NA</td><td>NA</td><td>NA</td><td>0 </td><td>NA</td><td>NA</td><td>NA</td><td>FALSE</td><td>FALSE</td><td>0</td></tr>\n",
       "\t<tr><th scope=row>3</th><td>1000035</td><td>1000035</td><td>Male  </td><td>63</td><td>NA</td><td>NA</td><td>NA</td><td>0 </td><td>NA</td><td>NA</td><td>NA</td><td>FALSE</td><td>FALSE</td><td>0</td></tr>\n",
       "\t<tr><th scope=row>4</th><td>1000046</td><td>1000046</td><td>Female</td><td>62</td><td>NA</td><td>73</td><td>NA</td><td>NA</td><td>NA</td><td>0 </td><td>NA</td><td>FALSE</td><td>FALSE</td><td>0</td></tr>\n",
       "\t<tr><th scope=row>5</th><td>1000054</td><td>1000054</td><td>Female</td><td>65</td><td>NA</td><td>NA</td><td>NA</td><td>0 </td><td>NA</td><td>NA</td><td>NA</td><td>FALSE</td><td>FALSE</td><td>0</td></tr>\n",
       "\t<tr><th scope=row>6</th><td>1000063</td><td>1000063</td><td>Male  </td><td>43</td><td>NA</td><td>NA</td><td>NA</td><td>0 </td><td>NA</td><td>NA</td><td>NA</td><td>FALSE</td><td>FALSE</td><td>0</td></tr>\n",
       "</tbody>\n",
       "</table>\n"
      ],
      "text/latex": [
       "A data.frame: 6 × 14\n",
       "\\begin{tabular}{r|llllllllllllll}\n",
       "  & IID & FID & f.22001.0.0 & f.21003.0.0 & f.21003.1.0 & f.21003.2.0 & f.21003.3.0 & f.3393.0.0\\_recode & f.3393.1.0\\_recode & f.3393.2.0\\_recode & f.3393.3.0\\_recode & z974\\_include & cases & hearing\\_aid\\_cat\\\\\n",
       "  & <int> & <int> & <fct> & <int> & <int> & <int> & <int> & <fct> & <fct> & <fct> & <fct> & <lgl> & <lgl> & <int>\\\\\n",
       "\\hline\n",
       "\t1 & 1000019 & 1000019 & Female & 47 & NA & NA & NA & 0  & NA & NA & NA & FALSE & FALSE & 0\\\\\n",
       "\t2 & 1000022 & 1000022 & Male   & 53 & NA & NA & NA & 0  & NA & NA & NA & FALSE & FALSE & 0\\\\\n",
       "\t3 & 1000035 & 1000035 & Male   & 63 & NA & NA & NA & 0  & NA & NA & NA & FALSE & FALSE & 0\\\\\n",
       "\t4 & 1000046 & 1000046 & Female & 62 & NA & 73 & NA & NA & NA & 0  & NA & FALSE & FALSE & 0\\\\\n",
       "\t5 & 1000054 & 1000054 & Female & 65 & NA & NA & NA & 0  & NA & NA & NA & FALSE & FALSE & 0\\\\\n",
       "\t6 & 1000063 & 1000063 & Male   & 43 & NA & NA & NA & 0  & NA & NA & NA & FALSE & FALSE & 0\\\\\n",
       "\\end{tabular}\n"
      ],
      "text/markdown": [
       "\n",
       "A data.frame: 6 × 14\n",
       "\n",
       "| <!--/--> | IID &lt;int&gt; | FID &lt;int&gt; | f.22001.0.0 &lt;fct&gt; | f.21003.0.0 &lt;int&gt; | f.21003.1.0 &lt;int&gt; | f.21003.2.0 &lt;int&gt; | f.21003.3.0 &lt;int&gt; | f.3393.0.0_recode &lt;fct&gt; | f.3393.1.0_recode &lt;fct&gt; | f.3393.2.0_recode &lt;fct&gt; | f.3393.3.0_recode &lt;fct&gt; | z974_include &lt;lgl&gt; | cases &lt;lgl&gt; | hearing_aid_cat &lt;int&gt; |\n",
       "|---|---|---|---|---|---|---|---|---|---|---|---|---|---|---|\n",
       "| 1 | 1000019 | 1000019 | Female | 47 | NA | NA | NA | 0  | NA | NA | NA | FALSE | FALSE | 0 |\n",
       "| 2 | 1000022 | 1000022 | Male   | 53 | NA | NA | NA | 0  | NA | NA | NA | FALSE | FALSE | 0 |\n",
       "| 3 | 1000035 | 1000035 | Male   | 63 | NA | NA | NA | 0  | NA | NA | NA | FALSE | FALSE | 0 |\n",
       "| 4 | 1000046 | 1000046 | Female | 62 | NA | 73 | NA | NA | NA | 0  | NA | FALSE | FALSE | 0 |\n",
       "| 5 | 1000054 | 1000054 | Female | 65 | NA | NA | NA | 0  | NA | NA | NA | FALSE | FALSE | 0 |\n",
       "| 6 | 1000063 | 1000063 | Male   | 43 | NA | NA | NA | 0  | NA | NA | NA | FALSE | FALSE | 0 |\n",
       "\n"
      ],
      "text/plain": [
       "  IID     FID     f.22001.0.0 f.21003.0.0 f.21003.1.0 f.21003.2.0 f.21003.3.0\n",
       "1 1000019 1000019 Female      47          NA          NA          NA         \n",
       "2 1000022 1000022 Male        53          NA          NA          NA         \n",
       "3 1000035 1000035 Male        63          NA          NA          NA         \n",
       "4 1000046 1000046 Female      62          NA          73          NA         \n",
       "5 1000054 1000054 Female      65          NA          NA          NA         \n",
       "6 1000063 1000063 Male        43          NA          NA          NA         \n",
       "  f.3393.0.0_recode f.3393.1.0_recode f.3393.2.0_recode f.3393.3.0_recode\n",
       "1 0                 NA                NA                NA               \n",
       "2 0                 NA                NA                NA               \n",
       "3 0                 NA                NA                NA               \n",
       "4 NA                NA                0                 NA               \n",
       "5 0                 NA                NA                NA               \n",
       "6 0                 NA                NA                NA               \n",
       "  z974_include cases hearing_aid_cat\n",
       "1 FALSE        FALSE 0              \n",
       "2 FALSE        FALSE 0              \n",
       "3 FALSE        FALSE 0              \n",
       "4 FALSE        FALSE 0              \n",
       "5 FALSE        FALSE 0              \n",
       "6 FALSE        FALSE 0              "
      ]
     },
     "metadata": {},
     "output_type": "display_data"
    },
    {
     "name": "stdout",
     "output_type": "stream",
     "text": [
      "245222 individuals are controls for f.3393"
     ]
    }
   ],
   "source": [
    "hearing_aid_controls <- hearing_aid %>% \n",
    "  filter(cases == FALSE & z974_include == FALSE)\n",
    "head(hearing_aid_controls)\n",
    "cat(dim(hearing_aid_controls)[1], \"individuals are controls for f.3393\")"
   ]
  },
  {
   "cell_type": "code",
   "execution_count": 70,
   "metadata": {
    "kernel": "R"
   },
   "outputs": [
    {
     "data": {
      "text/html": [
       "178"
      ],
      "text/latex": [
       "178"
      ],
      "text/markdown": [
       "178"
      ],
      "text/plain": [
       "[1] 178"
      ]
     },
     "metadata": {},
     "output_type": "display_data"
    }
   ],
   "source": [
    "dim(hearing_aid)[1] - nrow(hearing_aid_cases) - nrow(hearing_aid_controls)"
   ]
  },
  {
   "cell_type": "markdown",
   "metadata": {
    "kernel": "R"
   },
   "source": [
    "## f.3393 Recode cases=1 and controls=0"
   ]
  },
  {
   "cell_type": "code",
   "execution_count": 62,
   "metadata": {
    "kernel": "R"
   },
   "outputs": [
    {
     "data": {
      "text/html": [
       "<table>\n",
       "<caption>A data.frame: 10 × 14</caption>\n",
       "<thead>\n",
       "\t<tr><th></th><th scope=col>IID</th><th scope=col>FID</th><th scope=col>f.22001.0.0</th><th scope=col>f.21003.0.0</th><th scope=col>f.21003.1.0</th><th scope=col>f.21003.2.0</th><th scope=col>f.21003.3.0</th><th scope=col>f.3393.0.0_recode</th><th scope=col>f.3393.1.0_recode</th><th scope=col>f.3393.2.0_recode</th><th scope=col>f.3393.3.0_recode</th><th scope=col>z974_include</th><th scope=col>cases</th><th scope=col>hearing_aid_cat</th></tr>\n",
       "\t<tr><th></th><th scope=col>&lt;int&gt;</th><th scope=col>&lt;int&gt;</th><th scope=col>&lt;fct&gt;</th><th scope=col>&lt;int&gt;</th><th scope=col>&lt;int&gt;</th><th scope=col>&lt;int&gt;</th><th scope=col>&lt;int&gt;</th><th scope=col>&lt;fct&gt;</th><th scope=col>&lt;fct&gt;</th><th scope=col>&lt;fct&gt;</th><th scope=col>&lt;fct&gt;</th><th scope=col>&lt;lgl&gt;</th><th scope=col>&lt;lgl&gt;</th><th scope=col>&lt;int&gt;</th></tr>\n",
       "</thead>\n",
       "<tbody>\n",
       "\t<tr><th scope=row>1</th><td>1000019</td><td>1000019</td><td>Female</td><td>47</td><td>NA</td><td>NA</td><td>NA</td><td>0 </td><td>NA</td><td>NA</td><td>NA</td><td>FALSE</td><td>FALSE</td><td>0</td></tr>\n",
       "\t<tr><th scope=row>2</th><td>1000022</td><td>1000022</td><td>Male  </td><td>53</td><td>NA</td><td>NA</td><td>NA</td><td>0 </td><td>NA</td><td>NA</td><td>NA</td><td>FALSE</td><td>FALSE</td><td>0</td></tr>\n",
       "\t<tr><th scope=row>3</th><td>1000035</td><td>1000035</td><td>Male  </td><td>63</td><td>NA</td><td>NA</td><td>NA</td><td>0 </td><td>NA</td><td>NA</td><td>NA</td><td>FALSE</td><td>FALSE</td><td>0</td></tr>\n",
       "\t<tr><th scope=row>4</th><td>1000046</td><td>1000046</td><td>Female</td><td>62</td><td>NA</td><td>73</td><td>NA</td><td>NA</td><td>NA</td><td>0 </td><td>NA</td><td>FALSE</td><td>FALSE</td><td>0</td></tr>\n",
       "\t<tr><th scope=row>5</th><td>1000054</td><td>1000054</td><td>Female</td><td>65</td><td>NA</td><td>NA</td><td>NA</td><td>0 </td><td>NA</td><td>NA</td><td>NA</td><td>FALSE</td><td>FALSE</td><td>0</td></tr>\n",
       "\t<tr><th scope=row>6</th><td>1000063</td><td>1000063</td><td>Male  </td><td>43</td><td>NA</td><td>NA</td><td>NA</td><td>0 </td><td>NA</td><td>NA</td><td>NA</td><td>FALSE</td><td>FALSE</td><td>0</td></tr>\n",
       "\t<tr><th scope=row>7</th><td>1000078</td><td>1000078</td><td>Female</td><td>52</td><td>57</td><td>60</td><td>NA</td><td>NA</td><td>0 </td><td>0 </td><td>NA</td><td>FALSE</td><td>FALSE</td><td>0</td></tr>\n",
       "\t<tr><th scope=row>8</th><td>1000081</td><td>1000081</td><td>Male  </td><td>67</td><td>NA</td><td>NA</td><td>NA</td><td>0 </td><td>NA</td><td>NA</td><td>NA</td><td>FALSE</td><td>FALSE</td><td>0</td></tr>\n",
       "\t<tr><th scope=row>9</th><td>1000090</td><td>1000090</td><td>Female</td><td>64</td><td>NA</td><td>NA</td><td>NA</td><td>0 </td><td>NA</td><td>NA</td><td>NA</td><td>FALSE</td><td>FALSE</td><td>0</td></tr>\n",
       "\t<tr><th scope=row>10</th><td>1000105</td><td>1000105</td><td>Female</td><td>54</td><td>NA</td><td>NA</td><td>NA</td><td>0 </td><td>NA</td><td>NA</td><td>NA</td><td>FALSE</td><td>FALSE</td><td>0</td></tr>\n",
       "</tbody>\n",
       "</table>\n"
      ],
      "text/latex": [
       "A data.frame: 10 × 14\n",
       "\\begin{tabular}{r|llllllllllllll}\n",
       "  & IID & FID & f.22001.0.0 & f.21003.0.0 & f.21003.1.0 & f.21003.2.0 & f.21003.3.0 & f.3393.0.0\\_recode & f.3393.1.0\\_recode & f.3393.2.0\\_recode & f.3393.3.0\\_recode & z974\\_include & cases & hearing\\_aid\\_cat\\\\\n",
       "  & <int> & <int> & <fct> & <int> & <int> & <int> & <int> & <fct> & <fct> & <fct> & <fct> & <lgl> & <lgl> & <int>\\\\\n",
       "\\hline\n",
       "\t1 & 1000019 & 1000019 & Female & 47 & NA & NA & NA & 0  & NA & NA & NA & FALSE & FALSE & 0\\\\\n",
       "\t2 & 1000022 & 1000022 & Male   & 53 & NA & NA & NA & 0  & NA & NA & NA & FALSE & FALSE & 0\\\\\n",
       "\t3 & 1000035 & 1000035 & Male   & 63 & NA & NA & NA & 0  & NA & NA & NA & FALSE & FALSE & 0\\\\\n",
       "\t4 & 1000046 & 1000046 & Female & 62 & NA & 73 & NA & NA & NA & 0  & NA & FALSE & FALSE & 0\\\\\n",
       "\t5 & 1000054 & 1000054 & Female & 65 & NA & NA & NA & 0  & NA & NA & NA & FALSE & FALSE & 0\\\\\n",
       "\t6 & 1000063 & 1000063 & Male   & 43 & NA & NA & NA & 0  & NA & NA & NA & FALSE & FALSE & 0\\\\\n",
       "\t7 & 1000078 & 1000078 & Female & 52 & 57 & 60 & NA & NA & 0  & 0  & NA & FALSE & FALSE & 0\\\\\n",
       "\t8 & 1000081 & 1000081 & Male   & 67 & NA & NA & NA & 0  & NA & NA & NA & FALSE & FALSE & 0\\\\\n",
       "\t9 & 1000090 & 1000090 & Female & 64 & NA & NA & NA & 0  & NA & NA & NA & FALSE & FALSE & 0\\\\\n",
       "\t10 & 1000105 & 1000105 & Female & 54 & NA & NA & NA & 0  & NA & NA & NA & FALSE & FALSE & 0\\\\\n",
       "\\end{tabular}\n"
      ],
      "text/markdown": [
       "\n",
       "A data.frame: 10 × 14\n",
       "\n",
       "| <!--/--> | IID &lt;int&gt; | FID &lt;int&gt; | f.22001.0.0 &lt;fct&gt; | f.21003.0.0 &lt;int&gt; | f.21003.1.0 &lt;int&gt; | f.21003.2.0 &lt;int&gt; | f.21003.3.0 &lt;int&gt; | f.3393.0.0_recode &lt;fct&gt; | f.3393.1.0_recode &lt;fct&gt; | f.3393.2.0_recode &lt;fct&gt; | f.3393.3.0_recode &lt;fct&gt; | z974_include &lt;lgl&gt; | cases &lt;lgl&gt; | hearing_aid_cat &lt;int&gt; |\n",
       "|---|---|---|---|---|---|---|---|---|---|---|---|---|---|---|\n",
       "| 1 | 1000019 | 1000019 | Female | 47 | NA | NA | NA | 0  | NA | NA | NA | FALSE | FALSE | 0 |\n",
       "| 2 | 1000022 | 1000022 | Male   | 53 | NA | NA | NA | 0  | NA | NA | NA | FALSE | FALSE | 0 |\n",
       "| 3 | 1000035 | 1000035 | Male   | 63 | NA | NA | NA | 0  | NA | NA | NA | FALSE | FALSE | 0 |\n",
       "| 4 | 1000046 | 1000046 | Female | 62 | NA | 73 | NA | NA | NA | 0  | NA | FALSE | FALSE | 0 |\n",
       "| 5 | 1000054 | 1000054 | Female | 65 | NA | NA | NA | 0  | NA | NA | NA | FALSE | FALSE | 0 |\n",
       "| 6 | 1000063 | 1000063 | Male   | 43 | NA | NA | NA | 0  | NA | NA | NA | FALSE | FALSE | 0 |\n",
       "| 7 | 1000078 | 1000078 | Female | 52 | 57 | 60 | NA | NA | 0  | 0  | NA | FALSE | FALSE | 0 |\n",
       "| 8 | 1000081 | 1000081 | Male   | 67 | NA | NA | NA | 0  | NA | NA | NA | FALSE | FALSE | 0 |\n",
       "| 9 | 1000090 | 1000090 | Female | 64 | NA | NA | NA | 0  | NA | NA | NA | FALSE | FALSE | 0 |\n",
       "| 10 | 1000105 | 1000105 | Female | 54 | NA | NA | NA | 0  | NA | NA | NA | FALSE | FALSE | 0 |\n",
       "\n"
      ],
      "text/plain": [
       "   IID     FID     f.22001.0.0 f.21003.0.0 f.21003.1.0 f.21003.2.0 f.21003.3.0\n",
       "1  1000019 1000019 Female      47          NA          NA          NA         \n",
       "2  1000022 1000022 Male        53          NA          NA          NA         \n",
       "3  1000035 1000035 Male        63          NA          NA          NA         \n",
       "4  1000046 1000046 Female      62          NA          73          NA         \n",
       "5  1000054 1000054 Female      65          NA          NA          NA         \n",
       "6  1000063 1000063 Male        43          NA          NA          NA         \n",
       "7  1000078 1000078 Female      52          57          60          NA         \n",
       "8  1000081 1000081 Male        67          NA          NA          NA         \n",
       "9  1000090 1000090 Female      64          NA          NA          NA         \n",
       "10 1000105 1000105 Female      54          NA          NA          NA         \n",
       "   f.3393.0.0_recode f.3393.1.0_recode f.3393.2.0_recode f.3393.3.0_recode\n",
       "1  0                 NA                NA                NA               \n",
       "2  0                 NA                NA                NA               \n",
       "3  0                 NA                NA                NA               \n",
       "4  NA                NA                0                 NA               \n",
       "5  0                 NA                NA                NA               \n",
       "6  0                 NA                NA                NA               \n",
       "7  NA                0                 0                 NA               \n",
       "8  0                 NA                NA                NA               \n",
       "9  0                 NA                NA                NA               \n",
       "10 0                 NA                NA                NA               \n",
       "   z974_include cases hearing_aid_cat\n",
       "1  FALSE        FALSE 0              \n",
       "2  FALSE        FALSE 0              \n",
       "3  FALSE        FALSE 0              \n",
       "4  FALSE        FALSE 0              \n",
       "5  FALSE        FALSE 0              \n",
       "6  FALSE        FALSE 0              \n",
       "7  FALSE        FALSE 0              \n",
       "8  FALSE        FALSE 0              \n",
       "9  FALSE        FALSE 0              \n",
       "10 FALSE        FALSE 0              "
      ]
     },
     "metadata": {},
     "output_type": "display_data"
    }
   ],
   "source": [
    "hearing_aid$hearing_aid_cat <- as.integer(as.logical(hearing_aid$cases))\n",
    "head(hearing_aid, 10)\n",
    "# Get the number of NAs\n",
    "#length(which(is.na(hearing_all$hearing_aid_cat)))"
   ]
  },
  {
   "cell_type": "code",
   "execution_count": 71,
   "metadata": {
    "kernel": "R"
   },
   "outputs": [
    {
     "data": {
      "text/html": [
       "<style>\n",
       ".list-inline {list-style: none; margin:0; padding: 0}\n",
       ".list-inline>li {display: inline-block}\n",
       ".list-inline>li:not(:last-child)::after {content: \"\\00b7\"; padding: 0 .5ex}\n",
       "</style>\n",
       "<ol class=list-inline><li>259033</li><li>14</li></ol>\n"
      ],
      "text/latex": [
       "\\begin{enumerate*}\n",
       "\\item 259033\n",
       "\\item 14\n",
       "\\end{enumerate*}\n"
      ],
      "text/markdown": [
       "1. 259033\n",
       "2. 14\n",
       "\n",
       "\n"
      ],
      "text/plain": [
       "[1] 259033     14"
      ]
     },
     "metadata": {},
     "output_type": "display_data"
    }
   ],
   "source": [
    "dim(hearing_aid)"
   ]
  },
  {
   "cell_type": "markdown",
   "metadata": {
    "kernel": "SoS"
   },
   "source": [
    "## Step 2: get the ages for hearing aids (f.3393)"
   ]
  },
  {
   "cell_type": "code",
   "execution_count": 72,
   "metadata": {
    "kernel": "R"
   },
   "outputs": [
    {
     "data": {
      "text/html": [
       "<table>\n",
       "<caption>A data.frame: 12 × 9</caption>\n",
       "<thead>\n",
       "\t<tr><th></th><th scope=col>IID</th><th scope=col>f.3393.0.0_recode</th><th scope=col>f.3393.1.0_recode</th><th scope=col>f.3393.2.0_recode</th><th scope=col>f.3393.3.0_recode</th><th scope=col>f.21003.0.0</th><th scope=col>f.21003.1.0</th><th scope=col>f.21003.2.0</th><th scope=col>f.21003.3.0</th></tr>\n",
       "\t<tr><th></th><th scope=col>&lt;int&gt;</th><th scope=col>&lt;fct&gt;</th><th scope=col>&lt;fct&gt;</th><th scope=col>&lt;fct&gt;</th><th scope=col>&lt;fct&gt;</th><th scope=col>&lt;int&gt;</th><th scope=col>&lt;int&gt;</th><th scope=col>&lt;int&gt;</th><th scope=col>&lt;int&gt;</th></tr>\n",
       "</thead>\n",
       "<tbody>\n",
       "\t<tr><th scope=row>1</th><td>1000112</td><td>NA</td><td>NA</td><td>1 </td><td>NA</td><td>58</td><td>NA</td><td>68</td><td>NA</td></tr>\n",
       "\t<tr><th scope=row>2</th><td>1001067</td><td>1 </td><td>NA</td><td>NA</td><td>NA</td><td>50</td><td>NA</td><td>NA</td><td>NA</td></tr>\n",
       "\t<tr><th scope=row>3</th><td>1001384</td><td>1 </td><td>NA</td><td>NA</td><td>NA</td><td>61</td><td>NA</td><td>NA</td><td>NA</td></tr>\n",
       "\t<tr><th scope=row>4</th><td>1001459</td><td>1 </td><td>NA</td><td>NA</td><td>NA</td><td>64</td><td>NA</td><td>NA</td><td>NA</td></tr>\n",
       "\t<tr><th scope=row>5</th><td>1002548</td><td>1 </td><td>NA</td><td>NA</td><td>NA</td><td>62</td><td>NA</td><td>NA</td><td>NA</td></tr>\n",
       "\t<tr><th scope=row>6</th><td>1002888</td><td>1 </td><td>NA</td><td>NA</td><td>NA</td><td>68</td><td>NA</td><td>NA</td><td>NA</td></tr>\n",
       "\t<tr><th scope=row>7</th><td>1002944</td><td>1 </td><td>NA</td><td>NA</td><td>NA</td><td>65</td><td>NA</td><td>NA</td><td>NA</td></tr>\n",
       "\t<tr><th scope=row>8</th><td>1003258</td><td>0 </td><td>1 </td><td>NA</td><td>NA</td><td>69</td><td>74</td><td>NA</td><td>NA</td></tr>\n",
       "\t<tr><th scope=row>9</th><td>1004012</td><td>1 </td><td>NA</td><td>NA</td><td>NA</td><td>57</td><td>NA</td><td>NA</td><td>NA</td></tr>\n",
       "\t<tr><th scope=row>10</th><td>1004218</td><td>1 </td><td>NA</td><td>NA</td><td>NA</td><td>66</td><td>NA</td><td>NA</td><td>NA</td></tr>\n",
       "\t<tr><th scope=row>11</th><td>1004493</td><td>1 </td><td>NA</td><td>NA</td><td>NA</td><td>47</td><td>NA</td><td>NA</td><td>NA</td></tr>\n",
       "\t<tr><th scope=row>12</th><td>1004556</td><td>1 </td><td>NA</td><td>NA</td><td>NA</td><td>64</td><td>NA</td><td>NA</td><td>NA</td></tr>\n",
       "</tbody>\n",
       "</table>\n"
      ],
      "text/latex": [
       "A data.frame: 12 × 9\n",
       "\\begin{tabular}{r|lllllllll}\n",
       "  & IID & f.3393.0.0\\_recode & f.3393.1.0\\_recode & f.3393.2.0\\_recode & f.3393.3.0\\_recode & f.21003.0.0 & f.21003.1.0 & f.21003.2.0 & f.21003.3.0\\\\\n",
       "  & <int> & <fct> & <fct> & <fct> & <fct> & <int> & <int> & <int> & <int>\\\\\n",
       "\\hline\n",
       "\t1 & 1000112 & NA & NA & 1  & NA & 58 & NA & 68 & NA\\\\\n",
       "\t2 & 1001067 & 1  & NA & NA & NA & 50 & NA & NA & NA\\\\\n",
       "\t3 & 1001384 & 1  & NA & NA & NA & 61 & NA & NA & NA\\\\\n",
       "\t4 & 1001459 & 1  & NA & NA & NA & 64 & NA & NA & NA\\\\\n",
       "\t5 & 1002548 & 1  & NA & NA & NA & 62 & NA & NA & NA\\\\\n",
       "\t6 & 1002888 & 1  & NA & NA & NA & 68 & NA & NA & NA\\\\\n",
       "\t7 & 1002944 & 1  & NA & NA & NA & 65 & NA & NA & NA\\\\\n",
       "\t8 & 1003258 & 0  & 1  & NA & NA & 69 & 74 & NA & NA\\\\\n",
       "\t9 & 1004012 & 1  & NA & NA & NA & 57 & NA & NA & NA\\\\\n",
       "\t10 & 1004218 & 1  & NA & NA & NA & 66 & NA & NA & NA\\\\\n",
       "\t11 & 1004493 & 1  & NA & NA & NA & 47 & NA & NA & NA\\\\\n",
       "\t12 & 1004556 & 1  & NA & NA & NA & 64 & NA & NA & NA\\\\\n",
       "\\end{tabular}\n"
      ],
      "text/markdown": [
       "\n",
       "A data.frame: 12 × 9\n",
       "\n",
       "| <!--/--> | IID &lt;int&gt; | f.3393.0.0_recode &lt;fct&gt; | f.3393.1.0_recode &lt;fct&gt; | f.3393.2.0_recode &lt;fct&gt; | f.3393.3.0_recode &lt;fct&gt; | f.21003.0.0 &lt;int&gt; | f.21003.1.0 &lt;int&gt; | f.21003.2.0 &lt;int&gt; | f.21003.3.0 &lt;int&gt; |\n",
       "|---|---|---|---|---|---|---|---|---|---|\n",
       "| 1 | 1000112 | NA | NA | 1  | NA | 58 | NA | 68 | NA |\n",
       "| 2 | 1001067 | 1  | NA | NA | NA | 50 | NA | NA | NA |\n",
       "| 3 | 1001384 | 1  | NA | NA | NA | 61 | NA | NA | NA |\n",
       "| 4 | 1001459 | 1  | NA | NA | NA | 64 | NA | NA | NA |\n",
       "| 5 | 1002548 | 1  | NA | NA | NA | 62 | NA | NA | NA |\n",
       "| 6 | 1002888 | 1  | NA | NA | NA | 68 | NA | NA | NA |\n",
       "| 7 | 1002944 | 1  | NA | NA | NA | 65 | NA | NA | NA |\n",
       "| 8 | 1003258 | 0  | 1  | NA | NA | 69 | 74 | NA | NA |\n",
       "| 9 | 1004012 | 1  | NA | NA | NA | 57 | NA | NA | NA |\n",
       "| 10 | 1004218 | 1  | NA | NA | NA | 66 | NA | NA | NA |\n",
       "| 11 | 1004493 | 1  | NA | NA | NA | 47 | NA | NA | NA |\n",
       "| 12 | 1004556 | 1  | NA | NA | NA | 64 | NA | NA | NA |\n",
       "\n"
      ],
      "text/plain": [
       "   IID     f.3393.0.0_recode f.3393.1.0_recode f.3393.2.0_recode\n",
       "1  1000112 NA                NA                1                \n",
       "2  1001067 1                 NA                NA               \n",
       "3  1001384 1                 NA                NA               \n",
       "4  1001459 1                 NA                NA               \n",
       "5  1002548 1                 NA                NA               \n",
       "6  1002888 1                 NA                NA               \n",
       "7  1002944 1                 NA                NA               \n",
       "8  1003258 0                 1                 NA               \n",
       "9  1004012 1                 NA                NA               \n",
       "10 1004218 1                 NA                NA               \n",
       "11 1004493 1                 NA                NA               \n",
       "12 1004556 1                 NA                NA               \n",
       "   f.3393.3.0_recode f.21003.0.0 f.21003.1.0 f.21003.2.0 f.21003.3.0\n",
       "1  NA                58          NA          68          NA         \n",
       "2  NA                50          NA          NA          NA         \n",
       "3  NA                61          NA          NA          NA         \n",
       "4  NA                64          NA          NA          NA         \n",
       "5  NA                62          NA          NA          NA         \n",
       "6  NA                68          NA          NA          NA         \n",
       "7  NA                65          NA          NA          NA         \n",
       "8  NA                69          74          NA          NA         \n",
       "9  NA                57          NA          NA          NA         \n",
       "10 NA                66          NA          NA          NA         \n",
       "11 NA                47          NA          NA          NA         \n",
       "12 NA                64          NA          NA          NA         "
      ]
     },
     "metadata": {},
     "output_type": "display_data"
    },
    {
     "data": {
      "text/html": [
       "13633"
      ],
      "text/latex": [
       "13633"
      ],
      "text/markdown": [
       "13633"
      ],
      "text/plain": [
       "[1] 13633"
      ]
     },
     "metadata": {},
     "output_type": "display_data"
    }
   ],
   "source": [
    "# Get the subset data of cases\n",
    "aid_age_cases = hearing_aid %>% \n",
    "  filter(hearing_aid_cat==\"1\")  %>%\n",
    "  select(IID, f.3393.0.0_recode, f.3393.1.0_recode, f.3393.2.0_recode, f.3393.3.0_recode, f.21003.0.0, f.21003.1.0, f.21003.2.0, f.21003.3.0)\n",
    "head(aid_age_cases,12)\n",
    "nrow(aid_age_cases)"
   ]
  },
  {
   "cell_type": "code",
   "execution_count": 73,
   "metadata": {
    "kernel": "R"
   },
   "outputs": [
    {
     "data": {
      "text/html": [
       "<table>\n",
       "<caption>A data.frame: 6 × 10</caption>\n",
       "<thead>\n",
       "\t<tr><th></th><th scope=col>IID</th><th scope=col>f.3393.0.0_recode</th><th scope=col>f.3393.1.0_recode</th><th scope=col>f.3393.2.0_recode</th><th scope=col>f.3393.3.0_recode</th><th scope=col>f.21003.0.0</th><th scope=col>f.21003.1.0</th><th scope=col>f.21003.2.0</th><th scope=col>f.21003.3.0</th><th scope=col>visit_idx</th></tr>\n",
       "\t<tr><th></th><th scope=col>&lt;int&gt;</th><th scope=col>&lt;fct&gt;</th><th scope=col>&lt;fct&gt;</th><th scope=col>&lt;fct&gt;</th><th scope=col>&lt;fct&gt;</th><th scope=col>&lt;int&gt;</th><th scope=col>&lt;int&gt;</th><th scope=col>&lt;int&gt;</th><th scope=col>&lt;int&gt;</th><th scope=col>&lt;list&gt;</th></tr>\n",
       "</thead>\n",
       "<tbody>\n",
       "\t<tr><th scope=row>1</th><td>1000112</td><td>NA</td><td>NA</td><td>1 </td><td>NA</td><td>58</td><td>NA</td><td>68</td><td>NA</td><td>4</td></tr>\n",
       "\t<tr><th scope=row>2</th><td>1001067</td><td>1 </td><td>NA</td><td>NA</td><td>NA</td><td>50</td><td>NA</td><td>NA</td><td>NA</td><td>2</td></tr>\n",
       "\t<tr><th scope=row>3</th><td>1001384</td><td>1 </td><td>NA</td><td>NA</td><td>NA</td><td>61</td><td>NA</td><td>NA</td><td>NA</td><td>2</td></tr>\n",
       "\t<tr><th scope=row>4</th><td>1001459</td><td>1 </td><td>NA</td><td>NA</td><td>NA</td><td>64</td><td>NA</td><td>NA</td><td>NA</td><td>2</td></tr>\n",
       "\t<tr><th scope=row>5</th><td>1002548</td><td>1 </td><td>NA</td><td>NA</td><td>NA</td><td>62</td><td>NA</td><td>NA</td><td>NA</td><td>2</td></tr>\n",
       "\t<tr><th scope=row>6</th><td>1002888</td><td>1 </td><td>NA</td><td>NA</td><td>NA</td><td>68</td><td>NA</td><td>NA</td><td>NA</td><td>2</td></tr>\n",
       "</tbody>\n",
       "</table>\n"
      ],
      "text/latex": [
       "A data.frame: 6 × 10\n",
       "\\begin{tabular}{r|llllllllll}\n",
       "  & IID & f.3393.0.0\\_recode & f.3393.1.0\\_recode & f.3393.2.0\\_recode & f.3393.3.0\\_recode & f.21003.0.0 & f.21003.1.0 & f.21003.2.0 & f.21003.3.0 & visit\\_idx\\\\\n",
       "  & <int> & <fct> & <fct> & <fct> & <fct> & <int> & <int> & <int> & <int> & <list>\\\\\n",
       "\\hline\n",
       "\t1 & 1000112 & NA & NA & 1  & NA & 58 & NA & 68 & NA & 4\\\\\n",
       "\t2 & 1001067 & 1  & NA & NA & NA & 50 & NA & NA & NA & 2\\\\\n",
       "\t3 & 1001384 & 1  & NA & NA & NA & 61 & NA & NA & NA & 2\\\\\n",
       "\t4 & 1001459 & 1  & NA & NA & NA & 64 & NA & NA & NA & 2\\\\\n",
       "\t5 & 1002548 & 1  & NA & NA & NA & 62 & NA & NA & NA & 2\\\\\n",
       "\t6 & 1002888 & 1  & NA & NA & NA & 68 & NA & NA & NA & 2\\\\\n",
       "\\end{tabular}\n"
      ],
      "text/markdown": [
       "\n",
       "A data.frame: 6 × 10\n",
       "\n",
       "| <!--/--> | IID &lt;int&gt; | f.3393.0.0_recode &lt;fct&gt; | f.3393.1.0_recode &lt;fct&gt; | f.3393.2.0_recode &lt;fct&gt; | f.3393.3.0_recode &lt;fct&gt; | f.21003.0.0 &lt;int&gt; | f.21003.1.0 &lt;int&gt; | f.21003.2.0 &lt;int&gt; | f.21003.3.0 &lt;int&gt; | visit_idx &lt;list&gt; |\n",
       "|---|---|---|---|---|---|---|---|---|---|---|\n",
       "| 1 | 1000112 | NA | NA | 1  | NA | 58 | NA | 68 | NA | 4 |\n",
       "| 2 | 1001067 | 1  | NA | NA | NA | 50 | NA | NA | NA | 2 |\n",
       "| 3 | 1001384 | 1  | NA | NA | NA | 61 | NA | NA | NA | 2 |\n",
       "| 4 | 1001459 | 1  | NA | NA | NA | 64 | NA | NA | NA | 2 |\n",
       "| 5 | 1002548 | 1  | NA | NA | NA | 62 | NA | NA | NA | 2 |\n",
       "| 6 | 1002888 | 1  | NA | NA | NA | 68 | NA | NA | NA | 2 |\n",
       "\n"
      ],
      "text/plain": [
       "  IID     f.3393.0.0_recode f.3393.1.0_recode f.3393.2.0_recode\n",
       "1 1000112 NA                NA                1                \n",
       "2 1001067 1                 NA                NA               \n",
       "3 1001384 1                 NA                NA               \n",
       "4 1001459 1                 NA                NA               \n",
       "5 1002548 1                 NA                NA               \n",
       "6 1002888 1                 NA                NA               \n",
       "  f.3393.3.0_recode f.21003.0.0 f.21003.1.0 f.21003.2.0 f.21003.3.0 visit_idx\n",
       "1 NA                58          NA          68          NA          4        \n",
       "2 NA                50          NA          NA          NA          2        \n",
       "3 NA                61          NA          NA          NA          2        \n",
       "4 NA                64          NA          NA          NA          2        \n",
       "5 NA                62          NA          NA          NA          2        \n",
       "6 NA                68          NA          NA          NA          2        "
      ]
     },
     "metadata": {},
     "output_type": "display_data"
    }
   ],
   "source": [
    "# Get the # of column where first replied Yes:\n",
    "aid_age_cases$visit_idx = apply(aid_age_cases, 1, function(x) unlist(which(x == '1')))\n",
    "head(aid_age_cases)"
   ]
  },
  {
   "cell_type": "code",
   "execution_count": 74,
   "metadata": {
    "kernel": "R"
   },
   "outputs": [
    {
     "data": {
      "text/html": [
       "<table>\n",
       "<caption>A data.frame: 6 × 11</caption>\n",
       "<thead>\n",
       "\t<tr><th></th><th scope=col>IID</th><th scope=col>f.3393.0.0_recode</th><th scope=col>f.3393.1.0_recode</th><th scope=col>f.3393.2.0_recode</th><th scope=col>f.3393.3.0_recode</th><th scope=col>f.21003.0.0</th><th scope=col>f.21003.1.0</th><th scope=col>f.21003.2.0</th><th scope=col>f.21003.3.0</th><th scope=col>visit_idx</th><th scope=col>age_final_aid</th></tr>\n",
       "\t<tr><th></th><th scope=col>&lt;int&gt;</th><th scope=col>&lt;fct&gt;</th><th scope=col>&lt;fct&gt;</th><th scope=col>&lt;fct&gt;</th><th scope=col>&lt;fct&gt;</th><th scope=col>&lt;int&gt;</th><th scope=col>&lt;int&gt;</th><th scope=col>&lt;int&gt;</th><th scope=col>&lt;int&gt;</th><th scope=col>&lt;list&gt;</th><th scope=col>&lt;int&gt;</th></tr>\n",
       "</thead>\n",
       "<tbody>\n",
       "\t<tr><th scope=row>1</th><td>1000112</td><td>NA</td><td>NA</td><td>1 </td><td>NA</td><td>58</td><td>NA</td><td>68</td><td>NA</td><td>4</td><td>68</td></tr>\n",
       "\t<tr><th scope=row>2</th><td>1001067</td><td>1 </td><td>NA</td><td>NA</td><td>NA</td><td>50</td><td>NA</td><td>NA</td><td>NA</td><td>2</td><td>50</td></tr>\n",
       "\t<tr><th scope=row>3</th><td>1001384</td><td>1 </td><td>NA</td><td>NA</td><td>NA</td><td>61</td><td>NA</td><td>NA</td><td>NA</td><td>2</td><td>61</td></tr>\n",
       "\t<tr><th scope=row>4</th><td>1001459</td><td>1 </td><td>NA</td><td>NA</td><td>NA</td><td>64</td><td>NA</td><td>NA</td><td>NA</td><td>2</td><td>64</td></tr>\n",
       "\t<tr><th scope=row>5</th><td>1002548</td><td>1 </td><td>NA</td><td>NA</td><td>NA</td><td>62</td><td>NA</td><td>NA</td><td>NA</td><td>2</td><td>62</td></tr>\n",
       "\t<tr><th scope=row>6</th><td>1002888</td><td>1 </td><td>NA</td><td>NA</td><td>NA</td><td>68</td><td>NA</td><td>NA</td><td>NA</td><td>2</td><td>68</td></tr>\n",
       "</tbody>\n",
       "</table>\n"
      ],
      "text/latex": [
       "A data.frame: 6 × 11\n",
       "\\begin{tabular}{r|lllllllllll}\n",
       "  & IID & f.3393.0.0\\_recode & f.3393.1.0\\_recode & f.3393.2.0\\_recode & f.3393.3.0\\_recode & f.21003.0.0 & f.21003.1.0 & f.21003.2.0 & f.21003.3.0 & visit\\_idx & age\\_final\\_aid\\\\\n",
       "  & <int> & <fct> & <fct> & <fct> & <fct> & <int> & <int> & <int> & <int> & <list> & <int>\\\\\n",
       "\\hline\n",
       "\t1 & 1000112 & NA & NA & 1  & NA & 58 & NA & 68 & NA & 4 & 68\\\\\n",
       "\t2 & 1001067 & 1  & NA & NA & NA & 50 & NA & NA & NA & 2 & 50\\\\\n",
       "\t3 & 1001384 & 1  & NA & NA & NA & 61 & NA & NA & NA & 2 & 61\\\\\n",
       "\t4 & 1001459 & 1  & NA & NA & NA & 64 & NA & NA & NA & 2 & 64\\\\\n",
       "\t5 & 1002548 & 1  & NA & NA & NA & 62 & NA & NA & NA & 2 & 62\\\\\n",
       "\t6 & 1002888 & 1  & NA & NA & NA & 68 & NA & NA & NA & 2 & 68\\\\\n",
       "\\end{tabular}\n"
      ],
      "text/markdown": [
       "\n",
       "A data.frame: 6 × 11\n",
       "\n",
       "| <!--/--> | IID &lt;int&gt; | f.3393.0.0_recode &lt;fct&gt; | f.3393.1.0_recode &lt;fct&gt; | f.3393.2.0_recode &lt;fct&gt; | f.3393.3.0_recode &lt;fct&gt; | f.21003.0.0 &lt;int&gt; | f.21003.1.0 &lt;int&gt; | f.21003.2.0 &lt;int&gt; | f.21003.3.0 &lt;int&gt; | visit_idx &lt;list&gt; | age_final_aid &lt;int&gt; |\n",
       "|---|---|---|---|---|---|---|---|---|---|---|---|\n",
       "| 1 | 1000112 | NA | NA | 1  | NA | 58 | NA | 68 | NA | 4 | 68 |\n",
       "| 2 | 1001067 | 1  | NA | NA | NA | 50 | NA | NA | NA | 2 | 50 |\n",
       "| 3 | 1001384 | 1  | NA | NA | NA | 61 | NA | NA | NA | 2 | 61 |\n",
       "| 4 | 1001459 | 1  | NA | NA | NA | 64 | NA | NA | NA | 2 | 64 |\n",
       "| 5 | 1002548 | 1  | NA | NA | NA | 62 | NA | NA | NA | 2 | 62 |\n",
       "| 6 | 1002888 | 1  | NA | NA | NA | 68 | NA | NA | NA | 2 | 68 |\n",
       "\n"
      ],
      "text/plain": [
       "  IID     f.3393.0.0_recode f.3393.1.0_recode f.3393.2.0_recode\n",
       "1 1000112 NA                NA                1                \n",
       "2 1001067 1                 NA                NA               \n",
       "3 1001384 1                 NA                NA               \n",
       "4 1001459 1                 NA                NA               \n",
       "5 1002548 1                 NA                NA               \n",
       "6 1002888 1                 NA                NA               \n",
       "  f.3393.3.0_recode f.21003.0.0 f.21003.1.0 f.21003.2.0 f.21003.3.0 visit_idx\n",
       "1 NA                58          NA          68          NA          4        \n",
       "2 NA                50          NA          NA          NA          2        \n",
       "3 NA                61          NA          NA          NA          2        \n",
       "4 NA                64          NA          NA          NA          2        \n",
       "5 NA                62          NA          NA          NA          2        \n",
       "6 NA                68          NA          NA          NA          2        \n",
       "  age_final_aid\n",
       "1 68           \n",
       "2 50           \n",
       "3 61           \n",
       "4 64           \n",
       "5 62           \n",
       "6 68           "
      ]
     },
     "metadata": {},
     "output_type": "display_data"
    },
    {
     "data": {
      "text/plain": [
       "   Min. 1st Qu.  Median    Mean 3rd Qu.    Max. \n",
       "  40.00   61.00   65.00   63.73   68.00   81.00 "
      ]
     },
     "metadata": {},
     "output_type": "display_data"
    }
   ],
   "source": [
    "# Define offset:\n",
    "# offset: refers to the # of columns between the first age column (i.e.f.21003.0.0) and the first recode column (i.e.f.3393.0.0_recode)\n",
    "offset = which(colnames(aid_age_cases) == 'f.21003.0.0') - which(colnames(aid_age_cases) == 'f.3393.0.0_recode')\n",
    "\n",
    "# Define the function to extract the first time they said yes for cases \n",
    "f=get_age_func <- function(x) {\n",
    "  visit_index=x[which(colnames(aid_age_cases)==\"visit_idx\")]\n",
    "  index=min(unlist(visit_index))+offset\n",
    "  age=x[index]\n",
    "  final_age=unlist(age)\n",
    "  if(is.null(final_age))\n",
    "  {final_age<-NA}\n",
    "  return(final_age)\n",
    "}\n",
    "\n",
    "# Get the final age for cases\n",
    "aid_age_cases$age_final_aid = apply(aid_age_cases, 1, f)\n",
    "\n",
    "# Show first 6 rows\n",
    "head(aid_age_cases)\n",
    "summary(aid_age_cases$age_final_aid)"
   ]
  },
  {
   "cell_type": "code",
   "execution_count": 75,
   "metadata": {
    "kernel": "R"
   },
   "outputs": [
    {
     "data": {
      "text/html": [
       "0"
      ],
      "text/latex": [
       "0"
      ],
      "text/markdown": [
       "0"
      ],
      "text/plain": [
       "[1] 0"
      ]
     },
     "metadata": {},
     "output_type": "display_data"
    }
   ],
   "source": [
    "length(which(aid_age_cases$age_final_aid < 40))"
   ]
  },
  {
   "cell_type": "code",
   "execution_count": 79,
   "metadata": {
    "kernel": "R"
   },
   "outputs": [
    {
     "data": {
      "text/html": [
       "<table>\n",
       "<caption>A data.frame: 6 × 9</caption>\n",
       "<thead>\n",
       "\t<tr><th></th><th scope=col>IID</th><th scope=col>f.3393.0.0_recode</th><th scope=col>f.3393.1.0_recode</th><th scope=col>f.3393.2.0_recode</th><th scope=col>f.3393.3.0_recode</th><th scope=col>f.21003.0.0</th><th scope=col>f.21003.1.0</th><th scope=col>f.21003.2.0</th><th scope=col>f.21003.3.0</th></tr>\n",
       "\t<tr><th></th><th scope=col>&lt;int&gt;</th><th scope=col>&lt;fct&gt;</th><th scope=col>&lt;fct&gt;</th><th scope=col>&lt;fct&gt;</th><th scope=col>&lt;fct&gt;</th><th scope=col>&lt;int&gt;</th><th scope=col>&lt;int&gt;</th><th scope=col>&lt;int&gt;</th><th scope=col>&lt;int&gt;</th></tr>\n",
       "</thead>\n",
       "<tbody>\n",
       "\t<tr><th scope=row>1</th><td>1000019</td><td>0 </td><td>NA</td><td>NA</td><td>NA</td><td>47</td><td>NA</td><td>NA</td><td>NA</td></tr>\n",
       "\t<tr><th scope=row>2</th><td>1000022</td><td>0 </td><td>NA</td><td>NA</td><td>NA</td><td>53</td><td>NA</td><td>NA</td><td>NA</td></tr>\n",
       "\t<tr><th scope=row>3</th><td>1000035</td><td>0 </td><td>NA</td><td>NA</td><td>NA</td><td>63</td><td>NA</td><td>NA</td><td>NA</td></tr>\n",
       "\t<tr><th scope=row>4</th><td>1000046</td><td>NA</td><td>NA</td><td>0 </td><td>NA</td><td>62</td><td>NA</td><td>73</td><td>NA</td></tr>\n",
       "\t<tr><th scope=row>5</th><td>1000054</td><td>0 </td><td>NA</td><td>NA</td><td>NA</td><td>65</td><td>NA</td><td>NA</td><td>NA</td></tr>\n",
       "\t<tr><th scope=row>6</th><td>1000063</td><td>0 </td><td>NA</td><td>NA</td><td>NA</td><td>43</td><td>NA</td><td>NA</td><td>NA</td></tr>\n",
       "</tbody>\n",
       "</table>\n"
      ],
      "text/latex": [
       "A data.frame: 6 × 9\n",
       "\\begin{tabular}{r|lllllllll}\n",
       "  & IID & f.3393.0.0\\_recode & f.3393.1.0\\_recode & f.3393.2.0\\_recode & f.3393.3.0\\_recode & f.21003.0.0 & f.21003.1.0 & f.21003.2.0 & f.21003.3.0\\\\\n",
       "  & <int> & <fct> & <fct> & <fct> & <fct> & <int> & <int> & <int> & <int>\\\\\n",
       "\\hline\n",
       "\t1 & 1000019 & 0  & NA & NA & NA & 47 & NA & NA & NA\\\\\n",
       "\t2 & 1000022 & 0  & NA & NA & NA & 53 & NA & NA & NA\\\\\n",
       "\t3 & 1000035 & 0  & NA & NA & NA & 63 & NA & NA & NA\\\\\n",
       "\t4 & 1000046 & NA & NA & 0  & NA & 62 & NA & 73 & NA\\\\\n",
       "\t5 & 1000054 & 0  & NA & NA & NA & 65 & NA & NA & NA\\\\\n",
       "\t6 & 1000063 & 0  & NA & NA & NA & 43 & NA & NA & NA\\\\\n",
       "\\end{tabular}\n"
      ],
      "text/markdown": [
       "\n",
       "A data.frame: 6 × 9\n",
       "\n",
       "| <!--/--> | IID &lt;int&gt; | f.3393.0.0_recode &lt;fct&gt; | f.3393.1.0_recode &lt;fct&gt; | f.3393.2.0_recode &lt;fct&gt; | f.3393.3.0_recode &lt;fct&gt; | f.21003.0.0 &lt;int&gt; | f.21003.1.0 &lt;int&gt; | f.21003.2.0 &lt;int&gt; | f.21003.3.0 &lt;int&gt; |\n",
       "|---|---|---|---|---|---|---|---|---|---|\n",
       "| 1 | 1000019 | 0  | NA | NA | NA | 47 | NA | NA | NA |\n",
       "| 2 | 1000022 | 0  | NA | NA | NA | 53 | NA | NA | NA |\n",
       "| 3 | 1000035 | 0  | NA | NA | NA | 63 | NA | NA | NA |\n",
       "| 4 | 1000046 | NA | NA | 0  | NA | 62 | NA | 73 | NA |\n",
       "| 5 | 1000054 | 0  | NA | NA | NA | 65 | NA | NA | NA |\n",
       "| 6 | 1000063 | 0  | NA | NA | NA | 43 | NA | NA | NA |\n",
       "\n"
      ],
      "text/plain": [
       "  IID     f.3393.0.0_recode f.3393.1.0_recode f.3393.2.0_recode\n",
       "1 1000019 0                 NA                NA               \n",
       "2 1000022 0                 NA                NA               \n",
       "3 1000035 0                 NA                NA               \n",
       "4 1000046 NA                NA                0                \n",
       "5 1000054 0                 NA                NA               \n",
       "6 1000063 0                 NA                NA               \n",
       "  f.3393.3.0_recode f.21003.0.0 f.21003.1.0 f.21003.2.0 f.21003.3.0\n",
       "1 NA                47          NA          NA          NA         \n",
       "2 NA                53          NA          NA          NA         \n",
       "3 NA                63          NA          NA          NA         \n",
       "4 NA                62          NA          73          NA         \n",
       "5 NA                65          NA          NA          NA         \n",
       "6 NA                43          NA          NA          NA         "
      ]
     },
     "metadata": {},
     "output_type": "display_data"
    },
    {
     "data": {
      "text/html": [
       "245222"
      ],
      "text/latex": [
       "245222"
      ],
      "text/markdown": [
       "245222"
      ],
      "text/plain": [
       "[1] 245222"
      ]
     },
     "metadata": {},
     "output_type": "display_data"
    }
   ],
   "source": [
    "### Extract age for Control (3393)\n",
    "aid_age_control <- hearing_aid %>% \n",
    "  filter(hearing_aid_cat == \"0\" & z974_include == FALSE) %>%\n",
    "  select(IID, f.3393.0.0_recode, f.3393.1.0_recode, f.3393.2.0_recode, f.3393.3.0_recode, f.21003.0.0, f.21003.1.0, f.21003.2.0, f.21003.3.0)\n",
    "head(aid_age_control)\n",
    "nrow(aid_age_control)"
   ]
  },
  {
   "cell_type": "code",
   "execution_count": 80,
   "metadata": {
    "kernel": "R"
   },
   "outputs": [
    {
     "data": {
      "text/html": [
       "<table>\n",
       "<caption>A data.frame: 6 × 11</caption>\n",
       "<thead>\n",
       "\t<tr><th></th><th scope=col>IID</th><th scope=col>f.3393.0.0_recode</th><th scope=col>f.3393.1.0_recode</th><th scope=col>f.3393.2.0_recode</th><th scope=col>f.3393.3.0_recode</th><th scope=col>f.21003.0.0</th><th scope=col>f.21003.1.0</th><th scope=col>f.21003.2.0</th><th scope=col>f.21003.3.0</th><th scope=col>visit_idx</th><th scope=col>age_final_aid</th></tr>\n",
       "\t<tr><th></th><th scope=col>&lt;int&gt;</th><th scope=col>&lt;fct&gt;</th><th scope=col>&lt;fct&gt;</th><th scope=col>&lt;fct&gt;</th><th scope=col>&lt;fct&gt;</th><th scope=col>&lt;int&gt;</th><th scope=col>&lt;int&gt;</th><th scope=col>&lt;int&gt;</th><th scope=col>&lt;int&gt;</th><th scope=col>&lt;list&gt;</th><th scope=col>&lt;int&gt;</th></tr>\n",
       "</thead>\n",
       "<tbody>\n",
       "\t<tr><th scope=row>1</th><td>1000019</td><td>0 </td><td>NA</td><td>NA</td><td>NA</td><td>47</td><td>NA</td><td>NA</td><td>NA</td><td>2</td><td>47</td></tr>\n",
       "\t<tr><th scope=row>2</th><td>1000022</td><td>0 </td><td>NA</td><td>NA</td><td>NA</td><td>53</td><td>NA</td><td>NA</td><td>NA</td><td>2</td><td>53</td></tr>\n",
       "\t<tr><th scope=row>3</th><td>1000035</td><td>0 </td><td>NA</td><td>NA</td><td>NA</td><td>63</td><td>NA</td><td>NA</td><td>NA</td><td>2</td><td>63</td></tr>\n",
       "\t<tr><th scope=row>4</th><td>1000046</td><td>NA</td><td>NA</td><td>0 </td><td>NA</td><td>62</td><td>NA</td><td>73</td><td>NA</td><td>4</td><td>73</td></tr>\n",
       "\t<tr><th scope=row>5</th><td>1000054</td><td>0 </td><td>NA</td><td>NA</td><td>NA</td><td>65</td><td>NA</td><td>NA</td><td>NA</td><td>2</td><td>65</td></tr>\n",
       "\t<tr><th scope=row>6</th><td>1000063</td><td>0 </td><td>NA</td><td>NA</td><td>NA</td><td>43</td><td>NA</td><td>NA</td><td>NA</td><td>2</td><td>43</td></tr>\n",
       "</tbody>\n",
       "</table>\n"
      ],
      "text/latex": [
       "A data.frame: 6 × 11\n",
       "\\begin{tabular}{r|lllllllllll}\n",
       "  & IID & f.3393.0.0\\_recode & f.3393.1.0\\_recode & f.3393.2.0\\_recode & f.3393.3.0\\_recode & f.21003.0.0 & f.21003.1.0 & f.21003.2.0 & f.21003.3.0 & visit\\_idx & age\\_final\\_aid\\\\\n",
       "  & <int> & <fct> & <fct> & <fct> & <fct> & <int> & <int> & <int> & <int> & <list> & <int>\\\\\n",
       "\\hline\n",
       "\t1 & 1000019 & 0  & NA & NA & NA & 47 & NA & NA & NA & 2 & 47\\\\\n",
       "\t2 & 1000022 & 0  & NA & NA & NA & 53 & NA & NA & NA & 2 & 53\\\\\n",
       "\t3 & 1000035 & 0  & NA & NA & NA & 63 & NA & NA & NA & 2 & 63\\\\\n",
       "\t4 & 1000046 & NA & NA & 0  & NA & 62 & NA & 73 & NA & 4 & 73\\\\\n",
       "\t5 & 1000054 & 0  & NA & NA & NA & 65 & NA & NA & NA & 2 & 65\\\\\n",
       "\t6 & 1000063 & 0  & NA & NA & NA & 43 & NA & NA & NA & 2 & 43\\\\\n",
       "\\end{tabular}\n"
      ],
      "text/markdown": [
       "\n",
       "A data.frame: 6 × 11\n",
       "\n",
       "| <!--/--> | IID &lt;int&gt; | f.3393.0.0_recode &lt;fct&gt; | f.3393.1.0_recode &lt;fct&gt; | f.3393.2.0_recode &lt;fct&gt; | f.3393.3.0_recode &lt;fct&gt; | f.21003.0.0 &lt;int&gt; | f.21003.1.0 &lt;int&gt; | f.21003.2.0 &lt;int&gt; | f.21003.3.0 &lt;int&gt; | visit_idx &lt;list&gt; | age_final_aid &lt;int&gt; |\n",
       "|---|---|---|---|---|---|---|---|---|---|---|---|\n",
       "| 1 | 1000019 | 0  | NA | NA | NA | 47 | NA | NA | NA | 2 | 47 |\n",
       "| 2 | 1000022 | 0  | NA | NA | NA | 53 | NA | NA | NA | 2 | 53 |\n",
       "| 3 | 1000035 | 0  | NA | NA | NA | 63 | NA | NA | NA | 2 | 63 |\n",
       "| 4 | 1000046 | NA | NA | 0  | NA | 62 | NA | 73 | NA | 4 | 73 |\n",
       "| 5 | 1000054 | 0  | NA | NA | NA | 65 | NA | NA | NA | 2 | 65 |\n",
       "| 6 | 1000063 | 0  | NA | NA | NA | 43 | NA | NA | NA | 2 | 43 |\n",
       "\n"
      ],
      "text/plain": [
       "  IID     f.3393.0.0_recode f.3393.1.0_recode f.3393.2.0_recode\n",
       "1 1000019 0                 NA                NA               \n",
       "2 1000022 0                 NA                NA               \n",
       "3 1000035 0                 NA                NA               \n",
       "4 1000046 NA                NA                0                \n",
       "5 1000054 0                 NA                NA               \n",
       "6 1000063 0                 NA                NA               \n",
       "  f.3393.3.0_recode f.21003.0.0 f.21003.1.0 f.21003.2.0 f.21003.3.0 visit_idx\n",
       "1 NA                47          NA          NA          NA          2        \n",
       "2 NA                53          NA          NA          NA          2        \n",
       "3 NA                63          NA          NA          NA          2        \n",
       "4 NA                62          NA          73          NA          4        \n",
       "5 NA                65          NA          NA          NA          2        \n",
       "6 NA                43          NA          NA          NA          2        \n",
       "  age_final_aid\n",
       "1 47           \n",
       "2 53           \n",
       "3 63           \n",
       "4 73           \n",
       "5 65           \n",
       "6 43           "
      ]
     },
     "metadata": {},
     "output_type": "display_data"
    },
    {
     "data": {
      "text/plain": [
       "   Min. 1st Qu.  Median    Mean 3rd Qu.    Max. \n",
       "  39.00   52.00   60.00   58.41   65.00   82.00 "
      ]
     },
     "metadata": {},
     "output_type": "display_data"
    }
   ],
   "source": [
    "# Get the # of column where last replied No:\n",
    "aid_age_control$visit_idx = apply(aid_age_control, 1, function(x) unlist(which(x == '0')))\n",
    "                                  \n",
    "# Define offset:\n",
    "# offset: refers to the # of columns between the first age column (i.e.f.21003.0.0) and the first recode column (i.e.f.3393.0.0_recode)\n",
    "offset = which(colnames(aid_age_control) == 'f.21003.0.0') - which(colnames(aid_age_control) == 'f.3393.0.0_recode')\n",
    "# Define the function to extract the last time they said no for control\n",
    "\n",
    "f=get_age_func <- function(x) {\n",
    "  visit_index=x[which(colnames(aid_age_control)==\"visit_idx\")]\n",
    "  index=max(unlist(visit_index))+offset\n",
    "  age=x[index]\n",
    "  age=unlist(age)\n",
    "  if(is.null(age))\n",
    "  {age<-NA}\n",
    "  return(age)\n",
    "}\n",
    "# Get the final age for controls\n",
    "aid_age_control$age_final_aid = apply(aid_age_control, 1, f)\n",
    "\n",
    "# Show first 6 rows\n",
    "head(aid_age_control)\n",
    "summary(aid_age_control$age_final_aid)"
   ]
  },
  {
   "cell_type": "code",
   "execution_count": 81,
   "metadata": {
    "kernel": "R"
   },
   "outputs": [
    {
     "data": {
      "text/html": [
       "42591"
      ],
      "text/latex": [
       "42591"
      ],
      "text/markdown": [
       "42591"
      ],
      "text/plain": [
       "[1] 42591"
      ]
     },
     "metadata": {},
     "output_type": "display_data"
    }
   ],
   "source": [
    "length(which(aid_age_control$age_final_aid < 50))"
   ]
  },
  {
   "cell_type": "code",
   "execution_count": 247,
   "metadata": {
    "kernel": "R"
   },
   "outputs": [
    {
     "data": {
      "text/html": [
       "<style>\n",
       ".list-inline {list-style: none; margin:0; padding: 0}\n",
       ".list-inline>li {display: inline-block}\n",
       ".list-inline>li:not(:last-child)::after {content: \"\\00b7\"; padding: 0 .5ex}\n",
       "</style>\n",
       "<ol class=list-inline><li>259003</li><li>11</li></ol>\n"
      ],
      "text/latex": [
       "\\begin{enumerate*}\n",
       "\\item 259003\n",
       "\\item 11\n",
       "\\end{enumerate*}\n"
      ],
      "text/markdown": [
       "1. 259003\n",
       "2. 11\n",
       "\n",
       "\n"
      ],
      "text/plain": [
       "[1] 259003     11"
      ]
     },
     "metadata": {},
     "output_type": "display_data"
    },
    {
     "data": {
      "text/html": [
       "<table>\n",
       "<caption>A data.frame: 6 × 11</caption>\n",
       "<thead>\n",
       "\t<tr><th></th><th scope=col>IID</th><th scope=col>f.3393.0.0_recode</th><th scope=col>f.3393.1.0_recode</th><th scope=col>f.3393.2.0_recode</th><th scope=col>f.3393.3.0_recode</th><th scope=col>f.21003.0.0</th><th scope=col>f.21003.1.0</th><th scope=col>f.21003.2.0</th><th scope=col>f.21003.3.0</th><th scope=col>visit_idx</th><th scope=col>age_final_aid</th></tr>\n",
       "\t<tr><th></th><th scope=col>&lt;int&gt;</th><th scope=col>&lt;fct&gt;</th><th scope=col>&lt;fct&gt;</th><th scope=col>&lt;fct&gt;</th><th scope=col>&lt;fct&gt;</th><th scope=col>&lt;int&gt;</th><th scope=col>&lt;int&gt;</th><th scope=col>&lt;int&gt;</th><th scope=col>&lt;int&gt;</th><th scope=col>&lt;list&gt;</th><th scope=col>&lt;int&gt;</th></tr>\n",
       "</thead>\n",
       "<tbody>\n",
       "\t<tr><th scope=row>1</th><td>1000112</td><td>NA</td><td>NA</td><td>1 </td><td>NA</td><td>58</td><td>NA</td><td>68</td><td>NA</td><td>4</td><td>68</td></tr>\n",
       "\t<tr><th scope=row>2</th><td>1001067</td><td>1 </td><td>NA</td><td>NA</td><td>NA</td><td>50</td><td>NA</td><td>NA</td><td>NA</td><td>2</td><td>50</td></tr>\n",
       "\t<tr><th scope=row>3</th><td>1001384</td><td>1 </td><td>NA</td><td>NA</td><td>NA</td><td>61</td><td>NA</td><td>NA</td><td>NA</td><td>2</td><td>61</td></tr>\n",
       "\t<tr><th scope=row>4</th><td>1001459</td><td>1 </td><td>NA</td><td>NA</td><td>NA</td><td>64</td><td>NA</td><td>NA</td><td>NA</td><td>2</td><td>64</td></tr>\n",
       "\t<tr><th scope=row>5</th><td>1002548</td><td>1 </td><td>NA</td><td>NA</td><td>NA</td><td>62</td><td>NA</td><td>NA</td><td>NA</td><td>2</td><td>62</td></tr>\n",
       "\t<tr><th scope=row>6</th><td>1002888</td><td>1 </td><td>NA</td><td>NA</td><td>NA</td><td>68</td><td>NA</td><td>NA</td><td>NA</td><td>2</td><td>68</td></tr>\n",
       "</tbody>\n",
       "</table>\n"
      ],
      "text/latex": [
       "A data.frame: 6 × 11\n",
       "\\begin{tabular}{r|lllllllllll}\n",
       "  & IID & f.3393.0.0\\_recode & f.3393.1.0\\_recode & f.3393.2.0\\_recode & f.3393.3.0\\_recode & f.21003.0.0 & f.21003.1.0 & f.21003.2.0 & f.21003.3.0 & visit\\_idx & age\\_final\\_aid\\\\\n",
       "  & <int> & <fct> & <fct> & <fct> & <fct> & <int> & <int> & <int> & <int> & <list> & <int>\\\\\n",
       "\\hline\n",
       "\t1 & 1000112 & NA & NA & 1  & NA & 58 & NA & 68 & NA & 4 & 68\\\\\n",
       "\t2 & 1001067 & 1  & NA & NA & NA & 50 & NA & NA & NA & 2 & 50\\\\\n",
       "\t3 & 1001384 & 1  & NA & NA & NA & 61 & NA & NA & NA & 2 & 61\\\\\n",
       "\t4 & 1001459 & 1  & NA & NA & NA & 64 & NA & NA & NA & 2 & 64\\\\\n",
       "\t5 & 1002548 & 1  & NA & NA & NA & 62 & NA & NA & NA & 2 & 62\\\\\n",
       "\t6 & 1002888 & 1  & NA & NA & NA & 68 & NA & NA & NA & 2 & 68\\\\\n",
       "\\end{tabular}\n"
      ],
      "text/markdown": [
       "\n",
       "A data.frame: 6 × 11\n",
       "\n",
       "| <!--/--> | IID &lt;int&gt; | f.3393.0.0_recode &lt;fct&gt; | f.3393.1.0_recode &lt;fct&gt; | f.3393.2.0_recode &lt;fct&gt; | f.3393.3.0_recode &lt;fct&gt; | f.21003.0.0 &lt;int&gt; | f.21003.1.0 &lt;int&gt; | f.21003.2.0 &lt;int&gt; | f.21003.3.0 &lt;int&gt; | visit_idx &lt;list&gt; | age_final_aid &lt;int&gt; |\n",
       "|---|---|---|---|---|---|---|---|---|---|---|---|\n",
       "| 1 | 1000112 | NA | NA | 1  | NA | 58 | NA | 68 | NA | 4 | 68 |\n",
       "| 2 | 1001067 | 1  | NA | NA | NA | 50 | NA | NA | NA | 2 | 50 |\n",
       "| 3 | 1001384 | 1  | NA | NA | NA | 61 | NA | NA | NA | 2 | 61 |\n",
       "| 4 | 1001459 | 1  | NA | NA | NA | 64 | NA | NA | NA | 2 | 64 |\n",
       "| 5 | 1002548 | 1  | NA | NA | NA | 62 | NA | NA | NA | 2 | 62 |\n",
       "| 6 | 1002888 | 1  | NA | NA | NA | 68 | NA | NA | NA | 2 | 68 |\n",
       "\n"
      ],
      "text/plain": [
       "  IID     f.3393.0.0_recode f.3393.1.0_recode f.3393.2.0_recode\n",
       "1 1000112 NA                NA                1                \n",
       "2 1001067 1                 NA                NA               \n",
       "3 1001384 1                 NA                NA               \n",
       "4 1001459 1                 NA                NA               \n",
       "5 1002548 1                 NA                NA               \n",
       "6 1002888 1                 NA                NA               \n",
       "  f.3393.3.0_recode f.21003.0.0 f.21003.1.0 f.21003.2.0 f.21003.3.0 visit_idx\n",
       "1 NA                58          NA          68          NA          4        \n",
       "2 NA                50          NA          NA          NA          2        \n",
       "3 NA                61          NA          NA          NA          2        \n",
       "4 NA                64          NA          NA          NA          2        \n",
       "5 NA                62          NA          NA          NA          2        \n",
       "6 NA                68          NA          NA          NA          2        \n",
       "  age_final_aid\n",
       "1 68           \n",
       "2 50           \n",
       "3 61           \n",
       "4 64           \n",
       "5 62           \n",
       "6 68           "
      ]
     },
     "metadata": {},
     "output_type": "display_data"
    }
   ],
   "source": [
    "# Merge age_cases and age_controls\n",
    "hearing_aid_age <- rbind(aid_age_cases, aid_age_control) \n",
    "dim(hearing_aid_age)\n",
    "head(hearing_aid_age)"
   ]
  },
  {
   "cell_type": "code",
   "execution_count": 248,
   "metadata": {
    "kernel": "R"
   },
   "outputs": [
    {
     "data": {
      "text/html": [
       "<table>\n",
       "<caption>A data.frame: 6 × 15</caption>\n",
       "<thead>\n",
       "\t<tr><th></th><th scope=col>IID</th><th scope=col>FID</th><th scope=col>f.22001.0.0</th><th scope=col>f.21003.0.0</th><th scope=col>f.21003.1.0</th><th scope=col>f.21003.2.0</th><th scope=col>f.21003.3.0</th><th scope=col>f.3393.0.0_recode</th><th scope=col>f.3393.1.0_recode</th><th scope=col>f.3393.2.0_recode</th><th scope=col>f.3393.3.0_recode</th><th scope=col>z974_include</th><th scope=col>cases</th><th scope=col>hearing_aid_cat</th><th scope=col>age_final_aid</th></tr>\n",
       "\t<tr><th></th><th scope=col>&lt;int&gt;</th><th scope=col>&lt;int&gt;</th><th scope=col>&lt;fct&gt;</th><th scope=col>&lt;int&gt;</th><th scope=col>&lt;int&gt;</th><th scope=col>&lt;int&gt;</th><th scope=col>&lt;int&gt;</th><th scope=col>&lt;fct&gt;</th><th scope=col>&lt;fct&gt;</th><th scope=col>&lt;fct&gt;</th><th scope=col>&lt;fct&gt;</th><th scope=col>&lt;lgl&gt;</th><th scope=col>&lt;lgl&gt;</th><th scope=col>&lt;int&gt;</th><th scope=col>&lt;int&gt;</th></tr>\n",
       "</thead>\n",
       "<tbody>\n",
       "\t<tr><th scope=row>1</th><td>1000019</td><td>1000019</td><td>Female</td><td>47</td><td>NA</td><td>NA</td><td>NA</td><td>0 </td><td>NA</td><td>NA</td><td>NA</td><td>FALSE</td><td>FALSE</td><td>0</td><td>47</td></tr>\n",
       "\t<tr><th scope=row>2</th><td>1000022</td><td>1000022</td><td>Male  </td><td>53</td><td>NA</td><td>NA</td><td>NA</td><td>0 </td><td>NA</td><td>NA</td><td>NA</td><td>FALSE</td><td>FALSE</td><td>0</td><td>53</td></tr>\n",
       "\t<tr><th scope=row>3</th><td>1000035</td><td>1000035</td><td>Male  </td><td>63</td><td>NA</td><td>NA</td><td>NA</td><td>0 </td><td>NA</td><td>NA</td><td>NA</td><td>FALSE</td><td>FALSE</td><td>0</td><td>63</td></tr>\n",
       "\t<tr><th scope=row>4</th><td>1000046</td><td>1000046</td><td>Female</td><td>62</td><td>NA</td><td>73</td><td>NA</td><td>NA</td><td>NA</td><td>0 </td><td>NA</td><td>FALSE</td><td>FALSE</td><td>0</td><td>73</td></tr>\n",
       "\t<tr><th scope=row>5</th><td>1000054</td><td>1000054</td><td>Female</td><td>65</td><td>NA</td><td>NA</td><td>NA</td><td>0 </td><td>NA</td><td>NA</td><td>NA</td><td>FALSE</td><td>FALSE</td><td>0</td><td>65</td></tr>\n",
       "\t<tr><th scope=row>6</th><td>1000063</td><td>1000063</td><td>Male  </td><td>43</td><td>NA</td><td>NA</td><td>NA</td><td>0 </td><td>NA</td><td>NA</td><td>NA</td><td>FALSE</td><td>FALSE</td><td>0</td><td>43</td></tr>\n",
       "</tbody>\n",
       "</table>\n"
      ],
      "text/latex": [
       "A data.frame: 6 × 15\n",
       "\\begin{tabular}{r|lllllllllllllll}\n",
       "  & IID & FID & f.22001.0.0 & f.21003.0.0 & f.21003.1.0 & f.21003.2.0 & f.21003.3.0 & f.3393.0.0\\_recode & f.3393.1.0\\_recode & f.3393.2.0\\_recode & f.3393.3.0\\_recode & z974\\_include & cases & hearing\\_aid\\_cat & age\\_final\\_aid\\\\\n",
       "  & <int> & <int> & <fct> & <int> & <int> & <int> & <int> & <fct> & <fct> & <fct> & <fct> & <lgl> & <lgl> & <int> & <int>\\\\\n",
       "\\hline\n",
       "\t1 & 1000019 & 1000019 & Female & 47 & NA & NA & NA & 0  & NA & NA & NA & FALSE & FALSE & 0 & 47\\\\\n",
       "\t2 & 1000022 & 1000022 & Male   & 53 & NA & NA & NA & 0  & NA & NA & NA & FALSE & FALSE & 0 & 53\\\\\n",
       "\t3 & 1000035 & 1000035 & Male   & 63 & NA & NA & NA & 0  & NA & NA & NA & FALSE & FALSE & 0 & 63\\\\\n",
       "\t4 & 1000046 & 1000046 & Female & 62 & NA & 73 & NA & NA & NA & 0  & NA & FALSE & FALSE & 0 & 73\\\\\n",
       "\t5 & 1000054 & 1000054 & Female & 65 & NA & NA & NA & 0  & NA & NA & NA & FALSE & FALSE & 0 & 65\\\\\n",
       "\t6 & 1000063 & 1000063 & Male   & 43 & NA & NA & NA & 0  & NA & NA & NA & FALSE & FALSE & 0 & 43\\\\\n",
       "\\end{tabular}\n"
      ],
      "text/markdown": [
       "\n",
       "A data.frame: 6 × 15\n",
       "\n",
       "| <!--/--> | IID &lt;int&gt; | FID &lt;int&gt; | f.22001.0.0 &lt;fct&gt; | f.21003.0.0 &lt;int&gt; | f.21003.1.0 &lt;int&gt; | f.21003.2.0 &lt;int&gt; | f.21003.3.0 &lt;int&gt; | f.3393.0.0_recode &lt;fct&gt; | f.3393.1.0_recode &lt;fct&gt; | f.3393.2.0_recode &lt;fct&gt; | f.3393.3.0_recode &lt;fct&gt; | z974_include &lt;lgl&gt; | cases &lt;lgl&gt; | hearing_aid_cat &lt;int&gt; | age_final_aid &lt;int&gt; |\n",
       "|---|---|---|---|---|---|---|---|---|---|---|---|---|---|---|---|\n",
       "| 1 | 1000019 | 1000019 | Female | 47 | NA | NA | NA | 0  | NA | NA | NA | FALSE | FALSE | 0 | 47 |\n",
       "| 2 | 1000022 | 1000022 | Male   | 53 | NA | NA | NA | 0  | NA | NA | NA | FALSE | FALSE | 0 | 53 |\n",
       "| 3 | 1000035 | 1000035 | Male   | 63 | NA | NA | NA | 0  | NA | NA | NA | FALSE | FALSE | 0 | 63 |\n",
       "| 4 | 1000046 | 1000046 | Female | 62 | NA | 73 | NA | NA | NA | 0  | NA | FALSE | FALSE | 0 | 73 |\n",
       "| 5 | 1000054 | 1000054 | Female | 65 | NA | NA | NA | 0  | NA | NA | NA | FALSE | FALSE | 0 | 65 |\n",
       "| 6 | 1000063 | 1000063 | Male   | 43 | NA | NA | NA | 0  | NA | NA | NA | FALSE | FALSE | 0 | 43 |\n",
       "\n"
      ],
      "text/plain": [
       "  IID     FID     f.22001.0.0 f.21003.0.0 f.21003.1.0 f.21003.2.0 f.21003.3.0\n",
       "1 1000019 1000019 Female      47          NA          NA          NA         \n",
       "2 1000022 1000022 Male        53          NA          NA          NA         \n",
       "3 1000035 1000035 Male        63          NA          NA          NA         \n",
       "4 1000046 1000046 Female      62          NA          73          NA         \n",
       "5 1000054 1000054 Female      65          NA          NA          NA         \n",
       "6 1000063 1000063 Male        43          NA          NA          NA         \n",
       "  f.3393.0.0_recode f.3393.1.0_recode f.3393.2.0_recode f.3393.3.0_recode\n",
       "1 0                 NA                NA                NA               \n",
       "2 0                 NA                NA                NA               \n",
       "3 0                 NA                NA                NA               \n",
       "4 NA                NA                0                 NA               \n",
       "5 0                 NA                NA                NA               \n",
       "6 0                 NA                NA                NA               \n",
       "  z974_include cases hearing_aid_cat age_final_aid\n",
       "1 FALSE        FALSE 0               47           \n",
       "2 FALSE        FALSE 0               53           \n",
       "3 FALSE        FALSE 0               63           \n",
       "4 FALSE        FALSE 0               73           \n",
       "5 FALSE        FALSE 0               65           \n",
       "6 FALSE        FALSE 0               43           "
      ]
     },
     "metadata": {},
     "output_type": "display_data"
    }
   ],
   "source": [
    "hearing_cat_age = merge(x = hearing_aid ,y = hearing_aid_age [,c(\"IID\",\"age_final_aid\")],by=\"IID\", all.x=TRUE)\n",
    "head(hearing_cat_age)"
   ]
  },
  {
   "cell_type": "code",
   "execution_count": 249,
   "metadata": {
    "kernel": "R"
   },
   "outputs": [
    {
     "data": {
      "text/html": [
       "<style>\n",
       ".list-inline {list-style: none; margin:0; padding: 0}\n",
       ".list-inline>li {display: inline-block}\n",
       ".list-inline>li:not(:last-child)::after {content: \"\\00b7\"; padding: 0 .5ex}\n",
       "</style>\n",
       "<ol class=list-inline><li>396974</li><li>2277</li></ol>\n"
      ],
      "text/latex": [
       "\\begin{enumerate*}\n",
       "\\item 396974\n",
       "\\item 2277\n",
       "\\end{enumerate*}\n"
      ],
      "text/markdown": [
       "1. 396974\n",
       "2. 2277\n",
       "\n",
       "\n"
      ],
      "text/plain": [
       "[1] 396974   2277"
      ]
     },
     "metadata": {},
     "output_type": "display_data"
    },
    {
     "data": {
      "text/html": [
       "<table>\n",
       "<caption>A data.frame: 6 × 2277</caption>\n",
       "<thead>\n",
       "\t<tr><th></th><th scope=col>IID</th><th scope=col>FID</th><th scope=col>ignore1</th><th scope=col>ignore2</th><th scope=col>ignore3</th><th scope=col>ignore4</th><th scope=col>f.31.0.0</th><th scope=col>f.34.0.0</th><th scope=col>f.53.0.0</th><th scope=col>f.53.1.0</th><th scope=col>⋯</th><th scope=col>f.2247.0.0_recode</th><th scope=col>f.2247.1.0_recode</th><th scope=col>f.2247.2.0_recode</th><th scope=col>f.2247.3.0_recode</th><th scope=col>f.2257.0.0_recode</th><th scope=col>f.2257.1.0_recode</th><th scope=col>f.2257.2.0_recode</th><th scope=col>f.2257.3.0_recode</th><th scope=col>hearing_aid_cat</th><th scope=col>age_final_aid</th></tr>\n",
       "\t<tr><th></th><th scope=col>&lt;int&gt;</th><th scope=col>&lt;int&gt;</th><th scope=col>&lt;int&gt;</th><th scope=col>&lt;int&gt;</th><th scope=col>&lt;int&gt;</th><th scope=col>&lt;int&gt;</th><th scope=col>&lt;fct&gt;</th><th scope=col>&lt;int&gt;</th><th scope=col>&lt;fct&gt;</th><th scope=col>&lt;fct&gt;</th><th scope=col>⋯</th><th scope=col>&lt;fct&gt;</th><th scope=col>&lt;fct&gt;</th><th scope=col>&lt;fct&gt;</th><th scope=col>&lt;fct&gt;</th><th scope=col>&lt;fct&gt;</th><th scope=col>&lt;fct&gt;</th><th scope=col>&lt;fct&gt;</th><th scope=col>&lt;fct&gt;</th><th scope=col>&lt;int&gt;</th><th scope=col>&lt;int&gt;</th></tr>\n",
       "</thead>\n",
       "<tbody>\n",
       "\t<tr><th scope=row>1</th><td>1000019</td><td>1000019</td><td>0</td><td>0</td><td>2</td><td>-9</td><td>Female</td><td>1960</td><td>2008-01-24</td><td>NA</td><td>⋯</td><td>1</td><td>NA</td><td>NA</td><td>NA</td><td>1</td><td>NA</td><td>NA</td><td>NA</td><td>0</td><td>47</td></tr>\n",
       "\t<tr><th scope=row>2</th><td>1000022</td><td>1000022</td><td>0</td><td>0</td><td>1</td><td>-9</td><td>Male  </td><td>1954</td><td>2008-01-22</td><td>NA</td><td>⋯</td><td>1</td><td>NA</td><td>NA</td><td>NA</td><td>1</td><td>NA</td><td>NA</td><td>NA</td><td>0</td><td>53</td></tr>\n",
       "\t<tr><th scope=row>3</th><td>1000035</td><td>1000035</td><td>0</td><td>0</td><td>1</td><td>-9</td><td>Male  </td><td>1944</td><td>2007-11-08</td><td>NA</td><td>⋯</td><td>0</td><td>NA</td><td>NA</td><td>NA</td><td>1</td><td>NA</td><td>NA</td><td>NA</td><td>0</td><td>63</td></tr>\n",
       "\t<tr><th scope=row>4</th><td>1000046</td><td>1000046</td><td>0</td><td>0</td><td>2</td><td>-9</td><td>Female</td><td>1946</td><td>2008-12-01</td><td>NA</td><td>⋯</td><td>0</td><td>NA</td><td>0 </td><td>NA</td><td>0</td><td>NA</td><td>1 </td><td>NA</td><td>0</td><td>73</td></tr>\n",
       "\t<tr><th scope=row>5</th><td>1000054</td><td>1000054</td><td>0</td><td>0</td><td>2</td><td>-9</td><td>Female</td><td>1942</td><td>2007-11-23</td><td>NA</td><td>⋯</td><td>0</td><td>NA</td><td>NA</td><td>NA</td><td>1</td><td>NA</td><td>NA</td><td>NA</td><td>0</td><td>65</td></tr>\n",
       "\t<tr><th scope=row>6</th><td>1000063</td><td>1000063</td><td>0</td><td>0</td><td>1</td><td>-9</td><td>Male  </td><td>1967</td><td>2010-06-26</td><td>NA</td><td>⋯</td><td>0</td><td>NA</td><td>NA</td><td>NA</td><td>0</td><td>NA</td><td>NA</td><td>NA</td><td>0</td><td>43</td></tr>\n",
       "</tbody>\n",
       "</table>\n"
      ],
      "text/latex": [
       "A data.frame: 6 × 2277\n",
       "\\begin{tabular}{r|lllllllllllllllllllll}\n",
       "  & IID & FID & ignore1 & ignore2 & ignore3 & ignore4 & f.31.0.0 & f.34.0.0 & f.53.0.0 & f.53.1.0 & ⋯ & f.2247.0.0\\_recode & f.2247.1.0\\_recode & f.2247.2.0\\_recode & f.2247.3.0\\_recode & f.2257.0.0\\_recode & f.2257.1.0\\_recode & f.2257.2.0\\_recode & f.2257.3.0\\_recode & hearing\\_aid\\_cat & age\\_final\\_aid\\\\\n",
       "  & <int> & <int> & <int> & <int> & <int> & <int> & <fct> & <int> & <fct> & <fct> & ⋯ & <fct> & <fct> & <fct> & <fct> & <fct> & <fct> & <fct> & <fct> & <int> & <int>\\\\\n",
       "\\hline\n",
       "\t1 & 1000019 & 1000019 & 0 & 0 & 2 & -9 & Female & 1960 & 2008-01-24 & NA & ⋯ & 1 & NA & NA & NA & 1 & NA & NA & NA & 0 & 47\\\\\n",
       "\t2 & 1000022 & 1000022 & 0 & 0 & 1 & -9 & Male   & 1954 & 2008-01-22 & NA & ⋯ & 1 & NA & NA & NA & 1 & NA & NA & NA & 0 & 53\\\\\n",
       "\t3 & 1000035 & 1000035 & 0 & 0 & 1 & -9 & Male   & 1944 & 2007-11-08 & NA & ⋯ & 0 & NA & NA & NA & 1 & NA & NA & NA & 0 & 63\\\\\n",
       "\t4 & 1000046 & 1000046 & 0 & 0 & 2 & -9 & Female & 1946 & 2008-12-01 & NA & ⋯ & 0 & NA & 0  & NA & 0 & NA & 1  & NA & 0 & 73\\\\\n",
       "\t5 & 1000054 & 1000054 & 0 & 0 & 2 & -9 & Female & 1942 & 2007-11-23 & NA & ⋯ & 0 & NA & NA & NA & 1 & NA & NA & NA & 0 & 65\\\\\n",
       "\t6 & 1000063 & 1000063 & 0 & 0 & 1 & -9 & Male   & 1967 & 2010-06-26 & NA & ⋯ & 0 & NA & NA & NA & 0 & NA & NA & NA & 0 & 43\\\\\n",
       "\\end{tabular}\n"
      ],
      "text/markdown": [
       "\n",
       "A data.frame: 6 × 2277\n",
       "\n",
       "| <!--/--> | IID &lt;int&gt; | FID &lt;int&gt; | ignore1 &lt;int&gt; | ignore2 &lt;int&gt; | ignore3 &lt;int&gt; | ignore4 &lt;int&gt; | f.31.0.0 &lt;fct&gt; | f.34.0.0 &lt;int&gt; | f.53.0.0 &lt;fct&gt; | f.53.1.0 &lt;fct&gt; | ⋯ ⋯ | f.2247.0.0_recode &lt;fct&gt; | f.2247.1.0_recode &lt;fct&gt; | f.2247.2.0_recode &lt;fct&gt; | f.2247.3.0_recode &lt;fct&gt; | f.2257.0.0_recode &lt;fct&gt; | f.2257.1.0_recode &lt;fct&gt; | f.2257.2.0_recode &lt;fct&gt; | f.2257.3.0_recode &lt;fct&gt; | hearing_aid_cat &lt;int&gt; | age_final_aid &lt;int&gt; |\n",
       "|---|---|---|---|---|---|---|---|---|---|---|---|---|---|---|---|---|---|---|---|---|---|\n",
       "| 1 | 1000019 | 1000019 | 0 | 0 | 2 | -9 | Female | 1960 | 2008-01-24 | NA | ⋯ | 1 | NA | NA | NA | 1 | NA | NA | NA | 0 | 47 |\n",
       "| 2 | 1000022 | 1000022 | 0 | 0 | 1 | -9 | Male   | 1954 | 2008-01-22 | NA | ⋯ | 1 | NA | NA | NA | 1 | NA | NA | NA | 0 | 53 |\n",
       "| 3 | 1000035 | 1000035 | 0 | 0 | 1 | -9 | Male   | 1944 | 2007-11-08 | NA | ⋯ | 0 | NA | NA | NA | 1 | NA | NA | NA | 0 | 63 |\n",
       "| 4 | 1000046 | 1000046 | 0 | 0 | 2 | -9 | Female | 1946 | 2008-12-01 | NA | ⋯ | 0 | NA | 0  | NA | 0 | NA | 1  | NA | 0 | 73 |\n",
       "| 5 | 1000054 | 1000054 | 0 | 0 | 2 | -9 | Female | 1942 | 2007-11-23 | NA | ⋯ | 0 | NA | NA | NA | 1 | NA | NA | NA | 0 | 65 |\n",
       "| 6 | 1000063 | 1000063 | 0 | 0 | 1 | -9 | Male   | 1967 | 2010-06-26 | NA | ⋯ | 0 | NA | NA | NA | 0 | NA | NA | NA | 0 | 43 |\n",
       "\n"
      ],
      "text/plain": [
       "  IID     FID     ignore1 ignore2 ignore3 ignore4 f.31.0.0 f.34.0.0 f.53.0.0  \n",
       "1 1000019 1000019 0       0       2       -9      Female   1960     2008-01-24\n",
       "2 1000022 1000022 0       0       1       -9      Male     1954     2008-01-22\n",
       "3 1000035 1000035 0       0       1       -9      Male     1944     2007-11-08\n",
       "4 1000046 1000046 0       0       2       -9      Female   1946     2008-12-01\n",
       "5 1000054 1000054 0       0       2       -9      Female   1942     2007-11-23\n",
       "6 1000063 1000063 0       0       1       -9      Male     1967     2010-06-26\n",
       "  f.53.1.0 ⋯ f.2247.0.0_recode f.2247.1.0_recode f.2247.2.0_recode\n",
       "1 NA       ⋯ 1                 NA                NA               \n",
       "2 NA       ⋯ 1                 NA                NA               \n",
       "3 NA       ⋯ 0                 NA                NA               \n",
       "4 NA       ⋯ 0                 NA                0                \n",
       "5 NA       ⋯ 0                 NA                NA               \n",
       "6 NA       ⋯ 0                 NA                NA               \n",
       "  f.2247.3.0_recode f.2257.0.0_recode f.2257.1.0_recode f.2257.2.0_recode\n",
       "1 NA                1                 NA                NA               \n",
       "2 NA                1                 NA                NA               \n",
       "3 NA                1                 NA                NA               \n",
       "4 NA                0                 NA                1                \n",
       "5 NA                1                 NA                NA               \n",
       "6 NA                0                 NA                NA               \n",
       "  f.2257.3.0_recode hearing_aid_cat age_final_aid\n",
       "1 NA                0               47           \n",
       "2 NA                0               53           \n",
       "3 NA                0               63           \n",
       "4 NA                0               73           \n",
       "5 NA                0               65           \n",
       "6 NA                0               43           "
      ]
     },
     "metadata": {},
     "output_type": "display_data"
    }
   ],
   "source": [
    "#Merge with complete database keep the all the rows from original db\n",
    "df_3393 = merge(x = df.final.imp, y = hearing_cat_age [,c(\"IID\",\"hearing_aid_cat\",\"age_final_aid\")],by=\"IID\", all.x=TRUE)\n",
    "dim(df_3393)\n",
    "head(df_3393)"
   ]
  },
  {
   "cell_type": "markdown",
   "metadata": {
    "kernel": "R"
   },
   "source": [
    "## Export file for hearing aid analysis f.3393"
   ]
  },
  {
   "cell_type": "code",
   "execution_count": 250,
   "metadata": {
    "kernel": "R"
   },
   "outputs": [
    {
     "data": {
      "text/html": [
       "<table>\n",
       "<caption>A data.frame: 6 × 5</caption>\n",
       "<thead>\n",
       "\t<tr><th></th><th scope=col>FID</th><th scope=col>IID</th><th scope=col>age_final_aid</th><th scope=col>sex</th><th scope=col>hearing_aid_cat</th></tr>\n",
       "\t<tr><th></th><th scope=col>&lt;int&gt;</th><th scope=col>&lt;int&gt;</th><th scope=col>&lt;int&gt;</th><th scope=col>&lt;fct&gt;</th><th scope=col>&lt;int&gt;</th></tr>\n",
       "</thead>\n",
       "<tbody>\n",
       "\t<tr><th scope=row>1</th><td>1000019</td><td>1000019</td><td>47</td><td>1</td><td>0</td></tr>\n",
       "\t<tr><th scope=row>2</th><td>1000022</td><td>1000022</td><td>53</td><td>0</td><td>0</td></tr>\n",
       "\t<tr><th scope=row>3</th><td>1000035</td><td>1000035</td><td>63</td><td>0</td><td>0</td></tr>\n",
       "\t<tr><th scope=row>4</th><td>1000046</td><td>1000046</td><td>73</td><td>1</td><td>0</td></tr>\n",
       "\t<tr><th scope=row>5</th><td>1000054</td><td>1000054</td><td>65</td><td>1</td><td>0</td></tr>\n",
       "\t<tr><th scope=row>6</th><td>1000063</td><td>1000063</td><td>43</td><td>0</td><td>0</td></tr>\n",
       "</tbody>\n",
       "</table>\n"
      ],
      "text/latex": [
       "A data.frame: 6 × 5\n",
       "\\begin{tabular}{r|lllll}\n",
       "  & FID & IID & age\\_final\\_aid & sex & hearing\\_aid\\_cat\\\\\n",
       "  & <int> & <int> & <int> & <fct> & <int>\\\\\n",
       "\\hline\n",
       "\t1 & 1000019 & 1000019 & 47 & 1 & 0\\\\\n",
       "\t2 & 1000022 & 1000022 & 53 & 0 & 0\\\\\n",
       "\t3 & 1000035 & 1000035 & 63 & 0 & 0\\\\\n",
       "\t4 & 1000046 & 1000046 & 73 & 1 & 0\\\\\n",
       "\t5 & 1000054 & 1000054 & 65 & 1 & 0\\\\\n",
       "\t6 & 1000063 & 1000063 & 43 & 0 & 0\\\\\n",
       "\\end{tabular}\n"
      ],
      "text/markdown": [
       "\n",
       "A data.frame: 6 × 5\n",
       "\n",
       "| <!--/--> | FID &lt;int&gt; | IID &lt;int&gt; | age_final_aid &lt;int&gt; | sex &lt;fct&gt; | hearing_aid_cat &lt;int&gt; |\n",
       "|---|---|---|---|---|---|\n",
       "| 1 | 1000019 | 1000019 | 47 | 1 | 0 |\n",
       "| 2 | 1000022 | 1000022 | 53 | 0 | 0 |\n",
       "| 3 | 1000035 | 1000035 | 63 | 0 | 0 |\n",
       "| 4 | 1000046 | 1000046 | 73 | 1 | 0 |\n",
       "| 5 | 1000054 | 1000054 | 65 | 1 | 0 |\n",
       "| 6 | 1000063 | 1000063 | 43 | 0 | 0 |\n",
       "\n"
      ],
      "text/plain": [
       "  FID     IID     age_final_aid sex hearing_aid_cat\n",
       "1 1000019 1000019 47            1   0              \n",
       "2 1000022 1000022 53            0   0              \n",
       "3 1000035 1000035 63            0   0              \n",
       "4 1000046 1000046 73            1   0              \n",
       "5 1000054 1000054 65            1   0              \n",
       "6 1000063 1000063 43            0   0              "
      ]
     },
     "metadata": {},
     "output_type": "display_data"
    },
    {
     "data": {
      "text/html": [
       "<style>\n",
       ".list-inline {list-style: none; margin:0; padding: 0}\n",
       ".list-inline>li {display: inline-block}\n",
       ".list-inline>li:not(:last-child)::after {content: \"\\00b7\"; padding: 0 .5ex}\n",
       "</style>\n",
       "<ol class=list-inline><li>259003</li><li>5</li></ol>\n"
      ],
      "text/latex": [
       "\\begin{enumerate*}\n",
       "\\item 259003\n",
       "\\item 5\n",
       "\\end{enumerate*}\n"
      ],
      "text/markdown": [
       "1. 259003\n",
       "2. 5\n",
       "\n",
       "\n"
      ],
      "text/plain": [
       "[1] 259003      5"
      ]
     },
     "metadata": {},
     "output_type": "display_data"
    }
   ],
   "source": [
    "f.3393_pheno <- df_3393 %>%\n",
    "    filter(!(is.na(hearing_aid_cat))) %>%\n",
    "    select(FID, IID, age_final_aid, sex, hearing_aid_cat) \n",
    "#%>%mutate(hearing_aid_cat=recode_factor(hearing_aid_cat, `1`=\"case\",`0`=\"control\"), sex=recode_factor(sex, `1`=\"male\", `0`=\"female\" ))\n",
    "head(f.3393_pheno)\n",
    "dim(f.3393_pheno)"
   ]
  },
  {
   "cell_type": "markdown",
   "metadata": {
    "kernel": "R"
   },
   "source": [
    "## Histogram for age of cases and controls"
   ]
  },
  {
   "cell_type": "code",
   "execution_count": 251,
   "metadata": {
    "kernel": "R"
   },
   "outputs": [
    {
     "data": {
      "text/html": [
       "<table>\n",
       "<caption>A data.frame: 2 × 2</caption>\n",
       "<thead>\n",
       "\t<tr><th></th><th scope=col>hearing_aid_cat</th><th scope=col>grp.mean</th></tr>\n",
       "\t<tr><th></th><th scope=col>&lt;int&gt;</th><th scope=col>&lt;dbl&gt;</th></tr>\n",
       "</thead>\n",
       "<tbody>\n",
       "\t<tr><th scope=row>1</th><td>0</td><td>58.41274</td></tr>\n",
       "\t<tr><th scope=row>2</th><td>1</td><td>63.73249</td></tr>\n",
       "</tbody>\n",
       "</table>\n"
      ],
      "text/latex": [
       "A data.frame: 2 × 2\n",
       "\\begin{tabular}{r|ll}\n",
       "  & hearing\\_aid\\_cat & grp.mean\\\\\n",
       "  & <int> & <dbl>\\\\\n",
       "\\hline\n",
       "\t1 & 0 & 58.41274\\\\\n",
       "\t2 & 1 & 63.73249\\\\\n",
       "\\end{tabular}\n"
      ],
      "text/markdown": [
       "\n",
       "A data.frame: 2 × 2\n",
       "\n",
       "| <!--/--> | hearing_aid_cat &lt;int&gt; | grp.mean &lt;dbl&gt; |\n",
       "|---|---|---|\n",
       "| 1 | 0 | 58.41274 |\n",
       "| 2 | 1 | 63.73249 |\n",
       "\n"
      ],
      "text/plain": [
       "  hearing_aid_cat grp.mean\n",
       "1 0               58.41274\n",
       "2 1               63.73249"
      ]
     },
     "metadata": {},
     "output_type": "display_data"
    }
   ],
   "source": [
    "mu <- ddply(f.3393_pheno, \"hearing_aid_cat\", summarise, grp.mean=mean(age_final_aid))\n",
    "head(mu)"
   ]
  },
  {
   "cell_type": "code",
   "execution_count": 252,
   "metadata": {
    "kernel": "R"
   },
   "outputs": [
    {
     "name": "stderr",
     "output_type": "stream",
     "text": [
      "ERROR while rich displaying an object: Error: Continuous value supplied to discrete scale\n",
      "\n",
      "Traceback:\n",
      "1. FUN(X[[i]], ...)\n",
      "2. tryCatch(withCallingHandlers({\n",
      " .     if (!mime %in% names(repr::mime2repr)) \n",
      " .         stop(\"No repr_* for mimetype \", mime, \" in repr::mime2repr\")\n",
      " .     rpr <- repr::mime2repr[[mime]](obj)\n",
      " .     if (is.null(rpr)) \n",
      " .         return(NULL)\n",
      " .     prepare_content(is.raw(rpr), rpr)\n",
      " . }, error = error_handler), error = outer_handler)\n",
      "3. tryCatchList(expr, classes, parentenv, handlers)\n",
      "4. tryCatchOne(expr, names, parentenv, handlers[[1L]])\n",
      "5. doTryCatch(return(expr), name, parentenv, handler)\n",
      "6. withCallingHandlers({\n",
      " .     if (!mime %in% names(repr::mime2repr)) \n",
      " .         stop(\"No repr_* for mimetype \", mime, \" in repr::mime2repr\")\n",
      " .     rpr <- repr::mime2repr[[mime]](obj)\n",
      " .     if (is.null(rpr)) \n",
      " .         return(NULL)\n",
      " .     prepare_content(is.raw(rpr), rpr)\n",
      " . }, error = error_handler)\n",
      "7. repr::mime2repr[[mime]](obj)\n",
      "8. repr_text.default(obj)\n",
      "9. paste(capture.output(print(obj)), collapse = \"\\n\")\n",
      "10. capture.output(print(obj))\n",
      "11. evalVis(expr)\n",
      "12. withVisible(eval(expr, pf))\n",
      "13. eval(expr, pf)\n",
      "14. eval(expr, pf)\n",
      "15. print(obj)\n",
      "16. print.ggplot(obj)\n",
      "17. ggplot_build(x)\n",
      "18. ggplot_build.ggplot(x)\n",
      "19. lapply(data, scales_train_df, scales = npscales)\n",
      "20. FUN(X[[i]], ...)\n",
      "21. lapply(scales$scales, function(scale) scale$train_df(df = df))\n",
      "22. FUN(X[[i]], ...)\n",
      "23. scale$train_df(df = df)\n",
      "24. f(..., self = self)\n",
      "25. self$train(df[[aesthetic]])\n",
      "26. f(..., self = self)\n",
      "27. self$range$train(x, drop = self$drop, na.rm = !self$na.translate)\n",
      "28. f(..., self = self)\n",
      "29. scales::train_discrete(x, self$range, drop = drop, na.rm = na.rm)\n",
      "30. stop(\"Continuous value supplied to discrete scale\", call. = FALSE)\n"
     ]
    },
    {
     "data": {
      "image/png": "[encoded data removed]",
      "text/plain": [
       "plot without title"
      ]
     },
     "metadata": {
      "image/png": {
       "height": 420,
       "width": 420
      },
      "text/plain": {
       "height": 420,
       "width": 420
      }
     },
     "output_type": "display_data"
    }
   ],
   "source": [
    "ggplot(f.3393_pheno, aes(x=age_final_aid, fill=hearing_aid_cat, color=hearing_aid_cat)) +\n",
    " geom_histogram(binwidth=1, alpha=0.5, position=\"identity\")+\n",
    "  scale_color_brewer(palette=\"Dark2\")+\n",
    "  scale_fill_brewer(palette=\"Dark2\") +\n",
    "  theme(legend.position=\"top\") +\n",
    "  geom_vline(data=mu, aes(xintercept=grp.mean, color=hearing_aid_cat),\n",
    "             linetype=\"dashed\") +\n",
    "  theme_classic()"
   ]
  },
  {
   "cell_type": "code",
   "execution_count": 253,
   "metadata": {
    "kernel": "R"
   },
   "outputs": [
    {
     "data": {
      "text/html": [
       "42597"
      ],
      "text/latex": [
       "42597"
      ],
      "text/markdown": [
       "42597"
      ],
      "text/plain": [
       "[1] 42597"
      ]
     },
     "metadata": {},
     "output_type": "display_data"
    }
   ],
   "source": [
    "length(which((f.3393_pheno$hearing_aid_cat==\"0\" & f.3393_pheno$age_final_aid <50)))"
   ]
  },
  {
   "cell_type": "code",
   "execution_count": 254,
   "metadata": {
    "kernel": "R"
   },
   "outputs": [
    {
     "data": {
      "text/html": [
       "574"
      ],
      "text/latex": [
       "574"
      ],
      "text/markdown": [
       "574"
      ],
      "text/plain": [
       "[1] 574"
      ]
     },
     "metadata": {},
     "output_type": "display_data"
    }
   ],
   "source": [
    "length(which((f.3393_pheno$hearing_aid_cat==\"1\" & f.3393_pheno$age_final_aid <50)))"
   ]
  },
  {
   "cell_type": "code",
   "execution_count": 255,
   "metadata": {
    "kernel": "R"
   },
   "outputs": [
    {
     "data": {
      "text/html": [
       "<table>\n",
       "<caption>A data.frame: 2 × 2</caption>\n",
       "<thead>\n",
       "\t<tr><th></th><th scope=col>sex</th><th scope=col>grp.mean</th></tr>\n",
       "\t<tr><th></th><th scope=col>&lt;fct&gt;</th><th scope=col>&lt;dbl&gt;</th></tr>\n",
       "</thead>\n",
       "<tbody>\n",
       "\t<tr><th scope=row>1</th><td>1</td><td>58.34274</td></tr>\n",
       "\t<tr><th scope=row>2</th><td>0</td><td>59.06506</td></tr>\n",
       "</tbody>\n",
       "</table>\n"
      ],
      "text/latex": [
       "A data.frame: 2 × 2\n",
       "\\begin{tabular}{r|ll}\n",
       "  & sex & grp.mean\\\\\n",
       "  & <fct> & <dbl>\\\\\n",
       "\\hline\n",
       "\t1 & 1 & 58.34274\\\\\n",
       "\t2 & 0 & 59.06506\\\\\n",
       "\\end{tabular}\n"
      ],
      "text/markdown": [
       "\n",
       "A data.frame: 2 × 2\n",
       "\n",
       "| <!--/--> | sex &lt;fct&gt; | grp.mean &lt;dbl&gt; |\n",
       "|---|---|---|\n",
       "| 1 | 1 | 58.34274 |\n",
       "| 2 | 0 | 59.06506 |\n",
       "\n"
      ],
      "text/plain": [
       "  sex grp.mean\n",
       "1 1   58.34274\n",
       "2 0   59.06506"
      ]
     },
     "metadata": {},
     "output_type": "display_data"
    }
   ],
   "source": [
    "mu1 <- ddply(f.3393_pheno, \"sex\", summarise, grp.mean=mean(age_final_aid))\n",
    "head(mu1)"
   ]
  },
  {
   "cell_type": "code",
   "execution_count": 256,
   "metadata": {
    "kernel": "R"
   },
   "outputs": [
    {
     "data": {
      "image/png": "[encoded data removed]",
      "text/plain": [
       "plot without title"
      ]
     },
     "metadata": {
      "image/png": {
       "height": 420,
       "width": 420
      },
      "text/plain": {
       "height": 420,
       "width": 420
      }
     },
     "output_type": "display_data"
    }
   ],
   "source": [
    "ggplot(f.3393_pheno, aes(x=age_final_aid, fill=sex, color=sex)) +\n",
    " geom_histogram(binwidth=1, alpha=0.5, position=\"identity\")+\n",
    "  scale_color_brewer(palette=\"Dark2\")+\n",
    "  scale_fill_brewer(palette=\"Dark2\") +\n",
    "  theme(legend.position=\"top\") +\n",
    "  theme_classic() +\n",
    "  facet_grid(hearing_aid_cat ~ .)"
   ]
  },
  {
   "cell_type": "markdown",
   "metadata": {
    "kernel": "R"
   },
   "source": [
    "## Find out controls positive for f.2247 & f.2257"
   ]
  },
  {
   "cell_type": "code",
   "execution_count": 257,
   "metadata": {
    "kernel": "R"
   },
   "outputs": [
    {
     "data": {
      "text/html": [
       "<table>\n",
       "<caption>A data.frame: 6 × 23</caption>\n",
       "<thead>\n",
       "\t<tr><th></th><th scope=col>FID</th><th scope=col>IID</th><th scope=col>age_final_aid</th><th scope=col>sex</th><th scope=col>hearing_aid_cat</th><th scope=col>f.2247.0.0</th><th scope=col>f.2247.1.0</th><th scope=col>f.2247.2.0</th><th scope=col>f.2247.3.0</th><th scope=col>f.2247.0.0_recode</th><th scope=col>⋯</th><th scope=col>f.2257.0.0</th><th scope=col>f.2257.1.0</th><th scope=col>f.2257.2.0</th><th scope=col>f.2257.3.0</th><th scope=col>f.2257.0.0_recode</th><th scope=col>f.2257.1.0_recode</th><th scope=col>f.2257.2.0_recode</th><th scope=col>f.2257.3.0_recode</th><th scope=col>remove_2247</th><th scope=col>remove_2257</th></tr>\n",
       "\t<tr><th></th><th scope=col>&lt;int&gt;</th><th scope=col>&lt;int&gt;</th><th scope=col>&lt;int&gt;</th><th scope=col>&lt;fct&gt;</th><th scope=col>&lt;int&gt;</th><th scope=col>&lt;fct&gt;</th><th scope=col>&lt;fct&gt;</th><th scope=col>&lt;fct&gt;</th><th scope=col>&lt;fct&gt;</th><th scope=col>&lt;fct&gt;</th><th scope=col>⋯</th><th scope=col>&lt;fct&gt;</th><th scope=col>&lt;fct&gt;</th><th scope=col>&lt;fct&gt;</th><th scope=col>&lt;fct&gt;</th><th scope=col>&lt;fct&gt;</th><th scope=col>&lt;fct&gt;</th><th scope=col>&lt;fct&gt;</th><th scope=col>&lt;fct&gt;</th><th scope=col>&lt;lgl&gt;</th><th scope=col>&lt;lgl&gt;</th></tr>\n",
       "</thead>\n",
       "<tbody>\n",
       "\t<tr><th scope=row>1</th><td>1000019</td><td>1000019</td><td>47</td><td>1</td><td>0</td><td>Yes</td><td>NA</td><td>NA</td><td>NA</td><td>1</td><td>⋯</td><td>Yes</td><td>NA</td><td>NA </td><td>NA</td><td>1</td><td>NA</td><td>NA</td><td>NA</td><td> TRUE</td><td> TRUE</td></tr>\n",
       "\t<tr><th scope=row>2</th><td>1000022</td><td>1000022</td><td>53</td><td>0</td><td>0</td><td>Yes</td><td>NA</td><td>NA</td><td>NA</td><td>1</td><td>⋯</td><td>Yes</td><td>NA</td><td>NA </td><td>NA</td><td>1</td><td>NA</td><td>NA</td><td>NA</td><td> TRUE</td><td> TRUE</td></tr>\n",
       "\t<tr><th scope=row>3</th><td>1000035</td><td>1000035</td><td>63</td><td>0</td><td>0</td><td>No </td><td>NA</td><td>NA</td><td>NA</td><td>0</td><td>⋯</td><td>Yes</td><td>NA</td><td>NA </td><td>NA</td><td>1</td><td>NA</td><td>NA</td><td>NA</td><td>FALSE</td><td> TRUE</td></tr>\n",
       "\t<tr><th scope=row>4</th><td>1000046</td><td>1000046</td><td>73</td><td>1</td><td>0</td><td>No </td><td>NA</td><td>No</td><td>NA</td><td>0</td><td>⋯</td><td>No </td><td>NA</td><td>Yes</td><td>NA</td><td>0</td><td>NA</td><td>1 </td><td>NA</td><td>FALSE</td><td> TRUE</td></tr>\n",
       "\t<tr><th scope=row>5</th><td>1000054</td><td>1000054</td><td>65</td><td>1</td><td>0</td><td>No </td><td>NA</td><td>NA</td><td>NA</td><td>0</td><td>⋯</td><td>Yes</td><td>NA</td><td>NA </td><td>NA</td><td>1</td><td>NA</td><td>NA</td><td>NA</td><td>FALSE</td><td> TRUE</td></tr>\n",
       "\t<tr><th scope=row>6</th><td>1000063</td><td>1000063</td><td>43</td><td>0</td><td>0</td><td>No </td><td>NA</td><td>NA</td><td>NA</td><td>0</td><td>⋯</td><td>No </td><td>NA</td><td>NA </td><td>NA</td><td>0</td><td>NA</td><td>NA</td><td>NA</td><td>FALSE</td><td>FALSE</td></tr>\n",
       "</tbody>\n",
       "</table>\n"
      ],
      "text/latex": [
       "A data.frame: 6 × 23\n",
       "\\begin{tabular}{r|lllllllllllllllllllll}\n",
       "  & FID & IID & age\\_final\\_aid & sex & hearing\\_aid\\_cat & f.2247.0.0 & f.2247.1.0 & f.2247.2.0 & f.2247.3.0 & f.2247.0.0\\_recode & ⋯ & f.2257.0.0 & f.2257.1.0 & f.2257.2.0 & f.2257.3.0 & f.2257.0.0\\_recode & f.2257.1.0\\_recode & f.2257.2.0\\_recode & f.2257.3.0\\_recode & remove\\_2247 & remove\\_2257\\\\\n",
       "  & <int> & <int> & <int> & <fct> & <int> & <fct> & <fct> & <fct> & <fct> & <fct> & ⋯ & <fct> & <fct> & <fct> & <fct> & <fct> & <fct> & <fct> & <fct> & <lgl> & <lgl>\\\\\n",
       "\\hline\n",
       "\t1 & 1000019 & 1000019 & 47 & 1 & 0 & Yes & NA & NA & NA & 1 & ⋯ & Yes & NA & NA  & NA & 1 & NA & NA & NA &  TRUE &  TRUE\\\\\n",
       "\t2 & 1000022 & 1000022 & 53 & 0 & 0 & Yes & NA & NA & NA & 1 & ⋯ & Yes & NA & NA  & NA & 1 & NA & NA & NA &  TRUE &  TRUE\\\\\n",
       "\t3 & 1000035 & 1000035 & 63 & 0 & 0 & No  & NA & NA & NA & 0 & ⋯ & Yes & NA & NA  & NA & 1 & NA & NA & NA & FALSE &  TRUE\\\\\n",
       "\t4 & 1000046 & 1000046 & 73 & 1 & 0 & No  & NA & No & NA & 0 & ⋯ & No  & NA & Yes & NA & 0 & NA & 1  & NA & FALSE &  TRUE\\\\\n",
       "\t5 & 1000054 & 1000054 & 65 & 1 & 0 & No  & NA & NA & NA & 0 & ⋯ & Yes & NA & NA  & NA & 1 & NA & NA & NA & FALSE &  TRUE\\\\\n",
       "\t6 & 1000063 & 1000063 & 43 & 0 & 0 & No  & NA & NA & NA & 0 & ⋯ & No  & NA & NA  & NA & 0 & NA & NA & NA & FALSE & FALSE\\\\\n",
       "\\end{tabular}\n"
      ],
      "text/markdown": [
       "\n",
       "A data.frame: 6 × 23\n",
       "\n",
       "| <!--/--> | FID &lt;int&gt; | IID &lt;int&gt; | age_final_aid &lt;int&gt; | sex &lt;fct&gt; | hearing_aid_cat &lt;int&gt; | f.2247.0.0 &lt;fct&gt; | f.2247.1.0 &lt;fct&gt; | f.2247.2.0 &lt;fct&gt; | f.2247.3.0 &lt;fct&gt; | f.2247.0.0_recode &lt;fct&gt; | ⋯ ⋯ | f.2257.0.0 &lt;fct&gt; | f.2257.1.0 &lt;fct&gt; | f.2257.2.0 &lt;fct&gt; | f.2257.3.0 &lt;fct&gt; | f.2257.0.0_recode &lt;fct&gt; | f.2257.1.0_recode &lt;fct&gt; | f.2257.2.0_recode &lt;fct&gt; | f.2257.3.0_recode &lt;fct&gt; | remove_2247 &lt;lgl&gt; | remove_2257 &lt;lgl&gt; |\n",
       "|---|---|---|---|---|---|---|---|---|---|---|---|---|---|---|---|---|---|---|---|---|---|\n",
       "| 1 | 1000019 | 1000019 | 47 | 1 | 0 | Yes | NA | NA | NA | 1 | ⋯ | Yes | NA | NA  | NA | 1 | NA | NA | NA |  TRUE |  TRUE |\n",
       "| 2 | 1000022 | 1000022 | 53 | 0 | 0 | Yes | NA | NA | NA | 1 | ⋯ | Yes | NA | NA  | NA | 1 | NA | NA | NA |  TRUE |  TRUE |\n",
       "| 3 | 1000035 | 1000035 | 63 | 0 | 0 | No  | NA | NA | NA | 0 | ⋯ | Yes | NA | NA  | NA | 1 | NA | NA | NA | FALSE |  TRUE |\n",
       "| 4 | 1000046 | 1000046 | 73 | 1 | 0 | No  | NA | No | NA | 0 | ⋯ | No  | NA | Yes | NA | 0 | NA | 1  | NA | FALSE |  TRUE |\n",
       "| 5 | 1000054 | 1000054 | 65 | 1 | 0 | No  | NA | NA | NA | 0 | ⋯ | Yes | NA | NA  | NA | 1 | NA | NA | NA | FALSE |  TRUE |\n",
       "| 6 | 1000063 | 1000063 | 43 | 0 | 0 | No  | NA | NA | NA | 0 | ⋯ | No  | NA | NA  | NA | 0 | NA | NA | NA | FALSE | FALSE |\n",
       "\n"
      ],
      "text/plain": [
       "  FID     IID     age_final_aid sex hearing_aid_cat f.2247.0.0 f.2247.1.0\n",
       "1 1000019 1000019 47            1   0               Yes        NA        \n",
       "2 1000022 1000022 53            0   0               Yes        NA        \n",
       "3 1000035 1000035 63            0   0               No         NA        \n",
       "4 1000046 1000046 73            1   0               No         NA        \n",
       "5 1000054 1000054 65            1   0               No         NA        \n",
       "6 1000063 1000063 43            0   0               No         NA        \n",
       "  f.2247.2.0 f.2247.3.0 f.2247.0.0_recode ⋯ f.2257.0.0 f.2257.1.0 f.2257.2.0\n",
       "1 NA         NA         1                 ⋯ Yes        NA         NA        \n",
       "2 NA         NA         1                 ⋯ Yes        NA         NA        \n",
       "3 NA         NA         0                 ⋯ Yes        NA         NA        \n",
       "4 No         NA         0                 ⋯ No         NA         Yes       \n",
       "5 NA         NA         0                 ⋯ Yes        NA         NA        \n",
       "6 NA         NA         0                 ⋯ No         NA         NA        \n",
       "  f.2257.3.0 f.2257.0.0_recode f.2257.1.0_recode f.2257.2.0_recode\n",
       "1 NA         1                 NA                NA               \n",
       "2 NA         1                 NA                NA               \n",
       "3 NA         1                 NA                NA               \n",
       "4 NA         0                 NA                1                \n",
       "5 NA         1                 NA                NA               \n",
       "6 NA         0                 NA                NA               \n",
       "  f.2257.3.0_recode remove_2247 remove_2257\n",
       "1 NA                 TRUE        TRUE      \n",
       "2 NA                 TRUE        TRUE      \n",
       "3 NA                FALSE        TRUE      \n",
       "4 NA                FALSE        TRUE      \n",
       "5 NA                FALSE        TRUE      \n",
       "6 NA                FALSE       FALSE      "
      ]
     },
     "metadata": {},
     "output_type": "display_data"
    },
    {
     "data": {
      "text/html": [
       "<style>\n",
       ".list-inline {list-style: none; margin:0; padding: 0}\n",
       ".list-inline>li {display: inline-block}\n",
       ".list-inline>li:not(:last-child)::after {content: \"\\00b7\"; padding: 0 .5ex}\n",
       "</style>\n",
       "<ol class=list-inline><li>245370</li><li>23</li></ol>\n"
      ],
      "text/latex": [
       "\\begin{enumerate*}\n",
       "\\item 245370\n",
       "\\item 23\n",
       "\\end{enumerate*}\n"
      ],
      "text/markdown": [
       "1. 245370\n",
       "2. 23\n",
       "\n",
       "\n"
      ],
      "text/plain": [
       "[1] 245370     23"
      ]
     },
     "metadata": {},
     "output_type": "display_data"
    }
   ],
   "source": [
    "control_check_3393 <- df_3393 %>%\n",
    "    filter(hearing_aid_cat==0) %>%\n",
    "    select(FID, IID, age_final_aid, sex, hearing_aid_cat, starts_with(\"f.2247\"), starts_with(\"f.2257\")) %>%\n",
    "    mutate(remove_2247 = apply(select(.,starts_with(\"f.2247\")), 1, function(x) length(which(x == \"Yes\")) > 0),\n",
    "           remove_2257 = apply(select(.,starts_with(\"f.2257\")), 1, function(x) length(which(x == \"Yes\")) > 0))\n",
    "head(control_check_3393)\n",
    "dim(control_check_3393)"
   ]
  },
  {
   "cell_type": "code",
   "execution_count": 258,
   "metadata": {
    "kernel": "R"
   },
   "outputs": [
    {
     "data": {
      "text/html": [
       "90186"
      ],
      "text/latex": [
       "90186"
      ],
      "text/markdown": [
       "90186"
      ],
      "text/plain": [
       "[1] 90186"
      ]
     },
     "metadata": {},
     "output_type": "display_data"
    },
    {
     "data": {
      "text/html": [
       "139419"
      ],
      "text/latex": [
       "139419"
      ],
      "text/markdown": [
       "139419"
      ],
      "text/plain": [
       "[1] 139419"
      ]
     },
     "metadata": {},
     "output_type": "display_data"
    },
    {
     "data": {
      "text/html": [
       "74433"
      ],
      "text/latex": [
       "74433"
      ],
      "text/markdown": [
       "74433"
      ],
      "text/plain": [
       "[1] 74433"
      ]
     },
     "metadata": {},
     "output_type": "display_data"
    },
    {
     "data": {
      "text/html": [
       "155172"
      ],
      "text/latex": [
       "155172"
      ],
      "text/markdown": [
       "155172"
      ],
      "text/plain": [
       "[1] 155172"
      ]
     },
     "metadata": {},
     "output_type": "display_data"
    }
   ],
   "source": [
    "length(which(control_check_3393$remove_2247==TRUE)) #controls that replied yes to f.2247\n",
    "length(which(control_check_3393$remove_2257==TRUE)) #controls that replied yes to f.2257\n",
    "length(which(control_check_3393$remove_2247==TRUE & control_check_3393$remove_2257==TRUE)) # controls that replied yes to both\n",
    "length(which(control_check_3393$remove_2247==TRUE | control_check_3393$remove_2257==TRUE)) # controls that replied yes to either"
   ]
  },
  {
   "cell_type": "markdown",
   "metadata": {
    "kernel": "R"
   },
   "source": [
    "### Export files only white-British"
   ]
  },
  {
   "cell_type": "code",
   "execution_count": 44,
   "metadata": {
    "kernel": "R"
   },
   "outputs": [],
   "source": [
    "write.table(f.3393_pheno, '200828_UKBB_Hearing_aid_f3393', quote = FALSE, row.names = FALSE)"
   ]
  },
  {
   "cell_type": "markdown",
   "metadata": {
    "kernel": "R"
   },
   "source": [
    "### Export files expanded white"
   ]
  },
  {
   "cell_type": "code",
   "execution_count": 44,
   "metadata": {
    "kernel": "R"
   },
   "outputs": [],
   "source": [
    "write.table(f.3393_pheno, '120120_UKBB_Hearing_aid_f3393_expandedwhite', quote = FALSE, row.names = FALSE)"
   ]
  },
  {
   "cell_type": "markdown",
   "metadata": {
    "kernel": "R"
   },
   "source": [
    "### Export files exome data"
   ]
  },
  {
   "cell_type": "code",
   "execution_count": 53,
   "metadata": {
    "kernel": "R"
   },
   "outputs": [],
   "source": [
    "write.table(f.3393_pheno, 'phenotypes_exome_data/010421_UKBB_Hearing_aid_f3393_128254ind_exomes', quote = FALSE, row.names = FALSE)"
   ]
  },
  {
   "cell_type": "markdown",
   "metadata": {
    "kernel": "SoS"
   },
   "source": [
    "## Hearing difficulty/problems (2247)\n",
    "### step1: classify cases and controls"
   ]
  },
  {
   "cell_type": "code",
   "execution_count": 259,
   "metadata": {
    "kernel": "R"
   },
   "outputs": [
    {
     "data": {
      "text/plain": [
       "\n",
       "         Do not know I am completely deaf                   No \n",
       "               15464                   67               284144 \n",
       "Prefer not to answer                  Yes \n",
       "                 227                96503 "
      ]
     },
     "metadata": {},
     "output_type": "display_data"
    },
    {
     "data": {
      "text/html": [
       "<style>\n",
       ".list-inline {list-style: none; margin:0; padding: 0}\n",
       ".list-inline>li {display: inline-block}\n",
       ".list-inline>li:not(:last-child)::after {content: \"\\00b7\"; padding: 0 .5ex}\n",
       "</style>\n",
       "<ol class=list-inline><li>396974</li><li>2275</li></ol>\n"
      ],
      "text/latex": [
       "\\begin{enumerate*}\n",
       "\\item 396974\n",
       "\\item 2275\n",
       "\\end{enumerate*}\n"
      ],
      "text/markdown": [
       "1. 396974\n",
       "2. 2275\n",
       "\n",
       "\n"
      ],
      "text/plain": [
       "[1] 396974   2275"
      ]
     },
     "metadata": {},
     "output_type": "display_data"
    }
   ],
   "source": [
    "table(df.final.imp$f.2247.0.0)\n",
    "dim(df.final.imp)"
   ]
  },
  {
   "cell_type": "code",
   "execution_count": 260,
   "metadata": {
    "kernel": "R"
   },
   "outputs": [
    {
     "name": "stderr",
     "output_type": "stream",
     "text": [
      "The following `from` values were not present in `x`: I am completely deaf\n",
      "\n",
      "The following `from` values were not present in `x`: I am completely deaf\n",
      "\n"
     ]
    },
    {
     "name": "stdout",
     "output_type": "stream",
     "text": [
      "f.2247.0.0_recode summary:\n",
      "     9      0      1 \n",
      " 15464 284144  96503 \n",
      "\n",
      "f.2247.1.0_recode summary:\n",
      "    9     0     1 \n",
      "  881 10667  5306 \n",
      "\n",
      "f.2247.2.0_recode summary:\n",
      "    9     0     1 \n",
      " 2161 24200 13263 \n",
      "\n",
      "f.2247.3.0_recode summary:\n",
      "   9    0    1 \n",
      " 138 1595  889 \n",
      "\n"
     ]
    }
   ],
   "source": [
    "# Recode function:\n",
    "recode<-function(df,column_name){\n",
    "  new_names<-c()\n",
    "  for (i in column_name){\n",
    "    new_column_name<-paste0(i,\"_recode\")\n",
    "    new_names<-c(new_names,new_column_name)\n",
    "    df[,new_column_name] <- revalue(df[,i], c(\"No\"= 0, \n",
    "                                            \"Yes\" =1,\n",
    "                                            \"Prefer not to answer\"= NA,\n",
    "                                             \"Do not know\"=9,\n",
    "                                             \"I am completely deaf\"=NA))\n",
    "  }\n",
    "  return (list(df=df,new_column_names=new_names))\n",
    "}\n",
    "\n",
    "# columns needs to be recoded:\n",
    "column_name<-c(\"f.2247.0.0\",\"f.2247.1.0\",\"f.2247.2.0\",\"f.2247.3.0\")\n",
    "\n",
    "# get a new data.frame with recoded columns added:\n",
    "df.final.imp<-recode(df=df.final.imp,column_name)$df\n",
    "\n",
    "# get names of recoded columns:\n",
    "new_column_names<-recode(df=df.final.imp,column_name)$new_column_names\n",
    "\n",
    "# show recode summary:\n",
    "for (i in new_column_names)\n",
    "{cat(i,\"summary:\");print(table(df.final.imp[,i]));cat(\"\\n\")}"
   ]
  },
  {
   "cell_type": "markdown",
   "metadata": {
    "kernel": "R"
   },
   "source": [
    "## f.2247 Get possible answers"
   ]
  },
  {
   "cell_type": "code",
   "execution_count": 261,
   "metadata": {
    "kernel": "R"
   },
   "outputs": [
    {
     "data": {
      "text/html": [
       "<style>\n",
       ".list-inline {list-style: none; margin:0; padding: 0}\n",
       ".list-inline>li {display: inline-block}\n",
       ".list-inline>li:not(:last-child)::after {content: \"\\00b7\"; padding: 0 .5ex}\n",
       "</style>\n",
       "<ol class=list-inline><li>''</li><li>'0'</li><li>'00'</li><li>'000'</li><li>'0000'</li><li>'0001'</li><li>'0009'</li><li>'001'</li><li>'0010'</li><li>'0011'</li><li>'0019'</li><li>'009'</li><li>'0090'</li><li>'0091'</li><li>'0099'</li><li>'01'</li><li>'010'</li><li>'0100'</li><li>'0101'</li><li>'011'</li><li>'0110'</li><li>'0111'</li><li>'019'</li><li>'0190'</li><li>'09'</li><li>'090'</li><li>'0900'</li><li>'0901'</li><li>'0909'</li><li>'091'</li><li>'0911'</li><li>'099'</li><li>'0990'</li><li>'0991'</li><li>'0999'</li><li>'1'</li><li>'10'</li><li>'100'</li><li>'1000'</li><li>'1001'</li><li>'101'</li><li>'1010'</li><li>'1011'</li><li>'1019'</li><li>'109'</li><li>'1090'</li><li>'1099'</li><li>'11'</li><li>'110'</li><li>'1100'</li><li>'1101'</li><li>'111'</li><li>'1111'</li><li>'1119'</li><li>'119'</li><li>'1190'</li><li>'19'</li><li>'190'</li><li>'1900'</li><li>'191'</li><li>'1910'</li><li>'1911'</li><li>'199'</li><li>'9'</li><li>'90'</li><li>'900'</li><li>'9000'</li><li>'9001'</li><li>'9009'</li><li>'901'</li><li>'9011'</li><li>'909'</li><li>'9090'</li><li>'9099'</li><li>'91'</li><li>'910'</li><li>'911'</li><li>'9111'</li><li>'919'</li><li>'99'</li><li>'990'</li><li>'991'</li><li>'999'</li><li>'9990'</li></ol>\n"
      ],
      "text/latex": [
       "\\begin{enumerate*}\n",
       "\\item ''\n",
       "\\item '0'\n",
       "\\item '00'\n",
       "\\item '000'\n",
       "\\item '0000'\n",
       "\\item '0001'\n",
       "\\item '0009'\n",
       "\\item '001'\n",
       "\\item '0010'\n",
       "\\item '0011'\n",
       "\\item '0019'\n",
       "\\item '009'\n",
       "\\item '0090'\n",
       "\\item '0091'\n",
       "\\item '0099'\n",
       "\\item '01'\n",
       "\\item '010'\n",
       "\\item '0100'\n",
       "\\item '0101'\n",
       "\\item '011'\n",
       "\\item '0110'\n",
       "\\item '0111'\n",
       "\\item '019'\n",
       "\\item '0190'\n",
       "\\item '09'\n",
       "\\item '090'\n",
       "\\item '0900'\n",
       "\\item '0901'\n",
       "\\item '0909'\n",
       "\\item '091'\n",
       "\\item '0911'\n",
       "\\item '099'\n",
       "\\item '0990'\n",
       "\\item '0991'\n",
       "\\item '0999'\n",
       "\\item '1'\n",
       "\\item '10'\n",
       "\\item '100'\n",
       "\\item '1000'\n",
       "\\item '1001'\n",
       "\\item '101'\n",
       "\\item '1010'\n",
       "\\item '1011'\n",
       "\\item '1019'\n",
       "\\item '109'\n",
       "\\item '1090'\n",
       "\\item '1099'\n",
       "\\item '11'\n",
       "\\item '110'\n",
       "\\item '1100'\n",
       "\\item '1101'\n",
       "\\item '111'\n",
       "\\item '1111'\n",
       "\\item '1119'\n",
       "\\item '119'\n",
       "\\item '1190'\n",
       "\\item '19'\n",
       "\\item '190'\n",
       "\\item '1900'\n",
       "\\item '191'\n",
       "\\item '1910'\n",
       "\\item '1911'\n",
       "\\item '199'\n",
       "\\item '9'\n",
       "\\item '90'\n",
       "\\item '900'\n",
       "\\item '9000'\n",
       "\\item '9001'\n",
       "\\item '9009'\n",
       "\\item '901'\n",
       "\\item '9011'\n",
       "\\item '909'\n",
       "\\item '9090'\n",
       "\\item '9099'\n",
       "\\item '91'\n",
       "\\item '910'\n",
       "\\item '911'\n",
       "\\item '9111'\n",
       "\\item '919'\n",
       "\\item '99'\n",
       "\\item '990'\n",
       "\\item '991'\n",
       "\\item '999'\n",
       "\\item '9990'\n",
       "\\end{enumerate*}\n"
      ],
      "text/markdown": [
       "1. ''\n",
       "2. '0'\n",
       "3. '00'\n",
       "4. '000'\n",
       "5. '0000'\n",
       "6. '0001'\n",
       "7. '0009'\n",
       "8. '001'\n",
       "9. '0010'\n",
       "10. '0011'\n",
       "11. '0019'\n",
       "12. '009'\n",
       "13. '0090'\n",
       "14. '0091'\n",
       "15. '0099'\n",
       "16. '01'\n",
       "17. '010'\n",
       "18. '0100'\n",
       "19. '0101'\n",
       "20. '011'\n",
       "21. '0110'\n",
       "22. '0111'\n",
       "23. '019'\n",
       "24. '0190'\n",
       "25. '09'\n",
       "26. '090'\n",
       "27. '0900'\n",
       "28. '0901'\n",
       "29. '0909'\n",
       "30. '091'\n",
       "31. '0911'\n",
       "32. '099'\n",
       "33. '0990'\n",
       "34. '0991'\n",
       "35. '0999'\n",
       "36. '1'\n",
       "37. '10'\n",
       "38. '100'\n",
       "39. '1000'\n",
       "40. '1001'\n",
       "41. '101'\n",
       "42. '1010'\n",
       "43. '1011'\n",
       "44. '1019'\n",
       "45. '109'\n",
       "46. '1090'\n",
       "47. '1099'\n",
       "48. '11'\n",
       "49. '110'\n",
       "50. '1100'\n",
       "51. '1101'\n",
       "52. '111'\n",
       "53. '1111'\n",
       "54. '1119'\n",
       "55. '119'\n",
       "56. '1190'\n",
       "57. '19'\n",
       "58. '190'\n",
       "59. '1900'\n",
       "60. '191'\n",
       "61. '1910'\n",
       "62. '1911'\n",
       "63. '199'\n",
       "64. '9'\n",
       "65. '90'\n",
       "66. '900'\n",
       "67. '9000'\n",
       "68. '9001'\n",
       "69. '9009'\n",
       "70. '901'\n",
       "71. '9011'\n",
       "72. '909'\n",
       "73. '9090'\n",
       "74. '9099'\n",
       "75. '91'\n",
       "76. '910'\n",
       "77. '911'\n",
       "78. '9111'\n",
       "79. '919'\n",
       "80. '99'\n",
       "81. '990'\n",
       "82. '991'\n",
       "83. '999'\n",
       "84. '9990'\n",
       "\n",
       "\n"
      ],
      "text/plain": [
       " [1] \"\"     \"0\"    \"00\"   \"000\"  \"0000\" \"0001\" \"0009\" \"001\"  \"0010\" \"0011\"\n",
       "[11] \"0019\" \"009\"  \"0090\" \"0091\" \"0099\" \"01\"   \"010\"  \"0100\" \"0101\" \"011\" \n",
       "[21] \"0110\" \"0111\" \"019\"  \"0190\" \"09\"   \"090\"  \"0900\" \"0901\" \"0909\" \"091\" \n",
       "[31] \"0911\" \"099\"  \"0990\" \"0991\" \"0999\" \"1\"    \"10\"   \"100\"  \"1000\" \"1001\"\n",
       "[41] \"101\"  \"1010\" \"1011\" \"1019\" \"109\"  \"1090\" \"1099\" \"11\"   \"110\"  \"1100\"\n",
       "[51] \"1101\" \"111\"  \"1111\" \"1119\" \"119\"  \"1190\" \"19\"   \"190\"  \"1900\" \"191\" \n",
       "[61] \"1910\" \"1911\" \"199\"  \"9\"    \"90\"   \"900\"  \"9000\" \"9001\" \"9009\" \"901\" \n",
       "[71] \"9011\" \"909\"  \"9090\" \"9099\" \"91\"   \"910\"  \"911\"  \"9111\" \"919\"  \"99\"  \n",
       "[81] \"990\"  \"991\"  \"999\"  \"9990\""
      ]
     },
     "metadata": {},
     "output_type": "display_data"
    }
   ],
   "source": [
    "# Extract subset of data only with the recode columns of tinnitus\n",
    "data_sub <- df.final.imp %>%\n",
    "  select(\"IID\",all_of(new_column_names)) \n",
    "\n",
    "# Function to extract all the available answers for 4 visits\n",
    "# and put them in one string as \"0000\", \"111\", \"991\", etc\n",
    "\n",
    "f2<-function(x){\n",
    "  visit<-''\n",
    "  for (i in 2:5){ # do not take the first column (i.e. IID)\n",
    "    if (!is.na(x[i]))\n",
    "    {visit<-paste0(visit,x[i])}\n",
    "  }\n",
    "  if(is.null(visit)){visit=NA}\n",
    "  else{visit=visit}\n",
    "  return (visit)\n",
    "}\n",
    "\n",
    "# Apply the above function and remove NAs\n",
    "data_sub$visit<-apply(data_sub, 1, f2)\n",
    "\n",
    "names(table(data_sub$visit))"
   ]
  },
  {
   "cell_type": "code",
   "execution_count": 262,
   "metadata": {
    "kernel": "R"
   },
   "outputs": [
    {
     "data": {
      "text/plain": [
       "\n",
       "            0     00    000   0000   0001   0009    001   0010   0011   0019 \n",
       "   479 248462  22804   4291    237     23     12    504     11     24      2 \n",
       "   009   0090   0091   0099     01    010   0100   0101    011   0110   0111 \n",
       "   177      5      3      2   5098    193      6      3    567      3     26 \n",
       "   019   0190     09    090   0900   0901   0909    091   0911    099   0990 \n",
       "    38      1   1551    138      4      3      2     84      1     77      1 \n",
       "  0991   0999      1     10    100   1000   1001    101   1010   1011   1019 \n",
       "     3      3  84891   1454    171      5      2    110      1      5      1 \n",
       "   109   1090   1099     11    110   1100   1101    111   1111   1119    119 \n",
       "    14      4      1   7881    119      2      4   1415     69      1     40 \n",
       "  1190     19    190   1900    191   1910   1911    199      9     90    900 \n",
       "     2    380     22      1     30      1      2     19  13723    575     93 \n",
       "  9000   9001   9009    901   9011    909   9090   9099     91    910    911 \n",
       "     4      1      1     18      1     23      1      1    587     10     87 \n",
       "  9111    919     99    990    991    999   9990 \n",
       "     1      3    279     29     23     28      1 "
      ]
     },
     "metadata": {},
     "output_type": "display_data"
    }
   ],
   "source": [
    "table(data_sub$visit)\n",
    "all_pattern<-unique(data_sub$visit)"
   ]
  },
  {
   "cell_type": "markdown",
   "metadata": {
    "kernel": "R"
   },
   "source": [
    "## f.2247 Get all the consistent cases"
   ]
  },
  {
   "cell_type": "code",
   "execution_count": 263,
   "metadata": {
    "kernel": "R"
   },
   "outputs": [
    {
     "data": {
      "text/plain": [
       "\n",
       "     0     00    000   0000      1     11    111   1111      9     99    999 \n",
       "248462  22804   4291    237  84891   7881   1415     69  13723    279     28 "
      ]
     },
     "metadata": {},
     "output_type": "display_data"
    }
   ],
   "source": [
    "all_no<-all_pattern[which(grepl(\"0\",all_pattern) & !grepl(\"9\",all_pattern) & !grepl(\"1\",all_pattern))]\n",
    "all_yes<-all_pattern[which(!grepl(\"0\",all_pattern) & !grepl(\"9\",all_pattern) & grepl(\"1\",all_pattern))]\n",
    "all_do_not_know<-all_pattern[which(!grepl(\"0\",all_pattern) & grepl(\"9\",all_pattern) & !grepl(\"1\",all_pattern))]\n",
    "table(data_sub[data_sub$visit%in%union(union(all_no,all_yes),all_do_not_know),\"visit\"])"
   ]
  },
  {
   "cell_type": "code",
   "execution_count": 264,
   "metadata": {
    "kernel": "R"
   },
   "outputs": [
    {
     "data": {
      "text/plain": [
       "\n",
       "0009  009 0090 0099   09  090 0900 0909  099 0990 0999   90  900 9000 9009  909 \n",
       "  12  177    5    2 1551  138    4    2   77    1    3  575   93    4    1   23 \n",
       "9090 9099  990 9990 \n",
       "   1    1   29    1 "
      ]
     },
     "metadata": {},
     "output_type": "display_data"
    }
   ],
   "source": [
    "consistent_1<-c(all_no,all_yes,all_do_not_know)\n",
    "\n",
    "# might be inconsistent cases:\n",
    "do_not_know_no<-all_pattern[which(grepl(\"0\",all_pattern) & grepl(\"9\",all_pattern) & !grepl(\"1\",all_pattern))]\n",
    "table(data_sub[data_sub$visit%in%do_not_know_no,\"visit\"])"
   ]
  },
  {
   "cell_type": "code",
   "execution_count": 265,
   "metadata": {
    "kernel": "R"
   },
   "outputs": [
    {
     "data": {
      "text/plain": [
       "\n",
       "1119  119   19  191 1911  199   91  911 9111  919  991 \n",
       "   1   40  380   30    2   19  587   87    1    3   23 "
      ]
     },
     "metadata": {},
     "output_type": "display_data"
    }
   ],
   "source": [
    "do_not_know_yes<-all_pattern[which(!grepl(\"0\",all_pattern) & grepl(\"9\",all_pattern) & grepl(\"1\",all_pattern))]\n",
    "table(data_sub[data_sub$visit%in%do_not_know_yes,\"visit\"])"
   ]
  },
  {
   "cell_type": "code",
   "execution_count": 266,
   "metadata": {
    "kernel": "R"
   },
   "outputs": [
    {
     "data": {
      "text/plain": [
       "\n",
       "0001  001 0010 0011   01  010 0100 0101  011 0110 0111   10  100 1000 1001  101 \n",
       "  23  504   11   24 5098  193    6    3  567    3   26 1454  171    5    2  110 \n",
       "1010 1011  110 1100 1101 \n",
       "   1    5  119    2    4 "
      ]
     },
     "metadata": {},
     "output_type": "display_data"
    }
   ],
   "source": [
    "yes_no<-all_pattern[which(grepl(\"0\",all_pattern) & !grepl(\"9\",all_pattern) & grepl(\"1\",all_pattern))]\n",
    "table(data_sub[data_sub$visit%in%yes_no,\"visit\"])"
   ]
  },
  {
   "cell_type": "code",
   "execution_count": 267,
   "metadata": {
    "kernel": "R"
   },
   "outputs": [
    {
     "data": {
      "text/plain": [
       "\n",
       "0019 0091  019 0190 0901  091 0911 0991 1019  109 1090 1099 1190  190 1900 1910 \n",
       "   2    3   38    1    3   84    1    3    1   14    4    1    2   22    1    1 \n",
       "9001  901 9011  910 \n",
       "   1   18    1   10 "
      ]
     },
     "metadata": {},
     "output_type": "display_data"
    }
   ],
   "source": [
    "with_all_three<-all_pattern[which(grepl(\"0\",all_pattern) & grepl(\"9\",all_pattern) & grepl(\"1\",all_pattern))]\n",
    "table(data_sub[data_sub$visit%in%with_all_three,\"visit\"])"
   ]
  },
  {
   "cell_type": "code",
   "execution_count": 268,
   "metadata": {
    "kernel": "R"
   },
   "outputs": [],
   "source": [
    "might_inconsistent<-c(do_not_know_no,do_not_know_yes,yes_no,with_all_three)"
   ]
  },
  {
   "cell_type": "markdown",
   "metadata": {
    "kernel": "R"
   },
   "source": [
    "## f.2247 Remove inconsistent cases"
   ]
  },
  {
   "cell_type": "code",
   "execution_count": 269,
   "metadata": {
    "kernel": "R"
   },
   "outputs": [
    {
     "name": "stdout",
     "output_type": "stream",
     "text": [
      "There are 479 NAs, removed"
     ]
    }
   ],
   "source": [
    "# get all the inconsistent cases:\n",
    "exceptions<-c(\"91\",\"911\",\"9111\",\"991\",\"0001\",\"001\",\"0011\",\"01\",\"011\",\"0111\", \"0091\", \"091\",\"0911\",\"0991\",\"9001\",\"901\",\"9011\")\n",
    "inconsistent<-setdiff(might_inconsistent,exceptions)\n",
    "\n",
    "cat(\"There are\",length(which(is.empty(data_sub$visit))),\"NAs, removed\")"
   ]
  },
  {
   "cell_type": "code",
   "execution_count": 270,
   "metadata": {
    "kernel": "R"
   },
   "outputs": [
    {
     "name": "stdout",
     "output_type": "stream",
     "text": [
      "There are 5364 inconsistent cases, removed"
     ]
    }
   ],
   "source": [
    "cat(\"There are\",length(which(data_sub$visit%in%inconsistent)),\"inconsistent cases, removed\")"
   ]
  },
  {
   "cell_type": "code",
   "execution_count": 271,
   "metadata": {
    "kernel": "R"
   },
   "outputs": [
    {
     "data": {
      "text/html": [
       "<style>\n",
       ".list-inline {list-style: none; margin:0; padding: 0}\n",
       ".list-inline>li {display: inline-block}\n",
       ".list-inline>li:not(:last-child)::after {content: \"\\00b7\"; padding: 0 .5ex}\n",
       "</style>\n",
       "<ol class=list-inline><li>377101</li><li>1</li></ol>\n"
      ],
      "text/latex": [
       "\\begin{enumerate*}\n",
       "\\item 377101\n",
       "\\item 1\n",
       "\\end{enumerate*}\n"
      ],
      "text/markdown": [
       "1. 377101\n",
       "2. 1\n",
       "\n",
       "\n"
      ],
      "text/plain": [
       "[1] 377101      1"
      ]
     },
     "metadata": {},
     "output_type": "display_data"
    }
   ],
   "source": [
    "# removed those NAs, consistent for do not know - 9 and inconsistent cases: \n",
    "IID_hearing_diff<-data_sub %>%\n",
    "  filter(!is.empty(visit)) %>%\n",
    "  filter((!visit%in%inconsistent)) %>%\n",
    "  filter((!visit%in%all_do_not_know)) %>%\n",
    "  select(IID)\n",
    "\n",
    "dim(IID_hearing_diff)"
   ]
  },
  {
   "cell_type": "code",
   "execution_count": 272,
   "metadata": {
    "kernel": "R"
   },
   "outputs": [
    {
     "name": "stdout",
     "output_type": "stream",
     "text": [
      "After removing all the NAs and inconsistent cases, there are 377101 cases left"
     ]
    }
   ],
   "source": [
    "IID_hearing_diff<-IID_hearing_diff[,1]\n",
    "cat(\"After removing all the NAs and inconsistent cases, there are\",length(IID_hearing_diff),\"cases left\")"
   ]
  },
  {
   "cell_type": "code",
   "execution_count": 273,
   "metadata": {
    "kernel": "R"
   },
   "outputs": [
    {
     "data": {
      "text/html": [
       "<style>\n",
       ".list-inline {list-style: none; margin:0; padding: 0}\n",
       ".list-inline>li {display: inline-block}\n",
       ".list-inline>li:not(:last-child)::after {content: \"\\00b7\"; padding: 0 .5ex}\n",
       "</style>\n",
       "<ol class=list-inline><li>377101</li><li>2275</li></ol>\n"
      ],
      "text/latex": [
       "\\begin{enumerate*}\n",
       "\\item 377101\n",
       "\\item 2275\n",
       "\\end{enumerate*}\n"
      ],
      "text/markdown": [
       "1. 377101\n",
       "2. 2275\n",
       "\n",
       "\n"
      ],
      "text/plain": [
       "[1] 377101   2275"
      ]
     },
     "metadata": {},
     "output_type": "display_data"
    }
   ],
   "source": [
    "# get the dataset after cleansing: \n",
    "df.hearing.diff<-df.final.imp %>%\n",
    "  filter(IID%in%IID_hearing_diff)\n",
    "\n",
    "dim(df.hearing.diff)"
   ]
  },
  {
   "cell_type": "markdown",
   "metadata": {
    "kernel": "R"
   },
   "source": [
    "## f.2247 Step 1 classify cases and controls"
   ]
  },
  {
   "cell_type": "code",
   "execution_count": 274,
   "metadata": {
    "kernel": "R"
   },
   "outputs": [
    {
     "data": {
      "text/html": [
       "<table>\n",
       "<caption>A data.frame: 6 × 11</caption>\n",
       "<thead>\n",
       "\t<tr><th></th><th scope=col>IID</th><th scope=col>FID</th><th scope=col>f.22001.0.0</th><th scope=col>f.21003.0.0</th><th scope=col>f.21003.1.0</th><th scope=col>f.21003.2.0</th><th scope=col>f.21003.3.0</th><th scope=col>f.2247.0.0_recode</th><th scope=col>f.2247.1.0_recode</th><th scope=col>f.2247.2.0_recode</th><th scope=col>f.2247.3.0_recode</th></tr>\n",
       "\t<tr><th></th><th scope=col>&lt;int&gt;</th><th scope=col>&lt;int&gt;</th><th scope=col>&lt;fct&gt;</th><th scope=col>&lt;int&gt;</th><th scope=col>&lt;int&gt;</th><th scope=col>&lt;int&gt;</th><th scope=col>&lt;int&gt;</th><th scope=col>&lt;fct&gt;</th><th scope=col>&lt;fct&gt;</th><th scope=col>&lt;fct&gt;</th><th scope=col>&lt;fct&gt;</th></tr>\n",
       "</thead>\n",
       "<tbody>\n",
       "\t<tr><th scope=row>1</th><td>1000019</td><td>1000019</td><td>Female</td><td>47</td><td>NA</td><td>NA</td><td>NA</td><td>1</td><td>NA</td><td>NA</td><td>NA</td></tr>\n",
       "\t<tr><th scope=row>2</th><td>1000022</td><td>1000022</td><td>Male  </td><td>53</td><td>NA</td><td>NA</td><td>NA</td><td>1</td><td>NA</td><td>NA</td><td>NA</td></tr>\n",
       "\t<tr><th scope=row>3</th><td>1000035</td><td>1000035</td><td>Male  </td><td>63</td><td>NA</td><td>NA</td><td>NA</td><td>0</td><td>NA</td><td>NA</td><td>NA</td></tr>\n",
       "\t<tr><th scope=row>4</th><td>1000046</td><td>1000046</td><td>Female</td><td>62</td><td>NA</td><td>73</td><td>NA</td><td>0</td><td>NA</td><td>0 </td><td>NA</td></tr>\n",
       "\t<tr><th scope=row>5</th><td>1000054</td><td>1000054</td><td>Female</td><td>65</td><td>NA</td><td>NA</td><td>NA</td><td>0</td><td>NA</td><td>NA</td><td>NA</td></tr>\n",
       "\t<tr><th scope=row>6</th><td>1000063</td><td>1000063</td><td>Male  </td><td>43</td><td>NA</td><td>NA</td><td>NA</td><td>0</td><td>NA</td><td>NA</td><td>NA</td></tr>\n",
       "</tbody>\n",
       "</table>\n"
      ],
      "text/latex": [
       "A data.frame: 6 × 11\n",
       "\\begin{tabular}{r|lllllllllll}\n",
       "  & IID & FID & f.22001.0.0 & f.21003.0.0 & f.21003.1.0 & f.21003.2.0 & f.21003.3.0 & f.2247.0.0\\_recode & f.2247.1.0\\_recode & f.2247.2.0\\_recode & f.2247.3.0\\_recode\\\\\n",
       "  & <int> & <int> & <fct> & <int> & <int> & <int> & <int> & <fct> & <fct> & <fct> & <fct>\\\\\n",
       "\\hline\n",
       "\t1 & 1000019 & 1000019 & Female & 47 & NA & NA & NA & 1 & NA & NA & NA\\\\\n",
       "\t2 & 1000022 & 1000022 & Male   & 53 & NA & NA & NA & 1 & NA & NA & NA\\\\\n",
       "\t3 & 1000035 & 1000035 & Male   & 63 & NA & NA & NA & 0 & NA & NA & NA\\\\\n",
       "\t4 & 1000046 & 1000046 & Female & 62 & NA & 73 & NA & 0 & NA & 0  & NA\\\\\n",
       "\t5 & 1000054 & 1000054 & Female & 65 & NA & NA & NA & 0 & NA & NA & NA\\\\\n",
       "\t6 & 1000063 & 1000063 & Male   & 43 & NA & NA & NA & 0 & NA & NA & NA\\\\\n",
       "\\end{tabular}\n"
      ],
      "text/markdown": [
       "\n",
       "A data.frame: 6 × 11\n",
       "\n",
       "| <!--/--> | IID &lt;int&gt; | FID &lt;int&gt; | f.22001.0.0 &lt;fct&gt; | f.21003.0.0 &lt;int&gt; | f.21003.1.0 &lt;int&gt; | f.21003.2.0 &lt;int&gt; | f.21003.3.0 &lt;int&gt; | f.2247.0.0_recode &lt;fct&gt; | f.2247.1.0_recode &lt;fct&gt; | f.2247.2.0_recode &lt;fct&gt; | f.2247.3.0_recode &lt;fct&gt; |\n",
       "|---|---|---|---|---|---|---|---|---|---|---|---|\n",
       "| 1 | 1000019 | 1000019 | Female | 47 | NA | NA | NA | 1 | NA | NA | NA |\n",
       "| 2 | 1000022 | 1000022 | Male   | 53 | NA | NA | NA | 1 | NA | NA | NA |\n",
       "| 3 | 1000035 | 1000035 | Male   | 63 | NA | NA | NA | 0 | NA | NA | NA |\n",
       "| 4 | 1000046 | 1000046 | Female | 62 | NA | 73 | NA | 0 | NA | 0  | NA |\n",
       "| 5 | 1000054 | 1000054 | Female | 65 | NA | NA | NA | 0 | NA | NA | NA |\n",
       "| 6 | 1000063 | 1000063 | Male   | 43 | NA | NA | NA | 0 | NA | NA | NA |\n",
       "\n"
      ],
      "text/plain": [
       "  IID     FID     f.22001.0.0 f.21003.0.0 f.21003.1.0 f.21003.2.0 f.21003.3.0\n",
       "1 1000019 1000019 Female      47          NA          NA          NA         \n",
       "2 1000022 1000022 Male        53          NA          NA          NA         \n",
       "3 1000035 1000035 Male        63          NA          NA          NA         \n",
       "4 1000046 1000046 Female      62          NA          73          NA         \n",
       "5 1000054 1000054 Female      65          NA          NA          NA         \n",
       "6 1000063 1000063 Male        43          NA          NA          NA         \n",
       "  f.2247.0.0_recode f.2247.1.0_recode f.2247.2.0_recode f.2247.3.0_recode\n",
       "1 1                 NA                NA                NA               \n",
       "2 1                 NA                NA                NA               \n",
       "3 0                 NA                NA                NA               \n",
       "4 0                 NA                0                 NA               \n",
       "5 0                 NA                NA                NA               \n",
       "6 0                 NA                NA                NA               "
      ]
     },
     "metadata": {},
     "output_type": "display_data"
    }
   ],
   "source": [
    "hearing_diff <- df.hearing.diff %>% \n",
    "  select(IID,FID,f.22001.0.0, f.21003.0.0,f.21003.1.0,f.21003.2.0,f.21003.3.0,f.2247.0.0_recode,f.2247.1.0_recode,f.2247.2.0_recode,f.2247.3.0_recode)\n",
    "head(hearing_diff)"
   ]
  },
  {
   "cell_type": "code",
   "execution_count": 275,
   "metadata": {
    "kernel": "R"
   },
   "outputs": [
    {
     "data": {
      "text/html": [
       "<table>\n",
       "<caption>A data.frame: 10 × 12</caption>\n",
       "<thead>\n",
       "\t<tr><th></th><th scope=col>IID</th><th scope=col>FID</th><th scope=col>f.22001.0.0</th><th scope=col>f.21003.0.0</th><th scope=col>f.21003.1.0</th><th scope=col>f.21003.2.0</th><th scope=col>f.21003.3.0</th><th scope=col>f.2247.0.0_recode</th><th scope=col>f.2247.1.0_recode</th><th scope=col>f.2247.2.0_recode</th><th scope=col>f.2247.3.0_recode</th><th scope=col>cases</th></tr>\n",
       "\t<tr><th></th><th scope=col>&lt;int&gt;</th><th scope=col>&lt;int&gt;</th><th scope=col>&lt;fct&gt;</th><th scope=col>&lt;int&gt;</th><th scope=col>&lt;int&gt;</th><th scope=col>&lt;int&gt;</th><th scope=col>&lt;int&gt;</th><th scope=col>&lt;fct&gt;</th><th scope=col>&lt;fct&gt;</th><th scope=col>&lt;fct&gt;</th><th scope=col>&lt;fct&gt;</th><th scope=col>&lt;lgl&gt;</th></tr>\n",
       "</thead>\n",
       "<tbody>\n",
       "\t<tr><th scope=row>1</th><td>1000019</td><td>1000019</td><td>Female</td><td>47</td><td>NA</td><td>NA</td><td>NA</td><td>1</td><td>NA</td><td>NA</td><td>NA</td><td> TRUE</td></tr>\n",
       "\t<tr><th scope=row>2</th><td>1000022</td><td>1000022</td><td>Male  </td><td>53</td><td>NA</td><td>NA</td><td>NA</td><td>1</td><td>NA</td><td>NA</td><td>NA</td><td> TRUE</td></tr>\n",
       "\t<tr><th scope=row>3</th><td>1000035</td><td>1000035</td><td>Male  </td><td>63</td><td>NA</td><td>NA</td><td>NA</td><td>0</td><td>NA</td><td>NA</td><td>NA</td><td>FALSE</td></tr>\n",
       "\t<tr><th scope=row>4</th><td>1000046</td><td>1000046</td><td>Female</td><td>62</td><td>NA</td><td>73</td><td>NA</td><td>0</td><td>NA</td><td>0 </td><td>NA</td><td>FALSE</td></tr>\n",
       "\t<tr><th scope=row>5</th><td>1000054</td><td>1000054</td><td>Female</td><td>65</td><td>NA</td><td>NA</td><td>NA</td><td>0</td><td>NA</td><td>NA</td><td>NA</td><td>FALSE</td></tr>\n",
       "\t<tr><th scope=row>6</th><td>1000063</td><td>1000063</td><td>Male  </td><td>43</td><td>NA</td><td>NA</td><td>NA</td><td>0</td><td>NA</td><td>NA</td><td>NA</td><td>FALSE</td></tr>\n",
       "\t<tr><th scope=row>7</th><td>1000078</td><td>1000078</td><td>Female</td><td>52</td><td>57</td><td>60</td><td>NA</td><td>0</td><td>0 </td><td>0 </td><td>NA</td><td>FALSE</td></tr>\n",
       "\t<tr><th scope=row>8</th><td>1000081</td><td>1000081</td><td>Male  </td><td>67</td><td>NA</td><td>NA</td><td>NA</td><td>0</td><td>NA</td><td>NA</td><td>NA</td><td>FALSE</td></tr>\n",
       "\t<tr><th scope=row>9</th><td>1000090</td><td>1000090</td><td>Female</td><td>64</td><td>NA</td><td>NA</td><td>NA</td><td>1</td><td>NA</td><td>NA</td><td>NA</td><td> TRUE</td></tr>\n",
       "\t<tr><th scope=row>10</th><td>1000112</td><td>1000112</td><td>Male  </td><td>58</td><td>NA</td><td>68</td><td>NA</td><td>9</td><td>NA</td><td>1 </td><td>NA</td><td> TRUE</td></tr>\n",
       "</tbody>\n",
       "</table>\n"
      ],
      "text/latex": [
       "A data.frame: 10 × 12\n",
       "\\begin{tabular}{r|llllllllllll}\n",
       "  & IID & FID & f.22001.0.0 & f.21003.0.0 & f.21003.1.0 & f.21003.2.0 & f.21003.3.0 & f.2247.0.0\\_recode & f.2247.1.0\\_recode & f.2247.2.0\\_recode & f.2247.3.0\\_recode & cases\\\\\n",
       "  & <int> & <int> & <fct> & <int> & <int> & <int> & <int> & <fct> & <fct> & <fct> & <fct> & <lgl>\\\\\n",
       "\\hline\n",
       "\t1 & 1000019 & 1000019 & Female & 47 & NA & NA & NA & 1 & NA & NA & NA &  TRUE\\\\\n",
       "\t2 & 1000022 & 1000022 & Male   & 53 & NA & NA & NA & 1 & NA & NA & NA &  TRUE\\\\\n",
       "\t3 & 1000035 & 1000035 & Male   & 63 & NA & NA & NA & 0 & NA & NA & NA & FALSE\\\\\n",
       "\t4 & 1000046 & 1000046 & Female & 62 & NA & 73 & NA & 0 & NA & 0  & NA & FALSE\\\\\n",
       "\t5 & 1000054 & 1000054 & Female & 65 & NA & NA & NA & 0 & NA & NA & NA & FALSE\\\\\n",
       "\t6 & 1000063 & 1000063 & Male   & 43 & NA & NA & NA & 0 & NA & NA & NA & FALSE\\\\\n",
       "\t7 & 1000078 & 1000078 & Female & 52 & 57 & 60 & NA & 0 & 0  & 0  & NA & FALSE\\\\\n",
       "\t8 & 1000081 & 1000081 & Male   & 67 & NA & NA & NA & 0 & NA & NA & NA & FALSE\\\\\n",
       "\t9 & 1000090 & 1000090 & Female & 64 & NA & NA & NA & 1 & NA & NA & NA &  TRUE\\\\\n",
       "\t10 & 1000112 & 1000112 & Male   & 58 & NA & 68 & NA & 9 & NA & 1  & NA &  TRUE\\\\\n",
       "\\end{tabular}\n"
      ],
      "text/markdown": [
       "\n",
       "A data.frame: 10 × 12\n",
       "\n",
       "| <!--/--> | IID &lt;int&gt; | FID &lt;int&gt; | f.22001.0.0 &lt;fct&gt; | f.21003.0.0 &lt;int&gt; | f.21003.1.0 &lt;int&gt; | f.21003.2.0 &lt;int&gt; | f.21003.3.0 &lt;int&gt; | f.2247.0.0_recode &lt;fct&gt; | f.2247.1.0_recode &lt;fct&gt; | f.2247.2.0_recode &lt;fct&gt; | f.2247.3.0_recode &lt;fct&gt; | cases &lt;lgl&gt; |\n",
       "|---|---|---|---|---|---|---|---|---|---|---|---|---|\n",
       "| 1 | 1000019 | 1000019 | Female | 47 | NA | NA | NA | 1 | NA | NA | NA |  TRUE |\n",
       "| 2 | 1000022 | 1000022 | Male   | 53 | NA | NA | NA | 1 | NA | NA | NA |  TRUE |\n",
       "| 3 | 1000035 | 1000035 | Male   | 63 | NA | NA | NA | 0 | NA | NA | NA | FALSE |\n",
       "| 4 | 1000046 | 1000046 | Female | 62 | NA | 73 | NA | 0 | NA | 0  | NA | FALSE |\n",
       "| 5 | 1000054 | 1000054 | Female | 65 | NA | NA | NA | 0 | NA | NA | NA | FALSE |\n",
       "| 6 | 1000063 | 1000063 | Male   | 43 | NA | NA | NA | 0 | NA | NA | NA | FALSE |\n",
       "| 7 | 1000078 | 1000078 | Female | 52 | 57 | 60 | NA | 0 | 0  | 0  | NA | FALSE |\n",
       "| 8 | 1000081 | 1000081 | Male   | 67 | NA | NA | NA | 0 | NA | NA | NA | FALSE |\n",
       "| 9 | 1000090 | 1000090 | Female | 64 | NA | NA | NA | 1 | NA | NA | NA |  TRUE |\n",
       "| 10 | 1000112 | 1000112 | Male   | 58 | NA | 68 | NA | 9 | NA | 1  | NA |  TRUE |\n",
       "\n"
      ],
      "text/plain": [
       "   IID     FID     f.22001.0.0 f.21003.0.0 f.21003.1.0 f.21003.2.0 f.21003.3.0\n",
       "1  1000019 1000019 Female      47          NA          NA          NA         \n",
       "2  1000022 1000022 Male        53          NA          NA          NA         \n",
       "3  1000035 1000035 Male        63          NA          NA          NA         \n",
       "4  1000046 1000046 Female      62          NA          73          NA         \n",
       "5  1000054 1000054 Female      65          NA          NA          NA         \n",
       "6  1000063 1000063 Male        43          NA          NA          NA         \n",
       "7  1000078 1000078 Female      52          57          60          NA         \n",
       "8  1000081 1000081 Male        67          NA          NA          NA         \n",
       "9  1000090 1000090 Female      64          NA          NA          NA         \n",
       "10 1000112 1000112 Male        58          NA          68          NA         \n",
       "   f.2247.0.0_recode f.2247.1.0_recode f.2247.2.0_recode f.2247.3.0_recode\n",
       "1  1                 NA                NA                NA               \n",
       "2  1                 NA                NA                NA               \n",
       "3  0                 NA                NA                NA               \n",
       "4  0                 NA                0                 NA               \n",
       "5  0                 NA                NA                NA               \n",
       "6  0                 NA                NA                NA               \n",
       "7  0                 0                 0                 NA               \n",
       "8  0                 NA                NA                NA               \n",
       "9  1                 NA                NA                NA               \n",
       "10 9                 NA                1                 NA               \n",
       "   cases\n",
       "1   TRUE\n",
       "2   TRUE\n",
       "3  FALSE\n",
       "4  FALSE\n",
       "5  FALSE\n",
       "6  FALSE\n",
       "7  FALSE\n",
       "8  FALSE\n",
       "9   TRUE\n",
       "10  TRUE"
      ]
     },
     "metadata": {},
     "output_type": "display_data"
    }
   ],
   "source": [
    "data_sub <- select(hearing_diff,starts_with(\"f.2247\"))\n",
    "\n",
    "# Function to define cases\n",
    "f<-function(x){\n",
    "  visit<-c()\n",
    "  for (i in 1:4){\n",
    "    if (!is.na(x[i]))\n",
    "    {visit<-c(visit,x[i])}\n",
    "  }\n",
    "  if (\"1\" %in% visit){result= TRUE}\n",
    "  else{result=FALSE}\n",
    "  return (result)\n",
    "}\n",
    "\n",
    "# Apply the above function\n",
    "hearing_diff$cases<-apply(data_sub, 1, f)\n",
    "head(hearing_diff,10)"
   ]
  },
  {
   "cell_type": "code",
   "execution_count": 276,
   "metadata": {
    "kernel": "R"
   },
   "outputs": [
    {
     "data": {
      "text/html": [
       "<table>\n",
       "<caption>A data.frame: 6 × 12</caption>\n",
       "<thead>\n",
       "\t<tr><th></th><th scope=col>IID</th><th scope=col>FID</th><th scope=col>f.22001.0.0</th><th scope=col>f.21003.0.0</th><th scope=col>f.21003.1.0</th><th scope=col>f.21003.2.0</th><th scope=col>f.21003.3.0</th><th scope=col>f.2247.0.0_recode</th><th scope=col>f.2247.1.0_recode</th><th scope=col>f.2247.2.0_recode</th><th scope=col>f.2247.3.0_recode</th><th scope=col>cases</th></tr>\n",
       "\t<tr><th></th><th scope=col>&lt;int&gt;</th><th scope=col>&lt;int&gt;</th><th scope=col>&lt;fct&gt;</th><th scope=col>&lt;int&gt;</th><th scope=col>&lt;int&gt;</th><th scope=col>&lt;int&gt;</th><th scope=col>&lt;int&gt;</th><th scope=col>&lt;fct&gt;</th><th scope=col>&lt;fct&gt;</th><th scope=col>&lt;fct&gt;</th><th scope=col>&lt;fct&gt;</th><th scope=col>&lt;lgl&gt;</th></tr>\n",
       "</thead>\n",
       "<tbody>\n",
       "\t<tr><th scope=row>1</th><td>1000019</td><td>1000019</td><td>Female</td><td>47</td><td>NA</td><td>NA</td><td>NA</td><td>1</td><td>NA</td><td>NA</td><td>NA</td><td>TRUE</td></tr>\n",
       "\t<tr><th scope=row>2</th><td>1000022</td><td>1000022</td><td>Male  </td><td>53</td><td>NA</td><td>NA</td><td>NA</td><td>1</td><td>NA</td><td>NA</td><td>NA</td><td>TRUE</td></tr>\n",
       "\t<tr><th scope=row>3</th><td>1000090</td><td>1000090</td><td>Female</td><td>64</td><td>NA</td><td>NA</td><td>NA</td><td>1</td><td>NA</td><td>NA</td><td>NA</td><td>TRUE</td></tr>\n",
       "\t<tr><th scope=row>4</th><td>1000112</td><td>1000112</td><td>Male  </td><td>58</td><td>NA</td><td>68</td><td>NA</td><td>9</td><td>NA</td><td>1 </td><td>NA</td><td>TRUE</td></tr>\n",
       "\t<tr><th scope=row>5</th><td>1000170</td><td>1000170</td><td>Female</td><td>51</td><td>NA</td><td>NA</td><td>NA</td><td>1</td><td>NA</td><td>NA</td><td>NA</td><td>TRUE</td></tr>\n",
       "\t<tr><th scope=row>6</th><td>1000198</td><td>1000198</td><td>Female</td><td>41</td><td>NA</td><td>NA</td><td>NA</td><td>1</td><td>NA</td><td>NA</td><td>NA</td><td>TRUE</td></tr>\n",
       "</tbody>\n",
       "</table>\n"
      ],
      "text/latex": [
       "A data.frame: 6 × 12\n",
       "\\begin{tabular}{r|llllllllllll}\n",
       "  & IID & FID & f.22001.0.0 & f.21003.0.0 & f.21003.1.0 & f.21003.2.0 & f.21003.3.0 & f.2247.0.0\\_recode & f.2247.1.0\\_recode & f.2247.2.0\\_recode & f.2247.3.0\\_recode & cases\\\\\n",
       "  & <int> & <int> & <fct> & <int> & <int> & <int> & <int> & <fct> & <fct> & <fct> & <fct> & <lgl>\\\\\n",
       "\\hline\n",
       "\t1 & 1000019 & 1000019 & Female & 47 & NA & NA & NA & 1 & NA & NA & NA & TRUE\\\\\n",
       "\t2 & 1000022 & 1000022 & Male   & 53 & NA & NA & NA & 1 & NA & NA & NA & TRUE\\\\\n",
       "\t3 & 1000090 & 1000090 & Female & 64 & NA & NA & NA & 1 & NA & NA & NA & TRUE\\\\\n",
       "\t4 & 1000112 & 1000112 & Male   & 58 & NA & 68 & NA & 9 & NA & 1  & NA & TRUE\\\\\n",
       "\t5 & 1000170 & 1000170 & Female & 51 & NA & NA & NA & 1 & NA & NA & NA & TRUE\\\\\n",
       "\t6 & 1000198 & 1000198 & Female & 41 & NA & NA & NA & 1 & NA & NA & NA & TRUE\\\\\n",
       "\\end{tabular}\n"
      ],
      "text/markdown": [
       "\n",
       "A data.frame: 6 × 12\n",
       "\n",
       "| <!--/--> | IID &lt;int&gt; | FID &lt;int&gt; | f.22001.0.0 &lt;fct&gt; | f.21003.0.0 &lt;int&gt; | f.21003.1.0 &lt;int&gt; | f.21003.2.0 &lt;int&gt; | f.21003.3.0 &lt;int&gt; | f.2247.0.0_recode &lt;fct&gt; | f.2247.1.0_recode &lt;fct&gt; | f.2247.2.0_recode &lt;fct&gt; | f.2247.3.0_recode &lt;fct&gt; | cases &lt;lgl&gt; |\n",
       "|---|---|---|---|---|---|---|---|---|---|---|---|---|\n",
       "| 1 | 1000019 | 1000019 | Female | 47 | NA | NA | NA | 1 | NA | NA | NA | TRUE |\n",
       "| 2 | 1000022 | 1000022 | Male   | 53 | NA | NA | NA | 1 | NA | NA | NA | TRUE |\n",
       "| 3 | 1000090 | 1000090 | Female | 64 | NA | NA | NA | 1 | NA | NA | NA | TRUE |\n",
       "| 4 | 1000112 | 1000112 | Male   | 58 | NA | 68 | NA | 9 | NA | 1  | NA | TRUE |\n",
       "| 5 | 1000170 | 1000170 | Female | 51 | NA | NA | NA | 1 | NA | NA | NA | TRUE |\n",
       "| 6 | 1000198 | 1000198 | Female | 41 | NA | NA | NA | 1 | NA | NA | NA | TRUE |\n",
       "\n"
      ],
      "text/plain": [
       "  IID     FID     f.22001.0.0 f.21003.0.0 f.21003.1.0 f.21003.2.0 f.21003.3.0\n",
       "1 1000019 1000019 Female      47          NA          NA          NA         \n",
       "2 1000022 1000022 Male        53          NA          NA          NA         \n",
       "3 1000090 1000090 Female      64          NA          NA          NA         \n",
       "4 1000112 1000112 Male        58          NA          68          NA         \n",
       "5 1000170 1000170 Female      51          NA          NA          NA         \n",
       "6 1000198 1000198 Female      41          NA          NA          NA         \n",
       "  f.2247.0.0_recode f.2247.1.0_recode f.2247.2.0_recode f.2247.3.0_recode cases\n",
       "1 1                 NA                NA                NA                TRUE \n",
       "2 1                 NA                NA                NA                TRUE \n",
       "3 1                 NA                NA                NA                TRUE \n",
       "4 9                 NA                1                 NA                TRUE \n",
       "5 1                 NA                NA                NA                TRUE \n",
       "6 1                 NA                NA                NA                TRUE "
      ]
     },
     "metadata": {},
     "output_type": "display_data"
    },
    {
     "name": "stdout",
     "output_type": "stream",
     "text": [
      "101307 individuals are cases for f.2247"
     ]
    }
   ],
   "source": [
    "hearing_diff_cases <- hearing_diff %>% \n",
    "  filter(cases == TRUE)\n",
    "head(hearing_diff_cases)\n",
    "cat(dim(hearing_diff_cases)[1], \"individuals are cases for f.2247\")"
   ]
  },
  {
   "cell_type": "code",
   "execution_count": 277,
   "metadata": {
    "kernel": "R"
   },
   "outputs": [
    {
     "data": {
      "text/html": [
       "<table>\n",
       "<caption>A data.frame: 6 × 12</caption>\n",
       "<thead>\n",
       "\t<tr><th></th><th scope=col>IID</th><th scope=col>FID</th><th scope=col>f.22001.0.0</th><th scope=col>f.21003.0.0</th><th scope=col>f.21003.1.0</th><th scope=col>f.21003.2.0</th><th scope=col>f.21003.3.0</th><th scope=col>f.2247.0.0_recode</th><th scope=col>f.2247.1.0_recode</th><th scope=col>f.2247.2.0_recode</th><th scope=col>f.2247.3.0_recode</th><th scope=col>cases</th></tr>\n",
       "\t<tr><th></th><th scope=col>&lt;int&gt;</th><th scope=col>&lt;int&gt;</th><th scope=col>&lt;fct&gt;</th><th scope=col>&lt;int&gt;</th><th scope=col>&lt;int&gt;</th><th scope=col>&lt;int&gt;</th><th scope=col>&lt;int&gt;</th><th scope=col>&lt;fct&gt;</th><th scope=col>&lt;fct&gt;</th><th scope=col>&lt;fct&gt;</th><th scope=col>&lt;fct&gt;</th><th scope=col>&lt;lgl&gt;</th></tr>\n",
       "</thead>\n",
       "<tbody>\n",
       "\t<tr><th scope=row>1</th><td>1000035</td><td>1000035</td><td>Male  </td><td>63</td><td>NA</td><td>NA</td><td>NA</td><td>0</td><td>NA</td><td>NA</td><td>NA</td><td>FALSE</td></tr>\n",
       "\t<tr><th scope=row>2</th><td>1000046</td><td>1000046</td><td>Female</td><td>62</td><td>NA</td><td>73</td><td>NA</td><td>0</td><td>NA</td><td>0 </td><td>NA</td><td>FALSE</td></tr>\n",
       "\t<tr><th scope=row>3</th><td>1000054</td><td>1000054</td><td>Female</td><td>65</td><td>NA</td><td>NA</td><td>NA</td><td>0</td><td>NA</td><td>NA</td><td>NA</td><td>FALSE</td></tr>\n",
       "\t<tr><th scope=row>4</th><td>1000063</td><td>1000063</td><td>Male  </td><td>43</td><td>NA</td><td>NA</td><td>NA</td><td>0</td><td>NA</td><td>NA</td><td>NA</td><td>FALSE</td></tr>\n",
       "\t<tr><th scope=row>5</th><td>1000078</td><td>1000078</td><td>Female</td><td>52</td><td>57</td><td>60</td><td>NA</td><td>0</td><td>0 </td><td>0 </td><td>NA</td><td>FALSE</td></tr>\n",
       "\t<tr><th scope=row>6</th><td>1000081</td><td>1000081</td><td>Male  </td><td>67</td><td>NA</td><td>NA</td><td>NA</td><td>0</td><td>NA</td><td>NA</td><td>NA</td><td>FALSE</td></tr>\n",
       "</tbody>\n",
       "</table>\n"
      ],
      "text/latex": [
       "A data.frame: 6 × 12\n",
       "\\begin{tabular}{r|llllllllllll}\n",
       "  & IID & FID & f.22001.0.0 & f.21003.0.0 & f.21003.1.0 & f.21003.2.0 & f.21003.3.0 & f.2247.0.0\\_recode & f.2247.1.0\\_recode & f.2247.2.0\\_recode & f.2247.3.0\\_recode & cases\\\\\n",
       "  & <int> & <int> & <fct> & <int> & <int> & <int> & <int> & <fct> & <fct> & <fct> & <fct> & <lgl>\\\\\n",
       "\\hline\n",
       "\t1 & 1000035 & 1000035 & Male   & 63 & NA & NA & NA & 0 & NA & NA & NA & FALSE\\\\\n",
       "\t2 & 1000046 & 1000046 & Female & 62 & NA & 73 & NA & 0 & NA & 0  & NA & FALSE\\\\\n",
       "\t3 & 1000054 & 1000054 & Female & 65 & NA & NA & NA & 0 & NA & NA & NA & FALSE\\\\\n",
       "\t4 & 1000063 & 1000063 & Male   & 43 & NA & NA & NA & 0 & NA & NA & NA & FALSE\\\\\n",
       "\t5 & 1000078 & 1000078 & Female & 52 & 57 & 60 & NA & 0 & 0  & 0  & NA & FALSE\\\\\n",
       "\t6 & 1000081 & 1000081 & Male   & 67 & NA & NA & NA & 0 & NA & NA & NA & FALSE\\\\\n",
       "\\end{tabular}\n"
      ],
      "text/markdown": [
       "\n",
       "A data.frame: 6 × 12\n",
       "\n",
       "| <!--/--> | IID &lt;int&gt; | FID &lt;int&gt; | f.22001.0.0 &lt;fct&gt; | f.21003.0.0 &lt;int&gt; | f.21003.1.0 &lt;int&gt; | f.21003.2.0 &lt;int&gt; | f.21003.3.0 &lt;int&gt; | f.2247.0.0_recode &lt;fct&gt; | f.2247.1.0_recode &lt;fct&gt; | f.2247.2.0_recode &lt;fct&gt; | f.2247.3.0_recode &lt;fct&gt; | cases &lt;lgl&gt; |\n",
       "|---|---|---|---|---|---|---|---|---|---|---|---|---|\n",
       "| 1 | 1000035 | 1000035 | Male   | 63 | NA | NA | NA | 0 | NA | NA | NA | FALSE |\n",
       "| 2 | 1000046 | 1000046 | Female | 62 | NA | 73 | NA | 0 | NA | 0  | NA | FALSE |\n",
       "| 3 | 1000054 | 1000054 | Female | 65 | NA | NA | NA | 0 | NA | NA | NA | FALSE |\n",
       "| 4 | 1000063 | 1000063 | Male   | 43 | NA | NA | NA | 0 | NA | NA | NA | FALSE |\n",
       "| 5 | 1000078 | 1000078 | Female | 52 | 57 | 60 | NA | 0 | 0  | 0  | NA | FALSE |\n",
       "| 6 | 1000081 | 1000081 | Male   | 67 | NA | NA | NA | 0 | NA | NA | NA | FALSE |\n",
       "\n"
      ],
      "text/plain": [
       "  IID     FID     f.22001.0.0 f.21003.0.0 f.21003.1.0 f.21003.2.0 f.21003.3.0\n",
       "1 1000035 1000035 Male        63          NA          NA          NA         \n",
       "2 1000046 1000046 Female      62          NA          73          NA         \n",
       "3 1000054 1000054 Female      65          NA          NA          NA         \n",
       "4 1000063 1000063 Male        43          NA          NA          NA         \n",
       "5 1000078 1000078 Female      52          57          60          NA         \n",
       "6 1000081 1000081 Male        67          NA          NA          NA         \n",
       "  f.2247.0.0_recode f.2247.1.0_recode f.2247.2.0_recode f.2247.3.0_recode cases\n",
       "1 0                 NA                NA                NA                FALSE\n",
       "2 0                 NA                0                 NA                FALSE\n",
       "3 0                 NA                NA                NA                FALSE\n",
       "4 0                 NA                NA                NA                FALSE\n",
       "5 0                 0                 0                 NA                FALSE\n",
       "6 0                 NA                NA                NA                FALSE"
      ]
     },
     "metadata": {},
     "output_type": "display_data"
    },
    {
     "name": "stdout",
     "output_type": "stream",
     "text": [
      "275794 individuals are controls for f.2247"
     ]
    }
   ],
   "source": [
    "hearing_diff_controls <- hearing_diff %>% \n",
    "  filter(cases == FALSE)\n",
    "head(hearing_diff_controls)\n",
    "cat(dim(hearing_diff_controls)[1], \"individuals are controls for f.2247\")"
   ]
  },
  {
   "cell_type": "code",
   "execution_count": 278,
   "metadata": {
    "kernel": "R"
   },
   "outputs": [
    {
     "data": {
      "text/html": [
       "0"
      ],
      "text/latex": [
       "0"
      ],
      "text/markdown": [
       "0"
      ],
      "text/plain": [
       "[1] 0"
      ]
     },
     "metadata": {},
     "output_type": "display_data"
    }
   ],
   "source": [
    "dim(hearing_diff)[1]-nrow(hearing_diff_controls )- nrow(hearing_diff_cases)"
   ]
  },
  {
   "cell_type": "markdown",
   "metadata": {
    "kernel": "R"
   },
   "source": [
    "## f.2247 Recode cases=1 and controls=0"
   ]
  },
  {
   "cell_type": "code",
   "execution_count": 279,
   "metadata": {
    "kernel": "R"
   },
   "outputs": [
    {
     "data": {
      "text/html": [
       "<table>\n",
       "<caption>A data.frame: 10 × 13</caption>\n",
       "<thead>\n",
       "\t<tr><th></th><th scope=col>IID</th><th scope=col>FID</th><th scope=col>f.22001.0.0</th><th scope=col>f.21003.0.0</th><th scope=col>f.21003.1.0</th><th scope=col>f.21003.2.0</th><th scope=col>f.21003.3.0</th><th scope=col>f.2247.0.0_recode</th><th scope=col>f.2247.1.0_recode</th><th scope=col>f.2247.2.0_recode</th><th scope=col>f.2247.3.0_recode</th><th scope=col>cases</th><th scope=col>hearing_diff_cat</th></tr>\n",
       "\t<tr><th></th><th scope=col>&lt;int&gt;</th><th scope=col>&lt;int&gt;</th><th scope=col>&lt;fct&gt;</th><th scope=col>&lt;int&gt;</th><th scope=col>&lt;int&gt;</th><th scope=col>&lt;int&gt;</th><th scope=col>&lt;int&gt;</th><th scope=col>&lt;fct&gt;</th><th scope=col>&lt;fct&gt;</th><th scope=col>&lt;fct&gt;</th><th scope=col>&lt;fct&gt;</th><th scope=col>&lt;lgl&gt;</th><th scope=col>&lt;int&gt;</th></tr>\n",
       "</thead>\n",
       "<tbody>\n",
       "\t<tr><th scope=row>1</th><td>1000019</td><td>1000019</td><td>Female</td><td>47</td><td>NA</td><td>NA</td><td>NA</td><td>1</td><td>NA</td><td>NA</td><td>NA</td><td> TRUE</td><td>1</td></tr>\n",
       "\t<tr><th scope=row>2</th><td>1000022</td><td>1000022</td><td>Male  </td><td>53</td><td>NA</td><td>NA</td><td>NA</td><td>1</td><td>NA</td><td>NA</td><td>NA</td><td> TRUE</td><td>1</td></tr>\n",
       "\t<tr><th scope=row>3</th><td>1000035</td><td>1000035</td><td>Male  </td><td>63</td><td>NA</td><td>NA</td><td>NA</td><td>0</td><td>NA</td><td>NA</td><td>NA</td><td>FALSE</td><td>0</td></tr>\n",
       "\t<tr><th scope=row>4</th><td>1000046</td><td>1000046</td><td>Female</td><td>62</td><td>NA</td><td>73</td><td>NA</td><td>0</td><td>NA</td><td>0 </td><td>NA</td><td>FALSE</td><td>0</td></tr>\n",
       "\t<tr><th scope=row>5</th><td>1000054</td><td>1000054</td><td>Female</td><td>65</td><td>NA</td><td>NA</td><td>NA</td><td>0</td><td>NA</td><td>NA</td><td>NA</td><td>FALSE</td><td>0</td></tr>\n",
       "\t<tr><th scope=row>6</th><td>1000063</td><td>1000063</td><td>Male  </td><td>43</td><td>NA</td><td>NA</td><td>NA</td><td>0</td><td>NA</td><td>NA</td><td>NA</td><td>FALSE</td><td>0</td></tr>\n",
       "\t<tr><th scope=row>7</th><td>1000078</td><td>1000078</td><td>Female</td><td>52</td><td>57</td><td>60</td><td>NA</td><td>0</td><td>0 </td><td>0 </td><td>NA</td><td>FALSE</td><td>0</td></tr>\n",
       "\t<tr><th scope=row>8</th><td>1000081</td><td>1000081</td><td>Male  </td><td>67</td><td>NA</td><td>NA</td><td>NA</td><td>0</td><td>NA</td><td>NA</td><td>NA</td><td>FALSE</td><td>0</td></tr>\n",
       "\t<tr><th scope=row>9</th><td>1000090</td><td>1000090</td><td>Female</td><td>64</td><td>NA</td><td>NA</td><td>NA</td><td>1</td><td>NA</td><td>NA</td><td>NA</td><td> TRUE</td><td>1</td></tr>\n",
       "\t<tr><th scope=row>10</th><td>1000112</td><td>1000112</td><td>Male  </td><td>58</td><td>NA</td><td>68</td><td>NA</td><td>9</td><td>NA</td><td>1 </td><td>NA</td><td> TRUE</td><td>1</td></tr>\n",
       "</tbody>\n",
       "</table>\n"
      ],
      "text/latex": [
       "A data.frame: 10 × 13\n",
       "\\begin{tabular}{r|lllllllllllll}\n",
       "  & IID & FID & f.22001.0.0 & f.21003.0.0 & f.21003.1.0 & f.21003.2.0 & f.21003.3.0 & f.2247.0.0\\_recode & f.2247.1.0\\_recode & f.2247.2.0\\_recode & f.2247.3.0\\_recode & cases & hearing\\_diff\\_cat\\\\\n",
       "  & <int> & <int> & <fct> & <int> & <int> & <int> & <int> & <fct> & <fct> & <fct> & <fct> & <lgl> & <int>\\\\\n",
       "\\hline\n",
       "\t1 & 1000019 & 1000019 & Female & 47 & NA & NA & NA & 1 & NA & NA & NA &  TRUE & 1\\\\\n",
       "\t2 & 1000022 & 1000022 & Male   & 53 & NA & NA & NA & 1 & NA & NA & NA &  TRUE & 1\\\\\n",
       "\t3 & 1000035 & 1000035 & Male   & 63 & NA & NA & NA & 0 & NA & NA & NA & FALSE & 0\\\\\n",
       "\t4 & 1000046 & 1000046 & Female & 62 & NA & 73 & NA & 0 & NA & 0  & NA & FALSE & 0\\\\\n",
       "\t5 & 1000054 & 1000054 & Female & 65 & NA & NA & NA & 0 & NA & NA & NA & FALSE & 0\\\\\n",
       "\t6 & 1000063 & 1000063 & Male   & 43 & NA & NA & NA & 0 & NA & NA & NA & FALSE & 0\\\\\n",
       "\t7 & 1000078 & 1000078 & Female & 52 & 57 & 60 & NA & 0 & 0  & 0  & NA & FALSE & 0\\\\\n",
       "\t8 & 1000081 & 1000081 & Male   & 67 & NA & NA & NA & 0 & NA & NA & NA & FALSE & 0\\\\\n",
       "\t9 & 1000090 & 1000090 & Female & 64 & NA & NA & NA & 1 & NA & NA & NA &  TRUE & 1\\\\\n",
       "\t10 & 1000112 & 1000112 & Male   & 58 & NA & 68 & NA & 9 & NA & 1  & NA &  TRUE & 1\\\\\n",
       "\\end{tabular}\n"
      ],
      "text/markdown": [
       "\n",
       "A data.frame: 10 × 13\n",
       "\n",
       "| <!--/--> | IID &lt;int&gt; | FID &lt;int&gt; | f.22001.0.0 &lt;fct&gt; | f.21003.0.0 &lt;int&gt; | f.21003.1.0 &lt;int&gt; | f.21003.2.0 &lt;int&gt; | f.21003.3.0 &lt;int&gt; | f.2247.0.0_recode &lt;fct&gt; | f.2247.1.0_recode &lt;fct&gt; | f.2247.2.0_recode &lt;fct&gt; | f.2247.3.0_recode &lt;fct&gt; | cases &lt;lgl&gt; | hearing_diff_cat &lt;int&gt; |\n",
       "|---|---|---|---|---|---|---|---|---|---|---|---|---|---|\n",
       "| 1 | 1000019 | 1000019 | Female | 47 | NA | NA | NA | 1 | NA | NA | NA |  TRUE | 1 |\n",
       "| 2 | 1000022 | 1000022 | Male   | 53 | NA | NA | NA | 1 | NA | NA | NA |  TRUE | 1 |\n",
       "| 3 | 1000035 | 1000035 | Male   | 63 | NA | NA | NA | 0 | NA | NA | NA | FALSE | 0 |\n",
       "| 4 | 1000046 | 1000046 | Female | 62 | NA | 73 | NA | 0 | NA | 0  | NA | FALSE | 0 |\n",
       "| 5 | 1000054 | 1000054 | Female | 65 | NA | NA | NA | 0 | NA | NA | NA | FALSE | 0 |\n",
       "| 6 | 1000063 | 1000063 | Male   | 43 | NA | NA | NA | 0 | NA | NA | NA | FALSE | 0 |\n",
       "| 7 | 1000078 | 1000078 | Female | 52 | 57 | 60 | NA | 0 | 0  | 0  | NA | FALSE | 0 |\n",
       "| 8 | 1000081 | 1000081 | Male   | 67 | NA | NA | NA | 0 | NA | NA | NA | FALSE | 0 |\n",
       "| 9 | 1000090 | 1000090 | Female | 64 | NA | NA | NA | 1 | NA | NA | NA |  TRUE | 1 |\n",
       "| 10 | 1000112 | 1000112 | Male   | 58 | NA | 68 | NA | 9 | NA | 1  | NA |  TRUE | 1 |\n",
       "\n"
      ],
      "text/plain": [
       "   IID     FID     f.22001.0.0 f.21003.0.0 f.21003.1.0 f.21003.2.0 f.21003.3.0\n",
       "1  1000019 1000019 Female      47          NA          NA          NA         \n",
       "2  1000022 1000022 Male        53          NA          NA          NA         \n",
       "3  1000035 1000035 Male        63          NA          NA          NA         \n",
       "4  1000046 1000046 Female      62          NA          73          NA         \n",
       "5  1000054 1000054 Female      65          NA          NA          NA         \n",
       "6  1000063 1000063 Male        43          NA          NA          NA         \n",
       "7  1000078 1000078 Female      52          57          60          NA         \n",
       "8  1000081 1000081 Male        67          NA          NA          NA         \n",
       "9  1000090 1000090 Female      64          NA          NA          NA         \n",
       "10 1000112 1000112 Male        58          NA          68          NA         \n",
       "   f.2247.0.0_recode f.2247.1.0_recode f.2247.2.0_recode f.2247.3.0_recode\n",
       "1  1                 NA                NA                NA               \n",
       "2  1                 NA                NA                NA               \n",
       "3  0                 NA                NA                NA               \n",
       "4  0                 NA                0                 NA               \n",
       "5  0                 NA                NA                NA               \n",
       "6  0                 NA                NA                NA               \n",
       "7  0                 0                 0                 NA               \n",
       "8  0                 NA                NA                NA               \n",
       "9  1                 NA                NA                NA               \n",
       "10 9                 NA                1                 NA               \n",
       "   cases hearing_diff_cat\n",
       "1   TRUE 1               \n",
       "2   TRUE 1               \n",
       "3  FALSE 0               \n",
       "4  FALSE 0               \n",
       "5  FALSE 0               \n",
       "6  FALSE 0               \n",
       "7  FALSE 0               \n",
       "8  FALSE 0               \n",
       "9   TRUE 1               \n",
       "10  TRUE 1               "
      ]
     },
     "metadata": {},
     "output_type": "display_data"
    },
    {
     "data": {
      "text/html": [
       "0"
      ],
      "text/latex": [
       "0"
      ],
      "text/markdown": [
       "0"
      ],
      "text/plain": [
       "[1] 0"
      ]
     },
     "metadata": {},
     "output_type": "display_data"
    }
   ],
   "source": [
    "hearing_diff$hearing_diff_cat <- as.integer(as.logical(hearing_diff$cases))\n",
    "head(hearing_diff, 10)\n",
    "# Get the number of NAs\n",
    "length(which(is.na(hearing_diff$hearing_dif_cat)))"
   ]
  },
  {
   "cell_type": "markdown",
   "metadata": {
    "kernel": "R"
   },
   "source": [
    "## f.2247 Step 2: get the ages for hearing difficulty"
   ]
  },
  {
   "cell_type": "code",
   "execution_count": 280,
   "metadata": {
    "kernel": "R"
   },
   "outputs": [
    {
     "data": {
      "text/html": [
       "<table>\n",
       "<caption>A data.frame: 12 × 9</caption>\n",
       "<thead>\n",
       "\t<tr><th></th><th scope=col>IID</th><th scope=col>f.2247.0.0_recode</th><th scope=col>f.2247.1.0_recode</th><th scope=col>f.2247.2.0_recode</th><th scope=col>f.2247.3.0_recode</th><th scope=col>f.21003.0.0</th><th scope=col>f.21003.1.0</th><th scope=col>f.21003.2.0</th><th scope=col>f.21003.3.0</th></tr>\n",
       "\t<tr><th></th><th scope=col>&lt;int&gt;</th><th scope=col>&lt;fct&gt;</th><th scope=col>&lt;fct&gt;</th><th scope=col>&lt;fct&gt;</th><th scope=col>&lt;fct&gt;</th><th scope=col>&lt;int&gt;</th><th scope=col>&lt;int&gt;</th><th scope=col>&lt;int&gt;</th><th scope=col>&lt;int&gt;</th></tr>\n",
       "</thead>\n",
       "<tbody>\n",
       "\t<tr><th scope=row>1</th><td>1000019</td><td>1</td><td>NA</td><td>NA</td><td>NA</td><td>47</td><td>NA</td><td>NA</td><td>NA</td></tr>\n",
       "\t<tr><th scope=row>2</th><td>1000022</td><td>1</td><td>NA</td><td>NA</td><td>NA</td><td>53</td><td>NA</td><td>NA</td><td>NA</td></tr>\n",
       "\t<tr><th scope=row>3</th><td>1000090</td><td>1</td><td>NA</td><td>NA</td><td>NA</td><td>64</td><td>NA</td><td>NA</td><td>NA</td></tr>\n",
       "\t<tr><th scope=row>4</th><td>1000112</td><td>9</td><td>NA</td><td>1 </td><td>NA</td><td>58</td><td>NA</td><td>68</td><td>NA</td></tr>\n",
       "\t<tr><th scope=row>5</th><td>1000170</td><td>1</td><td>NA</td><td>NA</td><td>NA</td><td>51</td><td>NA</td><td>NA</td><td>NA</td></tr>\n",
       "\t<tr><th scope=row>6</th><td>1000198</td><td>1</td><td>NA</td><td>NA</td><td>NA</td><td>41</td><td>NA</td><td>NA</td><td>NA</td></tr>\n",
       "\t<tr><th scope=row>7</th><td>1000203</td><td>1</td><td>NA</td><td>NA</td><td>NA</td><td>49</td><td>NA</td><td>NA</td><td>NA</td></tr>\n",
       "\t<tr><th scope=row>8</th><td>1000494</td><td>1</td><td>NA</td><td>NA</td><td>NA</td><td>61</td><td>NA</td><td>NA</td><td>NA</td></tr>\n",
       "\t<tr><th scope=row>9</th><td>1000549</td><td>1</td><td>NA</td><td>NA</td><td>NA</td><td>63</td><td>NA</td><td>NA</td><td>NA</td></tr>\n",
       "\t<tr><th scope=row>10</th><td>1000728</td><td>1</td><td>NA</td><td>NA</td><td>NA</td><td>61</td><td>NA</td><td>NA</td><td>NA</td></tr>\n",
       "\t<tr><th scope=row>11</th><td>1000745</td><td>1</td><td>NA</td><td>NA</td><td>NA</td><td>60</td><td>NA</td><td>NA</td><td>NA</td></tr>\n",
       "\t<tr><th scope=row>12</th><td>1000767</td><td>1</td><td>NA</td><td>NA</td><td>NA</td><td>48</td><td>NA</td><td>NA</td><td>NA</td></tr>\n",
       "</tbody>\n",
       "</table>\n"
      ],
      "text/latex": [
       "A data.frame: 12 × 9\n",
       "\\begin{tabular}{r|lllllllll}\n",
       "  & IID & f.2247.0.0\\_recode & f.2247.1.0\\_recode & f.2247.2.0\\_recode & f.2247.3.0\\_recode & f.21003.0.0 & f.21003.1.0 & f.21003.2.0 & f.21003.3.0\\\\\n",
       "  & <int> & <fct> & <fct> & <fct> & <fct> & <int> & <int> & <int> & <int>\\\\\n",
       "\\hline\n",
       "\t1 & 1000019 & 1 & NA & NA & NA & 47 & NA & NA & NA\\\\\n",
       "\t2 & 1000022 & 1 & NA & NA & NA & 53 & NA & NA & NA\\\\\n",
       "\t3 & 1000090 & 1 & NA & NA & NA & 64 & NA & NA & NA\\\\\n",
       "\t4 & 1000112 & 9 & NA & 1  & NA & 58 & NA & 68 & NA\\\\\n",
       "\t5 & 1000170 & 1 & NA & NA & NA & 51 & NA & NA & NA\\\\\n",
       "\t6 & 1000198 & 1 & NA & NA & NA & 41 & NA & NA & NA\\\\\n",
       "\t7 & 1000203 & 1 & NA & NA & NA & 49 & NA & NA & NA\\\\\n",
       "\t8 & 1000494 & 1 & NA & NA & NA & 61 & NA & NA & NA\\\\\n",
       "\t9 & 1000549 & 1 & NA & NA & NA & 63 & NA & NA & NA\\\\\n",
       "\t10 & 1000728 & 1 & NA & NA & NA & 61 & NA & NA & NA\\\\\n",
       "\t11 & 1000745 & 1 & NA & NA & NA & 60 & NA & NA & NA\\\\\n",
       "\t12 & 1000767 & 1 & NA & NA & NA & 48 & NA & NA & NA\\\\\n",
       "\\end{tabular}\n"
      ],
      "text/markdown": [
       "\n",
       "A data.frame: 12 × 9\n",
       "\n",
       "| <!--/--> | IID &lt;int&gt; | f.2247.0.0_recode &lt;fct&gt; | f.2247.1.0_recode &lt;fct&gt; | f.2247.2.0_recode &lt;fct&gt; | f.2247.3.0_recode &lt;fct&gt; | f.21003.0.0 &lt;int&gt; | f.21003.1.0 &lt;int&gt; | f.21003.2.0 &lt;int&gt; | f.21003.3.0 &lt;int&gt; |\n",
       "|---|---|---|---|---|---|---|---|---|---|\n",
       "| 1 | 1000019 | 1 | NA | NA | NA | 47 | NA | NA | NA |\n",
       "| 2 | 1000022 | 1 | NA | NA | NA | 53 | NA | NA | NA |\n",
       "| 3 | 1000090 | 1 | NA | NA | NA | 64 | NA | NA | NA |\n",
       "| 4 | 1000112 | 9 | NA | 1  | NA | 58 | NA | 68 | NA |\n",
       "| 5 | 1000170 | 1 | NA | NA | NA | 51 | NA | NA | NA |\n",
       "| 6 | 1000198 | 1 | NA | NA | NA | 41 | NA | NA | NA |\n",
       "| 7 | 1000203 | 1 | NA | NA | NA | 49 | NA | NA | NA |\n",
       "| 8 | 1000494 | 1 | NA | NA | NA | 61 | NA | NA | NA |\n",
       "| 9 | 1000549 | 1 | NA | NA | NA | 63 | NA | NA | NA |\n",
       "| 10 | 1000728 | 1 | NA | NA | NA | 61 | NA | NA | NA |\n",
       "| 11 | 1000745 | 1 | NA | NA | NA | 60 | NA | NA | NA |\n",
       "| 12 | 1000767 | 1 | NA | NA | NA | 48 | NA | NA | NA |\n",
       "\n"
      ],
      "text/plain": [
       "   IID     f.2247.0.0_recode f.2247.1.0_recode f.2247.2.0_recode\n",
       "1  1000019 1                 NA                NA               \n",
       "2  1000022 1                 NA                NA               \n",
       "3  1000090 1                 NA                NA               \n",
       "4  1000112 9                 NA                1                \n",
       "5  1000170 1                 NA                NA               \n",
       "6  1000198 1                 NA                NA               \n",
       "7  1000203 1                 NA                NA               \n",
       "8  1000494 1                 NA                NA               \n",
       "9  1000549 1                 NA                NA               \n",
       "10 1000728 1                 NA                NA               \n",
       "11 1000745 1                 NA                NA               \n",
       "12 1000767 1                 NA                NA               \n",
       "   f.2247.3.0_recode f.21003.0.0 f.21003.1.0 f.21003.2.0 f.21003.3.0\n",
       "1  NA                47          NA          NA          NA         \n",
       "2  NA                53          NA          NA          NA         \n",
       "3  NA                64          NA          NA          NA         \n",
       "4  NA                58          NA          68          NA         \n",
       "5  NA                51          NA          NA          NA         \n",
       "6  NA                41          NA          NA          NA         \n",
       "7  NA                49          NA          NA          NA         \n",
       "8  NA                61          NA          NA          NA         \n",
       "9  NA                63          NA          NA          NA         \n",
       "10 NA                61          NA          NA          NA         \n",
       "11 NA                60          NA          NA          NA         \n",
       "12 NA                48          NA          NA          NA         "
      ]
     },
     "metadata": {},
     "output_type": "display_data"
    }
   ],
   "source": [
    "# Get the subset data of cases\n",
    "diff_age_cases = hearing_diff %>% \n",
    "  filter(hearing_diff_cat==\"1\")  %>%\n",
    "  select(IID, f.2247.0.0_recode, f.2247.1.0_recode, f.2247.2.0_recode, f.2247.3.0_recode, f.21003.0.0, f.21003.1.0, f.21003.2.0, f.21003.3.0)\n",
    "head(diff_age_cases,12)"
   ]
  },
  {
   "cell_type": "code",
   "execution_count": 281,
   "metadata": {
    "kernel": "R"
   },
   "outputs": [
    {
     "data": {
      "text/html": [
       "<table>\n",
       "<caption>A data.frame: 6 × 10</caption>\n",
       "<thead>\n",
       "\t<tr><th></th><th scope=col>IID</th><th scope=col>f.2247.0.0_recode</th><th scope=col>f.2247.1.0_recode</th><th scope=col>f.2247.2.0_recode</th><th scope=col>f.2247.3.0_recode</th><th scope=col>f.21003.0.0</th><th scope=col>f.21003.1.0</th><th scope=col>f.21003.2.0</th><th scope=col>f.21003.3.0</th><th scope=col>visit_idx</th></tr>\n",
       "\t<tr><th></th><th scope=col>&lt;int&gt;</th><th scope=col>&lt;fct&gt;</th><th scope=col>&lt;fct&gt;</th><th scope=col>&lt;fct&gt;</th><th scope=col>&lt;fct&gt;</th><th scope=col>&lt;int&gt;</th><th scope=col>&lt;int&gt;</th><th scope=col>&lt;int&gt;</th><th scope=col>&lt;int&gt;</th><th scope=col>&lt;list&gt;</th></tr>\n",
       "</thead>\n",
       "<tbody>\n",
       "\t<tr><th scope=row>1</th><td>1000019</td><td>1</td><td>NA</td><td>NA</td><td>NA</td><td>47</td><td>NA</td><td>NA</td><td>NA</td><td>2</td></tr>\n",
       "\t<tr><th scope=row>2</th><td>1000022</td><td>1</td><td>NA</td><td>NA</td><td>NA</td><td>53</td><td>NA</td><td>NA</td><td>NA</td><td>2</td></tr>\n",
       "\t<tr><th scope=row>3</th><td>1000090</td><td>1</td><td>NA</td><td>NA</td><td>NA</td><td>64</td><td>NA</td><td>NA</td><td>NA</td><td>2</td></tr>\n",
       "\t<tr><th scope=row>4</th><td>1000112</td><td>9</td><td>NA</td><td>1 </td><td>NA</td><td>58</td><td>NA</td><td>68</td><td>NA</td><td>4</td></tr>\n",
       "\t<tr><th scope=row>5</th><td>1000170</td><td>1</td><td>NA</td><td>NA</td><td>NA</td><td>51</td><td>NA</td><td>NA</td><td>NA</td><td>2</td></tr>\n",
       "\t<tr><th scope=row>6</th><td>1000198</td><td>1</td><td>NA</td><td>NA</td><td>NA</td><td>41</td><td>NA</td><td>NA</td><td>NA</td><td>2</td></tr>\n",
       "</tbody>\n",
       "</table>\n"
      ],
      "text/latex": [
       "A data.frame: 6 × 10\n",
       "\\begin{tabular}{r|llllllllll}\n",
       "  & IID & f.2247.0.0\\_recode & f.2247.1.0\\_recode & f.2247.2.0\\_recode & f.2247.3.0\\_recode & f.21003.0.0 & f.21003.1.0 & f.21003.2.0 & f.21003.3.0 & visit\\_idx\\\\\n",
       "  & <int> & <fct> & <fct> & <fct> & <fct> & <int> & <int> & <int> & <int> & <list>\\\\\n",
       "\\hline\n",
       "\t1 & 1000019 & 1 & NA & NA & NA & 47 & NA & NA & NA & 2\\\\\n",
       "\t2 & 1000022 & 1 & NA & NA & NA & 53 & NA & NA & NA & 2\\\\\n",
       "\t3 & 1000090 & 1 & NA & NA & NA & 64 & NA & NA & NA & 2\\\\\n",
       "\t4 & 1000112 & 9 & NA & 1  & NA & 58 & NA & 68 & NA & 4\\\\\n",
       "\t5 & 1000170 & 1 & NA & NA & NA & 51 & NA & NA & NA & 2\\\\\n",
       "\t6 & 1000198 & 1 & NA & NA & NA & 41 & NA & NA & NA & 2\\\\\n",
       "\\end{tabular}\n"
      ],
      "text/markdown": [
       "\n",
       "A data.frame: 6 × 10\n",
       "\n",
       "| <!--/--> | IID &lt;int&gt; | f.2247.0.0_recode &lt;fct&gt; | f.2247.1.0_recode &lt;fct&gt; | f.2247.2.0_recode &lt;fct&gt; | f.2247.3.0_recode &lt;fct&gt; | f.21003.0.0 &lt;int&gt; | f.21003.1.0 &lt;int&gt; | f.21003.2.0 &lt;int&gt; | f.21003.3.0 &lt;int&gt; | visit_idx &lt;list&gt; |\n",
       "|---|---|---|---|---|---|---|---|---|---|---|\n",
       "| 1 | 1000019 | 1 | NA | NA | NA | 47 | NA | NA | NA | 2 |\n",
       "| 2 | 1000022 | 1 | NA | NA | NA | 53 | NA | NA | NA | 2 |\n",
       "| 3 | 1000090 | 1 | NA | NA | NA | 64 | NA | NA | NA | 2 |\n",
       "| 4 | 1000112 | 9 | NA | 1  | NA | 58 | NA | 68 | NA | 4 |\n",
       "| 5 | 1000170 | 1 | NA | NA | NA | 51 | NA | NA | NA | 2 |\n",
       "| 6 | 1000198 | 1 | NA | NA | NA | 41 | NA | NA | NA | 2 |\n",
       "\n"
      ],
      "text/plain": [
       "  IID     f.2247.0.0_recode f.2247.1.0_recode f.2247.2.0_recode\n",
       "1 1000019 1                 NA                NA               \n",
       "2 1000022 1                 NA                NA               \n",
       "3 1000090 1                 NA                NA               \n",
       "4 1000112 9                 NA                1                \n",
       "5 1000170 1                 NA                NA               \n",
       "6 1000198 1                 NA                NA               \n",
       "  f.2247.3.0_recode f.21003.0.0 f.21003.1.0 f.21003.2.0 f.21003.3.0 visit_idx\n",
       "1 NA                47          NA          NA          NA          2        \n",
       "2 NA                53          NA          NA          NA          2        \n",
       "3 NA                64          NA          NA          NA          2        \n",
       "4 NA                58          NA          68          NA          4        \n",
       "5 NA                51          NA          NA          NA          2        \n",
       "6 NA                41          NA          NA          NA          2        "
      ]
     },
     "metadata": {},
     "output_type": "display_data"
    }
   ],
   "source": [
    "# Get the # of column where first replied Yes:\n",
    "diff_age_cases$visit_idx = apply(diff_age_cases, 1, function(x) unlist(which(x == '1')))\n",
    "head(diff_age_cases)"
   ]
  },
  {
   "cell_type": "code",
   "execution_count": 282,
   "metadata": {
    "kernel": "R"
   },
   "outputs": [
    {
     "data": {
      "text/html": [
       "<table>\n",
       "<caption>A data.frame: 6 × 11</caption>\n",
       "<thead>\n",
       "\t<tr><th></th><th scope=col>IID</th><th scope=col>f.2247.0.0_recode</th><th scope=col>f.2247.1.0_recode</th><th scope=col>f.2247.2.0_recode</th><th scope=col>f.2247.3.0_recode</th><th scope=col>f.21003.0.0</th><th scope=col>f.21003.1.0</th><th scope=col>f.21003.2.0</th><th scope=col>f.21003.3.0</th><th scope=col>visit_idx</th><th scope=col>age_final_diff</th></tr>\n",
       "\t<tr><th></th><th scope=col>&lt;int&gt;</th><th scope=col>&lt;fct&gt;</th><th scope=col>&lt;fct&gt;</th><th scope=col>&lt;fct&gt;</th><th scope=col>&lt;fct&gt;</th><th scope=col>&lt;int&gt;</th><th scope=col>&lt;int&gt;</th><th scope=col>&lt;int&gt;</th><th scope=col>&lt;int&gt;</th><th scope=col>&lt;list&gt;</th><th scope=col>&lt;int&gt;</th></tr>\n",
       "</thead>\n",
       "<tbody>\n",
       "\t<tr><th scope=row>1</th><td>1000019</td><td>1</td><td>NA</td><td>NA</td><td>NA</td><td>47</td><td>NA</td><td>NA</td><td>NA</td><td>2</td><td>47</td></tr>\n",
       "\t<tr><th scope=row>2</th><td>1000022</td><td>1</td><td>NA</td><td>NA</td><td>NA</td><td>53</td><td>NA</td><td>NA</td><td>NA</td><td>2</td><td>53</td></tr>\n",
       "\t<tr><th scope=row>3</th><td>1000090</td><td>1</td><td>NA</td><td>NA</td><td>NA</td><td>64</td><td>NA</td><td>NA</td><td>NA</td><td>2</td><td>64</td></tr>\n",
       "\t<tr><th scope=row>4</th><td>1000112</td><td>9</td><td>NA</td><td>1 </td><td>NA</td><td>58</td><td>NA</td><td>68</td><td>NA</td><td>4</td><td>68</td></tr>\n",
       "\t<tr><th scope=row>5</th><td>1000170</td><td>1</td><td>NA</td><td>NA</td><td>NA</td><td>51</td><td>NA</td><td>NA</td><td>NA</td><td>2</td><td>51</td></tr>\n",
       "\t<tr><th scope=row>6</th><td>1000198</td><td>1</td><td>NA</td><td>NA</td><td>NA</td><td>41</td><td>NA</td><td>NA</td><td>NA</td><td>2</td><td>41</td></tr>\n",
       "</tbody>\n",
       "</table>\n"
      ],
      "text/latex": [
       "A data.frame: 6 × 11\n",
       "\\begin{tabular}{r|lllllllllll}\n",
       "  & IID & f.2247.0.0\\_recode & f.2247.1.0\\_recode & f.2247.2.0\\_recode & f.2247.3.0\\_recode & f.21003.0.0 & f.21003.1.0 & f.21003.2.0 & f.21003.3.0 & visit\\_idx & age\\_final\\_diff\\\\\n",
       "  & <int> & <fct> & <fct> & <fct> & <fct> & <int> & <int> & <int> & <int> & <list> & <int>\\\\\n",
       "\\hline\n",
       "\t1 & 1000019 & 1 & NA & NA & NA & 47 & NA & NA & NA & 2 & 47\\\\\n",
       "\t2 & 1000022 & 1 & NA & NA & NA & 53 & NA & NA & NA & 2 & 53\\\\\n",
       "\t3 & 1000090 & 1 & NA & NA & NA & 64 & NA & NA & NA & 2 & 64\\\\\n",
       "\t4 & 1000112 & 9 & NA & 1  & NA & 58 & NA & 68 & NA & 4 & 68\\\\\n",
       "\t5 & 1000170 & 1 & NA & NA & NA & 51 & NA & NA & NA & 2 & 51\\\\\n",
       "\t6 & 1000198 & 1 & NA & NA & NA & 41 & NA & NA & NA & 2 & 41\\\\\n",
       "\\end{tabular}\n"
      ],
      "text/markdown": [
       "\n",
       "A data.frame: 6 × 11\n",
       "\n",
       "| <!--/--> | IID &lt;int&gt; | f.2247.0.0_recode &lt;fct&gt; | f.2247.1.0_recode &lt;fct&gt; | f.2247.2.0_recode &lt;fct&gt; | f.2247.3.0_recode &lt;fct&gt; | f.21003.0.0 &lt;int&gt; | f.21003.1.0 &lt;int&gt; | f.21003.2.0 &lt;int&gt; | f.21003.3.0 &lt;int&gt; | visit_idx &lt;list&gt; | age_final_diff &lt;int&gt; |\n",
       "|---|---|---|---|---|---|---|---|---|---|---|---|\n",
       "| 1 | 1000019 | 1 | NA | NA | NA | 47 | NA | NA | NA | 2 | 47 |\n",
       "| 2 | 1000022 | 1 | NA | NA | NA | 53 | NA | NA | NA | 2 | 53 |\n",
       "| 3 | 1000090 | 1 | NA | NA | NA | 64 | NA | NA | NA | 2 | 64 |\n",
       "| 4 | 1000112 | 9 | NA | 1  | NA | 58 | NA | 68 | NA | 4 | 68 |\n",
       "| 5 | 1000170 | 1 | NA | NA | NA | 51 | NA | NA | NA | 2 | 51 |\n",
       "| 6 | 1000198 | 1 | NA | NA | NA | 41 | NA | NA | NA | 2 | 41 |\n",
       "\n"
      ],
      "text/plain": [
       "  IID     f.2247.0.0_recode f.2247.1.0_recode f.2247.2.0_recode\n",
       "1 1000019 1                 NA                NA               \n",
       "2 1000022 1                 NA                NA               \n",
       "3 1000090 1                 NA                NA               \n",
       "4 1000112 9                 NA                1                \n",
       "5 1000170 1                 NA                NA               \n",
       "6 1000198 1                 NA                NA               \n",
       "  f.2247.3.0_recode f.21003.0.0 f.21003.1.0 f.21003.2.0 f.21003.3.0 visit_idx\n",
       "1 NA                47          NA          NA          NA          2        \n",
       "2 NA                53          NA          NA          NA          2        \n",
       "3 NA                64          NA          NA          NA          2        \n",
       "4 NA                58          NA          68          NA          4        \n",
       "5 NA                51          NA          NA          NA          2        \n",
       "6 NA                41          NA          NA          NA          2        \n",
       "  age_final_diff\n",
       "1 47            \n",
       "2 53            \n",
       "3 64            \n",
       "4 68            \n",
       "5 51            \n",
       "6 41            "
      ]
     },
     "metadata": {},
     "output_type": "display_data"
    },
    {
     "data": {
      "text/plain": [
       "   Min. 1st Qu.  Median    Mean 3rd Qu.    Max. \n",
       "  39.00   54.00   61.00   59.34   65.00   82.00 "
      ]
     },
     "metadata": {},
     "output_type": "display_data"
    }
   ],
   "source": [
    "# Define offset:\n",
    "# offset: refers to the # of columns between the first age column (i.e.f.21003.0.0) and the first recode column (i.e.f.22247.0.0_recode)\n",
    "offset = which(colnames(diff_age_cases) == 'f.21003.0.0') - which(colnames(diff_age_cases) == 'f.2247.0.0_recode')\n",
    "\n",
    "# Define the function to extract the first time they said yes for cases \n",
    "f=get_age_func <- function(x) {\n",
    "  visit_index=x[which(colnames(diff_age_cases)==\"visit_idx\")]\n",
    "  index=min(unlist(visit_index))+offset\n",
    "  age=x[index]\n",
    "  final_age=unlist(age)\n",
    "  if(is.null(final_age))\n",
    "  {final_age<-NA}\n",
    "  return(final_age)\n",
    "}\n",
    "\n",
    "# Get the final age for cases\n",
    "diff_age_cases$age_final_diff = apply(diff_age_cases, 1, f)\n",
    "\n",
    "# Show first 6 rows\n",
    "head(diff_age_cases)\n",
    "summary(diff_age_cases$age_final_diff)"
   ]
  },
  {
   "cell_type": "code",
   "execution_count": 283,
   "metadata": {
    "kernel": "R"
   },
   "outputs": [
    {
     "data": {
      "text/html": [
       "<table>\n",
       "<caption>A data.frame: 6 × 9</caption>\n",
       "<thead>\n",
       "\t<tr><th></th><th scope=col>IID</th><th scope=col>f.2247.0.0_recode</th><th scope=col>f.2247.1.0_recode</th><th scope=col>f.2247.2.0_recode</th><th scope=col>f.2247.3.0_recode</th><th scope=col>f.21003.0.0</th><th scope=col>f.21003.1.0</th><th scope=col>f.21003.2.0</th><th scope=col>f.21003.3.0</th></tr>\n",
       "\t<tr><th></th><th scope=col>&lt;int&gt;</th><th scope=col>&lt;fct&gt;</th><th scope=col>&lt;fct&gt;</th><th scope=col>&lt;fct&gt;</th><th scope=col>&lt;fct&gt;</th><th scope=col>&lt;int&gt;</th><th scope=col>&lt;int&gt;</th><th scope=col>&lt;int&gt;</th><th scope=col>&lt;int&gt;</th></tr>\n",
       "</thead>\n",
       "<tbody>\n",
       "\t<tr><th scope=row>1</th><td>1000035</td><td>0</td><td>NA</td><td>NA</td><td>NA</td><td>63</td><td>NA</td><td>NA</td><td>NA</td></tr>\n",
       "\t<tr><th scope=row>2</th><td>1000046</td><td>0</td><td>NA</td><td>0 </td><td>NA</td><td>62</td><td>NA</td><td>73</td><td>NA</td></tr>\n",
       "\t<tr><th scope=row>3</th><td>1000054</td><td>0</td><td>NA</td><td>NA</td><td>NA</td><td>65</td><td>NA</td><td>NA</td><td>NA</td></tr>\n",
       "\t<tr><th scope=row>4</th><td>1000063</td><td>0</td><td>NA</td><td>NA</td><td>NA</td><td>43</td><td>NA</td><td>NA</td><td>NA</td></tr>\n",
       "\t<tr><th scope=row>5</th><td>1000078</td><td>0</td><td>0 </td><td>0 </td><td>NA</td><td>52</td><td>57</td><td>60</td><td>NA</td></tr>\n",
       "\t<tr><th scope=row>6</th><td>1000081</td><td>0</td><td>NA</td><td>NA</td><td>NA</td><td>67</td><td>NA</td><td>NA</td><td>NA</td></tr>\n",
       "</tbody>\n",
       "</table>\n"
      ],
      "text/latex": [
       "A data.frame: 6 × 9\n",
       "\\begin{tabular}{r|lllllllll}\n",
       "  & IID & f.2247.0.0\\_recode & f.2247.1.0\\_recode & f.2247.2.0\\_recode & f.2247.3.0\\_recode & f.21003.0.0 & f.21003.1.0 & f.21003.2.0 & f.21003.3.0\\\\\n",
       "  & <int> & <fct> & <fct> & <fct> & <fct> & <int> & <int> & <int> & <int>\\\\\n",
       "\\hline\n",
       "\t1 & 1000035 & 0 & NA & NA & NA & 63 & NA & NA & NA\\\\\n",
       "\t2 & 1000046 & 0 & NA & 0  & NA & 62 & NA & 73 & NA\\\\\n",
       "\t3 & 1000054 & 0 & NA & NA & NA & 65 & NA & NA & NA\\\\\n",
       "\t4 & 1000063 & 0 & NA & NA & NA & 43 & NA & NA & NA\\\\\n",
       "\t5 & 1000078 & 0 & 0  & 0  & NA & 52 & 57 & 60 & NA\\\\\n",
       "\t6 & 1000081 & 0 & NA & NA & NA & 67 & NA & NA & NA\\\\\n",
       "\\end{tabular}\n"
      ],
      "text/markdown": [
       "\n",
       "A data.frame: 6 × 9\n",
       "\n",
       "| <!--/--> | IID &lt;int&gt; | f.2247.0.0_recode &lt;fct&gt; | f.2247.1.0_recode &lt;fct&gt; | f.2247.2.0_recode &lt;fct&gt; | f.2247.3.0_recode &lt;fct&gt; | f.21003.0.0 &lt;int&gt; | f.21003.1.0 &lt;int&gt; | f.21003.2.0 &lt;int&gt; | f.21003.3.0 &lt;int&gt; |\n",
       "|---|---|---|---|---|---|---|---|---|---|\n",
       "| 1 | 1000035 | 0 | NA | NA | NA | 63 | NA | NA | NA |\n",
       "| 2 | 1000046 | 0 | NA | 0  | NA | 62 | NA | 73 | NA |\n",
       "| 3 | 1000054 | 0 | NA | NA | NA | 65 | NA | NA | NA |\n",
       "| 4 | 1000063 | 0 | NA | NA | NA | 43 | NA | NA | NA |\n",
       "| 5 | 1000078 | 0 | 0  | 0  | NA | 52 | 57 | 60 | NA |\n",
       "| 6 | 1000081 | 0 | NA | NA | NA | 67 | NA | NA | NA |\n",
       "\n"
      ],
      "text/plain": [
       "  IID     f.2247.0.0_recode f.2247.1.0_recode f.2247.2.0_recode\n",
       "1 1000035 0                 NA                NA               \n",
       "2 1000046 0                 NA                0                \n",
       "3 1000054 0                 NA                NA               \n",
       "4 1000063 0                 NA                NA               \n",
       "5 1000078 0                 0                 0                \n",
       "6 1000081 0                 NA                NA               \n",
       "  f.2247.3.0_recode f.21003.0.0 f.21003.1.0 f.21003.2.0 f.21003.3.0\n",
       "1 NA                63          NA          NA          NA         \n",
       "2 NA                62          NA          73          NA         \n",
       "3 NA                65          NA          NA          NA         \n",
       "4 NA                43          NA          NA          NA         \n",
       "5 NA                52          57          60          NA         \n",
       "6 NA                67          NA          NA          NA         "
      ]
     },
     "metadata": {},
     "output_type": "display_data"
    }
   ],
   "source": [
    "### Extract age for Control (2247)\n",
    "diff_age_control <- hearing_diff %>% \n",
    "  filter(hearing_diff_cat == \"0\") %>%\n",
    "  select(IID, f.2247.0.0_recode, f.2247.1.0_recode, f.2247.2.0_recode, f.2247.3.0_recode, f.21003.0.0, f.21003.1.0, f.21003.2.0, f.21003.3.0)\n",
    "head(diff_age_control)"
   ]
  },
  {
   "cell_type": "code",
   "execution_count": 284,
   "metadata": {
    "kernel": "R"
   },
   "outputs": [
    {
     "data": {
      "text/html": [
       "<table>\n",
       "<caption>A data.frame: 6 × 11</caption>\n",
       "<thead>\n",
       "\t<tr><th></th><th scope=col>IID</th><th scope=col>f.2247.0.0_recode</th><th scope=col>f.2247.1.0_recode</th><th scope=col>f.2247.2.0_recode</th><th scope=col>f.2247.3.0_recode</th><th scope=col>f.21003.0.0</th><th scope=col>f.21003.1.0</th><th scope=col>f.21003.2.0</th><th scope=col>f.21003.3.0</th><th scope=col>visit_idx</th><th scope=col>age_final_diff</th></tr>\n",
       "\t<tr><th></th><th scope=col>&lt;int&gt;</th><th scope=col>&lt;fct&gt;</th><th scope=col>&lt;fct&gt;</th><th scope=col>&lt;fct&gt;</th><th scope=col>&lt;fct&gt;</th><th scope=col>&lt;int&gt;</th><th scope=col>&lt;int&gt;</th><th scope=col>&lt;int&gt;</th><th scope=col>&lt;int&gt;</th><th scope=col>&lt;list&gt;</th><th scope=col>&lt;int&gt;</th></tr>\n",
       "</thead>\n",
       "<tbody>\n",
       "\t<tr><th scope=row>1</th><td>1000035</td><td>0</td><td>NA</td><td>NA</td><td>NA</td><td>63</td><td>NA</td><td>NA</td><td>NA</td><td>2</td><td>63</td></tr>\n",
       "\t<tr><th scope=row>2</th><td>1000046</td><td>0</td><td>NA</td><td>0 </td><td>NA</td><td>62</td><td>NA</td><td>73</td><td>NA</td><td>2, 4</td><td>73</td></tr>\n",
       "\t<tr><th scope=row>3</th><td>1000054</td><td>0</td><td>NA</td><td>NA</td><td>NA</td><td>65</td><td>NA</td><td>NA</td><td>NA</td><td>2</td><td>65</td></tr>\n",
       "\t<tr><th scope=row>4</th><td>1000063</td><td>0</td><td>NA</td><td>NA</td><td>NA</td><td>43</td><td>NA</td><td>NA</td><td>NA</td><td>2</td><td>43</td></tr>\n",
       "\t<tr><th scope=row>5</th><td>1000078</td><td>0</td><td>0 </td><td>0 </td><td>NA</td><td>52</td><td>57</td><td>60</td><td>NA</td><td>2, 3, 4</td><td>60</td></tr>\n",
       "\t<tr><th scope=row>6</th><td>1000081</td><td>0</td><td>NA</td><td>NA</td><td>NA</td><td>67</td><td>NA</td><td>NA</td><td>NA</td><td>2</td><td>67</td></tr>\n",
       "</tbody>\n",
       "</table>\n"
      ],
      "text/latex": [
       "A data.frame: 6 × 11\n",
       "\\begin{tabular}{r|lllllllllll}\n",
       "  & IID & f.2247.0.0\\_recode & f.2247.1.0\\_recode & f.2247.2.0\\_recode & f.2247.3.0\\_recode & f.21003.0.0 & f.21003.1.0 & f.21003.2.0 & f.21003.3.0 & visit\\_idx & age\\_final\\_diff\\\\\n",
       "  & <int> & <fct> & <fct> & <fct> & <fct> & <int> & <int> & <int> & <int> & <list> & <int>\\\\\n",
       "\\hline\n",
       "\t1 & 1000035 & 0 & NA & NA & NA & 63 & NA & NA & NA & 2 & 63\\\\\n",
       "\t2 & 1000046 & 0 & NA & 0  & NA & 62 & NA & 73 & NA & 2, 4 & 73\\\\\n",
       "\t3 & 1000054 & 0 & NA & NA & NA & 65 & NA & NA & NA & 2 & 65\\\\\n",
       "\t4 & 1000063 & 0 & NA & NA & NA & 43 & NA & NA & NA & 2 & 43\\\\\n",
       "\t5 & 1000078 & 0 & 0  & 0  & NA & 52 & 57 & 60 & NA & 2, 3, 4 & 60\\\\\n",
       "\t6 & 1000081 & 0 & NA & NA & NA & 67 & NA & NA & NA & 2 & 67\\\\\n",
       "\\end{tabular}\n"
      ],
      "text/markdown": [
       "\n",
       "A data.frame: 6 × 11\n",
       "\n",
       "| <!--/--> | IID &lt;int&gt; | f.2247.0.0_recode &lt;fct&gt; | f.2247.1.0_recode &lt;fct&gt; | f.2247.2.0_recode &lt;fct&gt; | f.2247.3.0_recode &lt;fct&gt; | f.21003.0.0 &lt;int&gt; | f.21003.1.0 &lt;int&gt; | f.21003.2.0 &lt;int&gt; | f.21003.3.0 &lt;int&gt; | visit_idx &lt;list&gt; | age_final_diff &lt;int&gt; |\n",
       "|---|---|---|---|---|---|---|---|---|---|---|---|\n",
       "| 1 | 1000035 | 0 | NA | NA | NA | 63 | NA | NA | NA | 2 | 63 |\n",
       "| 2 | 1000046 | 0 | NA | 0  | NA | 62 | NA | 73 | NA | 2, 4 | 73 |\n",
       "| 3 | 1000054 | 0 | NA | NA | NA | 65 | NA | NA | NA | 2 | 65 |\n",
       "| 4 | 1000063 | 0 | NA | NA | NA | 43 | NA | NA | NA | 2 | 43 |\n",
       "| 5 | 1000078 | 0 | 0  | 0  | NA | 52 | 57 | 60 | NA | 2, 3, 4 | 60 |\n",
       "| 6 | 1000081 | 0 | NA | NA | NA | 67 | NA | NA | NA | 2 | 67 |\n",
       "\n"
      ],
      "text/plain": [
       "  IID     f.2247.0.0_recode f.2247.1.0_recode f.2247.2.0_recode\n",
       "1 1000035 0                 NA                NA               \n",
       "2 1000046 0                 NA                0                \n",
       "3 1000054 0                 NA                NA               \n",
       "4 1000063 0                 NA                NA               \n",
       "5 1000078 0                 0                 0                \n",
       "6 1000081 0                 NA                NA               \n",
       "  f.2247.3.0_recode f.21003.0.0 f.21003.1.0 f.21003.2.0 f.21003.3.0 visit_idx\n",
       "1 NA                63          NA          NA          NA          2        \n",
       "2 NA                62          NA          73          NA          2, 4     \n",
       "3 NA                65          NA          NA          NA          2        \n",
       "4 NA                43          NA          NA          NA          2        \n",
       "5 NA                52          57          60          NA          2, 3, 4  \n",
       "6 NA                67          NA          NA          NA          2        \n",
       "  age_final_diff\n",
       "1 63            \n",
       "2 73            \n",
       "3 65            \n",
       "4 43            \n",
       "5 60            \n",
       "6 67            "
      ]
     },
     "metadata": {},
     "output_type": "display_data"
    },
    {
     "data": {
      "text/plain": [
       "   Min. 1st Qu.  Median    Mean 3rd Qu.    Max. \n",
       "  39.00   50.00   58.00   56.81   63.00   82.00 "
      ]
     },
     "metadata": {},
     "output_type": "display_data"
    }
   ],
   "source": [
    "# Get the # of column where last replied No:\n",
    "diff_age_control$visit_idx = apply(diff_age_control, 1, function(x) unlist(which(x == '0')))\n",
    "\n",
    "# Define offset:\n",
    "# offset: refers to the # of columns between the first age column (i.e.f.21003.0.0) and the first recode column (i.e.f.3393.0.0_recode)\n",
    "offset = which(colnames(diff_age_control) == 'f.21003.0.0') - which(colnames(diff_age_control) == 'f.2247.0.0_recode')\n",
    "\n",
    "# Define the function to extract the last time they said no for control\n",
    "\n",
    "f=get_age_func <- function(x) {\n",
    "  visit_index=x[which(colnames(diff_age_control)==\"visit_idx\")]\n",
    "  index=max(unlist(visit_index))+offset\n",
    "  age=x[index]\n",
    "  age=unlist(age)\n",
    "  return(age)\n",
    "}\n",
    "\n",
    "# Get the final age for controls\n",
    "diff_age_control$age_final_diff = apply(diff_age_control, 1, f)\n",
    "\n",
    "# Show first 6 rows\n",
    "head(diff_age_control)\n",
    "summary(diff_age_control$age_final_diff)"
   ]
  },
  {
   "cell_type": "code",
   "execution_count": 285,
   "metadata": {
    "kernel": "R"
   },
   "outputs": [
    {
     "data": {
      "text/html": [
       "<style>\n",
       ".list-inline {list-style: none; margin:0; padding: 0}\n",
       ".list-inline>li {display: inline-block}\n",
       ".list-inline>li:not(:last-child)::after {content: \"\\00b7\"; padding: 0 .5ex}\n",
       "</style>\n",
       "<ol class=list-inline><li>377101</li><li>11</li></ol>\n"
      ],
      "text/latex": [
       "\\begin{enumerate*}\n",
       "\\item 377101\n",
       "\\item 11\n",
       "\\end{enumerate*}\n"
      ],
      "text/markdown": [
       "1. 377101\n",
       "2. 11\n",
       "\n",
       "\n"
      ],
      "text/plain": [
       "[1] 377101     11"
      ]
     },
     "metadata": {},
     "output_type": "display_data"
    },
    {
     "data": {
      "text/html": [
       "<table>\n",
       "<caption>A data.frame: 6 × 11</caption>\n",
       "<thead>\n",
       "\t<tr><th></th><th scope=col>IID</th><th scope=col>f.2247.0.0_recode</th><th scope=col>f.2247.1.0_recode</th><th scope=col>f.2247.2.0_recode</th><th scope=col>f.2247.3.0_recode</th><th scope=col>f.21003.0.0</th><th scope=col>f.21003.1.0</th><th scope=col>f.21003.2.0</th><th scope=col>f.21003.3.0</th><th scope=col>visit_idx</th><th scope=col>age_final_diff</th></tr>\n",
       "\t<tr><th></th><th scope=col>&lt;int&gt;</th><th scope=col>&lt;fct&gt;</th><th scope=col>&lt;fct&gt;</th><th scope=col>&lt;fct&gt;</th><th scope=col>&lt;fct&gt;</th><th scope=col>&lt;int&gt;</th><th scope=col>&lt;int&gt;</th><th scope=col>&lt;int&gt;</th><th scope=col>&lt;int&gt;</th><th scope=col>&lt;list&gt;</th><th scope=col>&lt;int&gt;</th></tr>\n",
       "</thead>\n",
       "<tbody>\n",
       "\t<tr><th scope=row>1</th><td>1000019</td><td>1</td><td>NA</td><td>NA</td><td>NA</td><td>47</td><td>NA</td><td>NA</td><td>NA</td><td>2</td><td>47</td></tr>\n",
       "\t<tr><th scope=row>2</th><td>1000022</td><td>1</td><td>NA</td><td>NA</td><td>NA</td><td>53</td><td>NA</td><td>NA</td><td>NA</td><td>2</td><td>53</td></tr>\n",
       "\t<tr><th scope=row>3</th><td>1000090</td><td>1</td><td>NA</td><td>NA</td><td>NA</td><td>64</td><td>NA</td><td>NA</td><td>NA</td><td>2</td><td>64</td></tr>\n",
       "\t<tr><th scope=row>4</th><td>1000112</td><td>9</td><td>NA</td><td>1 </td><td>NA</td><td>58</td><td>NA</td><td>68</td><td>NA</td><td>4</td><td>68</td></tr>\n",
       "\t<tr><th scope=row>5</th><td>1000170</td><td>1</td><td>NA</td><td>NA</td><td>NA</td><td>51</td><td>NA</td><td>NA</td><td>NA</td><td>2</td><td>51</td></tr>\n",
       "\t<tr><th scope=row>6</th><td>1000198</td><td>1</td><td>NA</td><td>NA</td><td>NA</td><td>41</td><td>NA</td><td>NA</td><td>NA</td><td>2</td><td>41</td></tr>\n",
       "</tbody>\n",
       "</table>\n"
      ],
      "text/latex": [
       "A data.frame: 6 × 11\n",
       "\\begin{tabular}{r|lllllllllll}\n",
       "  & IID & f.2247.0.0\\_recode & f.2247.1.0\\_recode & f.2247.2.0\\_recode & f.2247.3.0\\_recode & f.21003.0.0 & f.21003.1.0 & f.21003.2.0 & f.21003.3.0 & visit\\_idx & age\\_final\\_diff\\\\\n",
       "  & <int> & <fct> & <fct> & <fct> & <fct> & <int> & <int> & <int> & <int> & <list> & <int>\\\\\n",
       "\\hline\n",
       "\t1 & 1000019 & 1 & NA & NA & NA & 47 & NA & NA & NA & 2 & 47\\\\\n",
       "\t2 & 1000022 & 1 & NA & NA & NA & 53 & NA & NA & NA & 2 & 53\\\\\n",
       "\t3 & 1000090 & 1 & NA & NA & NA & 64 & NA & NA & NA & 2 & 64\\\\\n",
       "\t4 & 1000112 & 9 & NA & 1  & NA & 58 & NA & 68 & NA & 4 & 68\\\\\n",
       "\t5 & 1000170 & 1 & NA & NA & NA & 51 & NA & NA & NA & 2 & 51\\\\\n",
       "\t6 & 1000198 & 1 & NA & NA & NA & 41 & NA & NA & NA & 2 & 41\\\\\n",
       "\\end{tabular}\n"
      ],
      "text/markdown": [
       "\n",
       "A data.frame: 6 × 11\n",
       "\n",
       "| <!--/--> | IID &lt;int&gt; | f.2247.0.0_recode &lt;fct&gt; | f.2247.1.0_recode &lt;fct&gt; | f.2247.2.0_recode &lt;fct&gt; | f.2247.3.0_recode &lt;fct&gt; | f.21003.0.0 &lt;int&gt; | f.21003.1.0 &lt;int&gt; | f.21003.2.0 &lt;int&gt; | f.21003.3.0 &lt;int&gt; | visit_idx &lt;list&gt; | age_final_diff &lt;int&gt; |\n",
       "|---|---|---|---|---|---|---|---|---|---|---|---|\n",
       "| 1 | 1000019 | 1 | NA | NA | NA | 47 | NA | NA | NA | 2 | 47 |\n",
       "| 2 | 1000022 | 1 | NA | NA | NA | 53 | NA | NA | NA | 2 | 53 |\n",
       "| 3 | 1000090 | 1 | NA | NA | NA | 64 | NA | NA | NA | 2 | 64 |\n",
       "| 4 | 1000112 | 9 | NA | 1  | NA | 58 | NA | 68 | NA | 4 | 68 |\n",
       "| 5 | 1000170 | 1 | NA | NA | NA | 51 | NA | NA | NA | 2 | 51 |\n",
       "| 6 | 1000198 | 1 | NA | NA | NA | 41 | NA | NA | NA | 2 | 41 |\n",
       "\n"
      ],
      "text/plain": [
       "  IID     f.2247.0.0_recode f.2247.1.0_recode f.2247.2.0_recode\n",
       "1 1000019 1                 NA                NA               \n",
       "2 1000022 1                 NA                NA               \n",
       "3 1000090 1                 NA                NA               \n",
       "4 1000112 9                 NA                1                \n",
       "5 1000170 1                 NA                NA               \n",
       "6 1000198 1                 NA                NA               \n",
       "  f.2247.3.0_recode f.21003.0.0 f.21003.1.0 f.21003.2.0 f.21003.3.0 visit_idx\n",
       "1 NA                47          NA          NA          NA          2        \n",
       "2 NA                53          NA          NA          NA          2        \n",
       "3 NA                64          NA          NA          NA          2        \n",
       "4 NA                58          NA          68          NA          4        \n",
       "5 NA                51          NA          NA          NA          2        \n",
       "6 NA                41          NA          NA          NA          2        \n",
       "  age_final_diff\n",
       "1 47            \n",
       "2 53            \n",
       "3 64            \n",
       "4 68            \n",
       "5 51            \n",
       "6 41            "
      ]
     },
     "metadata": {},
     "output_type": "display_data"
    }
   ],
   "source": [
    "# Merge age_cases and age_controls\n",
    "hearing_diff_age <- rbind(diff_age_cases, diff_age_control) \n",
    "dim(hearing_diff_age)\n",
    "head(hearing_diff_age)"
   ]
  },
  {
   "cell_type": "code",
   "execution_count": 286,
   "metadata": {
    "kernel": "R"
   },
   "outputs": [
    {
     "data": {
      "text/html": [
       "<table>\n",
       "<caption>A data.frame: 6 × 14</caption>\n",
       "<thead>\n",
       "\t<tr><th></th><th scope=col>IID</th><th scope=col>FID</th><th scope=col>f.22001.0.0</th><th scope=col>f.21003.0.0</th><th scope=col>f.21003.1.0</th><th scope=col>f.21003.2.0</th><th scope=col>f.21003.3.0</th><th scope=col>f.2247.0.0_recode</th><th scope=col>f.2247.1.0_recode</th><th scope=col>f.2247.2.0_recode</th><th scope=col>f.2247.3.0_recode</th><th scope=col>cases</th><th scope=col>hearing_diff_cat</th><th scope=col>age_final_diff</th></tr>\n",
       "\t<tr><th></th><th scope=col>&lt;int&gt;</th><th scope=col>&lt;int&gt;</th><th scope=col>&lt;fct&gt;</th><th scope=col>&lt;int&gt;</th><th scope=col>&lt;int&gt;</th><th scope=col>&lt;int&gt;</th><th scope=col>&lt;int&gt;</th><th scope=col>&lt;fct&gt;</th><th scope=col>&lt;fct&gt;</th><th scope=col>&lt;fct&gt;</th><th scope=col>&lt;fct&gt;</th><th scope=col>&lt;lgl&gt;</th><th scope=col>&lt;int&gt;</th><th scope=col>&lt;int&gt;</th></tr>\n",
       "</thead>\n",
       "<tbody>\n",
       "\t<tr><th scope=row>1</th><td>1000019</td><td>1000019</td><td>Female</td><td>47</td><td>NA</td><td>NA</td><td>NA</td><td>1</td><td>NA</td><td>NA</td><td>NA</td><td> TRUE</td><td>1</td><td>47</td></tr>\n",
       "\t<tr><th scope=row>2</th><td>1000022</td><td>1000022</td><td>Male  </td><td>53</td><td>NA</td><td>NA</td><td>NA</td><td>1</td><td>NA</td><td>NA</td><td>NA</td><td> TRUE</td><td>1</td><td>53</td></tr>\n",
       "\t<tr><th scope=row>3</th><td>1000035</td><td>1000035</td><td>Male  </td><td>63</td><td>NA</td><td>NA</td><td>NA</td><td>0</td><td>NA</td><td>NA</td><td>NA</td><td>FALSE</td><td>0</td><td>63</td></tr>\n",
       "\t<tr><th scope=row>4</th><td>1000046</td><td>1000046</td><td>Female</td><td>62</td><td>NA</td><td>73</td><td>NA</td><td>0</td><td>NA</td><td>0 </td><td>NA</td><td>FALSE</td><td>0</td><td>73</td></tr>\n",
       "\t<tr><th scope=row>5</th><td>1000054</td><td>1000054</td><td>Female</td><td>65</td><td>NA</td><td>NA</td><td>NA</td><td>0</td><td>NA</td><td>NA</td><td>NA</td><td>FALSE</td><td>0</td><td>65</td></tr>\n",
       "\t<tr><th scope=row>6</th><td>1000063</td><td>1000063</td><td>Male  </td><td>43</td><td>NA</td><td>NA</td><td>NA</td><td>0</td><td>NA</td><td>NA</td><td>NA</td><td>FALSE</td><td>0</td><td>43</td></tr>\n",
       "</tbody>\n",
       "</table>\n"
      ],
      "text/latex": [
       "A data.frame: 6 × 14\n",
       "\\begin{tabular}{r|llllllllllllll}\n",
       "  & IID & FID & f.22001.0.0 & f.21003.0.0 & f.21003.1.0 & f.21003.2.0 & f.21003.3.0 & f.2247.0.0\\_recode & f.2247.1.0\\_recode & f.2247.2.0\\_recode & f.2247.3.0\\_recode & cases & hearing\\_diff\\_cat & age\\_final\\_diff\\\\\n",
       "  & <int> & <int> & <fct> & <int> & <int> & <int> & <int> & <fct> & <fct> & <fct> & <fct> & <lgl> & <int> & <int>\\\\\n",
       "\\hline\n",
       "\t1 & 1000019 & 1000019 & Female & 47 & NA & NA & NA & 1 & NA & NA & NA &  TRUE & 1 & 47\\\\\n",
       "\t2 & 1000022 & 1000022 & Male   & 53 & NA & NA & NA & 1 & NA & NA & NA &  TRUE & 1 & 53\\\\\n",
       "\t3 & 1000035 & 1000035 & Male   & 63 & NA & NA & NA & 0 & NA & NA & NA & FALSE & 0 & 63\\\\\n",
       "\t4 & 1000046 & 1000046 & Female & 62 & NA & 73 & NA & 0 & NA & 0  & NA & FALSE & 0 & 73\\\\\n",
       "\t5 & 1000054 & 1000054 & Female & 65 & NA & NA & NA & 0 & NA & NA & NA & FALSE & 0 & 65\\\\\n",
       "\t6 & 1000063 & 1000063 & Male   & 43 & NA & NA & NA & 0 & NA & NA & NA & FALSE & 0 & 43\\\\\n",
       "\\end{tabular}\n"
      ],
      "text/markdown": [
       "\n",
       "A data.frame: 6 × 14\n",
       "\n",
       "| <!--/--> | IID &lt;int&gt; | FID &lt;int&gt; | f.22001.0.0 &lt;fct&gt; | f.21003.0.0 &lt;int&gt; | f.21003.1.0 &lt;int&gt; | f.21003.2.0 &lt;int&gt; | f.21003.3.0 &lt;int&gt; | f.2247.0.0_recode &lt;fct&gt; | f.2247.1.0_recode &lt;fct&gt; | f.2247.2.0_recode &lt;fct&gt; | f.2247.3.0_recode &lt;fct&gt; | cases &lt;lgl&gt; | hearing_diff_cat &lt;int&gt; | age_final_diff &lt;int&gt; |\n",
       "|---|---|---|---|---|---|---|---|---|---|---|---|---|---|---|\n",
       "| 1 | 1000019 | 1000019 | Female | 47 | NA | NA | NA | 1 | NA | NA | NA |  TRUE | 1 | 47 |\n",
       "| 2 | 1000022 | 1000022 | Male   | 53 | NA | NA | NA | 1 | NA | NA | NA |  TRUE | 1 | 53 |\n",
       "| 3 | 1000035 | 1000035 | Male   | 63 | NA | NA | NA | 0 | NA | NA | NA | FALSE | 0 | 63 |\n",
       "| 4 | 1000046 | 1000046 | Female | 62 | NA | 73 | NA | 0 | NA | 0  | NA | FALSE | 0 | 73 |\n",
       "| 5 | 1000054 | 1000054 | Female | 65 | NA | NA | NA | 0 | NA | NA | NA | FALSE | 0 | 65 |\n",
       "| 6 | 1000063 | 1000063 | Male   | 43 | NA | NA | NA | 0 | NA | NA | NA | FALSE | 0 | 43 |\n",
       "\n"
      ],
      "text/plain": [
       "  IID     FID     f.22001.0.0 f.21003.0.0 f.21003.1.0 f.21003.2.0 f.21003.3.0\n",
       "1 1000019 1000019 Female      47          NA          NA          NA         \n",
       "2 1000022 1000022 Male        53          NA          NA          NA         \n",
       "3 1000035 1000035 Male        63          NA          NA          NA         \n",
       "4 1000046 1000046 Female      62          NA          73          NA         \n",
       "5 1000054 1000054 Female      65          NA          NA          NA         \n",
       "6 1000063 1000063 Male        43          NA          NA          NA         \n",
       "  f.2247.0.0_recode f.2247.1.0_recode f.2247.2.0_recode f.2247.3.0_recode cases\n",
       "1 1                 NA                NA                NA                 TRUE\n",
       "2 1                 NA                NA                NA                 TRUE\n",
       "3 0                 NA                NA                NA                FALSE\n",
       "4 0                 NA                0                 NA                FALSE\n",
       "5 0                 NA                NA                NA                FALSE\n",
       "6 0                 NA                NA                NA                FALSE\n",
       "  hearing_diff_cat age_final_diff\n",
       "1 1                47            \n",
       "2 1                53            \n",
       "3 0                63            \n",
       "4 0                73            \n",
       "5 0                65            \n",
       "6 0                43            "
      ]
     },
     "metadata": {},
     "output_type": "display_data"
    },
    {
     "data": {
      "text/html": [
       "<style>\n",
       ".list-inline {list-style: none; margin:0; padding: 0}\n",
       ".list-inline>li {display: inline-block}\n",
       ".list-inline>li:not(:last-child)::after {content: \"\\00b7\"; padding: 0 .5ex}\n",
       "</style>\n",
       "<ol class=list-inline><li>377101</li><li>14</li></ol>\n"
      ],
      "text/latex": [
       "\\begin{enumerate*}\n",
       "\\item 377101\n",
       "\\item 14\n",
       "\\end{enumerate*}\n"
      ],
      "text/markdown": [
       "1. 377101\n",
       "2. 14\n",
       "\n",
       "\n"
      ],
      "text/plain": [
       "[1] 377101     14"
      ]
     },
     "metadata": {},
     "output_type": "display_data"
    }
   ],
   "source": [
    "hearing_diff_age = merge(x = hearing_diff ,y = hearing_diff_age [,c(\"IID\",\"age_final_diff\")],by=\"IID\", all.x=TRUE)\n",
    "head(hearing_diff_age)\n",
    "dim(hearing_diff_age)"
   ]
  },
  {
   "cell_type": "markdown",
   "metadata": {
    "kernel": "R"
   },
   "source": [
    "## Merge dataset from f.3393 and f.2247"
   ]
  },
  {
   "cell_type": "code",
   "execution_count": 287,
   "metadata": {
    "kernel": "R"
   },
   "outputs": [
    {
     "data": {
      "text/html": [
       "<style>\n",
       ".list-inline {list-style: none; margin:0; padding: 0}\n",
       ".list-inline>li {display: inline-block}\n",
       ".list-inline>li:not(:last-child)::after {content: \"\\00b7\"; padding: 0 .5ex}\n",
       "</style>\n",
       "<ol class=list-inline><li>396974</li><li>2279</li></ol>\n"
      ],
      "text/latex": [
       "\\begin{enumerate*}\n",
       "\\item 396974\n",
       "\\item 2279\n",
       "\\end{enumerate*}\n"
      ],
      "text/markdown": [
       "1. 396974\n",
       "2. 2279\n",
       "\n",
       "\n"
      ],
      "text/plain": [
       "[1] 396974   2279"
      ]
     },
     "metadata": {},
     "output_type": "display_data"
    },
    {
     "data": {
      "text/html": [
       "<table>\n",
       "<caption>A data.frame: 6 × 2279</caption>\n",
       "<thead>\n",
       "\t<tr><th></th><th scope=col>IID</th><th scope=col>FID</th><th scope=col>ignore1</th><th scope=col>ignore2</th><th scope=col>ignore3</th><th scope=col>ignore4</th><th scope=col>f.31.0.0</th><th scope=col>f.34.0.0</th><th scope=col>f.53.0.0</th><th scope=col>f.53.1.0</th><th scope=col>⋯</th><th scope=col>f.2247.2.0_recode</th><th scope=col>f.2247.3.0_recode</th><th scope=col>f.2257.0.0_recode</th><th scope=col>f.2257.1.0_recode</th><th scope=col>f.2257.2.0_recode</th><th scope=col>f.2257.3.0_recode</th><th scope=col>hearing_aid_cat</th><th scope=col>age_final_aid</th><th scope=col>hearing_diff_cat</th><th scope=col>age_final_diff</th></tr>\n",
       "\t<tr><th></th><th scope=col>&lt;int&gt;</th><th scope=col>&lt;int&gt;</th><th scope=col>&lt;int&gt;</th><th scope=col>&lt;int&gt;</th><th scope=col>&lt;int&gt;</th><th scope=col>&lt;int&gt;</th><th scope=col>&lt;fct&gt;</th><th scope=col>&lt;int&gt;</th><th scope=col>&lt;fct&gt;</th><th scope=col>&lt;fct&gt;</th><th scope=col>⋯</th><th scope=col>&lt;fct&gt;</th><th scope=col>&lt;fct&gt;</th><th scope=col>&lt;fct&gt;</th><th scope=col>&lt;fct&gt;</th><th scope=col>&lt;fct&gt;</th><th scope=col>&lt;fct&gt;</th><th scope=col>&lt;int&gt;</th><th scope=col>&lt;int&gt;</th><th scope=col>&lt;int&gt;</th><th scope=col>&lt;int&gt;</th></tr>\n",
       "</thead>\n",
       "<tbody>\n",
       "\t<tr><th scope=row>1</th><td>1000019</td><td>1000019</td><td>0</td><td>0</td><td>2</td><td>-9</td><td>Female</td><td>1960</td><td>2008-01-24</td><td>NA</td><td>⋯</td><td>NA</td><td>NA</td><td>1</td><td>NA</td><td>NA</td><td>NA</td><td>0</td><td>47</td><td>1</td><td>47</td></tr>\n",
       "\t<tr><th scope=row>2</th><td>1000022</td><td>1000022</td><td>0</td><td>0</td><td>1</td><td>-9</td><td>Male  </td><td>1954</td><td>2008-01-22</td><td>NA</td><td>⋯</td><td>NA</td><td>NA</td><td>1</td><td>NA</td><td>NA</td><td>NA</td><td>0</td><td>53</td><td>1</td><td>53</td></tr>\n",
       "\t<tr><th scope=row>3</th><td>1000035</td><td>1000035</td><td>0</td><td>0</td><td>1</td><td>-9</td><td>Male  </td><td>1944</td><td>2007-11-08</td><td>NA</td><td>⋯</td><td>NA</td><td>NA</td><td>1</td><td>NA</td><td>NA</td><td>NA</td><td>0</td><td>63</td><td>0</td><td>63</td></tr>\n",
       "\t<tr><th scope=row>4</th><td>1000046</td><td>1000046</td><td>0</td><td>0</td><td>2</td><td>-9</td><td>Female</td><td>1946</td><td>2008-12-01</td><td>NA</td><td>⋯</td><td>0 </td><td>NA</td><td>0</td><td>NA</td><td>1 </td><td>NA</td><td>0</td><td>73</td><td>0</td><td>73</td></tr>\n",
       "\t<tr><th scope=row>5</th><td>1000054</td><td>1000054</td><td>0</td><td>0</td><td>2</td><td>-9</td><td>Female</td><td>1942</td><td>2007-11-23</td><td>NA</td><td>⋯</td><td>NA</td><td>NA</td><td>1</td><td>NA</td><td>NA</td><td>NA</td><td>0</td><td>65</td><td>0</td><td>65</td></tr>\n",
       "\t<tr><th scope=row>6</th><td>1000063</td><td>1000063</td><td>0</td><td>0</td><td>1</td><td>-9</td><td>Male  </td><td>1967</td><td>2010-06-26</td><td>NA</td><td>⋯</td><td>NA</td><td>NA</td><td>0</td><td>NA</td><td>NA</td><td>NA</td><td>0</td><td>43</td><td>0</td><td>43</td></tr>\n",
       "</tbody>\n",
       "</table>\n"
      ],
      "text/latex": [
       "A data.frame: 6 × 2279\n",
       "\\begin{tabular}{r|lllllllllllllllllllll}\n",
       "  & IID & FID & ignore1 & ignore2 & ignore3 & ignore4 & f.31.0.0 & f.34.0.0 & f.53.0.0 & f.53.1.0 & ⋯ & f.2247.2.0\\_recode & f.2247.3.0\\_recode & f.2257.0.0\\_recode & f.2257.1.0\\_recode & f.2257.2.0\\_recode & f.2257.3.0\\_recode & hearing\\_aid\\_cat & age\\_final\\_aid & hearing\\_diff\\_cat & age\\_final\\_diff\\\\\n",
       "  & <int> & <int> & <int> & <int> & <int> & <int> & <fct> & <int> & <fct> & <fct> & ⋯ & <fct> & <fct> & <fct> & <fct> & <fct> & <fct> & <int> & <int> & <int> & <int>\\\\\n",
       "\\hline\n",
       "\t1 & 1000019 & 1000019 & 0 & 0 & 2 & -9 & Female & 1960 & 2008-01-24 & NA & ⋯ & NA & NA & 1 & NA & NA & NA & 0 & 47 & 1 & 47\\\\\n",
       "\t2 & 1000022 & 1000022 & 0 & 0 & 1 & -9 & Male   & 1954 & 2008-01-22 & NA & ⋯ & NA & NA & 1 & NA & NA & NA & 0 & 53 & 1 & 53\\\\\n",
       "\t3 & 1000035 & 1000035 & 0 & 0 & 1 & -9 & Male   & 1944 & 2007-11-08 & NA & ⋯ & NA & NA & 1 & NA & NA & NA & 0 & 63 & 0 & 63\\\\\n",
       "\t4 & 1000046 & 1000046 & 0 & 0 & 2 & -9 & Female & 1946 & 2008-12-01 & NA & ⋯ & 0  & NA & 0 & NA & 1  & NA & 0 & 73 & 0 & 73\\\\\n",
       "\t5 & 1000054 & 1000054 & 0 & 0 & 2 & -9 & Female & 1942 & 2007-11-23 & NA & ⋯ & NA & NA & 1 & NA & NA & NA & 0 & 65 & 0 & 65\\\\\n",
       "\t6 & 1000063 & 1000063 & 0 & 0 & 1 & -9 & Male   & 1967 & 2010-06-26 & NA & ⋯ & NA & NA & 0 & NA & NA & NA & 0 & 43 & 0 & 43\\\\\n",
       "\\end{tabular}\n"
      ],
      "text/markdown": [
       "\n",
       "A data.frame: 6 × 2279\n",
       "\n",
       "| <!--/--> | IID &lt;int&gt; | FID &lt;int&gt; | ignore1 &lt;int&gt; | ignore2 &lt;int&gt; | ignore3 &lt;int&gt; | ignore4 &lt;int&gt; | f.31.0.0 &lt;fct&gt; | f.34.0.0 &lt;int&gt; | f.53.0.0 &lt;fct&gt; | f.53.1.0 &lt;fct&gt; | ⋯ ⋯ | f.2247.2.0_recode &lt;fct&gt; | f.2247.3.0_recode &lt;fct&gt; | f.2257.0.0_recode &lt;fct&gt; | f.2257.1.0_recode &lt;fct&gt; | f.2257.2.0_recode &lt;fct&gt; | f.2257.3.0_recode &lt;fct&gt; | hearing_aid_cat &lt;int&gt; | age_final_aid &lt;int&gt; | hearing_diff_cat &lt;int&gt; | age_final_diff &lt;int&gt; |\n",
       "|---|---|---|---|---|---|---|---|---|---|---|---|---|---|---|---|---|---|---|---|---|---|\n",
       "| 1 | 1000019 | 1000019 | 0 | 0 | 2 | -9 | Female | 1960 | 2008-01-24 | NA | ⋯ | NA | NA | 1 | NA | NA | NA | 0 | 47 | 1 | 47 |\n",
       "| 2 | 1000022 | 1000022 | 0 | 0 | 1 | -9 | Male   | 1954 | 2008-01-22 | NA | ⋯ | NA | NA | 1 | NA | NA | NA | 0 | 53 | 1 | 53 |\n",
       "| 3 | 1000035 | 1000035 | 0 | 0 | 1 | -9 | Male   | 1944 | 2007-11-08 | NA | ⋯ | NA | NA | 1 | NA | NA | NA | 0 | 63 | 0 | 63 |\n",
       "| 4 | 1000046 | 1000046 | 0 | 0 | 2 | -9 | Female | 1946 | 2008-12-01 | NA | ⋯ | 0  | NA | 0 | NA | 1  | NA | 0 | 73 | 0 | 73 |\n",
       "| 5 | 1000054 | 1000054 | 0 | 0 | 2 | -9 | Female | 1942 | 2007-11-23 | NA | ⋯ | NA | NA | 1 | NA | NA | NA | 0 | 65 | 0 | 65 |\n",
       "| 6 | 1000063 | 1000063 | 0 | 0 | 1 | -9 | Male   | 1967 | 2010-06-26 | NA | ⋯ | NA | NA | 0 | NA | NA | NA | 0 | 43 | 0 | 43 |\n",
       "\n"
      ],
      "text/plain": [
       "  IID     FID     ignore1 ignore2 ignore3 ignore4 f.31.0.0 f.34.0.0 f.53.0.0  \n",
       "1 1000019 1000019 0       0       2       -9      Female   1960     2008-01-24\n",
       "2 1000022 1000022 0       0       1       -9      Male     1954     2008-01-22\n",
       "3 1000035 1000035 0       0       1       -9      Male     1944     2007-11-08\n",
       "4 1000046 1000046 0       0       2       -9      Female   1946     2008-12-01\n",
       "5 1000054 1000054 0       0       2       -9      Female   1942     2007-11-23\n",
       "6 1000063 1000063 0       0       1       -9      Male     1967     2010-06-26\n",
       "  f.53.1.0 ⋯ f.2247.2.0_recode f.2247.3.0_recode f.2257.0.0_recode\n",
       "1 NA       ⋯ NA                NA                1                \n",
       "2 NA       ⋯ NA                NA                1                \n",
       "3 NA       ⋯ NA                NA                1                \n",
       "4 NA       ⋯ 0                 NA                0                \n",
       "5 NA       ⋯ NA                NA                1                \n",
       "6 NA       ⋯ NA                NA                0                \n",
       "  f.2257.1.0_recode f.2257.2.0_recode f.2257.3.0_recode hearing_aid_cat\n",
       "1 NA                NA                NA                0              \n",
       "2 NA                NA                NA                0              \n",
       "3 NA                NA                NA                0              \n",
       "4 NA                1                 NA                0              \n",
       "5 NA                NA                NA                0              \n",
       "6 NA                NA                NA                0              \n",
       "  age_final_aid hearing_diff_cat age_final_diff\n",
       "1 47            1                47            \n",
       "2 53            1                53            \n",
       "3 63            0                63            \n",
       "4 73            0                73            \n",
       "5 65            0                65            \n",
       "6 43            0                43            "
      ]
     },
     "metadata": {},
     "output_type": "display_data"
    }
   ],
   "source": [
    "#Merge with complete database keep the all the rows from original db\n",
    "df_3393_2247 = merge(x = df_3393, y = hearing_diff_age [,c(\"IID\",\"hearing_diff_cat\",\"age_final_diff\")],by=\"IID\", all.x=TRUE)\n",
    "dim(df_3393_2247)\n",
    "head(df_3393_2247)"
   ]
  },
  {
   "cell_type": "markdown",
   "metadata": {
    "kernel": "R"
   },
   "source": [
    "## Reclassify individuals wearing hearing aid f.3393 but saying they don't have hearing difficulty f.2247"
   ]
  },
  {
   "cell_type": "code",
   "execution_count": 290,
   "metadata": {
    "kernel": "R"
   },
   "outputs": [],
   "source": [
    "#reclassify these 85 individulas as cases for 2247\n",
    "df_3393_2247$hearing_diff_cat_new <- as.factor(df_3393_2247$hearing_diff_cat)\n",
    "df_3393_2247$hearing_diff_cat_new <- revalue(df_3393_2247$hearing_diff_cat_new, c('0' = \"control\", '1' = 'case' ))\n",
    "df_3393_2247$hearing_aid_cat_new <- as.factor(df_3393_2247$hearing_aid_cat)\n",
    "df_3393_2247$hearing_aid_cat_new <- revalue(df_3393_2247$hearing_aid_cat_new, c('0' = \"control\", '1' = 'case' ))\n",
    "#hearing_diff_new <- df_3393_2247 %>% \n",
    " # mutate(hearing_diff_cat_new =ifelse(IID%in%inconsistent_aid_diff,1,hearing_diff_cat_new))\n",
    "#head(hearing_diff_new)"
   ]
  },
  {
   "cell_type": "code",
   "execution_count": 291,
   "metadata": {
    "kernel": "R"
   },
   "outputs": [
    {
     "data": {
      "text/html": [
       "337129"
      ],
      "text/latex": [
       "337129"
      ],
      "text/markdown": [
       "337129"
      ],
      "text/plain": [
       "[1] 337129"
      ]
     },
     "metadata": {},
     "output_type": "display_data"
    }
   ],
   "source": [
    "246072 + 91057 # number of controls and cases"
   ]
  },
  {
   "cell_type": "code",
   "execution_count": 292,
   "metadata": {
    "kernel": "R"
   },
   "outputs": [
    {
     "data": {
      "text/html": [
       "112"
      ],
      "text/latex": [
       "112"
      ],
      "text/markdown": [
       "112"
      ],
      "text/plain": [
       "[1] 112"
      ]
     },
     "metadata": {},
     "output_type": "display_data"
    }
   ],
   "source": [
    "length(which(df_3393_2247$hearing_diff_cat_new == 'control' & df_3393_2247$hearing_aid_cat_new == 'case'))"
   ]
  },
  {
   "cell_type": "code",
   "execution_count": 293,
   "metadata": {
    "kernel": "R"
   },
   "outputs": [
    {
     "data": {
      "text/html": [
       "112"
      ],
      "text/latex": [
       "112"
      ],
      "text/markdown": [
       "112"
      ],
      "text/plain": [
       "[1] 112"
      ]
     },
     "metadata": {},
     "output_type": "display_data"
    },
    {
     "data": {
      "text/html": [
       "<table>\n",
       "<caption>A data.frame: 6 × 1</caption>\n",
       "<thead>\n",
       "\t<tr><th></th><th scope=col>IID</th></tr>\n",
       "\t<tr><th></th><th scope=col>&lt;int&gt;</th></tr>\n",
       "</thead>\n",
       "<tbody>\n",
       "\t<tr><th scope=row>1</th><td>1011166</td></tr>\n",
       "\t<tr><th scope=row>2</th><td>1085722</td></tr>\n",
       "\t<tr><th scope=row>3</th><td>1156617</td></tr>\n",
       "\t<tr><th scope=row>4</th><td>1178338</td></tr>\n",
       "\t<tr><th scope=row>5</th><td>1200917</td></tr>\n",
       "\t<tr><th scope=row>6</th><td>1210033</td></tr>\n",
       "</tbody>\n",
       "</table>\n"
      ],
      "text/latex": [
       "A data.frame: 6 × 1\n",
       "\\begin{tabular}{r|l}\n",
       "  & IID\\\\\n",
       "  & <int>\\\\\n",
       "\\hline\n",
       "\t1 & 1011166\\\\\n",
       "\t2 & 1085722\\\\\n",
       "\t3 & 1156617\\\\\n",
       "\t4 & 1178338\\\\\n",
       "\t5 & 1200917\\\\\n",
       "\t6 & 1210033\\\\\n",
       "\\end{tabular}\n"
      ],
      "text/markdown": [
       "\n",
       "A data.frame: 6 × 1\n",
       "\n",
       "| <!--/--> | IID &lt;int&gt; |\n",
       "|---|---|\n",
       "| 1 | 1011166 |\n",
       "| 2 | 1085722 |\n",
       "| 3 | 1156617 |\n",
       "| 4 | 1178338 |\n",
       "| 5 | 1200917 |\n",
       "| 6 | 1210033 |\n",
       "\n"
      ],
      "text/plain": [
       "  IID    \n",
       "1 1011166\n",
       "2 1085722\n",
       "3 1156617\n",
       "4 1178338\n",
       "5 1200917\n",
       "6 1210033"
      ]
     },
     "metadata": {},
     "output_type": "display_data"
    }
   ],
   "source": [
    "#85 individuals state they have no hearing difficulty but they wear hearing aids\n",
    "inconsistent_aid_diff <- df_3393_2247 %>%\n",
    "    filter(hearing_diff_cat_new == 'control' & hearing_aid_cat_new == 'case') %>%\n",
    "    select(IID)\n",
    "nrow(inconsistent_aid_diff)\n",
    "head(inconsistent_aid_diff)"
   ]
  },
  {
   "cell_type": "code",
   "execution_count": 294,
   "metadata": {
    "kernel": "R"
   },
   "outputs": [
    {
     "name": "stdout",
     "output_type": "stream",
     "text": [
      "There are 112 individuals that state having no hearing difficulty but wear hearing aid"
     ]
    }
   ],
   "source": [
    "inconsistent_aid_diff<-unlist(inconsistent_aid_diff[,1])\n",
    "cat(\"There are\",length(inconsistent_aid_diff),\"individuals that state having no hearing difficulty but wear hearing aid\")"
   ]
  },
  {
   "cell_type": "code",
   "execution_count": 295,
   "metadata": {
    "kernel": "R"
   },
   "outputs": [],
   "source": [
    "df_3393_2247$hearing_diff_new <- df_3393_2247$hearing_diff_cat_new\n",
    "df_3393_2247$hearing_diff_new[df_3393_2247$IID %in% inconsistent_aid_diff] <- \"case\""
   ]
  },
  {
   "cell_type": "code",
   "execution_count": 296,
   "metadata": {
    "kernel": "R"
   },
   "outputs": [
    {
     "data": {
      "text/html": [
       "<table>\n",
       "<caption>A data.frame: 6 × 3</caption>\n",
       "<thead>\n",
       "\t<tr><th></th><th scope=col>hearing_diff_cat_new</th><th scope=col>hearing_aid_cat_new</th><th scope=col>hearing_diff_new</th></tr>\n",
       "\t<tr><th></th><th scope=col>&lt;fct&gt;</th><th scope=col>&lt;fct&gt;</th><th scope=col>&lt;fct&gt;</th></tr>\n",
       "</thead>\n",
       "<tbody>\n",
       "\t<tr><th scope=row>1</th><td>case</td><td>control</td><td>case</td></tr>\n",
       "\t<tr><th scope=row>2</th><td>case</td><td>control</td><td>case</td></tr>\n",
       "\t<tr><th scope=row>3</th><td>case</td><td>control</td><td>case</td></tr>\n",
       "\t<tr><th scope=row>4</th><td>case</td><td>case   </td><td>case</td></tr>\n",
       "\t<tr><th scope=row>5</th><td>case</td><td>control</td><td>case</td></tr>\n",
       "\t<tr><th scope=row>6</th><td>case</td><td>control</td><td>case</td></tr>\n",
       "</tbody>\n",
       "</table>\n"
      ],
      "text/latex": [
       "A data.frame: 6 × 3\n",
       "\\begin{tabular}{r|lll}\n",
       "  & hearing\\_diff\\_cat\\_new & hearing\\_aid\\_cat\\_new & hearing\\_diff\\_new\\\\\n",
       "  & <fct> & <fct> & <fct>\\\\\n",
       "\\hline\n",
       "\t1 & case & control & case\\\\\n",
       "\t2 & case & control & case\\\\\n",
       "\t3 & case & control & case\\\\\n",
       "\t4 & case & case    & case\\\\\n",
       "\t5 & case & control & case\\\\\n",
       "\t6 & case & control & case\\\\\n",
       "\\end{tabular}\n"
      ],
      "text/markdown": [
       "\n",
       "A data.frame: 6 × 3\n",
       "\n",
       "| <!--/--> | hearing_diff_cat_new &lt;fct&gt; | hearing_aid_cat_new &lt;fct&gt; | hearing_diff_new &lt;fct&gt; |\n",
       "|---|---|---|---|\n",
       "| 1 | case | control | case |\n",
       "| 2 | case | control | case |\n",
       "| 3 | case | control | case |\n",
       "| 4 | case | case    | case |\n",
       "| 5 | case | control | case |\n",
       "| 6 | case | control | case |\n",
       "\n"
      ],
      "text/plain": [
       "  hearing_diff_cat_new hearing_aid_cat_new hearing_diff_new\n",
       "1 case                 control             case            \n",
       "2 case                 control             case            \n",
       "3 case                 control             case            \n",
       "4 case                 case                case            \n",
       "5 case                 control             case            \n",
       "6 case                 control             case            "
      ]
     },
     "metadata": {},
     "output_type": "display_data"
    },
    {
     "data": {
      "text/html": [
       "101419"
      ],
      "text/latex": [
       "101419"
      ],
      "text/markdown": [
       "101419"
      ],
      "text/plain": [
       "[1] 101419"
      ]
     },
     "metadata": {},
     "output_type": "display_data"
    }
   ],
   "source": [
    "#91057 individuals plus 85 that wear hearing aid = 91142\n",
    "check_merge <- df_3393_2247 %>% \n",
    "  select(hearing_diff_cat_new, hearing_aid_cat_new, hearing_diff_new) %>%\n",
    "  filter(hearing_diff_new == \"case\")\n",
    "head(check_merge)\n",
    "nrow(check_merge)"
   ]
  },
  {
   "cell_type": "markdown",
   "metadata": {
    "kernel": "R"
   },
   "source": [
    "## f.2247 Verify the age for the new 85 cases"
   ]
  },
  {
   "cell_type": "code",
   "execution_count": 297,
   "metadata": {
    "kernel": "R",
    "scrolled": true
   },
   "outputs": [
    {
     "data": {
      "text/html": [
       "<table>\n",
       "<caption>A data.frame: 100 × 3</caption>\n",
       "<thead>\n",
       "\t<tr><th></th><th scope=col>IID</th><th scope=col>age_final_aid</th><th scope=col>age_final_diff</th></tr>\n",
       "\t<tr><th></th><th scope=col>&lt;int&gt;</th><th scope=col>&lt;int&gt;</th><th scope=col>&lt;int&gt;</th></tr>\n",
       "</thead>\n",
       "<tbody>\n",
       "\t<tr><th scope=row>1</th><td>1011166</td><td>52</td><td>52</td></tr>\n",
       "\t<tr><th scope=row>2</th><td>1085722</td><td>43</td><td>43</td></tr>\n",
       "\t<tr><th scope=row>3</th><td>1156617</td><td>65</td><td>65</td></tr>\n",
       "\t<tr><th scope=row>4</th><td>1178338</td><td>40</td><td>40</td></tr>\n",
       "\t<tr><th scope=row>5</th><td>1200917</td><td>70</td><td>70</td></tr>\n",
       "\t<tr><th scope=row>6</th><td>1210033</td><td>60</td><td>60</td></tr>\n",
       "\t<tr><th scope=row>7</th><td>1272322</td><td>45</td><td>45</td></tr>\n",
       "\t<tr><th scope=row>8</th><td>1362299</td><td>45</td><td>45</td></tr>\n",
       "\t<tr><th scope=row>9</th><td>1452961</td><td>69</td><td>69</td></tr>\n",
       "\t<tr><th scope=row>10</th><td>1517018</td><td>62</td><td>62</td></tr>\n",
       "\t<tr><th scope=row>11</th><td>1541460</td><td>66</td><td>66</td></tr>\n",
       "\t<tr><th scope=row>12</th><td>1546451</td><td>57</td><td>57</td></tr>\n",
       "\t<tr><th scope=row>13</th><td>1687884</td><td>56</td><td>56</td></tr>\n",
       "\t<tr><th scope=row>14</th><td>1751226</td><td>59</td><td>59</td></tr>\n",
       "\t<tr><th scope=row>15</th><td>1817231</td><td>49</td><td>49</td></tr>\n",
       "\t<tr><th scope=row>16</th><td>1841967</td><td>64</td><td>64</td></tr>\n",
       "\t<tr><th scope=row>17</th><td>1851266</td><td>65</td><td>65</td></tr>\n",
       "\t<tr><th scope=row>18</th><td>1876770</td><td>64</td><td>64</td></tr>\n",
       "\t<tr><th scope=row>19</th><td>1999389</td><td>65</td><td>65</td></tr>\n",
       "\t<tr><th scope=row>20</th><td>2005924</td><td>67</td><td>67</td></tr>\n",
       "\t<tr><th scope=row>21</th><td>2061120</td><td>60</td><td>60</td></tr>\n",
       "\t<tr><th scope=row>22</th><td>2067396</td><td>65</td><td>65</td></tr>\n",
       "\t<tr><th scope=row>23</th><td>2077317</td><td>42</td><td>42</td></tr>\n",
       "\t<tr><th scope=row>24</th><td>2204236</td><td>70</td><td>70</td></tr>\n",
       "\t<tr><th scope=row>25</th><td>2209847</td><td>53</td><td>53</td></tr>\n",
       "\t<tr><th scope=row>26</th><td>2237586</td><td>44</td><td>44</td></tr>\n",
       "\t<tr><th scope=row>27</th><td>2266108</td><td>47</td><td>47</td></tr>\n",
       "\t<tr><th scope=row>28</th><td>2402383</td><td>65</td><td>65</td></tr>\n",
       "\t<tr><th scope=row>29</th><td>2430352</td><td>52</td><td>52</td></tr>\n",
       "\t<tr><th scope=row>30</th><td>2486182</td><td>59</td><td>59</td></tr>\n",
       "\t<tr><th scope=row>⋮</th><td>⋮</td><td>⋮</td><td>⋮</td></tr>\n",
       "\t<tr><th scope=row>71</th><td>4305817</td><td>40</td><td>40</td></tr>\n",
       "\t<tr><th scope=row>72</th><td>4373603</td><td>70</td><td>70</td></tr>\n",
       "\t<tr><th scope=row>73</th><td>4385850</td><td>72</td><td>72</td></tr>\n",
       "\t<tr><th scope=row>74</th><td>4403852</td><td>59</td><td>59</td></tr>\n",
       "\t<tr><th scope=row>75</th><td>4623253</td><td>67</td><td>67</td></tr>\n",
       "\t<tr><th scope=row>76</th><td>4631605</td><td>51</td><td>51</td></tr>\n",
       "\t<tr><th scope=row>77</th><td>4767644</td><td>62</td><td>62</td></tr>\n",
       "\t<tr><th scope=row>78</th><td>4851413</td><td>54</td><td>54</td></tr>\n",
       "\t<tr><th scope=row>79</th><td>4874894</td><td>48</td><td>48</td></tr>\n",
       "\t<tr><th scope=row>80</th><td>4887642</td><td>66</td><td>66</td></tr>\n",
       "\t<tr><th scope=row>81</th><td>4899701</td><td>73</td><td>73</td></tr>\n",
       "\t<tr><th scope=row>82</th><td>4919340</td><td>43</td><td>43</td></tr>\n",
       "\t<tr><th scope=row>83</th><td>4974826</td><td>47</td><td>47</td></tr>\n",
       "\t<tr><th scope=row>84</th><td>4993548</td><td>69</td><td>69</td></tr>\n",
       "\t<tr><th scope=row>85</th><td>5007903</td><td>42</td><td>42</td></tr>\n",
       "\t<tr><th scope=row>86</th><td>5036766</td><td>62</td><td>62</td></tr>\n",
       "\t<tr><th scope=row>87</th><td>5041786</td><td>44</td><td>44</td></tr>\n",
       "\t<tr><th scope=row>88</th><td>5132988</td><td>68</td><td>68</td></tr>\n",
       "\t<tr><th scope=row>89</th><td>5163852</td><td>61</td><td>61</td></tr>\n",
       "\t<tr><th scope=row>90</th><td>5178492</td><td>47</td><td>47</td></tr>\n",
       "\t<tr><th scope=row>91</th><td>5228364</td><td>51</td><td>51</td></tr>\n",
       "\t<tr><th scope=row>92</th><td>5239604</td><td>48</td><td>48</td></tr>\n",
       "\t<tr><th scope=row>93</th><td>5245764</td><td>68</td><td>68</td></tr>\n",
       "\t<tr><th scope=row>94</th><td>5270720</td><td>66</td><td>66</td></tr>\n",
       "\t<tr><th scope=row>95</th><td>5292807</td><td>49</td><td>49</td></tr>\n",
       "\t<tr><th scope=row>96</th><td>5324224</td><td>70</td><td>70</td></tr>\n",
       "\t<tr><th scope=row>97</th><td>5337673</td><td>48</td><td>48</td></tr>\n",
       "\t<tr><th scope=row>98</th><td>5348247</td><td>53</td><td>53</td></tr>\n",
       "\t<tr><th scope=row>99</th><td>5376281</td><td>69</td><td>69</td></tr>\n",
       "\t<tr><th scope=row>100</th><td>5472409</td><td>44</td><td>44</td></tr>\n",
       "</tbody>\n",
       "</table>\n"
      ],
      "text/latex": [
       "A data.frame: 100 × 3\n",
       "\\begin{tabular}{r|lll}\n",
       "  & IID & age\\_final\\_aid & age\\_final\\_diff\\\\\n",
       "  & <int> & <int> & <int>\\\\\n",
       "\\hline\n",
       "\t1 & 1011166 & 52 & 52\\\\\n",
       "\t2 & 1085722 & 43 & 43\\\\\n",
       "\t3 & 1156617 & 65 & 65\\\\\n",
       "\t4 & 1178338 & 40 & 40\\\\\n",
       "\t5 & 1200917 & 70 & 70\\\\\n",
       "\t6 & 1210033 & 60 & 60\\\\\n",
       "\t7 & 1272322 & 45 & 45\\\\\n",
       "\t8 & 1362299 & 45 & 45\\\\\n",
       "\t9 & 1452961 & 69 & 69\\\\\n",
       "\t10 & 1517018 & 62 & 62\\\\\n",
       "\t11 & 1541460 & 66 & 66\\\\\n",
       "\t12 & 1546451 & 57 & 57\\\\\n",
       "\t13 & 1687884 & 56 & 56\\\\\n",
       "\t14 & 1751226 & 59 & 59\\\\\n",
       "\t15 & 1817231 & 49 & 49\\\\\n",
       "\t16 & 1841967 & 64 & 64\\\\\n",
       "\t17 & 1851266 & 65 & 65\\\\\n",
       "\t18 & 1876770 & 64 & 64\\\\\n",
       "\t19 & 1999389 & 65 & 65\\\\\n",
       "\t20 & 2005924 & 67 & 67\\\\\n",
       "\t21 & 2061120 & 60 & 60\\\\\n",
       "\t22 & 2067396 & 65 & 65\\\\\n",
       "\t23 & 2077317 & 42 & 42\\\\\n",
       "\t24 & 2204236 & 70 & 70\\\\\n",
       "\t25 & 2209847 & 53 & 53\\\\\n",
       "\t26 & 2237586 & 44 & 44\\\\\n",
       "\t27 & 2266108 & 47 & 47\\\\\n",
       "\t28 & 2402383 & 65 & 65\\\\\n",
       "\t29 & 2430352 & 52 & 52\\\\\n",
       "\t30 & 2486182 & 59 & 59\\\\\n",
       "\t⋮ & ⋮ & ⋮ & ⋮\\\\\n",
       "\t71 & 4305817 & 40 & 40\\\\\n",
       "\t72 & 4373603 & 70 & 70\\\\\n",
       "\t73 & 4385850 & 72 & 72\\\\\n",
       "\t74 & 4403852 & 59 & 59\\\\\n",
       "\t75 & 4623253 & 67 & 67\\\\\n",
       "\t76 & 4631605 & 51 & 51\\\\\n",
       "\t77 & 4767644 & 62 & 62\\\\\n",
       "\t78 & 4851413 & 54 & 54\\\\\n",
       "\t79 & 4874894 & 48 & 48\\\\\n",
       "\t80 & 4887642 & 66 & 66\\\\\n",
       "\t81 & 4899701 & 73 & 73\\\\\n",
       "\t82 & 4919340 & 43 & 43\\\\\n",
       "\t83 & 4974826 & 47 & 47\\\\\n",
       "\t84 & 4993548 & 69 & 69\\\\\n",
       "\t85 & 5007903 & 42 & 42\\\\\n",
       "\t86 & 5036766 & 62 & 62\\\\\n",
       "\t87 & 5041786 & 44 & 44\\\\\n",
       "\t88 & 5132988 & 68 & 68\\\\\n",
       "\t89 & 5163852 & 61 & 61\\\\\n",
       "\t90 & 5178492 & 47 & 47\\\\\n",
       "\t91 & 5228364 & 51 & 51\\\\\n",
       "\t92 & 5239604 & 48 & 48\\\\\n",
       "\t93 & 5245764 & 68 & 68\\\\\n",
       "\t94 & 5270720 & 66 & 66\\\\\n",
       "\t95 & 5292807 & 49 & 49\\\\\n",
       "\t96 & 5324224 & 70 & 70\\\\\n",
       "\t97 & 5337673 & 48 & 48\\\\\n",
       "\t98 & 5348247 & 53 & 53\\\\\n",
       "\t99 & 5376281 & 69 & 69\\\\\n",
       "\t100 & 5472409 & 44 & 44\\\\\n",
       "\\end{tabular}\n"
      ],
      "text/markdown": [
       "\n",
       "A data.frame: 100 × 3\n",
       "\n",
       "| <!--/--> | IID &lt;int&gt; | age_final_aid &lt;int&gt; | age_final_diff &lt;int&gt; |\n",
       "|---|---|---|---|\n",
       "| 1 | 1011166 | 52 | 52 |\n",
       "| 2 | 1085722 | 43 | 43 |\n",
       "| 3 | 1156617 | 65 | 65 |\n",
       "| 4 | 1178338 | 40 | 40 |\n",
       "| 5 | 1200917 | 70 | 70 |\n",
       "| 6 | 1210033 | 60 | 60 |\n",
       "| 7 | 1272322 | 45 | 45 |\n",
       "| 8 | 1362299 | 45 | 45 |\n",
       "| 9 | 1452961 | 69 | 69 |\n",
       "| 10 | 1517018 | 62 | 62 |\n",
       "| 11 | 1541460 | 66 | 66 |\n",
       "| 12 | 1546451 | 57 | 57 |\n",
       "| 13 | 1687884 | 56 | 56 |\n",
       "| 14 | 1751226 | 59 | 59 |\n",
       "| 15 | 1817231 | 49 | 49 |\n",
       "| 16 | 1841967 | 64 | 64 |\n",
       "| 17 | 1851266 | 65 | 65 |\n",
       "| 18 | 1876770 | 64 | 64 |\n",
       "| 19 | 1999389 | 65 | 65 |\n",
       "| 20 | 2005924 | 67 | 67 |\n",
       "| 21 | 2061120 | 60 | 60 |\n",
       "| 22 | 2067396 | 65 | 65 |\n",
       "| 23 | 2077317 | 42 | 42 |\n",
       "| 24 | 2204236 | 70 | 70 |\n",
       "| 25 | 2209847 | 53 | 53 |\n",
       "| 26 | 2237586 | 44 | 44 |\n",
       "| 27 | 2266108 | 47 | 47 |\n",
       "| 28 | 2402383 | 65 | 65 |\n",
       "| 29 | 2430352 | 52 | 52 |\n",
       "| 30 | 2486182 | 59 | 59 |\n",
       "| ⋮ | ⋮ | ⋮ | ⋮ |\n",
       "| 71 | 4305817 | 40 | 40 |\n",
       "| 72 | 4373603 | 70 | 70 |\n",
       "| 73 | 4385850 | 72 | 72 |\n",
       "| 74 | 4403852 | 59 | 59 |\n",
       "| 75 | 4623253 | 67 | 67 |\n",
       "| 76 | 4631605 | 51 | 51 |\n",
       "| 77 | 4767644 | 62 | 62 |\n",
       "| 78 | 4851413 | 54 | 54 |\n",
       "| 79 | 4874894 | 48 | 48 |\n",
       "| 80 | 4887642 | 66 | 66 |\n",
       "| 81 | 4899701 | 73 | 73 |\n",
       "| 82 | 4919340 | 43 | 43 |\n",
       "| 83 | 4974826 | 47 | 47 |\n",
       "| 84 | 4993548 | 69 | 69 |\n",
       "| 85 | 5007903 | 42 | 42 |\n",
       "| 86 | 5036766 | 62 | 62 |\n",
       "| 87 | 5041786 | 44 | 44 |\n",
       "| 88 | 5132988 | 68 | 68 |\n",
       "| 89 | 5163852 | 61 | 61 |\n",
       "| 90 | 5178492 | 47 | 47 |\n",
       "| 91 | 5228364 | 51 | 51 |\n",
       "| 92 | 5239604 | 48 | 48 |\n",
       "| 93 | 5245764 | 68 | 68 |\n",
       "| 94 | 5270720 | 66 | 66 |\n",
       "| 95 | 5292807 | 49 | 49 |\n",
       "| 96 | 5324224 | 70 | 70 |\n",
       "| 97 | 5337673 | 48 | 48 |\n",
       "| 98 | 5348247 | 53 | 53 |\n",
       "| 99 | 5376281 | 69 | 69 |\n",
       "| 100 | 5472409 | 44 | 44 |\n",
       "\n"
      ],
      "text/plain": [
       "    IID     age_final_aid age_final_diff\n",
       "1   1011166 52            52            \n",
       "2   1085722 43            43            \n",
       "3   1156617 65            65            \n",
       "4   1178338 40            40            \n",
       "5   1200917 70            70            \n",
       "6   1210033 60            60            \n",
       "7   1272322 45            45            \n",
       "8   1362299 45            45            \n",
       "9   1452961 69            69            \n",
       "10  1517018 62            62            \n",
       "11  1541460 66            66            \n",
       "12  1546451 57            57            \n",
       "13  1687884 56            56            \n",
       "14  1751226 59            59            \n",
       "15  1817231 49            49            \n",
       "16  1841967 64            64            \n",
       "17  1851266 65            65            \n",
       "18  1876770 64            64            \n",
       "19  1999389 65            65            \n",
       "20  2005924 67            67            \n",
       "21  2061120 60            60            \n",
       "22  2067396 65            65            \n",
       "23  2077317 42            42            \n",
       "24  2204236 70            70            \n",
       "25  2209847 53            53            \n",
       "26  2237586 44            44            \n",
       "27  2266108 47            47            \n",
       "28  2402383 65            65            \n",
       "29  2430352 52            52            \n",
       "30  2486182 59            59            \n",
       "⋮   ⋮       ⋮             ⋮             \n",
       "71  4305817 40            40            \n",
       "72  4373603 70            70            \n",
       "73  4385850 72            72            \n",
       "74  4403852 59            59            \n",
       "75  4623253 67            67            \n",
       "76  4631605 51            51            \n",
       "77  4767644 62            62            \n",
       "78  4851413 54            54            \n",
       "79  4874894 48            48            \n",
       "80  4887642 66            66            \n",
       "81  4899701 73            73            \n",
       "82  4919340 43            43            \n",
       "83  4974826 47            47            \n",
       "84  4993548 69            69            \n",
       "85  5007903 42            42            \n",
       "86  5036766 62            62            \n",
       "87  5041786 44            44            \n",
       "88  5132988 68            68            \n",
       "89  5163852 61            61            \n",
       "90  5178492 47            47            \n",
       "91  5228364 51            51            \n",
       "92  5239604 48            48            \n",
       "93  5245764 68            68            \n",
       "94  5270720 66            66            \n",
       "95  5292807 49            49            \n",
       "96  5324224 70            70            \n",
       "97  5337673 48            48            \n",
       "98  5348247 53            53            \n",
       "99  5376281 69            69            \n",
       "100 5472409 44            44            "
      ]
     },
     "metadata": {},
     "output_type": "display_data"
    }
   ],
   "source": [
    "age_inconsistent <- df_3393_2247 %>%\n",
    "    select(IID, age_final_aid, age_final_diff) %>%\n",
    "    filter(IID %in% inconsistent_aid_diff)\n",
    "head(age_inconsistent, 100)"
   ]
  },
  {
   "cell_type": "code",
   "execution_count": 298,
   "metadata": {
    "kernel": "R"
   },
   "outputs": [
    {
     "data": {
      "text/html": [
       "TRUE"
      ],
      "text/latex": [
       "TRUE"
      ],
      "text/markdown": [
       "TRUE"
      ],
      "text/plain": [
       "[1] TRUE"
      ]
     },
     "metadata": {},
     "output_type": "display_data"
    }
   ],
   "source": [
    "# There are not inconsistencies in the age of the 85 new cases therefore I can use the age_final_diff variable\n",
    "all(age_inconsistent$age_final_aid == age_inconsistent$age_final_diff)"
   ]
  },
  {
   "cell_type": "markdown",
   "metadata": {
    "kernel": "R"
   },
   "source": [
    "## Export file for hearing difficulty f.2247"
   ]
  },
  {
   "cell_type": "code",
   "execution_count": 299,
   "metadata": {
    "kernel": "R"
   },
   "outputs": [],
   "source": [
    "df_3393_2247$hearing_diff_new <- revalue(df_3393_2247$hearing_diff_new, c('control' = \"0\", 'case' = '1' ))"
   ]
  },
  {
   "cell_type": "code",
   "execution_count": 300,
   "metadata": {
    "kernel": "R"
   },
   "outputs": [
    {
     "data": {
      "text/html": [
       "<table>\n",
       "<caption>A data.frame: 6 × 5</caption>\n",
       "<thead>\n",
       "\t<tr><th></th><th scope=col>FID</th><th scope=col>IID</th><th scope=col>age_final_diff</th><th scope=col>sex</th><th scope=col>hearing_diff_new</th></tr>\n",
       "\t<tr><th></th><th scope=col>&lt;int&gt;</th><th scope=col>&lt;int&gt;</th><th scope=col>&lt;int&gt;</th><th scope=col>&lt;fct&gt;</th><th scope=col>&lt;fct&gt;</th></tr>\n",
       "</thead>\n",
       "<tbody>\n",
       "\t<tr><th scope=row>1</th><td>1000019</td><td>1000019</td><td>47</td><td>1</td><td>1</td></tr>\n",
       "\t<tr><th scope=row>2</th><td>1000022</td><td>1000022</td><td>53</td><td>0</td><td>1</td></tr>\n",
       "\t<tr><th scope=row>3</th><td>1000035</td><td>1000035</td><td>63</td><td>0</td><td>0</td></tr>\n",
       "\t<tr><th scope=row>4</th><td>1000046</td><td>1000046</td><td>73</td><td>1</td><td>0</td></tr>\n",
       "\t<tr><th scope=row>5</th><td>1000054</td><td>1000054</td><td>65</td><td>1</td><td>0</td></tr>\n",
       "\t<tr><th scope=row>6</th><td>1000063</td><td>1000063</td><td>43</td><td>0</td><td>0</td></tr>\n",
       "</tbody>\n",
       "</table>\n"
      ],
      "text/latex": [
       "A data.frame: 6 × 5\n",
       "\\begin{tabular}{r|lllll}\n",
       "  & FID & IID & age\\_final\\_diff & sex & hearing\\_diff\\_new\\\\\n",
       "  & <int> & <int> & <int> & <fct> & <fct>\\\\\n",
       "\\hline\n",
       "\t1 & 1000019 & 1000019 & 47 & 1 & 1\\\\\n",
       "\t2 & 1000022 & 1000022 & 53 & 0 & 1\\\\\n",
       "\t3 & 1000035 & 1000035 & 63 & 0 & 0\\\\\n",
       "\t4 & 1000046 & 1000046 & 73 & 1 & 0\\\\\n",
       "\t5 & 1000054 & 1000054 & 65 & 1 & 0\\\\\n",
       "\t6 & 1000063 & 1000063 & 43 & 0 & 0\\\\\n",
       "\\end{tabular}\n"
      ],
      "text/markdown": [
       "\n",
       "A data.frame: 6 × 5\n",
       "\n",
       "| <!--/--> | FID &lt;int&gt; | IID &lt;int&gt; | age_final_diff &lt;int&gt; | sex &lt;fct&gt; | hearing_diff_new &lt;fct&gt; |\n",
       "|---|---|---|---|---|---|\n",
       "| 1 | 1000019 | 1000019 | 47 | 1 | 1 |\n",
       "| 2 | 1000022 | 1000022 | 53 | 0 | 1 |\n",
       "| 3 | 1000035 | 1000035 | 63 | 0 | 0 |\n",
       "| 4 | 1000046 | 1000046 | 73 | 1 | 0 |\n",
       "| 5 | 1000054 | 1000054 | 65 | 1 | 0 |\n",
       "| 6 | 1000063 | 1000063 | 43 | 0 | 0 |\n",
       "\n"
      ],
      "text/plain": [
       "  FID     IID     age_final_diff sex hearing_diff_new\n",
       "1 1000019 1000019 47             1   1               \n",
       "2 1000022 1000022 53             0   1               \n",
       "3 1000035 1000035 63             0   0               \n",
       "4 1000046 1000046 73             1   0               \n",
       "5 1000054 1000054 65             1   0               \n",
       "6 1000063 1000063 43             0   0               "
      ]
     },
     "metadata": {},
     "output_type": "display_data"
    },
    {
     "data": {
      "text/html": [
       "<style>\n",
       ".list-inline {list-style: none; margin:0; padding: 0}\n",
       ".list-inline>li {display: inline-block}\n",
       ".list-inline>li:not(:last-child)::after {content: \"\\00b7\"; padding: 0 .5ex}\n",
       "</style>\n",
       "<ol class=list-inline><li>377101</li><li>5</li></ol>\n"
      ],
      "text/latex": [
       "\\begin{enumerate*}\n",
       "\\item 377101\n",
       "\\item 5\n",
       "\\end{enumerate*}\n"
      ],
      "text/markdown": [
       "1. 377101\n",
       "2. 5\n",
       "\n",
       "\n"
      ],
      "text/plain": [
       "[1] 377101      5"
      ]
     },
     "metadata": {},
     "output_type": "display_data"
    }
   ],
   "source": [
    "f.2247_pheno <- df_3393_2247 %>%\n",
    "    filter(!(is.na(hearing_diff_new))) %>%\n",
    "    select(FID, IID, age_final_diff, sex, hearing_diff_new)\n",
    "head(f.2247_pheno)\n",
    "dim(f.2247_pheno)"
   ]
  },
  {
   "cell_type": "markdown",
   "metadata": {
    "kernel": "R"
   },
   "source": [
    "## Histogram for age in f.2247"
   ]
  },
  {
   "cell_type": "code",
   "execution_count": 301,
   "metadata": {
    "kernel": "R"
   },
   "outputs": [
    {
     "data": {
      "text/html": [
       "<table>\n",
       "<caption>A data.frame: 2 × 2</caption>\n",
       "<thead>\n",
       "\t<tr><th></th><th scope=col>hearing_diff_new</th><th scope=col>grp.mean</th></tr>\n",
       "\t<tr><th></th><th scope=col>&lt;fct&gt;</th><th scope=col>&lt;dbl&gt;</th></tr>\n",
       "</thead>\n",
       "<tbody>\n",
       "\t<tr><th scope=row>1</th><td>0</td><td>56.81464</td></tr>\n",
       "\t<tr><th scope=row>2</th><td>1</td><td>59.33278</td></tr>\n",
       "</tbody>\n",
       "</table>\n"
      ],
      "text/latex": [
       "A data.frame: 2 × 2\n",
       "\\begin{tabular}{r|ll}\n",
       "  & hearing\\_diff\\_new & grp.mean\\\\\n",
       "  & <fct> & <dbl>\\\\\n",
       "\\hline\n",
       "\t1 & 0 & 56.81464\\\\\n",
       "\t2 & 1 & 59.33278\\\\\n",
       "\\end{tabular}\n"
      ],
      "text/markdown": [
       "\n",
       "A data.frame: 2 × 2\n",
       "\n",
       "| <!--/--> | hearing_diff_new &lt;fct&gt; | grp.mean &lt;dbl&gt; |\n",
       "|---|---|---|\n",
       "| 1 | 0 | 56.81464 |\n",
       "| 2 | 1 | 59.33278 |\n",
       "\n"
      ],
      "text/plain": [
       "  hearing_diff_new grp.mean\n",
       "1 0                56.81464\n",
       "2 1                59.33278"
      ]
     },
     "metadata": {},
     "output_type": "display_data"
    }
   ],
   "source": [
    "mu3 <- ddply(f.2247_pheno, \"hearing_diff_new\", summarise, grp.mean=mean(age_final_diff))\n",
    "head(mu3)"
   ]
  },
  {
   "cell_type": "code",
   "execution_count": 302,
   "metadata": {
    "kernel": "R"
   },
   "outputs": [
    {
     "data": {
      "image/png": "[encoded data removed]",
      "text/plain": [
       "plot without title"
      ]
     },
     "metadata": {
      "image/png": {
       "height": 420,
       "width": 420
      },
      "text/plain": {
       "height": 420,
       "width": 420
      }
     },
     "output_type": "display_data"
    }
   ],
   "source": [
    "ggplot(f.2247_pheno, aes(x=age_final_diff, fill=hearing_diff_new, color=hearing_diff_new)) +\n",
    " geom_histogram(binwidth=1, alpha=0.5, position=\"identity\")+\n",
    "  scale_color_brewer(palette=\"Dark2\")+\n",
    "  scale_fill_brewer(palette=\"Dark2\") +\n",
    "  theme(legend.position=\"top\") +\n",
    "  geom_vline(data=mu3, aes(xintercept=grp.mean, color=hearing_diff_new),\n",
    "             linetype=\"dashed\") +\n",
    "  theme_classic()"
   ]
  },
  {
   "cell_type": "code",
   "execution_count": 303,
   "metadata": {
    "kernel": "R"
   },
   "outputs": [
    {
     "data": {
      "text/html": [
       "0"
      ],
      "text/latex": [
       "0"
      ],
      "text/markdown": [
       "0"
      ],
      "text/plain": [
       "[1] 0"
      ]
     },
     "metadata": {},
     "output_type": "display_data"
    },
    {
     "data": {
      "text/html": [
       "0"
      ],
      "text/latex": [
       "0"
      ],
      "text/markdown": [
       "0"
      ],
      "text/plain": [
       "[1] 0"
      ]
     },
     "metadata": {},
     "output_type": "display_data"
    }
   ],
   "source": [
    "length(which((f.2247_pheno$hearing_diff_new==\"control\" & f.2247_pheno$age_final_diff <50)))\n",
    "length(which((f.2247_pheno$hearing_diff_new==\"case\" & f.2247_pheno$age_final_diff <50)))"
   ]
  },
  {
   "cell_type": "code",
   "execution_count": 304,
   "metadata": {
    "kernel": "R"
   },
   "outputs": [
    {
     "data": {
      "text/html": [
       "<table>\n",
       "<caption>A data.frame: 2 × 2</caption>\n",
       "<thead>\n",
       "\t<tr><th></th><th scope=col>sex</th><th scope=col>grp.mean</th></tr>\n",
       "\t<tr><th></th><th scope=col>&lt;fct&gt;</th><th scope=col>&lt;dbl&gt;</th></tr>\n",
       "</thead>\n",
       "<tbody>\n",
       "\t<tr><th scope=row>1</th><td>1</td><td>58.34274</td></tr>\n",
       "\t<tr><th scope=row>2</th><td>0</td><td>59.06506</td></tr>\n",
       "</tbody>\n",
       "</table>\n"
      ],
      "text/latex": [
       "A data.frame: 2 × 2\n",
       "\\begin{tabular}{r|ll}\n",
       "  & sex & grp.mean\\\\\n",
       "  & <fct> & <dbl>\\\\\n",
       "\\hline\n",
       "\t1 & 1 & 58.34274\\\\\n",
       "\t2 & 0 & 59.06506\\\\\n",
       "\\end{tabular}\n"
      ],
      "text/markdown": [
       "\n",
       "A data.frame: 2 × 2\n",
       "\n",
       "| <!--/--> | sex &lt;fct&gt; | grp.mean &lt;dbl&gt; |\n",
       "|---|---|---|\n",
       "| 1 | 1 | 58.34274 |\n",
       "| 2 | 0 | 59.06506 |\n",
       "\n"
      ],
      "text/plain": [
       "  sex grp.mean\n",
       "1 1   58.34274\n",
       "2 0   59.06506"
      ]
     },
     "metadata": {},
     "output_type": "display_data"
    }
   ],
   "source": [
    "mu4 <- ddply(f.2247_pheno, \"sex\", summarise, grp.mean=mean(age_final_diff))\n",
    "head(mu1)"
   ]
  },
  {
   "cell_type": "code",
   "execution_count": 305,
   "metadata": {
    "kernel": "R"
   },
   "outputs": [
    {
     "data": {
      "image/png": "[encoded data removed]",
      "text/plain": [
       "plot without title"
      ]
     },
     "metadata": {
      "image/png": {
       "height": 420,
       "width": 420
      },
      "text/plain": {
       "height": 420,
       "width": 420
      }
     },
     "output_type": "display_data"
    }
   ],
   "source": [
    "ggplot(f.2247_pheno, aes(x=age_final_diff, fill=sex, color=sex)) +\n",
    " geom_histogram(binwidth=1, alpha=0.5, position=\"identity\")+\n",
    "  scale_color_brewer(palette=\"Dark2\")+\n",
    "  scale_fill_brewer(palette=\"Dark2\") +\n",
    "  theme(legend.position=\"top\") +\n",
    "  theme_classic() +\n",
    "  facet_grid(hearing_diff_new ~ .)"
   ]
  },
  {
   "cell_type": "markdown",
   "metadata": {
    "kernel": "R"
   },
   "source": [
    "## Filter controls positive for f.3393 and/or f.2257"
   ]
  },
  {
   "cell_type": "code",
   "execution_count": 306,
   "metadata": {
    "kernel": "R"
   },
   "outputs": [
    {
     "data": {
      "text/html": [
       "<table>\n",
       "<caption>A data.frame: 6 × 23</caption>\n",
       "<thead>\n",
       "\t<tr><th></th><th scope=col>FID</th><th scope=col>IID</th><th scope=col>age_final_diff</th><th scope=col>sex</th><th scope=col>hearing_diff_new</th><th scope=col>f.2257.0.0</th><th scope=col>f.2257.1.0</th><th scope=col>f.2257.2.0</th><th scope=col>f.2257.3.0</th><th scope=col>f.2257.0.0_recode</th><th scope=col>⋯</th><th scope=col>f.3393.0.0</th><th scope=col>f.3393.1.0</th><th scope=col>f.3393.2.0</th><th scope=col>f.3393.3.0</th><th scope=col>f.3393.0.0_recode</th><th scope=col>f.3393.1.0_recode</th><th scope=col>f.3393.2.0_recode</th><th scope=col>f.3393.3.0_recode</th><th scope=col>remove_2257</th><th scope=col>remove_3393</th></tr>\n",
       "\t<tr><th></th><th scope=col>&lt;int&gt;</th><th scope=col>&lt;int&gt;</th><th scope=col>&lt;int&gt;</th><th scope=col>&lt;fct&gt;</th><th scope=col>&lt;fct&gt;</th><th scope=col>&lt;fct&gt;</th><th scope=col>&lt;fct&gt;</th><th scope=col>&lt;fct&gt;</th><th scope=col>&lt;fct&gt;</th><th scope=col>&lt;fct&gt;</th><th scope=col>⋯</th><th scope=col>&lt;fct&gt;</th><th scope=col>&lt;fct&gt;</th><th scope=col>&lt;fct&gt;</th><th scope=col>&lt;fct&gt;</th><th scope=col>&lt;fct&gt;</th><th scope=col>&lt;fct&gt;</th><th scope=col>&lt;fct&gt;</th><th scope=col>&lt;fct&gt;</th><th scope=col>&lt;lgl&gt;</th><th scope=col>&lt;lgl&gt;</th></tr>\n",
       "</thead>\n",
       "<tbody>\n",
       "\t<tr><th scope=row>1</th><td>1000035</td><td>1000035</td><td>63</td><td>0</td><td>0</td><td>Yes</td><td>NA</td><td>NA </td><td>NA</td><td>1</td><td>⋯</td><td>No</td><td>NA</td><td>NA</td><td>NA</td><td>0 </td><td>NA</td><td>NA</td><td>NA</td><td> TRUE</td><td>FALSE</td></tr>\n",
       "\t<tr><th scope=row>2</th><td>1000046</td><td>1000046</td><td>73</td><td>1</td><td>0</td><td>No </td><td>NA</td><td>Yes</td><td>NA</td><td>0</td><td>⋯</td><td>NA</td><td>NA</td><td>No</td><td>NA</td><td>NA</td><td>NA</td><td>0 </td><td>NA</td><td> TRUE</td><td>FALSE</td></tr>\n",
       "\t<tr><th scope=row>3</th><td>1000054</td><td>1000054</td><td>65</td><td>1</td><td>0</td><td>Yes</td><td>NA</td><td>NA </td><td>NA</td><td>1</td><td>⋯</td><td>No</td><td>NA</td><td>NA</td><td>NA</td><td>0 </td><td>NA</td><td>NA</td><td>NA</td><td> TRUE</td><td>FALSE</td></tr>\n",
       "\t<tr><th scope=row>4</th><td>1000063</td><td>1000063</td><td>43</td><td>0</td><td>0</td><td>No </td><td>NA</td><td>NA </td><td>NA</td><td>0</td><td>⋯</td><td>No</td><td>NA</td><td>NA</td><td>NA</td><td>0 </td><td>NA</td><td>NA</td><td>NA</td><td>FALSE</td><td>FALSE</td></tr>\n",
       "\t<tr><th scope=row>5</th><td>1000078</td><td>1000078</td><td>60</td><td>1</td><td>0</td><td>No </td><td>No</td><td>No </td><td>NA</td><td>0</td><td>⋯</td><td>NA</td><td>No</td><td>No</td><td>NA</td><td>NA</td><td>0 </td><td>0 </td><td>NA</td><td>FALSE</td><td>FALSE</td></tr>\n",
       "\t<tr><th scope=row>6</th><td>1000081</td><td>1000081</td><td>67</td><td>0</td><td>0</td><td>No </td><td>NA</td><td>NA </td><td>NA</td><td>0</td><td>⋯</td><td>No</td><td>NA</td><td>NA</td><td>NA</td><td>0 </td><td>NA</td><td>NA</td><td>NA</td><td>FALSE</td><td>FALSE</td></tr>\n",
       "</tbody>\n",
       "</table>\n"
      ],
      "text/latex": [
       "A data.frame: 6 × 23\n",
       "\\begin{tabular}{r|lllllllllllllllllllll}\n",
       "  & FID & IID & age\\_final\\_diff & sex & hearing\\_diff\\_new & f.2257.0.0 & f.2257.1.0 & f.2257.2.0 & f.2257.3.0 & f.2257.0.0\\_recode & ⋯ & f.3393.0.0 & f.3393.1.0 & f.3393.2.0 & f.3393.3.0 & f.3393.0.0\\_recode & f.3393.1.0\\_recode & f.3393.2.0\\_recode & f.3393.3.0\\_recode & remove\\_2257 & remove\\_3393\\\\\n",
       "  & <int> & <int> & <int> & <fct> & <fct> & <fct> & <fct> & <fct> & <fct> & <fct> & ⋯ & <fct> & <fct> & <fct> & <fct> & <fct> & <fct> & <fct> & <fct> & <lgl> & <lgl>\\\\\n",
       "\\hline\n",
       "\t1 & 1000035 & 1000035 & 63 & 0 & 0 & Yes & NA & NA  & NA & 1 & ⋯ & No & NA & NA & NA & 0  & NA & NA & NA &  TRUE & FALSE\\\\\n",
       "\t2 & 1000046 & 1000046 & 73 & 1 & 0 & No  & NA & Yes & NA & 0 & ⋯ & NA & NA & No & NA & NA & NA & 0  & NA &  TRUE & FALSE\\\\\n",
       "\t3 & 1000054 & 1000054 & 65 & 1 & 0 & Yes & NA & NA  & NA & 1 & ⋯ & No & NA & NA & NA & 0  & NA & NA & NA &  TRUE & FALSE\\\\\n",
       "\t4 & 1000063 & 1000063 & 43 & 0 & 0 & No  & NA & NA  & NA & 0 & ⋯ & No & NA & NA & NA & 0  & NA & NA & NA & FALSE & FALSE\\\\\n",
       "\t5 & 1000078 & 1000078 & 60 & 1 & 0 & No  & No & No  & NA & 0 & ⋯ & NA & No & No & NA & NA & 0  & 0  & NA & FALSE & FALSE\\\\\n",
       "\t6 & 1000081 & 1000081 & 67 & 0 & 0 & No  & NA & NA  & NA & 0 & ⋯ & No & NA & NA & NA & 0  & NA & NA & NA & FALSE & FALSE\\\\\n",
       "\\end{tabular}\n"
      ],
      "text/markdown": [
       "\n",
       "A data.frame: 6 × 23\n",
       "\n",
       "| <!--/--> | FID &lt;int&gt; | IID &lt;int&gt; | age_final_diff &lt;int&gt; | sex &lt;fct&gt; | hearing_diff_new &lt;fct&gt; | f.2257.0.0 &lt;fct&gt; | f.2257.1.0 &lt;fct&gt; | f.2257.2.0 &lt;fct&gt; | f.2257.3.0 &lt;fct&gt; | f.2257.0.0_recode &lt;fct&gt; | ⋯ ⋯ | f.3393.0.0 &lt;fct&gt; | f.3393.1.0 &lt;fct&gt; | f.3393.2.0 &lt;fct&gt; | f.3393.3.0 &lt;fct&gt; | f.3393.0.0_recode &lt;fct&gt; | f.3393.1.0_recode &lt;fct&gt; | f.3393.2.0_recode &lt;fct&gt; | f.3393.3.0_recode &lt;fct&gt; | remove_2257 &lt;lgl&gt; | remove_3393 &lt;lgl&gt; |\n",
       "|---|---|---|---|---|---|---|---|---|---|---|---|---|---|---|---|---|---|---|---|---|---|\n",
       "| 1 | 1000035 | 1000035 | 63 | 0 | 0 | Yes | NA | NA  | NA | 1 | ⋯ | No | NA | NA | NA | 0  | NA | NA | NA |  TRUE | FALSE |\n",
       "| 2 | 1000046 | 1000046 | 73 | 1 | 0 | No  | NA | Yes | NA | 0 | ⋯ | NA | NA | No | NA | NA | NA | 0  | NA |  TRUE | FALSE |\n",
       "| 3 | 1000054 | 1000054 | 65 | 1 | 0 | Yes | NA | NA  | NA | 1 | ⋯ | No | NA | NA | NA | 0  | NA | NA | NA |  TRUE | FALSE |\n",
       "| 4 | 1000063 | 1000063 | 43 | 0 | 0 | No  | NA | NA  | NA | 0 | ⋯ | No | NA | NA | NA | 0  | NA | NA | NA | FALSE | FALSE |\n",
       "| 5 | 1000078 | 1000078 | 60 | 1 | 0 | No  | No | No  | NA | 0 | ⋯ | NA | No | No | NA | NA | 0  | 0  | NA | FALSE | FALSE |\n",
       "| 6 | 1000081 | 1000081 | 67 | 0 | 0 | No  | NA | NA  | NA | 0 | ⋯ | No | NA | NA | NA | 0  | NA | NA | NA | FALSE | FALSE |\n",
       "\n"
      ],
      "text/plain": [
       "  FID     IID     age_final_diff sex hearing_diff_new f.2257.0.0 f.2257.1.0\n",
       "1 1000035 1000035 63             0   0                Yes        NA        \n",
       "2 1000046 1000046 73             1   0                No         NA        \n",
       "3 1000054 1000054 65             1   0                Yes        NA        \n",
       "4 1000063 1000063 43             0   0                No         NA        \n",
       "5 1000078 1000078 60             1   0                No         No        \n",
       "6 1000081 1000081 67             0   0                No         NA        \n",
       "  f.2257.2.0 f.2257.3.0 f.2257.0.0_recode ⋯ f.3393.0.0 f.3393.1.0 f.3393.2.0\n",
       "1 NA         NA         1                 ⋯ No         NA         NA        \n",
       "2 Yes        NA         0                 ⋯ NA         NA         No        \n",
       "3 NA         NA         1                 ⋯ No         NA         NA        \n",
       "4 NA         NA         0                 ⋯ No         NA         NA        \n",
       "5 No         NA         0                 ⋯ NA         No         No        \n",
       "6 NA         NA         0                 ⋯ No         NA         NA        \n",
       "  f.3393.3.0 f.3393.0.0_recode f.3393.1.0_recode f.3393.2.0_recode\n",
       "1 NA         0                 NA                NA               \n",
       "2 NA         NA                NA                0                \n",
       "3 NA         0                 NA                NA               \n",
       "4 NA         0                 NA                NA               \n",
       "5 NA         NA                0                 0                \n",
       "6 NA         0                 NA                NA               \n",
       "  f.3393.3.0_recode remove_2257 remove_3393\n",
       "1 NA                 TRUE       FALSE      \n",
       "2 NA                 TRUE       FALSE      \n",
       "3 NA                 TRUE       FALSE      \n",
       "4 NA                FALSE       FALSE      \n",
       "5 NA                FALSE       FALSE      \n",
       "6 NA                FALSE       FALSE      "
      ]
     },
     "metadata": {},
     "output_type": "display_data"
    }
   ],
   "source": [
    "control_check_2247 <- df_3393_2247 %>%\n",
    "    filter(hearing_diff_new==0) %>%\n",
    "    select(FID, IID, age_final_diff, sex, hearing_diff_new, starts_with(\"f.2257\"), starts_with(\"f.3393\")) %>%\n",
    "    mutate(remove_2257 = apply(select(.,starts_with(\"f.2257\")), 1, function(x) length(which(x == \"Yes\")) > 0),\n",
    "           remove_3393 = apply(select(.,starts_with(\"f.3393\")), 1, function(x) length(which(x == \"Yes\")) > 0))\n",
    "head(control_check_2247)"
   ]
  },
  {
   "cell_type": "code",
   "execution_count": 307,
   "metadata": {
    "kernel": "R"
   },
   "outputs": [
    {
     "data": {
      "text/html": [
       "56117"
      ],
      "text/latex": [
       "56117"
      ],
      "text/markdown": [
       "56117"
      ],
      "text/plain": [
       "[1] 56117"
      ]
     },
     "metadata": {},
     "output_type": "display_data"
    },
    {
     "data": {
      "text/html": [
       "3"
      ],
      "text/latex": [
       "3"
      ],
      "text/markdown": [
       "3"
      ],
      "text/plain": [
       "[1] 3"
      ]
     },
     "metadata": {},
     "output_type": "display_data"
    },
    {
     "data": {
      "text/html": [
       "2"
      ],
      "text/latex": [
       "2"
      ],
      "text/markdown": [
       "2"
      ],
      "text/plain": [
       "[1] 2"
      ]
     },
     "metadata": {},
     "output_type": "display_data"
    },
    {
     "data": {
      "text/html": [
       "56118"
      ],
      "text/latex": [
       "56118"
      ],
      "text/markdown": [
       "56118"
      ],
      "text/plain": [
       "[1] 56118"
      ]
     },
     "metadata": {},
     "output_type": "display_data"
    }
   ],
   "source": [
    "length(which(control_check_2247$remove_2257==TRUE)) #controls that replied yes to f.2257\n",
    "length(which(control_check_2247$remove_3393==TRUE)) #controls that replied yes to f.3393\n",
    "length(which(control_check_2247$remove_2257==TRUE & control_check_2247$remove_3393==TRUE)) # controls that replied yes to both\n",
    "length(which(control_check_2247$remove_2257==TRUE | control_check_2247$remove_3393==TRUE)) # controls that replied yes to either"
   ]
  },
  {
   "cell_type": "markdown",
   "metadata": {
    "kernel": "R"
   },
   "source": [
    "### Export file white-British"
   ]
  },
  {
   "cell_type": "code",
   "execution_count": 93,
   "metadata": {
    "kernel": "R"
   },
   "outputs": [],
   "source": [
    "write.table(f.2247_pheno, '200828_UKBB_Hearing_difficulty_f2247', quote = FALSE, row.names = FALSE)"
   ]
  },
  {
   "cell_type": "markdown",
   "metadata": {
    "kernel": "R"
   },
   "source": [
    "### Export file white expanded"
   ]
  },
  {
   "cell_type": "code",
   "execution_count": 93,
   "metadata": {
    "kernel": "R"
   },
   "outputs": [],
   "source": [
    "write.table(f.2247_pheno, '120120_UKBB_Hearing_difficulty_f2247_expandedwhite', quote = FALSE, row.names = FALSE)"
   ]
  },
  {
   "cell_type": "markdown",
   "metadata": {
    "kernel": "R"
   },
   "source": [
    "### Export file exome data"
   ]
  },
  {
   "cell_type": "code",
   "execution_count": 276,
   "metadata": {
    "kernel": "R"
   },
   "outputs": [
    {
     "data": {
      "text/html": [
       "0"
      ],
      "text/latex": [
       "0"
      ],
      "text/markdown": [
       "0"
      ],
      "text/plain": [
       "[1] 0"
      ]
     },
     "metadata": {},
     "output_type": "display_data"
    }
   ],
   "source": [
    "length(which(is.na(f.2247_pheno$hearing_diff_new)))"
   ]
  },
  {
   "cell_type": "code",
   "execution_count": 101,
   "metadata": {
    "kernel": "R"
   },
   "outputs": [],
   "source": [
    "write.table(f.2247_pheno, 'phenotypes_exome_data/010421_UKBB_Hearing_difficulty_f2247_171970ind_exomes', quote = FALSE, row.names = FALSE)"
   ]
  },
  {
   "cell_type": "markdown",
   "metadata": {
    "kernel": "SoS"
   },
   "source": [
    "## f.2257 Hearing difficulty/background noise (2257)\n",
    "### step1: classify cases and controls"
   ]
  },
  {
   "cell_type": "code",
   "execution_count": 319,
   "metadata": {
    "kernel": "R"
   },
   "outputs": [
    {
     "data": {
      "text/plain": [
       "\n",
       "         Do not know                   No Prefer not to answer \n",
       "                7519               243930                  287 \n",
       "                 Yes \n",
       "              144964 "
      ]
     },
     "metadata": {},
     "output_type": "display_data"
    },
    {
     "data": {
      "text/html": [
       "<style>\n",
       ".list-inline {list-style: none; margin:0; padding: 0}\n",
       ".list-inline>li {display: inline-block}\n",
       ".list-inline>li:not(:last-child)::after {content: \"\\00b7\"; padding: 0 .5ex}\n",
       "</style>\n",
       "<ol class=list-inline><li>396974</li><li>2275</li></ol>\n"
      ],
      "text/latex": [
       "\\begin{enumerate*}\n",
       "\\item 396974\n",
       "\\item 2275\n",
       "\\end{enumerate*}\n"
      ],
      "text/markdown": [
       "1. 396974\n",
       "2. 2275\n",
       "\n",
       "\n"
      ],
      "text/plain": [
       "[1] 396974   2275"
      ]
     },
     "metadata": {},
     "output_type": "display_data"
    }
   ],
   "source": [
    "table(df.final.imp$f.2257.0.0)\n",
    "dim(df.final.imp)"
   ]
  },
  {
   "cell_type": "code",
   "execution_count": 320,
   "metadata": {
    "kernel": "R"
   },
   "outputs": [
    {
     "name": "stdout",
     "output_type": "stream",
     "text": [
      "f.2257.0.0_recode summary:\n",
      "     9      0      1 \n",
      "  7519 243930 144964 \n",
      "\n",
      "f.2257.1.0_recode summary:\n",
      "   9    0    1 \n",
      " 356 9364 7135 \n",
      "\n",
      "f.2257.2.0_recode summary:\n",
      "    9     0     1 \n",
      "  887 21098 17628 \n",
      "\n",
      "f.2257.3.0_recode summary:\n",
      "   9    0    1 \n",
      "  58 1406 1157 \n",
      "\n"
     ]
    }
   ],
   "source": [
    "# Recode function:\n",
    "recode<-function(df,column_name){\n",
    "  new_names<-c()\n",
    "  for (i in column_name){\n",
    "    new_column_name<-paste0(i,\"_recode\")\n",
    "    new_names<-c(new_names,new_column_name)\n",
    "    df[,new_column_name] <- revalue(df[,i], c(\"No\"= 0, \n",
    "                                            \"Yes\" =1,\n",
    "                                            \"Prefer not to answer\"= NA,\n",
    "                                             \"Do not know\"=9))\n",
    "  }\n",
    "  return (list(df=df,new_column_names=new_names))\n",
    "}\n",
    "\n",
    "# columns needs to be recoded:\n",
    "column_name<-c(\"f.2257.0.0\",\"f.2257.1.0\",\"f.2257.2.0\",\"f.2257.3.0\")\n",
    "\n",
    "# get a new data.frame with recoded columns added:\n",
    "df.final.imp<-recode(df=df.final.imp,column_name)$df\n",
    "\n",
    "# get names of recoded columns:\n",
    "new_column_names<-recode(df=df.final.imp,column_name)$new_column_names\n",
    "\n",
    "# show recode summary:\n",
    "for (i in new_column_names)\n",
    "{cat(i,\"summary:\");print(table(df.final.imp[,i]));cat(\"\\n\")}"
   ]
  },
  {
   "cell_type": "code",
   "execution_count": 321,
   "metadata": {
    "kernel": "R"
   },
   "outputs": [
    {
     "data": {
      "text/html": [
       "<style>\n",
       ".list-inline {list-style: none; margin:0; padding: 0}\n",
       ".list-inline>li {display: inline-block}\n",
       ".list-inline>li:not(:last-child)::after {content: \"\\00b7\"; padding: 0 .5ex}\n",
       "</style>\n",
       "<ol class=list-inline><li>396974</li><li>2275</li></ol>\n"
      ],
      "text/latex": [
       "\\begin{enumerate*}\n",
       "\\item 396974\n",
       "\\item 2275\n",
       "\\end{enumerate*}\n"
      ],
      "text/markdown": [
       "1. 396974\n",
       "2. 2275\n",
       "\n",
       "\n"
      ],
      "text/plain": [
       "[1] 396974   2275"
      ]
     },
     "metadata": {},
     "output_type": "display_data"
    }
   ],
   "source": [
    "dim(df.final.imp)"
   ]
  },
  {
   "cell_type": "markdown",
   "metadata": {
    "kernel": "R"
   },
   "source": [
    "## f.2257 Get patterns for all possible answers"
   ]
  },
  {
   "cell_type": "code",
   "execution_count": 322,
   "metadata": {
    "kernel": "R"
   },
   "outputs": [
    {
     "data": {
      "text/html": [
       "<style>\n",
       ".list-inline {list-style: none; margin:0; padding: 0}\n",
       ".list-inline>li {display: inline-block}\n",
       ".list-inline>li:not(:last-child)::after {content: \"\\00b7\"; padding: 0 .5ex}\n",
       "</style>\n",
       "<ol class=list-inline><li>''</li><li>'0'</li><li>'00'</li><li>'000'</li><li>'0000'</li><li>'0001'</li><li>'0009'</li><li>'001'</li><li>'0010'</li><li>'0011'</li><li>'0019'</li><li>'009'</li><li>'0090'</li><li>'0091'</li><li>'01'</li><li>'010'</li><li>'0100'</li><li>'0101'</li><li>'011'</li><li>'0110'</li><li>'0111'</li><li>'019'</li><li>'09'</li><li>'090'</li><li>'0900'</li><li>'0901'</li><li>'091'</li><li>'0911'</li><li>'099'</li><li>'1'</li><li>'10'</li><li>'100'</li><li>'1000'</li><li>'1001'</li><li>'101'</li><li>'1010'</li><li>'1011'</li><li>'109'</li><li>'11'</li><li>'110'</li><li>'1100'</li><li>'1101'</li><li>'111'</li><li>'1110'</li><li>'1111'</li><li>'1119'</li><li>'119'</li><li>'19'</li><li>'190'</li><li>'1900'</li><li>'191'</li><li>'199'</li><li>'9'</li><li>'90'</li><li>'900'</li><li>'9000'</li><li>'9001'</li><li>'901'</li><li>'9011'</li><li>'909'</li><li>'91'</li><li>'910'</li><li>'911'</li><li>'9110'</li><li>'9111'</li><li>'919'</li><li>'9191'</li><li>'99'</li><li>'990'</li><li>'991'</li><li>'999'</li><li>'9991'</li><li>'9999'</li></ol>\n"
      ],
      "text/latex": [
       "\\begin{enumerate*}\n",
       "\\item ''\n",
       "\\item '0'\n",
       "\\item '00'\n",
       "\\item '000'\n",
       "\\item '0000'\n",
       "\\item '0001'\n",
       "\\item '0009'\n",
       "\\item '001'\n",
       "\\item '0010'\n",
       "\\item '0011'\n",
       "\\item '0019'\n",
       "\\item '009'\n",
       "\\item '0090'\n",
       "\\item '0091'\n",
       "\\item '01'\n",
       "\\item '010'\n",
       "\\item '0100'\n",
       "\\item '0101'\n",
       "\\item '011'\n",
       "\\item '0110'\n",
       "\\item '0111'\n",
       "\\item '019'\n",
       "\\item '09'\n",
       "\\item '090'\n",
       "\\item '0900'\n",
       "\\item '0901'\n",
       "\\item '091'\n",
       "\\item '0911'\n",
       "\\item '099'\n",
       "\\item '1'\n",
       "\\item '10'\n",
       "\\item '100'\n",
       "\\item '1000'\n",
       "\\item '1001'\n",
       "\\item '101'\n",
       "\\item '1010'\n",
       "\\item '1011'\n",
       "\\item '109'\n",
       "\\item '11'\n",
       "\\item '110'\n",
       "\\item '1100'\n",
       "\\item '1101'\n",
       "\\item '111'\n",
       "\\item '1110'\n",
       "\\item '1111'\n",
       "\\item '1119'\n",
       "\\item '119'\n",
       "\\item '19'\n",
       "\\item '190'\n",
       "\\item '1900'\n",
       "\\item '191'\n",
       "\\item '199'\n",
       "\\item '9'\n",
       "\\item '90'\n",
       "\\item '900'\n",
       "\\item '9000'\n",
       "\\item '9001'\n",
       "\\item '901'\n",
       "\\item '9011'\n",
       "\\item '909'\n",
       "\\item '91'\n",
       "\\item '910'\n",
       "\\item '911'\n",
       "\\item '9110'\n",
       "\\item '9111'\n",
       "\\item '919'\n",
       "\\item '9191'\n",
       "\\item '99'\n",
       "\\item '990'\n",
       "\\item '991'\n",
       "\\item '999'\n",
       "\\item '9991'\n",
       "\\item '9999'\n",
       "\\end{enumerate*}\n"
      ],
      "text/markdown": [
       "1. ''\n",
       "2. '0'\n",
       "3. '00'\n",
       "4. '000'\n",
       "5. '0000'\n",
       "6. '0001'\n",
       "7. '0009'\n",
       "8. '001'\n",
       "9. '0010'\n",
       "10. '0011'\n",
       "11. '0019'\n",
       "12. '009'\n",
       "13. '0090'\n",
       "14. '0091'\n",
       "15. '01'\n",
       "16. '010'\n",
       "17. '0100'\n",
       "18. '0101'\n",
       "19. '011'\n",
       "20. '0110'\n",
       "21. '0111'\n",
       "22. '019'\n",
       "23. '09'\n",
       "24. '090'\n",
       "25. '0900'\n",
       "26. '0901'\n",
       "27. '091'\n",
       "28. '0911'\n",
       "29. '099'\n",
       "30. '1'\n",
       "31. '10'\n",
       "32. '100'\n",
       "33. '1000'\n",
       "34. '1001'\n",
       "35. '101'\n",
       "36. '1010'\n",
       "37. '1011'\n",
       "38. '109'\n",
       "39. '11'\n",
       "40. '110'\n",
       "41. '1100'\n",
       "42. '1101'\n",
       "43. '111'\n",
       "44. '1110'\n",
       "45. '1111'\n",
       "46. '1119'\n",
       "47. '119'\n",
       "48. '19'\n",
       "49. '190'\n",
       "50. '1900'\n",
       "51. '191'\n",
       "52. '199'\n",
       "53. '9'\n",
       "54. '90'\n",
       "55. '900'\n",
       "56. '9000'\n",
       "57. '9001'\n",
       "58. '901'\n",
       "59. '9011'\n",
       "60. '909'\n",
       "61. '91'\n",
       "62. '910'\n",
       "63. '911'\n",
       "64. '9110'\n",
       "65. '9111'\n",
       "66. '919'\n",
       "67. '9191'\n",
       "68. '99'\n",
       "69. '990'\n",
       "70. '991'\n",
       "71. '999'\n",
       "72. '9991'\n",
       "73. '9999'\n",
       "\n",
       "\n"
      ],
      "text/plain": [
       " [1] \"\"     \"0\"    \"00\"   \"000\"  \"0000\" \"0001\" \"0009\" \"001\"  \"0010\" \"0011\"\n",
       "[11] \"0019\" \"009\"  \"0090\" \"0091\" \"01\"   \"010\"  \"0100\" \"0101\" \"011\"  \"0110\"\n",
       "[21] \"0111\" \"019\"  \"09\"   \"090\"  \"0900\" \"0901\" \"091\"  \"0911\" \"099\"  \"1\"   \n",
       "[31] \"10\"   \"100\"  \"1000\" \"1001\" \"101\"  \"1010\" \"1011\" \"109\"  \"11\"   \"110\" \n",
       "[41] \"1100\" \"1101\" \"111\"  \"1110\" \"1111\" \"1119\" \"119\"  \"19\"   \"190\"  \"1900\"\n",
       "[51] \"191\"  \"199\"  \"9\"    \"90\"   \"900\"  \"9000\" \"9001\" \"901\"  \"9011\" \"909\" \n",
       "[61] \"91\"   \"910\"  \"911\"  \"9110\" \"9111\" \"919\"  \"9191\" \"99\"   \"990\"  \"991\" \n",
       "[71] \"999\"  \"9991\" \"9999\""
      ]
     },
     "metadata": {},
     "output_type": "display_data"
    }
   ],
   "source": [
    "# Extract subset of data only with the recode columns of tinnitus\n",
    "data_sub <- df.final.imp %>%\n",
    "  select(\"IID\",all_of(new_column_names)) \n",
    "\n",
    "# Function to extract all the available answers for 4 visits\n",
    "# and put them in one string as \"0000\", \"111\", \"991\", etc\n",
    "\n",
    "f2<-function(x){\n",
    "  visit<-''\n",
    "  for (i in 2:5){ # do not take the first column (i.e. IID)\n",
    "    if (!is.na(x[i]))\n",
    "    {visit<-paste0(visit,x[i])}\n",
    "  }\n",
    "  if(is.null(visit)){visit=NA}\n",
    "  else{visit=visit}\n",
    "  return (visit)\n",
    "}\n",
    "\n",
    "# Apply the above function and remove NAs\n",
    "data_sub$visit<-apply(data_sub, 1, f2)\n",
    "\n",
    "names(table(data_sub$visit))"
   ]
  },
  {
   "cell_type": "code",
   "execution_count": 323,
   "metadata": {
    "kernel": "R"
   },
   "outputs": [
    {
     "data": {
      "text/plain": [
       "\n",
       "            0     00    000   0000   0001   0009    001   0010   0011   0019 \n",
       "   529 213235  18861   3521    190     25      3    586     12     26      1 \n",
       "   009   0090   0091     01    010   0100   0101    011   0110   0111    019 \n",
       "    72      5      3   5698    294      9      7    651      7     29     23 \n",
       "    09    090   0900   0901    091   0911    099      1     10    100   1000 \n",
       "   573     60      3      1     33      2     12 126904   2594    330      9 \n",
       "  1001    101   1010   1011    109     11    110   1100   1101    111   1110 \n",
       "     5    233      2      9     17  12013    197      9      6   2219      7 \n",
       "  1111   1119    119     19    190   1900    191    199      9     90    900 \n",
       "   112      1     31    234     14      2     26      5   6701    288     38 \n",
       "  9000   9001    901   9011    909     91    910    911   9110   9111    919 \n",
       "     2      1     13      1      7    294     10     32      1      2      7 \n",
       "  9191     99    990    991    999   9991   9999 \n",
       "     1     94      8      9     12      1      2 "
      ]
     },
     "metadata": {},
     "output_type": "display_data"
    }
   ],
   "source": [
    "table(data_sub$visit)\n",
    "all_pattern<-unique(data_sub$visit)"
   ]
  },
  {
   "cell_type": "markdown",
   "metadata": {
    "kernel": "R"
   },
   "source": [
    "## f.2257 Get all the consitent cases"
   ]
  },
  {
   "cell_type": "code",
   "execution_count": 324,
   "metadata": {
    "kernel": "R"
   },
   "outputs": [
    {
     "data": {
      "text/plain": [
       "\n",
       "     0     00    000   0000      1     11    111   1111      9     99    999 \n",
       "213235  18861   3521    190 126904  12013   2219    112   6701     94     12 \n",
       "  9999 \n",
       "     2 "
      ]
     },
     "metadata": {},
     "output_type": "display_data"
    }
   ],
   "source": [
    "all_no<-all_pattern[which(grepl(\"0\",all_pattern) & !grepl(\"9\",all_pattern) & !grepl(\"1\",all_pattern))]\n",
    "all_yes<-all_pattern[which(!grepl(\"0\",all_pattern) & !grepl(\"9\",all_pattern) & grepl(\"1\",all_pattern))]\n",
    "all_do_not_know<-all_pattern[which(!grepl(\"0\",all_pattern) & grepl(\"9\",all_pattern) & !grepl(\"1\",all_pattern))]\n",
    "table(data_sub[data_sub$visit%in%union(union(all_no,all_yes),all_do_not_know),\"visit\"])"
   ]
  },
  {
   "cell_type": "code",
   "execution_count": 325,
   "metadata": {
    "kernel": "R"
   },
   "outputs": [
    {
     "data": {
      "text/plain": [
       "\n",
       "0009  009 0090   09  090 0900  099   90  900 9000  909  990 \n",
       "   3   72    5  573   60    3   12  288   38    2    7    8 "
      ]
     },
     "metadata": {},
     "output_type": "display_data"
    }
   ],
   "source": [
    "consistent_1<-c(all_no,all_yes,all_do_not_know)\n",
    "\n",
    "# might be inconsistent cases:\n",
    "do_not_know_no<-all_pattern[which(grepl(\"0\",all_pattern) & grepl(\"9\",all_pattern) & !grepl(\"1\",all_pattern))]\n",
    "table(data_sub[data_sub$visit%in%do_not_know_no,\"visit\"])"
   ]
  },
  {
   "cell_type": "code",
   "execution_count": 326,
   "metadata": {
    "kernel": "R"
   },
   "outputs": [
    {
     "data": {
      "text/plain": [
       "\n",
       "1119  119   19  191  199   91  911 9111  919 9191  991 9991 \n",
       "   1   31  234   26    5  294   32    2    7    1    9    1 "
      ]
     },
     "metadata": {},
     "output_type": "display_data"
    }
   ],
   "source": [
    "do_not_know_yes<-all_pattern[which(!grepl(\"0\",all_pattern) & grepl(\"9\",all_pattern) & grepl(\"1\",all_pattern))]\n",
    "table(data_sub[data_sub$visit%in%do_not_know_yes,\"visit\"])"
   ]
  },
  {
   "cell_type": "code",
   "execution_count": 327,
   "metadata": {
    "kernel": "R"
   },
   "outputs": [
    {
     "data": {
      "text/plain": [
       "\n",
       "0001  001 0010 0011   01  010 0100 0101  011 0110 0111   10  100 1000 1001  101 \n",
       "  25  586   12   26 5698  294    9    7  651    7   29 2594  330    9    5  233 \n",
       "1010 1011  110 1100 1101 1110 \n",
       "   2    9  197    9    6    7 "
      ]
     },
     "metadata": {},
     "output_type": "display_data"
    }
   ],
   "source": [
    "yes_no<-all_pattern[which(grepl(\"0\",all_pattern) & !grepl(\"9\",all_pattern) & grepl(\"1\",all_pattern))]\n",
    "table(data_sub[data_sub$visit%in%yes_no,\"visit\"])"
   ]
  },
  {
   "cell_type": "code",
   "execution_count": 328,
   "metadata": {
    "kernel": "R"
   },
   "outputs": [
    {
     "data": {
      "text/plain": [
       "\n",
       "0019 0091  019 0901  091 0911  109  190 1900 9001  901 9011  910 9110 \n",
       "   1    3   23    1   33    2   17   14    2    1   13    1   10    1 "
      ]
     },
     "metadata": {},
     "output_type": "display_data"
    }
   ],
   "source": [
    "with_all_three<-all_pattern[which(grepl(\"0\",all_pattern) & grepl(\"9\",all_pattern) & grepl(\"1\",all_pattern))]\n",
    "table(data_sub[data_sub$visit%in%with_all_three,\"visit\"])"
   ]
  },
  {
   "cell_type": "code",
   "execution_count": 329,
   "metadata": {
    "kernel": "R"
   },
   "outputs": [],
   "source": [
    "might_inconsistent<-c(do_not_know_no,do_not_know_yes,yes_no,with_all_three)"
   ]
  },
  {
   "cell_type": "markdown",
   "metadata": {
    "kernel": "R"
   },
   "source": [
    "## f.2257 Remove all the inconsistent"
   ]
  },
  {
   "cell_type": "code",
   "execution_count": 330,
   "metadata": {
    "kernel": "R"
   },
   "outputs": [
    {
     "name": "stdout",
     "output_type": "stream",
     "text": [
      "There are 529 NAs, removed"
     ]
    }
   ],
   "source": [
    "# get all the inconsistent cases:\n",
    "exceptions<-c(\"91\",\"911\",\"9111\",\"991\",\"9991\",\"0001\",\"001\",\"0011\",\"01\",\"011\",\"0111\", \"0091\", \"091\",\"0911\",\"9001\",\"901\",\"9011\")\n",
    "inconsistent<-setdiff(might_inconsistent,exceptions)\n",
    "\n",
    "cat(\"There are\",length(which(is.empty(data_sub$visit))),\"NAs, removed\")"
   ]
  },
  {
   "cell_type": "code",
   "execution_count": 331,
   "metadata": {
    "kernel": "R"
   },
   "outputs": [
    {
     "name": "stdout",
     "output_type": "stream",
     "text": [
      "There are 5175 inconsistent cases, removed"
     ]
    }
   ],
   "source": [
    "cat(\"There are\",length(which(data_sub$visit%in%inconsistent)),\"inconsistent cases, removed\")"
   ]
  },
  {
   "cell_type": "code",
   "execution_count": 332,
   "metadata": {
    "kernel": "R"
   },
   "outputs": [
    {
     "data": {
      "text/html": [
       "<style>\n",
       ".list-inline {list-style: none; margin:0; padding: 0}\n",
       ".list-inline>li {display: inline-block}\n",
       ".list-inline>li:not(:last-child)::after {content: \"\\00b7\"; padding: 0 .5ex}\n",
       "</style>\n",
       "<ol class=list-inline><li>384461</li><li>1</li></ol>\n"
      ],
      "text/latex": [
       "\\begin{enumerate*}\n",
       "\\item 384461\n",
       "\\item 1\n",
       "\\end{enumerate*}\n"
      ],
      "text/markdown": [
       "1. 384461\n",
       "2. 1\n",
       "\n",
       "\n"
      ],
      "text/plain": [
       "[1] 384461      1"
      ]
     },
     "metadata": {},
     "output_type": "display_data"
    }
   ],
   "source": [
    "# removed those NAs, consistent for do not know - 9 and inconsistent cases: \n",
    "IID_hearing_noise<-data_sub %>%\n",
    "  filter(!is.empty(visit)) %>%\n",
    "  filter((!visit%in%inconsistent)) %>%\n",
    "  filter((!visit%in%all_do_not_know)) %>%\n",
    "  select(IID)\n",
    "\n",
    "dim(IID_hearing_noise)"
   ]
  },
  {
   "cell_type": "code",
   "execution_count": 333,
   "metadata": {
    "kernel": "R"
   },
   "outputs": [
    {
     "name": "stdout",
     "output_type": "stream",
     "text": [
      "After removing all the NAs and inconsistent cases, there are 384461 cases left"
     ]
    }
   ],
   "source": [
    "IID_hearing_noise<-IID_hearing_noise[,1]\n",
    "cat(\"After removing all the NAs and inconsistent cases, there are\",length(IID_hearing_noise),\"cases left\")"
   ]
  },
  {
   "cell_type": "code",
   "execution_count": 334,
   "metadata": {
    "kernel": "R"
   },
   "outputs": [
    {
     "data": {
      "text/html": [
       "<style>\n",
       ".list-inline {list-style: none; margin:0; padding: 0}\n",
       ".list-inline>li {display: inline-block}\n",
       ".list-inline>li:not(:last-child)::after {content: \"\\00b7\"; padding: 0 .5ex}\n",
       "</style>\n",
       "<ol class=list-inline><li>384461</li><li>2275</li></ol>\n"
      ],
      "text/latex": [
       "\\begin{enumerate*}\n",
       "\\item 384461\n",
       "\\item 2275\n",
       "\\end{enumerate*}\n"
      ],
      "text/markdown": [
       "1. 384461\n",
       "2. 2275\n",
       "\n",
       "\n"
      ],
      "text/plain": [
       "[1] 384461   2275"
      ]
     },
     "metadata": {},
     "output_type": "display_data"
    }
   ],
   "source": [
    "# get the dataset after cleansing: \n",
    "df.hearing.noise<-df.final.imp %>%\n",
    "  filter(IID%in%IID_hearing_noise)\n",
    "\n",
    "dim(df.hearing.noise)"
   ]
  },
  {
   "cell_type": "markdown",
   "metadata": {
    "kernel": "R"
   },
   "source": [
    "## f.2257 Step 1 classify cases and controls"
   ]
  },
  {
   "cell_type": "code",
   "execution_count": 335,
   "metadata": {
    "kernel": "R"
   },
   "outputs": [
    {
     "data": {
      "text/html": [
       "<table>\n",
       "<caption>A data.frame: 6 × 11</caption>\n",
       "<thead>\n",
       "\t<tr><th></th><th scope=col>IID</th><th scope=col>FID</th><th scope=col>f.22001.0.0</th><th scope=col>f.21003.0.0</th><th scope=col>f.21003.1.0</th><th scope=col>f.21003.2.0</th><th scope=col>f.21003.3.0</th><th scope=col>f.2257.0.0_recode</th><th scope=col>f.2257.1.0_recode</th><th scope=col>f.2257.2.0_recode</th><th scope=col>f.2257.3.0_recode</th></tr>\n",
       "\t<tr><th></th><th scope=col>&lt;int&gt;</th><th scope=col>&lt;int&gt;</th><th scope=col>&lt;fct&gt;</th><th scope=col>&lt;int&gt;</th><th scope=col>&lt;int&gt;</th><th scope=col>&lt;int&gt;</th><th scope=col>&lt;int&gt;</th><th scope=col>&lt;fct&gt;</th><th scope=col>&lt;fct&gt;</th><th scope=col>&lt;fct&gt;</th><th scope=col>&lt;fct&gt;</th></tr>\n",
       "</thead>\n",
       "<tbody>\n",
       "\t<tr><th scope=row>1</th><td>1000019</td><td>1000019</td><td>Female</td><td>47</td><td>NA</td><td>NA</td><td>NA</td><td>1</td><td>NA</td><td>NA</td><td>NA</td></tr>\n",
       "\t<tr><th scope=row>2</th><td>1000022</td><td>1000022</td><td>Male  </td><td>53</td><td>NA</td><td>NA</td><td>NA</td><td>1</td><td>NA</td><td>NA</td><td>NA</td></tr>\n",
       "\t<tr><th scope=row>3</th><td>1000035</td><td>1000035</td><td>Male  </td><td>63</td><td>NA</td><td>NA</td><td>NA</td><td>1</td><td>NA</td><td>NA</td><td>NA</td></tr>\n",
       "\t<tr><th scope=row>4</th><td>1000046</td><td>1000046</td><td>Female</td><td>62</td><td>NA</td><td>73</td><td>NA</td><td>0</td><td>NA</td><td>1 </td><td>NA</td></tr>\n",
       "\t<tr><th scope=row>5</th><td>1000054</td><td>1000054</td><td>Female</td><td>65</td><td>NA</td><td>NA</td><td>NA</td><td>1</td><td>NA</td><td>NA</td><td>NA</td></tr>\n",
       "\t<tr><th scope=row>6</th><td>1000063</td><td>1000063</td><td>Male  </td><td>43</td><td>NA</td><td>NA</td><td>NA</td><td>0</td><td>NA</td><td>NA</td><td>NA</td></tr>\n",
       "</tbody>\n",
       "</table>\n"
      ],
      "text/latex": [
       "A data.frame: 6 × 11\n",
       "\\begin{tabular}{r|lllllllllll}\n",
       "  & IID & FID & f.22001.0.0 & f.21003.0.0 & f.21003.1.0 & f.21003.2.0 & f.21003.3.0 & f.2257.0.0\\_recode & f.2257.1.0\\_recode & f.2257.2.0\\_recode & f.2257.3.0\\_recode\\\\\n",
       "  & <int> & <int> & <fct> & <int> & <int> & <int> & <int> & <fct> & <fct> & <fct> & <fct>\\\\\n",
       "\\hline\n",
       "\t1 & 1000019 & 1000019 & Female & 47 & NA & NA & NA & 1 & NA & NA & NA\\\\\n",
       "\t2 & 1000022 & 1000022 & Male   & 53 & NA & NA & NA & 1 & NA & NA & NA\\\\\n",
       "\t3 & 1000035 & 1000035 & Male   & 63 & NA & NA & NA & 1 & NA & NA & NA\\\\\n",
       "\t4 & 1000046 & 1000046 & Female & 62 & NA & 73 & NA & 0 & NA & 1  & NA\\\\\n",
       "\t5 & 1000054 & 1000054 & Female & 65 & NA & NA & NA & 1 & NA & NA & NA\\\\\n",
       "\t6 & 1000063 & 1000063 & Male   & 43 & NA & NA & NA & 0 & NA & NA & NA\\\\\n",
       "\\end{tabular}\n"
      ],
      "text/markdown": [
       "\n",
       "A data.frame: 6 × 11\n",
       "\n",
       "| <!--/--> | IID &lt;int&gt; | FID &lt;int&gt; | f.22001.0.0 &lt;fct&gt; | f.21003.0.0 &lt;int&gt; | f.21003.1.0 &lt;int&gt; | f.21003.2.0 &lt;int&gt; | f.21003.3.0 &lt;int&gt; | f.2257.0.0_recode &lt;fct&gt; | f.2257.1.0_recode &lt;fct&gt; | f.2257.2.0_recode &lt;fct&gt; | f.2257.3.0_recode &lt;fct&gt; |\n",
       "|---|---|---|---|---|---|---|---|---|---|---|---|\n",
       "| 1 | 1000019 | 1000019 | Female | 47 | NA | NA | NA | 1 | NA | NA | NA |\n",
       "| 2 | 1000022 | 1000022 | Male   | 53 | NA | NA | NA | 1 | NA | NA | NA |\n",
       "| 3 | 1000035 | 1000035 | Male   | 63 | NA | NA | NA | 1 | NA | NA | NA |\n",
       "| 4 | 1000046 | 1000046 | Female | 62 | NA | 73 | NA | 0 | NA | 1  | NA |\n",
       "| 5 | 1000054 | 1000054 | Female | 65 | NA | NA | NA | 1 | NA | NA | NA |\n",
       "| 6 | 1000063 | 1000063 | Male   | 43 | NA | NA | NA | 0 | NA | NA | NA |\n",
       "\n"
      ],
      "text/plain": [
       "  IID     FID     f.22001.0.0 f.21003.0.0 f.21003.1.0 f.21003.2.0 f.21003.3.0\n",
       "1 1000019 1000019 Female      47          NA          NA          NA         \n",
       "2 1000022 1000022 Male        53          NA          NA          NA         \n",
       "3 1000035 1000035 Male        63          NA          NA          NA         \n",
       "4 1000046 1000046 Female      62          NA          73          NA         \n",
       "5 1000054 1000054 Female      65          NA          NA          NA         \n",
       "6 1000063 1000063 Male        43          NA          NA          NA         \n",
       "  f.2257.0.0_recode f.2257.1.0_recode f.2257.2.0_recode f.2257.3.0_recode\n",
       "1 1                 NA                NA                NA               \n",
       "2 1                 NA                NA                NA               \n",
       "3 1                 NA                NA                NA               \n",
       "4 0                 NA                1                 NA               \n",
       "5 1                 NA                NA                NA               \n",
       "6 0                 NA                NA                NA               "
      ]
     },
     "metadata": {},
     "output_type": "display_data"
    }
   ],
   "source": [
    "hearing_noise <- df.hearing.noise %>% \n",
    "  select(IID,FID,f.22001.0.0, f.21003.0.0,f.21003.1.0,f.21003.2.0,f.21003.3.0,f.2257.0.0_recode,f.2257.1.0_recode,f.2257.2.0_recode,f.2257.3.0_recode)\n",
    "head(hearing_noise)"
   ]
  },
  {
   "cell_type": "code",
   "execution_count": 336,
   "metadata": {
    "kernel": "R"
   },
   "outputs": [
    {
     "data": {
      "text/html": [
       "<table>\n",
       "<caption>A data.frame: 10 × 12</caption>\n",
       "<thead>\n",
       "\t<tr><th></th><th scope=col>IID</th><th scope=col>FID</th><th scope=col>f.22001.0.0</th><th scope=col>f.21003.0.0</th><th scope=col>f.21003.1.0</th><th scope=col>f.21003.2.0</th><th scope=col>f.21003.3.0</th><th scope=col>f.2257.0.0_recode</th><th scope=col>f.2257.1.0_recode</th><th scope=col>f.2257.2.0_recode</th><th scope=col>f.2257.3.0_recode</th><th scope=col>cases</th></tr>\n",
       "\t<tr><th></th><th scope=col>&lt;int&gt;</th><th scope=col>&lt;int&gt;</th><th scope=col>&lt;fct&gt;</th><th scope=col>&lt;int&gt;</th><th scope=col>&lt;int&gt;</th><th scope=col>&lt;int&gt;</th><th scope=col>&lt;int&gt;</th><th scope=col>&lt;fct&gt;</th><th scope=col>&lt;fct&gt;</th><th scope=col>&lt;fct&gt;</th><th scope=col>&lt;fct&gt;</th><th scope=col>&lt;lgl&gt;</th></tr>\n",
       "</thead>\n",
       "<tbody>\n",
       "\t<tr><th scope=row>1</th><td>1000019</td><td>1000019</td><td>Female</td><td>47</td><td>NA</td><td>NA</td><td>NA</td><td>1</td><td>NA</td><td>NA</td><td>NA</td><td> TRUE</td></tr>\n",
       "\t<tr><th scope=row>2</th><td>1000022</td><td>1000022</td><td>Male  </td><td>53</td><td>NA</td><td>NA</td><td>NA</td><td>1</td><td>NA</td><td>NA</td><td>NA</td><td> TRUE</td></tr>\n",
       "\t<tr><th scope=row>3</th><td>1000035</td><td>1000035</td><td>Male  </td><td>63</td><td>NA</td><td>NA</td><td>NA</td><td>1</td><td>NA</td><td>NA</td><td>NA</td><td> TRUE</td></tr>\n",
       "\t<tr><th scope=row>4</th><td>1000046</td><td>1000046</td><td>Female</td><td>62</td><td>NA</td><td>73</td><td>NA</td><td>0</td><td>NA</td><td>1 </td><td>NA</td><td> TRUE</td></tr>\n",
       "\t<tr><th scope=row>5</th><td>1000054</td><td>1000054</td><td>Female</td><td>65</td><td>NA</td><td>NA</td><td>NA</td><td>1</td><td>NA</td><td>NA</td><td>NA</td><td> TRUE</td></tr>\n",
       "\t<tr><th scope=row>6</th><td>1000063</td><td>1000063</td><td>Male  </td><td>43</td><td>NA</td><td>NA</td><td>NA</td><td>0</td><td>NA</td><td>NA</td><td>NA</td><td>FALSE</td></tr>\n",
       "\t<tr><th scope=row>7</th><td>1000078</td><td>1000078</td><td>Female</td><td>52</td><td>57</td><td>60</td><td>NA</td><td>0</td><td>0 </td><td>0 </td><td>NA</td><td>FALSE</td></tr>\n",
       "\t<tr><th scope=row>8</th><td>1000081</td><td>1000081</td><td>Male  </td><td>67</td><td>NA</td><td>NA</td><td>NA</td><td>0</td><td>NA</td><td>NA</td><td>NA</td><td>FALSE</td></tr>\n",
       "\t<tr><th scope=row>9</th><td>1000090</td><td>1000090</td><td>Female</td><td>64</td><td>NA</td><td>NA</td><td>NA</td><td>0</td><td>NA</td><td>NA</td><td>NA</td><td>FALSE</td></tr>\n",
       "\t<tr><th scope=row>10</th><td>1000105</td><td>1000105</td><td>Female</td><td>54</td><td>NA</td><td>NA</td><td>NA</td><td>1</td><td>NA</td><td>NA</td><td>NA</td><td> TRUE</td></tr>\n",
       "</tbody>\n",
       "</table>\n"
      ],
      "text/latex": [
       "A data.frame: 10 × 12\n",
       "\\begin{tabular}{r|llllllllllll}\n",
       "  & IID & FID & f.22001.0.0 & f.21003.0.0 & f.21003.1.0 & f.21003.2.0 & f.21003.3.0 & f.2257.0.0\\_recode & f.2257.1.0\\_recode & f.2257.2.0\\_recode & f.2257.3.0\\_recode & cases\\\\\n",
       "  & <int> & <int> & <fct> & <int> & <int> & <int> & <int> & <fct> & <fct> & <fct> & <fct> & <lgl>\\\\\n",
       "\\hline\n",
       "\t1 & 1000019 & 1000019 & Female & 47 & NA & NA & NA & 1 & NA & NA & NA &  TRUE\\\\\n",
       "\t2 & 1000022 & 1000022 & Male   & 53 & NA & NA & NA & 1 & NA & NA & NA &  TRUE\\\\\n",
       "\t3 & 1000035 & 1000035 & Male   & 63 & NA & NA & NA & 1 & NA & NA & NA &  TRUE\\\\\n",
       "\t4 & 1000046 & 1000046 & Female & 62 & NA & 73 & NA & 0 & NA & 1  & NA &  TRUE\\\\\n",
       "\t5 & 1000054 & 1000054 & Female & 65 & NA & NA & NA & 1 & NA & NA & NA &  TRUE\\\\\n",
       "\t6 & 1000063 & 1000063 & Male   & 43 & NA & NA & NA & 0 & NA & NA & NA & FALSE\\\\\n",
       "\t7 & 1000078 & 1000078 & Female & 52 & 57 & 60 & NA & 0 & 0  & 0  & NA & FALSE\\\\\n",
       "\t8 & 1000081 & 1000081 & Male   & 67 & NA & NA & NA & 0 & NA & NA & NA & FALSE\\\\\n",
       "\t9 & 1000090 & 1000090 & Female & 64 & NA & NA & NA & 0 & NA & NA & NA & FALSE\\\\\n",
       "\t10 & 1000105 & 1000105 & Female & 54 & NA & NA & NA & 1 & NA & NA & NA &  TRUE\\\\\n",
       "\\end{tabular}\n"
      ],
      "text/markdown": [
       "\n",
       "A data.frame: 10 × 12\n",
       "\n",
       "| <!--/--> | IID &lt;int&gt; | FID &lt;int&gt; | f.22001.0.0 &lt;fct&gt; | f.21003.0.0 &lt;int&gt; | f.21003.1.0 &lt;int&gt; | f.21003.2.0 &lt;int&gt; | f.21003.3.0 &lt;int&gt; | f.2257.0.0_recode &lt;fct&gt; | f.2257.1.0_recode &lt;fct&gt; | f.2257.2.0_recode &lt;fct&gt; | f.2257.3.0_recode &lt;fct&gt; | cases &lt;lgl&gt; |\n",
       "|---|---|---|---|---|---|---|---|---|---|---|---|---|\n",
       "| 1 | 1000019 | 1000019 | Female | 47 | NA | NA | NA | 1 | NA | NA | NA |  TRUE |\n",
       "| 2 | 1000022 | 1000022 | Male   | 53 | NA | NA | NA | 1 | NA | NA | NA |  TRUE |\n",
       "| 3 | 1000035 | 1000035 | Male   | 63 | NA | NA | NA | 1 | NA | NA | NA |  TRUE |\n",
       "| 4 | 1000046 | 1000046 | Female | 62 | NA | 73 | NA | 0 | NA | 1  | NA |  TRUE |\n",
       "| 5 | 1000054 | 1000054 | Female | 65 | NA | NA | NA | 1 | NA | NA | NA |  TRUE |\n",
       "| 6 | 1000063 | 1000063 | Male   | 43 | NA | NA | NA | 0 | NA | NA | NA | FALSE |\n",
       "| 7 | 1000078 | 1000078 | Female | 52 | 57 | 60 | NA | 0 | 0  | 0  | NA | FALSE |\n",
       "| 8 | 1000081 | 1000081 | Male   | 67 | NA | NA | NA | 0 | NA | NA | NA | FALSE |\n",
       "| 9 | 1000090 | 1000090 | Female | 64 | NA | NA | NA | 0 | NA | NA | NA | FALSE |\n",
       "| 10 | 1000105 | 1000105 | Female | 54 | NA | NA | NA | 1 | NA | NA | NA |  TRUE |\n",
       "\n"
      ],
      "text/plain": [
       "   IID     FID     f.22001.0.0 f.21003.0.0 f.21003.1.0 f.21003.2.0 f.21003.3.0\n",
       "1  1000019 1000019 Female      47          NA          NA          NA         \n",
       "2  1000022 1000022 Male        53          NA          NA          NA         \n",
       "3  1000035 1000035 Male        63          NA          NA          NA         \n",
       "4  1000046 1000046 Female      62          NA          73          NA         \n",
       "5  1000054 1000054 Female      65          NA          NA          NA         \n",
       "6  1000063 1000063 Male        43          NA          NA          NA         \n",
       "7  1000078 1000078 Female      52          57          60          NA         \n",
       "8  1000081 1000081 Male        67          NA          NA          NA         \n",
       "9  1000090 1000090 Female      64          NA          NA          NA         \n",
       "10 1000105 1000105 Female      54          NA          NA          NA         \n",
       "   f.2257.0.0_recode f.2257.1.0_recode f.2257.2.0_recode f.2257.3.0_recode\n",
       "1  1                 NA                NA                NA               \n",
       "2  1                 NA                NA                NA               \n",
       "3  1                 NA                NA                NA               \n",
       "4  0                 NA                1                 NA               \n",
       "5  1                 NA                NA                NA               \n",
       "6  0                 NA                NA                NA               \n",
       "7  0                 0                 0                 NA               \n",
       "8  0                 NA                NA                NA               \n",
       "9  0                 NA                NA                NA               \n",
       "10 1                 NA                NA                NA               \n",
       "   cases\n",
       "1   TRUE\n",
       "2   TRUE\n",
       "3   TRUE\n",
       "4   TRUE\n",
       "5   TRUE\n",
       "6  FALSE\n",
       "7  FALSE\n",
       "8  FALSE\n",
       "9  FALSE\n",
       "10  TRUE"
      ]
     },
     "metadata": {},
     "output_type": "display_data"
    }
   ],
   "source": [
    "data_sub <- select(hearing_noise,starts_with(\"f.2257\"))\n",
    "\n",
    "# Function to define cases\n",
    "f<-function(x){\n",
    "  visit<-c()\n",
    "  for (i in 1:4){\n",
    "    if (!is.na(x[i]))\n",
    "    {visit<-c(visit,x[i])}\n",
    "  }\n",
    "  if (\"1\" %in% visit){result= TRUE}\n",
    "  else{result=FALSE}\n",
    "  return (result)\n",
    "}\n",
    "\n",
    "# Apply the above function\n",
    "hearing_noise$cases<-apply(data_sub, 1, f)\n",
    "head(hearing_noise,10)"
   ]
  },
  {
   "cell_type": "code",
   "execution_count": 337,
   "metadata": {
    "kernel": "R"
   },
   "outputs": [
    {
     "data": {
      "text/html": [
       "<table>\n",
       "<caption>A data.frame: 6 × 12</caption>\n",
       "<thead>\n",
       "\t<tr><th></th><th scope=col>IID</th><th scope=col>FID</th><th scope=col>f.22001.0.0</th><th scope=col>f.21003.0.0</th><th scope=col>f.21003.1.0</th><th scope=col>f.21003.2.0</th><th scope=col>f.21003.3.0</th><th scope=col>f.2257.0.0_recode</th><th scope=col>f.2257.1.0_recode</th><th scope=col>f.2257.2.0_recode</th><th scope=col>f.2257.3.0_recode</th><th scope=col>cases</th></tr>\n",
       "\t<tr><th></th><th scope=col>&lt;int&gt;</th><th scope=col>&lt;int&gt;</th><th scope=col>&lt;fct&gt;</th><th scope=col>&lt;int&gt;</th><th scope=col>&lt;int&gt;</th><th scope=col>&lt;int&gt;</th><th scope=col>&lt;int&gt;</th><th scope=col>&lt;fct&gt;</th><th scope=col>&lt;fct&gt;</th><th scope=col>&lt;fct&gt;</th><th scope=col>&lt;fct&gt;</th><th scope=col>&lt;lgl&gt;</th></tr>\n",
       "</thead>\n",
       "<tbody>\n",
       "\t<tr><th scope=row>1</th><td>1000019</td><td>1000019</td><td>Female</td><td>47</td><td>NA</td><td>NA</td><td>NA</td><td>1</td><td>NA</td><td>NA</td><td>NA</td><td>TRUE</td></tr>\n",
       "\t<tr><th scope=row>2</th><td>1000022</td><td>1000022</td><td>Male  </td><td>53</td><td>NA</td><td>NA</td><td>NA</td><td>1</td><td>NA</td><td>NA</td><td>NA</td><td>TRUE</td></tr>\n",
       "\t<tr><th scope=row>3</th><td>1000035</td><td>1000035</td><td>Male  </td><td>63</td><td>NA</td><td>NA</td><td>NA</td><td>1</td><td>NA</td><td>NA</td><td>NA</td><td>TRUE</td></tr>\n",
       "\t<tr><th scope=row>4</th><td>1000046</td><td>1000046</td><td>Female</td><td>62</td><td>NA</td><td>73</td><td>NA</td><td>0</td><td>NA</td><td>1 </td><td>NA</td><td>TRUE</td></tr>\n",
       "\t<tr><th scope=row>5</th><td>1000054</td><td>1000054</td><td>Female</td><td>65</td><td>NA</td><td>NA</td><td>NA</td><td>1</td><td>NA</td><td>NA</td><td>NA</td><td>TRUE</td></tr>\n",
       "\t<tr><th scope=row>6</th><td>1000105</td><td>1000105</td><td>Female</td><td>54</td><td>NA</td><td>NA</td><td>NA</td><td>1</td><td>NA</td><td>NA</td><td>NA</td><td>TRUE</td></tr>\n",
       "</tbody>\n",
       "</table>\n"
      ],
      "text/latex": [
       "A data.frame: 6 × 12\n",
       "\\begin{tabular}{r|llllllllllll}\n",
       "  & IID & FID & f.22001.0.0 & f.21003.0.0 & f.21003.1.0 & f.21003.2.0 & f.21003.3.0 & f.2257.0.0\\_recode & f.2257.1.0\\_recode & f.2257.2.0\\_recode & f.2257.3.0\\_recode & cases\\\\\n",
       "  & <int> & <int> & <fct> & <int> & <int> & <int> & <int> & <fct> & <fct> & <fct> & <fct> & <lgl>\\\\\n",
       "\\hline\n",
       "\t1 & 1000019 & 1000019 & Female & 47 & NA & NA & NA & 1 & NA & NA & NA & TRUE\\\\\n",
       "\t2 & 1000022 & 1000022 & Male   & 53 & NA & NA & NA & 1 & NA & NA & NA & TRUE\\\\\n",
       "\t3 & 1000035 & 1000035 & Male   & 63 & NA & NA & NA & 1 & NA & NA & NA & TRUE\\\\\n",
       "\t4 & 1000046 & 1000046 & Female & 62 & NA & 73 & NA & 0 & NA & 1  & NA & TRUE\\\\\n",
       "\t5 & 1000054 & 1000054 & Female & 65 & NA & NA & NA & 1 & NA & NA & NA & TRUE\\\\\n",
       "\t6 & 1000105 & 1000105 & Female & 54 & NA & NA & NA & 1 & NA & NA & NA & TRUE\\\\\n",
       "\\end{tabular}\n"
      ],
      "text/markdown": [
       "\n",
       "A data.frame: 6 × 12\n",
       "\n",
       "| <!--/--> | IID &lt;int&gt; | FID &lt;int&gt; | f.22001.0.0 &lt;fct&gt; | f.21003.0.0 &lt;int&gt; | f.21003.1.0 &lt;int&gt; | f.21003.2.0 &lt;int&gt; | f.21003.3.0 &lt;int&gt; | f.2257.0.0_recode &lt;fct&gt; | f.2257.1.0_recode &lt;fct&gt; | f.2257.2.0_recode &lt;fct&gt; | f.2257.3.0_recode &lt;fct&gt; | cases &lt;lgl&gt; |\n",
       "|---|---|---|---|---|---|---|---|---|---|---|---|---|\n",
       "| 1 | 1000019 | 1000019 | Female | 47 | NA | NA | NA | 1 | NA | NA | NA | TRUE |\n",
       "| 2 | 1000022 | 1000022 | Male   | 53 | NA | NA | NA | 1 | NA | NA | NA | TRUE |\n",
       "| 3 | 1000035 | 1000035 | Male   | 63 | NA | NA | NA | 1 | NA | NA | NA | TRUE |\n",
       "| 4 | 1000046 | 1000046 | Female | 62 | NA | 73 | NA | 0 | NA | 1  | NA | TRUE |\n",
       "| 5 | 1000054 | 1000054 | Female | 65 | NA | NA | NA | 1 | NA | NA | NA | TRUE |\n",
       "| 6 | 1000105 | 1000105 | Female | 54 | NA | NA | NA | 1 | NA | NA | NA | TRUE |\n",
       "\n"
      ],
      "text/plain": [
       "  IID     FID     f.22001.0.0 f.21003.0.0 f.21003.1.0 f.21003.2.0 f.21003.3.0\n",
       "1 1000019 1000019 Female      47          NA          NA          NA         \n",
       "2 1000022 1000022 Male        53          NA          NA          NA         \n",
       "3 1000035 1000035 Male        63          NA          NA          NA         \n",
       "4 1000046 1000046 Female      62          NA          73          NA         \n",
       "5 1000054 1000054 Female      65          NA          NA          NA         \n",
       "6 1000105 1000105 Female      54          NA          NA          NA         \n",
       "  f.2257.0.0_recode f.2257.1.0_recode f.2257.2.0_recode f.2257.3.0_recode cases\n",
       "1 1                 NA                NA                NA                TRUE \n",
       "2 1                 NA                NA                NA                TRUE \n",
       "3 1                 NA                NA                NA                TRUE \n",
       "4 0                 NA                1                 NA                TRUE \n",
       "5 1                 NA                NA                NA                TRUE \n",
       "6 1                 NA                NA                NA                TRUE "
      ]
     },
     "metadata": {},
     "output_type": "display_data"
    },
    {
     "name": "stdout",
     "output_type": "stream",
     "text": [
      "148654 individuals are cases for f.2257"
     ]
    }
   ],
   "source": [
    "hearing_noise_cases <- hearing_noise %>% \n",
    "  filter(cases == TRUE)\n",
    "head(hearing_noise_cases)\n",
    "cat(dim(hearing_noise_cases)[1], \"individuals are cases for f.2257\")"
   ]
  },
  {
   "cell_type": "code",
   "execution_count": 338,
   "metadata": {
    "kernel": "R"
   },
   "outputs": [
    {
     "data": {
      "text/html": [
       "<table>\n",
       "<caption>A data.frame: 6 × 12</caption>\n",
       "<thead>\n",
       "\t<tr><th></th><th scope=col>IID</th><th scope=col>FID</th><th scope=col>f.22001.0.0</th><th scope=col>f.21003.0.0</th><th scope=col>f.21003.1.0</th><th scope=col>f.21003.2.0</th><th scope=col>f.21003.3.0</th><th scope=col>f.2257.0.0_recode</th><th scope=col>f.2257.1.0_recode</th><th scope=col>f.2257.2.0_recode</th><th scope=col>f.2257.3.0_recode</th><th scope=col>cases</th></tr>\n",
       "\t<tr><th></th><th scope=col>&lt;int&gt;</th><th scope=col>&lt;int&gt;</th><th scope=col>&lt;fct&gt;</th><th scope=col>&lt;int&gt;</th><th scope=col>&lt;int&gt;</th><th scope=col>&lt;int&gt;</th><th scope=col>&lt;int&gt;</th><th scope=col>&lt;fct&gt;</th><th scope=col>&lt;fct&gt;</th><th scope=col>&lt;fct&gt;</th><th scope=col>&lt;fct&gt;</th><th scope=col>&lt;lgl&gt;</th></tr>\n",
       "</thead>\n",
       "<tbody>\n",
       "\t<tr><th scope=row>1</th><td>1000063</td><td>1000063</td><td>Male  </td><td>43</td><td>NA</td><td>NA</td><td>NA</td><td>0</td><td>NA</td><td>NA</td><td>NA</td><td>FALSE</td></tr>\n",
       "\t<tr><th scope=row>2</th><td>1000078</td><td>1000078</td><td>Female</td><td>52</td><td>57</td><td>60</td><td>NA</td><td>0</td><td>0 </td><td>0 </td><td>NA</td><td>FALSE</td></tr>\n",
       "\t<tr><th scope=row>3</th><td>1000081</td><td>1000081</td><td>Male  </td><td>67</td><td>NA</td><td>NA</td><td>NA</td><td>0</td><td>NA</td><td>NA</td><td>NA</td><td>FALSE</td></tr>\n",
       "\t<tr><th scope=row>4</th><td>1000090</td><td>1000090</td><td>Female</td><td>64</td><td>NA</td><td>NA</td><td>NA</td><td>0</td><td>NA</td><td>NA</td><td>NA</td><td>FALSE</td></tr>\n",
       "\t<tr><th scope=row>5</th><td>1000129</td><td>1000129</td><td>Male  </td><td>62</td><td>NA</td><td>NA</td><td>NA</td><td>0</td><td>NA</td><td>NA</td><td>NA</td><td>FALSE</td></tr>\n",
       "\t<tr><th scope=row>6</th><td>1000137</td><td>1000137</td><td>Female</td><td>46</td><td>NA</td><td>NA</td><td>NA</td><td>0</td><td>NA</td><td>NA</td><td>NA</td><td>FALSE</td></tr>\n",
       "</tbody>\n",
       "</table>\n"
      ],
      "text/latex": [
       "A data.frame: 6 × 12\n",
       "\\begin{tabular}{r|llllllllllll}\n",
       "  & IID & FID & f.22001.0.0 & f.21003.0.0 & f.21003.1.0 & f.21003.2.0 & f.21003.3.0 & f.2257.0.0\\_recode & f.2257.1.0\\_recode & f.2257.2.0\\_recode & f.2257.3.0\\_recode & cases\\\\\n",
       "  & <int> & <int> & <fct> & <int> & <int> & <int> & <int> & <fct> & <fct> & <fct> & <fct> & <lgl>\\\\\n",
       "\\hline\n",
       "\t1 & 1000063 & 1000063 & Male   & 43 & NA & NA & NA & 0 & NA & NA & NA & FALSE\\\\\n",
       "\t2 & 1000078 & 1000078 & Female & 52 & 57 & 60 & NA & 0 & 0  & 0  & NA & FALSE\\\\\n",
       "\t3 & 1000081 & 1000081 & Male   & 67 & NA & NA & NA & 0 & NA & NA & NA & FALSE\\\\\n",
       "\t4 & 1000090 & 1000090 & Female & 64 & NA & NA & NA & 0 & NA & NA & NA & FALSE\\\\\n",
       "\t5 & 1000129 & 1000129 & Male   & 62 & NA & NA & NA & 0 & NA & NA & NA & FALSE\\\\\n",
       "\t6 & 1000137 & 1000137 & Female & 46 & NA & NA & NA & 0 & NA & NA & NA & FALSE\\\\\n",
       "\\end{tabular}\n"
      ],
      "text/markdown": [
       "\n",
       "A data.frame: 6 × 12\n",
       "\n",
       "| <!--/--> | IID &lt;int&gt; | FID &lt;int&gt; | f.22001.0.0 &lt;fct&gt; | f.21003.0.0 &lt;int&gt; | f.21003.1.0 &lt;int&gt; | f.21003.2.0 &lt;int&gt; | f.21003.3.0 &lt;int&gt; | f.2257.0.0_recode &lt;fct&gt; | f.2257.1.0_recode &lt;fct&gt; | f.2257.2.0_recode &lt;fct&gt; | f.2257.3.0_recode &lt;fct&gt; | cases &lt;lgl&gt; |\n",
       "|---|---|---|---|---|---|---|---|---|---|---|---|---|\n",
       "| 1 | 1000063 | 1000063 | Male   | 43 | NA | NA | NA | 0 | NA | NA | NA | FALSE |\n",
       "| 2 | 1000078 | 1000078 | Female | 52 | 57 | 60 | NA | 0 | 0  | 0  | NA | FALSE |\n",
       "| 3 | 1000081 | 1000081 | Male   | 67 | NA | NA | NA | 0 | NA | NA | NA | FALSE |\n",
       "| 4 | 1000090 | 1000090 | Female | 64 | NA | NA | NA | 0 | NA | NA | NA | FALSE |\n",
       "| 5 | 1000129 | 1000129 | Male   | 62 | NA | NA | NA | 0 | NA | NA | NA | FALSE |\n",
       "| 6 | 1000137 | 1000137 | Female | 46 | NA | NA | NA | 0 | NA | NA | NA | FALSE |\n",
       "\n"
      ],
      "text/plain": [
       "  IID     FID     f.22001.0.0 f.21003.0.0 f.21003.1.0 f.21003.2.0 f.21003.3.0\n",
       "1 1000063 1000063 Male        43          NA          NA          NA         \n",
       "2 1000078 1000078 Female      52          57          60          NA         \n",
       "3 1000081 1000081 Male        67          NA          NA          NA         \n",
       "4 1000090 1000090 Female      64          NA          NA          NA         \n",
       "5 1000129 1000129 Male        62          NA          NA          NA         \n",
       "6 1000137 1000137 Female      46          NA          NA          NA         \n",
       "  f.2257.0.0_recode f.2257.1.0_recode f.2257.2.0_recode f.2257.3.0_recode cases\n",
       "1 0                 NA                NA                NA                FALSE\n",
       "2 0                 0                 0                 NA                FALSE\n",
       "3 0                 NA                NA                NA                FALSE\n",
       "4 0                 NA                NA                NA                FALSE\n",
       "5 0                 NA                NA                NA                FALSE\n",
       "6 0                 NA                NA                NA                FALSE"
      ]
     },
     "metadata": {},
     "output_type": "display_data"
    },
    {
     "name": "stdout",
     "output_type": "stream",
     "text": [
      "235807 individuals are controls for f.2257"
     ]
    }
   ],
   "source": [
    "hearing_noise_controls <- hearing_noise %>% \n",
    "  filter(cases == FALSE)\n",
    "head(hearing_noise_controls)\n",
    "cat(dim(hearing_noise_controls)[1], \"individuals are controls for f.2257\")"
   ]
  },
  {
   "cell_type": "code",
   "execution_count": 339,
   "metadata": {
    "kernel": "R"
   },
   "outputs": [
    {
     "data": {
      "text/html": [
       "0"
      ],
      "text/latex": [
       "0"
      ],
      "text/markdown": [
       "0"
      ],
      "text/plain": [
       "[1] 0"
      ]
     },
     "metadata": {},
     "output_type": "display_data"
    }
   ],
   "source": [
    "dim(hearing_noise)[1]-nrow(hearing_noise_cases) - nrow(hearing_noise_controls )"
   ]
  },
  {
   "cell_type": "markdown",
   "metadata": {
    "kernel": "R"
   },
   "source": [
    "## f.2257 Recode cases=1 and controls=0"
   ]
  },
  {
   "cell_type": "code",
   "execution_count": 340,
   "metadata": {
    "kernel": "R"
   },
   "outputs": [
    {
     "data": {
      "text/html": [
       "<table>\n",
       "<caption>A data.frame: 10 × 13</caption>\n",
       "<thead>\n",
       "\t<tr><th></th><th scope=col>IID</th><th scope=col>FID</th><th scope=col>f.22001.0.0</th><th scope=col>f.21003.0.0</th><th scope=col>f.21003.1.0</th><th scope=col>f.21003.2.0</th><th scope=col>f.21003.3.0</th><th scope=col>f.2257.0.0_recode</th><th scope=col>f.2257.1.0_recode</th><th scope=col>f.2257.2.0_recode</th><th scope=col>f.2257.3.0_recode</th><th scope=col>cases</th><th scope=col>hearing_noise_cat</th></tr>\n",
       "\t<tr><th></th><th scope=col>&lt;int&gt;</th><th scope=col>&lt;int&gt;</th><th scope=col>&lt;fct&gt;</th><th scope=col>&lt;int&gt;</th><th scope=col>&lt;int&gt;</th><th scope=col>&lt;int&gt;</th><th scope=col>&lt;int&gt;</th><th scope=col>&lt;fct&gt;</th><th scope=col>&lt;fct&gt;</th><th scope=col>&lt;fct&gt;</th><th scope=col>&lt;fct&gt;</th><th scope=col>&lt;lgl&gt;</th><th scope=col>&lt;int&gt;</th></tr>\n",
       "</thead>\n",
       "<tbody>\n",
       "\t<tr><th scope=row>1</th><td>1000019</td><td>1000019</td><td>Female</td><td>47</td><td>NA</td><td>NA</td><td>NA</td><td>1</td><td>NA</td><td>NA</td><td>NA</td><td> TRUE</td><td>1</td></tr>\n",
       "\t<tr><th scope=row>2</th><td>1000022</td><td>1000022</td><td>Male  </td><td>53</td><td>NA</td><td>NA</td><td>NA</td><td>1</td><td>NA</td><td>NA</td><td>NA</td><td> TRUE</td><td>1</td></tr>\n",
       "\t<tr><th scope=row>3</th><td>1000035</td><td>1000035</td><td>Male  </td><td>63</td><td>NA</td><td>NA</td><td>NA</td><td>1</td><td>NA</td><td>NA</td><td>NA</td><td> TRUE</td><td>1</td></tr>\n",
       "\t<tr><th scope=row>4</th><td>1000046</td><td>1000046</td><td>Female</td><td>62</td><td>NA</td><td>73</td><td>NA</td><td>0</td><td>NA</td><td>1 </td><td>NA</td><td> TRUE</td><td>1</td></tr>\n",
       "\t<tr><th scope=row>5</th><td>1000054</td><td>1000054</td><td>Female</td><td>65</td><td>NA</td><td>NA</td><td>NA</td><td>1</td><td>NA</td><td>NA</td><td>NA</td><td> TRUE</td><td>1</td></tr>\n",
       "\t<tr><th scope=row>6</th><td>1000063</td><td>1000063</td><td>Male  </td><td>43</td><td>NA</td><td>NA</td><td>NA</td><td>0</td><td>NA</td><td>NA</td><td>NA</td><td>FALSE</td><td>0</td></tr>\n",
       "\t<tr><th scope=row>7</th><td>1000078</td><td>1000078</td><td>Female</td><td>52</td><td>57</td><td>60</td><td>NA</td><td>0</td><td>0 </td><td>0 </td><td>NA</td><td>FALSE</td><td>0</td></tr>\n",
       "\t<tr><th scope=row>8</th><td>1000081</td><td>1000081</td><td>Male  </td><td>67</td><td>NA</td><td>NA</td><td>NA</td><td>0</td><td>NA</td><td>NA</td><td>NA</td><td>FALSE</td><td>0</td></tr>\n",
       "\t<tr><th scope=row>9</th><td>1000090</td><td>1000090</td><td>Female</td><td>64</td><td>NA</td><td>NA</td><td>NA</td><td>0</td><td>NA</td><td>NA</td><td>NA</td><td>FALSE</td><td>0</td></tr>\n",
       "\t<tr><th scope=row>10</th><td>1000105</td><td>1000105</td><td>Female</td><td>54</td><td>NA</td><td>NA</td><td>NA</td><td>1</td><td>NA</td><td>NA</td><td>NA</td><td> TRUE</td><td>1</td></tr>\n",
       "</tbody>\n",
       "</table>\n"
      ],
      "text/latex": [
       "A data.frame: 10 × 13\n",
       "\\begin{tabular}{r|lllllllllllll}\n",
       "  & IID & FID & f.22001.0.0 & f.21003.0.0 & f.21003.1.0 & f.21003.2.0 & f.21003.3.0 & f.2257.0.0\\_recode & f.2257.1.0\\_recode & f.2257.2.0\\_recode & f.2257.3.0\\_recode & cases & hearing\\_noise\\_cat\\\\\n",
       "  & <int> & <int> & <fct> & <int> & <int> & <int> & <int> & <fct> & <fct> & <fct> & <fct> & <lgl> & <int>\\\\\n",
       "\\hline\n",
       "\t1 & 1000019 & 1000019 & Female & 47 & NA & NA & NA & 1 & NA & NA & NA &  TRUE & 1\\\\\n",
       "\t2 & 1000022 & 1000022 & Male   & 53 & NA & NA & NA & 1 & NA & NA & NA &  TRUE & 1\\\\\n",
       "\t3 & 1000035 & 1000035 & Male   & 63 & NA & NA & NA & 1 & NA & NA & NA &  TRUE & 1\\\\\n",
       "\t4 & 1000046 & 1000046 & Female & 62 & NA & 73 & NA & 0 & NA & 1  & NA &  TRUE & 1\\\\\n",
       "\t5 & 1000054 & 1000054 & Female & 65 & NA & NA & NA & 1 & NA & NA & NA &  TRUE & 1\\\\\n",
       "\t6 & 1000063 & 1000063 & Male   & 43 & NA & NA & NA & 0 & NA & NA & NA & FALSE & 0\\\\\n",
       "\t7 & 1000078 & 1000078 & Female & 52 & 57 & 60 & NA & 0 & 0  & 0  & NA & FALSE & 0\\\\\n",
       "\t8 & 1000081 & 1000081 & Male   & 67 & NA & NA & NA & 0 & NA & NA & NA & FALSE & 0\\\\\n",
       "\t9 & 1000090 & 1000090 & Female & 64 & NA & NA & NA & 0 & NA & NA & NA & FALSE & 0\\\\\n",
       "\t10 & 1000105 & 1000105 & Female & 54 & NA & NA & NA & 1 & NA & NA & NA &  TRUE & 1\\\\\n",
       "\\end{tabular}\n"
      ],
      "text/markdown": [
       "\n",
       "A data.frame: 10 × 13\n",
       "\n",
       "| <!--/--> | IID &lt;int&gt; | FID &lt;int&gt; | f.22001.0.0 &lt;fct&gt; | f.21003.0.0 &lt;int&gt; | f.21003.1.0 &lt;int&gt; | f.21003.2.0 &lt;int&gt; | f.21003.3.0 &lt;int&gt; | f.2257.0.0_recode &lt;fct&gt; | f.2257.1.0_recode &lt;fct&gt; | f.2257.2.0_recode &lt;fct&gt; | f.2257.3.0_recode &lt;fct&gt; | cases &lt;lgl&gt; | hearing_noise_cat &lt;int&gt; |\n",
       "|---|---|---|---|---|---|---|---|---|---|---|---|---|---|\n",
       "| 1 | 1000019 | 1000019 | Female | 47 | NA | NA | NA | 1 | NA | NA | NA |  TRUE | 1 |\n",
       "| 2 | 1000022 | 1000022 | Male   | 53 | NA | NA | NA | 1 | NA | NA | NA |  TRUE | 1 |\n",
       "| 3 | 1000035 | 1000035 | Male   | 63 | NA | NA | NA | 1 | NA | NA | NA |  TRUE | 1 |\n",
       "| 4 | 1000046 | 1000046 | Female | 62 | NA | 73 | NA | 0 | NA | 1  | NA |  TRUE | 1 |\n",
       "| 5 | 1000054 | 1000054 | Female | 65 | NA | NA | NA | 1 | NA | NA | NA |  TRUE | 1 |\n",
       "| 6 | 1000063 | 1000063 | Male   | 43 | NA | NA | NA | 0 | NA | NA | NA | FALSE | 0 |\n",
       "| 7 | 1000078 | 1000078 | Female | 52 | 57 | 60 | NA | 0 | 0  | 0  | NA | FALSE | 0 |\n",
       "| 8 | 1000081 | 1000081 | Male   | 67 | NA | NA | NA | 0 | NA | NA | NA | FALSE | 0 |\n",
       "| 9 | 1000090 | 1000090 | Female | 64 | NA | NA | NA | 0 | NA | NA | NA | FALSE | 0 |\n",
       "| 10 | 1000105 | 1000105 | Female | 54 | NA | NA | NA | 1 | NA | NA | NA |  TRUE | 1 |\n",
       "\n"
      ],
      "text/plain": [
       "   IID     FID     f.22001.0.0 f.21003.0.0 f.21003.1.0 f.21003.2.0 f.21003.3.0\n",
       "1  1000019 1000019 Female      47          NA          NA          NA         \n",
       "2  1000022 1000022 Male        53          NA          NA          NA         \n",
       "3  1000035 1000035 Male        63          NA          NA          NA         \n",
       "4  1000046 1000046 Female      62          NA          73          NA         \n",
       "5  1000054 1000054 Female      65          NA          NA          NA         \n",
       "6  1000063 1000063 Male        43          NA          NA          NA         \n",
       "7  1000078 1000078 Female      52          57          60          NA         \n",
       "8  1000081 1000081 Male        67          NA          NA          NA         \n",
       "9  1000090 1000090 Female      64          NA          NA          NA         \n",
       "10 1000105 1000105 Female      54          NA          NA          NA         \n",
       "   f.2257.0.0_recode f.2257.1.0_recode f.2257.2.0_recode f.2257.3.0_recode\n",
       "1  1                 NA                NA                NA               \n",
       "2  1                 NA                NA                NA               \n",
       "3  1                 NA                NA                NA               \n",
       "4  0                 NA                1                 NA               \n",
       "5  1                 NA                NA                NA               \n",
       "6  0                 NA                NA                NA               \n",
       "7  0                 0                 0                 NA               \n",
       "8  0                 NA                NA                NA               \n",
       "9  0                 NA                NA                NA               \n",
       "10 1                 NA                NA                NA               \n",
       "   cases hearing_noise_cat\n",
       "1   TRUE 1                \n",
       "2   TRUE 1                \n",
       "3   TRUE 1                \n",
       "4   TRUE 1                \n",
       "5   TRUE 1                \n",
       "6  FALSE 0                \n",
       "7  FALSE 0                \n",
       "8  FALSE 0                \n",
       "9  FALSE 0                \n",
       "10  TRUE 1                "
      ]
     },
     "metadata": {},
     "output_type": "display_data"
    },
    {
     "data": {
      "text/html": [
       "0"
      ],
      "text/latex": [
       "0"
      ],
      "text/markdown": [
       "0"
      ],
      "text/plain": [
       "[1] 0"
      ]
     },
     "metadata": {},
     "output_type": "display_data"
    }
   ],
   "source": [
    "hearing_noise$hearing_noise_cat <- as.integer(as.logical(hearing_noise$cases))\n",
    "head(hearing_noise, 10)\n",
    "# Get the number of NAs\n",
    "length(which(is.na(hearing_noise$hearing_noise_cat)))"
   ]
  },
  {
   "cell_type": "markdown",
   "metadata": {
    "kernel": "R"
   },
   "source": [
    "## f.2257 Step 2: get the ages for hearing difficulty with background noise"
   ]
  },
  {
   "cell_type": "code",
   "execution_count": 341,
   "metadata": {
    "kernel": "R"
   },
   "outputs": [
    {
     "data": {
      "text/html": [
       "<table>\n",
       "<caption>A data.frame: 12 × 9</caption>\n",
       "<thead>\n",
       "\t<tr><th></th><th scope=col>IID</th><th scope=col>f.2257.0.0_recode</th><th scope=col>f.2257.1.0_recode</th><th scope=col>f.2257.2.0_recode</th><th scope=col>f.2257.3.0_recode</th><th scope=col>f.21003.0.0</th><th scope=col>f.21003.1.0</th><th scope=col>f.21003.2.0</th><th scope=col>f.21003.3.0</th></tr>\n",
       "\t<tr><th></th><th scope=col>&lt;int&gt;</th><th scope=col>&lt;fct&gt;</th><th scope=col>&lt;fct&gt;</th><th scope=col>&lt;fct&gt;</th><th scope=col>&lt;fct&gt;</th><th scope=col>&lt;int&gt;</th><th scope=col>&lt;int&gt;</th><th scope=col>&lt;int&gt;</th><th scope=col>&lt;int&gt;</th></tr>\n",
       "</thead>\n",
       "<tbody>\n",
       "\t<tr><th scope=row>1</th><td>1000019</td><td>1</td><td>NA</td><td>NA</td><td>NA</td><td>47</td><td>NA</td><td>NA</td><td>NA</td></tr>\n",
       "\t<tr><th scope=row>2</th><td>1000022</td><td>1</td><td>NA</td><td>NA</td><td>NA</td><td>53</td><td>NA</td><td>NA</td><td>NA</td></tr>\n",
       "\t<tr><th scope=row>3</th><td>1000035</td><td>1</td><td>NA</td><td>NA</td><td>NA</td><td>63</td><td>NA</td><td>NA</td><td>NA</td></tr>\n",
       "\t<tr><th scope=row>4</th><td>1000046</td><td>0</td><td>NA</td><td>1 </td><td>NA</td><td>62</td><td>NA</td><td>73</td><td>NA</td></tr>\n",
       "\t<tr><th scope=row>5</th><td>1000054</td><td>1</td><td>NA</td><td>NA</td><td>NA</td><td>65</td><td>NA</td><td>NA</td><td>NA</td></tr>\n",
       "\t<tr><th scope=row>6</th><td>1000105</td><td>1</td><td>NA</td><td>NA</td><td>NA</td><td>54</td><td>NA</td><td>NA</td><td>NA</td></tr>\n",
       "\t<tr><th scope=row>7</th><td>1000112</td><td>0</td><td>NA</td><td>1 </td><td>NA</td><td>58</td><td>NA</td><td>68</td><td>NA</td></tr>\n",
       "\t<tr><th scope=row>8</th><td>1000164</td><td>1</td><td>NA</td><td>NA</td><td>NA</td><td>51</td><td>NA</td><td>NA</td><td>NA</td></tr>\n",
       "\t<tr><th scope=row>9</th><td>1000170</td><td>1</td><td>NA</td><td>NA</td><td>NA</td><td>51</td><td>NA</td><td>NA</td><td>NA</td></tr>\n",
       "\t<tr><th scope=row>10</th><td>1000198</td><td>1</td><td>NA</td><td>NA</td><td>NA</td><td>41</td><td>NA</td><td>NA</td><td>NA</td></tr>\n",
       "\t<tr><th scope=row>11</th><td>1000203</td><td>1</td><td>NA</td><td>NA</td><td>NA</td><td>49</td><td>NA</td><td>NA</td><td>NA</td></tr>\n",
       "\t<tr><th scope=row>12</th><td>1000304</td><td>1</td><td>NA</td><td>NA</td><td>NA</td><td>56</td><td>NA</td><td>NA</td><td>NA</td></tr>\n",
       "</tbody>\n",
       "</table>\n"
      ],
      "text/latex": [
       "A data.frame: 12 × 9\n",
       "\\begin{tabular}{r|lllllllll}\n",
       "  & IID & f.2257.0.0\\_recode & f.2257.1.0\\_recode & f.2257.2.0\\_recode & f.2257.3.0\\_recode & f.21003.0.0 & f.21003.1.0 & f.21003.2.0 & f.21003.3.0\\\\\n",
       "  & <int> & <fct> & <fct> & <fct> & <fct> & <int> & <int> & <int> & <int>\\\\\n",
       "\\hline\n",
       "\t1 & 1000019 & 1 & NA & NA & NA & 47 & NA & NA & NA\\\\\n",
       "\t2 & 1000022 & 1 & NA & NA & NA & 53 & NA & NA & NA\\\\\n",
       "\t3 & 1000035 & 1 & NA & NA & NA & 63 & NA & NA & NA\\\\\n",
       "\t4 & 1000046 & 0 & NA & 1  & NA & 62 & NA & 73 & NA\\\\\n",
       "\t5 & 1000054 & 1 & NA & NA & NA & 65 & NA & NA & NA\\\\\n",
       "\t6 & 1000105 & 1 & NA & NA & NA & 54 & NA & NA & NA\\\\\n",
       "\t7 & 1000112 & 0 & NA & 1  & NA & 58 & NA & 68 & NA\\\\\n",
       "\t8 & 1000164 & 1 & NA & NA & NA & 51 & NA & NA & NA\\\\\n",
       "\t9 & 1000170 & 1 & NA & NA & NA & 51 & NA & NA & NA\\\\\n",
       "\t10 & 1000198 & 1 & NA & NA & NA & 41 & NA & NA & NA\\\\\n",
       "\t11 & 1000203 & 1 & NA & NA & NA & 49 & NA & NA & NA\\\\\n",
       "\t12 & 1000304 & 1 & NA & NA & NA & 56 & NA & NA & NA\\\\\n",
       "\\end{tabular}\n"
      ],
      "text/markdown": [
       "\n",
       "A data.frame: 12 × 9\n",
       "\n",
       "| <!--/--> | IID &lt;int&gt; | f.2257.0.0_recode &lt;fct&gt; | f.2257.1.0_recode &lt;fct&gt; | f.2257.2.0_recode &lt;fct&gt; | f.2257.3.0_recode &lt;fct&gt; | f.21003.0.0 &lt;int&gt; | f.21003.1.0 &lt;int&gt; | f.21003.2.0 &lt;int&gt; | f.21003.3.0 &lt;int&gt; |\n",
       "|---|---|---|---|---|---|---|---|---|---|\n",
       "| 1 | 1000019 | 1 | NA | NA | NA | 47 | NA | NA | NA |\n",
       "| 2 | 1000022 | 1 | NA | NA | NA | 53 | NA | NA | NA |\n",
       "| 3 | 1000035 | 1 | NA | NA | NA | 63 | NA | NA | NA |\n",
       "| 4 | 1000046 | 0 | NA | 1  | NA | 62 | NA | 73 | NA |\n",
       "| 5 | 1000054 | 1 | NA | NA | NA | 65 | NA | NA | NA |\n",
       "| 6 | 1000105 | 1 | NA | NA | NA | 54 | NA | NA | NA |\n",
       "| 7 | 1000112 | 0 | NA | 1  | NA | 58 | NA | 68 | NA |\n",
       "| 8 | 1000164 | 1 | NA | NA | NA | 51 | NA | NA | NA |\n",
       "| 9 | 1000170 | 1 | NA | NA | NA | 51 | NA | NA | NA |\n",
       "| 10 | 1000198 | 1 | NA | NA | NA | 41 | NA | NA | NA |\n",
       "| 11 | 1000203 | 1 | NA | NA | NA | 49 | NA | NA | NA |\n",
       "| 12 | 1000304 | 1 | NA | NA | NA | 56 | NA | NA | NA |\n",
       "\n"
      ],
      "text/plain": [
       "   IID     f.2257.0.0_recode f.2257.1.0_recode f.2257.2.0_recode\n",
       "1  1000019 1                 NA                NA               \n",
       "2  1000022 1                 NA                NA               \n",
       "3  1000035 1                 NA                NA               \n",
       "4  1000046 0                 NA                1                \n",
       "5  1000054 1                 NA                NA               \n",
       "6  1000105 1                 NA                NA               \n",
       "7  1000112 0                 NA                1                \n",
       "8  1000164 1                 NA                NA               \n",
       "9  1000170 1                 NA                NA               \n",
       "10 1000198 1                 NA                NA               \n",
       "11 1000203 1                 NA                NA               \n",
       "12 1000304 1                 NA                NA               \n",
       "   f.2257.3.0_recode f.21003.0.0 f.21003.1.0 f.21003.2.0 f.21003.3.0\n",
       "1  NA                47          NA          NA          NA         \n",
       "2  NA                53          NA          NA          NA         \n",
       "3  NA                63          NA          NA          NA         \n",
       "4  NA                62          NA          73          NA         \n",
       "5  NA                65          NA          NA          NA         \n",
       "6  NA                54          NA          NA          NA         \n",
       "7  NA                58          NA          68          NA         \n",
       "8  NA                51          NA          NA          NA         \n",
       "9  NA                51          NA          NA          NA         \n",
       "10 NA                41          NA          NA          NA         \n",
       "11 NA                49          NA          NA          NA         \n",
       "12 NA                56          NA          NA          NA         "
      ]
     },
     "metadata": {},
     "output_type": "display_data"
    }
   ],
   "source": [
    "# Get the subset data of cases\n",
    "noise_age_cases = hearing_noise %>% \n",
    "  filter(hearing_noise_cat==\"1\")  %>%\n",
    "  select(IID, f.2257.0.0_recode, f.2257.1.0_recode, f.2257.2.0_recode, f.2257.3.0_recode, f.21003.0.0, f.21003.1.0, f.21003.2.0, f.21003.3.0)\n",
    "head(noise_age_cases,12)"
   ]
  },
  {
   "cell_type": "code",
   "execution_count": 342,
   "metadata": {
    "kernel": "R"
   },
   "outputs": [
    {
     "data": {
      "text/html": [
       "<table>\n",
       "<caption>A data.frame: 6 × 10</caption>\n",
       "<thead>\n",
       "\t<tr><th></th><th scope=col>IID</th><th scope=col>f.2257.0.0_recode</th><th scope=col>f.2257.1.0_recode</th><th scope=col>f.2257.2.0_recode</th><th scope=col>f.2257.3.0_recode</th><th scope=col>f.21003.0.0</th><th scope=col>f.21003.1.0</th><th scope=col>f.21003.2.0</th><th scope=col>f.21003.3.0</th><th scope=col>visit_idx</th></tr>\n",
       "\t<tr><th></th><th scope=col>&lt;int&gt;</th><th scope=col>&lt;fct&gt;</th><th scope=col>&lt;fct&gt;</th><th scope=col>&lt;fct&gt;</th><th scope=col>&lt;fct&gt;</th><th scope=col>&lt;int&gt;</th><th scope=col>&lt;int&gt;</th><th scope=col>&lt;int&gt;</th><th scope=col>&lt;int&gt;</th><th scope=col>&lt;list&gt;</th></tr>\n",
       "</thead>\n",
       "<tbody>\n",
       "\t<tr><th scope=row>1</th><td>1000019</td><td>1</td><td>NA</td><td>NA</td><td>NA</td><td>47</td><td>NA</td><td>NA</td><td>NA</td><td>2</td></tr>\n",
       "\t<tr><th scope=row>2</th><td>1000022</td><td>1</td><td>NA</td><td>NA</td><td>NA</td><td>53</td><td>NA</td><td>NA</td><td>NA</td><td>2</td></tr>\n",
       "\t<tr><th scope=row>3</th><td>1000035</td><td>1</td><td>NA</td><td>NA</td><td>NA</td><td>63</td><td>NA</td><td>NA</td><td>NA</td><td>2</td></tr>\n",
       "\t<tr><th scope=row>4</th><td>1000046</td><td>0</td><td>NA</td><td>1 </td><td>NA</td><td>62</td><td>NA</td><td>73</td><td>NA</td><td>4</td></tr>\n",
       "\t<tr><th scope=row>5</th><td>1000054</td><td>1</td><td>NA</td><td>NA</td><td>NA</td><td>65</td><td>NA</td><td>NA</td><td>NA</td><td>2</td></tr>\n",
       "\t<tr><th scope=row>6</th><td>1000105</td><td>1</td><td>NA</td><td>NA</td><td>NA</td><td>54</td><td>NA</td><td>NA</td><td>NA</td><td>2</td></tr>\n",
       "</tbody>\n",
       "</table>\n"
      ],
      "text/latex": [
       "A data.frame: 6 × 10\n",
       "\\begin{tabular}{r|llllllllll}\n",
       "  & IID & f.2257.0.0\\_recode & f.2257.1.0\\_recode & f.2257.2.0\\_recode & f.2257.3.0\\_recode & f.21003.0.0 & f.21003.1.0 & f.21003.2.0 & f.21003.3.0 & visit\\_idx\\\\\n",
       "  & <int> & <fct> & <fct> & <fct> & <fct> & <int> & <int> & <int> & <int> & <list>\\\\\n",
       "\\hline\n",
       "\t1 & 1000019 & 1 & NA & NA & NA & 47 & NA & NA & NA & 2\\\\\n",
       "\t2 & 1000022 & 1 & NA & NA & NA & 53 & NA & NA & NA & 2\\\\\n",
       "\t3 & 1000035 & 1 & NA & NA & NA & 63 & NA & NA & NA & 2\\\\\n",
       "\t4 & 1000046 & 0 & NA & 1  & NA & 62 & NA & 73 & NA & 4\\\\\n",
       "\t5 & 1000054 & 1 & NA & NA & NA & 65 & NA & NA & NA & 2\\\\\n",
       "\t6 & 1000105 & 1 & NA & NA & NA & 54 & NA & NA & NA & 2\\\\\n",
       "\\end{tabular}\n"
      ],
      "text/markdown": [
       "\n",
       "A data.frame: 6 × 10\n",
       "\n",
       "| <!--/--> | IID &lt;int&gt; | f.2257.0.0_recode &lt;fct&gt; | f.2257.1.0_recode &lt;fct&gt; | f.2257.2.0_recode &lt;fct&gt; | f.2257.3.0_recode &lt;fct&gt; | f.21003.0.0 &lt;int&gt; | f.21003.1.0 &lt;int&gt; | f.21003.2.0 &lt;int&gt; | f.21003.3.0 &lt;int&gt; | visit_idx &lt;list&gt; |\n",
       "|---|---|---|---|---|---|---|---|---|---|---|\n",
       "| 1 | 1000019 | 1 | NA | NA | NA | 47 | NA | NA | NA | 2 |\n",
       "| 2 | 1000022 | 1 | NA | NA | NA | 53 | NA | NA | NA | 2 |\n",
       "| 3 | 1000035 | 1 | NA | NA | NA | 63 | NA | NA | NA | 2 |\n",
       "| 4 | 1000046 | 0 | NA | 1  | NA | 62 | NA | 73 | NA | 4 |\n",
       "| 5 | 1000054 | 1 | NA | NA | NA | 65 | NA | NA | NA | 2 |\n",
       "| 6 | 1000105 | 1 | NA | NA | NA | 54 | NA | NA | NA | 2 |\n",
       "\n"
      ],
      "text/plain": [
       "  IID     f.2257.0.0_recode f.2257.1.0_recode f.2257.2.0_recode\n",
       "1 1000019 1                 NA                NA               \n",
       "2 1000022 1                 NA                NA               \n",
       "3 1000035 1                 NA                NA               \n",
       "4 1000046 0                 NA                1                \n",
       "5 1000054 1                 NA                NA               \n",
       "6 1000105 1                 NA                NA               \n",
       "  f.2257.3.0_recode f.21003.0.0 f.21003.1.0 f.21003.2.0 f.21003.3.0 visit_idx\n",
       "1 NA                47          NA          NA          NA          2        \n",
       "2 NA                53          NA          NA          NA          2        \n",
       "3 NA                63          NA          NA          NA          2        \n",
       "4 NA                62          NA          73          NA          4        \n",
       "5 NA                65          NA          NA          NA          2        \n",
       "6 NA                54          NA          NA          NA          2        "
      ]
     },
     "metadata": {},
     "output_type": "display_data"
    }
   ],
   "source": [
    "# Get the # of column where first replied Yes:\n",
    "noise_age_cases$visit_idx = apply(noise_age_cases, 1, function(x) unlist(which(x == '1')))\n",
    "head(noise_age_cases)"
   ]
  },
  {
   "cell_type": "code",
   "execution_count": 343,
   "metadata": {
    "kernel": "R"
   },
   "outputs": [
    {
     "data": {
      "text/html": [
       "<table>\n",
       "<caption>A data.frame: 6 × 11</caption>\n",
       "<thead>\n",
       "\t<tr><th></th><th scope=col>IID</th><th scope=col>f.2257.0.0_recode</th><th scope=col>f.2257.1.0_recode</th><th scope=col>f.2257.2.0_recode</th><th scope=col>f.2257.3.0_recode</th><th scope=col>f.21003.0.0</th><th scope=col>f.21003.1.0</th><th scope=col>f.21003.2.0</th><th scope=col>f.21003.3.0</th><th scope=col>visit_idx</th><th scope=col>age_final_noise</th></tr>\n",
       "\t<tr><th></th><th scope=col>&lt;int&gt;</th><th scope=col>&lt;fct&gt;</th><th scope=col>&lt;fct&gt;</th><th scope=col>&lt;fct&gt;</th><th scope=col>&lt;fct&gt;</th><th scope=col>&lt;int&gt;</th><th scope=col>&lt;int&gt;</th><th scope=col>&lt;int&gt;</th><th scope=col>&lt;int&gt;</th><th scope=col>&lt;list&gt;</th><th scope=col>&lt;int&gt;</th></tr>\n",
       "</thead>\n",
       "<tbody>\n",
       "\t<tr><th scope=row>1</th><td>1000019</td><td>1</td><td>NA</td><td>NA</td><td>NA</td><td>47</td><td>NA</td><td>NA</td><td>NA</td><td>2</td><td>47</td></tr>\n",
       "\t<tr><th scope=row>2</th><td>1000022</td><td>1</td><td>NA</td><td>NA</td><td>NA</td><td>53</td><td>NA</td><td>NA</td><td>NA</td><td>2</td><td>53</td></tr>\n",
       "\t<tr><th scope=row>3</th><td>1000035</td><td>1</td><td>NA</td><td>NA</td><td>NA</td><td>63</td><td>NA</td><td>NA</td><td>NA</td><td>2</td><td>63</td></tr>\n",
       "\t<tr><th scope=row>4</th><td>1000046</td><td>0</td><td>NA</td><td>1 </td><td>NA</td><td>62</td><td>NA</td><td>73</td><td>NA</td><td>4</td><td>73</td></tr>\n",
       "\t<tr><th scope=row>5</th><td>1000054</td><td>1</td><td>NA</td><td>NA</td><td>NA</td><td>65</td><td>NA</td><td>NA</td><td>NA</td><td>2</td><td>65</td></tr>\n",
       "\t<tr><th scope=row>6</th><td>1000105</td><td>1</td><td>NA</td><td>NA</td><td>NA</td><td>54</td><td>NA</td><td>NA</td><td>NA</td><td>2</td><td>54</td></tr>\n",
       "</tbody>\n",
       "</table>\n"
      ],
      "text/latex": [
       "A data.frame: 6 × 11\n",
       "\\begin{tabular}{r|lllllllllll}\n",
       "  & IID & f.2257.0.0\\_recode & f.2257.1.0\\_recode & f.2257.2.0\\_recode & f.2257.3.0\\_recode & f.21003.0.0 & f.21003.1.0 & f.21003.2.0 & f.21003.3.0 & visit\\_idx & age\\_final\\_noise\\\\\n",
       "  & <int> & <fct> & <fct> & <fct> & <fct> & <int> & <int> & <int> & <int> & <list> & <int>\\\\\n",
       "\\hline\n",
       "\t1 & 1000019 & 1 & NA & NA & NA & 47 & NA & NA & NA & 2 & 47\\\\\n",
       "\t2 & 1000022 & 1 & NA & NA & NA & 53 & NA & NA & NA & 2 & 53\\\\\n",
       "\t3 & 1000035 & 1 & NA & NA & NA & 63 & NA & NA & NA & 2 & 63\\\\\n",
       "\t4 & 1000046 & 0 & NA & 1  & NA & 62 & NA & 73 & NA & 4 & 73\\\\\n",
       "\t5 & 1000054 & 1 & NA & NA & NA & 65 & NA & NA & NA & 2 & 65\\\\\n",
       "\t6 & 1000105 & 1 & NA & NA & NA & 54 & NA & NA & NA & 2 & 54\\\\\n",
       "\\end{tabular}\n"
      ],
      "text/markdown": [
       "\n",
       "A data.frame: 6 × 11\n",
       "\n",
       "| <!--/--> | IID &lt;int&gt; | f.2257.0.0_recode &lt;fct&gt; | f.2257.1.0_recode &lt;fct&gt; | f.2257.2.0_recode &lt;fct&gt; | f.2257.3.0_recode &lt;fct&gt; | f.21003.0.0 &lt;int&gt; | f.21003.1.0 &lt;int&gt; | f.21003.2.0 &lt;int&gt; | f.21003.3.0 &lt;int&gt; | visit_idx &lt;list&gt; | age_final_noise &lt;int&gt; |\n",
       "|---|---|---|---|---|---|---|---|---|---|---|---|\n",
       "| 1 | 1000019 | 1 | NA | NA | NA | 47 | NA | NA | NA | 2 | 47 |\n",
       "| 2 | 1000022 | 1 | NA | NA | NA | 53 | NA | NA | NA | 2 | 53 |\n",
       "| 3 | 1000035 | 1 | NA | NA | NA | 63 | NA | NA | NA | 2 | 63 |\n",
       "| 4 | 1000046 | 0 | NA | 1  | NA | 62 | NA | 73 | NA | 4 | 73 |\n",
       "| 5 | 1000054 | 1 | NA | NA | NA | 65 | NA | NA | NA | 2 | 65 |\n",
       "| 6 | 1000105 | 1 | NA | NA | NA | 54 | NA | NA | NA | 2 | 54 |\n",
       "\n"
      ],
      "text/plain": [
       "  IID     f.2257.0.0_recode f.2257.1.0_recode f.2257.2.0_recode\n",
       "1 1000019 1                 NA                NA               \n",
       "2 1000022 1                 NA                NA               \n",
       "3 1000035 1                 NA                NA               \n",
       "4 1000046 0                 NA                1                \n",
       "5 1000054 1                 NA                NA               \n",
       "6 1000105 1                 NA                NA               \n",
       "  f.2257.3.0_recode f.21003.0.0 f.21003.1.0 f.21003.2.0 f.21003.3.0 visit_idx\n",
       "1 NA                47          NA          NA          NA          2        \n",
       "2 NA                53          NA          NA          NA          2        \n",
       "3 NA                63          NA          NA          NA          2        \n",
       "4 NA                62          NA          73          NA          4        \n",
       "5 NA                65          NA          NA          NA          2        \n",
       "6 NA                54          NA          NA          NA          2        \n",
       "  age_final_noise\n",
       "1 47             \n",
       "2 53             \n",
       "3 63             \n",
       "4 73             \n",
       "5 65             \n",
       "6 54             "
      ]
     },
     "metadata": {},
     "output_type": "display_data"
    },
    {
     "data": {
      "text/plain": [
       "   Min. 1st Qu.  Median    Mean 3rd Qu.    Max. \n",
       "  40.00   53.00   60.00   58.39   65.00   82.00 "
      ]
     },
     "metadata": {},
     "output_type": "display_data"
    }
   ],
   "source": [
    "# Define offset:\n",
    "# offset: refers to the # of columns between the first age column (i.e.f.21003.0.0) and the first recode column (i.e.f.2257.0.0_recode)\n",
    "offset = which(colnames(noise_age_cases) == 'f.21003.0.0') - which(colnames(noise_age_cases) == 'f.2257.0.0_recode')\n",
    "\n",
    "# Define the function to extract the first time they said yes for cases \n",
    "f=get_age_func <- function(x) {\n",
    "  visit_index=x[which(colnames(noise_age_cases)==\"visit_idx\")]\n",
    "  index=min(unlist(visit_index))+offset\n",
    "  age=x[index]\n",
    "  final_age=unlist(age)\n",
    "  if(is.null(final_age))\n",
    "  {final_age<-NA}\n",
    "  return(final_age)\n",
    "}\n",
    "\n",
    "# Get the final age for cases\n",
    "noise_age_cases$age_final_noise = apply(noise_age_cases, 1, f)\n",
    "\n",
    "# Show first 6 rows\n",
    "head(noise_age_cases)\n",
    "summary(noise_age_cases$age_final_noise)"
   ]
  },
  {
   "cell_type": "code",
   "execution_count": 344,
   "metadata": {
    "kernel": "R"
   },
   "outputs": [
    {
     "data": {
      "text/html": [
       "<table>\n",
       "<caption>A data.frame: 6 × 9</caption>\n",
       "<thead>\n",
       "\t<tr><th></th><th scope=col>IID</th><th scope=col>f.2257.0.0_recode</th><th scope=col>f.2257.1.0_recode</th><th scope=col>f.2257.2.0_recode</th><th scope=col>f.2257.3.0_recode</th><th scope=col>f.21003.0.0</th><th scope=col>f.21003.1.0</th><th scope=col>f.21003.2.0</th><th scope=col>f.21003.3.0</th></tr>\n",
       "\t<tr><th></th><th scope=col>&lt;int&gt;</th><th scope=col>&lt;fct&gt;</th><th scope=col>&lt;fct&gt;</th><th scope=col>&lt;fct&gt;</th><th scope=col>&lt;fct&gt;</th><th scope=col>&lt;int&gt;</th><th scope=col>&lt;int&gt;</th><th scope=col>&lt;int&gt;</th><th scope=col>&lt;int&gt;</th></tr>\n",
       "</thead>\n",
       "<tbody>\n",
       "\t<tr><th scope=row>1</th><td>1000063</td><td>0</td><td>NA</td><td>NA</td><td>NA</td><td>43</td><td>NA</td><td>NA</td><td>NA</td></tr>\n",
       "\t<tr><th scope=row>2</th><td>1000078</td><td>0</td><td>0 </td><td>0 </td><td>NA</td><td>52</td><td>57</td><td>60</td><td>NA</td></tr>\n",
       "\t<tr><th scope=row>3</th><td>1000081</td><td>0</td><td>NA</td><td>NA</td><td>NA</td><td>67</td><td>NA</td><td>NA</td><td>NA</td></tr>\n",
       "\t<tr><th scope=row>4</th><td>1000090</td><td>0</td><td>NA</td><td>NA</td><td>NA</td><td>64</td><td>NA</td><td>NA</td><td>NA</td></tr>\n",
       "\t<tr><th scope=row>5</th><td>1000129</td><td>0</td><td>NA</td><td>NA</td><td>NA</td><td>62</td><td>NA</td><td>NA</td><td>NA</td></tr>\n",
       "\t<tr><th scope=row>6</th><td>1000137</td><td>0</td><td>NA</td><td>NA</td><td>NA</td><td>46</td><td>NA</td><td>NA</td><td>NA</td></tr>\n",
       "</tbody>\n",
       "</table>\n"
      ],
      "text/latex": [
       "A data.frame: 6 × 9\n",
       "\\begin{tabular}{r|lllllllll}\n",
       "  & IID & f.2257.0.0\\_recode & f.2257.1.0\\_recode & f.2257.2.0\\_recode & f.2257.3.0\\_recode & f.21003.0.0 & f.21003.1.0 & f.21003.2.0 & f.21003.3.0\\\\\n",
       "  & <int> & <fct> & <fct> & <fct> & <fct> & <int> & <int> & <int> & <int>\\\\\n",
       "\\hline\n",
       "\t1 & 1000063 & 0 & NA & NA & NA & 43 & NA & NA & NA\\\\\n",
       "\t2 & 1000078 & 0 & 0  & 0  & NA & 52 & 57 & 60 & NA\\\\\n",
       "\t3 & 1000081 & 0 & NA & NA & NA & 67 & NA & NA & NA\\\\\n",
       "\t4 & 1000090 & 0 & NA & NA & NA & 64 & NA & NA & NA\\\\\n",
       "\t5 & 1000129 & 0 & NA & NA & NA & 62 & NA & NA & NA\\\\\n",
       "\t6 & 1000137 & 0 & NA & NA & NA & 46 & NA & NA & NA\\\\\n",
       "\\end{tabular}\n"
      ],
      "text/markdown": [
       "\n",
       "A data.frame: 6 × 9\n",
       "\n",
       "| <!--/--> | IID &lt;int&gt; | f.2257.0.0_recode &lt;fct&gt; | f.2257.1.0_recode &lt;fct&gt; | f.2257.2.0_recode &lt;fct&gt; | f.2257.3.0_recode &lt;fct&gt; | f.21003.0.0 &lt;int&gt; | f.21003.1.0 &lt;int&gt; | f.21003.2.0 &lt;int&gt; | f.21003.3.0 &lt;int&gt; |\n",
       "|---|---|---|---|---|---|---|---|---|---|\n",
       "| 1 | 1000063 | 0 | NA | NA | NA | 43 | NA | NA | NA |\n",
       "| 2 | 1000078 | 0 | 0  | 0  | NA | 52 | 57 | 60 | NA |\n",
       "| 3 | 1000081 | 0 | NA | NA | NA | 67 | NA | NA | NA |\n",
       "| 4 | 1000090 | 0 | NA | NA | NA | 64 | NA | NA | NA |\n",
       "| 5 | 1000129 | 0 | NA | NA | NA | 62 | NA | NA | NA |\n",
       "| 6 | 1000137 | 0 | NA | NA | NA | 46 | NA | NA | NA |\n",
       "\n"
      ],
      "text/plain": [
       "  IID     f.2257.0.0_recode f.2257.1.0_recode f.2257.2.0_recode\n",
       "1 1000063 0                 NA                NA               \n",
       "2 1000078 0                 0                 0                \n",
       "3 1000081 0                 NA                NA               \n",
       "4 1000090 0                 NA                NA               \n",
       "5 1000129 0                 NA                NA               \n",
       "6 1000137 0                 NA                NA               \n",
       "  f.2257.3.0_recode f.21003.0.0 f.21003.1.0 f.21003.2.0 f.21003.3.0\n",
       "1 NA                43          NA          NA          NA         \n",
       "2 NA                52          57          60          NA         \n",
       "3 NA                67          NA          NA          NA         \n",
       "4 NA                64          NA          NA          NA         \n",
       "5 NA                62          NA          NA          NA         \n",
       "6 NA                46          NA          NA          NA         "
      ]
     },
     "metadata": {},
     "output_type": "display_data"
    }
   ],
   "source": [
    "### Extract age for Control (2257)\n",
    "noise_age_control <- hearing_noise %>% \n",
    "  filter(hearing_noise_cat == \"0\") %>%\n",
    "  select(IID, f.2257.0.0_recode, f.2257.1.0_recode, f.2257.2.0_recode, f.2257.3.0_recode, f.21003.0.0, f.21003.1.0, f.21003.2.0, f.21003.3.0)\n",
    "head(noise_age_control)"
   ]
  },
  {
   "cell_type": "code",
   "execution_count": 345,
   "metadata": {
    "kernel": "R"
   },
   "outputs": [
    {
     "data": {
      "text/html": [
       "<table>\n",
       "<caption>A data.frame: 6 × 11</caption>\n",
       "<thead>\n",
       "\t<tr><th></th><th scope=col>IID</th><th scope=col>f.2257.0.0_recode</th><th scope=col>f.2257.1.0_recode</th><th scope=col>f.2257.2.0_recode</th><th scope=col>f.2257.3.0_recode</th><th scope=col>f.21003.0.0</th><th scope=col>f.21003.1.0</th><th scope=col>f.21003.2.0</th><th scope=col>f.21003.3.0</th><th scope=col>visit_idx</th><th scope=col>age_final_noise</th></tr>\n",
       "\t<tr><th></th><th scope=col>&lt;int&gt;</th><th scope=col>&lt;fct&gt;</th><th scope=col>&lt;fct&gt;</th><th scope=col>&lt;fct&gt;</th><th scope=col>&lt;fct&gt;</th><th scope=col>&lt;int&gt;</th><th scope=col>&lt;int&gt;</th><th scope=col>&lt;int&gt;</th><th scope=col>&lt;int&gt;</th><th scope=col>&lt;list&gt;</th><th scope=col>&lt;int&gt;</th></tr>\n",
       "</thead>\n",
       "<tbody>\n",
       "\t<tr><th scope=row>1</th><td>1000063</td><td>0</td><td>NA</td><td>NA</td><td>NA</td><td>43</td><td>NA</td><td>NA</td><td>NA</td><td>2</td><td>43</td></tr>\n",
       "\t<tr><th scope=row>2</th><td>1000078</td><td>0</td><td>0 </td><td>0 </td><td>NA</td><td>52</td><td>57</td><td>60</td><td>NA</td><td>2, 3, 4</td><td>60</td></tr>\n",
       "\t<tr><th scope=row>3</th><td>1000081</td><td>0</td><td>NA</td><td>NA</td><td>NA</td><td>67</td><td>NA</td><td>NA</td><td>NA</td><td>2</td><td>67</td></tr>\n",
       "\t<tr><th scope=row>4</th><td>1000090</td><td>0</td><td>NA</td><td>NA</td><td>NA</td><td>64</td><td>NA</td><td>NA</td><td>NA</td><td>2</td><td>64</td></tr>\n",
       "\t<tr><th scope=row>5</th><td>1000129</td><td>0</td><td>NA</td><td>NA</td><td>NA</td><td>62</td><td>NA</td><td>NA</td><td>NA</td><td>2</td><td>62</td></tr>\n",
       "\t<tr><th scope=row>6</th><td>1000137</td><td>0</td><td>NA</td><td>NA</td><td>NA</td><td>46</td><td>NA</td><td>NA</td><td>NA</td><td>2</td><td>46</td></tr>\n",
       "</tbody>\n",
       "</table>\n"
      ],
      "text/latex": [
       "A data.frame: 6 × 11\n",
       "\\begin{tabular}{r|lllllllllll}\n",
       "  & IID & f.2257.0.0\\_recode & f.2257.1.0\\_recode & f.2257.2.0\\_recode & f.2257.3.0\\_recode & f.21003.0.0 & f.21003.1.0 & f.21003.2.0 & f.21003.3.0 & visit\\_idx & age\\_final\\_noise\\\\\n",
       "  & <int> & <fct> & <fct> & <fct> & <fct> & <int> & <int> & <int> & <int> & <list> & <int>\\\\\n",
       "\\hline\n",
       "\t1 & 1000063 & 0 & NA & NA & NA & 43 & NA & NA & NA & 2 & 43\\\\\n",
       "\t2 & 1000078 & 0 & 0  & 0  & NA & 52 & 57 & 60 & NA & 2, 3, 4 & 60\\\\\n",
       "\t3 & 1000081 & 0 & NA & NA & NA & 67 & NA & NA & NA & 2 & 67\\\\\n",
       "\t4 & 1000090 & 0 & NA & NA & NA & 64 & NA & NA & NA & 2 & 64\\\\\n",
       "\t5 & 1000129 & 0 & NA & NA & NA & 62 & NA & NA & NA & 2 & 62\\\\\n",
       "\t6 & 1000137 & 0 & NA & NA & NA & 46 & NA & NA & NA & 2 & 46\\\\\n",
       "\\end{tabular}\n"
      ],
      "text/markdown": [
       "\n",
       "A data.frame: 6 × 11\n",
       "\n",
       "| <!--/--> | IID &lt;int&gt; | f.2257.0.0_recode &lt;fct&gt; | f.2257.1.0_recode &lt;fct&gt; | f.2257.2.0_recode &lt;fct&gt; | f.2257.3.0_recode &lt;fct&gt; | f.21003.0.0 &lt;int&gt; | f.21003.1.0 &lt;int&gt; | f.21003.2.0 &lt;int&gt; | f.21003.3.0 &lt;int&gt; | visit_idx &lt;list&gt; | age_final_noise &lt;int&gt; |\n",
       "|---|---|---|---|---|---|---|---|---|---|---|---|\n",
       "| 1 | 1000063 | 0 | NA | NA | NA | 43 | NA | NA | NA | 2 | 43 |\n",
       "| 2 | 1000078 | 0 | 0  | 0  | NA | 52 | 57 | 60 | NA | 2, 3, 4 | 60 |\n",
       "| 3 | 1000081 | 0 | NA | NA | NA | 67 | NA | NA | NA | 2 | 67 |\n",
       "| 4 | 1000090 | 0 | NA | NA | NA | 64 | NA | NA | NA | 2 | 64 |\n",
       "| 5 | 1000129 | 0 | NA | NA | NA | 62 | NA | NA | NA | 2 | 62 |\n",
       "| 6 | 1000137 | 0 | NA | NA | NA | 46 | NA | NA | NA | 2 | 46 |\n",
       "\n"
      ],
      "text/plain": [
       "  IID     f.2257.0.0_recode f.2257.1.0_recode f.2257.2.0_recode\n",
       "1 1000063 0                 NA                NA               \n",
       "2 1000078 0                 0                 0                \n",
       "3 1000081 0                 NA                NA               \n",
       "4 1000090 0                 NA                NA               \n",
       "5 1000129 0                 NA                NA               \n",
       "6 1000137 0                 NA                NA               \n",
       "  f.2257.3.0_recode f.21003.0.0 f.21003.1.0 f.21003.2.0 f.21003.3.0 visit_idx\n",
       "1 NA                43          NA          NA          NA          2        \n",
       "2 NA                52          57          60          NA          2, 3, 4  \n",
       "3 NA                67          NA          NA          NA          2        \n",
       "4 NA                64          NA          NA          NA          2        \n",
       "5 NA                62          NA          NA          NA          2        \n",
       "6 NA                46          NA          NA          NA          2        \n",
       "  age_final_noise\n",
       "1 43             \n",
       "2 60             \n",
       "3 67             \n",
       "4 64             \n",
       "5 62             \n",
       "6 46             "
      ]
     },
     "metadata": {},
     "output_type": "display_data"
    },
    {
     "data": {
      "text/plain": [
       "   Min. 1st Qu.  Median    Mean 3rd Qu.    Max. \n",
       "  39.00   50.00   58.00   56.74   63.00   82.00 "
      ]
     },
     "metadata": {},
     "output_type": "display_data"
    }
   ],
   "source": [
    "# Get the # of column where last replied No:\n",
    "noise_age_control$visit_idx = apply(noise_age_control, 1, function(x) unlist(which(x == '0')))\n",
    "\n",
    "# Define offset:\n",
    "# offset: refers to the # of columns between the first age column (i.e.f.21003.0.0) and the first recode column (i.e.f.2257.0.0_recode)\n",
    "offset = which(colnames(noise_age_control) == 'f.21003.0.0') - which(colnames(noise_age_control) == 'f.2257.0.0_recode')\n",
    "\n",
    "# Define the function to extract the last time they said no for control\n",
    "\n",
    "f=get_age_func <- function(x) {\n",
    "  visit_index=x[which(colnames(noise_age_control)==\"visit_idx\")]\n",
    "  index=max(unlist(visit_index))+offset\n",
    "  age=x[index]\n",
    "  age=unlist(age)\n",
    "  return(age)\n",
    "}\n",
    "\n",
    "# Get the final age for controls\n",
    "noise_age_control$age_final_noise = apply(noise_age_control, 1, f)\n",
    "\n",
    "# Show first 6 rows\n",
    "head(noise_age_control)\n",
    "summary(noise_age_control$age_final_noise)"
   ]
  },
  {
   "cell_type": "code",
   "execution_count": 346,
   "metadata": {
    "kernel": "R"
   },
   "outputs": [
    {
     "data": {
      "text/html": [
       "<style>\n",
       ".list-inline {list-style: none; margin:0; padding: 0}\n",
       ".list-inline>li {display: inline-block}\n",
       ".list-inline>li:not(:last-child)::after {content: \"\\00b7\"; padding: 0 .5ex}\n",
       "</style>\n",
       "<ol class=list-inline><li>384461</li><li>11</li></ol>\n"
      ],
      "text/latex": [
       "\\begin{enumerate*}\n",
       "\\item 384461\n",
       "\\item 11\n",
       "\\end{enumerate*}\n"
      ],
      "text/markdown": [
       "1. 384461\n",
       "2. 11\n",
       "\n",
       "\n"
      ],
      "text/plain": [
       "[1] 384461     11"
      ]
     },
     "metadata": {},
     "output_type": "display_data"
    },
    {
     "data": {
      "text/html": [
       "<table>\n",
       "<caption>A data.frame: 6 × 11</caption>\n",
       "<thead>\n",
       "\t<tr><th></th><th scope=col>IID</th><th scope=col>f.2257.0.0_recode</th><th scope=col>f.2257.1.0_recode</th><th scope=col>f.2257.2.0_recode</th><th scope=col>f.2257.3.0_recode</th><th scope=col>f.21003.0.0</th><th scope=col>f.21003.1.0</th><th scope=col>f.21003.2.0</th><th scope=col>f.21003.3.0</th><th scope=col>visit_idx</th><th scope=col>age_final_noise</th></tr>\n",
       "\t<tr><th></th><th scope=col>&lt;int&gt;</th><th scope=col>&lt;fct&gt;</th><th scope=col>&lt;fct&gt;</th><th scope=col>&lt;fct&gt;</th><th scope=col>&lt;fct&gt;</th><th scope=col>&lt;int&gt;</th><th scope=col>&lt;int&gt;</th><th scope=col>&lt;int&gt;</th><th scope=col>&lt;int&gt;</th><th scope=col>&lt;list&gt;</th><th scope=col>&lt;int&gt;</th></tr>\n",
       "</thead>\n",
       "<tbody>\n",
       "\t<tr><th scope=row>1</th><td>1000019</td><td>1</td><td>NA</td><td>NA</td><td>NA</td><td>47</td><td>NA</td><td>NA</td><td>NA</td><td>2</td><td>47</td></tr>\n",
       "\t<tr><th scope=row>2</th><td>1000022</td><td>1</td><td>NA</td><td>NA</td><td>NA</td><td>53</td><td>NA</td><td>NA</td><td>NA</td><td>2</td><td>53</td></tr>\n",
       "\t<tr><th scope=row>3</th><td>1000035</td><td>1</td><td>NA</td><td>NA</td><td>NA</td><td>63</td><td>NA</td><td>NA</td><td>NA</td><td>2</td><td>63</td></tr>\n",
       "\t<tr><th scope=row>4</th><td>1000046</td><td>0</td><td>NA</td><td>1 </td><td>NA</td><td>62</td><td>NA</td><td>73</td><td>NA</td><td>4</td><td>73</td></tr>\n",
       "\t<tr><th scope=row>5</th><td>1000054</td><td>1</td><td>NA</td><td>NA</td><td>NA</td><td>65</td><td>NA</td><td>NA</td><td>NA</td><td>2</td><td>65</td></tr>\n",
       "\t<tr><th scope=row>6</th><td>1000105</td><td>1</td><td>NA</td><td>NA</td><td>NA</td><td>54</td><td>NA</td><td>NA</td><td>NA</td><td>2</td><td>54</td></tr>\n",
       "</tbody>\n",
       "</table>\n"
      ],
      "text/latex": [
       "A data.frame: 6 × 11\n",
       "\\begin{tabular}{r|lllllllllll}\n",
       "  & IID & f.2257.0.0\\_recode & f.2257.1.0\\_recode & f.2257.2.0\\_recode & f.2257.3.0\\_recode & f.21003.0.0 & f.21003.1.0 & f.21003.2.0 & f.21003.3.0 & visit\\_idx & age\\_final\\_noise\\\\\n",
       "  & <int> & <fct> & <fct> & <fct> & <fct> & <int> & <int> & <int> & <int> & <list> & <int>\\\\\n",
       "\\hline\n",
       "\t1 & 1000019 & 1 & NA & NA & NA & 47 & NA & NA & NA & 2 & 47\\\\\n",
       "\t2 & 1000022 & 1 & NA & NA & NA & 53 & NA & NA & NA & 2 & 53\\\\\n",
       "\t3 & 1000035 & 1 & NA & NA & NA & 63 & NA & NA & NA & 2 & 63\\\\\n",
       "\t4 & 1000046 & 0 & NA & 1  & NA & 62 & NA & 73 & NA & 4 & 73\\\\\n",
       "\t5 & 1000054 & 1 & NA & NA & NA & 65 & NA & NA & NA & 2 & 65\\\\\n",
       "\t6 & 1000105 & 1 & NA & NA & NA & 54 & NA & NA & NA & 2 & 54\\\\\n",
       "\\end{tabular}\n"
      ],
      "text/markdown": [
       "\n",
       "A data.frame: 6 × 11\n",
       "\n",
       "| <!--/--> | IID &lt;int&gt; | f.2257.0.0_recode &lt;fct&gt; | f.2257.1.0_recode &lt;fct&gt; | f.2257.2.0_recode &lt;fct&gt; | f.2257.3.0_recode &lt;fct&gt; | f.21003.0.0 &lt;int&gt; | f.21003.1.0 &lt;int&gt; | f.21003.2.0 &lt;int&gt; | f.21003.3.0 &lt;int&gt; | visit_idx &lt;list&gt; | age_final_noise &lt;int&gt; |\n",
       "|---|---|---|---|---|---|---|---|---|---|---|---|\n",
       "| 1 | 1000019 | 1 | NA | NA | NA | 47 | NA | NA | NA | 2 | 47 |\n",
       "| 2 | 1000022 | 1 | NA | NA | NA | 53 | NA | NA | NA | 2 | 53 |\n",
       "| 3 | 1000035 | 1 | NA | NA | NA | 63 | NA | NA | NA | 2 | 63 |\n",
       "| 4 | 1000046 | 0 | NA | 1  | NA | 62 | NA | 73 | NA | 4 | 73 |\n",
       "| 5 | 1000054 | 1 | NA | NA | NA | 65 | NA | NA | NA | 2 | 65 |\n",
       "| 6 | 1000105 | 1 | NA | NA | NA | 54 | NA | NA | NA | 2 | 54 |\n",
       "\n"
      ],
      "text/plain": [
       "  IID     f.2257.0.0_recode f.2257.1.0_recode f.2257.2.0_recode\n",
       "1 1000019 1                 NA                NA               \n",
       "2 1000022 1                 NA                NA               \n",
       "3 1000035 1                 NA                NA               \n",
       "4 1000046 0                 NA                1                \n",
       "5 1000054 1                 NA                NA               \n",
       "6 1000105 1                 NA                NA               \n",
       "  f.2257.3.0_recode f.21003.0.0 f.21003.1.0 f.21003.2.0 f.21003.3.0 visit_idx\n",
       "1 NA                47          NA          NA          NA          2        \n",
       "2 NA                53          NA          NA          NA          2        \n",
       "3 NA                63          NA          NA          NA          2        \n",
       "4 NA                62          NA          73          NA          4        \n",
       "5 NA                65          NA          NA          NA          2        \n",
       "6 NA                54          NA          NA          NA          2        \n",
       "  age_final_noise\n",
       "1 47             \n",
       "2 53             \n",
       "3 63             \n",
       "4 73             \n",
       "5 65             \n",
       "6 54             "
      ]
     },
     "metadata": {},
     "output_type": "display_data"
    }
   ],
   "source": [
    "# Merge age_cases and age_controls\n",
    "hearing_noise_age <- rbind(noise_age_cases, noise_age_control) \n",
    "dim(hearing_noise_age)\n",
    "head(hearing_noise_age)"
   ]
  },
  {
   "cell_type": "code",
   "execution_count": 347,
   "metadata": {
    "kernel": "R"
   },
   "outputs": [
    {
     "data": {
      "text/html": [
       "<table>\n",
       "<caption>A data.frame: 6 × 14</caption>\n",
       "<thead>\n",
       "\t<tr><th></th><th scope=col>IID</th><th scope=col>FID</th><th scope=col>f.22001.0.0</th><th scope=col>f.21003.0.0</th><th scope=col>f.21003.1.0</th><th scope=col>f.21003.2.0</th><th scope=col>f.21003.3.0</th><th scope=col>f.2257.0.0_recode</th><th scope=col>f.2257.1.0_recode</th><th scope=col>f.2257.2.0_recode</th><th scope=col>f.2257.3.0_recode</th><th scope=col>cases</th><th scope=col>hearing_noise_cat</th><th scope=col>age_final_noise</th></tr>\n",
       "\t<tr><th></th><th scope=col>&lt;int&gt;</th><th scope=col>&lt;int&gt;</th><th scope=col>&lt;fct&gt;</th><th scope=col>&lt;int&gt;</th><th scope=col>&lt;int&gt;</th><th scope=col>&lt;int&gt;</th><th scope=col>&lt;int&gt;</th><th scope=col>&lt;fct&gt;</th><th scope=col>&lt;fct&gt;</th><th scope=col>&lt;fct&gt;</th><th scope=col>&lt;fct&gt;</th><th scope=col>&lt;lgl&gt;</th><th scope=col>&lt;int&gt;</th><th scope=col>&lt;int&gt;</th></tr>\n",
       "</thead>\n",
       "<tbody>\n",
       "\t<tr><th scope=row>1</th><td>1000019</td><td>1000019</td><td>Female</td><td>47</td><td>NA</td><td>NA</td><td>NA</td><td>1</td><td>NA</td><td>NA</td><td>NA</td><td> TRUE</td><td>1</td><td>47</td></tr>\n",
       "\t<tr><th scope=row>2</th><td>1000022</td><td>1000022</td><td>Male  </td><td>53</td><td>NA</td><td>NA</td><td>NA</td><td>1</td><td>NA</td><td>NA</td><td>NA</td><td> TRUE</td><td>1</td><td>53</td></tr>\n",
       "\t<tr><th scope=row>3</th><td>1000035</td><td>1000035</td><td>Male  </td><td>63</td><td>NA</td><td>NA</td><td>NA</td><td>1</td><td>NA</td><td>NA</td><td>NA</td><td> TRUE</td><td>1</td><td>63</td></tr>\n",
       "\t<tr><th scope=row>4</th><td>1000046</td><td>1000046</td><td>Female</td><td>62</td><td>NA</td><td>73</td><td>NA</td><td>0</td><td>NA</td><td>1 </td><td>NA</td><td> TRUE</td><td>1</td><td>73</td></tr>\n",
       "\t<tr><th scope=row>5</th><td>1000054</td><td>1000054</td><td>Female</td><td>65</td><td>NA</td><td>NA</td><td>NA</td><td>1</td><td>NA</td><td>NA</td><td>NA</td><td> TRUE</td><td>1</td><td>65</td></tr>\n",
       "\t<tr><th scope=row>6</th><td>1000063</td><td>1000063</td><td>Male  </td><td>43</td><td>NA</td><td>NA</td><td>NA</td><td>0</td><td>NA</td><td>NA</td><td>NA</td><td>FALSE</td><td>0</td><td>43</td></tr>\n",
       "</tbody>\n",
       "</table>\n"
      ],
      "text/latex": [
       "A data.frame: 6 × 14\n",
       "\\begin{tabular}{r|llllllllllllll}\n",
       "  & IID & FID & f.22001.0.0 & f.21003.0.0 & f.21003.1.0 & f.21003.2.0 & f.21003.3.0 & f.2257.0.0\\_recode & f.2257.1.0\\_recode & f.2257.2.0\\_recode & f.2257.3.0\\_recode & cases & hearing\\_noise\\_cat & age\\_final\\_noise\\\\\n",
       "  & <int> & <int> & <fct> & <int> & <int> & <int> & <int> & <fct> & <fct> & <fct> & <fct> & <lgl> & <int> & <int>\\\\\n",
       "\\hline\n",
       "\t1 & 1000019 & 1000019 & Female & 47 & NA & NA & NA & 1 & NA & NA & NA &  TRUE & 1 & 47\\\\\n",
       "\t2 & 1000022 & 1000022 & Male   & 53 & NA & NA & NA & 1 & NA & NA & NA &  TRUE & 1 & 53\\\\\n",
       "\t3 & 1000035 & 1000035 & Male   & 63 & NA & NA & NA & 1 & NA & NA & NA &  TRUE & 1 & 63\\\\\n",
       "\t4 & 1000046 & 1000046 & Female & 62 & NA & 73 & NA & 0 & NA & 1  & NA &  TRUE & 1 & 73\\\\\n",
       "\t5 & 1000054 & 1000054 & Female & 65 & NA & NA & NA & 1 & NA & NA & NA &  TRUE & 1 & 65\\\\\n",
       "\t6 & 1000063 & 1000063 & Male   & 43 & NA & NA & NA & 0 & NA & NA & NA & FALSE & 0 & 43\\\\\n",
       "\\end{tabular}\n"
      ],
      "text/markdown": [
       "\n",
       "A data.frame: 6 × 14\n",
       "\n",
       "| <!--/--> | IID &lt;int&gt; | FID &lt;int&gt; | f.22001.0.0 &lt;fct&gt; | f.21003.0.0 &lt;int&gt; | f.21003.1.0 &lt;int&gt; | f.21003.2.0 &lt;int&gt; | f.21003.3.0 &lt;int&gt; | f.2257.0.0_recode &lt;fct&gt; | f.2257.1.0_recode &lt;fct&gt; | f.2257.2.0_recode &lt;fct&gt; | f.2257.3.0_recode &lt;fct&gt; | cases &lt;lgl&gt; | hearing_noise_cat &lt;int&gt; | age_final_noise &lt;int&gt; |\n",
       "|---|---|---|---|---|---|---|---|---|---|---|---|---|---|---|\n",
       "| 1 | 1000019 | 1000019 | Female | 47 | NA | NA | NA | 1 | NA | NA | NA |  TRUE | 1 | 47 |\n",
       "| 2 | 1000022 | 1000022 | Male   | 53 | NA | NA | NA | 1 | NA | NA | NA |  TRUE | 1 | 53 |\n",
       "| 3 | 1000035 | 1000035 | Male   | 63 | NA | NA | NA | 1 | NA | NA | NA |  TRUE | 1 | 63 |\n",
       "| 4 | 1000046 | 1000046 | Female | 62 | NA | 73 | NA | 0 | NA | 1  | NA |  TRUE | 1 | 73 |\n",
       "| 5 | 1000054 | 1000054 | Female | 65 | NA | NA | NA | 1 | NA | NA | NA |  TRUE | 1 | 65 |\n",
       "| 6 | 1000063 | 1000063 | Male   | 43 | NA | NA | NA | 0 | NA | NA | NA | FALSE | 0 | 43 |\n",
       "\n"
      ],
      "text/plain": [
       "  IID     FID     f.22001.0.0 f.21003.0.0 f.21003.1.0 f.21003.2.0 f.21003.3.0\n",
       "1 1000019 1000019 Female      47          NA          NA          NA         \n",
       "2 1000022 1000022 Male        53          NA          NA          NA         \n",
       "3 1000035 1000035 Male        63          NA          NA          NA         \n",
       "4 1000046 1000046 Female      62          NA          73          NA         \n",
       "5 1000054 1000054 Female      65          NA          NA          NA         \n",
       "6 1000063 1000063 Male        43          NA          NA          NA         \n",
       "  f.2257.0.0_recode f.2257.1.0_recode f.2257.2.0_recode f.2257.3.0_recode cases\n",
       "1 1                 NA                NA                NA                 TRUE\n",
       "2 1                 NA                NA                NA                 TRUE\n",
       "3 1                 NA                NA                NA                 TRUE\n",
       "4 0                 NA                1                 NA                 TRUE\n",
       "5 1                 NA                NA                NA                 TRUE\n",
       "6 0                 NA                NA                NA                FALSE\n",
       "  hearing_noise_cat age_final_noise\n",
       "1 1                 47             \n",
       "2 1                 53             \n",
       "3 1                 63             \n",
       "4 1                 73             \n",
       "5 1                 65             \n",
       "6 0                 43             "
      ]
     },
     "metadata": {},
     "output_type": "display_data"
    },
    {
     "data": {
      "text/html": [
       "<style>\n",
       ".list-inline {list-style: none; margin:0; padding: 0}\n",
       ".list-inline>li {display: inline-block}\n",
       ".list-inline>li:not(:last-child)::after {content: \"\\00b7\"; padding: 0 .5ex}\n",
       "</style>\n",
       "<ol class=list-inline><li>384461</li><li>14</li></ol>\n"
      ],
      "text/latex": [
       "\\begin{enumerate*}\n",
       "\\item 384461\n",
       "\\item 14\n",
       "\\end{enumerate*}\n"
      ],
      "text/markdown": [
       "1. 384461\n",
       "2. 14\n",
       "\n",
       "\n"
      ],
      "text/plain": [
       "[1] 384461     14"
      ]
     },
     "metadata": {},
     "output_type": "display_data"
    }
   ],
   "source": [
    "hearing_noise_age = merge(x = hearing_noise ,y = hearing_noise_age [,c(\"IID\",\"age_final_noise\")],by=\"IID\", all.x=TRUE)\n",
    "head(hearing_noise_age)\n",
    "dim(hearing_noise_age)"
   ]
  },
  {
   "cell_type": "markdown",
   "metadata": {
    "kernel": "R"
   },
   "source": [
    "## Merge f.3393, f.2247 and f.2257"
   ]
  },
  {
   "cell_type": "code",
   "execution_count": 348,
   "metadata": {
    "kernel": "R"
   },
   "outputs": [
    {
     "data": {
      "text/html": [
       "<style>\n",
       ".list-inline {list-style: none; margin:0; padding: 0}\n",
       ".list-inline>li {display: inline-block}\n",
       ".list-inline>li:not(:last-child)::after {content: \"\\00b7\"; padding: 0 .5ex}\n",
       "</style>\n",
       "<ol class=list-inline><li>396974</li><li>2284</li></ol>\n"
      ],
      "text/latex": [
       "\\begin{enumerate*}\n",
       "\\item 396974\n",
       "\\item 2284\n",
       "\\end{enumerate*}\n"
      ],
      "text/markdown": [
       "1. 396974\n",
       "2. 2284\n",
       "\n",
       "\n"
      ],
      "text/plain": [
       "[1] 396974   2284"
      ]
     },
     "metadata": {},
     "output_type": "display_data"
    },
    {
     "data": {
      "text/html": [
       "<table>\n",
       "<caption>A data.frame: 6 × 2284</caption>\n",
       "<thead>\n",
       "\t<tr><th></th><th scope=col>IID</th><th scope=col>FID</th><th scope=col>ignore1</th><th scope=col>ignore2</th><th scope=col>ignore3</th><th scope=col>ignore4</th><th scope=col>f.31.0.0</th><th scope=col>f.34.0.0</th><th scope=col>f.53.0.0</th><th scope=col>f.53.1.0</th><th scope=col>⋯</th><th scope=col>f.2257.3.0_recode</th><th scope=col>hearing_aid_cat</th><th scope=col>age_final_aid</th><th scope=col>hearing_diff_cat</th><th scope=col>age_final_diff</th><th scope=col>hearing_diff_cat_new</th><th scope=col>hearing_aid_cat_new</th><th scope=col>hearing_diff_new</th><th scope=col>hearing_noise_cat</th><th scope=col>age_final_noise</th></tr>\n",
       "\t<tr><th></th><th scope=col>&lt;int&gt;</th><th scope=col>&lt;int&gt;</th><th scope=col>&lt;int&gt;</th><th scope=col>&lt;int&gt;</th><th scope=col>&lt;int&gt;</th><th scope=col>&lt;int&gt;</th><th scope=col>&lt;fct&gt;</th><th scope=col>&lt;int&gt;</th><th scope=col>&lt;fct&gt;</th><th scope=col>&lt;fct&gt;</th><th scope=col>⋯</th><th scope=col>&lt;fct&gt;</th><th scope=col>&lt;int&gt;</th><th scope=col>&lt;int&gt;</th><th scope=col>&lt;int&gt;</th><th scope=col>&lt;int&gt;</th><th scope=col>&lt;fct&gt;</th><th scope=col>&lt;fct&gt;</th><th scope=col>&lt;fct&gt;</th><th scope=col>&lt;int&gt;</th><th scope=col>&lt;int&gt;</th></tr>\n",
       "</thead>\n",
       "<tbody>\n",
       "\t<tr><th scope=row>1</th><td>1000019</td><td>1000019</td><td>0</td><td>0</td><td>2</td><td>-9</td><td>Female</td><td>1960</td><td>2008-01-24</td><td>NA</td><td>⋯</td><td>NA</td><td>0</td><td>47</td><td>1</td><td>47</td><td>case   </td><td>control</td><td>1</td><td>1</td><td>47</td></tr>\n",
       "\t<tr><th scope=row>2</th><td>1000022</td><td>1000022</td><td>0</td><td>0</td><td>1</td><td>-9</td><td>Male  </td><td>1954</td><td>2008-01-22</td><td>NA</td><td>⋯</td><td>NA</td><td>0</td><td>53</td><td>1</td><td>53</td><td>case   </td><td>control</td><td>1</td><td>1</td><td>53</td></tr>\n",
       "\t<tr><th scope=row>3</th><td>1000035</td><td>1000035</td><td>0</td><td>0</td><td>1</td><td>-9</td><td>Male  </td><td>1944</td><td>2007-11-08</td><td>NA</td><td>⋯</td><td>NA</td><td>0</td><td>63</td><td>0</td><td>63</td><td>control</td><td>control</td><td>0</td><td>1</td><td>63</td></tr>\n",
       "\t<tr><th scope=row>4</th><td>1000046</td><td>1000046</td><td>0</td><td>0</td><td>2</td><td>-9</td><td>Female</td><td>1946</td><td>2008-12-01</td><td>NA</td><td>⋯</td><td>NA</td><td>0</td><td>73</td><td>0</td><td>73</td><td>control</td><td>control</td><td>0</td><td>1</td><td>73</td></tr>\n",
       "\t<tr><th scope=row>5</th><td>1000054</td><td>1000054</td><td>0</td><td>0</td><td>2</td><td>-9</td><td>Female</td><td>1942</td><td>2007-11-23</td><td>NA</td><td>⋯</td><td>NA</td><td>0</td><td>65</td><td>0</td><td>65</td><td>control</td><td>control</td><td>0</td><td>1</td><td>65</td></tr>\n",
       "\t<tr><th scope=row>6</th><td>1000063</td><td>1000063</td><td>0</td><td>0</td><td>1</td><td>-9</td><td>Male  </td><td>1967</td><td>2010-06-26</td><td>NA</td><td>⋯</td><td>NA</td><td>0</td><td>43</td><td>0</td><td>43</td><td>control</td><td>control</td><td>0</td><td>0</td><td>43</td></tr>\n",
       "</tbody>\n",
       "</table>\n"
      ],
      "text/latex": [
       "A data.frame: 6 × 2284\n",
       "\\begin{tabular}{r|lllllllllllllllllllll}\n",
       "  & IID & FID & ignore1 & ignore2 & ignore3 & ignore4 & f.31.0.0 & f.34.0.0 & f.53.0.0 & f.53.1.0 & ⋯ & f.2257.3.0\\_recode & hearing\\_aid\\_cat & age\\_final\\_aid & hearing\\_diff\\_cat & age\\_final\\_diff & hearing\\_diff\\_cat\\_new & hearing\\_aid\\_cat\\_new & hearing\\_diff\\_new & hearing\\_noise\\_cat & age\\_final\\_noise\\\\\n",
       "  & <int> & <int> & <int> & <int> & <int> & <int> & <fct> & <int> & <fct> & <fct> & ⋯ & <fct> & <int> & <int> & <int> & <int> & <fct> & <fct> & <fct> & <int> & <int>\\\\\n",
       "\\hline\n",
       "\t1 & 1000019 & 1000019 & 0 & 0 & 2 & -9 & Female & 1960 & 2008-01-24 & NA & ⋯ & NA & 0 & 47 & 1 & 47 & case    & control & 1 & 1 & 47\\\\\n",
       "\t2 & 1000022 & 1000022 & 0 & 0 & 1 & -9 & Male   & 1954 & 2008-01-22 & NA & ⋯ & NA & 0 & 53 & 1 & 53 & case    & control & 1 & 1 & 53\\\\\n",
       "\t3 & 1000035 & 1000035 & 0 & 0 & 1 & -9 & Male   & 1944 & 2007-11-08 & NA & ⋯ & NA & 0 & 63 & 0 & 63 & control & control & 0 & 1 & 63\\\\\n",
       "\t4 & 1000046 & 1000046 & 0 & 0 & 2 & -9 & Female & 1946 & 2008-12-01 & NA & ⋯ & NA & 0 & 73 & 0 & 73 & control & control & 0 & 1 & 73\\\\\n",
       "\t5 & 1000054 & 1000054 & 0 & 0 & 2 & -9 & Female & 1942 & 2007-11-23 & NA & ⋯ & NA & 0 & 65 & 0 & 65 & control & control & 0 & 1 & 65\\\\\n",
       "\t6 & 1000063 & 1000063 & 0 & 0 & 1 & -9 & Male   & 1967 & 2010-06-26 & NA & ⋯ & NA & 0 & 43 & 0 & 43 & control & control & 0 & 0 & 43\\\\\n",
       "\\end{tabular}\n"
      ],
      "text/markdown": [
       "\n",
       "A data.frame: 6 × 2284\n",
       "\n",
       "| <!--/--> | IID &lt;int&gt; | FID &lt;int&gt; | ignore1 &lt;int&gt; | ignore2 &lt;int&gt; | ignore3 &lt;int&gt; | ignore4 &lt;int&gt; | f.31.0.0 &lt;fct&gt; | f.34.0.0 &lt;int&gt; | f.53.0.0 &lt;fct&gt; | f.53.1.0 &lt;fct&gt; | ⋯ ⋯ | f.2257.3.0_recode &lt;fct&gt; | hearing_aid_cat &lt;int&gt; | age_final_aid &lt;int&gt; | hearing_diff_cat &lt;int&gt; | age_final_diff &lt;int&gt; | hearing_diff_cat_new &lt;fct&gt; | hearing_aid_cat_new &lt;fct&gt; | hearing_diff_new &lt;fct&gt; | hearing_noise_cat &lt;int&gt; | age_final_noise &lt;int&gt; |\n",
       "|---|---|---|---|---|---|---|---|---|---|---|---|---|---|---|---|---|---|---|---|---|---|\n",
       "| 1 | 1000019 | 1000019 | 0 | 0 | 2 | -9 | Female | 1960 | 2008-01-24 | NA | ⋯ | NA | 0 | 47 | 1 | 47 | case    | control | 1 | 1 | 47 |\n",
       "| 2 | 1000022 | 1000022 | 0 | 0 | 1 | -9 | Male   | 1954 | 2008-01-22 | NA | ⋯ | NA | 0 | 53 | 1 | 53 | case    | control | 1 | 1 | 53 |\n",
       "| 3 | 1000035 | 1000035 | 0 | 0 | 1 | -9 | Male   | 1944 | 2007-11-08 | NA | ⋯ | NA | 0 | 63 | 0 | 63 | control | control | 0 | 1 | 63 |\n",
       "| 4 | 1000046 | 1000046 | 0 | 0 | 2 | -9 | Female | 1946 | 2008-12-01 | NA | ⋯ | NA | 0 | 73 | 0 | 73 | control | control | 0 | 1 | 73 |\n",
       "| 5 | 1000054 | 1000054 | 0 | 0 | 2 | -9 | Female | 1942 | 2007-11-23 | NA | ⋯ | NA | 0 | 65 | 0 | 65 | control | control | 0 | 1 | 65 |\n",
       "| 6 | 1000063 | 1000063 | 0 | 0 | 1 | -9 | Male   | 1967 | 2010-06-26 | NA | ⋯ | NA | 0 | 43 | 0 | 43 | control | control | 0 | 0 | 43 |\n",
       "\n"
      ],
      "text/plain": [
       "  IID     FID     ignore1 ignore2 ignore3 ignore4 f.31.0.0 f.34.0.0 f.53.0.0  \n",
       "1 1000019 1000019 0       0       2       -9      Female   1960     2008-01-24\n",
       "2 1000022 1000022 0       0       1       -9      Male     1954     2008-01-22\n",
       "3 1000035 1000035 0       0       1       -9      Male     1944     2007-11-08\n",
       "4 1000046 1000046 0       0       2       -9      Female   1946     2008-12-01\n",
       "5 1000054 1000054 0       0       2       -9      Female   1942     2007-11-23\n",
       "6 1000063 1000063 0       0       1       -9      Male     1967     2010-06-26\n",
       "  f.53.1.0 ⋯ f.2257.3.0_recode hearing_aid_cat age_final_aid hearing_diff_cat\n",
       "1 NA       ⋯ NA                0               47            1               \n",
       "2 NA       ⋯ NA                0               53            1               \n",
       "3 NA       ⋯ NA                0               63            0               \n",
       "4 NA       ⋯ NA                0               73            0               \n",
       "5 NA       ⋯ NA                0               65            0               \n",
       "6 NA       ⋯ NA                0               43            0               \n",
       "  age_final_diff hearing_diff_cat_new hearing_aid_cat_new hearing_diff_new\n",
       "1 47             case                 control             1               \n",
       "2 53             case                 control             1               \n",
       "3 63             control              control             0               \n",
       "4 73             control              control             0               \n",
       "5 65             control              control             0               \n",
       "6 43             control              control             0               \n",
       "  hearing_noise_cat age_final_noise\n",
       "1 1                 47             \n",
       "2 1                 53             \n",
       "3 1                 63             \n",
       "4 1                 73             \n",
       "5 1                 65             \n",
       "6 0                 43             "
      ]
     },
     "metadata": {},
     "output_type": "display_data"
    }
   ],
   "source": [
    "#Merge with complete database keep the all the rows from original db\n",
    "df_3393_2247_2257 = merge(x = df_3393_2247, y = hearing_noise_age [,c(\"IID\",\"hearing_noise_cat\",\"age_final_noise\")],by=\"IID\", all.x=TRUE)\n",
    "dim(df_3393_2247_2257)\n",
    "head(df_3393_2247_2257)"
   ]
  },
  {
   "cell_type": "markdown",
   "metadata": {
    "kernel": "R"
   },
   "source": [
    "## Export file for hearing with background noise f.2257"
   ]
  },
  {
   "cell_type": "code",
   "execution_count": 349,
   "metadata": {
    "kernel": "R"
   },
   "outputs": [
    {
     "data": {
      "text/html": [
       "<table>\n",
       "<caption>A data.frame: 6 × 5</caption>\n",
       "<thead>\n",
       "\t<tr><th></th><th scope=col>FID</th><th scope=col>IID</th><th scope=col>age_final_noise</th><th scope=col>sex</th><th scope=col>hearing_noise_cat</th></tr>\n",
       "\t<tr><th></th><th scope=col>&lt;int&gt;</th><th scope=col>&lt;int&gt;</th><th scope=col>&lt;int&gt;</th><th scope=col>&lt;fct&gt;</th><th scope=col>&lt;int&gt;</th></tr>\n",
       "</thead>\n",
       "<tbody>\n",
       "\t<tr><th scope=row>1</th><td>1000019</td><td>1000019</td><td>47</td><td>1</td><td>1</td></tr>\n",
       "\t<tr><th scope=row>2</th><td>1000022</td><td>1000022</td><td>53</td><td>0</td><td>1</td></tr>\n",
       "\t<tr><th scope=row>3</th><td>1000035</td><td>1000035</td><td>63</td><td>0</td><td>1</td></tr>\n",
       "\t<tr><th scope=row>4</th><td>1000046</td><td>1000046</td><td>73</td><td>1</td><td>1</td></tr>\n",
       "\t<tr><th scope=row>5</th><td>1000054</td><td>1000054</td><td>65</td><td>1</td><td>1</td></tr>\n",
       "\t<tr><th scope=row>6</th><td>1000063</td><td>1000063</td><td>43</td><td>0</td><td>0</td></tr>\n",
       "</tbody>\n",
       "</table>\n"
      ],
      "text/latex": [
       "A data.frame: 6 × 5\n",
       "\\begin{tabular}{r|lllll}\n",
       "  & FID & IID & age\\_final\\_noise & sex & hearing\\_noise\\_cat\\\\\n",
       "  & <int> & <int> & <int> & <fct> & <int>\\\\\n",
       "\\hline\n",
       "\t1 & 1000019 & 1000019 & 47 & 1 & 1\\\\\n",
       "\t2 & 1000022 & 1000022 & 53 & 0 & 1\\\\\n",
       "\t3 & 1000035 & 1000035 & 63 & 0 & 1\\\\\n",
       "\t4 & 1000046 & 1000046 & 73 & 1 & 1\\\\\n",
       "\t5 & 1000054 & 1000054 & 65 & 1 & 1\\\\\n",
       "\t6 & 1000063 & 1000063 & 43 & 0 & 0\\\\\n",
       "\\end{tabular}\n"
      ],
      "text/markdown": [
       "\n",
       "A data.frame: 6 × 5\n",
       "\n",
       "| <!--/--> | FID &lt;int&gt; | IID &lt;int&gt; | age_final_noise &lt;int&gt; | sex &lt;fct&gt; | hearing_noise_cat &lt;int&gt; |\n",
       "|---|---|---|---|---|---|\n",
       "| 1 | 1000019 | 1000019 | 47 | 1 | 1 |\n",
       "| 2 | 1000022 | 1000022 | 53 | 0 | 1 |\n",
       "| 3 | 1000035 | 1000035 | 63 | 0 | 1 |\n",
       "| 4 | 1000046 | 1000046 | 73 | 1 | 1 |\n",
       "| 5 | 1000054 | 1000054 | 65 | 1 | 1 |\n",
       "| 6 | 1000063 | 1000063 | 43 | 0 | 0 |\n",
       "\n"
      ],
      "text/plain": [
       "  FID     IID     age_final_noise sex hearing_noise_cat\n",
       "1 1000019 1000019 47              1   1                \n",
       "2 1000022 1000022 53              0   1                \n",
       "3 1000035 1000035 63              0   1                \n",
       "4 1000046 1000046 73              1   1                \n",
       "5 1000054 1000054 65              1   1                \n",
       "6 1000063 1000063 43              0   0                "
      ]
     },
     "metadata": {},
     "output_type": "display_data"
    },
    {
     "data": {
      "text/html": [
       "<style>\n",
       ".list-inline {list-style: none; margin:0; padding: 0}\n",
       ".list-inline>li {display: inline-block}\n",
       ".list-inline>li:not(:last-child)::after {content: \"\\00b7\"; padding: 0 .5ex}\n",
       "</style>\n",
       "<ol class=list-inline><li>384461</li><li>5</li></ol>\n"
      ],
      "text/latex": [
       "\\begin{enumerate*}\n",
       "\\item 384461\n",
       "\\item 5\n",
       "\\end{enumerate*}\n"
      ],
      "text/markdown": [
       "1. 384461\n",
       "2. 5\n",
       "\n",
       "\n"
      ],
      "text/plain": [
       "[1] 384461      5"
      ]
     },
     "metadata": {},
     "output_type": "display_data"
    }
   ],
   "source": [
    "f.2257_pheno <- df_3393_2247_2257 %>%\n",
    "    filter(!(is.na(hearing_noise_cat))) %>%\n",
    "    select(FID, IID, age_final_noise, sex, hearing_noise_cat) \n",
    "    #mutate(hearing_noise_cat=recode_factor(hearing_noise_cat, `1`=\"case\",`0`=\"control\"),sex=recode_factor(sex, `1`=\"male\", `0`=\"female\" ))\n",
    "head(f.2257_pheno)\n",
    "dim(f.2257_pheno)"
   ]
  },
  {
   "cell_type": "markdown",
   "metadata": {
    "kernel": "R"
   },
   "source": [
    "## Histogram for age of cases and controls"
   ]
  },
  {
   "cell_type": "code",
   "execution_count": 350,
   "metadata": {
    "kernel": "R"
   },
   "outputs": [
    {
     "data": {
      "text/html": [
       "<table>\n",
       "<caption>A data.frame: 2 × 2</caption>\n",
       "<thead>\n",
       "\t<tr><th></th><th scope=col>hearing_aid_cat</th><th scope=col>grp.mean</th></tr>\n",
       "\t<tr><th></th><th scope=col>&lt;int&gt;</th><th scope=col>&lt;dbl&gt;</th></tr>\n",
       "</thead>\n",
       "<tbody>\n",
       "\t<tr><th scope=row>1</th><td>0</td><td>58.41274</td></tr>\n",
       "\t<tr><th scope=row>2</th><td>1</td><td>63.73249</td></tr>\n",
       "</tbody>\n",
       "</table>\n"
      ],
      "text/latex": [
       "A data.frame: 2 × 2\n",
       "\\begin{tabular}{r|ll}\n",
       "  & hearing\\_aid\\_cat & grp.mean\\\\\n",
       "  & <int> & <dbl>\\\\\n",
       "\\hline\n",
       "\t1 & 0 & 58.41274\\\\\n",
       "\t2 & 1 & 63.73249\\\\\n",
       "\\end{tabular}\n"
      ],
      "text/markdown": [
       "\n",
       "A data.frame: 2 × 2\n",
       "\n",
       "| <!--/--> | hearing_aid_cat &lt;int&gt; | grp.mean &lt;dbl&gt; |\n",
       "|---|---|---|\n",
       "| 1 | 0 | 58.41274 |\n",
       "| 2 | 1 | 63.73249 |\n",
       "\n"
      ],
      "text/plain": [
       "  hearing_aid_cat grp.mean\n",
       "1 0               58.41274\n",
       "2 1               63.73249"
      ]
     },
     "metadata": {},
     "output_type": "display_data"
    }
   ],
   "source": [
    "mu5 <- ddply(f.2257_pheno, \"hearing_noise_cat\", summarise, grp.mean=mean(age_final_noise))\n",
    "head(mu)"
   ]
  },
  {
   "cell_type": "code",
   "execution_count": 351,
   "metadata": {
    "kernel": "R"
   },
   "outputs": [
    {
     "name": "stderr",
     "output_type": "stream",
     "text": [
      "ERROR while rich displaying an object: Error: Continuous value supplied to discrete scale\n",
      "\n",
      "Traceback:\n",
      "1. FUN(X[[i]], ...)\n",
      "2. tryCatch(withCallingHandlers({\n",
      " .     if (!mime %in% names(repr::mime2repr)) \n",
      " .         stop(\"No repr_* for mimetype \", mime, \" in repr::mime2repr\")\n",
      " .     rpr <- repr::mime2repr[[mime]](obj)\n",
      " .     if (is.null(rpr)) \n",
      " .         return(NULL)\n",
      " .     prepare_content(is.raw(rpr), rpr)\n",
      " . }, error = error_handler), error = outer_handler)\n",
      "3. tryCatchList(expr, classes, parentenv, handlers)\n",
      "4. tryCatchOne(expr, names, parentenv, handlers[[1L]])\n",
      "5. doTryCatch(return(expr), name, parentenv, handler)\n",
      "6. withCallingHandlers({\n",
      " .     if (!mime %in% names(repr::mime2repr)) \n",
      " .         stop(\"No repr_* for mimetype \", mime, \" in repr::mime2repr\")\n",
      " .     rpr <- repr::mime2repr[[mime]](obj)\n",
      " .     if (is.null(rpr)) \n",
      " .         return(NULL)\n",
      " .     prepare_content(is.raw(rpr), rpr)\n",
      " . }, error = error_handler)\n",
      "7. repr::mime2repr[[mime]](obj)\n",
      "8. repr_text.default(obj)\n",
      "9. paste(capture.output(print(obj)), collapse = \"\\n\")\n",
      "10. capture.output(print(obj))\n",
      "11. evalVis(expr)\n",
      "12. withVisible(eval(expr, pf))\n",
      "13. eval(expr, pf)\n",
      "14. eval(expr, pf)\n",
      "15. print(obj)\n",
      "16. print.ggplot(obj)\n",
      "17. ggplot_build(x)\n",
      "18. ggplot_build.ggplot(x)\n",
      "19. lapply(data, scales_train_df, scales = npscales)\n",
      "20. FUN(X[[i]], ...)\n",
      "21. lapply(scales$scales, function(scale) scale$train_df(df = df))\n",
      "22. FUN(X[[i]], ...)\n",
      "23. scale$train_df(df = df)\n",
      "24. f(..., self = self)\n",
      "25. self$train(df[[aesthetic]])\n",
      "26. f(..., self = self)\n",
      "27. self$range$train(x, drop = self$drop, na.rm = !self$na.translate)\n",
      "28. f(..., self = self)\n",
      "29. scales::train_discrete(x, self$range, drop = drop, na.rm = na.rm)\n",
      "30. stop(\"Continuous value supplied to discrete scale\", call. = FALSE)\n"
     ]
    },
    {
     "data": {
      "image/png": "[encoded data removed]",
      "text/plain": [
       "plot without title"
      ]
     },
     "metadata": {
      "image/png": {
       "height": 420,
       "width": 420
      },
      "text/plain": {
       "height": 420,
       "width": 420
      }
     },
     "output_type": "display_data"
    }
   ],
   "source": [
    "ggplot(f.2257_pheno, aes(x=age_final_noise, fill=hearing_noise_cat, color=hearing_noise_cat)) +\n",
    " geom_histogram(binwidth=1, alpha=0.5, position=\"identity\")+\n",
    "  scale_color_brewer(palette=\"Dark2\")+\n",
    "  scale_fill_brewer(palette=\"Dark2\") +\n",
    "  theme(legend.position=\"top\") +\n",
    "  geom_vline(data=mu5, aes(xintercept=grp.mean, color=hearing_noise_cat),\n",
    "             linetype=\"dashed\") +\n",
    "  theme_classic()"
   ]
  },
  {
   "cell_type": "code",
   "execution_count": 352,
   "metadata": {
    "kernel": "R"
   },
   "outputs": [
    {
     "data": {
      "text/html": [
       "54869"
      ],
      "text/latex": [
       "54869"
      ],
      "text/markdown": [
       "54869"
      ],
      "text/plain": [
       "[1] 54869"
      ]
     },
     "metadata": {},
     "output_type": "display_data"
    }
   ],
   "source": [
    "length(which((f.2257_pheno$hearing_noise_cat==\"0\" & f.2257_pheno$age_final_noise <50)))"
   ]
  },
  {
   "cell_type": "code",
   "execution_count": 353,
   "metadata": {
    "kernel": "R"
   },
   "outputs": [
    {
     "data": {
      "text/html": [
       "24599"
      ],
      "text/latex": [
       "24599"
      ],
      "text/markdown": [
       "24599"
      ],
      "text/plain": [
       "[1] 24599"
      ]
     },
     "metadata": {},
     "output_type": "display_data"
    }
   ],
   "source": [
    "length(which((f.2257_pheno$hearing_noise_cat==\"1\" & f.2257_pheno$age_final_noise <50)))"
   ]
  },
  {
   "cell_type": "code",
   "execution_count": 354,
   "metadata": {
    "kernel": "R"
   },
   "outputs": [
    {
     "data": {
      "text/html": [
       "<table>\n",
       "<caption>A data.frame: 2 × 2</caption>\n",
       "<thead>\n",
       "\t<tr><th></th><th scope=col>sex</th><th scope=col>grp.mean</th></tr>\n",
       "\t<tr><th></th><th scope=col>&lt;fct&gt;</th><th scope=col>&lt;dbl&gt;</th></tr>\n",
       "</thead>\n",
       "<tbody>\n",
       "\t<tr><th scope=row>1</th><td>1</td><td>57.18771</td></tr>\n",
       "\t<tr><th scope=row>2</th><td>0</td><td>57.60562</td></tr>\n",
       "</tbody>\n",
       "</table>\n"
      ],
      "text/latex": [
       "A data.frame: 2 × 2\n",
       "\\begin{tabular}{r|ll}\n",
       "  & sex & grp.mean\\\\\n",
       "  & <fct> & <dbl>\\\\\n",
       "\\hline\n",
       "\t1 & 1 & 57.18771\\\\\n",
       "\t2 & 0 & 57.60562\\\\\n",
       "\\end{tabular}\n"
      ],
      "text/markdown": [
       "\n",
       "A data.frame: 2 × 2\n",
       "\n",
       "| <!--/--> | sex &lt;fct&gt; | grp.mean &lt;dbl&gt; |\n",
       "|---|---|---|\n",
       "| 1 | 1 | 57.18771 |\n",
       "| 2 | 0 | 57.60562 |\n",
       "\n"
      ],
      "text/plain": [
       "  sex grp.mean\n",
       "1 1   57.18771\n",
       "2 0   57.60562"
      ]
     },
     "metadata": {},
     "output_type": "display_data"
    }
   ],
   "source": [
    "mu6 <- ddply(f.2257_pheno, \"sex\", summarise, grp.mean=mean(age_final_noise))\n",
    "head(mu6)"
   ]
  },
  {
   "cell_type": "code",
   "execution_count": 355,
   "metadata": {
    "kernel": "R"
   },
   "outputs": [
    {
     "data": {
      "image/png": "[encoded data removed]",
      "text/plain": [
       "plot without title"
      ]
     },
     "metadata": {
      "image/png": {
       "height": 420,
       "width": 420
      },
      "text/plain": {
       "height": 420,
       "width": 420
      }
     },
     "output_type": "display_data"
    }
   ],
   "source": [
    "ggplot(f.2257_pheno, aes(x=age_final_noise, fill=sex, color=sex)) +\n",
    " geom_histogram(binwidth=1, alpha=0.5, position=\"identity\")+\n",
    "  scale_color_brewer(palette=\"Dark2\")+\n",
    "  scale_fill_brewer(palette=\"Dark2\") +\n",
    "  theme(legend.position=\"top\") +\n",
    "  theme_classic() +\n",
    "  facet_grid(hearing_noise_cat ~ .)"
   ]
  },
  {
   "cell_type": "markdown",
   "metadata": {
    "kernel": "R"
   },
   "source": [
    "## Find out controls positive for f.2247 & f.3393"
   ]
  },
  {
   "cell_type": "code",
   "execution_count": 356,
   "metadata": {
    "kernel": "R"
   },
   "outputs": [
    {
     "data": {
      "text/html": [
       "<table>\n",
       "<caption>A data.frame: 6 × 23</caption>\n",
       "<thead>\n",
       "\t<tr><th></th><th scope=col>FID</th><th scope=col>IID</th><th scope=col>age_final_noise</th><th scope=col>sex</th><th scope=col>hearing_noise_cat</th><th scope=col>f.2247.0.0</th><th scope=col>f.2247.1.0</th><th scope=col>f.2247.2.0</th><th scope=col>f.2247.3.0</th><th scope=col>f.2247.0.0_recode</th><th scope=col>⋯</th><th scope=col>f.3393.0.0</th><th scope=col>f.3393.1.0</th><th scope=col>f.3393.2.0</th><th scope=col>f.3393.3.0</th><th scope=col>f.3393.0.0_recode</th><th scope=col>f.3393.1.0_recode</th><th scope=col>f.3393.2.0_recode</th><th scope=col>f.3393.3.0_recode</th><th scope=col>remove_2247</th><th scope=col>remove_3393</th></tr>\n",
       "\t<tr><th></th><th scope=col>&lt;int&gt;</th><th scope=col>&lt;int&gt;</th><th scope=col>&lt;int&gt;</th><th scope=col>&lt;fct&gt;</th><th scope=col>&lt;int&gt;</th><th scope=col>&lt;fct&gt;</th><th scope=col>&lt;fct&gt;</th><th scope=col>&lt;fct&gt;</th><th scope=col>&lt;fct&gt;</th><th scope=col>&lt;fct&gt;</th><th scope=col>⋯</th><th scope=col>&lt;fct&gt;</th><th scope=col>&lt;fct&gt;</th><th scope=col>&lt;fct&gt;</th><th scope=col>&lt;fct&gt;</th><th scope=col>&lt;fct&gt;</th><th scope=col>&lt;fct&gt;</th><th scope=col>&lt;fct&gt;</th><th scope=col>&lt;fct&gt;</th><th scope=col>&lt;lgl&gt;</th><th scope=col>&lt;lgl&gt;</th></tr>\n",
       "</thead>\n",
       "<tbody>\n",
       "\t<tr><th scope=row>1</th><td>1000063</td><td>1000063</td><td>43</td><td>0</td><td>0</td><td>No </td><td>NA</td><td>NA</td><td>NA</td><td>0</td><td>⋯</td><td>No</td><td>NA</td><td>NA</td><td>NA</td><td>0 </td><td>NA</td><td>NA</td><td>NA</td><td>FALSE</td><td>FALSE</td></tr>\n",
       "\t<tr><th scope=row>2</th><td>1000078</td><td>1000078</td><td>60</td><td>1</td><td>0</td><td>No </td><td>No</td><td>No</td><td>NA</td><td>0</td><td>⋯</td><td>NA</td><td>No</td><td>No</td><td>NA</td><td>NA</td><td>0 </td><td>0 </td><td>NA</td><td>FALSE</td><td>FALSE</td></tr>\n",
       "\t<tr><th scope=row>3</th><td>1000081</td><td>1000081</td><td>67</td><td>0</td><td>0</td><td>No </td><td>NA</td><td>NA</td><td>NA</td><td>0</td><td>⋯</td><td>No</td><td>NA</td><td>NA</td><td>NA</td><td>0 </td><td>NA</td><td>NA</td><td>NA</td><td>FALSE</td><td>FALSE</td></tr>\n",
       "\t<tr><th scope=row>4</th><td>1000090</td><td>1000090</td><td>64</td><td>1</td><td>0</td><td>Yes</td><td>NA</td><td>NA</td><td>NA</td><td>1</td><td>⋯</td><td>No</td><td>NA</td><td>NA</td><td>NA</td><td>0 </td><td>NA</td><td>NA</td><td>NA</td><td> TRUE</td><td>FALSE</td></tr>\n",
       "\t<tr><th scope=row>5</th><td>1000129</td><td>1000129</td><td>62</td><td>0</td><td>0</td><td>No </td><td>NA</td><td>NA</td><td>NA</td><td>0</td><td>⋯</td><td>NA</td><td>NA</td><td>NA</td><td>NA</td><td>NA</td><td>NA</td><td>NA</td><td>NA</td><td>FALSE</td><td>FALSE</td></tr>\n",
       "\t<tr><th scope=row>6</th><td>1000137</td><td>1000137</td><td>46</td><td>1</td><td>0</td><td>No </td><td>NA</td><td>NA</td><td>NA</td><td>0</td><td>⋯</td><td>NA</td><td>NA</td><td>NA</td><td>NA</td><td>NA</td><td>NA</td><td>NA</td><td>NA</td><td>FALSE</td><td>FALSE</td></tr>\n",
       "</tbody>\n",
       "</table>\n"
      ],
      "text/latex": [
       "A data.frame: 6 × 23\n",
       "\\begin{tabular}{r|lllllllllllllllllllll}\n",
       "  & FID & IID & age\\_final\\_noise & sex & hearing\\_noise\\_cat & f.2247.0.0 & f.2247.1.0 & f.2247.2.0 & f.2247.3.0 & f.2247.0.0\\_recode & ⋯ & f.3393.0.0 & f.3393.1.0 & f.3393.2.0 & f.3393.3.0 & f.3393.0.0\\_recode & f.3393.1.0\\_recode & f.3393.2.0\\_recode & f.3393.3.0\\_recode & remove\\_2247 & remove\\_3393\\\\\n",
       "  & <int> & <int> & <int> & <fct> & <int> & <fct> & <fct> & <fct> & <fct> & <fct> & ⋯ & <fct> & <fct> & <fct> & <fct> & <fct> & <fct> & <fct> & <fct> & <lgl> & <lgl>\\\\\n",
       "\\hline\n",
       "\t1 & 1000063 & 1000063 & 43 & 0 & 0 & No  & NA & NA & NA & 0 & ⋯ & No & NA & NA & NA & 0  & NA & NA & NA & FALSE & FALSE\\\\\n",
       "\t2 & 1000078 & 1000078 & 60 & 1 & 0 & No  & No & No & NA & 0 & ⋯ & NA & No & No & NA & NA & 0  & 0  & NA & FALSE & FALSE\\\\\n",
       "\t3 & 1000081 & 1000081 & 67 & 0 & 0 & No  & NA & NA & NA & 0 & ⋯ & No & NA & NA & NA & 0  & NA & NA & NA & FALSE & FALSE\\\\\n",
       "\t4 & 1000090 & 1000090 & 64 & 1 & 0 & Yes & NA & NA & NA & 1 & ⋯ & No & NA & NA & NA & 0  & NA & NA & NA &  TRUE & FALSE\\\\\n",
       "\t5 & 1000129 & 1000129 & 62 & 0 & 0 & No  & NA & NA & NA & 0 & ⋯ & NA & NA & NA & NA & NA & NA & NA & NA & FALSE & FALSE\\\\\n",
       "\t6 & 1000137 & 1000137 & 46 & 1 & 0 & No  & NA & NA & NA & 0 & ⋯ & NA & NA & NA & NA & NA & NA & NA & NA & FALSE & FALSE\\\\\n",
       "\\end{tabular}\n"
      ],
      "text/markdown": [
       "\n",
       "A data.frame: 6 × 23\n",
       "\n",
       "| <!--/--> | FID &lt;int&gt; | IID &lt;int&gt; | age_final_noise &lt;int&gt; | sex &lt;fct&gt; | hearing_noise_cat &lt;int&gt; | f.2247.0.0 &lt;fct&gt; | f.2247.1.0 &lt;fct&gt; | f.2247.2.0 &lt;fct&gt; | f.2247.3.0 &lt;fct&gt; | f.2247.0.0_recode &lt;fct&gt; | ⋯ ⋯ | f.3393.0.0 &lt;fct&gt; | f.3393.1.0 &lt;fct&gt; | f.3393.2.0 &lt;fct&gt; | f.3393.3.0 &lt;fct&gt; | f.3393.0.0_recode &lt;fct&gt; | f.3393.1.0_recode &lt;fct&gt; | f.3393.2.0_recode &lt;fct&gt; | f.3393.3.0_recode &lt;fct&gt; | remove_2247 &lt;lgl&gt; | remove_3393 &lt;lgl&gt; |\n",
       "|---|---|---|---|---|---|---|---|---|---|---|---|---|---|---|---|---|---|---|---|---|---|\n",
       "| 1 | 1000063 | 1000063 | 43 | 0 | 0 | No  | NA | NA | NA | 0 | ⋯ | No | NA | NA | NA | 0  | NA | NA | NA | FALSE | FALSE |\n",
       "| 2 | 1000078 | 1000078 | 60 | 1 | 0 | No  | No | No | NA | 0 | ⋯ | NA | No | No | NA | NA | 0  | 0  | NA | FALSE | FALSE |\n",
       "| 3 | 1000081 | 1000081 | 67 | 0 | 0 | No  | NA | NA | NA | 0 | ⋯ | No | NA | NA | NA | 0  | NA | NA | NA | FALSE | FALSE |\n",
       "| 4 | 1000090 | 1000090 | 64 | 1 | 0 | Yes | NA | NA | NA | 1 | ⋯ | No | NA | NA | NA | 0  | NA | NA | NA |  TRUE | FALSE |\n",
       "| 5 | 1000129 | 1000129 | 62 | 0 | 0 | No  | NA | NA | NA | 0 | ⋯ | NA | NA | NA | NA | NA | NA | NA | NA | FALSE | FALSE |\n",
       "| 6 | 1000137 | 1000137 | 46 | 1 | 0 | No  | NA | NA | NA | 0 | ⋯ | NA | NA | NA | NA | NA | NA | NA | NA | FALSE | FALSE |\n",
       "\n"
      ],
      "text/plain": [
       "  FID     IID     age_final_noise sex hearing_noise_cat f.2247.0.0 f.2247.1.0\n",
       "1 1000063 1000063 43              0   0                 No         NA        \n",
       "2 1000078 1000078 60              1   0                 No         No        \n",
       "3 1000081 1000081 67              0   0                 No         NA        \n",
       "4 1000090 1000090 64              1   0                 Yes        NA        \n",
       "5 1000129 1000129 62              0   0                 No         NA        \n",
       "6 1000137 1000137 46              1   0                 No         NA        \n",
       "  f.2247.2.0 f.2247.3.0 f.2247.0.0_recode ⋯ f.3393.0.0 f.3393.1.0 f.3393.2.0\n",
       "1 NA         NA         0                 ⋯ No         NA         NA        \n",
       "2 No         NA         0                 ⋯ NA         No         No        \n",
       "3 NA         NA         0                 ⋯ No         NA         NA        \n",
       "4 NA         NA         1                 ⋯ No         NA         NA        \n",
       "5 NA         NA         0                 ⋯ NA         NA         NA        \n",
       "6 NA         NA         0                 ⋯ NA         NA         NA        \n",
       "  f.3393.3.0 f.3393.0.0_recode f.3393.1.0_recode f.3393.2.0_recode\n",
       "1 NA         0                 NA                NA               \n",
       "2 NA         NA                0                 0                \n",
       "3 NA         0                 NA                NA               \n",
       "4 NA         0                 NA                NA               \n",
       "5 NA         NA                NA                NA               \n",
       "6 NA         NA                NA                NA               \n",
       "  f.3393.3.0_recode remove_2247 remove_3393\n",
       "1 NA                FALSE       FALSE      \n",
       "2 NA                FALSE       FALSE      \n",
       "3 NA                FALSE       FALSE      \n",
       "4 NA                 TRUE       FALSE      \n",
       "5 NA                FALSE       FALSE      \n",
       "6 NA                FALSE       FALSE      "
      ]
     },
     "metadata": {},
     "output_type": "display_data"
    }
   ],
   "source": [
    "control_check_2257 <- df_3393_2247_2257 %>%\n",
    "    filter(hearing_noise_cat==0) %>%\n",
    "    select(FID, IID, age_final_noise, sex, hearing_noise_cat, starts_with(\"f.2247\"), starts_with(\"f.3393\")) %>%\n",
    "    mutate(remove_2247 = apply(select(.,starts_with(\"f.2247\")), 1, function(x) length(which(x == \"Yes\")) > 0),\n",
    "           remove_3393 = apply(select(.,starts_with(\"f.3393\")), 1, function(x) length(which(x == \"Yes\")) > 0))\n",
    "head(control_check_2257)"
   ]
  },
  {
   "cell_type": "code",
   "execution_count": 357,
   "metadata": {
    "kernel": "R"
   },
   "outputs": [
    {
     "data": {
      "text/html": [
       "15102"
      ],
      "text/latex": [
       "15102"
      ],
      "text/markdown": [
       "15102"
      ],
      "text/plain": [
       "[1] 15102"
      ]
     },
     "metadata": {},
     "output_type": "display_data"
    },
    {
     "data": {
      "text/html": [
       "539"
      ],
      "text/latex": [
       "539"
      ],
      "text/markdown": [
       "539"
      ],
      "text/plain": [
       "[1] 539"
      ]
     },
     "metadata": {},
     "output_type": "display_data"
    },
    {
     "data": {
      "text/html": [
       "478"
      ],
      "text/latex": [
       "478"
      ],
      "text/markdown": [
       "478"
      ],
      "text/plain": [
       "[1] 478"
      ]
     },
     "metadata": {},
     "output_type": "display_data"
    },
    {
     "data": {
      "text/html": [
       "15163"
      ],
      "text/latex": [
       "15163"
      ],
      "text/markdown": [
       "15163"
      ],
      "text/plain": [
       "[1] 15163"
      ]
     },
     "metadata": {},
     "output_type": "display_data"
    }
   ],
   "source": [
    "length(which(control_check_2257$remove_2247==TRUE)) #controls that replied yes to f.2247\n",
    "length(which(control_check_2257$remove_3393==TRUE)) #controls that replied yes to f.3393\n",
    "length(which(control_check_2257$remove_2247==TRUE & control_check_2257$remove_3393==TRUE)) # controls that replied yes to both\n",
    "length(which(control_check_2257$remove_2247==TRUE | control_check_2257$remove_3393==TRUE)) # controls that replied yes to either"
   ]
  },
  {
   "cell_type": "markdown",
   "metadata": {
    "kernel": "R"
   },
   "source": [
    "### Export files white-British"
   ]
  },
  {
   "cell_type": "code",
   "execution_count": 133,
   "metadata": {
    "kernel": "R"
   },
   "outputs": [],
   "source": [
    "write.table(f.2257_pheno, '200828_UKBB_Hearing_background_noise_f2257', quote = FALSE, row.names = FALSE)"
   ]
  },
  {
   "cell_type": "markdown",
   "metadata": {
    "kernel": "R"
   },
   "source": [
    "### Export files white expanded"
   ]
  },
  {
   "cell_type": "code",
   "execution_count": 133,
   "metadata": {
    "kernel": "R"
   },
   "outputs": [],
   "source": [
    "write.table(f.2257_pheno, '120120_UKBB_Hearing_background_noise_f2257_expandedwhite', quote = FALSE, row.names = FALSE)"
   ]
  },
  {
   "cell_type": "markdown",
   "metadata": {
    "kernel": "R"
   },
   "source": [
    "### Export files exome data"
   ]
  },
  {
   "cell_type": "code",
   "execution_count": 142,
   "metadata": {
    "kernel": "R"
   },
   "outputs": [],
   "source": [
    "write.table(f.2257_pheno, 'phenotypes_exome_data/010421_UKBB_Hearing_background_noise_f2257_175531ind_exomes', quote = FALSE, row.names = FALSE)"
   ]
  },
  {
   "cell_type": "markdown",
   "metadata": {
    "kernel": "R"
   },
   "source": [
    "## Combined phenotype f.2247 and f.2257"
   ]
  },
  {
   "cell_type": "code",
   "execution_count": 358,
   "metadata": {
    "kernel": "R"
   },
   "outputs": [
    {
     "data": {
      "text/html": [
       "<table>\n",
       "<caption>A data.frame: 6 × 2284</caption>\n",
       "<thead>\n",
       "\t<tr><th></th><th scope=col>IID</th><th scope=col>FID</th><th scope=col>ignore1</th><th scope=col>ignore2</th><th scope=col>ignore3</th><th scope=col>ignore4</th><th scope=col>f.31.0.0</th><th scope=col>f.34.0.0</th><th scope=col>f.53.0.0</th><th scope=col>f.53.1.0</th><th scope=col>⋯</th><th scope=col>f.2257.3.0_recode</th><th scope=col>hearing_aid_cat</th><th scope=col>age_final_aid</th><th scope=col>hearing_diff_cat</th><th scope=col>age_final_diff</th><th scope=col>hearing_diff_cat_new</th><th scope=col>hearing_aid_cat_new</th><th scope=col>hearing_diff_new</th><th scope=col>hearing_noise_cat</th><th scope=col>age_final_noise</th></tr>\n",
       "\t<tr><th></th><th scope=col>&lt;int&gt;</th><th scope=col>&lt;int&gt;</th><th scope=col>&lt;int&gt;</th><th scope=col>&lt;int&gt;</th><th scope=col>&lt;int&gt;</th><th scope=col>&lt;int&gt;</th><th scope=col>&lt;fct&gt;</th><th scope=col>&lt;int&gt;</th><th scope=col>&lt;fct&gt;</th><th scope=col>&lt;fct&gt;</th><th scope=col>⋯</th><th scope=col>&lt;fct&gt;</th><th scope=col>&lt;int&gt;</th><th scope=col>&lt;int&gt;</th><th scope=col>&lt;int&gt;</th><th scope=col>&lt;int&gt;</th><th scope=col>&lt;fct&gt;</th><th scope=col>&lt;fct&gt;</th><th scope=col>&lt;fct&gt;</th><th scope=col>&lt;int&gt;</th><th scope=col>&lt;int&gt;</th></tr>\n",
       "</thead>\n",
       "<tbody>\n",
       "\t<tr><th scope=row>1</th><td>1000035</td><td>1000035</td><td>0</td><td>0</td><td>1</td><td>-9</td><td>Male  </td><td>1944</td><td>2007-11-08</td><td>NA</td><td>⋯</td><td>NA</td><td>0</td><td>63</td><td>0</td><td>63</td><td>control</td><td>control</td><td>0</td><td>1</td><td>63</td></tr>\n",
       "\t<tr><th scope=row>2</th><td>1000046</td><td>1000046</td><td>0</td><td>0</td><td>2</td><td>-9</td><td>Female</td><td>1946</td><td>2008-12-01</td><td>NA</td><td>⋯</td><td>NA</td><td>0</td><td>73</td><td>0</td><td>73</td><td>control</td><td>control</td><td>0</td><td>1</td><td>73</td></tr>\n",
       "\t<tr><th scope=row>3</th><td>1000054</td><td>1000054</td><td>0</td><td>0</td><td>2</td><td>-9</td><td>Female</td><td>1942</td><td>2007-11-23</td><td>NA</td><td>⋯</td><td>NA</td><td>0</td><td>65</td><td>0</td><td>65</td><td>control</td><td>control</td><td>0</td><td>1</td><td>65</td></tr>\n",
       "\t<tr><th scope=row>4</th><td>1000090</td><td>1000090</td><td>0</td><td>0</td><td>2</td><td>-9</td><td>Female</td><td>1945</td><td>2010-05-17</td><td>NA</td><td>⋯</td><td>NA</td><td>0</td><td>64</td><td>1</td><td>64</td><td>case   </td><td>control</td><td>1</td><td>0</td><td>64</td></tr>\n",
       "\t<tr><th scope=row>5</th><td>1000164</td><td>1000164</td><td>0</td><td>0</td><td>2</td><td>-9</td><td>Female</td><td>1958</td><td>2009-06-26</td><td>NA</td><td>⋯</td><td>NA</td><td>0</td><td>51</td><td>0</td><td>51</td><td>control</td><td>control</td><td>0</td><td>1</td><td>51</td></tr>\n",
       "\t<tr><th scope=row>6</th><td>1000304</td><td>1000304</td><td>0</td><td>0</td><td>2</td><td>-9</td><td>Female</td><td>1951</td><td>2008-02-15</td><td>NA</td><td>⋯</td><td>NA</td><td>0</td><td>56</td><td>0</td><td>56</td><td>control</td><td>control</td><td>0</td><td>1</td><td>56</td></tr>\n",
       "</tbody>\n",
       "</table>\n"
      ],
      "text/latex": [
       "A data.frame: 6 × 2284\n",
       "\\begin{tabular}{r|lllllllllllllllllllll}\n",
       "  & IID & FID & ignore1 & ignore2 & ignore3 & ignore4 & f.31.0.0 & f.34.0.0 & f.53.0.0 & f.53.1.0 & ⋯ & f.2257.3.0\\_recode & hearing\\_aid\\_cat & age\\_final\\_aid & hearing\\_diff\\_cat & age\\_final\\_diff & hearing\\_diff\\_cat\\_new & hearing\\_aid\\_cat\\_new & hearing\\_diff\\_new & hearing\\_noise\\_cat & age\\_final\\_noise\\\\\n",
       "  & <int> & <int> & <int> & <int> & <int> & <int> & <fct> & <int> & <fct> & <fct> & ⋯ & <fct> & <int> & <int> & <int> & <int> & <fct> & <fct> & <fct> & <int> & <int>\\\\\n",
       "\\hline\n",
       "\t1 & 1000035 & 1000035 & 0 & 0 & 1 & -9 & Male   & 1944 & 2007-11-08 & NA & ⋯ & NA & 0 & 63 & 0 & 63 & control & control & 0 & 1 & 63\\\\\n",
       "\t2 & 1000046 & 1000046 & 0 & 0 & 2 & -9 & Female & 1946 & 2008-12-01 & NA & ⋯ & NA & 0 & 73 & 0 & 73 & control & control & 0 & 1 & 73\\\\\n",
       "\t3 & 1000054 & 1000054 & 0 & 0 & 2 & -9 & Female & 1942 & 2007-11-23 & NA & ⋯ & NA & 0 & 65 & 0 & 65 & control & control & 0 & 1 & 65\\\\\n",
       "\t4 & 1000090 & 1000090 & 0 & 0 & 2 & -9 & Female & 1945 & 2010-05-17 & NA & ⋯ & NA & 0 & 64 & 1 & 64 & case    & control & 1 & 0 & 64\\\\\n",
       "\t5 & 1000164 & 1000164 & 0 & 0 & 2 & -9 & Female & 1958 & 2009-06-26 & NA & ⋯ & NA & 0 & 51 & 0 & 51 & control & control & 0 & 1 & 51\\\\\n",
       "\t6 & 1000304 & 1000304 & 0 & 0 & 2 & -9 & Female & 1951 & 2008-02-15 & NA & ⋯ & NA & 0 & 56 & 0 & 56 & control & control & 0 & 1 & 56\\\\\n",
       "\\end{tabular}\n"
      ],
      "text/markdown": [
       "\n",
       "A data.frame: 6 × 2284\n",
       "\n",
       "| <!--/--> | IID &lt;int&gt; | FID &lt;int&gt; | ignore1 &lt;int&gt; | ignore2 &lt;int&gt; | ignore3 &lt;int&gt; | ignore4 &lt;int&gt; | f.31.0.0 &lt;fct&gt; | f.34.0.0 &lt;int&gt; | f.53.0.0 &lt;fct&gt; | f.53.1.0 &lt;fct&gt; | ⋯ ⋯ | f.2257.3.0_recode &lt;fct&gt; | hearing_aid_cat &lt;int&gt; | age_final_aid &lt;int&gt; | hearing_diff_cat &lt;int&gt; | age_final_diff &lt;int&gt; | hearing_diff_cat_new &lt;fct&gt; | hearing_aid_cat_new &lt;fct&gt; | hearing_diff_new &lt;fct&gt; | hearing_noise_cat &lt;int&gt; | age_final_noise &lt;int&gt; |\n",
       "|---|---|---|---|---|---|---|---|---|---|---|---|---|---|---|---|---|---|---|---|---|---|\n",
       "| 1 | 1000035 | 1000035 | 0 | 0 | 1 | -9 | Male   | 1944 | 2007-11-08 | NA | ⋯ | NA | 0 | 63 | 0 | 63 | control | control | 0 | 1 | 63 |\n",
       "| 2 | 1000046 | 1000046 | 0 | 0 | 2 | -9 | Female | 1946 | 2008-12-01 | NA | ⋯ | NA | 0 | 73 | 0 | 73 | control | control | 0 | 1 | 73 |\n",
       "| 3 | 1000054 | 1000054 | 0 | 0 | 2 | -9 | Female | 1942 | 2007-11-23 | NA | ⋯ | NA | 0 | 65 | 0 | 65 | control | control | 0 | 1 | 65 |\n",
       "| 4 | 1000090 | 1000090 | 0 | 0 | 2 | -9 | Female | 1945 | 2010-05-17 | NA | ⋯ | NA | 0 | 64 | 1 | 64 | case    | control | 1 | 0 | 64 |\n",
       "| 5 | 1000164 | 1000164 | 0 | 0 | 2 | -9 | Female | 1958 | 2009-06-26 | NA | ⋯ | NA | 0 | 51 | 0 | 51 | control | control | 0 | 1 | 51 |\n",
       "| 6 | 1000304 | 1000304 | 0 | 0 | 2 | -9 | Female | 1951 | 2008-02-15 | NA | ⋯ | NA | 0 | 56 | 0 | 56 | control | control | 0 | 1 | 56 |\n",
       "\n"
      ],
      "text/plain": [
       "  IID     FID     ignore1 ignore2 ignore3 ignore4 f.31.0.0 f.34.0.0 f.53.0.0  \n",
       "1 1000035 1000035 0       0       1       -9      Male     1944     2007-11-08\n",
       "2 1000046 1000046 0       0       2       -9      Female   1946     2008-12-01\n",
       "3 1000054 1000054 0       0       2       -9      Female   1942     2007-11-23\n",
       "4 1000090 1000090 0       0       2       -9      Female   1945     2010-05-17\n",
       "5 1000164 1000164 0       0       2       -9      Female   1958     2009-06-26\n",
       "6 1000304 1000304 0       0       2       -9      Female   1951     2008-02-15\n",
       "  f.53.1.0 ⋯ f.2257.3.0_recode hearing_aid_cat age_final_aid hearing_diff_cat\n",
       "1 NA       ⋯ NA                0               63            0               \n",
       "2 NA       ⋯ NA                0               73            0               \n",
       "3 NA       ⋯ NA                0               65            0               \n",
       "4 NA       ⋯ NA                0               64            1               \n",
       "5 NA       ⋯ NA                0               51            0               \n",
       "6 NA       ⋯ NA                0               56            0               \n",
       "  age_final_diff hearing_diff_cat_new hearing_aid_cat_new hearing_diff_new\n",
       "1 63             control              control             0               \n",
       "2 73             control              control             0               \n",
       "3 65             control              control             0               \n",
       "4 64             case                 control             1               \n",
       "5 51             control              control             0               \n",
       "6 56             control              control             0               \n",
       "  hearing_noise_cat age_final_noise\n",
       "1 1                 63             \n",
       "2 1                 73             \n",
       "3 1                 65             \n",
       "4 0                 64             \n",
       "5 1                 51             \n",
       "6 1                 56             "
      ]
     },
     "metadata": {},
     "output_type": "display_data"
    },
    {
     "name": "stdout",
     "output_type": "stream",
     "text": [
      "There are  68453 individuals inconsistent for f.2247 and f.2257"
     ]
    },
    {
     "data": {
      "text/html": [
       "<style>\n",
       ".list-inline {list-style: none; margin:0; padding: 0}\n",
       ".list-inline>li {display: inline-block}\n",
       ".list-inline>li:not(:last-child)::after {content: \"\\00b7\"; padding: 0 .5ex}\n",
       "</style>\n",
       "<ol class=list-inline><li>396974</li><li>2284</li></ol>\n"
      ],
      "text/latex": [
       "\\begin{enumerate*}\n",
       "\\item 396974\n",
       "\\item 2284\n",
       "\\end{enumerate*}\n"
      ],
      "text/markdown": [
       "1. 396974\n",
       "2. 2284\n",
       "\n",
       "\n"
      ],
      "text/plain": [
       "[1] 396974   2284"
      ]
     },
     "metadata": {},
     "output_type": "display_data"
    }
   ],
   "source": [
    "hybrid_inconsistent <- df_3393_2247_2257 %>%\n",
    " filter(hearing_noise_cat != hearing_diff_new)\n",
    "head(hybrid_inconsistent)\n",
    "cat (\"There are \",nrow(hybrid_inconsistent),\"individuals inconsistent for f.2247 and f.2257\")\n",
    "dim(df_3393_2247_2257)"
   ]
  },
  {
   "cell_type": "code",
   "execution_count": 359,
   "metadata": {
    "kernel": "R"
   },
   "outputs": [
    {
     "data": {
      "text/html": [
       "368376"
      ],
      "text/latex": [
       "368376"
      ],
      "text/markdown": [
       "368376"
      ],
      "text/plain": [
       "[1] 368376"
      ]
     },
     "metadata": {},
     "output_type": "display_data"
    }
   ],
   "source": [
    "length(which(!is.na(df_3393_2247_2257$hearing_noise_cat) & !is.na(df_3393_2247_2257$hearing_diff_new)))"
   ]
  },
  {
   "cell_type": "code",
   "execution_count": 360,
   "metadata": {
    "kernel": "R"
   },
   "outputs": [
    {
     "data": {
      "text/html": [
       "28598"
      ],
      "text/latex": [
       "28598"
      ],
      "text/markdown": [
       "28598"
      ],
      "text/plain": [
       "[1] 28598"
      ]
     },
     "metadata": {},
     "output_type": "display_data"
    }
   ],
   "source": [
    "length(which(is.na(df_3393_2247_2257$hearing_noise_cat) | is.na(df_3393_2247_2257$hearing_diff_new))) "
   ]
  },
  {
   "cell_type": "code",
   "execution_count": 361,
   "metadata": {
    "kernel": "R"
   },
   "outputs": [
    {
     "data": {
      "text/html": [
       "<table>\n",
       "<caption>A data.frame: 6 × 2284</caption>\n",
       "<thead>\n",
       "\t<tr><th></th><th scope=col>IID</th><th scope=col>FID</th><th scope=col>ignore1</th><th scope=col>ignore2</th><th scope=col>ignore3</th><th scope=col>ignore4</th><th scope=col>f.31.0.0</th><th scope=col>f.34.0.0</th><th scope=col>f.53.0.0</th><th scope=col>f.53.1.0</th><th scope=col>⋯</th><th scope=col>f.2257.3.0_recode</th><th scope=col>hearing_aid_cat</th><th scope=col>age_final_aid</th><th scope=col>hearing_diff_cat</th><th scope=col>age_final_diff</th><th scope=col>hearing_diff_cat_new</th><th scope=col>hearing_aid_cat_new</th><th scope=col>hearing_diff_new</th><th scope=col>hearing_noise_cat</th><th scope=col>age_final_noise</th></tr>\n",
       "\t<tr><th></th><th scope=col>&lt;int&gt;</th><th scope=col>&lt;int&gt;</th><th scope=col>&lt;int&gt;</th><th scope=col>&lt;int&gt;</th><th scope=col>&lt;int&gt;</th><th scope=col>&lt;int&gt;</th><th scope=col>&lt;fct&gt;</th><th scope=col>&lt;int&gt;</th><th scope=col>&lt;fct&gt;</th><th scope=col>&lt;fct&gt;</th><th scope=col>⋯</th><th scope=col>&lt;fct&gt;</th><th scope=col>&lt;int&gt;</th><th scope=col>&lt;int&gt;</th><th scope=col>&lt;int&gt;</th><th scope=col>&lt;int&gt;</th><th scope=col>&lt;fct&gt;</th><th scope=col>&lt;fct&gt;</th><th scope=col>&lt;fct&gt;</th><th scope=col>&lt;int&gt;</th><th scope=col>&lt;int&gt;</th></tr>\n",
       "</thead>\n",
       "<tbody>\n",
       "\t<tr><th scope=row>1</th><td>1000019</td><td>1000019</td><td>0</td><td>0</td><td>2</td><td>-9</td><td>Female</td><td>1960</td><td>2008-01-24</td><td>NA        </td><td>⋯</td><td>NA</td><td>0</td><td>47</td><td>1</td><td>47</td><td>case   </td><td>control</td><td>1</td><td>1</td><td>47</td></tr>\n",
       "\t<tr><th scope=row>2</th><td>1000022</td><td>1000022</td><td>0</td><td>0</td><td>1</td><td>-9</td><td>Male  </td><td>1954</td><td>2008-01-22</td><td>NA        </td><td>⋯</td><td>NA</td><td>0</td><td>53</td><td>1</td><td>53</td><td>case   </td><td>control</td><td>1</td><td>1</td><td>53</td></tr>\n",
       "\t<tr><th scope=row>3</th><td>1000063</td><td>1000063</td><td>0</td><td>0</td><td>1</td><td>-9</td><td>Male  </td><td>1967</td><td>2010-06-26</td><td>NA        </td><td>⋯</td><td>NA</td><td>0</td><td>43</td><td>0</td><td>43</td><td>control</td><td>control</td><td>0</td><td>0</td><td>43</td></tr>\n",
       "\t<tr><th scope=row>4</th><td>1000078</td><td>1000078</td><td>0</td><td>0</td><td>2</td><td>-9</td><td>Female</td><td>1955</td><td>2007-08-20</td><td>2012-11-01</td><td>⋯</td><td>NA</td><td>0</td><td>60</td><td>0</td><td>60</td><td>control</td><td>control</td><td>0</td><td>0</td><td>60</td></tr>\n",
       "\t<tr><th scope=row>5</th><td>1000081</td><td>1000081</td><td>0</td><td>0</td><td>1</td><td>-9</td><td>Male  </td><td>1942</td><td>2009-12-03</td><td>NA        </td><td>⋯</td><td>NA</td><td>0</td><td>67</td><td>0</td><td>67</td><td>control</td><td>control</td><td>0</td><td>0</td><td>67</td></tr>\n",
       "\t<tr><th scope=row>6</th><td>1000112</td><td>1000112</td><td>0</td><td>0</td><td>1</td><td>-9</td><td>Male  </td><td>1949</td><td>2008-04-01</td><td>NA        </td><td>⋯</td><td>NA</td><td>1</td><td>68</td><td>1</td><td>68</td><td>case   </td><td>case   </td><td>1</td><td>1</td><td>68</td></tr>\n",
       "</tbody>\n",
       "</table>\n"
      ],
      "text/latex": [
       "A data.frame: 6 × 2284\n",
       "\\begin{tabular}{r|lllllllllllllllllllll}\n",
       "  & IID & FID & ignore1 & ignore2 & ignore3 & ignore4 & f.31.0.0 & f.34.0.0 & f.53.0.0 & f.53.1.0 & ⋯ & f.2257.3.0\\_recode & hearing\\_aid\\_cat & age\\_final\\_aid & hearing\\_diff\\_cat & age\\_final\\_diff & hearing\\_diff\\_cat\\_new & hearing\\_aid\\_cat\\_new & hearing\\_diff\\_new & hearing\\_noise\\_cat & age\\_final\\_noise\\\\\n",
       "  & <int> & <int> & <int> & <int> & <int> & <int> & <fct> & <int> & <fct> & <fct> & ⋯ & <fct> & <int> & <int> & <int> & <int> & <fct> & <fct> & <fct> & <int> & <int>\\\\\n",
       "\\hline\n",
       "\t1 & 1000019 & 1000019 & 0 & 0 & 2 & -9 & Female & 1960 & 2008-01-24 & NA         & ⋯ & NA & 0 & 47 & 1 & 47 & case    & control & 1 & 1 & 47\\\\\n",
       "\t2 & 1000022 & 1000022 & 0 & 0 & 1 & -9 & Male   & 1954 & 2008-01-22 & NA         & ⋯ & NA & 0 & 53 & 1 & 53 & case    & control & 1 & 1 & 53\\\\\n",
       "\t3 & 1000063 & 1000063 & 0 & 0 & 1 & -9 & Male   & 1967 & 2010-06-26 & NA         & ⋯ & NA & 0 & 43 & 0 & 43 & control & control & 0 & 0 & 43\\\\\n",
       "\t4 & 1000078 & 1000078 & 0 & 0 & 2 & -9 & Female & 1955 & 2007-08-20 & 2012-11-01 & ⋯ & NA & 0 & 60 & 0 & 60 & control & control & 0 & 0 & 60\\\\\n",
       "\t5 & 1000081 & 1000081 & 0 & 0 & 1 & -9 & Male   & 1942 & 2009-12-03 & NA         & ⋯ & NA & 0 & 67 & 0 & 67 & control & control & 0 & 0 & 67\\\\\n",
       "\t6 & 1000112 & 1000112 & 0 & 0 & 1 & -9 & Male   & 1949 & 2008-04-01 & NA         & ⋯ & NA & 1 & 68 & 1 & 68 & case    & case    & 1 & 1 & 68\\\\\n",
       "\\end{tabular}\n"
      ],
      "text/markdown": [
       "\n",
       "A data.frame: 6 × 2284\n",
       "\n",
       "| <!--/--> | IID &lt;int&gt; | FID &lt;int&gt; | ignore1 &lt;int&gt; | ignore2 &lt;int&gt; | ignore3 &lt;int&gt; | ignore4 &lt;int&gt; | f.31.0.0 &lt;fct&gt; | f.34.0.0 &lt;int&gt; | f.53.0.0 &lt;fct&gt; | f.53.1.0 &lt;fct&gt; | ⋯ ⋯ | f.2257.3.0_recode &lt;fct&gt; | hearing_aid_cat &lt;int&gt; | age_final_aid &lt;int&gt; | hearing_diff_cat &lt;int&gt; | age_final_diff &lt;int&gt; | hearing_diff_cat_new &lt;fct&gt; | hearing_aid_cat_new &lt;fct&gt; | hearing_diff_new &lt;fct&gt; | hearing_noise_cat &lt;int&gt; | age_final_noise &lt;int&gt; |\n",
       "|---|---|---|---|---|---|---|---|---|---|---|---|---|---|---|---|---|---|---|---|---|---|\n",
       "| 1 | 1000019 | 1000019 | 0 | 0 | 2 | -9 | Female | 1960 | 2008-01-24 | NA         | ⋯ | NA | 0 | 47 | 1 | 47 | case    | control | 1 | 1 | 47 |\n",
       "| 2 | 1000022 | 1000022 | 0 | 0 | 1 | -9 | Male   | 1954 | 2008-01-22 | NA         | ⋯ | NA | 0 | 53 | 1 | 53 | case    | control | 1 | 1 | 53 |\n",
       "| 3 | 1000063 | 1000063 | 0 | 0 | 1 | -9 | Male   | 1967 | 2010-06-26 | NA         | ⋯ | NA | 0 | 43 | 0 | 43 | control | control | 0 | 0 | 43 |\n",
       "| 4 | 1000078 | 1000078 | 0 | 0 | 2 | -9 | Female | 1955 | 2007-08-20 | 2012-11-01 | ⋯ | NA | 0 | 60 | 0 | 60 | control | control | 0 | 0 | 60 |\n",
       "| 5 | 1000081 | 1000081 | 0 | 0 | 1 | -9 | Male   | 1942 | 2009-12-03 | NA         | ⋯ | NA | 0 | 67 | 0 | 67 | control | control | 0 | 0 | 67 |\n",
       "| 6 | 1000112 | 1000112 | 0 | 0 | 1 | -9 | Male   | 1949 | 2008-04-01 | NA         | ⋯ | NA | 1 | 68 | 1 | 68 | case    | case    | 1 | 1 | 68 |\n",
       "\n"
      ],
      "text/plain": [
       "  IID     FID     ignore1 ignore2 ignore3 ignore4 f.31.0.0 f.34.0.0 f.53.0.0  \n",
       "1 1000019 1000019 0       0       2       -9      Female   1960     2008-01-24\n",
       "2 1000022 1000022 0       0       1       -9      Male     1954     2008-01-22\n",
       "3 1000063 1000063 0       0       1       -9      Male     1967     2010-06-26\n",
       "4 1000078 1000078 0       0       2       -9      Female   1955     2007-08-20\n",
       "5 1000081 1000081 0       0       1       -9      Male     1942     2009-12-03\n",
       "6 1000112 1000112 0       0       1       -9      Male     1949     2008-04-01\n",
       "  f.53.1.0   ⋯ f.2257.3.0_recode hearing_aid_cat age_final_aid hearing_diff_cat\n",
       "1 NA         ⋯ NA                0               47            1               \n",
       "2 NA         ⋯ NA                0               53            1               \n",
       "3 NA         ⋯ NA                0               43            0               \n",
       "4 2012-11-01 ⋯ NA                0               60            0               \n",
       "5 NA         ⋯ NA                0               67            0               \n",
       "6 NA         ⋯ NA                1               68            1               \n",
       "  age_final_diff hearing_diff_cat_new hearing_aid_cat_new hearing_diff_new\n",
       "1 47             case                 control             1               \n",
       "2 53             case                 control             1               \n",
       "3 43             control              control             0               \n",
       "4 60             control              control             0               \n",
       "5 67             control              control             0               \n",
       "6 68             case                 case                1               \n",
       "  hearing_noise_cat age_final_noise\n",
       "1 1                 47             \n",
       "2 1                 53             \n",
       "3 0                 43             \n",
       "4 0                 60             \n",
       "5 0                 67             \n",
       "6 1                 68             "
      ]
     },
     "metadata": {},
     "output_type": "display_data"
    },
    {
     "name": "stdout",
     "output_type": "stream",
     "text": [
      "There are  299923 individuals consistent for f.2247 and f.2257"
     ]
    }
   ],
   "source": [
    "hybrid_consistent <- df_3393_2247_2257 %>%\n",
    " filter(hearing_noise_cat == hearing_diff_new)\n",
    "head(hybrid_consistent)\n",
    "cat (\"There are \",nrow(hybrid_consistent),\"individuals consistent for f.2247 and f.2257\")"
   ]
  },
  {
   "cell_type": "code",
   "execution_count": 362,
   "metadata": {
    "kernel": "R"
   },
   "outputs": [
    {
     "data": {
      "text/html": [
       "<table>\n",
       "<caption>A data.frame: 6 × 3</caption>\n",
       "<thead>\n",
       "\t<tr><th></th><th scope=col>IID</th><th scope=col>age_final_diff</th><th scope=col>age_final_noise</th></tr>\n",
       "\t<tr><th></th><th scope=col>&lt;int&gt;</th><th scope=col>&lt;int&gt;</th><th scope=col>&lt;int&gt;</th></tr>\n",
       "</thead>\n",
       "<tbody>\n",
       "\t<tr><th scope=row>1</th><td>1000019</td><td>47</td><td>47</td></tr>\n",
       "\t<tr><th scope=row>2</th><td>1000022</td><td>53</td><td>53</td></tr>\n",
       "\t<tr><th scope=row>3</th><td>1000063</td><td>43</td><td>43</td></tr>\n",
       "\t<tr><th scope=row>4</th><td>1000078</td><td>60</td><td>60</td></tr>\n",
       "\t<tr><th scope=row>5</th><td>1000081</td><td>67</td><td>67</td></tr>\n",
       "\t<tr><th scope=row>6</th><td>1000112</td><td>68</td><td>68</td></tr>\n",
       "</tbody>\n",
       "</table>\n"
      ],
      "text/latex": [
       "A data.frame: 6 × 3\n",
       "\\begin{tabular}{r|lll}\n",
       "  & IID & age\\_final\\_diff & age\\_final\\_noise\\\\\n",
       "  & <int> & <int> & <int>\\\\\n",
       "\\hline\n",
       "\t1 & 1000019 & 47 & 47\\\\\n",
       "\t2 & 1000022 & 53 & 53\\\\\n",
       "\t3 & 1000063 & 43 & 43\\\\\n",
       "\t4 & 1000078 & 60 & 60\\\\\n",
       "\t5 & 1000081 & 67 & 67\\\\\n",
       "\t6 & 1000112 & 68 & 68\\\\\n",
       "\\end{tabular}\n"
      ],
      "text/markdown": [
       "\n",
       "A data.frame: 6 × 3\n",
       "\n",
       "| <!--/--> | IID &lt;int&gt; | age_final_diff &lt;int&gt; | age_final_noise &lt;int&gt; |\n",
       "|---|---|---|---|\n",
       "| 1 | 1000019 | 47 | 47 |\n",
       "| 2 | 1000022 | 53 | 53 |\n",
       "| 3 | 1000063 | 43 | 43 |\n",
       "| 4 | 1000078 | 60 | 60 |\n",
       "| 5 | 1000081 | 67 | 67 |\n",
       "| 6 | 1000112 | 68 | 68 |\n",
       "\n"
      ],
      "text/plain": [
       "  IID     age_final_diff age_final_noise\n",
       "1 1000019 47             47             \n",
       "2 1000022 53             53             \n",
       "3 1000063 43             43             \n",
       "4 1000078 60             60             \n",
       "5 1000081 67             67             \n",
       "6 1000112 68             68             "
      ]
     },
     "metadata": {},
     "output_type": "display_data"
    }
   ],
   "source": [
    "age_consistency <- hybrid_consistent %>%\n",
    "    select(IID, age_final_diff, age_final_noise)\n",
    "head(age_consistency)"
   ]
  },
  {
   "cell_type": "code",
   "execution_count": 363,
   "metadata": {
    "kernel": "R"
   },
   "outputs": [
    {
     "data": {
      "text/html": [
       "FALSE"
      ],
      "text/latex": [
       "FALSE"
      ],
      "text/markdown": [
       "FALSE"
      ],
      "text/plain": [
       "[1] FALSE"
      ]
     },
     "metadata": {},
     "output_type": "display_data"
    }
   ],
   "source": [
    "# There are inconsistencies for the age between hearing difficulty and background noise\n",
    "all(age_consistency$age_final_diff == age_consistency$age_final_noise)"
   ]
  },
  {
   "cell_type": "code",
   "execution_count": 364,
   "metadata": {
    "kernel": "R"
   },
   "outputs": [
    {
     "data": {
      "text/html": [
       "<table>\n",
       "<caption>A data.frame: 6 × 2284</caption>\n",
       "<thead>\n",
       "\t<tr><th></th><th scope=col>IID</th><th scope=col>FID</th><th scope=col>ignore1</th><th scope=col>ignore2</th><th scope=col>ignore3</th><th scope=col>ignore4</th><th scope=col>f.31.0.0</th><th scope=col>f.34.0.0</th><th scope=col>f.53.0.0</th><th scope=col>f.53.1.0</th><th scope=col>⋯</th><th scope=col>f.2257.3.0_recode</th><th scope=col>hearing_aid_cat</th><th scope=col>age_final_aid</th><th scope=col>hearing_diff_cat</th><th scope=col>age_final_diff</th><th scope=col>hearing_diff_cat_new</th><th scope=col>hearing_aid_cat_new</th><th scope=col>hearing_diff_new</th><th scope=col>hearing_noise_cat</th><th scope=col>age_final_noise</th></tr>\n",
       "\t<tr><th></th><th scope=col>&lt;int&gt;</th><th scope=col>&lt;int&gt;</th><th scope=col>&lt;int&gt;</th><th scope=col>&lt;int&gt;</th><th scope=col>&lt;int&gt;</th><th scope=col>&lt;int&gt;</th><th scope=col>&lt;fct&gt;</th><th scope=col>&lt;int&gt;</th><th scope=col>&lt;fct&gt;</th><th scope=col>&lt;fct&gt;</th><th scope=col>⋯</th><th scope=col>&lt;fct&gt;</th><th scope=col>&lt;int&gt;</th><th scope=col>&lt;int&gt;</th><th scope=col>&lt;int&gt;</th><th scope=col>&lt;int&gt;</th><th scope=col>&lt;fct&gt;</th><th scope=col>&lt;fct&gt;</th><th scope=col>&lt;fct&gt;</th><th scope=col>&lt;int&gt;</th><th scope=col>&lt;int&gt;</th></tr>\n",
       "</thead>\n",
       "<tbody>\n",
       "\t<tr><th scope=row>1</th><td>1002378</td><td>1002378</td><td>0</td><td>0</td><td>1</td><td>-9</td><td>Male  </td><td>1950</td><td>2008-11-01</td><td>NA</td><td>⋯</td><td>NA</td><td>0</td><td>68</td><td>1</td><td>58</td><td>case</td><td>control</td><td>1</td><td>1</td><td>68</td></tr>\n",
       "\t<tr><th scope=row>2</th><td>1006407</td><td>1006407</td><td>0</td><td>0</td><td>2</td><td>-9</td><td>Female</td><td>1949</td><td>2008-09-30</td><td>NA</td><td>⋯</td><td>NA</td><td>0</td><td>65</td><td>1</td><td>59</td><td>case</td><td>control</td><td>1</td><td>1</td><td>65</td></tr>\n",
       "\t<tr><th scope=row>3</th><td>1006513</td><td>1006513</td><td>0</td><td>0</td><td>2</td><td>-9</td><td>Female</td><td>1955</td><td>2010-02-23</td><td>NA</td><td>⋯</td><td>NA</td><td>1</td><td>59</td><td>1</td><td>59</td><td>case</td><td>case   </td><td>1</td><td>1</td><td>54</td></tr>\n",
       "\t<tr><th scope=row>4</th><td>1008266</td><td>1008266</td><td>0</td><td>0</td><td>1</td><td>-9</td><td>Male  </td><td>1949</td><td>2008-04-30</td><td>NA</td><td>⋯</td><td>NA</td><td>0</td><td>69</td><td>1</td><td>58</td><td>case</td><td>control</td><td>1</td><td>1</td><td>69</td></tr>\n",
       "\t<tr><th scope=row>5</th><td>1012730</td><td>1012730</td><td>0</td><td>0</td><td>1</td><td>-9</td><td>Male  </td><td>1947</td><td>2010-05-26</td><td>NA</td><td>⋯</td><td>1 </td><td>0</td><td>73</td><td>1</td><td>70</td><td>case</td><td>control</td><td>1</td><td>1</td><td>63</td></tr>\n",
       "\t<tr><th scope=row>6</th><td>1015865</td><td>1015865</td><td>0</td><td>0</td><td>2</td><td>-9</td><td>Female</td><td>1948</td><td>2010-04-27</td><td>NA</td><td>⋯</td><td>NA</td><td>0</td><td>71</td><td>1</td><td>71</td><td>case</td><td>control</td><td>1</td><td>1</td><td>62</td></tr>\n",
       "</tbody>\n",
       "</table>\n"
      ],
      "text/latex": [
       "A data.frame: 6 × 2284\n",
       "\\begin{tabular}{r|lllllllllllllllllllll}\n",
       "  & IID & FID & ignore1 & ignore2 & ignore3 & ignore4 & f.31.0.0 & f.34.0.0 & f.53.0.0 & f.53.1.0 & ⋯ & f.2257.3.0\\_recode & hearing\\_aid\\_cat & age\\_final\\_aid & hearing\\_diff\\_cat & age\\_final\\_diff & hearing\\_diff\\_cat\\_new & hearing\\_aid\\_cat\\_new & hearing\\_diff\\_new & hearing\\_noise\\_cat & age\\_final\\_noise\\\\\n",
       "  & <int> & <int> & <int> & <int> & <int> & <int> & <fct> & <int> & <fct> & <fct> & ⋯ & <fct> & <int> & <int> & <int> & <int> & <fct> & <fct> & <fct> & <int> & <int>\\\\\n",
       "\\hline\n",
       "\t1 & 1002378 & 1002378 & 0 & 0 & 1 & -9 & Male   & 1950 & 2008-11-01 & NA & ⋯ & NA & 0 & 68 & 1 & 58 & case & control & 1 & 1 & 68\\\\\n",
       "\t2 & 1006407 & 1006407 & 0 & 0 & 2 & -9 & Female & 1949 & 2008-09-30 & NA & ⋯ & NA & 0 & 65 & 1 & 59 & case & control & 1 & 1 & 65\\\\\n",
       "\t3 & 1006513 & 1006513 & 0 & 0 & 2 & -9 & Female & 1955 & 2010-02-23 & NA & ⋯ & NA & 1 & 59 & 1 & 59 & case & case    & 1 & 1 & 54\\\\\n",
       "\t4 & 1008266 & 1008266 & 0 & 0 & 1 & -9 & Male   & 1949 & 2008-04-30 & NA & ⋯ & NA & 0 & 69 & 1 & 58 & case & control & 1 & 1 & 69\\\\\n",
       "\t5 & 1012730 & 1012730 & 0 & 0 & 1 & -9 & Male   & 1947 & 2010-05-26 & NA & ⋯ & 1  & 0 & 73 & 1 & 70 & case & control & 1 & 1 & 63\\\\\n",
       "\t6 & 1015865 & 1015865 & 0 & 0 & 2 & -9 & Female & 1948 & 2010-04-27 & NA & ⋯ & NA & 0 & 71 & 1 & 71 & case & control & 1 & 1 & 62\\\\\n",
       "\\end{tabular}\n"
      ],
      "text/markdown": [
       "\n",
       "A data.frame: 6 × 2284\n",
       "\n",
       "| <!--/--> | IID &lt;int&gt; | FID &lt;int&gt; | ignore1 &lt;int&gt; | ignore2 &lt;int&gt; | ignore3 &lt;int&gt; | ignore4 &lt;int&gt; | f.31.0.0 &lt;fct&gt; | f.34.0.0 &lt;int&gt; | f.53.0.0 &lt;fct&gt; | f.53.1.0 &lt;fct&gt; | ⋯ ⋯ | f.2257.3.0_recode &lt;fct&gt; | hearing_aid_cat &lt;int&gt; | age_final_aid &lt;int&gt; | hearing_diff_cat &lt;int&gt; | age_final_diff &lt;int&gt; | hearing_diff_cat_new &lt;fct&gt; | hearing_aid_cat_new &lt;fct&gt; | hearing_diff_new &lt;fct&gt; | hearing_noise_cat &lt;int&gt; | age_final_noise &lt;int&gt; |\n",
       "|---|---|---|---|---|---|---|---|---|---|---|---|---|---|---|---|---|---|---|---|---|---|\n",
       "| 1 | 1002378 | 1002378 | 0 | 0 | 1 | -9 | Male   | 1950 | 2008-11-01 | NA | ⋯ | NA | 0 | 68 | 1 | 58 | case | control | 1 | 1 | 68 |\n",
       "| 2 | 1006407 | 1006407 | 0 | 0 | 2 | -9 | Female | 1949 | 2008-09-30 | NA | ⋯ | NA | 0 | 65 | 1 | 59 | case | control | 1 | 1 | 65 |\n",
       "| 3 | 1006513 | 1006513 | 0 | 0 | 2 | -9 | Female | 1955 | 2010-02-23 | NA | ⋯ | NA | 1 | 59 | 1 | 59 | case | case    | 1 | 1 | 54 |\n",
       "| 4 | 1008266 | 1008266 | 0 | 0 | 1 | -9 | Male   | 1949 | 2008-04-30 | NA | ⋯ | NA | 0 | 69 | 1 | 58 | case | control | 1 | 1 | 69 |\n",
       "| 5 | 1012730 | 1012730 | 0 | 0 | 1 | -9 | Male   | 1947 | 2010-05-26 | NA | ⋯ | 1  | 0 | 73 | 1 | 70 | case | control | 1 | 1 | 63 |\n",
       "| 6 | 1015865 | 1015865 | 0 | 0 | 2 | -9 | Female | 1948 | 2010-04-27 | NA | ⋯ | NA | 0 | 71 | 1 | 71 | case | control | 1 | 1 | 62 |\n",
       "\n"
      ],
      "text/plain": [
       "  IID     FID     ignore1 ignore2 ignore3 ignore4 f.31.0.0 f.34.0.0 f.53.0.0  \n",
       "1 1002378 1002378 0       0       1       -9      Male     1950     2008-11-01\n",
       "2 1006407 1006407 0       0       2       -9      Female   1949     2008-09-30\n",
       "3 1006513 1006513 0       0       2       -9      Female   1955     2010-02-23\n",
       "4 1008266 1008266 0       0       1       -9      Male     1949     2008-04-30\n",
       "5 1012730 1012730 0       0       1       -9      Male     1947     2010-05-26\n",
       "6 1015865 1015865 0       0       2       -9      Female   1948     2010-04-27\n",
       "  f.53.1.0 ⋯ f.2257.3.0_recode hearing_aid_cat age_final_aid hearing_diff_cat\n",
       "1 NA       ⋯ NA                0               68            1               \n",
       "2 NA       ⋯ NA                0               65            1               \n",
       "3 NA       ⋯ NA                1               59            1               \n",
       "4 NA       ⋯ NA                0               69            1               \n",
       "5 NA       ⋯ 1                 0               73            1               \n",
       "6 NA       ⋯ NA                0               71            1               \n",
       "  age_final_diff hearing_diff_cat_new hearing_aid_cat_new hearing_diff_new\n",
       "1 58             case                 control             1               \n",
       "2 59             case                 control             1               \n",
       "3 59             case                 case                1               \n",
       "4 58             case                 control             1               \n",
       "5 70             case                 control             1               \n",
       "6 71             case                 control             1               \n",
       "  hearing_noise_cat age_final_noise\n",
       "1 1                 68             \n",
       "2 1                 65             \n",
       "3 1                 54             \n",
       "4 1                 69             \n",
       "5 1                 63             \n",
       "6 1                 62             "
      ]
     },
     "metadata": {},
     "output_type": "display_data"
    },
    {
     "name": "stdout",
     "output_type": "stream",
     "text": [
      "There are 3607 individuals with inconsistent ages for hearing difficulty and background noise"
     ]
    }
   ],
   "source": [
    "age_inconsistency <- hybrid_consistent %>%\n",
    "    filter(age_final_diff != age_final_noise)\n",
    "head(age_inconsistency)\n",
    "cat (\"There are\",nrow(age_inconsistency), \"individuals with inconsistent ages for hearing difficulty and background noise\")"
   ]
  },
  {
   "cell_type": "code",
   "execution_count": 365,
   "metadata": {
    "kernel": "R"
   },
   "outputs": [
    {
     "data": {
      "text/html": [
       "<table>\n",
       "<caption>A data.frame: 6 × 7</caption>\n",
       "<thead>\n",
       "\t<tr><th></th><th scope=col>FID</th><th scope=col>IID</th><th scope=col>sex</th><th scope=col>hearing_diff_new</th><th scope=col>hearing_noise_cat</th><th scope=col>age_final_diff</th><th scope=col>age_final_noise</th></tr>\n",
       "\t<tr><th></th><th scope=col>&lt;int&gt;</th><th scope=col>&lt;int&gt;</th><th scope=col>&lt;fct&gt;</th><th scope=col>&lt;fct&gt;</th><th scope=col>&lt;int&gt;</th><th scope=col>&lt;int&gt;</th><th scope=col>&lt;int&gt;</th></tr>\n",
       "</thead>\n",
       "<tbody>\n",
       "\t<tr><th scope=row>1</th><td>1002378</td><td>1002378</td><td>0</td><td>1</td><td>1</td><td>58</td><td>68</td></tr>\n",
       "\t<tr><th scope=row>2</th><td>1006407</td><td>1006407</td><td>1</td><td>1</td><td>1</td><td>59</td><td>65</td></tr>\n",
       "\t<tr><th scope=row>3</th><td>1006513</td><td>1006513</td><td>1</td><td>1</td><td>1</td><td>59</td><td>54</td></tr>\n",
       "\t<tr><th scope=row>4</th><td>1008266</td><td>1008266</td><td>0</td><td>1</td><td>1</td><td>58</td><td>69</td></tr>\n",
       "\t<tr><th scope=row>5</th><td>1012730</td><td>1012730</td><td>0</td><td>1</td><td>1</td><td>70</td><td>63</td></tr>\n",
       "\t<tr><th scope=row>6</th><td>1015865</td><td>1015865</td><td>1</td><td>1</td><td>1</td><td>71</td><td>62</td></tr>\n",
       "</tbody>\n",
       "</table>\n"
      ],
      "text/latex": [
       "A data.frame: 6 × 7\n",
       "\\begin{tabular}{r|lllllll}\n",
       "  & FID & IID & sex & hearing\\_diff\\_new & hearing\\_noise\\_cat & age\\_final\\_diff & age\\_final\\_noise\\\\\n",
       "  & <int> & <int> & <fct> & <fct> & <int> & <int> & <int>\\\\\n",
       "\\hline\n",
       "\t1 & 1002378 & 1002378 & 0 & 1 & 1 & 58 & 68\\\\\n",
       "\t2 & 1006407 & 1006407 & 1 & 1 & 1 & 59 & 65\\\\\n",
       "\t3 & 1006513 & 1006513 & 1 & 1 & 1 & 59 & 54\\\\\n",
       "\t4 & 1008266 & 1008266 & 0 & 1 & 1 & 58 & 69\\\\\n",
       "\t5 & 1012730 & 1012730 & 0 & 1 & 1 & 70 & 63\\\\\n",
       "\t6 & 1015865 & 1015865 & 1 & 1 & 1 & 71 & 62\\\\\n",
       "\\end{tabular}\n"
      ],
      "text/markdown": [
       "\n",
       "A data.frame: 6 × 7\n",
       "\n",
       "| <!--/--> | FID &lt;int&gt; | IID &lt;int&gt; | sex &lt;fct&gt; | hearing_diff_new &lt;fct&gt; | hearing_noise_cat &lt;int&gt; | age_final_diff &lt;int&gt; | age_final_noise &lt;int&gt; |\n",
       "|---|---|---|---|---|---|---|---|\n",
       "| 1 | 1002378 | 1002378 | 0 | 1 | 1 | 58 | 68 |\n",
       "| 2 | 1006407 | 1006407 | 1 | 1 | 1 | 59 | 65 |\n",
       "| 3 | 1006513 | 1006513 | 1 | 1 | 1 | 59 | 54 |\n",
       "| 4 | 1008266 | 1008266 | 0 | 1 | 1 | 58 | 69 |\n",
       "| 5 | 1012730 | 1012730 | 0 | 1 | 1 | 70 | 63 |\n",
       "| 6 | 1015865 | 1015865 | 1 | 1 | 1 | 71 | 62 |\n",
       "\n"
      ],
      "text/plain": [
       "  FID     IID     sex hearing_diff_new hearing_noise_cat age_final_diff\n",
       "1 1002378 1002378 0   1                1                 58            \n",
       "2 1006407 1006407 1   1                1                 59            \n",
       "3 1006513 1006513 1   1                1                 59            \n",
       "4 1008266 1008266 0   1                1                 58            \n",
       "5 1012730 1012730 0   1                1                 70            \n",
       "6 1015865 1015865 1   1                1                 71            \n",
       "  age_final_noise\n",
       "1 68             \n",
       "2 65             \n",
       "3 54             \n",
       "4 69             \n",
       "5 63             \n",
       "6 62             "
      ]
     },
     "metadata": {},
     "output_type": "display_data"
    },
    {
     "name": "stdout",
     "output_type": "stream",
     "text": [
      "There are 3599 cases with inconsistent ages for hearing difficulty and background noise"
     ]
    }
   ],
   "source": [
    "age_inconsistency_cases <- hybrid_consistent %>%\n",
    "    filter(hearing_noise_cat == 1 &  hearing_diff_new ==1) %>%\n",
    "    filter(age_final_diff != age_final_noise) %>%\n",
    "    select(FID, IID, sex, hearing_diff_new, hearing_noise_cat, age_final_diff, age_final_noise)\n",
    "head(age_inconsistency_cases)\n",
    "cat (\"There are\",nrow(age_inconsistency_cases), \"cases with inconsistent ages for hearing difficulty and background noise\")"
   ]
  },
  {
   "cell_type": "code",
   "execution_count": 366,
   "metadata": {
    "kernel": "R"
   },
   "outputs": [
    {
     "data": {
      "text/html": [
       "<table>\n",
       "<caption>A data.frame: 6 × 7</caption>\n",
       "<thead>\n",
       "\t<tr><th></th><th scope=col>FID</th><th scope=col>IID</th><th scope=col>sex</th><th scope=col>hearing_diff_new</th><th scope=col>hearing_noise_cat</th><th scope=col>age_final_diff</th><th scope=col>age_final_noise</th></tr>\n",
       "\t<tr><th></th><th scope=col>&lt;int&gt;</th><th scope=col>&lt;int&gt;</th><th scope=col>&lt;fct&gt;</th><th scope=col>&lt;fct&gt;</th><th scope=col>&lt;int&gt;</th><th scope=col>&lt;int&gt;</th><th scope=col>&lt;int&gt;</th></tr>\n",
       "</thead>\n",
       "<tbody>\n",
       "\t<tr><th scope=row>1</th><td>1469184</td><td>1469184</td><td>0</td><td>0</td><td>0</td><td>70</td><td>63</td></tr>\n",
       "\t<tr><th scope=row>2</th><td>1740024</td><td>1740024</td><td>0</td><td>0</td><td>0</td><td>41</td><td>46</td></tr>\n",
       "\t<tr><th scope=row>3</th><td>2505170</td><td>2505170</td><td>0</td><td>0</td><td>0</td><td>56</td><td>61</td></tr>\n",
       "\t<tr><th scope=row>4</th><td>2876630</td><td>2876630</td><td>1</td><td>0</td><td>0</td><td>65</td><td>75</td></tr>\n",
       "\t<tr><th scope=row>5</th><td>3618107</td><td>3618107</td><td>0</td><td>0</td><td>0</td><td>59</td><td>69</td></tr>\n",
       "\t<tr><th scope=row>6</th><td>3854162</td><td>3854162</td><td>0</td><td>0</td><td>0</td><td>50</td><td>48</td></tr>\n",
       "</tbody>\n",
       "</table>\n"
      ],
      "text/latex": [
       "A data.frame: 6 × 7\n",
       "\\begin{tabular}{r|lllllll}\n",
       "  & FID & IID & sex & hearing\\_diff\\_new & hearing\\_noise\\_cat & age\\_final\\_diff & age\\_final\\_noise\\\\\n",
       "  & <int> & <int> & <fct> & <fct> & <int> & <int> & <int>\\\\\n",
       "\\hline\n",
       "\t1 & 1469184 & 1469184 & 0 & 0 & 0 & 70 & 63\\\\\n",
       "\t2 & 1740024 & 1740024 & 0 & 0 & 0 & 41 & 46\\\\\n",
       "\t3 & 2505170 & 2505170 & 0 & 0 & 0 & 56 & 61\\\\\n",
       "\t4 & 2876630 & 2876630 & 1 & 0 & 0 & 65 & 75\\\\\n",
       "\t5 & 3618107 & 3618107 & 0 & 0 & 0 & 59 & 69\\\\\n",
       "\t6 & 3854162 & 3854162 & 0 & 0 & 0 & 50 & 48\\\\\n",
       "\\end{tabular}\n"
      ],
      "text/markdown": [
       "\n",
       "A data.frame: 6 × 7\n",
       "\n",
       "| <!--/--> | FID &lt;int&gt; | IID &lt;int&gt; | sex &lt;fct&gt; | hearing_diff_new &lt;fct&gt; | hearing_noise_cat &lt;int&gt; | age_final_diff &lt;int&gt; | age_final_noise &lt;int&gt; |\n",
       "|---|---|---|---|---|---|---|---|\n",
       "| 1 | 1469184 | 1469184 | 0 | 0 | 0 | 70 | 63 |\n",
       "| 2 | 1740024 | 1740024 | 0 | 0 | 0 | 41 | 46 |\n",
       "| 3 | 2505170 | 2505170 | 0 | 0 | 0 | 56 | 61 |\n",
       "| 4 | 2876630 | 2876630 | 1 | 0 | 0 | 65 | 75 |\n",
       "| 5 | 3618107 | 3618107 | 0 | 0 | 0 | 59 | 69 |\n",
       "| 6 | 3854162 | 3854162 | 0 | 0 | 0 | 50 | 48 |\n",
       "\n"
      ],
      "text/plain": [
       "  FID     IID     sex hearing_diff_new hearing_noise_cat age_final_diff\n",
       "1 1469184 1469184 0   0                0                 70            \n",
       "2 1740024 1740024 0   0                0                 41            \n",
       "3 2505170 2505170 0   0                0                 56            \n",
       "4 2876630 2876630 1   0                0                 65            \n",
       "5 3618107 3618107 0   0                0                 59            \n",
       "6 3854162 3854162 0   0                0                 50            \n",
       "  age_final_noise\n",
       "1 63             \n",
       "2 46             \n",
       "3 61             \n",
       "4 75             \n",
       "5 69             \n",
       "6 48             "
      ]
     },
     "metadata": {},
     "output_type": "display_data"
    },
    {
     "name": "stdout",
     "output_type": "stream",
     "text": [
      "There are 8 controls with inconsistent ages for hearing difficulty and background noise"
     ]
    }
   ],
   "source": [
    "age_inconsistency_controls <- hybrid_consistent %>%\n",
    "    filter(hearing_noise_cat == 0 &  hearing_diff_new == 0) %>%\n",
    "    filter(age_final_diff != age_final_noise) %>%\n",
    "    select(FID, IID, sex, hearing_diff_new, hearing_noise_cat, age_final_diff, age_final_noise)\n",
    "head(age_inconsistency_controls)\n",
    "cat (\"There are\",nrow(age_inconsistency_controls), \"controls with inconsistent ages for hearing difficulty and background noise\")"
   ]
  },
  {
   "cell_type": "code",
   "execution_count": 367,
   "metadata": {
    "kernel": "R"
   },
   "outputs": [
    {
     "data": {
      "text/html": [
       "<table>\n",
       "<caption>A data.frame: 6 × 8</caption>\n",
       "<thead>\n",
       "\t<tr><th></th><th scope=col>FID</th><th scope=col>IID</th><th scope=col>sex</th><th scope=col>hearing_diff_new</th><th scope=col>hearing_noise_cat</th><th scope=col>age_final_diff</th><th scope=col>age_final_noise</th><th scope=col>age_diff_noise</th></tr>\n",
       "\t<tr><th></th><th scope=col>&lt;int&gt;</th><th scope=col>&lt;int&gt;</th><th scope=col>&lt;fct&gt;</th><th scope=col>&lt;fct&gt;</th><th scope=col>&lt;int&gt;</th><th scope=col>&lt;int&gt;</th><th scope=col>&lt;int&gt;</th><th scope=col>&lt;int&gt;</th></tr>\n",
       "</thead>\n",
       "<tbody>\n",
       "\t<tr><th scope=row>1</th><td>1002378</td><td>1002378</td><td>0</td><td>1</td><td>1</td><td>58</td><td>68</td><td>58</td></tr>\n",
       "\t<tr><th scope=row>2</th><td>1006407</td><td>1006407</td><td>1</td><td>1</td><td>1</td><td>59</td><td>65</td><td>59</td></tr>\n",
       "\t<tr><th scope=row>3</th><td>1006513</td><td>1006513</td><td>1</td><td>1</td><td>1</td><td>59</td><td>54</td><td>54</td></tr>\n",
       "\t<tr><th scope=row>4</th><td>1008266</td><td>1008266</td><td>0</td><td>1</td><td>1</td><td>58</td><td>69</td><td>58</td></tr>\n",
       "\t<tr><th scope=row>5</th><td>1012730</td><td>1012730</td><td>0</td><td>1</td><td>1</td><td>70</td><td>63</td><td>63</td></tr>\n",
       "\t<tr><th scope=row>6</th><td>1015865</td><td>1015865</td><td>1</td><td>1</td><td>1</td><td>71</td><td>62</td><td>62</td></tr>\n",
       "</tbody>\n",
       "</table>\n"
      ],
      "text/latex": [
       "A data.frame: 6 × 8\n",
       "\\begin{tabular}{r|llllllll}\n",
       "  & FID & IID & sex & hearing\\_diff\\_new & hearing\\_noise\\_cat & age\\_final\\_diff & age\\_final\\_noise & age\\_diff\\_noise\\\\\n",
       "  & <int> & <int> & <fct> & <fct> & <int> & <int> & <int> & <int>\\\\\n",
       "\\hline\n",
       "\t1 & 1002378 & 1002378 & 0 & 1 & 1 & 58 & 68 & 58\\\\\n",
       "\t2 & 1006407 & 1006407 & 1 & 1 & 1 & 59 & 65 & 59\\\\\n",
       "\t3 & 1006513 & 1006513 & 1 & 1 & 1 & 59 & 54 & 54\\\\\n",
       "\t4 & 1008266 & 1008266 & 0 & 1 & 1 & 58 & 69 & 58\\\\\n",
       "\t5 & 1012730 & 1012730 & 0 & 1 & 1 & 70 & 63 & 63\\\\\n",
       "\t6 & 1015865 & 1015865 & 1 & 1 & 1 & 71 & 62 & 62\\\\\n",
       "\\end{tabular}\n"
      ],
      "text/markdown": [
       "\n",
       "A data.frame: 6 × 8\n",
       "\n",
       "| <!--/--> | FID &lt;int&gt; | IID &lt;int&gt; | sex &lt;fct&gt; | hearing_diff_new &lt;fct&gt; | hearing_noise_cat &lt;int&gt; | age_final_diff &lt;int&gt; | age_final_noise &lt;int&gt; | age_diff_noise &lt;int&gt; |\n",
       "|---|---|---|---|---|---|---|---|---|\n",
       "| 1 | 1002378 | 1002378 | 0 | 1 | 1 | 58 | 68 | 58 |\n",
       "| 2 | 1006407 | 1006407 | 1 | 1 | 1 | 59 | 65 | 59 |\n",
       "| 3 | 1006513 | 1006513 | 1 | 1 | 1 | 59 | 54 | 54 |\n",
       "| 4 | 1008266 | 1008266 | 0 | 1 | 1 | 58 | 69 | 58 |\n",
       "| 5 | 1012730 | 1012730 | 0 | 1 | 1 | 70 | 63 | 63 |\n",
       "| 6 | 1015865 | 1015865 | 1 | 1 | 1 | 71 | 62 | 62 |\n",
       "\n"
      ],
      "text/plain": [
       "  FID     IID     sex hearing_diff_new hearing_noise_cat age_final_diff\n",
       "1 1002378 1002378 0   1                1                 58            \n",
       "2 1006407 1006407 1   1                1                 59            \n",
       "3 1006513 1006513 1   1                1                 59            \n",
       "4 1008266 1008266 0   1                1                 58            \n",
       "5 1012730 1012730 0   1                1                 70            \n",
       "6 1015865 1015865 1   1                1                 71            \n",
       "  age_final_noise age_diff_noise\n",
       "1 68              58            \n",
       "2 65              59            \n",
       "3 54              54            \n",
       "4 69              58            \n",
       "5 63              63            \n",
       "6 62              62            "
      ]
     },
     "metadata": {},
     "output_type": "display_data"
    }
   ],
   "source": [
    "#get the minimum age for 2247 and 2257 for cases\n",
    "age_inconsistency_cases <- transform(age_inconsistency_cases, age_diff_noise = pmin(age_final_noise, age_final_diff))\n",
    "head(age_inconsistency_cases)"
   ]
  },
  {
   "cell_type": "code",
   "execution_count": 368,
   "metadata": {
    "kernel": "R"
   },
   "outputs": [
    {
     "data": {
      "text/html": [
       "<table>\n",
       "<caption>A data.frame: 8 × 8</caption>\n",
       "<thead>\n",
       "\t<tr><th></th><th scope=col>FID</th><th scope=col>IID</th><th scope=col>sex</th><th scope=col>hearing_diff_new</th><th scope=col>hearing_noise_cat</th><th scope=col>age_final_diff</th><th scope=col>age_final_noise</th><th scope=col>age_diff_noise</th></tr>\n",
       "\t<tr><th></th><th scope=col>&lt;int&gt;</th><th scope=col>&lt;int&gt;</th><th scope=col>&lt;fct&gt;</th><th scope=col>&lt;fct&gt;</th><th scope=col>&lt;int&gt;</th><th scope=col>&lt;int&gt;</th><th scope=col>&lt;int&gt;</th><th scope=col>&lt;int&gt;</th></tr>\n",
       "</thead>\n",
       "<tbody>\n",
       "\t<tr><th scope=row>1</th><td>1469184</td><td>1469184</td><td>0</td><td>0</td><td>0</td><td>70</td><td>63</td><td>70</td></tr>\n",
       "\t<tr><th scope=row>2</th><td>1740024</td><td>1740024</td><td>0</td><td>0</td><td>0</td><td>41</td><td>46</td><td>46</td></tr>\n",
       "\t<tr><th scope=row>3</th><td>2505170</td><td>2505170</td><td>0</td><td>0</td><td>0</td><td>56</td><td>61</td><td>61</td></tr>\n",
       "\t<tr><th scope=row>4</th><td>2876630</td><td>2876630</td><td>1</td><td>0</td><td>0</td><td>65</td><td>75</td><td>75</td></tr>\n",
       "\t<tr><th scope=row>5</th><td>3618107</td><td>3618107</td><td>0</td><td>0</td><td>0</td><td>59</td><td>69</td><td>69</td></tr>\n",
       "\t<tr><th scope=row>6</th><td>3854162</td><td>3854162</td><td>0</td><td>0</td><td>0</td><td>50</td><td>48</td><td>50</td></tr>\n",
       "\t<tr><th scope=row>7</th><td>4366635</td><td>4366635</td><td>0</td><td>0</td><td>0</td><td>57</td><td>46</td><td>57</td></tr>\n",
       "\t<tr><th scope=row>8</th><td>5668953</td><td>5668953</td><td>1</td><td>0</td><td>0</td><td>74</td><td>69</td><td>74</td></tr>\n",
       "</tbody>\n",
       "</table>\n"
      ],
      "text/latex": [
       "A data.frame: 8 × 8\n",
       "\\begin{tabular}{r|llllllll}\n",
       "  & FID & IID & sex & hearing\\_diff\\_new & hearing\\_noise\\_cat & age\\_final\\_diff & age\\_final\\_noise & age\\_diff\\_noise\\\\\n",
       "  & <int> & <int> & <fct> & <fct> & <int> & <int> & <int> & <int>\\\\\n",
       "\\hline\n",
       "\t1 & 1469184 & 1469184 & 0 & 0 & 0 & 70 & 63 & 70\\\\\n",
       "\t2 & 1740024 & 1740024 & 0 & 0 & 0 & 41 & 46 & 46\\\\\n",
       "\t3 & 2505170 & 2505170 & 0 & 0 & 0 & 56 & 61 & 61\\\\\n",
       "\t4 & 2876630 & 2876630 & 1 & 0 & 0 & 65 & 75 & 75\\\\\n",
       "\t5 & 3618107 & 3618107 & 0 & 0 & 0 & 59 & 69 & 69\\\\\n",
       "\t6 & 3854162 & 3854162 & 0 & 0 & 0 & 50 & 48 & 50\\\\\n",
       "\t7 & 4366635 & 4366635 & 0 & 0 & 0 & 57 & 46 & 57\\\\\n",
       "\t8 & 5668953 & 5668953 & 1 & 0 & 0 & 74 & 69 & 74\\\\\n",
       "\\end{tabular}\n"
      ],
      "text/markdown": [
       "\n",
       "A data.frame: 8 × 8\n",
       "\n",
       "| <!--/--> | FID &lt;int&gt; | IID &lt;int&gt; | sex &lt;fct&gt; | hearing_diff_new &lt;fct&gt; | hearing_noise_cat &lt;int&gt; | age_final_diff &lt;int&gt; | age_final_noise &lt;int&gt; | age_diff_noise &lt;int&gt; |\n",
       "|---|---|---|---|---|---|---|---|---|\n",
       "| 1 | 1469184 | 1469184 | 0 | 0 | 0 | 70 | 63 | 70 |\n",
       "| 2 | 1740024 | 1740024 | 0 | 0 | 0 | 41 | 46 | 46 |\n",
       "| 3 | 2505170 | 2505170 | 0 | 0 | 0 | 56 | 61 | 61 |\n",
       "| 4 | 2876630 | 2876630 | 1 | 0 | 0 | 65 | 75 | 75 |\n",
       "| 5 | 3618107 | 3618107 | 0 | 0 | 0 | 59 | 69 | 69 |\n",
       "| 6 | 3854162 | 3854162 | 0 | 0 | 0 | 50 | 48 | 50 |\n",
       "| 7 | 4366635 | 4366635 | 0 | 0 | 0 | 57 | 46 | 57 |\n",
       "| 8 | 5668953 | 5668953 | 1 | 0 | 0 | 74 | 69 | 74 |\n",
       "\n"
      ],
      "text/plain": [
       "  FID     IID     sex hearing_diff_new hearing_noise_cat age_final_diff\n",
       "1 1469184 1469184 0   0                0                 70            \n",
       "2 1740024 1740024 0   0                0                 41            \n",
       "3 2505170 2505170 0   0                0                 56            \n",
       "4 2876630 2876630 1   0                0                 65            \n",
       "5 3618107 3618107 0   0                0                 59            \n",
       "6 3854162 3854162 0   0                0                 50            \n",
       "7 4366635 4366635 0   0                0                 57            \n",
       "8 5668953 5668953 1   0                0                 74            \n",
       "  age_final_noise age_diff_noise\n",
       "1 63              70            \n",
       "2 46              46            \n",
       "3 61              61            \n",
       "4 75              75            \n",
       "5 69              69            \n",
       "6 48              50            \n",
       "7 46              57            \n",
       "8 69              74            "
      ]
     },
     "metadata": {},
     "output_type": "display_data"
    }
   ],
   "source": [
    "#get the maximun age for 2247 and 2257 for controls\n",
    "age_inconsistency_controls <- transform(age_inconsistency_controls, age_diff_noise = pmax(age_final_noise, age_final_diff))\n",
    "head(age_inconsistency_controls,10)"
   ]
  },
  {
   "cell_type": "code",
   "execution_count": 369,
   "metadata": {
    "kernel": "R"
   },
   "outputs": [
    {
     "data": {
      "text/html": [
       "3607"
      ],
      "text/latex": [
       "3607"
      ],
      "text/markdown": [
       "3607"
      ],
      "text/plain": [
       "[1] 3607"
      ]
     },
     "metadata": {},
     "output_type": "display_data"
    },
    {
     "data": {
      "text/html": [
       "<table>\n",
       "<caption>A data.frame: 6 × 8</caption>\n",
       "<thead>\n",
       "\t<tr><th></th><th scope=col>FID</th><th scope=col>IID</th><th scope=col>sex</th><th scope=col>hearing_diff_new</th><th scope=col>hearing_noise_cat</th><th scope=col>age_final_diff</th><th scope=col>age_final_noise</th><th scope=col>age_diff_noise</th></tr>\n",
       "\t<tr><th></th><th scope=col>&lt;int&gt;</th><th scope=col>&lt;int&gt;</th><th scope=col>&lt;fct&gt;</th><th scope=col>&lt;fct&gt;</th><th scope=col>&lt;int&gt;</th><th scope=col>&lt;int&gt;</th><th scope=col>&lt;int&gt;</th><th scope=col>&lt;int&gt;</th></tr>\n",
       "</thead>\n",
       "<tbody>\n",
       "\t<tr><th scope=row>1</th><td>1002378</td><td>1002378</td><td>0</td><td>1</td><td>1</td><td>58</td><td>68</td><td>58</td></tr>\n",
       "\t<tr><th scope=row>2</th><td>1006407</td><td>1006407</td><td>1</td><td>1</td><td>1</td><td>59</td><td>65</td><td>59</td></tr>\n",
       "\t<tr><th scope=row>3</th><td>1006513</td><td>1006513</td><td>1</td><td>1</td><td>1</td><td>59</td><td>54</td><td>54</td></tr>\n",
       "\t<tr><th scope=row>4</th><td>1008266</td><td>1008266</td><td>0</td><td>1</td><td>1</td><td>58</td><td>69</td><td>58</td></tr>\n",
       "\t<tr><th scope=row>5</th><td>1012730</td><td>1012730</td><td>0</td><td>1</td><td>1</td><td>70</td><td>63</td><td>63</td></tr>\n",
       "\t<tr><th scope=row>6</th><td>1015865</td><td>1015865</td><td>1</td><td>1</td><td>1</td><td>71</td><td>62</td><td>62</td></tr>\n",
       "</tbody>\n",
       "</table>\n"
      ],
      "text/latex": [
       "A data.frame: 6 × 8\n",
       "\\begin{tabular}{r|llllllll}\n",
       "  & FID & IID & sex & hearing\\_diff\\_new & hearing\\_noise\\_cat & age\\_final\\_diff & age\\_final\\_noise & age\\_diff\\_noise\\\\\n",
       "  & <int> & <int> & <fct> & <fct> & <int> & <int> & <int> & <int>\\\\\n",
       "\\hline\n",
       "\t1 & 1002378 & 1002378 & 0 & 1 & 1 & 58 & 68 & 58\\\\\n",
       "\t2 & 1006407 & 1006407 & 1 & 1 & 1 & 59 & 65 & 59\\\\\n",
       "\t3 & 1006513 & 1006513 & 1 & 1 & 1 & 59 & 54 & 54\\\\\n",
       "\t4 & 1008266 & 1008266 & 0 & 1 & 1 & 58 & 69 & 58\\\\\n",
       "\t5 & 1012730 & 1012730 & 0 & 1 & 1 & 70 & 63 & 63\\\\\n",
       "\t6 & 1015865 & 1015865 & 1 & 1 & 1 & 71 & 62 & 62\\\\\n",
       "\\end{tabular}\n"
      ],
      "text/markdown": [
       "\n",
       "A data.frame: 6 × 8\n",
       "\n",
       "| <!--/--> | FID &lt;int&gt; | IID &lt;int&gt; | sex &lt;fct&gt; | hearing_diff_new &lt;fct&gt; | hearing_noise_cat &lt;int&gt; | age_final_diff &lt;int&gt; | age_final_noise &lt;int&gt; | age_diff_noise &lt;int&gt; |\n",
       "|---|---|---|---|---|---|---|---|---|\n",
       "| 1 | 1002378 | 1002378 | 0 | 1 | 1 | 58 | 68 | 58 |\n",
       "| 2 | 1006407 | 1006407 | 1 | 1 | 1 | 59 | 65 | 59 |\n",
       "| 3 | 1006513 | 1006513 | 1 | 1 | 1 | 59 | 54 | 54 |\n",
       "| 4 | 1008266 | 1008266 | 0 | 1 | 1 | 58 | 69 | 58 |\n",
       "| 5 | 1012730 | 1012730 | 0 | 1 | 1 | 70 | 63 | 63 |\n",
       "| 6 | 1015865 | 1015865 | 1 | 1 | 1 | 71 | 62 | 62 |\n",
       "\n"
      ],
      "text/plain": [
       "  FID     IID     sex hearing_diff_new hearing_noise_cat age_final_diff\n",
       "1 1002378 1002378 0   1                1                 58            \n",
       "2 1006407 1006407 1   1                1                 59            \n",
       "3 1006513 1006513 1   1                1                 59            \n",
       "4 1008266 1008266 0   1                1                 58            \n",
       "5 1012730 1012730 0   1                1                 70            \n",
       "6 1015865 1015865 1   1                1                 71            \n",
       "  age_final_noise age_diff_noise\n",
       "1 68              58            \n",
       "2 65              59            \n",
       "3 54              54            \n",
       "4 69              58            \n",
       "5 63              63            \n",
       "6 62              62            "
      ]
     },
     "metadata": {},
     "output_type": "display_data"
    }
   ],
   "source": [
    "age_solved <- rbind(age_inconsistency_cases, age_inconsistency_controls)\n",
    "nrow(age_solved)\n",
    "head(age_solved)"
   ]
  },
  {
   "cell_type": "code",
   "execution_count": 370,
   "metadata": {
    "kernel": "R"
   },
   "outputs": [
    {
     "data": {
      "text/html": [
       "<table>\n",
       "<caption>A data.frame: 6 × 8</caption>\n",
       "<thead>\n",
       "\t<tr><th></th><th scope=col>FID</th><th scope=col>IID</th><th scope=col>sex</th><th scope=col>hearing_diff_new</th><th scope=col>hearing_noise_cat</th><th scope=col>age_final_diff</th><th scope=col>age_final_noise</th><th scope=col>age_diff_noise</th></tr>\n",
       "\t<tr><th></th><th scope=col>&lt;int&gt;</th><th scope=col>&lt;int&gt;</th><th scope=col>&lt;fct&gt;</th><th scope=col>&lt;fct&gt;</th><th scope=col>&lt;int&gt;</th><th scope=col>&lt;int&gt;</th><th scope=col>&lt;int&gt;</th><th scope=col>&lt;int&gt;</th></tr>\n",
       "</thead>\n",
       "<tbody>\n",
       "\t<tr><th scope=row>1</th><td>1000019</td><td>1000019</td><td>1</td><td>1</td><td>1</td><td>47</td><td>47</td><td>47</td></tr>\n",
       "\t<tr><th scope=row>2</th><td>1000022</td><td>1000022</td><td>0</td><td>1</td><td>1</td><td>53</td><td>53</td><td>53</td></tr>\n",
       "\t<tr><th scope=row>3</th><td>1000063</td><td>1000063</td><td>0</td><td>0</td><td>0</td><td>43</td><td>43</td><td>43</td></tr>\n",
       "\t<tr><th scope=row>4</th><td>1000078</td><td>1000078</td><td>1</td><td>0</td><td>0</td><td>60</td><td>60</td><td>60</td></tr>\n",
       "\t<tr><th scope=row>5</th><td>1000081</td><td>1000081</td><td>0</td><td>0</td><td>0</td><td>67</td><td>67</td><td>67</td></tr>\n",
       "\t<tr><th scope=row>6</th><td>1000112</td><td>1000112</td><td>0</td><td>1</td><td>1</td><td>68</td><td>68</td><td>68</td></tr>\n",
       "</tbody>\n",
       "</table>\n"
      ],
      "text/latex": [
       "A data.frame: 6 × 8\n",
       "\\begin{tabular}{r|llllllll}\n",
       "  & FID & IID & sex & hearing\\_diff\\_new & hearing\\_noise\\_cat & age\\_final\\_diff & age\\_final\\_noise & age\\_diff\\_noise\\\\\n",
       "  & <int> & <int> & <fct> & <fct> & <int> & <int> & <int> & <int>\\\\\n",
       "\\hline\n",
       "\t1 & 1000019 & 1000019 & 1 & 1 & 1 & 47 & 47 & 47\\\\\n",
       "\t2 & 1000022 & 1000022 & 0 & 1 & 1 & 53 & 53 & 53\\\\\n",
       "\t3 & 1000063 & 1000063 & 0 & 0 & 0 & 43 & 43 & 43\\\\\n",
       "\t4 & 1000078 & 1000078 & 1 & 0 & 0 & 60 & 60 & 60\\\\\n",
       "\t5 & 1000081 & 1000081 & 0 & 0 & 0 & 67 & 67 & 67\\\\\n",
       "\t6 & 1000112 & 1000112 & 0 & 1 & 1 & 68 & 68 & 68\\\\\n",
       "\\end{tabular}\n"
      ],
      "text/markdown": [
       "\n",
       "A data.frame: 6 × 8\n",
       "\n",
       "| <!--/--> | FID &lt;int&gt; | IID &lt;int&gt; | sex &lt;fct&gt; | hearing_diff_new &lt;fct&gt; | hearing_noise_cat &lt;int&gt; | age_final_diff &lt;int&gt; | age_final_noise &lt;int&gt; | age_diff_noise &lt;int&gt; |\n",
       "|---|---|---|---|---|---|---|---|---|\n",
       "| 1 | 1000019 | 1000019 | 1 | 1 | 1 | 47 | 47 | 47 |\n",
       "| 2 | 1000022 | 1000022 | 0 | 1 | 1 | 53 | 53 | 53 |\n",
       "| 3 | 1000063 | 1000063 | 0 | 0 | 0 | 43 | 43 | 43 |\n",
       "| 4 | 1000078 | 1000078 | 1 | 0 | 0 | 60 | 60 | 60 |\n",
       "| 5 | 1000081 | 1000081 | 0 | 0 | 0 | 67 | 67 | 67 |\n",
       "| 6 | 1000112 | 1000112 | 0 | 1 | 1 | 68 | 68 | 68 |\n",
       "\n"
      ],
      "text/plain": [
       "  FID     IID     sex hearing_diff_new hearing_noise_cat age_final_diff\n",
       "1 1000019 1000019 1   1                1                 47            \n",
       "2 1000022 1000022 0   1                1                 53            \n",
       "3 1000063 1000063 0   0                0                 43            \n",
       "4 1000078 1000078 1   0                0                 60            \n",
       "5 1000081 1000081 0   0                0                 67            \n",
       "6 1000112 1000112 0   1                1                 68            \n",
       "  age_final_noise age_diff_noise\n",
       "1 47              47            \n",
       "2 53              53            \n",
       "3 43              43            \n",
       "4 60              60            \n",
       "5 67              67            \n",
       "6 68              68            "
      ]
     },
     "metadata": {},
     "output_type": "display_data"
    },
    {
     "name": "stdout",
     "output_type": "stream",
     "text": [
      "There are  296316 individuals consistent for age and phenotype for f.2247 and f.2257"
     ]
    }
   ],
   "source": [
    "hybrid_age_consistent <- hybrid_consistent  %>%\n",
    "    filter(age_final_diff == age_final_noise) %>%\n",
    "    select(FID, IID, sex, hearing_diff_new, hearing_noise_cat, age_final_diff, age_final_noise) %>%\n",
    "    mutate(age_diff_noise = age_final_diff) \n",
    "head(hybrid_age_consistent)\n",
    "cat (\"There are \",nrow(hybrid_age_consistent),\"individuals consistent for age and phenotype for f.2247 and f.2257\")"
   ]
  },
  {
   "cell_type": "code",
   "execution_count": 371,
   "metadata": {
    "kernel": "R"
   },
   "outputs": [
    {
     "data": {
      "text/html": [
       "<table>\n",
       "<caption>A data.frame: 6 × 8</caption>\n",
       "<thead>\n",
       "\t<tr><th></th><th scope=col>FID</th><th scope=col>IID</th><th scope=col>sex</th><th scope=col>hearing_diff_new</th><th scope=col>hearing_noise_cat</th><th scope=col>age_final_diff</th><th scope=col>age_final_noise</th><th scope=col>age_diff_noise</th></tr>\n",
       "\t<tr><th></th><th scope=col>&lt;int&gt;</th><th scope=col>&lt;int&gt;</th><th scope=col>&lt;fct&gt;</th><th scope=col>&lt;fct&gt;</th><th scope=col>&lt;int&gt;</th><th scope=col>&lt;int&gt;</th><th scope=col>&lt;int&gt;</th><th scope=col>&lt;int&gt;</th></tr>\n",
       "</thead>\n",
       "<tbody>\n",
       "\t<tr><th scope=row>1</th><td>1000019</td><td>1000019</td><td>1</td><td>1</td><td>1</td><td>47</td><td>47</td><td>47</td></tr>\n",
       "\t<tr><th scope=row>2</th><td>1000022</td><td>1000022</td><td>0</td><td>1</td><td>1</td><td>53</td><td>53</td><td>53</td></tr>\n",
       "\t<tr><th scope=row>3</th><td>1000063</td><td>1000063</td><td>0</td><td>0</td><td>0</td><td>43</td><td>43</td><td>43</td></tr>\n",
       "\t<tr><th scope=row>4</th><td>1000078</td><td>1000078</td><td>1</td><td>0</td><td>0</td><td>60</td><td>60</td><td>60</td></tr>\n",
       "\t<tr><th scope=row>5</th><td>1000081</td><td>1000081</td><td>0</td><td>0</td><td>0</td><td>67</td><td>67</td><td>67</td></tr>\n",
       "\t<tr><th scope=row>6</th><td>1000112</td><td>1000112</td><td>0</td><td>1</td><td>1</td><td>68</td><td>68</td><td>68</td></tr>\n",
       "</tbody>\n",
       "</table>\n"
      ],
      "text/latex": [
       "A data.frame: 6 × 8\n",
       "\\begin{tabular}{r|llllllll}\n",
       "  & FID & IID & sex & hearing\\_diff\\_new & hearing\\_noise\\_cat & age\\_final\\_diff & age\\_final\\_noise & age\\_diff\\_noise\\\\\n",
       "  & <int> & <int> & <fct> & <fct> & <int> & <int> & <int> & <int>\\\\\n",
       "\\hline\n",
       "\t1 & 1000019 & 1000019 & 1 & 1 & 1 & 47 & 47 & 47\\\\\n",
       "\t2 & 1000022 & 1000022 & 0 & 1 & 1 & 53 & 53 & 53\\\\\n",
       "\t3 & 1000063 & 1000063 & 0 & 0 & 0 & 43 & 43 & 43\\\\\n",
       "\t4 & 1000078 & 1000078 & 1 & 0 & 0 & 60 & 60 & 60\\\\\n",
       "\t5 & 1000081 & 1000081 & 0 & 0 & 0 & 67 & 67 & 67\\\\\n",
       "\t6 & 1000112 & 1000112 & 0 & 1 & 1 & 68 & 68 & 68\\\\\n",
       "\\end{tabular}\n"
      ],
      "text/markdown": [
       "\n",
       "A data.frame: 6 × 8\n",
       "\n",
       "| <!--/--> | FID &lt;int&gt; | IID &lt;int&gt; | sex &lt;fct&gt; | hearing_diff_new &lt;fct&gt; | hearing_noise_cat &lt;int&gt; | age_final_diff &lt;int&gt; | age_final_noise &lt;int&gt; | age_diff_noise &lt;int&gt; |\n",
       "|---|---|---|---|---|---|---|---|---|\n",
       "| 1 | 1000019 | 1000019 | 1 | 1 | 1 | 47 | 47 | 47 |\n",
       "| 2 | 1000022 | 1000022 | 0 | 1 | 1 | 53 | 53 | 53 |\n",
       "| 3 | 1000063 | 1000063 | 0 | 0 | 0 | 43 | 43 | 43 |\n",
       "| 4 | 1000078 | 1000078 | 1 | 0 | 0 | 60 | 60 | 60 |\n",
       "| 5 | 1000081 | 1000081 | 0 | 0 | 0 | 67 | 67 | 67 |\n",
       "| 6 | 1000112 | 1000112 | 0 | 1 | 1 | 68 | 68 | 68 |\n",
       "\n"
      ],
      "text/plain": [
       "  FID     IID     sex hearing_diff_new hearing_noise_cat age_final_diff\n",
       "1 1000019 1000019 1   1                1                 47            \n",
       "2 1000022 1000022 0   1                1                 53            \n",
       "3 1000063 1000063 0   0                0                 43            \n",
       "4 1000078 1000078 1   0                0                 60            \n",
       "5 1000081 1000081 0   0                0                 67            \n",
       "6 1000112 1000112 0   1                1                 68            \n",
       "  age_final_noise age_diff_noise\n",
       "1 47              47            \n",
       "2 53              53            \n",
       "3 43              43            \n",
       "4 60              60            \n",
       "5 67              67            \n",
       "6 68              68            "
      ]
     },
     "metadata": {},
     "output_type": "display_data"
    },
    {
     "data": {
      "text/html": [
       "299923"
      ],
      "text/latex": [
       "299923"
      ],
      "text/markdown": [
       "299923"
      ],
      "text/plain": [
       "[1] 299923"
      ]
     },
     "metadata": {},
     "output_type": "display_data"
    }
   ],
   "source": [
    "f2247_f2257_pheno <- rbind (hybrid_age_consistent, age_solved)\n",
    "head(f2247_f2257_pheno)\n",
    "nrow(f2247_f2257_pheno)"
   ]
  },
  {
   "cell_type": "code",
   "execution_count": 372,
   "metadata": {
    "kernel": "R"
   },
   "outputs": [
    {
     "data": {
      "text/html": [
       "<table>\n",
       "<caption>A data.frame: 6 × 5</caption>\n",
       "<thead>\n",
       "\t<tr><th></th><th scope=col>FID</th><th scope=col>IID</th><th scope=col>age_combined</th><th scope=col>sex</th><th scope=col>f2247_f2257</th></tr>\n",
       "\t<tr><th></th><th scope=col>&lt;int&gt;</th><th scope=col>&lt;int&gt;</th><th scope=col>&lt;int&gt;</th><th scope=col>&lt;fct&gt;</th><th scope=col>&lt;fct&gt;</th></tr>\n",
       "</thead>\n",
       "<tbody>\n",
       "\t<tr><th scope=row>1</th><td>1000019</td><td>1000019</td><td>47</td><td>1</td><td>1</td></tr>\n",
       "\t<tr><th scope=row>2</th><td>1000022</td><td>1000022</td><td>53</td><td>0</td><td>1</td></tr>\n",
       "\t<tr><th scope=row>3</th><td>1000063</td><td>1000063</td><td>43</td><td>0</td><td>0</td></tr>\n",
       "\t<tr><th scope=row>4</th><td>1000078</td><td>1000078</td><td>60</td><td>1</td><td>0</td></tr>\n",
       "\t<tr><th scope=row>5</th><td>1000081</td><td>1000081</td><td>67</td><td>0</td><td>0</td></tr>\n",
       "\t<tr><th scope=row>6</th><td>1000112</td><td>1000112</td><td>68</td><td>0</td><td>1</td></tr>\n",
       "</tbody>\n",
       "</table>\n"
      ],
      "text/latex": [
       "A data.frame: 6 × 5\n",
       "\\begin{tabular}{r|lllll}\n",
       "  & FID & IID & age\\_combined & sex & f2247\\_f2257\\\\\n",
       "  & <int> & <int> & <int> & <fct> & <fct>\\\\\n",
       "\\hline\n",
       "\t1 & 1000019 & 1000019 & 47 & 1 & 1\\\\\n",
       "\t2 & 1000022 & 1000022 & 53 & 0 & 1\\\\\n",
       "\t3 & 1000063 & 1000063 & 43 & 0 & 0\\\\\n",
       "\t4 & 1000078 & 1000078 & 60 & 1 & 0\\\\\n",
       "\t5 & 1000081 & 1000081 & 67 & 0 & 0\\\\\n",
       "\t6 & 1000112 & 1000112 & 68 & 0 & 1\\\\\n",
       "\\end{tabular}\n"
      ],
      "text/markdown": [
       "\n",
       "A data.frame: 6 × 5\n",
       "\n",
       "| <!--/--> | FID &lt;int&gt; | IID &lt;int&gt; | age_combined &lt;int&gt; | sex &lt;fct&gt; | f2247_f2257 &lt;fct&gt; |\n",
       "|---|---|---|---|---|---|\n",
       "| 1 | 1000019 | 1000019 | 47 | 1 | 1 |\n",
       "| 2 | 1000022 | 1000022 | 53 | 0 | 1 |\n",
       "| 3 | 1000063 | 1000063 | 43 | 0 | 0 |\n",
       "| 4 | 1000078 | 1000078 | 60 | 1 | 0 |\n",
       "| 5 | 1000081 | 1000081 | 67 | 0 | 0 |\n",
       "| 6 | 1000112 | 1000112 | 68 | 0 | 1 |\n",
       "\n"
      ],
      "text/plain": [
       "  FID     IID     age_combined sex f2247_f2257\n",
       "1 1000019 1000019 47           1   1          \n",
       "2 1000022 1000022 53           0   1          \n",
       "3 1000063 1000063 43           0   0          \n",
       "4 1000078 1000078 60           1   0          \n",
       "5 1000081 1000081 67           0   0          \n",
       "6 1000112 1000112 68           0   1          "
      ]
     },
     "metadata": {},
     "output_type": "display_data"
    }
   ],
   "source": [
    "names(f2247_f2257_pheno)[names(f2247_f2257_pheno) == 'hearing_diff_new'] <- 'f2247_f2257'\n",
    "names(f2247_f2257_pheno)[names(f2247_f2257_pheno) == 'age_diff_noise'] <- 'age_combined'\n",
    "f2247_f2257_pheno <- f2247_f2257_pheno %>%\n",
    " select(FID, IID, age_combined, sex, f2247_f2257 )\n",
    "head(f2247_f2257_pheno)"
   ]
  },
  {
   "cell_type": "code",
   "execution_count": 373,
   "metadata": {
    "kernel": "R"
   },
   "outputs": [
    {
     "data": {
      "text/html": [
       "84949"
      ],
      "text/latex": [
       "84949"
      ],
      "text/markdown": [
       "84949"
      ],
      "text/plain": [
       "[1] 84949"
      ]
     },
     "metadata": {},
     "output_type": "display_data"
    }
   ],
   "source": [
    "cases_combined <- f2247_f2257_pheno %>%\n",
    "    filter(f2247_f2257 == 1)\n",
    "nrow(cases_combined)"
   ]
  },
  {
   "cell_type": "code",
   "execution_count": 374,
   "metadata": {
    "kernel": "R"
   },
   "outputs": [
    {
     "data": {
      "text/html": [
       "214974"
      ],
      "text/latex": [
       "214974"
      ],
      "text/markdown": [
       "214974"
      ],
      "text/plain": [
       "[1] 214974"
      ]
     },
     "metadata": {},
     "output_type": "display_data"
    }
   ],
   "source": [
    "controls_combined <- f2247_f2257_pheno %>%\n",
    "    filter(f2247_f2257 == 0)\n",
    "nrow(controls_combined)"
   ]
  },
  {
   "cell_type": "markdown",
   "metadata": {
    "kernel": "R"
   },
   "source": [
    "## Merge with complete database"
   ]
  },
  {
   "cell_type": "code",
   "execution_count": 375,
   "metadata": {
    "kernel": "R"
   },
   "outputs": [
    {
     "data": {
      "text/html": [
       "<style>\n",
       ".list-inline {list-style: none; margin:0; padding: 0}\n",
       ".list-inline>li {display: inline-block}\n",
       ".list-inline>li:not(:last-child)::after {content: \"\\00b7\"; padding: 0 .5ex}\n",
       "</style>\n",
       "<ol class=list-inline><li>396974</li><li>2286</li></ol>\n"
      ],
      "text/latex": [
       "\\begin{enumerate*}\n",
       "\\item 396974\n",
       "\\item 2286\n",
       "\\end{enumerate*}\n"
      ],
      "text/markdown": [
       "1. 396974\n",
       "2. 2286\n",
       "\n",
       "\n"
      ],
      "text/plain": [
       "[1] 396974   2286"
      ]
     },
     "metadata": {},
     "output_type": "display_data"
    },
    {
     "data": {
      "text/html": [
       "<table>\n",
       "<caption>A data.frame: 6 × 2286</caption>\n",
       "<thead>\n",
       "\t<tr><th></th><th scope=col>IID</th><th scope=col>FID</th><th scope=col>ignore1</th><th scope=col>ignore2</th><th scope=col>ignore3</th><th scope=col>ignore4</th><th scope=col>f.31.0.0</th><th scope=col>f.34.0.0</th><th scope=col>f.53.0.0</th><th scope=col>f.53.1.0</th><th scope=col>⋯</th><th scope=col>age_final_aid</th><th scope=col>hearing_diff_cat</th><th scope=col>age_final_diff</th><th scope=col>hearing_diff_cat_new</th><th scope=col>hearing_aid_cat_new</th><th scope=col>hearing_diff_new</th><th scope=col>hearing_noise_cat</th><th scope=col>age_final_noise</th><th scope=col>f2247_f2257</th><th scope=col>age_combined</th></tr>\n",
       "\t<tr><th></th><th scope=col>&lt;int&gt;</th><th scope=col>&lt;int&gt;</th><th scope=col>&lt;int&gt;</th><th scope=col>&lt;int&gt;</th><th scope=col>&lt;int&gt;</th><th scope=col>&lt;int&gt;</th><th scope=col>&lt;fct&gt;</th><th scope=col>&lt;int&gt;</th><th scope=col>&lt;fct&gt;</th><th scope=col>&lt;fct&gt;</th><th scope=col>⋯</th><th scope=col>&lt;int&gt;</th><th scope=col>&lt;int&gt;</th><th scope=col>&lt;int&gt;</th><th scope=col>&lt;fct&gt;</th><th scope=col>&lt;fct&gt;</th><th scope=col>&lt;fct&gt;</th><th scope=col>&lt;int&gt;</th><th scope=col>&lt;int&gt;</th><th scope=col>&lt;fct&gt;</th><th scope=col>&lt;int&gt;</th></tr>\n",
       "</thead>\n",
       "<tbody>\n",
       "\t<tr><th scope=row>1</th><td>1000019</td><td>1000019</td><td>0</td><td>0</td><td>2</td><td>-9</td><td>Female</td><td>1960</td><td>2008-01-24</td><td>NA</td><td>⋯</td><td>47</td><td>1</td><td>47</td><td>case   </td><td>control</td><td>1</td><td>1</td><td>47</td><td>1 </td><td>47</td></tr>\n",
       "\t<tr><th scope=row>2</th><td>1000022</td><td>1000022</td><td>0</td><td>0</td><td>1</td><td>-9</td><td>Male  </td><td>1954</td><td>2008-01-22</td><td>NA</td><td>⋯</td><td>53</td><td>1</td><td>53</td><td>case   </td><td>control</td><td>1</td><td>1</td><td>53</td><td>1 </td><td>53</td></tr>\n",
       "\t<tr><th scope=row>3</th><td>1000035</td><td>1000035</td><td>0</td><td>0</td><td>1</td><td>-9</td><td>Male  </td><td>1944</td><td>2007-11-08</td><td>NA</td><td>⋯</td><td>63</td><td>0</td><td>63</td><td>control</td><td>control</td><td>0</td><td>1</td><td>63</td><td>NA</td><td>NA</td></tr>\n",
       "\t<tr><th scope=row>4</th><td>1000046</td><td>1000046</td><td>0</td><td>0</td><td>2</td><td>-9</td><td>Female</td><td>1946</td><td>2008-12-01</td><td>NA</td><td>⋯</td><td>73</td><td>0</td><td>73</td><td>control</td><td>control</td><td>0</td><td>1</td><td>73</td><td>NA</td><td>NA</td></tr>\n",
       "\t<tr><th scope=row>5</th><td>1000054</td><td>1000054</td><td>0</td><td>0</td><td>2</td><td>-9</td><td>Female</td><td>1942</td><td>2007-11-23</td><td>NA</td><td>⋯</td><td>65</td><td>0</td><td>65</td><td>control</td><td>control</td><td>0</td><td>1</td><td>65</td><td>NA</td><td>NA</td></tr>\n",
       "\t<tr><th scope=row>6</th><td>1000063</td><td>1000063</td><td>0</td><td>0</td><td>1</td><td>-9</td><td>Male  </td><td>1967</td><td>2010-06-26</td><td>NA</td><td>⋯</td><td>43</td><td>0</td><td>43</td><td>control</td><td>control</td><td>0</td><td>0</td><td>43</td><td>0 </td><td>43</td></tr>\n",
       "</tbody>\n",
       "</table>\n"
      ],
      "text/latex": [
       "A data.frame: 6 × 2286\n",
       "\\begin{tabular}{r|lllllllllllllllllllll}\n",
       "  & IID & FID & ignore1 & ignore2 & ignore3 & ignore4 & f.31.0.0 & f.34.0.0 & f.53.0.0 & f.53.1.0 & ⋯ & age\\_final\\_aid & hearing\\_diff\\_cat & age\\_final\\_diff & hearing\\_diff\\_cat\\_new & hearing\\_aid\\_cat\\_new & hearing\\_diff\\_new & hearing\\_noise\\_cat & age\\_final\\_noise & f2247\\_f2257 & age\\_combined\\\\\n",
       "  & <int> & <int> & <int> & <int> & <int> & <int> & <fct> & <int> & <fct> & <fct> & ⋯ & <int> & <int> & <int> & <fct> & <fct> & <fct> & <int> & <int> & <fct> & <int>\\\\\n",
       "\\hline\n",
       "\t1 & 1000019 & 1000019 & 0 & 0 & 2 & -9 & Female & 1960 & 2008-01-24 & NA & ⋯ & 47 & 1 & 47 & case    & control & 1 & 1 & 47 & 1  & 47\\\\\n",
       "\t2 & 1000022 & 1000022 & 0 & 0 & 1 & -9 & Male   & 1954 & 2008-01-22 & NA & ⋯ & 53 & 1 & 53 & case    & control & 1 & 1 & 53 & 1  & 53\\\\\n",
       "\t3 & 1000035 & 1000035 & 0 & 0 & 1 & -9 & Male   & 1944 & 2007-11-08 & NA & ⋯ & 63 & 0 & 63 & control & control & 0 & 1 & 63 & NA & NA\\\\\n",
       "\t4 & 1000046 & 1000046 & 0 & 0 & 2 & -9 & Female & 1946 & 2008-12-01 & NA & ⋯ & 73 & 0 & 73 & control & control & 0 & 1 & 73 & NA & NA\\\\\n",
       "\t5 & 1000054 & 1000054 & 0 & 0 & 2 & -9 & Female & 1942 & 2007-11-23 & NA & ⋯ & 65 & 0 & 65 & control & control & 0 & 1 & 65 & NA & NA\\\\\n",
       "\t6 & 1000063 & 1000063 & 0 & 0 & 1 & -9 & Male   & 1967 & 2010-06-26 & NA & ⋯ & 43 & 0 & 43 & control & control & 0 & 0 & 43 & 0  & 43\\\\\n",
       "\\end{tabular}\n"
      ],
      "text/markdown": [
       "\n",
       "A data.frame: 6 × 2286\n",
       "\n",
       "| <!--/--> | IID &lt;int&gt; | FID &lt;int&gt; | ignore1 &lt;int&gt; | ignore2 &lt;int&gt; | ignore3 &lt;int&gt; | ignore4 &lt;int&gt; | f.31.0.0 &lt;fct&gt; | f.34.0.0 &lt;int&gt; | f.53.0.0 &lt;fct&gt; | f.53.1.0 &lt;fct&gt; | ⋯ ⋯ | age_final_aid &lt;int&gt; | hearing_diff_cat &lt;int&gt; | age_final_diff &lt;int&gt; | hearing_diff_cat_new &lt;fct&gt; | hearing_aid_cat_new &lt;fct&gt; | hearing_diff_new &lt;fct&gt; | hearing_noise_cat &lt;int&gt; | age_final_noise &lt;int&gt; | f2247_f2257 &lt;fct&gt; | age_combined &lt;int&gt; |\n",
       "|---|---|---|---|---|---|---|---|---|---|---|---|---|---|---|---|---|---|---|---|---|---|\n",
       "| 1 | 1000019 | 1000019 | 0 | 0 | 2 | -9 | Female | 1960 | 2008-01-24 | NA | ⋯ | 47 | 1 | 47 | case    | control | 1 | 1 | 47 | 1  | 47 |\n",
       "| 2 | 1000022 | 1000022 | 0 | 0 | 1 | -9 | Male   | 1954 | 2008-01-22 | NA | ⋯ | 53 | 1 | 53 | case    | control | 1 | 1 | 53 | 1  | 53 |\n",
       "| 3 | 1000035 | 1000035 | 0 | 0 | 1 | -9 | Male   | 1944 | 2007-11-08 | NA | ⋯ | 63 | 0 | 63 | control | control | 0 | 1 | 63 | NA | NA |\n",
       "| 4 | 1000046 | 1000046 | 0 | 0 | 2 | -9 | Female | 1946 | 2008-12-01 | NA | ⋯ | 73 | 0 | 73 | control | control | 0 | 1 | 73 | NA | NA |\n",
       "| 5 | 1000054 | 1000054 | 0 | 0 | 2 | -9 | Female | 1942 | 2007-11-23 | NA | ⋯ | 65 | 0 | 65 | control | control | 0 | 1 | 65 | NA | NA |\n",
       "| 6 | 1000063 | 1000063 | 0 | 0 | 1 | -9 | Male   | 1967 | 2010-06-26 | NA | ⋯ | 43 | 0 | 43 | control | control | 0 | 0 | 43 | 0  | 43 |\n",
       "\n"
      ],
      "text/plain": [
       "  IID     FID     ignore1 ignore2 ignore3 ignore4 f.31.0.0 f.34.0.0 f.53.0.0  \n",
       "1 1000019 1000019 0       0       2       -9      Female   1960     2008-01-24\n",
       "2 1000022 1000022 0       0       1       -9      Male     1954     2008-01-22\n",
       "3 1000035 1000035 0       0       1       -9      Male     1944     2007-11-08\n",
       "4 1000046 1000046 0       0       2       -9      Female   1946     2008-12-01\n",
       "5 1000054 1000054 0       0       2       -9      Female   1942     2007-11-23\n",
       "6 1000063 1000063 0       0       1       -9      Male     1967     2010-06-26\n",
       "  f.53.1.0 ⋯ age_final_aid hearing_diff_cat age_final_diff hearing_diff_cat_new\n",
       "1 NA       ⋯ 47            1                47             case                \n",
       "2 NA       ⋯ 53            1                53             case                \n",
       "3 NA       ⋯ 63            0                63             control             \n",
       "4 NA       ⋯ 73            0                73             control             \n",
       "5 NA       ⋯ 65            0                65             control             \n",
       "6 NA       ⋯ 43            0                43             control             \n",
       "  hearing_aid_cat_new hearing_diff_new hearing_noise_cat age_final_noise\n",
       "1 control             1                1                 47             \n",
       "2 control             1                1                 53             \n",
       "3 control             0                1                 63             \n",
       "4 control             0                1                 73             \n",
       "5 control             0                1                 65             \n",
       "6 control             0                0                 43             \n",
       "  f2247_f2257 age_combined\n",
       "1 1           47          \n",
       "2 1           53          \n",
       "3 NA          NA          \n",
       "4 NA          NA          \n",
       "5 NA          NA          \n",
       "6 0           43          "
      ]
     },
     "metadata": {},
     "output_type": "display_data"
    }
   ],
   "source": [
    "#Merge with complete database keep the all the rows from original db\n",
    "df_3393_2247_2257_combined = merge(x = df_3393_2247_2257, y = f2247_f2257_pheno [,c(\"IID\",\"f2247_f2257\",\"age_combined\")],by=\"IID\", all.x=TRUE)\n",
    "dim(df_3393_2247_2257_combined)\n",
    "head(df_3393_2247_2257_combined)"
   ]
  },
  {
   "cell_type": "markdown",
   "metadata": {
    "kernel": "R"
   },
   "source": [
    "## Histogram for age of cases and controls"
   ]
  },
  {
   "cell_type": "code",
   "execution_count": 376,
   "metadata": {
    "kernel": "R"
   },
   "outputs": [
    {
     "data": {
      "text/html": [
       "<table>\n",
       "<caption>A data.frame: 6 × 5</caption>\n",
       "<thead>\n",
       "\t<tr><th></th><th scope=col>FID</th><th scope=col>IID</th><th scope=col>age_combined</th><th scope=col>sex</th><th scope=col>f2247_f2257</th></tr>\n",
       "\t<tr><th></th><th scope=col>&lt;int&gt;</th><th scope=col>&lt;int&gt;</th><th scope=col>&lt;int&gt;</th><th scope=col>&lt;fct&gt;</th><th scope=col>&lt;fct&gt;</th></tr>\n",
       "</thead>\n",
       "<tbody>\n",
       "\t<tr><th scope=row>1</th><td>1000019</td><td>1000019</td><td>47</td><td>1</td><td>1</td></tr>\n",
       "\t<tr><th scope=row>2</th><td>1000022</td><td>1000022</td><td>53</td><td>0</td><td>1</td></tr>\n",
       "\t<tr><th scope=row>3</th><td>1000063</td><td>1000063</td><td>43</td><td>0</td><td>0</td></tr>\n",
       "\t<tr><th scope=row>4</th><td>1000078</td><td>1000078</td><td>60</td><td>1</td><td>0</td></tr>\n",
       "\t<tr><th scope=row>5</th><td>1000081</td><td>1000081</td><td>67</td><td>0</td><td>0</td></tr>\n",
       "\t<tr><th scope=row>6</th><td>1000112</td><td>1000112</td><td>68</td><td>0</td><td>1</td></tr>\n",
       "</tbody>\n",
       "</table>\n"
      ],
      "text/latex": [
       "A data.frame: 6 × 5\n",
       "\\begin{tabular}{r|lllll}\n",
       "  & FID & IID & age\\_combined & sex & f2247\\_f2257\\\\\n",
       "  & <int> & <int> & <int> & <fct> & <fct>\\\\\n",
       "\\hline\n",
       "\t1 & 1000019 & 1000019 & 47 & 1 & 1\\\\\n",
       "\t2 & 1000022 & 1000022 & 53 & 0 & 1\\\\\n",
       "\t3 & 1000063 & 1000063 & 43 & 0 & 0\\\\\n",
       "\t4 & 1000078 & 1000078 & 60 & 1 & 0\\\\\n",
       "\t5 & 1000081 & 1000081 & 67 & 0 & 0\\\\\n",
       "\t6 & 1000112 & 1000112 & 68 & 0 & 1\\\\\n",
       "\\end{tabular}\n"
      ],
      "text/markdown": [
       "\n",
       "A data.frame: 6 × 5\n",
       "\n",
       "| <!--/--> | FID &lt;int&gt; | IID &lt;int&gt; | age_combined &lt;int&gt; | sex &lt;fct&gt; | f2247_f2257 &lt;fct&gt; |\n",
       "|---|---|---|---|---|---|\n",
       "| 1 | 1000019 | 1000019 | 47 | 1 | 1 |\n",
       "| 2 | 1000022 | 1000022 | 53 | 0 | 1 |\n",
       "| 3 | 1000063 | 1000063 | 43 | 0 | 0 |\n",
       "| 4 | 1000078 | 1000078 | 60 | 1 | 0 |\n",
       "| 5 | 1000081 | 1000081 | 67 | 0 | 0 |\n",
       "| 6 | 1000112 | 1000112 | 68 | 0 | 1 |\n",
       "\n"
      ],
      "text/plain": [
       "  FID     IID     age_combined sex f2247_f2257\n",
       "1 1000019 1000019 47           1   1          \n",
       "2 1000022 1000022 53           0   1          \n",
       "3 1000063 1000063 43           0   0          \n",
       "4 1000078 1000078 60           1   0          \n",
       "5 1000081 1000081 67           0   0          \n",
       "6 1000112 1000112 68           0   1          "
      ]
     },
     "metadata": {},
     "output_type": "display_data"
    },
    {
     "data": {
      "text/html": [
       "<style>\n",
       ".list-inline {list-style: none; margin:0; padding: 0}\n",
       ".list-inline>li {display: inline-block}\n",
       ".list-inline>li:not(:last-child)::after {content: \"\\00b7\"; padding: 0 .5ex}\n",
       "</style>\n",
       "<ol class=list-inline><li>299923</li><li>5</li></ol>\n"
      ],
      "text/latex": [
       "\\begin{enumerate*}\n",
       "\\item 299923\n",
       "\\item 5\n",
       "\\end{enumerate*}\n"
      ],
      "text/markdown": [
       "1. 299923\n",
       "2. 5\n",
       "\n",
       "\n"
      ],
      "text/plain": [
       "[1] 299923      5"
      ]
     },
     "metadata": {},
     "output_type": "display_data"
    }
   ],
   "source": [
    "f2247_f2257_pheno <- f2247_f2257_pheno %>%\n",
    " select(FID, IID, age_combined, sex, f2247_f2257 )\n",
    " #mutate(f2247_f2257=recode_factor(f2247_f2257, `1`=\"case\",`0`=\"control\"),sex=recode_factor(sex, `1`=\"male\", `0`=\"female\" ))\n",
    "head(f2247_f2257_pheno)\n",
    "dim(f2247_f2257_pheno)"
   ]
  },
  {
   "cell_type": "code",
   "execution_count": 377,
   "metadata": {
    "kernel": "R"
   },
   "outputs": [
    {
     "data": {
      "text/html": [
       "<table>\n",
       "<caption>A data.frame: 2 × 2</caption>\n",
       "<thead>\n",
       "\t<tr><th></th><th scope=col>f2247_f2257</th><th scope=col>grp.mean</th></tr>\n",
       "\t<tr><th></th><th scope=col>&lt;fct&gt;</th><th scope=col>&lt;dbl&gt;</th></tr>\n",
       "</thead>\n",
       "<tbody>\n",
       "\t<tr><th scope=row>1</th><td>0</td><td>56.58018</td></tr>\n",
       "\t<tr><th scope=row>2</th><td>1</td><td>59.28153</td></tr>\n",
       "</tbody>\n",
       "</table>\n"
      ],
      "text/latex": [
       "A data.frame: 2 × 2\n",
       "\\begin{tabular}{r|ll}\n",
       "  & f2247\\_f2257 & grp.mean\\\\\n",
       "  & <fct> & <dbl>\\\\\n",
       "\\hline\n",
       "\t1 & 0 & 56.58018\\\\\n",
       "\t2 & 1 & 59.28153\\\\\n",
       "\\end{tabular}\n"
      ],
      "text/markdown": [
       "\n",
       "A data.frame: 2 × 2\n",
       "\n",
       "| <!--/--> | f2247_f2257 &lt;fct&gt; | grp.mean &lt;dbl&gt; |\n",
       "|---|---|---|\n",
       "| 1 | 0 | 56.58018 |\n",
       "| 2 | 1 | 59.28153 |\n",
       "\n"
      ],
      "text/plain": [
       "  f2247_f2257 grp.mean\n",
       "1 0           56.58018\n",
       "2 1           59.28153"
      ]
     },
     "metadata": {},
     "output_type": "display_data"
    }
   ],
   "source": [
    "mu7 <- ddply(f2247_f2257_pheno, \"f2247_f2257\", summarise, grp.mean=mean(age_combined))\n",
    "head(mu7)"
   ]
  },
  {
   "cell_type": "code",
   "execution_count": 378,
   "metadata": {
    "kernel": "R"
   },
   "outputs": [
    {
     "data": {
      "image/png": "[encoded data removed]",
      "text/plain": [
       "plot without title"
      ]
     },
     "metadata": {
      "image/png": {
       "height": 420,
       "width": 420
      },
      "text/plain": {
       "height": 420,
       "width": 420
      }
     },
     "output_type": "display_data"
    }
   ],
   "source": [
    "ggplot(f2247_f2257_pheno, aes(x=age_combined, fill=f2247_f2257, color=f2247_f2257)) +\n",
    " geom_histogram(binwidth=1, alpha=0.5, position=\"identity\")+\n",
    "  scale_color_brewer(palette=\"Dark2\")+\n",
    "  scale_fill_brewer(palette=\"Dark2\") +\n",
    "  theme(legend.position=\"top\") +\n",
    "  geom_vline(data=mu7, aes(xintercept=grp.mean, color=f2247_f2257),\n",
    "             linetype=\"dashed\") +\n",
    "  theme_classic()"
   ]
  },
  {
   "cell_type": "code",
   "execution_count": 379,
   "metadata": {
    "kernel": "R"
   },
   "outputs": [
    {
     "data": {
      "text/html": [
       "51381"
      ],
      "text/latex": [
       "51381"
      ],
      "text/markdown": [
       "51381"
      ],
      "text/plain": [
       "[1] 51381"
      ]
     },
     "metadata": {},
     "output_type": "display_data"
    }
   ],
   "source": [
    "length(which((f2247_f2257_pheno$f2247_f2257==\"0\" & f2247_f2257_pheno$age_combined <50)))"
   ]
  },
  {
   "cell_type": "code",
   "execution_count": 380,
   "metadata": {
    "kernel": "R"
   },
   "outputs": [
    {
     "data": {
      "text/html": [
       "11047"
      ],
      "text/latex": [
       "11047"
      ],
      "text/markdown": [
       "11047"
      ],
      "text/plain": [
       "[1] 11047"
      ]
     },
     "metadata": {},
     "output_type": "display_data"
    }
   ],
   "source": [
    "length(which((f2247_f2257_pheno$f2247_f2257==\"1\" & f2247_f2257_pheno$age_combined <50)))"
   ]
  },
  {
   "cell_type": "code",
   "execution_count": 381,
   "metadata": {
    "kernel": "R"
   },
   "outputs": [
    {
     "data": {
      "text/html": [
       "<table>\n",
       "<caption>A data.frame: 2 × 2</caption>\n",
       "<thead>\n",
       "\t<tr><th></th><th scope=col>sex</th><th scope=col>grp.mean</th></tr>\n",
       "\t<tr><th></th><th scope=col>&lt;fct&gt;</th><th scope=col>&lt;dbl&gt;</th></tr>\n",
       "</thead>\n",
       "<tbody>\n",
       "\t<tr><th scope=row>1</th><td>1</td><td>57.14113</td></tr>\n",
       "\t<tr><th scope=row>2</th><td>0</td><td>57.59847</td></tr>\n",
       "</tbody>\n",
       "</table>\n"
      ],
      "text/latex": [
       "A data.frame: 2 × 2\n",
       "\\begin{tabular}{r|ll}\n",
       "  & sex & grp.mean\\\\\n",
       "  & <fct> & <dbl>\\\\\n",
       "\\hline\n",
       "\t1 & 1 & 57.14113\\\\\n",
       "\t2 & 0 & 57.59847\\\\\n",
       "\\end{tabular}\n"
      ],
      "text/markdown": [
       "\n",
       "A data.frame: 2 × 2\n",
       "\n",
       "| <!--/--> | sex &lt;fct&gt; | grp.mean &lt;dbl&gt; |\n",
       "|---|---|---|\n",
       "| 1 | 1 | 57.14113 |\n",
       "| 2 | 0 | 57.59847 |\n",
       "\n"
      ],
      "text/plain": [
       "  sex grp.mean\n",
       "1 1   57.14113\n",
       "2 0   57.59847"
      ]
     },
     "metadata": {},
     "output_type": "display_data"
    }
   ],
   "source": [
    "mu8 <- ddply(f2247_f2257_pheno, \"sex\", summarise, grp.mean=mean(age_combined))\n",
    "head(mu8)"
   ]
  },
  {
   "cell_type": "code",
   "execution_count": 382,
   "metadata": {
    "kernel": "R"
   },
   "outputs": [
    {
     "data": {
      "image/png": "[encoded data removed]",
      "text/plain": [
       "plot without title"
      ]
     },
     "metadata": {
      "image/png": {
       "height": 420,
       "width": 420
      },
      "text/plain": {
       "height": 420,
       "width": 420
      }
     },
     "output_type": "display_data"
    }
   ],
   "source": [
    "ggplot(f2247_f2257_pheno, aes(x=age_combined, fill=sex, color=sex)) +\n",
    " geom_histogram(binwidth=1, alpha=0.5, position=\"identity\")+\n",
    "  scale_color_brewer(palette=\"Dark2\")+\n",
    "  scale_fill_brewer(palette=\"Dark2\") +\n",
    "  theme(legend.position=\"top\") +\n",
    "  theme_classic() +\n",
    "  facet_grid(f2247_f2257 ~ .)"
   ]
  },
  {
   "cell_type": "code",
   "execution_count": 383,
   "metadata": {
    "kernel": "R"
   },
   "outputs": [
    {
     "data": {
      "text/plain": [
       "$`0`\n",
       "   Min. 1st Qu.  Median    Mean 3rd Qu.    Max. \n",
       "  39.00   50.00   58.00   56.58   63.00   82.00 \n",
       "\n",
       "$`1`\n",
       "   Min. 1st Qu.  Median    Mean 3rd Qu.    Max. \n",
       "  40.00   54.00   61.00   59.28   65.00   82.00 \n"
      ]
     },
     "metadata": {},
     "output_type": "display_data"
    }
   ],
   "source": [
    "#Summary age of cases and controls\n",
    "tapply(f2247_f2257_pheno$age_combined,  f2247_f2257_pheno$f2247_f2257, summary)"
   ]
  },
  {
   "cell_type": "markdown",
   "metadata": {
    "kernel": "R"
   },
   "source": [
    "## Find out controls positive for  f.3393"
   ]
  },
  {
   "cell_type": "code",
   "execution_count": 384,
   "metadata": {
    "kernel": "R"
   },
   "outputs": [
    {
     "data": {
      "text/html": [
       "<table>\n",
       "<caption>A data.frame: 6 × 14</caption>\n",
       "<thead>\n",
       "\t<tr><th></th><th scope=col>FID</th><th scope=col>IID</th><th scope=col>age_combined</th><th scope=col>sex</th><th scope=col>f2247_f2257</th><th scope=col>f.3393.0.0</th><th scope=col>f.3393.1.0</th><th scope=col>f.3393.2.0</th><th scope=col>f.3393.3.0</th><th scope=col>f.3393.0.0_recode</th><th scope=col>f.3393.1.0_recode</th><th scope=col>f.3393.2.0_recode</th><th scope=col>f.3393.3.0_recode</th><th scope=col>remove_3393</th></tr>\n",
       "\t<tr><th></th><th scope=col>&lt;int&gt;</th><th scope=col>&lt;int&gt;</th><th scope=col>&lt;int&gt;</th><th scope=col>&lt;fct&gt;</th><th scope=col>&lt;fct&gt;</th><th scope=col>&lt;fct&gt;</th><th scope=col>&lt;fct&gt;</th><th scope=col>&lt;fct&gt;</th><th scope=col>&lt;fct&gt;</th><th scope=col>&lt;fct&gt;</th><th scope=col>&lt;fct&gt;</th><th scope=col>&lt;fct&gt;</th><th scope=col>&lt;fct&gt;</th><th scope=col>&lt;lgl&gt;</th></tr>\n",
       "</thead>\n",
       "<tbody>\n",
       "\t<tr><th scope=row>1</th><td>1000063</td><td>1000063</td><td>43</td><td>0</td><td>0</td><td>No</td><td>NA</td><td>NA</td><td>NA</td><td>0 </td><td>NA</td><td>NA</td><td>NA</td><td>FALSE</td></tr>\n",
       "\t<tr><th scope=row>2</th><td>1000078</td><td>1000078</td><td>60</td><td>1</td><td>0</td><td>NA</td><td>No</td><td>No</td><td>NA</td><td>NA</td><td>0 </td><td>0 </td><td>NA</td><td>FALSE</td></tr>\n",
       "\t<tr><th scope=row>3</th><td>1000081</td><td>1000081</td><td>67</td><td>0</td><td>0</td><td>No</td><td>NA</td><td>NA</td><td>NA</td><td>0 </td><td>NA</td><td>NA</td><td>NA</td><td>FALSE</td></tr>\n",
       "\t<tr><th scope=row>4</th><td>1000129</td><td>1000129</td><td>62</td><td>0</td><td>0</td><td>NA</td><td>NA</td><td>NA</td><td>NA</td><td>NA</td><td>NA</td><td>NA</td><td>NA</td><td>FALSE</td></tr>\n",
       "\t<tr><th scope=row>5</th><td>1000137</td><td>1000137</td><td>46</td><td>1</td><td>0</td><td>NA</td><td>NA</td><td>NA</td><td>NA</td><td>NA</td><td>NA</td><td>NA</td><td>NA</td><td>FALSE</td></tr>\n",
       "\t<tr><th scope=row>6</th><td>1000141</td><td>1000141</td><td>49</td><td>1</td><td>0</td><td>No</td><td>NA</td><td>NA</td><td>NA</td><td>0 </td><td>NA</td><td>NA</td><td>NA</td><td>FALSE</td></tr>\n",
       "</tbody>\n",
       "</table>\n"
      ],
      "text/latex": [
       "A data.frame: 6 × 14\n",
       "\\begin{tabular}{r|llllllllllllll}\n",
       "  & FID & IID & age\\_combined & sex & f2247\\_f2257 & f.3393.0.0 & f.3393.1.0 & f.3393.2.0 & f.3393.3.0 & f.3393.0.0\\_recode & f.3393.1.0\\_recode & f.3393.2.0\\_recode & f.3393.3.0\\_recode & remove\\_3393\\\\\n",
       "  & <int> & <int> & <int> & <fct> & <fct> & <fct> & <fct> & <fct> & <fct> & <fct> & <fct> & <fct> & <fct> & <lgl>\\\\\n",
       "\\hline\n",
       "\t1 & 1000063 & 1000063 & 43 & 0 & 0 & No & NA & NA & NA & 0  & NA & NA & NA & FALSE\\\\\n",
       "\t2 & 1000078 & 1000078 & 60 & 1 & 0 & NA & No & No & NA & NA & 0  & 0  & NA & FALSE\\\\\n",
       "\t3 & 1000081 & 1000081 & 67 & 0 & 0 & No & NA & NA & NA & 0  & NA & NA & NA & FALSE\\\\\n",
       "\t4 & 1000129 & 1000129 & 62 & 0 & 0 & NA & NA & NA & NA & NA & NA & NA & NA & FALSE\\\\\n",
       "\t5 & 1000137 & 1000137 & 46 & 1 & 0 & NA & NA & NA & NA & NA & NA & NA & NA & FALSE\\\\\n",
       "\t6 & 1000141 & 1000141 & 49 & 1 & 0 & No & NA & NA & NA & 0  & NA & NA & NA & FALSE\\\\\n",
       "\\end{tabular}\n"
      ],
      "text/markdown": [
       "\n",
       "A data.frame: 6 × 14\n",
       "\n",
       "| <!--/--> | FID &lt;int&gt; | IID &lt;int&gt; | age_combined &lt;int&gt; | sex &lt;fct&gt; | f2247_f2257 &lt;fct&gt; | f.3393.0.0 &lt;fct&gt; | f.3393.1.0 &lt;fct&gt; | f.3393.2.0 &lt;fct&gt; | f.3393.3.0 &lt;fct&gt; | f.3393.0.0_recode &lt;fct&gt; | f.3393.1.0_recode &lt;fct&gt; | f.3393.2.0_recode &lt;fct&gt; | f.3393.3.0_recode &lt;fct&gt; | remove_3393 &lt;lgl&gt; |\n",
       "|---|---|---|---|---|---|---|---|---|---|---|---|---|---|---|\n",
       "| 1 | 1000063 | 1000063 | 43 | 0 | 0 | No | NA | NA | NA | 0  | NA | NA | NA | FALSE |\n",
       "| 2 | 1000078 | 1000078 | 60 | 1 | 0 | NA | No | No | NA | NA | 0  | 0  | NA | FALSE |\n",
       "| 3 | 1000081 | 1000081 | 67 | 0 | 0 | No | NA | NA | NA | 0  | NA | NA | NA | FALSE |\n",
       "| 4 | 1000129 | 1000129 | 62 | 0 | 0 | NA | NA | NA | NA | NA | NA | NA | NA | FALSE |\n",
       "| 5 | 1000137 | 1000137 | 46 | 1 | 0 | NA | NA | NA | NA | NA | NA | NA | NA | FALSE |\n",
       "| 6 | 1000141 | 1000141 | 49 | 1 | 0 | No | NA | NA | NA | 0  | NA | NA | NA | FALSE |\n",
       "\n"
      ],
      "text/plain": [
       "  FID     IID     age_combined sex f2247_f2257 f.3393.0.0 f.3393.1.0 f.3393.2.0\n",
       "1 1000063 1000063 43           0   0           No         NA         NA        \n",
       "2 1000078 1000078 60           1   0           NA         No         No        \n",
       "3 1000081 1000081 67           0   0           No         NA         NA        \n",
       "4 1000129 1000129 62           0   0           NA         NA         NA        \n",
       "5 1000137 1000137 46           1   0           NA         NA         NA        \n",
       "6 1000141 1000141 49           1   0           No         NA         NA        \n",
       "  f.3393.3.0 f.3393.0.0_recode f.3393.1.0_recode f.3393.2.0_recode\n",
       "1 NA         0                 NA                NA               \n",
       "2 NA         NA                0                 0                \n",
       "3 NA         0                 NA                NA               \n",
       "4 NA         NA                NA                NA               \n",
       "5 NA         NA                NA                NA               \n",
       "6 NA         0                 NA                NA               \n",
       "  f.3393.3.0_recode remove_3393\n",
       "1 NA                FALSE      \n",
       "2 NA                FALSE      \n",
       "3 NA                FALSE      \n",
       "4 NA                FALSE      \n",
       "5 NA                FALSE      \n",
       "6 NA                FALSE      "
      ]
     },
     "metadata": {},
     "output_type": "display_data"
    },
    {
     "data": {
      "text/html": [
       "<style>\n",
       ".list-inline {list-style: none; margin:0; padding: 0}\n",
       ".list-inline>li {display: inline-block}\n",
       ".list-inline>li:not(:last-child)::after {content: \"\\00b7\"; padding: 0 .5ex}\n",
       "</style>\n",
       "<ol class=list-inline><li>214974</li><li>14</li></ol>\n"
      ],
      "text/latex": [
       "\\begin{enumerate*}\n",
       "\\item 214974\n",
       "\\item 14\n",
       "\\end{enumerate*}\n"
      ],
      "text/markdown": [
       "1. 214974\n",
       "2. 14\n",
       "\n",
       "\n"
      ],
      "text/plain": [
       "[1] 214974     14"
      ]
     },
     "metadata": {},
     "output_type": "display_data"
    }
   ],
   "source": [
    "control_check_combined <- df_3393_2247_2257_combined %>%\n",
    "    filter(f2247_f2257==0) %>%\n",
    "    select(FID, IID, age_combined, sex, f2247_f2257, starts_with(\"f.3393\")) %>%\n",
    "    mutate(remove_3393 = apply(select(.,starts_with(\"f.3393\")), 1, function(x) length(which(x == \"Yes\")) > 0))\n",
    "head(control_check_combined)\n",
    "dim(control_check_combined)"
   ]
  },
  {
   "cell_type": "code",
   "execution_count": 385,
   "metadata": {
    "kernel": "R"
   },
   "outputs": [
    {
     "data": {
      "text/html": [
       "1"
      ],
      "text/latex": [
       "1"
      ],
      "text/markdown": [
       "1"
      ],
      "text/plain": [
       "[1] 1"
      ]
     },
     "metadata": {},
     "output_type": "display_data"
    }
   ],
   "source": [
    "length(which(control_check_combined$remove_3393==TRUE)) #controls that replied yes to f.3393"
   ]
  },
  {
   "cell_type": "markdown",
   "metadata": {
    "kernel": "R"
   },
   "source": [
    "### Export file white-British"
   ]
  },
  {
   "cell_type": "code",
   "execution_count": 162,
   "metadata": {
    "kernel": "R"
   },
   "outputs": [],
   "source": [
    "write.table(f2247_f2257_pheno, '200828_UKBB_f2247_f2257', quote = FALSE, row.names = FALSE)"
   ]
  },
  {
   "cell_type": "markdown",
   "metadata": {
    "kernel": "R"
   },
   "source": [
    "### Export file white expanded"
   ]
  },
  {
   "cell_type": "code",
   "execution_count": 162,
   "metadata": {
    "kernel": "R"
   },
   "outputs": [],
   "source": [
    "write.table(f2247_f2257_pheno, '120120_UKBB_f2247_f2257_expandedwhite', quote = FALSE, row.names = FALSE)"
   ]
  },
  {
   "cell_type": "markdown",
   "metadata": {
    "kernel": "R"
   },
   "source": [
    "### Export exome data"
   ]
  },
  {
   "cell_type": "code",
   "execution_count": 171,
   "metadata": {
    "kernel": "R"
   },
   "outputs": [],
   "source": [
    "write.table(f2247_f2257_pheno, 'phenotypes_exome_data/010421_UKBB_f2247_f2257_136862ind_exomes', quote = FALSE, row.names = FALSE)"
   ]
  },
  {
   "cell_type": "markdown",
   "metadata": {
    "kernel": "R"
   },
   "source": [
    "## Controls negative for f.2247 & f.2257 & f.3393"
   ]
  },
  {
   "cell_type": "code",
   "execution_count": 386,
   "metadata": {
    "kernel": "R"
   },
   "outputs": [
    {
     "data": {
      "text/html": [
       "<table>\n",
       "<caption>A data.frame: 6 × 11</caption>\n",
       "<thead>\n",
       "\t<tr><th></th><th scope=col>FID</th><th scope=col>IID</th><th scope=col>sex</th><th scope=col>hearing_aid_cat</th><th scope=col>age_final_aid</th><th scope=col>hearing_diff_new</th><th scope=col>age_final_diff</th><th scope=col>hearing_noise_cat</th><th scope=col>age_final_noise</th><th scope=col>f2247_f2257</th><th scope=col>age_combined</th></tr>\n",
       "\t<tr><th></th><th scope=col>&lt;int&gt;</th><th scope=col>&lt;int&gt;</th><th scope=col>&lt;fct&gt;</th><th scope=col>&lt;int&gt;</th><th scope=col>&lt;int&gt;</th><th scope=col>&lt;fct&gt;</th><th scope=col>&lt;int&gt;</th><th scope=col>&lt;int&gt;</th><th scope=col>&lt;int&gt;</th><th scope=col>&lt;fct&gt;</th><th scope=col>&lt;int&gt;</th></tr>\n",
       "</thead>\n",
       "<tbody>\n",
       "\t<tr><th scope=row>1</th><td>1000063</td><td>1000063</td><td>0</td><td>0</td><td>43</td><td>0</td><td>43</td><td>0</td><td>43</td><td>0</td><td>43</td></tr>\n",
       "\t<tr><th scope=row>2</th><td>1000078</td><td>1000078</td><td>1</td><td>0</td><td>60</td><td>0</td><td>60</td><td>0</td><td>60</td><td>0</td><td>60</td></tr>\n",
       "\t<tr><th scope=row>3</th><td>1000081</td><td>1000081</td><td>0</td><td>0</td><td>67</td><td>0</td><td>67</td><td>0</td><td>67</td><td>0</td><td>67</td></tr>\n",
       "\t<tr><th scope=row>4</th><td>1000141</td><td>1000141</td><td>1</td><td>0</td><td>49</td><td>0</td><td>49</td><td>0</td><td>49</td><td>0</td><td>49</td></tr>\n",
       "\t<tr><th scope=row>5</th><td>1000236</td><td>1000236</td><td>0</td><td>0</td><td>70</td><td>0</td><td>70</td><td>0</td><td>70</td><td>0</td><td>70</td></tr>\n",
       "\t<tr><th scope=row>6</th><td>1000248</td><td>1000248</td><td>0</td><td>0</td><td>63</td><td>0</td><td>63</td><td>0</td><td>63</td><td>0</td><td>63</td></tr>\n",
       "</tbody>\n",
       "</table>\n"
      ],
      "text/latex": [
       "A data.frame: 6 × 11\n",
       "\\begin{tabular}{r|lllllllllll}\n",
       "  & FID & IID & sex & hearing\\_aid\\_cat & age\\_final\\_aid & hearing\\_diff\\_new & age\\_final\\_diff & hearing\\_noise\\_cat & age\\_final\\_noise & f2247\\_f2257 & age\\_combined\\\\\n",
       "  & <int> & <int> & <fct> & <int> & <int> & <fct> & <int> & <int> & <int> & <fct> & <int>\\\\\n",
       "\\hline\n",
       "\t1 & 1000063 & 1000063 & 0 & 0 & 43 & 0 & 43 & 0 & 43 & 0 & 43\\\\\n",
       "\t2 & 1000078 & 1000078 & 1 & 0 & 60 & 0 & 60 & 0 & 60 & 0 & 60\\\\\n",
       "\t3 & 1000081 & 1000081 & 0 & 0 & 67 & 0 & 67 & 0 & 67 & 0 & 67\\\\\n",
       "\t4 & 1000141 & 1000141 & 1 & 0 & 49 & 0 & 49 & 0 & 49 & 0 & 49\\\\\n",
       "\t5 & 1000236 & 1000236 & 0 & 0 & 70 & 0 & 70 & 0 & 70 & 0 & 70\\\\\n",
       "\t6 & 1000248 & 1000248 & 0 & 0 & 63 & 0 & 63 & 0 & 63 & 0 & 63\\\\\n",
       "\\end{tabular}\n"
      ],
      "text/markdown": [
       "\n",
       "A data.frame: 6 × 11\n",
       "\n",
       "| <!--/--> | FID &lt;int&gt; | IID &lt;int&gt; | sex &lt;fct&gt; | hearing_aid_cat &lt;int&gt; | age_final_aid &lt;int&gt; | hearing_diff_new &lt;fct&gt; | age_final_diff &lt;int&gt; | hearing_noise_cat &lt;int&gt; | age_final_noise &lt;int&gt; | f2247_f2257 &lt;fct&gt; | age_combined &lt;int&gt; |\n",
       "|---|---|---|---|---|---|---|---|---|---|---|---|\n",
       "| 1 | 1000063 | 1000063 | 0 | 0 | 43 | 0 | 43 | 0 | 43 | 0 | 43 |\n",
       "| 2 | 1000078 | 1000078 | 1 | 0 | 60 | 0 | 60 | 0 | 60 | 0 | 60 |\n",
       "| 3 | 1000081 | 1000081 | 0 | 0 | 67 | 0 | 67 | 0 | 67 | 0 | 67 |\n",
       "| 4 | 1000141 | 1000141 | 1 | 0 | 49 | 0 | 49 | 0 | 49 | 0 | 49 |\n",
       "| 5 | 1000236 | 1000236 | 0 | 0 | 70 | 0 | 70 | 0 | 70 | 0 | 70 |\n",
       "| 6 | 1000248 | 1000248 | 0 | 0 | 63 | 0 | 63 | 0 | 63 | 0 | 63 |\n",
       "\n"
      ],
      "text/plain": [
       "  FID     IID     sex hearing_aid_cat age_final_aid hearing_diff_new\n",
       "1 1000063 1000063 0   0               43            0               \n",
       "2 1000078 1000078 1   0               60            0               \n",
       "3 1000081 1000081 0   0               67            0               \n",
       "4 1000141 1000141 1   0               49            0               \n",
       "5 1000236 1000236 0   0               70            0               \n",
       "6 1000248 1000248 0   0               63            0               \n",
       "  age_final_diff hearing_noise_cat age_final_noise f2247_f2257 age_combined\n",
       "1 43             0                 43              0           43          \n",
       "2 60             0                 60              0           60          \n",
       "3 67             0                 67              0           67          \n",
       "4 49             0                 49              0           49          \n",
       "5 70             0                 70              0           70          \n",
       "6 63             0                 63              0           63          "
      ]
     },
     "metadata": {},
     "output_type": "display_data"
    },
    {
     "data": {
      "text/html": [
       "83449"
      ],
      "text/latex": [
       "83449"
      ],
      "text/markdown": [
       "83449"
      ],
      "text/plain": [
       "[1] 83449"
      ]
     },
     "metadata": {},
     "output_type": "display_data"
    }
   ],
   "source": [
    "pure_controls <- df_3393_2247_2257_combined %>%\n",
    "    select(FID, IID, sex, hearing_aid_cat, age_final_aid, hearing_diff_new, age_final_diff, hearing_noise_cat, age_final_noise, f2247_f2257, age_combined) %>%\n",
    "    filter(hearing_aid_cat==0 & hearing_diff_new ==0 & hearing_noise_cat ==0)\n",
    "head(pure_controls)\n",
    "nrow(pure_controls)"
   ]
  },
  {
   "cell_type": "code",
   "execution_count": 387,
   "metadata": {
    "kernel": "R"
   },
   "outputs": [
    {
     "data": {
      "text/html": [
       "<table>\n",
       "<caption>A data.frame: 6 × 11</caption>\n",
       "<thead>\n",
       "\t<tr><th></th><th scope=col>FID</th><th scope=col>IID</th><th scope=col>sex</th><th scope=col>hearing_aid_cat</th><th scope=col>age_final_aid</th><th scope=col>hearing_diff_new</th><th scope=col>age_final_diff</th><th scope=col>hearing_noise_cat</th><th scope=col>age_final_noise</th><th scope=col>f2247_f2257</th><th scope=col>age_combined</th></tr>\n",
       "\t<tr><th></th><th scope=col>&lt;int&gt;</th><th scope=col>&lt;int&gt;</th><th scope=col>&lt;fct&gt;</th><th scope=col>&lt;int&gt;</th><th scope=col>&lt;int&gt;</th><th scope=col>&lt;fct&gt;</th><th scope=col>&lt;int&gt;</th><th scope=col>&lt;int&gt;</th><th scope=col>&lt;int&gt;</th><th scope=col>&lt;fct&gt;</th><th scope=col>&lt;int&gt;</th></tr>\n",
       "</thead>\n",
       "<tbody>\n",
       "\t<tr><th scope=row>1</th><td>1000063</td><td>1000063</td><td>0</td><td> 0</td><td>43</td><td>0</td><td>43</td><td>0</td><td>43</td><td>0</td><td>43</td></tr>\n",
       "\t<tr><th scope=row>2</th><td>1000078</td><td>1000078</td><td>1</td><td> 0</td><td>60</td><td>0</td><td>60</td><td>0</td><td>60</td><td>0</td><td>60</td></tr>\n",
       "\t<tr><th scope=row>3</th><td>1000081</td><td>1000081</td><td>0</td><td> 0</td><td>67</td><td>0</td><td>67</td><td>0</td><td>67</td><td>0</td><td>67</td></tr>\n",
       "\t<tr><th scope=row>4</th><td>1000129</td><td>1000129</td><td>0</td><td>NA</td><td>NA</td><td>0</td><td>62</td><td>0</td><td>62</td><td>0</td><td>62</td></tr>\n",
       "\t<tr><th scope=row>5</th><td>1000137</td><td>1000137</td><td>1</td><td>NA</td><td>NA</td><td>0</td><td>46</td><td>0</td><td>46</td><td>0</td><td>46</td></tr>\n",
       "\t<tr><th scope=row>6</th><td>1000141</td><td>1000141</td><td>1</td><td> 0</td><td>49</td><td>0</td><td>49</td><td>0</td><td>49</td><td>0</td><td>49</td></tr>\n",
       "</tbody>\n",
       "</table>\n"
      ],
      "text/latex": [
       "A data.frame: 6 × 11\n",
       "\\begin{tabular}{r|lllllllllll}\n",
       "  & FID & IID & sex & hearing\\_aid\\_cat & age\\_final\\_aid & hearing\\_diff\\_new & age\\_final\\_diff & hearing\\_noise\\_cat & age\\_final\\_noise & f2247\\_f2257 & age\\_combined\\\\\n",
       "  & <int> & <int> & <fct> & <int> & <int> & <fct> & <int> & <int> & <int> & <fct> & <int>\\\\\n",
       "\\hline\n",
       "\t1 & 1000063 & 1000063 & 0 &  0 & 43 & 0 & 43 & 0 & 43 & 0 & 43\\\\\n",
       "\t2 & 1000078 & 1000078 & 1 &  0 & 60 & 0 & 60 & 0 & 60 & 0 & 60\\\\\n",
       "\t3 & 1000081 & 1000081 & 0 &  0 & 67 & 0 & 67 & 0 & 67 & 0 & 67\\\\\n",
       "\t4 & 1000129 & 1000129 & 0 & NA & NA & 0 & 62 & 0 & 62 & 0 & 62\\\\\n",
       "\t5 & 1000137 & 1000137 & 1 & NA & NA & 0 & 46 & 0 & 46 & 0 & 46\\\\\n",
       "\t6 & 1000141 & 1000141 & 1 &  0 & 49 & 0 & 49 & 0 & 49 & 0 & 49\\\\\n",
       "\\end{tabular}\n"
      ],
      "text/markdown": [
       "\n",
       "A data.frame: 6 × 11\n",
       "\n",
       "| <!--/--> | FID &lt;int&gt; | IID &lt;int&gt; | sex &lt;fct&gt; | hearing_aid_cat &lt;int&gt; | age_final_aid &lt;int&gt; | hearing_diff_new &lt;fct&gt; | age_final_diff &lt;int&gt; | hearing_noise_cat &lt;int&gt; | age_final_noise &lt;int&gt; | f2247_f2257 &lt;fct&gt; | age_combined &lt;int&gt; |\n",
       "|---|---|---|---|---|---|---|---|---|---|---|---|\n",
       "| 1 | 1000063 | 1000063 | 0 |  0 | 43 | 0 | 43 | 0 | 43 | 0 | 43 |\n",
       "| 2 | 1000078 | 1000078 | 1 |  0 | 60 | 0 | 60 | 0 | 60 | 0 | 60 |\n",
       "| 3 | 1000081 | 1000081 | 0 |  0 | 67 | 0 | 67 | 0 | 67 | 0 | 67 |\n",
       "| 4 | 1000129 | 1000129 | 0 | NA | NA | 0 | 62 | 0 | 62 | 0 | 62 |\n",
       "| 5 | 1000137 | 1000137 | 1 | NA | NA | 0 | 46 | 0 | 46 | 0 | 46 |\n",
       "| 6 | 1000141 | 1000141 | 1 |  0 | 49 | 0 | 49 | 0 | 49 | 0 | 49 |\n",
       "\n"
      ],
      "text/plain": [
       "  FID     IID     sex hearing_aid_cat age_final_aid hearing_diff_new\n",
       "1 1000063 1000063 0    0              43            0               \n",
       "2 1000078 1000078 1    0              60            0               \n",
       "3 1000081 1000081 0    0              67            0               \n",
       "4 1000129 1000129 0   NA              NA            0               \n",
       "5 1000137 1000137 1   NA              NA            0               \n",
       "6 1000141 1000141 1    0              49            0               \n",
       "  age_final_diff hearing_noise_cat age_final_noise f2247_f2257 age_combined\n",
       "1 43             0                 43              0           43          \n",
       "2 60             0                 60              0           60          \n",
       "3 67             0                 67              0           67          \n",
       "4 62             0                 62              0           62          \n",
       "5 46             0                 46              0           46          \n",
       "6 49             0                 49              0           49          "
      ]
     },
     "metadata": {},
     "output_type": "display_data"
    },
    {
     "data": {
      "text/html": [
       "214974"
      ],
      "text/latex": [
       "214974"
      ],
      "text/markdown": [
       "214974"
      ],
      "text/plain": [
       "[1] 214974"
      ]
     },
     "metadata": {},
     "output_type": "display_data"
    }
   ],
   "source": [
    "pure_controls <- df_3393_2247_2257_combined %>%\n",
    "    select(FID, IID, sex, hearing_aid_cat, age_final_aid, hearing_diff_new, age_final_diff, hearing_noise_cat, age_final_noise, f2247_f2257, age_combined) %>%\n",
    "    filter(hearing_diff_new ==0 & hearing_noise_cat ==0 & (is.na(hearing_aid_cat) |hearing_aid_cat==0) )\n",
    "head(pure_controls)\n",
    "nrow(pure_controls)"
   ]
  },
  {
   "cell_type": "code",
   "execution_count": 399,
   "metadata": {
    "kernel": "R"
   },
   "outputs": [
    {
     "data": {
      "text/html": [
       "<table>\n",
       "<caption>A data.frame: 6 × 12</caption>\n",
       "<thead>\n",
       "\t<tr><th></th><th scope=col>FID</th><th scope=col>IID</th><th scope=col>sex</th><th scope=col>hearing_aid_cat</th><th scope=col>age_final_aid</th><th scope=col>hearing_diff_new</th><th scope=col>hearing_diff_cat</th><th scope=col>age_final_diff</th><th scope=col>hearing_noise_cat</th><th scope=col>age_final_noise</th><th scope=col>f2247_f2257</th><th scope=col>age_combined</th></tr>\n",
       "\t<tr><th></th><th scope=col>&lt;int&gt;</th><th scope=col>&lt;int&gt;</th><th scope=col>&lt;fct&gt;</th><th scope=col>&lt;int&gt;</th><th scope=col>&lt;int&gt;</th><th scope=col>&lt;fct&gt;</th><th scope=col>&lt;int&gt;</th><th scope=col>&lt;int&gt;</th><th scope=col>&lt;int&gt;</th><th scope=col>&lt;int&gt;</th><th scope=col>&lt;fct&gt;</th><th scope=col>&lt;int&gt;</th></tr>\n",
       "</thead>\n",
       "<tbody>\n",
       "\t<tr><th scope=row>1</th><td>1004493</td><td>1004493</td><td>1</td><td>1</td><td>47</td><td>1</td><td>1</td><td>47</td><td>0</td><td>47</td><td>NA</td><td>NA</td></tr>\n",
       "\t<tr><th scope=row>2</th><td>1006082</td><td>1006082</td><td>1</td><td>1</td><td>70</td><td>1</td><td>1</td><td>70</td><td>0</td><td>70</td><td>NA</td><td>NA</td></tr>\n",
       "\t<tr><th scope=row>3</th><td>1006612</td><td>1006612</td><td>0</td><td>1</td><td>63</td><td>1</td><td>1</td><td>63</td><td>0</td><td>63</td><td>NA</td><td>NA</td></tr>\n",
       "\t<tr><th scope=row>4</th><td>1009675</td><td>1009675</td><td>0</td><td>1</td><td>66</td><td>1</td><td>1</td><td>66</td><td>0</td><td>66</td><td>NA</td><td>NA</td></tr>\n",
       "\t<tr><th scope=row>5</th><td>1011166</td><td>1011166</td><td>0</td><td>1</td><td>52</td><td>1</td><td>0</td><td>52</td><td>1</td><td>52</td><td>1 </td><td>52</td></tr>\n",
       "\t<tr><th scope=row>6</th><td>1011769</td><td>1011769</td><td>1</td><td>1</td><td>68</td><td>1</td><td>1</td><td>68</td><td>0</td><td>68</td><td>NA</td><td>NA</td></tr>\n",
       "</tbody>\n",
       "</table>\n"
      ],
      "text/latex": [
       "A data.frame: 6 × 12\n",
       "\\begin{tabular}{r|llllllllllll}\n",
       "  & FID & IID & sex & hearing\\_aid\\_cat & age\\_final\\_aid & hearing\\_diff\\_new & hearing\\_diff\\_cat & age\\_final\\_diff & hearing\\_noise\\_cat & age\\_final\\_noise & f2247\\_f2257 & age\\_combined\\\\\n",
       "  & <int> & <int> & <fct> & <int> & <int> & <fct> & <int> & <int> & <int> & <int> & <fct> & <int>\\\\\n",
       "\\hline\n",
       "\t1 & 1004493 & 1004493 & 1 & 1 & 47 & 1 & 1 & 47 & 0 & 47 & NA & NA\\\\\n",
       "\t2 & 1006082 & 1006082 & 1 & 1 & 70 & 1 & 1 & 70 & 0 & 70 & NA & NA\\\\\n",
       "\t3 & 1006612 & 1006612 & 0 & 1 & 63 & 1 & 1 & 63 & 0 & 63 & NA & NA\\\\\n",
       "\t4 & 1009675 & 1009675 & 0 & 1 & 66 & 1 & 1 & 66 & 0 & 66 & NA & NA\\\\\n",
       "\t5 & 1011166 & 1011166 & 0 & 1 & 52 & 1 & 0 & 52 & 1 & 52 & 1  & 52\\\\\n",
       "\t6 & 1011769 & 1011769 & 1 & 1 & 68 & 1 & 1 & 68 & 0 & 68 & NA & NA\\\\\n",
       "\\end{tabular}\n"
      ],
      "text/markdown": [
       "\n",
       "A data.frame: 6 × 12\n",
       "\n",
       "| <!--/--> | FID &lt;int&gt; | IID &lt;int&gt; | sex &lt;fct&gt; | hearing_aid_cat &lt;int&gt; | age_final_aid &lt;int&gt; | hearing_diff_new &lt;fct&gt; | hearing_diff_cat &lt;int&gt; | age_final_diff &lt;int&gt; | hearing_noise_cat &lt;int&gt; | age_final_noise &lt;int&gt; | f2247_f2257 &lt;fct&gt; | age_combined &lt;int&gt; |\n",
       "|---|---|---|---|---|---|---|---|---|---|---|---|---|\n",
       "| 1 | 1004493 | 1004493 | 1 | 1 | 47 | 1 | 1 | 47 | 0 | 47 | NA | NA |\n",
       "| 2 | 1006082 | 1006082 | 1 | 1 | 70 | 1 | 1 | 70 | 0 | 70 | NA | NA |\n",
       "| 3 | 1006612 | 1006612 | 0 | 1 | 63 | 1 | 1 | 63 | 0 | 63 | NA | NA |\n",
       "| 4 | 1009675 | 1009675 | 0 | 1 | 66 | 1 | 1 | 66 | 0 | 66 | NA | NA |\n",
       "| 5 | 1011166 | 1011166 | 0 | 1 | 52 | 1 | 0 | 52 | 1 | 52 | 1  | 52 |\n",
       "| 6 | 1011769 | 1011769 | 1 | 1 | 68 | 1 | 1 | 68 | 0 | 68 | NA | NA |\n",
       "\n"
      ],
      "text/plain": [
       "  FID     IID     sex hearing_aid_cat age_final_aid hearing_diff_new\n",
       "1 1004493 1004493 1   1               47            1               \n",
       "2 1006082 1006082 1   1               70            1               \n",
       "3 1006612 1006612 0   1               63            1               \n",
       "4 1009675 1009675 0   1               66            1               \n",
       "5 1011166 1011166 0   1               52            1               \n",
       "6 1011769 1011769 1   1               68            1               \n",
       "  hearing_diff_cat age_final_diff hearing_noise_cat age_final_noise f2247_f2257\n",
       "1 1                47             0                 47              NA         \n",
       "2 1                70             0                 70              NA         \n",
       "3 1                63             0                 63              NA         \n",
       "4 1                66             0                 66              NA         \n",
       "5 0                52             1                 52              1          \n",
       "6 1                68             0                 68              NA         \n",
       "  age_combined\n",
       "1 NA          \n",
       "2 NA          \n",
       "3 NA          \n",
       "4 NA          \n",
       "5 52          \n",
       "6 NA          "
      ]
     },
     "metadata": {},
     "output_type": "display_data"
    },
    {
     "data": {
      "text/html": [
       "584"
      ],
      "text/latex": [
       "584"
      ],
      "text/markdown": [
       "584"
      ],
      "text/plain": [
       "[1] 584"
      ]
     },
     "metadata": {},
     "output_type": "display_data"
    }
   ],
   "source": [
    "hearing_aid_inconsistent <- df_3393_2247_2257_combined %>%\n",
    "    select(FID, IID, sex, hearing_aid_cat, age_final_aid, hearing_diff_new,hearing_diff_cat, age_final_diff, hearing_noise_cat, age_final_noise, f2247_f2257, age_combined) %>%\n",
    "    filter(hearing_aid_cat==1 & (hearing_diff_cat ==0 | hearing_noise_cat ==0))\n",
    "head(hearing_aid_inconsistent)\n",
    "nrow(hearing_aid_inconsistent)"
   ]
  },
  {
   "cell_type": "code",
   "execution_count": 396,
   "metadata": {
    "kernel": "R",
    "scrolled": true
   },
   "outputs": [
    {
     "data": {
      "text/html": [
       "<table>\n",
       "<caption>A data.frame: 6 × 12</caption>\n",
       "<thead>\n",
       "\t<tr><th></th><th scope=col>FID</th><th scope=col>IID</th><th scope=col>sex</th><th scope=col>hearing_aid_cat</th><th scope=col>age_final_aid</th><th scope=col>hearing_diff_new</th><th scope=col>hearing_diff_cat</th><th scope=col>age_final_diff</th><th scope=col>hearing_noise_cat</th><th scope=col>age_final_noise</th><th scope=col>f2247_f2257</th><th scope=col>age_combined</th></tr>\n",
       "\t<tr><th></th><th scope=col>&lt;int&gt;</th><th scope=col>&lt;int&gt;</th><th scope=col>&lt;fct&gt;</th><th scope=col>&lt;int&gt;</th><th scope=col>&lt;int&gt;</th><th scope=col>&lt;fct&gt;</th><th scope=col>&lt;int&gt;</th><th scope=col>&lt;int&gt;</th><th scope=col>&lt;int&gt;</th><th scope=col>&lt;int&gt;</th><th scope=col>&lt;fct&gt;</th><th scope=col>&lt;int&gt;</th></tr>\n",
       "</thead>\n",
       "<tbody>\n",
       "\t<tr><th scope=row>1</th><td>1004493</td><td>1004493</td><td>1</td><td>1</td><td>47</td><td>1</td><td>1</td><td>47</td><td>0</td><td>47</td><td>NA</td><td>NA</td></tr>\n",
       "\t<tr><th scope=row>2</th><td>1006082</td><td>1006082</td><td>1</td><td>1</td><td>70</td><td>1</td><td>1</td><td>70</td><td>0</td><td>70</td><td>NA</td><td>NA</td></tr>\n",
       "\t<tr><th scope=row>3</th><td>1006612</td><td>1006612</td><td>0</td><td>1</td><td>63</td><td>1</td><td>1</td><td>63</td><td>0</td><td>63</td><td>NA</td><td>NA</td></tr>\n",
       "\t<tr><th scope=row>4</th><td>1009675</td><td>1009675</td><td>0</td><td>1</td><td>66</td><td>1</td><td>1</td><td>66</td><td>0</td><td>66</td><td>NA</td><td>NA</td></tr>\n",
       "\t<tr><th scope=row>5</th><td>1011769</td><td>1011769</td><td>1</td><td>1</td><td>68</td><td>1</td><td>1</td><td>68</td><td>0</td><td>68</td><td>NA</td><td>NA</td></tr>\n",
       "\t<tr><th scope=row>6</th><td>1034632</td><td>1034632</td><td>0</td><td>1</td><td>67</td><td>1</td><td>1</td><td>67</td><td>0</td><td>67</td><td>NA</td><td>NA</td></tr>\n",
       "</tbody>\n",
       "</table>\n"
      ],
      "text/latex": [
       "A data.frame: 6 × 12\n",
       "\\begin{tabular}{r|llllllllllll}\n",
       "  & FID & IID & sex & hearing\\_aid\\_cat & age\\_final\\_aid & hearing\\_diff\\_new & hearing\\_diff\\_cat & age\\_final\\_diff & hearing\\_noise\\_cat & age\\_final\\_noise & f2247\\_f2257 & age\\_combined\\\\\n",
       "  & <int> & <int> & <fct> & <int> & <int> & <fct> & <int> & <int> & <int> & <int> & <fct> & <int>\\\\\n",
       "\\hline\n",
       "\t1 & 1004493 & 1004493 & 1 & 1 & 47 & 1 & 1 & 47 & 0 & 47 & NA & NA\\\\\n",
       "\t2 & 1006082 & 1006082 & 1 & 1 & 70 & 1 & 1 & 70 & 0 & 70 & NA & NA\\\\\n",
       "\t3 & 1006612 & 1006612 & 0 & 1 & 63 & 1 & 1 & 63 & 0 & 63 & NA & NA\\\\\n",
       "\t4 & 1009675 & 1009675 & 0 & 1 & 66 & 1 & 1 & 66 & 0 & 66 & NA & NA\\\\\n",
       "\t5 & 1011769 & 1011769 & 1 & 1 & 68 & 1 & 1 & 68 & 0 & 68 & NA & NA\\\\\n",
       "\t6 & 1034632 & 1034632 & 0 & 1 & 67 & 1 & 1 & 67 & 0 & 67 & NA & NA\\\\\n",
       "\\end{tabular}\n"
      ],
      "text/markdown": [
       "\n",
       "A data.frame: 6 × 12\n",
       "\n",
       "| <!--/--> | FID &lt;int&gt; | IID &lt;int&gt; | sex &lt;fct&gt; | hearing_aid_cat &lt;int&gt; | age_final_aid &lt;int&gt; | hearing_diff_new &lt;fct&gt; | hearing_diff_cat &lt;int&gt; | age_final_diff &lt;int&gt; | hearing_noise_cat &lt;int&gt; | age_final_noise &lt;int&gt; | f2247_f2257 &lt;fct&gt; | age_combined &lt;int&gt; |\n",
       "|---|---|---|---|---|---|---|---|---|---|---|---|---|\n",
       "| 1 | 1004493 | 1004493 | 1 | 1 | 47 | 1 | 1 | 47 | 0 | 47 | NA | NA |\n",
       "| 2 | 1006082 | 1006082 | 1 | 1 | 70 | 1 | 1 | 70 | 0 | 70 | NA | NA |\n",
       "| 3 | 1006612 | 1006612 | 0 | 1 | 63 | 1 | 1 | 63 | 0 | 63 | NA | NA |\n",
       "| 4 | 1009675 | 1009675 | 0 | 1 | 66 | 1 | 1 | 66 | 0 | 66 | NA | NA |\n",
       "| 5 | 1011769 | 1011769 | 1 | 1 | 68 | 1 | 1 | 68 | 0 | 68 | NA | NA |\n",
       "| 6 | 1034632 | 1034632 | 0 | 1 | 67 | 1 | 1 | 67 | 0 | 67 | NA | NA |\n",
       "\n"
      ],
      "text/plain": [
       "  FID     IID     sex hearing_aid_cat age_final_aid hearing_diff_new\n",
       "1 1004493 1004493 1   1               47            1               \n",
       "2 1006082 1006082 1   1               70            1               \n",
       "3 1006612 1006612 0   1               63            1               \n",
       "4 1009675 1009675 0   1               66            1               \n",
       "5 1011769 1011769 1   1               68            1               \n",
       "6 1034632 1034632 0   1               67            1               \n",
       "  hearing_diff_cat age_final_diff hearing_noise_cat age_final_noise f2247_f2257\n",
       "1 1                47             0                 47              NA         \n",
       "2 1                70             0                 70              NA         \n",
       "3 1                63             0                 63              NA         \n",
       "4 1                66             0                 66              NA         \n",
       "5 1                68             0                 68              NA         \n",
       "6 1                67             0                 67              NA         \n",
       "  age_combined\n",
       "1 NA          \n",
       "2 NA          \n",
       "3 NA          \n",
       "4 NA          \n",
       "5 NA          \n",
       "6 NA          "
      ]
     },
     "metadata": {},
     "output_type": "display_data"
    },
    {
     "data": {
      "text/html": [
       "529"
      ],
      "text/latex": [
       "529"
      ],
      "text/markdown": [
       "529"
      ],
      "text/plain": [
       "[1] 529"
      ]
     },
     "metadata": {},
     "output_type": "display_data"
    }
   ],
   "source": [
    "hearing_aid_inconsistent <- df_3393_2247_2257_combined %>%\n",
    "    select(FID, IID, sex, hearing_aid_cat, age_final_aid, hearing_diff_new,hearing_diff_cat, age_final_diff, hearing_noise_cat, age_final_noise, f2247_f2257, age_combined) %>%\n",
    "    filter(hearing_aid_cat==1 & hearing_noise_cat ==0)\n",
    "head(hearing_aid_inconsistent)\n",
    "nrow(hearing_aid_inconsistent)"
   ]
  },
  {
   "cell_type": "code",
   "execution_count": 390,
   "metadata": {
    "kernel": "R"
   },
   "outputs": [
    {
     "data": {
      "text/html": [
       "<table>\n",
       "<caption>A data.frame: 6 × 2286</caption>\n",
       "<thead>\n",
       "\t<tr><th></th><th scope=col>IID</th><th scope=col>FID</th><th scope=col>ignore1</th><th scope=col>ignore2</th><th scope=col>ignore3</th><th scope=col>ignore4</th><th scope=col>f.31.0.0</th><th scope=col>f.34.0.0</th><th scope=col>f.53.0.0</th><th scope=col>f.53.1.0</th><th scope=col>⋯</th><th scope=col>age_final_aid</th><th scope=col>hearing_diff_cat</th><th scope=col>age_final_diff</th><th scope=col>hearing_diff_cat_new</th><th scope=col>hearing_aid_cat_new</th><th scope=col>hearing_diff_new</th><th scope=col>hearing_noise_cat</th><th scope=col>age_final_noise</th><th scope=col>f2247_f2257</th><th scope=col>age_combined</th></tr>\n",
       "\t<tr><th></th><th scope=col>&lt;int&gt;</th><th scope=col>&lt;int&gt;</th><th scope=col>&lt;int&gt;</th><th scope=col>&lt;int&gt;</th><th scope=col>&lt;int&gt;</th><th scope=col>&lt;int&gt;</th><th scope=col>&lt;fct&gt;</th><th scope=col>&lt;int&gt;</th><th scope=col>&lt;fct&gt;</th><th scope=col>&lt;fct&gt;</th><th scope=col>⋯</th><th scope=col>&lt;int&gt;</th><th scope=col>&lt;int&gt;</th><th scope=col>&lt;int&gt;</th><th scope=col>&lt;fct&gt;</th><th scope=col>&lt;fct&gt;</th><th scope=col>&lt;fct&gt;</th><th scope=col>&lt;int&gt;</th><th scope=col>&lt;int&gt;</th><th scope=col>&lt;fct&gt;</th><th scope=col>&lt;int&gt;</th></tr>\n",
       "</thead>\n",
       "<tbody>\n",
       "\t<tr><th scope=row>1</th><td>1000019</td><td>1000019</td><td>0</td><td>0</td><td>2</td><td>-9</td><td>Female</td><td>1960</td><td>2008-01-24</td><td>NA</td><td>⋯</td><td>47</td><td>1</td><td>47</td><td>case   </td><td>control</td><td>1</td><td>1</td><td>47</td><td>1 </td><td>47</td></tr>\n",
       "\t<tr><th scope=row>2</th><td>1000022</td><td>1000022</td><td>0</td><td>0</td><td>1</td><td>-9</td><td>Male  </td><td>1954</td><td>2008-01-22</td><td>NA</td><td>⋯</td><td>53</td><td>1</td><td>53</td><td>case   </td><td>control</td><td>1</td><td>1</td><td>53</td><td>1 </td><td>53</td></tr>\n",
       "\t<tr><th scope=row>3</th><td>1000035</td><td>1000035</td><td>0</td><td>0</td><td>1</td><td>-9</td><td>Male  </td><td>1944</td><td>2007-11-08</td><td>NA</td><td>⋯</td><td>63</td><td>0</td><td>63</td><td>control</td><td>control</td><td>0</td><td>1</td><td>63</td><td>NA</td><td>NA</td></tr>\n",
       "\t<tr><th scope=row>4</th><td>1000046</td><td>1000046</td><td>0</td><td>0</td><td>2</td><td>-9</td><td>Female</td><td>1946</td><td>2008-12-01</td><td>NA</td><td>⋯</td><td>73</td><td>0</td><td>73</td><td>control</td><td>control</td><td>0</td><td>1</td><td>73</td><td>NA</td><td>NA</td></tr>\n",
       "\t<tr><th scope=row>5</th><td>1000054</td><td>1000054</td><td>0</td><td>0</td><td>2</td><td>-9</td><td>Female</td><td>1942</td><td>2007-11-23</td><td>NA</td><td>⋯</td><td>65</td><td>0</td><td>65</td><td>control</td><td>control</td><td>0</td><td>1</td><td>65</td><td>NA</td><td>NA</td></tr>\n",
       "\t<tr><th scope=row>6</th><td>1000063</td><td>1000063</td><td>0</td><td>0</td><td>1</td><td>-9</td><td>Male  </td><td>1967</td><td>2010-06-26</td><td>NA</td><td>⋯</td><td>43</td><td>0</td><td>43</td><td>control</td><td>control</td><td>0</td><td>0</td><td>43</td><td>0 </td><td>43</td></tr>\n",
       "</tbody>\n",
       "</table>\n"
      ],
      "text/latex": [
       "A data.frame: 6 × 2286\n",
       "\\begin{tabular}{r|lllllllllllllllllllll}\n",
       "  & IID & FID & ignore1 & ignore2 & ignore3 & ignore4 & f.31.0.0 & f.34.0.0 & f.53.0.0 & f.53.1.0 & ⋯ & age\\_final\\_aid & hearing\\_diff\\_cat & age\\_final\\_diff & hearing\\_diff\\_cat\\_new & hearing\\_aid\\_cat\\_new & hearing\\_diff\\_new & hearing\\_noise\\_cat & age\\_final\\_noise & f2247\\_f2257 & age\\_combined\\\\\n",
       "  & <int> & <int> & <int> & <int> & <int> & <int> & <fct> & <int> & <fct> & <fct> & ⋯ & <int> & <int> & <int> & <fct> & <fct> & <fct> & <int> & <int> & <fct> & <int>\\\\\n",
       "\\hline\n",
       "\t1 & 1000019 & 1000019 & 0 & 0 & 2 & -9 & Female & 1960 & 2008-01-24 & NA & ⋯ & 47 & 1 & 47 & case    & control & 1 & 1 & 47 & 1  & 47\\\\\n",
       "\t2 & 1000022 & 1000022 & 0 & 0 & 1 & -9 & Male   & 1954 & 2008-01-22 & NA & ⋯ & 53 & 1 & 53 & case    & control & 1 & 1 & 53 & 1  & 53\\\\\n",
       "\t3 & 1000035 & 1000035 & 0 & 0 & 1 & -9 & Male   & 1944 & 2007-11-08 & NA & ⋯ & 63 & 0 & 63 & control & control & 0 & 1 & 63 & NA & NA\\\\\n",
       "\t4 & 1000046 & 1000046 & 0 & 0 & 2 & -9 & Female & 1946 & 2008-12-01 & NA & ⋯ & 73 & 0 & 73 & control & control & 0 & 1 & 73 & NA & NA\\\\\n",
       "\t5 & 1000054 & 1000054 & 0 & 0 & 2 & -9 & Female & 1942 & 2007-11-23 & NA & ⋯ & 65 & 0 & 65 & control & control & 0 & 1 & 65 & NA & NA\\\\\n",
       "\t6 & 1000063 & 1000063 & 0 & 0 & 1 & -9 & Male   & 1967 & 2010-06-26 & NA & ⋯ & 43 & 0 & 43 & control & control & 0 & 0 & 43 & 0  & 43\\\\\n",
       "\\end{tabular}\n"
      ],
      "text/markdown": [
       "\n",
       "A data.frame: 6 × 2286\n",
       "\n",
       "| <!--/--> | IID &lt;int&gt; | FID &lt;int&gt; | ignore1 &lt;int&gt; | ignore2 &lt;int&gt; | ignore3 &lt;int&gt; | ignore4 &lt;int&gt; | f.31.0.0 &lt;fct&gt; | f.34.0.0 &lt;int&gt; | f.53.0.0 &lt;fct&gt; | f.53.1.0 &lt;fct&gt; | ⋯ ⋯ | age_final_aid &lt;int&gt; | hearing_diff_cat &lt;int&gt; | age_final_diff &lt;int&gt; | hearing_diff_cat_new &lt;fct&gt; | hearing_aid_cat_new &lt;fct&gt; | hearing_diff_new &lt;fct&gt; | hearing_noise_cat &lt;int&gt; | age_final_noise &lt;int&gt; | f2247_f2257 &lt;fct&gt; | age_combined &lt;int&gt; |\n",
       "|---|---|---|---|---|---|---|---|---|---|---|---|---|---|---|---|---|---|---|---|---|---|\n",
       "| 1 | 1000019 | 1000019 | 0 | 0 | 2 | -9 | Female | 1960 | 2008-01-24 | NA | ⋯ | 47 | 1 | 47 | case    | control | 1 | 1 | 47 | 1  | 47 |\n",
       "| 2 | 1000022 | 1000022 | 0 | 0 | 1 | -9 | Male   | 1954 | 2008-01-22 | NA | ⋯ | 53 | 1 | 53 | case    | control | 1 | 1 | 53 | 1  | 53 |\n",
       "| 3 | 1000035 | 1000035 | 0 | 0 | 1 | -9 | Male   | 1944 | 2007-11-08 | NA | ⋯ | 63 | 0 | 63 | control | control | 0 | 1 | 63 | NA | NA |\n",
       "| 4 | 1000046 | 1000046 | 0 | 0 | 2 | -9 | Female | 1946 | 2008-12-01 | NA | ⋯ | 73 | 0 | 73 | control | control | 0 | 1 | 73 | NA | NA |\n",
       "| 5 | 1000054 | 1000054 | 0 | 0 | 2 | -9 | Female | 1942 | 2007-11-23 | NA | ⋯ | 65 | 0 | 65 | control | control | 0 | 1 | 65 | NA | NA |\n",
       "| 6 | 1000063 | 1000063 | 0 | 0 | 1 | -9 | Male   | 1967 | 2010-06-26 | NA | ⋯ | 43 | 0 | 43 | control | control | 0 | 0 | 43 | 0  | 43 |\n",
       "\n"
      ],
      "text/plain": [
       "  IID     FID     ignore1 ignore2 ignore3 ignore4 f.31.0.0 f.34.0.0 f.53.0.0  \n",
       "1 1000019 1000019 0       0       2       -9      Female   1960     2008-01-24\n",
       "2 1000022 1000022 0       0       1       -9      Male     1954     2008-01-22\n",
       "3 1000035 1000035 0       0       1       -9      Male     1944     2007-11-08\n",
       "4 1000046 1000046 0       0       2       -9      Female   1946     2008-12-01\n",
       "5 1000054 1000054 0       0       2       -9      Female   1942     2007-11-23\n",
       "6 1000063 1000063 0       0       1       -9      Male     1967     2010-06-26\n",
       "  f.53.1.0 ⋯ age_final_aid hearing_diff_cat age_final_diff hearing_diff_cat_new\n",
       "1 NA       ⋯ 47            1                47             case                \n",
       "2 NA       ⋯ 53            1                53             case                \n",
       "3 NA       ⋯ 63            0                63             control             \n",
       "4 NA       ⋯ 73            0                73             control             \n",
       "5 NA       ⋯ 65            0                65             control             \n",
       "6 NA       ⋯ 43            0                43             control             \n",
       "  hearing_aid_cat_new hearing_diff_new hearing_noise_cat age_final_noise\n",
       "1 control             1                1                 47             \n",
       "2 control             1                1                 53             \n",
       "3 control             0                1                 63             \n",
       "4 control             0                1                 73             \n",
       "5 control             0                1                 65             \n",
       "6 control             0                0                 43             \n",
       "  f2247_f2257 age_combined\n",
       "1 1           47          \n",
       "2 1           53          \n",
       "3 NA          NA          \n",
       "4 NA          NA          \n",
       "5 NA          NA          \n",
       "6 0           43          "
      ]
     },
     "metadata": {},
     "output_type": "display_data"
    }
   ],
   "source": [
    "head(df_3393_2247_2257_combined)"
   ]
  },
  {
   "cell_type": "code",
   "execution_count": 208,
   "metadata": {
    "kernel": "R"
   },
   "outputs": [
    {
     "data": {
      "text/html": [
       "<table>\n",
       "<caption>A data.frame: 6 × 11</caption>\n",
       "<thead>\n",
       "\t<tr><th></th><th scope=col>FID</th><th scope=col>IID</th><th scope=col>sex</th><th scope=col>hearing_aid_cat</th><th scope=col>age_final_aid</th><th scope=col>hearing_diff_new</th><th scope=col>age_final_diff</th><th scope=col>hearing_noise_cat</th><th scope=col>age_final_noise</th><th scope=col>f2247_f2257</th><th scope=col>age_combined</th></tr>\n",
       "\t<tr><th></th><th scope=col>&lt;int&gt;</th><th scope=col>&lt;int&gt;</th><th scope=col>&lt;fct&gt;</th><th scope=col>&lt;int&gt;</th><th scope=col>&lt;int&gt;</th><th scope=col>&lt;fct&gt;</th><th scope=col>&lt;int&gt;</th><th scope=col>&lt;int&gt;</th><th scope=col>&lt;int&gt;</th><th scope=col>&lt;fct&gt;</th><th scope=col>&lt;int&gt;</th></tr>\n",
       "</thead>\n",
       "<tbody>\n",
       "\t<tr><th scope=row>1</th><td>1421064</td><td>1421064</td><td>1</td><td>NA</td><td>NA</td><td>0</td><td>62</td><td>0</td><td>62</td><td>0</td><td>62</td></tr>\n",
       "\t<tr><th scope=row>2</th><td>1497578</td><td>1497578</td><td>1</td><td>NA</td><td>NA</td><td>0</td><td>55</td><td>0</td><td>55</td><td>0</td><td>55</td></tr>\n",
       "\t<tr><th scope=row>3</th><td>1637509</td><td>1637509</td><td>1</td><td>NA</td><td>NA</td><td>0</td><td>66</td><td>0</td><td>66</td><td>0</td><td>66</td></tr>\n",
       "\t<tr><th scope=row>4</th><td>1648454</td><td>1648454</td><td>1</td><td>NA</td><td>NA</td><td>0</td><td>65</td><td>0</td><td>65</td><td>0</td><td>65</td></tr>\n",
       "\t<tr><th scope=row>5</th><td>1689328</td><td>1689328</td><td>1</td><td>NA</td><td>NA</td><td>0</td><td>64</td><td>0</td><td>64</td><td>0</td><td>64</td></tr>\n",
       "\t<tr><th scope=row>6</th><td>1706558</td><td>1706558</td><td>1</td><td>NA</td><td>NA</td><td>0</td><td>67</td><td>0</td><td>67</td><td>0</td><td>67</td></tr>\n",
       "</tbody>\n",
       "</table>\n"
      ],
      "text/latex": [
       "A data.frame: 6 × 11\n",
       "\\begin{tabular}{r|lllllllllll}\n",
       "  & FID & IID & sex & hearing\\_aid\\_cat & age\\_final\\_aid & hearing\\_diff\\_new & age\\_final\\_diff & hearing\\_noise\\_cat & age\\_final\\_noise & f2247\\_f2257 & age\\_combined\\\\\n",
       "  & <int> & <int> & <fct> & <int> & <int> & <fct> & <int> & <int> & <int> & <fct> & <int>\\\\\n",
       "\\hline\n",
       "\t1 & 1421064 & 1421064 & 1 & NA & NA & 0 & 62 & 0 & 62 & 0 & 62\\\\\n",
       "\t2 & 1497578 & 1497578 & 1 & NA & NA & 0 & 55 & 0 & 55 & 0 & 55\\\\\n",
       "\t3 & 1637509 & 1637509 & 1 & NA & NA & 0 & 66 & 0 & 66 & 0 & 66\\\\\n",
       "\t4 & 1648454 & 1648454 & 1 & NA & NA & 0 & 65 & 0 & 65 & 0 & 65\\\\\n",
       "\t5 & 1689328 & 1689328 & 1 & NA & NA & 0 & 64 & 0 & 64 & 0 & 64\\\\\n",
       "\t6 & 1706558 & 1706558 & 1 & NA & NA & 0 & 67 & 0 & 67 & 0 & 67\\\\\n",
       "\\end{tabular}\n"
      ],
      "text/markdown": [
       "\n",
       "A data.frame: 6 × 11\n",
       "\n",
       "| <!--/--> | FID &lt;int&gt; | IID &lt;int&gt; | sex &lt;fct&gt; | hearing_aid_cat &lt;int&gt; | age_final_aid &lt;int&gt; | hearing_diff_new &lt;fct&gt; | age_final_diff &lt;int&gt; | hearing_noise_cat &lt;int&gt; | age_final_noise &lt;int&gt; | f2247_f2257 &lt;fct&gt; | age_combined &lt;int&gt; |\n",
       "|---|---|---|---|---|---|---|---|---|---|---|---|\n",
       "| 1 | 1421064 | 1421064 | 1 | NA | NA | 0 | 62 | 0 | 62 | 0 | 62 |\n",
       "| 2 | 1497578 | 1497578 | 1 | NA | NA | 0 | 55 | 0 | 55 | 0 | 55 |\n",
       "| 3 | 1637509 | 1637509 | 1 | NA | NA | 0 | 66 | 0 | 66 | 0 | 66 |\n",
       "| 4 | 1648454 | 1648454 | 1 | NA | NA | 0 | 65 | 0 | 65 | 0 | 65 |\n",
       "| 5 | 1689328 | 1689328 | 1 | NA | NA | 0 | 64 | 0 | 64 | 0 | 64 |\n",
       "| 6 | 1706558 | 1706558 | 1 | NA | NA | 0 | 67 | 0 | 67 | 0 | 67 |\n",
       "\n"
      ],
      "text/plain": [
       "  FID     IID     sex hearing_aid_cat age_final_aid hearing_diff_new\n",
       "1 1421064 1421064 1   NA              NA            0               \n",
       "2 1497578 1497578 1   NA              NA            0               \n",
       "3 1637509 1637509 1   NA              NA            0               \n",
       "4 1648454 1648454 1   NA              NA            0               \n",
       "5 1689328 1689328 1   NA              NA            0               \n",
       "6 1706558 1706558 1   NA              NA            0               \n",
       "  age_final_diff hearing_noise_cat age_final_noise f2247_f2257 age_combined\n",
       "1 62             0                 62              0           62          \n",
       "2 55             0                 55              0           55          \n",
       "3 66             0                 66              0           66          \n",
       "4 65             0                 65              0           65          \n",
       "5 64             0                 64              0           64          \n",
       "6 67             0                 67              0           67          "
      ]
     },
     "metadata": {},
     "output_type": "display_data"
    },
    {
     "data": {
      "text/html": [
       "30"
      ],
      "text/latex": [
       "30"
      ],
      "text/markdown": [
       "30"
      ],
      "text/plain": [
       "[1] 30"
      ]
     },
     "metadata": {},
     "output_type": "display_data"
    }
   ],
   "source": [
    "hearing_aid_z974 <- df_3393_2247_2257_combined %>%\n",
    "    select(FID, IID, sex, hearing_aid_cat, age_final_aid, hearing_diff_new, age_final_diff, hearing_noise_cat, age_final_noise, f2247_f2257, age_combined) %>%\n",
    "    filter(IID %in% ICD10_z974$IID) %>%\n",
    "    filter(is.na(hearing_aid_cat))\n",
    "head(hearing_aid_z974)\n",
    "nrow(hearing_aid_z974)"
   ]
  },
  {
   "cell_type": "code",
   "execution_count": null,
   "metadata": {
    "kernel": "R"
   },
   "outputs": [],
   "source": []
  }
 ],
 "metadata": {
  "kernelspec": {
   "display_name": "SoS",
   "language": "sos",
   "name": "sos"
  },
  "language_info": {
   "codemirror_mode": "sos",
   "file_extension": ".sos",
   "mimetype": "text/x-sos",
   "name": "sos",
   "nbconvert_exporter": "sos_notebook.converter.SoS_Exporter",
   "pygments_lexer": "sos"
  },
  "sos": {
   "kernels": [
    [
     "R",
     "ir",
     "R",
     "#DCDCDA",
     "r"
    ],
    [
     "SoS",
     "sos",
     "",
     "",
     "sos"
    ]
   ],
   "version": "0.22.3"
  }
 },
 "nbformat": 4,
 "nbformat_minor": 4
}
