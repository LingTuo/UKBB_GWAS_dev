{
 "cells": [
  {
   "cell_type": "markdown",
   "id": "1351637d-8316-43dc-91d7-00100de2233e",
   "metadata": {
    "kernel": "SoS",
    "tags": []
   },
   "source": [
    "# Create the phenotype files for the 50K and the 150K individuals\n",
    "\n",
    "This division obeys the order of the releases and therefore the different exome capture kits that were used to WES every group of individuals "
   ]
  },
  {
   "cell_type": "code",
   "execution_count": null,
   "id": "676e6936-f461-441e-934a-f75fd4c18cc6",
   "metadata": {
    "kernel": "R",
    "tags": []
   },
   "outputs": [],
   "source": [
    "library(tidyverse)\n",
    "library(data.table)"
   ]
  },
  {
   "cell_type": "code",
   "execution_count": null,
   "id": "6b34638f-6c0d-4874-9396-51992c1ed557",
   "metadata": {
    "kernel": "R",
    "tags": []
   },
   "outputs": [],
   "source": [
    "ind50 <- read.table(\"~/UKBiobank_Yale_transfer/ukb28374_exomedata/ukb32285_exomespb_chr1_22.fam\")\n",
    "colnames(ind50) <- c(\"FID\", \"IID\", \"fatherID\", \"motherID\", \"sex\", \"phenotype\")"
   ]
  },
  {
   "cell_type": "code",
   "execution_count": null,
   "id": "a6343bde-fd3f-4859-ac8e-f60c79717bfb",
   "metadata": {
    "kernel": "R"
   },
   "outputs": [],
   "source": [
    "head(ind50)"
   ]
  },
  {
   "cell_type": "markdown",
   "id": "053bb662-9ecd-4310-86f6-bd2b43b67882",
   "metadata": {
    "kernel": "R"
   },
   "source": [
    "## f.3393"
   ]
  },
  {
   "cell_type": "code",
   "execution_count": null,
   "id": "f9c6f5bf-4aaa-44d8-9548-d79a6eea27c2",
   "metadata": {
    "kernel": "R"
   },
   "outputs": [],
   "source": [
    "f3393_all <- read.table(\"~/UKBiobank/phenotype_files/hearing_impairment/080421_UKBB_Hearing_aid_f3393_expandedwhite_6305cases_98082ctrl\", sep='\\t', header=TRUE)"
   ]
  },
  {
   "cell_type": "code",
   "execution_count": null,
   "id": "681a16bf-3638-4d37-a1c6-8fda01e610e3",
   "metadata": {
    "kernel": "R"
   },
   "outputs": [],
   "source": [
    "head(f3393_all)"
   ]
  },
  {
   "cell_type": "code",
   "execution_count": null,
   "id": "f17ca82d-97f0-4143-a1e3-997294d51da1",
   "metadata": {
    "kernel": "R"
   },
   "outputs": [],
   "source": [
    "#library(data.table)\n",
    "f3393_50k <- setDT(f3393_all)[IID %chin% ind50$IID]\n",
    "nrow(f3393_50k)"
   ]
  },
  {
   "cell_type": "code",
   "execution_count": null,
   "id": "f8b9b24f-7441-4ea9-9e94-0f8f5e6ffe10",
   "metadata": {
    "kernel": "R"
   },
   "outputs": [],
   "source": [
    "f3393_150k <- setDT(f3393_all)[!IID %chin% ind50$IID]\n",
    "nrow(f3393_150k)"
   ]
  },
  {
   "cell_type": "markdown",
   "id": "0751289e-65d6-4e02-a53d-7deb0f334275",
   "metadata": {
    "kernel": "R"
   },
   "source": [
    "## Number of cases/controls in each set for f.3393"
   ]
  },
  {
   "cell_type": "code",
   "execution_count": null,
   "id": "9f1a0fe9-256f-4d93-ae24-87dbcffa9c5f",
   "metadata": {
    "kernel": "R"
   },
   "outputs": [],
   "source": [
    "#There are 1755 cases in the 50K group and 22741 controls\n",
    "f3393_50k[, .N, by=.(f3393)]\n",
    "#There are 4550 cases in the 50K group and 75341 controls\n",
    "f3393_150k[, .N, by=.(f3393)]"
   ]
  },
  {
   "cell_type": "markdown",
   "id": "852f64dc-629f-457f-8034-cb82b22c99a3",
   "metadata": {
    "kernel": "R"
   },
   "source": [
    "## f.2247"
   ]
  },
  {
   "cell_type": "code",
   "execution_count": null,
   "id": "cb480192-06a0-44db-8579-c3b2cd5eff98",
   "metadata": {
    "kernel": "R"
   },
   "outputs": [],
   "source": [
    "f2247_all <- read.table(\"~/UKBiobank/phenotype_files/hearing_impairment/080421_UKBB_Hearing_difficulty_f2247_expandedwhite_46237cases_98082ctrl\", sep='\\t', header=TRUE)"
   ]
  },
  {
   "cell_type": "code",
   "execution_count": null,
   "id": "858e0979-d18b-4d6f-afaf-3b8eddb74033",
   "metadata": {
    "kernel": "R"
   },
   "outputs": [],
   "source": [
    "head(f2247_all)"
   ]
  },
  {
   "cell_type": "code",
   "execution_count": null,
   "id": "79d23f62-c075-49ae-83f4-0c36af39436a",
   "metadata": {
    "kernel": "R"
   },
   "outputs": [],
   "source": [
    "f2247_50k <- setDT(f2247_all)[IID %chin% ind50$IID]\n",
    "nrow(f2247_50k)"
   ]
  },
  {
   "cell_type": "code",
   "execution_count": null,
   "id": "ae5e558f-8c68-4f30-ad36-fe23bd55b80c",
   "metadata": {
    "kernel": "R"
   },
   "outputs": [],
   "source": [
    "f2247_150k <- setDT(f2247_all)[!IID %chin% ind50$IID]\n",
    "nrow(f2247_150k)"
   ]
  },
  {
   "cell_type": "markdown",
   "id": "e7a92aaf-6b75-4341-97fb-8515f734c20e",
   "metadata": {
    "kernel": "R"
   },
   "source": [
    "## Number of cases/controls in each set for f.2247"
   ]
  },
  {
   "cell_type": "code",
   "execution_count": null,
   "id": "bc852a48-512f-4051-ae81-c076e5f620e4",
   "metadata": {
    "kernel": "R"
   },
   "outputs": [],
   "source": [
    "#There are 12406 cases in the 50K group and 22741 controls\n",
    "f2247_50k[, .N, by=.(f2247)]\n",
    "#There are 33831 cases in the 50K group and 75341 controls\n",
    "f2247_150k[, .N, by=.(f2247)]"
   ]
  },
  {
   "cell_type": "markdown",
   "id": "3eb987d7-ef5e-4e5f-9b84-c6f16cf61898",
   "metadata": {
    "kernel": "R"
   },
   "source": [
    "# f.2257"
   ]
  },
  {
   "cell_type": "code",
   "execution_count": null,
   "id": "8c47b7c4-9545-4dbb-9cc9-6afcd7afe77f",
   "metadata": {
    "kernel": "R"
   },
   "outputs": [],
   "source": [
    "f2257_all <- read.table(\"~/UKBiobank/phenotype_files/hearing_impairment/080421_UKBB_Hearing_noise_f2257_expandedwhite_66656cases_98082ctrl\", sep='\\t', header=TRUE)"
   ]
  },
  {
   "cell_type": "code",
   "execution_count": null,
   "id": "b0a636b3-86f2-4141-9143-8ab0368329ed",
   "metadata": {
    "kernel": "R"
   },
   "outputs": [],
   "source": [
    "head(f2257_all)"
   ]
  },
  {
   "cell_type": "code",
   "execution_count": null,
   "id": "063aebbc-a44c-4453-b395-eba383b97720",
   "metadata": {
    "kernel": "R"
   },
   "outputs": [],
   "source": [
    "f2257_50k <- setDT(f2257_all)[IID %chin% ind50$IID]\n",
    "nrow(f2257_50k)"
   ]
  },
  {
   "cell_type": "code",
   "execution_count": null,
   "id": "ad906453-d6ee-4eb7-804a-0982c7d744f9",
   "metadata": {
    "kernel": "R"
   },
   "outputs": [],
   "source": [
    "f2257_150k <- setDT(f2257_all)[!IID %chin% ind50$IID]\n",
    "nrow(f2257_150k)"
   ]
  },
  {
   "cell_type": "markdown",
   "id": "b2ab5ecf-f0de-4d10-935b-f3e16e91dcfb",
   "metadata": {
    "kernel": "R"
   },
   "source": [
    "## Number of cases/controls in each set for f.2257"
   ]
  },
  {
   "cell_type": "code",
   "execution_count": null,
   "id": "74f1cf69-dbc4-427f-85c5-f6049c051520",
   "metadata": {
    "kernel": "R"
   },
   "outputs": [],
   "source": [
    "#There are 16603 cases in the 50K group and 22741 controls\n",
    "f2257_50k[, .N, by=.(f2257)]\n",
    "#There are 50053 cases in the 50K group and 75341 controls\n",
    "f2257_150k[, .N, by=.(f2257)]"
   ]
  },
  {
   "cell_type": "markdown",
   "id": "5fc50f76-d3ea-4d27-accd-9d16e365aa4a",
   "metadata": {
    "kernel": "R"
   },
   "source": [
    "# Combined f.2247 & f.2257"
   ]
  },
  {
   "cell_type": "code",
   "execution_count": null,
   "id": "bc71e2e5-68ce-4b8c-a808-4c448223ed60",
   "metadata": {
    "kernel": "R"
   },
   "outputs": [],
   "source": [
    "combined_all <- read.table(\"~/UKBiobank/phenotype_files/hearing_impairment/080421_UKBB_Combined_f2247_f2257_expandedwhite_39049cases_98082ctrl\", sep='\\t', header=TRUE)"
   ]
  },
  {
   "cell_type": "code",
   "execution_count": null,
   "id": "33f8684d-4af1-4596-beaf-a4890738e925",
   "metadata": {
    "kernel": "R"
   },
   "outputs": [],
   "source": [
    "head(combined_all)"
   ]
  },
  {
   "cell_type": "code",
   "execution_count": null,
   "id": "cd4a3e35-a783-4031-b2ab-6f742af56235",
   "metadata": {
    "kernel": "R"
   },
   "outputs": [],
   "source": [
    "combined_50k <- setDT(combined_all)[IID %chin% ind50$IID]\n",
    "nrow(combined_50k)"
   ]
  },
  {
   "cell_type": "code",
   "execution_count": null,
   "id": "6ca48533-a64b-4a69-8de8-1760e6d64647",
   "metadata": {
    "kernel": "R"
   },
   "outputs": [],
   "source": [
    "combined_150k <- setDT(combined_all)[!IID %chin% ind50$IID]\n",
    "nrow(combined_150k)"
   ]
  },
  {
   "cell_type": "code",
   "execution_count": null,
   "id": "53931539-84ec-4829-bf99-5e12d27932bc",
   "metadata": {
    "kernel": "R"
   },
   "outputs": [],
   "source": [
    "#There are 10658 cases in the 50K group and 22741 controls\n",
    "combined_50k[, .N, by=.(f2247_f2257)]\n",
    "#There are 28391 cases in the 50K group and 75341 controls\n",
    "combined_150k[, .N, by=.(f2247_f2257)]"
   ]
  },
  {
   "cell_type": "markdown",
   "id": "b6e002a3-c2c5-4f4f-934d-d38168aaa95d",
   "metadata": {
    "kernel": "R"
   },
   "source": [
    "## Analyze number of individuals with both exome data and genotype array data Qc'ed by Megan"
   ]
  },
  {
   "cell_type": "code",
   "execution_count": null,
   "id": "5a00be97-8c64-4807-a32a-8f53737c9135",
   "metadata": {
    "kernel": "R"
   },
   "outputs": [],
   "source": [
    "exome_fam <- read.table('~/UKBiobank_Yale_transfer/ukb28374_exomedata/exome_data_OCT2020/ukb23155_s200631.fam')\n",
    "colnames(exome_fam) <- c(\"FID\", \"IID\", \"fatherID\", \"motherID\", \"sex\", \"phenotype\")"
   ]
  },
  {
   "cell_type": "code",
   "execution_count": null,
   "id": "a9404f5b-7d3e-429b-880f-f6f042b5d7a7",
   "metadata": {
    "kernel": "R"
   },
   "outputs": [],
   "source": [
    "head(exome_fam)"
   ]
  },
  {
   "cell_type": "code",
   "execution_count": null,
   "id": "06059af2-4c9c-4432-a5f3-68beee313ca5",
   "metadata": {
    "kernel": "R"
   },
   "outputs": [],
   "source": [
    "genotype_fam <- read.table('~/UKBiobank_Yale_transfer/pleiotropy_geneticfiles/UKB_expandedwhite_qcgenotypefiles/UKB_expandedwhiteonly_phenotypeindepqc_410905indiv_528206snps_102720.fam')\n",
    "colnames(genotype_fam) <- c(\"FID\", \"IID\", \"fatherID\", \"motherID\", \"sex\", \"phenotype\")"
   ]
  },
  {
   "cell_type": "code",
   "execution_count": null,
   "id": "73e87b48-6661-4e33-ab65-38d423b7a5b8",
   "metadata": {
    "kernel": "R"
   },
   "outputs": [],
   "source": [
    "head(genotype_fam)"
   ]
  },
  {
   "cell_type": "code",
   "execution_count": null,
   "id": "712945b5-4dc8-4087-90da-e55e30878573",
   "metadata": {
    "kernel": "R"
   },
   "outputs": [],
   "source": [
    "exomed_wtih_genoarray <- setDT(exome_fam)[IID %chin% genotype_fam$IID]"
   ]
  },
  {
   "cell_type": "code",
   "execution_count": null,
   "id": "f5c40e0d-ddeb-4cc3-9f2f-e7d7e9131cde",
   "metadata": {
    "kernel": "R"
   },
   "outputs": [],
   "source": [
    "nrow(exomed_wtih_genoarray)"
   ]
  },
  {
   "cell_type": "code",
   "execution_count": null,
   "id": "d05042f4-dbb2-4f3f-9b48-760b5268184b",
   "metadata": {
    "kernel": "R"
   },
   "outputs": [],
   "source": [
    "white_exome_fam <- read.table('~/UKBiobank_Yale_transfer/pleiotropy_R01/ukb43978_OCT2020/dc2325_phenotypes/030821_ukb42495_exomed_white_189010ind')\n",
    "colnames(white_exome_fam) <- c(\"FID\", \"IID\")"
   ]
  },
  {
   "cell_type": "code",
   "execution_count": null,
   "id": "03695f21-e91b-4bdc-8cf8-5d5312db2858",
   "metadata": {
    "kernel": "R"
   },
   "outputs": [],
   "source": [
    "exomed_white_genoarray <- setDT(white_exome_fam)[IID %chin% genotype_fam$IID]"
   ]
  },
  {
   "cell_type": "code",
   "execution_count": null,
   "id": "65327e40-ace2-4268-99a8-d830951b3cb3",
   "metadata": {
    "kernel": "R"
   },
   "outputs": [],
   "source": [
    "nrow(exomed_white_genoarray)"
   ]
  },
  {
   "cell_type": "raw",
   "id": "0409bf2d-e654-48c2-a9f4-3773172738df",
   "metadata": {
    "kernel": "R"
   },
   "source": []
  }
 ],
 "metadata": {
  "kernelspec": {
   "display_name": "SoS",
   "language": "sos",
   "name": "sos"
  },
  "language_info": {
   "codemirror_mode": "sos",
   "file_extension": ".sos",
   "mimetype": "text/x-sos",
   "name": "sos",
   "nbconvert_exporter": "sos_notebook.converter.SoS_Exporter",
   "pygments_lexer": "sos"
  },
  "sos": {
   "kernels": [
    [
     "R",
     "ir",
     "R",
     "#DCDCDA",
     "r"
    ]
   ],
   "version": "0.22.6"
  }
 },
 "nbformat": 4,
 "nbformat_minor": 5
}
