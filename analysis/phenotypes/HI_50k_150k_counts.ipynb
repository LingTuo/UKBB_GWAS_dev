{
 "cells": [
  {
   "cell_type": "markdown",
   "id": "1351637d-8316-43dc-91d7-00100de2233e",
   "metadata": {
    "kernel": "SoS",
    "tags": []
   },
   "source": [
    "# Create the phenotype files for the 50K and the 150K individuals\n",
    "\n",
    "This division obeys the order of the releases and therefore the different exome capture kits that were used to WES every group of individuals "
   ]
  },
  {
   "cell_type": "code",
   "execution_count": 1,
   "id": "676e6936-f461-441e-934a-f75fd4c18cc6",
   "metadata": {
    "kernel": "R",
    "tags": []
   },
   "outputs": [
    {
     "name": "stderr",
     "output_type": "stream",
     "text": [
      "/home/dmc2245/miniconda3/lib/python3.8/site-packages/sos_notebook/kernel.py:1334: DeprecationWarning: Kernel._parent_header is deprecated in ipykernel 6. Use .get_parent()\n",
      "  msg['msg_id'] = self._parent_header['header']['msg_id']\n"
     ]
    }
   ],
   "source": [
    "library(tidyverse)\n",
    "library(data.table)"
   ]
  },
  {
   "cell_type": "code",
   "execution_count": 2,
   "id": "6b34638f-6c0d-4874-9396-51992c1ed557",
   "metadata": {
    "kernel": "R",
    "tags": []
   },
   "outputs": [],
   "source": [
    "ind50 <- read.table(\"~/UKBiobank_Yale_transfer/ukb28374_exomedata/ukb32285_exomespb_chr1_22.fam\")\n",
    "colnames(ind50) <- c(\"FID\", \"IID\", \"fatherID\", \"motherID\", \"sex\", \"phenotype\")"
   ]
  },
  {
   "cell_type": "code",
   "execution_count": 3,
   "id": "a6343bde-fd3f-4859-ac8e-f60c79717bfb",
   "metadata": {
    "kernel": "R"
   },
   "outputs": [
    {
     "data": {
      "text/html": [
       "<table class=\"dataframe\">\n",
       "<caption>A data.frame: 6 x 6</caption>\n",
       "<thead>\n",
       "\t<tr><th></th><th scope=col>FID</th><th scope=col>IID</th><th scope=col>fatherID</th><th scope=col>motherID</th><th scope=col>sex</th><th scope=col>phenotype</th></tr>\n",
       "\t<tr><th></th><th scope=col>&lt;int&gt;</th><th scope=col>&lt;int&gt;</th><th scope=col>&lt;int&gt;</th><th scope=col>&lt;int&gt;</th><th scope=col>&lt;int&gt;</th><th scope=col>&lt;int&gt;</th></tr>\n",
       "</thead>\n",
       "<tbody>\n",
       "\t<tr><th scope=row>1</th><td>5023838</td><td>5023838</td><td>0</td><td>0</td><td>2</td><td>-9</td></tr>\n",
       "\t<tr><th scope=row>2</th><td>1129683</td><td>1129683</td><td>0</td><td>0</td><td>1</td><td>-9</td></tr>\n",
       "\t<tr><th scope=row>3</th><td>4744741</td><td>4744741</td><td>0</td><td>0</td><td>1</td><td>-9</td></tr>\n",
       "\t<tr><th scope=row>4</th><td>1258289</td><td>1258289</td><td>0</td><td>0</td><td>2</td><td>-9</td></tr>\n",
       "\t<tr><th scope=row>5</th><td>1333104</td><td>1333104</td><td>0</td><td>0</td><td>2</td><td>-9</td></tr>\n",
       "\t<tr><th scope=row>6</th><td>2204914</td><td>2204914</td><td>0</td><td>0</td><td>2</td><td>-9</td></tr>\n",
       "</tbody>\n",
       "</table>\n"
      ],
      "text/latex": [
       "A data.frame: 6 x 6\n",
       "\\begin{tabular}{r|llllll}\n",
       "  & FID & IID & fatherID & motherID & sex & phenotype\\\\\n",
       "  & <int> & <int> & <int> & <int> & <int> & <int>\\\\\n",
       "\\hline\n",
       "\t1 & 5023838 & 5023838 & 0 & 0 & 2 & -9\\\\\n",
       "\t2 & 1129683 & 1129683 & 0 & 0 & 1 & -9\\\\\n",
       "\t3 & 4744741 & 4744741 & 0 & 0 & 1 & -9\\\\\n",
       "\t4 & 1258289 & 1258289 & 0 & 0 & 2 & -9\\\\\n",
       "\t5 & 1333104 & 1333104 & 0 & 0 & 2 & -9\\\\\n",
       "\t6 & 2204914 & 2204914 & 0 & 0 & 2 & -9\\\\\n",
       "\\end{tabular}\n"
      ],
      "text/markdown": [
       "\n",
       "A data.frame: 6 x 6\n",
       "\n",
       "| <!--/--> | FID &lt;int&gt; | IID &lt;int&gt; | fatherID &lt;int&gt; | motherID &lt;int&gt; | sex &lt;int&gt; | phenotype &lt;int&gt; |\n",
       "|---|---|---|---|---|---|---|\n",
       "| 1 | 5023838 | 5023838 | 0 | 0 | 2 | -9 |\n",
       "| 2 | 1129683 | 1129683 | 0 | 0 | 1 | -9 |\n",
       "| 3 | 4744741 | 4744741 | 0 | 0 | 1 | -9 |\n",
       "| 4 | 1258289 | 1258289 | 0 | 0 | 2 | -9 |\n",
       "| 5 | 1333104 | 1333104 | 0 | 0 | 2 | -9 |\n",
       "| 6 | 2204914 | 2204914 | 0 | 0 | 2 | -9 |\n",
       "\n"
      ],
      "text/plain": [
       "  FID     IID     fatherID motherID sex phenotype\n",
       "1 5023838 5023838 0        0        2   -9       \n",
       "2 1129683 1129683 0        0        1   -9       \n",
       "3 4744741 4744741 0        0        1   -9       \n",
       "4 1258289 1258289 0        0        2   -9       \n",
       "5 1333104 1333104 0        0        2   -9       \n",
       "6 2204914 2204914 0        0        2   -9       "
      ]
     },
     "metadata": {},
     "output_type": "display_data"
    }
   ],
   "source": [
    "head(ind50)"
   ]
  },
  {
   "cell_type": "markdown",
   "id": "053bb662-9ecd-4310-86f6-bd2b43b67882",
   "metadata": {
    "kernel": "R"
   },
   "source": [
    "## f.3393"
   ]
  },
  {
   "cell_type": "code",
   "execution_count": 4,
   "id": "f9c6f5bf-4aaa-44d8-9548-d79a6eea27c2",
   "metadata": {
    "kernel": "R"
   },
   "outputs": [],
   "source": [
    "## old database\n",
    "f3393_all <- read.table(\"~/UKBiobank/phenotype_files/hearing_impairment/080421_UKBB_Hearing_aid_f3393_expandedwhite_6305cases_98082ctrl\", sep='\\t', header=TRUE)"
   ]
  },
  {
   "cell_type": "code",
   "execution_count": 5,
   "id": "97ea8ec7-21db-4083-b2b6-692bb65a4feb",
   "metadata": {
    "kernel": "R"
   },
   "outputs": [],
   "source": [
    "## new database\n",
    "f3393_all <- read.table(\"~/UKBiobank/phenotype_files/hearing_impairment/090321_UKBB_Hearing_aid_f3393_expandedwhite_6436cases_96601ctrl_PC1_2.tsv\", sep='\\t', header=TRUE)"
   ]
  },
  {
   "cell_type": "code",
   "execution_count": 6,
   "id": "681a16bf-3638-4d37-a1c6-8fda01e610e3",
   "metadata": {
    "kernel": "R"
   },
   "outputs": [
    {
     "data": {
      "text/html": [
       "<table class=\"dataframe\">\n",
       "<caption>A data.frame: 6 x 7</caption>\n",
       "<thead>\n",
       "\t<tr><th></th><th scope=col>FID</th><th scope=col>IID</th><th scope=col>sex</th><th scope=col>f3393</th><th scope=col>age</th><th scope=col>PC1</th><th scope=col>PC2</th></tr>\n",
       "\t<tr><th></th><th scope=col>&lt;int&gt;</th><th scope=col>&lt;int&gt;</th><th scope=col>&lt;int&gt;</th><th scope=col>&lt;int&gt;</th><th scope=col>&lt;int&gt;</th><th scope=col>&lt;dbl&gt;</th><th scope=col>&lt;dbl&gt;</th></tr>\n",
       "</thead>\n",
       "<tbody>\n",
       "\t<tr><th scope=row>1</th><td>1000078</td><td>1000078</td><td>1</td><td>0</td><td>60</td><td> 0.0070245643</td><td> 0.009614509</td></tr>\n",
       "\t<tr><th scope=row>2</th><td>1000081</td><td>1000081</td><td>0</td><td>0</td><td>67</td><td>-0.1198316925</td><td>-0.012082002</td></tr>\n",
       "\t<tr><th scope=row>3</th><td>1000224</td><td>1000224</td><td>1</td><td>0</td><td>58</td><td> 0.0022356173</td><td>-0.012769062</td></tr>\n",
       "\t<tr><th scope=row>4</th><td>1000236</td><td>1000236</td><td>0</td><td>0</td><td>70</td><td>-0.0029660149</td><td> 0.016806466</td></tr>\n",
       "\t<tr><th scope=row>5</th><td>1000255</td><td>1000255</td><td>1</td><td>0</td><td>61</td><td> 0.0042133323</td><td> 0.002938649</td></tr>\n",
       "\t<tr><th scope=row>6</th><td>1000291</td><td>1000291</td><td>0</td><td>0</td><td>62</td><td> 0.0003901785</td><td> 0.001768452</td></tr>\n",
       "</tbody>\n",
       "</table>\n"
      ],
      "text/latex": [
       "A data.frame: 6 x 7\n",
       "\\begin{tabular}{r|lllllll}\n",
       "  & FID & IID & sex & f3393 & age & PC1 & PC2\\\\\n",
       "  & <int> & <int> & <int> & <int> & <int> & <dbl> & <dbl>\\\\\n",
       "\\hline\n",
       "\t1 & 1000078 & 1000078 & 1 & 0 & 60 &  0.0070245643 &  0.009614509\\\\\n",
       "\t2 & 1000081 & 1000081 & 0 & 0 & 67 & -0.1198316925 & -0.012082002\\\\\n",
       "\t3 & 1000224 & 1000224 & 1 & 0 & 58 &  0.0022356173 & -0.012769062\\\\\n",
       "\t4 & 1000236 & 1000236 & 0 & 0 & 70 & -0.0029660149 &  0.016806466\\\\\n",
       "\t5 & 1000255 & 1000255 & 1 & 0 & 61 &  0.0042133323 &  0.002938649\\\\\n",
       "\t6 & 1000291 & 1000291 & 0 & 0 & 62 &  0.0003901785 &  0.001768452\\\\\n",
       "\\end{tabular}\n"
      ],
      "text/markdown": [
       "\n",
       "A data.frame: 6 x 7\n",
       "\n",
       "| <!--/--> | FID &lt;int&gt; | IID &lt;int&gt; | sex &lt;int&gt; | f3393 &lt;int&gt; | age &lt;int&gt; | PC1 &lt;dbl&gt; | PC2 &lt;dbl&gt; |\n",
       "|---|---|---|---|---|---|---|---|\n",
       "| 1 | 1000078 | 1000078 | 1 | 0 | 60 |  0.0070245643 |  0.009614509 |\n",
       "| 2 | 1000081 | 1000081 | 0 | 0 | 67 | -0.1198316925 | -0.012082002 |\n",
       "| 3 | 1000224 | 1000224 | 1 | 0 | 58 |  0.0022356173 | -0.012769062 |\n",
       "| 4 | 1000236 | 1000236 | 0 | 0 | 70 | -0.0029660149 |  0.016806466 |\n",
       "| 5 | 1000255 | 1000255 | 1 | 0 | 61 |  0.0042133323 |  0.002938649 |\n",
       "| 6 | 1000291 | 1000291 | 0 | 0 | 62 |  0.0003901785 |  0.001768452 |\n",
       "\n"
      ],
      "text/plain": [
       "  FID     IID     sex f3393 age PC1           PC2         \n",
       "1 1000078 1000078 1   0     60   0.0070245643  0.009614509\n",
       "2 1000081 1000081 0   0     67  -0.1198316925 -0.012082002\n",
       "3 1000224 1000224 1   0     58   0.0022356173 -0.012769062\n",
       "4 1000236 1000236 0   0     70  -0.0029660149  0.016806466\n",
       "5 1000255 1000255 1   0     61   0.0042133323  0.002938649\n",
       "6 1000291 1000291 0   0     62   0.0003901785  0.001768452"
      ]
     },
     "metadata": {},
     "output_type": "display_data"
    }
   ],
   "source": [
    "head(f3393_all)"
   ]
  },
  {
   "cell_type": "code",
   "execution_count": 7,
   "id": "f17ca82d-97f0-4143-a1e3-997294d51da1",
   "metadata": {
    "kernel": "R"
   },
   "outputs": [
    {
     "data": {
      "text/html": [
       "24189"
      ],
      "text/latex": [
       "24189"
      ],
      "text/markdown": [
       "24189"
      ],
      "text/plain": [
       "[1] 24189"
      ]
     },
     "metadata": {},
     "output_type": "display_data"
    }
   ],
   "source": [
    "#library(data.table)\n",
    "f3393_50k <- setDT(f3393_all)[IID %chin% ind50$IID]\n",
    "nrow(f3393_50k)"
   ]
  },
  {
   "cell_type": "code",
   "execution_count": 8,
   "id": "6f2ecbfc-5337-4d83-89ee-0f8e2f0a0806",
   "metadata": {
    "kernel": "R"
   },
   "outputs": [],
   "source": [
    "f3393_50k_IID <-  f3393_50k  %>%\n",
    "    select(\"FID\", \"IID\")"
   ]
  },
  {
   "cell_type": "code",
   "execution_count": 12,
   "id": "03884de3-f29c-4a43-891f-54b415bc45de",
   "metadata": {
    "kernel": "R"
   },
   "outputs": [],
   "source": [
    "## old database\n",
    "write.table(f3393_50k_IID, \"~/UKBiobank/phenotype_files/hearing_impairment/080421_UKBB_Hearing_aid_f3393_expandedwhite_24496ind_50Kexomes.keep_id\", sep=\"\\t\", row.names=FALSE, col.names=FALSE )"
   ]
  },
  {
   "cell_type": "code",
   "execution_count": 24,
   "id": "6a97afae-275d-4457-89f3-febe97fe3fdf",
   "metadata": {
    "kernel": "R"
   },
   "outputs": [],
   "source": [
    "## new database\n",
    "write.table(f3393_50k_IID, \"~/UKBiobank/results/083021_PCA_results/090321_UKBB_Hearing_aid_f3393_expandedwhite_24189ind_50Kexomes.keep_id\", sep=\"\\t\", row.names=FALSE, col.names=FALSE )"
   ]
  },
  {
   "cell_type": "code",
   "execution_count": 10,
   "id": "f8b9b24f-7441-4ea9-9e94-0f8f5e6ffe10",
   "metadata": {
    "kernel": "R"
   },
   "outputs": [
    {
     "data": {
      "text/html": [
       "78848"
      ],
      "text/latex": [
       "78848"
      ],
      "text/markdown": [
       "78848"
      ],
      "text/plain": [
       "[1] 78848"
      ]
     },
     "metadata": {},
     "output_type": "display_data"
    }
   ],
   "source": [
    "f3393_150k <- setDT(f3393_all)[!IID %chin% ind50$IID]\n",
    "nrow(f3393_150k)"
   ]
  },
  {
   "cell_type": "code",
   "execution_count": 12,
   "id": "bbae4ba2-9d4a-4956-971c-dca4832dbf80",
   "metadata": {
    "kernel": "R"
   },
   "outputs": [],
   "source": [
    "f3393_150k_IID <- f3393_150k %>%\n",
    "    select(\"FID\", \"IID\")"
   ]
  },
  {
   "cell_type": "code",
   "execution_count": 15,
   "id": "b6a47ac9-c06c-481a-8b31-53cdda6cce87",
   "metadata": {
    "kernel": "R"
   },
   "outputs": [],
   "source": [
    "## old database\n",
    "write.table(f3393_150k_IID, \"~/UKBiobank/phenotype_files/hearing_impairment/080421_UKBB_Hearing_aid_f3393_expandedwhite_79891ind_150Kexomes.keep_id\", sep=\"\\t\", row.names=FALSE, col.names=FALSE )"
   ]
  },
  {
   "cell_type": "code",
   "execution_count": 23,
   "id": "9173f140-a224-4d28-97d8-d7376dc1f3f9",
   "metadata": {
    "kernel": "R"
   },
   "outputs": [],
   "source": [
    "## new database\n",
    "write.table(f3393_150k_IID, \"~/UKBiobank/results/083021_PCA_results/090321_UKBB_Hearing_aid_f3393_expandedwhite_78848ind_150Kexomes.keep_id\", sep=\"\\t\", row.names=FALSE, col.names=FALSE )"
   ]
  },
  {
   "cell_type": "markdown",
   "id": "7c7d9b6e-534c-4e52-97a7-97a1b4c5763d",
   "metadata": {
    "kernel": "R"
   },
   "source": [
    "## PCA"
   ]
  },
  {
   "cell_type": "code",
   "execution_count": 40,
   "id": "ea6a783d-9193-4ba7-b4d8-0d5f9701b8e4",
   "metadata": {
    "kernel": "R"
   },
   "outputs": [],
   "source": [
    "## old database\n",
    "f3393_pca_all <- read.table(\"~/UKBiobank/results/080621_pca_genoarray_HI/080421_UKBB_Hearing_aid_f3393_expandedwhite_6305cases_98082ctrl.phenopca\", sep='\\t', header=TRUE)"
   ]
  },
  {
   "cell_type": "code",
   "execution_count": 61,
   "id": "264c35e6-f0b7-45ee-a5af-bdb82f3a5e4e",
   "metadata": {
    "kernel": "R"
   },
   "outputs": [],
   "source": [
    "## new database\n",
    "f3393_pca_all <- read.table(\"~/UKBiobank/results/083021_PCA_results/090321_UKBB_Hearing_aid_f3393_expandedwhite_6436cases_96601ctrl.phenopca\", sep='\\t', header=TRUE)"
   ]
  },
  {
   "cell_type": "code",
   "execution_count": 62,
   "id": "24c56f6c-310d-4f1c-95b3-ed906dcf5ece",
   "metadata": {
    "kernel": "R"
   },
   "outputs": [
    {
     "data": {
      "text/html": [
       "24189"
      ],
      "text/latex": [
       "24189"
      ],
      "text/markdown": [
       "24189"
      ],
      "text/plain": [
       "[1] 24189"
      ]
     },
     "metadata": {},
     "output_type": "display_data"
    },
    {
     "data": {
      "text/html": [
       "<table class=\"dataframe\">\n",
       "<caption>A data.table: 6 x 3</caption>\n",
       "<thead>\n",
       "\t<tr><th scope=col>FID</th><th scope=col>IID</th><th scope=col>ethnicity</th></tr>\n",
       "\t<tr><th scope=col>&lt;int&gt;</th><th scope=col>&lt;int&gt;</th><th scope=col>&lt;fct&gt;</th></tr>\n",
       "</thead>\n",
       "<tbody>\n",
       "\t<tr><td>1002548</td><td>1002548</td><td>British</td></tr>\n",
       "\t<tr><td>1006513</td><td>1006513</td><td>British</td></tr>\n",
       "\t<tr><td>1009495</td><td>1009495</td><td>British</td></tr>\n",
       "\t<tr><td>1010783</td><td>1010783</td><td>British</td></tr>\n",
       "\t<tr><td>1011769</td><td>1011769</td><td>British</td></tr>\n",
       "\t<tr><td>1012156</td><td>1012156</td><td>British</td></tr>\n",
       "</tbody>\n",
       "</table>\n"
      ],
      "text/latex": [
       "A data.table: 6 x 3\n",
       "\\begin{tabular}{lll}\n",
       " FID & IID & ethnicity\\\\\n",
       " <int> & <int> & <fct>\\\\\n",
       "\\hline\n",
       "\t 1002548 & 1002548 & British\\\\\n",
       "\t 1006513 & 1006513 & British\\\\\n",
       "\t 1009495 & 1009495 & British\\\\\n",
       "\t 1010783 & 1010783 & British\\\\\n",
       "\t 1011769 & 1011769 & British\\\\\n",
       "\t 1012156 & 1012156 & British\\\\\n",
       "\\end{tabular}\n"
      ],
      "text/markdown": [
       "\n",
       "A data.table: 6 x 3\n",
       "\n",
       "| FID &lt;int&gt; | IID &lt;int&gt; | ethnicity &lt;fct&gt; |\n",
       "|---|---|---|\n",
       "| 1002548 | 1002548 | British |\n",
       "| 1006513 | 1006513 | British |\n",
       "| 1009495 | 1009495 | British |\n",
       "| 1010783 | 1010783 | British |\n",
       "| 1011769 | 1011769 | British |\n",
       "| 1012156 | 1012156 | British |\n",
       "\n"
      ],
      "text/plain": [
       "  FID     IID     ethnicity\n",
       "1 1002548 1002548 British  \n",
       "2 1006513 1006513 British  \n",
       "3 1009495 1009495 British  \n",
       "4 1010783 1010783 British  \n",
       "5 1011769 1011769 British  \n",
       "6 1012156 1012156 British  "
      ]
     },
     "metadata": {},
     "output_type": "display_data"
    }
   ],
   "source": [
    "f3393_50K_pca <- setDT(f3393_pca_all)[IID %chin% ind50$IID]\n",
    "nrow(f3393_50K_pca)\n",
    "head(f3393_50K_pca)"
   ]
  },
  {
   "cell_type": "code",
   "execution_count": 63,
   "id": "ba4cfadb-c4fd-48fd-8e89-0e771f67efc9",
   "metadata": {
    "kernel": "R"
   },
   "outputs": [],
   "source": [
    "f3393_50K_pca <-  f3393_50K_pca %>%\n",
    "    select(\"FID\", \"IID\", 'ethnicity')"
   ]
  },
  {
   "cell_type": "code",
   "execution_count": 44,
   "id": "d52671be-581a-4e31-a223-9bd61bcd0e6f",
   "metadata": {
    "kernel": "R"
   },
   "outputs": [],
   "source": [
    "## old database\n",
    "write.table(f3393_50K_pca, \"~/UKBiobank/results/080621_pca_genoarray_HI/080421_UKBB_Hearing_aid_f3393_expandedwhite_24496ind_50K.phenopca\", sep=\"\\t\", row.names=FALSE, col.names=TRUE )"
   ]
  },
  {
   "cell_type": "code",
   "execution_count": 64,
   "id": "01dc0d25-db3a-4434-85e9-5d9224bebb25",
   "metadata": {
    "kernel": "R"
   },
   "outputs": [],
   "source": [
    "## new database\n",
    "write.table(f3393_50K_pca, \"~/UKBiobank/results/083021_PCA_results/090321_UKBB_Hearing_aid_f3393_expandedwhite_24189_50K.phenopca\", sep=\"\\t\", row.names=FALSE, col.names=TRUE )"
   ]
  },
  {
   "cell_type": "code",
   "execution_count": 65,
   "id": "b2055010-4d28-4b72-8037-ab0b4dcb7e6c",
   "metadata": {
    "kernel": "R"
   },
   "outputs": [
    {
     "data": {
      "text/html": [
       "78848"
      ],
      "text/latex": [
       "78848"
      ],
      "text/markdown": [
       "78848"
      ],
      "text/plain": [
       "[1] 78848"
      ]
     },
     "metadata": {},
     "output_type": "display_data"
    },
    {
     "data": {
      "text/html": [
       "<table class=\"dataframe\">\n",
       "<caption>A data.table: 6 x 3</caption>\n",
       "<thead>\n",
       "\t<tr><th scope=col>FID</th><th scope=col>IID</th><th scope=col>ethnicity</th></tr>\n",
       "\t<tr><th scope=col>&lt;int&gt;</th><th scope=col>&lt;int&gt;</th><th scope=col>&lt;fct&gt;</th></tr>\n",
       "</thead>\n",
       "<tbody>\n",
       "\t<tr><td>1001384</td><td>1001384</td><td>British</td></tr>\n",
       "\t<tr><td>1002888</td><td>1002888</td><td>British</td></tr>\n",
       "\t<tr><td>1002944</td><td>1002944</td><td>British</td></tr>\n",
       "\t<tr><td>1003258</td><td>1003258</td><td>British</td></tr>\n",
       "\t<tr><td>1004843</td><td>1004843</td><td>British</td></tr>\n",
       "\t<tr><td>1006111</td><td>1006111</td><td>British</td></tr>\n",
       "</tbody>\n",
       "</table>\n"
      ],
      "text/latex": [
       "A data.table: 6 x 3\n",
       "\\begin{tabular}{lll}\n",
       " FID & IID & ethnicity\\\\\n",
       " <int> & <int> & <fct>\\\\\n",
       "\\hline\n",
       "\t 1001384 & 1001384 & British\\\\\n",
       "\t 1002888 & 1002888 & British\\\\\n",
       "\t 1002944 & 1002944 & British\\\\\n",
       "\t 1003258 & 1003258 & British\\\\\n",
       "\t 1004843 & 1004843 & British\\\\\n",
       "\t 1006111 & 1006111 & British\\\\\n",
       "\\end{tabular}\n"
      ],
      "text/markdown": [
       "\n",
       "A data.table: 6 x 3\n",
       "\n",
       "| FID &lt;int&gt; | IID &lt;int&gt; | ethnicity &lt;fct&gt; |\n",
       "|---|---|---|\n",
       "| 1001384 | 1001384 | British |\n",
       "| 1002888 | 1002888 | British |\n",
       "| 1002944 | 1002944 | British |\n",
       "| 1003258 | 1003258 | British |\n",
       "| 1004843 | 1004843 | British |\n",
       "| 1006111 | 1006111 | British |\n",
       "\n"
      ],
      "text/plain": [
       "  FID     IID     ethnicity\n",
       "1 1001384 1001384 British  \n",
       "2 1002888 1002888 British  \n",
       "3 1002944 1002944 British  \n",
       "4 1003258 1003258 British  \n",
       "5 1004843 1004843 British  \n",
       "6 1006111 1006111 British  "
      ]
     },
     "metadata": {},
     "output_type": "display_data"
    }
   ],
   "source": [
    "f3393_150K_pca <- setDT(f3393_pca_all)[!IID %chin% ind50$IID]\n",
    "nrow(f3393_150K_pca)\n",
    "head(f3393_150K_pca)"
   ]
  },
  {
   "cell_type": "code",
   "execution_count": 66,
   "id": "9f11af1d-a505-48eb-af86-8cf7ef90d3c3",
   "metadata": {
    "kernel": "R"
   },
   "outputs": [],
   "source": [
    "f3393_150K_pca <-  f3393_150K_pca %>%\n",
    "    select(\"FID\", \"IID\", 'ethnicity')"
   ]
  },
  {
   "cell_type": "code",
   "execution_count": 46,
   "id": "716e6334-ed4f-417c-8404-35215f0dddd4",
   "metadata": {
    "kernel": "R"
   },
   "outputs": [],
   "source": [
    "## old database\n",
    "write.table(f3393_150K_pca, \"~/UKBiobank/results/080621_pca_genoarray_HI/080421_UKBB_Hearing_aid_f3393_expandedwhite_79891ind_150K.phenopca\", sep=\"\\t\", row.names=FALSE, col.names=TRUE )"
   ]
  },
  {
   "cell_type": "code",
   "execution_count": 67,
   "id": "5fff8eae-6bde-40ae-a873-fc6bad17d660",
   "metadata": {
    "kernel": "R"
   },
   "outputs": [],
   "source": [
    "## new database\n",
    "write.table(f3393_150K_pca, \"~/UKBiobank/results/083021_PCA_results/090321_UKBB_Hearing_aid_f3393_expandedwhite_78848_150K.phenopca\", sep=\"\\t\", row.names=FALSE, col.names=TRUE )"
   ]
  },
  {
   "cell_type": "markdown",
   "id": "e70346d9-8258-46e4-a429-61fc87398819",
   "metadata": {
    "kernel": "R"
   },
   "source": [
    "## Phenotype file"
   ]
  },
  {
   "cell_type": "code",
   "execution_count": 65,
   "id": "4eaf63e1-41fb-4680-bc99-97c8ed6a8248",
   "metadata": {
    "kernel": "R"
   },
   "outputs": [],
   "source": [
    "## old database\n",
    "f3393_pheno_all <- read.table(\"~/UKBiobank/phenotype_files/hearing_impairment/080421_UKBB_Hearing_aid_f3393_expandedwhite_6305cases_98082ctrl\", sep='\\t', header=TRUE)"
   ]
  },
  {
   "cell_type": "code",
   "execution_count": 95,
   "id": "6cba20a2-6398-4e58-9d8d-53449813545a",
   "metadata": {
    "kernel": "R"
   },
   "outputs": [],
   "source": [
    "## new database\n",
    "f3393_pheno_all <- read.table(\"~/UKBiobank/phenotype_files/hearing_impairment/090321_UKBB_Hearing_aid_f3393_expandedwhite_6436cases_96601ctrl\", sep='\\t', header=TRUE)"
   ]
  },
  {
   "cell_type": "code",
   "execution_count": 96,
   "id": "5ae4d47b-e274-408c-a26e-3c462330e7b2",
   "metadata": {
    "kernel": "R"
   },
   "outputs": [],
   "source": [
    "f3393_pheno_all <- f3393_pheno_all %>%\n",
    "    select(\"FID\", \"IID\", \"sex\", \"f3393\",\"age\")"
   ]
  },
  {
   "cell_type": "code",
   "execution_count": 76,
   "id": "218a0485-196d-4ee6-9be2-18fff71219e6",
   "metadata": {
    "kernel": "R"
   },
   "outputs": [],
   "source": [
    "## old database\n",
    "f3393_pca_50K <- read.table(\"~/UKBiobank/results/080621_pca_genoarray_HI/090721_f3393_50K/080421_UKBB_Hearing_aid_f3393_expandedwhite_24496ind_50K.090721_f3393_50K.pca.txt\", sep=\"\\t\", header=TRUE)"
   ]
  },
  {
   "cell_type": "code",
   "execution_count": 101,
   "id": "9f00e8ef-c786-4ae3-b250-949750a077e7",
   "metadata": {
    "kernel": "R"
   },
   "outputs": [],
   "source": [
    "## new database\n",
    "f3393_pca_50K <- read.table(\"~/UKBiobank/results/083021_PCA_results/091421_f3393_50Kexomes_pca/090321_UKBB_Hearing_aid_f3393_expandedwhite_24189_50K.091421_f3393_50Kexomes_pca.pca.txt\", sep=\"\\t\", header=TRUE)"
   ]
  },
  {
   "cell_type": "code",
   "execution_count": 104,
   "id": "31a86b51-1135-43ba-a044-6768e8c6c0a6",
   "metadata": {
    "kernel": "R"
   },
   "outputs": [],
   "source": [
    "f3393_pheno_50K <- merge(f3393_pheno_all,f3393_pca_50K,by=c(\"FID\",\"IID\") )"
   ]
  },
  {
   "cell_type": "code",
   "execution_count": 106,
   "id": "c5874cfe-63ac-4912-af6d-5730f22e4e43",
   "metadata": {
    "kernel": "R"
   },
   "outputs": [
    {
     "data": {
      "text/html": [
       "24189"
      ],
      "text/latex": [
       "24189"
      ],
      "text/markdown": [
       "24189"
      ],
      "text/plain": [
       "[1] 24189"
      ]
     },
     "metadata": {},
     "output_type": "display_data"
    }
   ],
   "source": [
    "f3393_pheno_50K <- f3393_pheno_50K %>%\n",
    "    select(\"FID\", \"IID\", \"sex\", \"f3393\",\"age\", \"PC1\", \"PC2\")\n",
    "nrow(f3393_pheno_50K)"
   ]
  },
  {
   "cell_type": "code",
   "execution_count": 81,
   "id": "0781a267-db17-453d-9ed8-a4a00e1dc226",
   "metadata": {
    "kernel": "R"
   },
   "outputs": [],
   "source": [
    "## old database\n",
    "write.table(f3393_pheno_50K, \"~/UKBiobank/phenotype_files/hearing_impairment/080421_UKBB_Hearing_aid_f3393_expandedwhite_24496ind_50K.tsv\", sep=\"\\t\", row.names=FALSE, col.names=TRUE, quote=FALSE )"
   ]
  },
  {
   "cell_type": "code",
   "execution_count": 107,
   "id": "a4dea112-84d4-4502-9676-6692d7971af7",
   "metadata": {
    "kernel": "R"
   },
   "outputs": [],
   "source": [
    "## new database\n",
    "write.table(f3393_pheno_50K, \"~/UKBiobank/phenotype_files/hearing_impairment/090321_UKBB_Hearing_aid_f3393_expandedwhite_24189ind_50K.tsv\", sep=\"\\t\", row.names=FALSE, col.names=TRUE, quote=FALSE )"
   ]
  },
  {
   "cell_type": "code",
   "execution_count": 82,
   "id": "953c7ef3-45f0-4294-9e58-3368ac30c0ee",
   "metadata": {
    "kernel": "R"
   },
   "outputs": [],
   "source": [
    "## old database\n",
    "f3393_pca_150K  <- read.table(\"~/UKBiobank/results/080621_pca_genoarray_HI/090721_f3393_150K/080421_UKBB_Hearing_aid_f3393_expandedwhite_79891ind_150K.090721_f3393_150K.pca.txt\", sep=\"\\t\", header=TRUE)"
   ]
  },
  {
   "cell_type": "code",
   "execution_count": 108,
   "id": "8e7e3273-7675-4e26-9d89-b6307e80a1b4",
   "metadata": {
    "kernel": "R"
   },
   "outputs": [],
   "source": [
    "## new database\n",
    "f3393_pca_150K <- read.table(\"~/UKBiobank/results/083021_PCA_results/091421_f3393_150Kexomes_pca/090321_UKBB_Hearing_aid_f3393_expandedwhite_78848_150K.091421_f3393_150Kexomes_pca.pca.txt\", sep=\"\\t\", header=TRUE)"
   ]
  },
  {
   "cell_type": "code",
   "execution_count": 109,
   "id": "05845b5f-403e-4b53-bf31-b495bb3c1fdb",
   "metadata": {
    "kernel": "R"
   },
   "outputs": [
    {
     "data": {
      "text/html": [
       "78848"
      ],
      "text/latex": [
       "78848"
      ],
      "text/markdown": [
       "78848"
      ],
      "text/plain": [
       "[1] 78848"
      ]
     },
     "metadata": {},
     "output_type": "display_data"
    }
   ],
   "source": [
    "f3393_pheno_150K <- merge(f3393_pheno_all,f3393_pca_150K,by=c(\"FID\",\"IID\"))\n",
    "f3393_pheno_150K <- f3393_pheno_150K %>%\n",
    "    select(\"FID\", \"IID\", \"sex\", \"f3393\",\"age\", \"PC1\", \"PC2\")\n",
    "nrow(f3393_pheno_150K)"
   ]
  },
  {
   "cell_type": "code",
   "execution_count": 84,
   "id": "7fe15d42-7960-41ba-9013-d0446790ff17",
   "metadata": {
    "kernel": "R"
   },
   "outputs": [
    {
     "data": {
      "text/html": [
       "79891"
      ],
      "text/latex": [
       "79891"
      ],
      "text/markdown": [
       "79891"
      ],
      "text/plain": [
       "[1] 79891"
      ]
     },
     "metadata": {},
     "output_type": "display_data"
    }
   ],
   "source": [
    "## old database\n",
    "write.table(f3393_pheno_150K, \"~/UKBiobank/phenotype_files/hearing_impairment/080421_UKBB_Hearing_aid_f3393_expandedwhite_79891ind_150K.tsv\", sep=\"\\t\", row.names=FALSE, col.names=TRUE, quote=FALSE )"
   ]
  },
  {
   "cell_type": "code",
   "execution_count": 110,
   "id": "4ff6030f-6524-46b1-9c45-91dfaeab34f4",
   "metadata": {
    "kernel": "R"
   },
   "outputs": [],
   "source": [
    "## new database\n",
    "write.table(f3393_pheno_150K, \"~/UKBiobank/phenotype_files/hearing_impairment/090321_UKBB_Hearing_aid_f3393_expandedwhite_78848ind_150K.tsv\", sep=\"\\t\", row.names=FALSE, col.names=TRUE, quote=FALSE )"
   ]
  },
  {
   "cell_type": "markdown",
   "id": "0751289e-65d6-4e02-a53d-7deb0f334275",
   "metadata": {
    "kernel": "R"
   },
   "source": [
    "## Number of cases/controls in each set for f.3393"
   ]
  },
  {
   "cell_type": "code",
   "execution_count": null,
   "id": "9f1a0fe9-256f-4d93-ae24-87dbcffa9c5f",
   "metadata": {
    "kernel": "R"
   },
   "outputs": [],
   "source": [
    "#There are 1755 cases in the 50K group and 22741 controls\n",
    "f3393_50k[, .N, by=.(f3393)]\n",
    "#There are 4550 cases in the 50K group and 75341 controls\n",
    "f3393_150k[, .N, by=.(f3393)]"
   ]
  },
  {
   "cell_type": "markdown",
   "id": "852f64dc-629f-457f-8034-cb82b22c99a3",
   "metadata": {
    "kernel": "R"
   },
   "source": [
    "## f.2247"
   ]
  },
  {
   "cell_type": "code",
   "execution_count": 4,
   "id": "cb480192-06a0-44db-8579-c3b2cd5eff98",
   "metadata": {
    "kernel": "R"
   },
   "outputs": [],
   "source": [
    "## old database\n",
    "f2247_all <- read.table(\"~/UKBiobank/phenotype_files/hearing_impairment/080421_UKBB_Hearing_difficulty_f2247_expandedwhite_46237cases_98082ctrl\", sep='\\t', header=TRUE)"
   ]
  },
  {
   "cell_type": "code",
   "execution_count": 25,
   "id": "e23fa4e3-828f-4778-9fda-d8977f8372ab",
   "metadata": {
    "kernel": "R"
   },
   "outputs": [],
   "source": [
    "## new database\n",
    "f2247_all <- read.table(\"~/UKBiobank/phenotype_files/hearing_impairment/090321_UKBB_Hearing_difficulty_f2247_expandedwhite_45502cases_96601ctrl_PC1_2.tsv\", sep='\\t', header=TRUE)"
   ]
  },
  {
   "cell_type": "code",
   "execution_count": 26,
   "id": "858e0979-d18b-4d6f-afaf-3b8eddb74033",
   "metadata": {
    "kernel": "R"
   },
   "outputs": [
    {
     "data": {
      "text/html": [
       "<table class=\"dataframe\">\n",
       "<caption>A data.frame: 6 x 7</caption>\n",
       "<thead>\n",
       "\t<tr><th></th><th scope=col>FID</th><th scope=col>IID</th><th scope=col>sex</th><th scope=col>f2247</th><th scope=col>age</th><th scope=col>PC1</th><th scope=col>PC2</th></tr>\n",
       "\t<tr><th></th><th scope=col>&lt;int&gt;</th><th scope=col>&lt;int&gt;</th><th scope=col>&lt;int&gt;</th><th scope=col>&lt;int&gt;</th><th scope=col>&lt;int&gt;</th><th scope=col>&lt;dbl&gt;</th><th scope=col>&lt;dbl&gt;</th></tr>\n",
       "</thead>\n",
       "<tbody>\n",
       "\t<tr><th scope=row>1</th><td>1000078</td><td>1000078</td><td>1</td><td>0</td><td>60</td><td> 0.006798619</td><td>-0.010207360</td></tr>\n",
       "\t<tr><th scope=row>2</th><td>1000081</td><td>1000081</td><td>0</td><td>0</td><td>67</td><td>-0.119846087</td><td> 0.012268567</td></tr>\n",
       "\t<tr><th scope=row>3</th><td>1000198</td><td>1000198</td><td>1</td><td>1</td><td>41</td><td> 0.009587437</td><td> 0.021359387</td></tr>\n",
       "\t<tr><th scope=row>4</th><td>1000224</td><td>1000224</td><td>1</td><td>0</td><td>58</td><td> 0.002120266</td><td> 0.012205531</td></tr>\n",
       "\t<tr><th scope=row>5</th><td>1000236</td><td>1000236</td><td>0</td><td>0</td><td>70</td><td>-0.002484574</td><td>-0.016160010</td></tr>\n",
       "\t<tr><th scope=row>6</th><td>1000255</td><td>1000255</td><td>1</td><td>0</td><td>61</td><td> 0.004330577</td><td>-0.003459381</td></tr>\n",
       "</tbody>\n",
       "</table>\n"
      ],
      "text/latex": [
       "A data.frame: 6 x 7\n",
       "\\begin{tabular}{r|lllllll}\n",
       "  & FID & IID & sex & f2247 & age & PC1 & PC2\\\\\n",
       "  & <int> & <int> & <int> & <int> & <int> & <dbl> & <dbl>\\\\\n",
       "\\hline\n",
       "\t1 & 1000078 & 1000078 & 1 & 0 & 60 &  0.006798619 & -0.010207360\\\\\n",
       "\t2 & 1000081 & 1000081 & 0 & 0 & 67 & -0.119846087 &  0.012268567\\\\\n",
       "\t3 & 1000198 & 1000198 & 1 & 1 & 41 &  0.009587437 &  0.021359387\\\\\n",
       "\t4 & 1000224 & 1000224 & 1 & 0 & 58 &  0.002120266 &  0.012205531\\\\\n",
       "\t5 & 1000236 & 1000236 & 0 & 0 & 70 & -0.002484574 & -0.016160010\\\\\n",
       "\t6 & 1000255 & 1000255 & 1 & 0 & 61 &  0.004330577 & -0.003459381\\\\\n",
       "\\end{tabular}\n"
      ],
      "text/markdown": [
       "\n",
       "A data.frame: 6 x 7\n",
       "\n",
       "| <!--/--> | FID &lt;int&gt; | IID &lt;int&gt; | sex &lt;int&gt; | f2247 &lt;int&gt; | age &lt;int&gt; | PC1 &lt;dbl&gt; | PC2 &lt;dbl&gt; |\n",
       "|---|---|---|---|---|---|---|---|\n",
       "| 1 | 1000078 | 1000078 | 1 | 0 | 60 |  0.006798619 | -0.010207360 |\n",
       "| 2 | 1000081 | 1000081 | 0 | 0 | 67 | -0.119846087 |  0.012268567 |\n",
       "| 3 | 1000198 | 1000198 | 1 | 1 | 41 |  0.009587437 |  0.021359387 |\n",
       "| 4 | 1000224 | 1000224 | 1 | 0 | 58 |  0.002120266 |  0.012205531 |\n",
       "| 5 | 1000236 | 1000236 | 0 | 0 | 70 | -0.002484574 | -0.016160010 |\n",
       "| 6 | 1000255 | 1000255 | 1 | 0 | 61 |  0.004330577 | -0.003459381 |\n",
       "\n"
      ],
      "text/plain": [
       "  FID     IID     sex f2247 age PC1          PC2         \n",
       "1 1000078 1000078 1   0     60   0.006798619 -0.010207360\n",
       "2 1000081 1000081 0   0     67  -0.119846087  0.012268567\n",
       "3 1000198 1000198 1   1     41   0.009587437  0.021359387\n",
       "4 1000224 1000224 1   0     58   0.002120266  0.012205531\n",
       "5 1000236 1000236 0   0     70  -0.002484574 -0.016160010\n",
       "6 1000255 1000255 1   0     61   0.004330577 -0.003459381"
      ]
     },
     "metadata": {},
     "output_type": "display_data"
    }
   ],
   "source": [
    "head(f2247_all)"
   ]
  },
  {
   "cell_type": "code",
   "execution_count": 27,
   "id": "79d23f62-c075-49ae-83f4-0c36af39436a",
   "metadata": {
    "kernel": "R"
   },
   "outputs": [
    {
     "data": {
      "text/html": [
       "34596"
      ],
      "text/latex": [
       "34596"
      ],
      "text/markdown": [
       "34596"
      ],
      "text/plain": [
       "[1] 34596"
      ]
     },
     "metadata": {},
     "output_type": "display_data"
    }
   ],
   "source": [
    "f2247_50k <- setDT(f2247_all)[IID %chin% ind50$IID]\n",
    "nrow(f2247_50k)"
   ]
  },
  {
   "cell_type": "code",
   "execution_count": 28,
   "id": "cb6bac40-e575-4708-b8ff-f8f1f9e91566",
   "metadata": {
    "kernel": "R"
   },
   "outputs": [],
   "source": [
    "f2247_50k_IID <- f2247_50k %>%\n",
    "    select(\"FID\", \"IID\")"
   ]
  },
  {
   "cell_type": "code",
   "execution_count": 7,
   "id": "3fc36546-0b01-43e0-8277-573fd9bc7d57",
   "metadata": {
    "kernel": "R"
   },
   "outputs": [],
   "source": [
    "## old database\n",
    "write.table(f2247_50k_IID, \"~/UKBiobank/phenotype_files/hearing_impairment/080421_UKBB_Hearing_difficulty_f2247_expandedwhite_35147ind_50Kexomes.keep_id\", sep=\"\\t\", row.names=FALSE, col.names=FALSE )"
   ]
  },
  {
   "cell_type": "code",
   "execution_count": 29,
   "id": "9cac0957-d78e-4fc8-a2d4-f54c8b13265d",
   "metadata": {
    "kernel": "R"
   },
   "outputs": [],
   "source": [
    "## new database\n",
    "write.table(f2247_50k_IID, \"~/UKBiobank/results/083021_PCA_results/090321_UKBB_Hearing_difficulty_f2247_expandedwhite_34596ind_50Kexomes.keep_id\", sep=\"\\t\", row.names=FALSE, col.names=FALSE )"
   ]
  },
  {
   "cell_type": "code",
   "execution_count": 30,
   "id": "ae5e558f-8c68-4f30-ad36-fe23bd55b80c",
   "metadata": {
    "kernel": "R"
   },
   "outputs": [
    {
     "data": {
      "text/html": [
       "107507"
      ],
      "text/latex": [
       "107507"
      ],
      "text/markdown": [
       "107507"
      ],
      "text/plain": [
       "[1] 107507"
      ]
     },
     "metadata": {},
     "output_type": "display_data"
    }
   ],
   "source": [
    "f2247_150k <- setDT(f2247_all)[!IID %chin% ind50$IID]\n",
    "nrow(f2247_150k)"
   ]
  },
  {
   "cell_type": "code",
   "execution_count": 32,
   "id": "0b9d22fd-dc16-40cb-8979-07b4160e9b33",
   "metadata": {
    "kernel": "R"
   },
   "outputs": [],
   "source": [
    "f2247_150k_IID <- f2247_150k %>%\n",
    "    select(\"FID\", \"IID\")"
   ]
  },
  {
   "cell_type": "code",
   "execution_count": 26,
   "id": "ab720a03-5cf6-4fa9-bfed-c0004cb9546a",
   "metadata": {
    "kernel": "R"
   },
   "outputs": [],
   "source": [
    "## old database\n",
    "write.table(f2247_150k_IID, \"~/UKBiobank/phenotype_files/hearing_impairment/080421_UKBB_Hearing_difficulty_f2247_expandedwhite_109172ind_150Kexomes.keep_id\", sep=\"\\t\", row.names=FALSE, col.names=FALSE )"
   ]
  },
  {
   "cell_type": "code",
   "execution_count": 33,
   "id": "9595a5b0-0c61-44dd-851a-2270150537c7",
   "metadata": {
    "kernel": "R"
   },
   "outputs": [],
   "source": [
    "## new database\n",
    "write.table(f2247_150k_IID, \"~/UKBiobank/results/083021_PCA_results/090321_UKBB_Hearing_difficulty_f2247_expandedwhite_107507ind_150Kexomes.keep_id\", sep=\"\\t\", row.names=FALSE, col.names=FALSE )"
   ]
  },
  {
   "cell_type": "markdown",
   "id": "a893132d-f91f-43f3-b000-051dc9201c3d",
   "metadata": {
    "kernel": "R"
   },
   "source": [
    "## PCA"
   ]
  },
  {
   "cell_type": "code",
   "execution_count": 8,
   "id": "10342f2f-97c6-4a27-913c-9b8157a6f877",
   "metadata": {
    "kernel": "R"
   },
   "outputs": [],
   "source": [
    "## old database\n",
    "f2247_pca_all <- read.table(\"~/UKBiobank/results/080621_pca_genoarray_HI/080421_UKBB_Hearing_difficulty_f2247_expandedwhite_46237cases_98082ctrl.phenopca\", sep='\\t', header=TRUE)"
   ]
  },
  {
   "cell_type": "code",
   "execution_count": 53,
   "id": "982fc7f0-eaef-4af5-884e-143e88ad6ffc",
   "metadata": {
    "kernel": "R"
   },
   "outputs": [],
   "source": [
    "## new database\n",
    "f2247_pca_all <- read.table(\"~/UKBiobank/results/083021_PCA_results/090321_UKBB_Hearing_difficulty_f2247_expandedwhite_45502cases_96601ctrl.phenopca\", sep='\\t', header=TRUE)"
   ]
  },
  {
   "cell_type": "code",
   "execution_count": 54,
   "id": "8cbaeba9-a952-4a50-85d1-ee5beb4da184",
   "metadata": {
    "kernel": "R"
   },
   "outputs": [
    {
     "data": {
      "text/html": [
       "34596"
      ],
      "text/latex": [
       "34596"
      ],
      "text/markdown": [
       "34596"
      ],
      "text/plain": [
       "[1] 34596"
      ]
     },
     "metadata": {},
     "output_type": "display_data"
    }
   ],
   "source": [
    "f2247_50k_pca <- setDT(f2247_pca_all)[IID %chin% ind50$IID]\n",
    "nrow(f2247_50k_pca)"
   ]
  },
  {
   "cell_type": "code",
   "execution_count": 56,
   "id": "eaf532d4-17e8-494f-9fec-a673c3240bf6",
   "metadata": {
    "kernel": "R"
   },
   "outputs": [],
   "source": [
    "f2247_50k_pca <-  f2247_50k_pca %>%\n",
    "    select(\"FID\", \"IID\", 'ethnicity')"
   ]
  },
  {
   "cell_type": "code",
   "execution_count": 11,
   "id": "77d087aa-60ce-49d6-9e28-b6218837d096",
   "metadata": {
    "kernel": "R"
   },
   "outputs": [],
   "source": [
    "## old database\n",
    "write.table(f2247_50k_pca, \"~/UKBiobank/results/080621_pca_genoarray_HI/080421_UKBB_Hearing_difficulty_f2247_expandedwhite_35147ind_50K.phenopca\", sep=\"\\t\", row.names=FALSE, col.names=TRUE )"
   ]
  },
  {
   "cell_type": "code",
   "execution_count": 57,
   "id": "a566a40e-4e87-4fc3-bbfe-364a1a1e1960",
   "metadata": {
    "kernel": "R"
   },
   "outputs": [],
   "source": [
    "## new database\n",
    "write.table(f2247_50k_pca, \"~/UKBiobank/results/083021_PCA_results/090321_UKBB_Hearing_difficulty_f2247_expandedwhite_34596ind_50K.phenopca\", sep=\"\\t\", row.names=FALSE, col.names=TRUE )"
   ]
  },
  {
   "cell_type": "code",
   "execution_count": 58,
   "id": "4d3ff053-b7db-40b7-96e1-8c680360ea05",
   "metadata": {
    "kernel": "R"
   },
   "outputs": [
    {
     "data": {
      "text/html": [
       "107507"
      ],
      "text/latex": [
       "107507"
      ],
      "text/markdown": [
       "107507"
      ],
      "text/plain": [
       "[1] 107507"
      ]
     },
     "metadata": {},
     "output_type": "display_data"
    }
   ],
   "source": [
    "f2247_150k_pca <- setDT(f2247_pca_all)[!IID %chin% ind50$IID]\n",
    "nrow(f2247_150k_pca)"
   ]
  },
  {
   "cell_type": "code",
   "execution_count": 59,
   "id": "9a07958f-9b78-4239-a828-68e43f024c25",
   "metadata": {
    "kernel": "R"
   },
   "outputs": [],
   "source": [
    "f2247_150k_pca <-  f2247_150k_pca %>%\n",
    "    select(\"FID\", \"IID\", 'ethnicity')"
   ]
  },
  {
   "cell_type": "code",
   "execution_count": 60,
   "id": "f9680174-69ac-4c31-b472-731ed42e1a10",
   "metadata": {
    "kernel": "R"
   },
   "outputs": [],
   "source": [
    "## old database\n",
    "write.table(f2247_150k_pca, \"~/UKBiobank/results/080621_pca_genoarray_HI/080421_UKBB_Hearing_difficulty_f2247_expandedwhite_109172ind_150K.phenopca\", sep=\"\\t\", row.names=FALSE, col.names=TRUE )"
   ]
  },
  {
   "cell_type": "code",
   "execution_count": 78,
   "id": "99427870-9499-44b7-bbd8-3aedd7c0a585",
   "metadata": {
    "kernel": "R"
   },
   "outputs": [],
   "source": [
    "## new database\n",
    "write.table(f2247_150k_pca, \"~/UKBiobank/results/083021_PCA_results/090321_UKBB_Hearing_difficulty_f2247_expandedwhite_107507ind_150K.phenopca\", sep=\"\\t\", row.names=FALSE, col.names=TRUE )"
   ]
  },
  {
   "cell_type": "markdown",
   "id": "6bb14322-acbc-4d4f-988d-1d515765a035",
   "metadata": {
    "kernel": "R"
   },
   "source": [
    "## Phenotype file"
   ]
  },
  {
   "cell_type": "code",
   "execution_count": 12,
   "id": "49e68e97-e059-47d1-b693-e7d1ebd1d75b",
   "metadata": {
    "kernel": "R"
   },
   "outputs": [],
   "source": [
    "## old database\n",
    "f2247_pheno_all <- read.table(\"~/UKBiobank/phenotype_files/hearing_impairment/080421_UKBB_Hearing_difficulty_f2247_expandedwhite_46237cases_98082ctrl\", sep='\\t', header=TRUE)"
   ]
  },
  {
   "cell_type": "code",
   "execution_count": 111,
   "id": "e9309c6b-20cc-4a53-9be9-5035ba80e7b8",
   "metadata": {
    "kernel": "R"
   },
   "outputs": [],
   "source": [
    "## new database\n",
    "f2247_pheno_all <- read.table(\"~/UKBiobank/phenotype_files/hearing_impairment/090321_UKBB_Hearing_difficulty_f2247_expandedwhite_45502cases_96601ctrl\", sep='\\t', header=TRUE)"
   ]
  },
  {
   "cell_type": "code",
   "execution_count": 112,
   "id": "4f3ed3ec-3164-4d3e-8e20-ebe23295cef5",
   "metadata": {
    "kernel": "R"
   },
   "outputs": [],
   "source": [
    "f2247_pheno_all <- f2247_pheno_all %>%\n",
    "    select(\"FID\", \"IID\", \"sex\", \"f2247\",\"age\")"
   ]
  },
  {
   "cell_type": "code",
   "execution_count": 14,
   "id": "b9ac66c1-a166-4bcf-bb3c-01736fb1d6e2",
   "metadata": {
    "kernel": "R"
   },
   "outputs": [],
   "source": [
    "## old database\n",
    "f2247_pca_50K <- read.table(\"~/UKBiobank/results/080621_pca_genoarray_HI/090721_f2247_50K/080421_UKBB_Hearing_difficulty_f2247_expandedwhite_35147ind_50K.090721_f2247_50K.pca.txt\", sep=\"\\t\", header=TRUE)"
   ]
  },
  {
   "cell_type": "code",
   "execution_count": 113,
   "id": "2bc963b6-68fa-473d-9ba5-e00474c31ed7",
   "metadata": {
    "kernel": "R"
   },
   "outputs": [],
   "source": [
    "## new database\n",
    "f2247_pca_50K <- read.table(\"~/UKBiobank/results/083021_PCA_results/091421_f2247_50Kexomes_pca/090321_UKBB_Hearing_difficulty_f2247_expandedwhite_34596ind_50K.091421_f2247_50Kexomes_pca.pca.txt\", sep=\"\\t\", header=TRUE)"
   ]
  },
  {
   "cell_type": "code",
   "execution_count": 114,
   "id": "debb9109-8cf9-47dc-82d6-77dfceb5159a",
   "metadata": {
    "kernel": "R"
   },
   "outputs": [
    {
     "data": {
      "text/html": [
       "34596"
      ],
      "text/latex": [
       "34596"
      ],
      "text/markdown": [
       "34596"
      ],
      "text/plain": [
       "[1] 34596"
      ]
     },
     "metadata": {},
     "output_type": "display_data"
    }
   ],
   "source": [
    "f2247_pheno_50K <- merge(f2247_pheno_all,f2247_pca_50K,by=c(\"FID\",\"IID\") )\n",
    "f2247_pheno_50K <- f2247_pheno_50K %>%\n",
    "    select(\"FID\", \"IID\", \"sex\", \"f2247\",\"age\", \"PC1\", \"PC2\")\n",
    "nrow(f2247_pheno_50K)"
   ]
  },
  {
   "cell_type": "code",
   "execution_count": 15,
   "id": "a60d5414-fdca-40ea-a67c-8bd4bacafa8d",
   "metadata": {
    "kernel": "R"
   },
   "outputs": [
    {
     "data": {
      "text/html": [
       "35147"
      ],
      "text/latex": [
       "35147"
      ],
      "text/markdown": [
       "35147"
      ],
      "text/plain": [
       "[1] 35147"
      ]
     },
     "metadata": {},
     "output_type": "display_data"
    }
   ],
   "source": [
    "## old database\n",
    "write.table(f2247_pheno_50K, \"~/UKBiobank/phenotype_files/hearing_impairment/080421_UKBB_Hearing_difficulty_f2247_expandedwhite_35147ind_50K.tsv\", sep=\"\\t\", row.names=FALSE, col.names=TRUE, quote=FALSE )"
   ]
  },
  {
   "cell_type": "code",
   "execution_count": 115,
   "id": "67381d80-914d-4564-baff-617d217587ce",
   "metadata": {
    "kernel": "R"
   },
   "outputs": [],
   "source": [
    "## new database\n",
    "write.table(f2247_pheno_50K, \"~/UKBiobank/phenotype_files/hearing_impairment/090321_UKBB_Hearing_difficulty_f2247_expandedwhite_34596ind_50K.tsv\", sep=\"\\t\", row.names=FALSE, col.names=TRUE, quote=FALSE )"
   ]
  },
  {
   "cell_type": "code",
   "execution_count": 91,
   "id": "8a18fe59-0da0-4262-bc3b-a9302a770298",
   "metadata": {
    "kernel": "R"
   },
   "outputs": [],
   "source": [
    "## old database\n",
    "f2247_pca_150K  <- read.table(\"~/UKBiobank/results/080621_pca_genoarray_HI/090721_f2247_150K/080421_UKBB_Hearing_difficulty_f2247_expandedwhite_109172ind_150K.090721_f2247_150K.pca.txt\", sep=\"\\t\", header=TRUE)"
   ]
  },
  {
   "cell_type": "code",
   "execution_count": 117,
   "id": "f6a0275e-a101-433e-a1d6-7feae698d051",
   "metadata": {
    "kernel": "R"
   },
   "outputs": [],
   "source": [
    "## new database\n",
    "f2247_pca_150K <- read.table(\"~/UKBiobank/results/083021_PCA_results/091421_f2247_150Kexomes_pca/090321_UKBB_Hearing_difficulty_f2247_expandedwhite_107507ind_150K.091421_f2247_150Kexomes_pca.pca.txt\", sep=\"\\t\", header=TRUE)"
   ]
  },
  {
   "cell_type": "code",
   "execution_count": 118,
   "id": "8fe3a7a8-4c6d-4e4d-9506-28d6ddd1533b",
   "metadata": {
    "kernel": "R"
   },
   "outputs": [
    {
     "data": {
      "text/html": [
       "107507"
      ],
      "text/latex": [
       "107507"
      ],
      "text/markdown": [
       "107507"
      ],
      "text/plain": [
       "[1] 107507"
      ]
     },
     "metadata": {},
     "output_type": "display_data"
    }
   ],
   "source": [
    "f2247_pheno_150K <- merge(f2247_pheno_all,f2247_pca_150K,by=c(\"FID\",\"IID\") )\n",
    "f2247_pheno_150K <- f2247_pheno_150K %>%\n",
    "    select(\"FID\", \"IID\", \"sex\", \"f2247\",\"age\", \"PC1\", \"PC2\")\n",
    "nrow(f2247_pheno_150K)"
   ]
  },
  {
   "cell_type": "code",
   "execution_count": 93,
   "id": "0eb37e51-965c-4a77-9b86-90f8e68f8f76",
   "metadata": {
    "kernel": "R"
   },
   "outputs": [
    {
     "data": {
      "text/html": [
       "109172"
      ],
      "text/latex": [
       "109172"
      ],
      "text/markdown": [
       "109172"
      ],
      "text/plain": [
       "[1] 109172"
      ]
     },
     "metadata": {},
     "output_type": "display_data"
    }
   ],
   "source": [
    "## old database\n",
    "write.table(f2247_pheno_150K, \"~/UKBiobank/phenotype_files/hearing_impairment/080421_UKBB_Hearing_difficulty_f2247_expandedwhite_109172ind_150K.tsv\", sep=\"\\t\", row.names=FALSE, col.names=TRUE, quote=FALSE )"
   ]
  },
  {
   "cell_type": "code",
   "execution_count": 119,
   "id": "6e666fda-265a-44bc-b88b-543830752e97",
   "metadata": {
    "kernel": "R"
   },
   "outputs": [],
   "source": [
    "## new database\n",
    "write.table(f2247_pheno_150K, \"~/UKBiobank/phenotype_files/hearing_impairment/090321_UKBB_Hearing_difficulty_f2247_expandedwhite_107507ind_150K.tsv\", sep=\"\\t\", row.names=FALSE, col.names=TRUE, quote=FALSE )"
   ]
  },
  {
   "cell_type": "markdown",
   "id": "e7a92aaf-6b75-4341-97fb-8515f734c20e",
   "metadata": {
    "kernel": "R"
   },
   "source": [
    "## Number of cases/controls in each set for f.2247"
   ]
  },
  {
   "cell_type": "code",
   "execution_count": null,
   "id": "bc852a48-512f-4051-ae81-c076e5f620e4",
   "metadata": {
    "kernel": "R"
   },
   "outputs": [],
   "source": [
    "#There are 12406 cases in the 50K group and 22741 controls\n",
    "f2247_50k[, .N, by=.(f2247)]\n",
    "#There are 33831 cases in the 50K group and 75341 controls\n",
    "f2247_150k[, .N, by=.(f2247)]"
   ]
  },
  {
   "cell_type": "markdown",
   "id": "3eb987d7-ef5e-4e5f-9b84-c6f16cf61898",
   "metadata": {
    "kernel": "R"
   },
   "source": [
    "# f.2257"
   ]
  },
  {
   "cell_type": "code",
   "execution_count": 22,
   "id": "8c47b7c4-9545-4dbb-9cc9-6afcd7afe77f",
   "metadata": {
    "kernel": "R"
   },
   "outputs": [],
   "source": [
    "## old database\n",
    "f2257_all <- read.table(\"~/UKBiobank/phenotype_files/hearing_impairment/080421_UKBB_Hearing_noise_f2257_expandedwhite_66656cases_98082ctrl\", sep='\\t', header=TRUE)"
   ]
  },
  {
   "cell_type": "code",
   "execution_count": 39,
   "id": "2a494512-41bf-4baf-a251-be60d2b233ea",
   "metadata": {
    "kernel": "R"
   },
   "outputs": [],
   "source": [
    "## new database\n",
    "f2257_all <- read.table(\"~/UKBiobank/phenotype_files/hearing_impairment/090321_UKBB_Hearing_noise_f2257_expandedwhite_65660cases_96601ctrl\", sep='\\t', header=TRUE)"
   ]
  },
  {
   "cell_type": "code",
   "execution_count": 40,
   "id": "b0a636b3-86f2-4141-9143-8ab0368329ed",
   "metadata": {
    "kernel": "R"
   },
   "outputs": [
    {
     "data": {
      "text/html": [
       "<table class=\"dataframe\">\n",
       "<caption>A data.frame: 6 x 5</caption>\n",
       "<thead>\n",
       "\t<tr><th></th><th scope=col>FID</th><th scope=col>IID</th><th scope=col>sex</th><th scope=col>f2257</th><th scope=col>age</th></tr>\n",
       "\t<tr><th></th><th scope=col>&lt;int&gt;</th><th scope=col>&lt;int&gt;</th><th scope=col>&lt;int&gt;</th><th scope=col>&lt;int&gt;</th><th scope=col>&lt;int&gt;</th></tr>\n",
       "</thead>\n",
       "<tbody>\n",
       "\t<tr><th scope=row>1</th><td>1000035</td><td>1000035</td><td>0</td><td>1</td><td>63</td></tr>\n",
       "\t<tr><th scope=row>2</th><td>1000198</td><td>1000198</td><td>1</td><td>1</td><td>41</td></tr>\n",
       "\t<tr><th scope=row>3</th><td>1000304</td><td>1000304</td><td>1</td><td>1</td><td>56</td></tr>\n",
       "\t<tr><th scope=row>4</th><td>1000396</td><td>1000396</td><td>0</td><td>1</td><td>48</td></tr>\n",
       "\t<tr><th scope=row>5</th><td>1000494</td><td>1000494</td><td>0</td><td>1</td><td>61</td></tr>\n",
       "\t<tr><th scope=row>6</th><td>1000551</td><td>1000551</td><td>0</td><td>1</td><td>68</td></tr>\n",
       "</tbody>\n",
       "</table>\n"
      ],
      "text/latex": [
       "A data.frame: 6 x 5\n",
       "\\begin{tabular}{r|lllll}\n",
       "  & FID & IID & sex & f2257 & age\\\\\n",
       "  & <int> & <int> & <int> & <int> & <int>\\\\\n",
       "\\hline\n",
       "\t1 & 1000035 & 1000035 & 0 & 1 & 63\\\\\n",
       "\t2 & 1000198 & 1000198 & 1 & 1 & 41\\\\\n",
       "\t3 & 1000304 & 1000304 & 1 & 1 & 56\\\\\n",
       "\t4 & 1000396 & 1000396 & 0 & 1 & 48\\\\\n",
       "\t5 & 1000494 & 1000494 & 0 & 1 & 61\\\\\n",
       "\t6 & 1000551 & 1000551 & 0 & 1 & 68\\\\\n",
       "\\end{tabular}\n"
      ],
      "text/markdown": [
       "\n",
       "A data.frame: 6 x 5\n",
       "\n",
       "| <!--/--> | FID &lt;int&gt; | IID &lt;int&gt; | sex &lt;int&gt; | f2257 &lt;int&gt; | age &lt;int&gt; |\n",
       "|---|---|---|---|---|---|\n",
       "| 1 | 1000035 | 1000035 | 0 | 1 | 63 |\n",
       "| 2 | 1000198 | 1000198 | 1 | 1 | 41 |\n",
       "| 3 | 1000304 | 1000304 | 1 | 1 | 56 |\n",
       "| 4 | 1000396 | 1000396 | 0 | 1 | 48 |\n",
       "| 5 | 1000494 | 1000494 | 0 | 1 | 61 |\n",
       "| 6 | 1000551 | 1000551 | 0 | 1 | 68 |\n",
       "\n"
      ],
      "text/plain": [
       "  FID     IID     sex f2257 age\n",
       "1 1000035 1000035 0   1     63 \n",
       "2 1000198 1000198 1   1     41 \n",
       "3 1000304 1000304 1   1     56 \n",
       "4 1000396 1000396 0   1     48 \n",
       "5 1000494 1000494 0   1     61 \n",
       "6 1000551 1000551 0   1     68 "
      ]
     },
     "metadata": {},
     "output_type": "display_data"
    }
   ],
   "source": [
    "head(f2257_all)"
   ]
  },
  {
   "cell_type": "code",
   "execution_count": 41,
   "id": "063aebbc-a44c-4453-b395-eba383b97720",
   "metadata": {
    "kernel": "R"
   },
   "outputs": [
    {
     "data": {
      "text/html": [
       "38723"
      ],
      "text/latex": [
       "38723"
      ],
      "text/markdown": [
       "38723"
      ],
      "text/plain": [
       "[1] 38723"
      ]
     },
     "metadata": {},
     "output_type": "display_data"
    }
   ],
   "source": [
    "f2257_50k <- setDT(f2257_all)[IID %chin% ind50$IID]\n",
    "nrow(f2257_50k)"
   ]
  },
  {
   "cell_type": "code",
   "execution_count": 42,
   "id": "91ef0c52-a87e-4511-ad0d-51b5523aa897",
   "metadata": {
    "kernel": "R"
   },
   "outputs": [],
   "source": [
    "f2257_50k_IID <- f2257_50k %>%\n",
    "    select(\"FID\", \"IID\")"
   ]
  },
  {
   "cell_type": "code",
   "execution_count": 27,
   "id": "34e59576-a647-42b6-8d98-74a1ef44183a",
   "metadata": {
    "kernel": "R"
   },
   "outputs": [],
   "source": [
    "## old database\n",
    "write.table(f2257_50k_IID, \"~/UKBiobank/phenotype_files/hearing_impairment/080421_UKBB_Hearing_noise_f2257_expandedwhite_39344ind_50Kexomes.keep_id\", sep=\"\\t\", row.names=FALSE, col.names=FALSE )"
   ]
  },
  {
   "cell_type": "code",
   "execution_count": 43,
   "id": "ddcdb875-fa56-4e11-98e9-eb323955b9c3",
   "metadata": {
    "kernel": "R"
   },
   "outputs": [],
   "source": [
    "## new database\n",
    "write.table(f2257_50k_IID, \"~/UKBiobank/results/083021_PCA_results/090321_UKBB_Hearing_noise_f2257_expandedwhite_38721ind_50Kexomes.keep_id\", sep=\"\\t\", row.names=FALSE, col.names=FALSE )"
   ]
  },
  {
   "cell_type": "code",
   "execution_count": 44,
   "id": "ad906453-d6ee-4eb7-804a-0982c7d744f9",
   "metadata": {
    "kernel": "R"
   },
   "outputs": [
    {
     "data": {
      "text/html": [
       "123538"
      ],
      "text/latex": [
       "123538"
      ],
      "text/markdown": [
       "123538"
      ],
      "text/plain": [
       "[1] 123538"
      ]
     },
     "metadata": {},
     "output_type": "display_data"
    }
   ],
   "source": [
    "f2257_150k <- setDT(f2257_all)[!IID %chin% ind50$IID]\n",
    "nrow(f2257_150k)"
   ]
  },
  {
   "cell_type": "code",
   "execution_count": 45,
   "id": "a0fc74ea-dc27-4af7-9d23-495eca994674",
   "metadata": {
    "kernel": "R"
   },
   "outputs": [],
   "source": [
    "f2257_150k_IID <- f2257_150k %>%\n",
    "    select(\"FID\", \"IID\")"
   ]
  },
  {
   "cell_type": "code",
   "execution_count": 28,
   "id": "24934dcd-f45e-432d-9ee1-8f9fe20eacd4",
   "metadata": {
    "kernel": "R"
   },
   "outputs": [],
   "source": [
    "## old database\n",
    "write.table(f2257_150k_IID, \"~/UKBiobank/phenotype_files/hearing_impairment/080421_UKBB_Hearing_noise_f2257_expandedwhite_125394ind_150Kexomes.keep_id\", sep=\"\\t\", row.names=FALSE, col.names=FALSE )"
   ]
  },
  {
   "cell_type": "code",
   "execution_count": 46,
   "id": "d4478549-3814-4b5e-a3af-0f9c9be804e7",
   "metadata": {
    "kernel": "R"
   },
   "outputs": [],
   "source": [
    "## new database\n",
    "write.table(f2257_150k_IID, \"~/UKBiobank/results/083021_PCA_results/090321_UKBB_Hearing_noise_f2257_expandedwhite_123538ind_150Kexomes.keep_id\", sep=\"\\t\", row.names=FALSE, col.names=FALSE )"
   ]
  },
  {
   "cell_type": "markdown",
   "id": "396037e8-fe03-4440-a057-e9661e85447b",
   "metadata": {
    "kernel": "R"
   },
   "source": [
    "## PCA"
   ]
  },
  {
   "cell_type": "code",
   "execution_count": 55,
   "id": "2835fb9d-2f1b-464c-ba58-74000ab00324",
   "metadata": {
    "kernel": "R"
   },
   "outputs": [],
   "source": [
    "## old database\n",
    "f2257_pca_all <- read.table(\"~/UKBiobank/results/080621_pca_genoarray_HI/080421_UKBB_Hearing_noise_f2257_expandedwhite_66656cases_98082ctrl.phenopca\", sep='\\t', header=TRUE)"
   ]
  },
  {
   "cell_type": "code",
   "execution_count": 72,
   "id": "7db6fdeb-5b3a-4102-bbf9-b73e3d21adc4",
   "metadata": {
    "kernel": "R"
   },
   "outputs": [],
   "source": [
    "## new database\n",
    "f2257_pca_all <- read.table(\"~/UKBiobank/results/083021_PCA_results/090321_UKBB_Hearing_noise_f2257_expandedwhite_65660cases_96601ctrl.phenopca\", sep='\\t', header=TRUE)"
   ]
  },
  {
   "cell_type": "code",
   "execution_count": 73,
   "id": "0ef657fd-fa16-46f9-ac22-3f95cc2dc828",
   "metadata": {
    "kernel": "R"
   },
   "outputs": [
    {
     "data": {
      "text/html": [
       "38723"
      ],
      "text/latex": [
       "38723"
      ],
      "text/markdown": [
       "38723"
      ],
      "text/plain": [
       "[1] 38723"
      ]
     },
     "metadata": {},
     "output_type": "display_data"
    }
   ],
   "source": [
    "f2257_50k_pca <- setDT(f2257_pca_all)[IID %chin% ind50$IID]\n",
    "nrow(f2257_50k_pca)"
   ]
  },
  {
   "cell_type": "code",
   "execution_count": 74,
   "id": "51337b02-b421-4b3a-9ba4-cd123ee85b6c",
   "metadata": {
    "kernel": "R"
   },
   "outputs": [],
   "source": [
    "f2257_50k_pca <-  f2257_50k_pca %>%\n",
    "    select(\"FID\", \"IID\", 'ethnicity')"
   ]
  },
  {
   "cell_type": "code",
   "execution_count": 57,
   "id": "8d7c5e1d-4613-45da-ad01-9b63c3a2fe8e",
   "metadata": {
    "kernel": "R"
   },
   "outputs": [],
   "source": [
    "## old database\n",
    "write.table(f2257_50k_pca, \"~/UKBiobank/results/080621_pca_genoarray_HI/080421_UKBB_Hearing_noise_f2257_expandedwhite_39344ind_50K.phenopca\", sep=\"\\t\", row.names=FALSE, col.names=TRUE )"
   ]
  },
  {
   "cell_type": "code",
   "execution_count": 75,
   "id": "e3e9c55c-9a41-41f1-b990-24eb280cdd35",
   "metadata": {
    "kernel": "R"
   },
   "outputs": [],
   "source": [
    "## new database\n",
    "write.table(f2257_50k_pca, \"~/UKBiobank/results/083021_PCA_results/090321_UKBB_Hearing_noise_f2257_expandedwhite_38723ind_50K.phenopca\", sep=\"\\t\", row.names=FALSE, col.names=TRUE )"
   ]
  },
  {
   "cell_type": "code",
   "execution_count": 76,
   "id": "bbe1dda6-2f89-4ed7-a64f-e8d79f6aa3a1",
   "metadata": {
    "kernel": "R"
   },
   "outputs": [
    {
     "data": {
      "text/html": [
       "123538"
      ],
      "text/latex": [
       "123538"
      ],
      "text/markdown": [
       "123538"
      ],
      "text/plain": [
       "[1] 123538"
      ]
     },
     "metadata": {},
     "output_type": "display_data"
    }
   ],
   "source": [
    "f2257_150k_pca <- setDT(f2257_pca_all)[!IID %chin% ind50$IID]\n",
    "nrow(f2257_150k_pca)"
   ]
  },
  {
   "cell_type": "code",
   "execution_count": 59,
   "id": "a8625422-b1df-4f1b-bb6f-cc122229afb4",
   "metadata": {
    "kernel": "R"
   },
   "outputs": [],
   "source": [
    "f2257_150k_pca <-  f2257_150k_pca %>%\n",
    "    select(\"FID\", \"IID\", 'ethnicity')"
   ]
  },
  {
   "cell_type": "code",
   "execution_count": 59,
   "id": "2c4d382b-d0cc-4bf1-a5a9-0f2df5679c83",
   "metadata": {
    "kernel": "R"
   },
   "outputs": [],
   "source": [
    "## old database\n",
    "write.table(f2257_150k_pca, \"~/UKBiobank/results/080621_pca_genoarray_HI/080421_UKBB_Hearing_noise_f2257_expandedwhite_125394ind_150K.phenopca\", sep=\"\\t\", row.names=FALSE, col.names=TRUE )"
   ]
  },
  {
   "cell_type": "code",
   "execution_count": 77,
   "id": "f03cdfa2-9432-4ce0-a07b-c9a01a2caa17",
   "metadata": {
    "kernel": "R"
   },
   "outputs": [],
   "source": [
    "## new database\n",
    "write.table(f2257_150k_pca, \"~/UKBiobank/results/083021_PCA_results/090321_UKBB_Hearing_noise_f2257_expandedwhite_123538ind_150K.phenopca\", sep=\"\\t\", row.names=FALSE, col.names=TRUE )"
   ]
  },
  {
   "cell_type": "markdown",
   "id": "d9e3ec2c-2549-4d02-aeca-fde64992aec9",
   "metadata": {
    "kernel": "R"
   },
   "source": [
    "## Phenotype file"
   ]
  },
  {
   "cell_type": "code",
   "execution_count": 94,
   "id": "a7bd6391-a91e-41ff-82ca-4321c8e353c4",
   "metadata": {
    "kernel": "R"
   },
   "outputs": [],
   "source": [
    "## old database\n",
    "f2257_pheno_all <- read.table(\"~/UKBiobank/phenotype_files/hearing_impairment/080421_UKBB_Hearing_noise_f2257_expandedwhite_66656cases_98082ctrl\", sep='\\t', header=TRUE)"
   ]
  },
  {
   "cell_type": "code",
   "execution_count": 120,
   "id": "942b515b-db05-4e5e-8412-8735f748d72c",
   "metadata": {
    "kernel": "R"
   },
   "outputs": [],
   "source": [
    "## new database\n",
    "f2257_pheno_all <- read.table(\"~/UKBiobank/phenotype_files/hearing_impairment/090321_UKBB_Hearing_noise_f2257_expandedwhite_65660cases_96601ctrl\", sep='\\t', header=TRUE)"
   ]
  },
  {
   "cell_type": "code",
   "execution_count": 121,
   "id": "8434acd0-5408-4981-81c2-8787ecbe0103",
   "metadata": {
    "kernel": "R"
   },
   "outputs": [],
   "source": [
    "f2257_pheno_all <- f2257_pheno_all %>%\n",
    "    select(\"FID\", \"IID\", \"sex\", \"f2257\",\"age\")"
   ]
  },
  {
   "cell_type": "code",
   "execution_count": 100,
   "id": "6f245b71-9667-4809-a18e-2c0e2d286d62",
   "metadata": {
    "kernel": "R"
   },
   "outputs": [],
   "source": [
    "## old database\n",
    "f2257_pca_50K <- read.table(\"~/UKBiobank/results/080621_pca_genoarray_HI/090721_f2257_50k/080421_UKBB_Hearing_noise_f2257_expandedwhite_39344ind_50K.090721_f2257_50k.pca.txt\", sep=\"\\t\", header=TRUE)"
   ]
  },
  {
   "cell_type": "code",
   "execution_count": 122,
   "id": "b7cd47d1-5493-4171-9a8a-cd0253c4a68e",
   "metadata": {
    "kernel": "R"
   },
   "outputs": [],
   "source": [
    "## new database\n",
    "f2257_pca_50K <- read.table(\"~/UKBiobank/results/083021_PCA_results/091421_f2257_50Kexomes_pca/090321_UKBB_Hearing_noise_f2257_expandedwhite_38723ind_50K.091421_f2257_50Kexomes_pca.pca.txt\", sep=\"\\t\", header=TRUE)"
   ]
  },
  {
   "cell_type": "code",
   "execution_count": 123,
   "id": "ac9a7c47-5a4b-4ee5-b0e0-c3982cd97db0",
   "metadata": {
    "kernel": "R"
   },
   "outputs": [
    {
     "data": {
      "text/html": [
       "38723"
      ],
      "text/latex": [
       "38723"
      ],
      "text/markdown": [
       "38723"
      ],
      "text/plain": [
       "[1] 38723"
      ]
     },
     "metadata": {},
     "output_type": "display_data"
    }
   ],
   "source": [
    "f2257_pheno_50K <- merge(f2257_pheno_all,f2257_pca_50K,by=c(\"FID\",\"IID\") )\n",
    "f2257_pheno_50K <- f2257_pheno_50K %>%\n",
    "    select(\"FID\", \"IID\", \"sex\", \"f2257\",\"age\", \"PC1\", \"PC2\")\n",
    "nrow(f2257_pheno_50K)"
   ]
  },
  {
   "cell_type": "code",
   "execution_count": 103,
   "id": "6b011b25-7c52-4472-9cb6-ea7c0aacb300",
   "metadata": {
    "kernel": "R"
   },
   "outputs": [
    {
     "data": {
      "text/html": [
       "39344"
      ],
      "text/latex": [
       "39344"
      ],
      "text/markdown": [
       "39344"
      ],
      "text/plain": [
       "[1] 39344"
      ]
     },
     "metadata": {},
     "output_type": "display_data"
    }
   ],
   "source": [
    "## old database\n",
    "write.table(f2257_pheno_50K, \"~/UKBiobank/phenotype_files/hearing_impairment/080421_UKBB_Hearing_noise_f2257_expandedwhite_39344ind_50K.tsv\", sep=\"\\t\", row.names=FALSE, col.names=TRUE, quote=FALSE )"
   ]
  },
  {
   "cell_type": "code",
   "execution_count": 125,
   "id": "f63d7b5e-0038-47d0-ad11-af7833d5aa7a",
   "metadata": {
    "kernel": "R"
   },
   "outputs": [],
   "source": [
    "## new database\n",
    "write.table(f2257_pheno_50K, \"~/UKBiobank/phenotype_files/hearing_impairment/090321_UKBB_Hearing_noise_f2257_expandedwhite_38723ind_50K.tsv\", sep=\"\\t\", row.names=FALSE, col.names=TRUE, quote=FALSE )"
   ]
  },
  {
   "cell_type": "code",
   "execution_count": 104,
   "id": "53720d5d-3a1a-4421-8224-97bf66af7975",
   "metadata": {
    "kernel": "R"
   },
   "outputs": [],
   "source": [
    "## old database\n",
    "f2257_pca_150K  <- read.table(\"~/UKBiobank/results/080621_pca_genoarray_HI/090721_f2257_150k/080421_UKBB_Hearing_noise_f2257_expandedwhite_125394ind_150K.090721_f2257_150k.pca.txt\", sep=\"\\t\", header=TRUE)"
   ]
  },
  {
   "cell_type": "code",
   "execution_count": 126,
   "id": "f8d9f5a4-7582-439c-9151-f7e5241025c6",
   "metadata": {
    "kernel": "R"
   },
   "outputs": [],
   "source": [
    "## new database\n",
    "f2257_pca_150K <- read.table(\"~/UKBiobank/results/083021_PCA_results/091421_f2257_150Kexomes_pca/090321_UKBB_Hearing_noise_f2257_expandedwhite_123538ind_150K.091421_f2257_150Kexomes_pca.pca.txt\", sep=\"\\t\", header=TRUE)"
   ]
  },
  {
   "cell_type": "code",
   "execution_count": 127,
   "id": "8e3e9853-0d40-4741-8435-9d0aafe7527b",
   "metadata": {
    "kernel": "R"
   },
   "outputs": [
    {
     "data": {
      "text/html": [
       "123538"
      ],
      "text/latex": [
       "123538"
      ],
      "text/markdown": [
       "123538"
      ],
      "text/plain": [
       "[1] 123538"
      ]
     },
     "metadata": {},
     "output_type": "display_data"
    }
   ],
   "source": [
    "f2257_pheno_150K <- merge(f2257_pheno_all,f2257_pca_150K,by=c(\"FID\",\"IID\") )\n",
    "f2257_pheno_150K <- f2257_pheno_150K %>%\n",
    "    select(\"FID\", \"IID\", \"sex\", \"f2257\",\"age\", \"PC1\", \"PC2\")\n",
    "nrow(f2257_pheno_150K)"
   ]
  },
  {
   "cell_type": "code",
   "execution_count": 106,
   "id": "31dc341d-6102-42c3-87ec-782c5fe69c60",
   "metadata": {
    "kernel": "R"
   },
   "outputs": [
    {
     "data": {
      "text/html": [
       "125393"
      ],
      "text/latex": [
       "125393"
      ],
      "text/markdown": [
       "125393"
      ],
      "text/plain": [
       "[1] 125393"
      ]
     },
     "metadata": {},
     "output_type": "display_data"
    }
   ],
   "source": [
    "## old database\n",
    "write.table(f2257_pheno_150K, \"~/UKBiobank/phenotype_files/hearing_impairment/080421_UKBB_Hearing_noise_f2257_expandedwhite_125393ind_150K.tsv\", sep=\"\\t\", row.names=FALSE, col.names=TRUE, quote=FALSE )"
   ]
  },
  {
   "cell_type": "code",
   "execution_count": 128,
   "id": "28f5ab13-e231-4758-a805-89283b2413da",
   "metadata": {
    "kernel": "R"
   },
   "outputs": [],
   "source": [
    "## new database\n",
    "write.table(f2257_pheno_150K, \"~/UKBiobank/phenotype_files/hearing_impairment/090321_UKBB_Hearing_noise_f2257_expandedwhite_123538ind_150K.tsv\", sep=\"\\t\", row.names=FALSE, col.names=TRUE, quote=FALSE )"
   ]
  },
  {
   "cell_type": "markdown",
   "id": "b2ab5ecf-f0de-4d10-935b-f3e16e91dcfb",
   "metadata": {
    "kernel": "R"
   },
   "source": [
    "## Number of cases/controls in each set for f.2257"
   ]
  },
  {
   "cell_type": "code",
   "execution_count": null,
   "id": "74f1cf69-dbc4-427f-85c5-f6049c051520",
   "metadata": {
    "kernel": "R"
   },
   "outputs": [],
   "source": [
    "#There are 16603 cases in the 50K group and 22741 controls\n",
    "f2257_50k[, .N, by=.(f2257)]\n",
    "#There are 50053 cases in the 50K group and 75341 controls\n",
    "f2257_150k[, .N, by=.(f2257)]"
   ]
  },
  {
   "cell_type": "markdown",
   "id": "5fc50f76-d3ea-4d27-accd-9d16e365aa4a",
   "metadata": {
    "kernel": "R"
   },
   "source": [
    "# Combined f.2247 & f.2257"
   ]
  },
  {
   "cell_type": "code",
   "execution_count": 29,
   "id": "bc71e2e5-68ce-4b8c-a808-4c448223ed60",
   "metadata": {
    "kernel": "R"
   },
   "outputs": [],
   "source": [
    "## old database\n",
    "combined_all <- read.table(\"~/UKBiobank/phenotype_files/hearing_impairment/080421_UKBB_Combined_f2247_f2257_expandedwhite_39049cases_98082ctrl\", sep='\\t', header=TRUE)"
   ]
  },
  {
   "cell_type": "code",
   "execution_count": 79,
   "id": "f93dc7dc-8ad3-424c-a0ad-b92f5a2f0fc2",
   "metadata": {
    "kernel": "R"
   },
   "outputs": [],
   "source": [
    "## new database\n",
    "combined_all <- read.table(\"~/UKBiobank/phenotype_files/hearing_impairment/090321_UKBB_Combined_f2247_f2257_expandedwhite_38410cases_96601ctrl\", sep='\\t', header=TRUE)"
   ]
  },
  {
   "cell_type": "code",
   "execution_count": 80,
   "id": "33f8684d-4af1-4596-beaf-a4890738e925",
   "metadata": {
    "kernel": "R"
   },
   "outputs": [
    {
     "data": {
      "text/html": [
       "<table class=\"dataframe\">\n",
       "<caption>A data.frame: 6 x 5</caption>\n",
       "<thead>\n",
       "\t<tr><th></th><th scope=col>FID</th><th scope=col>IID</th><th scope=col>sex</th><th scope=col>f2247_f2257</th><th scope=col>age</th></tr>\n",
       "\t<tr><th></th><th scope=col>&lt;int&gt;</th><th scope=col>&lt;int&gt;</th><th scope=col>&lt;int&gt;</th><th scope=col>&lt;int&gt;</th><th scope=col>&lt;int&gt;</th></tr>\n",
       "</thead>\n",
       "<tbody>\n",
       "\t<tr><th scope=row>1</th><td>1000198</td><td>1000198</td><td>1</td><td>1</td><td>41</td></tr>\n",
       "\t<tr><th scope=row>2</th><td>1000396</td><td>1000396</td><td>0</td><td>1</td><td>48</td></tr>\n",
       "\t<tr><th scope=row>3</th><td>1000494</td><td>1000494</td><td>0</td><td>1</td><td>61</td></tr>\n",
       "\t<tr><th scope=row>4</th><td>1001076</td><td>1001076</td><td>0</td><td>1</td><td>69</td></tr>\n",
       "\t<tr><th scope=row>5</th><td>1001123</td><td>1001123</td><td>1</td><td>1</td><td>62</td></tr>\n",
       "\t<tr><th scope=row>6</th><td>1001196</td><td>1001196</td><td>0</td><td>1</td><td>60</td></tr>\n",
       "</tbody>\n",
       "</table>\n"
      ],
      "text/latex": [
       "A data.frame: 6 x 5\n",
       "\\begin{tabular}{r|lllll}\n",
       "  & FID & IID & sex & f2247\\_f2257 & age\\\\\n",
       "  & <int> & <int> & <int> & <int> & <int>\\\\\n",
       "\\hline\n",
       "\t1 & 1000198 & 1000198 & 1 & 1 & 41\\\\\n",
       "\t2 & 1000396 & 1000396 & 0 & 1 & 48\\\\\n",
       "\t3 & 1000494 & 1000494 & 0 & 1 & 61\\\\\n",
       "\t4 & 1001076 & 1001076 & 0 & 1 & 69\\\\\n",
       "\t5 & 1001123 & 1001123 & 1 & 1 & 62\\\\\n",
       "\t6 & 1001196 & 1001196 & 0 & 1 & 60\\\\\n",
       "\\end{tabular}\n"
      ],
      "text/markdown": [
       "\n",
       "A data.frame: 6 x 5\n",
       "\n",
       "| <!--/--> | FID &lt;int&gt; | IID &lt;int&gt; | sex &lt;int&gt; | f2247_f2257 &lt;int&gt; | age &lt;int&gt; |\n",
       "|---|---|---|---|---|---|\n",
       "| 1 | 1000198 | 1000198 | 1 | 1 | 41 |\n",
       "| 2 | 1000396 | 1000396 | 0 | 1 | 48 |\n",
       "| 3 | 1000494 | 1000494 | 0 | 1 | 61 |\n",
       "| 4 | 1001076 | 1001076 | 0 | 1 | 69 |\n",
       "| 5 | 1001123 | 1001123 | 1 | 1 | 62 |\n",
       "| 6 | 1001196 | 1001196 | 0 | 1 | 60 |\n",
       "\n"
      ],
      "text/plain": [
       "  FID     IID     sex f2247_f2257 age\n",
       "1 1000198 1000198 1   1           41 \n",
       "2 1000396 1000396 0   1           48 \n",
       "3 1000494 1000494 0   1           61 \n",
       "4 1001076 1001076 0   1           69 \n",
       "5 1001123 1001123 1   1           62 \n",
       "6 1001196 1001196 0   1           60 "
      ]
     },
     "metadata": {},
     "output_type": "display_data"
    }
   ],
   "source": [
    "head(combined_all)"
   ]
  },
  {
   "cell_type": "code",
   "execution_count": 82,
   "id": "cd4a3e35-a783-4031-b2ab-6f742af56235",
   "metadata": {
    "kernel": "R"
   },
   "outputs": [
    {
     "data": {
      "text/html": [
       "32878"
      ],
      "text/latex": [
       "32878"
      ],
      "text/markdown": [
       "32878"
      ],
      "text/plain": [
       "[1] 32878"
      ]
     },
     "metadata": {},
     "output_type": "display_data"
    }
   ],
   "source": [
    "combined_50k <- setDT(combined_all)[IID %chin% ind50$IID]\n",
    "nrow(combined_50k)"
   ]
  },
  {
   "cell_type": "code",
   "execution_count": 83,
   "id": "b49a75aa-e9fb-47ec-b230-ff484cce5cd3",
   "metadata": {
    "kernel": "R"
   },
   "outputs": [],
   "source": [
    "combined_50k_IID <- combined_50k %>%\n",
    "    select(\"FID\", \"IID\")"
   ]
  },
  {
   "cell_type": "code",
   "execution_count": 33,
   "id": "296207e5-85d6-48de-a816-b6f5ca04f900",
   "metadata": {
    "kernel": "R"
   },
   "outputs": [],
   "source": [
    "## old database\n",
    "write.table(combined_50k_IID, \"~/UKBiobank/phenotype_files/hearing_impairment/080421_UKBB_Combined_f2247_f2257_expandedwhite_33399ind_50Kexomes.keep_id\", sep=\"\\t\", row.names=FALSE, col.names=FALSE )"
   ]
  },
  {
   "cell_type": "code",
   "execution_count": 84,
   "id": "db41b22a-ff64-4dcd-9802-626427f83270",
   "metadata": {
    "kernel": "R"
   },
   "outputs": [],
   "source": [
    "## new database\n",
    "write.table(combined_50k_IID, \"~/UKBiobank/results/083021_PCA_results/090321_UKBB_Combined_f2247_f2257_expandedwhite_32878ind_50Kexomes.keep_id\", sep=\"\\t\", row.names=FALSE, col.names=FALSE )"
   ]
  },
  {
   "cell_type": "code",
   "execution_count": 85,
   "id": "6ca48533-a64b-4a69-8de8-1760e6d64647",
   "metadata": {
    "kernel": "R"
   },
   "outputs": [
    {
     "data": {
      "text/html": [
       "102133"
      ],
      "text/latex": [
       "102133"
      ],
      "text/markdown": [
       "102133"
      ],
      "text/plain": [
       "[1] 102133"
      ]
     },
     "metadata": {},
     "output_type": "display_data"
    }
   ],
   "source": [
    "combined_150k <- setDT(combined_all)[!IID %chin% ind50$IID]\n",
    "nrow(combined_150k)"
   ]
  },
  {
   "cell_type": "code",
   "execution_count": 87,
   "id": "e4806dac-9178-4dd3-8417-4984fd2750b9",
   "metadata": {
    "kernel": "R"
   },
   "outputs": [],
   "source": [
    "combined_150k_IID <- combined_150k %>%\n",
    "    select(\"FID\", \"IID\")"
   ]
  },
  {
   "cell_type": "code",
   "execution_count": 34,
   "id": "f947f4b4-d9f5-4a28-bd89-76a964fdd7a4",
   "metadata": {
    "kernel": "R"
   },
   "outputs": [],
   "source": [
    "## old database\n",
    "write.table(combined_150k_IID, \"~/UKBiobank/phenotype_files/hearing_impairment/080421_UKBB_Combined_f2247_f2257_expandedwhite_103732ind_150Kexomes.keep_id\", sep=\"\\t\", row.names=FALSE, col.names=FALSE )"
   ]
  },
  {
   "cell_type": "code",
   "execution_count": 88,
   "id": "374a055b-dc71-4c29-a635-535bd2d0917f",
   "metadata": {
    "kernel": "R"
   },
   "outputs": [],
   "source": [
    "## new database\n",
    "write.table(combined_150k_IID, \"~/UKBiobank/results/083021_PCA_results/090321_UKBB_Combined_f2247_f2257_expandedwhite_102133ind_150Kexomes.keep_id\", sep=\"\\t\", row.names=FALSE, col.names=FALSE )"
   ]
  },
  {
   "cell_type": "code",
   "execution_count": null,
   "id": "53931539-84ec-4829-bf99-5e12d27932bc",
   "metadata": {
    "kernel": "R"
   },
   "outputs": [],
   "source": [
    "#There are 10658 cases in the 50K group and 22741 controls\n",
    "combined_50k[, .N, by=.(f2247_f2257)]\n",
    "#There are 28391 cases in the 50K group and 75341 controls\n",
    "combined_150k[, .N, by=.(f2247_f2257)]"
   ]
  },
  {
   "cell_type": "markdown",
   "id": "c4747fa4-19d7-49ef-9d28-6a6449f3222c",
   "metadata": {
    "kernel": "R"
   },
   "source": [
    "## PCA"
   ]
  },
  {
   "cell_type": "code",
   "execution_count": 60,
   "id": "a1619117-8b58-44a1-a4b3-55b978ee9641",
   "metadata": {
    "kernel": "R"
   },
   "outputs": [],
   "source": [
    "## old database\n",
    "combined_pca_all <- read.table(\"~/UKBiobank/results/080621_pca_genoarray_HI/080421_UKBB_Combined_f2247_f2257_expandedwhite_39049cases_98082ctrl.phenopca\", sep='\\t', header=TRUE)"
   ]
  },
  {
   "cell_type": "code",
   "execution_count": 89,
   "id": "66e7e60f-7297-4343-96cc-0109ec26adf8",
   "metadata": {
    "kernel": "R"
   },
   "outputs": [],
   "source": [
    "## new database\n",
    "combined_pca_all <- read.table(\"~/UKBiobank/results/083021_PCA_results/090321_UKBB_Combined_f2247_f2257_expandedwhite_38410cases_96601ctrl.phenopca\", sep='\\t', header=TRUE)"
   ]
  },
  {
   "cell_type": "code",
   "execution_count": 90,
   "id": "cea470d6-f58f-4b97-b54f-8dec1771ea68",
   "metadata": {
    "kernel": "R"
   },
   "outputs": [
    {
     "data": {
      "text/html": [
       "32878"
      ],
      "text/latex": [
       "32878"
      ],
      "text/markdown": [
       "32878"
      ],
      "text/plain": [
       "[1] 32878"
      ]
     },
     "metadata": {},
     "output_type": "display_data"
    }
   ],
   "source": [
    "combined_50k_pca <- setDT(combined_pca_all)[IID %chin% ind50$IID]\n",
    "nrow(combined_50k_pca)"
   ]
  },
  {
   "cell_type": "code",
   "execution_count": 62,
   "id": "555ec590-4f3a-47d9-8f6d-65c04850bafb",
   "metadata": {
    "kernel": "R"
   },
   "outputs": [],
   "source": [
    "combined_50k_pca <-  combined_50k_pca %>%\n",
    "    select(\"FID\", \"IID\", 'ethnicity')"
   ]
  },
  {
   "cell_type": "code",
   "execution_count": 62,
   "id": "21bfa077-5fbd-4677-adb8-4e430037a608",
   "metadata": {
    "kernel": "R"
   },
   "outputs": [],
   "source": [
    "## old database\n",
    "write.table(combined_50k_pca, \"~/UKBiobank/results/080621_pca_genoarray_HI/080421_UKBB_Combined_f2247_f2257_expandedwhite_33399ind_50K.phenopca\", sep=\"\\t\", row.names=FALSE, col.names=TRUE )"
   ]
  },
  {
   "cell_type": "code",
   "execution_count": 91,
   "id": "728c21a4-f455-4b48-9ca7-fd9d3017bd87",
   "metadata": {
    "kernel": "R"
   },
   "outputs": [],
   "source": [
    "## new database\n",
    "write.table(combined_50k_pca, \"~/UKBiobank/results/083021_PCA_results/090321_UKBB_Combined_f2247_f2257_expandedwhite_32878ind_50K.phenopca\", sep=\"\\t\", row.names=FALSE, col.names=TRUE )"
   ]
  },
  {
   "cell_type": "code",
   "execution_count": 92,
   "id": "98a62bcc-90de-410e-bad5-2f5c95011304",
   "metadata": {
    "kernel": "R"
   },
   "outputs": [
    {
     "data": {
      "text/html": [
       "102133"
      ],
      "text/latex": [
       "102133"
      ],
      "text/markdown": [
       "102133"
      ],
      "text/plain": [
       "[1] 102133"
      ]
     },
     "metadata": {},
     "output_type": "display_data"
    }
   ],
   "source": [
    "combined_150k_pca <- setDT(combined_pca_all)[!IID %chin% ind50$IID]\n",
    "nrow(combined_150k_pca)"
   ]
  },
  {
   "cell_type": "code",
   "execution_count": 93,
   "id": "9f342105-62e7-4fc0-a24c-4b616de37fd9",
   "metadata": {
    "kernel": "R"
   },
   "outputs": [],
   "source": [
    "combined_150k_pca <-  combined_150k_pca %>%\n",
    "    select(\"FID\", \"IID\", 'ethnicity')"
   ]
  },
  {
   "cell_type": "code",
   "execution_count": 64,
   "id": "39839b8f-b781-4dbf-b1f8-5a74b3a9d543",
   "metadata": {
    "kernel": "R"
   },
   "outputs": [],
   "source": [
    "## old database\n",
    "write.table(combined_150k_pca, \"~/UKBiobank/results/080621_pca_genoarray_HI/080421_UKBB_Combined_f2247_f2257_expandedwhite_103732ind_150K.phenopca\", sep=\"\\t\", row.names=FALSE, col.names=TRUE )"
   ]
  },
  {
   "cell_type": "code",
   "execution_count": 94,
   "id": "f476d900-b4c0-4fa0-b60d-88c63fdf6bfa",
   "metadata": {
    "kernel": "R"
   },
   "outputs": [],
   "source": [
    "## new database\n",
    "write.table(combined_150k_pca, \"~/UKBiobank/results/083021_PCA_results/090321_UKBB_Combined_f2247_f2257_expandedwhite_102133ind_150K.phenopca\", sep=\"\\t\", row.names=FALSE, col.names=TRUE )"
   ]
  },
  {
   "cell_type": "markdown",
   "id": "cff5c100-3d35-4d30-aa2a-2c74bdc19e60",
   "metadata": {
    "kernel": "R"
   },
   "source": [
    "## Phenotype file"
   ]
  },
  {
   "cell_type": "code",
   "execution_count": 113,
   "id": "eb2cf096-aa5a-4bf7-a087-9499284abc56",
   "metadata": {
    "kernel": "R"
   },
   "outputs": [],
   "source": [
    "## old database\n",
    "combined_pheno_all <- read.table(\"~/UKBiobank/phenotype_files/hearing_impairment/080421_UKBB_Combined_f2247_f2257_expandedwhite_39049cases_98082ctrl\", sep='\\t', header=TRUE)"
   ]
  },
  {
   "cell_type": "code",
   "execution_count": 129,
   "id": "8e964512-792f-4e97-9aed-7bfd041cf380",
   "metadata": {
    "kernel": "R"
   },
   "outputs": [],
   "source": [
    "## new database\n",
    "combined_pheno_all <- read.table(\"~/UKBiobank/phenotype_files/hearing_impairment/090321_UKBB_Combined_f2247_f2257_expandedwhite_38410cases_96601ctrl\", sep='\\t', header=TRUE)"
   ]
  },
  {
   "cell_type": "code",
   "execution_count": 130,
   "id": "e8b11c95-c7a0-4064-963e-9d9855cb4484",
   "metadata": {
    "kernel": "R"
   },
   "outputs": [],
   "source": [
    "combined_pheno_all <- combined_pheno_all %>%\n",
    "    select(\"FID\", \"IID\", \"sex\", \"f2247_f2257\",\"age\")"
   ]
  },
  {
   "cell_type": "code",
   "execution_count": 123,
   "id": "c797615f-73ba-4c12-94a8-a2d145d14887",
   "metadata": {
    "kernel": "R"
   },
   "outputs": [],
   "source": [
    "## old database\n",
    "combined_pca_50K <- read.table(\"~/UKBiobank/results/080621_pca_genoarray_HI/090721_f2247_f2257_50K/080421_UKBB_Combined_f2247_f2257_expandedwhite_33399ind_50K.090721_f2247_f2257_50K.pca.txt\", sep=\"\\t\", header=TRUE)"
   ]
  },
  {
   "cell_type": "code",
   "execution_count": 131,
   "id": "bb8bee23-7ee4-45f0-b773-603310737908",
   "metadata": {
    "kernel": "R"
   },
   "outputs": [],
   "source": [
    "## new database\n",
    "combined_pca_50K <- read.table(\"~/UKBiobank/results/083021_PCA_results/091421_combined_f2247_f2257_50Kexomes_pca/090321_UKBB_Combined_f2247_f2257_expandedwhite_32878ind_50K.091421_combined_f2247_f2257_50Kexomes_pca.pca.txt\", sep=\"\\t\", header=TRUE)"
   ]
  },
  {
   "cell_type": "code",
   "execution_count": 132,
   "id": "737017c6-8955-4873-aff3-f1773b5fefd9",
   "metadata": {
    "kernel": "R"
   },
   "outputs": [
    {
     "data": {
      "text/html": [
       "32878"
      ],
      "text/latex": [
       "32878"
      ],
      "text/markdown": [
       "32878"
      ],
      "text/plain": [
       "[1] 32878"
      ]
     },
     "metadata": {},
     "output_type": "display_data"
    }
   ],
   "source": [
    "combined_pheno_50K <- merge(combined_pheno_all,combined_pca_50K,by=c(\"FID\",\"IID\") )\n",
    "combined_pheno_50K <- combined_pheno_50K %>%\n",
    "    select(\"FID\", \"IID\", \"sex\", \"f2247_f2257\",\"age\", \"PC1\", \"PC2\")\n",
    "nrow(combined_pheno_50K)"
   ]
  },
  {
   "cell_type": "code",
   "execution_count": 126,
   "id": "6a54b105-07f7-4f91-bd94-5e7760125b8e",
   "metadata": {
    "kernel": "R"
   },
   "outputs": [
    {
     "data": {
      "text/html": [
       "33399"
      ],
      "text/latex": [
       "33399"
      ],
      "text/markdown": [
       "33399"
      ],
      "text/plain": [
       "[1] 33399"
      ]
     },
     "metadata": {},
     "output_type": "display_data"
    }
   ],
   "source": [
    "write.table(combined_pheno_50K, \"~/UKBiobank/phenotype_files/hearing_impairment/080421_UKBB_Combined_f2247_f2257_expandedwhite_33399ind_50K.tsv\", sep=\"\\t\", row.names=FALSE, col.names=TRUE, quote=FALSE )"
   ]
  },
  {
   "cell_type": "code",
   "execution_count": 133,
   "id": "4983ad46-616f-42ed-b056-208cf51fe231",
   "metadata": {
    "kernel": "R"
   },
   "outputs": [],
   "source": [
    "write.table(combined_pheno_50K, \"~/UKBiobank/phenotype_files/hearing_impairment/090321_UKBB_Combined_f2247_f2257_expandedwhite_32878ind_50K.tsv\", sep=\"\\t\", row.names=FALSE, col.names=TRUE, quote=FALSE )"
   ]
  },
  {
   "cell_type": "code",
   "execution_count": 127,
   "id": "7766df04-80dc-4cbd-9a62-0f86f4c1d348",
   "metadata": {
    "kernel": "R"
   },
   "outputs": [],
   "source": [
    "## old database\n",
    "combined_pca_150K <- read.table(\"~/UKBiobank/results/080621_pca_genoarray_HI/090721_f2247_f2257_150K/080421_UKBB_Combined_f2247_f2257_expandedwhite_103732ind_150K.090721_f2247_f2257_150K.pca.txt\", sep=\"\\t\", header=TRUE)"
   ]
  },
  {
   "cell_type": "code",
   "execution_count": 138,
   "id": "74745dad-6b76-4959-8620-5d554ec0d5bc",
   "metadata": {
    "kernel": "R"
   },
   "outputs": [],
   "source": [
    "## new database\n",
    "combined_pca_150K <- read.table(\"~/UKBiobank/results/083021_PCA_results/091421_combined_f2247_f2257_150Kexomes_pca/090321_UKBB_Combined_f2247_f2257_expandedwhite_102133ind_150K.091421_combined_f2247_f2257_150Kexomes_pca.pca.txt\", sep=\"\\t\", header=TRUE)"
   ]
  },
  {
   "cell_type": "code",
   "execution_count": 139,
   "id": "34caa522-d6dc-4510-b59d-9eb93fc68c09",
   "metadata": {
    "kernel": "R"
   },
   "outputs": [
    {
     "data": {
      "text/html": [
       "102133"
      ],
      "text/latex": [
       "102133"
      ],
      "text/markdown": [
       "102133"
      ],
      "text/plain": [
       "[1] 102133"
      ]
     },
     "metadata": {},
     "output_type": "display_data"
    }
   ],
   "source": [
    "combined_pheno_150K <- merge(combined_pheno_all,combined_pca_150K,by=c(\"FID\",\"IID\") )\n",
    "combined_pheno_150K <- combined_pheno_150K %>%\n",
    "    select(\"FID\", \"IID\", \"sex\", \"f2247_f2257\",\"age\", \"PC1\", \"PC2\")\n",
    "nrow(combined_pheno_150K)"
   ]
  },
  {
   "cell_type": "code",
   "execution_count": 129,
   "id": "5dd73235-1c3d-4490-98a1-d5d58cd6b8b0",
   "metadata": {
    "kernel": "R"
   },
   "outputs": [
    {
     "data": {
      "text/html": [
       "103732"
      ],
      "text/latex": [
       "103732"
      ],
      "text/markdown": [
       "103732"
      ],
      "text/plain": [
       "[1] 103732"
      ]
     },
     "metadata": {},
     "output_type": "display_data"
    }
   ],
   "source": [
    "write.table(combined_pheno_150K, \"~/UKBiobank/phenotype_files/hearing_impairment/080421_UKBB_Combined_f2247_f2257_expandedwhite_103732ind_150K.tsv\", sep=\"\\t\", row.names=FALSE, col.names=TRUE, quote=FALSE )"
   ]
  },
  {
   "cell_type": "code",
   "execution_count": 140,
   "id": "9b9796b8-25c1-4a0a-8a6e-197fb266d105",
   "metadata": {
    "kernel": "R"
   },
   "outputs": [],
   "source": [
    "write.table(combined_pheno_150K, \"~/UKBiobank/phenotype_files/hearing_impairment/090321_UKBB_Combined_f2247_f2257_expandedwhite_102133ind_150K.tsv\", sep=\"\\t\", row.names=FALSE, col.names=TRUE, quote=FALSE )"
   ]
  },
  {
   "cell_type": "markdown",
   "id": "b6e002a3-c2c5-4f4f-934d-d38168aaa95d",
   "metadata": {
    "kernel": "R"
   },
   "source": [
    "## Analyze number of individuals with both exome data and genotype array data Qc'ed by Megan"
   ]
  },
  {
   "cell_type": "code",
   "execution_count": null,
   "id": "5a00be97-8c64-4807-a32a-8f53737c9135",
   "metadata": {
    "kernel": "R"
   },
   "outputs": [],
   "source": [
    "exome_fam <- read.table('~/UKBiobank_Yale_transfer/ukb28374_exomedata/exome_data_OCT2020/ukb23155_s200631.fam')\n",
    "colnames(exome_fam) <- c(\"FID\", \"IID\", \"fatherID\", \"motherID\", \"sex\", \"phenotype\")"
   ]
  },
  {
   "cell_type": "code",
   "execution_count": null,
   "id": "a9404f5b-7d3e-429b-880f-f6f042b5d7a7",
   "metadata": {
    "kernel": "R"
   },
   "outputs": [],
   "source": [
    "head(exome_fam)"
   ]
  },
  {
   "cell_type": "code",
   "execution_count": null,
   "id": "06059af2-4c9c-4432-a5f3-68beee313ca5",
   "metadata": {
    "kernel": "R"
   },
   "outputs": [],
   "source": [
    "genotype_fam <- read.table('~/UKBiobank_Yale_transfer/pleiotropy_geneticfiles/UKB_expandedwhite_qcgenotypefiles/UKB_expandedwhiteonly_phenotypeindepqc_410905indiv_528206snps_102720.fam')\n",
    "colnames(genotype_fam) <- c(\"FID\", \"IID\", \"fatherID\", \"motherID\", \"sex\", \"phenotype\")"
   ]
  },
  {
   "cell_type": "code",
   "execution_count": null,
   "id": "73e87b48-6661-4e33-ab65-38d423b7a5b8",
   "metadata": {
    "kernel": "R"
   },
   "outputs": [],
   "source": [
    "head(genotype_fam)"
   ]
  },
  {
   "cell_type": "code",
   "execution_count": null,
   "id": "712945b5-4dc8-4087-90da-e55e30878573",
   "metadata": {
    "kernel": "R"
   },
   "outputs": [],
   "source": [
    "exomed_wtih_genoarray <- setDT(exome_fam)[IID %chin% genotype_fam$IID]"
   ]
  },
  {
   "cell_type": "code",
   "execution_count": null,
   "id": "f5c40e0d-ddeb-4cc3-9f2f-e7d7e9131cde",
   "metadata": {
    "kernel": "R"
   },
   "outputs": [],
   "source": [
    "nrow(exomed_wtih_genoarray)"
   ]
  },
  {
   "cell_type": "code",
   "execution_count": null,
   "id": "d05042f4-dbb2-4f3f-9b48-760b5268184b",
   "metadata": {
    "kernel": "R"
   },
   "outputs": [],
   "source": [
    "white_exome_fam <- read.table('~/UKBiobank_Yale_transfer/pleiotropy_R01/ukb43978_OCT2020/dc2325_phenotypes/030821_ukb42495_exomed_white_189010ind')\n",
    "colnames(white_exome_fam) <- c(\"FID\", \"IID\")"
   ]
  },
  {
   "cell_type": "code",
   "execution_count": null,
   "id": "03695f21-e91b-4bdc-8cf8-5d5312db2858",
   "metadata": {
    "kernel": "R"
   },
   "outputs": [],
   "source": [
    "exomed_white_genoarray <- setDT(white_exome_fam)[IID %chin% genotype_fam$IID]"
   ]
  },
  {
   "cell_type": "code",
   "execution_count": null,
   "id": "65327e40-ace2-4268-99a8-d830951b3cb3",
   "metadata": {
    "kernel": "R"
   },
   "outputs": [],
   "source": [
    "nrow(exomed_white_genoarray)"
   ]
  },
  {
   "cell_type": "markdown",
   "id": "35e0182b-9577-4469-a79b-a67300601626",
   "metadata": {
    "kernel": "R"
   },
   "source": [
    "## 09-08-21 New database analysis"
   ]
  },
  {
   "cell_type": "markdown",
   "id": "ee47cefb-8d77-4f40-8e3c-80455d71c3a9",
   "metadata": {
    "kernel": "R"
   },
   "source": [
    "## Add the PC's to the phenoFiles"
   ]
  },
  {
   "cell_type": "code",
   "execution_count": 31,
   "id": "c8a1aaf3-5e41-4340-a4e7-4c878af7b0e2",
   "metadata": {
    "kernel": "R"
   },
   "outputs": [],
   "source": [
    "f3393_pheno_090821 <- read.table(\"~/UKBiobank/phenotype_files/hearing_impairment/090321_UKBB_Hearing_aid_f3393_expandedwhite_6436cases_96601ctrl\", sep='\\t', header=TRUE)\n",
    "f3393_pca_090821 <- read.table(\"~/UKBiobank/results/083021_PCA_results/090821_f3393_pca/090321_UKBB_Hearing_aid_f3393_expandedwhite_6436cases_96601ctrl.090821_f3393_pca.pca.txt\", sep=\"\\t\", header=TRUE)\n",
    "\n",
    "f3393 <- merge(x = f3393_pheno_090821, y = f3393_pca_090821[ , c(\"FID\", \"PC1\", \"PC2\")], by = \"FID\", all.x=TRUE)\n",
    "write.table(f3393, \"~/UKBiobank/phenotype_files/hearing_impairment/090321_UKBB_Hearing_aid_f3393_expandedwhite_6436cases_96601ctrl_PC1_2.tsv\", sep=\"\\t\", row.names=FALSE, col.names=TRUE, quote=FALSE )"
   ]
  },
  {
   "cell_type": "code",
   "execution_count": 32,
   "id": "274dcf40-eca8-46c8-99ef-af6818e44fc9",
   "metadata": {
    "kernel": "R"
   },
   "outputs": [],
   "source": [
    "f2247_pheno_090821 <- read.table(\"~/UKBiobank/phenotype_files/hearing_impairment/090321_UKBB_Hearing_difficulty_f2247_expandedwhite_45502cases_96601ctrl\", sep='\\t', header=TRUE)\n",
    "f2247_pca_090821 <- read.table(\"~/UKBiobank/results/083021_PCA_results/090821_f2247_pca/090321_UKBB_Hearing_difficulty_f2247_expandedwhite_45502cases_96601ctrl.090821_f2247_pca.pca.txt\", sep=\"\\t\", header=TRUE)\n",
    "\n",
    "f2247 <- merge(x = f2247_pheno_090821 , y = f2247_pca_090821[ , c(\"FID\", \"PC1\", \"PC2\")], by = \"FID\", all.x=TRUE)\n",
    "write.table(f2247, \"~/UKBiobank/phenotype_files/hearing_impairment/090321_UKBB_Hearing_difficulty_f2247_expandedwhite_45502cases_96601ctrl_PC1_2.tsv\", sep=\"\\t\", row.names=FALSE, col.names=TRUE, quote=FALSE )"
   ]
  },
  {
   "cell_type": "code",
   "execution_count": 33,
   "id": "99281854-4ec7-42fd-9a9f-a40c4031eb1b",
   "metadata": {
    "kernel": "R"
   },
   "outputs": [],
   "source": [
    "f2257_pheno_090821 <- read.table(\"~/UKBiobank/phenotype_files/hearing_impairment/090321_UKBB_Hearing_noise_f2257_expandedwhite_65660cases_96601ctrl\", sep='\\t', header=TRUE)\n",
    "f2257_pca_090821 <- read.table(\"~/UKBiobank/results/083021_PCA_results/090821_f2257_pca/090321_UKBB_Hearing_noise_f2257_expandedwhite_65660cases_96601ctrl.090821_f2257_pca.pca.txt\", sep=\"\\t\", header=TRUE)\n",
    "\n",
    "f2257 <- merge(x = f2257_pheno_090821 , y = f2257_pca_090821[ , c(\"FID\", \"PC1\", \"PC2\")], by = \"FID\", all.x=TRUE)\n",
    "write.table(f2257, \"~/UKBiobank/phenotype_files/hearing_impairment/090321_UKBB_Hearing_noise_f2257_expandedwhite_65660cases_96601ctrl_PC1_2.tsv\", sep=\"\\t\", row.names=FALSE, col.names=TRUE, quote=FALSE )"
   ]
  },
  {
   "cell_type": "code",
   "execution_count": 34,
   "id": "fc092868-26fa-40fe-9748-fd89793efb1e",
   "metadata": {
    "kernel": "R"
   },
   "outputs": [],
   "source": [
    "combined_pheno_090821 <- read.table(\"~/UKBiobank/phenotype_files/hearing_impairment/090321_UKBB_Combined_f2247_f2257_expandedwhite_38410cases_96601ctrl\", sep='\\t', header=TRUE)\n",
    "combined_pca_090821 <- read.table(\"~/UKBiobank/results/083021_PCA_results/090821_combined_f2247_f2257_pca/090321_UKBB_Combined_f2247_f2257_expandedwhite_38410cases_96601ctrl.090821_combined_f2247_f2257_pca.pca.txt\", sep=\"\\t\", header=TRUE)\n",
    "\n",
    "combined <- merge(x = combined_pheno_090821 , y = combined_pca_090821[ , c(\"FID\", \"PC1\", \"PC2\")], by = \"FID\", all.x=TRUE)\n",
    "write.table(combined, \"~/UKBiobank/phenotype_files/hearing_impairment/090321_UKBB_Combined_f2247_f2257_expandedwhite_38410cases_96601ctrl_PC1_2.tsv\", sep=\"\\t\", row.names=FALSE, col.names=TRUE, quote=FALSE )"
   ]
  },
  {
   "cell_type": "code",
   "execution_count": null,
   "id": "b589cbca-76c5-424f-85bd-c39deea72813",
   "metadata": {
    "kernel": "Bash"
   },
   "outputs": [],
   "source": []
  }
 ],
 "metadata": {
  "kernelspec": {
   "display_name": "SoS",
   "language": "sos",
   "name": "sos"
  },
  "language_info": {
   "codemirror_mode": "sos",
   "file_extension": ".sos",
   "mimetype": "text/x-sos",
   "name": "sos",
   "nbconvert_exporter": "sos_notebook.converter.SoS_Exporter",
   "pygments_lexer": "sos"
  },
  "sos": {
   "kernels": [
    [
     "Bash",
     "calysto_bash",
     "Bash",
     "#E6EEFF",
     ""
    ],
    [
     "R",
     "ir",
     "R",
     "#DCDCDA",
     "r"
    ]
   ],
   "version": "0.22.6"
  }
 },
 "nbformat": 4,
 "nbformat_minor": 5
}
