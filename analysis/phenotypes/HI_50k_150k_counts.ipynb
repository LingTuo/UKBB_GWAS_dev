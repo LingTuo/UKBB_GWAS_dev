{
 "cells": [
  {
   "cell_type": "markdown",
   "id": "1351637d-8316-43dc-91d7-00100de2233e",
   "metadata": {
    "kernel": "SoS",
    "tags": []
   },
   "source": [
    "# Create the phenotype files for the 50K and the 150K individuals\n",
    "\n",
    "This division obeys the order of the releases and therefore the different exome capture kits that were used to WES every group of individuals "
   ]
  },
  {
   "cell_type": "code",
   "execution_count": 1,
   "id": "676e6936-f461-441e-934a-f75fd4c18cc6",
   "metadata": {
    "kernel": "R",
    "tags": []
   },
   "outputs": [
    {
     "name": "stderr",
     "output_type": "stream",
     "text": [
      "/home/dmc2245/miniconda3/lib/python3.8/site-packages/sos_notebook/kernel.py:1334: DeprecationWarning: Kernel._parent_header is deprecated in ipykernel 6. Use .get_parent()\n",
      "  msg['msg_id'] = self._parent_header['header']['msg_id']\n",
      "── \u001b[1mAttaching packages\u001b[22m ─────────────────────────────────────── tidyverse 1.3.1 ──\n",
      "\n",
      "\u001b[32m✔\u001b[39m \u001b[34mggplot2\u001b[39m 3.3.5     \u001b[32m✔\u001b[39m \u001b[34mpurrr  \u001b[39m 0.3.4\n",
      "\u001b[32m✔\u001b[39m \u001b[34mtibble \u001b[39m 3.1.2     \u001b[32m✔\u001b[39m \u001b[34mdplyr  \u001b[39m 1.0.7\n",
      "\u001b[32m✔\u001b[39m \u001b[34mtidyr  \u001b[39m 1.1.3     \u001b[32m✔\u001b[39m \u001b[34mstringr\u001b[39m 1.4.0\n",
      "\u001b[32m✔\u001b[39m \u001b[34mreadr  \u001b[39m 1.4.0     \u001b[32m✔\u001b[39m \u001b[34mforcats\u001b[39m 0.5.1\n",
      "\n",
      "── \u001b[1mConflicts\u001b[22m ────────────────────────────────────────── tidyverse_conflicts() ──\n",
      "\u001b[31m✖\u001b[39m \u001b[34mdplyr\u001b[39m::\u001b[32mfilter()\u001b[39m masks \u001b[34mstats\u001b[39m::filter()\n",
      "\u001b[31m✖\u001b[39m \u001b[34mdplyr\u001b[39m::\u001b[32mlag()\u001b[39m    masks \u001b[34mstats\u001b[39m::lag()\n",
      "\n",
      "\n",
      "Attaching package: ‘data.table’\n",
      "\n",
      "\n",
      "The following objects are masked from ‘package:dplyr’:\n",
      "\n",
      "    between, first, last\n",
      "\n",
      "\n",
      "The following object is masked from ‘package:purrr’:\n",
      "\n",
      "    transpose\n",
      "\n",
      "\n"
     ]
    }
   ],
   "source": [
    "library(tidyverse)\n",
    "library(data.table)"
   ]
  },
  {
   "cell_type": "code",
   "execution_count": 2,
   "id": "6b34638f-6c0d-4874-9396-51992c1ed557",
   "metadata": {
    "kernel": "R",
    "tags": []
   },
   "outputs": [],
   "source": [
    "ind50 <- read.table(\"~/UKBiobank_Yale_transfer/ukb28374_exomedata/ukb32285_exomespb_chr1_22.fam\")\n",
    "colnames(ind50) <- c(\"FID\", \"IID\", \"fatherID\", \"motherID\", \"sex\", \"phenotype\")"
   ]
  },
  {
   "cell_type": "code",
   "execution_count": 3,
   "id": "a6343bde-fd3f-4859-ac8e-f60c79717bfb",
   "metadata": {
    "kernel": "R"
   },
   "outputs": [
    {
     "data": {
      "text/html": [
       "<table class=\"dataframe\">\n",
       "<caption>A data.frame: 6 x 6</caption>\n",
       "<thead>\n",
       "\t<tr><th></th><th scope=col>FID</th><th scope=col>IID</th><th scope=col>fatherID</th><th scope=col>motherID</th><th scope=col>sex</th><th scope=col>phenotype</th></tr>\n",
       "\t<tr><th></th><th scope=col>&lt;int&gt;</th><th scope=col>&lt;int&gt;</th><th scope=col>&lt;int&gt;</th><th scope=col>&lt;int&gt;</th><th scope=col>&lt;int&gt;</th><th scope=col>&lt;int&gt;</th></tr>\n",
       "</thead>\n",
       "<tbody>\n",
       "\t<tr><th scope=row>1</th><td>5023838</td><td>5023838</td><td>0</td><td>0</td><td>2</td><td>-9</td></tr>\n",
       "\t<tr><th scope=row>2</th><td>1129683</td><td>1129683</td><td>0</td><td>0</td><td>1</td><td>-9</td></tr>\n",
       "\t<tr><th scope=row>3</th><td>4744741</td><td>4744741</td><td>0</td><td>0</td><td>1</td><td>-9</td></tr>\n",
       "\t<tr><th scope=row>4</th><td>1258289</td><td>1258289</td><td>0</td><td>0</td><td>2</td><td>-9</td></tr>\n",
       "\t<tr><th scope=row>5</th><td>1333104</td><td>1333104</td><td>0</td><td>0</td><td>2</td><td>-9</td></tr>\n",
       "\t<tr><th scope=row>6</th><td>2204914</td><td>2204914</td><td>0</td><td>0</td><td>2</td><td>-9</td></tr>\n",
       "</tbody>\n",
       "</table>\n"
      ],
      "text/latex": [
       "A data.frame: 6 x 6\n",
       "\\begin{tabular}{r|llllll}\n",
       "  & FID & IID & fatherID & motherID & sex & phenotype\\\\\n",
       "  & <int> & <int> & <int> & <int> & <int> & <int>\\\\\n",
       "\\hline\n",
       "\t1 & 5023838 & 5023838 & 0 & 0 & 2 & -9\\\\\n",
       "\t2 & 1129683 & 1129683 & 0 & 0 & 1 & -9\\\\\n",
       "\t3 & 4744741 & 4744741 & 0 & 0 & 1 & -9\\\\\n",
       "\t4 & 1258289 & 1258289 & 0 & 0 & 2 & -9\\\\\n",
       "\t5 & 1333104 & 1333104 & 0 & 0 & 2 & -9\\\\\n",
       "\t6 & 2204914 & 2204914 & 0 & 0 & 2 & -9\\\\\n",
       "\\end{tabular}\n"
      ],
      "text/markdown": [
       "\n",
       "A data.frame: 6 x 6\n",
       "\n",
       "| <!--/--> | FID &lt;int&gt; | IID &lt;int&gt; | fatherID &lt;int&gt; | motherID &lt;int&gt; | sex &lt;int&gt; | phenotype &lt;int&gt; |\n",
       "|---|---|---|---|---|---|---|\n",
       "| 1 | 5023838 | 5023838 | 0 | 0 | 2 | -9 |\n",
       "| 2 | 1129683 | 1129683 | 0 | 0 | 1 | -9 |\n",
       "| 3 | 4744741 | 4744741 | 0 | 0 | 1 | -9 |\n",
       "| 4 | 1258289 | 1258289 | 0 | 0 | 2 | -9 |\n",
       "| 5 | 1333104 | 1333104 | 0 | 0 | 2 | -9 |\n",
       "| 6 | 2204914 | 2204914 | 0 | 0 | 2 | -9 |\n",
       "\n"
      ],
      "text/plain": [
       "  FID     IID     fatherID motherID sex phenotype\n",
       "1 5023838 5023838 0        0        2   -9       \n",
       "2 1129683 1129683 0        0        1   -9       \n",
       "3 4744741 4744741 0        0        1   -9       \n",
       "4 1258289 1258289 0        0        2   -9       \n",
       "5 1333104 1333104 0        0        2   -9       \n",
       "6 2204914 2204914 0        0        2   -9       "
      ]
     },
     "metadata": {},
     "output_type": "display_data"
    }
   ],
   "source": [
    "head(ind50)"
   ]
  },
  {
   "cell_type": "markdown",
   "id": "053bb662-9ecd-4310-86f6-bd2b43b67882",
   "metadata": {
    "kernel": "R"
   },
   "source": [
    "## f.3393"
   ]
  },
  {
   "cell_type": "code",
   "execution_count": 4,
   "id": "f9c6f5bf-4aaa-44d8-9548-d79a6eea27c2",
   "metadata": {
    "kernel": "R"
   },
   "outputs": [],
   "source": [
    "f3393_all <- read.table(\"~/UKBiobank/phenotype_files/hearing_impairment/080421_UKBB_Hearing_aid_f3393_expandedwhite_6305cases_98082ctrl\", sep='\\t', header=TRUE)"
   ]
  },
  {
   "cell_type": "code",
   "execution_count": 5,
   "id": "681a16bf-3638-4d37-a1c6-8fda01e610e3",
   "metadata": {
    "kernel": "R"
   },
   "outputs": [
    {
     "data": {
      "text/html": [
       "<table class=\"dataframe\">\n",
       "<caption>A data.frame: 6 x 7</caption>\n",
       "<thead>\n",
       "\t<tr><th></th><th scope=col>FID</th><th scope=col>IID</th><th scope=col>sex</th><th scope=col>f3393</th><th scope=col>age</th><th scope=col>PC1</th><th scope=col>PC2</th></tr>\n",
       "\t<tr><th></th><th scope=col>&lt;int&gt;</th><th scope=col>&lt;int&gt;</th><th scope=col>&lt;int&gt;</th><th scope=col>&lt;int&gt;</th><th scope=col>&lt;dbl&gt;</th><th scope=col>&lt;dbl&gt;</th><th scope=col>&lt;dbl&gt;</th></tr>\n",
       "</thead>\n",
       "<tbody>\n",
       "\t<tr><th scope=row>1</th><td>1001384</td><td>1001384</td><td>1</td><td>1</td><td>61</td><td> 0.0041652227</td><td>-0.003125265</td></tr>\n",
       "\t<tr><th scope=row>2</th><td>1002548</td><td>1002548</td><td>0</td><td>1</td><td>62</td><td>-0.0002583921</td><td>-0.004564628</td></tr>\n",
       "\t<tr><th scope=row>3</th><td>1002888</td><td>1002888</td><td>0</td><td>1</td><td>68</td><td> 0.0071502705</td><td> 0.003755773</td></tr>\n",
       "\t<tr><th scope=row>4</th><td>1002944</td><td>1002944</td><td>0</td><td>1</td><td>65</td><td> 0.0050950104</td><td> 0.007735514</td></tr>\n",
       "\t<tr><th scope=row>5</th><td>1003258</td><td>1003258</td><td>0</td><td>1</td><td>74</td><td> 0.0115617006</td><td> 0.009534029</td></tr>\n",
       "\t<tr><th scope=row>6</th><td>1004843</td><td>1004843</td><td>0</td><td>1</td><td>64</td><td> 0.0105012307</td><td> 0.028492584</td></tr>\n",
       "</tbody>\n",
       "</table>\n"
      ],
      "text/latex": [
       "A data.frame: 6 x 7\n",
       "\\begin{tabular}{r|lllllll}\n",
       "  & FID & IID & sex & f3393 & age & PC1 & PC2\\\\\n",
       "  & <int> & <int> & <int> & <int> & <dbl> & <dbl> & <dbl>\\\\\n",
       "\\hline\n",
       "\t1 & 1001384 & 1001384 & 1 & 1 & 61 &  0.0041652227 & -0.003125265\\\\\n",
       "\t2 & 1002548 & 1002548 & 0 & 1 & 62 & -0.0002583921 & -0.004564628\\\\\n",
       "\t3 & 1002888 & 1002888 & 0 & 1 & 68 &  0.0071502705 &  0.003755773\\\\\n",
       "\t4 & 1002944 & 1002944 & 0 & 1 & 65 &  0.0050950104 &  0.007735514\\\\\n",
       "\t5 & 1003258 & 1003258 & 0 & 1 & 74 &  0.0115617006 &  0.009534029\\\\\n",
       "\t6 & 1004843 & 1004843 & 0 & 1 & 64 &  0.0105012307 &  0.028492584\\\\\n",
       "\\end{tabular}\n"
      ],
      "text/markdown": [
       "\n",
       "A data.frame: 6 x 7\n",
       "\n",
       "| <!--/--> | FID &lt;int&gt; | IID &lt;int&gt; | sex &lt;int&gt; | f3393 &lt;int&gt; | age &lt;dbl&gt; | PC1 &lt;dbl&gt; | PC2 &lt;dbl&gt; |\n",
       "|---|---|---|---|---|---|---|---|\n",
       "| 1 | 1001384 | 1001384 | 1 | 1 | 61 |  0.0041652227 | -0.003125265 |\n",
       "| 2 | 1002548 | 1002548 | 0 | 1 | 62 | -0.0002583921 | -0.004564628 |\n",
       "| 3 | 1002888 | 1002888 | 0 | 1 | 68 |  0.0071502705 |  0.003755773 |\n",
       "| 4 | 1002944 | 1002944 | 0 | 1 | 65 |  0.0050950104 |  0.007735514 |\n",
       "| 5 | 1003258 | 1003258 | 0 | 1 | 74 |  0.0115617006 |  0.009534029 |\n",
       "| 6 | 1004843 | 1004843 | 0 | 1 | 64 |  0.0105012307 |  0.028492584 |\n",
       "\n"
      ],
      "text/plain": [
       "  FID     IID     sex f3393 age PC1           PC2         \n",
       "1 1001384 1001384 1   1     61   0.0041652227 -0.003125265\n",
       "2 1002548 1002548 0   1     62  -0.0002583921 -0.004564628\n",
       "3 1002888 1002888 0   1     68   0.0071502705  0.003755773\n",
       "4 1002944 1002944 0   1     65   0.0050950104  0.007735514\n",
       "5 1003258 1003258 0   1     74   0.0115617006  0.009534029\n",
       "6 1004843 1004843 0   1     64   0.0105012307  0.028492584"
      ]
     },
     "metadata": {},
     "output_type": "display_data"
    }
   ],
   "source": [
    "head(f3393_all)"
   ]
  },
  {
   "cell_type": "code",
   "execution_count": 6,
   "id": "f17ca82d-97f0-4143-a1e3-997294d51da1",
   "metadata": {
    "kernel": "R"
   },
   "outputs": [
    {
     "data": {
      "text/html": [
       "24496"
      ],
      "text/latex": [
       "24496"
      ],
      "text/markdown": [
       "24496"
      ],
      "text/plain": [
       "[1] 24496"
      ]
     },
     "metadata": {},
     "output_type": "display_data"
    }
   ],
   "source": [
    "#library(data.table)\n",
    "f3393_50k <- setDT(f3393_all)[IID %chin% ind50$IID]\n",
    "nrow(f3393_50k)"
   ]
  },
  {
   "cell_type": "code",
   "execution_count": 8,
   "id": "6f2ecbfc-5337-4d83-89ee-0f8e2f0a0806",
   "metadata": {
    "kernel": "R"
   },
   "outputs": [],
   "source": [
    "f3393_50k_IID <-  f3393_50k  %>%\n",
    "    select(\"FID\", \"IID\")"
   ]
  },
  {
   "cell_type": "code",
   "execution_count": 12,
   "id": "03884de3-f29c-4a43-891f-54b415bc45de",
   "metadata": {
    "kernel": "R"
   },
   "outputs": [],
   "source": [
    "write.table(f3393_50k_IID, \"~/UKBiobank/phenotype_files/hearing_impairment/080421_UKBB_Hearing_aid_f3393_expandedwhite_24496ind_50Kexomes.keep_id\", sep=\"\\t\", row.names=FALSE, col.names=FALSE )"
   ]
  },
  {
   "cell_type": "code",
   "execution_count": 13,
   "id": "f8b9b24f-7441-4ea9-9e94-0f8f5e6ffe10",
   "metadata": {
    "kernel": "R"
   },
   "outputs": [
    {
     "data": {
      "text/html": [
       "79891"
      ],
      "text/latex": [
       "79891"
      ],
      "text/markdown": [
       "79891"
      ],
      "text/plain": [
       "[1] 79891"
      ]
     },
     "metadata": {},
     "output_type": "display_data"
    }
   ],
   "source": [
    "f3393_150k <- setDT(f3393_all)[!IID %chin% ind50$IID]\n",
    "nrow(f3393_150k)"
   ]
  },
  {
   "cell_type": "code",
   "execution_count": 15,
   "id": "c71b558a-c32a-46f1-8c84-31d5459f07eb",
   "metadata": {
    "kernel": "R"
   },
   "outputs": [],
   "source": [
    "f3393_150k_IID <- f3393_150k %>%\n",
    "    select(\"FID\", \"IID\")\n",
    "write.table(f3393_150k_IID, \"~/UKBiobank/phenotype_files/hearing_impairment/080421_UKBB_Hearing_aid_f3393_expandedwhite_79891ind_150Kexomes.keep_id\", sep=\"\\t\", row.names=FALSE, col.names=FALSE )"
   ]
  },
  {
   "cell_type": "markdown",
   "id": "0751289e-65d6-4e02-a53d-7deb0f334275",
   "metadata": {
    "kernel": "R"
   },
   "source": [
    "## Number of cases/controls in each set for f.3393"
   ]
  },
  {
   "cell_type": "code",
   "execution_count": null,
   "id": "9f1a0fe9-256f-4d93-ae24-87dbcffa9c5f",
   "metadata": {
    "kernel": "R"
   },
   "outputs": [],
   "source": [
    "#There are 1755 cases in the 50K group and 22741 controls\n",
    "f3393_50k[, .N, by=.(f3393)]\n",
    "#There are 4550 cases in the 50K group and 75341 controls\n",
    "f3393_150k[, .N, by=.(f3393)]"
   ]
  },
  {
   "cell_type": "markdown",
   "id": "852f64dc-629f-457f-8034-cb82b22c99a3",
   "metadata": {
    "kernel": "R"
   },
   "source": [
    "## f.2247"
   ]
  },
  {
   "cell_type": "code",
   "execution_count": 16,
   "id": "cb480192-06a0-44db-8579-c3b2cd5eff98",
   "metadata": {
    "kernel": "R"
   },
   "outputs": [],
   "source": [
    "f2247_all <- read.table(\"~/UKBiobank/phenotype_files/hearing_impairment/080421_UKBB_Hearing_difficulty_f2247_expandedwhite_46237cases_98082ctrl\", sep='\\t', header=TRUE)"
   ]
  },
  {
   "cell_type": "code",
   "execution_count": 17,
   "id": "858e0979-d18b-4d6f-afaf-3b8eddb74033",
   "metadata": {
    "kernel": "R"
   },
   "outputs": [
    {
     "data": {
      "text/html": [
       "<table class=\"dataframe\">\n",
       "<caption>A data.frame: 6 x 7</caption>\n",
       "<thead>\n",
       "\t<tr><th></th><th scope=col>FID</th><th scope=col>IID</th><th scope=col>sex</th><th scope=col>f2247</th><th scope=col>age</th><th scope=col>PC1</th><th scope=col>PC2</th></tr>\n",
       "\t<tr><th></th><th scope=col>&lt;int&gt;</th><th scope=col>&lt;int&gt;</th><th scope=col>&lt;int&gt;</th><th scope=col>&lt;int&gt;</th><th scope=col>&lt;int&gt;</th><th scope=col>&lt;dbl&gt;</th><th scope=col>&lt;dbl&gt;</th></tr>\n",
       "</thead>\n",
       "<tbody>\n",
       "\t<tr><th scope=row>1</th><td>1000198</td><td>1000198</td><td>1</td><td>1</td><td>41</td><td>-0.009705783</td><td>-0.015919600</td></tr>\n",
       "\t<tr><th scope=row>2</th><td>1000396</td><td>1000396</td><td>0</td><td>1</td><td>48</td><td>-0.015745175</td><td>-0.027307706</td></tr>\n",
       "\t<tr><th scope=row>3</th><td>1000494</td><td>1000494</td><td>0</td><td>1</td><td>61</td><td>-0.007001832</td><td> 0.003714742</td></tr>\n",
       "\t<tr><th scope=row>4</th><td>1001076</td><td>1001076</td><td>0</td><td>1</td><td>69</td><td>-0.006303143</td><td>-0.017444598</td></tr>\n",
       "\t<tr><th scope=row>5</th><td>1001123</td><td>1001123</td><td>1</td><td>1</td><td>62</td><td>-0.007163096</td><td> 0.009993393</td></tr>\n",
       "\t<tr><th scope=row>6</th><td>1001196</td><td>1001196</td><td>0</td><td>1</td><td>59</td><td>-0.016574827</td><td>-0.035829467</td></tr>\n",
       "</tbody>\n",
       "</table>\n"
      ],
      "text/latex": [
       "A data.frame: 6 x 7\n",
       "\\begin{tabular}{r|lllllll}\n",
       "  & FID & IID & sex & f2247 & age & PC1 & PC2\\\\\n",
       "  & <int> & <int> & <int> & <int> & <int> & <dbl> & <dbl>\\\\\n",
       "\\hline\n",
       "\t1 & 1000198 & 1000198 & 1 & 1 & 41 & -0.009705783 & -0.015919600\\\\\n",
       "\t2 & 1000396 & 1000396 & 0 & 1 & 48 & -0.015745175 & -0.027307706\\\\\n",
       "\t3 & 1000494 & 1000494 & 0 & 1 & 61 & -0.007001832 &  0.003714742\\\\\n",
       "\t4 & 1001076 & 1001076 & 0 & 1 & 69 & -0.006303143 & -0.017444598\\\\\n",
       "\t5 & 1001123 & 1001123 & 1 & 1 & 62 & -0.007163096 &  0.009993393\\\\\n",
       "\t6 & 1001196 & 1001196 & 0 & 1 & 59 & -0.016574827 & -0.035829467\\\\\n",
       "\\end{tabular}\n"
      ],
      "text/markdown": [
       "\n",
       "A data.frame: 6 x 7\n",
       "\n",
       "| <!--/--> | FID &lt;int&gt; | IID &lt;int&gt; | sex &lt;int&gt; | f2247 &lt;int&gt; | age &lt;int&gt; | PC1 &lt;dbl&gt; | PC2 &lt;dbl&gt; |\n",
       "|---|---|---|---|---|---|---|---|\n",
       "| 1 | 1000198 | 1000198 | 1 | 1 | 41 | -0.009705783 | -0.015919600 |\n",
       "| 2 | 1000396 | 1000396 | 0 | 1 | 48 | -0.015745175 | -0.027307706 |\n",
       "| 3 | 1000494 | 1000494 | 0 | 1 | 61 | -0.007001832 |  0.003714742 |\n",
       "| 4 | 1001076 | 1001076 | 0 | 1 | 69 | -0.006303143 | -0.017444598 |\n",
       "| 5 | 1001123 | 1001123 | 1 | 1 | 62 | -0.007163096 |  0.009993393 |\n",
       "| 6 | 1001196 | 1001196 | 0 | 1 | 59 | -0.016574827 | -0.035829467 |\n",
       "\n"
      ],
      "text/plain": [
       "  FID     IID     sex f2247 age PC1          PC2         \n",
       "1 1000198 1000198 1   1     41  -0.009705783 -0.015919600\n",
       "2 1000396 1000396 0   1     48  -0.015745175 -0.027307706\n",
       "3 1000494 1000494 0   1     61  -0.007001832  0.003714742\n",
       "4 1001076 1001076 0   1     69  -0.006303143 -0.017444598\n",
       "5 1001123 1001123 1   1     62  -0.007163096  0.009993393\n",
       "6 1001196 1001196 0   1     59  -0.016574827 -0.035829467"
      ]
     },
     "metadata": {},
     "output_type": "display_data"
    }
   ],
   "source": [
    "head(f2247_all)"
   ]
  },
  {
   "cell_type": "code",
   "execution_count": 18,
   "id": "79d23f62-c075-49ae-83f4-0c36af39436a",
   "metadata": {
    "kernel": "R"
   },
   "outputs": [
    {
     "data": {
      "text/html": [
       "35147"
      ],
      "text/latex": [
       "35147"
      ],
      "text/markdown": [
       "35147"
      ],
      "text/plain": [
       "[1] 35147"
      ]
     },
     "metadata": {},
     "output_type": "display_data"
    }
   ],
   "source": [
    "f2247_50k <- setDT(f2247_all)[IID %chin% ind50$IID]\n",
    "nrow(f2247_50k)"
   ]
  },
  {
   "cell_type": "code",
   "execution_count": 20,
   "id": "34513712-3279-45a4-8792-25102cfde969",
   "metadata": {
    "kernel": "R"
   },
   "outputs": [],
   "source": [
    "f2247_50k_IID <- f2247_50k %>%\n",
    "    select(\"FID\", \"IID\")\n",
    "write.table(f2247_50k_IID, \"~/UKBiobank/phenotype_files/hearing_impairment/080421_UKBB_Hearing_difficulty_f2247_expandedwhite_35147ind_50Kexomes.keep_id\", sep=\"\\t\", row.names=FALSE, col.names=FALSE )"
   ]
  },
  {
   "cell_type": "code",
   "execution_count": 19,
   "id": "ae5e558f-8c68-4f30-ad36-fe23bd55b80c",
   "metadata": {
    "kernel": "R"
   },
   "outputs": [
    {
     "data": {
      "text/html": [
       "109172"
      ],
      "text/latex": [
       "109172"
      ],
      "text/markdown": [
       "109172"
      ],
      "text/plain": [
       "[1] 109172"
      ]
     },
     "metadata": {},
     "output_type": "display_data"
    }
   ],
   "source": [
    "f2247_150k <- setDT(f2247_all)[!IID %chin% ind50$IID]\n",
    "nrow(f2247_150k)"
   ]
  },
  {
   "cell_type": "code",
   "execution_count": 26,
   "id": "7a76293e-67a5-458c-9936-d9280bdb3dc5",
   "metadata": {
    "kernel": "R"
   },
   "outputs": [],
   "source": [
    "f2247_150k_IID <- f2247_150k %>%\n",
    "    select(\"FID\", \"IID\")\n",
    "write.table(f2247_150k_IID, \"~/UKBiobank/phenotype_files/hearing_impairment/080421_UKBB_Hearing_difficulty_f2247_expandedwhite_109172ind_150Kexomes.keep_id\", sep=\"\\t\", row.names=FALSE, col.names=FALSE )"
   ]
  },
  {
   "cell_type": "markdown",
   "id": "e7a92aaf-6b75-4341-97fb-8515f734c20e",
   "metadata": {
    "kernel": "R"
   },
   "source": [
    "## Number of cases/controls in each set for f.2247"
   ]
  },
  {
   "cell_type": "code",
   "execution_count": null,
   "id": "bc852a48-512f-4051-ae81-c076e5f620e4",
   "metadata": {
    "kernel": "R"
   },
   "outputs": [],
   "source": [
    "#There are 12406 cases in the 50K group and 22741 controls\n",
    "f2247_50k[, .N, by=.(f2247)]\n",
    "#There are 33831 cases in the 50K group and 75341 controls\n",
    "f2247_150k[, .N, by=.(f2247)]"
   ]
  },
  {
   "cell_type": "markdown",
   "id": "3eb987d7-ef5e-4e5f-9b84-c6f16cf61898",
   "metadata": {
    "kernel": "R"
   },
   "source": [
    "# f.2257"
   ]
  },
  {
   "cell_type": "code",
   "execution_count": 22,
   "id": "8c47b7c4-9545-4dbb-9cc9-6afcd7afe77f",
   "metadata": {
    "kernel": "R"
   },
   "outputs": [],
   "source": [
    "f2257_all <- read.table(\"~/UKBiobank/phenotype_files/hearing_impairment/080421_UKBB_Hearing_noise_f2257_expandedwhite_66656cases_98082ctrl\", sep='\\t', header=TRUE)"
   ]
  },
  {
   "cell_type": "code",
   "execution_count": 23,
   "id": "b0a636b3-86f2-4141-9143-8ab0368329ed",
   "metadata": {
    "kernel": "R"
   },
   "outputs": [
    {
     "data": {
      "text/html": [
       "<table class=\"dataframe\">\n",
       "<caption>A data.frame: 6 x 7</caption>\n",
       "<thead>\n",
       "\t<tr><th></th><th scope=col>FID</th><th scope=col>IID</th><th scope=col>sex</th><th scope=col>f2257</th><th scope=col>age</th><th scope=col>PC1</th><th scope=col>PC2</th></tr>\n",
       "\t<tr><th></th><th scope=col>&lt;int&gt;</th><th scope=col>&lt;int&gt;</th><th scope=col>&lt;int&gt;</th><th scope=col>&lt;int&gt;</th><th scope=col>&lt;int&gt;</th><th scope=col>&lt;dbl&gt;</th><th scope=col>&lt;dbl&gt;</th></tr>\n",
       "</thead>\n",
       "<tbody>\n",
       "\t<tr><th scope=row>1</th><td>1000035</td><td>1000035</td><td>0</td><td>1</td><td>63</td><td>-0.016987240</td><td> 0.027923565</td></tr>\n",
       "\t<tr><th scope=row>2</th><td>1000198</td><td>1000198</td><td>1</td><td>1</td><td>41</td><td>-0.010169985</td><td> 0.017843611</td></tr>\n",
       "\t<tr><th scope=row>3</th><td>1000304</td><td>1000304</td><td>1</td><td>1</td><td>56</td><td>-0.012853323</td><td> 0.044162524</td></tr>\n",
       "\t<tr><th scope=row>4</th><td>1000396</td><td>1000396</td><td>0</td><td>1</td><td>48</td><td>-0.015833954</td><td> 0.030103292</td></tr>\n",
       "\t<tr><th scope=row>5</th><td>1000494</td><td>1000494</td><td>0</td><td>1</td><td>61</td><td>-0.007080360</td><td>-0.003728917</td></tr>\n",
       "\t<tr><th scope=row>6</th><td>1000551</td><td>1000551</td><td>0</td><td>1</td><td>68</td><td>-0.005453867</td><td> 0.019543734</td></tr>\n",
       "</tbody>\n",
       "</table>\n"
      ],
      "text/latex": [
       "A data.frame: 6 x 7\n",
       "\\begin{tabular}{r|lllllll}\n",
       "  & FID & IID & sex & f2257 & age & PC1 & PC2\\\\\n",
       "  & <int> & <int> & <int> & <int> & <int> & <dbl> & <dbl>\\\\\n",
       "\\hline\n",
       "\t1 & 1000035 & 1000035 & 0 & 1 & 63 & -0.016987240 &  0.027923565\\\\\n",
       "\t2 & 1000198 & 1000198 & 1 & 1 & 41 & -0.010169985 &  0.017843611\\\\\n",
       "\t3 & 1000304 & 1000304 & 1 & 1 & 56 & -0.012853323 &  0.044162524\\\\\n",
       "\t4 & 1000396 & 1000396 & 0 & 1 & 48 & -0.015833954 &  0.030103292\\\\\n",
       "\t5 & 1000494 & 1000494 & 0 & 1 & 61 & -0.007080360 & -0.003728917\\\\\n",
       "\t6 & 1000551 & 1000551 & 0 & 1 & 68 & -0.005453867 &  0.019543734\\\\\n",
       "\\end{tabular}\n"
      ],
      "text/markdown": [
       "\n",
       "A data.frame: 6 x 7\n",
       "\n",
       "| <!--/--> | FID &lt;int&gt; | IID &lt;int&gt; | sex &lt;int&gt; | f2257 &lt;int&gt; | age &lt;int&gt; | PC1 &lt;dbl&gt; | PC2 &lt;dbl&gt; |\n",
       "|---|---|---|---|---|---|---|---|\n",
       "| 1 | 1000035 | 1000035 | 0 | 1 | 63 | -0.016987240 |  0.027923565 |\n",
       "| 2 | 1000198 | 1000198 | 1 | 1 | 41 | -0.010169985 |  0.017843611 |\n",
       "| 3 | 1000304 | 1000304 | 1 | 1 | 56 | -0.012853323 |  0.044162524 |\n",
       "| 4 | 1000396 | 1000396 | 0 | 1 | 48 | -0.015833954 |  0.030103292 |\n",
       "| 5 | 1000494 | 1000494 | 0 | 1 | 61 | -0.007080360 | -0.003728917 |\n",
       "| 6 | 1000551 | 1000551 | 0 | 1 | 68 | -0.005453867 |  0.019543734 |\n",
       "\n"
      ],
      "text/plain": [
       "  FID     IID     sex f2257 age PC1          PC2         \n",
       "1 1000035 1000035 0   1     63  -0.016987240  0.027923565\n",
       "2 1000198 1000198 1   1     41  -0.010169985  0.017843611\n",
       "3 1000304 1000304 1   1     56  -0.012853323  0.044162524\n",
       "4 1000396 1000396 0   1     48  -0.015833954  0.030103292\n",
       "5 1000494 1000494 0   1     61  -0.007080360 -0.003728917\n",
       "6 1000551 1000551 0   1     68  -0.005453867  0.019543734"
      ]
     },
     "metadata": {},
     "output_type": "display_data"
    }
   ],
   "source": [
    "head(f2257_all)"
   ]
  },
  {
   "cell_type": "code",
   "execution_count": 24,
   "id": "063aebbc-a44c-4453-b395-eba383b97720",
   "metadata": {
    "kernel": "R"
   },
   "outputs": [
    {
     "data": {
      "text/html": [
       "39344"
      ],
      "text/latex": [
       "39344"
      ],
      "text/markdown": [
       "39344"
      ],
      "text/plain": [
       "[1] 39344"
      ]
     },
     "metadata": {},
     "output_type": "display_data"
    }
   ],
   "source": [
    "f2257_50k <- setDT(f2257_all)[IID %chin% ind50$IID]\n",
    "nrow(f2257_50k)"
   ]
  },
  {
   "cell_type": "code",
   "execution_count": 27,
   "id": "1a6095d6-bc8f-4534-8058-4939c70c5660",
   "metadata": {
    "kernel": "R"
   },
   "outputs": [],
   "source": [
    "f2257_50k_IID <- f2257_50k %>%\n",
    "    select(\"FID\", \"IID\")\n",
    "write.table(f2257_50k_IID, \"~/UKBiobank/phenotype_files/hearing_impairment/080421_UKBB_Hearing_noise_f2257_expandedwhite_39344ind_50Kexomes.keep_id\", sep=\"\\t\", row.names=FALSE, col.names=FALSE )"
   ]
  },
  {
   "cell_type": "code",
   "execution_count": 25,
   "id": "ad906453-d6ee-4eb7-804a-0982c7d744f9",
   "metadata": {
    "kernel": "R"
   },
   "outputs": [
    {
     "data": {
      "text/html": [
       "125394"
      ],
      "text/latex": [
       "125394"
      ],
      "text/markdown": [
       "125394"
      ],
      "text/plain": [
       "[1] 125394"
      ]
     },
     "metadata": {},
     "output_type": "display_data"
    }
   ],
   "source": [
    "f2257_150k <- setDT(f2257_all)[!IID %chin% ind50$IID]\n",
    "nrow(f2257_150k)"
   ]
  },
  {
   "cell_type": "code",
   "execution_count": 28,
   "id": "8addc4a3-0909-4f0f-8041-5c156699b790",
   "metadata": {
    "kernel": "R"
   },
   "outputs": [],
   "source": [
    "f2257_150k_IID <- f2257_150k %>%\n",
    "    select(\"FID\", \"IID\")\n",
    "write.table(f2257_150k_IID, \"~/UKBiobank/phenotype_files/hearing_impairment/080421_UKBB_Hearing_noise_f2257_expandedwhite_125394ind_150Kexomes.keep_id\", sep=\"\\t\", row.names=FALSE, col.names=FALSE )"
   ]
  },
  {
   "cell_type": "markdown",
   "id": "b2ab5ecf-f0de-4d10-935b-f3e16e91dcfb",
   "metadata": {
    "kernel": "R"
   },
   "source": [
    "## Number of cases/controls in each set for f.2257"
   ]
  },
  {
   "cell_type": "code",
   "execution_count": null,
   "id": "74f1cf69-dbc4-427f-85c5-f6049c051520",
   "metadata": {
    "kernel": "R"
   },
   "outputs": [],
   "source": [
    "#There are 16603 cases in the 50K group and 22741 controls\n",
    "f2257_50k[, .N, by=.(f2257)]\n",
    "#There are 50053 cases in the 50K group and 75341 controls\n",
    "f2257_150k[, .N, by=.(f2257)]"
   ]
  },
  {
   "cell_type": "markdown",
   "id": "5fc50f76-d3ea-4d27-accd-9d16e365aa4a",
   "metadata": {
    "kernel": "R"
   },
   "source": [
    "# Combined f.2247 & f.2257"
   ]
  },
  {
   "cell_type": "code",
   "execution_count": 29,
   "id": "bc71e2e5-68ce-4b8c-a808-4c448223ed60",
   "metadata": {
    "kernel": "R"
   },
   "outputs": [],
   "source": [
    "combined_all <- read.table(\"~/UKBiobank/phenotype_files/hearing_impairment/080421_UKBB_Combined_f2247_f2257_expandedwhite_39049cases_98082ctrl\", sep='\\t', header=TRUE)"
   ]
  },
  {
   "cell_type": "code",
   "execution_count": 30,
   "id": "33f8684d-4af1-4596-beaf-a4890738e925",
   "metadata": {
    "kernel": "R"
   },
   "outputs": [
    {
     "data": {
      "text/html": [
       "<table class=\"dataframe\">\n",
       "<caption>A data.frame: 6 x 7</caption>\n",
       "<thead>\n",
       "\t<tr><th></th><th scope=col>FID</th><th scope=col>IID</th><th scope=col>sex</th><th scope=col>f2247_f2257</th><th scope=col>age</th><th scope=col>PC1</th><th scope=col>PC2</th></tr>\n",
       "\t<tr><th></th><th scope=col>&lt;int&gt;</th><th scope=col>&lt;int&gt;</th><th scope=col>&lt;int&gt;</th><th scope=col>&lt;int&gt;</th><th scope=col>&lt;int&gt;</th><th scope=col>&lt;dbl&gt;</th><th scope=col>&lt;dbl&gt;</th></tr>\n",
       "</thead>\n",
       "<tbody>\n",
       "\t<tr><th scope=row>1</th><td>1000198</td><td>1000198</td><td>1</td><td>1</td><td>41</td><td>-0.009875106</td><td>-0.01747982</td></tr>\n",
       "\t<tr><th scope=row>2</th><td>1000396</td><td>1000396</td><td>0</td><td>1</td><td>48</td><td>-0.015730170</td><td>-0.02904854</td></tr>\n",
       "\t<tr><th scope=row>3</th><td>1000494</td><td>1000494</td><td>0</td><td>1</td><td>61</td><td>-0.006790684</td><td> 0.00361181</td></tr>\n",
       "\t<tr><th scope=row>4</th><td>1001076</td><td>1001076</td><td>0</td><td>1</td><td>69</td><td>-0.006384535</td><td>-0.01788469</td></tr>\n",
       "\t<tr><th scope=row>5</th><td>1001123</td><td>1001123</td><td>1</td><td>1</td><td>62</td><td>-0.007160043</td><td> 0.01125769</td></tr>\n",
       "\t<tr><th scope=row>6</th><td>1001196</td><td>1001196</td><td>0</td><td>1</td><td>59</td><td>-0.016707681</td><td>-0.03818496</td></tr>\n",
       "</tbody>\n",
       "</table>\n"
      ],
      "text/latex": [
       "A data.frame: 6 x 7\n",
       "\\begin{tabular}{r|lllllll}\n",
       "  & FID & IID & sex & f2247\\_f2257 & age & PC1 & PC2\\\\\n",
       "  & <int> & <int> & <int> & <int> & <int> & <dbl> & <dbl>\\\\\n",
       "\\hline\n",
       "\t1 & 1000198 & 1000198 & 1 & 1 & 41 & -0.009875106 & -0.01747982\\\\\n",
       "\t2 & 1000396 & 1000396 & 0 & 1 & 48 & -0.015730170 & -0.02904854\\\\\n",
       "\t3 & 1000494 & 1000494 & 0 & 1 & 61 & -0.006790684 &  0.00361181\\\\\n",
       "\t4 & 1001076 & 1001076 & 0 & 1 & 69 & -0.006384535 & -0.01788469\\\\\n",
       "\t5 & 1001123 & 1001123 & 1 & 1 & 62 & -0.007160043 &  0.01125769\\\\\n",
       "\t6 & 1001196 & 1001196 & 0 & 1 & 59 & -0.016707681 & -0.03818496\\\\\n",
       "\\end{tabular}\n"
      ],
      "text/markdown": [
       "\n",
       "A data.frame: 6 x 7\n",
       "\n",
       "| <!--/--> | FID &lt;int&gt; | IID &lt;int&gt; | sex &lt;int&gt; | f2247_f2257 &lt;int&gt; | age &lt;int&gt; | PC1 &lt;dbl&gt; | PC2 &lt;dbl&gt; |\n",
       "|---|---|---|---|---|---|---|---|\n",
       "| 1 | 1000198 | 1000198 | 1 | 1 | 41 | -0.009875106 | -0.01747982 |\n",
       "| 2 | 1000396 | 1000396 | 0 | 1 | 48 | -0.015730170 | -0.02904854 |\n",
       "| 3 | 1000494 | 1000494 | 0 | 1 | 61 | -0.006790684 |  0.00361181 |\n",
       "| 4 | 1001076 | 1001076 | 0 | 1 | 69 | -0.006384535 | -0.01788469 |\n",
       "| 5 | 1001123 | 1001123 | 1 | 1 | 62 | -0.007160043 |  0.01125769 |\n",
       "| 6 | 1001196 | 1001196 | 0 | 1 | 59 | -0.016707681 | -0.03818496 |\n",
       "\n"
      ],
      "text/plain": [
       "  FID     IID     sex f2247_f2257 age PC1          PC2        \n",
       "1 1000198 1000198 1   1           41  -0.009875106 -0.01747982\n",
       "2 1000396 1000396 0   1           48  -0.015730170 -0.02904854\n",
       "3 1000494 1000494 0   1           61  -0.006790684  0.00361181\n",
       "4 1001076 1001076 0   1           69  -0.006384535 -0.01788469\n",
       "5 1001123 1001123 1   1           62  -0.007160043  0.01125769\n",
       "6 1001196 1001196 0   1           59  -0.016707681 -0.03818496"
      ]
     },
     "metadata": {},
     "output_type": "display_data"
    }
   ],
   "source": [
    "head(combined_all)"
   ]
  },
  {
   "cell_type": "code",
   "execution_count": 31,
   "id": "cd4a3e35-a783-4031-b2ab-6f742af56235",
   "metadata": {
    "kernel": "R"
   },
   "outputs": [
    {
     "data": {
      "text/html": [
       "33399"
      ],
      "text/latex": [
       "33399"
      ],
      "text/markdown": [
       "33399"
      ],
      "text/plain": [
       "[1] 33399"
      ]
     },
     "metadata": {},
     "output_type": "display_data"
    }
   ],
   "source": [
    "combined_50k <- setDT(combined_all)[IID %chin% ind50$IID]\n",
    "nrow(combined_50k)"
   ]
  },
  {
   "cell_type": "code",
   "execution_count": 33,
   "id": "e7e5cd3c-7877-4e2c-8806-02a957bde150",
   "metadata": {
    "kernel": "R"
   },
   "outputs": [],
   "source": [
    "combined_50k_IID <- combined_50k %>%\n",
    "    select(\"FID\", \"IID\")\n",
    "write.table(combined_50k_IID, \"~/UKBiobank/phenotype_files/hearing_impairment/080421_UKBB_Combined_f2247_f2257_expandedwhite_33399ind_50Kexomes.keep_id\", sep=\"\\t\", row.names=FALSE, col.names=FALSE )"
   ]
  },
  {
   "cell_type": "code",
   "execution_count": 32,
   "id": "6ca48533-a64b-4a69-8de8-1760e6d64647",
   "metadata": {
    "kernel": "R"
   },
   "outputs": [
    {
     "data": {
      "text/html": [
       "103732"
      ],
      "text/latex": [
       "103732"
      ],
      "text/markdown": [
       "103732"
      ],
      "text/plain": [
       "[1] 103732"
      ]
     },
     "metadata": {},
     "output_type": "display_data"
    }
   ],
   "source": [
    "combined_150k <- setDT(combined_all)[!IID %chin% ind50$IID]\n",
    "nrow(combined_150k)"
   ]
  },
  {
   "cell_type": "code",
   "execution_count": 34,
   "id": "15feaa22-a113-4687-8292-4a7c52de675a",
   "metadata": {
    "kernel": "R"
   },
   "outputs": [],
   "source": [
    "combined_150k_IID <- combined_150k %>%\n",
    "    select(\"FID\", \"IID\")\n",
    "write.table(combined_150k_IID, \"~/UKBiobank/phenotype_files/hearing_impairment/080421_UKBB_Combined_f2247_f2257_expandedwhite_103732ind_150Kexomes.keep_id\", sep=\"\\t\", row.names=FALSE, col.names=FALSE )"
   ]
  },
  {
   "cell_type": "code",
   "execution_count": null,
   "id": "53931539-84ec-4829-bf99-5e12d27932bc",
   "metadata": {
    "kernel": "R"
   },
   "outputs": [],
   "source": [
    "#There are 10658 cases in the 50K group and 22741 controls\n",
    "combined_50k[, .N, by=.(f2247_f2257)]\n",
    "#There are 28391 cases in the 50K group and 75341 controls\n",
    "combined_150k[, .N, by=.(f2247_f2257)]"
   ]
  },
  {
   "cell_type": "markdown",
   "id": "b6e002a3-c2c5-4f4f-934d-d38168aaa95d",
   "metadata": {
    "kernel": "R"
   },
   "source": [
    "## Analyze number of individuals with both exome data and genotype array data Qc'ed by Megan"
   ]
  },
  {
   "cell_type": "code",
   "execution_count": null,
   "id": "5a00be97-8c64-4807-a32a-8f53737c9135",
   "metadata": {
    "kernel": "R"
   },
   "outputs": [],
   "source": [
    "exome_fam <- read.table('~/UKBiobank_Yale_transfer/ukb28374_exomedata/exome_data_OCT2020/ukb23155_s200631.fam')\n",
    "colnames(exome_fam) <- c(\"FID\", \"IID\", \"fatherID\", \"motherID\", \"sex\", \"phenotype\")"
   ]
  },
  {
   "cell_type": "code",
   "execution_count": null,
   "id": "a9404f5b-7d3e-429b-880f-f6f042b5d7a7",
   "metadata": {
    "kernel": "R"
   },
   "outputs": [],
   "source": [
    "head(exome_fam)"
   ]
  },
  {
   "cell_type": "code",
   "execution_count": null,
   "id": "06059af2-4c9c-4432-a5f3-68beee313ca5",
   "metadata": {
    "kernel": "R"
   },
   "outputs": [],
   "source": [
    "genotype_fam <- read.table('~/UKBiobank_Yale_transfer/pleiotropy_geneticfiles/UKB_expandedwhite_qcgenotypefiles/UKB_expandedwhiteonly_phenotypeindepqc_410905indiv_528206snps_102720.fam')\n",
    "colnames(genotype_fam) <- c(\"FID\", \"IID\", \"fatherID\", \"motherID\", \"sex\", \"phenotype\")"
   ]
  },
  {
   "cell_type": "code",
   "execution_count": null,
   "id": "73e87b48-6661-4e33-ab65-38d423b7a5b8",
   "metadata": {
    "kernel": "R"
   },
   "outputs": [],
   "source": [
    "head(genotype_fam)"
   ]
  },
  {
   "cell_type": "code",
   "execution_count": null,
   "id": "712945b5-4dc8-4087-90da-e55e30878573",
   "metadata": {
    "kernel": "R"
   },
   "outputs": [],
   "source": [
    "exomed_wtih_genoarray <- setDT(exome_fam)[IID %chin% genotype_fam$IID]"
   ]
  },
  {
   "cell_type": "code",
   "execution_count": null,
   "id": "f5c40e0d-ddeb-4cc3-9f2f-e7d7e9131cde",
   "metadata": {
    "kernel": "R"
   },
   "outputs": [],
   "source": [
    "nrow(exomed_wtih_genoarray)"
   ]
  },
  {
   "cell_type": "code",
   "execution_count": null,
   "id": "d05042f4-dbb2-4f3f-9b48-760b5268184b",
   "metadata": {
    "kernel": "R"
   },
   "outputs": [],
   "source": [
    "white_exome_fam <- read.table('~/UKBiobank_Yale_transfer/pleiotropy_R01/ukb43978_OCT2020/dc2325_phenotypes/030821_ukb42495_exomed_white_189010ind')\n",
    "colnames(white_exome_fam) <- c(\"FID\", \"IID\")"
   ]
  },
  {
   "cell_type": "code",
   "execution_count": null,
   "id": "03695f21-e91b-4bdc-8cf8-5d5312db2858",
   "metadata": {
    "kernel": "R"
   },
   "outputs": [],
   "source": [
    "exomed_white_genoarray <- setDT(white_exome_fam)[IID %chin% genotype_fam$IID]"
   ]
  },
  {
   "cell_type": "code",
   "execution_count": null,
   "id": "65327e40-ace2-4268-99a8-d830951b3cb3",
   "metadata": {
    "kernel": "R"
   },
   "outputs": [],
   "source": [
    "nrow(exomed_white_genoarray)"
   ]
  },
  {
   "cell_type": "raw",
   "id": "0409bf2d-e654-48c2-a9f4-3773172738df",
   "metadata": {
    "kernel": "R"
   },
   "source": []
  }
 ],
 "metadata": {
  "kernelspec": {
   "display_name": "SoS",
   "language": "sos",
   "name": "sos"
  },
  "language_info": {
   "codemirror_mode": "sos",
   "file_extension": ".sos",
   "mimetype": "text/x-sos",
   "name": "sos",
   "nbconvert_exporter": "sos_notebook.converter.SoS_Exporter",
   "pygments_lexer": "sos"
  },
  "sos": {
   "kernels": [
    [
     "R",
     "ir",
     "R",
     "#DCDCDA",
     "r"
    ]
   ],
   "version": "0.22.6"
  }
 },
 "nbformat": 4,
 "nbformat_minor": 5
}
