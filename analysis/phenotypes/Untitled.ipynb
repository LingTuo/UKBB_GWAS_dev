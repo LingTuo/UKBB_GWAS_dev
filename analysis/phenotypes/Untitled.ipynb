{
 "cells": [
  {
   "cell_type": "markdown",
   "id": "34396f32-2cf6-4ce4-a886-5b358167c279",
   "metadata": {
    "kernel": "SoS",
    "tags": []
   },
   "source": [
    "## Phenotypes for early onset hearing impairment"
   ]
  },
  {
   "cell_type": "code",
   "execution_count": 6,
   "id": "98f4b26c-35a2-4b10-a340-caa2bfe5da17",
   "metadata": {
    "kernel": "Bash",
    "tags": []
   },
   "outputs": [],
   "source": [
    "module load R/3.6"
   ]
  },
  {
   "cell_type": "code",
   "execution_count": 3,
   "id": "63aef4c5-c766-4a1f-bfc2-f3f049164c4d",
   "metadata": {
    "kernel": "R",
    "tags": []
   },
   "outputs": [
    {
     "data": {
      "text/html": [
       "<dl>\n",
       "\t<dt>$platform</dt>\n",
       "\t\t<dd>'x86_64-conda-linux-gnu'</dd>\n",
       "\t<dt>$arch</dt>\n",
       "\t\t<dd>'x86_64'</dd>\n",
       "\t<dt>$os</dt>\n",
       "\t\t<dd>'linux-gnu'</dd>\n",
       "\t<dt>$system</dt>\n",
       "\t\t<dd>'x86_64, linux-gnu'</dd>\n",
       "\t<dt>$status</dt>\n",
       "\t\t<dd>''</dd>\n",
       "\t<dt>$major</dt>\n",
       "\t\t<dd>'4'</dd>\n",
       "\t<dt>$minor</dt>\n",
       "\t\t<dd>'1.0'</dd>\n",
       "\t<dt>$year</dt>\n",
       "\t\t<dd>'2021'</dd>\n",
       "\t<dt>$month</dt>\n",
       "\t\t<dd>'05'</dd>\n",
       "\t<dt>$day</dt>\n",
       "\t\t<dd>'18'</dd>\n",
       "\t<dt>$`svn rev`</dt>\n",
       "\t\t<dd>'80317'</dd>\n",
       "\t<dt>$language</dt>\n",
       "\t\t<dd>'R'</dd>\n",
       "\t<dt>$version.string</dt>\n",
       "\t\t<dd>'R version 4.1.0 (2021-05-18)'</dd>\n",
       "\t<dt>$nickname</dt>\n",
       "\t\t<dd>'Camp Pontanezen'</dd>\n",
       "</dl>\n"
      ],
      "text/latex": [
       "\\begin{description}\n",
       "\\item[\\$platform] 'x86\\_64-conda-linux-gnu'\n",
       "\\item[\\$arch] 'x86\\_64'\n",
       "\\item[\\$os] 'linux-gnu'\n",
       "\\item[\\$system] 'x86\\_64, linux-gnu'\n",
       "\\item[\\$status] ''\n",
       "\\item[\\$major] '4'\n",
       "\\item[\\$minor] '1.0'\n",
       "\\item[\\$year] '2021'\n",
       "\\item[\\$month] '05'\n",
       "\\item[\\$day] '18'\n",
       "\\item[\\$`svn rev`] '80317'\n",
       "\\item[\\$language] 'R'\n",
       "\\item[\\$version.string] 'R version 4.1.0 (2021-05-18)'\n",
       "\\item[\\$nickname] 'Camp Pontanezen'\n",
       "\\end{description}\n"
      ],
      "text/markdown": [
       "$platform\n",
       ":   'x86_64-conda-linux-gnu'\n",
       "$arch\n",
       ":   'x86_64'\n",
       "$os\n",
       ":   'linux-gnu'\n",
       "$system\n",
       ":   'x86_64, linux-gnu'\n",
       "$status\n",
       ":   ''\n",
       "$major\n",
       ":   '4'\n",
       "$minor\n",
       ":   '1.0'\n",
       "$year\n",
       ":   '2021'\n",
       "$month\n",
       ":   '05'\n",
       "$day\n",
       ":   '18'\n",
       "$`svn rev`\n",
       ":   '80317'\n",
       "$language\n",
       ":   'R'\n",
       "$version.string\n",
       ":   'R version 4.1.0 (2021-05-18)'\n",
       "$nickname\n",
       ":   'Camp Pontanezen'\n",
       "\n",
       "\n"
      ],
      "text/plain": [
       "$platform\n",
       "[1] \"x86_64-conda-linux-gnu\"\n",
       "\n",
       "$arch\n",
       "[1] \"x86_64\"\n",
       "\n",
       "$os\n",
       "[1] \"linux-gnu\"\n",
       "\n",
       "$system\n",
       "[1] \"x86_64, linux-gnu\"\n",
       "\n",
       "$status\n",
       "[1] \"\"\n",
       "\n",
       "$major\n",
       "[1] \"4\"\n",
       "\n",
       "$minor\n",
       "[1] \"1.0\"\n",
       "\n",
       "$year\n",
       "[1] \"2021\"\n",
       "\n",
       "$month\n",
       "[1] \"05\"\n",
       "\n",
       "$day\n",
       "[1] \"18\"\n",
       "\n",
       "$`svn rev`\n",
       "[1] \"80317\"\n",
       "\n",
       "$language\n",
       "[1] \"R\"\n",
       "\n",
       "$version.string\n",
       "[1] \"R version 4.1.0 (2021-05-18)\"\n",
       "\n",
       "$nickname\n",
       "[1] \"Camp Pontanezen\"\n"
      ]
     },
     "metadata": {},
     "output_type": "display_data"
    }
   ],
   "source": [
    "R.Version()"
   ]
  },
  {
   "cell_type": "code",
   "execution_count": 7,
   "id": "431c6e13-eacd-46a3-a458-95949926edc9",
   "metadata": {
    "kernel": "R"
   },
   "outputs": [
    {
     "data": {
      "text/html": [
       "'/home/dmc2245/miniconda3/lib/R'"
      ],
      "text/latex": [
       "'/home/dmc2245/miniconda3/lib/R'"
      ],
      "text/markdown": [
       "'/home/dmc2245/miniconda3/lib/R'"
      ],
      "text/plain": [
       "[1] \"/home/dmc2245/miniconda3/lib/R\""
      ]
     },
     "metadata": {},
     "output_type": "display_data"
    }
   ],
   "source": [
    "R.home()"
   ]
  },
  {
   "cell_type": "code",
   "execution_count": 21,
   "id": "4dfff222-36b2-4a09-b41b-a5c807b75136",
   "metadata": {
    "kernel": "R",
    "tags": []
   },
   "outputs": [],
   "source": [
    "#Create a folder in home directory with R libraries\n",
    ".libPaths(c(\"/home/dmc2245/R/x86_64-pc-linux-gnu-library/3.6\", .libPaths()))"
   ]
  },
  {
   "cell_type": "code",
   "execution_count": 14,
   "id": "e0db435b-430b-409f-9c18-4b871f802bf2",
   "metadata": {
    "kernel": "R",
    "tags": []
   },
   "outputs": [],
   "source": [
    "install.packages('plyr', repos=\"http://cran.r-project.org\")"
   ]
  },
  {
   "cell_type": "code",
   "execution_count": 1,
   "id": "645e1604-ac21-42c5-8bfa-71322c012b90",
   "metadata": {
    "kernel": "R",
    "tags": []
   },
   "outputs": [
    {
     "ename": "ERROR",
     "evalue": "Error in library(\"plyr\"): there is no package called ‘plyr’\n",
     "output_type": "error",
     "traceback": [
      "Error in library(\"plyr\"): there is no package called ‘plyr’\nTraceback:\n",
      "1. library(\"plyr\")"
     ]
    }
   ],
   "source": [
    "library('plyr')"
   ]
  },
  {
   "cell_type": "code",
   "execution_count": 23,
   "id": "31eb6e1e-408d-4a18-bdbf-b0f14cf39b8f",
   "metadata": {
    "kernel": "R",
    "tags": []
   },
   "outputs": [
    {
     "data": {
      "text/html": [
       "'/mnt/mfs/statgen/UKBiobank/data/HI_UKBB'"
      ],
      "text/latex": [
       "'/mnt/mfs/statgen/UKBiobank/data/HI\\_UKBB'"
      ],
      "text/markdown": [
       "'/mnt/mfs/statgen/UKBiobank/data/HI_UKBB'"
      ],
      "text/plain": [
       "[1] \"/mnt/mfs/statgen/UKBiobank/data/HI_UKBB\""
      ]
     },
     "metadata": {},
     "output_type": "display_data"
    }
   ],
   "source": [
    "getwd()"
   ]
  },
  {
   "cell_type": "code",
   "execution_count": 3,
   "id": "896379d0-19fb-4c7e-9ecf-a7b9d0a543b9",
   "metadata": {
    "kernel": "R"
   },
   "outputs": [],
   "source": [
    "setwd('/mnt/mfs/statgen/UKBiobank/data/HI_UKBB')"
   ]
  },
  {
   "cell_type": "code",
   "execution_count": 4,
   "id": "280d93f4-673d-4121-bc25-6baeb1dfd990",
   "metadata": {
    "kernel": "R",
    "tags": []
   },
   "outputs": [],
   "source": [
    "hi_geno <- read.csv(\"062421_UKBB_HI_exomes_189009ind.csv\")"
   ]
  },
  {
   "cell_type": "code",
   "execution_count": 5,
   "id": "27ee1c2d-125f-441c-8000-803247d1a815",
   "metadata": {
    "kernel": "R",
    "tags": []
   },
   "outputs": [],
   "source": [
    "a <- c('H800','H801','H802','H808','H809', 'H810', 'H830','H90','H900','H901', 'H902',\n",
    " 'H903', 'H904', 'H905', 'H906', 'H907', 'H908', 'H933', 'H940','H65','H652','H653','H654','H659','H66',\n",
    " 'H661', 'H662', 'H663', 'H664', 'H669', 'G00', 'G01', 'G02', 'G020', 'G021', 'G03', 'G030', 'G031', \n",
    " 'G032', 'G038', 'G039', 'G04', 'G040', 'G042', 'G048', 'G049', 'G05', 'G050', 'G051', 'G052', 'G058','G06', \n",
    " 'G060', 'G061', 'G062', 'G07', 'G08', 'G09', 'G510', 'G511', 'G512', 'G513', 'G514','G518','G519', 'S02', \n",
    " 'S020', 'S0200', 'S0201', 'S021', 'S0210', 'S0211', 'S024', 'S0240',\n",
    " 'S0241', 'S026', 'S0260', 'S0261', 'S027', 'S0270', 'S0271', 'S028', 'S0280', 'S0281','S029',\n",
    " 'S0290', 'S0291', 'S030', 'S034','S04', 'S045', 'S046', 'S049', 'S06', 'S060','S0600',\n",
    " 'S0601', 'S061', 'S0610', 'S0611', 'S062', 'S0620', 'S0621', 'S063', 'S0630', 'S0631',\n",
    " 'S064', 'S0640', 'S0641', 'S065', 'S0650', 'S0651', 'S066', 'S0660', 'S0661', 'S067',\n",
    " 'S0670', 'S0671','S068','S0680', 'S0681', 'S069', 'S0690', 'S0691', 'S07', 'S070', 'S071',\n",
    " 'S078', 'S079', 'S08', 'S080', 'S081', 'S088', 'S089', 'S09', 'B020', 'B021', 'B022', 'B023',\n",
    " 'B027', 'B028', 'H70', 'H701', 'H702', 'H708', 'H709')\n",
    "\n",
    "b <- c('389','387', '3870', '3871', '3872', '3878', '3879', '3860', '3863', '389', '3890', '3891',\n",
    "'3892', '3897', '3898', '3899','3885', '3813', '3814', '3816', '3819', '382', '3821', '3822', '3823',\n",
    " '3824', '3829', '320', '3200', '3201', '3202', '3203', '3204', '3205', '3207', '3208', '3209', '321',\n",
    "'3210', '3211', '3212', '3213', '3214', '3215', '3216', '3217', '3218', '322', '3220', '3221', '3222',\n",
    " '3229', '323', '3230',  '3231', '3232', '3233', '3234', '3235',  '3236','3237', '3238', '3239', '324',\n",
    " '3240', '3241', '3249', '325','326', '3510','3511', '3518', '3519', '800', '8000', '8001', '8002',\n",
    " '8003',  '801', '8010', '8022', '8023', '8024', '8028', '8029', '803', '8030', '8031', '8032', '8033',\n",
    "'804', '8040', '8041', '8042', '8043', '830', '8300', '8301', '8481', '9514', '9515', '9519', '854',\n",
    " '8540', '8541', '850', '8509', '851', '8510', '8511', '852', '8520', '8521', '853', '8530', '8531',\n",
    "'854',  '8540', '8541', '872', '8720','8721', '8726', '8727', '8728', '8729', '873', '8730',\n",
    "'8731', '9050', '925', '9259', '530', '531', '532', '537', '538', '539', '383', '3831', '3832',\n",
    "'3833', '3838', '3839')\n",
    "\n",
    "c <- c('1420', '1421', '1499', '1249','1247','1246', '1245', '1250', '1240', '1626', '1627',\n",
    " '1491')"
   ]
  },
  {
   "cell_type": "code",
   "execution_count": 6,
   "id": "ce040d80-2a19-433f-8960-06f20c572d7d",
   "metadata": {
    "kernel": "R"
   },
   "outputs": [
    {
     "ename": "ERROR",
     "evalue": "Error in hi_geno %>% mutate(exclude = apply(select(hi_geno, starts_with(\"f.41270\")), : could not find function \"%>%\"\n",
     "output_type": "error",
     "traceback": [
      "Error in hi_geno %>% mutate(exclude = apply(select(hi_geno, starts_with(\"f.41270\")), : could not find function \"%>%\"\nTraceback:\n"
     ]
    }
   ],
   "source": [
    "to_exclude <- hi_geno %>% \n",
    "  mutate(exclude = apply(select(hi_geno,starts_with(\"f.41270\")),1,function(x) any(x %in% a))\n",
    "  | apply(select(hi_geno,starts_with(\"f.41271\")),1,function(x) any(x %in% b)) | \n",
    "   apply(select(hi_geno,starts_with(\"f.20002\")),1,function(x) any(x %in% c))\n",
    "  ) %>% \n",
    "  filter(exclude==\"TRUE\")\n",
    "nrow(to_exclude)"
   ]
  },
  {
   "cell_type": "code",
   "execution_count": null,
   "id": "d91bca7e-0435-4456-b0b3-31c2173d746d",
   "metadata": {
    "kernel": "R"
   },
   "outputs": [],
   "source": [
    "table(to_exclude$\"f.41270.0.0\")"
   ]
  }
 ],
 "metadata": {
  "kernelspec": {
   "display_name": "SoS",
   "language": "sos",
   "name": "sos"
  },
  "language_info": {
   "codemirror_mode": "sos",
   "file_extension": ".sos",
   "mimetype": "text/x-sos",
   "name": "sos",
   "nbconvert_exporter": "sos_notebook.converter.SoS_Exporter",
   "pygments_lexer": "sos"
  },
  "sos": {
   "kernels": [
    [
     "Bash",
     "calysto_bash",
     "Bash",
     "#E6EEFF",
     ""
    ],
    [
     "R",
     "ir",
     "R",
     "#DCDCDA",
     "r"
    ]
   ],
   "version": "0.22.4"
  }
 },
 "nbformat": 4,
 "nbformat_minor": 5
}
