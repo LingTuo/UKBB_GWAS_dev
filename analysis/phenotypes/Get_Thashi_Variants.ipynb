{
 "cells": [
  {
   "cell_type": "markdown",
   "id": "45a117cd-a976-4f62-b989-bbd1cb3f7a0d",
   "metadata": {
    "kernel": "SoS",
    "tags": []
   },
   "source": [
    "## Get the variants in the genes provided by Thashi for Early Onset Hearing Impairment"
   ]
  },
  {
   "cell_type": "code",
   "execution_count": 1,
   "id": "bd0d1cbe-4557-472e-b7de-cd66c88be524",
   "metadata": {
    "kernel": "Bash",
    "tags": []
   },
   "outputs": [
    {
     "name": "stdout",
     "output_type": "stream",
     "text": [
      "\n"
     ]
    }
   ],
   "source": [
    "cd /mnt/mfs/statgen/UKBiobank/results/REGENIE_results/results_exome_data/f3393_hearing_aid_exomes200K_ctrl_na"
   ]
  },
  {
   "cell_type": "code",
   "execution_count": 11,
   "id": "3e9b43a1-2254-4d9f-9ba6-2c7f9b3cce5e",
   "metadata": {
    "kernel": "Bash",
    "scrolled": true,
    "tags": []
   },
   "outputs": [
    {
     "name": "stdout",
     "output_type": "stream",
     "text": [
      "2\t178865709\tG\tA\tchr2:178865709:G:A\t1.3971\t0.603044\t0.030534442849779027\n",
      "2\t178871503\tG\tA\tchr2:178871503:G:A\t1.52777\t0.613971\t0.022699693854301983\n",
      "2\t178872245\tT\tC\tchr2:178872245:T:C\t3.47668\t1.09085\t0.0015632196299077115\n",
      "2\t178905464\tT\tA\tchr2:178905464:T:A\t2.43509\t0.923299\t0.013039772064943249\n",
      "2\t178918683\tC\tA\tchr2:178918683:C:A\t2.47617\t0.997973\t0.016444095867090218\n",
      "2\t178961244\tG\tC\tchr2:178961244:G:C\t1.06958\t0.422315\t0.021407206578312802\n",
      "2\t179049922\tG\tA\tchr2:179049922:G:A\t0.169372\t0.0729042\t0.022699693854301983\n"
     ]
    }
   ],
   "source": [
    "zcat 041521_UKBB_Hearing_aid_f3393_expandedwhite_z974included_ctrl_na_228760ind_f3393_ctrl_na.regenie.snp_stats.gz | awk -F'\\t' '$1 == 2 && $2 > 178839757 && $2 < 179060137 && $8<0.05'\\\n",
    ">> 041521_UKBB_Hearing_aid_f3393_expandedwhite_z974included_ctrl_na_228760ind_f3393_ctrl_na.EOHI"
   ]
  },
  {
   "cell_type": "code",
   "execution_count": 9,
   "id": "442be0bb-6d23-43c1-9547-4b95b7492937",
   "metadata": {
    "kernel": "Bash"
   },
   "outputs": [
    {
     "name": "stdout",
     "output_type": "stream",
     "text": [
      "17\t36506468\tC\tT\tchr17:36506468:C:T\t2.09801\t0.796646\t0.021041660057714774\n",
      "17\t36506685\tG\tA\tchr17:36506685:G:A\t2.79276\t1.15423\t0.02755687714215836\n",
      "17\t36507051\tT\tC\tchr17:36507051:T:C\t2.44483\t0.958921\t0.013177408218245404\n",
      "17\t36509023\tT\tG\tchr17:36509023:T:G\t1.703\t0.662474\t0.021782112662934356\n",
      "17\t36510874\tG\tA\tchr17:36510874:G:A\t2.65283\t1.23594\t0.01839162062920895\n",
      "17\t36510879\tC\tT\tchr17:36510879:C:T\t-0.632856\t0.325677\t0.033327289957613776\n",
      "17\t36513100\tG\tT\tchr17:36513100:G:T\t3.16163\t1.22097\t0.02298370294812978\n",
      "17\t36514416\tTG\tT\tchr17:36514416:TG:T\t3.67781\t1.11957\t0.006433095520784046\n",
      "17\t36514527\tG\tA\tchr17:36514527:G:A\t2.68161\t1.28676\t0.037525803491417604\n",
      "17\t36537806\tC\tG\tchr17:36537806:C:G\t-0.30709\t0.127896\t0.012348664742519047\n"
     ]
    }
   ],
   "source": [
    "zcat 041521_UKBB_Hearing_aid_f3393_expandedwhite_z974included_ctrl_na_228760ind_f3393_ctrl_na.regenie.snp_stats.gz | awk -F'\\t' '$1 == 17 && $2 > 36505641 && $2 < 36544846 && $8<0.05' "
   ]
  },
  {
   "cell_type": "code",
   "execution_count": null,
   "id": "b3c9cc55-cca7-419e-937a-f3bb23cb93f8",
   "metadata": {
    "kernel": "Bash"
   },
   "outputs": [],
   "source": [
    "zcat 041521_UKBB_Hearing_aid_f3393_expandedwhite_z974included_ctrl_na_228760ind_f3393_ctrl_na.regenie.snp_stats.gz | awk -F'\\t' '$1 == 17 && $2 > 36505641 && $2 < 36544846 && $8<0.05' \n"
   ]
  },
  {
   "cell_type": "code",
   "execution_count": 19,
   "id": "5152489d-82fa-4694-8e72-94e30d2ce9f5",
   "metadata": {
    "kernel": "Bash"
   },
   "outputs": [],
   "source": [
    "zcat 041521_UKBB_Hearing_aid_f3393_expandedwhite_z974included_ctrl_na_228760ind_f3393_ctrl_na.regenie.snp_stats.gz | awk -F'\\t' '$1 == 17 && $2 > 72131020 && $2 < 72136416 && $8<0.05' \n"
   ]
  },
  {
   "cell_type": "code",
   "execution_count": null,
   "id": "b13f3fe1-7357-407f-80ae-33f77f3395f5",
   "metadata": {
    "kernel": "Bash"
   },
   "outputs": [],
   "source": [
    "\n",
    "for file in *.snp_stats.gz; do\n",
    "    zcat $file | \\\n",
    "    awk -F'\\t' '{$1 == 2 && $2 > 178839757 && $2 < 179060137 && $8<0.05}"
   ]
  },
  {
   "cell_type": "code",
   "execution_count": null,
   "id": "48c44f2a-3a50-454a-ac97-452f868668ce",
   "metadata": {
    "kernel": "Bash"
   },
   "outputs": [],
   "source": [
    "zcat 041521_UKBB_Hearing_aid_f3393_expandedwhite_z974included_ctrl_na_228760ind_f3393_ctrl_na.regenie.snp_stats.gz | awk -v file=${file%%.*} -F'\\t' '{\n",
    "  flag=0; \n",
    "  for (i=1;i<=NF;i++) if ($1 == 2 && $2 > 178839757 && $2 < 179060137 && $8<0.05)  flag=1;\n",
    "  for (i=1;i<=NF;i++) if ($1 == 2 && $2 > 113225997 && $2 < 113288921 && $8<0.05)  flag=1; \n",
    "  for (i=1;i<=NF;i++) if ($1 == 2 && $2 > 130469455 && $2 < 130519707 && $8<0.05)  flag=1; \n",
    "  for (i=1;i<=NF;i++) if ($1 == 2 && $2 > 231463531 && $2 < 231474484 && $8<0.05)  flag=1;\n",
    "  for (i=1;i<=NF;i++) if ($1 == 4 && $2 > 142033160 && $2 < 142856535 && $8<0.05)  flag=1;\n",
    "  for (i=1;i<=NF;i++) if ($1 == 6 && $2 > 168302830 && $2 < 168329777 && $8<0.05)  flag=1;\n",
    "  for (i=1;i<=NF;i++) if ($1 == 9 && $2 > 135712185 && $2 < 135805502 && $8<0.05)  flag=1;\n",
    "  for (i=1;i<=NF;i++) if ($1 == 7 && $2 > 21553039 && $2 < 21911839 && $8<0.05) flag=1;\n",
    "  for (i=1;i<=NF;i++) if ($1 == 17 && $2 > 36505641 && $2 < 36544846 && $8<0.05) flag=1;\n",
    "  for (i=1;i<=NF;i++) if ($1 == 17 && $2 > 72131020 && $2 < 72136416 && $8<0.05) flag=1;\n",
    "  if (flag) print\n",
    "}' "
   ]
  },
  {
   "cell_type": "code",
   "execution_count": null,
   "id": "6a5556c6-e40e-4bba-9e80-88e4e80cde60",
   "metadata": {
    "kernel": "Bash"
   },
   "outputs": [],
   "source": [
    "cd /mnt/mfs/statgen/UKBiobank/results/REGENIE_results/results_exome_data/\n",
    "for file in ./*/*.snp_stats.gz; do\n",
    "    zcat $file | awk  -F'\\t' '{\n",
    "      flag=0; \n",
    "      for (i=1;i<=NF;i++) if ($1 == 2 && $2 > 178839757 && $2 < 179060137 && $8<0.05)  flag=1;\n",
    "      for (i=1;i<=NF;i++) if ($1 == 2 && $2 > 113225997 && $2 < 113288921 && $8<0.05)  flag=1; \n",
    "      for (i=1;i<=NF;i++) if ($1 == 2 && $2 > 130469455 && $2 < 130519707 && $8<0.05)  flag=1; \n",
    "      for (i=1;i<=NF;i++) if ($1 == 2 && $2 > 231463531 && $2 < 231474484 && $8<0.05)  flag=1;\n",
    "      for (i=1;i<=NF;i++) if ($1 == 4 && $2 > 142033160 && $2 < 142856535 && $8<0.05)  flag=1;\n",
    "      for (i=1;i<=NF;i++) if ($1 == 6 && $2 > 168302830 && $2 < 168329777 && $8<0.05)  flag=1;\n",
    "      for (i=1;i<=NF;i++) if ($1 == 9 && $2 > 135712185 && $2 < 135805502 && $8<0.05)  flag=1;\n",
    "      for (i=1;i<=NF;i++) if ($1 == 7 && $2 > 21553039 && $2 < 21911839 && $8<0.05) flag=1;\n",
    "      for (i=1;i<=NF;i++) if ($1 == 17 && $2 > 36505641 && $2 < 36544846 && $8<0.05) flag=1;\n",
    "      for (i=1;i<=NF;i++) if ($1 == 17 && $2 > 72131020 && $2 < 72136416 && $8<0.05) flag=1;\n",
    "      if (flag) print\n",
    "    }' > ${file%%.*}.EOHI;\n",
    "done"
   ]
  },
  {
   "cell_type": "code",
   "execution_count": 7,
   "id": "7ccdc54f-fc3c-4a65-9432-d3b7dacb1c13",
   "metadata": {
    "kernel": "Bash"
   },
   "outputs": [
    {
     "name": "stdout",
     "output_type": "stream",
     "text": [
      "\n"
     ]
    }
   ],
   "source": [
    "cd /mnt/mfs/statgen/UKBiobank/results/REGENIE_results/results_exome_data/\n",
    "cwd=/home/dmc2245\n",
    "for file in ./*/*.snp_stats.gz; do\n",
    "    echo $file > hello.txt;\n",
    "done"
   ]
  },
  {
   "cell_type": "code",
   "execution_count": null,
   "id": "a474286d-b2ab-49c9-ae71-1c6fecd34568",
   "metadata": {
    "kernel": "Bash"
   },
   "outputs": [],
   "source": []
  }
 ],
 "metadata": {
  "kernelspec": {
   "display_name": "SoS",
   "language": "sos",
   "name": "sos"
  },
  "language_info": {
   "codemirror_mode": "sos",
   "file_extension": ".sos",
   "mimetype": "text/x-sos",
   "name": "sos",
   "nbconvert_exporter": "sos_notebook.converter.SoS_Exporter",
   "pygments_lexer": "sos"
  },
  "sos": {
   "kernels": [
    [
     "Bash",
     "calysto_bash",
     "Bash",
     "#E6EEFF",
     ""
    ]
   ],
   "version": "0.22.4"
  }
 },
 "nbformat": 4,
 "nbformat_minor": 5
}
