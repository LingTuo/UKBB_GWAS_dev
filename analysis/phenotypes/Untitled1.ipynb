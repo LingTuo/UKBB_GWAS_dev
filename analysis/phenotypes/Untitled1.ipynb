{
 "cells": [
  {
   "cell_type": "code",
   "execution_count": 1,
   "id": "89b56177-b5d4-499d-982c-1b6209696bd8",
   "metadata": {},
   "outputs": [
    {
     "data": {
      "text/html": [
       "'/home/dmc2245/miniconda3/lib/R'"
      ],
      "text/latex": [
       "'/home/dmc2245/miniconda3/lib/R'"
      ],
      "text/markdown": [
       "'/home/dmc2245/miniconda3/lib/R'"
      ],
      "text/plain": [
       "[1] \"/home/dmc2245/miniconda3/lib/R\""
      ]
     },
     "metadata": {},
     "output_type": "display_data"
    }
   ],
   "source": [
    "R.home()"
   ]
  },
  {
   "cell_type": "code",
   "execution_count": null,
   "id": "3ece70ea-18d8-4beb-94b0-db08cdfe195f",
   "metadata": {},
   "outputs": [],
   "source": []
  }
 ],
 "metadata": {
  "kernelspec": {
   "display_name": "R",
   "language": "R",
   "name": "ir"
  },
  "language_info": {
   "codemirror_mode": "r",
   "file_extension": ".r",
   "mimetype": "text/x-r-source",
   "name": "R",
   "pygments_lexer": "r",
   "version": "4.1.0"
  }
 },
 "nbformat": 4,
 "nbformat_minor": 5
}
