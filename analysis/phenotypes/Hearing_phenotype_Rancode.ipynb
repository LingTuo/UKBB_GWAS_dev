{
 "cells": [
  {
   "cell_type": "markdown",
   "metadata": {
    "kernel": "SoS",
    "tags": []
   },
   "source": [
    "## Filter hearing impairment phenotypes using Ran code"
   ]
  },
  {
   "cell_type": "markdown",
   "metadata": {
    "kernel": "SoS"
   },
   "source": [
    "# Phenotype file creation for:\n",
    "1. Hearing aids (f.3393)\n",
    "2. Hearing difficulty/problems (f.2247)\n",
    "3. Hearing difficulty/background noise (f.2257)\n",
    "4. Combined phenotype (f2247 & f.2257)"
   ]
  },
  {
   "cell_type": "markdown",
   "metadata": {
    "kernel": "SoS"
   },
   "source": [
    "## Aim\n",
    "\n",
    "Create a dataset of filtered individuals using the inclusion and exclusion criteria for diverse hearing related phenotyes to perform association analyses using the LMM.ipynb. "
   ]
  },
  {
   "cell_type": "markdown",
   "metadata": {
    "kernel": "SoS"
   },
   "source": [
    "## Location of files\n",
    "\n",
    "In the shared folder is the original UKBB data\n",
    "```\n",
    "/gpfs/gibbs/pi/dewan/data/UKBiobank/phenotype_files/pleiotropy_R01/ukb42495_updatedJune2020\n",
    "```\n",
    "\n",
    "In my personal folder the filtered dataset\n",
    "\n",
    "```\n",
    "/home/dc2325/project/HI_UKBB\n",
    "```\n",
    "\n",
    "In the phenotypes folder important phenotypic files \n",
    "\n",
    "```\n",
    "/gpfs/gibbs/pi/dewan/data/UKBiobank/phenotype_files/hearing_impairment\n",
    "```"
   ]
  },
  {
   "cell_type": "markdown",
   "metadata": {
    "kernel": "SoS"
   },
   "source": [
    "## Important phenotypic files\n",
    "\n",
    "1. `200804_UKBB_HI_genotypeqc.csv` File containing all individuals that passed QC and hearing impairment variables\n",
    "2. `200804_UKBB_HI_genotypeqc_excr.csv` File with applied exclusion criteria as indicated [here](https://docs.google.com/document/d/1cpxTzElpsEkwmBDjnMBHg2wW7CL1AcG_b0_0wE_k5rQ/edit). **Note**: this file excludes individuals with otosclerosis, Meniere's and other diseases, if you need to filter those particular phenotypes use file 1 instead.\n",
    "3. `200811_UKBB_Tinnitus_plan1_2_3_f4803` File with filtered phenotypes for tinnitus plan 1,2 and 3 and imputed noise variables\n",
    "4. `200814_UKBB_HI_genotypeqc_excr_impvars` Database with qc'ed individuals, exclusion criteria, noise imputed vars and tinnitus phenotypes"
   ]
  },
  {
   "cell_type": "markdown",
   "metadata": {
    "kernel": "SoS"
   },
   "source": [
    "## Analysis plan\n",
    "\n",
    "The phenotypes to be analyzed are the following:\n",
    "\n",
    "1. Hearing aid user (f.3393)\n",
    "\"Do you use a hearing aid most of the time?\"\n",
    "\n",
    "2. Hearing difficulty/problems (f.2247)\n",
    "\"Do you have any difficulty with your hearing?\"\n",
    "\n",
    "3. Hearing difficulty/background noise (f.2257)\n",
    "\"Do you find it difficult to follow a conversation if there is background noise (such as TV, radio, children playing)?\"\n",
    "\n",
    "**Sex corresponds to f.22001 (genetic sex):**\n",
    "\n",
    "- Male = 0\n",
    "- Female = 1\n",
    "\n",
    "**Noisy workplace and loud music exposure frequency: same as for Tinnitus**\n",
    "                \n",
    "1. Remove inconsistent individuals \n",
    "    - said 1,2 or 3 and in following visits said 0\n",
    "    - said a higher exposure (e.g 3) and then a lower one (e.g 1 or 2) in following visits\n",
    "2. Retain consistent individuals and use highest reported exposure\n",
    "\n",
    "**The SRT trait needs to be inverse normalized**\n",
    "\n",
    "**Covariates to be included in the analysis include:**\n",
    "\n",
    "1. Age at time of test (calculated from f.21003.0.0,f.21003.1.0,f.21003.2.0,f.21003.3.0)\n",
    "2. Sex f.22001\n",
    "3. Volume left ear f.4270 and right ear f.4277 (The volume set by the participant for the measurement which you are using in the analysis ir our case the last time they took the test). For the analysis we use the average of the right and left ear since there is overlap in the volume distribution\n",
    "4. Noisy workplace f.4825\n",
    "5. Loud music exposure f.4836"
   ]
  },
  {
   "cell_type": "code",
   "execution_count": null,
   "metadata": {
    "kernel": "R"
   },
   "outputs": [],
   "source": [
    "#Load libraries\n",
    "library(plyr)\n",
    "library(dplyr)\n",
    "library(tidyverse)\n",
    "library(pander)\n",
    "library(ggpubr)\n",
    "library(rapportools)\n",
    "library(ggplot2)\n",
    "#Get working directory\n",
    "getwd()"
   ]
  },
  {
   "cell_type": "markdown",
   "metadata": {
    "kernel": "R"
   },
   "source": [
    "## Set working directory"
   ]
  },
  {
   "cell_type": "code",
   "execution_count": 2,
   "metadata": {
    "kernel": "R"
   },
   "outputs": [],
   "source": [
    "#Set working directory Yale\n",
    "setwd('~/project/HI_UKBB/')\n",
    "#Set workind directory Columbia\n",
    "##setwd('/mnt/mfs/statgen/UKBiobank/data/phenotype_files/hearing_impairment')"
   ]
  },
  {
   "cell_type": "markdown",
   "metadata": {
    "kernel": "R"
   },
   "source": [
    "## Load data"
   ]
  },
  {
   "cell_type": "markdown",
   "metadata": {
    "kernel": "R"
   },
   "source": [
    "### Using all whites"
   ]
  },
  {
   "cell_type": "code",
   "execution_count": 3,
   "metadata": {
    "kernel": "R"
   },
   "outputs": [],
   "source": [
    "df.final.imp = read.csv('010521_UKBB_HI_genotypeqc_expandedwhite_396974indiv_excr.csv')"
   ]
  },
  {
   "cell_type": "code",
   "execution_count": 4,
   "metadata": {
    "kernel": "R"
   },
   "outputs": [
    {
     "data": {
      "text/html": [
       "<table>\n",
       "<caption>A data.frame: 6 × 2262</caption>\n",
       "<thead>\n",
       "\t<tr><th></th><th scope=col>IID</th><th scope=col>FID</th><th scope=col>ignore1</th><th scope=col>ignore2</th><th scope=col>ignore3</th><th scope=col>ignore4</th><th scope=col>f.31.0.0</th><th scope=col>f.34.0.0</th><th scope=col>f.53.0.0</th><th scope=col>f.53.1.0</th><th scope=col>⋯</th><th scope=col>f.131229.0.0</th><th scope=col>f.131230.0.0</th><th scope=col>f.131231.0.0</th><th scope=col>f.131232.0.0</th><th scope=col>f.131233.0.0</th><th scope=col>f.131250.0.0</th><th scope=col>f.131251.0.0</th><th scope=col>f.131252.0.0</th><th scope=col>f.131253.0.0</th><th scope=col>exclude</th></tr>\n",
       "\t<tr><th></th><th scope=col>&lt;int&gt;</th><th scope=col>&lt;int&gt;</th><th scope=col>&lt;int&gt;</th><th scope=col>&lt;int&gt;</th><th scope=col>&lt;int&gt;</th><th scope=col>&lt;int&gt;</th><th scope=col>&lt;fct&gt;</th><th scope=col>&lt;int&gt;</th><th scope=col>&lt;fct&gt;</th><th scope=col>&lt;fct&gt;</th><th scope=col>⋯</th><th scope=col>&lt;fct&gt;</th><th scope=col>&lt;fct&gt;</th><th scope=col>&lt;fct&gt;</th><th scope=col>&lt;fct&gt;</th><th scope=col>&lt;fct&gt;</th><th scope=col>&lt;fct&gt;</th><th scope=col>&lt;fct&gt;</th><th scope=col>&lt;fct&gt;</th><th scope=col>&lt;fct&gt;</th><th scope=col>&lt;lgl&gt;</th></tr>\n",
       "</thead>\n",
       "<tbody>\n",
       "\t<tr><th scope=row>1</th><td>1000019</td><td>1000019</td><td>0</td><td>0</td><td>2</td><td>-9</td><td>Female</td><td>1960</td><td>2008-01-24</td><td>NA</td><td>⋯</td><td>NA</td><td>NA</td><td>NA</td><td>NA</td><td>NA</td><td>NA</td><td>NA</td><td>NA</td><td>NA</td><td>FALSE</td></tr>\n",
       "\t<tr><th scope=row>2</th><td>1000022</td><td>1000022</td><td>0</td><td>0</td><td>1</td><td>-9</td><td>Male  </td><td>1954</td><td>2008-01-22</td><td>NA</td><td>⋯</td><td>NA</td><td>NA</td><td>NA</td><td>NA</td><td>NA</td><td>NA</td><td>NA</td><td>NA</td><td>NA</td><td>FALSE</td></tr>\n",
       "\t<tr><th scope=row>3</th><td>1000035</td><td>1000035</td><td>0</td><td>0</td><td>1</td><td>-9</td><td>Male  </td><td>1944</td><td>2007-11-08</td><td>NA</td><td>⋯</td><td>NA</td><td>NA</td><td>NA</td><td>NA</td><td>NA</td><td>NA</td><td>NA</td><td>NA</td><td>NA</td><td>FALSE</td></tr>\n",
       "\t<tr><th scope=row>4</th><td>1000046</td><td>1000046</td><td>0</td><td>0</td><td>2</td><td>-9</td><td>Female</td><td>1946</td><td>2008-12-01</td><td>NA</td><td>⋯</td><td>NA</td><td>NA</td><td>NA</td><td>NA</td><td>NA</td><td>NA</td><td>NA</td><td>NA</td><td>NA</td><td>FALSE</td></tr>\n",
       "\t<tr><th scope=row>5</th><td>1000054</td><td>1000054</td><td>0</td><td>0</td><td>2</td><td>-9</td><td>Female</td><td>1942</td><td>2007-11-23</td><td>NA</td><td>⋯</td><td>NA</td><td>NA</td><td>NA</td><td>NA</td><td>NA</td><td>NA</td><td>NA</td><td>NA</td><td>NA</td><td>FALSE</td></tr>\n",
       "\t<tr><th scope=row>6</th><td>1000063</td><td>1000063</td><td>0</td><td>0</td><td>1</td><td>-9</td><td>Male  </td><td>1967</td><td>2010-06-26</td><td>NA</td><td>⋯</td><td>NA</td><td>NA</td><td>NA</td><td>NA</td><td>NA</td><td>NA</td><td>NA</td><td>NA</td><td>NA</td><td>FALSE</td></tr>\n",
       "</tbody>\n",
       "</table>\n"
      ],
      "text/latex": [
       "A data.frame: 6 × 2262\n",
       "\\begin{tabular}{r|lllllllllllllllllllll}\n",
       "  & IID & FID & ignore1 & ignore2 & ignore3 & ignore4 & f.31.0.0 & f.34.0.0 & f.53.0.0 & f.53.1.0 & ⋯ & f.131229.0.0 & f.131230.0.0 & f.131231.0.0 & f.131232.0.0 & f.131233.0.0 & f.131250.0.0 & f.131251.0.0 & f.131252.0.0 & f.131253.0.0 & exclude\\\\\n",
       "  & <int> & <int> & <int> & <int> & <int> & <int> & <fct> & <int> & <fct> & <fct> & ⋯ & <fct> & <fct> & <fct> & <fct> & <fct> & <fct> & <fct> & <fct> & <fct> & <lgl>\\\\\n",
       "\\hline\n",
       "\t1 & 1000019 & 1000019 & 0 & 0 & 2 & -9 & Female & 1960 & 2008-01-24 & NA & ⋯ & NA & NA & NA & NA & NA & NA & NA & NA & NA & FALSE\\\\\n",
       "\t2 & 1000022 & 1000022 & 0 & 0 & 1 & -9 & Male   & 1954 & 2008-01-22 & NA & ⋯ & NA & NA & NA & NA & NA & NA & NA & NA & NA & FALSE\\\\\n",
       "\t3 & 1000035 & 1000035 & 0 & 0 & 1 & -9 & Male   & 1944 & 2007-11-08 & NA & ⋯ & NA & NA & NA & NA & NA & NA & NA & NA & NA & FALSE\\\\\n",
       "\t4 & 1000046 & 1000046 & 0 & 0 & 2 & -9 & Female & 1946 & 2008-12-01 & NA & ⋯ & NA & NA & NA & NA & NA & NA & NA & NA & NA & FALSE\\\\\n",
       "\t5 & 1000054 & 1000054 & 0 & 0 & 2 & -9 & Female & 1942 & 2007-11-23 & NA & ⋯ & NA & NA & NA & NA & NA & NA & NA & NA & NA & FALSE\\\\\n",
       "\t6 & 1000063 & 1000063 & 0 & 0 & 1 & -9 & Male   & 1967 & 2010-06-26 & NA & ⋯ & NA & NA & NA & NA & NA & NA & NA & NA & NA & FALSE\\\\\n",
       "\\end{tabular}\n"
      ],
      "text/markdown": [
       "\n",
       "A data.frame: 6 × 2262\n",
       "\n",
       "| <!--/--> | IID &lt;int&gt; | FID &lt;int&gt; | ignore1 &lt;int&gt; | ignore2 &lt;int&gt; | ignore3 &lt;int&gt; | ignore4 &lt;int&gt; | f.31.0.0 &lt;fct&gt; | f.34.0.0 &lt;int&gt; | f.53.0.0 &lt;fct&gt; | f.53.1.0 &lt;fct&gt; | ⋯ ⋯ | f.131229.0.0 &lt;fct&gt; | f.131230.0.0 &lt;fct&gt; | f.131231.0.0 &lt;fct&gt; | f.131232.0.0 &lt;fct&gt; | f.131233.0.0 &lt;fct&gt; | f.131250.0.0 &lt;fct&gt; | f.131251.0.0 &lt;fct&gt; | f.131252.0.0 &lt;fct&gt; | f.131253.0.0 &lt;fct&gt; | exclude &lt;lgl&gt; |\n",
       "|---|---|---|---|---|---|---|---|---|---|---|---|---|---|---|---|---|---|---|---|---|---|\n",
       "| 1 | 1000019 | 1000019 | 0 | 0 | 2 | -9 | Female | 1960 | 2008-01-24 | NA | ⋯ | NA | NA | NA | NA | NA | NA | NA | NA | NA | FALSE |\n",
       "| 2 | 1000022 | 1000022 | 0 | 0 | 1 | -9 | Male   | 1954 | 2008-01-22 | NA | ⋯ | NA | NA | NA | NA | NA | NA | NA | NA | NA | FALSE |\n",
       "| 3 | 1000035 | 1000035 | 0 | 0 | 1 | -9 | Male   | 1944 | 2007-11-08 | NA | ⋯ | NA | NA | NA | NA | NA | NA | NA | NA | NA | FALSE |\n",
       "| 4 | 1000046 | 1000046 | 0 | 0 | 2 | -9 | Female | 1946 | 2008-12-01 | NA | ⋯ | NA | NA | NA | NA | NA | NA | NA | NA | NA | FALSE |\n",
       "| 5 | 1000054 | 1000054 | 0 | 0 | 2 | -9 | Female | 1942 | 2007-11-23 | NA | ⋯ | NA | NA | NA | NA | NA | NA | NA | NA | NA | FALSE |\n",
       "| 6 | 1000063 | 1000063 | 0 | 0 | 1 | -9 | Male   | 1967 | 2010-06-26 | NA | ⋯ | NA | NA | NA | NA | NA | NA | NA | NA | NA | FALSE |\n",
       "\n"
      ],
      "text/plain": [
       "  IID     FID     ignore1 ignore2 ignore3 ignore4 f.31.0.0 f.34.0.0 f.53.0.0  \n",
       "1 1000019 1000019 0       0       2       -9      Female   1960     2008-01-24\n",
       "2 1000022 1000022 0       0       1       -9      Male     1954     2008-01-22\n",
       "3 1000035 1000035 0       0       1       -9      Male     1944     2007-11-08\n",
       "4 1000046 1000046 0       0       2       -9      Female   1946     2008-12-01\n",
       "5 1000054 1000054 0       0       2       -9      Female   1942     2007-11-23\n",
       "6 1000063 1000063 0       0       1       -9      Male     1967     2010-06-26\n",
       "  f.53.1.0 ⋯ f.131229.0.0 f.131230.0.0 f.131231.0.0 f.131232.0.0 f.131233.0.0\n",
       "1 NA       ⋯ NA           NA           NA           NA           NA          \n",
       "2 NA       ⋯ NA           NA           NA           NA           NA          \n",
       "3 NA       ⋯ NA           NA           NA           NA           NA          \n",
       "4 NA       ⋯ NA           NA           NA           NA           NA          \n",
       "5 NA       ⋯ NA           NA           NA           NA           NA          \n",
       "6 NA       ⋯ NA           NA           NA           NA           NA          \n",
       "  f.131250.0.0 f.131251.0.0 f.131252.0.0 f.131253.0.0 exclude\n",
       "1 NA           NA           NA           NA           FALSE  \n",
       "2 NA           NA           NA           NA           FALSE  \n",
       "3 NA           NA           NA           NA           FALSE  \n",
       "4 NA           NA           NA           NA           FALSE  \n",
       "5 NA           NA           NA           NA           FALSE  \n",
       "6 NA           NA           NA           NA           FALSE  "
      ]
     },
     "metadata": {},
     "output_type": "display_data"
    },
    {
     "data": {
      "text/html": [
       "<style>\n",
       ".list-inline {list-style: none; margin:0; padding: 0}\n",
       ".list-inline>li {display: inline-block}\n",
       ".list-inline>li:not(:last-child)::after {content: \"\\00b7\"; padding: 0 .5ex}\n",
       "</style>\n",
       "<ol class=list-inline><li>396974</li><li>2262</li></ol>\n"
      ],
      "text/latex": [
       "\\begin{enumerate*}\n",
       "\\item 396974\n",
       "\\item 2262\n",
       "\\end{enumerate*}\n"
      ],
      "text/markdown": [
       "1. 396974\n",
       "2. 2262\n",
       "\n",
       "\n"
      ],
      "text/plain": [
       "[1] 396974   2262"
      ]
     },
     "metadata": {},
     "output_type": "display_data"
    }
   ],
   "source": [
    "head(df.final.imp)\n",
    "dim(df.final.imp)"
   ]
  },
  {
   "cell_type": "markdown",
   "metadata": {
    "kernel": "R"
   },
   "source": [
    "# Hearing aids (f.3393)"
   ]
  },
  {
   "cell_type": "markdown",
   "metadata": {
    "kernel": "R"
   },
   "source": [
    "## Step 1: classify cases and controls"
   ]
  },
  {
   "cell_type": "code",
   "execution_count": 5,
   "metadata": {
    "kernel": "R"
   },
   "outputs": [],
   "source": [
    "hearing_all = df.final.imp %>% \n",
    "  select(IID,FID,f.31.0.0,f.34.0.0, f.21003.0.0,f.21003.1.0,f.21003.2.0,f.21003.3.0,f.3393.0.0,f.3393.1.0,f.3393.2.0,f.3393.3.0,f.2247.0.0,f.2247.1.0,f.2247.2.0,f.2247.3.0,f.2257.0.0, f.2257.1.0, f.2257.2.0, f.2257.3.0,starts_with(\"f.41270\"),starts_with(\"f.41280\")) "
   ]
  },
  {
   "cell_type": "markdown",
   "metadata": {
    "kernel": "R"
   },
   "source": [
    "### Classify cases and controls based on ICD10 code Z97.4"
   ]
  },
  {
   "cell_type": "code",
   "execution_count": 6,
   "metadata": {
    "kernel": "R"
   },
   "outputs": [],
   "source": [
    "hearing_all = hearing_all %>% \n",
    "  mutate(cases_Z974 = apply(select(hearing_all,starts_with(\"f.41270\")), 1, function(x) any(x %in% c(\"Z974\")))) "
   ]
  },
  {
   "cell_type": "markdown",
   "metadata": {
    "kernel": "R"
   },
   "source": [
    "### Classify the cases and controls for hearing aid, based on 3393"
   ]
  },
  {
   "cell_type": "code",
   "execution_count": 7,
   "metadata": {
    "kernel": "R"
   },
   "outputs": [],
   "source": [
    "options(warn=-1)"
   ]
  },
  {
   "cell_type": "code",
   "execution_count": 8,
   "metadata": {
    "kernel": "R"
   },
   "outputs": [],
   "source": [
    "hearing_all = hearing_all %>% \n",
    "  mutate(cases_3393 = apply(select(hearing_all,starts_with(\"f.3393\")), 1, function(x) length(which(x == \"Yes\")) > 0 && max(which(x == \"No\")) < min(which(x == \"Yes\"))))"
   ]
  },
  {
   "cell_type": "code",
   "execution_count": 9,
   "metadata": {
    "kernel": "R"
   },
   "outputs": [],
   "source": [
    "hearing_all$control_3393 = with(hearing_all, ifelse(f.3393.0.0 %in% c(\"No\",NA,\"Prefer not to answer\") & f.3393.1.0 %in% c(\"No\", NA,\"Prefer not to answer\") & f.3393.2.0 %in% c(\"No\",NA,\"Prefer not to answer\") & f.3393.3.0 %in% c(\"No\",NA,\"Prefer not to answer\") \n",
    "                                                 & !(f.3393.0.0 %in% c(NA,\"Prefer not to answer\") & f.3393.1.0 %in% c(NA,\"Prefer not to answer\") & f.3393.2.0 %in% c(NA,\"Prefer not to answer\") & f.3393.3.0 %in% c(NA,\"Prefer not to answer\")),\"FALSE\", NA))"
   ]
  },
  {
   "cell_type": "code",
   "execution_count": 49,
   "metadata": {
    "kernel": "R"
   },
   "outputs": [
    {
     "data": {
      "text/html": [
       "<table>\n",
       "<caption>A data.frame: 6 × 451</caption>\n",
       "<thead>\n",
       "\t<tr><th></th><th scope=col>IID</th><th scope=col>FID</th><th scope=col>f.31.0.0</th><th scope=col>f.34.0.0</th><th scope=col>f.21003.0.0</th><th scope=col>f.21003.1.0</th><th scope=col>f.21003.2.0</th><th scope=col>f.21003.3.0</th><th scope=col>f.3393.0.0</th><th scope=col>f.3393.1.0</th><th scope=col>⋯</th><th scope=col>f.41280.0.208</th><th scope=col>f.41280.0.209</th><th scope=col>f.41280.0.210</th><th scope=col>f.41280.0.211</th><th scope=col>f.41280.0.212</th><th scope=col>cases_Z974</th><th scope=col>cases_3393</th><th scope=col>control_3393</th><th scope=col>reclass_aid</th><th scope=col>hearing_aid_cat</th></tr>\n",
       "\t<tr><th></th><th scope=col>&lt;int&gt;</th><th scope=col>&lt;int&gt;</th><th scope=col>&lt;fct&gt;</th><th scope=col>&lt;int&gt;</th><th scope=col>&lt;int&gt;</th><th scope=col>&lt;int&gt;</th><th scope=col>&lt;int&gt;</th><th scope=col>&lt;int&gt;</th><th scope=col>&lt;fct&gt;</th><th scope=col>&lt;fct&gt;</th><th scope=col>⋯</th><th scope=col>&lt;fct&gt;</th><th scope=col>&lt;fct&gt;</th><th scope=col>&lt;fct&gt;</th><th scope=col>&lt;fct&gt;</th><th scope=col>&lt;fct&gt;</th><th scope=col>&lt;lgl&gt;</th><th scope=col>&lt;lgl&gt;</th><th scope=col>&lt;chr&gt;</th><th scope=col>&lt;chr&gt;</th><th scope=col>&lt;chr&gt;</th></tr>\n",
       "</thead>\n",
       "<tbody>\n",
       "\t<tr><th scope=row>1</th><td>1002806</td><td>1002806</td><td>Female</td><td>1944</td><td>63</td><td>NA</td><td>NA</td><td>NA</td><td>No</td><td>NA</td><td>⋯</td><td>NA</td><td>NA</td><td>NA</td><td>NA</td><td>NA</td><td>TRUE</td><td>FALSE</td><td>FALSE</td><td>TRUE</td><td>case</td></tr>\n",
       "\t<tr><th scope=row>2</th><td>1011139</td><td>1011139</td><td>Female</td><td>1945</td><td>63</td><td>NA</td><td>NA</td><td>NA</td><td>No</td><td>NA</td><td>⋯</td><td>NA</td><td>NA</td><td>NA</td><td>NA</td><td>NA</td><td>TRUE</td><td>FALSE</td><td>FALSE</td><td>TRUE</td><td>case</td></tr>\n",
       "\t<tr><th scope=row>3</th><td>1019013</td><td>1019013</td><td>Male  </td><td>1938</td><td>69</td><td>NA</td><td>NA</td><td>NA</td><td>No</td><td>NA</td><td>⋯</td><td>NA</td><td>NA</td><td>NA</td><td>NA</td><td>NA</td><td>TRUE</td><td>FALSE</td><td>FALSE</td><td>TRUE</td><td>case</td></tr>\n",
       "\t<tr><th scope=row>4</th><td>1069074</td><td>1069074</td><td>Male  </td><td>1946</td><td>62</td><td>NA</td><td>NA</td><td>NA</td><td>No</td><td>NA</td><td>⋯</td><td>NA</td><td>NA</td><td>NA</td><td>NA</td><td>NA</td><td>TRUE</td><td>FALSE</td><td>FALSE</td><td>TRUE</td><td>case</td></tr>\n",
       "\t<tr><th scope=row>5</th><td>1089526</td><td>1089526</td><td>Male  </td><td>1949</td><td>59</td><td>NA</td><td>NA</td><td>NA</td><td>No</td><td>NA</td><td>⋯</td><td>NA</td><td>NA</td><td>NA</td><td>NA</td><td>NA</td><td>TRUE</td><td>FALSE</td><td>FALSE</td><td>TRUE</td><td>case</td></tr>\n",
       "\t<tr><th scope=row>6</th><td>1148586</td><td>1148586</td><td>Male  </td><td>1939</td><td>69</td><td>NA</td><td>NA</td><td>NA</td><td>No</td><td>NA</td><td>⋯</td><td>NA</td><td>NA</td><td>NA</td><td>NA</td><td>NA</td><td>TRUE</td><td>FALSE</td><td>FALSE</td><td>TRUE</td><td>case</td></tr>\n",
       "</tbody>\n",
       "</table>\n"
      ],
      "text/latex": [
       "A data.frame: 6 × 451\n",
       "\\begin{tabular}{r|lllllllllllllllllllll}\n",
       "  & IID & FID & f.31.0.0 & f.34.0.0 & f.21003.0.0 & f.21003.1.0 & f.21003.2.0 & f.21003.3.0 & f.3393.0.0 & f.3393.1.0 & ⋯ & f.41280.0.208 & f.41280.0.209 & f.41280.0.210 & f.41280.0.211 & f.41280.0.212 & cases\\_Z974 & cases\\_3393 & control\\_3393 & reclass\\_aid & hearing\\_aid\\_cat\\\\\n",
       "  & <int> & <int> & <fct> & <int> & <int> & <int> & <int> & <int> & <fct> & <fct> & ⋯ & <fct> & <fct> & <fct> & <fct> & <fct> & <lgl> & <lgl> & <chr> & <chr> & <chr>\\\\\n",
       "\\hline\n",
       "\t1 & 1002806 & 1002806 & Female & 1944 & 63 & NA & NA & NA & No & NA & ⋯ & NA & NA & NA & NA & NA & TRUE & FALSE & FALSE & TRUE & case\\\\\n",
       "\t2 & 1011139 & 1011139 & Female & 1945 & 63 & NA & NA & NA & No & NA & ⋯ & NA & NA & NA & NA & NA & TRUE & FALSE & FALSE & TRUE & case\\\\\n",
       "\t3 & 1019013 & 1019013 & Male   & 1938 & 69 & NA & NA & NA & No & NA & ⋯ & NA & NA & NA & NA & NA & TRUE & FALSE & FALSE & TRUE & case\\\\\n",
       "\t4 & 1069074 & 1069074 & Male   & 1946 & 62 & NA & NA & NA & No & NA & ⋯ & NA & NA & NA & NA & NA & TRUE & FALSE & FALSE & TRUE & case\\\\\n",
       "\t5 & 1089526 & 1089526 & Male   & 1949 & 59 & NA & NA & NA & No & NA & ⋯ & NA & NA & NA & NA & NA & TRUE & FALSE & FALSE & TRUE & case\\\\\n",
       "\t6 & 1148586 & 1148586 & Male   & 1939 & 69 & NA & NA & NA & No & NA & ⋯ & NA & NA & NA & NA & NA & TRUE & FALSE & FALSE & TRUE & case\\\\\n",
       "\\end{tabular}\n"
      ],
      "text/markdown": [
       "\n",
       "A data.frame: 6 × 451\n",
       "\n",
       "| <!--/--> | IID &lt;int&gt; | FID &lt;int&gt; | f.31.0.0 &lt;fct&gt; | f.34.0.0 &lt;int&gt; | f.21003.0.0 &lt;int&gt; | f.21003.1.0 &lt;int&gt; | f.21003.2.0 &lt;int&gt; | f.21003.3.0 &lt;int&gt; | f.3393.0.0 &lt;fct&gt; | f.3393.1.0 &lt;fct&gt; | ⋯ ⋯ | f.41280.0.208 &lt;fct&gt; | f.41280.0.209 &lt;fct&gt; | f.41280.0.210 &lt;fct&gt; | f.41280.0.211 &lt;fct&gt; | f.41280.0.212 &lt;fct&gt; | cases_Z974 &lt;lgl&gt; | cases_3393 &lt;lgl&gt; | control_3393 &lt;chr&gt; | reclass_aid &lt;chr&gt; | hearing_aid_cat &lt;chr&gt; |\n",
       "|---|---|---|---|---|---|---|---|---|---|---|---|---|---|---|---|---|---|---|---|---|---|\n",
       "| 1 | 1002806 | 1002806 | Female | 1944 | 63 | NA | NA | NA | No | NA | ⋯ | NA | NA | NA | NA | NA | TRUE | FALSE | FALSE | TRUE | case |\n",
       "| 2 | 1011139 | 1011139 | Female | 1945 | 63 | NA | NA | NA | No | NA | ⋯ | NA | NA | NA | NA | NA | TRUE | FALSE | FALSE | TRUE | case |\n",
       "| 3 | 1019013 | 1019013 | Male   | 1938 | 69 | NA | NA | NA | No | NA | ⋯ | NA | NA | NA | NA | NA | TRUE | FALSE | FALSE | TRUE | case |\n",
       "| 4 | 1069074 | 1069074 | Male   | 1946 | 62 | NA | NA | NA | No | NA | ⋯ | NA | NA | NA | NA | NA | TRUE | FALSE | FALSE | TRUE | case |\n",
       "| 5 | 1089526 | 1089526 | Male   | 1949 | 59 | NA | NA | NA | No | NA | ⋯ | NA | NA | NA | NA | NA | TRUE | FALSE | FALSE | TRUE | case |\n",
       "| 6 | 1148586 | 1148586 | Male   | 1939 | 69 | NA | NA | NA | No | NA | ⋯ | NA | NA | NA | NA | NA | TRUE | FALSE | FALSE | TRUE | case |\n",
       "\n"
      ],
      "text/plain": [
       "  IID     FID     f.31.0.0 f.34.0.0 f.21003.0.0 f.21003.1.0 f.21003.2.0\n",
       "1 1002806 1002806 Female   1944     63          NA          NA         \n",
       "2 1011139 1011139 Female   1945     63          NA          NA         \n",
       "3 1019013 1019013 Male     1938     69          NA          NA         \n",
       "4 1069074 1069074 Male     1946     62          NA          NA         \n",
       "5 1089526 1089526 Male     1949     59          NA          NA         \n",
       "6 1148586 1148586 Male     1939     69          NA          NA         \n",
       "  f.21003.3.0 f.3393.0.0 f.3393.1.0 ⋯ f.41280.0.208 f.41280.0.209 f.41280.0.210\n",
       "1 NA          No         NA         ⋯ NA            NA            NA           \n",
       "2 NA          No         NA         ⋯ NA            NA            NA           \n",
       "3 NA          No         NA         ⋯ NA            NA            NA           \n",
       "4 NA          No         NA         ⋯ NA            NA            NA           \n",
       "5 NA          No         NA         ⋯ NA            NA            NA           \n",
       "6 NA          No         NA         ⋯ NA            NA            NA           \n",
       "  f.41280.0.211 f.41280.0.212 cases_Z974 cases_3393 control_3393 reclass_aid\n",
       "1 NA            NA            TRUE       FALSE      FALSE        TRUE       \n",
       "2 NA            NA            TRUE       FALSE      FALSE        TRUE       \n",
       "3 NA            NA            TRUE       FALSE      FALSE        TRUE       \n",
       "4 NA            NA            TRUE       FALSE      FALSE        TRUE       \n",
       "5 NA            NA            TRUE       FALSE      FALSE        TRUE       \n",
       "6 NA            NA            TRUE       FALSE      FALSE        TRUE       \n",
       "  hearing_aid_cat\n",
       "1 case           \n",
       "2 case           \n",
       "3 case           \n",
       "4 case           \n",
       "5 case           \n",
       "6 case           "
      ]
     },
     "metadata": {},
     "output_type": "display_data"
    },
    {
     "data": {
      "text/html": [
       "148"
      ],
      "text/latex": [
       "148"
      ],
      "text/markdown": [
       "148"
      ],
      "text/plain": [
       "[1] 148"
      ]
     },
     "metadata": {},
     "output_type": "display_data"
    }
   ],
   "source": [
    "#148 individuals are true for Z974 but controls for 3393\n",
    "hearing_aid_trial <- hearing_all %>% \n",
    "  filter(cases_Z974 == \"TRUE\" & control_3393 == \"FALSE\")\n",
    "head(hearing_aid_trial)\n",
    "nrow(hearing_aid_trial)"
   ]
  },
  {
   "cell_type": "code",
   "execution_count": 84,
   "metadata": {
    "kernel": "R"
   },
   "outputs": [],
   "source": [
    "hearing_all <- hearing_all %>% \n",
    "  mutate(reclass_aid= case_when(\n",
    "    cases_Z974 == \"TRUE\" & control_3393 == \"FALSE\" ~ \"TRUE\",\n",
    "    cases_Z974 == \"TRUE\" & control_3393 == NA  ~ \"TRUE\",\n",
    "    cases_Z974 == \"TRUE\" & cases_3393 == \"FALSE\" ~ \"TRUE\",\n",
    "    TRUE ~\"FALSE\") ) "
   ]
  },
  {
   "cell_type": "code",
   "execution_count": 85,
   "metadata": {
    "kernel": "R"
   },
   "outputs": [
    {
     "data": {
      "text/html": [
       "13811"
      ],
      "text/latex": [
       "13811"
      ],
      "text/markdown": [
       "13811"
      ],
      "text/plain": [
       "[1] 13811"
      ]
     },
     "metadata": {},
     "output_type": "display_data"
    }
   ],
   "source": [
    "#13811 individuals are cases for either Z947 or 3393\n",
    "#cases_3393 == TRUE N=13,633\n",
    "#reclass_aid == TRUE N=148\n",
    "#reclass_aid ==TRUE & cases_3393 TRUE N=0\n",
    "#reclass_aid ==TRUE & cases_3393 FALSE N=30\n",
    "hearing_aid_cases <- hearing_all %>% \n",
    " filter(reclass_aid == \"TRUE\" | cases_3393 == \"TRUE\" )\n",
    "nrow(hearing_aid_cases)"
   ]
  },
  {
   "cell_type": "code",
   "execution_count": 90,
   "metadata": {
    "kernel": "R"
   },
   "outputs": [
    {
     "data": {
      "text/html": [
       "245222"
      ],
      "text/latex": [
       "245222"
      ],
      "text/markdown": [
       "245222"
      ],
      "text/plain": [
       "[1] 245222"
      ]
     },
     "metadata": {},
     "output_type": "display_data"
    }
   ],
   "source": [
    "#245157 individuals are controls for Z947 and 3393\n",
    "hearing_aid_control <- hearing_all %>% \n",
    " filter(reclass_aid == \"FALSE\" & control_3393 == \"FALSE\")\n",
    "nrow(hearing_aid_control)"
   ]
  },
  {
   "cell_type": "code",
   "execution_count": 91,
   "metadata": {
    "kernel": "R"
   },
   "outputs": [],
   "source": [
    "#merge cases and controls\n",
    "hearing_all <- hearing_all %>% \n",
    "  mutate(hearing_aid_cat= case_when(\n",
    "    reclass_aid == \"TRUE\" | cases_3393 == \"TRUE\" ~ \"case\",\n",
    "    reclass_aid == \"FALSE\" & control_3393 == \"FALSE\" ~ \"control\",\n",
    "    TRUE ~\"NA\")\n",
    "    ) "
   ]
  },
  {
   "cell_type": "code",
   "execution_count": 92,
   "metadata": {
    "kernel": "R"
   },
   "outputs": [
    {
     "data": {
      "text/html": [
       "259033"
      ],
      "text/latex": [
       "259033"
      ],
      "text/markdown": [
       "259033"
      ],
      "text/plain": [
       "[1] 259033"
      ]
     },
     "metadata": {},
     "output_type": "display_data"
    }
   ],
   "source": [
    "#258965 are either cases or controls after reclassification\n",
    "hear_aid <- hearing_all %>% \n",
    "  filter( hearing_aid_cat == \"case\" | hearing_aid_cat == \"control\")\n",
    "nrow(hear_aid)"
   ]
  },
  {
   "cell_type": "code",
   "execution_count": 93,
   "metadata": {
    "kernel": "R"
   },
   "outputs": [
    {
     "data": {
      "text/html": [
       "13811"
      ],
      "text/latex": [
       "13811"
      ],
      "text/markdown": [
       "13811"
      ],
      "text/plain": [
       "[1] 13811"
      ]
     },
     "metadata": {},
     "output_type": "display_data"
    }
   ],
   "source": [
    "nrow(hear_aid %>% filter(hearing_aid_cat ==\"case\"))"
   ]
  },
  {
   "cell_type": "markdown",
   "metadata": {
    "kernel": "R"
   },
   "source": [
    "## step 2: get the ages for hearing aids (3393)"
   ]
  },
  {
   "cell_type": "markdown",
   "metadata": {
    "kernel": "R"
   },
   "source": [
    "### Extract age for Control (3393)"
   ]
  },
  {
   "cell_type": "code",
   "execution_count": 94,
   "metadata": {
    "kernel": "R"
   },
   "outputs": [],
   "source": [
    "aid_age_control <- hearing_all %>% \n",
    "  filter(hearing_aid_cat == \"control\") "
   ]
  },
  {
   "cell_type": "code",
   "execution_count": 95,
   "metadata": {
    "kernel": "R"
   },
   "outputs": [],
   "source": [
    "#find out the age at the last visit (control)\n",
    "\n",
    "offset = which(colnames(aid_age_control) == 'f.21003.0.0') - which(colnames(aid_age_control) == 'f.3393.0.0')\n",
    "\n",
    "aid_age_control$age_aid = apply(aid_age_control, 1, function(x) {\n",
    "  hear_aid = which(x[grep(\"f.3393\", names(x))] == \"No\")\n",
    "  first_index_offset = grep(\"f.3393\", names(x))[1] - 1\n",
    "  unlist(x[hear_aid[length(hear_aid)] + first_index_offset + offset])\n",
    "})\n",
    "\n",
    "res<-head(aid_age_control)"
   ]
  },
  {
   "cell_type": "code",
   "execution_count": 96,
   "metadata": {
    "kernel": "R"
   },
   "outputs": [
    {
     "data": {
      "text/html": [
       "<table>\n",
       "<caption>A data.frame: 6 × 452</caption>\n",
       "<thead>\n",
       "\t<tr><th></th><th scope=col>IID</th><th scope=col>FID</th><th scope=col>f.31.0.0</th><th scope=col>f.34.0.0</th><th scope=col>f.21003.0.0</th><th scope=col>f.21003.1.0</th><th scope=col>f.21003.2.0</th><th scope=col>f.21003.3.0</th><th scope=col>f.3393.0.0</th><th scope=col>f.3393.1.0</th><th scope=col>⋯</th><th scope=col>f.41280.0.209</th><th scope=col>f.41280.0.210</th><th scope=col>f.41280.0.211</th><th scope=col>f.41280.0.212</th><th scope=col>cases_Z974</th><th scope=col>cases_3393</th><th scope=col>control_3393</th><th scope=col>reclass_aid</th><th scope=col>hearing_aid_cat</th><th scope=col>age_aid</th></tr>\n",
       "\t<tr><th></th><th scope=col>&lt;int&gt;</th><th scope=col>&lt;int&gt;</th><th scope=col>&lt;fct&gt;</th><th scope=col>&lt;int&gt;</th><th scope=col>&lt;int&gt;</th><th scope=col>&lt;int&gt;</th><th scope=col>&lt;int&gt;</th><th scope=col>&lt;int&gt;</th><th scope=col>&lt;fct&gt;</th><th scope=col>&lt;fct&gt;</th><th scope=col>⋯</th><th scope=col>&lt;fct&gt;</th><th scope=col>&lt;fct&gt;</th><th scope=col>&lt;fct&gt;</th><th scope=col>&lt;fct&gt;</th><th scope=col>&lt;lgl&gt;</th><th scope=col>&lt;lgl&gt;</th><th scope=col>&lt;chr&gt;</th><th scope=col>&lt;chr&gt;</th><th scope=col>&lt;chr&gt;</th><th scope=col>&lt;chr&gt;</th></tr>\n",
       "</thead>\n",
       "<tbody>\n",
       "\t<tr><th scope=row>1</th><td>1000019</td><td>1000019</td><td>Female</td><td>1960</td><td>47</td><td>NA</td><td>NA</td><td>NA</td><td>No</td><td>NA</td><td>⋯</td><td>NA</td><td>NA</td><td>NA</td><td>NA</td><td>FALSE</td><td>FALSE</td><td>FALSE</td><td>FALSE</td><td>control</td><td>47</td></tr>\n",
       "\t<tr><th scope=row>2</th><td>1000022</td><td>1000022</td><td>Male  </td><td>1954</td><td>53</td><td>NA</td><td>NA</td><td>NA</td><td>No</td><td>NA</td><td>⋯</td><td>NA</td><td>NA</td><td>NA</td><td>NA</td><td>FALSE</td><td>FALSE</td><td>FALSE</td><td>FALSE</td><td>control</td><td>53</td></tr>\n",
       "\t<tr><th scope=row>3</th><td>1000035</td><td>1000035</td><td>Male  </td><td>1944</td><td>63</td><td>NA</td><td>NA</td><td>NA</td><td>No</td><td>NA</td><td>⋯</td><td>NA</td><td>NA</td><td>NA</td><td>NA</td><td>FALSE</td><td>FALSE</td><td>FALSE</td><td>FALSE</td><td>control</td><td>63</td></tr>\n",
       "\t<tr><th scope=row>4</th><td>1000046</td><td>1000046</td><td>Female</td><td>1946</td><td>62</td><td>NA</td><td>73</td><td>NA</td><td>NA</td><td>NA</td><td>⋯</td><td>NA</td><td>NA</td><td>NA</td><td>NA</td><td>FALSE</td><td>FALSE</td><td>FALSE</td><td>FALSE</td><td>control</td><td>73</td></tr>\n",
       "\t<tr><th scope=row>5</th><td>1000054</td><td>1000054</td><td>Female</td><td>1942</td><td>65</td><td>NA</td><td>NA</td><td>NA</td><td>No</td><td>NA</td><td>⋯</td><td>NA</td><td>NA</td><td>NA</td><td>NA</td><td>FALSE</td><td>FALSE</td><td>FALSE</td><td>FALSE</td><td>control</td><td>65</td></tr>\n",
       "\t<tr><th scope=row>6</th><td>1000063</td><td>1000063</td><td>Male  </td><td>1967</td><td>43</td><td>NA</td><td>NA</td><td>NA</td><td>No</td><td>NA</td><td>⋯</td><td>NA</td><td>NA</td><td>NA</td><td>NA</td><td>FALSE</td><td>FALSE</td><td>FALSE</td><td>FALSE</td><td>control</td><td>43</td></tr>\n",
       "</tbody>\n",
       "</table>\n"
      ],
      "text/latex": [
       "A data.frame: 6 × 452\n",
       "\\begin{tabular}{r|lllllllllllllllllllll}\n",
       "  & IID & FID & f.31.0.0 & f.34.0.0 & f.21003.0.0 & f.21003.1.0 & f.21003.2.0 & f.21003.3.0 & f.3393.0.0 & f.3393.1.0 & ⋯ & f.41280.0.209 & f.41280.0.210 & f.41280.0.211 & f.41280.0.212 & cases\\_Z974 & cases\\_3393 & control\\_3393 & reclass\\_aid & hearing\\_aid\\_cat & age\\_aid\\\\\n",
       "  & <int> & <int> & <fct> & <int> & <int> & <int> & <int> & <int> & <fct> & <fct> & ⋯ & <fct> & <fct> & <fct> & <fct> & <lgl> & <lgl> & <chr> & <chr> & <chr> & <chr>\\\\\n",
       "\\hline\n",
       "\t1 & 1000019 & 1000019 & Female & 1960 & 47 & NA & NA & NA & No & NA & ⋯ & NA & NA & NA & NA & FALSE & FALSE & FALSE & FALSE & control & 47\\\\\n",
       "\t2 & 1000022 & 1000022 & Male   & 1954 & 53 & NA & NA & NA & No & NA & ⋯ & NA & NA & NA & NA & FALSE & FALSE & FALSE & FALSE & control & 53\\\\\n",
       "\t3 & 1000035 & 1000035 & Male   & 1944 & 63 & NA & NA & NA & No & NA & ⋯ & NA & NA & NA & NA & FALSE & FALSE & FALSE & FALSE & control & 63\\\\\n",
       "\t4 & 1000046 & 1000046 & Female & 1946 & 62 & NA & 73 & NA & NA & NA & ⋯ & NA & NA & NA & NA & FALSE & FALSE & FALSE & FALSE & control & 73\\\\\n",
       "\t5 & 1000054 & 1000054 & Female & 1942 & 65 & NA & NA & NA & No & NA & ⋯ & NA & NA & NA & NA & FALSE & FALSE & FALSE & FALSE & control & 65\\\\\n",
       "\t6 & 1000063 & 1000063 & Male   & 1967 & 43 & NA & NA & NA & No & NA & ⋯ & NA & NA & NA & NA & FALSE & FALSE & FALSE & FALSE & control & 43\\\\\n",
       "\\end{tabular}\n"
      ],
      "text/markdown": [
       "\n",
       "A data.frame: 6 × 452\n",
       "\n",
       "| <!--/--> | IID &lt;int&gt; | FID &lt;int&gt; | f.31.0.0 &lt;fct&gt; | f.34.0.0 &lt;int&gt; | f.21003.0.0 &lt;int&gt; | f.21003.1.0 &lt;int&gt; | f.21003.2.0 &lt;int&gt; | f.21003.3.0 &lt;int&gt; | f.3393.0.0 &lt;fct&gt; | f.3393.1.0 &lt;fct&gt; | ⋯ ⋯ | f.41280.0.209 &lt;fct&gt; | f.41280.0.210 &lt;fct&gt; | f.41280.0.211 &lt;fct&gt; | f.41280.0.212 &lt;fct&gt; | cases_Z974 &lt;lgl&gt; | cases_3393 &lt;lgl&gt; | control_3393 &lt;chr&gt; | reclass_aid &lt;chr&gt; | hearing_aid_cat &lt;chr&gt; | age_aid &lt;chr&gt; |\n",
       "|---|---|---|---|---|---|---|---|---|---|---|---|---|---|---|---|---|---|---|---|---|---|\n",
       "| 1 | 1000019 | 1000019 | Female | 1960 | 47 | NA | NA | NA | No | NA | ⋯ | NA | NA | NA | NA | FALSE | FALSE | FALSE | FALSE | control | 47 |\n",
       "| 2 | 1000022 | 1000022 | Male   | 1954 | 53 | NA | NA | NA | No | NA | ⋯ | NA | NA | NA | NA | FALSE | FALSE | FALSE | FALSE | control | 53 |\n",
       "| 3 | 1000035 | 1000035 | Male   | 1944 | 63 | NA | NA | NA | No | NA | ⋯ | NA | NA | NA | NA | FALSE | FALSE | FALSE | FALSE | control | 63 |\n",
       "| 4 | 1000046 | 1000046 | Female | 1946 | 62 | NA | 73 | NA | NA | NA | ⋯ | NA | NA | NA | NA | FALSE | FALSE | FALSE | FALSE | control | 73 |\n",
       "| 5 | 1000054 | 1000054 | Female | 1942 | 65 | NA | NA | NA | No | NA | ⋯ | NA | NA | NA | NA | FALSE | FALSE | FALSE | FALSE | control | 65 |\n",
       "| 6 | 1000063 | 1000063 | Male   | 1967 | 43 | NA | NA | NA | No | NA | ⋯ | NA | NA | NA | NA | FALSE | FALSE | FALSE | FALSE | control | 43 |\n",
       "\n"
      ],
      "text/plain": [
       "  IID     FID     f.31.0.0 f.34.0.0 f.21003.0.0 f.21003.1.0 f.21003.2.0\n",
       "1 1000019 1000019 Female   1960     47          NA          NA         \n",
       "2 1000022 1000022 Male     1954     53          NA          NA         \n",
       "3 1000035 1000035 Male     1944     63          NA          NA         \n",
       "4 1000046 1000046 Female   1946     62          NA          73         \n",
       "5 1000054 1000054 Female   1942     65          NA          NA         \n",
       "6 1000063 1000063 Male     1967     43          NA          NA         \n",
       "  f.21003.3.0 f.3393.0.0 f.3393.1.0 ⋯ f.41280.0.209 f.41280.0.210 f.41280.0.211\n",
       "1 NA          No         NA         ⋯ NA            NA            NA           \n",
       "2 NA          No         NA         ⋯ NA            NA            NA           \n",
       "3 NA          No         NA         ⋯ NA            NA            NA           \n",
       "4 NA          NA         NA         ⋯ NA            NA            NA           \n",
       "5 NA          No         NA         ⋯ NA            NA            NA           \n",
       "6 NA          No         NA         ⋯ NA            NA            NA           \n",
       "  f.41280.0.212 cases_Z974 cases_3393 control_3393 reclass_aid hearing_aid_cat\n",
       "1 NA            FALSE      FALSE      FALSE        FALSE       control        \n",
       "2 NA            FALSE      FALSE      FALSE        FALSE       control        \n",
       "3 NA            FALSE      FALSE      FALSE        FALSE       control        \n",
       "4 NA            FALSE      FALSE      FALSE        FALSE       control        \n",
       "5 NA            FALSE      FALSE      FALSE        FALSE       control        \n",
       "6 NA            FALSE      FALSE      FALSE        FALSE       control        \n",
       "  age_aid\n",
       "1 47     \n",
       "2 53     \n",
       "3 63     \n",
       "4 73     \n",
       "5 65     \n",
       "6 43     "
      ]
     },
     "metadata": {},
     "output_type": "display_data"
    }
   ],
   "source": [
    "head(aid_age_control)"
   ]
  },
  {
   "cell_type": "markdown",
   "metadata": {
    "kernel": "R"
   },
   "source": [
    "### Extract age for Cases (3393)"
   ]
  },
  {
   "cell_type": "code",
   "execution_count": 97,
   "metadata": {
    "kernel": "R"
   },
   "outputs": [],
   "source": [
    "#first category of cases (3393 true, Z974 False)\n",
    "aid_age_case1 <- hearing_all %>% \n",
    "  filter(hearing_aid_cat == \"case\" & reclass_aid == \"FALSE\") \n",
    "\n",
    "#find out the age at the first visit (case)\n",
    "\n",
    "offset = which(colnames(aid_age_case1) == 'f.21003.0.0') - which(colnames(aid_age_case1) == 'f.3393.0.0')\n",
    "\n",
    "aid_age_case1$age_aid = apply(aid_age_case1, 1, function(x) {\n",
    "  hear_aid =  which(x[grep(\"f.3393\", names(x))] == \"Yes\")\n",
    "  first_index_offset = grep(\"f.3393\", names(x))[1] - 1\n",
    "  unlist(x[min(hear_aid) + first_index_offset + offset])\n",
    "})\n",
    "\n",
    "res<-head(aid_age_case1)"
   ]
  },
  {
   "cell_type": "code",
   "execution_count": 98,
   "metadata": {
    "kernel": "R"
   },
   "outputs": [
    {
     "data": {
      "text/html": [
       "<table>\n",
       "<caption>A data.frame: 6 × 452</caption>\n",
       "<thead>\n",
       "\t<tr><th></th><th scope=col>IID</th><th scope=col>FID</th><th scope=col>f.31.0.0</th><th scope=col>f.34.0.0</th><th scope=col>f.21003.0.0</th><th scope=col>f.21003.1.0</th><th scope=col>f.21003.2.0</th><th scope=col>f.21003.3.0</th><th scope=col>f.3393.0.0</th><th scope=col>f.3393.1.0</th><th scope=col>⋯</th><th scope=col>f.41280.0.209</th><th scope=col>f.41280.0.210</th><th scope=col>f.41280.0.211</th><th scope=col>f.41280.0.212</th><th scope=col>cases_Z974</th><th scope=col>cases_3393</th><th scope=col>control_3393</th><th scope=col>reclass_aid</th><th scope=col>hearing_aid_cat</th><th scope=col>age_aid</th></tr>\n",
       "\t<tr><th></th><th scope=col>&lt;int&gt;</th><th scope=col>&lt;int&gt;</th><th scope=col>&lt;fct&gt;</th><th scope=col>&lt;int&gt;</th><th scope=col>&lt;int&gt;</th><th scope=col>&lt;int&gt;</th><th scope=col>&lt;int&gt;</th><th scope=col>&lt;int&gt;</th><th scope=col>&lt;fct&gt;</th><th scope=col>&lt;fct&gt;</th><th scope=col>⋯</th><th scope=col>&lt;fct&gt;</th><th scope=col>&lt;fct&gt;</th><th scope=col>&lt;fct&gt;</th><th scope=col>&lt;fct&gt;</th><th scope=col>&lt;lgl&gt;</th><th scope=col>&lt;lgl&gt;</th><th scope=col>&lt;chr&gt;</th><th scope=col>&lt;chr&gt;</th><th scope=col>&lt;chr&gt;</th><th scope=col>&lt;chr&gt;</th></tr>\n",
       "</thead>\n",
       "<tbody>\n",
       "\t<tr><th scope=row>1</th><td>1000112</td><td>1000112</td><td>Male  </td><td>1949</td><td>58</td><td>NA</td><td>68</td><td>NA</td><td>NA </td><td>NA</td><td>⋯</td><td>NA</td><td>NA</td><td>NA</td><td>NA</td><td>FALSE</td><td>TRUE</td><td>NA</td><td>FALSE</td><td>case</td><td>68</td></tr>\n",
       "\t<tr><th scope=row>2</th><td>1001067</td><td>1001067</td><td>Male  </td><td>1959</td><td>50</td><td>NA</td><td>NA</td><td>NA</td><td>Yes</td><td>NA</td><td>⋯</td><td>NA</td><td>NA</td><td>NA</td><td>NA</td><td>FALSE</td><td>TRUE</td><td>NA</td><td>FALSE</td><td>case</td><td>50</td></tr>\n",
       "\t<tr><th scope=row>3</th><td>1001384</td><td>1001384</td><td>Female</td><td>1948</td><td>61</td><td>NA</td><td>NA</td><td>NA</td><td>Yes</td><td>NA</td><td>⋯</td><td>NA</td><td>NA</td><td>NA</td><td>NA</td><td>FALSE</td><td>TRUE</td><td>NA</td><td>FALSE</td><td>case</td><td>61</td></tr>\n",
       "\t<tr><th scope=row>4</th><td>1001459</td><td>1001459</td><td>Male  </td><td>1944</td><td>64</td><td>NA</td><td>NA</td><td>NA</td><td>Yes</td><td>NA</td><td>⋯</td><td>NA</td><td>NA</td><td>NA</td><td>NA</td><td> TRUE</td><td>TRUE</td><td>NA</td><td>FALSE</td><td>case</td><td>64</td></tr>\n",
       "\t<tr><th scope=row>5</th><td>1002548</td><td>1002548</td><td>Male  </td><td>1948</td><td>62</td><td>NA</td><td>NA</td><td>NA</td><td>Yes</td><td>NA</td><td>⋯</td><td>NA</td><td>NA</td><td>NA</td><td>NA</td><td>FALSE</td><td>TRUE</td><td>NA</td><td>FALSE</td><td>case</td><td>62</td></tr>\n",
       "\t<tr><th scope=row>6</th><td>1002888</td><td>1002888</td><td>Male  </td><td>1940</td><td>68</td><td>NA</td><td>NA</td><td>NA</td><td>Yes</td><td>NA</td><td>⋯</td><td>NA</td><td>NA</td><td>NA</td><td>NA</td><td>FALSE</td><td>TRUE</td><td>NA</td><td>FALSE</td><td>case</td><td>68</td></tr>\n",
       "</tbody>\n",
       "</table>\n"
      ],
      "text/latex": [
       "A data.frame: 6 × 452\n",
       "\\begin{tabular}{r|lllllllllllllllllllll}\n",
       "  & IID & FID & f.31.0.0 & f.34.0.0 & f.21003.0.0 & f.21003.1.0 & f.21003.2.0 & f.21003.3.0 & f.3393.0.0 & f.3393.1.0 & ⋯ & f.41280.0.209 & f.41280.0.210 & f.41280.0.211 & f.41280.0.212 & cases\\_Z974 & cases\\_3393 & control\\_3393 & reclass\\_aid & hearing\\_aid\\_cat & age\\_aid\\\\\n",
       "  & <int> & <int> & <fct> & <int> & <int> & <int> & <int> & <int> & <fct> & <fct> & ⋯ & <fct> & <fct> & <fct> & <fct> & <lgl> & <lgl> & <chr> & <chr> & <chr> & <chr>\\\\\n",
       "\\hline\n",
       "\t1 & 1000112 & 1000112 & Male   & 1949 & 58 & NA & 68 & NA & NA  & NA & ⋯ & NA & NA & NA & NA & FALSE & TRUE & NA & FALSE & case & 68\\\\\n",
       "\t2 & 1001067 & 1001067 & Male   & 1959 & 50 & NA & NA & NA & Yes & NA & ⋯ & NA & NA & NA & NA & FALSE & TRUE & NA & FALSE & case & 50\\\\\n",
       "\t3 & 1001384 & 1001384 & Female & 1948 & 61 & NA & NA & NA & Yes & NA & ⋯ & NA & NA & NA & NA & FALSE & TRUE & NA & FALSE & case & 61\\\\\n",
       "\t4 & 1001459 & 1001459 & Male   & 1944 & 64 & NA & NA & NA & Yes & NA & ⋯ & NA & NA & NA & NA &  TRUE & TRUE & NA & FALSE & case & 64\\\\\n",
       "\t5 & 1002548 & 1002548 & Male   & 1948 & 62 & NA & NA & NA & Yes & NA & ⋯ & NA & NA & NA & NA & FALSE & TRUE & NA & FALSE & case & 62\\\\\n",
       "\t6 & 1002888 & 1002888 & Male   & 1940 & 68 & NA & NA & NA & Yes & NA & ⋯ & NA & NA & NA & NA & FALSE & TRUE & NA & FALSE & case & 68\\\\\n",
       "\\end{tabular}\n"
      ],
      "text/markdown": [
       "\n",
       "A data.frame: 6 × 452\n",
       "\n",
       "| <!--/--> | IID &lt;int&gt; | FID &lt;int&gt; | f.31.0.0 &lt;fct&gt; | f.34.0.0 &lt;int&gt; | f.21003.0.0 &lt;int&gt; | f.21003.1.0 &lt;int&gt; | f.21003.2.0 &lt;int&gt; | f.21003.3.0 &lt;int&gt; | f.3393.0.0 &lt;fct&gt; | f.3393.1.0 &lt;fct&gt; | ⋯ ⋯ | f.41280.0.209 &lt;fct&gt; | f.41280.0.210 &lt;fct&gt; | f.41280.0.211 &lt;fct&gt; | f.41280.0.212 &lt;fct&gt; | cases_Z974 &lt;lgl&gt; | cases_3393 &lt;lgl&gt; | control_3393 &lt;chr&gt; | reclass_aid &lt;chr&gt; | hearing_aid_cat &lt;chr&gt; | age_aid &lt;chr&gt; |\n",
       "|---|---|---|---|---|---|---|---|---|---|---|---|---|---|---|---|---|---|---|---|---|---|\n",
       "| 1 | 1000112 | 1000112 | Male   | 1949 | 58 | NA | 68 | NA | NA  | NA | ⋯ | NA | NA | NA | NA | FALSE | TRUE | NA | FALSE | case | 68 |\n",
       "| 2 | 1001067 | 1001067 | Male   | 1959 | 50 | NA | NA | NA | Yes | NA | ⋯ | NA | NA | NA | NA | FALSE | TRUE | NA | FALSE | case | 50 |\n",
       "| 3 | 1001384 | 1001384 | Female | 1948 | 61 | NA | NA | NA | Yes | NA | ⋯ | NA | NA | NA | NA | FALSE | TRUE | NA | FALSE | case | 61 |\n",
       "| 4 | 1001459 | 1001459 | Male   | 1944 | 64 | NA | NA | NA | Yes | NA | ⋯ | NA | NA | NA | NA |  TRUE | TRUE | NA | FALSE | case | 64 |\n",
       "| 5 | 1002548 | 1002548 | Male   | 1948 | 62 | NA | NA | NA | Yes | NA | ⋯ | NA | NA | NA | NA | FALSE | TRUE | NA | FALSE | case | 62 |\n",
       "| 6 | 1002888 | 1002888 | Male   | 1940 | 68 | NA | NA | NA | Yes | NA | ⋯ | NA | NA | NA | NA | FALSE | TRUE | NA | FALSE | case | 68 |\n",
       "\n"
      ],
      "text/plain": [
       "  IID     FID     f.31.0.0 f.34.0.0 f.21003.0.0 f.21003.1.0 f.21003.2.0\n",
       "1 1000112 1000112 Male     1949     58          NA          68         \n",
       "2 1001067 1001067 Male     1959     50          NA          NA         \n",
       "3 1001384 1001384 Female   1948     61          NA          NA         \n",
       "4 1001459 1001459 Male     1944     64          NA          NA         \n",
       "5 1002548 1002548 Male     1948     62          NA          NA         \n",
       "6 1002888 1002888 Male     1940     68          NA          NA         \n",
       "  f.21003.3.0 f.3393.0.0 f.3393.1.0 ⋯ f.41280.0.209 f.41280.0.210 f.41280.0.211\n",
       "1 NA          NA         NA         ⋯ NA            NA            NA           \n",
       "2 NA          Yes        NA         ⋯ NA            NA            NA           \n",
       "3 NA          Yes        NA         ⋯ NA            NA            NA           \n",
       "4 NA          Yes        NA         ⋯ NA            NA            NA           \n",
       "5 NA          Yes        NA         ⋯ NA            NA            NA           \n",
       "6 NA          Yes        NA         ⋯ NA            NA            NA           \n",
       "  f.41280.0.212 cases_Z974 cases_3393 control_3393 reclass_aid hearing_aid_cat\n",
       "1 NA            FALSE      TRUE       NA           FALSE       case           \n",
       "2 NA            FALSE      TRUE       NA           FALSE       case           \n",
       "3 NA            FALSE      TRUE       NA           FALSE       case           \n",
       "4 NA             TRUE      TRUE       NA           FALSE       case           \n",
       "5 NA            FALSE      TRUE       NA           FALSE       case           \n",
       "6 NA            FALSE      TRUE       NA           FALSE       case           \n",
       "  age_aid\n",
       "1 68     \n",
       "2 50     \n",
       "3 61     \n",
       "4 64     \n",
       "5 62     \n",
       "6 68     "
      ]
     },
     "metadata": {},
     "output_type": "display_data"
    }
   ],
   "source": [
    "head(aid_age_case1)"
   ]
  },
  {
   "cell_type": "code",
   "execution_count": 99,
   "metadata": {
    "kernel": "R"
   },
   "outputs": [],
   "source": [
    "#second category of cases (3393 false, Z974 true)\n",
    "aid_age_case2 <- hearing_all %>% \n",
    "  filter(hearing_aid_cat == \"case\" & reclass_aid == \"TRUE\") \n",
    "\n",
    "#age for hearing aid based on Z974\n",
    "offset = which(colnames(aid_age_case2) == 'f.41280.0.0') - which(colnames(aid_age_case2) == 'f.41270.0.0')\n",
    "\n",
    "aid_age_case2$age_aid = apply(aid_age_case2, 1, function(x) {\n",
    "  hear_aid = which(x[grep(\"f.41270\", names(x))] == \"Z974\")\n",
    "  first_index_offset = grep(\"f.41270\", names(x))[1] - 1\n",
    "  unlist(x[hear_aid[length(hear_aid)] + first_index_offset + offset])\n",
    "})"
   ]
  },
  {
   "cell_type": "code",
   "execution_count": 100,
   "metadata": {
    "kernel": "R"
   },
   "outputs": [],
   "source": [
    "hearing_aid_new <- aid_age_case2%>% \n",
    "  separate(age_aid, into = c(\"year\", \"month\", \"day\"), sep = \"-\") %>% \n",
    "  mutate(num_year=as.numeric(year))"
   ]
  },
  {
   "cell_type": "code",
   "execution_count": 101,
   "metadata": {
    "kernel": "R"
   },
   "outputs": [],
   "source": [
    "hearing_aid_new2 <- hearing_aid_new %>%   \n",
    "  mutate(age_aid= num_year - f.34.0.0) %>% \n",
    "  select(-year, -month, -day, -num_year)"
   ]
  },
  {
   "cell_type": "code",
   "execution_count": 102,
   "metadata": {
    "kernel": "R"
   },
   "outputs": [
    {
     "data": {
      "text/html": [
       "<style>\n",
       ".list-inline {list-style: none; margin:0; padding: 0}\n",
       ".list-inline>li {display: inline-block}\n",
       ".list-inline>li:not(:last-child)::after {content: \"\\00b7\"; padding: 0 .5ex}\n",
       "</style>\n",
       "<ol class=list-inline><li>259033</li><li>452</li></ol>\n"
      ],
      "text/latex": [
       "\\begin{enumerate*}\n",
       "\\item 259033\n",
       "\\item 452\n",
       "\\end{enumerate*}\n"
      ],
      "text/markdown": [
       "1. 259033\n",
       "2. 452\n",
       "\n",
       "\n"
      ],
      "text/plain": [
       "[1] 259033    452"
      ]
     },
     "metadata": {},
     "output_type": "display_data"
    },
    {
     "data": {
      "text/html": [
       "<table>\n",
       "<caption>A data.frame: 6 × 452</caption>\n",
       "<thead>\n",
       "\t<tr><th></th><th scope=col>IID</th><th scope=col>FID</th><th scope=col>f.31.0.0</th><th scope=col>f.34.0.0</th><th scope=col>f.21003.0.0</th><th scope=col>f.21003.1.0</th><th scope=col>f.21003.2.0</th><th scope=col>f.21003.3.0</th><th scope=col>f.3393.0.0</th><th scope=col>f.3393.1.0</th><th scope=col>⋯</th><th scope=col>f.41280.0.209</th><th scope=col>f.41280.0.210</th><th scope=col>f.41280.0.211</th><th scope=col>f.41280.0.212</th><th scope=col>cases_Z974</th><th scope=col>cases_3393</th><th scope=col>control_3393</th><th scope=col>reclass_aid</th><th scope=col>hearing_aid_cat</th><th scope=col>age_aid</th></tr>\n",
       "\t<tr><th></th><th scope=col>&lt;int&gt;</th><th scope=col>&lt;int&gt;</th><th scope=col>&lt;fct&gt;</th><th scope=col>&lt;int&gt;</th><th scope=col>&lt;int&gt;</th><th scope=col>&lt;int&gt;</th><th scope=col>&lt;int&gt;</th><th scope=col>&lt;int&gt;</th><th scope=col>&lt;fct&gt;</th><th scope=col>&lt;fct&gt;</th><th scope=col>⋯</th><th scope=col>&lt;fct&gt;</th><th scope=col>&lt;fct&gt;</th><th scope=col>&lt;fct&gt;</th><th scope=col>&lt;fct&gt;</th><th scope=col>&lt;lgl&gt;</th><th scope=col>&lt;lgl&gt;</th><th scope=col>&lt;chr&gt;</th><th scope=col>&lt;chr&gt;</th><th scope=col>&lt;chr&gt;</th><th scope=col>&lt;chr&gt;</th></tr>\n",
       "</thead>\n",
       "<tbody>\n",
       "\t<tr><th scope=row>1</th><td>1000112</td><td>1000112</td><td>Male  </td><td>1949</td><td>58</td><td>NA</td><td>68</td><td>NA</td><td>NA </td><td>NA</td><td>⋯</td><td>NA</td><td>NA</td><td>NA</td><td>NA</td><td>FALSE</td><td>TRUE</td><td>NA</td><td>FALSE</td><td>case</td><td>68</td></tr>\n",
       "\t<tr><th scope=row>2</th><td>1001067</td><td>1001067</td><td>Male  </td><td>1959</td><td>50</td><td>NA</td><td>NA</td><td>NA</td><td>Yes</td><td>NA</td><td>⋯</td><td>NA</td><td>NA</td><td>NA</td><td>NA</td><td>FALSE</td><td>TRUE</td><td>NA</td><td>FALSE</td><td>case</td><td>50</td></tr>\n",
       "\t<tr><th scope=row>3</th><td>1001384</td><td>1001384</td><td>Female</td><td>1948</td><td>61</td><td>NA</td><td>NA</td><td>NA</td><td>Yes</td><td>NA</td><td>⋯</td><td>NA</td><td>NA</td><td>NA</td><td>NA</td><td>FALSE</td><td>TRUE</td><td>NA</td><td>FALSE</td><td>case</td><td>61</td></tr>\n",
       "\t<tr><th scope=row>4</th><td>1001459</td><td>1001459</td><td>Male  </td><td>1944</td><td>64</td><td>NA</td><td>NA</td><td>NA</td><td>Yes</td><td>NA</td><td>⋯</td><td>NA</td><td>NA</td><td>NA</td><td>NA</td><td> TRUE</td><td>TRUE</td><td>NA</td><td>FALSE</td><td>case</td><td>64</td></tr>\n",
       "\t<tr><th scope=row>5</th><td>1002548</td><td>1002548</td><td>Male  </td><td>1948</td><td>62</td><td>NA</td><td>NA</td><td>NA</td><td>Yes</td><td>NA</td><td>⋯</td><td>NA</td><td>NA</td><td>NA</td><td>NA</td><td>FALSE</td><td>TRUE</td><td>NA</td><td>FALSE</td><td>case</td><td>62</td></tr>\n",
       "\t<tr><th scope=row>6</th><td>1002888</td><td>1002888</td><td>Male  </td><td>1940</td><td>68</td><td>NA</td><td>NA</td><td>NA</td><td>Yes</td><td>NA</td><td>⋯</td><td>NA</td><td>NA</td><td>NA</td><td>NA</td><td>FALSE</td><td>TRUE</td><td>NA</td><td>FALSE</td><td>case</td><td>68</td></tr>\n",
       "</tbody>\n",
       "</table>\n"
      ],
      "text/latex": [
       "A data.frame: 6 × 452\n",
       "\\begin{tabular}{r|lllllllllllllllllllll}\n",
       "  & IID & FID & f.31.0.0 & f.34.0.0 & f.21003.0.0 & f.21003.1.0 & f.21003.2.0 & f.21003.3.0 & f.3393.0.0 & f.3393.1.0 & ⋯ & f.41280.0.209 & f.41280.0.210 & f.41280.0.211 & f.41280.0.212 & cases\\_Z974 & cases\\_3393 & control\\_3393 & reclass\\_aid & hearing\\_aid\\_cat & age\\_aid\\\\\n",
       "  & <int> & <int> & <fct> & <int> & <int> & <int> & <int> & <int> & <fct> & <fct> & ⋯ & <fct> & <fct> & <fct> & <fct> & <lgl> & <lgl> & <chr> & <chr> & <chr> & <chr>\\\\\n",
       "\\hline\n",
       "\t1 & 1000112 & 1000112 & Male   & 1949 & 58 & NA & 68 & NA & NA  & NA & ⋯ & NA & NA & NA & NA & FALSE & TRUE & NA & FALSE & case & 68\\\\\n",
       "\t2 & 1001067 & 1001067 & Male   & 1959 & 50 & NA & NA & NA & Yes & NA & ⋯ & NA & NA & NA & NA & FALSE & TRUE & NA & FALSE & case & 50\\\\\n",
       "\t3 & 1001384 & 1001384 & Female & 1948 & 61 & NA & NA & NA & Yes & NA & ⋯ & NA & NA & NA & NA & FALSE & TRUE & NA & FALSE & case & 61\\\\\n",
       "\t4 & 1001459 & 1001459 & Male   & 1944 & 64 & NA & NA & NA & Yes & NA & ⋯ & NA & NA & NA & NA &  TRUE & TRUE & NA & FALSE & case & 64\\\\\n",
       "\t5 & 1002548 & 1002548 & Male   & 1948 & 62 & NA & NA & NA & Yes & NA & ⋯ & NA & NA & NA & NA & FALSE & TRUE & NA & FALSE & case & 62\\\\\n",
       "\t6 & 1002888 & 1002888 & Male   & 1940 & 68 & NA & NA & NA & Yes & NA & ⋯ & NA & NA & NA & NA & FALSE & TRUE & NA & FALSE & case & 68\\\\\n",
       "\\end{tabular}\n"
      ],
      "text/markdown": [
       "\n",
       "A data.frame: 6 × 452\n",
       "\n",
       "| <!--/--> | IID &lt;int&gt; | FID &lt;int&gt; | f.31.0.0 &lt;fct&gt; | f.34.0.0 &lt;int&gt; | f.21003.0.0 &lt;int&gt; | f.21003.1.0 &lt;int&gt; | f.21003.2.0 &lt;int&gt; | f.21003.3.0 &lt;int&gt; | f.3393.0.0 &lt;fct&gt; | f.3393.1.0 &lt;fct&gt; | ⋯ ⋯ | f.41280.0.209 &lt;fct&gt; | f.41280.0.210 &lt;fct&gt; | f.41280.0.211 &lt;fct&gt; | f.41280.0.212 &lt;fct&gt; | cases_Z974 &lt;lgl&gt; | cases_3393 &lt;lgl&gt; | control_3393 &lt;chr&gt; | reclass_aid &lt;chr&gt; | hearing_aid_cat &lt;chr&gt; | age_aid &lt;chr&gt; |\n",
       "|---|---|---|---|---|---|---|---|---|---|---|---|---|---|---|---|---|---|---|---|---|---|\n",
       "| 1 | 1000112 | 1000112 | Male   | 1949 | 58 | NA | 68 | NA | NA  | NA | ⋯ | NA | NA | NA | NA | FALSE | TRUE | NA | FALSE | case | 68 |\n",
       "| 2 | 1001067 | 1001067 | Male   | 1959 | 50 | NA | NA | NA | Yes | NA | ⋯ | NA | NA | NA | NA | FALSE | TRUE | NA | FALSE | case | 50 |\n",
       "| 3 | 1001384 | 1001384 | Female | 1948 | 61 | NA | NA | NA | Yes | NA | ⋯ | NA | NA | NA | NA | FALSE | TRUE | NA | FALSE | case | 61 |\n",
       "| 4 | 1001459 | 1001459 | Male   | 1944 | 64 | NA | NA | NA | Yes | NA | ⋯ | NA | NA | NA | NA |  TRUE | TRUE | NA | FALSE | case | 64 |\n",
       "| 5 | 1002548 | 1002548 | Male   | 1948 | 62 | NA | NA | NA | Yes | NA | ⋯ | NA | NA | NA | NA | FALSE | TRUE | NA | FALSE | case | 62 |\n",
       "| 6 | 1002888 | 1002888 | Male   | 1940 | 68 | NA | NA | NA | Yes | NA | ⋯ | NA | NA | NA | NA | FALSE | TRUE | NA | FALSE | case | 68 |\n",
       "\n"
      ],
      "text/plain": [
       "  IID     FID     f.31.0.0 f.34.0.0 f.21003.0.0 f.21003.1.0 f.21003.2.0\n",
       "1 1000112 1000112 Male     1949     58          NA          68         \n",
       "2 1001067 1001067 Male     1959     50          NA          NA         \n",
       "3 1001384 1001384 Female   1948     61          NA          NA         \n",
       "4 1001459 1001459 Male     1944     64          NA          NA         \n",
       "5 1002548 1002548 Male     1948     62          NA          NA         \n",
       "6 1002888 1002888 Male     1940     68          NA          NA         \n",
       "  f.21003.3.0 f.3393.0.0 f.3393.1.0 ⋯ f.41280.0.209 f.41280.0.210 f.41280.0.211\n",
       "1 NA          NA         NA         ⋯ NA            NA            NA           \n",
       "2 NA          Yes        NA         ⋯ NA            NA            NA           \n",
       "3 NA          Yes        NA         ⋯ NA            NA            NA           \n",
       "4 NA          Yes        NA         ⋯ NA            NA            NA           \n",
       "5 NA          Yes        NA         ⋯ NA            NA            NA           \n",
       "6 NA          Yes        NA         ⋯ NA            NA            NA           \n",
       "  f.41280.0.212 cases_Z974 cases_3393 control_3393 reclass_aid hearing_aid_cat\n",
       "1 NA            FALSE      TRUE       NA           FALSE       case           \n",
       "2 NA            FALSE      TRUE       NA           FALSE       case           \n",
       "3 NA            FALSE      TRUE       NA           FALSE       case           \n",
       "4 NA             TRUE      TRUE       NA           FALSE       case           \n",
       "5 NA            FALSE      TRUE       NA           FALSE       case           \n",
       "6 NA            FALSE      TRUE       NA           FALSE       case           \n",
       "  age_aid\n",
       "1 68     \n",
       "2 50     \n",
       "3 61     \n",
       "4 64     \n",
       "5 62     \n",
       "6 68     "
      ]
     },
     "metadata": {},
     "output_type": "display_data"
    }
   ],
   "source": [
    "#merge age for cases and controls\n",
    "hearing_clean <- rbind(aid_age_case1,hearing_aid_new2, aid_age_control) \n",
    "dim(hearing_clean)\n",
    "head(hearing_clean)"
   ]
  },
  {
   "cell_type": "code",
   "execution_count": 78,
   "metadata": {
    "kernel": "R"
   },
   "outputs": [],
   "source": [
    "#merge back to the origical data set\n",
    "hearing_clean <- merge(x = hearing_all, y = hearing_clean, by = c(\"IID\",\"FID\") ,all.x = TRUE) %>% \n",
    "  select(-ends_with(\".y\")) %>% \n",
    "  dplyr::rename_all(\n",
    "    ~stringr::str_replace_all(., \".x\", \"\")\n",
    "    )"
   ]
  },
  {
   "cell_type": "code",
   "execution_count": 65,
   "metadata": {
    "kernel": "R"
   },
   "outputs": [
    {
     "data": {
      "text/html": [
       "<style>\n",
       ".list-inline {list-style: none; margin:0; padding: 0}\n",
       ".list-inline>li {display: inline-block}\n",
       ".list-inline>li:not(:last-child)::after {content: \"\\00b7\"; padding: 0 .5ex}\n",
       "</style>\n",
       "<ol class=list-inline><li>259033</li><li>5</li></ol>\n"
      ],
      "text/latex": [
       "\\begin{enumerate*}\n",
       "\\item 259033\n",
       "\\item 5\n",
       "\\end{enumerate*}\n"
      ],
      "text/markdown": [
       "1. 259033\n",
       "2. 5\n",
       "\n",
       "\n"
      ],
      "text/plain": [
       "[1] 259033      5"
      ]
     },
     "metadata": {},
     "output_type": "display_data"
    }
   ],
   "source": [
    "haoyue_f3393 <- read.table('041421_UKBB_Hearing_aid_f3393_expandedwhite_z974included', header=TRUE)\n",
    "dim(haoyue_f3393)"
   ]
  },
  {
   "cell_type": "code",
   "execution_count": 103,
   "metadata": {
    "kernel": "R",
    "scrolled": true
   },
   "outputs": [
    {
     "data": {
      "text/html": [
       "<table>\n",
       "<caption>A data.frame: 0 × 5</caption>\n",
       "<thead>\n",
       "\t<tr><th scope=col>FID</th><th scope=col>IID</th><th scope=col>age_final_aid</th><th scope=col>sex</th><th scope=col>hearing_aid_cat_new</th></tr>\n",
       "\t<tr><th scope=col>&lt;int&gt;</th><th scope=col>&lt;int&gt;</th><th scope=col>&lt;int&gt;</th><th scope=col>&lt;int&gt;</th><th scope=col>&lt;int&gt;</th></tr>\n",
       "</thead>\n",
       "<tbody>\n",
       "</tbody>\n",
       "</table>\n"
      ],
      "text/latex": [
       "A data.frame: 0 × 5\n",
       "\\begin{tabular}{lllll}\n",
       " FID & IID & age\\_final\\_aid & sex & hearing\\_aid\\_cat\\_new\\\\\n",
       " <int> & <int> & <int> & <int> & <int>\\\\\n",
       "\\hline\n",
       "\\end{tabular}\n"
      ],
      "text/markdown": [
       "\n",
       "A data.frame: 0 × 5\n",
       "\n",
       "| FID &lt;int&gt; | IID &lt;int&gt; | age_final_aid &lt;int&gt; | sex &lt;int&gt; | hearing_aid_cat_new &lt;int&gt; |\n",
       "|---|---|---|---|---|\n",
       "\n"
      ],
      "text/plain": [
       "     FID IID age_final_aid sex hearing_aid_cat_new"
      ]
     },
     "metadata": {},
     "output_type": "display_data"
    }
   ],
   "source": [
    "cases_not_in_ran <- haoyue_f3393 %>%\n",
    "    filter(!(IID %in% hearing_clean$IID))\n",
    "cases_not_in_ran"
   ]
  },
  {
   "cell_type": "code",
   "execution_count": 104,
   "metadata": {
    "kernel": "R"
   },
   "outputs": [
    {
     "data": {
      "text/html": [
       "259033"
      ],
      "text/latex": [
       "259033"
      ],
      "text/markdown": [
       "259033"
      ],
      "text/plain": [
       "[1] 259033"
      ]
     },
     "metadata": {},
     "output_type": "display_data"
    }
   ],
   "source": [
    "nrow(hearing_clean)"
   ]
  },
  {
   "cell_type": "markdown",
   "metadata": {
    "kernel": "R"
   },
   "source": [
    "## First problem"
   ]
  },
  {
   "cell_type": "code",
   "execution_count": 144,
   "metadata": {
    "kernel": "R"
   },
   "outputs": [
    {
     "data": {
      "text/html": [
       "<table>\n",
       "<caption>A data.frame: 4 × 10</caption>\n",
       "<thead>\n",
       "\t<tr><th scope=col>IID</th><th scope=col>f.3393.0.0</th><th scope=col>f.3393.1.0</th><th scope=col>f.3393.2.0</th><th scope=col>f.3393.3.0</th><th scope=col>cases_Z974</th><th scope=col>cases_3393</th><th scope=col>control_3393</th><th scope=col>reclass_aid</th><th scope=col>hearing_aid_cat</th></tr>\n",
       "\t<tr><th scope=col>&lt;int&gt;</th><th scope=col>&lt;fct&gt;</th><th scope=col>&lt;fct&gt;</th><th scope=col>&lt;fct&gt;</th><th scope=col>&lt;fct&gt;</th><th scope=col>&lt;lgl&gt;</th><th scope=col>&lt;lgl&gt;</th><th scope=col>&lt;chr&gt;</th><th scope=col>&lt;chr&gt;</th><th scope=col>&lt;chr&gt;</th></tr>\n",
       "</thead>\n",
       "<tbody>\n",
       "\t<tr><td>1010377</td><td>No</td><td>NA</td><td>Prefer not to answer</td><td>NA</td><td>FALSE</td><td>FALSE</td><td>NA</td><td>FALSE</td><td>NA</td></tr>\n",
       "\t<tr><td>1067717</td><td>No</td><td>NA</td><td>Prefer not to answer</td><td>NA</td><td>FALSE</td><td>FALSE</td><td>NA</td><td>FALSE</td><td>NA</td></tr>\n",
       "\t<tr><td>1117169</td><td>No</td><td>NA</td><td>Prefer not to answer</td><td>NA</td><td>FALSE</td><td>FALSE</td><td>NA</td><td>FALSE</td><td>NA</td></tr>\n",
       "\t<tr><td>1294639</td><td>No</td><td>No</td><td>Prefer not to answer</td><td>NA</td><td>FALSE</td><td>FALSE</td><td>NA</td><td>FALSE</td><td>NA</td></tr>\n",
       "</tbody>\n",
       "</table>\n"
      ],
      "text/latex": [
       "A data.frame: 4 × 10\n",
       "\\begin{tabular}{llllllllll}\n",
       " IID & f.3393.0.0 & f.3393.1.0 & f.3393.2.0 & f.3393.3.0 & cases\\_Z974 & cases\\_3393 & control\\_3393 & reclass\\_aid & hearing\\_aid\\_cat\\\\\n",
       " <int> & <fct> & <fct> & <fct> & <fct> & <lgl> & <lgl> & <chr> & <chr> & <chr>\\\\\n",
       "\\hline\n",
       "\t 1010377 & No & NA & Prefer not to answer & NA & FALSE & FALSE & NA & FALSE & NA\\\\\n",
       "\t 1067717 & No & NA & Prefer not to answer & NA & FALSE & FALSE & NA & FALSE & NA\\\\\n",
       "\t 1117169 & No & NA & Prefer not to answer & NA & FALSE & FALSE & NA & FALSE & NA\\\\\n",
       "\t 1294639 & No & No & Prefer not to answer & NA & FALSE & FALSE & NA & FALSE & NA\\\\\n",
       "\\end{tabular}\n"
      ],
      "text/markdown": [
       "\n",
       "A data.frame: 4 × 10\n",
       "\n",
       "| IID &lt;int&gt; | f.3393.0.0 &lt;fct&gt; | f.3393.1.0 &lt;fct&gt; | f.3393.2.0 &lt;fct&gt; | f.3393.3.0 &lt;fct&gt; | cases_Z974 &lt;lgl&gt; | cases_3393 &lt;lgl&gt; | control_3393 &lt;chr&gt; | reclass_aid &lt;chr&gt; | hearing_aid_cat &lt;chr&gt; |\n",
       "|---|---|---|---|---|---|---|---|---|---|\n",
       "| 1010377 | No | NA | Prefer not to answer | NA | FALSE | FALSE | NA | FALSE | NA |\n",
       "| 1067717 | No | NA | Prefer not to answer | NA | FALSE | FALSE | NA | FALSE | NA |\n",
       "| 1117169 | No | NA | Prefer not to answer | NA | FALSE | FALSE | NA | FALSE | NA |\n",
       "| 1294639 | No | No | Prefer not to answer | NA | FALSE | FALSE | NA | FALSE | NA |\n",
       "\n"
      ],
      "text/plain": [
       "  IID     f.3393.0.0 f.3393.1.0 f.3393.2.0           f.3393.3.0 cases_Z974\n",
       "1 1010377 No         NA         Prefer not to answer NA         FALSE     \n",
       "2 1067717 No         NA         Prefer not to answer NA         FALSE     \n",
       "3 1117169 No         NA         Prefer not to answer NA         FALSE     \n",
       "4 1294639 No         No         Prefer not to answer NA         FALSE     \n",
       "  cases_3393 control_3393 reclass_aid hearing_aid_cat\n",
       "1 FALSE      NA           FALSE       NA             \n",
       "2 FALSE      NA           FALSE       NA             \n",
       "3 FALSE      NA           FALSE       NA             \n",
       "4 FALSE      NA           FALSE       NA             "
      ]
     },
     "metadata": {},
     "output_type": "display_data"
    }
   ],
   "source": [
    "hearing_all %>% \n",
    "    filter (IID %in% c(1010377, 1067717, 1117169, 1294639)) %>%\n",
    "    select (IID, starts_with('f.3393'),cases_Z974, cases_3393, control_3393, reclass_aid, hearing_aid_cat)"
   ]
  },
  {
   "cell_type": "markdown",
   "metadata": {
    "kernel": "R"
   },
   "source": [
    "## Second problem"
   ]
  },
  {
   "cell_type": "code",
   "execution_count": 105,
   "metadata": {
    "kernel": "R"
   },
   "outputs": [
    {
     "data": {
      "text/html": [
       "<table>\n",
       "<caption>A data.frame: 3 × 10</caption>\n",
       "<thead>\n",
       "\t<tr><th scope=col>IID</th><th scope=col>f.3393.0.0</th><th scope=col>f.3393.1.0</th><th scope=col>f.3393.2.0</th><th scope=col>f.3393.3.0</th><th scope=col>cases_Z974</th><th scope=col>cases_3393</th><th scope=col>control_3393</th><th scope=col>reclass_aid</th><th scope=col>hearing_aid_cat</th></tr>\n",
       "\t<tr><th scope=col>&lt;int&gt;</th><th scope=col>&lt;fct&gt;</th><th scope=col>&lt;fct&gt;</th><th scope=col>&lt;fct&gt;</th><th scope=col>&lt;fct&gt;</th><th scope=col>&lt;lgl&gt;</th><th scope=col>&lt;lgl&gt;</th><th scope=col>&lt;chr&gt;</th><th scope=col>&lt;chr&gt;</th><th scope=col>&lt;chr&gt;</th></tr>\n",
       "</thead>\n",
       "<tbody>\n",
       "\t<tr><td>1421064</td><td>NA</td><td>NA</td><td>NA</td><td>NA</td><td>TRUE</td><td>FALSE</td><td>NA</td><td>TRUE</td><td>case</td></tr>\n",
       "\t<tr><td>1497578</td><td>NA</td><td>NA</td><td>NA</td><td>NA</td><td>TRUE</td><td>FALSE</td><td>NA</td><td>TRUE</td><td>case</td></tr>\n",
       "\t<tr><td>1637509</td><td>NA</td><td>NA</td><td>NA</td><td>NA</td><td>TRUE</td><td>FALSE</td><td>NA</td><td>TRUE</td><td>case</td></tr>\n",
       "</tbody>\n",
       "</table>\n"
      ],
      "text/latex": [
       "A data.frame: 3 × 10\n",
       "\\begin{tabular}{llllllllll}\n",
       " IID & f.3393.0.0 & f.3393.1.0 & f.3393.2.0 & f.3393.3.0 & cases\\_Z974 & cases\\_3393 & control\\_3393 & reclass\\_aid & hearing\\_aid\\_cat\\\\\n",
       " <int> & <fct> & <fct> & <fct> & <fct> & <lgl> & <lgl> & <chr> & <chr> & <chr>\\\\\n",
       "\\hline\n",
       "\t 1421064 & NA & NA & NA & NA & TRUE & FALSE & NA & TRUE & case\\\\\n",
       "\t 1497578 & NA & NA & NA & NA & TRUE & FALSE & NA & TRUE & case\\\\\n",
       "\t 1637509 & NA & NA & NA & NA & TRUE & FALSE & NA & TRUE & case\\\\\n",
       "\\end{tabular}\n"
      ],
      "text/markdown": [
       "\n",
       "A data.frame: 3 × 10\n",
       "\n",
       "| IID &lt;int&gt; | f.3393.0.0 &lt;fct&gt; | f.3393.1.0 &lt;fct&gt; | f.3393.2.0 &lt;fct&gt; | f.3393.3.0 &lt;fct&gt; | cases_Z974 &lt;lgl&gt; | cases_3393 &lt;lgl&gt; | control_3393 &lt;chr&gt; | reclass_aid &lt;chr&gt; | hearing_aid_cat &lt;chr&gt; |\n",
       "|---|---|---|---|---|---|---|---|---|---|\n",
       "| 1421064 | NA | NA | NA | NA | TRUE | FALSE | NA | TRUE | case |\n",
       "| 1497578 | NA | NA | NA | NA | TRUE | FALSE | NA | TRUE | case |\n",
       "| 1637509 | NA | NA | NA | NA | TRUE | FALSE | NA | TRUE | case |\n",
       "\n"
      ],
      "text/plain": [
       "  IID     f.3393.0.0 f.3393.1.0 f.3393.2.0 f.3393.3.0 cases_Z974 cases_3393\n",
       "1 1421064 NA         NA         NA         NA         TRUE       FALSE     \n",
       "2 1497578 NA         NA         NA         NA         TRUE       FALSE     \n",
       "3 1637509 NA         NA         NA         NA         TRUE       FALSE     \n",
       "  control_3393 reclass_aid hearing_aid_cat\n",
       "1 NA           TRUE        case           \n",
       "2 NA           TRUE        case           \n",
       "3 NA           TRUE        case           "
      ]
     },
     "metadata": {},
     "output_type": "display_data"
    }
   ],
   "source": [
    "hearing_all %>% \n",
    "    filter(IID %in% c(1421064, 1497578, 1637509))%>%\n",
    "    select (IID, starts_with('f.3393'),cases_Z974, cases_3393, control_3393, reclass_aid, hearing_aid_cat)"
   ]
  },
  {
   "cell_type": "markdown",
   "metadata": {
    "kernel": "R"
   },
   "source": [
    "# Hearing difficulty/problems (2247)"
   ]
  },
  {
   "cell_type": "markdown",
   "metadata": {
    "kernel": "R"
   },
   "source": [
    "## Step 1: classify cases and controls"
   ]
  },
  {
   "cell_type": "code",
   "execution_count": 131,
   "metadata": {
    "kernel": "R"
   },
   "outputs": [],
   "source": [
    "#classify cases of hearing difficulty/problems based on 2247\n",
    "hearing_diff <- hearing_clean %>% \n",
    "  mutate(cases_2247 = apply(select(.,starts_with(\"f.2247\")), 1, function(x) length(which(x == \"Yes\")) > 0 & max(which(x != \"Yes\")) < min(which(x == \"Yes\")))\n",
    "  )"
   ]
  },
  {
   "cell_type": "code",
   "execution_count": null,
   "metadata": {
    "kernel": "R"
   },
   "outputs": [],
   "source": [
    "#classify controls of hearing difficulty/problems based on 2247\n",
    "hearing_diff$control_2247 = with(hearing_diff, ifelse(f.2247.0.0 %in% c(\"No\",NA) & f.2247.1.0 %in% c(\"No\", NA) & f.2247.2.0 %in% c(\"No\",NA) & f.2247.3.0 %in% c(\"No\",NA) \n",
    "                                                 & !(f.2247.0.0 %in% c(NA) & f.2247.1.0 %in% c(NA) & f.2247.2.0 %in% c(NA) & f.2247.3.0 %in% c(NA)),\"FALSE\", \"NA\")) "
   ]
  }
 ],
 "metadata": {
  "kernelspec": {
   "display_name": "SoS",
   "language": "sos",
   "name": "sos"
  },
  "language_info": {
   "codemirror_mode": "sos",
   "file_extension": ".sos",
   "mimetype": "text/x-sos",
   "name": "sos",
   "nbconvert_exporter": "sos_notebook.converter.SoS_Exporter",
   "pygments_lexer": "sos"
  },
  "sos": {
   "kernels": [
    [
     "R",
     "ir",
     "R",
     "#DCDCDA",
     ""
    ],
    [
     "SoS",
     "sos",
     "",
     "",
     "sos"
    ]
   ],
   "version": "0.21.21"
  }
 },
 "nbformat": 4,
 "nbformat_minor": 5
}
