{
 "cells": [
  {
   "cell_type": "markdown",
   "id": "systematic-question",
   "metadata": {
    "kernel": "SoS",
    "tags": []
   },
   "source": [
    "## Filter hearing impairment phenotypes using Ran code"
   ]
  },
  {
   "cell_type": "code",
   "execution_count": null,
   "id": "engaged-pencil",
   "metadata": {
    "kernel": "SoS"
   },
   "outputs": [],
   "source": []
  }
 ],
 "metadata": {
  "kernelspec": {
   "display_name": "SoS",
   "language": "sos",
   "name": "sos"
  },
  "language_info": {
   "codemirror_mode": "sos",
   "file_extension": ".sos",
   "mimetype": "text/x-sos",
   "name": "sos",
   "nbconvert_exporter": "sos_notebook.converter.SoS_Exporter",
   "pygments_lexer": "sos"
  },
  "sos": {
   "kernels": [
    [
     "SoS",
     "sos",
     "",
     ""
    ]
   ],
   "version": "0.22.3"
  }
 },
 "nbformat": 4,
 "nbformat_minor": 5
}
