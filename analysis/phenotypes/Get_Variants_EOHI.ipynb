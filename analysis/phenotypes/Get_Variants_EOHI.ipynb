{
 "cells": [
  {
   "cell_type": "markdown",
   "metadata": {
    "kernel": "Bash"
   },
   "source": [
    "## Thashi's analysis\n",
    "\n",
    "### Aim:\n",
    "\n",
    "Retrieve the variants in these specific genes from the results of exome and imputed data of hearing impairment traits. Only filter those variants with p-val < 0.05"
   ]
  },
  {
   "cell_type": "code",
   "execution_count": 10,
   "metadata": {
    "kernel": "Bash"
   },
   "outputs": [],
   "source": [
    "##Coordinates for hg38 exome data\n",
    "#Chr2\t178815308\t179060137\n",
    "#Chr17\t36485636\t36545338\n",
    "#Chr7\t21533039\t21911839\n",
    "#Chr17\t72111020\t72136416\n",
    "#Chr2\t113205997\t113288921\n",
    "#Chr2\t130449455\t130519707\n",
    "#Chr9\t135692185\t135805502\n",
    "#Chr6\t168282830\t168329777\n",
    "#Chr2\t231443531\t231474484\n",
    "#Chr4\t142013160\t142856535\n",
    "\n",
    "cd /gpfs/gibbs/pi/dewan/data/UKBiobank/results/REGENIE_results/results_exome_data/\n",
    "for file in */*.snp_stats.gz; do\n",
    "    zcat $file | awk  -F'\\t' '{\n",
    "      flag=0; \n",
    "      for (i=1;i<=NF;i++) if ($1 == 2 && $2 > 178815308 && $2 < 179060137 && $8<0.05)  flag=1;\n",
    "      for (i=1;i<=NF;i++) if ($1 == 17 && $2 > 36485636 && $2 < 36545338 && $8<0.05)  flag=1; \n",
    "      for (i=1;i<=NF;i++) if ($1 == 7 && $2 > 21533039 && $2 < 21911839 && $8<0.05)  flag=1; \n",
    "      for (i=1;i<=NF;i++) if ($1 == 17 && $2 > 72111020 && $2 < 72136416 && $8<0.05)  flag=1;\n",
    "      for (i=1;i<=NF;i++) if ($1 == 2 && $2 > 113205997 && $2 < 113288921 && $8<0.05)  flag=1;\n",
    "      for (i=1;i<=NF;i++) if ($1 == 2 && $2 > 130449455 && $2 < 130519707 && $8<0.05)  flag=1;\n",
    "      for (i=1;i<=NF;i++) if ($1 == 9 && $2 > 135692185 && $2 < 135805502 && $8<0.05)  flag=1;\n",
    "      for (i=1;i<=NF;i++) if ($1 == 6 && $2 > 168282830 && $2 < 168329777 && $8<0.05) flag=1;\n",
    "      for (i=1;i<=NF;i++) if ($1 == 2 && $2 > 231443531 && $2 < 231474484 && $8<0.05) flag=1;\n",
    "      for (i=1;i<=NF;i++) if ($1 == 4 && $2 > 142013160 && $2 < 142856535 && $8<0.05) flag=1;\n",
    "      if (flag) print\n",
    "    }' > /gpfs/gibbs/pi/dewan/data/UKBiobank/results/REGENIE_results/results_exome_data/${file%%.*}.EOHI ;done"
   ]
  },
  {
   "cell_type": "code",
   "execution_count": null,
   "metadata": {
    "kernel": "Bash"
   },
   "outputs": [],
   "source": [
    "## Coordinates for hg19 imputed data\n",
    "#Chr2\t179684484\t179924864\n",
    "#Chr17\t34841480\t34900695\n",
    "#Chr7\t21572657\t21951457\n",
    "#Chr17\t70107161\t70132557\n",
    "#Chr2\t113963574\t114046498\n",
    "#Chr2\t131207028\t131277280\n",
    "#Chr9\t138584031\t138697348\n",
    "#Chr6\t168683510\t168730457\n",
    "#Chr2\t232308242\t232339195\n",
    "#Chr4\t142934313\t143777688\n",
    "cd /gpfs/gibbs/pi/dewan/data/UKBiobank/results/FastGWA_results/results_imputed_data/hearing_impairment\n",
    "for file in */*.snp_stats.gz; do\n",
    "    zcat $file | awk  -F'\\t' '{\n",
    "      flag=0; \n",
    "      for (i=1;i<=NF;i++) if ($1 == 2 && $2 > 179684484 && $2 < 179924864 && $8<0.05)  flag=1;\n",
    "      for (i=1;i<=NF;i++) if ($1 == 17 && $2 > 34841480 && $2 < 34900695 && $8<0.05)  flag=1; \n",
    "      for (i=1;i<=NF;i++) if ($1 == 7 && $2 >21572657 && $2 < 21951457 && $8<0.05)  flag=1; \n",
    "      for (i=1;i<=NF;i++) if ($1 == 17 && $2 > 70107161 && $2 < 70132557 && $8<0.05)  flag=1;\n",
    "      for (i=1;i<=NF;i++) if ($1 == 2 && $2 > 113963574 && $2 < 114046498 && $8<0.05)  flag=1;\n",
    "      for (i=1;i<=NF;i++) if ($1 == 2 && $2 > 131207028 && $2 < 131277280 && $8<0.05)  flag=1;\n",
    "      for (i=1;i<=NF;i++) if ($1 == 9 && $2 > 138584031 && $2 < 138697348 && $8<0.05)  flag=1;\n",
    "      for (i=1;i<=NF;i++) if ($1 == 6 && $2 > 168683510 && $2 < 168730457 && $8<0.05) flag=1;\n",
    "      for (i=1;i<=NF;i++) if ($1 == 2 && $2 > 232308242 && $2 < 232339195 && $8<0.05) flag=1;\n",
    "      for (i=1;i<=NF;i++) if ($1 == 4 && $2 > 142934313 && $2 < 143777688 && $8<0.05) flag=1;\n",
    "      if (flag) print\n",
    "    }' > /gpfs/gibbs/pi/dewan/data/UKBiobank/results/FastGWA_results/results_imputed_data/hearing_impairment/${file%%.*}.EOHI ;done"
   ]
  },
  {
   "cell_type": "code",
   "execution_count": 10,
   "metadata": {
    "kernel": "Bash"
   },
   "outputs": [],
   "source": [
    "cd /gpfs/gibbs/pi/dewan/data/UKBiobank/results/FastGWA_results/results_imputed_data/hearing_impairment/srt_int_worst\n",
    "for file in *.snp_stats.gz; do\n",
    "    zcat $file | awk 'NR==1{print}' >> ~/${file%%.*}.EOHI\n",
    "    zcat $file | awk  -F'\\t' '{\n",
    "      flag=0; \n",
    "      for (i=1;i<=NF;i++) if ($1 == 2 && $2 > 179684484 && $2 < 179924864 && $8<0.05)  flag=1;\n",
    "    if (flag) print\n",
    "    }' >> ~/${file%%.*}.EOHI\n",
    "    gzip -c ~/${file%%.*}.EOHI > ~/${file%%.*}.EOHI.gz  ;\n",
    "    done"
   ]
  },
  {
   "cell_type": "code",
   "execution_count": null,
   "metadata": {
    "kernel": "Bash"
   },
   "outputs": [],
   "source": [
    "    zcat $file | awk  -F'\\t' '{\n",
    "      flag=0; \n",
    "      for (i=1;i<=NF;i++) if ($1 == 2 && $2 > 179684484 && $2 < 179924864 && $8<0.05)  flag=1;\n",
    "      for (i=1;i<=NF;i++) if ($1 == 17 && $2 > 34841480 && $2 < 34900695 && $8<0.05)  flag=1; \n",
    "      for (i=1;i<=NF;i++) if ($1 == 7 && $2 >21572657 && $2 < 21951457 && $8<0.05)  flag=1; \n",
    "      for (i=1;i<=NF;i++) if ($1 == 17 && $2 > 70107161 && $2 < 70132557 && $8<0.05)  flag=1;\n",
    "      for (i=1;i<=NF;i++) if ($1 == 2 && $2 > 113963574 && $2 < 114046498 && $8<0.05)  flag=1;\n",
    "      for (i=1;i<=NF;i++) if ($1 == 2 && $2 > 131207028 && $2 < 131277280 && $8<0.05)  flag=1;\n",
    "      for (i=1;i<=NF;i++) if ($1 == 9 && $2 > 138584031 && $2 < 138697348 && $8<0.05)  flag=1;\n",
    "      for (i=1;i<=NF;i++) if ($1 == 6 && $2 > 168683510 && $2 < 168730457 && $8<0.05) flag=1;\n",
    "      for (i=1;i<=NF;i++) if ($1 == 2 && $2 > 232308242 && $2 < 232339195 && $8<0.05) flag=1;\n",
    "      for (i=1;i<=NF;i++) if ($1 == 4 && $2 > 142934313 && $2 < 143777688 && $8<0.05) flag=1;\n",
    "      if (flag) print\n",
    "    }' >>  ~/${file%%.*}.EOHI ;done"
   ]
  }
 ],
 "metadata": {
  "kernelspec": {
   "display_name": "SoS",
   "language": "sos",
   "name": "sos"
  },
  "language_info": {
   "codemirror_mode": "sos",
   "file_extension": ".sos",
   "mimetype": "text/x-sos",
   "name": "sos",
   "nbconvert_exporter": "sos_notebook.converter.SoS_Exporter",
   "pygments_lexer": "sos"
  },
  "sos": {
   "kernels": [
    [
     "Bash",
     "calysto_bash",
     "Bash",
     "#E6EEFF",
     "shell"
    ]
   ],
   "version": "0.21.21"
  }
 },
 "nbformat": 4,
 "nbformat_minor": 4
}
