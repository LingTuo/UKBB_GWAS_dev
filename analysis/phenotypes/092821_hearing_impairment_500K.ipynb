{
 "cells": [
  {
   "cell_type": "markdown",
   "id": "b30a38a0-2914-4b56-852a-9653d7a22101",
   "metadata": {},
   "source": [
    "# Generate the phenotypes for the hearing impairment traits from the UKBB for the 500K individuals with imputed data"
   ]
  },
  {
   "cell_type": "code",
   "execution_count": null,
   "id": "c1e64e93-5917-494d-8314-4feee14e64c6",
   "metadata": {},
   "outputs": [],
   "source": [
    "import pandas as pd\n",
    "import numpy as np\n",
    "from datetime import datetime"
   ]
  },
  {
   "cell_type": "markdown",
   "id": "514c05da-105e-41f1-b3ee-aafdb6b648d5",
   "metadata": {},
   "source": [
    "# 1. Read in the data"
   ]
  },
  {
   "cell_type": "markdown",
   "id": "682dfaf1-7746-4072-861c-ca45d20c393c",
   "metadata": {},
   "source": [
    "## 1.1. Read in database"
   ]
  },
  {
   "cell_type": "code",
   "execution_count": null,
   "id": "103f612a-f8d1-4620-81df-bef2d364f9b0",
   "metadata": {},
   "outputs": [],
   "source": [
    "# collect the necessary column names of the database for our analysis\n",
    "\n",
    "with open(\"/mnt/mfs/statgen/UKBiobank/phenotype_files/HI_UKBB/092821_UKBB_486416ind_call90.csv\") as fp:\n",
    "    line = fp.readline() # header\n",
    "    header = line.split(\",\")\n",
    "    \n",
    "    indiv = [\"IID\", \"FID\"]\n",
    "    icd10_colnames = [col.strip('\"') for col in header if \"f.41270.\" in col]\n",
    "    icd10_ages = [col.strip('\"') for col in header if \"f.41280.\" in col]\n",
    "    icd9_colnames = [col.strip('\"') for col in header if \"f.41271.\" in col]\n",
    "    icd9_ages = [col.strip('\"') for col in header if \"f.41281.\" in col]\n",
    "    f20002_colnames = [col.strip('\"') for col in header if \"f.20002.\" in col]\n",
    "    reported_sex = [\"f.31.0.0\"]\n",
    "    genetic_sex = [\"f.22001.0.0\"]\n",
    "    ethnicity = [col.strip('\"') for col in header if \"f.21000.\" in col]\n",
    "    hearing_imp_f3393 = [col.strip('\"') for col in header if \"f.3393.\" in col]\n",
    "    hearing_imp_f2247 = [col.strip('\"') for col in header if \"f.2247.\" in col]\n",
    "    hearing_imp_f2257 = [col.strip('\"') for col in header if \"f.2257.\" in col]\n",
    "    tin_cols = [col.strip('\"') for col in header if \"f.4803.\" in col]\n",
    "    ages_f21003_col = [col.strip('\"') for col in header if \"f.21003.\" in col]\n",
    "    ages_f131258_col = [col.strip('\"') for col in header if 'f.131258.' in col]\n",
    "    year_of_birth = [col.strip('\"') for col in header if \"f.34.\" in col]\n",
    "    month_of_birth = [col.strip('\"') for col in header if \"f.52.\" in col]"
   ]
  },
  {
   "cell_type": "code",
   "execution_count": null,
   "id": "05cbef57-dcb0-4944-aa6d-d53637cea538",
   "metadata": {},
   "outputs": [],
   "source": [
    "# combine the column names into one list\n",
    "combined_cols = indiv + icd10_colnames + icd10_ages + icd9_colnames + icd9_ages + f20002_colnames + ethnicity + reported_sex + genetic_sex + hearing_imp_f3393 + hearing_imp_f2247 + hearing_imp_f2257 + tin_cols + ages_f21003_col + ages_f131258_col + year_of_birth + month_of_birth"
   ]
  },
  {
   "cell_type": "code",
   "execution_count": null,
   "id": "2c8c724e-83b0-4d37-8cb6-7b3c625ba332",
   "metadata": {},
   "outputs": [],
   "source": [
    "print(datetime.now())"
   ]
  },
  {
   "cell_type": "code",
   "execution_count": null,
   "id": "d7a748fc-01b4-4f3d-aa35-1417b18eccd5",
   "metadata": {},
   "outputs": [],
   "source": [
    "# database of all individuals that we are working with and the selected phenotypes\n",
    "df = pd.read_csv(\"/mnt/mfs/statgen/UKBiobank/phenotype_files/HI_UKBB/092821_UKBB_486416ind_call90.csv\", quotechar = '\"', dtype=\"string\", usecols=combined_cols)\n",
    "df"
   ]
  },
  {
   "cell_type": "code",
   "execution_count": null,
   "id": "23c5a453-0c7e-4940-a59f-29a0d1ec1d7c",
   "metadata": {},
   "outputs": [],
   "source": [
    "print(datetime.now())"
   ]
  },
  {
   "cell_type": "markdown",
   "id": "1086be28-8b30-46b4-9a39-d174595129d7",
   "metadata": {},
   "source": [
    "## 1.2. Read in exclusion criteria for icd10, icd9, and self-report"
   ]
  },
  {
   "cell_type": "code",
   "execution_count": null,
   "id": "338e8108-6483-4e1a-ab2f-a93933bd334b",
   "metadata": {},
   "outputs": [],
   "source": [
    "# csv file that contains information on the exclusion criteria for cases and controls\n",
    "exclusion = pd.read_csv(\"/mnt/mfs/statgen/UKBiobank/phenotype_files/HI_UKBB/ICD10_9_selfreport_incl_excl.csv\")\n",
    "exclusion"
   ]
  },
  {
   "cell_type": "markdown",
   "id": "a37ad6c2-9fb3-4fbd-9796-4bacda0a58d0",
   "metadata": {},
   "source": [
    "## 1.3. Read in individuals in genotype array QC"
   ]
  },
  {
   "cell_type": "code",
   "execution_count": null,
   "id": "92bb62f3-bca3-45d3-9aa6-233498f88651",
   "metadata": {},
   "outputs": [],
   "source": [
    "qc_individuals = pd.read_csv(\"/mnt/mfs/statgen/UKBiobank/results/092821_PCA_results_500K/white_europeans/cache/UKB_genotypedatadownloaded083019.090221_sample_variant_qc_final_callrate90.filtered.extracted.white_europeans.filtered.fam\", sep=\"\\t\", header=None)\n",
    "qc_individuals"
   ]
  },
  {
   "cell_type": "markdown",
   "id": "9107e981-2298-43c1-8531-be902f9f314e",
   "metadata": {},
   "source": [
    "## 1.4. Read in PCA outlier file"
   ]
  },
  {
   "cell_type": "code",
   "execution_count": null,
   "id": "680ef240-9b24-4651-ab17-9eeb4169eae5",
   "metadata": {},
   "outputs": [],
   "source": [
    "# outlier individuals that will need to be removed\n",
    "outlier = pd.read_csv(\"/mnt/mfs/statgen/UKBiobank/results/092821_PCA_results_500K/092821_PCA_related_pval0.005/ukb47922_white_460649ind.092821_PCA_related_pval0.005.pca.projected.outliers\", sep=\"\\t\", header=None)\n",
    "outlier"
   ]
  },
  {
   "cell_type": "markdown",
   "id": "bc64459d-8f97-425a-9cf3-6bfe33980fca",
   "metadata": {},
   "source": [
    "# 2. Sample QC"
   ]
  },
  {
   "cell_type": "markdown",
   "id": "96f58c64-c25a-467a-9835-b63e743f77a7",
   "metadata": {},
   "source": [
    "## 2.1. Remove individuals that do not match for reported and genetic sex"
   ]
  },
  {
   "cell_type": "code",
   "execution_count": null,
   "id": "9bdded58-575f-4b1b-871e-0c3d1d9f18c6",
   "metadata": {},
   "outputs": [],
   "source": [
    "reported_sex = [\"f.31.0.0\"]\n",
    "genetic_sex = [\"f.22001.0.0\"]"
   ]
  },
  {
   "cell_type": "code",
   "execution_count": null,
   "id": "9b1cee61-7a9d-4f87-aba6-ac3a7b770199",
   "metadata": {},
   "outputs": [],
   "source": [
    "# returns true only if \n",
    "def inconsistent_sexes(row):\n",
    "    return pd.isna(row[genetic_sex[0]]) or row[reported_sex[0]] != row[genetic_sex[0]]"
   ]
  },
  {
   "cell_type": "code",
   "execution_count": null,
   "id": "f6c4d0d1-a921-46d5-a68e-8bf951f12554",
   "metadata": {},
   "outputs": [],
   "source": [
    "# exclusion based on inconsistent sex\n",
    "ex_sex = df[reported_sex + genetic_sex].apply(inconsistent_sexes, axis=1)"
   ]
  },
  {
   "cell_type": "code",
   "execution_count": null,
   "id": "04ce5236-048c-42ff-bd52-d4649573e6eb",
   "metadata": {},
   "outputs": [],
   "source": [
    "filtered = df[~ex_sex]"
   ]
  },
  {
   "cell_type": "code",
   "execution_count": null,
   "id": "c47772a0-804c-433e-98df-7706a1878aee",
   "metadata": {},
   "outputs": [],
   "source": [
    "print(sum(ex_sex), \"individuals removed because of inconsistency with the genetic and reported sex variables\")"
   ]
  },
  {
   "cell_type": "code",
   "execution_count": null,
   "id": "824f35fe-b055-4275-afbc-87202de86c2c",
   "metadata": {},
   "outputs": [],
   "source": [
    "print(\"Of these individuals\", sum([1 for x in df[genetic_sex[0]].to_list() if pd.isna(x)]), \"were NA for the genetic sex variable\")"
   ]
  },
  {
   "cell_type": "code",
   "execution_count": null,
   "id": "fc6d2afe-36c3-483e-8b73-66d2bc4b51fe",
   "metadata": {},
   "outputs": [],
   "source": [
    "filtered"
   ]
  },
  {
   "cell_type": "markdown",
   "id": "05d3b3d1-658f-4e80-af45-84a9ba0aaafc",
   "metadata": {},
   "source": [
    "## 2.2. Remove non-white individuals"
   ]
  },
  {
   "cell_type": "code",
   "execution_count": null,
   "id": "cad81036-ef6f-42bb-91db-a2a3d21e4ec6",
   "metadata": {},
   "outputs": [],
   "source": [
    "# set of answers for the ethnicity question\n",
    "set(filtered[ethnicity[0]].to_list()).union( set(filtered[ethnicity[1]].to_list()) , set(filtered[ethnicity[2]].to_list()))"
   ]
  },
  {
   "cell_type": "code",
   "execution_count": null,
   "id": "e5d902ee-cb7a-4a41-a02c-21c8592f3676",
   "metadata": {},
   "outputs": [],
   "source": [
    "# these should align with all possible options for ethnicity answers except for <NA>, Do not know, and Prefer not to answer\n",
    "white = ['British', 'Irish', 'White','Any other white background']\n",
    "african = ['Caribbean','White and Black Caribbean', 'African', 'White and Black African', 'Black or Black British', 'Any other Black background' ]\n",
    "asian = ['Indian', 'Pakistani', 'White and Asian', 'Any other Asian background', 'Bangladeshi', 'Asian or Asian British']\n",
    "mixed = ['Mixed', 'Any other mixed background']\n",
    "chinese = ['Chinese']\n",
    "other = ['Other ethnic group']\n",
    "\n",
    "# figure out the ancestry of each individual\n",
    "def ancestry(row):\n",
    "    temp = [x for x in row[ethnicity] if not pd.isna(x) and x != \"Prefer not to answer\" and x != \"Do not know\"]\n",
    "    if len(temp) == 0:\n",
    "        return \"Unknown\"\n",
    "    \n",
    "    if len(set(temp)) == 1 and temp[0] in white: # if we have only one unique answer and the answer is in the white variable\n",
    "        return \"_\".join(temp[0].split(\" \")) # return the unique answer\n",
    "    \n",
    "    if len([x for x in temp if x in white]) == len(temp):\n",
    "        return \"Inconsistent_white\"\n",
    "    if len([x for x in temp if x in african]) == len(temp):\n",
    "        return \"African\"\n",
    "    if len([x for x in temp if x in asian]) == len(temp):\n",
    "        return \"Asian\"\n",
    "    if len([x for x in temp if x in mixed]) == len(temp):\n",
    "        return \"Mixed\"\n",
    "    if len([x for x in temp if x in chinese]) == len(temp):\n",
    "        return \"Chinese\"\n",
    "    if len([x for x in temp if x in other]) == len(temp):\n",
    "        return \"Other\"\n",
    "    return \"Inconsistent\""
   ]
  },
  {
   "cell_type": "markdown",
   "id": "28985c35-7125-472d-a3c6-97b144985638",
   "metadata": {},
   "source": [
    "Set an ancestry row that combines the ancestry answers from the database into one "
   ]
  },
  {
   "cell_type": "code",
   "execution_count": null,
   "id": "a603ae38-8562-47cf-a685-7c2979118936",
   "metadata": {},
   "outputs": [],
   "source": [
    "filtered[\"ethnicity\"] = filtered[ethnicity].apply(ancestry, axis=1)"
   ]
  },
  {
   "cell_type": "code",
   "execution_count": null,
   "id": "43965c70-b9aa-49ba-bcbf-3770a073c392",
   "metadata": {},
   "outputs": [],
   "source": [
    "def find_non_white(row):\n",
    "    return row[\"ethnicity\"] not in white and row[\"ethnicity\"] != \"Unknown\" and row[\"ethnicity\"] != \"Inconsistent_white\" and row[\"ethnicity\"] != \"Any_other_white_background\""
   ]
  },
  {
   "cell_type": "code",
   "execution_count": null,
   "id": "11144bb8-62ec-4920-9056-6ae425e2b229",
   "metadata": {},
   "outputs": [],
   "source": [
    "ex_non_white = filtered[[\"ethnicity\"]].apply(find_non_white, axis=1)"
   ]
  },
  {
   "cell_type": "code",
   "execution_count": null,
   "id": "425a19f2-f07d-48c2-832d-542e655ee03d",
   "metadata": {},
   "outputs": [],
   "source": [
    "filtered = filtered[~ex_non_white]"
   ]
  },
  {
   "cell_type": "code",
   "execution_count": null,
   "id": "c37e1000-eb82-4a23-8bbf-5b55ae309335",
   "metadata": {},
   "outputs": [],
   "source": [
    "print(sum(ex_non_white), \"individuals removed for being non-white\")"
   ]
  },
  {
   "cell_type": "code",
   "execution_count": null,
   "id": "6e578181-94b5-49c4-90c8-95b8f9af4dd5",
   "metadata": {},
   "outputs": [],
   "source": [
    "filtered"
   ]
  },
  {
   "cell_type": "code",
   "execution_count": null,
   "id": "b2d7020b-2cbc-4865-831a-37d1495547bd",
   "metadata": {},
   "outputs": [],
   "source": [
    "filtered[filtered[\"ethnicity\"] == \"British\"]"
   ]
  },
  {
   "cell_type": "code",
   "execution_count": null,
   "id": "6a668fdb-4261-4eaa-a80f-7621d91318a1",
   "metadata": {},
   "outputs": [],
   "source": [
    "filtered[filtered[\"ethnicity\"] == \"Irish\"]"
   ]
  },
  {
   "cell_type": "code",
   "execution_count": null,
   "id": "fee05de3-e4e8-4611-ba08-81db85914129",
   "metadata": {},
   "outputs": [],
   "source": [
    "filtered[filtered[\"ethnicity\"] == \"White\"]"
   ]
  },
  {
   "cell_type": "code",
   "execution_count": null,
   "id": "63a8a6ad-13e7-4f9f-9621-780c4ce41eb8",
   "metadata": {},
   "outputs": [],
   "source": [
    "filtered[filtered[\"ethnicity\"] == \"Inconsistent_white\"]"
   ]
  },
  {
   "cell_type": "code",
   "execution_count": null,
   "id": "81313305-4836-400d-a158-b12b65d38576",
   "metadata": {},
   "outputs": [],
   "source": [
    "filtered[filtered[\"ethnicity\"] == \"Unknown\"]"
   ]
  },
  {
   "cell_type": "code",
   "execution_count": null,
   "id": "ebadf525-01ca-4be5-b1ff-ebe3f1e3abde",
   "metadata": {},
   "outputs": [],
   "source": [
    "filtered[filtered[\"ethnicity\"] == \"Any_other_white_background\"]"
   ]
  },
  {
   "cell_type": "code",
   "execution_count": null,
   "id": "6fd06091-4ab2-4359-b743-f2f1f3504aac",
   "metadata": {},
   "outputs": [],
   "source": [
    "saved_for_number_checking = filtered"
   ]
  },
  {
   "cell_type": "code",
   "execution_count": null,
   "id": "ced07a09-3786-4725-be4e-ec158884e5fe",
   "metadata": {},
   "outputs": [],
   "source": [
    "filtered = saved_for_number_checking"
   ]
  },
  {
   "cell_type": "code",
   "execution_count": null,
   "id": "ef099656-ccce-46c1-b8ed-33973c8e1958",
   "metadata": {},
   "outputs": [],
   "source": [
    "filtered[[\"FID\",\"IID\",\"ethnicity\"]].to_csv(\"/mnt/mfs/statgen/UKBiobank/phenotype_files/HI_UKBB/ukb47922_white_460649ind.pheno\", sep=\"\\t\", index=False)"
   ]
  },
  {
   "cell_type": "markdown",
   "id": "37e22e73-225e-4c7b-99a1-7ba3a2c7f1ac",
   "metadata": {},
   "source": [
    "## 2.3. Only keep individuals that passed genotype array QC"
   ]
  },
  {
   "cell_type": "code",
   "execution_count": null,
   "id": "5ded3095-0f97-4b0b-9da9-219b78ece100",
   "metadata": {},
   "outputs": [],
   "source": [
    "filtered"
   ]
  },
  {
   "cell_type": "code",
   "execution_count": null,
   "id": "cf39e1bd-baae-4ee1-9a8f-493d5e4f6473",
   "metadata": {},
   "outputs": [],
   "source": [
    "qc_list = [str(i) for i in qc_individuals[0].to_list()]\n",
    "def matches_qc_individuals(row):\n",
    "    return row[\"FID\"] in qc_list\n",
    "filtered = filtered[filtered[[\"FID\"]].apply(matches_qc_individuals, axis=1)]"
   ]
  },
  {
   "cell_type": "markdown",
   "id": "7bd748c0-bea6-4553-aecc-e75175dacceb",
   "metadata": {},
   "source": [
    "# 2. Remove PCA outliers from the full database"
   ]
  },
  {
   "cell_type": "markdown",
   "id": "26d71353-9829-4a51-ba39-3f6cfd3f0a0d",
   "metadata": {},
   "source": [
    "Remove the outlier individuals from the full database if there exists any."
   ]
  },
  {
   "cell_type": "code",
   "execution_count": null,
   "id": "bc11c1e9-2ba6-4872-9c06-f9dfa2875aec",
   "metadata": {},
   "outputs": [],
   "source": [
    "# since the IID from the dataframe is in string the outlier ids have to be made into string as well\n",
    "out_ids = [str(x) for x in outlier[0].to_list()] \n",
    "\n",
    "def find_outliers(row):\n",
    "    return row[\"IID\"] in out_ids"
   ]
  },
  {
   "cell_type": "code",
   "execution_count": null,
   "id": "328fba31-a3a9-4d20-8e16-fda594556275",
   "metadata": {},
   "outputs": [],
   "source": [
    "ex_pca_outliers = filtered[[\"IID\", \"FID\"]].apply(find_outliers, axis=1)"
   ]
  },
  {
   "cell_type": "code",
   "execution_count": null,
   "id": "e2683969-afe3-434b-8b2a-4859ba92e6cd",
   "metadata": {},
   "outputs": [],
   "source": [
    "filtered = filtered[~ex_pca_outliers]"
   ]
  },
  {
   "cell_type": "code",
   "execution_count": null,
   "id": "d0a01da7-a8db-4896-aff8-901976b6ae82",
   "metadata": {},
   "outputs": [],
   "source": [
    "print(sum(ex_pca_outliers), \"individuals removed for being pca outliers\")"
   ]
  },
  {
   "cell_type": "code",
   "execution_count": null,
   "id": "e7095a1c-7764-4c6d-814f-482f5951ae71",
   "metadata": {},
   "outputs": [],
   "source": [
    "#len(missing_cases - set(df[\"IID\"].to_list()))"
   ]
  },
  {
   "cell_type": "code",
   "execution_count": null,
   "id": "888cc4fa-5e6b-4296-a7ad-34023860377c",
   "metadata": {},
   "outputs": [],
   "source": [
    "filtered"
   ]
  },
  {
   "cell_type": "markdown",
   "id": "6fd03d6b-dfaf-4eef-86f1-f692c0d750ab",
   "metadata": {},
   "source": [
    "# 3. Filter out exclusions from the full database"
   ]
  },
  {
   "cell_type": "markdown",
   "id": "4a565766-d1ce-4d44-b550-1fcc06929821",
   "metadata": {},
   "source": [
    "If individuals have certain codes from ICD 10, ICD 9, and self-reports they must be fully removed from the analysis. "
   ]
  },
  {
   "cell_type": "code",
   "execution_count": null,
   "id": "ffef5cd8-6099-4bd5-8e6b-c5c88fec9fba",
   "metadata": {},
   "outputs": [],
   "source": [
    "# returns if the current individual should be excluded based on the exclusion list\n",
    "def contains_exclusion(row, exclusion_list):\n",
    "    for i in row:\n",
    "        if not pd.isna(i) and i in exclusion_list:\n",
    "            return True\n",
    "            \n",
    "    return False"
   ]
  },
  {
   "cell_type": "markdown",
   "id": "5ce35f1b-6e1e-4025-aae6-7820e97f9e9e",
   "metadata": {},
   "source": [
    "## 3.1. Filter out ICD 10 exclusions"
   ]
  },
  {
   "cell_type": "code",
   "execution_count": null,
   "id": "35c3ea79-84bd-4b60-8f41-fd912a06bf7e",
   "metadata": {},
   "outputs": [],
   "source": [
    "# these are the columns that represent the icd10 columns in the database\n",
    "icd10_colnames = [col for col in filtered if \"f.41270\" in col]"
   ]
  },
  {
   "cell_type": "code",
   "execution_count": null,
   "id": "5c7c93d8-820c-4c78-a93e-d3c46413e172",
   "metadata": {},
   "outputs": [],
   "source": [
    "# get a dataframe that only contains the icd10 columns from the full database\n",
    "icd10 = filtered[icd10_colnames]\n",
    "icd10"
   ]
  },
  {
   "cell_type": "code",
   "execution_count": null,
   "id": "2894471d-7fd4-458c-b71b-593ff94b25b6",
   "metadata": {
    "scrolled": true,
    "tags": []
   },
   "outputs": [],
   "source": [
    "# get rows from exclusion database that contian the codes that need to be removed for icd10\n",
    "exclude_icd10 = exclusion[(exclusion[\"UKBB_field_code\"] == \"f.41270\") & (exclusion[\"Excluded_fulldb_lateonsetHI\"] == 'Y') ]\n",
    "exclude_icd10"
   ]
  },
  {
   "cell_type": "code",
   "execution_count": null,
   "id": "11876b76-11d7-41dd-8011-fd78310cb4e6",
   "metadata": {
    "scrolled": true,
    "tags": []
   },
   "outputs": [],
   "source": [
    "# get the icd10 codes that should be excluded from database\n",
    "ex_critia_icd10 = [\"\".join( (i.split(\" \")[0]).split(\".\") ) for i in exclude_icd10[\"Phenotype\"].tolist()]\n",
    "ex_critia_icd10"
   ]
  },
  {
   "cell_type": "code",
   "execution_count": null,
   "id": "4e92c36e-6d3a-4021-8244-7dd843704204",
   "metadata": {},
   "outputs": [],
   "source": [
    "# collect the individuals that should be excluded because of icd10\n",
    "ex_fxn_icd10 = lambda row: contains_exclusion(row, ex_critia_icd10)\n",
    "ex_10 = icd10.apply(ex_fxn_icd10, axis=1)"
   ]
  },
  {
   "cell_type": "code",
   "execution_count": null,
   "id": "6f71fd34-6129-4f8b-8445-d41c11b2313f",
   "metadata": {},
   "outputs": [],
   "source": [
    "# remove them from the working database (which is now filtered. df remains unchanged)\n",
    "filtered = filtered[~ex_10]"
   ]
  },
  {
   "cell_type": "code",
   "execution_count": null,
   "id": "0215540e-046e-4aa7-a909-1b5889de16cc",
   "metadata": {},
   "outputs": [],
   "source": [
    "print(sum(ex_10), \"individuals removed because of icd10 codes\")"
   ]
  },
  {
   "cell_type": "code",
   "execution_count": null,
   "id": "28e19b21-71c4-428d-aa09-981dbec7f001",
   "metadata": {},
   "outputs": [],
   "source": [
    "filtered"
   ]
  },
  {
   "cell_type": "code",
   "execution_count": null,
   "id": "cdee76cd-7d71-435b-907a-125a39cc1c72",
   "metadata": {},
   "outputs": [],
   "source": [
    "#len(missing_cases - set(filtered[\"IID\"].to_list()))"
   ]
  },
  {
   "cell_type": "markdown",
   "id": "d0b09e61-3f45-44ff-8027-1742a6ab79c7",
   "metadata": {},
   "source": [
    "## 3.2. Filter out ICD 9 exclusions"
   ]
  },
  {
   "cell_type": "code",
   "execution_count": null,
   "id": "46409f9e-6340-4ed9-a1d4-0c6468bd3f7b",
   "metadata": {},
   "outputs": [],
   "source": [
    "# these are the columns that represent the icd9 columns in the working database\n",
    "icd9_colnames = [col for col in filtered if \"f.41271\" in col]"
   ]
  },
  {
   "cell_type": "code",
   "execution_count": null,
   "id": "c2070454-a531-4777-8e4b-1ea5f10b3221",
   "metadata": {},
   "outputs": [],
   "source": [
    "# get a dataframe that only contains the icd9 columns from the working database\n",
    "icd9 = filtered[icd9_colnames]\n",
    "icd9"
   ]
  },
  {
   "cell_type": "code",
   "execution_count": null,
   "id": "2e57ca65-8b1f-4d0b-9021-0c24af5f1398",
   "metadata": {
    "scrolled": true,
    "tags": []
   },
   "outputs": [],
   "source": [
    "# get rows from exclusion database that contian the codes that need to be removed for icd9\n",
    "exclude_icd9 = exclusion[(exclusion[\"UKBB_field_code\"] == \"f.41271\") & (exclusion[\"Excluded_fulldb_lateonsetHI\"] == 'Y') ]\n",
    "exclude_icd9"
   ]
  },
  {
   "cell_type": "code",
   "execution_count": null,
   "id": "bb1e0e1f-d398-4ad6-a738-d772b534f409",
   "metadata": {
    "scrolled": true,
    "tags": []
   },
   "outputs": [],
   "source": [
    "# get the icd9 codes that should be excluded from the working database\n",
    "ex_critia_icd9 = [\"\".join( (i.split(\" \")[0]).split(\".\") ) for i in exclude_icd9[\"Phenotype\"].tolist()]\n",
    "ex_critia_icd9"
   ]
  },
  {
   "cell_type": "code",
   "execution_count": null,
   "id": "e41ba11d-362e-4f0d-9724-5d0cbad6d1ce",
   "metadata": {},
   "outputs": [],
   "source": [
    "# collect the individuals that should be excluded because of icd9\n",
    "ex_fxn_icd9 = lambda row: contains_exclusion(row, ex_critia_icd9)\n",
    "ex_9 = icd9.apply(ex_fxn_icd9, axis=1)"
   ]
  },
  {
   "cell_type": "code",
   "execution_count": null,
   "id": "767bccbb-fffa-4164-b57d-3f380302b9b4",
   "metadata": {},
   "outputs": [],
   "source": [
    "# remove them from the working database\n",
    "filtered = filtered[~ex_9]"
   ]
  },
  {
   "cell_type": "code",
   "execution_count": null,
   "id": "43b5f627-86df-4da4-9bda-93d0a984210e",
   "metadata": {},
   "outputs": [],
   "source": [
    "print(sum(ex_9), \"individuals removed because of icd9 codes\")"
   ]
  },
  {
   "cell_type": "code",
   "execution_count": null,
   "id": "f23f4b17-c52e-4c1a-a949-ea91859197f6",
   "metadata": {},
   "outputs": [],
   "source": [
    "filtered"
   ]
  },
  {
   "cell_type": "code",
   "execution_count": null,
   "id": "70370ab1-7979-451a-a2bd-7804bf58f0ab",
   "metadata": {},
   "outputs": [],
   "source": [
    "#len(missing_cases - set(filtered[\"IID\"].to_list()))"
   ]
  },
  {
   "cell_type": "markdown",
   "id": "6235dc71-6f6e-4393-8a52-24ec71fc9542",
   "metadata": {},
   "source": [
    "## 3.3. Filter out f.20002 exclusions"
   ]
  },
  {
   "cell_type": "code",
   "execution_count": null,
   "id": "4de90d56-882c-436c-af00-8d4899252f5e",
   "metadata": {},
   "outputs": [],
   "source": [
    "# these are the columns that represent the self-report columns in the working database\n",
    "f20002_colnames = [col for col in filtered if \"f.20002\" in col]"
   ]
  },
  {
   "cell_type": "code",
   "execution_count": null,
   "id": "8e98875a-12f1-4cb8-a420-4b1551569d8e",
   "metadata": {},
   "outputs": [],
   "source": [
    "# get a dataframe that only contains the self-report columns from the working database\n",
    "f20002 = filtered[f20002_colnames]\n",
    "f20002"
   ]
  },
  {
   "cell_type": "code",
   "execution_count": null,
   "id": "50d4767c-ff8e-45ef-8fdf-53c7e7c6bc23",
   "metadata": {
    "scrolled": true,
    "tags": []
   },
   "outputs": [],
   "source": [
    "# get rows from exclusion database that contian the codes that need to be removed for self-report\n",
    "exclude_f20002 = exclusion[(exclusion[\"UKBB_field_code\"] == \"f.20002\") & (exclusion[\"Excluded_fulldb_lateonsetHI\"] == 'Y') ]\n",
    "exclude_f20002"
   ]
  },
  {
   "cell_type": "code",
   "execution_count": null,
   "id": "10f214c6-e6fd-420b-a20e-913e1ab0da88",
   "metadata": {},
   "outputs": [],
   "source": [
    "# get the self-report codes that should be excluded from the working database\n",
    "ex_critia_f20002 = [\"\".join( (i.split(\" \")[0]).split(\".\") ) for i in exclude_f20002[\"Phenotype\"].tolist()]\n",
    "ex_critia_f20002"
   ]
  },
  {
   "cell_type": "code",
   "execution_count": null,
   "id": "b7d4ec9d-4cde-4fa3-9f2a-b1223e882263",
   "metadata": {},
   "outputs": [],
   "source": [
    "# collect the individuals that should be excluded because of self-report\n",
    "ex_fxn_f20002 = lambda row: contains_exclusion(row, ex_critia_f20002)\n",
    "ex_f20002 = f20002.apply(ex_fxn_f20002, axis=1)"
   ]
  },
  {
   "cell_type": "code",
   "execution_count": null,
   "id": "1b22e684-a6a1-44d5-8023-46fe54056a4a",
   "metadata": {},
   "outputs": [],
   "source": [
    "# remove them from the working database\n",
    "filtered = filtered[~ex_f20002]"
   ]
  },
  {
   "cell_type": "code",
   "execution_count": null,
   "id": "7a187c63-6626-4ca1-9ad9-a3e22e40de61",
   "metadata": {},
   "outputs": [],
   "source": [
    "print(sum(ex_f20002), \"individuals removed because of self-reported codes\")"
   ]
  },
  {
   "cell_type": "code",
   "execution_count": null,
   "id": "b9530925-291d-4ab1-9df4-d551d0ee5705",
   "metadata": {},
   "outputs": [],
   "source": [
    "filtered"
   ]
  },
  {
   "cell_type": "code",
   "execution_count": null,
   "id": "e45a1bbb-e277-4882-af30-5c350bbd24c2",
   "metadata": {},
   "outputs": [],
   "source": [
    "#len(missing_cases - set(filtered[\"IID\"].to_list()))"
   ]
  },
  {
   "cell_type": "markdown",
   "id": "e96c0ceb-12cf-4603-9910-371a5f9faf1b",
   "metadata": {},
   "source": [
    "# 4. Identify Sex Column"
   ]
  },
  {
   "cell_type": "code",
   "execution_count": null,
   "id": "6d589271-c09c-48c3-82a5-e3133a569474",
   "metadata": {},
   "outputs": [],
   "source": [
    "# male is denoted a 0, female as 1\n",
    "def find_sex(row):\n",
    "    if row[\"f.31.0.0\"] == \"Male\":\n",
    "        return 0\n",
    "    return 1\n",
    "\n",
    "sex = filtered[[\"f.31.0.0\"]].apply(find_sex, axis=1)\n",
    "sex"
   ]
  },
  {
   "cell_type": "code",
   "execution_count": null,
   "id": "313fa8be-caf1-4619-879c-f126f601c94f",
   "metadata": {},
   "outputs": [],
   "source": [
    "filtered[\"sex\"] = sex"
   ]
  },
  {
   "cell_type": "code",
   "execution_count": null,
   "id": "c2951ec3-58fe-44c4-9b3a-ea9b20138bdd",
   "metadata": {},
   "outputs": [],
   "source": [
    "filtered"
   ]
  },
  {
   "cell_type": "code",
   "execution_count": null,
   "id": "05c975fc-988a-4c26-b673-4d96deba7e40",
   "metadata": {},
   "outputs": [],
   "source": [
    "filtered = filtered.reset_index()"
   ]
  },
  {
   "cell_type": "code",
   "execution_count": null,
   "id": "9da78ee1-8b72-459a-8e9b-35ec324514fd",
   "metadata": {},
   "outputs": [],
   "source": [
    "filtered"
   ]
  },
  {
   "cell_type": "code",
   "execution_count": null,
   "id": "fa9d4f33-3572-4d51-8d7d-9a73fc317180",
   "metadata": {},
   "outputs": [],
   "source": [
    "saved_filtered = filtered"
   ]
  },
  {
   "cell_type": "code",
   "execution_count": null,
   "id": "b777c637-bee8-4e31-9726-877cf30129d3",
   "metadata": {},
   "outputs": [],
   "source": [
    "filtered = saved_filtered"
   ]
  },
  {
   "cell_type": "code",
   "execution_count": null,
   "id": "56523e78-b84e-4829-ab98-982d90f0788d",
   "metadata": {},
   "outputs": [],
   "source": [
    "filtered[filtered[\"ethnicity\"] == \"British\"]"
   ]
  },
  {
   "cell_type": "code",
   "execution_count": null,
   "id": "5c05b1ef-fe15-40c5-a00a-4f232a88e716",
   "metadata": {},
   "outputs": [],
   "source": [
    "filtered[filtered[\"ethnicity\"] == \"Irish\"]"
   ]
  },
  {
   "cell_type": "code",
   "execution_count": null,
   "id": "a3bdfa6d-9270-433f-8e6b-99122df5e0ef",
   "metadata": {},
   "outputs": [],
   "source": [
    "filtered[filtered[\"ethnicity\"] == \"White\"]"
   ]
  },
  {
   "cell_type": "code",
   "execution_count": null,
   "id": "7497c33e-0d5a-4742-8b5d-302150dcb16b",
   "metadata": {},
   "outputs": [],
   "source": [
    "filtered[filtered[\"ethnicity\"] == \"Inconsistent_white\"]"
   ]
  },
  {
   "cell_type": "code",
   "execution_count": null,
   "id": "f94b6995-2cfb-4ef4-bc4d-d7f45dca2fc4",
   "metadata": {},
   "outputs": [],
   "source": [
    "filtered[filtered[\"ethnicity\"] == \"Unknown\"]"
   ]
  },
  {
   "cell_type": "code",
   "execution_count": null,
   "id": "948d1320-e222-4778-baaf-3438219f51aa",
   "metadata": {},
   "outputs": [],
   "source": [
    "filtered[filtered[\"ethnicity\"] == \"Any_other_white_background\"]"
   ]
  },
  {
   "cell_type": "markdown",
   "id": "cd8da939-57d1-4f9a-9d21-27e4c0218554",
   "metadata": {},
   "source": [
    "# 5. f.3393, f.2247, f.2257, and Mendelian"
   ]
  },
  {
   "cell_type": "markdown",
   "id": "4b0e0ada-314b-4fbe-a9c9-3903315144eb",
   "metadata": {},
   "source": [
    "## 5.1. Remove inconsistencies or unclear individuals"
   ]
  },
  {
   "cell_type": "markdown",
   "id": "0ea4c40e-b664-48ef-81e9-2b8ec1d5c4f5",
   "metadata": {},
   "source": [
    "Some individuals might be unclear on if they do or do not have hearing difficulties or are inconsistent (found in f.3393, f.2247, and f.2257), in which case they cannot be considered either controls or cases and must be removed.\n",
    "\n",
    "The conditions for being removed are as follows:\n",
    "* Saying I don't know after saying either yes or no\n",
    "* Only saying I don't know or prefer not to say\n",
    "* Being completely deaf"
   ]
  },
  {
   "cell_type": "markdown",
   "id": "1cabe3f3-76c2-475e-84d7-cdc82e80239a",
   "metadata": {},
   "source": [
    "### 5.1.1. Prior to filtering for inconsistencies"
   ]
  },
  {
   "cell_type": "markdown",
   "id": "f993e8df-1e09-477b-bfb5-abac2373032c",
   "metadata": {},
   "source": [
    "<b>Hearing difficulty/problems with background noise</b> <br>\n",
    "f.2257 = {'Yes': 81218, NA : 513774, 'No': 131091, 'Do not know': 4409, 'Prefer not to answer': 208}"
   ]
  },
  {
   "cell_type": "markdown",
   "id": "1a9e5ca7-88ba-448e-b78f-2cc956e10b93",
   "metadata": {},
   "source": [
    "<b>Hearing difficult/problems</b><br>\n",
    "f.2247 = {'No': 151758, : 513806, 'Yes': 55437, 'Do not know': 9489, 'Prefer not to answer': 171, 'I am completely deaf': 39}"
   ]
  },
  {
   "cell_type": "markdown",
   "id": "3fddb3e0-403f-4345-8e3d-f483ef05431f",
   "metadata": {},
   "source": [
    "<b>Hearing aid user</b><br>\n",
    "f.3393 = {'No': 145486, : 577795, 'Yes': 7237, 'Prefer not to answer': 182}"
   ]
  },
  {
   "cell_type": "markdown",
   "id": "5aeed5db-7711-4992-a55f-7529520c7743",
   "metadata": {},
   "source": [
    "### 5.1.2. Setup for inconsistency filtering"
   ]
  },
  {
   "cell_type": "code",
   "execution_count": null,
   "id": "bb26aa86-84fd-4010-b220-a73e5d11b542",
   "metadata": {},
   "outputs": [],
   "source": [
    "# collect all the columns \n",
    "# redefining here for clarity\n",
    "\n",
    "hearing_imp_f3393 = [col for col in filtered if \"f.3393\" in col]\n",
    "hearing_imp_f2247 = [col for col in filtered if \"f.2247\" in col]\n",
    "hearing_imp_f2257 = [col for col in filtered if \"f.2257\" in col]\n",
    "\n",
    "icd_10_cols = [col for col in df if \"f.41270\" in col]\n",
    "icd_9_cols = [col for col in df if \"f.41271\" in col]"
   ]
  },
  {
   "cell_type": "code",
   "execution_count": null,
   "id": "70c6c1d3-45bd-4c8d-9952-ec54d2599de8",
   "metadata": {},
   "outputs": [],
   "source": [
    "# for hearing impairement questions we code the answers with the following for comparison\n",
    "hearing_ans = {\"Do not know\":9, \"Yes\":1, \"No\":0}\n",
    "\n",
    "# will contain the complete set of actual combinations of answers from individuals in the database\n",
    "options = set()\n",
    "\n",
    "# pass one pheno at a time to this function\n",
    "def find_options(row):\n",
    "    answer = \"\".join([str(hearing_ans[i]) for i in row if not pd.isna(i) and i != \"I am completely deaf\" and i != \"Prefer not to answer\"])\n",
    "    options.add(answer)"
   ]
  },
  {
   "cell_type": "code",
   "execution_count": null,
   "id": "393db60c-0eff-4c69-8855-075130fea5d9",
   "metadata": {},
   "outputs": [],
   "source": [
    "# this builds the options set to contain a set of all the unique answers the individuals in the database have had\n",
    "# over their hearing impairment questions\n",
    "hearing_imp_qs = filtered[hearing_imp_f3393]\n",
    "s = hearing_imp_qs.apply(find_options, axis=1)\n",
    "hearing_imp_qs = filtered[hearing_imp_f2247]\n",
    "s = hearing_imp_qs.apply(find_options, axis=1)\n",
    "hearing_imp_qs = filtered[hearing_imp_f2257]\n",
    "s = hearing_imp_qs.apply(find_options, axis=1)"
   ]
  },
  {
   "cell_type": "code",
   "execution_count": null,
   "id": "5f00f63f-991e-4239-9104-e39f0012309f",
   "metadata": {
    "scrolled": true,
    "tags": []
   },
   "outputs": [],
   "source": [
    "options"
   ]
  },
  {
   "cell_type": "code",
   "execution_count": null,
   "id": "b37fa105-1529-4ff2-b918-eea5e2030592",
   "metadata": {
    "tags": []
   },
   "outputs": [],
   "source": [
    "# we might have inconsistencies if we have don't knows mixed with other answers or even yes and no together\n",
    "# options contains the set of all unique codes \n",
    "\n",
    "do_not_know_no = [i for i in options if '0' in i and '9' in i and '1' not in i]\n",
    "do_not_know_yes = [i for i in options if '0' not in i and '9' in i and '1' in i]\n",
    "yes_no = [i for i in options if '0' in i and '9' not in i and '1' in i]\n",
    "with_all_three = [i for i in options if '0' in i and '9' in i and '1' in i]\n",
    "\n",
    "# collecting all possible occurances that can be flagged for being inconsistent\n",
    "might_inconsistent = do_not_know_no + do_not_know_yes + yes_no + with_all_three\n",
    "\n",
    "# these are exceptions to the possibilities we have that can be flagged for being inconsistent\n",
    "exceptions = [\"91\",\"911\",\"9111\",\"991\",\"0001\",\"001\",\"0011\",\"01\",\"011\",\"0111\", \"0091\", \"091\",\"0911\",\"0991\",\"9001\",\"901\",\"9011\", \"90\", \"900\", \"9000\", \"990\"]\n",
    "\n",
    "# collect the list of answer combinations that are actually inconsistent by removingthe answer combinations that are exceptions\n",
    "inconsistent = [i for i in might_inconsistent if i not in exceptions]"
   ]
  },
  {
   "cell_type": "code",
   "execution_count": null,
   "id": "494cba90-1a12-420b-a46d-929edbb1ed29",
   "metadata": {
    "scrolled": true,
    "tags": []
   },
   "outputs": [],
   "source": [
    "inconsistent"
   ]
  },
  {
   "cell_type": "markdown",
   "id": "3d6a7fcb-032b-4a76-be8c-41335ac790e4",
   "metadata": {},
   "source": [
    "### 5.1.3. Filtering out the data"
   ]
  },
  {
   "cell_type": "code",
   "execution_count": null,
   "id": "decdfda2-5b98-48c7-bc82-77f33bb6a9f9",
   "metadata": {},
   "outputs": [],
   "source": [
    "# return True if you find an individual that has NA for every answer in each column\n",
    "def find_empty(row):\n",
    "    for i in row:\n",
    "        if not pd.isna(i):\n",
    "            return False\n",
    "    return True"
   ]
  },
  {
   "cell_type": "code",
   "execution_count": null,
   "id": "877f993e-3a5e-4217-9da2-ad1b9143db92",
   "metadata": {},
   "outputs": [],
   "source": [
    "# return True if an individual only answers Do not know but never Yes or No\n",
    "def find_dont_know(row):\n",
    "    temp = []\n",
    "    for i in row:\n",
    "        if not pd.isna(i):\n",
    "            temp.append(i)\n",
    "        \n",
    "    if \"Do not know\" in temp and \"Yes\" not in temp and \"No\" not in temp:\n",
    "        return True\n",
    "    return False"
   ]
  },
  {
   "cell_type": "code",
   "execution_count": null,
   "id": "2d975bd9-46e4-4b1a-8d20-763c58abb7d0",
   "metadata": {},
   "outputs": [],
   "source": [
    "# will return true if that row should be removed\n",
    "# pass one pheno at a time through the function\n",
    "def find_inconsistencies(row):\n",
    "    for i in row:\n",
    "        if not pd.isna(i) and i == \"I am completely deaf\":\n",
    "            return True\n",
    "    \n",
    "    answer = \"\".join([str(hearing_ans[i]) for i in row if not pd.isna(i) and i != \"I am completely deaf\" and i != \"Prefer not to answer\"])\n",
    "    if answer in inconsistent:\n",
    "        return True\n",
    "    return False\n",
    "\n",
    "# if we have individuals that either don't answer or prefer not to say only then we cancel them out\n",
    "# return true if all the rows have no definitive answers\n",
    "def find_all_none(row):\n",
    "    for i in row:\n",
    "        if not pd.isna(i) and (i == \"Yes\" or i == \"No\"):\n",
    "            return False\n",
    "    return True"
   ]
  },
  {
   "cell_type": "code",
   "execution_count": null,
   "id": "4f9874ea-8240-451f-886f-2b5cdb3db7cc",
   "metadata": {},
   "outputs": [],
   "source": [
    "filtered"
   ]
  },
  {
   "cell_type": "code",
   "execution_count": null,
   "id": "25e8dca7-16e2-4f18-9047-d3bb72f3765c",
   "metadata": {},
   "outputs": [],
   "source": [
    "# filter out inconsistencies for f3393\n",
    "hearing_imp_qs = filtered[hearing_imp_f3393]\n",
    "exclude = hearing_imp_qs.apply(find_inconsistencies, axis=1)\n",
    "filtered = filtered[~exclude]"
   ]
  },
  {
   "cell_type": "code",
   "execution_count": null,
   "id": "7255d65b-fb3e-4c74-8fb6-0fc565b0745a",
   "metadata": {},
   "outputs": [],
   "source": [
    "len(missing_cases - set(filtered[\"IID\"].to_list()))"
   ]
  },
  {
   "cell_type": "code",
   "execution_count": null,
   "id": "dc7b3017-7c66-41a7-ad27-40adf28f4d6c",
   "metadata": {},
   "outputs": [],
   "source": [
    "# filter out inconsistencies for f2247\n",
    "hearing_imp_qs = filtered[hearing_imp_f2247]\n",
    "exclude = hearing_imp_qs.apply(find_inconsistencies, axis=1)\n",
    "filtered = filtered[~exclude]"
   ]
  },
  {
   "cell_type": "code",
   "execution_count": null,
   "id": "48be2902-1406-4e49-bfd8-b3384d83ceab",
   "metadata": {},
   "outputs": [],
   "source": [
    "len(missing_cases - set(filtered[\"IID\"].to_list()))"
   ]
  },
  {
   "cell_type": "code",
   "execution_count": null,
   "id": "aa081712-9d6c-43f1-a388-da3f8a2b67b1",
   "metadata": {},
   "outputs": [],
   "source": [
    "# filter out inconsistencies for f2257\n",
    "hearing_imp_qs = filtered[hearing_imp_f2257]\n",
    "exclude = hearing_imp_qs.apply(find_inconsistencies, axis=1)\n",
    "filtered = filtered[~exclude]"
   ]
  },
  {
   "cell_type": "code",
   "execution_count": null,
   "id": "801e4e10-ea02-4e2b-8fa4-22a236344541",
   "metadata": {},
   "outputs": [],
   "source": [
    "len(missing_cases - set(filtered[\"IID\"].to_list()))"
   ]
  },
  {
   "cell_type": "code",
   "execution_count": null,
   "id": "bf75018d-6aaa-484b-8f8a-4a5c9f1f0f2f",
   "metadata": {},
   "outputs": [],
   "source": [
    "# filter out individuals that don't have a definiteive answer for any hearing aid questions\n",
    "hearing_imp_qs = filtered[hearing_imp_f3393 + hearing_imp_f2247 + hearing_imp_f2257]\n",
    "exclude = hearing_imp_qs.apply(find_all_none, axis=1)\n",
    "filtered = filtered[~exclude]"
   ]
  },
  {
   "cell_type": "code",
   "execution_count": null,
   "id": "0e8a4827-5cdc-4e4e-b9f5-4e9529015979",
   "metadata": {},
   "outputs": [],
   "source": [
    "len(missing_cases - set(filtered[\"IID\"].to_list()))"
   ]
  },
  {
   "cell_type": "code",
   "execution_count": null,
   "id": "36b5fd01-8fbd-4584-86b8-79d59403d7ce",
   "metadata": {},
   "outputs": [],
   "source": [
    "filtered"
   ]
  },
  {
   "cell_type": "code",
   "execution_count": null,
   "id": "075ee798-ca6d-4c23-a986-e04a17a66824",
   "metadata": {},
   "outputs": [],
   "source": [
    "saved_2_filtered = filtered"
   ]
  },
  {
   "cell_type": "code",
   "execution_count": null,
   "id": "7fd798ad-ffbc-4049-877b-c5e0bac4928e",
   "metadata": {},
   "outputs": [],
   "source": [
    "filtered = saved_2_filtered"
   ]
  },
  {
   "cell_type": "markdown",
   "id": "52a764ef-7269-4f92-90cc-82b278e62d56",
   "metadata": {},
   "source": [
    "## 5.2. Identify Pure Controls"
   ]
  },
  {
   "cell_type": "markdown",
   "id": "299ceb6c-d3d8-46d4-8fd9-8a51d56831d4",
   "metadata": {},
   "source": [
    "Need to make sure that for f.3393, f.2247, and f.2257 we obtain the individuals that say no.\n",
    "\n",
    "The conditions for saying no are as follows:\n",
    "* Never saying yes\n",
    "* Not being inconsistent\n",
    "* Saying no at least once (prefer not to say is allowed)\n",
    "\n",
    "We are also not including individuals to be part of the control group if they have certain codes for ICD9, ICD10, or f.20002 (this is in the case that they say no to all f.3393, f.2247, and f.2257). However these individuals can still be part of the cases"
   ]
  },
  {
   "cell_type": "code",
   "execution_count": null,
   "id": "02e85664-aaea-4299-841a-dfc49e288b08",
   "metadata": {},
   "outputs": [],
   "source": [
    "# returns 0 if it's a ctrl or else 1\n",
    "def find_ctrl(row):\n",
    "    answer = \"\".join([str(hearing_ans[i]) for i in row if not pd.isna(i) and i != \"Prefer not to answer\"])\n",
    "    if \"0\" in answer and \"1\" not in answer:\n",
    "        return 0\n",
    "    return 1\n",
    "\n",
    "# returns 0 if it's a ctrl or else 1\n",
    "# this is specific for f3393 because f3393 was only asked under certain circumstances\n",
    "def find_ctrl_or_NA(row):\n",
    "    for i in row:\n",
    "        if not pd.isna(i) and i != \"No\" and i != \"Prefer not to answer\": # if we have any answers that are not NA or No only then we don't have a ctrl\n",
    "            return 1\n",
    "    return 0\n"
   ]
  },
  {
   "cell_type": "code",
   "execution_count": null,
   "id": "cee932b3-fc28-449e-b0bb-886c0359bd61",
   "metadata": {},
   "outputs": [],
   "source": [
    "# filter through the hearing impairment questions to find the controls\n",
    "hearing_imp_qs = filtered[hearing_imp_f3393]\n",
    "f3393_ctrl = hearing_imp_qs.apply(find_ctrl_or_NA, axis=1).to_list()\n",
    "hearing_imp_qs = filtered[hearing_imp_f2247]\n",
    "f2247_ctrl = hearing_imp_qs.apply(find_ctrl, axis=1).to_list()\n",
    "hearing_imp_qs = filtered[hearing_imp_f2257]\n",
    "f2257_ctrl = hearing_imp_qs.apply(find_ctrl, axis=1).to_list()"
   ]
  },
  {
   "cell_type": "code",
   "execution_count": null,
   "id": "a3a4cd61-0fe3-4b63-a9b3-57a48041ee02",
   "metadata": {
    "scrolled": true,
    "tags": []
   },
   "outputs": [],
   "source": [
    "pure_ctrl = [0 if i == 0 and f2247_ctrl[en] == 0 and f2257_ctrl[en] == 0 else 1 for en, i in enumerate(f3393_ctrl)]"
   ]
  },
  {
   "cell_type": "code",
   "execution_count": null,
   "id": "c2a70af4-7665-4be9-8a7b-3694b6ff1ca1",
   "metadata": {},
   "outputs": [],
   "source": [
    "print(len(pure_ctrl) - sum(pure_ctrl), \"individuals are controls prior to filtration for icd10, icd9 and self-reported codes\")"
   ]
  },
  {
   "cell_type": "markdown",
   "id": "518e57ef-b273-474f-81fb-1afe0961ec28",
   "metadata": {},
   "source": [
    "### 5.2.1. Collect ICD 10 codes to filter out from Ctrl"
   ]
  },
  {
   "cell_type": "code",
   "execution_count": null,
   "id": "d25072cf-9dc2-43e6-bb91-93a1b99638f9",
   "metadata": {
    "scrolled": true,
    "tags": []
   },
   "outputs": [],
   "source": [
    "exclude_ctrl_icd10 = exclusion[(exclusion[\"UKBB_field_code\"] == \"f.41270\") & (exclusion[\"Excluded_from_controls\"] == 'Y') ]\n",
    "exclude_ctrl_icd10"
   ]
  },
  {
   "cell_type": "code",
   "execution_count": null,
   "id": "9e47d314-296b-4792-baa4-380bf647a7d0",
   "metadata": {
    "scrolled": true,
    "tags": []
   },
   "outputs": [],
   "source": [
    "ex_critia_ctrl_icd10 = [\"\".join( (i.split(\" \")[0]).split(\".\") ) for i in exclude_ctrl_icd10[\"Phenotype\"].tolist()]\n",
    "ex_critia_ctrl_icd10"
   ]
  },
  {
   "cell_type": "code",
   "execution_count": null,
   "id": "8dc61888-c9af-4f7b-ab23-5d2c435eeeff",
   "metadata": {},
   "outputs": [],
   "source": [
    "icd10 = filtered[icd10_colnames]\n",
    "icd10"
   ]
  },
  {
   "cell_type": "code",
   "execution_count": null,
   "id": "1ce65049-b3b1-40fb-8e16-3e3d7a4109cb",
   "metadata": {},
   "outputs": [],
   "source": [
    "# collect the individuals who should not be part of controls because of icd 10 codes\n",
    "ex_fxn_icd10 = lambda row: contains_exclusion(row, ex_critia_ctrl_icd10)\n",
    "ex_10 = icd10.apply(ex_fxn_icd10, axis=1)"
   ]
  },
  {
   "cell_type": "markdown",
   "id": "3bf03d1d-7e52-4e49-ba6f-a782d8abd6d2",
   "metadata": {},
   "source": [
    "### 5.2.2. Collect ICD 9 codes to filter out from Ctrl"
   ]
  },
  {
   "cell_type": "code",
   "execution_count": null,
   "id": "dafc9fef-58b6-483b-9388-c3109c090abf",
   "metadata": {
    "scrolled": true,
    "tags": []
   },
   "outputs": [],
   "source": [
    "exclude_ctrl_icd9 = exclusion[(exclusion[\"UKBB_field_code\"] == \"f.41271\") & (exclusion[\"Excluded_from_controls\"] == 'Y') ]\n",
    "exclude_ctrl_icd9"
   ]
  },
  {
   "cell_type": "code",
   "execution_count": null,
   "id": "a1195d4b-2dd5-4f47-bb0c-b2d3722bc5fd",
   "metadata": {
    "scrolled": true,
    "tags": []
   },
   "outputs": [],
   "source": [
    "ex_critia_ctrl_icd9 = [\"\".join( (i.split(\" \")[0]).split(\".\") ) for i in exclude_ctrl_icd9[\"Phenotype\"].tolist()]\n",
    "ex_critia_ctrl_icd9"
   ]
  },
  {
   "cell_type": "code",
   "execution_count": null,
   "id": "1142dae2-bcaa-46fd-8f63-0bc0dd36aafb",
   "metadata": {},
   "outputs": [],
   "source": [
    "icd9 = filtered[icd9_colnames]\n",
    "icd9"
   ]
  },
  {
   "cell_type": "code",
   "execution_count": null,
   "id": "7c413e6c-b64f-4ffc-9b7a-f0d716cc7b17",
   "metadata": {},
   "outputs": [],
   "source": [
    "# collect the individuals who should not be part of controls because of icd 9 codes\n",
    "ex_fxn_icd9 = lambda row: contains_exclusion(row, ex_critia_ctrl_icd9)\n",
    "ex_9 = icd9.apply(ex_fxn_icd9, axis=1)"
   ]
  },
  {
   "cell_type": "markdown",
   "id": "becfa113-017b-42c0-94fb-a425fee0b794",
   "metadata": {},
   "source": [
    "### 5.2.3. Collect f20002 codes to filter out from Ctrl"
   ]
  },
  {
   "cell_type": "code",
   "execution_count": null,
   "id": "93152965-1b52-484f-abe3-4c0f3a521804",
   "metadata": {},
   "outputs": [],
   "source": [
    "exclude_ctrl_f20002 = exclusion[(exclusion[\"UKBB_field_code\"] == \"f.20002\") & (exclusion[\"Excluded_from_controls\"] == 'Y') ]\n",
    "exclude_ctrl_f20002"
   ]
  },
  {
   "cell_type": "code",
   "execution_count": null,
   "id": "75e22949-4dc1-4ba2-ba76-e9b8ee072b67",
   "metadata": {},
   "outputs": [],
   "source": [
    "f20002 = filtered[f20002_colnames]\n",
    "f20002"
   ]
  },
  {
   "cell_type": "code",
   "execution_count": null,
   "id": "1d777a53-b121-4dc0-9d0c-8201d79e7a24",
   "metadata": {},
   "outputs": [],
   "source": [
    "ex_critia_ctrl_f20002 = [\"\".join( (i.split(\" \")[0]).split(\".\") ) for i in exclude_ctrl_f20002[\"Phenotype\"].tolist()]\n",
    "ex_critia_ctrl_f20002"
   ]
  },
  {
   "cell_type": "code",
   "execution_count": null,
   "id": "7377d6b8-3b12-458a-8315-f09d0ff1606b",
   "metadata": {},
   "outputs": [],
   "source": [
    "# collect the individuals who should not be part of controls because of self-reported codes\n",
    "ex_fxn_f20002 = lambda row: contains_exclusion(row, ex_critia_ctrl_f20002)\n",
    "ex_f20002 = f20002.apply(ex_fxn_f20002, axis=1)"
   ]
  },
  {
   "cell_type": "markdown",
   "id": "ea43c1d1-19dd-4cad-bd79-641fe7b9ac21",
   "metadata": {},
   "source": [
    "### 5.2.4. Filter out the HI Ctrl"
   ]
  },
  {
   "cell_type": "code",
   "execution_count": null,
   "id": "44034e3e-6eb0-4662-a254-6074faf506cc",
   "metadata": {},
   "outputs": [],
   "source": [
    "temp = pure_ctrl | ex_10 | ex_9 | ex_f20002"
   ]
  },
  {
   "cell_type": "code",
   "execution_count": null,
   "id": "94a17c92-c73f-437d-8dac-3d86f4c78f39",
   "metadata": {},
   "outputs": [],
   "source": [
    "# because individuals that are controls are labeled as 0\n",
    "# temp says True if an individual is not a control and False if it is a control\n",
    "# ex_10, ex_9, and ex_f20002 are True for individuals that are not controls and False for individuals that are controls\n",
    "temp = pure_ctrl | ex_10 | ex_9 | ex_f20002\n",
    "\n",
    "# we set the control as 0 for each individual that is False in temp\n",
    "filtered_ctrl = [1 if i else 0 for i in temp.to_list()]"
   ]
  },
  {
   "cell_type": "code",
   "execution_count": null,
   "id": "a8ebcf37-c1ea-47bf-b195-2d0d670e7fe1",
   "metadata": {},
   "outputs": [],
   "source": [
    "print(len(filtered_ctrl) - sum(filtered_ctrl), \"individuals are controls after addition filtration for icd10, icd9 and self-reported codes\")"
   ]
  },
  {
   "cell_type": "code",
   "execution_count": null,
   "id": "5f314124-5d32-4610-80d5-768f9aecedec",
   "metadata": {},
   "outputs": [],
   "source": [
    "filtered[\"hearing_imp_pure_ctrl\"] = filtered_ctrl"
   ]
  },
  {
   "cell_type": "code",
   "execution_count": null,
   "id": "b4a036fc-e5a1-4719-9963-912a1db52f8a",
   "metadata": {},
   "outputs": [],
   "source": [
    "filtered"
   ]
  },
  {
   "cell_type": "code",
   "execution_count": null,
   "id": "5c59650d-66da-435a-adba-c817764e4858",
   "metadata": {},
   "outputs": [],
   "source": [
    "filtered = filtered.reset_index()"
   ]
  },
  {
   "cell_type": "code",
   "execution_count": null,
   "id": "bf3fb145-b41e-4d12-9281-b8add43571aa",
   "metadata": {},
   "outputs": [],
   "source": [
    "saved_3_filtered = filtered"
   ]
  },
  {
   "cell_type": "code",
   "execution_count": null,
   "id": "8c8d8f7f-f780-4a25-bf35-6f912c574346",
   "metadata": {},
   "outputs": [],
   "source": [
    "filtered = saved_3_filtered"
   ]
  },
  {
   "cell_type": "markdown",
   "id": "57059398-398c-4038-a502-b845d0f8d271",
   "metadata": {},
   "source": [
    "## 5.3. Identify All Age and Phenotype Columns"
   ]
  },
  {
   "cell_type": "code",
   "execution_count": null,
   "id": "aa578619-79d6-49c4-b748-1939c01360fb",
   "metadata": {},
   "outputs": [],
   "source": [
    "ages_f21003_col = [col for col in filtered if \"f.21003\" in col]\n",
    "ages_f21003_col"
   ]
  },
  {
   "cell_type": "code",
   "execution_count": null,
   "id": "abfe6b69-7820-4379-a495-5e12b84dcf20",
   "metadata": {},
   "outputs": [],
   "source": [
    "ages_f131258_col = [col.strip('\"') for col in header if 'f.131258' in col]\n",
    "ages_f131258_col"
   ]
  },
  {
   "cell_type": "code",
   "execution_count": null,
   "id": "5a0ef909-2dc2-4eb5-a7d1-dd7df1472fd2",
   "metadata": {},
   "outputs": [],
   "source": [
    "filtered[ages_f21003_col]"
   ]
  },
  {
   "cell_type": "code",
   "execution_count": null,
   "id": "0c279de8-23e4-4f37-b759-1d74d33d1ce2",
   "metadata": {},
   "outputs": [],
   "source": [
    "filtered[ages_f131258_col]"
   ]
  },
  {
   "cell_type": "code",
   "execution_count": null,
   "id": "b04000c1-64ab-4aea-8b82-5d2d951043dc",
   "metadata": {},
   "outputs": [],
   "source": [
    "# get the latest time that an individual said no to any of the phenotypes\n",
    "# return the oldest age that they were\n",
    "def get_ctrl_age(row):\n",
    "    phens = [hearing_imp_f3393, hearing_imp_f2247, hearing_imp_f2257]\n",
    "    ages = []\n",
    "    if row[\"hearing_imp_pure_ctrl\"] == 0:\n",
    "        temp_all_ages = row[ages_f21003_col].to_list()\n",
    "        temp_all_ages.reverse()\n",
    "        \n",
    "        for phen in phens:\n",
    "            temp = row[phen].to_list()\n",
    "            temp.reverse()\n",
    "            for en, i in enumerate(temp):\n",
    "                if not pd.isna(i) and i == \"No\":\n",
    "                    ages.append(temp_all_ages[en])\n",
    "                    break\n",
    "        ages.sort()\n",
    "        return ages[-1]\n",
    "    return pd.NA\n",
    "\n",
    "# get the earliest time that an individual said yes to having a phenotype\n",
    "def get_phen_age(row):\n",
    "    if row[0] == 1:\n",
    "        temp = row[1:-4].to_list()\n",
    "        for en, i in enumerate(temp):\n",
    "            if not pd.isna(i) and i == \"Yes\":\n",
    "                return row[ages_f21003_col][en]\n",
    "    else:\n",
    "        return pd.NA\n",
    "    \n",
    "# return the minium age in the row, or else return NA\n",
    "def get_min_age(row):\n",
    "    temp = [i for i in row.to_list() if not pd.isna(i)]\n",
    "    if len(temp) > 0:\n",
    "        return min(temp)\n",
    "    else:\n",
    "        return pd.NA\n",
    "    "
   ]
  },
  {
   "cell_type": "code",
   "execution_count": null,
   "id": "86371dd4-ba23-4afd-802e-55a35ca7092c",
   "metadata": {},
   "outputs": [],
   "source": [
    "# return 1 if we have a yes (used to find phenos)\n",
    "def find_yes(row):\n",
    "    for i in row:\n",
    "        if not pd.isna(i) and i == \"Yes\":\n",
    "            return 1\n",
    "    return 0\n",
    "\n",
    "# return 1 if we have a match for the mendelian traits and have at least one of the hearing phenotypes\n",
    "def find_medelian_like(row):\n",
    "    mendelian_icd10 = [\"H903\", \"H905\", \"H906\", \"H908\", \"H913\", \"H918\", \"H919\"]\n",
    "    mendelian_icd9 = [\"3891\", \"3892\", \"3897\", \"3898\", \"3899\"]\n",
    "\n",
    "    if 1 in row[[\"f3393\", \"f2247\", \"f2257\"]].to_list():\n",
    "        for en, i in enumerate(row[icd_10_cols]):\n",
    "            if not pd.isna(i) and i in mendelian_icd10:\n",
    "                return 1, get_ages_from_birth(row[icd10_ages[en:en+1]+year_of_birth+month_of_birth])\n",
    "        for en, i in enumerate(row[icd_9_cols]):\n",
    "            if not pd.isna(i) and i in mendelian_icd9:\n",
    "                return 1, get_ages_from_birth(row[icd9_ages[en:en+1]+year_of_birth+month_of_birth])\n",
    "    return 0, pd.NA\n",
    "\n",
    "# return a 0 if the individual is not a case and 1 if they are a case\n",
    "def find_exclusions(row):\n",
    "    mendelian_icd10 = [\"H903\", \"H904\", \"H905\", \"H906\", \"H907\", \"H908\"]\n",
    "    mendelian_icd9 = [\"3891\", \"3892\", \"3897\", \"3898\", \"3899\"]\n",
    "\n",
    "    try:\n",
    "        if 1 == row[0]: # the first column will be one of the phenotypes, \"f3393\", \"f2247\", or \"f2257\"\n",
    "            for en, i in enumerate(row[icd_10_cols]):\n",
    "                if not pd.isna(i) and i in mendelian_icd10:\n",
    "                    if get_ages_from_birth(row[ages_f131258_col+year_of_birth+month_of_birth]) <= 55: # row[1] must be the age of the phenotype\n",
    "                        return 0, pd.NA\n",
    "                    return 1, get_ages_from_birth(row[ages_f131258_col+year_of_birth+month_of_birth])\n",
    "            for en, i in enumerate(row[icd_9_cols]):\n",
    "                if not pd.isna(i) and i in mendelian_icd9:\n",
    "                    if get_ages_from_birth(row[icd9_ages[en:en+1]+year_of_birth+month_of_birth]) <= 55:\n",
    "                        return 0, pd.NA\n",
    "                    return 1, get_ages_from_birth(row[icd9_ages[en:en+1]+year_of_birth+month_of_birth])\n",
    "        return int(row[0]), row[1] # the second column should be the ages of that phenotype\n",
    "    except:\n",
    "        print(row[\"name\"])\n",
    "\n",
    "\n",
    "# return 1 if we have a match for the other cases of f3393 or originally had f3393\n",
    "def find_f3393_other_cases(row):\n",
    "    icd10 = [\"Z461\", \"Z974\"]\n",
    "    icd9 = [\"V412\", \"V532\"]\n",
    "    if 0 == int(row[\"f3393\"]):\n",
    "        for en, i in enumerate(row[icd_10_cols]):\n",
    "            if not pd.isna(i) and i in icd10:\n",
    "                return 1, get_ages_from_birth(row[icd10_ages[en:en+1]+year_of_birth+month_of_birth])\n",
    "        for en, i in enumerate(row[icd_9_cols]):\n",
    "            if not pd.isna(i) and i in icd9:\n",
    "                return 1, get_ages_from_birth(row[icd9_ages[en:en+1]+year_of_birth+month_of_birth])\n",
    "    return int(row[\"f3393\"]), row[\"f3393_age\"]\n",
    "\n",
    "# check if the h919 code exists in the individual\n",
    "def check_code(row):\n",
    "    for i in row:\n",
    "        if not pd.isna(i) and i == \"H919\":\n",
    "            return 1\n",
    "    return 0"
   ]
  },
  {
   "cell_type": "code",
   "execution_count": null,
   "id": "4b7c5708-eac3-4f2a-9c6d-4e1dcc09e671",
   "metadata": {},
   "outputs": [],
   "source": [
    "def get_ages_from_birth(row):\n",
    "    month_dict = {'January':1,'February':2,'March':3,'April':4,'May':5,'June':6,'July':7,'August':8,'September':9,'October':10,'November':11,'December':12}\n",
    "    year = 0\n",
    "    month = 0\n",
    "    i = row[0]\n",
    "    if not pd.isna(i):\n",
    "        i = i.split(\"-\")\n",
    "        year = i[0]\n",
    "        month = i[1]\n",
    "    if int(month) >= month_dict[row[month_of_birth[0]]]:\n",
    "        return int(year) - int(row[year_of_birth[0]])\n",
    "    return int(year) - int(row[year_of_birth[0]]) - 1"
   ]
  },
  {
   "cell_type": "code",
   "execution_count": null,
   "id": "48939571-d5bb-47d9-b42c-82e5cf738869",
   "metadata": {},
   "outputs": [],
   "source": [
    "# f3393\n",
    "hearing_imp_qs = filtered[hearing_imp_f3393]\n",
    "filtered[\"f3393\"] = hearing_imp_qs.apply(find_yes, axis=1)\n",
    "filtered[\"f3393_age\"] = filtered[[\"f3393\"] + hearing_imp_f3393 + ages_f21003_col].apply(get_phen_age, axis=1)\n",
    "filtered[[\"f3393\", \"f3393_age\"]] = filtered[[\"f3393\", \"f3393_age\"] + icd_10_cols + icd_9_cols + icd10_ages + icd9_ages + ages_f131258_col + year_of_birth + month_of_birth].apply(find_exclusions, axis=1, result_type='expand')\n",
    "filtered[[\"f3393\", \"f3393_age\"]] = filtered[[\"f3393\", \"f3393_age\"] + icd_10_cols + icd_9_cols + icd10_ages + icd9_ages + year_of_birth + month_of_birth].apply(find_f3393_other_cases, axis=1, result_type='expand')"
   ]
  },
  {
   "cell_type": "code",
   "execution_count": null,
   "id": "78631fef-818c-4cbb-9cde-574527551818",
   "metadata": {},
   "outputs": [],
   "source": [
    "# check if we have f3393 ages\n",
    "filtered[(filtered[\"f3393\"] == 1) & (pd.isna(filtered[\"f3393_age\"])) & (pd.isna(filtered[ages_f131258_col[0]]))][[\"f3393\", \"f3393_age\"] + ages_f131258_col]"
   ]
  },
  {
   "cell_type": "code",
   "execution_count": null,
   "id": "f2c8a548-15fd-4a5f-b053-e4e3023a92d2",
   "metadata": {},
   "outputs": [],
   "source": [
    "# f2247\n",
    "hearing_imp_qs = filtered[hearing_imp_f2247]\n",
    "filtered[\"f2247\"] = hearing_imp_qs.apply(find_yes, axis=1)\n",
    "filtered[\"f2247_age\"] = filtered[[\"f2247\"] + hearing_imp_f2247 + ages_f21003_col].apply(get_phen_age, axis=1)\n",
    "filtered[[\"f2247\", \"f2247_age\"]] = filtered[[\"f2247\", \"f2247_age\"] + icd_10_cols + icd_9_cols + icd10_ages + icd9_ages + ages_f131258_col + year_of_birth + month_of_birth].apply(find_exclusions, axis=1, result_type='expand')"
   ]
  },
  {
   "cell_type": "code",
   "execution_count": null,
   "id": "45fdfc24-1d20-4f11-ab47-4a3a2013d035",
   "metadata": {},
   "outputs": [],
   "source": [
    "# check if we have f2247 ages\n",
    "filtered[(filtered[\"f2247\"] == 1) & (pd.isna(filtered[\"f2247_age\"]))][[\"f2247\", \"f2247_age\"]]"
   ]
  },
  {
   "cell_type": "code",
   "execution_count": null,
   "id": "38d617a6-f3d2-4f41-b7bc-e76e4f40696e",
   "metadata": {},
   "outputs": [],
   "source": [
    "# f2257\n",
    "hearing_imp_qs = filtered[hearing_imp_f2257]\n",
    "filtered[\"f2257\"] = hearing_imp_qs.apply(find_yes, axis=1)\n",
    "filtered[\"f2257_age\"] = filtered[[\"f2257\"] + hearing_imp_f2257 + ages_f21003_col].apply(get_phen_age, axis=1)\n",
    "filtered[[\"f2257\", \"f2257_age\"]] = filtered[[\"f2257\", \"f2257_age\"] + icd_10_cols + icd_9_cols + icd10_ages + icd9_ages + ages_f131258_col + year_of_birth + month_of_birth].apply(find_exclusions, axis=1, result_type='expand')"
   ]
  },
  {
   "cell_type": "code",
   "execution_count": null,
   "id": "70cc8ae2-efa8-4423-8ff7-9e16acb311a8",
   "metadata": {},
   "outputs": [],
   "source": [
    "# check if we have empty f2257 ages\n",
    "filtered[(filtered[\"f2257\"] == 1) & (pd.isna(filtered[\"f2257_age\"]))][[\"f2257\", \"f2257_age\"]]"
   ]
  },
  {
   "cell_type": "code",
   "execution_count": null,
   "id": "4b3eb8c5-fbae-4baa-bd2e-890c55c01a07",
   "metadata": {},
   "outputs": [],
   "source": [
    "# mendelian\n",
    "filtered[[\"mendelian\", \"mendelian_age\"]] = filtered[icd_10_cols + icd_9_cols + [\"f3393\", \"f2247\", \"f2257\"] + icd10_ages + icd9_ages + year_of_birth + month_of_birth].apply(find_medelian_like, axis=1, result_type='expand')"
   ]
  },
  {
   "cell_type": "code",
   "execution_count": null,
   "id": "92ee9def-57bc-445d-8c48-985793f6291f",
   "metadata": {},
   "outputs": [],
   "source": [
    "# check if we have empty mendelian ages\n",
    "filtered[(filtered[\"mendelian\"] == 1) & (pd.isna(filtered[\"mendelian_age\"]))][[\"mendelian\", \"mendelian_age\"]]"
   ]
  },
  {
   "cell_type": "code",
   "execution_count": null,
   "id": "57e51214-fb09-4103-a731-673bcf5910a9",
   "metadata": {},
   "outputs": [],
   "source": [
    "# ctrl age\n",
    "filtered[\"ctrl_age\"] = filtered[[\"hearing_imp_pure_ctrl\"] + ages_f21003_col +  hearing_imp_f3393 + hearing_imp_f2247 + hearing_imp_f2257].apply(get_ctrl_age, axis=1)"
   ]
  },
  {
   "cell_type": "code",
   "execution_count": null,
   "id": "6da6a6c9-06a9-4b04-bd65-6732a0b8f603",
   "metadata": {},
   "outputs": [],
   "source": [
    "# check if we have empty ctrl ages\n",
    "filtered[(filtered[\"hearing_imp_pure_ctrl\"] == 0) & (pd.isna(filtered[\"ctrl_age\"]))][[\"hearing_imp_pure_ctrl\", \"ctrl_age\"]]"
   ]
  },
  {
   "cell_type": "code",
   "execution_count": null,
   "id": "9534b7c9-cbbb-43a0-b0ed-adb1e1bb111f",
   "metadata": {},
   "outputs": [],
   "source": [
    "# f2247_f2257\n",
    "filtered[\"f2247_f2257\"] = filtered[\"f2247\"] & filtered[\"f2257\"]\n",
    "filtered[\"f2247_f2257_age\"] = filtered[[\"f2247_age\", \"f2257_age\"]].apply(get_min_age, axis=1)"
   ]
  },
  {
   "cell_type": "code",
   "execution_count": null,
   "id": "cae88f55-5d7e-42ed-a50c-b464f84f01f3",
   "metadata": {},
   "outputs": [],
   "source": [
    "# check if we have empty f2247_f2257 ages\n",
    "filtered[(filtered[\"f2247_f2257\"] == 1) & (pd.isna(filtered[\"f2247_f2257_age\"]))][[\"f2247_f2257\", \"f2247_f2257_age\"]]"
   ]
  },
  {
   "cell_type": "markdown",
   "id": "d73eebed-12f8-4658-a9f1-a9dee860debe",
   "metadata": {},
   "source": [
    "## 5.4. File Output"
   ]
  },
  {
   "cell_type": "code",
   "execution_count": null,
   "id": "3cf0bde1-cf50-4c0b-87db-1726febe664c",
   "metadata": {},
   "outputs": [],
   "source": [
    "filtered"
   ]
  },
  {
   "cell_type": "code",
   "execution_count": null,
   "id": "3bbc7cb9-68c2-4a0c-a40f-18c141c28bab",
   "metadata": {},
   "outputs": [],
   "source": [
    "filtered[filtered[\"hearing_imp_pure_ctrl\"] == 0][[\"FID\", \"IID\", \"sex\", \"hearing_imp_pure_ctrl\", \"ctrl_age\", \"ethnicity\"]].to_csv(\"pure_ctrl_pheno_file.tsv\", sep='\\t', index=False)"
   ]
  },
  {
   "cell_type": "code",
   "execution_count": null,
   "id": "70f101dc-e68c-4986-8c54-2def0d02f11d",
   "metadata": {},
   "outputs": [],
   "source": [
    "filtered[filtered[\"f3393\"] == 1][[\"FID\", \"IID\", \"sex\", \"f3393\", \"f3393_age\", \"ethnicity\"]]"
   ]
  },
  {
   "cell_type": "code",
   "execution_count": null,
   "id": "cf7df291-c084-495f-9353-4b201e06236f",
   "metadata": {},
   "outputs": [],
   "source": [
    "filtered[filtered[\"f3393\"] == 1][[\"FID\", \"IID\", \"sex\", \"f3393\", \"f3393_age\", \"ethnicity\"]].to_csv(\"f3393_pheno_file.tsv\", sep='\\t', index=False)"
   ]
  },
  {
   "cell_type": "code",
   "execution_count": null,
   "id": "9df7ea2c-6efa-41fd-aaf9-6f4d625d0bf0",
   "metadata": {},
   "outputs": [],
   "source": [
    "filtered[filtered[\"f2247\"] == 1][[\"FID\", \"IID\", \"sex\", \"f2247\", \"f2247_age\", \"ethnicity\"]]"
   ]
  },
  {
   "cell_type": "code",
   "execution_count": null,
   "id": "d8a0aea1-5c69-4db6-9f1a-2bbfa73c8b27",
   "metadata": {},
   "outputs": [],
   "source": [
    "filtered[filtered[\"f2247\"] == 1][[\"FID\", \"IID\", \"sex\", \"f2247\", \"f2247_age\", \"ethnicity\"]].to_csv(\"f2247_pheno_file.tsv\", sep='\\t', index=False)"
   ]
  },
  {
   "cell_type": "code",
   "execution_count": null,
   "id": "4b329cc8-f5b8-4631-b2c6-84d3b1f21a88",
   "metadata": {},
   "outputs": [],
   "source": [
    "filtered[filtered[\"f2257\"] == 1][[\"FID\", \"IID\", \"sex\", \"f2257\", \"f2257_age\", \"ethnicity\"]]"
   ]
  },
  {
   "cell_type": "code",
   "execution_count": null,
   "id": "a8e7e160-603e-40bc-a397-2cb9f92528a8",
   "metadata": {},
   "outputs": [],
   "source": [
    "filtered[filtered[\"f2257\"] == 1][[\"FID\", \"IID\", \"sex\", \"f2257\", \"f2257_age\", \"ethnicity\"]].to_csv(\"f2257_pheno_file.tsv\", sep='\\t', index=False)"
   ]
  },
  {
   "cell_type": "code",
   "execution_count": null,
   "id": "1637cec2-7226-4b09-bf21-74124f1fe575",
   "metadata": {},
   "outputs": [],
   "source": [
    "filtered[filtered[\"f2247_f2257\"] == 1][[\"FID\", \"IID\", \"sex\", \"f2247_f2257\", \"f2247_f2257_age\", \"ethnicity\"]]"
   ]
  },
  {
   "cell_type": "code",
   "execution_count": null,
   "id": "5590b830-e0e1-46d5-b315-a500431732b3",
   "metadata": {},
   "outputs": [],
   "source": [
    "filtered[filtered[\"f2247_f2257\"] == 1][[\"FID\", \"IID\", \"sex\", \"f2247_f2257\", \"f2247_f2257_age\", \"ethnicity\"]].to_csv(\"f2247_f2257_pheno_file.tsv\", sep='\\t', index=False)"
   ]
  },
  {
   "cell_type": "code",
   "execution_count": null,
   "id": "b393342a-7899-4700-9834-e1e1c08b9d01",
   "metadata": {},
   "outputs": [],
   "source": [
    "filtered[filtered[\"mendelian\"] == 1][[\"FID\", \"IID\", \"sex\", \"mendelian\", \"mendelian_age\", \"ethnicity\"]]"
   ]
  },
  {
   "cell_type": "code",
   "execution_count": null,
   "id": "0e437236-2c2f-4758-a840-0e51dc343781",
   "metadata": {},
   "outputs": [],
   "source": [
    "filtered[filtered[\"mendelian\"] == 1][[\"FID\", \"IID\", \"sex\", \"mendelian\", \"mendelian_age\", \"ethnicity\"]].to_csv(\"mendelian_pheno_file.tsv\", sep='\\t', index=False)"
   ]
  },
  {
   "cell_type": "markdown",
   "id": "f8532456-3d0a-456e-9ceb-aaeac90009f1",
   "metadata": {},
   "source": [
    "# 6. Tinnitus"
   ]
  },
  {
   "cell_type": "markdown",
   "id": "c688f276-92a6-4c4f-8953-01d8b204b874",
   "metadata": {},
   "source": [
    "## 6.1. Remove inconsistencies or unclear individuals"
   ]
  },
  {
   "cell_type": "markdown",
   "id": "3eef770a-07f0-4033-86ac-ec421339dcac",
   "metadata": {},
   "source": [
    "### 6.1.1. Prior to filtering for inconsistencies"
   ]
  },
  {
   "cell_type": "markdown",
   "id": "6e836d3b-15e0-45a0-a56f-6762a0e00eea",
   "metadata": {},
   "source": [
    "<b>Tinnitus</b> <br>\n",
    "f.4803 = {'No, never': 76141,\n",
    " 'Yes, but not now, but have in the past': 11400,\n",
    " 'Yes, now some of the time': 9788,\n",
    " 'Yes, now a lot of the time': 2973,\n",
    " 'Yes, now most or all of the time': 7426,\n",
    " 'Do not know': 1745,\n",
    " 'Prefer not to answer': 127}"
   ]
  },
  {
   "cell_type": "markdown",
   "id": "c1d71f37-240c-4213-b801-1f8b2b32b2de",
   "metadata": {},
   "source": [
    "### 6.1.2. Inconsistencies in the tinnitus answers"
   ]
  },
  {
   "cell_type": "code",
   "execution_count": null,
   "id": "4b398a76-505a-4ca6-a2f2-1c96edd31908",
   "metadata": {},
   "outputs": [],
   "source": [
    "filtered = saved_filtered"
   ]
  },
  {
   "cell_type": "code",
   "execution_count": null,
   "id": "b409fe7d-2153-4d32-b47a-f0ead7957e5f",
   "metadata": {},
   "outputs": [],
   "source": [
    "tin_cols = [col for col in filtered if \"f.4803\" in col]\n",
    "\n",
    "icd_10_cols = [col for col in df if \"f.41270\" in col]\n",
    "icd_9_cols = [col for col in df if \"f.41271\" in col]"
   ]
  },
  {
   "cell_type": "code",
   "execution_count": null,
   "id": "6fa1c0d2-e515-4424-844d-c355a095da5b",
   "metadata": {},
   "outputs": [],
   "source": [
    "tin_ans = {\"Do not know\":9, 'Yes, but not now, but have in the past':1, 'Yes, now some of the time':1, 'Yes, now a lot of the time':1, 'Yes, now most or all of the time':1, 'No, never':0}\n",
    "options = set()\n",
    "# pass one pheno at a time\n",
    "def find_options(row):\n",
    "    answer = \"\".join([str(tin_ans[i]) for i in row if not pd.isna(i) and i != \"Prefer not to answer\"])\n",
    "    options.add(answer)"
   ]
  },
  {
   "cell_type": "code",
   "execution_count": null,
   "id": "6247b9b6-ec55-4ce8-b043-a14be87ae473",
   "metadata": {},
   "outputs": [],
   "source": [
    "s = filtered[tin_cols].apply(find_options, axis=1)"
   ]
  },
  {
   "cell_type": "code",
   "execution_count": null,
   "id": "1b0150f6-6503-4842-a81f-e1ae1754da39",
   "metadata": {
    "scrolled": true,
    "tags": []
   },
   "outputs": [],
   "source": [
    "options"
   ]
  },
  {
   "cell_type": "code",
   "execution_count": null,
   "id": "e6b21887-a0d6-4c72-955f-16383cf6b96f",
   "metadata": {},
   "outputs": [],
   "source": [
    "# we might have inconsistencies if we have don't knows mixed with other answers or even yes and no together\n",
    "# options contains the set of all unique codes \n",
    "\n",
    "do_not_know_no = [i for i in options if '0' in i and '9' in i and '1' not in i]\n",
    "do_not_know_yes = [i for i in options if '0' not in i and '9' in i and '1' in i]\n",
    "yes_no = [i for i in options if '0' in i and '9' not in i and '1' in i]\n",
    "with_all_three = [i for i in options if '0' in i and '9' in i and '1' in i]\n",
    "\n",
    "# collecting all possible occurances that can be flagged for being inconsistent\n",
    "might_inconsistent = do_not_know_no + do_not_know_yes + yes_no + with_all_three\n",
    "\n",
    "# these are exceptions to the possibilities we have that can be flagged for being inconsistent\n",
    "exceptions = [\"91\",\"911\",\"9111\",\"991\",\"0001\",\"001\",\"0011\",\"01\",\"011\",\"0111\", \"0091\", \"091\",\"0911\",\"0991\",\"9001\",\"901\",\"9011\", \"90\", \"900\", \"9000\", \"990\"]\n",
    "\n",
    "# collect the list of answer combinations that are actually inconsistent by removing the answer combinations that are exceptions\n",
    "inconsistent = [i for i in might_inconsistent if i not in exceptions]"
   ]
  },
  {
   "cell_type": "code",
   "execution_count": null,
   "id": "f3f39b4d-a603-4cc6-bea5-404b26f9b777",
   "metadata": {
    "scrolled": true,
    "tags": []
   },
   "outputs": [],
   "source": [
    "inconsistent"
   ]
  },
  {
   "cell_type": "markdown",
   "id": "4b276021-0b4b-4c81-8a48-d64b80d56236",
   "metadata": {},
   "source": [
    "#### 6.1.2.1. Filtering out the data"
   ]
  },
  {
   "cell_type": "code",
   "execution_count": null,
   "id": "41393f60-e043-4b47-b541-d5ac7957c2c1",
   "metadata": {},
   "outputs": [],
   "source": [
    "filtered"
   ]
  },
  {
   "cell_type": "code",
   "execution_count": null,
   "id": "fc6d0bf3-0119-4287-ab94-374f8a040a01",
   "metadata": {},
   "outputs": [],
   "source": [
    "# will return true if that row should be removed\n",
    "# pass one pheno at a time\n",
    "def find_inconsistencies(row):\n",
    "    for i in row:\n",
    "        if not pd.isna(i) and i == \"I am completely deaf\":\n",
    "            return True\n",
    "    \n",
    "    answer = \"\".join([str(tin_ans[i]) for i in row if not pd.isna(i) and i != \"I am completely deaf\" and i != \"Prefer not to answer\"])\n",
    "    if answer in inconsistent:\n",
    "        return True\n",
    "    return False"
   ]
  },
  {
   "cell_type": "code",
   "execution_count": null,
   "id": "332a010d-d1d5-4c4e-a4e7-840a3566cb5c",
   "metadata": {},
   "outputs": [],
   "source": [
    "exclude = filtered[tin_cols].apply(find_inconsistencies, axis=1)\n",
    "filtered = filtered[~exclude]"
   ]
  },
  {
   "cell_type": "code",
   "execution_count": null,
   "id": "075c402a-effa-4fa6-991b-e61ab4784618",
   "metadata": {},
   "outputs": [],
   "source": [
    "filtered"
   ]
  },
  {
   "cell_type": "markdown",
   "id": "cb77eef6-4f2e-4de3-9b1b-124991ac5598",
   "metadata": {},
   "source": [
    "## 6.2. Identify Pure Control"
   ]
  },
  {
   "cell_type": "markdown",
   "id": "b17f1e06-1dcf-4151-8367-68cd84b70540",
   "metadata": {},
   "source": [
    "Need to make sure that for tinnitus we obtain the individuals that say no.\n",
    "\n",
    "The conditions for saying no are as follows:\n",
    "* Never saying yes\n",
    "* Not being inconsistent\n",
    "* Saying no at least once (prefer not to say is allowed)\n",
    "\n",
    "We are also not including individuals to be part of the control group if they have certain codes for ICD9, ICD10, or f.20002 (this is in the case that they say no to all tinnitus). However these individuals can still be part of the cases"
   ]
  },
  {
   "cell_type": "code",
   "execution_count": null,
   "id": "9fd0d9d2-23aa-436e-b3a1-03bbfceb0ab7",
   "metadata": {},
   "outputs": [],
   "source": [
    "tin_ans = {\"Do not know\":9, 'Yes, but not now, but have in the past':1, 'Yes, now some of the time':1, 'Yes, now a lot of the time':1, 'Yes, now most or all of the time':1, 'No, never':0}\n",
    "\n",
    "# returns 0 if it's a ctrl or else 1\n",
    "def find_ctrl(row):\n",
    "    answer = \"\".join([str(tin_ans[i]) for i in row if not pd.isna(i) and i != \"Prefer not to answer\"])\n",
    "    if \"0\" in answer and \"1\" not in answer:\n",
    "        return False\n",
    "    return True"
   ]
  },
  {
   "cell_type": "code",
   "execution_count": null,
   "id": "b49cf7c8-0972-439d-80c3-52aa97f6293a",
   "metadata": {},
   "outputs": [],
   "source": [
    "f4803_ctrl = filtered[tin_cols].apply(find_ctrl, axis=1)"
   ]
  },
  {
   "cell_type": "code",
   "execution_count": null,
   "id": "1ef0a34c-c8ae-425f-b089-d4683f6b6058",
   "metadata": {},
   "outputs": [],
   "source": [
    "sum(f4803_ctrl)"
   ]
  },
  {
   "cell_type": "markdown",
   "id": "84569b14-196a-451e-b007-42c93422a8c2",
   "metadata": {},
   "source": [
    "### 6.2.1. Collect ICD 10 codes to filter out from Ctrl"
   ]
  },
  {
   "cell_type": "code",
   "execution_count": null,
   "id": "b800a186-66d0-4033-9131-bb4081779a9e",
   "metadata": {
    "scrolled": true,
    "tags": []
   },
   "outputs": [],
   "source": [
    "exclude_ctrl_icd10 = exclusion[(exclusion[\"UKBB_field_code\"] == \"f.41270\") & (exclusion[\"Excluded_from_controls\"] == 'Y') ]\n",
    "exclude_ctrl_icd10"
   ]
  },
  {
   "cell_type": "code",
   "execution_count": null,
   "id": "84ef6b19-fc2b-4d77-a280-abaaca09737d",
   "metadata": {
    "scrolled": true,
    "tags": []
   },
   "outputs": [],
   "source": [
    "ex_critia_ctrl_icd10 = [\"\".join( (i.split(\" \")[0]).split(\".\") ) for i in exclude_ctrl_icd10[\"Phenotype\"].tolist()]\n",
    "ex_critia_ctrl_icd10"
   ]
  },
  {
   "cell_type": "code",
   "execution_count": null,
   "id": "57701e62-ba67-4c34-b576-b257dbf914e8",
   "metadata": {},
   "outputs": [],
   "source": [
    "icd10 = filtered[icd10_colnames]\n",
    "icd10"
   ]
  },
  {
   "cell_type": "code",
   "execution_count": null,
   "id": "1ee18d08-19f9-4dc7-bd7d-49edfc53729e",
   "metadata": {},
   "outputs": [],
   "source": [
    "ex_fxn_icd10 = lambda row: contains_exclusion(row, ex_critia_ctrl_icd10)\n",
    "ex_10 = icd10.apply(ex_fxn_icd10, axis=1)"
   ]
  },
  {
   "cell_type": "markdown",
   "id": "41e6a8cd-5271-4c3a-b9f9-61421d4a3e9c",
   "metadata": {},
   "source": [
    "### 6.2.2. Collect ICD 9 codes to filter out from Ctrl"
   ]
  },
  {
   "cell_type": "code",
   "execution_count": null,
   "id": "84252b3f-b3db-4e73-9740-57da0ae43e4d",
   "metadata": {
    "scrolled": true,
    "tags": []
   },
   "outputs": [],
   "source": [
    "exclude_ctrl_icd9 = exclusion[(exclusion[\"UKBB_field_code\"] == \"f.41271\") & (exclusion[\"Excluded_from_controls\"] == 'Y') ]\n",
    "exclude_ctrl_icd9"
   ]
  },
  {
   "cell_type": "code",
   "execution_count": null,
   "id": "f1f5ac8e-5a43-416a-ac4e-c9b35a3aa69e",
   "metadata": {
    "scrolled": true,
    "tags": []
   },
   "outputs": [],
   "source": [
    "ex_critia_ctrl_icd9 = [\"\".join( (i.split(\" \")[0]).split(\".\") ) for i in exclude_ctrl_icd9[\"Phenotype\"].tolist()]\n",
    "ex_critia_ctrl_icd9"
   ]
  },
  {
   "cell_type": "code",
   "execution_count": null,
   "id": "8b206248-2ea0-4be7-976b-a846b857c5a3",
   "metadata": {},
   "outputs": [],
   "source": [
    "icd9 = filtered[icd9_colnames]\n",
    "icd9"
   ]
  },
  {
   "cell_type": "code",
   "execution_count": null,
   "id": "70b9175f-25b4-4b14-adf9-5451c1b1acea",
   "metadata": {},
   "outputs": [],
   "source": [
    "ex_fxn_icd9 = lambda row: contains_exclusion(row, ex_critia_ctrl_icd9)\n",
    "ex_9 = icd9.apply(ex_fxn_icd9, axis=1)"
   ]
  },
  {
   "cell_type": "markdown",
   "id": "7be17151-66ca-4a63-a331-3b8236223423",
   "metadata": {},
   "source": [
    "### 6.2.3. Collect f20002 codes to filter out from Ctrl"
   ]
  },
  {
   "cell_type": "code",
   "execution_count": null,
   "id": "f6c7859b-892b-4971-b256-f69cb1acdd77",
   "metadata": {},
   "outputs": [],
   "source": [
    "exclude_ctrl_f20002 = exclusion[(exclusion[\"UKBB_field_code\"] == \"f.20002\") & (exclusion[\"Excluded_from_controls\"] == 'Y') ]\n",
    "exclude_ctrl_f20002"
   ]
  },
  {
   "cell_type": "code",
   "execution_count": null,
   "id": "02a059e5-9ed6-4868-96fd-58b5d8df2c1e",
   "metadata": {},
   "outputs": [],
   "source": [
    "f20002 = filtered[f20002_colnames]\n",
    "f20002"
   ]
  },
  {
   "cell_type": "code",
   "execution_count": null,
   "id": "d5fe688d-edf3-4dbe-ba74-f1d560a3c251",
   "metadata": {},
   "outputs": [],
   "source": [
    "ex_critia_ctrl_f20002 = [\"\".join( (i.split(\" \")[0]).split(\".\") ) for i in exclude_ctrl_f20002[\"Phenotype\"].tolist()]\n",
    "ex_critia_ctrl_f20002"
   ]
  },
  {
   "cell_type": "code",
   "execution_count": null,
   "id": "c5e5f877-696f-4186-ad25-3ad94d34d3a4",
   "metadata": {},
   "outputs": [],
   "source": [
    "ex_fxn_f20002 = lambda row: contains_exclusion(row, ex_critia_ctrl_f20002)\n",
    "ex_f20002 = f20002.apply(ex_fxn_f20002, axis=1)"
   ]
  },
  {
   "cell_type": "markdown",
   "id": "69e3a05f-7427-4ff1-b092-fd4a7f5a049f",
   "metadata": {},
   "source": [
    "### 6.2.4. Collect individuals with other tinnitus codes to filter out from CTRL"
   ]
  },
  {
   "cell_type": "code",
   "execution_count": null,
   "id": "d0217699-d488-4bb3-98f2-1a1ab91bd7d2",
   "metadata": {},
   "outputs": [],
   "source": [
    "# check if the given code exists in the individuals\n",
    "def check_code(row, code):\n",
    "    for i in row:\n",
    "        if not pd.isna(i) and i == code:\n",
    "            return 1\n",
    "    return 0"
   ]
  },
  {
   "cell_type": "code",
   "execution_count": null,
   "id": "053f2a5a-ccb5-41ef-880c-f5e255705dc7",
   "metadata": {},
   "outputs": [],
   "source": [
    "tinn_icd10_check_code = lambda row: check_code(row, \"H931\")\n",
    "tinn_icd10 = filtered[icd_10_cols].apply(tinn_icd10_check_code, axis = 1)"
   ]
  },
  {
   "cell_type": "code",
   "execution_count": null,
   "id": "8def4fc8-3b7a-4ed3-a509-976b9324eda8",
   "metadata": {},
   "outputs": [],
   "source": [
    "tinn_icd9_check_code = lambda row: check_code(row, \"3883\")\n",
    "tinn_icd9 = filtered[icd_9_cols].apply(tinn_icd9_check_code, axis = 1)"
   ]
  },
  {
   "cell_type": "code",
   "execution_count": null,
   "id": "c22dd1e6-089f-4560-8730-ef8c97dc5a28",
   "metadata": {},
   "outputs": [],
   "source": [
    "self_report_cols = [col for col in filtered if \"f.20002\" in col]\n",
    "tinn_self_report_check_code = lambda row: check_code(row, \"1597\")\n",
    "tinn_self_report = filtered[self_report_cols].apply(tinn_self_report_check_code, axis = 1)"
   ]
  },
  {
   "cell_type": "markdown",
   "id": "280563ad-4e24-470f-b570-70918660e9e9",
   "metadata": {},
   "source": [
    "### 6.2.5. Filter out Tinnitus Ctrl"
   ]
  },
  {
   "cell_type": "code",
   "execution_count": null,
   "id": "e0c3af3b-0b5a-4388-9ad2-42bb5d9925af",
   "metadata": {},
   "outputs": [],
   "source": [
    "sum(f4803_ctrl | ex_10 | ex_9 | ex_f20002 | tinn_icd10 | tinn_icd9 | tinn_self_report)"
   ]
  },
  {
   "cell_type": "code",
   "execution_count": null,
   "id": "3287651c-1227-467c-895a-b7de2f58a21b",
   "metadata": {},
   "outputs": [],
   "source": [
    "temp = f4803_ctrl | ex_10 | ex_9 | ex_f20002 | tinn_icd10 | tinn_icd9 | tinn_self_report\n",
    "filtered_ctrl = [1 if i else 0 for i in temp.to_list()]"
   ]
  },
  {
   "cell_type": "code",
   "execution_count": null,
   "id": "6672d591-4f0d-41f6-8e5b-43e88820520b",
   "metadata": {},
   "outputs": [],
   "source": [
    "filtered[\"tinnitus_pure_ctrl\"] = filtered_ctrl"
   ]
  },
  {
   "cell_type": "code",
   "execution_count": null,
   "id": "2506a98f-714a-41a7-86b8-2ddc53a07ce8",
   "metadata": {},
   "outputs": [],
   "source": [
    "filtered"
   ]
  },
  {
   "cell_type": "markdown",
   "id": "f5a639b1-8744-4e21-9f90-44ca1f6a9d37",
   "metadata": {},
   "source": [
    "## 6.3. Identify Age"
   ]
  },
  {
   "cell_type": "code",
   "execution_count": null,
   "id": "0b59f07f-72af-4340-9e78-4bc089100724",
   "metadata": {},
   "outputs": [],
   "source": [
    "ages_f21003_col = [col for col in filtered if \"f.21003\" in col]\n",
    "ages_f21003_col"
   ]
  },
  {
   "cell_type": "code",
   "execution_count": null,
   "id": "83a4685d-c69e-4399-8652-74ad328ef2aa",
   "metadata": {},
   "outputs": [],
   "source": [
    "#get the minimum age of each individual in the given columns\n",
    "def get_min_age(row):\n",
    "    temp = [i for i in row.to_list() if not pd.isna(i)]\n",
    "    if len(temp) > 0:\n",
    "        return min(temp)\n",
    "    else:\n",
    "        return pd.NA"
   ]
  },
  {
   "cell_type": "code",
   "execution_count": null,
   "id": "59083e31-a77b-4762-8b15-d6b2b88d3d79",
   "metadata": {},
   "outputs": [],
   "source": [
    "filtered[\"tinnitus_age\"] = filtered[ages_f21003_col].apply(get_min_age, axis=1)"
   ]
  },
  {
   "cell_type": "code",
   "execution_count": null,
   "id": "f02062f7-eb0a-40c6-99d6-f5e1a9e5bc0c",
   "metadata": {},
   "outputs": [],
   "source": [
    "saved_tinn = filtered"
   ]
  },
  {
   "cell_type": "code",
   "execution_count": null,
   "id": "d9c85886-771a-4923-bad0-a0dbe1c0519f",
   "metadata": {},
   "outputs": [],
   "source": [
    "filtered = saved_tinn"
   ]
  },
  {
   "cell_type": "markdown",
   "id": "88c7f2d0-82ef-4a62-8c8a-d3c4e0dc4055",
   "metadata": {},
   "source": [
    "## 6.4. Noisy workplace and Loud Music Variable"
   ]
  },
  {
   "cell_type": "markdown",
   "id": "a533e13e-8ed9-4e34-9766-2346c259fc88",
   "metadata": {},
   "source": [
    "Two variables that we need to control for in the analysis are f.4825 (noisy workplace) and f.4836 (loud music)."
   ]
  },
  {
   "cell_type": "markdown",
   "id": "75e2c968-6fa7-4c3d-ae14-f9edf347f5dd",
   "metadata": {},
   "source": [
    "### 6.4.1. Check for inconsistencies"
   ]
  },
  {
   "cell_type": "markdown",
   "id": "3572aebb-68b5-4299-b209-ac26933a95e9",
   "metadata": {},
   "source": [
    "<b>f.4825 \"Have you ever worked in a noisy place where you had to shout to be heard?\"</b> <br>\n",
    "\"No\"= \"0\", <br>\n",
    "\"Yes, for less than a year\"= \"1\", <br>\n",
    "\"Yes, for around 1-5 years\"= \"2\", <br>\n",
    "\"Yes, for more than 5 years\"= \"3\", <br>\n",
    "\"Prefer not to answer\"= NA, <br>\n",
    "\"Do not know\"= NA <br>"
   ]
  },
  {
   "cell_type": "markdown",
   "id": "450f4001-d183-408e-a02f-019ba7445c9c",
   "metadata": {},
   "source": [
    "<b>f.4836 \"Have you ever listened to music for more than 3 hours per week at a volume which you would need to shout to be heard or, if wearing headphones, someone else would need to shout for you to hear them?\" </b> <br>\n",
    "\"No\"= \"0\", <br>\n",
    "\"Yes, for less than a year\"= \"1\", <br>\n",
    "\"Yes, for around 1-5 years\"= \"2\", <br>\n",
    "\"Yes, for more than 5 years\"= \"3\", <br>\n",
    "\"Prefer not to answer\"= NA, <br>\n",
    "\"Do not know\"= NA <br>"
   ]
  },
  {
   "cell_type": "code",
   "execution_count": null,
   "id": "6761c701-f7c0-4f3d-ba51-585336ec327f",
   "metadata": {},
   "outputs": [],
   "source": [
    "noise_wp_cols = [col for col in df if \"f.4825\" in col]\n",
    "loud_music_cols = [col for col in df if \"f.4836\" in col]"
   ]
  },
  {
   "cell_type": "code",
   "execution_count": null,
   "id": "3395f990-fb32-40dc-af66-97e3d0918f62",
   "metadata": {},
   "outputs": [],
   "source": [
    "noise_loud_answers = {\"No\":0, \"Yes, for less than a year\":1, \"Yes, for around 1-5 years\":2, \"Yes, for more than 5 years\":3}\n",
    "\n",
    "# if the answers we have are not sorted in the order that they're in the list, then that individual is inconsistent\n",
    "def find_inconsistencies_noisy_loud(row):\n",
    "    ans = [noise_loud_answers[i] for i in row if i in noise_loud_answers.keys()] \n",
    "    return sorted(ans) != ans\n",
    "        "
   ]
  },
  {
   "cell_type": "code",
   "execution_count": null,
   "id": "d4113fa5-b726-4357-bb51-61d310f3795a",
   "metadata": {},
   "outputs": [],
   "source": [
    "exclude = filtered[noise_wp_cols].apply(find_inconsistencies_noisy_loud, axis=1)\n",
    "filtered = filtered[~exclude]"
   ]
  },
  {
   "cell_type": "code",
   "execution_count": null,
   "id": "35f4bc87-4baf-42f2-83c6-adb66a3b0c8f",
   "metadata": {},
   "outputs": [],
   "source": [
    "exclude = filtered[loud_music_cols].apply(find_inconsistencies_noisy_loud, axis=1)\n",
    "filtered = filtered[~exclude]"
   ]
  },
  {
   "cell_type": "markdown",
   "id": "b6b89ae7-e121-49db-b6ed-6270220d5e7d",
   "metadata": {},
   "source": [
    "### 6.4.2. Label Noise and Loud Music"
   ]
  },
  {
   "cell_type": "code",
   "execution_count": null,
   "id": "f8966bd1-0bfc-4bb9-b358-25233d515777",
   "metadata": {},
   "outputs": [],
   "source": [
    "# find individuals that have yes for either noise or loud sounds\n",
    "def find_label_noisy_loud(row):\n",
    "    ans = [noise_loud_answers[i] for i in row if i in noise_loud_answers.keys()]\n",
    "    if len(ans) > 0:\n",
    "        return ans[-1]\n",
    "    return pd.NA"
   ]
  },
  {
   "cell_type": "code",
   "execution_count": null,
   "id": "9c921a60-6d9e-4dcf-a833-ac318ee99495",
   "metadata": {},
   "outputs": [],
   "source": [
    "filtered[\"noise_wp\"] = filtered[noise_wp_cols].apply(find_label_noisy_loud, axis=1)"
   ]
  },
  {
   "cell_type": "code",
   "execution_count": null,
   "id": "c970929b-ab14-44ec-bc5b-707f60b55ffe",
   "metadata": {},
   "outputs": [],
   "source": [
    "filtered[\"noise_wp\"] = filtered[\"noise_wp\"].fillna( int(filtered[\"noise_wp\"].median(skipna=True)) )"
   ]
  },
  {
   "cell_type": "code",
   "execution_count": null,
   "id": "41813edf-295b-4828-8459-ad2ff421f53d",
   "metadata": {},
   "outputs": [],
   "source": [
    "filtered[\"loud_music\"] = filtered[loud_music_cols].apply(find_label_noisy_loud, axis=1)"
   ]
  },
  {
   "cell_type": "code",
   "execution_count": null,
   "id": "1a0cdac4-975c-4838-970a-d5dc40bb0555",
   "metadata": {},
   "outputs": [],
   "source": [
    "filtered[\"loud_music\"] = filtered[\"loud_music\"].fillna( int(filtered[\"loud_music\"].median(skipna=True)) )"
   ]
  },
  {
   "cell_type": "code",
   "execution_count": null,
   "id": "c20664a5-5a97-43a5-99ce-52ddba7977dd",
   "metadata": {},
   "outputs": [],
   "source": [
    "filtered"
   ]
  },
  {
   "cell_type": "markdown",
   "id": "fd1719c4-48c6-489f-8168-49d109061052",
   "metadata": {},
   "source": [
    "## 6.5. Identify Cases"
   ]
  },
  {
   "cell_type": "markdown",
   "id": "e32b8bfe-9c77-49e5-83e3-04fa666f64f4",
   "metadata": {},
   "source": [
    "**Analysis plan:**\n",
    "\n",
    "1. Individuals who currently have tinnitus (all four yes categories) vs no never only controlling for sex, age, noisy workplace and loud music frequency (\"crude\") (No tinnitus vs anytype of tinnitus). For this analysis the missing data of the noise variables was imputed using the median for cases and controls separately\n",
    "\n",
    "3. Individuals in the two top YES categories vs NO never ('No' tinnitus vs 'Yes, now all of the time' and 'Yes, now most of the time')\n",
    "\n",
    "4. Individuals that say yes in the top 3 categories vs No never (Remove category 'yes, but not now, but have it in the past')\n",
    "\n",
    "5. Individuals who currently have tinnitus (all four yes categories and tinnitus codes). Not filtering for issues with noisy workplace and loud music."
   ]
  },
  {
   "cell_type": "code",
   "execution_count": null,
   "id": "60464470-9323-49aa-b550-9582002bb859",
   "metadata": {},
   "outputs": [],
   "source": [
    "# return 1 if we have a yes (used to find phenos)\n",
    "def find_yes(row):\n",
    "    for i in row:\n",
    "        if not pd.isna(i) and i != \"Prefer not to answer\" and i in tin_ans.keys() and tin_ans[i] == 1:\n",
    "            return 1\n",
    "    return 0"
   ]
  },
  {
   "cell_type": "markdown",
   "id": "e14bf440-550b-452f-9971-0ac902b57f17",
   "metadata": {},
   "source": [
    "### 6.5.1. Analysis Plan 1"
   ]
  },
  {
   "cell_type": "code",
   "execution_count": null,
   "id": "a808c0ba-d455-487f-aad1-f2e6e511fc88",
   "metadata": {},
   "outputs": [],
   "source": [
    "tin_ans = {\"Do not know\":9, 'Yes, but not now, but have in the past':1, 'Yes, now some of the time':1, 'Yes, now a lot of the time':1, 'Yes, now most or all of the time':1, 'No, never':0}"
   ]
  },
  {
   "cell_type": "code",
   "execution_count": null,
   "id": "1b0dff08-87ea-4cfa-9455-a1b81a10d63c",
   "metadata": {},
   "outputs": [],
   "source": [
    "tinn_yes = filtered[tin_cols].apply(find_yes, axis=1)"
   ]
  },
  {
   "cell_type": "code",
   "execution_count": null,
   "id": "adcf711e-882a-45c1-ba36-42f99086ccc8",
   "metadata": {},
   "outputs": [],
   "source": [
    "filtered[\"tinnitus_1\"] = tinn_yes"
   ]
  },
  {
   "cell_type": "markdown",
   "id": "bf390af9-04ce-441f-aa0a-d1b7388aea7f",
   "metadata": {},
   "source": [
    "### 6.5.2. Analysis Plan 2"
   ]
  },
  {
   "cell_type": "code",
   "execution_count": null,
   "id": "041b8a06-3cca-436b-b08c-e7b4fb0c7e56",
   "metadata": {},
   "outputs": [],
   "source": [
    "tin_ans = {\"Do not know\":9, 'Yes, now a lot of the time':1, 'Yes, now most or all of the time':1, 'No, never':0}"
   ]
  },
  {
   "cell_type": "code",
   "execution_count": null,
   "id": "c424a56b-144d-4e15-879e-6ac8100eed32",
   "metadata": {},
   "outputs": [],
   "source": [
    "tinn_yes = filtered[tin_cols].apply(find_yes, axis=1)"
   ]
  },
  {
   "cell_type": "code",
   "execution_count": null,
   "id": "85c1419a-29c4-4523-bc0e-669728c18192",
   "metadata": {},
   "outputs": [],
   "source": [
    "filtered[\"tinnitus_2\"] = tinn_yes"
   ]
  },
  {
   "cell_type": "markdown",
   "id": "ee66dd98-bc62-4803-ae13-95c8dd9c60d2",
   "metadata": {},
   "source": [
    "### 6.5.3. Analysis Plan 3"
   ]
  },
  {
   "cell_type": "code",
   "execution_count": null,
   "id": "ec4bae88-1ab7-42b5-b337-39b3ff9fc5f4",
   "metadata": {},
   "outputs": [],
   "source": [
    "tin_ans = {\"Do not know\":9, 'Yes, now some of the time':1, 'Yes, now a lot of the time':1, 'Yes, now most or all of the time':1, 'No, never':0}"
   ]
  },
  {
   "cell_type": "code",
   "execution_count": null,
   "id": "97154d21-8037-42a0-ab05-14f8aa6f173a",
   "metadata": {},
   "outputs": [],
   "source": [
    "tinn_yes = filtered[tin_cols].apply(find_yes, axis=1)"
   ]
  },
  {
   "cell_type": "code",
   "execution_count": null,
   "id": "348a6004-159d-4475-a923-d81dd66c6dda",
   "metadata": {},
   "outputs": [],
   "source": [
    "sum(tinn_yes)"
   ]
  },
  {
   "cell_type": "code",
   "execution_count": null,
   "id": "83731786-5764-416e-b4ca-8f62bd7ac006",
   "metadata": {},
   "outputs": [],
   "source": [
    "filtered[\"tinnitus_3\"] = tinn_yes"
   ]
  },
  {
   "cell_type": "markdown",
   "id": "5431efa4-7a0c-4499-920c-4a8e9c75fecf",
   "metadata": {},
   "source": [
    "### 6.5.4. Analysis Plan 4"
   ]
  },
  {
   "cell_type": "code",
   "execution_count": null,
   "id": "0e4fb973-6869-4ce8-8a03-967cac99ed93",
   "metadata": {},
   "outputs": [],
   "source": [
    "filtered_for4 = saved_tinn"
   ]
  },
  {
   "cell_type": "code",
   "execution_count": null,
   "id": "e75be492-cf2b-426a-a1be-bebbc3e2f4ce",
   "metadata": {},
   "outputs": [],
   "source": [
    "tin_ans = {\"Do not know\":9, 'Yes, but not now, but have in the past':1, 'Yes, now some of the time':1, 'Yes, now a lot of the time':1, 'Yes, now most or all of the time':1, 'No, never':0}"
   ]
  },
  {
   "cell_type": "code",
   "execution_count": null,
   "id": "97230784-87c8-4a08-94c0-87b357b7f8b9",
   "metadata": {},
   "outputs": [],
   "source": [
    "tinn_yes = filtered_for4[tin_cols].apply(find_yes, axis=1)"
   ]
  },
  {
   "cell_type": "code",
   "execution_count": null,
   "id": "db8c3302-76ab-44ea-9229-7c869f1f97de",
   "metadata": {},
   "outputs": [],
   "source": [
    "sum(tinn_yes | tinn_icd10 | tinn_icd9 | tinn_self_report)"
   ]
  },
  {
   "cell_type": "code",
   "execution_count": null,
   "id": "f0fbdf00-0229-49bc-8885-7b72c23a38ee",
   "metadata": {},
   "outputs": [],
   "source": [
    "filtered_for4[\"tinnitus_4\"] = tinn_yes | tinn_icd10 | tinn_icd9 | tinn_self_report"
   ]
  },
  {
   "cell_type": "code",
   "execution_count": null,
   "id": "d7d099d7-5b8c-4369-9157-344721ed4859",
   "metadata": {},
   "outputs": [],
   "source": [
    "sum(filtered_for4[\"tinnitus_4\"])"
   ]
  },
  {
   "cell_type": "markdown",
   "id": "9917fa6c-bc0e-44f1-ba29-3973a6f0ee28",
   "metadata": {},
   "source": [
    "## 6.6. File Output"
   ]
  },
  {
   "cell_type": "code",
   "execution_count": null,
   "id": "2c6ce143-d6e6-4d82-8d65-613af4d25da9",
   "metadata": {},
   "outputs": [],
   "source": [
    "filtered"
   ]
  },
  {
   "cell_type": "code",
   "execution_count": null,
   "id": "9831005d-bfbf-4b95-80f6-7db5a9d0ce74",
   "metadata": {},
   "outputs": [],
   "source": [
    "filtered_for4"
   ]
  },
  {
   "cell_type": "code",
   "execution_count": null,
   "id": "71fcb04b-b575-482e-b6e0-9489127e1592",
   "metadata": {},
   "outputs": [],
   "source": [
    "filtered[filtered[\"tinnitus_pure_ctrl\"] == 0][[\"FID\", \"IID\", \"sex\", \"tinnitus_pure_ctrl\", \"tinnitus_age\", \"noise_wp\", \"loud_music\"]].to_csv(\"tinnitus_pure_ctrl_pheno_file.tsv\", sep='\\t', index=False)\n",
    "#filtered[filtered[\"tinnitus_pure_ctrl\"] == 0][[\"FID\", \"IID\", \"sex\", \"tinnitus_pure_ctrl\", \"ctrl_age\"]].to_csv(\"tinnitus_pure_ctrl_pheno_file.tsv\", sep='\\t', index=False)"
   ]
  },
  {
   "cell_type": "code",
   "execution_count": null,
   "id": "2b8b8d31-82f6-4f46-8bea-a8ef6de56cbe",
   "metadata": {},
   "outputs": [],
   "source": [
    "filtered[filtered[\"tinnitus_1\"] == 1][[\"FID\", \"IID\", \"sex\", \"tinnitus_1\", \"tinnitus_age\", \"noise_wp\", \"loud_music\"]].to_csv(\"tinnitus_1_pheno_file.tsv\", sep='\\t', index=False)"
   ]
  },
  {
   "cell_type": "code",
   "execution_count": null,
   "id": "19314497-78a6-4870-b45d-f0dfb24ecce5",
   "metadata": {},
   "outputs": [],
   "source": [
    "filtered[filtered[\"tinnitus_2\"] == 1][[\"FID\", \"IID\", \"sex\", \"tinnitus_2\", \"tinnitus_age\", \"noise_wp\", \"loud_music\"]].to_csv(\"tinnitus_2_pheno_file.tsv\", sep='\\t', index=False)"
   ]
  },
  {
   "cell_type": "code",
   "execution_count": null,
   "id": "f73c421a-72f5-44b0-ac09-3068b93e9c65",
   "metadata": {},
   "outputs": [],
   "source": [
    "filtered[filtered[\"tinnitus_3\"] == 1][[\"FID\", \"IID\", \"sex\", \"tinnitus_3\", \"tinnitus_age\", \"noise_wp\", \"loud_music\"]].to_csv(\"tinnitus_3_pheno_file.tsv\", sep='\\t', index=False)"
   ]
  },
  {
   "cell_type": "code",
   "execution_count": null,
   "id": "6172f6ac-0b09-4ea1-981f-f655267b3f68",
   "metadata": {},
   "outputs": [],
   "source": [
    "filtered_for4[filtered_for4[\"tinnitus_4\"] == 1][[\"FID\", \"IID\", \"sex\", \"tinnitus_4\", \"tinnitus_age\"]].to_csv(\"tinnitus_4_pheno_file.tsv\", sep='\\t', index=False)"
   ]
  },
  {
   "cell_type": "code",
   "execution_count": null,
   "id": "e08f4a60-fd37-432c-a94c-3f4a8dafea16",
   "metadata": {},
   "outputs": [],
   "source": [
    "filtered_for4[filtered_for4[\"tinnitus_4\"] == 1][[\"FID\", \"IID\", \"sex\", \"tinnitus_4\", \"tinnitus_age\"]]"
   ]
  },
  {
   "cell_type": "markdown",
   "id": "3e2be85f-a483-4808-9a34-18c1d5a03579",
   "metadata": {},
   "source": [
    "# 7. Merge Pheno with Ctrl"
   ]
  },
  {
   "cell_type": "markdown",
   "id": "b5d4453d-c64b-4ed0-ade3-cce4d35be3da",
   "metadata": {},
   "source": [
    "## 7.1. f2247, f2257, f3393, and mendilian"
   ]
  },
  {
   "cell_type": "code",
   "execution_count": null,
   "id": "f92d1572-aa09-48bc-8b86-6a923d871d61",
   "metadata": {},
   "outputs": [],
   "source": [
    "ctrl_file_name = \"pure_ctrl_pheno_file.tsv\"\n",
    "f3393_file_name = \"f3393_pheno_file.tsv\"\n",
    "f2247_file_name = \"f2247_pheno_file.tsv\"\n",
    "f2257_file_name = \"f2257_pheno_file.tsv\"\n",
    "f2247_f2257_file_name = \"f2247_f2257_pheno_file.tsv\"\n",
    "mendilianlike_file_name = \"mendelian_pheno_file.tsv\""
   ]
  },
  {
   "cell_type": "code",
   "execution_count": null,
   "id": "e67202a8-3254-45f7-aab8-c6f03364604c",
   "metadata": {},
   "outputs": [],
   "source": [
    "f3393 = pd.read_csv(f3393_file_name, sep=\"\\t\")\n",
    "f2247 = pd.read_csv(f2247_file_name, sep=\"\\t\")\n",
    "f2257 = pd.read_csv(f2257_file_name, sep=\"\\t\")\n",
    "f2247_f2257 = pd.read_csv(f2247_f2257_file_name, sep=\"\\t\")\n",
    "ctrl = pd.read_csv(ctrl_file_name, sep=\"\\t\")\n",
    "mendlike = pd.read_csv(mendilianlike_file_name, sep=\"\\t\")"
   ]
  },
  {
   "cell_type": "code",
   "execution_count": null,
   "id": "46a73ba7-9922-4fa4-b24a-91e34d4ca3e0",
   "metadata": {},
   "outputs": [],
   "source": [
    "print(\"ctrl: \",len(ctrl))\n",
    "print(\"f2247: \",len(f2247))\n",
    "print(\"f2257: \",len(f2257))\n",
    "print(\"f2247_f2257: \",len(f2247_f2257))\n",
    "print(\"f3393: \",len(f3393))\n",
    "print(\"mendlike: \",len(mendlike))"
   ]
  },
  {
   "cell_type": "code",
   "execution_count": null,
   "id": "a1e42452-c64f-46e7-9a49-99c1d2cf0d5b",
   "metadata": {},
   "outputs": [],
   "source": [
    "mendlike[mendlike[\"mendelian_age\"] > 40]"
   ]
  },
  {
   "cell_type": "code",
   "execution_count": null,
   "id": "93eda57c-6a06-4c4c-bf02-340024885eb0",
   "metadata": {},
   "outputs": [],
   "source": [
    "mendlike[mendlike[\"mendelian_age\"] < 18]"
   ]
  },
  {
   "cell_type": "markdown",
   "id": "9849bae7-b768-4200-bc4f-78f5244d0089",
   "metadata": {},
   "source": [
    "### 7.1.1. f2247"
   ]
  },
  {
   "cell_type": "code",
   "execution_count": null,
   "id": "c052d4a7-6141-4785-9aa6-3098871c5e65",
   "metadata": {},
   "outputs": [],
   "source": [
    "# create pheno file\n",
    "ctrl = ctrl.rename(columns={ctrl.columns[4]:\"age\", ctrl.columns[3]:f2247.columns[3]})\n",
    "f2247 = f2247.rename(columns={f2247.columns[4]:\"age\"})\n",
    "\n",
    "full_pheno = f2247.append(ctrl)\n",
    "full_pheno[[\"FID\", \"IID\", \"sex\", \"f2247\", \"age\"]].to_csv(\"090321_UKBB_Hearing_difficulty_f2247_expandedwhite_45502cases_96601ctrl\", sep='\\t', index=False)"
   ]
  },
  {
   "cell_type": "code",
   "execution_count": null,
   "id": "cbb620d2-8118-4c57-af8f-b52552ed5a63",
   "metadata": {},
   "outputs": [],
   "source": [
    "# create PCA pheno file\n",
    "full_pheno[[\"FID\", \"IID\", \"ethnicity\"]].to_csv(\"090321_UKBB_Hearing_difficulty_f2247_expandedwhite_45502cases_96601ctrl.phenopca\", sep='\\t', index=False)"
   ]
  },
  {
   "cell_type": "code",
   "execution_count": null,
   "id": "7649040a-3392-4a9c-b1cf-8e4e5dfdcbea",
   "metadata": {},
   "outputs": [],
   "source": [
    "# keep id file for genotype data selection\n",
    "full_pheno[[\"FID\", \"IID\"]].to_csv(\"090321_UKBB_Hearing_difficulty_f2247_expandedwhite_45502cases_96601ctrl.keep_id\", sep='\\t', index=False, header=False)"
   ]
  },
  {
   "cell_type": "markdown",
   "id": "2ebfe73f-6c7d-4280-838d-8f91ac6fe1a2",
   "metadata": {},
   "source": [
    "### 7.1.2. f2257"
   ]
  },
  {
   "cell_type": "code",
   "execution_count": null,
   "id": "cdc06561-0cec-49ea-b29d-57e854f52027",
   "metadata": {},
   "outputs": [],
   "source": [
    "# create pheno file\n",
    "ctrl = ctrl.rename(columns={ctrl.columns[4]:\"age\", ctrl.columns[3]:f2257.columns[3]})\n",
    "f2257 = f2257.rename(columns={f2257.columns[4]:\"age\"})\n",
    "\n",
    "full_pheno = f2257.append(ctrl)\n",
    "full_pheno[[\"FID\", \"IID\", \"sex\", \"f2257\", \"age\"]].to_csv(\"090321_UKBB_Hearing_noise_f2257_expandedwhite_65660cases_96601ctrl\", sep='\\t', index=False)"
   ]
  },
  {
   "cell_type": "code",
   "execution_count": null,
   "id": "3739d649-8702-4888-8199-a32b815b1593",
   "metadata": {},
   "outputs": [],
   "source": [
    "# create PCA pheno file\n",
    "full_pheno[[\"FID\", \"IID\", \"ethnicity\"]].to_csv(\"090321_UKBB_Hearing_noise_f2257_expandedwhite_65660cases_96601ctrl.phenopca\", sep='\\t', index=False)"
   ]
  },
  {
   "cell_type": "code",
   "execution_count": null,
   "id": "da5bc0f9-cd3f-4841-b119-9e6d6f6e3e4c",
   "metadata": {},
   "outputs": [],
   "source": [
    "# keep id file for genotype data selection\n",
    "full_pheno[[\"FID\", \"IID\"]].to_csv(\"090321_UKBB_Hearing_noise_f2257_expandedwhite_65660cases_96601ctrl.keep_id\", sep='\\t', index=False, header=False)"
   ]
  },
  {
   "cell_type": "markdown",
   "id": "00264cc0-075e-4974-9a40-53d8caa553f7",
   "metadata": {},
   "source": [
    "### 7.1.3. f2247_f2257"
   ]
  },
  {
   "cell_type": "code",
   "execution_count": null,
   "id": "0985bea7-2540-4dfd-846a-f04d6c56b260",
   "metadata": {},
   "outputs": [],
   "source": [
    "# create pheno file\n",
    "ctrl = ctrl.rename(columns={ctrl.columns[4]:\"age\", ctrl.columns[3]:f2247_f2257.columns[3]})\n",
    "f2247_f2257 = f2247_f2257.rename(columns={f2247_f2257.columns[4]:\"age\"})\n",
    "\n",
    "full_pheno = f2247_f2257.append(ctrl)\n",
    "full_pheno[[\"FID\", \"IID\", \"sex\", \"f2247_f2257\", \"age\"]].to_csv(\"090321_UKBB_Combined_f2247_f2257_expandedwhite_38410cases_96601ctrl\", sep='\\t', index=False)"
   ]
  },
  {
   "cell_type": "code",
   "execution_count": null,
   "id": "4278d5aa-9653-4018-817d-64821da83e8b",
   "metadata": {},
   "outputs": [],
   "source": [
    "# create PCA pheno file\n",
    "full_pheno[[\"FID\", \"IID\", \"ethnicity\"]].to_csv(\"090321_UKBB_Combined_f2247_f2257_expandedwhite_38410cases_96601ctrl.phenopca\", sep='\\t', index=False)"
   ]
  },
  {
   "cell_type": "code",
   "execution_count": null,
   "id": "f0d1fc79-6fa0-4f9b-a5ad-9c31974ab38f",
   "metadata": {},
   "outputs": [],
   "source": [
    "# keep id file for genotype data selection\n",
    "full_pheno[[\"FID\", \"IID\"]].to_csv(\"090321_UKBB_Combined_f2247_f2257_expandedwhite_38410cases_96601ctrl.keep_id\", sep='\\t', index=False, header=False)"
   ]
  },
  {
   "cell_type": "markdown",
   "id": "474f12a9-89c7-4d01-bb9e-5be851d5d5ac",
   "metadata": {},
   "source": [
    "### 7.1.4. f3393"
   ]
  },
  {
   "cell_type": "code",
   "execution_count": null,
   "id": "04d2169f-b693-43bb-9970-1ecce08e5593",
   "metadata": {},
   "outputs": [],
   "source": [
    "# create pheno file\n",
    "ctrl = ctrl.rename(columns={ctrl.columns[4]:\"age\", ctrl.columns[3]:f3393.columns[3]})\n",
    "f3393 = f3393.rename(columns={f3393.columns[4]:\"age\"})\n",
    "\n",
    "full_pheno = f3393.append(ctrl)\n",
    "full_pheno[[\"FID\", \"IID\", \"sex\", \"f3393\", \"age\"]].to_csv(\"090321_UKBB_Hearing_aid_f3393_expandedwhite_6436cases_96601ctrl\", sep='\\t', index=False)"
   ]
  },
  {
   "cell_type": "code",
   "execution_count": null,
   "id": "38323db1-0e43-4609-a48a-7b12eb38de2d",
   "metadata": {},
   "outputs": [],
   "source": [
    "# create PCA pheno file\n",
    "full_pheno[[\"FID\", \"IID\", \"ethnicity\"]].to_csv(\"090321_UKBB_Hearing_aid_f3393_expandedwhite_6436cases_96601ctrl.phenopca\", sep='\\t', index=False)"
   ]
  },
  {
   "cell_type": "code",
   "execution_count": null,
   "id": "5452fb5f-b3e2-4dbf-a06f-961a4e3db936",
   "metadata": {},
   "outputs": [],
   "source": [
    "# keep id file for genotype data selection\n",
    "full_pheno[[\"FID\", \"IID\"]].to_csv(\"090321_UKBB_Hearing_aid_f3393_expandedwhite_6436cases_96601ctrl.keep_id\", sep='\\t', index=False, header=False)"
   ]
  },
  {
   "cell_type": "markdown",
   "id": "0720e200-b051-4b40-83fd-b0935c625b07",
   "metadata": {},
   "source": [
    "### 7.1.5. Mendelian"
   ]
  },
  {
   "cell_type": "code",
   "execution_count": null,
   "id": "d1eefc76-38b3-4934-af42-cea4a3adc6a0",
   "metadata": {},
   "outputs": [],
   "source": [
    "# create pheno file\n",
    "ctrl = ctrl.rename(columns={ctrl.columns[4]:\"age\", ctrl.columns[3]:mendlike.columns[3]})\n",
    "mendlike = mendlike.rename(columns={mendlike.columns[4]:\"age\"})\n",
    "\n",
    "full_pheno = mendlike.append(ctrl)\n",
    "full_pheno[[\"FID\", \"IID\", \"sex\", \"mendelian\", \"age\"]].to_csv(\"090321_UKBB_Mendelian_expandedwhite_2686cases_96601ctrl\", sep='\\t', index=False)"
   ]
  },
  {
   "cell_type": "code",
   "execution_count": null,
   "id": "18bd04f9-e22e-4386-bb0b-90ba0a5bb439",
   "metadata": {},
   "outputs": [],
   "source": [
    "# create PCA pheno file\n",
    "full_pheno[[\"FID\", \"IID\", \"ethnicity\"]].to_csv(\"090321_UKBB_Mendelian_expandedwhite_2686cases_96601ctrl.phenopca\", sep='\\t', index=False)"
   ]
  },
  {
   "cell_type": "code",
   "execution_count": null,
   "id": "4109fd2e-70bf-42a6-9d6f-fa0a3ba20b03",
   "metadata": {},
   "outputs": [],
   "source": [
    "# keep id file for genotype data selection\n",
    "full_pheno[[\"FID\", \"IID\"]].to_csv(\"090321_UKBB_Mendelian_expandedwhite_2686rcases_96601ctrl.keep_id\", sep='\\t', index=False, header=False)"
   ]
  },
  {
   "cell_type": "markdown",
   "id": "c9d951fe-dbb3-4de7-a779-739e01a4bf64",
   "metadata": {},
   "source": [
    "## 7.2. Tinnitus"
   ]
  },
  {
   "cell_type": "code",
   "execution_count": null,
   "id": "dbf49e51-669c-4cb8-b3af-292e1bdd6e2e",
   "metadata": {},
   "outputs": [],
   "source": [
    "tinnitus_ctrl_file_name = \"tinnitus_pure_ctrl_pheno_file.tsv\"\n",
    "tinnitus_1_file_name = \"tinnitus_1_pheno_file.tsv\"\n",
    "tinnitus_2_file_name = \"tinnitus_2_pheno_file.tsv\"\n",
    "tinnitus_3_file_name = \"tinnitus_3_pheno_file.tsv\"\n",
    "tinnitus_4_file_name = \"tinnitus_4_pheno_file.tsv\""
   ]
  },
  {
   "cell_type": "code",
   "execution_count": null,
   "id": "5048e0ed-2cae-4a95-9b2d-ecf0b527635e",
   "metadata": {},
   "outputs": [],
   "source": [
    "tinnitus_ctrl = pd.read_csv(tinnitus_ctrl_file_name, sep=\"\\t\")\n",
    "tinnitus_1 = pd.read_csv(tinnitus_1_file_name, sep=\"\\t\")\n",
    "tinnitus_2 = pd.read_csv(tinnitus_2_file_name, sep=\"\\t\")\n",
    "tinnitus_3 = pd.read_csv(tinnitus_3_file_name, sep=\"\\t\")\n",
    "tinnitus_4 = pd.read_csv(tinnitus_4_file_name, sep=\"\\t\")"
   ]
  },
  {
   "cell_type": "code",
   "execution_count": null,
   "id": "d70fa4f1-b7a7-48ed-a206-1968db65fedc",
   "metadata": {},
   "outputs": [],
   "source": [
    "tinnitus_ctrl = tinnitus_ctrl.rename(columns={tinnitus_ctrl.columns[4]:\"age\"})\n",
    "tinnitus_1 = tinnitus_1.rename(columns={tinnitus_1.columns[4]:\"age\"})\n",
    "tinnitus_2 = tinnitus_2.rename(columns={tinnitus_2.columns[4]:\"age\"})\n",
    "tinnitus_3 = tinnitus_3.rename(columns={tinnitus_3.columns[4]:\"age\"})\n",
    "tinnitus_4 = tinnitus_4.rename(columns={tinnitus_4.columns[4]:\"age\"})"
   ]
  },
  {
   "cell_type": "code",
   "execution_count": null,
   "id": "1098efcf-8061-45e5-81cc-a38886d14166",
   "metadata": {},
   "outputs": [],
   "source": [
    "print(\"ctrl: \",len(tinnitus_ctrl))\n",
    "print(\"tinnitus 1: \",len(tinnitus_1))\n",
    "print(\"tinnitus 2: \",len(tinnitus_2))\n",
    "print(\"tinnitus 3: \",len(tinnitus_3))\n",
    "print(\"tinnitus 4: \",len(tinnitus_4))"
   ]
  },
  {
   "cell_type": "markdown",
   "id": "0fee4a2b-d5f4-4546-8fa6-8c8d24e066b4",
   "metadata": {},
   "source": [
    "### 7.2.1. Analysis 1"
   ]
  },
  {
   "cell_type": "code",
   "execution_count": null,
   "id": "49908ff3-d159-4b68-a0ed-0895f255fb4e",
   "metadata": {},
   "outputs": [],
   "source": [
    "tinnitus_ctrl = tinnitus_ctrl.rename(columns={tinnitus_ctrl.columns[3]:tinnitus_1.columns[3]})\n",
    "full_tinnitus_1 = tinnitus_1.append(tinnitus_ctrl)\n",
    "full_tinnitus_1"
   ]
  },
  {
   "cell_type": "markdown",
   "id": "65b12c86-d4a9-4907-822c-99584ee4306d",
   "metadata": {},
   "source": [
    "### 7.2.2. Analysis 2"
   ]
  },
  {
   "cell_type": "code",
   "execution_count": null,
   "id": "e9515322-ad1b-4f12-977a-db1b30b00211",
   "metadata": {},
   "outputs": [],
   "source": [
    "tinnitus_ctrl = tinnitus_ctrl.rename(columns={tinnitus_ctrl.columns[3]:tinnitus_2.columns[3]})\n",
    "full_tinnitus_2 = tinnitus_2.append(tinnitus_ctrl)\n",
    "full_tinnitus_2"
   ]
  },
  {
   "cell_type": "markdown",
   "id": "19538700-4e62-4840-a593-407e8c205812",
   "metadata": {},
   "source": [
    "### 7.2.3. Analysis 3"
   ]
  },
  {
   "cell_type": "code",
   "execution_count": null,
   "id": "9cb0e1c6-d880-410c-ad3b-5c481e632889",
   "metadata": {},
   "outputs": [],
   "source": [
    "tinnitus_ctrl = tinnitus_ctrl.rename(columns={tinnitus_ctrl.columns[3]:tinnitus_3.columns[3]})\n",
    "full_tinnitus_3 = tinnitus_3.append(tinnitus_ctrl)\n",
    "full_tinnitus_3"
   ]
  },
  {
   "cell_type": "markdown",
   "id": "a41611a5-b099-4279-bb5a-355facf11e6e",
   "metadata": {},
   "source": [
    "### 7.2.4. Analysis 4"
   ]
  },
  {
   "cell_type": "code",
   "execution_count": null,
   "id": "05a141c7-2f39-4575-9336-ad08a09f6f67",
   "metadata": {},
   "outputs": [],
   "source": [
    "tinnitus_ctrl = tinnitus_ctrl.rename(columns={tinnitus_ctrl.columns[3]:tinnitus_4.columns[3]})\n",
    "full_tinnitus_4 = tinnitus_4.append(tinnitus_ctrl[tinnitus_ctrl.columns[:-2]])\n",
    "full_tinnitus_4"
   ]
  }
 ],
 "metadata": {
  "kernelspec": {
   "display_name": "Python 3 (ipykernel)",
   "language": "python",
   "name": "python3"
  },
  "language_info": {
   "codemirror_mode": {
    "name": "ipython",
    "version": 3
   },
   "file_extension": ".py",
   "mimetype": "text/x-python",
   "name": "python",
   "nbconvert_exporter": "python",
   "pygments_lexer": "ipython3",
   "version": "3.8.5"
  },
  "toc-autonumbering": false,
  "toc-showtags": false
 },
 "nbformat": 4,
 "nbformat_minor": 5
}
