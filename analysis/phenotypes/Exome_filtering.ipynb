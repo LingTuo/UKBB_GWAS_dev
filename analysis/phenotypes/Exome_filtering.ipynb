{
 "cells": [
  {
   "cell_type": "markdown",
   "metadata": {
    "kernel": "SoS"
   },
   "source": [
    "## Aim: compare the results from the exome data and the imputed data. Specifically number of cases"
   ]
  },
  {
   "cell_type": "markdown",
   "metadata": {
    "kernel": "SoS"
   },
   "source": [
    "### 1. Compare the initial exome file with the expanded white file"
   ]
  },
  {
   "cell_type": "code",
   "execution_count": null,
   "metadata": {
    "kernel": "R"
   },
   "outputs": [],
   "source": [
    "#Load libraries\n",
    "library(plyr)\n",
    "library(tidyverse)\n",
    "library(pander)\n",
    "library(ggpubr)\n",
    "library(rapportools)\n",
    "library(ggplot2)\n",
    "#Get working directory\n",
    "getwd()"
   ]
  },
  {
   "cell_type": "code",
   "execution_count": 6,
   "metadata": {
    "kernel": "R"
   },
   "outputs": [],
   "source": [
    "#Set working directory Yale\n",
    "setwd('~/project/HI_UKBB/')\n",
    "## Load the expanded white file\n",
    "df.final.imp = read.csv('010521_UKBB_HI_genotypeqc_expandedwhite_396974indiv_excr.csv')"
   ]
  },
  {
   "cell_type": "code",
   "execution_count": 7,
   "metadata": {
    "kernel": "R"
   },
   "outputs": [
    {
     "data": {
      "text/html": [
       "396974"
      ],
      "text/latex": [
       "396974"
      ],
      "text/markdown": [
       "396974"
      ],
      "text/plain": [
       "[1] 396974"
      ]
     },
     "metadata": {},
     "output_type": "display_data"
    }
   ],
   "source": [
    "nrow(df.final.imp)"
   ]
  },
  {
   "cell_type": "code",
   "execution_count": 9,
   "metadata": {
    "kernel": "R"
   },
   "outputs": [
    {
     "data": {
      "text/html": [
       "<table>\n",
       "<caption>A data.frame: 6 × 2262</caption>\n",
       "<thead>\n",
       "\t<tr><th></th><th scope=col>IID</th><th scope=col>FID</th><th scope=col>ignore1</th><th scope=col>ignore2</th><th scope=col>ignore3</th><th scope=col>ignore4</th><th scope=col>f.31.0.0</th><th scope=col>f.34.0.0</th><th scope=col>f.53.0.0</th><th scope=col>f.53.1.0</th><th scope=col>⋯</th><th scope=col>f.131229.0.0</th><th scope=col>f.131230.0.0</th><th scope=col>f.131231.0.0</th><th scope=col>f.131232.0.0</th><th scope=col>f.131233.0.0</th><th scope=col>f.131250.0.0</th><th scope=col>f.131251.0.0</th><th scope=col>f.131252.0.0</th><th scope=col>f.131253.0.0</th><th scope=col>exclude</th></tr>\n",
       "\t<tr><th></th><th scope=col>&lt;int&gt;</th><th scope=col>&lt;int&gt;</th><th scope=col>&lt;int&gt;</th><th scope=col>&lt;int&gt;</th><th scope=col>&lt;int&gt;</th><th scope=col>&lt;int&gt;</th><th scope=col>&lt;fct&gt;</th><th scope=col>&lt;int&gt;</th><th scope=col>&lt;fct&gt;</th><th scope=col>&lt;fct&gt;</th><th scope=col>⋯</th><th scope=col>&lt;fct&gt;</th><th scope=col>&lt;fct&gt;</th><th scope=col>&lt;fct&gt;</th><th scope=col>&lt;fct&gt;</th><th scope=col>&lt;fct&gt;</th><th scope=col>&lt;fct&gt;</th><th scope=col>&lt;fct&gt;</th><th scope=col>&lt;fct&gt;</th><th scope=col>&lt;fct&gt;</th><th scope=col>&lt;lgl&gt;</th></tr>\n",
       "</thead>\n",
       "<tbody>\n",
       "\t<tr><th scope=row>1</th><td>1000019</td><td>1000019</td><td>0</td><td>0</td><td>2</td><td>-9</td><td>Female</td><td>1960</td><td>2008-01-24</td><td>NA</td><td>⋯</td><td>NA</td><td>NA</td><td>NA</td><td>NA</td><td>NA</td><td>NA</td><td>NA</td><td>NA</td><td>NA</td><td>FALSE</td></tr>\n",
       "\t<tr><th scope=row>2</th><td>1000022</td><td>1000022</td><td>0</td><td>0</td><td>1</td><td>-9</td><td>Male  </td><td>1954</td><td>2008-01-22</td><td>NA</td><td>⋯</td><td>NA</td><td>NA</td><td>NA</td><td>NA</td><td>NA</td><td>NA</td><td>NA</td><td>NA</td><td>NA</td><td>FALSE</td></tr>\n",
       "\t<tr><th scope=row>3</th><td>1000035</td><td>1000035</td><td>0</td><td>0</td><td>1</td><td>-9</td><td>Male  </td><td>1944</td><td>2007-11-08</td><td>NA</td><td>⋯</td><td>NA</td><td>NA</td><td>NA</td><td>NA</td><td>NA</td><td>NA</td><td>NA</td><td>NA</td><td>NA</td><td>FALSE</td></tr>\n",
       "\t<tr><th scope=row>4</th><td>1000046</td><td>1000046</td><td>0</td><td>0</td><td>2</td><td>-9</td><td>Female</td><td>1946</td><td>2008-12-01</td><td>NA</td><td>⋯</td><td>NA</td><td>NA</td><td>NA</td><td>NA</td><td>NA</td><td>NA</td><td>NA</td><td>NA</td><td>NA</td><td>FALSE</td></tr>\n",
       "\t<tr><th scope=row>5</th><td>1000054</td><td>1000054</td><td>0</td><td>0</td><td>2</td><td>-9</td><td>Female</td><td>1942</td><td>2007-11-23</td><td>NA</td><td>⋯</td><td>NA</td><td>NA</td><td>NA</td><td>NA</td><td>NA</td><td>NA</td><td>NA</td><td>NA</td><td>NA</td><td>FALSE</td></tr>\n",
       "\t<tr><th scope=row>6</th><td>1000063</td><td>1000063</td><td>0</td><td>0</td><td>1</td><td>-9</td><td>Male  </td><td>1967</td><td>2010-06-26</td><td>NA</td><td>⋯</td><td>NA</td><td>NA</td><td>NA</td><td>NA</td><td>NA</td><td>NA</td><td>NA</td><td>NA</td><td>NA</td><td>FALSE</td></tr>\n",
       "</tbody>\n",
       "</table>\n"
      ],
      "text/latex": [
       "A data.frame: 6 × 2262\n",
       "\\begin{tabular}{r|lllllllllllllllllllll}\n",
       "  & IID & FID & ignore1 & ignore2 & ignore3 & ignore4 & f.31.0.0 & f.34.0.0 & f.53.0.0 & f.53.1.0 & ⋯ & f.131229.0.0 & f.131230.0.0 & f.131231.0.0 & f.131232.0.0 & f.131233.0.0 & f.131250.0.0 & f.131251.0.0 & f.131252.0.0 & f.131253.0.0 & exclude\\\\\n",
       "  & <int> & <int> & <int> & <int> & <int> & <int> & <fct> & <int> & <fct> & <fct> & ⋯ & <fct> & <fct> & <fct> & <fct> & <fct> & <fct> & <fct> & <fct> & <fct> & <lgl>\\\\\n",
       "\\hline\n",
       "\t1 & 1000019 & 1000019 & 0 & 0 & 2 & -9 & Female & 1960 & 2008-01-24 & NA & ⋯ & NA & NA & NA & NA & NA & NA & NA & NA & NA & FALSE\\\\\n",
       "\t2 & 1000022 & 1000022 & 0 & 0 & 1 & -9 & Male   & 1954 & 2008-01-22 & NA & ⋯ & NA & NA & NA & NA & NA & NA & NA & NA & NA & FALSE\\\\\n",
       "\t3 & 1000035 & 1000035 & 0 & 0 & 1 & -9 & Male   & 1944 & 2007-11-08 & NA & ⋯ & NA & NA & NA & NA & NA & NA & NA & NA & NA & FALSE\\\\\n",
       "\t4 & 1000046 & 1000046 & 0 & 0 & 2 & -9 & Female & 1946 & 2008-12-01 & NA & ⋯ & NA & NA & NA & NA & NA & NA & NA & NA & NA & FALSE\\\\\n",
       "\t5 & 1000054 & 1000054 & 0 & 0 & 2 & -9 & Female & 1942 & 2007-11-23 & NA & ⋯ & NA & NA & NA & NA & NA & NA & NA & NA & NA & FALSE\\\\\n",
       "\t6 & 1000063 & 1000063 & 0 & 0 & 1 & -9 & Male   & 1967 & 2010-06-26 & NA & ⋯ & NA & NA & NA & NA & NA & NA & NA & NA & NA & FALSE\\\\\n",
       "\\end{tabular}\n"
      ],
      "text/markdown": [
       "\n",
       "A data.frame: 6 × 2262\n",
       "\n",
       "| <!--/--> | IID &lt;int&gt; | FID &lt;int&gt; | ignore1 &lt;int&gt; | ignore2 &lt;int&gt; | ignore3 &lt;int&gt; | ignore4 &lt;int&gt; | f.31.0.0 &lt;fct&gt; | f.34.0.0 &lt;int&gt; | f.53.0.0 &lt;fct&gt; | f.53.1.0 &lt;fct&gt; | ⋯ ⋯ | f.131229.0.0 &lt;fct&gt; | f.131230.0.0 &lt;fct&gt; | f.131231.0.0 &lt;fct&gt; | f.131232.0.0 &lt;fct&gt; | f.131233.0.0 &lt;fct&gt; | f.131250.0.0 &lt;fct&gt; | f.131251.0.0 &lt;fct&gt; | f.131252.0.0 &lt;fct&gt; | f.131253.0.0 &lt;fct&gt; | exclude &lt;lgl&gt; |\n",
       "|---|---|---|---|---|---|---|---|---|---|---|---|---|---|---|---|---|---|---|---|---|---|\n",
       "| 1 | 1000019 | 1000019 | 0 | 0 | 2 | -9 | Female | 1960 | 2008-01-24 | NA | ⋯ | NA | NA | NA | NA | NA | NA | NA | NA | NA | FALSE |\n",
       "| 2 | 1000022 | 1000022 | 0 | 0 | 1 | -9 | Male   | 1954 | 2008-01-22 | NA | ⋯ | NA | NA | NA | NA | NA | NA | NA | NA | NA | FALSE |\n",
       "| 3 | 1000035 | 1000035 | 0 | 0 | 1 | -9 | Male   | 1944 | 2007-11-08 | NA | ⋯ | NA | NA | NA | NA | NA | NA | NA | NA | NA | FALSE |\n",
       "| 4 | 1000046 | 1000046 | 0 | 0 | 2 | -9 | Female | 1946 | 2008-12-01 | NA | ⋯ | NA | NA | NA | NA | NA | NA | NA | NA | NA | FALSE |\n",
       "| 5 | 1000054 | 1000054 | 0 | 0 | 2 | -9 | Female | 1942 | 2007-11-23 | NA | ⋯ | NA | NA | NA | NA | NA | NA | NA | NA | NA | FALSE |\n",
       "| 6 | 1000063 | 1000063 | 0 | 0 | 1 | -9 | Male   | 1967 | 2010-06-26 | NA | ⋯ | NA | NA | NA | NA | NA | NA | NA | NA | NA | FALSE |\n",
       "\n"
      ],
      "text/plain": [
       "  IID     FID     ignore1 ignore2 ignore3 ignore4 f.31.0.0 f.34.0.0 f.53.0.0  \n",
       "1 1000019 1000019 0       0       2       -9      Female   1960     2008-01-24\n",
       "2 1000022 1000022 0       0       1       -9      Male     1954     2008-01-22\n",
       "3 1000035 1000035 0       0       1       -9      Male     1944     2007-11-08\n",
       "4 1000046 1000046 0       0       2       -9      Female   1946     2008-12-01\n",
       "5 1000054 1000054 0       0       2       -9      Female   1942     2007-11-23\n",
       "6 1000063 1000063 0       0       1       -9      Male     1967     2010-06-26\n",
       "  f.53.1.0 ⋯ f.131229.0.0 f.131230.0.0 f.131231.0.0 f.131232.0.0 f.131233.0.0\n",
       "1 NA       ⋯ NA           NA           NA           NA           NA          \n",
       "2 NA       ⋯ NA           NA           NA           NA           NA          \n",
       "3 NA       ⋯ NA           NA           NA           NA           NA          \n",
       "4 NA       ⋯ NA           NA           NA           NA           NA          \n",
       "5 NA       ⋯ NA           NA           NA           NA           NA          \n",
       "6 NA       ⋯ NA           NA           NA           NA           NA          \n",
       "  f.131250.0.0 f.131251.0.0 f.131252.0.0 f.131253.0.0 exclude\n",
       "1 NA           NA           NA           NA           FALSE  \n",
       "2 NA           NA           NA           NA           FALSE  \n",
       "3 NA           NA           NA           NA           FALSE  \n",
       "4 NA           NA           NA           NA           FALSE  \n",
       "5 NA           NA           NA           NA           FALSE  \n",
       "6 NA           NA           NA           NA           FALSE  "
      ]
     },
     "metadata": {},
     "output_type": "display_data"
    }
   ],
   "source": [
    "head(df.final.imp)"
   ]
  },
  {
   "cell_type": "code",
   "execution_count": 8,
   "metadata": {
    "kernel": "R"
   },
   "outputs": [
    {
     "data": {
      "text/html": [
       "200643"
      ],
      "text/latex": [
       "200643"
      ],
      "text/markdown": [
       "200643"
      ],
      "text/plain": [
       "[1] 200643"
      ]
     },
     "metadata": {},
     "output_type": "display_data"
    }
   ],
   "source": [
    "## Load the exome data fam file\n",
    "exome_original <- read.table(\"/gpfs/gibbs/pi/dewan/data/UKBiobank/genotype_files/ukb28374_exomedata/exome_data_OCT2020/ukb23155_s200631.fam\", header= FALSE, stringsAsFactors = FALSE)\n",
    "names(exome_original) <-c(\"FID\",\"IID\",\"ignore1\", \"ignore2\", \"ignore3\", \"ignore4\")\n",
    "nrow(exome_original)"
   ]
  },
  {
   "cell_type": "code",
   "execution_count": 10,
   "metadata": {
    "kernel": "R"
   },
   "outputs": [
    {
     "data": {
      "text/html": [
       "<table>\n",
       "<caption>A data.frame: 6 × 6</caption>\n",
       "<thead>\n",
       "\t<tr><th></th><th scope=col>FID</th><th scope=col>IID</th><th scope=col>ignore1</th><th scope=col>ignore2</th><th scope=col>ignore3</th><th scope=col>ignore4</th></tr>\n",
       "\t<tr><th></th><th scope=col>&lt;int&gt;</th><th scope=col>&lt;int&gt;</th><th scope=col>&lt;int&gt;</th><th scope=col>&lt;int&gt;</th><th scope=col>&lt;int&gt;</th><th scope=col>&lt;int&gt;</th></tr>\n",
       "</thead>\n",
       "<tbody>\n",
       "\t<tr><th scope=row>1</th><td>1434748</td><td>1434748</td><td>0</td><td>0</td><td>2</td><td>-9</td></tr>\n",
       "\t<tr><th scope=row>2</th><td>5523981</td><td>5523981</td><td>0</td><td>0</td><td>1</td><td>-9</td></tr>\n",
       "\t<tr><th scope=row>3</th><td>5023838</td><td>5023838</td><td>0</td><td>0</td><td>2</td><td>-9</td></tr>\n",
       "\t<tr><th scope=row>4</th><td>4023729</td><td>4023729</td><td>0</td><td>0</td><td>1</td><td>-9</td></tr>\n",
       "\t<tr><th scope=row>5</th><td>4442146</td><td>4442146</td><td>0</td><td>0</td><td>2</td><td>-9</td></tr>\n",
       "\t<tr><th scope=row>6</th><td>5654789</td><td>5654789</td><td>0</td><td>0</td><td>2</td><td>-9</td></tr>\n",
       "</tbody>\n",
       "</table>\n"
      ],
      "text/latex": [
       "A data.frame: 6 × 6\n",
       "\\begin{tabular}{r|llllll}\n",
       "  & FID & IID & ignore1 & ignore2 & ignore3 & ignore4\\\\\n",
       "  & <int> & <int> & <int> & <int> & <int> & <int>\\\\\n",
       "\\hline\n",
       "\t1 & 1434748 & 1434748 & 0 & 0 & 2 & -9\\\\\n",
       "\t2 & 5523981 & 5523981 & 0 & 0 & 1 & -9\\\\\n",
       "\t3 & 5023838 & 5023838 & 0 & 0 & 2 & -9\\\\\n",
       "\t4 & 4023729 & 4023729 & 0 & 0 & 1 & -9\\\\\n",
       "\t5 & 4442146 & 4442146 & 0 & 0 & 2 & -9\\\\\n",
       "\t6 & 5654789 & 5654789 & 0 & 0 & 2 & -9\\\\\n",
       "\\end{tabular}\n"
      ],
      "text/markdown": [
       "\n",
       "A data.frame: 6 × 6\n",
       "\n",
       "| <!--/--> | FID &lt;int&gt; | IID &lt;int&gt; | ignore1 &lt;int&gt; | ignore2 &lt;int&gt; | ignore3 &lt;int&gt; | ignore4 &lt;int&gt; |\n",
       "|---|---|---|---|---|---|---|\n",
       "| 1 | 1434748 | 1434748 | 0 | 0 | 2 | -9 |\n",
       "| 2 | 5523981 | 5523981 | 0 | 0 | 1 | -9 |\n",
       "| 3 | 5023838 | 5023838 | 0 | 0 | 2 | -9 |\n",
       "| 4 | 4023729 | 4023729 | 0 | 0 | 1 | -9 |\n",
       "| 5 | 4442146 | 4442146 | 0 | 0 | 2 | -9 |\n",
       "| 6 | 5654789 | 5654789 | 0 | 0 | 2 | -9 |\n",
       "\n"
      ],
      "text/plain": [
       "  FID     IID     ignore1 ignore2 ignore3 ignore4\n",
       "1 1434748 1434748 0       0       2       -9     \n",
       "2 5523981 5523981 0       0       1       -9     \n",
       "3 5023838 5023838 0       0       2       -9     \n",
       "4 4023729 4023729 0       0       1       -9     \n",
       "5 4442146 4442146 0       0       2       -9     \n",
       "6 5654789 5654789 0       0       2       -9     "
      ]
     },
     "metadata": {},
     "output_type": "display_data"
    }
   ],
   "source": [
    "head(exome_original)"
   ]
  },
  {
   "cell_type": "markdown",
   "metadata": {
    "kernel": "R"
   },
   "source": [
    "## 2. Individuals from the exome data that are in the expanded white database"
   ]
  },
  {
   "cell_type": "code",
   "execution_count": 11,
   "metadata": {
    "kernel": "R"
   },
   "outputs": [
    {
     "data": {
      "text/html": [
       "161791"
      ],
      "text/latex": [
       "161791"
      ],
      "text/markdown": [
       "161791"
      ],
      "text/plain": [
       "[1] 161791"
      ]
     },
     "metadata": {},
     "output_type": "display_data"
    }
   ],
   "source": [
    "#Only 161,791 samples are shared between the expanded white (filtered by exclusion criteria) and the exome data (originally downloaded from UKBB)\n",
    "#Therefore 38,852 samples are left out\n",
    "exome_IID<-exome_original[,1]\n",
    "exome_in_expanded  <- df.final.imp %>%\n",
    "    filter(IID%in%exome_IID)\n",
    "nrow(exome_in_expanded)"
   ]
  },
  {
   "cell_type": "code",
   "execution_count": null,
   "metadata": {
    "kernel": "R"
   },
   "outputs": [],
   "source": []
  }
 ],
 "metadata": {
  "kernelspec": {
   "display_name": "SoS",
   "language": "sos",
   "name": "sos"
  },
  "language_info": {
   "codemirror_mode": "sos",
   "file_extension": ".sos",
   "mimetype": "text/x-sos",
   "name": "sos",
   "nbconvert_exporter": "sos_notebook.converter.SoS_Exporter",
   "pygments_lexer": "sos"
  },
  "sos": {
   "kernels": [
    [
     "R",
     "ir",
     "R",
     "#DCDCDA",
     "r"
    ]
   ],
   "version": "0.21.21"
  }
 },
 "nbformat": 4,
 "nbformat_minor": 4
}
