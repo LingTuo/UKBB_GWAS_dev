{
 "cells": [
  {
   "cell_type": "markdown",
   "metadata": {
    "kernel": "SoS"
   },
   "source": [
    "## Analysis of waist-to-hip ratio (WHR)"
   ]
  },
  {
   "cell_type": "markdown",
   "metadata": {
    "kernel": "SoS"
   },
   "source": [
    "This notebook applies [various LMM workflows](https://dianacornejo.github.io/pleiotropy_UKB/workflow) to perform association analysis for WHR."
   ]
  },
  {
   "cell_type": "markdown",
   "metadata": {
    "kernel": "SoS"
   },
   "source": [
    "## File paths on Yale cluster\n",
    "\n",
    "- Genotype files in PLINK format:\n",
    "`/SAY/dbgapstg/scratch/UKBiobank/genotype_files/pleiotropy_geneticfiles/UKB_Caucasians_phenotypeindepqc120319_updated020720removedwithdrawnindiv`\n",
    "- Genotype files in BGEN format:\n",
    "`SAY/dbgapstg/scratch/UKBiobank/genotype_files/ukb39554_imputeddataset/`\n",
    "- Summary stats for imputed variants BOLT-LMM:\n",
    "`/SAY/dbgapstg/scratch/UKBiobank/results/BOLTLMM_results/results_imputed_data`\n",
    "- Summary stats for inputed variants FastGWA:\n",
    "`/SAY/dbgapstg/scratch/UKBiobank/results/FastGWA_results/results_imputed_data`\n",
    "- Phenotype files:\n",
    "`/SAY/dbgapstg/scratch/UKBiobank/phenotype_files/pleiotropy_R01/phenotypesforanalysis`\n",
    "- Relationship file:\n",
    "`/SAY/dbgapstg/scratch/UKBiobank/genotype_files/pleiotropy_geneticfiles/unrelated_n307259/UKB_unrelatedcauc_phenotypes_asthmat2dbmiwaisthip_agesex_waisthipratio_040620`"
   ]
  },
  {
   "cell_type": "code",
   "execution_count": null,
   "metadata": {
    "kernel": "SoS"
   },
   "outputs": [],
   "source": [
    "%save INT-WHR_boltlmm.sbatch -f\n",
    "\n",
    "#!/bin/bash\n",
    "#SBATCH --partition general\n",
    "#SBATCH --nodes 1\n",
    "#SBATCH --ntasks-per-node 1\n",
    "#SBATCH --cpus-per-task 1\n",
    "#SBATCH --mem 1G\n",
    "#SBATCH --time 3-0:00:00\n",
    "#SBATCH --job-name sos-submission\n",
    "#SBATCH --output sos-submission-%J.out\n",
    "#SBATCH --error sos-submission-%J.log\n",
    "\n",
    "# Defining bash variables for the different paths,\n",
    "\n",
    "cwd=~/scratch60/2020_04_bolt/INT-WHR\n",
    "bfile=/SAY/dbgapstg/scratch/UKBiobank/genotype_files/pleiotropy_geneticfiles/UKB_Caucasians_phenotypeindepqc120319_updated020720removedwithdrawnindiv.bed\n",
    "sampleFile=/SAY/dbgapstg/scratch/UKBiobank/genotype_files/ukb39554_imputeddataset/ukb32285_imputedindiv.sample\n",
    "bgenFile=/SAY/dbgapstg/scratch/UKBiobank/genotype_files/ukb39554_imputeddataset/*.bgen\n",
    "phenoFile=~/project/phenotypes_UKB/UKB_caucasians_BMIwaisthip_AsthmaAndT2D_INT-WHR_withagesex_042020\n",
    "covarFile=~/project/phenotypes_UKB/UKB_caucasians_BMIwaisthip_AsthmaAndT2D_INT-WHR_withagesex_042020\n",
    "LDscoresFile=~/software/BOLT-LMM_v2.3.4/tables/LDSCORE.1000G_EUR.tab.gz\n",
    "geneticMapFile=~/software/BOLT-LMM_v2.3.4/tables/genetic_map_hg19_withX.txt.gz\n",
    "phenoCol=INT-WHR\n",
    "covarCol=SEX\n",
    "covarMaxLevels=10\n",
    "qCovarCol=AGE BMI\n",
    "numThreads=20\n",
    "bgenMinMAF=0.001\n",
    "bgenMinINFO=0.8\n",
    "job-size=1\n",
    "\n",
    "#Running the workflow for INT-WHR trait. Here I used age, sex and BMI as covariates.\n",
    "\n",
    "sos run ~/project/pleiotropy_UKB/workflow/LMM.ipynb boltlmm \\\n",
    "    --cwd $cwd \\\n",
    "    --bfile $bfile \\\n",
    "    --sampleFile $sampleFile \\\n",
    "    --bgenFile $bgenFile \\\n",
    "    --phenoFile $phenoFile \\\n",
    "    --covarFile $covarFile \\\n",
    "    --LDscoresFile $LDscoresFile \\\n",
    "    --geneticMapFile $geneticMapFile \\\n",
    "    --phenoCol $phenoCol \\\n",
    "    --covarCol $covarCol \\\n",
    "    --covarMaxLevels $covarMaxLevels \\\n",
    "    --qCovarCol $qCovarCol \\\n",
    "    --numThreads $numThreads \\\n",
    "    --bgenMinMAF $bgenMinMAF \\\n",
    "    --bgenMinINFO $bgenMinINFO \\\n",
    "    --job-size $job-size \\\n",
    "    -c ~/project/pleiotropy_UKB/farnam.yml -q farnam -J 40 \\\n",
    "    -s build &> 060820-sos-INT-WHR-boltlmm.log"
   ]
  }
 ],
 "metadata": {
  "kernelspec": {
   "display_name": "SoS",
   "language": "sos",
   "name": "sos"
  },
  "language_info": {
   "codemirror_mode": "sos",
   "file_extension": ".sos",
   "mimetype": "text/x-sos",
   "name": "sos",
   "nbconvert_exporter": "sos_notebook.converter.SoS_Exporter",
   "pygments_lexer": "sos"
  },
  "sos": {
   "kernels": [
    [
     "SoS",
     "sos",
     "",
     ""
    ]
   ],
   "version": "0.21.7"
  }
 },
 "nbformat": 4,
 "nbformat_minor": 4
}
