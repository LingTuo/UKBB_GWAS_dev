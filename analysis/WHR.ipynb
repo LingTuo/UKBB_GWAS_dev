{
 "cells": [
  {
   "cell_type": "markdown",
   "metadata": {
    "kernel": "SoS"
   },
   "source": [
    "## Analysis of waist-to-hip ratio (WHR)"
   ]
  },
  {
   "cell_type": "markdown",
   "metadata": {
    "kernel": "SoS"
   },
   "source": [
    "This notebook applies [various LMM workflows](https://dianacornejo.github.io/pleiotropy_UKB/workflow) to perform association analysis for WHR."
   ]
  },
  {
   "cell_type": "markdown",
   "metadata": {
    "kernel": "SoS"
   },
   "source": [
    "## File paths on Yale cluster\n",
    "\n",
    "- Genotype files in PLINK format:\n",
    "`/SAY/dbgapstg/scratch/UKBiobank/genotype_files/pleiotropy_geneticfiles/UKB_Caucasians_phenotypeindepqc120319_updated020720removedwithdrawnindiv`\n",
    "- Genotype files in BGEN format:\n",
    "`SAY/dbgapstg/scratch/UKBiobank/genotype_files/ukb39554_imputeddataset/`\n",
    "- Summary stats for imputed variants BOLT-LMM:\n",
    "`/SAY/dbgapstg/scratch/UKBiobank/results/BOLTLMM_results/results_imputed_data`\n",
    "- Summary stats for inputed variants FastGWA:\n",
    "`/SAY/dbgapstg/scratch/UKBiobank/results/FastGWA_results/results_imputed_data`\n",
    "- Phenotype files:\n",
    "`/SAY/dbgapstg/scratch/UKBiobank/phenotype_files/pleiotropy_R01/phenotypesforanalysis`\n",
    "- Relationship file:\n",
    "`/SAY/dbgapstg/scratch/UKBiobank/genotype_files/pleiotropy_geneticfiles/unrelated_n307259/UKB_unrelatedcauc_phenotypes_asthmat2dbmiwaisthip_agesex_waisthipratio_040620`"
   ]
  },
  {
   "cell_type": "markdown",
   "metadata": {
    "kernel": "SoS"
   },
   "source": [
    "## Running this notebook on the cluster to generate the specific scripts\n",
    "\n",
    "```\n",
    "sos convert ~/project/UKBB_GWAS_DEV/analysis/WHR.ipynb ~/project/UKBB_GWAS_DEV/docs/analysis/WHR.html --execute\n",
    "```"
   ]
  },
  {
   "cell_type": "code",
   "execution_count": null,
   "metadata": {
    "kernel": "SoS"
   },
   "outputs": [],
   "source": [
    "%save INT-WHR_boltlmm.sbatch -f\n",
    "\n",
    "#!/bin/bash\n",
    "#SBATCH --partition general\n",
    "#SBATCH --nodes 1\n",
    "#SBATCH --ntasks-per-node 1\n",
    "#SBATCH --cpus-per-task 1\n",
    "#SBATCH --mem 1G\n",
    "#SBATCH --time 3-0:00:00\n",
    "#SBATCH --job-name sos-submission\n",
    "#SBATCH --output sos-submission-%J.out\n",
    "#SBATCH --error sos-submission-%J.log\n",
    "\n",
    "# Defining bash variables for the different paths,\n",
    "\n",
    "cwd=~/scratch60/2020-04_bolt/INT-WHR\n",
    "bfile=/SAY/dbgapstg/scratch/UKBiobank/genotype_files/pleiotropy_geneticfiles/UKB_Caucasians_phenotypeindepqc120319_updated020720removedwithdrawnindiv.bed\n",
    "sampleFile=/SAY/dbgapstg/scratch/UKBiobank/genotype_files/ukb39554_imputeddataset/ukb32285_imputedindiv.sample\n",
    "bgenFile=/SAY/dbgapstg/scratch/UKBiobank/genotype_files/ukb39554_imputeddataset/ukb_imp_chr{1..22}_v3.bgen\n",
    "phenoFile=~/project/phenotypes_UKB/UKB_caucasians_BMIwaisthip_AsthmaAndT2D_INT-WHR_withagesex_042020\n",
    "covarFile=~/project/phenotypes_UKB/UKB_caucasians_BMIwaisthip_AsthmaAndT2D_INT-WHR_withagesex_042020\n",
    "LDscoresFile=~/software/BOLT-LMM_v2.3.4/tables/LDSCORE.1000G_EUR.tab.gz\n",
    "geneticMapFile=~/software/BOLT-LMM_v2.3.4/tables/genetic_map_hg19_withX.txt.gz\n",
    "phenoCol=INT-WHR\n",
    "covarCol=SEX\n",
    "covarMaxLevels=10\n",
    "qCovarCol=AGE BMI\n",
    "numThreads=20\n",
    "bgenMinMAF=0.001\n",
    "bgenMinINFO=0.8\n",
    "job_size=1\n",
    "\n",
    "#Running the workflow for INT-WHR trait. Here I used age, sex and BMI as covariates.\n",
    "\n",
    "sos run ~/project/UKBB_GWAS_DEV/workflow/LMM.ipynb boltlmm \\\n",
    "    --cwd $cwd \\\n",
    "    --bfile $bfile \\\n",
    "    --sampleFile $sampleFile \\\n",
    "    --bgenFile $bgenFile \\\n",
    "    --phenoFile $phenoFile \\\n",
    "    --covarFile $covarFile \\\n",
    "    --LDscoresFile $LDscoresFile \\\n",
    "    --geneticMapFile $geneticMapFile \\\n",
    "    --phenoCol $phenoCol \\\n",
    "    --covarCol $covarCol \\\n",
    "    --covarMaxLevels $covarMaxLevels \\\n",
    "    --qCovarCol $qCovarCol \\\n",
    "    --numThreads $numThreads \\\n",
    "    --bgenMinMAF $bgenMinMAF \\\n",
    "    --bgenMinINFO $bgenMinINFO \\\n",
    "    --job_size $job_size \\\n",
    "    -c ~/project/UKBB_GWAS_DEV/farnam.yml -q farnam -J 40 \\\n",
    "    -s build &> 060820-sos-INT-WHR-boltlmm.log"
   ]
  },
  {
   "cell_type": "code",
   "execution_count": null,
   "metadata": {
    "kernel": "SoS"
   },
   "outputs": [],
   "source": [
    "%save scripts/WHR_asthma_ldclumping.sbatch -f\n",
    "\n",
    "#!/bin/bash\n",
    "#SBATCH --partition general\n",
    "#SBATCH --nodes 1\n",
    "#SBATCH --ntasks-per-node 1\n",
    "#SBATCH --cpus-per-task 1\n",
    "#SBATCH --mem 1G\n",
    "#SBATCH --time 3-0:00:00\n",
    "#SBATCH --job-name sos-submission\n",
    "#SBATCH --output sos-submission-%J.out\n",
    "#SBATCH --error sos-submission-%J.log\n",
    "\n",
    "# Set the bash variables \n",
    "cwd=~/scratch60/plink-clumping\n",
    "bfile=/SAY/dbgapstg/scratch/UKBiobank/genotype_files/pleiotropy_geneticfiles/UKB_Caucasians_phenotypeindepqc120319_updated020720removedwithdrawnindiv.bed\n",
    "bgenFile=`echo /SAY/dbgapstg/scratch/UKBiobank/genotype_files/ukb39554_imputeddataset/ukb_imp_chr{1..22}_v3.bgen`\n",
    "sampleFile=/SAY/dbgapstg/scratch/UKBiobank/genotype_files/ukb39554_imputeddataset/ukb32285_imputedindiv.sample\n",
    "sumstatsFiles=`echo /home/dc2325/scratch60/plink-clumping/*.sumstats.gz`\n",
    "unrelated_samples=/SAY/dbgapstg/scratch/UKBiobank/genotype_files/pleiotropy_geneticfiles/unrelated_n307259/UKB_unrelatedcauc_phenotypes_asthmat2dbmiwaisthip_agesex_waisthipratio_040620\n",
    "ld_sample_size=1210\n",
    "clump_field=P\n",
    "clump_p1=5e-08\n",
    "clump_p2=1\n",
    "clump_r2=0.2\n",
    "clump_kb=2000\n",
    "clump_annotate=BP\n",
    "numThreads=20\n",
    "job_size=1\n",
    "\n",
    "#Running the LDclumping workflow for INT-BMI trait\n",
    "\n",
    "sos run ~/project/UKBB_GWAS_DEV/workflow/LD_Clumping.ipynb default \\\n",
    "    --cwd $cwd \\\n",
    "    --bfile $bfile \\\n",
    "    --bgenFile $bgenFile \\\n",
    "    --sampleFile $sampleFile \\\n",
    "    --sumstatsFile $sumstatsFile \\\n",
    "    --unrelated_samples $unrelated_samples \\\n",
    "    --ld_sample_size $ld_sample_size \\\n",
    "    --clump_field $clump_field\\\n",
    "    --clump_p1 $clump_p1 \\\n",
    "    --clump_p2 $clump_p2 \\\n",
    "    --clump_r2 $clump_r2 \\\n",
    "    --clump_kb $clump_kb \\\n",
    "    --clump_annotate $clump_annotate \\\n",
    "    --numThreads $numThreads \\\n",
    "    --job_size $job_size \\\n",
    "    -c ~/project/UKBB_GWAS_DEV/farnam.yml -q farnam -J 40 \\\n",
    "    -s build &> 062420-sos-INT-BMI_asthma-ldclumping.log"
   ]
  }
 ],
 "metadata": {
  "kernelspec": {
   "display_name": "SoS",
   "language": "sos",
   "name": "sos"
  },
  "language_info": {
   "codemirror_mode": "sos",
   "file_extension": ".sos",
   "mimetype": "text/x-sos",
   "name": "sos",
   "nbconvert_exporter": "sos_notebook.converter.SoS_Exporter",
   "pygments_lexer": "sos"
  },
  "sos": {
   "kernels": [
    [
     "SoS",
     "sos",
     "",
     ""
    ]
   ],
   "version": "0.21.7"
  }
 },
 "nbformat": 4,
 "nbformat_minor": 4
}
