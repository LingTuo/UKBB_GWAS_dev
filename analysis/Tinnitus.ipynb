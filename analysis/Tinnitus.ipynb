{
 "cells": [
  {
   "cell_type": "markdown",
   "metadata": {
    "kernel": "SoS"
   },
   "source": [
    "# Tinnitus project"
   ]
  },
  {
   "cell_type": "markdown",
   "metadata": {
    "kernel": "SoS"
   },
   "source": [
    "## Aim\n",
    "\n",
    "Create a dataset of filtered individuals using the inclusion and exclusion criteria for tinnitus to perform association analyses. "
   ]
  },
  {
   "cell_type": "markdown",
   "metadata": {
    "kernel": "SoS"
   },
   "source": [
    "## Location of files\n",
    "\n",
    "In the shared folder is the original UKBB data\n",
    "```\n",
    "/SAY/dbgapstg/scratch/UKBiobank/phenotype_files/pleiotropy_R01/ukb42495_updatedJune2020\n",
    "```\n",
    "\n",
    "In my personal folder the filtered dataset\n",
    "\n",
    "```\n",
    "/home/dc2325/project/tinnitus\n",
    "```"
   ]
  },
  {
   "cell_type": "markdown",
   "metadata": {
    "kernel": "Bash"
   },
   "source": [
    "## Subset the data using variables of interest\n",
    "\n",
    "Using the ukbconvert software and a list of pre-specified variables\n",
    "\n",
    "```\n",
    "./ukbconv ukb42495.enc_ukb r -i/home/dc2325/project/tinnitus/selectvars_062520.txt -o/home/dc2325/project/tinnitus/ukb42495_subset062520\n",
    "```"
   ]
  },
  {
   "cell_type": "code",
   "execution_count": null,
   "metadata": {
    "kernel": "R"
   },
   "outputs": [],
   "source": [
    "# Analysis of the tinnitus data\n",
    "getwd()\n",
    "setwd('../TINNITUS_UKBB')\n",
    "# Clean workspace\n",
    "rm(list=ls())\n",
    "\n",
    "# Step 1 run script to import data to R\n",
    "Rscript ukb42495_subset062520.r\n",
    "nrow(bd)\n",
    "\n",
    "# Step 2 import as data.frame individuals that have a genotype using the already qc'ed genotypic files\n",
    "\n",
    "data.geno <- read.table(\"UKB_Caucasians_phenotypeindepqc120319_updated020720removedwithdrawnindiv.fam\", header= FALSE, stringsAsFactors = FALSE)\n",
    "names(data.geno) <-c(\"FID\",\"IID\",\"ignore1\", \"ignore2\", \"ignore3\", \"ignore4\")\n",
    "nrow(data.geno)\n",
    "\n",
    "# Step 3 assign individual ID column\n",
    "names(bd)[1] <- \"IID\"\n",
    "\n",
    "# Step 4 Merge the two data frames\n",
    "data.geno.pheno <-merge(data.geno, bd, by=\"IID\", all=FALSE)\n",
    "nrow(data.geno.pheno)\n",
    "\n",
    "# Step 5 Save as csv file\n",
    "write.csv(data.geno.pheno,'UKBB_071020_HI_genotypeqc.csv', row.names = FALSE)\n"
   ]
  },
  {
   "cell_type": "markdown",
   "metadata": {
    "kernel": "R"
   },
   "source": [
    "Apply the exclusion criteria defined by the group to remove unwanted individuals. This takes into account ICD10 codes, ICD9 codes and f.20002 (self-report)"
   ]
  },
  {
   "cell_type": "code",
   "execution_count": null,
   "metadata": {
    "kernel": "Bash"
   },
   "outputs": [],
   "source": [
    "# To get a list of removed individuals. Make sure teh list with the patterns each line ends in $\n",
    "grep -w -f 200713_ICDcodes_exclusion.txt UKBB_071020_HI_genotypeqc.csv > 200713_UKBB_excluded_individuals.csv\n",
    "cat 200713_UKBB_excluded_individuals.csv | wc -l\n",
    "# To get the clean db with the included individuals\n",
    "grep -wv -f 200713_ICDcodes_exclusion.txt UKBB_071020_HI_genotypeqc.csv > 200713_UKBB_genotypeqc_tinnitus_excr.csv\n",
    "cat 200713_UKBB_genotypeqc_clean.csv | wc -l\n",
    "# To obtain the duplicate lines (if they exist)\n",
    "comm -12 <(sort 200713_UKBB_genotypeqc_tinnitus_excr.csv) <(sort 200713_UKBB_excluded_individuals.csv)\n"
   ]
  },
  {
   "cell_type": "code",
   "execution_count": null,
   "metadata": {
    "kernel": "R"
   },
   "outputs": [],
   "source": [
    "# Import clean data\n",
    "df_clean = read.csv(file = \"200713_UKBB_genotypeqc_clean.csv\", header=TRUE)\n",
    "\n",
    "dim(df_clean)\n",
    "\n",
    "# Summarize the data on tinnitus phenotype for each of the instances\n",
    "\n",
    "summary(data.geno.pheno$f.4803.0.0)\n",
    "summary(data.geno.pheno$f.4803.1.0)\n",
    "summary(data.geno.pheno$f.4803.2.0)\n",
    "summary(data.geno.pheno$f.4803.3.0)\n",
    "\n",
    "# Recode the f.4308 for every instance Yes contains all three categories and No is No, never. Do not know and Prefer not to answer are kept as they are\n",
    "\n",
    "library(plyr)\n",
    "data_clean$f.4803.0.0_recode <- revalue(data_clean$f.4803.0.0, c(\"Yes, now most or all of the time\"=\"Yes\", \"Yes, now a lot of the time\"=\"Yes\", \"Yes, now some of the time\"=\"Yes\", \"Yes, but not now, but have in the past\"=\"Yes\",\"No, never\"=\"No\",\"Prefer not to answer\"=NA,\"Do not know\"=\"Do not know\"))\n",
    "data_clean$f.4803.1.0_recode <- revalue(data_clean$f.4803.1.0, c(\"Yes, now most or all of the time\"=\"Yes\", \"Yes, now a lot of the time\"=\"Yes\", \"Yes, now some of the time\"=\"Yes\", \"Yes, but not now, but have in the past\"=\"Yes\",\"No, never\"=\"No\",\"Prefer not to answer\"=NA,\"Do not know\"=\"Do not know\"))\n",
    "data_clean$f.4803.2.0_recode <- revalue(data_clean$f.4803.2.0, c(\"Yes, now most or all of the time\"=\"Yes\", \"Yes, now a lot of the time\"=\"Yes\", \"Yes, now some of the time\"=\"Yes\", \"Yes, but not now, but have in the past\"=\"Yes\",\"No, never\"=\"No\",\"Prefer not to answer\"=NA,\"Do not know\"=\"Do not know\"))\n",
    "data_clean$f.4803.3.0_recode <- revalue(data_clean$f.4803.3.0, c(\"Yes, now most or all of the time\"=\"Yes\", \"Yes, now a lot of the time\"=\"Yes\", \"Yes, now some of the time\"=\"Yes\", \"Yes, but not now, but have in the past\"=\"Yes\",\"No, never\"=\"No\",\"Prefer not to answer\"=NA,\"Do not know\"=\"Do not know\"))\n",
    "\n",
    "summary(data_clean$f.4803.0.0_recode)\n",
    "summary(data_clean$f.4803.1.0_recode)\n",
    "summary(data_clean$f.4803.2.0_recode)\n",
    "summary(data_clean$f.4803.3.0_recode) \n",
    "\n",
    "#Filtering based on different instances for tinnitus phenotype\n",
    "\n",
    "data_clean$cases <- with(data_clean, ifelse(f.4803.0.0_recode == \"No\" & (f.4803.1.0_recode == \"Yes\" | f.4803.2.0_recode == \"Yes\" | f.4803.3.0_recode == \"Yes\")\n",
    "                                                      & !(f.4803.0.0_recode == \"No\" & f.4803.1.0_recode == \"Yes\" & f.4803.2.0_recode  %in% c(\"No\", \"Do not know\") & f.4803.3.0_recode %in% c(\"No\", \"Do not know\",NA)) \n",
    "                                                      & !(f.4803.0.0_recode == \"No\" & f.4803.1.0_recode %in% c(\"No\", \"Do not know\") & f.4803.2.0_recode == \"Yes\" & f.4803.3.0_recode %in% c(\"No\", \"Do not know\"))\n",
    "                                                      & !(f.4803.0.0_recode == \"No\" & f.4803.1.0_recode == \"Yes\" & f.4803.2.0_recode == \"Yes\" & f.4803.3.0_recode %in% c(\"No\", \"Do not know\"))\n",
    "                                                      | (f.4803.0.0_recode %in% c(\"Yes\",NA) & (f.4803.1.0_recode %in% c(\"Yes\",NA) | f.4803.2.0_recode %in% c(\"Yes\",NA) | f.4803.3.0_recode %in% c(\"Yes\",NA))\n",
    "                                                         & !(f.4803.0.0_recode %in% c(\"Yes\",NA) & (f.4803.1.0_recode %in% c(\"No\", \"Do not know\") | f.4803.2.0_recode %in% c(\"No\", \"Do not know\") | f.4803.3.0_recode %in% c(\"No\", \"Do not know\")))\n",
    "                                                         & !(f.4803.0.0_recode %in% c(NA) & f.4803.1.0_recode %in% c(NA) & f.4803.2.0_recode %in% c(NA) & f.4803.3.0_recode %in% c(NA))),\n",
    "                                                      \"Yes\", NA))\n",
    "# Number of cases\n",
    "table(data_clean$cases)\n",
    "\n",
    "data_clean$controls <- with(data_clean, ifelse(f.4803.0.0_recode %in% c(\"No\",NA) & f.4803.1.0_recode %in% c(\"No\", NA) & f.4803.2.0_recode %in% c(\"No\",NA) & f.4803.3.0_recode %in% c(\"No\",NA)\n",
    "                                                         & !(f.4803.0.0_recode %in% c(NA) & f.4803.1.0_recode %in% c(NA) & f.4803.2.0_recode %in% c(NA) & f.4803.3.0_recode %in% c(NA)),\"No\", NA))\n",
    "\n",
    "# Number of controls\n",
    "table(data_clean$controls)\n",
    "\n",
    "# Creates a column with the binary status for tinnitus of the individuals\n",
    "\n",
    "data_clean$tinnitus <- coalesce(data_clean$cases, data_clean$controls)\n",
    "\n",
    "table(data_clean$tinnitus)\n",
    "\n",
    "# Get the number of NAs\n",
    "length(which(is.na(data_clean$tinnitus)))\n",
    "\n",
    "                                 \n",
    "# Get the \"age at onset\" using f.21003 Age when attended assessment centre for each of the instances\n",
    "# For cases first time they replied yes to f.4803\n",
    "# Get the subset of data to extract age\n",
    "\n",
    "age_all = data_clean %>% \n",
    "  filter(!is.na(tinnitus)) %>%\n",
    "  select(IID,tinnitus, f.4803.0.0_recode, f.4803.1.0_recode, f.4803.2.0_recode, f.4803.3.0_recode, f.21003.0.0, f.21003.1.0, f.21003.2.0, f.21003.3.0)  # data_filed 210003: Age when attended assessment centre\n",
    "head(age_all)\n",
    "\n",
    "library(pander)\n",
    "res<-head(age_all)\n",
    "pandoc.table(res)\n",
    "\n",
    "# Get the subset data of cases\n",
    "age_cases = age_all %>% \n",
    "  filter(tinnitus==\"Yes\")  %>%\n",
    "  select(IID,f.4803.0.0_recode,f.4803.1.0_recode,f.4803.2.0_recode,f.4803.3.0_recode,f.21003.0.0,f.21003.1.0,f.21003.2.0,f.21003.3.0)\n",
    "res<-head(age_cases,12)\n",
    "pandoc.table(res)\n",
    "\n",
    "# Get the # of column where first replied Yes:\n",
    "age_cases$visit_idx = apply(age_cases, 1, function(x) unlist(which(x == 'Yes')))\n",
    "\n",
    "# Define offset:\n",
    "# offset: refers to the # of columns between the first age column (i.e.f.21003.0.0) and the first recode column (i.e.f.4803.0.0_recode)\n",
    "offset = which(colnames(age_cases) == 'f.21003.0.0') - which(colnames(age_cases) == 'f.4803.0.0_recode')\n",
    "\n",
    "# Define the function to extract the first time they said yes for cases \n",
    "f=get_age_func <- function(x) {\n",
    "  visit_index=x[which(colnames(age_cases)==\"visit_idx\")]\n",
    "  index=min(unlist(visit_index))+offset\n",
    "  age=x[index]\n",
    "  final_age=unlist(age)\n",
    "  if(is.null(final_age))\n",
    "  {final_age<-NA}\n",
    "  return(final_age)\n",
    "}\n",
    "\n",
    "# Get the final age\n",
    "age_cases$age_final = apply(age_cases, 1, f)\n",
    "\n",
    "# Show first 6 rows\n",
    "res<-head(age_cases)\n",
    "pandoc.table(res)\n",
    "summary(age_cases$age_final)\n",
    "\n",
    "# Get the subset data of controls\n",
    "age_control = age_all %>% \n",
    "  filter(tinnitus==\"No\")  %>%\n",
    "  select(IID,f.4803.0.0_recode,f.4803.1.0_recode,f.4803.2.0_recode,f.4803.3.0_recode,f.21003.0.0,f.21003.1.0,f.21003.2.0,f.21003.3.0)\n",
    "res<-head(age_control,12)\n",
    "pandoc.table(res)\n",
    "\n",
    "# Get the # of column where last replied No:\n",
    "age_control$visit_idx = apply(age_control, 1, function(x) unlist(which(x == 'No')))\n",
    "\n",
    "# Define offset:\n",
    "# offset: refers to the # of columns between the first age column (i.e.f.21003.0.0) and the first recode column (i.e.f.4803.0.0_recode)\n",
    "offset = which(colnames(age_control) == 'f.21003.0.0') - which(colnames(age_control) == 'f.4803.0.0_recode')\n",
    "\n",
    "# Define the function to extract the last time they said no for control\n",
    "\n",
    "f=get_age_func <- function(x) {\n",
    "  visit_index=x[which(colnames(age_control)==\"visit_idx\")]\n",
    "  index=max(unlist(visit_index))+offset\n",
    "  age=x[index]\n",
    "  age=unlist(age)\n",
    "  return(age)\n",
    "}\n",
    "\n",
    "# Get the final age\n",
    "age_control$age_final = apply(age_control, 1, f)\n",
    "\n",
    "# Show first 6 rows\n",
    "res<-head(age_control)\n",
    "pandoc.table(res)\n",
    "summary(age_control$age_final)\n",
    "\n",
    "# Merge age_cases and age_controls\n",
    "age_tinnitus <- rbind(age_cases, age_control) \n",
    "dim(age_tinnitus)\n",
    "\n",
    "#Merge with complete database\n",
    "data_clean_age = merge(data_clean,age_tinnitus,by=\"IID\")\n"
   ]
  },
  {
   "cell_type": "code",
   "execution_count": null,
   "metadata": {
    "kernel": "Bash"
   },
   "outputs": [],
   "source": [
    "# Get the number of the column\n",
    "\n",
    "WORD=\"f.4803.0.0\"; head -n1 ukb42495.tab | tr \"\\t\" \"\\n\" | grep -n $WORD\n"
   ]
  }
 ],
 "metadata": {
  "kernelspec": {
   "display_name": "SoS",
   "language": "sos",
   "name": "sos"
  },
  "language_info": {
   "codemirror_mode": "sos",
   "file_extension": ".sos",
   "mimetype": "text/x-sos",
   "name": "sos",
   "nbconvert_exporter": "sos_notebook.converter.SoS_Exporter",
   "pygments_lexer": "sos"
  },
  "sos": {
   "kernels": [
    [
     "Bash",
     "bash",
     "Bash",
     "#E6EEFF",
     ""
    ],
    [
     "R",
     "ir",
     "R",
     "#DCDCDA",
     ""
    ]
   ],
   "version": "0.21.12"
  }
 },
 "nbformat": 4,
 "nbformat_minor": 4
}
