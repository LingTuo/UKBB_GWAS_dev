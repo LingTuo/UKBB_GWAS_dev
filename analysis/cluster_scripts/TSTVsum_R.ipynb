{
 "cells": [
  {
   "cell_type": "code",
   "execution_count": 84,
   "id": "d9b46fd4-0dfd-4dd6-a47a-30616a620881",
   "metadata": {},
   "outputs": [],
   "source": [
    "tstv<-read.table(\"~/working/project_VCF/tstv/ukb23156_tstv.txt\")"
   ]
  },
  {
   "cell_type": "code",
   "execution_count": 85,
   "id": "c9bb8fbf-6910-4f4a-aa7c-9cde14cd5c56",
   "metadata": {},
   "outputs": [
    {
     "data": {
      "text/html": [
       "<table class=\"dataframe\">\n",
       "<caption>A data.frame: 6 × 2</caption>\n",
       "<thead>\n",
       "\t<tr><th></th><th scope=col>V1</th><th scope=col>V2</th></tr>\n",
       "\t<tr><th></th><th scope=col>&lt;chr&gt;</th><th scope=col>&lt;dbl&gt;</th></tr>\n",
       "</thead>\n",
       "<tbody>\n",
       "\t<tr><th scope=row>1</th><td>ukb23156_c10_b0_v1.leftnorm.filtered.stats_bcftools      </td><td>2.10</td></tr>\n",
       "\t<tr><th scope=row>2</th><td>ukb23156_c10_b0_v1.leftnorm.filtered.stats_bcftools.known</td><td>2.23</td></tr>\n",
       "\t<tr><th scope=row>3</th><td>ukb23156_c10_b0_v1.leftnorm.filtered.stats_bcftools.novel</td><td>1.83</td></tr>\n",
       "\t<tr><th scope=row>4</th><td>ukb23156_c10_b0_v1.leftnorm.filtered.tstv                </td><td>2.10</td></tr>\n",
       "\t<tr><th scope=row>5</th><td>ukb23156_c10_b0_v1.leftnorm.stats_bcftools.known         </td><td>2.22</td></tr>\n",
       "\t<tr><th scope=row>6</th><td>ukb23156_c10_b0_v1.leftnorm.stats_bcftools.maf           </td><td>2.10</td></tr>\n",
       "</tbody>\n",
       "</table>\n"
      ],
      "text/latex": [
       "A data.frame: 6 × 2\n",
       "\\begin{tabular}{r|ll}\n",
       "  & V1 & V2\\\\\n",
       "  & <chr> & <dbl>\\\\\n",
       "\\hline\n",
       "\t1 & ukb23156\\_c10\\_b0\\_v1.leftnorm.filtered.stats\\_bcftools       & 2.10\\\\\n",
       "\t2 & ukb23156\\_c10\\_b0\\_v1.leftnorm.filtered.stats\\_bcftools.known & 2.23\\\\\n",
       "\t3 & ukb23156\\_c10\\_b0\\_v1.leftnorm.filtered.stats\\_bcftools.novel & 1.83\\\\\n",
       "\t4 & ukb23156\\_c10\\_b0\\_v1.leftnorm.filtered.tstv                 & 2.10\\\\\n",
       "\t5 & ukb23156\\_c10\\_b0\\_v1.leftnorm.stats\\_bcftools.known          & 2.22\\\\\n",
       "\t6 & ukb23156\\_c10\\_b0\\_v1.leftnorm.stats\\_bcftools.maf            & 2.10\\\\\n",
       "\\end{tabular}\n"
      ],
      "text/markdown": [
       "\n",
       "A data.frame: 6 × 2\n",
       "\n",
       "| <!--/--> | V1 &lt;chr&gt; | V2 &lt;dbl&gt; |\n",
       "|---|---|---|\n",
       "| 1 | ukb23156_c10_b0_v1.leftnorm.filtered.stats_bcftools       | 2.10 |\n",
       "| 2 | ukb23156_c10_b0_v1.leftnorm.filtered.stats_bcftools.known | 2.23 |\n",
       "| 3 | ukb23156_c10_b0_v1.leftnorm.filtered.stats_bcftools.novel | 1.83 |\n",
       "| 4 | ukb23156_c10_b0_v1.leftnorm.filtered.tstv                 | 2.10 |\n",
       "| 5 | ukb23156_c10_b0_v1.leftnorm.stats_bcftools.known          | 2.22 |\n",
       "| 6 | ukb23156_c10_b0_v1.leftnorm.stats_bcftools.maf            | 2.10 |\n",
       "\n"
      ],
      "text/plain": [
       "  V1                                                        V2  \n",
       "1 ukb23156_c10_b0_v1.leftnorm.filtered.stats_bcftools       2.10\n",
       "2 ukb23156_c10_b0_v1.leftnorm.filtered.stats_bcftools.known 2.23\n",
       "3 ukb23156_c10_b0_v1.leftnorm.filtered.stats_bcftools.novel 1.83\n",
       "4 ukb23156_c10_b0_v1.leftnorm.filtered.tstv                 2.10\n",
       "5 ukb23156_c10_b0_v1.leftnorm.stats_bcftools.known          2.22\n",
       "6 ukb23156_c10_b0_v1.leftnorm.stats_bcftools.maf            2.10"
      ]
     },
     "metadata": {},
     "output_type": "display_data"
    }
   ],
   "source": [
    "head(tstv)"
   ]
  },
  {
   "cell_type": "code",
   "execution_count": 86,
   "id": "9400d49c-b613-4e6d-b1e5-6cfd231966c4",
   "metadata": {},
   "outputs": [],
   "source": [
    "chrlist<-strsplit(tstv[1:5,1],\"_\")"
   ]
  },
  {
   "cell_type": "code",
   "execution_count": 87,
   "id": "326d92f1-56de-4f46-a1fd-90d9fe33f458",
   "metadata": {},
   "outputs": [],
   "source": [
    "chr<-blo<-c()\n",
    "for (i in 1:length(chrlist)){\n",
    "    chr<-cbind(chr,chrlist[[i]][2])\n",
    "    blo<-cbind(blo,chrlist[[i]][3])\n",
    "}"
   ]
  },
  {
   "cell_type": "code",
   "execution_count": 88,
   "id": "a2a400ae-8b22-41cc-aecb-d4c02e410bd6",
   "metadata": {},
   "outputs": [],
   "source": [
    "data<-as.data.frame(cbind(t(chr),t(blo)))\n",
    "colnames(data)<-c(\"Chr\",\"Block\")"
   ]
  },
  {
   "cell_type": "code",
   "execution_count": 24,
   "id": "49d38918-7f7c-4d3f-8759-d3f2ebd522fb",
   "metadata": {},
   "outputs": [
    {
     "data": {
      "text/html": [
       "<table class=\"dataframe\">\n",
       "<caption>A data.frame: 5 × 2</caption>\n",
       "<thead>\n",
       "\t<tr><th scope=col>Chr</th><th scope=col>Block</th></tr>\n",
       "\t<tr><th scope=col>&lt;chr&gt;</th><th scope=col>&lt;chr&gt;</th></tr>\n",
       "</thead>\n",
       "<tbody>\n",
       "\t<tr><td>c10</td><td>b0</td></tr>\n",
       "\t<tr><td>c10</td><td>b0</td></tr>\n",
       "\t<tr><td>c10</td><td>b0</td></tr>\n",
       "\t<tr><td>c10</td><td>b0</td></tr>\n",
       "\t<tr><td>c10</td><td>b0</td></tr>\n",
       "</tbody>\n",
       "</table>\n"
      ],
      "text/latex": [
       "A data.frame: 5 × 2\n",
       "\\begin{tabular}{ll}\n",
       " Chr & Block\\\\\n",
       " <chr> & <chr>\\\\\n",
       "\\hline\n",
       "\t c10 & b0\\\\\n",
       "\t c10 & b0\\\\\n",
       "\t c10 & b0\\\\\n",
       "\t c10 & b0\\\\\n",
       "\t c10 & b0\\\\\n",
       "\\end{tabular}\n"
      ],
      "text/markdown": [
       "\n",
       "A data.frame: 5 × 2\n",
       "\n",
       "| Chr &lt;chr&gt; | Block &lt;chr&gt; |\n",
       "|---|---|\n",
       "| c10 | b0 |\n",
       "| c10 | b0 |\n",
       "| c10 | b0 |\n",
       "| c10 | b0 |\n",
       "| c10 | b0 |\n",
       "\n"
      ],
      "text/plain": [
       "  Chr Block\n",
       "1 c10 b0   \n",
       "2 c10 b0   \n",
       "3 c10 b0   \n",
       "4 c10 b0   \n",
       "5 c10 b0   "
      ]
     },
     "metadata": {},
     "output_type": "display_data"
    }
   ],
   "source": [
    "data"
   ]
  },
  {
   "cell_type": "code",
   "execution_count": 89,
   "id": "f7b26dad-9624-43c1-8742-d79ec2f2648a",
   "metadata": {},
   "outputs": [],
   "source": [
    "chrlist<-strsplit(tstv[,1],\"_\")\n",
    "chr<-blo<-file<-c()\n",
    "for (i in 1:length(chrlist)){\n",
    "    chr<-cbind(chr,chrlist[[i]][2])\n",
    "    blo<-cbind(blo,chrlist[[i]][3])\n",
    "    file<-cbind(file,paste0(chrlist[[i]][4],\"_\",chrlist[[i]][5]))\n",
    "}\n",
    "data<-as.data.frame(cbind(t(chr),t(blo),t(file)))\n",
    "colnames(data)<-c(\"Chr\",\"Block\",\"File\")"
   ]
  },
  {
   "cell_type": "code",
   "execution_count": 90,
   "id": "433001f0-76f6-41a8-a4ba-24b132d3646f",
   "metadata": {},
   "outputs": [],
   "source": [
    "data$TSTV<-tstv[,2]"
   ]
  },
  {
   "cell_type": "code",
   "execution_count": 40,
   "id": "d9b02ceb-9402-41e6-8150-e0629ab12fe7",
   "metadata": {},
   "outputs": [
    {
     "data": {
      "text/html": [
       "<table class=\"dataframe\">\n",
       "<caption>A data.frame: 6 × 4</caption>\n",
       "<thead>\n",
       "\t<tr><th></th><th scope=col>Chr</th><th scope=col>Block</th><th scope=col>File</th><th scope=col>TSTV</th></tr>\n",
       "\t<tr><th></th><th scope=col>&lt;chr&gt;</th><th scope=col>&lt;chr&gt;</th><th scope=col>&lt;chr&gt;</th><th scope=col>&lt;dbl&gt;</th></tr>\n",
       "</thead>\n",
       "<tbody>\n",
       "\t<tr><th scope=row>1</th><td>c10</td><td>b0</td><td>v1.leftnorm.filtered.stats_bcftools      </td><td>2.10</td></tr>\n",
       "\t<tr><th scope=row>2</th><td>c10</td><td>b0</td><td>v1.leftnorm.filtered.stats_bcftools.known</td><td>2.23</td></tr>\n",
       "\t<tr><th scope=row>3</th><td>c10</td><td>b0</td><td>v1.leftnorm.filtered.stats_bcftools.novel</td><td>1.83</td></tr>\n",
       "\t<tr><th scope=row>4</th><td>c10</td><td>b0</td><td>v1.leftnorm.filtered.tstv_NA             </td><td>2.10</td></tr>\n",
       "\t<tr><th scope=row>5</th><td>c10</td><td>b0</td><td>v1.leftnorm.stats_bcftools.known         </td><td>2.22</td></tr>\n",
       "\t<tr><th scope=row>6</th><td>c10</td><td>b0</td><td>v1.leftnorm.stats_bcftools.maf           </td><td>2.10</td></tr>\n",
       "</tbody>\n",
       "</table>\n"
      ],
      "text/latex": [
       "A data.frame: 6 × 4\n",
       "\\begin{tabular}{r|llll}\n",
       "  & Chr & Block & File & TSTV\\\\\n",
       "  & <chr> & <chr> & <chr> & <dbl>\\\\\n",
       "\\hline\n",
       "\t1 & c10 & b0 & v1.leftnorm.filtered.stats\\_bcftools       & 2.10\\\\\n",
       "\t2 & c10 & b0 & v1.leftnorm.filtered.stats\\_bcftools.known & 2.23\\\\\n",
       "\t3 & c10 & b0 & v1.leftnorm.filtered.stats\\_bcftools.novel & 1.83\\\\\n",
       "\t4 & c10 & b0 & v1.leftnorm.filtered.tstv\\_NA              & 2.10\\\\\n",
       "\t5 & c10 & b0 & v1.leftnorm.stats\\_bcftools.known          & 2.22\\\\\n",
       "\t6 & c10 & b0 & v1.leftnorm.stats\\_bcftools.maf            & 2.10\\\\\n",
       "\\end{tabular}\n"
      ],
      "text/markdown": [
       "\n",
       "A data.frame: 6 × 4\n",
       "\n",
       "| <!--/--> | Chr &lt;chr&gt; | Block &lt;chr&gt; | File &lt;chr&gt; | TSTV &lt;dbl&gt; |\n",
       "|---|---|---|---|---|\n",
       "| 1 | c10 | b0 | v1.leftnorm.filtered.stats_bcftools       | 2.10 |\n",
       "| 2 | c10 | b0 | v1.leftnorm.filtered.stats_bcftools.known | 2.23 |\n",
       "| 3 | c10 | b0 | v1.leftnorm.filtered.stats_bcftools.novel | 1.83 |\n",
       "| 4 | c10 | b0 | v1.leftnorm.filtered.tstv_NA              | 2.10 |\n",
       "| 5 | c10 | b0 | v1.leftnorm.stats_bcftools.known          | 2.22 |\n",
       "| 6 | c10 | b0 | v1.leftnorm.stats_bcftools.maf            | 2.10 |\n",
       "\n"
      ],
      "text/plain": [
       "  Chr Block File                                      TSTV\n",
       "1 c10 b0    v1.leftnorm.filtered.stats_bcftools       2.10\n",
       "2 c10 b0    v1.leftnorm.filtered.stats_bcftools.known 2.23\n",
       "3 c10 b0    v1.leftnorm.filtered.stats_bcftools.novel 1.83\n",
       "4 c10 b0    v1.leftnorm.filtered.tstv_NA              2.10\n",
       "5 c10 b0    v1.leftnorm.stats_bcftools.known          2.22\n",
       "6 c10 b0    v1.leftnorm.stats_bcftools.maf            2.10"
      ]
     },
     "metadata": {},
     "output_type": "display_data"
    }
   ],
   "source": [
    "head(data)"
   ]
  },
  {
   "cell_type": "code",
   "execution_count": 91,
   "id": "9e08341c-9462-4104-96ee-ee0d22edb8ad",
   "metadata": {},
   "outputs": [
    {
     "data": {
      "text/plain": [
       "\n",
       "  1  10  11  12  13  14  15  16  17  18  19   2  20  21  22   3   4   5   6   7 \n",
       "873 360 513 468 162 270 306 423 504 144 585 639 225  99 207 504 351 387 432 423 \n",
       "  8   9   X   Y \n",
       "315 378 216   9 "
      ]
     },
     "metadata": {},
     "output_type": "display_data"
    }
   ],
   "source": [
    "data[,1]<-gsub(\"c\", \"\", data[,1])\n",
    "table(data[,1])"
   ]
  },
  {
   "cell_type": "code",
   "execution_count": 92,
   "id": "c319b36c-a8e3-4ee3-b9d0-ccda6c49222a",
   "metadata": {},
   "outputs": [
    {
     "data": {
      "text/plain": [
       "\n",
       "      v1.leftnorm.filtered.stats_bcftools \n",
       "                                      977 \n",
       "v1.leftnorm.filtered.stats_bcftools.known \n",
       "                                      977 \n",
       "v1.leftnorm.filtered.stats_bcftools.novel \n",
       "                                      977 \n",
       "             v1.leftnorm.filtered.tstv_NA \n",
       "                                      977 \n",
       "         v1.leftnorm.stats_bcftools.known \n",
       "                                      977 \n",
       "           v1.leftnorm.stats_bcftools.maf \n",
       "                                      977 \n",
       "         v1.leftnorm.stats_bcftools.novel \n",
       "                                      977 \n",
       "                        v1.stats_bcftools \n",
       "                                      977 \n",
       "                    v1.unfiltered.tstv_NA \n",
       "                                      977 "
      ]
     },
     "metadata": {},
     "output_type": "display_data"
    }
   ],
   "source": [
    "table(data[,3])"
   ]
  },
  {
   "cell_type": "code",
   "execution_count": 44,
   "id": "487ba7f8-6753-42c1-bd72-884517d9ad95",
   "metadata": {},
   "outputs": [],
   "source": [
    "Avetstv<-matrix(nrow=9,ncol=24)\n",
    "colnames(Avetstv)<-names(table(data[,1]))\n",
    "rownames(Avetstv)<-names(table(data[,3]))\n",
    "for (i in names(table(data[,3]))){\n",
    "    for (j in names(table(data[,1]))){\n",
    "        Avetstv[i,j]<-mean(data[(data$Chr==j)&(data$File==i),\"TSTV\"])\n",
    "    }\n",
    "}\n",
    "colnames(Avetstv)<-names(table(data[,1]))"
   ]
  },
  {
   "cell_type": "code",
   "execution_count": 95,
   "id": "1c2b6f28-723d-4740-b5f7-fd25ccf4b5c8",
   "metadata": {},
   "outputs": [
    {
     "data": {
      "image/png": "[encoded data removed]",
      "text/plain": [
       "plot without title"
      ]
     },
     "metadata": {
      "image/png": {
       "height": 420,
       "width": 420
      }
     },
     "output_type": "display_data"
    }
   ],
   "source": [
    "library(ggplot2)\n",
    "order<-c(\n",
    "\"1\", \"2\", \"3\", \"4\", \"5\", \"6\", \"7\", \"8\", \"9\", \"10\", \"11\", \"12\", \"13\", \"14\", \"15\", \"16\", \"17\", \"18\", \"19\", \"20\", \"21\", \"22\",\"X\",\"Y\")\n",
    "data$Chr<-factor(data$Chr,levels=order)\n",
    "p <- ggplot(data[data$File==\"v1.unfiltered.tstv_NA\",], aes(x=Chr, y=TSTV)) +  \n",
    "    geom_boxplot()+\n",
    "    xlab(\"Chromosome\")+\n",
    "    ylab(\"Average TsTv Ratio\")+\n",
    "    theme(text = element_text(size=14), axis.text=element_text(size=12,face = \"bold\"))\n",
    "p"
   ]
  },
  {
   "cell_type": "code",
   "execution_count": 100,
   "id": "2cbe8559-5017-432c-a4ec-1d05e2c61c22",
   "metadata": {},
   "outputs": [
    {
     "data": {
      "text/html": [
       "<strong>png:</strong> 2"
      ],
      "text/latex": [
       "\\textbf{png:} 2"
      ],
      "text/markdown": [
       "**png:** 2"
      ],
      "text/plain": [
       "png \n",
       "  2 "
      ]
     },
     "metadata": {},
     "output_type": "display_data"
    },
    {
     "data": {
      "text/html": [
       "<strong>png:</strong> 2"
      ],
      "text/latex": [
       "\\textbf{png:} 2"
      ],
      "text/markdown": [
       "**png:** 2"
      ],
      "text/plain": [
       "png \n",
       "  2 "
      ]
     },
     "metadata": {},
     "output_type": "display_data"
    },
    {
     "data": {
      "text/html": [
       "<strong>png:</strong> 2"
      ],
      "text/latex": [
       "\\textbf{png:} 2"
      ],
      "text/markdown": [
       "**png:** 2"
      ],
      "text/plain": [
       "png \n",
       "  2 "
      ]
     },
     "metadata": {},
     "output_type": "display_data"
    },
    {
     "data": {
      "text/html": [
       "<strong>png:</strong> 2"
      ],
      "text/latex": [
       "\\textbf{png:} 2"
      ],
      "text/markdown": [
       "**png:** 2"
      ],
      "text/plain": [
       "png \n",
       "  2 "
      ]
     },
     "metadata": {},
     "output_type": "display_data"
    },
    {
     "data": {
      "text/html": [
       "<strong>png:</strong> 2"
      ],
      "text/latex": [
       "\\textbf{png:} 2"
      ],
      "text/markdown": [
       "**png:** 2"
      ],
      "text/plain": [
       "png \n",
       "  2 "
      ]
     },
     "metadata": {},
     "output_type": "display_data"
    },
    {
     "data": {
      "text/html": [
       "<strong>png:</strong> 2"
      ],
      "text/latex": [
       "\\textbf{png:} 2"
      ],
      "text/markdown": [
       "**png:** 2"
      ],
      "text/plain": [
       "png \n",
       "  2 "
      ]
     },
     "metadata": {},
     "output_type": "display_data"
    },
    {
     "data": {
      "text/html": [
       "<strong>png:</strong> 2"
      ],
      "text/latex": [
       "\\textbf{png:} 2"
      ],
      "text/markdown": [
       "**png:** 2"
      ],
      "text/plain": [
       "png \n",
       "  2 "
      ]
     },
     "metadata": {},
     "output_type": "display_data"
    },
    {
     "data": {
      "text/html": [
       "<strong>png:</strong> 2"
      ],
      "text/latex": [
       "\\textbf{png:} 2"
      ],
      "text/markdown": [
       "**png:** 2"
      ],
      "text/plain": [
       "png \n",
       "  2 "
      ]
     },
     "metadata": {},
     "output_type": "display_data"
    },
    {
     "data": {
      "text/html": [
       "<strong>png:</strong> 2"
      ],
      "text/latex": [
       "\\textbf{png:} 2"
      ],
      "text/markdown": [
       "**png:** 2"
      ],
      "text/plain": [
       "png \n",
       "  2 "
      ]
     },
     "metadata": {},
     "output_type": "display_data"
    }
   ],
   "source": [
    "png(\"~/working/project_VCF/tstv/ukb23156.leftnorm.filtered.ave_block.tstv.boxplot.png\",width = 1000, height = 1000)\n",
    "ggplot(data[data$File==\"v1.leftnorm.filtered.stats_bcftools\",], aes(x=Chr, y=TSTV)) +  \n",
    "    geom_boxplot()+\n",
    "    xlab(\"Chromosome\")+\n",
    "    ylab(\"Average TsTv Ratio\")+\n",
    "    ggtitle(\"Average TsTv Ratio of leftnorm filtered SNPs by bcftools\")+\n",
    "    theme(text = element_text(size=20))\n",
    "dev.off()\n",
    "png(\"~/working/project_VCF/tstv/ukb23156.leftnorm.filtered.known.ave_block.tstv.boxplot.png\",width = 1000, height = 1000)\n",
    "ggplot(data[data$File==\"v1.leftnorm.filtered.stats_bcftools.known\",], aes(x=Chr, y=TSTV)) +  \n",
    "    geom_boxplot()+\n",
    "    xlab(\"Chromosome\")+\n",
    "    ylab(\"Average TsTv Ratio\")+\n",
    "    ggtitle(\"Average TsTv Ratio of leftnorm filtered known SNPs by bcftools\")+\n",
    "    theme(text = element_text(size=20))\n",
    "dev.off()\n",
    "png(\"~/working/project_VCF/tstv/ukb23156.leftnorm.filtered.novel.ave_block.tstv.boxplot.png\",width = 1000, height = 1000)\n",
    "ggplot(data[data$File==\"v1.leftnorm.filtered.stats_bcftools.novel\",], aes(x=Chr, y=TSTV)) +  \n",
    "    geom_boxplot()+\n",
    "    xlab(\"Chromosome\")+\n",
    "    ylab(\"Average TsTv Ratio\")+\n",
    "    ggtitle(\"Average TsTv Ratio of leftnorm filtered novel SNPs by bcftools\")+\n",
    "    theme(text = element_text(size=20))\n",
    "dev.off()\n",
    "png(\"~/working/project_VCF/tstv/ukb23156.leftnorm.filtered2.ave_block.tstv.boxplot.png\",width = 1000, height = 1000)\n",
    "ggplot(data[data$File==\"v1.leftnorm.filtered.tstv_NA\",], aes(x=Chr, y=TSTV)) +  \n",
    "    geom_boxplot()+\n",
    "    xlab(\"Chromosome\")+\n",
    "    ylab(\"Average TsTv Ratio\")+\n",
    "    ggtitle(\"Average TsTv Ratio of leftnorm filtered SNPs by bcftools\")+\n",
    "    theme(text = element_text(size=20))\n",
    "dev.off()\n",
    "png(\"~/working/project_VCF/tstv/ukb23156.leftnorm.ave_block.tstv.boxplot.png\",width = 1000, height = 1000)\n",
    "ggplot(data[data$File==\"v1.leftnorm.stats_bcftools.maf\",], aes(x=Chr, y=TSTV)) +  \n",
    "    geom_boxplot()+\n",
    "    xlab(\"Chromosome\")+\n",
    "    ylab(\"Average TsTv Ratio\")+\n",
    "    ggtitle(\"Average TsTv Ratio of leftnorm SNPs by bcftools\")+\n",
    "    theme(text = element_text(size=20))\n",
    "dev.off()\n",
    "png(\"~/working/project_VCF/tstv/ukb23156.leftnorm.known.ave_block.tstv.boxplot.png\",width = 1000, height = 1000)\n",
    "ggplot(data[data$File==\"v1.leftnorm.stats_bcftools.known\",], aes(x=Chr, y=TSTV)) +  \n",
    "    geom_boxplot()+\n",
    "    xlab(\"Chromosome\")+\n",
    "    ylab(\"Average TsTv Ratio\")+\n",
    "    ggtitle(\"Average TsTv Ratio of leftnorm known SNPs by bcftools\")+\n",
    "    theme(text = element_text(size=20))\n",
    "dev.off()\n",
    "png(\"~/working/project_VCF/tstv/ukb23156.leftnorm.novel.ave_block.tstv.boxplot.png\",width = 1000, height = 1000)\n",
    "ggplot(data[data$File==\"v1.leftnorm.stats_bcftools.novel\",], aes(x=Chr, y=TSTV)) +  \n",
    "    geom_boxplot()+\n",
    "    xlab(\"Chromosome\")+\n",
    "    ylab(\"Average TsTv Ratio\")+\n",
    "    ggtitle(\"Average TsTv Ratio of leftnorm novel SNPs by bcftools\")+\n",
    "    theme(text = element_text(size=20))\n",
    "dev.off()\n",
    "png(\"~/working/project_VCF/tstv/ukb23156.unfiltered.ave_block.tstv.boxplot.png\",width = 1000, height = 1000)\n",
    "ggplot(data[data$File==\"v1.stats_bcftools\",], aes(x=Chr, y=TSTV)) +  \n",
    "    geom_boxplot()+\n",
    "    xlab(\"Chromosome\")+\n",
    "    ylab(\"Average TsTv Ratio\")+\n",
    "    ggtitle(\"Average TsTv Ratio of unfiltered SNPs by bcftools\")+\n",
    "    theme(text = element_text(size=20))\n",
    "dev.off()\n",
    "png(\"~/working/project_VCF/tstv/ukb23156.unfiltered2.ave_block.tstv.boxplot.png\",width = 1000, height = 1000)\n",
    "ggplot(data[data$File==\"v1.unfiltered.tstv_NA\",], aes(x=Chr, y=TSTV)) +  \n",
    "    geom_boxplot()+\n",
    "    xlab(\"Chromosome\")+\n",
    "    ylab(\"Average TsTv Ratio\")+\n",
    "    ggtitle(\"Average TsTv Ratio of unfiltered SNPs by bcftools\")+\n",
    "    theme(text = element_text(size=20))\n",
    "dev.off()"
   ]
  },
  {
   "cell_type": "code",
   "execution_count": 22,
   "id": "4000ba2a-6d31-435e-b49d-fd1736d93c64",
   "metadata": {},
   "outputs": [
    {
     "data": {
      "text/html": [
       "<table class=\"dataframe\">\n",
       "<caption>A matrix: 5 × 24 of type dbl</caption>\n",
       "<thead>\n",
       "\t<tr><th></th><th scope=col>1</th><th scope=col>10</th><th scope=col>11</th><th scope=col>12</th><th scope=col>13</th><th scope=col>14</th><th scope=col>15</th><th scope=col>16</th><th scope=col>17</th><th scope=col>18</th><th scope=col>⋯</th><th scope=col>22</th><th scope=col>3</th><th scope=col>4</th><th scope=col>5</th><th scope=col>6</th><th scope=col>7</th><th scope=col>8</th><th scope=col>9</th><th scope=col>X</th><th scope=col>Y</th></tr>\n",
       "</thead>\n",
       "<tbody>\n",
       "\t<tr><th scope=row>v1.leftnorm.filtered.stats</th><td>1.970344</td><td>1.942000</td><td>1.950409</td><td>1.968718</td><td>1.924444</td><td>1.956889</td><td>1.874314</td><td>1.876312</td><td>2.032619</td><td>1.925625</td><td>⋯</td><td>2.066812</td><td>1.930119</td><td>1.877778</td><td>1.900388</td><td>1.928542</td><td>1.914113</td><td>1.846667</td><td>1.941984</td><td>1.390278</td><td>1.160000</td></tr>\n",
       "\t<tr><th scope=row>v1.leftnorm.filtered.tstv</th><td>1.996701</td><td>1.966250</td><td>1.977895</td><td>1.993654</td><td>1.948889</td><td>1.981667</td><td>1.898235</td><td>1.912553</td><td>2.065714</td><td>1.948125</td><td>⋯</td><td>2.110000</td><td>1.952679</td><td>1.898462</td><td>1.919302</td><td>1.949792</td><td>1.938723</td><td>1.868286</td><td>1.972143</td><td>2.085417</td><td>1.740000</td></tr>\n",
       "\t<tr><th scope=row>v1.leftnorm.stats</th><td>1.969381</td><td>1.940667</td><td>1.949474</td><td>1.967436</td><td>1.924074</td><td>1.955333</td><td>1.873431</td><td>1.875461</td><td>2.031369</td><td>1.925833</td><td>⋯</td><td>2.064783</td><td>1.929226</td><td>1.876752</td><td>1.898682</td><td>1.927292</td><td>1.912695</td><td>1.845714</td><td>1.941111</td><td>1.383611</td><td>1.146667</td></tr>\n",
       "\t<tr><th scope=row>v1.stats</th><td>2.004021</td><td>1.972000</td><td>1.985965</td><td>2.001154</td><td>1.957222</td><td>1.990000</td><td>1.903824</td><td>1.919574</td><td>2.074464</td><td>1.958125</td><td>⋯</td><td>2.118696</td><td>1.961071</td><td>1.905128</td><td>1.926512</td><td>1.956667</td><td>1.946596</td><td>1.874571</td><td>1.980238</td><td>2.084167</td><td>1.720000</td></tr>\n",
       "\t<tr><th scope=row>v1.unfiltered.tstv</th><td>2.004021</td><td>1.972000</td><td>1.985965</td><td>2.001154</td><td>1.957222</td><td>1.990000</td><td>1.903824</td><td>1.919574</td><td>2.074464</td><td>1.958125</td><td>⋯</td><td>2.118696</td><td>1.961071</td><td>1.905128</td><td>1.926512</td><td>1.956667</td><td>1.946596</td><td>1.874571</td><td>1.980238</td><td>2.084167</td><td>1.720000</td></tr>\n",
       "</tbody>\n",
       "</table>\n"
      ],
      "text/latex": [
       "A matrix: 5 × 24 of type dbl\n",
       "\\begin{tabular}{r|lllllllllllllllllllll}\n",
       "  & 1 & 10 & 11 & 12 & 13 & 14 & 15 & 16 & 17 & 18 & ⋯ & 22 & 3 & 4 & 5 & 6 & 7 & 8 & 9 & X & Y\\\\\n",
       "\\hline\n",
       "\tv1.leftnorm.filtered.stats & 1.970344 & 1.942000 & 1.950409 & 1.968718 & 1.924444 & 1.956889 & 1.874314 & 1.876312 & 2.032619 & 1.925625 & ⋯ & 2.066812 & 1.930119 & 1.877778 & 1.900388 & 1.928542 & 1.914113 & 1.846667 & 1.941984 & 1.390278 & 1.160000\\\\\n",
       "\tv1.leftnorm.filtered.tstv & 1.996701 & 1.966250 & 1.977895 & 1.993654 & 1.948889 & 1.981667 & 1.898235 & 1.912553 & 2.065714 & 1.948125 & ⋯ & 2.110000 & 1.952679 & 1.898462 & 1.919302 & 1.949792 & 1.938723 & 1.868286 & 1.972143 & 2.085417 & 1.740000\\\\\n",
       "\tv1.leftnorm.stats & 1.969381 & 1.940667 & 1.949474 & 1.967436 & 1.924074 & 1.955333 & 1.873431 & 1.875461 & 2.031369 & 1.925833 & ⋯ & 2.064783 & 1.929226 & 1.876752 & 1.898682 & 1.927292 & 1.912695 & 1.845714 & 1.941111 & 1.383611 & 1.146667\\\\\n",
       "\tv1.stats & 2.004021 & 1.972000 & 1.985965 & 2.001154 & 1.957222 & 1.990000 & 1.903824 & 1.919574 & 2.074464 & 1.958125 & ⋯ & 2.118696 & 1.961071 & 1.905128 & 1.926512 & 1.956667 & 1.946596 & 1.874571 & 1.980238 & 2.084167 & 1.720000\\\\\n",
       "\tv1.unfiltered.tstv & 2.004021 & 1.972000 & 1.985965 & 2.001154 & 1.957222 & 1.990000 & 1.903824 & 1.919574 & 2.074464 & 1.958125 & ⋯ & 2.118696 & 1.961071 & 1.905128 & 1.926512 & 1.956667 & 1.946596 & 1.874571 & 1.980238 & 2.084167 & 1.720000\\\\\n",
       "\\end{tabular}\n"
      ],
      "text/markdown": [
       "\n",
       "A matrix: 5 × 24 of type dbl\n",
       "\n",
       "| <!--/--> | 1 | 10 | 11 | 12 | 13 | 14 | 15 | 16 | 17 | 18 | ⋯ | 22 | 3 | 4 | 5 | 6 | 7 | 8 | 9 | X | Y |\n",
       "|---|---|---|---|---|---|---|---|---|---|---|---|---|---|---|---|---|---|---|---|---|---|\n",
       "| v1.leftnorm.filtered.stats | 1.970344 | 1.942000 | 1.950409 | 1.968718 | 1.924444 | 1.956889 | 1.874314 | 1.876312 | 2.032619 | 1.925625 | ⋯ | 2.066812 | 1.930119 | 1.877778 | 1.900388 | 1.928542 | 1.914113 | 1.846667 | 1.941984 | 1.390278 | 1.160000 |\n",
       "| v1.leftnorm.filtered.tstv | 1.996701 | 1.966250 | 1.977895 | 1.993654 | 1.948889 | 1.981667 | 1.898235 | 1.912553 | 2.065714 | 1.948125 | ⋯ | 2.110000 | 1.952679 | 1.898462 | 1.919302 | 1.949792 | 1.938723 | 1.868286 | 1.972143 | 2.085417 | 1.740000 |\n",
       "| v1.leftnorm.stats | 1.969381 | 1.940667 | 1.949474 | 1.967436 | 1.924074 | 1.955333 | 1.873431 | 1.875461 | 2.031369 | 1.925833 | ⋯ | 2.064783 | 1.929226 | 1.876752 | 1.898682 | 1.927292 | 1.912695 | 1.845714 | 1.941111 | 1.383611 | 1.146667 |\n",
       "| v1.stats | 2.004021 | 1.972000 | 1.985965 | 2.001154 | 1.957222 | 1.990000 | 1.903824 | 1.919574 | 2.074464 | 1.958125 | ⋯ | 2.118696 | 1.961071 | 1.905128 | 1.926512 | 1.956667 | 1.946596 | 1.874571 | 1.980238 | 2.084167 | 1.720000 |\n",
       "| v1.unfiltered.tstv | 2.004021 | 1.972000 | 1.985965 | 2.001154 | 1.957222 | 1.990000 | 1.903824 | 1.919574 | 2.074464 | 1.958125 | ⋯ | 2.118696 | 1.961071 | 1.905128 | 1.926512 | 1.956667 | 1.946596 | 1.874571 | 1.980238 | 2.084167 | 1.720000 |\n",
       "\n"
      ],
      "text/plain": [
       "                           1        10       11       12       13      \n",
       "v1.leftnorm.filtered.stats 1.970344 1.942000 1.950409 1.968718 1.924444\n",
       "v1.leftnorm.filtered.tstv  1.996701 1.966250 1.977895 1.993654 1.948889\n",
       "v1.leftnorm.stats          1.969381 1.940667 1.949474 1.967436 1.924074\n",
       "v1.stats                   2.004021 1.972000 1.985965 2.001154 1.957222\n",
       "v1.unfiltered.tstv         2.004021 1.972000 1.985965 2.001154 1.957222\n",
       "                           14       15       16       17       18       ⋯\n",
       "v1.leftnorm.filtered.stats 1.956889 1.874314 1.876312 2.032619 1.925625 ⋯\n",
       "v1.leftnorm.filtered.tstv  1.981667 1.898235 1.912553 2.065714 1.948125 ⋯\n",
       "v1.leftnorm.stats          1.955333 1.873431 1.875461 2.031369 1.925833 ⋯\n",
       "v1.stats                   1.990000 1.903824 1.919574 2.074464 1.958125 ⋯\n",
       "v1.unfiltered.tstv         1.990000 1.903824 1.919574 2.074464 1.958125 ⋯\n",
       "                           22       3        4        5        6       \n",
       "v1.leftnorm.filtered.stats 2.066812 1.930119 1.877778 1.900388 1.928542\n",
       "v1.leftnorm.filtered.tstv  2.110000 1.952679 1.898462 1.919302 1.949792\n",
       "v1.leftnorm.stats          2.064783 1.929226 1.876752 1.898682 1.927292\n",
       "v1.stats                   2.118696 1.961071 1.905128 1.926512 1.956667\n",
       "v1.unfiltered.tstv         2.118696 1.961071 1.905128 1.926512 1.956667\n",
       "                           7        8        9        X        Y       \n",
       "v1.leftnorm.filtered.stats 1.914113 1.846667 1.941984 1.390278 1.160000\n",
       "v1.leftnorm.filtered.tstv  1.938723 1.868286 1.972143 2.085417 1.740000\n",
       "v1.leftnorm.stats          1.912695 1.845714 1.941111 1.383611 1.146667\n",
       "v1.stats                   1.946596 1.874571 1.980238 2.084167 1.720000\n",
       "v1.unfiltered.tstv         1.946596 1.874571 1.980238 2.084167 1.720000"
      ]
     },
     "metadata": {},
     "output_type": "display_data"
    }
   ],
   "source": [
    "Avetstv"
   ]
  },
  {
   "cell_type": "code",
   "execution_count": 101,
   "id": "c55e21a1-d34a-4443-aeb8-7f13f2bca4a2",
   "metadata": {},
   "outputs": [],
   "source": [
    "sift<-read.table(\"~/working/project_VCF/tstv/ukb23156_snpsift_tstv.txt\")"
   ]
  },
  {
   "cell_type": "code",
   "execution_count": 50,
   "id": "3384cb35-423f-4fcc-978f-8ec4d619731e",
   "metadata": {},
   "outputs": [
    {
     "data": {
      "text/html": [
       "<table class=\"dataframe\">\n",
       "<caption>A data.frame: 6 × 2</caption>\n",
       "<thead>\n",
       "\t<tr><th></th><th scope=col>V1</th><th scope=col>V2</th></tr>\n",
       "\t<tr><th></th><th scope=col>&lt;chr&gt;</th><th scope=col>&lt;dbl&gt;</th></tr>\n",
       "</thead>\n",
       "<tbody>\n",
       "\t<tr><th scope=row>1</th><td>ukb23156_c10_b0_v1.leftnorm.filtered.stats_snpsift </td><td>3.758</td></tr>\n",
       "\t<tr><th scope=row>2</th><td>ukb23156_c10_b0_v1.leftnorm.stats_snpsift          </td><td>3.752</td></tr>\n",
       "\t<tr><th scope=row>3</th><td>ukb23156_c10_b0_v1.stats_snpsift                   </td><td>5.348</td></tr>\n",
       "\t<tr><th scope=row>4</th><td>ukb23156_c10_b10_v1.leftnorm.filtered.stats_snpsift</td><td>2.226</td></tr>\n",
       "\t<tr><th scope=row>5</th><td>ukb23156_c10_b10_v1.leftnorm.stats_snpsift         </td><td>2.272</td></tr>\n",
       "\t<tr><th scope=row>6</th><td>ukb23156_c10_b10_v1.stats_snpsift                  </td><td>3.041</td></tr>\n",
       "</tbody>\n",
       "</table>\n"
      ],
      "text/latex": [
       "A data.frame: 6 × 2\n",
       "\\begin{tabular}{r|ll}\n",
       "  & V1 & V2\\\\\n",
       "  & <chr> & <dbl>\\\\\n",
       "\\hline\n",
       "\t1 & ukb23156\\_c10\\_b0\\_v1.leftnorm.filtered.stats\\_snpsift  & 3.758\\\\\n",
       "\t2 & ukb23156\\_c10\\_b0\\_v1.leftnorm.stats\\_snpsift           & 3.752\\\\\n",
       "\t3 & ukb23156\\_c10\\_b0\\_v1.stats\\_snpsift                    & 5.348\\\\\n",
       "\t4 & ukb23156\\_c10\\_b10\\_v1.leftnorm.filtered.stats\\_snpsift & 2.226\\\\\n",
       "\t5 & ukb23156\\_c10\\_b10\\_v1.leftnorm.stats\\_snpsift          & 2.272\\\\\n",
       "\t6 & ukb23156\\_c10\\_b10\\_v1.stats\\_snpsift                   & 3.041\\\\\n",
       "\\end{tabular}\n"
      ],
      "text/markdown": [
       "\n",
       "A data.frame: 6 × 2\n",
       "\n",
       "| <!--/--> | V1 &lt;chr&gt; | V2 &lt;dbl&gt; |\n",
       "|---|---|---|\n",
       "| 1 | ukb23156_c10_b0_v1.leftnorm.filtered.stats_snpsift  | 3.758 |\n",
       "| 2 | ukb23156_c10_b0_v1.leftnorm.stats_snpsift           | 3.752 |\n",
       "| 3 | ukb23156_c10_b0_v1.stats_snpsift                    | 5.348 |\n",
       "| 4 | ukb23156_c10_b10_v1.leftnorm.filtered.stats_snpsift | 2.226 |\n",
       "| 5 | ukb23156_c10_b10_v1.leftnorm.stats_snpsift          | 2.272 |\n",
       "| 6 | ukb23156_c10_b10_v1.stats_snpsift                   | 3.041 |\n",
       "\n"
      ],
      "text/plain": [
       "  V1                                                  V2   \n",
       "1 ukb23156_c10_b0_v1.leftnorm.filtered.stats_snpsift  3.758\n",
       "2 ukb23156_c10_b0_v1.leftnorm.stats_snpsift           3.752\n",
       "3 ukb23156_c10_b0_v1.stats_snpsift                    5.348\n",
       "4 ukb23156_c10_b10_v1.leftnorm.filtered.stats_snpsift 2.226\n",
       "5 ukb23156_c10_b10_v1.leftnorm.stats_snpsift          2.272\n",
       "6 ukb23156_c10_b10_v1.stats_snpsift                   3.041"
      ]
     },
     "metadata": {},
     "output_type": "display_data"
    }
   ],
   "source": [
    "head(sift)"
   ]
  },
  {
   "cell_type": "code",
   "execution_count": 102,
   "id": "ccd3d359-20a5-4536-a099-4e55a8479050",
   "metadata": {},
   "outputs": [
    {
     "data": {
      "text/plain": [
       "\n",
       "  1  10  11  12  13  14  15  16  17  18  19   2  20  21  22   3   4   5   6   7 \n",
       "291 120 171 156  54  90 102 141 168  48 195 213  75  33  69 168 117 129 144 141 \n",
       "  8   9   X   Y \n",
       "105 126  72   3 "
      ]
     },
     "metadata": {},
     "output_type": "display_data"
    }
   ],
   "source": [
    "chrlist<-strsplit(sift[,1],\"_\")\n",
    "chr<-blo<-file<-c()\n",
    "for (i in 1:length(chrlist)){\n",
    "    chr<-cbind(chr,chrlist[[i]][2])\n",
    "    blo<-cbind(blo,chrlist[[i]][3])\n",
    "    file<-cbind(file,paste0(chrlist[[i]][4],\"_\",chrlist[[i]][5]))\n",
    "}\n",
    "data<-as.data.frame(cbind(t(chr),t(blo),t(file)))\n",
    "colnames(data)<-c(\"Chr\",\"Block\",\"File\")\n",
    "data$TSTV<-sift[,2]\n",
    "data[,1]<-gsub(\"c\", \"\", data[,1])\n",
    "table(data[,1])"
   ]
  },
  {
   "cell_type": "code",
   "execution_count": 55,
   "id": "c4cbc51c-18ee-4795-9b53-857a3b4c12f0",
   "metadata": {},
   "outputs": [
    {
     "data": {
      "text/html": [
       "<table class=\"dataframe\">\n",
       "<caption>A data.frame: 6 × 4</caption>\n",
       "<thead>\n",
       "\t<tr><th></th><th scope=col>Chr</th><th scope=col>Block</th><th scope=col>File</th><th scope=col>TSTV</th></tr>\n",
       "\t<tr><th></th><th scope=col>&lt;chr&gt;</th><th scope=col>&lt;chr&gt;</th><th scope=col>&lt;chr&gt;</th><th scope=col>&lt;dbl&gt;</th></tr>\n",
       "</thead>\n",
       "<tbody>\n",
       "\t<tr><th scope=row>1</th><td>10</td><td>b0 </td><td>v1.leftnorm.filtered.stats_snpsift</td><td>3.758</td></tr>\n",
       "\t<tr><th scope=row>2</th><td>10</td><td>b0 </td><td>v1.leftnorm.stats_snpsift         </td><td>3.752</td></tr>\n",
       "\t<tr><th scope=row>3</th><td>10</td><td>b0 </td><td>v1.stats_snpsift                  </td><td>5.348</td></tr>\n",
       "\t<tr><th scope=row>4</th><td>10</td><td>b10</td><td>v1.leftnorm.filtered.stats_snpsift</td><td>2.226</td></tr>\n",
       "\t<tr><th scope=row>5</th><td>10</td><td>b10</td><td>v1.leftnorm.stats_snpsift         </td><td>2.272</td></tr>\n",
       "\t<tr><th scope=row>6</th><td>10</td><td>b10</td><td>v1.stats_snpsift                  </td><td>3.041</td></tr>\n",
       "</tbody>\n",
       "</table>\n"
      ],
      "text/latex": [
       "A data.frame: 6 × 4\n",
       "\\begin{tabular}{r|llll}\n",
       "  & Chr & Block & File & TSTV\\\\\n",
       "  & <chr> & <chr> & <chr> & <dbl>\\\\\n",
       "\\hline\n",
       "\t1 & 10 & b0  & v1.leftnorm.filtered.stats\\_snpsift & 3.758\\\\\n",
       "\t2 & 10 & b0  & v1.leftnorm.stats\\_snpsift          & 3.752\\\\\n",
       "\t3 & 10 & b0  & v1.stats\\_snpsift                   & 5.348\\\\\n",
       "\t4 & 10 & b10 & v1.leftnorm.filtered.stats\\_snpsift & 2.226\\\\\n",
       "\t5 & 10 & b10 & v1.leftnorm.stats\\_snpsift          & 2.272\\\\\n",
       "\t6 & 10 & b10 & v1.stats\\_snpsift                   & 3.041\\\\\n",
       "\\end{tabular}\n"
      ],
      "text/markdown": [
       "\n",
       "A data.frame: 6 × 4\n",
       "\n",
       "| <!--/--> | Chr &lt;chr&gt; | Block &lt;chr&gt; | File &lt;chr&gt; | TSTV &lt;dbl&gt; |\n",
       "|---|---|---|---|---|\n",
       "| 1 | 10 | b0  | v1.leftnorm.filtered.stats_snpsift | 3.758 |\n",
       "| 2 | 10 | b0  | v1.leftnorm.stats_snpsift          | 3.752 |\n",
       "| 3 | 10 | b0  | v1.stats_snpsift                   | 5.348 |\n",
       "| 4 | 10 | b10 | v1.leftnorm.filtered.stats_snpsift | 2.226 |\n",
       "| 5 | 10 | b10 | v1.leftnorm.stats_snpsift          | 2.272 |\n",
       "| 6 | 10 | b10 | v1.stats_snpsift                   | 3.041 |\n",
       "\n"
      ],
      "text/plain": [
       "  Chr Block File                               TSTV \n",
       "1 10  b0    v1.leftnorm.filtered.stats_snpsift 3.758\n",
       "2 10  b0    v1.leftnorm.stats_snpsift          3.752\n",
       "3 10  b0    v1.stats_snpsift                   5.348\n",
       "4 10  b10   v1.leftnorm.filtered.stats_snpsift 2.226\n",
       "5 10  b10   v1.leftnorm.stats_snpsift          2.272\n",
       "6 10  b10   v1.stats_snpsift                   3.041"
      ]
     },
     "metadata": {},
     "output_type": "display_data"
    }
   ],
   "source": [
    "head(data)"
   ]
  },
  {
   "cell_type": "code",
   "execution_count": 56,
   "id": "a2a75461-8962-4cf0-9736-46f1be665272",
   "metadata": {},
   "outputs": [
    {
     "data": {
      "text/plain": [
       "\n",
       "v1.leftnorm.filtered.stats_snpsift          v1.leftnorm.stats_snpsift \n",
       "                               977                                977 \n",
       "                  v1.stats_snpsift \n",
       "                               977 "
      ]
     },
     "metadata": {},
     "output_type": "display_data"
    }
   ],
   "source": [
    "table(data[,3])"
   ]
  },
  {
   "cell_type": "code",
   "execution_count": 103,
   "id": "8cdae0c0-3f28-45ce-849f-b1fd9f988176",
   "metadata": {},
   "outputs": [
    {
     "data": {
      "image/png": "[encoded data removed]",
      "text/plain": [
       "plot without title"
      ]
     },
     "metadata": {
      "image/png": {
       "height": 420,
       "width": 420
      }
     },
     "output_type": "display_data"
    }
   ],
   "source": [
    "library(ggplot2)\n",
    "order<-c(\n",
    "\"1\", \"2\", \"3\", \"4\", \"5\", \"6\", \"7\", \"8\", \"9\", \"10\", \"11\", \"12\", \"13\", \"14\", \"15\", \"16\", \"17\", \"18\", \"19\", \"20\", \"21\", \"22\",\"X\",\"Y\")\n",
    "data$Chr<-factor(data$Chr,levels=order)\n",
    "p <- ggplot(data[data$File==\"v1.leftnorm.filtered.stats_snpsift\",], aes(x=Chr, y=TSTV)) +  \n",
    "    geom_boxplot()+\n",
    "    xlab(\"Chromosome\")+\n",
    "    ylab(\"Average TsTv Ratio\")+\n",
    "    theme(text = element_text(size=14))\n",
    "p"
   ]
  },
  {
   "cell_type": "code",
   "execution_count": 104,
   "id": "16dc08a7-00a8-45b0-ba5b-4228a3facb9f",
   "metadata": {},
   "outputs": [
    {
     "data": {
      "text/html": [
       "<strong>png:</strong> 2"
      ],
      "text/latex": [
       "\\textbf{png:} 2"
      ],
      "text/markdown": [
       "**png:** 2"
      ],
      "text/plain": [
       "png \n",
       "  2 "
      ]
     },
     "metadata": {},
     "output_type": "display_data"
    },
    {
     "data": {
      "text/html": [
       "<strong>png:</strong> 2"
      ],
      "text/latex": [
       "\\textbf{png:} 2"
      ],
      "text/markdown": [
       "**png:** 2"
      ],
      "text/plain": [
       "png \n",
       "  2 "
      ]
     },
     "metadata": {},
     "output_type": "display_data"
    },
    {
     "data": {
      "text/html": [
       "<strong>png:</strong> 2"
      ],
      "text/latex": [
       "\\textbf{png:} 2"
      ],
      "text/markdown": [
       "**png:** 2"
      ],
      "text/plain": [
       "png \n",
       "  2 "
      ]
     },
     "metadata": {},
     "output_type": "display_data"
    }
   ],
   "source": [
    "png(\"~/working/project_VCF/tstv/ukb23156.leftnorm.filtered.snpsift.ave_block.tstv.boxplot.png\",width = 1000, height = 1000)\n",
    "ggplot(data[data$File==\"v1.leftnorm.filtered.stats_snpsift\",], aes(x=Chr, y=TSTV)) +  \n",
    "    geom_boxplot()+\n",
    "    xlab(\"Chromosome\")+\n",
    "    ylab(\"Average TsTv Ratio\")+\n",
    "    ggtitle(\"Average TsTv Ratio of leftnorm filtered SNPs by snpsift\")+\n",
    "    theme(text = element_text(size=20))\n",
    "dev.off()\n",
    "png(\"~/working/project_VCF/tstv/ukb23156.leftnorm.snpsift.ave_block.tstv.boxplot.png\",width = 1000, height = 1000)\n",
    "ggplot(data[data$File==\"v1.leftnorm.stats_snpsift\",], aes(x=Chr, y=TSTV)) +  \n",
    "    geom_boxplot()+\n",
    "    xlab(\"Chromosome\")+\n",
    "    ylab(\"Average TsTv Ratio\")+\n",
    "    ggtitle(\"Average TsTv Ratio of leftnorm filtered SNPs by snpsift\")+\n",
    "    theme(text = element_text(size=20))\n",
    "dev.off()\n",
    "png(\"~/working/project_VCF/tstv/ukb23156.unfiltered.snpsift.ave_block.tstv.boxplot.png\",width = 1000, height = 1000)\n",
    "ggplot(data[data$File==\"v1.stats_snpsift\",], aes(x=Chr, y=TSTV)) +  \n",
    "    geom_boxplot()+\n",
    "    xlab(\"Chromosome\")+\n",
    "    ylab(\"Average TsTv Ratio\")+\n",
    "    ggtitle(\"Average TsTv Ratio of unfiltered SNPs by snpsift\")+\n",
    "    theme(text = element_text(size=20))\n",
    "dev.off()"
   ]
  },
  {
   "cell_type": "code",
   "execution_count": 1,
   "id": "ee416df1-786e-4815-ab35-fa51887488ef",
   "metadata": {},
   "outputs": [],
   "source": [
    "bcf<-read.table(\"~/working/project_VCF/tstv/bcf.txt\")"
   ]
  },
  {
   "cell_type": "code",
   "execution_count": 2,
   "id": "24eb4345-a0e7-4e2d-b277-ae5fe55490d2",
   "metadata": {},
   "outputs": [
    {
     "data": {
      "text/html": [
       "<style>\n",
       ".list-inline {list-style: none; margin:0; padding: 0}\n",
       ".list-inline>li {display: inline-block}\n",
       ".list-inline>li:not(:last-child)::after {content: \"\\00b7\"; padding: 0 .5ex}\n",
       "</style>\n",
       "<ol class=list-inline><li>200643</li><li>1</li></ol>\n"
      ],
      "text/latex": [
       "\\begin{enumerate*}\n",
       "\\item 200643\n",
       "\\item 1\n",
       "\\end{enumerate*}\n"
      ],
      "text/markdown": [
       "1. 200643\n",
       "2. 1\n",
       "\n",
       "\n"
      ],
      "text/plain": [
       "[1] 200643      1"
      ]
     },
     "metadata": {},
     "output_type": "display_data"
    }
   ],
   "source": [
    "dim(bcf)"
   ]
  },
  {
   "cell_type": "code",
   "execution_count": 10,
   "id": "f0c63ec3-d871-49c9-8d79-9887a97fac9b",
   "metadata": {},
   "outputs": [
    {
     "data": {
      "text/plain": [
       "       V1       \n",
       " Min.   : 21.0  \n",
       " 1st Qu.: 56.0  \n",
       " Median : 61.0  \n",
       " Mean   : 61.5  \n",
       " 3rd Qu.: 66.0  \n",
       " Max.   :111.0  "
      ]
     },
     "metadata": {},
     "output_type": "display_data"
    }
   ],
   "source": [
    "summary(bcf)"
   ]
  },
  {
   "cell_type": "code",
   "execution_count": 29,
   "id": "2ee780d7-2dd5-4431-b781-7cf005fb52dc",
   "metadata": {},
   "outputs": [
    {
     "data": {
      "image/png": "[encoded data removed]",
      "text/plain": [
       "Plot with title “Histogram of as.numeric(as.matrix(bcf))”"
      ]
     },
     "metadata": {
      "image/png": {
       "height": 420,
       "width": 420
      }
     },
     "output_type": "display_data"
    }
   ],
   "source": [
    "hist(as.numeric(as.matrix(bcf)))"
   ]
  },
  {
   "cell_type": "code",
   "execution_count": 3,
   "id": "939ddfae-16bf-45be-8739-631914b29fb2",
   "metadata": {},
   "outputs": [],
   "source": [
    "snift<-as.numeric(read.table(\"~/working/project_VCF/tstv/snift.txt\")[-1,])\n",
    "snift<-snift[-length(snift)]"
   ]
  },
  {
   "cell_type": "code",
   "execution_count": 5,
   "id": "e4dfa40d-97dd-45b2-8185-fbb26c75eed7",
   "metadata": {},
   "outputs": [
    {
     "data": {
      "text/html": [
       "200643"
      ],
      "text/latex": [
       "200643"
      ],
      "text/markdown": [
       "200643"
      ],
      "text/plain": [
       "[1] 200643"
      ]
     },
     "metadata": {},
     "output_type": "display_data"
    }
   ],
   "source": [
    "length(snift)"
   ]
  },
  {
   "cell_type": "code",
   "execution_count": 22,
   "id": "64e345da-663a-4ee3-b338-b1101115435e",
   "metadata": {},
   "outputs": [
    {
     "data": {
      "text/plain": [
       "   Min. 1st Qu.  Median    Mean 3rd Qu.    Max. \n",
       "  37.00   86.00   92.00   91.05   97.00  137.00 "
      ]
     },
     "metadata": {},
     "output_type": "display_data"
    }
   ],
   "source": [
    "summary(snift)"
   ]
  },
  {
   "cell_type": "code",
   "execution_count": 30,
   "id": "ed841742-3d3f-4311-8760-7e067af9ef56",
   "metadata": {},
   "outputs": [
    {
     "data": {
      "image/png": "[encoded data removed]",
      "text/plain": [
       "Plot with title “Histogram of snift”"
      ]
     },
     "metadata": {
      "image/png": {
       "height": 420,
       "width": 420
      }
     },
     "output_type": "display_data"
    }
   ],
   "source": [
    "hist(snift)"
   ]
  },
  {
   "cell_type": "code",
   "execution_count": 105,
   "id": "044c499b-3762-404d-9b7b-ffb30d804eda",
   "metadata": {},
   "outputs": [
    {
     "data": {
      "text/html": [
       "<table class=\"dataframe\">\n",
       "<caption>A data.frame: 6 × 2</caption>\n",
       "<thead>\n",
       "\t<tr><th></th><th scope=col>V1</th><th scope=col>V2</th></tr>\n",
       "\t<tr><th></th><th scope=col>&lt;chr&gt;</th><th scope=col>&lt;int&gt;</th></tr>\n",
       "</thead>\n",
       "<tbody>\n",
       "\t<tr><th scope=row>1</th><td>ukb23156_c10_b0_v1.leftnorm.filtered.stats_bcftools </td><td>17164715</td></tr>\n",
       "\t<tr><th scope=row>2</th><td>ukb23156_c10_b0_v1.leftnorm.stats_bcftools.maf      </td><td>18005478</td></tr>\n",
       "\t<tr><th scope=row>3</th><td>ukb23156_c10_b0_v1.stats_bcftools                   </td><td>17377468</td></tr>\n",
       "\t<tr><th scope=row>4</th><td>ukb23156_c10_b10_v1.leftnorm.filtered.stats_bcftools</td><td> 9227964</td></tr>\n",
       "\t<tr><th scope=row>5</th><td>ukb23156_c10_b10_v1.leftnorm.stats_bcftools.maf     </td><td> 9960780</td></tr>\n",
       "\t<tr><th scope=row>6</th><td>ukb23156_c10_b10_v1.stats_bcftools                  </td><td> 9555127</td></tr>\n",
       "</tbody>\n",
       "</table>\n"
      ],
      "text/latex": [
       "A data.frame: 6 × 2\n",
       "\\begin{tabular}{r|ll}\n",
       "  & V1 & V2\\\\\n",
       "  & <chr> & <int>\\\\\n",
       "\\hline\n",
       "\t1 & ukb23156\\_c10\\_b0\\_v1.leftnorm.filtered.stats\\_bcftools  & 17164715\\\\\n",
       "\t2 & ukb23156\\_c10\\_b0\\_v1.leftnorm.stats\\_bcftools.maf       & 18005478\\\\\n",
       "\t3 & ukb23156\\_c10\\_b0\\_v1.stats\\_bcftools                    & 17377468\\\\\n",
       "\t4 & ukb23156\\_c10\\_b10\\_v1.leftnorm.filtered.stats\\_bcftools &  9227964\\\\\n",
       "\t5 & ukb23156\\_c10\\_b10\\_v1.leftnorm.stats\\_bcftools.maf      &  9960780\\\\\n",
       "\t6 & ukb23156\\_c10\\_b10\\_v1.stats\\_bcftools                   &  9555127\\\\\n",
       "\\end{tabular}\n"
      ],
      "text/markdown": [
       "\n",
       "A data.frame: 6 × 2\n",
       "\n",
       "| <!--/--> | V1 &lt;chr&gt; | V2 &lt;int&gt; |\n",
       "|---|---|---|\n",
       "| 1 | ukb23156_c10_b0_v1.leftnorm.filtered.stats_bcftools  | 17164715 |\n",
       "| 2 | ukb23156_c10_b0_v1.leftnorm.stats_bcftools.maf       | 18005478 |\n",
       "| 3 | ukb23156_c10_b0_v1.stats_bcftools                    | 17377468 |\n",
       "| 4 | ukb23156_c10_b10_v1.leftnorm.filtered.stats_bcftools |  9227964 |\n",
       "| 5 | ukb23156_c10_b10_v1.leftnorm.stats_bcftools.maf      |  9960780 |\n",
       "| 6 | ukb23156_c10_b10_v1.stats_bcftools                   |  9555127 |\n",
       "\n"
      ],
      "text/plain": [
       "  V1                                                   V2      \n",
       "1 ukb23156_c10_b0_v1.leftnorm.filtered.stats_bcftools  17164715\n",
       "2 ukb23156_c10_b0_v1.leftnorm.stats_bcftools.maf       18005478\n",
       "3 ukb23156_c10_b0_v1.stats_bcftools                    17377468\n",
       "4 ukb23156_c10_b10_v1.leftnorm.filtered.stats_bcftools  9227964\n",
       "5 ukb23156_c10_b10_v1.leftnorm.stats_bcftools.maf       9960780\n",
       "6 ukb23156_c10_b10_v1.stats_bcftools                    9555127"
      ]
     },
     "metadata": {},
     "output_type": "display_data"
    }
   ],
   "source": [
    "ts<-read.table(\"~/working/project_VCF/tstv/ukb23156_bcftools_ts3.txt\")\n",
    "head(ts)"
   ]
  },
  {
   "cell_type": "code",
   "execution_count": 106,
   "id": "a65bf1a8-d8c9-4bb9-bff9-6b0fdd555238",
   "metadata": {},
   "outputs": [],
   "source": [
    "chrlist<-strsplit(ts[,1],\"_\")\n",
    "chr<-blo<-file<-c()\n",
    "for (i in 1:length(chrlist)){\n",
    "    chr<-cbind(chr,chrlist[[i]][2])\n",
    "    blo<-cbind(blo,chrlist[[i]][3])\n",
    "    file<-cbind(file,paste0(chrlist[[i]][4],\"_\",chrlist[[i]][5]))\n",
    "}\n",
    "data<-as.data.frame(cbind(t(chr),t(blo),t(file)))\n",
    "colnames(data)<-c(\"Chr\",\"Block\",\"File\")\n",
    "data$TS<-ts[,2]\n",
    "data[,1]<-gsub(\"c\", \"\", data[,1])"
   ]
  },
  {
   "cell_type": "code",
   "execution_count": 20,
   "id": "8280347a-d6b7-4d60-9987-19692db2865f",
   "metadata": {},
   "outputs": [
    {
     "data": {
      "text/html": [
       "<table class=\"dataframe\">\n",
       "<caption>A data.frame: 6 × 4</caption>\n",
       "<thead>\n",
       "\t<tr><th></th><th scope=col>Chr</th><th scope=col>Block</th><th scope=col>File</th><th scope=col>TS</th></tr>\n",
       "\t<tr><th></th><th scope=col>&lt;chr&gt;</th><th scope=col>&lt;chr&gt;</th><th scope=col>&lt;chr&gt;</th><th scope=col>&lt;int&gt;</th></tr>\n",
       "</thead>\n",
       "<tbody>\n",
       "\t<tr><th scope=row>1</th><td>10</td><td>b0 </td><td>v1.leftnorm.filtered.stats_bcftools</td><td>17164715</td></tr>\n",
       "\t<tr><th scope=row>2</th><td>10</td><td>b0 </td><td>v1.leftnorm.stats_bcftools.maf     </td><td>18005478</td></tr>\n",
       "\t<tr><th scope=row>3</th><td>10</td><td>b0 </td><td>v1.stats_bcftools                  </td><td>17377468</td></tr>\n",
       "\t<tr><th scope=row>4</th><td>10</td><td>b10</td><td>v1.leftnorm.filtered.stats_bcftools</td><td> 9227964</td></tr>\n",
       "\t<tr><th scope=row>5</th><td>10</td><td>b10</td><td>v1.leftnorm.stats_bcftools.maf     </td><td> 9960780</td></tr>\n",
       "\t<tr><th scope=row>6</th><td>10</td><td>b10</td><td>v1.stats_bcftools                  </td><td> 9555127</td></tr>\n",
       "</tbody>\n",
       "</table>\n"
      ],
      "text/latex": [
       "A data.frame: 6 × 4\n",
       "\\begin{tabular}{r|llll}\n",
       "  & Chr & Block & File & TS\\\\\n",
       "  & <chr> & <chr> & <chr> & <int>\\\\\n",
       "\\hline\n",
       "\t1 & 10 & b0  & v1.leftnorm.filtered.stats\\_bcftools & 17164715\\\\\n",
       "\t2 & 10 & b0  & v1.leftnorm.stats\\_bcftools.maf      & 18005478\\\\\n",
       "\t3 & 10 & b0  & v1.stats\\_bcftools                   & 17377468\\\\\n",
       "\t4 & 10 & b10 & v1.leftnorm.filtered.stats\\_bcftools &  9227964\\\\\n",
       "\t5 & 10 & b10 & v1.leftnorm.stats\\_bcftools.maf      &  9960780\\\\\n",
       "\t6 & 10 & b10 & v1.stats\\_bcftools                   &  9555127\\\\\n",
       "\\end{tabular}\n"
      ],
      "text/markdown": [
       "\n",
       "A data.frame: 6 × 4\n",
       "\n",
       "| <!--/--> | Chr &lt;chr&gt; | Block &lt;chr&gt; | File &lt;chr&gt; | TS &lt;int&gt; |\n",
       "|---|---|---|---|---|\n",
       "| 1 | 10 | b0  | v1.leftnorm.filtered.stats_bcftools | 17164715 |\n",
       "| 2 | 10 | b0  | v1.leftnorm.stats_bcftools.maf      | 18005478 |\n",
       "| 3 | 10 | b0  | v1.stats_bcftools                   | 17377468 |\n",
       "| 4 | 10 | b10 | v1.leftnorm.filtered.stats_bcftools |  9227964 |\n",
       "| 5 | 10 | b10 | v1.leftnorm.stats_bcftools.maf      |  9960780 |\n",
       "| 6 | 10 | b10 | v1.stats_bcftools                   |  9555127 |\n",
       "\n"
      ],
      "text/plain": [
       "  Chr Block File                                TS      \n",
       "1 10  b0    v1.leftnorm.filtered.stats_bcftools 17164715\n",
       "2 10  b0    v1.leftnorm.stats_bcftools.maf      18005478\n",
       "3 10  b0    v1.stats_bcftools                   17377468\n",
       "4 10  b10   v1.leftnorm.filtered.stats_bcftools  9227964\n",
       "5 10  b10   v1.leftnorm.stats_bcftools.maf       9960780\n",
       "6 10  b10   v1.stats_bcftools                    9555127"
      ]
     },
     "metadata": {},
     "output_type": "display_data"
    }
   ],
   "source": [
    "head(data)"
   ]
  },
  {
   "cell_type": "code",
   "execution_count": 21,
   "id": "f135122e-4bc0-42e9-90d1-e330a894fbbc",
   "metadata": {},
   "outputs": [
    {
     "data": {
      "text/plain": [
       "\n",
       "v1.leftnorm.filtered.stats_bcftools      v1.leftnorm.stats_bcftools.maf \n",
       "                                977                                 977 \n",
       "                  v1.stats_bcftools \n",
       "                                977 "
      ]
     },
     "metadata": {},
     "output_type": "display_data"
    }
   ],
   "source": [
    "table(data[,3])"
   ]
  },
  {
   "cell_type": "code",
   "execution_count": 107,
   "id": "163b4fe4-9976-4952-84c6-6ebdc9f0f51c",
   "metadata": {},
   "outputs": [],
   "source": [
    "tv<-read.table(\"~/working/project_VCF/tstv/ukb23156_bcftools_tv3.txt\")\n",
    "chrlist<-strsplit(tv[,1],\"_\")\n",
    "chr<-blo<-file<-c()\n",
    "for (i in 1:length(chrlist)){\n",
    "    chr<-cbind(chr,chrlist[[i]][2])\n",
    "    blo<-cbind(blo,chrlist[[i]][3])\n",
    "    file<-cbind(file,paste0(chrlist[[i]][4],\"_\",chrlist[[i]][5]))\n",
    "}\n",
    "data2<-as.data.frame(cbind(t(chr),t(blo),t(file)))\n",
    "colnames(data2)<-c(\"Chr\",\"Block\",\"File\")\n",
    "data2$TV<-tv[,2]\n",
    "data2[,1]<-gsub(\"c\", \"\", data2[,1])"
   ]
  },
  {
   "cell_type": "code",
   "execution_count": 24,
   "id": "46955b28-ea77-4bee-ae1f-e3fa6e78cbc1",
   "metadata": {},
   "outputs": [
    {
     "data": {
      "text/html": [
       "<table class=\"dataframe\">\n",
       "<caption>A data.frame: 6 × 2</caption>\n",
       "<thead>\n",
       "\t<tr><th></th><th scope=col>V1</th><th scope=col>V2</th></tr>\n",
       "\t<tr><th></th><th scope=col>&lt;chr&gt;</th><th scope=col>&lt;int&gt;</th></tr>\n",
       "</thead>\n",
       "<tbody>\n",
       "\t<tr><th scope=row>1</th><td>ukb23156_c10_b0_v1.leftnorm.filtered.stats_bcftools </td><td>4977193</td></tr>\n",
       "\t<tr><th scope=row>2</th><td>ukb23156_c10_b0_v1.leftnorm.stats_bcftools.maf      </td><td>5221389</td></tr>\n",
       "\t<tr><th scope=row>3</th><td>ukb23156_c10_b0_v1.stats_bcftools                   </td><td>5795834</td></tr>\n",
       "\t<tr><th scope=row>4</th><td>ukb23156_c10_b10_v1.leftnorm.filtered.stats_bcftools</td><td>3871971</td></tr>\n",
       "\t<tr><th scope=row>5</th><td>ukb23156_c10_b10_v1.leftnorm.stats_bcftools.maf     </td><td>4137115</td></tr>\n",
       "\t<tr><th scope=row>6</th><td>ukb23156_c10_b10_v1.stats_bcftools                  </td><td>4534912</td></tr>\n",
       "</tbody>\n",
       "</table>\n"
      ],
      "text/latex": [
       "A data.frame: 6 × 2\n",
       "\\begin{tabular}{r|ll}\n",
       "  & V1 & V2\\\\\n",
       "  & <chr> & <int>\\\\\n",
       "\\hline\n",
       "\t1 & ukb23156\\_c10\\_b0\\_v1.leftnorm.filtered.stats\\_bcftools  & 4977193\\\\\n",
       "\t2 & ukb23156\\_c10\\_b0\\_v1.leftnorm.stats\\_bcftools.maf       & 5221389\\\\\n",
       "\t3 & ukb23156\\_c10\\_b0\\_v1.stats\\_bcftools                    & 5795834\\\\\n",
       "\t4 & ukb23156\\_c10\\_b10\\_v1.leftnorm.filtered.stats\\_bcftools & 3871971\\\\\n",
       "\t5 & ukb23156\\_c10\\_b10\\_v1.leftnorm.stats\\_bcftools.maf      & 4137115\\\\\n",
       "\t6 & ukb23156\\_c10\\_b10\\_v1.stats\\_bcftools                   & 4534912\\\\\n",
       "\\end{tabular}\n"
      ],
      "text/markdown": [
       "\n",
       "A data.frame: 6 × 2\n",
       "\n",
       "| <!--/--> | V1 &lt;chr&gt; | V2 &lt;int&gt; |\n",
       "|---|---|---|\n",
       "| 1 | ukb23156_c10_b0_v1.leftnorm.filtered.stats_bcftools  | 4977193 |\n",
       "| 2 | ukb23156_c10_b0_v1.leftnorm.stats_bcftools.maf       | 5221389 |\n",
       "| 3 | ukb23156_c10_b0_v1.stats_bcftools                    | 5795834 |\n",
       "| 4 | ukb23156_c10_b10_v1.leftnorm.filtered.stats_bcftools | 3871971 |\n",
       "| 5 | ukb23156_c10_b10_v1.leftnorm.stats_bcftools.maf      | 4137115 |\n",
       "| 6 | ukb23156_c10_b10_v1.stats_bcftools                   | 4534912 |\n",
       "\n"
      ],
      "text/plain": [
       "  V1                                                   V2     \n",
       "1 ukb23156_c10_b0_v1.leftnorm.filtered.stats_bcftools  4977193\n",
       "2 ukb23156_c10_b0_v1.leftnorm.stats_bcftools.maf       5221389\n",
       "3 ukb23156_c10_b0_v1.stats_bcftools                    5795834\n",
       "4 ukb23156_c10_b10_v1.leftnorm.filtered.stats_bcftools 3871971\n",
       "5 ukb23156_c10_b10_v1.leftnorm.stats_bcftools.maf      4137115\n",
       "6 ukb23156_c10_b10_v1.stats_bcftools                   4534912"
      ]
     },
     "metadata": {},
     "output_type": "display_data"
    }
   ],
   "source": [
    "head(tv)"
   ]
  },
  {
   "cell_type": "code",
   "execution_count": 108,
   "id": "dc0c4bdb-1e92-460e-a038-409abdd6ebc5",
   "metadata": {},
   "outputs": [
    {
     "data": {
      "text/plain": [
       "\n",
       "v1.leftnorm.filtered.stats_bcftools      v1.leftnorm.stats_bcftools.maf \n",
       "                                977                                 977 \n",
       "                  v1.stats_bcftools \n",
       "                                977 "
      ]
     },
     "metadata": {},
     "output_type": "display_data"
    }
   ],
   "source": [
    "table(data2[,3])"
   ]
  },
  {
   "cell_type": "code",
   "execution_count": 113,
   "id": "caa5e3bd-f0e2-48a4-9f3a-5e387a749373",
   "metadata": {},
   "outputs": [
    {
     "data": {
      "text/html": [
       "<table class=\"dataframe\">\n",
       "<caption>A data.frame: 10 × 9</caption>\n",
       "<thead>\n",
       "\t<tr><th></th><th scope=col>Chr</th><th scope=col>Block</th><th scope=col>File</th><th scope=col>TS</th><th scope=col>TV</th><th scope=col>Chr</th><th scope=col>Block</th><th scope=col>File</th><th scope=col>TV</th></tr>\n",
       "\t<tr><th></th><th scope=col>&lt;chr&gt;</th><th scope=col>&lt;chr&gt;</th><th scope=col>&lt;chr&gt;</th><th scope=col>&lt;int&gt;</th><th scope=col>&lt;int&gt;</th><th scope=col>&lt;chr&gt;</th><th scope=col>&lt;chr&gt;</th><th scope=col>&lt;chr&gt;</th><th scope=col>&lt;int&gt;</th></tr>\n",
       "</thead>\n",
       "<tbody>\n",
       "\t<tr><th scope=row>1</th><td>10</td><td>b0 </td><td>v1.leftnorm.filtered.stats_bcftools</td><td>17164715</td><td>4977193</td><td>10</td><td>b0 </td><td>v1.leftnorm.filtered.stats_bcftools</td><td>4977193</td></tr>\n",
       "\t<tr><th scope=row>2</th><td>10</td><td>b0 </td><td>v1.leftnorm.stats_bcftools.maf     </td><td>18005478</td><td>5221389</td><td>10</td><td>b0 </td><td>v1.leftnorm.stats_bcftools.maf     </td><td>5221389</td></tr>\n",
       "\t<tr><th scope=row>3</th><td>10</td><td>b0 </td><td>v1.stats_bcftools                  </td><td>17377468</td><td>5795834</td><td>10</td><td>b0 </td><td>v1.stats_bcftools                  </td><td>5795834</td></tr>\n",
       "\t<tr><th scope=row>4</th><td>10</td><td>b10</td><td>v1.leftnorm.filtered.stats_bcftools</td><td> 9227964</td><td>3871971</td><td>10</td><td>b10</td><td>v1.leftnorm.filtered.stats_bcftools</td><td>3871971</td></tr>\n",
       "\t<tr><th scope=row>5</th><td>10</td><td>b10</td><td>v1.leftnorm.stats_bcftools.maf     </td><td> 9960780</td><td>4137115</td><td>10</td><td>b10</td><td>v1.leftnorm.stats_bcftools.maf     </td><td>4137115</td></tr>\n",
       "\t<tr><th scope=row>6</th><td>10</td><td>b10</td><td>v1.stats_bcftools                  </td><td> 9555127</td><td>4534912</td><td>10</td><td>b10</td><td>v1.stats_bcftools                  </td><td>4534912</td></tr>\n",
       "\t<tr><th scope=row>7</th><td>10</td><td>b11</td><td>v1.leftnorm.filtered.stats_bcftools</td><td>12519147</td><td>4443762</td><td>10</td><td>b11</td><td>v1.leftnorm.filtered.stats_bcftools</td><td>4443762</td></tr>\n",
       "\t<tr><th scope=row>8</th><td>10</td><td>b11</td><td>v1.leftnorm.stats_bcftools.maf     </td><td>13321176</td><td>4861454</td><td>10</td><td>b11</td><td>v1.leftnorm.stats_bcftools.maf     </td><td>4861454</td></tr>\n",
       "\t<tr><th scope=row>9</th><td>10</td><td>b11</td><td>v1.stats_bcftools                  </td><td>13121820</td><td>5060644</td><td>10</td><td>b11</td><td>v1.stats_bcftools                  </td><td>5060644</td></tr>\n",
       "\t<tr><th scope=row>10</th><td>10</td><td>b12</td><td>v1.leftnorm.filtered.stats_bcftools</td><td>13180269</td><td>4845844</td><td>10</td><td>b12</td><td>v1.leftnorm.filtered.stats_bcftools</td><td>4845844</td></tr>\n",
       "</tbody>\n",
       "</table>\n"
      ],
      "text/latex": [
       "A data.frame: 10 × 9\n",
       "\\begin{tabular}{r|lllllllll}\n",
       "  & Chr & Block & File & TS & TV & Chr & Block & File & TV\\\\\n",
       "  & <chr> & <chr> & <chr> & <int> & <int> & <chr> & <chr> & <chr> & <int>\\\\\n",
       "\\hline\n",
       "\t1 & 10 & b0  & v1.leftnorm.filtered.stats\\_bcftools & 17164715 & 4977193 & 10 & b0  & v1.leftnorm.filtered.stats\\_bcftools & 4977193\\\\\n",
       "\t2 & 10 & b0  & v1.leftnorm.stats\\_bcftools.maf      & 18005478 & 5221389 & 10 & b0  & v1.leftnorm.stats\\_bcftools.maf      & 5221389\\\\\n",
       "\t3 & 10 & b0  & v1.stats\\_bcftools                   & 17377468 & 5795834 & 10 & b0  & v1.stats\\_bcftools                   & 5795834\\\\\n",
       "\t4 & 10 & b10 & v1.leftnorm.filtered.stats\\_bcftools &  9227964 & 3871971 & 10 & b10 & v1.leftnorm.filtered.stats\\_bcftools & 3871971\\\\\n",
       "\t5 & 10 & b10 & v1.leftnorm.stats\\_bcftools.maf      &  9960780 & 4137115 & 10 & b10 & v1.leftnorm.stats\\_bcftools.maf      & 4137115\\\\\n",
       "\t6 & 10 & b10 & v1.stats\\_bcftools                   &  9555127 & 4534912 & 10 & b10 & v1.stats\\_bcftools                   & 4534912\\\\\n",
       "\t7 & 10 & b11 & v1.leftnorm.filtered.stats\\_bcftools & 12519147 & 4443762 & 10 & b11 & v1.leftnorm.filtered.stats\\_bcftools & 4443762\\\\\n",
       "\t8 & 10 & b11 & v1.leftnorm.stats\\_bcftools.maf      & 13321176 & 4861454 & 10 & b11 & v1.leftnorm.stats\\_bcftools.maf      & 4861454\\\\\n",
       "\t9 & 10 & b11 & v1.stats\\_bcftools                   & 13121820 & 5060644 & 10 & b11 & v1.stats\\_bcftools                   & 5060644\\\\\n",
       "\t10 & 10 & b12 & v1.leftnorm.filtered.stats\\_bcftools & 13180269 & 4845844 & 10 & b12 & v1.leftnorm.filtered.stats\\_bcftools & 4845844\\\\\n",
       "\\end{tabular}\n"
      ],
      "text/markdown": [
       "\n",
       "A data.frame: 10 × 9\n",
       "\n",
       "| <!--/--> | Chr &lt;chr&gt; | Block &lt;chr&gt; | File &lt;chr&gt; | TS &lt;int&gt; | TV &lt;int&gt; | Chr &lt;chr&gt; | Block &lt;chr&gt; | File &lt;chr&gt; | TV &lt;int&gt; |\n",
       "|---|---|---|---|---|---|---|---|---|---|\n",
       "| 1 | 10 | b0  | v1.leftnorm.filtered.stats_bcftools | 17164715 | 4977193 | 10 | b0  | v1.leftnorm.filtered.stats_bcftools | 4977193 |\n",
       "| 2 | 10 | b0  | v1.leftnorm.stats_bcftools.maf      | 18005478 | 5221389 | 10 | b0  | v1.leftnorm.stats_bcftools.maf      | 5221389 |\n",
       "| 3 | 10 | b0  | v1.stats_bcftools                   | 17377468 | 5795834 | 10 | b0  | v1.stats_bcftools                   | 5795834 |\n",
       "| 4 | 10 | b10 | v1.leftnorm.filtered.stats_bcftools |  9227964 | 3871971 | 10 | b10 | v1.leftnorm.filtered.stats_bcftools | 3871971 |\n",
       "| 5 | 10 | b10 | v1.leftnorm.stats_bcftools.maf      |  9960780 | 4137115 | 10 | b10 | v1.leftnorm.stats_bcftools.maf      | 4137115 |\n",
       "| 6 | 10 | b10 | v1.stats_bcftools                   |  9555127 | 4534912 | 10 | b10 | v1.stats_bcftools                   | 4534912 |\n",
       "| 7 | 10 | b11 | v1.leftnorm.filtered.stats_bcftools | 12519147 | 4443762 | 10 | b11 | v1.leftnorm.filtered.stats_bcftools | 4443762 |\n",
       "| 8 | 10 | b11 | v1.leftnorm.stats_bcftools.maf      | 13321176 | 4861454 | 10 | b11 | v1.leftnorm.stats_bcftools.maf      | 4861454 |\n",
       "| 9 | 10 | b11 | v1.stats_bcftools                   | 13121820 | 5060644 | 10 | b11 | v1.stats_bcftools                   | 5060644 |\n",
       "| 10 | 10 | b12 | v1.leftnorm.filtered.stats_bcftools | 13180269 | 4845844 | 10 | b12 | v1.leftnorm.filtered.stats_bcftools | 4845844 |\n",
       "\n"
      ],
      "text/plain": [
       "   Chr Block File                                TS       TV      Chr Block\n",
       "1  10  b0    v1.leftnorm.filtered.stats_bcftools 17164715 4977193 10  b0   \n",
       "2  10  b0    v1.leftnorm.stats_bcftools.maf      18005478 5221389 10  b0   \n",
       "3  10  b0    v1.stats_bcftools                   17377468 5795834 10  b0   \n",
       "4  10  b10   v1.leftnorm.filtered.stats_bcftools  9227964 3871971 10  b10  \n",
       "5  10  b10   v1.leftnorm.stats_bcftools.maf       9960780 4137115 10  b10  \n",
       "6  10  b10   v1.stats_bcftools                    9555127 4534912 10  b10  \n",
       "7  10  b11   v1.leftnorm.filtered.stats_bcftools 12519147 4443762 10  b11  \n",
       "8  10  b11   v1.leftnorm.stats_bcftools.maf      13321176 4861454 10  b11  \n",
       "9  10  b11   v1.stats_bcftools                   13121820 5060644 10  b11  \n",
       "10 10  b12   v1.leftnorm.filtered.stats_bcftools 13180269 4845844 10  b12  \n",
       "   File                                TV     \n",
       "1  v1.leftnorm.filtered.stats_bcftools 4977193\n",
       "2  v1.leftnorm.stats_bcftools.maf      5221389\n",
       "3  v1.stats_bcftools                   5795834\n",
       "4  v1.leftnorm.filtered.stats_bcftools 3871971\n",
       "5  v1.leftnorm.stats_bcftools.maf      4137115\n",
       "6  v1.stats_bcftools                   4534912\n",
       "7  v1.leftnorm.filtered.stats_bcftools 4443762\n",
       "8  v1.leftnorm.stats_bcftools.maf      4861454\n",
       "9  v1.stats_bcftools                   5060644\n",
       "10 v1.leftnorm.filtered.stats_bcftools 4845844"
      ]
     },
     "metadata": {},
     "output_type": "display_data"
    }
   ],
   "source": [
    "cbind(data,data2)[1:10,]"
   ]
  },
  {
   "cell_type": "code",
   "execution_count": 109,
   "id": "5cb29ff6-1f63-477b-ab15-08373b13df62",
   "metadata": {},
   "outputs": [],
   "source": [
    "data$TV<-data2$TV"
   ]
  },
  {
   "cell_type": "code",
   "execution_count": 110,
   "id": "ab94b9fd-7962-44b0-863e-fce01727cb8f",
   "metadata": {},
   "outputs": [],
   "source": [
    "f=\"v1.stats_bcftools\"\n",
    "tssum<-tvsum<-c()\n",
    "for (i in names(table(data$Chr))){\n",
    "    tssum<-c(tssum,sum(data[(data$Chr==i) & (data$File==f),\"TS\"]))\n",
    "    tvsum<-c(tvsum,sum(data[(data$Chr==i) & (data$File==f),\"TV\"]))\n",
    "}\n",
    "tstv<-tssum/tvsum\n",
    "tstv<-cbind(tstv,chr=names(table(data$Chr)))\n",
    "tstv<-as.data.frame(tstv)"
   ]
  },
  {
   "cell_type": "code",
   "execution_count": 111,
   "id": "d408fa77-a632-4b0d-9a1a-b22fca39dd44",
   "metadata": {},
   "outputs": [],
   "source": [
    "tmp<-tstv[1:22,]\n",
    "tmp<-tmp[order(as.numeric(tmp$chr)),]\n",
    "tstv[1:22,]<-tmp"
   ]
  },
  {
   "cell_type": "code",
   "execution_count": 112,
   "id": "492cd5bc-00dd-450d-975e-62983e6f5b2c",
   "metadata": {},
   "outputs": [
    {
     "data": {
      "image/png": "[encoded data removed]",
      "text/plain": [
       "plot without title"
      ]
     },
     "metadata": {
      "image/png": {
       "height": 420,
       "width": 420
      }
     },
     "output_type": "display_data"
    }
   ],
   "source": [
    "plot(tstv$tstv,ylab=\"Ave TsTv Ratio\", xlab=\"Chromosome\",pch=19)"
   ]
  },
  {
   "cell_type": "code",
   "execution_count": 106,
   "id": "5f044329-5bcf-4fff-a4c7-a19e570479e6",
   "metadata": {},
   "outputs": [
    {
     "data": {
      "text/html": [
       "<strong>png:</strong> 2"
      ],
      "text/latex": [
       "\\textbf{png:} 2"
      ],
      "text/markdown": [
       "**png:** 2"
      ],
      "text/plain": [
       "png \n",
       "  2 "
      ]
     },
     "metadata": {},
     "output_type": "display_data"
    }
   ],
   "source": [
    "png(\"~/working/project_VCF/tstv/ukb23156.ave_chromosome.tstv.scatterplot.png\",width = 1000, height = 500)\n",
    "plot(tstv$tstv,ylab=\"Ave TsTv Ratio\", xlab=\"Chromosome\",pch=19,cex.lab=1.5,cex.axis=1.5,cex=1.5,xaxt=\"n\")\n",
    "axis(1,tstv$chr,at=1:24)\n",
    "dev.off()"
   ]
  },
  {
   "cell_type": "code",
   "execution_count": null,
   "id": "b2dd3f97-b42c-44a6-b8ee-35e0ec9823c3",
   "metadata": {},
   "outputs": [],
   "source": [
    "ts<-read.table(\"~/working/project_VCF/tstv/ukb23156_bcftools_ts3.txt\")\n",
    "chrlist<-strsplit(ts[,1],\"_\")\n",
    "chr<-blo<-file<-c()\n",
    "for (i in 1:length(chrlist)){\n",
    "    chr<-cbind(chr,chrlist[[i]][2])\n",
    "    blo<-cbind(blo,chrlist[[i]][3])\n",
    "    file<-cbind(file,paste0(chrlist[[i]][4],\"_\",chrlist[[i]][5]))\n",
    "}\n",
    "data<-as.data.frame(cbind(t(chr),t(blo),t(file)))\n",
    "colnames(data)<-c(\"Chr\",\"Block\",\"File\")\n",
    "data$TS<-ts[,2]\n",
    "data[,1]<-gsub(\"c\", \"\", data[,1])\n",
    "tv<-read.table(\"~/working/project_VCF/tstv/ukb23156_bcftools_tv3.txt\")\n",
    "chrlist<-strsplit(tv[,1],\"_\")\n",
    "chr<-blo<-file<-c()\n",
    "for (i in 1:length(chrlist)){\n",
    "    chr<-cbind(chr,chrlist[[i]][2])\n",
    "    blo<-cbind(blo,chrlist[[i]][3])\n",
    "    file<-cbind(file,paste0(chrlist[[i]][4],\"_\",chrlist[[i]][5]))\n",
    "}\n",
    "data2<-as.data.frame(cbind(t(chr),t(blo),t(file)))\n",
    "colnames(data2)<-c(\"Chr\",\"Block\",\"File\")\n",
    "data2$TV<-tv[,2]\n",
    "data2[,1]<-gsub(\"c\", \"\", data2[,1])\n",
    "data$TV<-data2$TV"
   ]
  },
  {
   "cell_type": "code",
   "execution_count": 107,
   "id": "a242e190-f37d-4d6b-bf7d-041a66a7e30c",
   "metadata": {},
   "outputs": [
    {
     "data": {
      "text/html": [
       "<strong>png:</strong> 2"
      ],
      "text/latex": [
       "\\textbf{png:} 2"
      ],
      "text/markdown": [
       "**png:** 2"
      ],
      "text/plain": [
       "png \n",
       "  2 "
      ]
     },
     "metadata": {},
     "output_type": "display_data"
    }
   ],
   "source": [
    "f=\"v1.leftnorm.stats_bcftools.maf\"\n",
    "tssum<-tvsum<-c()\n",
    "for (i in names(table(data$Chr))){\n",
    "    tssum<-c(tssum,sum(data[(data$Chr==i) & (data$File==f),\"TS\"]))\n",
    "    tvsum<-c(tvsum,sum(data[(data$Chr==i) & (data$File==f),\"TV\"]))\n",
    "}\n",
    "tstv<-tssum/tvsum\n",
    "tstv<-cbind(tstv,chr=names(table(data$Chr)))\n",
    "tstv<-as.data.frame(tstv)\n",
    "tmp<-tstv[1:22,]\n",
    "tmp<-tmp[order(as.numeric(tmp$chr)),]\n",
    "tstv[1:22,]<-tmp\n",
    "png(\"~/working/project_VCF/tstv/ukb23156.leftnorm.ave_chromosome.tstv.scatterplot.png\",width = 1000, height = 500)\n",
    "plot(tstv$tstv,ylab=\"Ave TsTv Ratio\", xlab=\"Chromosome\",pch=19,cex.lab=1.5,cex.axis=1.5,cex=1.5,xaxt=\"n\")\n",
    "axis(1,tstv$chr,at=1:24)\n",
    "dev.off()"
   ]
  },
  {
   "cell_type": "code",
   "execution_count": 108,
   "id": "108a02cf-e81c-4439-a402-5a55776405f5",
   "metadata": {},
   "outputs": [
    {
     "data": {
      "text/html": [
       "<strong>png:</strong> 2"
      ],
      "text/latex": [
       "\\textbf{png:} 2"
      ],
      "text/markdown": [
       "**png:** 2"
      ],
      "text/plain": [
       "png \n",
       "  2 "
      ]
     },
     "metadata": {},
     "output_type": "display_data"
    }
   ],
   "source": [
    "f=\"v1.leftnorm.filtered.stats_bcftools\"\n",
    "tssum<-tvsum<-c()\n",
    "for (i in names(table(data$Chr))){\n",
    "    tssum<-c(tssum,sum(data[(data$Chr==i) & (data$File==f),\"TS\"]))\n",
    "    tvsum<-c(tvsum,sum(data[(data$Chr==i) & (data$File==f),\"TV\"]))\n",
    "}\n",
    "tstv<-tssum/tvsum\n",
    "tstv<-cbind(tstv,chr=names(table(data$Chr)))\n",
    "tstv<-as.data.frame(tstv)\n",
    "tmp<-tstv[1:22,]\n",
    "tmp<-tmp[order(as.numeric(tmp$chr)),]\n",
    "tstv[1:22,]<-tmp\n",
    "png(\"~/working/project_VCF/tstv/ukb23156.leftnorm.filtered.ave_chromosome.tstv.scatterplot.png\",width = 1000, height = 500)\n",
    "plot(tstv$tstv,ylab=\"Ave TsTv Ratio\", xlab=\"Chromosome\",pch=19,cex.lab=1.5,cex.axis=1.5,cex=1.5,xaxt=\"n\")\n",
    "axis(1,tstv$chr,at=1:24)\n",
    "dev.off()"
   ]
  },
  {
   "cell_type": "code",
   "execution_count": 132,
   "id": "004150ec-7def-4f19-975d-9956270608b8",
   "metadata": {},
   "outputs": [
    {
     "data": {
      "image/png": "[encoded data removed]",
      "text/plain": [
       "plot without title"
      ]
     },
     "metadata": {
      "image/png": {
       "height": 420,
       "width": 420
      }
     },
     "output_type": "display_data"
    }
   ],
   "source": [
    "rep=function(data,f){\n",
    "    tssum<-tvsum<-c()\n",
    "    for (i in names(table(data$Chr))){\n",
    "        tssum<-c(tssum,sum(data[(data$Chr==i) & (data$File==f),\"TS\"]))\n",
    "        tvsum<-c(tvsum,sum(data[(data$Chr==i) & (data$File==f),\"TV\"]))\n",
    "    }\n",
    "    tstv<-tssum/tvsum\n",
    "    tstv<-cbind(tstv,chr=names(table(data$Chr)))\n",
    "    tstv<-as.data.frame(tstv)\n",
    "    tmp<-tstv[1:22,]\n",
    "    tmp<-tmp[order(as.numeric(tmp$chr)),]\n",
    "    tstv[1:22,]<-tmp\n",
    "    tstv$tstv<-as.numeric(tstv$tstv)\n",
    "    return(tstv)\n",
    "}\n",
    "data1=rep(data,\"v1.stats_bcftools\")\n",
    "data2=rep(data,\"v1.leftnorm.stats_bcftools.maf\")\n",
    "data3=rep(data,\"v1.leftnorm.filtered.stats_bcftools\")\n",
    "barplot(rbind(data1$tstv,data2$tstv,data3$tstv),beside=TRUE,ylab=\"Ave TsTv Ratio\", xlab=\"Chromosome\",cex.lab=1.5,cex.axis=1.5,cex=1.5,col=c(\"lightblue1\", \"cornflowerblue\",\"#183059\"),names.arg=tstv$chr)\n",
    "legend(\"topleft\", c(\"unfiltered\",\"leftnorm\",\"leftnorm.filtered\"), pch=15, col=c(\"lightblue1\", \"cornflowerblue\",\"#183059\"), bty=\"n\",horiz =TRUE,cex=1.5,x.intersp =0.4)"
   ]
  },
  {
   "cell_type": "code",
   "execution_count": 134,
   "id": "ecbccbac-161c-463a-a444-f274e1096808",
   "metadata": {},
   "outputs": [
    {
     "data": {
      "text/html": [
       "<strong>png:</strong> 2"
      ],
      "text/latex": [
       "\\textbf{png:} 2"
      ],
      "text/markdown": [
       "**png:** 2"
      ],
      "text/plain": [
       "png \n",
       "  2 "
      ]
     },
     "metadata": {},
     "output_type": "display_data"
    }
   ],
   "source": [
    "png(\"~/working/project_VCF/tstv/ukb23156.leftnorm-filtered-comparison.ave_chromosome.tstv.barplot.png\",width = 1000, height = 500)\n",
    "barplot(rbind(data1$tstv,data2$tstv,data3$tstv),beside=TRUE,ylab=\"Ave TsTv Ratio\", xlab=\"Chromosome\",cex.lab=1.5,cex.axis=1.5,cex=1.5,col=c(\"lightblue1\", \"cornflowerblue\",\"#183059\"),names.arg=tstv$chr)\n",
    "legend(\"topleft\", c(\"unfiltered\",\"leftnorm\",\"leftnorm.filtered\"), pch=15, col=c(\"lightblue1\", \"cornflowerblue\",\"#183059\"), bty=\"n\",horiz =TRUE,cex=1.5,x.intersp =0.4)\n",
    "dev.off()"
   ]
  },
  {
   "cell_type": "code",
   "execution_count": null,
   "id": "09fe123d-3874-4be3-8114-35a03697cdf4",
   "metadata": {},
   "outputs": [],
   "source": []
  },
  {
   "cell_type": "code",
   "execution_count": 4,
   "id": "e7cee2c5-b024-4586-a09d-2ad0b357d838",
   "metadata": {},
   "outputs": [],
   "source": [
    "data<-read.table(\"~/working/project_VCF/tstv/ukb23156_bcftools_maf_tstv2.txt\")"
   ]
  },
  {
   "cell_type": "code",
   "execution_count": 5,
   "id": "05decde8-bfce-432a-b5ae-4f5ece26e3ac",
   "metadata": {},
   "outputs": [
    {
     "data": {
      "text/html": [
       "<table class=\"dataframe\">\n",
       "<caption>A data.frame: 6 × 5</caption>\n",
       "<thead>\n",
       "\t<tr><th></th><th scope=col>V1</th><th scope=col>V2</th><th scope=col>V3</th><th scope=col>V4</th><th scope=col>V5</th></tr>\n",
       "\t<tr><th></th><th scope=col>&lt;chr&gt;</th><th scope=col>&lt;int&gt;</th><th scope=col>&lt;int&gt;</th><th scope=col>&lt;int&gt;</th><th scope=col>&lt;int&gt;</th></tr>\n",
       "</thead>\n",
       "<tbody>\n",
       "\t<tr><th scope=row>1</th><td>ukb23156_c10_b0_v1.leftnorm.filtered.stats_bcftools      </td><td>10007</td><td>5071</td><td>1703</td><td>500</td></tr>\n",
       "\t<tr><th scope=row>2</th><td>ukb23156_c10_b0_v1.leftnorm.filtered.stats_bcftools.known</td><td> 6879</td><td>3361</td><td>1692</td><td>491</td></tr>\n",
       "\t<tr><th scope=row>3</th><td>ukb23156_c10_b0_v1.leftnorm.filtered.stats_bcftools.novel</td><td> 3128</td><td>1710</td><td>  11</td><td>  9</td></tr>\n",
       "\t<tr><th scope=row>4</th><td>ukb23156_c10_b0_v1.leftnorm.stats_bcftools.known         </td><td> 6953</td><td>3391</td><td>1623</td><td>468</td></tr>\n",
       "\t<tr><th scope=row>5</th><td>ukb23156_c10_b0_v1.leftnorm.stats_bcftools.maf           </td><td>10088</td><td>5103</td><td>1632</td><td>477</td></tr>\n",
       "\t<tr><th scope=row>6</th><td>ukb23156_c10_b0_v1.leftnorm.stats_bcftools.novel         </td><td> 3135</td><td>1712</td><td>   9</td><td>  9</td></tr>\n",
       "</tbody>\n",
       "</table>\n"
      ],
      "text/latex": [
       "A data.frame: 6 × 5\n",
       "\\begin{tabular}{r|lllll}\n",
       "  & V1 & V2 & V3 & V4 & V5\\\\\n",
       "  & <chr> & <int> & <int> & <int> & <int>\\\\\n",
       "\\hline\n",
       "\t1 & ukb23156\\_c10\\_b0\\_v1.leftnorm.filtered.stats\\_bcftools       & 10007 & 5071 & 1703 & 500\\\\\n",
       "\t2 & ukb23156\\_c10\\_b0\\_v1.leftnorm.filtered.stats\\_bcftools.known &  6879 & 3361 & 1692 & 491\\\\\n",
       "\t3 & ukb23156\\_c10\\_b0\\_v1.leftnorm.filtered.stats\\_bcftools.novel &  3128 & 1710 &   11 &   9\\\\\n",
       "\t4 & ukb23156\\_c10\\_b0\\_v1.leftnorm.stats\\_bcftools.known          &  6953 & 3391 & 1623 & 468\\\\\n",
       "\t5 & ukb23156\\_c10\\_b0\\_v1.leftnorm.stats\\_bcftools.maf            & 10088 & 5103 & 1632 & 477\\\\\n",
       "\t6 & ukb23156\\_c10\\_b0\\_v1.leftnorm.stats\\_bcftools.novel          &  3135 & 1712 &    9 &   9\\\\\n",
       "\\end{tabular}\n"
      ],
      "text/markdown": [
       "\n",
       "A data.frame: 6 × 5\n",
       "\n",
       "| <!--/--> | V1 &lt;chr&gt; | V2 &lt;int&gt; | V3 &lt;int&gt; | V4 &lt;int&gt; | V5 &lt;int&gt; |\n",
       "|---|---|---|---|---|---|\n",
       "| 1 | ukb23156_c10_b0_v1.leftnorm.filtered.stats_bcftools       | 10007 | 5071 | 1703 | 500 |\n",
       "| 2 | ukb23156_c10_b0_v1.leftnorm.filtered.stats_bcftools.known |  6879 | 3361 | 1692 | 491 |\n",
       "| 3 | ukb23156_c10_b0_v1.leftnorm.filtered.stats_bcftools.novel |  3128 | 1710 |   11 |   9 |\n",
       "| 4 | ukb23156_c10_b0_v1.leftnorm.stats_bcftools.known          |  6953 | 3391 | 1623 | 468 |\n",
       "| 5 | ukb23156_c10_b0_v1.leftnorm.stats_bcftools.maf            | 10088 | 5103 | 1632 | 477 |\n",
       "| 6 | ukb23156_c10_b0_v1.leftnorm.stats_bcftools.novel          |  3135 | 1712 |    9 |   9 |\n",
       "\n"
      ],
      "text/plain": [
       "  V1                                                        V2    V3   V4   V5 \n",
       "1 ukb23156_c10_b0_v1.leftnorm.filtered.stats_bcftools       10007 5071 1703 500\n",
       "2 ukb23156_c10_b0_v1.leftnorm.filtered.stats_bcftools.known  6879 3361 1692 491\n",
       "3 ukb23156_c10_b0_v1.leftnorm.filtered.stats_bcftools.novel  3128 1710   11   9\n",
       "4 ukb23156_c10_b0_v1.leftnorm.stats_bcftools.known           6953 3391 1623 468\n",
       "5 ukb23156_c10_b0_v1.leftnorm.stats_bcftools.maf            10088 5103 1632 477\n",
       "6 ukb23156_c10_b0_v1.leftnorm.stats_bcftools.novel           3135 1712    9   9"
      ]
     },
     "metadata": {},
     "output_type": "display_data"
    }
   ],
   "source": [
    "head(data)"
   ]
  },
  {
   "cell_type": "code",
   "execution_count": 8,
   "id": "664f6677-2841-4c6c-ad65-0f046dec8fba",
   "metadata": {},
   "outputs": [],
   "source": [
    "chrlist<-strsplit(data[,1],\"_\")\n",
    "chr<-blo<-file<-c()\n",
    "for (i in 1:length(chrlist)){\n",
    "    chr<-cbind(chr,chrlist[[i]][2])\n",
    "    blo<-cbind(blo,chrlist[[i]][3])\n",
    "    file<-cbind(file,paste0(chrlist[[i]][4],\"_\",chrlist[[i]][5]))\n",
    "}\n",
    "data2<-as.data.frame(cbind(t(chr),t(blo),t(file)))\n",
    "colnames(data2)<-c(\"Chr\",\"Block\",\"File\")\n",
    "data2[,1]<-gsub(\"c\", \"\", data2[,1])"
   ]
  },
  {
   "cell_type": "code",
   "execution_count": 10,
   "id": "1346d068-6fcd-4631-a22d-c6bb17786aa3",
   "metadata": {},
   "outputs": [],
   "source": [
    "data<-data[,-1]\n",
    "data<-cbind(data2,data)"
   ]
  },
  {
   "cell_type": "code",
   "execution_count": 12,
   "id": "28713ca1-e86b-4dc6-a2a1-8792837e4e55",
   "metadata": {},
   "outputs": [
    {
     "data": {
      "text/html": [
       "<table class=\"dataframe\">\n",
       "<caption>A data.frame: 6 × 7</caption>\n",
       "<thead>\n",
       "\t<tr><th></th><th scope=col>Chr</th><th scope=col>Block</th><th scope=col>File</th><th scope=col>V2</th><th scope=col>V3</th><th scope=col>V4</th><th scope=col>V5</th></tr>\n",
       "\t<tr><th></th><th scope=col>&lt;chr&gt;</th><th scope=col>&lt;chr&gt;</th><th scope=col>&lt;chr&gt;</th><th scope=col>&lt;int&gt;</th><th scope=col>&lt;int&gt;</th><th scope=col>&lt;int&gt;</th><th scope=col>&lt;int&gt;</th></tr>\n",
       "</thead>\n",
       "<tbody>\n",
       "\t<tr><th scope=row>1</th><td>10</td><td>b0</td><td>v1.leftnorm.filtered.stats_bcftools      </td><td>10007</td><td>5071</td><td>1703</td><td>500</td></tr>\n",
       "\t<tr><th scope=row>2</th><td>10</td><td>b0</td><td>v1.leftnorm.filtered.stats_bcftools.known</td><td> 6879</td><td>3361</td><td>1692</td><td>491</td></tr>\n",
       "\t<tr><th scope=row>3</th><td>10</td><td>b0</td><td>v1.leftnorm.filtered.stats_bcftools.novel</td><td> 3128</td><td>1710</td><td>  11</td><td>  9</td></tr>\n",
       "\t<tr><th scope=row>4</th><td>10</td><td>b0</td><td>v1.leftnorm.stats_bcftools.known         </td><td> 6953</td><td>3391</td><td>1623</td><td>468</td></tr>\n",
       "\t<tr><th scope=row>5</th><td>10</td><td>b0</td><td>v1.leftnorm.stats_bcftools.maf           </td><td>10088</td><td>5103</td><td>1632</td><td>477</td></tr>\n",
       "\t<tr><th scope=row>6</th><td>10</td><td>b0</td><td>v1.leftnorm.stats_bcftools.novel         </td><td> 3135</td><td>1712</td><td>   9</td><td>  9</td></tr>\n",
       "</tbody>\n",
       "</table>\n"
      ],
      "text/latex": [
       "A data.frame: 6 × 7\n",
       "\\begin{tabular}{r|lllllll}\n",
       "  & Chr & Block & File & V2 & V3 & V4 & V5\\\\\n",
       "  & <chr> & <chr> & <chr> & <int> & <int> & <int> & <int>\\\\\n",
       "\\hline\n",
       "\t1 & 10 & b0 & v1.leftnorm.filtered.stats\\_bcftools       & 10007 & 5071 & 1703 & 500\\\\\n",
       "\t2 & 10 & b0 & v1.leftnorm.filtered.stats\\_bcftools.known &  6879 & 3361 & 1692 & 491\\\\\n",
       "\t3 & 10 & b0 & v1.leftnorm.filtered.stats\\_bcftools.novel &  3128 & 1710 &   11 &   9\\\\\n",
       "\t4 & 10 & b0 & v1.leftnorm.stats\\_bcftools.known          &  6953 & 3391 & 1623 & 468\\\\\n",
       "\t5 & 10 & b0 & v1.leftnorm.stats\\_bcftools.maf            & 10088 & 5103 & 1632 & 477\\\\\n",
       "\t6 & 10 & b0 & v1.leftnorm.stats\\_bcftools.novel          &  3135 & 1712 &    9 &   9\\\\\n",
       "\\end{tabular}\n"
      ],
      "text/markdown": [
       "\n",
       "A data.frame: 6 × 7\n",
       "\n",
       "| <!--/--> | Chr &lt;chr&gt; | Block &lt;chr&gt; | File &lt;chr&gt; | V2 &lt;int&gt; | V3 &lt;int&gt; | V4 &lt;int&gt; | V5 &lt;int&gt; |\n",
       "|---|---|---|---|---|---|---|---|\n",
       "| 1 | 10 | b0 | v1.leftnorm.filtered.stats_bcftools       | 10007 | 5071 | 1703 | 500 |\n",
       "| 2 | 10 | b0 | v1.leftnorm.filtered.stats_bcftools.known |  6879 | 3361 | 1692 | 491 |\n",
       "| 3 | 10 | b0 | v1.leftnorm.filtered.stats_bcftools.novel |  3128 | 1710 |   11 |   9 |\n",
       "| 4 | 10 | b0 | v1.leftnorm.stats_bcftools.known          |  6953 | 3391 | 1623 | 468 |\n",
       "| 5 | 10 | b0 | v1.leftnorm.stats_bcftools.maf            | 10088 | 5103 | 1632 | 477 |\n",
       "| 6 | 10 | b0 | v1.leftnorm.stats_bcftools.novel          |  3135 | 1712 |    9 |   9 |\n",
       "\n"
      ],
      "text/plain": [
       "  Chr Block File                                      V2    V3   V4   V5 \n",
       "1 10  b0    v1.leftnorm.filtered.stats_bcftools       10007 5071 1703 500\n",
       "2 10  b0    v1.leftnorm.filtered.stats_bcftools.known  6879 3361 1692 491\n",
       "3 10  b0    v1.leftnorm.filtered.stats_bcftools.novel  3128 1710   11   9\n",
       "4 10  b0    v1.leftnorm.stats_bcftools.known           6953 3391 1623 468\n",
       "5 10  b0    v1.leftnorm.stats_bcftools.maf            10088 5103 1632 477\n",
       "6 10  b0    v1.leftnorm.stats_bcftools.novel           3135 1712    9   9"
      ]
     },
     "metadata": {},
     "output_type": "display_data"
    }
   ],
   "source": [
    "head(data)"
   ]
  },
  {
   "cell_type": "code",
   "execution_count": 15,
   "id": "105fe676-b982-463e-84fb-b47624687880",
   "metadata": {},
   "outputs": [
    {
     "data": {
      "text/plain": [
       "\n",
       "      v1.leftnorm.filtered.stats_bcftools \n",
       "                                      977 \n",
       "v1.leftnorm.filtered.stats_bcftools.known \n",
       "                                      952 \n",
       "v1.leftnorm.filtered.stats_bcftools.novel \n",
       "                                      977 \n",
       "         v1.leftnorm.stats_bcftools.known \n",
       "                                      952 \n",
       "           v1.leftnorm.stats_bcftools.maf \n",
       "                                      977 \n",
       "         v1.leftnorm.stats_bcftools.novel \n",
       "                                      977 \n",
       "                        v1.stats_bcftools \n",
       "                                      977 "
      ]
     },
     "metadata": {},
     "output_type": "display_data"
    }
   ],
   "source": [
    "table(data$File)"
   ]
  },
  {
   "cell_type": "code",
   "execution_count": 75,
   "id": "7819107b-9295-4df3-93a5-c2d799f67946",
   "metadata": {},
   "outputs": [
    {
     "data": {
      "image/png": "[encoded data removed]",
      "text/plain": [
       "plot without title"
      ]
     },
     "metadata": {
      "image/png": {
       "height": 420,
       "width": 420
      }
     },
     "output_type": "display_data"
    }
   ],
   "source": [
    "f=\"v1.stats_bcftools\"\n",
    "tssum1<-tvsum1<-tssum2<-tvsum2<-c()\n",
    "for (i in names(table(data$Chr))){\n",
    "    tssum1<-c(tssum1,sum(data[(data$Chr==i) & (data$File==f),\"V2\"]))\n",
    "    tvsum1<-c(tvsum1,sum(data[(data$Chr==i) & (data$File==f),\"V3\"]))\n",
    "    tssum2<-c(tssum2,sum(data[(data$Chr==i) & (data$File==f),\"V4\"]))\n",
    "    tvsum2<-c(tvsum2,sum(data[(data$Chr==i) & (data$File==f),\"V5\"]))    \n",
    "}\n",
    "tstv1<-tssum1/tvsum1\n",
    "tstv2<-tssum2/tvsum2\n",
    "tstv<-cbind(tstv1,tstv2,chr=names(table(data$Chr)))\n",
    "tstv<-as.data.frame(tstv)\n",
    "tmp<-tstv[1:22,]\n",
    "tmp<-tmp[order(as.numeric(tmp$chr)),]\n",
    "tstv[1:22,]<-tmp\n",
    "barplot(rbind(as.numeric(tstv[,1]),as.numeric(tstv[,2])),beside=TRUE,ylab=\"Ave TsTv Ratio\", xlab=\"Chromosome\",cex.lab=1.5,cex.axis=1.5,cex=1.5,col=c(\"lightblue\", \"#276FBF\"),names.arg=tstv$chr)\n",
    "legend(\"topleft\", c(\"0-0.00005\",\"0.00005-\"), pch=15, col=c(\"lightblue\", \"#276FBF\"), bty=\"n\")"
   ]
  },
  {
   "cell_type": "code",
   "execution_count": 73,
   "id": "d0de0265-e549-4665-bfb2-b868ed43f027",
   "metadata": {},
   "outputs": [
    {
     "data": {
      "text/html": [
       "<strong>png:</strong> 2"
      ],
      "text/latex": [
       "\\textbf{png:} 2"
      ],
      "text/markdown": [
       "**png:** 2"
      ],
      "text/plain": [
       "png \n",
       "  2 "
      ]
     },
     "metadata": {},
     "output_type": "display_data"
    }
   ],
   "source": [
    "png(\"~/working/project_VCF/tstv/ukb23156.ave_chromosome.maf.tstv.barplot.png\",width = 1000, height = 500)\n",
    "barplot(rbind(as.numeric(tstv[,1]),as.numeric(tstv[,2])),beside=TRUE,ylab=\"Ave TsTv Ratio\", xlab=\"Chromosome\",cex.lab=1.5,cex.axis=1.5,cex=1.5,col=c(\"lightblue\", \"#276FBF\"),names.arg=tstv$chr)\n",
    "legend(\"topleft\", c(\"0-0.00005\",\"0.00005-\"), pch=15, col=c(\"lightblue\", \"#276FBF\"), bty=\"n\")\n",
    "dev.off()"
   ]
  },
  {
   "cell_type": "code",
   "execution_count": 76,
   "id": "db38a60d-6866-421f-98e4-9d2cb9e4d920",
   "metadata": {},
   "outputs": [
    {
     "data": {
      "text/html": [
       "<strong>png:</strong> 2"
      ],
      "text/latex": [
       "\\textbf{png:} 2"
      ],
      "text/markdown": [
       "**png:** 2"
      ],
      "text/plain": [
       "png \n",
       "  2 "
      ]
     },
     "metadata": {},
     "output_type": "display_data"
    }
   ],
   "source": [
    "f=\"v1.leftnorm.stats_bcftools.maf\"\n",
    "tssum1<-tvsum1<-tssum2<-tvsum2<-c()\n",
    "for (i in names(table(data$Chr))){\n",
    "    tssum1<-c(tssum1,sum(data[(data$Chr==i) & (data$File==f),\"V2\"]))\n",
    "    tvsum1<-c(tvsum1,sum(data[(data$Chr==i) & (data$File==f),\"V3\"]))\n",
    "    tssum2<-c(tssum2,sum(data[(data$Chr==i) & (data$File==f),\"V4\"]))\n",
    "    tvsum2<-c(tvsum2,sum(data[(data$Chr==i) & (data$File==f),\"V5\"]))    \n",
    "}\n",
    "tstv1<-tssum1/tvsum1\n",
    "tstv2<-tssum2/tvsum2\n",
    "tstv<-cbind(tstv1,tstv2,chr=names(table(data$Chr)))\n",
    "tstv<-as.data.frame(tstv)\n",
    "tmp<-tstv[1:22,]\n",
    "tmp<-tmp[order(as.numeric(tmp$chr)),]\n",
    "tstv[1:22,]<-tmp\n",
    "png(\"~/working/project_VCF/tstv/ukb23156.leftnorm.ave_chromosome.maf.tstv.barplot.png\",width = 1000, height = 500)\n",
    "barplot(rbind(as.numeric(tstv[,1]),as.numeric(tstv[,2])),beside=TRUE,ylab=\"Ave TsTv Ratio\", xlab=\"Chromosome\",cex.lab=1.5,cex.axis=1.5,cex=1.5,col=c(\"lightblue\", \"#276FBF\"),names.arg=tstv$chr)\n",
    "legend(\"topleft\", c(\"0-0.00005\",\"0.00005-\"), pch=15, col=c(\"lightblue\", \"#276FBF\"), bty=\"n\")\n",
    "dev.off()"
   ]
  },
  {
   "cell_type": "code",
   "execution_count": 77,
   "id": "a80f6a60-018c-4a5d-9550-842febcdfaa4",
   "metadata": {},
   "outputs": [
    {
     "data": {
      "text/html": [
       "<strong>png:</strong> 2"
      ],
      "text/latex": [
       "\\textbf{png:} 2"
      ],
      "text/markdown": [
       "**png:** 2"
      ],
      "text/plain": [
       "png \n",
       "  2 "
      ]
     },
     "metadata": {},
     "output_type": "display_data"
    }
   ],
   "source": [
    "f=\"v1.leftnorm.stats_bcftools.novel\"\n",
    "tssum1<-tvsum1<-tssum2<-tvsum2<-c()\n",
    "for (i in names(table(data$Chr))){\n",
    "    tssum1<-c(tssum1,sum(data[(data$Chr==i) & (data$File==f),\"V2\"]))\n",
    "    tvsum1<-c(tvsum1,sum(data[(data$Chr==i) & (data$File==f),\"V3\"]))\n",
    "    tssum2<-c(tssum2,sum(data[(data$Chr==i) & (data$File==f),\"V4\"]))\n",
    "    tvsum2<-c(tvsum2,sum(data[(data$Chr==i) & (data$File==f),\"V5\"]))    \n",
    "}\n",
    "tstv1<-tssum1/tvsum1\n",
    "tstv2<-tssum2/tvsum2\n",
    "tstv<-cbind(tstv1,tstv2,chr=names(table(data$Chr)))\n",
    "tstv<-as.data.frame(tstv)\n",
    "tmp<-tstv[1:22,]\n",
    "tmp<-tmp[order(as.numeric(tmp$chr)),]\n",
    "tstv[1:22,]<-tmp\n",
    "png(\"~/working/project_VCF/tstv/ukb23156.leftnorm.novel.ave_chromosome.maf.tstv.barplot.png\",width = 1000, height = 500)\n",
    "barplot(rbind(as.numeric(tstv[,1]),as.numeric(tstv[,2])),beside=TRUE,ylab=\"Ave TsTv Ratio\", xlab=\"Chromosome\",cex.lab=1.5,cex.axis=1.5,cex=1.5,col=c(\"lightblue\", \"#276FBF\"),names.arg=tstv$chr)\n",
    "legend(\"topleft\", c(\"0-0.00005\",\"0.00005-\"), pch=15, col=c(\"lightblue\", \"#276FBF\"), bty=\"n\")\n",
    "dev.off()"
   ]
  },
  {
   "cell_type": "code",
   "execution_count": 82,
   "id": "92641d4d-752a-49ba-bea7-80ccc74fc82a",
   "metadata": {},
   "outputs": [
    {
     "data": {
      "text/html": [
       "<strong>png:</strong> 2"
      ],
      "text/latex": [
       "\\textbf{png:} 2"
      ],
      "text/markdown": [
       "**png:** 2"
      ],
      "text/plain": [
       "png \n",
       "  2 "
      ]
     },
     "metadata": {},
     "output_type": "display_data"
    }
   ],
   "source": [
    "f=\"v1.leftnorm.stats_bcftools.known\"\n",
    "tssum1<-tvsum1<-tssum2<-tvsum2<-c()\n",
    "for (i in names(table(data$Chr))){\n",
    "    tssum1<-c(tssum1,sum(data[(data$Chr==i) & (data$File==f),\"V2\"]))\n",
    "    tvsum1<-c(tvsum1,sum(data[(data$Chr==i) & (data$File==f),\"V3\"]))\n",
    "    tssum2<-c(tssum2,sum(data[(data$Chr==i) & (data$File==f),\"V4\"]))\n",
    "    tvsum2<-c(tvsum2,sum(data[(data$Chr==i) & (data$File==f),\"V5\"]))    \n",
    "}\n",
    "tstv1<-tssum1/tvsum1\n",
    "tstv2<-tssum2/tvsum2\n",
    "tstv<-cbind(tstv1,tstv2,chr=names(table(data$Chr)))\n",
    "tstv<-as.data.frame(tstv)\n",
    "tmp<-tstv[1:22,]\n",
    "tmp<-tmp[order(as.numeric(tmp$chr)),]\n",
    "tstv[1:22,]<-tmp\n",
    "png(\"~/working/project_VCF/tstv/ukb23156.leftnorm.known.ave_chromosome.maf.tstv.barplot.png\",width = 1000, height = 500)\n",
    "barplot(rbind(as.numeric(tstv[,1]),as.numeric(tstv[,2])),beside=TRUE,ylab=\"Ave TsTv Ratio\", xlab=\"Chromosome\",cex.lab=1.5,cex.axis=1.5,cex=1.5,col=c(\"lightblue\", \"#276FBF\"),names.arg=tstv$chr)\n",
    "legend(\"topleft\", c(\"0-0.00005\",\"0.00005-\"), pch=15, col=c(\"lightblue\", \"#276FBF\"), bty=\"n\")\n",
    "dev.off()"
   ]
  },
  {
   "cell_type": "code",
   "execution_count": 83,
   "id": "6d95b026-2d58-4b40-ad0e-6f62e88998e9",
   "metadata": {},
   "outputs": [
    {
     "data": {
      "text/html": [
       "<strong>png:</strong> 2"
      ],
      "text/latex": [
       "\\textbf{png:} 2"
      ],
      "text/markdown": [
       "**png:** 2"
      ],
      "text/plain": [
       "png \n",
       "  2 "
      ]
     },
     "metadata": {},
     "output_type": "display_data"
    },
    {
     "data": {
      "text/html": [
       "<strong>png:</strong> 2"
      ],
      "text/latex": [
       "\\textbf{png:} 2"
      ],
      "text/markdown": [
       "**png:** 2"
      ],
      "text/plain": [
       "png \n",
       "  2 "
      ]
     },
     "metadata": {},
     "output_type": "display_data"
    },
    {
     "data": {
      "text/html": [
       "<strong>png:</strong> 2"
      ],
      "text/latex": [
       "\\textbf{png:} 2"
      ],
      "text/markdown": [
       "**png:** 2"
      ],
      "text/plain": [
       "png \n",
       "  2 "
      ]
     },
     "metadata": {},
     "output_type": "display_data"
    }
   ],
   "source": [
    "f=\"v1.leftnorm.filtered.stats_bcftools\"\n",
    "tssum1<-tvsum1<-tssum2<-tvsum2<-c()\n",
    "for (i in names(table(data$Chr))){\n",
    "    tssum1<-c(tssum1,sum(data[(data$Chr==i) & (data$File==f),\"V2\"]))\n",
    "    tvsum1<-c(tvsum1,sum(data[(data$Chr==i) & (data$File==f),\"V3\"]))\n",
    "    tssum2<-c(tssum2,sum(data[(data$Chr==i) & (data$File==f),\"V4\"]))\n",
    "    tvsum2<-c(tvsum2,sum(data[(data$Chr==i) & (data$File==f),\"V5\"]))    \n",
    "}\n",
    "tstv1<-tssum1/tvsum1\n",
    "tstv2<-tssum2/tvsum2\n",
    "tstv<-cbind(tstv1,tstv2,chr=names(table(data$Chr)))\n",
    "tstv<-as.data.frame(tstv)\n",
    "tmp<-tstv[1:22,]\n",
    "tmp<-tmp[order(as.numeric(tmp$chr)),]\n",
    "tstv[1:22,]<-tmp\n",
    "png(\"~/working/project_VCF/tstv/ukb23156.leftnorm.filtered.ave_chromosome.maf.tstv.barplot.png\",width = 1000, height = 500)\n",
    "barplot(rbind(as.numeric(tstv[,1]),as.numeric(tstv[,2])),beside=TRUE,ylab=\"Ave TsTv Ratio\", xlab=\"Chromosome\",cex.lab=1.5,cex.axis=1.5,cex=1.5,col=c(\"lightblue\", \"#276FBF\"),names.arg=tstv$chr)\n",
    "legend(\"topleft\", c(\"0-0.00005\",\"0.00005-\"), pch=15, col=c(\"lightblue\", \"#276FBF\"), bty=\"n\")\n",
    "dev.off()\n",
    "f=\"v1.leftnorm.filtered.stats_bcftools.novel\"\n",
    "tssum1<-tvsum1<-tssum2<-tvsum2<-c()\n",
    "for (i in names(table(data$Chr))){\n",
    "    tssum1<-c(tssum1,sum(data[(data$Chr==i) & (data$File==f),\"V2\"]))\n",
    "    tvsum1<-c(tvsum1,sum(data[(data$Chr==i) & (data$File==f),\"V3\"]))\n",
    "    tssum2<-c(tssum2,sum(data[(data$Chr==i) & (data$File==f),\"V4\"]))\n",
    "    tvsum2<-c(tvsum2,sum(data[(data$Chr==i) & (data$File==f),\"V5\"]))    \n",
    "}\n",
    "tstv1<-tssum1/tvsum1\n",
    "tstv2<-tssum2/tvsum2\n",
    "tstv<-cbind(tstv1,tstv2,chr=names(table(data$Chr)))\n",
    "tstv<-as.data.frame(tstv)\n",
    "tmp<-tstv[1:22,]\n",
    "tmp<-tmp[order(as.numeric(tmp$chr)),]\n",
    "tstv[1:22,]<-tmp\n",
    "png(\"~/working/project_VCF/tstv/ukb23156.leftnorm.filtered.novel.ave_chromosome.maf.tstv.barplot.png\",width = 1000, height = 500)\n",
    "barplot(rbind(as.numeric(tstv[,1]),as.numeric(tstv[,2])),beside=TRUE,ylab=\"Ave TsTv Ratio\", xlab=\"Chromosome\",cex.lab=1.5,cex.axis=1.5,cex=1.5,col=c(\"lightblue\", \"#276FBF\"),names.arg=tstv$chr)\n",
    "legend(\"topleft\", c(\"0-0.00005\",\"0.00005-\"), pch=15, col=c(\"lightblue\", \"#276FBF\"), bty=\"n\")\n",
    "dev.off()\n",
    "f=\"v1.leftnorm.filtered.stats_bcftools.known\"\n",
    "tssum1<-tvsum1<-tssum2<-tvsum2<-c()\n",
    "for (i in names(table(data$Chr))){\n",
    "    tssum1<-c(tssum1,sum(data[(data$Chr==i) & (data$File==f),\"V2\"]))\n",
    "    tvsum1<-c(tvsum1,sum(data[(data$Chr==i) & (data$File==f),\"V3\"]))\n",
    "    tssum2<-c(tssum2,sum(data[(data$Chr==i) & (data$File==f),\"V4\"]))\n",
    "    tvsum2<-c(tvsum2,sum(data[(data$Chr==i) & (data$File==f),\"V5\"]))    \n",
    "}\n",
    "tstv1<-tssum1/tvsum1\n",
    "tstv2<-tssum2/tvsum2\n",
    "tstv<-cbind(tstv1,tstv2,chr=names(table(data$Chr)))\n",
    "tstv<-as.data.frame(tstv)\n",
    "tmp<-tstv[1:22,]\n",
    "tmp<-tmp[order(as.numeric(tmp$chr)),]\n",
    "tstv[1:22,]<-tmp\n",
    "png(\"~/working/project_VCF/tstv/ukb23156.leftnorm.filtered.known.ave_chromosome.maf.tstv.barplot.png\",width = 1000, height = 500)\n",
    "barplot(rbind(as.numeric(tstv[,1]),as.numeric(tstv[,2])),beside=TRUE,ylab=\"Ave TsTv Ratio\", xlab=\"Chromosome\",cex.lab=1.5,cex.axis=1.5,cex=1.5,col=c(\"lightblue\", \"#276FBF\"),names.arg=tstv$chr)\n",
    "legend(\"topleft\", c(\"0-0.00005\",\"0.00005-\"), pch=15, col=c(\"lightblue\", \"#276FBF\"), bty=\"n\")\n",
    "dev.off()"
   ]
  },
  {
   "cell_type": "code",
   "execution_count": null,
   "id": "046d5764-c23e-4849-a3b6-1445fc86f822",
   "metadata": {},
   "outputs": [],
   "source": []
  },
  {
   "cell_type": "code",
   "execution_count": null,
   "id": "005d6ae6-2c8d-4610-ab0e-968d3ebff376",
   "metadata": {},
   "outputs": [],
   "source": []
  },
  {
   "cell_type": "code",
   "execution_count": 1,
   "id": "8b6df38e-1fb8-4ccf-9ebb-53f9ee7af38e",
   "metadata": {},
   "outputs": [
    {
     "data": {
      "text/html": [
       "<table class=\"dataframe\">\n",
       "<caption>A data.frame: 6 × 5</caption>\n",
       "<thead>\n",
       "\t<tr><th></th><th scope=col>Chr</th><th scope=col>Block</th><th scope=col>File</th><th scope=col>TS</th><th scope=col>TV</th></tr>\n",
       "\t<tr><th></th><th scope=col>&lt;chr&gt;</th><th scope=col>&lt;chr&gt;</th><th scope=col>&lt;chr&gt;</th><th scope=col>&lt;int&gt;</th><th scope=col>&lt;int&gt;</th></tr>\n",
       "</thead>\n",
       "<tbody>\n",
       "\t<tr><th scope=row>1</th><td>10</td><td>b0 </td><td>v1.leftnorm.filtered.stats_snpsift</td><td>25230047</td><td>6713515</td></tr>\n",
       "\t<tr><th scope=row>2</th><td>10</td><td>b0 </td><td>v1.leftnorm.stats_snpsift         </td><td>26831650</td><td>7151401</td></tr>\n",
       "\t<tr><th scope=row>3</th><td>10</td><td>b0 </td><td>v1.stats_snpsift                  </td><td>22454161</td><td>4198958</td></tr>\n",
       "\t<tr><th scope=row>4</th><td>10</td><td>b10</td><td>v1.leftnorm.filtered.stats_snpsift</td><td>11603045</td><td>5211927</td></tr>\n",
       "\t<tr><th scope=row>5</th><td>10</td><td>b10</td><td>v1.leftnorm.stats_snpsift         </td><td>12686326</td><td>5584881</td></tr>\n",
       "\t<tr><th scope=row>6</th><td>10</td><td>b10</td><td>v1.stats_snpsift                  </td><td>10700893</td><td>3518847</td></tr>\n",
       "</tbody>\n",
       "</table>\n"
      ],
      "text/latex": [
       "A data.frame: 6 × 5\n",
       "\\begin{tabular}{r|lllll}\n",
       "  & Chr & Block & File & TS & TV\\\\\n",
       "  & <chr> & <chr> & <chr> & <int> & <int>\\\\\n",
       "\\hline\n",
       "\t1 & 10 & b0  & v1.leftnorm.filtered.stats\\_snpsift & 25230047 & 6713515\\\\\n",
       "\t2 & 10 & b0  & v1.leftnorm.stats\\_snpsift          & 26831650 & 7151401\\\\\n",
       "\t3 & 10 & b0  & v1.stats\\_snpsift                   & 22454161 & 4198958\\\\\n",
       "\t4 & 10 & b10 & v1.leftnorm.filtered.stats\\_snpsift & 11603045 & 5211927\\\\\n",
       "\t5 & 10 & b10 & v1.leftnorm.stats\\_snpsift          & 12686326 & 5584881\\\\\n",
       "\t6 & 10 & b10 & v1.stats\\_snpsift                   & 10700893 & 3518847\\\\\n",
       "\\end{tabular}\n"
      ],
      "text/markdown": [
       "\n",
       "A data.frame: 6 × 5\n",
       "\n",
       "| <!--/--> | Chr &lt;chr&gt; | Block &lt;chr&gt; | File &lt;chr&gt; | TS &lt;int&gt; | TV &lt;int&gt; |\n",
       "|---|---|---|---|---|---|\n",
       "| 1 | 10 | b0  | v1.leftnorm.filtered.stats_snpsift | 25230047 | 6713515 |\n",
       "| 2 | 10 | b0  | v1.leftnorm.stats_snpsift          | 26831650 | 7151401 |\n",
       "| 3 | 10 | b0  | v1.stats_snpsift                   | 22454161 | 4198958 |\n",
       "| 4 | 10 | b10 | v1.leftnorm.filtered.stats_snpsift | 11603045 | 5211927 |\n",
       "| 5 | 10 | b10 | v1.leftnorm.stats_snpsift          | 12686326 | 5584881 |\n",
       "| 6 | 10 | b10 | v1.stats_snpsift                   | 10700893 | 3518847 |\n",
       "\n"
      ],
      "text/plain": [
       "  Chr Block File                               TS       TV     \n",
       "1 10  b0    v1.leftnorm.filtered.stats_snpsift 25230047 6713515\n",
       "2 10  b0    v1.leftnorm.stats_snpsift          26831650 7151401\n",
       "3 10  b0    v1.stats_snpsift                   22454161 4198958\n",
       "4 10  b10   v1.leftnorm.filtered.stats_snpsift 11603045 5211927\n",
       "5 10  b10   v1.leftnorm.stats_snpsift          12686326 5584881\n",
       "6 10  b10   v1.stats_snpsift                   10700893 3518847"
      ]
     },
     "metadata": {},
     "output_type": "display_data"
    }
   ],
   "source": [
    "ts<-read.table(\"~/working/project_VCF/tstv/ukb23156_snpsift_ts.txt\")\n",
    "chrlist<-strsplit(ts[,1],\"_\")\n",
    "chr<-blo<-file<-c()\n",
    "for (i in 1:length(chrlist)){\n",
    "    chr<-cbind(chr,chrlist[[i]][2])\n",
    "    blo<-cbind(blo,chrlist[[i]][3])\n",
    "    file<-cbind(file,paste0(chrlist[[i]][4],\"_\",chrlist[[i]][5]))\n",
    "}\n",
    "data<-as.data.frame(cbind(t(chr),t(blo),t(file)))\n",
    "colnames(data)<-c(\"Chr\",\"Block\",\"File\")\n",
    "data$TS<-ts[,2]\n",
    "data[,1]<-gsub(\"c\", \"\", data[,1])\n",
    "tv<-read.table(\"~/working/project_VCF/tstv/ukb23156_snpsift_tv.txt\")\n",
    "chrlist<-strsplit(tv[,1],\"_\")\n",
    "chr<-blo<-file<-c()\n",
    "for (i in 1:length(chrlist)){\n",
    "    chr<-cbind(chr,chrlist[[i]][2])\n",
    "    blo<-cbind(blo,chrlist[[i]][3])\n",
    "    file<-cbind(file,paste0(chrlist[[i]][4],\"_\",chrlist[[i]][5]))\n",
    "}\n",
    "data2<-as.data.frame(cbind(t(chr),t(blo),t(file)))\n",
    "colnames(data2)<-c(\"Chr\",\"Block\",\"File\")\n",
    "data2$TV<-tv[,2]\n",
    "data2[,1]<-gsub(\"c\", \"\", data2[,1])\n",
    "data$TV<-data2$TV\n",
    "head(data)"
   ]
  },
  {
   "cell_type": "code",
   "execution_count": 12,
   "id": "d729a2da-426f-4375-b8ba-05045fa6aa74",
   "metadata": {},
   "outputs": [
    {
     "data": {
      "image/png": "[encoded data removed]",
      "text/plain": [
       "plot without title"
      ]
     },
     "metadata": {
      "image/png": {
       "height": 420,
       "width": 420
      }
     },
     "output_type": "display_data"
    }
   ],
   "source": [
    "rep=function(data,f){\n",
    "    tssum<-tvsum<-c()\n",
    "    for (i in names(table(data$Chr))){\n",
    "        tssum<-c(tssum,sum(data[(data$Chr==i) & (data$File==f),\"TS\"]))\n",
    "        tvsum<-c(tvsum,sum(data[(data$Chr==i) & (data$File==f),\"TV\"]))\n",
    "    }\n",
    "    tstv<-tssum/tvsum\n",
    "    tstv<-cbind(tstv,chr=names(table(data$Chr)))\n",
    "    tstv<-as.data.frame(tstv)\n",
    "    tmp<-tstv[1:22,]\n",
    "    tmp<-tmp[order(as.numeric(tmp$chr)),]\n",
    "    tstv[1:22,]<-tmp\n",
    "    tstv$tstv<-as.numeric(tstv$tstv)\n",
    "    return(tstv)\n",
    "}\n",
    "data1=rep(data,\"v1.stats_snpsift\")\n",
    "data2=rep(data,\"v1.leftnorm.stats_snpsift\")\n",
    "data3=rep(data,\"v1.leftnorm.filtered.stats_snpsift\")\n",
    "barplot(rbind(data1$tstv,data2$tstv,data3$tstv),beside=TRUE,ylab=\"Ave TsTv Ratio\", xlab=\"Chromosome\",cex.lab=1.5,cex.axis=1.5,cex=1.5,col=c(\"lightblue1\", \"cornflowerblue\",\"#183059\"),names.arg=data1$chr)\n",
    "legend(\"topleft\", c(\"unfiltered\",\"leftnorm\",\"leftnorm.filtered\"), pch=15, col=c(\"lightblue1\", \"cornflowerblue\",\"#183059\"), bty=\"n\",horiz =TRUE,cex=1.5,x.intersp =0.4)"
   ]
  },
  {
   "cell_type": "code",
   "execution_count": 13,
   "id": "8e41d897-d73c-4082-a02d-02f1c7f4c977",
   "metadata": {},
   "outputs": [
    {
     "data": {
      "text/html": [
       "<strong>png:</strong> 2"
      ],
      "text/latex": [
       "\\textbf{png:} 2"
      ],
      "text/markdown": [
       "**png:** 2"
      ],
      "text/plain": [
       "png \n",
       "  2 "
      ]
     },
     "metadata": {},
     "output_type": "display_data"
    }
   ],
   "source": [
    "png(\"~/working/project_VCF/tstv/ukb23156.leftnorm-filtered-comparison.ave_chromosome.tstv.snpsift.barplot.png\",width = 1000, height = 500)\n",
    "barplot(rbind(data1$tstv,data2$tstv,data3$tstv),beside=TRUE,ylab=\"Ave TsTv Ratio\", xlab=\"Chromosome\",cex.lab=1.5,cex.axis=1.5,cex=1.5,col=c(\"lightblue1\", \"cornflowerblue\",\"#183059\"),names.arg=data1$chr)\n",
    "legend(\"topleft\", c(\"unfiltered\",\"leftnorm\",\"leftnorm.filtered\"), pch=15, col=c(\"lightblue1\", \"cornflowerblue\",\"#183059\"), bty=\"n\",horiz =TRUE,cex=1.5,x.intersp =0.4)\n",
    "dev.off()"
   ]
  },
  {
   "cell_type": "code",
   "execution_count": null,
   "id": "780af27b-cbe6-43c5-9ce4-d6ca2d4b0a39",
   "metadata": {},
   "outputs": [],
   "source": []
  },
  {
   "cell_type": "code",
   "execution_count": null,
   "id": "3c4eb8ab-a65f-4371-b829-255a2e67ef27",
   "metadata": {},
   "outputs": [],
   "source": []
  },
  {
   "cell_type": "code",
   "execution_count": 16,
   "id": "b2bfdcec-e75a-434b-8ccf-90d1fa52cab6",
   "metadata": {},
   "outputs": [],
   "source": [
    "data<-read.table(\"~/working/project_VCF/tstv/ukb23156_bcftools_maf_tstv2.txt\")\n",
    "chrlist<-strsplit(data[,1],\"_\")\n",
    "chr<-blo<-file<-c()\n",
    "for (i in 1:length(chrlist)){\n",
    "    chr<-cbind(chr,chrlist[[i]][2])\n",
    "    blo<-cbind(blo,chrlist[[i]][3])\n",
    "    file<-cbind(file,paste0(chrlist[[i]][4],\"_\",chrlist[[i]][5]))\n",
    "}\n",
    "data2<-as.data.frame(cbind(t(chr),t(blo),t(file)))\n",
    "colnames(data2)<-c(\"Chr\",\"Block\",\"File\")\n",
    "data2[,1]<-gsub(\"c\", \"\", data2[,1])\n",
    "data<-data[,-1]\n",
    "data<-cbind(data2,data)"
   ]
  },
  {
   "cell_type": "code",
   "execution_count": 17,
   "id": "d2b70277-48e4-452a-88a3-ff0d16d66b51",
   "metadata": {},
   "outputs": [
    {
     "data": {
      "text/html": [
       "<table class=\"dataframe\">\n",
       "<caption>A data.frame: 6 × 7</caption>\n",
       "<thead>\n",
       "\t<tr><th></th><th scope=col>Chr</th><th scope=col>Block</th><th scope=col>File</th><th scope=col>V2</th><th scope=col>V3</th><th scope=col>V4</th><th scope=col>V5</th></tr>\n",
       "\t<tr><th></th><th scope=col>&lt;chr&gt;</th><th scope=col>&lt;chr&gt;</th><th scope=col>&lt;chr&gt;</th><th scope=col>&lt;int&gt;</th><th scope=col>&lt;int&gt;</th><th scope=col>&lt;int&gt;</th><th scope=col>&lt;int&gt;</th></tr>\n",
       "</thead>\n",
       "<tbody>\n",
       "\t<tr><th scope=row>1</th><td>10</td><td>b0</td><td>v1.leftnorm.filtered.stats_bcftools      </td><td>10007</td><td>5071</td><td>1703</td><td>500</td></tr>\n",
       "\t<tr><th scope=row>2</th><td>10</td><td>b0</td><td>v1.leftnorm.filtered.stats_bcftools.known</td><td> 6879</td><td>3361</td><td>1692</td><td>491</td></tr>\n",
       "\t<tr><th scope=row>3</th><td>10</td><td>b0</td><td>v1.leftnorm.filtered.stats_bcftools.novel</td><td> 3128</td><td>1710</td><td>  11</td><td>  9</td></tr>\n",
       "\t<tr><th scope=row>4</th><td>10</td><td>b0</td><td>v1.leftnorm.stats_bcftools.known         </td><td> 6953</td><td>3391</td><td>1623</td><td>468</td></tr>\n",
       "\t<tr><th scope=row>5</th><td>10</td><td>b0</td><td>v1.leftnorm.stats_bcftools.maf           </td><td>10088</td><td>5103</td><td>1632</td><td>477</td></tr>\n",
       "\t<tr><th scope=row>6</th><td>10</td><td>b0</td><td>v1.leftnorm.stats_bcftools.novel         </td><td> 3135</td><td>1712</td><td>   9</td><td>  9</td></tr>\n",
       "</tbody>\n",
       "</table>\n"
      ],
      "text/latex": [
       "A data.frame: 6 × 7\n",
       "\\begin{tabular}{r|lllllll}\n",
       "  & Chr & Block & File & V2 & V3 & V4 & V5\\\\\n",
       "  & <chr> & <chr> & <chr> & <int> & <int> & <int> & <int>\\\\\n",
       "\\hline\n",
       "\t1 & 10 & b0 & v1.leftnorm.filtered.stats\\_bcftools       & 10007 & 5071 & 1703 & 500\\\\\n",
       "\t2 & 10 & b0 & v1.leftnorm.filtered.stats\\_bcftools.known &  6879 & 3361 & 1692 & 491\\\\\n",
       "\t3 & 10 & b0 & v1.leftnorm.filtered.stats\\_bcftools.novel &  3128 & 1710 &   11 &   9\\\\\n",
       "\t4 & 10 & b0 & v1.leftnorm.stats\\_bcftools.known          &  6953 & 3391 & 1623 & 468\\\\\n",
       "\t5 & 10 & b0 & v1.leftnorm.stats\\_bcftools.maf            & 10088 & 5103 & 1632 & 477\\\\\n",
       "\t6 & 10 & b0 & v1.leftnorm.stats\\_bcftools.novel          &  3135 & 1712 &    9 &   9\\\\\n",
       "\\end{tabular}\n"
      ],
      "text/markdown": [
       "\n",
       "A data.frame: 6 × 7\n",
       "\n",
       "| <!--/--> | Chr &lt;chr&gt; | Block &lt;chr&gt; | File &lt;chr&gt; | V2 &lt;int&gt; | V3 &lt;int&gt; | V4 &lt;int&gt; | V5 &lt;int&gt; |\n",
       "|---|---|---|---|---|---|---|---|\n",
       "| 1 | 10 | b0 | v1.leftnorm.filtered.stats_bcftools       | 10007 | 5071 | 1703 | 500 |\n",
       "| 2 | 10 | b0 | v1.leftnorm.filtered.stats_bcftools.known |  6879 | 3361 | 1692 | 491 |\n",
       "| 3 | 10 | b0 | v1.leftnorm.filtered.stats_bcftools.novel |  3128 | 1710 |   11 |   9 |\n",
       "| 4 | 10 | b0 | v1.leftnorm.stats_bcftools.known          |  6953 | 3391 | 1623 | 468 |\n",
       "| 5 | 10 | b0 | v1.leftnorm.stats_bcftools.maf            | 10088 | 5103 | 1632 | 477 |\n",
       "| 6 | 10 | b0 | v1.leftnorm.stats_bcftools.novel          |  3135 | 1712 |    9 |   9 |\n",
       "\n"
      ],
      "text/plain": [
       "  Chr Block File                                      V2    V3   V4   V5 \n",
       "1 10  b0    v1.leftnorm.filtered.stats_bcftools       10007 5071 1703 500\n",
       "2 10  b0    v1.leftnorm.filtered.stats_bcftools.known  6879 3361 1692 491\n",
       "3 10  b0    v1.leftnorm.filtered.stats_bcftools.novel  3128 1710   11   9\n",
       "4 10  b0    v1.leftnorm.stats_bcftools.known           6953 3391 1623 468\n",
       "5 10  b0    v1.leftnorm.stats_bcftools.maf            10088 5103 1632 477\n",
       "6 10  b0    v1.leftnorm.stats_bcftools.novel           3135 1712    9   9"
      ]
     },
     "metadata": {},
     "output_type": "display_data"
    }
   ],
   "source": [
    "head(data)"
   ]
  },
  {
   "cell_type": "code",
   "execution_count": 18,
   "id": "eac94851-ceb6-4ec2-8bbd-5228ae48c3c6",
   "metadata": {},
   "outputs": [],
   "source": [
    "data$V6=data$V2+data$V4\n",
    "data$V7=data$V3+data$V5"
   ]
  },
  {
   "cell_type": "code",
   "execution_count": 19,
   "id": "6de33560-010b-4f7b-9827-03a99e21bb6a",
   "metadata": {},
   "outputs": [
    {
     "data": {
      "text/plain": [
       "\n",
       "      v1.leftnorm.filtered.stats_bcftools \n",
       "                                      977 \n",
       "v1.leftnorm.filtered.stats_bcftools.known \n",
       "                                      952 \n",
       "v1.leftnorm.filtered.stats_bcftools.novel \n",
       "                                      977 \n",
       "         v1.leftnorm.stats_bcftools.known \n",
       "                                      952 \n",
       "           v1.leftnorm.stats_bcftools.maf \n",
       "                                      977 \n",
       "         v1.leftnorm.stats_bcftools.novel \n",
       "                                      977 \n",
       "                        v1.stats_bcftools \n",
       "                                      977 "
      ]
     },
     "metadata": {},
     "output_type": "display_data"
    }
   ],
   "source": [
    "table(data$File)"
   ]
  },
  {
   "cell_type": "code",
   "execution_count": null,
   "id": "e5ad9047-e220-4f19-9d2e-e6253bff95c5",
   "metadata": {},
   "outputs": [],
   "source": [
    "f=\"v1.stats_bcftools\"\n",
    "tssum1<-tvsum1<-tssum2<-tvsum2<-c()\n",
    "for (i in names(table(data$Chr))){\n",
    "    tssum1<-c(tssum1,sum(data[(data$Chr==i) & (data$File==f),\"V2\"]))\n",
    "    tvsum1<-c(tvsum1,sum(data[(data$Chr==i) & (data$File==f),\"V3\"]))\n",
    "    tssum2<-c(tssum2,sum(data[(data$Chr==i) & (data$File==f),\"V4\"]))\n",
    "    tvsum2<-c(tvsum2,sum(data[(data$Chr==i) & (data$File==f),\"V5\"]))    \n",
    "}\n",
    "tstv1<-tssum1/tvsum1\n",
    "tstv2<-tssum2/tvsum2\n",
    "tstv<-cbind(tstv1,tstv2,chr=names(table(data$Chr)))\n",
    "tstv<-as.data.frame(tstv)\n",
    "tmp<-tstv[1:22,]\n",
    "tmp<-tmp[order(as.numeric(tmp$chr)),]\n",
    "tstv[1:22,]<-tmp\n",
    "barplot(rbind(as.numeric(tstv[,1]),as.numeric(tstv[,2])),beside=TRUE,ylab=\"Ave TsTv Ratio\", xlab=\"Chromosome\",cex.lab=1.5,cex.axis=1.5,cex=1.5,col=c(\"lightblue\", \"#276FBF\"),names.arg=tstv$chr)\n",
    "legend(\"topleft\", c(\"0-0.00005\",\"0.00005-\"), pch=15, col=c(\"lightblue\", \"#276FBF\"), bty=\"n\")"
   ]
  }
 ],
 "metadata": {
  "kernelspec": {
   "display_name": "R",
   "language": "R",
   "name": "ir"
  },
  "language_info": {
   "codemirror_mode": "r",
   "file_extension": ".r",
   "mimetype": "text/x-r-source",
   "name": "R",
   "pygments_lexer": "r",
   "version": "4.0.0"
  }
 },
 "nbformat": 4,
 "nbformat_minor": 5
}
