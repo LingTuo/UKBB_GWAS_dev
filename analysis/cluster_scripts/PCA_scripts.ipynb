{
 "cells": [
  {
   "cell_type": "markdown",
   "metadata": {
    "kernel": "SoS"
   },
   "source": [
    "# Scripts for diverse analyses"
   ]
  },
  {
   "cell_type": "markdown",
   "metadata": {
    "kernel": "SoS"
   },
   "source": [
    "This notebook applies the `Get_Job_Script.ipynb` to automatically generate the sbatch scripts to run in Yale's cluster. \n",
    "\n",
    "Here the scripts generated are to run:\n",
    "\n",
    "1. PCA analysis\n",
    "2. Detect missingness in plink files\n",
    "3. Extract SNPs/Individuals using Plink\n",
    "4. Run regenie burden MWE"
   ]
  },
  {
   "cell_type": "markdown",
   "metadata": {
    "kernel": "SoS"
   },
   "source": [
    "## File paths on Yale cluster\n",
    "- Genotype files exome data:\n",
    "`/gpfs/gibbs/pi/dewan/data/UKBiobank/genotype_files/ukb28374_exomedata/exome_data_OCT2020`\n",
    "- Genotype files in PLINK format:\n",
    "`/gpfs/gibbs/pi/dewan/data/UKBiobank/genotype_files/pleiotropy_geneticfiles/UKB_Caucasians_phenotypeindepqc120319_updated020720removedwithdrawnindiv`\n",
    "- Genotype files in bgen format:\n",
    "`SAY/dbgapstg/scratch/UKBiobank/genotype_files/ukb39554_imputeddataset/`\n",
    "- Summary stats for imputed variants BOLT-LMM:\n",
    "`/gpfs/gibbs/pi/dewan/data/UKBiobank/results/BOLTLMM_results/results_imputed_data`\n",
    "- Summary stats for inputed variants FastGWA:\n",
    "`/gpfs/gibbs/pi/dewan/data/UKBiobank/results/FastGWA_results/results_imputed_data`\n",
    "- Phenotype files:\n",
    "`/gpfs/gibbs/pi/dewan/data/UKBiobank/phenotype_files/pleiotropy_R01/phenotypesforanalysis/UKB_Caucasiansubset_cholesterolfields_adjbymedstatus_062420_foranalysis`\n",
    "- Relationship file:\n",
    "`/gpfs/gibbs/pi/dewan/data/UKBiobank/genotype_files/pleiotropy_geneticfiles/unrelated_n307259/UKB_unrelatedcauc_phenotypes_asthmat2dbmiwaisthip_agesex_waisthipratio_040620`\n",
    "- Other traits to be analyzed:\n",
    "`/gpfs/gibbs/pi/dewan/data/UKBiobank/phenotype_files/pleiotropy_R01/phenotypesforanalysis/UKB_CAUC_lipidsforanalysis_apolipoproteinAandB,Hba1c_continuousandcategorical,egfrbyCKDEPI,serumcreatinine,UACR_inverseranknorm_110320`"
   ]
  },
  {
   "cell_type": "code",
   "execution_count": 2,
   "metadata": {
    "kernel": "Bash"
   },
   "outputs": [
    {
     "name": "stdout",
     "output_type": "stream",
     "text": [
      "\n"
     ]
    }
   ],
   "source": [
    "# Common variables\n",
    "UKBB_PATH=/gpfs/gibbs/pi/dewan/data/UKBiobank\n",
    "USER_PATH=/home/dc2325/project\n",
    "OUT_PATH=/home/dc2325/project/UKBB_GWAS_dev/output\n",
    "tpl_file=$USER_PATH/UKBB_GWAS_dev/farnam.yml\n",
    "#pca_dir=/gpfs/gibbs/pi/dewan/data/UKBiobank/results/pca_exomes\n",
    "pca_dir=~/scratch60/pca\n",
    "famFile=$UKBB_PATH/genotype_files/ukb28374_exomedata/exome_data_OCT2020/ukb23155_s200631.fam\n",
    "# Use a subset of the exomed markers\n",
    "genoFile=`echo $UKBB_PATH/genotype_files/ukb28374_exomedata/exome_data_OCT2020/ukb23155_c{1..22}_b0_v1.bed`\n",
    "#Use the original bed files for the genotype array on regenie step1\n",
    "bfile=$UKBB_PATH/genotype_files/pleiotropy_geneticfiles/UKB_originalgenotypefilesdownloaded083019/UKB_genotypedatadownloaded083019.bed\n",
    "phenoFile=~/scratch60/pca/cache/ukb23155_s200631.non_white_white_outliers_11971ind.pheno\n",
    "database=$UKBB_PATH/phenotype_files/pleiotropy_R01/ukb42495_updatedJune2020/ukb42495.tab\n",
    "ethnia_prefix='non_white_white_outliers_11971ind'\n",
    "select_ethnia=2001,3001,4001,2002,3002,4002,2003,3003,4003,2004,3004,2,3,4,5,6,-3,-1\n",
    "# Container\n",
    "container_lmm=$UKBB_PATH/lmm.sif\n",
    "# Pipeline\n",
    "pca_sos=$USER_PATH/UKBB_GWAS_dev/workflow/PCA.ipynb\n",
    "# Name of bash script\n",
    "#pca_sbatch=../output/$(date +\"%Y-%m-%d\")_pca_non_white.sbatch\n",
    "pca_sbatch=../output/$(date +\"%Y-%m-%d\")_flashpca_non_white_whiteoutliers.sbatch\n",
    "numThreads=1\n",
    "job_size=1\n",
    "#PCA variables\n",
    "k=10\n",
    "maxiter=0\n",
    "topk=10\n",
    "sigma=6\n",
    "window=50\n",
    "shift=5\n",
    "r2=0.5"
   ]
  },
  {
   "cell_type": "markdown",
   "metadata": {
    "kernel": "Bash"
   },
   "source": [
    "## PCA jobs"
   ]
  },
  {
   "cell_type": "markdown",
   "metadata": {
    "kernel": "Bash"
   },
   "source": [
    "### 1. African ancestry"
   ]
  },
  {
   "cell_type": "code",
   "execution_count": 5,
   "metadata": {
    "kernel": "Bash"
   },
   "outputs": [
    {
     "name": "stdout",
     "output_type": "stream",
     "text": [
      "INFO: Running \u001b[32mfarnam\u001b[0m: Configuration for Yale `farnam` cluster\n",
      "INFO: \u001b[32mfarnam\u001b[0m is \u001b[32mcompleted\u001b[0m.\n",
      "INFO: \u001b[32mfarnam\u001b[0m output:   \u001b[32m/home/dc2325/project/UKBB_GWAS_dev/output/2021-02-22_flashpca_african.sbatch\u001b[0m\n",
      "INFO: Workflow farnam (ID=wd99c56feacb4bc44) is executed successfully with 1 completed step.\n",
      "\n"
     ]
    }
   ],
   "source": [
    "pca_dir=~/scratch60/pca/african_ancestry\n",
    "ethnia_prefix='african_3690ind'\n",
    "phenoFile=~/scratch60/pca/african_ancestry/cache/ukb23155_s200631.african_3690ind.pheno\n",
    "pca_sbatch=$OUT_PATH/$(date +\"%Y-%m-%d\")_flashpca_african.sbatch\n",
    "trait_name=ethnicity\n",
    "\n",
    "pca_args=\"\"\"flashpca\n",
    "    --cwd $pca_dir \n",
    "    --genoFile $genoFile\n",
    "    --famFile $famFile\n",
    "    --database $database\n",
    "    --ethnia_prefix $ethnia_prefix\n",
    "    --select_ethnia $select_ethnia\n",
    "    --phenoFile $phenoFile\n",
    "    --k $k\n",
    "    --maxiter $maxiter\n",
    "    --topk $topk\n",
    "    --sigma $sigma\n",
    "    --window $window\n",
    "    --shift $shift\n",
    "    --r2 $r2\n",
    "    --trait_name $trait_name\n",
    "    --numThreads $numThreads \n",
    "    --job_size $job_size\n",
    "    --container_lmm $container_lmm\n",
    "\"\"\"\n",
    "\n",
    "sos run ~/project/bioworkflows/GWAS/Get_Job_Script.ipynb farnam \\\n",
    "    --template-file $tpl_file \\\n",
    "    --workflow-file $pca_sos \\\n",
    "    --to-script $pca_sbatch \\\n",
    "    --args \"$pca_args\""
   ]
  },
  {
   "cell_type": "markdown",
   "metadata": {
    "kernel": "Bash"
   },
   "source": [
    "### 2. Asian ancestry"
   ]
  },
  {
   "cell_type": "code",
   "execution_count": 7,
   "metadata": {
    "kernel": "Bash"
   },
   "outputs": [
    {
     "name": "stdout",
     "output_type": "stream",
     "text": [
      "INFO: Running \u001b[32mfarnam\u001b[0m: Configuration for Yale `farnam` cluster\n",
      "INFO: \u001b[32mfarnam\u001b[0m is \u001b[32mcompleted\u001b[0m.\n",
      "INFO: \u001b[32mfarnam\u001b[0m output:   \u001b[32m/home/dc2325/project/UKBB_GWAS_dev/output/2021-02-22_flashpca_asian.sbatch\u001b[0m\n",
      "INFO: Workflow farnam (ID=wd32c86713853144c) is executed successfully with 1 completed step.\n",
      "\n"
     ]
    }
   ],
   "source": [
    "pca_dir=~/scratch60/pca/asian_ancestry\n",
    "ethnia_prefix='asian_4618ind'\n",
    "phenoFile=~/scratch60/pca/asian_ancestry/cache/ukb23155_s200631.asian_4618ind.pheno\n",
    "pca_sbatch=$OUT_PATH/$(date +\"%Y-%m-%d\")_flashpca_asian.sbatch\n",
    "trait_name=ethnicity\n",
    "\n",
    "pca_args=\"\"\"flashpca\n",
    "    --cwd $pca_dir \n",
    "    --genoFile $genoFile\n",
    "    --famFile $famFile\n",
    "    --database $database\n",
    "    --ethnia_prefix $ethnia_prefix\n",
    "    --select_ethnia $select_ethnia\n",
    "    --phenoFile $phenoFile\n",
    "    --k $k\n",
    "    --maxiter $maxiter\n",
    "    --topk $topk\n",
    "    --sigma $sigma\n",
    "    --window $window\n",
    "    --shift $shift\n",
    "    --r2 $r2\n",
    "    --trait_name $trait_name\n",
    "    --numThreads $numThreads \n",
    "    --job_size $job_size\n",
    "    --container_lmm $container_lmm\n",
    "\"\"\"\n",
    "\n",
    "sos run ~/project/bioworkflows/GWAS/Get_Job_Script.ipynb farnam \\\n",
    "    --template-file $tpl_file \\\n",
    "    --workflow-file $pca_sos \\\n",
    "    --to-script $pca_sbatch \\\n",
    "    --args \"$pca_args\""
   ]
  },
  {
   "cell_type": "code",
   "execution_count": 39,
   "metadata": {
    "kernel": "Bash"
   },
   "outputs": [
    {
     "name": "stdout",
     "output_type": "stream",
     "text": [
      "INFO: Checking \u001b[32mking\u001b[0m: Inference of relationships in the sample to remove closely related individuals\n",
      "HINT: singularity exec  /gpfs/gibbs/pi/dewan/data/UKBiobank/lmm.sif /bin/bash /gpfs/ysm/project/dewan/dc2325/UKBB_GWAS_dev/analysis/cluster_scripts/tmpo8bsz_hf/singularity_run_226211.sh\n",
      "plink2 \\\n",
      "  --bfile /gpfs/gibbs/pi/dewan/data/UKBiobank/MWE/genotypes21_22 \\\n",
      "  --make-king-table \\\n",
      "  --threads 2 \\\n",
      "  --out /home/dc2325/scratch60/pca/genotypes21_22 \n",
      "\n",
      "\n",
      "HINT: singularity exec  /gpfs/gibbs/pi/dewan/data/UKBiobank/lmm.sif Rscript /gpfs/ysm/project/dewan/dc2325/UKBB_GWAS_dev/analysis/cluster_scripts/tmp2itnm3gk/singularity_run_226211.R\n",
      "library(dplyr)\n",
      "kin0 <- read.table('/home/dc2325/scratch60/pca/genotypes21_22.kin0', header=F)\n",
      "colnames(kin0) <- c(\"FID1\",\"ID1\",\"FID2\",\"ID2\",\"NSNP\",\"HETHET\",\"IBS0\",\"KINSHIP\")\n",
      "rel <- kin0 %>%\n",
      "    filter(KINSHIP >= 0.05)\n",
      "cat(\"There are\", nrow(rel),\"related individuals using a kinship threshold of 0.05\\n\")\n",
      "IID <- sort(unique(unlist(rel[, c(\"ID1\", \"ID2\")])))\n",
      "df <- data.frame(IID)\n",
      "write.table(df,'/home/dc2325/scratch60/pca/genotypes21_22.related_id', row.names=FALSE, col.names=FALSE)\n",
      "\n",
      "\n",
      "INFO: \u001b[32mking\u001b[0m is \u001b[32mcompleted\u001b[0m.\n",
      "INFO: \u001b[32mking\u001b[0m output:   \u001b[32m/home/dc2325/scratch60/pca/genotypes21_22.kin0 /home/dc2325/scratch60/pca/genotypes21_22.related_id\u001b[0m\n",
      "INFO: Checking \u001b[32mfilter_1\u001b[0m: Filter SNPs with MAF>1% for PCA analysis, select individuals and merge bed into one file\n",
      "HINT: singularity exec  /gpfs/gibbs/pi/dewan/data/UKBiobank/lmm.sif /bin/bash /gpfs/ysm/project/dewan/dc2325/UKBB_GWAS_dev/analysis/cluster_scripts/tmpxv9s8zsa/singularity_run_226211.sh\n",
      "plink2 \\\n",
      "  --bfile /gpfs/gibbs/pi/dewan/data/UKBiobank/MWE/burden/ukb23155_c21_b0_v1.plink.exome.filtered \\\n",
      "  --maf 0.01 --geno 0.1 --hwe 5e-08 --mind 0.2 \\\n",
      "  --keep /gpfs/gibbs/pi/dewan/data/UKBiobank/MWE/burden/unrelated_ind_burden.txt\\ \n",
      "  --make-bed \\\n",
      "  --threads 2 \\\n",
      "  --out /home/dc2325/scratch60/pca/cache/ukb23155_c21_b0_v1.plink.exome.filtered.filtered \n",
      "\n",
      "\n",
      "INFO: \u001b[32mfilter_1\u001b[0m (index=0) is \u001b[32mcompleted\u001b[0m.\n",
      "HINT: singularity exec  /gpfs/gibbs/pi/dewan/data/UKBiobank/lmm.sif /bin/bash /gpfs/ysm/project/dewan/dc2325/UKBB_GWAS_dev/analysis/cluster_scripts/tmpyrhvrx5f/singularity_run_226211.sh\n",
      "plink2 \\\n",
      "  --bfile /gpfs/gibbs/pi/dewan/data/UKBiobank/MWE/burden/ukb23155_c22_b0_v1.plink.exome.filtered \\\n",
      "  --maf 0.01 --geno 0.1 --hwe 5e-08 --mind 0.2 \\\n",
      "  --keep /gpfs/gibbs/pi/dewan/data/UKBiobank/MWE/burden/unrelated_ind_burden.txt\\ \n",
      "  --make-bed \\\n",
      "  --threads 2 \\\n",
      "  --out /home/dc2325/scratch60/pca/cache/ukb23155_c22_b0_v1.plink.exome.filtered.filtered \n",
      "\n",
      "\n",
      "INFO: \u001b[32mfilter_1\u001b[0m (index=1) is \u001b[32mcompleted\u001b[0m.\n",
      "INFO: \u001b[32mfilter_1\u001b[0m output:   \u001b[32m/home/dc2325/scratch60/pca/cache/ukb23155_c21_b0_v1.plink.exome.filtered.filtered.bed /home/dc2325/scratch60/pca/cache/ukb23155_c22_b0_v1.plink.exome.filtered.filtered.bed in 2 groups\u001b[0m\n",
      "INFO: Checking \u001b[32mfilter_2\u001b[0m: Merge all the .bed files into one bed file\n",
      "HINT: singularity exec  /gpfs/gibbs/pi/dewan/data/UKBiobank/lmm.sif /bin/bash /gpfs/ysm/project/dewan/dc2325/UKBB_GWAS_dev/analysis/cluster_scripts/tmp3ulomuop/singularity_run_226211.sh\n",
      "echo -e /home/dc2325/scratch60/pca/cache/ukb23155_c22_b0_v1.plink.exome.filtered.filtered | sed 's/ /\\n/g' > /home/dc2325/scratch60/pca/cache/phenotype_burden.filtered.merged.merge_list\n",
      "plink \\\n",
      "--bfile /home/dc2325/scratch60/pca/cache/ukb23155_c21_b0_v1.plink.exome.filtered.filtered \\\n",
      "--merge-list /home/dc2325/scratch60/pca/cache/phenotype_burden.filtered.merged.merge_list \\\n",
      "--make-bed \\\n",
      "--out /home/dc2325/scratch60/pca/cache/phenotype_burden.filtered.merged \\\n",
      "--threads 2 \\\n",
      "--memory 48000\n",
      "\n",
      "\n",
      "INFO: \u001b[32mfilter_2\u001b[0m is \u001b[32mcompleted\u001b[0m.\n",
      "INFO: \u001b[32mfilter_2\u001b[0m output:   \u001b[32m/home/dc2325/scratch60/pca/cache/phenotype_burden.filtered.merged.bed\u001b[0m\n",
      "INFO: Checking \u001b[32mfilter_3\u001b[0m: LD prunning window=50, shift-window every 10 SNPS, r2=0.1\n",
      "HINT: singularity exec  /gpfs/gibbs/pi/dewan/data/UKBiobank/lmm.sif /bin/bash /gpfs/ysm/project/dewan/dc2325/UKBB_GWAS_dev/analysis/cluster_scripts/tmpvobd7r5i/singularity_run_226211.sh\n",
      "plink \\\n",
      "--bfile /home/dc2325/scratch60/pca/cache/phenotype_burden.filtered.merged \\\n",
      "--indep-pairwise 50 5 0.5  \\\n",
      "--out /home/dc2325/scratch60/pca/cache/phenotype_burden.filtered.merged \\\n",
      "--threads 2 \\\n",
      "--memory 48000\n",
      "\n",
      "plink \\\n",
      "--bfile /home/dc2325/scratch60/pca/cache/phenotype_burden.filtered.merged \\\n",
      "--extract /home/dc2325/scratch60/pca/cache/phenotype_burden.filtered.merged.prune.in \\\n",
      "--remove /home/dc2325/scratch60/pca/genotypes21_22.related_id \\\n",
      "--make-bed \\\n",
      "--out /home/dc2325/scratch60/pca/phenotype_burden.filtered.merged.prune \n",
      "\n",
      "\n",
      "INFO: \u001b[32mfilter_3\u001b[0m is \u001b[32mcompleted\u001b[0m.\n",
      "INFO: \u001b[32mfilter_3\u001b[0m output:   \u001b[32m/home/dc2325/scratch60/pca/cache/phenotype_burden.filtered.merged.prune.in /home/dc2325/scratch60/pca/phenotype_burden.filtered.merged.prune.bed\u001b[0m\n",
      "INFO: Workflow filter (ID=w763f686c0f7a8cf2) is tested successfully with 4 completed steps and 5 completed substeps.\n",
      "\n"
     ]
    }
   ],
   "source": [
    "bfile=$UKBB_PATH/MWE/genotypes21_22.bed\n",
    "genoFile=$UKBB_PATH/MWE/burden/ukb23155_c2*_b0_v1.plink.exome.filtered.bed\n",
    "keep_samples=$UKBB_PATH/MWE/burden/unrelated_ind_burden.txt\n",
    "phenoFile=$UKBB_PATH/MWE/burden/phenotype_burden.txt\n",
    "famFile=$UKBB_PATH/MWE/burden/ukb23155_c21_b0_v1.plink.exome.filtered.fam\n",
    "kinship=0.05\n",
    "maf_filter=0.01\n",
    "geno_filter=0.1\n",
    "mind_filter=0.2 \n",
    "hwe_filter=5e-08 \n",
    "numThreads=2\n",
    "\n",
    "sos dryrun ~/project/UKBB_GWAS_dev/workflow/PCA.ipynb filter\\\n",
    "    --cwd $pca_dir \\\n",
    "    --bfile $bfile \\\n",
    "    --genoFile $genoFile \\\n",
    "    --keep_samples $keep_samples \\\n",
    "    --kinship $kinship \\\n",
    "    --phenoFile $phenoFile \\\n",
    "    --famFile $famFile \\\n",
    "    --window $window \\\n",
    "    --shift $shift \\\n",
    "    --r2 $r2 \\\n",
    "    --maf_filter $maf_filter\\\n",
    "    --geno_filter $geno_filter\\\n",
    "    --mind_filter $mind_filter \\\n",
    "    --hwe_filter $hwe_filter \\\n",
    "    --numThreads $numThreads \\\n",
    "    --job_size $job_size \\\n",
    "    --container_lmm $container_lmm"
   ]
  },
  {
   "cell_type": "code",
   "execution_count": null,
   "metadata": {
    "kernel": "Bash"
   },
   "outputs": [],
   "source": [
    "tpl_file=../farnam.yml\n",
    "pca_dir=/gpfs/gibbs/pi/dewan/data/UKBiobank/results/pca_exomes\n",
    "famFile=/gpfs/gibbs/pi/dewan/data/UKBiobank/genotype_files/ukb28374_exomedata/exome_data_OCT2020/ukb23155_s200631.fam\n",
    "bedfiles=`echo /gpfs/gibbs/pi/dewan/data/UKBiobank/genotype_files/ukb28374_exomedata/exome_data_OCT2020/ukb23155_c{1..22}_b0_v1.bed`\n",
    "bimfiles=`echo /gpfs/gibbs/pi/dewan/data/UKBiobank/genotype_files/ukb28374_exomedata/exome_data_OCT2020/UKBexomeOQFE_chr{1..22}.bim`\n",
    "database=/gpfs/gibbs/pi/dewan/data/UKBiobank/phenotype_files/pleiotropy_R01/ukb42495_updatedJune2020/ukb42495.tab\n",
    "# Container\n",
    "container_lmm=/gpfs/gibbs/pi/dewan/data/UKBiobank/lmm.sif\n",
    "# Pipeline\n",
    "pca_sos=~/project/UKBB_GWAS_dev/PCA.ipynb\n",
    "# Name of bash script\n",
    "pca_sbatch=../output/$(date +\"%Y-%m-%d\")_pca_white.sbatch\n",
    "numThreads=1\n",
    "job_size=1\n",
    "#PCA variables\n",
    "k=10\n",
    "maxiter=5\n",
    "topk=10\n",
    "sigma=6\n",
    "window=50\n",
    "shift=5\n",
    "r2=0.5\n",
    "stand=\"binom2\"\n",
    "maf_filter=0.01\n",
    "geno_filter=0.01\n",
    "mind_filter=0.02\n",
    "\n",
    "sos run ~/project/UKBB_GWAS_dev/PCA.ipynb smartpca \\\n",
    "    --cwd $pca_dir \\\n",
    "    --bedfiles $bedfiles \\\n",
    "    --bimfiles $bimfiles \\\n",
    "    --famFile $famFile \\\n",
    "    --database $database \\\n",
    "    --k $k \\\n",
    "    --stand $stand \\\n",
    "    --maxiter $maxiter \\\n",
    "    --topk $topk \\\n",
    "    --sigma $sigma \\\n",
    "    --window $window \\\n",
    "    --shift $shift \\\n",
    "    --r2 $r2 \\\n",
    "    --maf_filter $maf_filter\\\n",
    "    --geno_filter $geno_filter\\\n",
    "    --mind_filter $mind_filter \\\n",
    "    --numThreads $numThreads \\\n",
    "    --job_size $job_size \\\n",
    "    --container_lmm $container_lmm \\\n",
    "    -s build"
   ]
  },
  {
   "cell_type": "code",
   "execution_count": null,
   "metadata": {
    "kernel": "Bash"
   },
   "outputs": [],
   "source": [
    "    smartpca.perl \\\n",
    "    -i example.geno \\\n",
    "    -a example.snp \\\n",
    "    -b example.ind \\\n",
    "    -k 2 \\\n",
    "    -o example.pca \\\n",
    "    -p example.plot \\\n",
    "    -e example.eval \\\n",
    "    -l example.log \\\n",
    "    -m 5 \\\n",
    "    -t 2 \\\n",
    "    -s 6.0"
   ]
  },
  {
   "cell_type": "code",
   "execution_count": null,
   "metadata": {
    "kernel": "Bash"
   },
   "outputs": [],
   "source": [
    "par.PACKEDPED.EIGENSTRAT\n",
    "genotypename:    ukb23155_s200631.filtered.merged.bed\n",
    "snpname:         ukb23155_s200631.filtered.merged.bim\n",
    "indivname:       ukb23155_s200631.filtered.merged.fam\n",
    "outputformat:    EIGENSTRAT\n",
    "genotypeoutname: ukb23155_s200631.filtered.merged.eigenstratgeno\n",
    "snpoutname:      ukb23155_s200631.filtered.merged.snp\n",
    "indivoutname:    ukb23155_s200631.filtered.merged.ind"
   ]
  },
  {
   "cell_type": "code",
   "execution_count": null,
   "metadata": {
    "kernel": "Bash"
   },
   "outputs": [],
   "source": [
    "#!/bin/bash\n",
    "#SBATCH --partition general\n",
    "#SBATCH --nodes 1\n",
    "#SBATCH --ntasks-per-node 1\n",
    "#SBATCH --cpus-per-task 1\n",
    "#SBATCH --mem 60G\n",
    "#SBATCH --time 5-0:00:00\n",
    "#SBATCH --job-name ../output/2020-12-01_pca_white\n",
    "#SBATCH --output ../output/2020-12-01_pca_white-%J.out\n",
    "#SBATCH --error ../output/2020-12-01_pca_white-%J.log\n",
    "module load EIGENSOFT/7.2.1-foss-2018b\n",
    "smartpca.perl -i ukb23155_s200631.filtered.merged.bed -a ukb23155_s200631.filtered.merged.pedsnp -b ukb23155_s200631.filtered.merged.pedind -o ukb23155_s200631.filtered.merged.pca -p ukb23155_s200631.filtered.merged.plot -e ukb23155_s200631.filtered.eval -l ukb23155_s200631.filtered.merged.log"
   ]
  },
  {
   "cell_type": "markdown",
   "metadata": {
    "kernel": "Bash"
   },
   "source": [
    "# Running plink missing pipeline"
   ]
  },
  {
   "cell_type": "code",
   "execution_count": 36,
   "metadata": {
    "kernel": "Bash"
   },
   "outputs": [
    {
     "name": "stdout",
     "output_type": "stream",
     "text": [
      "INFO: Running \u001b[32mmissing_1\u001b[0m: Genotype and sample missingness for exome files\n",
      "INFO: Step \u001b[32mmissing_1\u001b[0m (index=0) is \u001b[32mignored\u001b[0m with signature constructed\n",
      "INFO: Step \u001b[32mmissing_1\u001b[0m (index=1) is \u001b[32mignored\u001b[0m with signature constructed\n",
      "INFO: Step \u001b[32mmissing_1\u001b[0m (index=2) is \u001b[32mignored\u001b[0m with signature constructed\n",
      "INFO: Step \u001b[32mmissing_1\u001b[0m (index=3) is \u001b[32mignored\u001b[0m with signature constructed\n",
      "INFO: Step \u001b[32mmissing_1\u001b[0m (index=4) is \u001b[32mignored\u001b[0m with signature constructed\n",
      "INFO: Step \u001b[32mmissing_1\u001b[0m (index=5) is \u001b[32mignored\u001b[0m with signature constructed\n",
      "INFO: Step \u001b[32mmissing_1\u001b[0m (index=6) is \u001b[32mignored\u001b[0m with signature constructed\n",
      "INFO: Step \u001b[32mmissing_1\u001b[0m (index=7) is \u001b[32mignored\u001b[0m with signature constructed\n",
      "INFO: Step \u001b[32mmissing_1\u001b[0m (index=8) is \u001b[32mignored\u001b[0m with signature constructed\n",
      "INFO: Step \u001b[32mmissing_1\u001b[0m (index=9) is \u001b[32mignored\u001b[0m with signature constructed\n",
      "INFO: Step \u001b[32mmissing_1\u001b[0m (index=10) is \u001b[32mignored\u001b[0m with signature constructed\n",
      "INFO: Step \u001b[32mmissing_1\u001b[0m (index=11) is \u001b[32mignored\u001b[0m with signature constructed\n",
      "INFO: Step \u001b[32mmissing_1\u001b[0m (index=12) is \u001b[32mignored\u001b[0m with signature constructed\n",
      "INFO: Step \u001b[32mmissing_1\u001b[0m (index=13) is \u001b[32mignored\u001b[0m with signature constructed\n",
      "INFO: Step \u001b[32mmissing_1\u001b[0m (index=14) is \u001b[32mignored\u001b[0m with signature constructed\n",
      "INFO: Step \u001b[32mmissing_1\u001b[0m (index=15) is \u001b[32mignored\u001b[0m with signature constructed\n",
      "INFO: Step \u001b[32mmissing_1\u001b[0m (index=16) is \u001b[32mignored\u001b[0m with signature constructed\n",
      "INFO: Step \u001b[32mmissing_1\u001b[0m (index=17) is \u001b[32mignored\u001b[0m with signature constructed\n",
      "INFO: Step \u001b[32mmissing_1\u001b[0m (index=18) is \u001b[32mignored\u001b[0m with signature constructed\n",
      "INFO: Step \u001b[32mmissing_1\u001b[0m (index=19) is \u001b[32mignored\u001b[0m with signature constructed\n",
      "INFO: Step \u001b[32mmissing_1\u001b[0m (index=20) is \u001b[32mignored\u001b[0m with signature constructed\n",
      "INFO: Step \u001b[32mmissing_1\u001b[0m (index=21) is \u001b[32mignored\u001b[0m with signature constructed\n",
      "INFO: \u001b[32mmissing_1\u001b[0m output:   \u001b[32m/gpfs/gibbs/pi/dewan/data/UKBiobank/results/pca_exomes/ukb23155_c1_b0_v1.imiss /gpfs/gibbs/pi/dewan/data/UKBiobank/results/pca_exomes/ukb23155_c1_b0_v1.lmiss... (88 items in 22 groups)\u001b[0m\n",
      "INFO: Running \u001b[32mmissing_2\u001b[0m: Generate plots to understand patterns of missing data\n",
      "1783906 variants loaded from .bim file.\n",
      "INFO: \u001b[32mmissing_2\u001b[0m (index=0) is \u001b[32mcompleted\u001b[0m.\n",
      "1310712 variants loaded from .bim file.\n",
      "INFO: \u001b[32mmissing_2\u001b[0m (index=1) is \u001b[32mcompleted\u001b[0m.\n",
      "1039941 variants loaded from .bim file.\n",
      "INFO: \u001b[32mmissing_2\u001b[0m (index=2) is \u001b[32mcompleted\u001b[0m.\n",
      "717783 variants loaded from .bim file.\n",
      "INFO: \u001b[32mmissing_2\u001b[0m (index=3) is \u001b[32mcompleted\u001b[0m.\n",
      "790760 variants loaded from .bim file.\n",
      "INFO: \u001b[32mmissing_2\u001b[0m (index=4) is \u001b[32mcompleted\u001b[0m.\n",
      "887003 variants loaded from .bim file.\n",
      "INFO: \u001b[32mmissing_2\u001b[0m (index=5) is \u001b[32mcompleted\u001b[0m.\n",
      "858981 variants loaded from .bim file.\n",
      "INFO: \u001b[32mmissing_2\u001b[0m (index=6) is \u001b[32mcompleted\u001b[0m.\n",
      "654090 variants loaded from .bim file.\n",
      "INFO: \u001b[32mmissing_2\u001b[0m (index=7) is \u001b[32mcompleted\u001b[0m.\n",
      "774556 variants loaded from .bim file.\n",
      "INFO: \u001b[32mmissing_2\u001b[0m (index=8) is \u001b[32mcompleted\u001b[0m.\n",
      "733427 variants loaded from .bim file.\n",
      "INFO: \u001b[32mmissing_2\u001b[0m (index=9) is \u001b[32mcompleted\u001b[0m.\n",
      "1059628 variants loaded from .bim file.\n",
      "INFO: \u001b[32mmissing_2\u001b[0m (index=10) is \u001b[32mcompleted\u001b[0m.\n",
      "950532 variants loaded from .bim file.\n",
      "INFO: \u001b[32mmissing_2\u001b[0m (index=11) is \u001b[32mcompleted\u001b[0m.\n",
      "320631 variants loaded from .bim file.\n",
      "INFO: \u001b[32mmissing_2\u001b[0m (index=12) is \u001b[32mcompleted\u001b[0m.\n",
      "557237 variants loaded from .bim file.\n",
      "INFO: \u001b[32mmissing_2\u001b[0m (index=13) is \u001b[32mcompleted\u001b[0m.\n",
      "620095 variants loaded from .bim file.\n",
      "INFO: \u001b[32mmissing_2\u001b[0m (index=14) is \u001b[32mcompleted\u001b[0m.\n",
      "875192 variants loaded from .bim file.\n",
      "INFO: \u001b[32mmissing_2\u001b[0m (index=15) is \u001b[32mcompleted\u001b[0m.\n",
      "1047224 variants loaded from .bim file.\n",
      "INFO: \u001b[32mmissing_2\u001b[0m (index=16) is \u001b[32mcompleted\u001b[0m.\n",
      "286694 variants loaded from .bim file.\n",
      "INFO: \u001b[32mmissing_2\u001b[0m (index=17) is \u001b[32mcompleted\u001b[0m.\n",
      "1210652 variants loaded from .bim file.\n",
      "INFO: \u001b[32mmissing_2\u001b[0m (index=18) is \u001b[32mcompleted\u001b[0m.\n",
      "459900 variants loaded from .bim file.\n",
      "INFO: \u001b[32mmissing_2\u001b[0m (index=19) is \u001b[32mcompleted\u001b[0m.\n",
      "195726 variants loaded from .bim file.\n",
      "INFO: \u001b[32mmissing_2\u001b[0m (index=20) is \u001b[32mcompleted\u001b[0m.\n",
      "414980 variants loaded from .bim file.\n",
      "INFO: \u001b[32mmissing_2\u001b[0m (index=21) is \u001b[32mcompleted\u001b[0m.\n",
      "INFO: \u001b[32mmissing_2\u001b[0m output:   \u001b[32m/gpfs/gibbs/pi/dewan/data/UKBiobank/results/pca_exomes/ukb23155_c1_b0_v1.missing.md /gpfs/gibbs/pi/dewan/data/UKBiobank/results/pca_exomes/ukb23155_c1_b0_v1.imiss.png... (88 items in 22 groups)\u001b[0m\n",
      "INFO: Running \u001b[32mmissing_3\u001b[0m: Generate markdown file\n",
      "INFO: \u001b[32mmissing_3\u001b[0m (index=0) is \u001b[32mcompleted\u001b[0m.\n",
      "INFO: \u001b[32mmissing_3\u001b[0m (index=1) is \u001b[32mcompleted\u001b[0m.\n",
      "INFO: \u001b[32mmissing_3\u001b[0m (index=2) is \u001b[32mcompleted\u001b[0m.\n",
      "INFO: \u001b[32mmissing_3\u001b[0m (index=3) is \u001b[32mcompleted\u001b[0m.\n",
      "INFO: \u001b[32mmissing_3\u001b[0m (index=4) is \u001b[32mcompleted\u001b[0m.\n",
      "INFO: \u001b[32mmissing_3\u001b[0m (index=5) is \u001b[32mcompleted\u001b[0m.\n",
      "INFO: \u001b[32mmissing_3\u001b[0m (index=6) is \u001b[32mcompleted\u001b[0m.\n",
      "INFO: \u001b[32mmissing_3\u001b[0m (index=7) is \u001b[32mcompleted\u001b[0m.\n",
      "INFO: \u001b[32mmissing_3\u001b[0m (index=8) is \u001b[32mcompleted\u001b[0m.\n",
      "INFO: \u001b[32mmissing_3\u001b[0m (index=9) is \u001b[32mcompleted\u001b[0m.\n",
      "INFO: \u001b[32mmissing_3\u001b[0m (index=10) is \u001b[32mcompleted\u001b[0m.\n",
      "INFO: \u001b[32mmissing_3\u001b[0m (index=11) is \u001b[32mcompleted\u001b[0m.\n",
      "INFO: \u001b[32mmissing_3\u001b[0m (index=12) is \u001b[32mcompleted\u001b[0m.\n",
      "INFO: \u001b[32mmissing_3\u001b[0m (index=13) is \u001b[32mcompleted\u001b[0m.\n",
      "INFO: \u001b[32mmissing_3\u001b[0m (index=14) is \u001b[32mcompleted\u001b[0m.\n",
      "INFO: \u001b[32mmissing_3\u001b[0m (index=15) is \u001b[32mcompleted\u001b[0m.\n",
      "INFO: \u001b[32mmissing_3\u001b[0m (index=16) is \u001b[32mcompleted\u001b[0m.\n",
      "INFO: \u001b[32mmissing_3\u001b[0m (index=17) is \u001b[32mcompleted\u001b[0m.\n",
      "INFO: \u001b[32mmissing_3\u001b[0m (index=18) is \u001b[32mcompleted\u001b[0m.\n",
      "INFO: \u001b[32mmissing_3\u001b[0m (index=19) is \u001b[32mcompleted\u001b[0m.\n",
      "INFO: \u001b[32mmissing_3\u001b[0m (index=20) is \u001b[32mcompleted\u001b[0m.\n",
      "INFO: \u001b[32mmissing_3\u001b[0m (index=21) is \u001b[32mcompleted\u001b[0m.\n",
      "INFO: Running \u001b[32mmissing_4\u001b[0m: Generate analysis report: HTML file, and optionally PPTX file\n",
      "INFO: \u001b[32mmissing_4\u001b[0m is \u001b[32mcompleted\u001b[0m.\n",
      "INFO: \u001b[32mmissing_4\u001b[0m output:   \u001b[32m/gpfs/gibbs/pi/dewan/data/UKBiobank/results/pca_exomes/ukb23155.merged.html\u001b[0m\n",
      "INFO: Workflow missing (ID=w0e3348cee7472d97) is executed successfully with 3 completed steps, 45 completed substeps, 1 ignored step and 22 ignored substeps.\n",
      "\n"
     ]
    }
   ],
   "source": [
    "tpl_file=../farnam.yml\n",
    "pca_dir=/gpfs/gibbs/pi/dewan/data/UKBiobank/results/pca_exomes\n",
    "famFile=/gpfs/gibbs/pi/dewan/data/UKBiobank/genotype_files/ukb28374_exomedata/exome_data_OCT2020/ukb23155_s200631.fam\n",
    "bedfiles=`echo /gpfs/gibbs/pi/dewan/data/UKBiobank/genotype_files/ukb28374_exomedata/exome_data_OCT2020/ukb23155_c{1..22}_b0_v1.bed`\n",
    "bimfiles=`echo /gpfs/gibbs/pi/dewan/data/UKBiobank/genotype_files/ukb28374_exomedata/exome_data_OCT2020/UKBexomeOQFE_chr{1..22}.bim`\n",
    "# Container\n",
    "container_lmm=/gpfs/gibbs/pi/dewan/data/UKBiobank/lmm.sif\n",
    "container_marp=/gpfs/gibbs/pi/dewan/data/UKBiobank/marp.sif\n",
    "# Pipeline\n",
    "plink_sos=~/project/UKBB_GWAS_dev/workflow/plink_missing.ipynb\n",
    "# Name of bash script\n",
    "pca_sbatch=../output/$(date +\"%Y-%m-%d\")_plink_miss.sbatch\n",
    "numThreads=1\n",
    "job_size=1\n",
    "\n",
    "\n",
    "sos run ~/project/UKBB_GWAS_dev/workflow/plink_missing.ipynb missing\\\n",
    "    --cwd $pca_dir \\\n",
    "    --bedfiles $bedfiles \\\n",
    "    --bimfiles $bimfiles \\\n",
    "    --famFile $famFile \\\n",
    "    --numThreads $numThreads \\\n",
    "    --job_size $job_size \\\n",
    "    --container_lmm $container_lmm \\\n",
    "    --container_marp $container_marp \\\n",
    "    -s build"
   ]
  },
  {
   "cell_type": "markdown",
   "metadata": {
    "kernel": "Bash"
   },
   "source": [
    "## Extracting individuals for a particular snp plink"
   ]
  },
  {
   "cell_type": "code",
   "execution_count": 37,
   "metadata": {
    "kernel": "Bash"
   },
   "outputs": [
    {
     "name": "stdout",
     "output_type": "stream",
     "text": [
      "\u001b[91mERROR\u001b[0m: \u001b[91mFailed to locate /home/dc2325/project/UKBB_GWAS_dev/plink_extract.ipynb.sos\u001b[0m\n",
      "\n"
     ]
    }
   ],
   "source": [
    "tpl_file=../farnam.yml\n",
    "pca_dir=/home/dc2325/scratch60/plink_extract\n",
    "famFile=/gpfs/gibbs/pi/dewan/data/UKBiobank/genotype_files/ukb28374_exomedata/exome_data_OCT2020/ukb23155_s200631.fam\n",
    "bedfiles=/gpfs/gibbs/pi/dewan/data/UKBiobank/genotype_files/ukb28374_exomedata/exome_data_OCT2020/ukb23155_c12_b0_v1.bed\n",
    "bimfiles=/gpfs/gibbs/pi/dewan/data/UKBiobank/genotype_files/ukb28374_exomedata/exome_data_OCT2020/UKBexomeOQFE_chr12.bim\n",
    "snp_list=/home/dc2325/scratch60/plink_extract/snp.txt\n",
    "# Container\n",
    "container_lmm=/gpfs/gibbs/pi/dewan/data/UKBiobank/lmm.sif\n",
    "container_marp=/gpfs/gibbs/pi/dewan/data/UKBiobank/marp.sif\n",
    "# Pipeline\n",
    "plink_sos=~/project/UKBB_GWAS_dev/plink_extract.ipynb\n",
    "# Name of bash script\n",
    "pca_sbatch=../output/$(date +\"%Y-%m-%d\")_plink_miss.sbatch\n",
    "numThreads=1\n",
    "job_size=1\n",
    "\n",
    "\n",
    "sos run ~/project/UKBB_GWAS_dev/plink_extract.ipynb  \\\n",
    "    --cwd $pca_dir \\\n",
    "    --bedfiles $bedfiles \\\n",
    "    --bimfiles $bimfiles \\\n",
    "    --famFile $famFile \\\n",
    "    --snp_list $snp_list \\\n",
    "    --numThreads $numThreads \\\n",
    "    --job_size $job_size \\\n",
    "    --container_lmm $container_lmm \\\n",
    "    --container_marp $container_marp"
   ]
  },
  {
   "cell_type": "markdown",
   "metadata": {
    "kernel": "Bash"
   },
   "source": [
    "## Regenie burden"
   ]
  },
  {
   "cell_type": "code",
   "execution_count": 23,
   "metadata": {
    "kernel": "Bash"
   },
   "outputs": [
    {
     "name": "stdout",
     "output_type": "stream",
     "text": [
      "INFO: Checking \u001b[32mregenie_burden\u001b[0m: Run regenie for burden tests\n",
      "HINT: singularity exec  /gpfs/gibbs/pi/dewan/data/UKBiobank/lmm.sif /bin/bash /gpfs/ysm/project/dewan/dc2325/UKBB_GWAS_dev/analysis/tmph24c8d72/singularity_run_193934.sh\n",
      "set -e\n",
      "regenie \\\n",
      "  --step 2 \\\n",
      "  --bed /gpfs/gibbs/pi/dewan/data/UKBiobank/MWE/burden/ukb23155_c21_b0_v1.plink.exome.filtered \\\n",
      "  --phenoFile output/phenotype_burden.regenie_phenotype \\\n",
      "  --covarFile output/phenotype_burden.regenie_covar \\\n",
      "  --phenoColList ASTHMA \\\n",
      "  --bt\n",
      "  --firth --approx \\\n",
      "  --pred output/phenotype_burden_ASTHMA.regenie_pred.list \\\n",
      "  --anno-file burden/annotation_file.txt \\\n",
      "  --set-list burden/set_list_file.txt \\\n",
      "  --extract-sets burden/keep_file.txt\\\n",
      "  --mask-def burden/mask_file.txt \\\n",
      "  --aaf-bins 0.05 \\\n",
      "  --write-mask \\\n",
      "  --build-mask \\\n",
      "  --bsize 10 \\\n",
      "  --check-burden-files \\\n",
      "  --gz \\\n",
      "  --out  output/cache/ukb23155_c21_b0_v1.plink.exome.filtered.burden\n",
      "\n",
      "\n",
      "INFO: \u001b[32mregenie_burden\u001b[0m (index=0) is \u001b[32mcompleted\u001b[0m.\n",
      "HINT: singularity exec  /gpfs/gibbs/pi/dewan/data/UKBiobank/lmm.sif /bin/bash /gpfs/ysm/project/dewan/dc2325/UKBB_GWAS_dev/analysis/tmpeg8za31c/singularity_run_193934.sh\n",
      "set -e\n",
      "regenie \\\n",
      "  --step 2 \\\n",
      "  --bed /gpfs/gibbs/pi/dewan/data/UKBiobank/MWE/burden/ukb23155_c22_b0_v1.plink.exome.filtered \\\n",
      "  --phenoFile output/phenotype_burden.regenie_phenotype \\\n",
      "  --covarFile output/phenotype_burden.regenie_covar \\\n",
      "  --phenoColList ASTHMA \\\n",
      "  --bt\n",
      "  --firth --approx \\\n",
      "  --pred output/phenotype_burden_ASTHMA.regenie_pred.list \\\n",
      "  --anno-file burden/annotation_file.txt \\\n",
      "  --set-list burden/set_list_file.txt \\\n",
      "  --extract-sets burden/keep_file.txt\\\n",
      "  --mask-def burden/mask_file.txt \\\n",
      "  --aaf-bins 0.05 \\\n",
      "  --write-mask \\\n",
      "  --build-mask \\\n",
      "  --bsize 10 \\\n",
      "  --check-burden-files \\\n",
      "  --gz \\\n",
      "  --out  output/cache/ukb23155_c22_b0_v1.plink.exome.filtered.burden\n",
      "\n",
      "\n",
      "INFO: \u001b[32mregenie_burden\u001b[0m (index=1) is \u001b[32mcompleted\u001b[0m.\n",
      "INFO: \u001b[32mregenie_burden\u001b[0m output:   \u001b[32moutput/cache/ukb23155_c21_b0_v1.plink.exome.filtered_ASTHMAburden.regenie.gz output/cache/ukb23155_c22_b0_v1.plink.exome.filtered_ASTHMAburden.regenie.gz in 2 groups\u001b[0m\n",
      "INFO: Workflow regenie_burden (ID=w7723835731215d60) is tested successfully with 1 completed step and 2 completed substeps.\n",
      "\n"
     ]
    }
   ],
   "source": [
    "genoFile=`echo /gpfs/gibbs/pi/dewan/data/UKBiobank/MWE/burden/ukb23155_c{21..22}_b0_v1.plink.exome.filtered.bed`\n",
    "sos dryrun ~/project/bioworkflows/GWAS/LMM.ipynb regenie_burden \\\n",
    "    --cwd output \\\n",
    "    --bfile genotypes21_22.bed \\\n",
    "    --genoFile $genoFile \\\n",
    "    --sampleFile \\\n",
    "    --phenoFile burden/phenotype_burden.txt\\\n",
    "    --phenoCol ASTHMA\\\n",
    "    --covarCol SEX \\\n",
    "    --qCovarCol AGE \\\n",
    "    --numThreads 8 \\\n",
    "    --bsize 10 \\\n",
    "    --anno_file burden/annotation_file.txt\\\n",
    "    --set_list burden/set_list_file.txt \\\n",
    "    --mask_file burden/mask_file.txt \\\n",
    "    --keep_gene burden/keep_file.txt\\\n",
    "    --aaf_bins 0.05 \\\n",
    "    --trait bt \\\n",
    "    --build_mask max \\\n",
    "    --container_lmm /gpfs/gibbs/pi/dewan/data/UKBiobank/lmm.sif"
   ]
  },
  {
   "cell_type": "code",
   "execution_count": null,
   "metadata": {
    "kernel": "Bash"
   },
   "outputs": [],
   "source": []
  }
 ],
 "metadata": {
  "kernelspec": {
   "display_name": "SoS",
   "language": "sos",
   "name": "sos"
  },
  "language_info": {
   "codemirror_mode": "sos",
   "file_extension": ".sos",
   "mimetype": "text/x-sos",
   "name": "sos",
   "nbconvert_exporter": "sos_notebook.converter.SoS_Exporter",
   "pygments_lexer": "sos"
  },
  "sos": {
   "kernels": [
    [
     "Bash",
     "calysto_bash",
     "Bash",
     "#E6EEFF",
     ""
    ]
   ],
   "version": "0.21.21"
  }
 },
 "nbformat": 4,
 "nbformat_minor": 4
}
