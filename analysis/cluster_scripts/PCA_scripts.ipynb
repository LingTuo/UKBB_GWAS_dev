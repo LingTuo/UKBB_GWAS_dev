{
 "cells": [
  {
   "cell_type": "markdown",
   "metadata": {
    "kernel": "SoS"
   },
   "source": [
    "# Scripts for diverse analyses"
   ]
  },
  {
   "cell_type": "markdown",
   "metadata": {
    "kernel": "SoS"
   },
   "source": [
    "This notebook applies the `Get_Job_Script.ipynb` to automatically generate the sbatch scripts to run in Yale's cluster. \n",
    "\n",
    "Here the scripts generated are to run:\n",
    "\n",
    "1. PCA analysis\n",
    "2. Detect missingness in plink files\n",
    "3. Extract SNPs/Individuals using Plink\n",
    "4. Run regenie burden MWE"
   ]
  },
  {
   "cell_type": "markdown",
   "metadata": {
    "kernel": "SoS"
   },
   "source": [
    "## File paths on Yale cluster\n",
    "- Genotype files exome data:\n",
    "`/gpfs/gibbs/pi/dewan/data/UKBiobank/genotype_files/ukb28374_exomedata/exome_data_OCT2020`\n",
    "- Genotype files in PLINK format:\n",
    "`/gpfs/gibbs/pi/dewan/data/UKBiobank/genotype_files/pleiotropy_geneticfiles/UKB_Caucasians_phenotypeindepqc120319_updated020720removedwithdrawnindiv`\n",
    "- Genotype files in bgen format:\n",
    "`SAY/dbgapstg/scratch/UKBiobank/genotype_files/ukb39554_imputeddataset/`\n",
    "- Summary stats for imputed variants BOLT-LMM:\n",
    "`/gpfs/gibbs/pi/dewan/data/UKBiobank/results/BOLTLMM_results/results_imputed_data`\n",
    "- Summary stats for inputed variants FastGWA:\n",
    "`/gpfs/gibbs/pi/dewan/data/UKBiobank/results/FastGWA_results/results_imputed_data`\n",
    "- Phenotype files:\n",
    "`/gpfs/gibbs/pi/dewan/data/UKBiobank/phenotype_files/pleiotropy_R01/phenotypesforanalysis/UKB_Caucasiansubset_cholesterolfields_adjbymedstatus_062420_foranalysis`\n",
    "- Relationship file:\n",
    "`/gpfs/gibbs/pi/dewan/data/UKBiobank/genotype_files/pleiotropy_geneticfiles/unrelated_n307259/UKB_unrelatedcauc_phenotypes_asthmat2dbmiwaisthip_agesex_waisthipratio_040620`\n",
    "- Other traits to be analyzed:\n",
    "`/gpfs/gibbs/pi/dewan/data/UKBiobank/phenotype_files/pleiotropy_R01/phenotypesforanalysis/UKB_CAUC_lipidsforanalysis_apolipoproteinAandB,Hba1c_continuousandcategorical,egfrbyCKDEPI,serumcreatinine,UACR_inverseranknorm_110320`"
   ]
  },
  {
   "cell_type": "code",
   "execution_count": 8,
   "metadata": {
    "kernel": "Bash"
   },
   "outputs": [],
   "source": [
    "# Common variables Yale's cluster\n",
    "UKBB_PATH=/gpfs/gibbs/pi/dewan/data/UKBiobank\n",
    "USER_PATH=/home/dc2325/project\n",
    "OUT_PATH=/home/dc2325/project/UKBB_GWAS_dev/output\n",
    "tpl_file=$USER_PATH/UKBB_GWAS_dev/farnam.yml\n",
    "#pca_dir=/gpfs/gibbs/pi/dewan/data/UKBiobank/results/pca_exomes\n",
    "pca_dir=~/scratch60/pca\n",
    "#Use the original bed files for the genotype array for kinship calculation\n",
    "bfile=$UKBB_PATH/genotype_files/pleiotropy_geneticfiles/UKB_originalgenotypefilesdownloaded083019/UKB_genotypedatadownloaded083019.bed\n",
    "# Use a subset of the exomed markers\n",
    "genoFile=`echo $UKBB_PATH/genotype_files/ukb28374_exomedata/exome_data_OCT2020/ukb23155_c{1..22}_b0_v1.bed`\n",
    "phenoFile=~/scratch60/pca/cache/ukb23155_s200631.non_white_white_outliers_11971ind.pheno\n",
    "database=$UKBB_PATH/phenotype_files/pleiotropy_R01/ukb42495_updatedJune2020/ukb42495.tab\n",
    "ethnia_prefix='non_white_white_outliers_11971ind'\n",
    "# Container lmm \n",
    "container_lmm=$UKBB_PATH/lmm.sif\n",
    "# Pipeline\n",
    "pca_sos=$USER_PATH/bioworkflows/GWAS/PCA.ipynb\n",
    "gwasqc_sos=$USER_PATH/bioworkflows/GWAS/GWAS_QC.ipynb\n",
    "# Name of bash script\n",
    "#pca_sbatch=../output/$(date +\"%Y-%m-%d\")_pca_non_white.sbatch\n",
    "pca_sbatch=../output/$(date +\"%Y-%m-%d\")_flashpca_non_white_whiteoutliers.sbatch\n",
    "numThreads=1\n",
    "job_size=1\n",
    "#PCA variables\n",
    "k=10\n",
    "maxiter=0\n",
    "topk=10\n",
    "sigma=6\n",
    "window=50\n",
    "shift=10\n",
    "r2=0.1"
   ]
  },
  {
   "cell_type": "markdown",
   "metadata": {
    "kernel": "Bash"
   },
   "source": [
    "## PCA jobs"
   ]
  },
  {
   "cell_type": "markdown",
   "metadata": {
    "kernel": "Bash"
   },
   "source": [
    "### Full sample exome data UKBB"
   ]
  },
  {
   "cell_type": "markdown",
   "metadata": {
    "kernel": "Bash"
   },
   "source": [
    "## 1. Do QC_1 on the genotype file that includes all samples"
   ]
  },
  {
   "cell_type": "code",
   "execution_count": 4,
   "metadata": {
    "kernel": "Bash"
   },
   "outputs": [
    {
     "name": "stdout",
     "output_type": "stream",
     "text": [
      "INFO: Running \u001b[32mdewan\u001b[0m: Configuration for Yale `pi_dewan` partition cluster\n",
      "INFO: \u001b[32mdewan\u001b[0m is \u001b[32mcompleted\u001b[0m.\n",
      "INFO: \u001b[32mdewan\u001b[0m output:   \u001b[32m/home/dc2325/project/UKBB_GWAS_dev/output/2021-06-14_gwasqc1_originalbed.sbatch\u001b[0m\n",
      "INFO: Workflow dewan (ID=w138e6a004ca3f3fd) is executed successfully with 1 completed step.\n",
      "\n"
     ]
    }
   ],
   "source": [
    "cwd=~/scratch60/pca/plinkqc_05_28_21\n",
    "tpl_file=$USER_PATH/UKBB_GWAS_dev/farnam.yml\n",
    "# Original bfile containing all of the samples\n",
    "genoFile=$UKBB_PATH/genotype_files/pleiotropy_geneticfiles/UKB_originalgenotypefilesdownloaded083019/UKB_genotypedatadownloaded083019.bed\n",
    "maf_filter=0.01\n",
    "geno_filter=0.01\n",
    "hwe_filter=5e-08\n",
    "mind_filter=0.1\n",
    "mem='30G'\n",
    "#To keep the samples of white individuals only\n",
    "keep_samples=$UKBB_PATH/phenotype_files/pleiotropy_R01/ukb43978_OCT2020/dc2325_phenotypes/030821_ukb42495_exomed_white_189010ind\n",
    "gwasqc_sos=$USER_PATH/bioworkflows/GWAS/GWAS_QC.ipynb\n",
    "gwasqc_sbatch=$USER_PATH/UKBB_GWAS_dev/output/$(date +\"%Y-%m-%d\")_gwasqc1_originalbed.sbatch\n",
    "\n",
    "gwasqc1_args=\"\"\"qc:1\n",
    "    --cwd $cwd\n",
    "    --genoFile $genoFile\n",
    "    --keep_samples $keep_samples\n",
    "    --maf_filter $maf_filter\n",
    "    --geno_filter $geno_filter\n",
    "    --hwe_filter $hwe_filter\n",
    "    --mind_filter $mind_filter\n",
    "    --numThreads $numThreads \n",
    "    --job_size $job_size\n",
    "    --container_lmm $container_lmm\n",
    "    --mem $mem\n",
    "\"\"\"\n",
    "\n",
    "sos run ~/project/bioworkflows/admin/Get_Job_Script.ipynb dewan \\\n",
    "    --template-file $tpl_file \\\n",
    "    --workflow-file $gwasqc_sos \\\n",
    "    --to-script $gwasqc_sbatch \\\n",
    "    --args \"$gwasqc1_args\""
   ]
  },
  {
   "cell_type": "markdown",
   "metadata": {
    "kernel": "Bash"
   },
   "source": [
    "## 2. Run king:\n",
    "\n",
    "Estimate relationship between the exomed individuals.\n",
    "\n",
    "In this case using the subset of white individuals first file `030821_ukb42495_exomed_white_189010ind`"
   ]
  },
  {
   "cell_type": "code",
   "execution_count": 6,
   "metadata": {
    "kernel": "Bash"
   },
   "outputs": [
    {
     "name": "stdout",
     "output_type": "stream",
     "text": [
      "INFO: Running \u001b[32mking_1\u001b[0m: Inference of relationships in the sample to remove closely related individuals\n",
      "INFO: \u001b[32mking_1\u001b[0m is \u001b[32mcompleted\u001b[0m.\n",
      "INFO: \u001b[32mking_1\u001b[0m output:   \u001b[32m/home/dc2325/output/rename_chr22.output.kin0\u001b[0m\n",
      "INFO: Running \u001b[32mking_2\u001b[0m: \n",
      "INFO: \u001b[32mking_2\u001b[0m is \u001b[32mcompleted\u001b[0m.\n",
      "INFO: \u001b[32mking_2\u001b[0m output:   \u001b[32m/home/dc2325/output/rename_chr22.output.related_id\u001b[0m\n",
      "INFO: Workflow king (ID=wd544266f0ee75082) is executed successfully with 2 completed steps.\n"
     ]
    }
   ],
   "source": [
    "## Using a MWE\n",
    "\n",
    "# rename_chr22.fam  -- 50 individuals\n",
    "# output/rename_chr22.unrelated.related_id -- 10 related individuals\n",
    "\n",
    "sos run ~/project/bioworkflows/GWAS/GWAS_QC.ipynb king\\\n",
    "    --cwd ~/output \\\n",
    "    --genoFile ~/MWE_AD/rename_chr22.bed \\\n",
    "    --kinship 0.13 \\\n",
    "    --mem 10G \\\n",
    "    --container_lmm /gpfs/gibbs/pi/dewan/data/UKBiobank/lmm.sif"
   ]
  },
  {
   "cell_type": "code",
   "execution_count": 3,
   "metadata": {
    "kernel": "Bash"
   },
   "outputs": [
    {
     "name": "stdout",
     "output_type": "stream",
     "text": [
      "INFO: Running \u001b[32mdewan\u001b[0m: Configuration for Yale `pi_dewan` partition cluster\n",
      "INFO: \u001b[32mdewan\u001b[0m is \u001b[32mcompleted\u001b[0m.\n",
      "INFO: \u001b[32mdewan\u001b[0m output:   \u001b[32m/home/dc2325/project/UKBB_GWAS_dev/output/2021-06-15_flashpca_king_extendedwhite.sbatch\u001b[0m\n",
      "INFO: Workflow dewan (ID=webeaf1a527796a37) is executed successfully with 1 completed step.\n",
      "\n"
     ]
    }
   ],
   "source": [
    "cwd=~/scratch60/pca/king_05_28_21\n",
    "#phenoFile=$UKBB_PATH/phenotype_files/pleiotropy_R01/ukb43978_OCT2020/dc2325_phenotypes/030821_ukb42495_exomed_white_189010ind.pheno\n",
    "#keep_samples=$UKBB_PATH/phenotype_files/pleiotropy_R01/ukb43978_OCT2020/dc2325_phenotypes/030821_ukb42495_exomed_white_189010ind\n",
    "king_sbatch=$OUT_PATH/$(date +\"%Y-%m-%d\")_flashpca_king_extendedwhite.sbatch\n",
    "#Use the qc'ed version of the genotype data\n",
    "genoFile=/home/dc2325/scratch60/pca/plinkqc_05_28_21/cache/UKB_genotypedatadownloaded083019.plinkqc_05_28_21.filtered.bed\n",
    "kinship=0.0625\n",
    "gwasqc_sos=$USER_PATH/bioworkflows/GWAS/GWAS_QC.ipynb\n",
    "numThreads=20\n",
    "mem='30G'\n",
    "walltime='24h'\n",
    "\n",
    "king_args=\"\"\"king\n",
    "    --cwd $cwd\n",
    "    --genoFile $genoFile\n",
    "    --kinship $kinship\n",
    "    --numThreads $numThreads \n",
    "    --job_size $job_size\n",
    "    --container_lmm $container_lmm\n",
    "    --mem $mem\n",
    "    --walltime $walltime\n",
    "    --no-maximize-unrelated\n",
    "\"\"\"\n",
    "\n",
    "sos run ~/project/bioworkflows/admin/Get_Job_Script.ipynb dewan \\\n",
    "    --template-file $tpl_file \\\n",
    "    --workflow-file $gwasqc_sos \\\n",
    "    --to-script $king_sbatch \\\n",
    "    --args \"$king_args\""
   ]
  },
  {
   "cell_type": "markdown",
   "metadata": {
    "kernel": "Bash"
   },
   "source": [
    "## Use my old PCA pipeline to do the king step until we figure out why the new pipeline is not working"
   ]
  },
  {
   "cell_type": "code",
   "execution_count": 14,
   "metadata": {
    "kernel": "Bash"
   },
   "outputs": [
    {
     "name": "stdout",
     "output_type": "stream",
     "text": [
      "INFO: Running \u001b[32mdewan\u001b[0m: Configuration for Yale `pi_dewan` partition cluster\n",
      "INFO: \u001b[32mdewan\u001b[0m is \u001b[32mcompleted\u001b[0m.\n",
      "INFO: \u001b[32mdewan\u001b[0m output:   \u001b[32m/home/dc2325/project/UKBB_GWAS_dev/output/2021-06-16_flashpca_king_oldpipe_extendedwhite.sbatch\u001b[0m\n",
      "INFO: Workflow dewan (ID=wa0793806fd0afdea) is executed successfully with 1 completed step.\n"
     ]
    }
   ],
   "source": [
    "cwd=~/scratch60/pca/king_05_28_21\n",
    "phenoFile=$UKBB_PATH/phenotype_files/pleiotropy_R01/ukb43978_OCT2020/dc2325_phenotypes/030821_ukb42495_exomed_white_189010ind.pheno\n",
    "#keep_samples=$UKBB_PATH/phenotype_files/pleiotropy_R01/ukb43978_OCT2020/dc2325_phenotypes/030821_ukb42495_exomed_white_189010ind\n",
    "king_sbatch=$OUT_PATH/$(date +\"%Y-%m-%d\")_flashpca_king_oldpipe_extendedwhite.sbatch\n",
    "#Use the qc'ed version of the genotype data\n",
    "bfile=/home/dc2325/scratch60/pca/plinkqc_05_28_21/cache/UKB_genotypedatadownloaded083019.plinkqc_05_28_21.filtered.bed\n",
    "genoFile=`echo $UKBB_PATH/genotype_files/ukb28374_exomedata/exome_data_OCT2020/ukb23155_c{1..22}_b0_v1.bed`\n",
    "kinship=0.0625\n",
    "gwasqc_sos=/home/dc2325/project/UKBB_GWAS_dev/workflow/PCA.ipynb\n",
    "numThreads=20\n",
    "mem='30G'\n",
    "walltime='24h'\n",
    "\n",
    "king_args=\"\"\"king\n",
    "    --cwd $cwd\n",
    "    --bfile $bfile\n",
    "    --genoFile $genoFile\n",
    "    --phenoFile $phenoFile\n",
    "    --kinship $kinship\n",
    "    --numThreads $numThreads \n",
    "    --job_size $job_size\n",
    "    --mem $mem\n",
    "    --walltime $walltime\n",
    "    --container_lmm $container_lmm\n",
    "\"\"\"\n",
    "\n",
    "sos run ~/project/bioworkflows/admin/Get_Job_Script.ipynb dewan \\\n",
    "    --template-file $tpl_file \\\n",
    "    --workflow-file $gwasqc_sos \\\n",
    "    --to-script $king_sbatch \\\n",
    "    --args \"$king_args\""
   ]
  },
  {
   "cell_type": "markdown",
   "metadata": {
    "kernel": "Bash"
   },
   "source": [
    "## 3. QC the genotype data we want to use for the PCA calculation on unrelated individuals\n",
    "\n",
    "Ideal: In the case of the UKBB exome data, we would like to use the genotypes after pVCF-QC for every chromosome.\n",
    "\n",
    "Trial run: Use the exome data without QC filters as was released by the UKBB"
   ]
  },
  {
   "cell_type": "code",
   "execution_count": null,
   "metadata": {
    "kernel": "Bash"
   },
   "outputs": [],
   "source": [
    "pca_dir=~/scratch60/pca/white_expanded_06_14_21\n",
    "## Un qc'ed exomes files\n",
    "genoFile=`echo $UKBB_PATH/genotype_files/ukb28374_exomedata/exome_data_OCT2020/ukb23155_c{1..22}_b0_v1.bed`\n",
    "phenoFile=$UKBB_PATH/phenotype_files/pleiotropy_R01/ukb43978_OCT2020/dc2325_phenotypes/030821_ukb42495_exomed_white_189010ind.pheno\n",
    "remove_samples=~/scratch60/pca/king_05_28_21/*.related.remove\n",
    "#GWAS QC variables\n",
    "maf_filter=0.01\n",
    "geno_filter=0.01\n",
    "hwe_filter=5e-08\n",
    "mind_filter=0.02\n",
    "#LD prunning variables\n",
    "window=50\n",
    "shift=10\n",
    "r2=0.1\n",
    "gwas_sbatch=$OUT_PATH/$(date +\"%Y-%m-%d\")_flashpca_white_qc.sbatch\n",
    "trait_name=ethnicity\n",
    "numThreads=20\n",
    "mem='30G'\n",
    "\n",
    "gwasqc_args=\"\"\"qc\n",
    "    --cwd $pca_dir\n",
    "    --genoFile $genoFile\n",
    "    --phenoFile $phenoFile\n",
    "    --remove_samples $remove_samples\n",
    "    --maf_filter $maf_filter\n",
    "    --geno_filter $geno_filter\n",
    "    --hwe_filter $hwe_filter\n",
    "    --mind_filter $mind_filter\n",
    "    --window $window\n",
    "    --shift $shift\n",
    "    --r2 $r2\n",
    "    --trait_name $trait_name\n",
    "    --numThreads $numThreads \n",
    "    --job_size $job_size\n",
    "    --container_lmm $container_lmm\n",
    "    --mem $mem\n",
    "\"\"\"\n",
    "\n",
    "sos run ~/project/bioworkflows/GWAS/Get_Job_Script.ipynb dewan \\\n",
    "    --template-file $tpl_file \\\n",
    "    --workflow-file $gwasqc_sos \\\n",
    "    --to-script $gwas_sbatch \\\n",
    "    --args \"$gwasqc_args\""
   ]
  },
  {
   "cell_type": "markdown",
   "metadata": {
    "kernel": "Bash"
   },
   "source": [
    "## 4. Get bed file for related individuals"
   ]
  },
  {
   "cell_type": "code",
   "execution_count": null,
   "metadata": {
    "kernel": "Bash"
   },
   "outputs": [],
   "source": [
    "pca_dir=~/scratch60/pca/white_expanded_related_06_14_21\n",
    "## Un qc'ed exomes files\n",
    "genoFile=`echo $UKBB_PATH/genotype_files/ukb28374_exomedata/exome_data_OCT2020/ukb23155_c{1..22}_b0_v1.bed`\n",
    "phenoFile=$UKBB_PATH/phenotype_files/pleiotropy_R01/ukb43978_OCT2020/dc2325_phenotypes/030821_ukb42495_exomed_white_189010ind.pheno\n",
    "keep_samples=~/scratch60/pca/king_05_28_21/*.related.remove\n",
    "#Keep the same variants as above\n",
    "keep_variants=~/scratch60/pca/white_expanded_06_14_21/*.prune.in\n",
    "#GWAS QC variables\n",
    "maf_filter=0.0\n",
    "geno_filter=0.0\n",
    "hwe_filter=0.0\n",
    "mind_filter=0.0\n",
    "gwas_sbatch=$OUT_PATH/$(date +\"%Y-%m-%d\")_flashpca_white_related_qc.sbatch\n",
    "trait_name=ethnicity\n",
    "numThreads=20\n",
    "mem='30G'\n",
    "\n",
    "gwasqc_args=\"\"\"qc:1\n",
    "    --cwd $pca_dir\n",
    "    --genoFile $genoFile\n",
    "    --phenoFile $phenoFile\n",
    "    --keep_samples $keep_samples\n",
    "    --keep_variants $keep_variants\n",
    "    --maf_filter $maf_filter\n",
    "    --geno_filter $geno_filter\n",
    "    --hwe_filter $hwe_filter\n",
    "    --mind_filter $mind_filter\n",
    "    --trait_name $trait_name\n",
    "    --numThreads $numThreads \n",
    "    --job_size $job_size\n",
    "    --container_lmm $container_lmm\n",
    "    --mem $mem\n",
    "\"\"\"\n",
    "\n",
    "sos run ~/project/bioworkflows/GWAS/Get_Job_Script.ipynb dewan \\\n",
    "    --template-file $tpl_file \\\n",
    "    --workflow-file $gwasqc_sos \\\n",
    "    --to-script $gwas_sbatch \\\n",
    "    --args \"$gwasqc_args\""
   ]
  },
  {
   "cell_type": "markdown",
   "metadata": {
    "kernel": "Bash"
   },
   "source": [
    "## 5. Run PCA analysis for unrelated expanded white individuals"
   ]
  },
  {
   "cell_type": "code",
   "execution_count": null,
   "metadata": {
    "kernel": "Bash"
   },
   "outputs": [],
   "source": [
    "pca_dir=~/scratch60/pca/white_expanded_06_14_21\n",
    "#This is the bfile originated after filtering unrelated individuals\n",
    "genoFile=~/scratch60/pca/white_expanded_06_14_21\n",
    "phenoFile=$UKBB_PATH/phenotype_files/pleiotropy_R01/ukb43978_OCT2020/dc2325_phenotypes/030821_ukb42495_exomed_white_189010ind.pheno\n",
    "k=10\n",
    "maha_k=5\n",
    "\n",
    "pca_args=\"\"\"flashpca\n",
    "    --cwd $pca_dir\n",
    "    --genoFile $genoFile\n",
    "    --phenoFile $phenoFile\n",
    "    --k $k\n",
    "    --maxiter $maxiter\n",
    "    --topk $topk\n",
    "    --numThreads $numThreads \n",
    "    --job_size $job_size\n",
    "    --container_lmm $container_lmm\n",
    "\"\"\"\n",
    "\n",
    "sos run ~/project/bioworkflows/GWAS/Get_Job_Script.ipynb dewan \\\n",
    "    --template-file $tpl_file \\\n",
    "    --workflow-file $pca_sos \\\n",
    "    --to-script $pca_sbatch \\\n",
    "    --args \"$pca_args\""
   ]
  },
  {
   "cell_type": "markdown",
   "metadata": {
    "kernel": "Bash"
   },
   "source": [
    "## 6. Project related invididuals back"
   ]
  },
  {
   "cell_type": "code",
   "execution_count": null,
   "metadata": {
    "kernel": "Bash"
   },
   "outputs": [],
   "source": []
  },
  {
   "cell_type": "markdown",
   "metadata": {
    "kernel": "Bash"
   },
   "source": [
    "## Old run for white population (using old phenotype file)"
   ]
  },
  {
   "cell_type": "code",
   "execution_count": 19,
   "metadata": {
    "kernel": "Bash"
   },
   "outputs": [
    {
     "name": "stdout",
     "output_type": "stream",
     "text": [
      "INFO: Running \u001b[32mfarnam\u001b[0m: Configuration for Yale `farnam` cluster\n",
      "INFO: \u001b[32mfarnam\u001b[0m is \u001b[32mcompleted\u001b[0m.\n",
      "INFO: \u001b[32mfarnam\u001b[0m output:   \u001b[32m/home/dc2325/project/UKBB_GWAS_dev/output/2021-03-01_flashpca_filter_white.sbatch\u001b[0m\n",
      "INFO: Workflow farnam (ID=wdddf2ddca776f9f1) is executed successfully with 1 completed step.\n",
      "\n"
     ]
    }
   ],
   "source": [
    "pca_dir=~/scratch60/pca/white_030121_repeat\n",
    "phenoFile=$UKBB_PATH/phenotype_files/pleiotropy_R01/ukb43978_OCT2020/dc2325_phenotypes/030121_ukb42495_exomed_white_189228ind.pheno\n",
    "keep_samples=$UKBB_PATH/phenotype_files/pleiotropy_R01/ukb43978_OCT2020/dc2325_phenotypes/030121_ukb42495_exomed_white_189228ind\n",
    "pca_sbatch=$OUT_PATH/$(date +\"%Y-%m-%d\")_flashpca_filter_white.sbatch\n",
    "trait_name=ethnicity\n",
    "numThreads=20\n",
    "\n",
    "pca_args=\"\"\"filter\n",
    "    --cwd $pca_dir\n",
    "    --bfile $bfile\n",
    "    --genoFile $genoFile\n",
    "    --phenoFile $phenoFile\n",
    "    --keep_samples $keep_samples\n",
    "    --k $k\n",
    "    --window $window\n",
    "    --shift $shift\n",
    "    --r2 $r2\n",
    "    --trait_name $trait_name\n",
    "    --numThreads $numThreads \n",
    "    --job_size $job_size\n",
    "    --container_lmm $container_lmm\n",
    "\"\"\"\n",
    "\n",
    "sos run ~/project/bioworkflows/GWAS/Get_Job_Script.ipynb farnam \\\n",
    "    --template-file $tpl_file \\\n",
    "    --workflow-file $pca_sos \\\n",
    "    --to-script $pca_sbatch \\\n",
    "    --args \"$pca_args\""
   ]
  },
  {
   "cell_type": "markdown",
   "metadata": {
    "kernel": "Bash"
   },
   "source": [
    "### 1. African ancestry"
   ]
  },
  {
   "cell_type": "code",
   "execution_count": 5,
   "metadata": {
    "kernel": "Bash"
   },
   "outputs": [
    {
     "name": "stdout",
     "output_type": "stream",
     "text": [
      "INFO: Running \u001b[32mfarnam\u001b[0m: Configuration for Yale `farnam` cluster\n",
      "INFO: \u001b[32mfarnam\u001b[0m is \u001b[32mcompleted\u001b[0m.\n",
      "INFO: \u001b[32mfarnam\u001b[0m output:   \u001b[32m/home/dc2325/project/UKBB_GWAS_dev/output/2021-02-22_flashpca_african.sbatch\u001b[0m\n",
      "INFO: Workflow farnam (ID=wd99c56feacb4bc44) is executed successfully with 1 completed step.\n",
      "\n"
     ]
    }
   ],
   "source": [
    "pca_dir=~/scratch60/pca/african_ancestry\n",
    "ethnia_prefix='african_3690ind'\n",
    "phenoFile=~/scratch60/pca/african_ancestry/cache/ukb23155_s200631.african_3690ind.pheno\n",
    "pca_sbatch=$OUT_PATH/$(date +\"%Y-%m-%d\")_flashpca_african.sbatch\n",
    "trait_name=ethnicity\n",
    "\n",
    "pca_args=\"\"\"flashpca\n",
    "    --cwd $pca_dir\n",
    "    --bfile $bfile\n",
    "    --genoFile $genoFile\n",
    "    --phenoFile $phenoFile\n",
    "    --k $k\n",
    "    --maxiter $maxiter\n",
    "    --topk $topk\n",
    "    --sigma $sigma\n",
    "    --window $window\n",
    "    --shift $shift\n",
    "    --r2 $r2\n",
    "    --trait_name $trait_name\n",
    "    --numThreads $numThreads \n",
    "    --job_size $job_size\n",
    "    --container_lmm $container_lmm\n",
    "\"\"\"\n",
    "\n",
    "sos run ~/project/bioworkflows/GWAS/Get_Job_Script.ipynb farnam \\\n",
    "    --template-file $tpl_file \\\n",
    "    --workflow-file $pca_sos \\\n",
    "    --to-script $pca_sbatch \\\n",
    "    --args \"$pca_args\""
   ]
  },
  {
   "cell_type": "markdown",
   "metadata": {
    "kernel": "Bash"
   },
   "source": [
    "### 2. Asian ancestry"
   ]
  },
  {
   "cell_type": "code",
   "execution_count": 7,
   "metadata": {
    "kernel": "Bash"
   },
   "outputs": [
    {
     "name": "stdout",
     "output_type": "stream",
     "text": [
      "INFO: Running \u001b[32mfarnam\u001b[0m: Configuration for Yale `farnam` cluster\n",
      "INFO: \u001b[32mfarnam\u001b[0m is \u001b[32mcompleted\u001b[0m.\n",
      "INFO: \u001b[32mfarnam\u001b[0m output:   \u001b[32m/home/dc2325/project/UKBB_GWAS_dev/output/2021-02-22_flashpca_asian.sbatch\u001b[0m\n",
      "INFO: Workflow farnam (ID=wd32c86713853144c) is executed successfully with 1 completed step.\n",
      "\n"
     ]
    }
   ],
   "source": [
    "pca_dir=~/scratch60/pca/asian_ancestry\n",
    "ethnia_prefix='asian_4618ind'\n",
    "phenoFile=~/scratch60/pca/asian_ancestry/cache/ukb23155_s200631.asian_4618ind.pheno\n",
    "pca_sbatch=$OUT_PATH/$(date +\"%Y-%m-%d\")_flashpca_asian.sbatch\n",
    "trait_name=ethnicity\n",
    "\n",
    "pca_args=\"\"\"flashpca\n",
    "    --cwd $pca_dir \n",
    "    --genoFile $genoFile\n",
    "    --famFile $famFile\n",
    "    --database $database\n",
    "    --ethnia_prefix $ethnia_prefix\n",
    "    --select_ethnia $select_ethnia\n",
    "    --phenoFile $phenoFile\n",
    "    --k $k\n",
    "    --maxiter $maxiter\n",
    "    --topk $topk\n",
    "    --sigma $sigma\n",
    "    --window $window\n",
    "    --shift $shift\n",
    "    --r2 $r2\n",
    "    --trait_name $trait_name\n",
    "    --numThreads $numThreads \n",
    "    --job_size $job_size\n",
    "    --container_lmm $container_lmm\n",
    "\"\"\"\n",
    "\n",
    "sos run ~/project/bioworkflows/GWAS/Get_Job_Script.ipynb farnam \\\n",
    "    --template-file $tpl_file \\\n",
    "    --workflow-file $pca_sos \\\n",
    "    --to-script $pca_sbatch \\\n",
    "    --args \"$pca_args\""
   ]
  },
  {
   "cell_type": "code",
   "execution_count": 15,
   "metadata": {
    "kernel": "Bash"
   },
   "outputs": [
    {
     "name": "stdout",
     "output_type": "stream",
     "text": [
      "INFO: Running \u001b[32mflashpca_1\u001b[0m: Run PCA analysis using flashpca\n",
      "\u001b[91mERROR\u001b[0m: \u001b[91mflashpca_1 (id=40e0bfbf8b836d3a) returns an error.\u001b[0m\n",
      "\u001b[91mERROR\u001b[0m: \u001b[91m[flashpca_1]: [0]: \n",
      "Failed to execute \u001b[0m\u001b[32mRscript /home/dc2325/.sos/af137bdf2659ed53/flashpca_1_0_fe1199ce.R\u001b[0m\u001b[91m\n",
      "exitcode=1, workdir=\u001b[0m\u001b[32m/gpfs/ysm/project/dewan/dc2325/UKBB_GWAS_dev/analysis/cluster_scripts\u001b[0m\u001b[91m, stdout=/home/dc2325/scratch60/pca/phenotype_burden.filtered.merged.prune.stdout, stderr=/home/dc2325/scratch60/pca/phenotype_burden.filtered.merged.prune.stderr\n",
      "---------------------------------------------------------------------------\u001b[0m\n",
      "\n"
     ]
    }
   ],
   "source": [
    "bfile=$UKBB_PATH/MWE/genotypes21_22.bed\n",
    "genoFile=$UKBB_PATH/MWE/burden/ukb23155_c2*_b0_v1.plink.exome.filtered.bed\n",
    "keep_samples=$UKBB_PATH/MWE/burden/unrelated_ind_burden.txt\n",
    "phenoFile=$UKBB_PATH/MWE/burden/phenotype_burden.txt\n",
    "kinship=0.05\n",
    "maf_filter=0.01\n",
    "geno_filter=0.1\n",
    "mind_filter=0.2 \n",
    "hwe_filter=5e-08 \n",
    "numThreads=2\n",
    "k=10\n",
    "trait_name='ASTHMA'\n",
    "sos run ~/project/bioworkflows/GWAS/PCA.ipynb flashpca:1\\\n",
    "    --cwd $pca_dir \\\n",
    "    --bfile $bfile \\\n",
    "    --genoFile $genoFile \\\n",
    "    --keep_samples $keep_samples \\\n",
    "    --kinship $kinship \\\n",
    "    --phenoFile $phenoFile \\\n",
    "    --window $window \\\n",
    "    --shift $shift \\\n",
    "    --r2 $r2 \\\n",
    "    --maf_filter $maf_filter\\\n",
    "    --geno_filter $geno_filter\\\n",
    "    --mind_filter $mind_filter \\\n",
    "    --hwe_filter $hwe_filter \\\n",
    "    --k $k\\\n",
    "    --trait_name $trait_name \\\n",
    "    --numThreads $numThreads \\\n",
    "    --job_size $job_size \\\n",
    "    --container_lmm $container_lmm"
   ]
  },
  {
   "cell_type": "code",
   "execution_count": null,
   "metadata": {
    "kernel": "Bash"
   },
   "outputs": [],
   "source": [
    "tpl_file=../farnam.yml\n",
    "pca_dir=/gpfs/gibbs/pi/dewan/data/UKBiobank/results/pca_exomes\n",
    "famFile=/gpfs/gibbs/pi/dewan/data/UKBiobank/genotype_files/ukb28374_exomedata/exome_data_OCT2020/ukb23155_s200631.fam\n",
    "bedfiles=`echo /gpfs/gibbs/pi/dewan/data/UKBiobank/genotype_files/ukb28374_exomedata/exome_data_OCT2020/ukb23155_c{1..22}_b0_v1.bed`\n",
    "bimfiles=`echo /gpfs/gibbs/pi/dewan/data/UKBiobank/genotype_files/ukb28374_exomedata/exome_data_OCT2020/UKBexomeOQFE_chr{1..22}.bim`\n",
    "database=/gpfs/gibbs/pi/dewan/data/UKBiobank/phenotype_files/pleiotropy_R01/ukb42495_updatedJune2020/ukb42495.tab\n",
    "# Container\n",
    "container_lmm=/gpfs/gibbs/pi/dewan/data/UKBiobank/lmm.sif\n",
    "# Pipeline\n",
    "pca_sos=~/project/UKBB_GWAS_dev/PCA.ipynb\n",
    "# Name of bash script\n",
    "pca_sbatch=../output/$(date +\"%Y-%m-%d\")_pca_white.sbatch\n",
    "numThreads=1\n",
    "job_size=1\n",
    "#PCA variables\n",
    "k=10\n",
    "maxiter=5\n",
    "topk=10\n",
    "sigma=6\n",
    "window=50\n",
    "shift=5\n",
    "r2=0.5\n",
    "stand=\"binom2\"\n",
    "maf_filter=0.01\n",
    "geno_filter=0.01\n",
    "mind_filter=0.02\n",
    "\n",
    "sos run ~/project/UKBB_GWAS_dev/PCA.ipynb smartpca \\\n",
    "    --cwd $pca_dir \\\n",
    "    --bedfiles $bedfiles \\\n",
    "    --bimfiles $bimfiles \\\n",
    "    --famFile $famFile \\\n",
    "    --database $database \\\n",
    "    --k $k \\\n",
    "    --stand $stand \\\n",
    "    --maxiter $maxiter \\\n",
    "    --topk $topk \\\n",
    "    --sigma $sigma \\\n",
    "    --window $window \\\n",
    "    --shift $shift \\\n",
    "    --r2 $r2 \\\n",
    "    --maf_filter $maf_filter\\\n",
    "    --geno_filter $geno_filter\\\n",
    "    --mind_filter $mind_filter \\\n",
    "    --numThreads $numThreads \\\n",
    "    --job_size $job_size \\\n",
    "    --container_lmm $container_lmm \\\n",
    "    -s build"
   ]
  },
  {
   "cell_type": "code",
   "execution_count": null,
   "metadata": {
    "kernel": "Bash"
   },
   "outputs": [],
   "source": [
    "    smartpca.perl \\\n",
    "    -i example.geno \\\n",
    "    -a example.snp \\\n",
    "    -b example.ind \\\n",
    "    -k 2 \\\n",
    "    -o example.pca \\\n",
    "    -p example.plot \\\n",
    "    -e example.eval \\\n",
    "    -l example.log \\\n",
    "    -m 5 \\\n",
    "    -t 2 \\\n",
    "    -s 6.0"
   ]
  },
  {
   "cell_type": "code",
   "execution_count": null,
   "metadata": {
    "kernel": "Bash"
   },
   "outputs": [],
   "source": [
    "par.PACKEDPED.EIGENSTRAT\n",
    "genotypename:    ukb23155_s200631.filtered.merged.bed\n",
    "snpname:         ukb23155_s200631.filtered.merged.bim\n",
    "indivname:       ukb23155_s200631.filtered.merged.fam\n",
    "outputformat:    EIGENSTRAT\n",
    "genotypeoutname: ukb23155_s200631.filtered.merged.eigenstratgeno\n",
    "snpoutname:      ukb23155_s200631.filtered.merged.snp\n",
    "indivoutname:    ukb23155_s200631.filtered.merged.ind"
   ]
  },
  {
   "cell_type": "code",
   "execution_count": null,
   "metadata": {
    "kernel": "Bash"
   },
   "outputs": [],
   "source": [
    "#!/bin/bash\n",
    "#SBATCH --partition general\n",
    "#SBATCH --nodes 1\n",
    "#SBATCH --ntasks-per-node 1\n",
    "#SBATCH --cpus-per-task 1\n",
    "#SBATCH --mem 60G\n",
    "#SBATCH --time 5-0:00:00\n",
    "#SBATCH --job-name ../output/2020-12-01_pca_white\n",
    "#SBATCH --output ../output/2020-12-01_pca_white-%J.out\n",
    "#SBATCH --error ../output/2020-12-01_pca_white-%J.log\n",
    "module load EIGENSOFT/7.2.1-foss-2018b\n",
    "smartpca.perl -i ukb23155_s200631.filtered.merged.bed -a ukb23155_s200631.filtered.merged.pedsnp -b ukb23155_s200631.filtered.merged.pedind -o ukb23155_s200631.filtered.merged.pca -p ukb23155_s200631.filtered.merged.plot -e ukb23155_s200631.filtered.eval -l ukb23155_s200631.filtered.merged.log"
   ]
  },
  {
   "cell_type": "markdown",
   "metadata": {
    "kernel": "Bash"
   },
   "source": [
    "# Running plink missing pipeline"
   ]
  },
  {
   "cell_type": "code",
   "execution_count": 36,
   "metadata": {
    "kernel": "Bash"
   },
   "outputs": [
    {
     "name": "stdout",
     "output_type": "stream",
     "text": [
      "INFO: Running \u001b[32mmissing_1\u001b[0m: Genotype and sample missingness for exome files\n",
      "INFO: Step \u001b[32mmissing_1\u001b[0m (index=0) is \u001b[32mignored\u001b[0m with signature constructed\n",
      "INFO: Step \u001b[32mmissing_1\u001b[0m (index=1) is \u001b[32mignored\u001b[0m with signature constructed\n",
      "INFO: Step \u001b[32mmissing_1\u001b[0m (index=2) is \u001b[32mignored\u001b[0m with signature constructed\n",
      "INFO: Step \u001b[32mmissing_1\u001b[0m (index=3) is \u001b[32mignored\u001b[0m with signature constructed\n",
      "INFO: Step \u001b[32mmissing_1\u001b[0m (index=4) is \u001b[32mignored\u001b[0m with signature constructed\n",
      "INFO: Step \u001b[32mmissing_1\u001b[0m (index=5) is \u001b[32mignored\u001b[0m with signature constructed\n",
      "INFO: Step \u001b[32mmissing_1\u001b[0m (index=6) is \u001b[32mignored\u001b[0m with signature constructed\n",
      "INFO: Step \u001b[32mmissing_1\u001b[0m (index=7) is \u001b[32mignored\u001b[0m with signature constructed\n",
      "INFO: Step \u001b[32mmissing_1\u001b[0m (index=8) is \u001b[32mignored\u001b[0m with signature constructed\n",
      "INFO: Step \u001b[32mmissing_1\u001b[0m (index=9) is \u001b[32mignored\u001b[0m with signature constructed\n",
      "INFO: Step \u001b[32mmissing_1\u001b[0m (index=10) is \u001b[32mignored\u001b[0m with signature constructed\n",
      "INFO: Step \u001b[32mmissing_1\u001b[0m (index=11) is \u001b[32mignored\u001b[0m with signature constructed\n",
      "INFO: Step \u001b[32mmissing_1\u001b[0m (index=12) is \u001b[32mignored\u001b[0m with signature constructed\n",
      "INFO: Step \u001b[32mmissing_1\u001b[0m (index=13) is \u001b[32mignored\u001b[0m with signature constructed\n",
      "INFO: Step \u001b[32mmissing_1\u001b[0m (index=14) is \u001b[32mignored\u001b[0m with signature constructed\n",
      "INFO: Step \u001b[32mmissing_1\u001b[0m (index=15) is \u001b[32mignored\u001b[0m with signature constructed\n",
      "INFO: Step \u001b[32mmissing_1\u001b[0m (index=16) is \u001b[32mignored\u001b[0m with signature constructed\n",
      "INFO: Step \u001b[32mmissing_1\u001b[0m (index=17) is \u001b[32mignored\u001b[0m with signature constructed\n",
      "INFO: Step \u001b[32mmissing_1\u001b[0m (index=18) is \u001b[32mignored\u001b[0m with signature constructed\n",
      "INFO: Step \u001b[32mmissing_1\u001b[0m (index=19) is \u001b[32mignored\u001b[0m with signature constructed\n",
      "INFO: Step \u001b[32mmissing_1\u001b[0m (index=20) is \u001b[32mignored\u001b[0m with signature constructed\n",
      "INFO: Step \u001b[32mmissing_1\u001b[0m (index=21) is \u001b[32mignored\u001b[0m with signature constructed\n",
      "INFO: \u001b[32mmissing_1\u001b[0m output:   \u001b[32m/gpfs/gibbs/pi/dewan/data/UKBiobank/results/pca_exomes/ukb23155_c1_b0_v1.imiss /gpfs/gibbs/pi/dewan/data/UKBiobank/results/pca_exomes/ukb23155_c1_b0_v1.lmiss... (88 items in 22 groups)\u001b[0m\n",
      "INFO: Running \u001b[32mmissing_2\u001b[0m: Generate plots to understand patterns of missing data\n",
      "1783906 variants loaded from .bim file.\n",
      "INFO: \u001b[32mmissing_2\u001b[0m (index=0) is \u001b[32mcompleted\u001b[0m.\n",
      "1310712 variants loaded from .bim file.\n",
      "INFO: \u001b[32mmissing_2\u001b[0m (index=1) is \u001b[32mcompleted\u001b[0m.\n",
      "1039941 variants loaded from .bim file.\n",
      "INFO: \u001b[32mmissing_2\u001b[0m (index=2) is \u001b[32mcompleted\u001b[0m.\n",
      "717783 variants loaded from .bim file.\n",
      "INFO: \u001b[32mmissing_2\u001b[0m (index=3) is \u001b[32mcompleted\u001b[0m.\n",
      "790760 variants loaded from .bim file.\n",
      "INFO: \u001b[32mmissing_2\u001b[0m (index=4) is \u001b[32mcompleted\u001b[0m.\n",
      "887003 variants loaded from .bim file.\n",
      "INFO: \u001b[32mmissing_2\u001b[0m (index=5) is \u001b[32mcompleted\u001b[0m.\n",
      "858981 variants loaded from .bim file.\n",
      "INFO: \u001b[32mmissing_2\u001b[0m (index=6) is \u001b[32mcompleted\u001b[0m.\n",
      "654090 variants loaded from .bim file.\n",
      "INFO: \u001b[32mmissing_2\u001b[0m (index=7) is \u001b[32mcompleted\u001b[0m.\n",
      "774556 variants loaded from .bim file.\n",
      "INFO: \u001b[32mmissing_2\u001b[0m (index=8) is \u001b[32mcompleted\u001b[0m.\n",
      "733427 variants loaded from .bim file.\n",
      "INFO: \u001b[32mmissing_2\u001b[0m (index=9) is \u001b[32mcompleted\u001b[0m.\n",
      "1059628 variants loaded from .bim file.\n",
      "INFO: \u001b[32mmissing_2\u001b[0m (index=10) is \u001b[32mcompleted\u001b[0m.\n",
      "950532 variants loaded from .bim file.\n",
      "INFO: \u001b[32mmissing_2\u001b[0m (index=11) is \u001b[32mcompleted\u001b[0m.\n",
      "320631 variants loaded from .bim file.\n",
      "INFO: \u001b[32mmissing_2\u001b[0m (index=12) is \u001b[32mcompleted\u001b[0m.\n",
      "557237 variants loaded from .bim file.\n",
      "INFO: \u001b[32mmissing_2\u001b[0m (index=13) is \u001b[32mcompleted\u001b[0m.\n",
      "620095 variants loaded from .bim file.\n",
      "INFO: \u001b[32mmissing_2\u001b[0m (index=14) is \u001b[32mcompleted\u001b[0m.\n",
      "875192 variants loaded from .bim file.\n",
      "INFO: \u001b[32mmissing_2\u001b[0m (index=15) is \u001b[32mcompleted\u001b[0m.\n",
      "1047224 variants loaded from .bim file.\n",
      "INFO: \u001b[32mmissing_2\u001b[0m (index=16) is \u001b[32mcompleted\u001b[0m.\n",
      "286694 variants loaded from .bim file.\n",
      "INFO: \u001b[32mmissing_2\u001b[0m (index=17) is \u001b[32mcompleted\u001b[0m.\n",
      "1210652 variants loaded from .bim file.\n",
      "INFO: \u001b[32mmissing_2\u001b[0m (index=18) is \u001b[32mcompleted\u001b[0m.\n",
      "459900 variants loaded from .bim file.\n",
      "INFO: \u001b[32mmissing_2\u001b[0m (index=19) is \u001b[32mcompleted\u001b[0m.\n",
      "195726 variants loaded from .bim file.\n",
      "INFO: \u001b[32mmissing_2\u001b[0m (index=20) is \u001b[32mcompleted\u001b[0m.\n",
      "414980 variants loaded from .bim file.\n",
      "INFO: \u001b[32mmissing_2\u001b[0m (index=21) is \u001b[32mcompleted\u001b[0m.\n",
      "INFO: \u001b[32mmissing_2\u001b[0m output:   \u001b[32m/gpfs/gibbs/pi/dewan/data/UKBiobank/results/pca_exomes/ukb23155_c1_b0_v1.missing.md /gpfs/gibbs/pi/dewan/data/UKBiobank/results/pca_exomes/ukb23155_c1_b0_v1.imiss.png... (88 items in 22 groups)\u001b[0m\n",
      "INFO: Running \u001b[32mmissing_3\u001b[0m: Generate markdown file\n",
      "INFO: \u001b[32mmissing_3\u001b[0m (index=0) is \u001b[32mcompleted\u001b[0m.\n",
      "INFO: \u001b[32mmissing_3\u001b[0m (index=1) is \u001b[32mcompleted\u001b[0m.\n",
      "INFO: \u001b[32mmissing_3\u001b[0m (index=2) is \u001b[32mcompleted\u001b[0m.\n",
      "INFO: \u001b[32mmissing_3\u001b[0m (index=3) is \u001b[32mcompleted\u001b[0m.\n",
      "INFO: \u001b[32mmissing_3\u001b[0m (index=4) is \u001b[32mcompleted\u001b[0m.\n",
      "INFO: \u001b[32mmissing_3\u001b[0m (index=5) is \u001b[32mcompleted\u001b[0m.\n",
      "INFO: \u001b[32mmissing_3\u001b[0m (index=6) is \u001b[32mcompleted\u001b[0m.\n",
      "INFO: \u001b[32mmissing_3\u001b[0m (index=7) is \u001b[32mcompleted\u001b[0m.\n",
      "INFO: \u001b[32mmissing_3\u001b[0m (index=8) is \u001b[32mcompleted\u001b[0m.\n",
      "INFO: \u001b[32mmissing_3\u001b[0m (index=9) is \u001b[32mcompleted\u001b[0m.\n",
      "INFO: \u001b[32mmissing_3\u001b[0m (index=10) is \u001b[32mcompleted\u001b[0m.\n",
      "INFO: \u001b[32mmissing_3\u001b[0m (index=11) is \u001b[32mcompleted\u001b[0m.\n",
      "INFO: \u001b[32mmissing_3\u001b[0m (index=12) is \u001b[32mcompleted\u001b[0m.\n",
      "INFO: \u001b[32mmissing_3\u001b[0m (index=13) is \u001b[32mcompleted\u001b[0m.\n",
      "INFO: \u001b[32mmissing_3\u001b[0m (index=14) is \u001b[32mcompleted\u001b[0m.\n",
      "INFO: \u001b[32mmissing_3\u001b[0m (index=15) is \u001b[32mcompleted\u001b[0m.\n",
      "INFO: \u001b[32mmissing_3\u001b[0m (index=16) is \u001b[32mcompleted\u001b[0m.\n",
      "INFO: \u001b[32mmissing_3\u001b[0m (index=17) is \u001b[32mcompleted\u001b[0m.\n",
      "INFO: \u001b[32mmissing_3\u001b[0m (index=18) is \u001b[32mcompleted\u001b[0m.\n",
      "INFO: \u001b[32mmissing_3\u001b[0m (index=19) is \u001b[32mcompleted\u001b[0m.\n",
      "INFO: \u001b[32mmissing_3\u001b[0m (index=20) is \u001b[32mcompleted\u001b[0m.\n",
      "INFO: \u001b[32mmissing_3\u001b[0m (index=21) is \u001b[32mcompleted\u001b[0m.\n",
      "INFO: Running \u001b[32mmissing_4\u001b[0m: Generate analysis report: HTML file, and optionally PPTX file\n",
      "INFO: \u001b[32mmissing_4\u001b[0m is \u001b[32mcompleted\u001b[0m.\n",
      "INFO: \u001b[32mmissing_4\u001b[0m output:   \u001b[32m/gpfs/gibbs/pi/dewan/data/UKBiobank/results/pca_exomes/ukb23155.merged.html\u001b[0m\n",
      "INFO: Workflow missing (ID=w0e3348cee7472d97) is executed successfully with 3 completed steps, 45 completed substeps, 1 ignored step and 22 ignored substeps.\n",
      "\n"
     ]
    }
   ],
   "source": [
    "tpl_file=../farnam.yml\n",
    "pca_dir=/gpfs/gibbs/pi/dewan/data/UKBiobank/results/pca_exomes\n",
    "famFile=/gpfs/gibbs/pi/dewan/data/UKBiobank/genotype_files/ukb28374_exomedata/exome_data_OCT2020/ukb23155_s200631.fam\n",
    "bedfiles=`echo /gpfs/gibbs/pi/dewan/data/UKBiobank/genotype_files/ukb28374_exomedata/exome_data_OCT2020/ukb23155_c{1..22}_b0_v1.bed`\n",
    "bimfiles=`echo /gpfs/gibbs/pi/dewan/data/UKBiobank/genotype_files/ukb28374_exomedata/exome_data_OCT2020/UKBexomeOQFE_chr{1..22}.bim`\n",
    "# Container\n",
    "container_lmm=/gpfs/gibbs/pi/dewan/data/UKBiobank/lmm.sif\n",
    "container_marp=/gpfs/gibbs/pi/dewan/data/UKBiobank/marp.sif\n",
    "# Pipeline\n",
    "plink_sos=~/project/UKBB_GWAS_dev/workflow/plink_missing.ipynb\n",
    "# Name of bash script\n",
    "pca_sbatch=../output/$(date +\"%Y-%m-%d\")_plink_miss.sbatch\n",
    "numThreads=1\n",
    "job_size=1\n",
    "\n",
    "\n",
    "sos run ~/project/UKBB_GWAS_dev/workflow/plink_missing.ipynb missing\\\n",
    "    --cwd $pca_dir \\\n",
    "    --bedfiles $bedfiles \\\n",
    "    --bimfiles $bimfiles \\\n",
    "    --famFile $famFile \\\n",
    "    --numThreads $numThreads \\\n",
    "    --job_size $job_size \\\n",
    "    --container_lmm $container_lmm \\\n",
    "    --container_marp $container_marp \\\n",
    "    -s build"
   ]
  },
  {
   "cell_type": "markdown",
   "metadata": {
    "kernel": "Bash"
   },
   "source": [
    "## Extracting individuals for a particular snp plink"
   ]
  },
  {
   "cell_type": "code",
   "execution_count": 37,
   "metadata": {
    "kernel": "Bash"
   },
   "outputs": [
    {
     "name": "stdout",
     "output_type": "stream",
     "text": [
      "\u001b[91mERROR\u001b[0m: \u001b[91mFailed to locate /home/dc2325/project/UKBB_GWAS_dev/plink_extract.ipynb.sos\u001b[0m\n",
      "\n"
     ]
    }
   ],
   "source": [
    "tpl_file=../farnam.yml\n",
    "pca_dir=/home/dc2325/scratch60/plink_extract\n",
    "famFile=/gpfs/gibbs/pi/dewan/data/UKBiobank/genotype_files/ukb28374_exomedata/exome_data_OCT2020/ukb23155_s200631.fam\n",
    "bedfiles=/gpfs/gibbs/pi/dewan/data/UKBiobank/genotype_files/ukb28374_exomedata/exome_data_OCT2020/ukb23155_c12_b0_v1.bed\n",
    "bimfiles=/gpfs/gibbs/pi/dewan/data/UKBiobank/genotype_files/ukb28374_exomedata/exome_data_OCT2020/UKBexomeOQFE_chr12.bim\n",
    "snp_list=/home/dc2325/scratch60/plink_extract/snp.txt\n",
    "# Container\n",
    "container_lmm=/gpfs/gibbs/pi/dewan/data/UKBiobank/lmm.sif\n",
    "container_marp=/gpfs/gibbs/pi/dewan/data/UKBiobank/marp.sif\n",
    "# Pipeline\n",
    "plink_sos=~/project/UKBB_GWAS_dev/plink_extract.ipynb\n",
    "# Name of bash script\n",
    "pca_sbatch=../output/$(date +\"%Y-%m-%d\")_plink_miss.sbatch\n",
    "numThreads=1\n",
    "job_size=1\n",
    "\n",
    "\n",
    "sos run ~/project/UKBB_GWAS_dev/plink_extract.ipynb  \\\n",
    "    --cwd $pca_dir \\\n",
    "    --bedfiles $bedfiles \\\n",
    "    --bimfiles $bimfiles \\\n",
    "    --famFile $famFile \\\n",
    "    --snp_list $snp_list \\\n",
    "    --numThreads $numThreads \\\n",
    "    --job_size $job_size \\\n",
    "    --container_lmm $container_lmm \\\n",
    "    --container_marp $container_marp"
   ]
  },
  {
   "cell_type": "markdown",
   "metadata": {
    "kernel": "Bash"
   },
   "source": [
    "## Regenie burden"
   ]
  },
  {
   "cell_type": "code",
   "execution_count": 23,
   "metadata": {
    "kernel": "Bash"
   },
   "outputs": [
    {
     "name": "stdout",
     "output_type": "stream",
     "text": [
      "INFO: Checking \u001b[32mregenie_burden\u001b[0m: Run regenie for burden tests\n",
      "HINT: singularity exec  /gpfs/gibbs/pi/dewan/data/UKBiobank/lmm.sif /bin/bash /gpfs/ysm/project/dewan/dc2325/UKBB_GWAS_dev/analysis/tmph24c8d72/singularity_run_193934.sh\n",
      "set -e\n",
      "regenie \\\n",
      "  --step 2 \\\n",
      "  --bed /gpfs/gibbs/pi/dewan/data/UKBiobank/MWE/burden/ukb23155_c21_b0_v1.plink.exome.filtered \\\n",
      "  --phenoFile output/phenotype_burden.regenie_phenotype \\\n",
      "  --covarFile output/phenotype_burden.regenie_covar \\\n",
      "  --phenoColList ASTHMA \\\n",
      "  --bt\n",
      "  --firth --approx \\\n",
      "  --pred output/phenotype_burden_ASTHMA.regenie_pred.list \\\n",
      "  --anno-file burden/annotation_file.txt \\\n",
      "  --set-list burden/set_list_file.txt \\\n",
      "  --extract-sets burden/keep_file.txt\\\n",
      "  --mask-def burden/mask_file.txt \\\n",
      "  --aaf-bins 0.05 \\\n",
      "  --write-mask \\\n",
      "  --build-mask \\\n",
      "  --bsize 10 \\\n",
      "  --check-burden-files \\\n",
      "  --gz \\\n",
      "  --out  output/cache/ukb23155_c21_b0_v1.plink.exome.filtered.burden\n",
      "\n",
      "\n",
      "INFO: \u001b[32mregenie_burden\u001b[0m (index=0) is \u001b[32mcompleted\u001b[0m.\n",
      "HINT: singularity exec  /gpfs/gibbs/pi/dewan/data/UKBiobank/lmm.sif /bin/bash /gpfs/ysm/project/dewan/dc2325/UKBB_GWAS_dev/analysis/tmpeg8za31c/singularity_run_193934.sh\n",
      "set -e\n",
      "regenie \\\n",
      "  --step 2 \\\n",
      "  --bed /gpfs/gibbs/pi/dewan/data/UKBiobank/MWE/burden/ukb23155_c22_b0_v1.plink.exome.filtered \\\n",
      "  --phenoFile output/phenotype_burden.regenie_phenotype \\\n",
      "  --covarFile output/phenotype_burden.regenie_covar \\\n",
      "  --phenoColList ASTHMA \\\n",
      "  --bt\n",
      "  --firth --approx \\\n",
      "  --pred output/phenotype_burden_ASTHMA.regenie_pred.list \\\n",
      "  --anno-file burden/annotation_file.txt \\\n",
      "  --set-list burden/set_list_file.txt \\\n",
      "  --extract-sets burden/keep_file.txt\\\n",
      "  --mask-def burden/mask_file.txt \\\n",
      "  --aaf-bins 0.05 \\\n",
      "  --write-mask \\\n",
      "  --build-mask \\\n",
      "  --bsize 10 \\\n",
      "  --check-burden-files \\\n",
      "  --gz \\\n",
      "  --out  output/cache/ukb23155_c22_b0_v1.plink.exome.filtered.burden\n",
      "\n",
      "\n",
      "INFO: \u001b[32mregenie_burden\u001b[0m (index=1) is \u001b[32mcompleted\u001b[0m.\n",
      "INFO: \u001b[32mregenie_burden\u001b[0m output:   \u001b[32moutput/cache/ukb23155_c21_b0_v1.plink.exome.filtered_ASTHMAburden.regenie.gz output/cache/ukb23155_c22_b0_v1.plink.exome.filtered_ASTHMAburden.regenie.gz in 2 groups\u001b[0m\n",
      "INFO: Workflow regenie_burden (ID=w7723835731215d60) is tested successfully with 1 completed step and 2 completed substeps.\n",
      "\n"
     ]
    }
   ],
   "source": [
    "genoFile=`echo /gpfs/gibbs/pi/dewan/data/UKBiobank/MWE/burden/ukb23155_c{21..22}_b0_v1.plink.exome.filtered.bed`\n",
    "sos dryrun ~/project/bioworkflows/GWAS/LMM.ipynb regenie_burden \\\n",
    "    --cwd output \\\n",
    "    --bfile genotypes21_22.bed \\\n",
    "    --genoFile $genoFile \\\n",
    "    --sampleFile \\\n",
    "    --phenoFile burden/phenotype_burden.txt\\\n",
    "    --phenoCol ASTHMA\\\n",
    "    --covarCol SEX \\\n",
    "    --qCovarCol AGE \\\n",
    "    --numThreads 8 \\\n",
    "    --bsize 10 \\\n",
    "    --anno_file burden/annotation_file.txt\\\n",
    "    --set_list burden/set_list_file.txt \\\n",
    "    --mask_file burden/mask_file.txt \\\n",
    "    --keep_gene burden/keep_file.txt\\\n",
    "    --aaf_bins 0.05 \\\n",
    "    --trait bt \\\n",
    "    --build_mask max \\\n",
    "    --container_lmm /gpfs/gibbs/pi/dewan/data/UKBiobank/lmm.sif"
   ]
  },
  {
   "cell_type": "code",
   "execution_count": null,
   "metadata": {
    "kernel": "Bash"
   },
   "outputs": [],
   "source": []
  }
 ],
 "metadata": {
  "kernelspec": {
   "display_name": "SoS",
   "language": "sos",
   "name": "sos"
  },
  "language_info": {
   "codemirror_mode": "sos",
   "file_extension": ".sos",
   "mimetype": "text/x-sos",
   "name": "sos",
   "nbconvert_exporter": "sos_notebook.converter.SoS_Exporter",
   "pygments_lexer": "sos"
  },
  "sos": {
   "kernels": [
    [
     "Bash",
     "calysto_bash",
     "Bash",
     "#E6EEFF",
     ""
    ]
   ],
   "version": "0.21.21"
  }
 },
 "nbformat": 4,
 "nbformat_minor": 4
}
