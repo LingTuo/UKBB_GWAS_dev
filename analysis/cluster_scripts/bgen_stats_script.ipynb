{
 "cells": [
  {
   "cell_type": "markdown",
   "metadata": {
    "kernel": "Bash"
   },
   "source": [
    "## Analysis of snp summary statistics"
   ]
  },
  {
   "cell_type": "markdown",
   "metadata": {
    "kernel": "SoS"
   },
   "source": [
    "The aim is to create a sbatch script for the analysis of snp_stats using qctool and the snpstats.ipynb pipeline"
   ]
  },
  {
   "cell_type": "code",
   "execution_count": 20,
   "metadata": {
    "kernel": "Bash"
   },
   "outputs": [],
   "source": [
    "# Common variables\n",
    "tpl_file=../farnam.yml\n",
    "bgenFile=`echo /gpfs/gibbs/pi/dewan/data/UKBiobank/genotype_files/ukb39554_imputeddataset/ukb_imp_chr{1..22}_v3.bgen`\n",
    "numThreads=20\n",
    "job_size=1\n",
    "# qctool directories\n",
    "qctool_dir=~/scratch60/qctool_stats\n",
    "qctool_sos=../analysis/snpstats.ipynb\n",
    "qctool_sbatch=../output/$(date +\"%Y-%m-%d\")_qctool_snpstats.sbatch"
   ]
  },
  {
   "cell_type": "code",
   "execution_count": 21,
   "metadata": {
    "kernel": "Bash"
   },
   "outputs": [
    {
     "name": "stdout",
     "output_type": "stream",
     "text": [
      "INFO: Running \u001b[32mfarnam\u001b[0m: Configuration for Yale `farnam` cluster\n",
      "INFO: \u001b[32mfarnam\u001b[0m (index=0) is \u001b[32mignored\u001b[0m due to saved signature\n",
      "INFO: \u001b[32mfarnam\u001b[0m output:   \u001b[32m../output/2020-07-14_qctool_snpstats.sbatch\u001b[0m\n",
      "INFO: Workflow farnam (ID=1a01e8a694d7f593) is ignored with 1 ignored step.\n"
     ]
    }
   ],
   "source": [
    "qctool_args=\"\"\"default\n",
    "    --cwd $qctool_dir \n",
    "    --bgenFile $bgenFile \n",
    "    --numThreads $numThreads \n",
    "    --job_size $job_size\n",
    "\"\"\"\n",
    "sos run ../workflow/Get_Job_Script.ipynb farnam \\\n",
    "    --template-file $tpl_file \\\n",
    "    --workflow-file $qctool_sos \\\n",
    "    --to-script $qctool_sbatch \\\n",
    "    --args \"$qctool_args\""
   ]
  },
  {
   "cell_type": "code",
   "execution_count": 19,
   "metadata": {
    "kernel": "Bash"
   },
   "outputs": [
    {
     "data": {
      "text/html": [
       "<div class=\"sos_hint\">> ../output/2020-07-14_qctool_snpstats.sbatch (2.6 KiB):</div>"
      ],
      "text/plain": [
       "\n",
       "> ../output/2020-07-14_qctool_snpstats.sbatch (2.6 KiB):"
      ]
     },
     "metadata": {},
     "output_type": "display_data"
    },
    {
     "data": {
      "text/html": [
       "<div class=\"sos_hint\">20 lines (-1 displayed, see --limit)</div>"
      ]
     },
     "metadata": {},
     "output_type": "display_data"
    },
    {
     "name": "stdout",
     "output_type": "stream",
     "text": [
      "#!/bin/bash\n",
      "#SBATCH --partition general\n",
      "#SBATCH --nodes 1\n",
      "#SBATCH --ntasks-per-node 1\n",
      "#SBATCH --cpus-per-task 4\n",
      "#SBATCH --mem 16G\n",
      "#SBATCH --time 5-0:00:00\n",
      "#SBATCH --job-name ../output/2020-07-14_qctool_snpstats\n",
      "#SBATCH --output ../output/2020-07-14_qctool_snpstats-%J.out\n",
      "#SBATCH --error ../output/2020-07-14_qctool_snpstats-%J.log\n",
      "\n",
      "sos run /gpfs/ysm/project/dewan/dc2325/UKBB_GWAS_DEV/analysis/snpstats.ipynb \\\n",
      "    default\\\n",
      "    --cwd /home/dc2325/scratch60/qctool_stats \\\n",
      "    --bgenFile /SAY/dbgapstg/scratch/UKBiobank/genotype_files/ukb39554_imputeddataset/ukb_imp_chr1_v3.bgen /SAY/dbgapstg/scratch/UKBiobank/genotype_files/ukb39554_imputeddataset/ukb_imp_chr2_v3.bgen /SAY/dbgapstg/scratch/UKBiobank/genotype_files/ukb39554_imputeddataset/ukb_imp_chr3_v3.bgen /SAY/dbgapstg/scratch/UKBiobank/genotype_files/ukb39554_imputeddataset/ukb_imp_chr4_v3.bgen /SAY/dbgapstg/scratch/UKBiobank/genotype_files/ukb39554_imputeddataset/ukb_imp_chr5_v3.bgen /SAY/dbgapstg/scratch/UKBiobank/genotype_files/ukb39554_imputeddataset/ukb_imp_chr6_v3.bgen /SAY/dbgapstg/scratch/UKBiobank/genotype_files/ukb39554_imputeddataset/ukb_imp_chr7_v3.bgen /SAY/dbgapstg/scratch/UKBiobank/genotype_files/ukb39554_imputeddataset/ukb_imp_chr8_v3.bgen /SAY/dbgapstg/scratch/UKBiobank/genotype_files/ukb39554_imputeddataset/ukb_imp_chr9_v3.bgen /SAY/dbgapstg/scratch/UKBiobank/genotype_files/ukb39554_imputeddataset/ukb_imp_chr10_v3.bgen /SAY/dbgapstg/scratch/UKBiobank/genotype_files/ukb39554_imputeddataset/ukb_imp_chr11_v3.bgen /SAY/dbgapstg/scratch/UKBiobank/genotype_files/ukb39554_imputeddataset/ukb_imp_chr12_v3.bgen /SAY/dbgapstg/scratch/UKBiobank/genotype_files/ukb39554_imputeddataset/ukb_imp_chr13_v3.bgen /SAY/dbgapstg/scratch/UKBiobank/genotype_files/ukb39554_imputeddataset/ukb_imp_chr14_v3.bgen /SAY/dbgapstg/scratch/UKBiobank/genotype_files/ukb39554_imputeddataset/ukb_imp_chr15_v3.bgen /SAY/dbgapstg/scratch/UKBiobank/genotype_files/ukb39554_imputeddataset/ukb_imp_chr16_v3.bgen /SAY/dbgapstg/scratch/UKBiobank/genotype_files/ukb39554_imputeddataset/ukb_imp_chr17_v3.bgen /SAY/dbgapstg/scratch/UKBiobank/genotype_files/ukb39554_imputeddataset/ukb_imp_chr18_v3.bgen /SAY/dbgapstg/scratch/UKBiobank/genotype_files/ukb39554_imputeddataset/ukb_imp_chr19_v3.bgen /SAY/dbgapstg/scratch/UKBiobank/genotype_files/ukb39554_imputeddataset/ukb_imp_chr20_v3.bgen /SAY/dbgapstg/scratch/UKBiobank/genotype_files/ukb39554_imputeddataset/ukb_imp_chr21_v3.bgen /SAY/dbgapstg/scratch/UKBiobank/genotype_files/ukb39554_imputeddataset/ukb_imp_chr22_v3.bgen \\\n",
      "    --numThreads 20 \\\n",
      "    --job_size 1 \\\n",
      "    -c /gpfs/ysm/project/dewan/dc2325/UKBB_GWAS_DEV/farnam.yml -q farnam -J 40 \\\n",
      "    &> ../output/2020-07-14_qctool_snpstats.log\n"
     ]
    },
    {
     "data": {
      "text/html": [
       "<div class=\"sos_hint\">> ../output/2020-07-14_qctool_snpstats.sbatch:</div>"
      ],
      "text/plain": [
       ">>> ../output/2020-07-14_qctool_snpstats.sbatch:\n"
      ]
     },
     "metadata": {},
     "output_type": "display_data"
    },
    {
     "name": "stdout",
     "output_type": "stream",
     "text": [
      "bash: ../output/2020-07-14_qctool_snpstats.sbatch: Permission denied\n"
     ]
    }
   ],
   "source": [
    "%preview ../output/2020-07-14_qctool_snpstats.sbatch -l -1"
   ]
  },
  {
   "cell_type": "code",
   "execution_count": null,
   "metadata": {
    "kernel": "Bash"
   },
   "outputs": [],
   "source": []
  }
 ],
 "metadata": {
  "kernelspec": {
   "display_name": "SoS",
   "language": "sos",
   "name": "sos"
  },
  "language_info": {
   "codemirror_mode": "sos",
   "file_extension": ".sos",
   "mimetype": "text/x-sos",
   "name": "sos",
   "nbconvert_exporter": "sos_notebook.converter.SoS_Exporter",
   "pygments_lexer": "sos"
  },
  "sos": {
   "kernels": [
    [
     "Bash",
     "calysto_bash",
     "Bash",
     "#E6EEFF",
     "shell"
    ],
    [
     "SoS",
     "sos",
     "",
     "",
     "sos"
    ]
   ],
   "version": "0.21.21"
  }
 },
 "nbformat": 4,
 "nbformat_minor": 4
}
