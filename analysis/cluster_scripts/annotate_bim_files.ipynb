{
 "cells": [
  {
   "cell_type": "markdown",
   "id": "3723366b-2d54-4c29-8a6a-3e8d424718cd",
   "metadata": {
    "kernel": "SoS",
    "tags": []
   },
   "source": [
    "# Annotate bim files from imputed and exome data using ANNOVAR"
   ]
  },
  {
   "cell_type": "markdown",
   "id": "fb495545-5d49-4348-8c1b-3604595975c7",
   "metadata": {
    "kernel": "SoS"
   },
   "source": [
    "## Step 1. Creation of a bim file for the imputed data \n",
    "\n",
    "In this case I've decided to use the files in this folder `UKBiobank_Yale_transfer/ukb39554_imputeddataset` named `ukb_mfi_chr{1..22}_v3.txt`\n",
    "\n",
    "The header for this files is described [here](https://biobank.ctsu.ox.ac.uk/crystal/refer.cgi?id=531) and it is a follows: \n",
    "\n",
    "NOTE: remember that sometimes the minor allele is not the alternative allele \n",
    "\n",
    "* Alternate_id\n",
    "* RS_id\n",
    "* Position\n",
    "* Allele1\n",
    "* Allele2\n",
    "* MAF\n",
    "* Minor Allele\n",
    "* Info score\n",
    "\n",
    "From this file we need to create the bim file format \n",
    "\n",
    ".bim (PLINK extended MAP file)\n",
    "\n",
    "Extended variant information file accompanying a .bed binary genotype table.\n",
    "\n",
    "A text file with no header line, and one line per variant with the following six fields:\n",
    "\n",
    "    Chromosome code (either an integer, or 'X'/'Y'/'XY'/'MT'; '0' indicates unknown) or name\n",
    "    Variant identifier\n",
    "    Position in morgans or centimorgans (safe to use dummy value of '0')\n",
    "    Base-pair coordinate (1-based; limited to 231-2)\n",
    "    Allele 1 (corresponding to clear bits in .bed; usually minor) \n",
    "    Allele 2 (corresponding to set bits in .bed; usually major)\n",
    "\n",
    "Then this bim file is processed by the annovar.ipynb to create the avinput file with the following format\n",
    "\n",
    "On each line, the first five space- or tab- delimited columns represent:\n",
    "\n",
    "    chromosome\n",
    "    start position\n",
    "    end position\n",
    "    the reference nucleotides\n",
    "    the observed nucleotides"
   ]
  },
  {
   "cell_type": "markdown",
   "id": "cecf5ad4-0913-4950-8647-63c00e668b73",
   "metadata": {
    "kernel": "SoS"
   },
   "source": [
    "### Create the bim file from the `ukb_mfi_chr{1..22}_v3.txt` files\n"
   ]
  },
  {
   "cell_type": "code",
   "execution_count": 3,
   "id": "8f32deeb-5d5c-4c08-ac74-e01e8037b0e9",
   "metadata": {
    "kernel": "Bash",
    "tags": []
   },
   "outputs": [
    {
     "name": "stderr",
     "output_type": "stream",
     "text": [
      "/home/dmc2245/miniconda3/lib/python3.8/site-packages/sos_notebook/kernel.py:1334: DeprecationWarning: Kernel._parent_header is deprecated in ipykernel 6. Use .get_parent()\n",
      "  msg['msg_id'] = self._parent_header['header']['msg_id']\n"
     ]
    },
    {
     "name": "stdout",
     "output_type": "stream",
     "text": [
      "1:10177_A_AC\trs367896724\t10177\tA\tAC\t0.40079\tAC\t0.467935\n",
      "1:10235_T_TA\trs540431307\t10235\tT\tTA\t0.000367353\tTA\t0.214688\n",
      "1:10352_T_TA\trs201106462\t10352\tT\tTA\t0.394625\tTA\t0.447895\n",
      "1:10505_A_T\trs548419688\t10505\tA\tT\t1.7934e-05\tT\t0.230206\n",
      "1:10506_C_G\trs568405545\t10506\tC\tG\t1.7934e-05\tG\t0.230206\n",
      "1:10511_G_A\trs534229142\t10511\tG\tA\t0.00121697\tA\t0.438272\n",
      "1:10539_C_A\trs537182016\t10539\tC\tA\t0.000484692\tA\t0.185581\n",
      "1:10542_C_T\trs572818783\t10542\tC\tT\t1.18112e-05\tT\t0.397842\n",
      "1:10579_C_A\trs538322974\t10579\tC\tA\t4.42114e-06\tA\t0.578674\n",
      "1:10616_CCGCCGTTGCAAAGGCGCGCCG_C\t1:10616_CCGCCGTTGCAAAGGCGCGCCG_C\t10616\tCCGCCGTTGCAAAGGCGCGCCG\tC\t0.00583227\tCCGCCGTTGCAAAGGCGCGCCG\t0.468098\n",
      "cat: write error: Broken pipe\n"
     ]
    }
   ],
   "source": [
    "cd $HOME/UKBiobank_Yale_transfer/ukb39554_imputeddataset\n",
    "cat ukb_mfi_chr1_v3.txt | head"
   ]
  },
  {
   "cell_type": "code",
   "execution_count": 7,
   "id": "b89cc80d-b301-4887-92fa-4e0fc9bca8a3",
   "metadata": {
    "kernel": "Bash"
   },
   "outputs": [
    {
     "name": "stdout",
     "output_type": "stream",
     "text": [
      "1 1:10177:A:AC 10177 AC A\n",
      "1 1:10235:T:TA 10235 TA T\n",
      "1 1:10352:T:TA 10352 TA T\n",
      "1 1:10505:A:T 10505 T A\n",
      "1 1:10506:C:G 10506 G C\n",
      "1 1:10511:G:A 10511 A G\n",
      "1 1:10539:C:A 10539 A C\n",
      "1 1:10542:C:T 10542 T C\n",
      "1 1:10579:C:A 10579 A C\n",
      "1 1:10616:CCGCCGTTGCAAAGGCGCGCCG:C 10616 C CCGCCGTTGCAAAGGCGCGCCG\n",
      "cat: write error: Broken pipe\n"
     ]
    }
   ],
   "source": [
    "# From the ubk_mfi file get the chr, alternate_id, pos, allele 1 (alternative and usually minor) and allele 2 (reference and usually major)\n",
    "# Add the 0 cM column \n",
    "cat ukb_mfi_chr1_v3.txt | awk ' { gsub(\"_\",\":\",$1); print substr($1,1,1), $1, $3, $5, $4 }' | head"
   ]
  },
  {
   "cell_type": "code",
   "execution_count": 19,
   "id": "f2c37ba1-bde3-4c7d-9719-2c3009b21fd1",
   "metadata": {
    "kernel": "Bash"
   },
   "outputs": [
    {
     "name": "stdout",
     "output_type": "stream",
     "text": [
      "1 1:10177:A:AC 0 10177 AC A\n",
      "1 1:10235:T:TA 0 10235 TA T\n",
      "1 1:10352:T:TA 0 10352 TA T\n",
      "1 1:10505:A:T 0 10505 T A\n",
      "1 1:10506:C:G 0 10506 G C\n",
      "1 1:10511:G:A 0 10511 A G\n",
      "1 1:10539:C:A 0 10539 A C\n",
      "1 1:10542:C:T 0 10542 T C\n",
      "1 1:10579:C:A 0 10579 A C\n",
      "1 1:10616:CCGCCGTTGCAAAGGCGCGCCG:C 0 10616 C CCGCCGTTGCAAAGGCGCGCCG\n",
      "cat: write error: Broken pipe\n"
     ]
    }
   ],
   "source": [
    "# Add the 0 cM column to the bim file so it can be processed with annovar\n",
    "cat ukb_mfi_chr1_v3.txt | awk ' { gsub(\"_\",\":\",$1); print substr($1,1,1), $1, $3, $5, $4 }' | awk 'BEGIN{FS=OFS=\" \"}{$2 = $2 OFS 0}1' | head"
   ]
  },
  {
   "cell_type": "code",
   "execution_count": 20,
   "id": "73ce36f8-c2c1-4941-8c5e-8540ce1aa6cc",
   "metadata": {
    "kernel": "Bash"
   },
   "outputs": [],
   "source": [
    "# For loop to create the bim for each mfi file in this folder\n",
    "\n",
    "for file in ukb_mfi_chr{1..22}_v3.txt ; do \n",
    "    cat $file | awk ' { gsub(\"_\",\":\",$1); print substr($1,1,1), $1, $3, $5, $4 }' |awk 'BEGIN{FS=OFS=\" \"}{$2 = $2 OFS 0}1' > $HOME/UKBiobank/results/ukb39554_imputeddataset_bim_files/${file%.txt}.bim ; done"
   ]
  },
  {
   "cell_type": "markdown",
   "id": "43690627-7c55-481d-ae36-cd8580e4104e",
   "metadata": {
    "kernel": "SoS"
   },
   "source": [
    "## Annotate imputed data bim file"
   ]
  },
  {
   "cell_type": "code",
   "execution_count": 17,
   "id": "0862e5bf-7735-41e6-828a-b17cf174d58d",
   "metadata": {
    "kernel": "Bash",
    "tags": []
   },
   "outputs": [
    {
     "name": "stdout",
     "output_type": "stream",
     "text": [
      "INFO: Running \u001b[32mcsg\u001b[0m: Configuration for Columbia csg partition cluster\n",
      "INFO: \u001b[32mcsg\u001b[0m is \u001b[32mcompleted\u001b[0m.\n",
      "INFO: \u001b[32mcsg\u001b[0m output:   \u001b[32m/home/dmc2245/project/UKBB_GWAS_dev/output/annovar_chr1_22_ukb39554_imputed_data2021-08-06.sbatch\u001b[0m\n",
      "INFO: Workflow csg (ID=w8b977be5540ac876) is executed successfully with 1 completed step.\n"
     ]
    }
   ],
   "source": [
    "UKBB_PATH=$HOME/UKBiobank\n",
    "UKBB_yale=$HOME/UKBiobank_Yale_transfer\n",
    "USER_PATH=$HOME/project\n",
    "container_lmm=$HOME/containers/lmm.sif\n",
    "container_marp=$HOME/containers/marp.sif\n",
    "container_annovar=$HOME/containers/gatk4-annovar.sif\n",
    "tpl_file=$USER_PATH/bioworkflows/admin/csg.yml\n",
    "annovar_sos=$USER_PATH/bioworkflows/variant-annotation/annovar.ipynb\n",
    "annovar_sbatch=$USER_PATH/UKBB_GWAS_dev/output/annovar_chr1_22_ukb39554_imputed_data_$(date +\"%Y-%m-%d\").sbatch\n",
    "cwd=$UKBB_PATH/results/ukb39554_imputeddataset_bim_files\n",
    "bim_name=$UKBB_PATH/results/ukb39554_imputeddataset_bim_files/ukb_mfi_chr1_v3.bim\n",
    "humandb=/mnt/mfs/statgen/isabelle/REF/humandb\n",
    "xref_path=/mnt/mfs/statgen/isabelle/REF/humandb\n",
    "container_annovar=$HOME/containers/gatk4-annovar.sif\n",
    "name_prefix='ukb39554_imputed_allvariants'\n",
    "build='hg19'\n",
    "walltime='8h'\n",
    "mem='15G'\n",
    "\n",
    "annovar_args=\"\"\" annovar \n",
    "    --cwd $cwd \n",
    "    --bim_name $bim_name \n",
    "    --humandb $humandb \n",
    "    --xref_path $xref_path\n",
    "    --job_size 1 \n",
    "    --name_prefix $name_prefix\n",
    "    --build $build\n",
    "    --walltime $walltime\n",
    "    --mem $mem\n",
    "    --container_annovar $container_annovar\n",
    "\"\"\"\n",
    "\n",
    "sos run ~/project/UKBB_GWAS_dev/admin/Get_Job_Script.ipynb csg \\\n",
    "    --template-file $tpl_file \\\n",
    "    --workflow-file $annovar_sos \\\n",
    "    --to-script $annovar_sbatch \\\n",
    "    --args \"$annovar_args\""
   ]
  },
  {
   "cell_type": "markdown",
   "id": "2afd85bc-6466-4390-a7c5-d08cc8f9157b",
   "metadata": {
    "kernel": "Bash"
   },
   "source": [
    "## Reformatting the output of annovar csv"
   ]
  },
  {
   "cell_type": "code",
   "execution_count": 21,
   "id": "40a14627-f922-492a-b84f-a63d403aecff",
   "metadata": {
    "kernel": "Bash"
   },
   "outputs": [],
   "source": [
    "cd /home/dmc2245/UKBiobank/results/EOHI_thashi/exome_data/mendelian_like"
   ]
  },
  {
   "cell_type": "code",
   "execution_count": 65,
   "id": "44a9d676-79d9-4eaa-b357-5763f31ae43e",
   "metadata": {
    "kernel": "Python3",
    "tags": []
   },
   "outputs": [],
   "source": [
    "import pandas as pd\n",
    "import numpy as np\n",
    "import csv\n",
    "df = pd.read_csv('/home/dmc2245/UKBiobank/results/EOHI_thashi/exome_data/mendelian_like/full_mendilian-like_pheno_file_mendilian-like.hg38_multianno.csv', header=0)"
   ]
  },
  {
   "cell_type": "code",
   "execution_count": 66,
   "id": "f5fa400f-25ee-4c0a-9bf7-cb38221d9bf4",
   "metadata": {
    "kernel": "Python3"
   },
   "outputs": [
    {
     "data": {
      "text/html": [
       "<div>\n",
       "<style scoped>\n",
       "    .dataframe tbody tr th:only-of-type {\n",
       "        vertical-align: middle;\n",
       "    }\n",
       "\n",
       "    .dataframe tbody tr th {\n",
       "        vertical-align: top;\n",
       "    }\n",
       "\n",
       "    .dataframe thead th {\n",
       "        text-align: right;\n",
       "    }\n",
       "</style>\n",
       "<table border=\"1\" class=\"dataframe\">\n",
       "  <thead>\n",
       "    <tr style=\"text-align: right;\">\n",
       "      <th></th>\n",
       "      <th>Chr</th>\n",
       "      <th>Start</th>\n",
       "      <th>End</th>\n",
       "      <th>Ref</th>\n",
       "      <th>Alt</th>\n",
       "      <th>Func.refGene</th>\n",
       "      <th>Gene.refGene</th>\n",
       "      <th>GeneDetail.refGene</th>\n",
       "      <th>ExonicFunc.refGene</th>\n",
       "      <th>AAChange.refGene</th>\n",
       "      <th>...</th>\n",
       "      <th>CLNDISDB</th>\n",
       "      <th>CLNREVSTAT</th>\n",
       "      <th>CLNSIG</th>\n",
       "      <th>DN ID</th>\n",
       "      <th>Patient ID</th>\n",
       "      <th>Phenotype</th>\n",
       "      <th>Platform</th>\n",
       "      <th>Study</th>\n",
       "      <th>Pubmed ID</th>\n",
       "      <th>Otherinfo1</th>\n",
       "    </tr>\n",
       "  </thead>\n",
       "  <tbody>\n",
       "    <tr>\n",
       "      <th>0</th>\n",
       "      <td>2</td>\n",
       "      <td>113226763</td>\n",
       "      <td>113226763</td>\n",
       "      <td>C</td>\n",
       "      <td>T</td>\n",
       "      <td>intronic</td>\n",
       "      <td>PAX8</td>\n",
       "      <td>.</td>\n",
       "      <td>.</td>\n",
       "      <td>.</td>\n",
       "      <td>...</td>\n",
       "      <td>.</td>\n",
       "      <td>.</td>\n",
       "      <td>.</td>\n",
       "      <td>.</td>\n",
       "      <td>.</td>\n",
       "      <td>.</td>\n",
       "      <td>.</td>\n",
       "      <td>.</td>\n",
       "      <td>.</td>\n",
       "      <td>2:113226763:C:T 3.11003 0.820555 0.00187154381...</td>\n",
       "    </tr>\n",
       "    <tr>\n",
       "      <th>1</th>\n",
       "      <td>2</td>\n",
       "      <td>113236650</td>\n",
       "      <td>113236650</td>\n",
       "      <td>C</td>\n",
       "      <td>A</td>\n",
       "      <td>exonic</td>\n",
       "      <td>PAX8</td>\n",
       "      <td>.</td>\n",
       "      <td>synonymous SNV</td>\n",
       "      <td>PAX8:NM_003466:exon8:c.G849T:p.T283T,PAX8:NM_0...</td>\n",
       "      <td>...</td>\n",
       "      <td>.</td>\n",
       "      <td>.</td>\n",
       "      <td>.</td>\n",
       "      <td>.</td>\n",
       "      <td>.</td>\n",
       "      <td>.</td>\n",
       "      <td>.</td>\n",
       "      <td>.</td>\n",
       "      <td>.</td>\n",
       "      <td>2:113236650:C:A 3.9418 1.04813 0.0037630500964...</td>\n",
       "    </tr>\n",
       "    <tr>\n",
       "      <th>2</th>\n",
       "      <td>2</td>\n",
       "      <td>113278548</td>\n",
       "      <td>113278548</td>\n",
       "      <td>T</td>\n",
       "      <td>G</td>\n",
       "      <td>intronic</td>\n",
       "      <td>PAX8</td>\n",
       "      <td>.</td>\n",
       "      <td>.</td>\n",
       "      <td>.</td>\n",
       "      <td>...</td>\n",
       "      <td>.</td>\n",
       "      <td>.</td>\n",
       "      <td>.</td>\n",
       "      <td>.</td>\n",
       "      <td>.</td>\n",
       "      <td>.</td>\n",
       "      <td>.</td>\n",
       "      <td>.</td>\n",
       "      <td>.</td>\n",
       "      <td>2:113278548:T:G 3.82575 1.10564 0.004825474222...</td>\n",
       "    </tr>\n",
       "    <tr>\n",
       "      <th>3</th>\n",
       "      <td>2</td>\n",
       "      <td>178834304</td>\n",
       "      <td>178834304</td>\n",
       "      <td>C</td>\n",
       "      <td>G</td>\n",
       "      <td>exonic</td>\n",
       "      <td>CCDC141</td>\n",
       "      <td>.</td>\n",
       "      <td>nonsynonymous SNV</td>\n",
       "      <td>CCDC141:NM_173648:exon24:c.G4462C:p.G1488R</td>\n",
       "      <td>...</td>\n",
       "      <td>.</td>\n",
       "      <td>.</td>\n",
       "      <td>.</td>\n",
       "      <td>.</td>\n",
       "      <td>.</td>\n",
       "      <td>.</td>\n",
       "      <td>.</td>\n",
       "      <td>.</td>\n",
       "      <td>.</td>\n",
       "      <td>2:178834304:C:G 4.61829 1.11039 0.001484533492...</td>\n",
       "    </tr>\n",
       "    <tr>\n",
       "      <th>4</th>\n",
       "      <td>2</td>\n",
       "      <td>178853397</td>\n",
       "      <td>178853397</td>\n",
       "      <td>T</td>\n",
       "      <td>C</td>\n",
       "      <td>intronic</td>\n",
       "      <td>CCDC141</td>\n",
       "      <td>.</td>\n",
       "      <td>.</td>\n",
       "      <td>.</td>\n",
       "      <td>...</td>\n",
       "      <td>.</td>\n",
       "      <td>.</td>\n",
       "      <td>.</td>\n",
       "      <td>.</td>\n",
       "      <td>.</td>\n",
       "      <td>.</td>\n",
       "      <td>.</td>\n",
       "      <td>.</td>\n",
       "      <td>.</td>\n",
       "      <td>2:178853397:T:C 3.03501 0.768645 0.00190506588...</td>\n",
       "    </tr>\n",
       "  </tbody>\n",
       "</table>\n",
       "<p>5 rows × 146 columns</p>\n",
       "</div>"
      ],
      "text/plain": [
       "   Chr      Start        End Ref Alt Func.refGene Gene.refGene  \\\n",
       "0    2  113226763  113226763   C   T     intronic         PAX8   \n",
       "1    2  113236650  113236650   C   A       exonic         PAX8   \n",
       "2    2  113278548  113278548   T   G     intronic         PAX8   \n",
       "3    2  178834304  178834304   C   G       exonic      CCDC141   \n",
       "4    2  178853397  178853397   T   C     intronic      CCDC141   \n",
       "\n",
       "  GeneDetail.refGene ExonicFunc.refGene  \\\n",
       "0                  .                  .   \n",
       "1                  .     synonymous SNV   \n",
       "2                  .                  .   \n",
       "3                  .  nonsynonymous SNV   \n",
       "4                  .                  .   \n",
       "\n",
       "                                    AAChange.refGene  ... CLNDISDB CLNREVSTAT  \\\n",
       "0                                                  .  ...        .          .   \n",
       "1  PAX8:NM_003466:exon8:c.G849T:p.T283T,PAX8:NM_0...  ...        .          .   \n",
       "2                                                  .  ...        .          .   \n",
       "3         CCDC141:NM_173648:exon24:c.G4462C:p.G1488R  ...        .          .   \n",
       "4                                                  .  ...        .          .   \n",
       "\n",
       "  CLNSIG DN ID Patient ID Phenotype Platform Study Pubmed ID  \\\n",
       "0      .     .          .         .        .     .         .   \n",
       "1      .     .          .         .        .     .         .   \n",
       "2      .     .          .         .        .     .         .   \n",
       "3      .     .          .         .        .     .         .   \n",
       "4      .     .          .         .        .     .         .   \n",
       "\n",
       "                                          Otherinfo1  \n",
       "0  2:113226763:C:T 3.11003 0.820555 0.00187154381...  \n",
       "1  2:113236650:C:A 3.9418 1.04813 0.0037630500964...  \n",
       "2  2:113278548:T:G 3.82575 1.10564 0.004825474222...  \n",
       "3  2:178834304:C:G 4.61829 1.11039 0.001484533492...  \n",
       "4  2:178853397:T:C 3.03501 0.768645 0.00190506588...  \n",
       "\n",
       "[5 rows x 146 columns]"
      ]
     },
     "execution_count": 66,
     "metadata": {},
     "output_type": "execute_result"
    }
   ],
   "source": [
    "df.head()"
   ]
  },
  {
   "cell_type": "code",
   "execution_count": 67,
   "id": "02cc1cbe-6bed-4855-916e-6a3d9205073e",
   "metadata": {
    "kernel": "Python3",
    "tags": []
   },
   "outputs": [],
   "source": [
    "df1 = df[[\"Otherinfo1\"]]\n",
    "df1 = df1.astype(str)\n",
    "df2 = df1[\"Otherinfo1\"].str.split(\" \", n = 4, expand = True)\n",
    "df2.columns = [\"alternate_id\", \"BETA\", \"SE\", \"P\"]"
   ]
  },
  {
   "cell_type": "code",
   "execution_count": 68,
   "id": "1129e6d5-dacb-4118-8036-19258073aaeb",
   "metadata": {
    "kernel": "Python3"
   },
   "outputs": [
    {
     "data": {
      "text/html": [
       "<div>\n",
       "<style scoped>\n",
       "    .dataframe tbody tr th:only-of-type {\n",
       "        vertical-align: middle;\n",
       "    }\n",
       "\n",
       "    .dataframe tbody tr th {\n",
       "        vertical-align: top;\n",
       "    }\n",
       "\n",
       "    .dataframe thead th {\n",
       "        text-align: right;\n",
       "    }\n",
       "</style>\n",
       "<table border=\"1\" class=\"dataframe\">\n",
       "  <thead>\n",
       "    <tr style=\"text-align: right;\">\n",
       "      <th></th>\n",
       "      <th>Otherinfo1</th>\n",
       "    </tr>\n",
       "  </thead>\n",
       "  <tbody>\n",
       "    <tr>\n",
       "      <th>0</th>\n",
       "      <td>2:113226763:C:T 3.11003 0.820555 0.00187154381...</td>\n",
       "    </tr>\n",
       "    <tr>\n",
       "      <th>1</th>\n",
       "      <td>2:113236650:C:A 3.9418 1.04813 0.0037630500964...</td>\n",
       "    </tr>\n",
       "    <tr>\n",
       "      <th>2</th>\n",
       "      <td>2:113278548:T:G 3.82575 1.10564 0.004825474222...</td>\n",
       "    </tr>\n",
       "    <tr>\n",
       "      <th>3</th>\n",
       "      <td>2:178834304:C:G 4.61829 1.11039 0.001484533492...</td>\n",
       "    </tr>\n",
       "    <tr>\n",
       "      <th>4</th>\n",
       "      <td>2:178853397:T:C 3.03501 0.768645 0.00190506588...</td>\n",
       "    </tr>\n",
       "  </tbody>\n",
       "</table>\n",
       "</div>"
      ],
      "text/plain": [
       "                                          Otherinfo1\n",
       "0  2:113226763:C:T 3.11003 0.820555 0.00187154381...\n",
       "1  2:113236650:C:A 3.9418 1.04813 0.0037630500964...\n",
       "2  2:113278548:T:G 3.82575 1.10564 0.004825474222...\n",
       "3  2:178834304:C:G 4.61829 1.11039 0.001484533492...\n",
       "4  2:178853397:T:C 3.03501 0.768645 0.00190506588..."
      ]
     },
     "execution_count": 68,
     "metadata": {},
     "output_type": "execute_result"
    }
   ],
   "source": [
    "df1.head()"
   ]
  },
  {
   "cell_type": "code",
   "execution_count": 69,
   "id": "3f5ac29a-9463-498c-bed2-86b9517c3ddf",
   "metadata": {
    "kernel": "Python3"
   },
   "outputs": [
    {
     "data": {
      "text/html": [
       "<div>\n",
       "<style scoped>\n",
       "    .dataframe tbody tr th:only-of-type {\n",
       "        vertical-align: middle;\n",
       "    }\n",
       "\n",
       "    .dataframe tbody tr th {\n",
       "        vertical-align: top;\n",
       "    }\n",
       "\n",
       "    .dataframe thead th {\n",
       "        text-align: right;\n",
       "    }\n",
       "</style>\n",
       "<table border=\"1\" class=\"dataframe\">\n",
       "  <thead>\n",
       "    <tr style=\"text-align: right;\">\n",
       "      <th></th>\n",
       "      <th>alternate_id</th>\n",
       "      <th>BETA</th>\n",
       "      <th>SE</th>\n",
       "      <th>P</th>\n",
       "    </tr>\n",
       "  </thead>\n",
       "  <tbody>\n",
       "    <tr>\n",
       "      <th>0</th>\n",
       "      <td>2:113226763:C:T</td>\n",
       "      <td>3.11003</td>\n",
       "      <td>0.820555</td>\n",
       "      <td>0.0018715438197216</td>\n",
       "    </tr>\n",
       "    <tr>\n",
       "      <th>1</th>\n",
       "      <td>2:113236650:C:A</td>\n",
       "      <td>3.9418</td>\n",
       "      <td>1.04813</td>\n",
       "      <td>0.00376305009643935</td>\n",
       "    </tr>\n",
       "    <tr>\n",
       "      <th>2</th>\n",
       "      <td>2:113278548:T:G</td>\n",
       "      <td>3.82575</td>\n",
       "      <td>1.10564</td>\n",
       "      <td>0.00482547422273086</td>\n",
       "    </tr>\n",
       "    <tr>\n",
       "      <th>3</th>\n",
       "      <td>2:178834304:C:G</td>\n",
       "      <td>4.61829</td>\n",
       "      <td>1.11039</td>\n",
       "      <td>0.00148453349201184</td>\n",
       "    </tr>\n",
       "    <tr>\n",
       "      <th>4</th>\n",
       "      <td>2:178853397:T:C</td>\n",
       "      <td>3.03501</td>\n",
       "      <td>0.768645</td>\n",
       "      <td>0.00190506588518578</td>\n",
       "    </tr>\n",
       "  </tbody>\n",
       "</table>\n",
       "</div>"
      ],
      "text/plain": [
       "      alternate_id     BETA        SE                    P\n",
       "0  2:113226763:C:T  3.11003  0.820555   0.0018715438197216\n",
       "1  2:113236650:C:A   3.9418   1.04813  0.00376305009643935\n",
       "2  2:113278548:T:G  3.82575   1.10564  0.00482547422273086\n",
       "3  2:178834304:C:G  4.61829   1.11039  0.00148453349201184\n",
       "4  2:178853397:T:C  3.03501  0.768645  0.00190506588518578"
      ]
     },
     "execution_count": 69,
     "metadata": {},
     "output_type": "execute_result"
    }
   ],
   "source": [
    "df2.head()"
   ]
  },
  {
   "cell_type": "code",
   "execution_count": 70,
   "id": "bc6c828e-2d0a-4f25-bff2-86fc6b470ab0",
   "metadata": {
    "kernel": "Python3"
   },
   "outputs": [],
   "source": [
    "df = df2.join(df)"
   ]
  },
  {
   "cell_type": "code",
   "execution_count": 71,
   "id": "89bd38e7-d5be-440f-ac35-06dd25b4c710",
   "metadata": {
    "kernel": "Python3"
   },
   "outputs": [
    {
     "data": {
      "text/html": [
       "<div>\n",
       "<style scoped>\n",
       "    .dataframe tbody tr th:only-of-type {\n",
       "        vertical-align: middle;\n",
       "    }\n",
       "\n",
       "    .dataframe tbody tr th {\n",
       "        vertical-align: top;\n",
       "    }\n",
       "\n",
       "    .dataframe thead th {\n",
       "        text-align: right;\n",
       "    }\n",
       "</style>\n",
       "<table border=\"1\" class=\"dataframe\">\n",
       "  <thead>\n",
       "    <tr style=\"text-align: right;\">\n",
       "      <th></th>\n",
       "      <th>alternate_id</th>\n",
       "      <th>BETA</th>\n",
       "      <th>SE</th>\n",
       "      <th>P</th>\n",
       "      <th>Chr</th>\n",
       "      <th>Start</th>\n",
       "      <th>End</th>\n",
       "      <th>Ref</th>\n",
       "      <th>Alt</th>\n",
       "      <th>Func.refGene</th>\n",
       "      <th>...</th>\n",
       "      <th>CLNDISDB</th>\n",
       "      <th>CLNREVSTAT</th>\n",
       "      <th>CLNSIG</th>\n",
       "      <th>DN ID</th>\n",
       "      <th>Patient ID</th>\n",
       "      <th>Phenotype</th>\n",
       "      <th>Platform</th>\n",
       "      <th>Study</th>\n",
       "      <th>Pubmed ID</th>\n",
       "      <th>Otherinfo1</th>\n",
       "    </tr>\n",
       "  </thead>\n",
       "  <tbody>\n",
       "    <tr>\n",
       "      <th>0</th>\n",
       "      <td>2:113226763:C:T</td>\n",
       "      <td>3.11003</td>\n",
       "      <td>0.820555</td>\n",
       "      <td>0.0018715438197216</td>\n",
       "      <td>2</td>\n",
       "      <td>113226763</td>\n",
       "      <td>113226763</td>\n",
       "      <td>C</td>\n",
       "      <td>T</td>\n",
       "      <td>intronic</td>\n",
       "      <td>...</td>\n",
       "      <td>.</td>\n",
       "      <td>.</td>\n",
       "      <td>.</td>\n",
       "      <td>.</td>\n",
       "      <td>.</td>\n",
       "      <td>.</td>\n",
       "      <td>.</td>\n",
       "      <td>.</td>\n",
       "      <td>.</td>\n",
       "      <td>2:113226763:C:T 3.11003 0.820555 0.00187154381...</td>\n",
       "    </tr>\n",
       "    <tr>\n",
       "      <th>1</th>\n",
       "      <td>2:113236650:C:A</td>\n",
       "      <td>3.9418</td>\n",
       "      <td>1.04813</td>\n",
       "      <td>0.00376305009643935</td>\n",
       "      <td>2</td>\n",
       "      <td>113236650</td>\n",
       "      <td>113236650</td>\n",
       "      <td>C</td>\n",
       "      <td>A</td>\n",
       "      <td>exonic</td>\n",
       "      <td>...</td>\n",
       "      <td>.</td>\n",
       "      <td>.</td>\n",
       "      <td>.</td>\n",
       "      <td>.</td>\n",
       "      <td>.</td>\n",
       "      <td>.</td>\n",
       "      <td>.</td>\n",
       "      <td>.</td>\n",
       "      <td>.</td>\n",
       "      <td>2:113236650:C:A 3.9418 1.04813 0.0037630500964...</td>\n",
       "    </tr>\n",
       "    <tr>\n",
       "      <th>2</th>\n",
       "      <td>2:113278548:T:G</td>\n",
       "      <td>3.82575</td>\n",
       "      <td>1.10564</td>\n",
       "      <td>0.00482547422273086</td>\n",
       "      <td>2</td>\n",
       "      <td>113278548</td>\n",
       "      <td>113278548</td>\n",
       "      <td>T</td>\n",
       "      <td>G</td>\n",
       "      <td>intronic</td>\n",
       "      <td>...</td>\n",
       "      <td>.</td>\n",
       "      <td>.</td>\n",
       "      <td>.</td>\n",
       "      <td>.</td>\n",
       "      <td>.</td>\n",
       "      <td>.</td>\n",
       "      <td>.</td>\n",
       "      <td>.</td>\n",
       "      <td>.</td>\n",
       "      <td>2:113278548:T:G 3.82575 1.10564 0.004825474222...</td>\n",
       "    </tr>\n",
       "    <tr>\n",
       "      <th>3</th>\n",
       "      <td>2:178834304:C:G</td>\n",
       "      <td>4.61829</td>\n",
       "      <td>1.11039</td>\n",
       "      <td>0.00148453349201184</td>\n",
       "      <td>2</td>\n",
       "      <td>178834304</td>\n",
       "      <td>178834304</td>\n",
       "      <td>C</td>\n",
       "      <td>G</td>\n",
       "      <td>exonic</td>\n",
       "      <td>...</td>\n",
       "      <td>.</td>\n",
       "      <td>.</td>\n",
       "      <td>.</td>\n",
       "      <td>.</td>\n",
       "      <td>.</td>\n",
       "      <td>.</td>\n",
       "      <td>.</td>\n",
       "      <td>.</td>\n",
       "      <td>.</td>\n",
       "      <td>2:178834304:C:G 4.61829 1.11039 0.001484533492...</td>\n",
       "    </tr>\n",
       "    <tr>\n",
       "      <th>4</th>\n",
       "      <td>2:178853397:T:C</td>\n",
       "      <td>3.03501</td>\n",
       "      <td>0.768645</td>\n",
       "      <td>0.00190506588518578</td>\n",
       "      <td>2</td>\n",
       "      <td>178853397</td>\n",
       "      <td>178853397</td>\n",
       "      <td>T</td>\n",
       "      <td>C</td>\n",
       "      <td>intronic</td>\n",
       "      <td>...</td>\n",
       "      <td>.</td>\n",
       "      <td>.</td>\n",
       "      <td>.</td>\n",
       "      <td>.</td>\n",
       "      <td>.</td>\n",
       "      <td>.</td>\n",
       "      <td>.</td>\n",
       "      <td>.</td>\n",
       "      <td>.</td>\n",
       "      <td>2:178853397:T:C 3.03501 0.768645 0.00190506588...</td>\n",
       "    </tr>\n",
       "  </tbody>\n",
       "</table>\n",
       "<p>5 rows × 150 columns</p>\n",
       "</div>"
      ],
      "text/plain": [
       "      alternate_id     BETA        SE                    P  Chr      Start  \\\n",
       "0  2:113226763:C:T  3.11003  0.820555   0.0018715438197216    2  113226763   \n",
       "1  2:113236650:C:A   3.9418   1.04813  0.00376305009643935    2  113236650   \n",
       "2  2:113278548:T:G  3.82575   1.10564  0.00482547422273086    2  113278548   \n",
       "3  2:178834304:C:G  4.61829   1.11039  0.00148453349201184    2  178834304   \n",
       "4  2:178853397:T:C  3.03501  0.768645  0.00190506588518578    2  178853397   \n",
       "\n",
       "         End Ref Alt Func.refGene  ... CLNDISDB CLNREVSTAT CLNSIG DN ID  \\\n",
       "0  113226763   C   T     intronic  ...        .          .      .     .   \n",
       "1  113236650   C   A       exonic  ...        .          .      .     .   \n",
       "2  113278548   T   G     intronic  ...        .          .      .     .   \n",
       "3  178834304   C   G       exonic  ...        .          .      .     .   \n",
       "4  178853397   T   C     intronic  ...        .          .      .     .   \n",
       "\n",
       "  Patient ID Phenotype Platform Study Pubmed ID  \\\n",
       "0          .         .        .     .         .   \n",
       "1          .         .        .     .         .   \n",
       "2          .         .        .     .         .   \n",
       "3          .         .        .     .         .   \n",
       "4          .         .        .     .         .   \n",
       "\n",
       "                                          Otherinfo1  \n",
       "0  2:113226763:C:T 3.11003 0.820555 0.00187154381...  \n",
       "1  2:113236650:C:A 3.9418 1.04813 0.0037630500964...  \n",
       "2  2:113278548:T:G 3.82575 1.10564 0.004825474222...  \n",
       "3  2:178834304:C:G 4.61829 1.11039 0.001484533492...  \n",
       "4  2:178853397:T:C 3.03501 0.768645 0.00190506588...  \n",
       "\n",
       "[5 rows x 150 columns]"
      ]
     },
     "execution_count": 71,
     "metadata": {},
     "output_type": "execute_result"
    }
   ],
   "source": [
    "df.head()"
   ]
  },
  {
   "cell_type": "code",
   "execution_count": null,
   "id": "85b54526-9ddd-4029-9de9-8d07b4c887eb",
   "metadata": {
    "kernel": "Python3"
   },
   "outputs": [],
   "source": []
  }
 ],
 "metadata": {
  "kernelspec": {
   "display_name": "SoS",
   "language": "sos",
   "name": "sos"
  },
  "language_info": {
   "codemirror_mode": "sos",
   "file_extension": ".sos",
   "mimetype": "text/x-sos",
   "name": "sos",
   "nbconvert_exporter": "sos_notebook.converter.SoS_Exporter",
   "pygments_lexer": "sos"
  },
  "sos": {
   "kernels": [
    [
     "Bash",
     "calysto_bash",
     "Bash",
     "#E6EEFF",
     "shell"
    ],
    [
     "Python3",
     "python3",
     "Python3",
     "#FFD91A",
     ""
    ]
   ],
   "version": "0.22.6"
  }
 },
 "nbformat": 4,
 "nbformat_minor": 5
}
