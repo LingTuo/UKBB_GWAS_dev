{
 "cells": [
  {
   "cell_type": "markdown",
   "id": "3723366b-2d54-4c29-8a6a-3e8d424718cd",
   "metadata": {
    "kernel": "SoS",
    "tags": []
   },
   "source": [
    "# Annotate bim files from imputed and exome data using ANNOVAR"
   ]
  },
  {
   "cell_type": "markdown",
   "id": "fb495545-5d49-4348-8c1b-3604595975c7",
   "metadata": {
    "kernel": "SoS"
   },
   "source": [
    "## Step 1. Creation of a bim file for the imputed data \n",
    "\n",
    "In this case I've decided to use the files in this folder `UKBiobank_Yale_transfer/ukb39554_imputeddataset` named `ukb_mfi_chr{1..22}_v3.txt`\n",
    "\n",
    "The header for this files is described [here](https://biobank.ctsu.ox.ac.uk/crystal/refer.cgi?id=531) and it is a follows: \n",
    "\n",
    "NOTE: remember that sometimes the minor allele is not the alternative allele \n",
    "\n",
    "* Alternate_id\n",
    "* RS_id\n",
    "* Position\n",
    "* Allele1\n",
    "* Allele2\n",
    "* MAF\n",
    "* Minor Allele\n",
    "* Info score\n",
    "\n",
    "From this file we need to create the bim file format \n",
    "\n",
    ".bim (PLINK extended MAP file)\n",
    "\n",
    "Extended variant information file accompanying a .bed binary genotype table.\n",
    "\n",
    "A text file with no header line, and one line per variant with the following six fields:\n",
    "\n",
    "    Chromosome code (either an integer, or 'X'/'Y'/'XY'/'MT'; '0' indicates unknown) or name\n",
    "    Variant identifier\n",
    "    Position in morgans or centimorgans (safe to use dummy value of '0')\n",
    "    Base-pair coordinate (1-based; limited to 231-2)\n",
    "    Allele 1 (corresponding to clear bits in .bed; usually minor) \n",
    "    Allele 2 (corresponding to set bits in .bed; usually major)\n",
    "\n",
    "Then this bim file is processed by the annovar.ipynb to create the avinput file with the following format\n",
    "\n",
    "On each line, the first five space- or tab- delimited columns represent:\n",
    "\n",
    "    chromosome\n",
    "    start position\n",
    "    end position\n",
    "    the reference nucleotides\n",
    "    the observed nucleotides"
   ]
  },
  {
   "cell_type": "markdown",
   "id": "cecf5ad4-0913-4950-8647-63c00e668b73",
   "metadata": {
    "kernel": "SoS"
   },
   "source": [
    "### Create the bim file from the `ukb_mfi_chr{1..22}_v3.txt` files\n"
   ]
  },
  {
   "cell_type": "code",
   "execution_count": 3,
   "id": "8f32deeb-5d5c-4c08-ac74-e01e8037b0e9",
   "metadata": {
    "kernel": "Bash",
    "tags": []
   },
   "outputs": [
    {
     "name": "stderr",
     "output_type": "stream",
     "text": [
      "/home/dmc2245/miniconda3/lib/python3.8/site-packages/sos_notebook/kernel.py:1334: DeprecationWarning: Kernel._parent_header is deprecated in ipykernel 6. Use .get_parent()\n",
      "  msg['msg_id'] = self._parent_header['header']['msg_id']\n"
     ]
    },
    {
     "name": "stdout",
     "output_type": "stream",
     "text": [
      "1:10177_A_AC\trs367896724\t10177\tA\tAC\t0.40079\tAC\t0.467935\n",
      "1:10235_T_TA\trs540431307\t10235\tT\tTA\t0.000367353\tTA\t0.214688\n",
      "1:10352_T_TA\trs201106462\t10352\tT\tTA\t0.394625\tTA\t0.447895\n",
      "1:10505_A_T\trs548419688\t10505\tA\tT\t1.7934e-05\tT\t0.230206\n",
      "1:10506_C_G\trs568405545\t10506\tC\tG\t1.7934e-05\tG\t0.230206\n",
      "1:10511_G_A\trs534229142\t10511\tG\tA\t0.00121697\tA\t0.438272\n",
      "1:10539_C_A\trs537182016\t10539\tC\tA\t0.000484692\tA\t0.185581\n",
      "1:10542_C_T\trs572818783\t10542\tC\tT\t1.18112e-05\tT\t0.397842\n",
      "1:10579_C_A\trs538322974\t10579\tC\tA\t4.42114e-06\tA\t0.578674\n",
      "1:10616_CCGCCGTTGCAAAGGCGCGCCG_C\t1:10616_CCGCCGTTGCAAAGGCGCGCCG_C\t10616\tCCGCCGTTGCAAAGGCGCGCCG\tC\t0.00583227\tCCGCCGTTGCAAAGGCGCGCCG\t0.468098\n",
      "cat: write error: Broken pipe\n"
     ]
    }
   ],
   "source": [
    "cd $HOME/UKBiobank_Yale_transfer/ukb39554_imputeddataset\n",
    "cat ukb_mfi_chr1_v3.txt | head"
   ]
  },
  {
   "cell_type": "code",
   "execution_count": 7,
   "id": "b89cc80d-b301-4887-92fa-4e0fc9bca8a3",
   "metadata": {
    "kernel": "Bash"
   },
   "outputs": [
    {
     "name": "stdout",
     "output_type": "stream",
     "text": [
      "1 1:10177:A:AC 10177 AC A\n",
      "1 1:10235:T:TA 10235 TA T\n",
      "1 1:10352:T:TA 10352 TA T\n",
      "1 1:10505:A:T 10505 T A\n",
      "1 1:10506:C:G 10506 G C\n",
      "1 1:10511:G:A 10511 A G\n",
      "1 1:10539:C:A 10539 A C\n",
      "1 1:10542:C:T 10542 T C\n",
      "1 1:10579:C:A 10579 A C\n",
      "1 1:10616:CCGCCGTTGCAAAGGCGCGCCG:C 10616 C CCGCCGTTGCAAAGGCGCGCCG\n",
      "cat: write error: Broken pipe\n"
     ]
    }
   ],
   "source": [
    "# From the ubk_mfi file get the chr, alternate_id, pos, allele 1 (alternative and usually minor) and allele 2 (reference and usually major)\n",
    "# Add the 0 cM column \n",
    "cat ukb_mfi_chr1_v3.txt | awk ' { gsub(\"_\",\":\",$1); print substr($1,1,1), $1, $3, $5, $4 }' | head"
   ]
  },
  {
   "cell_type": "code",
   "execution_count": 19,
   "id": "f2c37ba1-bde3-4c7d-9719-2c3009b21fd1",
   "metadata": {
    "kernel": "Bash"
   },
   "outputs": [
    {
     "name": "stdout",
     "output_type": "stream",
     "text": [
      "1 1:10177:A:AC 0 10177 AC A\n",
      "1 1:10235:T:TA 0 10235 TA T\n",
      "1 1:10352:T:TA 0 10352 TA T\n",
      "1 1:10505:A:T 0 10505 T A\n",
      "1 1:10506:C:G 0 10506 G C\n",
      "1 1:10511:G:A 0 10511 A G\n",
      "1 1:10539:C:A 0 10539 A C\n",
      "1 1:10542:C:T 0 10542 T C\n",
      "1 1:10579:C:A 0 10579 A C\n",
      "1 1:10616:CCGCCGTTGCAAAGGCGCGCCG:C 0 10616 C CCGCCGTTGCAAAGGCGCGCCG\n",
      "cat: write error: Broken pipe\n"
     ]
    }
   ],
   "source": [
    "# Add the 0 cM column to the bim file so it can be processed with annovar\n",
    "cat ukb_mfi_chr1_v3.txt | awk ' { gsub(\"_\",\":\",$1); print substr($1,1,1), $1, $3, $5, $4 }' | awk 'BEGIN{FS=OFS=\" \"}{$2 = $2 OFS 0}1' | head"
   ]
  },
  {
   "cell_type": "code",
   "execution_count": 20,
   "id": "73ce36f8-c2c1-4941-8c5e-8540ce1aa6cc",
   "metadata": {
    "kernel": "Bash"
   },
   "outputs": [],
   "source": [
    "# For loop to create the bim for each mfi file in this folder\n",
    "\n",
    "for file in ukb_mfi_chr{1..22}_v3.txt ; do \n",
    "    cat $file | awk ' { gsub(\"_\",\":\",$1); print substr($1,1,1), $1, $3, $5, $4 }' |awk 'BEGIN{FS=OFS=\" \"}{$2 = $2 OFS 0}1' > $HOME/UKBiobank/results/ukb39554_imputeddataset_bim_files/${file%.txt}.bim ; done"
   ]
  },
  {
   "cell_type": "markdown",
   "id": "43690627-7c55-481d-ae36-cd8580e4104e",
   "metadata": {
    "kernel": "SoS"
   },
   "source": [
    "## Annotate imputed data bim file"
   ]
  },
  {
   "cell_type": "code",
   "execution_count": 17,
   "id": "0862e5bf-7735-41e6-828a-b17cf174d58d",
   "metadata": {
    "kernel": "Bash",
    "tags": []
   },
   "outputs": [
    {
     "name": "stdout",
     "output_type": "stream",
     "text": [
      "INFO: Running \u001b[32mcsg\u001b[0m: Configuration for Columbia csg partition cluster\n",
      "INFO: \u001b[32mcsg\u001b[0m is \u001b[32mcompleted\u001b[0m.\n",
      "INFO: \u001b[32mcsg\u001b[0m output:   \u001b[32m/home/dmc2245/project/UKBB_GWAS_dev/output/annovar_chr1_22_ukb39554_imputed_data2021-08-06.sbatch\u001b[0m\n",
      "INFO: Workflow csg (ID=w8b977be5540ac876) is executed successfully with 1 completed step.\n"
     ]
    }
   ],
   "source": [
    "UKBB_PATH=$HOME/UKBiobank\n",
    "UKBB_yale=$HOME/UKBiobank_Yale_transfer\n",
    "USER_PATH=$HOME/project\n",
    "container_lmm=$HOME/containers/lmm.sif\n",
    "container_marp=$HOME/containers/marp.sif\n",
    "container_annovar=$HOME/containers/gatk4-annovar.sif\n",
    "tpl_file=$USER_PATH/bioworkflows/admin/csg.yml\n",
    "annovar_sos=$USER_PATH/bioworkflows/variant-annotation/annovar.ipynb\n",
    "annovar_sbatch=$USER_PATH/UKBB_GWAS_dev/output/annovar_chr1_22_ukb39554_imputed_data_$(date +\"%Y-%m-%d\").sbatch\n",
    "cwd=$UKBB_PATH/results/ukb39554_imputeddataset_bim_files\n",
    "bim_name=$UKBB_PATH/results/ukb39554_imputeddataset_bim_files/ukb_mfi_chr1_v3.bim\n",
    "humandb=/mnt/mfs/statgen/isabelle/REF/humandb\n",
    "xref_path=/mnt/mfs/statgen/isabelle/REF/humandb\n",
    "container_annovar=$HOME/containers/gatk4-annovar.sif\n",
    "name_prefix='ukb39554_imputed_allvariants'\n",
    "build='hg19'\n",
    "walltime='8h'\n",
    "mem='15G'\n",
    "\n",
    "annovar_args=\"\"\" annovar \n",
    "    --cwd $cwd \n",
    "    --bim_name $bim_name \n",
    "    --humandb $humandb \n",
    "    --xref_path $xref_path\n",
    "    --job_size 1 \n",
    "    --name_prefix $name_prefix\n",
    "    --build $build\n",
    "    --walltime $walltime\n",
    "    --mem $mem\n",
    "    --container_annovar $container_annovar\n",
    "\"\"\"\n",
    "\n",
    "sos run ~/project/UKBB_GWAS_dev/admin/Get_Job_Script.ipynb csg \\\n",
    "    --template-file $tpl_file \\\n",
    "    --workflow-file $annovar_sos \\\n",
    "    --to-script $annovar_sbatch \\\n",
    "    --args \"$annovar_args\""
   ]
  },
  {
   "cell_type": "code",
   "execution_count": null,
   "id": "e1e7f8ba-8f35-4e31-9f32-7e07abbbd770",
   "metadata": {
    "kernel": "Bash"
   },
   "outputs": [],
   "source": []
  }
 ],
 "metadata": {
  "kernelspec": {
   "display_name": "SoS",
   "language": "sos",
   "name": "sos"
  },
  "language_info": {
   "codemirror_mode": "sos",
   "file_extension": ".sos",
   "mimetype": "text/x-sos",
   "name": "sos",
   "nbconvert_exporter": "sos_notebook.converter.SoS_Exporter",
   "pygments_lexer": "sos"
  },
  "sos": {
   "kernels": [
    [
     "Bash",
     "calysto_bash",
     "Bash",
     "#E6EEFF",
     "shell"
    ]
   ],
   "version": "0.22.6"
  }
 },
 "nbformat": 4,
 "nbformat_minor": 5
}
