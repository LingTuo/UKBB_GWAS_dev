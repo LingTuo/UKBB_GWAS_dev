{
 "cells": [
  {
   "cell_type": "markdown",
   "metadata": {
    "kernel": "SoS"
   },
   "source": [
    "## Early onset hearing impairment analysis"
   ]
  },
  {
   "cell_type": "code",
   "execution_count": 3,
   "metadata": {
    "kernel": "R"
   },
   "outputs": [],
   "source": [
    "library('dplyr')\n",
    "# Import the sumstats file as dataframe\n",
    "data <- read.table(gzfile('/gpfs/gibbs/pi/dewan/data/UKBiobank/results/REGENIE_results/results_exome_data/f3393_hearing_aid_exomes_bfile/010421_UKBB_Hearing_aid_f3393_128254ind_exomes_hearing_aid_cat.regenie.snp_stats.gz'), sep='\\t', header=T)\n",
    "# Filter SNPs with p-val <5e-08\n",
    "# Subset data to obtain only chr, pos and snp for gene mapping\n",
    "sig.p <- data %>%\n",
    "    filter(P < 5e-8) %>%\n",
    "    select(SNP, BETA, SE,P)"
   ]
  },
  {
   "cell_type": "code",
   "execution_count": 8,
   "metadata": {
    "kernel": "R"
   },
   "outputs": [],
   "source": [
    "write.table(sig.p, '/home/dc2325/scratch60/output/bfile_annovar/010421_UKBB_Hearing_aid_f3393_128254ind_exomes_hearing_aid_cat.regenie.snp_annotate', sep = \" \", quote=FALSE, row.names=FALSE, col.names=FALSE) "
   ]
  },
  {
   "cell_type": "code",
   "execution_count": 7,
   "metadata": {
    "kernel": "R"
   },
   "outputs": [
    {
     "data": {
      "text/html": [
       "<table>\n",
       "<caption>A data.frame: 6 × 4</caption>\n",
       "<thead>\n",
       "\t<tr><th></th><th scope=col>SNP</th><th scope=col>BETA</th><th scope=col>SE</th><th scope=col>P</th></tr>\n",
       "\t<tr><th></th><th scope=col>&lt;fct&gt;</th><th scope=col>&lt;dbl&gt;</th><th scope=col>&lt;dbl&gt;</th><th scope=col>&lt;dbl&gt;</th></tr>\n",
       "</thead>\n",
       "<tbody>\n",
       "\t<tr><th scope=row>1</th><td>1:33010786:C:T</td><td> 0.170924</td><td>0.0296248</td><td>8.597061e-09</td></tr>\n",
       "\t<tr><th scope=row>2</th><td>1:58468867:T:C</td><td>-0.227117</td><td>0.0216753</td><td>3.813291e-27</td></tr>\n",
       "\t<tr><th scope=row>3</th><td>1:58468874:T:C</td><td>-0.225999</td><td>0.0216299</td><td>5.560323e-27</td></tr>\n",
       "\t<tr><th scope=row>4</th><td>1:58468970:G:T</td><td>-0.193106</td><td>0.0157452</td><td>1.127976e-35</td></tr>\n",
       "\t<tr><th scope=row>5</th><td>1:58506159:G:A</td><td>-0.203908</td><td>0.0312325</td><td>1.794320e-11</td></tr>\n",
       "\t<tr><th scope=row>6</th><td>1:58506268:C:A</td><td>-0.201774</td><td>0.0313195</td><td>3.312074e-11</td></tr>\n",
       "</tbody>\n",
       "</table>\n"
      ],
      "text/latex": [
       "A data.frame: 6 × 4\n",
       "\\begin{tabular}{r|llll}\n",
       "  & SNP & BETA & SE & P\\\\\n",
       "  & <fct> & <dbl> & <dbl> & <dbl>\\\\\n",
       "\\hline\n",
       "\t1 & 1:33010786:C:T &  0.170924 & 0.0296248 & 8.597061e-09\\\\\n",
       "\t2 & 1:58468867:T:C & -0.227117 & 0.0216753 & 3.813291e-27\\\\\n",
       "\t3 & 1:58468874:T:C & -0.225999 & 0.0216299 & 5.560323e-27\\\\\n",
       "\t4 & 1:58468970:G:T & -0.193106 & 0.0157452 & 1.127976e-35\\\\\n",
       "\t5 & 1:58506159:G:A & -0.203908 & 0.0312325 & 1.794320e-11\\\\\n",
       "\t6 & 1:58506268:C:A & -0.201774 & 0.0313195 & 3.312074e-11\\\\\n",
       "\\end{tabular}\n"
      ],
      "text/markdown": [
       "\n",
       "A data.frame: 6 × 4\n",
       "\n",
       "| <!--/--> | SNP &lt;fct&gt; | BETA &lt;dbl&gt; | SE &lt;dbl&gt; | P &lt;dbl&gt; |\n",
       "|---|---|---|---|---|\n",
       "| 1 | 1:33010786:C:T |  0.170924 | 0.0296248 | 8.597061e-09 |\n",
       "| 2 | 1:58468867:T:C | -0.227117 | 0.0216753 | 3.813291e-27 |\n",
       "| 3 | 1:58468874:T:C | -0.225999 | 0.0216299 | 5.560323e-27 |\n",
       "| 4 | 1:58468970:G:T | -0.193106 | 0.0157452 | 1.127976e-35 |\n",
       "| 5 | 1:58506159:G:A | -0.203908 | 0.0312325 | 1.794320e-11 |\n",
       "| 6 | 1:58506268:C:A | -0.201774 | 0.0313195 | 3.312074e-11 |\n",
       "\n"
      ],
      "text/plain": [
       "  SNP            BETA      SE        P           \n",
       "1 1:33010786:C:T  0.170924 0.0296248 8.597061e-09\n",
       "2 1:58468867:T:C -0.227117 0.0216753 3.813291e-27\n",
       "3 1:58468874:T:C -0.225999 0.0216299 5.560323e-27\n",
       "4 1:58468970:G:T -0.193106 0.0157452 1.127976e-35\n",
       "5 1:58506159:G:A -0.203908 0.0312325 1.794320e-11\n",
       "6 1:58506268:C:A -0.201774 0.0313195 3.312074e-11"
      ]
     },
     "metadata": {},
     "output_type": "display_data"
    }
   ],
   "source": [
    "head(sig.p)"
   ]
  },
  {
   "cell_type": "code",
   "execution_count": 4,
   "metadata": {
    "kernel": "R"
   },
   "outputs": [
    {
     "data": {
      "text/html": [
       "<table>\n",
       "<caption>A data.frame: 6 × 8</caption>\n",
       "<thead>\n",
       "\t<tr><th></th><th scope=col>CHR</th><th scope=col>POS</th><th scope=col>REF</th><th scope=col>ALT</th><th scope=col>SNP</th><th scope=col>BETA</th><th scope=col>SE</th><th scope=col>P</th></tr>\n",
       "\t<tr><th></th><th scope=col>&lt;int&gt;</th><th scope=col>&lt;int&gt;</th><th scope=col>&lt;fct&gt;</th><th scope=col>&lt;fct&gt;</th><th scope=col>&lt;fct&gt;</th><th scope=col>&lt;dbl&gt;</th><th scope=col>&lt;dbl&gt;</th><th scope=col>&lt;dbl&gt;</th></tr>\n",
       "</thead>\n",
       "<tbody>\n",
       "\t<tr><th scope=row>1</th><td>1</td><td>69081</td><td>G</td><td>C</td><td>1:69081:G:C</td><td>-0.0407389</td><td>0.1860200</td><td>0.8266472</td></tr>\n",
       "\t<tr><th scope=row>2</th><td>1</td><td>69134</td><td>A</td><td>G</td><td>1:69134:A:G</td><td> 0.7667710</td><td>0.6079120</td><td>0.2071939</td></tr>\n",
       "\t<tr><th scope=row>3</th><td>1</td><td>69149</td><td>T</td><td>A</td><td>1:69149:T:A</td><td>-1.1017700</td><td>1.8577000</td><td>0.5531272</td></tr>\n",
       "\t<tr><th scope=row>4</th><td>1</td><td>69224</td><td>A</td><td>T</td><td>1:69224:A:T</td><td> 1.4891200</td><td>1.1290300</td><td>0.1871889</td></tr>\n",
       "\t<tr><th scope=row>5</th><td>1</td><td>69270</td><td>A</td><td>G</td><td>1:69270:A:G</td><td> 0.0216704</td><td>0.0138337</td><td>0.1172325</td></tr>\n",
       "\t<tr><th scope=row>6</th><td>1</td><td>69334</td><td>C</td><td>T</td><td>1:69334:C:T</td><td>-1.0502700</td><td>1.6222400</td><td>0.5173590</td></tr>\n",
       "</tbody>\n",
       "</table>\n"
      ],
      "text/latex": [
       "A data.frame: 6 × 8\n",
       "\\begin{tabular}{r|llllllll}\n",
       "  & CHR & POS & REF & ALT & SNP & BETA & SE & P\\\\\n",
       "  & <int> & <int> & <fct> & <fct> & <fct> & <dbl> & <dbl> & <dbl>\\\\\n",
       "\\hline\n",
       "\t1 & 1 & 69081 & G & C & 1:69081:G:C & -0.0407389 & 0.1860200 & 0.8266472\\\\\n",
       "\t2 & 1 & 69134 & A & G & 1:69134:A:G &  0.7667710 & 0.6079120 & 0.2071939\\\\\n",
       "\t3 & 1 & 69149 & T & A & 1:69149:T:A & -1.1017700 & 1.8577000 & 0.5531272\\\\\n",
       "\t4 & 1 & 69224 & A & T & 1:69224:A:T &  1.4891200 & 1.1290300 & 0.1871889\\\\\n",
       "\t5 & 1 & 69270 & A & G & 1:69270:A:G &  0.0216704 & 0.0138337 & 0.1172325\\\\\n",
       "\t6 & 1 & 69334 & C & T & 1:69334:C:T & -1.0502700 & 1.6222400 & 0.5173590\\\\\n",
       "\\end{tabular}\n"
      ],
      "text/markdown": [
       "\n",
       "A data.frame: 6 × 8\n",
       "\n",
       "| <!--/--> | CHR &lt;int&gt; | POS &lt;int&gt; | REF &lt;fct&gt; | ALT &lt;fct&gt; | SNP &lt;fct&gt; | BETA &lt;dbl&gt; | SE &lt;dbl&gt; | P &lt;dbl&gt; |\n",
       "|---|---|---|---|---|---|---|---|---|\n",
       "| 1 | 1 | 69081 | G | C | 1:69081:G:C | -0.0407389 | 0.1860200 | 0.8266472 |\n",
       "| 2 | 1 | 69134 | A | G | 1:69134:A:G |  0.7667710 | 0.6079120 | 0.2071939 |\n",
       "| 3 | 1 | 69149 | T | A | 1:69149:T:A | -1.1017700 | 1.8577000 | 0.5531272 |\n",
       "| 4 | 1 | 69224 | A | T | 1:69224:A:T |  1.4891200 | 1.1290300 | 0.1871889 |\n",
       "| 5 | 1 | 69270 | A | G | 1:69270:A:G |  0.0216704 | 0.0138337 | 0.1172325 |\n",
       "| 6 | 1 | 69334 | C | T | 1:69334:C:T | -1.0502700 | 1.6222400 | 0.5173590 |\n",
       "\n"
      ],
      "text/plain": [
       "  CHR POS   REF ALT SNP         BETA       SE        P        \n",
       "1 1   69081 G   C   1:69081:G:C -0.0407389 0.1860200 0.8266472\n",
       "2 1   69134 A   G   1:69134:A:G  0.7667710 0.6079120 0.2071939\n",
       "3 1   69149 T   A   1:69149:T:A -1.1017700 1.8577000 0.5531272\n",
       "4 1   69224 A   T   1:69224:A:T  1.4891200 1.1290300 0.1871889\n",
       "5 1   69270 A   G   1:69270:A:G  0.0216704 0.0138337 0.1172325\n",
       "6 1   69334 C   T   1:69334:C:T -1.0502700 1.6222400 0.5173590"
      ]
     },
     "metadata": {},
     "output_type": "display_data"
    }
   ],
   "source": [
    "head(data)"
   ]
  },
  {
   "cell_type": "code",
   "execution_count": 14,
   "metadata": {
    "kernel": "Bash"
   },
   "outputs": [
    {
     "name": "stdout",
     "output_type": "stream",
     "text": [
      "1\t1:69081:G:C\t0\t69081\tC\tG\n",
      "1\t1:69134:A:G\t0\t69134\tG\tA\n",
      "1\t1:69149:T:A\t0\t69149\tA\tT\n",
      "1\t1:69217:G:A\t0\t69217\tA\tG\n",
      "1\t1:69224:A:T\t0\t69224\tT\tA\n",
      "1\t1:69231:C:T\t0\t69231\tT\tC\n",
      "1\t1:69270:A:G\t0\t69270\tG\tA\n",
      "1\t1:69281:T:C\t0\t69281\tC\tT\n",
      "1\t1:69314:T:C\t0\t69314\tC\tT\n",
      "1\t1:69315:T:C\t0\t69315\tC\tT\n",
      "cat: write error: Broken pipe\n"
     ]
    }
   ],
   "source": [
    "cat /home/dc2325/project/results/exome_bim_merge/ukb23155_chr1_chr22.bim | head"
   ]
  },
  {
   "cell_type": "code",
   "execution_count": 15,
   "metadata": {
    "kernel": "Bash"
   },
   "outputs": [
    {
     "name": "stdout",
     "output_type": "stream",
     "text": [
      "1:33010786:C:T 0.170924 0.0296248 8.59706083642736e-09\n",
      "1:58468867:T:C -0.227117 0.0216753 3.81329145276776e-27\n",
      "1:58468874:T:C -0.225999 0.0216299 5.56032273693867e-27\n",
      "1:58468970:G:T -0.193106 0.0157452 1.12797636558816e-35\n",
      "1:58506159:G:A -0.203908 0.0312325 1.79432042171684e-11\n",
      "1:58506268:C:A -0.201774 0.0313195 3.31207376019797e-11\n",
      "1:58530531:T:C -0.271127 0.0423279 2.69277458695895e-11\n",
      "1:58539307:C:T -0.18493 0.0144342 1.82641724877436e-38\n",
      "2:168824768:I:12 -0.247936 0.0319456 3.90121602952676e-16\n",
      "2:168824768:I:8 -0.194196 0.0343111 4.23301687694509e-09\n"
     ]
    }
   ],
   "source": [
    "cat /home/dc2325/scratch60/output/bfile_annovar/010421_UKBB_Hearing_aid_f3393_128254ind_exomes_hearing_aid_cat.regenie.snp_annotate | head"
   ]
  },
  {
   "cell_type": "code",
   "execution_count": 3,
   "metadata": {
    "kernel": "Bash"
   },
   "outputs": [
    {
     "name": "stdout",
     "output_type": "stream",
     "text": [
      "1\t1:33010786:C:T\t0\t33010786\tT\tC\n",
      "1\t1:58468867:T:C\t0\t58468867\tC\tT\n",
      "1\t1:58468874:T:C\t0\t58468874\tC\tT\n",
      "1\t1:58468970:G:T\t0\t58468970\tT\tG\n",
      "1\t1:58506159:G:A\t0\t58506159\tA\tG\n",
      "1\t1:58506268:C:A\t0\t58506268\tA\tC\n",
      "1\t1:58530531:T:C\t0\t58530531\tC\tT\n",
      "1\t1:58539307:C:T\t0\t58539307\tT\tC\n"
     ]
    }
   ],
   "source": [
    "awk -F\" \" 'FNR==NR {lines[$1]; next} $2 in lines' /home/dc2325/scratch60/output/bfile_annovar/010421_UKBB_Hearing_aid_f3393_128254ind_exomes_hearing_aid_cat.regenie.snp_annotate /home/dc2325/project/results/exome_bim_merge/ukb23155_chr1_chr22.bim #> /home/dc2325/scratch60/output/bfile_annovar/file.tmp"
   ]
  },
  {
   "cell_type": "code",
   "execution_count": 29,
   "metadata": {
    "kernel": "Bash"
   },
   "outputs": [
    {
     "name": "stdout",
     "output_type": "stream",
     "text": [
      "1 1:33010786:C:T 0 33010786 T C 1:33010786:C:T 0.170924 0.0296248 8.59706083642736e-09\n",
      "1 1:58468867:T:C 0 58468867 C T 1:58468867:T:C -0.227117 0.0216753 3.81329145276776e-27\n",
      "1 1:58468874:T:C 0 58468874 C T 1:58468874:T:C -0.225999 0.0216299 5.56032273693867e-27\n",
      "1 1:58468970:G:T 0 58468970 T G 1:58468970:G:T -0.193106 0.0157452 1.12797636558816e-35\n",
      "1 1:58506159:G:A 0 58506159 A G 1:58506159:G:A -0.203908 0.0312325 1.79432042171684e-11\n",
      "1 1:58506268:C:A 0 58506268 A C 1:58506268:C:A -0.201774 0.0313195 3.31207376019797e-11\n",
      "1 1:58530531:T:C 0 58530531 C T 1:58530531:T:C -0.271127 0.0423279 2.69277458695895e-11\n",
      "1 1:58539307:C:T 0 58539307 T C 1:58539307:C:T -0.18493 0.0144342 1.82641724877436e-38\n",
      "\n"
     ]
    }
   ],
   "source": [
    "awk -F\" \" 'NR==FNR{a[$1]=$1\" \"$2\" \"$3\" \"$4; next} ($2 in a){print $1,$2,$3,$4,$5,$6,a[$2]}' /home/dc2325/scratch60/output/bfile_annovar/010421_UKBB_Hearing_aid_f3393_128254ind_exomes_hearing_aid_cat.regenie.snp_annotate /home/dc2325/project/results/exome_bim_merge/ukb23155_chr1_chr22.bim \n",
    "#> /home/dc2325/scratch60/output/bfile_annovar/file.tmp"
   ]
  },
  {
   "cell_type": "code",
   "execution_count": 2,
   "metadata": {
    "kernel": "Bash"
   },
   "outputs": [
    {
     "name": "stdout",
     "output_type": "stream",
     "text": [
      "\n"
     ]
    }
   ],
   "source": [
    "awk -F\" \" 'NR==FNR{a[$1]=$2; next} ($1 in a) {print $0, a[$1]}' /home/dc2325/scratch60/output/bfile_annovar/010421_UKBB_Hearing_aid_f3393_128254ind_exomes_hearing_aid_cat.regenie.snp_annotate  /home/dc2325/project/results/exome_bim_merge/ukb23155_chr1_chr22.bim "
   ]
  },
  {
   "cell_type": "code",
   "execution_count": 43,
   "metadata": {
    "kernel": "Bash"
   },
   "outputs": [
    {
     "name": "stdout",
     "output_type": "stream",
     "text": [
      "1 33010786 33010786 C T 1:33010786:C:T 0.170924 0.0296248 8.59706083642736e-09\n",
      "1 58468867 58468867 T C 1:58468867:T:C -0.227117 0.0216753 3.81329145276776e-27\n",
      "1 58468874 58468874 T C 1:58468874:T:C -0.225999 0.0216299 5.56032273693867e-27\n",
      "1 58468970 58468970 G T 1:58468970:G:T -0.193106 0.0157452 1.12797636558816e-35\n",
      "1 58506159 58506159 G A 1:58506159:G:A -0.203908 0.0312325 1.79432042171684e-11\n",
      "1 58506268 58506268 C A 1:58506268:C:A -0.201774 0.0313195 3.31207376019797e-11\n",
      "1 58530531 58530531 T C 1:58530531:T:C -0.271127 0.0423279 2.69277458695895e-11\n",
      "1 58539307 58539307 C T 1:58539307:C:T -0.18493 0.0144342 1.82641724877436e-38\n",
      "\n"
     ]
    }
   ],
   "source": [
    "awk '{if ($2 ~ /D/) {print $1, $4, $4 + (length ($6) - length ($5)), $6, $5, $7, $8, $9, $10 } else {print $1, $4, $4, $6, $5, $7, $8, $9, $10 }}'  /home/dc2325/scratch60/output/bfile_annovar/file.tmp #> /home/dc2325/scratch60/output/bfile_annovar/testing.txt"
   ]
  },
  {
   "cell_type": "code",
   "execution_count": 42,
   "metadata": {
    "kernel": "Bash"
   },
   "outputs": [
    {
     "name": "stdout",
     "output_type": "stream",
     "text": [
      "1 1:33010786:C:T 0 33010786 T C 1:33010786:C:T 0.170924 0.0296248 8.59706083642736e-09\n",
      "1 1:58468867:T:C 0 58468867 C T 1:58468867:T:C -0.227117 0.0216753 3.81329145276776e-27\n",
      "1 1:58468874:T:C 0 58468874 C T 1:58468874:T:C -0.225999 0.0216299 5.56032273693867e-27\n",
      "1 1:58468970:G:T 0 58468970 T G 1:58468970:G:T -0.193106 0.0157452 1.12797636558816e-35\n",
      "1 1:58506159:G:A 0 58506159 A G 1:58506159:G:A -0.203908 0.0312325 1.79432042171684e-11\n",
      "1 1:58506268:C:A 0 58506268 A C 1:58506268:C:A -0.201774 0.0313195 3.31207376019797e-11\n",
      "1 1:58530531:T:C 0 58530531 C T 1:58530531:T:C -0.271127 0.0423279 2.69277458695895e-11\n",
      "1 1:58539307:C:T 0 58539307 T C 1:58539307:C:T -0.18493 0.0144342 1.82641724877436e-38\n",
      "\n"
     ]
    }
   ],
   "source": [
    "awk '{print $1,$2,$3,$4,$5,$6,$7,$8,$9,$10}'  /home/dc2325/scratch60/output/bfile_annovar/file.tmp #> /home/dc2325/scratch60/output/bfile_annovar/testing.txt"
   ]
  },
  {
   "cell_type": "markdown",
   "metadata": {
    "kernel": "SoS"
   },
   "source": [
    "## f.3393"
   ]
  },
  {
   "cell_type": "code",
   "execution_count": null,
   "metadata": {
    "kernel": "Bash"
   },
   "outputs": [],
   "source": [
    "UKBB_PATH=/gpfs/gibbs/pi/dewan/data/UKBiobank\n",
    "ukbb=$UKBB_PATH\n",
    "USER_PATH=/home/dc2325/project\n",
    "cwd=/home/dc2325/scratch60/output/bfile_annovar\n",
    "sumstatsFile=$UKBB_PATH/results/REGENIE_results/results_exome_data/f3393_hearing_aid_exomes_bfile/010421_UKBB_Hearing_aid_f3393_128254ind_exomes_hearing_aid_cat.regenie.snp_stats.gz\n",
    "hg=38\n",
    "job_size=1\n",
    "container_annovar=/home/dc2325/scratch60/annovar.sif\n",
    "bimfiles=`echo /gpfs/gibbs/pi/dewan/data/UKBiobank/genotype_files/ukb28374_exomedata/exome_data_OCT2020/ukb23155_c{1..22}_b0_v1.bim`\n",
    "bim_name=/home/dc2325/project/results/exome_bim_merge/ukb23155_chr1_chr22.bim\n",
    "humandb=/gpfs/ysm/datasets/db/annovar/humandb\n",
    "\n",
    "sos run ~/project/UKBB_GWAS_dev/workflow/snptogene.ipynb annovar \\\n",
    "    --cwd $cwd \\\n",
    "    --sumstatsFile $sumstatsFile\\\n",
    "    --bim_name $bim_name \\\n",
    "    --hg $hg \\\n",
    "    --job_size $job_size \\\n",
    "    --humandb $humandb\\\n",
    "    --ukbb $ukbb \\\n",
    "    --container_annovar $container_annovar"
   ]
  }
 ],
 "metadata": {
  "kernelspec": {
   "display_name": "SoS",
   "language": "sos",
   "name": "sos"
  },
  "language_info": {
   "codemirror_mode": "sos",
   "file_extension": ".sos",
   "mimetype": "text/x-sos",
   "name": "sos",
   "nbconvert_exporter": "sos_notebook.converter.SoS_Exporter",
   "pygments_lexer": "sos"
  },
  "sos": {
   "kernels": [
    [
     "Bash",
     "calysto_bash",
     "Bash",
     "#E6EEFF",
     "shell"
    ],
    [
     "R",
     "ir",
     "R",
     "#DCDCDA",
     "r"
    ]
   ],
   "version": "0.21.21"
  }
 },
 "nbformat": 4,
 "nbformat_minor": 4
}
