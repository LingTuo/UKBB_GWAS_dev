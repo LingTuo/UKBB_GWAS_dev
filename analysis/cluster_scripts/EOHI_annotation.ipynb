{
 "cells": [
  {
   "cell_type": "markdown",
   "metadata": {
    "kernel": "SoS"
   },
   "source": [
    "# Early onset hearing impairment annotation\n",
    "\n",
    "## Aim\n",
    "\n",
    "- Retrieve the variants in these specific genes from the results of exome and imputed data of hearing impairment traits. Only filter those variants with p-val < 0.05\n",
    "- To annotate the variants with a p-val < 0.005 from the summary statistics after running the LMM analysis for hearing impairment traits in order to compare results for Early onset hearing impairment\n",
    "\n",
    "## Description\n",
    "\n",
    "In the following cells you can find the scripts used for these particular annotations as well as some bash code used to select the variants in specific genes requested by Thashi. \n",
    "\n",
    "## Note\n",
    "\n",
    "For exome data hg38 reference was used\n",
    "\n",
    "For imputed data hg19 reference was used"
   ]
  },
  {
   "cell_type": "markdown",
   "metadata": {
    "kernel": "SoS"
   },
   "source": [
    "## Bash code for selecting variants in specific genes"
   ]
  },
  {
   "cell_type": "code",
   "execution_count": null,
   "metadata": {
    "kernel": "Bash"
   },
   "outputs": [],
   "source": [
    "##Coordinates for hg38 exome data\n",
    "#Chr2\t178815308\t179060137\n",
    "#Chr17\t36485636\t36545338\n",
    "#Chr7\t21533039\t21911839\n",
    "#Chr17\t72111020\t72136416\n",
    "#Chr2\t113205997\t113288921\n",
    "#Chr2\t130449455\t130519707\n",
    "#Chr9\t135692185\t135805502\n",
    "#Chr6\t168282830\t168329777\n",
    "#Chr2\t231443531\t231474484\n",
    "#Chr4\t142013160\t142856535\n",
    "\n",
    "cd /gpfs/gibbs/pi/dewan/data/UKBiobank/results/REGENIE_results/results_exome_data/\n",
    "cwd=/gpfs/gibbs/pi/dewan/data/UKBiobank/results/REGENIE_results/results_exome_data/\n",
    "for file in */*.snp_stats.gz; do\n",
    "    zcat $file | awk  -F'\\t' 'NR == 1 {print; next} {\n",
    "      flag=0; \n",
    "      for (i=1;i<=NF;i++) if ($1 == 2 && $2 > 178815308 && $2 < 179060137 && $8<0.05)  flag=1;\n",
    "      for (i=1;i<=NF;i++) if ($1 == 17 && $2 > 36485636 && $2 < 36545338 && $8<0.05)  flag=1; \n",
    "      for (i=1;i<=NF;i++) if ($1 == 7 && $2 > 21533039 && $2 < 21911839 && $8<0.05)  flag=1; \n",
    "      for (i=1;i<=NF;i++) if ($1 == 17 && $2 > 72111020 && $2 < 72136416 && $8<0.05)  flag=1;\n",
    "      for (i=1;i<=NF;i++) if ($1 == 2 && $2 > 113205997 && $2 < 113288921 && $8<0.05)  flag=1;\n",
    "      for (i=1;i<=NF;i++) if ($1 == 2 && $2 > 130449455 && $2 < 130519707 && $8<0.05)  flag=1;\n",
    "      for (i=1;i<=NF;i++) if ($1 == 9 && $2 > 135692185 && $2 < 135805502 && $8<0.05)  flag=1;\n",
    "      for (i=1;i<=NF;i++) if ($1 == 6 && $2 > 168282830 && $2 < 168329777 && $8<0.05) flag=1;\n",
    "      for (i=1;i<=NF;i++) if ($1 == 2 && $2 > 231443531 && $2 < 231474484 && $8<0.05) flag=1;\n",
    "      for (i=1;i<=NF;i++) if ($1 == 4 && $2 > 142013160 && $2 < 142856535 && $8<0.05) flag=1;\n",
    "      if (flag) print\n",
    "    }'  > ${cwd}/${file%%.*}.EOHI\n",
    "    gzip -c ${cwd}/${file%%.*}.EOHI > ${cwd}/${file%%.*}.EOHI.gz ;\n",
    "    done "
   ]
  },
  {
   "cell_type": "code",
   "execution_count": 27,
   "metadata": {
    "kernel": "Bash"
   },
   "outputs": [
    {
     "name": "stdout",
     "output_type": "stream",
     "text": [
      "\n"
     ]
    }
   ],
   "source": [
    "## Coordinates for hg19 imputed data\n",
    "#Chr2\t179684484\t179924864\n",
    "#Chr17\t34841480\t34900695\n",
    "#Chr7\t21572657\t21951457\n",
    "#Chr17\t70107161\t70132557\n",
    "#Chr2\t113963574\t114046498\n",
    "#Chr2\t131207028\t131277280\n",
    "#Chr9\t138584031\t138697348\n",
    "#Chr6\t168683510\t168730457\n",
    "#Chr2\t232308242\t232339195\n",
    "#Chr4\t142934313\t143777688\n",
    "cd /gpfs/gibbs/pi/dewan/data/UKBiobank/results/FastGWA_results/results_imputed_data/hearing_impairment\n",
    "cwd=/gpfs/gibbs/pi/dewan/data/UKBiobank/results/FastGWA_results/results_imputed_data/hearing_impairment\n",
    "for file in */*.snp_stats.gz; do\n",
    "    zcat $file | awk  -F'\\t' 'NR == 1 {print; next} {\n",
    "      flag=0; \n",
    "      for (i=1;i<=NF;i++) if ($1 == 2 && $2 > 179684484 && $2 < 179924864 && $8<0.05)  flag=1;\n",
    "      for (i=1;i<=NF;i++) if ($1 == 17 && $2 > 34841480 && $2 < 34900695 && $8<0.05)  flag=1; \n",
    "      for (i=1;i<=NF;i++) if ($1 == 7 && $2 >21572657 && $2 < 21951457 && $8<0.05)  flag=1; \n",
    "      for (i=1;i<=NF;i++) if ($1 == 17 && $2 > 70107161 && $2 < 70132557 && $8<0.05)  flag=1;\n",
    "      for (i=1;i<=NF;i++) if ($1 == 2 && $2 > 113963574 && $2 < 114046498 && $8<0.05)  flag=1;\n",
    "      for (i=1;i<=NF;i++) if ($1 == 2 && $2 > 131207028 && $2 < 131277280 && $8<0.05)  flag=1;\n",
    "      for (i=1;i<=NF;i++) if ($1 == 9 && $2 > 138584031 && $2 < 138697348 && $8<0.05)  flag=1;\n",
    "      for (i=1;i<=NF;i++) if ($1 == 6 && $2 > 168683510 && $2 < 168730457 && $8<0.05) flag=1;\n",
    "      for (i=1;i<=NF;i++) if ($1 == 2 && $2 > 232308242 && $2 < 232339195 && $8<0.05) flag=1;\n",
    "      for (i=1;i<=NF;i++) if ($1 == 4 && $2 > 142934313 && $2 < 143777688 && $8<0.05) flag=1;\n",
    "      if (flag) print\n",
    "    }' > ${cwd}/${file%%.*}.EOHI\n",
    "    gzip -c ${cwd}/${file%%.*}.EOHI > ${cwd}/${file%%.*}.EOHI.gz ;\n",
    "    done"
   ]
  },
  {
   "cell_type": "markdown",
   "metadata": {
    "kernel": "Bash"
   },
   "source": [
    "# Exome data"
   ]
  },
  {
   "cell_type": "markdown",
   "metadata": {
    "kernel": "SoS"
   },
   "source": [
    "## 1. f.3393: new phenotype with controls_na and UKBB exome non-qc data"
   ]
  },
  {
   "cell_type": "code",
   "execution_count": 54,
   "metadata": {
    "kernel": "Bash"
   },
   "outputs": [
    {
     "name": "stdout",
     "output_type": "stream",
     "text": [
      "INFO: Running \u001b[32mannovar_1\u001b[0m: Get the list of significantly associated SNPs\n",
      "INFO: \u001b[32mannovar_1\u001b[0m is \u001b[32mcompleted\u001b[0m.\n",
      "INFO: \u001b[32mannovar_1\u001b[0m output:   \u001b[32m/home/dc2325/scratch60/EOHI_thashi/f3393_hearing_aid_exomes200K_noqc_ctrl_na/062421_UKBB_Hearing_aid_f3393_expandedwhite_z974included_ctrl_na_104402ind_f3393_ctrl_na.snp_annotate\u001b[0m\n",
      "INFO: Running \u001b[32mannovar_2\u001b[0m: Get chr, start, end, ref_allele, alt_allele format\n",
      "INFO: \u001b[32mannovar_2\u001b[0m is \u001b[32mcompleted\u001b[0m.\n",
      "INFO: \u001b[32mannovar_2\u001b[0m output:   \u001b[32m/home/dc2325/scratch60/EOHI_thashi/f3393_hearing_aid_exomes200K_noqc_ctrl_na/062421_UKBB_Hearing_aid_f3393_expandedwhite_z974included_ctrl_na_104402ind_f3393_ctrl_na.avinput\u001b[0m\n",
      "INFO: Running \u001b[32mannovar_3\u001b[0m: Annotate variants file using ANNOVAR\n",
      "INFO: \u001b[32mannovar_3\u001b[0m is \u001b[32mcompleted\u001b[0m.\n",
      "INFO: \u001b[32mannovar_3\u001b[0m output:   \u001b[32m/home/dc2325/scratch60/EOHI_thashi/f3393_hearing_aid_exomes200K_noqc_ctrl_na/062421_UKBB_Hearing_aid_f3393_expandedwhite_z974included_ctrl_na_104402ind_f3393_ctrl_na.hg38_multianno.csv\u001b[0m\n",
      "INFO: Workflow annovar (ID=w6b77da79df79f634) is executed successfully with 3 completed steps.\n",
      "\n"
     ]
    }
   ],
   "source": [
    "UKBB_PATH=/gpfs/gibbs/pi/dewan/data/UKBiobank\n",
    "USER_PATH=/home/dc2325/project\n",
    "cwd=/home/dc2325/scratch60/EOHI_thashi/f3393_hearing_aid_exomes200K_noqc_ctrl_na\n",
    "sumstatsFile=$UKBB_PATH/results/REGENIE_results/results_exome_data/f3393_hearing_aid_exomes200K_noqc_ctrl_na/*.EOHI.gz\n",
    "hg=38\n",
    "job_size=1\n",
    "container_annovar=$UKBB_PATH/annovar.sif\n",
    "bimfiles=`echo /gpfs/gibbs/pi/dewan/data/UKBiobank/genotype_files/ukb28374_exomedata/exome_data_OCT2020/ukb23155_c{1..22}_b0_v1.bim`\n",
    "bim_name=/home/dc2325/project/results/exome_bim_merge/ukb23155_chr1_chr22.bim\n",
    "humandb=/gpfs/ysm/datasets/db/annovar/humandb\n",
    "p_filter=0.005\n",
    "sos run ~/project/UKBB_GWAS_dev/workflow/snptogene.ipynb annovar \\\n",
    "    --cwd $cwd \\\n",
    "    --sumstatsFile $sumstatsFile\\\n",
    "    --bim_name $bim_name \\\n",
    "    --bimfiles $bimfiles \\\n",
    "    --p_filter $p_filter \\\n",
    "    --hg $hg \\\n",
    "    --job_size $job_size \\\n",
    "    --humandb $humandb\\\n",
    "    --ukbb $UKBB_PATH \\\n",
    "    --container_annovar $container_annovar"
   ]
  },
  {
   "cell_type": "markdown",
   "metadata": {
    "kernel": "Bash"
   },
   "source": [
    "## 2. f.2247: new phenotype with controls_na and UKBB exome non-qc data"
   ]
  },
  {
   "cell_type": "code",
   "execution_count": 55,
   "metadata": {
    "kernel": "Bash"
   },
   "outputs": [
    {
     "name": "stdout",
     "output_type": "stream",
     "text": [
      "INFO: Running \u001b[32mannovar_1\u001b[0m: Get the list of significantly associated SNPs\n",
      "INFO: \u001b[32mannovar_1\u001b[0m is \u001b[32mcompleted\u001b[0m.\n",
      "INFO: \u001b[32mannovar_1\u001b[0m output:   \u001b[32m/home/dc2325/scratch60/EOHI_thashi/f2247_hearing_difficulty_exomes200K_noqc_ctrl_na/062421_UKBB_Hearing_difficulty_f2247_expandedwhite_z974included_ctrl_na_144952ind_f2247_ctrl_na.snp_annotate\u001b[0m\n",
      "INFO: Running \u001b[32mannovar_2\u001b[0m: Get chr, start, end, ref_allele, alt_allele format\n",
      "INFO: \u001b[32mannovar_2\u001b[0m is \u001b[32mcompleted\u001b[0m.\n",
      "INFO: \u001b[32mannovar_2\u001b[0m output:   \u001b[32m/home/dc2325/scratch60/EOHI_thashi/f2247_hearing_difficulty_exomes200K_noqc_ctrl_na/062421_UKBB_Hearing_difficulty_f2247_expandedwhite_z974included_ctrl_na_144952ind_f2247_ctrl_na.avinput\u001b[0m\n",
      "INFO: Running \u001b[32mannovar_3\u001b[0m: Annotate variants file using ANNOVAR\n",
      "INFO: \u001b[32mannovar_3\u001b[0m is \u001b[32mcompleted\u001b[0m.\n",
      "INFO: \u001b[32mannovar_3\u001b[0m output:   \u001b[32m/home/dc2325/scratch60/EOHI_thashi/f2247_hearing_difficulty_exomes200K_noqc_ctrl_na/062421_UKBB_Hearing_difficulty_f2247_expandedwhite_z974included_ctrl_na_144952ind_f2247_ctrl_na.hg38_multianno.csv\u001b[0m\n",
      "INFO: Workflow annovar (ID=wcc28cb3a1e8e6108) is executed successfully with 3 completed steps.\n",
      "\n"
     ]
    }
   ],
   "source": [
    "UKBB_PATH=/gpfs/gibbs/pi/dewan/data/UKBiobank\n",
    "USER_PATH=/home/dc2325/project\n",
    "cwd=/home/dc2325/scratch60/EOHI_thashi/f2247_hearing_difficulty_exomes200K_noqc_ctrl_na\n",
    "sumstatsFile=$UKBB_PATH/results/REGENIE_results/results_exome_data/f2247_hearing_difficulty_exomes200K_noqc_ctrl_na/*.EOHI.gz\n",
    "hg=38\n",
    "job_size=1\n",
    "container_annovar=$UKBB_PATH/annovar.sif\n",
    "bimfiles=`echo /gpfs/gibbs/pi/dewan/data/UKBiobank/genotype_files/ukb28374_exomedata/exome_data_OCT2020/ukb23155_c{1..22}_b0_v1.bim`\n",
    "bim_name=/home/dc2325/project/results/exome_bim_merge/ukb23155_chr1_chr22.bim\n",
    "humandb=/gpfs/ysm/datasets/db/annovar/humandb\n",
    "p_filter=0.005\n",
    "sos run ~/project/UKBB_GWAS_dev/workflow/snptogene.ipynb annovar \\\n",
    "    --cwd $cwd \\\n",
    "    --sumstatsFile $sumstatsFile\\\n",
    "    --bim_name $bim_name \\\n",
    "    --bimfiles $bimfiles \\\n",
    "    --p_filter $p_filter \\\n",
    "    --hg $hg \\\n",
    "    --job_size $job_size \\\n",
    "    --humandb $humandb\\\n",
    "    --ukbb $UKBB_PATH \\\n",
    "    --container_annovar $container_annovar"
   ]
  },
  {
   "cell_type": "markdown",
   "metadata": {
    "kernel": "Bash"
   },
   "source": [
    "## 3. f.2257: new phenotype with controls_na and UKBB exome non-qc data"
   ]
  },
  {
   "cell_type": "code",
   "execution_count": 56,
   "metadata": {
    "kernel": "Bash"
   },
   "outputs": [
    {
     "name": "stdout",
     "output_type": "stream",
     "text": [
      "INFO: Running \u001b[32mannovar_1\u001b[0m: Get the list of significantly associated SNPs\n",
      "INFO: \u001b[32mannovar_1\u001b[0m is \u001b[32mcompleted\u001b[0m.\n",
      "INFO: \u001b[32mannovar_1\u001b[0m output:   \u001b[32m/home/dc2325/scratch60/EOHI_thashi/f2257_hearing_noise_exomes200K_noqc_ctrl_na/062421_UKBB_Hearing_background_noise_f2257_expandedwhite_z974included_ctrl_na_166199ind_f2257_ctrl_na.snp_annotate\u001b[0m\n",
      "INFO: Running \u001b[32mannovar_2\u001b[0m: Get chr, start, end, ref_allele, alt_allele format\n",
      "INFO: \u001b[32mannovar_2\u001b[0m is \u001b[32mcompleted\u001b[0m.\n",
      "INFO: \u001b[32mannovar_2\u001b[0m output:   \u001b[32m/home/dc2325/scratch60/EOHI_thashi/f2257_hearing_noise_exomes200K_noqc_ctrl_na/062421_UKBB_Hearing_background_noise_f2257_expandedwhite_z974included_ctrl_na_166199ind_f2257_ctrl_na.avinput\u001b[0m\n",
      "INFO: Running \u001b[32mannovar_3\u001b[0m: Annotate variants file using ANNOVAR\n",
      "INFO: \u001b[32mannovar_3\u001b[0m is \u001b[32mcompleted\u001b[0m.\n",
      "INFO: \u001b[32mannovar_3\u001b[0m output:   \u001b[32m/home/dc2325/scratch60/EOHI_thashi/f2257_hearing_noise_exomes200K_noqc_ctrl_na/062421_UKBB_Hearing_background_noise_f2257_expandedwhite_z974included_ctrl_na_166199ind_f2257_ctrl_na.hg38_multianno.csv\u001b[0m\n",
      "INFO: Workflow annovar (ID=w051921d6d4819339) is executed successfully with 3 completed steps.\n",
      "\n"
     ]
    }
   ],
   "source": [
    "UKBB_PATH=/gpfs/gibbs/pi/dewan/data/UKBiobank\n",
    "USER_PATH=/home/dc2325/project\n",
    "cwd=/home/dc2325/scratch60/EOHI_thashi/f2257_hearing_noise_exomes200K_noqc_ctrl_na\n",
    "sumstatsFile=$UKBB_PATH/results/REGENIE_results/results_exome_data/f2257_hearing_noise_exomes200K_noqc_ctrl_na/*.EOHI.gz\n",
    "hg=38\n",
    "job_size=1\n",
    "container_annovar=$UKBB_PATH/annovar.sif\n",
    "bimfiles=`echo /gpfs/gibbs/pi/dewan/data/UKBiobank/genotype_files/ukb28374_exomedata/exome_data_OCT2020/ukb23155_c{1..22}_b0_v1.bim`\n",
    "bim_name=/home/dc2325/project/results/exome_bim_merge/ukb23155_chr1_chr22.bim\n",
    "humandb=/gpfs/ysm/datasets/db/annovar/humandb\n",
    "p_filter=0.005\n",
    "sos run ~/project/UKBB_GWAS_dev/workflow/snptogene.ipynb annovar \\\n",
    "    --cwd $cwd \\\n",
    "    --sumstatsFile $sumstatsFile\\\n",
    "    --bim_name $bim_name \\\n",
    "    --bimfiles $bimfiles \\\n",
    "    --p_filter $p_filter \\\n",
    "    --hg $hg \\\n",
    "    --job_size $job_size \\\n",
    "    --humandb $humandb\\\n",
    "    --ukbb $UKBB_PATH \\\n",
    "    --container_annovar $container_annovar"
   ]
  },
  {
   "cell_type": "markdown",
   "metadata": {
    "kernel": "Bash"
   },
   "source": [
    "## 4. f.2247 & f.2257: new phenotype with controls_na and UKBB exome non-qc data"
   ]
  },
  {
   "cell_type": "code",
   "execution_count": 57,
   "metadata": {
    "kernel": "Bash"
   },
   "outputs": [
    {
     "name": "stdout",
     "output_type": "stream",
     "text": [
      "INFO: Running \u001b[32mannovar_1\u001b[0m: Get the list of significantly associated SNPs\n",
      "INFO: \u001b[32mannovar_1\u001b[0m is \u001b[32mcompleted\u001b[0m.\n",
      "INFO: \u001b[32mannovar_1\u001b[0m output:   \u001b[32m/home/dc2325/scratch60/EOHI_thashi/f2247_f2257_exomes200K_noqc_ctrl_na/062421_UKBB_f2247_f2257_expandedwhite_z974included_ctrl_na_137245ind_f2247_f2257_ctrl_na.snp_annotate\u001b[0m\n",
      "INFO: Running \u001b[32mannovar_2\u001b[0m: Get chr, start, end, ref_allele, alt_allele format\n",
      "INFO: \u001b[32mannovar_2\u001b[0m is \u001b[32mcompleted\u001b[0m.\n",
      "INFO: \u001b[32mannovar_2\u001b[0m output:   \u001b[32m/home/dc2325/scratch60/EOHI_thashi/f2247_f2257_exomes200K_noqc_ctrl_na/062421_UKBB_f2247_f2257_expandedwhite_z974included_ctrl_na_137245ind_f2247_f2257_ctrl_na.avinput\u001b[0m\n",
      "INFO: Running \u001b[32mannovar_3\u001b[0m: Annotate variants file using ANNOVAR\n",
      "INFO: \u001b[32mannovar_3\u001b[0m is \u001b[32mcompleted\u001b[0m.\n",
      "INFO: \u001b[32mannovar_3\u001b[0m output:   \u001b[32m/home/dc2325/scratch60/EOHI_thashi/f2247_f2257_exomes200K_noqc_ctrl_na/062421_UKBB_f2247_f2257_expandedwhite_z974included_ctrl_na_137245ind_f2247_f2257_ctrl_na.hg38_multianno.csv\u001b[0m\n",
      "INFO: Workflow annovar (ID=w19b3884f17ac9dbc) is executed successfully with 3 completed steps.\n",
      "\n"
     ]
    }
   ],
   "source": [
    "UKBB_PATH=/gpfs/gibbs/pi/dewan/data/UKBiobank\n",
    "USER_PATH=/home/dc2325/project\n",
    "cwd=/home/dc2325/scratch60/EOHI_thashi/f2247_f2257_exomes200K_noqc_ctrl_na\n",
    "sumstatsFile=$UKBB_PATH/results/REGENIE_results/results_exome_data/f2247_f2257_exomes200K_noqc_ctrl_na/*.EOHI.gz\n",
    "hg=38\n",
    "job_size=1\n",
    "container_annovar=$UKBB_PATH/annovar.sif\n",
    "bimfiles=`echo /gpfs/gibbs/pi/dewan/data/UKBiobank/genotype_files/ukb28374_exomedata/exome_data_OCT2020/ukb23155_c{1..22}_b0_v1.bim`\n",
    "bim_name=/home/dc2325/project/results/exome_bim_merge/ukb23155_chr1_chr22.bim\n",
    "humandb=/gpfs/ysm/datasets/db/annovar/humandb\n",
    "p_filter=0.005\n",
    "sos run ~/project/UKBB_GWAS_dev/workflow/snptogene.ipynb annovar \\\n",
    "    --cwd $cwd \\\n",
    "    --sumstatsFile $sumstatsFile\\\n",
    "    --bim_name $bim_name \\\n",
    "    --bimfiles $bimfiles \\\n",
    "    --p_filter $p_filter \\\n",
    "    --hg $hg \\\n",
    "    --job_size $job_size \\\n",
    "    --humandb $humandb\\\n",
    "    --ukbb $UKBB_PATH \\\n",
    "    --container_annovar $container_annovar"
   ]
  },
  {
   "cell_type": "markdown",
   "metadata": {
    "kernel": "Bash"
   },
   "source": [
    "## 5. Tinnitus_p1"
   ]
  },
  {
   "cell_type": "code",
   "execution_count": 58,
   "metadata": {
    "kernel": "Bash"
   },
   "outputs": [
    {
     "name": "stdout",
     "output_type": "stream",
     "text": [
      "INFO: Running \u001b[32mannovar_1\u001b[0m: Get the list of significantly associated SNPs\n",
      "INFO: \u001b[32mannovar_1\u001b[0m is \u001b[32mcompleted\u001b[0m.\n",
      "INFO: \u001b[32mannovar_1\u001b[0m output:   \u001b[32m/home/dc2325/scratch60/EOHI_thashi/tinnitus_plan1_2_3/010421_UKBB_Tinnitus_plan1_2_3_f4803_exomes_tinnitus.snp_annotate\u001b[0m\n",
      "INFO: Running \u001b[32mannovar_2\u001b[0m: Get chr, start, end, ref_allele, alt_allele format\n",
      "INFO: \u001b[32mannovar_2\u001b[0m is \u001b[32mcompleted\u001b[0m.\n",
      "INFO: \u001b[32mannovar_2\u001b[0m output:   \u001b[32m/home/dc2325/scratch60/EOHI_thashi/tinnitus_plan1_2_3/010421_UKBB_Tinnitus_plan1_2_3_f4803_exomes_tinnitus.avinput\u001b[0m\n",
      "INFO: Running \u001b[32mannovar_3\u001b[0m: Annotate variants file using ANNOVAR\n",
      "INFO: \u001b[32mannovar_3\u001b[0m is \u001b[32mcompleted\u001b[0m.\n",
      "INFO: \u001b[32mannovar_3\u001b[0m output:   \u001b[32m/home/dc2325/scratch60/EOHI_thashi/tinnitus_plan1_2_3/010421_UKBB_Tinnitus_plan1_2_3_f4803_exomes_tinnitus.hg38_multianno.csv\u001b[0m\n",
      "INFO: Workflow annovar (ID=w64517985db2971a4) is executed successfully with 3 completed steps.\n",
      "\n"
     ]
    }
   ],
   "source": [
    "UKBB_PATH=/gpfs/gibbs/pi/dewan/data/UKBiobank\n",
    "USER_PATH=/home/dc2325/project\n",
    "cwd=/home/dc2325/scratch60/EOHI_thashi/tinnitus_plan1_2_3\n",
    "sumstatsFile=$UKBB_PATH/results/REGENIE_results/results_exome_data/tinnitus_plan1_2_3/010421_UKBB_Tinnitus_plan1_2_3_f4803_exomes_tinnitus.EOHI.gz\n",
    "hg=38\n",
    "job_size=1\n",
    "container_annovar=$UKBB_PATH/annovar.sif\n",
    "bimfiles=`echo /gpfs/gibbs/pi/dewan/data/UKBiobank/genotype_files/ukb28374_exomedata/exome_data_OCT2020/ukb23155_c{1..22}_b0_v1.bim`\n",
    "bim_name=/home/dc2325/project/results/exome_bim_merge/ukb23155_chr1_chr22.bim\n",
    "humandb=/gpfs/ysm/datasets/db/annovar/humandb\n",
    "p_filter=0.005\n",
    "sos run ~/project/UKBB_GWAS_dev/workflow/snptogene.ipynb annovar \\\n",
    "    --cwd $cwd \\\n",
    "    --sumstatsFile $sumstatsFile\\\n",
    "    --bim_name $bim_name \\\n",
    "    --bimfiles $bimfiles \\\n",
    "    --p_filter $p_filter \\\n",
    "    --hg $hg \\\n",
    "    --job_size $job_size \\\n",
    "    --humandb $humandb\\\n",
    "    --ukbb $UKBB_PATH \\\n",
    "    --container_annovar $container_annovar"
   ]
  },
  {
   "cell_type": "markdown",
   "metadata": {
    "kernel": "Bash"
   },
   "source": [
    "## 6. Tinnitus_p2"
   ]
  },
  {
   "cell_type": "code",
   "execution_count": 59,
   "metadata": {
    "kernel": "Bash"
   },
   "outputs": [
    {
     "name": "stdout",
     "output_type": "stream",
     "text": [
      "INFO: Running \u001b[32mannovar_1\u001b[0m: Get the list of significantly associated SNPs\n",
      "INFO: \u001b[32mannovar_1\u001b[0m is \u001b[32mcompleted\u001b[0m.\n",
      "INFO: \u001b[32mannovar_1\u001b[0m output:   \u001b[32m/home/dc2325/scratch60/EOHI_thashi/tinnitus_plan1_2_3/010421_UKBB_Tinnitus_plan1_2_3_f4803_exomes_tinnitus_p2.snp_annotate\u001b[0m\n",
      "INFO: Running \u001b[32mannovar_2\u001b[0m: Get chr, start, end, ref_allele, alt_allele format\n",
      "INFO: \u001b[32mannovar_2\u001b[0m is \u001b[32mcompleted\u001b[0m.\n",
      "INFO: \u001b[32mannovar_2\u001b[0m output:   \u001b[32m/home/dc2325/scratch60/EOHI_thashi/tinnitus_plan1_2_3/010421_UKBB_Tinnitus_plan1_2_3_f4803_exomes_tinnitus_p2.avinput\u001b[0m\n",
      "INFO: Running \u001b[32mannovar_3\u001b[0m: Annotate variants file using ANNOVAR\n",
      "INFO: \u001b[32mannovar_3\u001b[0m is \u001b[32mcompleted\u001b[0m.\n",
      "INFO: \u001b[32mannovar_3\u001b[0m output:   \u001b[32m/home/dc2325/scratch60/EOHI_thashi/tinnitus_plan1_2_3/010421_UKBB_Tinnitus_plan1_2_3_f4803_exomes_tinnitus_p2.hg38_multianno.csv\u001b[0m\n",
      "INFO: Workflow annovar (ID=wde925a43ff7c8e79) is executed successfully with 3 completed steps.\n",
      "\n"
     ]
    }
   ],
   "source": [
    "UKBB_PATH=/gpfs/gibbs/pi/dewan/data/UKBiobank\n",
    "USER_PATH=/home/dc2325/project\n",
    "cwd=/home/dc2325/scratch60/EOHI_thashi/tinnitus_plan1_2_3\n",
    "sumstatsFile=$UKBB_PATH/results/REGENIE_results/results_exome_data/tinnitus_plan1_2_3/010421_UKBB_Tinnitus_plan1_2_3_f4803_exomes_tinnitus_p2.EOHI.gz\n",
    "hg=38\n",
    "job_size=1\n",
    "container_annovar=$UKBB_PATH/annovar.sif\n",
    "bimfiles=`echo /gpfs/gibbs/pi/dewan/data/UKBiobank/genotype_files/ukb28374_exomedata/exome_data_OCT2020/ukb23155_c{1..22}_b0_v1.bim`\n",
    "bim_name=/home/dc2325/project/results/exome_bim_merge/ukb23155_chr1_chr22.bim\n",
    "humandb=/gpfs/ysm/datasets/db/annovar/humandb\n",
    "p_filter=0.005\n",
    "sos run ~/project/UKBB_GWAS_dev/workflow/snptogene.ipynb annovar \\\n",
    "    --cwd $cwd \\\n",
    "    --sumstatsFile $sumstatsFile\\\n",
    "    --bim_name $bim_name \\\n",
    "    --bimfiles $bimfiles \\\n",
    "    --p_filter $p_filter \\\n",
    "    --hg $hg \\\n",
    "    --job_size $job_size \\\n",
    "    --humandb $humandb\\\n",
    "    --ukbb $UKBB_PATH \\\n",
    "    --container_annovar $container_annovar"
   ]
  },
  {
   "cell_type": "markdown",
   "metadata": {
    "kernel": "Bash"
   },
   "source": [
    "## 7. Tinnitus_p3"
   ]
  },
  {
   "cell_type": "code",
   "execution_count": 60,
   "metadata": {
    "kernel": "Bash"
   },
   "outputs": [
    {
     "name": "stdout",
     "output_type": "stream",
     "text": [
      "INFO: Running \u001b[32mannovar_1\u001b[0m: Get the list of significantly associated SNPs\n",
      "INFO: \u001b[32mannovar_1\u001b[0m is \u001b[32mcompleted\u001b[0m.\n",
      "INFO: \u001b[32mannovar_1\u001b[0m output:   \u001b[32m/home/dc2325/scratch60/EOHI_thashi/tinnitus_plan1_2_3/010421_UKBB_Tinnitus_plan1_2_3_f4803_exomes_tinnitus_p3.snp_annotate\u001b[0m\n",
      "INFO: Running \u001b[32mannovar_2\u001b[0m: Get chr, start, end, ref_allele, alt_allele format\n",
      "INFO: \u001b[32mannovar_2\u001b[0m is \u001b[32mcompleted\u001b[0m.\n",
      "INFO: \u001b[32mannovar_2\u001b[0m output:   \u001b[32m/home/dc2325/scratch60/EOHI_thashi/tinnitus_plan1_2_3/010421_UKBB_Tinnitus_plan1_2_3_f4803_exomes_tinnitus_p3.avinput\u001b[0m\n",
      "INFO: Running \u001b[32mannovar_3\u001b[0m: Annotate variants file using ANNOVAR\n",
      "INFO: \u001b[32mannovar_3\u001b[0m is \u001b[32mcompleted\u001b[0m.\n",
      "INFO: \u001b[32mannovar_3\u001b[0m output:   \u001b[32m/home/dc2325/scratch60/EOHI_thashi/tinnitus_plan1_2_3/010421_UKBB_Tinnitus_plan1_2_3_f4803_exomes_tinnitus_p3.hg38_multianno.csv\u001b[0m\n",
      "INFO: Workflow annovar (ID=w501a7236685f5238) is executed successfully with 3 completed steps.\n",
      "\n"
     ]
    }
   ],
   "source": [
    "UKBB_PATH=/gpfs/gibbs/pi/dewan/data/UKBiobank\n",
    "USER_PATH=/home/dc2325/project\n",
    "cwd=/home/dc2325/scratch60/EOHI_thashi/tinnitus_plan1_2_3\n",
    "sumstatsFile=$UKBB_PATH/results/REGENIE_results/results_exome_data/tinnitus_plan1_2_3/010421_UKBB_Tinnitus_plan1_2_3_f4803_exomes_tinnitus_p3.EOHI.gz\n",
    "hg=38\n",
    "job_size=1\n",
    "container_annovar=$UKBB_PATH/annovar.sif\n",
    "bimfiles=`echo /gpfs/gibbs/pi/dewan/data/UKBiobank/genotype_files/ukb28374_exomedata/exome_data_OCT2020/ukb23155_c{1..22}_b0_v1.bim`\n",
    "bim_name=/home/dc2325/project/results/exome_bim_merge/ukb23155_chr1_chr22.bim\n",
    "humandb=/gpfs/ysm/datasets/db/annovar/humandb\n",
    "p_filter=0.005\n",
    "sos run ~/project/UKBB_GWAS_dev/workflow/snptogene.ipynb annovar \\\n",
    "    --cwd $cwd \\\n",
    "    --sumstatsFile $sumstatsFile\\\n",
    "    --bim_name $bim_name \\\n",
    "    --bimfiles $bimfiles \\\n",
    "    --p_filter $p_filter \\\n",
    "    --hg $hg \\\n",
    "    --job_size $job_size \\\n",
    "    --humandb $humandb\\\n",
    "    --ukbb $UKBB_PATH \\\n",
    "    --container_annovar $container_annovar"
   ]
  },
  {
   "cell_type": "markdown",
   "metadata": {
    "kernel": "Bash"
   },
   "source": [
    "## 8. Mendelian-like data"
   ]
  },
  {
   "cell_type": "code",
   "execution_count": 4,
   "metadata": {
    "kernel": "Bash"
   },
   "outputs": [
    {
     "name": "stdout",
     "output_type": "stream",
     "text": [
      "INFO: Running \u001b[32mannovar_1\u001b[0m: Get the list of significantly associated SNPs\n",
      "INFO: \u001b[32mannovar_1\u001b[0m (index=0) is \u001b[32mignored\u001b[0m due to saved signature\n",
      "INFO: \u001b[32mannovar_1\u001b[0m output:   \u001b[32m/home/dmc2245/scratch60/EOHI_thashi/exome_data/mendelian_like/full_mendilian-like_pheno_file_mendilian-like.regenie.snp_annotate\u001b[0m\n",
      "INFO: Running \u001b[32mannovar_2\u001b[0m: Get chr, start, end, ref_allele, alt_allele format\n",
      "INFO: \u001b[32mannovar_2\u001b[0m (index=0) is \u001b[32mignored\u001b[0m due to saved signature\n",
      "INFO: \u001b[32mannovar_2\u001b[0m output:   \u001b[32m/home/dmc2245/scratch60/EOHI_thashi/exome_data/mendelian_like/full_mendilian-like_pheno_file_mendilian-like.regenie.avinput\u001b[0m\n",
      "INFO: Running \u001b[32mannovar_3\u001b[0m: Annotate variants file using ANNOVAR\n",
      "INFO: \u001b[32mannovar_3\u001b[0m is \u001b[32mcompleted\u001b[0m.\n",
      "INFO: \u001b[32mannovar_3\u001b[0m output:   \u001b[32m/home/dmc2245/scratch60/EOHI_thashi/exome_data/mendelian_like/full_mendilian-like_pheno_file_mendilian-like.regenie.hg38_multianno.csv\u001b[0m\n",
      "INFO: Workflow annovar (ID=w06a2533da7179b39) is executed successfully with 1 completed step and 2 ignored steps.\n",
      "\n"
     ]
    }
   ],
   "source": [
    "module load Singularity\n",
    "UKBB_PATH=/mnt/mfs/statgen/UKBiobank/\n",
    "USER_PATH=/home/dmc2245/project/\n",
    "cwd=/home/dmc2245/scratch60/EOHI_thashi/exome_data/mendelian_like\n",
    "sumstatsFile=$UKBB_PATH/results/REGENIE_results/results_exome_data/mendelian_like_exomes200K_ctrl_na/full_mendilian-like_pheno_file_mendilian-like.regenie.snp_stats.gz\n",
    "hg=38\n",
    "job_size=1\n",
    "container_annovar=/mnt/mfs/statgen/containers/gatk4-annovar.sif\n",
    "bim_name=/mnt/mfs/statgen/UKBiobank/data/exome_bim_merge/ukb23155_chr1_chr22.bim\n",
    "humandb=/mnt/mfs/statgen/isabelle/REF/humandb\n",
    "xref_path=/mnt/mfs/statgen/isabelle/REF/humandb\n",
    "p_filter=0.005\n",
    "sos run ~/project/UKBB_GWAS_dev/workflow/snptogene.ipynb annovar \\\n",
    "    --cwd $cwd \\\n",
    "    --sumstatsFile $sumstatsFile\\\n",
    "    --bim_name $bim_name \\\n",
    "    --bimfiles $bimfiles \\\n",
    "    --p_filter $p_filter \\\n",
    "    --hg $hg \\\n",
    "    --job_size $job_size \\\n",
    "    --humandb $humandb\\\n",
    "    --xref_path $xref_path \\\n",
    "    --container_annovar $container_annovar"
   ]
  },
  {
   "cell_type": "markdown",
   "metadata": {
    "kernel": "Bash"
   },
   "source": [
    "# Imputed data"
   ]
  },
  {
   "cell_type": "code",
   "execution_count": 63,
   "metadata": {
    "kernel": "Bash"
   },
   "outputs": [
    {
     "name": "stdout",
     "output_type": "stream",
     "text": [
      "-rw-r--r-- 1 dc2325 dewan  9920 Jul 15 09:14 f20019_srt_int_left/200904_UKBB_SRT_int_left_cc_srt_int_left.EOHI.gz\n",
      "-rw-r--r-- 1 dc2325 dewan 10509 Jul 15 09:18 f20021_srt_int_right/200904_UKBB_SRT_int_right_cc_srt_int_right.EOHI.gz\n",
      "-rw-r--r-- 1 dc2325 dewan 15725 Jul 15 09:22 f2247_f2257_combined/200828_UKBB_f2247_f2257_f2247_f2257.EOHI.gz\n",
      "-rw-r--r-- 1 dc2325 dewan 15906 Jul 15 09:27 f2247_hearing_difficulty/200828_UKBB_Hearing_difficulty_f2247_hearing_diff_new.EOHI.gz\n",
      "-rw-r--r-- 1 dc2325 dewan 15920 Jul 15 09:31 f2247_hearing_difficulty_expandedwhite/120120_UKBB_Hearing_difficulty_f2247_expandedwhite_hearing_diff_new.EOHI.gz\n",
      "-rw-r--r-- 1 dc2325 dewan 12950 Jul 15 09:35 f2257_hearing_background_noise/200828_UKBB_Hearing_background_noise_f2257_hearing_noise_cat.EOHI.gz\n",
      "-rw-r--r-- 1 dc2325 dewan   110 Jul 15 09:41 f3393_hearing_aid/200828_UKBB_Hearing_aid_f3393_hearing_aid_cat.EOHI.gz\n",
      "-rw-r--r-- 1 dc2325 dewan 11182 Jul 15 09:46 srt_cat/200904_UKBB_SRT_cat_cc_srt_cat.EOHI.gz\n",
      "-rw-r--r-- 1 dc2325 dewan  7904 Jul 15 09:50 SRT_cat_35_65/200904_UKBB_SRT_cat_cc_35_65_srt_cat_35_65.EOHI.gz\n",
      "-rw-r--r-- 1 dc2325 dewan 10919 Jul 15 09:54 srt_int_best/200904_UKBB_SRT_int_best_cc_srt_int_best.EOHI.gz\n",
      "-rw-r--r-- 1 dc2325 dewan  9263 Jul 15 09:59 srt_int_worst/200904_UKBB_SRT_int_worst_cc_srt_int_worst.EOHI.gz\n",
      "-rw-r--r-- 1 dc2325 dewan 13709 Jul 15 10:04 tinnitus_082720/200811_UKBB_Tinnitus_plan1_2_3_f4803_tinnitus.EOHI.gz\n",
      "-rw-r--r-- 1 dc2325 dewan 20127 Jul 15 10:09 tinnitus_p2_082720/200811_UKBB_Tinnitus_plan1_2_3_f4803_tinnitus_p2.EOHI.gz\n",
      "-rw-r--r-- 1 dc2325 dewan 16135 Jul 15 10:13 tinnitus_p3_082720/200811_UKBB_Tinnitus_plan1_2_3_f4803_tinnitus_p3.EOHI.gz\n",
      "\n"
     ]
    }
   ],
   "source": [
    "cd /gpfs/gibbs/pi/dewan/data/UKBiobank/results/FastGWA_results/results_imputed_data/hearing_impairment\n",
    "ls -lrt */*.EOHI.gz"
   ]
  },
  {
   "cell_type": "markdown",
   "metadata": {
    "kernel": "Bash"
   },
   "source": [
    "## Get the variants in bim file format from the bgen format"
   ]
  },
  {
   "cell_type": "code",
   "execution_count": 30,
   "metadata": {
    "kernel": "Bash"
   },
   "outputs": [
    {
     "name": "stdout",
     "output_type": "stream",
     "text": [
      "INFO: Running \u001b[32mbim_from_bgen\u001b[0m: Create a merged *.bim file from *.bgen files\n",
      "INFO: \u001b[32mbim_from_bgen\u001b[0m (index=0) is \u001b[32mcompleted\u001b[0m.\n",
      "INFO: \u001b[32mbim_from_bgen\u001b[0m (index=1) is \u001b[32mcompleted\u001b[0m.\n",
      "INFO: \u001b[32mbim_from_bgen\u001b[0m (index=2) is \u001b[32mcompleted\u001b[0m.\n",
      "INFO: \u001b[32mbim_from_bgen\u001b[0m (index=3) is \u001b[32mcompleted\u001b[0m.\n",
      "INFO: \u001b[32mbim_from_bgen\u001b[0m (index=4) is \u001b[32mcompleted\u001b[0m.\n",
      "INFO: \u001b[32mbim_from_bgen\u001b[0m (index=5) is \u001b[32mcompleted\u001b[0m.\n",
      "INFO: \u001b[32mbim_from_bgen\u001b[0m (index=6) is \u001b[32mcompleted\u001b[0m.\n",
      "INFO: \u001b[32mbim_from_bgen\u001b[0m (index=7) is \u001b[32mcompleted\u001b[0m.\n",
      "INFO: \u001b[32mbim_from_bgen\u001b[0m (index=8) is \u001b[32mcompleted\u001b[0m.\n",
      "INFO: \u001b[32mbim_from_bgen\u001b[0m (index=9) is \u001b[32mcompleted\u001b[0m.\n",
      "INFO: \u001b[32mbim_from_bgen\u001b[0m (index=10) is \u001b[32mcompleted\u001b[0m.\n",
      "INFO: \u001b[32mbim_from_bgen\u001b[0m (index=11) is \u001b[32mcompleted\u001b[0m.\n",
      "INFO: \u001b[32mbim_from_bgen\u001b[0m (index=12) is \u001b[32mcompleted\u001b[0m.\n",
      "INFO: \u001b[32mbim_from_bgen\u001b[0m (index=13) is \u001b[32mcompleted\u001b[0m.\n",
      "INFO: \u001b[32mbim_from_bgen\u001b[0m (index=14) is \u001b[32mcompleted\u001b[0m.\n",
      "INFO: \u001b[32mbim_from_bgen\u001b[0m (index=15) is \u001b[32mcompleted\u001b[0m.\n",
      "INFO: \u001b[32mbim_from_bgen\u001b[0m (index=16) is \u001b[32mcompleted\u001b[0m.\n",
      "INFO: \u001b[32mbim_from_bgen\u001b[0m (index=17) is \u001b[32mcompleted\u001b[0m.\n",
      "INFO: \u001b[32mbim_from_bgen\u001b[0m (index=18) is \u001b[32mcompleted\u001b[0m.\n",
      "INFO: \u001b[32mbim_from_bgen\u001b[0m (index=19) is \u001b[32mcompleted\u001b[0m.\n",
      "INFO: \u001b[32mbim_from_bgen\u001b[0m (index=20) is \u001b[32mcompleted\u001b[0m.\n",
      "INFO: \u001b[32mbim_from_bgen\u001b[0m (index=21) is \u001b[32mcompleted\u001b[0m.\n",
      "INFO: \u001b[32mbim_from_bgen\u001b[0m output:   \u001b[32m/home/dc2325/project/results/bgen_bim_merge/ukb_imp_chr1_v3.bim /home/dc2325/project/results/bgen_bim_merge/ukb_imp_chr2_v3.bim... (22 items in 22 groups)\u001b[0m\n",
      "INFO: Workflow bim_from_bgen (ID=wa21601ce8a349de0) is executed successfully with 1 completed step and 22 completed substeps.\n",
      "\n"
     ]
    }
   ],
   "source": [
    "UKBB_PATH=/gpfs/gibbs/pi/dewan/data/UKBiobank\n",
    "USER_PATH=/home/dc2325/project\n",
    "cwd=/home/dc2325/project/results/bgen_bim_merge/\n",
    "genoFile=`echo $UKBB_PATH/genotype_files/ukb39554_imputeddataset/ukb_imp_chr{1..22}_v3.bgen`\n",
    "job_size=1\n",
    "container_lmm=$UKBB_PATH/lmm.sif\n",
    "bim_name='ukb39554_imputed_variants'\n",
    "\n",
    "sos run ~/project/UKBB_GWAS_dev/workflow/snptogene.ipynb bim_from_bgen\\\n",
    "    --cwd $cwd\\\n",
    "    --genoFile $genoFile\\\n",
    "    --job_size $job_size \\\n",
    "    --bim_name $bim_name\\\n",
    "    --container_lmm $container_lmm"
   ]
  },
  {
   "cell_type": "markdown",
   "metadata": {
    "kernel": "Bash"
   },
   "source": [
    "## 1. f20019_srt_int_left\n",
    "\n",
    "#### Columbia's cluster \n",
    "Require format changes since these are bgen files"
   ]
  },
  {
   "cell_type": "code",
   "execution_count": 2,
   "metadata": {
    "kernel": "Bash"
   },
   "outputs": [
    {
     "name": "stdout",
     "output_type": "stream",
     "text": [
      "INFO: Running \u001b[32mannovar_1\u001b[0m: Get the list of significantly associated SNPs\n",
      "INFO: Step \u001b[32mannovar_1\u001b[0m (index=0) is \u001b[32mignored\u001b[0m with signature constructed\n",
      "INFO: \u001b[32mannovar_1\u001b[0m output:   \u001b[32m/home/dmc2245/scratch60/EOHI_thashi/imputed_data/f20019_srt_int_left/200904_UKBB_SRT_int_left_cc_srt_int_left.fastGWA.snp_annotate\u001b[0m\n",
      "INFO: Running \u001b[32mannovar_2\u001b[0m: Get chr, start, end, ref_allele, alt_allele format\n",
      "INFO: Step \u001b[32mannovar_2\u001b[0m (index=0) is \u001b[32mignored\u001b[0m with signature constructed\n",
      "INFO: \u001b[32mannovar_2\u001b[0m output:   \u001b[32m/home/dmc2245/scratch60/EOHI_thashi/imputed_data/f20019_srt_int_left/200904_UKBB_SRT_int_left_cc_srt_int_left.fastGWA.avinput\u001b[0m\n",
      "INFO: Running \u001b[32mannovar_3\u001b[0m: Annotate variants file using ANNOVAR\n",
      "INFO: \u001b[32mannovar_3\u001b[0m is \u001b[32mcompleted\u001b[0m.\n",
      "INFO: \u001b[32mannovar_3\u001b[0m output:   \u001b[32m/home/dmc2245/scratch60/EOHI_thashi/imputed_data/f20019_srt_int_left/200904_UKBB_SRT_int_left_cc_srt_int_left.fastGWA.hg19_multianno.csv\u001b[0m\n",
      "INFO: Workflow annovar (ID=w69abcdf38c6926b9) is executed successfully with 1 completed step and 2 ignored steps.\n",
      "\n"
     ]
    }
   ],
   "source": [
    "UKBB_PATH=/mnt/mfs/statgen/UKBiobank\n",
    "USER_PATH=/home/dmc2245/project\n",
    "cwd=/home/dmc2245/scratch60/EOHI_thashi/imputed_data/f20019_srt_int_left\n",
    "sumstatsFile=$UKBB_PATH/results/FastGWA_results/results_imputed_data/hearing_impairment/f20019_srt_int_left/200904_UKBB_SRT_int_left_cc_srt_int_left.fastGWA.snp_stats.gz\n",
    "build='hg19'\n",
    "rsid=True\n",
    "p_filter=0.005\n",
    "bim_name=$UKBB_PATH/data/bgen_bim_merge/ukb39554_imputed_variants.merged.bim\n",
    "humandb=/mnt/mfs/statgen/isabelle/REF/humandb\n",
    "xref_path=/mnt/mfs/statgen/isabelle/REF/humandb\n",
    "container_annovar=/mnt/mfs/statgen/containers/gatk4-annovar.sif\n",
    "\n",
    "module load Singularity/3.5.3\n",
    "sos run ~/project/UKBB_GWAS_dev/workflow/snptogene.ipynb annovar \\\n",
    "    --cwd $cwd \\\n",
    "    --sumstatsFile $sumstatsFile\\\n",
    "    --bim_name $bim_name \\\n",
    "    --p_filter $p_filter \\\n",
    "    --rsid $rsid \\\n",
    "    --build $build \\\n",
    "    --humandb $humandb\\\n",
    "    --xref_path $xref_path \\\n",
    "    --container_annovar $container_annovar\\\n",
    "    -s build"
   ]
  },
  {
   "cell_type": "markdown",
   "metadata": {
    "kernel": "Bash"
   },
   "source": [
    "## 2. f20021_srt_int_right"
   ]
  },
  {
   "cell_type": "code",
   "execution_count": 3,
   "metadata": {
    "kernel": "Bash"
   },
   "outputs": [
    {
     "name": "stdout",
     "output_type": "stream",
     "text": [
      "INFO: Running \u001b[32mannovar_1\u001b[0m: Get the list of significantly associated SNPs\n",
      "INFO: \u001b[32mannovar_1\u001b[0m is \u001b[32mcompleted\u001b[0m.\n",
      "INFO: \u001b[32mannovar_1\u001b[0m output:   \u001b[32m/home/dmc2245/scratch60/EOHI_thashi/imputed_data/f20021_srt_int_right/200904_UKBB_SRT_int_right_cc_srt_int_right.fastGWA.snp_annotate\u001b[0m\n",
      "INFO: Running \u001b[32mannovar_2\u001b[0m: Get chr, start, end, ref_allele, alt_allele format\n",
      "INFO: \u001b[32mannovar_2\u001b[0m is \u001b[32mcompleted\u001b[0m.\n",
      "INFO: \u001b[32mannovar_2\u001b[0m output:   \u001b[32m/home/dmc2245/scratch60/EOHI_thashi/imputed_data/f20021_srt_int_right/200904_UKBB_SRT_int_right_cc_srt_int_right.fastGWA.avinput\u001b[0m\n",
      "INFO: Running \u001b[32mannovar_3\u001b[0m: Annotate variants file using ANNOVAR\n",
      "INFO: \u001b[32mannovar_3\u001b[0m is \u001b[32mcompleted\u001b[0m.\n",
      "INFO: \u001b[32mannovar_3\u001b[0m output:   \u001b[32m/home/dmc2245/scratch60/EOHI_thashi/imputed_data/f20021_srt_int_right/200904_UKBB_SRT_int_right_cc_srt_int_right.fastGWA.hg19_multianno.csv\u001b[0m\n",
      "INFO: Workflow annovar (ID=w62cf5871ca0d28cf) is executed successfully with 3 completed steps.\n",
      "\n"
     ]
    }
   ],
   "source": [
    "UKBB_PATH=/mnt/mfs/statgen/UKBiobank\n",
    "USER_PATH=/home/dmc2245/project\n",
    "cwd=/home/dmc2245/scratch60/EOHI_thashi/imputed_data/f20021_srt_int_right\n",
    "sumstatsFile=$UKBB_PATH/results/FastGWA_results/results_imputed_data/hearing_impairment/f20021_srt_int_right/200904_UKBB_SRT_int_right_cc_srt_int_right.fastGWA.snp_stats.gz\n",
    "build='hg19'\n",
    "rsid=True\n",
    "p_filter=0.005\n",
    "bim_name=$UKBB_PATH/data/bgen_bim_merge/ukb39554_imputed_variants.merged.bim\n",
    "humandb=/mnt/mfs/statgen/isabelle/REF/humandb\n",
    "xref_path=/mnt/mfs/statgen/isabelle/REF/humandb\n",
    "container_annovar=/mnt/mfs/statgen/containers/gatk4-annovar.sif\n",
    "\n",
    "module load Singularity/3.5.3\n",
    "sos run ~/project/UKBB_GWAS_dev/workflow/snptogene.ipynb annovar \\\n",
    "    --cwd $cwd \\\n",
    "    --sumstatsFile $sumstatsFile\\\n",
    "    --bim_name $bim_name \\\n",
    "    --p_filter $p_filter \\\n",
    "    --rsid $rsid \\\n",
    "    --build $build \\\n",
    "    --humandb $humandb\\\n",
    "    --xref_path $xref_path \\\n",
    "    --container_annovar $container_annovar"
   ]
  },
  {
   "cell_type": "markdown",
   "metadata": {
    "kernel": "Bash"
   },
   "source": [
    "## 3. srt_int_best"
   ]
  },
  {
   "cell_type": "code",
   "execution_count": 4,
   "metadata": {
    "kernel": "Bash"
   },
   "outputs": [
    {
     "name": "stdout",
     "output_type": "stream",
     "text": [
      "INFO: Running \u001b[32mannovar_1\u001b[0m: Get the list of significantly associated SNPs\n",
      "INFO: \u001b[32mannovar_1\u001b[0m is \u001b[32mcompleted\u001b[0m.\n",
      "INFO: \u001b[32mannovar_1\u001b[0m output:   \u001b[32m/home/dmc2245/scratch60/EOHI_thashi/imputed_data/srt_int_best/200904_UKBB_SRT_int_best_cc_srt_int_best.fastGWA.snp_annotate\u001b[0m\n",
      "INFO: Running \u001b[32mannovar_2\u001b[0m: Get chr, start, end, ref_allele, alt_allele format\n",
      "INFO: \u001b[32mannovar_2\u001b[0m is \u001b[32mcompleted\u001b[0m.\n",
      "INFO: \u001b[32mannovar_2\u001b[0m output:   \u001b[32m/home/dmc2245/scratch60/EOHI_thashi/imputed_data/srt_int_best/200904_UKBB_SRT_int_best_cc_srt_int_best.fastGWA.avinput\u001b[0m\n",
      "INFO: Running \u001b[32mannovar_3\u001b[0m: Annotate variants file using ANNOVAR\n",
      "INFO: \u001b[32mannovar_3\u001b[0m is \u001b[32mcompleted\u001b[0m.\n",
      "INFO: \u001b[32mannovar_3\u001b[0m output:   \u001b[32m/home/dmc2245/scratch60/EOHI_thashi/imputed_data/srt_int_best/200904_UKBB_SRT_int_best_cc_srt_int_best.fastGWA.hg19_multianno.csv\u001b[0m\n",
      "INFO: Workflow annovar (ID=wbea1e3849f3fca2d) is executed successfully with 3 completed steps.\n",
      "\n"
     ]
    }
   ],
   "source": [
    "UKBB_PATH=/mnt/mfs/statgen/UKBiobank\n",
    "USER_PATH=/home/dmc2245/project\n",
    "cwd=/home/dmc2245/scratch60/EOHI_thashi/imputed_data/srt_int_best\n",
    "sumstatsFile=$UKBB_PATH/results/FastGWA_results/results_imputed_data/hearing_impairment/srt_int_best/200904_UKBB_SRT_int_best_cc_srt_int_best.fastGWA.snp_stats.gz\n",
    "build='hg19'\n",
    "rsid=True\n",
    "p_filter=0.005\n",
    "bim_name=$UKBB_PATH/data/bgen_bim_merge/ukb39554_imputed_variants.merged.bim\n",
    "humandb=/mnt/mfs/statgen/isabelle/REF/humandb\n",
    "xref_path=/mnt/mfs/statgen/isabelle/REF/humandb\n",
    "container_annovar=/mnt/mfs/statgen/containers/gatk4-annovar.sif\n",
    "\n",
    "module load Singularity/3.5.3\n",
    "sos run ~/project/UKBB_GWAS_dev/workflow/snptogene.ipynb annovar \\\n",
    "    --cwd $cwd \\\n",
    "    --sumstatsFile $sumstatsFile\\\n",
    "    --bim_name $bim_name \\\n",
    "    --p_filter $p_filter \\\n",
    "    --rsid $rsid \\\n",
    "    --build $build \\\n",
    "    --humandb $humandb\\\n",
    "    --xref_path $xref_path \\\n",
    "    --container_annovar $container_annovar"
   ]
  },
  {
   "cell_type": "markdown",
   "metadata": {
    "kernel": "Bash"
   },
   "source": [
    "## 4. srt_int_worst"
   ]
  },
  {
   "cell_type": "code",
   "execution_count": 5,
   "metadata": {
    "kernel": "Bash"
   },
   "outputs": [
    {
     "name": "stdout",
     "output_type": "stream",
     "text": [
      "INFO: Running \u001b[32mannovar_1\u001b[0m: Get the list of significantly associated SNPs\n",
      "INFO: \u001b[32mannovar_1\u001b[0m is \u001b[32mcompleted\u001b[0m.\n",
      "INFO: \u001b[32mannovar_1\u001b[0m output:   \u001b[32m/home/dmc2245/scratch60/EOHI_thashi/imputed_data/srt_int_worst/200904_UKBB_SRT_int_worst_cc_srt_int_worst.fastGWA.snp_annotate\u001b[0m\n",
      "INFO: Running \u001b[32mannovar_2\u001b[0m: Get chr, start, end, ref_allele, alt_allele format\n",
      "INFO: \u001b[32mannovar_2\u001b[0m is \u001b[32mcompleted\u001b[0m.\n",
      "INFO: \u001b[32mannovar_2\u001b[0m output:   \u001b[32m/home/dmc2245/scratch60/EOHI_thashi/imputed_data/srt_int_worst/200904_UKBB_SRT_int_worst_cc_srt_int_worst.fastGWA.avinput\u001b[0m\n",
      "INFO: Running \u001b[32mannovar_3\u001b[0m: Annotate variants file using ANNOVAR\n",
      "INFO: \u001b[32mannovar_3\u001b[0m is \u001b[32mcompleted\u001b[0m.\n",
      "INFO: \u001b[32mannovar_3\u001b[0m output:   \u001b[32m/home/dmc2245/scratch60/EOHI_thashi/imputed_data/srt_int_worst/200904_UKBB_SRT_int_worst_cc_srt_int_worst.fastGWA.hg19_multianno.csv\u001b[0m\n",
      "INFO: Workflow annovar (ID=w5ccac777741734f2) is executed successfully with 3 completed steps.\n",
      "\n"
     ]
    }
   ],
   "source": [
    "UKBB_PATH=/mnt/mfs/statgen/UKBiobank\n",
    "USER_PATH=/home/dmc2245/project\n",
    "cwd=/home/dmc2245/scratch60/EOHI_thashi/imputed_data/srt_int_worst\n",
    "sumstatsFile=$UKBB_PATH/results/FastGWA_results/results_imputed_data/hearing_impairment/srt_int_worst/200904_UKBB_SRT_int_worst_cc_srt_int_worst.fastGWA.snp_stats.gz\n",
    "build='hg19'\n",
    "rsid=True\n",
    "p_filter=0.005\n",
    "bim_name=$UKBB_PATH/data/bgen_bim_merge/ukb39554_imputed_variants.merged.bim\n",
    "humandb=/mnt/mfs/statgen/isabelle/REF/humandb\n",
    "xref_path=/mnt/mfs/statgen/isabelle/REF/humandb\n",
    "container_annovar=/mnt/mfs/statgen/containers/gatk4-annovar.sif\n",
    "\n",
    "module load Singularity/3.5.3\n",
    "sos run ~/project/UKBB_GWAS_dev/workflow/snptogene.ipynb annovar \\\n",
    "    --cwd $cwd \\\n",
    "    --sumstatsFile $sumstatsFile\\\n",
    "    --bim_name $bim_name \\\n",
    "    --p_filter $p_filter \\\n",
    "    --rsid $rsid \\\n",
    "    --build $build \\\n",
    "    --humandb $humandb\\\n",
    "    --xref_path $xref_path \\\n",
    "    --container_annovar $container_annovar"
   ]
  },
  {
   "cell_type": "markdown",
   "metadata": {
    "kernel": "Bash"
   },
   "source": [
    "## 5. srt_cat"
   ]
  },
  {
   "cell_type": "code",
   "execution_count": 6,
   "metadata": {
    "kernel": "Bash"
   },
   "outputs": [
    {
     "name": "stdout",
     "output_type": "stream",
     "text": [
      "INFO: Running \u001b[32mannovar_1\u001b[0m: Get the list of significantly associated SNPs\n",
      "INFO: \u001b[32mannovar_1\u001b[0m is \u001b[32mcompleted\u001b[0m.\n",
      "INFO: \u001b[32mannovar_1\u001b[0m output:   \u001b[32m/home/dmc2245/scratch60/EOHI_thashi/imputed_data/srt_cat/200904_UKBB_SRT_cat_cc_srt_cat.fastGWA.snp_annotate\u001b[0m\n",
      "INFO: Running \u001b[32mannovar_2\u001b[0m: Get chr, start, end, ref_allele, alt_allele format\n",
      "INFO: \u001b[32mannovar_2\u001b[0m is \u001b[32mcompleted\u001b[0m.\n",
      "INFO: \u001b[32mannovar_2\u001b[0m output:   \u001b[32m/home/dmc2245/scratch60/EOHI_thashi/imputed_data/srt_cat/200904_UKBB_SRT_cat_cc_srt_cat.fastGWA.avinput\u001b[0m\n",
      "INFO: Running \u001b[32mannovar_3\u001b[0m: Annotate variants file using ANNOVAR\n",
      "INFO: \u001b[32mannovar_3\u001b[0m is \u001b[32mcompleted\u001b[0m.\n",
      "INFO: \u001b[32mannovar_3\u001b[0m output:   \u001b[32m/home/dmc2245/scratch60/EOHI_thashi/imputed_data/srt_cat/200904_UKBB_SRT_cat_cc_srt_cat.fastGWA.hg19_multianno.csv\u001b[0m\n",
      "INFO: Workflow annovar (ID=w72e33b6e2ea9982a) is executed successfully with 3 completed steps.\n",
      "\n"
     ]
    }
   ],
   "source": [
    "UKBB_PATH=/mnt/mfs/statgen/UKBiobank\n",
    "USER_PATH=/home/dmc2245/project\n",
    "cwd=/home/dmc2245/scratch60/EOHI_thashi/imputed_data/srt_cat\n",
    "sumstatsFile=$UKBB_PATH/results/FastGWA_results/results_imputed_data/hearing_impairment/srt_cat/200904_UKBB_SRT_cat_cc_srt_cat.fastGWA.snp_stats.gz\n",
    "build='hg19'\n",
    "rsid=True\n",
    "p_filter=0.005\n",
    "bim_name=$UKBB_PATH/data/bgen_bim_merge/ukb39554_imputed_variants.merged.bim\n",
    "humandb=/mnt/mfs/statgen/isabelle/REF/humandb\n",
    "xref_path=/mnt/mfs/statgen/isabelle/REF/humandb\n",
    "container_annovar=/mnt/mfs/statgen/containers/gatk4-annovar.sif\n",
    "\n",
    "module load Singularity/3.5.3\n",
    "sos run ~/project/UKBB_GWAS_dev/workflow/snptogene.ipynb annovar \\\n",
    "    --cwd $cwd \\\n",
    "    --sumstatsFile $sumstatsFile\\\n",
    "    --bim_name $bim_name \\\n",
    "    --p_filter $p_filter \\\n",
    "    --rsid $rsid \\\n",
    "    --build $build \\\n",
    "    --humandb $humandb\\\n",
    "    --xref_path $xref_path \\\n",
    "    --container_annovar $container_annovar"
   ]
  },
  {
   "cell_type": "markdown",
   "metadata": {
    "kernel": "Bash"
   },
   "source": [
    "## 6. tinnitus_082720"
   ]
  },
  {
   "cell_type": "code",
   "execution_count": 7,
   "metadata": {
    "kernel": "Bash"
   },
   "outputs": [
    {
     "name": "stdout",
     "output_type": "stream",
     "text": [
      "INFO: Running \u001b[32mannovar_1\u001b[0m: Get the list of significantly associated SNPs\n",
      "INFO: \u001b[32mannovar_1\u001b[0m is \u001b[32mcompleted\u001b[0m.\n",
      "INFO: \u001b[32mannovar_1\u001b[0m output:   \u001b[32m/home/dmc2245/scratch60/EOHI_thashi/imputed_data/tinnitus_p2_082720/200811_UKBB_Tinnitus_plan1_2_3_f4803_tinnitus_p2.fastGWA.snp_annotate\u001b[0m\n",
      "INFO: Running \u001b[32mannovar_2\u001b[0m: Get chr, start, end, ref_allele, alt_allele format\n",
      "INFO: \u001b[32mannovar_2\u001b[0m is \u001b[32mcompleted\u001b[0m.\n",
      "INFO: \u001b[32mannovar_2\u001b[0m output:   \u001b[32m/home/dmc2245/scratch60/EOHI_thashi/imputed_data/tinnitus_p2_082720/200811_UKBB_Tinnitus_plan1_2_3_f4803_tinnitus_p2.fastGWA.avinput\u001b[0m\n",
      "INFO: Running \u001b[32mannovar_3\u001b[0m: Annotate variants file using ANNOVAR\n",
      "INFO: \u001b[32mannovar_3\u001b[0m is \u001b[32mcompleted\u001b[0m.\n",
      "INFO: \u001b[32mannovar_3\u001b[0m output:   \u001b[32m/home/dmc2245/scratch60/EOHI_thashi/imputed_data/tinnitus_p2_082720/200811_UKBB_Tinnitus_plan1_2_3_f4803_tinnitus_p2.fastGWA.hg19_multianno.csv\u001b[0m\n",
      "INFO: Workflow annovar (ID=wc45b5d587d2df036) is executed successfully with 3 completed steps.\n",
      "\n"
     ]
    }
   ],
   "source": [
    "UKBB_PATH=/mnt/mfs/statgen/UKBiobank\n",
    "USER_PATH=/home/dmc2245/project\n",
    "cwd=/home/dmc2245/scratch60/EOHI_thashi/imputed_data/tinnitus_p2_082720\n",
    "sumstatsFile=$UKBB_PATH/results/FastGWA_results/results_imputed_data/hearing_impairment/tinnitus_p2_082720/200811_UKBB_Tinnitus_plan1_2_3_f4803_tinnitus_p2.fastGWA.snp_stats.gz\n",
    "build='hg19'\n",
    "rsid=True\n",
    "p_filter=0.005\n",
    "bim_name=$UKBB_PATH/data/bgen_bim_merge/ukb39554_imputed_variants.merged.bim\n",
    "humandb=/mnt/mfs/statgen/isabelle/REF/humandb\n",
    "xref_path=/mnt/mfs/statgen/isabelle/REF/humandb\n",
    "container_annovar=/mnt/mfs/statgen/containers/gatk4-annovar.sif\n",
    "\n",
    "module load Singularity/3.5.3\n",
    "sos run ~/project/UKBB_GWAS_dev/workflow/snptogene.ipynb annovar \\\n",
    "    --cwd $cwd \\\n",
    "    --sumstatsFile $sumstatsFile\\\n",
    "    --bim_name $bim_name \\\n",
    "    --p_filter $p_filter \\\n",
    "    --rsid $rsid \\\n",
    "    --build $build \\\n",
    "    --humandb $humandb\\\n",
    "    --xref_path $xref_path \\\n",
    "    --container_annovar $container_annovar"
   ]
  },
  {
   "cell_type": "markdown",
   "metadata": {
    "kernel": "Bash"
   },
   "source": [
    "## 7. tinnitus_p3_082720"
   ]
  },
  {
   "cell_type": "code",
   "execution_count": null,
   "metadata": {
    "kernel": "Bash"
   },
   "outputs": [],
   "source": [
    "UKBB_PATH=/mnt/mfs/statgen/UKBiobank\n",
    "USER_PATH=/home/dmc2245/project\n",
    "cwd=/home/dmc2245/scratch60/EOHI_thashi/imputed_data/tinnitus_p3_082720\n",
    "sumstatsFile=$UKBB_PATH/results/FastGWA_results/results_imputed_data/hearing_impairment/tinnitus_p3_082720/200811_UKBB_Tinnitus_plan1_2_3_f4803_tinnitus_p3.fastGWA.snp_stats.gz\n",
    "build='hg19'\n",
    "rsid=True\n",
    "p_filter=0.005\n",
    "bim_name=$UKBB_PATH/data/bgen_bim_merge/ukb39554_imputed_variants.merged.bim\n",
    "humandb=/mnt/mfs/statgen/isabelle/REF/humandb\n",
    "xref_path=/mnt/mfs/statgen/isabelle/REF/humandb\n",
    "container_annovar=/mnt/mfs/statgen/containers/gatk4-annovar.sif\n",
    "\n",
    "module load Singularity/3.5.3\n",
    "sos run ~/project/UKBB_GWAS_dev/workflow/snptogene.ipynb annovar \\\n",
    "    --cwd $cwd \\\n",
    "    --sumstatsFile $sumstatsFile\\\n",
    "    --bim_name $bim_name \\\n",
    "    --p_filter $p_filter \\\n",
    "    --rsid $rsid \\\n",
    "    --build $build \\\n",
    "    --humandb $humandb\\\n",
    "    --xref_path $xref_path \\\n",
    "    --container_annovar $container_annovar"
   ]
  },
  {
   "cell_type": "code",
   "execution_count": 1,
   "metadata": {
    "kernel": "R"
   },
   "outputs": [
    {
     "name": "stderr",
     "output_type": "stream",
     "text": [
      "\n",
      "Attaching package: ‘dplyr’\n",
      "\n",
      "\n",
      "The following objects are masked from ‘package:stats’:\n",
      "\n",
      "    filter, lag\n",
      "\n",
      "\n",
      "The following objects are masked from ‘package:base’:\n",
      "\n",
      "    intersect, setdiff, setequal, union\n",
      "\n",
      "\n"
     ]
    }
   ],
   "source": [
    "library('dplyr')\n",
    "setwd('/gpfs/gibbs/pi/dewan/data/UKBiobank/results/FastGWA_results/results_imputed_data/hearing_impairment/f20019_srt_int_left/')\n",
    "# Import the sumstats file as dataframe\n",
    "data <- read.table(gzfile('200904_UKBB_SRT_int_left_cc_srt_int_left.EOHI.gz'), sep='\\t', header=T)"
   ]
  },
  {
   "cell_type": "code",
   "execution_count": 2,
   "metadata": {
    "kernel": "R"
   },
   "outputs": [
    {
     "data": {
      "text/html": [
       "<table>\n",
       "<caption>A data.frame: 6 × 8</caption>\n",
       "<thead>\n",
       "\t<tr><th></th><th scope=col>CHR</th><th scope=col>POS</th><th scope=col>REF</th><th scope=col>ALT</th><th scope=col>SNP</th><th scope=col>BETA</th><th scope=col>SE</th><th scope=col>P</th></tr>\n",
       "\t<tr><th></th><th scope=col>&lt;int&gt;</th><th scope=col>&lt;int&gt;</th><th scope=col>&lt;fct&gt;</th><th scope=col>&lt;fct&gt;</th><th scope=col>&lt;fct&gt;</th><th scope=col>&lt;dbl&gt;</th><th scope=col>&lt;dbl&gt;</th><th scope=col>&lt;dbl&gt;</th></tr>\n",
       "</thead>\n",
       "<tbody>\n",
       "\t<tr><th scope=row>1</th><td>2</td><td>113982699</td><td>G</td><td>A</td><td>rs568012144</td><td> 0.0990690</td><td>0.0467875</td><td>0.0342238</td></tr>\n",
       "\t<tr><th scope=row>2</th><td>2</td><td>113994450</td><td>T</td><td>C</td><td>rs557926582</td><td>-0.0900989</td><td>0.0421680</td><td>0.0326254</td></tr>\n",
       "\t<tr><th scope=row>3</th><td>2</td><td>114010048</td><td>T</td><td>C</td><td>rs11886592 </td><td>-0.0255934</td><td>0.0122880</td><td>0.0372693</td></tr>\n",
       "\t<tr><th scope=row>4</th><td>2</td><td>114012047</td><td>C</td><td>G</td><td>rs73955185 </td><td>-0.0259768</td><td>0.0122771</td><td>0.0343546</td></tr>\n",
       "\t<tr><th scope=row>5</th><td>2</td><td>114012239</td><td>C</td><td>T</td><td>rs147241854</td><td>-0.0706980</td><td>0.0353587</td><td>0.0455595</td></tr>\n",
       "\t<tr><th scope=row>6</th><td>2</td><td>114013269</td><td>C</td><td>G</td><td>rs73955186 </td><td>-0.0256193</td><td>0.0122831</td><td>0.0370023</td></tr>\n",
       "</tbody>\n",
       "</table>\n"
      ],
      "text/latex": [
       "A data.frame: 6 × 8\n",
       "\\begin{tabular}{r|llllllll}\n",
       "  & CHR & POS & REF & ALT & SNP & BETA & SE & P\\\\\n",
       "  & <int> & <int> & <fct> & <fct> & <fct> & <dbl> & <dbl> & <dbl>\\\\\n",
       "\\hline\n",
       "\t1 & 2 & 113982699 & G & A & rs568012144 &  0.0990690 & 0.0467875 & 0.0342238\\\\\n",
       "\t2 & 2 & 113994450 & T & C & rs557926582 & -0.0900989 & 0.0421680 & 0.0326254\\\\\n",
       "\t3 & 2 & 114010048 & T & C & rs11886592  & -0.0255934 & 0.0122880 & 0.0372693\\\\\n",
       "\t4 & 2 & 114012047 & C & G & rs73955185  & -0.0259768 & 0.0122771 & 0.0343546\\\\\n",
       "\t5 & 2 & 114012239 & C & T & rs147241854 & -0.0706980 & 0.0353587 & 0.0455595\\\\\n",
       "\t6 & 2 & 114013269 & C & G & rs73955186  & -0.0256193 & 0.0122831 & 0.0370023\\\\\n",
       "\\end{tabular}\n"
      ],
      "text/markdown": [
       "\n",
       "A data.frame: 6 × 8\n",
       "\n",
       "| <!--/--> | CHR &lt;int&gt; | POS &lt;int&gt; | REF &lt;fct&gt; | ALT &lt;fct&gt; | SNP &lt;fct&gt; | BETA &lt;dbl&gt; | SE &lt;dbl&gt; | P &lt;dbl&gt; |\n",
       "|---|---|---|---|---|---|---|---|---|\n",
       "| 1 | 2 | 113982699 | G | A | rs568012144 |  0.0990690 | 0.0467875 | 0.0342238 |\n",
       "| 2 | 2 | 113994450 | T | C | rs557926582 | -0.0900989 | 0.0421680 | 0.0326254 |\n",
       "| 3 | 2 | 114010048 | T | C | rs11886592  | -0.0255934 | 0.0122880 | 0.0372693 |\n",
       "| 4 | 2 | 114012047 | C | G | rs73955185  | -0.0259768 | 0.0122771 | 0.0343546 |\n",
       "| 5 | 2 | 114012239 | C | T | rs147241854 | -0.0706980 | 0.0353587 | 0.0455595 |\n",
       "| 6 | 2 | 114013269 | C | G | rs73955186  | -0.0256193 | 0.0122831 | 0.0370023 |\n",
       "\n"
      ],
      "text/plain": [
       "  CHR POS       REF ALT SNP         BETA       SE        P        \n",
       "1 2   113982699 G   A   rs568012144  0.0990690 0.0467875 0.0342238\n",
       "2 2   113994450 T   C   rs557926582 -0.0900989 0.0421680 0.0326254\n",
       "3 2   114010048 T   C   rs11886592  -0.0255934 0.0122880 0.0372693\n",
       "4 2   114012047 C   G   rs73955185  -0.0259768 0.0122771 0.0343546\n",
       "5 2   114012239 C   T   rs147241854 -0.0706980 0.0353587 0.0455595\n",
       "6 2   114013269 C   G   rs73955186  -0.0256193 0.0122831 0.0370023"
      ]
     },
     "metadata": {},
     "output_type": "display_data"
    }
   ],
   "source": [
    "head(data)"
   ]
  },
  {
   "cell_type": "code",
   "execution_count": 5,
   "metadata": {
    "kernel": "R"
   },
   "outputs": [],
   "source": [
    "# Filter SNPs with p-val <5e-08\n",
    "# Subset data to obtain only chr, pos, snp, beta,se and p for gene mapping\n",
    "sig.p <- data %>%\n",
    "    filter(P < 0.005) %>%\n",
    "    select(CHR, POS, REF, ALT,BETA,SE,P)\n",
    "    "
   ]
  },
  {
   "cell_type": "code",
   "execution_count": 6,
   "metadata": {
    "kernel": "R"
   },
   "outputs": [
    {
     "data": {
      "text/html": [
       "<table>\n",
       "<caption>A data.frame: 6 × 7</caption>\n",
       "<thead>\n",
       "\t<tr><th></th><th scope=col>CHR</th><th scope=col>POS</th><th scope=col>REF</th><th scope=col>ALT</th><th scope=col>BETA</th><th scope=col>SE</th><th scope=col>P</th></tr>\n",
       "\t<tr><th></th><th scope=col>&lt;int&gt;</th><th scope=col>&lt;int&gt;</th><th scope=col>&lt;fct&gt;</th><th scope=col>&lt;fct&gt;</th><th scope=col>&lt;dbl&gt;</th><th scope=col>&lt;dbl&gt;</th><th scope=col>&lt;dbl&gt;</th></tr>\n",
       "</thead>\n",
       "<tbody>\n",
       "\t<tr><th scope=row>1</th><td>2</td><td>179872951</td><td>A</td><td>T</td><td> 0.0817565</td><td>0.0200551</td><td>4.56983e-05</td></tr>\n",
       "\t<tr><th scope=row>2</th><td>4</td><td>142990767</td><td>G</td><td>A</td><td> 0.0428550</td><td>0.0152238</td><td>4.87778e-03</td></tr>\n",
       "\t<tr><th scope=row>3</th><td>4</td><td>143028337</td><td>A</td><td>G</td><td> 0.0465522</td><td>0.0150079</td><td>1.92319e-03</td></tr>\n",
       "\t<tr><th scope=row>4</th><td>4</td><td>143047063</td><td>G</td><td>A</td><td> 0.0472084</td><td>0.0150545</td><td>1.71360e-03</td></tr>\n",
       "\t<tr><th scope=row>5</th><td>4</td><td>143184193</td><td>T</td><td>C</td><td>-0.1537170</td><td>0.0531503</td><td>3.82663e-03</td></tr>\n",
       "\t<tr><th scope=row>6</th><td>4</td><td>143238014</td><td>C</td><td>A</td><td>-0.1337510</td><td>0.0467520</td><td>4.22484e-03</td></tr>\n",
       "</tbody>\n",
       "</table>\n"
      ],
      "text/latex": [
       "A data.frame: 6 × 7\n",
       "\\begin{tabular}{r|lllllll}\n",
       "  & CHR & POS & REF & ALT & BETA & SE & P\\\\\n",
       "  & <int> & <int> & <fct> & <fct> & <dbl> & <dbl> & <dbl>\\\\\n",
       "\\hline\n",
       "\t1 & 2 & 179872951 & A & T &  0.0817565 & 0.0200551 & 4.56983e-05\\\\\n",
       "\t2 & 4 & 142990767 & G & A &  0.0428550 & 0.0152238 & 4.87778e-03\\\\\n",
       "\t3 & 4 & 143028337 & A & G &  0.0465522 & 0.0150079 & 1.92319e-03\\\\\n",
       "\t4 & 4 & 143047063 & G & A &  0.0472084 & 0.0150545 & 1.71360e-03\\\\\n",
       "\t5 & 4 & 143184193 & T & C & -0.1537170 & 0.0531503 & 3.82663e-03\\\\\n",
       "\t6 & 4 & 143238014 & C & A & -0.1337510 & 0.0467520 & 4.22484e-03\\\\\n",
       "\\end{tabular}\n"
      ],
      "text/markdown": [
       "\n",
       "A data.frame: 6 × 7\n",
       "\n",
       "| <!--/--> | CHR &lt;int&gt; | POS &lt;int&gt; | REF &lt;fct&gt; | ALT &lt;fct&gt; | BETA &lt;dbl&gt; | SE &lt;dbl&gt; | P &lt;dbl&gt; |\n",
       "|---|---|---|---|---|---|---|---|\n",
       "| 1 | 2 | 179872951 | A | T |  0.0817565 | 0.0200551 | 4.56983e-05 |\n",
       "| 2 | 4 | 142990767 | G | A |  0.0428550 | 0.0152238 | 4.87778e-03 |\n",
       "| 3 | 4 | 143028337 | A | G |  0.0465522 | 0.0150079 | 1.92319e-03 |\n",
       "| 4 | 4 | 143047063 | G | A |  0.0472084 | 0.0150545 | 1.71360e-03 |\n",
       "| 5 | 4 | 143184193 | T | C | -0.1537170 | 0.0531503 | 3.82663e-03 |\n",
       "| 6 | 4 | 143238014 | C | A | -0.1337510 | 0.0467520 | 4.22484e-03 |\n",
       "\n"
      ],
      "text/plain": [
       "  CHR POS       REF ALT BETA       SE        P          \n",
       "1 2   179872951 A   T    0.0817565 0.0200551 4.56983e-05\n",
       "2 4   142990767 G   A    0.0428550 0.0152238 4.87778e-03\n",
       "3 4   143028337 A   G    0.0465522 0.0150079 1.92319e-03\n",
       "4 4   143047063 G   A    0.0472084 0.0150545 1.71360e-03\n",
       "5 4   143184193 T   C   -0.1537170 0.0531503 3.82663e-03\n",
       "6 4   143238014 C   A   -0.1337510 0.0467520 4.22484e-03"
      ]
     },
     "metadata": {},
     "output_type": "display_data"
    }
   ],
   "source": [
    "head(sig.p)"
   ]
  },
  {
   "cell_type": "code",
   "execution_count": 7,
   "metadata": {
    "kernel": "R"
   },
   "outputs": [],
   "source": [
    "sig.p$SNP <- paste(sig.p$CHR, sig.p$POS, sig.p$REF, sig.p$ALT, sep=\":\")"
   ]
  },
  {
   "cell_type": "code",
   "execution_count": 8,
   "metadata": {
    "kernel": "R"
   },
   "outputs": [
    {
     "data": {
      "text/html": [
       "<table>\n",
       "<caption>A data.frame: 6 × 8</caption>\n",
       "<thead>\n",
       "\t<tr><th></th><th scope=col>CHR</th><th scope=col>POS</th><th scope=col>REF</th><th scope=col>ALT</th><th scope=col>BETA</th><th scope=col>SE</th><th scope=col>P</th><th scope=col>SNP</th></tr>\n",
       "\t<tr><th></th><th scope=col>&lt;int&gt;</th><th scope=col>&lt;int&gt;</th><th scope=col>&lt;fct&gt;</th><th scope=col>&lt;fct&gt;</th><th scope=col>&lt;dbl&gt;</th><th scope=col>&lt;dbl&gt;</th><th scope=col>&lt;dbl&gt;</th><th scope=col>&lt;chr&gt;</th></tr>\n",
       "</thead>\n",
       "<tbody>\n",
       "\t<tr><th scope=row>1</th><td>2</td><td>179872951</td><td>A</td><td>T</td><td> 0.0817565</td><td>0.0200551</td><td>4.56983e-05</td><td>2:179872951:A:T</td></tr>\n",
       "\t<tr><th scope=row>2</th><td>4</td><td>142990767</td><td>G</td><td>A</td><td> 0.0428550</td><td>0.0152238</td><td>4.87778e-03</td><td>4:142990767:G:A</td></tr>\n",
       "\t<tr><th scope=row>3</th><td>4</td><td>143028337</td><td>A</td><td>G</td><td> 0.0465522</td><td>0.0150079</td><td>1.92319e-03</td><td>4:143028337:A:G</td></tr>\n",
       "\t<tr><th scope=row>4</th><td>4</td><td>143047063</td><td>G</td><td>A</td><td> 0.0472084</td><td>0.0150545</td><td>1.71360e-03</td><td>4:143047063:G:A</td></tr>\n",
       "\t<tr><th scope=row>5</th><td>4</td><td>143184193</td><td>T</td><td>C</td><td>-0.1537170</td><td>0.0531503</td><td>3.82663e-03</td><td>4:143184193:T:C</td></tr>\n",
       "\t<tr><th scope=row>6</th><td>4</td><td>143238014</td><td>C</td><td>A</td><td>-0.1337510</td><td>0.0467520</td><td>4.22484e-03</td><td>4:143238014:C:A</td></tr>\n",
       "</tbody>\n",
       "</table>\n"
      ],
      "text/latex": [
       "A data.frame: 6 × 8\n",
       "\\begin{tabular}{r|llllllll}\n",
       "  & CHR & POS & REF & ALT & BETA & SE & P & SNP\\\\\n",
       "  & <int> & <int> & <fct> & <fct> & <dbl> & <dbl> & <dbl> & <chr>\\\\\n",
       "\\hline\n",
       "\t1 & 2 & 179872951 & A & T &  0.0817565 & 0.0200551 & 4.56983e-05 & 2:179872951:A:T\\\\\n",
       "\t2 & 4 & 142990767 & G & A &  0.0428550 & 0.0152238 & 4.87778e-03 & 4:142990767:G:A\\\\\n",
       "\t3 & 4 & 143028337 & A & G &  0.0465522 & 0.0150079 & 1.92319e-03 & 4:143028337:A:G\\\\\n",
       "\t4 & 4 & 143047063 & G & A &  0.0472084 & 0.0150545 & 1.71360e-03 & 4:143047063:G:A\\\\\n",
       "\t5 & 4 & 143184193 & T & C & -0.1537170 & 0.0531503 & 3.82663e-03 & 4:143184193:T:C\\\\\n",
       "\t6 & 4 & 143238014 & C & A & -0.1337510 & 0.0467520 & 4.22484e-03 & 4:143238014:C:A\\\\\n",
       "\\end{tabular}\n"
      ],
      "text/markdown": [
       "\n",
       "A data.frame: 6 × 8\n",
       "\n",
       "| <!--/--> | CHR &lt;int&gt; | POS &lt;int&gt; | REF &lt;fct&gt; | ALT &lt;fct&gt; | BETA &lt;dbl&gt; | SE &lt;dbl&gt; | P &lt;dbl&gt; | SNP &lt;chr&gt; |\n",
       "|---|---|---|---|---|---|---|---|---|\n",
       "| 1 | 2 | 179872951 | A | T |  0.0817565 | 0.0200551 | 4.56983e-05 | 2:179872951:A:T |\n",
       "| 2 | 4 | 142990767 | G | A |  0.0428550 | 0.0152238 | 4.87778e-03 | 4:142990767:G:A |\n",
       "| 3 | 4 | 143028337 | A | G |  0.0465522 | 0.0150079 | 1.92319e-03 | 4:143028337:A:G |\n",
       "| 4 | 4 | 143047063 | G | A |  0.0472084 | 0.0150545 | 1.71360e-03 | 4:143047063:G:A |\n",
       "| 5 | 4 | 143184193 | T | C | -0.1537170 | 0.0531503 | 3.82663e-03 | 4:143184193:T:C |\n",
       "| 6 | 4 | 143238014 | C | A | -0.1337510 | 0.0467520 | 4.22484e-03 | 4:143238014:C:A |\n",
       "\n"
      ],
      "text/plain": [
       "  CHR POS       REF ALT BETA       SE        P           SNP            \n",
       "1 2   179872951 A   T    0.0817565 0.0200551 4.56983e-05 2:179872951:A:T\n",
       "2 4   142990767 G   A    0.0428550 0.0152238 4.87778e-03 4:142990767:G:A\n",
       "3 4   143028337 A   G    0.0465522 0.0150079 1.92319e-03 4:143028337:A:G\n",
       "4 4   143047063 G   A    0.0472084 0.0150545 1.71360e-03 4:143047063:G:A\n",
       "5 4   143184193 T   C   -0.1537170 0.0531503 3.82663e-03 4:143184193:T:C\n",
       "6 4   143238014 C   A   -0.1337510 0.0467520 4.22484e-03 4:143238014:C:A"
      ]
     },
     "metadata": {},
     "output_type": "display_data"
    }
   ],
   "source": [
    "head(sig.p)"
   ]
  },
  {
   "cell_type": "code",
   "execution_count": 10,
   "metadata": {
    "kernel": "R"
   },
   "outputs": [],
   "source": [
    "write.table(sig.p, '${_output}', sep = \" \", quote=FALSE, row.names=FALSE, col.names=FALSE) "
   ]
  },
  {
   "cell_type": "code",
   "execution_count": 15,
   "metadata": {
    "kernel": "R"
   },
   "outputs": [],
   "source": [
    "library('dplyr')\n",
    "setwd('~/')\n",
    "# Import the sumstats file as dataframe\n",
    "data <- read.table('out.test', sep='\\t', header=T)"
   ]
  },
  {
   "cell_type": "code",
   "execution_count": 11,
   "metadata": {
    "kernel": "Bash"
   },
   "outputs": [
    {
     "name": "stdout",
     "output_type": "stream",
     "text": [
      "# bgenix: started 2021-07-15 16:10:09\n",
      "alternate_ids\trsid\tchromosome\tposition\tnumber_of_alleles\tfirst_allele\talternative_alleles\n",
      "22:16050075_A_G\trs587697622\t22\t16050075\t2\tA\tG\n",
      "22:16050115_G_A\trs587755077\t22\t16050115\t2\tG\tA\n",
      "22:16050213_C_T\trs587654921\t22\t16050213\t2\tC\tT\n",
      "22:16050319_C_T\trs587712275\t22\t16050319\t2\tC\tT\n",
      "22:16050435_T_C\t22:16050435_T_C\t22\t16050435\t2\tT\tC\n",
      "22:16050527_C_A\trs587769434\t22\t16050527\t2\tC\tA\n",
      "22:16050568_C_A\trs587638893\t22\t16050568\t2\tC\tA\n",
      "22:16050607_G_A\trs587720402\t22\t16050607\t2\tG\tA\n",
      "cat: write error: Broken pipe\n",
      "\n"
     ]
    }
   ],
   "source": [
    "cat ~/out.test | head"
   ]
  },
  {
   "cell_type": "code",
   "execution_count": 1,
   "metadata": {
    "kernel": "Bash"
   },
   "outputs": [
    {
     "name": "stdout",
     "output_type": "stream",
     "text": [
      "1 58468867 58468867 T C\n",
      "1 58468874 58468874 T C\n",
      "1 58468970 58468970 G T\n",
      "1 58506159 58506159 G A\n",
      "1 58506268 58506268 C A\n",
      "1 58539307 58539307 C T\n",
      "5 272741 272741 A G\n",
      "5 272748 272748 G C\n",
      "5 272755 272755 A G\n",
      "5 73773756 73773756 A G\n",
      "5 73776529 73776529 T C\n",
      "5 73780632 73780632 G A\n",
      "5 73780649 73780650 GT G\n",
      "5 73780686 73780686 C A\n",
      "5 73794340 73794340 A AGTT\n",
      "5 73794436 73794436 T C\n",
      "5 73795301 73795301 T A\n",
      "5 73795403 73795403 C T\n",
      "6 43301291 43301291 A C\n",
      "6 43302413 43302413 C T\n",
      "6 43305866 43305866 A G\n",
      "6 43308652 43308652 G A\n",
      "6 75841299 75841299 A G\n",
      "6 158071628 158071628 C T\n",
      "8 86556416 86556416 T G\n",
      "8 86558437 86558437 A C\n",
      "8 86558500 86558500 C T\n",
      "22 38086345 38086387 GTGCGGGAGCGGGACTGGCCATCCCAGTACTCCGAGGGTGCTA G\n",
      "22 50549676 50549676 G A\n",
      "\n"
     ]
    }
   ],
   "source": [
    "cd /home/dc2325/scratch60/output/\n",
    "awk 'NR==FNR{seen[$0]=1; next} seen[$0]' 010421_UKBB_f2247_f2257_136862ind_exomes_f2247_f2257.regenie.avinput 010421_UKBB_Hearing_difficulty_f2247_171970ind_exomes_hearing_diff_new.regenie.avinput"
   ]
  },
  {
   "cell_type": "code",
   "execution_count": 2,
   "metadata": {
    "kernel": "Bash"
   },
   "outputs": [
    {
     "name": "stdout",
     "output_type": "stream",
     "text": [
      "5 272741 272741 A G\n",
      "5 272748 272748 G C\n",
      "5 272755 272755 A G\n",
      "6 43301291 43301291 A C\n",
      "6 43305866 43305866 A G\n",
      "6 43308652 43308652 G A\n",
      "6 75841299 75841299 A G\n",
      "\n"
     ]
    }
   ],
   "source": [
    "awk 'NR==FNR{seen[$0]=1; next} seen[$0]' 010421_UKBB_Hearing_difficulty_f2247_171970ind_exomes_hearing_diff_new.regenie.avinput 010421_UKBB_Hearing_background_noise_f2257_175531ind_exomes_hearing_noise_cat.regenie.avinput"
   ]
  },
  {
   "cell_type": "code",
   "execution_count": 4,
   "metadata": {
    "kernel": "Bash"
   },
   "outputs": [
    {
     "name": "stdout",
     "output_type": "stream",
     "text": [
      "5 272741 272741 A G\n",
      "5 272748 272748 G C\n",
      "5 272755 272755 A G\n",
      "6 43301291 43301291 A C\n",
      "6 43305866 43305866 A G\n",
      "6 43308652 43308652 G A\n",
      "6 75841299 75841299 A G\n",
      "\n"
     ]
    }
   ],
   "source": [
    "awk 'NR==FNR{seen[$0]=1; next} seen[$0]' 010421_UKBB_Hearing_background_noise_f2257_175531ind_exomes_hearing_noise_cat.regenie.avinput 010421_UKBB_Hearing_difficulty_f2247_171970ind_exomes_hearing_diff_new.regenie.avinput "
   ]
  },
  {
   "cell_type": "code",
   "execution_count": 5,
   "metadata": {
    "kernel": "Bash"
   },
   "outputs": [
    {
     "name": "stdout",
     "output_type": "stream",
     "text": [
      "1 58468867 58468867 T C\n",
      "1 58468874 58468874 T C\n",
      "1 58468970 58468970 G T\n",
      "1 58539307 58539307 C T\n",
      "6 75841299 75841299 A G\n",
      "8 86556416 86556416 T G\n",
      "8 86558437 86558437 A C\n",
      "8 86558500 86558500 C T\n",
      "10 7292138 7292138 G A\n",
      "17 41827392 41827392 A C\n",
      "17 44848191 44848191 C T\n",
      "\n"
     ]
    }
   ],
   "source": [
    "awk 'NR==FNR{seen[$0]=1; next} seen[$0]' 010421_UKBB_Hearing_difficulty_f2247_171970ind_exomes_hearing_diff_new.regenie.avinput 010421_UKBB_Hearing_aid_f3393_128254ind_exomes_hearing_aid_cat.regenie.avinput"
   ]
  },
  {
   "cell_type": "code",
   "execution_count": 6,
   "metadata": {
    "kernel": "Bash"
   },
   "outputs": [
    {
     "name": "stdout",
     "output_type": "stream",
     "text": [
      "1 58468867 58468867 T C\n",
      "1 58468874 58468874 T C\n",
      "1 58468970 58468970 G T\n",
      "1 58539307 58539307 C T\n",
      "6 75362956 75362956 T C\n",
      "6 75841299 75841299 A G\n",
      "8 86556416 86556416 T G\n",
      "8 86558437 86558437 A C\n",
      "8 86558500 86558500 C T\n",
      "\n"
     ]
    }
   ],
   "source": [
    "awk 'NR==FNR{seen[$0]=1; next} seen[$0]' 010421_UKBB_f2247_f2257_136862ind_exomes_f2247_f2257.regenie.avinput 010421_UKBB_Hearing_aid_f3393_128254ind_exomes_hearing_aid_cat.regenie.avinput"
   ]
  },
  {
   "cell_type": "code",
   "execution_count": 8,
   "metadata": {
    "kernel": "Bash"
   },
   "outputs": [
    {
     "name": "stdout",
     "output_type": "stream",
     "text": [
      "1\t58468867\tT\tC\t1:58468867:T:C\t-0.168986\t0.021412099999999996\t7.055048440506522e-16\n",
      "1\t58468874\tT\tC\t1:58468874:T:C\t-0.168015\t0.0213657\t9.11381062129295e-16\n",
      "1\t58468970\tG\tT\t1:58468970:G:T\t-0.14103\t0.0156138\t6.13903345360935e-20\n",
      "1\t58539307\tC\tT\t1:58539307:C:T\t-0.13430799999999998\t0.0143388\t3.3853221281535305e-21\n",
      "2\t168834219\tT\tC\t2:168834219:T:C\t-0.130908\t0.021813\t1.029437536659268e-09\n",
      "6\t75362956\tT\tC\t6:75362956:T:C\t2.48143\t0.369753\t8.570575794832358e-09\n",
      "6\t75841299\tA\tG\t6:75841299:A:G\t2.9806\t0.407723\t1.2227847112296838e-10\n",
      "8\t86556416\tT\tG\t8:86556416:T:G\t-0.115771\t0.017346200000000003\t1.4047531026968791e-11\n",
      "8\t86558437\tA\tC\t8:86558437:A:C\t-0.114282\t0.0193435\t2.110425374828825e-09\n",
      "8\t86558500\tC\tT\t8:86558500:C:T\t-0.116954\t0.019379\t9.270219126904037e-10\n",
      "10\t7243670\tA\tG\t10:7243670:A:G\t-0.0980153\t0.0159944\t1.0312880846394044e-09\n",
      "10\t7276841\tT\tC\t10:7276841:T:C\t-0.133236\t0.0219836\t7.090877782620701e-10\n",
      "10\t7277326\tC\tA\t10:7277326:C:A\t-0.143172\t0.0223905\t7.409689339136985e-11\n",
      "10\t7292138\tG\tA\t10:7292138:G:A\t-0.11094100000000001\t0.0157167\t1.0779534330711129e-12\n",
      "17\t41827392\tA\tC\t17:41827392:A:C\t-0.14261600000000002\t0.0174949\t1.2563192085812206e-16\n",
      "17\t41827556\tG\tC\t17:41827556:G:C\t-0.14255299999999999\t0.0175112\t1.3893126817367537e-16\n",
      "17\t41827568\tG\tA\t17:41827568:G:A\t-0.142571\t0.0175149\t1.3816562311673272e-16\n",
      "17\t41827597\tG\tC\t17:41827597:G:C\t-0.136147\t0.0175178\t3.042986320313067e-15\n",
      "17\t44848191\tC\tT\t17:44848191:C:T\t-0.14491600000000002\t0.0193761\t2.745364414223407e-14\n",
      "\n"
     ]
    }
   ],
   "source": [
    "zcat /gpfs/gibbs/pi/dewan/data/UKBiobank/results/REGENIE_results/results_exome_data/f3393_hearing_aid_exomes/010421_UKBB_Hearing_aid_f3393_128254ind_exomes_hearing_aid_cat.regenie.snp_stats.gz | grep -w -f /home/dc2325/scratch60/output/010421_UKBB_Hearing_aid_f3393_128254ind_exomes_hearing_aid_cat.regenie.snp_annotate"
   ]
  },
  {
   "cell_type": "markdown",
   "metadata": {
    "kernel": "Bash"
   },
   "source": [
    "### BETA, SE and P in f.3393 when using the original bfile from UKBB"
   ]
  },
  {
   "cell_type": "code",
   "execution_count": 6,
   "metadata": {
    "kernel": "Bash"
   },
   "outputs": [
    {
     "name": "stdout",
     "output_type": "stream",
     "text": [
      "1\t33010786\tC\tT\t1:33010786:C:T\t0.170924\t0.0296248\t8.597060836427362e-09\n",
      "1\t58468867\tT\tC\t1:58468867:T:C\t-0.227117\t0.0216753\t3.813291452767764e-27\n",
      "1\t58468874\tT\tC\t1:58468874:T:C\t-0.225999\t0.0216299\t5.560322736938666e-27\n",
      "1\t58468970\tG\tT\t1:58468970:G:T\t-0.193106\t0.0157452\t1.1279763655881595e-35\n",
      "1\t58506159\tG\tA\t1:58506159:G:A\t-0.203908\t0.0312325\t1.7943204217168444e-11\n",
      "1\t58506268\tC\tA\t1:58506268:C:A\t-0.201774\t0.0313195\t3.312073760197969e-11\n",
      "1\t58530531\tT\tC\t1:58530531:T:C\t-0.271127\t0.0423279\t2.6927745869589524e-11\n",
      "1\t58539307\tC\tT\t1:58539307:C:T\t-0.18493\t0.0144342\t1.8264172487743598e-38\n",
      "2\t168824768\tT\tTTTTGTTTGTTTG\t2:168824768:I:12\t-0.247936\t0.0319456\t3.9012160295267637e-16\n",
      "2\t168824768\tT\tTTTTGTTTG\t2:168824768:I:8\t-0.194196\t0.0343111\t4.233016876945092e-09\n",
      "2\t168834219\tT\tC\t2:168834219:T:C\t-0.224051\t0.0220935\t1.669552191554301e-25\n",
      "2\t168850752\tAAATTCTCTGG\tA\t2:168850752:D:10\t-0.193516\t0.0290039\t7.289537928556997e-12\n",
      "4\t15985886\tT\tTTTAAG\t4:15985886:I:5\t0.111099\t0.0160466\t2.556819088689687e-12\n",
      "6\t75362956\tT\tC\t6:75362956:T:C\t2.53397\t0.367892\t4.6820926140513476e-09\n",
      "6\t75841299\tA\tG\t6:75841299:A:G\t2.96185\t0.404642\t1.403104443499414e-10\n",
      "6\t100858107\tA\tT\t6:100858107:A:T\t0.108828\t0.0158918\t6.441692655151762e-12\n",
      "6\t160611820\tT\tC\t6:160611820:T:C\t0.103664\t0.0182855\t1.579246779767236e-08\n",
      "7\t100952295\tT\tG\t7:100952295:T:G\t-0.274718\t0.0421723\t2.668701501643405e-11\n",
      "7\t100952544\tC\tA\t7:100952544:C:A\t0.276973\t0.0348951\t6.287818541180471e-16\n",
      "7\t100952563\tT\tA\t7:100952563:T:A\t0.25011\t0.0342381\t6.672675421386384e-13\n",
      "7\t100952565\tA\tC\t7:100952565:A:C\t0.22871\t0.0379104\t3.216473665382023e-09\n",
      "8\t86556416\tT\tG\t8:86556416:T:G\t-0.195169\t0.0175481\t7.017784049149889e-30\n",
      "8\t86558437\tA\tC\t8:86558437:A:C\t-0.194099\t0.0196106\t4.24521802934084e-24\n",
      "8\t86558500\tC\tT\t8:86558500:C:T\t-0.197325\t0.0196567\t8.804404761646777e-25\n",
      "10\t7219707\tGA\tG\t10:7219707:D:1\t-0.149306\t0.0199651\t4.001289735406987e-14\n",
      "10\t7219715\tA\tC\t10:7219715:A:C\t-0.114053\t0.0182454\t3.015990713715393e-10\n",
      "10\t7219846\tT\tC\t10:7219846:T:C\t-0.186183\t0.0222684\t1.4102626369487537e-17\n",
      "10\t7243670\tA\tG\t10:7243670:A:G\t-0.162441\t0.0160349\t7.377343409610276e-24\n",
      "10\t7276841\tT\tC\t10:7276841:T:C\t-0.232248\t0.0222722\t7.014552984199714e-27\n",
      "10\t7277326\tC\tA\t10:7277326:C:A\t-0.243601\t0.0226772\t1.6496811044727352e-28\n",
      "10\t7292138\tG\tA\t10:7292138:G:A\t-0.197875\t0.0158336\t6.45208380901972e-37\n",
      "12\t62490210\tC\tCT\t12:62490210:I:1\t0.147954\t0.0261281\t1.9995855975896354e-08\n",
      "12\t132620908\tT\tC\t12:132620908:T:C\t-0.169875\t0.0316249\t3.650648338281561e-08\n",
      "17\t41827392\tA\tC\t17:41827392:A:C\t-0.204372\t0.017668\t3.026913428101317e-32\n",
      "17\t41827556\tG\tC\t17:41827556:G:C\t-0.20417\t0.017685\t4.0485545937074033e-32\n",
      "17\t41827568\tG\tA\t17:41827568:G:A\t-0.203823\t0.0176878\t5.115640300070042e-32\n",
      "17\t41827597\tG\tC\t17:41827597:G:C\t-0.196979\t0.0176883\t5.4225054851724445e-30\n",
      "17\t44848191\tC\tT\t17:44848191:C:T\t-0.203519\t0.0196039\t2.0921845949503677e-26\n",
      "19\t8914908\tT\tG\t19:8914908:T:G\t-0.255045\t0.0445232\t4.399871571646579e-09\n",
      "19\t54735442\tA\tG\t19:54735442:A:G\t0.130177\t0.0217633\t3.5895499409927644e-09\n",
      "20\t62065249\tTGCCAGG\tT\t20:62065249:D:6\t0.115437\t0.0167047\t3.4009480651219025e-12\n",
      "20\t62065259\tA\tG\t20:62065259:A:G\t-0.121588\t0.0170444\t5.486558320717442e-13\n",
      "\n"
     ]
    }
   ],
   "source": [
    "zcat /gpfs/gibbs/pi/dewan/data/UKBiobank/results/REGENIE_results/results_exome_data/f3393_hearing_aid_exomes_bfile/010421_UKBB_Hearing_aid_f3393_128254ind_exomes_hearing_aid_cat.regenie.snp_stats.gz | grep -w -f /home/dc2325/scratch60/output/bfile_annovar/010421_UKBB_Hearing_aid_f3393_128254ind_exomes_hearing_aid_cat.regenie.snp_annotate"
   ]
  },
  {
   "cell_type": "code",
   "execution_count": 8,
   "metadata": {
    "kernel": "Bash"
   },
   "outputs": [
    {
     "name": "stdout",
     "output_type": "stream",
     "text": [
      "1 33010786 1:33010786:C:T C T 0.231841 ADD 0.170924 0.0296248 33.1352 8.06565\n",
      "1 58468867 1:58468867:T:C T C 0.187718 ADD -0.227117 0.0216753 116.437 26.4187\n",
      "1 58468874 1:58468874:T:C T C 0.18874 ADD -0.225999 0.0216299 115.689 26.2549\n",
      "1 58468970 1:58468970:G:T G T 0.310273 ADD -0.193106 0.0157452 155.43 34.9477\n",
      "1 58506159 1:58506159:G:A G A 0.0980239 ADD -0.203908 0.0312325 45.1833 10.7461\n",
      "1 58506268 1:58506268:C:A C A 0.096814 ADD -0.201774 0.0313195 43.9831 10.4799\n",
      "1 58530531 1:58530531:T:C T C 0.0579461 ADD -0.271127 0.0423279 44.3884 10.5698\n",
      "1 58539307 1:58539307:C:T C T 0.351209 ADD -0.18493 0.0144342 168.203 37.7384\n",
      "2 168824768 2:168824768:I:12 T TTTTGTTTGTTTG 0.0969155 ADD -0.247936 0.0319456 66.2853 15.4088\n",
      "2 168824768 2:168824768:I:8 T TTTTGTTTG 0.0826374 ADD -0.194196 0.0343111 34.5135 8.37335\n",
      "2 168834219 2:168834219:T:C T C 0.18284 ADD -0.224051 0.0220935 108.944 24.7774\n",
      "2 168850752 2:168850752:D:10 AAATTCTCTGG A 0.116754 ADD -0.193516 0.0290039 46.948 11.1373\n",
      "4 15985886 4:15985886:I:5 T TTTAAG 0.70181 ADD 0.111099 0.0160466 49.0021 11.5923\n",
      "6 75362956 6:75362956:T:C T C 0.000148153 ADD 2.53397 0.367892 34.3173 8.32956\n",
      "6 75841299 6:75841299:A:G A G 0.000113058 ADD 2.96185 0.404642 41.1594 9.85291\n",
      "6 100858107 6:100858107:A:T A T 0.574315 ADD 0.108828 0.0158918 47.1902 11.191\n",
      "6 160611820 6:160611820:T:C T C 0.446703 ADD 0.103664 0.0182855 31.9533 7.80155\n",
      "7 100952295 7:100952295:T:G T G 0.0967589 ADD -0.274718 0.0421723 44.4059 10.5737\n",
      "7 100952544 7:100952544:C:A C A 0.375635 ADD 0.276973 0.0348951 65.3446 15.2015\n",
      "7 100952563 7:100952563:T:A T A 0.133382 ADD 0.25011 0.0342381 51.6384 12.1757\n",
      "7 100952565 7:100952565:A:C A C 0.099828 ADD 0.22871 0.0379104 35.0482 8.49262\n",
      "8 86556416 8:86556416:T:G T G 0.259972 ADD -0.195169 0.0175481 128.932 29.1538\n",
      "8 86558437 8:86558437:A:C A C 0.222102 ADD -0.194099 0.0196106 102.532 23.3721\n",
      "8 86558500 8:86558500:C:T C T 0.218856 ADD -0.197325 0.0196567 105.648 24.0553\n",
      "10 7219707 10:7219707:D:1 GA G 0.294977 ADD -0.149306 0.0199651 57.1678 13.3978\n",
      "10 7219715 10:7219715:A:C A C 0.331054 ADD -0.114053 0.0182454 39.6642 9.52057\n",
      "10 7219846 10:7219846:T:C T C 0.209919 ADD -0.186183 0.0222684 72.8341 16.8507\n",
      "10 7243670 10:7243670:A:G A G 0.546952 ADD -0.162441 0.0160349 101.437 23.1321\n",
      "10 7276841 10:7276841:T:C T C 0.189833 ADD -0.232248 0.0222722 115.228 26.154\n",
      "10 7277326 10:7277326:C:A C A 0.186652 ADD -0.243601 0.0226772 122.666 27.7826\n",
      "10 7292138 10:7292138:G:A G A 0.322531 ADD -0.197875 0.0158336 161.117 36.1903\n",
      "12 62490210 12:62490210:I:1 C CT 0.244628 ADD 0.147954 0.0261281 31.495 7.69906\n",
      "12 132620908 12:132620908:T:C T C 0.0978854 ADD -0.169875 0.0316249 30.3267 7.43763\n",
      "17 41827392 17:41827392:A:C A C 0.258298 ADD -0.204372 0.017668 139.745 31.519\n",
      "17 41827556 17:41827556:G:C G C 0.259523 ADD -0.20417 0.017685 139.167 31.3927\n",
      "17 41827568 17:41827568:G:A G A 0.258335 ADD -0.203823 0.0176878 138.703 31.2911\n",
      "17 41827597 17:41827597:G:C G C 0.255958 ADD -0.196979 0.0176883 129.444 29.2658\n",
      "17 44848191 17:44848191:C:T C T 0.222601 ADD -0.203519 0.0196039 113.061 25.6794\n",
      "19 8914908 19:8914908:T:G T G 0.0770586 ADD -0.255045 0.0445232 34.4383 8.35656\n",
      "19 54735442 19:54735442:A:G A G 0.245193 ADD 0.130177 0.0217633 34.8345 8.44496\n",
      "20 62065249 20:62065249:D:6 TGCCAGG T 0.64414 ADD 0.115437 0.0167047 48.4426 11.4684\n",
      "20 62065259 20:62065259:A:G A G 0.29939 ADD -0.121588 0.0170444 52.0227 12.2607\n",
      "\n"
     ]
    }
   ],
   "source": [
    "zcat /gpfs/gibbs/pi/dewan/data/UKBiobank/results/REGENIE_results/results_exome_data/f3393_hearing_aid_exomes_bfile/010421_UKBB_Hearing_aid_f3393_128254ind_exomes_hearing_aid_cat.regenie.snp_stats_original_columns.gz | grep -w -f /home/dc2325/scratch60/output/bfile_annovar/010421_UKBB_Hearing_aid_f3393_128254ind_exomes_hearing_aid_cat.regenie.snp_annotate"
   ]
  },
  {
   "cell_type": "markdown",
   "metadata": {
    "kernel": "Bash"
   },
   "source": [
    "### Get the BETA, SE, P and MAF from the original column file f.3393"
   ]
  },
  {
   "cell_type": "code",
   "execution_count": 1,
   "metadata": {
    "kernel": "Bash"
   },
   "outputs": [
    {
     "name": "stdout",
     "output_type": "stream",
     "text": [
      "1 58468867 1:58468867:T:C T C 0.187716 ADD -0.168986 0.0214121 65.1177 15.1515 \n",
      "1 58468874 1:58468874:T:C T C 0.188739 ADD -0.168015 0.0213657 64.6132 15.0403 \n",
      "1 58468970 1:58468970:G:T G T 0.310271 ADD -0.14103 0.0156138 83.5735 19.2119 \n",
      "1 58539307 1:58539307:C:T C T 0.351207 ADD -0.134308 0.0143388 89.3042 20.4704 \n",
      "2 168834219 2:168834219:T:C T C 0.182838 ADD -0.130908 0.021813 37.2683 8.9874 \n",
      "6 75362956 6:75362956:T:C T C 0.000148152 ADD 2.48143 0.369753 33.1412 8.06699 \n",
      "6 75841299 6:75841299:A:G A G 0.000113057 ADD 2.9806 0.407723 41.4282 9.91265 \n",
      "8 86556416 8:86556416:T:G T G 0.25997 ADD -0.115771 0.0173462 45.6626 10.8524 \n",
      "8 86558437 8:86558437:A:C A C 0.2221 ADD -0.114282 0.0193435 35.869 8.67563 \n",
      "8 86558500 8:86558500:C:T C T 0.218854 ADD -0.116954 0.019379 37.4727 9.03291 \n",
      "10 7243670 10:7243670:A:G A G 0.546956 ADD -0.0980153 0.0159944 37.2648 8.98662 \n",
      "10 7276841 10:7276841:T:C T C 0.189831 ADD -0.133236 0.0219836 37.9955 9.1493 \n",
      "10 7277326 10:7277326:C:A C A 0.186652 ADD -0.143172 0.0223905 42.4078 10.1302 \n",
      "10 7292138 10:7292138:G:A G A 0.322528 ADD -0.110941 0.0157167 50.6966 11.9674 \n",
      "17 41827392 17:41827392:A:C A C 0.258296 ADD -0.142616 0.0174949 68.5193 15.9009 \n",
      "17 41827556 17:41827556:G:C G C 0.259521 ADD -0.142553 0.0175112 68.3209 15.8572 \n",
      "17 41827568 17:41827568:G:A G A 0.258333 ADD -0.142571 0.0175149 68.3322 15.8596 \n",
      "17 41827597 17:41827597:G:C G C 0.255956 ADD -0.136147 0.0175178 62.2382 14.5167 \n",
      "17 44848191 17:44848191:C:T C T 0.2226 ADD -0.144916 0.0193761 57.9092 13.5614 \n",
      "\n"
     ]
    }
   ],
   "source": [
    "zcat /gpfs/gibbs/pi/dewan/data/UKBiobank/results/REGENIE_results/results_exome_data/f3393_hearing_aid_exomes/010421_UKBB_Hearing_aid_f3393_128254ind_exomes_hearing_aid_cat.regenie.snp_stats_original_columns.gz | grep -w -f /home/dc2325/scratch60/output/010421_UKBB_Hearing_aid_f3393_128254ind_exomes_hearing_aid_cat.regenie.snp_annotate"
   ]
  },
  {
   "cell_type": "markdown",
   "metadata": {
    "kernel": "Bash"
   },
   "source": [
    "## f.2257 exome filtered"
   ]
  },
  {
   "cell_type": "code",
   "execution_count": 9,
   "metadata": {
    "kernel": "Bash"
   },
   "outputs": [
    {
     "name": "stdout",
     "output_type": "stream",
     "text": [
      "5\t272741\tA\tG\t5:272741:A:G\t0.897546\t0.128497\t1.2220810223250552e-12\n",
      "5\t272748\tG\tC\t5:272748:G:C\t0.8718739999999999\t0.139898\t2.4925277377693566e-10\n",
      "5\t272755\tA\tG\t5:272755:A:G\t0.8530200000000001\t0.12476400000000001\t4.0766178334794515e-12\n",
      "6\t43301291\tA\tC\t6:43301291:A:C\t0.04535719999999999\t0.00720349\t2.987376772921112e-10\n",
      "6\t43305866\tA\tG\t6:43305866:A:G\t0.0454121\t0.00720402\t2.852462870044014e-10\n",
      "6\t43308652\tG\tA\t6:43308652:G:A\t0.044663800000000003\t0.00718951\t5.126842785315215e-10\n",
      "6\t75841299\tA\tG\t6:75841299:A:G\t2.93015\t0.673602\t3.333419717618388e-10\n",
      "\n"
     ]
    }
   ],
   "source": [
    "zcat /gpfs/gibbs/pi/dewan/data/UKBiobank/results/REGENIE_results/results_exome_data/f2257_hearing_noise_exomes/010421_UKBB_Hearing_background_noise_f2257_175531ind_exomes_hearing_noise_cat.regenie.snp_stats.gz  | grep -w -f /home/dc2325/scratch60/output/010421_UKBB_Hearing_background_noise_f2257_175531ind_exomes_hearing_noise_cat.regenie.snp_annotate"
   ]
  },
  {
   "cell_type": "code",
   "execution_count": 3,
   "metadata": {
    "kernel": "Bash"
   },
   "outputs": [
    {
     "name": "stdout",
     "output_type": "stream",
     "text": [
      "5 272741 5:272741:A:G A G 0.000746392 ADD 0.897546 0.128497 50.4506 11.9129 \n",
      "5 272748 5:272748:G:C G C 0.000626873 ADD 0.871874 0.139898 40.0366 9.60336 \n",
      "5 272755 5:272755:A:G A G 0.000786226 ADD 0.85302 0.124764 48.0875 11.3897 \n",
      "6 43301291 6:43301291:A:C A C 0.608417 ADD 0.0453572 0.00720349 39.6829 9.52471 \n",
      "6 43305866 6:43305866:A:G A G 0.608452 ADD 0.0454121 0.00720402 39.7731 9.54478 \n",
      "6 43308652 6:43308652:G:A G A 0.608468 ADD 0.0446638 0.00718951 38.6284 9.29015 \n",
      "6 75841299 6:75841299:A:G A G 8.5455e-05 ADD 2.93015 0.673602 39.4688 9.47711 \n",
      "\n"
     ]
    }
   ],
   "source": [
    "zcat /gpfs/gibbs/pi/dewan/data/UKBiobank/results/REGENIE_results/results_exome_data/f2257_hearing_noise_exomes/010421_UKBB_Hearing_background_noise_f2257_175531ind_exomes_hearing_noise_cat.regenie.snp_stats_original_columns.gz  | grep -w -f /home/dc2325/scratch60/output/010421_UKBB_Hearing_background_noise_f2257_175531ind_exomes_hearing_noise_cat.regenie.snp_annotate"
   ]
  },
  {
   "cell_type": "markdown",
   "metadata": {
    "kernel": "Bash"
   },
   "source": [
    "## f.2257 original bfile"
   ]
  },
  {
   "cell_type": "code",
   "execution_count": 10,
   "metadata": {
    "kernel": "Bash"
   },
   "outputs": [
    {
     "name": "stdout",
     "output_type": "stream",
     "text": [
      "1\t58468970\tG\tT\t1:58468970:G:T\t0.0388225\t0.00630642\t7.840071077794492e-10\n",
      "1\t58539307\tC\tT\t1:58539307:C:T\t0.039175\t0.00581854\t1.7615703831392665e-11\n",
      "5\t272741\tA\tG\t5:272741:A:G\t0.895364\t0.128826\t1.5656691705285048e-12\n",
      "5\t272748\tG\tC\t5:272748:G:C\t0.872977\t0.140283\t2.6424087573219503e-10\n",
      "5\t272755\tA\tG\t5:272755:A:G\t0.852598\t0.125086\t4.715198713364486e-12\n",
      "6\t75841299\tA\tG\t6:75841299:A:G\t2.92445\t0.675154\t4.5532343128209967e-10\n",
      "8\t86556416\tT\tG\t8:86556416:T:G\t0.0422805\t0.00701265\t1.7416865577909724e-09\n",
      "8\t86558437\tA\tC\t8:86558437:A:C\t0.0461656\t0.00782776\t3.903462396489647e-09\n",
      "8\t86558500\tC\tT\t8:86558500:C:T\t0.0462525\t0.00783409\t3.7604515711246546e-09\n",
      "10\t7292138\tG\tA\t10:7292138:G:A\t0.0371488\t0.00634972\t5.113402742113402e-09\n",
      "20\t62065259\tA\tG\t20:62065259:A:G\t0.0383255\t0.00675216\t1.4268883758820646e-08\n",
      "\n"
     ]
    }
   ],
   "source": [
    "zcat /gpfs/gibbs/pi/dewan/data/UKBiobank/results/REGENIE_results/results_exome_data/f2257_hearing_noise_exomes_bfile/010421_UKBB_Hearing_background_noise_f2257_175531ind_exomes_hearing_noise_cat.regenie.snp_stats.gz  | grep -w -f /home/dc2325/scratch60/output/bfile_annovar/010421_UKBB_Hearing_background_noise_f2257_175531ind_exomes_hearing_noise_cat.regenie.snp_annotate"
   ]
  },
  {
   "cell_type": "code",
   "execution_count": 9,
   "metadata": {
    "kernel": "Bash"
   },
   "outputs": [
    {
     "name": "stdout",
     "output_type": "stream",
     "text": [
      "1 58468970 1:58468970:G:T G T 0.218027 ADD 0.0388225 0.00630642 37.7995 9.10568\n",
      "1 58539307 1:58539307:C:T C T 0.246377 ADD 0.039175 0.00581854 45.2194 10.7541\n",
      "5 272741 5:272741:A:G A G 0.000746396 ADD 0.895364 0.128826 49.9644 11.8053\n",
      "5 272748 5:272748:G:C G C 0.000626877 ADD 0.872977 0.140283 39.9225 9.578\n",
      "5 272755 5:272755:A:G A G 0.000786231 ADD 0.852598 0.125086 47.8019 11.3265\n",
      "6 75841299 6:75841299:A:G A G 8.54555e-05 ADD 2.92445 0.675154 38.8599 9.34168\n",
      "8 86556416 8:86556416:T:G T G 0.181755 ADD 0.0422805 0.00701265 36.2432 8.75903\n",
      "8 86558437 8:86558437:A:C A C 0.156181 ADD 0.0461656 0.00782776 34.6713 8.40855\n",
      "8 86558500 8:86558500:C:T C T 0.153212 ADD 0.0462525 0.00783409 34.7439 8.42476\n",
      "10 7292138 10:7292138:G:A G A 0.227024 ADD 0.0371488 0.00634972 34.1458 8.29129\n",
      "20 62065259 20:62065259:A:G A G 0.247018 ADD 0.0383255 0.00675216 32.1504 7.84561\n",
      "\n"
     ]
    }
   ],
   "source": [
    "zcat /gpfs/gibbs/pi/dewan/data/UKBiobank/results/REGENIE_results/results_exome_data/f2257_hearing_noise_exomes_bfile/010421_UKBB_Hearing_background_noise_f2257_175531ind_exomes_hearing_noise_cat.regenie.snp_stats_original_columns.gz  | grep -w -f /home/dc2325/scratch60/output/bfile_annovar/010421_UKBB_Hearing_background_noise_f2257_175531ind_exomes_hearing_noise_cat.regenie.snp_annotate"
   ]
  },
  {
   "cell_type": "markdown",
   "metadata": {
    "kernel": "Bash"
   },
   "source": [
    "## f2247 exome filtered"
   ]
  },
  {
   "cell_type": "code",
   "execution_count": 11,
   "metadata": {
    "kernel": "Bash"
   },
   "outputs": [
    {
     "name": "stdout",
     "output_type": "stream",
     "text": [
      "1\t58468867\tT\tC\t1:58468867:T:C\t0.0717153\t0.00923927\t1.1587773561551261e-14\n",
      "1\t58468874\tT\tC\t1:58468874:T:C\t0.0715995\t0.00922922\t1.1937132101928058e-14\n",
      "1\t58468970\tG\tT\t1:58468970:G:T\t0.0593697\t0.00684749\t5.851941823780803e-18\n",
      "1\t58506159\tG\tA\t1:58506159:G:A\t0.0802067\t0.013556499999999999\t4.0267994442394125e-09\n",
      "1\t58506268\tC\tA\t1:58506268:C:A\t0.08213530000000001\t0.013631799999999998\t2.092088248507645e-09\n",
      "1\t58539307\tC\tT\t1:58539307:C:T\t0.0580006\t0.00632463\t6.44465984741689e-20\n",
      "5\t272741\tA\tG\t5:272741:A:G\t1.19275\t0.125574\t4.1152857843551e-21\n",
      "5\t272748\tG\tC\t5:272748:G:C\t1.20544\t0.13772\t3.4268887043278663e-18\n",
      "5\t272755\tA\tG\t5:272755:A:G\t1.17113\t0.122546\t2.5409727055493115e-21\n",
      "5\t73773756\tA\tG\t5:73773756:A:G\t0.0452337\t0.00785184\t8.259999099997013e-09\n",
      "5\t73776529\tT\tC\t5:73776529:T:C\t0.04761169999999999\t0.0078087\t1.0857754055343505e-09\n",
      "5\t73780632\tG\tA\t5:73780632:G:A\t0.0471588\t0.00780284\t1.5153396952829279e-09\n",
      "5\t73780649\tGT\tG\t5:73780649:D:1\t0.04820119999999999\t0.00790071\t1.0603274386034904e-09\n",
      "5\t73780686\tC\tA\t5:73780686:C:A\t0.050593\t0.00779941\t8.741782564005269e-11\n",
      "5\t73794340\tA\tAGTT\t5:73794340:I:3\t0.04749930000000001\t0.00777282\t9.83105215281768e-10\n",
      "5\t73794436\tT\tC\t5:73794436:T:C\t0.0475961\t0.00780922\t1.0859254213126253e-09\n",
      "5\t73795301\tT\tA\t5:73795301:T:A\t0.0451906\t0.00779547\t6.77002075323486e-09\n",
      "5\t73795403\tC\tT\t5:73795403:C:T\t0.044505\t0.00779368\t1.1303944069211205e-08\n",
      "6\t43301291\tA\tC\t6:43301291:A:C\t0.05248730000000001\t0.007990899999999999\t4.892152651344186e-11\n",
      "6\t43302413\tC\tT\t6:43302413:C:T\t-0.0469717\t0.00858441\t4.261475539763847e-08\n",
      "6\t43305866\tA\tG\t6:43305866:A:G\t0.0523539\t0.00799111\t5.480245321768499e-11\n",
      "6\t43308652\tG\tA\t6:43308652:G:A\t0.05186\t0.00797626\t7.640116835170198e-11\n",
      "6\t75841299\tA\tG\t6:75841299:A:G\t2.87207\t0.5234880000000001\t2.826832007002004e-12\n",
      "6\t133468590\tG\tA\t6:133468590:G:A\t0.0478955\t0.00833092\t9.335336992792562e-09\n",
      "6\t158071628\tC\tT\t6:158071628:C:T\t0.287393\t0.0507519\t2.5065132226738672e-08\n",
      "8\t86556416\tT\tG\t8:86556416:T:G\t0.0503167\t0.00759627\t4.11149721104523e-11\n",
      "8\t86558437\tA\tC\t8:86558437:A:C\t0.057500199999999994\t0.00846386\t1.327700136790083e-11\n",
      "8\t86558500\tC\tT\t8:86558500:C:T\t0.057677599999999996\t0.00846839\t1.1827691816995279e-11\n",
      "10\t7292138\tG\tA\t10:7292138:G:A\t0.037897900000000005\t0.00689304\t4.150209307142593e-08\n",
      "11\t118375306\tT\tG\t11:118375306:T:G\t0.107055\t0.018939599999999997\t1.9533047222277816e-08\n",
      "17\t41827392\tA\tC\t17:41827392:A:C\t0.0427607\t0.00765119\t2.524236254343612e-08\n",
      "17\t44848191\tC\tT\t17:44848191:C:T\t0.0543679\t0.00841803\t1.250402979894237e-10\n",
      "22\t38086345\tGTGCGGGAGCGGGACTGGCCATCCCAGTACTCCGAGGGTGCTA\tG\t22:38086345:D:42\t0.048302199999999997\t0.00879307\t4.1099827584847344e-08\n",
      "22\t50549676\tG\tA\t22:50549676:G:A\t0.13020299999999999\t0.018768\t5.786287388179515e-12\n",
      "\n"
     ]
    }
   ],
   "source": [
    "zcat /gpfs/gibbs/pi/dewan/data/UKBiobank/results/REGENIE_results/results_exome_data/f2247_hearing_difficulty_exomes/010421_UKBB_Hearing_difficulty_f2247_171970ind_exomes_hearing_diff_new.regenie.snp_stats.gz | grep -w -f /home/dc2325/scratch60/output/010421_UKBB_Hearing_difficulty_f2247_171970ind_exomes_hearing_diff_new.regenie.snp_annotate"
   ]
  },
  {
   "cell_type": "code",
   "execution_count": 4,
   "metadata": {
    "kernel": "Bash"
   },
   "outputs": [
    {
     "name": "stdout",
     "output_type": "stream",
     "text": [
      "1 58468867 1:58468867:T:C T C 0.13066 ADD 0.0717153 0.00923927 59.6061 13.936 \n",
      "1 58468874 1:58468874:T:C T C 0.131478 ADD 0.0715995 0.00922922 59.5475 13.9231 \n",
      "1 58468970 1:58468970:G:T G T 0.216891 ADD 0.0593697 0.00684749 74.5703 17.2327 \n",
      "1 58506159 1:58506159:G:A G A 0.0685232 ADD 0.0802067 0.0135565 34.6107 8.39504 \n",
      "1 58506268 1:58506268:C:A C A 0.0673356 ADD 0.0821353 0.0136318 35.886 8.67942 \n",
      "1 58539307 1:58539307:C:T C T 0.245146 ADD 0.0580006 0.00632463 83.4776 19.1908 \n",
      "5 272741 5:272741:A:G A G 0.000779296 ADD 1.19275 0.125574 88.9178 20.3856 \n",
      "5 272748 5:272748:G:C G C 0.000648584 ADD 1.20544 0.13772 75.6268 17.4651 \n",
      "5 272755 5:272755:A:G A G 0.000817041 ADD 1.17113 0.122546 89.8718 20.595 \n",
      "5 73773756 5:73773756:A:G A G 0.548953 ADD 0.0452337 0.00785184 33.2129 8.08302 \n",
      "5 73776529 5:73776529:T:C T C 0.467749 ADD 0.0476117 0.0078087 37.1644 8.96426 \n",
      "5 73780632 5:73780632:G:A G A 0.465742 ADD 0.0471588 0.00780284 36.5145 8.81949 \n",
      "5 73780649 5:73780649:D:1 GT G 0.472223 ADD 0.0482012 0.00790071 37.2107 8.97456 \n",
      "5 73780686 5:73780686:C:A C A 0.501643 ADD 0.050593 0.00779941 42.0843 10.0584 \n",
      "5 73794340 5:73794340:I:3 A AGTT 0.519526 ADD 0.0474993 0.00777282 37.3581 9.0074 \n",
      "5 73794436 5:73794436:T:C T C 0.525264 ADD 0.0475961 0.00780922 37.1641 8.9642 \n",
      "5 73795301 5:73795301:T:A T A 0.479205 ADD 0.0451906 0.00779547 33.5998 8.16941 \n",
      "5 73795403 5:73795403:C:T C T 0.479288 ADD 0.044505 0.00779368 32.603 7.94677 \n",
      "6 43301291 6:43301291:A:C A C 0.607826 ADD 0.0524873 0.0079909 43.2198 10.3105 \n",
      "6 43302413 6:43302413:C:T C T 0.293957 ADD -0.0469717 0.00858441 30.0266 7.37044 \n",
      "6 43305866 6:43305866:A:G A G 0.607848 ADD 0.0523539 0.00799111 42.9977 10.2612 \n",
      "6 43308652 6:43308652:G:A G A 0.607902 ADD 0.05186 0.00797626 42.3478 10.1169 \n",
      "6 75841299 6:75841299:A:G A G 8.72245e-05 ADD 2.87207 0.523488 48.8053 11.5487 \n",
      "6 133468590 6:133468590:G:A G A 0.318255 ADD 0.0478955 0.00833092 32.975 8.02987 \n",
      "6 158071628 6:158071628:C:T C T 0.00531197 ADD 0.287393 0.0507519 31.0563 7.60093 \n",
      "8 86556416 8:86556416:T:G T G 0.180952 ADD 0.0503167 0.00759627 43.5599 10.386 \n",
      "8 86558437 8:86558437:A:C A C 0.155596 ADD 0.0575002 0.00846386 45.773 10.8769 \n",
      "8 86558500 8:86558500:C:T C T 0.15264 ADD 0.0576776 0.00846839 45.9998 10.9271 \n",
      "10 7292138 10:7292138:G:A G A 0.225962 ADD 0.0378979 0.00689304 30.078 7.38193 \n",
      "11 118375306 11:118375306:T:G T G 0.0426002 ADD 0.107055 0.0189396 31.5405 7.70923 \n",
      "17 41827392 17:41827392:A:C A C 0.179982 ADD 0.0427607 0.00765119 31.0426 7.59787 \n",
      "17 44848191 17:44848191:C:T C T 0.155716 ADD 0.0543679 0.00841803 41.3846 9.90295 \n",
      "22 38086345 22:38086345:D:42 GTGCGGGAGCGGGACTGGCCATCCCAGTACTCCGAGGGTGCTA G 0.292764 ADD 0.0483022 0.00879307 30.0969 7.38616 \n",
      "22 50549676 22:50549676:G:A G A 0.0430395 ADD 0.130203 0.018768 47.4005 11.2376 \n",
      "\n"
     ]
    }
   ],
   "source": [
    "zcat /gpfs/gibbs/pi/dewan/data/UKBiobank/results/REGENIE_results/results_exome_data/f2247_hearing_difficulty_exomes/010421_UKBB_Hearing_difficulty_f2247_171970ind_exomes_hearing_diff_new.regenie.snp_stats_original_columns.gz | grep -w -f /home/dc2325/scratch60/output/010421_UKBB_Hearing_difficulty_f2247_171970ind_exomes_hearing_diff_new.regenie.snp_annotate"
   ]
  },
  {
   "cell_type": "markdown",
   "metadata": {
    "kernel": "Bash"
   },
   "source": [
    "## f.2247 original bfile"
   ]
  },
  {
   "cell_type": "code",
   "execution_count": 12,
   "metadata": {
    "kernel": "Bash"
   },
   "outputs": [
    {
     "name": "stdout",
     "output_type": "stream",
     "text": [
      "1\t33010786\tC\tT\t1:33010786:C:T\t-0.0877293\t0.0125406\t2.670545612191901e-12\n",
      "1\t58468867\tT\tC\t1:58468867:T:C\t0.100429\t0.00929324\t7.573558772744394e-27\n",
      "1\t58468874\tT\tC\t1:58468874:T:C\t0.100516\t0.0092829\t5.9937689832663774e-27\n",
      "1\t58468970\tG\tT\t1:58468970:G:T\t0.0846861\t0.00689\t2.375198990470038e-34\n",
      "1\t58480867\tC\tCT\t1:58480867:I:1\t0.134377\t0.0236204\t1.6801188330219523e-08\n",
      "1\t58481189\tT\tG\t1:58481189:T:G\t0.122711\t0.017333\t2.178211266293439e-12\n",
      "1\t58506159\tG\tA\t1:58506159:G:A\t0.112135\t0.01364\t3.4190070790206896e-16\n",
      "1\t58506268\tC\tA\t1:58506268:C:A\t0.114523\t0.0137153\t1.1885022274370165e-16\n",
      "1\t58530531\tT\tC\t1:58530531:T:C\t0.121481\t0.0181414\t3.091718893891698e-11\n",
      "1\t58539307\tC\tT\t1:58539307:C:T\t0.082978\t0.00636577\t1.883215413189167e-38\n",
      "2\t168824768\tT\tTTTTGTTTGTTTG\t2:168824768:I:12\t0.103888\t0.0131674\t5.3703179637025325e-15\n",
      "2\t168824768\tT\tTTTTGTTTG\t2:168824768:I:8\t0.112013\t0.0146801\t4.128573303779981e-14\n",
      "2\t168834219\tT\tC\t2:168834219:T:C\t0.0962217\t0.00951813\t1.0207044307665863e-23\n",
      "2\t168850752\tAAATTCTCTGG\tA\t2:168850752:D:10\t0.0770574\t0.0128175\t2.24310704824651e-09\n",
      "2\t168850918\tC\tT\t2:168850918:C:T\t0.0476807\t0.00869639\t4.455844228857199e-08\n",
      "2\t178444438\tG\tA\t2:178444438:G:A\t0.103041\t0.0158763\t1.0030209403430903e-10\n",
      "4\t15985886\tT\tTTTAAG\t4:15985886:I:5\t-0.0508776\t0.00688046\t1.6994171628867503e-13\n",
      "5\t272741\tA\tG\t5:272741:A:G\t1.19976\t0.126445\t4.286472087023849e-21\n",
      "5\t272748\tG\tC\t5:272748:G:C\t1.21097\t0.138762\t4.1010966087481164e-18\n",
      "5\t272755\tA\tG\t5:272755:A:G\t1.18182\t0.123438\t2.0398583002685607e-21\n",
      "5\t73773756\tA\tG\t5:73773756:A:G\t0.0431178\t0.00789909\t4.747773586630502e-08\n",
      "5\t73776529\tT\tC\t5:73776529:T:C\t0.0457613\t0.00785629\t5.748307602770244e-09\n",
      "5\t73780632\tG\tA\t5:73780632:G:A\t0.0452292\t0.00785027\t8.384747718044246e-09\n",
      "5\t73780649\tGT\tG\t5:73780649:D:1\t0.0462117\t0.00794891\t6.140729965610243e-09\n",
      "5\t73780686\tC\tA\t5:73780686:C:A\t0.049239\t0.00784599\t3.4708832055156563e-10\n",
      "5\t73794340\tA\tAGTT\t5:73794340:I:3\t0.0444209\t0.00782018\t1.3364724172189925e-08\n",
      "5\t73794436\tT\tC\t5:73794436:T:C\t0.0449715\t0.00785598\t1.0300065820841045e-08\n",
      "5\t73795301\tT\tA\t5:73795301:T:A\t0.0430501\t0.00784205\t4.0371045816162834e-08\n",
      "6\t43301291\tA\tC\t6:43301291:A:C\t0.0502472\t0.00803887\t3.9574915843197873e-10\n",
      "6\t43305866\tA\tG\t6:43305866:A:G\t0.0500592\t0.00803916\t4.6039436559367353e-10\n",
      "6\t43308652\tG\tA\t6:43308652:G:A\t0.0495897\t0.00802434\t6.209977119031731e-10\n",
      "6\t75841299\tA\tG\t6:75841299:A:G\t2.87165\t0.52827\t5.3444128557439356e-12\n",
      "6\t105176946\tG\tC\t6:105176946:G:C\t-0.0694594\t0.0122949\t1.5449698193667177e-08\n",
      "6\t105177042\tT\tA\t6:105177042:T:A\t-0.0407265\t0.00710992\t9.995856205621448e-09\n",
      "6\t133468590\tG\tA\t6:133468590:G:A\t0.0490628\t0.0083816\t5.012795642312098e-09\n",
      "6\t158071628\tC\tT\t6:158071628:C:T\t0.292807\t0.0511157\t1.7248049901690325e-08\n",
      "7\t100952295\tT\tG\t7:100952295:T:G\t0.122079\t0.0184108\t4.273660314969312e-11\n",
      "8\t86556416\tT\tG\t8:86556416:T:G\t0.0906482\t0.00764042\t4.463751406044461e-32\n",
      "8\t86558437\tA\tC\t8:86558437:A:C\t0.0989447\t0.00851179\t7.961593504173184e-31\n",
      "8\t86558500\tC\tT\t8:86558500:C:T\t0.099465\t0.00851539\t4.231555097166165e-31\n",
      "9\t87632019\tG\tT\t9:87632019:G:T\t-0.0499824\t0.00862277\t6.224149276765991e-09\n",
      "10\t7219707\tGA\tG\t10:7219707:D:1\t0.0684817\t0.00852435\t1.1746270559234962e-15\n",
      "10\t7219715\tA\tC\t10:7219715:A:C\t0.0579543\t0.00771032\t6.549377145933667e-14\n",
      "10\t7219846\tT\tC\t10:7219846:T:C\t0.0939815\t0.00961468\t2.5609435171567697e-22\n",
      "10\t7243670\tA\tG\t10:7243670:A:G\t0.05592\t0.00692308\t6.795164894815254e-16\n",
      "10\t7276841\tT\tC\t10:7276841:T:C\t0.0973703\t0.00955759\t4.6280708623811505e-24\n",
      "10\t7277326\tC\tA\t10:7277326:C:A\t0.0945326\t0.00970435\t3.8220819974268243e-22\n",
      "10\t7292138\tG\tA\t10:7292138:G:A\t0.0855936\t0.00693464\t1.2439416235583058e-34\n",
      "11\t118375306\tT\tG\t11:118375306:T:G\t0.107183\t0.0190683\t2.3271801292042072e-08\n",
      "17\t41827392\tA\tC\t17:41827392:A:C\t0.0852448\t0.00769593\t3.4205819525674875e-28\n",
      "17\t41827556\tG\tC\t17:41827556:G:C\t0.0835603\t0.00770743\t4.388337287003634e-27\n",
      "17\t41827568\tG\tA\t17:41827568:G:A\t0.0824387\t0.00770342\t1.9624563241736896e-26\n",
      "17\t41827597\tG\tC\t17:41827597:G:C\t0.0828118\t0.00772235\t1.5599116444075487e-26\n",
      "17\t44848191\tC\tT\t17:44848191:C:T\t0.0977838\t0.00846592\t1.8608012966026015e-30\n",
      "19\t8914908\tT\tG\t19:8914908:T:G\t0.12205\t0.0187505\t9.720755058298197e-11\n",
      "20\t62065249\tTGCCAGG\tT\t20:62065249:D:6\t-0.0543654\t0.00728143\t9.50385934011676e-14\n",
      "20\t62065259\tA\tG\t20:62065259:A:G\t0.0600082\t0.00743193\t8.495716271561207e-16\n",
      "22\t50549676\tG\tA\t22:50549676:G:A\t0.132917\t0.0189032\t2.9846952883013366e-12\n",
      "\n"
     ]
    }
   ],
   "source": [
    "zcat /gpfs/gibbs/pi/dewan/data/UKBiobank/results/REGENIE_results/results_exome_data/f2247_hearing_difficulty_exomes_bfile/010421_UKBB_Hearing_difficulty_f2247_171970ind_exomes_hearing_diff_new.regenie.snp_stats.gz | grep -w -f /home/dc2325/scratch60/output/bfile_annovar/010421_UKBB_Hearing_difficulty_f2247_171970ind_exomes_hearing_diff_new.regenie.snp_annotate"
   ]
  },
  {
   "cell_type": "code",
   "execution_count": 14,
   "metadata": {
    "kernel": "Bash"
   },
   "outputs": [
    {
     "name": "stdout",
     "output_type": "stream",
     "text": [
      "1 33010786 1:33010786:C:T C T 0.260661 ADD -0.0877293 0.0125406 48.9169 11.5734\n",
      "1 58468867 1:58468867:T:C T C 0.130661 ADD 0.100429 0.00929324 115.076 26.1207\n",
      "1 58468874 1:58468874:T:C T C 0.131479 ADD 0.100516 0.0092829 115.54 26.2223\n",
      "1 58468970 1:58468970:G:T G T 0.216892 ADD 0.0846861 0.00689 149.374 33.6243\n",
      "1 58480867 1:58480867:I:1 C CT 0.0257702 ADD 0.134377 0.0236204 31.833 7.77466\n",
      "1 58481189 1:58481189:T:G T G 0.0438016 ADD 0.122711 0.017333 49.3164 11.6619\n",
      "1 58506159 1:58506159:G:A G A 0.0685236 ADD 0.112135 0.01364 66.5456 15.4661\n",
      "1 58506268 1:58506268:C:A C A 0.067336 ADD 0.114523 0.0137153 68.6289 15.925\n",
      "1 58530531 1:58530531:T:C T C 0.0404119 ADD 0.121481 0.0181414 44.118 10.5098\n",
      "1 58539307 1:58539307:C:T C T 0.245147 ADD 0.082978 0.00636577 168.143 37.7251\n",
      "2 168824768 2:168824768:I:12 T TTTTGTTTGTTTG 0.0632524 ADD 0.103888 0.0131674 61.1199 14.27\n",
      "2 168824768 2:168824768:I:8 T TTTTGTTTG 0.0535825 ADD 0.112013 0.0146801 57.1064 13.3842\n",
      "2 168834219 2:168834219:T:C T C 0.12758 ADD 0.0962217 0.00951813 100.794 22.9911\n",
      "2 168850752 2:168850752:D:10 AAATTCTCTGG A 0.0826741 ADD 0.0770574 0.0128175 35.7502 8.64915\n",
      "2 168850918 2:168850918:C:T C T 0.266183 ADD 0.0476807 0.00869639 29.9402 7.35107\n",
      "2 178444438 2:178444438:G:A G A 0.111011 ADD 0.103041 0.0158763 41.8155 9.99869\n",
      "4 15985886 4:15985886:I:5 T TTTAAG 0.75772 ADD -0.0508776 0.00688046 54.3246 12.7697\n",
      "5 272741 5:272741:A:G A G 0.000779301 ADD 1.19976 0.126445 88.8375 20.3679\n",
      "5 272748 5:272748:G:C G C 0.000648588 ADD 1.21097 0.138762 75.2719 17.3871\n",
      "5 272755 5:272755:A:G A G 0.000817046 ADD 1.18182 0.123438 90.3063 20.6904\n",
      "5 73773756 5:73773756:A:G A G 0.548957 ADD 0.0431178 0.00789909 29.8172 7.32351\n",
      "5 73776529 5:73776529:T:C T C 0.467751 ADD 0.0457613 0.00785629 33.9181 8.24046\n",
      "5 73780632 5:73780632:G:A G A 0.465745 ADD 0.0452292 0.00785027 33.1838 8.07651\n",
      "5 73780649 5:73780649:D:1 GT G 0.472226 ADD 0.0462117 0.00794891 33.7896 8.21178\n",
      "5 73780686 5:73780686:C:A C A 0.501646 ADD 0.049239 0.00784599 39.3899 9.45956\n",
      "5 73794340 5:73794340:I:3 A AGTT 0.519529 ADD 0.0444209 0.00782018 32.2776 7.87404\n",
      "5 73794436 5:73794436:T:C T C 0.525267 ADD 0.0449715 0.00785598 32.7838 7.98716\n",
      "5 73795301 5:73795301:T:A T A 0.479208 ADD 0.0430501 0.00784205 30.1315 7.39393\n",
      "6 43301291 6:43301291:A:C A C 0.607829 ADD 0.0502472 0.00803887 39.1337 9.40258\n",
      "6 43305866 6:43305866:A:G A G 0.607851 ADD 0.0500592 0.00803916 38.8384 9.33687\n",
      "6 43308652 6:43308652:G:A G A 0.607906 ADD 0.0495897 0.00802434 38.2543 9.20691\n",
      "6 75841299 6:75841299:A:G A G 8.7225e-05 ADD 2.87165 0.52827 47.5565 11.2721\n",
      "6 105176946 6:105176946:G:C G C 0.222198 ADD -0.0694594 0.0122949 31.9959 7.81108\n",
      "6 105177042 6:105177042:T:A T A 0.454745 ADD -0.0407265 0.00710992 32.8421 8.00018\n",
      "6 133468590 6:133468590:G:A G A 0.318256 ADD 0.0490628 0.0083816 34.1844 8.29992\n",
      "6 158071628 6:158071628:C:T C T 0.005312 ADD 0.292807 0.0511157 31.782 7.76326\n",
      "7 100952295 7:100952295:T:G T G 0.0694741 ADD 0.122079 0.0184108 43.4842 10.3692\n",
      "8 86556416 8:86556416:T:G T G 0.180953 ADD 0.0906482 0.00764042 138.974 31.3503\n",
      "8 86558437 8:86558437:A:C A C 0.155597 ADD 0.0989447 0.00851179 133.252 30.099\n",
      "8 86558500 8:86558500:C:T C T 0.152641 ADD 0.099465 0.00851539 134.507 30.3735\n",
      "9 87632019 9:87632019:G:T G T 0.262672 ADD -0.0499824 0.00862277 33.7633 8.20592\n",
      "10 7219707 10:7219707:D:1 GA G 0.24543 ADD 0.0684817 0.00852435 64.1133 14.9301\n",
      "10 7219715 10:7219715:A:C A C 0.283975 ADD 0.0579543 0.00771032 56.1988 13.1838\n",
      "10 7219846 10:7219846:T:C T C 0.1583 ADD 0.0939815 0.00961468 94.4132 21.5916\n",
      "10 7243670 10:7243670:A:G A G 0.467223 ADD 0.05592 0.00692308 65.1919 15.1678\n",
      "10 7276841 10:7276841:T:C T C 0.133231 ADD 0.0973703 0.00955759 102.36 23.3346\n",
      "10 7277326 10:7277326:C:A C A 0.131305 ADD 0.0945326 0.00970435 93.6205 21.4177\n",
      "10 7292138 10:7292138:G:A G A 0.225963 ADD 0.0855936 0.00693464 150.66 33.9052\n",
      "11 118375306 11:118375306:T:G T G 0.0426004 ADD 0.107183 0.0190683 31.2004 7.63317\n",
      "17 41827392 17:41827392:A:C A C 0.179983 ADD 0.0852448 0.00769593 121.22 27.4659\n",
      "17 41827556 17:41827556:G:C G C 0.18125 ADD 0.0835603 0.00770743 116.158 26.3577\n",
      "17 41827568 17:41827568:G:A G A 0.180567 ADD 0.0824387 0.00770342 113.188 25.7072\n",
      "17 41827597 17:41827597:G:C G C 0.178917 ADD 0.0828118 0.00772235 113.643 25.8069\n",
      "17 44848191 17:44848191:C:T C T 0.155717 ADD 0.0977838 0.00846592 131.567 29.7303\n",
      "19 8914908 19:8914908:T:G T G 0.0592704 ADD 0.12205 0.0187505 41.8769 10.0123\n",
      "20 62065249 20:62065249:D:6 TGCCAGG T 0.703888 ADD -0.0543654 0.00728143 55.4669 13.0221\n",
      "20 62065259 20:62065259:A:G A G 0.246498 ADD 0.0600082 0.00743193 64.7517 15.0708\n",
      "22 50549676 22:50549676:G:A G A 0.0430397 ADD 0.132917 0.0189032 48.6986 11.5251\n",
      "\n"
     ]
    }
   ],
   "source": [
    "zcat /gpfs/gibbs/pi/dewan/data/UKBiobank/results/REGENIE_results/results_exome_data/f2247_hearing_difficulty_exomes_bfile/010421_UKBB_Hearing_difficulty_f2247_171970ind_exomes_hearing_diff_new.regenie.snp_stats_original_columns.gz | grep -w -f /home/dc2325/scratch60/output/bfile_annovar/010421_UKBB_Hearing_difficulty_f2247_171970ind_exomes_hearing_diff_new.regenie.snp_annotate"
   ]
  },
  {
   "cell_type": "markdown",
   "metadata": {
    "kernel": "Bash"
   },
   "source": [
    "## f2247 & f2257 exome filtered data"
   ]
  },
  {
   "cell_type": "code",
   "execution_count": 13,
   "metadata": {
    "kernel": "Bash"
   },
   "outputs": [
    {
     "name": "stdout",
     "output_type": "stream",
     "text": [
      "1\t46132597\tC\tA\t1:46132597:C:A\t-0.048425199999999995\t0.00873988\t2.9676316895317354e-08\n",
      "1\t58468867\tT\tC\t1:58468867:T:C\t0.0679535\t0.010248700000000001\t4.1133910615245514e-11\n",
      "1\t58468874\tT\tC\t1:58468874:T:C\t0.0689153\t0.0102364\t2.0682355559317648e-11\n",
      "1\t58468970\tG\tT\t1:58468970:G:T\t0.0606005\t0.00760586\t2.052579560952533e-15\n",
      "1\t58506159\tG\tA\t1:58506159:G:A\t0.0846227\t0.0150871\t2.4171299521044176e-08\n",
      "1\t58506268\tC\tA\t1:58506268:C:A\t0.0862086\t0.0151635\t1.5624999063995115e-08\n",
      "1\t58539307\tC\tT\t1:58539307:C:T\t0.0607587\t0.00701922\t6.366489102003704e-18\n",
      "5\t272741\tA\tG\t5:272741:A:G\t1.3423\t0.14832599999999999\t6.737518954705801e-20\n",
      "5\t272748\tG\tC\t5:272748:G:C\t1.33381\t0.162199\t1.0801896208818909e-16\n",
      "5\t272755\tA\tG\t5:272755:A:G\t1.30036\t0.143215\t6.297961479295158e-20\n",
      "5\t73773756\tA\tG\t5:73773756:A:G\t0.052482299999999996\t0.00871943\t1.727547510306292e-09\n",
      "5\t73776529\tT\tC\t5:73776529:T:C\t0.0514956\t0.00867282\t2.9077696549191336e-09\n",
      "5\t73780632\tG\tA\t5:73780632:G:A\t0.0511833\t0.00866646\t3.527361740282659e-09\n",
      "5\t73780649\tGT\tG\t5:73780649:D:1\t0.0524759\t0.00877407\t2.2297696506992548e-09\n",
      "5\t73780686\tC\tA\t5:73780686:C:A\t0.05612809999999999\t0.00866665\t9.356210840627022e-11\n",
      "5\t73794340\tA\tAGTT\t5:73794340:I:3\t0.053645500000000006\t0.00863391\t5.140318154262012e-10\n",
      "5\t73794436\tT\tC\t5:73794436:T:C\t0.052490499999999995\t0.00867174\t1.4078941357986643e-09\n",
      "5\t73795301\tT\tA\t5:73795301:T:A\t0.050319\t0.00865905\t6.219564843271939e-09\n",
      "5\t73795403\tC\tT\t5:73795403:C:T\t0.0494952\t0.00865717\t1.0851005909504758e-08\n",
      "6\t33189182\tA\tG\t6:33189182:A:G\t1.8974099999999998\t0.364168\t2.1426439059235436e-08\n",
      "6\t43301291\tA\tC\t6:43301291:A:C\t0.0642934\t0.00889483\t4.634469197362865e-13\n",
      "6\t43302413\tC\tT\t6:43302413:C:T\t-0.052045100000000004\t0.00955062\t4.8281416152936425e-08\n",
      "6\t43305866\tA\tG\t6:43305866:A:G\t0.06419580000000001\t0.00889485\t5.025739801095915e-13\n",
      "6\t43308652\tG\tA\t6:43308652:G:A\t0.0634645\t0.00887844\t8.336811846196331e-13\n",
      "6\t75362956\tT\tC\t6:75362956:T:C\t1.85378\t0.350327\t1.610015288290602e-08\n",
      "6\t75841299\tA\tG\t6:75841299:A:G\t3.8865\t0.8627049999999999\t7.549183812702828e-14\n",
      "6\t158071628\tC\tT\t6:158071628:C:T\t0.32104\t0.0559261\t1.592172065512453e-08\n",
      "8\t86556416\tT\tG\t8:86556416:T:G\t0.053445900000000005\t0.00842771\t2.6190874527768585e-10\n",
      "8\t86558437\tA\tC\t8:86558437:A:C\t0.0615681\t0.00938904\t6.514783683512204e-11\n",
      "8\t86558500\tC\tT\t8:86558500:C:T\t0.061608500000000004\t0.00939653\t6.573550444548967e-11\n",
      "22\t38086345\tGTGCGGGAGCGGGACTGGCCATCCCAGTACTCCGAGGGTGCTA\tG\t22:38086345:D:42\t0.0539385\t0.00977336\t3.5535301125693476e-08\n",
      "22\t50549676\tG\tA\t22:50549676:G:A\t0.117595\t0.020826400000000002\t2.0104811242075885e-08\n",
      "\n"
     ]
    }
   ],
   "source": [
    "zcat /gpfs/gibbs/pi/dewan/data/UKBiobank/results/REGENIE_results/results_exome_data/f2247_f2257_combined_exomes/010421_UKBB_f2247_f2257_136862ind_exomes_f2247_f2257.regenie.snp_stats.gz | grep -w -f /home/dc2325/scratch60/output/010421_UKBB_f2247_f2257_136862ind_exomes_f2247_f2257.regenie.snp_annotate"
   ]
  },
  {
   "cell_type": "code",
   "execution_count": 5,
   "metadata": {
    "kernel": "Bash"
   },
   "outputs": [
    {
     "name": "stdout",
     "output_type": "stream",
     "text": [
      "1 46132597 1:46132597:C:A C A 0.436179 ADD -0.0484252 0.00873988 30.7286 7.52759 \n",
      "1 58468867 1:58468867:T:C T C 0.131799 ADD 0.0679535 0.0102487 43.559 10.3858 \n",
      "1 58468874 1:58468874:T:C T C 0.132606 ADD 0.0689153 0.0102364 44.9052 10.6844 \n",
      "1 58468970 1:58468970:G:T G T 0.218038 ADD 0.0606005 0.00760586 63.0138 14.6877 \n",
      "1 58506159 1:58506159:G:A G A 0.0686777 ADD 0.0846227 0.0150871 31.1268 7.6167 \n",
      "1 58506268 1:58506268:C:A C A 0.0675475 ADD 0.0862086 0.0151635 31.974 7.80618 \n",
      "1 58539307 1:58539307:C:T C T 0.2466 ADD 0.0607587 0.00701922 74.4039 17.1961 \n",
      "5 272741 5:272741:A:G A G 0.000730754 ADD 1.3423 0.148326 83.3895 19.1715 \n",
      "5 272748 5:272748:G:C G C 0.000610304 ADD 1.33381 0.162199 68.8173 15.9665 \n",
      "5 272755 5:272755:A:G A G 0.00077819 ADD 1.30036 0.143215 83.5229 19.2008 \n",
      "5 73773756 5:73773756:A:G A G 0.548568 ADD 0.0524823 0.00871943 36.2591 8.76257 \n",
      "5 73776529 5:73776529:T:C T C 0.467546 ADD 0.0514956 0.00867282 35.2447 8.53644 \n",
      "5 73780632 5:73780632:G:A G A 0.465594 ADD 0.0511833 0.00866646 34.8685 8.45255 \n",
      "5 73780649 5:73780649:D:1 GT G 0.472041 ADD 0.0524759 0.00877407 35.7618 8.65174 \n",
      "5 73780686 5:73780686:C:A C A 0.501747 ADD 0.0561281 0.00866665 41.9514 10.0289 \n",
      "5 73794340 5:73794340:I:3 A AGTT 0.519444 ADD 0.0536455 0.00863391 38.6232 9.28901 \n",
      "5 73794436 5:73794436:T:C T C 0.525102 ADD 0.0524905 0.00867174 36.6579 8.85143 \n",
      "5 73795301 5:73795301:T:A T A 0.479245 ADD 0.050319 0.00865905 33.7648 8.20624 \n",
      "5 73795403 5:73795403:C:T C T 0.479311 ADD 0.0494952 0.00865717 32.6825 7.96453 \n",
      "6 33189182 6:33189182:A:G A G 0.000138826 ADD 1.89741 0.364168 31.3608 7.66905 \n",
      "6 43301291 6:43301291:A:C A C 0.608184 ADD 0.0642934 0.00889483 52.3542 12.334 \n",
      "6 43302413 6:43302413:C:T C T 0.29373 ADD -0.0520451 0.00955062 29.7846 7.31622 \n",
      "6 43305866 6:43305866:A:G A G 0.608208 ADD 0.0641958 0.00889485 52.1948 12.2988 \n",
      "6 43308652 6:43308652:G:A G A 0.60825 ADD 0.0634645 0.00887844 51.2011 12.079 \n",
      "6 75362956 6:75362956:T:C T C 0.000146138 ADD 1.85378 0.350327 31.9158 7.79317 \n",
      "6 75841299 6:75841299:A:G A G 9.49862e-05 ADD 3.8865 0.862705 55.9198 13.1221 \n",
      "6 158071628 6:158071628:C:T C T 0.00541056 ADD 0.32104 0.0559261 31.9375 7.79801 \n",
      "8 86556416 8:86556416:T:G T G 0.182239 ADD 0.0534459 0.00842771 39.9398 9.58185 \n",
      "8 86558437 8:86558437:A:C A C 0.156703 ADD 0.0615681 0.00938904 42.6595 10.1861 \n",
      "8 86558500 8:86558500:C:T C T 0.153673 ADD 0.0616085 0.00939653 42.6421 10.1822 \n",
      "22 38086345 22:38086345:D:42 GTGCGGGAGCGGGACTGGCCATCCCAGTACTCCGAGGGTGCTA G 0.292271 ADD 0.0539385 0.00977336 30.379 7.44934 \n",
      "22 50549676 22:50549676:G:A G A 0.0433977 ADD 0.117595 0.0208264 31.4844 7.6967 \n",
      "\n"
     ]
    }
   ],
   "source": [
    "zcat /gpfs/gibbs/pi/dewan/data/UKBiobank/results/REGENIE_results/results_exome_data/f2247_f2257_combined_exomes/010421_UKBB_f2247_f2257_136862ind_exomes_f2247_f2257.regenie.snp_stats_original_columns.gz | grep -w -f /home/dc2325/scratch60/output/010421_UKBB_f2247_f2257_136862ind_exomes_f2247_f2257.regenie.snp_annotate"
   ]
  },
  {
   "cell_type": "code",
   "execution_count": 15,
   "metadata": {
    "kernel": "Bash"
   },
   "outputs": [
    {
     "name": "stdout",
     "output_type": "stream",
     "text": [
      "1\t33010786\tC\tT\t1:33010786:C:T\t-0.0857345\t0.0138235\t5.617072119932656e-10\n",
      "1\t46132597\tC\tA\t1:46132597:C:A\t-0.0488328\t0.00873003\t2.189424633100619e-08\n",
      "1\t58468867\tT\tC\t1:58468867:T:C\t0.101218\t0.0102299\t8.695608932545938e-23\n",
      "1\t58468874\tT\tC\t1:58468874:T:C\t0.102319\t0.0102172\t2.649720098878972e-23\n",
      "1\t58468970\tG\tT\t1:58468970:G:T\t0.0899816\t0.00759536\t4.891026321245926e-32\n",
      "1\t58480867\tC\tCT\t1:58480867:I:1\t0.16287\t0.0260437\t5.739446341647975e-10\n",
      "1\t58481189\tT\tG\t1:58481189:T:G\t0.133909\t0.0191164\t3.694026443582841e-12\n",
      "1\t58506159\tG\tA\t1:58506159:G:A\t0.120971\t0.0150604\t1.5721717924629402e-15\n",
      "1\t58506268\tC\tA\t1:58506268:C:A\t0.122957\t0.0151366\t7.608516731700462e-16\n",
      "1\t58530531\tT\tC\t1:58530531:T:C\t0.136704\t0.0198926\t9.444957325077047e-12\n",
      "1\t58539307\tC\tT\t1:58539307:C:T\t0.0893096\t0.0070114\t8.529037030705686e-37\n",
      "2\t168824768\tT\tTTTTGTTTGTTTG\t2:168824768:I:12\t0.114035\t0.0144865\t6.2230028516916016e-15\n",
      "2\t168824768\tT\tTTTTGTTTG\t2:168824768:I:8\t0.115116\t0.0162252\t2.0658557819227176e-12\n",
      "2\t168834219\tT\tC\t2:168834219:T:C\t0.104722\t0.0104785\t3.247880187635381e-23\n",
      "2\t178444438\tG\tA\t2:178444438:G:A\t0.115774\t0.017509\t4.489520924135667e-11\n",
      "4\t15985886\tT\tTTTAAG\t4:15985886:I:5\t-0.0534711\t0.00758595\t2.1203131167398476e-12\n",
      "5\t272741\tA\tG\t5:272741:A:G\t1.34759\t0.148009\t4.1860074795510237e-20\n",
      "5\t272748\tG\tC\t5:272748:G:C\t1.34021\t0.161839\t6.923090359218805e-17\n",
      "5\t272755\tA\tG\t5:272755:A:G\t1.30717\t0.142936\t3.5710834580834677e-20\n",
      "5\t73773756\tA\tG\t5:73773756:A:G\t0.0511675\t0.00871393\t4.245120280708712e-09\n",
      "5\t73776529\tT\tC\t5:73776529:T:C\t0.0502123\t0.00866672\t6.91894693840661e-09\n",
      "5\t73780632\tG\tA\t5:73780632:G:A\t0.0498001\t0.00866043\t8.95488473308542e-09\n",
      "5\t73780649\tGT\tG\t5:73780649:D:1\t0.0512098\t0.0087678\t5.219032484306944e-09\n",
      "5\t73780686\tC\tA\t5:73780686:C:A\t0.0550151\t0.00866052\t2.1107169610108964e-10\n",
      "5\t73794340\tA\tAGTT\t5:73794340:I:3\t0.0522494\t0.00862917\t1.3925795074124548e-09\n",
      "5\t73794436\tT\tC\t5:73794436:T:C\t0.0517413\t0.008666\t2.3421246235853855e-09\n",
      "5\t73795301\tT\tA\t5:73795301:T:A\t0.0493009\t0.0086534\t1.2199162039241853e-08\n",
      "5\t73795403\tC\tT\t5:73795403:C:T\t0.0485139\t0.00865162\t2.057074402438124e-08\n",
      "6\t33189182\tA\tG\t6:33189182:A:G\t1.88181\t0.361941\t2.278767411432953e-08\n",
      "6\t43301291\tA\tC\t6:43301291:A:C\t0.0637047\t0.00888919\t7.291216599950674e-13\n",
      "6\t43302413\tC\tT\t6:43302413:C:T\t-0.052543\t0.0095447\t3.522978558559756e-08\n",
      "6\t43305866\tA\tG\t6:43305866:A:G\t0.0636186\t0.00888932\t7.83429642766212e-13\n",
      "6\t43308652\tG\tA\t6:43308652:G:A\t0.0629045\t0.00887289\t1.2773208461131457e-12\n",
      "6\t75362956\tT\tC\t6:75362956:T:C\t1.88807\t0.349088\t7.856335111881613e-09\n",
      "6\t75841299\tA\tG\t6:75841299:A:G\t3.95585\t0.862531\t2.132062835811653e-14\n",
      "6\t105176946\tG\tC\t6:105176946:G:C\t-0.0802666\t0.0135699\t3.155367877615529e-09\n",
      "6\t105177042\tT\tA\t6:105177042:T:A\t-0.0448974\t0.00784951\t1.0485520652992576e-08\n",
      "6\t158071628\tC\tT\t6:158071628:C:T\t0.317394\t0.0559173\t2.2809197201347592e-08\n",
      "7\t100952295\tT\tG\t7:100952295:T:G\t0.130916\t0.0202453\t1.2676518658578449e-10\n",
      "8\t86556416\tT\tG\t8:86556416:T:G\t0.0960959\t0.00841609\t7.709034690644308e-30\n",
      "8\t86558437\tA\tC\t8:86558437:A:C\t0.106759\t0.0093752\t1.1923396878859652e-29\n",
      "8\t86558500\tC\tT\t8:86558500:C:T\t0.106813\t0.00938198\t1.2416523075924145e-29\n",
      "10\t7219707\tGA\tG\t10:7219707:D:1\t0.068446\t0.00940521\t4.012360995991899e-13\n",
      "10\t7219715\tA\tC\t10:7219715:A:C\t0.0568182\t0.00850433\t2.6472807400175658e-11\n",
      "10\t7219846\tT\tC\t10:7219846:T:C\t0.0958091\t0.0105947\t2.418800223147851e-19\n",
      "10\t7243670\tA\tG\t10:7243670:A:G\t0.064281\t0.00763672\t3.9627803425543855e-17\n",
      "10\t7276841\tT\tC\t10:7276841:T:C\t0.102264\t0.0105191\t4.614238090876452e-22\n",
      "10\t7277326\tC\tA\t10:7277326:C:A\t0.0977517\t0.0106803\t9.589589129147382e-20\n",
      "10\t7292138\tG\tA\t10:7292138:G:A\t0.0898602\t0.00764254\t1.3611312343313085e-31\n",
      "17\t41827392\tA\tC\t17:41827392:A:C\t0.0888675\t0.00849072\t2.3404534083285153e-25\n",
      "17\t41827556\tG\tC\t17:41827556:G:C\t0.0870815\t0.00850312\t2.3680997938738e-24\n",
      "17\t41827568\tG\tA\t17:41827568:G:A\t0.08532\t0.00849912\t1.8238957023196347e-23\n",
      "17\t41827597\tG\tC\t17:41827597:G:C\t0.0856938\t0.00852195\t1.5466783270971524e-23\n",
      "17\t44848191\tC\tT\t17:44848191:C:T\t0.0992509\t0.0093294\t4.1476299322992e-26\n",
      "19\t8914908\tT\tG\t19:8914908:T:G\t0.124965\t0.0206728\t1.8422136673381034e-09\n",
      "20\t62065249\tTGCCAGG\tT\t20:62065249:D:6\t-0.0625705\t0.00802124\t7.262731687606843e-15\n",
      "20\t62065259\tA\tG\t20:62065259:A:G\t0.0682101\t0.00819023\t1.0553584699686965e-16\n",
      "\n"
     ]
    }
   ],
   "source": [
    "zcat /gpfs/gibbs/pi/dewan/data/UKBiobank/results/REGENIE_results/results_exome_data/f2247_f2257_combined_exomes_bfile/010421_UKBB_f2247_f2257_136862ind_exomes_f2247_f2257.regenie.snp_stats.gz | grep -w -f /home/dc2325/scratch60/output/bfile_annovar/010421_UKBB_f2247_f2257_136862ind_exomes_f2247_f2257.regenie.snp_annotate"
   ]
  },
  {
   "cell_type": "code",
   "execution_count": 16,
   "metadata": {
    "kernel": "Bash"
   },
   "outputs": [
    {
     "name": "stdout",
     "output_type": "stream",
     "text": [
      "1 33010786 1:33010786:C:T C T 0.260525 ADD -0.0857345 0.0138235 38.4501 9.25049\n",
      "1 46132597 1:46132597:C:A C A 0.436179 ADD -0.0488328 0.00873003 31.3189 7.65967\n",
      "1 58468867 1:58468867:T:C T C 0.131799 ADD 0.101218 0.0102299 96.5514 22.0607\n",
      "1 58468874 1:58468874:T:C T C 0.132606 ADD 0.102319 0.0102172 98.9045 22.5768\n",
      "1 58468970 1:58468970:G:T G T 0.218038 ADD 0.0899816 0.00759536 138.792 31.3106\n",
      "1 58480867 1:58480867:I:1 C CT 0.0258005 ADD 0.16287 0.0260437 38.4081 9.24113\n",
      "1 58481189 1:58481189:T:G T G 0.0439355 ADD 0.133909 0.0191164 48.2804 11.4325\n",
      "1 58506159 1:58506159:G:A G A 0.0686777 ADD 0.120971 0.0150604 63.5392 14.8035\n",
      "1 58506268 1:58506268:C:A C A 0.0675475 ADD 0.122957 0.0151366 64.9689 15.1187\n",
      "1 58530531 1:58530531:T:C T C 0.0408165 ADD 0.136704 0.0198926 46.4402 11.0248\n",
      "1 58539307 1:58539307:C:T C T 0.2466 ADD 0.0893096 0.0070114 160.562 36.0691\n",
      "2 168824768 2:168824768:I:12 T TTTTGTTTGTTTG 0.0637661 ADD 0.114035 0.0144865 60.8299 14.206\n",
      "2 168824768 2:168824768:I:8 T TTTTGTTTG 0.0537156 ADD 0.115116 0.0162252 49.4206 11.6849\n",
      "2 168834219 2:168834219:T:C T C 0.128555 ADD 0.104722 0.0104785 98.5013 22.4884\n",
      "2 178444438 2:178444438:G:A G A 0.111364 ADD 0.115774 0.017509 43.3877 10.3478\n",
      "4 15985886 4:15985886:I:5 T TTTAAG 0.756398 ADD -0.0534711 0.00758595 49.3693 11.6736\n",
      "5 272741 5:272741:A:G A G 0.000730754 ADD 1.34759 0.148009 84.3305 19.3782\n",
      "5 272748 5:272748:G:C G C 0.000610304 ADD 1.34021 0.161839 69.6947 16.1597\n",
      "5 272755 5:272755:A:G A G 0.00077819 ADD 1.30717 0.142936 84.6447 19.4472\n",
      "5 73773756 5:73773756:A:G A G 0.548568 ADD 0.0511675 0.00871393 34.508 8.37211\n",
      "5 73776529 5:73776529:T:C T C 0.467546 ADD 0.0502123 0.00866672 33.5574 8.15996\n",
      "5 73780632 5:73780632:G:A G A 0.465594 ADD 0.0498001 0.00866043 33.0558 8.04794\n",
      "5 73780649 5:73780649:D:1 GT G 0.472041 ADD 0.0512098 0.0087678 34.106 8.28241\n",
      "5 73780686 5:73780686:C:A C A 0.501747 ADD 0.0550151 0.00866052 40.3614 9.67557\n",
      "5 73794340 5:73794340:I:3 A AGTT 0.519444 ADD 0.0522494 0.00862917 36.6792 8.85618\n",
      "5 73794436 5:73794436:T:C T C 0.525102 ADD 0.0517413 0.008666 35.6661 8.63039\n",
      "5 73795301 5:73795301:T:A T A 0.479245 ADD 0.0493009 0.0086534 32.4549 7.91367\n",
      "5 73795403 5:73795403:C:T C T 0.479311 ADD 0.0485139 0.00865162 31.4399 7.68675\n",
      "6 33189182 6:33189182:A:G A G 0.000138826 ADD 1.88181 0.361941 31.2412 7.6423\n",
      "6 43301291 6:43301291:A:C A C 0.608184 ADD 0.0637047 0.00888919 51.4641 12.1372\n",
      "6 43302413 6:43302413:C:T C T 0.29373 ADD -0.052543 0.0095447 30.3958 7.45309\n",
      "6 43305866 6:43305866:A:G A G 0.608208 ADD 0.0636186 0.00888932 51.3234 12.106\n",
      "6 43308652 6:43308652:G:A G A 0.60825 ADD 0.0629045 0.00887289 50.3638 11.8937\n",
      "6 75362956 6:75362956:T:C T C 0.000146138 ADD 1.88807 0.349088 33.3103 8.10478\n",
      "6 75841299 6:75841299:A:G A G 9.49862e-05 ADD 3.95585 0.862531 58.4065 13.6712\n",
      "6 105176946 6:105176946:G:C G C 0.22172 ADD -0.0802666 0.0135699 35.0855 8.50095\n",
      "6 105177042 6:105177042:T:A T A 0.453283 ADD -0.0448974 0.00784951 32.7491 7.97941\n",
      "6 158071628 6:158071628:C:T C T 0.00541056 ADD 0.317394 0.0559173 31.2394 7.64189\n",
      "7 100952295 7:100952295:T:G T G 0.0702225 ADD 0.130916 0.0202453 41.3578 9.897\n",
      "8 86556416 8:86556416:T:G T G 0.182239 ADD 0.0960959 0.00841609 128.746 29.113\n",
      "8 86558437 8:86558437:A:C A C 0.156703 ADD 0.106759 0.0093752 127.88 28.9236\n",
      "8 86558500 8:86558500:C:T C T 0.153673 ADD 0.106813 0.00938198 127.8 28.906\n",
      "10 7219707 10:7219707:D:1 GA G 0.246414 ADD 0.068446 0.00940521 52.6372 12.3966\n",
      "10 7219715 10:7219715:A:C A C 0.285 ADD 0.0568182 0.00850433 44.422 10.5772\n",
      "10 7219846 10:7219846:T:C T C 0.159374 ADD 0.0958091 0.0105947 80.8632 18.6164\n",
      "10 7243670 10:7243670:A:G A G 0.467484 ADD 0.064281 0.00763672 70.7953 16.402\n",
      "10 7276841 10:7276841:T:C T C 0.134403 ADD 0.102264 0.0105191 93.2477 21.3359\n",
      "10 7277326 10:7277326:C:A C A 0.132464 ADD 0.0977517 0.0106803 82.6917 19.0182\n",
      "10 7292138 10:7292138:G:A G A 0.227332 ADD 0.0898602 0.00764254 136.759 30.8661\n",
      "17 41827392 17:41827392:A:C A C 0.180995 ADD 0.0888675 0.00849072 108.274 24.6307\n",
      "17 41827556 17:41827556:G:C G C 0.182321 ADD 0.0870815 0.00850312 103.688 23.6256\n",
      "17 41827568 17:41827568:G:A G A 0.181578 ADD 0.08532 0.00849912 99.6441 22.739\n",
      "17 41827597 17:41827597:G:C G C 0.179859 ADD 0.0856938 0.00852195 99.9707 22.8106\n",
      "17 44848191 17:44848191:C:T C T 0.15692 ADD 0.0992509 0.0093294 111.704 25.3822\n",
      "19 8914908 19:8914908:T:G T G 0.0596876 ADD 0.124965 0.0206728 36.1338 8.73466\n",
      "20 62065249 20:62065249:D:6 TGCCAGG T 0.703313 ADD -0.0625705 0.00802124 60.5258 14.1389\n",
      "20 62065259 20:62065259:A:G A G 0.24641 ADD 0.0682101 0.00819023 68.8634 15.9766\n",
      "\n"
     ]
    }
   ],
   "source": [
    "zcat /gpfs/gibbs/pi/dewan/data/UKBiobank/results/REGENIE_results/results_exome_data/f2247_f2257_combined_exomes_bfile/010421_UKBB_f2247_f2257_136862ind_exomes_f2247_f2257.regenie.snp_stats_original_columns.gz | grep -w -f /home/dc2325/scratch60/output/bfile_annovar/010421_UKBB_f2247_f2257_136862ind_exomes_f2247_f2257.regenie.snp_annotate"
   ]
  },
  {
   "cell_type": "code",
   "execution_count": 24,
   "metadata": {
    "kernel": "Bash"
   },
   "outputs": [
    {
     "name": "stdout",
     "output_type": "stream",
     "text": [
      "rs1707304\n",
      "rs697591\n",
      "rs822062\n",
      "rs338240\n",
      "rs3087585\n",
      "rs11207245\n",
      "rs4704097\n",
      "rs7714670\n",
      "rs11949860\n",
      "rs6453022\n",
      "rs10683146\n",
      "rs7716253\n",
      "rs2973549\n",
      "rs2973548\n",
      "rs1574430\n",
      "rs2270860\n",
      "rs2242416\n",
      "rs2254303\n",
      "rs146694394\n",
      "rs2304787\n",
      "rs1062850\n",
      "rs1062851\n",
      "rs36062310\n",
      "\n"
     ]
    }
   ],
   "source": [
    "zcat /gpfs/gibbs/pi/dewan/data/UKBiobank/results/FastGWA_results/results_imputed_data/f2247_f2257_combined/200828_UKBB_f2247_f2257_f2247_f2257.fastGWA.snp_stats.gz | awk '{print $5}' | grep -w -f /home/dc2325/scratch60/output/010421_UKBB_f2247_f2257_136862ind_exomes_f2247_f2257.regenie.hg38_multianno.csv.hg38_multianno.snplist"
   ]
  },
  {
   "cell_type": "code",
   "execution_count": 20,
   "metadata": {
    "kernel": "Bash"
   },
   "outputs": [],
   "source": [
    "zcat /gpfs/gibbs/pi/dewan/data/UKBiobank/results/FastGWA_results/results_imputed_data/f2247_hearing_difficulty/200828_UKBB_Hearing_difficulty_f2247_hearing_diff_new.fastGWA.snp_stats.gz | awk '{print $5}' | grep -w -f /home/dc2325/scratch60/output/010421_UKBB_Hearing_difficulty_f2247_171970ind_exomes_hearing_diff_new.regenie.hg38_multianno.snplist \n",
    "\n",
    "zcat /gpfs/gibbs/pi/dewan/data/UKBiobank/results/FastGWA_results/results_imputed_data/f2257_hearing_background_noise/200828_UKBB_Hearing_background_noise_f2257_hearing_noise_cat.fastGWA.snp_stats.gz | awk '{print $5}' | grep -w -f /home/dc2325/scratch60/output/010421_UKBB_Hearing_background_noise_f2257_175531ind_exomes_hearing_noise_cat.regenie.hg38_multianno.snplist"
   ]
  },
  {
   "cell_type": "code",
   "execution_count": 25,
   "metadata": {
    "kernel": "Bash"
   },
   "outputs": [
    {
     "name": "stdout",
     "output_type": "stream",
     "text": [
      "\n"
     ]
    }
   ],
   "source": [
    "zcat /gpfs/gibbs/pi/dewan/data/UKBiobank/results/FastGWA_results/results_imputed_data/f3393_hearing_aid/200828_UKBB_Hearing_aid_f3393_hearing_aid_cat.fastGWA.snp_stats.gz | awk '{print $5}' | grep -w -f /home/dc2325/scratch60/output/010421_UKBB_Hearing_aid_f3393_128254ind_exomes_hearing_aid_cat.regenie.hg38_multianno.snplist"
   ]
  },
  {
   "cell_type": "markdown",
   "metadata": {
    "kernel": "Bash"
   },
   "source": [
    "### To get the snps from the csv file"
   ]
  },
  {
   "cell_type": "code",
   "execution_count": null,
   "metadata": {
    "kernel": "Bash"
   },
   "outputs": [],
   "source": [
    "cat 010421_UKBB_Hearing_difficulty_f2247_171970ind_exomes_hearing_diff_new.regenie.hg38_multianno.csv | awk -vFPAT='([^,]*)|(\"[^\"]+\")' -vOFS=, '{print $77}' | sed 's/\"//g' > 010421_UKBB_Hearing_difficulty_f2247_171970ind_exomes_hearing_diff_new.regenie.hg38_multianno.snplist\n"
   ]
  },
  {
   "cell_type": "code",
   "execution_count": null,
   "metadata": {
    "kernel": "Bash"
   },
   "outputs": [],
   "source": [
    "cat 010421_UKBB_Hearing_background_noise_f2257_175531ind_exomes_hearing_noise_cat.regenie.hg38_multianno.csv | awk -vFPAT='([^,]*)|(\"[^\"]+\")' -vOFS=, '{print $77}' | sed 's/\"//g' > 010421_UKBB_Hearing_background_noise_f2257_175531ind_exomes_hearing_noise_cat.regenie.hg38_multianno.snplist\n"
   ]
  },
  {
   "cell_type": "code",
   "execution_count": null,
   "metadata": {
    "kernel": "Bash"
   },
   "outputs": [],
   "source": [
    "cat 010421_UKBB_Hearing_aid_f3393_128254ind_exomes_hearing_aid_cat.regenie.hg38_multianno.csv | awk -vFPAT='([^,]*)|(\"[^\"]+\")' -vOFS=, '{print $77}' | sed 's/\"//g' > 010421_UKBB_Hearing_aid_f3393_128254ind_exomes_hearing_aid_cat.regenie.hg38_multianno.snplist"
   ]
  },
  {
   "cell_type": "code",
   "execution_count": null,
   "metadata": {
    "kernel": "Bash"
   },
   "outputs": [],
   "source": [
    "cat 010421_UKBB_Hearing_difficulty_f2247_171970ind_exomes_hearing_diff_new.regenie.hg38_multianno.csv | awk -vFPAT='([^,]*)|(\"[^\"]+\")' -vOFS=, '{print $77}' | sed 's/\"//g' > 010421_UKBB_Hearing_difficulty_f2247_171970ind_exomes_hearing_diff_new.regenie.hg38_multianno.snplist\n"
   ]
  }
 ],
 "metadata": {
  "kernelspec": {
   "display_name": "SoS",
   "language": "sos",
   "name": "sos"
  },
  "language_info": {
   "codemirror_mode": "sos",
   "file_extension": ".sos",
   "mimetype": "text/x-sos",
   "name": "sos",
   "nbconvert_exporter": "sos_notebook.converter.SoS_Exporter",
   "pygments_lexer": "sos"
  },
  "sos": {
   "kernels": [
    [
     "Bash",
     "calysto_bash",
     "Bash",
     "#E6EEFF",
     "shell"
    ],
    [
     "R",
     "ir",
     "R",
     "#DCDCDA",
     "r"
    ]
   ],
   "version": "0.22.6"
  }
 },
 "nbformat": 4,
 "nbformat_minor": 4
}
