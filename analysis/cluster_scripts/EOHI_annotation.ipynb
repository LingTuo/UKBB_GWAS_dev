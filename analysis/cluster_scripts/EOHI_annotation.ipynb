{
 "cells": [
  {
   "cell_type": "markdown",
   "metadata": {
    "kernel": "SoS"
   },
   "source": [
    "# Early onset hearing impairment annotation\n",
    "\n",
    "## Aim\n",
    "\n",
    "- Retrieve the variants in these specific genes from the results of exome and imputed data of hearing impairment traits. Only filter those variants with p-val < 0.05\n",
    "- To annotate the variants with a p-val < 0.005 from the summary statistics after running the LMM analysis for hearing impairment traits in order to compare results for Early onset hearing impairment\n",
    "\n",
    "## Description\n",
    "\n",
    "In the following cells you can find the scripts used for these particular annotations as well as some bash code used to select the variants in specific genes requested by Thashi. \n",
    "\n",
    "## Note\n",
    "\n",
    "For exome data hg38 reference was used\n",
    "\n",
    "For imputed data hg19 reference was used"
   ]
  },
  {
   "cell_type": "markdown",
   "metadata": {
    "kernel": "SoS"
   },
   "source": [
    "## Bash code for selecting variants in specific genes"
   ]
  },
  {
   "cell_type": "code",
   "execution_count": null,
   "metadata": {
    "kernel": "Bash"
   },
   "outputs": [],
   "source": [
    "##Coordinates for hg38 exome data\n",
    "#Chr2\t178815308\t179060137\n",
    "#Chr17\t36485636\t36545338\n",
    "#Chr7\t21533039\t21911839\n",
    "#Chr17\t72111020\t72136416\n",
    "#Chr2\t113205997\t113288921\n",
    "#Chr2\t130449455\t130519707\n",
    "#Chr9\t135692185\t135805502\n",
    "#Chr6\t168282830\t168329777\n",
    "#Chr2\t231443531\t231474484\n",
    "#Chr4\t142013160\t142856535\n",
    "\n",
    "cd /gpfs/gibbs/pi/dewan/data/UKBiobank/results/REGENIE_results/results_exome_data/\n",
    "cwd=/gpfs/gibbs/pi/dewan/data/UKBiobank/results/REGENIE_results/results_exome_data/\n",
    "for file in */*.snp_stats.gz; do\n",
    "    zcat $file | awk  -F'\\t' 'NR == 1 {print; next} {\n",
    "      flag=0; \n",
    "      for (i=1;i<=NF;i++) if ($1 == 2 && $2 > 178815308 && $2 < 179060137 && $8<0.05)  flag=1;\n",
    "      for (i=1;i<=NF;i++) if ($1 == 17 && $2 > 36485636 && $2 < 36545338 && $8<0.05)  flag=1; \n",
    "      for (i=1;i<=NF;i++) if ($1 == 7 && $2 > 21533039 && $2 < 21911839 && $8<0.05)  flag=1; \n",
    "      for (i=1;i<=NF;i++) if ($1 == 17 && $2 > 72111020 && $2 < 72136416 && $8<0.05)  flag=1;\n",
    "      for (i=1;i<=NF;i++) if ($1 == 2 && $2 > 113205997 && $2 < 113288921 && $8<0.05)  flag=1;\n",
    "      for (i=1;i<=NF;i++) if ($1 == 2 && $2 > 130449455 && $2 < 130519707 && $8<0.05)  flag=1;\n",
    "      for (i=1;i<=NF;i++) if ($1 == 9 && $2 > 135692185 && $2 < 135805502 && $8<0.05)  flag=1;\n",
    "      for (i=1;i<=NF;i++) if ($1 == 6 && $2 > 168282830 && $2 < 168329777 && $8<0.05) flag=1;\n",
    "      for (i=1;i<=NF;i++) if ($1 == 2 && $2 > 231443531 && $2 < 231474484 && $8<0.05) flag=1;\n",
    "      for (i=1;i<=NF;i++) if ($1 == 4 && $2 > 142013160 && $2 < 142856535 && $8<0.05) flag=1;\n",
    "      if (flag) print\n",
    "    }'  > ${cwd}/${file%%.*}.EOHI\n",
    "    gzip -c ${cwd}/${file%%.*}.EOHI > ${cwd}/${file%%.*}.EOHI.gz ;\n",
    "    done "
   ]
  },
  {
   "cell_type": "code",
   "execution_count": 27,
   "metadata": {
    "kernel": "Bash"
   },
   "outputs": [
    {
     "name": "stdout",
     "output_type": "stream",
     "text": [
      "\n"
     ]
    }
   ],
   "source": [
    "## Coordinates for hg19 imputed data\n",
    "#Chr2\t179684484\t179924864\n",
    "#Chr17\t34841480\t34900695\n",
    "#Chr7\t21572657\t21951457\n",
    "#Chr17\t70107161\t70132557\n",
    "#Chr2\t113963574\t114046498\n",
    "#Chr2\t131207028\t131277280\n",
    "#Chr9\t138584031\t138697348\n",
    "#Chr6\t168683510\t168730457\n",
    "#Chr2\t232308242\t232339195\n",
    "#Chr4\t142934313\t143777688\n",
    "cd /gpfs/gibbs/pi/dewan/data/UKBiobank/results/FastGWA_results/results_imputed_data/hearing_impairment\n",
    "cwd=/gpfs/gibbs/pi/dewan/data/UKBiobank/results/FastGWA_results/results_imputed_data/hearing_impairment\n",
    "for file in */*.snp_stats.gz; do\n",
    "    zcat $file | awk  -F'\\t' 'NR == 1 {print; next} {\n",
    "      flag=0; \n",
    "      for (i=1;i<=NF;i++) if ($1 == 2 && $2 > 179684484 && $2 < 179924864 && $8<0.05)  flag=1;\n",
    "      for (i=1;i<=NF;i++) if ($1 == 17 && $2 > 34841480 && $2 < 34900695 && $8<0.05)  flag=1; \n",
    "      for (i=1;i<=NF;i++) if ($1 == 7 && $2 >21572657 && $2 < 21951457 && $8<0.05)  flag=1; \n",
    "      for (i=1;i<=NF;i++) if ($1 == 17 && $2 > 70107161 && $2 < 70132557 && $8<0.05)  flag=1;\n",
    "      for (i=1;i<=NF;i++) if ($1 == 2 && $2 > 113963574 && $2 < 114046498 && $8<0.05)  flag=1;\n",
    "      for (i=1;i<=NF;i++) if ($1 == 2 && $2 > 131207028 && $2 < 131277280 && $8<0.05)  flag=1;\n",
    "      for (i=1;i<=NF;i++) if ($1 == 9 && $2 > 138584031 && $2 < 138697348 && $8<0.05)  flag=1;\n",
    "      for (i=1;i<=NF;i++) if ($1 == 6 && $2 > 168683510 && $2 < 168730457 && $8<0.05) flag=1;\n",
    "      for (i=1;i<=NF;i++) if ($1 == 2 && $2 > 232308242 && $2 < 232339195 && $8<0.05) flag=1;\n",
    "      for (i=1;i<=NF;i++) if ($1 == 4 && $2 > 142934313 && $2 < 143777688 && $8<0.05) flag=1;\n",
    "      if (flag) print\n",
    "    }' > ${cwd}/${file%%.*}.EOHI\n",
    "    gzip -c ${cwd}/${file%%.*}.EOHI > ${cwd}/${file%%.*}.EOHI.gz ;\n",
    "    done"
   ]
  },
  {
   "cell_type": "markdown",
   "metadata": {
    "kernel": "Bash"
   },
   "source": [
    "# Exome data"
   ]
  },
  {
   "cell_type": "markdown",
   "metadata": {
    "kernel": "SoS"
   },
   "source": [
    "## 1. f.3393: new phenotype with controls_na and UKBB exome non-qc data"
   ]
  },
  {
   "cell_type": "code",
   "execution_count": 54,
   "metadata": {
    "kernel": "Bash"
   },
   "outputs": [
    {
     "name": "stdout",
     "output_type": "stream",
     "text": [
      "INFO: Running \u001b[32mannovar_1\u001b[0m: Get the list of significantly associated SNPs\n",
      "INFO: \u001b[32mannovar_1\u001b[0m is \u001b[32mcompleted\u001b[0m.\n",
      "INFO: \u001b[32mannovar_1\u001b[0m output:   \u001b[32m/home/dc2325/scratch60/EOHI_thashi/f3393_hearing_aid_exomes200K_noqc_ctrl_na/062421_UKBB_Hearing_aid_f3393_expandedwhite_z974included_ctrl_na_104402ind_f3393_ctrl_na.snp_annotate\u001b[0m\n",
      "INFO: Running \u001b[32mannovar_2\u001b[0m: Get chr, start, end, ref_allele, alt_allele format\n",
      "INFO: \u001b[32mannovar_2\u001b[0m is \u001b[32mcompleted\u001b[0m.\n",
      "INFO: \u001b[32mannovar_2\u001b[0m output:   \u001b[32m/home/dc2325/scratch60/EOHI_thashi/f3393_hearing_aid_exomes200K_noqc_ctrl_na/062421_UKBB_Hearing_aid_f3393_expandedwhite_z974included_ctrl_na_104402ind_f3393_ctrl_na.avinput\u001b[0m\n",
      "INFO: Running \u001b[32mannovar_3\u001b[0m: Annotate variants file using ANNOVAR\n",
      "INFO: \u001b[32mannovar_3\u001b[0m is \u001b[32mcompleted\u001b[0m.\n",
      "INFO: \u001b[32mannovar_3\u001b[0m output:   \u001b[32m/home/dc2325/scratch60/EOHI_thashi/f3393_hearing_aid_exomes200K_noqc_ctrl_na/062421_UKBB_Hearing_aid_f3393_expandedwhite_z974included_ctrl_na_104402ind_f3393_ctrl_na.hg38_multianno.csv\u001b[0m\n",
      "INFO: Workflow annovar (ID=w6b77da79df79f634) is executed successfully with 3 completed steps.\n",
      "\n"
     ]
    }
   ],
   "source": [
    "UKBB_PATH=/gpfs/gibbs/pi/dewan/data/UKBiobank\n",
    "USER_PATH=/home/dc2325/project\n",
    "cwd=/home/dc2325/scratch60/EOHI_thashi/f3393_hearing_aid_exomes200K_noqc_ctrl_na\n",
    "sumstatsFile=$UKBB_PATH/results/REGENIE_results/results_exome_data/f3393_hearing_aid_exomes200K_noqc_ctrl_na/*.EOHI.gz\n",
    "hg=38\n",
    "job_size=1\n",
    "container_annovar=$UKBB_PATH/annovar.sif\n",
    "bimfiles=`echo /gpfs/gibbs/pi/dewan/data/UKBiobank/genotype_files/ukb28374_exomedata/exome_data_OCT2020/ukb23155_c{1..22}_b0_v1.bim`\n",
    "bim_name=/home/dc2325/project/results/exome_bim_merge/ukb23155_chr1_chr22.bim\n",
    "humandb=/gpfs/ysm/datasets/db/annovar/humandb\n",
    "p_filter=0.005\n",
    "sos run ~/project/UKBB_GWAS_dev/workflow/snptogene.ipynb annovar \\\n",
    "    --cwd $cwd \\\n",
    "    --sumstatsFile $sumstatsFile\\\n",
    "    --bim_name $bim_name \\\n",
    "    --bimfiles $bimfiles \\\n",
    "    --p_filter $p_filter \\\n",
    "    --hg $hg \\\n",
    "    --job_size $job_size \\\n",
    "    --humandb $humandb\\\n",
    "    --ukbb $UKBB_PATH \\\n",
    "    --container_annovar $container_annovar"
   ]
  },
  {
   "cell_type": "markdown",
   "metadata": {
    "kernel": "Bash"
   },
   "source": [
    "## 2. f.2247: new phenotype with controls_na and UKBB exome non-qc data"
   ]
  },
  {
   "cell_type": "code",
   "execution_count": 55,
   "metadata": {
    "kernel": "Bash"
   },
   "outputs": [
    {
     "name": "stdout",
     "output_type": "stream",
     "text": [
      "INFO: Running \u001b[32mannovar_1\u001b[0m: Get the list of significantly associated SNPs\n",
      "INFO: \u001b[32mannovar_1\u001b[0m is \u001b[32mcompleted\u001b[0m.\n",
      "INFO: \u001b[32mannovar_1\u001b[0m output:   \u001b[32m/home/dc2325/scratch60/EOHI_thashi/f2247_hearing_difficulty_exomes200K_noqc_ctrl_na/062421_UKBB_Hearing_difficulty_f2247_expandedwhite_z974included_ctrl_na_144952ind_f2247_ctrl_na.snp_annotate\u001b[0m\n",
      "INFO: Running \u001b[32mannovar_2\u001b[0m: Get chr, start, end, ref_allele, alt_allele format\n",
      "INFO: \u001b[32mannovar_2\u001b[0m is \u001b[32mcompleted\u001b[0m.\n",
      "INFO: \u001b[32mannovar_2\u001b[0m output:   \u001b[32m/home/dc2325/scratch60/EOHI_thashi/f2247_hearing_difficulty_exomes200K_noqc_ctrl_na/062421_UKBB_Hearing_difficulty_f2247_expandedwhite_z974included_ctrl_na_144952ind_f2247_ctrl_na.avinput\u001b[0m\n",
      "INFO: Running \u001b[32mannovar_3\u001b[0m: Annotate variants file using ANNOVAR\n",
      "INFO: \u001b[32mannovar_3\u001b[0m is \u001b[32mcompleted\u001b[0m.\n",
      "INFO: \u001b[32mannovar_3\u001b[0m output:   \u001b[32m/home/dc2325/scratch60/EOHI_thashi/f2247_hearing_difficulty_exomes200K_noqc_ctrl_na/062421_UKBB_Hearing_difficulty_f2247_expandedwhite_z974included_ctrl_na_144952ind_f2247_ctrl_na.hg38_multianno.csv\u001b[0m\n",
      "INFO: Workflow annovar (ID=wcc28cb3a1e8e6108) is executed successfully with 3 completed steps.\n",
      "\n"
     ]
    }
   ],
   "source": [
    "UKBB_PATH=/gpfs/gibbs/pi/dewan/data/UKBiobank\n",
    "USER_PATH=/home/dc2325/project\n",
    "cwd=/home/dc2325/scratch60/EOHI_thashi/f2247_hearing_difficulty_exomes200K_noqc_ctrl_na\n",
    "sumstatsFile=$UKBB_PATH/results/REGENIE_results/results_exome_data/f2247_hearing_difficulty_exomes200K_noqc_ctrl_na/*.EOHI.gz\n",
    "hg=38\n",
    "job_size=1\n",
    "container_annovar=$UKBB_PATH/annovar.sif\n",
    "bimfiles=`echo /gpfs/gibbs/pi/dewan/data/UKBiobank/genotype_files/ukb28374_exomedata/exome_data_OCT2020/ukb23155_c{1..22}_b0_v1.bim`\n",
    "bim_name=/home/dc2325/project/results/exome_bim_merge/ukb23155_chr1_chr22.bim\n",
    "humandb=/gpfs/ysm/datasets/db/annovar/humandb\n",
    "p_filter=0.005\n",
    "sos run ~/project/UKBB_GWAS_dev/workflow/snptogene.ipynb annovar \\\n",
    "    --cwd $cwd \\\n",
    "    --sumstatsFile $sumstatsFile\\\n",
    "    --bim_name $bim_name \\\n",
    "    --bimfiles $bimfiles \\\n",
    "    --p_filter $p_filter \\\n",
    "    --hg $hg \\\n",
    "    --job_size $job_size \\\n",
    "    --humandb $humandb\\\n",
    "    --ukbb $UKBB_PATH \\\n",
    "    --container_annovar $container_annovar"
   ]
  },
  {
   "cell_type": "markdown",
   "metadata": {
    "kernel": "Bash"
   },
   "source": [
    "## 3. f.2257: new phenotype with controls_na and UKBB exome non-qc data"
   ]
  },
  {
   "cell_type": "code",
   "execution_count": 56,
   "metadata": {
    "kernel": "Bash"
   },
   "outputs": [
    {
     "name": "stdout",
     "output_type": "stream",
     "text": [
      "INFO: Running \u001b[32mannovar_1\u001b[0m: Get the list of significantly associated SNPs\n",
      "INFO: \u001b[32mannovar_1\u001b[0m is \u001b[32mcompleted\u001b[0m.\n",
      "INFO: \u001b[32mannovar_1\u001b[0m output:   \u001b[32m/home/dc2325/scratch60/EOHI_thashi/f2257_hearing_noise_exomes200K_noqc_ctrl_na/062421_UKBB_Hearing_background_noise_f2257_expandedwhite_z974included_ctrl_na_166199ind_f2257_ctrl_na.snp_annotate\u001b[0m\n",
      "INFO: Running \u001b[32mannovar_2\u001b[0m: Get chr, start, end, ref_allele, alt_allele format\n",
      "INFO: \u001b[32mannovar_2\u001b[0m is \u001b[32mcompleted\u001b[0m.\n",
      "INFO: \u001b[32mannovar_2\u001b[0m output:   \u001b[32m/home/dc2325/scratch60/EOHI_thashi/f2257_hearing_noise_exomes200K_noqc_ctrl_na/062421_UKBB_Hearing_background_noise_f2257_expandedwhite_z974included_ctrl_na_166199ind_f2257_ctrl_na.avinput\u001b[0m\n",
      "INFO: Running \u001b[32mannovar_3\u001b[0m: Annotate variants file using ANNOVAR\n",
      "INFO: \u001b[32mannovar_3\u001b[0m is \u001b[32mcompleted\u001b[0m.\n",
      "INFO: \u001b[32mannovar_3\u001b[0m output:   \u001b[32m/home/dc2325/scratch60/EOHI_thashi/f2257_hearing_noise_exomes200K_noqc_ctrl_na/062421_UKBB_Hearing_background_noise_f2257_expandedwhite_z974included_ctrl_na_166199ind_f2257_ctrl_na.hg38_multianno.csv\u001b[0m\n",
      "INFO: Workflow annovar (ID=w051921d6d4819339) is executed successfully with 3 completed steps.\n",
      "\n"
     ]
    }
   ],
   "source": [
    "UKBB_PATH=/gpfs/gibbs/pi/dewan/data/UKBiobank\n",
    "USER_PATH=/home/dc2325/project\n",
    "cwd=/home/dc2325/scratch60/EOHI_thashi/f2257_hearing_noise_exomes200K_noqc_ctrl_na\n",
    "sumstatsFile=$UKBB_PATH/results/REGENIE_results/results_exome_data/f2257_hearing_noise_exomes200K_noqc_ctrl_na/*.EOHI.gz\n",
    "hg=38\n",
    "job_size=1\n",
    "container_annovar=$UKBB_PATH/annovar.sif\n",
    "bimfiles=`echo /gpfs/gibbs/pi/dewan/data/UKBiobank/genotype_files/ukb28374_exomedata/exome_data_OCT2020/ukb23155_c{1..22}_b0_v1.bim`\n",
    "bim_name=/home/dc2325/project/results/exome_bim_merge/ukb23155_chr1_chr22.bim\n",
    "humandb=/gpfs/ysm/datasets/db/annovar/humandb\n",
    "p_filter=0.005\n",
    "sos run ~/project/UKBB_GWAS_dev/workflow/snptogene.ipynb annovar \\\n",
    "    --cwd $cwd \\\n",
    "    --sumstatsFile $sumstatsFile\\\n",
    "    --bim_name $bim_name \\\n",
    "    --bimfiles $bimfiles \\\n",
    "    --p_filter $p_filter \\\n",
    "    --hg $hg \\\n",
    "    --job_size $job_size \\\n",
    "    --humandb $humandb\\\n",
    "    --ukbb $UKBB_PATH \\\n",
    "    --container_annovar $container_annovar"
   ]
  },
  {
   "cell_type": "markdown",
   "metadata": {
    "kernel": "Bash"
   },
   "source": [
    "## 4. f.2247 & f.2257: new phenotype with controls_na and UKBB exome non-qc data"
   ]
  },
  {
   "cell_type": "code",
   "execution_count": 57,
   "metadata": {
    "kernel": "Bash"
   },
   "outputs": [
    {
     "name": "stdout",
     "output_type": "stream",
     "text": [
      "INFO: Running \u001b[32mannovar_1\u001b[0m: Get the list of significantly associated SNPs\n",
      "INFO: \u001b[32mannovar_1\u001b[0m is \u001b[32mcompleted\u001b[0m.\n",
      "INFO: \u001b[32mannovar_1\u001b[0m output:   \u001b[32m/home/dc2325/scratch60/EOHI_thashi/f2247_f2257_exomes200K_noqc_ctrl_na/062421_UKBB_f2247_f2257_expandedwhite_z974included_ctrl_na_137245ind_f2247_f2257_ctrl_na.snp_annotate\u001b[0m\n",
      "INFO: Running \u001b[32mannovar_2\u001b[0m: Get chr, start, end, ref_allele, alt_allele format\n",
      "INFO: \u001b[32mannovar_2\u001b[0m is \u001b[32mcompleted\u001b[0m.\n",
      "INFO: \u001b[32mannovar_2\u001b[0m output:   \u001b[32m/home/dc2325/scratch60/EOHI_thashi/f2247_f2257_exomes200K_noqc_ctrl_na/062421_UKBB_f2247_f2257_expandedwhite_z974included_ctrl_na_137245ind_f2247_f2257_ctrl_na.avinput\u001b[0m\n",
      "INFO: Running \u001b[32mannovar_3\u001b[0m: Annotate variants file using ANNOVAR\n",
      "INFO: \u001b[32mannovar_3\u001b[0m is \u001b[32mcompleted\u001b[0m.\n",
      "INFO: \u001b[32mannovar_3\u001b[0m output:   \u001b[32m/home/dc2325/scratch60/EOHI_thashi/f2247_f2257_exomes200K_noqc_ctrl_na/062421_UKBB_f2247_f2257_expandedwhite_z974included_ctrl_na_137245ind_f2247_f2257_ctrl_na.hg38_multianno.csv\u001b[0m\n",
      "INFO: Workflow annovar (ID=w19b3884f17ac9dbc) is executed successfully with 3 completed steps.\n",
      "\n"
     ]
    }
   ],
   "source": [
    "UKBB_PATH=/gpfs/gibbs/pi/dewan/data/UKBiobank\n",
    "USER_PATH=/home/dc2325/project\n",
    "cwd=/home/dc2325/scratch60/EOHI_thashi/f2247_f2257_exomes200K_noqc_ctrl_na\n",
    "sumstatsFile=$UKBB_PATH/results/REGENIE_results/results_exome_data/f2247_f2257_exomes200K_noqc_ctrl_na/*.EOHI.gz\n",
    "hg=38\n",
    "job_size=1\n",
    "container_annovar=$UKBB_PATH/annovar.sif\n",
    "bimfiles=`echo /gpfs/gibbs/pi/dewan/data/UKBiobank/genotype_files/ukb28374_exomedata/exome_data_OCT2020/ukb23155_c{1..22}_b0_v1.bim`\n",
    "bim_name=/home/dc2325/project/results/exome_bim_merge/ukb23155_chr1_chr22.bim\n",
    "humandb=/gpfs/ysm/datasets/db/annovar/humandb\n",
    "p_filter=0.005\n",
    "sos run ~/project/UKBB_GWAS_dev/workflow/snptogene.ipynb annovar \\\n",
    "    --cwd $cwd \\\n",
    "    --sumstatsFile $sumstatsFile\\\n",
    "    --bim_name $bim_name \\\n",
    "    --bimfiles $bimfiles \\\n",
    "    --p_filter $p_filter \\\n",
    "    --hg $hg \\\n",
    "    --job_size $job_size \\\n",
    "    --humandb $humandb\\\n",
    "    --ukbb $UKBB_PATH \\\n",
    "    --container_annovar $container_annovar"
   ]
  },
  {
   "cell_type": "markdown",
   "metadata": {
    "kernel": "Bash"
   },
   "source": [
    "## 5. Tinnitus_p1"
   ]
  },
  {
   "cell_type": "code",
   "execution_count": 58,
   "metadata": {
    "kernel": "Bash"
   },
   "outputs": [
    {
     "name": "stdout",
     "output_type": "stream",
     "text": [
      "INFO: Running \u001b[32mannovar_1\u001b[0m: Get the list of significantly associated SNPs\n",
      "INFO: \u001b[32mannovar_1\u001b[0m is \u001b[32mcompleted\u001b[0m.\n",
      "INFO: \u001b[32mannovar_1\u001b[0m output:   \u001b[32m/home/dc2325/scratch60/EOHI_thashi/tinnitus_plan1_2_3/010421_UKBB_Tinnitus_plan1_2_3_f4803_exomes_tinnitus.snp_annotate\u001b[0m\n",
      "INFO: Running \u001b[32mannovar_2\u001b[0m: Get chr, start, end, ref_allele, alt_allele format\n",
      "INFO: \u001b[32mannovar_2\u001b[0m is \u001b[32mcompleted\u001b[0m.\n",
      "INFO: \u001b[32mannovar_2\u001b[0m output:   \u001b[32m/home/dc2325/scratch60/EOHI_thashi/tinnitus_plan1_2_3/010421_UKBB_Tinnitus_plan1_2_3_f4803_exomes_tinnitus.avinput\u001b[0m\n",
      "INFO: Running \u001b[32mannovar_3\u001b[0m: Annotate variants file using ANNOVAR\n",
      "INFO: \u001b[32mannovar_3\u001b[0m is \u001b[32mcompleted\u001b[0m.\n",
      "INFO: \u001b[32mannovar_3\u001b[0m output:   \u001b[32m/home/dc2325/scratch60/EOHI_thashi/tinnitus_plan1_2_3/010421_UKBB_Tinnitus_plan1_2_3_f4803_exomes_tinnitus.hg38_multianno.csv\u001b[0m\n",
      "INFO: Workflow annovar (ID=w64517985db2971a4) is executed successfully with 3 completed steps.\n",
      "\n"
     ]
    }
   ],
   "source": [
    "UKBB_PATH=/gpfs/gibbs/pi/dewan/data/UKBiobank\n",
    "USER_PATH=/home/dc2325/project\n",
    "cwd=/home/dc2325/scratch60/EOHI_thashi/tinnitus_plan1_2_3\n",
    "sumstatsFile=$UKBB_PATH/results/REGENIE_results/results_exome_data/tinnitus_plan1_2_3/010421_UKBB_Tinnitus_plan1_2_3_f4803_exomes_tinnitus.EOHI.gz\n",
    "hg=38\n",
    "job_size=1\n",
    "container_annovar=$UKBB_PATH/annovar.sif\n",
    "bimfiles=`echo /gpfs/gibbs/pi/dewan/data/UKBiobank/genotype_files/ukb28374_exomedata/exome_data_OCT2020/ukb23155_c{1..22}_b0_v1.bim`\n",
    "bim_name=/home/dc2325/project/results/exome_bim_merge/ukb23155_chr1_chr22.bim\n",
    "humandb=/gpfs/ysm/datasets/db/annovar/humandb\n",
    "p_filter=0.005\n",
    "sos run ~/project/UKBB_GWAS_dev/workflow/snptogene.ipynb annovar \\\n",
    "    --cwd $cwd \\\n",
    "    --sumstatsFile $sumstatsFile\\\n",
    "    --bim_name $bim_name \\\n",
    "    --bimfiles $bimfiles \\\n",
    "    --p_filter $p_filter \\\n",
    "    --hg $hg \\\n",
    "    --job_size $job_size \\\n",
    "    --humandb $humandb\\\n",
    "    --ukbb $UKBB_PATH \\\n",
    "    --container_annovar $container_annovar"
   ]
  },
  {
   "cell_type": "markdown",
   "metadata": {
    "kernel": "Bash"
   },
   "source": [
    "## 6. Tinnitus_p2"
   ]
  },
  {
   "cell_type": "code",
   "execution_count": 59,
   "metadata": {
    "kernel": "Bash"
   },
   "outputs": [
    {
     "name": "stdout",
     "output_type": "stream",
     "text": [
      "INFO: Running \u001b[32mannovar_1\u001b[0m: Get the list of significantly associated SNPs\n",
      "INFO: \u001b[32mannovar_1\u001b[0m is \u001b[32mcompleted\u001b[0m.\n",
      "INFO: \u001b[32mannovar_1\u001b[0m output:   \u001b[32m/home/dc2325/scratch60/EOHI_thashi/tinnitus_plan1_2_3/010421_UKBB_Tinnitus_plan1_2_3_f4803_exomes_tinnitus_p2.snp_annotate\u001b[0m\n",
      "INFO: Running \u001b[32mannovar_2\u001b[0m: Get chr, start, end, ref_allele, alt_allele format\n",
      "INFO: \u001b[32mannovar_2\u001b[0m is \u001b[32mcompleted\u001b[0m.\n",
      "INFO: \u001b[32mannovar_2\u001b[0m output:   \u001b[32m/home/dc2325/scratch60/EOHI_thashi/tinnitus_plan1_2_3/010421_UKBB_Tinnitus_plan1_2_3_f4803_exomes_tinnitus_p2.avinput\u001b[0m\n",
      "INFO: Running \u001b[32mannovar_3\u001b[0m: Annotate variants file using ANNOVAR\n",
      "INFO: \u001b[32mannovar_3\u001b[0m is \u001b[32mcompleted\u001b[0m.\n",
      "INFO: \u001b[32mannovar_3\u001b[0m output:   \u001b[32m/home/dc2325/scratch60/EOHI_thashi/tinnitus_plan1_2_3/010421_UKBB_Tinnitus_plan1_2_3_f4803_exomes_tinnitus_p2.hg38_multianno.csv\u001b[0m\n",
      "INFO: Workflow annovar (ID=wde925a43ff7c8e79) is executed successfully with 3 completed steps.\n",
      "\n"
     ]
    }
   ],
   "source": [
    "UKBB_PATH=/gpfs/gibbs/pi/dewan/data/UKBiobank\n",
    "USER_PATH=/home/dc2325/project\n",
    "cwd=/home/dc2325/scratch60/EOHI_thashi/tinnitus_plan1_2_3\n",
    "sumstatsFile=$UKBB_PATH/results/REGENIE_results/results_exome_data/tinnitus_plan1_2_3/010421_UKBB_Tinnitus_plan1_2_3_f4803_exomes_tinnitus_p2.EOHI.gz\n",
    "hg=38\n",
    "job_size=1\n",
    "container_annovar=$UKBB_PATH/annovar.sif\n",
    "bimfiles=`echo /gpfs/gibbs/pi/dewan/data/UKBiobank/genotype_files/ukb28374_exomedata/exome_data_OCT2020/ukb23155_c{1..22}_b0_v1.bim`\n",
    "bim_name=/home/dc2325/project/results/exome_bim_merge/ukb23155_chr1_chr22.bim\n",
    "humandb=/gpfs/ysm/datasets/db/annovar/humandb\n",
    "p_filter=0.005\n",
    "sos run ~/project/UKBB_GWAS_dev/workflow/snptogene.ipynb annovar \\\n",
    "    --cwd $cwd \\\n",
    "    --sumstatsFile $sumstatsFile\\\n",
    "    --bim_name $bim_name \\\n",
    "    --bimfiles $bimfiles \\\n",
    "    --p_filter $p_filter \\\n",
    "    --hg $hg \\\n",
    "    --job_size $job_size \\\n",
    "    --humandb $humandb\\\n",
    "    --ukbb $UKBB_PATH \\\n",
    "    --container_annovar $container_annovar"
   ]
  },
  {
   "cell_type": "markdown",
   "metadata": {
    "kernel": "Bash"
   },
   "source": [
    "## 7. Tinnitus_p3"
   ]
  },
  {
   "cell_type": "code",
   "execution_count": 60,
   "metadata": {
    "kernel": "Bash"
   },
   "outputs": [
    {
     "name": "stdout",
     "output_type": "stream",
     "text": [
      "INFO: Running \u001b[32mannovar_1\u001b[0m: Get the list of significantly associated SNPs\n",
      "INFO: \u001b[32mannovar_1\u001b[0m is \u001b[32mcompleted\u001b[0m.\n",
      "INFO: \u001b[32mannovar_1\u001b[0m output:   \u001b[32m/home/dc2325/scratch60/EOHI_thashi/tinnitus_plan1_2_3/010421_UKBB_Tinnitus_plan1_2_3_f4803_exomes_tinnitus_p3.snp_annotate\u001b[0m\n",
      "INFO: Running \u001b[32mannovar_2\u001b[0m: Get chr, start, end, ref_allele, alt_allele format\n",
      "INFO: \u001b[32mannovar_2\u001b[0m is \u001b[32mcompleted\u001b[0m.\n",
      "INFO: \u001b[32mannovar_2\u001b[0m output:   \u001b[32m/home/dc2325/scratch60/EOHI_thashi/tinnitus_plan1_2_3/010421_UKBB_Tinnitus_plan1_2_3_f4803_exomes_tinnitus_p3.avinput\u001b[0m\n",
      "INFO: Running \u001b[32mannovar_3\u001b[0m: Annotate variants file using ANNOVAR\n",
      "INFO: \u001b[32mannovar_3\u001b[0m is \u001b[32mcompleted\u001b[0m.\n",
      "INFO: \u001b[32mannovar_3\u001b[0m output:   \u001b[32m/home/dc2325/scratch60/EOHI_thashi/tinnitus_plan1_2_3/010421_UKBB_Tinnitus_plan1_2_3_f4803_exomes_tinnitus_p3.hg38_multianno.csv\u001b[0m\n",
      "INFO: Workflow annovar (ID=w501a7236685f5238) is executed successfully with 3 completed steps.\n",
      "\n"
     ]
    }
   ],
   "source": [
    "UKBB_PATH=/gpfs/gibbs/pi/dewan/data/UKBiobank\n",
    "USER_PATH=/home/dc2325/project\n",
    "cwd=/home/dc2325/scratch60/EOHI_thashi/tinnitus_plan1_2_3\n",
    "sumstatsFile=$UKBB_PATH/results/REGENIE_results/results_exome_data/tinnitus_plan1_2_3/010421_UKBB_Tinnitus_plan1_2_3_f4803_exomes_tinnitus_p3.EOHI.gz\n",
    "hg=38\n",
    "job_size=1\n",
    "container_annovar=$UKBB_PATH/annovar.sif\n",
    "bimfiles=`echo /gpfs/gibbs/pi/dewan/data/UKBiobank/genotype_files/ukb28374_exomedata/exome_data_OCT2020/ukb23155_c{1..22}_b0_v1.bim`\n",
    "bim_name=/home/dc2325/project/results/exome_bim_merge/ukb23155_chr1_chr22.bim\n",
    "humandb=/gpfs/ysm/datasets/db/annovar/humandb\n",
    "p_filter=0.005\n",
    "sos run ~/project/UKBB_GWAS_dev/workflow/snptogene.ipynb annovar \\\n",
    "    --cwd $cwd \\\n",
    "    --sumstatsFile $sumstatsFile\\\n",
    "    --bim_name $bim_name \\\n",
    "    --bimfiles $bimfiles \\\n",
    "    --p_filter $p_filter \\\n",
    "    --hg $hg \\\n",
    "    --job_size $job_size \\\n",
    "    --humandb $humandb\\\n",
    "    --ukbb $UKBB_PATH \\\n",
    "    --container_annovar $container_annovar"
   ]
  },
  {
   "cell_type": "markdown",
   "metadata": {
    "kernel": "Bash"
   },
   "source": [
    "# Imputed data"
   ]
  },
  {
   "cell_type": "code",
   "execution_count": 63,
   "metadata": {
    "kernel": "Bash"
   },
   "outputs": [
    {
     "name": "stdout",
     "output_type": "stream",
     "text": [
      "-rw-r--r-- 1 dc2325 dewan  9920 Jul 15 09:14 f20019_srt_int_left/200904_UKBB_SRT_int_left_cc_srt_int_left.EOHI.gz\n",
      "-rw-r--r-- 1 dc2325 dewan 10509 Jul 15 09:18 f20021_srt_int_right/200904_UKBB_SRT_int_right_cc_srt_int_right.EOHI.gz\n",
      "-rw-r--r-- 1 dc2325 dewan 15725 Jul 15 09:22 f2247_f2257_combined/200828_UKBB_f2247_f2257_f2247_f2257.EOHI.gz\n",
      "-rw-r--r-- 1 dc2325 dewan 15906 Jul 15 09:27 f2247_hearing_difficulty/200828_UKBB_Hearing_difficulty_f2247_hearing_diff_new.EOHI.gz\n",
      "-rw-r--r-- 1 dc2325 dewan 15920 Jul 15 09:31 f2247_hearing_difficulty_expandedwhite/120120_UKBB_Hearing_difficulty_f2247_expandedwhite_hearing_diff_new.EOHI.gz\n",
      "-rw-r--r-- 1 dc2325 dewan 12950 Jul 15 09:35 f2257_hearing_background_noise/200828_UKBB_Hearing_background_noise_f2257_hearing_noise_cat.EOHI.gz\n",
      "-rw-r--r-- 1 dc2325 dewan   110 Jul 15 09:41 f3393_hearing_aid/200828_UKBB_Hearing_aid_f3393_hearing_aid_cat.EOHI.gz\n",
      "-rw-r--r-- 1 dc2325 dewan 11182 Jul 15 09:46 srt_cat/200904_UKBB_SRT_cat_cc_srt_cat.EOHI.gz\n",
      "-rw-r--r-- 1 dc2325 dewan  7904 Jul 15 09:50 SRT_cat_35_65/200904_UKBB_SRT_cat_cc_35_65_srt_cat_35_65.EOHI.gz\n",
      "-rw-r--r-- 1 dc2325 dewan 10919 Jul 15 09:54 srt_int_best/200904_UKBB_SRT_int_best_cc_srt_int_best.EOHI.gz\n",
      "-rw-r--r-- 1 dc2325 dewan  9263 Jul 15 09:59 srt_int_worst/200904_UKBB_SRT_int_worst_cc_srt_int_worst.EOHI.gz\n",
      "-rw-r--r-- 1 dc2325 dewan 13709 Jul 15 10:04 tinnitus_082720/200811_UKBB_Tinnitus_plan1_2_3_f4803_tinnitus.EOHI.gz\n",
      "-rw-r--r-- 1 dc2325 dewan 20127 Jul 15 10:09 tinnitus_p2_082720/200811_UKBB_Tinnitus_plan1_2_3_f4803_tinnitus_p2.EOHI.gz\n",
      "-rw-r--r-- 1 dc2325 dewan 16135 Jul 15 10:13 tinnitus_p3_082720/200811_UKBB_Tinnitus_plan1_2_3_f4803_tinnitus_p3.EOHI.gz\n",
      "\n"
     ]
    }
   ],
   "source": [
    "cd /gpfs/gibbs/pi/dewan/data/UKBiobank/results/FastGWA_results/results_imputed_data/hearing_impairment\n",
    "ls -lrt */*.EOHI.gz"
   ]
  },
  {
   "cell_type": "markdown",
   "metadata": {
    "kernel": "Bash"
   },
   "source": [
    "## Get the variants in bim file format from the bgen format"
   ]
  },
  {
   "cell_type": "code",
   "execution_count": 6,
   "metadata": {
    "kernel": "Bash"
   },
   "outputs": [
    {
     "name": "stdout",
     "output_type": "stream",
     "text": [
      "INFO: Running \u001b[32mfarnam\u001b[0m: Configuration for Yale `farnam` cluster\n",
      "INFO: \u001b[32mfarnam\u001b[0m is \u001b[32mcompleted\u001b[0m.\n",
      "INFO: \u001b[32mfarnam\u001b[0m output:   \u001b[32m/home/dc2325/project/UKBB_GWAS_dev/output/2021-07-15_bgen_bim.sbatch\u001b[0m\n",
      "INFO: Workflow farnam (ID=w8e3c38dfe4d47887) is executed successfully with 1 completed step.\n",
      "\n"
     ]
    }
   ],
   "source": [
    "UKBB_PATH=/gpfs/gibbs/pi/dewan/data/UKBiobank\n",
    "USER_PATH=/home/dc2325/project\n",
    "tpl_file=$USER_PATH/UKBB_GWAS_dev/farnam.yml\n",
    "cwd=~/scratch60/bgen_to_bim\n",
    "genoFile=`echo $UKBB_PATH/genotype_files/ukb39554_imputeddataset/ukb_imp_chr{1..22}_v3.bgen`\n",
    "sampleFile=$UKBB_PATH/genotype_files/ukb39554_imputeddataset/ukb32285_imputedindiv.sample\n",
    "job_size=1\n",
    "numThreads=20\n",
    "container_lmm=$UKBB_PATH/lmm.sif\n",
    "bgen_bim_sos=$USER_PATH/UKBB_GWAS_dev/workflow/bgen_to_bim.ipynb \n",
    "bgen_bim_sbatch=$USER_PATH/UKBB_GWAS_dev/output/$(date +\"%Y-%m-%d\")_bgen_bim.sbatch\n",
    "\n",
    "bgen_args=\"\"\"\n",
    "    --cwd $cwd\n",
    "    --genoFile $genoFile\n",
    "    --sampleFile $sampleFile\n",
    "    --numThreads $numThreads \n",
    "    --job_size $job_size\n",
    "    --container_lmm $container_lmm\n",
    "\"\"\"\n",
    "\n",
    "sos run ~/project/bioworkflows/admin/Get_Job_Script.ipynb farnam \\\n",
    "    --template-file $tpl_file \\\n",
    "    --workflow-file $bgen_bim_sos \\\n",
    "    --to-script $bgen_bim_sbatch \\\n",
    "    --args \"$bgen_args\""
   ]
  },
  {
   "cell_type": "markdown",
   "metadata": {
    "kernel": "Bash"
   },
   "source": [
    "## 1. f20019_srt_int_left\n",
    "\n",
    "Require format changes since these are bgen files"
   ]
  },
  {
   "cell_type": "code",
   "execution_count": null,
   "metadata": {
    "kernel": "Bash"
   },
   "outputs": [],
   "source": [
    "UKBB_PATH=/gpfs/gibbs/pi/dewan/data/UKBiobank\n",
    "USER_PATH=/home/dc2325/project\n",
    "cwd=/home/dc2325/scratch60/EOHI_thashi/imputed_data/f20019_srt_int_left\n",
    "sumstatsFile=$UKBB_PATH/results/FastGWA_results/results_imputed_data/hearing_impairment/f20019_srt_int_left/200904_UKBB_SRT_int_left_cc_srt_int_left.fastGWA.snp_stats.gz\n",
    "hg=19\n",
    "job_size=1\n",
    "container_annovar=$UKBB_PATH/annovar.sif\n",
    "bimfiles=\n",
    "bim_name=/home/dc2325/project/results/exome_bim_merge/ukb23155_chr1_chr22.bim\n",
    "humandb=/gpfs/ysm/datasets/db/annovar/humandb\n",
    "p_filter=0.005\n",
    "\n",
    "sos run ~/project/UKBB_GWAS_dev/workflow/snptogene.ipynb annovar \\\n",
    "    --cwd $cwd \\\n",
    "    --sumstatsFile $sumstatsFile\\\n",
    "    --bim_name $bim_name \\\n",
    "    --bimfiles $bimfiles \\\n",
    "    --p_filter $p_filter \\\n",
    "    --hg $hg \\\n",
    "    --job_size $job_size \\\n",
    "    --humandb $humandb\\\n",
    "    --ukbb $UKBB_PATH \\\n",
    "    --container_annovar $container_annovar"
   ]
  }
 ],
 "metadata": {
  "kernelspec": {
   "display_name": "SoS",
   "language": "sos",
   "name": "sos"
  },
  "language_info": {
   "codemirror_mode": "sos",
   "file_extension": ".sos",
   "mimetype": "text/x-sos",
   "name": "sos",
   "nbconvert_exporter": "sos_notebook.converter.SoS_Exporter",
   "pygments_lexer": "sos"
  },
  "sos": {
   "kernels": [
    [
     "Bash",
     "calysto_bash",
     "Bash",
     "#E6EEFF",
     "shell"
    ],
    [
     "R",
     "ir",
     "R",
     "#DCDCDA",
     "r"
    ]
   ],
   "version": "0.21.21"
  }
 },
 "nbformat": 4,
 "nbformat_minor": 4
}
