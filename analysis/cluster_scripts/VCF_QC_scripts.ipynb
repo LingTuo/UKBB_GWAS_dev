{
 "cells": [
  {
   "cell_type": "markdown",
   "id": "precise-comment",
   "metadata": {
    "kernel": "SoS",
    "tags": []
   },
   "source": [
    "## Scripts for pVCF QC UKBB"
   ]
  },
  {
   "cell_type": "code",
   "execution_count": 3,
   "id": "driven-pacific",
   "metadata": {
    "kernel": "SoS"
   },
   "outputs": [],
   "source": [
    "# Common variables\n",
    "vcfs=/mnt/mfs/statgen/UKBiobank/data/exome_files/project_VCF/ukb23156_c22_*\n",
    "user_path=/home/dmc2245\n",
    "tpl_file=$user_path/project/bioworkflows/admin/csg.yml\n",
    "vcf_sos=$user_path/project/UKBB_GWAS_dev/workflow/VCF_QC_pipeline.ipynb\n",
    "\n",
    "# Directories\n",
    "vcf_output=/mnt/mfs/statgen/UKBiobank/data/exome_files/project_VCF/plink_files\n",
    "vcf_sbatch=../output/vcf_test_chr22_$(date +\"%Y-%m-%d\").sh\n",
    "ref_hg38=/home/dmc2245/software/GRCh38_reference_genome/GRCh38_full_analysis_set_plus_decoy_hla.fa\n",
    "\n",
    "#Variables for analysis\n",
    "\n",
    "DP_snp=7\n",
    "DP_indel=10\n",
    "GQ=20\n",
    "AB_snp=0.15\n",
    "AB_indel=0.2\n",
    "geno=0.1\n",
    "mind=0.1\n",
    "\n",
    "# Container\n",
    "container_lmm=/mnt/mfs/statgen/containers/lmm.sif\n",
    "container_marp=/mnt/mfs/statgen/containers/marp.sif"
   ]
  },
  {
   "cell_type": "code",
   "execution_count": 4,
   "id": "tested-objective",
   "metadata": {
    "kernel": "SoS"
   },
   "outputs": [
    {
     "name": "stdout",
     "output_type": "stream",
     "text": [
      "INFO: Running \u001b[32mcsg\u001b[0m: Configuration for Columbia csg partition cluster\n",
      "INFO: \u001b[32mcsg\u001b[0m is \u001b[32mcompleted\u001b[0m.\n",
      "INFO: \u001b[32mcsg\u001b[0m output:   \u001b[32m../output/vcf_test_chr22_2021-04-13.sh\u001b[0m\n",
      "INFO: Workflow csg (ID=wd1079ab666a1dfff) is executed successfully with 1 completed step.\n"
     ]
    }
   ],
   "source": [
    "vcf_args=\"\"\"qc\n",
    "    --cwd $vcf_output \\\n",
    "    --vcfs $vcfs \\\n",
    "    --ref_hg38 $ref_hg38 \\\n",
    "    --DP_snp $DP_snp \\\n",
    "    --DP_indel $DP_indel \\\n",
    "    --GQ $GQ \\\n",
    "    --AB_snp $AB_snp \\\n",
    "    --AB_indel $AB_indel \\\n",
    "    --geno $geno \\\n",
    "    --mind $mind \\\n",
    "    --maf $maf \\\n",
    "    --container_lmm $container_lmm\n",
    "\"\"\"\n",
    "\n",
    "sos run ~/project/bioworkflows/admin/Get_Job_Script.ipynb csg \\\n",
    "    --template-file $tpl_file \\\n",
    "    --workflow-file $vcf_sos \\\n",
    "    --to-script $vcf_sbatch \\\n",
    "    --args \"$vcf_args\""
   ]
  },
  {
   "cell_type": "code",
   "execution_count": null,
   "id": "unavailable-terminology",
   "metadata": {
    "kernel": "SoS"
   },
   "outputs": [],
   "source": []
  }
 ],
 "metadata": {
  "kernelspec": {
   "display_name": "Bash",
   "language": "bash",
   "name": "bash"
  },
  "language_info": {
   "codemirror_mode": "shell",
   "file_extension": ".sh",
   "mimetype": "text/x-sh",
   "name": "bash"
  },
  "sos": {
   "kernels": [
    [
     "SoS",
     "sos",
     "",
     ""
    ]
   ],
   "version": "0.22.4"
  }
 },
 "nbformat": 4,
 "nbformat_minor": 5
}
