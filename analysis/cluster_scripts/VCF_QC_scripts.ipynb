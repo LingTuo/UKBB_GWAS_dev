{
 "cells": [
  {
   "cell_type": "markdown",
   "id": "precise-comment",
   "metadata": {
    "kernel": "SoS",
    "tags": []
   },
   "source": [
    "## Scripts for pVCF QC UKBB"
   ]
  },
  {
   "cell_type": "code",
   "execution_count": 1,
   "id": "driven-pacific",
   "metadata": {
    "kernel": "SoS"
   },
   "outputs": [],
   "source": [
    "# Common variables\n",
    "vcfs=/mnt/mfs/statgen/UKBiobank/data/exome_files/project_VCF/ukb23156_c*\n",
    "user_path=/home/dmc2245\n",
    "tpl_file=$user_path/project/bioworkflows/admin/csg.yml\n",
    "vcf_sos=$user_path/project/UKBB_GWAS_dev/workflow/VCF_QC_pipeline.ipynb\n",
    "\n",
    "# Directories\n",
    "vcf_output=/mnt/mfs/statgen/UKBiobank/data/exome_files/project_VCF/plink_files\n",
    "vcf_sbatch=../output/vcf_all_chromosomes_qc_$(date +\"%Y-%m-%d\").sh\n",
    "ref_hg38=/home/dmc2245/software/GRCh38_reference_genome/GRCh38_full_analysis_set_plus_decoy_hla.fa\n",
    "\n",
    "#Variables for analysis\n",
    "\n",
    "DP_snp=7\n",
    "DP_indel=10\n",
    "GQ=20\n",
    "AB_snp=0.15\n",
    "AB_indel=0.2\n",
    "geno_filter=0.1\n",
    "mind_filter=0.1\n",
    "maf_filter=0.0\n",
    "\n",
    "# Container\n",
    "container_lmm=/mnt/mfs/statgen/containers/lmm.sif\n",
    "container_marp=/mnt/mfs/statgen/containers/marp.sif"
   ]
  },
  {
   "cell_type": "code",
   "execution_count": 2,
   "id": "tested-objective",
   "metadata": {
    "kernel": "SoS"
   },
   "outputs": [
    {
     "name": "stdout",
     "output_type": "stream",
     "text": [
      "INFO: Running \u001b[32mcsg\u001b[0m: Configuration for Columbia csg partition cluster\n",
      "INFO: \u001b[32mcsg\u001b[0m is \u001b[32mcompleted\u001b[0m.\n",
      "INFO: \u001b[32mcsg\u001b[0m output:   \u001b[32m../output/vcf_all_chromosomes_qc_2021-05-05.sh\u001b[0m\n",
      "INFO: Workflow csg (ID=w16bcb76fc7b630d9) is executed successfully with 1 completed step.\n"
     ]
    }
   ],
   "source": [
    "vcf_args=\"\"\"qc\n",
    "    --cwd $vcf_output \\\n",
    "    --vcfs $vcfs \\\n",
    "    --ref_hg38 $ref_hg38 \\\n",
    "    --DP_snp $DP_snp \\\n",
    "    --DP_indel $DP_indel \\\n",
    "    --GQ $GQ \\\n",
    "    --AB_snp $AB_snp \\\n",
    "    --AB_indel $AB_indel \\\n",
    "    --geno_filter $geno_filter \\\n",
    "    --mind_filter $mind_filter \\\n",
    "    --maf_filter $maf_filter \\\n",
    "    --container_lmm $container_lmm\n",
    "\"\"\"\n",
    "\n",
    "sos run ~/project/bioworkflows/admin/Get_Job_Script.ipynb csg \\\n",
    "    --template-file $tpl_file \\\n",
    "    --workflow-file $vcf_sos \\\n",
    "    --to-script $vcf_sbatch \\\n",
    "    --args \"$vcf_args\""
   ]
  },
  {
   "cell_type": "markdown",
   "id": "13da12fc-d16b-4d20-96fa-8facc10f0693",
   "metadata": {
    "kernel": "SoS"
   },
   "source": [
    "## Patch to change name "
   ]
  },
  {
   "cell_type": "code",
   "execution_count": 3,
   "id": "8cb1a068-8256-4849-a1b6-929afb7172d7",
   "metadata": {},
   "outputs": [
    {
     "name": "stdout",
     "output_type": "stream",
     "text": [
      "INFO: Running \u001b[32mcsg\u001b[0m: Configuration for Columbia csg partition cluster\n",
      "INFO: \u001b[32mcsg\u001b[0m is \u001b[32mcompleted\u001b[0m.\n",
      "INFO: \u001b[32mcsg\u001b[0m output:   \u001b[32m../output/rename_chr2_63_70_vcfs_2021-05-17.sh\u001b[0m\n",
      "INFO: Workflow csg (ID=we63ba3d399799dfd) is executed successfully with 1 completed step.\n"
     ]
    }
   ],
   "source": [
    "#chromosome 2: ukb23156_c2_b{0..57}_v1.leftnorm.filtered.vcf.gz \n",
    "#chromosome 2: ukb23156_c2_b{63..70}_v1.leftnorm.filtered.vcf.gz \n",
    "user_path=/home/dmc2245\n",
    "tpl_file=$user_path/project/bioworkflows/admin/csg.yml\n",
    "vcf_sos=$user_path/project/UKBB_GWAS_dev/workflow/patch_vcf_files.ipynb\n",
    "vcf_output=/mnt/mfs/statgen/UKBiobank/data/exome_files/project_VCF/plink_files/cache\n",
    "vcfs=/mnt/mfs/statgen/UKBiobank/data/exome_files/project_VCF/plink_files/cache/ukb23156_c2_b{63..70}_v1.leftnorm.filtered.vcf.gz\n",
    "samples_name=/mnt/mfs/statgen/UKBiobank/data/exome_files/project_VCF/plink_files/samples_to_rename_vcf.txt\n",
    "container_lmm=/mnt/mfs/statgen/containers/lmm.sif\n",
    "vcf_sbatch=../output/rename_chr2_63_70_vcfs_$(date +\"%Y-%m-%d\").sh\n",
    "\n",
    "vcf_args=\"\"\"reheader\n",
    "    --cwd $vcf_output \\\n",
    "    --vcfs $vcfs \\\n",
    "    --samples_name $samples_name \\\n",
    "    --container_lmm $container_lmm\n",
    "\"\"\"\n",
    "\n",
    "sos run ~/project/bioworkflows/admin/Get_Job_Script.ipynb csg \\\n",
    "    --template-file $tpl_file \\\n",
    "    --workflow-file $vcf_sos \\\n",
    "    --to-script $vcf_sbatch \\\n",
    "    --args \"$vcf_args\"\n"
   ]
  },
  {
   "cell_type": "code",
   "execution_count": 6,
   "id": "159068fc-c791-4d29-81ed-89874c827aba",
   "metadata": {},
   "outputs": [
    {
     "name": "stdout",
     "output_type": "stream",
     "text": [
      "INFO: Running \u001b[32mcsg\u001b[0m: Configuration for Columbia csg partition cluster\n",
      "INFO: \u001b[32mcsg\u001b[0m is \u001b[32mcompleted\u001b[0m.\n",
      "INFO: \u001b[32mcsg\u001b[0m output:   \u001b[32m../output/rename_chr20_9_vcfs_2021-05-17.sh\u001b[0m\n",
      "INFO: Workflow csg (ID=w2ae776a28d0c444d) is executed successfully with 1 completed step.\n"
     ]
    }
   ],
   "source": [
    "### Chromosome 20\n",
    "#chrosomome 20: ukb23156_c20_b{0..2}_v1.leftnorm.filtered.vcf.gz \n",
    "#chrosomome 20: ukb23156_c20_b{11..24}_v1.leftnorm.filtered.vcf.gz\n",
    "#chrosomome 20: ukb23156_c20_b4_v1.leftnorm.filtered.vcf.gz \n",
    "#chrosomome 20: ukb23156_c20_b9_v1.leftnorm.filtered.vcf.gz \n",
    "user_path=/home/dmc2245\n",
    "tpl_file=$user_path/project/bioworkflows/admin/csg.yml\n",
    "vcf_sos=$user_path/project/UKBB_GWAS_dev/workflow/patch_vcf_files.ipynb\n",
    "vcf_output=/mnt/mfs/statgen/UKBiobank/data/exome_files/project_VCF/plink_files/cache\n",
    "vcfs=/mnt/mfs/statgen/UKBiobank/data/exome_files/project_VCF/plink_files/cache/ukb23156_c20_b9_v1.leftnorm.filtered.vcf.gz\n",
    "samples_name=/mnt/mfs/statgen/UKBiobank/data/exome_files/project_VCF/plink_files/samples_to_rename_vcf.txt\n",
    "container_lmm=/mnt/mfs/statgen/containers/lmm.sif\n",
    "vcf_sbatch=../output/rename_chr20_9_vcfs_$(date +\"%Y-%m-%d\").sh\n",
    "\n",
    "vcf_args=\"\"\"reheader\n",
    "    --cwd $vcf_output \\\n",
    "    --vcfs $vcfs \\\n",
    "    --samples_name $samples_name \\\n",
    "    --container_lmm $container_lmm\n",
    "\"\"\"\n",
    "\n",
    "sos run ~/project/bioworkflows/admin/Get_Job_Script.ipynb csg \\\n",
    "    --template-file $tpl_file \\\n",
    "    --workflow-file $vcf_sos \\\n",
    "    --to-script $vcf_sbatch \\\n",
    "    --args \"$vcf_args\""
   ]
  },
  {
   "cell_type": "code",
   "execution_count": null,
   "id": "767bfebf-e1e9-4264-95e3-89997dc366f3",
   "metadata": {},
   "outputs": [],
   "source": []
  }
 ],
 "metadata": {
  "kernelspec": {
   "display_name": "Bash",
   "language": "bash",
   "name": "bash"
  },
  "language_info": {
   "codemirror_mode": "shell",
   "file_extension": ".sh",
   "mimetype": "text/x-sh",
   "name": "bash"
  },
  "sos": {
   "kernels": [
    [
     "SoS",
     "sos",
     "",
     ""
    ]
   ],
   "version": "0.22.4"
  }
 },
 "nbformat": 4,
 "nbformat_minor": 5
}
