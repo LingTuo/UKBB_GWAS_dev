{
 "cells": [
  {
   "cell_type": "markdown",
   "id": "precise-comment",
   "metadata": {
    "kernel": "SoS",
    "tags": []
   },
   "source": [
    "## Scripts for pVCF QC UKBB"
   ]
  },
  {
   "cell_type": "code",
   "execution_count": 1,
   "id": "driven-pacific",
   "metadata": {
    "kernel": "SoS"
   },
   "outputs": [],
   "source": [
    "# Common variables\n",
    "vcfs=/mnt/mfs/statgen/UKBiobank/data/exome_files/project_VCF/ukb23156_c*\n",
    "user_path=/home/dmc2245\n",
    "tpl_file=$user_path/project/bioworkflows/admin/csg.yml\n",
    "vcf_sos=$user_path/project/UKBB_GWAS_dev/workflow/VCF_QC_pipeline.ipynb\n",
    "\n",
    "# Directories\n",
    "vcf_output=/mnt/mfs/statgen/UKBiobank/data/exome_files/project_VCF/plink_files \n",
    "vcf_sbatch=../output/vcf_all_chromosomes_qc_$(date +\"%Y-%m-%d\").sh\n",
    "ref_hg38=/home/dmc2245/software/GRCh38_reference_genome/GRCh38_full_analysis_set_plus_decoy_hla.fa\n",
    "\n",
    "#Variables for analysis\n",
    "\n",
    "DP_snp=10\n",
    "DP_indel=10\n",
    "GQ=20\n",
    "AB_snp=0.15\n",
    "AB_indel=0.2\n",
    "\n",
    "# Plink filtering variables for first try located in /mnt/mfs/statgen/UKBiobank/data/exome_files/project_VCF/plink_files/plink_geno_mind\n",
    "#geno_filter=0.1\n",
    "#mind_filter=0.1\n",
    "#maf_filter=0.0\n",
    "\n",
    "# Plink filtering variables for second try located in /mnt/mfs/statgen/UKBiobank/data/exome_files/project_VCF/plink_files/\n",
    "geno_filter=0.1\n",
    "mind_filter=0.0\n",
    "maf_filter=0.0\n",
    "\n",
    "# Container\n",
    "container_lmm=/mnt/mfs/statgen/containers/lmm.sif\n",
    "container_marp=/mnt/mfs/statgen/containers/marp.sif"
   ]
  },
  {
   "cell_type": "markdown",
   "id": "8b427576-947e-45cc-a2b5-91531494d64d",
   "metadata": {},
   "source": [
    "## Pipeline including snps and indels"
   ]
  },
  {
   "cell_type": "code",
   "execution_count": 2,
   "id": "tested-objective",
   "metadata": {
    "kernel": "SoS"
   },
   "outputs": [
    {
     "name": "stdout",
     "output_type": "stream",
     "text": [
      "INFO: Running \u001b[32mcsg\u001b[0m: Configuration for Columbia csg partition cluster\n",
      "INFO: \u001b[32mcsg\u001b[0m is \u001b[32mcompleted\u001b[0m.\n",
      "INFO: \u001b[32mcsg\u001b[0m output:   \u001b[32m../output/vcf_all_chromosomes_qc_2021-05-20.sh\u001b[0m\n",
      "INFO: Workflow csg (ID=wa11eef0f3befea48) is executed successfully with 1 completed step.\n"
     ]
    }
   ],
   "source": [
    "vcf_args=\"\"\"qc\n",
    "    --cwd $vcf_output \\\n",
    "    --vcfs $vcfs \\\n",
    "    --ref_hg38 $ref_hg38 \\\n",
    "    --DP_snp $DP_snp \\\n",
    "    --DP_indel $DP_indel \\\n",
    "    --GQ $GQ \\\n",
    "    --AB_snp $AB_snp \\\n",
    "    --AB_indel $AB_indel \\\n",
    "    --geno_filter $geno_filter \\\n",
    "    --mind_filter $mind_filter \\\n",
    "    --maf_filter $maf_filter \\\n",
    "    --container_lmm $container_lmm\n",
    "\"\"\"\n",
    "\n",
    "sos run ~/project/bioworkflows/admin/Get_Job_Script.ipynb csg \\\n",
    "    --template-file $tpl_file \\\n",
    "    --workflow-file $vcf_sos \\\n",
    "    --to-script $vcf_sbatch \\\n",
    "    --args \"$vcf_args\""
   ]
  },
  {
   "cell_type": "markdown",
   "id": "fb077ee0-ccd6-45cb-a507-24f68b2fab0d",
   "metadata": {},
   "source": [
    "## Run 07/27/21 including spns and indels"
   ]
  },
  {
   "cell_type": "code",
   "execution_count": 14,
   "id": "6282056a-710c-41f5-a748-8cc9822206cb",
   "metadata": {},
   "outputs": [
    {
     "name": "stdout",
     "output_type": "stream",
     "text": [
      "INFO: Running \u001b[32mcsg\u001b[0m: Configuration for Columbia csg partition cluster\n",
      "INFO: \u001b[32mcsg\u001b[0m is \u001b[32mcompleted\u001b[0m.\n",
      "INFO: \u001b[32mcsg\u001b[0m output:   \u001b[32m../output/vcf_all_chromosomes_qc_2021-07-29.sh\u001b[0m\n",
      "INFO: Workflow csg (ID=we5349cf471e2992f) is executed successfully with 1 completed step.\n"
     ]
    }
   ],
   "source": [
    "vcfs=/mnt/mfs/statgen/UKBiobank/data/exome_files/project_VCF/ukb23156_c*\n",
    "user_path=/home/dmc2245\n",
    "tpl_file=$user_path/project/bioworkflows/admin/csg.yml\n",
    "vcf_sos=$user_path/project/UKBB_GWAS_dev/workflow/VCF_QC_pipeline.ipynb\n",
    "\n",
    "# Directories\n",
    "vcf_output=/mnt/mfs/statgen/UKBiobank/data/exome_files/project_VCF/072721_run\n",
    "vcf_sbatch=./../output/vcf_all_chromosomes_qc_$(date +\"%Y-%m-%d\").sh\n",
    "#vcf_sbatch=./../output/vcf_chr21_b0_qc_$(date +\"%Y-%m-%d\").sh\n",
    "ref_hg38=/home/dmc2245/software/GRCh38_reference_genome/GRCh38_full_analysis_set_plus_decoy_hla.fa\n",
    "\n",
    "#Variables for analysis\n",
    "\n",
    "DP_snp=10\n",
    "DP_indel=10\n",
    "GQ=20\n",
    "AB_snp=0.15\n",
    "AB_indel=0.2\n",
    "##Files for annotation of known/novel snps\n",
    "## Note: the tab file is created with the 1-based coordinate system that numbers nucleotides directly (https://www.biostars.org/p/84686/)\n",
    "anno_file=/mnt/mfs/statgen/UKBiobank/data/exome_files/project_VCF/dbSPN_hg38/00-All.renamechrs.indels_snps.tab.gz\n",
    "anno_header=/mnt/mfs/statgen/UKBiobank/data/exome_files/project_VCF/dbSPN_hg38/00-All.renamechrs.indels_snps.header.txt\n",
    "bins=\"0,5E-5\"\n",
    "\n",
    "# Plink filtering variables\n",
    "geno_filter=0.1\n",
    "mind_filter=0.0\n",
    "maf_filter=0.0\n",
    "\n",
    "# Container\n",
    "container_lmm=/mnt/mfs/statgen/containers/lmm.sif\n",
    "container_marp=/mnt/mfs/statgen/containers/marp.sif\n",
    "vcf_args=\"\"\"qc\n",
    "    --cwd $vcf_output \\\n",
    "    --vcfs $vcfs \\\n",
    "    --ref_hg38 $ref_hg38 \\\n",
    "    --DP_snp $DP_snp \\\n",
    "    --DP_indel $DP_indel \\\n",
    "    --GQ $GQ \\\n",
    "    --AB_snp $AB_snp \\\n",
    "    --AB_indel $AB_indel \\\n",
    "    --geno_filter $geno_filter \\\n",
    "    --mind_filter $mind_filter \\\n",
    "    --maf_filter $maf_filter \\\n",
    "    --anno_file $anno_file \\\n",
    "    --anno_header $anno_header \\\n",
    "    --bins $bins \\\n",
    "    --container_lmm $container_lmm\n",
    "\"\"\"\n",
    "\n",
    "sos run ~/project/UKBB_GWAS_dev/admin/Get_Job_Script.ipynb csg \\\n",
    "    --template-file $tpl_file \\\n",
    "    --workflow-file $vcf_sos \\\n",
    "    --to-script $vcf_sbatch \\\n",
    "    --args \"$vcf_args\""
   ]
  },
  {
   "cell_type": "markdown",
   "id": "183a6c87-8570-41c2-9b1d-2deb1308fa5a",
   "metadata": {},
   "source": [
    "## Test run with modified pipeline (stats at the end)"
   ]
  },
  {
   "cell_type": "code",
   "execution_count": 2,
   "id": "12917cdd-6498-45ba-9ed8-9c9966a164ae",
   "metadata": {},
   "outputs": [
    {
     "name": "stdout",
     "output_type": "stream",
     "text": [
      "INFO: Running \u001b[32mcsg\u001b[0m: Configuration for Columbia csg partition cluster\n",
      "INFO: \u001b[32mcsg\u001b[0m is \u001b[32mcompleted\u001b[0m.\n",
      "INFO: \u001b[32mcsg\u001b[0m output:   \u001b[32m../output/vcf_allchr_qc_2021-08-02.sh\u001b[0m\n",
      "INFO: Workflow csg (ID=w748b28473a86c84f) is executed successfully with 1 completed step.\n"
     ]
    }
   ],
   "source": [
    "user_path=/home/dmc2245\n",
    "tpl_file=$user_path/project/bioworkflows/admin/csg.yml\n",
    "vcf_sos=$user_path/project/UKBB_GWAS_dev/workflow/VCF_QC_pipeline.ipynb\n",
    "\n",
    "# Directories\n",
    "## Run for chr5_b12 as a test\n",
    "#vcfs=/mnt/mfs/statgen/UKBiobank/data/exome_files/project_VCF/ukb23156_c5_b12_v1.vcf.gz\n",
    "#vcf_output=/mnt/mfs/statgen/UKBiobank/data/exome_files/project_VCF/080221_testrun\n",
    "#vcf_sbatch=./../output/vcf_test_chr5b12_qc_$(date +\"%Y-%m-%d\").sh\n",
    "## Run for all chromosomes\n",
    "vcfs=/mnt/mfs/statgen/UKBiobank/data/exome_files/project_VCF/ukb23156_c*\n",
    "vcf_output=/mnt/mfs/statgen/UKBiobank/data/exome_files/project_VCF/072721_run\n",
    "vcf_sbatch=./../output/vcf_allchr_qc_$(date +\"%Y-%m-%d\").sh\n",
    "ref_hg38=/home/dmc2245/software/GRCh38_reference_genome/GRCh38_full_analysis_set_plus_decoy_hla.fa\n",
    "\n",
    "#Variables for analysis\n",
    "\n",
    "DP_snp=10\n",
    "DP_indel=10\n",
    "GQ=20\n",
    "AB_snp=0.15\n",
    "AB_indel=0.2\n",
    "##Files for annotation of known/novel snps\n",
    "## Note: the tab file is created with the 1-based coordinate system that numbers nucleotides directly (https://www.biostars.org/p/84686/)\n",
    "anno_file=/mnt/mfs/statgen/UKBiobank/data/exome_files/project_VCF/dbSPN_hg38/00-All.renamechrs.indels_snps.tab.gz\n",
    "anno_header=/mnt/mfs/statgen/UKBiobank/data/exome_files/project_VCF/dbSPN_hg38/00-All.renamechrs.indels_snps.header.txt\n",
    "bins=\"0,5E-5\"\n",
    "\n",
    "# Plink filtering variables\n",
    "geno_filter=0.1\n",
    "mind_filter=0.0\n",
    "maf_filter=0.0\n",
    "\n",
    "# Container\n",
    "container_lmm=/mnt/mfs/statgen/containers/lmm.sif\n",
    "container_marp=/mnt/mfs/statgen/containers/marp.sif\n",
    "vcf_args=\"\"\"qc\n",
    "    --cwd $vcf_output \\\n",
    "    --vcfs $vcfs \\\n",
    "    --ref_hg38 $ref_hg38 \\\n",
    "    --DP_snp $DP_snp \\\n",
    "    --DP_indel $DP_indel \\\n",
    "    --GQ $GQ \\\n",
    "    --AB_snp $AB_snp \\\n",
    "    --AB_indel $AB_indel \\\n",
    "    --geno_filter $geno_filter \\\n",
    "    --mind_filter $mind_filter \\\n",
    "    --maf_filter $maf_filter \\\n",
    "    --anno_file $anno_file \\\n",
    "    --anno_header $anno_header \\\n",
    "    --bins $bins \\\n",
    "    --container_lmm $container_lmm\n",
    "\"\"\"\n",
    "\n",
    "sos run ~/project/UKBB_GWAS_dev/admin/Get_Job_Script.ipynb csg \\\n",
    "    --template-file $tpl_file \\\n",
    "    --workflow-file $vcf_sos \\\n",
    "    --to-script $vcf_sbatch \\\n",
    "    --args \"$vcf_args\""
   ]
  },
  {
   "cell_type": "markdown",
   "id": "8e05af69-35fe-4ed7-9764-743f5cb38b9b",
   "metadata": {},
   "source": [
    "## dryrun"
   ]
  },
  {
   "cell_type": "code",
   "execution_count": null,
   "id": "7ea4458d-6786-4296-af67-abff8448e588",
   "metadata": {},
   "outputs": [
    {
     "name": "stdout",
     "output_type": "stream",
     "text": [
      "INFO: Running \u001b[32mqc_1\u001b[0m: Split multiallelic sites and create unique variant annotation\n"
     ]
    }
   ],
   "source": [
    "export PATH=$HOME/miniconda3/bin:$PATH\n",
    "module load Singularity/3.5.3\n",
    "sos run /home/dmc2245/project/UKBB_GWAS_dev/workflow/VCF_QC_pipeline.ipynb \\\n",
    "    qc:1\\\n",
    "    --cwd /mnt/mfs/statgen/UKBiobank/data/exome_files/project_VCF/testing_bcftools\\\n",
    "    --vcfs /mnt/mfs/statgen/UKBiobank/data/exome_files/project_VCF/testing_bcftools/chr3_mwe.subset_10samples.vcf.gz\\\n",
    "    --ref_hg38 /home/dmc2245/software/GRCh38_reference_genome/GRCh38_full_analysis_set_plus_decoy_hla.fa\\\n",
    "    --DP_snp 10\\\n",
    "    --DP_indel 10\\\n",
    "    --GQ 20\\\n",
    "    --AB_snp 0.15\\\n",
    "    --AB_indel 0.2\\\n",
    "    --geno_filter 0.1\\\n",
    "    --mind_filter 0.0\\\n",
    "    --maf_filter 0.0\\\n",
    "    --anno_file /mnt/mfs/statgen/UKBiobank/data/exome_files/project_VCF/dbSPN_hg38/00-All.renamechrs.indels_snps.tab.gz\\\n",
    "    --anno_header /mnt/mfs/statgen/UKBiobank/data/exome_files/project_VCF/dbSPN_hg38/00-All.renamechrs.indels_snps.header.txt\\\n",
    "    --bins 0,5e-05\\\n",
    "    --container_lmm /mnt/mfs/statgen/containers/lmm.sif"
   ]
  },
  {
   "cell_type": "markdown",
   "id": "41f9592b-b42c-4de9-88e0-9827649777c1",
   "metadata": {},
   "source": [
    "## Pipeline filtering only bi-allelic SNPs \n",
    "\n",
    "This is useful to calculate vcf stats more accurately. Specifically ti/tv ratio that gives weird results when including multiallelic variants"
   ]
  },
  {
   "cell_type": "code",
   "execution_count": 1,
   "id": "d7e330eb-9a31-40cf-b342-617181bf40aa",
   "metadata": {},
   "outputs": [
    {
     "name": "stdout",
     "output_type": "stream",
     "text": [
      "INFO: Running \u001b[32mcsg\u001b[0m: Configuration for Columbia csg partition cluster\n",
      "INFO: \u001b[32mcsg\u001b[0m is \u001b[32mcompleted\u001b[0m.\n",
      "INFO: \u001b[32mcsg\u001b[0m output:   \u001b[32m../output/vcf_all_chromosomes_qc_biallelic2021-06-21.sh\u001b[0m\n",
      "INFO: Workflow csg (ID=w0c1e53ecc6f61f78) is executed successfully with 1 completed step.\n"
     ]
    }
   ],
   "source": [
    "vcfs=/mnt/mfs/statgen/UKBiobank/data/exome_files/project_VCF/ukb23156_c*\n",
    "user_path=/home/dmc2245\n",
    "tpl_file=$user_path/project/bioworkflows/admin/csg.yml\n",
    "vcf_sos=$user_path/project/UKBB_GWAS_dev/workflow/VCF_QC_pipeline_biallelic.ipynb\n",
    "vcf_output=/mnt/mfs/statgen/UKBiobank/data/exome_files/project_VCF/biallelic_analysis\n",
    "vcf_sbatch=../output/vcf_all_chromosomes_qc_biallelic_$(date +\"%Y-%m-%d\").sh\n",
    "DP_snp=10\n",
    "GQ=20\n",
    "AB_snp=0.15\n",
    "geno_filter=0.1\n",
    "mind_filter=0.0\n",
    "maf_filter=0.0\n",
    "container_lmm=/mnt/mfs/statgen/containers/lmm.sif\n",
    "container_marp=/mnt/mfs/statgen/containers/marp.sif\n",
    "\n",
    "vcf_args=\"\"\"qc:1-2\n",
    "    --cwd $vcf_output \\\n",
    "    --vcfs $vcfs \\\n",
    "    --DP_snp $DP_snp \\\n",
    "    --GQ $GQ \\\n",
    "    --AB_snp $AB_snp \\\n",
    "    --geno_filter $geno_filter \\\n",
    "    --mind_filter $mind_filter \\\n",
    "    --maf_filter $maf_filter \\\n",
    "    --container_lmm $container_lmm\n",
    "\"\"\"\n",
    "\n",
    "sos run ~/project/bioworkflows/admin/Get_Job_Script.ipynb csg \\\n",
    "    --template-file $tpl_file \\\n",
    "    --workflow-file $vcf_sos \\\n",
    "    --to-script $vcf_sbatch \\\n",
    "    --args \"$vcf_args\""
   ]
  },
  {
   "cell_type": "markdown",
   "id": "ebd69552-a794-4d3e-9d0f-f6b5f64e5e53",
   "metadata": {},
   "source": [
    "## Test normal conditions with stats verbose mode and per sample counts"
   ]
  },
  {
   "cell_type": "code",
   "execution_count": 1,
   "id": "650c6a61-e951-457f-91b4-953b85d7151f",
   "metadata": {},
   "outputs": [
    {
     "name": "stdout",
     "output_type": "stream",
     "text": [
      "INFO: Running \u001b[32mcsg\u001b[0m: Configuration for Columbia csg partition cluster\n",
      "INFO: \u001b[32mcsg\u001b[0m is \u001b[32mcompleted\u001b[0m.\n",
      "INFO: \u001b[32mcsg\u001b[0m output:   \u001b[32m../output/test_verbose_titv_chr22_b0_2021-06-03.sh\u001b[0m\n",
      "INFO: Workflow csg (ID=w62c8f868f0750244) is executed successfully with 1 completed step.\n"
     ]
    }
   ],
   "source": [
    "# Common variables\n",
    "vcfs=/mnt/mfs/statgen/UKBiobank/data/exome_files/project_VCF/testing_bcftools/ukb23156_c22_b0_v1.vcf.gz\n",
    "user_path=/home/dmc2245\n",
    "tpl_file=$user_path/project/bioworkflows/admin/csg.yml\n",
    "vcf_sos=$user_path/project/UKBB_GWAS_dev/workflow/VCF_QC_pipeline.ipynb\n",
    "\n",
    "# Directories\n",
    "vcf_output=/mnt/mfs/statgen/UKBiobank/data/exome_files/project_VCF/testing_bcftools/verbose_stats\n",
    "vcf_sbatch=../output/test_verbose_titv_chr22_b0_$(date +\"%Y-%m-%d\").sh\n",
    "ref_hg38=/home/dmc2245/software/GRCh38_reference_genome/GRCh38_full_analysis_set_plus_decoy_hla.fa\n",
    "\n",
    "#Variables for analysis\n",
    "\n",
    "DP_snp=7\n",
    "DP_indel=10\n",
    "GQ=20\n",
    "AB_snp=0.15\n",
    "AB_indel=0.2\n",
    "\n",
    "# Plink filtering variables for second try located in /mnt/mfs/statgen/UKBiobank/data/exome_files/project_VCF/plink_files/\n",
    "geno_filter=0.1\n",
    "mind_filter=0.0\n",
    "maf_filter=0.0\n",
    "\n",
    "# Container\n",
    "container_lmm=/mnt/mfs/statgen/containers/lmm.sif\n",
    "container_marp=/mnt/mfs/statgen/containers/marp.sif\n",
    "\n",
    "vcf_args=\"\"\"qc:1-2\n",
    "    --cwd $vcf_output \\\n",
    "    --vcfs $vcfs \\\n",
    "    --ref_hg38 $ref_hg38 \\\n",
    "    --DP_snp $DP_snp \\\n",
    "    --DP_indel $DP_indel \\\n",
    "    --GQ $GQ \\\n",
    "    --AB_snp $AB_snp \\\n",
    "    --AB_indel $AB_indel \\\n",
    "    --geno_filter $geno_filter \\\n",
    "    --mind_filter $mind_filter \\\n",
    "    --maf_filter $maf_filter \\\n",
    "    --container_lmm $container_lmm\n",
    "\"\"\"\n",
    "\n",
    "sos run ~/project/bioworkflows/admin/Get_Job_Script.ipynb csg \\\n",
    "    --template-file $tpl_file \\\n",
    "    --workflow-file $vcf_sos \\\n",
    "    --to-script $vcf_sbatch \\\n",
    "    --args \"$vcf_args\""
   ]
  },
  {
   "cell_type": "markdown",
   "id": "5539fd6d-e61f-41e3-b7f2-c90d787a94d9",
   "metadata": {},
   "source": [
    "## Test scripts for ti/tv problem"
   ]
  },
  {
   "cell_type": "code",
   "execution_count": 1,
   "id": "bcd424a9-82dc-4231-a9d4-d51d23969e21",
   "metadata": {},
   "outputs": [
    {
     "name": "stdout",
     "output_type": "stream",
     "text": [
      "INFO: Running \u001b[32mcsg\u001b[0m: Configuration for Columbia csg partition cluster\n",
      "INFO: \u001b[32mcsg\u001b[0m is \u001b[32mcompleted\u001b[0m.\n",
      "INFO: \u001b[32mcsg\u001b[0m output:   \u001b[32m../output/test_titv_chr22_b0_2021-06-01.sh\u001b[0m\n",
      "INFO: Workflow csg (ID=w55bb966ff77a4c03) is executed successfully with 1 completed step.\n"
     ]
    }
   ],
   "source": [
    "# Common variables\n",
    "vcfs=/mnt/mfs/statgen/UKBiobank/data/exome_files/project_VCF/testing_bcftools/chr22_b0_test-intersect.vcf.gz\n",
    "user_path=/home/dmc2245\n",
    "tpl_file=$user_path/project/bioworkflows/admin/csg.yml\n",
    "vcf_sos=$user_path/project/UKBB_GWAS_dev/workflow/VCF_QC_pipeline.ipynb\n",
    "\n",
    "# Directories\n",
    "vcf_output=/mnt/mfs/statgen/UKBiobank/data/exome_files/project_VCF/testing_bcftools/\n",
    "vcf_sbatch=../output/test_titv_chr22_b0_$(date +\"%Y-%m-%d\").sh\n",
    "ref_hg38=/home/dmc2245/software/GRCh38_reference_genome/GRCh38_full_analysis_set_plus_decoy_hla.fa\n",
    "\n",
    "#Variables for analysis\n",
    "\n",
    "DP_snp=7\n",
    "DP_indel=10\n",
    "GQ=20\n",
    "AB_snp=0.15\n",
    "AB_indel=0.2\n",
    "\n",
    "# Plink filtering variables for second try located in /mnt/mfs/statgen/UKBiobank/data/exome_files/project_VCF/plink_files/\n",
    "geno_filter=0.1\n",
    "mind_filter=0.0\n",
    "maf_filter=0.0\n",
    "\n",
    "# Container\n",
    "container_lmm=/mnt/mfs/statgen/containers/lmm.sif\n",
    "container_marp=/mnt/mfs/statgen/containers/marp.sif\n",
    "\n",
    "vcf_args=\"\"\"qc:1-2\n",
    "    --cwd $vcf_output \\\n",
    "    --vcfs $vcfs \\\n",
    "    --ref_hg38 $ref_hg38 \\\n",
    "    --DP_snp $DP_snp \\\n",
    "    --DP_indel $DP_indel \\\n",
    "    --GQ $GQ \\\n",
    "    --AB_snp $AB_snp \\\n",
    "    --AB_indel $AB_indel \\\n",
    "    --geno_filter $geno_filter \\\n",
    "    --mind_filter $mind_filter \\\n",
    "    --maf_filter $maf_filter \\\n",
    "    --container_lmm $container_lmm\n",
    "\"\"\"\n",
    "\n",
    "sos run ~/project/bioworkflows/admin/Get_Job_Script.ipynb csg \\\n",
    "    --template-file $tpl_file \\\n",
    "    --workflow-file $vcf_sos \\\n",
    "    --to-script $vcf_sbatch \\\n",
    "    --args \"$vcf_args\""
   ]
  },
  {
   "cell_type": "markdown",
   "id": "a1481e36-2827-4b07-8a6c-4745ec33227b",
   "metadata": {},
   "source": [
    "## Apply harsh filtering"
   ]
  },
  {
   "cell_type": "code",
   "execution_count": 2,
   "id": "51a44a5b-e430-4d6d-a830-9f5621e6c04d",
   "metadata": {},
   "outputs": [
    {
     "name": "stdout",
     "output_type": "stream",
     "text": [
      "INFO: Running \u001b[32mcsg\u001b[0m: Configuration for Columbia csg partition cluster\n",
      "INFO: \u001b[32mcsg\u001b[0m is \u001b[32mcompleted\u001b[0m.\n",
      "INFO: \u001b[32mcsg\u001b[0m output:   \u001b[32m../output/harsh_test_titv_chr22_b0_2021-06-01.sh\u001b[0m\n",
      "INFO: Workflow csg (ID=w716ad32a92ca69dd) is executed successfully with 1 completed step.\n"
     ]
    }
   ],
   "source": [
    "# Common variables\n",
    "vcfs=/mnt/mfs/statgen/UKBiobank/data/exome_files/project_VCF/testing_bcftools/chr22_b0_test-intersect.vcf.gz\n",
    "user_path=/home/dmc2245\n",
    "tpl_file=$user_path/project/bioworkflows/admin/csg.yml\n",
    "vcf_sos=$user_path/project/UKBB_GWAS_dev/workflow/VCF_QC_pipeline.ipynb\n",
    "\n",
    "# Directories\n",
    "vcf_output=/mnt/mfs/statgen/UKBiobank/data/exome_files/project_VCF/testing_bcftools/harsh_filter\n",
    "vcf_sbatch=../output/harsh_test_titv_chr22_b0_$(date +\"%Y-%m-%d\").sh\n",
    "ref_hg38=/home/dmc2245/software/GRCh38_reference_genome/GRCh38_full_analysis_set_plus_decoy_hla.fa\n",
    "\n",
    "#Variables for analysis\n",
    "\n",
    "DP_snp=14\n",
    "DP_indel=20\n",
    "GQ=20\n",
    "AB_snp=0.15\n",
    "AB_indel=0.2\n",
    "\n",
    "# Plink filtering variables for second try located in /mnt/mfs/statgen/UKBiobank/data/exome_files/project_VCF/plink_files/\n",
    "geno_filter=0.1\n",
    "mind_filter=0.0\n",
    "maf_filter=0.0\n",
    "\n",
    "# Container\n",
    "container_lmm=/mnt/mfs/statgen/containers/lmm.sif\n",
    "container_marp=/mnt/mfs/statgen/containers/marp.sif\n",
    "\n",
    "vcf_args=\"\"\"qc:1-2\n",
    "    --cwd $vcf_output \\\n",
    "    --vcfs $vcfs \\\n",
    "    --ref_hg38 $ref_hg38 \\\n",
    "    --DP_snp $DP_snp \\\n",
    "    --DP_indel $DP_indel \\\n",
    "    --GQ $GQ \\\n",
    "    --AB_snp $AB_snp \\\n",
    "    --AB_indel $AB_indel \\\n",
    "    --geno_filter $geno_filter \\\n",
    "    --mind_filter $mind_filter \\\n",
    "    --maf_filter $maf_filter \\\n",
    "    --container_lmm $container_lmm\n",
    "\"\"\"\n",
    "\n",
    "sos run ~/project/bioworkflows/admin/Get_Job_Script.ipynb csg \\\n",
    "    --template-file $tpl_file \\\n",
    "    --workflow-file $vcf_sos \\\n",
    "    --to-script $vcf_sbatch \\\n",
    "    --args \"$vcf_args\""
   ]
  },
  {
   "cell_type": "markdown",
   "id": "ffede1f0-db40-481f-acb6-072d47b94635",
   "metadata": {},
   "source": [
    "## Use 150K (exclude those exomed with other capture array)"
   ]
  },
  {
   "cell_type": "code",
   "execution_count": 1,
   "id": "c57560f2-ea72-44e4-b4f7-d8b64f0c0c7b",
   "metadata": {},
   "outputs": [
    {
     "name": "stdout",
     "output_type": "stream",
     "text": [
      "INFO: Running \u001b[32mcsg\u001b[0m: Configuration for Columbia csg partition cluster\n",
      "INFO: \u001b[32mcsg\u001b[0m is \u001b[32mcompleted\u001b[0m.\n",
      "INFO: \u001b[32mcsg\u001b[0m output:   \u001b[32m../output/samples150k_test_titv_chr22_b0_2021-06-02.sh\u001b[0m\n",
      "INFO: Workflow csg (ID=w0e466be5a0bcb429) is executed successfully with 1 completed step.\n"
     ]
    }
   ],
   "source": [
    "# Common variables\n",
    "vcfs=/mnt/mfs/statgen/UKBiobank/data/exome_files/project_VCF/testing_bcftools/chr22_b0_test-intersect_50Kremoved.vcf.gz\n",
    "user_path=/home/dmc2245\n",
    "tpl_file=$user_path/project/bioworkflows/admin/csg.yml\n",
    "vcf_sos=$user_path/project/UKBB_GWAS_dev/workflow/VCF_QC_pipeline.ipynb\n",
    "\n",
    "# Directories\n",
    "vcf_output=/mnt/mfs/statgen/UKBiobank/data/exome_files/project_VCF/testing_bcftools/150K_samples\n",
    "vcf_sbatch=../output/samples150k_test_titv_chr22_b0_$(date +\"%Y-%m-%d\").sh\n",
    "ref_hg38=/home/dmc2245/software/GRCh38_reference_genome/GRCh38_full_analysis_set_plus_decoy_hla.fa\n",
    "\n",
    "#Variables for analysis\n",
    "\n",
    "DP_snp=7\n",
    "DP_indel=10\n",
    "GQ=20\n",
    "AB_snp=0.15\n",
    "AB_indel=0.2\n",
    "\n",
    "# Plink filtering variables for second try located in /mnt/mfs/statgen/UKBiobank/data/exome_files/project_VCF/plink_files/\n",
    "geno_filter=0.1\n",
    "mind_filter=0.0\n",
    "maf_filter=0.0\n",
    "\n",
    "# Container\n",
    "container_lmm=/mnt/mfs/statgen/containers/lmm.sif\n",
    "container_marp=/mnt/mfs/statgen/containers/marp.sif\n",
    "\n",
    "vcf_args=\"\"\"qc:1-2\n",
    "    --cwd $vcf_output \\\n",
    "    --vcfs $vcfs \\\n",
    "    --ref_hg38 $ref_hg38 \\\n",
    "    --DP_snp $DP_snp \\\n",
    "    --DP_indel $DP_indel \\\n",
    "    --GQ $GQ \\\n",
    "    --AB_snp $AB_snp \\\n",
    "    --AB_indel $AB_indel \\\n",
    "    --geno_filter $geno_filter \\\n",
    "    --mind_filter $mind_filter \\\n",
    "    --maf_filter $maf_filter \\\n",
    "    --container_lmm $container_lmm\n",
    "\"\"\"\n",
    "\n",
    "sos run ~/project/bioworkflows/admin/Get_Job_Script.ipynb csg \\\n",
    "    --template-file $tpl_file \\\n",
    "    --workflow-file $vcf_sos \\\n",
    "    --to-script $vcf_sbatch \\\n",
    "    --args \"$vcf_args\""
   ]
  },
  {
   "cell_type": "markdown",
   "id": "6dbf08fb-71f2-4586-8d63-84dba2e2abb6",
   "metadata": {},
   "source": [
    "## Separate snps from indels using new pipeline"
   ]
  },
  {
   "cell_type": "code",
   "execution_count": null,
   "id": "d4ac8eb6-bc68-44b6-89f7-d654beeddbf7",
   "metadata": {},
   "outputs": [],
   "source": [
    "# Common variables\n",
    "vcfs=/mnt/mfs/statgen/UKBiobank/data/exome_files/project_VCF/testing_bcftools/chr22_b0_test-intersect_50Kremoved.vcf.gz\n",
    "user_path=/home/dmc2245\n",
    "tpl_file=$user_path/project/bioworkflows/admin/csg.yml\n",
    "vcf_sos=$user_path/project/UKBB_GWAS_dev/workflow/VCF_QC_pipeline.ipynb\n",
    "\n",
    "# Directories\n",
    "vcf_output=/mnt/mfs/statgen/UKBiobank/data/exome_files/project_VCF/testing_bcftools/snps_indels\n",
    "vcf_sbatch=../output/samples150k_snps_indels_test_titv_chr22_b0_$(date +\"%Y-%m-%d\").sh\n",
    "ref_hg38=/home/dmc2245/software/GRCh38_reference_genome/GRCh38_full_analysis_set_plus_decoy_hla.fa\n",
    "\n",
    "#Variables for analysis\n",
    "\n",
    "DP_snp=7\n",
    "DP_indel=10\n",
    "GQ=20\n",
    "AB_snp=0.15\n",
    "AB_indel=0.2\n",
    "\n",
    "# Plink filtering variables for second try located in /mnt/mfs/statgen/UKBiobank/data/exome_files/project_VCF/plink_files/\n",
    "geno_filter=0.1\n",
    "mind_filter=0.0\n",
    "maf_filter=0.0\n",
    "\n",
    "# Container\n",
    "container_lmm=/mnt/mfs/statgen/containers/lmm.sif\n",
    "container_marp=/mnt/mfs/statgen/containers/marp.sif\n",
    "\n",
    "vcf_args=\"\"\"qc:1-2\n",
    "    --cwd $vcf_output \\\n",
    "    --vcfs $vcfs \\\n",
    "    --ref_hg38 $ref_hg38 \\\n",
    "    --DP_snp $DP_snp \\\n",
    "    --DP_indel $DP_indel \\\n",
    "    --GQ $GQ \\\n",
    "    --AB_snp $AB_snp \\\n",
    "    --AB_indel $AB_indel \\\n",
    "    --geno_filter $geno_filter \\\n",
    "    --mind_filter $mind_filter \\\n",
    "    --maf_filter $maf_filter \\\n",
    "    --container_lmm $container_lmm\n",
    "\"\"\"\n",
    "\n",
    "sos run ~/project/bioworkflows/admin/Get_Job_Script.ipynb csg \\\n",
    "    --template-file $tpl_file \\\n",
    "    --workflow-file $vcf_sos \\\n",
    "    --to-script $vcf_sbatch \\\n",
    "    --args \"$vcf_args\""
   ]
  },
  {
   "cell_type": "markdown",
   "id": "13da12fc-d16b-4d20-96fa-8facc10f0693",
   "metadata": {
    "kernel": "SoS"
   },
   "source": [
    "## Patch to change name using bcftools"
   ]
  },
  {
   "cell_type": "code",
   "execution_count": 3,
   "id": "8cb1a068-8256-4849-a1b6-929afb7172d7",
   "metadata": {},
   "outputs": [
    {
     "name": "stdout",
     "output_type": "stream",
     "text": [
      "INFO: Running \u001b[32mcsg\u001b[0m: Configuration for Columbia csg partition cluster\n",
      "INFO: \u001b[32mcsg\u001b[0m is \u001b[32mcompleted\u001b[0m.\n",
      "INFO: \u001b[32mcsg\u001b[0m output:   \u001b[32m../output/rename_chr2_63_70_vcfs_2021-05-17.sh\u001b[0m\n",
      "INFO: Workflow csg (ID=we63ba3d399799dfd) is executed successfully with 1 completed step.\n"
     ]
    }
   ],
   "source": [
    "#chromosome 2: ukb23156_c2_b{0..57}_v1.leftnorm.filtered.vcf.gz \n",
    "#chromosome 2: ukb23156_c2_b{63..70}_v1.leftnorm.filtered.vcf.gz \n",
    "user_path=/home/dmc2245\n",
    "tpl_file=$user_path/project/bioworkflows/admin/csg.yml\n",
    "vcf_sos=$user_path/project/UKBB_GWAS_dev/workflow/patch_vcf_files.ipynb\n",
    "vcf_output=/mnt/mfs/statgen/UKBiobank/data/exome_files/project_VCF/plink_files/cache\n",
    "vcfs=/mnt/mfs/statgen/UKBiobank/data/exome_files/project_VCF/plink_files/cache/ukb23156_c2_b{63..70}_v1.leftnorm.filtered.vcf.gz\n",
    "samples_name=/mnt/mfs/statgen/UKBiobank/data/exome_files/project_VCF/plink_files/samples_to_rename_vcf.txt\n",
    "container_lmm=/mnt/mfs/statgen/containers/lmm.sif\n",
    "vcf_sbatch=../output/rename_chr2_63_70_vcfs_$(date +\"%Y-%m-%d\").sh\n",
    "\n",
    "vcf_args=\"\"\"reheader\n",
    "    --cwd $vcf_output \\\n",
    "    --vcfs $vcfs \\\n",
    "    --samples_name $samples_name \\\n",
    "    --container_lmm $container_lmm\n",
    "\"\"\"\n",
    "\n",
    "sos run ~/project/bioworkflows/admin/Get_Job_Script.ipynb csg \\\n",
    "    --template-file $tpl_file \\\n",
    "    --workflow-file $vcf_sos \\\n",
    "    --to-script $vcf_sbatch \\\n",
    "    --args \"$vcf_args\"\n"
   ]
  },
  {
   "cell_type": "code",
   "execution_count": 6,
   "id": "159068fc-c791-4d29-81ed-89874c827aba",
   "metadata": {},
   "outputs": [
    {
     "name": "stdout",
     "output_type": "stream",
     "text": [
      "INFO: Running \u001b[32mcsg\u001b[0m: Configuration for Columbia csg partition cluster\n",
      "INFO: \u001b[32mcsg\u001b[0m is \u001b[32mcompleted\u001b[0m.\n",
      "INFO: \u001b[32mcsg\u001b[0m output:   \u001b[32m../output/rename_chr20_9_vcfs_2021-05-17.sh\u001b[0m\n",
      "INFO: Workflow csg (ID=w2ae776a28d0c444d) is executed successfully with 1 completed step.\n"
     ]
    }
   ],
   "source": [
    "### Chromosome 20\n",
    "#chrosomome 20: ukb23156_c20_b{0..2}_v1.leftnorm.filtered.vcf.gz \n",
    "#chrosomome 20: ukb23156_c20_b{11..24}_v1.leftnorm.filtered.vcf.gz\n",
    "#chrosomome 20: ukb23156_c20_b4_v1.leftnorm.filtered.vcf.gz \n",
    "#chrosomome 20: ukb23156_c20_b9_v1.leftnorm.filtered.vcf.gz \n",
    "user_path=/home/dmc2245\n",
    "tpl_file=$user_path/project/bioworkflows/admin/csg.yml\n",
    "vcf_sos=$user_path/project/UKBB_GWAS_dev/workflow/patch_vcf_files.ipynb\n",
    "vcf_output=/mnt/mfs/statgen/UKBiobank/data/exome_files/project_VCF/plink_files/cache\n",
    "vcfs=/mnt/mfs/statgen/UKBiobank/data/exome_files/project_VCF/plink_files/cache/ukb23156_c20_b9_v1.leftnorm.filtered.vcf.gz\n",
    "samples_name=/mnt/mfs/statgen/UKBiobank/data/exome_files/project_VCF/plink_files/samples_to_rename_vcf.txt\n",
    "container_lmm=/mnt/mfs/statgen/containers/lmm.sif\n",
    "vcf_sbatch=../output/rename_chr20_9_vcfs_$(date +\"%Y-%m-%d\").sh\n",
    "\n",
    "vcf_args=\"\"\"reheader\n",
    "    --cwd $vcf_output \\\n",
    "    --vcfs $vcfs \\\n",
    "    --samples_name $samples_name \\\n",
    "    --container_lmm $container_lmm\n",
    "\"\"\"\n",
    "\n",
    "sos run ~/project/bioworkflows/admin/Get_Job_Script.ipynb csg \\\n",
    "    --template-file $tpl_file \\\n",
    "    --workflow-file $vcf_sos \\\n",
    "    --to-script $vcf_sbatch \\\n",
    "    --args \"$vcf_args\""
   ]
  },
  {
   "cell_type": "code",
   "execution_count": null,
   "id": "767bfebf-e1e9-4264-95e3-89997dc366f3",
   "metadata": {},
   "outputs": [],
   "source": []
  }
 ],
 "metadata": {
  "kernelspec": {
   "display_name": "Bash",
   "language": "bash",
   "name": "bash"
  },
  "language_info": {
   "codemirror_mode": "shell",
   "file_extension": ".sh",
   "mimetype": "text/x-sh",
   "name": "bash"
  },
  "sos": {
   "kernels": [
    [
     "SoS",
     "sos",
     "",
     ""
    ]
   ],
   "version": "0.22.4"
  }
 },
 "nbformat": 4,
 "nbformat_minor": 5
}
