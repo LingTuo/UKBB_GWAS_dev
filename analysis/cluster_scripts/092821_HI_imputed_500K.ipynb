{
 "cells": [
  {
   "cell_type": "markdown",
   "id": "78bd9b69-e327-4521-a228-e8c686536680",
   "metadata": {
    "kernel": "SoS",
    "tags": []
   },
   "source": [
    "# Association analysis imputed data\n",
    "\n",
    "Do the association analysis for the Hearing impairment traits with the white european individuals present in the 500K samples"
   ]
  },
  {
   "cell_type": "markdown",
   "id": "6e099273-9343-45b7-8b34-694c73d32312",
   "metadata": {
    "kernel": "SoS"
   },
   "source": [
    "## Columbia's cluster"
   ]
  },
  {
   "cell_type": "code",
   "execution_count": 1,
   "id": "e2b62721-f549-4a9f-8cfb-754ab8fb6d0a",
   "metadata": {
    "kernel": "Bash",
    "tags": []
   },
   "outputs": [
    {
     "name": "stderr",
     "output_type": "stream",
     "text": [
      "/home/dmc2245/miniconda3/lib/python3.8/site-packages/sos_notebook/kernel.py:1334: DeprecationWarning: Kernel._parent_header is deprecated in ipykernel 6. Use .get_parent()\n",
      "  msg['msg_id'] = self._parent_header['header']['msg_id']\n"
     ]
    }
   ],
   "source": [
    "# Common variables Columbia's cluster\n",
    "UKBB_PATH=$HOME/UKBiobank\n",
    "UKBB_yale=$HOME/UKBiobank_Yale_transfer\n",
    "USER_PATH=$HOME/project\n",
    "container_lmm=$HOME/containers/lmm.sif\n",
    "container_marp=$HOME/containers/marp.sif\n",
    "container_annovar=$HOME/containers/gatk4-annovar.sif\n",
    "hearing_pheno_path=$UKBB_PATH/phenotype_files/hearing_impairment\n",
    "tpl_file=$USER_PATH/bioworkflows/admin/csg.yml\n",
    "formatFile_fastgwa=$USER_PATH/UKBB_GWAS_dev/data/fastGWA_template.yml\n",
    "formatFile_bolt=$USER_PATH/UKBB_GWAS_dev/data/boltlmm_template.yml\n",
    "formatFile_saige=$USER_PATH/UKBB_GWAS_dev/data/saige_template.yml\n",
    "formatFile_regenie=$USER_PATH/UKBB_GWAS_dev/data/regenie_template.yml"
   ]
  },
  {
   "cell_type": "markdown",
   "id": "42949368-2df4-47e1-b6e4-c5c4449f97b5",
   "metadata": {
    "kernel": "SoS"
   },
   "source": [
    "## Shared variables for workflows and results"
   ]
  },
  {
   "cell_type": "code",
   "execution_count": 2,
   "id": "df6a3352-3509-448f-a32b-86ab0ba61233",
   "metadata": {
    "kernel": "Bash",
    "tags": []
   },
   "outputs": [],
   "source": [
    "# Workflows\n",
    "lmm_sos=$USER_PATH/bioworkflows/GWAS/LMM.ipynb\n",
    "anno_sos=$USER_PATH/bioworkflows/variant-annotation/annovar.ipynb\n",
    "clumping_sos=$USER_PATH/bioworkflows/GWAS/LD_Clumping.ipynb\n",
    "extract_sos=$USER_PATH/bioworkflows/GWAS/Region_Extraction.ipynb\n",
    "snptogene_sos=$USER_PATH/UKBB_GWAS_dev/workflow/snptogene.ipynb\n",
    "\n",
    "# LMM directories for imputed data\n",
    "lmm_imp_dir_fastgwa=$UKBB_PATH/results/FastGWA_results/results_imputed_data\n",
    "lmm_imp_dir_bolt=$UKBB_PATH/results/BOLTLMM_results/results_imputed_data\n",
    "lmm_imp_dir_saige=$UKBB_PATH/results/SAIGE_results/results_imputed_data\n",
    "lmm_imp_dir_regenie=$UKBB_PATH/results/REGENIE_results/results_imputed_data\n",
    "\n",
    "# LMM directories for exome data\n",
    "lmm_exome_dir_fastgwa=$UKBB_PATH/results/FastGWA_results/results_exome_data\n",
    "lmm_exome_dir_bolt=$UKBB_PATH/results/BOLTLMM_results/results_exome_data\n",
    "lmm_exome_dir_saige=$UKBB_PATH/results/SAIGE_results/results_exome_data\n",
    "lmm_exome_dir_regenie=$UKBB_PATH/results/REGENIE_results/results_exome_data"
   ]
  },
  {
   "cell_type": "code",
   "execution_count": 3,
   "id": "26ee25f1-55af-49b6-ad67-d4c34dd80f38",
   "metadata": {
    "kernel": "Bash",
    "tags": []
   },
   "outputs": [],
   "source": [
    "## LMM variables \n",
    "## Specific to Bolt_LMM\n",
    "LDscoresFile=$UKBB_PATH/LDSCORE.1000G_EUR.tab.gz\n",
    "geneticMapFile=$UKBB_PATH/genetic_map_hg19_withX.txt.gz\n",
    "covarMaxLevels=10\n",
    "numThreads=20\n",
    "bgenMinMAF=0.001\n",
    "bgenMinINFO=0.8\n",
    "lmm_job_size=1\n",
    "ylim=0\n",
    "\n",
    "### Specific to FastGWA (depeding if you run from Yale or Columbia)\n",
    "####Yale's cluster\n",
    "grmFile=$UKBB_PATH/results/FastGWA_results/results_imputed_data/UKB_Caucasians_phenotypeindepqc120319_updated020720removedwithdrawnindiv.grm.sp\n",
    "####Columbia's cluster\n",
    "grmFile=$UKBB_yale/results/FastGWA_results/results_imputed_data/UKB_Caucasians_phenotypeindepqc120319_updated020720removedwithdrawnindiv.grm.sp\n",
    "\n",
    "### Specific to SAIGE\n",
    "bgenMinMAC=4\n",
    "trait_type=binary\n",
    "loco=TRUE\n",
    "sampleCol=IID\n",
    "\n",
    "### Specific to REGENIE\n",
    "bsize=1000\n",
    "lowmem=$HOME/scratch60/\n",
    "lowmem_dir=$HOME/scratch60/predictions\n",
    "trait=bt\n",
    "minMAC=4\n",
    "maf_filter=0.01\n",
    "geno_filter=0.01\n",
    "hwe_filter=0\n",
    "mind_filter=0.1\n",
    "reverse_log_p=True"
   ]
  },
  {
   "cell_type": "markdown",
   "id": "86ce8475-c2d3-49f8-af74-3f1471a60bc7",
   "metadata": {
    "kernel": "SoS"
   },
   "source": [
    "## Subset the individuals that passed the genotype QC from the ukb47922 data\n",
    "\n",
    "### Subseting with mind 99%"
   ]
  },
  {
   "cell_type": "code",
   "execution_count": 2,
   "id": "848d39d3-38a8-45c1-8bb9-688412476d63",
   "metadata": {
    "kernel": "SoS"
   },
   "outputs": [
    {
     "data": {
      "text/html": [
       "<div class=\"sos_hint\">Cell content saved to <a href=\"/home/dmc2245/project/UKBB_GWAS_dev/output/subset_ukb47922_500K.R\" target=\"_blank\">/home/dmc2245/project/UKBB_GWAS_dev/output/subset_ukb47922_500K.R</a>, use option -r to also execute the cell.</div>"
      ],
      "text/plain": [
       "Cell content saved to /home/dmc2245/project/UKBB_GWAS_dev/output/subset_ukb47922_500K.R, use option -r to also execute the cell.\n"
      ]
     },
     "metadata": {},
     "output_type": "display_data"
    }
   ],
   "source": [
    "%save /home/dmc2245/project/UKBB_GWAS_dev/output/subset_ukb47922_500K_callrate99.R -f\n",
    "setwd('/mnt/mfs/statgen/UKBiobank/phenotype_files/HI_UKBB')\n",
    "source(\"/mnt/mfs/statgen/UKBiobank/data/ukbb_databases/ukb47922_updatedAug2021/ukb47922.r\")\n",
    "print('Finished loading database')\n",
    "nrow(bd)\n",
    "## Use the fam file from the QC'ed genotype data with N=436,698 using mind=0.01\n",
    "df.geno <- read.table(\"/mnt/mfs/statgen/UKBiobank/genotype_files_processed/083021_sample_variant_qc_final/cache/UKB_genotypedatadownloaded083019.083021_sample_variant_qc_final.filtered.extracted.fam\", header=FALSE, stringsAsFactors = FALSE)\n",
    "names(df.geno) <-c(\"FID\",\"IID\",\"ignore1\", \"ignore2\", \"ignore3\", \"ignore4\")\n",
    "nrow(df.geno)\n",
    "head(bd[,1, drop=FALSE])\n",
    "names(bd)[1] <- \"IID\"\n",
    "head(bd[,1, drop=FALSE])\n",
    "df.gen.phen <-merge(df.geno, bd, by=\"IID\", all=FALSE)\n",
    "print('Subsetting of the database completed')\n",
    "nrow(df.gen.phen)\n",
    "write.csv(df.gen.phen,'092821_UKBB_436698ind.csv', row.names = FALSE)\n",
    "print('Finished writing the csv file')"
   ]
  },
  {
   "cell_type": "code",
   "execution_count": 3,
   "id": "2253890c-d45a-42e9-b841-dd5a31aefad2",
   "metadata": {
    "kernel": "SoS"
   },
   "outputs": [
    {
     "data": {
      "text/html": [
       "<div class=\"sos_hint\">Cell content saved to <a href=\"/home/dmc2245/project/UKBB_GWAS_dev/output/subset_ukb47922_500K.sh\" target=\"_blank\">/home/dmc2245/project/UKBB_GWAS_dev/output/subset_ukb47922_500K.sh</a>, use option -r to also execute the cell.</div>"
      ],
      "text/plain": [
       "Cell content saved to /home/dmc2245/project/UKBB_GWAS_dev/output/subset_ukb47922_500K.sh, use option -r to also execute the cell.\n"
      ]
     },
     "metadata": {},
     "output_type": "display_data"
    }
   ],
   "source": [
    "%save /home/dmc2245/project/UKBB_GWAS_dev/output/subset_ukb47922_500K.sh -f\n",
    "#!/bin/sh\n",
    "#$ -l h_rt=36:00:00\n",
    "#$ -l h_vmem=200G\n",
    "#$ -N subset_ukb47922\n",
    "#$ -o /home/dmc2245/project/UKBB_GWAS_dev/output/subset_ukb47922_$JOB_ID.out\n",
    "#$ -e /home/dmc2245/project/UKBB_GWAS_dev/output/subset_ukb47922_$JOB_ID.err\n",
    "#$ -j y\n",
    "#$ -q csg.q\n",
    "#$ -S /bin/bash\n",
    "export PATH=$HOME/miniconda3/bin:$PATH\n",
    "module load Singularity/3.5.3\n",
    "module load R/4.0\n",
    "Rscript /home/dmc2245/project/UKBB_GWAS_dev/output/subset_ukb47922_500K.R"
   ]
  },
  {
   "cell_type": "markdown",
   "id": "28db91e8-fee3-490f-9b49-8720abe8b42a",
   "metadata": {
    "kernel": "SoS"
   },
   "source": [
    "### Subsetting with mind 90%"
   ]
  },
  {
   "cell_type": "code",
   "execution_count": 4,
   "id": "127ffbba-3ba0-4a38-b3f3-ad1dbcf6480a",
   "metadata": {
    "kernel": "SoS"
   },
   "outputs": [
    {
     "data": {
      "text/html": [
       "<div class=\"sos_hint\">Cell content saved to <a href=\"/home/dmc2245/project/UKBB_GWAS_dev/output/subset_ukb47922_500K_callrate90.R\" target=\"_blank\">/home/dmc2245/project/UKBB_GWAS_dev/output/subset_ukb47922_500K_callrate90.R</a>, use option -r to also execute the cell.</div>"
      ],
      "text/plain": [
       "Cell content saved to /home/dmc2245/project/UKBB_GWAS_dev/output/subset_ukb47922_500K_callrate90.R, use option -r to also execute the cell.\n"
      ]
     },
     "metadata": {},
     "output_type": "display_data"
    }
   ],
   "source": [
    "%save /home/dmc2245/project/UKBB_GWAS_dev/output/subset_ukb47922_500K_callrate90.R -f\n",
    "setwd('/mnt/mfs/statgen/UKBiobank/phenotype_files/HI_UKBB')\n",
    "source(\"/mnt/mfs/statgen/UKBiobank/data/ukbb_databases/ukb47922_updatedAug2021/ukb47922.r\")\n",
    "print('Finished loading database')\n",
    "nrow(bd)\n",
    "## Use the fam file from the QC'ed genotype data with N=486,416 using mind=0.1\n",
    "df.geno <- read.table(\"/mnt/mfs/statgen/UKBiobank/genotype_files_processed/090221_sample_variant_qc_final_callrate90/cache/UKB_genotypedatadownloaded083019.090221_sample_variant_qc_final_callrate90.filtered.extracted.fam\", header=FALSE, stringsAsFactors = FALSE)\n",
    "names(df.geno) <-c(\"FID\",\"IID\",\"ignore1\", \"ignore2\", \"ignore3\", \"ignore4\")\n",
    "nrow(df.geno)\n",
    "head(bd[,1, drop=FALSE])\n",
    "names(bd)[1] <- \"IID\"\n",
    "head(bd[,1, drop=FALSE])\n",
    "df.gen.phen <-merge(df.geno, bd, by=\"IID\", all=FALSE)\n",
    "print('Subsetting of the database completed')\n",
    "nrow(df.gen.phen)\n",
    "write.csv(df.gen.phen,'092821_UKBB_486416ind_call90.csv', row.names = FALSE)\n",
    "print('Finished writing the csv file')"
   ]
  },
  {
   "cell_type": "code",
   "execution_count": 5,
   "id": "9c021cff-db8b-4e53-b1b8-e86c7f34ba7d",
   "metadata": {
    "kernel": "SoS"
   },
   "outputs": [
    {
     "data": {
      "text/html": [
       "<div class=\"sos_hint\">Cell content saved to <a href=\"/home/dmc2245/project/UKBB_GWAS_dev/output/subset_ukb47922_500K_call90.sh\" target=\"_blank\">/home/dmc2245/project/UKBB_GWAS_dev/output/subset_ukb47922_500K_call90.sh</a>, use option -r to also execute the cell.</div>"
      ],
      "text/plain": [
       "Cell content saved to /home/dmc2245/project/UKBB_GWAS_dev/output/subset_ukb47922_500K_call90.sh, use option -r to also execute the cell.\n"
      ]
     },
     "metadata": {},
     "output_type": "display_data"
    }
   ],
   "source": [
    "%save /home/dmc2245/project/UKBB_GWAS_dev/output/subset_ukb47922_500K_call90.sh -f\n",
    "#!/bin/sh\n",
    "#$ -l h_rt=36:00:00\n",
    "#$ -l h_vmem=200G\n",
    "#$ -N subset_ukb47922_call90\n",
    "#$ -o /home/dmc2245/project/UKBB_GWAS_dev/output/subset_ukb47922_call90_$JOB_ID.out\n",
    "#$ -e /home/dmc2245/project/UKBB_GWAS_dev/output/subset_ukb47922_call90_$JOB_ID.err\n",
    "#$ -j y\n",
    "#$ -q csg.q\n",
    "#$ -S /bin/bash\n",
    "export PATH=$HOME/miniconda3/bin:$PATH\n",
    "module load Singularity/3.5.3\n",
    "module load R/4.0\n",
    "Rscript /home/dmc2245/project/UKBB_GWAS_dev/output/subset_ukb47922_500K_callrate90.R"
   ]
  },
  {
   "cell_type": "markdown",
   "id": "770c72d0-e2aa-45a0-a7c4-509165c9cb75",
   "metadata": {
    "kernel": "SoS"
   },
   "source": [
    "## Run hearing_impairment notebook to get the white Europeans for PCA"
   ]
  },
  {
   "cell_type": "markdown",
   "id": "3a62801a-cef6-4cc6-a63a-59f71c5b7306",
   "metadata": {
    "kernel": "SoS"
   },
   "source": [
    "After running the notebook `092821_hearing_impairment_500K.ipynb` this file is generated to run the PCA analysis\n",
    "\n",
    "\"/mnt/mfs/statgen/UKBiobank/phenotype_files/HI_UKBB/ukb47922_white_460649ind.pheno\" these are the ancestry phenotypes\n",
    "\n",
    "\"/mnt/mfs/statgen/UKBiobank/phenotype_files/HI_UKBB/ukb47922_white_460649ind.keep_id\" these are the IID to keep"
   ]
  },
  {
   "cell_type": "markdown",
   "id": "e6c28274-0598-4848-807e-69414f0f8a04",
   "metadata": {
    "kernel": "SoS"
   },
   "source": [
    "## Run PCA analysis for the whole sample of white Europeans"
   ]
  },
  {
   "cell_type": "markdown",
   "id": "3a17012e-5f1c-4a04-adc3-4f985e3c20f4",
   "metadata": {
    "kernel": "SoS"
   },
   "source": [
    "### 09-28-21 PCA with QC'ed genotype array data"
   ]
  },
  {
   "cell_type": "markdown",
   "id": "414e241b-cef2-400d-a954-d0a009dfe3d0",
   "metadata": {
    "kernel": "SoS"
   },
   "source": [
    "#### Step 1. Select European individuals form the genotype data"
   ]
  },
  {
   "cell_type": "code",
   "execution_count": 4,
   "id": "c4c40784-e8c6-4e46-b728-dc6bad041b5a",
   "metadata": {
    "kernel": "Bash",
    "tags": []
   },
   "outputs": [
    {
     "name": "stdout",
     "output_type": "stream",
     "text": [
      "INFO: Running \u001b[32mcsg\u001b[0m: Configuration for Columbia csg partition cluster\n",
      "INFO: \u001b[32mcsg\u001b[0m is \u001b[32mcompleted\u001b[0m.\n",
      "INFO: \u001b[32mcsg\u001b[0m output:   \u001b[32m/home/dmc2245/project/UKBB_GWAS_dev/output/select_white_europeans_500K_2021-09-28.sbatch\u001b[0m\n",
      "INFO: Workflow csg (ID=w88641f4bec37ee3f) is executed successfully with 1 completed step.\n"
     ]
    }
   ],
   "source": [
    "#Columbia's cluster\n",
    "cwd=$UKBB_PATH/results/092821_PCA_results_500K/white_europeans\n",
    "#bfile with sample and variants QC from 083021 containing all of the samples Columbias's cluster\n",
    "##here I used the bfile in which individuals with call rate >90% were retained\n",
    "genoFile=~/UKBiobank/genotype_files_processed/090221_sample_variant_qc_final_callrate90/cache/UKB_genotypedatadownloaded083019.090221_sample_variant_qc_final_callrate90.filtered.extracted.bed\n",
    "#To keep the samples of white individuals only\n",
    "keep_samples=~/UKBiobank/phenotype_files/HI_UKBB/ukb47922_white_460649ind.keep_id\n",
    "#QC is already done, so no need to filter any more\n",
    "maf_filter=0\n",
    "geno_filter=0\n",
    "hwe_filter=0\n",
    "mind_filter=0\n",
    "mem='30G'\n",
    "gwasqc_sos=$USER_PATH/bioworkflows/GWAS/GWAS_QC.ipynb\n",
    "gwasqc_sbatch=$USER_PATH/UKBB_GWAS_dev/output/select_white_europeans_500K_$(date +\"%Y-%m-%d\").sbatch\n",
    "\n",
    "gwasqc1_args=\"\"\"qc:1\n",
    "    --cwd $cwd\n",
    "    --genoFile $genoFile\n",
    "    --keep_samples $keep_samples\n",
    "    --maf_filter $maf_filter\n",
    "    --geno_filter $geno_filter\n",
    "    --hwe_filter $hwe_filter\n",
    "    --mind_filter $mind_filter\n",
    "    --numThreads $numThreads \n",
    "    --job_size $job_size\n",
    "    --container_lmm $container_lmm\n",
    "    --mem $mem\n",
    "\"\"\"\n",
    "\n",
    "sos run ~/project/UKBB_GWAS_dev/admin/Get_Job_Script.ipynb csg \\\n",
    "    --template-file $tpl_file \\\n",
    "    --workflow-file $gwasqc_sos \\\n",
    "    --to-script $gwasqc_sbatch \\\n",
    "    --args \"$gwasqc1_args\""
   ]
  },
  {
   "cell_type": "markdown",
   "id": "c93f0eaa-2507-4dc9-97de-5110d2ee88c5",
   "metadata": {
    "kernel": "SoS"
   },
   "source": [
    "#### Step 2. Run KING"
   ]
  },
  {
   "cell_type": "code",
   "execution_count": 7,
   "id": "b19c2047-901f-4347-96c7-3225694151a0",
   "metadata": {
    "kernel": "Bash",
    "tags": []
   },
   "outputs": [
    {
     "name": "stdout",
     "output_type": "stream",
     "text": [
      "INFO: Running \u001b[32mcsg\u001b[0m: Configuration for Columbia csg partition cluster\n",
      "INFO: \u001b[32mcsg\u001b[0m is \u001b[32mcompleted\u001b[0m.\n",
      "INFO: \u001b[32mcsg\u001b[0m output:   \u001b[32m/home/dmc2245/project/UKBB_GWAS_dev/output/flashpca_king_extendedwhite_500K_2021-09-28.sbatch\u001b[0m\n",
      "INFO: Workflow csg (ID=w5327bc6b64d3eeb2) is executed successfully with 1 completed step.\n"
     ]
    }
   ],
   "source": [
    "##Columbia's variables\n",
    "cwd=$UKBB_PATH/results/092821_PCA_results_500K/092821_king\n",
    "genoFile=$UKBB_PATH/results/092821_PCA_results_500K/white_europeans/cache/UKB_genotypedatadownloaded083019.090221_sample_variant_qc_final_callrate90.filtered.extracted.white_europeans.filtered.bed\n",
    "king_sbatch=$USER_PATH/UKBB_GWAS_dev/output/flashpca_king_extendedwhite_500K_$(date +\"%Y-%m-%d\").sbatch\n",
    "kinship=0.0625\n",
    "gwasqc_sos=$USER_PATH/bioworkflows/GWAS/GWAS_QC.ipynb\n",
    "numThreads=20\n",
    "mem='30G'\n",
    "walltime='36h'\n",
    "\n",
    "king_args=\"\"\"king\n",
    "    --cwd $cwd\n",
    "    --genoFile $genoFile\n",
    "    --kinship $kinship\n",
    "    --numThreads $numThreads \n",
    "    --job_size $job_size\n",
    "    --container_lmm $container_lmm\n",
    "    --mem $mem\n",
    "    --walltime $walltime\n",
    "    --no-maximize-unrelated\n",
    "\"\"\"\n",
    "\n",
    "sos run ~/project/UKBB_GWAS_dev/admin/Get_Job_Script.ipynb csg \\\n",
    "    --template-file $tpl_file \\\n",
    "    --workflow-file $gwasqc_sos \\\n",
    "    --to-script $king_sbatch \\\n",
    "    --args \"$king_args\""
   ]
  },
  {
   "cell_type": "markdown",
   "id": "8efa8f6d-3361-48ae-b801-43515067616b",
   "metadata": {
    "kernel": "Bash"
   },
   "source": [
    "#### Remove related individuals and LD pruning"
   ]
  },
  {
   "cell_type": "code",
   "execution_count": null,
   "id": "83f6d9a5-5b17-48c8-a8bd-0007b3f27496",
   "metadata": {
    "kernel": "Bash"
   },
   "outputs": [],
   "source": [
    "## Columbia's cluster\n",
    "cwd=$UKBB_PATH/results/092821_PCA_results_500K/092821_ldprun_unrelated\n",
    "## Use the qc version of the genotype array with the already filtered 189010 white individuals\n",
    "genoFile=$UKBB_PATH/results/092821_PCA_results_500K/white_europeans/cache/*.filtered.bed\n",
    "#To keep the samples of related white individuals only\n",
    "remove_samples=$UKBB_PATH/results/092821_PCA_results_500K/092821_king/*.related_id\n",
    "\n",
    "#GWAS QC variables: leave all the variables in 0 so there's no more filtering in the already filtered data\n",
    "maf_filter=0\n",
    "geno_filter=0\n",
    "hwe_filter=0\n",
    "mind_filter=0\n",
    "#LD prunning variables\n",
    "window=50\n",
    "shift=10\n",
    "r2=0.1\n",
    "gwas_sbatch=$USER_PATH/UKBB_GWAS_dev/output/gwas_unrelated_european_$(date +\"%Y-%m-%d\").sbatch\n",
    "numThreads=20\n",
    "mem='30G'\n",
    "\n",
    "gwasqc_args=\"\"\"qc\n",
    "    --cwd $cwd\n",
    "    --genoFile $genoFile\n",
    "    --remove_samples $remove_samples\n",
    "    --maf_filter $maf_filter\n",
    "    --geno_filter $geno_filter\n",
    "    --hwe_filter $hwe_filter\n",
    "    --mind_filter $mind_filter\n",
    "    --window $window\n",
    "    --shift $shift\n",
    "    --r2 $r2\n",
    "    --numThreads $numThreads \n",
    "    --job_size $job_size\n",
    "    --container_lmm $container_lmm\n",
    "    --mem $mem\n",
    "\"\"\"\n",
    "\n",
    "sos run ~/project/UKBB_GWAS_dev/admin/Get_Job_Script.ipynb csg\\\n",
    "    --template-file $tpl_file \\\n",
    "    --workflow-file $gwasqc_sos \\\n",
    "    --to-script $gwas_sbatch \\\n",
    "    --args \"$gwasqc_args\""
   ]
  },
  {
   "cell_type": "markdown",
   "id": "79fe316b-cbb6-46af-a93a-f4bd75294d82",
   "metadata": {
    "kernel": "SoS"
   },
   "source": [
    "## Get the phenotype files using the 092821_hearing_impairment_500K notebook"
   ]
  },
  {
   "cell_type": "code",
   "execution_count": null,
   "id": "b7f49a04-3913-4b8d-977c-2f13ee6fefbe",
   "metadata": {
    "kernel": "SoS"
   },
   "outputs": [],
   "source": []
  },
  {
   "cell_type": "markdown",
   "id": "46ec4198-121c-4284-b73d-bc03c9c18ead",
   "metadata": {
    "kernel": "SoS"
   },
   "source": [
    "## Do liftover of genotype array and imputed data"
   ]
  },
  {
   "cell_type": "code",
   "execution_count": null,
   "id": "407b61a2-dae4-46b7-93b5-f82b08b8db60",
   "metadata": {
    "kernel": "SoS"
   },
   "outputs": [],
   "source": []
  },
  {
   "cell_type": "markdown",
   "id": "fcf146aa-d657-409a-94ca-a59d85587845",
   "metadata": {
    "kernel": "SoS"
   },
   "source": [
    "## Run association analysis with imputed data for each phenotype"
   ]
  },
  {
   "cell_type": "code",
   "execution_count": null,
   "id": "7a76c37d-fe69-419d-960b-90fda6415c36",
   "metadata": {
    "kernel": "SoS"
   },
   "outputs": [],
   "source": []
  },
  {
   "cell_type": "markdown",
   "id": "685f209c-578f-4edc-980c-f1d0caaf4f54",
   "metadata": {
    "kernel": "SoS"
   },
   "source": [
    "## Merge genotype and exome data for the individuals with exomes\n",
    "\n",
    "This could be region specific to save time and memory"
   ]
  },
  {
   "cell_type": "code",
   "execution_count": null,
   "id": "ceec5306-020f-4acc-a695-2643e2ef61bf",
   "metadata": {
    "kernel": "SoS"
   },
   "outputs": [],
   "source": []
  }
 ],
 "metadata": {
  "kernelspec": {
   "display_name": "SoS",
   "language": "sos",
   "name": "sos"
  },
  "language_info": {
   "codemirror_mode": "sos",
   "file_extension": ".sos",
   "mimetype": "text/x-sos",
   "name": "sos",
   "nbconvert_exporter": "sos_notebook.converter.SoS_Exporter",
   "pygments_lexer": "sos"
  },
  "sos": {
   "kernels": [
    [
     "Bash",
     "calysto_bash",
     "Bash",
     "#E6EEFF",
     "shell"
    ],
    [
     "SoS",
     "sos",
     "",
     "",
     "sos"
    ]
   ],
   "version": "0.22.6"
  },
  "toc-autonumbering": true
 },
 "nbformat": 4,
 "nbformat_minor": 5
}
