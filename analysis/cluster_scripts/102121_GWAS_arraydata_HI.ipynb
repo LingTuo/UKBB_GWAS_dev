{
 "cells": [
  {
   "cell_type": "markdown",
   "id": "b1b5da1e-486f-4cdc-852b-0ac85ae24869",
   "metadata": {
    "kernel": "SoS",
    "tags": []
   },
   "source": [
    "# GWAS with array data for Hearing impairment traits\n",
    "\n",
    "In this notebook I'll add all the scripts intended to generate summary stats for genotype array data with HI phenotypes. This is the previous step before doing interaction analysis. "
   ]
  },
  {
   "cell_type": "markdown",
   "id": "68cdace3-da02-4796-aa39-c53361123585",
   "metadata": {
    "kernel": "Bash"
   },
   "source": [
    "## Columbia's cluster\n",
    "\n",
    "Run this cell if running your jobs on Columbia's cluster"
   ]
  },
  {
   "cell_type": "code",
   "execution_count": 2,
   "id": "fe5c188a-64ba-462b-bf86-45cad0b370b7",
   "metadata": {
    "kernel": "Bash"
   },
   "outputs": [
    {
     "name": "stdout",
     "output_type": "stream",
     "text": [
      "\n"
     ]
    }
   ],
   "source": [
    "# Common variables Columbia's cluster\n",
    "UKBB_PATH=$HOME/UKBiobank\n",
    "UKBB_yale=$HOME/UKBiobank_Yale_transfer\n",
    "USER_PATH=$HOME/working\n",
    "container_lmm=$HOME/containers/lmm.sif\n",
    "container_marp=$HOME/containers/marp.sif\n",
    "container_annovar=$HOME/containers/gatk4-annovar.sif\n",
    "hearing_pheno_path=$UKBB_PATH/phenotype_files/hearing_impairment\n",
    "tpl_file=$USER_PATH/bioworkflows/admin/csg.yml\n",
    "formatFile_fastgwa=$USER_PATH/UKBB_GWAS_dev/data/fastGWA_template.yml\n",
    "formatFile_bolt=$USER_PATH/UKBB_GWAS_dev/data/boltlmm_template.yml\n",
    "formatFile_saige=$USER_PATH/UKBB_GWAS_dev/data/saige_template.yml\n",
    "formatFile_regenie=$USER_PATH/UKBB_GWAS_dev/data/regenie_template.yml\n",
    "\n",
    "# Cleaned Imputed data BGEN input\n",
    "##genoFile=`echo $UKBB_yale/ukb39554_imputeddataset/ukb_imp_chr{1..22}_v3.bgen`\n",
    "##sampleFile=$UKBB_yale/ukb39554_imputeddataset/ukb32285_imputedindiv.sample\n"
   ]
  },
  {
   "cell_type": "markdown",
   "id": "59377c87-e65c-4442-9184-cbf16e1c333c",
   "metadata": {
    "kernel": "Bash"
   },
   "source": [
    "## Shared variables for workflows and results"
   ]
  },
  {
   "cell_type": "code",
   "execution_count": 3,
   "id": "13b7deae-24de-410d-aa34-0d75b8e6831a",
   "metadata": {
    "kernel": "Bash"
   },
   "outputs": [
    {
     "name": "stdout",
     "output_type": "stream",
     "text": [
      "\n"
     ]
    }
   ],
   "source": [
    "# Workflows\n",
    "lmm_sos=$USER_PATH/bioworkflows/GWAS/LMM.ipynb\n",
    "anno_sos=$USER_PATH/bioworkflows/variant-annotation/annovar.ipynb\n",
    "clumping_sos=$USER_PATH/bioworkflows/GWAS/LD_Clumping.ipynb\n",
    "extract_sos=$USER_PATH/bioworkflows/GWAS/Region_Extraction.ipynb\n",
    "snptogene_sos=$USER_PATH/UKBB_GWAS_dev/workflow/snptogene.ipynb\n",
    "\n",
    "# LMM directories for array data data\n",
    "lmm_imp_dir_fastgwa=$UKBB_PATH/results/FastGWA_results/results_array_data\n",
    "lmm_imp_dir_bolt=$UKBB_PATH/results/BOLTLMM_results/results_array_data\n",
    "lmm_imp_dir_saige=$UKBB_PATH/results/SAIGE_results/results_array_data\n",
    "lmm_imp_dir_regenie=$UKBB_PATH/results/REGENIE_results/results_array_data\n",
    "\n",
    "# LMM directories for exome data\n",
    "lmm_exome_dir_fastgwa=$UKBB_PATH/results/FastGWA_results/results_array_data\n",
    "lmm_exome_dir_bolt=$UKBB_PATH/results/BOLTLMM_results/results_array_data\n",
    "lmm_exome_dir_saige=$UKBB_PATH/results/SAIGE_results/results_array_data\n",
    "lmm_exome_dir_regenie=$UKBB_PATH/results/REGENIE_results/results_array_data"
   ]
  },
  {
   "cell_type": "markdown",
   "id": "6df31e9e-11b6-4884-9370-0da54fd54698",
   "metadata": {
    "kernel": "Bash"
   },
   "source": [
    "## Specification of LMM variables"
   ]
  },
  {
   "cell_type": "code",
   "execution_count": 4,
   "id": "ef6b8de8-7317-40cf-ac5f-3f330d72055e",
   "metadata": {
    "kernel": "Bash"
   },
   "outputs": [
    {
     "name": "stdout",
     "output_type": "stream",
     "text": [
      "\n"
     ]
    }
   ],
   "source": [
    "### Specific to REGENIE\n",
    "bsize=1000\n",
    "lowmem=~/UKBiobank/results/REGENIE_results/results_array_data/2021-10-27_f3393_array/scratch60\n",
    "lowmem_dir=~/UKBiobank/results/REGENIE_results/results_array_data/2021-10-27_f3393_array/scratch60/predictions\n",
    "trait=bt\n",
    "minMAC=4\n",
    "maf_filter=0\n",
    "geno_filter=0\n",
    "hwe_filter=0\n",
    "mind_filter=0\n",
    "reverse_log_p=True"
   ]
  },
  {
   "cell_type": "markdown",
   "id": "2dd8de92-6b94-4f8e-a269-6ab6e52a6ad6",
   "metadata": {
    "kernel": "Bash"
   },
   "source": [
    "## Specification of LD clumping variables"
   ]
  },
  {
   "cell_type": "code",
   "execution_count": 5,
   "id": "c17ca21c-2dd3-4d9b-9b42-c18ec8b5f620",
   "metadata": {
    "kernel": "Bash"
   },
   "outputs": [
    {
     "name": "stdout",
     "output_type": "stream",
     "text": [
      "\n"
     ]
    }
   ],
   "source": [
    "# LD clumping directories\n",
    "clumping_dir=$UKBB_PATH/results/LD_clumping\n",
    "\n",
    "# Changes dependending upon which traits are analyzed\n",
    "ld_sample_size=200\n",
    "clump_field=P\n",
    "clump_p1=0.01\n",
    "clump_p2=1\n",
    "clump_r2=0.2\n",
    "clump_kb=2000\n",
    "clump_annotate=BP\n",
    "numThreads=2\n",
    "clump_job_size=1"
   ]
  },
  {
   "cell_type": "markdown",
   "id": "01c48dc4-e013-486f-8f39-adee706f56db",
   "metadata": {
    "kernel": "Bash"
   },
   "source": [
    "# Regenie"
   ]
  },
  {
   "cell_type": "markdown",
   "id": "ea6e10c8-3a83-46a3-80b1-1b345c403344",
   "metadata": {
    "kernel": "SoS"
   },
   "source": [
    "## f3393"
   ]
  },
  {
   "cell_type": "code",
   "execution_count": 22,
   "id": "a00c2dc4-0f7f-4e45-98fc-34dd10c68e03",
   "metadata": {
    "kernel": "Bash",
    "tags": []
   },
   "outputs": [
    {
     "name": "stdout",
     "output_type": "stream",
     "text": [
      "INFO: Running \u001b[32mcsg\u001b[0m: Configuration for Columbia csg partition cluster\n",
      "INFO: \u001b[32mcsg\u001b[0m is \u001b[32mcompleted\u001b[0m.\n",
      "INFO: \u001b[32mcsg\u001b[0m output:   \u001b[32m/home/gl2776/scripts/f3393_hearing_aid_500K_array-regenie_2021-10-27.sbatch\u001b[0m\n",
      "INFO: Workflow csg (ID=w0db76696208dacd0) is executed successfully with 1 completed step.\n",
      "\n"
     ]
    }
   ],
   "source": [
    "## All filters set to 0 because the version of the bfile has already been QC'ed previously and there is not need to do it here\n",
    "maf_filter=0\n",
    "geno_filter=0\n",
    "hwe_filter=0\n",
    "mind_filter=0\n",
    "lmm_dir_regenie=$lmm_imp_dir_regenie/$(date +\"%Y-%m-%d\")_f3393_array\n",
    "lmm_sbatch_regenie=~/scripts/f3393_hearing_aid_500K_array-regenie_$(date +\"%Y-%m-%d\").sbatch\n",
    "#Use the phenotype file for the 500K individuals\n",
    "phenoFile=$hearing_pheno_path/fulldb_500K/100521_UKBB_Hearing_aid_f3393_expandedwhite_15601cases_237318ctrl_500k_PC1_PC2\n",
    "phenoCol=f3393\n",
    "covarCol=sex\n",
    "qCovarCol=\"age PC1 PC2\"\n",
    "#Use the original bed files that passed QC using Megan's parameters geno=0.01, mind=0.1, maf=0.01, hwe=5e-08\n",
    "bfile=$UKBB_PATH/genotype_files_processed/090221_sample_variant_qc_final_callrate90/cache/UKB_genotypedatadownloaded083019.090221_sample_variant_qc_final_callrate90.filtered.extracted.bed\n",
    "# Use the same bfile here for the association\n",
    "genoFile=$UKBB_PATH/genotype_files_processed/090221_sample_variant_qc_final_callrate90/cache/UKB_genotypedatadownloaded083019.090221_sample_variant_qc_final_callrate90.filtered.extracted.bed\n",
    "## After doing the annotation you can create the annotatted manhatan plot\n",
    "anno_file=\n",
    "label_annotate=SNP\n",
    "known_vars=\n",
    "new_vars=\n",
    "lmm_job_size=1\n",
    "ylim=0\n",
    "bgenMinMAF=0.001\n",
    "bgenMinINFO=0.8\n",
    "# If --annotate then it will add the label to the plot otherwise --no-annotate\n",
    "\n",
    "lmm_args=\"\"\"regenie\n",
    "    --cwd $lmm_dir_regenie \n",
    "    --bfile $bfile \n",
    "    --genoFile $genoFile\n",
    "    --phenoFile $phenoFile \n",
    "    --formatFile $formatFile_regenie \n",
    "    --phenoCol $phenoCol\n",
    "    --covarCol $covarCol  \n",
    "    --qCovarCol $qCovarCol\n",
    "    --bsize $bsize\n",
    "    --lowmem_dir $lowmem_dir\n",
    "    --trait $trait \n",
    "    --bgenMinMAF $bgenMinMAF \n",
    "    --bgenMinINFO $bgenMinINFO\n",
    "    --maf_filter $maf_filter\n",
    "    --geno_filter $geno_filter\n",
    "    --hwe_filter $hwe_filter\n",
    "    --mind_filter $mind_filter\n",
    "    --minMAC $minMAC\n",
    "    --job_size $lmm_job_size\n",
    "    --ylim $ylim\n",
    "    --reverse_log_p $reverse_log_p\n",
    "    --numThreads $numThreads\n",
    "    --anno_file $anno_file\n",
    "    --label_annotate $label_annotate\n",
    "    --container_lmm $container_lmm\n",
    "    --container_marp $container_marp\n",
    "\"\"\"\n",
    "\n",
    "sos run ~/working/UKBB_GWAS_dev/admin/Get_Job_Script.ipynb csg\\\n",
    "    --template-file $tpl_file \\\n",
    "    --workflow-file $lmm_sos \\\n",
    "    --to-script $lmm_sbatch_regenie \\\n",
    "    --args \"$lmm_args\" "
   ]
  },
  {
   "cell_type": "markdown",
   "id": "cbb4f57a-f7d1-437c-a3d6-3eca9aa9d0c0",
   "metadata": {
    "kernel": "Bash"
   },
   "source": [
    "## f2247"
   ]
  },
  {
   "cell_type": "code",
   "execution_count": 23,
   "id": "a4b5a9ac-46bf-4299-a09c-2b1da1b30204",
   "metadata": {
    "kernel": "Bash",
    "tags": []
   },
   "outputs": [
    {
     "name": "stdout",
     "output_type": "stream",
     "text": [
      "INFO: Running \u001b[32mcsg\u001b[0m: Configuration for Columbia csg partition cluster\n",
      "INFO: \u001b[32mcsg\u001b[0m is \u001b[32mcompleted\u001b[0m.\n",
      "INFO: \u001b[32mcsg\u001b[0m output:   \u001b[32m/home/gl2776/scripts/f2247_hearing_difficulty_500K_array-regenie_2021-10-27.sbatch\u001b[0m\n",
      "INFO: Workflow csg (ID=wad0e7409c6d1b0fe) is executed successfully with 1 completed step.\n",
      "\n"
     ]
    }
   ],
   "source": [
    "## All filters set to 0 because the version of the bfile has already been QC'ed previously and there is not need to do it here\n",
    "maf_filter=0\n",
    "geno_filter=0\n",
    "hwe_filter=0\n",
    "mind_filter=0\n",
    "lmm_dir_regenie=$lmm_imp_dir_regenie/$(date +\"%Y-%m-%d\")_f2247_array\n",
    "lmm_sbatch_regenie=~/scripts/f2247_hearing_difficulty_500K_array-regenie_$(date +\"%Y-%m-%d\").sbatch\n",
    "#Use the phenotype file for the 500K individuals\n",
    "phenoFile=$hearing_pheno_path/fulldb_500K/100521_UKBB_Hearing_difficulty_f2247_expandedwhite_110453cases_237318ctrl_500k_PC1_PC2\n",
    "phenoCol=f2247\n",
    "covarCol=sex\n",
    "qCovarCol=\"age PC1 PC2\"\n",
    "#Use the original bed files that passed QC using Megan's parameters geno=0.01, mind=0.1, maf=0.01, hwe=5e-08\n",
    "bfile=$UKBB_PATH/genotype_files_processed/090221_sample_variant_qc_final_callrate90/cache/UKB_genotypedatadownloaded083019.090221_sample_variant_qc_final_callrate90.filtered.extracted.bed\n",
    "# Use the same bfile here for the association\n",
    "genoFile=$UKBB_PATH/genotype_files_processed/090221_sample_variant_qc_final_callrate90/cache/UKB_genotypedatadownloaded083019.090221_sample_variant_qc_final_callrate90.filtered.extracted.bed\n",
    "## After doing the annotation you can create the annotatted manhatan plot\n",
    "anno_file=\n",
    "label_annotate=SNP\n",
    "known_vars=\n",
    "new_vars=\n",
    "lmm_job_size=1\n",
    "ylim=0\n",
    "bgenMinMAF=0.001\n",
    "bgenMinINFO=0.8\n",
    "# If --annotate then it will add the label to the plot otherwise --no-annotate\n",
    "\n",
    "lmm_args=\"\"\"regenie\n",
    "    --cwd $lmm_dir_regenie \n",
    "    --bfile $bfile \n",
    "    --genoFile $genoFile\n",
    "    --phenoFile $phenoFile \n",
    "    --formatFile $formatFile_regenie \n",
    "    --phenoCol $phenoCol\n",
    "    --covarCol $covarCol  \n",
    "    --qCovarCol $qCovarCol\n",
    "    --bsize $bsize\n",
    "    --lowmem_dir $lowmem_dir\n",
    "    --trait $trait \n",
    "    --bgenMinMAF $bgenMinMAF \n",
    "    --bgenMinINFO $bgenMinINFO\n",
    "    --maf_filter $maf_filter\n",
    "    --geno_filter $geno_filter\n",
    "    --hwe_filter $hwe_filter\n",
    "    --mind_filter $mind_filter\n",
    "    --minMAC $minMAC\n",
    "    --job_size $lmm_job_size\n",
    "    --ylim $ylim\n",
    "    --reverse_log_p $reverse_log_p\n",
    "    --numThreads $numThreads\n",
    "    --anno_file $anno_file\n",
    "    --label_annotate $label_annotate\n",
    "    --container_lmm $container_lmm\n",
    "    --container_marp $container_marp\n",
    "\"\"\"\n",
    "\n",
    "sos run ~/working/UKBB_GWAS_dev/admin/Get_Job_Script.ipynb csg\\\n",
    "    --template-file $tpl_file \\\n",
    "    --workflow-file $lmm_sos \\\n",
    "    --to-script $lmm_sbatch_regenie \\\n",
    "    --args \"$lmm_args\" "
   ]
  },
  {
   "cell_type": "markdown",
   "id": "5553aec9-5f5a-4496-91c3-db589cdc88be",
   "metadata": {
    "kernel": "SoS"
   },
   "source": [
    "## f2257"
   ]
  },
  {
   "cell_type": "code",
   "execution_count": 24,
   "id": "bb552f90-f010-4d13-8633-4efcd0c74a03",
   "metadata": {
    "kernel": "Bash",
    "tags": []
   },
   "outputs": [
    {
     "name": "stdout",
     "output_type": "stream",
     "text": [
      "INFO: Running \u001b[32mcsg\u001b[0m: Configuration for Columbia csg partition cluster\n",
      "INFO: \u001b[32mcsg\u001b[0m is \u001b[32mcompleted\u001b[0m.\n",
      "INFO: \u001b[32mcsg\u001b[0m output:   \u001b[32m/home/gl2776/scripts/f2257_hearing_noise_500K_array-regenie_2021-10-27.sbatch\u001b[0m\n",
      "INFO: Workflow csg (ID=w42519ad431227916) is executed successfully with 1 completed step.\n",
      "\n"
     ]
    }
   ],
   "source": [
    "## All filters set to 0 because the version of the bfile has already been QC'ed previously and there is not need to do it here\n",
    "maf_filter=0\n",
    "geno_filter=0\n",
    "hwe_filter=0\n",
    "mind_filter=0\n",
    "lmm_dir_regenie=$lmm_imp_dir_regenie/$(date +\"%Y-%m-%d\")_f2257_array\n",
    "lmm_sbatch_regenie=~/scripts/f2257_hearing_noise_500K_array-regenie_$(date +\"%Y-%m-%d\").sbatch\n",
    "#Use the phenotype file for the 500K individuals\n",
    "phenoFile=$hearing_pheno_path/fulldb_500K/100521_UKBB_Hearing_noise_f2257_expandedwhite_161443cases_237318ctrl_500k_PC1_PC2\n",
    "phenoCol=f2257\n",
    "covarCol=sex\n",
    "qCovarCol=\"age PC1 PC2\"\n",
    "#Use the original bed files that passed QC using Megan's parameters geno=0.01, mind=0.1, maf=0.01, hwe=5e-08\n",
    "bfile=$UKBB_PATH/genotype_files_processed/090221_sample_variant_qc_final_callrate90/cache/UKB_genotypedatadownloaded083019.090221_sample_variant_qc_final_callrate90.filtered.extracted.bed\n",
    "# Use the same bfile here for the association\n",
    "genoFile=$UKBB_PATH/genotype_files_processed/090221_sample_variant_qc_final_callrate90/cache/UKB_genotypedatadownloaded083019.090221_sample_variant_qc_final_callrate90.filtered.extracted.bed\n",
    "## After doing the annotation you can create the annotatted manhatan plot\n",
    "anno_file=\n",
    "label_annotate=SNP\n",
    "known_vars=\n",
    "new_vars=\n",
    "lmm_job_size=1\n",
    "ylim=0\n",
    "bgenMinMAF=0.001\n",
    "bgenMinINFO=0.8\n",
    "# If --annotate then it will add the label to the plot otherwise --no-annotate\n",
    "\n",
    "lmm_args=\"\"\"regenie\n",
    "    --cwd $lmm_dir_regenie \n",
    "    --bfile $bfile \n",
    "    --genoFile $genoFile\n",
    "    --phenoFile $phenoFile \n",
    "    --formatFile $formatFile_regenie \n",
    "    --phenoCol $phenoCol\n",
    "    --covarCol $covarCol  \n",
    "    --qCovarCol $qCovarCol\n",
    "    --bsize $bsize\n",
    "    --lowmem_dir $lowmem_dir\n",
    "    --trait $trait \n",
    "    --bgenMinMAF $bgenMinMAF \n",
    "    --bgenMinINFO $bgenMinINFO\n",
    "    --maf_filter $maf_filter\n",
    "    --geno_filter $geno_filter\n",
    "    --hwe_filter $hwe_filter\n",
    "    --mind_filter $mind_filter\n",
    "    --minMAC $minMAC\n",
    "    --job_size $lmm_job_size\n",
    "    --ylim $ylim\n",
    "    --reverse_log_p $reverse_log_p\n",
    "    --numThreads $numThreads\n",
    "    --anno_file $anno_file\n",
    "    --label_annotate $label_annotate\n",
    "    --container_lmm $container_lmm\n",
    "    --container_marp $container_marp\n",
    "\"\"\"\n",
    "\n",
    "sos run ~/working/UKBB_GWAS_dev/admin/Get_Job_Script.ipynb csg\\\n",
    "    --template-file $tpl_file \\\n",
    "    --workflow-file $lmm_sos \\\n",
    "    --to-script $lmm_sbatch_regenie \\\n",
    "    --args \"$lmm_args\" "
   ]
  },
  {
   "cell_type": "markdown",
   "id": "4ec4b917-d5f5-4cc5-9ff3-773691aebef5",
   "metadata": {
    "kernel": "Bash"
   },
   "source": [
    "## f2247_f2257"
   ]
  },
  {
   "cell_type": "code",
   "execution_count": 25,
   "id": "30a8645b-4e65-4726-bf01-ecde99d48a18",
   "metadata": {
    "kernel": "Bash"
   },
   "outputs": [
    {
     "name": "stdout",
     "output_type": "stream",
     "text": [
      "INFO: Running \u001b[32mcsg\u001b[0m: Configuration for Columbia csg partition cluster\n",
      "INFO: \u001b[32mcsg\u001b[0m is \u001b[32mcompleted\u001b[0m.\n",
      "INFO: \u001b[32mcsg\u001b[0m output:   \u001b[32m/home/gl2776/scripts/Combined_f2247_f2257_hearing_noise_500K_array-regenie_2021-10-27.sbatch\u001b[0m\n",
      "INFO: Workflow csg (ID=wcc879e6698ce2cab) is executed successfully with 1 completed step.\n",
      "\n"
     ]
    }
   ],
   "source": [
    "## All filters set to 0 because the version of the bfile has already been QC'ed previously and there is not need to do it here\n",
    "maf_filter=0\n",
    "geno_filter=0\n",
    "hwe_filter=0\n",
    "mind_filter=0\n",
    "lmm_dir_regenie=$lmm_imp_dir_regenie/$(date +\"%Y-%m-%d\")_f2247_f2257_array\n",
    "lmm_sbatch_regenie=~/scripts/Combined_f2247_f2257_500K_array-regenie_$(date +\"%Y-%m-%d\").sbatch\n",
    "#Use the phenotype file for the 500K individuals\n",
    "phenoFile=$hearing_pheno_path/fulldb_500K/100521_UKBB_Combined_f2247_f2257_expandedwhite_93258cases_237318ctrl_500k_PC1_PC2 \n",
    "phenoCol=f2247_f2257\n",
    "covarCol=sex\n",
    "qCovarCol=\"age PC1 PC2\"\n",
    "#Use the original bed files that passed QC using Megan's parameters geno=0.01, mind=0.1, maf=0.01, hwe=5e-08\n",
    "bfile=$UKBB_PATH/genotype_files_processed/090221_sample_variant_qc_final_callrate90/cache/UKB_genotypedatadownloaded083019.090221_sample_variant_qc_final_callrate90.filtered.extracted.bed\n",
    "# Use the same bfile here for the association\n",
    "genoFile=$UKBB_PATH/genotype_files_processed/090221_sample_variant_qc_final_callrate90/cache/UKB_genotypedatadownloaded083019.090221_sample_variant_qc_final_callrate90.filtered.extracted.bed\n",
    "## After doing the annotation you can create the annotatted manhatan plot\n",
    "anno_file=\n",
    "label_annotate=SNP\n",
    "known_vars=\n",
    "new_vars=\n",
    "lmm_job_size=1\n",
    "ylim=0\n",
    "bgenMinMAF=0.001\n",
    "bgenMinINFO=0.8\n",
    "# If --annotate then it will add the label to the plot otherwise --no-annotate\n",
    "\n",
    "lmm_args=\"\"\"regenie\n",
    "    --cwd $lmm_dir_regenie \n",
    "    --bfile $bfile \n",
    "    --genoFile $genoFile\n",
    "    --phenoFile $phenoFile \n",
    "    --formatFile $formatFile_regenie \n",
    "    --phenoCol $phenoCol\n",
    "    --covarCol $covarCol  \n",
    "    --qCovarCol $qCovarCol\n",
    "    --bsize $bsize\n",
    "    --lowmem_dir $lowmem_dir\n",
    "    --trait $trait \n",
    "    --bgenMinMAF $bgenMinMAF \n",
    "    --bgenMinINFO $bgenMinINFO\n",
    "    --maf_filter $maf_filter\n",
    "    --geno_filter $geno_filter\n",
    "    --hwe_filter $hwe_filter\n",
    "    --mind_filter $mind_filter\n",
    "    --minMAC $minMAC\n",
    "    --job_size $lmm_job_size\n",
    "    --ylim $ylim\n",
    "    --reverse_log_p $reverse_log_p\n",
    "    --numThreads $numThreads\n",
    "    --anno_file $anno_file\n",
    "    --label_annotate $label_annotate\n",
    "    --container_lmm $container_lmm\n",
    "    --container_marp $container_marp\n",
    "\"\"\"\n",
    "\n",
    "sos run ~/working/UKBB_GWAS_dev/admin/Get_Job_Script.ipynb csg\\\n",
    "    --template-file $tpl_file \\\n",
    "    --workflow-file $lmm_sos \\\n",
    "    --to-script $lmm_sbatch_regenie \\\n",
    "    --args \"$lmm_args\" "
   ]
  },
  {
   "cell_type": "markdown",
   "id": "d1ec3196-7e4c-450f-a4a2-c76c0a490f0e",
   "metadata": {
    "kernel": "Bash"
   },
   "source": [
    "# LD clumping"
   ]
  },
  {
   "cell_type": "markdown",
   "id": "32f23ead-50a2-49ec-8b4f-363c7caf71f3",
   "metadata": {
    "kernel": "Bash"
   },
   "source": [
    "## f3393"
   ]
  },
  {
   "cell_type": "code",
   "execution_count": 26,
   "id": "8097a889-f1b9-4caa-9510-493770d9622f",
   "metadata": {
    "kernel": "Bash"
   },
   "outputs": [
    {
     "name": "stdout",
     "output_type": "stream",
     "text": [
      "INFO: Running \u001b[32mcsg\u001b[0m: Configuration for Columbia csg partition cluster\n",
      "INFO: \u001b[32mcsg\u001b[0m is \u001b[32mcompleted\u001b[0m.\n",
      "INFO: \u001b[32mcsg\u001b[0m output:   \u001b[32m/home/gl2776/UKBiobank/results/LD_clumping/102721_f3393_500k_array/ldclumping_2021-10-28.sbatch\u001b[0m\n",
      "INFO: Workflow csg (ID=we7b7a105e030e83a) is executed successfully with 1 completed step.\n",
      "\n"
     ]
    }
   ],
   "source": [
    "cwd=~/UKBiobank/results/LD_clumping/102721_f3393_500k_array\n",
    "clumping_sbatch=~/UKBiobank/results/LD_clumping/102721_f3393_500k_array/ldclumping_$(date +\"%Y-%m-%d\").sbatch\n",
    "sumstatsFiles=~/UKBiobank/results/REGENIE_results/results_array_data/2021-10-27_f3393_array/*.regenie.snp_stats.gz\n",
    "\n",
    "## Individuals from the subset of white individuals with exome data \n",
    "unrelated_samples=$UKBB_PATH/results/083021_PCA_results/090221_ldprun_unrelated/cache/UKB_genotypedatadownloaded083019.090221_sample_variant_qc_final_callrate90.filtered.extracted.europeans.filtered.090221_ldprun_unrelated.filtered.fam\n",
    "bfile_ref=~/UKBiobank/results/LD_clumping/ref_files/ukb39554_c1_22_v3.imputed.2000.ref_geno.bed\n",
    "ld_sample_size=200\n",
    "clump_field=P\n",
    "clump_p1=0.01\n",
    "clump_p2=1\n",
    "clump_r2=0.04\n",
    "clump_kb=2000\n",
    "clump_annotate=BP\n",
    "numThreads=2\n",
    "clump_job_size=1\n",
    "\n",
    "# Select samples filter_samples workflow & create reference file with reference workflow\n",
    "# Then use default workflow to run the LD clumping\n",
    "clumping_args=\"\"\"default\n",
    "    --cwd $cwd\n",
    "    --bfile_ref $bfile_ref \n",
    "    --sumstatsFiles $sumstatsFiles \n",
    "    --unrelated_samples $unrelated_samples \n",
    "    --ld_sample_size $ld_sample_size \n",
    "    --clump_field $clump_field\n",
    "    --clump_p1 $clump_p1 \n",
    "    --clump_p2 $clump_p2 \n",
    "    --clump_r2 $clump_r2 \n",
    "    --clump_kb $clump_kb \n",
    "    --numThreads $numThreads \n",
    "    --job_size $clump_job_size\n",
    "    --container_lmm $container_lmm\n",
    "\"\"\"\n",
    "\n",
    "sos run ~/working/UKBB_GWAS_dev/admin/Get_Job_Script.ipynb csg \\\n",
    "    --template-file $tpl_file \\\n",
    "    --workflow-file $clumping_sos \\\n",
    "    --to-script $clumping_sbatch \\\n",
    "    --args \"$clumping_args\""
   ]
  },
  {
   "cell_type": "markdown",
   "id": "df98b7a8-6d13-4729-9a80-a431e30673e9",
   "metadata": {
    "kernel": "Bash"
   },
   "source": [
    "## f2247"
   ]
  },
  {
   "cell_type": "code",
   "execution_count": 25,
   "id": "95eae49a-a2ba-401a-98a3-ac5fb406381d",
   "metadata": {
    "kernel": "Bash"
   },
   "outputs": [
    {
     "name": "stdout",
     "output_type": "stream",
     "text": [
      "INFO: Running \u001b[32mcsg\u001b[0m: Configuration for Columbia csg partition cluster\n",
      "INFO: \u001b[32mcsg\u001b[0m (index=0) is \u001b[32mignored\u001b[0m due to saved signature\n",
      "INFO: \u001b[32mcsg\u001b[0m output:   \u001b[32m/home/gl2776/UKBiobank/results/LD_clumping/102721_f2247_500k_array/ldclumping_2021-10-28.sbatch\u001b[0m\n",
      "INFO: Workflow csg (ID=wec1daa4251170e23) is ignored with 1 ignored step.\n",
      "\n"
     ]
    }
   ],
   "source": [
    "cwd=~/UKBiobank/results/LD_clumping/102721_f2247_500k_array\n",
    "clumping_sbatch=~/UKBiobank/results/LD_clumping/102721_f2247_500k_array/ldclumping_$(date +\"%Y-%m-%d\").sbatch\n",
    "sumstatsFiles=~/UKBiobank/results/REGENIE_results/results_array_data/2021-10-27_f2247_array/*.regenie.snp_stats.gz\n",
    "## Individuals from the subset of white individuals with exome data \n",
    "unrelated_samples=$UKBB_PATH/results/083021_PCA_results/090221_ldprun_unrelated/cache/UKB_genotypedatadownloaded083019.090221_sample_variant_qc_final_callrate90.filtered.extracted.europeans.filtered.090221_ldprun_unrelated.filtered.fam\n",
    "bfile_ref=~/UKBiobank/results/LD_clumping/ref_files/ukb39554_c1_22_v3.imputed.2000.ref_geno.bed\n",
    "ld_sample_size=200\n",
    "clump_field=P\n",
    "clump_p1=0.01\n",
    "clump_p2=1\n",
    "clump_r2=0.04\n",
    "clump_kb=2000\n",
    "clump_annotate=BP\n",
    "numThreads=2\n",
    "clump_job_size=1\n",
    "\n",
    "# Select samples filter_samples workflow & create reference file with reference workflow\n",
    "# Then use default workflow to run the LD clumping\n",
    "clumping_args=\"\"\"default\n",
    "    --cwd $cwd\n",
    "    --bfile_ref $bfile_ref \n",
    "    --sumstatsFiles $sumstatsFiles \n",
    "    --unrelated_samples $unrelated_samples \n",
    "    --ld_sample_size $ld_sample_size \n",
    "    --clump_field $clump_field\n",
    "    --clump_p1 $clump_p1 \n",
    "    --clump_p2 $clump_p2 \n",
    "    --clump_r2 $clump_r2 \n",
    "    --clump_kb $clump_kb  \n",
    "    --numThreads $numThreads \n",
    "    --job_size $clump_job_size\n",
    "    --container_lmm $container_lmm\n",
    "\"\"\"\n",
    "\n",
    "sos run ~/working/UKBB_GWAS_dev/admin/Get_Job_Script.ipynb csg \\\n",
    "    --template-file $tpl_file \\\n",
    "    --workflow-file $clumping_sos \\\n",
    "    --to-script $clumping_sbatch \\\n",
    "    --args \"$clumping_args\""
   ]
  },
  {
   "cell_type": "markdown",
   "id": "2ef019c4-8e2d-4b44-bc94-e6430fb64394",
   "metadata": {
    "kernel": "Bash"
   },
   "source": [
    "## f2257"
   ]
  },
  {
   "cell_type": "code",
   "execution_count": 27,
   "id": "37d342bd-17c1-480d-855e-f9c4d772693c",
   "metadata": {
    "kernel": "Bash"
   },
   "outputs": [
    {
     "name": "stdout",
     "output_type": "stream",
     "text": [
      "INFO: Running \u001b[32mcsg\u001b[0m: Configuration for Columbia csg partition cluster\n",
      "INFO: \u001b[32mcsg\u001b[0m is \u001b[32mcompleted\u001b[0m.\n",
      "INFO: \u001b[32mcsg\u001b[0m output:   \u001b[32m/home/gl2776/UKBiobank/results/LD_clumping/102721_f2257_500k_array/ldclumping_2021-10-28.sbatch\u001b[0m\n",
      "INFO: Workflow csg (ID=w39ace774540257f2) is executed successfully with 1 completed step.\n",
      "\n"
     ]
    }
   ],
   "source": [
    "cwd=~/UKBiobank/results/LD_clumping/102721_f2257_500k_array\n",
    "clumping_sbatch=~/UKBiobank/results/LD_clumping/102721_f2257_500k_array/ldclumping_$(date +\"%Y-%m-%d\").sbatch\n",
    "sumstatsFiles=~/UKBiobank/results/REGENIE_results/results_array_data/2021-10-27_f2257_array/*.regenie.snp_stats.gz\n",
    "## Individuals from the subset of white individuals with exome data \n",
    "unrelated_samples=$UKBB_PATH/results/083021_PCA_results/090221_ldprun_unrelated/cache/UKB_genotypedatadownloaded083019.090221_sample_variant_qc_final_callrate90.filtered.extracted.europeans.filtered.090221_ldprun_unrelated.filtered.fam\n",
    "bfile_ref=~/UKBiobank/results/LD_clumping/ref_files/ukb39554_c1_22_v3.imputed.2000.ref_geno.bed\n",
    "ld_sample_size=200\n",
    "clump_field=P\n",
    "clump_p1=0.01\n",
    "clump_p2=1\n",
    "clump_r2=0.04\n",
    "clump_kb=2000\n",
    "clump_annotate=BP\n",
    "numThreads=2\n",
    "clump_job_size=1\n",
    "\n",
    "# Select samples filter_samples workflow & create reference file with reference workflow\n",
    "# Then use default workflow to run the LD clumping\n",
    "clumping_args=\"\"\"default\n",
    "    --cwd $cwd\n",
    "    --bfile_ref $bfile_ref \n",
    "    --sumstatsFiles $sumstatsFiles \n",
    "    --unrelated_samples $unrelated_samples \n",
    "    --ld_sample_size $ld_sample_size \n",
    "    --clump_field $clump_field\n",
    "    --clump_p1 $clump_p1 \n",
    "    --clump_p2 $clump_p2 \n",
    "    --clump_r2 $clump_r2 \n",
    "    --clump_kb $clump_kb \n",
    "    --numThreads $numThreads \n",
    "    --job_size $clump_job_size\n",
    "    --container_lmm $container_lmm\n",
    "\"\"\"\n",
    "\n",
    "sos run ~/working/UKBB_GWAS_dev/admin/Get_Job_Script.ipynb csg \\\n",
    "    --template-file $tpl_file \\\n",
    "    --workflow-file $clumping_sos \\\n",
    "    --to-script $clumping_sbatch \\\n",
    "    --args \"$clumping_args\""
   ]
  },
  {
   "cell_type": "markdown",
   "id": "a19e9d9a-9766-47cf-9026-2cbb8efc7208",
   "metadata": {
    "kernel": "Bash"
   },
   "source": [
    "## f2247_f2257"
   ]
  },
  {
   "cell_type": "code",
   "execution_count": 28,
   "id": "2b12a043-0a8d-4acb-9b73-5542ffc6ee26",
   "metadata": {
    "kernel": "Bash"
   },
   "outputs": [
    {
     "name": "stdout",
     "output_type": "stream",
     "text": [
      "INFO: Running \u001b[32mcsg\u001b[0m: Configuration for Columbia csg partition cluster\n",
      "INFO: \u001b[32mcsg\u001b[0m is \u001b[32mcompleted\u001b[0m.\n",
      "INFO: \u001b[32mcsg\u001b[0m output:   \u001b[32m/home/gl2776/UKBiobank/results/LD_clumping/102721_f2247_f2257_500k_array/ldclumping_2021-10-28.sbatch\u001b[0m\n",
      "INFO: Workflow csg (ID=w4349dc0d69d7cfe4) is executed successfully with 1 completed step.\n",
      "\n"
     ]
    }
   ],
   "source": [
    "cwd=~/UKBiobank/results/LD_clumping/102721_f2247_f2257_500k_array\n",
    "clumping_sbatch=~/UKBiobank/results/LD_clumping/102721_f2247_f2257_500k_array/ldclumping_$(date +\"%Y-%m-%d\").sbatch\n",
    "sumstatsFiles=~/UKBiobank/results/REGENIE_results/results_array_data/2021-10-27_f2247_f2257_array/100521_UKBB_Combined_f2247_f2257_expandedwhite_93258cases_237318ctrl_500k_PC1_PC2_f2247_f2257.regenie.snp_stats.gz\n",
    "## Individuals from the subset of white individuals with exome data \n",
    "unrelated_samples=$UKBB_PATH/results/083021_PCA_results/090221_ldprun_unrelated/cache/UKB_genotypedatadownloaded083019.090221_sample_variant_qc_final_callrate90.filtered.extracted.europeans.filtered.090221_ldprun_unrelated.filtered.fam\n",
    "bfile_ref=~/UKBiobank/results/LD_clumping/ref_files/ukb39554_c1_22_v3.imputed.2000.ref_geno.bed\n",
    "ld_sample_size=200\n",
    "clump_field=P\n",
    "clump_p1=0.01\n",
    "clump_p2=1\n",
    "clump_r2=0.04\n",
    "clump_kb=2000\n",
    "clump_annotate=BP\n",
    "numThreads=2\n",
    "clump_job_size=1\n",
    "\n",
    "# Select samples filter_samples workflow & create reference file with reference workflow\n",
    "# Then use default workflow to run the LD clumping\n",
    "clumping_args=\"\"\"default\n",
    "    --cwd $cwd\n",
    "    --bfile_ref $bfile_ref \n",
    "    --sumstatsFiles $sumstatsFiles \n",
    "    --unrelated_samples $unrelated_samples \n",
    "    --ld_sample_size $ld_sample_size \n",
    "    --clump_field $clump_field\n",
    "    --clump_p1 $clump_p1 \n",
    "    --clump_p2 $clump_p2 \n",
    "    --clump_r2 $clump_r2 \n",
    "    --clump_kb $clump_kb \n",
    "    --numThreads $numThreads \n",
    "    --job_size $clump_job_size\n",
    "    --container_lmm $container_lmm\n",
    "\"\"\"\n",
    "\n",
    "sos run ~/working/UKBB_GWAS_dev/admin/Get_Job_Script.ipynb csg \\\n",
    "    --template-file $tpl_file \\\n",
    "    --workflow-file $clumping_sos \\\n",
    "    --to-script $clumping_sbatch \\\n",
    "    --args \"$clumping_args\""
   ]
  },
  {
   "cell_type": "code",
   "execution_count": null,
   "id": "4e8cf12e-262d-46af-94fd-39d4ef68c5da",
   "metadata": {},
   "outputs": [],
   "source": []
  },
  {
   "cell_type": "markdown",
   "id": "9dc8cc40-e8bd-44ad-be0a-38936a9e1fd5",
   "metadata": {},
   "source": [
    "# 110921 Regenie with callrate99"
   ]
  },
  {
   "cell_type": "markdown",
   "id": "cb6ad948-2ed0-4e0a-85ce-dca58224c449",
   "metadata": {},
   "source": [
    "## f3393"
   ]
  },
  {
   "cell_type": "code",
   "execution_count": 6,
   "id": "56bed2ad-3b95-40e2-97ef-412911a18066",
   "metadata": {},
   "outputs": [
    {
     "name": "stdout",
     "output_type": "stream",
     "text": [
      "INFO: Running \u001b[32mcsg\u001b[0m: Configuration for Columbia csg partition cluster\n",
      "INFO: \u001b[32mcsg\u001b[0m is \u001b[32mcompleted\u001b[0m.\n",
      "INFO: \u001b[32mcsg\u001b[0m output:   \u001b[32m/home/gl2776/scripts/f3393_hearing_aid_500K_array-regenie_callrate99_2021-11-09.sbatch\u001b[0m\n",
      "INFO: Workflow csg (ID=wa359d7ce3ee4c049) is executed successfully with 1 completed step.\n",
      "\n"
     ]
    }
   ],
   "source": [
    "## All filters set to 0 because the version of the bfile has already been QC'ed previously and there is not need to do it here\n",
    "maf_filter=0\n",
    "geno_filter=0\n",
    "hwe_filter=0\n",
    "mind_filter=0\n",
    "lmm_dir_regenie=$lmm_imp_dir_regenie/$(date +\"%Y-%m-%d\")_f3393_array\n",
    "lmm_sbatch_regenie=~/scripts/f3393_hearing_aid_500K_array-regenie_callrate99_$(date +\"%Y-%m-%d\").sbatch\n",
    "#Use the phenotype file for the 500K individuals\n",
    "phenoFile=$hearing_pheno_path/fulldb_500K/100521_UKBB_Hearing_aid_f3393_expandedwhite_15601cases_237318ctrl_500k_PC1_PC2\n",
    "phenoCol=f3393\n",
    "covarCol=sex\n",
    "qCovarCol=\"age PC1 PC2\"\n",
    "#Use the original bed files that passed QC using Megan's parameters geno=0.01, mind=0.1, maf=0.01, hwe=5e-08\n",
    "bfile=$UKBB_PATH/genotype_files_processed/083021_sample_variant_qc_final/cache/UKB_genotypedatadownloaded083019.083021_sample_variant_qc_final.filtered.extracted.bed\n",
    "# Use the same bfile here for the association\n",
    "genoFile=$UKBB_PATH/genotype_files_processed/083021_sample_variant_qc_final/cache/UKB_genotypedatadownloaded083019.083021_sample_variant_qc_final.filtered.extracted.bed\n",
    "## After doing the annotation you can create the annotatted manhatan plot\n",
    "anno_file=\n",
    "label_annotate=SNP\n",
    "known_vars=\n",
    "new_vars=\n",
    "lmm_job_size=1\n",
    "ylim=0\n",
    "bgenMinMAF=0.001\n",
    "bgenMinINFO=0.8\n",
    "# If --annotate then it will add the label to the plot otherwise --no-annotate\n",
    "\n",
    "lmm_args=\"\"\"regenie\n",
    "    --cwd $lmm_dir_regenie \n",
    "    --bfile $bfile \n",
    "    --genoFile $genoFile\n",
    "    --phenoFile $phenoFile \n",
    "    --formatFile $formatFile_regenie \n",
    "    --phenoCol $phenoCol\n",
    "    --covarCol $covarCol  \n",
    "    --qCovarCol $qCovarCol\n",
    "    --bsize $bsize\n",
    "    --lowmem_dir $lowmem_dir\n",
    "    --trait $trait \n",
    "    --bgenMinMAF $bgenMinMAF \n",
    "    --bgenMinINFO $bgenMinINFO\n",
    "    --maf_filter $maf_filter\n",
    "    --geno_filter $geno_filter\n",
    "    --hwe_filter $hwe_filter\n",
    "    --mind_filter $mind_filter\n",
    "    --minMAC $minMAC\n",
    "    --job_size $lmm_job_size\n",
    "    --ylim $ylim\n",
    "    --reverse_log_p $reverse_log_p\n",
    "    --numThreads $numThreads\n",
    "    --anno_file $anno_file\n",
    "    --label_annotate $label_annotate\n",
    "    --container_lmm $container_lmm\n",
    "    --container_marp $container_marp\n",
    "\"\"\"\n",
    "\n",
    "sos run ~/working/UKBB_GWAS_dev/admin/Get_Job_Script.ipynb csg\\\n",
    "    --template-file $tpl_file \\\n",
    "    --workflow-file $lmm_sos \\\n",
    "    --to-script $lmm_sbatch_regenie \\\n",
    "    --args \"$lmm_args\" "
   ]
  },
  {
   "cell_type": "markdown",
   "id": "95e3eebe-6ff5-421e-b17d-fbc142d3ee41",
   "metadata": {},
   "source": [
    "## f2247 "
   ]
  },
  {
   "cell_type": "code",
   "execution_count": 6,
   "id": "16465dc9-b4c8-4667-a5de-53b642795a7b",
   "metadata": {
    "kernel": "Bash"
   },
   "outputs": [
    {
     "name": "stdout",
     "output_type": "stream",
     "text": [
      "INFO: Running \u001b[32mcsg\u001b[0m: Configuration for Columbia csg partition cluster\n",
      "INFO: \u001b[32mcsg\u001b[0m is \u001b[32mcompleted\u001b[0m.\n",
      "INFO: \u001b[32mcsg\u001b[0m output:   \u001b[32m/home/gl2776/scripts/f2247_hearing_difficulty_500K_array_callrate99-regenie_2021-11-09.sbatch\u001b[0m\n",
      "INFO: Workflow csg (ID=wceb74800de03829f) is executed successfully with 1 completed step.\n",
      "\n"
     ]
    }
   ],
   "source": [
    "## All filters set to 0 because the version of the bfile has already been QC'ed previously and there is not need to do it here\n",
    "maf_filter=0\n",
    "geno_filter=0\n",
    "hwe_filter=0\n",
    "mind_filter=0\n",
    "lmm_dir_regenie=$lmm_imp_dir_regenie/2021-11-09_f2247_array\n",
    "lmm_sbatch_regenie=~/scripts/f2247_hearing_difficulty_500K_array_callrate99-regenie_$(date +\"%Y-%m-%d\").sbatch\n",
    "#Use the phenotype file for the 500K individuals\n",
    "phenoFile=$hearing_pheno_path/fulldb_500K/100521_UKBB_Hearing_difficulty_f2247_expandedwhite_110453cases_237318ctrl_500k_PC1_PC2\n",
    "phenoCol=f2247\n",
    "covarCol=sex\n",
    "qCovarCol=\"age PC1 PC2\"\n",
    "#Use the original bed files that passed QC using Megan's parameters geno=0.01, mind=0.1, maf=0.01, hwe=5e-08\n",
    "bfile=$UKBB_PATH/genotype_files_processed/083021_sample_variant_qc_final/cache/UKB_genotypedatadownloaded083019.083021_sample_variant_qc_final.filtered.extracted.bed\n",
    "# Use the same bfile here for the association\n",
    "genoFile=$UKBB_PATH/genotype_files_processed/083021_sample_variant_qc_final/cache/UKB_genotypedatadownloaded083019.083021_sample_variant_qc_final.filtered.extracted.bed\n",
    "## After doing the annotation you can create the annotatted manhatan plot\n",
    "anno_file=\n",
    "label_annotate=SNP\n",
    "known_vars=\n",
    "new_vars=\n",
    "lmm_job_size=1\n",
    "ylim=0\n",
    "bgenMinMAF=0.001\n",
    "bgenMinINFO=0.8\n",
    "# If --annotate then it will add the label to the plot otherwise --no-annotate\n",
    "\n",
    "lmm_args=\"\"\"regenie\n",
    "    --cwd $lmm_dir_regenie \n",
    "    --bfile $bfile \n",
    "    --genoFile $genoFile\n",
    "    --phenoFile $phenoFile \n",
    "    --formatFile $formatFile_regenie \n",
    "    --phenoCol $phenoCol\n",
    "    --covarCol $covarCol  \n",
    "    --qCovarCol $qCovarCol\n",
    "    --bsize $bsize\n",
    "    --lowmem_dir $lowmem_dir\n",
    "    --trait $trait \n",
    "    --bgenMinMAF $bgenMinMAF \n",
    "    --bgenMinINFO $bgenMinINFO\n",
    "    --maf_filter $maf_filter\n",
    "    --geno_filter $geno_filter\n",
    "    --hwe_filter $hwe_filter\n",
    "    --mind_filter $mind_filter\n",
    "    --minMAC $minMAC\n",
    "    --job_size $lmm_job_size\n",
    "    --ylim $ylim\n",
    "    --reverse_log_p $reverse_log_p\n",
    "    --numThreads $numThreads\n",
    "    --anno_file $anno_file\n",
    "    --label_annotate $label_annotate\n",
    "    --container_lmm $container_lmm\n",
    "    --container_marp $container_marp\n",
    "\"\"\"\n",
    "\n",
    "sos run ~/working/UKBB_GWAS_dev/admin/Get_Job_Script.ipynb csg\\\n",
    "    --template-file $tpl_file \\\n",
    "    --workflow-file $lmm_sos \\\n",
    "    --to-script $lmm_sbatch_regenie \\\n",
    "    --args \"$lmm_args\" "
   ]
  },
  {
   "cell_type": "markdown",
   "id": "7062ab27-e601-40cd-8acd-c24f6d79b9ad",
   "metadata": {},
   "source": [
    "## f2257"
   ]
  },
  {
   "cell_type": "code",
   "execution_count": 7,
   "id": "ad7acafb-63da-4034-9f44-b6ea568a3e72",
   "metadata": {},
   "outputs": [
    {
     "name": "stdout",
     "output_type": "stream",
     "text": [
      "INFO: Running \u001b[32mcsg\u001b[0m: Configuration for Columbia csg partition cluster\n",
      "INFO: \u001b[32mcsg\u001b[0m is \u001b[32mcompleted\u001b[0m.\n",
      "INFO: \u001b[32mcsg\u001b[0m output:   \u001b[32m/home/gl2776/scripts/f2257_hearing_noise_500K_array_callrate99-regenie_2021-11-09.sbatch\u001b[0m\n",
      "INFO: Workflow csg (ID=w1ab5363be5c8ca04) is executed successfully with 1 completed step.\n",
      "\n"
     ]
    }
   ],
   "source": [
    "## All filters set to 0 because the version of the bfile has already been QC'ed previously and there is not need to do it here\n",
    "maf_filter=0\n",
    "geno_filter=0\n",
    "hwe_filter=0\n",
    "mind_filter=0\n",
    "lmm_dir_regenie=$lmm_imp_dir_regenie/$(date +\"%Y-%m-%d\")_f2257_array\n",
    "lmm_sbatch_regenie=~/scripts/f2257_hearing_noise_500K_array_callrate99-regenie_$(date +\"%Y-%m-%d\").sbatch\n",
    "#Use the phenotype file for the 500K individuals\n",
    "phenoFile=$hearing_pheno_path/fulldb_500K/100521_UKBB_Hearing_noise_f2257_expandedwhite_161443cases_237318ctrl_500k_PC1_PC2\n",
    "phenoCol=f2257\n",
    "covarCol=sex\n",
    "qCovarCol=\"age PC1 PC2\"\n",
    "#Use the original bed files that passed QC using Megan's parameters geno=0.01, mind=0.1, maf=0.01, hwe=5e-08\n",
    "bfile=$UKBB_PATH/genotype_files_processed/083021_sample_variant_qc_final/cache/UKB_genotypedatadownloaded083019.083021_sample_variant_qc_final.filtered.extracted.bed\n",
    "# Use the same bfile here for the association\n",
    "genoFile=$UKBB_PATH/genotype_files_processed/083021_sample_variant_qc_final/cache/UKB_genotypedatadownloaded083019.083021_sample_variant_qc_final.filtered.extracted.bed\n",
    "## After doing the annotation you can create the annotatted manhatan plot\n",
    "anno_file=\n",
    "label_annotate=SNP\n",
    "known_vars=\n",
    "new_vars=\n",
    "lmm_job_size=1\n",
    "ylim=0\n",
    "bgenMinMAF=0.001\n",
    "bgenMinINFO=0.8\n",
    "# If --annotate then it will add the label to the plot otherwise --no-annotate\n",
    "\n",
    "lmm_args=\"\"\"regenie\n",
    "    --cwd $lmm_dir_regenie \n",
    "    --bfile $bfile \n",
    "    --genoFile $genoFile\n",
    "    --phenoFile $phenoFile \n",
    "    --formatFile $formatFile_regenie \n",
    "    --phenoCol $phenoCol\n",
    "    --covarCol $covarCol  \n",
    "    --qCovarCol $qCovarCol\n",
    "    --bsize $bsize\n",
    "    --lowmem_dir $lowmem_dir\n",
    "    --trait $trait \n",
    "    --bgenMinMAF $bgenMinMAF \n",
    "    --bgenMinINFO $bgenMinINFO\n",
    "    --maf_filter $maf_filter\n",
    "    --geno_filter $geno_filter\n",
    "    --hwe_filter $hwe_filter\n",
    "    --mind_filter $mind_filter\n",
    "    --minMAC $minMAC\n",
    "    --job_size $lmm_job_size\n",
    "    --ylim $ylim\n",
    "    --reverse_log_p $reverse_log_p\n",
    "    --numThreads $numThreads\n",
    "    --anno_file $anno_file\n",
    "    --label_annotate $label_annotate\n",
    "    --container_lmm $container_lmm\n",
    "    --container_marp $container_marp\n",
    "\"\"\"\n",
    "\n",
    "sos run ~/working/UKBB_GWAS_dev/admin/Get_Job_Script.ipynb csg\\\n",
    "    --template-file $tpl_file \\\n",
    "    --workflow-file $lmm_sos \\\n",
    "    --to-script $lmm_sbatch_regenie \\\n",
    "    --args \"$lmm_args\" "
   ]
  },
  {
   "cell_type": "markdown",
   "id": "3061352f-529d-44e9-b15f-489b7eec3985",
   "metadata": {},
   "source": [
    "## f2247_f2257"
   ]
  },
  {
   "cell_type": "code",
   "execution_count": 8,
   "id": "ecaa1f5e-508f-454c-9ded-b1621dc49150",
   "metadata": {},
   "outputs": [
    {
     "name": "stdout",
     "output_type": "stream",
     "text": [
      "INFO: Running \u001b[32mcsg\u001b[0m: Configuration for Columbia csg partition cluster\n",
      "INFO: \u001b[32mcsg\u001b[0m is \u001b[32mcompleted\u001b[0m.\n",
      "INFO: \u001b[32mcsg\u001b[0m output:   \u001b[32m/home/gl2776/scripts/Combined_f2247_f2257_500K_array_callrate99-regenie_2021-11-09.sbatch\u001b[0m\n",
      "INFO: Workflow csg (ID=wf5f1e39ec0618388) is executed successfully with 1 completed step.\n",
      "\n"
     ]
    }
   ],
   "source": [
    "## All filters set to 0 because the version of the bfile has already been QC'ed previously and there is not need to do it here\n",
    "maf_filter=0\n",
    "geno_filter=0\n",
    "hwe_filter=0\n",
    "mind_filter=0\n",
    "lmm_dir_regenie=$lmm_imp_dir_regenie/$(date +\"%Y-%m-%d\")_f2247_f2257_array\n",
    "lmm_sbatch_regenie=~/scripts/Combined_f2247_f2257_500K_array_callrate99-regenie_$(date +\"%Y-%m-%d\").sbatch\n",
    "#Use the phenotype file for the 500K individuals\n",
    "phenoFile=$hearing_pheno_path/fulldb_500K/100521_UKBB_Combined_f2247_f2257_expandedwhite_93258cases_237318ctrl_500k_PC1_PC2 \n",
    "phenoCol=f2247_f2257\n",
    "covarCol=sex\n",
    "qCovarCol=\"age PC1 PC2\"\n",
    "#Use the original bed files that passed QC using Megan's parameters geno=0.01, mind=0.1, maf=0.01, hwe=5e-08\n",
    "bfile=$UKBB_PATH/genotype_files_processed/083021_sample_variant_qc_final/cache/UKB_genotypedatadownloaded083019.083021_sample_variant_qc_final.filtered.extracted.bed\n",
    "# Use the same bfile here for the association\n",
    "genoFile=$UKBB_PATH/genotype_files_processed/083021_sample_variant_qc_final/cache/UKB_genotypedatadownloaded083019.083021_sample_variant_qc_final.filtered.extracted.bed\n",
    "## After doing the annotation you can create the annotatted manhatan plot\n",
    "anno_file=\n",
    "label_annotate=SNP\n",
    "known_vars=\n",
    "new_vars=\n",
    "lmm_job_size=1\n",
    "ylim=0\n",
    "bgenMinMAF=0.001\n",
    "bgenMinINFO=0.8\n",
    "# If --annotate then it will add the label to the plot otherwise --no-annotate\n",
    "lowmem_dir=$lmm_dir_regenie/scratch60/predictions\n",
    "lmm_args=\"\"\"regenie\n",
    "    --cwd $lmm_dir_regenie \n",
    "    --bfile $bfile \n",
    "    --genoFile $genoFile\n",
    "    --phenoFile $phenoFile \n",
    "    --formatFile $formatFile_regenie \n",
    "    --phenoCol $phenoCol\n",
    "    --covarCol $covarCol  \n",
    "    --qCovarCol $qCovarCol\n",
    "    --bsize $bsize\n",
    "    --lowmem_dir $lowmem_dir\n",
    "    --trait $trait \n",
    "    --bgenMinMAF $bgenMinMAF \n",
    "    --bgenMinINFO $bgenMinINFO\n",
    "    --maf_filter $maf_filter\n",
    "    --geno_filter $geno_filter\n",
    "    --hwe_filter $hwe_filter\n",
    "    --mind_filter $mind_filter\n",
    "    --minMAC $minMAC\n",
    "    --job_size $lmm_job_size\n",
    "    --ylim $ylim\n",
    "    --reverse_log_p $reverse_log_p\n",
    "    --numThreads $numThreads\n",
    "    --anno_file $anno_file\n",
    "    --label_annotate $label_annotate\n",
    "    --container_lmm $container_lmm\n",
    "    --container_marp $container_marp\n",
    "\"\"\"\n",
    "\n",
    "sos run ~/working/UKBB_GWAS_dev/admin/Get_Job_Script.ipynb csg\\\n",
    "    --template-file $tpl_file \\\n",
    "    --workflow-file $lmm_sos \\\n",
    "    --to-script $lmm_sbatch_regenie \\\n",
    "    --args \"$lmm_args\" "
   ]
  },
  {
   "cell_type": "code",
   "execution_count": null,
   "id": "b10b4f30-f642-41be-b0b1-6f392abcb121",
   "metadata": {},
   "outputs": [],
   "source": []
  }
 ],
 "metadata": {
  "kernelspec": {
   "display_name": "Calysto Bash",
   "language": "bash",
   "name": "calysto_bash"
  },
  "language_info": {
   "file_extension": ".sh",
   "help_links": [
    {
     "text": "MetaKernel Magics",
     "url": "https://metakernel.readthedocs.io/en/latest/source/README.html"
    }
   ],
   "mimetype": "text/x-sh",
   "name": "bash",
   "version": "0.2.2"
  },
  "sos": {
   "kernels": [
    [
     "Bash",
     "calysto_bash",
     "Bash",
     "#E6EEFF",
     ""
    ]
   ],
   "version": "0.22.3"
  }
 },
 "nbformat": 4,
 "nbformat_minor": 5
}
