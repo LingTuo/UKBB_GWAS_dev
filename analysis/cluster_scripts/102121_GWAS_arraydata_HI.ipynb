{
 "cells": [
  {
   "cell_type": "markdown",
   "id": "b1b5da1e-486f-4cdc-852b-0ac85ae24869",
   "metadata": {
    "kernel": "SoS",
    "tags": []
   },
   "source": [
    "# GWAS with array data for Hearing impairment traits\n",
    "\n",
    "In this notebook I'll add all the scripts intended to generate summary stats for genotype array data with HI phenotypes. This is the previous step before doing interaction analysis. "
   ]
  },
  {
   "cell_type": "markdown",
   "id": "68cdace3-da02-4796-aa39-c53361123585",
   "metadata": {
    "kernel": "Bash"
   },
   "source": [
    "## Columbia's cluster\n",
    "\n",
    "Run this cell if running your jobs on Columbia's cluster"
   ]
  },
  {
   "cell_type": "code",
   "execution_count": 6,
   "id": "fe5c188a-64ba-462b-bf86-45cad0b370b7",
   "metadata": {
    "kernel": "Bash"
   },
   "outputs": [
    {
     "name": "stdout",
     "output_type": "stream",
     "text": [
      "\n"
     ]
    }
   ],
   "source": [
    "# Common variables Columbia's cluster\n",
    "UKBB_PATH=$HOME/UKBiobank\n",
    "UKBB_yale=$HOME/UKBiobank_Yale_transfer\n",
    "USER_PATH=$HOME/project\n",
    "container_lmm=$HOME/containers/lmm.sif\n",
    "container_marp=$HOME/containers/marp.sif\n",
    "container_annovar=$HOME/containers/gatk4-annovar.sif\n",
    "hearing_pheno_path=$UKBB_PATH/phenotype_files/hearing_impairment\n",
    "tpl_file=$USER_PATH/bioworkflows/admin/csg.yml\n",
    "formatFile_fastgwa=$USER_PATH/UKBB_GWAS_dev/data/fastGWA_template.yml\n",
    "formatFile_bolt=$USER_PATH/UKBB_GWAS_dev/data/boltlmm_template.yml\n",
    "formatFile_saige=$USER_PATH/UKBB_GWAS_dev/data/saige_template.yml\n",
    "formatFile_regenie=$USER_PATH/UKBB_GWAS_dev/data/regenie_template.yml\n",
    "\n",
    "# Cleaned Imputed data BGEN input\n",
    "##genoFile=`echo $UKBB_yale/ukb39554_imputeddataset/ukb_imp_chr{1..22}_v3.bgen`\n",
    "##sampleFile=$UKBB_yale/ukb39554_imputeddataset/ukb32285_imputedindiv.sample\n"
   ]
  },
  {
   "cell_type": "markdown",
   "id": "59377c87-e65c-4442-9184-cbf16e1c333c",
   "metadata": {
    "kernel": "Bash"
   },
   "source": [
    "## Shared variables for workflows and results"
   ]
  },
  {
   "cell_type": "code",
   "execution_count": 7,
   "id": "13b7deae-24de-410d-aa34-0d75b8e6831a",
   "metadata": {
    "kernel": "Bash"
   },
   "outputs": [
    {
     "name": "stdout",
     "output_type": "stream",
     "text": [
      "\n"
     ]
    }
   ],
   "source": [
    "# Workflows\n",
    "lmm_sos=$USER_PATH/bioworkflows/GWAS/LMM.ipynb\n",
    "anno_sos=$USER_PATH/bioworkflows/variant-annotation/annovar.ipynb\n",
    "clumping_sos=$USER_PATH/bioworkflows/GWAS/LD_Clumping.ipynb\n",
    "extract_sos=$USER_PATH/bioworkflows/GWAS/Region_Extraction.ipynb\n",
    "snptogene_sos=$USER_PATH/UKBB_GWAS_dev/workflow/snptogene.ipynb\n",
    "\n",
    "# LMM directories for array data data\n",
    "lmm_imp_dir_fastgwa=$UKBB_PATH/results/FastGWA_results/results_array_data\n",
    "lmm_imp_dir_bolt=$UKBB_PATH/results/BOLTLMM_results/results_array_data\n",
    "lmm_imp_dir_saige=$UKBB_PATH/results/SAIGE_results/results_array_data\n",
    "lmm_imp_dir_regenie=$UKBB_PATH/results/REGENIE_results/results_array_data\n",
    "\n",
    "# LMM directories for exome data\n",
    "lmm_exome_dir_fastgwa=$UKBB_PATH/results/FastGWA_results/results_array_data\n",
    "lmm_exome_dir_bolt=$UKBB_PATH/results/BOLTLMM_results/results_array_data\n",
    "lmm_exome_dir_saige=$UKBB_PATH/results/SAIGE_results/results_array_data\n",
    "lmm_exome_dir_regenie=$UKBB_PATH/results/REGENIE_results/results_array_data"
   ]
  },
  {
   "cell_type": "markdown",
   "id": "6df31e9e-11b6-4884-9370-0da54fd54698",
   "metadata": {
    "kernel": "Bash"
   },
   "source": [
    "## Specification of LMM variables"
   ]
  },
  {
   "cell_type": "code",
   "execution_count": 8,
   "id": "ef6b8de8-7317-40cf-ac5f-3f330d72055e",
   "metadata": {
    "kernel": "Bash"
   },
   "outputs": [
    {
     "name": "stdout",
     "output_type": "stream",
     "text": [
      "\n"
     ]
    }
   ],
   "source": [
    "### Specific to REGENIE\n",
    "bsize=1000\n",
    "lowmem=$HOME/scratch60/\n",
    "lowmem_dir=$HOME/scratch60/predictions\n",
    "trait=bt\n",
    "minMAC=4\n",
    "maf_filter=0\n",
    "geno_filter=0\n",
    "hwe_filter=0\n",
    "mind_filter=0\n",
    "reverse_log_p=True"
   ]
  },
  {
   "cell_type": "markdown",
   "id": "2dd8de92-6b94-4f8e-a269-6ab6e52a6ad6",
   "metadata": {
    "kernel": "Bash"
   },
   "source": [
    "## Specification of LD clumping variables"
   ]
  },
  {
   "cell_type": "code",
   "execution_count": 4,
   "id": "c17ca21c-2dd3-4d9b-9b42-c18ec8b5f620",
   "metadata": {
    "kernel": "Bash"
   },
   "outputs": [
    {
     "name": "stdout",
     "output_type": "stream",
     "text": [
      "\n"
     ]
    }
   ],
   "source": [
    "# LD clumping directories\n",
    "clumping_dir=$UKBB_PATH/results/LD_clumping\n",
    "\n",
    "# Changes dependending upon which traits are analyzed\n",
    "ld_sample_size=200\n",
    "clump_field=P\n",
    "clump_p1=0.01\n",
    "clump_p2=1\n",
    "clump_r2=0.2\n",
    "clump_kb=2000\n",
    "clump_annotate=BP\n",
    "numThreads=2\n",
    "clump_job_size=1"
   ]
  },
  {
   "cell_type": "markdown",
   "id": "ea6e10c8-3a83-46a3-80b1-1b345c403344",
   "metadata": {
    "kernel": "SoS"
   },
   "source": [
    "# f3393"
   ]
  },
  {
   "cell_type": "code",
   "execution_count": null,
   "id": "a00c2dc4-0f7f-4e45-98fc-34dd10c68e03",
   "metadata": {
    "kernel": "SoS"
   },
   "outputs": [],
   "source": [
    "## All filters set to 0 because the version of the bfile has already been QC'ed previously and there is not need to do it here\n",
    "maf_filter=0\n",
    "geno_filter=0\n",
    "hwe_filter=0\n",
    "mind_filter=0\n",
    "lmm_dir_regenie=$lmm_imputed_dir_regenie/$(date +\"%Y-%m-%d\")_f3393_array\n",
    "lmm_sbatch_regenie=$USER_PATH/UKBB_GWAS_dev/output/f3393_hearing_aid_200K-regenie_$(date +\"%Y-%m-%d\").sbatch\n",
    "#Use the phenotype file for the 500K individuals\n",
    "phenoFile=$hearing_pheno_path/fulldb_500K/100521_UKBB_Hearing_aid_f3393_expandedwhite_15601cases_237318ctrl_500k_PC1_PC2\n",
    "phenoCol=f3393\n",
    "covarCol=sex\n",
    "qCovarCol=\"age PC1 PC2\"\n",
    "#Use the original bed files that passed QC using Megan's parameters geno=0.01, mind=0.1, maf=0.01, hwe=5e-08\n",
    "bfile=$UKBB_PATH/genotype_files_processed/090221_sample_variant_qc_final_callrate90/cache/UKB_genotypedatadownloaded083019.090221_sample_variant_qc_final_callrate90.filtered.extracted.bed\n",
    "# Use the same bfile here for the association\n",
    "genoFile=$UKBB_PATH/genotype_files_processed/090221_sample_variant_qc_final_callrate90/cache/UKB_genotypedatadownloaded083019.090221_sample_variant_qc_final_callrate90.filtered.extracted.bed\n",
    "## After doing the annotation you can create the annotatted manhatan plot\n",
    "anno_file=\n",
    "label_annotate=SNP\n",
    "known_vars=\n",
    "new_vars=\n",
    "\n",
    "# If --annotate then it will add the label to the plot otherwise --no-annotate\n",
    "\n",
    "lmm_args=\"\"\"regenie\n",
    "    --cwd $lmm_dir_regenie \n",
    "    --bfile $bfile \n",
    "    --genoFile $genoFile\n",
    "    --phenoFile $phenoFile \n",
    "    --formatFile $formatFile_regenie \n",
    "    --phenoCol $phenoCol\n",
    "    --covarCol $covarCol  \n",
    "    --qCovarCol $qCovarCol\n",
    "    --bsize $bsize\n",
    "    --lowmem_dir $lowmem_dir\n",
    "    --trait $trait \n",
    "    --bgenMinMAF $bgenMinMAF \n",
    "    --bgenMinINFO $bgenMinINFO\n",
    "    --maf_filter $maf_filter\n",
    "    --geno_filter $geno_filter\n",
    "    --hwe_filter $hwe_filter\n",
    "    --mind_filter $mind_filter\n",
    "    --minMAC $minMAC\n",
    "    --job_size $lmm_job_size\n",
    "    --ylim $ylim\n",
    "    --reverse_log_p $reverse_log_p\n",
    "    --numThreads $numThreads\n",
    "    --anno_file $anno_file\n",
    "    --label_annotate $label_annotate\n",
    "    --container_lmm $container_lmm\n",
    "    --container_marp $container_marp\n",
    "\"\"\"\n",
    "\n",
    "sos run ~/project/UKBB_GWAS_dev/admin/Get_Job_Script.ipynb csg\\\n",
    "    --template-file $tpl_file \\\n",
    "    --workflow-file $lmm_sos \\\n",
    "    --to-script $lmm_sbatch_regenie \\\n",
    "    --args \"$lmm_args\" "
   ]
  }
 ],
 "metadata": {
  "kernelspec": {
   "display_name": "SoS",
   "language": "sos",
   "name": "sos"
  },
  "language_info": {
   "codemirror_mode": "sos",
   "file_extension": ".sos",
   "mimetype": "text/x-sos",
   "name": "sos",
   "nbconvert_exporter": "sos_notebook.converter.SoS_Exporter",
   "pygments_lexer": "sos"
  },
  "sos": {
   "kernels": [
    [
     "SoS",
     "sos",
     "",
     ""
    ]
   ],
   "version": "0.22.6"
  }
 },
 "nbformat": 4,
 "nbformat_minor": 5
}
