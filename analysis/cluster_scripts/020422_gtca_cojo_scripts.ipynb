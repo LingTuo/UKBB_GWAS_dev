{
 "cells": [
  {
   "cell_type": "markdown",
   "id": "f6943871-68d4-4f64-b4d2-c126bae23ea0",
   "metadata": {
    "kernel": "SoS",
    "tags": []
   },
   "source": [
    "# Scripts for conditional analysis"
   ]
  },
  {
   "cell_type": "markdown",
   "id": "ca526122-ee3c-4936-8ab9-79843b4dbe85",
   "metadata": {
    "kernel": "Bash"
   },
   "source": [
    "### Columbia's cluster\n",
    "\n",
    "Run this cell if running your jobs on Columbia's cluster"
   ]
  },
  {
   "cell_type": "code",
   "execution_count": 1,
   "id": "36d58d09-401d-43e6-a288-04bbaf27ab97",
   "metadata": {
    "kernel": "Bash"
   },
   "outputs": [
    {
     "name": "stderr",
     "output_type": "stream",
     "text": [
      "Traceback (most recent call last):\n",
      "  File \"/home/dmc2245/miniconda3/lib/python3.8/runpy.py\", line 194, in _run_module_as_main\n",
      "    return _run_code(code, main_globals, None,\n",
      "  File \"/home/dmc2245/miniconda3/lib/python3.8/runpy.py\", line 87, in _run_code\n",
      "    exec(code, run_globals)\n",
      "  File \"/home/dmc2245/miniconda3/lib/python3.8/site-packages/calysto_bash/__main__.py\", line 2, in <module>\n",
      "    from .kernel import BashKernel\n",
      "  File \"/home/dmc2245/miniconda3/lib/python3.8/site-packages/calysto_bash/kernel.py\", line 6, in <module>\n",
      "    from metakernel import MetaKernel\n",
      "  File \"/home/dmc2245/miniconda3/lib/python3.8/site-packages/metakernel/__init__.py\", line 1, in <module>\n",
      "    from ._metakernel import (\n",
      "  File \"/home/dmc2245/miniconda3/lib/python3.8/site-packages/metakernel/_metakernel.py\", line 22, in <module>\n",
      "    from ipykernel.kernelapp import IPKernelApp\n",
      "  File \"/home/dmc2245/miniconda3/lib/python3.8/site-packages/ipykernel/__init__.py\", line 2, in <module>\n",
      "    from .connect import *\n",
      "  File \"/home/dmc2245/miniconda3/lib/python3.8/site-packages/ipykernel/connect.py\", line 12, in <module>\n",
      "    import jupyter_client\n",
      "  File \"/home/dmc2245/miniconda3/lib/python3.8/site-packages/jupyter_client/__init__.py\", line 4, in <module>\n",
      "    from .connect import *\n",
      "  File \"/home/dmc2245/miniconda3/lib/python3.8/site-packages/jupyter_client/connect.py\", line 21, in <module>\n",
      "    import zmq\n",
      "  File \"/home/dmc2245/miniconda3/lib/python3.8/site-packages/zmq/__init__.py\", line 103, in <module>\n",
      "    from zmq import backend\n",
      "  File \"/home/dmc2245/miniconda3/lib/python3.8/site-packages/zmq/backend/__init__.py\", line 27, in <module>\n",
      "    _ns = select_backend(first)\n",
      "  File \"/home/dmc2245/miniconda3/lib/python3.8/site-packages/zmq/backend/select.py\", line 32, in select_backend\n",
      "    mod = import_module(name)\n",
      "  File \"/home/dmc2245/miniconda3/lib/python3.8/importlib/__init__.py\", line 127, in import_module\n",
      "    return _bootstrap._gcd_import(name[level:], package, level)\n",
      "  File \"/home/dmc2245/miniconda3/lib/python3.8/site-packages/zmq/backend/cython/__init__.py\", line 6, in <module>\n",
      "    from . import (\n",
      "  File \"<frozen importlib._bootstrap>\", line 389, in parent\n",
      "KeyboardInterrupt\n",
      "/home/dmc2245/miniconda3/lib/python3.8/site-packages/sos_notebook/kernel.py:1334: DeprecationWarning: Kernel._parent_header is deprecated in ipykernel 6. Use .get_parent()\n",
      "  msg['msg_id'] = self._parent_header['header']['msg_id']\n"
     ]
    },
    {
     "name": "stdout",
     "output_type": "stream",
     "text": [
      "\n"
     ]
    }
   ],
   "source": [
    "# Common variables Columbia's cluster\n",
    "UKBB_PATH=$HOME/UKBiobank\n",
    "UKBB_yale=$HOME/UKBiobank_Yale_transfer\n",
    "USER_PATH=$HOME/project\n",
    "container_lmm=$HOME/containers/lmm.sif\n",
    "container_marp=$HOME/containers/marp.sif\n",
    "container_annovar=$HOME/containers/gatk4-annovar.sif\n",
    "hearing_pheno_path=$UKBB_PATH/phenotype_files/hearing_impairment\n",
    "tpl_file=$USER_PATH/bioworkflows/admin/csg.yml\n",
    "formatFile_fastgwa=$USER_PATH/UKBB_GWAS_dev/data/fastGWA_template.yml\n",
    "formatFile_bolt=$USER_PATH/UKBB_GWAS_dev/data/boltlmm_template.yml\n",
    "formatFile_saige=$USER_PATH/UKBB_GWAS_dev/data/saige_template.yml\n",
    "formatFile_regenie=$USER_PATH/UKBB_GWAS_dev/data/regenie_template.yml\n",
    "##bfile=$UKBB_yale/pleiotropy_geneticfiles/UKB_Caucasians_phenotypeindepqc120319_updated082020removedwithdrawnindiv.bed\n",
    "##unrelated_samples=$UKBB_yale/pleiotropy_geneticfiles/unrelated_n307259/UKB_unrelatedcauc_phenotypes_asthmat2dbmiwaisthip_agesex_waisthipratio_040620\n",
    "\n",
    "# Cleaned Imputed data BGEN input\n",
    "##genoFile=`echo $UKBB_yale/ukb39554_imputeddataset/ukb_imp_chr{1..22}_v3.bgen`\n",
    "##sampleFile=$UKBB_yale/ukb39554_imputeddataset/ukb32285_imputedindiv.sample\n",
    "\n",
    "# Non-QC'ed Exome data PLINK input (as downloaded from the UKBB)\n",
    "##genoFile=`echo $UKBB_yale/ukb28374_exomedata/exome_data_OCT2020/ukb23155_c{1..22}_b0_v1.bed`"
   ]
  },
  {
   "cell_type": "markdown",
   "id": "6e1ca965-d5de-4bf4-bf84-928bb08d31a4",
   "metadata": {
    "kernel": "Bash"
   },
   "source": [
    "## Shared variables for workflows and results"
   ]
  },
  {
   "cell_type": "code",
   "execution_count": 2,
   "id": "42a0a6f6-73e7-4161-b9af-43c5e0dbf0ca",
   "metadata": {
    "kernel": "Bash"
   },
   "outputs": [
    {
     "name": "stdout",
     "output_type": "stream",
     "text": [
      "\n"
     ]
    }
   ],
   "source": [
    "# Workflows\n",
    "lmm_sos=$USER_PATH/bioworkflows/GWAS/LMM.ipynb\n",
    "anno_sos=$USER_PATH/bioworkflows/variant-annotation/annovar.ipynb\n",
    "clumping_sos=$USER_PATH/bioworkflows/GWAS/LD_Clumping.ipynb\n",
    "extract_sos=$USER_PATH/bioworkflows/GWAS/Region_Extraction.ipynb\n",
    "snptogene_sos=$USER_PATH/UKBB_GWAS_dev/workflow/snptogene.ipynb\n",
    "\n",
    "# LMM directories for imputed data\n",
    "lmm_imp_dir_fastgwa=$UKBB_PATH/results/FastGWA_results/results_imputed_data\n",
    "lmm_imp_dir_bolt=$UKBB_PATH/results/BOLTLMM_results/results_imputed_data\n",
    "lmm_imp_dir_saige=$UKBB_PATH/results/SAIGE_results/results_imputed_data\n",
    "lmm_imp_dir_regenie=$UKBB_PATH/results/REGENIE_results/results_imputed_data\n",
    "\n",
    "# LMM directories for exome data\n",
    "lmm_exome_dir_fastgwa=$UKBB_PATH/results/FastGWA_results/results_exome_data\n",
    "lmm_exome_dir_bolt=$UKBB_PATH/results/BOLTLMM_results/results_exome_data\n",
    "lmm_exome_dir_saige=$UKBB_PATH/results/SAIGE_results/results_exome_data\n",
    "lmm_exome_dir_regenie=$UKBB_PATH/results/REGENIE_results/results_exome_data"
   ]
  },
  {
   "cell_type": "code",
   "execution_count": null,
   "id": "d02c65ad-dc3b-4ae4-ae6d-5d1421fc401d",
   "metadata": {
    "kernel": "SoS"
   },
   "outputs": [],
   "source": [
    "## Create subset for a bfile to be used as LD reference for GCTA-COJO analysis\n",
    "## Chromosome 1\n",
    "\n",
    "plink --bfile ~/UKBiobank/data/exome_files/project_VCF/072721_run/plink/ukb23156_c1.merged.filtered \\\n",
    "--keep ~/UKBiobank/results/083021_PCA_results/090221_ldprun_unrelated/cache/UKB_genotypedatadownloaded083019.090221_sample_variant_qc_final_callrate90.filtered.extracted.europeans.filtered.090221_ldprun_unrelated.filtered.fam \\\n",
    "--make-bed --out ~/hearing/bfile_gtca/ukb23156_c1.merged.filtered.unrelated.whiteext"
   ]
  },
  {
   "cell_type": "code",
   "execution_count": null,
   "id": "384a9771-0543-43f6-8e10-3772a8035b00",
   "metadata": {
    "kernel": "SoS"
   },
   "outputs": [],
   "source": [
    "## Create subset for a bfile to be used as LD reference for GCTA-COJO analysis\n",
    "## Chromosome 6\n",
    "\n",
    "plink --bfile ~/UKBiobank/data/exome_files/project_VCF/072721_run/plink/ukb23156_c6.merged.filtered \\\n",
    "--keep ~/UKBiobank/results/083021_PCA_results/090221_ldprun_unrelated/cache/UKB_genotypedatadownloaded083019.090221_sample_variant_qc_final_callrate90.filtered.extracted.europeans.filtered.090221_ldprun_unrelated.filtered.fam \\\n",
    "--make-bed --out ~/hearing/bfile_gtca/ukb23156_c6.merged.filtered.unrelated.whiteext"
   ]
  },
  {
   "cell_type": "code",
   "execution_count": null,
   "id": "33f49106-2af7-496c-9e22-5df81c19cd19",
   "metadata": {
    "kernel": "SoS"
   },
   "outputs": [],
   "source": [
    "## Create subset for a bfile to be used as LD reference for GCTA-COJO analysis\n",
    "## Chromosome 6\n",
    "\n",
    "plink --bfile ~/UKBiobank/data/exome_files/project_VCF/072721_run/plink/ukb23156_c7.merged.filtered \\\n",
    "--keep ~/UKBiobank/results/083021_PCA_results/090221_ldprun_unrelated/cache/UKB_genotypedatadownloaded083019.090221_sample_variant_qc_final_callrate90.filtered.extracted.europeans.filtered.090221_ldprun_unrelated.filtered.fam \\\n",
    "--make-bed --out ~/hearing/bfile_gtca/ukb23156_c7.merged.filtered.unrelated.whiteext"
   ]
  },
  {
   "cell_type": "markdown",
   "id": "d1e53f06-9e9d-4d1f-8a5e-b17c89acae55",
   "metadata": {
    "kernel": "SoS"
   },
   "source": [
    "## f.3393 Are FILIP1 and MYO6 independent signals?"
   ]
  },
  {
   "cell_type": "code",
   "execution_count": 4,
   "id": "742c1989-0e8e-4d64-8a9b-f8cef8b995ee",
   "metadata": {
    "kernel": "Bash",
    "tags": []
   },
   "outputs": [
    {
     "name": "stdout",
     "output_type": "stream",
     "text": [
      "INFO: Running \u001b[32mcsg\u001b[0m: Configuration for Columbia csg partition cluster\n",
      "INFO: \u001b[32mcsg\u001b[0m is \u001b[32mcompleted\u001b[0m.\n",
      "INFO: \u001b[32mcsg\u001b[0m output:   \u001b[32m/home/dmc2245/hearing/gcta_c/f3393_hearing_aid_200K_gcta_cond_2022-02-04.sbatch\u001b[0m\n",
      "INFO: Workflow csg (ID=wc208dbf8178f1203) is executed successfully with 1 completed step.\n"
     ]
    }
   ],
   "source": [
    "lmm_dir_regenie=$lmm_exome_dir_regenie/091421_f3393_hearing_aid_200K/020422_gcta_cond_myo6\n",
    "sumstatsFile=$lmm_exome_dir_regenie/090921_f3393_hearing_aid_200K/090321_UKBB_Hearing_aid_f3393_expandedwhite_6436cases_96601ctrl_PC1_2_f3393.regenie.snp_stats_original_columns.gz\n",
    "snp_list=~/test/gcta_cojo/snp.list \n",
    "formatFile=~/project/UKBB_GWAS_dev/data/gcta-cojo_template.yml\n",
    "numThreads=5\n",
    "bfile=~/hearing/bfile_gtca/ukb23156_c6.merged.filtered.unrelated.whiteext.bed\n",
    "job_size=1\n",
    "maf=0.001\n",
    "gcta_cojo_sos=~/project/UKBB_GWAS_dev/workflow/GCTA-COJO.ipynb\n",
    "gcta_sbatch=~/hearing/gcta_c/f3393_hearing_aid_200K_gcta_cond_$(date +\"%Y-%m-%d\").sbatch\n",
    "chrom=6\n",
    "\n",
    "gcta_args=\"\"\"gcta_cond \\\n",
    "    --cwd $lmm_dir_regenie \\\n",
    "    --sumstatsFile $sumstatsFile\\\n",
    "    --snp_list $snp_list\\\n",
    "    --bfile $bfile \\\n",
    "    --job_size $job_size \\\n",
    "    --maf $maf \\\n",
    "    --chrom $chrom \\\n",
    "    --formatFile $formatFile\\\n",
    "    --container_lmm $container_lmm\n",
    "\"\"\"\n",
    "\n",
    "sos run ~/project/UKBB_GWAS_dev/admin/Get_Job_Script.ipynb csg\\\n",
    "    --template-file $tpl_file \\\n",
    "    --workflow-file $gcta_cojo_sos \\\n",
    "    --to-script $gcta_sbatch \\\n",
    "    --args \"$gcta_args\""
   ]
  },
  {
   "cell_type": "markdown",
   "id": "4a17afaa-bc28-49fe-8a93-1102a225b625",
   "metadata": {
    "kernel": "Bash"
   },
   "source": [
    "## f.2247  Are SCL22A7 and CRIP3 independent signals?"
   ]
  },
  {
   "cell_type": "code",
   "execution_count": 6,
   "id": "8aaf9114-d63d-4e8f-8adc-dd1ba9113206",
   "metadata": {
    "kernel": "Bash",
    "tags": []
   },
   "outputs": [
    {
     "name": "stdout",
     "output_type": "stream",
     "text": [
      "INFO: Running \u001b[32mcsg\u001b[0m: Configuration for Columbia csg partition cluster\n",
      "INFO: \u001b[32mcsg\u001b[0m is \u001b[32mcompleted\u001b[0m.\n",
      "INFO: \u001b[32mcsg\u001b[0m output:   \u001b[32m/home/dmc2245/hearing/gcta_c/f2247_hearing_difficulty_200K_gcta_cond_2022-02-04.sbatch\u001b[0m\n",
      "INFO: Workflow csg (ID=w1cc7ddb3fb8c7fbb) is executed successfully with 1 completed step.\n"
     ]
    }
   ],
   "source": [
    "lmm_dir_regenie=$lmm_exome_dir_regenie/090921_f2247_hearing_difficulty_200K/020422_gcta_cojo_chr6\n",
    "sumstatsFile=$lmm_exome_dir_regenie/090921_f2247_hearing_difficulty_200K/*.snp_stats_original_columns.gz\n",
    "snp_list=$lmm_exome_dir_regenie/090921_f2247_hearing_difficulty_200K/020422_gcta_cojo_chr6/CRIP3.snplist\n",
    "formatFile=~/project/UKBB_GWAS_dev/data/gcta-cojo_template.yml\n",
    "numThreads=5\n",
    "bfile=~/hearing/bfile_gtca/ukb23156_c6.merged.filtered.unrelated.whiteext.bed\n",
    "job_size=1\n",
    "maf=0.001\n",
    "gcta_cojo_sos=~/project/UKBB_GWAS_dev/workflow/GCTA-COJO.ipynb\n",
    "gcta_sbatch=~/hearing/gcta_c/f2247_hearing_difficulty_200K_gcta_cond_$(date +\"%Y-%m-%d\").sbatch\n",
    "\n",
    "gcta_args=\"\"\"gcta_cond \\\n",
    "    --cwd $lmm_dir_regenie \\\n",
    "    --sumstatsFile $sumstatsFile\\\n",
    "    --snp_list $snp_list\\\n",
    "    --bfile $bfile \\\n",
    "    --job_size $job_size \\\n",
    "    --maf $maf \\\n",
    "    --formatFile $formatFile\\\n",
    "    --container_lmm $container_lmm\n",
    "\"\"\"\n",
    "\n",
    "sos run ~/project/UKBB_GWAS_dev/admin/Get_Job_Script.ipynb csg\\\n",
    "    --template-file $tpl_file \\\n",
    "    --workflow-file $gcta_cojo_sos \\\n",
    "    --to-script $gcta_sbatch \\\n",
    "    --args \"$gcta_args\""
   ]
  },
  {
   "cell_type": "code",
   "execution_count": 3,
   "id": "ddcfb9fc-d755-4fb5-8558-5aace3f51faf",
   "metadata": {
    "kernel": "Bash"
   },
   "outputs": [
    {
     "name": "stdout",
     "output_type": "stream",
     "text": [
      "INFO: Running \u001b[32mcsg\u001b[0m: Configuration for Columbia csg partition cluster\n",
      "INFO: \u001b[32mcsg\u001b[0m is \u001b[32mcompleted\u001b[0m.\n",
      "INFO: \u001b[32mcsg\u001b[0m output:   \u001b[32m/home/dmc2245/hearing/gcta_c/f2247_hearing_difficulty_200K_gcta_slct_2022-02-09.sbatch\u001b[0m\n",
      "INFO: Workflow csg (ID=w609eeb547ff25dae) is executed successfully with 1 completed step.\n",
      "\n"
     ]
    }
   ],
   "source": [
    "lmm_dir_regenie=$lmm_exome_dir_regenie/090921_f2247_hearing_difficulty_200K/020422_gcta_slct_chr6\n",
    "sumstatsFile=$lmm_exome_dir_regenie/090921_f2247_hearing_difficulty_200K/*.snp_stats_original_columns.gz\n",
    "formatFile=~/project/UKBB_GWAS_dev/data/gcta-cojo_template.yml\n",
    "numThreads=5\n",
    "bfile=~/hearing/bfile_gtca/ukb23156_c6.merged.filtered.unrelated.whiteext.bed\n",
    "job_size=1\n",
    "maf=0.001\n",
    "gcta_cojo_sos=~/project/UKBB_GWAS_dev/workflow/GCTA-COJO.ipynb\n",
    "gcta_sbatch=~/hearing/gcta_c/f2247_hearing_difficulty_200K_gcta_slct_$(date +\"%Y-%m-%d\").sbatch\n",
    "\n",
    "gcta_args=\"\"\"gcta_slct \\\n",
    "    --cwd $lmm_dir_regenie \\\n",
    "    --sumstatsFile $sumstatsFile\\\n",
    "    --bfile $bfile \\\n",
    "    --job_size $job_size \\\n",
    "    --maf $maf \\\n",
    "    --formatFile $formatFile\\\n",
    "    --container_lmm $container_lmm\n",
    "\"\"\"\n",
    "\n",
    "sos run ~/project/UKBB_GWAS_dev/admin/Get_Job_Script.ipynb csg\\\n",
    "    --template-file $tpl_file \\\n",
    "    --workflow-file $gcta_cojo_sos \\\n",
    "    --to-script $gcta_sbatch \\\n",
    "    --args \"$gcta_args\""
   ]
  },
  {
   "cell_type": "markdown",
   "id": "918bfe3f-d859-48ba-b6b4-225fa663ed3a",
   "metadata": {
    "kernel": "Bash"
   },
   "source": [
    "## f.2247 Are MAST2 and PIK3R3 independent signals?"
   ]
  },
  {
   "cell_type": "code",
   "execution_count": null,
   "id": "4028b6fe-802e-4dcb-983e-daa44ea673d0",
   "metadata": {
    "kernel": "Bash",
    "tags": []
   },
   "outputs": [],
   "source": [
    "lmm_dir_regenie=$lmm_exome_dir_regenie/090921_f2247_hearing_difficulty_200K/020422_gcta_cojo_chr1\n",
    "sumstatsFile=$lmm_exome_dir_regenie/090921_f2247_hearing_difficulty_200K/*.snp_stats_original_columns.gz\n",
    "snp_list=$lmm_exome_dir_regenie/090921_f2247_hearing_difficulty_200K/020422_gcta_cojo_chr1/MAST2.snplist\n",
    "formatFile=~/project/UKBB_GWAS_dev/data/gcta-cojo_template.yml\n",
    "numThreads=5\n",
    "bfile=~/hearing/bfile_gtca/ukb23156_c1.merged.filtered.unrelated.whiteext.bed\n",
    "job_size=1\n",
    "maf=0.001\n",
    "gcta_cojo_sos=~/project/UKBB_GWAS_dev/workflow/GCTA-COJO.ipynb\n",
    "gcta_sbatch=~/hearing/gcta_c/f2247_hearing_difficulty_200K_gcta_cond_mast2_$(date +\"%Y-%m-%d\").sbatch\n",
    "chrom=1\n",
    "\n",
    "gcta_args=\"\"\"gcta_cond \\\n",
    "    --cwd $lmm_dir_regenie \\\n",
    "    --sumstatsFile $sumstatsFile\\\n",
    "    --snp_list $snp_list\\\n",
    "    --bfile $bfile \\\n",
    "    --job_size $job_size \\\n",
    "    --maf $maf \\\n",
    "    --chrom $chrom \\\n",
    "    --formatFile $formatFile\\\n",
    "    --container_lmm $container_lmm\n",
    "\"\"\"\n",
    "\n",
    "sos run ~/project/UKBB_GWAS_dev/admin/Get_Job_Script.ipynb csg\\\n",
    "    --template-file $tpl_file \\\n",
    "    --workflow-file $gcta_cojo_sos \\\n",
    "    --to-script $gcta_sbatch \\\n",
    "    --args \"$gcta_args\""
   ]
  },
  {
   "cell_type": "code",
   "execution_count": 5,
   "id": "94c16f47-40b3-49f9-96e2-c9f00bcdced6",
   "metadata": {
    "kernel": "Bash",
    "tags": []
   },
   "outputs": [
    {
     "name": "stdout",
     "output_type": "stream",
     "text": [
      "INFO: Running \u001b[32mcsg\u001b[0m: Configuration for Columbia csg partition cluster\n",
      "INFO: \u001b[32mcsg\u001b[0m is \u001b[32mcompleted\u001b[0m.\n",
      "INFO: \u001b[32mcsg\u001b[0m output:   \u001b[32m/home/dmc2245/hearing/gcta_c/f2247_hearing_difficulty_200K_gcta_slct_chr1_2022-02-09.sbatch\u001b[0m\n",
      "INFO: Workflow csg (ID=w0d935a969b867997) is executed successfully with 1 completed step.\n",
      "\n"
     ]
    }
   ],
   "source": [
    "lmm_dir_regenie=$lmm_exome_dir_regenie/090921_f2247_hearing_difficulty_200K/020422_gcta_slct_chr1\n",
    "sumstatsFile=$lmm_exome_dir_regenie/090921_f2247_hearing_difficulty_200K/*.snp_stats_original_columns.gz\n",
    "formatFile=~/project/UKBB_GWAS_dev/data/gcta-cojo_template.yml\n",
    "numThreads=5\n",
    "bfile=~/hearing/bfile_gtca/ukb23156_c1.merged.filtered.unrelated.whiteext.bed\n",
    "job_size=1\n",
    "maf=0.001\n",
    "gcta_cojo_sos=~/project/UKBB_GWAS_dev/workflow/GCTA-COJO.ipynb\n",
    "gcta_sbatch=~/hearing/gcta_c/f2247_hearing_difficulty_200K_gcta_slct_chr1_$(date +\"%Y-%m-%d\").sbatch\n",
    "chrom=1\n",
    "\n",
    "gcta_args=\"\"\"gcta_slct \\\n",
    "    --cwd $lmm_dir_regenie \\\n",
    "    --sumstatsFile $sumstatsFile\\\n",
    "    --bfile $bfile \\\n",
    "    --job_size $job_size \\\n",
    "    --maf $maf \\\n",
    "    --chrom $chrom \\\n",
    "    --formatFile $formatFile\\\n",
    "    --container_lmm $container_lmm\n",
    "\"\"\"\n",
    "\n",
    "sos run ~/project/UKBB_GWAS_dev/admin/Get_Job_Script.ipynb csg\\\n",
    "    --template-file $tpl_file \\\n",
    "    --workflow-file $gcta_cojo_sos \\\n",
    "    --to-script $gcta_sbatch \\\n",
    "    --args \"$gcta_args\""
   ]
  },
  {
   "cell_type": "markdown",
   "id": "e1866bcf-2bcc-481b-9a33-6b5b361a4945",
   "metadata": {
    "kernel": "SoS"
   },
   "source": [
    "## Combined Are MLXIPL and TBL2 independent signals?"
   ]
  },
  {
   "cell_type": "code",
   "execution_count": 6,
   "id": "cad343c8-369e-4df7-965e-a727b860155f",
   "metadata": {
    "kernel": "Bash"
   },
   "outputs": [
    {
     "name": "stdout",
     "output_type": "stream",
     "text": [
      "INFO: Running \u001b[32mcsg\u001b[0m: Configuration for Columbia csg partition cluster\n",
      "INFO: \u001b[32mcsg\u001b[0m is \u001b[32mcompleted\u001b[0m.\n",
      "INFO: \u001b[32mcsg\u001b[0m output:   \u001b[32m/home/dmc2245/hearing/gcta_c/combined_f2247_f2257_200K_gcta_slct_chr6_2022-02-09.sbatch\u001b[0m\n",
      "INFO: Workflow csg (ID=wde23feca5e78f736) is executed successfully with 1 completed step.\n",
      "\n"
     ]
    }
   ],
   "source": [
    "lmm_dir_regenie=$lmm_exome_dir_regenie/090921_combined_f2247_f2257_200K/020422_gcta_slct_chr6\n",
    "sumstatsFile=$lmm_exome_dir_regenie/090921_combined_f2247_f2257_200K/*.snp_stats_original_columns.gz\n",
    "formatFile=~/project/UKBB_GWAS_dev/data/gcta-cojo_template.yml\n",
    "numThreads=5\n",
    "bfile=~/hearing/bfile_gtca/ukb23156_c6.merged.filtered.unrelated.whiteext.bed\n",
    "job_size=1\n",
    "maf=0.001\n",
    "gcta_cojo_sos=~/project/UKBB_GWAS_dev/workflow/GCTA-COJO.ipynb\n",
    "gcta_sbatch=~/hearing/gcta_c/combined_f2247_f2257_200K_gcta_slct_chr6_$(date +\"%Y-%m-%d\").sbatch\n",
    "chrom=6\n",
    "\n",
    "gcta_args=\"\"\"gcta_slct \\\n",
    "    --cwd $lmm_dir_regenie \\\n",
    "    --sumstatsFile $sumstatsFile\\\n",
    "    --bfile $bfile \\\n",
    "    --job_size $job_size \\\n",
    "    --maf $maf \\\n",
    "    --chrom $chrom \\\n",
    "    --formatFile $formatFile\\\n",
    "    --container_lmm $container_lmm\n",
    "\"\"\"\n",
    "\n",
    "sos run ~/project/UKBB_GWAS_dev/admin/Get_Job_Script.ipynb csg\\\n",
    "    --template-file $tpl_file \\\n",
    "    --workflow-file $gcta_cojo_sos \\\n",
    "    --to-script $gcta_sbatch \\\n",
    "    --args \"$gcta_args\""
   ]
  },
  {
   "cell_type": "code",
   "execution_count": 10,
   "id": "8ca027c9-56e2-4c60-8ef6-4c0820c22df9",
   "metadata": {
    "kernel": "Bash",
    "tags": []
   },
   "outputs": [
    {
     "name": "stdout",
     "output_type": "stream",
     "text": [
      "INFO: Running \u001b[32mcsg\u001b[0m: Configuration for Columbia csg partition cluster\n",
      "INFO: \u001b[32mcsg\u001b[0m is \u001b[32mcompleted\u001b[0m.\n",
      "INFO: \u001b[32mcsg\u001b[0m output:   \u001b[32m/home/dmc2245/hearing/gcta_c/combined_f2247_f2257_200K_gcta_slct_chr7_2022-02-09.sbatch\u001b[0m\n",
      "INFO: Workflow csg (ID=w4717b46d4f267b08) is executed successfully with 1 completed step.\n",
      "\n"
     ]
    }
   ],
   "source": [
    "lmm_dir_regenie=$lmm_exome_dir_regenie/090921_combined_f2247_f2257_200K/020422_gcta_slct_chr7\n",
    "sumstatsFile=$lmm_exome_dir_regenie/090921_combined_f2247_f2257_200K/*.snp_stats_original_columns.gz\n",
    "formatFile=~/project/UKBB_GWAS_dev/data/gcta-cojo_template.yml\n",
    "numThreads=5\n",
    "bfile=~/hearing/bfile_gtca/ukb23156_c7.merged.filtered.unrelated.whiteext.bed\n",
    "job_size=1\n",
    "gcta_cojo_sos=~/project/UKBB_GWAS_dev/workflow/GCTA-COJO.ipynb\n",
    "gcta_sbatch=~/hearing/gcta_c/combined_f2247_f2257_200K_gcta_slct_chr7_$(date +\"%Y-%m-%d\").sbatch\n",
    "chrom=7\n",
    "\n",
    "gcta_args=\"\"\"gcta_slct \\\n",
    "    --cwd $lmm_dir_regenie \\\n",
    "    --sumstatsFile $sumstatsFile\\\n",
    "    --bfile $bfile \\\n",
    "    --job_size $job_size \\\n",
    "    --chrom $chrom \\\n",
    "    --formatFile $formatFile\\\n",
    "    --container_lmm $container_lmm\n",
    "\"\"\"\n",
    "\n",
    "sos run ~/project/UKBB_GWAS_dev/admin/Get_Job_Script.ipynb csg\\\n",
    "    --template-file $tpl_file \\\n",
    "    --workflow-file $gcta_cojo_sos \\\n",
    "    --to-script $gcta_sbatch \\\n",
    "    --args \"$gcta_args\""
   ]
  },
  {
   "cell_type": "code",
   "execution_count": null,
   "id": "e37c9178-8765-42c6-a3d5-cd60fde62816",
   "metadata": {
    "kernel": "SoS"
   },
   "outputs": [],
   "source": []
  }
 ],
 "metadata": {
  "kernelspec": {
   "display_name": "SoS",
   "language": "sos",
   "name": "sos"
  },
  "language_info": {
   "codemirror_mode": "sos",
   "file_extension": ".sos",
   "mimetype": "text/x-sos",
   "name": "sos",
   "nbconvert_exporter": "sos_notebook.converter.SoS_Exporter",
   "pygments_lexer": "sos"
  },
  "sos": {
   "kernels": [
    [
     "Bash",
     "calysto_bash",
     "Bash",
     "#E6EEFF",
     "shell"
    ],
    [
     "SoS",
     "sos",
     "",
     "",
     "sos"
    ]
   ],
   "version": "0.22.6"
  },
  "toc-autonumbering": false
 },
 "nbformat": 4,
 "nbformat_minor": 5
}
