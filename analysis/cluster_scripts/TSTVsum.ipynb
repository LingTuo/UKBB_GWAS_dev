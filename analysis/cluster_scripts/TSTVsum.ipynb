{
 "cells": [
  {
   "cell_type": "markdown",
   "id": "12e89a58-5ef5-4af5-b4d9-f7c1e451e9e6",
   "metadata": {
    "kernel": "SoS",
    "tags": []
   },
   "source": [
    "# Summarize the TSTV information extracted"
   ]
  },
  {
   "cell_type": "markdown",
   "id": "375d9932-f416-4b6a-bee2-a5241614ae09",
   "metadata": {
    "kernel": "SoS"
   },
   "source": [
    "Now we have a list of results for each block under `~/UKBiobank/data/exome_files/project_VCF/072721_run/stats/`:\n",
    "```\n",
    "ukb23156_c10_b0_v1.leftnorm.filtered.stats_bcftools\n",
    "ukb23156_c10_b0_v1.leftnorm.filtered.stats_bcftools.known\n",
    "ukb23156_c10_b0_v1.leftnorm.filtered.stats_bcftools.novel\n",
    "ukb23156_c10_b0_v1.leftnorm.filtered.stats_snpsift\n",
    "ukb23156_c10_b0_v1.leftnorm.filtered.stderr\n",
    "ukb23156_c10_b0_v1.leftnorm.filtered.stdout\n",
    "ukb23156_c10_b0_v1.leftnorm.filtered.tstv\n",
    "ukb23156_c10_b0_v1.leftnorm.stats_bcftools.known\n",
    "ukb23156_c10_b0_v1.leftnorm.stats_bcftools.maf\n",
    "ukb23156_c10_b0_v1.leftnorm.stats_bcftools.novel\n",
    "ukb23156_c10_b0_v1.leftnorm.stats_snpsift\n",
    "ukb23156_c10_b0_v1.leftnorm.stderr\n",
    "ukb23156_c10_b0_v1.leftnorm.stdout\n",
    "ukb23156_c10_b0_v1.stats_bcftools\n",
    "ukb23156_c10_b0_v1.stats_snpsift\n",
    "ukb23156_c10_b0_v1.stderr\n",
    "ukb23156_c10_b0_v1.stdout\n",
    "ukb23156_c10_b0_v1.unfiltered.tstv\n",
    "```"
   ]
  },
  {
   "cell_type": "code",
   "execution_count": 15,
   "id": "292be02d-a27d-4e6f-8314-e534569dbe12",
   "metadata": {
    "kernel": "Bash",
    "tags": []
   },
   "outputs": [
    {
     "name": "stdout",
     "output_type": "stream",
     "text": [
      "# TSTV, transitions/transversions:\n",
      "# TSTV\t[2]id\t[3]ts\t[4]tv\t[5]ts/tv\t[6]ts (1st ALT)\t[7]tv (1st ALT)\t[8]ts/tv (1st ALT)\n",
      "TSTV\t0\t11411\t5389\t2.12\t10826\t4305\t2.51\n",
      "\n"
     ]
    }
   ],
   "source": [
    "cat ~/UKBiobank/data/exome_files/project_VCF/072721_run/stats/ukb23156_c10_b0_v1.unfiltered.tstv"
   ]
  },
  {
   "cell_type": "code",
   "execution_count": 6,
   "id": "b6dfe79e-5f62-4855-8d54-40d8689c5fed",
   "metadata": {
    "kernel": "Bash"
   },
   "outputs": [
    {
     "name": "stdout",
     "output_type": "stream",
     "text": [
      "# TSTV, transitions/transversions:\n",
      "# TSTV\t[2]id\t[3]ts\t[4]tv\t[5]ts/tv\t[6]ts (1st ALT)\t[7]tv (1st ALT)\t[8]ts/tv (1st ALT)\n",
      "TSTV\t0\t11411\t5389\t2.12\t10826\t4305\t2.51\n",
      "\n"
     ]
    }
   ],
   "source": [
    "cat ~/UKBiobank/data/exome_files/project_VCF/072721_run/stats/ukb23156_c10_b0_v1.stats_bcftools | grep TSTV"
   ]
  },
  {
   "cell_type": "code",
   "execution_count": 11,
   "id": "edba1899-77a2-4c24-8565-6e860faedd02",
   "metadata": {
    "kernel": "Bash"
   },
   "outputs": [
    {
     "name": "stdout",
     "output_type": "stream",
     "text": [
      "Ts/Tv  6.273 4.813 6.059 4.808 4.292\n",
      "\n"
     ]
    }
   ],
   "source": [
    "cat ~/UKBiobank/data/exome_files/project_VCF/072721_run/stats/ukb23156_c10_b0_v1.stats_snpsift | grep Ts/Tv | awk -F \",\" '{NF=6}1'"
   ]
  },
  {
   "cell_type": "code",
   "execution_count": 13,
   "id": "8f390e2e-9a1c-4c46-8e1f-ac1012d20828",
   "metadata": {
    "kernel": "Bash"
   },
   "outputs": [
    {
     "name": "stdout",
     "output_type": "stream",
     "text": [
      "200645\n",
      "\n"
     ]
    }
   ],
   "source": [
    "cat ~/UKBiobank/data/exome_files/project_VCF/072721_run/stats/ukb23156_c10_b0_v1.stats_snpsift | grep Ts/Tv | tr \",\" \"\\n\" | wc -l"
   ]
  },
  {
   "cell_type": "code",
   "execution_count": 1,
   "id": "1a329872-18f2-438e-8e72-6010f0d00a13",
   "metadata": {
    "kernel": "Bash"
   },
   "outputs": [
    {
     "ename": "RuntimeError",
     "evalue": "Failed to start kernel \"Bash\". Kernel didn't respond in 30 seconds\nError Message:\n",
     "execution_count": 1,
     "output_type": "error",
     "status": "error",
     "traceback": [
      "\u001b[91mFailed to start kernel \"Bash\". Kernel didn't respond in 30 seconds\nError Message:\n\u001b[0m"
     ]
    }
   ],
   "source": [
    "cat ~/UKBiobank/data/exome_files/project_VCF/072721_run/stats/ukb23156_c10_b0_v1.stats_snpsift | grep Ts | awk -F \",\" '{NF=6}1'"
   ]
  },
  {
   "cell_type": "code",
   "execution_count": 1,
   "id": "6b8a6c1d-b1b5-4457-9544-210a9574e5ca",
   "metadata": {
    "kernel": "Bash"
   },
   "outputs": [
    {
     "name": "stdout",
     "output_type": "stream",
     "text": [
      "# TSTV, transitions/transversions:\n",
      "# TSTV\t[2]id\t[3]ts\t[4]tv\t[5]ts/tv\t[6]ts (1st ALT)\t[7]tv (1st ALT)\t[8]ts/tv (1st ALT)\n",
      "TSTV\t0\t3144\t1721\t1.83\t3144\t1721\t1.83\n",
      "\n"
     ]
    }
   ],
   "source": [
    "cat ~/UKBiobank/data/exome_files/project_VCF/072721_run/stats/ukb23156_c10_b0_v1.leftnorm.stats_bcftools.novel | grep TSTV"
   ]
  },
  {
   "cell_type": "code",
   "execution_count": 2,
   "id": "a0ae9f68-2975-4776-bdd3-61ef0ec8850e",
   "metadata": {
    "kernel": "Bash"
   },
   "outputs": [
    {
     "name": "stdout",
     "output_type": "stream",
     "text": [
      "# TSTV, transitions/transversions:\n",
      "# TSTV\t[2]id\t[3]ts\t[4]tv\t[5]ts/tv\t[6]ts (1st ALT)\t[7]tv (1st ALT)\t[8]ts/tv (1st ALT)\n",
      "TSTV\t0\t8576\t3859\t2.22\t8576\t3859\t2.22\n",
      "\n"
     ]
    }
   ],
   "source": [
    "cat ~/UKBiobank/data/exome_files/project_VCF/072721_run/stats/ukb23156_c10_b0_v1.leftnorm.stats_bcftools.known | grep TSTV"
   ]
  },
  {
   "cell_type": "code",
   "execution_count": 5,
   "id": "3acc44ec-b539-4abc-880d-c0db4585f6b3",
   "metadata": {
    "kernel": "Bash"
   },
   "outputs": [
    {
     "name": "stdout",
     "output_type": "stream",
     "text": [
      "# TSTV, transitions/transversions:\n",
      "# TSTV\t[2]id\t[3]ts\t[4]tv\t[5]ts/tv\t[6]ts (1st ALT)\t[7]tv (1st ALT)\t[8]ts/tv (1st ALT)\n",
      "TSTV\t0\t11720\t5580\t2.10\t11720\t5580\t2.10\n",
      "\n"
     ]
    }
   ],
   "source": [
    "cat ~/UKBiobank/data/exome_files/project_VCF/072721_run/stats/ukb23156_c10_b0_v1.leftnorm.stats_bcftools.maf | grep TSTV"
   ]
  },
  {
   "cell_type": "code",
   "execution_count": 14,
   "id": "479b8ddf-83ca-454d-9e0d-43fbce250c55",
   "metadata": {
    "kernel": "Bash"
   },
   "outputs": [
    {
     "name": "stdout",
     "output_type": "stream",
     "text": [
      "# TSTV, transitions/transversions:\n",
      "# TSTV\t[2]id\t[3]ts\t[4]tv\t[5]ts/tv\t[6]ts (1st ALT)\t[7]tv (1st ALT)\t[8]ts/tv (1st ALT)\n",
      "TSTV\t0\t11710\t5571\t2.10\t11710\t5571\t2.10\n",
      "\n"
     ]
    }
   ],
   "source": [
    "cat ~/UKBiobank/data/exome_files/project_VCF/072721_run/stats/ukb23156_c10_b0_v1.leftnorm.filtered.tstv"
   ]
  },
  {
   "cell_type": "code",
   "execution_count": 27,
   "id": "9005354a-3aca-4b81-8d30-e0bff0aca185",
   "metadata": {
    "kernel": "Bash"
   },
   "outputs": [
    {
     "name": "stdout",
     "output_type": "stream",
     "text": [
      "TSTV\t0\t11411\t5389\t2.12\t10826\t4305\t2.51\n",
      "\n"
     ]
    }
   ],
   "source": [
    "cat ~/UKBiobank/data/exome_files/project_VCF/072721_run/stats/ukb23156_c10_b0_v1.stats_bcftools | grep TSTV | sed \"1,2d\" | awk -F \"\\t\" \"{print $2}\""
   ]
  },
  {
   "cell_type": "code",
   "execution_count": 37,
   "id": "5dd90563-5c7a-42cb-b4a5-b9af0303d6eb",
   "metadata": {
    "kernel": "Bash"
   },
   "outputs": [
    {
     "name": "stdout",
     "output_type": "stream",
     "text": [
      "2.12\n",
      "\n"
     ]
    }
   ],
   "source": [
    "grep TSTV ~/UKBiobank/data/exome_files/project_VCF/072721_run/stats/ukb23156_c10_b0_v1.stats_bcftools | awk \"NR==3\" | tr \"\\t\" \"\\n\" | awk \"NR==5\""
   ]
  },
  {
   "cell_type": "code",
   "execution_count": 1,
   "id": "2f37965c-8661-42de-9973-58f3817eb48b",
   "metadata": {
    "kernel": "Bash"
   },
   "outputs": [
    {
     "name": "stdout",
     "output_type": "stream",
     "text": [
      "# AF, Stats by non-reference allele frequency:\n",
      "# AF\t[2]id\t[3]allele frequency\t[4]number of SNPs\t[5]number of transitions\t[6]number of transversions\t[7]number of indels\t[8]repeat-consistent\t[9]repeat-inconsistent\t[10]not applicable\n",
      "AF\t0\t0.000025\t15078\t10007\t5071\t1096\t0\t0\t1096\n",
      "AF\t0\t0.500025\t2203\t1703\t500\t232\t0\t0\t232\n",
      "# IDD\t[2]id\t[3]length (deletions negative)\t[4]number of sites\t[5]number of genotypes\t[6]mean VAF\n",
      "\n"
     ]
    }
   ],
   "source": [
    "grep AF ~/UKBiobank/data/exome_files/project_VCF/072721_run/stats/ukb23156_c10_b0_v1.leftnorm.filtered.stats_bcftools"
   ]
  },
  {
   "cell_type": "code",
   "execution_count": 3,
   "id": "1a1a8633-8200-4f8a-8c64-edf5422761ec",
   "metadata": {
    "kernel": "Bash"
   },
   "outputs": [
    {
     "name": "stdout",
     "output_type": "stream",
     "text": [
      "\n"
     ]
    }
   ],
   "source": [
    "filelist=`ls ~/UKBiobank/data/exome_files/project_VCF/072721_run/stats/ | grep -v stderr | grep -v stdout`"
   ]
  },
  {
   "cell_type": "code",
   "execution_count": 2,
   "id": "688520cc-7ac8-40a4-9ba0-dbb0b1c9c1a0",
   "metadata": {
    "kernel": "Bash"
   },
   "outputs": [
    {
     "name": "stdout",
     "output_type": "stream",
     "text": [
      "ukb23156_c10_b0_v1.leftnorm.filtered.stats_bcftools\n",
      "ukb23156_c10_b0_v1.leftnorm.filtered.stats_bcftools.known\n",
      "ukb23156_c10_b0_v1.leftnorm.filtered.stats_bcftools.novel\n",
      "ukb23156_c10_b0_v1.leftnorm.filtered.stats_snpsift\n",
      "ukb23156_c10_b0_v1.leftnorm.filtered.tstv\n",
      "ukb23156_c10_b0_v1.leftnorm.stats_bcftools.known\n",
      "ukb23156_c10_b0_v1.leftnorm.stats_bcftools.maf\n",
      "ukb23156_c10_b0_v1.leftnorm.stats_bcftools.novel\n",
      "ukb23156_c10_b0_v1.leftnorm.stats_snpsift\n",
      "ukb23156_c10_b0_v1.stats_bcftools\n",
      "grep: write error: Broken pipe\n",
      "grep: write error: Broken pipe\n",
      "ls: write error: Broken pipe\n",
      "\n"
     ]
    }
   ],
   "source": [
    "ls ~/UKBiobank/data/exome_files/project_VCF/072721_run/stats/ | grep -v stderr | grep -v stdout | head"
   ]
  },
  {
   "cell_type": "code",
   "execution_count": 40,
   "id": "04d33ed1-3294-46a4-9740-e4340bff17e5",
   "metadata": {
    "kernel": "Bash"
   },
   "outputs": [
    {
     "name": "stdout",
     "output_type": "stream",
     "text": [
      "ukb23156_c10_b0_v1.leftnorm.filtered.stats_bcftools\n",
      "ukb23156_c10_b0_v1.leftnorm.filtered.stats_bcftools.known\n",
      "ukb23156_c10_b0_v1.leftnorm.filtered.stats_bcftools.novel\n",
      "ukb23156_c10_b0_v1.leftnorm.filtered.stats_snpsift\n",
      "ukb23156_c10_b0_v1.leftnorm.filtered.stderr\n",
      "ukb23156_c10_b0_v1.leftnorm.filtered.stdout\n",
      "ukb23156_c10_b0_v1.leftnorm.filtered.tstv\n",
      "ukb23156_c10_b0_v1.leftnorm.stats_bcftools.known\n",
      "ukb23156_c10_b0_v1.leftnorm.stats_bcftools.maf\n",
      "ukb23156_c10_b0_v1.leftnorm.stats_bcftools.novel\n",
      "ls: write error: Broken pipe\n",
      "\n"
     ]
    }
   ],
   "source": [
    "ls ~/UKBiobank/data/exome_files/project_VCF/072721_run/stats/ | head"
   ]
  },
  {
   "cell_type": "code",
   "execution_count": 1,
   "id": "550235bc-3c9e-434c-a459-c47ceaf6302f",
   "metadata": {
    "kernel": "Bash"
   },
   "outputs": [
    {
     "name": "stdout",
     "output_type": "stream",
     "text": [
      "ukb23156_c10_b0_v1.leftnorm.filtered.stats_bcftools\n",
      "ukb23156_c10_b0_v1.leftnorm.filtered.stats_bcftools.known\n",
      "ukb23156_c10_b0_v1.leftnorm.filtered.stats_bcftools.novel\n",
      "ukb23156_c10_b0_v1.leftnorm.filtered.tstv\n",
      "ukb23156_c10_b0_v1.leftnorm.stats_bcftools.known\n",
      "ukb23156_c10_b0_v1.leftnorm.stats_bcftools.maf\n",
      "ukb23156_c10_b0_v1.leftnorm.stats_bcftools.novel\n",
      "ukb23156_c10_b0_v1.stats_bcftools\n",
      "ukb23156_c10_b0_v1.unfiltered.tstv\n",
      "ukb23156_c10_b10_v1.leftnorm.filtered.stats_bcftools\n",
      "grep: write error: Broken pipe\n",
      "grep: write error: Broken pipe\n",
      "grep: write error: Broken pipe\n",
      "ls: write error: Broken pipe\n",
      "\n"
     ]
    }
   ],
   "source": [
    "ls ~/UKBiobank/data/exome_files/project_VCF/072721_run/stats/ | grep -v stderr | grep -v stdout | grep -v stats_snpsift | head"
   ]
  },
  {
   "cell_type": "code",
   "execution_count": 3,
   "id": "6fd8304d-d92a-4779-ad8a-c46e60cf4706",
   "metadata": {
    "kernel": "Bash"
   },
   "outputs": [
    {
     "name": "stdout",
     "output_type": "stream",
     "text": [
      "ukb23156_c10_b0_v1.leftnorm.filtered.stats_bcftools\t2.10\n",
      "\n"
     ]
    }
   ],
   "source": [
    "file=ukb23156_c10_b0_v1.leftnorm.filtered.stats_bcftools\n",
    "tstv=`grep TSTV ~/UKBiobank/data/exome_files/project_VCF/072721_run/stats/$file | awk \"NR==3\" | tr \"\\t\" \"\\n\" | awk \"NR==5\"`\n",
    "printf '%s\\t%s\\n' \"$file\" \"$tstv\""
   ]
  },
  {
   "cell_type": "code",
   "execution_count": 8,
   "id": "dd65446d-279f-4e6f-89b2-f83bc5e3182b",
   "metadata": {
    "kernel": "Bash"
   },
   "outputs": [
    {
     "name": "stdout",
     "output_type": "stream",
     "text": [
      "\n"
     ]
    }
   ],
   "source": [
    "filelist=`ls ~/UKBiobank/data/exome_files/project_VCF/072721_run/stats/ | grep -v stderr | grep -v stdout | grep -v stats_snpsift`\n",
    "for file in $filelist\n",
    "do\n",
    "tstv=`grep TSTV ~/UKBiobank/data/exome_files/project_VCF/072721_run/stats/$file | awk \"NR==3\" | tr \"\\t\" \"\\n\" | awk \"NR==5\"`\n",
    "printf '%s\\t%s\\n' \"$file\" \"$tstv\" >> ~/working/project_VCF/tstv/ukb23156_tstv.txt\n",
    "printf '%s\\n' \"$tstv\" >> ~/working/project_VCF/tstv/tstv.txt\n",
    "done"
   ]
  },
  {
   "cell_type": "code",
   "execution_count": 8,
   "id": "2f929416-cd31-4e91-887e-306cfc647265",
   "metadata": {
    "kernel": "Bash"
   },
   "outputs": [
    {
     "name": "stdout",
     "output_type": "stream",
     "text": [
      "3.758\n",
      "\n"
     ]
    }
   ],
   "source": [
    "cat ~/UKBiobank/data/exome_files/project_VCF/072721_run/stats/ukb23156_c10_b0_v1.leftnorm.filtered.stats_snpsift | grep Ts/Tv | awk -F \",\" '{print $(NF)}'"
   ]
  },
  {
   "cell_type": "code",
   "execution_count": 10,
   "id": "e05226f2-00c1-452e-b431-57078a34cfb8",
   "metadata": {
    "kernel": "Bash"
   },
   "outputs": [
    {
     "name": "stdout",
     "output_type": "stream",
     "text": [
      "3.758\n",
      "\n"
     ]
    }
   ],
   "source": [
    "grep Ts/Tv ~/UKBiobank/data/exome_files/project_VCF/072721_run/stats/ukb23156_c10_b0_v1.leftnorm.filtered.stats_snpsift | awk -F \",\" '{print $(NF)}'"
   ]
  },
  {
   "cell_type": "code",
   "execution_count": null,
   "id": "1e948fc8-83b8-4477-858a-7ba373c2518f",
   "metadata": {
    "kernel": "Bash"
   },
   "outputs": [],
   "source": [
    "filelist=`ls ~/UKBiobank/data/exome_files/project_VCF/072721_run/stats/ | grep stats_snpsift`\n",
    "for file in $filelist\n",
    "do\n",
    "tstv=`grep Ts/Tv ~/UKBiobank/data/exome_files/project_VCF/072721_run/stats/$file | awk -F \",\" '{print $(NF)}'`\n",
    "printf '%s\\t%s\\n' \"$file\" \"$tstv\" >> ~/working/project_VCF/tstv/ukb23156_snpsift_tstv.txt\n",
    "printf '%s\\n' \"$tstv\" >> ~/working/project_VCF/tstv/snpsift_tstv.txt\n",
    "done"
   ]
  },
  {
   "cell_type": "code",
   "execution_count": null,
   "id": "50143ef2-da4a-4301-96a5-98cfb5943e50",
   "metadata": {
    "kernel": "Bash"
   },
   "outputs": [],
   "source": [
    "head　~/UKBiobank/data/exome_files/project_VCF/072721_run/stats/ukb23156_c10_b0_v1.leftnorm.filtered.stats_bcftools"
   ]
  },
  {
   "cell_type": "code",
   "execution_count": 1,
   "id": "d55651c2-497e-402b-b957-5db1141b6750",
   "metadata": {
    "kernel": "Bash"
   },
   "outputs": [
    {
     "name": "stdout",
     "output_type": "stream",
     "text": [
      "25230047\n",
      "\n"
     ]
    }
   ],
   "source": [
    "cat ~/UKBiobank/data/exome_files/project_VCF/072721_run/stats/ukb23156_c10_b0_v1.leftnorm.filtered.stats_snpsift | grep Transitions | awk -F \",\" '{print $(NF)}'"
   ]
  },
  {
   "cell_type": "code",
   "execution_count": null,
   "id": "b508a50b-f8d1-46bc-a51c-3647e0f8dc07",
   "metadata": {
    "kernel": "Bash"
   },
   "outputs": [],
   "source": [
    "cat ~/UKBiobank/data/exome_files/project_VCF/072721_run/stats/ukb23156_c10_b0_v1.leftnorm.filtered.stats_snpsift | grep Transversions | awk -F \",\" '{print $(NF)}'"
   ]
  },
  {
   "cell_type": "code",
   "execution_count": null,
   "id": "982074a4-e542-43b0-acce-b134b0915744",
   "metadata": {
    "kernel": "Bash"
   },
   "outputs": [],
   "source": [
    "filelist=`ls ~/UKBiobank/data/exome_files/project_VCF/072721_run/stats/ | grep stats_snpsift`\n",
    "for file in $filelist\n",
    "do\n",
    "ts=`grep Transitions ~/UKBiobank/data/exome_files/project_VCF/072721_run/stats/$file | awk -F \",\" '{print $(NF)}'`\n",
    "printf '%s\\t%s\\n' \"$file\" \"$ts\" >> ~/working/project_VCF/tstv/ukb23156_snpsift_ts.txt\n",
    "tv=`grep Transversions ~/UKBiobank/data/exome_files/project_VCF/072721_run/stats/$file | awk -F \",\" '{print $(NF)}'`\n",
    "printf '%s\\t%s\\n' \"$file\" \"$tv\" >> ~/working/project_VCF/tstv/ukb23156_snpsift_tv.txt\n",
    "done"
   ]
  },
  {
   "cell_type": "code",
   "execution_count": null,
   "id": "ea06f815-2d89-42f5-beca-88e2f1214a32",
   "metadata": {
    "kernel": "Bash"
   },
   "outputs": [],
   "source": []
  },
  {
   "cell_type": "code",
   "execution_count": null,
   "id": "0f9e473e-a791-4e8c-aaf4-c66cff47348f",
   "metadata": {
    "kernel": "Bash"
   },
   "outputs": [],
   "source": []
  },
  {
   "cell_type": "code",
   "execution_count": null,
   "id": "bf75f46a-377e-4071-bf08-e31819a1bd37",
   "metadata": {
    "kernel": "Bash"
   },
   "outputs": [],
   "source": [
    "awk '{if ($1==\"PSC\") a+=$8}END{print a}' UKBiobank/data/exome_files/project_VCF/072721_run/stats/ukb23156_c1_b0_v1.stats_bcftools"
   ]
  },
  {
   "cell_type": "code",
   "execution_count": null,
   "id": "b4e8881b-d9fd-46cd-95ea-5d8867dbc32e",
   "metadata": {
    "kernel": "Bash"
   },
   "outputs": [],
   "source": [
    "filelist=`ls ~/UKBiobank/data/exome_files/project_VCF/072721_run/stats/ | grep stats_bcftools`\n",
    "for file in $filelist\n",
    "do\n",
    "ts=`awk '{if ($1==\"PSC\") a+=$7}END{print a}' UKBiobank/data/exome_files/project_VCF/072721_run/stats/$file`\n",
    "printf '%s\\t%s\\n' \"$file\" \"$ts\" >> ~/working/project_VCF/tstv/ukb23156_bcftools_ts.txt\n",
    "tv=`awk '{if ($1==\"PSC\") a+=$8}END{print a}' UKBiobank/data/exome_files/project_VCF/072721_run/stats/$file`\n",
    "printf '%s\\t%s\\n' \"$file\" \"$tv\" >> ~/working/project_VCF/tstv/ukb23156_bcftools_tv.txt\n",
    "done"
   ]
  },
  {
   "cell_type": "code",
   "execution_count": 9,
   "id": "c9279ad7-888d-48fe-ab91-933c76811d19",
   "metadata": {
    "kernel": "Bash"
   },
   "outputs": [
    {
     "name": "stdout",
     "output_type": "stream",
     "text": [
      "bcftools-ts-tv.sh\n",
      "bcf.txt\n",
      "TSTV-extraction-1801597.out\n",
      "TSTV-extraction-1801780.out\n",
      "TSTVsum.ipynb\n",
      "TSTVsum_R.ipynb\n",
      "\n"
     ]
    }
   ],
   "source": [
    "ls ~/working/project_VCF/tstv/ | grep -E 'bcf|TSTV'"
   ]
  },
  {
   "cell_type": "code",
   "execution_count": 1,
   "id": "4c1f3f20-b1eb-4f82-91c8-5893ea710f48",
   "metadata": {
    "kernel": "Bash"
   },
   "outputs": [
    {
     "name": "stdout",
     "output_type": "stream",
     "text": [
      "ukb23156_c10_b0_v1.leftnorm.filtered.stats_bcftools\t17164715\n",
      "ukb23156_c10_b0_v1.leftnorm.filtered.stats_bcftools.known\t\n",
      "ukb23156_c10_b0_v1.leftnorm.filtered.stats_bcftools.novel\t\n",
      "ukb23156_c10_b0_v1.leftnorm.stats_bcftools.known\t\n",
      "ukb23156_c10_b0_v1.leftnorm.stats_bcftools.maf\t18005478\n",
      "ukb23156_c10_b0_v1.leftnorm.stats_bcftools.novel\t\n",
      "ukb23156_c10_b0_v1.stats_bcftools\t17377468\n",
      "ukb23156_c10_b10_v1.leftnorm.filtered.stats_bcftools\t9227964\n",
      "ukb23156_c10_b10_v1.leftnorm.filtered.stats_bcftools.known\t\n",
      "ukb23156_c10_b10_v1.leftnorm.filtered.stats_bcftools.novel\t\n",
      "\n"
     ]
    }
   ],
   "source": [
    "head ~/working/project_VCF/tstv/ukb23156_bcftools_ts.txt "
   ]
  },
  {
   "cell_type": "code",
   "execution_count": 5,
   "id": "9389ca14-92fe-46bc-a19d-f273c21acfb6",
   "metadata": {
    "kernel": "Bash"
   },
   "outputs": [
    {
     "name": "stdout",
     "output_type": "stream",
     "text": [
      "\n"
     ]
    }
   ],
   "source": [
    "sed -e '/known/d' ~/working/project_VCF/tstv/ukb23156_bcftools_ts.txt > ~/working/project_VCF/tstv/ukb23156_bcftools_ts2.txt \n",
    "sed -e '/novel/d' ~/working/project_VCF/tstv/ukb23156_bcftools_ts2.txt > ~/working/project_VCF/tstv/ukb23156_bcftools_ts3.txt"
   ]
  },
  {
   "cell_type": "code",
   "execution_count": 7,
   "id": "2ade824d-8b27-499d-9133-a214229ec318",
   "metadata": {
    "kernel": "Bash"
   },
   "outputs": [
    {
     "name": "stdout",
     "output_type": "stream",
     "text": [
      "ukb23156_c10_b0_v1.leftnorm.filtered.stats_bcftools\t17164715\n",
      "ukb23156_c10_b0_v1.leftnorm.stats_bcftools.maf\t18005478\n",
      "ukb23156_c10_b0_v1.stats_bcftools\t17377468\n",
      "ukb23156_c10_b10_v1.leftnorm.filtered.stats_bcftools\t9227964\n",
      "ukb23156_c10_b10_v1.leftnorm.stats_bcftools.maf\t9960780\n",
      "ukb23156_c10_b10_v1.stats_bcftools\t9555127\n",
      "ukb23156_c10_b11_v1.leftnorm.filtered.stats_bcftools\t12519147\n",
      "ukb23156_c10_b11_v1.leftnorm.stats_bcftools.maf\t13321176\n",
      "ukb23156_c10_b11_v1.stats_bcftools\t13121820\n",
      "ukb23156_c10_b12_v1.leftnorm.filtered.stats_bcftools\t13180269\n",
      "\n"
     ]
    }
   ],
   "source": [
    "head ~/working/project_VCF/tstv/ukb23156_bcftools_ts3.txt"
   ]
  },
  {
   "cell_type": "code",
   "execution_count": 8,
   "id": "d3b8792c-4964-4ccb-8cd8-b90dae2720c2",
   "metadata": {
    "kernel": "Bash"
   },
   "outputs": [
    {
     "name": "stdout",
     "output_type": "stream",
     "text": [
      "\n"
     ]
    }
   ],
   "source": [
    "sed -e '/known/d' ~/working/project_VCF/tstv/ukb23156_bcftools_tv.txt > ~/working/project_VCF/tstv/ukb23156_bcftools_tv2.txt \n",
    "sed -e '/novel/d' ~/working/project_VCF/tstv/ukb23156_bcftools_tv2.txt > ~/working/project_VCF/tstv/ukb23156_bcftools_tv3.txt"
   ]
  },
  {
   "cell_type": "code",
   "execution_count": 1,
   "id": "70554cc7-8fdf-41f0-af38-b36272c1f63c",
   "metadata": {
    "kernel": "Bash"
   },
   "outputs": [
    {
     "name": "stdout",
     "output_type": "stream",
     "text": [
      "ukb23156_c10_b0_v1.leftnorm.filtered.stats_bcftools\t4977193\n",
      "ukb23156_c10_b0_v1.leftnorm.stats_bcftools.maf\t5221389\n",
      "ukb23156_c10_b0_v1.stats_bcftools\t5795834\n",
      "ukb23156_c10_b10_v1.leftnorm.filtered.stats_bcftools\t3871971\n",
      "ukb23156_c10_b10_v1.leftnorm.stats_bcftools.maf\t4137115\n",
      "ukb23156_c10_b10_v1.stats_bcftools\t4534912\n",
      "ukb23156_c10_b11_v1.leftnorm.filtered.stats_bcftools\t4443762\n",
      "ukb23156_c10_b11_v1.leftnorm.stats_bcftools.maf\t4861454\n",
      "ukb23156_c10_b11_v1.stats_bcftools\t5060644\n",
      "ukb23156_c10_b12_v1.leftnorm.filtered.stats_bcftools\t4845844\n",
      "\n"
     ]
    }
   ],
   "source": [
    "head ~/working/project_VCF/tstv/ukb23156_bcftools_tv3.txt"
   ]
  },
  {
   "cell_type": "code",
   "execution_count": null,
   "id": "05de00d6-cebe-4bdd-b88f-0991cf5dfa25",
   "metadata": {
    "kernel": "Bash"
   },
   "outputs": [],
   "source": []
  },
  {
   "cell_type": "code",
   "execution_count": 2,
   "id": "40dca2aa-75fb-4b13-bfb2-484d4806ef46",
   "metadata": {
    "kernel": "Bash"
   },
   "outputs": [
    {
     "name": "stdout",
     "output_type": "stream",
     "text": [
      "# AF, Stats by non-reference allele frequency:\n",
      "# AF\t[2]id\t[3]allele frequency\t[4]number of SNPs\t[5]number of transitions\t[6]number of transversions\t[7]number of indels\t[8]repeat-consistent\t[9]repeat-inconsistent\t[10]not applicable\n",
      "AF\t0\t0.000025\t15483\t10742\t4741\t832\t0\t0\t832\n",
      "AF\t0\t0.500025\t2419\t1914\t505\t173\t0\t0\t173\n",
      "# IDD\t[2]id\t[3]length (deletions negative)\t[4]number of sites\t[5]number of genotypes\t[6]mean VAF\n",
      "\n"
     ]
    }
   ],
   "source": [
    "grep AF ~/UKBiobank/data/exome_files/project_VCF/072721_run/stats/ukb23156_c1_b0_v1.leftnorm.filtered.stats_bcftools"
   ]
  },
  {
   "cell_type": "code",
   "execution_count": 4,
   "id": "b30ef7aa-0699-4e76-8eb2-dca0b8c32c71",
   "metadata": {
    "kernel": "Bash"
   },
   "outputs": [
    {
     "name": "stdout",
     "output_type": "stream",
     "text": [
      "# AF, Stats by non-reference allele frequency:\n",
      "# AF\t[2]id\t[3]allele frequency\t[4]number of SNPs\t[5]number of transitions\t[6]number of transversions\t[7]number of indels\t[8]repeat-consistent\t[9]repeat-inconsistent\t[10]not applicable\n",
      "AF\t0\t0.000025\t11524\t8059\t3465\t685\t0\t0\t685\n",
      "AF\t0\t0.500025\t2408\t1909\t499\t172\t0\t0\t172\n",
      "# IDD\t[2]id\t[3]length (deletions negative)\t[4]number of sites\t[5]number of genotypes\t[6]mean VAF\n",
      "\n"
     ]
    }
   ],
   "source": [
    "grep AF ~/UKBiobank/data/exome_files/project_VCF/072721_run/stats/ukb23156_c1_b0_v1.leftnorm.filtered.stats_bcftools.known"
   ]
  },
  {
   "cell_type": "code",
   "execution_count": 5,
   "id": "3ec4abf6-f13a-4eeb-b9f5-560f1ffeadc5",
   "metadata": {
    "kernel": "Bash"
   },
   "outputs": [
    {
     "name": "stdout",
     "output_type": "stream",
     "text": [
      "# AF, Stats by non-reference allele frequency:\n",
      "# AF\t[2]id\t[3]allele frequency\t[4]number of SNPs\t[5]number of transitions\t[6]number of transversions\t[7]number of indels\t[8]repeat-consistent\t[9]repeat-inconsistent\t[10]not applicable\n",
      "AF\t0\t0.000025\t3959\t2683\t1276\t147\t0\t0\t147\n",
      "AF\t0\t0.500025\t11\t5\t6\t1\t0\t0\t1\n",
      "# IDD\t[2]id\t[3]length (deletions negative)\t[4]number of sites\t[5]number of genotypes\t[6]mean VAF\n",
      "\n"
     ]
    }
   ],
   "source": [
    "grep AF ~/UKBiobank/data/exome_files/project_VCF/072721_run/stats/ukb23156_c1_b0_v1.leftnorm.filtered.stats_bcftools.novel"
   ]
  },
  {
   "cell_type": "code",
   "execution_count": 8,
   "id": "b1b9ee3f-10ee-43aa-b005-529beedea9c1",
   "metadata": {
    "kernel": "Bash"
   },
   "outputs": [
    {
     "name": "stdout",
     "output_type": "stream",
     "text": [
      "10742\n",
      "\n"
     ]
    }
   ],
   "source": [
    "grep AF ~/UKBiobank/data/exome_files/project_VCF/072721_run/stats/ukb23156_c1_b0_v1.leftnorm.filtered.stats_bcftools | awk \"NR==3\" | tr \"\\t\" \"\\n\" | awk \"NR==5\""
   ]
  },
  {
   "cell_type": "code",
   "execution_count": 9,
   "id": "0d61cec0-18df-4b7c-88da-f808330749e0",
   "metadata": {
    "kernel": "Bash"
   },
   "outputs": [
    {
     "name": "stdout",
     "output_type": "stream",
     "text": [
      "4741\n",
      "\n"
     ]
    }
   ],
   "source": [
    "grep AF ~/UKBiobank/data/exome_files/project_VCF/072721_run/stats/ukb23156_c1_b0_v1.leftnorm.filtered.stats_bcftools | awk \"NR==3\" | tr \"\\t\" \"\\n\" | awk \"NR==6\""
   ]
  },
  {
   "cell_type": "code",
   "execution_count": 10,
   "id": "5f391b63-a1a4-4d2d-94e6-c8842f256267",
   "metadata": {
    "kernel": "Bash"
   },
   "outputs": [
    {
     "name": "stdout",
     "output_type": "stream",
     "text": [
      "1914\n",
      "\n"
     ]
    }
   ],
   "source": [
    "grep AF ~/UKBiobank/data/exome_files/project_VCF/072721_run/stats/ukb23156_c1_b0_v1.leftnorm.filtered.stats_bcftools | awk \"NR==4\" | tr \"\\t\" \"\\n\" | awk \"NR==5\""
   ]
  },
  {
   "cell_type": "code",
   "execution_count": 12,
   "id": "3b48b86d-1034-4e67-a83d-b06893f4b0a0",
   "metadata": {
    "kernel": "Bash"
   },
   "outputs": [
    {
     "name": "stdout",
     "output_type": "stream",
     "text": [
      "\n"
     ]
    }
   ],
   "source": [
    "filelist=`ls ~/UKBiobank/data/exome_files/project_VCF/072721_run/stats/ | grep stats_bcftools`\n",
    "for file in $filelist\n",
    "do\n",
    "ts1=`grep AF ~/UKBiobank/data/exome_files/project_VCF/072721_run/stats/$file | awk \"NR==3\" | tr \"\\t\" \"\\n\" | awk \"NR==5\"`\n",
    "tv1=`grep AF ~/UKBiobank/data/exome_files/project_VCF/072721_run/stats/$file | awk \"NR==3\" | tr \"\\t\" \"\\n\" | awk \"NR==6\"`\n",
    "ts2=`grep AF ~/UKBiobank/data/exome_files/project_VCF/072721_run/stats/$file | awk \"NR==4\" | tr \"\\t\" \"\\n\" | awk \"NR==5\"`\n",
    "tv2=`grep AF ~/UKBiobank/data/exome_files/project_VCF/072721_run/stats/$file | awk \"NR==4\" | tr \"\\t\" \"\\n\" | awk \"NR==6\"`\n",
    "printf '%s\\t%s\\t%s\\t%s\\t%s\\n' \"$file\" \"$ts1\" \"$tv1\" \"$ts2\" \"$tv2\" >> ~/working/project_VCF/tstv/ukb23156_bcftools_maf_tstv.txt\n",
    "done"
   ]
  },
  {
   "cell_type": "code",
   "execution_count": 13,
   "id": "f1f0c246-a6b8-451b-b818-637407cc9e52",
   "metadata": {
    "kernel": "Bash"
   },
   "outputs": [
    {
     "name": "stdout",
     "output_type": "stream",
     "text": [
      "ukb23156_c10_b0_v1.leftnorm.filtered.stats_bcftools\t10007\t5071\t1703\t500\n",
      "ukb23156_c10_b0_v1.leftnorm.filtered.stats_bcftools.known\t6879\t3361\t1692\t491\n",
      "ukb23156_c10_b0_v1.leftnorm.filtered.stats_bcftools.novel\t3128\t1710\t11\t9\n",
      "ukb23156_c10_b0_v1.leftnorm.stats_bcftools.known\t6953\t3391\t1623\t468\n",
      "ukb23156_c10_b0_v1.leftnorm.stats_bcftools.maf\t10088\t5103\t1632\t477\n",
      "ukb23156_c10_b0_v1.leftnorm.stats_bcftools.novel\t3135\t1712\t9\t9\n",
      "ukb23156_c10_b0_v1.stats_bcftools\t9818\t4928\t1593\t461\n",
      "ukb23156_c10_b10_v1.leftnorm.filtered.stats_bcftools\t8092\t4377\t1466\t643\n",
      "ukb23156_c10_b10_v1.leftnorm.filtered.stats_bcftools.known\t4843\t2530\t1443\t630\n",
      "ukb23156_c10_b10_v1.leftnorm.filtered.stats_bcftools.novel\t3249\t1847\t23\t13\n",
      "\n"
     ]
    }
   ],
   "source": [
    "head ~/working/project_VCF/tstv/ukb23156_bcftools_maf_tstv.txt"
   ]
  },
  {
   "cell_type": "code",
   "execution_count": 15,
   "id": "c8cd2a39-1ec4-4448-9887-6d7aeb7d80fd",
   "metadata": {
    "kernel": "Bash"
   },
   "outputs": [
    {
     "name": "stdout",
     "output_type": "stream",
     "text": [
      "ukb23156_cX_b0_v1.leftnorm.filtered.stats_bcftools\t9118\t4991\t1724\t636\n",
      "ukb23156_cX_b0_v1.leftnorm.filtered.stats_bcftools.known\t[5]number of genotypes\t[6]mean VAF\t\t\n",
      "ukb23156_cX_b0_v1.leftnorm.filtered.stats_bcftools.novel\t9118\t4991\t1724\t636\n",
      "ukb23156_cX_b0_v1.leftnorm.stats_bcftools.known\t[5]number of genotypes\t[6]mean VAF\t\t\n",
      "\n"
     ]
    }
   ],
   "source": [
    "cat ~/working/project_VCF/tstv/ukb23156_bcftools_maf_tstv.txt | head -n 6668 | tail -n +6665"
   ]
  },
  {
   "cell_type": "code",
   "execution_count": 16,
   "id": "65c2689b-9b89-40d1-8b83-440e07264c8d",
   "metadata": {
    "kernel": "Bash"
   },
   "outputs": [
    {
     "name": "stdout",
     "output_type": "stream",
     "text": [
      "# AF, Stats by non-reference allele frequency:\n",
      "# AF\t[2]id\t[3]allele frequency\t[4]number of SNPs\t[5]number of transitions\t[6]number of transversions\t[7]number of indels\t[8]repeat-consistent\t[9]repeat-inconsistent\t[10]not applicable\n",
      "# IDD\t[2]id\t[3]length (deletions negative)\t[4]number of sites\t[5]number of genotypes\t[6]mean VAF\n",
      "\n"
     ]
    }
   ],
   "source": [
    "grep AF ~/UKBiobank/data/exome_files/project_VCF/072721_run/stats/ukb23156_cX_b0_v1.leftnorm.filtered.stats_bcftools.known"
   ]
  },
  {
   "cell_type": "code",
   "execution_count": 18,
   "id": "a3aa0cf7-4f48-4c88-a0e2-2678520ee676",
   "metadata": {
    "kernel": "Bash"
   },
   "outputs": [
    {
     "name": "stdout",
     "output_type": "stream",
     "text": [
      "# AF, Stats by non-reference allele frequency:\n",
      "# AF\t[2]id\t[3]allele frequency\t[4]number of SNPs\t[5]number of transitions\t[6]number of transversions\t[7]number of indels\t[8]repeat-consistent\t[9]repeat-inconsistent\t[10]not applicable\n",
      "# IDD\t[2]id\t[3]length (deletions negative)\t[4]number of sites\t[5]number of genotypes\t[6]mean VAF\n",
      "\n"
     ]
    }
   ],
   "source": [
    "grep AF ~/UKBiobank/data/exome_files/project_VCF/072721_run/stats/ukb23156_cX_b0_v1.leftnorm.stats_bcftools.known"
   ]
  },
  {
   "cell_type": "code",
   "execution_count": 20,
   "id": "c78a5a0a-6783-4ab3-99ad-28599c284b18",
   "metadata": {
    "kernel": "Bash"
   },
   "outputs": [
    {
     "name": "stdout",
     "output_type": "stream",
     "text": [
      "ukb23156_cX_b0_v1.leftnorm.filtered.stats_bcftools\t9118\t4991\t1724\t636\n",
      "ukb23156_cX_b0_v1.leftnorm.filtered.stats_bcftools.known\t[5]number of genotypes\t[6]mean VAF\t\t\n",
      "ukb23156_cX_b0_v1.leftnorm.filtered.stats_bcftools.novel\t9118\t4991\t1724\t636\n",
      "ukb23156_cX_b0_v1.leftnorm.stats_bcftools.known\t[5]number of genotypes\t[6]mean VAF\t\t\n",
      "ukb23156_cX_b0_v1.leftnorm.stats_bcftools.maf\t9210\t5040\t1675\t620\n",
      "ukb23156_cX_b0_v1.leftnorm.stats_bcftools.novel\t9210\t5040\t1675\t620\n",
      "ukb23156_cX_b0_v1.stats_bcftools\t8982\t4912\t1633\t598\n",
      "ukb23156_cX_b10_v1.leftnorm.filtered.stats_bcftools\t9488\t5386\t1063\t526\n",
      "ukb23156_cX_b10_v1.leftnorm.filtered.stats_bcftools.known\t[5]number of genotypes\t[6]mean VAF\t\t\n",
      "ukb23156_cX_b10_v1.leftnorm.filtered.stats_bcftools.novel\t9488\t5386\t1063\t526\n",
      "ukb23156_cX_b10_v1.leftnorm.stats_bcftools.known\t[5]number of genotypes\t[6]mean VAF\t\t\n",
      "ukb23156_cX_b10_v1.leftnorm.stats_bcftools.maf\t9632\t5483\t997\t497\n",
      "ukb23156_cX_b10_v1.leftnorm.stats_bcftools.novel\t9632\t5483\t997\t497\n",
      "ukb23156_cX_b10_v1.stats_bcftools\t9486\t5368\t975\t490\n",
      "ukb23156_cX_b11_v1.leftnorm.filtered.stats_bcftools\t9644\t4662\t1097\t411\n",
      "ukb23156_cX_b11_v1.leftnorm.filtered.stats_bcftools.known\t[5]number of genotypes\t[6]mean VAF\t\t\n",
      "ukb23156_cX_b11_v1.leftnorm.filtered.stats_bcftools.novel\t9644\t4662\t1097\t411\n",
      "ukb23156_cX_b11_v1.leftnorm.stats_bcftools.known\t[5]number of genotypes\t[6]mean VAF\t\t\n",
      "ukb23156_cX_b11_v1.leftnorm.stats_bcftools.maf\t9800\t4748\t1024\t389\n",
      "ukb23156_cX_b11_v1.leftnorm.stats_bcftools.novel\t9800\t4748\t1024\t389\n",
      "ukb23156_cX_b11_v1.stats_bcftools\t9664\t4678\t1000\t383\n",
      "ukb23156_cX_b12_v1.leftnorm.filtered.stats_bcftools\t9632\t4629\t1024\t394\n",
      "ukb23156_cX_b12_v1.leftnorm.filtered.stats_bcftools.known\t[5]number of genotypes\t[6]mean VAF\t\t\n",
      "ukb23156_cX_b12_v1.leftnorm.filtered.stats_bcftools.novel\t9632\t4629\t1024\t394\n",
      "ukb23156_cX_b12_v1.leftnorm.stats_bcftools.known\t[5]number of genotypes\t[6]mean VAF\t\t\n",
      "ukb23156_cX_b12_v1.leftnorm.stats_bcftools.maf\t9771\t4697\t945\t378\n",
      "ukb23156_cX_b12_v1.leftnorm.stats_bcftools.novel\t9771\t4697\t945\t378\n",
      "ukb23156_cX_b12_v1.stats_bcftools\t9564\t4587\t926\t366\n",
      "ukb23156_cX_b13_v1.leftnorm.filtered.stats_bcftools\t9341\t5200\t941\t484\n",
      "ukb23156_cX_b13_v1.leftnorm.filtered.stats_bcftools.known\t[5]number of genotypes\t[6]mean VAF\t\t\n",
      "ukb23156_cX_b13_v1.leftnorm.filtered.stats_bcftools.novel\t9341\t5200\t941\t484\n",
      "ukb23156_cX_b13_v1.leftnorm.stats_bcftools.known\t[5]number of genotypes\t[6]mean VAF\t\t\n",
      "ukb23156_cX_b13_v1.leftnorm.stats_bcftools.maf\t9539\t5318\t842\t451\n",
      "ukb23156_cX_b13_v1.leftnorm.stats_bcftools.novel\t9539\t5318\t842\t451\n",
      "ukb23156_cX_b13_v1.stats_bcftools\t9374\t5210\t821\t437\n",
      "ukb23156_cX_b14_v1.leftnorm.filtered.stats_bcftools\t9756\t4729\t1227\t468\n",
      "ukb23156_cX_b14_v1.leftnorm.filtered.stats_bcftools.known\t[5]number of genotypes\t[6]mean VAF\t\t\n",
      "ukb23156_cX_b14_v1.leftnorm.filtered.stats_bcftools.novel\t9756\t4729\t1227\t468\n",
      "ukb23156_cX_b14_v1.leftnorm.stats_bcftools.known\t[5]number of genotypes\t[6]mean VAF\t\t\n",
      "ukb23156_cX_b14_v1.leftnorm.stats_bcftools.maf\t9939\t4814\t1122\t441\n",
      "ukb23156_cX_b14_v1.leftnorm.stats_bcftools.novel\t9939\t4814\t1122\t441\n",
      "ukb23156_cX_b14_v1.stats_bcftools\t9805\t4737\t1104\t434\n",
      "ukb23156_cX_b15_v1.leftnorm.filtered.stats_bcftools\t9708\t5049\t1116\t484\n",
      "ukb23156_cX_b15_v1.leftnorm.filtered.stats_bcftools.known\t[5]number of genotypes\t[6]mean VAF\t\t\n",
      "ukb23156_cX_b15_v1.leftnorm.filtered.stats_bcftools.novel\t9708\t5049\t1116\t484\n",
      "ukb23156_cX_b15_v1.leftnorm.stats_bcftools.known\t[5]number of genotypes\t[6]mean VAF\t\t\n",
      "ukb23156_cX_b15_v1.leftnorm.stats_bcftools.maf\t9847\t5123\t1050\t452\n",
      "ukb23156_cX_b15_v1.leftnorm.stats_bcftools.novel\t9847\t5123\t1050\t452\n",
      "ukb23156_cX_b15_v1.stats_bcftools\t9672\t5036\t1038\t445\n",
      "ukb23156_cX_b16_v1.leftnorm.filtered.stats_bcftools\t9584\t4922\t1121\t440\n",
      "ukb23156_cX_b16_v1.leftnorm.filtered.stats_bcftools.known\t[5]number of genotypes\t[6]mean VAF\t\t\n",
      "ukb23156_cX_b16_v1.leftnorm.filtered.stats_bcftools.novel\t9584\t4922\t1121\t440\n",
      "ukb23156_cX_b16_v1.leftnorm.stats_bcftools.known\t[5]number of genotypes\t[6]mean VAF\t\t\n",
      "ukb23156_cX_b16_v1.leftnorm.stats_bcftools.maf\t9773\t5027\t1001\t400\n",
      "ukb23156_cX_b16_v1.leftnorm.stats_bcftools.novel\t9773\t5027\t1001\t400\n",
      "ukb23156_cX_b16_v1.stats_bcftools\t9640\t4923\t993\t390\n",
      "ukb23156_cX_b17_v1.leftnorm.filtered.stats_bcftools\t9526\t4495\t1311\t512\n",
      "ukb23156_cX_b17_v1.leftnorm.filtered.stats_bcftools.known\t[5]number of genotypes\t[6]mean VAF\t\t\n",
      "ukb23156_cX_b17_v1.leftnorm.filtered.stats_bcftools.novel\t9526\t4495\t1311\t512\n",
      "ukb23156_cX_b17_v1.leftnorm.stats_bcftools.known\t[5]number of genotypes\t[6]mean VAF\t\t\n",
      "ukb23156_cX_b17_v1.leftnorm.stats_bcftools.maf\t9750\t4618\t1186\t460\n",
      "ukb23156_cX_b17_v1.leftnorm.stats_bcftools.novel\t9750\t4618\t1186\t460\n",
      "ukb23156_cX_b17_v1.stats_bcftools\t9556\t4531\t1171\t450\n",
      "ukb23156_cX_b18_v1.leftnorm.filtered.stats_bcftools\t9080\t4442\t1111\t513\n",
      "ukb23156_cX_b18_v1.leftnorm.filtered.stats_bcftools.known\t[5]number of genotypes\t[6]mean VAF\t\t\n",
      "ukb23156_cX_b18_v1.leftnorm.filtered.stats_bcftools.novel\t9080\t4442\t1111\t513\n",
      "ukb23156_cX_b18_v1.leftnorm.stats_bcftools.known\t[5]number of genotypes\t[6]mean VAF\t\t\n",
      "ukb23156_cX_b18_v1.leftnorm.stats_bcftools.maf\t9305\t4562\t986\t461\n",
      "ukb23156_cX_b18_v1.leftnorm.stats_bcftools.novel\t9305\t4562\t986\t461\n",
      "ukb23156_cX_b18_v1.stats_bcftools\t9155\t4457\t973\t450\n",
      "ukb23156_cX_b19_v1.leftnorm.filtered.stats_bcftools\t9839\t4680\t1133\t463\n",
      "ukb23156_cX_b19_v1.leftnorm.filtered.stats_bcftools.known\t[5]number of genotypes\t[6]mean VAF\t\t\n",
      "ukb23156_cX_b19_v1.leftnorm.filtered.stats_bcftools.novel\t9839\t4680\t1133\t463\n",
      "ukb23156_cX_b19_v1.leftnorm.stats_bcftools.known\t[5]number of genotypes\t[6]mean VAF\t\t\n",
      "ukb23156_cX_b19_v1.leftnorm.stats_bcftools.maf\t10003\t4773\t1052\t420\n",
      "ukb23156_cX_b19_v1.leftnorm.stats_bcftools.novel\t10003\t4773\t1052\t420\n",
      "ukb23156_cX_b19_v1.stats_bcftools\t9850\t4666\t1041\t407\n",
      "ukb23156_cX_b1_v1.leftnorm.filtered.stats_bcftools\t9486\t4323\t1458\t539\n",
      "ukb23156_cX_b1_v1.leftnorm.filtered.stats_bcftools.known\t[5]number of genotypes\t[6]mean VAF\t\t\n",
      "ukb23156_cX_b1_v1.leftnorm.filtered.stats_bcftools.novel\t9486\t4323\t1458\t539\n",
      "ukb23156_cX_b1_v1.leftnorm.stats_bcftools.known\t[5]number of genotypes\t[6]mean VAF\t\t\n",
      "ukb23156_cX_b1_v1.leftnorm.stats_bcftools.maf\t9633\t4394\t1385\t516\n",
      "ukb23156_cX_b1_v1.leftnorm.stats_bcftools.novel\t9633\t4394\t1385\t516\n",
      "ukb23156_cX_b1_v1.stats_bcftools\t9492\t4332\t1375\t506\n",
      "ukb23156_cX_b20_v1.leftnorm.filtered.stats_bcftools\t9169\t4735\t1347\t602\n",
      "ukb23156_cX_b20_v1.leftnorm.filtered.stats_bcftools.known\t[5]number of genotypes\t[6]mean VAF\t\t\n",
      "ukb23156_cX_b20_v1.leftnorm.filtered.stats_bcftools.novel\t9169\t4735\t1347\t602\n",
      "ukb23156_cX_b20_v1.leftnorm.stats_bcftools.known\t[5]number of genotypes\t[6]mean VAF\t\t\n",
      "ukb23156_cX_b20_v1.leftnorm.stats_bcftools.maf\t9470\t4888\t1150\t526\n",
      "ukb23156_cX_b20_v1.leftnorm.stats_bcftools.novel\t9470\t4888\t1150\t526\n",
      "ukb23156_cX_b20_v1.stats_bcftools\t9269\t4739\t1124\t513\n",
      "ukb23156_cX_b21_v1.leftnorm.filtered.stats_bcftools\t9084\t4545\t1316\t627\n",
      "ukb23156_cX_b21_v1.leftnorm.filtered.stats_bcftools.known\t[5]number of genotypes\t[6]mean VAF\t\t\n",
      "ukb23156_cX_b21_v1.leftnorm.filtered.stats_bcftools.novel\t9084\t4545\t1316\t627\n",
      "ukb23156_cX_b21_v1.leftnorm.stats_bcftools.known\t[5]number of genotypes\t[6]mean VAF\t\t\n",
      "ukb23156_cX_b21_v1.leftnorm.stats_bcftools.maf\t9267\t4645\t1228\t591\n",
      "ukb23156_cX_b21_v1.leftnorm.stats_bcftools.novel\t9267\t4645\t1228\t591\n",
      "ukb23156_cX_b21_v1.stats_bcftools\t9096\t4539\t1201\t582\n",
      "ukb23156_cX_b22_v1.leftnorm.filtered.stats_bcftools\t10255\t4455\t1598\t513\n",
      "ukb23156_cX_b22_v1.leftnorm.filtered.stats_bcftools.known\t[5]number of genotypes\t[6]mean VAF\t\t\n",
      "ukb23156_cX_b22_v1.leftnorm.filtered.stats_bcftools.novel\t10255\t4455\t1598\t513\n",
      "ukb23156_cX_b22_v1.leftnorm.stats_bcftools.known\t[5]number of genotypes\t[6]mean VAF\t\t\n",
      "ukb23156_cX_b22_v1.leftnorm.stats_bcftools.maf\t10417\t4537\t1499\t477\n",
      "ukb23156_cX_b22_v1.leftnorm.stats_bcftools.novel\t10417\t4537\t1499\t477\n",
      "ukb23156_cX_b22_v1.stats_bcftools\t10266\t4449\t1476\t470\n",
      "ukb23156_cX_b23_v1.leftnorm.filtered.stats_bcftools\t17532\t7536\t2317\t730\n",
      "ukb23156_cX_b23_v1.leftnorm.filtered.stats_bcftools.known\t[5]number of genotypes\t[6]mean VAF\t\t\n",
      "ukb23156_cX_b23_v1.leftnorm.filtered.stats_bcftools.novel\t17532\t7536\t2317\t730\n",
      "ukb23156_cX_b23_v1.leftnorm.stats_bcftools.known\t[5]number of genotypes\t[6]mean VAF\t\t\n",
      "ukb23156_cX_b23_v1.leftnorm.stats_bcftools.maf\t17764\t7667\t2184\t690\n",
      "ukb23156_cX_b23_v1.leftnorm.stats_bcftools.novel\t17764\t7667\t2184\t690\n",
      "ukb23156_cX_b23_v1.stats_bcftools\t17478\t7520\t2156\t670\n",
      "ukb23156_cX_b2_v1.leftnorm.filtered.stats_bcftools\t9356\t4597\t1152\t509\n",
      "ukb23156_cX_b2_v1.leftnorm.filtered.stats_bcftools.known\t[5]number of genotypes\t[6]mean VAF\t\t\n",
      "ukb23156_cX_b2_v1.leftnorm.filtered.stats_bcftools.novel\t9356\t4597\t1152\t509\n",
      "ukb23156_cX_b2_v1.leftnorm.stats_bcftools.known\t[5]number of genotypes\t[6]mean VAF\t\t\n",
      "ukb23156_cX_b2_v1.leftnorm.stats_bcftools.maf\t9592\t4715\t1019\t459\n",
      "ukb23156_cX_b2_v1.leftnorm.stats_bcftools.novel\t9592\t4715\t1019\t459\n",
      "ukb23156_cX_b2_v1.stats_bcftools\t9418\t4598\t996\t449\n",
      "ukb23156_cX_b3_v1.leftnorm.filtered.stats_bcftools\t9338\t4448\t1229\t445\n",
      "ukb23156_cX_b3_v1.leftnorm.filtered.stats_bcftools.known\t[5]number of genotypes\t[6]mean VAF\t\t\n",
      "ukb23156_cX_b3_v1.leftnorm.filtered.stats_bcftools.novel\t9338\t4448\t1229\t445\n",
      "ukb23156_cX_b3_v1.leftnorm.stats_bcftools.known\t[5]number of genotypes\t[6]mean VAF\t\t\n",
      "ukb23156_cX_b3_v1.leftnorm.stats_bcftools.maf\t9598\t4575\t1054\t386\n",
      "ukb23156_cX_b3_v1.leftnorm.stats_bcftools.novel\t9598\t4575\t1054\t386\n",
      "ukb23156_cX_b3_v1.stats_bcftools\t9457\t4495\t1031\t379\n",
      "ukb23156_cX_b4_v1.leftnorm.filtered.stats_bcftools\t9380\t4737\t1183\t499\n",
      "ukb23156_cX_b4_v1.leftnorm.filtered.stats_bcftools.known\t[5]number of genotypes\t[6]mean VAF\t\t\n",
      "ukb23156_cX_b4_v1.leftnorm.filtered.stats_bcftools.novel\t9380\t4737\t1183\t499\n",
      "ukb23156_cX_b4_v1.leftnorm.stats_bcftools.known\t[5]number of genotypes\t[6]mean VAF\t\t\n",
      "ukb23156_cX_b4_v1.leftnorm.stats_bcftools.maf\t9615\t4862\t1043\t449\n",
      "ukb23156_cX_b4_v1.leftnorm.stats_bcftools.novel\t9615\t4862\t1043\t449\n",
      "ukb23156_cX_b4_v1.stats_bcftools\t9473\t4757\t1021\t434\n",
      "ukb23156_cX_b5_v1.leftnorm.filtered.stats_bcftools\t9228\t5030\t1121\t543\n",
      "ukb23156_cX_b5_v1.leftnorm.filtered.stats_bcftools.known\t[5]number of genotypes\t[6]mean VAF\t\t\n",
      "ukb23156_cX_b5_v1.leftnorm.filtered.stats_bcftools.novel\t9228\t5030\t1121\t543\n",
      "ukb23156_cX_b5_v1.leftnorm.stats_bcftools.known\t[5]number of genotypes\t[6]mean VAF\t\t\n",
      "ukb23156_cX_b5_v1.leftnorm.stats_bcftools.maf\t9387\t5119\t1045\t521\n",
      "ukb23156_cX_b5_v1.leftnorm.stats_bcftools.novel\t9387\t5119\t1045\t521\n",
      "ukb23156_cX_b5_v1.stats_bcftools\t9193\t5011\t1016\t511\n",
      "ukb23156_cX_b6_v1.leftnorm.filtered.stats_bcftools\t9913\t4498\t1072\t460\n",
      "ukb23156_cX_b6_v1.leftnorm.filtered.stats_bcftools.known\t[5]number of genotypes\t[6]mean VAF\t\t\n",
      "ukb23156_cX_b6_v1.leftnorm.filtered.stats_bcftools.novel\t9913\t4498\t1072\t460\n",
      "ukb23156_cX_b6_v1.leftnorm.stats_bcftools.known\t[5]number of genotypes\t[6]mean VAF\t\t\n",
      "ukb23156_cX_b6_v1.leftnorm.stats_bcftools.maf\t10090\t4599\t974\t421\n",
      "ukb23156_cX_b6_v1.leftnorm.stats_bcftools.novel\t10090\t4599\t974\t421\n",
      "ukb23156_cX_b6_v1.stats_bcftools\t9878\t4480\t957\t405\n",
      "ukb23156_cX_b7_v1.leftnorm.filtered.stats_bcftools\t9987\t4496\t1093\t430\n",
      "ukb23156_cX_b7_v1.leftnorm.filtered.stats_bcftools.known\t[5]number of genotypes\t[6]mean VAF\t\t\n",
      "ukb23156_cX_b7_v1.leftnorm.filtered.stats_bcftools.novel\t9987\t4496\t1093\t430\n",
      "ukb23156_cX_b7_v1.leftnorm.stats_bcftools.known\t[5]number of genotypes\t[6]mean VAF\t\t\n",
      "ukb23156_cX_b7_v1.leftnorm.stats_bcftools.maf\t10105\t4560\t1042\t413\n",
      "ukb23156_cX_b7_v1.leftnorm.stats_bcftools.novel\t10105\t4560\t1042\t413\n",
      "ukb23156_cX_b7_v1.stats_bcftools\t9923\t4463\t1026\t405\n",
      "ukb23156_cX_b8_v1.leftnorm.filtered.stats_bcftools\t8819\t4201\t1071\t470\n",
      "ukb23156_cX_b8_v1.leftnorm.filtered.stats_bcftools.known\t[5]number of genotypes\t[6]mean VAF\t\t\n",
      "ukb23156_cX_b8_v1.leftnorm.filtered.stats_bcftools.novel\t8819\t4201\t1071\t470\n",
      "ukb23156_cX_b8_v1.leftnorm.stats_bcftools.known\t[5]number of genotypes\t[6]mean VAF\t\t\n",
      "ukb23156_cX_b8_v1.leftnorm.stats_bcftools.maf\t8950\t4292\t1017\t444\n",
      "ukb23156_cX_b8_v1.leftnorm.stats_bcftools.novel\t8950\t4292\t1017\t444\n",
      "ukb23156_cX_b8_v1.stats_bcftools\t8815\t4211\t994\t429\n",
      "ukb23156_cX_b9_v1.leftnorm.filtered.stats_bcftools\t9722\t4529\t984\t427\n",
      "ukb23156_cX_b9_v1.leftnorm.filtered.stats_bcftools.known\t[5]number of genotypes\t[6]mean VAF\t\t\n",
      "ukb23156_cX_b9_v1.leftnorm.filtered.stats_bcftools.novel\t9722\t4529\t984\t427\n",
      "ukb23156_cX_b9_v1.leftnorm.stats_bcftools.known\t[5]number of genotypes\t[6]mean VAF\t\t\n",
      "ukb23156_cX_b9_v1.leftnorm.stats_bcftools.maf\t9910\t4629\t881\t387\n",
      "ukb23156_cX_b9_v1.leftnorm.stats_bcftools.novel\t9910\t4629\t881\t387\n",
      "ukb23156_cX_b9_v1.stats_bcftools\t9754\t4555\t866\t380\n",
      "ukb23156_cY_b0_v1.leftnorm.filtered.stats_bcftools\t3282\t1869\t489\t296\n",
      "ukb23156_cY_b0_v1.leftnorm.filtered.stats_bcftools.known\t[5]number of genotypes\t[6]mean VAF\t\t\n",
      "ukb23156_cY_b0_v1.leftnorm.filtered.stats_bcftools.novel\t3282\t1869\t489\t296\n",
      "ukb23156_cY_b0_v1.leftnorm.stats_bcftools.known\t[5]number of genotypes\t[6]mean VAF\t\t\n",
      "ukb23156_cY_b0_v1.leftnorm.stats_bcftools.maf\t3706\t2155\t214\t130\n",
      "ukb23156_cY_b0_v1.leftnorm.stats_bcftools.novel\t3706\t2155\t214\t130\n",
      "ukb23156_cY_b0_v1.stats_bcftools\t3670\t2134\t212\t128\n",
      "\n"
     ]
    }
   ],
   "source": [
    "grep 'X\\|Y' ~/working/project_VCF/tstv/ukb23156_bcftools_maf_tstv.txt"
   ]
  },
  {
   "cell_type": "code",
   "execution_count": 21,
   "id": "7895620c-a12b-4680-8f37-04d95614088d",
   "metadata": {
    "kernel": "Bash"
   },
   "outputs": [
    {
     "name": "stdout",
     "output_type": "stream",
     "text": [
      "ukb23156_cX_b0_v1.leftnorm.filtered.stats_bcftools\t9118\t4991\t1724\t636\n",
      "ukb23156_cX_b0_v1.leftnorm.filtered.stats_bcftools.novel\t9118\t4991\t1724\t636\n",
      "ukb23156_cX_b0_v1.leftnorm.stats_bcftools.maf\t9210\t5040\t1675\t620\n",
      "ukb23156_cX_b0_v1.leftnorm.stats_bcftools.novel\t9210\t5040\t1675\t620\n",
      "ukb23156_cX_b0_v1.stats_bcftools\t8982\t4912\t1633\t598\n",
      "ukb23156_cX_b10_v1.leftnorm.filtered.stats_bcftools\t9488\t5386\t1063\t526\n",
      "ukb23156_cX_b10_v1.leftnorm.filtered.stats_bcftools.novel\t9488\t5386\t1063\t526\n",
      "ukb23156_cX_b10_v1.leftnorm.stats_bcftools.maf\t9632\t5483\t997\t497\n",
      "ukb23156_cX_b10_v1.leftnorm.stats_bcftools.novel\t9632\t5483\t997\t497\n",
      "ukb23156_cX_b10_v1.stats_bcftools\t9486\t5368\t975\t490\n",
      "ukb23156_cX_b11_v1.leftnorm.filtered.stats_bcftools\t9644\t4662\t1097\t411\n",
      "ukb23156_cX_b11_v1.leftnorm.filtered.stats_bcftools.novel\t9644\t4662\t1097\t411\n",
      "ukb23156_cX_b11_v1.leftnorm.stats_bcftools.maf\t9800\t4748\t1024\t389\n",
      "ukb23156_cX_b11_v1.leftnorm.stats_bcftools.novel\t9800\t4748\t1024\t389\n",
      "ukb23156_cX_b11_v1.stats_bcftools\t9664\t4678\t1000\t383\n",
      "ukb23156_cX_b12_v1.leftnorm.filtered.stats_bcftools\t9632\t4629\t1024\t394\n",
      "ukb23156_cX_b12_v1.leftnorm.filtered.stats_bcftools.novel\t9632\t4629\t1024\t394\n",
      "ukb23156_cX_b12_v1.leftnorm.stats_bcftools.maf\t9771\t4697\t945\t378\n",
      "ukb23156_cX_b12_v1.leftnorm.stats_bcftools.novel\t9771\t4697\t945\t378\n",
      "ukb23156_cX_b12_v1.stats_bcftools\t9564\t4587\t926\t366\n",
      "ukb23156_cX_b13_v1.leftnorm.filtered.stats_bcftools\t9341\t5200\t941\t484\n",
      "ukb23156_cX_b13_v1.leftnorm.filtered.stats_bcftools.novel\t9341\t5200\t941\t484\n",
      "ukb23156_cX_b13_v1.leftnorm.stats_bcftools.maf\t9539\t5318\t842\t451\n",
      "ukb23156_cX_b13_v1.leftnorm.stats_bcftools.novel\t9539\t5318\t842\t451\n",
      "ukb23156_cX_b13_v1.stats_bcftools\t9374\t5210\t821\t437\n",
      "ukb23156_cX_b14_v1.leftnorm.filtered.stats_bcftools\t9756\t4729\t1227\t468\n",
      "ukb23156_cX_b14_v1.leftnorm.filtered.stats_bcftools.novel\t9756\t4729\t1227\t468\n",
      "ukb23156_cX_b14_v1.leftnorm.stats_bcftools.maf\t9939\t4814\t1122\t441\n",
      "ukb23156_cX_b14_v1.leftnorm.stats_bcftools.novel\t9939\t4814\t1122\t441\n",
      "ukb23156_cX_b14_v1.stats_bcftools\t9805\t4737\t1104\t434\n",
      "ukb23156_cX_b15_v1.leftnorm.filtered.stats_bcftools\t9708\t5049\t1116\t484\n",
      "ukb23156_cX_b15_v1.leftnorm.filtered.stats_bcftools.novel\t9708\t5049\t1116\t484\n",
      "ukb23156_cX_b15_v1.leftnorm.stats_bcftools.maf\t9847\t5123\t1050\t452\n",
      "ukb23156_cX_b15_v1.leftnorm.stats_bcftools.novel\t9847\t5123\t1050\t452\n",
      "ukb23156_cX_b15_v1.stats_bcftools\t9672\t5036\t1038\t445\n",
      "ukb23156_cX_b16_v1.leftnorm.filtered.stats_bcftools\t9584\t4922\t1121\t440\n",
      "ukb23156_cX_b16_v1.leftnorm.filtered.stats_bcftools.novel\t9584\t4922\t1121\t440\n",
      "ukb23156_cX_b16_v1.leftnorm.stats_bcftools.maf\t9773\t5027\t1001\t400\n",
      "ukb23156_cX_b16_v1.leftnorm.stats_bcftools.novel\t9773\t5027\t1001\t400\n",
      "ukb23156_cX_b16_v1.stats_bcftools\t9640\t4923\t993\t390\n",
      "ukb23156_cX_b17_v1.leftnorm.filtered.stats_bcftools\t9526\t4495\t1311\t512\n",
      "ukb23156_cX_b17_v1.leftnorm.filtered.stats_bcftools.novel\t9526\t4495\t1311\t512\n",
      "ukb23156_cX_b17_v1.leftnorm.stats_bcftools.maf\t9750\t4618\t1186\t460\n",
      "ukb23156_cX_b17_v1.leftnorm.stats_bcftools.novel\t9750\t4618\t1186\t460\n",
      "ukb23156_cX_b17_v1.stats_bcftools\t9556\t4531\t1171\t450\n",
      "ukb23156_cX_b18_v1.leftnorm.filtered.stats_bcftools\t9080\t4442\t1111\t513\n",
      "ukb23156_cX_b18_v1.leftnorm.filtered.stats_bcftools.novel\t9080\t4442\t1111\t513\n",
      "ukb23156_cX_b18_v1.leftnorm.stats_bcftools.maf\t9305\t4562\t986\t461\n",
      "ukb23156_cX_b18_v1.leftnorm.stats_bcftools.novel\t9305\t4562\t986\t461\n",
      "ukb23156_cX_b18_v1.stats_bcftools\t9155\t4457\t973\t450\n",
      "ukb23156_cX_b19_v1.leftnorm.filtered.stats_bcftools\t9839\t4680\t1133\t463\n",
      "ukb23156_cX_b19_v1.leftnorm.filtered.stats_bcftools.novel\t9839\t4680\t1133\t463\n",
      "ukb23156_cX_b19_v1.leftnorm.stats_bcftools.maf\t10003\t4773\t1052\t420\n",
      "ukb23156_cX_b19_v1.leftnorm.stats_bcftools.novel\t10003\t4773\t1052\t420\n",
      "ukb23156_cX_b19_v1.stats_bcftools\t9850\t4666\t1041\t407\n",
      "ukb23156_cX_b1_v1.leftnorm.filtered.stats_bcftools\t9486\t4323\t1458\t539\n",
      "ukb23156_cX_b1_v1.leftnorm.filtered.stats_bcftools.novel\t9486\t4323\t1458\t539\n",
      "ukb23156_cX_b1_v1.leftnorm.stats_bcftools.maf\t9633\t4394\t1385\t516\n",
      "ukb23156_cX_b1_v1.leftnorm.stats_bcftools.novel\t9633\t4394\t1385\t516\n",
      "ukb23156_cX_b1_v1.stats_bcftools\t9492\t4332\t1375\t506\n",
      "ukb23156_cX_b20_v1.leftnorm.filtered.stats_bcftools\t9169\t4735\t1347\t602\n",
      "ukb23156_cX_b20_v1.leftnorm.filtered.stats_bcftools.novel\t9169\t4735\t1347\t602\n",
      "ukb23156_cX_b20_v1.leftnorm.stats_bcftools.maf\t9470\t4888\t1150\t526\n",
      "ukb23156_cX_b20_v1.leftnorm.stats_bcftools.novel\t9470\t4888\t1150\t526\n",
      "ukb23156_cX_b20_v1.stats_bcftools\t9269\t4739\t1124\t513\n",
      "ukb23156_cX_b21_v1.leftnorm.filtered.stats_bcftools\t9084\t4545\t1316\t627\n",
      "ukb23156_cX_b21_v1.leftnorm.filtered.stats_bcftools.novel\t9084\t4545\t1316\t627\n",
      "ukb23156_cX_b21_v1.leftnorm.stats_bcftools.maf\t9267\t4645\t1228\t591\n",
      "ukb23156_cX_b21_v1.leftnorm.stats_bcftools.novel\t9267\t4645\t1228\t591\n",
      "ukb23156_cX_b21_v1.stats_bcftools\t9096\t4539\t1201\t582\n",
      "ukb23156_cX_b22_v1.leftnorm.filtered.stats_bcftools\t10255\t4455\t1598\t513\n",
      "ukb23156_cX_b22_v1.leftnorm.filtered.stats_bcftools.novel\t10255\t4455\t1598\t513\n",
      "ukb23156_cX_b22_v1.leftnorm.stats_bcftools.maf\t10417\t4537\t1499\t477\n",
      "ukb23156_cX_b22_v1.leftnorm.stats_bcftools.novel\t10417\t4537\t1499\t477\n",
      "ukb23156_cX_b22_v1.stats_bcftools\t10266\t4449\t1476\t470\n",
      "ukb23156_cX_b23_v1.leftnorm.filtered.stats_bcftools\t17532\t7536\t2317\t730\n",
      "ukb23156_cX_b23_v1.leftnorm.filtered.stats_bcftools.novel\t17532\t7536\t2317\t730\n",
      "ukb23156_cX_b23_v1.leftnorm.stats_bcftools.maf\t17764\t7667\t2184\t690\n",
      "ukb23156_cX_b23_v1.leftnorm.stats_bcftools.novel\t17764\t7667\t2184\t690\n",
      "ukb23156_cX_b23_v1.stats_bcftools\t17478\t7520\t2156\t670\n",
      "ukb23156_cX_b2_v1.leftnorm.filtered.stats_bcftools\t9356\t4597\t1152\t509\n",
      "ukb23156_cX_b2_v1.leftnorm.filtered.stats_bcftools.novel\t9356\t4597\t1152\t509\n",
      "ukb23156_cX_b2_v1.leftnorm.stats_bcftools.maf\t9592\t4715\t1019\t459\n",
      "ukb23156_cX_b2_v1.leftnorm.stats_bcftools.novel\t9592\t4715\t1019\t459\n",
      "ukb23156_cX_b2_v1.stats_bcftools\t9418\t4598\t996\t449\n",
      "ukb23156_cX_b3_v1.leftnorm.filtered.stats_bcftools\t9338\t4448\t1229\t445\n",
      "ukb23156_cX_b3_v1.leftnorm.filtered.stats_bcftools.novel\t9338\t4448\t1229\t445\n",
      "ukb23156_cX_b3_v1.leftnorm.stats_bcftools.maf\t9598\t4575\t1054\t386\n",
      "ukb23156_cX_b3_v1.leftnorm.stats_bcftools.novel\t9598\t4575\t1054\t386\n",
      "ukb23156_cX_b3_v1.stats_bcftools\t9457\t4495\t1031\t379\n",
      "ukb23156_cX_b4_v1.leftnorm.filtered.stats_bcftools\t9380\t4737\t1183\t499\n",
      "ukb23156_cX_b4_v1.leftnorm.filtered.stats_bcftools.novel\t9380\t4737\t1183\t499\n",
      "ukb23156_cX_b4_v1.leftnorm.stats_bcftools.maf\t9615\t4862\t1043\t449\n",
      "ukb23156_cX_b4_v1.leftnorm.stats_bcftools.novel\t9615\t4862\t1043\t449\n",
      "ukb23156_cX_b4_v1.stats_bcftools\t9473\t4757\t1021\t434\n",
      "ukb23156_cX_b5_v1.leftnorm.filtered.stats_bcftools\t9228\t5030\t1121\t543\n",
      "ukb23156_cX_b5_v1.leftnorm.filtered.stats_bcftools.novel\t9228\t5030\t1121\t543\n",
      "ukb23156_cX_b5_v1.leftnorm.stats_bcftools.maf\t9387\t5119\t1045\t521\n",
      "ukb23156_cX_b5_v1.leftnorm.stats_bcftools.novel\t9387\t5119\t1045\t521\n",
      "ukb23156_cX_b5_v1.stats_bcftools\t9193\t5011\t1016\t511\n",
      "ukb23156_cX_b6_v1.leftnorm.filtered.stats_bcftools\t9913\t4498\t1072\t460\n",
      "ukb23156_cX_b6_v1.leftnorm.filtered.stats_bcftools.novel\t9913\t4498\t1072\t460\n",
      "ukb23156_cX_b6_v1.leftnorm.stats_bcftools.maf\t10090\t4599\t974\t421\n",
      "ukb23156_cX_b6_v1.leftnorm.stats_bcftools.novel\t10090\t4599\t974\t421\n",
      "ukb23156_cX_b6_v1.stats_bcftools\t9878\t4480\t957\t405\n",
      "ukb23156_cX_b7_v1.leftnorm.filtered.stats_bcftools\t9987\t4496\t1093\t430\n",
      "ukb23156_cX_b7_v1.leftnorm.filtered.stats_bcftools.novel\t9987\t4496\t1093\t430\n",
      "ukb23156_cX_b7_v1.leftnorm.stats_bcftools.maf\t10105\t4560\t1042\t413\n",
      "ukb23156_cX_b7_v1.leftnorm.stats_bcftools.novel\t10105\t4560\t1042\t413\n",
      "ukb23156_cX_b7_v1.stats_bcftools\t9923\t4463\t1026\t405\n",
      "ukb23156_cX_b8_v1.leftnorm.filtered.stats_bcftools\t8819\t4201\t1071\t470\n",
      "ukb23156_cX_b8_v1.leftnorm.filtered.stats_bcftools.novel\t8819\t4201\t1071\t470\n",
      "ukb23156_cX_b8_v1.leftnorm.stats_bcftools.maf\t8950\t4292\t1017\t444\n",
      "ukb23156_cX_b8_v1.leftnorm.stats_bcftools.novel\t8950\t4292\t1017\t444\n",
      "ukb23156_cX_b8_v1.stats_bcftools\t8815\t4211\t994\t429\n",
      "ukb23156_cX_b9_v1.leftnorm.filtered.stats_bcftools\t9722\t4529\t984\t427\n",
      "ukb23156_cX_b9_v1.leftnorm.filtered.stats_bcftools.novel\t9722\t4529\t984\t427\n",
      "ukb23156_cX_b9_v1.leftnorm.stats_bcftools.maf\t9910\t4629\t881\t387\n",
      "ukb23156_cX_b9_v1.leftnorm.stats_bcftools.novel\t9910\t4629\t881\t387\n",
      "ukb23156_cX_b9_v1.stats_bcftools\t9754\t4555\t866\t380\n",
      "ukb23156_cY_b0_v1.leftnorm.filtered.stats_bcftools\t3282\t1869\t489\t296\n",
      "ukb23156_cY_b0_v1.leftnorm.filtered.stats_bcftools.novel\t3282\t1869\t489\t296\n",
      "ukb23156_cY_b0_v1.leftnorm.stats_bcftools.maf\t3706\t2155\t214\t130\n",
      "ukb23156_cY_b0_v1.leftnorm.stats_bcftools.novel\t3706\t2155\t214\t130\n",
      "ukb23156_cY_b0_v1.stats_bcftools\t3670\t2134\t212\t128\n",
      "\n"
     ]
    }
   ],
   "source": [
    "grep 'X\\|Y' ~/working/project_VCF/tstv/ukb23156_bcftools_maf_tstv.txt | grep -v 'known'"
   ]
  },
  {
   "cell_type": "code",
   "execution_count": 23,
   "id": "af5c5bd5-fd51-4091-92b8-12f8cbc7c3fa",
   "metadata": {
    "kernel": "Bash"
   },
   "outputs": [
    {
     "name": "stdout",
     "output_type": "stream",
     "text": [
      "\n"
     ]
    }
   ],
   "source": [
    "sed -e '/X\\|Y/d'  ~/working/project_VCF/tstv/ukb23156_bcftools_maf_tstv.txt >  ~/working/project_VCF/tstv/ukb23156_bcftools_maf_tstv2.txt "
   ]
  },
  {
   "cell_type": "code",
   "execution_count": 28,
   "id": "3b63b603-3033-4195-9a4a-4ee7d73ed3c2",
   "metadata": {
    "kernel": "Bash"
   },
   "outputs": [
    {
     "name": "stdout",
     "output_type": "stream",
     "text": [
      "\n"
     ]
    }
   ],
   "source": [
    "grep 'X\\|Y'  ~/working/project_VCF/tstv/ukb23156_bcftools_maf_tstv.txt | sed '/known/d' >> ~/working/project_VCF/tstv/ukb23156_bcftools_maf_tstv2.txt"
   ]
  },
  {
   "cell_type": "code",
   "execution_count": null,
   "id": "8b279e38-bda4-454c-946d-11088fd0901b",
   "metadata": {
    "kernel": "Bash"
   },
   "outputs": [],
   "source": []
  }
 ],
 "metadata": {
  "kernelspec": {
   "display_name": "SoS",
   "language": "sos",
   "name": "sos"
  },
  "language_info": {
   "codemirror_mode": "sos",
   "file_extension": ".sos",
   "mimetype": "text/x-sos",
   "name": "sos",
   "nbconvert_exporter": "sos_notebook.converter.SoS_Exporter",
   "pygments_lexer": "sos"
  },
  "sos": {
   "kernels": [
    [
     "Bash",
     "calysto_bash",
     "Bash",
     "#E6EEFF",
     ""
    ],
    [
     "SoS",
     "sos",
     "",
     "",
     "sos"
    ]
   ],
   "version": "0.22.3"
  }
 },
 "nbformat": 4,
 "nbformat_minor": 5
}
