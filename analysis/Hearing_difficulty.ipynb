{
 "cells": [
  {
   "cell_type": "markdown",
   "metadata": {
    "kernel": "SoS"
   },
   "source": [
    "# Phenotypes:\n",
    "1. Hearing aids (f.3393)\n",
    "2. Hearing difficulty/problems (f.2247)\n",
    "3. Hearing difficulty/background noise (f.2257)"
   ]
  },
  {
   "cell_type": "markdown",
   "metadata": {
    "kernel": "SoS"
   },
   "source": [
    "## Aim\n",
    "\n",
    "Create a dataset of filtered individuals using the inclusion and exclusion criteria for diverse hearing related phenotyes to perform association analyses using the LMM.ipynb. "
   ]
  },
  {
   "cell_type": "markdown",
   "metadata": {
    "kernel": "SoS"
   },
   "source": [
    "## Location of files\n",
    "\n",
    "In the shared folder is the original UKBB data\n",
    "```\n",
    "/SAY/dbgapstg/scratch/UKBiobank/phenotype_files/pleiotropy_R01/ukb42495_updatedJune2020\n",
    "```\n",
    "\n",
    "In my personal folder the filtered dataset\n",
    "\n",
    "```\n",
    "/home/dc2325/project/HI_UKBB\n",
    "```"
   ]
  },
  {
   "cell_type": "markdown",
   "metadata": {
    "kernel": "SoS"
   },
   "source": [
    "## Important phenotypic files\n",
    "\n",
    "1. `200804_UKBB_HI_genotypeqc.csv` File containing all individuals that passed QC and hearing impairment variables\n",
    "2. `200804_UKBB_HI_genotypeqc_excr.csv` File with applied exclusion criteria as indicated [here](https://docs.google.com/document/d/1cpxTzElpsEkwmBDjnMBHg2wW7CL1AcG_b0_0wE_k5rQ/edit). **Note**: this file excludes individuals with otosclerosis, Meniere's and other diseases, if you need to filter those particular phenotypes use file 1 instead.\n",
    "3. `200811_UKBB_Tinnitus_plan1_2_3_f4803` File with filtered phenotypes for tinnitus plan 1,2 and 3 and imputed noise variables\n",
    "4. `200814_UKBB_HI_genotypeqc_excr_impvars` Database with qc'ed individuals, exclusion criteria, noise imputed vars and tinnitus phenotypes"
   ]
  },
  {
   "cell_type": "markdown",
   "metadata": {
    "kernel": "SoS"
   },
   "source": [
    "## Analysis plan\n",
    "\n",
    "The phenotypes to be analyzed are the following:\n",
    "\n",
    "1. Hearing aid user (f.3393)\n",
    "\"Do you use a hearing aid most of the time?\"\n",
    "\n",
    "2. Hearing difficulty/problems (f.2247)\n",
    "\"Do you have any difficulty with your hearing?\"\n",
    "\n",
    "3. Hearing difficulty/background noise (f.2257)\n",
    "\"Do you find it difficult to follow a conversation if there is background noise (such as TV, radio, children playing)?\"\n",
    "\n",
    "\n"
   ]
  },
  {
   "cell_type": "markdown",
   "metadata": {
    "kernel": "SoS"
   },
   "source": [
    "## Load libraries and set working dir"
   ]
  },
  {
   "cell_type": "code",
   "execution_count": null,
   "metadata": {
    "kernel": "R"
   },
   "outputs": [],
   "source": [
    "#Load libraries\n",
    "library(plyr)\n",
    "library(tidyverse)\n",
    "library(pander)\n",
    "library(ggpubr)\n",
    "library(rapportools)\n",
    "library(ggplot2)\n",
    "#Get working directory\n",
    "getwd()\n",
    "#Set working directory\n",
    "setwd('~/project/HI_UKBB')"
   ]
  },
  {
   "cell_type": "code",
   "execution_count": null,
   "metadata": {
    "kernel": "SoS"
   },
   "outputs": [],
   "source": [
    "df.final.imp = read.csv('/SAY/dbgapstg/scratch/UKBiobank/phenotype_files/hearing_impairment/200814_UKBB_HI_genotypeqc_excr_impvars', header=TRUE)"
   ]
  },
  {
   "cell_type": "markdown",
   "metadata": {
    "kernel": "SoS"
   },
   "source": [
    "step 1: classify cases and controls"
   ]
  },
  {
   "cell_type": "code",
   "execution_count": null,
   "metadata": {
    "kernel": "SoS"
   },
   "outputs": [],
   "source": [
    "library(tidyverse)\n",
    "\n",
    "hearing_all = data.geno.pheno %>% \n",
    "  select(IID,FID,f.31.0.0, f.21003.0.0,f.21003.1.0,f.21003.2.0,f.21003.3.0,f.3393.0.0,f.3393.1.0,f.3393.2.0,f.3393.3.0,f.2247.0.0,f.2247.1.0,f.2247.2.0,f.2247.3.0,f.2257.0.0, f.2257.1.0, f.2257.2.0, f.2257.3.0) \n",
    "\n",
    "\n",
    "#classify the cases and controls for 3393 (hearing aid)\n",
    "hearing_all = hearing_all %>% \n",
    "  mutate(cases = apply(select(hearing_all,starts_with(\"f.3393\")), 1, function(x) length(which(x == \"Yes\")) > 0 & max(which(x != \"Yes\")) < min(which(x == \"Yes\")))\n",
    "  )\n",
    "\n",
    "\n",
    "hearing_all = hearing_all %>% \n",
    "      mutate(control = ifelse(apply(hearing_all, 1, function(x){\n",
    "              col_names = names(x)[grep(\"f.3393\", names(x))]\n",
    "              condition1 = sapply(col_names, function(y){\n",
    "                x[y] %in% c(\"No\",NA)\n",
    "              })\n",
    "              \n",
    "              condition2 = sapply(col_names, function(y){\n",
    "                x[y] %in% c(NA)\n",
    "              })\n",
    "              \n",
    "              all(condition1) & !all(condition2)\n",
    "            }),\n",
    "            \"FALSE\",\n",
    "            NA\n",
    "            )\n",
    "         ) \n",
    "\n",
    "                                     \n",
    "#hearing_all$cases = apply(select(hearing_all,starts_with(\"f.3393\")), 1, function(x) length(which(x == \"Yes\")) > 0 & max(which(x != \"Yes\")) < min(which(x == \"Yes\")))\n",
    "\n",
    "#12460 individuals are cases for 3393\n",
    "hearing_aid_cases <- hearing_all %>% \n",
    "  filter(cases == \"TRUE\")\n",
    "\n",
    "\n",
    "#217892 individuals are controls for 3393\n",
    "hearing_control <- hearing_all %>% \n",
    "  filter(control == \"FALSE\") %>% \n",
    "  select(-cases)\n",
    "\n",
    "#230352 are either cases or controls for 3393\n",
    "hearing_all <- hearing_all %>% \n",
    "  filter(cases == \"TRUE\" | control == \"FALSE\")"
   ]
  },
  {
   "cell_type": "code",
   "execution_count": null,
   "metadata": {
    "kernel": "SoS"
   },
   "outputs": [],
   "source": [
    "#merge cases and controls for 3393\n",
    "library(dplyr)\n",
    "hearing_all$hearing_aid_cat <- coalesce(hearing_all$cases, as.logical(hearing_all$control))\n",
    "\n",
    "hearing_all <- hearing_all %>% \n",
    "  select(-cases, -control) %>% \n",
    "  mutate(hearing_aid_cat = as.factor(hearing_aid_cat),\n",
    "         hearing_aid_cat = recode(hearing_aid_cat,\"FALSE\"=\"control\",\"TRUE\"=\"case\"))\n",
    "\n",
    "\n",
    "# Get the number of NAs\n",
    "length(which(is.na(hearing_all$hearing_aid_cat)))"
   ]
  },
  {
   "cell_type": "markdown",
   "metadata": {
    "kernel": "SoS"
   },
   "source": [
    "step 2: get the ages for hearing aids (3393)"
   ]
  },
  {
   "cell_type": "code",
   "execution_count": null,
   "metadata": {
    "kernel": "SoS"
   },
   "outputs": [],
   "source": [
    "### Extract age for Control (3393)\n",
    "aid_age_control <- hearing_all %>% \n",
    "  filter(hearing_aid_cat == \"control\") \n",
    "\n",
    "\n",
    "#find out the age at the last visit (control)\n",
    "\n",
    "offset = which(colnames(aid_age_control) == 'f.21003.0.0') - which(colnames(aid_age_control) == 'f.3393.0.0')\n",
    "\n",
    "aid_age_control$age_aid = apply(aid_age_control, 1, function(x) {\n",
    "  hear_aid = which(x[grep(\"f.3393\", names(x))] == \"No\")\n",
    "  first_index_offset = grep(\"f.3393\", names(x))[1] - 1\n",
    "  unlist(x[hear_aid[length(hear_aid)] + first_index_offset + offset])\n",
    "})\n",
    "\n",
    "res<-head(aid_age_control)"
   ]
  },
  {
   "cell_type": "code",
   "execution_count": null,
   "metadata": {
    "kernel": "SoS"
   },
   "outputs": [],
   "source": [
    "### Extract age for Cases (3393)\n",
    "aid_age_case <- hearing_all %>% \n",
    "  filter(hearing_aid_cat == \"case\") \n",
    "\n",
    "#find out the age at the first visit (case)\n",
    "\n",
    "offset = which(colnames(aid_age_case) == 'f.21003.0.0') - which(colnames(aid_age_case) == 'f.3393.0.0')\n",
    "\n",
    "aid_age_case$age_aid = apply(aid_age_case, 1, function(x) {\n",
    "  hear_aid =  which(x[grep(\"f.3393\", names(x))] == \"Yes\")\n",
    "  first_index_offset = grep(\"f.3393\", names(x))[1] - 1\n",
    "  unlist(x[min(hear_aid) + first_index_offset + offset])\n",
    "})\n",
    "\n",
    "res<-head(aid_age_case)\n",
    "\n",
    "#merge age for cases and controls\n",
    "hearing_clean <- rbind(aid_age_case, aid_age_control) \n",
    "dim(hearing_clean)"
   ]
  },
  {
   "cell_type": "markdown",
   "metadata": {
    "kernel": "SoS"
   },
   "source": [
    "## Hearing difficulty/problems (2247)\n",
    "### step1: classify cases and controls"
   ]
  },
  {
   "cell_type": "code",
   "execution_count": null,
   "metadata": {
    "kernel": "SoS"
   },
   "outputs": [],
   "source": [
    "#\n",
    "hearing_diff <- hearing_clean %>% \n",
    "  mutate(cases = apply(select(.,starts_with(\"f.2247\")), 1, function(x) length(which(x == \"Yes\")) > 0 & max(which(x != \"Yes\")) < min(which(x == \"Yes\")))\n",
    "  )\n",
    "\n",
    "\n",
    "hearing_diff$control = with(hearing_diff, ifelse(f.2247.0.0 %in% c(\"No\",NA) & f.2247.1.0 %in% c(\"No\", NA) & f.2247.2.0 %in% c(\"No\",NA) & f.2247.3.0 %in% c(\"No\",NA) \n",
    "                                                 & !(f.2247.0.0 %in% c(NA) & f.2247.1.0 %in% c(NA) & f.2247.2.0 %in% c(NA) & f.2247.3.0 %in% c(NA)),\"FALSE\", NA)) \n",
    "\n",
    "\n",
    "\n",
    "#90761 individuals are cases for 2247  (also have hearing aid data)\n",
    "hearing_diff_cases <- hearing_diff %>% \n",
    "  filter(cases == \"TRUE\")\n",
    "\n",
    "\n",
    "#125358 individuals are controls for 2247 (also have hearing aid data)\n",
    "hearing_diff_control <- hearing_diff %>% \n",
    "  filter(control == \"FALSE\") %>% \n",
    "  select(-cases)\n",
    "\n",
    "#216119 individulas who are either case or control for 2247 (also have hearing aid data)\n",
    "hearing_diff <- hearing_diff %>% \n",
    "  filter(cases == \"TRUE\" | control == \"FALSE\")\n",
    "\n",
    "\n",
    "###merge cases and controls\n",
    "\n",
    "hearing_diff$hearing_diff_cat <- coalesce(hearing_diff$cases, as.logical(hearing_diff$control))\n",
    "\n",
    "hearing_diff <- hearing_diff %>% \n",
    "  select(-cases, -control) %>% \n",
    "  mutate(hearing_diff_cat = as.factor(hearing_diff_cat),\n",
    "         hearing_diff_cat = recode(hearing_diff_cat,\"FALSE\"=\"control\",\"TRUE\"=\"case\"))\n",
    "\n",
    "#85 state they have no hearing difficulty but they wear hearing aids \n",
    "check_inconsistence <- hearing_diff %>% \n",
    "  filter(hearing_diff_cat == \"control\" & hearing_aid_cat == \"case\") \n",
    "\n",
    "#reclassify these 85 individulas as cases for 2247\n",
    "hearing_diff <- hearing_diff %>% \n",
    "  mutate(hearing_diff_cat_new = case_when(\n",
    "    hearing_diff_cat == \"control\" & hearing_aid_cat == \"case\" ~ \"case\",\n",
    "    hearing_diff_cat == \"case\" & hearing_aid_cat == \"case\" ~ \"case\",\n",
    "    hearing_diff_cat == \"case\" & hearing_aid_cat == \"control\" ~ \"case\",\n",
    "    hearing_diff_cat == \"control\" & hearing_aid_cat == \"control\" ~ \"control\"))\n",
    "\n",
    "# 90761 + 85 = 90846 who are cases\n",
    "check_merge <- hearing_diff %>% \n",
    "  filter(hearing_diff_cat_new == \"case\")\n",
    "\n",
    "### Step 2: get the ages for Hearing difficulty/problems (2247)\n",
    "### Extract age for Control (2247)\n",
    "```{r age for control,warning=FALSE, collapse=FALSE,echo=T}\n",
    "hearing_diff_age_control <- hearing_diff %>% \n",
    "  filter(hearing_diff_cat_new == \"control\") \n",
    "\n",
    "#get the age at last visit for control\n",
    "offset = which(colnames(hearing_diff_age_control) == 'f.21003.0.0') - which(colnames(hearing_diff_age_control) == 'f.2247.0.0')\n",
    "\n",
    "hearing_diff_age_control$age_diff = apply(hearing_diff_age_control, 1, function(x) {\n",
    "  hear_aid = which(x[grep(\"f.2247\", names(x))] == \"No\")\n",
    "  first_index_offset = grep(\"f.2247\", names(x))[1] - 1\n",
    "  unlist(x[max(hear_aid) + first_index_offset + offset])\n",
    "})\n",
    "\n",
    "res<-head(hearing_diff_age_control)"
   ]
  },
  {
   "cell_type": "code",
   "execution_count": null,
   "metadata": {
    "kernel": "SoS"
   },
   "outputs": [],
   "source": [
    "#for those who are cases for hearing difficuty -- get the age at first visit for case\n",
    "hearing_diff_age_case <- hearing_diff %>% \n",
    "  filter(hearing_diff_cat == \"case\") \n",
    "\n",
    "offset = which(colnames(hearing_diff_age_case) == 'f.21003.0.0') - which(colnames(hearing_diff_age_case) == 'f.2247.0.0')\n",
    "\n",
    "hearing_diff_age_case$age_diff = apply(hearing_diff_age_case, 1, function(x) {\n",
    "  hear_aid =  which(x[grep(\"f.2247\", names(x))] == \"Yes\")\n",
    "  first_index_offset = grep(\"f.2247\", names(x))[1] - 1\n",
    "  unlist(x[min(hear_aid) + first_index_offset + offset])\n",
    "})\n",
    "\n",
    "res<-head(hearing_diff_age_case)\n",
    "\n",
    "#for those who are control for hearing difficuty (2247) but cases for hearing aid (3393) -- get the age of 2247 at last visit  (85 individuals)\n",
    "\n",
    "hearing_diff_age_case_2 <- hearing_diff %>% \n",
    " filter(hearing_diff_cat == \"control\" & hearing_aid_cat == \"case\")\n",
    "\n",
    "offset = which(colnames(hearing_diff_age_case_2 ) == 'f.21003.0.0') - which(colnames(hearing_diff_age_case_2) == 'f.2247.0.0')\n",
    "\n",
    "hearing_diff_age_case_2$age_diff = apply(hearing_diff_age_case_2, 1, function(x) {\n",
    "  hear_aid =  which(x[grep(\"f.2247\", names(x))] == \"No\")\n",
    "  first_index_offset = grep(\"f.2247\", names(x))[1] - 1\n",
    "  unlist(x[max(hear_aid) + first_index_offset + offset])\n",
    "    })\n",
    "\n",
    "\n",
    "hearing_diff_clean <- rbind(hearing_diff_age_case, hearing_diff_age_control,hearing_diff_age_case_2) \n",
    "dim(hearing_diff_clean)"
   ]
  },
  {
   "cell_type": "markdown",
   "metadata": {
    "kernel": "SoS"
   },
   "source": [
    "## Hearing difficulty/background noise (2257)\n",
    "### step1: classify cases and controls"
   ]
  },
  {
   "cell_type": "code",
   "execution_count": null,
   "metadata": {
    "kernel": "SoS"
   },
   "outputs": [],
   "source": [
    "hearing_noise <- hearing_diff_clean %>% \n",
    "  mutate(cases = apply(select(.,starts_with(\"f.2257\")), 1, function(x) length(which(x == \"Yes\")) > 0 & max(which(x != \"Yes\")) < min(which(x == \"Yes\")))\n",
    "  )\n",
    "\n",
    "hearing_noise$control = with(hearing_noise, ifelse(f.2257.0.0 %in% c(\"No\",NA) & f.2257.1.0 %in% c(\"No\", NA) & f.2257.2.0 %in% c(\"No\",NA) & f.2257.3.0 %in% c(\"No\",NA) \n",
    "                                                 & !(f.2257.0.0 %in% c(NA) & f.2257.1.0 %in% c(NA) & f.2257.2.0 %in% c(NA) & f.2257.3.0 %in% c(NA)),\"FALSE\", NA)) \n",
    "\n",
    "#123870 individuals are cases for 2257  (also have hearing aid data + hearing difficulty)\n",
    "hearing_noise_cases <- hearing_noise %>% \n",
    "  filter(cases == \"TRUE\")\n",
    "\n",
    "\n",
    "#86775 individuals are controls for 2257 (also have hearing aid data + hearing difficulty)\n",
    "hearing_noise_control <- hearing_noise %>% \n",
    "  filter(control == \"FALSE\") %>% \n",
    "  select(-cases)\n",
    "\n",
    "#210645 individulas who are either case or control for 2257 (also have hearing aid data)\n",
    "hearing_noise<- hearing_noise %>% \n",
    "  filter(cases == \"TRUE\" | control == \"FALSE\")\n",
    "```\n",
    "\n",
    "\n",
    "### merge cases and controls (2257)\n",
    "```{r merge cases and controls,warning=FALSE, collapse=FALSE,echo=T}\n",
    "#merge the cases and controls for hearing noise (2257)\n",
    "hearing_noise$hearing_noise_cat <- coalesce(hearing_noise$cases, as.logical(hearing_noise$control))\n",
    "\n",
    "hearing_noise <- hearing_noise %>% \n",
    "  select(-cases, -control) %>% \n",
    "  mutate(hearing_noise_cat = as.factor(hearing_noise_cat),\n",
    "         hearing_noise_cat = recode(hearing_noise_cat,\"FALSE\"=\"control\",\"TRUE\"=\"case\"))\n",
    "\n",
    "\n",
    "#60827 inconsistent for hearing_noise and hearing_diff (conflict of cases and control)\n",
    "check_noise_inconsistence <- hearing_noise %>% \n",
    "  filter(hearing_noise_cat != hearing_diff_cat_new)\n",
    "\n",
    "#149818 left in the study (Individuals who are cases for one field and controls for the other field should be removed from the analysis)  210645 - 60827 = 149818\n",
    "hearing_noise <- hearing_noise %>% \n",
    "  filter(hearing_noise_cat == hearing_diff_cat_new)\n",
    "\n",
    "```\n",
    "\n",
    "\n",
    "\n",
    "### Step 2: get the ages for Hearing difficulty/background noise (2257) \n",
    "### Extract age for Control (2257)\n",
    "```{r age for control,warning=FALSE, collapse=FALSE,echo=T}\n",
    "noise_age_control <- hearing_noise %>% \n",
    "  filter(hearing_noise_cat == \"control\") \n",
    "\n",
    "#get the age at last visit for controls\n",
    "offset = which(colnames(noise_age_control) == 'f.21003.0.0') - which(colnames(noise_age_control) == 'f.2257.0.0')\n",
    "\n",
    "noise_age_control$age_noise = apply(noise_age_control, 1, function(x) {\n",
    "  hear_aid = which(x[grep(\"f.2257\", names(x))] == \"No\")\n",
    "  first_index_offset = grep(\"f.2257\", names(x))[1] - 1\n",
    "  unlist(x[max(hear_aid) + first_index_offset + offset])\n",
    "})\n",
    "\n",
    "res<-head(noise_age_control)\n",
    "\n",
    "```\n",
    "\n",
    "\n",
    "### Extract age for Cases (2257)\n",
    "```{r age for cases,warning=FALSE, collapse=FALSE,echo=T}\n",
    "noise_age_case <- hearing_noise %>% \n",
    "  filter(hearing_noise_cat == \"case\") \n",
    "\n",
    "\n",
    "#get the age at first visit for cases\n",
    "offset = which(colnames(noise_age_case) == 'f.21003.0.0') - which(colnames(noise_age_case) == 'f.2257.0.0')\n",
    "\n",
    "noise_age_case$age_noise = apply(noise_age_case, 1, function(x) {\n",
    "  hear_aid = which(x[grep(\"f.2257\", names(x))] == \"Yes\")\n",
    "  first_index_offset = grep(\"f.2257\", names(x))[1] - 1\n",
    "  unlist(x[min(hear_aid) + first_index_offset + offset])\n",
    "})\n",
    "\n",
    "res<-head(noise_age_case)\n",
    "\n",
    "hearing_noise_clean <- rbind(noise_age_case, noise_age_control) \n",
    "\n",
    "\n",
    "\n",
    "#3252 age inconsistent for 2247 and 2257\n",
    "age_inconsistence <- hearing_noise_clean %>% \n",
    "  filter(age_diff != age_noise) %>% \n",
    "  select(IID,FID,f.31.0.0, f.21003.0.0,f.21003.1.0,f.21003.2.0,f.21003.3.0,f.2247.0.0,f.2247.1.0,f.2247.2.0,f.2247.3.0,f.2257.0.0, f.2257.1.0, f.2257.2.0, f.2257.3.0,age_diff, age_noise, hearing_noise_cat)\n",
    "\n",
    "\n",
    "#get the minimum age for 2247 and 2257\n",
    "hearing_noise_clean <- transform(hearing_noise_clean, age_diff_noise = pmin(age_noise, age_diff)) \n",
    "\n",
    "#drop unneccessary variables\n",
    "hearing_noise_clean <- hearing_noise_clean %>% \n",
    "  select(-hearing_diff_cat, -age_diff,-age_noise,-age_aid)"
   ]
  }
 ],
 "metadata": {
  "kernelspec": {
   "display_name": "SoS",
   "language": "sos",
   "name": "sos"
  },
  "language_info": {
   "codemirror_mode": "sos",
   "file_extension": ".sos",
   "mimetype": "text/x-sos",
   "name": "sos",
   "nbconvert_exporter": "sos_notebook.converter.SoS_Exporter",
   "pygments_lexer": "sos"
  },
  "sos": {
   "kernels": [
    [
     "R",
     "ir",
     "R",
     "#DCDCDA",
     ""
    ],
    [
     "SoS",
     "sos",
     "",
     "",
     "sos"
    ]
   ],
   "version": "0.21.7"
  }
 },
 "nbformat": 4,
 "nbformat_minor": 4
}
