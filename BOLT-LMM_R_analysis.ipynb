{
 "cells": [
  {
   "cell_type": "markdown",
   "metadata": {
    "kernel": "SoS"
   },
   "source": [
    "## Data analysis\n",
    "https://www.r-graph-gallery.com/101_Manhattan_plot.html"
   ]
  },
  {
   "cell_type": "markdown",
   "metadata": {
    "kernel": "SoS"
   },
   "source": [
    "## Running sos notebook\n",
    "\n",
    "On the Yale Farnam cluster,\n",
    "\n",
    "\n",
    "On a local computer with for example 8 threads,\n",
    "\n",
    "```\n",
    "sos run BOLT-LMM_R_analysis_UKB.ipynb -q none -j 8\n",
    "```\n"
   ]
  },
  {
   "cell_type": "code",
   "execution_count": 52,
   "metadata": {
    "kernel": "SoS"
   },
   "outputs": [],
   "source": [
    "[global]\n",
    "# Working directory\n",
    "parameter: cwd = path('/Users/dianacornejo/pleiotropy_UKB/data')\n",
    "#Input individuals summary stats file\n",
    "parameter: infile = 'chr?.gz'\n",
    "#Output merged summary stats file\n",
    "parameter: name = 'test'\n",
    "#Ouput Manhattan plot\n",
    "parameter: manhattan= 'BMI_manhattan'"
   ]
  },
  {
   "cell_type": "markdown",
   "metadata": {
    "kernel": "SoS"
   },
   "source": [
    "Merge summary stats files using python"
   ]
  },
  {
   "cell_type": "code",
   "execution_count": 69,
   "metadata": {
    "kernel": "SoS"
   },
   "outputs": [],
   "source": [
    "#[step_1 (convert)]\n",
    "#The stats file contains all the summary statistics derived from the association analysis in BOLT\n",
    "#input: 'chr?.gz'\n",
    "cwd = path('/Users/dianacornejo/pleiotropy_UKB/data')\n",
    "name = 'test'\n",
    "infile = 'chr?.gz'\n",
    "input: f'{cwd}/{infile}'\n",
    "output: f'{cwd}/{name}'\n",
    "python: expand=True\n",
    "    import glob, os, gzip, shutil\n",
    "    os.chdir('{cwd}')\n",
    "    file_list = [f for f in glob.glob('{_input}')]\n",
    "    file_list.sort()\n",
    "    with open('test','wb') as outfile:\n",
    "        for i, fname in enumerate(file_list):\n",
    "            with gzip.open(fname, 'rb') as infile:\n",
    "                if i !=0:\n",
    "                    infile.readline()\n",
    "                shutil.copyfileobj(infile, outfile)\n",
    "                print(fname + \" has been imported.\")"
   ]
  },
  {
   "cell_type": "code",
   "execution_count": null,
   "metadata": {
    "kernel": "SoS"
   },
   "outputs": [],
   "source": [
    "import glob, os, gzip\n",
    "os.chdir('/Users/dianacornejo/pleiotropy_UKB/data')\n",
    "file_list = [f for f in glob.glob('file?.gz')]\n",
    "file_list.sort()\n",
    "with open('test','w') as outfile:\n",
    "    with gzip.open(file_list[0], 'rb') as f:\n",
    "        for line in f:        #keep the header from file1\n",
    "            outfile.write(line.decode('utf-8'))\n",
    "    for file in (file_list[1:]):\n",
    "        with gzip.open(x) as f:\n",
    "            for line in f:\n",
    "                if not line.startswith(b'SNP'):\n",
    "                        outfile.write(line.decode('utf-8'))"
   ]
  },
  {
   "cell_type": "code",
   "execution_count": 7,
   "metadata": {
    "kernel": "SoS"
   },
   "outputs": [
    {
     "data": {
      "text/plain": [
       "['file3.gz', 'file1.gz', 'file4.gz']"
      ]
     },
     "execution_count": 7,
     "metadata": {},
     "output_type": "execute_result"
    }
   ],
   "source": [
    "file_list"
   ]
  },
  {
   "cell_type": "code",
   "execution_count": 24,
   "metadata": {
    "kernel": "SoS"
   },
   "outputs": [
    {
     "name": "stdout",
     "output_type": "stream",
     "text": [
      "SNP\tCHR\tBP\tGENPOS\tALLELE1\tALLELE0\tA1FREQ\tF_MISS\tCHISQ_LINREG\tP_LINREG\tBETA\tSE\tCHISQ_BOLT_LMM_INF\tP_BOLT_LMM_INF\tCHISQ_BOLT_LMM\tP_BOLT_LMM\n",
      "\n",
      "rs3131962\t1\t756604\t0.00490722\tA\tG\t0.129619\t0.00154251\t0.143797\t7.0E-01\t-0.000595741\t0.00322443\t0.0341358\t8.5E-01\t0.00862527\t9.3E-01\n",
      "\n",
      "rs12562034\t1\t768448\t0.00495714\tA\tG\t0.105098\t0.00160077\t3.20665\t7.3E-02\t0.00652097\t0.00352459\t3.423\t6.4E-02\t2.74284\t9.8E-02\n",
      "\n",
      "rs4040617\t1\t779322\t0.00500708\tG\tA\t0.127412\t0.00241641\t0.681178\t4.1E-01\t-0.00195123\t0.00324907\t0.360661\t5.5E-01\t0.294739\t5.9E-01\n",
      "\n",
      "rs79373928\t1\t801536\t0.0058722\tG\tT\t0.0148708\t0.000596473\t0.00918373\t9.2E-01\t-0.00591515\t0.00893767\t0.438009\t5.1E-01\t0.358728\t5.5E-01\n",
      "\n",
      "rs11240779\t1\t808631\t0.00620827\tG\tA\t0.224724\t0.00698567\t1.30599\t2.5E-01\t0.00347077\t0.00260351\t1.77719\t1.8E-01\t1.59823\t2.1E-01\n",
      "\n",
      "rs57181708\t1\t809876\t0.00620827\tG\tA\t0.100445\t0.000873903\t6.64697\t9.9E-03\t0.00875674\t0.00359352\t5.93806\t1.5E-02\t5.17968\t2.3E-02\n",
      "\n",
      "rs4970383\t1\t838555\t0.00620827\tA\tC\t0.245613\t0.00178665\t0.43358\t5.1E-01\t0.000175294\t0.00251201\t0.00486959\t9.4E-01\t0.00388255\t9.5E-01\n",
      "\n",
      "rs4970382\t1\t840753\t0.00620827\tC\tT\t0.399422\t0.00164516\t0.158944\t6.9E-01\t0.00103558\t0.00220894\t0.219786\t6.4E-01\t0.205365\t6.5E-01\n",
      "\n",
      "rs950122\t1\t846864\t0.00620827\tC\tG\t0.198258\t0.00317102\t1.98014\t1.6E-01\t-0.00222721\t0.00271657\t0.67217\t4.1E-01\t0.819927\t3.7E-01\n",
      "\n"
     ]
    }
   ],
   "source": [
    "with gzip.open('file4.gz','r') as f:\n",
    "    for line in f:\n",
    "        print(line.decode('utf-8'))\n",
    "        "
   ]
  },
  {
   "cell_type": "code",
   "execution_count": 26,
   "metadata": {
    "kernel": "SoS"
   },
   "outputs": [
    {
     "data": {
      "text/plain": [
       "28"
      ]
     },
     "execution_count": 26,
     "metadata": {},
     "output_type": "execute_result"
    }
   ],
   "source": [
    "sum(1 for i in open('test', 'r'))"
   ]
  },
  {
   "cell_type": "code",
   "execution_count": 4,
   "metadata": {
    "kernel": "SoS"
   },
   "outputs": [
    {
     "data": {
      "text/plain": [
       "80874"
      ]
     },
     "execution_count": 4,
     "metadata": {},
     "output_type": "execute_result"
    }
   ],
   "source": [
    "sum(1 for i in open(file_list[0], 'rb'))"
   ]
  },
  {
   "cell_type": "code",
   "execution_count": 30,
   "metadata": {
    "kernel": "SoS"
   },
   "outputs": [
    {
     "data": {
      "text/plain": [
       "904226"
      ]
     },
     "execution_count": 30,
     "metadata": {},
     "output_type": "execute_result"
    }
   ],
   "source": [
    "sum(1 for i in open('BMI_summary_stats.txt', 'r'))"
   ]
  },
  {
   "cell_type": "markdown",
   "metadata": {
    "kernel": "SoS"
   },
   "source": [
    "# First of all set the working directory. This is where the BOLT-LMM association results are located."
   ]
  },
  {
   "cell_type": "code",
   "execution_count": null,
   "metadata": {
    "kernel": "SoS"
   },
   "outputs": [],
   "source": [
    "[step_2 (plot)]\n",
    "output: f'{out_dir}/{manhattan}'\n",
    "R: expand=True\n",
    "    install.packages(\"qqman\")\n",
    "    library(qqman)\n",
    "    summary_gz=gzfile('{_name}.gz','rt')\n",
    "    df=read.table('{_name}', header=TRUE,sep = ' ')\n",
    "    png('{_manhattan}.png', width = 6, height = 4, unit='in', res=300)\n",
    "    bmi_manhattan <- manhattan(df, chr='CHR', bp='BP', snp='SNP', p='P')\n",
    "    dev.off()"
   ]
  },
  {
   "cell_type": "markdown",
   "metadata": {
    "kernel": "R"
   },
   "source": [
    "Install and load required libraries"
   ]
  },
  {
   "cell_type": "code",
   "execution_count": null,
   "metadata": {
    "kernel": "R"
   },
   "outputs": [],
   "source": [
    "#install.packages(\"reader\")\n",
    "#intall.packages(\"plyr\")\n",
    "#install.packages(\"ggplot2\")\n",
    "#library(readr)\n",
    "#library(plyr)\n",
    "#library(ggplot2)"
   ]
  },
  {
   "cell_type": "markdown",
   "metadata": {
    "kernel": "R"
   },
   "source": [
    "Then create a list of files to be combined using R. In this case the summary statistics for the association analysis and then create the dataset by binding files from chr{1:22}. The drawback is that R runs out of memory when doing this"
   ]
  },
  {
   "cell_type": "code",
   "execution_count": null,
   "metadata": {
    "kernel": "R"
   },
   "outputs": [],
   "source": [
    "#file_list = Sys.glob(\"*.snp_stats.bgen.gz\") #one way of creating lists\n",
    "#file_list = list.files(path=mydir, pattern=\"*.snp_stats.bgen.gz\", full.names=TRUE) #another way of creating lists\n",
    "#data.list = lapply(file_list, function(x){read.table(file = x,header = TRUE, sep = \"\\t\")})\n",
    "#data.merged = do.call(\"rbind\", data.list"
   ]
  },
  {
   "cell_type": "markdown",
   "metadata": {
    "kernel": "R"
   },
   "source": [
    "## Drawing the Manhattan Plot"
   ]
  },
  {
   "cell_type": "code",
   "execution_count": null,
   "metadata": {
    "kernel": "R"
   },
   "outputs": [],
   "source": [
    "\n",
    "# Let's highlight them, with a bit of customization on the plot\n",
    "#manhattan(gwasResults, highlight = snpsOfInterest)\n",
    "#Annotate the SNPs of interest\n",
    "#manhattan(gwasResults, annotatePval = 0.01)\n",
    "#Make a qqplot\n",
    "#qq(gwasResults$P)"
   ]
  },
  {
   "cell_type": "code",
   "execution_count": 35,
   "metadata": {
    "kernel": "SoS"
   },
   "outputs": [
    {
     "name": "stdout",
     "output_type": "stream",
     "text": [
      "ukb_imp_chr10_v3.UKB_caucasians_BMI_nopreg_adjagesex_residuals_andstandardized_022720.BoltLMM.snp_stats.bgen.gz has been imported.\n",
      "ukb_imp_chr11_v3.UKB_caucasians_BMI_nopreg_adjagesex_residuals_andstandardized_022720.BoltLMM.snp_stats.bgen.gz has been imported.\n",
      "ukb_imp_chr12_v3.UKB_caucasians_BMI_nopreg_adjagesex_residuals_andstandardized_022720.BoltLMM.snp_stats.bgen.gz has been imported.\n",
      "ukb_imp_chr13_v3.UKB_caucasians_BMI_nopreg_adjagesex_residuals_andstandardized_022720.BoltLMM.snp_stats.bgen.gz has been imported.\n",
      "ukb_imp_chr14_v3.UKB_caucasians_BMI_nopreg_adjagesex_residuals_andstandardized_022720.BoltLMM.snp_stats.bgen.gz has been imported.\n",
      "ukb_imp_chr15_v3.UKB_caucasians_BMI_nopreg_adjagesex_residuals_andstandardized_022720.BoltLMM.snp_stats.bgen.gz has been imported.\n",
      "ukb_imp_chr16_v3.UKB_caucasians_BMI_nopreg_adjagesex_residuals_andstandardized_022720.BoltLMM.snp_stats.bgen.gz has been imported.\n",
      "ukb_imp_chr17_v3.UKB_caucasians_BMI_nopreg_adjagesex_residuals_andstandardized_022720.BoltLMM.snp_stats.bgen.gz has been imported.\n",
      "ukb_imp_chr18_v3.UKB_caucasians_BMI_nopreg_adjagesex_residuals_andstandardized_022720.BoltLMM.snp_stats.bgen.gz has been imported.\n",
      "ukb_imp_chr19_v3.UKB_caucasians_BMI_nopreg_adjagesex_residuals_andstandardized_022720.BoltLMM.snp_stats.bgen.gz has been imported.\n",
      "ukb_imp_chr1_v3.UKB_caucasians_BMI_nopreg_adjagesex_residuals_andstandardized_022720.BoltLMM.snp_stats.bgen.gz has been imported.\n",
      "ukb_imp_chr20_v3.UKB_caucasians_BMI_nopreg_adjagesex_residuals_andstandardized_022720.BoltLMM.snp_stats.bgen.gz has been imported.\n",
      "ukb_imp_chr21_v3.UKB_caucasians_BMI_nopreg_adjagesex_residuals_andstandardized_022720.BoltLMM.snp_stats.bgen.gz has been imported.\n",
      "ukb_imp_chr22_v3.UKB_caucasians_BMI_nopreg_adjagesex_residuals_andstandardized_022720.BoltLMM.snp_stats.bgen.gz has been imported.\n",
      "ukb_imp_chr2_v3.UKB_caucasians_BMI_nopreg_adjagesex_residuals_andstandardized_022720.BoltLMM.snp_stats.bgen.gz has been imported.\n",
      "ukb_imp_chr3_v3.UKB_caucasians_BMI_nopreg_adjagesex_residuals_andstandardized_022720.BoltLMM.snp_stats.bgen.gz has been imported.\n",
      "ukb_imp_chr4_v3.UKB_caucasians_BMI_nopreg_adjagesex_residuals_andstandardized_022720.BoltLMM.snp_stats.bgen.gz has been imported.\n",
      "ukb_imp_chr5_v3.UKB_caucasians_BMI_nopreg_adjagesex_residuals_andstandardized_022720.BoltLMM.snp_stats.bgen.gz has been imported.\n",
      "ukb_imp_chr6_v3.UKB_caucasians_BMI_nopreg_adjagesex_residuals_andstandardized_022720.BoltLMM.snp_stats.bgen.gz has been imported.\n",
      "ukb_imp_chr7_v3.UKB_caucasians_BMI_nopreg_adjagesex_residuals_andstandardized_022720.BoltLMM.snp_stats.bgen.gz has been imported.\n",
      "ukb_imp_chr8_v3.UKB_caucasians_BMI_nopreg_adjagesex_residuals_andstandardized_022720.BoltLMM.snp_stats.bgen.gz has been imported.\n",
      "ukb_imp_chr9_v3.UKB_caucasians_BMI_nopreg_adjagesex_residuals_andstandardized_022720.BoltLMM.snp_stats.bgen.gz has been imported.\n"
     ]
    }
   ],
   "source": [
    "import shutil\n",
    "import glob\n",
    "\n",
    "#import csv files from folder\n",
    "os.chdir('/Users/dianacornejo/pleiotropy_UKB/pleiotropy_data/BMI')\n",
    "allFiles = [f for f in glob.glob('*.snp_stats.bgen.gz')]\n",
    "allFiles.sort()  # glob lacks reliable ordering, so impose your own if output order matters\n",
    "with open('test', 'wb') as outfile:\n",
    "    for i, fname in enumerate(allFiles):\n",
    "        with gzip.open(fname, 'rb') as infile:\n",
    "            if i != 0:\n",
    "                infile.readline()  # Throw away header on all but first file\n",
    "            # Block copy rest of file from input to output without parsing\n",
    "            shutil.copyfileobj(infile, outfile)\n",
    "            print(fname + \" has been imported.\")"
   ]
  },
  {
   "cell_type": "code",
   "execution_count": 36,
   "metadata": {
    "kernel": "SoS"
   },
   "outputs": [
    {
     "name": "stdout",
     "output_type": "stream",
     "text": [
      "SNP\tCHR\tBP\tGENPOS\tALLELE1\tALLELE0\tA1FREQ\tINFO\tCHISQ_LINREG\tP_LINREG\tBETA\tSE\tCHISQ_BOLT_LMM_INF\tP_BOLT_LMM_INF\tCHISQ_BOLT_LMM\tP_BOLT_LMM\n",
      "\n"
     ]
    }
   ],
   "source": [
    "with open('test') as f:\n",
    "   for line in f:\n",
    "     print(line)\n",
    "     break"
   ]
  },
  {
   "cell_type": "code",
   "execution_count": 39,
   "metadata": {
    "kernel": "SoS"
   },
   "outputs": [
    {
     "name": "stdout",
     "output_type": "stream",
     "text": [
      "SNP\tCHR\tBP\tGENPOS\tALLELE1\tALLELE0\tA1FREQ\tINFO\tCHISQ_LINREG\tP_LINREG\tBETA\tSE\tCHISQ_BOLT_LMM_INF\tP_BOLT_LMM_INF\tCHISQ_BOLT_LMM\tP_BOLT_LMM\n",
      "rs112920234\t10\t60523\t-1.52522e-05\tT\tG\t0.999862\t0.842394\t0.370499\t5.4E-01\t0.661995\t0.865951\t0.584418\t4.4E-01\t0.554502\t4.6E-01\n",
      "rs183305313\t10\t61334\t-1.42418e-05\tG\tA\t0.995398\t0.84669\t0.102032\t7.5E-01\t-0.0383797\t0.0827471\t0.215129\t6.4E-01\t0.134302\t7.1E-01\n",
      "rs568474105\t10\t62010\t-1.33996e-05\tC\tT\t0.999902\t0.851176\t0.900704\t3.4E-01\t0.982192\t0.983597\t0.997145\t3.2E-01\t0.938148\t3.3E-01\n",
      "rs12260013\t10\t66326\t-8.02231e-06\tA\tG\t0.972944\t0.818375\t1.46592\t2.3E-01\t-0.0665433\t0.0351432\t3.5853\t5.8E-02\t3.33519\t6.8E-02\n",
      "rs9943471\t10\t67774\t-6.21826e-06\tG\tC\t0.232007\t0.802191\t0.259476\t6.1E-01\t-0.000381117\t0.0136921\t0.000774777\t9.8E-01\t0.00906096\t9.2E-01\n",
      "rs35418599\t10\t69083\t-4.58738e-06\tC\tT\t0.259546\t0.801306\t0.328697\t5.7E-01\t0.00287088\t0.0132044\t0.0472709\t8.3E-01\t0.0851378\t7.7E-01\n",
      "rs61838967\t10\t71776\t-1.23219e-06\tT\tC\t0.187996\t0.853084\t0.248485\t6.2E-01\t0.00343529\t0.0143574\t0.0572496\t8.1E-01\t0.0786273\t7.8E-01\n",
      "rs61838972\t10\t74656\t2.35599e-06\tC\tG\t0.651013\t0.865791\t0.717456\t4.0E-01\t0.00668326\t0.0116979\t0.326407\t5.7E-01\t0.496286\t4.8E-01\n",
      "rs140638708\t10\t75794\t3.77381e-06\tG\tT\t0.678836\t0.844939\t0.605565\t4.4E-01\t-0.00795234\t0.0120953\t0.432271\t5.1E-01\t0.463252\t5.0E-01\n"
     ]
    }
   ],
   "source": [
    "N = 10\n",
    "with open(\"test\") as file:  # the a opens it in append mode\n",
    "    for i in range(N):\n",
    "        line = next(file).strip()\n",
    "        print(line)"
   ]
  },
  {
   "cell_type": "code",
   "execution_count": 42,
   "metadata": {
    "kernel": "SoS"
   },
   "outputs": [
    {
     "data": {
      "text/plain": [
       "16107521"
      ]
     },
     "execution_count": 42,
     "metadata": {},
     "output_type": "execute_result"
    }
   ],
   "source": [
    "sum(1 for i in open('test', 'r'))"
   ]
  },
  {
   "cell_type": "code",
   "execution_count": null,
   "metadata": {
    "kernel": "SoS"
   },
   "outputs": [],
   "source": []
  }
 ],
 "metadata": {
  "kernelspec": {
   "display_name": "SoS",
   "language": "sos",
   "name": "sos"
  },
  "language_info": {
   "codemirror_mode": "sos",
   "file_extension": ".sos",
   "mimetype": "text/x-sos",
   "name": "sos",
   "nbconvert_exporter": "sos_notebook.converter.SoS_Exporter",
   "pygments_lexer": "sos"
  },
  "sos": {
   "kernels": [
    [
     "R",
     "ir",
     "R",
     "#DCDCDA",
     "r"
    ],
    [
     "SoS",
     "sos",
     "",
     "",
     "sos"
    ]
   ],
   "version": "0.21.7"
  }
 },
 "nbformat": 4,
 "nbformat_minor": 4
}
