{
 "cells": [
  {
   "cell_type": "markdown",
   "metadata": {
    "kernel": "SoS"
   },
   "source": [
    "## Data analysis\n",
    "https://www.r-graph-gallery.com/101_Manhattan_plot.html"
   ]
  },
  {
   "cell_type": "code",
   "execution_count": null,
   "metadata": {
    "kernel": "SoS"
   },
   "outputs": [],
   "source": [
    "[global]\n",
    "# Working directory\n",
    "parameter: out_dir = path('/home/dc2325/results/pleiotropy/2020-04_bolt/BMI/')\n",
    "#Output merged summary stats file\n",
    "parameter: name = 'BMI_summary_stats.txt'\n",
    "#Ouput Manhattan plot\n",
    "parameter: manhattan= 'BMI_manhattan'"
   ]
  },
  {
   "cell_type": "markdown",
   "metadata": {
    "kernel": "SoS"
   },
   "source": [
    "Merge summary stats files using python"
   ]
  },
  {
   "cell_type": "code",
   "execution_count": null,
   "metadata": {
    "kernel": "SoS"
   },
   "outputs": [],
   "source": [
    "[step_1 (convert)]\n",
    "#The stats file contains all the summary statistics derived from the association analysis in BOLT\n",
    "output: f'{out_dir}/{name}.gz'\n",
    "python: expand=True\n",
    "    import glob\n",
    "    file_list = [f for f in glob.glob(\"*.snp_stats.bgen.gz\")]\n",
    "    with open('{_output}',\"w\") as outfile:\n",
    "        with open(file_list[0]) as f1:\n",
    "            for line in f1:        #keep the header from file1\n",
    "            outfile.write(line)\n",
    "\n",
    "        for x in file_list[1:]:\n",
    "            with open(x) as f1:\n",
    "                for line in f1:\n",
    "                    if not line.startswith(\"SNP\"):\n",
    "                        outfile.write(line)"
   ]
  },
  {
   "cell_type": "markdown",
   "metadata": {
    "kernel": "SoS"
   },
   "source": [
    "First of all set the working directory. This is where the BOLT-LMM association results are located."
   ]
  },
  {
   "cell_type": "code",
   "execution_count": null,
   "metadata": {
    "kernel": "SoS"
   },
   "outputs": [],
   "source": [
    "[step_2 (plot)]\n",
    "output: f'{out_dir}/{manhattan}'\n",
    "R: expand=True\n",
    "    install.packages(\"qqman\")\n",
    "    library(qqman)\n",
    "    summary_gz=gzfile('{_name}.gz','rt')\n",
    "    df=read.table('{_name}', header=TRUE,sep = ' ')\n",
    "    png('{_manhattan}.png', width = 6, height = 4, unit='in', res=300)\n",
    "    bmi_manhattan <- manhattan(df, chr='CHR', bp='BP', snp='SNP', p='P')\n",
    "    dev.off()"
   ]
  },
  {
   "cell_type": "markdown",
   "metadata": {
    "kernel": "R"
   },
   "source": [
    "Install and load required libraries"
   ]
  },
  {
   "cell_type": "code",
   "execution_count": null,
   "metadata": {
    "kernel": "R"
   },
   "outputs": [],
   "source": [
    "#install.packages(\"reader\")\n",
    "#intall.packages(\"plyr\")\n",
    "#install.packages(\"ggplot2\")\n",
    "#library(readr)\n",
    "#library(plyr)\n",
    "#library(ggplot2)"
   ]
  },
  {
   "cell_type": "markdown",
   "metadata": {
    "kernel": "R"
   },
   "source": [
    "Then create a list of files to be combined using R. In this case the summary statistics for the association analysis and then create the dataset by binding files from chr{1:22}. The drawback is that R runs out of memory when doing this"
   ]
  },
  {
   "cell_type": "code",
   "execution_count": null,
   "metadata": {
    "kernel": "R"
   },
   "outputs": [],
   "source": [
    "#file_list = Sys.glob(\"*.snp_stats.bgen.gz\") #one way of creating lists\n",
    "#file_list = list.files(path=mydir, pattern=\"*.snp_stats.bgen.gz\", full.names=TRUE) #another way of creating lists\n",
    "#data.list = lapply(file_list, function(x){read.table(file = x,header = TRUE, sep = \"\\t\")})\n",
    "#data.merged = do.call(\"rbind\", data.list"
   ]
  },
  {
   "cell_type": "markdown",
   "metadata": {
    "kernel": "R"
   },
   "source": [
    "## Drawing the Manhattan Plot"
   ]
  },
  {
   "cell_type": "code",
   "execution_count": null,
   "metadata": {
    "kernel": "R"
   },
   "outputs": [],
   "source": [
    "\n",
    "# Let's highlight them, with a bit of customization on the plot\n",
    "#manhattan(gwasResults, highlight = snpsOfInterest)\n",
    "#Annotate the SNPs of interest\n",
    "#manhattan(gwasResults, annotatePval = 0.01)\n",
    "#Make a qqplot\n",
    "#qq(gwasResults$P)"
   ]
  }
 ],
 "metadata": {
  "kernelspec": {
   "display_name": "SoS",
   "language": "sos",
   "name": "sos"
  },
  "language_info": {
   "codemirror_mode": "sos",
   "file_extension": ".sos",
   "mimetype": "text/x-sos",
   "name": "sos",
   "nbconvert_exporter": "sos_notebook.converter.SoS_Exporter",
   "pygments_lexer": "sos"
  },
  "sos": {
   "kernels": [
    [
     "R",
     "ir",
     "R",
     "#DCDCDA",
     "r"
    ],
    [
     "SoS",
     "sos",
     "",
     "",
     "sos"
    ]
   ],
   "version": "0.21.7"
  }
 },
 "nbformat": 4,
 "nbformat_minor": 4
}
