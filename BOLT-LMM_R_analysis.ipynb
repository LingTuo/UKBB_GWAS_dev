{
 "cells": [
  {
   "cell_type": "markdown",
   "metadata": {
    "kernel": "SoS"
   },
   "source": [
    "## Data analysis\n",
    "https://www.r-graph-gallery.com/101_Manhattan_plot.html"
   ]
  },
  {
   "cell_type": "markdown",
   "metadata": {
    "kernel": "SoS"
   },
   "source": [
    "## Running sos notebook\n",
    "\n",
    "On the Yale Farnam cluster,\n",
    "\n",
    "\n",
    "On a local computer with for example 8 threads,\n",
    "\n",
    "```\n",
    "sos run BOLT-LMM_R_analysis_UKB.ipynb -q none -j 8\n",
    "```\n"
   ]
  },
  {
   "cell_type": "code",
   "execution_count": 91,
   "metadata": {
    "kernel": "SoS"
   },
   "outputs": [],
   "source": [
    "[global]\n",
    "# Working directory\n",
    "parameter: cwd = path('~/results/pleiotropy/2020-04_bolt/INT-BMI/')\n",
    "#Input individuals summary stats file\n",
    "parameter: input_pattern = '*.snp_stats.gz'\n",
    "import glob\n",
    "input_file = sorted(glob.glob(input_pattern))\n",
    "fail_if(len(input_file) == 0, msg = f\"Input pattern ``{input_pattern}`` failed to match any files.\")\n",
    "#Output merged summary stats file\n",
    "parameter: summary_stats_file = 'INT-BMI.txt'"
   ]
  },
  {
   "cell_type": "markdown",
   "metadata": {
    "kernel": "SoS"
   },
   "source": [
    "## Merging summary stats for all chromosomes"
   ]
  },
  {
   "cell_type": "code",
   "execution_count": 92,
   "metadata": {
    "kernel": "SoS"
   },
   "outputs": [],
   "source": [
    "[step_1]\n",
    "input: input_file\n",
    "output: f'{cwd}/{summary_stats_file}.gz'\n",
    "python: expand=True\n",
    "    import gzip\n",
    "    with gzip.open ('{_output}', 'wt') as outfile:\n",
    "        with gzip.open({_input[0]:r}) as f:\n",
    "            for line in f:\n",
    "                outfile.write(line.decode('utf-8'))\n",
    "            for files in [{_input:r,}][1:]:\n",
    "                with gzip.open(files) as f:\n",
    "                    for line in f:\n",
    "                        if not line.startswith(b'SNP'):\n",
    "                            outfile.write(line.decode('utf-8'))\n",
    "    sum(1 for i in gzip.open('{_output}', 'r'))"
   ]
  },
  {
   "cell_type": "markdown",
   "metadata": {
    "kernel": "SoS"
   },
   "source": [
    "## Creating the Manhattan and Q-Q plots"
   ]
  },
  {
   "cell_type": "code",
   "execution_count": 89,
   "metadata": {
    "kernel": "SoS"
   },
   "outputs": [],
   "source": [
    "[step_2]\n",
    "input: output_from('step_1')\n",
    "output: f'{cwd}/{_input:bnn}.manhattan.png', f'{cwd}/{_input:bnn}.qqplot.png'\n",
    "task: trunk_workers = 1, trunk_size = job_size, walltime = '12h', mem = '60G', tags = f'{step_name}_{_output:bn}'\n",
    "R: expand=True\n",
    "    if (!require('qqman')) install.packages('qqman'); library('qqman')\n",
    "    INTBMI_data <- read.table(gzfile('{_input}'), header=T)\n",
    "    png('{_output[0]}', width = 6, height = 4, unit='in', res=300)\n",
    "    bmi_manhattan <- manhattan(INTBMI_data, chr='CHR', bp='BP', snp='SNP', p='P_BOLT_LMM', main = \"INT-BMI Manhattan Plot\", ylim = c(0, 250), cex = 0.6, \n",
    "    cex.axis = 0.9, col = c(\"blue4\", \"orange3\"), suggestiveline = T, genomewideline = T, chrlabs = c(1:22))\n",
    "    dev.off()\n",
    "    png('{_output[1]}', width = 6, height = 4, unit='in', res=300)\n",
    "    qq_plot <- qq(INTBMI_data$P_BOLT_LMM, main = \"INT-BMI Q-Q plot of Bolt-LMM p-values\", xlim = c(0, 8), ylim = c(0, 300), pch = 18, col = \"blue4\", cex = 1.5, las = 1)\n",
    "    dev.off()"
   ]
  },
  {
   "cell_type": "markdown",
   "metadata": {
    "kernel": "SoS"
   },
   "source": [
    "Awk to find the minimum and maximum values in a specific column"
   ]
  },
  {
   "cell_type": "code",
   "execution_count": null,
   "metadata": {
    "kernel": "SoS"
   },
   "outputs": [],
   "source": [
    "#awk '(NR==1){Min=$3;Max=$3};(NR>=3){if(Min>$3) Min=$3;if(Max<$3) Max=$3} END {printf \"The Min is %d ,Max is %d\",Min,Max}' ukb_mfi_chr1_v3.txt"
   ]
  },
  {
   "cell_type": "markdown",
   "metadata": {
    "kernel": "SoS"
   },
   "source": [
    "Show the lowest p-values"
   ]
  },
  {
   "cell_type": "code",
   "execution_count": null,
   "metadata": {
    "kernel": "SoS"
   },
   "outputs": [],
   "source": [
    "#gzcat Test_INT-BMI.txt.gz | awk -F \"\\t\" '{ if ($16 <= 5e-8) { print } }'| sort -g | head -n 5"
   ]
  },
  {
   "cell_type": "markdown",
   "metadata": {
    "kernel": "SoS"
   },
   "source": [
    "To find the overlapping variants between dataset 1 and dataset 2"
   ]
  },
  {
   "cell_type": "code",
   "execution_count": null,
   "metadata": {
    "kernel": "Bash"
   },
   "outputs": [],
   "source": [
    "awk 'NR==FNR {FILE1[$1]=$0; next} ($1 in FILE1) {print $0}' dataset2 dataset1 > dataset1_subset_overlapping_dataset2"
   ]
  },
  {
   "cell_type": "markdown",
   "metadata": {
    "kernel": "Bash"
   },
   "source": [
    "## PLINK v1.9 LD-clumping\n",
    "To perform p-value informed LD clumping in PLINK. \n",
    "In this procedure only the most significant SNP (i.e. lowest p-value) in a LD block is identified and used for further analysis. This reduces the correlation between the remaining SNPs while retaining SNPs with the strongest statistical evidence. \n",
    "This is done to identify a subset of independent SNPs in the dataset"
   ]
  },
  {
   "cell_type": "markdown",
   "metadata": {
    "kernel": "Bash"
   },
   "source": [
    "**Questions:**\n",
    "\n",
    "1. Which reference dataset to use? Options are 1000G_CEU, hapmap_CEU_r23a_filtered, UK10K, HRC reference panel\n",
    "FIXME: if the SNPs are not in the reference panel they won't be outputed as index SNPs\n",
    "2. What is the significance threshold for the index variant (p1) we should use for the analyses? p=5e-08\n",
    "3. What significance threshold to use for the SNPs to be clumped? p=1 (this will include all the SNPs)\n",
    "4. What LD r2 to use? r2=0.5\n",
    "5. What window size in kb to use (research about the average LD in the human genome for CEU population)? I decided to use 1Mb (1000Kb)\n",
    "\n",
    "Below the default options used by PLINK\n",
    "\n",
    "```\n",
    "--clump-p1 0.0001: significance threshold for Index SNPs\n",
    "--clump-p2 0.01: Secondary significance threshold for clumped SNPs\n",
    "--clump-r2 0.50: LD threshold for clumping\n",
    "--clump-kb 250: Physical distance threshold for clumping\n",
    "--clump-field P_BOLT_LMM: To specify the name of the field for P-value\n",
    "--clump-verbose: to add a more detailed report of SNPs in each clump\n",
    "--clump-best: to select the single best proxy\n",
    "```"
   ]
  },
  {
   "cell_type": "code",
   "execution_count": null,
   "metadata": {
    "kernel": "Bash"
   },
   "outputs": [],
   "source": [
    "plink \\\n",
    "--noweb \\\n",
    "--bfile ~/pleiotropy_UKB/data/1000G_20101123_v3_GIANT_chr1_23_minimacnamesifnotRS_CEU_MAF0.01 \\\n",
    "--clump ~/pleiotropy_UKB/data/Test_INT-BMI.txt.gz \\\n",
    "--clump-field P_BOLT_LMM \\\n",
    "--clump-p1 5e-08 \\\n",
    "--clump-p2 1 \\\n",
    "--clump-r2 0.5 \\\n",
    "--clump-kb 1000 \\\n",
    "--clump-allow-overlap \\\n",
    "--clump-best \\\n",
    "--out Test_INT-BMI.txt"
   ]
  },
  {
   "cell_type": "code",
   "execution_count": null,
   "metadata": {
    "kernel": "Bash"
   },
   "outputs": [],
   "source": [
    "plink \\\n",
    "--noweb \\\n",
    "--bfile /SAY/dbgapstg/scratch/UKBiobank/genotype_files/pleiotropy_geneticfiles/UKB_Caucasians_phenotypeindepqc120319_updated020720removedwithdrawnindiv \\\n",
    "--clump /home/dc2325/results/pleiotropy/2020-04_bolt/INT-BMI/Test_INT-BMI.txt.gz \\\n",
    "--clump-field P_BOLT_LMM \\\n",
    "--clump-p1 5e-08 \\\n",
    "--clump-p2 1 \\\n",
    "--clump-r2 0.5 \\\n",
    "--clump-kb 1000 \\\n",
    "--clump-allow-overlap \\\n",
    "--clump-best \\\n",
    "--out Test_INT-BMI.txt"
   ]
  },
  {
   "cell_type": "markdown",
   "metadata": {
    "kernel": "Bash"
   },
   "source": [
    "The output file .clumped will contain the index SNPs for each LD block in column 3. To extract this column and create a vector to use for highlighting in the Manhattan Plot"
   ]
  },
  {
   "cell_type": "code",
   "execution_count": null,
   "metadata": {
    "kernel": "Bash"
   },
   "outputs": [],
   "source": [
    "awk '{ print $3 }' \\\n",
    "Test_INT-BMI.txt.clumped \\\n",
    "> dataset1_subset_overlapping_dataset2_clump1.SNPs"
   ]
  },
  {
   "cell_type": "markdown",
   "metadata": {
    "kernel": "SoS"
   },
   "source": [
    "Filtering `.bgen` files using qctool2"
   ]
  },
  {
   "cell_type": "markdown",
   "metadata": {
    "kernel": "SoS"
   },
   "source": [
    "```\n",
    "qctool -g ukb_imp_chr1_v3.bgen -og subset_ukb_imp_chr1_v3.bgen -s ukb32285_imputedindiv.sample -incl-range 1:10177-20000 -incl-samples samples.txt\n",
    "```"
   ]
  },
  {
   "cell_type": "markdown",
   "metadata": {
    "kernel": "R"
   },
   "source": [
    "Then create a list of files to be combined using R. In this case the summary statistics for the association analysis and then create the dataset by binding files from chr{1:22}. The drawback is that R runs out of memory when doing this"
   ]
  },
  {
   "cell_type": "markdown",
   "metadata": {
    "kernel": "R",
    "tags": []
   },
   "source": [
    "```\n",
    "#install.packages(\"reader\")\n",
    "#intall.packages(\"plyr\")\n",
    "#install.packages(\"ggplot2\")\n",
    "#library(readr)\n",
    "#library(plyr)\n",
    "#library(ggplot2)\n",
    "#file_list = Sys.glob(\"*.snp_stats.bgen.gz\") #one way of creating lists\n",
    "#file_list = list.files(path=mydir, pattern=\"*.snp_stats.bgen.gz\", full.names=TRUE) #another way of creating lists\n",
    "#data.list = lapply(file_list, function(x){read.table(file = x,header = TRUE, sep = \"\\t\")})\n",
    "#data.merged = do.call(\"rbind\", data.list\n",
    "```"
   ]
  },
  {
   "cell_type": "code",
   "execution_count": null,
   "metadata": {
    "kernel": "SoS"
   },
   "outputs": [],
   "source": []
  }
 ],
 "metadata": {
  "kernelspec": {
   "display_name": "SoS",
   "language": "sos",
   "name": "sos"
  },
  "language_info": {
   "codemirror_mode": "sos",
   "file_extension": ".sos",
   "mimetype": "text/x-sos",
   "name": "sos",
   "nbconvert_exporter": "sos_notebook.converter.SoS_Exporter",
   "pygments_lexer": "sos"
  },
  "sos": {
   "kernels": [
    [
     "Bash",
     "bash",
     "Bash",
     "#E6EEFF",
     ""
    ],
    [
     "SoS",
     "sos",
     "",
     "",
     "sos"
    ]
   ],
   "version": "0.21.7"
  }
 },
 "nbformat": 4,
 "nbformat_minor": 4
}
