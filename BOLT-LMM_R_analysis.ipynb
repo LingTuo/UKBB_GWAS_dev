{
 "cells": [
  {
   "cell_type": "markdown",
   "metadata": {
    "kernel": "SoS"
   },
   "source": [
    "## Data analysis\n",
    "https://www.r-graph-gallery.com/101_Manhattan_plot.html"
   ]
  },
  {
   "cell_type": "code",
   "execution_count": 1,
   "metadata": {
    "kernel": "R"
   },
   "outputs": [
    {
     "ename": "ERROR",
     "evalue": "Error in parse(text = x, srcfile = src): <text>:27:1: unexpected symbol\n26: dataset <- do.call(\"rbind\",lapply(file_list\n27: FUN\n    ^\n",
     "output_type": "error",
     "traceback": [
      "Error in parse(text = x, srcfile = src): <text>:27:1: unexpected symbol\n26: dataset <- do.call(\"rbind\",lapply(file_list\n27: FUN\n    ^\nTraceback:\n"
     ]
    }
   ],
   "source": [
    "install.packages(\"qqman\")\n",
    "library(qqman)\n",
    "\n",
    "setwd(\"target_dir/\")\n",
    " \n",
    "file_list <- list.files()\n",
    " \n",
    "for (file in file_list){\n",
    "       \n",
    "  # if the merged dataset doesn't exist, create it\n",
    "  if (!exists(\"dataset\")){\n",
    "    dataset <- read.table(file, header=TRUE, sep=\"\\t\")\n",
    "  }\n",
    "   \n",
    "  # if the merged dataset does exist, append to it\n",
    "  if (exists(\"dataset\")){\n",
    "    temp_dataset <-read.table(file, header=TRUE, sep=\"\\t\")\n",
    "    dataset<-rbind(dataset, temp_dataset)\n",
    "    rm(temp_dataset)\n",
    "  }\n",
    " \n",
    "}\n",
    "\n",
    "#another way to merge files\n",
    "\n",
    "dataset <- do.call(\"rbind\",lapply(file_list\n",
    "FUN=function(files){read.table(files,\n",
    "header=TRUE, sep=\"\\t\")}))\n",
    "\n",
    "\n",
    "manhattan(gwasResults, chr=\"CHR\", bp=\"BP\", snp=\"SNP\", p=\"P\" )\n",
    "\n",
    "# Let's highlight them, with a bit of customization on the plot\n",
    "manhattan(gwasResults, highlight = snpsOfInterest)\n",
    "#Annotate the SNPs of interest\n",
    "manhattan(gwasResults, annotatePval = 0.01)\n",
    "#Make a qqplot\n",
    "qq(gwasResults$P)"
   ]
  },
  {
   "cell_type": "code",
   "execution_count": null,
   "metadata": {
    "kernel": "R"
   },
   "outputs": [],
   "source": []
  }
 ],
 "metadata": {
  "kernelspec": {
   "display_name": "SoS",
   "language": "sos",
   "name": "sos"
  },
  "language_info": {
   "codemirror_mode": "sos",
   "file_extension": ".sos",
   "mimetype": "text/x-sos",
   "name": "sos",
   "nbconvert_exporter": "sos_notebook.converter.SoS_Exporter",
   "pygments_lexer": "sos"
  },
  "sos": {
   "kernels": [
    [
     "R",
     "ir",
     "R",
     "#DCDCDA",
     ""
    ]
   ],
   "version": "0.21.7"
  }
 },
 "nbformat": 4,
 "nbformat_minor": 4
}
