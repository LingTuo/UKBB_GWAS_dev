{
 "cells": [
  {
   "cell_type": "markdown",
   "metadata": {
    "kernel": "SoS"
   },
   "source": [
    "## Data analysis\n",
    "https://www.r-graph-gallery.com/101_Manhattan_plot.html"
   ]
  },
  {
   "cell_type": "markdown",
   "metadata": {
    "kernel": "SoS"
   },
   "source": [
    "## Running sos notebook\n",
    "\n",
    "On the Yale Farnam cluster,\n",
    "\n",
    "\n",
    "On a local computer with for example 8 threads,\n",
    "\n",
    "```\n",
    "sos run BOLT-LMM_R_analysis_UKB.ipynb -q none -j 8\n",
    "```\n"
   ]
  },
  {
   "cell_type": "code",
   "execution_count": 85,
   "metadata": {
    "kernel": "SoS"
   },
   "outputs": [],
   "source": [
    "[global]\n",
    "# Working directory\n",
    "parameter: cwd = path('~/pleiotropy_UKB/data')\n",
    "#Input individuals summary stats file\n",
    "parameter: input_pattern = 'chr?.gz'\n",
    "import glob\n",
    "input_file = sorted(glob.glob(input_pattern))\n",
    "fail_if(len(input_file) == 0, msg = f\"Input pattern ``{input_pattern}`` failed to match any files.\")\n",
    "#Output merged summary stats file\n",
    "parameter: output_file = 'summary_stats.txt'\n",
    "#Ouput Manhattan plot\n",
    "parameter: manhattan= 'INT-BMI_manhattan'"
   ]
  },
  {
   "cell_type": "markdown",
   "metadata": {
    "kernel": "SoS"
   },
   "source": [
    "## Merging summary stats for all chromosomes"
   ]
  },
  {
   "cell_type": "code",
   "execution_count": 86,
   "metadata": {
    "kernel": "SoS"
   },
   "outputs": [],
   "source": [
    "[step1]\n",
    "input: input_file\n",
    "output: f'{output_file}.gz'\n",
    "python: expand=True\n",
    "import gzip\n",
    "with gzip.open ('{_output}', 'wt') as outfile:\n",
    "    with gzip.open({_input[0]:r}) as f:\n",
    "        for line in f:\n",
    "            outfile.write(line.decode('utf-8'))\n",
    "        for files in [{_input:r,}][1:]:\n",
    "            with gzip.open(files) as f:\n",
    "                for line in f:\n",
    "                    if not line.startswith(b'SNP'):\n",
    "                        outfile.write(line.decode('utf-8'))"
   ]
  },
  {
   "cell_type": "code",
   "execution_count": null,
   "metadata": {
    "kernel": "SoS"
   },
   "outputs": [],
   "source": [
    "sum(1 for i in open('test.txt', 'r'))"
   ]
  },
  {
   "cell_type": "markdown",
   "metadata": {
    "kernel": "SoS"
   },
   "source": [
    "## Creating the Q-Q plot and Manhattan plots"
   ]
  },
  {
   "cell_type": "code",
   "execution_count": 84,
   "metadata": {
    "kernel": "SoS"
   },
   "outputs": [],
   "source": [
    "[step2]\n",
    "input: output_file\n",
    "output: manhattan\n",
    "bash: expand = \"${ }\", workdir = cwd\n",
    "R: expand=True\n",
    "    install.packages(\"qqman\")\n",
    "    library(qqman)\n",
    "    summary_gz=gzfile('{_name}.gz','rt')\n",
    "    df=read.table('{_name}', header=TRUE,sep = ' ')\n",
    "    png('{_manhattan}.png', width = 6, height = 4, unit='in', res=300)\n",
    "    bmi_manhattan <- manhattan(df, chr='CHR', bp='BP', snp='SNP', p='P')\n",
    "    dev.off()\n",
    "\n"
   ]
  },
  {
   "cell_type": "markdown",
   "metadata": {
    "kernel": "R"
   },
   "source": [
    "Install and load required libraries"
   ]
  },
  {
   "cell_type": "code",
   "execution_count": null,
   "metadata": {
    "kernel": "R"
   },
   "outputs": [],
   "source": [
    "#install.packages(\"reader\")\n",
    "#intall.packages(\"plyr\")\n",
    "#install.packages(\"ggplot2\")\n",
    "#library(readr)\n",
    "#library(plyr)\n",
    "#library(ggplot2)"
   ]
  },
  {
   "cell_type": "markdown",
   "metadata": {
    "kernel": "R"
   },
   "source": [
    "Then create a list of files to be combined using R. In this case the summary statistics for the association analysis and then create the dataset by binding files from chr{1:22}. The drawback is that R runs out of memory when doing this"
   ]
  },
  {
   "cell_type": "code",
   "execution_count": null,
   "metadata": {
    "kernel": "R"
   },
   "outputs": [],
   "source": [
    "#file_list = Sys.glob(\"*.snp_stats.bgen.gz\") #one way of creating lists\n",
    "#file_list = list.files(path=mydir, pattern=\"*.snp_stats.bgen.gz\", full.names=TRUE) #another way of creating lists\n",
    "#data.list = lapply(file_list, function(x){read.table(file = x,header = TRUE, sep = \"\\t\")})\n",
    "#data.merged = do.call(\"rbind\", data.list"
   ]
  },
  {
   "cell_type": "markdown",
   "metadata": {
    "kernel": "R"
   },
   "source": [
    "## Drawing the Manhattan Plot"
   ]
  },
  {
   "cell_type": "code",
   "execution_count": null,
   "metadata": {
    "kernel": "R"
   },
   "outputs": [],
   "source": [
    "\n",
    "# Let's highlight them, with a bit of customization on the plot\n",
    "#manhattan(gwasResults, highlight = snpsOfInterest)\n",
    "#Annotate the SNPs of interest\n",
    "#manhattan(gwasResults, annotatePval = 0.01)\n",
    "#Make a qqplot\n",
    "#qq(gwasResults$P)"
   ]
  }
 ],
 "metadata": {
  "kernelspec": {
   "display_name": "SoS",
   "language": "sos",
   "name": "sos"
  },
  "language_info": {
   "codemirror_mode": "sos",
   "file_extension": ".sos",
   "mimetype": "text/x-sos",
   "name": "sos",
   "nbconvert_exporter": "sos_notebook.converter.SoS_Exporter",
   "pygments_lexer": "sos"
  },
  "sos": {
   "kernels": [
    [
     "R",
     "ir",
     "R",
     "#DCDCDA",
     "r"
    ],
    [
     "SoS",
     "sos",
     "",
     "",
     "sos"
    ]
   ],
   "version": "0.21.7"
  }
 },
 "nbformat": 4,
 "nbformat_minor": 4
}
