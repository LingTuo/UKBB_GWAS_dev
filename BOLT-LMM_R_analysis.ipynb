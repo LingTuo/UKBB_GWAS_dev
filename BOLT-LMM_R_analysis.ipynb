{
 "cells": [
  {
   "cell_type": "markdown",
   "metadata": {
    "kernel": "SoS"
   },
   "source": [
    "## Data analysis\n",
    "https://www.r-graph-gallery.com/101_Manhattan_plot.html"
   ]
  },
  {
   "cell_type": "markdown",
   "metadata": {
    "kernel": "SoS"
   },
   "source": [
    "## Running sos notebook\n",
    "\n",
    "On the Yale Farnam cluster,\n",
    "\n",
    "\n",
    "On a local computer with for example 8 threads,\n",
    "\n",
    "```\n",
    "sos run BOLT-LMM_R_analysis_UKB.ipynb -q none -j 8\n",
    "```\n"
   ]
  },
  {
   "cell_type": "code",
   "execution_count": 87,
   "metadata": {
    "kernel": "SoS"
   },
   "outputs": [],
   "source": [
    "[global]\n",
    "# Working directory\n",
    "parameter: cwd = path('~/pleiotropy_UKB/data')\n",
    "#Input individuals summary stats file\n",
    "parameter: input_pattern = '*.snp_stats.gz'\n",
    "import glob\n",
    "input_file = sorted(glob.glob(input_pattern))\n",
    "fail_if(len(input_file) == 0, msg = f\"Input pattern ``{input_pattern}`` failed to match any files.\")\n",
    "#Output merged summary stats file\n",
    "parameter: summary_stats_file = 'Test_INT-BMI.txt'"
   ]
  },
  {
   "cell_type": "markdown",
   "metadata": {
    "kernel": "SoS"
   },
   "source": [
    "## Merging summary stats for all chromosomes"
   ]
  },
  {
   "cell_type": "code",
   "execution_count": 88,
   "metadata": {
    "kernel": "SoS"
   },
   "outputs": [],
   "source": [
    "[step_1]\n",
    "input: input_file\n",
    "output: f'{cwd}/{summary_stats_file}.gz'\n",
    "python: expand=True\n",
    "import gzip\n",
    "with gzip.open ('{_output}', 'wt') as outfile:\n",
    "    with gzip.open({_input[0]:r}) as f:\n",
    "        for line in f:\n",
    "            outfile.write(line.decode('utf-8'))\n",
    "        for files in [{_input:r,}][1:]:\n",
    "            with gzip.open(files) as f:\n",
    "                for line in f:\n",
    "                    if not line.startswith(b'SNP'):\n",
    "                        outfile.write(line.decode('utf-8'))\n",
    "\n",
    "sum(1 for i in gzip.open('{_output}', 'r'))"
   ]
  },
  {
   "cell_type": "markdown",
   "metadata": {
    "kernel": "SoS"
   },
   "source": [
    "## Creating the Manhattan plot"
   ]
  },
  {
   "cell_type": "code",
   "execution_count": 89,
   "metadata": {
    "kernel": "SoS"
   },
   "outputs": [],
   "source": [
    "[step_2]\n",
    "input: output_from('step_1')\n",
    "output: f'{cwd}/{_input:bnn}.manhattan.png'\n",
    "R: expand=True\n",
    "\n",
    "    packages<-function(x){ x<-as.character(match.call()[[2]])\n",
    "      if (!require(x,character.only=TRUE)){\n",
    "        install.packages(pkgs=x,repos=\"http://cran.r-project.org\")\n",
    "        require(x,character.only=TRUE)\n",
    "      }\n",
    "    }\n",
    "    packages(qqman)\n",
    "    library(qqman)\n",
    "    INTBMI_data <- read.table(gzfile({_input}), header=T)\n",
    "    png({_output}, width = 6, height = 4, unit='in', res=300)\n",
    "    bmi_manhattan <- manhattan(INTBMI_data, chr='CHR', bp='BP', snp='SNP', p='P_BOLT_LMM')\n",
    "    dev.off()"
   ]
  },
  {
   "cell_type": "markdown",
   "metadata": {
    "kernel": "SoS"
   },
   "source": [
    "Awk to find the minimum and maximun values in a specific column"
   ]
  },
  {
   "cell_type": "code",
   "execution_count": null,
   "metadata": {
    "kernel": "SoS"
   },
   "outputs": [],
   "source": [
    "awk '(NR==1){Min=$3;Max=$3};(NR>=3){if(Min>$3) Min=$3;if(Max<$3) Max=$3} END {printf \"The Min is %d ,Max is %d\",Min,Max}' ukb_mfi_chr1_v3.txt"
   ]
  },
  {
   "cell_type": "markdown",
   "metadata": {
    "kernel": "SoS"
   },
   "source": [
    "Filtering `.bgen` files using qctool2"
   ]
  },
  {
   "cell_type": "markdown",
   "metadata": {
    "kernel": "SoS"
   },
   "source": [
    "```\n",
    "qctool -g ukb_imp_chr1_v3.bgen -og subset_ukb_imp_chr1_v3.bgen -s ukb32285_imputedindiv.sample -incl-range 1:10177-20000 -incl-samples samples.txt\n",
    "```"
   ]
  },
  {
   "cell_type": "markdown",
   "metadata": {
    "kernel": "R"
   },
   "source": [
    "Then create a list of files to be combined using R. In this case the summary statistics for the association analysis and then create the dataset by binding files from chr{1:22}. The drawback is that R runs out of memory when doing this"
   ]
  },
  {
   "cell_type": "code",
   "execution_count": null,
   "metadata": {
    "kernel": "R",
    "tags": []
   },
   "outputs": [],
   "source": [
    "#install.packages(\"reader\")\n",
    "#intall.packages(\"plyr\")\n",
    "#install.packages(\"ggplot2\")\n",
    "#library(readr)\n",
    "#library(plyr)\n",
    "#library(ggplot2)\n",
    "#file_list = Sys.glob(\"*.snp_stats.bgen.gz\") #one way of creating lists\n",
    "#file_list = list.files(path=mydir, pattern=\"*.snp_stats.bgen.gz\", full.names=TRUE) #another way of creating lists\n",
    "#data.list = lapply(file_list, function(x){read.table(file = x,header = TRUE, sep = \"\\t\")})\n",
    "#data.merged = do.call(\"rbind\", data.list"
   ]
  }
 ],
 "metadata": {
  "kernelspec": {
   "display_name": "SoS",
   "language": "sos",
   "name": "sos"
  },
  "language_info": {
   "codemirror_mode": "sos",
   "file_extension": ".sos",
   "mimetype": "text/x-sos",
   "name": "sos",
   "nbconvert_exporter": "sos_notebook.converter.SoS_Exporter",
   "pygments_lexer": "sos"
  },
  "sos": {
   "kernels": [
    [
     "R",
     "ir",
     "R",
     "#DCDCDA",
     "r"
    ],
    [
     "SoS",
     "sos",
     "",
     "",
     "sos"
    ]
   ],
   "version": "0.21.7"
  }
 },
 "nbformat": 4,
 "nbformat_minor": 4
}
