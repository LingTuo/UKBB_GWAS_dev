{
 "cells": [
  {
   "cell_type": "markdown",
   "metadata": {
    "kernel": "SoS"
   },
   "source": [
    "## Data analysis\n",
    "https://www.r-graph-gallery.com/101_Manhattan_plot.html"
   ]
  },
  {
   "cell_type": "code",
   "execution_count": null,
   "metadata": {
    "kernel": "SoS"
   },
   "outputs": [],
   "source": [
    "[global]\n",
    "# Working directory\n",
    "parameter: cwd = path('~/results/pleiotropy/2020-04_bolt/')\n",
    "#Output merged summary stats file\n",
    "parameter: out_file = 'summary_stats.txt'\n"
   ]
  },
  {
   "cell_type": "markdown",
   "metadata": {
    "kernel": "SoS"
   },
   "source": [
    "Merge summary stats files using python"
   ]
  },
  {
   "cell_type": "code",
   "execution_count": null,
   "metadata": {
    "kernel": "Python3"
   },
   "outputs": [],
   "source": [
    "import glob\n",
    "file_list = [f for f in glob.glob(\"*.snp_stats.bgen.gz\")]"
   ]
  },
  {
   "cell_type": "code",
   "execution_count": null,
   "metadata": {
    "kernel": "Python3"
   },
   "outputs": [],
   "source": [
    "with open(${cwd}/${out_file}, 'w') as outfile:\n",
    "    for fname in file_list:\n",
    "        with gzip.open(fname, 'rb') as infile:\n",
    "            for line in infile:\n",
    "                outfile.write(line)"
   ]
  },
  {
   "cell_type": "code",
   "execution_count": null,
   "metadata": {
    "kernel": "Python3"
   },
   "outputs": [],
   "source": []
  },
  {
   "cell_type": "markdown",
   "metadata": {
    "kernel": "SoS"
   },
   "source": [
    "First of all set the working directory. This is where the BOLT-LMM association results are located."
   ]
  },
  {
   "cell_type": "code",
   "execution_count": null,
   "metadata": {
    "kernel": "R"
   },
   "outputs": [],
   "source": [
    "#setwd(${cwd})"
   ]
  },
  {
   "cell_type": "code",
   "execution_count": null,
   "metadata": {
    "kernel": "R"
   },
   "outputs": [],
   "source": [
    "#mydir = \"BMI\""
   ]
  },
  {
   "cell_type": "markdown",
   "metadata": {
    "kernel": "R"
   },
   "source": [
    "Install and load required libraries"
   ]
  },
  {
   "cell_type": "code",
   "execution_count": null,
   "metadata": {
    "kernel": "R"
   },
   "outputs": [],
   "source": [
    "#install.packages(\"reader\")\n",
    "#intall.packages(\"plyr\")\n",
    "#library(readr)\n",
    "#library(plyr)"
   ]
  },
  {
   "cell_type": "markdown",
   "metadata": {
    "kernel": "R"
   },
   "source": [
    "Then create a list of files to be combined. In this case the summary statistics for the association analysis."
   ]
  },
  {
   "cell_type": "code",
   "execution_count": null,
   "metadata": {
    "kernel": "R"
   },
   "outputs": [],
   "source": [
    "#file_list = Sys.glob(\"*.snp_stats.bgen.gz\") #one way of creating lists"
   ]
  },
  {
   "cell_type": "code",
   "execution_count": null,
   "metadata": {
    "kernel": "R"
   },
   "outputs": [],
   "source": [
    "#file_list = list.files(path=mydir, pattern=\"*.snp_stats.bgen.gz\", full.names=TRUE) #another way of creating lists"
   ]
  },
  {
   "cell_type": "markdown",
   "metadata": {
    "kernel": "R"
   },
   "source": [
    "Now create the dataset by binding files from chr{1:22}"
   ]
  },
  {
   "cell_type": "code",
   "execution_count": null,
   "metadata": {
    "kernel": "R"
   },
   "outputs": [],
   "source": [
    "#data.list = lapply(file_list, function(x){read.table(file = x,header = TRUE, sep = \"\\t\")})\n",
    "#data.merged = do.call(\"rbind\", data.list)"
   ]
  },
  {
   "cell_type": "code",
   "execution_count": null,
   "metadata": {
    "kernel": "R"
   },
   "outputs": [],
   "source": [
    "#manhattan(gwasResults, chr=\"CHR\", bp=\"BP\", snp=\"SNP\", p=\"P\" )\n",
    "\n",
    "# Let's highlight them, with a bit of customization on the plot\n",
    "#manhattan(gwasResults, highlight = snpsOfInterest)\n",
    "#Annotate the SNPs of interest\n",
    "#manhattan(gwasResults, annotatePval = 0.01)\n",
    "#Make a qqplot\n",
    "#qq(gwasResults$P)"
   ]
  },
  {
   "cell_type": "code",
   "execution_count": null,
   "metadata": {
    "kernel": "R"
   },
   "outputs": [],
   "source": []
  }
 ],
 "metadata": {
  "kernelspec": {
   "display_name": "SoS",
   "language": "sos",
   "name": "sos"
  },
  "language_info": {
   "codemirror_mode": "sos",
   "file_extension": ".sos",
   "mimetype": "text/x-sos",
   "name": "sos",
   "nbconvert_exporter": "sos_notebook.converter.SoS_Exporter",
   "pygments_lexer": "sos"
  },
  "sos": {
   "kernels": [
    [
     "Python3",
     "python3",
     "Python3",
     "#FFD91A",
     ""
    ],
    [
     "R",
     "ir",
     "R",
     "#DCDCDA",
     ""
    ],
    [
     "SoS",
     "sos",
     "",
     "",
     "sos"
    ]
   ],
   "version": "0.21.7"
  }
 },
 "nbformat": 4,
 "nbformat_minor": 4
}
