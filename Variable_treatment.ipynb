{
 "cells": [
  {
   "cell_type": "markdown",
   "metadata": {
    "kernel": "SoS"
   },
   "source": [
    "### Distribution of quantitative traits, qq-plots, standadization and inverse rank normalization"
   ]
  },
  {
   "cell_type": "markdown",
   "metadata": {
    "kernel": "SoS"
   },
   "source": [
    "For this step I made a copy of the file `UKB_caucasians_BMIwaisthip_AsthmaAndT2D_withagesex_033120` to my local directory `/home/dc2325/phenotypes_UKB`"
   ]
  },
  {
   "cell_type": "markdown",
   "metadata": {
    "kernel": "SoS"
   },
   "source": [
    "Then start R, install and load the required packages"
   ]
  },
  {
   "cell_type": "code",
   "execution_count": null,
   "metadata": {
    "kernel": "R"
   },
   "outputs": [],
   "source": [
    "install.packages(\"ggplot2\")\n",
    "install.packages(\"RNOmni\")\n",
    "install.packages(\"ggpubr\")\n",
    "library(ggpubr)\n",
    "library(RNOmni)\n",
    "library(ggplot2)"
   ]
  },
  {
   "cell_type": "code",
   "execution_count": 3,
   "metadata": {
    "kernel": "Markdown"
   },
   "outputs": [
    {
     "data": {
      "text/markdown": [
       "Evaluate the distribution of quantitative traits via histograms and QQ plots\n"
      ]
     },
     "metadata": {},
     "output_type": "display_data",
     "source": "markdown"
    }
   ],
   "source": [
    "Evaluate the distribution of quantitative traits via histograms and QQ plots"
   ]
  },
  {
   "cell_type": "code",
   "execution_count": null,
   "metadata": {
    "kernel": "R"
   },
   "outputs": [],
   "source": [
    "# Clean any existing variables for safety\n",
    "rm(list=ls())\n",
    "\n",
    "# Set the working directory\n",
    "setwd(\"~/phenotypes_UKB\")\n",
    "\n",
    "# Read in the data, in this case space delimited\n",
    "\n",
    "df <- read.table(\"UKB_caucasians_BMIwaisthip_AsthmaAndT2D_withagesex_033120\", header=TRUE,sep = \" \", dec = \".\")\n",
    "\n",
    "# list the first 5 and list 5 rows of the data\n",
    "head(df,5) \n",
    "tail(df,5)\n",
    "\n",
    "# summary of contents\n",
    "attributes(df) \n",
    "\n",
    "#another way to view the data\n",
    "glimpse(df)\n",
    "\n",
    "# Display some summary statistics of the data\n",
    "summary(df) \n",
    "\n",
    "# Display the structure of the data frame\n",
    "str(df) \n",
    "\n",
    "# Make sure your data is a data frame\n",
    "class(df)\n",
    "\n",
    "# Check for missing values in each variable or in the whole dataset\n",
    "is.na(df$BMI)\n",
    "colSums(is.na(df))\n",
    "\n",
    "# Make an histogram using ggplot2 for the quantitative traits in UKB\n",
    "# BMI, waist circumference, hip circumference, and waist to hip ratio\n",
    "\n",
    "bmi_plot_density = ggplot(df, aes(x=BMI)) + \n",
    "  geom_histogram(aes(y=..density..), binwidth=1, color=\"black\", fill=\"white\") +\n",
    "  scale_color_grey() + scale_fill_grey() +\n",
    "  scale_x_continuous(breaks=seq(10,70,10))  +\n",
    "  labs(title=\"Histogram for BMI\", x=\"BMI\") +\n",
    "  theme_classic()\n",
    "png(\"Density_plot_BMI_UKB_Caucasian.png\", width = 6, height = 4, unit=\"in\", res=300)\n",
    "print(bmi_plot_density)\n",
    "dev.off()\n",
    "\n",
    "waist_plot_density = ggplot(df, aes(x=WAIST)) + \n",
    "  geom_histogram(aes(y=..density..), binwidth=2, color=\"black\", fill=\"white\")+\n",
    "  scale_color_grey() + scale_fill_grey() +\n",
    "  scale_x_continuous(breaks=seq(50,200,50)) +\n",
    "  labs(title=\"Histogram for waist circumference\", x=\"waist circumference\") +\n",
    "  theme_classic()\n",
    "png(\"Density_plot_waist_circumference_UKB_Caucasian.png\", width = 6, height = 4, unit=\"in\", res=300)\n",
    "print(waist_plot_density)\n",
    "dev.off()\n",
    "\n",
    "hip_plot_density = ggplot(df, aes(x=HIP)) + \n",
    "  geom_histogram(aes(y=..density..), binwidth=2, color=\"black\", fill=\"white\")+\n",
    "  scale_color_grey() + scale_fill_grey() +\n",
    "  scale_x_continuous(breaks=seq(50,200,50)) +\n",
    "  scale_y_continuous(breaks=seq(0,0.05,0.01)) +\n",
    "  labs(title=\"Histogram for hip circumference\", x=\"hip circumference\") +\n",
    "  theme_classic()\n",
    "png(\"Density_plot_hip_circumference_UKB_Caucasian.png\", width = 6, height = 4, unit=\"in\", res=300)\n",
    "print(hip_plot_density)\n",
    "dev.off()\n",
    "\n",
    "# Calculate waist to hip ratio and append to data frame\n",
    "\n",
    "WHR = (df$WAIST/df$HIP)\n",
    "df$WHR = WHR\n",
    "\n",
    "# Plot density histogram for waist-to-hip ratio\n",
    "\n",
    "whr_plot_density = ggplot(df, aes(x=WHR)) + \n",
    "  geom_histogram(aes(y=..density..), binwidth = 0.05, color=\"black\", fill=\"white\")+\n",
    "  scale_color_grey() + scale_fill_grey() +\n",
    "  labs(title=\"Histogram for waist-to-hip ratio\", x=\"WHR\") +\n",
    "  theme_classic()\n",
    "png(\"Density_plot_whr_UKB_Caucasian.png\", width = 6, height = 4, unit=\"in\", res=300)\n",
    "print(whr_plot_density)\n",
    "dev.off()\n",
    "\n",
    "# Make the qqplots with ggpubr\n",
    "\n",
    "bmi_qqplot = ggqqplot(df$BMI, title=\"QQ plot BMI UKB Caucasian\")\n",
    "png(\"QQplot_BMI_UKB_Caucasian.png\", width = 6, height = 4, unit=\"in\", res=300)\n",
    "print(bmi_qqplot)\n",
    "dev.off()\n",
    "\n",
    "waist_circum_qqplot = ggqqplot(df$WAIST, title=\"QQ plot Waist circumference UKB Caucasian\" )\n",
    "png(\"QQplot_WAIST_UKB_Caucasian.png\", width = 6, height = 4, unit=\"in\", res=300)\n",
    "print(waist_circum_qqplot)\n",
    "dev.off()\n",
    "\n",
    "hip_circum_qqplot = ggqqplot(df$HIP, title=\"QQ plot Hip circumference UKB Caucasian\")\n",
    "png(\"QQplot_HIP_UKB_Caucasian.png\", width = 6, height = 4, unit=\"in\", res=300)\n",
    "print(hip_circum_qqplot)\n",
    "dev.off()\n",
    "\n",
    "whr_qqplot = ggqqplot(df$WHR, title=\"QQ plot Waist to hip ratio UKB Caucasian\")\n",
    "png(\"QQplot_WHR_UKB_Caucasian.png\", width = 6, height = 4, unit=\"in\", res=300)\n",
    "print(whr_qqplot)\n",
    "dev.off()\n",
    "\n",
    "# Perform inverse rank normalization for traits with non-normal distribution (e.x BMI)\n",
    "# For this the RNOmni command requires the removal of missing obervations\n",
    "\n",
    "# Create a data frame with complete cases for BMI\n",
    "df_complete_BMI = df[complete.cases(df$BMI), ]\n",
    "\n",
    "# Make sure you did the right thing\n",
    "colSums(is.na(df_complete_BMI)) \n",
    "\n",
    "# Now apply rank-based inverse normalization (INT) using library(RNOmni) and append new variable\n",
    "\n",
    "df_complete_BMI$rankNorm_BMI = rankNorm(df_complete_BMI$BMI)\n",
    "\n",
    "# Make the corresponding graphs to visualize the data\n",
    "\n",
    "INT_BMI_density_plot = ggplot(df_complete_BMI, aes(x=rankNorm_BMI)) + \n",
    "  geom_histogram(aes(y=..density..), \n",
    "                 col=\"black\", \n",
    "                 fill=\"white\", \n",
    "                 alpha = .2) + \n",
    "  labs(title=\"Density plot for INT-BMI\", x=\"rankNorm_BMI\") + \n",
    "  theme_classic()\n",
    "png(\"Density_plot_INT-BMI_UKB_Caucasian.png\", width = 6, height = 4, unit=\"in\", res=300)\n",
    "print(INT_BMI_density_plot)\n",
    "dev.off()\n",
    "    \n",
    "INT_BMI_qqplot = ggplot(df_complete_BMI,aes(sample=rankNorm_BMI)) + \n",
    "  stat_qq() +\n",
    "  labs(title=\"QQ plot for INT-BMI UKB-EUR\")+\n",
    "  theme_classic()\n",
    "png(\"QQplot_INT-BMI_UKB_Caucasian.png\", width = 6, height = 4, unit=\"in\", res=300)\n",
    "print(INT_BMI_qqplot)\n",
    "dev.off()\n",
    "\n",
    "# Write new dataframe to a space delimited file\n",
    "\n",
    "write.table(df_complete_BMI, file = \"UKB_caucasians_BMIwaisthip_AsthmaAndT2D_INT-BMI_withagesex_041720\", append = FALSE, sep = \" \", dec = \".\",\n",
    "            row.names = FALSE, col.names = TRUE, quote=FALSE)"
   ]
  }
 ],
 "metadata": {
  "kernelspec": {
   "display_name": "SoS",
   "language": "sos",
   "name": "sos"
  },
  "language_info": {
   "codemirror_mode": "sos",
   "file_extension": ".sos",
   "mimetype": "text/x-sos",
   "name": "sos",
   "nbconvert_exporter": "sos_notebook.converter.SoS_Exporter",
   "pygments_lexer": "sos"
  },
  "sos": {
   "kernels": [
    [
     "Markdown",
     "markdown",
     "markdown",
     "",
     ""
    ],
    [
     "R",
     "ir",
     "R",
     "#DCDCDA",
     "r"
    ]
   ],
   "version": "0.21.7"
  }
 },
 "nbformat": 4,
 "nbformat_minor": 4
}
